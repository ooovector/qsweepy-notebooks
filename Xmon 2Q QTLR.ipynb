{
 "cells": [
  {
   "cell_type": "markdown",
   "metadata": {},
   "source": [
    "### Запуск QtLab"
   ]
  },
  {
   "cell_type": "code",
   "execution_count": 1,
   "metadata": {
    "scrolled": true
   },
   "outputs": [
    {
     "name": "stdout",
     "output_type": "stream",
     "text": [
      "Failed loading module Signal_Hound_SA:  [WinError 126] The specified module could not be found\n"
     ]
    }
   ],
   "source": [
    "%run D:\\qtlab_replacement\\init.py\n",
    "%matplotlib qt5\n",
    "import setup_logging\n",
    "import matplotlib.pyplot as plt\n",
    "from instruments import *\n",
    "import numpy as np\n",
    "import sweep\n",
    "from save_pkl import *\n",
    "from matplotlib import interactive\n",
    "interactive(True)\n",
    "import os\n",
    "import matplotlib.patches as plm"
   ]
  },
  {
   "cell_type": "markdown",
   "metadata": {},
   "source": [
    "# Спектроскопия"
   ]
  },
  {
   "cell_type": "code",
   "execution_count": 2,
   "metadata": {
    "collapsed": true
   },
   "outputs": [],
   "source": [
    "pna = Agilent_N5242A('pna', address = 'TCPIP0::10.20.61.48::inst0::INSTR')\n",
    "lo1 = Agilent_E8257D('lo1', address = 'TCPIP0::10.20.61.59::inst0::INSTR')"
   ]
  },
  {
   "cell_type": "code",
   "execution_count": 3,
   "metadata": {
    "collapsed": true
   },
   "outputs": [],
   "source": [
    "#current_src1 = Yokogawa_GS210(address = 'GPIB0::1::INSTR')\n",
    "#current_src2 = Yokogawa_GS210(address = 'GPIB0::2::INSTR')\n",
    "current_src = Yokogawa_GS210(address = 'GPIB0::2::INSTR')"
   ]
  },
  {
   "cell_type": "code",
   "execution_count": 4,
   "metadata": {},
   "outputs": [
    {
     "ename": "TypeError",
     "evalue": "__init__() takes 1 positional argument but 2 were given",
     "output_type": "error",
     "traceback": [
      "\u001b[1;31m---------------------------------------------------------------------------\u001b[0m",
      "\u001b[1;31mTypeError\u001b[0m                                 Traceback (most recent call last)",
      "\u001b[1;32m<ipython-input-4-85e61b57e4e4>\u001b[0m in \u001b[0;36m<module>\u001b[1;34m()\u001b[0m\n\u001b[1;32m----> 1\u001b[1;33m \u001b[0mdac\u001b[0m \u001b[1;33m=\u001b[0m \u001b[0mnndac\u001b[0m\u001b[1;33m(\u001b[0m\u001b[1;34m'TCPIP0::10.20.61.12::1000::SOCKET'\u001b[0m\u001b[1;33m)\u001b[0m\u001b[1;33m\u001b[0m\u001b[0m\n\u001b[0m",
      "\u001b[1;31mTypeError\u001b[0m: __init__() takes 1 positional argument but 2 were given"
     ]
    }
   ],
   "source": [
    "dac = nndac('TCPIP0::10.20.61.12::1000::SOCKET')"
   ]
  },
  {
   "cell_type": "code",
   "execution_count": 119,
   "metadata": {},
   "outputs": [
    {
     "data": {
      "text/plain": [
       "True"
      ]
     },
     "execution_count": 119,
     "metadata": {},
     "output_type": "execute_result"
    }
   ],
   "source": [
    "# векторный анализатор в режим линейного свипа\n",
    "pna.set_sweep_mode(\"LIN\")\n"
   ]
  },
  {
   "cell_type": "code",
   "execution_count": 4,
   "metadata": {},
   "outputs": [
    {
     "name": "stderr",
     "output_type": "stream",
     "text": [
      "root: WARNING  Tektronix_AWG5014 : get all not yet fully functional\n"
     ]
    }
   ],
   "source": [
    "#if not ('pna' in locals()): pna = Agilent_N5242A('pna', address = 'PNA')\n",
    "#if not ('lo1' in locals()): lo1 = Agilent_E8257D('lo1', address = 'PSG1')\n",
    "sa = Agilent_N9030A('pxa', address = 'TCPIP0::10.20.61.56::inst0::INSTR')\n",
    "#sa = Signal_Hound_SA(name='SA124', serial=61660066)\n",
    "#lo_ex = Labbrick(name='lo_ex', serial=15249)\n",
    "lo_ex = lo1\n",
    "lo_ro = pna\n",
    "#lo_ro = Labbrick(name='lo_ro', serial=15257)\n",
    "awg_tek= Tektronix_AWG5014('awg_tek', address = 'TCPIP0::10.20.61.186::inst0::INSTR')\n",
    "\n",
    "#CHASSIS = 1\n",
    "#SLOT_IN = 16\n",
    "#SLOT_OUT = 7\n",
    "#awg = Keysight_M3202A('awg', CHASSIS, SLOT_OUT)\n",
    "#adc = Keysight_M3102A('adc', CHASSIS, SLOT_IN)\n",
    "#awg_adc = \n"
   ]
  },
  {
   "cell_type": "markdown",
   "metadata": {},
   "source": [
    "## Резонаторная спектроскопия"
   ]
  },
  {
   "cell_type": "markdown",
   "metadata": {},
   "source": [
    "### Одномерный скан при фиксированном токе "
   ]
  },
  {
   "cell_type": "code",
   "execution_count": 136,
   "metadata": {},
   "outputs": [
    {
     "data": {
      "text/plain": [
       "True"
      ]
     },
     "execution_count": 136,
     "metadata": {},
     "output_type": "execute_result"
    }
   ],
   "source": [
    "lo1.set_status(0)"
   ]
  },
  {
   "cell_type": "code",
   "execution_count": 138,
   "metadata": {},
   "outputs": [
    {
     "data": {
      "text/plain": [
       "[<matplotlib.lines.Line2D at 0x11534a60828>]"
      ]
     },
     "execution_count": 138,
     "metadata": {},
     "output_type": "execute_result"
    }
   ],
   "source": [
    "pna.set_nop(501)\n",
    "pna.set_xlim(6.4e9,6.5e9)\n",
    "pna.set_power(-40)\n",
    "pna.set_bandwidth(100)\n",
    "s21=pna.get_tracedata()\n",
    "fr=pna.get_freqpoints()\n",
    "plt.figure(1)\n",
    "plt.plot(fr[:len(fr)],s21[0])\n",
    "plt.figure(2)\n",
    "plt.plot(fr[:len(fr)-1],np.diff( np.unwrap(s21[1])))"
   ]
  },
  {
   "cell_type": "code",
   "execution_count": 27,
   "metadata": {},
   "outputs": [
    {
     "data": {
      "text/plain": [
       "1"
      ]
     },
     "execution_count": 27,
     "metadata": {},
     "output_type": "execute_result"
    }
   ],
   "source": [
    "qubit_id"
   ]
  },
  {
   "cell_type": "code",
   "execution_count": 5,
   "metadata": {
    "collapsed": true
   },
   "outputs": [],
   "source": [
    "qubit_params = {4: {'Fr': 6.890e9,\n",
    "                    'F01_max': 7.45e9,\n",
    "                    'Iw_q1c':-0.5e-3},#1.699e-3},\n",
    "                    #'Iw_q2c':-0.26e-3},\n",
    "                1: {'Fr': 6.4225e9,  \n",
    "                    'F01_max': 7.9509e9, \n",
    "                    'Iw_q1c':0.0e-3},\n",
    "                2: {'Fr': 6.4225e9,  \n",
    "                    'F01_max': 7.6975e9, \n",
    "                    'Iw_q1c':0.0e-3},\n",
    "                11: {'Fr': 6.423e9,  \n",
    "                    'F01_max': 7.8312e9, \n",
    "                    'Iw_q1c':0.0e-3},}\n",
    "qubit_id=1"
   ]
  },
  {
   "cell_type": "code",
   "execution_count": 9,
   "metadata": {},
   "outputs": [
    {
     "data": {
      "text/plain": [
       "True"
      ]
     },
     "execution_count": 9,
     "metadata": {},
     "output_type": "execute_result"
    }
   ],
   "source": [
    "lo_ex.set_status(1)"
   ]
  },
  {
   "cell_type": "code",
   "execution_count": 11,
   "metadata": {
    "collapsed": true
   },
   "outputs": [],
   "source": [
    "# когда спектроскопия не рабтает и всё плохо, тыкай сюды!\n",
    "# вектнй анлизатр цепей - в режим свипа по частоте\n",
    "pna.set_sweep_mode(\"LIN\")\n",
    "# смесители - открыть\n",
    "#awg_tek = awg\n",
    "#for channel in range(0,4):\n",
    "for channel in range(1,3):\n",
    "    awg_tek.set_amplitude(0.15, channel=channel)\n",
    "    awg_tek.set_offset(0.15, channel=channel)\n",
    "    awg_tek.set_waveform([0]*awg_tek.get_nop(), channel=channel)\n",
    "    awg_tek.set_output(1, channel=channel)\n",
    "\n",
    "for channel in range(3,5):\n",
    "    awg_tek.set_amplitude(0.3, channel=channel)\n",
    "    awg_tek.set_offset(0.3, channel=channel)\n",
    "    awg_tek.set_waveform([0]*awg_tek.get_nop(), channel=channel)\n",
    "    awg_tek.set_output(1, channel=channel)\n",
    "#     \n",
    "# Задаём постояннmtые смещения на каналы 1 и 3\n",
    "#awg_tek.set_waveform([0]*awg_tek.get_nop(), channel=1)\n",
    "#awg_tek.set_waveform([0]*awg_tek.get_nop(), channel=2)\n",
    "#awg_tek.set_waveform([0]*awg_tek.get_nop(), channel=3)\n",
    "#awg_tek.set_waveform([0]*awg_tek.get_nop(), channel=4)"
   ]
  },
  {
   "cell_type": "code",
   "execution_count": 43,
   "metadata": {},
   "outputs": [
    {
     "data": {
      "text/plain": [
       "<function instrument.Instrument.add_parameter.<locals>.<lambda>>"
      ]
     },
     "execution_count": 43,
     "metadata": {},
     "output_type": "execute_result"
    }
   ],
   "source": [
    "pna.set_xlim(6e9, 8e9)\n",
    "pna.set_nop(2001)\n",
    "pna.set_power"
   ]
  },
  {
   "cell_type": "code",
   "execution_count": 44,
   "metadata": {
    "collapsed": true
   },
   "outputs": [],
   "source": [
    "resolution_bw=10\n",
    "tone1_power = -40"
   ]
  },
  {
   "cell_type": "code",
   "execution_count": 7,
   "metadata": {
    "collapsed": true
   },
   "outputs": [],
   "source": [
    "def curr(current):\n",
    "    lo1.set_status(0)\n",
    "    pna.set_average(0)\n",
    "    old_power = pna.get_power()\n",
    "    pna.set_power(-25)\n",
    "    pna.set_nop(101)\n",
    "    dfr=0.05e9\n",
    "    \n",
    "    pna.set_xlim(qubit_params[qubit_id]['Fr']-dfr,  qubit_params[qubit_id]['Fr']+dfr)\n",
    "    pna.set_bandwidth(200)\n",
    "    #current_src.set_current(current)\n",
    "    S21   = pna.get_tracedata()\n",
    "    freqs = pna.get_freqpoints()\n",
    "    pna.set_bandwidth(resolution_bw)\n",
    "    pna.set_power(old_power)\n",
    "    pna.set_nop(1)\n",
    "    S21g = np.abs(np.gradient(S21[0]*np.exp(1j*S21[1])))**2\n",
    "    pna.set_xlim(freqs[np.argmin(S21g)]-0.2e6,freqs[np.argmin(S21g)]-0.2e6)\n",
    "    lo1.set_status(1)\n",
    "    #print (freqs[np.argmin(S21g)])\n",
    "    #plt.plot(S21g)"
   ]
  },
  {
   "cell_type": "code",
   "execution_count": 12,
   "metadata": {
    "collapsed": true
   },
   "outputs": [],
   "source": [
    "curr(0)"
   ]
  },
  {
   "cell_type": "code",
   "execution_count": 162,
   "metadata": {},
   "outputs": [
    {
     "name": "stdout",
     "output_type": "stream",
     "text": [
      "Started at:  Jul 02 2018 18:14:00\n",
      "Time left: 0 h 0 m 0.0 s,\tparameter values: Coil current: 0.0008,\taverage cycle time:  3.6s\t, plot_update_time: 0.35s5sss5s\n",
      "Elapsed time: 0 h 12 m 3.35 s\n"
     ]
    },
    {
     "data": {
      "text/plain": [
       "{'S-parameter': (('Coil current', 'Frequency'),\n",
       "  (array([-8.00000000e-04, -7.92000000e-04, -7.84000000e-04, -7.76000000e-04,\n",
       "          -7.68000000e-04, -7.60000000e-04, -7.52000000e-04, -7.44000000e-04,\n",
       "          -7.36000000e-04, -7.28000000e-04, -7.20000000e-04, -7.12000000e-04,\n",
       "          -7.04000000e-04, -6.96000000e-04, -6.88000000e-04, -6.80000000e-04,\n",
       "          -6.72000000e-04, -6.64000000e-04, -6.56000000e-04, -6.48000000e-04,\n",
       "          -6.40000000e-04, -6.32000000e-04, -6.24000000e-04, -6.16000000e-04,\n",
       "          -6.08000000e-04, -6.00000000e-04, -5.92000000e-04, -5.84000000e-04,\n",
       "          -5.76000000e-04, -5.68000000e-04, -5.60000000e-04, -5.52000000e-04,\n",
       "          -5.44000000e-04, -5.36000000e-04, -5.28000000e-04, -5.20000000e-04,\n",
       "          -5.12000000e-04, -5.04000000e-04, -4.96000000e-04, -4.88000000e-04,\n",
       "          -4.80000000e-04, -4.72000000e-04, -4.64000000e-04, -4.56000000e-04,\n",
       "          -4.48000000e-04, -4.40000000e-04, -4.32000000e-04, -4.24000000e-04,\n",
       "          -4.16000000e-04, -4.08000000e-04, -4.00000000e-04, -3.92000000e-04,\n",
       "          -3.84000000e-04, -3.76000000e-04, -3.68000000e-04, -3.60000000e-04,\n",
       "          -3.52000000e-04, -3.44000000e-04, -3.36000000e-04, -3.28000000e-04,\n",
       "          -3.20000000e-04, -3.12000000e-04, -3.04000000e-04, -2.96000000e-04,\n",
       "          -2.88000000e-04, -2.80000000e-04, -2.72000000e-04, -2.64000000e-04,\n",
       "          -2.56000000e-04, -2.48000000e-04, -2.40000000e-04, -2.32000000e-04,\n",
       "          -2.24000000e-04, -2.16000000e-04, -2.08000000e-04, -2.00000000e-04,\n",
       "          -1.92000000e-04, -1.84000000e-04, -1.76000000e-04, -1.68000000e-04,\n",
       "          -1.60000000e-04, -1.52000000e-04, -1.44000000e-04, -1.36000000e-04,\n",
       "          -1.28000000e-04, -1.20000000e-04, -1.12000000e-04, -1.04000000e-04,\n",
       "          -9.60000000e-05, -8.80000000e-05, -8.00000000e-05, -7.20000000e-05,\n",
       "          -6.40000000e-05, -5.60000000e-05, -4.80000000e-05, -4.00000000e-05,\n",
       "          -3.20000000e-05, -2.40000000e-05, -1.60000000e-05, -8.00000000e-06,\n",
       "          -1.08420217e-19,  8.00000000e-06,  1.60000000e-05,  2.40000000e-05,\n",
       "           3.20000000e-05,  4.00000000e-05,  4.80000000e-05,  5.60000000e-05,\n",
       "           6.40000000e-05,  7.20000000e-05,  8.00000000e-05,  8.80000000e-05,\n",
       "           9.60000000e-05,  1.04000000e-04,  1.12000000e-04,  1.20000000e-04,\n",
       "           1.28000000e-04,  1.36000000e-04,  1.44000000e-04,  1.52000000e-04,\n",
       "           1.60000000e-04,  1.68000000e-04,  1.76000000e-04,  1.84000000e-04,\n",
       "           1.92000000e-04,  2.00000000e-04,  2.08000000e-04,  2.16000000e-04,\n",
       "           2.24000000e-04,  2.32000000e-04,  2.40000000e-04,  2.48000000e-04,\n",
       "           2.56000000e-04,  2.64000000e-04,  2.72000000e-04,  2.80000000e-04,\n",
       "           2.88000000e-04,  2.96000000e-04,  3.04000000e-04,  3.12000000e-04,\n",
       "           3.20000000e-04,  3.28000000e-04,  3.36000000e-04,  3.44000000e-04,\n",
       "           3.52000000e-04,  3.60000000e-04,  3.68000000e-04,  3.76000000e-04,\n",
       "           3.84000000e-04,  3.92000000e-04,  4.00000000e-04,  4.08000000e-04,\n",
       "           4.16000000e-04,  4.24000000e-04,  4.32000000e-04,  4.40000000e-04,\n",
       "           4.48000000e-04,  4.56000000e-04,  4.64000000e-04,  4.72000000e-04,\n",
       "           4.80000000e-04,  4.88000000e-04,  4.96000000e-04,  5.04000000e-04,\n",
       "           5.12000000e-04,  5.20000000e-04,  5.28000000e-04,  5.36000000e-04,\n",
       "           5.44000000e-04,  5.52000000e-04,  5.60000000e-04,  5.68000000e-04,\n",
       "           5.76000000e-04,  5.84000000e-04,  5.92000000e-04,  6.00000000e-04,\n",
       "           6.08000000e-04,  6.16000000e-04,  6.24000000e-04,  6.32000000e-04,\n",
       "           6.40000000e-04,  6.48000000e-04,  6.56000000e-04,  6.64000000e-04,\n",
       "           6.72000000e-04,  6.80000000e-04,  6.88000000e-04,  6.96000000e-04,\n",
       "           7.04000000e-04,  7.12000000e-04,  7.20000000e-04,  7.28000000e-04,\n",
       "           7.36000000e-04,  7.44000000e-04,  7.52000000e-04,  7.60000000e-04,\n",
       "           7.68000000e-04,  7.76000000e-04,  7.84000000e-04,  7.92000000e-04,\n",
       "           8.00000000e-04]),\n",
       "   array([6.300e+09, 6.301e+09, 6.302e+09, 6.303e+09, 6.304e+09, 6.305e+09,\n",
       "          6.306e+09, 6.307e+09, 6.308e+09, 6.309e+09, 6.310e+09, 6.311e+09,\n",
       "          6.312e+09, 6.313e+09, 6.314e+09, 6.315e+09, 6.316e+09, 6.317e+09,\n",
       "          6.318e+09, 6.319e+09, 6.320e+09, 6.321e+09, 6.322e+09, 6.323e+09,\n",
       "          6.324e+09, 6.325e+09, 6.326e+09, 6.327e+09, 6.328e+09, 6.329e+09,\n",
       "          6.330e+09, 6.331e+09, 6.332e+09, 6.333e+09, 6.334e+09, 6.335e+09,\n",
       "          6.336e+09, 6.337e+09, 6.338e+09, 6.339e+09, 6.340e+09, 6.341e+09,\n",
       "          6.342e+09, 6.343e+09, 6.344e+09, 6.345e+09, 6.346e+09, 6.347e+09,\n",
       "          6.348e+09, 6.349e+09, 6.350e+09, 6.351e+09, 6.352e+09, 6.353e+09,\n",
       "          6.354e+09, 6.355e+09, 6.356e+09, 6.357e+09, 6.358e+09, 6.359e+09,\n",
       "          6.360e+09, 6.361e+09, 6.362e+09, 6.363e+09, 6.364e+09, 6.365e+09,\n",
       "          6.366e+09, 6.367e+09, 6.368e+09, 6.369e+09, 6.370e+09, 6.371e+09,\n",
       "          6.372e+09, 6.373e+09, 6.374e+09, 6.375e+09, 6.376e+09, 6.377e+09,\n",
       "          6.378e+09, 6.379e+09, 6.380e+09, 6.381e+09, 6.382e+09, 6.383e+09,\n",
       "          6.384e+09, 6.385e+09, 6.386e+09, 6.387e+09, 6.388e+09, 6.389e+09,\n",
       "          6.390e+09, 6.391e+09, 6.392e+09, 6.393e+09, 6.394e+09, 6.395e+09,\n",
       "          6.396e+09, 6.397e+09, 6.398e+09, 6.399e+09, 6.400e+09, 6.401e+09,\n",
       "          6.402e+09, 6.403e+09, 6.404e+09, 6.405e+09, 6.406e+09, 6.407e+09,\n",
       "          6.408e+09, 6.409e+09, 6.410e+09, 6.411e+09, 6.412e+09, 6.413e+09,\n",
       "          6.414e+09, 6.415e+09, 6.416e+09, 6.417e+09, 6.418e+09, 6.419e+09,\n",
       "          6.420e+09, 6.421e+09, 6.422e+09, 6.423e+09, 6.424e+09, 6.425e+09,\n",
       "          6.426e+09, 6.427e+09, 6.428e+09, 6.429e+09, 6.430e+09, 6.431e+09,\n",
       "          6.432e+09, 6.433e+09, 6.434e+09, 6.435e+09, 6.436e+09, 6.437e+09,\n",
       "          6.438e+09, 6.439e+09, 6.440e+09, 6.441e+09, 6.442e+09, 6.443e+09,\n",
       "          6.444e+09, 6.445e+09, 6.446e+09, 6.447e+09, 6.448e+09, 6.449e+09,\n",
       "          6.450e+09, 6.451e+09, 6.452e+09, 6.453e+09, 6.454e+09, 6.455e+09,\n",
       "          6.456e+09, 6.457e+09, 6.458e+09, 6.459e+09, 6.460e+09, 6.461e+09,\n",
       "          6.462e+09, 6.463e+09, 6.464e+09, 6.465e+09, 6.466e+09, 6.467e+09,\n",
       "          6.468e+09, 6.469e+09, 6.470e+09, 6.471e+09, 6.472e+09, 6.473e+09,\n",
       "          6.474e+09, 6.475e+09, 6.476e+09, 6.477e+09, 6.478e+09, 6.479e+09,\n",
       "          6.480e+09, 6.481e+09, 6.482e+09, 6.483e+09, 6.484e+09, 6.485e+09,\n",
       "          6.486e+09, 6.487e+09, 6.488e+09, 6.489e+09, 6.490e+09, 6.491e+09,\n",
       "          6.492e+09, 6.493e+09, 6.494e+09, 6.495e+09, 6.496e+09, 6.497e+09,\n",
       "          6.498e+09, 6.499e+09, 6.500e+09, 6.501e+09, 6.502e+09, 6.503e+09,\n",
       "          6.504e+09, 6.505e+09, 6.506e+09, 6.507e+09, 6.508e+09, 6.509e+09,\n",
       "          6.510e+09, 6.511e+09, 6.512e+09, 6.513e+09, 6.514e+09, 6.515e+09,\n",
       "          6.516e+09, 6.517e+09, 6.518e+09, 6.519e+09, 6.520e+09, 6.521e+09,\n",
       "          6.522e+09, 6.523e+09, 6.524e+09, 6.525e+09, 6.526e+09, 6.527e+09,\n",
       "          6.528e+09, 6.529e+09, 6.530e+09, 6.531e+09, 6.532e+09, 6.533e+09,\n",
       "          6.534e+09, 6.535e+09, 6.536e+09, 6.537e+09, 6.538e+09, 6.539e+09,\n",
       "          6.540e+09, 6.541e+09, 6.542e+09, 6.543e+09, 6.544e+09, 6.545e+09,\n",
       "          6.546e+09, 6.547e+09, 6.548e+09, 6.549e+09, 6.550e+09, 6.551e+09,\n",
       "          6.552e+09, 6.553e+09, 6.554e+09, 6.555e+09, 6.556e+09, 6.557e+09,\n",
       "          6.558e+09, 6.559e+09, 6.560e+09, 6.561e+09, 6.562e+09, 6.563e+09,\n",
       "          6.564e+09, 6.565e+09, 6.566e+09, 6.567e+09, 6.568e+09, 6.569e+09,\n",
       "          6.570e+09, 6.571e+09, 6.572e+09, 6.573e+09, 6.574e+09, 6.575e+09,\n",
       "          6.576e+09, 6.577e+09, 6.578e+09, 6.579e+09, 6.580e+09, 6.581e+09,\n",
       "          6.582e+09, 6.583e+09, 6.584e+09, 6.585e+09, 6.586e+09, 6.587e+09,\n",
       "          6.588e+09, 6.589e+09, 6.590e+09, 6.591e+09, 6.592e+09, 6.593e+09,\n",
       "          6.594e+09, 6.595e+09, 6.596e+09, 6.597e+09, 6.598e+09, 6.599e+09,\n",
       "          6.600e+09, 6.601e+09, 6.602e+09, 6.603e+09, 6.604e+09, 6.605e+09,\n",
       "          6.606e+09, 6.607e+09, 6.608e+09, 6.609e+09, 6.610e+09, 6.611e+09,\n",
       "          6.612e+09, 6.613e+09, 6.614e+09, 6.615e+09, 6.616e+09, 6.617e+09,\n",
       "          6.618e+09, 6.619e+09, 6.620e+09, 6.621e+09, 6.622e+09, 6.623e+09,\n",
       "          6.624e+09, 6.625e+09, 6.626e+09, 6.627e+09, 6.628e+09, 6.629e+09,\n",
       "          6.630e+09, 6.631e+09, 6.632e+09, 6.633e+09, 6.634e+09, 6.635e+09,\n",
       "          6.636e+09, 6.637e+09, 6.638e+09, 6.639e+09, 6.640e+09, 6.641e+09,\n",
       "          6.642e+09, 6.643e+09, 6.644e+09, 6.645e+09, 6.646e+09, 6.647e+09,\n",
       "          6.648e+09, 6.649e+09, 6.650e+09, 6.651e+09, 6.652e+09, 6.653e+09,\n",
       "          6.654e+09, 6.655e+09, 6.656e+09, 6.657e+09, 6.658e+09, 6.659e+09,\n",
       "          6.660e+09, 6.661e+09, 6.662e+09, 6.663e+09, 6.664e+09, 6.665e+09,\n",
       "          6.666e+09, 6.667e+09, 6.668e+09, 6.669e+09, 6.670e+09, 6.671e+09,\n",
       "          6.672e+09, 6.673e+09, 6.674e+09, 6.675e+09, 6.676e+09, 6.677e+09,\n",
       "          6.678e+09, 6.679e+09, 6.680e+09, 6.681e+09, 6.682e+09, 6.683e+09,\n",
       "          6.684e+09, 6.685e+09, 6.686e+09, 6.687e+09, 6.688e+09, 6.689e+09,\n",
       "          6.690e+09, 6.691e+09, 6.692e+09, 6.693e+09, 6.694e+09, 6.695e+09,\n",
       "          6.696e+09, 6.697e+09, 6.698e+09, 6.699e+09, 6.700e+09, 6.701e+09,\n",
       "          6.702e+09, 6.703e+09, 6.704e+09, 6.705e+09, 6.706e+09, 6.707e+09,\n",
       "          6.708e+09, 6.709e+09, 6.710e+09, 6.711e+09, 6.712e+09, 6.713e+09,\n",
       "          6.714e+09, 6.715e+09, 6.716e+09, 6.717e+09, 6.718e+09, 6.719e+09,\n",
       "          6.720e+09, 6.721e+09, 6.722e+09, 6.723e+09, 6.724e+09, 6.725e+09,\n",
       "          6.726e+09, 6.727e+09, 6.728e+09, 6.729e+09, 6.730e+09, 6.731e+09,\n",
       "          6.732e+09, 6.733e+09, 6.734e+09, 6.735e+09, 6.736e+09, 6.737e+09,\n",
       "          6.738e+09, 6.739e+09, 6.740e+09, 6.741e+09, 6.742e+09, 6.743e+09,\n",
       "          6.744e+09, 6.745e+09, 6.746e+09, 6.747e+09, 6.748e+09, 6.749e+09,\n",
       "          6.750e+09, 6.751e+09, 6.752e+09, 6.753e+09, 6.754e+09, 6.755e+09,\n",
       "          6.756e+09, 6.757e+09, 6.758e+09, 6.759e+09, 6.760e+09, 6.761e+09,\n",
       "          6.762e+09, 6.763e+09, 6.764e+09, 6.765e+09, 6.766e+09, 6.767e+09,\n",
       "          6.768e+09, 6.769e+09, 6.770e+09, 6.771e+09, 6.772e+09, 6.773e+09,\n",
       "          6.774e+09, 6.775e+09, 6.776e+09, 6.777e+09, 6.778e+09, 6.779e+09,\n",
       "          6.780e+09, 6.781e+09, 6.782e+09, 6.783e+09, 6.784e+09, 6.785e+09,\n",
       "          6.786e+09, 6.787e+09, 6.788e+09, 6.789e+09, 6.790e+09, 6.791e+09,\n",
       "          6.792e+09, 6.793e+09, 6.794e+09, 6.795e+09, 6.796e+09, 6.797e+09,\n",
       "          6.798e+09, 6.799e+09, 6.800e+09, 6.801e+09, 6.802e+09, 6.803e+09,\n",
       "          6.804e+09, 6.805e+09, 6.806e+09, 6.807e+09, 6.808e+09, 6.809e+09,\n",
       "          6.810e+09, 6.811e+09, 6.812e+09, 6.813e+09, 6.814e+09, 6.815e+09,\n",
       "          6.816e+09, 6.817e+09, 6.818e+09, 6.819e+09, 6.820e+09, 6.821e+09,\n",
       "          6.822e+09, 6.823e+09, 6.824e+09, 6.825e+09, 6.826e+09, 6.827e+09,\n",
       "          6.828e+09, 6.829e+09, 6.830e+09, 6.831e+09, 6.832e+09, 6.833e+09,\n",
       "          6.834e+09, 6.835e+09, 6.836e+09, 6.837e+09, 6.838e+09, 6.839e+09,\n",
       "          6.840e+09, 6.841e+09, 6.842e+09, 6.843e+09, 6.844e+09, 6.845e+09,\n",
       "          6.846e+09, 6.847e+09, 6.848e+09, 6.849e+09, 6.850e+09, 6.851e+09,\n",
       "          6.852e+09, 6.853e+09, 6.854e+09, 6.855e+09, 6.856e+09, 6.857e+09,\n",
       "          6.858e+09, 6.859e+09, 6.860e+09, 6.861e+09, 6.862e+09, 6.863e+09,\n",
       "          6.864e+09, 6.865e+09, 6.866e+09, 6.867e+09, 6.868e+09, 6.869e+09,\n",
       "          6.870e+09, 6.871e+09, 6.872e+09, 6.873e+09, 6.874e+09, 6.875e+09,\n",
       "          6.876e+09, 6.877e+09, 6.878e+09, 6.879e+09, 6.880e+09, 6.881e+09,\n",
       "          6.882e+09, 6.883e+09, 6.884e+09, 6.885e+09, 6.886e+09, 6.887e+09,\n",
       "          6.888e+09, 6.889e+09, 6.890e+09, 6.891e+09, 6.892e+09, 6.893e+09,\n",
       "          6.894e+09, 6.895e+09, 6.896e+09, 6.897e+09, 6.898e+09, 6.899e+09,\n",
       "          6.900e+09, 6.901e+09, 6.902e+09, 6.903e+09, 6.904e+09, 6.905e+09,\n",
       "          6.906e+09, 6.907e+09, 6.908e+09, 6.909e+09, 6.910e+09, 6.911e+09,\n",
       "          6.912e+09, 6.913e+09, 6.914e+09, 6.915e+09, 6.916e+09, 6.917e+09,\n",
       "          6.918e+09, 6.919e+09, 6.920e+09, 6.921e+09, 6.922e+09, 6.923e+09,\n",
       "          6.924e+09, 6.925e+09, 6.926e+09, 6.927e+09, 6.928e+09, 6.929e+09,\n",
       "          6.930e+09, 6.931e+09, 6.932e+09, 6.933e+09, 6.934e+09, 6.935e+09,\n",
       "          6.936e+09, 6.937e+09, 6.938e+09, 6.939e+09, 6.940e+09, 6.941e+09,\n",
       "          6.942e+09, 6.943e+09, 6.944e+09, 6.945e+09, 6.946e+09, 6.947e+09,\n",
       "          6.948e+09, 6.949e+09, 6.950e+09, 6.951e+09, 6.952e+09, 6.953e+09,\n",
       "          6.954e+09, 6.955e+09, 6.956e+09, 6.957e+09, 6.958e+09, 6.959e+09,\n",
       "          6.960e+09, 6.961e+09, 6.962e+09, 6.963e+09, 6.964e+09, 6.965e+09,\n",
       "          6.966e+09, 6.967e+09, 6.968e+09, 6.969e+09, 6.970e+09, 6.971e+09,\n",
       "          6.972e+09, 6.973e+09, 6.974e+09, 6.975e+09, 6.976e+09, 6.977e+09,\n",
       "          6.978e+09, 6.979e+09, 6.980e+09, 6.981e+09, 6.982e+09, 6.983e+09,\n",
       "          6.984e+09, 6.985e+09, 6.986e+09, 6.987e+09, 6.988e+09, 6.989e+09,\n",
       "          6.990e+09, 6.991e+09, 6.992e+09, 6.993e+09, 6.994e+09, 6.995e+09,\n",
       "          6.996e+09, 6.997e+09, 6.998e+09, 6.999e+09, 7.000e+09])),\n",
       "  array([[-4.22031299e-05+0.00207045j,  5.81727596e-04+0.00191802j,\n",
       "           1.17826951e-03+0.00165947j, ...,  3.27439368e-04+0.00101894j,\n",
       "           6.32731710e-04+0.00081694j,  7.97529065e-04+0.00054916j],\n",
       "         [-1.12211710e-04+0.00201485j,  5.89599134e-04+0.00199746j,\n",
       "           1.15443347e-03+0.00160809j, ...,  3.41221777e-04+0.0009987 j,\n",
       "           6.12237258e-04+0.00085345j,  8.16963613e-04+0.00054114j],\n",
       "         [ 6.89105291e-05+0.00201789j,  6.06081856e-04+0.00193846j,\n",
       "           1.09803642e-03+0.00163091j, ...,  4.32536704e-04+0.00097031j,\n",
       "           5.28469274e-04+0.0008217 j,  6.86471642e-04+0.00052689j],\n",
       "         ...,\n",
       "         [ 2.54713377e-05+0.00203364j,  5.86041308e-04+0.00194165j,\n",
       "           1.09408307e-03+0.00154829j, ...,  2.98073748e-04+0.00099593j,\n",
       "           6.14957127e-04+0.00071379j,  7.73618929e-04+0.00058672j],\n",
       "         [ 3.35436926e-05+0.00205564j,  5.52573998e-04+0.00184175j,\n",
       "           1.18260691e-03+0.00164405j, ...,  3.36259342e-04+0.00095039j,\n",
       "           6.25516637e-04+0.00079493j,  6.75232324e-04+0.00058693j],\n",
       "         [-7.76115121e-05+0.00205026j,  5.98983024e-04+0.00188628j,\n",
       "           1.21846620e-03+0.00152926j, ...,  3.16883787e-04+0.00102063j,\n",
       "           5.55858191e-04+0.00078779j,  8.08042125e-04+0.00062356j]]),\n",
       "  {'log': 20},\n",
       "  ('A', 'Hz'))}"
      ]
     },
     "execution_count": 162,
     "metadata": {},
     "output_type": "execute_result"
    }
   ],
   "source": [
    "lo1.set_status(0)\n",
    "current_src.set_status(1)\n",
    "pna.set_power(-25)\n",
    "pna.set_nop(701)\n",
    "pna.set_xlim(6.3e9, 7.0e9)\n",
    "pna.set_bandwidth(200)\n",
    "currents = np.linspace(-0.8e-3, 0.8e-3, 201)\n",
    "sweep.sweep(pna, (currents, current_src.set_current, 'Coil current', 'A'), filename='Xmon 2Q anti')"
   ]
  },
  {
   "cell_type": "markdown",
   "metadata": {},
   "source": [
    "# two-tone 1D"
   ]
  },
  {
   "cell_type": "code",
   "execution_count": 14,
   "metadata": {},
   "outputs": [
    {
     "data": {
      "text/plain": [
       "{'F01_max': 7450000000.0, 'Fr': 6873130000.0, 'Iw_q1c': -0.0005}"
      ]
     },
     "execution_count": 14,
     "metadata": {},
     "output_type": "execute_result"
    }
   ],
   "source": [
    "qubit_params[qubit_id]"
   ]
  },
  {
   "cell_type": "code",
   "execution_count": 175,
   "metadata": {},
   "outputs": [
    {
     "data": {
      "text/plain": [
       "<module 'plotting' from 'D:\\\\qtlab_replacement\\\\scripts\\\\plotting.py'>"
      ]
     },
     "execution_count": 175,
     "metadata": {},
     "output_type": "execute_result"
    }
   ],
   "source": [
    "import imp\n",
    "imp.reload(sweep)\n",
    "imp.reload(plotting)"
   ]
  },
  {
   "cell_type": "code",
   "execution_count": 16,
   "metadata": {
    "scrolled": true
   },
   "outputs": [
    {
     "data": {
      "application/vnd.jupyter.widget-view+json": {
       "model_id": "87144071bb8844bb817f629d9973ce08",
       "version_major": 2,
       "version_minor": 0
      },
      "text/plain": [
       "A Jupyter Widget"
      ]
     },
     "metadata": {},
     "output_type": "display_data"
    },
    {
     "name": "stdout",
     "output_type": "stream",
     "text": [
      "Started at:  Jul 05 2018 14:45:04\n"
     ]
    },
    {
     "name": "stderr",
     "output_type": "stream",
     "text": [
      "C:\\ProgramData\\Anaconda3\\lib\\site-packages\\numpy\\lib\\function_base.py:2169: RuntimeWarning: invalid value encountered in remainder\n",
      "  ddmod = mod(dd + pi, 2*pi) - pi\n",
      "C:\\ProgramData\\Anaconda3\\lib\\site-packages\\numpy\\lib\\function_base.py:2170: RuntimeWarning: invalid value encountered in greater\n",
      "  _nx.copyto(ddmod, pi, where=(ddmod == -pi) & (dd > 0))\n",
      "C:\\ProgramData\\Anaconda3\\lib\\site-packages\\numpy\\lib\\function_base.py:2172: RuntimeWarning: invalid value encountered in less\n",
      "  _nx.copyto(ph_correct, 0, where=abs(dd) < discont)\n"
     ]
    },
    {
     "name": "stdout",
     "output_type": "stream",
     "text": [
      "\n",
      "Elapsed time: 0 h 1 m 38.87 s\n"
     ]
    },
    {
     "data": {
      "text/plain": [
       "True"
      ]
     },
     "execution_count": 16,
     "metadata": {},
     "output_type": "execute_result"
    }
   ],
   "source": [
    "qubit_id=1\n",
    "\n",
    "ro_power = -45\n",
    "ex_power = -15\n",
    "span =500e6\n",
    "step  =1e6\n",
    "\n",
    "#current_src1.set_status(1)\n",
    "#current_src1.set_current(qubit_params[qubit_id]['Iw_q1c'])\n",
    "#curr(qubit_params[qubit_id]['Iw_q1c'])\n",
    "resolution_bw = 10\n",
    "#curr(0.0)\n",
    "\n",
    "lo1.set_status(1)\n",
    "lo1.set_power(ex_power)\n",
    "pna.set_bandwidth(10)\n",
    "\n",
    "pna.set_power(ro_power)\n",
    "\n",
    "pna.set_nop(1)\n",
    "pna.set_centerfreq(qubit_params[qubit_id]['Fr'])\n",
    "\n",
    "#current_src1.set_current(qubit_params[qubit_id]['Iw_q1c'])\n",
    "#set_curr_start(qubit_params[qubit_id]['Iw_q1c'],current_src1)\n",
    "\n",
    "#ex_freqs = qubit_params[qubit_id]['F01_max']+np.arange(-span/2, span/2, step)\n",
    "ex_freqs = np.linspace(7.5e9, 8e9, 501)\n",
    "\n",
    "meas=sweep.sweep(pna, (ex_freqs, lo1.set_frequency, '2nd tone frequency'), \n",
    "                 filename='TwoTone1D_qubit{:d}_ro{:.2f}_ex{:.2f}'.format(qubit_id, ro_power, ex_power))\n",
    "lo1.set_status(0)"
   ]
  },
  {
   "cell_type": "code",
   "execution_count": 13,
   "metadata": {
    "scrolled": true
   },
   "outputs": [
    {
     "data": {
      "application/vnd.jupyter.widget-view+json": {
       "model_id": "51fcbe7e66ee4617966cd02f56df5cc2",
       "version_major": 2,
       "version_minor": 0
      },
      "text/plain": [
       "A Jupyter Widget"
      ]
     },
     "metadata": {},
     "output_type": "display_data"
    },
    {
     "name": "stdout",
     "output_type": "stream",
     "text": [
      "Started at:  Jul 05 2018 14:43:49\n"
     ]
    },
    {
     "name": "stderr",
     "output_type": "stream",
     "text": [
      "Exception in thread Thread-10:\n",
      "Traceback (most recent call last):\n",
      "  File \"C:\\ProgramData\\Anaconda3\\lib\\threading.py\", line 916, in _bootstrap_inner\n",
      "    self.run()\n",
      "  File \"C:\\ProgramData\\Anaconda3\\lib\\threading.py\", line 864, in run\n",
      "    self._target(*self._args, **self._kwargs)\n",
      "  File \"D:\\qtlab_replacement\\scripts\\sweep.py\", line 202, in main_sweep_loop\n",
      "    ascii_file.write(data_to_str(fmt(mpoint_m_flat))+'\\n')\n",
      "ValueError: I/O operation on closed file.\n",
      "\n"
     ]
    },
    {
     "data": {
      "text/plain": [
       "{'S-parameter': (('current_qubit2', '2nd tone frequency'),\n",
       "  (array([ -8.00000000e-04,  -7.60000000e-04,  -7.20000000e-04,\n",
       "           -6.80000000e-04,  -6.40000000e-04,  -6.00000000e-04,\n",
       "           -5.60000000e-04,  -5.20000000e-04,  -4.80000000e-04,\n",
       "           -4.40000000e-04,  -4.00000000e-04,  -3.60000000e-04,\n",
       "           -3.20000000e-04,  -2.80000000e-04,  -2.40000000e-04,\n",
       "           -2.00000000e-04,  -1.60000000e-04,  -1.20000000e-04,\n",
       "           -8.00000000e-05,  -4.00000000e-05,  -1.08420217e-19,\n",
       "            4.00000000e-05,   8.00000000e-05,   1.20000000e-04,\n",
       "            1.60000000e-04,   2.00000000e-04,   2.40000000e-04,\n",
       "            2.80000000e-04,   3.20000000e-04,   3.60000000e-04,\n",
       "            4.00000000e-04,   4.40000000e-04,   4.80000000e-04,\n",
       "            5.20000000e-04,   5.60000000e-04,   6.00000000e-04,\n",
       "            6.40000000e-04,   6.80000000e-04,   7.20000000e-04,\n",
       "            7.60000000e-04]),\n",
       "   array([  7.00000000e+09,   7.00500000e+09,   7.01000000e+09,\n",
       "            7.01500000e+09,   7.02000000e+09,   7.02500000e+09,\n",
       "            7.03000000e+09,   7.03500000e+09,   7.04000000e+09,\n",
       "            7.04500000e+09,   7.05000000e+09,   7.05500000e+09,\n",
       "            7.06000000e+09,   7.06500000e+09,   7.07000000e+09,\n",
       "            7.07500000e+09,   7.08000000e+09,   7.08500000e+09,\n",
       "            7.09000000e+09,   7.09500000e+09,   7.10000000e+09,\n",
       "            7.10500000e+09,   7.11000000e+09,   7.11500000e+09,\n",
       "            7.12000000e+09,   7.12500000e+09,   7.13000000e+09,\n",
       "            7.13500000e+09,   7.14000000e+09,   7.14500000e+09,\n",
       "            7.15000000e+09,   7.15500000e+09,   7.16000000e+09,\n",
       "            7.16500000e+09,   7.17000000e+09,   7.17500000e+09,\n",
       "            7.18000000e+09,   7.18500000e+09,   7.19000000e+09,\n",
       "            7.19500000e+09,   7.20000000e+09,   7.20500000e+09,\n",
       "            7.21000000e+09,   7.21500000e+09,   7.22000000e+09,\n",
       "            7.22500000e+09,   7.23000000e+09,   7.23500000e+09,\n",
       "            7.24000000e+09,   7.24500000e+09,   7.25000000e+09,\n",
       "            7.25500000e+09,   7.26000000e+09,   7.26500000e+09,\n",
       "            7.27000000e+09,   7.27500000e+09,   7.28000000e+09,\n",
       "            7.28500000e+09,   7.29000000e+09,   7.29500000e+09,\n",
       "            7.30000000e+09,   7.30500000e+09,   7.31000000e+09,\n",
       "            7.31500000e+09,   7.32000000e+09,   7.32500000e+09,\n",
       "            7.33000000e+09,   7.33500000e+09,   7.34000000e+09,\n",
       "            7.34500000e+09,   7.35000000e+09,   7.35500000e+09,\n",
       "            7.36000000e+09,   7.36500000e+09,   7.37000000e+09,\n",
       "            7.37500000e+09,   7.38000000e+09,   7.38500000e+09,\n",
       "            7.39000000e+09,   7.39500000e+09,   7.40000000e+09,\n",
       "            7.40500000e+09,   7.41000000e+09,   7.41500000e+09,\n",
       "            7.42000000e+09,   7.42500000e+09,   7.43000000e+09,\n",
       "            7.43500000e+09,   7.44000000e+09,   7.44500000e+09,\n",
       "            7.45000000e+09,   7.45500000e+09,   7.46000000e+09,\n",
       "            7.46500000e+09,   7.47000000e+09,   7.47500000e+09,\n",
       "            7.48000000e+09,   7.48500000e+09,   7.49000000e+09,\n",
       "            7.49500000e+09,   7.50000000e+09,   7.50500000e+09,\n",
       "            7.51000000e+09,   7.51500000e+09,   7.52000000e+09,\n",
       "            7.52500000e+09,   7.53000000e+09,   7.53500000e+09,\n",
       "            7.54000000e+09,   7.54500000e+09,   7.55000000e+09,\n",
       "            7.55500000e+09,   7.56000000e+09,   7.56500000e+09,\n",
       "            7.57000000e+09,   7.57500000e+09,   7.58000000e+09,\n",
       "            7.58500000e+09,   7.59000000e+09,   7.59500000e+09,\n",
       "            7.60000000e+09,   7.60500000e+09,   7.61000000e+09,\n",
       "            7.61500000e+09,   7.62000000e+09,   7.62500000e+09,\n",
       "            7.63000000e+09,   7.63500000e+09,   7.64000000e+09,\n",
       "            7.64500000e+09,   7.65000000e+09,   7.65500000e+09,\n",
       "            7.66000000e+09,   7.66500000e+09,   7.67000000e+09,\n",
       "            7.67500000e+09,   7.68000000e+09,   7.68500000e+09,\n",
       "            7.69000000e+09,   7.69500000e+09,   7.70000000e+09,\n",
       "            7.70500000e+09,   7.71000000e+09,   7.71500000e+09,\n",
       "            7.72000000e+09,   7.72500000e+09,   7.73000000e+09,\n",
       "            7.73500000e+09,   7.74000000e+09,   7.74500000e+09,\n",
       "            7.75000000e+09,   7.75500000e+09,   7.76000000e+09,\n",
       "            7.76500000e+09,   7.77000000e+09,   7.77500000e+09,\n",
       "            7.78000000e+09,   7.78500000e+09,   7.79000000e+09,\n",
       "            7.79500000e+09,   7.80000000e+09,   7.80500000e+09,\n",
       "            7.81000000e+09,   7.81500000e+09,   7.82000000e+09,\n",
       "            7.82500000e+09,   7.83000000e+09,   7.83500000e+09,\n",
       "            7.84000000e+09,   7.84500000e+09,   7.85000000e+09,\n",
       "            7.85500000e+09,   7.86000000e+09,   7.86500000e+09,\n",
       "            7.87000000e+09,   7.87500000e+09,   7.88000000e+09,\n",
       "            7.88500000e+09,   7.89000000e+09,   7.89500000e+09,\n",
       "            7.90000000e+09,   7.90500000e+09,   7.91000000e+09,\n",
       "            7.91500000e+09,   7.92000000e+09,   7.92500000e+09,\n",
       "            7.93000000e+09,   7.93500000e+09,   7.94000000e+09,\n",
       "            7.94500000e+09,   7.95000000e+09,   7.95500000e+09,\n",
       "            7.96000000e+09,   7.96500000e+09,   7.97000000e+09,\n",
       "            7.97500000e+09,   7.98000000e+09,   7.98500000e+09,\n",
       "            7.99000000e+09,   7.99500000e+09,   8.00000000e+09])),\n",
       "  array([[ 0.00061300+0.00104851j,  0.00049937+0.00108647j,\n",
       "           0.00059598+0.00111811j, ...,         nan       +nanj,\n",
       "                  nan       +nanj,         nan       +nanj],\n",
       "         [        nan       +nanj,         nan       +nanj,\n",
       "                  nan       +nanj, ...,         nan       +nanj,\n",
       "                  nan       +nanj,         nan       +nanj],\n",
       "         [        nan       +nanj,         nan       +nanj,\n",
       "                  nan       +nanj, ...,         nan       +nanj,\n",
       "                  nan       +nanj,         nan       +nanj],\n",
       "         ..., \n",
       "         [        nan       +nanj,         nan       +nanj,\n",
       "                  nan       +nanj, ...,         nan       +nanj,\n",
       "                  nan       +nanj,         nan       +nanj],\n",
       "         [        nan       +nanj,         nan       +nanj,\n",
       "                  nan       +nanj, ...,         nan       +nanj,\n",
       "                  nan       +nanj,         nan       +nanj],\n",
       "         [        nan       +nanj,         nan       +nanj,\n",
       "                  nan       +nanj, ...,         nan       +nanj,\n",
       "                  nan       +nanj,         nan       +nanj]]),\n",
       "  {'log': 20},\n",
       "  ('A', 'Hz'))}"
      ]
     },
     "execution_count": 13,
     "metadata": {},
     "output_type": "execute_result"
    }
   ],
   "source": [
    "qubit_id = 2\n",
    "pna.set_power(-45)\n",
    "lo1.set_status(1)\n",
    "lo1.set_power(-15)\n",
    "pna.set_bandwidth(7)\n",
    "#freq = qubit_params[qubit_id]['F01_max']+np.arange(-400e6, 100e6, 5e6)\n",
    "freq = np.linspace(7.0e9, 8e9, 201)\n",
    "\n",
    "#current_max=qubit_params[qubit_id]['Iw_q1c']\n",
    "currents = np.arange(-0.8e-3, +0.8e-3, 0.04e-3)\n",
    "current_src.set_status(1)\n",
    "#set_curr_start(currents[0],current_src1)\n",
    "#currents=np.linspace(-1.850e-3,-1.825e-3,current_nop)\n",
    "#set_curr_start(currents[0],current_src1)\n",
    "\n",
    "#for i in range(3,len(res_fr)):\n",
    "# dfr =2\n",
    "#    tone1_freq_min, tone1_freq_max = qubit_params[qubit_id]['Fr']-dfr,  qubit_params[qubit_id]['Fr']+dfr\n",
    "pna.set_nop(1)\n",
    "pna.set_centerfreq( qubit_params[qubit_id]['Fr'])\n",
    "pna.set_nop(1)\n",
    "#currents=np.linspace(qubit_params[qubit_id]['Iw_q1c']-25e-5,qubit_params[qubit_id]['Iw_q1c']+25e-5,51)\n",
    "sweep.sweep(pna, #(currents, \n",
    "                 # current_src.set_current,'current_qubit{}'.format(qubit_id)), \n",
    "            (currents, curr, 'current_qubit{}'.format(qubit_id), 'A'),\n",
    "            (freq, lo1.set_frequency, '2nd tone frequency', 'Hz'), \n",
    "            filename='qubit {3} tone_fr{0}_t1p{1}_t2p{2}'.format(\"%.2f\" % (qubit_params[1]['Fr']/1e9),pna.get_power(),lo1.get_power(), \n",
    "                                                                 qubit_id))\n",
    "           # bot=(True,151))\n",
    "    \n",
    "#set_curr_finish(current_src1)\n",
    "#set_curr_finish(current_src2)\n",
    "#current_src1.set_status(0)\n",
    "#current_src2.set_status(0)"
   ]
  },
  {
   "cell_type": "code",
   "execution_count": 132,
   "metadata": {
    "collapsed": true
   },
   "outputs": [],
   "source": [
    "fig = plt.figure()"
   ]
  },
  {
   "cell_type": "code",
   "execution_count": null,
   "metadata": {
    "collapsed": true
   },
   "outputs": [],
   "source": []
  },
  {
   "cell_type": "code",
   "execution_count": 71,
   "metadata": {
    "collapsed": true
   },
   "outputs": [],
   "source": [
    "curr(0)"
   ]
  },
  {
   "cell_type": "code",
   "execution_count": null,
   "metadata": {
    "collapsed": true
   },
   "outputs": [],
   "source": [
    "#pna.set_power(-55)\n",
    "current_src1.set_status(1)\n",
    "current_src2.set_status(1)\n",
    "set_curr_start(-0.26e-3,current_src2)\n",
    "#current_src2.set_current(-0.26e-3)\n",
    "lo1.set_status(1)\n",
    "lo1.set_power(-20)\n",
    "#current_src2.set_status(1)\n",
    "freq = qubit_params[qubit_id]['F01_min']+np.linspace(-250e6, 100e6, 351)\n",
    "#freq = np.linspace(4.71e9, 4.76e9, 401)\n",
    "current_nop=201\n",
    "current_max=-0.1e-3\n",
    "currents=np.linspace(current_max-0.13e-3,current_max+0.13e-3,current_nop)\n",
    "set_curr_start(currents[0],current_src1)\n",
    "#for i in range(3,len(res_fr)):\n",
    "# dfr =2\n",
    "#    tone1_freq_min, tone1_freq_max = qubit_params[qubit_id]['Fr']-dfr,  qubit_params[qubit_id]['Fr']+dfr\n",
    "pna.set_nop(1)\n",
    "pna.set_xlim( qubit_params[qubit_id]['Fr'], qubit_params[qubit_id]['Fr'])\n",
    "#currents=np.linspace(qubit_params[qubit_id]['Iw_q1c']-25e-5,qubit_params[qubit_id]['Iw_q1c']+25e-5,51)\n",
    "sweep.sweep(pna, (currents, \n",
    "                  current_src1.set_current,'current_qubit{}'.format(qubit_id)), \n",
    "            (freq, lo1.set_frequency, '2nd tone frequency'), \n",
    "            filename='qubit {3} tone_fr{0}_t1p{1}_t2p{2}'.format(\"%.2f\" % (qubit_params[1]['Fr']/1e9),pna.get_power(),lo1.get_power(), qubit_id),\n",
    "            bot=(True,351))\n",
    "    \n",
    "set_curr_finish(current_src1)\n",
    "set_curr_finish(current_src2)\n",
    "current_src1.set_status(0)\n",
    "current_src2.set_status(0)"
   ]
  },
  {
   "cell_type": "code",
   "execution_count": null,
   "metadata": {
    "collapsed": true
   },
   "outputs": [],
   "source": [
    "qubit_params[qubit_id]['Iw_q2c']"
   ]
  },
  {
   "cell_type": "code",
   "execution_count": null,
   "metadata": {
    "collapsed": true
   },
   "outputs": [],
   "source": [
    "-0.00173,4.74e9"
   ]
  },
  {
   "cell_type": "markdown",
   "metadata": {
    "collapsed": true
   },
   "source": [
    "Если сорвалась двухтонка ЖНИ"
   ]
  },
  {
   "cell_type": "code",
   "execution_count": null,
   "metadata": {
    "collapsed": true
   },
   "outputs": [],
   "source": [
    "#Если сорвалась двухтонка ЖНИ\n",
    "set_curr_finish(current_src1)\n",
    "#set_curr_finish(current_src2)\n",
    "current_src1.set_status(0)\n",
    "#current_src2.set_status(0)"
   ]
  },
  {
   "cell_type": "code",
   "execution_count": null,
   "metadata": {
    "collapsed": true
   },
   "outputs": [],
   "source": [
    "for qubit_id in [1]:\n",
    "    pna.set_power(-50)\n",
    "    lo1.set_status(1)\n",
    "    lo1.set_power(-20)\n",
    "    current_src1.set_status(1)\n",
    "    #freq = qubit_params[qubit_id]['F01_min']+np.linspace(-250e6, 100e6, 351)\n",
    "    freq = np.linspace(4.71e9, 4.76e9, 401)\n",
    "    currents=np.linspace(0.185e-3,0.26e-3,91)\n",
    "    #for i in range(3,len(res_fr)):\n",
    "   # dfr =2\n",
    "#     tone1_freq_min, tone1_freq_max = qubit_params[qubit_id]['Fr']-dfr,  qubit_params[qubit_id]['Fr']+dfr\n",
    "    pna.set_xlim( qubit_params[qubit_id]['Fr'], qubit_params[qubit_id]['Fr'])\n",
    "    #currents=np.linspace(qubit_params[qubit_id]['Iw_q1c']-25e-5,qubit_params[qubit_id]['Iw_q1c']+25e-5,51)\n",
    "    sweep.sweep(pna, (currents, \n",
    "                      current_src1.set_current,'current'), \n",
    "                (freq, lo1.set_frequency, '2nd tone frequency'), \n",
    "                filename='qubit {3} tone_fr{0}_t1p{1}_t2p{2}'.format(\"%.2f\" % (qubit_params[1]['Fr']/1e9),pna.get_power(),lo1.get_power(), qubit_id),\n",
    "               bot=(True,401))"
   ]
  },
  {
   "cell_type": "code",
   "execution_count": null,
   "metadata": {
    "collapsed": true
   },
   "outputs": [],
   "source": [
    "import pickle as pkl\n",
    "with open(r'C:\\Users\\demouser\\Desktop\\Quantum\\Data\\2018-05-30\\17-14-31-2nd tone_fr6.53_t1p-25.0_t2p-5.0\\S-parameter 2nd tone_fr6.53_t1p-25.0_t2p-5.0.pkl', 'rb') as f:\n",
    "    data_new = pickle.load(f)\n",
    "data_new[0]"
   ]
  },
  {
   "cell_type": "code",
   "execution_count": null,
   "metadata": {
    "collapsed": true
   },
   "outputs": [],
   "source": [
    "\n",
    "with open(r'D:\\qtlab\\ReiData\\data\\2018-06-21\\00-02-52-qubit 1 tone_fr6.53_t1p-55.0_t2p-15.0\\S-parameter qubit 1 tone_fr6.53_t1p-55.0_t2p-15.0.pkl', 'rb') as f:\n",
    "    data_new = pickle.load(f)     \n",
    "plt.pcolormesh(data_new[1]['S-parameter'][1][0],data_new[1]['S-parameter'][1][1], np.angle(data_new[1]['S-parameter'][2].T), cmap='RdBu')\n",
    "plt.show()"
   ]
  },
  {
   "cell_type": "code",
   "execution_count": null,
   "metadata": {
    "collapsed": true
   },
   "outputs": [],
   "source": [
    "with open(r'C:\\Users\\demouser\\Desktop\\Quantum\\Data\\2018-05-30\\13-28-36-2nd tone_fr6.53_t1p-25.0_t2p-5.0\\S-parameter 2nd tone_fr6.53_t1p-25.0_t2p-5.0.pkl', 'rb') as f1:\n",
    "    data_new = pickle.load(f1)     \n",
    "plt.pcolormesh(data_new[1]['S-parameter'][1][0],data_new[1]['S-parameter'][1][1], np.abs(data_new[1]['S-parameter'][2].T), cmap='RdBu')\n",
    "plt.show()"
   ]
  },
  {
   "cell_type": "code",
   "execution_count": null,
   "metadata": {
    "collapsed": true
   },
   "outputs": [],
   "source": [
    "current_src1.set_current(qubit_params[qubit_id]['Iw'])"
   ]
  },
  {
   "cell_type": "code",
   "execution_count": 20,
   "metadata": {
    "collapsed": true
   },
   "outputs": [],
   "source": [
    "adc.stop()"
   ]
  },
  {
   "cell_type": "markdown",
   "metadata": {},
   "source": [
    "# Импульсы"
   ]
  },
  {
   "cell_type": "code",
   "execution_count": 6,
   "metadata": {},
   "outputs": [
    {
     "name": "stderr",
     "output_type": "stream",
     "text": [
      "root: WARNING  Tektronix_AWG5014 : get all not yet fully functional\n"
     ]
    }
   ],
   "source": [
    "#if not ('pna' in locals()): pna = Agilent_N5242A('pna', address = 'PNA')\n",
    "#if not ('lo1' in locals()): lo1 = Agilent_E8257D('lo1', address = 'PSG1')\n",
    "sa = Agilent_N9030A('pxa', address = 'TCPIP0::10.20.61.56::inst0::INSTR')\n",
    "#sa = Signal_Hound_SA(name='SA124', serial=61660066)\n",
    "#lo_ex = Labbrick(name='lo_ex', serial=15249)\n",
    "lo_ex = lo1\n",
    "lo_ro = pna\n",
    "#lo_ro = Labbrick(name='lo_ro', serial=15257)\n",
    "awg_tek = Tektronix_AWG5014('awg_tek', address = 'TCPIP0::10.20.61.186::inst0::INSTR')\n",
    "adc = Spectrum_M3i2132('adc')"
   ]
  },
  {
   "cell_type": "markdown",
   "metadata": {},
   "source": [
    "### Создаём девайсы"
   ]
  },
  {
   "cell_type": "markdown",
   "metadata": {},
   "source": [
    "### Загружаем импульсные скрипты всякие"
   ]
  },
  {
   "cell_type": "code",
   "execution_count": 7,
   "metadata": {},
   "outputs": [
    {
     "data": {
      "text/plain": [
       "<module 'awg_iq_multi' from 'D:\\\\qtlab_replacement\\\\scripts\\\\awg_iq_multi.py'>"
      ]
     },
     "execution_count": 7,
     "metadata": {},
     "output_type": "execute_result"
    }
   ],
   "source": [
    "import awg_digital\n",
    "import awg_iq\n",
    "import data_reduce\n",
    "import imp\n",
    "import fitting\n",
    "import plotting\n",
    "import save_pkl\n",
    "import tomography as tomography_new\n",
    "import tomography_legacy as tomography\n",
    "import sweep\n",
    "import awg_iq_multi\n",
    "imp.reload(awg_digital)\n",
    "imp.reload(awg_iq)\n",
    "imp.reload(data_reduce)\n",
    "imp.reload(fitting)\n",
    "imp.reload(plotting)\n",
    "imp.reload(save_pkl)\n",
    "imp.reload(tomography)\n",
    "imp.reload(tomography_new)\n",
    "imp.reload(sweep)\n",
    "imp.reload(awg_iq_multi)"
   ]
  },
  {
   "cell_type": "markdown",
   "metadata": {},
   "source": [
    "### Осцилляторы"
   ]
  },
  {
   "cell_type": "code",
   "execution_count": 8,
   "metadata": {},
   "outputs": [
    {
     "data": {
      "text/plain": [
       "True"
      ]
     },
     "execution_count": 8,
     "metadata": {},
     "output_type": "execute_result"
    }
   ],
   "source": [
    "# Источник тока - в autorange\n",
    "#current.set_autorange(1)\n",
    "#Мощности гетеродинов, постоянные\n",
    "#Мощность гетеродина для возбуждения 13-16 дБм\n",
    "#lo_ex_pow = 14\n",
    "#lo_ex_pow = 14\n",
    "lo_ex_pow = 14\n",
    "#lo_ex = lo1\n",
    "lo_ex.set_status(1)\n",
    "#lo_ex.set_power(lo_ex_pow)\n",
    "#pna как lo2 (excitation)\n",
    "#Port1 - выход\n",
    "#Мощность гетеродина для считывания 10-13 дБм, с учётом разветвителя 13-16 dBm\n",
    "#lo_ro_pow = 16\n",
    "lo_ro_pow = 16\n",
    "lo_ro.set_power(lo_ro_pow)\n",
    "\n",
    "#lo_ex = pna\n",
    "pna.write(\"OUTP ON\")\n",
    "pna.write(\"SOUR1:POW1:MODE ON\")\n",
    "pna.write(\"SOUR1:POW2:MODE OFF\")\n",
    "pna.set_sweep_mode(\"CW\")\n",
    "lo_ex.set_power(lo_ex_pow)"
   ]
  },
  {
   "cell_type": "markdown",
   "metadata": {},
   "source": [
    "### AWGшки"
   ]
  },
  {
   "cell_type": "code",
   "execution_count": 9,
   "metadata": {},
   "outputs": [
    {
     "name": "stderr",
     "output_type": "stream",
     "text": [
      "root: WARNING  Tektronix_AWG5014 : Clock set to 1000000000.0. This is not fully functional yet. To avoid problems, it is better not to change the clock during operation\n"
     ]
    },
    {
     "name": "stdout",
     "output_type": "stream",
     "text": [
      "180900000.0\n"
     ]
    }
   ],
   "source": [
    "# промежуточные частоты для гетеродинной схемы:\n",
    "\n",
    "lo_freq = 7.77e9\n",
    "lo1.set_frequency(lo_freq)\n",
    "#ex_if = 150e6\n",
    "ex_if = lo_freq-qubit_params[qubit_id]['F01_max']\n",
    "#ex_sideband_id = -1 if ex_if>0 else +1\n",
    "ex_sideband_id = -1\n",
    "ex_if = np.abs(ex_if)\n",
    "ro_if = 75e6\n",
    "print (ex_if)\n",
    "# клоки генератора и оцифровщика\n",
    "ex_clock = 1e9\n",
    "ro_clock = 0.5e9\n",
    "\n",
    "rep_rate = 20e3 # частота повторений эксперимента\n",
    "\n",
    "awg_tek.check_cached = True\n",
    "awg_tek.stop()\n",
    "awg_tek.set_clock(ex_clock) # клок всех авгшк\n",
    "awg_tek.set_nop(ex_clock/rep_rate) # репрейт нужно задавать по=хорошему только на управляющей,\n",
    "#awg_tek.run()\n",
    "# а вот длину сэмплов, которая очевидно то же самое, нужно задавать на всех авгшках.\n",
    "# хорошо, что сейчас она только одна.\n",
    "\n",
    "# миксеры подключены к AWG5014 через 6 дБ аттенюаторы. Ставим амплитуду 2В.\n",
    "for channel in range(1,3):\n",
    "    awg_tek.set_amplitude(0.1, channel=channel)\n",
    "    awg_tek.set_offset(0, channel=channel)\n",
    "    awg_tek.set_output(1, channel=channel)\n",
    "for channel in range(3,5):\n",
    "    awg_tek.set_amplitude(0.2, channel=channel)\n",
    "    awg_tek.set_offset(0, channel=channel)\n",
    "    awg_tek.set_output(1, channel=channel)\n",
    "# Выходы 1, 2 тектроникс: возбуждение (кубитный тон) через 6 дБ аттенюатор\n",
    "# Выходы 3, 4 тектроникс: считывание (резонаторный тон) через 6 дБ аттенюатор\n",
    "iq_ex = awg_iq_multi.awg_iq_multi(awg_tek, awg_tek, 2, 1, lo_ex)\n",
    "#iq_ex = awg_iq.awg_iq(awg_tek, awg_tek, 2, 1, lo_ex) calibrated\n",
    "iq_ro = awg_iq.awg_iq(awg_tek, awg_tek, 3, 4, lo_ro)\n",
    "iq_ex.carriers['00-1-01'] = awg_iq_multi.carrier(iq_ex)\n",
    "iq_ex.carriers['00-1-10'] = awg_iq_multi.carrier(iq_ex)\n",
    "iq_ex.carriers['00-2-11'] = awg_iq_multi.carrier(iq_ex)\n",
    "iq_ex.carriers['00-1-01'].set_frequency(qubit_params[1]['F01_max'])\n",
    "iq_ex.carriers['00-1-10'].set_frequency(qubit_params[2]['F01_max'])\n",
    "iq_ex.carriers['00-2-11'].set_frequency(qubit_params[11]['F01_max'])\n",
    "iq_ro.set_if(ro_if)\n",
    "#iq_ex.set_sideband_id(ex_sideband_id)\n",
    "iq_ro.set_sideband_id(-1)\n",
    "#iq_ex.set_frequency(qubit_params[qubit_id]['F01_max'])\n",
    "#iq_ex.set_lo_frequency(lo_freq)\n",
    "iq_ro.set_frequency(qubit_params[qubit_id]['Fr'])\n",
    "\n",
    "# К первому маркере первого канала тектроникса подсоединён триггер оцифровщика.\n",
    "# Надо подавать какой-нибудь триггер, что-ли.\n",
    "# А ещё нужно подавать клок. К сожалению наш оцифровщик не может в 1ГГц клок, ему нужен 500МГц клок.\n",
    "# Будем подавать 500 МГц с цифрового выхода тектроникса.\n",
    "awg_tek.set_marker1_low(-0.1, channel=1)\n",
    "awg_tek.set_marker2_low(-0.1, channel=1)\n",
    "awg_tek.set_marker1_high(1.2, channel=1)\n",
    "awg_tek.set_marker2_high(1.2, channel=1)\n",
    "awg_tek.set_marker1_low(-0.1, channel=2)\n",
    "awg_tek.set_marker2_low(-0.1, channel=2) \n",
    "awg_tek.set_marker1_high(0.1, channel=2) # с клока хватит и такой амплитуды\n",
    "awg_tek.set_marker2_high(0.1, channel=2) # с клока хватит и такой амплитуды\n",
    "ro_trg = awg_digital.awg_digital(awg_tek, 1)\n",
    "osc_trg = awg_digital.awg_digital(awg_tek, 5)\n",
    "ro_adc_clock = awg_digital.awg_digital(awg_tek, 2) #\n",
    "osc_adc_clock = awg_digital.awg_digital(awg_tek, 6) #\n",
    "\n",
    "# тупо клок\n",
    "ro_adc_clock.set_waveform(np.asarray([0,1]*int(ro_adc_clock.get_nop()/2), dtype=int))\n",
    "osc_adc_clock.set_waveform(np.asarray([0,1]*int(ro_adc_clock.get_nop()/2), dtype=int))\n",
    "awg_channels = {'iq_ex_00-1-01':iq_ex.carriers['00-1-01'], \n",
    "                'iq_ex_00-1-10':iq_ex.carriers['00-1-10'], \n",
    "                'iq_ex_00-2-11':iq_ex.carriers['00-2-11'], \n",
    "                'iq_ro':iq_ro, \n",
    "                'ro_trg':ro_trg, \n",
    "                'osc_trg':osc_trg}\n",
    "trg_length = 4e-9\n",
    "pg = tomography_new.pulses(awg_channels)\n",
    "awg_tek.set_nop(awg_tek.get_clock()/rep_rate)\n",
    "awg_tek.run()\n"
   ]
  },
  {
   "cell_type": "markdown",
   "metadata": {},
   "source": [
    "### Оцифровщик"
   ]
  },
  {
   "cell_type": "code",
   "execution_count": 10,
   "metadata": {
    "collapsed": true
   },
   "outputs": [],
   "source": [
    "# настройки оцифровщика\n",
    "adc.set_clock(ro_clock)\n",
    "adc.reset()            \n",
    "adc.set_timeout(10000)\n",
    "\n",
    "\n",
    "#adc.set_spc_samplerate(smp_rate)\n",
    "#External trigger\n",
    "adc.set_trigger_ext0_level0(400) # logical 0 value to 200 mV\n",
    "adc.set_trigger_ext0_level1(600) # logical 1 value to 600 mV\n",
    "adc.trigger_termination_50Ohm()\n",
    "adc.trigger_mode_pos()\n",
    "adc.set_trigger_ext0_pulsewidth(0)\n",
    "adc.disable_trigger_output()\n",
    "adc.select_channel01()\n",
    "adc.set_multi_mode()\n",
    "#adc.set_segmentsize()\n",
    "adc.set_trigger_ORmask_tmask_ext0()\n",
    "adc.set_trigger_ANDmask_tmask_ext0()\n",
    "adc.set_trigger_ORmask_tmask_NO_ch0()\n",
    "adc.set_trigger_ORmask_tmask_NO_ch1()\n",
    "adc.set_trigger_ANDmask_tmask_NO_ch0()\n",
    "adc.set_trigger_ANDmask_tmask_NO_ch1()\n",
    "# усилитель на оцифровщике\n",
    "adc.set_input_amp_ch0(50)\n",
    "adc.set_input_amp_ch1(50)\n",
    "adc.set_input_offset_ch0(0)\n",
    "adc.set_input_offset_ch1(0)\n",
    "\n",
    "#External clock\n",
    "adc.set_reference_clock(adc.get_clock())\n",
    "\n",
    "# \"Измеритель средних прошедших импульсов\"\n",
    "# Просто усредняет всё по номеру сэмпла.\n",
    "adc_reducer = data_reduce.data_reduce(adc)\n",
    "adc_reducer.filters['Mean Voltage (AC)'] = data_reduce.mean_reducer_noavg(adc, 'Voltage', 0)\n",
    "adc_reducer.filters['S21+'] = data_reduce.mean_reducer_freq(adc, 'Voltage', 0, iq_ro.get_if())\n",
    "adc_reducer.filters['S21-'] = data_reduce.mean_reducer_freq(adc, 'Voltage', 0, -iq_ro.get_if())\n"
   ]
  },
  {
   "cell_type": "markdown",
   "metadata": {},
   "source": [
    "### Калибровка миксеров"
   ]
  },
  {
   "cell_type": "code",
   "execution_count": 11,
   "metadata": {
    "scrolled": true
   },
   "outputs": [
    {
     "name": "stdout",
     "output_type": "stream",
     "text": [
      "d:\\qtlab\\ReiData\\data/calibrations//IQ-dc-lo7.77GHz.pkl\n",
      "d:\\qtlab\\ReiData\\data/calibrations//IQ-if1.8e+08-rf8e+09-sb-0.pkl\n",
      "d:\\qtlab\\ReiData\\data/calibrations//IQ-if-7.2e+07-rf7.7e+09-sb-0.pkl\n",
      "d:\\qtlab\\ReiData\\data/calibrations//IQ-if6.1e+07-rf7.8e+09-sb-0.pkl\n",
      "[Errno 2] No such file or directory: 'd:\\\\qtlab\\\\ReiData\\\\data/calibrations//IQ-if6.1e+07-rf7.8e+09-sb-0.pkl'\n",
      "dc: -1.51e-01+1.21e-01j\tI:  5.00e-01\tQ:-5.00e-01+5.00e-02j\tB: -38.15 G: -12.04, C:0.00\n",
      "[-38.15332413 -51.12865067 -12.04425907]\n",
      "dc: -1.51e-01+1.21e-01j\tI:  5.00e-01\tQ:-5.25e-01+5.00e-02j\tB: -39.14 G: -11.84, C:0.00\n",
      "[-39.13913727 -54.48180771 -11.83590126]\n",
      "dc: -1.51e-01+1.21e-01j\tI:  5.00e-01\tQ:-5.00e-01+5.25e-02j\tB: -37.72 G: -12.04, C:0.00\n",
      "[-37.7226181  -52.2994957  -12.03881645]\n",
      "dc: -1.51e-01+1.21e-01j\tI:  5.00e-01\tQ:-5.25e-01+4.75e-02j\tB: -39.68 G: -11.83, C:0.00\n",
      "[-39.67713547 -50.9389534  -11.83279133]\n",
      "dc: -1.51e-01+1.21e-01j\tI:  5.00e-01\tQ:-5.37e-01+4.50e-02j\tB: -39.58 G: -11.72, C:0.00\n",
      "[-39.57762146 -51.51193619 -11.72394753]\n",
      "dc: -1.51e-01+1.21e-01j\tI:  5.00e-01\tQ:-5.62e-01+4.50e-02j\tB: -37.04 G: -11.53, C:0.00\n",
      "[-37.04001236 -52.42621994 -11.52958393]\n",
      "dc: -1.51e-01+1.21e-01j\tI:  5.00e-01\tQ:-5.16e-01+4.88e-02j\tB: -39.33 G: -11.90, C:0.00\n",
      "[-39.33349991 -55.35333252 -11.89887524]\n",
      "dc: -1.51e-01+1.21e-01j\tI:  5.00e-01\tQ:-5.28e-01+4.38e-02j\tB: -40.42 G: -11.79, C:0.00\n",
      "[-40.41960144 -47.93798065 -11.79469585]\n",
      "dc: -1.51e-01+1.21e-01j\tI:  5.00e-01\tQ:-5.30e-01+4.06e-02j\tB: -41.16 G: -11.78, C:0.00\n",
      "[-41.16440201 -53.48433685 -11.78147888]\n",
      "dc: -1.51e-01+1.21e-01j\tI:  5.00e-01\tQ:-5.52e-01+3.69e-02j\tB: -39.52 G: -11.62, C:0.00\n",
      "[-39.5200882  -49.95469666 -11.61510468]\n",
      "dc: -1.51e-01+1.21e-01j\tI:  5.00e-01\tQ:-5.44e-01+3.25e-02j\tB: -41.51 G: -11.68, C:0.00\n",
      "[-41.50725937 -49.26742935 -11.67652321]\n",
      "dc: -1.51e-01+1.21e-01j\tI:  5.00e-01\tQ:-5.47e-01+2.63e-02j\tB: -42.01 G: -11.66, C:0.00\n",
      "[-42.007164   -53.99045944 -11.65941906]\n",
      "dc: -1.51e-01+1.21e-01j\tI:  5.00e-01\tQ:-5.25e-01+3.00e-02j\tB: -44.44 G: -11.82, C:0.00\n",
      "[-44.4429245  -54.00522995 -11.82268429]\n",
      "dc: -1.51e-01+1.21e-01j\tI:  5.00e-01\tQ:-5.12e-01+2.66e-02j\tB: -44.71 G: -11.94, C:0.00\n",
      "[-44.71192169 -56.55605316 -11.93541527]\n",
      "dc: -1.51e-01+1.21e-01j\tI:  5.00e-01\tQ:-5.29e-01+1.22e-02j\tB: -52.98 G: -11.80, C:0.00\n",
      "[-52.97780991 -53.15625    -11.80013847]\n",
      "dc: -1.51e-01+1.21e-01j\tI:  5.00e-01\tQ:-5.29e-01-2.03e-03j\tB: -51.71 G: -11.80, C:0.00\n",
      "[-51.70822906 -53.81241989 -11.80324841]\n",
      "dc: -1.51e-01+1.21e-01j\tI:  5.00e-01\tQ:-4.94e-01+1.25e-02j\tB: -42.49 G: -12.08, C:0.00\n",
      "[-42.48529816 -53.52787399 -12.0807991 ]\n",
      "dc: -1.51e-01+1.21e-01j\tI:  5.00e-01\tQ:-5.07e-01+1.59e-02j\tB: -46.66 G: -11.98, C:0.00\n",
      "[-46.6609993  -50.04177094 -11.97661972]\n",
      "dc: -1.51e-01+1.21e-01j\tI:  5.00e-01\tQ:-5.24e-01+1.56e-03j\tB: -57.47 G: -11.83, C:0.00\n",
      "[-57.46760178 -49.90960312 -11.83123589]\n",
      "dc: -1.51e-01+1.21e-01j\tI:  5.00e-01\tQ:-5.30e-01-1.09e-02j\tB: -46.40 G: -11.79, C:0.00\n",
      "[-46.39588928 -51.70241165 -11.79003143]\n",
      "dc: -1.51e-01+1.21e-01j\tI:  5.00e-01\tQ:-5.46e-01-2.19e-03j\tB: -43.96 G: -11.65, C:0.00\n",
      "[-43.96323395 -50.6855011  -11.6531992 ]\n",
      "dc: -1.51e-01+1.21e-01j\tI:  5.00e-01\tQ:-5.17e-01+1.14e-02j\tB: -54.10 G: -11.90, C:0.00\n",
      "[-54.09656525 -50.19181824 -11.8957653 ]\n",
      "dc: -1.51e-01+1.21e-01j\tI:  5.00e-01\tQ:-5.12e-01+7.81e-04j\tB: -50.64 G: -11.94, C:0.00\n",
      "[-50.63534164 -48.24507523 -11.9385252 ]\n",
      "dc: -1.51e-01+1.21e-01j\tI:  5.00e-01\tQ:-5.25e-01+9.34e-03j\tB: -59.96 G: -11.84, C:0.00\n",
      "[-59.96478271 -50.50357819 -11.83823299]\n",
      "dc: -1.51e-01+1.21e-01j\tI:  5.00e-01\tQ:-5.32e-01-5.08e-04j\tB: -50.42 G: -11.76, C:0.00\n",
      "[-50.41843414 -50.16771698 -11.76126575]\n",
      "dc: -1.51e-01+1.21e-01j\tI:  5.00e-01\tQ:-5.21e-01+8.43e-03j\tB: -62.40 G: -11.87, C:0.00\n",
      "[-62.39899063 -54.96305084 -11.86777687]\n",
      "dc: -1.51e-01+1.21e-01j\tI:  5.00e-01\tQ:-5.21e-01+1.62e-02j\tB: -51.76 G: -11.86, C:0.00\n",
      "[-51.76420593 -54.89463425 -11.86388969]\n",
      "dc: -1.51e-01+1.21e-01j\tI:  5.00e-01\tQ:-5.23e-01+5.22e-03j\tB: -69.50 G: -11.84, C:0.00\n",
      "[-69.50102997 -51.51660156 -11.84289837]\n",
      "dc: -1.51e-01+1.21e-01j\tI:  5.00e-01\tQ:-5.19e-01+4.31e-03j\tB: -59.98 G: -11.88, C:0.00\n",
      "[-59.98188782 -50.41417313 -11.87710571]\n",
      "dc: -1.51e-01+1.21e-01j\tI:  5.00e-01\tQ:-5.23e-01+8.08e-03j\tB: -64.44 G: -11.85, C:0.00\n",
      "[-64.43824768 -52.94478226 -11.84756279]\n",
      "dc: -1.51e-01+1.21e-01j\tI:  5.00e-01\tQ:-5.26e-01+4.87e-03j\tB: -59.93 G: -11.82, C:0.00\n",
      "[-59.9344635  -53.68647385 -11.82346153]\n",
      "dc: -1.51e-01+1.21e-01j\tI:  5.00e-01\tQ:-5.22e-01+7.54e-03j\tB: -67.78 G: -11.85, C:0.00\n",
      "[-67.77741241 -50.68083954 -11.8545599 ]\n",
      "dc: -1.51e-01+1.21e-01j\tI:  5.00e-01\tQ:-5.22e-01+4.68e-03j\tB: -65.39 G: -11.85, C:0.00\n",
      "[-65.38596344 -50.97782516 -11.85144997]\n",
      "dc: -1.51e-01+1.21e-01j\tI:  5.00e-01\tQ:-5.22e-01+5.53e-03j\tB: -70.92 G: -11.85, C:0.00\n",
      "[-70.92063904 -46.76480484 -11.84756279]\n",
      "dc: -1.51e-01+1.21e-01j\tI:  5.00e-01\tQ:-5.24e-01+3.21e-03j\tB: -60.52 G: -11.84, C:0.00\n",
      "[-60.52455139 -46.39240646 -11.84445286]\n",
      "dc: -1.51e-01+1.21e-01j\tI:  5.00e-01\tQ:-5.22e-01+6.46e-03j\tB: -70.92 G: -11.85, C:0.00\n",
      "[-70.91925049 -50.8549881  -11.85300541]\n",
      "dc: -1.51e-01+1.21e-01j\tI:  5.00e-01\tQ:-5.21e-01+6.77e-03j\tB: -69.17 G: -11.86, C:0.00\n",
      "[-69.17449951 -49.50144196 -11.86077976]\n",
      "dc: -1.51e-01+1.21e-01j\tI:  5.00e-01\tQ:-5.23e-01+5.61e-03j\tB: -71.06 G: -11.85, C:0.00\n",
      "[-71.06459808 -47.59823608 -11.84756279]\n",
      "dc: -1.51e-01+1.21e-01j\tI:  5.00e-01\tQ:-5.23e-01+4.68e-03j\tB: -65.92 G: -11.85, C:0.00\n",
      "[-65.9154129  -50.61320114 -11.84756279]\n",
      "dc: -1.51e-01+1.21e-01j\tI:  5.00e-01\tQ:-5.23e-01+6.01e-03j\tB: -70.77 G: -11.85, C:0.00\n",
      "[-70.7674942  -49.45246124 -11.85144997]\n",
      "dc: -1.51e-01+1.21e-01j\tI:  5.00e-01\tQ:-5.23e-01+5.57e-03j\tB: -69.67 G: -11.85, C:0.00\n",
      "[-69.66896057 -50.25634766 -11.85067272]\n",
      "dc: -1.51e-01+1.21e-01j\tI:  5.00e-01\tQ:-5.23e-01+6.03e-03j\tB: -70.94 G: -11.85, C:0.00\n",
      "[-70.93538666 -50.90629959 -11.85067272]\n",
      "dc: -1.51e-01+1.21e-01j\tI:  5.00e-01\tQ:-5.23e-01+6.07e-03j\tB: -70.37 G: -11.85, C:0.00\n",
      "[-70.37177277 -48.83982849 -11.85222721]\n",
      "dc: -1.51e-01+1.21e-01j\tI:  5.00e-01\tQ:-5.23e-01+5.95e-03j\tB: -70.90 G: -11.85, C:0.00\n",
      "[-70.90150452 -54.35974884 -11.8460083 ]\n",
      "dc: -1.51e-01+1.21e-01j\tI:  5.00e-01\tQ:-5.23e-01+5.70e-03j\tB: -69.88 G: -11.85, C:0.00\n",
      "[-69.8796463  -52.66489792 -11.85067272]\n",
      "dc: -1.51e-01+1.21e-01j\tI:  5.00e-01\tQ:-5.23e-01+5.88e-03j\tB: -69.94 G: -11.85, C:0.00\n",
      "[-69.93934631 -52.26451111 -11.84756279]\n",
      "dc: -1.51e-01+1.21e-01j\tI:  5.00e-01\tQ:-5.23e-01+5.82e-03j\tB: -71.32 G: -11.85, C:0.00\n",
      "[-71.31777191 -52.5171814  -11.85067272]\n",
      "dc: -1.51e-01+1.21e-01j\tI:  5.00e-01\tQ:-5.23e-01+5.78e-03j\tB: -70.45 G: -11.85, C:0.00\n",
      "[-70.45030212 -50.35741806 -11.8460083 ]\n",
      "dc: -1.51e-01+1.21e-01j\tI:  5.00e-01\tQ:-5.23e-01+5.65e-03j\tB: -70.95 G: -11.86, C:0.00\n",
      "[-70.94504547 -50.35663986 -11.85611439]\n",
      "dc: -1.51e-01+1.21e-01j\tI:  5.00e-01\tQ:-5.23e-01+5.68e-03j\tB: -70.06 G: -11.85, C:0.00\n",
      "[-70.05535126 -50.32554245 -11.85300541]\n",
      "dc: -1.51e-01+1.21e-01j\tI:  5.00e-01\tQ:-5.23e-01+5.71e-03j\tB: -70.72 G: -11.85, C:0.00\n",
      "[-70.72151947 -52.99376297 -11.85144997]\n",
      "dc: -1.51e-01+1.21e-01j\tI:  5.00e-01\tQ:-5.23e-01+5.80e-03j\tB: -71.00 G: -11.85, C:0.00\n",
      "[-70.99930573 -50.94284058 -11.85067272]\n",
      "dc: -1.51e-01+1.21e-01j\tI:  5.00e-01\tQ:-5.23e-01+5.91e-03j\tB: -71.33 G: -11.84, C:0.00\n",
      "[-71.3321228  -47.62233734 -11.84289837]\n",
      "dc: -1.51e-01+1.21e-01j\tI:  5.00e-01\tQ:-5.23e-01+6.00e-03j\tB: -71.16 G: -11.85, C:0.00\n",
      "[-71.16457367 -49.9966774  -11.85067272]\n",
      "dc: -1.51e-01+1.21e-01j\tI:  5.00e-01\tQ:-5.23e-01+5.93e-03j\tB: -70.31 G: -11.85, C:0.00\n",
      "[-70.31030273 -49.23166656 -11.8545599 ]\n",
      "dc: -1.51e-01+1.21e-01j\tI:  5.00e-01\tQ:-5.23e-01+5.83e-03j\tB: -71.80 G: -11.85, C:0.00\n",
      "[-71.79605103 -50.41261673 -11.85144997]\n",
      "dc: -1.51e-01+1.21e-01j\tI:  5.00e-01\tQ:-5.23e-01+5.92e-03j\tB: -70.20 G: -11.85, C:0.00\n",
      "[-70.19607544 -47.58113098 -11.85300541]\n",
      "dc: -1.51e-01+1.21e-01j\tI:  5.00e-01\tQ:-5.23e-01+5.84e-03j\tB: -70.43 G: -11.84, C:0.00\n",
      "[-70.43242645 -49.22155762 -11.84134293]\n",
      "dc: -1.51e-01+1.21e-01j\tI:  5.00e-01\tQ:-5.23e-01+5.87e-03j\tB: -71.11 G: -11.85, C:0.00\n",
      "[-71.10820007 -49.29541779 -11.8545599 ]\n",
      "dc: -1.51e-01+1.21e-01j\tI:  5.00e-01\tQ:-5.23e-01+5.83e-03j\tB: -70.63 G: -11.85, C:0.00\n",
      "[-70.63300323 -50.30921555 -11.85300541]\n",
      "dc: -1.51e-01+1.21e-01j\tI:  5.00e-01\tQ:-5.23e-01+5.87e-03j\tB: -71.05 G: -11.85, C:0.00\n",
      "[-71.04893494 -49.73934174 -11.85067272]\n",
      "dc: -1.51e-01+1.21e-01j\tI:  5.00e-01\tQ:-5.23e-01+5.86e-03j\tB: -71.25 G: -11.85, C:0.00\n",
      "[-71.25261688 -50.37918472 -11.85067272]\n"
     ]
    },
    {
     "name": "stdout",
     "output_type": "stream",
     "text": [
      "dc: -1.51e-01+1.21e-01j\tI:  5.00e-01\tQ:-5.23e-01+5.82e-03j\tB: -70.65 G: -11.85, C:0.00\n",
      "[-70.65184021 -50.20037079 -11.85067272]\n",
      "dc: -1.51e-01+1.21e-01j\tI:  5.00e-01\tQ:-5.23e-01+5.86e-03j\tB: -70.50 G: -11.85, C:0.00\n",
      "[-70.50344849 -48.47909164 -11.8545599 ]\n",
      "dc: -1.51e-01+1.21e-01j\tI:  5.00e-01\tQ:-5.23e-01+5.85e-03j\tB: -69.91 G: -11.86, C:0.00\n",
      "[-69.9123764  -48.89969254 -11.85611439]\n",
      "dc: -1.51e-01+1.21e-01j\tI:  5.00e-01\tQ:-5.23e-01+5.85e-03j\tB: -70.51 G: -11.85, C:0.00\n",
      "[-70.51324463 -50.75080872 -11.85067272]\n",
      "dc: -1.51e-01+1.21e-01j\tI:  5.00e-01\tQ:-5.23e-01+5.83e-03j\tB: -71.09 G: -11.85, C:0.00\n",
      "[-71.09365845 -51.37355042 -11.85144997]\n",
      "dc: -1.51e-01+1.21e-01j\tI:  5.00e-01\tQ:-5.23e-01+5.82e-03j\tB: -70.72 G: -11.85, C:0.00\n",
      "[-70.71929169 -49.11349106 -11.85067272]\n",
      "dc: -1.51e-01+1.21e-01j\tI:  5.00e-01\tQ:-5.23e-01+5.82e-03j\tB: -71.26 G: -11.85, C:0.00\n",
      "[-71.2614975  -49.55819702 -11.85300541]\n",
      "Warning: Maximum number of iterations has been exceeded.\n",
      "dc: -1.51e-01+1.21e-01j\tI:  5.00e-01\tQ:-5.23e-01+5.83e-03j\tB: -46.06 G: -11.77, C:0.00\n",
      "[-73.32687378 -71.11493683 -71.16210175 -70.74474335 -50.05166626\n",
      " -11.77115917 -70.55793762 -71.43464661 -73.53069305]\n",
      "d:\\qtlab\\ReiData\\data/calibrations/\n",
      "d:\\qtlab\\ReiData\\data/calibrations//IQ-if7.5e+07-rf6.4e+09-sb--1.pkl\n"
     ]
    },
    {
     "data": {
      "text/plain": [
       "{'I': (0.40890778708739273+0.58168590975861856j),\n",
       " 'Q': (0.57704514151321362+0.46965931450731768j),\n",
       " 'dc': (0.14287743083922338+0.082917249355867459j),\n",
       " 'num_sidebands': 7,\n",
       " 'score': -45.528546445887258}"
      ]
     },
     "execution_count": 11,
     "metadata": {},
     "output_type": "execute_result"
    }
   ],
   "source": [
    "#sa.set_ref(0)\n",
    "iq_ex.do_calibration(sa)\n",
    "iq_ro.get_calibration(sa)"
   ]
  },
  {
   "cell_type": "code",
   "execution_count": 21,
   "metadata": {},
   "outputs": [
    {
     "data": {
      "text/plain": [
       "[<matplotlib.lines.Line2D at 0x23088623668>]"
      ]
     },
     "execution_count": 21,
     "metadata": {},
     "output_type": "execute_result"
    }
   ],
   "source": [
    "sa.set_xlim(6.4e9, 6.5e9)\n",
    "sa.set_nop(5001)\n",
    "sa.set_bandwidth(1e5)\n",
    "sa.set_bandwidth_video(1e4)\n",
    "P = sa.measure()['Power']\n",
    "f = sa.get_points()['Power'][0][1]\n",
    "plt.plot(f, P)"
   ]
  },
  {
   "cell_type": "markdown",
   "metadata": {},
   "source": [
    "### Длительность и амплитуда считывающих импульсов"
   ]
  },
  {
   "cell_type": "code",
   "execution_count": 12,
   "metadata": {
    "collapsed": true
   },
   "outputs": [],
   "source": [
    "def set_adc_nop(ro_adc_length):\n",
    "    adc.stop()\n",
    "    signal_size = int(np.ceil(4./3.*(ro_adc_length)*adc.get_clock()))\n",
    "    nop = int( 2**np.ceil(np.log2(signal_size)) )\n",
    "    posttrigger = nop*15/16\n",
    "    \n",
    "    print (nop)\n",
    "    #adc.set_trigger_delay(25000-nop)\n",
    "    adc.set_nop(nop)\n",
    "    adc.set_post_trigger(posttrigger)"
   ]
  },
  {
   "cell_type": "code",
   "execution_count": 13,
   "metadata": {},
   "outputs": [
    {
     "name": "stdout",
     "output_type": "stream",
     "text": [
      "512\n"
     ]
    }
   ],
   "source": [
    "ro_adc_length =0.4e-6        # Вот такой длины считываем (опухоль Фёдорова!!)\n",
    "ro_amplitude =0.2\n",
    "#ro_adc_length = 0.3e-6\n",
    "#ro_amplitude = 0.6\n",
    "#ro_amplitude = 1.0\n",
    "ro_dac_length = 0.6e-6\n",
    "#ro_dac_length = 0.4e-6\n",
    "adc.set_nums(10000)\n",
    "#adc.set_software_nums_multi(1)\n",
    "set_adc_nop(ro_adc_length)\n"
   ]
  },
  {
   "cell_type": "code",
   "execution_count": 14,
   "metadata": {},
   "outputs": [
    {
     "data": {
      "text/plain": [
       "True"
      ]
     },
     "execution_count": 14,
     "metadata": {},
     "output_type": "execute_result"
    }
   ],
   "source": [
    "#adc.set_nop(25000)\n",
    "adc.set_nums(100000)\n",
    "#plt.plot(np.mean(adc.measure()['Voltage'], axis=0))"
   ]
  },
  {
   "cell_type": "code",
   "execution_count": 16,
   "metadata": {},
   "outputs": [
    {
     "name": "stderr",
     "output_type": "stream",
     "text": [
      "D:\\qtlab_replacement\\instruments\\Tektronix_AWG5014.py:654: ComplexWarning: Casting complex values to real discards the imaginary part\n",
      "  m1[:] = marker[:len(m1)]\n"
     ]
    }
   ],
   "source": [
    "pg.set_seq([pg.p('ro_trg', trg_length, pg.rect, 1), pg.p('iq_ro', 0.2e-6, pg.rect, 1.0)])\n"
   ]
  },
  {
   "cell_type": "code",
   "execution_count": 138,
   "metadata": {
    "scrolled": true
   },
   "outputs": [
    {
     "name": "stderr",
     "output_type": "stream",
     "text": [
      "D:\\qtlab_replacement\\instruments\\Tektronix_AWG5014.py:654: ComplexWarning: Casting complex values to real discards the imaginary part\n",
      "  m1[:] = marker[:len(m1)]\n"
     ]
    }
   ],
   "source": [
    "pg.set_seq([ pg.p('iq_ex', 1e-6, pg.rect, 0.9)])"
   ]
  },
  {
   "cell_type": "code",
   "execution_count": 24,
   "metadata": {},
   "outputs": [
    {
     "data": {
      "text/plain": [
       "<module 'plotting' from 'D:\\\\qtlab_replacement\\\\scripts\\\\plotting.py'>"
      ]
     },
     "execution_count": 24,
     "metadata": {},
     "output_type": "execute_result"
    }
   ],
   "source": [
    "imp.reload(plotting)"
   ]
  },
  {
   "cell_type": "markdown",
   "metadata": {},
   "source": [
    "### Прохождение считывающих испульсов разной амплитуды"
   ]
  },
  {
   "cell_type": "code",
   "execution_count": 26,
   "metadata": {
    "scrolled": true
   },
   "outputs": [
    {
     "data": {
      "application/vnd.jupyter.widget-view+json": {
       "model_id": "22ad1e16d0484058a7454b797b5709a8",
       "version_major": 2,
       "version_minor": 0
      },
      "text/plain": [
       "A Jupyter Widget"
      ]
     },
     "metadata": {},
     "output_type": "display_data"
    },
    {
     "name": "stdout",
     "output_type": "stream",
     "text": [
      "Started at:  Jul 05 2018 15:18:11\n"
     ]
    },
    {
     "name": "stderr",
     "output_type": "stream",
     "text": [
      "C:\\ProgramData\\Anaconda3\\lib\\site-packages\\numpy\\lib\\function_base.py:2169: RuntimeWarning: invalid value encountered in remainder\n",
      "  ddmod = mod(dd + pi, 2*pi) - pi\n",
      "C:\\ProgramData\\Anaconda3\\lib\\site-packages\\numpy\\lib\\function_base.py:2170: RuntimeWarning: invalid value encountered in greater\n",
      "  _nx.copyto(ddmod, pi, where=(ddmod == -pi) & (dd > 0))\n",
      "C:\\ProgramData\\Anaconda3\\lib\\site-packages\\numpy\\lib\\function_base.py:2172: RuntimeWarning: invalid value encountered in less\n",
      "  _nx.copyto(ph_correct, 0, where=abs(dd) < discont)\n",
      "D:\\qtlab_replacement\\instruments\\Tektronix_AWG5014.py:655: ComplexWarning: Casting complex values to real discards the imaginary part\n",
      "  m1[:] = marker[:len(m1)]\n"
     ]
    },
    {
     "name": "stdout",
     "output_type": "stream",
     "text": [
      "\n",
      "Elapsed time: 0 h 1 m 39.48 s\n"
     ]
    }
   ],
   "source": [
    "adc.stop()\n",
    "def set_pulse_amplitude(x):\n",
    "    awg_tek.set_nop(awg_tek.get_clock()/rep_rate)\n",
    "    pg.set_seq([pg.p('ro_trg', trg_length, pg.rect, 1), pg.p('iq_ro', ro_dac_length, pg.rect, x)])\n",
    "    awg_tek.run()\n",
    "measurement = sweep.sweep(adc_reducer, \n",
    "                          (np.linspace(0, 1.,20), set_pulse_amplitude, 'Readout amplitude'), \n",
    "                          filename='Readout pulse passthrough',\n",
    "                          plot_separate_thread=True)"
   ]
  },
  {
   "cell_type": "code",
   "execution_count": null,
   "metadata": {
    "collapsed": true
   },
   "outputs": [],
   "source": [
    "pulse_fft = np.fft.fftshift(np.fft.fft(np.fft.fftshift(np.mean(adc.measure()['Voltage'], axis=0))))\n",
    "plt.plot(np.abs(pulse_fft)**2)"
   ]
  },
  {
   "cell_type": "code",
   "execution_count": null,
   "metadata": {
    "collapsed": true
   },
   "outputs": [],
   "source": [
    "lo1.set_status(1)"
   ]
  },
  {
   "cell_type": "code",
   "execution_count": null,
   "metadata": {
    "collapsed": true
   },
   "outputs": [],
   "source": [
    "current_src1.set_status(1)\n",
    "set_curr_start(qubit_params[qubit_id]['Iw_q1c'],current_src1)"
   ]
  },
  {
   "cell_type": "code",
   "execution_count": 124,
   "metadata": {},
   "outputs": [
    {
     "ename": "NameError",
     "evalue": "name 'set_curr_finish' is not defined",
     "output_type": "error",
     "traceback": [
      "\u001b[1;31m---------------------------------------------------------------------------\u001b[0m",
      "\u001b[1;31mNameError\u001b[0m                                 Traceback (most recent call last)",
      "\u001b[1;32m<ipython-input-124-00339a34d291>\u001b[0m in \u001b[0;36m<module>\u001b[1;34m()\u001b[0m\n\u001b[1;32m----> 1\u001b[1;33m \u001b[0mset_curr_finish\u001b[0m\u001b[1;33m(\u001b[0m\u001b[0mcurrent_src1\u001b[0m\u001b[1;33m)\u001b[0m\u001b[1;33m\u001b[0m\u001b[0m\n\u001b[0m\u001b[0;32m      2\u001b[0m \u001b[0mcurrent_src1\u001b[0m\u001b[1;33m.\u001b[0m\u001b[0mset_status\u001b[0m\u001b[1;33m(\u001b[0m\u001b[1;36m0\u001b[0m\u001b[1;33m)\u001b[0m\u001b[1;33m\u001b[0m\u001b[0m\n",
      "\u001b[1;31mNameError\u001b[0m: name 'set_curr_finish' is not defined"
     ]
    }
   ],
   "source": [
    "set_curr_finish(current_src1)\n",
    "current_src1.set_status(0)"
   ]
  },
  {
   "cell_type": "code",
   "execution_count": null,
   "metadata": {
    "collapsed": true
   },
   "outputs": [],
   "source": [
    "current_src1.set_current(qubit_params[qubit_id]['Iw'])"
   ]
  },
  {
   "cell_type": "code",
   "execution_count": 123,
   "metadata": {},
   "outputs": [
    {
     "data": {
      "text/plain": [
       "-0.00215"
      ]
     },
     "execution_count": 123,
     "metadata": {},
     "output_type": "execute_result"
    }
   ],
   "source": [
    "current_src1.get_current()"
   ]
  },
  {
   "cell_type": "markdown",
   "metadata": {},
   "source": [
    "### Осцилляции Раби"
   ]
  },
  {
   "cell_type": "code",
   "execution_count": 15,
   "metadata": {},
   "outputs": [
    {
     "data": {
      "application/vnd.jupyter.widget-view+json": {
       "model_id": "f63f173fa0dc412cbdd41ce2ec9070e8",
       "version_major": 2,
       "version_minor": 0
      },
      "text/plain": [
       "A Jupyter Widget"
      ]
     },
     "metadata": {},
     "output_type": "display_data"
    },
    {
     "name": "stdout",
     "output_type": "stream",
     "text": [
      "Started at:  Jul 06 2018 11:38:18\n",
      "6\n"
     ]
    },
    {
     "name": "stderr",
     "output_type": "stream",
     "text": [
      "C:\\ProgramData\\Anaconda3\\lib\\site-packages\\numpy\\lib\\function_base.py:2169: RuntimeWarning: invalid value encountered in remainder\n",
      "  ddmod = mod(dd + pi, 2*pi) - pi\n",
      "C:\\ProgramData\\Anaconda3\\lib\\site-packages\\numpy\\lib\\function_base.py:2170: RuntimeWarning: invalid value encountered in greater\n",
      "  _nx.copyto(ddmod, pi, where=(ddmod == -pi) & (dd > 0))\n",
      "C:\\ProgramData\\Anaconda3\\lib\\site-packages\\numpy\\lib\\function_base.py:2172: RuntimeWarning: invalid value encountered in less\n",
      "  _nx.copyto(ph_correct, 0, where=abs(dd) < discont)\n",
      "D:\\qtlab_replacement\\instruments\\Tektronix_AWG5014.py:655: ComplexWarning: Casting complex values to real discards the imaginary part\n",
      "  m1[:] = marker[:len(m1)]\n"
     ]
    },
    {
     "name": "stdout",
     "output_type": "stream",
     "text": [
      "\n",
      "Elapsed time: 0 h 15 m 17.53 s\n",
      "6\n"
     ]
    },
    {
     "data": {
      "application/vnd.jupyter.widget-view+json": {
       "model_id": "dd23e61877b84f39b6ccfd1e4d44524a",
       "version_major": 2,
       "version_minor": 0
      },
      "text/plain": [
       "A Jupyter Widget"
      ]
     },
     "metadata": {},
     "output_type": "display_data"
    },
    {
     "name": "stdout",
     "output_type": "stream",
     "text": [
      "Started at:  Jul 06 2018 11:53:42\n",
      "6\n"
     ]
    },
    {
     "name": "stderr",
     "output_type": "stream",
     "text": [
      "C:\\ProgramData\\Anaconda3\\lib\\site-packages\\numpy\\lib\\function_base.py:2169: RuntimeWarning: invalid value encountered in remainder\n",
      "  ddmod = mod(dd + pi, 2*pi) - pi\n",
      "C:\\ProgramData\\Anaconda3\\lib\\site-packages\\numpy\\lib\\function_base.py:2170: RuntimeWarning: invalid value encountered in greater\n",
      "  _nx.copyto(ddmod, pi, where=(ddmod == -pi) & (dd > 0))\n",
      "C:\\ProgramData\\Anaconda3\\lib\\site-packages\\numpy\\lib\\function_base.py:2172: RuntimeWarning: invalid value encountered in less\n",
      "  _nx.copyto(ph_correct, 0, where=abs(dd) < discont)\n",
      "D:\\qtlab_replacement\\instruments\\Tektronix_AWG5014.py:655: ComplexWarning: Casting complex values to real discards the imaginary part\n",
      "  m1[:] = marker[:len(m1)]\n"
     ]
    },
    {
     "name": "stdout",
     "output_type": "stream",
     "text": [
      "\n",
      "Elapsed time: 0 h 17 m 30.81 s\n",
      "6\n"
     ]
    },
    {
     "data": {
      "application/vnd.jupyter.widget-view+json": {
       "model_id": "3c988af5d5cc407fa9b192bb886338ee",
       "version_major": 2,
       "version_minor": 0
      },
      "text/plain": [
       "A Jupyter Widget"
      ]
     },
     "metadata": {},
     "output_type": "display_data"
    },
    {
     "name": "stdout",
     "output_type": "stream",
     "text": [
      "Started at:  Jul 06 2018 12:11:19\n",
      "6\n"
     ]
    },
    {
     "name": "stderr",
     "output_type": "stream",
     "text": [
      "C:\\ProgramData\\Anaconda3\\lib\\site-packages\\numpy\\lib\\function_base.py:2169: RuntimeWarning: invalid value encountered in remainder\n",
      "  ddmod = mod(dd + pi, 2*pi) - pi\n",
      "C:\\ProgramData\\Anaconda3\\lib\\site-packages\\numpy\\lib\\function_base.py:2170: RuntimeWarning: invalid value encountered in greater\n",
      "  _nx.copyto(ddmod, pi, where=(ddmod == -pi) & (dd > 0))\n",
      "C:\\ProgramData\\Anaconda3\\lib\\site-packages\\numpy\\lib\\function_base.py:2172: RuntimeWarning: invalid value encountered in less\n",
      "  _nx.copyto(ph_correct, 0, where=abs(dd) < discont)\n",
      "D:\\qtlab_replacement\\instruments\\Tektronix_AWG5014.py:655: ComplexWarning: Casting complex values to real discards the imaginary part\n",
      "  m1[:] = marker[:len(m1)]\n"
     ]
    },
    {
     "name": "stdout",
     "output_type": "stream",
     "text": [
      "\n",
      "Elapsed time: 0 h 17 m 26.08 s\n",
      "6\n"
     ]
    }
   ],
   "source": [
    "rabi_channels = ['iq_ex_00-1-01', 'iq_ex_00-1-10', 'iq_ex_00-2-11']\n",
    "for rabi_channel in rabi_channels:\n",
    "    measurement_name = 'Rabi channel {}'.format(rabi_channel)\n",
    "\n",
    "    ex_amplitude =0.4\n",
    "    pause_length = 0\n",
    "    lengths = np.arange(0., 0.2e-6, 0.002e-6)\n",
    "    readout_begin = np.max(lengths)\n",
    "    def set_ex_length(length):\n",
    "        awg_tek.set_nop(awg_tek.get_clock()/rep_rate)\n",
    "        sequence = [pg.p(None, readout_begin-length), \n",
    "                    pg.p(rabi_channel, length, pg.rect, ex_amplitude), \n",
    "                    pg.p(None, pause_length), \n",
    "                    pg.p('ro_trg', trg_length, pg.rect, 1), \n",
    "                    pg.p('iq_ro', ro_dac_length, pg.rect, ro_amplitude)]\n",
    "        pg.set_seq(sequence)\n",
    "        awg_tek.run()\n",
    "\n",
    "    measurement = sweep.sweep(adc_reducer, (lengths, set_ex_length, 'Rabi pulse length', 's'), filename=measurement_name)\n",
    "\n",
    "\n",
    "    measurement_fitted, fitted_parameters = fitting.S21pm_fit(measurement, fitting.exp_sin_fit)\n",
    "\n",
    "\n",
    "    annotation = 'Phase: {0:4.4g} rad, Freq: {1:4.4g}, Decay: {2:4.4g} s'.format(fitted_parameters['phase'], \n",
    "                                                                                 fitted_parameters['freq'], \n",
    "                                                                                 fitted_parameters['decay'])\n",
    "    save_pkl.save_pkl({'type':'Rabi','name': 'qubit' }, measurement_fitted, annotation=annotation, filename=measurement_name)"
   ]
  },
  {
   "cell_type": "code",
   "execution_count": 17,
   "metadata": {},
   "outputs": [
    {
     "data": {
      "application/vnd.jupyter.widget-view+json": {
       "model_id": "b735149ea69e4a3881dca040f4d4ab73",
       "version_major": 2,
       "version_minor": 0
      },
      "text/plain": [
       "A Jupyter Widget"
      ]
     },
     "metadata": {},
     "output_type": "display_data"
    },
    {
     "name": "stdout",
     "output_type": "stream",
     "text": [
      "Started at:  Jul 06 2018 12:52:44\n",
      "4\n",
      "0.0 0.0\n"
     ]
    },
    {
     "name": "stderr",
     "output_type": "stream",
     "text": [
      "D:\\qtlab_replacement\\instruments\\Tektronix_AWG5014.py:655: ComplexWarning: Casting complex values to real discards the imaginary part\n",
      "  m1[:] = marker[:len(m1)]\n"
     ]
    },
    {
     "name": "stdout",
     "output_type": "stream",
     "text": [
      "0.0 0.0\n",
      "0.02 0.0\n",
      "0.04 0.0\n",
      "0.06 0.0\n",
      "0.08 0.0\n",
      "0.1 0.0\n",
      "0.12 0.0\n",
      "0.14 0.0\n",
      "0.16 0.0\n",
      "0.18 0.0\n",
      "0.2 0.0\n",
      "0.22 0.0\n",
      "0.24 0.0\n",
      "0.26 0.0\n",
      "0.28 0.0\n",
      "0.3 0.0\n",
      "0.32 0.0\n",
      "0.34 0.0\n",
      "0.36 0.0\n",
      "0.38 0.0\n",
      "0.4 0.0\n",
      "0.42 0.0\n",
      "0.44 0.0\n",
      "0.46 0.0\n",
      "0.48 0.0\n",
      "0.5 0.0\n",
      "0.52 0.0\n",
      "0.54 0.0\n",
      "0.56 0.0\n",
      "0.58 0.0\n",
      "0.6 0.0\n",
      "0.62 0.0\n",
      "0.64 0.0\n",
      "0.66 0.0\n",
      "0.68 0.0\n",
      "0.7 0.0\n",
      "0.72 0.0\n",
      "0.74 0.0\n",
      "0.76 0.0\n",
      "0.78 0.0\n",
      "0.78 4e-09\n",
      "0.0 4e-09\n",
      "0.02 4e-09\n",
      "0.04 4e-09\n",
      "0.06 4e-09\n",
      "0.08 4e-09\n",
      "0.1 4e-09\n",
      "0.12 4e-09\n",
      "0.14 4e-09\n",
      "0.16 4e-09\n",
      "0.18 4e-09\n",
      "0.2 4e-09\n",
      "0.22 4e-09\n",
      "0.24 4e-09\n",
      "0.26 4e-09\n",
      "0.28 4e-09\n",
      "0.3 4e-09\n",
      "0.32 4e-09\n",
      "0.34 4e-09\n",
      "0.36 4e-09\n",
      "0.38 4e-09\n",
      "0.4 4e-09\n",
      "0.42 4e-09\n",
      "0.44 4e-09\n",
      "0.46 4e-09\n",
      "0.48 4e-09\n",
      "0.5 4e-09\n",
      "0.52 4e-09\n",
      "0.54 4e-09\n",
      "0.56 4e-09\n",
      "0.58 4e-09\n",
      "0.6 4e-09\n",
      "0.62 4e-09\n",
      "0.64 4e-09\n",
      "0.66 4e-09\n",
      "0.68 4e-09\n",
      "0.7 4e-09\n",
      "0.72 4e-09\n",
      "0.74 4e-09\n",
      "0.76 4e-09\n",
      "0.78 4e-09\n",
      "0.78 8e-09\n",
      "0.0 8e-09\n",
      "0.02 8e-09\n",
      "0.04 8e-09\n",
      "0.06 8e-09\n",
      "0.08 8e-09\n",
      "0.1 8e-09\n",
      "0.12 8e-09\n",
      "0.14 8e-09\n",
      "0.16 8e-09\n",
      "0.18 8e-09\n",
      "0.2 8e-09\n",
      "0.22 8e-09\n",
      "0.24 8e-09\n",
      "0.26 8e-09\n",
      "0.28 8e-09\n",
      "0.3 8e-09\n",
      "0.32 8e-09\n",
      "0.34 8e-09\n",
      "0.36 8e-09\n",
      "0.38 8e-09\n",
      "0.4 8e-09\n",
      "0.42 8e-09\n",
      "0.44 8e-09\n",
      "0.46 8e-09\n",
      "0.48 8e-09\n",
      "0.5 8e-09\n",
      "0.52 8e-09\n",
      "0.54 8e-09\n",
      "0.56 8e-09\n",
      "0.58 8e-09\n",
      "0.6 8e-09\n",
      "0.62 8e-09\n",
      "0.64 8e-09\n",
      "0.66 8e-09\n",
      "0.68 8e-09\n",
      "0.7 8e-09\n",
      "0.72 8e-09\n",
      "0.74 8e-09\n",
      "0.76 8e-09\n",
      "0.78 8e-09\n",
      "0.78 1.2e-08\n",
      "0.0 1.2e-08\n",
      "0.02 1.2e-08\n",
      "0.04 1.2e-08\n",
      "0.06 1.2e-08\n",
      "0.08 1.2e-08\n",
      "0.1 1.2e-08\n",
      "0.12 1.2e-08\n",
      "0.14 1.2e-08\n",
      "0.16 1.2e-08\n",
      "0.18 1.2e-08\n",
      "0.2 1.2e-08\n",
      "0.22 1.2e-08\n",
      "0.24 1.2e-08\n",
      "0.26 1.2e-08\n",
      "0.28 1.2e-08\n",
      "0.3 1.2e-08\n",
      "0.32 1.2e-08\n",
      "0.34 1.2e-08\n",
      "0.36 1.2e-08\n",
      "0.38 1.2e-08\n",
      "0.4 1.2e-08\n",
      "0.42 1.2e-08\n",
      "0.44 1.2e-08\n",
      "0.46 1.2e-08\n",
      "0.48 1.2e-08\n",
      "0.5 1.2e-08\n",
      "0.52 1.2e-08\n",
      "0.54 1.2e-08\n",
      "0.56 1.2e-08\n",
      "0.58 1.2e-08\n",
      "0.6 1.2e-08\n",
      "0.62 1.2e-08\n",
      "0.64 1.2e-08\n",
      "0.66 1.2e-08\n",
      "0.68 1.2e-08\n",
      "0.7 1.2e-08\n",
      "0.72 1.2e-08\n",
      "0.74 1.2e-08\n",
      "0.76 1.2e-08\n",
      "0.78 1.2e-08\n",
      "0.78 1.6e-08\n",
      "0.0 1.6e-08\n",
      "0.02 1.6e-08\n",
      "0.04 1.6e-08\n",
      "0.06 1.6e-08\n",
      "0.08 1.6e-08\n",
      "0.1 1.6e-08\n",
      "0.12 1.6e-08\n",
      "0.14 1.6e-08\n",
      "0.16 1.6e-08\n",
      "0.18 1.6e-08\n",
      "0.2 1.6e-08\n",
      "0.22 1.6e-08\n",
      "0.24 1.6e-08\n",
      "0.26 1.6e-08\n",
      "0.28 1.6e-08\n",
      "0.3 1.6e-08\n",
      "0.32 1.6e-08\n",
      "0.34 1.6e-08\n",
      "0.36 1.6e-08\n",
      "0.38 1.6e-08\n",
      "0.4 1.6e-08\n",
      "0.42 1.6e-08\n",
      "0.44 1.6e-08\n",
      "0.46 1.6e-08\n",
      "0.48 1.6e-08\n",
      "0.5 1.6e-08\n",
      "0.52 1.6e-08\n",
      "0.54 1.6e-08\n",
      "0.56 1.6e-08\n",
      "0.58 1.6e-08\n",
      "0.6 1.6e-08\n",
      "0.62 1.6e-08\n",
      "0.64 1.6e-08\n",
      "0.66 1.6e-08\n",
      "0.68 1.6e-08\n",
      "0.7 1.6e-08\n",
      "0.72 1.6e-08\n",
      "0.74 1.6e-08\n",
      "0.76 1.6e-08\n",
      "0.78 1.6e-08\n",
      "0.78 2e-08\n",
      "0.0 2e-08\n",
      "0.02 2e-08\n",
      "0.04 2e-08\n",
      "0.06 2e-08\n",
      "0.08 2e-08\n",
      "0.1 2e-08\n",
      "0.12 2e-08\n",
      "0.14 2e-08\n",
      "0.16 2e-08\n",
      "0.18 2e-08\n",
      "0.2 2e-08\n",
      "0.22 2e-08\n",
      "0.24 2e-08\n",
      "0.26 2e-08\n",
      "0.28 2e-08\n",
      "0.3 2e-08\n",
      "0.32 2e-08\n",
      "0.34 2e-08\n",
      "0.36 2e-08\n",
      "0.38 2e-08\n",
      "0.4 2e-08\n",
      "0.42 2e-08\n",
      "0.44 2e-08\n",
      "0.46 2e-08\n",
      "0.48 2e-08\n",
      "0.5 2e-08\n",
      "0.52 2e-08\n",
      "0.54 2e-08\n",
      "0.56 2e-08\n",
      "0.58 2e-08\n",
      "0.6 2e-08\n",
      "0.62 2e-08\n",
      "0.64 2e-08\n",
      "0.66 2e-08\n",
      "0.68 2e-08\n",
      "0.7 2e-08\n",
      "0.72 2e-08\n",
      "0.74 2e-08\n",
      "0.76 2e-08\n",
      "0.78 2e-08\n",
      "0.78 2.4e-08\n",
      "0.0 2.4e-08\n",
      "0.02 2.4e-08\n",
      "0.04 2.4e-08\n",
      "0.06 2.4e-08\n",
      "0.08 2.4e-08\n",
      "0.1 2.4e-08\n",
      "0.12 2.4e-08\n",
      "0.14 2.4e-08\n",
      "0.16 2.4e-08\n",
      "0.18 2.4e-08\n",
      "0.2 2.4e-08\n",
      "0.22 2.4e-08\n",
      "0.24 2.4e-08\n",
      "0.26 2.4e-08\n",
      "0.28 2.4e-08\n",
      "0.3 2.4e-08\n",
      "0.32 2.4e-08\n",
      "0.34 2.4e-08\n",
      "0.36 2.4e-08\n",
      "0.38 2.4e-08\n",
      "0.4 2.4e-08\n",
      "0.42 2.4e-08\n",
      "0.44 2.4e-08\n",
      "0.46 2.4e-08\n",
      "0.48 2.4e-08\n",
      "0.5 2.4e-08\n",
      "0.52 2.4e-08\n",
      "0.54 2.4e-08\n",
      "0.56 2.4e-08\n",
      "0.58 2.4e-08\n",
      "0.6 2.4e-08\n",
      "0.62 2.4e-08\n",
      "0.64 2.4e-08\n",
      "0.66 2.4e-08\n",
      "0.68 2.4e-08\n",
      "0.7 2.4e-08\n",
      "0.72 2.4e-08\n",
      "0.74 2.4e-08\n",
      "0.76 2.4e-08\n",
      "0.78 2.4e-08\n",
      "0.78 2.8e-08\n",
      "0.0 2.8e-08\n",
      "0.02 2.8e-08\n",
      "0.04 2.8e-08\n",
      "0.06 2.8e-08\n",
      "0.08 2.8e-08\n",
      "0.1 2.8e-08\n",
      "0.12 2.8e-08\n",
      "0.14 2.8e-08\n",
      "0.16 2.8e-08\n",
      "0.18 2.8e-08\n",
      "0.2 2.8e-08\n",
      "0.22 2.8e-08\n",
      "0.24 2.8e-08\n",
      "0.26 2.8e-08\n",
      "0.28 2.8e-08\n",
      "0.3 2.8e-08\n",
      "0.32 2.8e-08\n",
      "0.34 2.8e-08\n",
      "0.36 2.8e-08\n",
      "0.38 2.8e-08\n",
      "0.4 2.8e-08\n",
      "0.42 2.8e-08\n",
      "0.44 2.8e-08\n",
      "0.46 2.8e-08\n",
      "0.48 2.8e-08\n",
      "0.5 2.8e-08\n",
      "0.52 2.8e-08\n",
      "0.54 2.8e-08\n",
      "0.56 2.8e-08\n",
      "0.58 2.8e-08\n",
      "0.6 2.8e-08\n",
      "0.62 2.8e-08\n",
      "0.64 2.8e-08\n",
      "0.66 2.8e-08\n",
      "0.68 2.8e-08\n",
      "0.7 2.8e-08\n",
      "0.72 2.8e-08\n",
      "0.74 2.8e-08\n",
      "0.76 2.8e-08\n",
      "0.78 2.8e-08\n",
      "0.78 3.2e-08\n",
      "0.0 3.2e-08\n",
      "0.02 3.2e-08\n",
      "0.04 3.2e-08\n",
      "0.06 3.2e-08\n",
      "0.08 3.2e-08\n",
      "0.1 3.2e-08\n",
      "0.12 3.2e-08\n",
      "0.14 3.2e-08\n",
      "0.16 3.2e-08\n",
      "0.18 3.2e-08\n",
      "0.2 3.2e-08\n",
      "0.22 3.2e-08\n",
      "0.24 3.2e-08\n",
      "0.26 3.2e-08\n",
      "0.28 3.2e-08\n",
      "0.3 3.2e-08\n",
      "0.32 3.2e-08\n",
      "0.34 3.2e-08\n",
      "0.36 3.2e-08\n",
      "0.38 3.2e-08\n",
      "0.4 3.2e-08\n",
      "0.42 3.2e-08\n",
      "0.44 3.2e-08\n",
      "0.46 3.2e-08\n",
      "0.48 3.2e-08\n",
      "0.5 3.2e-08\n",
      "0.52 3.2e-08\n",
      "0.54 3.2e-08\n",
      "0.56 3.2e-08\n",
      "0.58 3.2e-08\n",
      "0.6 3.2e-08\n",
      "0.62 3.2e-08\n",
      "0.64 3.2e-08\n",
      "0.66 3.2e-08\n",
      "0.68 3.2e-08\n",
      "0.7 3.2e-08\n",
      "0.72 3.2e-08\n",
      "0.74 3.2e-08\n",
      "0.76 3.2e-08\n",
      "0.78 3.2e-08\n",
      "0.78 3.6e-08\n",
      "0.0 3.6e-08\n",
      "0.02 3.6e-08\n",
      "0.04 3.6e-08\n",
      "0.06 3.6e-08\n",
      "0.08 3.6e-08\n",
      "0.1 3.6e-08\n",
      "0.12 3.6e-08\n",
      "0.14 3.6e-08\n",
      "0.16 3.6e-08\n",
      "0.18 3.6e-08\n",
      "0.2 3.6e-08\n",
      "0.22 3.6e-08\n",
      "0.24 3.6e-08\n",
      "0.26 3.6e-08\n",
      "0.28 3.6e-08\n",
      "0.3 3.6e-08\n",
      "0.32 3.6e-08\n",
      "0.34 3.6e-08\n",
      "0.36 3.6e-08\n",
      "0.38 3.6e-08\n",
      "0.4 3.6e-08\n",
      "0.42 3.6e-08\n",
      "0.44 3.6e-08\n",
      "0.46 3.6e-08\n",
      "0.48 3.6e-08\n",
      "0.5 3.6e-08\n",
      "0.52 3.6e-08\n",
      "0.54 3.6e-08\n",
      "0.56 3.6e-08\n",
      "0.58 3.6e-08\n",
      "0.6 3.6e-08\n",
      "0.62 3.6e-08\n",
      "0.64 3.6e-08\n",
      "0.66 3.6e-08\n",
      "0.68 3.6e-08\n",
      "0.7 3.6e-08\n",
      "0.72 3.6e-08\n",
      "0.74 3.6e-08\n",
      "0.76 3.6e-08\n",
      "0.78 3.6e-08\n",
      "0.78 4e-08\n",
      "0.0 4e-08\n",
      "0.02 4e-08\n",
      "0.04 4e-08\n",
      "0.06 4e-08\n",
      "0.08 4e-08\n",
      "0.1 4e-08\n",
      "0.12 4e-08\n",
      "0.14 4e-08\n",
      "0.16 4e-08\n",
      "0.18 4e-08\n",
      "0.2 4e-08\n",
      "0.22 4e-08\n",
      "0.24 4e-08\n",
      "0.26 4e-08\n",
      "0.28 4e-08\n",
      "0.3 4e-08\n",
      "0.32 4e-08\n",
      "0.34 4e-08\n",
      "0.36 4e-08\n",
      "0.38 4e-08\n",
      "0.4 4e-08\n",
      "0.42 4e-08\n",
      "0.44 4e-08\n",
      "0.46 4e-08\n",
      "0.48 4e-08\n",
      "0.5 4e-08\n",
      "0.52 4e-08\n",
      "0.54 4e-08\n",
      "0.56 4e-08\n",
      "0.58 4e-08\n",
      "0.6 4e-08\n",
      "0.62 4e-08\n",
      "0.64 4e-08\n",
      "0.66 4e-08\n",
      "0.68 4e-08\n",
      "0.7 4e-08\n",
      "0.72 4e-08\n",
      "0.74 4e-08\n",
      "0.76 4e-08\n",
      "0.78 4e-08\n",
      "0.78 4.4e-08\n",
      "0.0 4.4e-08\n",
      "0.02 4.4e-08\n",
      "0.04 4.4e-08\n",
      "0.06 4.4e-08\n",
      "0.08 4.4e-08\n",
      "0.1 4.4e-08\n",
      "0.12 4.4e-08\n",
      "0.14 4.4e-08\n",
      "0.16 4.4e-08\n",
      "0.18 4.4e-08\n",
      "0.2 4.4e-08\n",
      "0.22 4.4e-08\n",
      "0.24 4.4e-08\n",
      "0.26 4.4e-08\n",
      "0.28 4.4e-08\n",
      "0.3 4.4e-08\n",
      "0.32 4.4e-08\n",
      "0.34 4.4e-08\n",
      "0.36 4.4e-08\n",
      "0.38 4.4e-08\n",
      "0.4 4.4e-08\n",
      "0.42 4.4e-08\n",
      "0.44 4.4e-08\n",
      "0.46 4.4e-08\n",
      "0.48 4.4e-08\n",
      "0.5 4.4e-08\n",
      "0.52 4.4e-08\n",
      "0.54 4.4e-08\n",
      "0.56 4.4e-08\n",
      "0.58 4.4e-08\n",
      "0.6 4.4e-08\n",
      "0.62 4.4e-08\n",
      "0.64 4.4e-08\n",
      "0.66 4.4e-08\n",
      "0.68 4.4e-08\n",
      "0.7 4.4e-08\n",
      "0.72 4.4e-08\n",
      "0.74 4.4e-08\n",
      "0.76 4.4e-08\n",
      "0.78 4.4e-08\n",
      "0.78 4.8e-08\n",
      "0.0 4.8e-08\n",
      "0.02 4.8e-08\n",
      "0.04 4.8e-08\n",
      "0.06 4.8e-08\n",
      "0.08 4.8e-08\n",
      "0.1 4.8e-08\n",
      "0.12 4.8e-08\n",
      "0.14 4.8e-08\n",
      "0.16 4.8e-08\n",
      "0.18 4.8e-08\n",
      "0.2 4.8e-08\n",
      "0.22 4.8e-08\n",
      "0.24 4.8e-08\n",
      "0.26 4.8e-08\n",
      "0.28 4.8e-08\n",
      "0.3 4.8e-08\n",
      "0.32 4.8e-08\n",
      "0.34 4.8e-08\n",
      "0.36 4.8e-08\n",
      "0.38 4.8e-08\n",
      "0.4 4.8e-08\n",
      "0.42 4.8e-08\n",
      "0.44 4.8e-08\n",
      "0.46 4.8e-08\n",
      "0.48 4.8e-08\n",
      "0.5 4.8e-08\n",
      "0.52 4.8e-08\n",
      "0.54 4.8e-08\n",
      "0.56 4.8e-08\n",
      "0.58 4.8e-08\n",
      "0.6 4.8e-08\n",
      "0.62 4.8e-08\n",
      "0.64 4.8e-08\n",
      "0.66 4.8e-08\n",
      "0.68 4.8e-08\n",
      "0.7 4.8e-08\n",
      "0.72 4.8e-08\n",
      "0.74 4.8e-08\n",
      "0.76 4.8e-08\n",
      "0.78 4.8e-08\n",
      "0.78 5.2e-08\n",
      "0.0 5.2e-08\n",
      "0.02 5.2e-08\n",
      "0.04 5.2e-08\n",
      "0.06 5.2e-08\n",
      "0.08 5.2e-08\n",
      "0.1 5.2e-08\n",
      "0.12 5.2e-08\n",
      "0.14 5.2e-08\n",
      "0.16 5.2e-08\n",
      "0.18 5.2e-08\n",
      "0.2 5.2e-08\n",
      "0.22 5.2e-08\n",
      "0.24 5.2e-08\n",
      "0.26 5.2e-08\n",
      "0.28 5.2e-08\n",
      "0.3 5.2e-08\n",
      "0.32 5.2e-08\n",
      "0.34 5.2e-08\n",
      "0.36 5.2e-08\n",
      "0.38 5.2e-08\n",
      "0.4 5.2e-08\n",
      "0.42 5.2e-08\n",
      "0.44 5.2e-08\n",
      "0.46 5.2e-08\n",
      "0.48 5.2e-08\n",
      "0.5 5.2e-08\n",
      "0.52 5.2e-08\n",
      "0.54 5.2e-08\n",
      "0.56 5.2e-08\n",
      "0.58 5.2e-08\n",
      "0.6 5.2e-08\n",
      "0.62 5.2e-08\n",
      "0.64 5.2e-08\n",
      "0.66 5.2e-08\n",
      "0.68 5.2e-08\n",
      "0.7 5.2e-08\n",
      "0.72 5.2e-08\n",
      "0.74 5.2e-08\n",
      "0.76 5.2e-08\n",
      "0.78 5.2e-08\n",
      "0.78 5.6e-08\n",
      "0.0 5.6e-08\n",
      "0.02 5.6e-08\n",
      "0.04 5.6e-08\n",
      "0.06 5.6e-08\n",
      "0.08 5.6e-08\n",
      "0.1 5.6e-08\n",
      "0.12 5.6e-08\n",
      "0.14 5.6e-08\n",
      "0.16 5.6e-08\n",
      "0.18 5.6e-08\n",
      "0.2 5.6e-08\n",
      "0.22 5.6e-08\n",
      "0.24 5.6e-08\n",
      "0.26 5.6e-08\n",
      "0.28 5.6e-08\n",
      "0.3 5.6e-08\n",
      "0.32 5.6e-08\n",
      "0.34 5.6e-08\n",
      "0.36 5.6e-08\n",
      "0.38 5.6e-08\n",
      "0.4 5.6e-08\n",
      "0.42 5.6e-08\n",
      "0.44 5.6e-08\n",
      "0.46 5.6e-08\n",
      "0.48 5.6e-08\n",
      "0.5 5.6e-08\n",
      "0.52 5.6e-08\n",
      "0.54 5.6e-08\n",
      "0.56 5.6e-08\n",
      "0.58 5.6e-08\n",
      "0.6 5.6e-08\n",
      "0.62 5.6e-08\n",
      "0.64 5.6e-08\n",
      "0.66 5.6e-08\n",
      "0.68 5.6e-08\n",
      "0.7 5.6e-08\n",
      "0.72 5.6e-08\n",
      "0.74 5.6e-08\n",
      "0.76 5.6e-08\n",
      "0.78 5.6e-08\n",
      "0.78 6e-08\n",
      "0.0 6e-08\n",
      "0.02 6e-08\n",
      "0.04 6e-08\n",
      "0.06 6e-08\n",
      "0.08 6e-08\n",
      "0.1 6e-08\n",
      "0.12 6e-08\n",
      "0.14 6e-08\n",
      "0.16 6e-08\n",
      "0.18 6e-08\n",
      "0.2 6e-08\n",
      "0.22 6e-08\n",
      "0.24 6e-08\n",
      "0.26 6e-08\n",
      "0.28 6e-08\n",
      "0.3 6e-08\n",
      "0.32 6e-08\n",
      "0.34 6e-08\n",
      "0.36 6e-08\n",
      "0.38 6e-08\n",
      "0.4 6e-08\n",
      "0.42 6e-08\n",
      "0.44 6e-08\n",
      "0.46 6e-08\n",
      "0.48 6e-08\n",
      "0.5 6e-08\n",
      "0.52 6e-08\n",
      "0.54 6e-08\n",
      "0.56 6e-08\n",
      "0.58 6e-08\n",
      "0.6 6e-08\n",
      "0.62 6e-08\n",
      "0.64 6e-08\n",
      "0.66 6e-08\n",
      "0.68 6e-08\n",
      "0.7 6e-08\n",
      "0.72 6e-08\n",
      "0.74 6e-08\n",
      "0.76 6e-08\n",
      "0.78 6e-08\n",
      "0.78 6.4e-08\n",
      "0.0 6.4e-08\n",
      "0.02 6.4e-08\n",
      "0.04 6.4e-08\n",
      "0.06 6.4e-08\n",
      "0.08 6.4e-08\n",
      "0.1 6.4e-08\n",
      "0.12 6.4e-08\n",
      "0.14 6.4e-08\n",
      "0.16 6.4e-08\n",
      "0.18 6.4e-08\n",
      "0.2 6.4e-08\n",
      "0.22 6.4e-08\n",
      "0.24 6.4e-08\n",
      "0.26 6.4e-08\n",
      "0.28 6.4e-08\n",
      "0.3 6.4e-08\n",
      "0.32 6.4e-08\n",
      "0.34 6.4e-08\n",
      "0.36 6.4e-08\n",
      "0.38 6.4e-08\n",
      "0.4 6.4e-08\n",
      "0.42 6.4e-08\n",
      "0.44 6.4e-08\n",
      "0.46 6.4e-08\n",
      "0.48 6.4e-08\n",
      "0.5 6.4e-08\n",
      "0.52 6.4e-08\n",
      "0.54 6.4e-08\n",
      "0.56 6.4e-08\n"
     ]
    },
    {
     "name": "stdout",
     "output_type": "stream",
     "text": [
      "0.58 6.4e-08\n",
      "0.6 6.4e-08\n",
      "0.62 6.4e-08\n",
      "0.64 6.4e-08\n",
      "0.66 6.4e-08\n",
      "0.68 6.4e-08\n",
      "0.7 6.4e-08\n",
      "0.72 6.4e-08\n",
      "0.74 6.4e-08\n",
      "0.76 6.4e-08\n",
      "0.78 6.4e-08\n",
      "0.78 6.8e-08\n",
      "0.0 6.8e-08\n",
      "0.02 6.8e-08\n",
      "0.04 6.8e-08\n",
      "0.06 6.8e-08\n",
      "0.08 6.8e-08\n",
      "0.1 6.8e-08\n",
      "0.12 6.8e-08\n",
      "0.14 6.8e-08\n",
      "0.16 6.8e-08\n",
      "0.18 6.8e-08\n",
      "0.2 6.8e-08\n",
      "0.22 6.8e-08\n",
      "0.24 6.8e-08\n",
      "0.26 6.8e-08\n",
      "0.28 6.8e-08\n",
      "0.3 6.8e-08\n",
      "0.32 6.8e-08\n",
      "0.34 6.8e-08\n",
      "0.36 6.8e-08\n",
      "0.38 6.8e-08\n",
      "0.4 6.8e-08\n",
      "0.42 6.8e-08\n",
      "0.44 6.8e-08\n",
      "0.46 6.8e-08\n",
      "0.48 6.8e-08\n",
      "0.5 6.8e-08\n",
      "0.52 6.8e-08\n",
      "0.54 6.8e-08\n",
      "0.56 6.8e-08\n",
      "0.58 6.8e-08\n",
      "0.6 6.8e-08\n",
      "0.62 6.8e-08\n",
      "0.64 6.8e-08\n",
      "0.66 6.8e-08\n",
      "0.68 6.8e-08\n",
      "0.7 6.8e-08\n",
      "0.72 6.8e-08\n",
      "0.74 6.8e-08\n",
      "0.76 6.8e-08\n",
      "0.78 6.8e-08\n",
      "0.78 7.2e-08\n",
      "0.0 7.2e-08\n",
      "0.02 7.2e-08\n",
      "0.04 7.2e-08\n",
      "0.06 7.2e-08\n",
      "0.08 7.2e-08\n",
      "0.1 7.2e-08\n",
      "0.12 7.2e-08\n",
      "0.14 7.2e-08\n",
      "0.16 7.2e-08\n",
      "0.18 7.2e-08\n",
      "0.2 7.2e-08\n",
      "0.22 7.2e-08\n",
      "0.24 7.2e-08\n",
      "0.26 7.2e-08\n",
      "0.28 7.2e-08\n",
      "0.3 7.2e-08\n",
      "0.32 7.2e-08\n",
      "0.34 7.2e-08\n",
      "0.36 7.2e-08\n",
      "0.38 7.2e-08\n",
      "0.4 7.2e-08\n",
      "0.42 7.2e-08\n",
      "0.44 7.2e-08\n",
      "0.46 7.2e-08\n",
      "0.48 7.2e-08\n",
      "0.5 7.2e-08\n",
      "0.52 7.2e-08\n",
      "0.54 7.2e-08\n",
      "0.56 7.2e-08\n",
      "0.58 7.2e-08\n",
      "0.6 7.2e-08\n",
      "0.62 7.2e-08\n",
      "0.64 7.2e-08\n",
      "0.66 7.2e-08\n",
      "0.68 7.2e-08\n",
      "0.7 7.2e-08\n",
      "0.72 7.2e-08\n",
      "0.74 7.2e-08\n",
      "0.76 7.2e-08\n",
      "0.78 7.2e-08\n",
      "0.78 7.6e-08\n",
      "0.0 7.6e-08\n",
      "0.02 7.6e-08\n",
      "0.04 7.6e-08\n",
      "0.06 7.6e-08\n",
      "0.08 7.6e-08\n",
      "0.1 7.6e-08\n",
      "0.12 7.6e-08\n",
      "0.14 7.6e-08\n",
      "0.16 7.6e-08\n",
      "0.18 7.6e-08\n",
      "0.2 7.6e-08\n",
      "0.22 7.6e-08\n",
      "0.24 7.6e-08\n",
      "0.26 7.6e-08\n",
      "0.28 7.6e-08\n",
      "0.3 7.6e-08\n",
      "0.32 7.6e-08\n",
      "0.34 7.6e-08\n",
      "0.36 7.6e-08\n",
      "0.38 7.6e-08\n",
      "0.4 7.6e-08\n",
      "0.42 7.6e-08\n",
      "0.44 7.6e-08\n",
      "0.46 7.6e-08\n",
      "0.48 7.6e-08\n",
      "0.5 7.6e-08\n",
      "0.52 7.6e-08\n",
      "0.54 7.6e-08\n",
      "0.56 7.6e-08\n",
      "0.58 7.6e-08\n",
      "0.6 7.6e-08\n",
      "0.62 7.6e-08\n",
      "0.64 7.6e-08\n",
      "0.66 7.6e-08\n",
      "0.68 7.6e-08\n",
      "0.7 7.6e-08\n",
      "0.72 7.6e-08\n",
      "0.74 7.6e-08\n",
      "0.76 7.6e-08\n",
      "0.78 7.6e-08\n",
      "0.78 8e-08\n",
      "0.0 8e-08\n",
      "0.02 8e-08\n",
      "0.04 8e-08\n",
      "0.06 8e-08\n",
      "0.08 8e-08\n",
      "0.1 8e-08\n",
      "0.12 8e-08\n",
      "0.14 8e-08\n",
      "0.16 8e-08\n",
      "0.18 8e-08\n",
      "0.2 8e-08\n",
      "0.22 8e-08\n",
      "0.24 8e-08\n",
      "0.26 8e-08\n",
      "0.28 8e-08\n",
      "0.3 8e-08\n",
      "0.32 8e-08\n",
      "0.34 8e-08\n",
      "0.36 8e-08\n",
      "0.38 8e-08\n",
      "0.4 8e-08\n",
      "0.42 8e-08\n",
      "0.44 8e-08\n",
      "0.46 8e-08\n",
      "0.48 8e-08\n",
      "0.5 8e-08\n",
      "0.52 8e-08\n",
      "0.54 8e-08\n",
      "0.56 8e-08\n",
      "0.58 8e-08\n",
      "0.6 8e-08\n",
      "0.62 8e-08\n",
      "0.64 8e-08\n",
      "0.66 8e-08\n",
      "0.68 8e-08\n",
      "0.7 8e-08\n",
      "0.72 8e-08\n",
      "0.74 8e-08\n",
      "0.76 8e-08\n",
      "0.78 8e-08\n",
      "0.78 8.4e-08\n",
      "0.0 8.4e-08\n",
      "0.02 8.4e-08\n",
      "0.04 8.4e-08\n",
      "0.06 8.4e-08\n",
      "0.08 8.4e-08\n",
      "0.1 8.4e-08\n",
      "0.12 8.4e-08\n",
      "0.14 8.4e-08\n",
      "0.16 8.4e-08\n",
      "0.18 8.4e-08\n",
      "0.2 8.4e-08\n",
      "0.22 8.4e-08\n",
      "0.24 8.4e-08\n",
      "0.26 8.4e-08\n",
      "0.28 8.4e-08\n",
      "0.3 8.4e-08\n",
      "0.32 8.4e-08\n",
      "0.34 8.4e-08\n",
      "0.36 8.4e-08\n",
      "0.38 8.4e-08\n",
      "0.4 8.4e-08\n",
      "0.42 8.4e-08\n",
      "0.44 8.4e-08\n",
      "0.46 8.4e-08\n",
      "0.48 8.4e-08\n",
      "0.5 8.4e-08\n",
      "0.52 8.4e-08\n",
      "0.54 8.4e-08\n",
      "0.56 8.4e-08\n",
      "0.58 8.4e-08\n",
      "0.6 8.4e-08\n",
      "0.62 8.4e-08\n",
      "0.64 8.4e-08\n",
      "0.66 8.4e-08\n",
      "0.68 8.4e-08\n",
      "0.7 8.4e-08\n",
      "0.72 8.4e-08\n",
      "0.74 8.4e-08\n",
      "0.76 8.4e-08\n",
      "0.78 8.4e-08\n",
      "0.78 8.8e-08\n",
      "0.0 8.8e-08\n",
      "0.02 8.8e-08\n",
      "0.04 8.8e-08\n",
      "0.06 8.8e-08\n",
      "0.08 8.8e-08\n",
      "0.1 8.8e-08\n",
      "0.12 8.8e-08\n",
      "0.14 8.8e-08\n",
      "0.16 8.8e-08\n",
      "0.18 8.8e-08\n",
      "0.2 8.8e-08\n",
      "0.22 8.8e-08\n",
      "0.24 8.8e-08\n",
      "0.26 8.8e-08\n",
      "0.28 8.8e-08\n",
      "0.3 8.8e-08\n",
      "0.32 8.8e-08\n",
      "0.34 8.8e-08\n",
      "0.36 8.8e-08\n",
      "0.38 8.8e-08\n",
      "0.4 8.8e-08\n",
      "0.42 8.8e-08\n",
      "0.44 8.8e-08\n",
      "0.46 8.8e-08\n",
      "0.48 8.8e-08\n",
      "0.5 8.8e-08\n",
      "0.52 8.8e-08\n",
      "0.54 8.8e-08\n",
      "0.56 8.8e-08\n",
      "0.58 8.8e-08\n",
      "0.6 8.8e-08\n",
      "0.62 8.8e-08\n",
      "0.64 8.8e-08\n",
      "0.66 8.8e-08\n",
      "0.68 8.8e-08\n",
      "0.7 8.8e-08\n",
      "0.72 8.8e-08\n",
      "0.74 8.8e-08\n",
      "0.76 8.8e-08\n",
      "0.78 8.8e-08\n",
      "0.78 9.2e-08\n",
      "0.0 9.2e-08\n",
      "0.02 9.2e-08\n",
      "0.04 9.2e-08\n",
      "0.06 9.2e-08\n",
      "0.08 9.2e-08\n",
      "0.1 9.2e-08\n",
      "0.12 9.2e-08\n",
      "0.14 9.2e-08\n",
      "0.16 9.2e-08\n",
      "0.18 9.2e-08\n",
      "0.2 9.2e-08\n",
      "0.22 9.2e-08\n",
      "0.24 9.2e-08\n",
      "0.26 9.2e-08\n",
      "0.28 9.2e-08\n",
      "0.3 9.2e-08\n",
      "0.32 9.2e-08\n",
      "0.34 9.2e-08\n",
      "0.36 9.2e-08\n",
      "0.38 9.2e-08\n",
      "0.4 9.2e-08\n",
      "0.42 9.2e-08\n",
      "0.44 9.2e-08\n",
      "0.46 9.2e-08\n",
      "0.48 9.2e-08\n",
      "0.5 9.2e-08\n",
      "0.52 9.2e-08\n",
      "0.54 9.2e-08\n",
      "0.56 9.2e-08\n",
      "0.58 9.2e-08\n",
      "0.6 9.2e-08\n",
      "0.62 9.2e-08\n",
      "0.64 9.2e-08\n",
      "0.66 9.2e-08\n",
      "0.68 9.2e-08\n",
      "0.7 9.2e-08\n",
      "0.72 9.2e-08\n",
      "0.74 9.2e-08\n",
      "0.76 9.2e-08\n",
      "0.78 9.2e-08\n",
      "0.78 9.6e-08\n",
      "0.0 9.6e-08\n",
      "0.02 9.6e-08\n",
      "0.04 9.6e-08\n",
      "0.06 9.6e-08\n",
      "0.08 9.6e-08\n",
      "0.1 9.6e-08\n",
      "0.12 9.6e-08\n",
      "0.14 9.6e-08\n",
      "0.16 9.6e-08\n",
      "0.18 9.6e-08\n",
      "0.2 9.6e-08\n",
      "0.22 9.6e-08\n",
      "0.24 9.6e-08\n",
      "0.26 9.6e-08\n",
      "0.28 9.6e-08\n",
      "0.3 9.6e-08\n",
      "0.32 9.6e-08\n",
      "0.34 9.6e-08\n",
      "0.36 9.6e-08\n",
      "0.38 9.6e-08\n",
      "0.4 9.6e-08\n",
      "0.42 9.6e-08\n",
      "0.44 9.6e-08\n",
      "0.46 9.6e-08\n",
      "0.48 9.6e-08\n",
      "0.5 9.6e-08\n",
      "0.52 9.6e-08\n",
      "0.54 9.6e-08\n",
      "0.56 9.6e-08\n",
      "0.58 9.6e-08\n",
      "0.6 9.6e-08\n",
      "0.62 9.6e-08\n",
      "0.64 9.6e-08\n",
      "0.66 9.6e-08\n",
      "0.68 9.6e-08\n",
      "0.7 9.6e-08\n",
      "0.72 9.6e-08\n",
      "0.74 9.6e-08\n",
      "0.76 9.6e-08\n",
      "0.78 9.6e-08\n",
      "\n",
      "Elapsed time: 2 h 51 m 55.88 s\n"
     ]
    }
   ],
   "source": [
    "#Rabi 2D\n",
    "rabi_channels = ['iq_ex_00-1-01', 'iq_ex_00-1-10', 'iq_ex_00-2-11']\n",
    "for rabi_channel in rabi_channels[-1:]:\n",
    "    measurement_name = 'Rabi channel {}'.format(rabi_channel)\n",
    "\n",
    "    #ex_amplitude =0.4\n",
    "    pause_length = 0\n",
    "    ex_amps = np.arange(0., 0.8, 0.02)\n",
    "    lengths = np.arange(0., 0.1e-6, 0.004e-6)\n",
    "    readout_begin = np.max(lengths)\n",
    "    awg_tek.set_nop(awg_tek.get_clock()/rep_rate)\n",
    "    class pulse_setter:\n",
    "        def __init__(self):\n",
    "            self.ex_amplitude=0.0\n",
    "            self.ex_length=0.0\n",
    "        def set_ex_length(self,length):\n",
    "            self.ex_length = length\n",
    "            self.set_ex_pulse()\n",
    "        def set_ex_amp(self, amp):\n",
    "            self.ex_amplitude = amp\n",
    "            self.set_ex_pulse()\n",
    "        def set_ex_pulse(self):\n",
    "            print (self.ex_amplitude, self.ex_length)\n",
    "            sequence = [pg.p(None, readout_begin-self.ex_length), \n",
    "                        pg.p(rabi_channel, self.ex_length, pg.rect, self.ex_amplitude), \n",
    "                        pg.p(None, pause_length), \n",
    "                        pg.p('ro_trg', trg_length, pg.rect, 1), \n",
    "                        pg.p('iq_ro', ro_dac_length, pg.rect, ro_amplitude)]\n",
    "            pg.set_seq(sequence)\n",
    "            awg_tek.run()\n",
    "    ps = pulse_setter()        \n",
    "    measurement = sweep.sweep(adc_reducer, \n",
    "                              (lengths, ps.set_ex_length, 'Rabi pulse length', 's'), \n",
    "                              (ex_amps, ps.set_ex_amp, 'Rabi pulse amplitude'), \n",
    "                              filename=measurement_name)\n",
    "\n",
    "\n",
    "#    measurement_fitted, fitted_parameters = fitting.S21pm_fit(measurement, fitting.exp_sin_fit)\n",
    "\n",
    "\n",
    "#    annotation = 'Phase: {0:4.4g} rad, Freq: {1:4.4g}, Decay: {2:4.4g} s'.format(fitted_parameters['phase'], \n",
    "#                                                                                 fitted_parameters['freq'], \n",
    "#                                                                                 fitted_parameters['decay'])\n",
    "#    save_pkl.save_pkl({'type':'Rabi','name': 'qubit' }, measurement_fitted, annotation=annotation, filename=measurement_name)"
   ]
  },
  {
   "cell_type": "markdown",
   "metadata": {},
   "source": [
    "### Осцилляции Рамзея"
   ]
  },
  {
   "cell_type": "code",
   "execution_count": 22,
   "metadata": {
    "scrolled": false
   },
   "outputs": [
    {
     "data": {
      "application/vnd.jupyter.widget-view+json": {
       "model_id": "97bc68089e7f4645aed97f65d3854bb2",
       "version_major": 2,
       "version_minor": 0
      },
      "text/plain": [
       "A Jupyter Widget"
      ]
     },
     "metadata": {},
     "output_type": "display_data"
    },
    {
     "name": "stdout",
     "output_type": "stream",
     "text": [
      "Started at:  Jul 06 2018 16:35:26\n",
      "6\n"
     ]
    },
    {
     "name": "stderr",
     "output_type": "stream",
     "text": [
      "C:\\ProgramData\\Anaconda3\\lib\\site-packages\\numpy\\lib\\function_base.py:2169: RuntimeWarning: invalid value encountered in remainder\n",
      "  ddmod = mod(dd + pi, 2*pi) - pi\n",
      "C:\\ProgramData\\Anaconda3\\lib\\site-packages\\numpy\\lib\\function_base.py:2170: RuntimeWarning: invalid value encountered in greater\n",
      "  _nx.copyto(ddmod, pi, where=(ddmod == -pi) & (dd > 0))\n",
      "C:\\ProgramData\\Anaconda3\\lib\\site-packages\\numpy\\lib\\function_base.py:2172: RuntimeWarning: invalid value encountered in less\n",
      "  _nx.copyto(ph_correct, 0, where=abs(dd) < discont)\n",
      "D:\\qtlab_replacement\\instruments\\Tektronix_AWG5014.py:655: ComplexWarning: Casting complex values to real discards the imaginary part\n",
      "  m1[:] = marker[:len(m1)]\n"
     ]
    },
    {
     "name": "stdout",
     "output_type": "stream",
     "text": [
      "\n",
      "Elapsed time: 0 h 15 m 16.98 s\n",
      "6\n"
     ]
    },
    {
     "data": {
      "application/vnd.jupyter.widget-view+json": {
       "model_id": "25638512950d4e0288050acb42f51b5a",
       "version_major": 2,
       "version_minor": 0
      },
      "text/plain": [
       "A Jupyter Widget"
      ]
     },
     "metadata": {},
     "output_type": "display_data"
    },
    {
     "name": "stdout",
     "output_type": "stream",
     "text": [
      "Started at:  Jul 06 2018 16:50:49\n",
      "6\n"
     ]
    },
    {
     "name": "stderr",
     "output_type": "stream",
     "text": [
      "C:\\ProgramData\\Anaconda3\\lib\\site-packages\\numpy\\lib\\function_base.py:2169: RuntimeWarning: invalid value encountered in remainder\n",
      "  ddmod = mod(dd + pi, 2*pi) - pi\n",
      "C:\\ProgramData\\Anaconda3\\lib\\site-packages\\numpy\\lib\\function_base.py:2170: RuntimeWarning: invalid value encountered in greater\n",
      "  _nx.copyto(ddmod, pi, where=(ddmod == -pi) & (dd > 0))\n",
      "C:\\ProgramData\\Anaconda3\\lib\\site-packages\\numpy\\lib\\function_base.py:2172: RuntimeWarning: invalid value encountered in less\n",
      "  _nx.copyto(ph_correct, 0, where=abs(dd) < discont)\n",
      "D:\\qtlab_replacement\\instruments\\Tektronix_AWG5014.py:655: ComplexWarning: Casting complex values to real discards the imaginary part\n",
      "  m1[:] = marker[:len(m1)]\n"
     ]
    },
    {
     "name": "stdout",
     "output_type": "stream",
     "text": [
      "\n",
      "Elapsed time: 0 h 17 m 33.26 s\n",
      "6\n"
     ]
    },
    {
     "data": {
      "application/vnd.jupyter.widget-view+json": {
       "model_id": "44b2d8a7b6dc4cdeae3bbdc0ffe2d8f5",
       "version_major": 2,
       "version_minor": 0
      },
      "text/plain": [
       "A Jupyter Widget"
      ]
     },
     "metadata": {},
     "output_type": "display_data"
    },
    {
     "name": "stdout",
     "output_type": "stream",
     "text": [
      "Started at:  Jul 06 2018 17:08:28\n",
      "6\n"
     ]
    },
    {
     "name": "stderr",
     "output_type": "stream",
     "text": [
      "C:\\ProgramData\\Anaconda3\\lib\\site-packages\\numpy\\lib\\function_base.py:2169: RuntimeWarning: invalid value encountered in remainder\n",
      "  ddmod = mod(dd + pi, 2*pi) - pi\n",
      "C:\\ProgramData\\Anaconda3\\lib\\site-packages\\numpy\\lib\\function_base.py:2170: RuntimeWarning: invalid value encountered in greater\n",
      "  _nx.copyto(ddmod, pi, where=(ddmod == -pi) & (dd > 0))\n",
      "C:\\ProgramData\\Anaconda3\\lib\\site-packages\\numpy\\lib\\function_base.py:2172: RuntimeWarning: invalid value encountered in less\n",
      "  _nx.copyto(ph_correct, 0, where=abs(dd) < discont)\n",
      "D:\\qtlab_replacement\\instruments\\Tektronix_AWG5014.py:655: ComplexWarning: Casting complex values to real discards the imaginary part\n",
      "  m1[:] = marker[:len(m1)]\n"
     ]
    },
    {
     "name": "stdout",
     "output_type": "stream",
     "text": [
      "\n",
      "Elapsed time: 0 h 17 m 40.1 s\n",
      "6\n"
     ]
    }
   ],
   "source": [
    "target_freq_offset = -21e6\n",
    "ex_amplitude = 0.4\n",
    "ex_channels = ['iq_ex_00-1-01', 'iq_ex_00-1-10', 'iq_ex_00-2-11']\n",
    "rabi_freqs = [48.79e6, 38.11e6, 15.72e6]\n",
    "for ex_channel, rabi_freq in zip(ex_channels, rabi_freqs):\n",
    "    measurement_name = 'Ramsey (target offset {0:4.2f} MHz), excitation channel {1}'.format(target_freq_offset/1e6, ex_channel)\n",
    "    #pi2_pulse = 6e-9\n",
    "    #0.25/15.5e6\n",
    "    pi2_pulse = 0.25/rabi_freq\n",
    "\n",
    "    delays = np.arange(0, 0.4e-6, 0.004e-6)\n",
    "\n",
    "    readout_begin = np.max(delays)+pi2_pulse*2\n",
    "\n",
    "    def set_delay(delay):\n",
    "        awg_tek.set_nop(awg_tek.get_clock()/rep_rate)\n",
    "\n",
    "        sequence = [pg.p(None, readout_begin-pi2_pulse),\n",
    "                    pg.p(ex_channel, pi2_pulse, pg.rect, ex_amplitude), \n",
    "                    pg.p(None, delay), \n",
    "                    pg.p(ex_channel, pi2_pulse, pg.rect, ex_amplitude*np.exp(1j*delay*target_freq_offset*2*np.pi)), \n",
    "                    pg.p('ro_trg', trg_length, pg.rect, 1), \n",
    "                    pg.p('iq_ro', ro_dac_length, pg.rect, ro_amplitude)]\n",
    "\n",
    "        pg.set_seq(sequence)\n",
    "        awg_tek.run()\n",
    "    measurement = sweep.sweep(adc_reducer, (delays, set_delay, 'Ramsey delay', 's'), filename=measurement_name)\n",
    "    #measurement = sweep.sweep(adc_sz, (delays, set_delay, 'Ramsey delay'), filename='Ramsey')\n",
    "    measurement_fitted, fitted_parameters = fitting.S21pm_fit(measurement, fitting.exp_sin_fit)\n",
    "    annotation = 'Phase: {0:4.4g} rad, Freq: {1:4.4g}, Decay: {2:4.4g} s'.format(fitted_parameters['phase'], \n",
    "                                                                                 fitted_parameters['freq'], \n",
    "                                                                                 fitted_parameters['decay'])\n",
    "    save_pkl.save_pkl({'type':'Ramsey', 'name': 'qubit {}'.format(qubit_id)}, measurement_fitted, annotation=annotation, filename=measurement_name)"
   ]
  },
  {
   "cell_type": "code",
   "execution_count": null,
   "metadata": {
    "collapsed": true
   },
   "outputs": [],
   "source": [
    "save_pkl.save_pkl({'type':'Ramsey', 'name': 'qubit {}'.format(qubit_id)}, [0], annotation=None)"
   ]
  },
  {
   "cell_type": "code",
   "execution_count": null,
   "metadata": {
    "collapsed": true
   },
   "outputs": [],
   "source": [
    "save_pkl.save_pkl({'type':'Ramsey', 'name': 'qubit {}'.format(qubit_id)}, measurement_fitted, annotation=annotation)"
   ]
  },
  {
   "cell_type": "markdown",
   "metadata": {},
   "source": [
    "### Затухание свободной индукции (T1)"
   ]
  },
  {
   "cell_type": "code",
   "execution_count": 25,
   "metadata": {
    "scrolled": true
   },
   "outputs": [
    {
     "data": {
      "application/vnd.jupyter.widget-view+json": {
       "model_id": "6e66773d56af4d8aa8a32c52950e91ab",
       "version_major": 2,
       "version_minor": 0
      },
      "text/plain": [
       "A Jupyter Widget"
      ]
     },
     "metadata": {},
     "output_type": "display_data"
    },
    {
     "name": "stdout",
     "output_type": "stream",
     "text": [
      "Started at:  Jul 06 2018 17:31:15\n",
      "6\n"
     ]
    },
    {
     "name": "stderr",
     "output_type": "stream",
     "text": [
      "C:\\ProgramData\\Anaconda3\\lib\\site-packages\\numpy\\lib\\function_base.py:2169: RuntimeWarning: invalid value encountered in remainder\n",
      "  ddmod = mod(dd + pi, 2*pi) - pi\n",
      "C:\\ProgramData\\Anaconda3\\lib\\site-packages\\numpy\\lib\\function_base.py:2170: RuntimeWarning: invalid value encountered in greater\n",
      "  _nx.copyto(ddmod, pi, where=(ddmod == -pi) & (dd > 0))\n",
      "C:\\ProgramData\\Anaconda3\\lib\\site-packages\\numpy\\lib\\function_base.py:2172: RuntimeWarning: invalid value encountered in less\n",
      "  _nx.copyto(ph_correct, 0, where=abs(dd) < discont)\n",
      "D:\\qtlab_replacement\\instruments\\Tektronix_AWG5014.py:655: ComplexWarning: Casting complex values to real discards the imaginary part\n",
      "  m1[:] = marker[:len(m1)]\n"
     ]
    },
    {
     "name": "stdout",
     "output_type": "stream",
     "text": [
      "\n",
      "Elapsed time: 0 h 30 m 56.55 s\n",
      "[4.7822991710898291e-06, 0.003447906164823532, -0.006324044171275535, 0.015879640504248435, 0.016968829945710737, 0.003877104959148019, -0.007245481419046192, 0.012942607254690985, 0.018867771023713814]\n",
      "6\n"
     ]
    },
    {
     "data": {
      "application/vnd.jupyter.widget-view+json": {
       "model_id": "530393628c23469eafdcc576f122e5bf",
       "version_major": 2,
       "version_minor": 0
      },
      "text/plain": [
       "A Jupyter Widget"
      ]
     },
     "metadata": {},
     "output_type": "display_data"
    },
    {
     "name": "stdout",
     "output_type": "stream",
     "text": [
      "Started at:  Jul 06 2018 18:02:18\n",
      "6\n"
     ]
    },
    {
     "name": "stderr",
     "output_type": "stream",
     "text": [
      "C:\\ProgramData\\Anaconda3\\lib\\site-packages\\numpy\\lib\\function_base.py:2169: RuntimeWarning: invalid value encountered in remainder\n",
      "  ddmod = mod(dd + pi, 2*pi) - pi\n",
      "C:\\ProgramData\\Anaconda3\\lib\\site-packages\\numpy\\lib\\function_base.py:2170: RuntimeWarning: invalid value encountered in greater\n",
      "  _nx.copyto(ddmod, pi, where=(ddmod == -pi) & (dd > 0))\n",
      "C:\\ProgramData\\Anaconda3\\lib\\site-packages\\numpy\\lib\\function_base.py:2172: RuntimeWarning: invalid value encountered in less\n",
      "  _nx.copyto(ph_correct, 0, where=abs(dd) < discont)\n",
      "D:\\qtlab_replacement\\instruments\\Tektronix_AWG5014.py:655: ComplexWarning: Casting complex values to real discards the imaginary part\n",
      "  m1[:] = marker[:len(m1)]\n"
     ]
    },
    {
     "name": "stdout",
     "output_type": "stream",
     "text": [
      "\n",
      "Elapsed time: 0 h 35 m 22.21 s\n",
      "[4.5584042519009751e-06, 0.003681177091847858, -0.005958351856255596, 0.017034988181224862, 0.017843709046398093, 0.0022730067377345394, -0.00652719256906, 0.013183887738831303, 0.017067207382273755]\n",
      "6\n"
     ]
    },
    {
     "data": {
      "application/vnd.jupyter.widget-view+json": {
       "model_id": "d9b62c6feb774fbe8cb410bbf0b57df3",
       "version_major": 2,
       "version_minor": 0
      },
      "text/plain": [
       "A Jupyter Widget"
      ]
     },
     "metadata": {},
     "output_type": "display_data"
    },
    {
     "name": "stdout",
     "output_type": "stream",
     "text": [
      "Started at:  Jul 06 2018 18:37:47\n",
      "6\n"
     ]
    },
    {
     "name": "stderr",
     "output_type": "stream",
     "text": [
      "C:\\ProgramData\\Anaconda3\\lib\\site-packages\\numpy\\lib\\function_base.py:2169: RuntimeWarning: invalid value encountered in remainder\n",
      "  ddmod = mod(dd + pi, 2*pi) - pi\n",
      "C:\\ProgramData\\Anaconda3\\lib\\site-packages\\numpy\\lib\\function_base.py:2170: RuntimeWarning: invalid value encountered in greater\n",
      "  _nx.copyto(ddmod, pi, where=(ddmod == -pi) & (dd > 0))\n",
      "C:\\ProgramData\\Anaconda3\\lib\\site-packages\\numpy\\lib\\function_base.py:2172: RuntimeWarning: invalid value encountered in less\n",
      "  _nx.copyto(ph_correct, 0, where=abs(dd) < discont)\n",
      "D:\\qtlab_replacement\\instruments\\Tektronix_AWG5014.py:655: ComplexWarning: Casting complex values to real discards the imaginary part\n",
      "  m1[:] = marker[:len(m1)]\n"
     ]
    },
    {
     "name": "stdout",
     "output_type": "stream",
     "text": [
      "\n",
      "Elapsed time: 0 h 35 m 33.43 s\n",
      "[4.8247067935399438e-06, 0.0019017772201516802, -0.00546157593233791, 0.017050405424559732, 0.01606657497856974, 0.002705190766807041, -0.00667329085830832, 0.013294526329432507, 0.01740039133393051]\n",
      "6\n"
     ]
    }
   ],
   "source": [
    "ex_amplitude = 0.4\n",
    "ex_channels = ['iq_ex_00-1-01', 'iq_ex_00-1-10', 'iq_ex_00-2-11']\n",
    "rabi_freqs = [48.79e6, 38.11e6, 15.72e6]\n",
    "for ex_channel, rabi_freq in zip(ex_channels, rabi_freqs):\n",
    "    measurement_name = 'Decay, excitation channel {0}'.format(ex_channel)\n",
    "    #pi2_pulse = 6e-9\n",
    "    #0.25/15.5e6\n",
    "    pi_pulse = 0.5/rabi_freq\n",
    "    pause_length = 0\n",
    "    delays = np.arange(0, 5e-6, 0.025e-6)\n",
    "    readout_begin = np.max(delays)+pi_pulse\n",
    "    def set_delay(delay):\n",
    "        awg_tek.set_nop(awg_tek.get_clock()/rep_rate)\n",
    "\n",
    "        sequence = [pg.p(None, readout_begin-ro_dac_length),\n",
    "                    pg.p(ex_channel, pi_pulse, pg.rect, ex_amplitude), \n",
    "                    pg.p(None, delay), \n",
    "                    pg.p('ro_trg', trg_length, pg.rect, 1), \n",
    "                    pg.p('iq_ro', ro_dac_length, pg.rect, ro_amplitude)]\n",
    "\n",
    "        pg.set_seq(sequence)\n",
    "        awg_tek.run()\n",
    "    measurement = sweep.sweep(adc_reducer, (delays, set_delay, 'delay', 's'), filename=measurement_name)\n",
    "\n",
    "    measurement_fitted, fitted_parameters = fitting.S21pm_fit(measurement, fitting.exp_fit)\n",
    "    #save_pkl.save_pkl({'type':'Decay'}, measurement_fitted)\n",
    "    annotation = 'Decay: {0:4.6g} s'.format(fitted_parameters['decay'])\n",
    "    save_pkl.save_pkl({'type':'Decay', 'name': 'qubit {}'.format(qubit_id)}, measurement_fitted, annotation=annotation, filename=measurement_name)"
   ]
  },
  {
   "cell_type": "code",
   "execution_count": null,
   "metadata": {
    "collapsed": true
   },
   "outputs": [],
   "source": [
    "annotation = 'Decay: {0:4.6g} s'.format(fitted_parameters['decay'])\n",
    "save_pkl.save_pkl({'type':'Decay'}, measurement_fitted, annotation=annotation)"
   ]
  },
  {
   "cell_type": "markdown",
   "metadata": {},
   "source": [
    "### Спиновое эхо"
   ]
  },
  {
   "cell_type": "code",
   "execution_count": null,
   "metadata": {
    "collapsed": true,
    "scrolled": false
   },
   "outputs": [],
   "source": [
    "ex_amplitude = 0.2\n",
    "pi2_pulse = 9e-9\n",
    "pause_length = 15.98e-9\n",
    "delays = np.linspace(0e-9, 500e-9, 101)\n",
    "target_freq_offset = 10e6\n",
    "\n",
    "readout_begin = np.max(delays)+pi2_pulse*2\n",
    "\n",
    "def set_delay(delay):\n",
    "    awg_tek.set_nop(awg_tek.get_clock()/rep_rate)\n",
    "    \n",
    "    sequence = [pg.p(None, readout_begin-pi2_pulse),\n",
    "                pg.p('iq_ex', pi2_pulse, pg.rect, ex_amplitude), \n",
    "                pg.p(None, delay), \n",
    "                pg.p('iq_ex', pi2_pulse, pg.rect, ex_amplitude), \n",
    "                pg.p('iq_ex', pi2_pulse, pg.rect, ex_amplitude), \n",
    "                pg.p(None, delay), \n",
    "                pg.p('iq_ex', pi2_pulse, pg.rect, ex_amplitude*np.exp(1j*delay*target_freq_offset*2*np.pi)), \n",
    "                pg.p('ro_trg', trg_length, pg.rect, 1), \n",
    "                pg.p('iq_ro', ro_dac_length, pg.rect, ro_amplitude)]\n",
    "    \n",
    "    pg.set_seq(sequence)\n",
    "    awg_tek.run()\n",
    "measurement = sweep.sweep(adc_reducer, (delays*2, set_delay, 'Spin echo full delay'), filename='Spin echo')\n",
    "#measurement = sweep.sweep(adc_sz, (delays, set_delay, 'Ramsey delay'), filename='Ramsey')\n",
    "measurement_fitted, fitted_parameters = fitting.S21pm_fit(measurement, fitting.exp_sin_fit)\n",
    "annotation = 'Phase: {0:4.4g} rad, Freq: {1:4.4g}, Decay: {2:4.4g} s'.format(fitted_parameters['phase'], \n",
    "                                                                             fitted_parameters['freq'], \n",
    "                                                                             fitted_parameters['decay'])\n",
    "save_pkl.save_pkl({'type':'Spin echo', 'name': 'qubit {} paramp {}'.format(qubit_id, 'on' if lo_amp.get_status() else 'off')}, measurement_fitted, annotation=annotation)"
   ]
  },
  {
   "cell_type": "code",
   "execution_count": null,
   "metadata": {
    "collapsed": true
   },
   "outputs": [],
   "source": [
    "save_pkl.save_pkl({'type':'Ramsey'}, measurement_fitted, annotation=annotation)"
   ]
  },
  {
   "cell_type": "code",
   "execution_count": null,
   "metadata": {
    "collapsed": true
   },
   "outputs": [],
   "source": [
    "lo_amp.set_status(0)"
   ]
  },
  {
   "cell_type": "code",
   "execution_count": null,
   "metadata": {
    "collapsed": true
   },
   "outputs": [],
   "source": [
    "qubit_id"
   ]
  },
  {
   "cell_type": "code",
   "execution_count": null,
   "metadata": {
    "collapsed": true
   },
   "outputs": [],
   "source": [
    "adc.stop()"
   ]
  },
  {
   "cell_type": "markdown",
   "metadata": {},
   "source": [
    "### Rabi amplitude oscillations"
   ]
  },
  {
   "cell_type": "code",
   "execution_count": null,
   "metadata": {
    "collapsed": true
   },
   "outputs": [],
   "source": [
    "ex_amps = np.linspace(0.75,1.0,21)\n",
    "pause_length = 32e-9\n",
    "pi2_length = 16e-9\n",
    "sigma = 4e-9\n",
    "num_pulses = 16\n",
    "readout_begin = np.max((pi2_length+pause_length)*num_pulses)\n",
    "def set_ex_amp(amp):\n",
    "    awg_tek.set_nop(awg_tek.get_clock()/rep_rate)\n",
    "    \n",
    "    sequence = [pg.p('iq_ex', pi2_length, pg.gauss_hd,  amp, 0, sigma,0)]*num_pulses+\\\n",
    "               [pg.p('ro_trg', trg_length, pg.rect, 1), \n",
    "                pg.p('iq_ro', ro_dac_length, pg.rect, ro_amplitude)]\n",
    "    #print(sequence)\n",
    "    pg.set_seq(sequence)\n",
    "    \n",
    "    awg_tek.run()\n",
    "measurement = sweep.sweep(adc_reducer, (ex_amps, set_ex_amp, 'Rabi pulse amplitude'), filename='Rabi')"
   ]
  },
  {
   "cell_type": "markdown",
   "metadata": {},
   "source": [
    "### gaussian $\\pi/2$ pulse amplitudes"
   ]
  },
  {
   "cell_type": "code",
   "execution_count": null,
   "metadata": {
    "collapsed": true
   },
   "outputs": [],
   "source": [
    "#amp_x=0.554\n",
    "#amp_y=0.554\n",
    "#sigma = 2e-9\n",
    "#amp_x=0.29\n",
    "#amp_y=0.29\n",
    "amp_x = 0.90\n",
    "length = 16e-9\n",
    "pause_length = 0e-9\n",
    "sigma = 4e-9\n",
    "amp_x_hd = 0.89\n",
    "length_hd = 16e-9\n",
    "sigma_hd = 4e-9\n",
    "pause_length_hd = 8e-9\n",
    "alpha_hd = -0.92e-9"
   ]
  },
  {
   "cell_type": "markdown",
   "metadata": {},
   "source": [
    "### Ramsey with gauss pulses"
   ]
  },
  {
   "cell_type": "code",
   "execution_count": null,
   "metadata": {
    "collapsed": true,
    "scrolled": true
   },
   "outputs": [],
   "source": [
    "delays = np.linspace(0e-9, 2000e-9, 201)\n",
    "target_freq_offset = 20e6\n",
    "\n",
    "def set_delay(delay):\n",
    "    sequence = [pg.p(None, readout_begin-length),\n",
    "                pg.p('iq_ex', pi2_pulse, pg.gauss_hd, sigma, ex_amplitude, 0), \n",
    "                pg.p(None, delay), \n",
    "                pg.p('iq_ex', pi2_pulse, pg.gauss_hd, sigma, ex_amplitude*np.exp(1j*delay*target_freq_offset*2*np.pi), 0), \n",
    "                pg.p(None, delay), \n",
    "                pg.p('ro_trg', trg_length, pg.rect, 1), \n",
    "                pg.p('iq_ro', ro_dac_length, pg.rect, ro_amplitude)]\n",
    "    \n",
    "    pg.set_seq(sequence)\n",
    "    awg_tek.run()\n",
    "measurement = sweep.sweep(adc_reducer, (delays, set_delay, 'Ramsey delay'), filename='Ramsey')\n",
    "measurement_fitted, fitted_parameters = fitting.S21pm_fit(measurement, fitting.exp_sin_fit)\n",
    "annotation = 'Phase: {0:4.4g} rad, Freq: {1:4.4g}, Decay: {2:4.4g} s'.format(fitted_parameters['phase'], \n",
    "                                                                             fitted_parameters['freq'], \n",
    "                                                                             fitted_parameters['decay'])\n",
    "save_pkl.save_pkl({'type':'Ramsey'}, measurement_fitted, annotation=annotation)"
   ]
  },
  {
   "cell_type": "markdown",
   "metadata": {},
   "source": [
    "# Optimizing readout pulse settings"
   ]
  },
  {
   "cell_type": "code",
   "execution_count": null,
   "metadata": {
    "collapsed": true,
    "scrolled": true
   },
   "outputs": [],
   "source": [
    "#ex_calib_seq = [pg.p('iq_ex', length, pg.gauss_hd, amp_x, 0, sigma), pg.p(None, pause_length)]*2\n",
    "ex_calib_seq = [pg.p('iq_ex', 18e-9, pg.rect, 0.2), pg.p(None, pause_length)]\n",
    "ro_seq = [pg.p('ro_trg', trg_length, pg.rect, 1), pg.p('iq_ro', ro_dac_length, pg.rect, ro_amplitude)]\n",
    "adc_sz = tomography_new.sz_measurer(adc, ex_calib_seq, ro_seq, pg)\n",
    "adc_sz.save_last_samples = True\n",
    "#adc_sz.dump_measured_samples = True\n",
    "adc.set_software_nums_multi(1)\n",
    "adc_sz.repeat_samples = 3\n",
    "\n",
    "def target_min():\n",
    "    F = 1-adc_sz.measure()['Calibrated ROC AUC']\n",
    "    print ('fidelity: ', 1-F)\n",
    "    return F\n",
    "\n",
    "class ro_pulse_generator:\n",
    "    def __init__(self, adc_sz, ro_amplitude, ro_dac_length):\n",
    "        self.ro_amplitude = ro_amplitude\n",
    "        self.ro_dac_length = ro_dac_length\n",
    "        self.adc_sz = adc_sz\n",
    "    def set_ro_freq(self, ro_freq):\n",
    "        iq_ro.set_uncal_frequency(ro_freq)\n",
    "        self.make_ro_seq()\n",
    "    def set_paramp_pump_freq(self, pump_freq):\n",
    "        lo_amp.set_frequency(pump_freq)\n",
    "    def set_paramp_pump_power(self, pump_power):\n",
    "        lo_amp.set_power(pump_power)\n",
    "    def set_paramp_bias_current(self, paramp_bias):\n",
    "        current_src2.set_current(paramp_bias)\n",
    "    def make_ro_seq(self):\n",
    "        adc_sz.ro_seq = [pg.p('ro_trg', trg_length, pg.rect, 1), pg.p('iq_ro', self.ro_dac_length, pg.rect, self.ro_amplitude)]\n",
    "    def set_ro_length(self, ro_dac_length):\n",
    "        self.ro_dac_length = ro_dac_length\n",
    "        self.make_ro_seq()\n",
    "        adc_sz.measurement_name = 'ro_dac_length {0}ns ro_dac_amiltude {1:4.2f}'.format(int(self.ro_dac_length*1e9), self.ro_amplitude)\n",
    "    def set_ro_amplitude(self, ro_amplitude):\n",
    "        self.ro_amplitude = ro_amplitude\n",
    "        self.make_ro_seq()\n",
    "        adc_sz.measurement_name = 'ro_dac_length {0}ns ro_dac_amiltude {1:4.2f}'.format(int(self.ro_dac_length*1e9), self.ro_amplitude)\n",
    "\n",
    "ro_dac_lengths = np.linspace(0.05e-6,1.0e-6,20)\n",
    "ro_dac_amplitudes = np.linspace(0.05,1.0,20)\n",
    "\n",
    "ro_pulse_generator_inst = ro_pulse_generator(adc_sz, ro_amplitude, ro_dac_length)\n",
    "#solution, score = sweep.optimize(target_min, (ro_pulse_generator_inst.set_ro_length, 3e-8), \n",
    "#                                             (ro_pulse_generator_inst.set_ro_amplitude, 0.9), maxfun=30)\n",
    "#ro_dac_length = solution[0]\n",
    "#ro_dac_amplitude = solution[1]\n",
    "#"
   ]
  },
  {
   "cell_type": "code",
   "execution_count": null,
   "metadata": {
    "collapsed": true
   },
   "outputs": [],
   "source": [
    "sweep.sweep(adc_sz, (ro_dac_lengths, ro_pulse_generator_inst.set_ro_length, 'Readout pulse length'), \n",
    "                    (ro_dac_amplitudes, ro_pulse_generator_inst.set_ro_amplitude, 'Readout pulse amplitude'), filename='Readout fidelity with paramp')"
   ]
  },
  {
   "cell_type": "markdown",
   "metadata": {},
   "source": [
    "## Optimizing readout pulse length, amplitude, frequency, paramteric amplifier pump and bias"
   ]
  },
  {
   "cell_type": "code",
   "execution_count": null,
   "metadata": {
    "collapsed": true
   },
   "outputs": [],
   "source": [
    "p0 = [700e-9, 0.5, iq_ro.get_frequency(), lo_amp.get_frequency(), lo_amp.get_power(), current_src2.get_current()]\n",
    "dp = [50e-9, 0.05, 0.5e6, 3e6, 0.06, 3e-5]\n",
    "\n",
    "initial_simplex = [p0]+[[p0[i]+(dp[i] if i == j else 0) for i in range(len(dp))] for j in range(len(dp))]\n",
    "\n",
    "solution, score = sweep.optimize(target_min, (ro_pulse_generator_inst.set_ro_length, 700e-9), \n",
    "                                             (ro_pulse_generator_inst.set_ro_amplitude, 0.5),\n",
    "                                             (ro_pulse_generator_inst.set_ro_freq, iq_ro.get_frequency()),\n",
    "                                             (ro_pulse_generator_inst.set_paramp_pump_freq, lo_amp.get_frequency()),\n",
    "                                             (ro_pulse_generator_inst.set_paramp_pump_power, lo_amp.get_power()),\n",
    "                                             (ro_pulse_generator_inst.set_paramp_bias_current, current_src2.get_current()),\n",
    "                                             initial_simplex=initial_simplex,\n",
    "                                             maxfun=50)"
   ]
  },
  {
   "cell_type": "markdown",
   "metadata": {},
   "source": [
    "### |0> & |1> readout calibration"
   ]
  },
  {
   "cell_type": "code",
   "execution_count": null,
   "metadata": {
    "collapsed": true
   },
   "outputs": [],
   "source": [
    "lo_amp.get_status()"
   ]
  },
  {
   "cell_type": "code",
   "execution_count": null,
   "metadata": {
    "collapsed": true
   },
   "outputs": [],
   "source": [
    "imp.reload(tomography_new)\n",
    "imp.reload(awg_iq)\n",
    "imp.reload(save_pkl)"
   ]
  },
  {
   "cell_type": "code",
   "execution_count": null,
   "metadata": {
    "collapsed": true,
    "scrolled": true
   },
   "outputs": [],
   "source": [
    "ro_dac_length = 600e-9\n",
    "ro_dac_amplitude = 0.517\n",
    "ro_delay_length = 10e-9\n",
    "ro_delay_amplitude = 1.\n",
    "#ex_calib_seq = [pg.p('iq_ex', length, pg.gauss_hd, amp_x, 0, sigma, alpha_hd), pg.p(None, pause_length)]*2\n",
    "ex_calib_seq = [pg.p('iq_ex', 59e-9, pg.rect, 0.5), pg.p(None, pause_length)]\n",
    "#ex_calib_seq = [pg.p('iq_ex', length, pg.gauss_hd, amp_x, 0, sigma)]*2\n",
    "#ro_seq = [pg.p('ro_trg', trg_length, pg.rect, 1), pg.p('iq_ro', ro_dac_length, pg.rect, ro_amplitude)]\n",
    "ro_seq = [pg.p('ro_trg', trg_length, pg.rect, 1), pg.p('iq_ro', ro_dac_length, pg.rect, ro_dac_amplitude)]\n",
    "ro_delay_seq = [pg.p('ro_trg', trg_length, pg.rect, 1), pg.p('iq_ro', ro_delay_length, pg.rect, ro_delay_amplitude)]\n",
    "adc_sz = tomography_new.sz_measurer(adc, ex_calib_seq, ro_seq, pg, ro_delay_seq = ro_delay_seq)\n",
    "adc_sz.save_last_samples = True\n",
    "adc_sz.repeat_samples = 1\n",
    "#adc.set_software_nums_multi(2)\n",
    "print(adc_sz.measure_delay('iq_ro'))\n",
    "print(adc_sz.measure())\n",
    "#sz_filter = adc_sz.calibrate()\n",
    "#print('ROC AUC:', adc_sz.calib_roc_auc, 'Fidelity:', adc_sz.calib_fidelity)\n",
    "#print('ROC AUC binary:', adc_sz.calib_roc_auc_binary, 'Fidelity binary:', adc_sz.calib_fidelity_binary) "
   ]
  },
  {
   "cell_type": "code",
   "execution_count": null,
   "metadata": {
    "collapsed": true
   },
   "outputs": [],
   "source": [
    "adc_sz.dump_samples('ro_dac_length {0}ns ro_dac_amiltude {1:4.2f}'.format(int(ro_dac_length*1e9), ro_dac_amplitude))"
   ]
  },
  {
   "cell_type": "code",
   "execution_count": null,
   "metadata": {
    "collapsed": true
   },
   "outputs": [],
   "source": [
    "adc.stop()"
   ]
  },
  {
   "cell_type": "code",
   "execution_count": null,
   "metadata": {
    "collapsed": true
   },
   "outputs": [],
   "source": [
    "plt.figure()\n",
    "plt.pcolormesh(np.real(adc_sz.samples[0,:,:]), vmin=15, vmax=25); plt.colorbar()\n",
    "plt.figure()\n",
    "plt.pcolormesh(np.real(adc_sz.samples[1,:,:]), vmin=15, vmax=25); plt.colorbar()"
   ]
  },
  {
   "cell_type": "code",
   "execution_count": null,
   "metadata": {
    "collapsed": true,
    "scrolled": true
   },
   "outputs": [],
   "source": [
    "plt.hist(adc_sz.calib_pred.T, bins=20)"
   ]
  },
  {
   "cell_type": "code",
   "execution_count": null,
   "metadata": {
    "collapsed": true
   },
   "outputs": [],
   "source": [
    "#plt.scatter(np.real(adc_sz.calib_usl_pred[0,:]), np.imag(adc_sz.calib_usl_pred[0,:]), color='r', s=1)\n",
    "#plt.scatter(np.real(adc_sz.calib_usl_pred[1,:]), np.imag(adc_sz.calib_usl_pred[1,:]), color='b', s=1)\n",
    "#plt.figure()\n",
    "#plt.hist(adc_sz.calib_pred.T, bins=20)\n",
    "plt.figure()\n",
    "#plt.hist(np.real(adc_sz.calib_usl_pred.T), bins=20)\n",
    "plt.plot(np.real(adc_sz.calib_bg-np.mean(adc_sz.calib_bg)))\n",
    "plt.plot(np.imag(adc_sz.calib_bg-np.mean(adc_sz.calib_bg)))\n",
    "plt.plot(np.real(adc_sz.calib_feature))\n",
    "plt.plot(np.imag(adc_sz.calib_feature))"
   ]
  },
  {
   "cell_type": "markdown",
   "metadata": {},
   "source": [
    "### Tomography"
   ]
  },
  {
   "cell_type": "code",
   "execution_count": null,
   "metadata": {
    "collapsed": true
   },
   "outputs": [],
   "source": [
    "observables = { 'X': 0.5*np.asarray([[0, 1],   [1, 0]]),\n",
    "                'Y': 0.5*np.asarray([[0, -1j],   [1j, 0]]),\n",
    "                '-X': 0.5*np.asarray([[0, -1],   [-1, 0]]),\n",
    "                '-Y': 0.5*np.asarray([[0, 1j],   [-1j, 0]]),\n",
    "                'Z': 0.5*np.asarray([[1, 0],   [0, -1]])}\n",
    "proj_seq = {'Xo':{'pulses': [pg.p('iq_ex', length, pg.gauss_hd, 0, -amp_x, sigma, alpha_hd), pg.p(None, pause_length)]+ro_seq, \n",
    "                 'operator': observables['X']},\n",
    "            'Yo':{'pulses': [pg.p('iq_ex', length, pg.gauss_hd, amp_x, 0, sigma, alpha_hd), pg.p(None, pause_length)]+ro_seq,\n",
    "                 'operator': observables['Y']},\n",
    "            '-Xo':{'pulses':[pg.p('iq_ex', length, pg.gauss_hd, 0, amp_x, sigma, alpha_hd), pg.p(None, pause_length)]+ro_seq,\n",
    "                 'operator': observables['-X']},\n",
    "            '-Yo':{'pulses':[pg.p('iq_ex', length, pg.gauss_hd, -amp_x, 0, sigma, alpha_hd), pg.p(None, pause_length)]+ro_seq,\n",
    "                 'operator': observables['-Y']},\n",
    "            'Zo': {'pulses':ro_seq, 'operator':observables['Z']} }\n",
    "reconstruction_basis={'x':{'operator':observables['X']},\n",
    "                      'y':{'operator':observables['Y']},\n",
    "                      'z':{'operator':observables['Z']}}\n",
    "tomo = tomography_new.tomography(adc_sz, pg, proj_seq, reconstruction_basis=reconstruction_basis)"
   ]
  },
  {
   "cell_type": "code",
   "execution_count": null,
   "metadata": {
    "collapsed": true
   },
   "outputs": [],
   "source": [
    "proj_seq = {'Z': {'pulses':ro_seq, 'operator':observables['Z']}}\n",
    "tomoz = tomography_new.tomography(adc_sz, pg, proj_seq)"
   ]
  },
  {
   "cell_type": "code",
   "execution_count": null,
   "metadata": {
    "collapsed": true
   },
   "outputs": [],
   "source": [
    "## tomography of |0> state\n",
    "adc.set_software_nums_multi(20)\n",
    "tomo.set_prepare_seq([])\n",
    "tomo.measure()"
   ]
  },
  {
   "cell_type": "code",
   "execution_count": null,
   "metadata": {
    "collapsed": true
   },
   "outputs": [],
   "source": [
    "## tomography of |1> state\n",
    "tomo.set_prepare_seq([pg.p('iq_ex', length, pg.gauss_hd, 0, -amp_x, sigma, alpha_hd), pg.p(None, pause_length)]*2)\n",
    "tomo.measure()"
   ]
  },
  {
   "cell_type": "code",
   "execution_count": null,
   "metadata": {
    "collapsed": true
   },
   "outputs": [],
   "source": [
    "## tomography of |1> state\n",
    "tomo.set_prepare_seq([pg.p('iq_ex', length, pg.gauss_hd, 0, -amp_x, sigma, alpha_hd), pg.p(None, pause_length)]+\n",
    "                     [pg.p('iq_ex', length, pg.gauss_hd, 0, -amp_x, sigma, alpha_hd), pg.p(None, pause_length),\n",
    "                     pg.p('iq_ex', length, pg.gauss_hd, 0, amp_x, sigma, alpha_hd), pg.p(None, pause_length)]*10)\n",
    "tomo.measure()"
   ]
  },
  {
   "cell_type": "code",
   "execution_count": null,
   "metadata": {
    "collapsed": true
   },
   "outputs": [],
   "source": [
    "## tomography of |1> state\n",
    "tomo.set_prepare_seq([pg.p('iq_ex', length, pg.gauss_hd, 0, -amp_x, sigma, -0.92e-9), pg.p(None, pause_length)]+\n",
    "                     [pg.p('iq_ex', length, pg.gauss_hd, 0, -amp_x, sigma, -0.92e-9), pg.p(None, pause_length),\n",
    "                     pg.p('iq_ex', length, pg.gauss_hd, 0, amp_x, sigma, -0.92e-9), pg.p(None, pause_length)]*10)\n",
    "tomo.measure()"
   ]
  },
  {
   "cell_type": "code",
   "execution_count": null,
   "metadata": {
    "collapsed": true
   },
   "outputs": [],
   "source": [
    "## tomography of |0>+|1> state\n",
    "tomo.set_prepare_seq([pg.p('iq_ex', length, pg.gauss_hd, 0, -amp_x, sigma), pg.p(None, pause_length)])\n",
    "tomo.measure()"
   ]
  },
  {
   "cell_type": "code",
   "execution_count": null,
   "metadata": {
    "collapsed": true
   },
   "outputs": [],
   "source": [
    "## tomography of |0>-|1> state\n",
    "tomo.set_prepare_seq([pg.p('iq_ex', length, pg.gauss_hd, 0, 1j*amp_x, sigma), pg.p(None, pause_length)])\n",
    "tomo.measure()"
   ]
  },
  {
   "cell_type": "code",
   "execution_count": null,
   "metadata": {
    "collapsed": true
   },
   "outputs": [],
   "source": [
    "## tomography of -|0>-|1> state\n",
    "tomo.set_prepare_seq([pg.p('iq_ex', length, pg.gauss_hd, 0, -amp_x, sigma), pg.p(None, pause_length)])\n",
    "tomo.measure()"
   ]
  },
  {
   "cell_type": "code",
   "execution_count": null,
   "metadata": {
    "collapsed": true
   },
   "outputs": [],
   "source": [
    "## tomography of -|0>+|1> state\n",
    "tomo.set_prepare_seq([pg.p('iq_ex', length, pg.gauss_hd, 0, -1j*amp_x, sigma), pg.p(None, pause_length)])\n",
    "tomo.measure()"
   ]
  },
  {
   "cell_type": "markdown",
   "metadata": {},
   "source": [
    "# Randomized benchmarking"
   ]
  },
  {
   "cell_type": "code",
   "execution_count": null,
   "metadata": {
    "collapsed": true
   },
   "outputs": [],
   "source": [
    "import interleaved_benchmarking\n",
    "imp.reload(interleaved_benchmarking)\n",
    "\n",
    "bench = interleaved_benchmarking.interleaved_benchmarking(tomo)\n",
    "\n",
    "unitaries = {0:np.sqrt(0.5)*np.asarray([[1, -1j],  [-1j, 1]]),\\\n",
    "             1:np.sqrt(0.5)*np.asarray([[1, -1],    [1, 1]]),\\\n",
    "             2:np.sqrt(0.5)*np.asarray([[1, 1j],   [1j, 1]]),\\\n",
    "             3:np.sqrt(0.5)*np.asarray([[1, 1],   [-1, 1]])}\n",
    "bench.interleavers = {'X': {'pulses':[pg.p('iq_ex', length, pg.gauss_hd, -amp_x, 0, sigma, alpha_hd), pg.p(None, pause_length)],\n",
    "                            'unitary': np.sqrt(0.5)*np.asarray([[1, -1j],  [-1j, 1]])},\n",
    "                      'Y': {'pulses':[pg.p('iq_ex', length, pg.gauss_hd, 1j*amp_x, 0, sigma, alpha_hd), pg.p(None, pause_length)],\n",
    "                            'unitary': np.sqrt(0.5)*np.asarray([[1, -1],    [1, 1]])},\n",
    "                      '-X':{'pulses':[pg.p('iq_ex', length, pg.gauss_hd, amp_x, 0, sigma, alpha_hd), pg.p(None, pause_length)],\n",
    "                            'unitary': np.sqrt(0.5)*np.asarray([[1, 1j],   [1j, 1]])},\n",
    "                      '-Y':{'pulses':[pg.p('iq_ex', length, pg.gauss_hd, -1j*amp_x, 0, sigma, alpha_hd), pg.p(None, pause_length)],\n",
    "                            'unitary': np.sqrt(0.5)*np.asarray([[1, 1],   [-1, 1]])},\n",
    "                      'I':{'pulses':[], 'unitary':np.asarray([[1, 0], [0,1]])}}\n",
    "bench.sequence_length = 10\n",
    "bench.random_sequence_num = 6\n",
    "bench.prepare_random_interleaving_sequences()\n",
    "#bench.generate_interleaver_sequence_from_names()"
   ]
  },
  {
   "cell_type": "code",
   "execution_count": null,
   "metadata": {
    "collapsed": true
   },
   "outputs": [],
   "source": [
    "seq_lengths = np.arange(101)\n",
    "sweep.sweep(bench, (seq_lengths, bench.set_sequence_length_and_regenerate, 'Gate number'))"
   ]
  },
  {
   "cell_type": "code",
   "execution_count": null,
   "metadata": {
    "collapsed": true
   },
   "outputs": [],
   "source": [
    "bench.target_gate = bench.interleavers['X']['pulses']\n",
    "bench.target_gate_unitary = bench.interleavers['X']['unitary']\n",
    "bench.target_gate_name = 'X (benchmarking)'\n",
    "tfunc = lambda : np.mean(bench.measure()['Euclidean distance'])\n",
    "class hd_pulse_generator:\n",
    "    def __init__(self, pulse_setter, pg, channel):\n",
    "        self.amp_x = -amp_x_hd\n",
    "        self.amp_y = amp_x_hd\n",
    "        self.sigma = sigma_hd\n",
    "        self.length = length_hd\n",
    "        self.pause_length = pause_length_hd\n",
    "        self.alpha = alpha_hd\n",
    "        \n",
    "        self.pg = pg\n",
    "        self.channel = channel\n",
    "        self.pulse = self.pulse_gen()\n",
    "        self.pulse_setter = pulse_setter\n",
    "    def set_real_amplitude(self,x):\n",
    "        self.amp_x = x\n",
    "        self.pulse_setter(self.pulse_gen())\n",
    "    def set_imag_amplitude(self,y):\n",
    "        self.amp_y = y\n",
    "        self.pulse_setter(self.pulse_gen())\n",
    "    def set_sigma(self,s):\n",
    "        self.sigma = s\n",
    "        self.pulse_setter(self.pulse_gen())\n",
    "    def set_length(self,l):\n",
    "        self.length = l\n",
    "        self.pulse_setter(self.pulse_gen())\n",
    "    def set_pause_length(self, p):\n",
    "        self.pause_length = p\n",
    "        self.pulse_setter(self.pulse_gen())\n",
    "    def set_alpha(self, a):\n",
    "        self.alpha = a\n",
    "        self.pulse_setter(self.pulse_gen())\n",
    "    def pulse_gen(self):\n",
    "        return [pg.p(self.channel, self.length, self.pg.gauss_hd, self.amp_x+1j*self.amp_y, 0, self.sigma, self.alpha), pg.p(None, self.pause_length)]\n",
    "    \n",
    "xg = hd_pulse_generator(bench.set_target_pulse, pg, 'iq_ex')"
   ]
  },
  {
   "cell_type": "code",
   "execution_count": null,
   "metadata": {
    "collapsed": true
   },
   "outputs": [],
   "source": [
    "sol, score = sweep.optimize(tfunc,  (xg.set_real_amplitude, xg.amp_x), \n",
    "                                    (xg.set_imag_amplitude, xg.amp_y),\n",
    "                                    (xg.set_alpha, xg.alpha))"
   ]
  },
  {
   "cell_type": "code",
   "execution_count": null,
   "metadata": {
    "collapsed": true
   },
   "outputs": [],
   "source": [
    "amps = np.linspace(0.925, 0.975, 21)\n",
    "alphas = np.linspace(-2e-9, 2e-9, 11)\n",
    "sweep.sweep(bench, (amps, xg.set_real_amplitude, 'Amplitude'), (alphas, xg.set_alpha, 'HD DRAG coeff'), filename='Randomized interleaved benchmarging X-rotation')"
   ]
  },
  {
   "cell_type": "code",
   "execution_count": null,
   "metadata": {
    "collapsed": true
   },
   "outputs": [],
   "source": [
    "data = save_pkl.load_pkl('Euclidean distance Randomized interleaved benchmarging X-rotation', 'D:\\\\qtlab\\\\ReiData\\\\data\\\\2017-07-02\\\\23-03-34')\n",
    "plt.figure()\n",
    "plt.pcolormesh(data[1]['Euclidean distance'][1][1], data[1]['Euclidean distance'][1][0], data[1]['Euclidean distance'][2][:,:,5])\n",
    "plt.colorbar()"
   ]
  },
  {
   "cell_type": "code",
   "execution_count": null,
   "metadata": {
    "collapsed": true
   },
   "outputs": [],
   "source": [
    "data[1]"
   ]
  },
  {
   "cell_type": "code",
   "execution_count": null,
   "metadata": {
    "collapsed": true
   },
   "outputs": [],
   "source": [
    "data[1]['Euclidean distance']"
   ]
  },
  {
   "cell_type": "code",
   "execution_count": null,
   "metadata": {
    "collapsed": true
   },
   "outputs": [],
   "source": [
    "meas = bench.measure()"
   ]
  },
  {
   "cell_type": "code",
   "execution_count": null,
   "metadata": {
    "collapsed": true
   },
   "outputs": [],
   "source": [
    "meas['Xo']"
   ]
  },
  {
   "cell_type": "code",
   "execution_count": null,
   "metadata": {
    "collapsed": true
   },
   "outputs": [],
   "source": [
    "import plotting\n",
    "imp.reload(plotting)\n",
    "plotting.plot_measurement(bench.reference_benchmark_result)"
   ]
  },
  {
   "cell_type": "markdown",
   "metadata": {},
   "source": [
    "# Optimizing Drag"
   ]
  },
  {
   "cell_type": "code",
   "execution_count": null,
   "metadata": {
    "collapsed": true
   },
   "outputs": [],
   "source": [
    "num_interleved_pulses = 2\n",
    "alphas = np.linspace(-1e-8, 1e-8, 201)\n",
    "def set_drag (alpha):\n",
    "    ramsey_half = [pg.p('iq_ex', length_hd, pg.gauss_hd, amp_x_hd, 0, sigma_hd, alpha), \n",
    "                 pg.p(None, pause_length_hd)]\n",
    "    interleaved_identity = [pg.p('iq_ex', length_hd, pg.gauss_hd, -amp_x_hd, 0, sigma_hd, alpha), \n",
    "                           pg.p(None, pause_length_hd),\n",
    "                           pg.p('iq_ex', length_hd, pg.gauss_hd, amp_x_hd, 0, sigma_hd, alpha), \n",
    "                           pg.p(None, pause_length_hd)]\n",
    "    tomo.set_prepare_seq(ramsey_half+interleaved_identity*num_interleved_pulses+ramsey_half)\n",
    "    \n",
    "measurement = sweep.sweep(tomo, (alphas, set_drag, 'delta_freq'), filename='DRAG', output=False)"
   ]
  },
  {
   "cell_type": "markdown",
   "metadata": {},
   "source": [
    "### Randomized Benchmarking"
   ]
  },
  {
   "cell_type": "code",
   "execution_count": null,
   "metadata": {
    "collapsed": true
   },
   "outputs": [],
   "source": [
    "pause_pulse = tomography.pause(pause_length, awg_channels)\n",
    "pulses = {0:tomography.ex_gauss_hd(amp_x_hd, amp_y_hd, length_hd, sigma_hd, awg_channels, -200e6/np.pi),\n",
    "          1:tomography.ex_gauss_hd(amp_y_hd, -amp_x_hd, length_hd, sigma_hd, awg_channels, -200e6/np.pi),\n",
    "          2:tomography.ex_gauss_hd(-amp_x_hd, -amp_y_hd, length_hd, sigma_hd, awg_channels, -200e6/np.pi),\n",
    "          3:tomography.ex_gauss_hd(-amp_y_hd, amp_x_hd, length_hd, sigma_hd, awg_channels, -200e6/np.pi)}\n",
    "\n",
    "unitaries = {0:np.sqrt(0.5)*np.asarray([[1, -1j],  [-1j, 1]]),\\\n",
    "             1:np.sqrt(0.5)*np.asarray([[1, -1],    [1, 1]]),\\\n",
    "             2:np.sqrt(0.5)*np.asarray([[1, 1j],   [1j, 1]]),\\\n",
    "             3:np.sqrt(0.5)*np.asarray([[1, 1],   [-1, 1]])}\n",
    "\n",
    "observables = { 'X': 0.5*np.asarray([[0, 1],   [1, 0]]),\n",
    "                'Y': 0.5*np.asarray([[0, -1j],   [1j, 0]]),\n",
    "                '-X': 0.5*np.asarray([[0, -1],   [-1, 0]]),\n",
    "                '-Y': 0.5*np.asarray([[0, 1j],   [-1j, 0]]),\n",
    "                'Z': 0.5*np.asarray([[1, 0],   [0, -1]])}\n",
    "\n",
    "initial = np.asarray([0, 1]).T\n",
    "random_pulse_ids = np.arange(20)\n",
    "num_gates = np.linspace(0, 100, 11)\n",
    "\n",
    "sequences = []\n",
    "pulse_sequences = []\n",
    "theor_projs = {o:np.zeros((len(num_gates), len(random_pulse_ids))) for o in observables.keys()}\n",
    "rho_t = np.zeros((len(num_gates), len(random_pulse_ids),2,2), dtype=np.complex)\n",
    "psis = np.zeros((len(num_gates), len(random_pulse_ids),2), dtype=np.complex)\n",
    "n=0\n",
    "\n",
    "def set_num_gates(n_new):\n",
    "    global n\n",
    "    n = n_new\n",
    "\n",
    "def set_random_sequence(id):\n",
    "    sequence = np.random.randint (4, size = n).tolist()\n",
    "    sequence_pulses = [j for i in [[pulses[i], pause_pulse] for i in sequence] for j in i]\n",
    "    sequence_unitaries = [unitaries[i] for i in sequence]\n",
    "    psi = initial.copy()\n",
    "    \n",
    "    for U in sequence_unitaries:\n",
    "        psi = np.dot(U, psi)\n",
    "    \n",
    "    rho_t[n,id,:,:] = np.einsum('i,j->ij', np.conj(psi), psi)\n",
    "    psis[n,id,:] = psi\n",
    "    \n",
    "    sequences.append(sequence)\n",
    "    for o in observables.keys():\n",
    "        theor_projs[o][n,id] = np.dot(np.dot(np.conj(psi), observables[o]), psi)\n",
    "    \n",
    "    tomo_hd.set_prepare_seq(sequence_pulses)\n",
    "    pulse_sequences.append(sequence_pulses)\n",
    "    \n",
    "m = sweep.sweep(tomo_hd, (num_gates, set_num_gates, 'gate num'), (random_pulse_ids, set_random_sequence, 'random seq id'), filename='RB', output=False)\n",
    "X = (m['X'][2]-m['-X'][2])/2.\n",
    "Y = (m['Y'][2]-m['-Y'][2])/2.\n",
    "Z = m['Z'][2]\n",
    "rho_m = np.transpose([[0.5+Z, X+1j*Y], [X-1j*Y, 0.5-Z]], [2,3,0,1])\n",
    "fidelities = np.sqrt(np.einsum('nmi,nmji,nmj->nm', np.conj(psis), rho_m, psis))\n",
    "\n",
    "m['Fidelity'] = [d for d in m['X']]\n",
    "m['Fidelity'][2] = np.asarray(fidelities, dtype=np.float)\n",
    "for o,O in observables.items():\n",
    "    m[o+' fit'] = [d for d in m[o]]\n",
    "    m[o+' fit'][2] = np.asarray(theor_projs[o], dtype=np.float)\n",
    "#m['rho_t'] = m['X'].copy()\n",
    "save_pkl.save_pkl({'type':'Randomized benchmark Clifford'}, m)"
   ]
  },
  {
   "cell_type": "code",
   "execution_count": null,
   "metadata": {
    "collapsed": true
   },
   "outputs": [],
   "source": [
    "plt.plot(m['Fidelity'][1]m['Fidelity'])"
   ]
  },
  {
   "cell_type": "code",
   "execution_count": null,
   "metadata": {
    "collapsed": true
   },
   "outputs": [],
   "source": [
    "rho_m"
   ]
  },
  {
   "cell_type": "code",
   "execution_count": null,
   "metadata": {
    "collapsed": true
   },
   "outputs": [],
   "source": [
    "plt.plot(m['Fidelity'][1][0], np.mean(m['Fidelity'][2],axis=1))\n",
    "plt.xlabel('gate num')\n",
    "plt.ylabel('fidelity')\n",
    "plt.grid()"
   ]
  },
  {
   "cell_type": "code",
   "execution_count": null,
   "metadata": {
    "collapsed": true,
    "scrolled": true
   },
   "outputs": [],
   "source": [
    "rho_m = np.transpose([[0.5+Z, X+1j*Y], [X-1j*Y, 0.5-Z]], [2,3,0,1])\n",
    "fidelities = np.sqrt(np.einsum('mni,mnji,mnj->mn', np.conj(psis), rho_m, psis))\n",
    "\n",
    "m['Fidelity'] = [d for d in m['X']]\n",
    "m['Fidelity'][2] = np.asarray(fidelities, dtype=np.float)\n",
    "for o,O in observables.items():\n",
    "    m[o+' fit'] = [d for d in m[o]]\n",
    "    m[o+' fit'][2] = np.asarray(theor_projs[o], dtype=np.float)\n",
    "#m['rho_t'] = m['X'].copy()\n",
    "save_pkl.save_pkl({'type':'Randomized benchmark Clifford'}, m)"
   ]
  },
  {
   "cell_type": "code",
   "execution_count": null,
   "metadata": {
    "collapsed": true
   },
   "outputs": [],
   "source": [
    "m"
   ]
  },
  {
   "cell_type": "code",
   "execution_count": null,
   "metadata": {
    "collapsed": true
   },
   "outputs": [],
   "source": []
  },
  {
   "cell_type": "code",
   "execution_count": null,
   "metadata": {
    "collapsed": true
   },
   "outputs": [],
   "source": [
    "fidelities"
   ]
  },
  {
   "cell_type": "code",
   "execution_count": null,
   "metadata": {
    "collapsed": true
   },
   "outputs": [],
   "source": [
    "psis"
   ]
  },
  {
   "cell_type": "code",
   "execution_count": null,
   "metadata": {
    "collapsed": true
   },
   "outputs": [],
   "source": [
    "rho_m"
   ]
  },
  {
   "cell_type": "code",
   "execution_count": null,
   "metadata": {
    "collapsed": true
   },
   "outputs": [],
   "source": [
    "rho_t"
   ]
  },
  {
   "cell_type": "code",
   "execution_count": null,
   "metadata": {
    "collapsed": true
   },
   "outputs": [],
   "source": [
    "measurement['theory'] = thoer_proj\n",
    "save_pkl.save_pkl({'type':'Randomized benchmark Clifford'}, measurement)"
   ]
  },
  {
   "cell_type": "code",
   "execution_count": null,
   "metadata": {
    "collapsed": true
   },
   "outputs": [],
   "source": [
    "print(theor_projs)\n",
    "print(measurement)\n",
    "print(psis)\n",
    "print (sequences)\n",
    "print (rho_t)\n",
    "print (rho_m)"
   ]
  },
  {
   "cell_type": "code",
   "execution_count": null,
   "metadata": {
    "collapsed": true
   },
   "outputs": [],
   "source": [
    "np.dot(np.conj(psis[1]), np.dot(observables['Y'],psis[1]))"
   ]
  },
  {
   "cell_type": "code",
   "execution_count": null,
   "metadata": {
    "collapsed": true
   },
   "outputs": [],
   "source": [
    "num_pulses = np.round(np.arange(0, 41)).astype(np.int)\n",
    "\n",
    "def set_num_pulses(n):\n",
    "    tomoz.set_prepare_seq([tomography.ex_gauss(amp_x, length, sigma, awg_channels), \n",
    "                          tomography.pause(pause_length, awg_channels)]*n)\n",
    "\n",
    "measurement = sweep.sweep(tomoz, (num_pulses, set_num_pulses, 'SX pi2 pulse num'), filename='Rabi', output=False)"
   ]
  },
  {
   "cell_type": "code",
   "execution_count": null,
   "metadata": {
    "collapsed": true
   },
   "outputs": [],
   "source": [
    "num_pulses = np.round(np.arange(0, 21)).astype(np.int)\n",
    "\n",
    "def set_num_pulses(n):\n",
    "    tomo.set_prepare_seq([tomography.ex_gauss_hd(amp_x_hd, amp_y_hd, length_hd, sigma_hd, awg_channels, -200e6/np.pi), \n",
    "                          tomography.pause(pause_length, awg_channels)]*n)\n",
    "\n",
    "measurement = sweep.sweep(tomo, (num_pulses, set_num_pulses, 'SX pi2 pulse num'), filename='Rabi', output=False)"
   ]
  },
  {
   "cell_type": "code",
   "execution_count": null,
   "metadata": {
    "collapsed": true
   },
   "outputs": [],
   "source": [
    "num_pulses = np.round(np.arange(0, 21)).astype(np.int)\n",
    "\n",
    "def set_num_pulses(n):\n",
    "    tomo.set_prepare_seq([tomography.ex_gauss(amp_x_hd, length_hd, sigma_hd, awg_channels), \n",
    "                          tomography.pause(pause_length, awg_channels)]*n)\n",
    "\n",
    "measurement = sweep.sweep(tomo, (num_pulses, set_num_pulses, 'SX pi2 pulse num'), filename='Rabi', output=False)"
   ]
  },
  {
   "cell_type": "code",
   "execution_count": null,
   "metadata": {
    "collapsed": true
   },
   "outputs": [],
   "source": [
    "ex_amplitude=0.25\n",
    "lengths = np.linspace(0e-9, 200e-9, 51)\n",
    "readout_begin = np.max(lengths)\n",
    "\n",
    "def set_ex_length(length):\n",
    "    tomo.set_prepare_seq([tomography.ex_rect(ex_amplitude, length, awg_channels), tomography.pause(pause_length, awg_channels)])\n",
    "\n",
    "measurement = sweep.sweep(tomo, (lengths, set_ex_length, 'Rabi x-axis pulse length'), filename='Rabi', output=False)"
   ]
  },
  {
   "cell_type": "code",
   "execution_count": null,
   "metadata": {
    "collapsed": true
   },
   "outputs": [],
   "source": [
    "from mpl_toolkits.mplot3d import Axes3D\n",
    "fig = plt.figure()\n",
    "ax = fig.add_subplot(111, projection='3d')\n",
    "ax.plot(measurement ['X'][2], measurement ['Y'][2], measurement ['Z'][2], c='r', marker='o')\n",
    "ax.set_xlabel('X')\n",
    "ax.set_ylabel('Y')\n",
    "ax.set_zlabel('Z')\n",
    "ax.set_xlim([-0.6, 0.6])\n",
    "ax.set_ylim([-0.6, 0.6])\n",
    "ax.set_zlim([-0.6, 0.6])"
   ]
  },
  {
   "cell_type": "code",
   "execution_count": null,
   "metadata": {
    "collapsed": true
   },
   "outputs": [],
   "source": [
    "ex_amplitude = 0.25\n",
    "pause_length = 16e-9\n",
    "lengths = np.linspace(0e-9, 2000e-9, 2001)\n",
    "readout_begin = np.max(lengths)\n",
    "\n",
    "def set_ex_length(length):\n",
    "    tomo.set_prepare_seq([tomography.ex_rect(1j*ex_amplitude, length, awg_channels), tomography.pause(pause_length, awg_channels)])\n",
    "\n",
    "measurement = sweep.sweep(tomo, (lengths, set_ex_length, 'Rabi y-axis pulse length'), filename='Rabi', output=False)"
   ]
  },
  {
   "cell_type": "markdown",
   "metadata": {},
   "source": [
    "### Optimizing phase between x and y pulses"
   ]
  },
  {
   "cell_type": "code",
   "execution_count": null,
   "metadata": {
    "collapsed": true
   },
   "outputs": [],
   "source": [
    "c_phase = 0\n",
    "c_n = 0\n",
    "\n",
    "adc.set_software_averages(1)\n",
    "adc.set_software_nums_multi(3)\n",
    "\n",
    "def set_n(n):\n",
    "    global c_n\n",
    "    global c_phase\n",
    "    c_n = n \n",
    "    y_pulse = [tomography.ex_gauss_hd(amp_x_hd*np.exp(1j*c_phase), amp_y_hd*np.exp(1j*c_phase), length_hd, sigma_hd, awg_channels, -200e6), tomography.pause(pause_length, awg_channels)]\n",
    "    tomo.set_prepare_seq(y_pulse*c_n)\n",
    "\n",
    "def set_y_phase(phase):\n",
    "    global c_n\n",
    "    global c_phase\n",
    "    c_phase = phase\n",
    "    y_pulse = [tomography.ex_gauss_hd(amp_x_hd*np.exp(1j*c_phase), amp_y_hd*np.exp(1j*c_phase), length_hd, sigma_hd, awg_channels, -200e6), tomography.pause(pause_length, awg_channels)]\n",
    "    tomo.set_prepare_seq(y_pulse*c_n)\n",
    "\n",
    "phases = np.linspace(np.pi/2.*0.8, np.pi/2.*1.2, 11, endpoint=False)\n",
    "num_pulses = np.arange(0,5)\n",
    "measurement = sweep.sweep(tomo, (phases, set_y_phase, 'y-pulse phase'), (num_pulses, set_n, 'y pulse num'), filename='y-phase', output=False)"
   ]
  },
  {
   "cell_type": "code",
   "execution_count": null,
   "metadata": {
    "collapsed": true
   },
   "outputs": [],
   "source": [
    "phases[7]"
   ]
  },
  {
   "cell_type": "code",
   "execution_count": null,
   "metadata": {
    "collapsed": true
   },
   "outputs": [],
   "source": [
    "plt.plot(np.asarray(results).T)"
   ]
  },
  {
   "cell_type": "code",
   "execution_count": null,
   "metadata": {
    "collapsed": true
   },
   "outputs": [],
   "source": [
    "adc.stop()"
   ]
  },
  {
   "cell_type": "code",
   "execution_count": null,
   "metadata": {
    "collapsed": true
   },
   "outputs": [],
   "source": [
    "plt.close()"
   ]
  },
  {
   "cell_type": "markdown",
   "metadata": {
    "collapsed": true
   },
   "source": [
    "# load calibration data"
   ]
  },
  {
   "cell_type": "code",
   "execution_count": null,
   "metadata": {
    "collapsed": true
   },
   "outputs": [],
   "source": [
    "import pickle\n",
    "f0 = open('D:\\\\qtlab\\\\ReiData\\\\data\\\\2017-04-26\\\\13-11-46\\\\Voltage ro calibration.pkl', 'rb')\n",
    "f1 = open('D:\\\\qtlab\\\\ReiData\\\\data\\\\2017-04-26\\\\13-11-14\\\\Voltage ro calibration.pkl', 'rb')\n",
    "cal0 = pickle.load(f0)\n",
    "cal1 = pickle.load(f1)"
   ]
  },
  {
   "cell_type": "code",
   "execution_count": null,
   "metadata": {
    "collapsed": true
   },
   "outputs": [],
   "source": [
    "import numpy as np\n",
    "import matplotlib.pyplot as plt\n",
    "%matplotlib qt4\n",
    "cal0_nomean = cal0[1]['Voltage'][2][0,:,:]-np.mean(cal0[1]['Voltage'][2][0,:,:])\n",
    "cal1_nomean = cal0[1]['Voltage'][2][1,:,:]-np.mean(cal0[1]['Voltage'][2][1,:,:])\n",
    "\n",
    "cal0_mean = np.mean(cal0_nomean, axis=0)\n",
    "cal1_mean = np.mean(cal1_nomean, axis=0)"
   ]
  },
  {
   "cell_type": "code",
   "execution_count": null,
   "metadata": {
    "collapsed": true
   },
   "outputs": [],
   "source": [
    "cal_mean = (cal0_mean+cal1_mean)/2.\n",
    "cal_diff = (cal1_mean-cal0_mean)\n",
    "\n",
    "plt.figure('Samples')\n",
    "plt.plot(np.mean(cal0_nomean, axis=0), label='|0>')\n",
    "plt.plot(np.mean(cal1_nomean, axis=0), label='|1>')\n",
    "plt.legend()\n",
    "\n",
    "plt.figure('Offset & feature')\n",
    "plt.plot(cal_mean, label='mean')\n",
    "plt.plot(cal_diff, label='diff')\n",
    "plt.legend()"
   ]
  },
  {
   "cell_type": "code",
   "execution_count": null,
   "metadata": {
    "collapsed": true
   },
   "outputs": [],
   "source": [
    "plt.figure('Fourier domain')\n",
    "plt.plot(np.abs(np.fft.fft(cal0_mean)), label='|0>')\n",
    "plt.plot(np.abs(np.fft.fft(cal1_mean)), label='|1>') \n",
    "plt.plot(np.abs(np.fft.fft(cal_mean)), label='mean')\n",
    "plt.plot(np.abs(np.fft.fft(cal_diff)), label='diff')\n",
    "plt.legend()\n",
    "\n",
    "feature = np.conj(cal_diff/np.sum(np.abs(cal_diff**2)))"
   ]
  },
  {
   "cell_type": "code",
   "execution_count": null,
   "metadata": {
    "collapsed": true
   },
   "outputs": [],
   "source": [
    "coeffs0 = np.dot(cal0_nomean-cal_mean, feature)\n",
    "coeffs1 = np.dot(cal1_nomean-cal_mean, feature)\n",
    "predictions = np.asarray([np.real(coeffs0), np.real(coeffs1)])"
   ]
  },
  {
   "cell_type": "code",
   "execution_count": null,
   "metadata": {
    "collapsed": true
   },
   "outputs": [],
   "source": [
    "hist_all, bins = np.histogram(predictions, bins='auto')\n",
    "proba_points = (bins[1:]+bins[:-1])/2.\n",
    "hists = []\n",
    "for y in range(2):\n",
    "    hists.append(np.histogram(predictions[y,:], bins=bins)[0])\n",
    "\n",
    "hists = np.asarray(hists, dtype=float)\n",
    "probabilities = hists/hist_all\n",
    "naive_probabilities = np.asarray([proba_points<0, proba_points>0], dtype=float)\n",
    "probabilities[np.isnan(probabilities)] = naive_probabilities[np.isnan(probabilities)]\n",
    "predictor = lambda x: np.interp(x, proba_points, probabilities[1,:], left=0., right=1.)\n",
    "calib_proba_points = proba_points\n",
    "calib_proba = probabilities[1,:]\n",
    "calib_hists = hists"
   ]
  },
  {
   "cell_type": "code",
   "execution_count": null,
   "metadata": {
    "collapsed": true
   },
   "outputs": [],
   "source": [
    "from sklearn.metrics import roc_curve, roc_auc_score\n",
    "roc = roc_curve([0]*coeffs0.size+[1]*coeffs0.size, predictor(predictions.ravel()))\n",
    "roc_auc = roc_auc_score([0]*coeffs0.size+[1]*coeffs0.size, predictor(predictions.ravel()))"
   ]
  },
  {
   "cell_type": "code",
   "execution_count": null,
   "metadata": {
    "collapsed": true
   },
   "outputs": [],
   "source": [
    "plt.figure('ROC')\n",
    "plt.plot(roc[0], roc[1])\n",
    "plt.xlabel('True Positive Rate')\n",
    "plt.ylabel('True Negative Rate')\n",
    "roc_auc"
   ]
  },
  {
   "cell_type": "code",
   "execution_count": null,
   "metadata": {
    "collapsed": true
   },
   "outputs": [],
   "source": [
    "plt.figure('probability curve')\n",
    "plt.plot(calib_proba_points, calib_proba)"
   ]
  },
  {
   "cell_type": "code",
   "execution_count": null,
   "metadata": {
    "collapsed": true
   },
   "outputs": [],
   "source": [
    "plt.figure('Readout hists')\n",
    "plt.bar(proba_points-0.25, hists[0], width=0.05, label='|0>')\n",
    "plt.bar(proba_points+0.25, hists[1], width=0.05, label='|1>')\n",
    "plt.legend()"
   ]
  },
  {
   "cell_type": "code",
   "execution_count": null,
   "metadata": {
    "collapsed": true
   },
   "outputs": [],
   "source": [
    "plt.close()"
   ]
  },
  {
   "cell_type": "code",
   "execution_count": null,
   "metadata": {
    "collapsed": true
   },
   "outputs": [],
   "source": [
    "cal0_nomean.shape"
   ]
  },
  {
   "cell_type": "code",
   "execution_count": null,
   "metadata": {
    "collapsed": true
   },
   "outputs": [],
   "source": [
    "plt.figure(figsize=(12,3))\n",
    "plt.imshow(np.sum(np.real(np.reshape(cal0_nomean, (200, 100, 1024))), axis=0), cmap='RdBu')\n",
    "plt.figure(figsize=(12,3))\n",
    "plt.imshow(np.sum(np.real(np.reshape(cal1_nomean, (200, 100, 1024))), axis=0), cmap='RdBu')"
   ]
  },
  {
   "cell_type": "code",
   "execution_count": null,
   "metadata": {
    "collapsed": true
   },
   "outputs": [],
   "source": [
    "plt.plot(np.mean(cal0_nomean, axis=0))\n",
    "plt.plot(np.mean(cal1_nomean, axis=0))"
   ]
  },
  {
   "cell_type": "markdown",
   "metadata": {},
   "source": [
    "### extract samples from scan from their directories and put into a new directory"
   ]
  },
  {
   "cell_type": "code",
   "execution_count": null,
   "metadata": {
    "collapsed": true
   },
   "outputs": [],
   "source": [
    "import os\n",
    "import glob\n",
    "new_root = 'D:\\\\qtlab\\\\ReiData\\\\data\\\\2018-03-13\\\\Paramp-on-samples\\\\'\n",
    "path = 'D:\\\\qtlab\\\\ReiData\\\\data\\\\2018-03-13\\\\Paramp-on-samples\\\\day2\\\\*\\\\*.pkl'\n",
    "pickles = glob.glob(path)\n",
    "for pickle in pickles:\n",
    "    pickle_name = pickle[(pickle.rfind('\\\\')+1):]\n",
    "    amplitude = 0.05\n",
    "    pickle_renamed = pickle_name.replace('ro_dac_amiltude 1.00', 'ro_dac_amplitude {0:.2f}'.format(amplitude))\n",
    "    i = 0\n",
    "    while(os.path.exists(new_root+pickle_renamed)):\n",
    "        amplitude += 0.05\n",
    "        pickle_renamed = pickle_name.replace('ro_dac_amiltude 1.00', 'ro_dac_amplitude {0:.2f}'.format(amplitude))\n",
    "        i += 1 \n",
    "        if i> 100:\n",
    "            raise(Exception('infinite loop '+pickle_renamed))\n",
    "    #print (pickle_name)\n",
    "    os.rename(pickle, new_root+pickle_renamed)"
   ]
  },
  {
   "cell_type": "markdown",
   "metadata": {},
   "source": [
    "### zip samples"
   ]
  },
  {
   "cell_type": "code",
   "execution_count": null,
   "metadata": {
    "collapsed": true,
    "scrolled": true
   },
   "outputs": [],
   "source": [
    "import zipfile\n",
    "sources = 'D:\\\\qtlab\\\\ReiData\\\\data\\\\2018-03-13\\\\Paramp-on-samples\\\\*.pkl'\n",
    "pickles = glob.glob(sources)\n",
    "for pickle in pickles:\n",
    "    #pickle_name = pickle[(pickle.rfind('\\\\')+1):]\n",
    "    print (pickle)\n",
    "    zout = zipfile.ZipFile(pickle+'.zip', \"w\", zipfile.ZIP_DEFLATED)\n",
    "    zout.write(pickle)\n",
    "    zout.close()"
   ]
  },
  {
   "cell_type": "code",
   "execution_count": null,
   "metadata": {
    "collapsed": true
   },
   "outputs": [],
   "source": []
  }
 ],
 "metadata": {
  "kernelspec": {
   "display_name": "Python 3",
   "language": "python",
   "name": "python3"
  },
  "language_info": {
   "codemirror_mode": {
    "name": "ipython",
    "version": 3
   },
   "file_extension": ".py",
   "mimetype": "text/x-python",
   "name": "python",
   "nbconvert_exporter": "python",
   "pygments_lexer": "ipython3",
   "version": "3.6.5"
  },
  "toc": {
   "base_numbering": 1,
   "nav_menu": {},
   "number_sections": true,
   "sideBar": true,
   "skip_h1_title": false,
   "title_cell": "Table of Contents",
   "title_sidebar": "Contents",
   "toc_cell": false,
   "toc_position": {},
   "toc_section_display": true,
   "toc_window_display": false
  }
 },
 "nbformat": 4,
 "nbformat_minor": 1
}
