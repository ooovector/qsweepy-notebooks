{
 "cells": [
  {
   "cell_type": "code",
   "execution_count": 1,
   "metadata": {},
   "outputs": [
    {
     "name": "stdout",
     "output_type": "stream",
     "text": [
      "Failed loading module ADS54J40:  [WinError 126] The specified module could not be found\n",
      "Failed loading module AWG500:  [WinError 126] The specified module could not be found\n",
      "Failed loading module Keysight_M3102A:  No module named 'keysightSD1'\n",
      "Failed loading module Keysight_M3202A:  No module named 'keysightSD1'\n",
      "Failed loading module Labbrick:  [WinError 126] The specified module could not be found\n",
      "\n",
      "Failed loading module Signal_Hound_SA:  name 'signal_hound_dll' is not defined\n",
      "Failed loading module TSW14J56driver:  No module named 'ADS54J40'\n"
     ]
    }
   ],
   "source": [
    "from qsweepy import*\n",
    "import numpy as np\n",
    "import exdir\n",
    "#from pony.orm import*\n",
    "db = database.database()"
   ]
  },
  {
   "cell_type": "code",
   "execution_count": 23,
   "metadata": {
    "collapsed": true
   },
   "outputs": [],
   "source": [
    "from qsweepy.instrument import Instrument\n",
    "from time import sleep\n",
    "\n",
    "class random_measurer(Instrument):\n",
    "    def __init__(self):\n",
    "        self.nums = 1\n",
    "        \n",
    "    def get_points():\n",
    "        return {'random':[('Voltage',np.random.rand(1), 'V')]}#, ('Time',np.random.rand(10), 's')]}\n",
    "\n",
    "    def get_dtype():\n",
    "        return {'random':complex}\n",
    "\n",
    "    def get_opts():\n",
    "        return {'Voltage':{'log': None}}\n",
    "\n",
    "    def measure():\n",
    "        #data = np.zeros((2,10,10))\n",
    "        #data[0,:,:] = np.random.rand(10, 10)\n",
    "        #data[1,:,:] = 1j*np.random.rand(10, 10)\n",
    "        sleep(1)\n",
    "        return {'random':np.random.rand(1)}#(data[0,:,:]+1j*data[1,:,:])}"
   ]
  },
  {
   "cell_type": "code",
   "execution_count": 14,
   "metadata": {
    "collapsed": true
   },
   "outputs": [],
   "source": [
    "default_sweeper = sweep_extras.sweeper(db)"
   ]
  },
  {
   "cell_type": "code",
   "execution_count": null,
   "metadata": {},
   "outputs": [
    {
     "name": "stdout",
     "output_type": "stream",
     "text": [
      "{}\n",
      "C:\\Users\\ilia/QtLab\\data\\2019-03-12 OrderedDict([('id', '000024'), ('measurement_type', 'Rabi'), ('sample_name', 'anonymous_sample')])\n"
     ]
    }
   ],
   "source": [
    "state = default_sweeper.sweep(random_measurer, (np.arange(1000), lambda x: None, 'randomize'), measurement_type = 'Rabi')"
   ]
  },
  {
   "cell_type": "code",
   "execution_count": 16,
   "metadata": {},
   "outputs": [
    {
     "name": "stdout",
     "output_type": "stream",
     "text": [
      "Attribute(/random/parameters/0, {name: randomize,unit: ,has_setter: True,})\n",
      "Attribute(/random/parameters/1, {name: Voltage,unit: V,has_setter: False,})\n",
      "C:\\Users\\ilia/QtLab\\data\\2019-03-12\\000005-Rabi-anonymous_sample\n"
     ]
    },
    {
     "data": {
      "text/plain": [
       "start: 2019-03-12 11:59:18.811890, started/done/total sweeps: 0/0/0, \n",
       "Measured data: \n",
       "'random': parameters: randomize (),:[0, 1] (2 points) with setter\n",
       "Voltage (V),:[0.05134281982014921, 0.9715778636222642] (10 points) without setter\n",
       "data: [[0.28371513+0.j 0.30798802+0.j 0.13237126+0.j 0.50387792+0.j\n",
       "  0.75610997+0.j 0.88292024+0.j 0.55970637+0.j 0.60563042+0.j\n",
       "  0.11945389+0.j 0.09573972+0.j]\n",
       " [0.11462049+0.j 0.84959739+0.j 0.61642   +0.j 0.37293123+0.j\n",
       "  0.19788155+0.j 0.73414593+0.j 0.84716123+0.j 0.14152329+0.j\n",
       "  0.88821551+0.j 0.19300333+0.j]]"
      ]
     },
     "execution_count": 16,
     "metadata": {},
     "output_type": "execute_result"
    }
   ],
   "source": [
    "save_exdir.load_exdir(state.filename, db)"
   ]
  },
  {
   "cell_type": "code",
   "execution_count": null,
   "metadata": {
    "collapsed": true
   },
   "outputs": [],
   "source": []
  },
  {
   "cell_type": "code",
   "execution_count": null,
   "metadata": {
    "collapsed": true
   },
   "outputs": [],
   "source": []
  },
  {
   "cell_type": "code",
   "execution_count": null,
   "metadata": {
    "collapsed": true
   },
   "outputs": [],
   "source": []
  },
  {
   "cell_type": "code",
   "execution_count": 7,
   "metadata": {},
   "outputs": [
    {
     "ename": "FileNotFoundError",
     "evalue": "[WinError 3] The system cannot find the path specified: 'C:\\\\Users\\\\User\\\\Documents\\\\PythonScripts\\\\1.exdir'",
     "output_type": "error",
     "traceback": [
      "\u001b[1;31m---------------------------------------------------------------------------\u001b[0m",
      "\u001b[1;31mFileNotFoundError\u001b[0m                         Traceback (most recent call last)",
      "\u001b[1;32m<ipython-input-7-1a3bb928a334>\u001b[0m in \u001b[0;36m<module>\u001b[1;34m()\u001b[0m\n\u001b[0;32m      1\u001b[0m \u001b[1;32mimport\u001b[0m \u001b[0mimp\u001b[0m\u001b[1;33m\u001b[0m\u001b[1;33m\u001b[0m\u001b[0m\n\u001b[0;32m      2\u001b[0m \u001b[0mimp\u001b[0m\u001b[1;33m.\u001b[0m\u001b[0mreload\u001b[0m\u001b[1;33m(\u001b[0m\u001b[0msave_exdir\u001b[0m\u001b[1;33m)\u001b[0m\u001b[1;33m\u001b[0m\u001b[1;33m\u001b[0m\u001b[0m\n\u001b[1;32m----> 3\u001b[1;33m \u001b[0msave_exdir\u001b[0m\u001b[1;33m.\u001b[0m\u001b[0msave_exdir\u001b[0m\u001b[1;33m(\u001b[0m\u001b[0mstate\u001b[0m\u001b[1;33m)\u001b[0m\u001b[1;33m\u001b[0m\u001b[1;33m\u001b[0m\u001b[0m\n\u001b[0m",
      "\u001b[1;32mC:\\Documents\\qubits\\qtlab_replacement\\qsweepy\\save_exdir.py\u001b[0m in \u001b[0;36msave_exdir\u001b[1;34m(state, keep_open)\u001b[0m\n\u001b[0;32m     17\u001b[0m \u001b[1;32mdef\u001b[0m \u001b[0msave_exdir\u001b[0m\u001b[1;33m(\u001b[0m\u001b[0mstate\u001b[0m\u001b[1;33m,\u001b[0m \u001b[0mkeep_open\u001b[0m\u001b[1;33m=\u001b[0m\u001b[1;32mFalse\u001b[0m\u001b[1;33m)\u001b[0m\u001b[1;33m:\u001b[0m\u001b[1;33m\u001b[0m\u001b[1;33m\u001b[0m\u001b[0m\n\u001b[0;32m     18\u001b[0m         \u001b[0mparameters\u001b[0m \u001b[1;33m=\u001b[0m \u001b[1;33m[\u001b[0m\u001b[1;33m]\u001b[0m\u001b[1;33m\u001b[0m\u001b[1;33m\u001b[0m\u001b[0m\n\u001b[1;32m---> 19\u001b[1;33m         \u001b[0mf\u001b[0m \u001b[1;33m=\u001b[0m \u001b[0mexdir\u001b[0m\u001b[1;33m.\u001b[0m\u001b[0mFile\u001b[0m\u001b[1;33m(\u001b[0m\u001b[0mstate\u001b[0m\u001b[1;33m.\u001b[0m\u001b[0mfilename\u001b[0m\u001b[1;33m,\u001b[0m \u001b[1;34m'w'\u001b[0m\u001b[1;33m,\u001b[0m \u001b[0mallow_remove\u001b[0m\u001b[1;33m=\u001b[0m\u001b[1;32mTrue\u001b[0m\u001b[1;33m)\u001b[0m\u001b[1;33m\u001b[0m\u001b[1;33m\u001b[0m\u001b[0m\n\u001b[0m\u001b[0;32m     20\u001b[0m         \u001b[1;32mif\u001b[0m \u001b[0mkeep_open\u001b[0m\u001b[1;33m:\u001b[0m\u001b[1;33m\u001b[0m\u001b[1;33m\u001b[0m\u001b[0m\n\u001b[0;32m     21\u001b[0m                 \u001b[1;32mif\u001b[0m \u001b[0mhasattr\u001b[0m\u001b[1;33m(\u001b[0m\u001b[0mstate\u001b[0m\u001b[1;33m,\u001b[0m \u001b[1;34m'exdir'\u001b[0m\u001b[1;33m)\u001b[0m\u001b[1;33m:\u001b[0m\u001b[1;33m\u001b[0m\u001b[1;33m\u001b[0m\u001b[0m\n",
      "\u001b[1;32mC:\\ProgramData\\Anaconda3\\lib\\site-packages\\exdir-0.3.4.1-py3.6.egg\\exdir\\core\\exdir_file.py\u001b[0m in \u001b[0;36m__init__\u001b[1;34m(self, directory, mode, allow_remove, name_validation, plugins, validate_name)\u001b[0m\n\u001b[0;32m    133\u001b[0m         \u001b[1;32mif\u001b[0m \u001b[0mshould_create_directory\u001b[0m\u001b[1;33m:\u001b[0m\u001b[1;33m\u001b[0m\u001b[1;33m\u001b[0m\u001b[0m\n\u001b[0;32m    134\u001b[0m             \u001b[0mself\u001b[0m\u001b[1;33m.\u001b[0m\u001b[0mname_validation\u001b[0m\u001b[1;33m(\u001b[0m\u001b[0mdirectory\u001b[0m\u001b[1;33m.\u001b[0m\u001b[0mparent\u001b[0m\u001b[1;33m,\u001b[0m \u001b[0mdirectory\u001b[0m\u001b[1;33m.\u001b[0m\u001b[0mname\u001b[0m\u001b[1;33m)\u001b[0m\u001b[1;33m\u001b[0m\u001b[1;33m\u001b[0m\u001b[0m\n\u001b[1;32m--> 135\u001b[1;33m             \u001b[0mexob\u001b[0m\u001b[1;33m.\u001b[0m\u001b[0m_create_object_directory\u001b[0m\u001b[1;33m(\u001b[0m\u001b[0mdirectory\u001b[0m\u001b[1;33m,\u001b[0m \u001b[0mexob\u001b[0m\u001b[1;33m.\u001b[0m\u001b[0mFILE_TYPENAME\u001b[0m\u001b[1;33m)\u001b[0m\u001b[1;33m\u001b[0m\u001b[1;33m\u001b[0m\u001b[0m\n\u001b[0m\u001b[0;32m    136\u001b[0m \u001b[1;33m\u001b[0m\u001b[0m\n\u001b[0;32m    137\u001b[0m     \u001b[1;32mdef\u001b[0m \u001b[0mclose\u001b[0m\u001b[1;33m(\u001b[0m\u001b[0mself\u001b[0m\u001b[1;33m)\u001b[0m\u001b[1;33m:\u001b[0m\u001b[1;33m\u001b[0m\u001b[1;33m\u001b[0m\u001b[0m\n",
      "\u001b[1;32mC:\\ProgramData\\Anaconda3\\lib\\site-packages\\exdir-0.3.4.1-py3.6.egg\\exdir\\core\\exdir_object.py\u001b[0m in \u001b[0;36m_create_object_directory\u001b[1;34m(directory, typename)\u001b[0m\n\u001b[0;32m     44\u001b[0m     \u001b[1;32mif\u001b[0m \u001b[0mtypename\u001b[0m \u001b[1;32mnot\u001b[0m \u001b[1;32min\u001b[0m \u001b[0mvalid_types\u001b[0m\u001b[1;33m:\u001b[0m\u001b[1;33m\u001b[0m\u001b[1;33m\u001b[0m\u001b[0m\n\u001b[0;32m     45\u001b[0m         \u001b[1;32mraise\u001b[0m \u001b[0mValueError\u001b[0m\u001b[1;33m(\u001b[0m\u001b[1;34m\"{typename} is not a valid typename\"\u001b[0m\u001b[1;33m.\u001b[0m\u001b[0mformat\u001b[0m\u001b[1;33m(\u001b[0m\u001b[0mtypename\u001b[0m\u001b[1;33m=\u001b[0m\u001b[0mtypename\u001b[0m\u001b[1;33m)\u001b[0m\u001b[1;33m)\u001b[0m\u001b[1;33m\u001b[0m\u001b[1;33m\u001b[0m\u001b[0m\n\u001b[1;32m---> 46\u001b[1;33m     \u001b[0mdirectory\u001b[0m\u001b[1;33m.\u001b[0m\u001b[0mmkdir\u001b[0m\u001b[1;33m(\u001b[0m\u001b[1;33m)\u001b[0m\u001b[1;33m\u001b[0m\u001b[1;33m\u001b[0m\u001b[0m\n\u001b[0m\u001b[0;32m     47\u001b[0m     \u001b[0mmeta_filename\u001b[0m \u001b[1;33m=\u001b[0m \u001b[0mdirectory\u001b[0m \u001b[1;33m/\u001b[0m \u001b[0mMETA_FILENAME\u001b[0m\u001b[1;33m\u001b[0m\u001b[1;33m\u001b[0m\u001b[0m\n\u001b[0;32m     48\u001b[0m     \u001b[1;32mwith\u001b[0m \u001b[0mmeta_filename\u001b[0m\u001b[1;33m.\u001b[0m\u001b[0mopen\u001b[0m\u001b[1;33m(\u001b[0m\u001b[1;34m\"w\"\u001b[0m\u001b[1;33m,\u001b[0m \u001b[0mencoding\u001b[0m\u001b[1;33m=\u001b[0m\u001b[1;34m\"utf-8\"\u001b[0m\u001b[1;33m)\u001b[0m \u001b[1;32mas\u001b[0m \u001b[0mmeta_file\u001b[0m\u001b[1;33m:\u001b[0m\u001b[1;33m\u001b[0m\u001b[1;33m\u001b[0m\u001b[0m\n",
      "\u001b[1;32mC:\\ProgramData\\Anaconda3\\lib\\pathlib.py\u001b[0m in \u001b[0;36mmkdir\u001b[1;34m(self, mode, parents, exist_ok)\u001b[0m\n\u001b[0;32m   1246\u001b[0m             \u001b[0mself\u001b[0m\u001b[1;33m.\u001b[0m\u001b[0m_raise_closed\u001b[0m\u001b[1;33m(\u001b[0m\u001b[1;33m)\u001b[0m\u001b[1;33m\u001b[0m\u001b[1;33m\u001b[0m\u001b[0m\n\u001b[0;32m   1247\u001b[0m         \u001b[1;32mtry\u001b[0m\u001b[1;33m:\u001b[0m\u001b[1;33m\u001b[0m\u001b[1;33m\u001b[0m\u001b[0m\n\u001b[1;32m-> 1248\u001b[1;33m             \u001b[0mself\u001b[0m\u001b[1;33m.\u001b[0m\u001b[0m_accessor\u001b[0m\u001b[1;33m.\u001b[0m\u001b[0mmkdir\u001b[0m\u001b[1;33m(\u001b[0m\u001b[0mself\u001b[0m\u001b[1;33m,\u001b[0m \u001b[0mmode\u001b[0m\u001b[1;33m)\u001b[0m\u001b[1;33m\u001b[0m\u001b[1;33m\u001b[0m\u001b[0m\n\u001b[0m\u001b[0;32m   1249\u001b[0m         \u001b[1;32mexcept\u001b[0m \u001b[0mFileNotFoundError\u001b[0m\u001b[1;33m:\u001b[0m\u001b[1;33m\u001b[0m\u001b[1;33m\u001b[0m\u001b[0m\n\u001b[0;32m   1250\u001b[0m             \u001b[1;32mif\u001b[0m \u001b[1;32mnot\u001b[0m \u001b[0mparents\u001b[0m \u001b[1;32mor\u001b[0m \u001b[0mself\u001b[0m\u001b[1;33m.\u001b[0m\u001b[0mparent\u001b[0m \u001b[1;33m==\u001b[0m \u001b[0mself\u001b[0m\u001b[1;33m:\u001b[0m\u001b[1;33m\u001b[0m\u001b[1;33m\u001b[0m\u001b[0m\n",
      "\u001b[1;32mC:\\ProgramData\\Anaconda3\\lib\\pathlib.py\u001b[0m in \u001b[0;36mwrapped\u001b[1;34m(pathobj, *args)\u001b[0m\n\u001b[0;32m    385\u001b[0m         \u001b[1;33m@\u001b[0m\u001b[0mfunctools\u001b[0m\u001b[1;33m.\u001b[0m\u001b[0mwraps\u001b[0m\u001b[1;33m(\u001b[0m\u001b[0mstrfunc\u001b[0m\u001b[1;33m)\u001b[0m\u001b[1;33m\u001b[0m\u001b[1;33m\u001b[0m\u001b[0m\n\u001b[0;32m    386\u001b[0m         \u001b[1;32mdef\u001b[0m \u001b[0mwrapped\u001b[0m\u001b[1;33m(\u001b[0m\u001b[0mpathobj\u001b[0m\u001b[1;33m,\u001b[0m \u001b[1;33m*\u001b[0m\u001b[0margs\u001b[0m\u001b[1;33m)\u001b[0m\u001b[1;33m:\u001b[0m\u001b[1;33m\u001b[0m\u001b[1;33m\u001b[0m\u001b[0m\n\u001b[1;32m--> 387\u001b[1;33m             \u001b[1;32mreturn\u001b[0m \u001b[0mstrfunc\u001b[0m\u001b[1;33m(\u001b[0m\u001b[0mstr\u001b[0m\u001b[1;33m(\u001b[0m\u001b[0mpathobj\u001b[0m\u001b[1;33m)\u001b[0m\u001b[1;33m,\u001b[0m \u001b[1;33m*\u001b[0m\u001b[0margs\u001b[0m\u001b[1;33m)\u001b[0m\u001b[1;33m\u001b[0m\u001b[1;33m\u001b[0m\u001b[0m\n\u001b[0m\u001b[0;32m    388\u001b[0m         \u001b[1;32mreturn\u001b[0m \u001b[0mstaticmethod\u001b[0m\u001b[1;33m(\u001b[0m\u001b[0mwrapped\u001b[0m\u001b[1;33m)\u001b[0m\u001b[1;33m\u001b[0m\u001b[1;33m\u001b[0m\u001b[0m\n\u001b[0;32m    389\u001b[0m \u001b[1;33m\u001b[0m\u001b[0m\n",
      "\u001b[1;31mFileNotFoundError\u001b[0m: [WinError 3] The system cannot find the path specified: 'C:\\\\Users\\\\User\\\\Documents\\\\PythonScripts\\\\1.exdir'"
     ]
    }
   ],
   "source": [
    "import imp\n",
    "imp.reload(save_exdir)\n",
    "save_exdir.save_exdir(state)"
   ]
  },
  {
   "cell_type": "code",
   "execution_count": 10,
   "metadata": {},
   "outputs": [
    {
     "name": "stdout",
     "output_type": "stream",
     "text": [
      "('VNA', '10 dBm')\n",
      "('parameter values', [1])\n",
      "Voltage [memmap([0.02498881+0.j, 0.16766608+0.j, 0.03574696+0.j, 0.45593991+0.j,\n",
      "        0.78109841+0.j, 0.05851568+0.j, 0.79783972+0.j, 0.37815908+0.j,\n",
      "        0.92130075+0.j, 0.61726321+0.j]), 'setter', 'Voltage']\n",
      "data [memmap([[0.10886731+0.j, 0.27846631+0.j, 0.30948456+0.j, 0.97432788+0.j,\n",
      "         0.78668599+0.j, 0.41025402+0.j, 0.25854659+0.j, 0.68689636+0.j,\n",
      "         0.3007515 +0.j, 0.70566781+0.j],\n",
      "        [0.50581398+0.j, 0.49439551+0.j, 0.72207532+0.j, 0.37351598+0.j,\n",
      "         0.22009452+0.j, 0.56696348+0.j, 0.71304849+0.j, 0.0116191 +0.j,\n",
      "         0.69412552+0.j, 0.5539151 +0.j]]), 'setter', 'data']\n",
      "randomize [memmap([0.+0.j, 1.+0.j]), 'setter', 'randomize']\n"
     ]
    },
    {
     "data": {
      "text/plain": [
       "start: 2019-02-06 15:43:16.358136, started/done/total sweeps: 0/0/0, \n",
       "Measured data: \n",
       "'random': parameters: Voltage (),:[(0.024988807241005717+0j), (0.9213007457611252+0j)] (10 points) with setter\n",
       "randomize (),:[0j, (1+0j)] (2 points) with setter\n",
       "data: [[0.10886731+0.j 0.27846631+0.j 0.30948456+0.j 0.97432788+0.j\n",
       "  0.78668599+0.j 0.41025402+0.j 0.25854659+0.j 0.68689636+0.j\n",
       "  0.3007515 +0.j 0.70566781+0.j]\n",
       " [0.50581398+0.j 0.49439551+0.j 0.72207532+0.j 0.37351598+0.j\n",
       "  0.22009452+0.j 0.56696348+0.j 0.71304849+0.j 0.0116191 +0.j\n",
       "  0.69412552+0.j 0.5539151 +0.j]]"
      ]
     },
     "execution_count": 10,
     "metadata": {},
     "output_type": "execute_result"
    }
   ],
   "source": [
    "save_exdir.read_exdir_new('C:/Users/User/Documents/PythonScripts/1')"
   ]
  },
  {
   "cell_type": "code",
   "execution_count": 11,
   "metadata": {},
   "outputs": [
    {
     "name": "stdout",
     "output_type": "stream",
     "text": [
      "[] [Voltage (V),:[0.37040662569483895, 0.9247811573931111] (10 points) without setter]\n"
     ]
    }
   ],
   "source": [
    "state = sweep.sweep_new(random_measurer, filename = 'C:/Users/User/Documents/PythonScripts/2', meas_type = 'Ramsey')"
   ]
  },
  {
   "cell_type": "code",
   "execution_count": 12,
   "metadata": {},
   "outputs": [
    {
     "name": "stdout",
     "output_type": "stream",
     "text": [
      "VNA 10 dBm\n"
     ]
    },
    {
     "data": {
      "text/plain": [
       "2"
      ]
     },
     "execution_count": 12,
     "metadata": {},
     "output_type": "execute_result"
    }
   ],
   "source": [
    "state.id = db.create_in_database(state)\n",
    "db.update_in_database(state)"
   ]
  },
  {
   "cell_type": "code",
   "execution_count": 3,
   "metadata": {},
   "outputs": [
    {
     "ename": "NameError",
     "evalue": "name 'state' is not defined",
     "output_type": "error",
     "traceback": [
      "\u001b[1;31m---------------------------------------------------------------------------\u001b[0m",
      "\u001b[1;31mNameError\u001b[0m                                 Traceback (most recent call last)",
      "\u001b[1;32m<ipython-input-3-38b197016a4d>\u001b[0m in \u001b[0;36m<module>\u001b[1;34m()\u001b[0m\n\u001b[1;32m----> 1\u001b[1;33m \u001b[0msave_exdir\u001b[0m\u001b[1;33m.\u001b[0m\u001b[0msave_exdir\u001b[0m\u001b[1;33m(\u001b[0m\u001b[0mstate\u001b[0m\u001b[1;33m)\u001b[0m\u001b[1;33m\u001b[0m\u001b[0m\n\u001b[0m\u001b[0;32m      2\u001b[0m \u001b[0msave_exdir\u001b[0m\u001b[1;33m.\u001b[0m\u001b[0mread_exdir_new\u001b[0m\u001b[1;33m(\u001b[0m\u001b[1;34m'C:/Users/User/Documents/PythonScripts/2'\u001b[0m\u001b[1;33m)\u001b[0m\u001b[1;33m\u001b[0m\u001b[0m\n",
      "\u001b[1;31mNameError\u001b[0m: name 'state' is not defined"
     ]
    }
   ],
   "source": [
    "save_exdir.save_exdir(state)\n",
    "save_exdir.read_exdir_new('C:/Users/User/Documents/PythonScripts/2')"
   ]
  },
  {
   "cell_type": "code",
   "execution_count": 23,
   "metadata": {},
   "outputs": [
    {
     "data": {
      "text/plain": [
       "<module 'qsweepy.database' from 'C:\\\\Users\\\\User\\\\Documents\\\\PythonScripts\\\\qsweepy\\\\database.py'>"
      ]
     },
     "execution_count": 23,
     "metadata": {},
     "output_type": "execute_result"
    }
   ],
   "source": [
    "imp.reload(database)"
   ]
  },
  {
   "cell_type": "code",
   "execution_count": 41,
   "metadata": {},
   "outputs": [
    {
     "data": {
      "text/plain": [
       "{'2': 'fit', '6': 'fit', '8': 'fit'}"
      ]
     },
     "execution_count": 41,
     "metadata": {},
     "output_type": "execute_result"
    }
   ],
   "source": [
    "state.references"
   ]
  },
  {
   "cell_type": "code",
   "execution_count": 39,
   "metadata": {},
   "outputs": [
    {
     "data": {
      "text/plain": [
       "<module 'qsweepy.save_exdir' from 'C:\\\\Users\\\\User\\\\Documents\\\\PythonScripts\\\\qsweepy\\\\save_exdir.py'>"
      ]
     },
     "execution_count": 39,
     "metadata": {},
     "output_type": "execute_result"
    }
   ],
   "source": [
    "imp.reload(sweep)\n",
    "imp.reload(represent_data2)\n",
    "imp.reload(save_exdir)"
   ]
  },
  {
   "cell_type": "code",
   "execution_count": 67,
   "metadata": {},
   "outputs": [
    {
     "ename": "TypeError",
     "evalue": "sweep_new() got an unexpected keyword argument 'dim_2'",
     "output_type": "error",
     "traceback": [
      "\u001b[1;31m---------------------------------------------------------------------------\u001b[0m",
      "\u001b[1;31mTypeError\u001b[0m                                 Traceback (most recent call last)",
      "\u001b[1;32m<ipython-input-67-254815fb5d83>\u001b[0m in \u001b[0;36m<module>\u001b[1;34m()\u001b[0m\n\u001b[1;32m----> 1\u001b[1;33m \u001b[0mstate\u001b[0m \u001b[1;33m=\u001b[0m \u001b[0msweep\u001b[0m\u001b[1;33m.\u001b[0m\u001b[0msweep_new\u001b[0m\u001b[1;33m(\u001b[0m\u001b[0mrandom_measurer\u001b[0m\u001b[1;33m,\u001b[0m \u001b[1;33m(\u001b[0m\u001b[1;33m[\u001b[0m\u001b[1;36m0\u001b[0m\u001b[1;33m,\u001b[0m\u001b[1;36m1\u001b[0m\u001b[1;33m]\u001b[0m\u001b[1;33m,\u001b[0m \u001b[1;32mlambda\u001b[0m \u001b[0mx\u001b[0m\u001b[1;33m:\u001b[0m \u001b[1;32mNone\u001b[0m\u001b[1;33m,\u001b[0m \u001b[1;34m'randomize'\u001b[0m\u001b[1;33m)\u001b[0m\u001b[1;33m,\u001b[0m \u001b[0mdim_2\u001b[0m \u001b[1;33m=\u001b[0m \u001b[1;32mTrue\u001b[0m\u001b[1;33m,\u001b[0m \u001b[0mfilename\u001b[0m \u001b[1;33m=\u001b[0m \u001b[1;34m'C:/Users/User/Documents/PythonScripts/10'\u001b[0m\u001b[1;33m,\u001b[0m \u001b[0mmeas_type\u001b[0m \u001b[1;33m=\u001b[0m \u001b[1;34m'Ramsey'\u001b[0m\u001b[1;33m,\u001b[0m \u001b[0mreference\u001b[0m \u001b[1;33m=\u001b[0m \u001b[1;33m{\u001b[0m\u001b[1;34m'2'\u001b[0m\u001b[1;33m:\u001b[0m \u001b[1;34m'fit'\u001b[0m\u001b[1;33m,\u001b[0m \u001b[1;34m'6'\u001b[0m\u001b[1;33m:\u001b[0m \u001b[1;34m'fit'\u001b[0m\u001b[1;33m,\u001b[0m \u001b[1;34m'8'\u001b[0m\u001b[1;33m:\u001b[0m \u001b[1;34m'fit'\u001b[0m\u001b[1;33m,\u001b[0m \u001b[1;34m'17'\u001b[0m\u001b[1;33m:\u001b[0m \u001b[1;34m'just smth'\u001b[0m\u001b[1;33m}\u001b[0m\u001b[1;33m)\u001b[0m\u001b[1;33m\u001b[0m\u001b[0m\n\u001b[0m\u001b[0;32m      2\u001b[0m \u001b[0mstate\u001b[0m\u001b[1;33m.\u001b[0m\u001b[0mid\u001b[0m \u001b[1;33m=\u001b[0m \u001b[0mdb\u001b[0m\u001b[1;33m.\u001b[0m\u001b[0mcreate_in_database\u001b[0m\u001b[1;33m(\u001b[0m\u001b[0mstate\u001b[0m\u001b[1;33m)\u001b[0m\u001b[1;33m\u001b[0m\u001b[0m\n\u001b[0;32m      3\u001b[0m \u001b[0mdb\u001b[0m\u001b[1;33m.\u001b[0m\u001b[0mupdate_in_database\u001b[0m\u001b[1;33m(\u001b[0m\u001b[0mstate\u001b[0m\u001b[1;33m)\u001b[0m\u001b[1;33m\u001b[0m\u001b[0m\n\u001b[0;32m      4\u001b[0m \u001b[0msave_exdir\u001b[0m\u001b[1;33m.\u001b[0m\u001b[0msave_exdir\u001b[0m\u001b[1;33m(\u001b[0m\u001b[0mstate\u001b[0m\u001b[1;33m)\u001b[0m\u001b[1;33m\u001b[0m\u001b[0m\n\u001b[0;32m      5\u001b[0m \u001b[0mstate\u001b[0m \u001b[1;33m=\u001b[0m \u001b[0msave_exdir\u001b[0m\u001b[1;33m.\u001b[0m\u001b[0mread_exdir_new\u001b[0m\u001b[1;33m(\u001b[0m\u001b[1;34m'C:/Users/User/Documents/PythonScripts/10'\u001b[0m\u001b[1;33m)\u001b[0m\u001b[1;33m\u001b[0m\u001b[0m\n",
      "\u001b[1;31mTypeError\u001b[0m: sweep_new() got an unexpected keyword argument 'dim_2'"
     ]
    }
   ],
   "source": [
    "state = sweep.sweep_new(random_measurer, ([0,1], lambda x: None, 'randomize'), filename = 'C:/Users/User/Documents/PythonScripts/10', meas_type = 'Ramsey', reference = {'2': 'fit', '6': 'fit', '8': 'fit', '17': 'just smth'})\n",
    "state.id = db.create_in_database(state)\n",
    "db.update_in_database(state)\n",
    "save_exdir.save_exdir(state)\n",
    "state = save_exdir.read_exdir_new('C:/Users/User/Documents/PythonScripts/10')"
   ]
  },
  {
   "cell_type": "code",
   "execution_count": 45,
   "metadata": {},
   "outputs": [
    {
     "name": "stdout",
     "output_type": "stream",
     "text": [
      "{2: 'fit', 6: 'fit', 8: 'fit'}\n"
     ]
    }
   ],
   "source": [
    "state = save_exdir.read_exdir_new('C:/Users/User/Documents/PythonScripts/8')"
   ]
  },
  {
   "cell_type": "code",
   "execution_count": 6,
   "metadata": {},
   "outputs": [
    {
     "data": {
      "text/plain": [
       "start: 2019-02-06 15:45:25.005597, started/done/total sweeps: 0/0/0, \n",
       "Measured data: \n",
       "'random': parameters: Voltage (),:[(0.37040662569483895+0j), (0.9247811573931111+0j)] (10 points) with setter\n",
       "data: [0.7106433 +0.j 0.99825244+0.j 0.59583616+0.j 0.31579998+0.j\n",
       " 0.31477965+0.j 0.90099928+0.j 0.63488973+0.j 0.55837833+0.j\n",
       " 0.45554624+0.j 0.30172906+0.j]"
      ]
     },
     "execution_count": 6,
     "metadata": {},
     "output_type": "execute_result"
    }
   ],
   "source": [
    "imp.reload(save_exdir)\n",
    "save_exdir.read_exdir_new('C:/Users/User/Documents/PythonScripts/2')"
   ]
  },
  {
   "cell_type": "code",
   "execution_count": 55,
   "metadata": {},
   "outputs": [
    {
     "name": "stdout",
     "output_type": "stream",
     "text": [
      "C:/Users/User/Documents/PythonScripts/8\n",
      "{2: 'fit', 6: 'fit', 8: 'fit'}\n"
     ]
    }
   ],
   "source": [
    "imp.reload(save_exdir)\n",
    "state = save_exdir.read_exdir_new('C:/Users/User/Documents/PythonScripts/8')"
   ]
  },
  {
   "cell_type": "code",
   "execution_count": 2,
   "metadata": {},
   "outputs": [
    {
     "data": {
      "text/plain": [
       "<module 'qsweepy.represent_data' from 'C:\\\\Users\\\\User\\\\Documents\\\\PythonScripts\\\\qsweepy\\\\represent_data.py'>"
      ]
     },
     "execution_count": 2,
     "metadata": {},
     "output_type": "execute_result"
    }
   ],
   "source": [
    "import imp\n",
    "imp.reload(represent_data)"
   ]
  },
  {
   "cell_type": "code",
   "execution_count": 69,
   "metadata": {},
   "outputs": [
    {
     "data": {
      "text/plain": [
       "start: 2019-02-12 12:46:06.594909, started/done/total sweeps: 0/0/0, \n",
       "Measured data: \n",
       "'random': parameters: Voltage (),:[(0.19141242663453462+0j), (0.9877017755792628+0j)] (10 points) with setter\n",
       "randomize (),:[0j, (1+0j)] (2 points) with setter\n",
       "data: [[0.87402792+0.j 0.36130586+0.j 0.87412226+0.j 0.49502377+0.j\n",
       "  0.33146631+0.j 0.82724476+0.j 0.6702305 +0.j 0.74027841+0.j\n",
       "  0.01133951+0.j 0.42344407+0.j]\n",
       " [0.44031936+0.j 0.96075559+0.j 0.27118431+0.j 0.27741772+0.j\n",
       "  0.61046786+0.j 0.32797323+0.j 0.63209851+0.j 0.71899432+0.j\n",
       "  0.96665462+0.j 0.23078757+0.j]]"
      ]
     },
     "execution_count": 69,
     "metadata": {},
     "output_type": "execute_result"
    }
   ],
   "source": [
    "state"
   ]
  },
  {
   "cell_type": "code",
   "execution_count": 28,
   "metadata": {
    "collapsed": true
   },
   "outputs": [],
   "source": [
    "%run C:\\Users\\User\\Documents\\PythonScripts\\qsweepy\\represent_data2.py"
   ]
  },
  {
   "cell_type": "code",
   "execution_count": 4,
   "metadata": {
    "scrolled": false
   },
   "outputs": [
    {
     "name": "stderr",
     "output_type": "stream",
     "text": [
      " * Running on http://127.0.0.1:8050/ (Press CTRL+C to quit)\n",
      "127.0.0.1 - - [26/Feb/2019 20:37:21] \"GET / HTTP/1.1\" 200 -\n",
      "127.0.0.1 - - [26/Feb/2019 20:37:23] \"GET /_dash-layout HTTP/1.1\" 200 -\n",
      "127.0.0.1 - - [26/Feb/2019 20:37:23] \"GET /_dash-dependencies HTTP/1.1\" 200 -\n",
      "127.0.0.1 - - [26/Feb/2019 20:37:23] \"GET /_favicon.ico HTTP/1.1\" 200 -\n",
      "127.0.0.1 - - [26/Feb/2019 20:37:23] \"POST /_dash-update-component HTTP/1.1\" 200 -\n",
      "127.0.0.1 - - [26/Feb/2019 20:37:23] \"POST /_dash-update-component HTTP/1.1\" 200 -\n",
      "127.0.0.1 - - [26/Feb/2019 20:37:24] \"POST /_dash-update-component HTTP/1.1\" 200 -\n",
      "127.0.0.1 - - [26/Feb/2019 20:37:28] \"POST /_dash-update-component HTTP/1.1\" 200 -\n",
      "127.0.0.1 - - [26/Feb/2019 20:37:28] \"POST /_dash-update-component HTTP/1.1\" 200 -\n",
      "127.0.0.1 - - [26/Feb/2019 20:37:28] \"POST /_dash-update-component HTTP/1.1\" 200 -\n",
      "127.0.0.1 - - [26/Feb/2019 20:37:29] \"POST /_dash-update-component HTTP/1.1\" 200 -\n",
      "127.0.0.1 - - [26/Feb/2019 20:37:29] \"POST /_dash-update-component HTTP/1.1\" 200 -\n",
      "[2019-02-26 20:37:30,253] ERROR in app: Exception on /_dash-update-component [POST]\n",
      "Traceback (most recent call last):\n",
      "  File \"C:\\Users\\User\\Anaconda3\\lib\\site-packages\\flask\\app.py\", line 1982, in wsgi_app\n",
      "    response = self.full_dispatch_request()\n",
      "  File \"C:\\Users\\User\\Anaconda3\\lib\\site-packages\\flask\\app.py\", line 1614, in full_dispatch_request\n",
      "    rv = self.handle_user_exception(e)\n",
      "  File \"C:\\Users\\User\\Anaconda3\\lib\\site-packages\\flask\\app.py\", line 1517, in handle_user_exception\n",
      "    reraise(exc_type, exc_value, tb)\n",
      "  File \"C:\\Users\\User\\Anaconda3\\lib\\site-packages\\flask\\_compat.py\", line 33, in reraise\n",
      "    raise value\n",
      "  File \"C:\\Users\\User\\Anaconda3\\lib\\site-packages\\flask\\app.py\", line 1612, in full_dispatch_request\n",
      "    rv = self.dispatch_request()\n",
      "  File \"C:\\Users\\User\\Anaconda3\\lib\\site-packages\\flask\\app.py\", line 1598, in dispatch_request\n",
      "    return self.view_functions[rule.endpoint](**req.view_args)\n",
      "  File \"C:\\Users\\User\\Anaconda3\\lib\\site-packages\\dash\\dash.py\", line 959, in dispatch\n",
      "    return self.callback_map[target_id]['callback'](*args)\n",
      "  File \"C:\\Users\\User\\Anaconda3\\lib\\site-packages\\dash\\dash.py\", line 899, in add_context\n",
      "    output_value = func(*args, **kwargs)\n",
      "  File \"C:\\Users\\User\\Documents\\PythonScripts\\qsweepy\\current_represent_from_file.py\", line 149, in plot_these_measurements\n",
      "    state = read_exdir_new(db.Data[int(i)].filename)\n",
      "  File \"C:\\Users\\User\\Documents\\PythonScripts\\qsweepy\\save_exdir.py\", line 98, in read_exdir_new\n",
      "    id = get(i.id for i in db.Data if (i.filename == filename))\n",
      "  File \"<string>\", line 2, in get\n",
      "  File \"C:\\Users\\User\\Anaconda3\\lib\\site-packages\\pony\\utils\\utils.py\", line 77, in cut_traceback\n",
      "    reraise(exc_type, exc, last_pony_tb)\n",
      "  File \"C:\\Users\\User\\Anaconda3\\lib\\site-packages\\pony\\utils\\utils.py\", line 95, in reraise\n",
      "    try: raise exc.with_traceback(tb)\n",
      "  File \"C:\\Users\\User\\Anaconda3\\lib\\site-packages\\pony\\orm\\core.py\", line 5877, in get\n",
      "    'Multiple objects were found. Use select(...) to retrieve them')\n",
      "  File \"C:\\Users\\User\\Anaconda3\\lib\\site-packages\\pony\\utils\\utils.py\", line 108, in throw\n",
      "    raise exc  # Set \"pony.options.CUT_TRACEBACK = False\" to see full traceback\n",
      "pony.orm.core.MultipleObjectsFoundError: Multiple objects were found. Use select(...) to retrieve them\n",
      "127.0.0.1 - - [26/Feb/2019 20:37:30] \"POST /_dash-update-component HTTP/1.1\" 500 -\n",
      "127.0.0.1 - - [26/Feb/2019 20:37:36] \"POST /_dash-update-component HTTP/1.1\" 200 -\n",
      "127.0.0.1 - - [26/Feb/2019 20:37:36] \"POST /_dash-update-component HTTP/1.1\" 200 -\n",
      "127.0.0.1 - - [26/Feb/2019 20:37:36] \"POST /_dash-update-component HTTP/1.1\" 200 -\n",
      "127.0.0.1 - - [26/Feb/2019 20:37:36] \"POST /_dash-update-component HTTP/1.1\" 200 -\n",
      "127.0.0.1 - - [26/Feb/2019 20:37:37] \"POST /_dash-update-component HTTP/1.1\" 200 -\n",
      "127.0.0.1 - - [26/Feb/2019 20:37:37] \"POST /_dash-update-component HTTP/1.1\" 200 -\n"
     ]
    }
   ],
   "source": [
    "import imp\n",
    "imp.reload(save_exdir)\n",
    "imp.reload(current_represent_from_file)\n",
    "current_represent_from_file.plot_from_file('17')"
   ]
  },
  {
   "cell_type": "code",
   "execution_count": 88,
   "metadata": {
    "scrolled": true
   },
   "outputs": [
    {
     "name": "stderr",
     "output_type": "stream",
     "text": [
      " * Running on http://127.0.0.1:8050/ (Press CTRL+C to quit)\n",
      "127.0.0.1 - - [11/Feb/2019 14:54:43] \"GET / HTTP/1.1\" 200 -\n",
      "127.0.0.1 - - [11/Feb/2019 14:54:44] \"GET /_dash-layout HTTP/1.1\" 200 -\n",
      "127.0.0.1 - - [11/Feb/2019 14:54:44] \"GET /_dash-dependencies HTTP/1.1\" 200 -\n",
      "127.0.0.1 - - [11/Feb/2019 14:54:44] \"POST /_dash-update-component HTTP/1.1\" 200 -\n",
      "127.0.0.1 - - [11/Feb/2019 14:54:44] \"POST /_dash-update-component HTTP/1.1\" 200 -\n",
      "127.0.0.1 - - [11/Feb/2019 14:54:45] \"POST /_dash-update-component HTTP/1.1\" 200 -\n",
      "127.0.0.1 - - [11/Feb/2019 14:54:46] \"POST /_dash-update-component HTTP/1.1\" 200 -\n",
      "127.0.0.1 - - [11/Feb/2019 14:54:47] \"POST /_dash-update-component HTTP/1.1\" 200 -\n",
      "127.0.0.1 - - [11/Feb/2019 14:54:48] \"POST /_dash-update-component HTTP/1.1\" 200 -\n",
      "127.0.0.1 - - [11/Feb/2019 14:54:49] \"POST /_dash-update-component HTTP/1.1\" 200 -\n",
      "127.0.0.1 - - [11/Feb/2019 14:54:50] \"POST /_dash-update-component HTTP/1.1\" 200 -\n",
      "127.0.0.1 - - [11/Feb/2019 14:54:51] \"POST /_dash-update-component HTTP/1.1\" 200 -\n",
      "127.0.0.1 - - [11/Feb/2019 14:54:52] \"POST /_dash-update-component HTTP/1.1\" 200 -\n",
      "127.0.0.1 - - [11/Feb/2019 14:54:52] \"POST /_dash-update-component HTTP/1.1\" 200 -\n",
      "127.0.0.1 - - [11/Feb/2019 14:54:53] \"POST /_dash-update-component HTTP/1.1\" 200 -\n",
      "127.0.0.1 - - [11/Feb/2019 14:54:53] \"POST /_dash-update-component HTTP/1.1\" 200 -\n",
      "127.0.0.1 - - [11/Feb/2019 14:54:54] \"POST /_dash-update-component HTTP/1.1\" 200 -\n",
      "127.0.0.1 - - [11/Feb/2019 14:54:55] \"POST /_dash-update-component HTTP/1.1\" 200 -\n",
      "127.0.0.1 - - [11/Feb/2019 14:54:55] \"POST /_dash-update-component HTTP/1.1\" 200 -\n",
      "127.0.0.1 - - [11/Feb/2019 14:54:56] \"POST /_dash-update-component HTTP/1.1\" 200 -\n",
      "127.0.0.1 - - [11/Feb/2019 14:54:57] \"POST /_dash-update-component HTTP/1.1\" 200 -\n",
      "127.0.0.1 - - [11/Feb/2019 14:54:57] \"POST /_dash-update-component HTTP/1.1\" 200 -\n"
     ]
    }
   ],
   "source": [
    "import imp\n",
    "imp.reload(save_exdir)\n",
    "imp.reload(represent_data)\n",
    "represent_data.plot_new(measurement_to_plot = {'qubit 1': state, 'qubit 2': state, 'qubit 3': state})"
   ]
  },
  {
   "cell_type": "code",
   "execution_count": 116,
   "metadata": {},
   "outputs": [
    {
     "name": "stderr",
     "output_type": "stream",
     "text": [
      " * Running on http://127.0.0.1:8050/ (Press CTRL+C to quit)\n",
      "127.0.0.1 - - [08/Feb/2019 16:12:53] \"GET / HTTP/1.1\" 200 -\n",
      "127.0.0.1 - - [08/Feb/2019 16:12:54] \"GET /_dash-layout HTTP/1.1\" 200 -\n",
      "127.0.0.1 - - [08/Feb/2019 16:12:54] \"GET /_dash-dependencies HTTP/1.1\" 200 -\n",
      "127.0.0.1 - - [08/Feb/2019 16:12:54] \"GET /_favicon.ico HTTP/1.1\" 200 -\n",
      "127.0.0.1 - - [08/Feb/2019 16:13:00] \"GET / HTTP/1.1\" 200 -\n",
      "127.0.0.1 - - [08/Feb/2019 16:13:01] \"GET /_dash-layout HTTP/1.1\" 200 -\n",
      "127.0.0.1 - - [08/Feb/2019 16:13:01] \"GET /_dash-dependencies HTTP/1.1\" 200 -\n",
      "127.0.0.1 - - [08/Feb/2019 16:13:01] \"GET /_favicon.ico HTTP/1.1\" 200 -\n"
     ]
    }
   ],
   "source": [
    "import imp\n",
    "imp.reload(represent)\n",
    "represent.plot_new({'qubit 1': state, 'qubit 2': state, 'qubit 3': state})"
   ]
  },
  {
   "cell_type": "code",
   "execution_count": 6,
   "metadata": {},
   "outputs": [
    {
     "name": "stdout",
     "output_type": "stream",
     "text": [
      "[] [Voltage (V),:[0.06873973190926441, 0.7654867894800775] (10 points) without setter]\n"
     ]
    }
   ],
   "source": [
    "state = sweep.sweep_new(random_measurer)"
   ]
  },
  {
   "cell_type": "code",
   "execution_count": 14,
   "metadata": {},
   "outputs": [
    {
     "data": {
      "text/plain": [
       "{}"
      ]
     },
     "execution_count": 14,
     "metadata": {},
     "output_type": "execute_result"
    }
   ],
   "source": [
    "state.references"
   ]
  },
  {
   "cell_type": "code",
   "execution_count": 382,
   "metadata": {},
   "outputs": [
    {
     "data": {
      "text/plain": [
       "array([0.6891486 , 0.45128494, 0.22813603, 0.27639683, 0.29193142,\n",
       "       0.54712746, 0.89774921, 0.10749393, 0.66988704, 0.67329012])"
      ]
     },
     "execution_count": 382,
     "metadata": {},
     "output_type": "execute_result"
    }
   ],
   "source": [
    "state.datasets['random'].parameters[0].values"
   ]
  },
  {
   "cell_type": "code",
   "execution_count": 395,
   "metadata": {},
   "outputs": [
    {
     "data": {
      "text/plain": [
       "start: 2019-02-05 19:21:16.561187, started/done/total sweeps: 0/2/2, \n",
       "Measured data: \n",
       "'random': parameters: randomize (),:[0, 1] (2 points) with setter\n",
       "Voltage (V),:[0.052859966311650464, 0.9291216353567738] (10 points) without setter\n",
       "data: [[0.05846425+0.j 0.68388134+0.j 0.91687558+0.j 0.14558788+0.j\n",
       "  0.9993863 +0.j 0.13996462+0.j 0.02341981+0.j 0.68241099+0.j\n",
       "  0.21794175+0.j 0.70965718+0.j]\n",
       " [0.31766294+0.j 0.04514143+0.j 0.26902847+0.j 0.05316792+0.j\n",
       "  0.54722123+0.j 0.51389844+0.j 0.49009271+0.j 0.18652332+0.j\n",
       "  0.34384768+0.j 0.76289455+0.j]]"
      ]
     },
     "execution_count": 395,
     "metadata": {},
     "output_type": "execute_result"
    }
   ],
   "source": [
    "state"
   ]
  },
  {
   "cell_type": "code",
   "execution_count": 30,
   "metadata": {},
   "outputs": [
    {
     "name": "stdout",
     "output_type": "stream",
     "text": [
      "VNA 10 dBm\n"
     ]
    }
   ],
   "source": [
    "state.id = db.create_in_database(state)"
   ]
  },
  {
   "cell_type": "code",
   "execution_count": 35,
   "metadata": {},
   "outputs": [
    {
     "data": {
      "text/plain": [
       "datetime.datetime(2019, 2, 5, 10, 10, 48, 966259)"
      ]
     },
     "execution_count": 35,
     "metadata": {},
     "output_type": "execute_result"
    }
   ],
   "source": [
    "state.stop"
   ]
  },
  {
   "cell_type": "code",
   "execution_count": 12,
   "metadata": {},
   "outputs": [
    {
     "data": {
      "text/plain": [
       "dict_keys(['random'])"
      ]
     },
     "execution_count": 12,
     "metadata": {},
     "output_type": "execute_result"
    }
   ],
   "source": [
    "state.datasets.keys()"
   ]
  },
  {
   "cell_type": "code",
   "execution_count": 396,
   "metadata": {},
   "outputs": [
    {
     "data": {
      "text/plain": [
       "[randomize (),:[0, 1] (2 points) with setter,\n",
       " Voltage (V),:[0.052859966311650464, 0.9291216353567738] (10 points) without setter]"
      ]
     },
     "execution_count": 396,
     "metadata": {},
     "output_type": "execute_result"
    }
   ],
   "source": [
    "state.datasets['random'].parameters"
   ]
  },
  {
   "cell_type": "code",
   "execution_count": 31,
   "metadata": {},
   "outputs": [
    {
     "data": {
      "text/plain": [
       "12"
      ]
     },
     "execution_count": 31,
     "metadata": {},
     "output_type": "execute_result"
    }
   ],
   "source": [
    "db.update_in_database(state)"
   ]
  },
  {
   "cell_type": "code",
   "execution_count": 15,
   "metadata": {},
   "outputs": [
    {
     "data": {
      "text/plain": [
       "8"
      ]
     },
     "execution_count": 15,
     "metadata": {},
     "output_type": "execute_result"
    }
   ],
   "source": [
    "state.id"
   ]
  },
  {
   "cell_type": "code",
   "execution_count": 10,
   "metadata": {
    "collapsed": true
   },
   "outputs": [],
   "source": [
    "import imp\n",
    "imp.reload(save_exdir)\n",
    "save_exdir.save_exdir(state)"
   ]
  },
  {
   "cell_type": "code",
   "execution_count": 17,
   "metadata": {},
   "outputs": [
    {
     "data": {
      "text/plain": [
       "dict_keys(['random'])"
      ]
     },
     "execution_count": 17,
     "metadata": {},
     "output_type": "execute_result"
    }
   ],
   "source": [
    "state.datasets.keys()"
   ]
  },
  {
   "cell_type": "code",
   "execution_count": 18,
   "metadata": {},
   "outputs": [
    {
     "data": {
      "text/plain": [
       "array([0.33022987, 0.92855185, 0.11383531, 0.23225877, 0.40915157,\n",
       "       0.2973909 , 0.46516713, 0.67778651, 0.62603931, 0.15347586])"
      ]
     },
     "execution_count": 18,
     "metadata": {},
     "output_type": "execute_result"
    }
   ],
   "source": [
    "state.datasets['random'].parameters[1].values"
   ]
  },
  {
   "cell_type": "code",
   "execution_count": 11,
   "metadata": {
    "collapsed": true
   },
   "outputs": [],
   "source": [
    "data, attributes = save_exdir.read_exdir('C:/Users/User/Documents/PythonScripts/data')"
   ]
  },
  {
   "cell_type": "code",
   "execution_count": 12,
   "metadata": {},
   "outputs": [
    {
     "data": {
      "text/plain": [
       "{'random': (('Voltage', 'data', 'randomize'),\n",
       "  (memmap([0.79765563+0.j, 0.24065952+0.j, 0.43763403+0.j, 0.40978618+0.j,\n",
       "           0.70859022+0.j, 0.80150792+0.j, 0.46195538+0.j, 0.69113565+0.j,\n",
       "           0.44927491+0.j, 0.28218739+0.j]),\n",
       "   memmap([[0.08288785+0.j, 0.35673266+0.j, 0.38421228+0.j, 0.7744596 +0.j,\n",
       "            0.39567805+0.j, 0.86486313+0.j, 0.50984928+0.j, 0.44252122+0.j,\n",
       "            0.525673  +0.j, 0.4865435 +0.j],\n",
       "           [0.25399471+0.j, 0.68242527+0.j, 0.03955491+0.j, 0.63839269+0.j,\n",
       "            0.36270529+0.j, 0.18223775+0.j, 0.40952538+0.j, 0.73331558+0.j,\n",
       "            0.76193268+0.j, 0.57379332+0.j]]),\n",
       "   memmap([0.+0.j, 1.+0.j])))}"
      ]
     },
     "execution_count": 12,
     "metadata": {},
     "output_type": "execute_result"
    }
   ],
   "source": [
    "data"
   ]
  },
  {
   "cell_type": "code",
   "execution_count": 35,
   "metadata": {},
   "outputs": [
    {
     "data": {
      "text/plain": [
       "start: 2019-02-06 12:25:41.795495, started/done/total sweeps: 0/2/2, \n",
       "Measured data: \n",
       "'random': parameters: randomize (),:[0, 1] (2 points) with setter\n",
       "Voltage (V),:[0.24065952072262342, 0.8015079231915728] (10 points) without setter\n",
       "data: [[0.08288785+0.j 0.35673266+0.j 0.38421228+0.j 0.7744596 +0.j\n",
       "  0.39567805+0.j 0.86486313+0.j 0.50984928+0.j 0.44252122+0.j\n",
       "  0.525673  +0.j 0.4865435 +0.j]\n",
       " [0.25399471+0.j 0.68242527+0.j 0.03955491+0.j 0.63839269+0.j\n",
       "  0.36270529+0.j 0.18223775+0.j 0.40952538+0.j 0.73331558+0.j\n",
       "  0.76193268+0.j 0.57379332+0.j]]"
      ]
     },
     "execution_count": 35,
     "metadata": {},
     "output_type": "execute_result"
    }
   ],
   "source": [
    "state"
   ]
  },
  {
   "cell_type": "code",
   "execution_count": 34,
   "metadata": {},
   "outputs": [
    {
     "name": "stdout",
     "output_type": "stream",
     "text": [
      "('VNA', '10 dBm')\n",
      "('parameter values', [1])\n",
      "Voltage [memmap([0.79765563+0.j, 0.24065952+0.j, 0.43763403+0.j, 0.40978618+0.j,\n",
      "        0.70859022+0.j, 0.80150792+0.j, 0.46195538+0.j, 0.69113565+0.j,\n",
      "        0.44927491+0.j, 0.28218739+0.j]), 'setter', 'Voltage']\n",
      "data [memmap([[0.08288785+0.j, 0.35673266+0.j, 0.38421228+0.j, 0.7744596 +0.j,\n",
      "         0.39567805+0.j, 0.86486313+0.j, 0.50984928+0.j, 0.44252122+0.j,\n",
      "         0.525673  +0.j, 0.4865435 +0.j],\n",
      "        [0.25399471+0.j, 0.68242527+0.j, 0.03955491+0.j, 0.63839269+0.j,\n",
      "         0.36270529+0.j, 0.18223775+0.j, 0.40952538+0.j, 0.73331558+0.j,\n",
      "         0.76193268+0.j, 0.57379332+0.j]]), 'setter', 'data']\n",
      "randomize [memmap([0.+0.j, 1.+0.j]), 'setter', 'randomize']\n"
     ]
    },
    {
     "data": {
      "text/plain": [
       "start: 2019-02-06 14:00:37.145552, started/done/total sweeps: 0/0/0, \n",
       "Measured data: \n",
       "'random': parameters: Voltage (),:[(0.24065952072262342+0j), (0.8015079231915728+0j)] (10 points) with setter\n",
       "randomize (),:[0j, (1+0j)] (2 points) with setter\n",
       "data: [[0.08288785+0.j 0.35673266+0.j 0.38421228+0.j 0.7744596 +0.j\n",
       "  0.39567805+0.j 0.86486313+0.j 0.50984928+0.j 0.44252122+0.j\n",
       "  0.525673  +0.j 0.4865435 +0.j]\n",
       " [0.25399471+0.j 0.68242527+0.j 0.03955491+0.j 0.63839269+0.j\n",
       "  0.36270529+0.j 0.18223775+0.j 0.40952538+0.j 0.73331558+0.j\n",
       "  0.76193268+0.j 0.57379332+0.j]]"
      ]
     },
     "execution_count": 34,
     "metadata": {},
     "output_type": "execute_result"
    }
   ],
   "source": [
    "imp.reload(save_exdir)\n",
    "save_exdir.read_exdir_new('C:/Users/User/Documents/PythonScripts/data')"
   ]
  },
  {
   "cell_type": "code",
   "execution_count": 29,
   "metadata": {},
   "outputs": [
    {
     "data": {
      "text/plain": [
       "'file://C:\\\\Users\\\\User\\\\temp-plot.html'"
      ]
     },
     "execution_count": 29,
     "metadata": {},
     "output_type": "execute_result"
    }
   ],
   "source": [
    "import plotly\n",
    "import plotly.graph_objs as go\n",
    "plotly.offline.plot({\n",
    "    \"data\": [go.Scatter(x=[1, 2, 3, 4], y=[4, 3, 2, 1])],\n",
    "    \"layout\": go.Layout(title=\"hello world\")\n",
    "}, auto_open=True)"
   ]
  },
  {
   "cell_type": "code",
   "execution_count": 7,
   "metadata": {
    "collapsed": true
   },
   "outputs": [],
   "source": [
    "states = {'qubit 1': state, 'qubit 2': state}#, 'qubit 3': state}"
   ]
  },
  {
   "cell_type": "code",
   "execution_count": 19,
   "metadata": {
    "collapsed": true
   },
   "outputs": [],
   "source": [
    "measurement_to_plot  ={'qubit 1': state, 'qubit 2': state}"
   ]
  },
  {
   "cell_type": "code",
   "execution_count": 21,
   "metadata": {},
   "outputs": [
    {
     "data": {
      "text/plain": [
       "0"
      ]
     },
     "execution_count": 21,
     "metadata": {},
     "output_type": "execute_result"
    }
   ],
   "source": [
    "measurement_to_plot['qubit 1'].id"
   ]
  },
  {
   "cell_type": "code",
   "execution_count": 38,
   "metadata": {
    "scrolled": false
   },
   "outputs": [
    {
     "name": "stderr",
     "output_type": "stream",
     "text": [
      " * Running on http://127.0.0.1:8050/ (Press CTRL+C to quit)\n",
      "127.0.0.1 - - [06/Feb/2019 15:14:55] \"GET / HTTP/1.1\" 200 -\n",
      "127.0.0.1 - - [06/Feb/2019 15:14:56] \"GET /_dash-layout HTTP/1.1\" 200 -\n",
      "127.0.0.1 - - [06/Feb/2019 15:14:56] \"GET /_dash-dependencies HTTP/1.1\" 200 -\n"
     ]
    }
   ],
   "source": [
    "import imp\n",
    "imp.reload(database)\n",
    "imp.reload(represent_data)\n",
    "represent_data.plot_new(states, False)"
   ]
  },
  {
   "cell_type": "code",
   "execution_count": 281,
   "metadata": {
    "scrolled": false
   },
   "outputs": [
    {
     "name": "stderr",
     "output_type": "stream",
     "text": [
      " * Running on http://127.0.0.1:8050/ (Press CTRL+C to quit)\n"
     ]
    },
    {
     "name": "stdout",
     "output_type": "stream",
     "text": [
      "This is the format of your plot grid:\n",
      "[ (1,1) x1,y1 ]  [ (1,2) x2,y2 ]\n",
      "[ (2,1) x3,y3 ]  [ (2,2) x4,y4 ]\n",
      "[ (3,1) x5,y5 ]  [ (3,2) x6,y6 ]\n",
      "\n",
      "Figure({\n",
      "    'data': [{'colorbar': {'len': 0.2333333333333333,\n",
      "                           'thickness': 0.025,\n",
      "                           'thicknessmode': 'fraction',\n",
      "                           'x': 0.475,\n",
      "                           'y': 0.11666666666666665},\n",
      "              'type': 'heatmap',\n",
      "              'uid': '2e144b0c-d525-40c1-b8c0-3a4f3fa071a0',\n",
      "              'xaxis': 'x',\n",
      "              'yaxis': 'y',\n",
      "              'z': array([[0.74499572, 0.62901491, 0.46075447, 0.65981097, 0.69152763,\n",
      "                           0.03040091, 0.99188864, 0.25663637, 0.2311873 , 0.73289322],\n",
      "                          [0.80996411, 0.44760112, 0.60599638, 0.47465948, 0.30920779,\n",
      "                           0.01378872, 0.86577297, 0.85203182, 0.44129393, 0.51040037]])},\n",
      "             {'colorbar': {'len': 0.2333333333333333,\n",
      "                           'thickness': 0.025,\n",
      "                           'thicknessmode': 'fraction',\n",
      "                           'x': 0.975,\n",
      "                           'y': 0.11666666666666665},\n",
      "              'type': 'heatmap',\n",
      "              'uid': '2bfb7686-a863-474d-bc63-bccf2ed1792a',\n",
      "              'xaxis': 'x2',\n",
      "              'yaxis': 'y2',\n",
      "              'z': array([[0., 0., 0., 0., 0., 0., 0., 0., 0., 0.],\n",
      "                          [0., 0., 0., 0., 0., 0., 0., 0., 0., 0.]])},\n",
      "             {'colorbar': {'len': 0.2333333333333333,\n",
      "                           'thickness': 0.025,\n",
      "                           'thicknessmode': 'fraction',\n",
      "                           'x': 0.475,\n",
      "                           'y': 0.45},\n",
      "              'type': 'heatmap',\n",
      "              'uid': 'b3ec70ee-28e8-41b4-a562-27f30fda4c16',\n",
      "              'xaxis': 'x3',\n",
      "              'yaxis': 'y3',\n",
      "              'z': array([[0.74499572, 0.62901491, 0.46075447, 0.65981097, 0.69152763,\n",
      "                           0.03040091, 0.99188864, 0.25663637, 0.2311873 , 0.73289322],\n",
      "                          [0.80996411, 0.44760112, 0.60599638, 0.47465948, 0.30920779,\n",
      "                           0.01378872, 0.86577297, 0.85203182, 0.44129393, 0.51040037]])},\n",
      "             {'colorbar': {'len': 0.2333333333333333,\n",
      "                           'thickness': 0.025,\n",
      "                           'thicknessmode': 'fraction',\n",
      "                           'x': 0.975,\n",
      "                           'y': 0.45},\n",
      "              'type': 'heatmap',\n",
      "              'uid': '401ed7d2-f583-4aa8-8e69-40c77049c729',\n",
      "              'xaxis': 'x4',\n",
      "              'yaxis': 'y4',\n",
      "              'z': array([[0., 0., 0., 0., 0., 0., 0., 0., 0., 0.],\n",
      "                          [0., 0., 0., 0., 0., 0., 0., 0., 0., 0.]])},\n",
      "             {'colorbar': {'len': 0.2333333333333333,\n",
      "                           'thickness': 0.025,\n",
      "                           'thicknessmode': 'fraction',\n",
      "                           'x': 0.475,\n",
      "                           'y': 0.7833333333333333},\n",
      "              'type': 'heatmap',\n",
      "              'uid': '8e077079-3e0d-4f8f-9dcc-3115c3683c5a',\n",
      "              'xaxis': 'x5',\n",
      "              'yaxis': 'y5',\n",
      "              'z': array([[0.74499572, 0.62901491, 0.46075447, 0.65981097, 0.69152763,\n",
      "                           0.03040091, 0.99188864, 0.25663637, 0.2311873 , 0.73289322],\n",
      "                          [0.80996411, 0.44760112, 0.60599638, 0.47465948, 0.30920779,\n",
      "                           0.01378872, 0.86577297, 0.85203182, 0.44129393, 0.51040037]])},\n",
      "             {'colorbar': {'len': 0.2333333333333333,\n",
      "                           'thickness': 0.025,\n",
      "                           'thicknessmode': 'fraction',\n",
      "                           'x': 0.975,\n",
      "                           'y': 0.7833333333333333},\n",
      "              'type': 'heatmap',\n",
      "              'uid': '01ad6ba6-8aa4-431e-bb8c-cc68a340f197',\n",
      "              'xaxis': 'x6',\n",
      "              'yaxis': 'y6',\n",
      "              'z': array([[0., 0., 0., 0., 0., 0., 0., 0., 0., 0.],\n",
      "                          [0., 0., 0., 0., 0., 0., 0., 0., 0., 0.]])}],\n",
      "    'layout': {'annotations': [{'font': {'size': 16},\n",
      "                                'showarrow': False,\n",
      "                                'text': 'qubit 1: Re(random)',\n",
      "                                'x': 0.225,\n",
      "                                'xanchor': 'center',\n",
      "                                'xref': 'paper',\n",
      "                                'y': 1.0,\n",
      "                                'yanchor': 'bottom',\n",
      "                                'yref': 'paper'},\n",
      "                               {'font': {'size': 16},\n",
      "                                'showarrow': False,\n",
      "                                'text': 'qubit 1: Im(random)',\n",
      "                                'x': 0.25,\n",
      "                                'xanchor': 'center',\n",
      "                                'xref': 'paper',\n",
      "                                'y': 0.9166666666666666,\n",
      "                                'yanchor': 'bottom',\n",
      "                                'yref': 'paper'},\n",
      "                               {'font': {'size': 16},\n",
      "                                'showarrow': False,\n",
      "                                'text': 'qubit 2: Re(random)',\n",
      "                                'x': 0.225,\n",
      "                                'xanchor': 'center',\n",
      "                                'xref': 'paper',\n",
      "                                'y': 0.6111111111111112,\n",
      "                                'yanchor': 'bottom',\n",
      "                                'yref': 'paper'},\n",
      "                               {'font': {'size': 16},\n",
      "                                'showarrow': False,\n",
      "                                'text': 'qubit 2: Im(random)',\n",
      "                                'x': 0.775,\n",
      "                                'xanchor': 'center',\n",
      "                                'xref': 'paper',\n",
      "                                'y': 0.6111111111111112,\n",
      "                                'yanchor': 'bottom',\n",
      "                                'yref': 'paper'},\n",
      "                               {'font': {'size': 16},\n",
      "                                'showarrow': False,\n",
      "                                'text': 'qubit 3: Re(random)',\n",
      "                                'x': 0.225,\n",
      "                                'xanchor': 'center',\n",
      "                                'xref': 'paper',\n",
      "                                'y': 0.22222222222222224,\n",
      "                                'yanchor': 'bottom',\n",
      "                                'yref': 'paper'},\n",
      "                               {'font': {'size': 16},\n",
      "                                'showarrow': False,\n",
      "                                'text': 'qubit 3: Im(random)',\n",
      "                                'x': 0.775,\n",
      "                                'xanchor': 'center',\n",
      "                                'xref': 'paper',\n",
      "                                'y': 0.22222222222222224,\n",
      "                                'yanchor': 'bottom',\n",
      "                                'yref': 'paper'}],\n",
      "               'height': 1200,\n",
      "               'width': 800,\n",
      "               'xaxis': {'anchor': 'y', 'domain': [0.0, 0.45], 'title': {'font': {'size': 14}, 'text': 'Voltage, V'}},\n",
      "               'xaxis2': {'anchor': 'y2', 'domain': [0.55, 1.0]},\n",
      "               'xaxis3': {'anchor': 'y3', 'domain': [0.0, 0.45]},\n",
      "               'xaxis4': {'anchor': 'y4', 'domain': [0.55, 1.0]},\n",
      "               'xaxis5': {'anchor': 'y5', 'domain': [0.0, 0.45]},\n",
      "               'xaxis6': {'anchor': 'y6', 'domain': [0.55, 1.0]},\n",
      "               'yaxis': {'anchor': 'x',\n",
      "                         'domain': [0.0, 0.2333333333333333],\n",
      "                         'title': {'font': {'size': 14}, 'text': 'randomize, '}},\n",
      "               'yaxis2': {'anchor': 'x2', 'domain': [0.7777777777777778, 1.0]},\n",
      "               'yaxis3': {'anchor': 'x3', 'domain': [0.3333333333333333, 0.5666666666666667]},\n",
      "               'yaxis4': {'anchor': 'x4', 'domain': [0.3888888888888889, 0.6111111111111112]},\n",
      "               'yaxis5': {'anchor': 'x5', 'domain': [0.6666666666666666, 0.9]},\n",
      "               'yaxis6': {'anchor': 'x6', 'domain': [0.0, 0.22222222222222224]}}\n",
      "})\n"
     ]
    }
   ],
   "source": [
    "imp.reload(represent_data)\n",
    "represent_data.plot_with_dash_2D_anticrossings(states, True, True)"
   ]
  },
  {
   "cell_type": "code",
   "execution_count": 85,
   "metadata": {
    "scrolled": false
   },
   "outputs": [
    {
     "name": "stderr",
     "output_type": "stream",
     "text": [
      " * Running on http://127.0.0.1:8050/ (Press CTRL+C to quit)\n"
     ]
    },
    {
     "name": "stdout",
     "output_type": "stream",
     "text": [
      "This is the format of your plot grid:\n",
      "[ (1,1) x1,y1 ]  [ (1,2) x2,y2 ]\n",
      "\n",
      "0\n",
      "1\n"
     ]
    },
    {
     "name": "stderr",
     "output_type": "stream",
     "text": [
      "127.0.0.1 - - [05/Feb/2019 11:51:55] \"GET / HTTP/1.1\" 200 -\n",
      "127.0.0.1 - - [05/Feb/2019 11:51:57] \"GET /_dash-layout HTTP/1.1\" 200 -\n",
      "127.0.0.1 - - [05/Feb/2019 11:51:57] \"GET /_dash-dependencies HTTP/1.1\" 200 -\n"
     ]
    }
   ],
   "source": [
    "imp.reload(represent_data)\n",
    "represent_data.plot_with_dash_2D(state)"
   ]
  },
  {
   "cell_type": "code",
   "execution_count": null,
   "metadata": {
    "collapsed": true
   },
   "outputs": [],
   "source": [
    "state.datasets['random'].parameters[1].name"
   ]
  },
  {
   "cell_type": "code",
   "execution_count": null,
   "metadata": {
    "collapsed": true
   },
   "outputs": [],
   "source": [
    "state.datasets['random'].parameters"
   ]
  },
  {
   "cell_type": "code",
   "execution_count": null,
   "metadata": {
    "collapsed": true
   },
   "outputs": [],
   "source": [
    "state.datasets['random'].parameters[1].values"
   ]
  },
  {
   "cell_type": "code",
   "execution_count": null,
   "metadata": {
    "collapsed": true
   },
   "outputs": [],
   "source": [
    "state.datasets['random'].data"
   ]
  },
  {
   "cell_type": "code",
   "execution_count": null,
   "metadata": {
    "collapsed": true
   },
   "outputs": [],
   "source": [
    "np.abs(state.datasets['random'].data)"
   ]
  },
  {
   "cell_type": "code",
   "execution_count": null,
   "metadata": {
    "collapsed": true
   },
   "outputs": [],
   "source": [
    "len(state.datasets.keys())"
   ]
  },
  {
   "cell_type": "code",
   "execution_count": 140,
   "metadata": {
    "scrolled": false
   },
   "outputs": [
    {
     "data": {
      "text/html": [
       "<script type=\"text/javascript\">window.PlotlyConfig = {MathJaxConfig: 'local'};</script><script type=\"text/javascript\">if (window.MathJax) {MathJax.Hub.Config({SVG: {font: \"STIX-Web\"}});}</script><script>requirejs.config({paths: { 'plotly': ['https://cdn.plot.ly/plotly-latest.min']},});if(!window._Plotly) {require(['plotly'],function(plotly) {window._Plotly=plotly;});}</script>"
      ],
      "text/vnd.plotly.v1+html": [
       "<script type=\"text/javascript\">window.PlotlyConfig = {MathJaxConfig: 'local'};</script><script type=\"text/javascript\">if (window.MathJax) {MathJax.Hub.Config({SVG: {font: \"STIX-Web\"}});}</script><script>requirejs.config({paths: { 'plotly': ['https://cdn.plot.ly/plotly-latest.min']},});if(!window._Plotly) {require(['plotly'],function(plotly) {window._Plotly=plotly;});}</script>"
      ]
     },
     "metadata": {},
     "output_type": "display_data"
    },
    {
     "data": {
      "application/vnd.plotly.v1+json": {
       "config": {
        "linkText": "Export to plot.ly",
        "plotlyServerURL": "https://plot.ly",
        "showLink": false
       },
       "data": [
        {
         "type": "heatmap",
         "uid": "1caa68b9-28a9-4321-beab-56ad5d8e9718",
         "x": [
          0.5505635530524858,
          0.9877017755792628,
          0.9785574648796478
         ],
         "y": [
          0,
          1
         ],
         "z": [
          [
           0.1,
           0.2,
           0.5
          ],
          [
           0.3,
           0.4,
           0.6
          ]
         ]
        }
       ],
       "layout": {
        "title": {
         "text": "hello world"
        }
       }
      },
      "text/html": [
       "<div id=\"25c47fe2-51d1-4f59-8af9-ddcc5e20b0ad\" style=\"height: 525px; width: 100%;\" class=\"plotly-graph-div\"></div><script type=\"text/javascript\">require([\"plotly\"], function(Plotly) { window.PLOTLYENV=window.PLOTLYENV || {};window.PLOTLYENV.BASE_URL=\"https://plot.ly\";Plotly.newPlot(\"25c47fe2-51d1-4f59-8af9-ddcc5e20b0ad\", [{\"x\": [0.5505635530524858, 0.9877017755792628, 0.9785574648796478], \"y\": [0, 1], \"z\": [[0.1, 0.2, 0.5], [0.3, 0.4, 0.6]], \"type\": \"heatmap\", \"uid\": \"a140d420-592a-4766-ab15-a267b3134c22\"}], {\"title\": {\"text\": \"hello world\"}}, {\"showLink\": false, \"linkText\": \"Export to plot.ly\", \"plotlyServerURL\": \"https://plot.ly\"})});</script><script type=\"text/javascript\">window.addEventListener(\"resize\", function(){window._Plotly.Plots.resize(document.getElementById(\"25c47fe2-51d1-4f59-8af9-ddcc5e20b0ad\"));});</script>"
      ],
      "text/vnd.plotly.v1+html": [
       "<div id=\"25c47fe2-51d1-4f59-8af9-ddcc5e20b0ad\" style=\"height: 525px; width: 100%;\" class=\"plotly-graph-div\"></div><script type=\"text/javascript\">require([\"plotly\"], function(Plotly) { window.PLOTLYENV=window.PLOTLYENV || {};window.PLOTLYENV.BASE_URL=\"https://plot.ly\";Plotly.newPlot(\"25c47fe2-51d1-4f59-8af9-ddcc5e20b0ad\", [{\"x\": [0.5505635530524858, 0.9877017755792628, 0.9785574648796478], \"y\": [0, 1], \"z\": [[0.1, 0.2, 0.5], [0.3, 0.4, 0.6]], \"type\": \"heatmap\", \"uid\": \"a140d420-592a-4766-ab15-a267b3134c22\"}], {\"title\": {\"text\": \"hello world\"}}, {\"showLink\": false, \"linkText\": \"Export to plot.ly\", \"plotlyServerURL\": \"https://plot.ly\"})});</script><script type=\"text/javascript\">window.addEventListener(\"resize\", function(){window._Plotly.Plots.resize(document.getElementById(\"25c47fe2-51d1-4f59-8af9-ddcc5e20b0ad\"));});</script>"
      ]
     },
     "metadata": {},
     "output_type": "display_data"
    }
   ],
   "source": [
    "import plotly\n",
    "import plotly.graph_objs as go\n",
    "\n",
    "plotly.offline.init_notebook_mode(connected=True)\n",
    "\n",
    "plotly.offline.iplot({\n",
    "    \"data\": [go.Heatmap(x = [0.5505635530524858, 0.9877017755792628, 0.9785574648796478], #np.memmap.tolist(np.real(state.datasets['random'].parameters[0].values)),#np.real(state.datasets['random'].parameters[1].values),\n",
    "                        y = [0,1],#np.memmap.tolist(np.real(state.datasets['random'].parameters[1].values)),\n",
    "                        z = [[0.1, 0.2, 0.5], [0.3, 0.4, 0.6]])],\n",
    "                        #np.memmap.tolist(np.real(state.datasets['random'].data)))],\n",
    "    \"layout\": go.Layout(title=\"hello world\")\n",
    "})"
   ]
  },
  {
   "cell_type": "code",
   "execution_count": 138,
   "metadata": {},
   "outputs": [
    {
     "data": {
      "text/html": [
       "<script type=\"text/javascript\">window.PlotlyConfig = {MathJaxConfig: 'local'};</script><script type=\"text/javascript\">if (window.MathJax) {MathJax.Hub.Config({SVG: {font: \"STIX-Web\"}});}</script><script>requirejs.config({paths: { 'plotly': ['https://cdn.plot.ly/plotly-latest.min']},});if(!window._Plotly) {require(['plotly'],function(plotly) {window._Plotly=plotly;});}</script>"
      ],
      "text/vnd.plotly.v1+html": [
       "<script type=\"text/javascript\">window.PlotlyConfig = {MathJaxConfig: 'local'};</script><script type=\"text/javascript\">if (window.MathJax) {MathJax.Hub.Config({SVG: {font: \"STIX-Web\"}});}</script><script>requirejs.config({paths: { 'plotly': ['https://cdn.plot.ly/plotly-latest.min']},});if(!window._Plotly) {require(['plotly'],function(plotly) {window._Plotly=plotly;});}</script>"
      ]
     },
     "metadata": {},
     "output_type": "display_data"
    },
    {
     "data": {
      "application/vnd.plotly.v1+json": {
       "config": {
        "linkText": "Export to plot.ly",
        "plotlyServerURL": "https://plot.ly",
        "showLink": false
       },
       "data": [
        {
         "type": "heatmap",
         "uid": "b08c91df-89c8-4bf6-bb05-8e8c0a23a74b",
         "x": [
          0,
          1
         ],
         "y": [
          0.5505635530524858,
          0.9877017755792628,
          0.9785574648796478
         ],
         "z": [
          [
           0.8740279194298978,
           0.3613058597711132,
           0.8741222631541933
          ],
          [
           0.44031936381449455,
           0.9607555857744068,
           0.27118430887586353
          ]
         ]
        }
       ],
       "layout": {
        "title": {
         "text": "hello world"
        }
       }
      },
      "text/html": [
       "<div id=\"0052797a-11da-4f07-915b-86ff368dd67e\" style=\"height: 525px; width: 100%;\" class=\"plotly-graph-div\"></div><script type=\"text/javascript\">require([\"plotly\"], function(Plotly) { window.PLOTLYENV=window.PLOTLYENV || {};window.PLOTLYENV.BASE_URL=\"https://plot.ly\";Plotly.newPlot(\"0052797a-11da-4f07-915b-86ff368dd67e\", [{\"x\": [0.0, 1.0], \"y\": [0.5505635530524858, 0.9877017755792628, 0.9785574648796478], \"z\": [[0.8740279194298978, 0.3613058597711132, 0.8741222631541933], [0.44031936381449455, 0.9607555857744068, 0.27118430887586353]], \"type\": \"heatmap\", \"uid\": \"f223edf2-72fd-4943-81dd-5144f3aa949a\"}], {\"title\": {\"text\": \"hello world\"}}, {\"showLink\": false, \"linkText\": \"Export to plot.ly\", \"plotlyServerURL\": \"https://plot.ly\"})});</script><script type=\"text/javascript\">window.addEventListener(\"resize\", function(){window._Plotly.Plots.resize(document.getElementById(\"0052797a-11da-4f07-915b-86ff368dd67e\"));});</script>"
      ],
      "text/vnd.plotly.v1+html": [
       "<div id=\"0052797a-11da-4f07-915b-86ff368dd67e\" style=\"height: 525px; width: 100%;\" class=\"plotly-graph-div\"></div><script type=\"text/javascript\">require([\"plotly\"], function(Plotly) { window.PLOTLYENV=window.PLOTLYENV || {};window.PLOTLYENV.BASE_URL=\"https://plot.ly\";Plotly.newPlot(\"0052797a-11da-4f07-915b-86ff368dd67e\", [{\"x\": [0.0, 1.0], \"y\": [0.5505635530524858, 0.9877017755792628, 0.9785574648796478], \"z\": [[0.8740279194298978, 0.3613058597711132, 0.8741222631541933], [0.44031936381449455, 0.9607555857744068, 0.27118430887586353]], \"type\": \"heatmap\", \"uid\": \"f223edf2-72fd-4943-81dd-5144f3aa949a\"}], {\"title\": {\"text\": \"hello world\"}}, {\"showLink\": false, \"linkText\": \"Export to plot.ly\", \"plotlyServerURL\": \"https://plot.ly\"})});</script><script type=\"text/javascript\">window.addEventListener(\"resize\", function(){window._Plotly.Plots.resize(document.getElementById(\"0052797a-11da-4f07-915b-86ff368dd67e\"));});</script>"
      ]
     },
     "metadata": {},
     "output_type": "display_data"
    }
   ],
   "source": [
    "import plotly\n",
    "import plotly.graph_objs as go\n",
    "\n",
    "plotly.offline.init_notebook_mode(connected=True)\n",
    "\n",
    "plotly.offline.iplot({\n",
    "    \"data\": [go.Heatmap(x = np.memmap.tolist(np.real(state.datasets['random'].parameters[1].values[:2])),#np.real(state.datasets['random'].parameters[1].values),\n",
    "                        y = np.memmap.tolist(np.real(state.datasets['random'].parameters[0].values[:3])),\n",
    "                        z = np.memmap.tolist(np.real(state.datasets['random'].data[:2,:3])))],\n",
    "    \"layout\": go.Layout(title=\"hello world\")\n",
    "})"
   ]
  },
  {
   "cell_type": "code",
   "execution_count": 119,
   "metadata": {},
   "outputs": [
    {
     "data": {
      "text/plain": [
       "[0.0, 1.0]"
      ]
     },
     "execution_count": 119,
     "metadata": {},
     "output_type": "execute_result"
    }
   ],
   "source": [
    "np.memmap.tolist(np.real(state.datasets['random'].parameters[1].values[:2]))"
   ]
  },
  {
   "cell_type": "code",
   "execution_count": 129,
   "metadata": {},
   "outputs": [
    {
     "data": {
      "text/plain": [
       "[0.5505635530524858, 0.9877017755792628, 0.9785574648796478]"
      ]
     },
     "execution_count": 129,
     "metadata": {},
     "output_type": "execute_result"
    }
   ],
   "source": [
    "np.memmap.tolist(np.real(state.datasets['random'].parameters[0].values[:3]))"
   ]
  },
  {
   "cell_type": "code",
   "execution_count": 130,
   "metadata": {},
   "outputs": [
    {
     "data": {
      "text/plain": [
       "[[0.8740279194298978, 0.3613058597711132, 0.8741222631541933],\n",
       " [0.44031936381449455, 0.9607555857744068, 0.27118430887586353]]"
      ]
     },
     "execution_count": 130,
     "metadata": {},
     "output_type": "execute_result"
    }
   ],
   "source": [
    "np.memmap.tolist(np.real(state.datasets['random'].data[:2,:3]))"
   ]
  },
  {
   "cell_type": "code",
   "execution_count": 107,
   "metadata": {},
   "outputs": [
    {
     "data": {
      "text/plain": [
       "list"
      ]
     },
     "execution_count": 107,
     "metadata": {},
     "output_type": "execute_result"
    }
   ],
   "source": [
    "type([[0.1, 0.2, 0.5, 0.8], [0.3, 0.4, 0.6, 0]])"
   ]
  }
 ],
 "metadata": {
  "kernelspec": {
   "display_name": "Python [default]",
   "language": "python",
   "name": "python3"
  },
  "language_info": {
   "codemirror_mode": {
    "name": "ipython",
    "version": 3
   },
   "file_extension": ".py",
   "mimetype": "text/x-python",
   "name": "python",
   "nbconvert_exporter": "python",
   "pygments_lexer": "ipython3",
   "version": "3.6.7"
  },
  "toc": {
   "base_numbering": 1,
   "nav_menu": {},
   "number_sections": true,
   "sideBar": true,
   "skip_h1_title": false,
   "title_cell": "Table of Contents",
   "title_sidebar": "Contents",
   "toc_cell": false,
   "toc_position": {},
   "toc_section_display": true,
   "toc_window_display": false
  }
 },
 "nbformat": 4,
 "nbformat_minor": 2
}
