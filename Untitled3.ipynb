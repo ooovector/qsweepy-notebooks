{
 "cells": [
  {
   "cell_type": "code",
   "execution_count": 1,
   "metadata": {
    "ExecuteTime": {
     "end_time": "2019-08-16T11:22:31.670334Z",
     "start_time": "2019-08-16T11:22:27.728777Z"
    }
   },
   "outputs": [
    {
     "name": "stdout",
     "output_type": "stream",
     "text": [
      "Populating the interactive namespace from numpy and matplotlib\n",
      "Failed loading module Keysight_M3102A:  No module named 'keysightSD1'\n",
      "Failed loading module Keysight_M3202A:  No module named 'keysightSD1'\n",
      "[WinError 126] The specified module could not be found\n",
      "Failed loading module Signal_Hound_SA:  name 'signal_hound_dll' is not defined\n"
     ]
    }
   ],
   "source": [
    "%pylab qt\n",
    "from qsweepy import *\n",
    "from qsweepy.ponyfiles import *\n",
    "\n",
    "import numpy as np\n",
    "from importlib import reload"
   ]
  },
  {
   "cell_type": "code",
   "execution_count": 2,
   "metadata": {
    "ExecuteTime": {
     "end_time": "2019-08-16T11:22:32.070086Z",
     "start_time": "2019-08-16T11:22:31.913184Z"
    }
   },
   "outputs": [],
   "source": [
    "sample_name = None\n",
    "db = database.MyDatabase()\n",
    "exdir_db_inst = exdir_db.Exdir_db(db=db, sample_name=sample_name)"
   ]
  },
  {
   "cell_type": "code",
   "execution_count": 3,
   "metadata": {
    "ExecuteTime": {
     "end_time": "2019-08-16T11:22:32.480836Z",
     "start_time": "2019-08-16T11:22:32.200006Z"
    }
   },
   "outputs": [
    {
     "name": "stdout",
     "output_type": "stream",
     "text": [
      "Exdir_db.select_measurement_by_id: trying to load measurement state by id:  d:\\data\\2019-08-16\\000788-process_tomography_iswap-1906-002_4_down\n"
     ]
    }
   ],
   "source": [
    "m = exdir_db_inst.select_measurement_by_id(788)"
   ]
  },
  {
   "cell_type": "code",
   "execution_count": 28,
   "metadata": {
    "ExecuteTime": {
     "end_time": "2019-08-16T11:27:12.364503Z",
     "start_time": "2019-08-16T11:27:12.272562Z"
    }
   },
   "outputs": [
    {
     "data": {
      "text/plain": [
       "<matplotlib.colorbar.Colorbar at 0x1bedf5fcfd0>"
      ]
     },
     "execution_count": 28,
     "metadata": {},
     "output_type": "execute_result"
    }
   ],
   "source": [
    "fig, axes = subplots(1,2,num='Process Chi matrix', figsize=(9,4))\n",
    "im0 = axes[0].imshow(real(m.datasets['reconstruction'].data), vmin=-1, vmax=1, cmap='RdBu_r')\n",
    "im1 = axes[1].imshow(imag(m.datasets['reconstruction'].data), vmin=-1, vmax=1, cmap='RdBu_r')\n",
    "colorbar(im0, ax=axes)"
   ]
  },
  {
   "cell_type": "code",
   "execution_count": 39,
   "metadata": {
    "ExecuteTime": {
     "end_time": "2019-08-16T15:00:20.981686Z",
     "start_time": "2019-08-16T15:00:20.973690Z"
    }
   },
   "outputs": [
    {
     "data": {
      "text/plain": [
       "array([-1.51840488e-10, -1.41348086e-10, -1.33139448e-10, -1.27308989e-10,\n",
       "       -1.17131025e-10, -1.07136385e-10, -9.54321400e-11, -5.82580613e-11,\n",
       "        5.00523769e-03,  1.03033164e-02,  1.98234465e-02,  2.67715847e-02,\n",
       "        3.49916519e-02,  4.45241915e-02,  5.11594872e-02,  8.08167305e-01])"
      ]
     },
     "execution_count": 39,
     "metadata": {},
     "output_type": "execute_result"
    }
   ],
   "source": [
    "values, vectors = linalg.eigh(m.datasets['reconstruction'].data)\n",
    "values/4"
   ]
  },
  {
   "cell_type": "code",
   "execution_count": 8,
   "metadata": {
    "ExecuteTime": {
     "end_time": "2019-08-16T11:23:08.781352Z",
     "start_time": "2019-08-16T11:23:08.776355Z"
    }
   },
   "outputs": [],
   "source": []
  },
  {
   "cell_type": "code",
   "execution_count": 9,
   "metadata": {
    "ExecuteTime": {
     "end_time": "2019-08-16T11:23:09.304029Z",
     "start_time": "2019-08-16T11:23:09.297033Z"
    }
   },
   "outputs": [
    {
     "data": {
      "text/plain": [
       "array([1.00118789, 0.97810394, 1.01946576, 0.99980657])"
      ]
     },
     "execution_count": 9,
     "metadata": {},
     "output_type": "execute_result"
    }
   ],
   "source": []
  },
  {
   "cell_type": "code",
   "execution_count": 44,
   "metadata": {
    "ExecuteTime": {
     "end_time": "2019-08-16T15:03:05.802616Z",
     "start_time": "2019-08-16T15:03:05.461826Z"
    }
   },
   "outputs": [
    {
     "name": "stdout",
     "output_type": "stream",
     "text": [
      "[1.00118789 0.97810394 1.01946576 0.99980657]\n",
      "[1.04313612 0.91844002 0.56731223 0.51647863]\n"
     ]
    }
   ],
   "source": [
    "for purification_id in range(2):\n",
    "    purified = reshape(vectors[:,-purification_id-1]*2, (4,4))\n",
    "    #\n",
    "    fig, axes = subplots(1,2,num='Purified unitary #'+str(purification_id), figsize=(9,4))\n",
    "    im0 = axes[0].imshow(real(purified), vmin=-1, vmax=1, cmap='RdBu_r')\n",
    "    im1 = axes[1].imshow(imag(purified), vmin=-1, vmax=1, cmap='RdBu_r')\n",
    "    colorbar(im0, ax=axes)\n",
    "    print (np.abs(linalg.eig(purified)[0]))"
   ]
  },
  {
   "cell_type": "code",
   "execution_count": 38,
   "metadata": {
    "ExecuteTime": {
     "end_time": "2019-08-16T13:29:28.246491Z",
     "start_time": "2019-08-16T13:29:28.237496Z"
    }
   },
   "outputs": [
    {
     "data": {
      "text/plain": [
       "0.930822420861795"
      ]
     },
     "execution_count": 38,
     "metadata": {},
     "output_type": "execute_result"
    }
   ],
   "source": [
    "iswap_ideal = np.asarray([[1, 0, 0, 0], [0, 0, -1j, 0], [0, -1j, 0, 0], [0, 0, 0, 1]])\n",
    "np.abs(np.sum(iswap_ideal*np.conj(purified)/np.max(np.abs(linalg.eig(purified)[0])))/4)**2"
   ]
  },
  {
   "cell_type": "code",
   "execution_count": null,
   "metadata": {},
   "outputs": [],
   "source": []
  }
 ],
 "metadata": {
  "kernelspec": {
   "display_name": "Python 3",
   "language": "python",
   "name": "python3"
  },
  "language_info": {
   "codemirror_mode": {
    "name": "ipython",
    "version": 3
   },
   "file_extension": ".py",
   "mimetype": "text/x-python",
   "name": "python",
   "nbconvert_exporter": "python",
   "pygments_lexer": "ipython3",
   "version": "3.6.9"
  },
  "toc": {
   "base_numbering": 1,
   "nav_menu": {},
   "number_sections": true,
   "sideBar": true,
   "skip_h1_title": false,
   "title_cell": "Table of Contents",
   "title_sidebar": "Contents",
   "toc_cell": false,
   "toc_position": {},
   "toc_section_display": true,
   "toc_window_display": false
  }
 },
 "nbformat": 4,
 "nbformat_minor": 2
}
