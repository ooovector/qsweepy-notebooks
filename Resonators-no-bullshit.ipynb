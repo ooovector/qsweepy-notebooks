{
 "cells": [
  {
   "cell_type": "markdown",
   "metadata": {},
   "source": [
    "### Запуск QtLab"
   ]
  },
  {
   "cell_type": "code",
   "execution_count": 1,
   "metadata": {},
   "outputs": [],
   "source": [
    "%matplotlib qt5"
   ]
  },
  {
   "cell_type": "code",
   "execution_count": 2,
   "metadata": {
    "scrolled": false
   },
   "outputs": [],
   "source": [
    "from qsweepy import *\n",
    "from qsweepy.instruments import *\n",
    "from qsweepy.save_pkl import *\n",
    "import matplotlib.pyplot as plt\n",
    "import numpy as np\n",
    "from matplotlib import interactive\n",
    "import pandas as pd\n",
    "interactive(True)"
   ]
  },
  {
   "cell_type": "code",
   "execution_count": 3,
   "metadata": {},
   "outputs": [],
   "source": [
    "#import resonator_quality_factor_fit\n",
    "import imp\n",
    "imp.reload(resonator_quality_factor_fit)\n",
    "import qsweepy.save_pkl\n",
    "imp.reload(qsweepy.save_pkl)\n",
    "from qsweepy.save_pkl import *"
   ]
  },
  {
   "cell_type": "code",
   "execution_count": 4,
   "metadata": {},
   "outputs": [],
   "source": [
    "rf_switch = nn_rf_switch('rf_switch', address='10.20.61.224')"
   ]
  },
  {
   "cell_type": "code",
   "execution_count": 5,
   "metadata": {},
   "outputs": [
    {
     "name": "stderr",
     "output_type": "stream",
     "text": [
      "C:\\ProgramData\\Anaconda3\\lib\\site-packages\\pyvisa\\resources\\messagebased.py:573: FutureWarning: ask is deprecated and will be removed in 1.10, use query instead.\n",
      "  '1.10, use query instead.', FutureWarning)\n"
     ]
    }
   ],
   "source": [
    "pna = Agilent_N5242A('pna', address = 'TCPIP0::10.20.61.48::inst0::INSTR')"
   ]
  },
  {
   "cell_type": "code",
   "execution_count": 6,
   "metadata": {},
   "outputs": [],
   "source": [
    "switch_sample = {1:1, 5:2, 6:3, 4:0}"
   ]
  },
  {
   "cell_type": "markdown",
   "metadata": {},
   "source": [
    "# Прицеливание"
   ]
  },
  {
   "cell_type": "code",
   "execution_count": 8,
   "metadata": {},
   "outputs": [],
   "source": [
    "#sample_name = '1901-006-1'.format(switch_sample[rf_switch.get_ch2_switch()])\n",
    "sample_name = '1901-006-1'\n",
    "resonator_type='reflection_port'\n",
    "min_freq = 6e9\n",
    "max_freq = 8e9\n",
    "data_root = get_location()\n",
    "\n",
    "save_path = '{0}/{1}/{2}'.format(data_root[0], data_root[1], sample_name)"
   ]
  },
  {
   "cell_type": "code",
   "execution_count": 9,
   "metadata": {},
   "outputs": [
    {
     "name": "stderr",
     "output_type": "stream",
     "text": [
      "C:\\ProgramData\\Anaconda3\\lib\\site-packages\\pyvisa\\resources\\messagebased.py:573: FutureWarning: ask is deprecated and will be removed in 1.10, use query instead.\n",
      "  '1.10, use query instead.', FutureWarning)\n"
     ]
    },
    {
     "data": {
      "text/plain": [
       "True"
      ]
     },
     "execution_count": 9,
     "metadata": {},
     "output_type": "execute_result"
    }
   ],
   "source": [
    "pna.set_average(1)\n",
    "pna.set_averages(1)\n",
    "pna.set_xlim(min_freq, max_freq)\n",
    "pna.set_nop(32001)\n",
    "pna.set_bandwidth(0.5e3)\n",
    "pna.set_power(-15)"
   ]
  },
  {
   "cell_type": "code",
   "execution_count": 11,
   "metadata": {},
   "outputs": [
    {
     "name": "stderr",
     "output_type": "stream",
     "text": [
      "C:\\ProgramData\\Anaconda3\\lib\\site-packages\\pyvisa\\resources\\messagebased.py:573: FutureWarning: ask is deprecated and will be removed in 1.10, use query instead.\n",
      "  '1.10, use query instead.', FutureWarning)\n"
     ]
    },
    {
     "data": {
      "text/plain": [
       "[<matplotlib.lines.Line2D at 0x17c6d392358>]"
      ]
     },
     "execution_count": 11,
     "metadata": {},
     "output_type": "execute_result"
    }
   ],
   "source": [
    "fig, axes=plt.subplots(2,2, figsize=(8,8))\n",
    "freqs=pna.get_freqpoints()\n",
    "S21=pna.get_tracedata()\n",
    "phase = np.unwrap(S21[1])\n",
    "delay = np.gradient(phase)/(freqs[1]-freqs[0])\n",
    "#delay_freqs = (np.asarray(freqs[1:])+np.asarray(freqs[:-1]))/2\n",
    "delay_freqs=freqs\n",
    "axes[0,0].plot(freqs,10*np.log10(S21[0]**2))\n",
    "axes[0,1].plot(freqs, phase)\n",
    "axes[1,0].plot(np.real(S21[0]*np.exp(1j*S21[1])),np.imag(S21[0]*np.exp(1j*S21[1])))\n",
    "axes[1,1].plot(delay_freqs, delay)\n",
    "#axes[1,1].set_yscale('log')"
   ]
  },
  {
   "cell_type": "code",
   "execution_count": 10,
   "metadata": {
    "scrolled": true
   },
   "outputs": [
    {
     "data": {
      "application/vnd.jupyter.widget-view+json": {
       "model_id": "5efddc9653ec4846a1a45549da615d17",
       "version_major": 2,
       "version_minor": 0
      },
      "text/plain": [
       "HTML(value='')"
      ]
     },
     "metadata": {},
     "output_type": "display_data"
    },
    {
     "name": "stdout",
     "output_type": "stream",
     "text": [
      "Started at:  Jan 25 2019 06:15:26\n"
     ]
    },
    {
     "name": "stderr",
     "output_type": "stream",
     "text": [
      "C:\\ProgramData\\Anaconda3\\lib\\site-packages\\pyvisa\\resources\\messagebased.py:573: FutureWarning: ask is deprecated and will be removed in 1.10, use query instead.\n",
      "  '1.10, use query instead.', FutureWarning)\n",
      "C:\\ProgramData\\Anaconda3\\lib\\site-packages\\numpy\\lib\\function_base.py:1402: RuntimeWarning: invalid value encountered in remainder\n",
      "  ddmod = mod(dd + pi, 2*pi) - pi\n",
      "C:\\ProgramData\\Anaconda3\\lib\\site-packages\\numpy\\lib\\function_base.py:1403: RuntimeWarning: invalid value encountered in greater\n",
      "  _nx.copyto(ddmod, pi, where=(ddmod == -pi) & (dd > 0))\n",
      "C:\\ProgramData\\Anaconda3\\lib\\site-packages\\numpy\\lib\\function_base.py:1405: RuntimeWarning: invalid value encountered in less\n",
      "  _nx.copyto(ph_correct, 0, where=abs(dd) < discont)\n",
      "C:\\qtlab_replacement\\qsweepy\\sweep.py:218: FutureWarning: Using a non-tuple sequence for multidimensional indexing is deprecated; use `arr[tuple(seq)]` instead of `arr[seq]`. In the future this will be interpreted as an array index, `arr[np.array(seq)]`, which will result either in an error or a different result.\n",
      "  data[mname][[(i) for i in indeces]+[...]] = mpoint_m\n"
     ]
    },
    {
     "name": "stdout",
     "output_type": "stream",
     "text": [
      "Exiting sweep main thread #{} via return 1720\n",
      "\n",
      "Elapsed time: 0 h 1 m 8.13 s\n"
     ]
    },
    {
     "data": {
      "text/plain": [
       "{'S-parameter': (('Frequency',),\n",
       "  (array([6.0000000e+09, 6.0000625e+09, 6.0001250e+09, ..., 7.9998750e+09,\n",
       "          7.9999375e+09, 8.0000000e+09]),),\n",
       "  array([0.02408085-0.02159008j, 0.02400369-0.02192228j,\n",
       "         0.02319312-0.02268052j, ..., 0.00930313-0.0029755j ,\n",
       "         0.00910931-0.00312341j, 0.00930563-0.00347735j]),\n",
       "  {'log': 20},\n",
       "  ('Hz',))}"
      ]
     },
     "execution_count": 10,
     "metadata": {},
     "output_type": "execute_result"
    }
   ],
   "source": [
    "sweep.sweep(pna, ([0], lambda x: 0, ''), filename=\"S21 overview \"+sample_name)"
   ]
  },
  {
   "cell_type": "code",
   "execution_count": 23,
   "metadata": {},
   "outputs": [],
   "source": [
    "threshold = 0.6e-6\n",
    "baseline = -4.3e-7"
   ]
  },
  {
   "cell_type": "code",
   "execution_count": 24,
   "metadata": {
    "scrolled": false
   },
   "outputs": [
    {
     "name": "stdout",
     "output_type": "stream",
     "text": [
      "found 11 peaks\n",
      "6194687500.0 ,\n",
      "6385437500.0 ,\n",
      "6662125000.0 ,\n",
      "6801562500.0 ,\n",
      "7075875000.0 ,\n",
      "7173625000.0 ,\n",
      "7226312500.0 ,\n",
      "7357437500.0 ,\n",
      "7491875000.0 ,\n",
      "7641625000.0 ,\n",
      "7778312500.0 ,\n"
     ]
    }
   ],
   "source": [
    "from scipy.signal import detrend\n",
    "from scipy.signal import find_peaks_cwt\n",
    "from scipy.signal import argrelextrema\n",
    "peaks_expected = 0.1\n",
    "data = S21\n",
    "data_points = len(data[0])\n",
    "data_complex = 10**(data[0]/20)*np.exp(1j*detrend(np.unwrap(data[1])))\n",
    "data_diff = np.abs(delay-baseline)\n",
    "data_diff[data_diff<threshold] = 0\n",
    "#data_diff[data_diff>-threshold] = 0\n",
    "plt.figure('delay')\n",
    "plt.plot(freqs, data_diff)\n",
    "data_diff=np.abs(data_diff)\n",
    "#peaks = find_peaks_cwt(data_diff, np.linspace(1, 8, 4), noise_perc=100-(100.*peaks_expected)/data_points)\n",
    "neighborhood_size = int(np.floor(2e6/(freqs[1]-freqs[0])))\n",
    "peaks = argrelextrema(data_diff, np.greater, order=neighborhood_size)[0]\n",
    "print ('found {0} peaks'.format(len(peaks)))\n",
    "peak_freqs = freqs[peaks]\n",
    "for freq_id, freq in enumerate(peak_freqs):\n",
    "    print (freq, ',')"
   ]
  },
  {
   "cell_type": "code",
   "execution_count": 34,
   "metadata": {},
   "outputs": [
    {
     "name": "stderr",
     "output_type": "stream",
     "text": [
      "C:\\ProgramData\\Anaconda3\\lib\\site-packages\\pyvisa\\resources\\messagebased.py:573: FutureWarning: ask is deprecated and will be removed in 1.10, use query instead.\n",
      "  '1.10, use query instead.', FutureWarning)\n",
      "C:\\ProgramData\\Anaconda3\\lib\\site-packages\\scipy\\optimize\\minpack.py:794: OptimizeWarning: Covariance of the parameters could not be estimated\n",
      "  category=OptimizeWarning)\n"
     ]
    }
   ],
   "source": [
    "#rescan peaks individually and fit via circlefit\n",
    "from resonator_tools import circuit\n",
    "\n",
    "typical_span=3e6\n",
    "bw=10e3\n",
    "nop = typical_span/bw\n",
    "#pna.set_bandwidth(bw)\n",
    "pna.set_nop(nop)\n",
    "pna.set_span(typical_span)\n",
    "pna.pre_sweep()\n",
    "high_power_fits = []\n",
    "for freq_id, freq in enumerate(peak_freqs):\n",
    "    pna.set_centerfreq(freq)\n",
    "    measurement = pna.measure()['S-parameter']\n",
    "    points = pna.get_points()['S-parameter'][0][1]\n",
    "    delay = np.gradient(measurement)\n",
    "    fitter = circuit.notch_port(f_data = points, z_data_raw=measurement)\n",
    "    fitter.autofit()\n",
    "    high_power_fits.append(fitter.fitresults)\n",
    "    plt.figure(freq_id)\n",
    "    fitter.plotall()\n",
    "pna.post_sweep()\n",
    "high_power_fits = pd.DataFrame(high_power_fits)"
   ]
  },
  {
   "cell_type": "code",
   "execution_count": 36,
   "metadata": {},
   "outputs": [],
   "source": [
    "high_power_fits = pd.DataFrame(high_power_fits)\n",
    "resonator_freqs = high_power_fits['fr']\n",
    "resonator_freq_spans = (high_power_fits['fr']/high_power_fits['Ql']*5).tolist()"
   ]
  },
  {
   "cell_type": "code",
   "execution_count": 44,
   "metadata": {},
   "outputs": [],
   "source": [
    "resonator_freqs[1] = 6.3855e9\n",
    "resonator_freqs[2] = 6.6622e9\n",
    "resonator_freqs[4] = 7.0758e9\n",
    "resonator_freqs[9] = 7.6415e9\n",
    "resonator_freqs[10] = 7.778e9\n",
    "\n",
    "resonator_freq_spans[1] = 1e6\n",
    "resonator_freq_spans[2] = 1e6\n",
    "resonator_freq_spans[4] = 1e6\n",
    "resonator_freq_spans[9] = 8e6\n",
    "resonator_freq_spans[10] = 8e6\n",
    "#resonator_freq_spans[8] = 5e6\n",
    "#resonator_freq_spans[9] = 5e6\n",
    "#resonator_freq_spans[22] = 8.583e6\n",
    "#resonator_freq_spans[22] = 10e6"
   ]
  },
  {
   "cell_type": "code",
   "execution_count": 46,
   "metadata": {},
   "outputs": [
    {
     "data": {
      "text/plain": [
       "(0     6.194809e+09\n",
       " 1     6.385500e+09\n",
       " 2     6.662200e+09\n",
       " 3     6.801672e+09\n",
       " 4     7.075800e+09\n",
       " 5     7.004151e+09\n",
       " 6     7.226333e+09\n",
       " 7     7.357459e+09\n",
       " 8     7.491834e+09\n",
       " 9     7.641500e+09\n",
       " 10    7.778000e+09\n",
       " Name: fr, dtype: float64,\n",
       " [570479.3587379366,\n",
       "  1000000.0,\n",
       "  1000000.0,\n",
       "  794835.1026967778,\n",
       "  1000000.0,\n",
       "  0.0006329416182753443,\n",
       "  2119256.581348119,\n",
       "  2697122.667078622,\n",
       "  5854685.76922004,\n",
       "  8000000.0,\n",
       "  8000000.0])"
      ]
     },
     "execution_count": 46,
     "metadata": {},
     "output_type": "execute_result"
    }
   ],
   "source": [
    "resonator_freqs, resonator_freq_spans"
   ]
  },
  {
   "cell_type": "markdown",
   "metadata": {},
   "source": [
    "# Мерить зонаторы"
   ]
  },
  {
   "cell_type": "code",
   "execution_count": 16,
   "metadata": {},
   "outputs": [],
   "source": [
    "resonator_freqs = [ 7.009115e+09, 7.149971e+09, 7.286019e+09, 7.422963e+09, 7.602057e+09]\n"
   ]
  },
  {
   "cell_type": "code",
   "execution_count": 83,
   "metadata": {},
   "outputs": [],
   "source": [
    "#resonator_freqs = [ \n",
    "#6.6532e9\n",
    "#6.8037e9,    \n",
    "#]\n",
    "#powers = np.linspace(-10, -45, 36) # длинный скан\n",
    "#powers = np.linspace(-20, -40, 41) # короткий скан"
   ]
  },
  {
   "cell_type": "code",
   "execution_count": 39,
   "metadata": {},
   "outputs": [],
   "source": [
    "#powers = np.linspace(0, -30, 31) # короткий скан\n",
    "powers = np.linspace(-15, -40, 26) # длинный скан"
   ]
  },
  {
   "cell_type": "code",
   "execution_count": 40,
   "metadata": {},
   "outputs": [
    {
     "data": {
      "text/plain": [
       "[0, 1, 2, 3, 4, 5, 6, 7, 8, 9, 10]"
      ]
     },
     "execution_count": 40,
     "metadata": {},
     "output_type": "execute_result"
    }
   ],
   "source": [
    "resonator_ids = [i for i,f in enumerate(resonator_freqs)]\n",
    "#resonator_ids = np.asarray([22, 23])-1\n",
    "resonator_ids"
   ]
  },
  {
   "cell_type": "code",
   "execution_count": 41,
   "metadata": {},
   "outputs": [
    {
     "data": {
      "text/plain": [
       "11"
      ]
     },
     "execution_count": 41,
     "metadata": {},
     "output_type": "execute_result"
    }
   ],
   "source": [
    "len(resonator_freqs)"
   ]
  },
  {
   "cell_type": "code",
   "execution_count": 47,
   "metadata": {
    "scrolled": true
   },
   "outputs": [
    {
     "name": "stderr",
     "output_type": "stream",
     "text": [
      "C:\\ProgramData\\Anaconda3\\lib\\site-packages\\pyvisa\\resources\\messagebased.py:573: FutureWarning: ask is deprecated and will be removed in 1.10, use query instead.\n",
      "  '1.10, use query instead.', FutureWarning)\n"
     ]
    },
    {
     "data": {
      "application/vnd.jupyter.widget-view+json": {
       "model_id": "379d0313f5e34be4b528184c045f320f",
       "version_major": 2,
       "version_minor": 0
      },
      "text/plain": [
       "HTML(value='')"
      ]
     },
     "metadata": {},
     "output_type": "display_data"
    },
    {
     "name": "stderr",
     "output_type": "stream",
     "text": [
      "C:\\ProgramData\\Anaconda3\\lib\\site-packages\\pyvisa\\resources\\messagebased.py:573: FutureWarning: ask is deprecated and will be removed in 1.10, use query instead.\n",
      "  '1.10, use query instead.', FutureWarning)\n"
     ]
    },
    {
     "name": "stdout",
     "output_type": "stream",
     "text": [
      "Started at:  Jan 25 2019 06:35:11\n"
     ]
    },
    {
     "name": "stderr",
     "output_type": "stream",
     "text": [
      "C:\\qtlab_replacement\\qsweepy\\sweep.py:218: FutureWarning: Using a non-tuple sequence for multidimensional indexing is deprecated; use `arr[tuple(seq)]` instead of `arr[seq]`. In the future this will be interpreted as an array index, `arr[np.array(seq)]`, which will result either in an error or a different result.\n",
      "  data[mname][[(i) for i in indeces]+[...]] = mpoint_m\n"
     ]
    },
    {
     "name": "stdout",
     "output_type": "stream",
     "text": [
      "Exiting sweep main thread #{} via return 3892\n",
      "\n",
      "Elapsed time: 0 h 0 m 47.61 s\n"
     ]
    },
    {
     "name": "stderr",
     "output_type": "stream",
     "text": [
      "C:\\ProgramData\\Anaconda3\\lib\\site-packages\\resonator_tools\\utilities.py:9: RuntimeWarning: invalid value encountered in log10\n",
      "  return 10.*np.log10(x*1000.)\n"
     ]
    },
    {
     "data": {
      "application/vnd.jupyter.widget-view+json": {
       "model_id": "28d71f6880214a6b989f8a5da9f2223a",
       "version_major": 2,
       "version_minor": 0
      },
      "text/plain": [
       "HTML(value='')"
      ]
     },
     "metadata": {},
     "output_type": "display_data"
    },
    {
     "name": "stdout",
     "output_type": "stream",
     "text": [
      "Started at:  Jan 25 2019 06:36:02\n"
     ]
    },
    {
     "name": "stderr",
     "output_type": "stream",
     "text": [
      "C:\\ProgramData\\Anaconda3\\lib\\site-packages\\pyvisa\\resources\\messagebased.py:573: FutureWarning: ask is deprecated and will be removed in 1.10, use query instead.\n",
      "  '1.10, use query instead.', FutureWarning)\n",
      "C:\\qtlab_replacement\\qsweepy\\sweep.py:218: FutureWarning: Using a non-tuple sequence for multidimensional indexing is deprecated; use `arr[tuple(seq)]` instead of `arr[seq]`. In the future this will be interpreted as an array index, `arr[np.array(seq)]`, which will result either in an error or a different result.\n",
      "  data[mname][[(i) for i in indeces]+[...]] = mpoint_m\n"
     ]
    },
    {
     "name": "stdout",
     "output_type": "stream",
     "text": [
      "Exiting sweep main thread #{} via return 9364\n",
      "\n",
      "Elapsed time: 0 h 0 m 47.66 s\n"
     ]
    },
    {
     "name": "stderr",
     "output_type": "stream",
     "text": [
      "C:\\ProgramData\\Anaconda3\\lib\\site-packages\\resonator_tools\\utilities.py:9: RuntimeWarning: invalid value encountered in log10\n",
      "  return 10.*np.log10(x*1000.)\n"
     ]
    },
    {
     "data": {
      "application/vnd.jupyter.widget-view+json": {
       "model_id": "0f2e57a13f5544ee9f44374596347bbb",
       "version_major": 2,
       "version_minor": 0
      },
      "text/plain": [
       "HTML(value='')"
      ]
     },
     "metadata": {},
     "output_type": "display_data"
    },
    {
     "name": "stdout",
     "output_type": "stream",
     "text": [
      "Started at:  Jan 25 2019 06:36:54\n"
     ]
    },
    {
     "name": "stderr",
     "output_type": "stream",
     "text": [
      "C:\\ProgramData\\Anaconda3\\lib\\site-packages\\pyvisa\\resources\\messagebased.py:573: FutureWarning: ask is deprecated and will be removed in 1.10, use query instead.\n",
      "  '1.10, use query instead.', FutureWarning)\n",
      "C:\\qtlab_replacement\\qsweepy\\sweep.py:218: FutureWarning: Using a non-tuple sequence for multidimensional indexing is deprecated; use `arr[tuple(seq)]` instead of `arr[seq]`. In the future this will be interpreted as an array index, `arr[np.array(seq)]`, which will result either in an error or a different result.\n",
      "  data[mname][[(i) for i in indeces]+[...]] = mpoint_m\n"
     ]
    },
    {
     "name": "stdout",
     "output_type": "stream",
     "text": [
      "Exiting sweep main thread #{} via return 7172\n",
      "\n",
      "Elapsed time: 0 h 0 m 47.6 s\n"
     ]
    },
    {
     "data": {
      "application/vnd.jupyter.widget-view+json": {
       "model_id": "a782fe9bb1bc4a3ba6008dd24950f163",
       "version_major": 2,
       "version_minor": 0
      },
      "text/plain": [
       "HTML(value='')"
      ]
     },
     "metadata": {},
     "output_type": "display_data"
    },
    {
     "name": "stdout",
     "output_type": "stream",
     "text": [
      "Started at:  Jan 25 2019 06:37:46\n"
     ]
    },
    {
     "name": "stderr",
     "output_type": "stream",
     "text": [
      "C:\\ProgramData\\Anaconda3\\lib\\site-packages\\pyvisa\\resources\\messagebased.py:573: FutureWarning: ask is deprecated and will be removed in 1.10, use query instead.\n",
      "  '1.10, use query instead.', FutureWarning)\n",
      "C:\\qtlab_replacement\\qsweepy\\sweep.py:218: FutureWarning: Using a non-tuple sequence for multidimensional indexing is deprecated; use `arr[tuple(seq)]` instead of `arr[seq]`. In the future this will be interpreted as an array index, `arr[np.array(seq)]`, which will result either in an error or a different result.\n",
      "  data[mname][[(i) for i in indeces]+[...]] = mpoint_m\n"
     ]
    },
    {
     "name": "stdout",
     "output_type": "stream",
     "text": [
      "Exiting sweep main thread #{} via return 13224\n",
      "\n",
      "Elapsed time: 0 h 0 m 47.65 s\n"
     ]
    },
    {
     "data": {
      "application/vnd.jupyter.widget-view+json": {
       "model_id": "93fd43a009494f4790e06985efc45b58",
       "version_major": 2,
       "version_minor": 0
      },
      "text/plain": [
       "HTML(value='')"
      ]
     },
     "metadata": {},
     "output_type": "display_data"
    },
    {
     "name": "stdout",
     "output_type": "stream",
     "text": [
      "Started at:  Jan 25 2019 06:38:38\n"
     ]
    },
    {
     "name": "stderr",
     "output_type": "stream",
     "text": [
      "C:\\ProgramData\\Anaconda3\\lib\\site-packages\\pyvisa\\resources\\messagebased.py:573: FutureWarning: ask is deprecated and will be removed in 1.10, use query instead.\n",
      "  '1.10, use query instead.', FutureWarning)\n",
      "C:\\qtlab_replacement\\qsweepy\\sweep.py:218: FutureWarning: Using a non-tuple sequence for multidimensional indexing is deprecated; use `arr[tuple(seq)]` instead of `arr[seq]`. In the future this will be interpreted as an array index, `arr[np.array(seq)]`, which will result either in an error or a different result.\n",
      "  data[mname][[(i) for i in indeces]+[...]] = mpoint_m\n"
     ]
    },
    {
     "name": "stdout",
     "output_type": "stream",
     "text": [
      "Exiting sweep main thread #{} via return 12496\n",
      "\n",
      "Elapsed time: 0 h 0 m 47.59 s\n"
     ]
    },
    {
     "name": "stderr",
     "output_type": "stream",
     "text": [
      "C:\\ProgramData\\Anaconda3\\lib\\site-packages\\resonator_tools\\utilities.py:9: RuntimeWarning: invalid value encountered in log10\n",
      "  return 10.*np.log10(x*1000.)\n"
     ]
    },
    {
     "data": {
      "application/vnd.jupyter.widget-view+json": {
       "model_id": "3eba92ae20f34342b802e5b12ce8034d",
       "version_major": 2,
       "version_minor": 0
      },
      "text/plain": [
       "HTML(value='')"
      ]
     },
     "metadata": {},
     "output_type": "display_data"
    },
    {
     "name": "stdout",
     "output_type": "stream",
     "text": [
      "Started at:  Jan 25 2019 06:39:29\n"
     ]
    },
    {
     "name": "stderr",
     "output_type": "stream",
     "text": [
      "C:\\ProgramData\\Anaconda3\\lib\\site-packages\\pyvisa\\resources\\messagebased.py:573: FutureWarning: ask is deprecated and will be removed in 1.10, use query instead.\n",
      "  '1.10, use query instead.', FutureWarning)\n",
      "C:\\ProgramData\\Anaconda3\\lib\\site-packages\\matplotlib\\image.py:865: UserWarning: Attempting to set identical bottom==top results\n",
      "in singular transformations; automatically expanding.\n",
      "bottom=7004151008.8, top=7004151008.8\n",
      "  self.axes.set_ylim((ymin, ymax), auto=None)\n",
      "C:\\qtlab_replacement\\qsweepy\\sweep.py:218: FutureWarning: Using a non-tuple sequence for multidimensional indexing is deprecated; use `arr[tuple(seq)]` instead of `arr[seq]`. In the future this will be interpreted as an array index, `arr[np.array(seq)]`, which will result either in an error or a different result.\n",
      "  data[mname][[(i) for i in indeces]+[...]] = mpoint_m\n"
     ]
    },
    {
     "name": "stdout",
     "output_type": "stream",
     "text": [
      "Exiting sweep main thread #{} via return 2988\n",
      "\n",
      "Elapsed time: 0 h 0 m 46.91 s\n"
     ]
    },
    {
     "name": "stderr",
     "output_type": "stream",
     "text": [
      "C:\\ProgramData\\Anaconda3\\lib\\site-packages\\resonator_tools\\circlefit.py:104: RuntimeWarning: invalid value encountered in sqrt\n",
      "  self.dQl_error = np.sqrt(pcov[5][5])\n",
      "C:\\ProgramData\\Anaconda3\\lib\\site-packages\\scipy\\optimize\\minpack.py:163: RuntimeWarning: The iteration is not making good progress, as measured by the \n",
      "  improvement from the last ten iterations.\n",
      "  warnings.warn(msg, RuntimeWarning)\n",
      "C:\\ProgramData\\Anaconda3\\lib\\site-packages\\resonator_tools\\circlefit.py:103: RuntimeWarning: invalid value encountered in sqrt\n",
      "  self.df_error = np.sqrt(pcov[4][4])\n",
      "C:\\ProgramData\\Anaconda3\\lib\\site-packages\\resonator_tools\\circuit.py:132: RuntimeWarning: invalid value encountered in sqrt\n",
      "  errors = np.sqrt(np.diagonal(cov))\n",
      "C:\\ProgramData\\Anaconda3\\lib\\site-packages\\resonator_tools\\utilities.py:9: RuntimeWarning: invalid value encountered in log10\n",
      "  return 10.*np.log10(x*1000.)\n",
      "C:\\ProgramData\\Anaconda3\\lib\\site-packages\\resonator_tools\\circuit.py:137: RuntimeWarning: invalid value encountered in sqrt\n",
      "  Qi_err = np.sqrt((dQl**2*cov[2][2]) + (dQc**2*cov[1][1])+(2*dQl*dQc*cov[2][1]))\t #with correlations\n"
     ]
    },
    {
     "data": {
      "application/vnd.jupyter.widget-view+json": {
       "model_id": "6dca0c192b23496d9c258600e38d1eca",
       "version_major": 2,
       "version_minor": 0
      },
      "text/plain": [
       "HTML(value='')"
      ]
     },
     "metadata": {},
     "output_type": "display_data"
    },
    {
     "name": "stdout",
     "output_type": "stream",
     "text": [
      "Started at:  Jan 25 2019 06:40:20\n"
     ]
    },
    {
     "name": "stderr",
     "output_type": "stream",
     "text": [
      "C:\\ProgramData\\Anaconda3\\lib\\site-packages\\pyvisa\\resources\\messagebased.py:573: FutureWarning: ask is deprecated and will be removed in 1.10, use query instead.\n",
      "  '1.10, use query instead.', FutureWarning)\n",
      "C:\\qtlab_replacement\\qsweepy\\sweep.py:218: FutureWarning: Using a non-tuple sequence for multidimensional indexing is deprecated; use `arr[tuple(seq)]` instead of `arr[seq]`. In the future this will be interpreted as an array index, `arr[np.array(seq)]`, which will result either in an error or a different result.\n",
      "  data[mname][[(i) for i in indeces]+[...]] = mpoint_m\n"
     ]
    },
    {
     "name": "stdout",
     "output_type": "stream",
     "text": [
      "Exiting sweep main thread #{} via return 2224\n",
      "\n",
      "Elapsed time: 0 h 0 m 47.65 s\n"
     ]
    },
    {
     "data": {
      "application/vnd.jupyter.widget-view+json": {
       "model_id": "b7e25332ec444eac98c0f19ffe9c36e1",
       "version_major": 2,
       "version_minor": 0
      },
      "text/plain": [
       "HTML(value='')"
      ]
     },
     "metadata": {},
     "output_type": "display_data"
    },
    {
     "name": "stdout",
     "output_type": "stream",
     "text": [
      "Started at:  Jan 25 2019 06:41:11\n"
     ]
    },
    {
     "name": "stderr",
     "output_type": "stream",
     "text": [
      "C:\\ProgramData\\Anaconda3\\lib\\site-packages\\pyvisa\\resources\\messagebased.py:573: FutureWarning: ask is deprecated and will be removed in 1.10, use query instead.\n",
      "  '1.10, use query instead.', FutureWarning)\n",
      "C:\\qtlab_replacement\\qsweepy\\sweep.py:218: FutureWarning: Using a non-tuple sequence for multidimensional indexing is deprecated; use `arr[tuple(seq)]` instead of `arr[seq]`. In the future this will be interpreted as an array index, `arr[np.array(seq)]`, which will result either in an error or a different result.\n",
      "  data[mname][[(i) for i in indeces]+[...]] = mpoint_m\n"
     ]
    },
    {
     "name": "stdout",
     "output_type": "stream",
     "text": [
      "Exiting sweep main thread #{} via return 7448\n",
      "\n",
      "Elapsed time: 0 h 0 m 47.61 s\n"
     ]
    },
    {
     "data": {
      "application/vnd.jupyter.widget-view+json": {
       "model_id": "a412dc0df1eb425096bdcee7cfb0ad9e",
       "version_major": 2,
       "version_minor": 0
      },
      "text/plain": [
       "HTML(value='')"
      ]
     },
     "metadata": {},
     "output_type": "display_data"
    },
    {
     "name": "stdout",
     "output_type": "stream",
     "text": [
      "Started at:  Jan 25 2019 06:42:03\n"
     ]
    },
    {
     "name": "stderr",
     "output_type": "stream",
     "text": [
      "C:\\ProgramData\\Anaconda3\\lib\\site-packages\\pyvisa\\resources\\messagebased.py:573: FutureWarning: ask is deprecated and will be removed in 1.10, use query instead.\n",
      "  '1.10, use query instead.', FutureWarning)\n",
      "C:\\qtlab_replacement\\qsweepy\\sweep.py:218: FutureWarning: Using a non-tuple sequence for multidimensional indexing is deprecated; use `arr[tuple(seq)]` instead of `arr[seq]`. In the future this will be interpreted as an array index, `arr[np.array(seq)]`, which will result either in an error or a different result.\n",
      "  data[mname][[(i) for i in indeces]+[...]] = mpoint_m\n"
     ]
    },
    {
     "name": "stdout",
     "output_type": "stream",
     "text": [
      "Exiting sweep main thread #{} via return 10588\n",
      "\n",
      "Elapsed time: 0 h 0 m 47.63 s\n"
     ]
    },
    {
     "data": {
      "application/vnd.jupyter.widget-view+json": {
       "model_id": "45f12488402e49e180c5868f7f6cdd4b",
       "version_major": 2,
       "version_minor": 0
      },
      "text/plain": [
       "HTML(value='')"
      ]
     },
     "metadata": {},
     "output_type": "display_data"
    },
    {
     "name": "stdout",
     "output_type": "stream",
     "text": [
      "Started at:  Jan 25 2019 06:42:55\n"
     ]
    },
    {
     "name": "stderr",
     "output_type": "stream",
     "text": [
      "C:\\ProgramData\\Anaconda3\\lib\\site-packages\\pyvisa\\resources\\messagebased.py:573: FutureWarning: ask is deprecated and will be removed in 1.10, use query instead.\n",
      "  '1.10, use query instead.', FutureWarning)\n",
      "C:\\qtlab_replacement\\qsweepy\\sweep.py:218: FutureWarning: Using a non-tuple sequence for multidimensional indexing is deprecated; use `arr[tuple(seq)]` instead of `arr[seq]`. In the future this will be interpreted as an array index, `arr[np.array(seq)]`, which will result either in an error or a different result.\n",
      "  data[mname][[(i) for i in indeces]+[...]] = mpoint_m\n"
     ]
    },
    {
     "name": "stdout",
     "output_type": "stream",
     "text": [
      "Exiting sweep main thread #{} via return 6736\n",
      "\n",
      "Elapsed time: 0 h 0 m 47.66 s\n"
     ]
    },
    {
     "name": "stderr",
     "output_type": "stream",
     "text": [
      "C:\\ProgramData\\Anaconda3\\lib\\site-packages\\resonator_tools\\utilities.py:9: RuntimeWarning: invalid value encountered in log10\n",
      "  return 10.*np.log10(x*1000.)\n"
     ]
    },
    {
     "data": {
      "application/vnd.jupyter.widget-view+json": {
       "model_id": "9825c174003442e78fbab12e1f2a99aa",
       "version_major": 2,
       "version_minor": 0
      },
      "text/plain": [
       "HTML(value='')"
      ]
     },
     "metadata": {},
     "output_type": "display_data"
    },
    {
     "name": "stdout",
     "output_type": "stream",
     "text": [
      "Started at:  Jan 25 2019 06:43:47\n"
     ]
    },
    {
     "name": "stderr",
     "output_type": "stream",
     "text": [
      "C:\\ProgramData\\Anaconda3\\lib\\site-packages\\pyvisa\\resources\\messagebased.py:573: FutureWarning: ask is deprecated and will be removed in 1.10, use query instead.\n",
      "  '1.10, use query instead.', FutureWarning)\n",
      "C:\\qtlab_replacement\\qsweepy\\sweep.py:218: FutureWarning: Using a non-tuple sequence for multidimensional indexing is deprecated; use `arr[tuple(seq)]` instead of `arr[seq]`. In the future this will be interpreted as an array index, `arr[np.array(seq)]`, which will result either in an error or a different result.\n",
      "  data[mname][[(i) for i in indeces]+[...]] = mpoint_m\n"
     ]
    },
    {
     "name": "stdout",
     "output_type": "stream",
     "text": [
      "Exiting sweep main thread #{} via return 3728\n",
      "\n",
      "Elapsed time: 0 h 0 m 47.8 s\n"
     ]
    },
    {
     "name": "stderr",
     "output_type": "stream",
     "text": [
      "C:\\ProgramData\\Anaconda3\\lib\\site-packages\\resonator_tools\\utilities.py:9: RuntimeWarning: invalid value encountered in log10\n",
      "  return 10.*np.log10(x*1000.)\n"
     ]
    }
   ],
   "source": [
    "resonator_freq_span = 1e6\n",
    "#resonator_freq_spans = None\n",
    "\n",
    "for resonator_id, resonator_freq in enumerate(resonator_freqs):\n",
    "    if resonator_id not in resonator_ids:\n",
    "        continue\n",
    "    if resonator_freq_spans:\n",
    "        resonator_freq_span = resonator_freq_spans[resonator_id]\n",
    "    pna.set_xlim(resonator_freq-resonator_freq_span/2, resonator_freq+resonator_freq_span/2)\n",
    "\n",
    "    pna.set_nop(101)\n",
    "    pna.set_average(1)\n",
    "    pna.set_averages(100)\n",
    "    \n",
    "    \n",
    "    pna.set_bandwidth(1)\n",
    "    pna._visainstrument.write(\"SENS:AVER:MODE POIN\")\n",
    "\n",
    "    ref_pow = np.array(\t[-70.,\t-20.,\t30.]\t)\n",
    "    ref_bw = np.array(\t[1.,\t100000.,\t100000.]\t)\n",
    "    def set_power(power):\n",
    "        bw = 10**np.interp(power, ref_pow, np.log10(ref_bw))\n",
    "        pna.set_bandwidth(bw)\n",
    "        pna.set_power(power)\n",
    "        \n",
    "    measurement = sweep.sweep_vna(pna, (powers, set_power, 'Power'), filename=sample_name+' res {0}'.format(resonator_id))\n",
    "    \n",
    "    fitdata = resonator_quality_factor_fit.resonator_quality_factor_fit(measurement, powers, resonator_type=resonator_type)\n",
    "    default_measurement_save_path(save_path, mkdir=True)\n",
    "    fitdata.to_csv(save_path+'/'+'fit_total {0}.csv'.format(resonator_id))\n",
    "    plt.close()\n",
    "    plt.close()\n",
    "    #print(fitdata)"
   ]
  },
  {
   "cell_type": "markdown",
   "metadata": {},
   "source": [
    "# load last measurements and refit"
   ]
  },
  {
   "cell_type": "code",
   "execution_count": 48,
   "metadata": {},
   "outputs": [],
   "source": [
    "%matplotlib qt5\n",
    "import resonator_tools.circuit\n",
    "from qsweepy import *\n",
    "import pickle\n",
    "import matplotlib.pyplot as plt"
   ]
  },
  {
   "cell_type": "code",
   "execution_count": 49,
   "metadata": {},
   "outputs": [],
   "source": [
    "save_path=r'C:\\Data\\2019-01-25'"
   ]
  },
  {
   "cell_type": "code",
   "execution_count": 52,
   "metadata": {},
   "outputs": [
    {
     "name": "stdout",
     "output_type": "stream",
     "text": [
      "C:\\Data\\2019-01-25\\06-35-11-1901-006-1 res 0\\1901-006-1 res 0.pkl\n"
     ]
    },
    {
     "name": "stderr",
     "output_type": "stream",
     "text": [
      "C:\\ProgramData\\Anaconda3\\lib\\site-packages\\resonator_tools\\utilities.py:9: RuntimeWarning: invalid value encountered in log10\n",
      "  return 10.*np.log10(x*1000.)\n"
     ]
    },
    {
     "name": "stdout",
     "output_type": "stream",
     "text": [
      "C:\\Data\\2019-01-25\\06-36-03-1901-006-1 res 1\\1901-006-1 res 1.pkl\n",
      "C:\\Data\\2019-01-25\\06-36-54-1901-006-1 res 2\\1901-006-1 res 2.pkl\n",
      "C:\\Data\\2019-01-25\\06-37-46-1901-006-1 res 3\\1901-006-1 res 3.pkl\n",
      "C:\\Data\\2019-01-25\\06-38-38-1901-006-1 res 4\\1901-006-1 res 4.pkl\n",
      "C:\\Data\\2019-01-25\\06-39-29-1901-006-1 res 5\\1901-006-1 res 5.pkl\n",
      "C:\\Data\\2019-01-25\\06-40-20-1901-006-1 res 6\\1901-006-1 res 6.pkl\n"
     ]
    },
    {
     "name": "stderr",
     "output_type": "stream",
     "text": [
      "C:\\ProgramData\\Anaconda3\\lib\\site-packages\\resonator_tools\\circlefit.py:104: RuntimeWarning: invalid value encountered in sqrt\n",
      "  self.dQl_error = np.sqrt(pcov[5][5])\n",
      "C:\\ProgramData\\Anaconda3\\lib\\site-packages\\scipy\\optimize\\minpack.py:163: RuntimeWarning: The iteration is not making good progress, as measured by the \n",
      "  improvement from the last ten iterations.\n",
      "  warnings.warn(msg, RuntimeWarning)\n",
      "C:\\ProgramData\\Anaconda3\\lib\\site-packages\\resonator_tools\\circlefit.py:103: RuntimeWarning: invalid value encountered in sqrt\n",
      "  self.df_error = np.sqrt(pcov[4][4])\n",
      "C:\\ProgramData\\Anaconda3\\lib\\site-packages\\resonator_tools\\circuit.py:132: RuntimeWarning: invalid value encountered in sqrt\n",
      "  errors = np.sqrt(np.diagonal(cov))\n",
      "C:\\ProgramData\\Anaconda3\\lib\\site-packages\\resonator_tools\\circuit.py:137: RuntimeWarning: invalid value encountered in sqrt\n",
      "  Qi_err = np.sqrt((dQl**2*cov[2][2]) + (dQc**2*cov[1][1])+(2*dQl*dQc*cov[2][1]))\t #with correlations\n"
     ]
    },
    {
     "name": "stdout",
     "output_type": "stream",
     "text": [
      "C:\\Data\\2019-01-25\\06-41-12-1901-006-1 res 7\\1901-006-1 res 7.pkl\n",
      "C:\\Data\\2019-01-25\\06-42-03-1901-006-1 res 8\\1901-006-1 res 8.pkl\n",
      "C:\\Data\\2019-01-25\\06-42-55-1901-006-1 res 9\\1901-006-1 res 9.pkl\n",
      "C:\\Data\\2019-01-25\\06-43-47-1901-006-1 res 10\\1901-006-1 res 10.pkl\n"
     ]
    }
   ],
   "source": [
    "import glob\n",
    "measurement_pattern = r'C:\\Data\\2019-01-25\\*-1901-006-1 res {}\\*.pkl'\n",
    "for resonator_id in range(11):\n",
    "    measurements = glob.glob(measurement_pattern.format(resonator_id))\n",
    "    if len(measurements):\n",
    "        last_measurement = measurements[-1]\n",
    "        print (last_measurement)\n",
    "        with open(last_measurement, 'rb') as f:\n",
    "            \n",
    "            measurement = pickle.load(f)[1]['S-parameter']\n",
    "            powers = measurement[1][0]\n",
    "            fitdata = resonator_quality_factor_fit.resonator_quality_factor_fit(measurement, powers, resonator_type='reflection_port', delay=49e-9)\n",
    "            fitdata.to_csv(save_path+'/'+'fit_total {0}.csv'.format(resonator_id))\n",
    "            #fitter = resonator_tools.circuit.reflection_port(f_data =measurement[1][1], z_data_raw=measurement[2][-1,:])\n",
    "            #fitter.GUIfit()\n",
    "            #plt.close()\n",
    "            #plt.close()"
   ]
  },
  {
   "cell_type": "code",
   "execution_count": 53,
   "metadata": {},
   "outputs": [
    {
     "name": "stdout",
     "output_type": "stream",
     "text": [
      "C:\\Data\\2019-01-25\\06-35-11-1901-006-1 res 0\\1901-006-1 res 0.pkl\n"
     ]
    }
   ],
   "source": [
    "for resonator_id in range(1):\n",
    "    measurements = glob.glob(measurement_pattern.format(resonator_id))\n",
    "    if len(measurements):\n",
    "        last_measurement = measurements[-1]\n",
    "        print (last_measurement)\n",
    "        with open(last_measurement, 'rb') as f:\n",
    "            measurement = pickle.load(f)[1]['S-parameter']\n",
    "            fitter = resonator_tools.circuit.reflection_port(f_data =measurement[1][1], z_data_raw=measurement[2][-1,:])\n",
    "            plt.figure()\n",
    "            fitter.autofit()\n",
    "            fitter.plotall()\n",
    "            plt.figure()\n",
    "            fitter.autofit(electric_delay=49e-9)\n",
    "            fitter.plotall()\n",
    "            fitter.GUIfit()\n",
    "            plt.show()"
   ]
  },
  {
   "cell_type": "code",
   "execution_count": 19,
   "metadata": {},
   "outputs": [
    {
     "data": {
      "application/vnd.jupyter.widget-view+json": {
       "model_id": "d44db6ae828d4497bd656f3526d1fa99",
       "version_major": 2,
       "version_minor": 0
      },
      "text/plain": [
       "A Jupyter Widget"
      ]
     },
     "metadata": {},
     "output_type": "display_data"
    },
    {
     "name": "stdout",
     "output_type": "stream",
     "text": [
      "Started at:  Jul 19 2018 20:04:21\n",
      "2\n"
     ]
    },
    {
     "ename": "FileNotFoundError",
     "evalue": "[Errno 2] No such file or directory: 'd:\\\\data/2018-07-19/20-04-21-Res MISiS Nb 18.07.18 sample #1 res 0/'",
     "output_type": "error",
     "traceback": [
      "\u001b[1;31m---------------------------------------------------------------------------\u001b[0m",
      "\u001b[1;31mKeyboardInterrupt\u001b[0m                         Traceback (most recent call last)",
      "\u001b[1;32mD:\\qtlab_replacement\\qsweepy\\sweep.py\u001b[0m in \u001b[0;36msweep\u001b[1;34m(measurer, filename, root_dir, plot, plot_separate_thread, header, output, save, time_war_label, bot, *params)\u001b[0m\n\u001b[0;32m    263\u001b[0m                         \u001b[0macq_thread\u001b[0m\u001b[1;33m.\u001b[0m\u001b[0mstart\u001b[0m\u001b[1;33m(\u001b[0m\u001b[1;33m)\u001b[0m\u001b[1;33m\u001b[0m\u001b[0m\n\u001b[1;32m--> 264\u001b[1;33m                         \u001b[0mplot_thread\u001b[0m\u001b[1;33m(\u001b[0m\u001b[1;33m)\u001b[0m\u001b[1;33m\u001b[0m\u001b[0m\n\u001b[0m\u001b[0;32m    265\u001b[0m \u001b[1;33m\u001b[0m\u001b[0m\n",
      "\u001b[1;32mD:\\qtlab_replacement\\qsweepy\\sweep.py\u001b[0m in \u001b[0;36mplot_thread\u001b[1;34m()\u001b[0m\n\u001b[0;32m    257\u001b[0m                                                 \u001b[1;32mreturn\u001b[0m\u001b[1;33m\u001b[0m\u001b[0m\n\u001b[1;32m--> 258\u001b[1;33m                                         \u001b[0mplt\u001b[0m\u001b[1;33m.\u001b[0m\u001b[0mpause\u001b[0m\u001b[1;33m(\u001b[0m\u001b[1;36m1.0\u001b[0m\u001b[1;33m)\u001b[0m\u001b[1;33m\u001b[0m\u001b[0m\n\u001b[0m\u001b[0;32m    259\u001b[0m                                         \u001b[1;31m#print(plot_thread_point_id, done_sweeps)\u001b[0m\u001b[1;33m\u001b[0m\u001b[1;33m\u001b[0m\u001b[0m\n",
      "\u001b[1;32mC:\\ProgramData\\Anaconda3\\lib\\site-packages\\matplotlib\\pyplot.py\u001b[0m in \u001b[0;36mpause\u001b[1;34m(interval)\u001b[0m\n\u001b[0;32m    296\u001b[0m         \u001b[0mshow\u001b[0m\u001b[1;33m(\u001b[0m\u001b[0mblock\u001b[0m\u001b[1;33m=\u001b[0m\u001b[1;32mFalse\u001b[0m\u001b[1;33m)\u001b[0m\u001b[1;33m\u001b[0m\u001b[0m\n\u001b[1;32m--> 297\u001b[1;33m         \u001b[0mcanvas\u001b[0m\u001b[1;33m.\u001b[0m\u001b[0mstart_event_loop\u001b[0m\u001b[1;33m(\u001b[0m\u001b[0minterval\u001b[0m\u001b[1;33m)\u001b[0m\u001b[1;33m\u001b[0m\u001b[0m\n\u001b[0m\u001b[0;32m    298\u001b[0m     \u001b[1;32melse\u001b[0m\u001b[1;33m:\u001b[0m\u001b[1;33m\u001b[0m\u001b[0m\n",
      "\u001b[1;32mC:\\ProgramData\\Anaconda3\\lib\\site-packages\\matplotlib\\backends\\backend_qt5.py\u001b[0m in \u001b[0;36mstart_event_loop\u001b[1;34m(self, timeout)\u001b[0m\n\u001b[0;32m    439\u001b[0m             \u001b[0mtimer\u001b[0m \u001b[1;33m=\u001b[0m \u001b[0mQtCore\u001b[0m\u001b[1;33m.\u001b[0m\u001b[0mQTimer\u001b[0m\u001b[1;33m.\u001b[0m\u001b[0msingleShot\u001b[0m\u001b[1;33m(\u001b[0m\u001b[0mtimeout\u001b[0m \u001b[1;33m*\u001b[0m \u001b[1;36m1000\u001b[0m\u001b[1;33m,\u001b[0m \u001b[0mevent_loop\u001b[0m\u001b[1;33m.\u001b[0m\u001b[0mquit\u001b[0m\u001b[1;33m)\u001b[0m\u001b[1;33m\u001b[0m\u001b[0m\n\u001b[1;32m--> 440\u001b[1;33m         \u001b[0mevent_loop\u001b[0m\u001b[1;33m.\u001b[0m\u001b[0mexec_\u001b[0m\u001b[1;33m(\u001b[0m\u001b[1;33m)\u001b[0m\u001b[1;33m\u001b[0m\u001b[0m\n\u001b[0m\u001b[0;32m    441\u001b[0m \u001b[1;33m\u001b[0m\u001b[0m\n",
      "\u001b[1;31mKeyboardInterrupt\u001b[0m: ",
      "\nDuring handling of the above exception, another exception occurred:\n",
      "\u001b[1;31mFileNotFoundError\u001b[0m                         Traceback (most recent call last)",
      "\u001b[1;32mC:\\ProgramData\\Anaconda3\\lib\\shutil.py\u001b[0m in \u001b[0;36mmove\u001b[1;34m(src, dst, copy_function)\u001b[0m\n\u001b[0;32m    543\u001b[0m     \u001b[1;32mtry\u001b[0m\u001b[1;33m:\u001b[0m\u001b[1;33m\u001b[0m\u001b[0m\n\u001b[1;32m--> 544\u001b[1;33m         \u001b[0mos\u001b[0m\u001b[1;33m.\u001b[0m\u001b[0mrename\u001b[0m\u001b[1;33m(\u001b[0m\u001b[0msrc\u001b[0m\u001b[1;33m,\u001b[0m \u001b[0mreal_dst\u001b[0m\u001b[1;33m)\u001b[0m\u001b[1;33m\u001b[0m\u001b[0m\n\u001b[0m\u001b[0;32m    545\u001b[0m     \u001b[1;32mexcept\u001b[0m \u001b[0mOSError\u001b[0m\u001b[1;33m:\u001b[0m\u001b[1;33m\u001b[0m\u001b[0m\n",
      "\u001b[1;31mFileNotFoundError\u001b[0m: [WinError 2] The system cannot find the file specified: 'd:\\\\data/2018-07-19/20-04-21-Res MISiS Nb 18.07.18 sample #1 res 0/' -> 'd:\\\\data/unfinished/2018-07-19/20-04-21-Res MISiS Nb 18.07.18 sample #1 res 0\\\\20-04-21-Res MISiS Nb 18.07.18 sample #1 res 0'",
      "\nDuring handling of the above exception, another exception occurred:\n",
      "\u001b[1;31mFileNotFoundError\u001b[0m                         Traceback (most recent call last)",
      "\u001b[1;32m<ipython-input-19-e8fa52afd8f6>\u001b[0m in \u001b[0;36m<module>\u001b[1;34m()\u001b[0m\n\u001b[0;32m     21\u001b[0m         \u001b[0mpna\u001b[0m\u001b[1;33m.\u001b[0m\u001b[0mset_power\u001b[0m\u001b[1;33m(\u001b[0m\u001b[0mpower\u001b[0m\u001b[1;33m)\u001b[0m\u001b[1;33m\u001b[0m\u001b[0m\n\u001b[0;32m     22\u001b[0m \u001b[1;33m\u001b[0m\u001b[0m\n\u001b[1;32m---> 23\u001b[1;33m     \u001b[0mmeasurement\u001b[0m \u001b[1;33m=\u001b[0m \u001b[0msweep\u001b[0m\u001b[1;33m.\u001b[0m\u001b[0msweep_vna\u001b[0m\u001b[1;33m(\u001b[0m\u001b[0mpna\u001b[0m\u001b[1;33m,\u001b[0m \u001b[1;33m(\u001b[0m\u001b[0mpowers\u001b[0m\u001b[1;33m,\u001b[0m \u001b[0mset_power\u001b[0m\u001b[1;33m,\u001b[0m \u001b[1;34m'Power'\u001b[0m\u001b[1;33m)\u001b[0m\u001b[1;33m,\u001b[0m \u001b[0mfilename\u001b[0m\u001b[1;33m=\u001b[0m\u001b[0msample_name\u001b[0m\u001b[1;33m+\u001b[0m\u001b[1;34m' res {0}'\u001b[0m\u001b[1;33m.\u001b[0m\u001b[0mformat\u001b[0m\u001b[1;33m(\u001b[0m\u001b[0mresonator_id\u001b[0m\u001b[1;33m)\u001b[0m\u001b[1;33m)\u001b[0m\u001b[1;33m\u001b[0m\u001b[0m\n\u001b[0m\u001b[0;32m     24\u001b[0m \u001b[1;33m\u001b[0m\u001b[0m\n\u001b[0;32m     25\u001b[0m     \u001b[0mfitdata\u001b[0m \u001b[1;33m=\u001b[0m \u001b[0mresonator_quality_factor_fit\u001b[0m\u001b[1;33m.\u001b[0m\u001b[0mresonator_quality_factor_fit\u001b[0m\u001b[1;33m(\u001b[0m\u001b[0mmeasurement\u001b[0m\u001b[1;33m,\u001b[0m \u001b[0mpowers\u001b[0m\u001b[1;33m,\u001b[0m \u001b[0mresonator_type\u001b[0m\u001b[1;33m=\u001b[0m\u001b[1;34m'reflection_port'\u001b[0m\u001b[1;33m)\u001b[0m\u001b[1;33m\u001b[0m\u001b[0m\n",
      "\u001b[1;32mD:\\qtlab_replacement\\qsweepy\\sweep.py\u001b[0m in \u001b[0;36msweep_vna\u001b[1;34m(measurer, filename, root_dir, plot, header, output, *params)\u001b[0m\n\u001b[0;32m    297\u001b[0m \u001b[1;33m\u001b[0m\u001b[0m\n\u001b[0;32m    298\u001b[0m \u001b[1;32mdef\u001b[0m \u001b[0msweep_vna\u001b[0m\u001b[1;33m(\u001b[0m\u001b[0mmeasurer\u001b[0m\u001b[1;33m,\u001b[0m \u001b[1;33m*\u001b[0m\u001b[0mparams\u001b[0m\u001b[1;33m,\u001b[0m \u001b[0mfilename\u001b[0m\u001b[1;33m=\u001b[0m\u001b[1;32mNone\u001b[0m\u001b[1;33m,\u001b[0m \u001b[0mroot_dir\u001b[0m\u001b[1;33m=\u001b[0m\u001b[1;32mNone\u001b[0m\u001b[1;33m,\u001b[0m \u001b[0mplot\u001b[0m\u001b[1;33m=\u001b[0m\u001b[1;32mTrue\u001b[0m\u001b[1;33m,\u001b[0m \u001b[0mheader\u001b[0m\u001b[1;33m=\u001b[0m\u001b[1;32mNone\u001b[0m\u001b[1;33m,\u001b[0m \u001b[0moutput\u001b[0m\u001b[1;33m=\u001b[0m\u001b[1;32mTrue\u001b[0m\u001b[1;33m)\u001b[0m\u001b[1;33m:\u001b[0m\u001b[1;33m\u001b[0m\u001b[0m\n\u001b[1;32m--> 299\u001b[1;33m         \u001b[1;32mreturn\u001b[0m \u001b[0msweep\u001b[0m\u001b[1;33m(\u001b[0m\u001b[0mmeasurer\u001b[0m\u001b[1;33m,\u001b[0m \u001b[1;33m*\u001b[0m\u001b[0mparams\u001b[0m\u001b[1;33m,\u001b[0m \u001b[0mfilename\u001b[0m\u001b[1;33m=\u001b[0m\u001b[0mfilename\u001b[0m\u001b[1;33m,\u001b[0m \u001b[0mroot_dir\u001b[0m\u001b[1;33m=\u001b[0m\u001b[0mroot_dir\u001b[0m\u001b[1;33m,\u001b[0m \u001b[0mplot\u001b[0m\u001b[1;33m=\u001b[0m\u001b[0mplot\u001b[0m\u001b[1;33m,\u001b[0m \u001b[0mheader\u001b[0m\u001b[1;33m=\u001b[0m\u001b[0mheader\u001b[0m\u001b[1;33m,\u001b[0m \u001b[0moutput\u001b[0m\u001b[1;33m=\u001b[0m\u001b[0moutput\u001b[0m\u001b[1;33m)\u001b[0m\u001b[1;33m[\u001b[0m\u001b[1;34m'S-parameter'\u001b[0m\u001b[1;33m]\u001b[0m\u001b[1;33m\u001b[0m\u001b[0m\n\u001b[0m\u001b[0;32m    300\u001b[0m \u001b[1;33m\u001b[0m\u001b[0m\n\u001b[0;32m    301\u001b[0m \u001b[1;32mdef\u001b[0m \u001b[0msweep_state_print\u001b[0m\u001b[1;33m(\u001b[0m\u001b[0mmessage\u001b[0m\u001b[1;33m,\u001b[0m \u001b[0mwidget\u001b[0m\u001b[1;33m=\u001b[0m\u001b[1;32mNone\u001b[0m\u001b[1;33m)\u001b[0m\u001b[1;33m:\u001b[0m\u001b[1;33m\u001b[0m\u001b[0m\n",
      "\u001b[1;32mD:\\qtlab_replacement\\qsweepy\\sweep.py\u001b[0m in \u001b[0;36msweep\u001b[1;34m(measurer, filename, root_dir, plot, plot_separate_thread, header, output, save, time_war_label, bot, *params)\u001b[0m\n\u001b[0;32m    279\u001b[0m                 \u001b[0mpathlib\u001b[0m\u001b[1;33m.\u001b[0m\u001b[0mPath\u001b[0m\u001b[1;33m(\u001b[0m\u001b[0mdirectory_to\u001b[0m\u001b[1;33m)\u001b[0m\u001b[1;33m.\u001b[0m\u001b[0mparent\u001b[0m\u001b[1;33m.\u001b[0m\u001b[0mmkdir\u001b[0m\u001b[1;33m(\u001b[0m\u001b[0mparents\u001b[0m\u001b[1;33m=\u001b[0m\u001b[1;32mTrue\u001b[0m\u001b[1;33m,\u001b[0m \u001b[0mexist_ok\u001b[0m\u001b[1;33m=\u001b[0m\u001b[1;32mTrue\u001b[0m\u001b[1;33m)\u001b[0m \u001b[1;31m# create top-level directory for moving\u001b[0m\u001b[1;33m\u001b[0m\u001b[0m\n\u001b[0;32m    280\u001b[0m                 \u001b[0msh\u001b[0m\u001b[1;33m.\u001b[0m\u001b[0mmove\u001b[0m\u001b[1;33m(\u001b[0m\u001b[0mdata_dir\u001b[0m\u001b[1;33m,\u001b[0m\u001b[0mdirectory_to\u001b[0m\u001b[1;33m)\u001b[0m\u001b[1;33m\u001b[0m\u001b[0m\n\u001b[1;32m--> 281\u001b[1;33m                 \u001b[0mdirectory_to\u001b[0m \u001b[1;33m=\u001b[0m \u001b[0msh\u001b[0m\u001b[1;33m.\u001b[0m\u001b[0mmove\u001b[0m\u001b[1;33m(\u001b[0m\u001b[0mdata_dir\u001b[0m\u001b[1;33m,\u001b[0m\u001b[0mdirectory_to\u001b[0m\u001b[1;33m)\u001b[0m\u001b[1;33m\u001b[0m\u001b[0m\n\u001b[0m\u001b[0;32m    282\u001b[0m                 \u001b[0mdata_dir\u001b[0m \u001b[1;33m=\u001b[0m \u001b[0mdirectory_to\u001b[0m\u001b[1;33m\u001b[0m\u001b[0m\n\u001b[0;32m    283\u001b[0m         \u001b[1;32mfinally\u001b[0m\u001b[1;33m:\u001b[0m\u001b[1;33m\u001b[0m\u001b[0m\n",
      "\u001b[1;32mC:\\ProgramData\\Anaconda3\\lib\\shutil.py\u001b[0m in \u001b[0;36mmove\u001b[1;34m(src, dst, copy_function)\u001b[0m\n\u001b[0;32m    556\u001b[0m             \u001b[0mrmtree\u001b[0m\u001b[1;33m(\u001b[0m\u001b[0msrc\u001b[0m\u001b[1;33m)\u001b[0m\u001b[1;33m\u001b[0m\u001b[0m\n\u001b[0;32m    557\u001b[0m         \u001b[1;32melse\u001b[0m\u001b[1;33m:\u001b[0m\u001b[1;33m\u001b[0m\u001b[0m\n\u001b[1;32m--> 558\u001b[1;33m             \u001b[0mcopy_function\u001b[0m\u001b[1;33m(\u001b[0m\u001b[0msrc\u001b[0m\u001b[1;33m,\u001b[0m \u001b[0mreal_dst\u001b[0m\u001b[1;33m)\u001b[0m\u001b[1;33m\u001b[0m\u001b[0m\n\u001b[0m\u001b[0;32m    559\u001b[0m             \u001b[0mos\u001b[0m\u001b[1;33m.\u001b[0m\u001b[0munlink\u001b[0m\u001b[1;33m(\u001b[0m\u001b[0msrc\u001b[0m\u001b[1;33m)\u001b[0m\u001b[1;33m\u001b[0m\u001b[0m\n\u001b[0;32m    560\u001b[0m     \u001b[1;32mreturn\u001b[0m \u001b[0mreal_dst\u001b[0m\u001b[1;33m\u001b[0m\u001b[0m\n",
      "\u001b[1;32mC:\\ProgramData\\Anaconda3\\lib\\shutil.py\u001b[0m in \u001b[0;36mcopy2\u001b[1;34m(src, dst, follow_symlinks)\u001b[0m\n\u001b[0;32m    255\u001b[0m     \u001b[1;32mif\u001b[0m \u001b[0mos\u001b[0m\u001b[1;33m.\u001b[0m\u001b[0mpath\u001b[0m\u001b[1;33m.\u001b[0m\u001b[0misdir\u001b[0m\u001b[1;33m(\u001b[0m\u001b[0mdst\u001b[0m\u001b[1;33m)\u001b[0m\u001b[1;33m:\u001b[0m\u001b[1;33m\u001b[0m\u001b[0m\n\u001b[0;32m    256\u001b[0m         \u001b[0mdst\u001b[0m \u001b[1;33m=\u001b[0m \u001b[0mos\u001b[0m\u001b[1;33m.\u001b[0m\u001b[0mpath\u001b[0m\u001b[1;33m.\u001b[0m\u001b[0mjoin\u001b[0m\u001b[1;33m(\u001b[0m\u001b[0mdst\u001b[0m\u001b[1;33m,\u001b[0m \u001b[0mos\u001b[0m\u001b[1;33m.\u001b[0m\u001b[0mpath\u001b[0m\u001b[1;33m.\u001b[0m\u001b[0mbasename\u001b[0m\u001b[1;33m(\u001b[0m\u001b[0msrc\u001b[0m\u001b[1;33m)\u001b[0m\u001b[1;33m)\u001b[0m\u001b[1;33m\u001b[0m\u001b[0m\n\u001b[1;32m--> 257\u001b[1;33m     \u001b[0mcopyfile\u001b[0m\u001b[1;33m(\u001b[0m\u001b[0msrc\u001b[0m\u001b[1;33m,\u001b[0m \u001b[0mdst\u001b[0m\u001b[1;33m,\u001b[0m \u001b[0mfollow_symlinks\u001b[0m\u001b[1;33m=\u001b[0m\u001b[0mfollow_symlinks\u001b[0m\u001b[1;33m)\u001b[0m\u001b[1;33m\u001b[0m\u001b[0m\n\u001b[0m\u001b[0;32m    258\u001b[0m     \u001b[0mcopystat\u001b[0m\u001b[1;33m(\u001b[0m\u001b[0msrc\u001b[0m\u001b[1;33m,\u001b[0m \u001b[0mdst\u001b[0m\u001b[1;33m,\u001b[0m \u001b[0mfollow_symlinks\u001b[0m\u001b[1;33m=\u001b[0m\u001b[0mfollow_symlinks\u001b[0m\u001b[1;33m)\u001b[0m\u001b[1;33m\u001b[0m\u001b[0m\n\u001b[0;32m    259\u001b[0m     \u001b[1;32mreturn\u001b[0m \u001b[0mdst\u001b[0m\u001b[1;33m\u001b[0m\u001b[0m\n",
      "\u001b[1;32mC:\\ProgramData\\Anaconda3\\lib\\shutil.py\u001b[0m in \u001b[0;36mcopyfile\u001b[1;34m(src, dst, follow_symlinks)\u001b[0m\n\u001b[0;32m    118\u001b[0m         \u001b[0mos\u001b[0m\u001b[1;33m.\u001b[0m\u001b[0msymlink\u001b[0m\u001b[1;33m(\u001b[0m\u001b[0mos\u001b[0m\u001b[1;33m.\u001b[0m\u001b[0mreadlink\u001b[0m\u001b[1;33m(\u001b[0m\u001b[0msrc\u001b[0m\u001b[1;33m)\u001b[0m\u001b[1;33m,\u001b[0m \u001b[0mdst\u001b[0m\u001b[1;33m)\u001b[0m\u001b[1;33m\u001b[0m\u001b[0m\n\u001b[0;32m    119\u001b[0m     \u001b[1;32melse\u001b[0m\u001b[1;33m:\u001b[0m\u001b[1;33m\u001b[0m\u001b[0m\n\u001b[1;32m--> 120\u001b[1;33m         \u001b[1;32mwith\u001b[0m \u001b[0mopen\u001b[0m\u001b[1;33m(\u001b[0m\u001b[0msrc\u001b[0m\u001b[1;33m,\u001b[0m \u001b[1;34m'rb'\u001b[0m\u001b[1;33m)\u001b[0m \u001b[1;32mas\u001b[0m \u001b[0mfsrc\u001b[0m\u001b[1;33m:\u001b[0m\u001b[1;33m\u001b[0m\u001b[0m\n\u001b[0m\u001b[0;32m    121\u001b[0m             \u001b[1;32mwith\u001b[0m \u001b[0mopen\u001b[0m\u001b[1;33m(\u001b[0m\u001b[0mdst\u001b[0m\u001b[1;33m,\u001b[0m \u001b[1;34m'wb'\u001b[0m\u001b[1;33m)\u001b[0m \u001b[1;32mas\u001b[0m \u001b[0mfdst\u001b[0m\u001b[1;33m:\u001b[0m\u001b[1;33m\u001b[0m\u001b[0m\n\u001b[0;32m    122\u001b[0m                 \u001b[0mcopyfileobj\u001b[0m\u001b[1;33m(\u001b[0m\u001b[0mfsrc\u001b[0m\u001b[1;33m,\u001b[0m \u001b[0mfdst\u001b[0m\u001b[1;33m)\u001b[0m\u001b[1;33m\u001b[0m\u001b[0m\n",
      "\u001b[1;31mFileNotFoundError\u001b[0m: [Errno 2] No such file or directory: 'd:\\\\data/2018-07-19/20-04-21-Res MISiS Nb 18.07.18 sample #1 res 0/'"
     ]
    }
   ],
   "source": [
    "resonator_freq_span = 1.0e6\n",
    "resonator_freq_spans = None\n",
    "\n",
    "for resonator_id, resonator_freq in enumerate(resonator_freqs):\n",
    "    if resonator_id not in resonator_ids:\n",
    "        continue\n",
    "    if resonator_freq_spans:\n",
    "        resonator_freq_span = resonator_freq_spans[resonator_id]\n",
    "    pna.set_xlim(resonator_freq-resonator_freq_span/2, resonator_freq+resonator_freq_span/2)\n",
    "\n",
    "    pna.set_nop(101)\n",
    "    pna.set_average(1)\n",
    "    pna.set_averages(10)\n",
    "    pna.set_bandwidth(1)\n",
    "\n",
    "    ref_pow = np.array(\t[-80.,\t-30.,\t20.]\t)\n",
    "    ref_bw = np.array(\t[1.,\t100000.,\t100000.]\t)\n",
    "    def set_power(power):\n",
    "        bw = 10**np.interp(power, ref_pow, np.log10(ref_bw))\n",
    "        pna.set_bandwidth(bw)\n",
    "        pna.set_power(power)\n",
    "        \n",
    "    measurement = sweep.sweep_vna(pna, (powers, set_power, 'Power'), filename=sample_name+' res {0}'.format(resonator_id))\n",
    "    \n",
    "    fitdata = resonator_quality_factor_fit.resonator_quality_factor_fit(measurement, powers, resonator_type=resonator_type)\n",
    "    fitdata['single_photon_limit'] =  port1.get_single_photon_limit()\n",
    "    fitdata.to_csv(save_path+'/'+'fit_total {0}.csv'.format(resonator_id))\n",
    "    plt.close()\n",
    "    plt.close()\n",
    "    #print(fitdata)"
   ]
  },
  {
   "cell_type": "markdown",
   "metadata": {},
   "source": [
    "# Загрузить фиты и построить графики"
   ]
  },
  {
   "cell_type": "code",
   "execution_count": 58,
   "metadata": {},
   "outputs": [
    {
     "name": "stdout",
     "output_type": "stream",
     "text": [
      "    Unnamed: 0            Qc        Qc_err            Qi        Qi_err  \\\n",
      "0            0  5.158398e+04  1.852413e+12  1.327361e+04  7.488230e+11   \n",
      "1            1 -1.405911e+06  1.993246e+15 -5.810954e+05  4.135797e+16   \n",
      "2            2  2.108017e+05  2.667873e+04  8.764013e+04  1.508747e+04   \n",
      "3            3  1.839906e+05  1.910601e+04  9.584221e+04  1.879311e+04   \n",
      "4            4  1.503769e+05  1.282320e+04  9.287473e+04  1.471023e+04   \n",
      "5            5  1.339931e+05  1.050708e+04  1.066723e+05  1.691748e+04   \n",
      "6            6  1.306303e+05  9.882630e+03  1.130886e+05  1.465649e+04   \n",
      "7            7  1.194806e+05  8.246011e+03  1.211492e+05  1.498569e+04   \n",
      "8            8  1.169988e+05  8.032151e+03  1.141994e+05  1.270524e+04   \n",
      "9            9  1.156917e+05  6.540766e+03  1.239001e+05  1.270207e+04   \n",
      "10          10  1.166620e+05  7.311290e+03  1.171056e+05  1.374694e+04   \n",
      "11          11  6.559604e+04  9.943949e+12  6.274965e+04  5.433931e+13   \n",
      "12          12  4.566839e+04  5.171786e+12  4.289194e+04  1.907547e+13   \n",
      "13          13  3.039040e+04  2.400560e+12  2.764091e+04  5.840645e+12   \n",
      "14          14  5.172469e+04  7.392197e+12  4.475900e+04  2.224263e+13   \n",
      "15          15  3.815304e+04  3.646313e+12  3.523167e+04  1.083150e+13   \n",
      "16          16  1.167007e+05  9.052427e+03  1.081500e+05  1.659318e+04   \n",
      "17          17  1.167713e+05  8.563236e+03  1.104230e+05  1.667229e+04   \n",
      "18          18  1.173110e+05  8.146847e+03  1.026022e+05  1.462853e+04   \n",
      "19          19  1.186130e+05  8.802759e+03  1.009222e+05  1.394920e+04   \n",
      "20          20  1.165058e+05  7.710758e+03  9.684750e+04  1.220213e+04   \n",
      "21          21  2.307480e+07  1.342574e+18  2.004088e+07  1.625699e+21   \n",
      "22          22  3.634737e+04  3.331683e+12  3.047134e+04  7.487440e+12   \n",
      "23          23  3.763193e+04  3.657764e+12  3.068552e+04  8.146543e+12   \n",
      "24          24  3.331157e+04  2.842980e+12  2.695773e+04  5.791943e+12   \n",
      "25          25  3.851014e+04  4.085264e+12  3.204594e+04  9.157528e+12   \n",
      "\n",
      "              Ql        Ql_err  chi_square            fr        fr_err  power  \\\n",
      "0   1.055706e+04  5.349565e+11    0.025226 -1.900534e+13  2.094525e+24  -15.0   \n",
      "1  -4.111554e+05  2.067314e+16    0.057060  5.378661e+20  6.620975e+40  -16.0   \n",
      "2   6.190382e+04  9.137668e+03    0.022827  6.194704e+09  5.268105e+03  -17.0   \n",
      "3   6.301643e+04  9.305694e+03    0.023909  6.194709e+09  3.970511e+03  -18.0   \n",
      "4   5.741468e+04  6.723389e+03    0.025056  6.194723e+09  3.984777e+03  -19.0   \n",
      "5   5.939095e+04  6.319225e+03    0.027403  6.194749e+09  3.314586e+03  -20.0   \n",
      "6   6.061409e+04  5.382001e+03    0.023034  6.194764e+09  3.076829e+03  -21.0   \n",
      "7   6.015456e+04  4.910160e+03    0.023769  6.194779e+09  3.212436e+03  -22.0   \n",
      "8   5.779108e+04  4.264252e+03    0.021547  6.194793e+09  3.059398e+03  -23.0   \n",
      "9   5.982763e+04  4.002786e+03    0.017485  6.194801e+09  2.716221e+03  -24.0   \n",
      "10  5.844167e+04  4.701519e+03    0.018564  6.194811e+09  2.850045e+03  -25.0   \n",
      "11  3.207064e+04  1.560993e+13    0.273624 -1.059002e+15  2.744400e+28  -26.0   \n",
      "12  2.211832e+04  5.931213e+12    0.276666  3.768929e+14  2.596704e+27  -27.0   \n",
      "13  1.447526e+04  2.041162e+12    0.281863 -5.702419e+14  4.146365e+27  -28.0   \n",
      "14  2.399520e+04  7.582773e+12    0.272589 -7.104810e+14  1.164532e+28  -29.0   \n",
      "15  1.831710e+04  3.557244e+12    0.276877  1.895896e+14  5.545088e+26  -30.0   \n",
      "16  5.613139e+04  5.850489e+03    0.033750  6.194849e+09  3.975403e+03  -31.0   \n",
      "17  5.675422e+04  5.755708e+03    0.031785  6.194849e+09  3.798426e+03  -32.0   \n",
      "18  5.473233e+04  5.315568e+03    0.026704  6.194848e+09  3.488242e+03  -33.0   \n",
      "19  5.452741e+04  5.337872e+03    0.028029  6.194852e+09  4.004502e+03  -34.0   \n",
      "20  5.288550e+04  4.712118e+03    0.023166  6.194852e+09  3.632515e+03  -35.0   \n",
      "21  1.072555e+07  4.657589e+20    0.267519  1.504859e+22  2.126964e+45  -36.0   \n",
      "22  1.657549e+04  2.751745e+12    0.262615 -2.149321e+15  6.835378e+28  -37.0   \n",
      "23  1.690279e+04  3.053675e+12    0.260871  1.804099e+15  5.106772e+28  -38.0   \n",
      "24  1.489986e+04  2.232489e+12    0.258007 -4.863179e+14  3.258314e+27  -39.0   \n",
      "25  1.749096e+04  3.408764e+12    0.261300  9.211581e+14  1.453040e+28  -40.0   \n",
      "\n",
      "    single_photon_limit    theta0  \n",
      "0            -67.594438  0.251813  \n",
      "1                   NaN  0.191487  \n",
      "2           -146.581437 -0.053014  \n",
      "3           -147.326943 -0.022712  \n",
      "4           -147.394450 -0.012042  \n",
      "5           -148.189349 -0.084595  \n",
      "6           -148.476780 -0.098363  \n",
      "7           -148.798120 -0.129913  \n",
      "8           -148.541107 -0.163609  \n",
      "9           -148.890710 -0.160381  \n",
      "10          -148.650840 -0.186973  \n",
      "11           -41.281681 -0.211069  \n",
      "12           -48.600768 -0.276379  \n",
      "13           -43.090222 -0.319742  \n",
      "14           -43.260699 -0.369617  \n",
      "15           -53.711794 -0.317865  \n",
      "16          -148.299008 -0.312907  \n",
      "17          -148.392229 -0.301685  \n",
      "18          -148.057121 -0.286129  \n",
      "19          -147.976597 -0.299305  \n",
      "20          -147.788879 -0.271445  \n",
      "21            76.746664 -0.244186  \n",
      "22           -31.964814 -0.317753  \n",
      "23           -33.504637 -0.283188  \n",
      "24           -44.325530 -0.303855  \n",
      "25           -39.540080 -0.329423   0\n",
      "    Unnamed: 0            Qc        Qc_err            Qi        Qi_err  \\\n",
      "0            0  1.164308e+06  1.915893e+06  7.216319e+06  6.488001e+07   \n",
      "1            1  1.571244e+06  4.276212e+06  4.550868e+06  8.398821e+07   \n",
      "2            2  5.580535e+08  4.616891e+21  6.615581e+08  5.803118e+25   \n",
      "3            3  3.860266e+08  4.222168e+21  4.163141e+08  1.573182e+25   \n",
      "4            4  3.908708e+08  4.745798e+21  4.153380e+08  1.602489e+25   \n",
      "5            5 -7.757079e+06  2.816148e+18 -8.046120e+06  1.170510e+20   \n",
      "6            6 -3.391647e+07  2.156307e+20 -3.378913e+07  7.148710e+21   \n",
      "7            7  2.901716e+05  1.256884e+20  2.892022e+05  1.153639e+20   \n",
      "8            8 -1.115672e+06  5.431143e+17 -1.111369e+06  7.976701e+17   \n",
      "9            9  3.661276e+04  1.239666e+07  3.685340e+04  5.969656e+07   \n",
      "10          10  3.141829e+04  7.728528e+06  3.165002e+04  3.674151e+07   \n",
      "11          11  1.528055e+04  9.415319e+05  1.557276e+04  3.771013e+06   \n",
      "12          12  3.885105e+04  1.876837e+07  3.906905e+04  9.100801e+07   \n",
      "13          13  1.895858e+04  2.243816e+06  1.919435e+04  9.964731e+06   \n",
      "14          14  1.457634e+04  8.584877e+05  1.487851e+04  3.384951e+06   \n",
      "15          15  1.269377e+04  5.356539e+05  1.302979e+04  1.941973e+06   \n",
      "16          16  1.577933e+19  1.654436e+43  1.625121e+19  1.051198e+57   \n",
      "17          17  1.150398e+19  2.070145e+42  1.172985e+19  6.500164e+55   \n",
      "18          18  2.874526e+19  6.850473e+43  2.932191e+19  5.653504e+57   \n",
      "19          19  1.321831e+04  7.762015e+05  1.348361e+04  3.003524e+06   \n",
      "20          20  3.879359e+19  3.067457e+44  3.929718e+19  2.192810e+58   \n",
      "21          21  2.023868e+04  3.245411e+06  2.046244e+04  1.472620e+07   \n",
      "22          22  2.618853e+04  7.501726e+06  2.639891e+04  3.545190e+07   \n",
      "23          23  1.667709e+04  1.930695e+06  1.689973e+04  8.393814e+06   \n",
      "24          24  2.041844e+04  3.651676e+06  2.063215e+04  1.670014e+07   \n",
      "25          25  2.336757e+04  5.491605e+06  2.356759e+04  2.562468e+07   \n",
      "\n",
      "              Ql        Ql_err  chi_square            fr        fr_err  power  \\\n",
      "0   1.002553e+06  2.111299e+06    0.654641  6.385455e+09  2.286931e+04  -15.0   \n",
      "1   1.167983e+06  7.695004e+06    0.785424  6.385374e+09  1.029756e+04  -16.0   \n",
      "2   3.027069e+08  1.215023e+25    0.852278  1.184550e+12  1.808093e+27  -17.0   \n",
      "3   2.002993e+08  3.641976e+24    0.888093  3.835772e+18  2.520053e+40  -18.0   \n",
      "4   2.013666e+08  3.767050e+24    0.911045 -2.685651e+12  1.374648e+28  -19.0   \n",
      "5  -3.949478e+06  2.813176e+19    0.925414 -3.641342e+18  7.538118e+38  -20.0   \n",
      "6  -1.692634e+07  1.810555e+21    0.994203  9.578932e+10  8.526552e+24  -21.0   \n",
      "7   1.448431e+05  6.017404e+19    1.017423 -1.318097e+08  5.827218e+22  -22.0   \n",
      "8  -5.567580e+05  3.322895e+17    1.017551  5.916026e+10  2.380250e+23  -23.0   \n",
      "9   1.836634e+04  1.171548e+07    1.005633  6.383808e+09  4.243443e+07  -24.0   \n",
      "10  1.576686e+04  7.177013e+06    0.999135  6.383817e+09  3.811473e+07  -25.0   \n",
      "11  7.712635e+03  6.858525e+05    0.934309  6.383859e+09  3.284416e+07  -26.0   \n",
      "12  1.947987e+04  1.791708e+07    1.010037  6.383723e+09  5.400115e+07  -27.0   \n",
      "13  9.537868e+03  1.894039e+06    0.971293  6.383724e+09  4.032661e+07  -28.0   \n",
      "14  7.362939e+03  6.105603e+05    0.928013  6.383855e+09  3.366943e+07  -29.0   \n",
      "15  6.429795e+03  3.359717e+05    0.901339  6.383872e+09  3.044362e+07  -30.0   \n",
      "16  8.005898e+18  2.551132e+56    0.990134  3.488818e+09  1.659364e+33  -31.0   \n",
      "17  5.807907e+18  1.593598e+55    1.001110  4.783061e+09  2.159903e+32  -32.0   \n",
      "18  1.451536e+19  1.385444e+57    1.000869  3.569148e+09  3.751510e+33  -33.0   \n",
      "19  6.674822e+03  5.387042e+05    0.925937  6.383754e+09  3.784501e+07  -34.0   \n",
      "20  1.952188e+19  5.411548e+57    1.008822  3.188411e+09  1.262258e+34  -35.0   \n",
      "21  1.017497e+04  2.822724e+06    0.982976  6.383648e+09  4.721437e+07  -36.0   \n",
      "22  1.314665e+04  6.905674e+06    0.999908  6.383604e+09  5.345562e+07  -37.0   \n",
      "23  8.393837e+03  1.582737e+06    0.966930  6.383634e+09  4.752133e+07  -38.0   \n",
      "24  1.026237e+04  3.211301e+06    0.986592  6.383587e+09  5.052567e+07  -39.0   \n",
      "25  1.173358e+04  4.970030e+06    0.995003  6.383584e+09  5.272743e+07  -40.0   \n",
      "\n",
      "    single_photon_limit    theta0  \n",
      "0           -163.083868 -6.447747  \n",
      "1           -163.108809 -0.332233  \n",
      "2           -140.508863 -0.928394  \n",
      "3             -8.316603 -1.119193  \n",
      "4           -131.404664 -1.159452  \n",
      "5                   NaN -1.255030  \n",
      "6                   NaN -1.653488  \n",
      "7           -186.018697 -1.825800  \n",
      "8                   NaN -1.871073  \n",
      "9           -143.368775  1.429673  \n",
      "10          -142.707714  1.411817  \n",
      "11          -139.627241  1.266918  \n",
      "12          -143.622454  1.442895  \n",
      "13          -140.535727  1.338656  \n",
      "14          -139.429119  1.254438  \n",
      "15          -138.852592  1.209245  \n",
      "16          -295.059989  0.894982  \n",
      "17          -290.904035  0.931953  \n",
      "18          -297.425845  0.932319  \n",
      "19          -139.001752  1.248919  \n",
      "20          -299.677588  0.980967  \n",
      "21          -140.813704  1.360281  \n",
      "22          -141.920112  1.404928  \n",
      "23          -139.982889  1.324764  \n",
      "24          -140.849674  1.368239  \n",
      "25          -141.427422  1.391621   1\n",
      "    Unnamed: 0            Qc       Qc_err             Qi        Qi_err  \\\n",
      "0            0  99018.561962  8460.067615   73957.287162  14681.840885   \n",
      "1            1  88842.096167  6497.076057  103924.816383  18283.931573   \n",
      "2            2  84559.890603  5566.648318  111306.736853  16460.564522   \n",
      "3            3  83587.722248  5215.637550  118303.289106  18636.967602   \n",
      "4            4  82896.695381  4848.474617  132426.340160  18042.579860   \n",
      "5            5  82491.424627  4277.435235  130996.741952  20758.228970   \n",
      "6            6  81080.774285  4066.432164  121482.296848  18842.623361   \n",
      "7            7  84408.950621  4076.828928  130818.421161  18399.294929   \n",
      "8            8  83154.139312  4100.781682  132726.670736  18672.526053   \n",
      "9            9  84077.559166  4102.073690  127540.081396  16583.282917   \n",
      "10          10  83840.066431  4059.501986  131027.255691  19764.057998   \n",
      "11          11  85511.593780  4733.621208  117838.879256  15332.296221   \n",
      "12          12  83552.912392  4236.533855  125635.853462  16763.829993   \n",
      "13          13  84910.103825  4909.529996  124128.400836  17590.473273   \n",
      "14          14  84939.310127  4680.245048  123739.639914  16161.496378   \n",
      "15          15  84328.032292  4423.682482  115923.817005  17096.442515   \n",
      "16          16  83529.006717  4684.043424  112732.947108  15242.965094   \n",
      "17          17  85034.919156  4736.742491  112626.560257  15815.077822   \n",
      "18          18  84277.462146  4671.579246  115998.448034  17633.009194   \n",
      "19          19  86412.484626  4997.216147  115544.569807  15539.646460   \n",
      "20          20  84182.742532  4496.455281  109159.887727  15018.185863   \n",
      "21          21  85980.752463  4550.355449  116476.394505  15833.052222   \n",
      "22          22  84970.038550  4506.956213  109109.467851  14404.891402   \n",
      "23          23  84618.286805  4937.276270  106086.671868  14893.868390   \n",
      "24          24  85073.617427  5006.634035  105791.786830  13955.408281   \n",
      "25          25  85639.829693  4491.552473  108612.695710  14708.927811   \n",
      "\n",
      "              Ql       Ql_err  chi_square            fr       fr_err  power  \\\n",
      "0   42336.223574  5833.578005    0.029553  6.662140e+09  5940.629772  -15.0   \n",
      "1   47896.697670  5012.076459    0.029894  6.662161e+09  4569.429282  -16.0   \n",
      "2   48053.543444  3933.412618    0.024956  6.662181e+09  4081.259855  -17.0   \n",
      "3   48980.399893  3976.050584    0.024174  6.662199e+09  3764.460937  -18.0   \n",
      "4   50982.496847  3649.326622    0.020668  6.662205e+09  3542.721847  -19.0   \n",
      "5   50616.893846  3775.931506    0.021038  6.662219e+09  3067.021074  -20.0   \n",
      "6   48626.231007  3708.583607    0.019153  6.662227e+09  3008.147364  -21.0   \n",
      "7   51305.024824  3651.410580    0.018060  6.662232e+09  3075.644238  -22.0   \n",
      "8   51124.377690  3501.923920    0.018598  6.662240e+09  3151.563631  -23.0   \n",
      "9   50672.801715  3458.339790    0.017815  6.662246e+09  3316.264139  -24.0   \n",
      "10  51126.126174  3732.645644    0.018068  6.662245e+09  3030.217821  -25.0   \n",
      "11  49552.824855  3452.883967    0.017845  6.662251e+09  3416.017948  -26.0   \n",
      "12  50180.713170  3420.820663    0.018905  6.662254e+09  3319.216443  -27.0   \n",
      "13  50420.162638  3802.310952    0.021215  6.662259e+09  3663.367538  -28.0   \n",
      "14  50366.170846  3664.522989    0.019887  6.662259e+09  3788.071625  -29.0   \n",
      "15  48816.664706  3755.730706    0.018887  6.662258e+09  3132.517942  -30.0   \n",
      "16  47979.095860  3447.994322    0.019916  6.662260e+09  3617.752414  -31.0   \n",
      "17  48452.487934  3570.470176    0.019075  6.662263e+09  3313.395882  -32.0   \n",
      "18  48812.934139  3873.962745    0.021715  6.662266e+09  3459.552018  -33.0   \n",
      "19  49438.695717  3680.848401    0.019593  6.662265e+09  3612.343381  -34.0   \n",
      "20  47528.983706  3646.544807    0.018894  6.662262e+09  3443.025997  -35.0   \n",
      "21  49465.915102  3601.607186    0.018891  6.662263e+09  3366.035206  -36.0   \n",
      "22  47769.266634  3450.074960    0.018357  6.662264e+09  3509.630024  -37.0   \n",
      "23  47072.045157  3729.897478    0.020726  6.662262e+09  3713.127249  -38.0   \n",
      "24  47154.119075  3716.822337    0.020201  6.662263e+09  4093.726840  -39.0   \n",
      "25  47883.921940  3531.513427    0.017744  6.662266e+09  3340.772895  -40.0   \n",
      "\n",
      "    single_photon_limit    theta0  \n",
      "0           -145.931042 -0.085482  \n",
      "1           -147.473862 -0.047011  \n",
      "2           -147.716777 -0.092505  \n",
      "3           -147.932910 -0.114716  \n",
      "4           -148.316931 -0.073079  \n",
      "5           -148.275685 -0.091815  \n",
      "6           -148.002085 -0.081456  \n",
      "7           -148.293159 -0.077105  \n",
      "8           -148.327557 -0.103977  \n",
      "9           -148.202526 -0.099062  \n",
      "10          -148.292171 -0.085830  \n",
      "11          -147.934940 -0.118168  \n",
      "12          -148.144937 -0.125927  \n",
      "13          -148.116301 -0.143684  \n",
      "14          -148.105502 -0.124433  \n",
      "15          -147.865454 -0.125537  \n",
      "16          -147.756477 -0.132094  \n",
      "17          -147.764154 -0.138470  \n",
      "18          -147.867386 -0.140670  \n",
      "19          -147.869379 -0.148220  \n",
      "20          -147.640746 -0.127004  \n",
      "21          -147.895914 -0.139283  \n",
      "22          -147.644117 -0.117442  \n",
      "23          -147.534426 -0.149942  \n",
      "24          -147.526249 -0.158824  \n",
      "25          -147.630839 -0.129750   2\n",
      "    Unnamed: 0             Qc       Qc_err            Qi       Qi_err  \\\n",
      "0            0  111826.954118  6709.740062  50926.563232  5312.382853   \n",
      "1            1  115376.365457  6900.867428  58947.978258  7215.696248   \n",
      "2            2  114132.606271  5886.743036  60927.676323  5846.756122   \n",
      "3            3  112186.698152  5594.803895  61626.180287  5357.629291   \n",
      "4            4  112256.374468  5904.966209  62234.804383  5669.529635   \n",
      "5            5  111400.503033  6056.793302  61698.812196  5734.268405   \n",
      "6            6  107853.278767  5818.772108  59313.825770  4566.705776   \n",
      "7            7  107730.551873  5365.003246  56977.779836  4554.079286   \n",
      "8            8  102737.840293  5557.325005  50119.643692  4267.272537   \n",
      "9            9  101681.506782  5668.849749  49418.583402  4043.929861   \n",
      "10          10   96590.284499  5175.872906  43468.411386  3755.411952   \n",
      "11          11   98588.641671  5125.774785  42924.542850  3800.973385   \n",
      "12          12  102198.531689  5370.921450  45604.666982  3910.683213   \n",
      "13          13   96708.748481  4867.238248  42026.397442  3217.324411   \n",
      "14          14  103694.490670  5434.672746  47133.883414  3864.512160   \n",
      "15          15  101148.434720  5363.222017  44729.227532  3862.085770   \n",
      "16          16  103435.115369  5348.098265  45810.772150  4002.401166   \n",
      "17          17  103956.132663  5926.775243  45414.941543  4013.226899   \n",
      "18          18  103778.039477  5371.938585  46475.268436  3620.177415   \n",
      "19          19  104321.738825  5381.992996  45926.262152  3957.584878   \n",
      "20          20  101073.590151  5270.914392  44614.764151  3927.424808   \n",
      "21          21   98292.418801  5037.212747  40166.878692  2920.824026   \n",
      "22          22  101195.165117  5367.428538  42963.320268  3583.573299   \n",
      "23          23  100372.888479  5152.648776  43160.211851  3619.580604   \n",
      "24          24  100330.284557  5117.333659  43279.383257  3626.397235   \n",
      "25          25  101972.036255  5140.411969  44078.425485  3386.200663   \n",
      "\n",
      "              Ql       Ql_err  chi_square            fr       fr_err  power  \\\n",
      "0   34991.332554  3004.444344    0.010092  6.801562e+09  5263.118907  -15.0   \n",
      "1   39014.651296  3659.968944    0.011968  6.801573e+09  4496.489730  -16.0   \n",
      "2   39722.513809  2955.592675    0.009762  6.801595e+09  4135.988626  -17.0   \n",
      "3   39776.325829  2734.456723    0.008204  6.801612e+09  3873.570023  -18.0   \n",
      "4   40037.860663  2850.760334    0.008023  6.801627e+09  3475.967619  -19.0   \n",
      "5   39707.139835  2952.102023    0.007931  6.801643e+09  3625.829686  -20.0   \n",
      "6   38268.238259  2408.615648    0.007545  6.801644e+09  3891.509745  -21.0   \n",
      "7   37267.378053  2412.162108    0.007555  6.801655e+09  4073.320730  -22.0   \n",
      "8   33686.174958  2318.481161    0.007688  6.801661e+09  3950.315812  -23.0   \n",
      "9   33255.810881  2295.912835    0.007493  6.801666e+09  4608.168566  -24.0   \n",
      "10  29977.618997  2152.697401    0.007346  6.801667e+09  4467.509247  -25.0   \n",
      "11  29904.438857  2182.999939    0.006882  6.801672e+09  4240.645739  -26.0   \n",
      "12  31533.350060  2228.749462    0.006844  6.801677e+09  4168.872407  -27.0   \n",
      "13  29295.534832  1892.828157    0.006616  6.801681e+09  4720.048013  -28.0   \n",
      "14  32404.539687  2181.829533    0.006934  6.801679e+09  4057.416248  -29.0   \n",
      "15  31014.284718  2199.981282    0.007252  6.801682e+09  4312.130274  -30.0   \n",
      "16  31749.233304  2265.193430    0.007129  6.801690e+09  4122.167642  -31.0   \n",
      "17  31606.934027  2367.192489    0.006805  6.801682e+09  4476.346283  -32.0   \n",
      "18  32099.873936  2060.419086    0.006174  6.801683e+09  3789.610818  -33.0   \n",
      "19  31887.995143  2257.785908    0.007106  6.801685e+09  4295.487210  -34.0   \n",
      "20  30952.195239  2254.261185    0.006739  6.801684e+09  4172.003263  -35.0   \n",
      "21  28514.514618  1782.418993    0.006069  6.801688e+09  4806.320388  -36.0   \n",
      "22  30159.031408  2124.799372    0.006697  6.801687e+09  4618.233687  -37.0   \n",
      "23  30181.993706  2110.705144    0.007299  6.801684e+09  4772.015737  -38.0   \n",
      "24  30236.354584  2087.463912    0.007173  6.801690e+09  4459.720688  -39.0   \n",
      "25  30775.437120  1976.372398    0.006627  6.801687e+09  4479.930478  -40.0   \n",
      "\n",
      "    single_photon_limit    theta0  \n",
      "0           -143.567813  0.130969  \n",
      "1           -144.377440  0.116175  \n",
      "2           -144.580663  0.078260  \n",
      "3           -144.667084  0.060257  \n",
      "4           -144.721292  0.024596  \n",
      "5           -144.682464  0.004897  \n",
      "6           -144.502399  0.010220  \n",
      "7           -144.277138 -0.028818  \n",
      "8           -143.605671 -0.052219  \n",
      "9           -143.538866 -0.048670  \n",
      "10          -142.860542 -0.042378  \n",
      "11          -142.750372 -0.071803  \n",
      "12          -143.054876 -0.081449  \n",
      "13          -142.655287 -0.088695  \n",
      "14          -143.228478 -0.066564  \n",
      "15          -142.955558 -0.101670  \n",
      "16          -143.061890 -0.102922  \n",
      "17          -143.001061 -0.079726  \n",
      "18          -143.142925 -0.074890  \n",
      "19          -143.062706 -0.095929  \n",
      "20          -142.941364 -0.087600  \n",
      "21          -142.350027 -0.092145  \n",
      "22          -142.710658 -0.078663  \n",
      "23          -142.752706 -0.090794  \n",
      "24          -142.770173 -0.119951  \n",
      "25          -142.853182 -0.079430   3\n"
     ]
    },
    {
     "name": "stderr",
     "output_type": "stream",
     "text": [
      "C:\\ProgramData\\Anaconda3\\lib\\site-packages\\numpy\\core\\fromnumeric.py:51: FutureWarning: 'argmin' is deprecated, use 'idxmin' instead. The behavior of 'argmin'\n",
      "will be corrected to return the positional minimum in the future.\n",
      "Use 'series.values.argmin' to get the position of the minimum now.\n",
      "  return getattr(obj, method)(*args, **kwds)\n",
      "C:\\ProgramData\\Anaconda3\\lib\\site-packages\\numpy\\core\\fromnumeric.py:51: FutureWarning: 'argmax' is deprecated, use 'idxmax' instead. The behavior of 'argmax'\n",
      "will be corrected to return the positional maximum in the future.\n",
      "Use 'series.values.argmax' to get the position of the maximum now.\n",
      "  return getattr(obj, method)(*args, **kwds)\n"
     ]
    },
    {
     "name": "stdout",
     "output_type": "stream",
     "text": [
      "    Unnamed: 0            Qc        Qc_err            Qi        Qi_err  \\\n",
      "0            0  2.475531e+07  4.883960e+09  5.900407e+06  3.874412e+09   \n",
      "1            1  2.087097e+07  3.173442e+09  4.894654e+06  2.601262e+09   \n",
      "2            2  2.256110e+07  2.984890e+09  5.177675e+06  2.352654e+09   \n",
      "3            3  3.358623e+04  7.531248e+12  9.333259e+03  1.878743e+12   \n",
      "4            4  2.989085e+04  9.016832e+12  9.783343e+03  2.713698e+12   \n",
      "5            5 -4.389697e+06  7.271276e+16 -9.299567e+05  3.635161e+17   \n",
      "6            6 -1.324189e+04  1.391375e+04 -3.111518e+03  3.281576e+03   \n",
      "7            7  4.644671e+04  2.669603e+14  1.274373e+04  6.373102e+13   \n",
      "8            8 -2.829409e+08  3.419846e+20 -6.486864e+07  1.186261e+23   \n",
      "9            9  3.820830e+04  3.523312e+13  1.093645e+04  8.987145e+12   \n",
      "10          10  2.705755e+04  5.163966e+13  1.033563e+04  1.848281e+13   \n",
      "11          11 -4.242665e+08  4.781670e+20 -7.743135e+07  2.081022e+23   \n",
      "12          12  4.113223e+04  6.571069e+12  9.114090e+03  1.269097e+12   \n",
      "13          13 -7.161686e+05  1.650384e+15 -1.469967e+05  1.611453e+15   \n",
      "14          14  6.094898e+04  7.396839e+13  1.636715e+04  1.669039e+13   \n",
      "15          15 -5.838011e+06  1.723874e+17 -1.394169e+06  1.203955e+18   \n",
      "16          16  4.925034e+08  1.770600e+21  1.412176e+08  1.200197e+24   \n",
      "17          17  4.027697e+04  3.665280e+13  1.115225e+04  9.011111e+12   \n",
      "18          18  2.541183e+07  5.586729e+09  6.919495e+06  5.142467e+09   \n",
      "19          19 -6.167825e+08  1.719366e+21 -1.438288e+08  1.276641e+24   \n",
      "20          20 -2.346999e+06  2.455021e+16 -5.458702e+05  7.355609e+16   \n",
      "21          21  3.782137e+04  2.043843e+13  1.429307e+04  7.023552e+12   \n",
      "22          22  1.681796e+04  6.972982e+13  5.001037e+03  1.971329e+13   \n",
      "23          23 -9.630552e+08  3.866847e+21 -2.246074e+08  4.759901e+24   \n",
      "24          24  1.226168e+08  1.812155e+11  3.906965e+07  1.461185e+11   \n",
      "25          25  2.323961e+07  4.086581e+09  6.125204e+06  3.647954e+09   \n",
      "\n",
      "              Ql        Ql_err  chi_square            fr        fr_err  power  \\\n",
      "0   4.764736e+06  2.346026e+09    0.145313  7.075715e+09  5.237120e+04  -15.0   \n",
      "1   3.964825e+06  1.592570e+09    0.141230  7.075685e+09  7.936113e+04  -16.0   \n",
      "2   4.211218e+06  1.452693e+09    0.135309  7.075665e+09  4.368752e+04  -17.0   \n",
      "3   7.303652e+03  1.504102e+12    0.187934  3.620298e+14  4.153468e+27  -18.0   \n",
      "4   7.370848e+03  2.086414e+12    0.245410 -3.693490e+12  5.827023e+23  -19.0   \n",
      "5  -7.673861e+05  2.490561e+17    0.116675 -4.980211e+12  5.814517e+25  -20.0   \n",
      "6  -2.519498e+03  2.651343e+03    0.059671  7.075122e+09  4.387743e+05  -21.0   \n",
      "7   1.000000e+04  5.142150e+13    0.183073 -2.045621e+09  1.515669e+19  -22.0   \n",
      "8  -5.277024e+07  7.851137e+22    0.133758  7.683902e+12  1.007627e+28  -23.0   \n",
      "9   8.502703e+03  7.161396e+12    0.196785 -8.416085e+09  1.699150e+19  -24.0   \n",
      "10  7.478817e+03  1.361212e+13    0.310886 -5.752914e+09  1.990630e+19  -25.0   \n",
      "11 -6.548070e+07  1.488305e+23    0.085966  2.961420e+12  1.393569e+27  -26.0   \n",
      "12  7.460902e+03  1.063602e+12    0.126173  3.716815e+11  3.059671e+21  -27.0   \n",
      "13 -1.219632e+05  1.146271e+15    0.107992  1.008424e+17  3.311932e+33  -28.0   \n",
      "14  1.290237e+04  1.360148e+13    0.176899 -9.262549e+09  2.595640e+19  -29.0   \n",
      "15 -1.125411e+06  7.889141e+17    0.145973 -1.004567e+13  4.214351e+26  -30.0   \n",
      "16  1.097489e+08  7.248353e+23    0.197635 -1.623286e+12  1.344674e+27  -31.0   \n",
      "17  8.733923e+03  7.232620e+12    0.187306 -8.454258e+09  1.688588e+19  -32.0   \n",
      "18  5.438597e+06  2.921821e+09    0.182161  7.075705e+09  6.963311e+04  -33.0   \n",
      "19 -1.166313e+08  8.395144e+23    0.139585 -1.471159e+13  8.530812e+28  -34.0   \n",
      "20 -4.428671e+05  4.903364e+16    0.137481  2.944367e+12  1.278522e+25  -35.0   \n",
      "21  1.037301e+04  5.228580e+12    0.305994 -1.068606e+14  8.721710e+26  -36.0   \n",
      "22  3.854771e+03  1.537066e+13    0.210894 -1.592084e+09  8.086281e+18  -37.0   \n",
      "23 -1.821303e+08  3.129870e+24    0.138529  5.936324e+12  1.997322e+28  -38.0   \n",
      "24  2.962892e+07  7.465874e+10    0.235233  7.075925e+09  2.530944e+06  -39.0   \n",
      "25  4.847548e+06  2.107658e+09    0.172822  7.075705e+09  6.368548e+04  -40.0   \n",
      "\n",
      "    single_photon_limit    theta0  \n",
      "0           -162.454928 -3.087509  \n",
      "1           -161.599926 -3.094527  \n",
      "2           -161.785449 -3.060391  \n",
      "3            -40.660543 -3.120116  \n",
      "4            -81.072470 -3.095965  \n",
      "5                   NaN -3.138666  \n",
      "6                   NaN -0.683601  \n",
      "7           -146.940188 -3.057710  \n",
      "8                   NaN -3.113078  \n",
      "9           -134.093602  3.134457  \n",
      "10          -137.782257 -3.131216  \n",
      "11                  NaN -3.125542  \n",
      "12           -99.736826 -3.124216  \n",
      "13                  NaN -3.120267  \n",
      "14          -134.855355 -3.089443  \n",
      "15                  NaN  3.141068  \n",
      "16          -129.502246 -3.082422  \n",
      "17          -134.058351 -3.139732  \n",
      "18          -163.490224 -3.108677  \n",
      "19                  NaN -3.096873  \n",
      "20                  NaN -3.110124  \n",
      "21           -53.790610 -3.091744  \n",
      "22          -145.249157  3.119554  \n",
      "23                  NaN -3.061687  \n",
      "24          -171.379394 -3.112380  \n",
      "25          -162.879001 -3.090546   4\n",
      "    Unnamed: 0            Qc        Qc_err            Qi        Qi_err  \\\n",
      "0            0  6.325849e+05  6.984783e+13  1.016062e+04  1.121900e+12   \n",
      "1            1  2.884591e+09           NaN  5.764147e+07  7.050434e+22   \n",
      "2            2 -5.048434e+08  3.695154e+22 -1.020590e+07  8.583071e+20   \n",
      "3            3 -7.446746e+08           NaN -1.775278e+07           NaN   \n",
      "4            4  4.175836e+05           NaN  1.011761e+04           NaN   \n",
      "5            5  3.202720e+05           NaN  1.032230e+04           NaN   \n",
      "6            6  2.994417e+05  3.724042e+12  1.034568e+04  1.286653e+11   \n",
      "7            7  3.202866e+04           NaN  1.032228e+03           NaN   \n",
      "8            8  2.901777e+04           NaN  1.035692e+03           NaN   \n",
      "9            9  9.058968e+08           NaN  2.924673e+07           NaN   \n",
      "10          10  2.553993e+05  1.383563e+12  1.040750e+04  5.638006e+10   \n",
      "11          11  5.259444e+11  1.092539e+29  1.706332e+10  2.715906e+30   \n",
      "12          12  3.407698e+05           NaN  1.026255e+04           NaN   \n",
      "13          13  2.937966e+05           NaN  1.035237e+04           NaN   \n",
      "14          14  2.906423e+04  3.433392e+14  1.031716e+03  1.218779e+13   \n",
      "15          15  3.404207e+04  6.638036e+14  1.030264e+03  2.008965e+13   \n",
      "16          16  3.659095e+04           NaN  1.028238e+03           NaN   \n",
      "17          17  2.259873e+09           NaN  5.796328e+07           NaN   \n",
      "18          18  3.248046e+05  2.332975e+12  1.017927e+04  7.311470e+10   \n",
      "19          19  3.455343e+05           NaN  1.027248e+04           NaN   \n",
      "20          20  3.247847e+04  1.980928e+14  1.034680e+03  6.310723e+12   \n",
      "21          21  2.418670e+02           NaN  8.233929e+00           NaN   \n",
      "22          22  4.467905e+05  2.670569e+13  1.022894e+04  6.114072e+11   \n",
      "23          23  3.344001e+05           NaN  1.030826e+04           NaN   \n",
      "24          24  3.303389e+05           NaN  1.031217e+04           NaN   \n",
      "25          25  3.903259e+12  4.792224e+30  1.055454e+11  2.279946e+32   \n",
      "\n",
      "              Ql        Ql_err  chi_square            fr        fr_err  power  \\\n",
      "0   1.000000e+04  1.104165e+12    0.000768  7.001936e+09  2.444800e+14  -15.0   \n",
      "1   5.651221e+07  6.704082e+22    0.000811  3.674518e+14           NaN  -16.0   \n",
      "2  -1.000366e+07  8.372869e+20    0.000896  2.628131e+20  7.217959e+44  -17.0   \n",
      "3  -1.733942e+07           NaN    0.001464 -1.421393e+14           NaN  -18.0   \n",
      "4   9.878266e+03           NaN    0.000433  7.003809e+09           NaN  -19.0   \n",
      "5   1.000000e+04           NaN    0.004115  7.004864e+09           NaN  -20.0   \n",
      "6   1.000018e+04  1.243684e+11    0.004073  7.004370e+09  2.721422e+12  -21.0   \n",
      "7   1.000000e+03           NaN    0.001356  9.359466e+20           NaN  -22.0   \n",
      "8   1.000000e+03           NaN    0.002980 -1.472013e+15           NaN  -23.0   \n",
      "9   2.833204e+07           NaN    0.001609  6.779664e+14           NaN  -24.0   \n",
      "10  1.000000e+04  5.417254e+10    0.001143  7.003676e+09  2.570948e+12  -25.0   \n",
      "11  1.652713e+10  2.547900e+30    0.002394 -4.882850e+11  7.172556e+30  -26.0   \n",
      "12  9.962525e+03           NaN    0.002563  7.005467e+09           NaN  -27.0   \n",
      "13  1.000000e+04           NaN    0.002532  7.003524e+09           NaN  -28.0   \n",
      "14  9.963479e+02  1.176998e+13    0.002708  3.521451e+14  2.091432e+29  -29.0   \n",
      "15  1.000000e+03  1.949951e+13    0.002078  8.596218e+14  2.057214e+30  -30.0   \n",
      "16  1.000133e+03           NaN    0.000650  7.009505e+09           NaN  -31.0   \n",
      "17  5.651376e+07           NaN    0.001080 -1.758965e+15           NaN  -32.0   \n",
      "18  9.869952e+03  7.089293e+10    0.003007  7.004213e+09  4.442137e+11  -33.0   \n",
      "19  9.975906e+03           NaN    0.002521  7.002031e+09           NaN  -34.0   \n",
      "20  1.002735e+03  6.115887e+12    0.002366 -4.120903e+19  1.478776e+39  -35.0   \n",
      "21  7.962848e+00           NaN    0.001532  8.928585e+14           NaN  -36.0   \n",
      "22  1.000000e+04  5.977228e+11    0.000934  7.011149e+09  4.186761e+14  -37.0   \n",
      "23  1.000000e+04           NaN    0.003144  7.004911e+09           NaN  -38.0   \n",
      "24  1.000000e+04           NaN    0.002795  7.002978e+09           NaN  -39.0   \n",
      "25  1.027666e+11  2.161471e+32    0.001109  3.500318e+10  1.717927e+29  -40.0   \n",
      "\n",
      "    single_photon_limit    theta0  \n",
      "0           -124.910690  1.610400  \n",
      "1            -68.964236 -1.315902  \n",
      "2                   NaN -2.507445  \n",
      "3                   NaN  1.798550  \n",
      "4           -126.605735  0.034327  \n",
      "5           -127.863058 -1.766841  \n",
      "6           -128.155890 -2.639557  \n",
      "7            104.654169 -0.221388  \n",
      "8            -11.841366  1.741471  \n",
      "9            -62.676846 -2.335972  \n",
      "10          -128.847522 -2.001721  \n",
      "11          -153.207324 -2.204191  \n",
      "12          -127.560276 -4.321809  \n",
      "13          -128.239440  3.056608  \n",
      "14           -24.226440 -1.516693  \n",
      "15           -15.819933  1.773043  \n",
      "16          -117.279916  1.653708  \n",
      "17           -56.423342 -1.962429  \n",
      "18          -127.689133 -2.272830  \n",
      "19          -127.515895  1.592278  \n",
      "20            77.565837 -1.808985  \n",
      "21             5.003809  1.344450  \n",
      "22          -126.409418 -9.540898  \n",
      "23          -127.675524 -5.874328  \n",
      "24          -127.730987  2.621575  \n",
      "25          -183.266857  3.083811   5\n",
      "    Unnamed: 0             Qc       Qc_err            Qi       Qi_err  \\\n",
      "0            0  110771.956348  5281.483303  25105.168661  1960.152858   \n",
      "1            1  109875.191296  5493.837946  22725.630123  1559.218126   \n",
      "2            2  110612.000082  5722.438934  24686.900203  1807.809383   \n",
      "3            3  106832.668507  6352.266891  26175.780915  2233.894036   \n",
      "4            4  105520.267112  5228.958664  28072.494695  2210.456946   \n",
      "5            5  107426.601999  5060.664493  28230.098860  2100.504147   \n",
      "6            6  107617.154307  5849.206041  28792.802903  2476.095148   \n",
      "7            7  108833.364481  4911.860013  29069.334495  1983.998021   \n",
      "8            8  106262.891396  6282.175330  27651.979911  2276.157124   \n",
      "9            9  105325.312971  5552.423868  27348.599843  2089.343047   \n",
      "10          10  108432.778303  6095.162923  27900.409635  2607.642391   \n",
      "11          11  105824.120047  5562.241868  27453.989938  2330.169828   \n",
      "12          12  105714.169143  5718.616167  27112.396373  2503.980004   \n",
      "13          13  108626.085328  5768.531304  28007.857253  2172.034471   \n",
      "14          14  106094.470364  6019.520035  26314.888094  2455.949641   \n",
      "15          15  110578.044274  5356.921670  28058.657467  2067.721415   \n",
      "16          16  109356.227080  5141.007110  27774.267884  1989.189700   \n",
      "17          17  106603.294149  5234.742482  26518.744072  1769.277647   \n",
      "18          18  108316.246223  5866.859518  27680.240122  2315.997039   \n",
      "19          19  110529.626233  5497.502996  26835.996876  2040.600238   \n",
      "20          20  110004.423531  5724.366933  27102.320316  2077.650454   \n",
      "21          21  107077.242469  5263.630404  26026.687055  1819.846300   \n",
      "22          22  108382.577071  5316.440786  26364.687007  2350.306068   \n",
      "23          23  106111.066270  5985.447775  25821.622469  2223.259355   \n",
      "24          24  110552.537722  5528.193778  26867.131046  2035.569895   \n",
      "25          25  113252.546652  4795.269792  27255.091085  1770.048696   \n",
      "\n",
      "              Ql       Ql_err  chi_square            fr        fr_err  power  \\\n",
      "0   20466.643277  1415.181805    0.001661  7.226323e+09   7330.473763  -15.0   \n",
      "1   18830.825710  1179.485157    0.001516  7.226311e+09   8436.642460  -16.0   \n",
      "2   20182.480430  1326.010779    0.001858  7.226326e+09   9234.745603  -17.0   \n",
      "3   21024.442714  1607.719398    0.002752  7.226355e+09   9114.239713  -18.0   \n",
      "4   22173.485290  1537.116682    0.002185  7.226350e+09   7260.929065  -19.0   \n",
      "5   22355.427896  1461.247374    0.002123  7.226351e+09   7113.974236  -20.0   \n",
      "6   22715.347005  1729.683494    0.002670  7.226359e+09   8220.215155  -21.0   \n",
      "7   22941.635659  1386.323760    0.001831  7.226355e+09   6920.502356  -22.0   \n",
      "8   21942.143613  1628.993232    0.002820  7.226356e+09   9739.115063  -23.0   \n",
      "9   21711.124491  1483.474743    0.002459  7.226355e+09   8934.662513  -24.0   \n",
      "10  22190.627082  1820.490816    0.002843  7.226357e+09   8169.624887  -25.0   \n",
      "11  21798.735946  1644.809359    0.002482  7.226360e+09   8463.992016  -26.0   \n",
      "12  21578.247130  1731.879242    0.002988  7.226367e+09   8195.904078  -27.0   \n",
      "13  22266.677184  1555.719908    0.002527  7.226361e+09  10223.496676  -28.0   \n",
      "14  21085.096609  1750.932576    0.002714  7.226355e+09   9142.750321  -29.0   \n",
      "15  22379.870761  1469.588258    0.001997  7.226356e+09   7514.180840  -30.0   \n",
      "16  22148.896542  1412.085649    0.001861  7.226356e+09   7143.972515  -31.0   \n",
      "17  21236.044103  1277.775656    0.001828  7.226357e+09   7735.692202  -32.0   \n",
      "18  22046.302703  1638.387537    0.002483  7.226358e+09   8071.675652  -33.0   \n",
      "19  21593.267931  1466.626126    0.001971  7.226356e+09   7568.203162  -34.0   \n",
      "20  21744.919608  1486.754801    0.002252  7.226355e+09   8137.394105  -35.0   \n",
      "21  20937.517701  1323.865506    0.002045  7.226356e+09   9299.450578  -36.0   \n",
      "22  21206.165046  1644.054854    0.002407  7.226361e+09   7539.354962  -37.0   \n",
      "23  20767.862151  1597.886356    0.002538  7.226352e+09   8660.556687  -38.0   \n",
      "24  21614.296884  1469.463872    0.001962  7.226345e+09   7858.317750  -39.0   \n",
      "25  21968.261116  1252.520202    0.001616  7.226347e+09   6524.797888  -40.0   \n",
      "\n",
      "    single_photon_limit    theta0  \n",
      "0           -138.424528 -0.110388  \n",
      "1           -137.736299 -0.080918  \n",
      "2           -138.309359 -0.087919  \n",
      "3           -138.815304 -0.168564  \n",
      "4           -139.331182 -0.104188  \n",
      "5           -139.324401 -0.115096  \n",
      "6           -139.455423 -0.138180  \n",
      "7           -139.492722 -0.107809  \n",
      "8           -139.209619 -0.128677  \n",
      "9           -139.156174 -0.113100  \n",
      "10          -139.219638 -0.137443  \n",
      "11          -139.170629 -0.103700  \n",
      "12          -139.086832 -0.160844  \n",
      "13          -139.241615 -0.108121  \n",
      "14          -138.870440 -0.130087  \n",
      "15          -139.208317 -0.104610  \n",
      "16          -139.166460 -0.095096  \n",
      "17          -138.911619 -0.110756  \n",
      "18          -139.167631 -0.123218  \n",
      "19          -138.899434 -0.114660  \n",
      "20          -138.980910 -0.133552  \n",
      "21          -138.769386 -0.104546  \n",
      "22          -138.827496 -0.151832  \n",
      "23          -138.738088 -0.128899  \n",
      "24          -138.907002 -0.095619  \n",
      "25          -138.943299 -0.087496   6\n"
     ]
    },
    {
     "name": "stdout",
     "output_type": "stream",
     "text": [
      "    Unnamed: 0            Qc       Qc_err            Qi       Qi_err  \\\n",
      "0            0  29833.745735   904.204374  23397.226731  1339.607074   \n",
      "1            1  29572.455697   834.528939  24201.921438  1292.283149   \n",
      "2            2  29739.407005   927.273806  24677.760931  1546.247098   \n",
      "3            3  29667.622155   957.968852  24859.861245  1617.322174   \n",
      "4            4  29659.490447   931.536301  24102.019410  1334.209511   \n",
      "5            5  29598.991300   970.711244  24030.372065  1489.641442   \n",
      "6            6  29090.356956   951.470301  24208.898843  1598.463455   \n",
      "7            7  30025.981216   991.113871  25108.725680  1726.804677   \n",
      "8            8  29860.204999   916.121096  23836.766059  1443.886086   \n",
      "9            9  29621.620188  1036.998757  23720.216372  1751.639299   \n",
      "10          10  29959.662712   957.073808  24551.254823  1752.943971   \n",
      "11          11  28978.740480  1037.011989  23273.854442  1607.056535   \n",
      "12          12  29847.741862   974.059198  24542.135964  1628.569306   \n",
      "13          13  29463.301070   884.744120  24012.698236  1492.889439   \n",
      "14          14  29278.303441   943.153435  23527.793537  1466.620155   \n",
      "15          15  30059.286064   901.395733  24728.748191  1412.500598   \n",
      "16          16  29601.418944   961.724464  23840.765323  1442.341090   \n",
      "17          17  29580.211274   903.747077  23746.118896  1485.975183   \n",
      "18          18  29854.353674   947.785931  23683.763232  1437.189445   \n",
      "19          19  29973.738775   922.414998  23711.801260  1527.008597   \n",
      "20          20  30193.055433  1028.765662  23808.389995  1712.177137   \n",
      "21          21  29877.202079   897.476602  23184.199982  1425.269036   \n",
      "22          22  30045.694240   949.520542  23455.817308  1648.476208   \n",
      "23          23  30343.463760   930.674998  23581.638225  1427.549026   \n",
      "24          24  29742.588659   941.984639  22959.810606  1393.156593   \n",
      "25          25  29979.902768   866.252817  23428.578711  1238.424330   \n",
      "\n",
      "              Ql      Ql_err  chi_square            fr       fr_err  power  \\\n",
      "0   13113.172292  535.930382    0.004433  7.357467e+09  7360.253999  -15.0   \n",
      "1   13309.503292  505.072322    0.004094  7.357458e+09  7362.063655  -16.0   \n",
      "2   13486.588960  587.733922    0.004715  7.357457e+09  6967.126066  -17.0   \n",
      "3   13525.894178  616.016681    0.004946  7.357466e+09  7255.693518  -18.0   \n",
      "4   13296.754804  536.336674    0.004882  7.357465e+09  8913.576013  -19.0   \n",
      "5   13262.786076  572.718113    0.005513  7.357470e+09  7998.214134  -20.0   \n",
      "6   13213.045816  612.451542    0.005814  7.357469e+09  9058.186673  -21.0   \n",
      "7   13674.038878  651.970187    0.005396  7.357469e+09  7445.923913  -22.0   \n",
      "8   13255.323476  578.553692    0.004249  7.357465e+09  7180.273398  -23.0   \n",
      "9   13172.235631  679.859058    0.005953  7.357473e+09  7880.507967  -24.0   \n",
      "10  13493.577927  627.903965    0.005694  7.357460e+09  7416.712608  -25.0   \n",
      "11  12907.435293  640.472065    0.006147  7.357471e+09  8805.568821  -26.0   \n",
      "12  13468.082082  621.516781    0.005184  7.357468e+09  7267.220242  -27.0   \n",
      "13  13230.110083  563.644393    0.004944  7.357477e+09  7473.022852  -28.0   \n",
      "14  13044.968629  581.489471    0.005008  7.357467e+09  7899.994540  -29.0   \n",
      "15  13567.351448  534.802268    0.004511  7.357468e+09  7058.740502  -30.0   \n",
      "16  13205.307604  581.100295    0.004827  7.357472e+09  8078.219299  -31.0   \n",
      "17  13172.014869  573.007263    0.005152  7.357466e+09  7724.821327  -32.0   \n",
      "18  13206.729798  564.270561    0.004999  7.357472e+09  7573.597091  -33.0   \n",
      "19  13238.785274  600.110466    0.004833  7.357452e+09  7539.387412  -34.0   \n",
      "20  13311.644405  663.549012    0.005978  7.357482e+09  8171.285399  -35.0   \n",
      "21  13054.291839  560.263078    0.005006  7.357464e+09  8104.885671  -36.0   \n",
      "22  13172.456153  635.838356    0.004718  7.357474e+09  7431.310945  -37.0   \n",
      "23  13269.304249  573.642219    0.004695  7.357461e+09  7692.383780  -38.0   \n",
      "24  12957.364600  558.228634    0.005376  7.357475e+09  8438.977035  -39.0   \n",
      "25  13151.216666  506.385993    0.003848  7.357465e+09  7217.588540  -40.0   \n",
      "\n",
      "    single_photon_limit    theta0  \n",
      "0           -140.098752 -0.052813  \n",
      "1           -140.266049 -0.025868  \n",
      "2           -140.356406 -0.028994  \n",
      "3           -140.392169 -0.036746  \n",
      "4           -140.244953 -0.037738  \n",
      "5           -140.231597 -0.042467  \n",
      "6           -140.274241 -0.041489  \n",
      "7           -140.434637 -0.023313  \n",
      "8           -140.188556 -0.020706  \n",
      "9           -140.168769 -0.037518  \n",
      "10          -140.328856 -0.032997  \n",
      "11          -140.087674 -0.044317  \n",
      "12          -140.328674 -0.016538  \n",
      "13          -140.230118 -0.039473  \n",
      "14          -140.135076 -0.030114  \n",
      "15          -140.361788 -0.030245  \n",
      "16          -140.193514 -0.030945  \n",
      "17          -140.174707 -0.026671  \n",
      "18          -140.157498 -0.033968  \n",
      "19          -140.161246 -0.014172  \n",
      "20          -140.177221 -0.062913  \n",
      "21          -140.053345 -0.032576  \n",
      "22          -140.107179 -0.050819  \n",
      "23          -140.127993 -0.028063  \n",
      "24          -140.008211 -0.050325  \n",
      "25          -140.102694 -0.010023   7\n",
      "    Unnamed: 0            Qc      Qc_err            Qi      Qi_err  \\\n",
      "0            0  12618.765738  426.527599  12257.041495  816.121300   \n",
      "1            1  12563.142755  431.968921  12273.957204  837.014613   \n",
      "2            2  12536.335689  461.067205  12343.207757  825.985728   \n",
      "3            3  12682.486689  457.294041  12478.993791  937.667699   \n",
      "4            4  12942.617749  448.321653  13030.938246  870.023145   \n",
      "5            5  12523.020861  450.196313  12137.965555  847.978613   \n",
      "6            6  12635.932617  489.516473  12664.199893  885.114264   \n",
      "7            7  12592.525855  475.225229  12556.240525  906.848213   \n",
      "8            8  12687.135887  472.175265  11971.948898  848.216279   \n",
      "9            9  12724.908453  462.132732  12379.307323  979.601396   \n",
      "10          10  12527.561445  439.603266  11934.120661  755.940426   \n",
      "11          11  12581.939936  493.130731  12324.818814  954.522045   \n",
      "12          12  12576.898742  451.177584  12014.441072  827.134997   \n",
      "13          13  12455.268762  476.085840  11838.660199  779.131659   \n",
      "14          14  12767.346775  516.760956  12199.245940  873.092246   \n",
      "15          15  12394.773325  418.550098  11695.924716  828.308969   \n",
      "16          16  12682.758903  482.659306  12278.822062  833.657885   \n",
      "17          17  12800.494777  446.397977  12268.321689  856.200373   \n",
      "18          18  12488.539309  463.174289  11666.710333  857.178459   \n",
      "19          19  12466.821722  414.145895  11843.891132  804.782476   \n",
      "20          20  12555.405080  441.359333  12027.340859  925.256126   \n",
      "21          21  12600.772608  470.189311  11902.216497  819.712147   \n",
      "22          22  12557.168925  421.170340  12205.136923  874.475175   \n",
      "23          23  12735.528217  454.579941  12216.879800  818.753884   \n",
      "24          24  12457.608035  455.882301  11764.855228  867.890043   \n",
      "25          25  12510.328780  429.186833  11697.933118  793.748788   \n",
      "\n",
      "             Ql      Ql_err  chi_square            fr        fr_err  power  \\\n",
      "0   6217.636832  276.720857    0.006119  7.491853e+09  17703.079818  -15.0   \n",
      "1   6208.433222  282.989839    0.006409  7.491849e+09  16612.224820  -16.0   \n",
      "2   6219.511072  287.428512    0.006934  7.491847e+09  19189.055495  -17.0   \n",
      "3   6289.958684  315.692418    0.006662  7.491856e+09  16492.666067  -18.0   \n",
      "4   6493.313917  282.017634    0.006850  7.491846e+09  16948.287607  -19.0   \n",
      "5   6163.743546  288.853349    0.007605  7.491850e+09  19677.887153  -20.0   \n",
      "6   6325.025232  298.090868    0.007763  7.491862e+09  18901.629927  -21.0   \n",
      "7   6287.178507  309.468081    0.007924  7.491851e+09  19995.455078  -22.0   \n",
      "8   6159.585557  293.822344    0.007392  7.491844e+09  18288.406200  -23.0   \n",
      "9   6274.864501  329.999765    0.007606  7.491841e+09  19990.234531  -24.0   \n",
      "10  6111.821306  267.243786    0.007169  7.491834e+09  20722.733481  -25.0   \n",
      "11  6226.026100  322.725930    0.008941  7.491854e+09  20391.045738  -26.0   \n",
      "12  6144.618795  288.871808    0.006881  7.491842e+09  18613.405322  -27.0   \n",
      "13  6069.569677  284.763422    0.007537  7.491854e+09  22143.677661  -28.0   \n",
      "14  6238.416475  313.347789    0.008498  7.491846e+09  22349.391253  -29.0   \n",
      "15  6017.606274  285.626612    0.006646  7.491854e+09  17412.296189  -30.0   \n",
      "16  6238.761080  296.892338    0.007432  7.491838e+09  20571.565949  -31.0   \n",
      "17  6264.379809  295.076503    0.007328  7.491850e+09  19323.438085  -32.0   \n",
      "18  6031.822182  306.688466    0.006532  7.491847e+09  17584.944453  -33.0   \n",
      "19  6073.687766  277.593702    0.006524  7.491847e+09  19051.480807  -34.0   \n",
      "20  6142.850636  314.185370    0.006908  7.491847e+09  17171.857018  -35.0   \n",
      "21  6120.768489  296.958875    0.006899  7.491838e+09  19548.308022  -36.0   \n",
      "22  6189.325301  291.704357    0.006669  7.491851e+09  16692.150597  -37.0   \n",
      "23  6235.406912  283.916938    0.007587  7.491848e+09  21203.232703  -38.0   \n",
      "24  6050.662702  295.677744    0.007511  7.491856e+09  18373.634556  -39.0   \n",
      "25  6045.249757  283.170138    0.006478  7.491853e+09  18676.093514  -40.0   \n",
      "\n",
      "    single_photon_limit    theta0  \n",
      "0           -137.196794 -0.029109  \n",
      "1           -137.203118 -0.022842  \n",
      "2           -137.227881 -0.020494  \n",
      "3           -137.275364 -0.023430  \n",
      "4           -137.463571 -0.013674  \n",
      "5           -137.154259 -0.025246  \n",
      "6           -137.339618 -0.033733  \n",
      "7           -137.302445 -0.027105  \n",
      "8           -137.091860 -0.017688  \n",
      "9           -137.240010 -0.025548  \n",
      "10          -137.079225 -0.002369  \n",
      "11          -137.221197 -0.042204  \n",
      "12          -137.108632 -0.023969  \n",
      "13          -137.044082 -0.022101  \n",
      "14          -137.174946 -0.036213  \n",
      "15          -136.990545 -0.025648  \n",
      "16          -137.204303 -6.295055  \n",
      "17          -137.199753 -0.021241  \n",
      "18          -136.978317 -0.014506  \n",
      "19          -137.045955 -0.028785  \n",
      "20          -137.113555 -6.292848  \n",
      "21          -137.066621 -0.023060  \n",
      "22          -137.178408 -0.027347  \n",
      "23          -137.181588 -0.019739  \n",
      "24          -137.016165 -0.032660  \n",
      "25          -136.990054 -0.011841   8\n",
      "    Unnamed: 0             Qc        Qc_err            Qi        Qi_err  \\\n",
      "0            0    5966.068892  8.229561e+09  2.361939e+04  9.642725e+11   \n",
      "1            1   10981.829015  7.673897e+02  4.232229e+04  1.571585e+04   \n",
      "2            2   11020.093831  7.715625e+02  4.289587e+04  1.345602e+04   \n",
      "3            3   11028.045986  7.897584e+02  4.465154e+04  1.614940e+04   \n",
      "4            4 -837367.993324  1.627113e+14 -3.307637e+06  2.699857e+18   \n",
      "5            5   11121.576730  7.886466e+02  4.546992e+04  1.896346e+04   \n",
      "6            6   11031.899876  8.004694e+02  4.037500e+04  1.324478e+04   \n",
      "7            7    5174.241598  6.417396e+09  2.034725e+04  6.084034e+11   \n",
      "8            8   11048.000835  7.795084e+02  4.197822e+04  1.534585e+04   \n",
      "9            9   11017.174040  7.850530e+02  4.076851e+04  1.382797e+04   \n",
      "10          10   10851.860127  7.611718e+02  4.440002e+04  1.446295e+04   \n",
      "11          11   11002.143240  7.562214e+02  4.355624e+04  1.416933e+04   \n",
      "12          12   11021.061568  7.465665e+02  4.098921e+04  1.398832e+04   \n",
      "13          13   11010.720853  7.863916e+02  4.292757e+04  1.442576e+04   \n",
      "14          14   11131.655467  7.692709e+02  4.184281e+04  1.298310e+04   \n",
      "15          15   10878.668427  7.838543e+02  4.057403e+04  1.326569e+04   \n",
      "16          16   10916.466631  7.824834e+02  4.044741e+04  1.330360e+04   \n",
      "17          17   10975.999337  7.834847e+02  3.970681e+04  1.183376e+04   \n",
      "18          18   11049.241520  7.693352e+02  4.046654e+04  1.285553e+04   \n",
      "19          19   11141.529656  8.227510e+02  4.216955e+04  1.390904e+04   \n",
      "20          20   10896.535910  7.856447e+02  4.052579e+04  1.303822e+04   \n",
      "21          21 -992053.624081  2.286451e+14 -3.355241e+06  3.076177e+18   \n",
      "22          22   10986.319008  8.097806e+02  3.791754e+04  1.105136e+04   \n",
      "23          23   11024.742018  7.933814e+02  3.627141e+04  1.091916e+04   \n",
      "24          24    4799.892551  5.425942e+09  1.596105e+04  3.460564e+11   \n",
      "25          25    5726.403699  7.570104e+09  2.074371e+04  6.845109e+11   \n",
      "\n",
      "               Ql        Ql_err  chi_square            fr        fr_err  \\\n",
      "0     4762.978567  4.027732e+10    0.452959 -2.175519e+15  8.543554e+26   \n",
      "1     8719.328866  9.059094e+02    0.049713  7.641628e+09  2.735656e+04   \n",
      "2     8767.653992  8.184535e+02    0.048739  7.641628e+09  3.176281e+04   \n",
      "3     8843.802111  8.884174e+02    0.049907  7.641627e+09  2.835159e+04   \n",
      "4  -668204.109819  1.101725e+17    0.460530 -1.644913e+20  6.880398e+38   \n",
      "5     8935.921961  9.856839e+02    0.050168  7.641608e+09  2.794824e+04   \n",
      "6     8664.458713  8.585187e+02    0.051383  7.641613e+09  3.079493e+04   \n",
      "7     4125.213056  2.641459e+10    0.453165  1.465419e+16  3.485440e+28   \n",
      "8     8746.152532  9.228682e+02    0.049866  7.641618e+09  3.183549e+04   \n",
      "9     8673.319359  8.617022e+02    0.050586  7.641609e+09  2.963469e+04   \n",
      "10    8720.478092  8.181393e+02    0.049779  7.641620e+09  3.195022e+04   \n",
      "11    8783.471182  8.277191e+02    0.048848  7.641632e+09  3.117712e+04   \n",
      "12    8685.680574  8.401765e+02    0.048551  7.641626e+09  2.896061e+04   \n",
      "13    8763.041567  8.590441e+02    0.050269  7.641624e+09  3.052184e+04   \n",
      "14    8792.533349  8.280117e+02    0.047072  7.641618e+09  3.051487e+04   \n",
      "15    8578.586290  8.563547e+02    0.050084  7.641626e+09  3.067075e+04   \n",
      "16    8596.368534  8.362117e+02    0.050571  7.641626e+09  3.083343e+04   \n",
      "17    8599.008882  8.205124e+02    0.048553  7.641628e+09  3.399837e+04   \n",
      "18    8679.370971  8.274713e+02    0.049741  7.641624e+09  3.097857e+04   \n",
      "19    8813.051429  8.905710e+02    0.048554  7.641638e+09  2.989014e+04   \n",
      "20    8587.529243  8.370423e+02    0.051136  7.641628e+09  3.163167e+04   \n",
      "21 -765666.754375  1.601688e+17    0.437611  1.312824e+21  5.198341e+40   \n",
      "22    8518.227248  8.145385e+02    0.049519  7.641638e+09  3.322901e+04   \n",
      "23    8454.872580  8.225230e+02    0.050428  7.641624e+09  3.177183e+04   \n",
      "24    3690.165900  1.968529e+10    0.438599  5.694022e+15  4.796264e+27   \n",
      "25    4487.584131  3.299614e+10    0.445577 -2.213429e+16  8.475667e+28   \n",
      "\n",
      "    power  single_photon_limit    theta0  \n",
      "0   -15.0           -28.875674  0.025444  \n",
      "1   -16.0          -140.565437  0.027705  \n",
      "2   -17.0          -140.598338  0.032751  \n",
      "3   -18.0          -140.670320  0.031116  \n",
      "4   -19.0                  NaN  0.026009  \n",
      "5   -20.0          -140.723670  0.039932  \n",
      "6   -21.0          -140.490866  0.040877  \n",
      "7   -22.0           -11.677466  0.034868  \n",
      "8   -23.0          -140.566038  0.037288  \n",
      "9   -24.0          -140.505550  0.029696  \n",
      "10  -25.0          -140.618296  0.029484  \n",
      "11  -26.0          -140.621069  0.032547  \n",
      "12  -27.0          -140.516368  0.034081  \n",
      "13  -28.0          -140.597468  0.030407  \n",
      "14  -29.0          -140.579218  0.032491  \n",
      "15  -30.0          -140.465083  0.027256  \n",
      "16  -31.0          -140.468005  0.036547  \n",
      "17  -32.0          -140.447050  0.029338  \n",
      "18  -33.0          -140.498968  0.029033  \n",
      "19  -34.0          -140.595589  0.021450  \n",
      "20  -35.0          -140.467003  0.034811  \n",
      "21  -36.0                  NaN  0.025715  \n",
      "22  -37.0          -140.360975  0.030761  \n",
      "23  -38.0          -140.280985  0.041636  \n",
      "24  -39.0           -19.246461  0.035111  \n",
      "25  -40.0            -8.386363  0.035570   9\n",
      "    Unnamed: 0            Qc        Qc_err            Qi        Qi_err  \\\n",
      "0            0  2.848623e+03  1.684460e+02  2.318762e+04  8.281980e+03   \n",
      "1            1  2.853709e+03  1.670239e+02  2.620267e+04  1.065466e+04   \n",
      "2            2  2.842314e+03  1.626609e+02  2.412586e+04  8.870315e+03   \n",
      "3            3  2.830300e+03  1.640931e+02  2.170307e+04  7.672815e+03   \n",
      "4            4  3.990491e+15  1.476383e+29  3.186637e+16  1.362172e+43   \n",
      "5            5  2.849183e+03  1.576653e+02  2.420270e+04  9.474784e+03   \n",
      "6            6  2.867259e+03  1.656322e+02  2.560992e+04  1.030443e+04   \n",
      "7            7  2.824096e+03  1.645454e+02  2.088054e+04  7.029778e+03   \n",
      "8            8  2.841051e+03  1.624755e+02  2.432049e+04  9.387642e+03   \n",
      "9            9  2.830306e+03  1.695513e+02  2.414995e+04  9.183525e+03   \n",
      "10          10  2.822665e+03  1.655040e+02  2.049558e+04  7.032216e+03   \n",
      "11          11  2.833076e+03  1.588270e+02  2.134964e+04  7.105256e+03   \n",
      "12          12  2.850428e+03  1.713814e+02  2.596594e+04  1.065432e+04   \n",
      "13          13  2.794585e+03  1.598815e+02  1.960818e+04  6.333209e+03   \n",
      "14          14  2.825164e+03  1.747482e+02  2.157166e+04  7.378626e+03   \n",
      "15          15  2.848167e+03  1.630186e+02  2.065831e+04  6.780087e+03   \n",
      "16          16  2.838153e+03  1.609553e+02  2.153714e+04  7.355773e+03   \n",
      "17          17  2.850158e+03  1.686220e+02  2.196398e+04  7.654300e+03   \n",
      "18          18 -1.457674e+08  3.497332e+11 -1.227108e+09  6.246004e+16   \n",
      "19          19  2.814874e+03  1.575493e+02  1.932316e+04  6.005720e+03   \n",
      "20          20  2.855251e+03  1.583893e+02  2.408463e+04  9.278163e+03   \n",
      "21          21  2.827136e+03  1.591480e+02  2.108366e+04  7.277948e+03   \n",
      "22          22  2.847099e+03  1.693250e+02  2.131911e+04  7.065592e+03   \n",
      "23          23  2.846282e+03  1.638795e+02  2.012216e+04  6.642133e+03   \n",
      "24          24  2.822625e+03  1.629409e+02  1.861532e+04  5.837249e+03   \n",
      "25          25  2.817102e+03  1.636603e+02  1.972252e+04  6.197861e+03   \n",
      "\n",
      "              Ql        Ql_err  chi_square            fr        fr_err  power  \\\n",
      "0   2.536955e+03  1.775445e+02    0.069771  7.778800e+09  6.067557e+04  -15.0   \n",
      "1   2.573438e+03  1.821054e+02    0.070770  7.778802e+09  5.881492e+04  -16.0   \n",
      "2   2.542748e+03  1.757196e+02    0.069869  7.778793e+09  6.018294e+04  -17.0   \n",
      "3   2.503782e+03  1.740539e+02    0.073966  7.778817e+09  6.214987e+04  -18.0   \n",
      "4   3.546392e+15  1.687097e+41    2.101526  7.793970e+09  5.874444e+20  -19.0   \n",
      "5   2.549099e+03  1.721783e+02    0.071725  7.778806e+09  5.859507e+04  -20.0   \n",
      "6   2.578565e+03  1.814608e+02    0.071789  7.778795e+09  5.864659e+04  -21.0   \n",
      "7   2.487642e+03  1.736226e+02    0.069979  7.778823e+09  6.100299e+04  -22.0   \n",
      "8   2.543882e+03  1.754270e+02    0.072685  7.778818e+09  5.993691e+04  -23.0   \n",
      "9   2.533399e+03  1.818035e+02    0.072047  7.778825e+09  6.103567e+04  -24.0   \n",
      "10  2.480983e+03  1.728830e+02    0.072679  7.778835e+09  6.084265e+04  -25.0   \n",
      "11  2.501172e+03  1.698224e+02    0.068099  7.778818e+09  6.048240e+04  -26.0   \n",
      "12  2.568473e+03  1.776715e+02    0.074425  7.778816e+09  5.980231e+04  -27.0   \n",
      "13  2.445981e+03  1.693393e+02    0.070472  7.778829e+09  6.119750e+04  -28.0   \n",
      "14  2.498009e+03  1.811137e+02    0.072502  7.778819e+09  6.309541e+04  -29.0   \n",
      "15  2.503068e+03  1.705757e+02    0.069341  7.778818e+09  6.009446e+04  -30.0   \n",
      "16  2.507691e+03  1.719258e+02    0.069668  7.778815e+09  6.024803e+04  -31.0   \n",
      "17  2.522788e+03  1.796070e+02    0.070953  7.778824e+09  6.120366e+04  -32.0   \n",
      "18 -1.302903e+08  7.043036e+14    2.138958  7.778480e+09  1.305382e+08  -33.0   \n",
      "19  2.456960e+03  1.676262e+02    0.066591  7.778834e+09  5.994184e+04  -34.0   \n",
      "20  2.552634e+03  1.762146e+02    0.070602  7.778812e+09  5.803355e+04  -35.0   \n",
      "21  2.492864e+03  1.732543e+02    0.068794  7.778825e+09  5.903936e+04  -36.0   \n",
      "22  2.511673e+03  1.774159e+02    0.070415  7.778827e+09  6.307963e+04  -37.0   \n",
      "23  2.493567e+03  1.727409e+02    0.068627  7.778820e+09  5.932698e+04  -38.0   \n",
      "24  2.450984e+03  1.712097e+02    0.071515  7.778832e+09  6.209681e+04  -39.0   \n",
      "25  2.465008e+03  1.715119e+02    0.068468  7.778829e+09  6.147185e+04  -40.0   \n",
      "\n",
      "    single_photon_limit    theta0  \n",
      "0           -135.547895 -0.068731  \n",
      "1           -135.664165 -0.064630  \n",
      "2           -135.577342 -0.063271  \n",
      "3           -135.461574 -0.070113  \n",
      "4           -256.976536  2.633985  \n",
      "5           -135.588512 -0.059002  \n",
      "6           -135.660888 -0.064894  \n",
      "7           -135.414927 -0.068651  \n",
      "8           -135.583117 -0.059372  \n",
      "9           -135.563698 -0.069369  \n",
      "10          -135.393830 -0.075616  \n",
      "11          -135.448260 -0.062119  \n",
      "12          -135.652369 -0.061501  \n",
      "13          -135.313843 -0.070078  \n",
      "14          -135.449409 -0.067782  \n",
      "15          -135.431768 -0.070035  \n",
      "16          -135.463094 -0.064953  \n",
      "17          -135.496888 -0.072224  \n",
      "18                  NaN  2.729906  \n",
      "19          -135.321322 -0.071357  \n",
      "20          -135.591305 -0.068608  \n",
      "21          -135.428467 -0.061237  \n",
      "22          -135.463196 -0.066525  \n",
      "23          -135.401607 -0.073725  \n",
      "24          -135.288231 -0.077594  \n",
      "25          -135.346298 -0.069918   10\n"
     ]
    }
   ],
   "source": [
    "from matplotlib.backends.backend_pdf import PdfPages\n",
    "fit_csvs = ['{0}/fit_total {1}.csv'.format(save_path, i) for i in range(len(resonator_freqs))]\n",
    "rows = 6\n",
    "columns = 1\n",
    "figsize=(8.27, 11.69)\n",
    "figs, axes = plt.subplots(rows,columns, figsize=figsize)\n",
    "pdf = PdfPages('{0}/{1}.pdf'.format(save_path, sample_name))\n",
    "Q_i_values_lp = []\n",
    "Q_i_values_hp = []\n",
    "Q_e_values = []\n",
    "Q_l_values_lp = []\n",
    "Q_l_values_hp = []\n",
    "f_r_values = []\n",
    "single_photon_limits = []\n",
    "if resonator_type=='reflection_port':\n",
    "    Qc_column = 'Qc'\n",
    "    Qi_column = 'Qi'\n",
    "    Qi_err_column = 'Qi_err'\n",
    "    Ql_column = 'Ql'\n",
    "else:\n",
    "    Qc_column = 'Qc_dia_corr'\n",
    "    Qi_column = 'Qi_dia_corr'\n",
    "    Qi_err_column = 'Qi_dia_corr_err'\n",
    "    Ql_column = 'Ql'\n",
    "page_id = 0\n",
    "for resonator_id, fit_csv in enumerate(fit_csvs):\n",
    "    try:\n",
    "        fitdata = pd.read_csv(fit_csv)\n",
    "        #print (fitdata.shape, powers.shape)\n",
    "        #if fitdata.shape[0]<len(powers):\n",
    "        #fitdata['power'] = powers[(len(powers)-fitdata.shape[0]):]\n",
    "        #fitdata['power'] = powers\n",
    "        print (fitdata, resonator_id)\n",
    "        fitdata = fitdata[fitdata['fr']>4e9]\n",
    "        fitdata = fitdata[fitdata['fr']<12e9]\n",
    "        fitdata = fitdata[fitdata[Qc_column]>100]\n",
    "        fitdata = fitdata[fitdata[Qc_column]<1000000]\n",
    "        #if resonator_id != 11:\n",
    "        #fitdata = fitdata[fitdata[Qc_column]<800000]\n",
    "        #else:\n",
    "        #   fitdata = fitdata[fitdata['Qc_dia_corr']<2000000]\n",
    "        if resonator_id and not resonator_id%(rows*columns):\n",
    "            page_id +=1\n",
    "            plt.tight_layout()\n",
    "            pdf.savefig(figs)\n",
    "            figs, axes = plt.subplots(rows, columns, figsize=figsize)\n",
    "        if rows>1 and columns>1:\n",
    "            Q_ax = axes[(resonator_id%(rows*columns))%rows, (resonator_id%(rows*columns))//rows]\n",
    "        else:\n",
    "            Q_ax = axes[resonator_id%(rows*columns)]\n",
    "        Q_ax.set_yscale('log')\n",
    "        Ql = Q_ax.errorbar(fitdata['power'], fitdata['Ql'], label='Q_l')#, yerr=fitdata['Ql_err'])\n",
    "        Qc = Q_ax.errorbar(fitdata['power'], fitdata[Qc_column], label='Q_c')#, yerr=fitdata['absQc_err'])\n",
    "        Qi = Q_ax.errorbar(fitdata['power'], np.abs(fitdata[Qi_column]), label='Q_i')#, yerr=fitdata['Qi_dia_corr_err'])\n",
    "        f_ax = Q_ax.twinx()\n",
    "        f = f_ax.errorbar(fitdata['power'], fitdata['fr']/1e6, color='orange', marker='.', label='$f$, MHz')#, yerr=fitdata['fr_err'])\n",
    "        f_ax.set_ylabel('MHz')\n",
    "        Q_ax.set_ylabel('$Q$')\n",
    "        if not (fitdata['power'].size == 0):\n",
    "            Q_i_values_lp.append(np.abs(fitdata[Qi_column])[np.argmin(fitdata['power'])])\n",
    "            Q_i_values_hp.append(np.abs(fitdata[Qi_column])[np.argmax(fitdata['power'])])\n",
    "            Q_e_values.append(np.median(fitdata[Qc_column]))\n",
    "            Q_l_values_lp.append(np.abs(fitdata[Ql_column])[np.argmin(fitdata['power'])])\n",
    "            Q_l_values_hp.append(np.abs(fitdata[Ql_column])[np.argmax(fitdata['power'])])\n",
    "            f_r_values.append(np.median(fitdata['fr']))\n",
    "            single_photon_limits.append(fitdata['single_photon_limit'][np.argmax(fitdata['power'])])\n",
    "            ann = f_ax.annotate('#{7}: $f_r$: {0:2.4} GHz, $Q_i$: {1:2.3g}/{3:2.3g}\\n$Q_l$:{5:2.3g}/{6:2.3g}, $Q_c$: {4:2.3g}'.format(np.median(fitdata['fr'])/1e9, \\\n",
    "                            np.round(np.abs(fitdata[Qi_column])[np.argmin(fitdata['power'])]), np.round(fitdata[Qi_err_column][np.argmin(fitdata['power'])]), \\\n",
    "                            np.round(np.abs(fitdata[Qi_column])[np.argmax(fitdata['power'])]), np.median(fitdata[Qc_column]), \\\n",
    "                            np.round(np.abs(fitdata[Ql_column])[np.argmin(fitdata['power'])]), np.round(np.abs(fitdata[Ql_column])[np.argmax(fitdata['power'])]), \\\n",
    "                            resonator_id), \\\n",
    "                          (0.2, 0.1), xycoords='axes fraction', bbox={'alpha':0.5, 'pad':3, 'edgecolor':'black', 'facecolor':'white'})\n",
    "        Q_ax.set_ylim([1e3, 1e6])\n",
    "        plt.grid(True)\n",
    "        if (resonator_id==0):\n",
    "            leg = plt.legend([f, Qc, Qi, Ql], ['$f$', '$Q_c$', '$Q_i$', '$Q_l$'], fancybox=True, loc=6, framealpha=1)\n",
    "            leg.get_frame().set_alpha(0.5)\n",
    "            plt.title(sample_name)\n",
    "    finally:\n",
    "        pass\n",
    "#axes[-1,-1].hist([Q_i_values_hp, Q_i_values_lp, Q_e_values], bins=10, label={'$Q_i$ high power', '$Q_i$ low power', '$Q_e$'})\n",
    "#axes[-1,-1].set_xlabel('$Q_i$')\n",
    "#axes[-1,-1].set_ylabel('resonators')\n",
    "#axes[-1,-1].legend(loc='upper right')\n",
    "plt.tight_layout()\n",
    "pdf.savefig(figs)\n",
    "pdf.close()\n",
    "summary_table = pd.DataFrame({'fr':f_r_values, 'Ql_lp':Q_l_values_lp, 'Ql_hp':Q_l_values_hp, 'Qe': Q_e_values, 'Qi_lp':Q_i_values_lp, 'Qi_hp':Q_i_values_hp, 'single_photon_limits':single_photon_limits})\n",
    "summary_table.to_csv('{0}/{1}.csv'.format(save_path, sample_name))"
   ]
  },
  {
   "cell_type": "code",
   "execution_count": 59,
   "metadata": {
    "scrolled": false
   },
   "outputs": [
    {
     "data": {
      "text/plain": [
       "0    52885\n",
       "1    11734\n",
       "2    47884\n",
       "3    30775\n",
       "4    10000\n",
       "5    21968\n",
       "6    13151\n",
       "7     6045\n",
       "8     8455\n",
       "9     2465\n",
       "Name: Ql_lp, dtype: int32"
      ]
     },
     "execution_count": 59,
     "metadata": {},
     "output_type": "execute_result"
    }
   ],
   "source": [
    "import math\n",
    "summary_table_new = pd.DataFrame(summary_table)\n",
    "summary_table_new['k'] = summary_table_new['fr']/summary_table_new['Qe']\n",
    "(summary_table_new['Ql_lp']).round(decimals=0).astype(int)"
   ]
  },
  {
   "cell_type": "code",
   "execution_count": 60,
   "metadata": {},
   "outputs": [
    {
     "data": {
      "text/html": [
       "<div>\n",
       "<style scoped>\n",
       "    .dataframe tbody tr th:only-of-type {\n",
       "        vertical-align: middle;\n",
       "    }\n",
       "\n",
       "    .dataframe tbody tr th {\n",
       "        vertical-align: top;\n",
       "    }\n",
       "\n",
       "    .dataframe thead th {\n",
       "        text-align: right;\n",
       "    }\n",
       "</style>\n",
       "<table border=\"1\" class=\"dataframe\">\n",
       "  <thead>\n",
       "    <tr style=\"text-align: right;\">\n",
       "      <th></th>\n",
       "      <th>fr</th>\n",
       "      <th>Ql_lp</th>\n",
       "      <th>Ql_hp</th>\n",
       "      <th>Qe</th>\n",
       "      <th>Qi_lp</th>\n",
       "      <th>Qi_hp</th>\n",
       "      <th>single_photon_limits</th>\n",
       "      <th>k</th>\n",
       "    </tr>\n",
       "  </thead>\n",
       "  <tbody>\n",
       "    <tr>\n",
       "      <th>0</th>\n",
       "      <td>6.194797e+09</td>\n",
       "      <td>52885.495186</td>\n",
       "      <td>61903.816332</td>\n",
       "      <td>117961.977072</td>\n",
       "      <td>96847.499323</td>\n",
       "      <td>87640.126075</td>\n",
       "      <td>-146.581437</td>\n",
       "      <td>5.251520e+04</td>\n",
       "    </tr>\n",
       "    <tr>\n",
       "      <th>1</th>\n",
       "      <td>6.383724e+09</td>\n",
       "      <td>11733.576687</td>\n",
       "      <td>18366.343642</td>\n",
       "      <td>20238.681755</td>\n",
       "      <td>23567.589469</td>\n",
       "      <td>36853.402972</td>\n",
       "      <td>-143.368775</td>\n",
       "      <td>3.154219e+05</td>\n",
       "    </tr>\n",
       "    <tr>\n",
       "      <th>2</th>\n",
       "      <td>6.662256e+09</td>\n",
       "      <td>47883.921940</td>\n",
       "      <td>42336.223574</td>\n",
       "      <td>84484.420612</td>\n",
       "      <td>108612.695710</td>\n",
       "      <td>73957.287162</td>\n",
       "      <td>-145.931042</td>\n",
       "      <td>7.885781e+04</td>\n",
       "    </tr>\n",
       "    <tr>\n",
       "      <th>3</th>\n",
       "      <td>6.801678e+09</td>\n",
       "      <td>30775.437120</td>\n",
       "      <td>34991.332554</td>\n",
       "      <td>103086.477831</td>\n",
       "      <td>44078.425485</td>\n",
       "      <td>50926.563232</td>\n",
       "      <td>-143.567813</td>\n",
       "      <td>6.598031e+04</td>\n",
       "    </tr>\n",
       "    <tr>\n",
       "      <th>4</th>\n",
       "      <td>7.004213e+09</td>\n",
       "      <td>9999.999730</td>\n",
       "      <td>10000.000325</td>\n",
       "      <td>330338.941744</td>\n",
       "      <td>10312.169065</td>\n",
       "      <td>10160.620990</td>\n",
       "      <td>-124.910690</td>\n",
       "      <td>2.120311e+04</td>\n",
       "    </tr>\n",
       "    <tr>\n",
       "      <th>5</th>\n",
       "      <td>7.226355e+09</td>\n",
       "      <td>21968.261116</td>\n",
       "      <td>20466.643277</td>\n",
       "      <td>108349.411647</td>\n",
       "      <td>27255.091085</td>\n",
       "      <td>25105.168661</td>\n",
       "      <td>-138.424528</td>\n",
       "      <td>6.669492e+04</td>\n",
       "    </tr>\n",
       "    <tr>\n",
       "      <th>6</th>\n",
       "      <td>7.357467e+09</td>\n",
       "      <td>13151.216666</td>\n",
       "      <td>13113.172292</td>\n",
       "      <td>29788.167197</td>\n",
       "      <td>23428.578711</td>\n",
       "      <td>23397.226731</td>\n",
       "      <td>-140.098752</td>\n",
       "      <td>2.469930e+05</td>\n",
       "    </tr>\n",
       "    <tr>\n",
       "      <th>7</th>\n",
       "      <td>7.491849e+09</td>\n",
       "      <td>6045.249757</td>\n",
       "      <td>6217.636832</td>\n",
       "      <td>12579.419339</td>\n",
       "      <td>11697.933118</td>\n",
       "      <td>12257.041495</td>\n",
       "      <td>-137.196794</td>\n",
       "      <td>5.955639e+05</td>\n",
       "    </tr>\n",
       "    <tr>\n",
       "      <th>8</th>\n",
       "      <td>7.641626e+09</td>\n",
       "      <td>8454.872580</td>\n",
       "      <td>8719.328866</td>\n",
       "      <td>11018.633936</td>\n",
       "      <td>36271.410381</td>\n",
       "      <td>42322.286143</td>\n",
       "      <td>-140.565437</td>\n",
       "      <td>6.935184e+05</td>\n",
       "    </tr>\n",
       "    <tr>\n",
       "      <th>9</th>\n",
       "      <td>7.778819e+09</td>\n",
       "      <td>2465.007872</td>\n",
       "      <td>2536.955242</td>\n",
       "      <td>2839.601868</td>\n",
       "      <td>19722.515497</td>\n",
       "      <td>23187.623877</td>\n",
       "      <td>-135.547895</td>\n",
       "      <td>2.739405e+06</td>\n",
       "    </tr>\n",
       "  </tbody>\n",
       "</table>\n",
       "</div>"
      ],
      "text/plain": [
       "             fr         Ql_lp         Ql_hp             Qe          Qi_lp  \\\n",
       "0  6.194797e+09  52885.495186  61903.816332  117961.977072   96847.499323   \n",
       "1  6.383724e+09  11733.576687  18366.343642   20238.681755   23567.589469   \n",
       "2  6.662256e+09  47883.921940  42336.223574   84484.420612  108612.695710   \n",
       "3  6.801678e+09  30775.437120  34991.332554  103086.477831   44078.425485   \n",
       "4  7.004213e+09   9999.999730  10000.000325  330338.941744   10312.169065   \n",
       "5  7.226355e+09  21968.261116  20466.643277  108349.411647   27255.091085   \n",
       "6  7.357467e+09  13151.216666  13113.172292   29788.167197   23428.578711   \n",
       "7  7.491849e+09   6045.249757   6217.636832   12579.419339   11697.933118   \n",
       "8  7.641626e+09   8454.872580   8719.328866   11018.633936   36271.410381   \n",
       "9  7.778819e+09   2465.007872   2536.955242    2839.601868   19722.515497   \n",
       "\n",
       "          Qi_hp  single_photon_limits             k  \n",
       "0  87640.126075           -146.581437  5.251520e+04  \n",
       "1  36853.402972           -143.368775  3.154219e+05  \n",
       "2  73957.287162           -145.931042  7.885781e+04  \n",
       "3  50926.563232           -143.567813  6.598031e+04  \n",
       "4  10160.620990           -124.910690  2.120311e+04  \n",
       "5  25105.168661           -138.424528  6.669492e+04  \n",
       "6  23397.226731           -140.098752  2.469930e+05  \n",
       "7  12257.041495           -137.196794  5.955639e+05  \n",
       "8  42322.286143           -140.565437  6.935184e+05  \n",
       "9  23187.623877           -135.547895  2.739405e+06  "
      ]
     },
     "execution_count": 60,
     "metadata": {},
     "output_type": "execute_result"
    }
   ],
   "source": [
    "import math\n",
    "summary_table_new = pd.DataFrame(summary_table)\n",
    "summary_table_new['k'] = summary_table_new['fr']/summary_table_new['Qe']\n",
    "summary_table_new"
   ]
  },
  {
   "cell_type": "code",
   "execution_count": 61,
   "metadata": {},
   "outputs": [],
   "source": [
    "figs, ax = plt.subplots(1,4, figsize=(16, 5))\n",
    "c = 'fr'\n",
    "ax[0].plot(summary_table_new[c], marker='o')\n",
    "ax[0].set_xlabel('resonator id\\nmin: {0:6.4g}\\n25%: {1:6.4g}\\n50%: {2:6.4g}\\n75%: {3:6.4g}\\nmax: {4:6.4g}'.format(\n",
    "    summary_table_new[c].min(),\n",
    "    summary_table_new[c].quantile(0.25),\n",
    "    summary_table_new[c].quantile(0.5),\n",
    "    summary_table_new[c].quantile(0.75),\n",
    "    summary_table_new[c].max(),\n",
    "                ))\n",
    "ax[0].set_ylabel('$f_r$')\n",
    "ax[0].grid(True, which='both')\n",
    "c = 'Qe'\n",
    "ax[1].boxplot(summary_table_new['Qe'])\n",
    "ax[1].set_yscale('log')\n",
    "ax[1].grid(True, which='both')\n",
    "ax[1].set_ylabel('$Q_e$')\n",
    "ax[1].set_xlabel('\\nmin: {0:6.4g}\\n25%: {1:6.4g}\\n50%: {2:6.4g}\\n75%: {3:6.4g}\\nmax: {4:6.4g}'.format(\n",
    "    summary_table_new[c].min(),\n",
    "    summary_table_new[c].quantile(0.25),\n",
    "    summary_table_new[c].quantile(0.5),\n",
    "    summary_table_new[c].quantile(0.75),\n",
    "    summary_table_new[c].max(),\n",
    "                ))\n",
    "ax[1].set_ylim(1e3, 1e6)\n",
    "c = 'Qi_hp'\n",
    "ax[2].boxplot(summary_table_new['Qi_hp'])\n",
    "ax[2].set_ylabel('$Q_i$ (hp)')\n",
    "ax[2].set_yscale('log')\n",
    "ax[2].grid(True, which='both')\n",
    "ax[2].set_xlabel('\\nmin: {0:6.4g}\\n25%: {1:6.4g}\\n50%: {2:6.4g}\\n75%: {3:6.4g}\\nmax: {4:6.4g}'.format(\n",
    "    summary_table_new[c].min(),\n",
    "    summary_table_new[c].quantile(0.25),\n",
    "    summary_table_new[c].quantile(0.5),\n",
    "    summary_table_new[c].quantile(0.75),\n",
    "    summary_table_new[c].max(),\n",
    "                ))\n",
    "ax[2].set_ylim(1e3, 1e6)\n",
    "c = 'Qi_lp'\n",
    "ax[3].boxplot(summary_table_new['Qi_lp'])\n",
    "ax[3].set_ylabel('$Q_i$ (lp)')\n",
    "ax[3].set_yscale('log')\n",
    "ax[3].grid(True, which='both')\n",
    "ax[3].set_xlabel('\\nmin: {0:6.4g}\\n25%: {1:6.4g}\\n50%: {2:6.4g}\\n75%: {3:6.4g}\\nmax: {4:6.4g}'.format(\n",
    "    summary_table_new[c].min(),\n",
    "    summary_table_new[c].quantile(0.25),\n",
    "    summary_table_new[c].quantile(0.5),\n",
    "    summary_table_new[c].quantile(0.75),\n",
    "    summary_table_new[c].max(),\n",
    "                ))\n",
    "ax[3].set_ylim(1e3, 1e6)\n",
    "plt.tight_layout()\n",
    "plt.suptitle(sample_name)\n",
    "plt.savefig('{0}/{1}-boxplot.pdf'.format(save_path, sample_name))"
   ]
  },
  {
   "cell_type": "code",
   "execution_count": 62,
   "metadata": {},
   "outputs": [
    {
     "name": "stdout",
     "output_type": "stream",
     "text": [
      "count    1.000000e+01\n",
      "mean     7.054278e+09\n",
      "std      5.365821e+08\n",
      "min      6.194797e+09\n",
      "25%      6.697112e+09\n",
      "50%      7.115284e+09\n",
      "75%      7.458253e+09\n",
      "max      7.778819e+09\n",
      "Name: fr, dtype: float64\n"
     ]
    }
   ],
   "source": [
    "print(summary_table_new['fr'].describe())"
   ]
  },
  {
   "cell_type": "code",
   "execution_count": 229,
   "metadata": {},
   "outputs": [
    {
     "data": {
      "text/plain": [
       "0"
      ]
     },
     "execution_count": 229,
     "metadata": {},
     "output_type": "execute_result"
    }
   ],
   "source": [
    "rf_switch.get_ch1_switch()"
   ]
  },
  {
   "cell_type": "markdown",
   "metadata": {},
   "source": [
    "# bullshit"
   ]
  },
  {
   "cell_type": "code",
   "execution_count": 23,
   "metadata": {},
   "outputs": [
    {
     "name": "stdout",
     "output_type": "stream",
     "text": [
      "(8.7617753961513634e-08, 0.00021846153804807672, 0.78230385058357799, 9473514161.3102646, 987237.85108576983, 0.0, 9480474204.3878784)\n",
      "{'theta0': -0.87036269078204709, 'Qi_err': 4279766.7041571699, 'Ql_err': 109.19720855604572, 'Qc_err': 91.415426058562019, 'fr': 9482648929.5436897, 'Qc': 763.26702083792111, 'Qi': 198307.89384138637, 'fr_err': 516643.97835309943, 'Ql': 760.34054699522324, 'chi_square': 1.0765021049802501}\n",
      "-129.081045603\n"
     ]
    }
   ],
   "source": [
    "freqs=measurement.get_data()[1]\n",
    "powers=measurement.get_data()[0]\n",
    "max_power_S21 = 10**(measurement.get_data()[2][np.argmax(powers), :]/20)*np.exp(1j*measurement.get_data()[3][np.argmax(powers), :])\n",
    "\n",
    "fitter = circuit.reflection_port(f_data=freqs, z_data_raw=max_power_S21)\n",
    "print(fitter.do_calibration(freqs, max_power_S21))\n",
    "fitter.autofit()\n",
    "fitter.plotall()\n",
    "print(fitter.fitresults)\n",
    "print(fitter.get_single_photon_limit())"
   ]
  },
  {
   "cell_type": "code",
   "execution_count": 6,
   "metadata": {
    "collapsed": true
   },
   "outputs": [],
   "source": [
    "measurement = dm.load_measurement('C:/qtlab/ReiData/data/Feb 27 2017/16-17-54/Res Nb CEXP 17.01.2016 switch 4-2 SH A anti-korenkovian warm')"
   ]
  },
  {
   "cell_type": "code",
   "execution_count": null,
   "metadata": {
    "collapsed": true
   },
   "outputs": [],
   "source": []
  },
  {
   "cell_type": "code",
   "execution_count": null,
   "metadata": {},
   "outputs": [],
   "source": []
  },
  {
   "cell_type": "code",
   "execution_count": null,
   "metadata": {},
   "outputs": [],
   "source": []
  },
  {
   "cell_type": "code",
   "execution_count": null,
   "metadata": {},
   "outputs": [],
   "source": []
  },
  {
   "cell_type": "code",
   "execution_count": 28,
   "metadata": {},
   "outputs": [],
   "source": [
    "%matplotlib qt5"
   ]
  },
  {
   "cell_type": "code",
   "execution_count": 378,
   "metadata": {},
   "outputs": [],
   "source": [
    "names=[r\"C:\\Data\\2018-10-12\\01-04-11-1808_072-2 Coil #NNDAC-6 anticrossings qubit 1\\1808_072-2 Coil #NNDAC-6 anticrossings qubit 1.pkl\",\n",
    "  r'C:\\Data\\2018-10-12\\01-07-54-1808_072-2 Coil #NNDAC-8 anticrossings qubit 2\\1808_072-2 Coil #NNDAC-8 anticrossings qubit 2.pkl',\n",
    "      r'C:\\Data\\2018-10-12\\03-48-08-1808_072-2 Coil #NNDAC-10 anticrossings qubit 3\\1808_072-2 Coil #NNDAC-10 anticrossings qubit 3.pkl',\n",
    "     \n",
    "       r'C:\\Data\\2018-10-12\\03-40-43-1808_072-2 Coil #NNDAC-6 anticrossings qubit 1\\1808_072-2 Coil #NNDAC-6 anticrossings qubit 1.pkl'\n",
    "]"
   ]
  },
  {
   "cell_type": "code",
   "execution_count": 517,
   "metadata": {},
   "outputs": [],
   "source": [
    "num=2"
   ]
  },
  {
   "cell_type": "code",
   "execution_count": 518,
   "metadata": {},
   "outputs": [],
   "source": [
    "f = open(names[num],'rb')\n",
    "data = pickle.load(f)"
   ]
  },
  {
   "cell_type": "code",
   "execution_count": 519,
   "metadata": {},
   "outputs": [],
   "source": [
    "freq=data[1]['S-parameter'][1][1]\n",
    "cur = data[1]['S-parameter'][1][0]\n",
    "s21 = data[1][\"S-parameter\"][2]"
   ]
  },
  {
   "cell_type": "code",
   "execution_count": 523,
   "metadata": {},
   "outputs": [],
   "source": [
    "plt.pcolormesh(cur,freq,np.imag(s21).T)\n",
    "plt.show()"
   ]
  },
  {
   "cell_type": "code",
   "execution_count": 524,
   "metadata": {},
   "outputs": [],
   "source": [
    "plt.plot(freq,np.imag(s21[20]))\n",
    "plt.show()"
   ]
  },
  {
   "cell_type": "code",
   "execution_count": 525,
   "metadata": {},
   "outputs": [],
   "source": [
    "fitdata = resonator_quality_factor_fit.resonator_quality_factor_fit(data[1][\"S-parameter\"], cur, resonator_type=\"reflection_port\")"
   ]
  },
  {
   "cell_type": "code",
   "execution_count": 526,
   "metadata": {
    "scrolled": true
   },
   "outputs": [
    {
     "data": {
      "text/html": [
       "<div>\n",
       "<style scoped>\n",
       "    .dataframe tbody tr th:only-of-type {\n",
       "        vertical-align: middle;\n",
       "    }\n",
       "\n",
       "    .dataframe tbody tr th {\n",
       "        vertical-align: top;\n",
       "    }\n",
       "\n",
       "    .dataframe thead th {\n",
       "        text-align: right;\n",
       "    }\n",
       "</style>\n",
       "<table border=\"1\" class=\"dataframe\">\n",
       "  <thead>\n",
       "    <tr style=\"text-align: right;\">\n",
       "      <th></th>\n",
       "      <th>Qc</th>\n",
       "      <th>Qc_err</th>\n",
       "      <th>Qi</th>\n",
       "      <th>Qi_err</th>\n",
       "      <th>Ql</th>\n",
       "      <th>Ql_err</th>\n",
       "      <th>chi_square</th>\n",
       "      <th>fr</th>\n",
       "      <th>fr_err</th>\n",
       "      <th>power</th>\n",
       "      <th>single_photon_limit</th>\n",
       "      <th>theta0</th>\n",
       "    </tr>\n",
       "  </thead>\n",
       "  <tbody>\n",
       "    <tr>\n",
       "      <th>0</th>\n",
       "      <td>9262.989964</td>\n",
       "      <td>142.612175</td>\n",
       "      <td>102958.281835</td>\n",
       "      <td>12528.012275</td>\n",
       "      <td>8498.402452</td>\n",
       "      <td>160.928894</td>\n",
       "      <td>0.005399</td>\n",
       "      <td>6.735200e+09</td>\n",
       "      <td>4398.452779</td>\n",
       "      <td>-4.00</td>\n",
       "      <td>-142.178465</td>\n",
       "      <td>0.033198</td>\n",
       "    </tr>\n",
       "    <tr>\n",
       "      <th>1</th>\n",
       "      <td>10979.526530</td>\n",
       "      <td>136.986154</td>\n",
       "      <td>140700.671175</td>\n",
       "      <td>20724.511326</td>\n",
       "      <td>10184.762252</td>\n",
       "      <td>165.779408</td>\n",
       "      <td>0.005556</td>\n",
       "      <td>6.735231e+09</td>\n",
       "      <td>3933.047054</td>\n",
       "      <td>-3.92</td>\n",
       "      <td>-143.012372</td>\n",
       "      <td>0.027002</td>\n",
       "    </tr>\n",
       "    <tr>\n",
       "      <th>2</th>\n",
       "      <td>10555.493403</td>\n",
       "      <td>94.280144</td>\n",
       "      <td>133316.851833</td>\n",
       "      <td>13634.316960</td>\n",
       "      <td>9781.067707</td>\n",
       "      <td>112.242598</td>\n",
       "      <td>0.002682</td>\n",
       "      <td>6.735207e+09</td>\n",
       "      <td>2709.110871</td>\n",
       "      <td>-3.84</td>\n",
       "      <td>-142.832162</td>\n",
       "      <td>0.024882</td>\n",
       "    </tr>\n",
       "    <tr>\n",
       "      <th>3</th>\n",
       "      <td>11099.003553</td>\n",
       "      <td>183.920711</td>\n",
       "      <td>137581.722830</td>\n",
       "      <td>23891.859914</td>\n",
       "      <td>10270.463884</td>\n",
       "      <td>218.612187</td>\n",
       "      <td>0.007928</td>\n",
       "      <td>6.735204e+09</td>\n",
       "      <td>4666.945205</td>\n",
       "      <td>-3.76</td>\n",
       "      <td>-143.038188</td>\n",
       "      <td>0.024866</td>\n",
       "    </tr>\n",
       "    <tr>\n",
       "      <th>4</th>\n",
       "      <td>10130.893108</td>\n",
       "      <td>62.119434</td>\n",
       "      <td>120850.835909</td>\n",
       "      <td>8581.236787</td>\n",
       "      <td>9347.310573</td>\n",
       "      <td>77.615613</td>\n",
       "      <td>0.001445</td>\n",
       "      <td>6.735167e+09</td>\n",
       "      <td>2002.704481</td>\n",
       "      <td>-3.68</td>\n",
       "      <td>-142.616530</td>\n",
       "      <td>0.029770</td>\n",
       "    </tr>\n",
       "    <tr>\n",
       "      <th>5</th>\n",
       "      <td>10341.844877</td>\n",
       "      <td>67.772927</td>\n",
       "      <td>127413.888461</td>\n",
       "      <td>10695.147427</td>\n",
       "      <td>9565.443395</td>\n",
       "      <td>87.147707</td>\n",
       "      <td>0.001715</td>\n",
       "      <td>6.735157e+09</td>\n",
       "      <td>2054.196025</td>\n",
       "      <td>-3.60</td>\n",
       "      <td>-142.727409</td>\n",
       "      <td>0.028327</td>\n",
       "    </tr>\n",
       "    <tr>\n",
       "      <th>6</th>\n",
       "      <td>9891.585134</td>\n",
       "      <td>72.733032</td>\n",
       "      <td>112473.472145</td>\n",
       "      <td>8947.314550</td>\n",
       "      <td>9091.982219</td>\n",
       "      <td>94.764240</td>\n",
       "      <td>0.001933</td>\n",
       "      <td>6.735128e+09</td>\n",
       "      <td>2366.272581</td>\n",
       "      <td>-3.52</td>\n",
       "      <td>-142.479836</td>\n",
       "      <td>0.034560</td>\n",
       "    </tr>\n",
       "    <tr>\n",
       "      <th>7</th>\n",
       "      <td>9723.624677</td>\n",
       "      <td>88.090088</td>\n",
       "      <td>116117.435737</td>\n",
       "      <td>10183.398575</td>\n",
       "      <td>8972.289012</td>\n",
       "      <td>105.070459</td>\n",
       "      <td>0.002413</td>\n",
       "      <td>6.735126e+09</td>\n",
       "      <td>2758.064844</td>\n",
       "      <td>-3.44</td>\n",
       "      <td>-142.439110</td>\n",
       "      <td>0.034627</td>\n",
       "    </tr>\n",
       "    <tr>\n",
       "      <th>8</th>\n",
       "      <td>13723.385582</td>\n",
       "      <td>768.631217</td>\n",
       "      <td>185124.674081</td>\n",
       "      <td>134905.987590</td>\n",
       "      <td>12776.273942</td>\n",
       "      <td>965.008794</td>\n",
       "      <td>0.087975</td>\n",
       "      <td>6.735241e+09</td>\n",
       "      <td>12983.616509</td>\n",
       "      <td>-3.36</td>\n",
       "      <td>-144.012649</td>\n",
       "      <td>0.007494</td>\n",
       "    </tr>\n",
       "    <tr>\n",
       "      <th>9</th>\n",
       "      <td>10947.898680</td>\n",
       "      <td>150.763842</td>\n",
       "      <td>135517.431960</td>\n",
       "      <td>21055.132412</td>\n",
       "      <td>10129.572015</td>\n",
       "      <td>180.864744</td>\n",
       "      <td>0.006108</td>\n",
       "      <td>6.735169e+09</td>\n",
       "      <td>4013.971397</td>\n",
       "      <td>-3.28</td>\n",
       "      <td>-142.977785</td>\n",
       "      <td>0.026964</td>\n",
       "    </tr>\n",
       "    <tr>\n",
       "      <th>10</th>\n",
       "      <td>10291.366309</td>\n",
       "      <td>70.553903</td>\n",
       "      <td>118666.937412</td>\n",
       "      <td>9675.870216</td>\n",
       "      <td>9470.075881</td>\n",
       "      <td>88.201817</td>\n",
       "      <td>0.001885</td>\n",
       "      <td>6.735146e+09</td>\n",
       "      <td>2205.181545</td>\n",
       "      <td>-3.20</td>\n",
       "      <td>-142.661640</td>\n",
       "      <td>0.031946</td>\n",
       "    </tr>\n",
       "    <tr>\n",
       "      <th>11</th>\n",
       "      <td>11403.579543</td>\n",
       "      <td>229.406452</td>\n",
       "      <td>144618.123672</td>\n",
       "      <td>32134.076034</td>\n",
       "      <td>10570.095331</td>\n",
       "      <td>272.227086</td>\n",
       "      <td>0.011832</td>\n",
       "      <td>6.735187e+09</td>\n",
       "      <td>5544.652339</td>\n",
       "      <td>-3.12</td>\n",
       "      <td>-143.170414</td>\n",
       "      <td>0.019976</td>\n",
       "    </tr>\n",
       "    <tr>\n",
       "      <th>12</th>\n",
       "      <td>10008.996422</td>\n",
       "      <td>56.116148</td>\n",
       "      <td>120848.793350</td>\n",
       "      <td>7911.207051</td>\n",
       "      <td>9243.432449</td>\n",
       "      <td>72.089890</td>\n",
       "      <td>0.001288</td>\n",
       "      <td>6.735150e+09</td>\n",
       "      <td>1987.919675</td>\n",
       "      <td>-3.04</td>\n",
       "      <td>-142.572055</td>\n",
       "      <td>0.028297</td>\n",
       "    </tr>\n",
       "    <tr>\n",
       "      <th>13</th>\n",
       "      <td>9930.938044</td>\n",
       "      <td>71.306157</td>\n",
       "      <td>119801.242846</td>\n",
       "      <td>9810.718610</td>\n",
       "      <td>9170.729361</td>\n",
       "      <td>94.355775</td>\n",
       "      <td>0.001749</td>\n",
       "      <td>6.735155e+09</td>\n",
       "      <td>2200.811874</td>\n",
       "      <td>-2.96</td>\n",
       "      <td>-142.537464</td>\n",
       "      <td>0.033376</td>\n",
       "    </tr>\n",
       "    <tr>\n",
       "      <th>14</th>\n",
       "      <td>11045.476909</td>\n",
       "      <td>166.855809</td>\n",
       "      <td>149836.097870</td>\n",
       "      <td>24653.279269</td>\n",
       "      <td>10287.139229</td>\n",
       "      <td>192.311746</td>\n",
       "      <td>0.006712</td>\n",
       "      <td>6.735211e+09</td>\n",
       "      <td>4479.716083</td>\n",
       "      <td>-2.88</td>\n",
       "      <td>-143.073264</td>\n",
       "      <td>0.023355</td>\n",
       "    </tr>\n",
       "    <tr>\n",
       "      <th>15</th>\n",
       "      <td>9850.770961</td>\n",
       "      <td>67.423225</td>\n",
       "      <td>127268.915369</td>\n",
       "      <td>11095.369017</td>\n",
       "      <td>9143.084916</td>\n",
       "      <td>88.676716</td>\n",
       "      <td>0.001796</td>\n",
       "      <td>6.735184e+09</td>\n",
       "      <td>2178.769009</td>\n",
       "      <td>-2.80</td>\n",
       "      <td>-142.546405</td>\n",
       "      <td>0.029656</td>\n",
       "    </tr>\n",
       "    <tr>\n",
       "      <th>16</th>\n",
       "      <td>10954.738790</td>\n",
       "      <td>140.691252</td>\n",
       "      <td>147170.107422</td>\n",
       "      <td>24256.207100</td>\n",
       "      <td>10195.804917</td>\n",
       "      <td>166.733390</td>\n",
       "      <td>0.005344</td>\n",
       "      <td>6.735238e+09</td>\n",
       "      <td>3557.540112</td>\n",
       "      <td>-2.72</td>\n",
       "      <td>-143.031592</td>\n",
       "      <td>0.021802</td>\n",
       "    </tr>\n",
       "    <tr>\n",
       "      <th>17</th>\n",
       "      <td>10047.926688</td>\n",
       "      <td>63.552746</td>\n",
       "      <td>125364.795643</td>\n",
       "      <td>9637.237197</td>\n",
       "      <td>9302.348067</td>\n",
       "      <td>85.497934</td>\n",
       "      <td>0.001451</td>\n",
       "      <td>6.735230e+09</td>\n",
       "      <td>2007.228955</td>\n",
       "      <td>-2.64</td>\n",
       "      <td>-142.610280</td>\n",
       "      <td>0.029585</td>\n",
       "    </tr>\n",
       "    <tr>\n",
       "      <th>18</th>\n",
       "      <td>10066.472028</td>\n",
       "      <td>56.054461</td>\n",
       "      <td>124548.971314</td>\n",
       "      <td>8488.879995</td>\n",
       "      <td>9313.706546</td>\n",
       "      <td>69.223391</td>\n",
       "      <td>0.001286</td>\n",
       "      <td>6.735258e+09</td>\n",
       "      <td>1893.555251</td>\n",
       "      <td>-2.56</td>\n",
       "      <td>-142.612834</td>\n",
       "      <td>0.027444</td>\n",
       "    </tr>\n",
       "    <tr>\n",
       "      <th>19</th>\n",
       "      <td>12935.030465</td>\n",
       "      <td>501.799811</td>\n",
       "      <td>173981.375341</td>\n",
       "      <td>85442.164257</td>\n",
       "      <td>12039.897625</td>\n",
       "      <td>626.007266</td>\n",
       "      <td>0.042280</td>\n",
       "      <td>6.735340e+09</td>\n",
       "      <td>9284.353360</td>\n",
       "      <td>-2.48</td>\n",
       "      <td>-143.753832</td>\n",
       "      <td>0.018497</td>\n",
       "    </tr>\n",
       "    <tr>\n",
       "      <th>20</th>\n",
       "      <td>10587.473468</td>\n",
       "      <td>88.438684</td>\n",
       "      <td>132583.613182</td>\n",
       "      <td>13972.301135</td>\n",
       "      <td>9804.531904</td>\n",
       "      <td>113.659079</td>\n",
       "      <td>0.002522</td>\n",
       "      <td>6.735321e+09</td>\n",
       "      <td>2531.940835</td>\n",
       "      <td>-2.40</td>\n",
       "      <td>-142.839689</td>\n",
       "      <td>0.025175</td>\n",
       "    </tr>\n",
       "    <tr>\n",
       "      <th>21</th>\n",
       "      <td>9689.948434</td>\n",
       "      <td>78.833362</td>\n",
       "      <td>125237.767725</td>\n",
       "      <td>11174.218006</td>\n",
       "      <td>8994.056565</td>\n",
       "      <td>96.710133</td>\n",
       "      <td>0.002106</td>\n",
       "      <td>6.735340e+09</td>\n",
       "      <td>2568.046853</td>\n",
       "      <td>-2.32</td>\n",
       "      <td>-142.474948</td>\n",
       "      <td>0.026771</td>\n",
       "    </tr>\n",
       "    <tr>\n",
       "      <th>22</th>\n",
       "      <td>9769.941217</td>\n",
       "      <td>67.068931</td>\n",
       "      <td>122798.845201</td>\n",
       "      <td>9904.934093</td>\n",
       "      <td>9049.924432</td>\n",
       "      <td>86.751932</td>\n",
       "      <td>0.001661</td>\n",
       "      <td>6.735372e+09</td>\n",
       "      <td>2180.948166</td>\n",
       "      <td>-2.24</td>\n",
       "      <td>-142.492989</td>\n",
       "      <td>0.027654</td>\n",
       "    </tr>\n",
       "    <tr>\n",
       "      <th>23</th>\n",
       "      <td>10960.064102</td>\n",
       "      <td>122.101717</td>\n",
       "      <td>146087.759604</td>\n",
       "      <td>20019.812495</td>\n",
       "      <td>10195.182410</td>\n",
       "      <td>149.783130</td>\n",
       "      <td>0.004310</td>\n",
       "      <td>6.735427e+09</td>\n",
       "      <td>3343.827024</td>\n",
       "      <td>-2.16</td>\n",
       "      <td>-143.028708</td>\n",
       "      <td>0.024339</td>\n",
       "    </tr>\n",
       "    <tr>\n",
       "      <th>24</th>\n",
       "      <td>11021.665245</td>\n",
       "      <td>129.541555</td>\n",
       "      <td>145544.337052</td>\n",
       "      <td>19036.501811</td>\n",
       "      <td>10245.780934</td>\n",
       "      <td>150.871725</td>\n",
       "      <td>0.004364</td>\n",
       "      <td>6.735463e+09</td>\n",
       "      <td>3690.982809</td>\n",
       "      <td>-2.08</td>\n",
       "      <td>-143.047321</td>\n",
       "      <td>0.023168</td>\n",
       "    </tr>\n",
       "    <tr>\n",
       "      <th>25</th>\n",
       "      <td>10178.501752</td>\n",
       "      <td>55.884821</td>\n",
       "      <td>132098.850341</td>\n",
       "      <td>9980.737011</td>\n",
       "      <td>9450.333168</td>\n",
       "      <td>73.257092</td>\n",
       "      <td>0.001288</td>\n",
       "      <td>6.735485e+09</td>\n",
       "      <td>1787.450781</td>\n",
       "      <td>-2.00</td>\n",
       "      <td>-142.690967</td>\n",
       "      <td>0.027304</td>\n",
       "    </tr>\n",
       "    <tr>\n",
       "      <th>26</th>\n",
       "      <td>12018.623863</td>\n",
       "      <td>263.478624</td>\n",
       "      <td>154938.060452</td>\n",
       "      <td>38976.304211</td>\n",
       "      <td>11153.445448</td>\n",
       "      <td>323.375884</td>\n",
       "      <td>0.014672</td>\n",
       "      <td>6.735549e+09</td>\n",
       "      <td>6135.750479</td>\n",
       "      <td>-1.92</td>\n",
       "      <td>-143.408415</td>\n",
       "      <td>0.023065</td>\n",
       "    </tr>\n",
       "    <tr>\n",
       "      <th>27</th>\n",
       "      <td>10164.323393</td>\n",
       "      <td>56.834106</td>\n",
       "      <td>129651.245621</td>\n",
       "      <td>10319.334698</td>\n",
       "      <td>9425.396600</td>\n",
       "      <td>77.054128</td>\n",
       "      <td>0.001343</td>\n",
       "      <td>6.735568e+09</td>\n",
       "      <td>1771.038093</td>\n",
       "      <td>-1.84</td>\n",
       "      <td>-142.673964</td>\n",
       "      <td>0.027073</td>\n",
       "    </tr>\n",
       "    <tr>\n",
       "      <th>28</th>\n",
       "      <td>11129.249143</td>\n",
       "      <td>140.679873</td>\n",
       "      <td>153567.272595</td>\n",
       "      <td>25182.224271</td>\n",
       "      <td>10377.198127</td>\n",
       "      <td>172.462567</td>\n",
       "      <td>0.005595</td>\n",
       "      <td>6.735619e+09</td>\n",
       "      <td>3719.732220</td>\n",
       "      <td>-1.76</td>\n",
       "      <td>-143.115634</td>\n",
       "      <td>0.025494</td>\n",
       "    </tr>\n",
       "    <tr>\n",
       "      <th>29</th>\n",
       "      <td>10055.745856</td>\n",
       "      <td>61.336533</td>\n",
       "      <td>128756.236317</td>\n",
       "      <td>10038.312675</td>\n",
       "      <td>9327.292712</td>\n",
       "      <td>79.812569</td>\n",
       "      <td>0.001619</td>\n",
       "      <td>6.735649e+09</td>\n",
       "      <td>2185.680787</td>\n",
       "      <td>-1.68</td>\n",
       "      <td>-142.629621</td>\n",
       "      <td>0.028729</td>\n",
       "    </tr>\n",
       "    <tr>\n",
       "      <th>...</th>\n",
       "      <td>...</td>\n",
       "      <td>...</td>\n",
       "      <td>...</td>\n",
       "      <td>...</td>\n",
       "      <td>...</td>\n",
       "      <td>...</td>\n",
       "      <td>...</td>\n",
       "      <td>...</td>\n",
       "      <td>...</td>\n",
       "      <td>...</td>\n",
       "      <td>...</td>\n",
       "      <td>...</td>\n",
       "    </tr>\n",
       "    <tr>\n",
       "      <th>71</th>\n",
       "      <td>7473.992855</td>\n",
       "      <td>224.504982</td>\n",
       "      <td>84860.909248</td>\n",
       "      <td>24488.750720</td>\n",
       "      <td>6869.015020</td>\n",
       "      <td>259.566938</td>\n",
       "      <td>0.034755</td>\n",
       "      <td>6.736096e+09</td>\n",
       "      <td>11344.416414</td>\n",
       "      <td>1.68</td>\n",
       "      <td>-141.260439</td>\n",
       "      <td>0.018829</td>\n",
       "    </tr>\n",
       "    <tr>\n",
       "      <th>72</th>\n",
       "      <td>10438.096169</td>\n",
       "      <td>60.002236</td>\n",
       "      <td>139641.782954</td>\n",
       "      <td>12732.730288</td>\n",
       "      <td>9712.123758</td>\n",
       "      <td>81.921060</td>\n",
       "      <td>0.001572</td>\n",
       "      <td>6.736024e+09</td>\n",
       "      <td>1856.863507</td>\n",
       "      <td>1.76</td>\n",
       "      <td>-142.818240</td>\n",
       "      <td>0.025011</td>\n",
       "    </tr>\n",
       "    <tr>\n",
       "      <th>73</th>\n",
       "      <td>10411.708034</td>\n",
       "      <td>64.524656</td>\n",
       "      <td>138548.587318</td>\n",
       "      <td>11717.265545</td>\n",
       "      <td>9683.972741</td>\n",
       "      <td>83.128839</td>\n",
       "      <td>0.001784</td>\n",
       "      <td>6.735976e+09</td>\n",
       "      <td>2260.028768</td>\n",
       "      <td>1.84</td>\n",
       "      <td>-142.804082</td>\n",
       "      <td>0.026381</td>\n",
       "    </tr>\n",
       "    <tr>\n",
       "      <th>74</th>\n",
       "      <td>11347.947459</td>\n",
       "      <td>153.675620</td>\n",
       "      <td>161387.329902</td>\n",
       "      <td>25437.755266</td>\n",
       "      <td>10602.437257</td>\n",
       "      <td>175.802109</td>\n",
       "      <td>0.005864</td>\n",
       "      <td>6.735924e+09</td>\n",
       "      <td>4419.131900</td>\n",
       "      <td>1.92</td>\n",
       "      <td>-143.217238</td>\n",
       "      <td>0.021807</td>\n",
       "    </tr>\n",
       "    <tr>\n",
       "      <th>75</th>\n",
       "      <td>11516.794737</td>\n",
       "      <td>167.461560</td>\n",
       "      <td>166972.498376</td>\n",
       "      <td>32049.827262</td>\n",
       "      <td>10773.688197</td>\n",
       "      <td>196.637553</td>\n",
       "      <td>0.007240</td>\n",
       "      <td>6.735870e+09</td>\n",
       "      <td>4299.238032</td>\n",
       "      <td>2.00</td>\n",
       "      <td>-143.292339</td>\n",
       "      <td>0.028915</td>\n",
       "    </tr>\n",
       "    <tr>\n",
       "      <th>76</th>\n",
       "      <td>10793.972604</td>\n",
       "      <td>84.455507</td>\n",
       "      <td>145467.826854</td>\n",
       "      <td>16160.004498</td>\n",
       "      <td>10048.365904</td>\n",
       "      <td>109.063996</td>\n",
       "      <td>0.002629</td>\n",
       "      <td>6.735817e+09</td>\n",
       "      <td>2575.032200</td>\n",
       "      <td>2.08</td>\n",
       "      <td>-142.968531</td>\n",
       "      <td>0.027179</td>\n",
       "    </tr>\n",
       "    <tr>\n",
       "      <th>77</th>\n",
       "      <td>11258.547696</td>\n",
       "      <td>135.969644</td>\n",
       "      <td>156062.509131</td>\n",
       "      <td>26229.110771</td>\n",
       "      <td>10500.992738</td>\n",
       "      <td>176.973726</td>\n",
       "      <td>0.005546</td>\n",
       "      <td>6.735766e+09</td>\n",
       "      <td>3619.622172</td>\n",
       "      <td>2.16</td>\n",
       "      <td>-143.168284</td>\n",
       "      <td>0.028199</td>\n",
       "    </tr>\n",
       "    <tr>\n",
       "      <th>78</th>\n",
       "      <td>11081.425665</td>\n",
       "      <td>119.377428</td>\n",
       "      <td>155473.183615</td>\n",
       "      <td>22088.629112</td>\n",
       "      <td>10344.141988</td>\n",
       "      <td>147.664035</td>\n",
       "      <td>0.004317</td>\n",
       "      <td>6.735719e+09</td>\n",
       "      <td>3370.119119</td>\n",
       "      <td>2.24</td>\n",
       "      <td>-143.106495</td>\n",
       "      <td>0.028141</td>\n",
       "    </tr>\n",
       "    <tr>\n",
       "      <th>79</th>\n",
       "      <td>11988.168659</td>\n",
       "      <td>239.965053</td>\n",
       "      <td>164482.310079</td>\n",
       "      <td>40480.707465</td>\n",
       "      <td>11173.776423</td>\n",
       "      <td>288.673282</td>\n",
       "      <td>0.013264</td>\n",
       "      <td>6.735674e+09</td>\n",
       "      <td>5916.614490</td>\n",
       "      <td>2.32</td>\n",
       "      <td>-143.435090</td>\n",
       "      <td>0.028193</td>\n",
       "    </tr>\n",
       "    <tr>\n",
       "      <th>80</th>\n",
       "      <td>11562.131095</td>\n",
       "      <td>183.023154</td>\n",
       "      <td>166022.495928</td>\n",
       "      <td>35429.652849</td>\n",
       "      <td>10809.347041</td>\n",
       "      <td>225.641860</td>\n",
       "      <td>0.008482</td>\n",
       "      <td>6.735623e+09</td>\n",
       "      <td>4475.621834</td>\n",
       "      <td>2.40</td>\n",
       "      <td>-143.304295</td>\n",
       "      <td>0.025063</td>\n",
       "    </tr>\n",
       "    <tr>\n",
       "      <th>81</th>\n",
       "      <td>12016.842384</td>\n",
       "      <td>248.042163</td>\n",
       "      <td>156216.314127</td>\n",
       "      <td>39613.897610</td>\n",
       "      <td>11158.483045</td>\n",
       "      <td>302.811416</td>\n",
       "      <td>0.014171</td>\n",
       "      <td>6.735582e+09</td>\n",
       "      <td>5850.973293</td>\n",
       "      <td>2.48</td>\n",
       "      <td>-143.412937</td>\n",
       "      <td>0.029702</td>\n",
       "    </tr>\n",
       "    <tr>\n",
       "      <th>82</th>\n",
       "      <td>11805.694820</td>\n",
       "      <td>236.164698</td>\n",
       "      <td>161289.246349</td>\n",
       "      <td>38248.226525</td>\n",
       "      <td>11000.504158</td>\n",
       "      <td>284.426093</td>\n",
       "      <td>0.012742</td>\n",
       "      <td>6.735538e+09</td>\n",
       "      <td>5977.871011</td>\n",
       "      <td>2.56</td>\n",
       "      <td>-143.366131</td>\n",
       "      <td>0.030395</td>\n",
       "    </tr>\n",
       "    <tr>\n",
       "      <th>83</th>\n",
       "      <td>10329.990323</td>\n",
       "      <td>59.485388</td>\n",
       "      <td>136315.803422</td>\n",
       "      <td>10835.368995</td>\n",
       "      <td>9602.327447</td>\n",
       "      <td>79.404353</td>\n",
       "      <td>0.001442</td>\n",
       "      <td>6.735479e+09</td>\n",
       "      <td>1939.595903</td>\n",
       "      <td>2.64</td>\n",
       "      <td>-142.765402</td>\n",
       "      <td>0.029563</td>\n",
       "    </tr>\n",
       "    <tr>\n",
       "      <th>84</th>\n",
       "      <td>10131.573376</td>\n",
       "      <td>58.897011</td>\n",
       "      <td>130883.466184</td>\n",
       "      <td>10007.189359</td>\n",
       "      <td>9403.645494</td>\n",
       "      <td>76.516061</td>\n",
       "      <td>0.001470</td>\n",
       "      <td>6.735438e+09</td>\n",
       "      <td>2006.858217</td>\n",
       "      <td>2.72</td>\n",
       "      <td>-142.668080</td>\n",
       "      <td>0.029308</td>\n",
       "    </tr>\n",
       "    <tr>\n",
       "      <th>85</th>\n",
       "      <td>9834.949736</td>\n",
       "      <td>76.830705</td>\n",
       "      <td>125516.711820</td>\n",
       "      <td>12135.996569</td>\n",
       "      <td>9120.320634</td>\n",
       "      <td>101.044920</td>\n",
       "      <td>0.002250</td>\n",
       "      <td>6.735392e+09</td>\n",
       "      <td>2506.281449</td>\n",
       "      <td>2.80</td>\n",
       "      <td>-142.531464</td>\n",
       "      <td>0.032220</td>\n",
       "    </tr>\n",
       "    <tr>\n",
       "      <th>86</th>\n",
       "      <td>10342.708517</td>\n",
       "      <td>61.727656</td>\n",
       "      <td>134890.693230</td>\n",
       "      <td>10805.963375</td>\n",
       "      <td>9606.158810</td>\n",
       "      <td>78.243435</td>\n",
       "      <td>0.001512</td>\n",
       "      <td>6.735370e+09</td>\n",
       "      <td>1969.837405</td>\n",
       "      <td>2.88</td>\n",
       "      <td>-142.763665</td>\n",
       "      <td>0.029152</td>\n",
       "    </tr>\n",
       "    <tr>\n",
       "      <th>87</th>\n",
       "      <td>10225.492454</td>\n",
       "      <td>59.232255</td>\n",
       "      <td>136365.280145</td>\n",
       "      <td>11108.883046</td>\n",
       "      <td>9512.209523</td>\n",
       "      <td>79.263867</td>\n",
       "      <td>0.001422</td>\n",
       "      <td>6.735339e+09</td>\n",
       "      <td>1906.913239</td>\n",
       "      <td>2.96</td>\n",
       "      <td>-142.727838</td>\n",
       "      <td>0.028593</td>\n",
       "    </tr>\n",
       "    <tr>\n",
       "      <th>88</th>\n",
       "      <td>10882.731837</td>\n",
       "      <td>116.291516</td>\n",
       "      <td>147688.639506</td>\n",
       "      <td>20496.732322</td>\n",
       "      <td>10135.851418</td>\n",
       "      <td>137.058801</td>\n",
       "      <td>0.003852</td>\n",
       "      <td>6.735321e+09</td>\n",
       "      <td>2988.511888</td>\n",
       "      <td>3.04</td>\n",
       "      <td>-143.008900</td>\n",
       "      <td>0.029519</td>\n",
       "    </tr>\n",
       "    <tr>\n",
       "      <th>89</th>\n",
       "      <td>11011.236867</td>\n",
       "      <td>140.297669</td>\n",
       "      <td>144080.760294</td>\n",
       "      <td>22242.848292</td>\n",
       "      <td>10229.459989</td>\n",
       "      <td>168.868950</td>\n",
       "      <td>0.005488</td>\n",
       "      <td>6.735300e+09</td>\n",
       "      <td>3719.945348</td>\n",
       "      <td>3.12</td>\n",
       "      <td>-143.037796</td>\n",
       "      <td>0.028518</td>\n",
       "    </tr>\n",
       "    <tr>\n",
       "      <th>90</th>\n",
       "      <td>10353.613446</td>\n",
       "      <td>74.518307</td>\n",
       "      <td>132068.078574</td>\n",
       "      <td>12009.615775</td>\n",
       "      <td>9600.937995</td>\n",
       "      <td>90.274604</td>\n",
       "      <td>0.001929</td>\n",
       "      <td>6.735256e+09</td>\n",
       "      <td>2182.820604</td>\n",
       "      <td>3.20</td>\n",
       "      <td>-142.754512</td>\n",
       "      <td>0.032927</td>\n",
       "    </tr>\n",
       "    <tr>\n",
       "      <th>91</th>\n",
       "      <td>10237.285432</td>\n",
       "      <td>60.770175</td>\n",
       "      <td>131552.103346</td>\n",
       "      <td>9910.049720</td>\n",
       "      <td>9498.146813</td>\n",
       "      <td>77.455770</td>\n",
       "      <td>0.001431</td>\n",
       "      <td>6.735236e+09</td>\n",
       "      <td>2009.729709</td>\n",
       "      <td>3.28</td>\n",
       "      <td>-142.710114</td>\n",
       "      <td>0.027808</td>\n",
       "    </tr>\n",
       "    <tr>\n",
       "      <th>92</th>\n",
       "      <td>10382.303555</td>\n",
       "      <td>66.955595</td>\n",
       "      <td>131626.060356</td>\n",
       "      <td>11102.498082</td>\n",
       "      <td>9623.248073</td>\n",
       "      <td>86.067595</td>\n",
       "      <td>0.001647</td>\n",
       "      <td>6.735217e+09</td>\n",
       "      <td>2006.943507</td>\n",
       "      <td>3.36</td>\n",
       "      <td>-142.762706</td>\n",
       "      <td>0.030831</td>\n",
       "    </tr>\n",
       "    <tr>\n",
       "      <th>93</th>\n",
       "      <td>9636.408560</td>\n",
       "      <td>99.478923</td>\n",
       "      <td>121758.814812</td>\n",
       "      <td>12217.525021</td>\n",
       "      <td>8929.682945</td>\n",
       "      <td>118.161926</td>\n",
       "      <td>0.002903</td>\n",
       "      <td>6.735174e+09</td>\n",
       "      <td>3110.309417</td>\n",
       "      <td>3.44</td>\n",
       "      <td>-142.436833</td>\n",
       "      <td>0.033447</td>\n",
       "    </tr>\n",
       "    <tr>\n",
       "      <th>94</th>\n",
       "      <td>10723.128232</td>\n",
       "      <td>115.286055</td>\n",
       "      <td>135906.224216</td>\n",
       "      <td>17275.878466</td>\n",
       "      <td>9938.936819</td>\n",
       "      <td>136.274682</td>\n",
       "      <td>0.003878</td>\n",
       "      <td>6.735196e+09</td>\n",
       "      <td>3114.067796</td>\n",
       "      <td>3.52</td>\n",
       "      <td>-142.902820</td>\n",
       "      <td>0.026505</td>\n",
       "    </tr>\n",
       "    <tr>\n",
       "      <th>95</th>\n",
       "      <td>10522.427622</td>\n",
       "      <td>88.986477</td>\n",
       "      <td>121441.810298</td>\n",
       "      <td>11523.699597</td>\n",
       "      <td>9683.401195</td>\n",
       "      <td>112.635981</td>\n",
       "      <td>0.002593</td>\n",
       "      <td>6.735174e+09</td>\n",
       "      <td>2652.804332</td>\n",
       "      <td>3.60</td>\n",
       "      <td>-142.758664</td>\n",
       "      <td>0.030654</td>\n",
       "    </tr>\n",
       "    <tr>\n",
       "      <th>96</th>\n",
       "      <td>9905.494738</td>\n",
       "      <td>65.851260</td>\n",
       "      <td>120050.806039</td>\n",
       "      <td>9159.081848</td>\n",
       "      <td>9150.480742</td>\n",
       "      <td>84.409420</td>\n",
       "      <td>0.001697</td>\n",
       "      <td>6.735146e+09</td>\n",
       "      <td>2241.363561</td>\n",
       "      <td>3.68</td>\n",
       "      <td>-142.529417</td>\n",
       "      <td>0.030476</td>\n",
       "    </tr>\n",
       "    <tr>\n",
       "      <th>97</th>\n",
       "      <td>9606.210029</td>\n",
       "      <td>101.668049</td>\n",
       "      <td>115419.993725</td>\n",
       "      <td>11039.057986</td>\n",
       "      <td>8868.130584</td>\n",
       "      <td>120.519149</td>\n",
       "      <td>0.002922</td>\n",
       "      <td>6.735132e+09</td>\n",
       "      <td>3244.415463</td>\n",
       "      <td>3.76</td>\n",
       "      <td>-142.390439</td>\n",
       "      <td>0.031015</td>\n",
       "    </tr>\n",
       "    <tr>\n",
       "      <th>98</th>\n",
       "      <td>11163.780042</td>\n",
       "      <td>196.992779</td>\n",
       "      <td>143562.990046</td>\n",
       "      <td>28141.012321</td>\n",
       "      <td>10358.295737</td>\n",
       "      <td>238.814874</td>\n",
       "      <td>0.009069</td>\n",
       "      <td>6.735175e+09</td>\n",
       "      <td>4827.319016</td>\n",
       "      <td>3.84</td>\n",
       "      <td>-143.086917</td>\n",
       "      <td>0.024411</td>\n",
       "    </tr>\n",
       "    <tr>\n",
       "      <th>99</th>\n",
       "      <td>10702.120471</td>\n",
       "      <td>126.083310</td>\n",
       "      <td>127927.391846</td>\n",
       "      <td>15136.511966</td>\n",
       "      <td>9875.922783</td>\n",
       "      <td>144.418393</td>\n",
       "      <td>0.004271</td>\n",
       "      <td>6.735158e+09</td>\n",
       "      <td>3571.383864</td>\n",
       "      <td>3.92</td>\n",
       "      <td>-142.856141</td>\n",
       "      <td>0.028550</td>\n",
       "    </tr>\n",
       "    <tr>\n",
       "      <th>100</th>\n",
       "      <td>10532.356387</td>\n",
       "      <td>98.722845</td>\n",
       "      <td>126746.826917</td>\n",
       "      <td>12700.093547</td>\n",
       "      <td>9724.291184</td>\n",
       "      <td>116.230007</td>\n",
       "      <td>0.002871</td>\n",
       "      <td>6.735155e+09</td>\n",
       "      <td>2874.849557</td>\n",
       "      <td>4.00</td>\n",
       "      <td>-142.791193</td>\n",
       "      <td>0.024570</td>\n",
       "    </tr>\n",
       "  </tbody>\n",
       "</table>\n",
       "<p>101 rows × 12 columns</p>\n",
       "</div>"
      ],
      "text/plain": [
       "               Qc      Qc_err             Qi         Qi_err            Ql  \\\n",
       "0     9262.989964  142.612175  102958.281835   12528.012275   8498.402452   \n",
       "1    10979.526530  136.986154  140700.671175   20724.511326  10184.762252   \n",
       "2    10555.493403   94.280144  133316.851833   13634.316960   9781.067707   \n",
       "3    11099.003553  183.920711  137581.722830   23891.859914  10270.463884   \n",
       "4    10130.893108   62.119434  120850.835909    8581.236787   9347.310573   \n",
       "5    10341.844877   67.772927  127413.888461   10695.147427   9565.443395   \n",
       "6     9891.585134   72.733032  112473.472145    8947.314550   9091.982219   \n",
       "7     9723.624677   88.090088  116117.435737   10183.398575   8972.289012   \n",
       "8    13723.385582  768.631217  185124.674081  134905.987590  12776.273942   \n",
       "9    10947.898680  150.763842  135517.431960   21055.132412  10129.572015   \n",
       "10   10291.366309   70.553903  118666.937412    9675.870216   9470.075881   \n",
       "11   11403.579543  229.406452  144618.123672   32134.076034  10570.095331   \n",
       "12   10008.996422   56.116148  120848.793350    7911.207051   9243.432449   \n",
       "13    9930.938044   71.306157  119801.242846    9810.718610   9170.729361   \n",
       "14   11045.476909  166.855809  149836.097870   24653.279269  10287.139229   \n",
       "15    9850.770961   67.423225  127268.915369   11095.369017   9143.084916   \n",
       "16   10954.738790  140.691252  147170.107422   24256.207100  10195.804917   \n",
       "17   10047.926688   63.552746  125364.795643    9637.237197   9302.348067   \n",
       "18   10066.472028   56.054461  124548.971314    8488.879995   9313.706546   \n",
       "19   12935.030465  501.799811  173981.375341   85442.164257  12039.897625   \n",
       "20   10587.473468   88.438684  132583.613182   13972.301135   9804.531904   \n",
       "21    9689.948434   78.833362  125237.767725   11174.218006   8994.056565   \n",
       "22    9769.941217   67.068931  122798.845201    9904.934093   9049.924432   \n",
       "23   10960.064102  122.101717  146087.759604   20019.812495  10195.182410   \n",
       "24   11021.665245  129.541555  145544.337052   19036.501811  10245.780934   \n",
       "25   10178.501752   55.884821  132098.850341    9980.737011   9450.333168   \n",
       "26   12018.623863  263.478624  154938.060452   38976.304211  11153.445448   \n",
       "27   10164.323393   56.834106  129651.245621   10319.334698   9425.396600   \n",
       "28   11129.249143  140.679873  153567.272595   25182.224271  10377.198127   \n",
       "29   10055.745856   61.336533  128756.236317   10038.312675   9327.292712   \n",
       "..            ...         ...            ...            ...           ...   \n",
       "71    7473.992855  224.504982   84860.909248   24488.750720   6869.015020   \n",
       "72   10438.096169   60.002236  139641.782954   12732.730288   9712.123758   \n",
       "73   10411.708034   64.524656  138548.587318   11717.265545   9683.972741   \n",
       "74   11347.947459  153.675620  161387.329902   25437.755266  10602.437257   \n",
       "75   11516.794737  167.461560  166972.498376   32049.827262  10773.688197   \n",
       "76   10793.972604   84.455507  145467.826854   16160.004498  10048.365904   \n",
       "77   11258.547696  135.969644  156062.509131   26229.110771  10500.992738   \n",
       "78   11081.425665  119.377428  155473.183615   22088.629112  10344.141988   \n",
       "79   11988.168659  239.965053  164482.310079   40480.707465  11173.776423   \n",
       "80   11562.131095  183.023154  166022.495928   35429.652849  10809.347041   \n",
       "81   12016.842384  248.042163  156216.314127   39613.897610  11158.483045   \n",
       "82   11805.694820  236.164698  161289.246349   38248.226525  11000.504158   \n",
       "83   10329.990323   59.485388  136315.803422   10835.368995   9602.327447   \n",
       "84   10131.573376   58.897011  130883.466184   10007.189359   9403.645494   \n",
       "85    9834.949736   76.830705  125516.711820   12135.996569   9120.320634   \n",
       "86   10342.708517   61.727656  134890.693230   10805.963375   9606.158810   \n",
       "87   10225.492454   59.232255  136365.280145   11108.883046   9512.209523   \n",
       "88   10882.731837  116.291516  147688.639506   20496.732322  10135.851418   \n",
       "89   11011.236867  140.297669  144080.760294   22242.848292  10229.459989   \n",
       "90   10353.613446   74.518307  132068.078574   12009.615775   9600.937995   \n",
       "91   10237.285432   60.770175  131552.103346    9910.049720   9498.146813   \n",
       "92   10382.303555   66.955595  131626.060356   11102.498082   9623.248073   \n",
       "93    9636.408560   99.478923  121758.814812   12217.525021   8929.682945   \n",
       "94   10723.128232  115.286055  135906.224216   17275.878466   9938.936819   \n",
       "95   10522.427622   88.986477  121441.810298   11523.699597   9683.401195   \n",
       "96    9905.494738   65.851260  120050.806039    9159.081848   9150.480742   \n",
       "97    9606.210029  101.668049  115419.993725   11039.057986   8868.130584   \n",
       "98   11163.780042  196.992779  143562.990046   28141.012321  10358.295737   \n",
       "99   10702.120471  126.083310  127927.391846   15136.511966   9875.922783   \n",
       "100  10532.356387   98.722845  126746.826917   12700.093547   9724.291184   \n",
       "\n",
       "         Ql_err  chi_square            fr        fr_err  power  \\\n",
       "0    160.928894    0.005399  6.735200e+09   4398.452779  -4.00   \n",
       "1    165.779408    0.005556  6.735231e+09   3933.047054  -3.92   \n",
       "2    112.242598    0.002682  6.735207e+09   2709.110871  -3.84   \n",
       "3    218.612187    0.007928  6.735204e+09   4666.945205  -3.76   \n",
       "4     77.615613    0.001445  6.735167e+09   2002.704481  -3.68   \n",
       "5     87.147707    0.001715  6.735157e+09   2054.196025  -3.60   \n",
       "6     94.764240    0.001933  6.735128e+09   2366.272581  -3.52   \n",
       "7    105.070459    0.002413  6.735126e+09   2758.064844  -3.44   \n",
       "8    965.008794    0.087975  6.735241e+09  12983.616509  -3.36   \n",
       "9    180.864744    0.006108  6.735169e+09   4013.971397  -3.28   \n",
       "10    88.201817    0.001885  6.735146e+09   2205.181545  -3.20   \n",
       "11   272.227086    0.011832  6.735187e+09   5544.652339  -3.12   \n",
       "12    72.089890    0.001288  6.735150e+09   1987.919675  -3.04   \n",
       "13    94.355775    0.001749  6.735155e+09   2200.811874  -2.96   \n",
       "14   192.311746    0.006712  6.735211e+09   4479.716083  -2.88   \n",
       "15    88.676716    0.001796  6.735184e+09   2178.769009  -2.80   \n",
       "16   166.733390    0.005344  6.735238e+09   3557.540112  -2.72   \n",
       "17    85.497934    0.001451  6.735230e+09   2007.228955  -2.64   \n",
       "18    69.223391    0.001286  6.735258e+09   1893.555251  -2.56   \n",
       "19   626.007266    0.042280  6.735340e+09   9284.353360  -2.48   \n",
       "20   113.659079    0.002522  6.735321e+09   2531.940835  -2.40   \n",
       "21    96.710133    0.002106  6.735340e+09   2568.046853  -2.32   \n",
       "22    86.751932    0.001661  6.735372e+09   2180.948166  -2.24   \n",
       "23   149.783130    0.004310  6.735427e+09   3343.827024  -2.16   \n",
       "24   150.871725    0.004364  6.735463e+09   3690.982809  -2.08   \n",
       "25    73.257092    0.001288  6.735485e+09   1787.450781  -2.00   \n",
       "26   323.375884    0.014672  6.735549e+09   6135.750479  -1.92   \n",
       "27    77.054128    0.001343  6.735568e+09   1771.038093  -1.84   \n",
       "28   172.462567    0.005595  6.735619e+09   3719.732220  -1.76   \n",
       "29    79.812569    0.001619  6.735649e+09   2185.680787  -1.68   \n",
       "..          ...         ...           ...           ...    ...   \n",
       "71   259.566938    0.034755  6.736096e+09  11344.416414   1.68   \n",
       "72    81.921060    0.001572  6.736024e+09   1856.863507   1.76   \n",
       "73    83.128839    0.001784  6.735976e+09   2260.028768   1.84   \n",
       "74   175.802109    0.005864  6.735924e+09   4419.131900   1.92   \n",
       "75   196.637553    0.007240  6.735870e+09   4299.238032   2.00   \n",
       "76   109.063996    0.002629  6.735817e+09   2575.032200   2.08   \n",
       "77   176.973726    0.005546  6.735766e+09   3619.622172   2.16   \n",
       "78   147.664035    0.004317  6.735719e+09   3370.119119   2.24   \n",
       "79   288.673282    0.013264  6.735674e+09   5916.614490   2.32   \n",
       "80   225.641860    0.008482  6.735623e+09   4475.621834   2.40   \n",
       "81   302.811416    0.014171  6.735582e+09   5850.973293   2.48   \n",
       "82   284.426093    0.012742  6.735538e+09   5977.871011   2.56   \n",
       "83    79.404353    0.001442  6.735479e+09   1939.595903   2.64   \n",
       "84    76.516061    0.001470  6.735438e+09   2006.858217   2.72   \n",
       "85   101.044920    0.002250  6.735392e+09   2506.281449   2.80   \n",
       "86    78.243435    0.001512  6.735370e+09   1969.837405   2.88   \n",
       "87    79.263867    0.001422  6.735339e+09   1906.913239   2.96   \n",
       "88   137.058801    0.003852  6.735321e+09   2988.511888   3.04   \n",
       "89   168.868950    0.005488  6.735300e+09   3719.945348   3.12   \n",
       "90    90.274604    0.001929  6.735256e+09   2182.820604   3.20   \n",
       "91    77.455770    0.001431  6.735236e+09   2009.729709   3.28   \n",
       "92    86.067595    0.001647  6.735217e+09   2006.943507   3.36   \n",
       "93   118.161926    0.002903  6.735174e+09   3110.309417   3.44   \n",
       "94   136.274682    0.003878  6.735196e+09   3114.067796   3.52   \n",
       "95   112.635981    0.002593  6.735174e+09   2652.804332   3.60   \n",
       "96    84.409420    0.001697  6.735146e+09   2241.363561   3.68   \n",
       "97   120.519149    0.002922  6.735132e+09   3244.415463   3.76   \n",
       "98   238.814874    0.009069  6.735175e+09   4827.319016   3.84   \n",
       "99   144.418393    0.004271  6.735158e+09   3571.383864   3.92   \n",
       "100  116.230007    0.002871  6.735155e+09   2874.849557   4.00   \n",
       "\n",
       "     single_photon_limit    theta0  \n",
       "0            -142.178465  0.033198  \n",
       "1            -143.012372  0.027002  \n",
       "2            -142.832162  0.024882  \n",
       "3            -143.038188  0.024866  \n",
       "4            -142.616530  0.029770  \n",
       "5            -142.727409  0.028327  \n",
       "6            -142.479836  0.034560  \n",
       "7            -142.439110  0.034627  \n",
       "8            -144.012649  0.007494  \n",
       "9            -142.977785  0.026964  \n",
       "10           -142.661640  0.031946  \n",
       "11           -143.170414  0.019976  \n",
       "12           -142.572055  0.028297  \n",
       "13           -142.537464  0.033376  \n",
       "14           -143.073264  0.023355  \n",
       "15           -142.546405  0.029656  \n",
       "16           -143.031592  0.021802  \n",
       "17           -142.610280  0.029585  \n",
       "18           -142.612834  0.027444  \n",
       "19           -143.753832  0.018497  \n",
       "20           -142.839689  0.025175  \n",
       "21           -142.474948  0.026771  \n",
       "22           -142.492989  0.027654  \n",
       "23           -143.028708  0.024339  \n",
       "24           -143.047321  0.023168  \n",
       "25           -142.690967  0.027304  \n",
       "26           -143.408415  0.023065  \n",
       "27           -142.673964  0.027073  \n",
       "28           -143.115634  0.025494  \n",
       "29           -142.629621  0.028729  \n",
       "..                   ...       ...  \n",
       "71           -141.260439  0.018829  \n",
       "72           -142.818240  0.025011  \n",
       "73           -142.804082  0.026381  \n",
       "74           -143.217238  0.021807  \n",
       "75           -143.292339  0.028915  \n",
       "76           -142.968531  0.027179  \n",
       "77           -143.168284  0.028199  \n",
       "78           -143.106495  0.028141  \n",
       "79           -143.435090  0.028193  \n",
       "80           -143.304295  0.025063  \n",
       "81           -143.412937  0.029702  \n",
       "82           -143.366131  0.030395  \n",
       "83           -142.765402  0.029563  \n",
       "84           -142.668080  0.029308  \n",
       "85           -142.531464  0.032220  \n",
       "86           -142.763665  0.029152  \n",
       "87           -142.727838  0.028593  \n",
       "88           -143.008900  0.029519  \n",
       "89           -143.037796  0.028518  \n",
       "90           -142.754512  0.032927  \n",
       "91           -142.710114  0.027808  \n",
       "92           -142.762706  0.030831  \n",
       "93           -142.436833  0.033447  \n",
       "94           -142.902820  0.026505  \n",
       "95           -142.758664  0.030654  \n",
       "96           -142.529417  0.030476  \n",
       "97           -142.390439  0.031015  \n",
       "98           -143.086917  0.024411  \n",
       "99           -142.856141  0.028550  \n",
       "100          -142.791193  0.024570  \n",
       "\n",
       "[101 rows x 12 columns]"
      ]
     },
     "execution_count": 526,
     "metadata": {},
     "output_type": "execute_result"
    }
   ],
   "source": [
    "fitdata"
   ]
  },
  {
   "cell_type": "code",
   "execution_count": null,
   "metadata": {},
   "outputs": [],
   "source": []
  },
  {
   "cell_type": "code",
   "execution_count": 527,
   "metadata": {},
   "outputs": [],
   "source": [
    "fr=fitdata['fr']\n",
    "Q=fitdata['Qi']"
   ]
  },
  {
   "cell_type": "code",
   "execution_count": 528,
   "metadata": {},
   "outputs": [],
   "source": [
    "spl=fitdata['single_photon_limit']"
   ]
  },
  {
   "cell_type": "code",
   "execution_count": 529,
   "metadata": {
    "scrolled": true
   },
   "outputs": [
    {
     "data": {
      "text/plain": [
       "-142.81925254053328"
      ]
     },
     "execution_count": 529,
     "metadata": {},
     "output_type": "execute_result"
    }
   ],
   "source": [
    "spl.mean()"
   ]
  },
  {
   "cell_type": "code",
   "execution_count": 532,
   "metadata": {},
   "outputs": [],
   "source": [
    "plt.plot(cur,Q)\n",
    "plt.show()"
   ]
  },
  {
   "cell_type": "code",
   "execution_count": 531,
   "metadata": {},
   "outputs": [
    {
     "data": {
      "text/plain": [
       "(array([ 2.,  1.,  3.,  4., 19., 26., 30., 10.,  5.,  1.]),\n",
       " array([ 74677.85003448,  85722.53243915,  96767.21484383, 107811.89724851,\n",
       "        118856.57965319, 129901.26205787, 140945.94446254, 151990.62686722,\n",
       "        163035.3092719 , 174079.99167658, 185124.67408125]),\n",
       " <a list of 10 Patch objects>)"
      ]
     },
     "execution_count": 531,
     "metadata": {},
     "output_type": "execute_result"
    }
   ],
   "source": [
    "plt.hist(Q)"
   ]
  },
  {
   "cell_type": "code",
   "execution_count": 533,
   "metadata": {},
   "outputs": [],
   "source": [
    "trh={'Qmin':[70e3,70e3,100e3],\n",
    "    'Qmax':[110e3,6e5,160e3]}"
   ]
  },
  {
   "cell_type": "code",
   "execution_count": 537,
   "metadata": {},
   "outputs": [],
   "source": [
    "cur_new = cur"
   ]
  },
  {
   "cell_type": "code",
   "execution_count": 432,
   "metadata": {},
   "outputs": [
    {
     "data": {
      "text/plain": [
       "150000.0"
      ]
     },
     "execution_count": 432,
     "metadata": {},
     "output_type": "execute_result"
    }
   ],
   "source": [
    "trh['Qmax'][1]"
   ]
  },
  {
   "cell_type": "code",
   "execution_count": 535,
   "metadata": {},
   "outputs": [],
   "source": [
    "#indexfr= fr[(fr<6e9) | (fr>7e9)].index\n",
    "#indexQ= Q[(Q<1e4) | (Q>0.75e6)].index\n",
    "indexfr= fr[(fr<6.7e9) | (fr>6.8e9)].index\n",
    "indexQ= Q[(Q<trh['Qmin'][2]) | (Q>trh['Qmax'][2])].index"
   ]
  },
  {
   "cell_type": "code",
   "execution_count": 538,
   "metadata": {},
   "outputs": [
    {
     "data": {
      "text/plain": [
       "Int64Index([8, 19, 37, 62, 64, 66, 71, 74, 75, 79, 80, 82], dtype='int64')"
      ]
     },
     "execution_count": 538,
     "metadata": {},
     "output_type": "execute_result"
    }
   ],
   "source": [
    "indexQ"
   ]
  },
  {
   "cell_type": "code",
   "execution_count": 304,
   "metadata": {},
   "outputs": [
    {
     "data": {
      "text/plain": [
       "Int64Index([], dtype='int64')"
      ]
     },
     "execution_count": 304,
     "metadata": {},
     "output_type": "execute_result"
    }
   ],
   "source": [
    "indexfr"
   ]
  },
  {
   "cell_type": "code",
   "execution_count": 539,
   "metadata": {},
   "outputs": [
    {
     "data": {
      "text/plain": [
       "(89,)"
      ]
     },
     "execution_count": 539,
     "metadata": {},
     "output_type": "execute_result"
    }
   ],
   "source": [
    "cur_new = np.delete(cur_new,indexQ)\n",
    "cur_new.shape"
   ]
  },
  {
   "cell_type": "code",
   "execution_count": null,
   "metadata": {},
   "outputs": [],
   "source": []
  },
  {
   "cell_type": "code",
   "execution_count": 402,
   "metadata": {},
   "outputs": [
    {
     "name": "stderr",
     "output_type": "stream",
     "text": [
      "C:\\ProgramData\\Anaconda3\\lib\\site-packages\\ipykernel_launcher.py:1: DeprecationWarning: in the future out of bounds indices will raise an error instead of being ignored by `numpy.delete`.\n",
      "  \"\"\"Entry point for launching an IPython kernel.\n"
     ]
    },
    {
     "data": {
      "text/plain": [
       "(0,)"
      ]
     },
     "execution_count": 402,
     "metadata": {},
     "output_type": "execute_result"
    }
   ],
   "source": [
    "cur_new = np.delete(cur_new,indexfr)\n",
    "cur_new.shape"
   ]
  },
  {
   "cell_type": "code",
   "execution_count": 410,
   "metadata": {},
   "outputs": [
    {
     "data": {
      "text/plain": [
       "91750.59407702721"
      ]
     },
     "execution_count": 410,
     "metadata": {},
     "output_type": "execute_result"
    }
   ],
   "source": [
    "np.mean(Q)"
   ]
  },
  {
   "cell_type": "code",
   "execution_count": 543,
   "metadata": {},
   "outputs": [
    {
     "data": {
      "text/plain": [
       "9786.511281884079"
      ]
     },
     "execution_count": 543,
     "metadata": {},
     "output_type": "execute_result"
    }
   ],
   "source": [
    "np.mean(fitdata['Ql'])"
   ]
  },
  {
   "cell_type": "code",
   "execution_count": 297,
   "metadata": {},
   "outputs": [],
   "source": [
    "fitdata=fitdata.drop(indexfr)"
   ]
  },
  {
   "cell_type": "code",
   "execution_count": 540,
   "metadata": {},
   "outputs": [],
   "source": [
    "fitdata=fitdata.drop(indexQ)"
   ]
  },
  {
   "cell_type": "code",
   "execution_count": 312,
   "metadata": {},
   "outputs": [],
   "source": [
    "plt.figure(2)\n",
    "plt.plot(cur_new,fitdata[\"fr\"])\n",
    "plt.show()"
   ]
  },
  {
   "cell_type": "code",
   "execution_count": 247,
   "metadata": {},
   "outputs": [
    {
     "data": {
      "text/plain": [
       "(87,)"
      ]
     },
     "execution_count": 247,
     "metadata": {},
     "output_type": "execute_result"
    }
   ],
   "source": [
    "fr.shape"
   ]
  },
  {
   "cell_type": "code",
   "execution_count": 315,
   "metadata": {},
   "outputs": [],
   "source": [
    "plt.plot(cur_new,fr)\n",
    "plt.show()"
   ]
  },
  {
   "cell_type": "code",
   "execution_count": 541,
   "metadata": {},
   "outputs": [],
   "source": [
    "#plt.figure()\n",
    "plt.scatter(cur_new,fitdata['Qi'])\n",
    "plt.xlabel(\"Напряжение,V\")\n",
    "plt.ylabel(\"Q_i\")\n",
    "plt.show()"
   ]
  },
  {
   "cell_type": "code",
   "execution_count": 509,
   "metadata": {},
   "outputs": [
    {
     "data": {
      "text/plain": [
       "9.00153224502442"
      ]
     },
     "execution_count": 509,
     "metadata": {},
     "output_type": "execute_result"
    }
   ],
   "source": [
    "np.mean(2*Q/(2*np.pi*fr))"
   ]
  },
  {
   "cell_type": "code",
   "execution_count": 329,
   "metadata": {},
   "outputs": [
    {
     "data": {
      "text/plain": [
       "4.6240390369067573e-07"
      ]
     },
     "execution_count": 329,
     "metadata": {},
     "output_type": "execute_result"
    }
   ],
   "source": [
    "np.mean(2*fitdata['Ql']/(2*np.pi*fr))"
   ]
  },
  {
   "cell_type": "code",
   "execution_count": null,
   "metadata": {},
   "outputs": [],
   "source": []
  },
  {
   "cell_type": "code",
   "execution_count": null,
   "metadata": {},
   "outputs": [],
   "source": []
  },
  {
   "cell_type": "code",
   "execution_count": null,
   "metadata": {},
   "outputs": [],
   "source": []
  }
 ],
 "metadata": {
  "kernelspec": {
   "display_name": "Python 3",
   "language": "python",
   "name": "python3"
  },
  "language_info": {
   "codemirror_mode": {
    "name": "ipython",
    "version": 3
   },
   "file_extension": ".py",
   "mimetype": "text/x-python",
   "name": "python",
   "nbconvert_exporter": "python",
   "pygments_lexer": "ipython3",
   "version": "3.6.5"
  },
  "toc": {
   "base_numbering": 1,
   "nav_menu": {},
   "number_sections": true,
   "sideBar": true,
   "skip_h1_title": false,
   "title_cell": "Table of Contents",
   "title_sidebar": "Contents",
   "toc_cell": false,
   "toc_position": {},
   "toc_section_display": true,
   "toc_window_display": false
  }
 },
 "nbformat": 4,
 "nbformat_minor": 1
}
