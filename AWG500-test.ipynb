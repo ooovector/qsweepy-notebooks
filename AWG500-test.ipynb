{
 "cells": [
  {
   "cell_type": "code",
   "execution_count": 2,
   "metadata": {},
   "outputs": [
    {
     "name": "stdout",
     "output_type": "stream",
     "text": [
      "Failed loading module Signal_Hound_SA:  [WinError 126] The specified module could not be found\n"
     ]
    }
   ],
   "source": [
    "%run D:\\qtlab_replacement\\init.py\n",
    "#%matplotlib qt5\n",
    "import matplotlib.pyplot as plt\n",
    "from instruments import AWG500\n",
    "import numpy as np"
   ]
  },
  {
   "cell_type": "code",
   "execution_count": 2,
   "metadata": {},
   "outputs": [
    {
     "data": {
      "text/plain": [
       "[b'SemaSys1', b'SemaSys3']"
      ]
     },
     "execution_count": 2,
     "metadata": {},
     "output_type": "execute_result"
    }
   ],
   "source": [
    "import ftd2xx \n",
    "ftd2xx.listDevices()"
   ]
  },
  {
   "cell_type": "code",
   "execution_count": 3,
   "metadata": {},
   "outputs": [
    {
     "name": "stdout",
     "output_type": "stream",
     "text": [
      "Virtex is programmed?  False\n",
      "Virtex is programmed?  False\n"
     ]
    }
   ],
   "source": [
    "awg_sema0 = AWG500('awg', address=0, ver=2, mode='slave')\n",
    "awg_sema1 = AWG500('awg',address=1, ver=2, mode='slave')"
   ]
  },
  {
   "cell_type": "code",
   "execution_count": 3,
   "metadata": {},
   "outputs": [
    {
     "name": "stdout",
     "output_type": "stream",
     "text": [
      "Virtex is programmed?  False\n"
     ]
    }
   ],
   "source": [
    "awg_sema_green = AWG500('awg',address=1, ver=2, mode='slave')"
   ]
  },
  {
   "cell_type": "code",
   "execution_count": 11,
   "metadata": {},
   "outputs": [
    {
     "name": "stdout",
     "output_type": "stream",
     "text": [
      "[0, 32, 3, 4, 0, 4]\n"
     ]
    }
   ],
   "source": [
    "print(awg_sema_green.trigger_pulses['SYNC0'])\n",
    "awg_sema_green.set_trigger_pulse(\"SYNC0\", [0, 32, 3, 4, 0, 32, 3, 4, 0, 4])"
   ]
  },
  {
   "cell_type": "code",
   "execution_count": 1,
   "metadata": {},
   "outputs": [
    {
     "ename": "NameError",
     "evalue": "name 'np' is not defined",
     "output_type": "error",
     "traceback": [
      "\u001b[1;31m---------------------------------------------------------------------------\u001b[0m",
      "\u001b[1;31mNameError\u001b[0m                                 Traceback (most recent call last)",
      "\u001b[1;32m<ipython-input-1-cb6e99eab427>\u001b[0m in \u001b[0;36m<module>\u001b[1;34m()\u001b[0m\n\u001b[1;32m----> 1\u001b[1;33m \u001b[0mt\u001b[0m \u001b[1;33m=\u001b[0m \u001b[0mnp\u001b[0m\u001b[1;33m.\u001b[0m\u001b[0marange\u001b[0m\u001b[1;33m(\u001b[0m\u001b[1;36m0\u001b[0m\u001b[1;33m,\u001b[0m \u001b[1;36m50000\u001b[0m\u001b[1;33m)\u001b[0m\u001b[1;33m*\u001b[0m\u001b[1;36m2e-9\u001b[0m\u001b[1;33m\u001b[0m\u001b[0m\n\u001b[0m",
      "\u001b[1;31mNameError\u001b[0m: name 'np' is not defined"
     ]
    }
   ],
   "source": [
    "t = np.arange(0, 50000)*2e-9\n"
   ]
  },
  {
   "cell_type": "code",
   "execution_count": 6,
   "metadata": {
    "collapsed": true
   },
   "outputs": [],
   "source": [
    "awg = awg_sema0"
   ]
  },
  {
   "cell_type": "code",
   "execution_count": 11,
   "metadata": {
    "collapsed": true
   },
   "outputs": [],
   "source": [
    "t = np.arange(0, 50000)*2e-9\n",
    "f=150e6\n",
    "for i in range(0, 7):\n",
    "    awg.LoadRAM(i, (4000*np.sin(2*np.pi*f*t)).astype(int))"
   ]
  },
  {
   "cell_type": "code",
   "execution_count": 5,
   "metadata": {},
   "outputs": [
    {
     "ename": "NameError",
     "evalue": "name 'awg' is not defined",
     "output_type": "error",
     "traceback": [
      "\u001b[1;31m---------------------------------------------------------------------------\u001b[0m",
      "\u001b[1;31mNameError\u001b[0m                                 Traceback (most recent call last)",
      "\u001b[1;32m<ipython-input-5-9a86e29a2514>\u001b[0m in \u001b[0;36m<module>\u001b[1;34m()\u001b[0m\n\u001b[0;32m      4\u001b[0m \u001b[1;33m\u001b[0m\u001b[0m\n\u001b[0;32m      5\u001b[0m \u001b[1;32mfor\u001b[0m \u001b[0mch_id\u001b[0m \u001b[1;32min\u001b[0m \u001b[0mawg_ch_off\u001b[0m\u001b[1;33m:\u001b[0m\u001b[1;33m\u001b[0m\u001b[0m\n\u001b[1;32m----> 6\u001b[1;33m     \u001b[0mch_settings\u001b[0m \u001b[1;33m=\u001b[0m \u001b[0mawg\u001b[0m\u001b[1;33m.\u001b[0m\u001b[0mget_channel_settings\u001b[0m\u001b[1;33m(\u001b[0m\u001b[0mch_id\u001b[0m\u001b[1;33m)\u001b[0m\u001b[1;33m\u001b[0m\u001b[0m\n\u001b[0m\u001b[0;32m      7\u001b[0m     \u001b[0mch_settings\u001b[0m\u001b[1;33m[\u001b[0m\u001b[1;34m'on'\u001b[0m\u001b[1;33m]\u001b[0m \u001b[1;33m=\u001b[0m \u001b[1;32mFalse\u001b[0m\u001b[1;33m\u001b[0m\u001b[0m\n\u001b[0;32m      8\u001b[0m     \u001b[0mawg\u001b[0m\u001b[1;33m.\u001b[0m\u001b[0mset_channel_settings\u001b[0m\u001b[1;33m(\u001b[0m\u001b[0mch_id\u001b[0m\u001b[1;33m,\u001b[0m \u001b[0mch_settings\u001b[0m\u001b[1;33m)\u001b[0m\u001b[1;33m\u001b[0m\u001b[0m\n",
      "\u001b[1;31mNameError\u001b[0m: name 'awg' is not defined"
     ]
    }
   ],
   "source": [
    "#Включаем всё что надо и выключаем всё что не надо\n",
    "awg_ch_on = [0]\n",
    "awg_ch_off = [ch_id for ch_id in range(7) if ch_id not in awg_ch_on]\n",
    "\n",
    "for ch_id in awg_ch_off:\n",
    "    ch_settings = awg.get_channel_settings(ch_id)\n",
    "    ch_settings['on'] = False\n",
    "    awg.set_channel_settings(ch_id, ch_settings)\n",
    "\n",
    "for ch_id in awg_ch_on:\n",
    "    ch_settings = awg.get_channel_settings(ch_id)\n",
    "    ch_settings['on'] = True\n",
    "    ch_settings['slow'] = 0\n",
    "    ch_settings['mode'] = 'ram'\n",
    "    ch_settings['delay'] = 0\n",
    "    awg.set_channel_settings(ch_id, ch_settings)\n",
    "#хз что\n",
    "awg.ProgTimer(awg.intToBytes([0xfc, 0]))\n",
    "#1 триггер на один период сигнала\n",
    "awg.set_trigger_repeats(1)\n",
    "#Выход триггера\n",
    "awg.set_trigger_pulse(\"SYNC0\", awg.create_delayed_trigger_pulse(100.e-9) )\n",
    "awg.set_trigger_pulse(\"SYNC3\", awg.create_delayed_trigger_pulse(100.e-9) )"
   ]
  },
  {
   "cell_type": "code",
   "execution_count": 4,
   "metadata": {},
   "outputs": [
    {
     "ename": "NameError",
     "evalue": "name 'awg' is not defined",
     "output_type": "error",
     "traceback": [
      "\u001b[1;31m---------------------------------------------------------------------------\u001b[0m",
      "\u001b[1;31mNameError\u001b[0m                                 Traceback (most recent call last)",
      "\u001b[1;32m<ipython-input-4-06d9b6f19a7f>\u001b[0m in \u001b[0;36m<module>\u001b[1;34m()\u001b[0m\n\u001b[1;32m----> 1\u001b[1;33m \u001b[0mawg\u001b[0m\u001b[1;33m.\u001b[0m\u001b[0mtrigger_pulses\u001b[0m\u001b[1;33m[\u001b[0m\u001b[1;34m'SYNC0'\u001b[0m\u001b[1;33m]\u001b[0m\u001b[1;33m\u001b[0m\u001b[0m\n\u001b[0m",
      "\u001b[1;31mNameError\u001b[0m: name 'awg' is not defined"
     ]
    }
   ],
   "source": [
    "awg.trigger_pulses['SYNC0']"
   ]
  },
  {
   "cell_type": "code",
   "execution_count": 7,
   "metadata": {
    "collapsed": true
   },
   "outputs": [],
   "source": [
    "awg.set_trigger_pulse(\"SYNC0\", [0, 32, 3, 1, 0, 4])"
   ]
  },
  {
   "cell_type": "code",
   "execution_count": 6,
   "metadata": {},
   "outputs": [
    {
     "data": {
      "text/plain": [
       "True"
      ]
     },
     "execution_count": 6,
     "metadata": {},
     "output_type": "execute_result"
    }
   ],
   "source": [
    "awg.set_repetition_period(255e-9)"
   ]
  },
  {
   "cell_type": "code",
   "execution_count": 19,
   "metadata": {
    "collapsed": true
   },
   "outputs": [],
   "source": [
    "ch0_settings = awg.get_channel_settings(0)\n",
    "ch0_settings['offset']=-1\n",
    "awg.set_channel_settings(0, ch0_settings)"
   ]
  },
  {
   "cell_type": "code",
   "execution_count": null,
   "metadata": {
    "collapsed": true
   },
   "outputs": [],
   "source": []
  }
 ],
 "metadata": {
  "kernelspec": {
   "display_name": "Python 3",
   "language": "python",
   "name": "python3"
  },
  "language_info": {
   "codemirror_mode": {
    "name": "ipython",
    "version": 3
   },
   "file_extension": ".py",
   "mimetype": "text/x-python",
   "name": "python",
   "nbconvert_exporter": "python",
   "pygments_lexer": "ipython3",
   "version": "3.6.3"
  }
 },
 "nbformat": 4,
 "nbformat_minor": 2
}
