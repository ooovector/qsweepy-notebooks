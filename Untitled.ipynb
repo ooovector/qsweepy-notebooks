{
 "cells": [
  {
   "cell_type": "code",
   "execution_count": 1,
   "metadata": {},
   "outputs": [
    {
     "name": "stdout",
     "output_type": "stream",
     "text": [
      "Failed loading module Signal_Hound_SA:  [WinError 126] The specified module could not be found\n"
     ]
    }
   ],
   "source": [
    "%run D:\\qtlab_replacement\\init.py\n",
    "import matplotlib.pyplot as plt\n",
    "from instruments import *\n",
    "import numpy as np\n",
    "import sweep\n",
    "from save_pkl import *\n",
    "from matplotlib import interactive\n",
    "interactive(True)\n",
    "%matplotlib qt5"
   ]
  },
  {
   "cell_type": "code",
   "execution_count": 5,
   "metadata": {},
   "outputs": [
    {
     "ename": "TimeoutError",
     "evalue": "",
     "output_type": "error",
     "traceback": [
      "\u001b[1;31m---------------------------------------------------------------------------\u001b[0m",
      "\u001b[1;31mTimeoutError\u001b[0m                              Traceback (most recent call last)",
      "\u001b[1;32m<ipython-input-5-df3785fd5f84>\u001b[0m in \u001b[0;36m<module>\u001b[1;34m()\u001b[0m\n\u001b[0;32m      6\u001b[0m \u001b[0mpool\u001b[0m \u001b[1;33m=\u001b[0m \u001b[0mPool\u001b[0m\u001b[1;33m(\u001b[0m\u001b[0mprocesses\u001b[0m\u001b[1;33m=\u001b[0m\u001b[1;36m4\u001b[0m\u001b[1;33m)\u001b[0m              \u001b[1;31m# start 4 worker processes\u001b[0m\u001b[1;33m\u001b[0m\u001b[0m\n\u001b[0;32m      7\u001b[0m \u001b[0mresult\u001b[0m \u001b[1;33m=\u001b[0m \u001b[0mpool\u001b[0m\u001b[1;33m.\u001b[0m\u001b[0mapply_async\u001b[0m\u001b[1;33m(\u001b[0m\u001b[0mf\u001b[0m\u001b[1;33m,\u001b[0m \u001b[1;33m[\u001b[0m\u001b[1;36m10\u001b[0m\u001b[1;33m]\u001b[0m\u001b[1;33m)\u001b[0m    \u001b[1;31m# evaluate \"f(10)\" asynchronously\u001b[0m\u001b[1;33m\u001b[0m\u001b[0m\n\u001b[1;32m----> 8\u001b[1;33m \u001b[0mprint\u001b[0m \u001b[1;33m(\u001b[0m\u001b[0mresult\u001b[0m\u001b[1;33m.\u001b[0m\u001b[0mget\u001b[0m\u001b[1;33m(\u001b[0m\u001b[0mtimeout\u001b[0m\u001b[1;33m=\u001b[0m\u001b[1;36m10\u001b[0m\u001b[1;33m)\u001b[0m\u001b[1;33m)\u001b[0m           \u001b[1;31m# prints \"100\" unless your computer is *very* slow\u001b[0m\u001b[1;33m\u001b[0m\u001b[0m\n\u001b[0m\u001b[0;32m      9\u001b[0m \u001b[0mprint\u001b[0m \u001b[1;33m(\u001b[0m\u001b[0mpool\u001b[0m\u001b[1;33m.\u001b[0m\u001b[0mmap\u001b[0m\u001b[1;33m(\u001b[0m\u001b[0mf\u001b[0m\u001b[1;33m,\u001b[0m \u001b[0mrange\u001b[0m\u001b[1;33m(\u001b[0m\u001b[1;36m10\u001b[0m\u001b[1;33m)\u001b[0m\u001b[1;33m)\u001b[0m\u001b[1;33m)\u001b[0m\u001b[1;33m\u001b[0m\u001b[0m\n",
      "\u001b[1;32mC:\\ProgramData\\Anaconda3\\lib\\multiprocessing\\pool.py\u001b[0m in \u001b[0;36mget\u001b[1;34m(self, timeout)\u001b[0m\n\u001b[0;32m    638\u001b[0m         \u001b[0mself\u001b[0m\u001b[1;33m.\u001b[0m\u001b[0mwait\u001b[0m\u001b[1;33m(\u001b[0m\u001b[0mtimeout\u001b[0m\u001b[1;33m)\u001b[0m\u001b[1;33m\u001b[0m\u001b[0m\n\u001b[0;32m    639\u001b[0m         \u001b[1;32mif\u001b[0m \u001b[1;32mnot\u001b[0m \u001b[0mself\u001b[0m\u001b[1;33m.\u001b[0m\u001b[0mready\u001b[0m\u001b[1;33m(\u001b[0m\u001b[1;33m)\u001b[0m\u001b[1;33m:\u001b[0m\u001b[1;33m\u001b[0m\u001b[0m\n\u001b[1;32m--> 640\u001b[1;33m             \u001b[1;32mraise\u001b[0m \u001b[0mTimeoutError\u001b[0m\u001b[1;33m\u001b[0m\u001b[0m\n\u001b[0m\u001b[0;32m    641\u001b[0m         \u001b[1;32mif\u001b[0m \u001b[0mself\u001b[0m\u001b[1;33m.\u001b[0m\u001b[0m_success\u001b[0m\u001b[1;33m:\u001b[0m\u001b[1;33m\u001b[0m\u001b[0m\n\u001b[0;32m    642\u001b[0m             \u001b[1;32mreturn\u001b[0m \u001b[0mself\u001b[0m\u001b[1;33m.\u001b[0m\u001b[0m_value\u001b[0m\u001b[1;33m\u001b[0m\u001b[0m\n",
      "\u001b[1;31mTimeoutError\u001b[0m: "
     ]
    }
   ],
   "source": [
    "from multiprocessing import Pool\n",
    "\n",
    "def  f(x):\n",
    "    return x*x\n",
    "\n",
    "pool = Pool(processes=4)              # start 4 worker processes\n",
    "result = pool.apply_async(f, [10])    # evaluate \"f(10)\" asynchronously\n",
    "print (result.get(timeout=10))           # prints \"100\" unless your computer is *very* slow\n",
    "print (pool.map(f, range(10)))   "
   ]
  },
  {
   "cell_type": "code",
   "execution_count": 2,
   "metadata": {
    "collapsed": true
   },
   "outputs": [],
   "source": [
    "import awg_digital\n",
    "import awg_iq\n",
    "import data_reduce\n",
    "import imp\n",
    "import fitting\n",
    "import plotting\n",
    "import save_pkl\n",
    "import tomography as tomography_new\n",
    "import tomography_legacy as tomography\n",
    "import sweep\n",
    "imp.reload(awg_digital)\n",
    "imp.reload(awg_iq)\n",
    "imp.reload(data_reduce)\n",
    "imp.reload(fitting)\n",
    "imp.reload(plotting)\n",
    "imp.reload(save_pkl)\n",
    "imp.reload(tomography)\n",
    "imp.reload(tomography_new)\n",
    "imp.reload(sweep)\n",
    "#pg = tomography_new.pulses(awg_channels)\n",
    "import fitting_CPMG\n",
    "from fitting_CPMG import gaussian_CPMG"
   ]
  },
  {
   "cell_type": "code",
   "execution_count": 3,
   "metadata": {
    "collapsed": true
   },
   "outputs": [],
   "source": [
    "imp.reload(fitting_CPMG)\n",
    "from fitting_CPMG import gaussian_CPMG\n",
    "from fitting_CPMG import fit_CPMG_new\n",
    "gamma1 = (1e06)/2.8\n",
    "gammap = 0#(10^6)/1.75\n",
    "tayp = 0"
   ]
  },
  {
   "cell_type": "code",
   "execution_count": 4,
   "metadata": {
    "collapsed": true
   },
   "outputs": [],
   "source": [
    "pi2_gauss = 3.2e-08"
   ]
  },
  {
   "cell_type": "code",
   "execution_count": 5,
   "metadata": {
    "collapsed": true
   },
   "outputs": [],
   "source": [
    "import pickle\n",
    "with open('D:\\qtlab\\ReiData\\\\data\\\\2018-04-19\\\\20-55-06-CPMG Thesis N=20\\\\z CPMG Thesis N=20.pkl', 'rb') as f:\n",
    "    data = pickle.load(f)\n",
    "time = data[1]['z'][1][0]\n",
    "meas = np.asarray(data[1]['z'][2]) + 0.5\n",
    "N = 20\n",
    "imp.reload(fitting_CPMG)\n",
    "from fitting_CPMG import gaussian_CPMG\n",
    "from fitting_CPMG import fit_CPMG_new\n",
    "gamma1 = (10^6)/2.8\n",
    "tays = data[1]['z'][1][0]\n",
    "measurement_fitted, fitted_parameters = fitting_CPMG.fit_CPMG(N, pi2_gauss, gamma1, gammap, tayp, data, gaussian_CPMG)"
   ]
  },
  {
   "cell_type": "code",
   "execution_count": 6,
   "metadata": {},
   "outputs": [
    {
     "name": "stdout",
     "output_type": "stream",
     "text": [
      "[  3.00037861e+05   2.75805096e-01   4.89271673e-01]\n"
     ]
    }
   ],
   "source": [
    "plt.plot(time, meas)\n",
    "measurement_fitted += 0.5\n",
    "fitted_parameters[2] += 0.5\n",
    "plt.plot(time, measurement_fitted)\n",
    "print(fitted_parameters)"
   ]
  },
  {
   "cell_type": "code",
   "execution_count": 7,
   "metadata": {
    "collapsed": true
   },
   "outputs": [],
   "source": [
    "Psw = measurement_fitted\n",
    "P0 = fitted_parameters[2]\n",
    "a = fitted_parameters[1]\n",
    "gammaphi = 1/fitted_parameters[0]"
   ]
  },
  {
   "cell_type": "code",
   "execution_count": 8,
   "metadata": {},
   "outputs": [
    {
     "data": {
      "text/plain": [
       "[<matplotlib.lines.Line2D at 0x1fb748d6978>]"
      ]
     },
     "execution_count": 8,
     "metadata": {},
     "output_type": "execute_result"
    }
   ],
   "source": [
    "plt.plot(time, Psw )"
   ]
  },
  {
   "cell_type": "code",
   "execution_count": 9,
   "metadata": {},
   "outputs": [
    {
     "data": {
      "text/plain": [
       "Text(0.5,1,'exp(iphi(t))')"
      ]
     },
     "execution_count": 9,
     "metadata": {},
     "output_type": "execute_result"
    }
   ],
   "source": [
    "interm_result = (measurement_fitted - P0)/(a*np.exp(-gamma1*time/2))\n",
    "plt.plot(time, interm_result)\n",
    "plt.title('exp(iphi(t))')"
   ]
  },
  {
   "cell_type": "markdown",
   "metadata": {},
   "source": [
    "# g(w, tay)"
   ]
  },
  {
   "cell_type": "code",
   "execution_count": 10,
   "metadata": {
    "collapsed": true
   },
   "outputs": [],
   "source": [
    "def delta(i):\n",
    "    #return 2*np.sqrt(math.log(2))/gammaphi\n",
    "    return (np.sin(np.pi*i/(2*N + 2)))**2\n",
    "\n",
    "#def term(n, omega):\n",
    "    #return ((-1)**n)*np.exp(1j*omega*delta(n)*tay)*np.cos(omega*(2*pi2_gauss/2))\n",
    "\n",
    "def g(f, tay):\n",
    "    omega = 2*np.pi*f #N*np.pi/tay\n",
    "    summation = 0\n",
    "    j = 1\n",
    "    while (j<=N):\n",
    "        summation += ((-1)**j)*np.exp(1j*omega*delta(j)*tay)*np.cos(omega*(2*pi2_gauss/2)) #term(j, omega)\n",
    "        j +=1\n",
    "    yN = np.abs(1 + ((-1)**(1+N))*np.exp(1j*omega*tay) + 2*summation)\n",
    "    return yN*yN/((omega*tay)**2)"
   ]
  },
  {
   "cell_type": "code",
   "execution_count": null,
   "metadata": {
    "collapsed": true
   },
   "outputs": [],
   "source": [
    "import matplotlib.patches as plm\n",
    "from pylab import*\n",
    "gamma1 = (10**6)/2.8\n",
    "gammap = 0\n",
    "indexes = [0, 1, 5, 10, 20, 30]\n",
    "adresses = ['19-02-27', '19-18-23', '19-50-37', '20-22-52', '20-55-06', '21-27-03']\n",
    "p = []\n",
    "g_all = []\n",
    "# tay = mks\n",
    "for i in range(6):\n",
    "    N = indexes[i]\n",
    "    g_array = []\n",
    "    freq_for_g = np.linspace(0.e06, 1.3e06, 10000)\n",
    "    for i in range (len(freq_for_g)):\n",
    "        g_array.append(g(freq_for_g[i], 1e-05))\n",
    "    p.append(plt.plot(freq_for_g/1e06, g_array, linestyle = '-'))\n",
    "    g_all.append(g_array)\n",
    "    \n",
    "Handels = []\n",
    "xlabel = 'f'\n",
    "ylabel = 'g(w, t)'\n",
    "for i in range(6):\n",
    "    Handels.append(plm.Patch(color = p[i][0].get_color(), label = 'N = {}'.format(indexes[i])))\n",
    "plt.legend(handles = Handels)"
   ]
  },
  {
   "cell_type": "markdown",
   "metadata": {},
   "source": [
    "# Counting PSD"
   ]
  },
  {
   "cell_type": "code",
   "execution_count": 86,
   "metadata": {
    "collapsed": true
   },
   "outputs": [],
   "source": [
    "def find_dw(a, f):\n",
    "    max = np.max(a)\n",
    "    eps = 0.1*max\n",
    "    half = max/2\n",
    "    i = 0\n",
    "    while (abs(a[i] - half)>eps):\n",
    "        i +=1\n",
    "    first = f[i]\n",
    "    while (abs(a[i] - max)>eps):\n",
    "        i +=1\n",
    "    while (abs(a[i] - half)>eps):\n",
    "        i +=1\n",
    "    second = f[i]\n",
    "    return abs(first - second)\n",
    "\n",
    "def get_PSD(N, tays):\n",
    "    PSD = []\n",
    "    dw01_dl = 100019.1\n",
    "    index = 1\n",
    "    freq = N/(2*tays)\n",
    "    while (index < len(tays) - 1):\n",
    "        g_array = []\n",
    "        freq_for_g = np.linspace(0e06, 7.6e06, 1000)\n",
    "        for i in range (len(freq_for_g)):\n",
    "            g_array.append(g(freq_for_g[i], tays[index]))\n",
    "        dw = find_dw(g_array[1:], freq_for_g[1:])\n",
    "        PSD.append(interm_result[index]/(((dw01_dl*tays[index])**2)*g(freq[index], tays[index])*dw))\n",
    "        index +=1\n",
    "    return PSD\n",
    "\n",
    "def get_Psw(t):\n",
    "    return P0+a*np.exp(-gamma1*t/2)*np.exp(-(gammaphi*t)**2)\n",
    "\n",
    "def count_PSD(N, tays, PSD_reference, tay_reference, Psw_reference):\n",
    "    dw01_dl = 100019.1 #???????????????????????????\n",
    "    index = 1\n",
    "    freq = N/(2*tays)\n",
    "    PSD = []\n",
    "    while (index < len(tays)):\n",
    "       # print(index, len(tays))\n",
    "        g_array = []\n",
    "        freq_for_g = np.linspace(6e06, 55e06, 5500)\n",
    "        for i in range (len(freq_for_g)):\n",
    "            g_array.append(g(freq_for_g[i], tays[index]))\n",
    "        dw = find_dw(g_array[1:], freq_for_g[1:])\n",
    "        dw1 = dw\n",
    "        q = np.abs((Psw_reference-P0)/np.abs(get_Psw(tays[index])-P0)) #!\n",
    "        PSD.append(((math.log(q))/(dw01_dl**2)+(tay_reference**2)*PSD_reference*g(freq[index], tay_reference)*dw1)/((tays[index]**2)*g(freq[index], tays[index])*(dw**2)))\n",
    "        index += 1\n",
    "    return PSD"
   ]
  },
  {
   "cell_type": "code",
   "execution_count": 21,
   "metadata": {
    "collapsed": true
   },
   "outputs": [],
   "source": [
    "N = 20\n",
    "freq = N/(2*tays)"
   ]
  },
  {
   "cell_type": "code",
   "execution_count": 76,
   "metadata": {
    "scrolled": true
   },
   "outputs": [
    {
     "name": "stderr",
     "output_type": "stream",
     "text": [
      "C:\\ProgramData\\Anaconda3\\lib\\site-packages\\ipykernel_launcher.py:16: RuntimeWarning: invalid value encountered in double_scalars\n",
      "  app.launch_new_instance()\n"
     ]
    }
   ],
   "source": [
    "q1 = get_PSD(N, tays)"
   ]
  },
  {
   "cell_type": "code",
   "execution_count": 87,
   "metadata": {
    "collapsed": true,
    "scrolled": true
   },
   "outputs": [],
   "source": [
    "tays_count = np.linspace(5e-06, 5e-09, 100)\n",
    "q2 = count_PSD(20, tays_count, 0.76299142914121443, 1.28e-06, 0.72725449)"
   ]
  },
  {
   "cell_type": "code",
   "execution_count": 112,
   "metadata": {},
   "outputs": [
    {
     "data": {
      "text/plain": [
       "[<matplotlib.lines.Line2D at 0x1fb76a82cc0>]"
      ]
     },
     "execution_count": 112,
     "metadata": {},
     "output_type": "execute_result"
    }
   ],
   "source": [
    "plt.plot(freq[2:]/1e06, q1, marker = 'o', markersize = 1, linestyle = '')"
   ]
  },
  {
   "cell_type": "code",
   "execution_count": 113,
   "metadata": {
    "scrolled": true
   },
   "outputs": [
    {
     "data": {
      "text/plain": [
       "[<matplotlib.lines.Line2D at 0x1fb79403da0>]"
      ]
     },
     "execution_count": 113,
     "metadata": {},
     "output_type": "execute_result"
    }
   ],
   "source": [
    "freq_count = N/(2*tays_count)\n",
    "plt.plot(freq_count[1:]/1e06, q2, marker = 'o', markersize = 1, linestyle = '')"
   ]
  },
  {
   "cell_type": "code",
   "execution_count": 110,
   "metadata": {},
   "outputs": [
    {
     "data": {
      "text/plain": [
       "array([  2.00000000e+06,   2.02038755e+06,   2.04119503e+06,\n",
       "         2.06243555e+06,   2.08412277e+06,   2.10627094e+06,\n",
       "         2.12889491e+06,   2.15201017e+06,   2.17563291e+06,\n",
       "         2.19978002e+06,   2.22446916e+06,   2.24971879e+06,\n",
       "         2.27554820e+06,   2.30197761e+06,   2.32902816e+06,\n",
       "         2.35672201e+06,   2.38508239e+06,   2.41413366e+06,\n",
       "         2.44390136e+06,   2.47441233e+06,   2.50569476e+06,\n",
       "         2.53777829e+06,   2.57069409e+06,   2.60447496e+06,\n",
       "         2.63915547e+06,   2.67477204e+06,   2.71136308e+06,\n",
       "         2.74896914e+06,   2.78763305e+06,   2.82740008e+06,\n",
       "         2.86831812e+06,   2.91043789e+06,   2.95381310e+06,\n",
       "         2.99850075e+06,   3.04456131e+06,   3.09205903e+06,\n",
       "         3.14106225e+06,   3.19164370e+06,   3.24388086e+06,\n",
       "         3.29785639e+06,   3.35365854e+06,   3.41138161e+06,\n",
       "         3.47112654e+06,   3.53300145e+06,   3.59712230e+06,\n",
       "         3.66361366e+06,   3.73260943e+06,   3.80425385e+06,\n",
       "         3.87870240e+06,   3.95612300e+06,   4.03669725e+06,\n",
       "         4.12062184e+06,   4.20811018e+06,   4.29939418e+06,\n",
       "         4.39472633e+06,   4.49438202e+06,   4.59866221e+06,\n",
       "         4.70789643e+06,   4.82244630e+06,   4.94270950e+06,\n",
       "         5.06912442e+06,   5.20217546e+06,   5.34239922e+06,\n",
       "         5.49039181e+06,   5.64681725e+06,   5.81241744e+06,\n",
       "         5.98802395e+06,   6.17457199e+06,   6.37311703e+06,\n",
       "         6.58485483e+06,   6.81114551e+06,   7.05354280e+06,\n",
       "         7.31382979e+06,   7.59406282e+06,   7.89662599e+06,\n",
       "         8.22429907e+06,   8.58034321e+06,   8.96860987e+06,\n",
       "         9.39368061e+06,   9.86104886e+06,   1.03773585e+07,\n",
       "         1.09507218e+07,   1.15911486e+07,   1.23111360e+07,\n",
       "         1.31264916e+07,   1.40575080e+07,   1.51306740e+07,\n",
       "         1.63812360e+07,   1.78571429e+07,   1.96253345e+07,\n",
       "         2.17821782e+07,   2.44716352e+07,   2.79187817e+07,\n",
       "         3.24963072e+07,   3.88692580e+07,   4.83516484e+07,\n",
       "         6.39534884e+07,   9.44206009e+07,   1.80327869e+08,\n",
       "         2.00000000e+09])"
      ]
     },
     "execution_count": 110,
     "metadata": {},
     "output_type": "execute_result"
    }
   ],
   "source": [
    "freq_count"
   ]
  },
  {
   "cell_type": "code",
   "execution_count": 111,
   "metadata": {},
   "outputs": [
    {
     "data": {
      "text/plain": [
       "[<matplotlib.lines.Line2D at 0x1fb7853d5f8>]"
      ]
     },
     "execution_count": 111,
     "metadata": {},
     "output_type": "execute_result"
    }
   ],
   "source": [
    "plt.plot((freq[2:]/1e06).tolist() + (freq_count[1:]/1e06).tolist(), q1 + q2, marker = 'o', markersize = 1, linestyle = '')"
   ]
  },
  {
   "cell_type": "code",
   "execution_count": null,
   "metadata": {
    "collapsed": true
   },
   "outputs": [],
   "source": [
    "\n",
    "PSD = []\n",
    "dw01_dl = 100019.1\n",
    "tays = data[1]['z'][1][0]\n",
    "index = 1\n",
    "index_max = len(tays)\n",
    "#PSD.append(0)\n",
    "freq = N/(2*tays)\n",
    "while (index < index_max - 1):\n",
    "    print(index)\n",
    "    g_array = []\n",
    "    freq_for_g = np.linspace(0e06, 7.6e06, 1000)\n",
    "    for i in range (len(freq_for_g)):\n",
    "        g_array.append(g(freq_for_g[i], tays[index]))\n",
    "    dw = find_dw(g_array[1:], freq_for_g[1:])\n",
    "    PSD.append(interm_result[index]/(((dw01_dl*tays[index])**2)*g(freq[index], tays[index])*dw))\n",
    "    #PSD.append(gammaphi**2/((dw01_dl**2)*g(f, tays[index])*dw))\n",
    "    index +=1"
   ]
  },
  {
   "cell_type": "code",
   "execution_count": null,
   "metadata": {
    "collapsed": true
   },
   "outputs": [],
   "source": [
    "P0 = measurement_fitted[0]\n",
    "PSD = []\n",
    "dw01_dl = 1.137986e38\n",
    "dw = 0.98*1e06\n",
    "index = 1\n",
    "PSD.append(0)\n",
    "f = N/(2*tays[index])\n",
    "while (index < index_max - 1):\n",
    "    PSD.append(gammaphi**2/((dw01_dl**2)*g(f, tays[index])*dw))\n",
    "    index +=1"
   ]
  },
  {
   "cell_type": "code",
   "execution_count": null,
   "metadata": {
    "collapsed": true
   },
   "outputs": [],
   "source": [
    "plt.plot((np.pi*N/tays[1:])/1e06, PSD)"
   ]
  },
  {
   "cell_type": "code",
   "execution_count": null,
   "metadata": {
    "collapsed": true
   },
   "outputs": [],
   "source": [
    "#not reliable\n",
    "#gammaphi = fitted_parameters[0]\n",
    "P0 = measurement_fitted[0]\n",
    "PSD = []\n",
    "dw01_dl = 1.137986e38\n",
    "dw = 0.98*1e06\n",
    "index = 1\n",
    "PSD.append(0)\n",
    "f = N/(2*tays[index])\n",
    "PSD.append(gammaphi**2/((dw01_dl**2)*g(f, tays[index])*dw))\n",
    "while (index < index_max-2):\n",
    "    index += 1\n",
    "    f = N/(2*tays[index])\n",
    "    q = np.abs((measurement_fitted[1]-P0)/np.abs(measurement_fitted[index]-P0)) #!\n",
    "    PSD.append(((math.log(q))/(dw01_dl**2)+(tays[1]**2)*PSD[1]*g(f, tays[1])*dw1)/((tays[index]**2)*g(f, tays[index])*(dw**2)))"
   ]
  },
  {
   "cell_type": "code",
   "execution_count": null,
   "metadata": {
    "collapsed": true
   },
   "outputs": [],
   "source": [
    "PSD"
   ]
  },
  {
   "cell_type": "code",
   "execution_count": null,
   "metadata": {
    "collapsed": true
   },
   "outputs": [],
   "source": [
    "q"
   ]
  },
  {
   "cell_type": "code",
   "execution_count": null,
   "metadata": {
    "collapsed": true
   },
   "outputs": [],
   "source": []
  }
 ],
 "metadata": {
  "kernelspec": {
   "display_name": "Python 3",
   "language": "python",
   "name": "python3"
  },
  "language_info": {
   "codemirror_mode": {
    "name": "ipython",
    "version": 3
   },
   "file_extension": ".py",
   "mimetype": "text/x-python",
   "name": "python",
   "nbconvert_exporter": "python",
   "pygments_lexer": "ipython3",
   "version": "3.6.3"
  }
 },
 "nbformat": 4,
 "nbformat_minor": 2
}
