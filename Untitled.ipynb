{
 "cells": [
  {
   "cell_type": "code",
   "execution_count": 1,
   "metadata": {},
   "outputs": [],
   "source": [
    "import numpy as np\n",
    "import pandas as pd"
   ]
  },
  {
   "cell_type": "code",
   "execution_count": 8,
   "metadata": {
    "ExecuteTime": {
     "end_time": "2019-07-30T12:20:57.016521Z",
     "start_time": "2019-07-30T12:20:56.918568Z"
    }
   },
   "outputs": [],
   "source": [
    "from qsweepy import *\n",
    "from qsweepy.ponyfiles import *\n",
    "from importlib import reload\n",
    "# loading all modules from qsweepy.instrument_drivers\n",
    "# omitting module's members which name starts with \"__\"\n",
    "from qsweepy.instruments import *  \n",
    "from qsweepy.qubit_calibrations import benchmarking\n",
    "reload(exdir_db)\n",
    "reload(database)\n",
    "reload(sweep_extras)\n",
    "import imp\n",
    "from qsweepy.qubit_calibrations import readout_passthrough\n",
    "from qsweepy.fitters import exp_sin, fit_dataset\n",
    "from qsweepy import readout_classifier\n",
    "from qsweepy.qubit_calibrations import gauss_hd\n",
    "from qsweepy import tomography\n",
    "from qsweepy import pulses\n",
    "reload(awg_digital)\n",
    "reload(awg_iq_multi)\n",
    "reload(data_reduce)\n",
    "reload(fitting)\n",
    "reload(plotting)\n",
    "reload(tomography)\n",
    "reload(sweep)\n",
    "reload(pulses)\n",
    "reload(awg_channel)\n",
    "reload(awg_iq_multi)\n",
    "reload(modem_readout)\n",
    "reload(qubit_device)\n",
    "reload(single_shot_readout)\n",
    "reload(readout_passthrough)\n",
    "reload(exp_sin)\n",
    "reload(fit_dataset)\n",
    "reload(exdir_db)\n",
    "reload(database)\n",
    "reload(sweep_extras)\n",
    "reload(readout_classifier)\n",
    "\n",
    "sample_name = '1906-001_1_down'\n",
    "\n",
    "db = database.MyDatabase()\n",
    "sweeper = sweep_extras.Sweeper(db, sample_name=sample_name)\n",
    "exdir_db_inst = exdir_db.Exdir_db(db=db, sample_name=sample_name)\n",
    "\n",
    "#hardware.setup_iq_channel_connections(exdir_db_inst)\n",
    "#device = qubit_device.qubit_device(exdir_db_inst, sweeper, controls = {'coil':hardware.coil})\n",
    "#device.create_pulsed_interfaces(hardware.iq_devices, extra_channels = {'ro_trg':hardware.ro_trg,\n",
    "#                                                                       'coil':hardware.coil})\n",
    "#device.setup_modem_readout(hardware)"
   ]
  },
  {
   "cell_type": "code",
   "execution_count": 11,
   "metadata": {
    "ExecuteTime": {
     "end_time": "2019-07-30T12:22:19.402242Z",
     "start_time": "2019-07-30T12:22:19.235313Z"
    }
   },
   "outputs": [
    {
     "name": "stdout",
     "output_type": "stream",
     "text": [
      "Exdir_db.select_measurement_by_id: trying to load measurement state by id:  c:\\data\\2019-07-30\\008368-interleaved_bench-1906-001_1_down\n"
     ]
    }
   ],
   "source": [
    "meas = exdir_db_inst.select_measurement_by_id(8368)"
   ]
  },
  {
   "cell_type": "code",
   "execution_count": 89,
   "metadata": {
    "ExecuteTime": {
     "end_time": "2019-07-30T13:46:13.565278Z",
     "start_time": "2019-07-30T13:46:13.558281Z"
    }
   },
   "outputs": [
    {
     "data": {
      "text/plain": [
       "<module 'qsweepy.fitters.exp' from 'C:\\\\qtlab_replacement\\\\qsweepy\\\\fitters\\\\exp.py'>"
      ]
     },
     "execution_count": 89,
     "metadata": {},
     "output_type": "execute_result"
    }
   ],
   "source": [
    "from qsweepy.qubit_calibrations.benchmarking import fit_benchmarking\n",
    "from qsweepy.qubit_calibrations import benchmarking\n",
    "from qsweepy.fitters import exp\n",
    "reload(benchmarking)\n",
    "reload(exp)"
   ]
  },
  {
   "cell_type": "code",
   "execution_count": 90,
   "metadata": {
    "ExecuteTime": {
     "end_time": "2019-07-30T13:46:14.768706Z",
     "start_time": "2019-07-30T13:46:14.206973Z"
    }
   },
   "outputs": [
    {
     "name": "stdout",
     "output_type": "stream",
     "text": [
      "Exdir_db.select_measurement_by_id: trying to load measurement state by id:  c:\\data\\2019-07-30\\008368-interleaved_bench-1906-001_1_down\n",
      "NOT1:  10.493203689553797\n",
      "Exdir_db.select_measurement_by_id: trying to load measurement state by id:  c:\\data\\2019-07-30\\008370-interleaved_bench-1906-001_1_down\n",
      "NOT3:  8.641054658188265\n",
      "Exdir_db.select_measurement_by_id: trying to load measurement state by id:  c:\\data\\2019-07-30\\008371-interleaved_bench-1906-001_1_down\n",
      "H1:  4.814797194219885\n",
      "Exdir_db.select_measurement_by_id: trying to load measurement state by id:  c:\\data\\2019-07-30\\008372-interleaved_bench-1906-001_1_down\n",
      "H3:  6.695745496079958\n",
      "Exdir_db.select_measurement_by_id: trying to load measurement state by id:  c:\\data\\2019-07-30\\008351-clifford_bench-1906-001_1_down\n",
      "Cl:  22.875195861542203\n"
     ]
    }
   ],
   "source": [
    "not1 = exdir_db_inst.select_measurement_by_id(8368)\n",
    "print('NOT1: ', fit_benchmarking(0, not1).metadata['decay'])\n",
    "not3 = exdir_db_inst.select_measurement_by_id(8370)\n",
    "print('NOT3: ', fit_benchmarking(0, not3).metadata['decay'])\n",
    "h1 = exdir_db_inst.select_measurement_by_id(8371)\n",
    "print('H1: ', fit_benchmarking(0, h1).metadata['decay'])\n",
    "#fit_benchmarking(0, meas)\n",
    "h3 = exdir_db_inst.select_measurement_by_id(8372)\n",
    "print('H3: ', fit_benchmarking(0, h3).metadata['decay'])\n",
    "#fit_benchmarking(0, meas)\n",
    "\n",
    "Cl = exdir_db_inst.select_measurement_by_id(8351)\n",
    "print('Cl: ', fit_benchmarking(0, Cl).metadata['decay'])"
   ]
  },
  {
   "cell_type": "code",
   "execution_count": 93,
   "metadata": {
    "ExecuteTime": {
     "end_time": "2019-07-30T13:48:31.443545Z",
     "start_time": "2019-07-30T13:48:31.324598Z"
    }
   },
   "outputs": [
    {
     "name": "stdout",
     "output_type": "stream",
     "text": [
      "Exdir_db.select_measurement_by_id: trying to load measurement state by id:  c:\\data\\2019-07-30\\008368-interleaved_bench-1906-001_1_down\n"
     ]
    },
    {
     "data": {
      "text/plain": [
       "dict_keys(['benchmarking', 'amplitudes', 'B', 'MSE_rel', 'decay'])"
      ]
     },
     "execution_count": 93,
     "metadata": {},
     "output_type": "execute_result"
    }
   ],
   "source": [
    "not1 = exdir_db_inst.select_measurement_by_id(8368)\n",
    "f1 = fit_benchmarking(0, not1)\n",
    "f1.datasets.keys()"
   ]
  },
  {
   "cell_type": "code",
   "execution_count": 92,
   "metadata": {
    "ExecuteTime": {
     "end_time": "2019-07-30T13:46:22.992802Z",
     "start_time": "2019-07-30T13:46:22.940807Z"
    }
   },
   "outputs": [
    {
     "data": {
      "text/plain": [
       "[<matplotlib.lines.Line2D at 0x23e8c8e4b38>,\n",
       " <matplotlib.lines.Line2D at 0x23e8c8e4c50>,\n",
       " <matplotlib.lines.Line2D at 0x23e8c8e4da0>,\n",
       " <matplotlib.lines.Line2D at 0x23e8c8e4ef0>]"
      ]
     },
     "execution_count": 92,
     "metadata": {},
     "output_type": "execute_result"
    }
   ],
   "source": [
    "%matplotlib qt5\n",
    "plt.plot(f1.datasets['benchmarking'])\n",
    "plt.plot(not1.datasets['benchmarking'].parameters[0].values, \n",
    "         not1.datasets['benchmarking'].data, marker='.', linestyle='')"
   ]
  },
  {
   "cell_type": "code",
   "execution_count": 43,
   "metadata": {
    "ExecuteTime": {
     "end_time": "2019-07-30T12:41:24.770790Z",
     "start_time": "2019-07-30T12:41:24.765793Z"
    }
   },
   "outputs": [
    {
     "data": {
      "text/plain": [
       "(0.9104569793637284,\n",
       " 0.8854542390230257,\n",
       " 0.8136820697234153,\n",
       " 0.8601896337870549)"
      ]
     },
     "execution_count": 43,
     "metadata": {},
     "output_type": "execute_result"
    }
   ],
   "source": [
    "np.exp(-1/10.66), np.exp(-1/8.22), np.exp(-1/4.85), np.exp(-1/6.64),"
   ]
  },
  {
   "cell_type": "code",
   "execution_count": 2,
   "metadata": {},
   "outputs": [],
   "source": [
    "import matplotlib.pyplot as plt"
   ]
  },
  {
   "cell_type": "code",
   "execution_count": 356,
   "metadata": {},
   "outputs": [],
   "source": [
    "S21_db=pd.read_csv('C:/Users/cryopxi/Documents/Alexey/T350mK-dB.csv',header=0,sep=',')"
   ]
  },
  {
   "cell_type": "code",
   "execution_count": 357,
   "metadata": {},
   "outputs": [
    {
     "data": {
      "text/html": [
       "<div>\n",
       "<style scoped>\n",
       "    .dataframe tbody tr th:only-of-type {\n",
       "        vertical-align: middle;\n",
       "    }\n",
       "\n",
       "    .dataframe tbody tr th {\n",
       "        vertical-align: top;\n",
       "    }\n",
       "\n",
       "    .dataframe thead th {\n",
       "        text-align: right;\n",
       "    }\n",
       "</style>\n",
       "<table border=\"1\" class=\"dataframe\">\n",
       "  <thead>\n",
       "    <tr style=\"text-align: right;\">\n",
       "      <th></th>\n",
       "      <th>Unnamed: 0</th>\n",
       "      <th>-60.0</th>\n",
       "      <th>-59.5</th>\n",
       "      <th>-59.0</th>\n",
       "      <th>-58.5</th>\n",
       "      <th>-58.0</th>\n",
       "      <th>-57.5</th>\n",
       "      <th>-57.0</th>\n",
       "      <th>-56.5</th>\n",
       "      <th>-56.0</th>\n",
       "      <th>...</th>\n",
       "      <th>0.0</th>\n",
       "      <th>0.5</th>\n",
       "      <th>1.0</th>\n",
       "      <th>1.5</th>\n",
       "      <th>2.0</th>\n",
       "      <th>2.5</th>\n",
       "      <th>3.0</th>\n",
       "      <th>3.5</th>\n",
       "      <th>4.0</th>\n",
       "      <th>4.5</th>\n",
       "    </tr>\n",
       "  </thead>\n",
       "  <tbody>\n",
       "    <tr>\n",
       "      <th>0</th>\n",
       "      <td>1.475350e+09</td>\n",
       "      <td>-4.141314</td>\n",
       "      <td>-4.150199</td>\n",
       "      <td>-4.100302</td>\n",
       "      <td>-4.131956</td>\n",
       "      <td>-4.107885</td>\n",
       "      <td>-4.138743</td>\n",
       "      <td>-4.136789</td>\n",
       "      <td>-4.110069</td>\n",
       "      <td>-4.119885</td>\n",
       "      <td>...</td>\n",
       "      <td>-3.990452</td>\n",
       "      <td>-3.987117</td>\n",
       "      <td>-3.989778</td>\n",
       "      <td>-3.983573</td>\n",
       "      <td>-3.981575</td>\n",
       "      <td>-3.975222</td>\n",
       "      <td>-3.970959</td>\n",
       "      <td>-3.972336</td>\n",
       "      <td>-3.986016</td>\n",
       "      <td>-4.006751</td>\n",
       "    </tr>\n",
       "    <tr>\n",
       "      <th>1</th>\n",
       "      <td>1.475351e+09</td>\n",
       "      <td>-4.107295</td>\n",
       "      <td>-4.133722</td>\n",
       "      <td>-4.133008</td>\n",
       "      <td>-4.102297</td>\n",
       "      <td>-4.104403</td>\n",
       "      <td>-4.074554</td>\n",
       "      <td>-4.131653</td>\n",
       "      <td>-4.124686</td>\n",
       "      <td>-4.117754</td>\n",
       "      <td>...</td>\n",
       "      <td>-3.990873</td>\n",
       "      <td>-3.987290</td>\n",
       "      <td>-3.990987</td>\n",
       "      <td>-3.982324</td>\n",
       "      <td>-3.982060</td>\n",
       "      <td>-3.975276</td>\n",
       "      <td>-3.972544</td>\n",
       "      <td>-3.974082</td>\n",
       "      <td>-3.988110</td>\n",
       "      <td>-4.008600</td>\n",
       "    </tr>\n",
       "    <tr>\n",
       "      <th>2</th>\n",
       "      <td>1.475351e+09</td>\n",
       "      <td>-4.108090</td>\n",
       "      <td>-4.097599</td>\n",
       "      <td>-4.122558</td>\n",
       "      <td>-4.094787</td>\n",
       "      <td>-4.096755</td>\n",
       "      <td>-4.133977</td>\n",
       "      <td>-4.114245</td>\n",
       "      <td>-4.115191</td>\n",
       "      <td>-4.124657</td>\n",
       "      <td>...</td>\n",
       "      <td>-3.992962</td>\n",
       "      <td>-3.987666</td>\n",
       "      <td>-3.992166</td>\n",
       "      <td>-3.984175</td>\n",
       "      <td>-3.982966</td>\n",
       "      <td>-3.977313</td>\n",
       "      <td>-3.975995</td>\n",
       "      <td>-3.978060</td>\n",
       "      <td>-3.989762</td>\n",
       "      <td>-4.011448</td>\n",
       "    </tr>\n",
       "    <tr>\n",
       "      <th>3</th>\n",
       "      <td>1.475352e+09</td>\n",
       "      <td>-4.102435</td>\n",
       "      <td>-4.104186</td>\n",
       "      <td>-4.119375</td>\n",
       "      <td>-4.145919</td>\n",
       "      <td>-4.092731</td>\n",
       "      <td>-4.123652</td>\n",
       "      <td>-4.098336</td>\n",
       "      <td>-4.111449</td>\n",
       "      <td>-4.106250</td>\n",
       "      <td>...</td>\n",
       "      <td>-3.992146</td>\n",
       "      <td>-3.989351</td>\n",
       "      <td>-3.994678</td>\n",
       "      <td>-3.986169</td>\n",
       "      <td>-3.982569</td>\n",
       "      <td>-3.980092</td>\n",
       "      <td>-3.977627</td>\n",
       "      <td>-3.982259</td>\n",
       "      <td>-3.993972</td>\n",
       "      <td>-4.017115</td>\n",
       "    </tr>\n",
       "    <tr>\n",
       "      <th>4</th>\n",
       "      <td>1.475352e+09</td>\n",
       "      <td>-4.137374</td>\n",
       "      <td>-4.061649</td>\n",
       "      <td>-4.152146</td>\n",
       "      <td>-4.125488</td>\n",
       "      <td>-4.123318</td>\n",
       "      <td>-4.137721</td>\n",
       "      <td>-4.067144</td>\n",
       "      <td>-4.114753</td>\n",
       "      <td>-4.135278</td>\n",
       "      <td>...</td>\n",
       "      <td>-3.994508</td>\n",
       "      <td>-3.990281</td>\n",
       "      <td>-3.994564</td>\n",
       "      <td>-3.987684</td>\n",
       "      <td>-3.985898</td>\n",
       "      <td>-3.979697</td>\n",
       "      <td>-3.979569</td>\n",
       "      <td>-3.982617</td>\n",
       "      <td>-3.996594</td>\n",
       "      <td>-4.017408</td>\n",
       "    </tr>\n",
       "  </tbody>\n",
       "</table>\n",
       "<p>5 rows × 131 columns</p>\n",
       "</div>"
      ],
      "text/plain": [
       "     Unnamed: 0     -60.0     -59.5     -59.0     -58.5     -58.0     -57.5  \\\n",
       "0  1.475350e+09 -4.141314 -4.150199 -4.100302 -4.131956 -4.107885 -4.138743   \n",
       "1  1.475351e+09 -4.107295 -4.133722 -4.133008 -4.102297 -4.104403 -4.074554   \n",
       "2  1.475351e+09 -4.108090 -4.097599 -4.122558 -4.094787 -4.096755 -4.133977   \n",
       "3  1.475352e+09 -4.102435 -4.104186 -4.119375 -4.145919 -4.092731 -4.123652   \n",
       "4  1.475352e+09 -4.137374 -4.061649 -4.152146 -4.125488 -4.123318 -4.137721   \n",
       "\n",
       "      -57.0     -56.5     -56.0    ...          0.0       0.5       1.0  \\\n",
       "0 -4.136789 -4.110069 -4.119885    ...    -3.990452 -3.987117 -3.989778   \n",
       "1 -4.131653 -4.124686 -4.117754    ...    -3.990873 -3.987290 -3.990987   \n",
       "2 -4.114245 -4.115191 -4.124657    ...    -3.992962 -3.987666 -3.992166   \n",
       "3 -4.098336 -4.111449 -4.106250    ...    -3.992146 -3.989351 -3.994678   \n",
       "4 -4.067144 -4.114753 -4.135278    ...    -3.994508 -3.990281 -3.994564   \n",
       "\n",
       "        1.5       2.0       2.5       3.0       3.5       4.0       4.5  \n",
       "0 -3.983573 -3.981575 -3.975222 -3.970959 -3.972336 -3.986016 -4.006751  \n",
       "1 -3.982324 -3.982060 -3.975276 -3.972544 -3.974082 -3.988110 -4.008600  \n",
       "2 -3.984175 -3.982966 -3.977313 -3.975995 -3.978060 -3.989762 -4.011448  \n",
       "3 -3.986169 -3.982569 -3.980092 -3.977627 -3.982259 -3.993972 -4.017115  \n",
       "4 -3.987684 -3.985898 -3.979697 -3.979569 -3.982617 -3.996594 -4.017408  \n",
       "\n",
       "[5 rows x 131 columns]"
      ]
     },
     "execution_count": 357,
     "metadata": {},
     "output_type": "execute_result"
    }
   ],
   "source": [
    "S21_db.head(5)"
   ]
  },
  {
   "cell_type": "code",
   "execution_count": 359,
   "metadata": {},
   "outputs": [
    {
     "name": "stdout",
     "output_type": "stream",
     "text": [
      "130\n"
     ]
    },
    {
     "data": {
      "image/png": "[encoded data removed]",
      "text/plain": [
       "<Figure size 1440x1440 with 1 Axes>"
      ]
     },
     "metadata": {},
     "output_type": "display_data"
    }
   ],
   "source": [
    "powers = np.arange(-60, 5, 0.5)\n",
    "plt.figure(figsize=(20,20))\n",
    "a=len(powers)\n",
    "print(a)\n",
    "for i in range (100,120,1):\n",
    "    \n",
    "    frequencies = S21_db.iloc[:,:1]\n",
    "    s21=S21_db.iloc[:,i+1:i+2]\n",
    "    plt.plot(frequencies,s21)\n",
    "    plt.legend(powers[i:],prop={'size':15})"
   ]
  },
  {
   "cell_type": "code",
   "execution_count": null,
   "metadata": {},
   "outputs": [],
   "source": []
  },
  {
   "cell_type": "code",
   "execution_count": null,
   "metadata": {},
   "outputs": [],
   "source": []
  },
  {
   "cell_type": "code",
   "execution_count": 56,
   "metadata": {},
   "outputs": [],
   "source": [
    "plt.figure()\n",
    "plt.plot()"
   ]
  },
  {
   "cell_type": "code",
   "execution_count": 336,
   "metadata": {},
   "outputs": [
    {
     "name": "stdout",
     "output_type": "stream",
     "text": [
      "-59.5   -3.830661\n",
      "dtype: float64\n",
      "-59.5   -17.250895\n",
      "dtype: float64\n",
      "-59.5    13.420234\n",
      "dtype: float64\n"
     ]
    }
   ],
   "source": [
    "r=S21_db.iloc[0:,2:3]\n",
    "a=np.min(r)\n",
    "b=np.max(r)\n",
    "c=b-a\n",
    "print(b)\n",
    "print(a)\n",
    "print(c)"
   ]
  },
  {
   "cell_type": "code",
   "execution_count": 361,
   "metadata": {},
   "outputs": [
    {
     "name": "stdout",
     "output_type": "stream",
     "text": [
      "130\n"
     ]
    },
    {
     "ename": "AttributeError",
     "evalue": "'DataFrame' object has no attribute 'split'",
     "output_type": "error",
     "traceback": [
      "\u001b[1;31m---------------------------------------------------------------------------\u001b[0m",
      "\u001b[1;31mAttributeError\u001b[0m                            Traceback (most recent call last)",
      "\u001b[1;32m<ipython-input-361-2bee774bc670>\u001b[0m in \u001b[0;36m<module>\u001b[1;34m()\u001b[0m\n\u001b[0;32m      5\u001b[0m \u001b[1;32mfor\u001b[0m \u001b[0mi\u001b[0m \u001b[1;32min\u001b[0m \u001b[0mrange\u001b[0m \u001b[1;33m(\u001b[0m\u001b[1;36m0\u001b[0m\u001b[1;33m,\u001b[0m\u001b[0mm\u001b[0m\u001b[1;33m)\u001b[0m\u001b[1;33m:\u001b[0m\u001b[1;33m\u001b[0m\u001b[0m\n\u001b[0;32m      6\u001b[0m     \u001b[0mq\u001b[0m\u001b[1;33m=\u001b[0m\u001b[0mS21_db\u001b[0m\u001b[1;33m.\u001b[0m\u001b[0miloc\u001b[0m\u001b[1;33m[\u001b[0m\u001b[1;33m:\u001b[0m\u001b[1;33m,\u001b[0m\u001b[0mi\u001b[0m\u001b[1;33m+\u001b[0m\u001b[1;36m1\u001b[0m\u001b[1;33m:\u001b[0m\u001b[0mi\u001b[0m\u001b[1;33m+\u001b[0m\u001b[1;36m2\u001b[0m\u001b[1;33m]\u001b[0m\u001b[1;33m\u001b[0m\u001b[0m\n\u001b[1;32m----> 7\u001b[1;33m     \u001b[0mlst\u001b[0m\u001b[1;33m=\u001b[0m\u001b[0mq\u001b[0m\u001b[1;33m.\u001b[0m\u001b[0msplit\u001b[0m\u001b[1;33m(\u001b[0m\u001b[1;33m)\u001b[0m\u001b[1;33m\u001b[0m\u001b[0m\n\u001b[0m\u001b[0;32m      8\u001b[0m     \u001b[0ma\u001b[0m\u001b[1;33m=\u001b[0m\u001b[0mnp\u001b[0m\u001b[1;33m.\u001b[0m\u001b[0mmin\u001b[0m\u001b[1;33m(\u001b[0m\u001b[0mlst\u001b[0m\u001b[1;33m)\u001b[0m\u001b[1;33m\u001b[0m\u001b[0m\n\u001b[0;32m      9\u001b[0m     \u001b[0mb\u001b[0m\u001b[1;33m=\u001b[0m\u001b[0mnp\u001b[0m\u001b[1;33m.\u001b[0m\u001b[0mmax\u001b[0m\u001b[1;33m(\u001b[0m\u001b[0mlst\u001b[0m\u001b[1;33m)\u001b[0m\u001b[1;33m\u001b[0m\u001b[0m\n",
      "\u001b[1;32mC:\\ProgramData\\Anaconda3\\lib\\site-packages\\pandas\\core\\generic.py\u001b[0m in \u001b[0;36m__getattr__\u001b[1;34m(self, name)\u001b[0m\n\u001b[0;32m   4370\u001b[0m             \u001b[1;32mif\u001b[0m \u001b[0mself\u001b[0m\u001b[1;33m.\u001b[0m\u001b[0m_info_axis\u001b[0m\u001b[1;33m.\u001b[0m\u001b[0m_can_hold_identifiers_and_holds_name\u001b[0m\u001b[1;33m(\u001b[0m\u001b[0mname\u001b[0m\u001b[1;33m)\u001b[0m\u001b[1;33m:\u001b[0m\u001b[1;33m\u001b[0m\u001b[0m\n\u001b[0;32m   4371\u001b[0m                 \u001b[1;32mreturn\u001b[0m \u001b[0mself\u001b[0m\u001b[1;33m[\u001b[0m\u001b[0mname\u001b[0m\u001b[1;33m]\u001b[0m\u001b[1;33m\u001b[0m\u001b[0m\n\u001b[1;32m-> 4372\u001b[1;33m             \u001b[1;32mreturn\u001b[0m \u001b[0mobject\u001b[0m\u001b[1;33m.\u001b[0m\u001b[0m__getattribute__\u001b[0m\u001b[1;33m(\u001b[0m\u001b[0mself\u001b[0m\u001b[1;33m,\u001b[0m \u001b[0mname\u001b[0m\u001b[1;33m)\u001b[0m\u001b[1;33m\u001b[0m\u001b[0m\n\u001b[0m\u001b[0;32m   4373\u001b[0m \u001b[1;33m\u001b[0m\u001b[0m\n\u001b[0;32m   4374\u001b[0m     \u001b[1;32mdef\u001b[0m \u001b[0m__setattr__\u001b[0m\u001b[1;33m(\u001b[0m\u001b[0mself\u001b[0m\u001b[1;33m,\u001b[0m \u001b[0mname\u001b[0m\u001b[1;33m,\u001b[0m \u001b[0mvalue\u001b[0m\u001b[1;33m)\u001b[0m\u001b[1;33m:\u001b[0m\u001b[1;33m\u001b[0m\u001b[0m\n",
      "\u001b[1;31mAttributeError\u001b[0m: 'DataFrame' object has no attribute 'split'"
     ]
    }
   ],
   "source": [
    "powers = np.arange(-60, 5, 0.5)\n",
    "m=len(powers)\n",
    "quality=[]\n",
    "print(m)\n",
    "for i in range (0,m):\n",
    "    q=S21_db.iloc[:,i+1:i+2]\n",
    "    lst=q.split()\n",
    "    a=np.min(lst)\n",
    "    b=np.max(lst)\n",
    "    c=a-b\n",
    "    quality.append(c)\n",
    "    plt.plot(powers[i],quality[i])\n",
    "print(quality)"
   ]
  },
  {
   "cell_type": "code",
   "execution_count": 104,
   "metadata": {},
   "outputs": [],
   "source": [
    "b=min(S21_db.iloc[:,i+1:i+2])\n",
    "b1=float(b)"
   ]
  },
  {
   "cell_type": "code",
   "execution_count": 114,
   "metadata": {},
   "outputs": [
    {
     "name": "stdout",
     "output_type": "stream",
     "text": [
      "-4.206386994618009\n"
     ]
    }
   ],
   "source": [
    "print(b1)"
   ]
  },
  {
   "cell_type": "code",
   "execution_count": 119,
   "metadata": {},
   "outputs": [
    {
     "data": {
      "text/plain": [
       "-0.20638699461800858"
      ]
     },
     "execution_count": 119,
     "metadata": {},
     "output_type": "execute_result"
    }
   ],
   "source": []
  },
  {
   "cell_type": "code",
   "execution_count": 240,
   "metadata": {},
   "outputs": [
    {
     "name": "stdout",
     "output_type": "stream",
     "text": [
      "-0.4\n"
     ]
    }
   ],
   "source": []
  },
  {
   "cell_type": "code",
   "execution_count": null,
   "metadata": {},
   "outputs": [],
   "source": []
  }
 ],
 "metadata": {
  "kernelspec": {
   "display_name": "Python 3",
   "language": "python",
   "name": "python3"
  },
  "language_info": {
   "codemirror_mode": {
    "name": "ipython",
    "version": 3
   },
   "file_extension": ".py",
   "mimetype": "text/x-python",
   "name": "python",
   "nbconvert_exporter": "python",
   "pygments_lexer": "ipython3",
   "version": "3.6.5"
  },
  "toc": {
   "base_numbering": 1,
   "nav_menu": {},
   "number_sections": true,
   "sideBar": true,
   "skip_h1_title": false,
   "title_cell": "Table of Contents",
   "title_sidebar": "Contents",
   "toc_cell": false,
   "toc_position": {},
   "toc_section_display": true,
   "toc_window_display": false
  }
 },
 "nbformat": 4,
 "nbformat_minor": 2
}
