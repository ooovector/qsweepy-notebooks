{
 "cells": [
  {
   "cell_type": "code",
   "execution_count": 4,
   "metadata": {
    "ExecuteTime": {
     "end_time": "2019-08-02T06:12:19.809405Z",
     "start_time": "2019-08-02T06:12:19.712445Z"
    }
   },
   "outputs": [],
   "source": [
    "import numpy as np\n",
    "import pandas as pd"
   ]
  },
  {
   "cell_type": "code",
   "execution_count": 2,
   "metadata": {
    "ExecuteTime": {
     "end_time": "2019-08-02T14:28:17.901311Z",
     "start_time": "2019-08-02T14:28:11.284451Z"
    }
   },
   "outputs": [],
   "source": [
    "from qsweepy import *\n",
    "from qsweepy.ponyfiles import *\n",
    "from importlib import reload\n",
    "# loading all modules from qsweepy.instrument_drivers\n",
    "# omitting module's members which name starts with \"__\"\n",
    "from qsweepy.instruments import *  \n",
    "#from qsweepy.qubit_calibrations import benchmarking\n",
    "reload(exdir_db)\n",
    "reload(database)\n",
    "reload(sweep_extras)\n",
    "import imp\n",
    "from qsweepy.qubit_calibrations import readout_passthrough\n",
    "from qsweepy.fitters import exp_sin, fit_dataset\n",
    "from qsweepy import readout_classifier\n",
    "from qsweepy.qubit_calibrations import gauss_hd\n",
    "from qsweepy import tomography\n",
    "from qsweepy import pulses\n",
    "reload(awg_digital)\n",
    "reload(awg_iq_multi)\n",
    "reload(data_reduce)\n",
    "reload(fitting)\n",
    "reload(plotting)\n",
    "reload(tomography)\n",
    "reload(sweep)\n",
    "reload(pulses)\n",
    "reload(awg_channel)\n",
    "reload(awg_iq_multi)\n",
    "reload(modem_readout)\n",
    "reload(qubit_device)\n",
    "reload(single_shot_readout)\n",
    "reload(readout_passthrough)\n",
    "reload(exp_sin)\n",
    "reload(fit_dataset)\n",
    "reload(exdir_db)\n",
    "reload(database)\n",
    "reload(sweep_extras)\n",
    "reload(readout_classifier)\n",
    "\n",
    "sample_name = '1906-001_1_down'\n",
    "\n",
    "db = database.MyDatabase()\n",
    "sweeper = sweep_extras.Sweeper(db, sample_name=sample_name)\n",
    "exdir_db_inst = exdir_db.Exdir_db(db=db, sample_name=sample_name)\n",
    "\n",
    "#hardware.setup_iq_channel_connections(exdir_db_inst)\n",
    "#device = qubit_device.qubit_device(exdir_db_inst, sweeper, controls = {'coil':hardware.coil})\n",
    "#device.create_pulsed_interfaces(hardware.iq_devices, extra_channels = {'ro_trg':hardware.ro_trg,\n",
    "#                                                                       'coil':hardware.coil})\n",
    "#device.setup_modem_readout(hardware)"
   ]
  },
  {
   "cell_type": "code",
   "execution_count": 7,
   "metadata": {
    "ExecuteTime": {
     "end_time": "2019-08-02T06:13:27.327893Z",
     "start_time": "2019-08-02T06:13:27.097002Z"
    }
   },
   "outputs": [
    {
     "name": "stdout",
     "output_type": "stream",
     "text": [
      "Exdir_db.select_measurement_by_id: trying to load measurement state by id:  c:\\data\\2019-08-02\\008693-process_tomography_identity-1906-001_1_down\n"
     ]
    }
   ],
   "source": [
    "meas = exdir_db_inst.select_measurement_by_id(8693)"
   ]
  },
  {
   "cell_type": "code",
   "execution_count": 5,
   "metadata": {
    "ExecuteTime": {
     "end_time": "2019-08-02T14:30:43.839519Z",
     "start_time": "2019-08-02T14:30:43.830508Z"
    }
   },
   "outputs": [
    {
     "data": {
      "text/plain": [
       "<module 'qsweepy.fitters.exp' from 'C:\\\\qtlab_replacement\\\\qsweepy\\\\fitters\\\\exp.py'>"
      ]
     },
     "execution_count": 5,
     "metadata": {},
     "output_type": "execute_result"
    }
   ],
   "source": [
    "from qsweepy.qubit_calibrations.benchmarking import *\n",
    "from qsweepy.qubit_calibrations import benchmarking\n",
    "from qsweepy.fitters import exp\n",
    "reload(benchmarking)\n",
    "reload(exp)"
   ]
  },
  {
   "cell_type": "code",
   "execution_count": 31,
   "metadata": {
    "ExecuteTime": {
     "end_time": "2019-08-02T14:47:45.213492Z",
     "start_time": "2019-08-02T14:47:44.924631Z"
    }
   },
   "outputs": [
    {
     "name": "stdout",
     "output_type": "stream",
     "text": [
      "Exdir_db.select_measurement_by_id: trying to load measurement state by id:  c:\\data\\2019-07-30\\008368-interleaved_bench-1906-001_1_down\n"
     ]
    }
   ],
   "source": [
    "not1 = exdir_db_inst.select_measurement_by_id(8368)\n",
    "create_flat_dataset(not1, 'resultnumbers')\n",
    "fit = fit_dataset.fit_dataset_1d(not1, 'resultnumbers', exp.exp_fitter(), time_parameter_id=0)\n",
    "fit.metadata['decay']\n",
    "exdir_db_inst.save_measurement(fit)"
   ]
  },
  {
   "cell_type": "code",
   "execution_count": 19,
   "metadata": {
    "ExecuteTime": {
     "end_time": "2019-08-02T14:37:28.212502Z",
     "start_time": "2019-08-02T14:37:28.206505Z"
    }
   },
   "outputs": [
    {
     "data": {
      "text/plain": [
       "{'resultnumbers': parameters: Gate number (),:[0, 25] (20 points) with setter\n",
       " Random sequence id (),:[0, 19] (20 points) with setter\n",
       " State (),:[0, 3] (4 points) without setter\n",
       " data: [[[6103 3894 5545 4458]\n",
       "   [6315 3876 5488 4321]\n",
       "   [6290 3769 5530 4411]\n",
       "   ...\n",
       "   [6203 3968 5457 4372]\n",
       "   [6158 4010 5269 4563]\n",
       "   [6069 3967 5420 4544]]\n",
       " \n",
       "  [[6212 3831 5518 4439]\n",
       "   [6039 3959 5550 4452]\n",
       "   [5963 4192 5206 4639]\n",
       "   ...\n",
       "   [5929 4080 5338 4653]\n",
       "   [5577 3920 5602 4901]\n",
       "   [5795 3925 5493 4787]]\n",
       " \n",
       "  [[5645 3956 5450 4949]\n",
       "   [5730 4050 5345 4875]\n",
       "   [5935 4032 5304 4729]\n",
       "   ...\n",
       "   [5557 4208 5182 5053]\n",
       "   [6054 3884 5453 4609]\n",
       "   [5637 3939 5456 4968]]\n",
       " \n",
       "  ...\n",
       " \n",
       "  [[4300 4106 5285 6309]\n",
       "   [4430 4098 5213 6259]\n",
       "   [4309 4216 5090 6385]\n",
       "   ...\n",
       "   [4408 4413 4997 6182]\n",
       "   [4381 3981 5434 6204]\n",
       "   [4346 4072 5363 6219]]\n",
       " \n",
       "  [[4244 4212 5168 6376]\n",
       "   [4280 4265 5080 6375]\n",
       "   [4199 4320 4978 6503]\n",
       "   ...\n",
       "   [4468 3786 5590 6156]\n",
       "   [4563 3840 5362 6235]\n",
       "   [4334 4005 5332 6329]]\n",
       " \n",
       "  [[4086 4045 5227 6642]\n",
       "   [4209 4250 5038 6503]\n",
       "   [4365 4141 5140 6354]\n",
       "   ...\n",
       "   [4169 4146 5225 6460]\n",
       "   [4118 3973 5266 6643]\n",
       "   [4343 4210 4997 6450]]],\n",
       " 'resultnumbers_flat': parameters: Gate number (),:[0, 25] (400 points) with setter\n",
       " State (),:[0, 3] (4 points) without setter\n",
       " data: [[6103 3894 5545 4458]\n",
       "  [6315 3876 5488 4321]\n",
       "  [6290 3769 5530 4411]\n",
       "  ...\n",
       "  [4169 4146 5225 6460]\n",
       "  [4118 3973 5266 6643]\n",
       "  [4343 4210 4997 6450]]}"
      ]
     },
     "execution_count": 19,
     "metadata": {},
     "output_type": "execute_result"
    }
   ],
   "source": [
    "Cl.datasets"
   ]
  },
  {
   "cell_type": "code",
   "execution_count": 37,
   "metadata": {
    "ExecuteTime": {
     "end_time": "2019-08-02T14:51:45.209152Z",
     "start_time": "2019-08-02T14:51:45.203179Z"
    }
   },
   "outputs": [
    {
     "data": {
      "text/plain": [
       "start: 2019-08-02 17:51:32.808104, started/done/total sweeps: 0/0/0, \n",
       "Measured data: \n",
       "'resultnumbers_flat': parameters: Gate number (),:[0.0, 25.0] (501 points) with setter\n",
       "State (),:[0, 3] (4 points) without setter\n",
       "data: [[6046 6040 6034 ... 4230 4228 4226]\n",
       " [4079 4079 4079 ... 4102 4102 4102]\n",
       " [5383 5383 5383 ... 5301 5301 5301]\n",
       " [4463 4469 4476 ... 6393 6395 6397]]\n",
       "'amplitudes': parameters: State (),:[0, 3] (4 points) without setter\n",
       "data: [ 2739   -34   123 -2909]\n",
       "'MSE_rel': parameters: \n",
       "data: [array([ 3147.79296678, 71880.39587647, 59100.13609938, ...,\n",
       "        3893.05576551, 60218.39036904,  2745.1686287 ])]\n",
       "'decay': parameters: \n",
       "data: [22.87519586]"
      ]
     },
     "execution_count": 37,
     "metadata": {},
     "output_type": "execute_result"
    }
   ],
   "source": [
    "fit"
   ]
  },
  {
   "cell_type": "code",
   "execution_count": 41,
   "metadata": {
    "ExecuteTime": {
     "end_time": "2019-08-02T14:57:13.677264Z",
     "start_time": "2019-08-02T14:57:12.377888Z"
    }
   },
   "outputs": [
    {
     "name": "stdout",
     "output_type": "stream",
     "text": [
      "Exdir_db.select_measurement_by_id: trying to load measurement state by id:  c:\\data\\2019-07-30\\008351-clifford_bench-1906-001_1_down\n",
      "\n",
      "Cl:  0.9572262757459952\n",
      "Exdir_db.select_measurement_by_id: trying to load measurement state by id:  c:\\data\\2019-07-30\\008368-interleaved_bench-1906-001_1_down\n",
      "\n",
      "Cl+NOT1:  36069.528050807145\n",
      "NOT1:  37681.29747869392\n",
      "Exdir_db.select_measurement_by_id: trying to load measurement state by id:  c:\\data\\2019-07-30\\008370-interleaved_bench-1906-001_1_down\n",
      "\n",
      "Cl+NOT3:  0.8907186997257261\n",
      "NOT3:  0.9305205282121641\n",
      "Exdir_db.select_measurement_by_id: trying to load measurement state by id:  c:\\data\\2019-07-30\\008371-interleaved_bench-1906-001_1_down\n",
      "\n",
      "Cl+H1:  0.8124563674837061\n",
      "H1:  0.8487610380842654\n",
      "Exdir_db.select_measurement_by_id: trying to load measurement state by id:  c:\\data\\2019-07-30\\008372-interleaved_bench-1906-001_1_down\n",
      "\n",
      "Cl+H3:  0.8612688520068675\n",
      "H3:  0.8997547119521504\n"
     ]
    }
   ],
   "source": [
    "Cl = exdir_db_inst.select_measurement_by_id(8351)\n",
    "create_flat_dataset(Cl, 'resultnumbers')\n",
    "fit = fit_dataset.fit_dataset_1d(Cl, 'resultnumbers_flat', exp.exp_fitter(), time_parameter_id=0)\n",
    "del(fit.datasets['B'])\n",
    "del(fit.datasets['MSE_rel'])\n",
    "exdir_db_inst.save_measurement(fit)\n",
    "exdir_db_inst.save_measurement(Cl)\n",
    "fidelya_clifford = np.exp(-1/float(fit.metadata['decay']))\n",
    "print('\\nCl: ', fidelya_clifford)\n",
    "\n",
    "\n",
    "not1 = exdir_db_inst.select_measurement_by_id(8368)\n",
    "create_flat_dataset(not1, 'resultnumbers')\n",
    "fit = fit_dataset.fit_dataset_1d(not1, 'resultnumbers_flat', exp.exp_fitter(), time_parameter_id=0)\n",
    "del(fit.datasets['B'])\n",
    "del(fit.datasets['MSE_rel'])\n",
    "exdir_db_inst.save_measurement(fit)\n",
    "exdir_db_inst.save_measurement(not1)\n",
    "fidelya = np.exp(-1/float(-1/float(fit.metadata['decay'])))\n",
    "                 \n",
    "print('\\nCl+NOT1: ', fidelya)\n",
    "print('NOT1: ',fidelya/fidelya_clifford)\n",
    "#print('NOT1: ',1-(1-fidelya_clifford)/(1-fidelya))\n",
    "\n",
    "not3 = exdir_db_inst.select_measurement_by_id(8370)\n",
    "create_flat_dataset(not3, 'resultnumbers')\n",
    "fit = fit_dataset.fit_dataset_1d(not3, 'resultnumbers_flat', exp.exp_fitter(), time_parameter_id=0)\n",
    "del(fit.datasets['B'])\n",
    "del(fit.datasets['MSE_rel'])\n",
    "exdir_db_inst.save_measurement(fit)\n",
    "exdir_db_inst.save_measurement(not3)\n",
    "fidelya = np.exp(-1/float(fit.metadata['decay']))\n",
    "\n",
    "print('\\nCl+NOT3: ', fidelya)\n",
    "print('NOT3: ',fidelya/fidelya_clifford)\n",
    "h1 = exdir_db_inst.select_measurement_by_id(8371)\n",
    "create_flat_dataset(h1, 'resultnumbers')\n",
    "fit = fit_dataset.fit_dataset_1d(h1, 'resultnumbers_flat', exp.exp_fitter(), time_parameter_id=0)\n",
    "del(fit.datasets['B'])\n",
    "del(fit.datasets['MSE_rel'])\n",
    "exdir_db_inst.save_measurement(fit)\n",
    "exdir_db_inst.save_measurement(h1)\n",
    "fidelya = np.exp(-1/float(fit.metadata['decay']))\n",
    "print('\\nCl+H1: ', fidelya)\n",
    "print('H1: ',fidelya/fidelya_clifford)\n",
    "\n",
    "h3 = exdir_db_inst.select_measurement_by_id(8372)\n",
    "create_flat_dataset(h3, 'resultnumbers')\n",
    "fit = fit_dataset.fit_dataset_1d(h3, 'resultnumbers_flat', exp.exp_fitter(), time_parameter_id=0)\n",
    "del(fit.datasets['B'])\n",
    "del(fit.datasets['MSE_rel'])\n",
    "exdir_db_inst.save_measurement(fit)\n",
    "exdir_db_inst.save_measurement(h3)\n",
    "fidelya = np.exp(-1/float(fit.metadata['decay']))\n",
    "print('\\nCl+H3: ', fidelya)\n",
    "print('H3: ',fidelya/fidelya_clifford)\n",
    "#fit_benchmarking(0, meas)"
   ]
  },
  {
   "cell_type": "code",
   "execution_count": 42,
   "metadata": {
    "ExecuteTime": {
     "end_time": "2019-08-02T14:57:32.944074Z",
     "start_time": "2019-08-02T14:57:32.938079Z"
    }
   },
   "outputs": [
    {
     "data": {
      "text/plain": [
       "0.30832098539343333"
      ]
     },
     "execution_count": 42,
     "metadata": {},
     "output_type": "execute_result"
    }
   ],
   "source": [
    "(1-fidelya_clifford)/(1-fidelya)"
   ]
  },
  {
   "cell_type": "code",
   "execution_count": 14,
   "metadata": {
    "ExecuteTime": {
     "end_time": "2019-08-02T12:21:43.375921Z",
     "start_time": "2019-08-02T12:21:42.987106Z"
    }
   },
   "outputs": [
    {
     "name": "stdout",
     "output_type": "stream",
     "text": [
      "Exdir_db.select_measurement_by_id: trying to load measurement state by id:  c:\\data\\2019-08-02\\008728-process_tomography_identity-1906-001_1_down\n",
      "identity fidelity:  (0.8314825107943732+0j)\n"
     ]
    }
   ],
   "source": [
    "reconstruction_identity = exdir_db_inst.select_measurement_by_id(8728).datasets['reconstruction'].data\n",
    "#plt.pcolormesh(np.real(reconstruction))\n",
    "identity_gate = np.reshape(np.einsum('ij,kl->ijkl', np.identity(4), np.identity(4)), (16,16))\n",
    "print ('identity fidelity: ', np.sum(np.conj(reconstruction_identity)*identity_gate)/16)"
   ]
  },
  {
   "cell_type": "code",
   "execution_count": 17,
   "metadata": {
    "ExecuteTime": {
     "end_time": "2019-08-02T12:24:51.860028Z",
     "start_time": "2019-08-02T12:24:51.664099Z"
    }
   },
   "outputs": [
    {
     "name": "stderr",
     "output_type": "stream",
     "text": [
      "C:\\ProgramData\\Anaconda3\\lib\\site-packages\\ipykernel_launcher.py:12: ComplexWarning:\n",
      "\n",
      "Casting complex values to real discards the imaginary part\n",
      "\n"
     ]
    },
    {
     "data": {
      "text/plain": [
       "0.8909131899316642"
      ]
     },
     "execution_count": 17,
     "metadata": {},
     "output_type": "execute_result"
    }
   ],
   "source": [
    "fidelities = np.zeros((51,51))\n",
    "\n",
    "for _id1, phi1 in enumerate(np.linspace(0, 2*np.pi, 51)):\n",
    "    for _id2, phi2 in enumerate(np.linspace(0, 2*np.pi, 51)):\n",
    "        phase = np.asarray([[1, 0,               0, 0], \n",
    "                            [0, exp(1j*phi1),    0, 0], \n",
    "                            [0, 0, np.exp(1j*phi2), 0], \n",
    "                            [0, 0, 0, np.exp(1j*(phi1+phi2))]])\n",
    "        \n",
    "        U2 = np.identity(4)@phase\n",
    "        X_identity = np.reshape(np.einsum('ij,kl->ijkl',U2, np.conj(U2)), (16,16))\n",
    "        fidelities[_id1, _id2] = np.sum(np.conj(X_identity)*reconstruction_identity)/16\n",
    "np.max(fidelities)"
   ]
  },
  {
   "cell_type": "code",
   "execution_count": 19,
   "metadata": {
    "ExecuteTime": {
     "end_time": "2019-08-02T12:28:25.865892Z",
     "start_time": "2019-08-02T12:28:25.859896Z"
    }
   },
   "outputs": [
    {
     "data": {
      "text/plain": [
       "[1, 2, 3]"
      ]
     },
     "execution_count": 19,
     "metadata": {},
     "output_type": "execute_result"
    }
   ],
   "source": [
    "[1,2,3,][:5]"
   ]
  },
  {
   "cell_type": "code",
   "execution_count": 12,
   "metadata": {
    "ExecuteTime": {
     "end_time": "2019-08-02T06:14:52.338320Z",
     "start_time": "2019-08-02T06:14:52.328304Z"
    }
   },
   "outputs": [
    {
     "data": {
      "text/plain": [
       "(array([-1.50650154, -0.47173131, -0.33470184, -0.25361302, -0.21369334,\n",
       "        -0.12879578, -0.01184648,  0.01043479,  0.07693716,  0.13596172,\n",
       "         0.19199605,  0.24667071,  0.33464873,  0.36135545,  0.97177597,\n",
       "         4.58138147]), memmap([[-3.76579044e-01-0.00000000e+00j,\n",
       "          -3.40908888e-01+0.00000000e+00j,\n",
       "          -8.89220468e-02+0.00000000e+00j,\n",
       "          -2.81163312e-01+0.00000000e+00j,\n",
       "          -2.74726874e-01+0.00000000e+00j,\n",
       "          -2.35560856e-01+0.00000000e+00j,\n",
       "          -1.18119971e-01+0.00000000e+00j,\n",
       "          -1.05598647e-01+0.00000000e+00j,\n",
       "          -6.82530929e-02+0.00000000e+00j,\n",
       "           1.54360547e-01+0.00000000e+00j,\n",
       "           1.73619774e-01+0.00000000e+00j,\n",
       "          -1.71866810e-01+0.00000000e+00j,\n",
       "          -2.15948444e-01+0.00000000e+00j,\n",
       "           8.91980379e-02+0.00000000e+00j,\n",
       "          -3.44941175e-01+0.00000000e+00j,\n",
       "          -4.87031946e-01+0.00000000e+00j],\n",
       "         [ 2.05359899e-02+4.56106009e-02j,\n",
       "          -3.35620528e-01-1.95722383e-01j,\n",
       "          -1.98667358e-01+6.83344202e-02j,\n",
       "          -2.55783221e-01-1.56574931e-03j,\n",
       "           1.21121957e-01-1.54979408e-02j,\n",
       "           2.35460511e-01+1.66725627e-01j,\n",
       "          -1.12832413e-02-5.35435504e-02j,\n",
       "           1.66116798e-01+7.06034444e-02j,\n",
       "           2.42965440e-01+9.50922811e-02j,\n",
       "           1.53603881e-01+1.21425142e-01j,\n",
       "           1.82855670e-01-3.25846756e-01j,\n",
       "           2.22261491e-01-3.23345947e-01j,\n",
       "           3.16833048e-01+4.60701800e-02j,\n",
       "          -3.14541920e-01+3.36425552e-02j,\n",
       "           7.90920683e-03+1.50673500e-02j,\n",
       "          -1.48109783e-02+1.41069273e-02j],\n",
       "         [-3.64348011e-01-3.27677796e-02j,\n",
       "           8.95972021e-02-1.95130006e-02j,\n",
       "           2.44069271e-01-2.02544918e-01j,\n",
       "           1.81039444e-01+9.40271269e-02j,\n",
       "          -3.15190227e-02+1.23262353e-01j,\n",
       "           1.86276310e-01-3.64390566e-02j,\n",
       "          -2.67769664e-01-1.76117841e-01j,\n",
       "           4.17359583e-03+3.56390390e-02j,\n",
       "           1.36101498e-01-1.04195029e-02j,\n",
       "           4.73197572e-02+3.23230331e-02j,\n",
       "           3.55900642e-01-1.23605523e-01j,\n",
       "          -2.34344083e-01+9.92413978e-02j,\n",
       "          -1.61301114e-01-1.92358899e-01j,\n",
       "          -2.86306974e-01-6.01572050e-02j,\n",
       "           4.26316070e-01+1.93235504e-03j,\n",
       "          -1.57124365e-02+1.02997959e-02j],\n",
       "         [ 3.99296444e-02-1.32009225e-02j,\n",
       "          -1.95431993e-01-3.64662902e-02j,\n",
       "           2.11578897e-01-1.38772204e-01j,\n",
       "           1.19647603e-01+7.94152499e-02j,\n",
       "           3.35005362e-01-2.28877875e-01j,\n",
       "          -2.52992023e-01+7.80458307e-03j,\n",
       "           1.56881350e-01+2.45708932e-01j,\n",
       "          -1.71206254e-02+2.04948281e-01j,\n",
       "           1.62520319e-01+2.72473742e-02j,\n",
       "          -2.39373636e-01+2.62310707e-01j,\n",
       "           8.05860646e-02-2.41090634e-01j,\n",
       "          -4.28960759e-01-1.16623974e-01j,\n",
       "           5.70324532e-02+1.18394094e-01j,\n",
       "           1.96961361e-01-2.11827719e-01j,\n",
       "          -1.07227041e-02-3.87553626e-02j,\n",
       "          -2.88539957e-03+7.21156283e-03j],\n",
       "         [-1.96340471e-03-1.28752186e-02j,\n",
       "          -2.00767939e-01-9.97835748e-02j,\n",
       "          -2.16171152e-04+5.76848101e-02j,\n",
       "           1.98188771e-01-1.55637179e-02j,\n",
       "          -3.03183322e-01+1.64258404e-01j,\n",
       "           1.80531695e-01+6.26701846e-02j,\n",
       "           3.11061376e-02+3.69719487e-01j,\n",
       "          -2.95640413e-01-2.38409201e-01j,\n",
       "          -3.00646301e-01-1.72375591e-01j,\n",
       "          -3.69142512e-01+1.54435850e-01j,\n",
       "           5.95752419e-02-9.92029261e-02j,\n",
       "          -1.89379131e-03+6.24693323e-02j,\n",
       "           2.81604340e-01-1.96673308e-01j,\n",
       "          -1.95641961e-01-1.03841383e-01j,\n",
       "          -6.79432511e-02-1.14571677e-02j,\n",
       "           2.40556407e-03+9.30658618e-03j],\n",
       "         [-3.59246944e-01+8.22471532e-03j,\n",
       "           3.18186126e-01+2.40512387e-02j,\n",
       "           6.95921378e-02+5.21918787e-02j,\n",
       "           3.25188365e-01+6.97835421e-02j,\n",
       "           2.50822676e-01+2.40750134e-02j,\n",
       "           2.11347288e-01-1.44352364e-03j,\n",
       "           4.29701237e-02-8.19102498e-02j,\n",
       "           1.38032077e-01-2.80669419e-02j,\n",
       "           8.23950145e-02+7.73430834e-02j,\n",
       "          -1.57975783e-01+4.64426248e-02j,\n",
       "          -2.31962756e-01-8.65996082e-02j,\n",
       "           1.72134226e-01-4.77377250e-02j,\n",
       "           1.85395751e-01-1.19428631e-02j,\n",
       "           3.92443865e-03-3.46372019e-02j,\n",
       "          -3.17737934e-01-2.40895693e-02j,\n",
       "          -4.90938696e-01-5.40723833e-02j],\n",
       "         [-2.39951204e-02+1.36601221e-02j,\n",
       "           1.00108208e-01-1.19092015e-01j,\n",
       "           2.36927845e-01+5.10886564e-02j,\n",
       "          -1.12817691e-01-3.72927637e-01j,\n",
       "          -2.74505805e-01+2.51355745e-01j,\n",
       "          -9.15351597e-02+2.44759811e-01j,\n",
       "           1.28200868e-01+2.77908840e-02j,\n",
       "           4.21629107e-01+4.43222101e-03j,\n",
       "           3.86028617e-02-4.04998634e-02j,\n",
       "          -1.42206177e-01-1.11398207e-01j,\n",
       "          -1.00919498e-01-3.54041133e-01j,\n",
       "           1.72132720e-02-1.48701131e-01j,\n",
       "          -1.50470300e-01-2.62685367e-01j,\n",
       "           2.63285130e-01-5.82581164e-02j,\n",
       "           5.89650933e-02+1.92361184e-02j,\n",
       "           2.76020944e-02-2.93562214e-04j],\n",
       "         [-3.65043961e-01-8.71123304e-02j,\n",
       "          -1.44816136e-01+1.34219635e-01j,\n",
       "           1.23747517e-01+1.43229365e-01j,\n",
       "          -1.09746149e-01-1.95621714e-01j,\n",
       "           9.87892332e-02-8.26449500e-02j,\n",
       "          -2.35311205e-02+2.15591605e-01j,\n",
       "          -1.31469043e-01+3.61542228e-01j,\n",
       "          -1.83849010e-01-1.10158169e-01j,\n",
       "           2.42594715e-01+8.31328129e-02j,\n",
       "           1.36099348e-01+7.88133332e-02j,\n",
       "          -2.36530043e-01+1.83009662e-01j,\n",
       "           2.16186245e-01+1.14266248e-01j,\n",
       "           1.52231144e-01+6.10362805e-03j,\n",
       "           2.22347329e-01+3.14267298e-02j,\n",
       "           4.02610597e-01-2.95605595e-02j,\n",
       "          -1.16072591e-02+9.63714539e-04j],\n",
       "         [-2.43607826e-01-8.92665957e-02j,\n",
       "           3.87103189e-02-1.26666358e-01j,\n",
       "          -3.03584084e-01+1.39120395e-02j,\n",
       "           1.27627750e-01+1.15811065e-01j,\n",
       "           1.25375072e-01-2.14915937e-01j,\n",
       "          -2.00489662e-01+5.32722446e-02j,\n",
       "           2.98360401e-01+1.43502481e-01j,\n",
       "          -5.45886657e-02-7.18233255e-02j,\n",
       "          -3.07834041e-01-1.79734484e-03j,\n",
       "           6.98442166e-02-3.00595644e-01j,\n",
       "          -1.31671410e-01-1.48955934e-01j,\n",
       "           7.97347106e-02-2.81628067e-01j,\n",
       "          -2.63237640e-01-3.68721906e-02j,\n",
       "          -2.12772125e-01-1.64304494e-01j,\n",
       "           2.93903897e-01+1.57522447e-01j,\n",
       "          -3.14714003e-02-9.52455774e-03j],\n",
       "         [-1.38992761e-02-2.21896940e-02j,\n",
       "           2.90529903e-02-2.22848790e-01j,\n",
       "           1.33259129e-01+4.98478076e-01j,\n",
       "          -5.77114337e-02-1.21841109e-01j,\n",
       "           8.42239529e-02+7.31674691e-02j,\n",
       "           1.79924872e-01-2.16755478e-01j,\n",
       "          -1.36872951e-01+1.51707787e-01j,\n",
       "           1.26877847e-01+2.85341583e-01j,\n",
       "          -2.47767283e-01-7.06537880e-02j,\n",
       "           3.11041390e-01-5.96738236e-02j,\n",
       "          -1.28112208e-01-5.01845622e-04j,\n",
       "          -2.21670505e-01+1.38955672e-01j,\n",
       "           4.91860122e-02+1.34702527e-01j,\n",
       "          -9.98240953e-02-3.75011275e-01j,\n",
       "          -1.82808427e-02-1.00940930e-01j,\n",
       "           9.26495351e-03+2.23222847e-03j],\n",
       "         [ 3.35320290e-01+1.76906785e-01j,\n",
       "          -1.25133355e-01-2.64986780e-01j,\n",
       "           1.12970139e-01-6.01838968e-03j,\n",
       "           2.27687150e-01+1.05239788e-01j,\n",
       "           7.51849103e-02+1.42353537e-01j,\n",
       "           6.31266021e-02+2.43452751e-01j,\n",
       "           1.98149427e-01+6.58756741e-02j,\n",
       "           5.48304457e-02-4.85878037e-02j,\n",
       "          -5.57378991e-02-1.51144811e-01j,\n",
       "           2.88062277e-01-2.23478902e-02j,\n",
       "           9.24758512e-02+1.47957133e-01j,\n",
       "          -8.23052857e-02+9.46516261e-02j,\n",
       "           6.09817443e-03+2.49523416e-02j,\n",
       "           1.31557656e-01+2.37504918e-01j,\n",
       "           2.45896889e-01+1.13165847e-01j,\n",
       "          -4.48287798e-01-2.28723958e-01j],\n",
       "         [ 1.71243672e-02+7.03326247e-03j,\n",
       "          -1.76196018e-01-3.75162353e-01j,\n",
       "          -2.38131656e-01-1.29920087e-01j,\n",
       "           1.40143928e-02+2.66290412e-01j,\n",
       "          -1.30327034e-01+1.01082546e-01j,\n",
       "           5.35213288e-02-1.10290582e-01j,\n",
       "           1.00906123e-02-2.94089033e-02j,\n",
       "          -1.09114779e-01+3.32344944e-01j,\n",
       "           3.22531159e-01+1.92837319e-01j,\n",
       "          -1.31663247e-01-2.41876161e-01j,\n",
       "          -3.02104147e-01+5.22199572e-02j,\n",
       "           5.29899599e-03+2.42268280e-01j,\n",
       "           4.12486439e-02-3.26392867e-01j,\n",
       "           1.35546929e-01-1.41686329e-01j,\n",
       "           2.88821787e-02+1.69903099e-02j,\n",
       "           3.90356762e-03-5.26903041e-03j],\n",
       "         [-5.52325809e-03-1.73299865e-02j,\n",
       "           4.62797131e-02-5.27084575e-02j,\n",
       "           3.84000615e-02+2.09290983e-01j,\n",
       "           9.13907081e-02-8.09702052e-02j,\n",
       "          -1.00407147e-01+2.33054182e-01j,\n",
       "          -2.39415138e-01-3.21605353e-01j,\n",
       "           3.65546384e-01-1.59146450e-01j,\n",
       "          -2.64602438e-01-3.40153681e-01j,\n",
       "           4.49295183e-01-1.16117045e-01j,\n",
       "           1.53314231e-01-6.28228388e-02j,\n",
       "           6.65488239e-02-1.95364465e-01j,\n",
       "           2.48475179e-02+8.33854202e-02j,\n",
       "           7.36664932e-02+1.95465126e-01j,\n",
       "          -5.34263318e-02-1.55873284e-01j,\n",
       "           1.74005915e-02-2.59460163e-02j,\n",
       "          -9.34433355e-04-4.28469687e-03j],\n",
       "         [-2.92063471e-01-7.42550627e-02j,\n",
       "           2.09049181e-03-3.25996964e-02j,\n",
       "          -1.41090612e-01-1.13693334e-01j,\n",
       "          -2.57150100e-01-5.55903103e-02j,\n",
       "          -3.59327668e-02+7.26239379e-02j,\n",
       "           1.34853438e-01-3.17074421e-01j,\n",
       "           2.74282398e-01-4.28058509e-02j,\n",
       "           1.89073505e-01+1.91295542e-01j,\n",
       "          -1.18686514e-01-3.10806248e-01j,\n",
       "          -2.59571773e-01+1.47138070e-02j,\n",
       "           4.11857959e-02+7.35398621e-02j,\n",
       "          -7.90461055e-02+9.94649965e-02j,\n",
       "           2.47119552e-01+2.74890977e-01j,\n",
       "           1.35087954e-01+2.43857568e-01j,\n",
       "           2.36729474e-01+2.42004907e-01j,\n",
       "          -2.94501586e-02+5.09272446e-03j],\n",
       "         [ 2.79922444e-02-2.40167854e-02j,\n",
       "          -1.63290367e-01-6.40387245e-02j,\n",
       "           3.61919526e-01-1.40472265e-01j,\n",
       "           1.49745470e-01+2.48807723e-01j,\n",
       "          -3.96706630e-01-1.23673041e-01j,\n",
       "           6.30371986e-02-1.82028149e-01j,\n",
       "          -8.40037710e-02-1.04001329e-01j,\n",
       "          -4.82675779e-02+1.41264209e-01j,\n",
       "          -1.12444521e-01-2.40684622e-02j,\n",
       "           9.40386701e-02+2.14560271e-01j,\n",
       "          -2.39226392e-01-1.53396937e-01j,\n",
       "           3.76729103e-01-2.01029329e-01j,\n",
       "          -1.18041141e-01+3.27878590e-01j,\n",
       "           1.15168625e-01-6.90717061e-02j,\n",
       "           1.05307581e-01+3.18264217e-02j,\n",
       "          -9.55941711e-03+4.86445712e-03j],\n",
       "         [ 3.30055078e-01+1.88867511e-01j,\n",
       "           9.56450989e-02+3.13061978e-01j,\n",
       "          -6.13628922e-02-1.72080755e-02j,\n",
       "          -2.16786669e-01-2.08989767e-01j,\n",
       "          -7.25143401e-02-1.22199401e-01j,\n",
       "          -2.94789650e-02-2.15754630e-01j,\n",
       "          -1.83228836e-01+2.32105916e-02j,\n",
       "          -8.43776763e-02+6.34557249e-02j,\n",
       "           5.06568435e-02+9.78673518e-02j,\n",
       "          -2.36956388e-01-5.39579910e-02j,\n",
       "          -5.91921435e-02-9.83707646e-02j,\n",
       "           3.30520688e-02-2.00534675e-02j,\n",
       "           2.70405512e-02-2.59171744e-02j,\n",
       "          -1.60824539e-01-2.55951834e-01j,\n",
       "           2.76000554e-01+1.55839050e-01j,\n",
       "          -4.19788633e-01-2.92047875e-01j]]))"
      ]
     },
     "execution_count": 12,
     "metadata": {},
     "output_type": "execute_result"
    }
   ],
   "source": [
    "np.linalg.eigh(reconstruction_identity)"
   ]
  },
  {
   "cell_type": "code",
   "execution_count": 75,
   "metadata": {
    "ExecuteTime": {
     "end_time": "2019-08-01T14:29:19.722829Z",
     "start_time": "2019-08-01T14:29:19.573912Z"
    }
   },
   "outputs": [
    {
     "name": "stderr",
     "output_type": "stream",
     "text": [
      "C:\\ProgramData\\Anaconda3\\lib\\site-packages\\ipykernel_launcher.py:16: ComplexWarning:\n",
      "\n",
      "Casting complex values to real discards the imaginary part\n",
      "\n"
     ]
    }
   ],
   "source": [
    "fidelities = np.zeros((51,51))\n",
    "\n",
    "for _id1, phi1 in enumerate(np.linspace(0, 2*np.pi, 51)):\n",
    "    for _id2, phi2 in enumerate(np.linspace(0, 2*np.pi, 51)):\n",
    "        U_iswap = np.asarray([[1, 0, 0, 0], \n",
    "                              [0, 0, 1j, 0], \n",
    "                              [0, 1j, 0, 0], \n",
    "                              [0, 0, 0, 1]])\n",
    "        phase = np.asarray([[1, 0,               0, 0], \n",
    "                            [0, exp(1j*phi1),    0, 0], \n",
    "                            [0, 0, np.exp(1j*phi2), 0], \n",
    "                            [0, 0, 0, np.exp(1j*(phi1+phi2))]])\n",
    "        \n",
    "        U2 = U_iswap@phase\n",
    "        X_iswap = np.reshape(np.einsum('ij,kl->ijkl',U2, np.conj(U2)), (16,16))\n",
    "        fidelities[_id1, _id2] = np.sum(np.conj(X_iswap)*reconstruction_iswap)/16"
   ]
  },
  {
   "cell_type": "code",
   "execution_count": 76,
   "metadata": {
    "ExecuteTime": {
     "end_time": "2019-08-01T14:29:20.245558Z",
     "start_time": "2019-08-01T14:29:19.806765Z"
    }
   },
   "outputs": [
    {
     "data": {
      "text/plain": [
       "<matplotlib.collections.QuadMesh at 0x1ae0ef37a20>"
      ]
     },
     "execution_count": 76,
     "metadata": {},
     "output_type": "execute_result"
    },
    {
     "data": {
      "image/png": "[encoded data removed]",
      "text/plain": [
       "<Figure size 432x288 with 4 Axes>"
      ]
     },
     "metadata": {},
     "output_type": "display_data"
    }
   ],
   "source": [
    "figs, axes = plt.subplots(2,2)\n",
    "axes[0,0].pcolormesh(np.real(X_iswap))\n",
    "axes[0,1].pcolormesh(np.imag(X_iswap))\n",
    "axes[1,0].pcolormesh(np.real(reconstruction_iswap))\n",
    "axes[1,1].pcolormesh(np.imag(reconstruction_iswap))"
   ]
  },
  {
   "cell_type": "code",
   "execution_count": 77,
   "metadata": {
    "ExecuteTime": {
     "end_time": "2019-08-01T14:29:21.975760Z",
     "start_time": "2019-08-01T14:29:21.791820Z"
    }
   },
   "outputs": [
    {
     "data": {
      "text/plain": [
       "0.6279602509165735"
      ]
     },
     "execution_count": 77,
     "metadata": {},
     "output_type": "execute_result"
    },
    {
     "data": {
      "image/png": "[encoded data removed]",
      "text/plain": [
       "<Figure size 432x288 with 1 Axes>"
      ]
     },
     "metadata": {},
     "output_type": "display_data"
    }
   ],
   "source": [
    "plt.pcolormesh(np.linspace(0, 2*np.pi, 51), np.linspace(0, 2*np.pi, 51), fidelities)\n",
    "np.max(fidelities)"
   ]
  },
  {
   "cell_type": "code",
   "execution_count": 65,
   "metadata": {
    "ExecuteTime": {
     "end_time": "2019-08-01T11:04:20.591391Z",
     "start_time": "2019-08-01T11:04:20.429468Z"
    }
   },
   "outputs": [
    {
     "data": {
      "text/plain": [
       "2.010619298297467"
      ]
     },
     "execution_count": 65,
     "metadata": {},
     "output_type": "execute_result"
    },
    {
     "data": {
      "image/png": "[encoded data removed]",
      "text/plain": [
       "<Figure size 432x288 with 1 Axes>"
      ]
     },
     "metadata": {},
     "output_type": "display_data"
    }
   ],
   "source": [
    "plt.plot(np.linspace(0, 2*np.pi, 51), fidelities[0,:])\n",
    "single_qubit_phase = 2*np.pi-np.linspace(0, 2*np.pi, 51)[np.argmax(fidelities[0,:])]\n",
    "single_qubit_phase"
   ]
  },
  {
   "cell_type": "code",
   "execution_count": 93,
   "metadata": {
    "ExecuteTime": {
     "end_time": "2019-07-30T13:48:31.443545Z",
     "start_time": "2019-07-30T13:48:31.324598Z"
    }
   },
   "outputs": [
    {
     "name": "stdout",
     "output_type": "stream",
     "text": [
      "Exdir_db.select_measurement_by_id: trying to load measurement state by id:  c:\\data\\2019-07-30\\008368-interleaved_bench-1906-001_1_down\n"
     ]
    },
    {
     "data": {
      "text/plain": [
       "dict_keys(['benchmarking', 'amplitudes', 'B', 'MSE_rel', 'decay'])"
      ]
     },
     "execution_count": 93,
     "metadata": {},
     "output_type": "execute_result"
    }
   ],
   "source": [
    "not1 = exdir_db_inst.select_measurement_by_id(8368)\n",
    "f1 = fit_benchmarking(0, not1)\n",
    "f1.datasets.keys()"
   ]
  },
  {
   "cell_type": "code",
   "execution_count": 92,
   "metadata": {
    "ExecuteTime": {
     "end_time": "2019-07-30T13:46:22.992802Z",
     "start_time": "2019-07-30T13:46:22.940807Z"
    }
   },
   "outputs": [
    {
     "data": {
      "text/plain": [
       "[<matplotlib.lines.Line2D at 0x23e8c8e4b38>,\n",
       " <matplotlib.lines.Line2D at 0x23e8c8e4c50>,\n",
       " <matplotlib.lines.Line2D at 0x23e8c8e4da0>,\n",
       " <matplotlib.lines.Line2D at 0x23e8c8e4ef0>]"
      ]
     },
     "execution_count": 92,
     "metadata": {},
     "output_type": "execute_result"
    }
   ],
   "source": [
    "%matplotlib qt5\n",
    "plt.plot(f1.datasets['benchmarking'])\n",
    "plt.plot(not1.datasets['benchmarking'].parameters[0].values, \n",
    "         not1.datasets['benchmarking'].data, marker='.', linestyle='')"
   ]
  },
  {
   "cell_type": "code",
   "execution_count": 43,
   "metadata": {
    "ExecuteTime": {
     "end_time": "2019-07-30T12:41:24.770790Z",
     "start_time": "2019-07-30T12:41:24.765793Z"
    }
   },
   "outputs": [
    {
     "data": {
      "text/plain": [
       "(0.9104569793637284,\n",
       " 0.8854542390230257,\n",
       " 0.8136820697234153,\n",
       " 0.8601896337870549)"
      ]
     },
     "execution_count": 43,
     "metadata": {},
     "output_type": "execute_result"
    }
   ],
   "source": [
    "np.exp(-1/10.66), np.exp(-1/8.22), np.exp(-1/4.85), np.exp(-1/6.64),"
   ]
  },
  {
   "cell_type": "code",
   "execution_count": 2,
   "metadata": {},
   "outputs": [],
   "source": [
    "import matplotlib.pyplot as plt"
   ]
  },
  {
   "cell_type": "code",
   "execution_count": 356,
   "metadata": {},
   "outputs": [],
   "source": [
    "S21_db=pd.read_csv('C:/Users/cryopxi/Documents/Alexey/T350mK-dB.csv',header=0,sep=',')"
   ]
  },
  {
   "cell_type": "code",
   "execution_count": 357,
   "metadata": {},
   "outputs": [
    {
     "data": {
      "text/html": [
       "<div>\n",
       "<style scoped>\n",
       "    .dataframe tbody tr th:only-of-type {\n",
       "        vertical-align: middle;\n",
       "    }\n",
       "\n",
       "    .dataframe tbody tr th {\n",
       "        vertical-align: top;\n",
       "    }\n",
       "\n",
       "    .dataframe thead th {\n",
       "        text-align: right;\n",
       "    }\n",
       "</style>\n",
       "<table border=\"1\" class=\"dataframe\">\n",
       "  <thead>\n",
       "    <tr style=\"text-align: right;\">\n",
       "      <th></th>\n",
       "      <th>Unnamed: 0</th>\n",
       "      <th>-60.0</th>\n",
       "      <th>-59.5</th>\n",
       "      <th>-59.0</th>\n",
       "      <th>-58.5</th>\n",
       "      <th>-58.0</th>\n",
       "      <th>-57.5</th>\n",
       "      <th>-57.0</th>\n",
       "      <th>-56.5</th>\n",
       "      <th>-56.0</th>\n",
       "      <th>...</th>\n",
       "      <th>0.0</th>\n",
       "      <th>0.5</th>\n",
       "      <th>1.0</th>\n",
       "      <th>1.5</th>\n",
       "      <th>2.0</th>\n",
       "      <th>2.5</th>\n",
       "      <th>3.0</th>\n",
       "      <th>3.5</th>\n",
       "      <th>4.0</th>\n",
       "      <th>4.5</th>\n",
       "    </tr>\n",
       "  </thead>\n",
       "  <tbody>\n",
       "    <tr>\n",
       "      <th>0</th>\n",
       "      <td>1.475350e+09</td>\n",
       "      <td>-4.141314</td>\n",
       "      <td>-4.150199</td>\n",
       "      <td>-4.100302</td>\n",
       "      <td>-4.131956</td>\n",
       "      <td>-4.107885</td>\n",
       "      <td>-4.138743</td>\n",
       "      <td>-4.136789</td>\n",
       "      <td>-4.110069</td>\n",
       "      <td>-4.119885</td>\n",
       "      <td>...</td>\n",
       "      <td>-3.990452</td>\n",
       "      <td>-3.987117</td>\n",
       "      <td>-3.989778</td>\n",
       "      <td>-3.983573</td>\n",
       "      <td>-3.981575</td>\n",
       "      <td>-3.975222</td>\n",
       "      <td>-3.970959</td>\n",
       "      <td>-3.972336</td>\n",
       "      <td>-3.986016</td>\n",
       "      <td>-4.006751</td>\n",
       "    </tr>\n",
       "    <tr>\n",
       "      <th>1</th>\n",
       "      <td>1.475351e+09</td>\n",
       "      <td>-4.107295</td>\n",
       "      <td>-4.133722</td>\n",
       "      <td>-4.133008</td>\n",
       "      <td>-4.102297</td>\n",
       "      <td>-4.104403</td>\n",
       "      <td>-4.074554</td>\n",
       "      <td>-4.131653</td>\n",
       "      <td>-4.124686</td>\n",
       "      <td>-4.117754</td>\n",
       "      <td>...</td>\n",
       "      <td>-3.990873</td>\n",
       "      <td>-3.987290</td>\n",
       "      <td>-3.990987</td>\n",
       "      <td>-3.982324</td>\n",
       "      <td>-3.982060</td>\n",
       "      <td>-3.975276</td>\n",
       "      <td>-3.972544</td>\n",
       "      <td>-3.974082</td>\n",
       "      <td>-3.988110</td>\n",
       "      <td>-4.008600</td>\n",
       "    </tr>\n",
       "    <tr>\n",
       "      <th>2</th>\n",
       "      <td>1.475351e+09</td>\n",
       "      <td>-4.108090</td>\n",
       "      <td>-4.097599</td>\n",
       "      <td>-4.122558</td>\n",
       "      <td>-4.094787</td>\n",
       "      <td>-4.096755</td>\n",
       "      <td>-4.133977</td>\n",
       "      <td>-4.114245</td>\n",
       "      <td>-4.115191</td>\n",
       "      <td>-4.124657</td>\n",
       "      <td>...</td>\n",
       "      <td>-3.992962</td>\n",
       "      <td>-3.987666</td>\n",
       "      <td>-3.992166</td>\n",
       "      <td>-3.984175</td>\n",
       "      <td>-3.982966</td>\n",
       "      <td>-3.977313</td>\n",
       "      <td>-3.975995</td>\n",
       "      <td>-3.978060</td>\n",
       "      <td>-3.989762</td>\n",
       "      <td>-4.011448</td>\n",
       "    </tr>\n",
       "    <tr>\n",
       "      <th>3</th>\n",
       "      <td>1.475352e+09</td>\n",
       "      <td>-4.102435</td>\n",
       "      <td>-4.104186</td>\n",
       "      <td>-4.119375</td>\n",
       "      <td>-4.145919</td>\n",
       "      <td>-4.092731</td>\n",
       "      <td>-4.123652</td>\n",
       "      <td>-4.098336</td>\n",
       "      <td>-4.111449</td>\n",
       "      <td>-4.106250</td>\n",
       "      <td>...</td>\n",
       "      <td>-3.992146</td>\n",
       "      <td>-3.989351</td>\n",
       "      <td>-3.994678</td>\n",
       "      <td>-3.986169</td>\n",
       "      <td>-3.982569</td>\n",
       "      <td>-3.980092</td>\n",
       "      <td>-3.977627</td>\n",
       "      <td>-3.982259</td>\n",
       "      <td>-3.993972</td>\n",
       "      <td>-4.017115</td>\n",
       "    </tr>\n",
       "    <tr>\n",
       "      <th>4</th>\n",
       "      <td>1.475352e+09</td>\n",
       "      <td>-4.137374</td>\n",
       "      <td>-4.061649</td>\n",
       "      <td>-4.152146</td>\n",
       "      <td>-4.125488</td>\n",
       "      <td>-4.123318</td>\n",
       "      <td>-4.137721</td>\n",
       "      <td>-4.067144</td>\n",
       "      <td>-4.114753</td>\n",
       "      <td>-4.135278</td>\n",
       "      <td>...</td>\n",
       "      <td>-3.994508</td>\n",
       "      <td>-3.990281</td>\n",
       "      <td>-3.994564</td>\n",
       "      <td>-3.987684</td>\n",
       "      <td>-3.985898</td>\n",
       "      <td>-3.979697</td>\n",
       "      <td>-3.979569</td>\n",
       "      <td>-3.982617</td>\n",
       "      <td>-3.996594</td>\n",
       "      <td>-4.017408</td>\n",
       "    </tr>\n",
       "  </tbody>\n",
       "</table>\n",
       "<p>5 rows × 131 columns</p>\n",
       "</div>"
      ],
      "text/plain": [
       "     Unnamed: 0     -60.0     -59.5     -59.0     -58.5     -58.0     -57.5  \\\n",
       "0  1.475350e+09 -4.141314 -4.150199 -4.100302 -4.131956 -4.107885 -4.138743   \n",
       "1  1.475351e+09 -4.107295 -4.133722 -4.133008 -4.102297 -4.104403 -4.074554   \n",
       "2  1.475351e+09 -4.108090 -4.097599 -4.122558 -4.094787 -4.096755 -4.133977   \n",
       "3  1.475352e+09 -4.102435 -4.104186 -4.119375 -4.145919 -4.092731 -4.123652   \n",
       "4  1.475352e+09 -4.137374 -4.061649 -4.152146 -4.125488 -4.123318 -4.137721   \n",
       "\n",
       "      -57.0     -56.5     -56.0    ...          0.0       0.5       1.0  \\\n",
       "0 -4.136789 -4.110069 -4.119885    ...    -3.990452 -3.987117 -3.989778   \n",
       "1 -4.131653 -4.124686 -4.117754    ...    -3.990873 -3.987290 -3.990987   \n",
       "2 -4.114245 -4.115191 -4.124657    ...    -3.992962 -3.987666 -3.992166   \n",
       "3 -4.098336 -4.111449 -4.106250    ...    -3.992146 -3.989351 -3.994678   \n",
       "4 -4.067144 -4.114753 -4.135278    ...    -3.994508 -3.990281 -3.994564   \n",
       "\n",
       "        1.5       2.0       2.5       3.0       3.5       4.0       4.5  \n",
       "0 -3.983573 -3.981575 -3.975222 -3.970959 -3.972336 -3.986016 -4.006751  \n",
       "1 -3.982324 -3.982060 -3.975276 -3.972544 -3.974082 -3.988110 -4.008600  \n",
       "2 -3.984175 -3.982966 -3.977313 -3.975995 -3.978060 -3.989762 -4.011448  \n",
       "3 -3.986169 -3.982569 -3.980092 -3.977627 -3.982259 -3.993972 -4.017115  \n",
       "4 -3.987684 -3.985898 -3.979697 -3.979569 -3.982617 -3.996594 -4.017408  \n",
       "\n",
       "[5 rows x 131 columns]"
      ]
     },
     "execution_count": 357,
     "metadata": {},
     "output_type": "execute_result"
    }
   ],
   "source": [
    "S21_db.head(5)"
   ]
  },
  {
   "cell_type": "code",
   "execution_count": 359,
   "metadata": {},
   "outputs": [
    {
     "name": "stdout",
     "output_type": "stream",
     "text": [
      "130\n"
     ]
    },
    {
     "data": {
      "image/png": "[encoded data removed]",
      "text/plain": [
       "<Figure size 1440x1440 with 1 Axes>"
      ]
     },
     "metadata": {},
     "output_type": "display_data"
    }
   ],
   "source": [
    "powers = np.arange(-60, 5, 0.5)\n",
    "plt.figure(figsize=(20,20))\n",
    "a=len(powers)\n",
    "print(a)\n",
    "for i in range (100,120,1):\n",
    "    \n",
    "    frequencies = S21_db.iloc[:,:1]\n",
    "    s21=S21_db.iloc[:,i+1:i+2]\n",
    "    plt.plot(frequencies,s21)\n",
    "    plt.legend(powers[i:],prop={'size':15})"
   ]
  },
  {
   "cell_type": "code",
   "execution_count": null,
   "metadata": {},
   "outputs": [],
   "source": []
  },
  {
   "cell_type": "code",
   "execution_count": null,
   "metadata": {},
   "outputs": [],
   "source": []
  },
  {
   "cell_type": "code",
   "execution_count": 56,
   "metadata": {},
   "outputs": [],
   "source": [
    "plt.figure()\n",
    "plt.plot()"
   ]
  },
  {
   "cell_type": "code",
   "execution_count": 336,
   "metadata": {},
   "outputs": [
    {
     "name": "stdout",
     "output_type": "stream",
     "text": [
      "-59.5   -3.830661\n",
      "dtype: float64\n",
      "-59.5   -17.250895\n",
      "dtype: float64\n",
      "-59.5    13.420234\n",
      "dtype: float64\n"
     ]
    }
   ],
   "source": [
    "r=S21_db.iloc[0:,2:3]\n",
    "a=np.min(r)\n",
    "b=np.max(r)\n",
    "c=b-a\n",
    "print(b)\n",
    "print(a)\n",
    "print(c)"
   ]
  },
  {
   "cell_type": "code",
   "execution_count": 361,
   "metadata": {},
   "outputs": [
    {
     "name": "stdout",
     "output_type": "stream",
     "text": [
      "130\n"
     ]
    },
    {
     "ename": "AttributeError",
     "evalue": "'DataFrame' object has no attribute 'split'",
     "output_type": "error",
     "traceback": [
      "\u001b[1;31m---------------------------------------------------------------------------\u001b[0m",
      "\u001b[1;31mAttributeError\u001b[0m                            Traceback (most recent call last)",
      "\u001b[1;32m<ipython-input-361-2bee774bc670>\u001b[0m in \u001b[0;36m<module>\u001b[1;34m()\u001b[0m\n\u001b[0;32m      5\u001b[0m \u001b[1;32mfor\u001b[0m \u001b[0mi\u001b[0m \u001b[1;32min\u001b[0m \u001b[0mrange\u001b[0m \u001b[1;33m(\u001b[0m\u001b[1;36m0\u001b[0m\u001b[1;33m,\u001b[0m\u001b[0mm\u001b[0m\u001b[1;33m)\u001b[0m\u001b[1;33m:\u001b[0m\u001b[1;33m\u001b[0m\u001b[0m\n\u001b[0;32m      6\u001b[0m     \u001b[0mq\u001b[0m\u001b[1;33m=\u001b[0m\u001b[0mS21_db\u001b[0m\u001b[1;33m.\u001b[0m\u001b[0miloc\u001b[0m\u001b[1;33m[\u001b[0m\u001b[1;33m:\u001b[0m\u001b[1;33m,\u001b[0m\u001b[0mi\u001b[0m\u001b[1;33m+\u001b[0m\u001b[1;36m1\u001b[0m\u001b[1;33m:\u001b[0m\u001b[0mi\u001b[0m\u001b[1;33m+\u001b[0m\u001b[1;36m2\u001b[0m\u001b[1;33m]\u001b[0m\u001b[1;33m\u001b[0m\u001b[0m\n\u001b[1;32m----> 7\u001b[1;33m     \u001b[0mlst\u001b[0m\u001b[1;33m=\u001b[0m\u001b[0mq\u001b[0m\u001b[1;33m.\u001b[0m\u001b[0msplit\u001b[0m\u001b[1;33m(\u001b[0m\u001b[1;33m)\u001b[0m\u001b[1;33m\u001b[0m\u001b[0m\n\u001b[0m\u001b[0;32m      8\u001b[0m     \u001b[0ma\u001b[0m\u001b[1;33m=\u001b[0m\u001b[0mnp\u001b[0m\u001b[1;33m.\u001b[0m\u001b[0mmin\u001b[0m\u001b[1;33m(\u001b[0m\u001b[0mlst\u001b[0m\u001b[1;33m)\u001b[0m\u001b[1;33m\u001b[0m\u001b[0m\n\u001b[0;32m      9\u001b[0m     \u001b[0mb\u001b[0m\u001b[1;33m=\u001b[0m\u001b[0mnp\u001b[0m\u001b[1;33m.\u001b[0m\u001b[0mmax\u001b[0m\u001b[1;33m(\u001b[0m\u001b[0mlst\u001b[0m\u001b[1;33m)\u001b[0m\u001b[1;33m\u001b[0m\u001b[0m\n",
      "\u001b[1;32mC:\\ProgramData\\Anaconda3\\lib\\site-packages\\pandas\\core\\generic.py\u001b[0m in \u001b[0;36m__getattr__\u001b[1;34m(self, name)\u001b[0m\n\u001b[0;32m   4370\u001b[0m             \u001b[1;32mif\u001b[0m \u001b[0mself\u001b[0m\u001b[1;33m.\u001b[0m\u001b[0m_info_axis\u001b[0m\u001b[1;33m.\u001b[0m\u001b[0m_can_hold_identifiers_and_holds_name\u001b[0m\u001b[1;33m(\u001b[0m\u001b[0mname\u001b[0m\u001b[1;33m)\u001b[0m\u001b[1;33m:\u001b[0m\u001b[1;33m\u001b[0m\u001b[0m\n\u001b[0;32m   4371\u001b[0m                 \u001b[1;32mreturn\u001b[0m \u001b[0mself\u001b[0m\u001b[1;33m[\u001b[0m\u001b[0mname\u001b[0m\u001b[1;33m]\u001b[0m\u001b[1;33m\u001b[0m\u001b[0m\n\u001b[1;32m-> 4372\u001b[1;33m             \u001b[1;32mreturn\u001b[0m \u001b[0mobject\u001b[0m\u001b[1;33m.\u001b[0m\u001b[0m__getattribute__\u001b[0m\u001b[1;33m(\u001b[0m\u001b[0mself\u001b[0m\u001b[1;33m,\u001b[0m \u001b[0mname\u001b[0m\u001b[1;33m)\u001b[0m\u001b[1;33m\u001b[0m\u001b[0m\n\u001b[0m\u001b[0;32m   4373\u001b[0m \u001b[1;33m\u001b[0m\u001b[0m\n\u001b[0;32m   4374\u001b[0m     \u001b[1;32mdef\u001b[0m \u001b[0m__setattr__\u001b[0m\u001b[1;33m(\u001b[0m\u001b[0mself\u001b[0m\u001b[1;33m,\u001b[0m \u001b[0mname\u001b[0m\u001b[1;33m,\u001b[0m \u001b[0mvalue\u001b[0m\u001b[1;33m)\u001b[0m\u001b[1;33m:\u001b[0m\u001b[1;33m\u001b[0m\u001b[0m\n",
      "\u001b[1;31mAttributeError\u001b[0m: 'DataFrame' object has no attribute 'split'"
     ]
    }
   ],
   "source": [
    "powers = np.arange(-60, 5, 0.5)\n",
    "m=len(powers)\n",
    "quality=[]\n",
    "print(m)\n",
    "for i in range (0,m):\n",
    "    q=S21_db.iloc[:,i+1:i+2]\n",
    "    lst=q.split()\n",
    "    a=np.min(lst)\n",
    "    b=np.max(lst)\n",
    "    c=a-b\n",
    "    quality.append(c)\n",
    "    plt.plot(powers[i],quality[i])\n",
    "print(quality)"
   ]
  },
  {
   "cell_type": "code",
   "execution_count": 104,
   "metadata": {},
   "outputs": [],
   "source": [
    "b=min(S21_db.iloc[:,i+1:i+2])\n",
    "b1=float(b)"
   ]
  },
  {
   "cell_type": "code",
   "execution_count": 114,
   "metadata": {},
   "outputs": [
    {
     "name": "stdout",
     "output_type": "stream",
     "text": [
      "-4.206386994618009\n"
     ]
    }
   ],
   "source": [
    "print(b1)"
   ]
  },
  {
   "cell_type": "code",
   "execution_count": 119,
   "metadata": {},
   "outputs": [
    {
     "data": {
      "text/plain": [
       "-0.20638699461800858"
      ]
     },
     "execution_count": 119,
     "metadata": {},
     "output_type": "execute_result"
    }
   ],
   "source": []
  },
  {
   "cell_type": "code",
   "execution_count": 240,
   "metadata": {},
   "outputs": [
    {
     "name": "stdout",
     "output_type": "stream",
     "text": [
      "-0.4\n"
     ]
    }
   ],
   "source": []
  },
  {
   "cell_type": "code",
   "execution_count": null,
   "metadata": {},
   "outputs": [],
   "source": []
  }
 ],
 "metadata": {
  "kernelspec": {
   "display_name": "Python 3",
   "language": "python",
   "name": "python3"
  },
  "language_info": {
   "codemirror_mode": {
    "name": "ipython",
    "version": 3
   },
   "file_extension": ".py",
   "mimetype": "text/x-python",
   "name": "python",
   "nbconvert_exporter": "python",
   "pygments_lexer": "ipython3",
   "version": "3.6.5"
  },
  "toc": {
   "base_numbering": 1,
   "nav_menu": {},
   "number_sections": true,
   "sideBar": true,
   "skip_h1_title": false,
   "title_cell": "Table of Contents",
   "title_sidebar": "Contents",
   "toc_cell": false,
   "toc_position": {},
   "toc_section_display": true,
   "toc_window_display": false
  }
 },
 "nbformat": 4,
 "nbformat_minor": 2
}
