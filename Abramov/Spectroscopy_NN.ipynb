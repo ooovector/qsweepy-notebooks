{
 "cells": [
  {
   "cell_type": "markdown",
   "metadata": {},
   "source": [
    "### Запуск QtLab"
   ]
  },
  {
   "cell_type": "code",
   "execution_count": 1,
   "metadata": {
    "scrolled": true
   },
   "outputs": [
    {
     "name": "stderr",
     "output_type": "stream",
     "text": [
      "root: WARNING  Unable to load config file.\n"
     ]
    },
    {
     "name": "stdout",
     "output_type": "stream",
     "text": [
      "Failed loading module Signal_Hound_SA:  [WinError 126] The specified module could not be found\n",
      "Using matplotlib backend: TkAgg\n"
     ]
    }
   ],
   "source": [
    "%run D:\\qtlab_replacement\\init.py\n",
    "    \n",
    "import matplotlib.pyplot as plt\n",
    "from instruments import *\n",
    "import numpy as np\n",
    "import sweep\n",
    "from save_pkl import *\n",
    "%matplotlib"
   ]
  },
  {
   "cell_type": "code",
   "execution_count": 6,
   "metadata": {},
   "outputs": [
    {
     "name": "stdout",
     "output_type": "stream",
     "text": [
      "Using matplotlib backend: TkAgg\n"
     ]
    }
   ],
   "source": [
    "%matplotlib"
   ]
  },
  {
   "cell_type": "code",
   "execution_count": 2,
   "metadata": {},
   "outputs": [],
   "source": [
    "pna = Agilent_N5242A('pna', address = 'PNA')\n",
    "lo1 = Agilent_E8257D('lo1', address = 'PSG1')\n",
    "current = Yokogawa_GS210(address='GPIB0::2::INSTR')"
   ]
  },
  {
   "cell_type": "markdown",
   "metadata": {},
   "source": [
    "# Поиск резонаторов"
   ]
  },
  {
   "cell_type": "code",
   "execution_count": 3,
   "metadata": {},
   "outputs": [],
   "source": [
    "#Параметры кубитов.\n",
    "Qubits = {1: {'F': 6.87549e9,'F01': 7.4178e9,'I0': 0,'Ispan': 1.6e-3,'P': -63,'Pex': -16,'Span':25e6}}\n",
    "#Qubits = {1: {'F': 3.175e9,'F01': 0.,'I0': 12.5e-5,'Ispan': 400e-6,'P': -40,'Pex': 18,'Span': 50e9}}\n",
    "#Qubits = {1: {'F': 3.176453e9,'F01': 0.,'I0': 6.7e-5,'Ispan': 200e-6,'P': -40,'Pex': -5,'Span': 40e6}}\n",
    "#Qubits = {1: {'F': 7.603e9,'F01': 8.11962e9,'I0': 35.2e-6,'Ispan': 0.,'P': -65,'Pex': -18.,'Span': 20e6}}"
   ]
  },
  {
   "cell_type": "code",
   "execution_count": 3,
   "metadata": {},
   "outputs": [
    {
     "data": {
      "text/plain": [
       "True"
      ]
     },
     "execution_count": 3,
     "metadata": {},
     "output_type": "execute_result"
    }
   ],
   "source": [
    "lo1.set_power(16)"
   ]
  },
  {
   "cell_type": "code",
   "execution_count": null,
   "metadata": {},
   "outputs": [],
   "source": [
    "#pna.set_timeout(30000)"
   ]
  },
  {
   "cell_type": "code",
   "execution_count": 4,
   "metadata": {},
   "outputs": [
    {
     "data": {
      "text/plain": [
       "True"
      ]
     },
     "execution_count": 4,
     "metadata": {},
     "output_type": "execute_result"
    }
   ],
   "source": [
    "import imp\n",
    "import save_pkl\n",
    "imp.reload(save_pkl)\n",
    "pna.set_xlim(9.4315e9, 9.4315e9)\n",
    "pna.set_nop(1)\n",
    "pna.set_bandwidth(10)\n",
    "lo1.set_power(0)\n",
    "pna.set_power(-55)\n"
   ]
  },
  {
   "cell_type": "code",
   "execution_count": 12,
   "metadata": {},
   "outputs": [
    {
     "name": "stdout",
     "output_type": "stream",
     "text": [
      "Started at:  Oct 18 2017 11:23:01\n"
     ]
    },
    {
     "name": "stderr",
     "output_type": "stream",
     "text": [
      "c:\\python36\\lib\\site-packages\\matplotlib\\backend_bases.py:2445: MatplotlibDeprecationWarning: Using default event loop until function specific to this GUI is implemented\n",
      "  warnings.warn(str, mplDeprecation)\n"
     ]
    },
    {
     "name": "stdout",
     "output_type": "stream",
     "text": [
      "Time left: 0 h 0 m 0.0 s,\tparameter values: Power:     10,\tPump_frequency: 6.4e+09,\taverage cycle time: 0.58s\t8s\t\t\t\n",
      "Elapsed time: 0 h 53 m 20.85 s\n"
     ]
    },
    {
     "data": {
      "text/plain": [
       "{'S-parameter': (('Power', 'Pump_frequency'),\n",
       "  (array([-20., -17., -14., -11.,  -8.,  -5.,  -2.,   1.,   4.,   7.,  10.]),\n",
       "   array([  5.40000000e+09,   5.40200000e+09,   5.40400000e+09,\n",
       "            5.40600000e+09,   5.40800000e+09,   5.41000000e+09,\n",
       "            5.41200000e+09,   5.41400000e+09,   5.41600000e+09,\n",
       "            5.41800000e+09,   5.42000000e+09,   5.42200000e+09,\n",
       "            5.42400000e+09,   5.42600000e+09,   5.42800000e+09,\n",
       "            5.43000000e+09,   5.43200000e+09,   5.43400000e+09,\n",
       "            5.43600000e+09,   5.43800000e+09,   5.44000000e+09,\n",
       "            5.44200000e+09,   5.44400000e+09,   5.44600000e+09,\n",
       "            5.44800000e+09,   5.45000000e+09,   5.45200000e+09,\n",
       "            5.45400000e+09,   5.45600000e+09,   5.45800000e+09,\n",
       "            5.46000000e+09,   5.46200000e+09,   5.46400000e+09,\n",
       "            5.46600000e+09,   5.46800000e+09,   5.47000000e+09,\n",
       "            5.47200000e+09,   5.47400000e+09,   5.47600000e+09,\n",
       "            5.47800000e+09,   5.48000000e+09,   5.48200000e+09,\n",
       "            5.48400000e+09,   5.48600000e+09,   5.48800000e+09,\n",
       "            5.49000000e+09,   5.49200000e+09,   5.49400000e+09,\n",
       "            5.49600000e+09,   5.49800000e+09,   5.50000000e+09,\n",
       "            5.50200000e+09,   5.50400000e+09,   5.50600000e+09,\n",
       "            5.50800000e+09,   5.51000000e+09,   5.51200000e+09,\n",
       "            5.51400000e+09,   5.51600000e+09,   5.51800000e+09,\n",
       "            5.52000000e+09,   5.52200000e+09,   5.52400000e+09,\n",
       "            5.52600000e+09,   5.52800000e+09,   5.53000000e+09,\n",
       "            5.53200000e+09,   5.53400000e+09,   5.53600000e+09,\n",
       "            5.53800000e+09,   5.54000000e+09,   5.54200000e+09,\n",
       "            5.54400000e+09,   5.54600000e+09,   5.54800000e+09,\n",
       "            5.55000000e+09,   5.55200000e+09,   5.55400000e+09,\n",
       "            5.55600000e+09,   5.55800000e+09,   5.56000000e+09,\n",
       "            5.56200000e+09,   5.56400000e+09,   5.56600000e+09,\n",
       "            5.56800000e+09,   5.57000000e+09,   5.57200000e+09,\n",
       "            5.57400000e+09,   5.57600000e+09,   5.57800000e+09,\n",
       "            5.58000000e+09,   5.58200000e+09,   5.58400000e+09,\n",
       "            5.58600000e+09,   5.58800000e+09,   5.59000000e+09,\n",
       "            5.59200000e+09,   5.59400000e+09,   5.59600000e+09,\n",
       "            5.59800000e+09,   5.60000000e+09,   5.60200000e+09,\n",
       "            5.60400000e+09,   5.60600000e+09,   5.60800000e+09,\n",
       "            5.61000000e+09,   5.61200000e+09,   5.61400000e+09,\n",
       "            5.61600000e+09,   5.61800000e+09,   5.62000000e+09,\n",
       "            5.62200000e+09,   5.62400000e+09,   5.62600000e+09,\n",
       "            5.62800000e+09,   5.63000000e+09,   5.63200000e+09,\n",
       "            5.63400000e+09,   5.63600000e+09,   5.63800000e+09,\n",
       "            5.64000000e+09,   5.64200000e+09,   5.64400000e+09,\n",
       "            5.64600000e+09,   5.64800000e+09,   5.65000000e+09,\n",
       "            5.65200000e+09,   5.65400000e+09,   5.65600000e+09,\n",
       "            5.65800000e+09,   5.66000000e+09,   5.66200000e+09,\n",
       "            5.66400000e+09,   5.66600000e+09,   5.66800000e+09,\n",
       "            5.67000000e+09,   5.67200000e+09,   5.67400000e+09,\n",
       "            5.67600000e+09,   5.67800000e+09,   5.68000000e+09,\n",
       "            5.68200000e+09,   5.68400000e+09,   5.68600000e+09,\n",
       "            5.68800000e+09,   5.69000000e+09,   5.69200000e+09,\n",
       "            5.69400000e+09,   5.69600000e+09,   5.69800000e+09,\n",
       "            5.70000000e+09,   5.70200000e+09,   5.70400000e+09,\n",
       "            5.70600000e+09,   5.70800000e+09,   5.71000000e+09,\n",
       "            5.71200000e+09,   5.71400000e+09,   5.71600000e+09,\n",
       "            5.71800000e+09,   5.72000000e+09,   5.72200000e+09,\n",
       "            5.72400000e+09,   5.72600000e+09,   5.72800000e+09,\n",
       "            5.73000000e+09,   5.73200000e+09,   5.73400000e+09,\n",
       "            5.73600000e+09,   5.73800000e+09,   5.74000000e+09,\n",
       "            5.74200000e+09,   5.74400000e+09,   5.74600000e+09,\n",
       "            5.74800000e+09,   5.75000000e+09,   5.75200000e+09,\n",
       "            5.75400000e+09,   5.75600000e+09,   5.75800000e+09,\n",
       "            5.76000000e+09,   5.76200000e+09,   5.76400000e+09,\n",
       "            5.76600000e+09,   5.76800000e+09,   5.77000000e+09,\n",
       "            5.77200000e+09,   5.77400000e+09,   5.77600000e+09,\n",
       "            5.77800000e+09,   5.78000000e+09,   5.78200000e+09,\n",
       "            5.78400000e+09,   5.78600000e+09,   5.78800000e+09,\n",
       "            5.79000000e+09,   5.79200000e+09,   5.79400000e+09,\n",
       "            5.79600000e+09,   5.79800000e+09,   5.80000000e+09,\n",
       "            5.80200000e+09,   5.80400000e+09,   5.80600000e+09,\n",
       "            5.80800000e+09,   5.81000000e+09,   5.81200000e+09,\n",
       "            5.81400000e+09,   5.81600000e+09,   5.81800000e+09,\n",
       "            5.82000000e+09,   5.82200000e+09,   5.82400000e+09,\n",
       "            5.82600000e+09,   5.82800000e+09,   5.83000000e+09,\n",
       "            5.83200000e+09,   5.83400000e+09,   5.83600000e+09,\n",
       "            5.83800000e+09,   5.84000000e+09,   5.84200000e+09,\n",
       "            5.84400000e+09,   5.84600000e+09,   5.84800000e+09,\n",
       "            5.85000000e+09,   5.85200000e+09,   5.85400000e+09,\n",
       "            5.85600000e+09,   5.85800000e+09,   5.86000000e+09,\n",
       "            5.86200000e+09,   5.86400000e+09,   5.86600000e+09,\n",
       "            5.86800000e+09,   5.87000000e+09,   5.87200000e+09,\n",
       "            5.87400000e+09,   5.87600000e+09,   5.87800000e+09,\n",
       "            5.88000000e+09,   5.88200000e+09,   5.88400000e+09,\n",
       "            5.88600000e+09,   5.88800000e+09,   5.89000000e+09,\n",
       "            5.89200000e+09,   5.89400000e+09,   5.89600000e+09,\n",
       "            5.89800000e+09,   5.90000000e+09,   5.90200000e+09,\n",
       "            5.90400000e+09,   5.90600000e+09,   5.90800000e+09,\n",
       "            5.91000000e+09,   5.91200000e+09,   5.91400000e+09,\n",
       "            5.91600000e+09,   5.91800000e+09,   5.92000000e+09,\n",
       "            5.92200000e+09,   5.92400000e+09,   5.92600000e+09,\n",
       "            5.92800000e+09,   5.93000000e+09,   5.93200000e+09,\n",
       "            5.93400000e+09,   5.93600000e+09,   5.93800000e+09,\n",
       "            5.94000000e+09,   5.94200000e+09,   5.94400000e+09,\n",
       "            5.94600000e+09,   5.94800000e+09,   5.95000000e+09,\n",
       "            5.95200000e+09,   5.95400000e+09,   5.95600000e+09,\n",
       "            5.95800000e+09,   5.96000000e+09,   5.96200000e+09,\n",
       "            5.96400000e+09,   5.96600000e+09,   5.96800000e+09,\n",
       "            5.97000000e+09,   5.97200000e+09,   5.97400000e+09,\n",
       "            5.97600000e+09,   5.97800000e+09,   5.98000000e+09,\n",
       "            5.98200000e+09,   5.98400000e+09,   5.98600000e+09,\n",
       "            5.98800000e+09,   5.99000000e+09,   5.99200000e+09,\n",
       "            5.99400000e+09,   5.99600000e+09,   5.99800000e+09,\n",
       "            6.00000000e+09,   6.00200000e+09,   6.00400000e+09,\n",
       "            6.00600000e+09,   6.00800000e+09,   6.01000000e+09,\n",
       "            6.01200000e+09,   6.01400000e+09,   6.01600000e+09,\n",
       "            6.01800000e+09,   6.02000000e+09,   6.02200000e+09,\n",
       "            6.02400000e+09,   6.02600000e+09,   6.02800000e+09,\n",
       "            6.03000000e+09,   6.03200000e+09,   6.03400000e+09,\n",
       "            6.03600000e+09,   6.03800000e+09,   6.04000000e+09,\n",
       "            6.04200000e+09,   6.04400000e+09,   6.04600000e+09,\n",
       "            6.04800000e+09,   6.05000000e+09,   6.05200000e+09,\n",
       "            6.05400000e+09,   6.05600000e+09,   6.05800000e+09,\n",
       "            6.06000000e+09,   6.06200000e+09,   6.06400000e+09,\n",
       "            6.06600000e+09,   6.06800000e+09,   6.07000000e+09,\n",
       "            6.07200000e+09,   6.07400000e+09,   6.07600000e+09,\n",
       "            6.07800000e+09,   6.08000000e+09,   6.08200000e+09,\n",
       "            6.08400000e+09,   6.08600000e+09,   6.08800000e+09,\n",
       "            6.09000000e+09,   6.09200000e+09,   6.09400000e+09,\n",
       "            6.09600000e+09,   6.09800000e+09,   6.10000000e+09,\n",
       "            6.10200000e+09,   6.10400000e+09,   6.10600000e+09,\n",
       "            6.10800000e+09,   6.11000000e+09,   6.11200000e+09,\n",
       "            6.11400000e+09,   6.11600000e+09,   6.11800000e+09,\n",
       "            6.12000000e+09,   6.12200000e+09,   6.12400000e+09,\n",
       "            6.12600000e+09,   6.12800000e+09,   6.13000000e+09,\n",
       "            6.13200000e+09,   6.13400000e+09,   6.13600000e+09,\n",
       "            6.13800000e+09,   6.14000000e+09,   6.14200000e+09,\n",
       "            6.14400000e+09,   6.14600000e+09,   6.14800000e+09,\n",
       "            6.15000000e+09,   6.15200000e+09,   6.15400000e+09,\n",
       "            6.15600000e+09,   6.15800000e+09,   6.16000000e+09,\n",
       "            6.16200000e+09,   6.16400000e+09,   6.16600000e+09,\n",
       "            6.16800000e+09,   6.17000000e+09,   6.17200000e+09,\n",
       "            6.17400000e+09,   6.17600000e+09,   6.17800000e+09,\n",
       "            6.18000000e+09,   6.18200000e+09,   6.18400000e+09,\n",
       "            6.18600000e+09,   6.18800000e+09,   6.19000000e+09,\n",
       "            6.19200000e+09,   6.19400000e+09,   6.19600000e+09,\n",
       "            6.19800000e+09,   6.20000000e+09,   6.20200000e+09,\n",
       "            6.20400000e+09,   6.20600000e+09,   6.20800000e+09,\n",
       "            6.21000000e+09,   6.21200000e+09,   6.21400000e+09,\n",
       "            6.21600000e+09,   6.21800000e+09,   6.22000000e+09,\n",
       "            6.22200000e+09,   6.22400000e+09,   6.22600000e+09,\n",
       "            6.22800000e+09,   6.23000000e+09,   6.23200000e+09,\n",
       "            6.23400000e+09,   6.23600000e+09,   6.23800000e+09,\n",
       "            6.24000000e+09,   6.24200000e+09,   6.24400000e+09,\n",
       "            6.24600000e+09,   6.24800000e+09,   6.25000000e+09,\n",
       "            6.25200000e+09,   6.25400000e+09,   6.25600000e+09,\n",
       "            6.25800000e+09,   6.26000000e+09,   6.26200000e+09,\n",
       "            6.26400000e+09,   6.26600000e+09,   6.26800000e+09,\n",
       "            6.27000000e+09,   6.27200000e+09,   6.27400000e+09,\n",
       "            6.27600000e+09,   6.27800000e+09,   6.28000000e+09,\n",
       "            6.28200000e+09,   6.28400000e+09,   6.28600000e+09,\n",
       "            6.28800000e+09,   6.29000000e+09,   6.29200000e+09,\n",
       "            6.29400000e+09,   6.29600000e+09,   6.29800000e+09,\n",
       "            6.30000000e+09,   6.30200000e+09,   6.30400000e+09,\n",
       "            6.30600000e+09,   6.30800000e+09,   6.31000000e+09,\n",
       "            6.31200000e+09,   6.31400000e+09,   6.31600000e+09,\n",
       "            6.31800000e+09,   6.32000000e+09,   6.32200000e+09,\n",
       "            6.32400000e+09,   6.32600000e+09,   6.32800000e+09,\n",
       "            6.33000000e+09,   6.33200000e+09,   6.33400000e+09,\n",
       "            6.33600000e+09,   6.33800000e+09,   6.34000000e+09,\n",
       "            6.34200000e+09,   6.34400000e+09,   6.34600000e+09,\n",
       "            6.34800000e+09,   6.35000000e+09,   6.35200000e+09,\n",
       "            6.35400000e+09,   6.35600000e+09,   6.35800000e+09,\n",
       "            6.36000000e+09,   6.36200000e+09,   6.36400000e+09,\n",
       "            6.36600000e+09,   6.36800000e+09,   6.37000000e+09,\n",
       "            6.37200000e+09,   6.37400000e+09,   6.37600000e+09,\n",
       "            6.37800000e+09,   6.38000000e+09,   6.38200000e+09,\n",
       "            6.38400000e+09,   6.38600000e+09,   6.38800000e+09,\n",
       "            6.39000000e+09,   6.39200000e+09,   6.39400000e+09,\n",
       "            6.39600000e+09,   6.39800000e+09,   6.40000000e+09])),\n",
       "  array([[ 0.00251666-0.00476609j,  0.00203817-0.00478436j,\n",
       "           0.00260943-0.00441624j, ...,  0.00257983-0.00447069j,\n",
       "           0.00346386-0.00445475j,  0.00279037-0.00323459j],\n",
       "         [ 0.00328220-0.00457812j,  0.00319928-0.0045143j ,\n",
       "           0.00278602-0.00472026j, ...,  0.00383673-0.00421043j,\n",
       "           0.00249162-0.00463123j,  0.00262386-0.00442747j],\n",
       "         [ 0.00294989-0.00456079j,  0.00285323-0.0036409j ,\n",
       "           0.00335711-0.00451467j, ...,  0.00338190-0.00448531j,\n",
       "           0.00274167-0.00432527j,  0.00243537-0.00431583j],\n",
       "         ..., \n",
       "         [ 0.00271524-0.004631j  ,  0.00274231-0.00416804j,\n",
       "           0.00319075-0.00444228j, ...,  0.00300405-0.00439283j,\n",
       "           0.00219932-0.00402175j,  0.00263538-0.0045824j ],\n",
       "         [ 0.00254001-0.00522183j,  0.00291712-0.0051073j ,\n",
       "           0.00256030-0.00442405j, ...,  0.00311216-0.00406188j,\n",
       "           0.00341259-0.00458276j,  0.00248775-0.00399457j],\n",
       "         [ 0.00340941-0.00461877j,  0.00335302-0.00409159j,\n",
       "           0.00245607-0.00416707j, ...,  0.00265668-0.00465905j,\n",
       "           0.00223734-0.00491012j,  0.00340698-0.00503901j]]),\n",
       "  {'log': 20})}"
      ]
     },
     "execution_count": 12,
     "metadata": {},
     "output_type": "execute_result"
    }
   ],
   "source": [
    "arr=np.linspace(5.4e9,6.4e9,501)\n",
    "lo1.set_status(1)\n",
    "arrpower=np.linspace(-20, 10, 11)\n",
    "\n",
    "sweep.sweep(pna, (arrpower, lo1.set_power, 'Power'), (arr, lo1.set_frequency, 'Pump_frequency'), filename='2nd tone spectroscopy2')\n"
   ]
  },
  {
   "cell_type": "code",
   "execution_count": 6,
   "metadata": {},
   "outputs": [
    {
     "name": "stdout",
     "output_type": "stream",
     "text": [
      "Using matplotlib backend: TkAgg\n"
     ]
    }
   ],
   "source": [
    "%matplotlib"
   ]
  },
  {
   "cell_type": "code",
   "execution_count": 93,
   "metadata": {},
   "outputs": [
    {
     "data": {
      "text/plain": [
       "[<matplotlib.lines.Line2D at 0x1b4a3376198>]"
      ]
     },
     "execution_count": 93,
     "metadata": {},
     "output_type": "execute_result"
    }
   ],
   "source": [
    "\n",
    "ind =1\n",
    "\n",
    "lo1.set_status(0)\n",
    "\n",
    "pna.set_sweep_mode(\"LIN\")\n",
    "pna.set_nop(200)\n",
    "pna.set_centerfreq(Qubits[ind]['F'])\n",
    "pna.set_span(Qubits[ind]['Span'])\n",
    "pna.set_bandwidth(10)\n",
    "pna.set_power(-64)\n",
    "pna.set_average(0)\n",
    "pna.set_averages (1)\n",
    "try:\n",
    "    #pass\n",
    "    current.set_status(1)\n",
    "    #current.set_autorange(1)\n",
    "    current.set_current(Qubits[ind]['I0'])\n",
    "except:\n",
    "    print (\"no current\")\n",
    "    pass\n",
    "\n",
    "#pna.set_timeout()\n",
    "\n",
    "res_data = pna.measure()[\"S-parameter\"]\n",
    "res_freqs = pna.get_freqpoints()\n",
    "\n",
    "plt.figure(\"S21_amp\")\n",
    "plt.plot(res_freqs, abs(res_data))\n",
    "plt.figure(\"S21_ph\")\n",
    "plt.plot(res_freqs[1:], np.diff(np.unwrap(np.angle(res_data))))\n"
   ]
  },
  {
   "cell_type": "code",
   "execution_count": 19,
   "metadata": {},
   "outputs": [
    {
     "ename": "FileNotFoundError",
     "evalue": "[Errno 2] No such file or directory: 'save_pkl.py'",
     "output_type": "error",
     "traceback": [
      "\u001b[1;31m---------------------------------------------------------------------------\u001b[0m",
      "\u001b[1;31mFileNotFoundError\u001b[0m                         Traceback (most recent call last)",
      "\u001b[1;32m<ipython-input-19-ebcaabfa239e>\u001b[0m in \u001b[0;36m<module>\u001b[1;34m()\u001b[0m\n\u001b[0;32m      1\u001b[0m \u001b[1;31m#Save\u001b[0m\u001b[1;33m\u001b[0m\u001b[1;33m\u001b[0m\u001b[0m\n\u001b[1;32m----> 2\u001b[1;33m \u001b[0mexec\u001b[0m\u001b[1;33m(\u001b[0m\u001b[0mopen\u001b[0m\u001b[1;33m(\u001b[0m\u001b[1;34m'save_pkl.py'\u001b[0m\u001b[1;33m)\u001b[0m\u001b[1;33m.\u001b[0m\u001b[0mread\u001b[0m\u001b[1;33m(\u001b[0m\u001b[1;33m)\u001b[0m\u001b[1;33m)\u001b[0m\u001b[1;33m\u001b[0m\u001b[0m\n\u001b[0m\u001b[0;32m      3\u001b[0m \u001b[0msave_pkl_noplt\u001b[0m\u001b[1;33m(\u001b[0m\u001b[1;34m'res_pna_-30_250K'\u001b[0m\u001b[1;33m,\u001b[0m \u001b[1;33m{\u001b[0m\u001b[1;34m\"Amp\"\u001b[0m\u001b[1;33m:\u001b[0m \u001b[0mres_data\u001b[0m\u001b[1;33m[\u001b[0m\u001b[1;36m0\u001b[0m\u001b[1;33m]\u001b[0m \u001b[1;33m,\u001b[0m \u001b[1;34m\"Ph\"\u001b[0m\u001b[1;33m:\u001b[0m \u001b[0mres_data\u001b[0m\u001b[1;33m[\u001b[0m\u001b[1;36m1\u001b[0m\u001b[1;33m]\u001b[0m\u001b[1;33m,\u001b[0m \u001b[1;34m\"freqs\"\u001b[0m\u001b[1;33m:\u001b[0m \u001b[0mres_freqs\u001b[0m \u001b[1;33m}\u001b[0m \u001b[1;33m)\u001b[0m\u001b[1;33m\u001b[0m\u001b[0m\n",
      "\u001b[1;31mFileNotFoundError\u001b[0m: [Errno 2] No such file or directory: 'save_pkl.py'"
     ]
    }
   ],
   "source": [
    "#Save\n",
    "exec(open('save_pkl.py').read())\n",
    "save_pkl_noplt('res_pna_-30_250K', {\"Amp\": res_data[0] , \"Ph\": res_data[1], \"freqs\": res_freqs } )"
   ]
  },
  {
   "cell_type": "markdown",
   "metadata": {},
   "source": [
    "# Plotting"
   ]
  },
  {
   "cell_type": "code",
   "execution_count": null,
   "metadata": {
    "collapsed": true
   },
   "outputs": [],
   "source": [
    "res_data_ref = res_data"
   ]
  },
  {
   "cell_type": "code",
   "execution_count": null,
   "metadata": {
    "collapsed": true
   },
   "outputs": [],
   "source": [
    "plt.figure()\n",
    "plt.plot(res_freqs, res_data[0] - res_data_ref[0])"
   ]
  },
  {
   "cell_type": "code",
   "execution_count": null,
   "metadata": {
    "collapsed": true
   },
   "outputs": [],
   "source": [
    "import pickle\n",
    "infiles = ['C:/qtlab/ReiData/data/Apr 03 2017/res_pna_-30.pkl','C:/qtlab/ReiData/data/Apr 04 2017/res_pna_-30_250K.pkl']\n",
    "for infile in infiles:\n",
    "    with open(infile) as f:\n",
    "        data = pickle.load(f)\n",
    "        plt.figure('Amp')\n",
    "        plt.plot(data['freqs'], np.log10(data['Amp'])*20, label=infile)\n",
    "        plt.figure('Ph')\n",
    "        plt.plot(data['freqs'], data['Ph'], label=infile)\n",
    "plt.figure('Amp')\n",
    "plt.legend()\n",
    "plt.figure('Ph')\n",
    "plt.legend()"
   ]
  },
  {
   "cell_type": "markdown",
   "metadata": {},
   "source": [
    "# Одномерный скан по полю"
   ]
  },
  {
   "cell_type": "code",
   "execution_count": null,
   "metadata": {
    "collapsed": true
   },
   "outputs": [],
   "source": [
    "#q_to_meas = Qubits.keys()\n",
    "#Померить не все\n",
    "q_to_meas = [1,]\n",
    "#Шаг по втотрому тону\n",
    "useIspan = False\n",
    "cur_step = 0.5e-6\n",
    "current.set_current(-240e-6)\n",
    "#currents = np.linspace(-3e-4, -1e-4, 100)\n",
    "\n",
    "pna.set_nop(200)\n",
    "#header= \"#Parameter = current\"\n",
    "lo1.set_status(0)\n",
    "current.set_status(1)\n",
    "#current.set_autorange(1)\n",
    "pna.set_bandwidth(500)\n",
    "#root_dir = dm.mk_dir()\n",
    "\n",
    "for q_id in q_to_meas:\n",
    "    if useIspan:\n",
    "        pna.set_power(Qubits[q_id]['P'])\n",
    "        Ipoints = np.arange( -Qubits[q_id]['Ispan']/2., Qubits[q_id]['Ispan']/2., cur_step)\n",
    "        currents = Ipoints + Qubits[q_id]['I0']\n",
    "    pna.set_nop(1)\n",
    "    pna.set_centerfreq(Qubits[q_id]['F'])\n",
    " #   end_dir = root_dir+\"{:d}/\".format(q_id)\n",
    " #   dm.mk_dir(end_dir)\n",
    "    try:\n",
    "        sweep.sweep(pna, (currents, current.set_current, 'Coil current'),\n",
    "            filename='Acouston_Isw_p_-30_1')\n",
    "    except KeyboardInterrupt: break"
   ]
  },
  {
   "cell_type": "code",
   "execution_count": null,
   "metadata": {
    "collapsed": true
   },
   "outputs": [],
   "source": [
    "    try:\n",
    "        sweep.sweep(pna, (currents, current.set_current, 'Coil current'),\n",
    "            filename='Acouston_Isw_p_-30_1')\n",
    "    except KeyboardInterrupt: break"
   ]
  },
  {
   "cell_type": "code",
   "execution_count": null,
   "metadata": {
    "collapsed": true
   },
   "outputs": [],
   "source": [
    "# current.set_current(0)"
   ]
  },
  {
   "cell_type": "code",
   "execution_count": null,
   "metadata": {
    "collapsed": true
   },
   "outputs": [],
   "source": [
    "(2.4e-4-1.06e-4)/2."
   ]
  },
  {
   "cell_type": "markdown",
   "metadata": {},
   "source": [
    "# Двумерный скан по полю"
   ]
  },
  {
   "cell_type": "code",
   "execution_count": 31,
   "metadata": {
    "scrolled": true
   },
   "outputs": [
    {
     "name": "stdout",
     "output_type": "stream",
     "text": [
      "Started at:  May 17 2017 15:49:50\n"
     ]
    },
    {
     "name": "stderr",
     "output_type": "stream",
     "text": [
      "c:\\python36\\lib\\site-packages\\matplotlib\\backend_bases.py:2445: MatplotlibDeprecationWarning: Using default event loop until function specific to this GUI is implemented\n",
      "  warnings.warn(str, mplDeprecation)\n"
     ]
    },
    {
     "name": "stdout",
     "output_type": "stream",
     "text": [
      "Time left: 0 h 0 m 0.0 s,\tparameter values: Coil current: 5.4e-05,\taverage cycle time:  7.8s\t8s\t\t\t\n",
      "Elapsed time: 0 h 52 m 21.42 s\n"
     ]
    }
   ],
   "source": [
    "#q_to_meas = Qubits.keys()\n",
    "#Померить не все\n",
    "q_to_meas = [ 1,]\n",
    "currents = np.linspace(3.7e-5, 5.4e-5, 401)\n",
    "#currents = np.linspace(-5.2e-5, -4.2e-5, 201) - anticri\n",
    "#currents = np.linspace( -1e-3, 1e-3, 300)\n",
    "#powers = np.linspace( -30, 15, 9)\n",
    "\n",
    "current.set_status(1)\n",
    "#current.set_autorange(1)\n",
    "\n",
    "pna.set_nop(401)\n",
    "pna.set_bandwidth(40)\n",
    "\n",
    "lo1.set_status(0)\n",
    "\n",
    "try:\n",
    "    for q_id in q_to_meas:\n",
    "        pna.set_power(Qubits[q_id]['P'])\n",
    "        pna.set_centerfreq(Qubits[q_id]['F'])\n",
    "        pna.set_span(Qubits[q_id]['Span'])\n",
    "        sweep.sweep(pna, (currents, current.set_current, 'Coil current'), filename = \"anticrossing_p_{:.1f}dBm\".format(pna.get_power()))\n",
    "except KeyboardInterrupt:\n",
    "    pass\n",
    "\n"
   ]
  },
  {
   "cell_type": "code",
   "execution_count": 73,
   "metadata": {},
   "outputs": [
    {
     "data": {
      "text/plain": [
       "True"
      ]
     },
     "execution_count": 73,
     "metadata": {},
     "output_type": "execute_result"
    }
   ],
   "source": [
    "#Кубиты\n",
    "q_id = 1\n",
    "\n",
    "cur_step = 0.05e-3\n",
    "Ipoints = np.arange( -Qubits[q_id]['Ispan']/2., Qubits[q_id]['Ispan']/2., cur_step)\n",
    "currents = Ipoints + Qubits[q_id]['I0']\n",
    "#currents = np.linspace( 0.5e-3, 2e-3, 20)\n",
    "\n",
    "lo1.set_status(0)\n",
    "#current.set_autorange(1)\n",
    "\n",
    "pna.set_bandwidth(10)\n",
    "pna.set_average(0)\n",
    "pna.set_averages(1)\n",
    "\n",
    "pna.set_nop(300)\n",
    "pna.set_power(Qubits[q_id]['P'])\n",
    "pna.set_centerfreq(Qubits[q_id]['F'])\n",
    "pna.set_span(Qubits[q_id]['Span'])\n",
    "current.set_status(1)"
   ]
  },
  {
   "cell_type": "code",
   "execution_count": 74,
   "metadata": {},
   "outputs": [
    {
     "name": "stdout",
     "output_type": "stream",
     "text": [
      "Started at:  Jun 27 2018 15:29:43\n",
      "Time left: 0 h 14 m 30.6 s,\tparameter values: Coil current: -0.00075,\taverage cycle time:   27s\t\t"
     ]
    }
   ],
   "source": [
    "#Измерение\n",
    "try:\n",
    "    anti2D = sweep.sweep(pna, (currents, current.set_current, 'Coil current'), filename = \"anticrossing\")\n",
    "except KeyboardInterrupt:  pass"
   ]
  },
  {
   "cell_type": "code",
   "execution_count": null,
   "metadata": {
    "collapsed": true
   },
   "outputs": [],
   "source": [
    "#Просто скан\n",
    "currents = np.linspace( -50e-6, 50e-6, 200)\n",
    "lo1.set_status(0)\n",
    "current.set_autorange(1)\n",
    "\n",
    "pna.set_bandwidth(100)\n",
    "pna.set_average(0)\n",
    "pna.set_averages(1)\n",
    "\n",
    "pna.set_nop(1000)\n",
    "current.set_status(1)"
   ]
  },
  {
   "cell_type": "code",
   "execution_count": null,
   "metadata": {
    "collapsed": true
   },
   "outputs": [],
   "source": [
    "#Измерение\n",
    "try:\n",
    "    anti2D = ps.S21vsPar(pna, currents, current.set_current, filename = \"all_2\" )\n",
    "except KeyboardInterrupt:  pass"
   ]
  },
  {
   "cell_type": "code",
   "execution_count": null,
   "metadata": {
    "collapsed": true
   },
   "outputs": [],
   "source": [
    "#Зависимость частоты от тока\n",
    "FvsI = dm.load_pkl(\"#3_FvsI\")"
   ]
  },
  {
   "cell_type": "code",
   "execution_count": null,
   "metadata": {
    "collapsed": true
   },
   "outputs": [],
   "source": [
    "anti2D = dm.load_measurement('C:/qtlab/ReiData/data/Nov 16 2016/14-59-53/3/#3')"
   ]
  },
  {
   "cell_type": "code",
   "execution_count": null,
   "metadata": {
    "collapsed": true
   },
   "outputs": [],
   "source": [
    "FvsI= np.vstack(( anti2D.get_data()[0], np.zeros( len(anti2D.get_data()[0] ) )))\n",
    "for i in range(0, len(anti2D.get_data()[0]) ):\n",
    "    FvsI[1][i] = anti2D.get_data()[1][np.argmin(anti2D.get_data()[2][i])]"
   ]
  },
  {
   "cell_type": "code",
   "execution_count": null,
   "metadata": {
    "collapsed": true
   },
   "outputs": [],
   "source": [
    "plt.figure(\"fr\")\n",
    "plt.plot(FvsI[0],FvsI[1])"
   ]
  },
  {
   "cell_type": "code",
   "execution_count": null,
   "metadata": {
    "collapsed": true
   },
   "outputs": [],
   "source": [
    "dm.save_pkl_noplt(\"#5_FvsI\",FvsI)"
   ]
  },
  {
   "cell_type": "markdown",
   "metadata": {},
   "source": [
    "# Одномерный скан по второму тону"
   ]
  },
  {
   "cell_type": "code",
   "execution_count": 113,
   "metadata": {},
   "outputs": [
    {
     "data": {
      "text/plain": [
       "True"
      ]
     },
     "execution_count": 113,
     "metadata": {},
     "output_type": "execute_result"
    }
   ],
   "source": [
    "#Кубит\n",
    "q_id = 1\n",
    "\n",
    "pna.set_average(0)\n",
    "pna.set_averages(1)\n",
    "pna.set_power(Qubits[q_id]['P'])\n",
    "pna.set_centerfreq(Qubits[q_id]['F'])\n",
    "pna.set_nop(1)\n",
    "pna.set_bandwidth(4)\n",
    "lo1.set_power(Qubits[q_id]['Pex'])\n",
    "lo1.set_status(1)"
   ]
  },
  {
   "cell_type": "code",
   "execution_count": 103,
   "metadata": {},
   "outputs": [
    {
     "data": {
      "text/plain": [
       "True"
      ]
     },
     "execution_count": 103,
     "metadata": {},
     "output_type": "execute_result"
    }
   ],
   "source": [
    "#current.set_autorange(1)\n",
    "current.set_current(Qubits[q_id]['I0'])\n",
    "#current.set_status(0)"
   ]
  },
  {
   "cell_type": "code",
   "execution_count": null,
   "metadata": {
    "collapsed": true
   },
   "outputs": [],
   "source": [
    "pna.set_power (-30)\n",
    "lo1.set_power (10)\n",
    "current.set_current(150e-6)"
   ]
  },
  {
   "cell_type": "code",
   "execution_count": 114,
   "metadata": {
    "scrolled": true
   },
   "outputs": [
    {
     "name": "stdout",
     "output_type": "stream",
     "text": [
      "Started at:  Jun 27 2018 18:04:42\n",
      "Time left: 0 h 2 m 7.98 s,\tparameter values: Second tone freq: 7.336e+09,\taverage cycle time: 0.71s\t\t"
     ]
    }
   ],
   "source": [
    "#Измерение\n",
    "#ex_freqs = np.arange(6.9e9, 8.5e9, 1e6)\n",
    "#ex_freqs = np.arange(3.155e9, 3.2e9, 5e6)\n",
    "ex_span = 200e6\n",
    "ex_freqs = Qubits[q_id]['F01'] + np.arange(-ex_span/2, ex_span/2 , 1e6)\n",
    "lo1.set_status(1)\n",
    "\n",
    "#Current = {:e}'''.format( lo1.get_power(), current.get_current() )\n",
    "try:\n",
    "    ex1D = sweep.sweep(pna, (ex_freqs, lo1.set_frequency, 'Second tone freq'), filename = \"ex_{:.1f}dBm\".format(lo1.get_power()))\n",
    "except KeyboardInterrupt: pass "
   ]
  },
  {
   "cell_type": "code",
   "execution_count": null,
   "metadata": {
    "collapsed": true
   },
   "outputs": [],
   "source": [
    "import plotting\n",
    "import imp\n",
    "imp.reload(plotting)\n",
    "imp.reload(sweep)"
   ]
  },
  {
   "cell_type": "code",
   "execution_count": null,
   "metadata": {
    "collapsed": true
   },
   "outputs": [],
   "source": [
    "plot1 = plotting.plot_measurement(ex2D)"
   ]
  },
  {
   "cell_type": "code",
   "execution_count": null,
   "metadata": {
    "collapsed": true
   },
   "outputs": [],
   "source": [
    "plot[0].set_data([1,4,5,7], [0,8,9,0])"
   ]
  },
  {
   "cell_type": "code",
   "execution_count": 54,
   "metadata": {},
   "outputs": [
    {
     "data": {
      "text/plain": [
       "[<matplotlib.lines.Line2D at 0x1b49fbef908>]"
      ]
     },
     "execution_count": 54,
     "metadata": {},
     "output_type": "execute_result"
    }
   ],
   "source": [
    "plt.figure('tmp_ph')\n",
    "plt.plot(ex1D['S-parameter'][1][0], np.unwrap(np.angle(ex1D['S-parameter'][2])))\n",
    "plt.figure('tmp_amp')\n",
    "plt.plot(ex1D['S-parameter'][1][0], np.abs(ex1D['S-parameter'][2]))"
   ]
  },
  {
   "cell_type": "code",
   "execution_count": 51,
   "metadata": {},
   "outputs": [
    {
     "data": {
      "text/plain": [
       "array([6.900e+09, 6.902e+09, 6.904e+09, ..., 9.994e+09, 9.996e+09,\n",
       "       9.998e+09])"
      ]
     },
     "execution_count": 51,
     "metadata": {},
     "output_type": "execute_result"
    }
   ],
   "source": [
    "ex1D['S-parameter'][1][0]"
   ]
  },
  {
   "cell_type": "code",
   "execution_count": 49,
   "metadata": {},
   "outputs": [
    {
     "data": {
      "text/plain": [
       "array([-0.01077321-0.00210645j, -0.01081618-0.00286108j,\n",
       "       -0.0118543 -0.00354977j, ..., -0.01076568-0.00283347j,\n",
       "       -0.01098552-0.00190718j, -0.01132578-0.0034249 j])"
      ]
     },
     "execution_count": 49,
     "metadata": {},
     "output_type": "execute_result"
    }
   ],
   "source": [
    "ex1D['S-parameter'][2]"
   ]
  },
  {
   "cell_type": "markdown",
   "metadata": {},
   "source": [
    "# Двухтоновая спектроскопия"
   ]
  },
  {
   "cell_type": "code",
   "execution_count": null,
   "metadata": {
    "collapsed": true
   },
   "outputs": [],
   "source": [
    "pna.set_power(-10)\n",
    "pna.set_nop(1)\n",
    "pna.set_centerfreq(3.175e9)\n",
    "#pna.set_centerfreq(3.176453e9)\n",
    "#pna.set_centerfreq(7.6017351e9)\n",
    "pna.set_bandwidth(200)"
   ]
  },
  {
   "cell_type": "code",
   "execution_count": null,
   "metadata": {
    "collapsed": true
   },
   "outputs": [],
   "source": [
    "current.set_current(150e-6)"
   ]
  },
  {
   "cell_type": "code",
   "execution_count": null,
   "metadata": {
    "collapsed": true
   },
   "outputs": [],
   "source": [
    "ex_freqs = np.arange(3.5e9, 4e9, 3e6)"
   ]
  },
  {
   "cell_type": "code",
   "execution_count": null,
   "metadata": {
    "collapsed": true,
    "scrolled": true
   },
   "outputs": [],
   "source": [
    "currents = np.arange( -54e-5, -52e-5, 1.5e-7)\n",
    "#currents = np.arange( -50e-6, 350e-6, 30e-6)\n",
    "#exc power\n",
    "lo1.set_power(15)\n",
    "#first tone power\n",
    "pna.set_power(-10)\n",
    "pna.set_bandwidth(5)\n",
    "lo1.set_status(1)\n",
    "sweep.sweep(pna, (currents, current.set_current, 'Coil current'), (ex_freqs, lo1.set_frequency, 'Exitation Frequency'),\n",
    "            filename='Acouston_2_2tone_spectrum_-10dB_exc_15')\n",
    "lo1.set_status(0)"
   ]
  },
  {
   "cell_type": "code",
   "execution_count": null,
   "metadata": {
    "collapsed": true
   },
   "outputs": [],
   "source": [
    "current.set_current(-209e-6)"
   ]
  },
  {
   "cell_type": "code",
   "execution_count": null,
   "metadata": {
    "collapsed": true
   },
   "outputs": [],
   "source": [
    "ex_freqs = np.arange(4.15e9, 4.5e9, 2e6)\n",
    "ex_powers = np.arange(0, 18, 0.5)\n",
    "\n",
    "pna.set_power(-20)\n",
    "pna.set_bandwidth(3)\n",
    "pna.set_average(1)\n",
    "#pna.set_averages(2)\n",
    "#lo1.set_power(-20)\n",
    "\n",
    "#header = '''#Parameter =\n",
    "#Ro power = {:f}'''.format( pna.get_power() )\n",
    "\n",
    "lo1.set_status(1)\n",
    "#ps.S21vs2DPar(pna, currents, current.set_current, ex_freqs, lo1.set_frequency, filename = \"#2{:.1f}dBm\".format(lo1.get_power()),\\\n",
    "#           header = header)\n",
    "#ex2D = sweep.sweep(pna, (ex_powers, lo1.set_power, 'Second tone power'), (ex_freqs, lo1.set_frequency, 'Second tone freq'), filename = \"#2{:.1f}dBm\".format(pna.get_power()),\\\n",
    "           #header = header)\n",
    "ex2D = sweep.sweep(pna, (ex_powers, lo1.set_power, 'Second tone power'), (ex_freqs, lo1.set_frequency, 'Second tone freq'), filename = \"#2{:.1f}dBm\".format(pna.get_power()))\n",
    "lo1.set_status(0)"
   ]
  },
  {
   "cell_type": "code",
   "execution_count": null,
   "metadata": {
    "collapsed": true
   },
   "outputs": [],
   "source": [
    "plotting.plot_measurement(ex2D)"
   ]
  },
  {
   "cell_type": "code",
   "execution_count": null,
   "metadata": {
    "collapsed": true
   },
   "outputs": [],
   "source": [
    "plt.figure(figsize=(8,6))\n",
    "plt.pcolormesh(ex2D.get_data()[3].T); plt.colorbar()"
   ]
  },
  {
   "cell_type": "code",
   "execution_count": null,
   "metadata": {
    "collapsed": true
   },
   "outputs": [],
   "source": [
    "plt.pcolormesh(ex2D.get_data()[4].T); plt.colorbar()"
   ]
  },
  {
   "cell_type": "code",
   "execution_count": null,
   "metadata": {
    "collapsed": true
   },
   "outputs": [],
   "source": [
    "ex_freqs = np.arange(3e9, 5e9, 0.5e9)\n"
   ]
  },
  {
   "cell_type": "code",
   "execution_count": 7,
   "metadata": {},
   "outputs": [],
   "source": [
    "def current_setter(I):\n",
    "    current.set_current(I)\n",
    "    \n",
    "    pna.set_sweep_mode(\"LIN\")\n",
    "    pna.set_nop(300)\n",
    "    pna.set_centerfreq(Qubits[q_id]['F'])\n",
    "    pna.set_span(Qubits[q_id]['Span'])\n",
    "    pna.set_bandwidth(10)\n",
    "    pna.set_power(Qubits[q_id]['P'])\n",
    "    \n",
    "    res_data = pna.measure()[\"S-parameter\"]\n",
    "    res_freqs = pna.get_freqpoints()\n",
    "    center =  res_freqs[np.argmin(abs(res_data))]\n",
    "    pna.set_nop(1)  \n",
    "    pna.set_centerfreq( res_freqs[np.argmin(abs(res_data))] )\n",
    "    pna.set_bandwidth(4)"
   ]
  },
  {
   "cell_type": "code",
   "execution_count": 88,
   "metadata": {},
   "outputs": [
    {
     "name": "stdout",
     "output_type": "stream",
     "text": [
      "6875332408.026756\n"
     ]
    }
   ],
   "source": [
    "current_setter(0)"
   ]
  },
  {
   "cell_type": "code",
   "execution_count": 8,
   "metadata": {},
   "outputs": [
    {
     "name": "stdout",
     "output_type": "stream",
     "text": [
      "Started at:  Jun 27 2018 19:04:49\n",
      "Time left: 0 h 0 m 0.0 s,\tparameter values: Coil current: 0.000775,\tExitation Frequency: 7.467e+09,\taverage cycle time: 0.52s\t\t\t\t\t\t\n",
      "Elapsed time: 5 h 16 m 38.92 s\n"
     ]
    }
   ],
   "source": [
    "#Померить все\n",
    "#q_to_meas = Qubits.keys()\n",
    "#Померить не все\n",
    "q_to_meas = [1,]\n",
    "#Шаг по втотрому тону\n",
    "Fex_step = 1e6\n",
    "Fex_offset = 50e6\n",
    "Fex_start = 6.9e9\n",
    "\n",
    "cur_step = 0.025e-3\n",
    "#ex_freqs = np.arange(3e9, 3.35e9, 10e6)\n",
    "#currents = np.arange( -0.9e-3, 0.9e-3, cur_step)\n",
    "\n",
    "pna.set_nop(1)\n",
    "pna.set_bandwidth(4)\n",
    "\n",
    "current.set_current(0.)\n",
    "current.set_status(1)\n",
    "#current.set_autorange(1)\n",
    "\n",
    "lo1.set_status(1)\n",
    "\n",
    "#pna.set_timeout()\n",
    "\n",
    "\n",
    "#root_dir = dm.mk_dir()\n",
    "\n",
    "try:\n",
    "    for q_id in q_to_meas:\n",
    "        #end_dir = root_dir+\"{:d}/\".format(q_id)\n",
    "        #dm.mk_dir(end_dir)\n",
    "        \n",
    "        ex_freqs = np.arange(Fex_start, Qubits[q_id]['F01']+Fex_offset, Fex_step)\n",
    "        \n",
    "        Ipoints = np.arange( -Qubits[q_id]['Ispan']/2., Qubits[q_id]['Ispan']/2., cur_step)\n",
    "        \n",
    "        currents = Ipoints + Qubits[q_id]['I0']\n",
    "        \n",
    "        pna.set_power(Qubits[q_id]['P'])\n",
    "        pna.set_centerfreq(Qubits[q_id]['F'])\n",
    "        \n",
    "        lo1.set_power(Qubits[q_id]['Pex'])\n",
    "        \n",
    "        header = '#Ex power = {:f}'.format( lo1.get_power() )\n",
    "        \n",
    "        sweep.sweep(pna, (currents, current_setter, 'Coil current'), (ex_freqs, lo1.set_frequency, 'Exitation Frequency'),\n",
    "            filename='2tone_spectrum')\n",
    "        \n",
    "except KeyboardInterrupt: pass"
   ]
  },
  {
   "cell_type": "markdown",
   "metadata": {},
   "source": [
    "#Спектроскопия с учётм уползания резонатора"
   ]
  },
  {
   "cell_type": "code",
   "execution_count": null,
   "metadata": {
    "collapsed": true
   },
   "outputs": [],
   "source": [
    "q_id = 5\n",
    "Fex_step = 4e6\n",
    "Fex_offset = 150e6\n",
    "Fex_start = 7e9\n",
    "cur_step = 1e-6\n",
    "\n",
    "ex_freqs = np.arange(Fex_start, Qubits[q_id]['F01']+Fex_offset, Fex_step)\n",
    "        \n",
    "Ipoints = np.arange( -Qubits[q_id]['Ispan']/2., Qubits[q_id]['Ispan']/2., cur_step)\n",
    "        \n",
    "currents = Ipoints + Qubits[q_id]['I0']\n",
    "current.set_current(0)\n",
    "current.set_status(1)\n",
    "        \n",
    "ro_freqs =  np.interp(currents, FvsI[0], FvsI[1])\n",
    "pna.set_bandwidth(10)\n",
    "pna.set_nop(1)\n",
    "pna.set_power(Qubits[q_id]['P'])\n",
    "#pna.set_centerfreq(Qubits[q_id]['F'])\n",
    "        \n",
    "lo1.set_power(Qubits[q_id]['Pex'])\n",
    "lo1.set_status(1)\n",
    "        \n",
    "header = '#Ex power = {:f}'.format( lo1.get_power() )\n",
    "try:\n",
    "    ps.S21vs2DPar(pna, [currents, ro_freqs], [current.set_current, pna.set_centerfreq], ex_freqs, lo1.set_frequency,\n",
    "              filename = \"#{:d}\".format(q_id), header = header)\n",
    "except KeyboardInterrupt: pass    "
   ]
  }
 ],
 "metadata": {
  "kernelspec": {
   "display_name": "Python 3",
   "language": "python",
   "name": "python3"
  },
  "language_info": {
   "codemirror_mode": {
    "name": "ipython",
    "version": 3
   },
   "file_extension": ".py",
   "mimetype": "text/x-python",
   "name": "python",
   "nbconvert_exporter": "python",
   "pygments_lexer": "ipython3",
   "version": "3.6.5"
  },
  "toc": {
   "base_numbering": 1,
   "nav_menu": {},
   "number_sections": true,
   "sideBar": true,
   "skip_h1_title": false,
   "title_cell": "Table of Contents",
   "title_sidebar": "Contents",
   "toc_cell": false,
   "toc_position": {},
   "toc_section_display": true,
   "toc_window_display": false
  }
 },
 "nbformat": 4,
 "nbformat_minor": 1
}
