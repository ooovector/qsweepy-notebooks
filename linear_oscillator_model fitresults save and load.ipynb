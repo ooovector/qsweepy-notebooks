{
 "cells": [
  {
   "cell_type": "code",
   "execution_count": 1,
   "metadata": {
    "ExecuteTime": {
     "end_time": "2019-11-18T08:57:55.163750Z",
     "start_time": "2019-11-18T08:57:20.695966Z"
    }
   },
   "outputs": [
    {
     "name": "stdout",
     "output_type": "stream",
     "text": [
      "Failed loading module Keysight_M3102A:  No module named 'keysightSD1'\n",
      "Failed loading module Keysight_M3202A:  No module named 'keysightSD1'\n",
      "[WinError 126] The specified module could not be found\n",
      "Failed loading module Signal_Hound_SA:  name 'signal_hound_dll' is not defined\n"
     ]
    }
   ],
   "source": [
    "import qsweepy.save_pkl\n",
    "import pandas as pd\n",
    "import matplotlib.pyplot as plt\n",
    "import qsweepy.fitting as fitting\n",
    "import numpy as np\n",
    "\n",
    "from qsweepy import *\n",
    "from qsweepy.ponyfiles import *\n",
    "from qsweepy.fitters.multiqubit_spectra import *\n",
    "\n",
    "from qsweepy.ponyfiles.data_structures import *\n",
    "\n",
    "%matplotlib inline"
   ]
  },
  {
   "cell_type": "code",
   "execution_count": 2,
   "metadata": {
    "ExecuteTime": {
     "end_time": "2019-11-18T08:57:55.183736Z",
     "start_time": "2019-11-18T08:57:55.166748Z"
    }
   },
   "outputs": [],
   "source": [
    "parameters_dict = \\\n",
    "{'qubits': ['1', '2', '3', '4', '5', '6', '7', '8', '9', '10', '11'],\n",
    " 'inductance_matrix_type': 'chain-nn',\n",
    " 'qubit_resonator_individual': 'equal_claws',\n",
    " 'qubit_qubit_coupling': 'alternating-chain-nn',\n",
    " 'inductances': {'1': {'central': -0.109185896504347,\n",
    "   'right': -0.0004826239072177366},\n",
    "  '2': {'central': -0.11431231313261195,\n",
    "   'right': -0.00027538188179635083,\n",
    "   'left': 0.0008577490152635229},\n",
    "  '3': {'central': -0.11131307359191432,\n",
    "   'right': 0.00024345888448612619,\n",
    "   'left': 0.003773033767464582},\n",
    "  '4': {'central': -0.11521125144334263,\n",
    "   'right': -0.0004938990389211441,\n",
    "   'left': 0.0001681722604761979},\n",
    "  '5': {'central': -0.11268053164777525,\n",
    "   'right': -0.0011830316189549437,\n",
    "   'left': 0.00039349418795583886},\n",
    "  '6': {'central': -0.11537787321718858,\n",
    "   'right': -0.0006438958322830763,\n",
    "   'left': 2.757204098568375e-05},\n",
    "  '7': {'central': -0.10241951553849499,\n",
    "   'right': -0.00216192920028019,\n",
    "   'left': 0.00034795371255411616},\n",
    "  '8': {'central': -0.09276736882548474,\n",
    "   'right': -0.0007912202614004031,\n",
    "   'left': 0.0002328203609286558},\n",
    "  '9': {'central': -0.10882904539008785,\n",
    "   'right': -0.0018443764398353704,\n",
    "   'left': -0.0001160523283298373},\n",
    "  '10': {'central': -0.0975311916842425,\n",
    "   'right': -0.0018302317143429473,\n",
    "   'left': -0.0002249780824307208},\n",
    "  '11': {'central': -0.10365991163886802, 'left': -4.374063323585438e-05}},\n",
    " 'EJ1': {'1': 11816223384.264452,\n",
    "  '2': 11168950261.446684,\n",
    "  '3': 11815374828.756998,\n",
    "  '4': 11263129085.763647,\n",
    "  '5': 10981552502.675322,\n",
    "  '6': 10909809335.89073,\n",
    "  '7': 11666221426.430653,\n",
    "  '8': 10903644122.926136,\n",
    "  '9': 11563075836.984825,\n",
    "  '10': 11045274424.134794,\n",
    "  '11': 11265770833.103388},\n",
    " 'EJ2': {'1': 1943530015.2166,\n",
    "  '2': 1673183461.373451,\n",
    "  '3': 1911475144.5540576,\n",
    "  '4': 1769477531.8836436,\n",
    "  '5': 1810726542.9254663,\n",
    "  '6': 1607956688.359111,\n",
    "  '7': 1988898006.2197614,\n",
    "  '8': 2189188060.0125456,\n",
    "  '9': 2001071976.5662835,\n",
    "  '10': 1941073364.3633077,\n",
    "  '11': 1945649944.4130301},\n",
    " 'phi0': {'1': 0.08181626708822409,\n",
    "  '2': 0.0866324181609742,\n",
    "  '3': 0.10045189195678028,\n",
    "  '4': 0.0863936205645889,\n",
    "  '5': 0.0866026444716125,\n",
    "  '6': 0.08617179042392543,\n",
    "  '7': 0.07910410017305261,\n",
    "  '8': 0.09000314980903502,\n",
    "  '9': 0.07698168331954032,\n",
    "  '10': 0.08347793740401784,\n",
    "  '11': 0.07489040124974441},\n",
    " 'EC': 161574581.1907917,\n",
    " 'g': 586.6709956926836,\n",
    " 'J1': 0.011727299185763845,\n",
    " 'J2': 0.003000045037643214,\n",
    " 'fr': {'1': 6260000000.0,\n",
    "  '2': 6307000000.0,\n",
    "  '3': 6362300000.0,\n",
    "  '4': 6414000000.0,\n",
    "  '5': 6458700000.0,\n",
    "  '6': 6498400000.0,\n",
    "  '7': 6555000000.0,\n",
    "  '8': 6606000000.0,\n",
    "  '9': 6658000000.0,\n",
    "  '10': 6711000000.0,\n",
    "  '11': 6763000000.0}}"
   ]
  },
  {
   "cell_type": "code",
   "execution_count": 10,
   "metadata": {
    "ExecuteTime": {
     "end_time": "2019-11-18T09:02:40.728968Z",
     "start_time": "2019-11-18T09:02:39.663625Z"
    }
   },
   "outputs": [],
   "source": [
    "sample_name = '11qubits_021119'\n",
    "db = database.MyDatabase()\n",
    "\n",
    "sweeper = sweep_extras.Sweeper(db, sample_name=sample_name)\n",
    "exdir_db_inst = exdir_db.Exdir_db(db=db, sample_name=sample_name)"
   ]
  },
  {
   "cell_type": "code",
   "execution_count": 20,
   "metadata": {
    "ExecuteTime": {
     "end_time": "2019-11-18T09:08:37.479371Z",
     "start_time": "2019-11-18T09:08:37.466380Z"
    }
   },
   "outputs": [],
   "source": [
    "def save_parameters_dict(exdir_db_inst, parameters_dict):    \n",
    "    metadata = {'inductance_matrix_type': parameters_dict['inductance_matrix_type'],\n",
    "                'qubit_resonator_individual': parameters_dict['qubit_resonator_individual'],\n",
    "                'qubit_qubit_coupling': parameters_dict['qubit_qubit_coupling']}\n",
    "    metadata['EC'] = parameters_dict['EC']\n",
    "    metadata['g'] = parameters_dict['g']\n",
    "    metadata['J1'] = parameters_dict['J1']\n",
    "    metadata['J2'] = parameters_dict['J2']\n",
    "    \n",
    "    qubits = parameters_dict['qubits']\n",
    "    qubit_id_parameter = MeasurementParameter(name='qubit_id', values=[int(qubit_id) for qubit_id in qubits], \n",
    "                                              setter=False, unit='')\n",
    "    coil_id_parameter = MeasurementParameter(name='coil_id', values=[int(qubit_id) for qubit_id in qubits], \n",
    "                                              setter=False, unit='')\n",
    "\n",
    "    EJ1 = MeasurementDataset(parameters=[qubit_id_parameter], \n",
    "                             data=np.asarray([parameters_dict['EJ1'][str(qubit_id)] for qubit_id in qubit_id_parameter.values]))\n",
    "    EJ2 = MeasurementDataset(parameters=[qubit_id_parameter], \n",
    "                             data=np.asarray([parameters_dict['EJ2'][str(qubit_id)] for qubit_id in qubit_id_parameter.values]))\n",
    "    fr  = MeasurementDataset(parameters=[qubit_id_parameter], \n",
    "                             data=np.asarray([parameters_dict['fr'][str(qubit_id)] for qubit_id in qubit_id_parameter.values]))\n",
    "    phi0= MeasurementDataset(parameters=[qubit_id_parameter], \n",
    "                             data=np.asarray([parameters_dict['phi0'][str(qubit_id)] for qubit_id in qubit_id_parameter.values]))\n",
    "    L   = MeasurementDataset(parameters=[coil_id_parameter, qubit_id_parameter], data=build_inductance_matrix(parameters_dict))\n",
    "    #dataset = MeasurementDataset?\n",
    "\n",
    "    m = MeasurementState(datasets={'EJ1':EJ1, 'EJ2':EJ2, 'fr':fr, 'phi0':phi0, 'L':L}, \n",
    "                         metadata=metadata,\n",
    "                         measurement_type='linear_oscillator_model_parameters',\n",
    "                         sample_name=exdir_db_inst.sample_name)\n",
    "    exdir_db_inst.save_measurement(m)\n",
    "    return m"
   ]
  },
  {
   "cell_type": "code",
   "execution_count": 32,
   "metadata": {
    "ExecuteTime": {
     "end_time": "2019-11-18T09:57:28.154387Z",
     "start_time": "2019-11-18T09:57:28.141396Z"
    }
   },
   "outputs": [],
   "source": [
    "def load_parameters_dict(exdir_db_inst):    \n",
    "    meas = exdir_db_inst.select_measurement(measurement_type='linear_oscillator_model_parameters')\n",
    "    \n",
    "    parameters_dict = {}\n",
    "    parameters_dict.update(meas.metadata)\n",
    "    \n",
    "    L = meas.datasets['L']\n",
    "    \n",
    "    qubits = [str(qubit_id) for qubit_id in meas.datasets['EJ1'].parameters[0].values]\n",
    "    parameters_dict['EJ1'] = {}\n",
    "    parameters_dict['EJ2'] = {}\n",
    "    parameters_dict['fr'] = {}\n",
    "    parameters_dict['phi0'] = {}\n",
    "    parameters_dict['L'] = {}\n",
    "    \n",
    "    for qubit_id_, qubit_id in enumerate(qubits):\n",
    "        parameters_dict['EJ1'][qubit_id] = meas.datasets['EJ1'].data[qubit_id_]\n",
    "        parameters_dict['EJ2'][qubit_id] = meas.datasets['EJ2'].data[qubit_id_]\n",
    "        parameters_dict['fr'][qubit_id] = meas.datasets['fr'].data[qubit_id_]\n",
    "        parameters_dict['phi0'][qubit_id] = meas.datasets['phi0'].data[qubit_id_]\n",
    "        parameters_dict['L'][qubit_id] = {'central':meas.datasets['L'].data[qubit_id_, qubit_id_]}\n",
    "        if qubit_id_ > 0:\n",
    "            parameters_dict['L'][qubit_id]['left'] = meas.datasets['L'].data[qubit_id_, qubit_id_-1]\n",
    "        if qubit_id_ < len(qubits)-1:\n",
    "            parameters_dict['L'][qubit_id]['right'] = meas.datasets['L'].data[qubit_id_, qubit_id_+1]\n",
    "        \n",
    "    return parameters_dict"
   ]
  },
  {
   "cell_type": "code",
   "execution_count": 30,
   "metadata": {
    "ExecuteTime": {
     "end_time": "2019-11-18T09:57:16.614490Z",
     "start_time": "2019-11-18T09:57:15.628098Z"
    }
   },
   "outputs": [
    {
     "data": {
      "text/plain": [
       "start: 2019-11-18 12:57:15.629097, started/done/total sweeps: 0/0/0, \n",
       "Measured data: \n",
       "'EJ1': parameters: qubit_id (),:[1, 11] (11 points) without setter\n",
       "data: [1.18162234e+10 1.11689503e+10 1.18153748e+10 1.12631291e+10\n",
       " 1.09815525e+10 1.09098093e+10 1.16662214e+10 1.09036441e+10\n",
       " 1.15630758e+10 1.10452744e+10 1.12657708e+10]\n",
       "'EJ2': parameters: qubit_id (),:[1, 11] (11 points) without setter\n",
       "data: [1.94353002e+09 1.67318346e+09 1.91147514e+09 1.76947753e+09\n",
       " 1.81072654e+09 1.60795669e+09 1.98889801e+09 2.18918806e+09\n",
       " 2.00107198e+09 1.94107336e+09 1.94564994e+09]\n",
       "'fr': parameters: qubit_id (),:[1, 11] (11 points) without setter\n",
       "data: [6.2600e+09 6.3070e+09 6.3623e+09 6.4140e+09 6.4587e+09 6.4984e+09\n",
       " 6.5550e+09 6.6060e+09 6.6580e+09 6.7110e+09 6.7630e+09]\n",
       "'phi0': parameters: qubit_id (),:[1, 11] (11 points) without setter\n",
       "data: [0.08181627 0.08663242 0.10045189 0.08639362 0.08660264 0.08617179\n",
       " 0.0791041  0.09000315 0.07698168 0.08347794 0.0748904 ]\n",
       "'L': parameters: coil_id (),:[1, 11] (11 points) without setter\n",
       "qubit_id (),:[1, 11] (11 points) without setter\n",
       "data: [[-1.09185897e-01 -4.82623907e-04  0.00000000e+00  0.00000000e+00\n",
       "   0.00000000e+00  0.00000000e+00  0.00000000e+00  0.00000000e+00\n",
       "   0.00000000e+00  0.00000000e+00  0.00000000e+00]\n",
       " [ 8.57749015e-04 -1.14312313e-01 -2.75381882e-04  0.00000000e+00\n",
       "   0.00000000e+00  0.00000000e+00  0.00000000e+00  0.00000000e+00\n",
       "   0.00000000e+00  0.00000000e+00  0.00000000e+00]\n",
       " [ 0.00000000e+00  3.77303377e-03 -1.11313074e-01  2.43458884e-04\n",
       "   0.00000000e+00  0.00000000e+00  0.00000000e+00  0.00000000e+00\n",
       "   0.00000000e+00  0.00000000e+00  0.00000000e+00]\n",
       " [ 0.00000000e+00  0.00000000e+00  1.68172260e-04 -1.15211251e-01\n",
       "  -4.93899039e-04  0.00000000e+00  0.00000000e+00  0.00000000e+00\n",
       "   0.00000000e+00  0.00000000e+00  0.00000000e+00]\n",
       " [ 0.00000000e+00  0.00000000e+00  0.00000000e+00  3.93494188e-04\n",
       "  -1.12680532e-01 -1.18303162e-03  0.00000000e+00  0.00000000e+00\n",
       "   0.00000000e+00  0.00000000e+00  0.00000000e+00]\n",
       " [ 0.00000000e+00  0.00000000e+00  0.00000000e+00  0.00000000e+00\n",
       "   2.75720410e-05 -1.15377873e-01 -6.43895832e-04  0.00000000e+00\n",
       "   0.00000000e+00  0.00000000e+00  0.00000000e+00]\n",
       " [ 0.00000000e+00  0.00000000e+00  0.00000000e+00  0.00000000e+00\n",
       "   0.00000000e+00  3.47953713e-04 -1.02419516e-01 -2.16192920e-03\n",
       "   0.00000000e+00  0.00000000e+00  0.00000000e+00]\n",
       " [ 0.00000000e+00  0.00000000e+00  0.00000000e+00  0.00000000e+00\n",
       "   0.00000000e+00  0.00000000e+00  2.32820361e-04 -9.27673688e-02\n",
       "  -7.91220261e-04  0.00000000e+00  0.00000000e+00]\n",
       " [ 0.00000000e+00  0.00000000e+00  0.00000000e+00  0.00000000e+00\n",
       "   0.00000000e+00  0.00000000e+00  0.00000000e+00 -1.16052328e-04\n",
       "  -1.08829045e-01 -1.84437644e-03  0.00000000e+00]\n",
       " [ 0.00000000e+00  0.00000000e+00  0.00000000e+00  0.00000000e+00\n",
       "   0.00000000e+00  0.00000000e+00  0.00000000e+00  0.00000000e+00\n",
       "  -2.24978082e-04 -9.75311917e-02 -1.83023171e-03]\n",
       " [ 0.00000000e+00  0.00000000e+00  0.00000000e+00  0.00000000e+00\n",
       "   0.00000000e+00  0.00000000e+00  0.00000000e+00  0.00000000e+00\n",
       "   0.00000000e+00 -4.37406332e-05 -1.03659912e-01]]"
      ]
     },
     "execution_count": 30,
     "metadata": {},
     "output_type": "execute_result"
    }
   ],
   "source": [
    "save_parameters_dict(exdir_db_inst, parameters_dict)"
   ]
  },
  {
   "cell_type": "code",
   "execution_count": 33,
   "metadata": {
    "ExecuteTime": {
     "end_time": "2019-11-18T09:57:30.472959Z",
     "start_time": "2019-11-18T09:57:29.453589Z"
    }
   },
   "outputs": [
    {
     "data": {
      "text/plain": [
       "{'inductance_matrix_type': 'chain-nn',\n",
       " 'qubit_resonator_individual': 'equal_claws',\n",
       " 'qubit_qubit_coupling': 'alternating-chain-nn',\n",
       " 'EC': '161574581.1907917',\n",
       " 'g': '586.6709956926836',\n",
       " 'J1': '0.011727299185763845',\n",
       " 'J2': '0.003000045037643214',\n",
       " 'EJ1': {'1': 11816223384.264452,\n",
       "  '2': 11168950261.446684,\n",
       "  '3': 11815374828.756998,\n",
       "  '4': 11263129085.763647,\n",
       "  '5': 10981552502.675322,\n",
       "  '6': 10909809335.89073,\n",
       "  '7': 11666221426.430653,\n",
       "  '8': 10903644122.926136,\n",
       "  '9': 11563075836.984825,\n",
       "  '10': 11045274424.134794,\n",
       "  '11': 11265770833.103388},\n",
       " 'EJ2': {'1': 1943530015.2166,\n",
       "  '2': 1673183461.373451,\n",
       "  '3': 1911475144.5540576,\n",
       "  '4': 1769477531.8836436,\n",
       "  '5': 1810726542.9254663,\n",
       "  '6': 1607956688.359111,\n",
       "  '7': 1988898006.2197614,\n",
       "  '8': 2189188060.0125456,\n",
       "  '9': 2001071976.5662835,\n",
       "  '10': 1941073364.3633077,\n",
       "  '11': 1945649944.4130301},\n",
       " 'fr': {'1': 6260000000.0,\n",
       "  '2': 6307000000.0,\n",
       "  '3': 6362300000.0,\n",
       "  '4': 6414000000.0,\n",
       "  '5': 6458700000.0,\n",
       "  '6': 6498400000.0,\n",
       "  '7': 6555000000.0,\n",
       "  '8': 6606000000.0,\n",
       "  '9': 6658000000.0,\n",
       "  '10': 6711000000.0,\n",
       "  '11': 6763000000.0},\n",
       " 'phi0': {'1': 0.08181626708822409,\n",
       "  '2': 0.0866324181609742,\n",
       "  '3': 0.10045189195678028,\n",
       "  '4': 0.0863936205645889,\n",
       "  '5': 0.0866026444716125,\n",
       "  '6': 0.08617179042392543,\n",
       "  '7': 0.07910410017305261,\n",
       "  '8': 0.09000314980903502,\n",
       "  '9': 0.07698168331954032,\n",
       "  '10': 0.08347793740401784,\n",
       "  '11': 0.07489040124974441},\n",
       " 'L': {'1': {'central': -0.109185896504347, 'right': -0.0004826239072177366},\n",
       "  '2': {'central': -0.11431231313261195,\n",
       "   'left': 0.0008577490152635229,\n",
       "   'right': -0.00027538188179635083},\n",
       "  '3': {'central': -0.11131307359191432,\n",
       "   'left': 0.003773033767464582,\n",
       "   'right': 0.00024345888448612619},\n",
       "  '4': {'central': -0.11521125144334263,\n",
       "   'left': 0.0001681722604761979,\n",
       "   'right': -0.0004938990389211441},\n",
       "  '5': {'central': -0.11268053164777525,\n",
       "   'left': 0.00039349418795583886,\n",
       "   'right': -0.0011830316189549437},\n",
       "  '6': {'central': -0.11537787321718858,\n",
       "   'left': 2.757204098568375e-05,\n",
       "   'right': -0.0006438958322830763},\n",
       "  '7': {'central': -0.10241951553849499,\n",
       "   'left': 0.00034795371255411616,\n",
       "   'right': -0.00216192920028019},\n",
       "  '8': {'central': -0.09276736882548474,\n",
       "   'left': 0.0002328203609286558,\n",
       "   'right': -0.0007912202614004031},\n",
       "  '9': {'central': -0.10882904539008785,\n",
       "   'left': -0.0001160523283298373,\n",
       "   'right': -0.0018443764398353704},\n",
       "  '10': {'central': -0.0975311916842425,\n",
       "   'left': -0.0002249780824307208,\n",
       "   'right': -0.0018302317143429473},\n",
       "  '11': {'central': -0.10365991163886802, 'left': -4.374063323585438e-05}}}"
      ]
     },
     "execution_count": 33,
     "metadata": {},
     "output_type": "execute_result"
    }
   ],
   "source": [
    "load_parameters_dict(exdir_db_inst)"
   ]
  },
  {
   "cell_type": "code",
   "execution_count": null,
   "metadata": {},
   "outputs": [],
   "source": []
  }
 ],
 "metadata": {
  "kernelspec": {
   "display_name": "Python 3",
   "language": "python",
   "name": "python3"
  },
  "language_info": {
   "codemirror_mode": {
    "name": "ipython",
    "version": 3
   },
   "file_extension": ".py",
   "mimetype": "text/x-python",
   "name": "python",
   "nbconvert_exporter": "python",
   "pygments_lexer": "ipython3",
   "version": "3.6.9"
  },
  "toc": {
   "base_numbering": 1,
   "nav_menu": {},
   "number_sections": true,
   "sideBar": true,
   "skip_h1_title": false,
   "title_cell": "Table of Contents",
   "title_sidebar": "Contents",
   "toc_cell": false,
   "toc_position": {},
   "toc_section_display": true,
   "toc_window_display": false
  }
 },
 "nbformat": 4,
 "nbformat_minor": 2
}
