{
 "cells": [
  {
   "cell_type": "markdown",
   "metadata": {},
   "source": [
    "### Запуск QtLab"
   ]
  },
  {
   "cell_type": "markdown",
   "metadata": {},
   "source": [
    "Для начала надо добавить пути со скриптами и драйверами устройств, подключить библиотеки numpy и matplotlib."
   ]
  },
  {
   "cell_type": "code",
   "execution_count": 1,
   "metadata": {
    "scrolled": true
   },
   "outputs": [
    {
     "name": "stdout",
     "output_type": "stream",
     "text": [
      "\n",
      "Failed loading module Signal_Hound_SA:  name 'signal_hound_dll' is not defined\n"
     ]
    }
   ],
   "source": [
    "from qsweepy import *\n",
    "from qsweepy.instruments import *\n",
    "from qsweepy.save_pkl import save_pkl\n",
    "import matplotlib.pyplot as plt\n",
    "import numpy as np\n",
    "from matplotlib import interactive\n",
    "interactive(True)\n",
    "%matplotlib qt5"
   ]
  },
  {
   "cell_type": "markdown",
   "metadata": {},
   "source": [
    "Чтобы не держать константы далеко в коде, мы записываем сюда параметры кубитов."
   ]
  },
  {
   "cell_type": "code",
   "execution_count": 2,
   "metadata": {
    "collapsed": true
   },
   "outputs": [],
   "source": [
    "#Параметры кубитов.\n",
    "Qubits = {1: {'Fr': 9.160e9,'F01': 4.149e9, 'I0': 0.,'Ispan': 0.,'P': -30,'Pex': -2,'Span': 200e6},\n",
    "          2: {'Fr': 9.150e9 ,'F01': 6.74974e9, 'P':-30},\n",
    "          4: {'Fr': 9.587e9,'F01': 5.91557e9, 'I0': 0.,'Ispan': 0.,'P': -30,'Pex': -2,'Span': 200e6}}\n",
    "qubit_id = 2"
   ]
  },
  {
   "cell_type": "code",
   "execution_count": 2,
   "metadata": {},
   "outputs": [
    {
     "name": "stderr",
     "output_type": "stream",
     "text": [
      "WARNING:root:Tektronix_AWG5014 : get all not yet fully functional\n",
      "WARNING:root:Could not retrieve options for parameter amplitude\n",
      "WARNING:root:'amplitude'\n",
      "WARNING:root:Could not retrieve options for parameter offset\n",
      "WARNING:root:'offset'\n",
      "WARNING:root:Could not retrieve options for parameter marker1_low\n",
      "WARNING:root:'marker1_low'\n",
      "WARNING:root:Could not retrieve options for parameter marker1_high\n",
      "WARNING:root:'marker1_high'\n",
      "WARNING:root:Could not retrieve options for parameter marker2_low\n",
      "WARNING:root:'marker2_low'\n",
      "WARNING:root:Could not retrieve options for parameter marker2_high\n",
      "WARNING:root:'marker2_high'\n",
      "WARNING:root:Could not retrieve options for parameter status\n",
      "WARNING:root:'status'\n",
      "WARNING:root:Could not retrieve options for parameter amplitude\n",
      "WARNING:root:'amplitude'\n",
      "WARNING:root:Could not retrieve options for parameter offset\n",
      "WARNING:root:'offset'\n",
      "WARNING:root:Could not retrieve options for parameter marker1_low\n",
      "WARNING:root:'marker1_low'\n",
      "WARNING:root:Could not retrieve options for parameter marker1_high\n",
      "WARNING:root:'marker1_high'\n",
      "WARNING:root:Could not retrieve options for parameter marker2_low\n",
      "WARNING:root:'marker2_low'\n",
      "WARNING:root:Could not retrieve options for parameter marker2_high\n",
      "WARNING:root:'marker2_high'\n",
      "WARNING:root:Could not retrieve options for parameter status\n",
      "WARNING:root:'status'\n",
      "WARNING:root:Could not retrieve options for parameter amplitude\n",
      "WARNING:root:'amplitude'\n",
      "WARNING:root:Could not retrieve options for parameter offset\n",
      "WARNING:root:'offset'\n",
      "WARNING:root:Could not retrieve options for parameter marker1_low\n",
      "WARNING:root:'marker1_low'\n",
      "WARNING:root:Could not retrieve options for parameter marker1_high\n",
      "WARNING:root:'marker1_high'\n",
      "WARNING:root:Could not retrieve options for parameter marker2_low\n",
      "WARNING:root:'marker2_low'\n",
      "WARNING:root:Could not retrieve options for parameter marker2_high\n",
      "WARNING:root:'marker2_high'\n",
      "WARNING:root:Could not retrieve options for parameter status\n",
      "WARNING:root:'status'\n",
      "WARNING:root:Could not retrieve options for parameter amplitude\n",
      "WARNING:root:'amplitude'\n",
      "WARNING:root:Could not retrieve options for parameter offset\n",
      "WARNING:root:'offset'\n",
      "WARNING:root:Could not retrieve options for parameter marker1_low\n",
      "WARNING:root:'marker1_low'\n",
      "WARNING:root:Could not retrieve options for parameter marker1_high\n",
      "WARNING:root:'marker1_high'\n",
      "WARNING:root:Could not retrieve options for parameter marker2_low\n",
      "WARNING:root:'marker2_low'\n",
      "WARNING:root:Could not retrieve options for parameter marker2_high\n",
      "WARNING:root:'marker2_high'\n",
      "WARNING:root:Could not retrieve options for parameter status\n",
      "WARNING:root:'status'\n"
     ]
    },
    {
     "name": "stdout",
     "output_type": "stream",
     "text": [
      "D:\\qtlab_replacement\\qsweepy\\instrument.py 290 ch1_waveform\n",
      "D:\\qtlab_replacement\\qsweepy\\instrument.py 290 ch2_waveform\n",
      "D:\\qtlab_replacement\\qsweepy\\instrument.py 290 ch3_waveform\n",
      "D:\\qtlab_replacement\\qsweepy\\instrument.py 290 ch4_waveform\n",
      "D:\\qtlab_replacement\\qsweepy\\instrument.py 290 ch1_digital\n",
      "D:\\qtlab_replacement\\qsweepy\\instrument.py 290 ch2_digital\n",
      "D:\\qtlab_replacement\\qsweepy\\instrument.py 290 ch3_digital\n",
      "D:\\qtlab_replacement\\qsweepy\\instrument.py 290 ch4_digital\n",
      "D:\\qtlab_replacement\\qsweepy\\instrument.py 290 ch5_digital\n",
      "D:\\qtlab_replacement\\qsweepy\\instrument.py 290 ch6_digital\n",
      "D:\\qtlab_replacement\\qsweepy\\instrument.py 290 ch7_digital\n",
      "D:\\qtlab_replacement\\qsweepy\\instrument.py 290 ch8_digital\n",
      "D:\\qtlab_replacement\\qsweepy\\instrument.py 290 ch1_output\n",
      "D:\\qtlab_replacement\\qsweepy\\instrument.py 290 ch2_output\n",
      "D:\\qtlab_replacement\\qsweepy\\instrument.py 290 ch3_output\n",
      "D:\\qtlab_replacement\\qsweepy\\instrument.py 290 ch4_output\n",
      "D:\\qtlab_replacement\\qsweepy\\instrument.py 290 trigger_mode\n",
      "D:\\qtlab_replacement\\qsweepy\\instrument.py 290 trigger_impedance\n",
      "D:\\qtlab_replacement\\qsweepy\\instrument.py 290 trigger_level\n",
      "D:\\qtlab_replacement\\qsweepy\\instrument.py 290 clock\n",
      "D:\\qtlab_replacement\\qsweepy\\instrument.py 290 nop\n",
      "D:\\qtlab_replacement\\qsweepy\\instrument.py 290 ch1_amplitude\n",
      "D:\\qtlab_replacement\\qsweepy\\instrument.py 290 ch2_amplitude\n",
      "D:\\qtlab_replacement\\qsweepy\\instrument.py 290 ch3_amplitude\n",
      "D:\\qtlab_replacement\\qsweepy\\instrument.py 290 ch4_amplitude\n",
      "D:\\qtlab_replacement\\qsweepy\\instrument.py 290 ch1_offset\n",
      "D:\\qtlab_replacement\\qsweepy\\instrument.py 290 ch2_offset\n",
      "D:\\qtlab_replacement\\qsweepy\\instrument.py 290 ch3_offset\n",
      "D:\\qtlab_replacement\\qsweepy\\instrument.py 290 ch4_offset\n",
      "D:\\qtlab_replacement\\qsweepy\\instrument.py 290 ch1_marker1_low\n",
      "D:\\qtlab_replacement\\qsweepy\\instrument.py 290 ch2_marker1_low\n",
      "D:\\qtlab_replacement\\qsweepy\\instrument.py 290 ch3_marker1_low\n",
      "D:\\qtlab_replacement\\qsweepy\\instrument.py 290 ch4_marker1_low\n",
      "D:\\qtlab_replacement\\qsweepy\\instrument.py 290 ch1_marker1_high\n",
      "D:\\qtlab_replacement\\qsweepy\\instrument.py 290 ch2_marker1_high\n",
      "D:\\qtlab_replacement\\qsweepy\\instrument.py 290 ch3_marker1_high\n",
      "D:\\qtlab_replacement\\qsweepy\\instrument.py 290 ch4_marker1_high\n",
      "D:\\qtlab_replacement\\qsweepy\\instrument.py 290 ch1_marker2_low\n",
      "D:\\qtlab_replacement\\qsweepy\\instrument.py 290 ch2_marker2_low\n",
      "D:\\qtlab_replacement\\qsweepy\\instrument.py 290 ch3_marker2_low\n",
      "D:\\qtlab_replacement\\qsweepy\\instrument.py 290 ch4_marker2_low\n",
      "D:\\qtlab_replacement\\qsweepy\\instrument.py 290 ch1_marker2_high\n",
      "D:\\qtlab_replacement\\qsweepy\\instrument.py 290 ch2_marker2_high\n",
      "D:\\qtlab_replacement\\qsweepy\\instrument.py 290 ch3_marker2_high\n",
      "D:\\qtlab_replacement\\qsweepy\\instrument.py 290 ch4_marker2_high\n",
      "D:\\qtlab_replacement\\qsweepy\\instrument.py 290 ch1_status\n",
      "D:\\qtlab_replacement\\qsweepy\\instrument.py 290 ch2_status\n",
      "D:\\qtlab_replacement\\qsweepy\\instrument.py 290 ch3_status\n",
      "D:\\qtlab_replacement\\qsweepy\\instrument.py 290 ch4_status\n"
     ]
    }
   ],
   "source": [
    "awg = Tektronix_AWG5014('awg_tek', address = 'TCPIP0::10.20.61.186::inst0::INSTR')"
   ]
  },
  {
   "cell_type": "code",
   "execution_count": 3,
   "metadata": {},
   "outputs": [
    {
     "data": {
      "text/plain": [
       "'1.40000000E+000\\n'"
      ]
     },
     "execution_count": 3,
     "metadata": {},
     "output_type": "execute_result"
    }
   ],
   "source": [
    "awg._visainstrument.ask('TRIG:LEV?')"
   ]
  },
  {
   "cell_type": "code",
   "execution_count": 4,
   "metadata": {},
   "outputs": [
    {
     "data": {
      "text/plain": [
       "'CONT\\n'"
      ]
     },
     "execution_count": 4,
     "metadata": {},
     "output_type": "execute_result"
    }
   ],
   "source": [
    "awg._visainstrument.ask('AWGC:RMOD?')"
   ]
  },
  {
   "cell_type": "code",
   "execution_count": 9,
   "metadata": {},
   "outputs": [
    {
     "ename": "AttributeError",
     "evalue": "'Tektronix_AWG5014' object has no attribute 'set_waveform'",
     "output_type": "error",
     "traceback": [
      "\u001b[1;31m---------------------------------------------------------------------------\u001b[0m",
      "\u001b[1;31mAttributeError\u001b[0m                            Traceback (most recent call last)",
      "\u001b[1;32m<ipython-input-9-54a331cdffb0>\u001b[0m in \u001b[0;36m<module>\u001b[1;34m()\u001b[0m\n\u001b[1;32m----> 1\u001b[1;33m \u001b[0mawg\u001b[0m\u001b[1;33m.\u001b[0m\u001b[0mset_waveform\u001b[0m\u001b[1;33m\u001b[0m\u001b[0m\n\u001b[0m",
      "\u001b[1;31mAttributeError\u001b[0m: 'Tektronix_AWG5014' object has no attribute 'set_waveform'"
     ]
    }
   ],
   "source": [
    "awg.set_waveform"
   ]
  },
  {
   "cell_type": "markdown",
   "metadata": {},
   "source": [
    "# Спектроскопия"
   ]
  },
  {
   "cell_type": "markdown",
   "metadata": {},
   "source": [
    "Инстантизируем драйверы устройств для векторного анализатора ('pna') и генератора сигналов ('lo1')."
   ]
  },
  {
   "cell_type": "code",
   "execution_count": 4,
   "metadata": {
    "collapsed": true,
    "scrolled": true
   },
   "outputs": [],
   "source": [
    "pna = Agilent_N5242A('pna', address = 'TCPIP0::10.20.61.48::inst0::INSTR')\n",
    "lo1 = Agilent_E8257D('lo1', address = 'TCPIP0::10.20.61.59::inst0::INSTR')"
   ]
  },
  {
   "cell_type": "code",
   "execution_count": 5,
   "metadata": {},
   "outputs": [
    {
     "name": "stderr",
     "output_type": "stream",
     "text": [
      "WARNING:root:Unsupported type <class 'str'>\n"
     ]
    },
    {
     "data": {
      "text/plain": [
       "False"
      ]
     },
     "execution_count": 5,
     "metadata": {},
     "output_type": "execute_result"
    }
   ],
   "source": [
    "# векторный анализатор в режим линейного свипа\n",
    "pna.set_sweep_mode(\"LIN\")"
   ]
  },
  {
   "cell_type": "code",
   "execution_count": 6,
   "metadata": {},
   "outputs": [
    {
     "data": {
      "text/plain": [
       "True"
      ]
     },
     "execution_count": 6,
     "metadata": {},
     "output_type": "execute_result"
    }
   ],
   "source": [
    "pna.set_status(1)"
   ]
  },
  {
   "cell_type": "code",
   "execution_count": 7,
   "metadata": {},
   "outputs": [
    {
     "data": {
      "application/vnd.jupyter.widget-view+json": {
       "model_id": "96b1d5a5224b433faa05ac84265fb880",
       "version_major": 2,
       "version_minor": 0
      },
      "text/plain": [
       "A Jupyter Widget"
      ]
     },
     "metadata": {},
     "output_type": "display_data"
    },
    {
     "name": "stdout",
     "output_type": "stream",
     "text": [
      "Started at:  Jul 17 2018 18:20:03\n",
      "2\n"
     ]
    },
    {
     "name": "stderr",
     "output_type": "stream",
     "text": [
      "C:\\ProgramData\\Anaconda3\\lib\\site-packages\\numpy\\lib\\function_base.py:2169: RuntimeWarning: invalid value encountered in remainder\n",
      "  ddmod = mod(dd + pi, 2*pi) - pi\n",
      "C:\\ProgramData\\Anaconda3\\lib\\site-packages\\numpy\\lib\\function_base.py:2170: RuntimeWarning: invalid value encountered in greater\n",
      "  _nx.copyto(ddmod, pi, where=(ddmod == -pi) & (dd > 0))\n",
      "C:\\ProgramData\\Anaconda3\\lib\\site-packages\\numpy\\lib\\function_base.py:2172: RuntimeWarning: invalid value encountered in less\n",
      "  _nx.copyto(ph_correct, 0, where=abs(dd) < discont)\n",
      "WARNING:root:Unsupported type <class 'str'>\n",
      "root: WARNING  Unsupported type <class 'str'>\n",
      "WARNING:root:Unsupported type <class 'str'>\n",
      "root: WARNING  Unsupported type <class 'str'>\n",
      "WARNING:root:Unsupported type <class 'str'>\n",
      "root: WARNING  Unsupported type <class 'str'>\n"
     ]
    },
    {
     "name": "stdout",
     "output_type": "stream",
     "text": [
      "\n",
      "Elapsed time: 0 h 0 m 1.12 s\n"
     ]
    },
    {
     "data": {
      "text/plain": [
       "{'S-parameter': (('Frequency',),\n",
       "  (array([  7.99970000e+09,   7.99970500e+09,   7.99971001e+09, ...,\n",
       "            8.00968999e+09,   8.00969500e+09,   8.00970000e+09]),),\n",
       "  array([ 0.84790224+0.0111032j ,  0.84776556+0.0107505j ,\n",
       "          0.84786314+0.01059819j, ...,  0.70234919+0.40985245j,\n",
       "          0.70242089+0.40974349j,  0.70287520+0.40882686j]),\n",
       "  {'log': 20},\n",
       "  ('Hz',))}"
      ]
     },
     "execution_count": 7,
     "metadata": {},
     "output_type": "execute_result"
    }
   ],
   "source": [
    "sweep.sweep(pna, filename='test-pna')"
   ]
  },
  {
   "cell_type": "markdown",
   "metadata": {},
   "source": [
    "## Спектроскопия через смесители #### ЖМИ МИНЯ\n",
    "\n",
    "\n",
    "Если подключена импульсная схема, а хочется сделать спектроскопию - то нет проблем! Единственное что нужно сделать, это, во-первых, открыть смесители (подав на них, скажем, 0.3В), и во-вторых, обратить внимание на мощность на выходе. Она будет ниже чем если делать спектроскопию нормально. Ну и шумов тоже получится больше - лучше всего не подавать какие-то сигналы с AWG, а задать оффсеты. Тогда вроде бы шумов меньше получается.\n",
    "\n",
    "Что тут хорошо: можно переключаться между режимами не выходя из офиса (или из вообще не вставая на кровати). Этот режим очень популярен при измерениях в Черноголовке среди людей, которые не любят в эту самую Черноголовку ездить.\n",
    "Тем не менее иногда полезно заходить в лабу и посмотреть что же на самом деле там происходит."
   ]
  },
  {
   "cell_type": "code",
   "execution_count": 7,
   "metadata": {},
   "outputs": [
    {
     "name": "stderr",
     "output_type": "stream",
     "text": [
      "root: WARNING  Tektronix_AWG5014 : get all not yet fully functional\n"
     ]
    }
   ],
   "source": [
    "# AWG для того чтобы открыть смесители\n",
    "awg_tek = Tektronix_AWG5014('awg_tek', address = 'TCPIP0::10.20.61.186::inst0::INSTR')\n",
    "\n",
    "# Задаём постояннmtые смещения на каналы 1 и 3\n",
    "awg_tek.set_offset(0.3, channel=1)\n",
    "awg_tek.set_offset(0.3, channel=3)\n",
    "\n",
    "# Сами импульсы надо при этом выключить! Будет меньше шуметь (но то не точно).\n",
    "awg_tek.stop()"
   ]
  },
  {
   "cell_type": "markdown",
   "metadata": {},
   "source": [
    "## Резонаторная спектроскопия #### НЕЖМИ МИНЯ\n"
   ]
  },
  {
   "cell_type": "code",
   "execution_count": null,
   "metadata": {
    "collapsed": true
   },
   "outputs": [],
   "source": [
    "lo1.set_status(0)\n",
    "pna.set_status(1)\n",
    "pna.set_power(-50) # \n",
    "pna.set_nop(1001)\n",
    "pna.set_xlim(9.0e9, 10.0e9)\n",
    "pna.set_bandwidth(100)\n",
    "freqs = pna.get_freqpoints()\n",
    "S21 = pna.get_tracedata()"
   ]
  },
  {
   "cell_type": "code",
   "execution_count": null,
   "metadata": {
    "collapsed": true
   },
   "outputs": [],
   "source": [
    "meas = sweep.sweep(pna, ([0], lambda x: None, 'None'), filename='Single Tone spectroscopy #2')"
   ]
  },
  {
   "cell_type": "markdown",
   "metadata": {},
   "source": [
    "## Резонатор от мощности (проверка нелинейности резонатора) #### НЕЖМИ МИНЯ\n"
   ]
  },
  {
   "cell_type": "code",
   "execution_count": null,
   "metadata": {
    "collapsed": true
   },
   "outputs": [],
   "source": [
    "pna.set_power(-10) # \n",
    "pna.set_nop(201) \n",
    "#pna.set_xlim(9.8e9, 9.81e9)\n",
    "pna.set_xlim(9.5e9, 9.7e9)\n",
    "pna.set_bandwidth(100)\n",
    "freqs = pna.get_freqpoints()\n",
    "S21 = pna.get_tracedata()"
   ]
  },
  {
   "cell_type": "code",
   "execution_count": null,
   "metadata": {
    "collapsed": true,
    "scrolled": true
   },
   "outputs": [],
   "source": [
    "resonator_powers = np.arange(16, -51, -6)\n",
    "meas = sweep.sweep(pna, (resonator_powers, pna.set_power, 'Power, dBm'), filename='Single Tone spectroscopy power dependent #4')"
   ]
  },
  {
   "cell_type": "markdown",
   "metadata": {},
   "source": [
    "## Фитуем добротность резонатора #### НЕЖМИ МИНЯ\n"
   ]
  },
  {
   "cell_type": "code",
   "execution_count": null,
   "metadata": {
    "collapsed": true
   },
   "outputs": [],
   "source": [
    "from resonator_tools import circuit\n",
    "#plt.plot(freqs, scipy.signal.detrend(np.unwrap(S21[1])))\n",
    "fitter =circuit.reflection_port(f_data=freqs, z_data_raw=S21[0]*np.exp(1j*S21[1]))\n",
    "fitter.autofit()\n",
    "fitter.plotall()"
   ]
  },
  {
   "cell_type": "code",
   "execution_count": null,
   "metadata": {
    "collapsed": true
   },
   "outputs": [],
   "source": [
    "fitter.fitresults['Qc_err']"
   ]
  },
  {
   "cell_type": "code",
   "execution_count": null,
   "metadata": {
    "collapsed": true,
    "scrolled": true
   },
   "outputs": [],
   "source": [
    "plt.plot(freqs, np.abs(np.gradient(S21[0]*np.exp(1j*S21[1]))))"
   ]
  },
  {
   "cell_type": "code",
   "execution_count": null,
   "metadata": {
    "collapsed": true
   },
   "outputs": [],
   "source": [
    "powers = np.linspace(-65, 5, 15)\n",
    "sweep.sweep(pna, (powers, pna.set_power, 'readout power'), filename='Resonator power spectroscopy')"
   ]
  },
  {
   "cell_type": "markdown",
   "metadata": {},
   "source": [
    "### 1D скан при фиксированной мощности"
   ]
  },
  {
   "cell_type": "code",
   "execution_count": 13,
   "metadata": {},
   "outputs": [
    {
     "data": {
      "text/plain": [
       "True"
      ]
     },
     "execution_count": 13,
     "metadata": {},
     "output_type": "execute_result"
    }
   ],
   "source": [
    "#### НЕЖМИ МИНЯ\n",
    "\n",
    "qubit_id = 2\n",
    "pna.set_nop(1)\n",
    "#pna.set_xlim(9.58578e9, 9.58578e9)"
   ]
  },
  {
   "cell_type": "code",
   "execution_count": 22,
   "metadata": {
    "scrolled": true
   },
   "outputs": [
    {
     "data": {
      "application/vnd.jupyter.widget-view+json": {
       "model_id": "6a0940f60bf346c194cece5829d2b1e8",
       "version_major": 2,
       "version_minor": 0
      },
      "text/plain": [
       "A Jupyter Widget"
      ]
     },
     "metadata": {},
     "output_type": "display_data"
    },
    {
     "name": "stdout",
     "output_type": "stream",
     "text": [
      "Started at:  Jul 12 2018 19:02:56\n",
      "2\n"
     ]
    },
    {
     "name": "stderr",
     "output_type": "stream",
     "text": [
      "C:\\ProgramData\\Anaconda3\\lib\\site-packages\\numpy\\lib\\function_base.py:2169: RuntimeWarning: invalid value encountered in remainder\n",
      "  ddmod = mod(dd + pi, 2*pi) - pi\n",
      "C:\\ProgramData\\Anaconda3\\lib\\site-packages\\numpy\\lib\\function_base.py:2170: RuntimeWarning: invalid value encountered in greater\n",
      "  _nx.copyto(ddmod, pi, where=(ddmod == -pi) & (dd > 0))\n",
      "C:\\ProgramData\\Anaconda3\\lib\\site-packages\\numpy\\lib\\function_base.py:2172: RuntimeWarning: invalid value encountered in less\n",
      "  _nx.copyto(ph_correct, 0, where=abs(dd) < discont)\n"
     ]
    },
    {
     "name": "stdout",
     "output_type": "stream",
     "text": [
      "\n",
      "Elapsed time: 0 h 3 m 0.82 s\n"
     ]
    }
   ],
   "source": [
    "#### НЕЖМИ МИНЯ\n",
    "\n",
    "#Измерение\n",
    "lo1.set_status(1)\n",
    "ex_freqs = np.arange(3.91e9, 3.95e9, 0.2e6)\n",
    "\n",
    "pna.set_xlim(Qubits[qubit_id]['Fr'], Qubits[qubit_id]['Fr'])\n",
    "pna.set_nop(1)\n",
    "pna.set_bandwidth(1)\n",
    "#pna.set_average_mode('POINT')\n",
    "#pna.set_average(1)\n",
    "#pna.set_averages(1)\n",
    "pna.set_power (-25)\n",
    "lo1.set_power (10)\n",
    "#current_src.set_current(-2.5e-3)\n",
    "\n",
    "header = '''#Parameter = Ex frequency\n",
    "#Ex power = {:f}'''\n",
    "try:\n",
    "    ex1D = sweep.sweep(pna, (ex_freqs, lo1.set_frequency, 'Second tone freq', 'Hz'), filename = \"ex_{:.1f}dBm #2\".format(lo1.get_power()))\n",
    "except KeyboardInterrupt: pass "
   ]
  },
  {
   "cell_type": "code",
   "execution_count": null,
   "metadata": {
    "collapsed": true,
    "scrolled": true
   },
   "outputs": [],
   "source": [
    "#### НЕЖМИ МИНЯ\n",
    "\n",
    "#Измерение\n",
    "lo1.set_status(1)\n",
    "ex_freqs = np.arange(5.9e9, 6.0e9, 2e6)\n",
    "\n",
    "pna.set_xlim(9.45e9, 9.75e9)\n",
    "pna.set_nop(1001)\n",
    "pna.set_bandwidth(501)\n",
    "pna.set_average_mode('POINT')\n",
    "pna.set_average(1)\n",
    "pna.set_averages(1)\n",
    "pna.set_power (-15)\n",
    "lo1.set_power (13)\n",
    "#current_src.set_current(-2.5e-3)\n",
    "\n",
    "header = '''#Parameter = Ex frequency\n",
    "#Ex power = {:f}'''\n",
    "try:\n",
    "    ex1D = sweep.sweep(pna, (ex_freqs, lo1.set_frequency, 'Second tone freq'), filename = \"ex_{:.1f}dBm #4\".format(lo1.get_power()))\n",
    "except KeyboardInterrupt: pass "
   ]
  },
  {
   "cell_type": "markdown",
   "metadata": {},
   "source": [
    "##### 2D скан (мощность второго тона, частота второго тона)"
   ]
  },
  {
   "cell_type": "code",
   "execution_count": 18,
   "metadata": {},
   "outputs": [
    {
     "data": {
      "application/vnd.jupyter.widget-view+json": {
       "model_id": "3f86f4b01fcc4022882356da9281f98f",
       "version_major": 2,
       "version_minor": 0
      },
      "text/plain": [
       "A Jupyter Widget"
      ]
     },
     "metadata": {},
     "output_type": "display_data"
    },
    {
     "name": "stdout",
     "output_type": "stream",
     "text": [
      "Started at:  Jul 12 2018 18:43:52\n",
      "2\n",
      "\n",
      "Elapsed time: 0 h 13 m 55.14 s\n"
     ]
    },
    {
     "data": {
      "text/plain": [
       "True"
      ]
     },
     "execution_count": 18,
     "metadata": {},
     "output_type": "execute_result"
    }
   ],
   "source": [
    "#### НЕЖМИ МИНЯ\n",
    "Qubit_id = 2\n",
    "ex_freqs = np.arange(3.7e9, 4.4e9, 1e6)\n",
    "ex_powers = np.arange(-20, 20, 2)\n",
    "\n",
    "pna.set_xlim(Qubits[Qubit_id]['Fr'], Qubits[Qubit_id]['Fr'])\n",
    "pna.set_nop(1)\n",
    "pna.set_power(Qubits[Qubit_id]['P'])\n",
    "pna.set_bandwidth(20)\n",
    "#lo1.set_power(-20)\n",
    "\n",
    "header = '''#Parameter =\n",
    "#Ro power = {:f}'''.format( pna.get_power() )\n",
    "\n",
    "lo1.set_status(1)\n",
    "#ps.S21vs2DPar(pna, currents, current.set_current, ex_freqs, lo1.set_frequency, filename = \"#2{:.1f}dBm\".format(lo1.get_power()),\\\n",
    "#           header = header)\n",
    "ex2D = sweep.sweep(pna, (ex_powers, lo1.set_power, 'Second tone power'), \n",
    "                   (ex_freqs, lo1.set_frequency, 'Second tone freq'), filename = \"Two-tone resonator #{} powerscan\".format(qubit_id),\\\n",
    "           header = header)\n",
    "lo1.set_status(0)"
   ]
  },
  {
   "cell_type": "markdown",
   "metadata": {},
   "source": [
    "# Импульсы #### ЖМИ МИНЯ ПОЛНОСТЬЮ"
   ]
  },
  {
   "cell_type": "markdown",
   "metadata": {},
   "source": [
    "### Создаём девайсы"
   ]
  },
  {
   "cell_type": "markdown",
   "metadata": {},
   "source": [
    "Инстантизация драйверов устройств.\n",
    "sa - анализатор спектра,\n",
    "awg_tek - геннератор сигналов произвольной формы,\n",
    "adc - аналогово-цифровой преобразователь."
   ]
  },
  {
   "cell_type": "code",
   "execution_count": 7,
   "metadata": {
    "collapsed": true
   },
   "outputs": [],
   "source": [
    "#if not ('pna' in locals()): pna = Agilent_N5242A('pna', address = 'PNA')\n",
    "#if not ('lo1' in locals()): lo1 = Agilent_E8257D('lo1', address = 'PSG1')\n",
    "sa = Agilent_N9030A('pxa', address = 'PXA')\n",
    "#sa = Signal_Hound_SA(name='SA124', serial=61660066)\n",
    "#lo_ex = Labbrick(name='lo_ex', serial=15249)\n",
    "lo_ex = lo1\n",
    "lo_ro = pna\n",
    "#lo_ro = Labbrick(name='lo_ro', serial=15257)\n",
    "#awg_tek = Tektronix_AWG5014('awg_tek', address = 'TCPIP0::10.20.61.186::inst0::INSTR')\n",
    "adc = Spectrum_M3i2132('adc')"
   ]
  },
  {
   "cell_type": "markdown",
   "metadata": {},
   "source": [
    "\n",
    "### Загружаем импульсные скрипты всякие"
   ]
  },
  {
   "cell_type": "code",
   "execution_count": 8,
   "metadata": {},
   "outputs": [
    {
     "data": {
      "text/plain": [
       "<module 'sweep' from 'D:\\\\qtlab_replacement\\\\scripts\\\\sweep.py'>"
      ]
     },
     "execution_count": 8,
     "metadata": {},
     "output_type": "execute_result"
    }
   ],
   "source": [
    "import awg_digital\n",
    "import awg_iq\n",
    "import data_reduce\n",
    "import imp\n",
    "import fitting\n",
    "import plotting\n",
    "import save_pkl\n",
    "import tomography as tomography_new\n",
    "import tomography_legacy as tomography\n",
    "import sweep\n",
    "imp.reload(awg_digital)\n",
    "imp.reload(awg_iq)\n",
    "imp.reload(data_reduce)\n",
    "imp.reload(fitting)\n",
    "imp.reload(plotting)\n",
    "imp.reload(save_pkl)\n",
    "imp.reload(tomography)\n",
    "imp.reload(tomography_new)\n",
    "imp.reload(sweep)"
   ]
  },
  {
   "cell_type": "markdown",
   "metadata": {},
   "source": [
    "### Осцилляторы"
   ]
  },
  {
   "cell_type": "markdown",
   "metadata": {},
   "source": [
    "Генераторы опорных волн для смесителей.\n",
    "На вход надо подавать около 13 дБ (точка децибельной компрессии).\n",
    "В качестве источника можно использовать agilent или labbrick. У labbrick фазовые шумы, лучше использвать agilent.\n",
    "Векторный анализатор можно включить в режим постоянной волны, тогда его тоже можно использовать."
   ]
  },
  {
   "cell_type": "code",
   "execution_count": 9,
   "metadata": {
    "collapsed": true
   },
   "outputs": [],
   "source": [
    "# Источник тока - в autorange\n",
    "#current.set_autorange(1)\n",
    "#Мощности гетеродинов, постоянные\n",
    "#Мощность гетеродина для возбуждения 13-16 дБм\n",
    "#lo_ex_pow = 14\n",
    "#lo_ex_pow = 14\n",
    "lo_ex_pow = 14\n",
    "#lo_ex = lo1\n",
    "lo_ex.set_status(1)\n",
    "#lo_ex.set_power(lo_ex_pow)\n",
    "#pna как lo2 (excitation)\n",
    "#Port1 - выход\n",
    "#Мощность гетеродина для считывания 10-13 дБм, с учётом разветвителя 13-16 dBm\n",
    "#lo_ro_pow = 16\n",
    "lo_ro_pow = 16\n",
    "lo_ro.set_power(lo_ro_pow)\n",
    "\n",
    "#lo_ex = pna\n",
    "pna.write(\"OUTP ON\")\n",
    "pna.write(\"SOUR1:POW1:MODE ON\")\n",
    "pna.write(\"SOUR1:POW2:MODE OFF\")\n",
    "pna.set_sweep_mode(\"CW\")\n",
    "lo_ex.set_power(lo_ex_pow)\n",
    "awg_tek=awg"
   ]
  },
  {
   "cell_type": "markdown",
   "metadata": {},
   "source": [
    "### AWGшки"
   ]
  },
  {
   "cell_type": "code",
   "execution_count": 10,
   "metadata": {},
   "outputs": [
    {
     "name": "stderr",
     "output_type": "stream",
     "text": [
      "root: WARNING  Tektronix_AWG5014 : Clock set to 1000000000.0. This is not fully functional yet. To avoid problems, it is better not to change the clock during operation\n"
     ]
    }
   ],
   "source": [
    "# промежуточные частоты для гетеродинной схемы:\n",
    "ex_if = 50e6\n",
    "ro_if = 75e6\n",
    "# клоки генератора и оцифровщика\n",
    "ex_clock = 1e9\n",
    "ro_clock = 1e9\n",
    "\n",
    "rep_rate = 20e3 # частота повторений эксперимента\n",
    "\n",
    "awg_tek.stop()\n",
    "awg_tek.set_clock(ex_clock) # клок всех авгшк\n",
    "awg_tek.set_nop(ex_clock/rep_rate) # репрейт нужно задавать по=хорошему только на управляющей,\n",
    "awg_tek.run()\n",
    "# а вот длину сэмплов, которая очевидно то же самое, нужно задавать на всех авгшках.\n",
    "# хорошо, что сейчас она только одна.\n",
    "\n",
    "# миксеры подключены к AWG5014 через 6 дБ аттенюаторы. Ставим амплитуду 0.7 В на считывание, 0.4 В на возбуждение.\n",
    "for channel in range(3,5):\n",
    "    awg_tek.set_amplitude(0.8, channel=channel)\n",
    "    awg_tek.set_offset(0.0, channel=channel)\n",
    "for channel in range(1,3):\n",
    "    awg_tek.set_amplitude(0.5, channel=channel)\n",
    "    awg_tek.set_offset(0.0, channel=channel)\n",
    "# Выходы 1, 2 тектроникс: возбуждение (кубитный тон) через 6 дБ аттенюатор\n",
    "# Выходы 3, 4 тектроникс: считывание (резонаторный тон) через 6 дБ аттенюатор\n",
    "iq_ex = awg_iq.awg_iq(awg_tek, awg_tek, 2, 1, lo_ex)\n",
    "iq_ro = awg_iq.awg_iq(awg_tek, awg_tek, 3, 4, lo_ro)\n",
    "iq_ex.set_if(ex_if)\n",
    "iq_ro.set_if(ro_if)\n",
    "iq_ex.set_sideband_id(-1)\n",
    "iq_ro.set_sideband_id(-1)\n",
    "iq_ex.set_frequency(Qubits[qubit_id]['F01'])\n",
    "iq_ro.set_frequency(Qubits[qubit_id]['Fr'])\n",
    "\n",
    "# К первому маркере первого канала тектроникса подсоединён триггер оцифровщика.\n",
    "# Надо подавать какой-нибудь триггер, что-ли.\n",
    "# А ещё нужно подавать клок. К сожалению наш оцифровщик не может в 1ГГц клок, ему нужен 500МГц клок.\n",
    "# Будем подавать 500 МГц с цифрового выхода тектроникса.\n",
    "awg_tek.set_marker1_low(-1, channel=1)\n",
    "awg_tek.set_marker2_low(-1, channel=1)\n",
    "awg_tek.set_marker1_high(2, channel=1)\n",
    "awg_tek.set_marker2_high(2, channel=1)\n",
    "awg_tek.set_marker1_low(-0.1, channel=2)\n",
    "awg_tek.set_marker2_low(-0.1, channel=2) \n",
    "awg_tek.set_marker1_high(0.1, channel=2) # с клока хватит и такой амплитуды\n",
    "awg_tek.set_marker2_high(0.1, channel=2) # с клока хватит и такой амплитуды\n",
    "\n",
    "ro_trg = awg_digital.awg_digital(awg_tek, 1)\n",
    "osc_trg = awg_digital.awg_digital(awg_tek, 5)\n",
    "ro_adc_clock = awg_digital.awg_digital(awg_tek, 2) #\n",
    "osc_adc_clock = awg_digital.awg_digital(awg_tek, 6) #\n",
    "\n",
    "# тупо клок\n",
    "ro_adc_clock.set_waveform(np.asarray([0,1]*int(ro_adc_clock.get_nop()/2), dtype=int))\n",
    "osc_adc_clock.set_waveform(np.asarray([0,1]*int(ro_adc_clock.get_nop()/2), dtype=int))\n",
    "awg_channels = {'iq_ex':iq_ex, 'iq_ro':iq_ro, 'ro_trg':ro_trg, 'osc_trg':osc_trg}\n",
    "trg_length = 4e-9\n",
    "pg = tomography_new.pulses(awg_channels)"
   ]
  },
  {
   "cell_type": "markdown",
   "metadata": {},
   "source": [
    "### Оцифровщик"
   ]
  },
  {
   "cell_type": "code",
   "execution_count": 11,
   "metadata": {
    "collapsed": true
   },
   "outputs": [],
   "source": [
    "# настройки оцифровщика\n",
    "adc.reset()            \n",
    "adc.set_timeout(10000)\n",
    "adc.set_clock(ro_clock)\n",
    "\n",
    "#adc.set_spc_samplerate(smp_rate)\n",
    "#External trigger\n",
    "adc.set_trigger_ext0_level0(0) # logical 0 value to 200 mV\n",
    "adc.set_trigger_ext0_level1(1300) # logical 1 value to 600 mV\n",
    "adc.trigger_termination_50Ohm()\n",
    "adc.trigger_mode_pos()\n",
    "adc.set_trigger_ext0_pulsewidth(0)\n",
    "adc.disable_trigger_output()\n",
    "adc.select_channel01()\n",
    "adc.set_multi_mode()\n",
    "#adc.set_segmentsize()\n",
    "adc.set_trigger_ORmask_tmask_ext0()\n",
    "adc.set_trigger_ANDmask_tmask_ext0()\n",
    "adc.set_trigger_ORmask_tmask_NO_ch0()\n",
    "adc.set_trigger_ORmask_tmask_NO_ch1()\n",
    "adc.set_trigger_ANDmask_tmask_NO_ch0()\n",
    "adc.set_trigger_ANDmask_tmask_NO_ch1()\n",
    "# усилитель на оцифровщике\n",
    "adc.set_input_amp_ch0(50)\n",
    "adc.set_input_amp_ch1(50)\n",
    "adc.set_input_offset_ch0(0)\n",
    "adc.set_input_offset_ch1(0)\n",
    "\n",
    "#External clock\n",
    "adc.set_reference_clock(adc.get_clock())\n",
    "\n",
    "# \"Измеритель средних прошедших импульсов\"\n",
    "# Просто усредняет всё по номеру сэмпла.\n",
    "adc_reducer = data_reduce.data_reduce(adc)\n",
    "adc_reducer.filters['Mean Voltage (AC)'] = data_reduce.mean_reducer_noavg(adc, 'Voltage', 0)\n",
    "adc_reducer.filters['S21+'] = data_reduce.mean_reducer_freq(adc, 'Voltage', 0, iq_ro.get_if())\n",
    "adc_reducer.filters['S21-'] = data_reduce.mean_reducer_freq(adc, 'Voltage', 0, -iq_ro.get_if())\n",
    "# Этот измеритель мы как правило используем когда точек не слишком много и все результаты его жизнедеятельности как правило \n",
    "# выглядят как ломаные. Чтобы было красиво, давайте лучше сделаем точки (а кривые потом получим фитованые)\n",
    "adc_reducer.extra_opts['scatter'] = True"
   ]
  },
  {
   "cell_type": "markdown",
   "metadata": {},
   "source": [
    "### Измерение двухтонового спектра импульсами"
   ]
  },
  {
   "cell_type": "code",
   "execution_count": null,
   "metadata": {
    "collapsed": true,
    "scrolled": true
   },
   "outputs": [],
   "source": [
    "#### НЕЖМИ МИНЯ\n",
    "\n",
    "#iq_ro.awg_I.__set_dc(1.0)\n",
    "frequencies = np.arange(5.5e9, 5.9e9, 2e6)\n",
    "iq_ex.set_if(0.0)\n",
    "iq_ex._set_dc(0.1)\n",
    "\n",
    "measurement = sweep.sweep(adc_reducer, (frequencies, iq_ex.set_frequency, 'Second tone frequency'), \n",
    "                          filename='Two-tone mixer passthrough')"
   ]
  },
  {
   "cell_type": "markdown",
   "metadata": {},
   "source": [
    "### Калибровка миксеров"
   ]
  },
  {
   "cell_type": "code",
   "execution_count": 12,
   "metadata": {
    "scrolled": true
   },
   "outputs": [
    {
     "name": "stdout",
     "output_type": "stream",
     "text": [
      "d:\\qtlab\\ReiData\\data/calibrations//IQ-if5e+07-rf5.8e+09-sb--1.pkl\n",
      "d:\\qtlab\\ReiData\\data/calibrations//IQ-if7.5e+07-rf9.6e+09-sb--1.pkl\n"
     ]
    },
    {
     "data": {
      "text/plain": [
       "{'I': (0.34595406626066982+0.48462943803758263j),\n",
       " 'Q': (0.58268760559944899+0.51625968292930402j),\n",
       " 'dc': (0.029742644774281197-0.03227259702338911j),\n",
       " 'num_sidebands': 7,\n",
       " 'score': -8.6298404224870193}"
      ]
     },
     "execution_count": 12,
     "metadata": {},
     "output_type": "execute_result"
    }
   ],
   "source": [
    "#sa.set_ref(0)\n",
    "iq_ex.get_calibration(sa)\n",
    "iq_ro.get_calibration(sa)"
   ]
  },
  {
   "cell_type": "markdown",
   "metadata": {},
   "source": [
    "### Длительность и амплитуда считывающих импульсов"
   ]
  },
  {
   "cell_type": "code",
   "execution_count": 14,
   "metadata": {
    "collapsed": true
   },
   "outputs": [],
   "source": [
    "def set_adc_nop(ro_adc_length):\n",
    "    adc.stop()\n",
    "    signal_size = int(np.ceil(8./7.*(ro_adc_length)*adc.get_clock()))\n",
    "    nop = int( 2**np.ceil(np.log2(signal_size)) )\n",
    "    posttrigger = nop*7/8\n",
    "    \n",
    "    print (nop, type(nop))\n",
    "    adc.set_nop(nop)\n",
    "    adc.set_post_trigger(posttrigger)"
   ]
  },
  {
   "cell_type": "code",
   "execution_count": null,
   "metadata": {
    "collapsed": true
   },
   "outputs": [],
   "source": [
    "adc.stop()"
   ]
  },
  {
   "cell_type": "code",
   "execution_count": 15,
   "metadata": {},
   "outputs": [
    {
     "name": "stdout",
     "output_type": "stream",
     "text": [
      "512 <class 'int'>\n"
     ]
    }
   ],
   "source": [
    " \n",
    "# ro_amplitude = 0.5 Qubit #2 preliminary\n",
    "# ro_amplitude = 0.3 Qubit #3 preliminary\n",
    "ro_dac_amplitude = 0.05\n",
    "ro_dac_length =0.1e-6 # вообще считывающие импульсы такой длины? тогда что такое adc \n",
    "# Ответ: ro_dac_length - это длительность генерируемого прямоугольного импульса\n",
    "# ro_adc_length - это минимальное время, в течении которого мы считываем этот импульс, когда он прошёл через криостат.\n",
    "# В криостате импульс деформируется и становится длинее. Сколько времени хотите его интегрировать, столько и ставьте.\n",
    "# Наверное, имеет смысл сюда поставить на 1-2 времени затухания фотона в резонатор больше, чем ro_dac_length\n",
    "#ro_adc_length = ro_dac_length*3\n",
    "#ro_adc_length=0.8e-6 use it for bench in the end\n",
    "ro_adc_length=0.6e-6  \n",
    "#adc.set_nums(30000)\n",
    "#adc.set_software_nums_multi(1)\n",
    "#set_adc_nop(ro_adc_length)\n",
    "adc.set_nums(1000)\n",
    "set_adc_nop(ro_adc_length)\n",
    "adc.set_nums(100000)\n",
    "awg_tek.run()"
   ]
  },
  {
   "cell_type": "code",
   "execution_count": null,
   "metadata": {
    "collapsed": true,
    "scrolled": true
   },
   "outputs": [],
   "source": [
    "#tomography.set_sequence([tomography.ro_rect(ro_amplitude, ro_dac_length, awg_channels)], awg_channels)\n",
    "plt.figure()\n",
    "plt.plot(np.mean(np.imag(adc.measure()['Voltage']), axis=0))"
   ]
  },
  {
   "cell_type": "code",
   "execution_count": null,
   "metadata": {
    "collapsed": true
   },
   "outputs": [],
   "source": [
    "plt.pcolormesh(np.real(adc.measure()['Voltage']));\n",
    "plt.colorbar()"
   ]
  },
  {
   "cell_type": "code",
   "execution_count": null,
   "metadata": {
    "collapsed": true
   },
   "outputs": [],
   "source": [
    "adc.stop()"
   ]
  },
  {
   "cell_type": "markdown",
   "metadata": {},
   "source": [
    "### Прохождение считывающих испульсов разной амплитуды"
   ]
  },
  {
   "cell_type": "code",
   "execution_count": null,
   "metadata": {
    "collapsed": true
   },
   "outputs": [],
   "source": [
    "def set_pulse_amplitude(x):\n",
    "    awg_tek.set_nop(awg_tek.get_clock()/rep_rate)\n",
    "    pg.set_seq([pg.p('ro_trg', trg_length, pg.rect, 1), pg.p('iq_ro', ro_dac_length, pg.rect, x)])\n",
    "    awg_tek.run()\n",
    "measurement = sweep.sweep(adc_reducer, (np.linspace(0, 0.2, 21), set_pulse_amplitude, 'Readout amplitude'), filename='Readout pulse passthrough')"
   ]
  },
  {
   "cell_type": "code",
   "execution_count": null,
   "metadata": {
    "collapsed": true
   },
   "outputs": [],
   "source": [
    "adc.stop()"
   ]
  },
  {
   "cell_type": "markdown",
   "metadata": {},
   "source": [
    "### Осцилляции Раби"
   ]
  },
  {
   "cell_type": "code",
   "execution_count": 39,
   "metadata": {
    "scrolled": true
   },
   "outputs": [
    {
     "data": {
      "application/vnd.jupyter.widget-view+json": {
       "model_id": "63212cad50ba4920a8d07436d381ec9c",
       "version_major": 2,
       "version_minor": 0
      },
      "text/plain": [
       "A Jupyter Widget"
      ]
     },
     "metadata": {},
     "output_type": "display_data"
    },
    {
     "name": "stdout",
     "output_type": "stream",
     "text": [
      "Started at:  Apr 20 2018 17:32:06\n"
     ]
    },
    {
     "name": "stderr",
     "output_type": "stream",
     "text": [
      "D:\\qtlab_replacement\\instruments\\Tektronix_AWG5014.py:648: ComplexWarning: Casting complex values to real discards the imaginary part\n",
      "  m1[:] = marker[:len(m1)]\n"
     ]
    },
    {
     "name": "stdout",
     "output_type": "stream",
     "text": [
      "\n",
      "Elapsed time: 0 h 1 m 15.55 s\n"
     ]
    },
    {
     "name": "stderr",
     "output_type": "stream",
     "text": [
      "C:\\ProgramData\\Anaconda3\\lib\\site-packages\\matplotlib\\cbook\\deprecation.py:106: MatplotlibDeprecationWarning: Adding an axes using the same arguments as a previous axes currently reuses the earlier instance.  In a future version, a new instance will always be created and returned.  Meanwhile, this warning can be suppressed, and the future behavior ensured, by passing a unique label to each axes instance.\n",
      "  warnings.warn(message, mplDeprecation, stacklevel=1)\n"
     ]
    }
   ],
   "source": [
    "ex_amplitude = 0.8#смотрим на график в S21-phase ?? как жить что частота от этого зависит\n",
    "pause_length = 16e-9#пауза между возб.импульсом и считывающим\n",
    "lengths = np.linspace(0e-6, 100e-9,21)#время наблюдения осцилляций,для фитования частоты достатоно пары периодов\n",
    "readout_begin = np.max(lengths)\n",
    "lo1.set_status(True)\n",
    "def set_ex_length(length):\n",
    "    awg_tek.set_nop(awg_tek.get_clock()/rep_rate)\n",
    "    sequence = [pg.p(None, readout_begin-length), \n",
    "                pg.p('iq_ex', length, pg.rect, ex_amplitude), \n",
    "                pg.p(None, pause_length), \n",
    "                pg.p('ro_trg', trg_length, pg.rect, 1), \n",
    "                pg.p('iq_ro', ro_dac_length, pg.rect, ro_dac_amplitude)]\n",
    "    pg.set_seq(sequence)\n",
    "    awg_tek.run()\n",
    "measurement = sweep.sweep(adc_reducer, (lengths, set_ex_length, 'Rabi pulse length', 's'), filename='Rabi')\n",
    "measurement_fitted, fitted_parameters_rabi = fitting.S21pm_fit(measurement, fitting.exp_sin_fit)\n",
    "annotation = 'Phase: {0:4.4g} rad, Freq: {1:4.4g}, Decay: {2:4.4g} s'.format(fitted_parameters_rabi['phase'], \n",
    "                                                                             fitted_parameters_rabi['freq'], \n",
    "                                                                             fitted_parameters_rabi['decay'])\n",
    "save_pkl.save_pkl({'type':'Rabi'}, measurement_fitted,annotation=annotation)"
   ]
  },
  {
   "cell_type": "code",
   "execution_count": null,
   "metadata": {
    "collapsed": true
   },
   "outputs": [],
   "source": [
    "save_pkl.save_pkl({'type':'Rabi'}, measurement_fitted,annotation=annotation)"
   ]
  },
  {
   "cell_type": "code",
   "execution_count": null,
   "metadata": {
    "collapsed": true
   },
   "outputs": [],
   "source": [
    "Rabi_fr=fitted_parameters_rabi['freq']\n",
    "T_pi=0.5/Rabi_fr\n",
    "T_pi_half=T_pi/2\n",
    "T_pi,T_pi_half"
   ]
  },
  {
   "cell_type": "code",
   "execution_count": null,
   "metadata": {
    "collapsed": true
   },
   "outputs": [],
   "source": [
    "measurement"
   ]
  },
  {
   "cell_type": "code",
   "execution_count": null,
   "metadata": {
    "collapsed": true
   },
   "outputs": [],
   "source": [
    "measurement_fitted"
   ]
  },
  {
   "cell_type": "code",
   "execution_count": null,
   "metadata": {
    "collapsed": true
   },
   "outputs": [],
   "source": [
    "ro_dac_amplitude"
   ]
  },
  {
   "cell_type": "code",
   "execution_count": null,
   "metadata": {
    "collapsed": true
   },
   "outputs": [],
   "source": [
    "det=np.sqrt(4*Rabi_fr**2-Qubits[4]['F01']**2)\n",
    "det"
   ]
  },
  {
   "cell_type": "code",
   "execution_count": null,
   "metadata": {
    "collapsed": true
   },
   "outputs": [],
   "source": [
    "adc.stop()"
   ]
  },
  {
   "cell_type": "code",
   "execution_count": null,
   "metadata": {
    "collapsed": true
   },
   "outputs": [],
   "source": []
  },
  {
   "cell_type": "markdown",
   "metadata": {},
   "source": [
    "### Осцилляции Рамзея"
   ]
  },
  {
   "cell_type": "code",
   "execution_count": null,
   "metadata": {
    "collapsed": true,
    "scrolled": false
   },
   "outputs": [],
   "source": [
    "ex_amplitude = 0.8\n",
    "# pi2_pulse = 7e-9 #Q2\n",
    "pi2_pulse = 16e-9 #Q4\n",
    "#pi2_pulse = T_pi_half #Q4\n",
    "pause_length = 16e-9\n",
    "delays = np.linspace(0e-9, 5000e-9, 101)#последовательность задержек между двумя пи/2 импульсами\n",
    "target_freq_offset = 2e6\n",
    "\n",
    "readout_begin = np.max(delays)+pi2_pulse*2\n",
    "\n",
    "def set_delay(delay):\n",
    "    awg_tek.set_nop(awg_tek.get_clock()/rep_rate)\n",
    "    \n",
    "    sequence = [pg.p(None, readout_begin-pi2_pulse),\n",
    "                pg.p('iq_ex', pi2_pulse, pg.rect, ex_amplitude), \n",
    "                pg.p(None, delay), \n",
    "                pg.p('iq_ex', pi2_pulse, pg.rect, ex_amplitude*np.exp(1j*delay*target_freq_offset*2*np.pi)),#зачем фаза? \n",
    "                pg.p(None, pause_length), \n",
    "                pg.p('ro_trg', trg_length, pg.rect, 1), \n",
    "                pg.p('iq_ro', ro_dac_length, pg.rect, ro_dac_amplitude)]\n",
    "    \n",
    "    pg.set_seq(sequence)\n",
    "    awg_tek.run()\n",
    "measurement = sweep.sweep(adc_reducer, (delays, set_delay, 'Ramsey delay', 's'), filename='Ramsey')\n",
    "#measurement = sweep.sweep(adc_sz, (delays, set_delay, 'Ramsey delay'), filename='Ramsey')\n",
    "measurement_fitted, fitted_parameters = fitting.S21pm_fit(measurement, fitting.exp_sin_fit)\n",
    "annotation = 'Phase: {0:4.4g} rad, Freq: {1:4.4g}, Decay: {2:4.4g} s'.format(fitted_parameters['phase'], \n",
    "                                                                             fitted_parameters['freq'], \n",
    "                                                                             fitted_parameters['decay'])\n",
    "save_pkl.save_pkl({'type':'Ramsey'}, measurement_fitted, annotation=annotation)"
   ]
  },
  {
   "cell_type": "code",
   "execution_count": null,
   "metadata": {
    "collapsed": true,
    "scrolled": true
   },
   "outputs": [],
   "source": [
    "measurement_fitted, fitted_parameters = fitting.S21pm_fit(measurement, fitting.exp_sin_fit)\n",
    "annotation = 'Phase: {0:4.4g} rad, Freq: {1:4.4g}, Decay: {2:4.4g} s'.format(fitted_parameters['phase'], \n",
    "                                                                             fitted_parameters['freq'], \n",
    "                                                                             fitted_parameters['decay'])\n",
    "save_pkl.save_pkl({'type':'Ramsey'}, measurement_fitted, annotation=annotation)"
   ]
  },
  {
   "cell_type": "markdown",
   "metadata": {},
   "source": [
    "### Затухание свободной индукции (T1)"
   ]
  },
  {
   "cell_type": "code",
   "execution_count": null,
   "metadata": {
    "collapsed": true
   },
   "outputs": [],
   "source": [
    "ex_amplitude = 0.2\n",
    "#pi_pulse = 20e-9\n",
    "pause_length = 16e-9"
   ]
  },
  {
   "cell_type": "code",
   "execution_count": null,
   "metadata": {
    "collapsed": true
   },
   "outputs": [],
   "source": [
    "adc.stop()"
   ]
  },
  {
   "cell_type": "code",
   "execution_count": 47,
   "metadata": {},
   "outputs": [
    {
     "data": {
      "application/vnd.jupyter.widget-view+json": {
       "model_id": "68feb0d9722f43b5815ed380423e13e8",
       "version_major": 2,
       "version_minor": 0
      },
      "text/plain": [
       "A Jupyter Widget"
      ]
     },
     "metadata": {},
     "output_type": "display_data"
    },
    {
     "name": "stdout",
     "output_type": "stream",
     "text": [
      "Started at:  Apr 20 2018 17:44:34\n"
     ]
    },
    {
     "name": "stderr",
     "output_type": "stream",
     "text": [
      "D:\\qtlab_replacement\\instruments\\Tektronix_AWG5014.py:648: ComplexWarning: Casting complex values to real discards the imaginary part\n",
      "  m1[:] = marker[:len(m1)]\n",
      "C:\\ProgramData\\Anaconda3\\lib\\site-packages\\matplotlib\\cbook\\deprecation.py:106: MatplotlibDeprecationWarning: Adding an axes using the same arguments as a previous axes currently reuses the earlier instance.  In a future version, a new instance will always be created and returned.  Meanwhile, this warning can be suppressed, and the future behavior ensured, by passing a unique label to each axes instance.\n",
      "  warnings.warn(message, mplDeprecation, stacklevel=1)\n"
     ]
    },
    {
     "ename": "KeyboardInterrupt",
     "evalue": "",
     "output_type": "error",
     "traceback": [
      "\u001b[1;31m---------------------------------------------------------------------------\u001b[0m",
      "\u001b[1;31mKeyboardInterrupt\u001b[0m                         Traceback (most recent call last)",
      "\u001b[1;32m<ipython-input-47-1a17385b1cbb>\u001b[0m in \u001b[0;36m<module>\u001b[1;34m()\u001b[0m\n\u001b[0;32m     17\u001b[0m     \u001b[0mpg\u001b[0m\u001b[1;33m.\u001b[0m\u001b[0mset_seq\u001b[0m\u001b[1;33m(\u001b[0m\u001b[0msequence\u001b[0m\u001b[1;33m)\u001b[0m\u001b[1;33m\u001b[0m\u001b[0m\n\u001b[0;32m     18\u001b[0m     \u001b[0mawg_tek\u001b[0m\u001b[1;33m.\u001b[0m\u001b[0mrun\u001b[0m\u001b[1;33m(\u001b[0m\u001b[1;33m)\u001b[0m\u001b[1;33m\u001b[0m\u001b[0m\n\u001b[1;32m---> 19\u001b[1;33m \u001b[0mmeasurement\u001b[0m \u001b[1;33m=\u001b[0m \u001b[0msweep\u001b[0m\u001b[1;33m.\u001b[0m\u001b[0msweep\u001b[0m\u001b[1;33m(\u001b[0m\u001b[0madc_reducer\u001b[0m\u001b[1;33m,\u001b[0m \u001b[1;33m(\u001b[0m\u001b[0mdelays\u001b[0m\u001b[1;33m,\u001b[0m \u001b[0mset_delay\u001b[0m\u001b[1;33m,\u001b[0m \u001b[1;34m'delay'\u001b[0m\u001b[1;33m)\u001b[0m\u001b[1;33m,\u001b[0m \u001b[0mfilename\u001b[0m\u001b[1;33m=\u001b[0m\u001b[1;34m'Decay'\u001b[0m\u001b[1;33m)\u001b[0m\u001b[1;33m\u001b[0m\u001b[0m\n\u001b[0m\u001b[0;32m     20\u001b[0m \u001b[1;33m\u001b[0m\u001b[0m\n\u001b[0;32m     21\u001b[0m \u001b[0mmeasurement_fitted\u001b[0m\u001b[1;33m,\u001b[0m \u001b[0mfitted_parameters\u001b[0m \u001b[1;33m=\u001b[0m \u001b[0mfitting\u001b[0m\u001b[1;33m.\u001b[0m\u001b[0mS21pm_fit\u001b[0m\u001b[1;33m(\u001b[0m\u001b[0mmeasurement\u001b[0m\u001b[1;33m,\u001b[0m \u001b[0mfitting\u001b[0m\u001b[1;33m.\u001b[0m\u001b[0mexp_fit\u001b[0m\u001b[1;33m)\u001b[0m\u001b[1;33m\u001b[0m\u001b[0m\n",
      "\u001b[1;32mD:\\qtlab_replacement\\scripts\\sweep.py\u001b[0m in \u001b[0;36msweep\u001b[1;34m(measurer, filename, root_dir, plot, header, output, save, time_war_label, cycle_save_mode, *params)\u001b[0m\n\u001b[0;32m    159\u001b[0m                         \u001b[1;32mfor\u001b[0m \u001b[0mval\u001b[0m\u001b[1;33m,\u001b[0m \u001b[0msetter\u001b[0m\u001b[1;33m,\u001b[0m \u001b[0mchanged\u001b[0m \u001b[1;32min\u001b[0m \u001b[0mzip\u001b[0m\u001b[1;33m(\u001b[0m\u001b[0mvals\u001b[0m\u001b[1;33m,\u001b[0m \u001b[0msweep_dim_setters\u001b[0m\u001b[1;33m,\u001b[0m \u001b[0mchanged_vals\u001b[0m\u001b[1;33m)\u001b[0m\u001b[1;33m:\u001b[0m\u001b[1;33m\u001b[0m\u001b[0m\n\u001b[0;32m    160\u001b[0m                                 \u001b[1;32mif\u001b[0m \u001b[0mchanged\u001b[0m\u001b[1;33m:\u001b[0m\u001b[1;33m\u001b[0m\u001b[0m\n\u001b[1;32m--> 161\u001b[1;33m                                         \u001b[0msetter\u001b[0m\u001b[1;33m(\u001b[0m\u001b[0mval\u001b[0m\u001b[1;33m)\u001b[0m\u001b[1;33m\u001b[0m\u001b[0m\n\u001b[0m\u001b[0;32m    162\u001b[0m                         \u001b[1;31m#measuring\u001b[0m\u001b[1;33m\u001b[0m\u001b[1;33m\u001b[0m\u001b[0m\n\u001b[0;32m    163\u001b[0m                         \u001b[0mmpoint\u001b[0m \u001b[1;33m=\u001b[0m \u001b[0mmeasurer\u001b[0m\u001b[1;33m.\u001b[0m\u001b[0mmeasure\u001b[0m\u001b[1;33m(\u001b[0m\u001b[1;33m)\u001b[0m\u001b[1;33m\u001b[0m\u001b[0m\n",
      "\u001b[1;32m<ipython-input-47-1a17385b1cbb>\u001b[0m in \u001b[0;36mset_delay\u001b[1;34m(delay)\u001b[0m\n\u001b[0;32m     15\u001b[0m                 pg.p('iq_ro', ro_dac_length, pg.rect, ro_dac_amplitude)]\n\u001b[0;32m     16\u001b[0m \u001b[1;33m\u001b[0m\u001b[0m\n\u001b[1;32m---> 17\u001b[1;33m     \u001b[0mpg\u001b[0m\u001b[1;33m.\u001b[0m\u001b[0mset_seq\u001b[0m\u001b[1;33m(\u001b[0m\u001b[0msequence\u001b[0m\u001b[1;33m)\u001b[0m\u001b[1;33m\u001b[0m\u001b[0m\n\u001b[0m\u001b[0;32m     18\u001b[0m     \u001b[0mawg_tek\u001b[0m\u001b[1;33m.\u001b[0m\u001b[0mrun\u001b[0m\u001b[1;33m(\u001b[0m\u001b[1;33m)\u001b[0m\u001b[1;33m\u001b[0m\u001b[0m\n\u001b[0;32m     19\u001b[0m \u001b[0mmeasurement\u001b[0m \u001b[1;33m=\u001b[0m \u001b[0msweep\u001b[0m\u001b[1;33m.\u001b[0m\u001b[0msweep\u001b[0m\u001b[1;33m(\u001b[0m\u001b[0madc_reducer\u001b[0m\u001b[1;33m,\u001b[0m \u001b[1;33m(\u001b[0m\u001b[0mdelays\u001b[0m\u001b[1;33m,\u001b[0m \u001b[0mset_delay\u001b[0m\u001b[1;33m,\u001b[0m \u001b[1;34m'delay'\u001b[0m\u001b[1;33m)\u001b[0m\u001b[1;33m,\u001b[0m \u001b[0mfilename\u001b[0m\u001b[1;33m=\u001b[0m\u001b[1;34m'Decay'\u001b[0m\u001b[1;33m)\u001b[0m\u001b[1;33m\u001b[0m\u001b[0m\n",
      "\u001b[1;32mD:\\qtlab_replacement\\scripts\\tomography.py\u001b[0m in \u001b[0;36mset_seq\u001b[1;34m(self, seq, force)\u001b[0m\n\u001b[0;32m     88\u001b[0m                                 \u001b[0mpulse_shape\u001b[0m\u001b[1;33m[\u001b[0m\u001b[0mchannel\u001b[0m\u001b[1;33m]\u001b[0m \u001b[1;33m=\u001b[0m \u001b[0mtmp\u001b[0m\u001b[1;33m\u001b[0m\u001b[0m\n\u001b[0;32m     89\u001b[0m \u001b[1;33m\u001b[0m\u001b[0m\n\u001b[1;32m---> 90\u001b[1;33m                         \u001b[0mchannel_device\u001b[0m\u001b[1;33m.\u001b[0m\u001b[0mset_waveform\u001b[0m\u001b[1;33m(\u001b[0m\u001b[0mpulse_shape\u001b[0m\u001b[1;33m[\u001b[0m\u001b[0mchannel\u001b[0m\u001b[1;33m]\u001b[0m\u001b[1;33m)\u001b[0m\u001b[1;33m\u001b[0m\u001b[0m\n\u001b[0m\u001b[0;32m     91\u001b[0m \u001b[1;33m\u001b[0m\u001b[0m\n\u001b[0;32m     92\u001b[0m \u001b[1;32mclass\u001b[0m \u001b[0msz_measurer\u001b[0m\u001b[1;33m:\u001b[0m\u001b[1;33m\u001b[0m\u001b[0m\n",
      "\u001b[1;32mD:\\qtlab_replacement\\scripts\\awg_digital.py\u001b[0m in \u001b[0;36mset_waveform\u001b[1;34m(self, waveform)\u001b[0m\n\u001b[0;32m     23\u001b[0m \u001b[1;33m\u001b[0m\u001b[0m\n\u001b[0;32m     24\u001b[0m         \u001b[1;32mdef\u001b[0m \u001b[0mset_waveform\u001b[0m\u001b[1;33m(\u001b[0m\u001b[0mself\u001b[0m\u001b[1;33m,\u001b[0m \u001b[0mwaveform\u001b[0m\u001b[1;33m)\u001b[0m\u001b[1;33m:\u001b[0m\u001b[1;33m\u001b[0m\u001b[0m\n\u001b[1;32m---> 25\u001b[1;33m                 \u001b[0mself\u001b[0m\u001b[1;33m.\u001b[0m\u001b[0mawg\u001b[0m\u001b[1;33m.\u001b[0m\u001b[0mset_digital\u001b[0m\u001b[1;33m(\u001b[0m\u001b[0mwaveform\u001b[0m\u001b[1;33m,\u001b[0m \u001b[0mchannel\u001b[0m\u001b[1;33m=\u001b[0m\u001b[0mself\u001b[0m\u001b[1;33m.\u001b[0m\u001b[0mchannel\u001b[0m\u001b[1;33m)\u001b[0m\u001b[1;33m\u001b[0m\u001b[0m\n\u001b[0m",
      "\u001b[1;32mD:\\qtlab_replacement\\instruments\\instrument.py\u001b[0m in \u001b[0;36m<lambda>\u001b[1;34m(val, **lopts)\u001b[0m\n\u001b[0;32m    197\u001b[0m \u001b[1;33m\u001b[0m\u001b[0m\n\u001b[0;32m    198\u001b[0m         \u001b[1;32mif\u001b[0m \u001b[0moptions\u001b[0m\u001b[1;33m[\u001b[0m\u001b[1;34m'flags'\u001b[0m\u001b[1;33m]\u001b[0m \u001b[1;33m&\u001b[0m \u001b[0mInstrument\u001b[0m\u001b[1;33m.\u001b[0m\u001b[0mFLAG_SET\u001b[0m\u001b[1;33m:\u001b[0m\u001b[1;33m\u001b[0m\u001b[0m\n\u001b[1;32m--> 199\u001b[1;33m             \u001b[0mfunc\u001b[0m \u001b[1;33m=\u001b[0m \u001b[1;32mlambda\u001b[0m \u001b[0mval\u001b[0m\u001b[1;33m,\u001b[0m \u001b[1;33m**\u001b[0m\u001b[0mlopts\u001b[0m\u001b[1;33m:\u001b[0m \u001b[0mself\u001b[0m\u001b[1;33m.\u001b[0m\u001b[0mset\u001b[0m\u001b[1;33m(\u001b[0m\u001b[0mname\u001b[0m\u001b[1;33m,\u001b[0m \u001b[0mval\u001b[0m\u001b[1;33m,\u001b[0m \u001b[1;33m**\u001b[0m\u001b[0mlopts\u001b[0m\u001b[1;33m)\u001b[0m\u001b[1;33m\u001b[0m\u001b[0m\n\u001b[0m\u001b[0;32m    200\u001b[0m \u001b[1;33m\u001b[0m\u001b[0m\n\u001b[0;32m    201\u001b[0m             \u001b[0mfunc\u001b[0m\u001b[1;33m.\u001b[0m\u001b[0m__doc__\u001b[0m \u001b[1;33m=\u001b[0m \u001b[1;34m'Set variable %s'\u001b[0m \u001b[1;33m%\u001b[0m \u001b[0mname\u001b[0m\u001b[1;33m\u001b[0m\u001b[0m\n",
      "\u001b[1;32mD:\\qtlab_replacement\\instruments\\instrument.py\u001b[0m in \u001b[0;36mset\u001b[1;34m(self, name, value, fast, **kwargs)\u001b[0m\n\u001b[0;32m    698\u001b[0m                     \u001b[0mresult\u001b[0m \u001b[1;33m=\u001b[0m \u001b[1;32mFalse\u001b[0m\u001b[1;33m\u001b[0m\u001b[0m\n\u001b[0;32m    699\u001b[0m         \u001b[1;32melse\u001b[0m\u001b[1;33m:\u001b[0m\u001b[1;33m\u001b[0m\u001b[0m\n\u001b[1;32m--> 700\u001b[1;33m             \u001b[0mval\u001b[0m \u001b[1;33m=\u001b[0m \u001b[0mself\u001b[0m\u001b[1;33m.\u001b[0m\u001b[0m_set_value\u001b[0m\u001b[1;33m(\u001b[0m\u001b[0mname\u001b[0m\u001b[1;33m,\u001b[0m \u001b[0mvalue\u001b[0m\u001b[1;33m,\u001b[0m \u001b[1;33m**\u001b[0m\u001b[0mkwargs\u001b[0m\u001b[1;33m)\u001b[0m\u001b[1;33m\u001b[0m\u001b[0m\n\u001b[0m\u001b[0;32m    701\u001b[0m             \u001b[1;32mif\u001b[0m \u001b[0mval\u001b[0m \u001b[1;32mis\u001b[0m \u001b[1;32mnot\u001b[0m \u001b[1;32mNone\u001b[0m\u001b[1;33m:\u001b[0m\u001b[1;33m\u001b[0m\u001b[0m\n\u001b[0;32m    702\u001b[0m                 \u001b[0mchanged\u001b[0m\u001b[1;33m[\u001b[0m\u001b[0mname\u001b[0m\u001b[1;33m]\u001b[0m \u001b[1;33m=\u001b[0m \u001b[0mval\u001b[0m\u001b[1;33m\u001b[0m\u001b[0m\n",
      "\u001b[1;32mD:\\qtlab_replacement\\instruments\\instrument.py\u001b[0m in \u001b[0;36m_set_value\u001b[1;34m(self, name, value, **kwargs)\u001b[0m\n\u001b[0;32m    657\u001b[0m \u001b[1;33m\u001b[0m\u001b[0m\n\u001b[0;32m    658\u001b[0m         \u001b[0mfunc\u001b[0m \u001b[1;33m=\u001b[0m \u001b[0mp\u001b[0m\u001b[1;33m[\u001b[0m\u001b[1;34m'set_func'\u001b[0m\u001b[1;33m]\u001b[0m\u001b[1;33m\u001b[0m\u001b[0m\n\u001b[1;32m--> 659\u001b[1;33m         \u001b[0mret\u001b[0m \u001b[1;33m=\u001b[0m \u001b[0mfunc\u001b[0m\u001b[1;33m(\u001b[0m\u001b[0mvalue\u001b[0m\u001b[1;33m,\u001b[0m \u001b[1;33m**\u001b[0m\u001b[0mkwargs\u001b[0m\u001b[1;33m)\u001b[0m\u001b[1;33m\u001b[0m\u001b[0m\n\u001b[0m\u001b[0;32m    660\u001b[0m \u001b[1;33m\u001b[0m\u001b[0m\n\u001b[0;32m    661\u001b[0m         \u001b[1;32mif\u001b[0m \u001b[0mp\u001b[0m\u001b[1;33m[\u001b[0m\u001b[1;34m'flags'\u001b[0m\u001b[1;33m]\u001b[0m \u001b[1;33m&\u001b[0m \u001b[0mself\u001b[0m\u001b[1;33m.\u001b[0m\u001b[0mFLAG_GET_AFTER_SET\u001b[0m\u001b[1;33m:\u001b[0m\u001b[1;33m\u001b[0m\u001b[0m\n",
      "\u001b[1;32mD:\\qtlab_replacement\\instruments\\Tektronix_AWG5014.py\u001b[0m in \u001b[0;36mdo_set_digital\u001b[1;34m(self, marker, channel)\u001b[0m\n\u001b[0;32m    648\u001b[0m                         \u001b[0mm1\u001b[0m\u001b[1;33m[\u001b[0m\u001b[1;33m:\u001b[0m\u001b[1;33m]\u001b[0m \u001b[1;33m=\u001b[0m \u001b[0mmarker\u001b[0m\u001b[1;33m[\u001b[0m\u001b[1;33m:\u001b[0m\u001b[0mlen\u001b[0m\u001b[1;33m(\u001b[0m\u001b[0mm1\u001b[0m\u001b[1;33m)\u001b[0m\u001b[1;33m]\u001b[0m\u001b[1;33m\u001b[0m\u001b[0m\n\u001b[0;32m    649\u001b[0m \u001b[1;33m\u001b[0m\u001b[0m\n\u001b[1;32m--> 650\u001b[1;33m                 \u001b[1;32mif\u001b[0m \u001b[1;32mnot\u001b[0m \u001b[1;33m(\u001b[0m\u001b[0mself\u001b[0m\u001b[1;33m.\u001b[0m\u001b[0m_markers\u001b[0m\u001b[1;33m[\u001b[0m\u001b[1;33m(\u001b[0m\u001b[0mchannel\u001b[0m\u001b[1;33m-\u001b[0m\u001b[1;36m1\u001b[0m\u001b[1;33m+\u001b[0m\u001b[1;36m4\u001b[0m\u001b[1;33m)\u001b[0m\u001b[1;33m%\u001b[0m\u001b[1;36m8\u001b[0m\u001b[1;33m]\u001b[0m \u001b[1;32mis\u001b[0m \u001b[1;32mNone\u001b[0m\u001b[1;33m)\u001b[0m\u001b[1;33m:\u001b[0m\u001b[1;33m\u001b[0m\u001b[0m\n\u001b[0m\u001b[0;32m    651\u001b[0m                         \u001b[1;32mif\u001b[0m \u001b[0mlen\u001b[0m\u001b[1;33m(\u001b[0m\u001b[0mself\u001b[0m\u001b[1;33m.\u001b[0m\u001b[0m_markers\u001b[0m\u001b[1;33m[\u001b[0m\u001b[1;33m(\u001b[0m\u001b[0mchannel\u001b[0m\u001b[1;33m-\u001b[0m\u001b[1;36m1\u001b[0m\u001b[1;33m+\u001b[0m\u001b[1;36m4\u001b[0m\u001b[1;33m)\u001b[0m\u001b[1;33m%\u001b[0m\u001b[1;36m8\u001b[0m\u001b[1;33m]\u001b[0m\u001b[1;33m)\u001b[0m\u001b[1;33m<\u001b[0m\u001b[0mlen\u001b[0m\u001b[1;33m(\u001b[0m\u001b[0mm2\u001b[0m\u001b[1;33m)\u001b[0m\u001b[1;33m:\u001b[0m\u001b[1;33m\u001b[0m\u001b[0m\n\u001b[0;32m    652\u001b[0m                                 \u001b[0mm2\u001b[0m\u001b[1;33m[\u001b[0m\u001b[1;33m:\u001b[0m\u001b[0mlen\u001b[0m\u001b[1;33m(\u001b[0m\u001b[0mself\u001b[0m\u001b[1;33m.\u001b[0m\u001b[0m_markers\u001b[0m\u001b[1;33m[\u001b[0m\u001b[1;33m(\u001b[0m\u001b[0mchannel\u001b[0m\u001b[1;33m-\u001b[0m\u001b[1;36m1\u001b[0m\u001b[1;33m+\u001b[0m\u001b[1;36m4\u001b[0m\u001b[1;33m)\u001b[0m\u001b[1;33m%\u001b[0m\u001b[1;36m8\u001b[0m\u001b[1;33m]\u001b[0m\u001b[1;33m)\u001b[0m\u001b[1;33m]\u001b[0m \u001b[1;33m=\u001b[0m \u001b[0mself\u001b[0m\u001b[1;33m.\u001b[0m\u001b[0m_markers\u001b[0m\u001b[1;33m[\u001b[0m\u001b[1;33m(\u001b[0m\u001b[0mchannel\u001b[0m\u001b[1;33m-\u001b[0m\u001b[1;36m1\u001b[0m\u001b[1;33m+\u001b[0m\u001b[1;36m4\u001b[0m\u001b[1;33m)\u001b[0m\u001b[1;33m%\u001b[0m\u001b[1;36m8\u001b[0m\u001b[1;33m]\u001b[0m\u001b[1;33m\u001b[0m\u001b[0m\n",
      "\u001b[1;31mKeyboardInterrupt\u001b[0m: "
     ]
    }
   ],
   "source": [
    "pi_pulse = 32e-9\n",
    "delays = np.linspace(0e-6,15e-6, 71)#серия задержек после возбуждения перед считыванием состояния\n",
    "readout_begin = np.max(delays)+pi_pulse#зачем он тут прибавляет, а потом в коде вычитает? \n",
    "# раньше смысл был в том, чтобы менять длительность возбуждающей последовательности, не сдвигая считывание. То есть\n",
    "# дополнительные импульсы приделываются до считывания (котороене двигается), а не считывание приделывается к концу.\n",
    "# Сейчас это ещё раз реализовано в коде, которые делает последовательности импульсов (pg.set_seq). Если вдруг у нас будет\n",
    "# много считываний, то там тоже надо будет мутить какую-нибудь синхронизацию.\n",
    "def set_delay(delay):\n",
    "    awg_tek.set_nop(awg_tek.get_clock()/rep_rate)\n",
    "    \n",
    "    sequence = [pg.p(None, readout_begin-pi_pulse),\n",
    "                pg.p('iq_ex', pi_pulse, pg.rect, ex_amplitude), \n",
    "                pg.p(None, delay), \n",
    "                pg.p('ro_trg', trg_length, pg.rect, 1), \n",
    "                pg.p('iq_ro', ro_dac_length, pg.rect, ro_dac_amplitude)]\n",
    "    \n",
    "    pg.set_seq(sequence)\n",
    "    awg_tek.run()\n",
    "measurement = sweep.sweep(adc_reducer, (delays, set_delay, 'delay'), filename='Decay')\n",
    "\n",
    "measurement_fitted, fitted_parameters = fitting.S21pm_fit(measurement, fitting.exp_fit)\n",
    "#save_pkl.save_pkl({'type':'Decay'}, measurement_fitted)\n",
    "annotation = 'Decay: {0:4.6g} s'.format(fitted_parameters['decay'])\n",
    "save_pkl.save_pkl({'type':'Decay'}, measurement_fitted, annotation=annotation)"
   ]
  },
  {
   "cell_type": "code",
   "execution_count": null,
   "metadata": {
    "collapsed": true
   },
   "outputs": [],
   "source": [
    "annotation = 'Decay: {0:4.6g} s'.format(fitted_parameters['decay'])\n",
    "save_pkl.save_pkl({'type':'Decay'}, measurement_fitted, annotation=annotation)"
   ]
  },
  {
   "cell_type": "markdown",
   "metadata": {},
   "source": [
    "# Double readout"
   ]
  },
  {
   "cell_type": "code",
   "execution_count": null,
   "metadata": {
    "collapsed": true
   },
   "outputs": [],
   "source": [
    "adc.set_nums(10000)\n",
    "\n",
    "sweep_number=5\n",
    "result=[]\n",
    "for swp in range(sweep_number):\n",
    "    awg_tek.set_nop(awg_tek.get_clock()/rep_rate)\n",
    "    \n",
    "    sequence = [pg.p('ro_trg', trg_length, pg.rect, 1),\n",
    "                pg.p('iq_ro', ro_dac_length, pg.rect, ro_dac_amplitude)]\n",
    "    pg.set_seq(sequence)\n",
    "    awg_tek.run()\n",
    "    measurement=adc.measure()\n",
    "    #result.append(measurement)\n",
    "    with open('data.pickle{0}'.format(swp), 'wb') as f:\n",
    "        pickle.dump(measurement, f)\n",
    "   # measurement.clear()\n",
    "    print('{0} done'.format(swp))\n",
    "    \n",
    "\n"
   ]
  },
  {
   "cell_type": "code",
   "execution_count": null,
   "metadata": {
    "collapsed": true
   },
   "outputs": [],
   "source": [
    "#ex_amplitude = 0.2\n",
    "#pi_pulse = 20e-9\n",
    "#pause_length = 16e-9\n",
    "#pi_pulse=20e-9\n",
    "adc.set_nums(10000)\n",
    "\n",
    "\n",
    "sweep_number=5\n",
    "result=[]\n",
    "for swp in range(sweep_number):\n",
    "    awg_tek.set_nop(awg_tek.get_clock()/rep_rate)\n",
    "    \n",
    "    sequence = [pg.p('iq_ex', length, pg.gauss_hd, 0, amp, sigma, alpha),\n",
    "                pg.p('iq_ex', length, pg.gauss_hd, 0, amp, sigma, alpha),\n",
    "                pg.p(None,pause_length),\n",
    "                pg.p('ro_trg', trg_length, pg.rect, 1),\n",
    "                pg.p('iq_ro', ro_dac_length, pg.rect, ro_dac_amplitude)]\n",
    "    pg.set_seq(sequence)\n",
    "    awg_tek.run()\n",
    "    measurement=adc.measure()\n",
    "   # result.append(measurement)\n",
    "    with open('data1gaus.pickle{0}'.format(swp), 'wb') as f:\n",
    "        pickle.dump(measurement, f)\n",
    "    measurement.clear()\n",
    "    print('{0} done'.format(swp))\n",
    "    "
   ]
  },
  {
   "cell_type": "code",
   "execution_count": null,
   "metadata": {
    "collapsed": true
   },
   "outputs": [],
   "source": [
    "imp.reload(sweep)\n",
    "imp.reload(save_pkl)\n",
    "sweep_number=100\n",
    "adc.set_nums(500)\n",
    "measurment_data_pre=[]\n",
    "for swp in range(sweep_number):\n",
    "    delays = np.linspace(0e-6, 10e-6, 51)\n",
    "    def set_delay(delay):\n",
    "        awg_tek.set_nop(awg_tek.get_clock()/rep_rate)\n",
    "    \n",
    "        sequence = [pg.p('ro_trg', trg_length, pg.rect, 1),\n",
    "                    pg.p('iq_ro', ro_dac_length, pg.rect, ro_dac_amplitude),\n",
    "                    pg.p(None, delay),\n",
    "                    pg.p('iq_ro', ro_dac_length, pg.rect, ro_dac_amplitude)\n",
    "                   ]\n",
    "        pg.set_seq(sequence)\n",
    "        awg_tek.run()\n",
    "    measurement_pre = sweep.sweep(adc, (delays, set_delay, 'delay'), filename='Decay{0}'.format(swp),time_war_label=False)\n",
    "    measurement_pre.clear()\n",
    "   \n",
    "    \n",
    " \n"
   ]
  },
  {
   "cell_type": "code",
   "execution_count": null,
   "metadata": {
    "collapsed": true
   },
   "outputs": [],
   "source": [
    "for file_name in range (swp):\n",
    "    if (file_name==0):\n",
    "        with open(r'D:\\qtlab\\ReiData\\data\\2017-11-03\\Voltage Decay{0}.pkl'.format(file_name),'rb') as f:\n",
    "            data=pkl.load(f,encoding='latin1')\n",
    "        Voltage_avg=[[np.mean(data[1]['Voltage'][2][i][j]) for i in range(len(data[1]['Voltage'][2][0][1]))]\\\n",
    "                     for j in range(len(data[1]['Voltage'][2][0]))]\n",
    "        print (Voltage_avg_amp[0])\n",
    "        print (file_name)\n",
    "    else:\n",
    "        with open(r'D:\\qtlab\\ReiData\\data\\2017-11-03\\Voltage Decay{0}.pkl'.format(file_name),'rb') as f:\n",
    "            data_r=pkl.load(f,encoding='latin1')\n",
    "        Voltage_avg=[(np.real(data_r[1]['Voltage'][2][vnum])+np.real(Voltage_avg[vnum]))/2+\\\n",
    "                      (np.imag(data_r[1]['Voltage'][2][vnum])+np.imag(Voltage_avg[vnum]))/2 for vnum \\\n",
    "                      in range(len(data_r[1]['Voltage'][2]))]\n",
    "        print (data_r[1]['Voltage'][2])\n",
    "        print (Voltage_avg[0])\n",
    "        print (file_name)\n",
    "                      "
   ]
  },
  {
   "cell_type": "code",
   "execution_count": null,
   "metadata": {
    "collapsed": true,
    "scrolled": true
   },
   "outputs": [],
   "source": [
    "sweep_num=80\n",
    "adc.set_nums(500)\n",
    "delays = np.linspace(0e-6, 10e-6, 51)\n",
    "def set_delay(delay):\n",
    "    awg_tek.set_nop(awg_tek.get_clock()/rep_rate)\n",
    "    \n",
    "    sequence = [pg.p(None, delay)\n",
    "                pg.p('iq_ex', pi_pulse, pg.rect, ex_amplitude),\n",
    "                pg.p('ro_trg', trg_length, pg.rect, 1),\n",
    "                pg.p('iq_ro', ro_dac_length, pg.rect, ro_dac_amplitude)]\n",
    "    pg.set_seq(sequence)\n",
    "    awg_tek.run()\n",
    "measurement_pre = sweep.sweep(adc, (delays, set_delay, 'delay'), filename='Decay')\n",
    "voltage_amp_pre_ONES=[np.sqrt(np.real(measurement_pre['Voltage'][2][1][i])**2+np.imag(measurement_pre['Voltage'][2][1][i])**2) for i in \\\n",
    "             range(len(measurement_pre['Voltage'][2][1]))]\n",
    "voltage_phase_pre_ONES=[np.arctan(np.real(measurement_pre['Voltage'][2][1][i])/np.imag(measurement_pre['Voltage'][2][1][i])) for i in \\\n",
    "             range(len(measurement_pre['Voltage'][2][1]))] \n",
    "plt.plot(voltage_amp_pre_ONES)\n",
    "plt.show()"
   ]
  },
  {
   "cell_type": "code",
   "execution_count": null,
   "metadata": {
    "collapsed": true
   },
   "outputs": [],
   "source": [
    "import matplotlib.patches as mpatches"
   ]
  },
  {
   "cell_type": "code",
   "execution_count": null,
   "metadata": {
    "collapsed": true
   },
   "outputs": [],
   "source": [
    "non_avg_ones=[[voltage_amp_pre_ONES[i][j] for i in range(len(voltage_amp_pre_ONES))]\\\n",
    "              for j in range (len(voltage_amp_pre_ONES[0]))]\n",
    "avg_ones=[np.mean(ones) for ones in non_avg_ones ]\n",
    "non_avg_zeros=[[voltage_amp_pre_ZEROS[i][j] for i in range(len(voltage_amp_pre_ZEROS))]\\\n",
    "              for j in range (len(voltage_amp_pre_ZEROS[0]))]\n",
    "avg_zeros=[np.mean(zeros) for zeros in non_avg_zeros ]\n",
    "avg_ones_n=[np.mean(ones)-np.mean(avg_ones) for ones in non_avg_ones ]\n",
    "avg_zeros_n=[np.mean(zeros)-np.mean(avg_zeros) for zeros in non_avg_zeros ]\n",
    "plt.plot(avg_ones_n)\n",
    "plt.plot(avg_zeros_n)\n",
    "blue_patch = mpatches.Patch(color='blue', label='|1>')\n",
    "red_patch = mpatches.Patch(color='orange', label='|0>')\n",
    "plt.legend(handles=[blue_patch,red_patch])\n",
    "plt.show()"
   ]
  },
  {
   "cell_type": "code",
   "execution_count": null,
   "metadata": {
    "collapsed": true
   },
   "outputs": [],
   "source": [
    "delays = np.linspace(0e-6, 1.5e-6, 51)\n",
    "def set_delay(delay):\n",
    "    awg_tek.set_nop(awg_tek.get_clock()/rep_rate)\n",
    "    \n",
    "    sequence = [pg.p('ro_trg', trg_length, pg.rect, 1),\n",
    "                pg.p('iq_ro', ro_dac_length, pg.rect, ro_dac_amplitude),\n",
    "                pg.p(None, delay), \n",
    "                pg.p('ro_trg', trg_length, pg.rect, 1),\n",
    "                pg.p('iq_ro', ro_dac_length, pg.rect, ro_dac_amplitude) ]\n",
    "    pg.set_seq(sequence)\n",
    "    awg_tek.run()\n",
    "measurement_post = sweep.sweep(adc_reducer, (delays, set_delay, 'delay'), filename='Decay')"
   ]
  },
  {
   "cell_type": "code",
   "execution_count": null,
   "metadata": {
    "collapsed": true
   },
   "outputs": [],
   "source": [
    "voltage_amp_post=[np.sqrt(np.real(measurement_post['Voltage'][2][1][i])**2+np.imag(measurement_post['Voltage'][2][1][i])**2) for i in \\\n",
    "             range(len(measurement_post['Voltage'][2][1]))]\n",
    "voltage_phase_post=[np.arctan(np.real(measurement_post['Voltage'][2][1][i])/np.imag(measurement_post['Voltage'][2][1][i])) for i in \\\n",
    "             range(len(measurement_post['Voltage'][2][1]))]"
   ]
  },
  {
   "cell_type": "code",
   "execution_count": 58,
   "metadata": {},
   "outputs": [
    {
     "data": {
      "text/plain": [
       "{'Mean Voltage (AC)': (('Rabi pulse length', 'Time'),\n",
       "  (array([  0.00000000e+00,   5.00000000e-09,   1.00000000e-08,\n",
       "            1.50000000e-08,   2.00000000e-08,   2.50000000e-08,\n",
       "            3.00000000e-08,   3.50000000e-08,   4.00000000e-08,\n",
       "            4.50000000e-08,   5.00000000e-08,   5.50000000e-08,\n",
       "            6.00000000e-08,   6.50000000e-08,   7.00000000e-08,\n",
       "            7.50000000e-08,   8.00000000e-08,   8.50000000e-08,\n",
       "            9.00000000e-08,   9.50000000e-08,   1.00000000e-07]),\n",
       "   array([  0.00000000e+00,   2.00000000e-09,   4.00000000e-09, ...,\n",
       "            4.09000000e-06,   4.09200000e-06,   4.09400000e-06])),\n",
       "  array([[-0.00560815-0.00160566j, -0.00740815-0.00180566j,\n",
       "          -0.00700815-0.00020566j, ...,  0.00469185+0.00689434j,\n",
       "          -0.00570815+0.00129434j,  0.00559185-0.00610566j],\n",
       "         [ 0.00694570-0.01156499j,  0.00444570+0.00583501j,\n",
       "          -0.01035430+0.00333501j, ...,  0.00584570+0.00763501j,\n",
       "           0.00484570-0.00056499j, -0.00485430+0.00383501j],\n",
       "         [ 0.00123145+0.00069336j,  0.00413145-0.00740664j,\n",
       "          -0.01926855-0.00670664j, ..., -0.00256855+0.00509336j,\n",
       "          -0.00476855+0.00279336j,  0.00173145+0.00309336j],\n",
       "         ..., \n",
       "         [ 0.01177793+0.01815913j, -0.00032207-0.02594087j,\n",
       "           0.00287793+0.02285913j, ..., -0.02662207-0.04254087j,\n",
       "          -0.00222207+0.02375913j, -0.00562207+0.02705913j],\n",
       "         [-0.00384546-0.02564248j, -0.01054546+0.00055752j,\n",
       "          -0.00044546+0.01185752j, ...,  0.00215454+0.01165752j,\n",
       "           0.00875454+0.00685752j,  0.01045454+0.00435752j],\n",
       "         [-0.00555190-0.00284536j, -0.02105190-0.00854536j,\n",
       "          -0.00395190-0.00404536j, ...,  0.00784810-0.00774536j,\n",
       "           0.00794810+0.00305464j,  0.00254810+0.00255464j]]),\n",
       "  {'log': None, 'scatter': True},\n",
       "  ('s', 's')),\n",
       " 'S21+': (('Rabi pulse length',),\n",
       "  (array([  0.00000000e+00,   5.00000000e-09,   1.00000000e-08,\n",
       "            1.50000000e-08,   2.00000000e-08,   2.50000000e-08,\n",
       "            3.00000000e-08,   3.50000000e-08,   4.00000000e-08,\n",
       "            4.50000000e-08,   5.00000000e-08,   5.50000000e-08,\n",
       "            6.00000000e-08,   6.50000000e-08,   7.00000000e-08,\n",
       "            7.50000000e-08,   8.00000000e-08,   8.50000000e-08,\n",
       "            9.00000000e-08,   9.50000000e-08,   1.00000000e-07]),),\n",
       "  array([-0.03364498+0.04270586j, -0.03319619+0.04278461j,\n",
       "         -0.03328990+0.04284148j, -0.03355589+0.04237028j,\n",
       "         -0.03355765+0.04239986j, -0.03379443+0.04236995j,\n",
       "         -0.03405605+0.04196385j, -0.03442303+0.04144681j,\n",
       "         -0.03454184+0.04167657j, -0.03408393+0.04193804j,\n",
       "         -0.03412462+0.04245846j, -0.03310524+0.04227201j,\n",
       "         -0.03322882+0.04265996j, -0.03412185+0.04188004j,\n",
       "         -0.03564812+0.04011937j, -0.03490612+0.04159434j,\n",
       "         -0.03299965+0.04329827j, -0.03272712+0.04368025j,\n",
       "         -0.03565372+0.04141656j, -0.03430327+0.04175162j,\n",
       "         -0.03338913+0.04282528j]),\n",
       "  {'log': None, 'scatter': True},\n",
       "  ('s',)),\n",
       " 'S21+ fit': (('Rabi pulse length',),\n",
       "  (array([  0.00000000e+00,   5.00000000e-09,   1.00000000e-08,\n",
       "            1.50000000e-08,   2.00000000e-08,   2.50000000e-08,\n",
       "            3.00000000e-08,   3.50000000e-08,   4.00000000e-08,\n",
       "            4.50000000e-08,   5.00000000e-08,   5.50000000e-08,\n",
       "            6.00000000e-08,   6.50000000e-08,   7.00000000e-08,\n",
       "            7.50000000e-08,   8.00000000e-08,   8.50000000e-08,\n",
       "            9.00000000e-08,   9.50000000e-08,   1.00000000e-07]),),\n",
       "  array([-0.03355509+0.04260256j, -0.03318366+0.0429984j ,\n",
       "         -0.03378789+0.04235447j, -0.03456878+0.04152226j,\n",
       "         -0.03449376+0.04160221j, -0.03366205+0.04248857j,\n",
       "         -0.03317344+0.04300929j, -0.03367400+0.04247584j,\n",
       "         -0.03450182+0.04159362j, -0.03456226+0.0415292j ,\n",
       "         -0.03377543+0.04236774j, -0.03318177+0.04300042j,\n",
       "         -0.03356627+0.04259065j, -0.03442048+0.0416803j ,\n",
       "         -0.03461487+0.04147313j, -0.03389242+0.04224307j,\n",
       "         -0.03320844+0.04297199j, -0.03346736+0.04269606j,\n",
       "         -0.03432678+0.04178016j, -0.03465028+0.0414354j ,\n",
       "         -0.03401011+0.04211764j]),\n",
       "  {'log': None},\n",
       "  ('s',)),\n",
       " 'S21-': (('Rabi pulse length',),\n",
       "  (array([  0.00000000e+00,   5.00000000e-09,   1.00000000e-08,\n",
       "            1.50000000e-08,   2.00000000e-08,   2.50000000e-08,\n",
       "            3.00000000e-08,   3.50000000e-08,   4.00000000e-08,\n",
       "            4.50000000e-08,   5.00000000e-08,   5.50000000e-08,\n",
       "            6.00000000e-08,   6.50000000e-08,   7.00000000e-08,\n",
       "            7.50000000e-08,   8.00000000e-08,   8.50000000e-08,\n",
       "            9.00000000e-08,   9.50000000e-08,   1.00000000e-07]),),\n",
       "  array([  3.70062287e-04+0.01839464j,   1.49348840e-04+0.01826671j,\n",
       "           3.38022855e-04+0.01868543j,   1.47916886e-04+0.01779787j,\n",
       "           1.78517672e-04+0.01786014j,   7.59192240e-05+0.01830842j,\n",
       "           7.20159876e-05+0.01800109j,   2.30081698e-04+0.01812456j,\n",
       "           1.87173387e-04+0.01789665j,   4.04532826e-04+0.01796644j,\n",
       "           4.26061820e-04+0.01858498j,   4.91411124e-04+0.01848937j,\n",
       "           2.42503674e-04+0.01845477j,   5.16748564e-04+0.01834399j,\n",
       "           7.76614730e-04+0.01814231j,   3.84706739e-04+0.01828507j,\n",
       "           3.82925783e-04+0.01848132j,   3.72133041e-04+0.01851608j,\n",
       "           8.13866002e-04+0.0185892j ,   3.86034094e-04+0.01835102j,\n",
       "           6.87598278e-04+0.01836834j]),\n",
       "  {'log': None, 'scatter': True},\n",
       "  ('s',)),\n",
       " 'S21- fit': (('Rabi pulse length',),\n",
       "  (array([  0.00000000e+00,   5.00000000e-09,   1.00000000e-08,\n",
       "            1.50000000e-08,   2.00000000e-08,   2.50000000e-08,\n",
       "            3.00000000e-08,   3.50000000e-08,   4.00000000e-08,\n",
       "            4.50000000e-08,   5.00000000e-08,   5.50000000e-08,\n",
       "            6.00000000e-08,   6.50000000e-08,   7.00000000e-08,\n",
       "            7.50000000e-08,   8.00000000e-08,   8.50000000e-08,\n",
       "            9.00000000e-08,   9.50000000e-08,   1.00000000e-07]),),\n",
       "  array([ 0.00030727+0.01834475j,  0.00025024+0.01840901j,\n",
       "          0.00034302+0.01830447j,  0.00046292+0.01816937j,\n",
       "          0.00045140+0.01818235j,  0.00032369+0.01832624j,\n",
       "          0.00024867+0.01841077j,  0.00032553+0.01832417j,\n",
       "          0.00045264+0.01818095j,  0.00046192+0.0181705j ,\n",
       "          0.00034110+0.01830662j,  0.00024994+0.01840933j,\n",
       "          0.00030899+0.01834281j,  0.00044015+0.01819503j,\n",
       "          0.00047000+0.01816139j,  0.00035907+0.01828638j,\n",
       "          0.00025404+0.01840472j,  0.00029380+0.01835992j,\n",
       "          0.00042577+0.01821124j,  0.00047544+0.01815527j,\n",
       "          0.00037714+0.01826602j]),\n",
       "  {'log': None},\n",
       "  ('s',))}"
      ]
     },
     "execution_count": 58,
     "metadata": {},
     "output_type": "execute_result"
    }
   ],
   "source": [
    "measurement"
   ]
  },
  {
   "cell_type": "code",
   "execution_count": 59,
   "metadata": {},
   "outputs": [
    {
     "data": {
      "text/plain": [
       "21"
      ]
     },
     "execution_count": 59,
     "metadata": {},
     "output_type": "execute_result"
    }
   ],
   "source": [
    "measurement['S21-'][1][0]\n",
    "S21_pre=measurement['S21-'][1][0][::2]\n",
    "S21_post=measurement['S21-'][1][0][1::2]\n",
    "len(measurement['S21-'][1][0])"
   ]
  },
  {
   "cell_type": "markdown",
   "metadata": {},
   "source": [
    "# Optimizing readout pulse settings"
   ]
  },
  {
   "cell_type": "code",
   "execution_count": 60,
   "metadata": {
    "collapsed": true
   },
   "outputs": [],
   "source": [
    "#+ \n",
    "#amp_x=0.554\n",
    "#amp_y=0.554\n",
    "#sigma = 2e-9\n",
    "#amp_x=0.29\n",
    "#amp_y=0.29\n",
    "# Кубит #4, импульсы 8 нс\n",
    "#pause_length = 2e-9\n",
    "#length = 10e-9 # Длительность импульса \n",
    "#sigma = 2.5e-9 # Срез импульса (в сигмах) = Длительност/сигма\n",
    "#amp=0.893\n",
    "#amp_y=0.880\n",
    "#anharmonicity = -200e6\n",
    "#alpha_dimensionless = 0.724\n",
    "# Кубит #4, импульсы 16 нс\n",
    "#pause_length = 0e-9\n",
    "#length = 16e-9 # Длительность импульса \n",
    "#sigma = 3e-9 # Срез импульса (в сигмах) = Длительност/сигма\n",
    "#amp=0.322\n",
    "#anharmonicity = -200e6\n",
    "#alpha_dimensionless = 0.909#553\n",
    "#alpha = -alpha_dimensionless/(anharmonicity*2*np.pi)\n",
    "#xy_acorr = 0.003\n",
    "#amp_y_raw=0.322#\n",
    "amp=0.3245\n",
    "amp2=0.655\n",
    "length=16e-9\n",
    "sigma=3e-9\n",
    "anharmonicity=-227e6\n",
    "pause_length=0\n",
    "alpha_dimensionless =1.035\n",
    "# alpha_dimensionless =1.1\n",
    "alpha = -alpha_dimensionless/(anharmonicity*2*np.pi)\n",
    "xy_acorr =0.0\n",
    "amp_y_raw=0.3245\n",
    "amp_y=amp_y_raw*np.exp(1j*xy_acorr)"
   ]
  },
  {
   "cell_type": "code",
   "execution_count": 61,
   "metadata": {
    "collapsed": true
   },
   "outputs": [],
   "source": [
    "#parametres\n",
    "#ampx_pi_half\n",
    "#ampx_pi\n",
    "#ampy_pi_half\n",
    "#ampy_pi\n",
    "ength=16e-9\n",
    "sigma=3e-9\n",
    "anharmonicity=-227e6\n",
    "alpha_dimensionless =1.035\n",
    "alpha = -alpha_dimensionless/(anharmonicity*2*np.pi)"
   ]
  },
  {
   "cell_type": "code",
   "execution_count": 62,
   "metadata": {
    "collapsed": true
   },
   "outputs": [],
   "source": [
    "pi2_pulse= 16e-9\n",
    "ex_amplitude = 0.8\n",
    "#ro_dac_amplitude =0.42\n",
    "#ro_dac_length = 670e-9\n",
    "pause_length = 0e-9\n",
    "ro_seq_osc = 10\n",
    "rel_amp = 0.5\n",
    "pi2_tukey = 100e-9\n",
    "amp_tukey = 0.845\n",
    "pi2_hann = 62e-9\n",
    "amp_hann = 0.63\n",
    "pi2_gauss = 32e-9\n",
    "sigma_gauss=8e-9\n",
    "amp_gauss = 0.887\n",
    "anharmonicity=-200e6\n",
    "alpha_gauss_dimensionless = -0.630\n",
    "alpha_gauss = alpha_gauss_dimensionless/(2*np.pi*anharmonicity)\n",
    "\n",
    "ro_dac_amplitude = 0.1\n",
    "ro_dac_length = 800e-9\n",
    "ro_seq_osc = 10\n",
    "\n",
    "length = pi2_gauss\n",
    "pulse_type = pg.gauss_hd\n",
    "transition_length = sigma_gauss\n",
    "amp = amp_gauss\n",
    "alpha = alpha_gauss"
   ]
  },
  {
   "cell_type": "code",
   "execution_count": 63,
   "metadata": {},
   "outputs": [
    {
     "data": {
      "text/plain": [
       "<module 'readout_classifier' from 'D:\\\\qtlab_replacement\\\\scripts\\\\readout_classifier.py'>"
      ]
     },
     "execution_count": 63,
     "metadata": {},
     "output_type": "execute_result"
    }
   ],
   "source": [
    "imp.reload(tomography_new)\n",
    "imp.reload(awg_iq)\n",
    "imp.reload(data_reduce)\n",
    "import readout_classifier\n",
    "imp.reload(readout_classifier)"
   ]
  },
  {
   "cell_type": "code",
   "execution_count": 64,
   "metadata": {
    "collapsed": true
   },
   "outputs": [],
   "source": [
    "adc.stop()"
   ]
  },
  {
   "cell_type": "code",
   "execution_count": 65,
   "metadata": {
    "collapsed": true
   },
   "outputs": [],
   "source": [
    "# To calibrate we need a pi-pulse. Two choices are available, either we use a rectangular pulse or a gaussian pulse.\n",
    "# The pulse is used to excite the qubit with high probability.\n",
    "ex_calib_seq = [pg.p('iq_ex', length, pulse_type, amp, transition_length, alpha), pg.p(None, pause_length),\\\n",
    "                pg.p('iq_ex', length, pulse_type, amp, transition_length, alpha), pg.p(None, pause_length)] # gaussian pulse\n",
    "ex_calib_seq_zero = [pg.p('iq_ex', length, pulse_type,  amp, transition_length, alpha), pg.p(None, pause_length),\\\n",
    "                     pg.p('iq_ex', length, pulse_type, -amp, transition_length, alpha), pg.p(None, pause_length)] # gaussian pulse\n",
    "\n",
    "#ex_calib_seq = [pg.p('iq_ex', length, pulse_type, amp, transition_length), pg.p(None, pause_length)]*2 # gaussian pulse\n",
    "#ex_calib_seq_zero = [pg.p('iq_ex', length, pulse_type, amp, transition_length), pg.p(None, pause_length),\n",
    "#                     pg.p('iq_ex', length, pulse_type, -amp, transition_length), pg.p(None, pause_length),] # gaussian pulse\n",
    "ro_seq = [pg.p('ro_trg', trg_length, pg.rect, 1), \n",
    "                pg.p('iq_ro', ro_dac_length/3., pg.rect, ro_dac_amplitude), \n",
    "                pg.p('iq_ro', ro_dac_length/3., pg.rect, -2*ro_dac_amplitude), \n",
    "                pg.p('iq_ro', ro_dac_length/3., pg.rect, 2*ro_dac_amplitude) ]\n",
    "downsampled_adc = data_reduce.data_reduce(adc)\n",
    "downsampled_adc.filters['Voltage'] = data_reduce.downsample_reducer(adc, 'Voltage', 1, 62.5e6, iq=True, downsample=8)\n",
    "adc_sz = tomography_new.sz_measurer(downsampled_adc, ex_calib_seq, ro_seq, pg, ex_seq_zero=ex_calib_seq_zero)\n",
    "adc_sz.cutoff_start = 0\n",
    "adc.set_software_nums_multi(1)\n",
    "adc_sz.repeat_samples = 1\n",
    "adc_sz.prepare_seqs = [ex_calib_seq_zero, ex_calib_seq]\n",
    "\n",
    "target_min = lambda: 1-adc_sz.measure()['Calibrated fidelity binary']\n",
    "\n",
    "class ro_pulse_generator:\n",
    "    def __init__(self, adc_sz, ro_dac_amplitude, ro_dac_length, ro_seq_osc=1):\n",
    "        self.ro_dac_amplitude = ro_dac_amplitude\n",
    "        self.ro_dac_length = ro_dac_length\n",
    "        self.adc_sz = adc_sz\n",
    "        self.ro_seq_osc = ro_seq_osc\n",
    "        self.initial_pulse_rel_amplitude = 0.5\n",
    "    def set_ro_seq_osc(self, ro_seq_osc):\n",
    "        self.ro_seq_osc = ro_seq_osc\n",
    "        self.make_ro_seq()\n",
    "    def set_initial_pulse_rel_amplitude(self, rel_amp):\n",
    "        self.initial_pulse_rel_amplitude = rel_amp\n",
    "        self.make_ro_seq()\n",
    "    def make_ro_seq(self):\n",
    "        pl = self.ro_dac_length/(self.ro_seq_osc)\n",
    "        adc_sz.ro_seq = [pg.p(None, 2e-09),\n",
    "            pg.p('ro_trg', trg_length, pg.rect, 1), \n",
    "                pg.p('iq_ro', pl, pg.rect, self.ro_dac_amplitude*self.initial_pulse_rel_amplitude)]+\\\n",
    "               [pg.p('iq_ro', pl, pg.rect, (-(-1)**i)*self.ro_dac_amplitude) for i in range(self.ro_seq_osc-1)]\n",
    "    def set_ro_length(self, ro_dac_length):\n",
    "        self.ro_dac_length = ro_dac_length\n",
    "        self.make_ro_seq()\n",
    "    def set_ro_amplitude(self, ro_amplitude):\n",
    "        self.ro_dac_amplitude = ro_dac_amplitude\n",
    "        self.make_ro_seq()\n",
    "\n",
    "ro_dac_lengths = np.linspace(0.0e-6, 1.0e-6, 21)\n",
    "ro_dac_amplitudes = np.linspace(0.0,0.5, 21)\n",
    "rel_amps = np.linspace(0.4, 0.6, 21)\n",
    "#ro_dac_length = 300e-9\n",
    "\n",
    "ro_pulse_generator_inst = ro_pulse_generator(adc_sz, ro_dac_amplitude, ro_dac_length, 1)\n",
    "#solution, score = sweep.optimize(target_min, (ro_pulse_generator_inst.set_ro_length, 3e-8), \n",
    "#                                             (ro_pulse_generator_inst.set_ro_amplitude, 0.9), maxfun=30)\n",
    "\n",
    "#ro_dac_length = solution[0]\n",
    "#ro_dac_amplitude = solution[1]"
   ]
  },
  {
   "cell_type": "code",
   "execution_count": 44,
   "metadata": {
    "collapsed": true
   },
   "outputs": [],
   "source": [
    "adc.stop()"
   ]
  },
  {
   "cell_type": "code",
   "execution_count": 45,
   "metadata": {
    "scrolled": true
   },
   "outputs": [
    {
     "data": {
      "application/vnd.jupyter.widget-view+json": {
       "model_id": "0ad21bc5db1b4e74bbeb74457d573e82",
       "version_major": 2,
       "version_minor": 0
      },
      "text/plain": [
       "A Jupyter Widget"
      ]
     },
     "metadata": {},
     "output_type": "display_data"
    },
    {
     "name": "stdout",
     "output_type": "stream",
     "text": [
      "Started at:  Apr 20 2018 17:42:19\n"
     ]
    },
    {
     "name": "stderr",
     "output_type": "stream",
     "text": [
      "D:\\qtlab_replacement\\instruments\\Tektronix_AWG5014.py:648: ComplexWarning: Casting complex values to real discards the imaginary part\n",
      "  m1[:] = marker[:len(m1)]\n",
      "C:\\ProgramData\\Anaconda3\\lib\\site-packages\\matplotlib\\cbook\\deprecation.py:106: MatplotlibDeprecationWarning: Adding an axes using the same arguments as a previous axes currently reuses the earlier instance.  In a future version, a new instance will always be created and returned.  Meanwhile, this warning can be suppressed, and the future behavior ensured, by passing a unique label to each axes instance.\n",
      "  warnings.warn(message, mplDeprecation, stacklevel=1)\n"
     ]
    },
    {
     "ename": "ValueError",
     "evalue": "cannot reshape array of size 20480000 into shape (15000,256,8)",
     "output_type": "error",
     "traceback": [
      "\u001b[1;31m---------------------------------------------------------------------------\u001b[0m",
      "\u001b[1;31mValueError\u001b[0m                                Traceback (most recent call last)",
      "\u001b[1;32m<ipython-input-45-ea929fc2da77>\u001b[0m in \u001b[0;36m<module>\u001b[1;34m()\u001b[0m\n\u001b[0;32m      6\u001b[0m                                  \u001b[1;31m#(rel_amps, ro_pulse_generator_inst.set_initial_pulse_rel_amplitude, 'initial pulse amplitude'),\u001b[0m\u001b[1;33m\u001b[0m\u001b[1;33m\u001b[0m\u001b[0m\n\u001b[0;32m      7\u001b[0m                                 \u001b[1;31m#(np.arange(1, 10), ro_pulse_generator_inst.set_ro_seq_osc, 'Readout pulse oscillation num'),\u001b[0m\u001b[1;33m\u001b[0m\u001b[1;33m\u001b[0m\u001b[0m\n\u001b[1;32m----> 8\u001b[1;33m                                  \u001b[1;33m(\u001b[0m\u001b[0mro_dac_lengths\u001b[0m\u001b[1;33m,\u001b[0m \u001b[0mro_pulse_generator_inst\u001b[0m\u001b[1;33m.\u001b[0m\u001b[0mset_ro_length\u001b[0m\u001b[1;33m,\u001b[0m \u001b[1;34m'Readout pulse length'\u001b[0m\u001b[1;33m)\u001b[0m\u001b[1;33m\u001b[0m\u001b[0m\n\u001b[0m\u001b[0;32m      9\u001b[0m                     \u001b[1;31m#(ro_dac_amplitudes, ro_pulse_generator_inst.set_ro_amplitude, 'Readout pulse amplitude')\u001b[0m\u001b[1;33m\u001b[0m\u001b[1;33m\u001b[0m\u001b[0m\n\u001b[0;32m     10\u001b[0m                                 )\n",
      "\u001b[1;32mD:\\qtlab_replacement\\scripts\\sweep.py\u001b[0m in \u001b[0;36msweep\u001b[1;34m(measurer, filename, root_dir, plot, header, output, save, time_war_label, cycle_save_mode, *params)\u001b[0m\n\u001b[0;32m    161\u001b[0m                                         \u001b[0msetter\u001b[0m\u001b[1;33m(\u001b[0m\u001b[0mval\u001b[0m\u001b[1;33m)\u001b[0m\u001b[1;33m\u001b[0m\u001b[0m\n\u001b[0;32m    162\u001b[0m                         \u001b[1;31m#measuring\u001b[0m\u001b[1;33m\u001b[0m\u001b[1;33m\u001b[0m\u001b[0m\n\u001b[1;32m--> 163\u001b[1;33m                         \u001b[0mmpoint\u001b[0m \u001b[1;33m=\u001b[0m \u001b[0mmeasurer\u001b[0m\u001b[1;33m.\u001b[0m\u001b[0mmeasure\u001b[0m\u001b[1;33m(\u001b[0m\u001b[1;33m)\u001b[0m\u001b[1;33m\u001b[0m\u001b[0m\n\u001b[0m\u001b[0;32m    164\u001b[0m                         \u001b[1;31m#saving data to containers\u001b[0m\u001b[1;33m\u001b[0m\u001b[1;33m\u001b[0m\u001b[0m\n\u001b[0;32m    165\u001b[0m                         \u001b[1;32mfor\u001b[0m \u001b[0mmname\u001b[0m \u001b[1;32min\u001b[0m \u001b[0mpoints\u001b[0m\u001b[1;33m.\u001b[0m\u001b[0mkeys\u001b[0m\u001b[1;33m(\u001b[0m\u001b[1;33m)\u001b[0m\u001b[1;33m:\u001b[0m\u001b[1;33m\u001b[0m\u001b[0m\n",
      "\u001b[1;32mD:\\qtlab_replacement\\scripts\\tomography.py\u001b[0m in \u001b[0;36mmeasure\u001b[1;34m(self)\u001b[0m\n\u001b[0;32m    304\u001b[0m \u001b[1;33m\u001b[0m\u001b[0m\n\u001b[0;32m    305\u001b[0m         \u001b[1;32mdef\u001b[0m \u001b[0mmeasure\u001b[0m\u001b[1;33m(\u001b[0m\u001b[0mself\u001b[0m\u001b[1;33m)\u001b[0m\u001b[1;33m:\u001b[0m\u001b[1;33m\u001b[0m\u001b[0m\n\u001b[1;32m--> 306\u001b[1;33m                 \u001b[0mself\u001b[0m\u001b[1;33m.\u001b[0m\u001b[0mcalibrate\u001b[0m\u001b[1;33m(\u001b[0m\u001b[1;33m)\u001b[0m\u001b[1;33m\u001b[0m\u001b[0m\n\u001b[0m\u001b[0;32m    307\u001b[0m \t\tmeas = {#'Calibrated ROC AUC binary': self.calib_roc_auc_binary,\n\u001b[0;32m    308\u001b[0m                                 \u001b[1;34m'Calibrated ROC AUC'\u001b[0m\u001b[1;33m:\u001b[0m \u001b[0mself\u001b[0m\u001b[1;33m.\u001b[0m\u001b[0mcalib_roc_auc\u001b[0m\u001b[1;33m,\u001b[0m\u001b[1;33m\u001b[0m\u001b[0m\n",
      "\u001b[1;32mD:\\qtlab_replacement\\scripts\\tomography.py\u001b[0m in \u001b[0;36mcalibrate\u001b[1;34m(self)\u001b[0m\n\u001b[0;32m    160\u001b[0m                 \u001b[1;32mfor\u001b[0m \u001b[0mi\u001b[0m \u001b[1;32min\u001b[0m \u001b[0mrange\u001b[0m\u001b[1;33m(\u001b[0m\u001b[0mself\u001b[0m\u001b[1;33m.\u001b[0m\u001b[0mrepeat_samples\u001b[0m\u001b[1;33m)\u001b[0m\u001b[1;33m:\u001b[0m\u001b[1;33m\u001b[0m\u001b[0m\n\u001b[0;32m    161\u001b[0m                         \u001b[0mself\u001b[0m\u001b[1;33m.\u001b[0m\u001b[0mpulse_generator\u001b[0m\u001b[1;33m.\u001b[0m\u001b[0mset_seq\u001b[0m\u001b[1;33m(\u001b[0m\u001b[0mself\u001b[0m\u001b[1;33m.\u001b[0m\u001b[0mex_seq_zero\u001b[0m\u001b[1;33m+\u001b[0m\u001b[0mself\u001b[0m\u001b[1;33m.\u001b[0m\u001b[0mro_seq\u001b[0m\u001b[1;33m)\u001b[0m\u001b[1;33m\u001b[0m\u001b[0m\n\u001b[1;32m--> 162\u001b[1;33m                         \u001b[0msamples_zero\u001b[0m\u001b[1;33m.\u001b[0m\u001b[0mappend\u001b[0m\u001b[1;33m(\u001b[0m\u001b[0mself\u001b[0m\u001b[1;33m.\u001b[0m\u001b[0madc\u001b[0m\u001b[1;33m.\u001b[0m\u001b[0mmeasure\u001b[0m\u001b[1;33m(\u001b[0m\u001b[1;33m)\u001b[0m\u001b[1;33m[\u001b[0m\u001b[1;34m'Voltage'\u001b[0m\u001b[1;33m]\u001b[0m\u001b[1;33m)\u001b[0m\u001b[1;33m\u001b[0m\u001b[0m\n\u001b[0m\u001b[0;32m    163\u001b[0m                         \u001b[1;31m# pi pulse sequence\u001b[0m\u001b[1;33m\u001b[0m\u001b[1;33m\u001b[0m\u001b[0m\n\u001b[0;32m    164\u001b[0m                         \u001b[0mself\u001b[0m\u001b[1;33m.\u001b[0m\u001b[0mpulse_generator\u001b[0m\u001b[1;33m.\u001b[0m\u001b[0mset_seq\u001b[0m\u001b[1;33m(\u001b[0m\u001b[0mself\u001b[0m\u001b[1;33m.\u001b[0m\u001b[0mex_seq\u001b[0m\u001b[1;33m+\u001b[0m\u001b[0mself\u001b[0m\u001b[1;33m.\u001b[0m\u001b[0mro_seq\u001b[0m\u001b[1;33m)\u001b[0m\u001b[1;33m\u001b[0m\u001b[0m\n",
      "\u001b[1;32mD:\\qtlab_replacement\\scripts\\data_reduce.py\u001b[0m in \u001b[0;36mmeasure\u001b[1;34m(self)\u001b[0m\n\u001b[0;32m     19\u001b[0m         \u001b[1;32mdef\u001b[0m \u001b[0mmeasure\u001b[0m\u001b[1;33m(\u001b[0m\u001b[0mself\u001b[0m\u001b[1;33m)\u001b[0m\u001b[1;33m:\u001b[0m\u001b[1;33m\u001b[0m\u001b[0m\n\u001b[0;32m     20\u001b[0m                 \u001b[0mdata\u001b[0m \u001b[1;33m=\u001b[0m \u001b[0mself\u001b[0m\u001b[1;33m.\u001b[0m\u001b[0msource\u001b[0m\u001b[1;33m.\u001b[0m\u001b[0mmeasure\u001b[0m\u001b[1;33m(\u001b[0m\u001b[1;33m)\u001b[0m\u001b[1;33m\u001b[0m\u001b[0m\n\u001b[1;32m---> 21\u001b[1;33m                 \u001b[1;32mreturn\u001b[0m \u001b[1;33m{\u001b[0m \u001b[0mfilter_name\u001b[0m\u001b[1;33m:\u001b[0m\u001b[0mfilter\u001b[0m\u001b[1;33m[\u001b[0m\u001b[1;34m'filter'\u001b[0m\u001b[1;33m]\u001b[0m\u001b[1;33m(\u001b[0m\u001b[0mdata\u001b[0m\u001b[1;33m)\u001b[0m \u001b[1;32mfor\u001b[0m \u001b[0mfilter_name\u001b[0m\u001b[1;33m,\u001b[0m \u001b[0mfilter\u001b[0m \u001b[1;32min\u001b[0m \u001b[0mself\u001b[0m\u001b[1;33m.\u001b[0m\u001b[0mfilters\u001b[0m\u001b[1;33m.\u001b[0m\u001b[0mitems\u001b[0m\u001b[1;33m(\u001b[0m\u001b[1;33m)\u001b[0m\u001b[1;33m}\u001b[0m\u001b[1;33m\u001b[0m\u001b[0m\n\u001b[0m\u001b[0;32m     22\u001b[0m \u001b[1;33m\u001b[0m\u001b[0m\n\u001b[0;32m     23\u001b[0m         \u001b[1;32mdef\u001b[0m \u001b[0mget_opts\u001b[0m\u001b[1;33m(\u001b[0m\u001b[0mself\u001b[0m\u001b[1;33m)\u001b[0m\u001b[1;33m:\u001b[0m\u001b[1;33m\u001b[0m\u001b[0m\n",
      "\u001b[1;32mD:\\qtlab_replacement\\scripts\\data_reduce.py\u001b[0m in \u001b[0;36m<dictcomp>\u001b[1;34m(.0)\u001b[0m\n\u001b[0;32m     19\u001b[0m         \u001b[1;32mdef\u001b[0m \u001b[0mmeasure\u001b[0m\u001b[1;33m(\u001b[0m\u001b[0mself\u001b[0m\u001b[1;33m)\u001b[0m\u001b[1;33m:\u001b[0m\u001b[1;33m\u001b[0m\u001b[0m\n\u001b[0;32m     20\u001b[0m                 \u001b[0mdata\u001b[0m \u001b[1;33m=\u001b[0m \u001b[0mself\u001b[0m\u001b[1;33m.\u001b[0m\u001b[0msource\u001b[0m\u001b[1;33m.\u001b[0m\u001b[0mmeasure\u001b[0m\u001b[1;33m(\u001b[0m\u001b[1;33m)\u001b[0m\u001b[1;33m\u001b[0m\u001b[0m\n\u001b[1;32m---> 21\u001b[1;33m                 \u001b[1;32mreturn\u001b[0m \u001b[1;33m{\u001b[0m \u001b[0mfilter_name\u001b[0m\u001b[1;33m:\u001b[0m\u001b[0mfilter\u001b[0m\u001b[1;33m[\u001b[0m\u001b[1;34m'filter'\u001b[0m\u001b[1;33m]\u001b[0m\u001b[1;33m(\u001b[0m\u001b[0mdata\u001b[0m\u001b[1;33m)\u001b[0m \u001b[1;32mfor\u001b[0m \u001b[0mfilter_name\u001b[0m\u001b[1;33m,\u001b[0m \u001b[0mfilter\u001b[0m \u001b[1;32min\u001b[0m \u001b[0mself\u001b[0m\u001b[1;33m.\u001b[0m\u001b[0mfilters\u001b[0m\u001b[1;33m.\u001b[0m\u001b[0mitems\u001b[0m\u001b[1;33m(\u001b[0m\u001b[1;33m)\u001b[0m\u001b[1;33m}\u001b[0m\u001b[1;33m\u001b[0m\u001b[0m\n\u001b[0m\u001b[0;32m     22\u001b[0m \u001b[1;33m\u001b[0m\u001b[0m\n\u001b[0;32m     23\u001b[0m         \u001b[1;32mdef\u001b[0m \u001b[0mget_opts\u001b[0m\u001b[1;33m(\u001b[0m\u001b[0mself\u001b[0m\u001b[1;33m)\u001b[0m\u001b[1;33m:\u001b[0m\u001b[1;33m\u001b[0m\u001b[0m\n",
      "\u001b[1;32mD:\\qtlab_replacement\\scripts\\data_reduce.py\u001b[0m in \u001b[0;36m<lambda>\u001b[1;34m(x)\u001b[0m\n\u001b[0;32m     35\u001b[0m         \u001b[0mfilter_func\u001b[0m \u001b[1;33m=\u001b[0m \u001b[1;32mlambda\u001b[0m \u001b[0mx\u001b[0m\u001b[1;33m,\u001b[0m\u001b[0ms\u001b[0m\u001b[1;33m:\u001b[0m\u001b[0mnp\u001b[0m\u001b[1;33m.\u001b[0m\u001b[0mmean\u001b[0m\u001b[1;33m(\u001b[0m\u001b[0mnp\u001b[0m\u001b[1;33m.\u001b[0m\u001b[0mreshape\u001b[0m\u001b[1;33m(\u001b[0m\u001b[0mnp\u001b[0m\u001b[1;33m.\u001b[0m\u001b[0mexp\u001b[0m\u001b[1;33m(\u001b[0m\u001b[0ms\u001b[0m\u001b[1;33m*\u001b[0m\u001b[1;36m2\u001b[0m\u001b[1;33m*\u001b[0m\u001b[0mnp\u001b[0m\u001b[1;33m.\u001b[0m\u001b[0mpi\u001b[0m\u001b[1;33m*\u001b[0m\u001b[1;36m1j\u001b[0m\u001b[1;33m*\u001b[0m\u001b[0msource\u001b[0m\u001b[1;33m.\u001b[0m\u001b[0mget_points\u001b[0m\u001b[1;33m(\u001b[0m\u001b[1;33m)\u001b[0m\u001b[1;33m[\u001b[0m\u001b[0msrc_meas\u001b[0m\u001b[1;33m]\u001b[0m\u001b[1;33m[\u001b[0m\u001b[0maxis\u001b[0m\u001b[1;33m]\u001b[0m\u001b[1;33m[\u001b[0m\u001b[1;36m1\u001b[0m\u001b[1;33m]\u001b[0m\u001b[1;33m*\u001b[0m\u001b[0mcarrier\u001b[0m\u001b[1;33m)\u001b[0m\u001b[1;33m*\u001b[0m\u001b[0mx\u001b[0m\u001b[1;33m[\u001b[0m\u001b[0msrc_meas\u001b[0m\u001b[1;33m]\u001b[0m\u001b[1;33m,\u001b[0m \u001b[0mintermediate_axes\u001b[0m\u001b[1;33m)\u001b[0m\u001b[1;33m,\u001b[0m \u001b[0maxis\u001b[0m\u001b[1;33m=\u001b[0m\u001b[0maxis\u001b[0m\u001b[1;33m+\u001b[0m\u001b[1;36m1\u001b[0m\u001b[1;33m)\u001b[0m\u001b[1;33m\u001b[0m\u001b[0m\n\u001b[0;32m     36\u001b[0m \u001b[1;33m\u001b[0m\u001b[0m\n\u001b[1;32m---> 37\u001b[1;33m \tfilter = {'filter': lambda x:filter_func(x,1) if not iq else np.concatenate([filter_func(x,1), filter_func(x,-1)], axis=iq_axis),\n\u001b[0m\u001b[0;32m     38\u001b[0m                           \u001b[1;34m'get_points'\u001b[0m\u001b[1;33m:\u001b[0m \u001b[0mget_points\u001b[0m\u001b[1;33m,\u001b[0m\u001b[1;33m\u001b[0m\u001b[0m\n\u001b[0;32m     39\u001b[0m                           \u001b[1;34m'get_dtype'\u001b[0m\u001b[1;33m:\u001b[0m \u001b[1;33m(\u001b[0m\u001b[1;32mlambda\u001b[0m \u001b[1;33m:\u001b[0m \u001b[0mcomplex\u001b[0m \u001b[1;32mif\u001b[0m \u001b[0msource\u001b[0m\u001b[1;33m.\u001b[0m\u001b[0mget_dtype\u001b[0m\u001b[1;33m(\u001b[0m\u001b[1;33m)\u001b[0m\u001b[1;33m[\u001b[0m\u001b[0msrc_meas\u001b[0m\u001b[1;33m]\u001b[0m \u001b[1;32mis\u001b[0m \u001b[0mcomplex\u001b[0m \u001b[1;32melse\u001b[0m \u001b[0mfloat\u001b[0m\u001b[1;33m)\u001b[0m\u001b[1;33m,\u001b[0m\u001b[1;33m\u001b[0m\u001b[0m\n",
      "\u001b[1;32mD:\\qtlab_replacement\\scripts\\data_reduce.py\u001b[0m in \u001b[0;36m<lambda>\u001b[1;34m(x, s)\u001b[0m\n\u001b[0;32m     33\u001b[0m                 \u001b[1;32mreturn\u001b[0m \u001b[0mnew_axes\u001b[0m\u001b[1;33m\u001b[0m\u001b[0m\n\u001b[0;32m     34\u001b[0m         \u001b[0mintermediate_axes\u001b[0m \u001b[1;33m=\u001b[0m \u001b[1;33m[\u001b[0m\u001b[0mlen\u001b[0m\u001b[1;33m(\u001b[0m\u001b[0ma\u001b[0m\u001b[1;33m[\u001b[0m\u001b[1;36m1\u001b[0m\u001b[1;33m]\u001b[0m\u001b[1;33m)\u001b[0m \u001b[1;32mfor\u001b[0m \u001b[0ma\u001b[0m \u001b[1;32min\u001b[0m \u001b[0msource\u001b[0m\u001b[1;33m.\u001b[0m\u001b[0mget_points\u001b[0m\u001b[1;33m(\u001b[0m\u001b[1;33m)\u001b[0m\u001b[1;33m[\u001b[0m\u001b[0msrc_meas\u001b[0m\u001b[1;33m]\u001b[0m\u001b[1;33m[\u001b[0m\u001b[1;33m:\u001b[0m\u001b[0maxis\u001b[0m\u001b[1;33m]\u001b[0m\u001b[1;33m]\u001b[0m\u001b[1;33m+\u001b[0m\u001b[1;33m[\u001b[0m\u001b[0mlen\u001b[0m\u001b[1;33m(\u001b[0m\u001b[0msource\u001b[0m\u001b[1;33m.\u001b[0m\u001b[0mget_points\u001b[0m\u001b[1;33m(\u001b[0m\u001b[1;33m)\u001b[0m\u001b[1;33m[\u001b[0m\u001b[0msrc_meas\u001b[0m\u001b[1;33m]\u001b[0m\u001b[1;33m[\u001b[0m\u001b[0maxis\u001b[0m\u001b[1;33m]\u001b[0m\u001b[1;33m[\u001b[0m\u001b[1;36m1\u001b[0m\u001b[1;33m]\u001b[0m\u001b[1;33m[\u001b[0m\u001b[1;33m:\u001b[0m\u001b[1;33m:\u001b[0m\u001b[0mdownsample\u001b[0m\u001b[1;33m]\u001b[0m\u001b[1;33m)\u001b[0m\u001b[1;33m,\u001b[0m \u001b[0mdownsample\u001b[0m\u001b[1;33m]\u001b[0m\u001b[1;33m+\u001b[0m\u001b[1;33m[\u001b[0m\u001b[0mlen\u001b[0m\u001b[1;33m(\u001b[0m\u001b[0ma\u001b[0m\u001b[1;33m[\u001b[0m\u001b[1;36m1\u001b[0m\u001b[1;33m]\u001b[0m\u001b[1;33m)\u001b[0m \u001b[1;32mfor\u001b[0m \u001b[0ma\u001b[0m \u001b[1;32min\u001b[0m \u001b[0msource\u001b[0m\u001b[1;33m.\u001b[0m\u001b[0mget_points\u001b[0m\u001b[1;33m(\u001b[0m\u001b[1;33m)\u001b[0m\u001b[1;33m[\u001b[0m\u001b[0msrc_meas\u001b[0m\u001b[1;33m]\u001b[0m\u001b[1;33m[\u001b[0m\u001b[0maxis\u001b[0m\u001b[1;33m+\u001b[0m\u001b[1;36m1\u001b[0m\u001b[1;33m:\u001b[0m\u001b[1;33m]\u001b[0m\u001b[1;33m]\u001b[0m\u001b[1;33m\u001b[0m\u001b[0m\n\u001b[1;32m---> 35\u001b[1;33m         \u001b[0mfilter_func\u001b[0m \u001b[1;33m=\u001b[0m \u001b[1;32mlambda\u001b[0m \u001b[0mx\u001b[0m\u001b[1;33m,\u001b[0m\u001b[0ms\u001b[0m\u001b[1;33m:\u001b[0m\u001b[0mnp\u001b[0m\u001b[1;33m.\u001b[0m\u001b[0mmean\u001b[0m\u001b[1;33m(\u001b[0m\u001b[0mnp\u001b[0m\u001b[1;33m.\u001b[0m\u001b[0mreshape\u001b[0m\u001b[1;33m(\u001b[0m\u001b[0mnp\u001b[0m\u001b[1;33m.\u001b[0m\u001b[0mexp\u001b[0m\u001b[1;33m(\u001b[0m\u001b[0ms\u001b[0m\u001b[1;33m*\u001b[0m\u001b[1;36m2\u001b[0m\u001b[1;33m*\u001b[0m\u001b[0mnp\u001b[0m\u001b[1;33m.\u001b[0m\u001b[0mpi\u001b[0m\u001b[1;33m*\u001b[0m\u001b[1;36m1j\u001b[0m\u001b[1;33m*\u001b[0m\u001b[0msource\u001b[0m\u001b[1;33m.\u001b[0m\u001b[0mget_points\u001b[0m\u001b[1;33m(\u001b[0m\u001b[1;33m)\u001b[0m\u001b[1;33m[\u001b[0m\u001b[0msrc_meas\u001b[0m\u001b[1;33m]\u001b[0m\u001b[1;33m[\u001b[0m\u001b[0maxis\u001b[0m\u001b[1;33m]\u001b[0m\u001b[1;33m[\u001b[0m\u001b[1;36m1\u001b[0m\u001b[1;33m]\u001b[0m\u001b[1;33m*\u001b[0m\u001b[0mcarrier\u001b[0m\u001b[1;33m)\u001b[0m\u001b[1;33m*\u001b[0m\u001b[0mx\u001b[0m\u001b[1;33m[\u001b[0m\u001b[0msrc_meas\u001b[0m\u001b[1;33m]\u001b[0m\u001b[1;33m,\u001b[0m \u001b[0mintermediate_axes\u001b[0m\u001b[1;33m)\u001b[0m\u001b[1;33m,\u001b[0m \u001b[0maxis\u001b[0m\u001b[1;33m=\u001b[0m\u001b[0maxis\u001b[0m\u001b[1;33m+\u001b[0m\u001b[1;36m1\u001b[0m\u001b[1;33m)\u001b[0m\u001b[1;33m\u001b[0m\u001b[0m\n\u001b[0m\u001b[0;32m     36\u001b[0m \u001b[1;33m\u001b[0m\u001b[0m\n\u001b[0;32m     37\u001b[0m \tfilter = {'filter': lambda x:filter_func(x,1) if not iq else np.concatenate([filter_func(x,1), filter_func(x,-1)], axis=iq_axis),\n",
      "\u001b[1;32mC:\\ProgramData\\Anaconda3\\lib\\site-packages\\numpy\\core\\fromnumeric.py\u001b[0m in \u001b[0;36mreshape\u001b[1;34m(a, newshape, order)\u001b[0m\n\u001b[0;32m    230\u001b[0m            [5, 6]])\n\u001b[0;32m    231\u001b[0m     \"\"\"\n\u001b[1;32m--> 232\u001b[1;33m     \u001b[1;32mreturn\u001b[0m \u001b[0m_wrapfunc\u001b[0m\u001b[1;33m(\u001b[0m\u001b[0ma\u001b[0m\u001b[1;33m,\u001b[0m \u001b[1;34m'reshape'\u001b[0m\u001b[1;33m,\u001b[0m \u001b[0mnewshape\u001b[0m\u001b[1;33m,\u001b[0m \u001b[0morder\u001b[0m\u001b[1;33m=\u001b[0m\u001b[0morder\u001b[0m\u001b[1;33m)\u001b[0m\u001b[1;33m\u001b[0m\u001b[0m\n\u001b[0m\u001b[0;32m    233\u001b[0m \u001b[1;33m\u001b[0m\u001b[0m\n\u001b[0;32m    234\u001b[0m \u001b[1;33m\u001b[0m\u001b[0m\n",
      "\u001b[1;32mC:\\ProgramData\\Anaconda3\\lib\\site-packages\\numpy\\core\\fromnumeric.py\u001b[0m in \u001b[0;36m_wrapfunc\u001b[1;34m(obj, method, *args, **kwds)\u001b[0m\n\u001b[0;32m     55\u001b[0m \u001b[1;32mdef\u001b[0m \u001b[0m_wrapfunc\u001b[0m\u001b[1;33m(\u001b[0m\u001b[0mobj\u001b[0m\u001b[1;33m,\u001b[0m \u001b[0mmethod\u001b[0m\u001b[1;33m,\u001b[0m \u001b[1;33m*\u001b[0m\u001b[0margs\u001b[0m\u001b[1;33m,\u001b[0m \u001b[1;33m**\u001b[0m\u001b[0mkwds\u001b[0m\u001b[1;33m)\u001b[0m\u001b[1;33m:\u001b[0m\u001b[1;33m\u001b[0m\u001b[0m\n\u001b[0;32m     56\u001b[0m     \u001b[1;32mtry\u001b[0m\u001b[1;33m:\u001b[0m\u001b[1;33m\u001b[0m\u001b[0m\n\u001b[1;32m---> 57\u001b[1;33m         \u001b[1;32mreturn\u001b[0m \u001b[0mgetattr\u001b[0m\u001b[1;33m(\u001b[0m\u001b[0mobj\u001b[0m\u001b[1;33m,\u001b[0m \u001b[0mmethod\u001b[0m\u001b[1;33m)\u001b[0m\u001b[1;33m(\u001b[0m\u001b[1;33m*\u001b[0m\u001b[0margs\u001b[0m\u001b[1;33m,\u001b[0m \u001b[1;33m**\u001b[0m\u001b[0mkwds\u001b[0m\u001b[1;33m)\u001b[0m\u001b[1;33m\u001b[0m\u001b[0m\n\u001b[0m\u001b[0;32m     58\u001b[0m \u001b[1;33m\u001b[0m\u001b[0m\n\u001b[0;32m     59\u001b[0m     \u001b[1;31m# An AttributeError occurs if the object does not have\u001b[0m\u001b[1;33m\u001b[0m\u001b[1;33m\u001b[0m\u001b[0m\n",
      "\u001b[1;31mValueError\u001b[0m: cannot reshape array of size 20480000 into shape (15000,256,8)"
     ]
    }
   ],
   "source": [
    "ro_pulse_generator_inst.set_ro_amplitude(ro_dac_amplitude)\n",
    "ro_pulse_generator_inst.set_ro_length(ro_dac_length)\n",
    "ro_pulse_generator_inst.set_ro_seq_osc(ro_seq_osc)\n",
    "ro_pulse_generator_inst.set_initial_pulse_rel_amplitude(rel_amp)\n",
    "ro_amplitude_calib = sweep.sweep(adc_sz,\n",
    "                                 #(rel_amps, ro_pulse_generator_inst.set_initial_pulse_rel_amplitude, 'initial pulse amplitude'),\n",
    "                                #(np.arange(1, 10), ro_pulse_generator_inst.set_ro_seq_osc, 'Readout pulse oscillation num'),\n",
    "                                 (ro_dac_lengths, ro_pulse_generator_inst.set_ro_length, 'Readout pulse length')\n",
    "                    #(ro_dac_amplitudes, ro_pulse_generator_inst.set_ro_amplitude, 'Readout pulse amplitude')\n",
    "                                )\n",
    "#ro_dac_length = ro_amplitude_calib['Calibrated fidelity'][1][0][np.argmax(ro_amplitude_calib['Calibrated fidelity'][2])]\n",
    "\n",
    "adc.set_software_nums_multi(1)"
   ]
  },
  {
   "cell_type": "code",
   "execution_count": null,
   "metadata": {
    "collapsed": true
   },
   "outputs": [],
   "source": [
    "plt.figure('hists')\n",
    "plt.plot(adc_sz.predictor_class.proba_points, np.asarray(adc_sz.predictor_class.hists).T)"
   ]
  },
  {
   "cell_type": "code",
   "execution_count": 42,
   "metadata": {},
   "outputs": [
    {
     "name": "stdout",
     "output_type": "stream",
     "text": [
      "Calibrated optimal readout amplitude:  0.1 8e-07\n"
     ]
    },
    {
     "name": "stderr",
     "output_type": "stream",
     "text": [
      "D:\\qtlab_replacement\\instruments\\Tektronix_AWG5014.py:648: ComplexWarning: Casting complex values to real discards the imaginary part\n",
      "  m1[:] = marker[:len(m1)]\n"
     ]
    },
    {
     "ename": "ValueError",
     "evalue": "cannot reshape array of size 20480000 into shape (15000,256,8)",
     "output_type": "error",
     "traceback": [
      "\u001b[1;31m---------------------------------------------------------------------------\u001b[0m",
      "\u001b[1;31mValueError\u001b[0m                                Traceback (most recent call last)",
      "\u001b[1;32m<ipython-input-42-9c55029ad3cc>\u001b[0m in \u001b[0;36m<module>\u001b[1;34m()\u001b[0m\n\u001b[0;32m      4\u001b[0m \u001b[0mro_pulse_generator_inst\u001b[0m\u001b[1;33m.\u001b[0m\u001b[0mset_ro_length\u001b[0m\u001b[1;33m(\u001b[0m\u001b[0mro_dac_length\u001b[0m\u001b[1;33m)\u001b[0m\u001b[1;33m\u001b[0m\u001b[0m\n\u001b[0;32m      5\u001b[0m \u001b[0mro_pulse_generator_inst\u001b[0m\u001b[1;33m.\u001b[0m\u001b[0mset_ro_seq_osc\u001b[0m\u001b[1;33m(\u001b[0m\u001b[0mro_seq_osc\u001b[0m\u001b[1;33m)\u001b[0m\u001b[1;33m\u001b[0m\u001b[0m\n\u001b[1;32m----> 6\u001b[1;33m \u001b[0mcalib_meas\u001b[0m \u001b[1;33m=\u001b[0m \u001b[0madc_sz\u001b[0m\u001b[1;33m.\u001b[0m\u001b[0mmeasure\u001b[0m\u001b[1;33m(\u001b[0m\u001b[1;33m)\u001b[0m\u001b[1;33m\u001b[0m\u001b[0m\n\u001b[0m\u001b[0;32m      7\u001b[0m \u001b[0mplt\u001b[0m\u001b[1;33m.\u001b[0m\u001b[0mfigure\u001b[0m\u001b[1;33m(\u001b[0m\u001b[1;34m'hists'\u001b[0m\u001b[1;33m)\u001b[0m\u001b[1;33m\u001b[0m\u001b[0m\n\u001b[0;32m      8\u001b[0m \u001b[0mplt\u001b[0m\u001b[1;33m.\u001b[0m\u001b[0mplot\u001b[0m\u001b[1;33m(\u001b[0m\u001b[0madc_sz\u001b[0m\u001b[1;33m.\u001b[0m\u001b[0mcalib_proba_points\u001b[0m\u001b[1;33m,\u001b[0m \u001b[0madc_sz\u001b[0m\u001b[1;33m.\u001b[0m\u001b[0mcalib_hists\u001b[0m\u001b[1;33m.\u001b[0m\u001b[0mT\u001b[0m\u001b[1;33m)\u001b[0m\u001b[1;33m\u001b[0m\u001b[0m\n",
      "\u001b[1;32mD:\\qtlab_replacement\\scripts\\tomography.py\u001b[0m in \u001b[0;36mmeasure\u001b[1;34m(self)\u001b[0m\n\u001b[0;32m    304\u001b[0m \u001b[1;33m\u001b[0m\u001b[0m\n\u001b[0;32m    305\u001b[0m         \u001b[1;32mdef\u001b[0m \u001b[0mmeasure\u001b[0m\u001b[1;33m(\u001b[0m\u001b[0mself\u001b[0m\u001b[1;33m)\u001b[0m\u001b[1;33m:\u001b[0m\u001b[1;33m\u001b[0m\u001b[0m\n\u001b[1;32m--> 306\u001b[1;33m                 \u001b[0mself\u001b[0m\u001b[1;33m.\u001b[0m\u001b[0mcalibrate\u001b[0m\u001b[1;33m(\u001b[0m\u001b[1;33m)\u001b[0m\u001b[1;33m\u001b[0m\u001b[0m\n\u001b[0m\u001b[0;32m    307\u001b[0m \t\tmeas = {#'Calibrated ROC AUC binary': self.calib_roc_auc_binary,\n\u001b[0;32m    308\u001b[0m                                 \u001b[1;34m'Calibrated ROC AUC'\u001b[0m\u001b[1;33m:\u001b[0m \u001b[0mself\u001b[0m\u001b[1;33m.\u001b[0m\u001b[0mcalib_roc_auc\u001b[0m\u001b[1;33m,\u001b[0m\u001b[1;33m\u001b[0m\u001b[0m\n",
      "\u001b[1;32mD:\\qtlab_replacement\\scripts\\tomography.py\u001b[0m in \u001b[0;36mcalibrate\u001b[1;34m(self)\u001b[0m\n\u001b[0;32m    160\u001b[0m                 \u001b[1;32mfor\u001b[0m \u001b[0mi\u001b[0m \u001b[1;32min\u001b[0m \u001b[0mrange\u001b[0m\u001b[1;33m(\u001b[0m\u001b[0mself\u001b[0m\u001b[1;33m.\u001b[0m\u001b[0mrepeat_samples\u001b[0m\u001b[1;33m)\u001b[0m\u001b[1;33m:\u001b[0m\u001b[1;33m\u001b[0m\u001b[0m\n\u001b[0;32m    161\u001b[0m                         \u001b[0mself\u001b[0m\u001b[1;33m.\u001b[0m\u001b[0mpulse_generator\u001b[0m\u001b[1;33m.\u001b[0m\u001b[0mset_seq\u001b[0m\u001b[1;33m(\u001b[0m\u001b[0mself\u001b[0m\u001b[1;33m.\u001b[0m\u001b[0mex_seq_zero\u001b[0m\u001b[1;33m+\u001b[0m\u001b[0mself\u001b[0m\u001b[1;33m.\u001b[0m\u001b[0mro_seq\u001b[0m\u001b[1;33m)\u001b[0m\u001b[1;33m\u001b[0m\u001b[0m\n\u001b[1;32m--> 162\u001b[1;33m                         \u001b[0msamples_zero\u001b[0m\u001b[1;33m.\u001b[0m\u001b[0mappend\u001b[0m\u001b[1;33m(\u001b[0m\u001b[0mself\u001b[0m\u001b[1;33m.\u001b[0m\u001b[0madc\u001b[0m\u001b[1;33m.\u001b[0m\u001b[0mmeasure\u001b[0m\u001b[1;33m(\u001b[0m\u001b[1;33m)\u001b[0m\u001b[1;33m[\u001b[0m\u001b[1;34m'Voltage'\u001b[0m\u001b[1;33m]\u001b[0m\u001b[1;33m)\u001b[0m\u001b[1;33m\u001b[0m\u001b[0m\n\u001b[0m\u001b[0;32m    163\u001b[0m                         \u001b[1;31m# pi pulse sequence\u001b[0m\u001b[1;33m\u001b[0m\u001b[1;33m\u001b[0m\u001b[0m\n\u001b[0;32m    164\u001b[0m                         \u001b[0mself\u001b[0m\u001b[1;33m.\u001b[0m\u001b[0mpulse_generator\u001b[0m\u001b[1;33m.\u001b[0m\u001b[0mset_seq\u001b[0m\u001b[1;33m(\u001b[0m\u001b[0mself\u001b[0m\u001b[1;33m.\u001b[0m\u001b[0mex_seq\u001b[0m\u001b[1;33m+\u001b[0m\u001b[0mself\u001b[0m\u001b[1;33m.\u001b[0m\u001b[0mro_seq\u001b[0m\u001b[1;33m)\u001b[0m\u001b[1;33m\u001b[0m\u001b[0m\n",
      "\u001b[1;32mD:\\qtlab_replacement\\scripts\\data_reduce.py\u001b[0m in \u001b[0;36mmeasure\u001b[1;34m(self)\u001b[0m\n\u001b[0;32m     19\u001b[0m         \u001b[1;32mdef\u001b[0m \u001b[0mmeasure\u001b[0m\u001b[1;33m(\u001b[0m\u001b[0mself\u001b[0m\u001b[1;33m)\u001b[0m\u001b[1;33m:\u001b[0m\u001b[1;33m\u001b[0m\u001b[0m\n\u001b[0;32m     20\u001b[0m                 \u001b[0mdata\u001b[0m \u001b[1;33m=\u001b[0m \u001b[0mself\u001b[0m\u001b[1;33m.\u001b[0m\u001b[0msource\u001b[0m\u001b[1;33m.\u001b[0m\u001b[0mmeasure\u001b[0m\u001b[1;33m(\u001b[0m\u001b[1;33m)\u001b[0m\u001b[1;33m\u001b[0m\u001b[0m\n\u001b[1;32m---> 21\u001b[1;33m                 \u001b[1;32mreturn\u001b[0m \u001b[1;33m{\u001b[0m \u001b[0mfilter_name\u001b[0m\u001b[1;33m:\u001b[0m\u001b[0mfilter\u001b[0m\u001b[1;33m[\u001b[0m\u001b[1;34m'filter'\u001b[0m\u001b[1;33m]\u001b[0m\u001b[1;33m(\u001b[0m\u001b[0mdata\u001b[0m\u001b[1;33m)\u001b[0m \u001b[1;32mfor\u001b[0m \u001b[0mfilter_name\u001b[0m\u001b[1;33m,\u001b[0m \u001b[0mfilter\u001b[0m \u001b[1;32min\u001b[0m \u001b[0mself\u001b[0m\u001b[1;33m.\u001b[0m\u001b[0mfilters\u001b[0m\u001b[1;33m.\u001b[0m\u001b[0mitems\u001b[0m\u001b[1;33m(\u001b[0m\u001b[1;33m)\u001b[0m\u001b[1;33m}\u001b[0m\u001b[1;33m\u001b[0m\u001b[0m\n\u001b[0m\u001b[0;32m     22\u001b[0m \u001b[1;33m\u001b[0m\u001b[0m\n\u001b[0;32m     23\u001b[0m         \u001b[1;32mdef\u001b[0m \u001b[0mget_opts\u001b[0m\u001b[1;33m(\u001b[0m\u001b[0mself\u001b[0m\u001b[1;33m)\u001b[0m\u001b[1;33m:\u001b[0m\u001b[1;33m\u001b[0m\u001b[0m\n",
      "\u001b[1;32mD:\\qtlab_replacement\\scripts\\data_reduce.py\u001b[0m in \u001b[0;36m<dictcomp>\u001b[1;34m(.0)\u001b[0m\n\u001b[0;32m     19\u001b[0m         \u001b[1;32mdef\u001b[0m \u001b[0mmeasure\u001b[0m\u001b[1;33m(\u001b[0m\u001b[0mself\u001b[0m\u001b[1;33m)\u001b[0m\u001b[1;33m:\u001b[0m\u001b[1;33m\u001b[0m\u001b[0m\n\u001b[0;32m     20\u001b[0m                 \u001b[0mdata\u001b[0m \u001b[1;33m=\u001b[0m \u001b[0mself\u001b[0m\u001b[1;33m.\u001b[0m\u001b[0msource\u001b[0m\u001b[1;33m.\u001b[0m\u001b[0mmeasure\u001b[0m\u001b[1;33m(\u001b[0m\u001b[1;33m)\u001b[0m\u001b[1;33m\u001b[0m\u001b[0m\n\u001b[1;32m---> 21\u001b[1;33m                 \u001b[1;32mreturn\u001b[0m \u001b[1;33m{\u001b[0m \u001b[0mfilter_name\u001b[0m\u001b[1;33m:\u001b[0m\u001b[0mfilter\u001b[0m\u001b[1;33m[\u001b[0m\u001b[1;34m'filter'\u001b[0m\u001b[1;33m]\u001b[0m\u001b[1;33m(\u001b[0m\u001b[0mdata\u001b[0m\u001b[1;33m)\u001b[0m \u001b[1;32mfor\u001b[0m \u001b[0mfilter_name\u001b[0m\u001b[1;33m,\u001b[0m \u001b[0mfilter\u001b[0m \u001b[1;32min\u001b[0m \u001b[0mself\u001b[0m\u001b[1;33m.\u001b[0m\u001b[0mfilters\u001b[0m\u001b[1;33m.\u001b[0m\u001b[0mitems\u001b[0m\u001b[1;33m(\u001b[0m\u001b[1;33m)\u001b[0m\u001b[1;33m}\u001b[0m\u001b[1;33m\u001b[0m\u001b[0m\n\u001b[0m\u001b[0;32m     22\u001b[0m \u001b[1;33m\u001b[0m\u001b[0m\n\u001b[0;32m     23\u001b[0m         \u001b[1;32mdef\u001b[0m \u001b[0mget_opts\u001b[0m\u001b[1;33m(\u001b[0m\u001b[0mself\u001b[0m\u001b[1;33m)\u001b[0m\u001b[1;33m:\u001b[0m\u001b[1;33m\u001b[0m\u001b[0m\n",
      "\u001b[1;32mD:\\qtlab_replacement\\scripts\\data_reduce.py\u001b[0m in \u001b[0;36m<lambda>\u001b[1;34m(x)\u001b[0m\n\u001b[0;32m     35\u001b[0m         \u001b[0mfilter_func\u001b[0m \u001b[1;33m=\u001b[0m \u001b[1;32mlambda\u001b[0m \u001b[0mx\u001b[0m\u001b[1;33m,\u001b[0m\u001b[0ms\u001b[0m\u001b[1;33m:\u001b[0m\u001b[0mnp\u001b[0m\u001b[1;33m.\u001b[0m\u001b[0mmean\u001b[0m\u001b[1;33m(\u001b[0m\u001b[0mnp\u001b[0m\u001b[1;33m.\u001b[0m\u001b[0mreshape\u001b[0m\u001b[1;33m(\u001b[0m\u001b[0mnp\u001b[0m\u001b[1;33m.\u001b[0m\u001b[0mexp\u001b[0m\u001b[1;33m(\u001b[0m\u001b[0ms\u001b[0m\u001b[1;33m*\u001b[0m\u001b[1;36m2\u001b[0m\u001b[1;33m*\u001b[0m\u001b[0mnp\u001b[0m\u001b[1;33m.\u001b[0m\u001b[0mpi\u001b[0m\u001b[1;33m*\u001b[0m\u001b[1;36m1j\u001b[0m\u001b[1;33m*\u001b[0m\u001b[0msource\u001b[0m\u001b[1;33m.\u001b[0m\u001b[0mget_points\u001b[0m\u001b[1;33m(\u001b[0m\u001b[1;33m)\u001b[0m\u001b[1;33m[\u001b[0m\u001b[0msrc_meas\u001b[0m\u001b[1;33m]\u001b[0m\u001b[1;33m[\u001b[0m\u001b[0maxis\u001b[0m\u001b[1;33m]\u001b[0m\u001b[1;33m[\u001b[0m\u001b[1;36m1\u001b[0m\u001b[1;33m]\u001b[0m\u001b[1;33m*\u001b[0m\u001b[0mcarrier\u001b[0m\u001b[1;33m)\u001b[0m\u001b[1;33m*\u001b[0m\u001b[0mx\u001b[0m\u001b[1;33m[\u001b[0m\u001b[0msrc_meas\u001b[0m\u001b[1;33m]\u001b[0m\u001b[1;33m,\u001b[0m \u001b[0mintermediate_axes\u001b[0m\u001b[1;33m)\u001b[0m\u001b[1;33m,\u001b[0m \u001b[0maxis\u001b[0m\u001b[1;33m=\u001b[0m\u001b[0maxis\u001b[0m\u001b[1;33m+\u001b[0m\u001b[1;36m1\u001b[0m\u001b[1;33m)\u001b[0m\u001b[1;33m\u001b[0m\u001b[0m\n\u001b[0;32m     36\u001b[0m \u001b[1;33m\u001b[0m\u001b[0m\n\u001b[1;32m---> 37\u001b[1;33m \tfilter = {'filter': lambda x:filter_func(x,1) if not iq else np.concatenate([filter_func(x,1), filter_func(x,-1)], axis=iq_axis),\n\u001b[0m\u001b[0;32m     38\u001b[0m                           \u001b[1;34m'get_points'\u001b[0m\u001b[1;33m:\u001b[0m \u001b[0mget_points\u001b[0m\u001b[1;33m,\u001b[0m\u001b[1;33m\u001b[0m\u001b[0m\n\u001b[0;32m     39\u001b[0m                           \u001b[1;34m'get_dtype'\u001b[0m\u001b[1;33m:\u001b[0m \u001b[1;33m(\u001b[0m\u001b[1;32mlambda\u001b[0m \u001b[1;33m:\u001b[0m \u001b[0mcomplex\u001b[0m \u001b[1;32mif\u001b[0m \u001b[0msource\u001b[0m\u001b[1;33m.\u001b[0m\u001b[0mget_dtype\u001b[0m\u001b[1;33m(\u001b[0m\u001b[1;33m)\u001b[0m\u001b[1;33m[\u001b[0m\u001b[0msrc_meas\u001b[0m\u001b[1;33m]\u001b[0m \u001b[1;32mis\u001b[0m \u001b[0mcomplex\u001b[0m \u001b[1;32melse\u001b[0m \u001b[0mfloat\u001b[0m\u001b[1;33m)\u001b[0m\u001b[1;33m,\u001b[0m\u001b[1;33m\u001b[0m\u001b[0m\n",
      "\u001b[1;32mD:\\qtlab_replacement\\scripts\\data_reduce.py\u001b[0m in \u001b[0;36m<lambda>\u001b[1;34m(x, s)\u001b[0m\n\u001b[0;32m     33\u001b[0m                 \u001b[1;32mreturn\u001b[0m \u001b[0mnew_axes\u001b[0m\u001b[1;33m\u001b[0m\u001b[0m\n\u001b[0;32m     34\u001b[0m         \u001b[0mintermediate_axes\u001b[0m \u001b[1;33m=\u001b[0m \u001b[1;33m[\u001b[0m\u001b[0mlen\u001b[0m\u001b[1;33m(\u001b[0m\u001b[0ma\u001b[0m\u001b[1;33m[\u001b[0m\u001b[1;36m1\u001b[0m\u001b[1;33m]\u001b[0m\u001b[1;33m)\u001b[0m \u001b[1;32mfor\u001b[0m \u001b[0ma\u001b[0m \u001b[1;32min\u001b[0m \u001b[0msource\u001b[0m\u001b[1;33m.\u001b[0m\u001b[0mget_points\u001b[0m\u001b[1;33m(\u001b[0m\u001b[1;33m)\u001b[0m\u001b[1;33m[\u001b[0m\u001b[0msrc_meas\u001b[0m\u001b[1;33m]\u001b[0m\u001b[1;33m[\u001b[0m\u001b[1;33m:\u001b[0m\u001b[0maxis\u001b[0m\u001b[1;33m]\u001b[0m\u001b[1;33m]\u001b[0m\u001b[1;33m+\u001b[0m\u001b[1;33m[\u001b[0m\u001b[0mlen\u001b[0m\u001b[1;33m(\u001b[0m\u001b[0msource\u001b[0m\u001b[1;33m.\u001b[0m\u001b[0mget_points\u001b[0m\u001b[1;33m(\u001b[0m\u001b[1;33m)\u001b[0m\u001b[1;33m[\u001b[0m\u001b[0msrc_meas\u001b[0m\u001b[1;33m]\u001b[0m\u001b[1;33m[\u001b[0m\u001b[0maxis\u001b[0m\u001b[1;33m]\u001b[0m\u001b[1;33m[\u001b[0m\u001b[1;36m1\u001b[0m\u001b[1;33m]\u001b[0m\u001b[1;33m[\u001b[0m\u001b[1;33m:\u001b[0m\u001b[1;33m:\u001b[0m\u001b[0mdownsample\u001b[0m\u001b[1;33m]\u001b[0m\u001b[1;33m)\u001b[0m\u001b[1;33m,\u001b[0m \u001b[0mdownsample\u001b[0m\u001b[1;33m]\u001b[0m\u001b[1;33m+\u001b[0m\u001b[1;33m[\u001b[0m\u001b[0mlen\u001b[0m\u001b[1;33m(\u001b[0m\u001b[0ma\u001b[0m\u001b[1;33m[\u001b[0m\u001b[1;36m1\u001b[0m\u001b[1;33m]\u001b[0m\u001b[1;33m)\u001b[0m \u001b[1;32mfor\u001b[0m \u001b[0ma\u001b[0m \u001b[1;32min\u001b[0m \u001b[0msource\u001b[0m\u001b[1;33m.\u001b[0m\u001b[0mget_points\u001b[0m\u001b[1;33m(\u001b[0m\u001b[1;33m)\u001b[0m\u001b[1;33m[\u001b[0m\u001b[0msrc_meas\u001b[0m\u001b[1;33m]\u001b[0m\u001b[1;33m[\u001b[0m\u001b[0maxis\u001b[0m\u001b[1;33m+\u001b[0m\u001b[1;36m1\u001b[0m\u001b[1;33m:\u001b[0m\u001b[1;33m]\u001b[0m\u001b[1;33m]\u001b[0m\u001b[1;33m\u001b[0m\u001b[0m\n\u001b[1;32m---> 35\u001b[1;33m         \u001b[0mfilter_func\u001b[0m \u001b[1;33m=\u001b[0m \u001b[1;32mlambda\u001b[0m \u001b[0mx\u001b[0m\u001b[1;33m,\u001b[0m\u001b[0ms\u001b[0m\u001b[1;33m:\u001b[0m\u001b[0mnp\u001b[0m\u001b[1;33m.\u001b[0m\u001b[0mmean\u001b[0m\u001b[1;33m(\u001b[0m\u001b[0mnp\u001b[0m\u001b[1;33m.\u001b[0m\u001b[0mreshape\u001b[0m\u001b[1;33m(\u001b[0m\u001b[0mnp\u001b[0m\u001b[1;33m.\u001b[0m\u001b[0mexp\u001b[0m\u001b[1;33m(\u001b[0m\u001b[0ms\u001b[0m\u001b[1;33m*\u001b[0m\u001b[1;36m2\u001b[0m\u001b[1;33m*\u001b[0m\u001b[0mnp\u001b[0m\u001b[1;33m.\u001b[0m\u001b[0mpi\u001b[0m\u001b[1;33m*\u001b[0m\u001b[1;36m1j\u001b[0m\u001b[1;33m*\u001b[0m\u001b[0msource\u001b[0m\u001b[1;33m.\u001b[0m\u001b[0mget_points\u001b[0m\u001b[1;33m(\u001b[0m\u001b[1;33m)\u001b[0m\u001b[1;33m[\u001b[0m\u001b[0msrc_meas\u001b[0m\u001b[1;33m]\u001b[0m\u001b[1;33m[\u001b[0m\u001b[0maxis\u001b[0m\u001b[1;33m]\u001b[0m\u001b[1;33m[\u001b[0m\u001b[1;36m1\u001b[0m\u001b[1;33m]\u001b[0m\u001b[1;33m*\u001b[0m\u001b[0mcarrier\u001b[0m\u001b[1;33m)\u001b[0m\u001b[1;33m*\u001b[0m\u001b[0mx\u001b[0m\u001b[1;33m[\u001b[0m\u001b[0msrc_meas\u001b[0m\u001b[1;33m]\u001b[0m\u001b[1;33m,\u001b[0m \u001b[0mintermediate_axes\u001b[0m\u001b[1;33m)\u001b[0m\u001b[1;33m,\u001b[0m \u001b[0maxis\u001b[0m\u001b[1;33m=\u001b[0m\u001b[0maxis\u001b[0m\u001b[1;33m+\u001b[0m\u001b[1;36m1\u001b[0m\u001b[1;33m)\u001b[0m\u001b[1;33m\u001b[0m\u001b[0m\n\u001b[0m\u001b[0;32m     36\u001b[0m \u001b[1;33m\u001b[0m\u001b[0m\n\u001b[0;32m     37\u001b[0m \tfilter = {'filter': lambda x:filter_func(x,1) if not iq else np.concatenate([filter_func(x,1), filter_func(x,-1)], axis=iq_axis),\n",
      "\u001b[1;32mC:\\ProgramData\\Anaconda3\\lib\\site-packages\\numpy\\core\\fromnumeric.py\u001b[0m in \u001b[0;36mreshape\u001b[1;34m(a, newshape, order)\u001b[0m\n\u001b[0;32m    230\u001b[0m            [5, 6]])\n\u001b[0;32m    231\u001b[0m     \"\"\"\n\u001b[1;32m--> 232\u001b[1;33m     \u001b[1;32mreturn\u001b[0m \u001b[0m_wrapfunc\u001b[0m\u001b[1;33m(\u001b[0m\u001b[0ma\u001b[0m\u001b[1;33m,\u001b[0m \u001b[1;34m'reshape'\u001b[0m\u001b[1;33m,\u001b[0m \u001b[0mnewshape\u001b[0m\u001b[1;33m,\u001b[0m \u001b[0morder\u001b[0m\u001b[1;33m=\u001b[0m\u001b[0morder\u001b[0m\u001b[1;33m)\u001b[0m\u001b[1;33m\u001b[0m\u001b[0m\n\u001b[0m\u001b[0;32m    233\u001b[0m \u001b[1;33m\u001b[0m\u001b[0m\n\u001b[0;32m    234\u001b[0m \u001b[1;33m\u001b[0m\u001b[0m\n",
      "\u001b[1;32mC:\\ProgramData\\Anaconda3\\lib\\site-packages\\numpy\\core\\fromnumeric.py\u001b[0m in \u001b[0;36m_wrapfunc\u001b[1;34m(obj, method, *args, **kwds)\u001b[0m\n\u001b[0;32m     55\u001b[0m \u001b[1;32mdef\u001b[0m \u001b[0m_wrapfunc\u001b[0m\u001b[1;33m(\u001b[0m\u001b[0mobj\u001b[0m\u001b[1;33m,\u001b[0m \u001b[0mmethod\u001b[0m\u001b[1;33m,\u001b[0m \u001b[1;33m*\u001b[0m\u001b[0margs\u001b[0m\u001b[1;33m,\u001b[0m \u001b[1;33m**\u001b[0m\u001b[0mkwds\u001b[0m\u001b[1;33m)\u001b[0m\u001b[1;33m:\u001b[0m\u001b[1;33m\u001b[0m\u001b[0m\n\u001b[0;32m     56\u001b[0m     \u001b[1;32mtry\u001b[0m\u001b[1;33m:\u001b[0m\u001b[1;33m\u001b[0m\u001b[0m\n\u001b[1;32m---> 57\u001b[1;33m         \u001b[1;32mreturn\u001b[0m \u001b[0mgetattr\u001b[0m\u001b[1;33m(\u001b[0m\u001b[0mobj\u001b[0m\u001b[1;33m,\u001b[0m \u001b[0mmethod\u001b[0m\u001b[1;33m)\u001b[0m\u001b[1;33m(\u001b[0m\u001b[1;33m*\u001b[0m\u001b[0margs\u001b[0m\u001b[1;33m,\u001b[0m \u001b[1;33m**\u001b[0m\u001b[0mkwds\u001b[0m\u001b[1;33m)\u001b[0m\u001b[1;33m\u001b[0m\u001b[0m\n\u001b[0m\u001b[0;32m     58\u001b[0m \u001b[1;33m\u001b[0m\u001b[0m\n\u001b[0;32m     59\u001b[0m     \u001b[1;31m# An AttributeError occurs if the object does not have\u001b[0m\u001b[1;33m\u001b[0m\u001b[1;33m\u001b[0m\u001b[0m\n",
      "\u001b[1;31mValueError\u001b[0m: cannot reshape array of size 20480000 into shape (15000,256,8)"
     ]
    }
   ],
   "source": [
    "#setting optimal settings \n",
    "print ('Calibrated optimal readout amplitude: ', ro_dac_amplitude, ro_dac_length)\n",
    "ro_pulse_generator_inst.set_ro_amplitude(ro_dac_amplitude)\n",
    "ro_pulse_generator_inst.set_ro_length(ro_dac_length)\n",
    "ro_pulse_generator_inst.set_ro_seq_osc(ro_seq_osc)\n",
    "calib_meas = adc_sz.measure()\n",
    "plt.figure('hists')\n",
    "plt.plot(adc_sz.calib_proba_points, adc_sz.calib_hists.T)\n",
    "adc_calibrated_reducer = data_reduce.data_reduce(adc_sz.measurer)\n",
    "#adc_calibrated_reducer = data_reduce.data_reduce(adc)\n",
    "#adc_calibrated_reducer.filters['sz'] = adc_sz.filter_mean\n",
    "#adc_calibrated_reducer.filters['sz sh'] = adc_sz.filter\n",
    "adc_calibrated_reducer.filters['sz'] = adc_sz.filter_binary_mean\n",
    "print (calib_meas)\n",
    "adc_calibrated_reducer.measure()"
   ]
  },
  {
   "cell_type": "code",
   "execution_count": 43,
   "metadata": {},
   "outputs": [
    {
     "ename": "AttributeError",
     "evalue": "'sz_measurer' object has no attribute 'filter_binary'",
     "output_type": "error",
     "traceback": [
      "\u001b[1;31m---------------------------------------------------------------------------\u001b[0m",
      "\u001b[1;31mAttributeError\u001b[0m                            Traceback (most recent call last)",
      "\u001b[1;32m<ipython-input-43-9fb7f86e0d80>\u001b[0m in \u001b[0;36m<module>\u001b[1;34m()\u001b[0m\n\u001b[0;32m      2\u001b[0m \u001b[0mproj_seq\u001b[0m \u001b[1;33m=\u001b[0m \u001b[1;33m{\u001b[0m\u001b[1;34m'Zo'\u001b[0m\u001b[1;33m:\u001b[0m \u001b[1;33m{\u001b[0m\u001b[1;34m'pulses'\u001b[0m\u001b[1;33m:\u001b[0m\u001b[0madc_sz\u001b[0m\u001b[1;33m.\u001b[0m\u001b[0mro_seq\u001b[0m\u001b[1;33m,\u001b[0m \u001b[1;34m'operator'\u001b[0m\u001b[1;33m:\u001b[0m\u001b[0mobservables\u001b[0m\u001b[1;33m[\u001b[0m\u001b[1;34m'Z'\u001b[0m\u001b[1;33m]\u001b[0m\u001b[1;33m}\u001b[0m \u001b[1;33m}\u001b[0m\u001b[1;33m\u001b[0m\u001b[0m\n\u001b[0;32m      3\u001b[0m \u001b[0mreconstruction_basis\u001b[0m\u001b[1;33m=\u001b[0m\u001b[1;33m{\u001b[0m\u001b[1;34m'z'\u001b[0m\u001b[1;33m:\u001b[0m\u001b[1;33m{\u001b[0m\u001b[1;34m'operator'\u001b[0m\u001b[1;33m:\u001b[0m\u001b[0mobservables\u001b[0m\u001b[1;33m[\u001b[0m\u001b[1;34m'Z'\u001b[0m\u001b[1;33m]\u001b[0m\u001b[1;33m}\u001b[0m\u001b[1;33m}\u001b[0m\u001b[1;33m\u001b[0m\u001b[0m\n\u001b[1;32m----> 4\u001b[1;33m \u001b[0mtomoz\u001b[0m \u001b[1;33m=\u001b[0m \u001b[0mtomography_new\u001b[0m\u001b[1;33m.\u001b[0m\u001b[0mtomography\u001b[0m\u001b[1;33m(\u001b[0m\u001b[0madc_sz\u001b[0m\u001b[1;33m,\u001b[0m \u001b[0mpg\u001b[0m\u001b[1;33m,\u001b[0m \u001b[0mproj_seq\u001b[0m\u001b[1;33m,\u001b[0m \u001b[0mreconstruction_basis\u001b[0m\u001b[1;33m=\u001b[0m\u001b[0mreconstruction_basis\u001b[0m\u001b[1;33m)\u001b[0m\u001b[1;33m\u001b[0m\u001b[0m\n\u001b[0m",
      "\u001b[1;32mD:\\qtlab_replacement\\scripts\\tomography.py\u001b[0m in \u001b[0;36m__init__\u001b[1;34m(self, sz_measurer, pulse_generator, proj_seq, reconstruction_basis)\u001b[0m\n\u001b[0;32m    342\u001b[0m \u001b[1;33m\u001b[0m\u001b[0m\n\u001b[0;32m    343\u001b[0m                 \u001b[0mself\u001b[0m\u001b[1;33m.\u001b[0m\u001b[0madc_reducer\u001b[0m \u001b[1;33m=\u001b[0m \u001b[0mdata_reduce\u001b[0m\u001b[1;33m.\u001b[0m\u001b[0mdata_reduce\u001b[0m\u001b[1;33m(\u001b[0m\u001b[0mself\u001b[0m\u001b[1;33m.\u001b[0m\u001b[0msz_measurer\u001b[0m\u001b[1;33m.\u001b[0m\u001b[0madc\u001b[0m\u001b[1;33m)\u001b[0m\u001b[1;33m\u001b[0m\u001b[0m\n\u001b[1;32m--> 344\u001b[1;33m                 \u001b[0mself\u001b[0m\u001b[1;33m.\u001b[0m\u001b[0madc_reducer\u001b[0m\u001b[1;33m.\u001b[0m\u001b[0mfilters\u001b[0m\u001b[1;33m[\u001b[0m\u001b[1;34m'SZ'\u001b[0m\u001b[1;33m]\u001b[0m \u001b[1;33m=\u001b[0m \u001b[0mself\u001b[0m\u001b[1;33m.\u001b[0m\u001b[0msz_measurer\u001b[0m\u001b[1;33m.\u001b[0m\u001b[0mfilter_binary\u001b[0m\u001b[1;33m\u001b[0m\u001b[0m\n\u001b[0m\u001b[0;32m    345\u001b[0m \u001b[1;33m\u001b[0m\u001b[0m\n\u001b[0;32m    346\u001b[0m         \u001b[1;32mdef\u001b[0m \u001b[0mget_points\u001b[0m\u001b[1;33m(\u001b[0m\u001b[0mself\u001b[0m\u001b[1;33m)\u001b[0m\u001b[1;33m:\u001b[0m\u001b[1;33m\u001b[0m\u001b[0m\n",
      "\u001b[1;31mAttributeError\u001b[0m: 'sz_measurer' object has no attribute 'filter_binary'"
     ]
    }
   ],
   "source": [
    "observables = { 'Z': 0.5*np.asarray([[1, 0],   [0, -1]])}\n",
    "proj_seq = {'Zo': {'pulses':adc_sz.ro_seq, 'operator':observables['Z']} }\n",
    "reconstruction_basis={'z':{'operator':observables['Z']}}\n",
    "tomoz = tomography_new.tomography(adc_sz, pg, proj_seq, reconstruction_basis=reconstruction_basis)"
   ]
  },
  {
   "cell_type": "code",
   "execution_count": null,
   "metadata": {
    "collapsed": true
   },
   "outputs": [],
   "source": [
    "adc_sz.new_calibrate()"
   ]
  },
  {
   "cell_type": "code",
   "execution_count": null,
   "metadata": {
    "collapsed": true
   },
   "outputs": [],
   "source": [
    "plt.figure()\n",
    "plt.plot(np.real(adc_sz.calib_feature))\n",
    "plt.plot(np.imag(adc_sz.calib_feature))"
   ]
  },
  {
   "cell_type": "code",
   "execution_count": null,
   "metadata": {
    "collapsed": true
   },
   "outputs": [],
   "source": [
    "plt.figure('old avg')\n",
    "plt.plot(np.real(adc_sz.calib_bg))\n",
    "plt.plot(np.imag(adc_sz.calib_bg))"
   ]
  },
  {
   "cell_type": "code",
   "execution_count": null,
   "metadata": {
    "collapsed": true
   },
   "outputs": [],
   "source": [
    "plt.figure('new feature')\n",
    "plt.plot(np.real(adc_sz.predictor_class.diff))\n",
    "plt.plot(np.imag(adc_sz.predictor_class.diff))"
   ]
  },
  {
   "cell_type": "code",
   "execution_count": null,
   "metadata": {
    "collapsed": true
   },
   "outputs": [],
   "source": [
    "adc.stop()"
   ]
  },
  {
   "cell_type": "code",
   "execution_count": 66,
   "metadata": {
    "collapsed": true
   },
   "outputs": [],
   "source": [
    "import awg_digital\n",
    "import awg_iq\n",
    "import data_reduce\n",
    "import imp\n",
    "import fitting\n",
    "import plotting\n",
    "import save_pkl\n",
    "import tomography as tomography_new\n",
    "import tomography_legacy as tomography\n",
    "import sweep\n",
    "imp.reload(awg_digital)\n",
    "imp.reload(awg_iq)\n",
    "imp.reload(data_reduce)\n",
    "imp.reload(fitting)\n",
    "imp.reload(plotting)\n",
    "imp.reload(save_pkl)\n",
    "imp.reload(tomography)\n",
    "imp.reload(tomography_new)\n",
    "imp.reload(sweep)\n",
    "pg = tomography_new.pulses(awg_channels)"
   ]
  },
  {
   "cell_type": "code",
   "execution_count": null,
   "metadata": {
    "collapsed": true
   },
   "outputs": [],
   "source": [
    "adc.stop()"
   ]
  },
  {
   "cell_type": "markdown",
   "metadata": {},
   "source": [
    "# Rabi"
   ]
  },
  {
   "cell_type": "code",
   "execution_count": 69,
   "metadata": {
    "scrolled": false
   },
   "outputs": [
    {
     "ename": "NameError",
     "evalue": "name 'tomoz' is not defined",
     "output_type": "error",
     "traceback": [
      "\u001b[1;31m---------------------------------------------------------------------------\u001b[0m",
      "\u001b[1;31mNameError\u001b[0m                                 Traceback (most recent call last)",
      "\u001b[1;32m<ipython-input-69-f4984d2297d0>\u001b[0m in \u001b[0;36m<module>\u001b[1;34m()\u001b[0m\n\u001b[0;32m     12\u001b[0m     \u001b[0mtomoz\u001b[0m\u001b[1;33m.\u001b[0m\u001b[0mset_prepare_seq\u001b[0m\u001b[1;33m(\u001b[0m\u001b[0msequence\u001b[0m\u001b[1;33m)\u001b[0m\u001b[1;33m\u001b[0m\u001b[0m\n\u001b[0;32m     13\u001b[0m     \u001b[0mawg_tek\u001b[0m\u001b[1;33m.\u001b[0m\u001b[0mrun\u001b[0m\u001b[1;33m(\u001b[0m\u001b[1;33m)\u001b[0m\u001b[1;33m\u001b[0m\u001b[0m\n\u001b[1;32m---> 14\u001b[1;33m \u001b[0mmeasurement\u001b[0m \u001b[1;33m=\u001b[0m \u001b[0msweep\u001b[0m\u001b[1;33m.\u001b[0m\u001b[0msweep\u001b[0m\u001b[1;33m(\u001b[0m\u001b[0mtomoz\u001b[0m\u001b[1;33m,\u001b[0m \u001b[1;33m(\u001b[0m\u001b[0mlengths\u001b[0m\u001b[1;33m,\u001b[0m \u001b[0mset_ex_length\u001b[0m\u001b[1;33m,\u001b[0m \u001b[1;34m'Rabi pulse length'\u001b[0m\u001b[1;33m,\u001b[0m \u001b[1;34m's'\u001b[0m\u001b[1;33m)\u001b[0m\u001b[1;33m,\u001b[0m \u001b[0mfilename\u001b[0m\u001b[1;33m=\u001b[0m\u001b[1;34m'Rabi'\u001b[0m\u001b[1;33m)\u001b[0m\u001b[1;33m\u001b[0m\u001b[0m\n\u001b[0m\u001b[0;32m     15\u001b[0m \u001b[0mmeasurement_fitted\u001b[0m\u001b[1;33m,\u001b[0m \u001b[0mfitted_parameters\u001b[0m \u001b[1;33m=\u001b[0m \u001b[0mfitting\u001b[0m\u001b[1;33m.\u001b[0m\u001b[0mfit1d\u001b[0m\u001b[1;33m(\u001b[0m\u001b[0mmeasurement\u001b[0m\u001b[1;33m,\u001b[0m \u001b[0mfitting\u001b[0m\u001b[1;33m.\u001b[0m\u001b[0mexp_sin_fit\u001b[0m\u001b[1;33m,\u001b[0m \u001b[1;34m'z'\u001b[0m\u001b[1;33m)\u001b[0m\u001b[1;33m\u001b[0m\u001b[0m\n\u001b[0;32m     16\u001b[0m annotation = 'Phase: {0:4.4g} rad, Freq: {1:4.4g}, Decay: {2:4.4g} s'.format(fitted_parameters['phase'], \n",
      "\u001b[1;31mNameError\u001b[0m: name 'tomoz' is not defined"
     ]
    }
   ],
   "source": [
    "ex_amplitude = 1.0#смотрим на график в S21-phase ?? как жить что частота от этого зависит\n",
    "pause_length = 16e-9#пауза между возб.импульсом и считывающим\n",
    "lengths = np.linspace(0e-9, 1e-7,41)#время наблюдения осцилляций,для фитования частоты достатоно пары периодов\n",
    "tail_length = 12e-9\n",
    "readout_begin = np.max(lengths)\n",
    "lo1.set_status(True)\n",
    "def set_ex_length(length):\n",
    "    awg_tek.set_nop(awg_tek.get_clock()/rep_rate)\n",
    "    sequence = [pg.p(None, readout_begin-length), \n",
    "                pg.p('iq_ex', length, pg.rect, ex_amplitude), \n",
    "                pg.p(None, pause_length)]\n",
    "    tomoz.set_prepare_seq(sequence)\n",
    "    awg_tek.run()\n",
    "measurement = sweep.sweep(tomoz, (lengths, set_ex_length, 'Rabi pulse length', 's'), filename='Rabi')\n",
    "measurement_fitted, fitted_parameters = fitting.fit1d(measurement, fitting.exp_sin_fit, 'z')\n",
    "annotation = 'Phase: {0:4.4g} rad, Freq: {1:4.4g}, Decay: {2:4.4g} s'.format(fitted_parameters['phase'], \n",
    "                                                                             fitted_parameters['freq'], \n",
    "                                                                             fitted_parameters['decay'])\n",
    "save_pkl.save_pkl({'type':'Rabi'}, measurement_fitted, annotation=annotation)"
   ]
  },
  {
   "cell_type": "code",
   "execution_count": 31,
   "metadata": {},
   "outputs": [
    {
     "ename": "KeyError",
     "evalue": "'sz'",
     "output_type": "error",
     "traceback": [
      "\u001b[1;31m---------------------------------------------------------------------------\u001b[0m",
      "\u001b[1;31mKeyError\u001b[0m                                  Traceback (most recent call last)",
      "\u001b[1;32m<ipython-input-31-404ac803586f>\u001b[0m in \u001b[0;36m<module>\u001b[1;34m()\u001b[0m\n\u001b[1;32m----> 1\u001b[1;33m \u001b[0mmeasurement_fitted\u001b[0m\u001b[1;33m,\u001b[0m \u001b[0mfitted_parameters\u001b[0m \u001b[1;33m=\u001b[0m \u001b[0mfitting\u001b[0m\u001b[1;33m.\u001b[0m\u001b[0mfit1d\u001b[0m\u001b[1;33m(\u001b[0m\u001b[0mmeasurement\u001b[0m\u001b[1;33m,\u001b[0m \u001b[0mfitting\u001b[0m\u001b[1;33m.\u001b[0m\u001b[0mexp_sin_fit\u001b[0m\u001b[1;33m,\u001b[0m \u001b[1;34m'sz'\u001b[0m\u001b[1;33m)\u001b[0m\u001b[1;33m\u001b[0m\u001b[0m\n\u001b[0m\u001b[0;32m      2\u001b[0m annotation = 'Phase: {0:4.4g} rad, Freq: {1:4.4g}, Decay: {2:4.4g} s'.format(fitted_parameters['phase'], \n\u001b[0;32m      3\u001b[0m                                                                              \u001b[0mfitted_parameters\u001b[0m\u001b[1;33m[\u001b[0m\u001b[1;34m'freq'\u001b[0m\u001b[1;33m]\u001b[0m\u001b[1;33m,\u001b[0m\u001b[1;33m\u001b[0m\u001b[0m\n\u001b[0;32m      4\u001b[0m                                                                              fitted_parameters['decay'])\n\u001b[0;32m      5\u001b[0m \u001b[0msave_pkl\u001b[0m\u001b[1;33m.\u001b[0m\u001b[0msave_pkl\u001b[0m\u001b[1;33m(\u001b[0m\u001b[1;33m{\u001b[0m\u001b[1;34m'type'\u001b[0m\u001b[1;33m:\u001b[0m\u001b[1;34m'Rabi'\u001b[0m\u001b[1;33m}\u001b[0m\u001b[1;33m,\u001b[0m \u001b[0mmeasurement_fitted\u001b[0m\u001b[1;33m,\u001b[0m \u001b[0mannotation\u001b[0m\u001b[1;33m=\u001b[0m\u001b[0mannotation\u001b[0m\u001b[1;33m)\u001b[0m\u001b[1;33m\u001b[0m\u001b[0m\n",
      "\u001b[1;32mD:\\qtlab_replacement\\scripts\\fitting.py\u001b[0m in \u001b[0;36mfit1d\u001b[1;34m(measurement, fitter, measurement_name)\u001b[0m\n\u001b[0;32m    150\u001b[0m \u001b[1;33m\u001b[0m\u001b[0m\n\u001b[0;32m    151\u001b[0m \u001b[1;32mdef\u001b[0m \u001b[0mfit1d\u001b[0m\u001b[1;33m(\u001b[0m\u001b[0mmeasurement\u001b[0m\u001b[1;33m,\u001b[0m \u001b[0mfitter\u001b[0m\u001b[1;33m,\u001b[0m \u001b[0mmeasurement_name\u001b[0m\u001b[1;33m)\u001b[0m\u001b[1;33m:\u001b[0m\u001b[1;33m\u001b[0m\u001b[0m\n\u001b[1;32m--> 152\u001b[1;33m         \u001b[0mt\u001b[0m \u001b[1;33m=\u001b[0m \u001b[0mmeasurement\u001b[0m\u001b[1;33m[\u001b[0m\u001b[0mmeasurement_name\u001b[0m\u001b[1;33m]\u001b[0m\u001b[1;33m[\u001b[0m\u001b[1;36m1\u001b[0m\u001b[1;33m]\u001b[0m\u001b[1;33m[\u001b[0m\u001b[1;36m0\u001b[0m\u001b[1;33m]\u001b[0m\u001b[1;33m\u001b[0m\u001b[0m\n\u001b[0m\u001b[0;32m    153\u001b[0m         \u001b[0mfitdata\u001b[0m \u001b[1;33m=\u001b[0m \u001b[1;33m[\u001b[0m \u001b[0mmeasurement\u001b[0m\u001b[1;33m[\u001b[0m\u001b[0mmeasurement_name\u001b[0m\u001b[1;33m]\u001b[0m\u001b[1;33m[\u001b[0m\u001b[1;36m2\u001b[0m\u001b[1;33m]\u001b[0m\u001b[1;33m]\u001b[0m\u001b[1;33m\u001b[0m\u001b[0m\n\u001b[0;32m    154\u001b[0m         \u001b[0mfitted_curve\u001b[0m\u001b[1;33m,\u001b[0m \u001b[0mparameters\u001b[0m \u001b[1;33m=\u001b[0m \u001b[0mfitter\u001b[0m\u001b[1;33m(\u001b[0m\u001b[0mt\u001b[0m\u001b[1;33m,\u001b[0m \u001b[0mfitdata\u001b[0m\u001b[1;33m)\u001b[0m\u001b[1;33m\u001b[0m\u001b[0m\n",
      "\u001b[1;31mKeyError\u001b[0m: 'sz'"
     ]
    }
   ],
   "source": [
    "measurement_fitted, fitted_parameters = fitting.fit1d(measurement, fitting.exp_sin_fit, 'sz')\n",
    "annotation = 'Phase: {0:4.4g} rad, Freq: {1:4.4g}, Decay: {2:4.4g} s'.format(fitted_parameters['phase'], \n",
    "                                                                             fitted_parameters['freq'], \n",
    "                                                                             fitted_parameters['decay'])\n",
    "save_pkl.save_pkl({'type':'Rabi'}, measurement_fitted, annotation=annotation)"
   ]
  },
  {
   "cell_type": "markdown",
   "metadata": {},
   "source": [
    "# Ramsey"
   ]
  },
  {
   "cell_type": "code",
   "execution_count": 56,
   "metadata": {
    "scrolled": true
   },
   "outputs": [
    {
     "ename": "NameError",
     "evalue": "name 'tomoz' is not defined",
     "output_type": "error",
     "traceback": [
      "\u001b[1;31m---------------------------------------------------------------------------\u001b[0m",
      "\u001b[1;31mNameError\u001b[0m                                 Traceback (most recent call last)",
      "\u001b[1;32m<ipython-input-56-1b59db80a947>\u001b[0m in \u001b[0;36m<module>\u001b[1;34m()\u001b[0m\n\u001b[0;32m     20\u001b[0m     \u001b[0mtomoz\u001b[0m\u001b[1;33m.\u001b[0m\u001b[0mset_prepare_seq\u001b[0m\u001b[1;33m(\u001b[0m\u001b[0msequence\u001b[0m\u001b[1;33m)\u001b[0m\u001b[1;33m\u001b[0m\u001b[0m\n\u001b[0;32m     21\u001b[0m     \u001b[0mawg_tek\u001b[0m\u001b[1;33m.\u001b[0m\u001b[0mrun\u001b[0m\u001b[1;33m(\u001b[0m\u001b[1;33m)\u001b[0m\u001b[1;33m\u001b[0m\u001b[0m\n\u001b[1;32m---> 22\u001b[1;33m \u001b[0mmeasurement\u001b[0m \u001b[1;33m=\u001b[0m \u001b[0msweep\u001b[0m\u001b[1;33m.\u001b[0m\u001b[0msweep\u001b[0m\u001b[1;33m(\u001b[0m\u001b[0mtomoz\u001b[0m\u001b[1;33m,\u001b[0m \u001b[1;33m(\u001b[0m\u001b[0mdelays\u001b[0m\u001b[1;33m,\u001b[0m \u001b[0mset_delay\u001b[0m\u001b[1;33m,\u001b[0m \u001b[1;34m'Ramsey delay'\u001b[0m\u001b[1;33m,\u001b[0m \u001b[1;34m's'\u001b[0m\u001b[1;33m)\u001b[0m\u001b[1;33m,\u001b[0m \u001b[0mfilename\u001b[0m\u001b[1;33m=\u001b[0m\u001b[1;34m'Ramsey'\u001b[0m\u001b[1;33m)\u001b[0m\u001b[1;33m\u001b[0m\u001b[0m\n\u001b[0m\u001b[0;32m     23\u001b[0m \u001b[1;31m#measurement = sweep.sweep(adc_sz, (delays, set_delay, 'Ramsey delay'), filename='Ramsey')\u001b[0m\u001b[1;33m\u001b[0m\u001b[1;33m\u001b[0m\u001b[0m\n\u001b[0;32m     24\u001b[0m \u001b[0mmeasurement_fitted\u001b[0m\u001b[1;33m,\u001b[0m \u001b[0mfitted_parameters\u001b[0m \u001b[1;33m=\u001b[0m \u001b[0mfitting\u001b[0m\u001b[1;33m.\u001b[0m\u001b[0mexp_sin_fit\u001b[0m\u001b[1;33m(\u001b[0m\u001b[0mmeasurement\u001b[0m\u001b[1;33m[\u001b[0m\u001b[1;34m'sz'\u001b[0m\u001b[1;33m]\u001b[0m\u001b[1;33m[\u001b[0m\u001b[1;36m1\u001b[0m\u001b[1;33m]\u001b[0m\u001b[1;33m[\u001b[0m\u001b[1;36m0\u001b[0m\u001b[1;33m]\u001b[0m\u001b[1;33m,\u001b[0m \u001b[0mnp\u001b[0m\u001b[1;33m.\u001b[0m\u001b[0mreshape\u001b[0m\u001b[1;33m(\u001b[0m\u001b[0mmeasurement\u001b[0m\u001b[1;33m[\u001b[0m\u001b[1;34m'sz'\u001b[0m\u001b[1;33m]\u001b[0m\u001b[1;33m[\u001b[0m\u001b[1;36m2\u001b[0m\u001b[1;33m]\u001b[0m\u001b[1;33m,\u001b[0m \u001b[1;33m(\u001b[0m\u001b[1;36m1\u001b[0m\u001b[1;33m,\u001b[0m \u001b[1;33m-\u001b[0m\u001b[1;36m1\u001b[0m\u001b[1;33m)\u001b[0m\u001b[1;33m)\u001b[0m\u001b[1;33m)\u001b[0m\u001b[1;33m\u001b[0m\u001b[0m\n",
      "\u001b[1;31mNameError\u001b[0m: name 'tomoz' is not defined"
     ]
    }
   ],
   "source": [
    "ex_amplitude = 1.0\n",
    "# pi2_pulse = 7e-9 #Q2\n",
    "pi2_pulse = 60e-9 #Q4\n",
    "#pi2_pulse = T_pi_half #Q4\n",
    "pause_length = 16e-9\n",
    "delays = np.linspace(1e-9, 1000e-9, 51)#последовательность задержек между двумя пи/2 импульсами\n",
    "target_freq_offset = 2e6\n",
    "\n",
    "readout_begin = np.max(delays)+pi2_pulse*2\n",
    "\n",
    "def set_delay(delay):\n",
    "    awg_tek.set_nop(awg_tek.get_clock()/rep_rate)\n",
    "    \n",
    "    sequence = [pg.p(None, readout_begin-pi2_pulse),\n",
    "                pg.p('iq_ex', pi2_pulse, pg.rect, ex_amplitude), \n",
    "                pg.p(None, delay), \n",
    "                pg.p('iq_ex', pi2_pulse, pg.rect, ex_amplitude*np.exp(1j*delay*target_freq_offset*2*np.pi)),#зачем фаза? \n",
    "                pg.p(None, pause_length), ]\n",
    "    \n",
    "    tomoz.set_prepare_seq(sequence)\n",
    "    awg_tek.run()\n",
    "measurement = sweep.sweep(tomoz, (delays, set_delay, 'Ramsey delay', 's'), filename='Ramsey')\n",
    "#measurement = sweep.sweep(adc_sz, (delays, set_delay, 'Ramsey delay'), filename='Ramsey')\n",
    "measurement_fitted, fitted_parameters = fitting.exp_sin_fit(measurement['sz'][1][0], np.reshape(measurement['sz'][2], (1, -1)))\n",
    "annotation = 'Phase: {0:4.4g} rad, Freq: {1:4.4g}, Decay: {2:4.4g} s'.format(fitted_parameters['phase'], \n",
    "                                                                             fitted_parameters['freq'], \n",
    "                                                                             fitted_parameters['decay'])\n",
    "save_pkl.save_pkl({'type':'Ramsey'}, measurement, annotation=annotation)"
   ]
  },
  {
   "cell_type": "code",
   "execution_count": null,
   "metadata": {
    "collapsed": true
   },
   "outputs": [],
   "source": [
    "transition_length\n",
    "pause_length = 0"
   ]
  },
  {
   "cell_type": "code",
   "execution_count": null,
   "metadata": {
    "collapsed": true
   },
   "outputs": [],
   "source": [
    "num_pulses = np.arange(0, 45, 1)\n",
    "y_sign = '-'\n",
    "y_sign_mul = 1 if y_sign == '-' else -1\n",
    "pulse_type = pg.gauss_hd\n",
    "amp = amp_gauss\n",
    "par1 = 0\n",
    "length = pi2_gauss\n",
    "pause_length = 32e-09\n",
    "\n",
    "def set_ape_length(num_pulses):\n",
    "#    sequence = [pg.p('iq_ex', length, pulse_type , amp, par1, par2, alpha), pg.p(None, pause_length)]+\\\n",
    "#               [pg.p('iq_ex', length, pulse_type , amp, par1, par2, alpha), pg.p(None, pause_length),\n",
    "#                pg.p('iq_ex', length, pulse_type , -amp, par1, par2, alpha), pg.p(None, pause_length)]*num_pulses+\\\n",
    "#               [pg.p('iq_ex', length, pulse_type , 1j*y_sign_mul*amp, par1, par2, alpha), pg.p(None, pause_length)]\n",
    "    sequence = [pg.p('iq_ex', length, pulse_type, amp, transition_length), pg.p(None, pause_length)]+\\\n",
    "               [pg.p('iq_ex', length, pulse_type, amp, transition_length), pg.p(None, pause_length),\n",
    "                pg.p('iq_ex', length, pulse_type, -amp, transition_length), pg.p(None, pause_length)]*int(np.round(num_pulses))+\\\n",
    "               [pg.p('iq_ex', length, pulse_type, y_sign_mul*1j*amp, transition_length), pg.p(None, 0e-09)]\n",
    "\n",
    "    tomoz.set_prepare_seq(sequence)\n",
    "    \n",
    "    awg_tek.run()\n",
    "measurement = sweep.sweep(tomoz, (num_pulses, set_ape_length, 'APE identity pulse num'), filename='APE Y'+y_sign)"
   ]
  },
  {
   "cell_type": "code",
   "execution_count": null,
   "metadata": {
    "collapsed": true
   },
   "outputs": [],
   "source": [
    "num_pulses = 80\n",
    "y_sign = '+'\n",
    "y_sign_mul = 1 if y_sign == '+' else -1\n",
    "#anharmonicity = -223e6\n",
    "#alphas = np.linspace(-1.0, 1.0, 21)/(200e6*2*np.pi)\n",
    "alphas = np.linspace(0.75, 1.2, 21)\n",
    "\n",
    "def set_alpha(alpha_dimensionless):\n",
    "    alpha = -alpha_dimensionless/(anharmonicity*2*np.pi)\n",
    "    sequence = [pg.p('iq_ex', length, pg.gauss_hd, amp, alpha), pg.p(None, pause_length)]+\\\n",
    "               [pg.p('iq_ex', length, pg.gauss_hd, amp, alpha), pg.p(None, pause_length),\n",
    "                pg.p('iq_ex', length, pg.gauss_hd, -amp, alpha), pg.p(None, pause_length)]*num_pulses+\\\n",
    "               [pg.p('iq_ex', length, pg.gauss_hd, y_sign_mul*amp, alpha), \n",
    "                #pg.p(None, pause_length),\n",
    "                #pg.p('ro_trg', trg_length, pg.rect, 1), \n",
    "                #pg.p('iq_ro', ro_dac_length/4., pg.rect, ro_dac_amplitude), \n",
    "                #pg.p('iq_ro', ro_dac_length/4., pg.rect, -2*ro_dac_amplitude), \n",
    "                #pg.p('iq_ro', ro_dac_length/4., pg.rect, 2*ro_dac_amplitude),\n",
    "                #pg.p('iq_ro', ro_dac_length/4., pg.rect, -2*ro_dac_amplitude)]\n",
    "    tomoz.set_prepare_seq(sequence)\n",
    "    #pg.set_seq(sequence)\n",
    "    \n",
    "    awg_tek.run()\n",
    "#measurement = sweep.sweep(adc_reducer, (alphas, set_alpha, 'HD DRAG alpha'), filename='APE Y'+y_sign+' dependence on HD DRAG alpha')\n",
    "measurement = sweep.sweep(tomoz, (alphas, set_alpha, 'HD DRAG alpha'), filename='APE Y'+y_sign+' dependence on HD DRAG alpha')"
   ]
  },
  {
   "cell_type": "markdown",
   "metadata": {},
   "source": [
    "# CPMG"
   ]
  },
  {
   "cell_type": "code",
   "execution_count": 68,
   "metadata": {},
   "outputs": [
    {
     "ename": "NameError",
     "evalue": "name 'adc_calibrated_reducer' is not defined",
     "output_type": "error",
     "traceback": [
      "\u001b[1;31m---------------------------------------------------------------------------\u001b[0m",
      "\u001b[1;31mNameError\u001b[0m                                 Traceback (most recent call last)",
      "\u001b[1;32m<ipython-input-68-0ee194bf3745>\u001b[0m in \u001b[0;36m<module>\u001b[1;34m()\u001b[0m\n\u001b[0;32m     24\u001b[0m     \u001b[0mpg\u001b[0m\u001b[1;33m.\u001b[0m\u001b[0mset_seq\u001b[0m\u001b[1;33m(\u001b[0m\u001b[0msequence\u001b[0m\u001b[1;33m)\u001b[0m\u001b[1;33m\u001b[0m\u001b[0m\n\u001b[0;32m     25\u001b[0m     \u001b[0mawg_tek\u001b[0m\u001b[1;33m.\u001b[0m\u001b[0mrun\u001b[0m\u001b[1;33m(\u001b[0m\u001b[1;33m)\u001b[0m\u001b[1;33m\u001b[0m\u001b[0m\n\u001b[1;32m---> 26\u001b[1;33m \u001b[0mmeasurement\u001b[0m \u001b[1;33m=\u001b[0m \u001b[0msweep\u001b[0m\u001b[1;33m.\u001b[0m\u001b[0msweep\u001b[0m\u001b[1;33m(\u001b[0m\u001b[0madc_calibrated_reducer\u001b[0m\u001b[1;33m,\u001b[0m\u001b[1;33m(\u001b[0m\u001b[0mtays\u001b[0m\u001b[1;33m,\u001b[0m \u001b[0mset_tay\u001b[0m\u001b[1;33m,\u001b[0m \u001b[1;34m'CPMG'\u001b[0m\u001b[1;33m)\u001b[0m\u001b[1;33m,\u001b[0m \u001b[0mfilename\u001b[0m \u001b[1;33m=\u001b[0m \u001b[1;34m'CPMG N={}'\u001b[0m\u001b[1;33m.\u001b[0m\u001b[0mformat\u001b[0m\u001b[1;33m(\u001b[0m\u001b[0mN\u001b[0m\u001b[1;33m)\u001b[0m\u001b[1;33m)\u001b[0m\u001b[1;33m\u001b[0m\u001b[0m\n\u001b[0m",
      "\u001b[1;31mNameError\u001b[0m: name 'adc_calibrated_reducer' is not defined"
     ]
    }
   ],
   "source": [
    "ex_amplitude = 0.79\n",
    "pi2_pulse = 56e-9\n",
    "pause_length = 16e-9\n",
    "N = 1\n",
    "tays = np.linspace(pi2_pulse*2*N, 10e-6, 21)\n",
    "tayp = N*pi2_pulse + 2*pi2_pulse\n",
    "readout_begin = np.max(tays)+pi2_pulse*2\n",
    "def set_tay(tay):\n",
    "    sequence = []\n",
    "    delay = tay/(N*2)-pi2_pulse\n",
    "    awg_tek.set_nop(awg_tek.get_clock()/rep_rate)\n",
    "    sequence =  [pg.p('iq_ex', pi2_pulse, pg.rect, ex_amplitude)]\n",
    "    sequence += [pg.p(None, delay),\n",
    "                 pg.p('iq_ex', pi2_pulse*2, pg.rect, ex_amplitude*np.exp(1j*np.pi/2)), \n",
    "                 #pg.p('iq_ex', pi2_pulse, pg.rect, ex_amplitude*np.exp(1j*np.pi/2)),\n",
    "                 pg.p(None, delay)]*N\n",
    "    sequence += [pg.p('iq_ex', pi2_pulse, pg.rect, ex_amplitude),\n",
    "                 pg.p(None, pause_length), \n",
    "                 pg.p('ro_trg', trg_length, pg.rect, 1), \n",
    "                 pg.p('iq_ro', ro_dac_length/4., pg.rect, ro_dac_amplitude), \n",
    "                 pg.p('iq_ro', ro_dac_length/4., pg.rect, -2*ro_dac_amplitude), \n",
    "                 pg.p('iq_ro', ro_dac_length/4., pg.rect, 2*ro_dac_amplitude),\n",
    "                 pg.p('iq_ro', ro_dac_length/4., pg.rect, -2*ro_dac_amplitude)]\n",
    "    pg.set_seq(sequence)\n",
    "    awg_tek.run()\n",
    "measurement = sweep.sweep(adc_calibrated_reducer,(tays, set_tay, 'CPMG'), filename = 'CPMG N={}'.format(N))"
   ]
  },
  {
   "cell_type": "code",
   "execution_count": null,
   "metadata": {
    "collapsed": true
   },
   "outputs": [],
   "source": [
    "adc.stop()"
   ]
  },
  {
   "cell_type": "markdown",
   "metadata": {},
   "source": [
    "### CPMG from thesis"
   ]
  },
  {
   "cell_type": "code",
   "execution_count": null,
   "metadata": {
    "collapsed": true
   },
   "outputs": [],
   "source": [
    "#ex_amplitude = 0.79\n",
    "#pi2_pulse = 70e-9\n",
    "#pause_length = 16e-9\n",
    "#N = 5\n",
    "taymax = 10e-06\n",
    "number_of_pulses = [0, 1, 3, 5, 7, 10, 15, 20, 25, 30]\n",
    "#number_of_pulses = [0, 1, 3, 5, 7]\n",
    "#delaymax = taymax - N*2*pi2_pulse\n",
    "#tays = np.linspace(0, taymax, 21)\n",
    "#delay = (taymax - N*2*pi_pulse)/(2*N)\n",
    "#readout_begin = np.max(tays)+pi2_pulse*2\n",
    "def set_delay(tay):\n",
    "    sequence = []\n",
    "    if (N==0):\n",
    "        delay = tay\n",
    "    else:\n",
    "        delay = (tay - N*2*pi2_gauss)/(2*N)\n",
    "    awg_tek.set_nop(awg_tek.get_clock()/rep_rate)\n",
    "    sequence =  [pg.p('iq_ex', pi2_gauss, pg.gauss_hd, amp_gauss, sigma_gauss, alpha_gauss)]\n",
    "    sequence += [pg.p(None, delay),\n",
    "                 pg.p('iq_ex', pi2_gauss, pg.gauss_hd, amp_gauss*np.exp(1j*np.pi/2), sigma_gauss, alpha_gauss), \n",
    "                 pg.p('iq_ex', pi2_gauss, pg.gauss_hd, amp_gauss*np.exp(1j*np.pi/2), sigma_gauss, alpha_gauss), \n",
    "                 pg.p(None, delay)]*N\n",
    "    if (N==0):\n",
    "        sequence += [pg.p(None, delay)]\n",
    "    sequence += [pg.p('iq_ex', pi2_gauss, pg.gauss_hd, amp_gauss, sigma_gauss, alpha_gauss),\n",
    "                 pg.p(None, pause_length)]\n",
    "                # pg.p('ro_trg', trg_length, pg.rect, 1), \n",
    "                # pg.p('iq_ro', ro_dac_length/4., pg.rect, 0.5*ro_dac_amplitude), \n",
    "                # pg.p('iq_ro', ro_dac_length/4., pg.rect, -ro_dac_amplitude), \n",
    "                # pg.p('iq_ro', ro_dac_length/4., pg.rect, ro_dac_amplitude),\n",
    "                # pg.p('iq_ro', ro_dac_length/4., pg.rect, -ro_dac_amplitude)]\n",
    "    #pg.set_seq(sequence)\n",
    "    tomoz.set_prepare_seq(sequence)\n",
    "    awg_tek.run()\n",
    "for i in number_of_pulses:\n",
    "    N = i\n",
    "    tays = np.asarray((np.linspace(N*2*pi2_gauss, N*4*pi2_gauss, 11)).tolist() + (np.linspace(N*4*pi2_gauss, taymax/2, 51)).tolist() + (np.linspace(taymax/2, taymax, 31)).tolist())\n",
    "    measurement = sweep.sweep(tomoz,(tays, set_delay, 'CPMG'), filename = 'CPMG Thesis N={}'.format(N))"
   ]
  },
  {
   "cell_type": "code",
   "execution_count": null,
   "metadata": {
    "collapsed": true
   },
   "outputs": [],
   "source": [
    "taymax = 10e-06\n",
    "number_of_pulses = [0, 1, 3, 5, 7, 10, 15, 20, 25, 30]\n",
    "def set_delay(tay):\n",
    "    sequence = []\n",
    "    if (N==0):\n",
    "        delay = tay\n",
    "    else:\n",
    "        delay = tay/(2*N)\n",
    "    awg_tek.set_nop(awg_tek.get_clock()/rep_rate)\n",
    "    sequence =  [pg.p('iq_ex', pi2_gauss, pg.gauss_hd, amp_gauss, sigma_gauss, alpha_gauss)]\n",
    "    sequence += [pg.p(None, delay),\n",
    "                 pg.p('iq_ex', pi2_gauss, pg.gauss_hd, amp_gauss*np.exp(1j*np.pi/2), sigma_gauss, alpha_gauss), \n",
    "                 pg.p('iq_ex', pi2_gauss, pg.gauss_hd, amp_gauss*np.exp(1j*np.pi/2), sigma_gauss, alpha_gauss), \n",
    "                 pg.p(None, delay)]*N\n",
    "    if (N==0):\n",
    "        sequence += [pg.p(None, delay)]\n",
    "    sequence += [pg.p('iq_ex', pi2_gauss, pg.gauss_hd, amp_gauss, sigma_gauss, alpha_gauss),\n",
    "                 pg.p(None, pause_length)]\n",
    "                # pg.p('ro_trg', trg_length, pg.rect, 1), \n",
    "                # pg.p('iq_ro', ro_dac_length/4., pg.rect, 0.5*ro_dac_amplitude), \n",
    "                # pg.p('iq_ro', ro_dac_length/4., pg.rect, -ro_dac_amplitude), \n",
    "                # pg.p('iq_ro', ro_dac_length/4., pg.rect, ro_dac_amplitude),\n",
    "                # pg.p('iq_ro', ro_dac_length/4., pg.rect, -ro_dac_amplitude)]\n",
    "    #pg.set_seq(sequence)\n",
    "    tomoz.set_prepare_seq(sequence)\n",
    "    awg_tek.run()\n",
    "for i in number_of_pulses:\n",
    "    N = i\n",
    "    tays = np.asarray((np.linspace(0, N*4*pi2_gauss, 21)).tolist() + (np.linspace(N*4*pi2_gauss, taymax/2, 51)).tolist() + (np.linspace(taymax/2, taymax, 31)).tolist())\n",
    "    measurement = sweep.sweep(tomoz,(tays, set_delay, 'CPMG'), filename = 'CPMG Thesis N={}'.format(N))"
   ]
  },
  {
   "cell_type": "markdown",
   "metadata": {},
   "source": [
    "## Double readout "
   ]
  },
  {
   "cell_type": "code",
   "execution_count": 33,
   "metadata": {
    "collapsed": true
   },
   "outputs": [],
   "source": [
    "adc.stop()"
   ]
  },
  {
   "cell_type": "code",
   "execution_count": 34,
   "metadata": {},
   "outputs": [
    {
     "name": "stdout",
     "output_type": "stream",
     "text": [
      "2048 <class 'int'>\n"
     ]
    },
    {
     "data": {
      "application/vnd.jupyter.widget-view+json": {
       "model_id": "c91fdb0f984d44389fd8ab12c146d4cd",
       "version_major": 2,
       "version_minor": 0
      },
      "text/plain": [
       "A Jupyter Widget"
      ]
     },
     "metadata": {},
     "output_type": "display_data"
    },
    {
     "name": "stdout",
     "output_type": "stream",
     "text": [
      "Started at:  Apr 20 2018 15:49:25\n"
     ]
    },
    {
     "name": "stderr",
     "output_type": "stream",
     "text": [
      "D:\\qtlab_replacement\\instruments\\Tektronix_AWG5014.py:648: ComplexWarning: Casting complex values to real discards the imaginary part\n",
      "  m1[:] = marker[:len(m1)]\n"
     ]
    },
    {
     "name": "stdout",
     "output_type": "stream",
     "text": [
      "\n",
      "Elapsed time: 0 h 0 m 34.65 s\n"
     ]
    }
   ],
   "source": [
    "delays = np.linspace(0.0e-6,1.5e-6,10)\n",
    "pause_length = 1e-6\n",
    "ro_dac_length = 0.8e-6\n",
    "ro_adc_length = 3.5e-6\n",
    "adc.set_nums(1000)\n",
    "set_adc_nop(ro_adc_length)\n",
    "adc.set_nums(10000)\n",
    "def set_delays (delay):\n",
    "    awg_tek.set_nop(awg_tek.get_clock()/rep_rate)\n",
    "    sequence = [    pg.p('ro_trg', trg_length, pg.rect, 1), \n",
    "                    pg.p('iq_ro', ro_dac_length/4., pg.rect, ro_dac_amplitude), \n",
    "                    pg.p('iq_ro', ro_dac_length/4., pg.rect, -2*ro_dac_amplitude), \n",
    "                    pg.p('iq_ro', ro_dac_length/4., pg.rect, 2*ro_dac_amplitude),\n",
    "                    pg.p('iq_ro', ro_dac_length/4., pg.rect, -2*ro_dac_amplitude),\n",
    "                    pg.p(None, delay),\n",
    "                    pg.p('iq_ro', ro_dac_length/4., pg.rect, ro_dac_amplitude), \n",
    "                    pg.p('iq_ro', ro_dac_length/4., pg.rect, -2*ro_dac_amplitude), \n",
    "                    pg.p('iq_ro', ro_dac_length/4., pg.rect, 2*ro_dac_amplitude),\n",
    "                    pg.p('iq_ro', ro_dac_length/4., pg.rect, -2*ro_dac_amplitude), \n",
    "                    pg.p(None, pause_length)]\n",
    "    pg.set_seq(sequence)\n",
    "    awg_tek.run()\n",
    "measurement = sweep.sweep(adc, (delays, set_delays, 'Delay', 's'), filename = r'Double(0)')\n",
    "    "
   ]
  },
  {
   "cell_type": "code",
   "execution_count": null,
   "metadata": {
    "collapsed": true
   },
   "outputs": [],
   "source": [
    "from scipy import fft, ifft\n",
    "plt.plot(measurement['Mean Voltage (AC)'][2][3])\n"
   ]
  },
  {
   "cell_type": "code",
   "execution_count": null,
   "metadata": {
    "collapsed": true
   },
   "outputs": [],
   "source": [
    "measurement "
   ]
  },
  {
   "cell_type": "code",
   "execution_count": null,
   "metadata": {
    "collapsed": true
   },
   "outputs": [],
   "source": [
    "delays"
   ]
  },
  {
   "cell_type": "code",
   "execution_count": null,
   "metadata": {
    "collapsed": true
   },
   "outputs": [],
   "source": [
    "import awg_digital\n",
    "import awg_iq\n",
    "import data_reduce\n",
    "import imp\n",
    "import fitting\n",
    "import plotting\n",
    "import save_pkl\n",
    "import tomography as tomography_new\n",
    "import tomography_legacy as tomography\n",
    "import sweep\n",
    "imp.reload(awg_digital)\n",
    "imp.reload(awg_iq)\n",
    "imp.reload(data_reduce)\n",
    "imp.reload(fitting)\n",
    "imp.reload(plotting)\n",
    "imp.reload(save_pkl)\n",
    "imp.reload(tomography)\n",
    "imp.reload(tomography_new)\n",
    "imp.reload(sweep)\n",
    "pg = tomography_new.pulses(awg_channels)"
   ]
  },
  {
   "cell_type": "code",
   "execution_count": null,
   "metadata": {
    "collapsed": true
   },
   "outputs": [],
   "source": [
    "adc.stop()"
   ]
  },
  {
   "cell_type": "code",
   "execution_count": null,
   "metadata": {
    "collapsed": true,
    "scrolled": true
   },
   "outputs": [],
   "source": [
    "ex_amplitude = 1.0#смотрим на график в S21-phase ?? как жить что частота от этого зависит\n",
    "pause_length = 16e-9#пауза между возб.импульсом и считывающим\n",
    "length_tail = 1e-08\n",
    "lengths = np.linspace(0e-8 + 2*length_tail, 1e-6,61)#время наблюдения осцилляций,для фитования частоты достатоно пары периодов\n",
    "readout_begin = np.max(lengths)\n",
    "lo1.set_status(True)\n",
    "def set_ex_length(length):\n",
    "    awg_tek.set_nop(awg_tek.get_clock()/rep_rate)\n",
    "    sequence = [pg.p(None, readout_begin-length), \n",
    "                pg.p('iq_ex', length, pg.rect_cos, ex_amplitude, length_tail), \n",
    "                pg.p(None, pause_length),\n",
    "                pg.p('ro_trg', trg_length, pg.rect, 1), \n",
    "                pg.p('iq_ro', ro_dac_length/5., pg.rect, 0.5*ro_dac_amplitude), \n",
    "                pg.p('iq_ro', ro_dac_length/5., pg.rect, -ro_dac_amplitude), \n",
    "                pg.p('iq_ro', ro_dac_length/5., pg.rect, ro_dac_amplitude),\n",
    "                pg.p('iq_ro', ro_dac_length/5., pg.rect, -ro_dac_amplitude),\n",
    "                pg.p('iq_ro', ro_dac_length/5., pg.rect, ro_dac_amplitude)]\n",
    "    awg_tek.run()\n",
    "measurement = sweep.sweep(adc_calibrated_reducer, (lengths, set_ex_length, 'Rabi pulse length', 's'), filename='Rabi')\n",
    "measurement_fitted, fitted_parameters = fitting.fit1d(measurement, fitting.exp_sin_fit, 'sz')\n",
    "annotation = 'Phase: {0:4.4g} rad, Freq: {1:4.4g}, Decay: {2:4.4g} s'.format(fitted_parameters['phase'], \n",
    "                                                                             fitted_parameters['freq'], \n",
    "                                                                             fitted_parameters['decay'])\n",
    "save_pkl.save_pkl({'type':'Rabi'}, measurement_fitted, annotation=annotation)"
   ]
  },
  {
   "cell_type": "markdown",
   "metadata": {},
   "source": [
    "### Rabi amplitude oscillations"
   ]
  },
  {
   "cell_type": "code",
   "execution_count": null,
   "metadata": {
    "collapsed": true,
    "scrolled": true
   },
   "outputs": [],
   "source": [
    "#ex_amps = np.linspace(0.3225,0.3325,21)\n",
    "#num_pulses = 50\n",
    "ex_amps = np.linspace(0.88, 0.9, 21)\n",
    "num_pulses = 256\n",
    "#pi2_tukey = 88e-9\n",
    "#length_tail = 12e-9\n",
    "pause_length = 0e-9\n",
    "# ro_dac_length=0.2e-6\n",
    "#readout_begin = np.max((length+pause_length)*num_pulses)\n",
    "pulse_type = pg.gauss_hd\n",
    "alpha_tukey = -0.0/(2*np.pi*anharmonicity)\n",
    "length = pi2_gauss\n",
    "#sigma = 3e-9\n",
    "length_transition = sigma_gauss\n",
    "alpha = 0.\n",
    "def set_ex_amp(amp):\n",
    "    awg_tek.set_nop(awg_tek.get_clock()/rep_rate)\n",
    "    \n",
    "    #sequence = [pg.p('iq_ex', pi2_tuker, pg.rect, amp), \n",
    "    #            pg.p(None, pause_length)]*num_pulses+\\\n",
    "    #            [pg.p('ro_trg', trg_length, pg.rect, 1), \n",
    "    #             pg.p('iq_ro', ro_dac_length/5., pg.rect, 0.5*ro_dac_amplitude), \n",
    "    #             pg.p('iq_ro', ro_dac_length/5., pg.rect, -ro_dac_amplitude), \n",
    "    #             pg.p('iq_ro', ro_dac_length/5., pg.rect, ro_dac_amplitude),\n",
    "    #             pg.p('iq_ro', ro_dac_length/5., pg.rect, -ro_dac_amplitude),\n",
    "    #             pg.p('iq_ro', ro_dac_length/5., pg.rect, ro_dac_amplitude)]\n",
    "    sequence = [pg.p('iq_ex', length, pulse_type, amp, length_transition, alpha), \n",
    "                pg.p(None, pause_length)]*num_pulses\n",
    "    \n",
    "    tomoz.set_prepare_seq(sequence)\n",
    "    \n",
    "    awg_tek.run()\n",
    "measurement = sweep.sweep(tomoz, (ex_amps, set_ex_amp, 'Rabi pulse amplitude'), filename='Rabi')"
   ]
  },
  {
   "cell_type": "code",
   "execution_count": null,
   "metadata": {
    "collapsed": true,
    "scrolled": false
   },
   "outputs": [],
   "source": [
    "#ex_amps = np.linspace(0.3225,0.3325,21)\n",
    "#num_pulses = 50\n",
    "#ex_amps = np.linspace(0.8,1.0,21)\n",
    "num_pulses = np.arange(0,25)\n",
    "#pi2_tukey = 88e-9\n",
    "length_tail = 12e-9\n",
    "# ro_dac_length=0.2e-6\n",
    "#readout_begin = np.max((length+pause_length)*num_pulses)\n",
    "alpha_gauss = -0.0/(2*np.pi*anharmonicity)\n",
    "pause_length = 0e-9\n",
    "length = pi2_gauss\n",
    "def set_num_pulses(num_pulses):\n",
    "    awg_tek.set_nop(awg_tek.get_clock()/rep_rate)\n",
    "    \n",
    "    #sequence = [pg.p('iq_ex', pi2_tuker, pg.rect, amp), \n",
    "    #            pg.p(None, pause_length)]*num_pulses+\\\n",
    "    #            [pg.p('ro_trg', trg_length, pg.rect, 1), \n",
    "    #             pg.p('iq_ro', ro_dac_length/5., pg.rect, 0.5*ro_dac_amplitude), \n",
    "    #             pg.p('iq_ro', ro_dac_length/5., pg.rect, -ro_dac_amplitude), \n",
    "    #             pg.p('iq_ro', ro_dac_length/5., pg.rect, ro_dac_amplitude),\n",
    "    #             pg.p('iq_ro', ro_dac_length/5., pg.rect, -ro_dac_amplitude),\n",
    "    #             pg.p('iq_ro', ro_dac_length/5., pg.rect, ro_dac_amplitude)]\n",
    "    sequence = [pg.p('iq_ex', length, pg.gauss_hd, amp_gauss, alpha_gauss), \n",
    "                pg.p(None, pause_length)]*num_pulses\n",
    "    \n",
    "    tomoz.set_prepare_seq(sequence)\n",
    "    \n",
    "    awg_tek.run()\n",
    "measurement = sweep.sweep(tomoz, (num_pulses, set_num_pulses, 'Pi half pulse num'), filename='Rabi')"
   ]
  },
  {
   "cell_type": "code",
   "execution_count": null,
   "metadata": {
    "collapsed": true
   },
   "outputs": [],
   "source": [
    "plt.figure()\n",
    "plt.plot(np.real(awg_tek.get_waveform(channel=2)))\n",
    "plt.plot(np.imag(awg_tek.get_waveform(channel=1)))\n",
    "plt.plot(np.real(awg_tek.get_waveform(channel=3)))\n",
    "plt.plot(np.imag(awg_tek.get_waveform(channel=4)))"
   ]
  },
  {
   "cell_type": "code",
   "execution_count": null,
   "metadata": {
    "collapsed": true
   },
   "outputs": [],
   "source": [
    "from scipy.signal import tukey\n",
    "adc.stop()"
   ]
  },
  {
   "cell_type": "code",
   "execution_count": null,
   "metadata": {
    "collapsed": true
   },
   "outputs": [],
   "source": [
    "plt.plot(np.real(pg.p('iq_ex', pi2_tuker, pg.rect_cos, 1)))"
   ]
  },
  {
   "cell_type": "code",
   "execution_count": null,
   "metadata": {
    "collapsed": true,
    "scrolled": true
   },
   "outputs": [],
   "source": [
    "#ex_amps = np.linspace(0.3225,0.3325,21)\n",
    "#num_pulses = 50\n",
    "ex_amps = np.linspace(0.1,0.7,41)\n",
    "num_pulses = 4\n",
    "# ro_dac_length=0.2e-6\n",
    "#readout_begin = np.max((length+pause_length)*num_pulses)\n",
    "def set_ex_amp(amp):\n",
    "    awg_tek.set_nop(awg_tek.get_clock()/rep_rate)\n",
    "    \n",
    "    sequence = [pg.p('iq_ex', length, pg.gauss_hd, amp, 0, sigma, alpha), \n",
    "                pg.p(None, pause_length)]*num_pulses+\\\n",
    "                [pg.p('ro_trg', trg_length, pg.rect, 1), \n",
    "                pg.p('iq_ro', ro_dac_length, pg.rect, ro_dac_amplitude)]\n",
    "    \n",
    "    pg.set_seq(sequence)\n",
    "    \n",
    "    awg_tek.run()\n",
    "measurement = sweep.sweep(adc_reducer, (ex_amps, set_ex_amp, 'Rabi pulse amplitude'), filename='Rabi')"
   ]
  },
  {
   "cell_type": "markdown",
   "metadata": {},
   "source": [
    "## Rabi amplitude oscillations pi + pi/2 pulses"
   ]
  },
  {
   "cell_type": "code",
   "execution_count": null,
   "metadata": {
    "collapsed": true,
    "scrolled": true
   },
   "outputs": [],
   "source": [
    "from numpy import pi\n",
    "def set_ex_amp(amp):\n",
    "    awg_tek.set_nop(awg_tek.get_clock()/rep_rate)    \n",
    "    sequence = [pg.p('iq_ex', length, pg.gauss_hd, amp, 0, sigma, alpha), \n",
    "                pg.p(None, pause_length)]*num_pulses+\\\n",
    "               [pg.p('ro_trg', trg_length, pg.rect, 1), \n",
    "                pg.p('iq_ro', ro_dac_length, pg.rect, ro_dac_amplitude)]\n",
    "    pg.set_seq(sequence)\n",
    "    awg_tek.run()\n",
    "#measurement = sweep.sweep(adc_reducer, (ex_amps, set_ex_amp, 'Rabi pulse amplitude'), filename='Rabi')\n",
    "#measurement_fitted, fitted_parameters_rabi = fitting.S21pm_fit(measurement, fitting.exp_sin_fit)\n",
    "#def find_ampl(impulse):\n",
    "    #i=0\n",
    "    #derivative1, derivative2 =0,0\n",
    "    #count=0\n",
    "    #while (0.5*count<impulse/(0.5*pi)):\n",
    "        #i=i+1;\n",
    "        #derivative1=derivative2;\n",
    "        #derivative2=(3*measurement['Mean Voltage (AC)'][i]-4*measurement[i-1]+measurement[i-2])/(2*(0.7/21)\n",
    "        #if ((derivative1*derivative2)<0) :\n",
    "            #count=count+1\n",
    "    #return measurement[i]\n",
    "\n",
    "#def Rabi_ampl(impulse):\n",
    "\n",
    "# В таком сиде как оно написано здесь эта процедура не имеет никакого смысла =(\n",
    "# Если утверждение amp*2=amp_pi верно, то это не нужно. Если нет, то таким обрзом вы это не увидите.\n",
    "\n",
    "ex_amps = np.linspace(0,0.7,41)\n",
    "num_pulses=4\n",
    "measurement = sweep.sweep(adc_reducer, (ex_amps, set_ex_amp, 'Rabi pulse amplitude'), filename='Rabi')\n",
    "measurement_fitted, fitted_parameters_rabi = fitting.S21pm_fit(measurement, fitting.exp_sin_fit)\n",
    "print(fitted_parameters_rabi)\n",
    "      # return find_ampl(impulse)\n",
    "#ampl_half_pi=Rabi_ampl(pi/2)   \n",
    "amp=(3*pi-fitted_parameters_rabi['phase'])/(2*pi*fitted_parameters_rabi['freq'])\n",
    "amp_pi=(pi*5-fitted_parameters_rabi['phase'])/(2*pi*fitted_parameters_rabi['freq'])\n",
    "amp, amp_pi"
   ]
  },
  {
   "cell_type": "code",
   "execution_count": null,
   "metadata": {
    "collapsed": true
   },
   "outputs": [],
   "source": [
    "adc.stop()"
   ]
  },
  {
   "cell_type": "markdown",
   "metadata": {},
   "source": [
    "### Rabi Y-amplitude oscillations"
   ]
  },
  {
   "cell_type": "code",
   "execution_count": null,
   "metadata": {
    "collapsed": true,
    "scrolled": true
   },
   "outputs": [],
   "source": [
    "ex_amps = np.linspace(0.1,0.7, 101)\n",
    "num_pulses = 5\n",
    "#readout_begin = np.max((length+pause_length)*num_pulses)\n",
    "def set_ex_amp(amp):\n",
    "    awg_tek.set_nop(awg_tek.get_clock()/rep_rate)\n",
    "    \n",
    "    sequence = [pg.p('iq_ex', length, pg.gauss_hd, 0, amp, sigma, alpha), \n",
    "                pg.p(None, pause_length)]*num_pulses+\\\n",
    "               [pg.p('ro_trg', trg_length, pg.rect, 1), \n",
    "                pg.p('iq_ro', ro_dac_length, pg.rect, ro_dac_amplitude)]\n",
    "    \n",
    "    pg.set_seq(sequence)\n",
    "    \n",
    "    awg_tek.run()\n",
    "measurement = sweep.sweep(adc_reducer, (ex_amps, set_ex_amp, 'Rabi Y-pulse amplitude'), filename='Rabi Y-amplitude')"
   ]
  },
  {
   "cell_type": "markdown",
   "metadata": {},
   "source": [
    "## Amplification of phase errors"
   ]
  },
  {
   "cell_type": "code",
   "execution_count": null,
   "metadata": {
    "collapsed": true
   },
   "outputs": [],
   "source": [
    "imp.reload(plotting)\n",
    "adc.stop()"
   ]
  },
  {
   "cell_type": "code",
   "execution_count": null,
   "metadata": {
    "collapsed": true
   },
   "outputs": [],
   "source": [
    "plt.figure()\n",
    "plt.plot(np.real(iq_ex.waveform))\n",
    "plt.plot(np.imag(iq_ex.waveform))"
   ]
  },
  {
   "cell_type": "code",
   "execution_count": null,
   "metadata": {
    "collapsed": true
   },
   "outputs": [],
   "source": []
  },
  {
   "cell_type": "code",
   "execution_count": null,
   "metadata": {
    "collapsed": true
   },
   "outputs": [],
   "source": [
    "num_pulses = np.arange(0, 50, 1)\n",
    "y_sign = '-'\n",
    "y_sign_mul = 1 if y_sign == '-' else -1\n",
    "\n",
    "pulse_type = pg.gauss_hd\n",
    "amp = amp_gauss\n",
    "length_transition = sigma_gauss # 0\n",
    "alpha_dimensionless = alpha_gauss_dimensionless\n",
    "alpha = alpha_dimensionless/(anharmonicity*2*np.pi)\n",
    "length = pi2_gauss\n",
    "pause_length = 0e-9\n",
    "\n",
    "def set_ape_length(num_pulses):\n",
    "#    sequence = [pg.p('iq_ex', length, pulse_type , amp, par1, par2, alpha), pg.p(None, pause_length)]+\\\n",
    "#               [pg.p('iq_ex', length, pulse_type , amp, par1, par2, alpha), pg.p(None, pause_length),\n",
    "#                pg.p('iq_ex', length, pulse_type , -amp, par1, par2, alpha), pg.p(None, pause_length)]*num_pulses+\\\n",
    "#               [pg.p('iq_ex', length, pulse_type , 1j*y_sign_mul*amp, par1, par2, alpha), pg.p(None, pause_length)]\n",
    "    sequence = [pg.p('iq_ex', length, pulse_type, amp, length_transition, alpha), pg.p(None, pause_length)]+\\\n",
    "               [pg.p('iq_ex', length, pulse_type , amp, length_transition,  alpha), pg.p(None, pause_length),\n",
    "                pg.p('iq_ex', length, pulse_type , -amp, length_transition,  alpha), pg.p(None, pause_length)]*int(np.round(num_pulses))+\\\n",
    "               [pg.p('iq_ex', length, pulse_type , 1j*y_sign_mul*amp, length_transition, alpha), pg.p(None, pause_length)]\n",
    "\n",
    "    tomoz.set_prepare_seq(sequence)\n",
    "    \n",
    "    awg_tek.run()\n",
    "measurement = sweep.sweep(tomoz, (num_pulses, set_ape_length, 'APE identity pulse num'), filename='APE Y'+y_sign)"
   ]
  },
  {
   "cell_type": "markdown",
   "metadata": {},
   "source": [
    "# Scanning over alpha and looking at phase error"
   ]
  },
  {
   "cell_type": "code",
   "execution_count": null,
   "metadata": {
    "collapsed": true
   },
   "outputs": [],
   "source": [
    "num_pulses = 12\n",
    "y_sign = '-'\n",
    "y_sign_mul = 1 if y_sign == '-' else -1\n",
    "#anharmonicity = -223e6\n",
    "#alphas = np.linspace(-1.0, 1.0, 21)/(200e6*2*np.pi)\n",
    "alphas = np.linspace(-2.0, 2.0, 21)\n",
    "pulse_type = pg.gauss_hd\n",
    "amp = amp_gauss\n",
    "length_transition = sigma_gauss # 0\n",
    "alpha = alpha_dimensionless/(anharmonicity*2*np.pi)\n",
    "length = pi2_gauss\n",
    "pause_length = 8e-9\n",
    "\n",
    "def set_alpha(alpha_dimensionless):\n",
    "    alpha = alpha_dimensionless/(anharmonicity*2*np.pi)\n",
    "#    sequence = [pg.p('iq_ex', length, pg.gauss_hd, amp, 0, sigma, alpha), pg.p(None, pause_length)]+\\\n",
    "#               [pg.p('iq_ex', length, pg.gauss_hd, amp, 0, sigma, alpha), pg.p(None, pause_length),\n",
    "#                pg.p('iq_ex', length, pg.gauss_hd, -amp, 0, sigma, alpha), pg.p(None, pause_length)]*num_pulses+\\\n",
    "#               [pg.p('iq_ex', length, pg.gauss_hd, 0, y_sign_mul*amp, sigma, alpha), pg.p(None, pause_length)]\n",
    "\n",
    "    sequence = [pg.p('iq_ex', length, pulse_type, amp, length_transition, alpha), pg.p(None, pause_length)]+\\\n",
    "               [pg.p('iq_ex', length, pulse_type , amp, length_transition,  alpha), pg.p(None, pause_length),\n",
    "                pg.p('iq_ex', length, pulse_type , -amp, length_transition,  alpha), pg.p(None, pause_length)]*int(np.round(num_pulses))+\\\n",
    "               [pg.p('iq_ex', length, pulse_type , 1j*y_sign_mul*amp, length_transition, alpha), pg.p(None, pause_length)]\n",
    "\n",
    "    tomoz.set_prepare_seq(sequence)\n",
    "    \n",
    "    awg_tek.run()\n",
    "measurement = sweep.sweep(tomoz, (alphas, set_alpha, 'HD DRAG alpha'), filename='APE Y'+y_sign+' dependence on HD DRAG alpha')"
   ]
  },
  {
   "cell_type": "markdown",
   "metadata": {},
   "source": [
    "### X-Y axes angle error"
   ]
  },
  {
   "cell_type": "code",
   "execution_count": null,
   "metadata": {
    "collapsed": true
   },
   "outputs": [],
   "source": [
    "num_pulses = np.arange(0, 21, 1)\n",
    "y_sign = '-'\n",
    "y_sign_mul = 1 if y_sign == '-' else -1\n",
    "\n",
    "def set_xyea_length(num_pulses):\n",
    "    sequence = [pg.p('iq_ex', length, pg.gauss_hd, amp, 0, sigma, alpha), pg.p(None, pause_length)]+\\\n",
    "               [pg.p('iq_ex', length, pg.gauss_hd, 0, amp_y_raw, sigma, alpha), pg.p(None, pause_length),\n",
    "                pg.p('iq_ex', length, pg.gauss_hd, 0, amp_y_raw, sigma, alpha), pg.p(None, pause_length),\n",
    "                pg.p('iq_ex', length, pg.gauss_hd, amp, 0, sigma, alpha), pg.p(None, pause_length),\n",
    "                pg.p('iq_ex', length, pg.gauss_hd, amp, 0, sigma, alpha), pg.p(None, pause_length),]*(2*num_pulses)+\\\n",
    "               [pg.p('iq_ex', length, pg.gauss_hd, 0, y_sign_mul*amp_y_raw, sigma, alpha), pg.p(None, pause_length),\n",
    "                pg.p('ro_trg', trg_length, pg.rect, 1), \n",
    "                pg.p('iq_ro', ro_dac_length, pg.rect, ro_dac_amplitude)]\n",
    "\n",
    "    pg.set_seq(sequence)\n",
    "    \n",
    "    awg_tek.run()\n",
    "measurement = sweep.sweep(adc_reducer, (num_pulses, set_xyea_length, 'X-Y axes angle error pulse num'), filename='XY angle error witness'+y_sign)"
   ]
  },
  {
   "cell_type": "markdown",
   "metadata": {},
   "source": [
    "### Optimizing X-Y axes angle "
   ]
  },
  {
   "cell_type": "code",
   "execution_count": null,
   "metadata": {
    "collapsed": true
   },
   "outputs": [],
   "source": [
    "#angle_corrs = np.linspace(-np.pi/40, np.pi/40, 21)\n",
    "angle_corrs = np.linspace(-0.03, 0.03, 21)\n",
    "num_pulses = 20\n",
    "\n",
    "for signs in ['++++', '+++-', '++-+', '++--', '+-++', '+-+-', '+--+', '+---', \n",
    "              '-+++', '-++-', '-+-+', '-+--', '--++', '--+-', '---+', '----']:\n",
    "    sign_muls = [1 if s == '-' else -1 for s in signs]\n",
    "\n",
    "    def set_xyea_angle_corr(angle_corr):\n",
    "        sequence = [pg.p('iq_ex', length, pg.gauss_hd, sign_muls[0]*amp, 0, sigma, alpha), pg.p(None, pause_length)]+\\\n",
    "                   [pg.p('iq_ex', length, pg.gauss_hd, 0, sign_muls[1]*amp_y_raw*np.exp(1j*angle_corr), sigma, alpha), pg.p(None, pause_length),\n",
    "                    pg.p('iq_ex', length, pg.gauss_hd, 0, sign_muls[1]*amp_y_raw*np.exp(1j*angle_corr), sigma, alpha), pg.p(None, pause_length),\n",
    "                    pg.p('iq_ex', length, pg.gauss_hd, sign_muls[2]*amp, 0, sigma, alpha), pg.p(None, pause_length),\n",
    "                    pg.p('iq_ex', length, pg.gauss_hd, sign_muls[2]*amp, 0, sigma, alpha), pg.p(None, pause_length),]*(2*num_pulses)+\\\n",
    "                   [pg.p('iq_ex', length, pg.gauss_hd, 0, sign_muls[3]*amp_y_raw*np.exp(1j*angle_corr), sigma, alpha), pg.p(None, pause_length),\n",
    "                    pg.p('ro_trg', trg_length, pg.rect, 1), \n",
    "                    pg.p('iq_ro', ro_dac_length, pg.rect, ro_dac_amplitude)]\n",
    "\n",
    "        pg.set_seq(sequence)\n",
    "        awg_tek.run()\n",
    "    measurement = sweep.sweep(adc_reducer, (angle_corrs, set_xyea_angle_corr, 'X-Y axes angle detuning (radians)'), filename='XY angle error optimization'+signs)"
   ]
  },
  {
   "cell_type": "markdown",
   "metadata": {},
   "source": [
    "## Characterizing readout of |0>, |1>, |+>, |->, |i+>, |i-> states"
   ]
  },
  {
   "cell_type": "code",
   "execution_count": null,
   "metadata": {
    "collapsed": true
   },
   "outputs": [],
   "source": [
    "ex_amplitude, pi2_pulse"
   ]
  },
  {
   "cell_type": "code",
   "execution_count": null,
   "metadata": {
    "collapsed": true
   },
   "outputs": [],
   "source": [
    "state_prep_seqs = {'|0>': [pg.p('iq_ex', pi2_pulse, pg.rect, ex_amplitude), pg.p(None, pause_length),\\\n",
    "                           pg.p('iq_ex', pi2_pulse, pg.rect, ex_amplitude), pg.p(None, pause_length),\n",
    "                           pg.p('iq_ex', pi2_pulse, pg.rect, -ex_amplitude), pg.p(None, pause_length),\\\n",
    "                           pg.p('iq_ex', pi2_pulse, pg.rect, -ex_amplitude), pg.p(None, pause_length)],\n",
    "                   '|+>': [pg.p('iq_ex', pi2_pulse, pg.rect, ex_amplitude), pg.p(None, pause_length),\\\n",
    "                           pg.p('iq_ex', pi2_pulse, pg.rect, ex_amplitude), pg.p(None, pause_length),\\\n",
    "                           pg.p('iq_ex', pi2_pulse, pg.rect, -ex_amplitude), pg.p(None, pause_length),\\\n",
    "                           pg.p('iq_ex', pi2_pulse, pg.rect, 1j*ex_amplitude), pg.p(None, pause_length)],\n",
    "                   '|1>': [pg.p('iq_ex', pi2_pulse, pg.rect, ex_amplitude), pg.p(None, pause_length),\\\n",
    "                           pg.p('iq_ex', pi2_pulse, pg.rect, 1j*ex_amplitude), pg.p(None, pause_length),\n",
    "                           pg.p('iq_ex', pi2_pulse, pg.rect, 1j*ex_amplitude), pg.p(None, pause_length),\\\n",
    "                           pg.p('iq_ex', pi2_pulse, pg.rect, ex_amplitude), pg.p(None, pause_length)],\n",
    "                   '|->': [pg.p('iq_ex', pi2_pulse, pg.rect, -ex_amplitude), pg.p(None, pause_length),\\\n",
    "                           pg.p('iq_ex', pi2_pulse, pg.rect, -ex_amplitude), pg.p(None, pause_length),\\\n",
    "                           pg.p('iq_ex', pi2_pulse, pg.rect, ex_amplitude), pg.p(None, pause_length),\\\n",
    "                           pg.p('iq_ex', pi2_pulse, pg.rect, 1j*ex_amplitude), pg.p(None, pause_length)],\n",
    "                   '|i+>': [pg.p('iq_ex', pi2_pulse, pg.rect, 1j*ex_amplitude), pg.p(None, pause_length),\\\n",
    "                           pg.p('iq_ex', pi2_pulse, pg.rect, 1j*ex_amplitude), pg.p(None, pause_length),\\\n",
    "                           pg.p('iq_ex', pi2_pulse, pg.rect, -1j*ex_amplitude), pg.p(None, pause_length),\\\n",
    "                           pg.p('iq_ex', pi2_pulse, pg.rect, -ex_amplitude), pg.p(None, pause_length)],\n",
    "                   '|i->': [pg.p('iq_ex', pi2_pulse, pg.rect, -1j*ex_amplitude), pg.p(None, pause_length),\\\n",
    "                           pg.p('iq_ex', pi2_pulse, pg.rect, -1j*ex_amplitude), pg.p(None, pause_length),\\\n",
    "                           pg.p('iq_ex', pi2_pulse, pg.rect, 1j*ex_amplitude), pg.p(None, pause_length),\\\n",
    "                           pg.p('iq_ex', pi2_pulse, pg.rect, ex_amplitude), pg.p(None, pause_length)],}\n",
    "\n",
    "plt.figure('State readout histograms gaussian')\n",
    "sz_meas = {}\n",
    "for state_name, state_prep_seq in state_prep_seqs.items():\n",
    "    pg.set_seq(state_prep_seq+adc_sz.ro_seq)\n",
    "    sz_meas[state_name] = np.real(adc_calibrated_reducer.measure()['sz'])\n",
    "    hist, bin_edges = np.histogram(sz_meas[state_name], bins=adc_sz.calib_proba_points)\n",
    "    proba_points = (bin_edges[1:]+bin_edges[:-1])/2\n",
    "    plt.plot(proba_points, hist,label=state_name)\n",
    "    print ('{0} state sz mean: {1}, std: {2}'.format(state_name, np.mean(sz_meas[state_name]), np.std(sz_meas[state_name])))\n",
    "    \n",
    "plt.legend()"
   ]
  },
  {
   "cell_type": "code",
   "execution_count": null,
   "metadata": {
    "collapsed": true
   },
   "outputs": [],
   "source": [
    "transition_length=sigma_gauss"
   ]
  },
  {
   "cell_type": "code",
   "execution_count": null,
   "metadata": {
    "collapsed": true
   },
   "outputs": [],
   "source": [
    "\n",
    "state_prep_seqs = {'|0>': [],\n",
    "                   '|+>': [pg.p('iq_ex', length, pulse_type, amp, transition_length), pg.p(None, pause_length)],\n",
    "                   '|1>': [pg.p('iq_ex', length, pulse_type, amp, transition_length), pg.p(None, pause_length),\\\n",
    "                           pg.p('iq_ex', length, pulse_type, amp, transition_length), pg.p(None, pause_length)],\n",
    "                   '|->': [pg.p('iq_ex', length, pulse_type, -amp, transition_length), pg.p(None, pause_length)],\n",
    "                   '|i+>': [pg.p('iq_ex', length, pulse_type, 1j*amp, transition_length), pg.p(None, pause_length)],\n",
    "                   '|i->': [pg.p('iq_ex', length, pulse_type, -1j*amp, transition_length), pg.p(None, pause_length)],}\n",
    "\n",
    "plt.figure('State readout histograms gaussian')\n",
    "sz_meas = {}\n",
    "for state_name, state_prep_seq in state_prep_seqs.items():\n",
    "    pg.set_seq(state_prep_seq+adc_sz.ro_seq)\n",
    "    sz_meas[state_name] = np.real(adc_sz.measurer.measure()['sz binary'])\n",
    "    hist, bin_edges = np.histogram(sz_meas[state_name], bins=adc_sz.calib_proba_points)\n",
    "    proba_points = (bin_edges[1:]+bin_edges[:-1])/2\n",
    "    plt.plot(proba_points, hist,label=state_name)\n",
    "    print ('{0} state sz mean: {1}, std: {2}'.format(state_name, np.mean(sz_meas[state_name]), np.std(sz_meas[state_name])))\n",
    "    \n",
    "plt.legend()"
   ]
  },
  {
   "cell_type": "code",
   "execution_count": null,
   "metadata": {
    "collapsed": true,
    "scrolled": true
   },
   "outputs": [],
   "source": [
    "# random number generator\n",
    "n1 = ''.join(['0' if i>0 else '1' for i in sz_meas['|+>'] ])[0::2]\n",
    "n2 = ''.join(['0' if i>0 else '1' for i in sz_meas['|+>'] ])[1::2]\n",
    "randoms_raw = ['0' if i>0 else '1' for i in sz_meas['|+>'] ]\n",
    "randoms = []\n",
    "for i1,i2 in zip(n1,n2):\n",
    "    if i1 == '0' and i2 == '1':\n",
    "        randoms.append('0')\n",
    "    if i1 == '1' and i2 == '0':\n",
    "        randoms.append('1')\n",
    "print ('raw (length {}):'.format(len(randoms_raw)), ''.join(randoms_raw), '\\nrandoms (length {}):'.format(len(randoms)), ''.join(randoms))"
   ]
  },
  {
   "cell_type": "code",
   "execution_count": 38,
   "metadata": {},
   "outputs": [
    {
     "ename": "TypeError",
     "evalue": "gauss_hd() takes from 5 to 6 positional arguments but 7 were given",
     "output_type": "error",
     "traceback": [
      "\u001b[1;31m---------------------------------------------------------------------------\u001b[0m",
      "\u001b[1;31mTypeError\u001b[0m                                 Traceback (most recent call last)",
      "\u001b[1;32m<ipython-input-38-d2f7b3ba345c>\u001b[0m in \u001b[0;36m<module>\u001b[1;34m()\u001b[0m\n\u001b[0;32m      1\u001b[0m state_prep_seqs = {'|0>': [],\n\u001b[1;32m----> 2\u001b[1;33m                    \u001b[1;34m'|+>'\u001b[0m\u001b[1;33m:\u001b[0m \u001b[1;33m[\u001b[0m\u001b[0mpg\u001b[0m\u001b[1;33m.\u001b[0m\u001b[0mp\u001b[0m\u001b[1;33m(\u001b[0m\u001b[1;34m'iq_ex'\u001b[0m\u001b[1;33m,\u001b[0m \u001b[0mlength\u001b[0m\u001b[1;33m,\u001b[0m \u001b[0mpg\u001b[0m\u001b[1;33m.\u001b[0m\u001b[0mgauss_hd\u001b[0m\u001b[1;33m,\u001b[0m \u001b[0mamp\u001b[0m\u001b[1;33m,\u001b[0m \u001b[1;36m0\u001b[0m\u001b[1;33m,\u001b[0m \u001b[0msigma\u001b[0m\u001b[1;33m,\u001b[0m \u001b[0malpha\u001b[0m\u001b[1;33m)\u001b[0m\u001b[1;33m,\u001b[0m \u001b[0mpg\u001b[0m\u001b[1;33m.\u001b[0m\u001b[0mp\u001b[0m\u001b[1;33m(\u001b[0m\u001b[1;32mNone\u001b[0m\u001b[1;33m,\u001b[0m \u001b[0mpause_length\u001b[0m\u001b[1;33m)\u001b[0m\u001b[1;33m]\u001b[0m\u001b[1;33m,\u001b[0m\u001b[1;33m\u001b[0m\u001b[0m\n\u001b[0m\u001b[0;32m      3\u001b[0m                    '|1>': [pg.p('iq_ex', length, pg.gauss_hd, amp, 0, sigma, alpha), pg.p(None, pause_length),\\\n\u001b[0;32m      4\u001b[0m                            pg.p('iq_ex', length, pg.gauss_hd, amp, 0, sigma, alpha), pg.p(None, pause_length)],\n\u001b[0;32m      5\u001b[0m                    \u001b[1;34m'|->'\u001b[0m\u001b[1;33m:\u001b[0m \u001b[1;33m[\u001b[0m\u001b[0mpg\u001b[0m\u001b[1;33m.\u001b[0m\u001b[0mp\u001b[0m\u001b[1;33m(\u001b[0m\u001b[1;34m'iq_ex'\u001b[0m\u001b[1;33m,\u001b[0m \u001b[0mlength\u001b[0m\u001b[1;33m,\u001b[0m \u001b[0mpg\u001b[0m\u001b[1;33m.\u001b[0m\u001b[0mgauss_hd\u001b[0m\u001b[1;33m,\u001b[0m \u001b[1;33m-\u001b[0m\u001b[0mamp\u001b[0m\u001b[1;33m,\u001b[0m \u001b[1;36m0\u001b[0m\u001b[1;33m,\u001b[0m \u001b[0msigma\u001b[0m\u001b[1;33m,\u001b[0m \u001b[0malpha\u001b[0m\u001b[1;33m)\u001b[0m\u001b[1;33m,\u001b[0m \u001b[0mpg\u001b[0m\u001b[1;33m.\u001b[0m\u001b[0mp\u001b[0m\u001b[1;33m(\u001b[0m\u001b[1;32mNone\u001b[0m\u001b[1;33m,\u001b[0m \u001b[0mpause_length\u001b[0m\u001b[1;33m)\u001b[0m\u001b[1;33m]\u001b[0m\u001b[1;33m,\u001b[0m\u001b[1;33m\u001b[0m\u001b[0m\n",
      "\u001b[1;32mD:\\qtlab_replacement\\scripts\\tomography.py\u001b[0m in \u001b[0;36mp\u001b[1;34m(self, channel, length, pulse_type, *params)\u001b[0m\n\u001b[0;32m     58\u001b[0m                 \u001b[0mpulses\u001b[0m \u001b[1;33m=\u001b[0m \u001b[1;33m{\u001b[0m\u001b[0mchannel_name\u001b[0m\u001b[1;33m:\u001b[0m \u001b[0mself\u001b[0m\u001b[1;33m.\u001b[0m\u001b[0mpause\u001b[0m\u001b[1;33m(\u001b[0m\u001b[0mchannel_name\u001b[0m\u001b[1;33m,\u001b[0m \u001b[0mlength\u001b[0m\u001b[1;33m)\u001b[0m \u001b[1;32mfor\u001b[0m \u001b[0mchannel_name\u001b[0m\u001b[1;33m,\u001b[0m \u001b[0mchannel\u001b[0m \u001b[1;32min\u001b[0m \u001b[0mself\u001b[0m\u001b[1;33m.\u001b[0m\u001b[0mchannels\u001b[0m\u001b[1;33m.\u001b[0m\u001b[0mitems\u001b[0m\u001b[1;33m(\u001b[0m\u001b[1;33m)\u001b[0m\u001b[1;33m}\u001b[0m\u001b[1;33m\u001b[0m\u001b[0m\n\u001b[0;32m     59\u001b[0m                 \u001b[1;32mif\u001b[0m \u001b[0mchannel\u001b[0m\u001b[1;33m:\u001b[0m\u001b[1;33m\u001b[0m\u001b[0m\n\u001b[1;32m---> 60\u001b[1;33m                         \u001b[0mpulses\u001b[0m\u001b[1;33m[\u001b[0m\u001b[0mchannel\u001b[0m\u001b[1;33m]\u001b[0m \u001b[1;33m=\u001b[0m \u001b[0mpulse_type\u001b[0m\u001b[1;33m(\u001b[0m\u001b[0mchannel\u001b[0m\u001b[1;33m,\u001b[0m \u001b[0mlength\u001b[0m\u001b[1;33m,\u001b[0m \u001b[1;33m*\u001b[0m\u001b[0mparams\u001b[0m\u001b[1;33m)\u001b[0m\u001b[1;33m\u001b[0m\u001b[0m\n\u001b[0m\u001b[0;32m     61\u001b[0m                 \u001b[1;32mreturn\u001b[0m \u001b[0mpulses\u001b[0m\u001b[1;33m\u001b[0m\u001b[0m\n\u001b[0;32m     62\u001b[0m \u001b[1;33m\u001b[0m\u001b[0m\n",
      "\u001b[1;31mTypeError\u001b[0m: gauss_hd() takes from 5 to 6 positional arguments but 7 were given"
     ]
    }
   ],
   "source": [
    "state_prep_seqs = {'|0>': [],\n",
    "                   '|+>': [pg.p('iq_ex', length, pg.gauss_hd, amp, 0, sigma, alpha), pg.p(None, pause_length)],\n",
    "                   '|1>': [pg.p('iq_ex', length, pg.gauss_hd, amp, 0, sigma, alpha), pg.p(None, pause_length),\\\n",
    "                           pg.p('iq_ex', length, pg.gauss_hd, amp, 0, sigma, alpha), pg.p(None, pause_length)],\n",
    "                   '|->': [pg.p('iq_ex', length, pg.gauss_hd, -amp, 0, sigma, alpha), pg.p(None, pause_length)],\n",
    "                   '|i+>': [pg.p('iq_ex', length, pg.gauss_hd, 0, amp_y, sigma, alpha), pg.p(None, pause_length)],\n",
    "                   '|i->': [pg.p('iq_ex', length, pg.gauss_hd, 0, -amp_y,sigma, alpha), pg.p(None, pause_length)]}\n",
    "\n",
    "plt.figure('State readout histograms gaussian')\n",
    "sz_meas = {}\n",
    "for state_name, state_prep_seq in state_prep_seqs.items():\n",
    "    pg.set_seq(state_prep_seq+adc_sz.ro_seq)\n",
    "    sz_meas[state_name] = np.real(adc_calibrated_reducer.measure()['sz'])\n",
    "    hist, bin_edges = np.histogram(sz_meas[state_name], bins=adc_sz.calib_proba_points)\n",
    "    proba_points = (bin_edges[1:]+bin_edges[:-1])/2\n",
    "    plt.plot(proba_points, hist,label=state_name)\n",
    "    print ('{0} state sz mean: {1}, std: {2}'.format(state_name, np.mean(sz_meas[state_name]), np.std(sz_meas[state_name])))\n",
    "    \n",
    "plt.legend()"
   ]
  },
  {
   "cell_type": "code",
   "execution_count": null,
   "metadata": {
    "collapsed": true
   },
   "outputs": [],
   "source": [
    "adc.stop()"
   ]
  },
  {
   "cell_type": "markdown",
   "metadata": {},
   "source": [
    "### Tomography"
   ]
  },
  {
   "cell_type": "code",
   "execution_count": null,
   "metadata": {
    "collapsed": true
   },
   "outputs": [],
   "source": [
    "#+ \n",
    "amp=0.327\n",
    "amp2=0.657\n",
    "observables = { 'X': 0.5*np.asarray([[0, 1],   [1, 0]]),\n",
    "                'Y': 0.5*np.asarray([[0, -1j],   [1j, 0]]),\n",
    "                '-X': 0.5*np.asarray([[0, -1],   [-1, 0]]),\n",
    "                '-Y': 0.5*np.asarray([[0, 1j],   [-1j, 0]]),\n",
    "                'Z': 0.5*np.asarray([[1, 0],   [0, -1]])}\n",
    "proj_seq = {'Xo':{'pulses': [pg.p('iq_ex', length, pg.gauss_hd, 0, -amp_y, sigma, alpha), pg.p(None, pause_length)]+ro_seq, \n",
    "                 'operator': observables['X']},\n",
    "            'Yo':{'pulses': [pg.p('iq_ex', length, pg.gauss_hd, amp, 0, sigma, alpha), pg.p(None, pause_length)]+ro_seq,\n",
    "                 'operator': observables['Y']},\n",
    "            '-Xo':{'pulses':[pg.p('iq_ex', length, pg.gauss_hd, 0, amp_y, sigma, alpha), pg.p(None, pause_length)]+ro_seq,\n",
    "                 'operator': observables['-X']},\n",
    "            '-Yo':{'pulses':[pg.p('iq_ex', length, pg.gauss_hd, -amp, 0, sigma, alpha), pg.p(None, pause_length)]+ro_seq,\n",
    "                 'operator': observables['-Y']},\n",
    "            'Zo': {'pulses':ro_seq, 'operator':observables['Z']} }\n",
    "reconstruction_basis={'x':{'operator':observables['X']},\n",
    "                      'y':{'operator':observables['Y']},\n",
    "                      'z':{'operator':observables['Z']}}\n",
    "tomo = tomography_new.tomography(adc_sz, pg, proj_seq, reconstruction_basis=reconstruction_basis)"
   ]
  },
  {
   "cell_type": "code",
   "execution_count": null,
   "metadata": {
    "collapsed": true
   },
   "outputs": [],
   "source": [
    "#+Gh\n",
    "proj_seq = {'Z': {'pulses':ro_seq, 'operator':observables['Z']}}\n",
    "reconstruction_basis={'z':{'operator':observables['Z']}}\n",
    "tomoz = tomography_new.tomography(adc_sz, pg, proj_seq, reconstruction_basis=reconstruction_basis)"
   ]
  },
  {
   "cell_type": "code",
   "execution_count": null,
   "metadata": {
    "collapsed": true
   },
   "outputs": [],
   "source": [
    "## tomography of |0> state\n",
    "#adc.set_software_nums_multi(20)\n",
    "tomo.set_prepare_seq([])\n",
    "tomo.measure()"
   ]
  },
  {
   "cell_type": "code",
   "execution_count": null,
   "metadata": {
    "collapsed": true
   },
   "outputs": [],
   "source": [
    "pause_length = 20e-09"
   ]
  },
  {
   "cell_type": "markdown",
   "metadata": {},
   "source": [
    "# Clifford group"
   ]
  },
  {
   "cell_type": "code",
   "execution_count": null,
   "metadata": {
    "collapsed": true,
    "scrolled": true
   },
   "outputs": [],
   "source": [
    "#+ в оптимальных параметрах амплитуду на 2 умножили и получили пи импульсы))))))000)))\n",
    "import clifford\n",
    "imp.reload(clifford)\n",
    "\n",
    "pulse_type = pg.gauss_hd\n",
    "amp = amp_gauss\n",
    "par1 = 0#tail_length # 0\n",
    "par2 = 0 #sigma\n",
    "#alpha_dimensionless = 0.0\n",
    "#alpha = alpha_dimensionless/(anharmonicity*2*np.pi)\n",
    "length = pi2_gauss\n",
    "\n",
    "pi2 = {'X/2': {'pulses': [pg.p('iq_ex', length, pulse_type, amp, length_transition, alpha), pg.p(None, pause_length)],\n",
    "               'unitary': np.sqrt(0.5)*np.asarray([[1, -1j],  [-1j, 1]])},\n",
    "       'Y/2': {'pulses': [pg.p('iq_ex', length, pulse_type, 1j*amp, length_transition, alpha), pg.p(None, pause_length)],\n",
    "               'unitary': np.sqrt(0.5)*np.asarray([[1, -1],    [1, 1]])},\n",
    "       '-X/2':{'pulses':[pg.p('iq_ex', length, pulse_type, -amp, length_transition, alpha), pg.p(None, pause_length)],\n",
    "               'unitary': np.sqrt(0.5)*np.asarray([[1, 1j],   [1j, 1]])},\n",
    "       '-Υ/2':{'pulses':[pg.p('iq_ex', length, pulse_type, -1j*amp, length_transition, alpha), pg.p(None, pause_length)],\n",
    "               'unitary': np.sqrt(0.5)*np.asarray([[1, 1],   [-1, 1]])},\n",
    "       'I':   {'pulses':[], 'unitary':np.asarray([[1, 0], [0,1]])}}\n",
    "#       'X': {'pulses':[pg.p('iq_ex', length, pg.gauss_hd, -amp2, par1, alpha), pg.p(None, pause_length)],\n",
    "#               'unitary': np.asarray([[0, 1],  [1, 0]])},\n",
    "#       'Y': {'pulses':[pg.p('iq_ex', length, pg.gauss_hd, 0, amp2, sigma, alpha), pg.p(None, pause_length)],\n",
    "#               'unitary': 1j*np.asarray([[0, -1],  [1, 0]])}}\n",
    "clifford_group = clifford.generate_group(pi2)#тут меняем наш словарь\n",
    "print(clifford_group.keys(), len(clifford_group))"
   ]
  },
  {
   "cell_type": "code",
   "execution_count": null,
   "metadata": {
    "collapsed": true
   },
   "outputs": [],
   "source": [
    "import qutip as qt\n",
    "qt.sigmay()"
   ]
  },
  {
   "cell_type": "markdown",
   "metadata": {},
   "source": [
    "# Randomized benchmarking"
   ]
  },
  {
   "cell_type": "code",
   "execution_count": null,
   "metadata": {
    "collapsed": true
   },
   "outputs": [],
   "source": [
    "#+\n",
    "import interleaved_benchmarking\n",
    "imp.reload(interleaved_benchmarking)\n",
    "imp.reload(sweep)\n",
    "\n",
    "bench = interleaved_benchmarking.interleaved_benchmarking(tomoz)\n",
    "\n",
    "#unitaries = {0:np.sqrt(0.5)*np.asarray([[1, -1j],  [-1j, 1]]),\\\n",
    "#             1:np.sqrt(0.5)*np.asarray([[1, -1],    [1, 1]]),\\\n",
    "#             2:np.sqrt(0.5)*np.asarray([[1, 1j],   [1j, 1]]),\\\n",
    "#             3:np.sqrt(0.5)*np.asarray([[1, 1],   [-1, 1]])}\n",
    "bench.interleavers = clifford_group\n",
    "#bench.sequence_length = 10\n",
    "bench.random_sequence_num = 20\n",
    "#bench.prepare_random_interleaving_sequences()\n",
    "#bench.get_points()\n",
    "#bench.generate_interleaver_sequence_from_names()"
   ]
  },
  {
   "cell_type": "code",
   "execution_count": null,
   "metadata": {
    "collapsed": true
   },
   "outputs": [],
   "source": [
    "adc.stop()"
   ]
  },
  {
   "cell_type": "code",
   "execution_count": null,
   "metadata": {
    "collapsed": true
   },
   "outputs": [],
   "source": [
    "#+\n",
    "#ro_adc_length=0.2e-6 #ВНИМАНИЕ! я это удалю (закомментирую) тут, т.к. оно всё равно здесь ничего не делает, только мозги выносит\n",
    "seq_lengths = np.arange(0,21, 1)\n",
    "#seq_lengths = np.arange(0, 100, 10)\n",
    "random_sequence_ids = np.arange(bench.random_sequence_num)\n",
    "bench.prepare_random_interleaving_sequences()\n",
    "clifford_bench = sweep.sweep(bench,\n",
    "                             (seq_lengths, bench.set_sequence_length_and_regenerate, 'Gate number', ''), \n",
    "                             (random_sequence_ids, bench.set_interleaved_sequence, 'Random sequence id', ''))"
   ]
  },
  {
   "cell_type": "code",
   "execution_count": null,
   "metadata": {
    "collapsed": true
   },
   "outputs": [],
   "source": [
    "#+\n",
    "imp.reload(fitting)\n",
    "plt.plot(clifford_bench['distance'][1][0], \n",
    "         1-clifford_bench['distance'][2], \n",
    "         marker='o', \n",
    "         color='black', \n",
    "         linestyle='')\n",
    "#plt.plot(clifford_bench['distance'][1][0], np.mean(1-clifford_bench['distance'][2], axis=1))\n",
    "clifford_fitresults, clifford_expfit = fitting.exp_fit1d(clifford_bench['distance'][1][0], \n",
    "                                                        np.reshape(np.mean(1-clifford_bench['distance'][2], axis=1), \n",
    "                                                                   (1, len(clifford_bench['distance'][1][0]))))\n",
    "\n",
    "plt.plot(clifford_bench['distance'][1][0],\n",
    "         clifford_expfit[0],\n",
    "         label='Clifford set')\n",
    "plt.grid()\n",
    "plt.xlabel('Number of gates')\n",
    "plt.ylabel('Fidelity')\n",
    "plt.legend()\n",
    "print('Clifford fidelity: {0:6.3f}'.format(np.exp(-1/clifford_fitresults[0])))"
   ]
  },
  {
   "cell_type": "code",
   "execution_count": 389,
   "metadata": {},
   "outputs": [
    {
     "data": {
      "text/plain": [
       "3.2e-08"
      ]
     },
     "execution_count": 389,
     "metadata": {},
     "output_type": "execute_result"
    }
   ],
   "source": [
    "pi2_gauss"
   ]
  },
  {
   "cell_type": "code",
   "execution_count": 729,
   "metadata": {},
   "outputs": [
    {
     "data": {
      "text/plain": [
       "[array([  3.22350000e-01,   3.23750000e-01,   3.19870000e-01,\n",
       "          3.21480000e-01,   3.22210000e-01,   3.23760000e-01,\n",
       "          3.23630000e-01,   3.25720000e-01,   3.22880000e-01,\n",
       "          3.22780000e-01,   3.24500000e-01,   3.21520000e-01,\n",
       "          2.93690000e-01,   2.68570000e-01,   2.49700000e-01,\n",
       "          2.32260000e-01,   2.17430000e-01,   1.97500000e-01,\n",
       "          1.83570000e-01,   1.68940000e-01,   1.55950000e-01,\n",
       "          1.44690000e-01,   1.33860000e-01,   1.22090000e-01,\n",
       "          1.16170000e-01,   1.01980000e-01,   9.41900000e-02,\n",
       "          8.75200000e-02,   7.68300000e-02,   7.52900000e-02,\n",
       "          6.52000000e-02,   6.26700000e-02,   5.11600000e-02,\n",
       "          4.71700000e-02,   4.09400000e-02,   3.50000000e-02,\n",
       "          3.38100000e-02,   2.66900000e-02,   2.62600000e-02,\n",
       "          2.26400000e-02,   2.24800000e-02,   1.59800000e-02,\n",
       "          1.02500000e-02,   1.14500000e-02,   6.71000000e-03,\n",
       "          2.26000000e-03,   4.72000000e-03,   9.70000000e-04,\n",
       "         -2.40000000e-04,  -2.84000000e-03,  -1.65000000e-03,\n",
       "         -4.82000000e-03,  -8.54000000e-03,  -9.26000000e-03,\n",
       "         -1.32600000e-02,  -1.06900000e-02,  -1.41800000e-02,\n",
       "         -1.42500000e-02,  -1.91100000e-02,  -1.56400000e-02,\n",
       "         -1.79500000e-02,  -1.64100000e-02,  -1.63900000e-02,\n",
       "         -1.75700000e-02,  -1.95900000e-02,  -2.33500000e-02,\n",
       "         -2.12600000e-02,  -2.13300000e-02,  -2.39500000e-02,\n",
       "         -2.47500000e-02,  -2.49600000e-02,  -2.76200000e-02,\n",
       "         -2.95600000e-02,  -2.63500000e-02,  -2.94000000e-02,\n",
       "         -2.67300000e-02,  -2.76500000e-02,  -2.62800000e-02,\n",
       "         -2.54300000e-02,  -2.61900000e-02,  -2.62700000e-02,\n",
       "         -3.00800000e-02,  -2.99100000e-02,  -2.92500000e-02,\n",
       "         -2.86900000e-02,  -2.73400000e-02,  -2.84000000e-02,\n",
       "         -2.96100000e-02,  -2.86600000e-02,  -2.73000000e-02,\n",
       "         -2.97700000e-02,  -2.83200000e-02,  -2.83700000e-02]),\n",
       " array([  3.18490000e-01,   3.16670000e-01,   3.19330000e-01,\n",
       "          3.16960000e-01,   3.16780000e-01,   3.15890000e-01,\n",
       "          3.15040000e-01,   3.16590000e-01,   3.16390000e-01,\n",
       "          3.14670000e-01,   3.13170000e-01,   3.11160000e-01,\n",
       "          2.93360000e-01,   2.72120000e-01,   2.49560000e-01,\n",
       "          2.34640000e-01,   2.10580000e-01,   1.96240000e-01,\n",
       "          1.82410000e-01,   1.65890000e-01,   1.57080000e-01,\n",
       "          1.48490000e-01,   1.37860000e-01,   1.27140000e-01,\n",
       "          1.15780000e-01,   1.14490000e-01,   1.05190000e-01,\n",
       "          9.28400000e-02,   8.57700000e-02,   8.08900000e-02,\n",
       "          7.35400000e-02,   6.82400000e-02,   6.35000000e-02,\n",
       "          5.99300000e-02,   5.17200000e-02,   5.10100000e-02,\n",
       "          4.35500000e-02,   4.29000000e-02,   3.70200000e-02,\n",
       "          3.33600000e-02,   3.00100000e-02,   2.66700000e-02,\n",
       "          2.51100000e-02,   2.22200000e-02,   2.12600000e-02,\n",
       "          1.90600000e-02,   1.50300000e-02,   1.41800000e-02,\n",
       "          9.70000000e-03,   6.70000000e-03,   7.57000000e-03,\n",
       "          5.00000000e-03,   4.74000000e-03,   4.12000000e-03,\n",
       "         -3.00000000e-04,   7.10000000e-04,  -2.19000000e-03,\n",
       "         -2.80000000e-03,  -3.66000000e-03,  -6.52000000e-03,\n",
       "         -4.27000000e-03,  -6.06000000e-03,  -7.35000000e-03,\n",
       "         -1.11700000e-02,  -1.06800000e-02,  -1.06800000e-02,\n",
       "         -8.52000000e-03,  -1.45800000e-02,  -1.35500000e-02,\n",
       "         -1.33000000e-02,  -1.76200000e-02,  -1.60400000e-02,\n",
       "         -1.43500000e-02,  -1.73800000e-02,  -1.70600000e-02,\n",
       "         -1.51100000e-02,  -1.93400000e-02,  -2.15700000e-02,\n",
       "         -2.05100000e-02,  -1.94900000e-02,  -1.88200000e-02,\n",
       "         -2.10400000e-02,  -2.15300000e-02,  -2.06500000e-02,\n",
       "         -2.14700000e-02,  -2.24300000e-02,  -2.14700000e-02,\n",
       "         -2.35400000e-02,  -2.22400000e-02,  -2.09400000e-02,\n",
       "         -2.43100000e-02,  -2.17900000e-02,  -2.42500000e-02]),\n",
       " array([ 0.29534,  0.28572,  0.28317,  0.28408,  0.28235,  0.28118,\n",
       "         0.27467,  0.2707 ,  0.26832,  0.26629,  0.26262,  0.25891,\n",
       "         0.24694,  0.23862,  0.2287 ,  0.2156 ,  0.20035,  0.19008,\n",
       "         0.17954,  0.16865,  0.15381,  0.14162,  0.13273,  0.1201 ,\n",
       "         0.11269,  0.10573,  0.10007,  0.08853,  0.08044,  0.07444,\n",
       "         0.06746,  0.06499,  0.06032,  0.05453,  0.04571,  0.04926,\n",
       "         0.04058,  0.03853,  0.0344 ,  0.03101,  0.03085,  0.02745,\n",
       "         0.02432,  0.0245 ,  0.01878,  0.02071,  0.01818,  0.01224,\n",
       "         0.01381,  0.00805,  0.00855,  0.00762,  0.00344,  0.00404,\n",
       "         0.00071,  0.0024 ,  0.00063, -0.00062, -0.00405, -0.00118,\n",
       "        -0.00347, -0.00267, -0.0052 , -0.00811, -0.0055 , -0.00688,\n",
       "        -0.00971, -0.0086 , -0.00973, -0.01123, -0.00961, -0.01217,\n",
       "        -0.01219, -0.01505, -0.01433, -0.01368, -0.01496, -0.0162 ,\n",
       "        -0.01835, -0.01594, -0.01828, -0.01574, -0.01574, -0.01512,\n",
       "        -0.01693, -0.01582, -0.01513, -0.01794, -0.01824, -0.0148 ,\n",
       "        -0.01619, -0.01431, -0.01507]),\n",
       " array([  2.64880000e-01,   2.62370000e-01,   2.59520000e-01,\n",
       "          2.53740000e-01,   2.43040000e-01,   2.36820000e-01,\n",
       "          2.33450000e-01,   2.28440000e-01,   2.24520000e-01,\n",
       "          2.19330000e-01,   2.11800000e-01,   2.13870000e-01,\n",
       "          2.05050000e-01,   1.98410000e-01,   1.92970000e-01,\n",
       "          1.83010000e-01,   1.76890000e-01,   1.69490000e-01,\n",
       "          1.60680000e-01,   1.52080000e-01,   1.47020000e-01,\n",
       "          1.39370000e-01,   1.26890000e-01,   1.20210000e-01,\n",
       "          1.15420000e-01,   1.05780000e-01,   1.00570000e-01,\n",
       "          9.64700000e-02,   9.06100000e-02,   8.87200000e-02,\n",
       "          8.11300000e-02,   7.61500000e-02,   7.24600000e-02,\n",
       "          6.43000000e-02,   5.86800000e-02,   5.61000000e-02,\n",
       "          5.13400000e-02,   4.71100000e-02,   4.09300000e-02,\n",
       "          3.77500000e-02,   3.27600000e-02,   3.02000000e-02,\n",
       "          3.16700000e-02,   2.59600000e-02,   2.53400000e-02,\n",
       "          2.48900000e-02,   1.91000000e-02,   1.82600000e-02,\n",
       "          1.25100000e-02,   1.25200000e-02,   1.01900000e-02,\n",
       "          1.03800000e-02,   8.51000000e-03,   2.83000000e-03,\n",
       "          2.67000000e-03,   3.52000000e-03,  -9.90000000e-04,\n",
       "          1.16000000e-03,  -1.91000000e-03,  -2.40000000e-03,\n",
       "         -3.47000000e-03,  -1.00000000e-05,  -4.74000000e-03,\n",
       "         -2.46000000e-03,  -6.99000000e-03,  -5.17000000e-03,\n",
       "         -8.30000000e-03,  -1.08400000e-02,  -1.03600000e-02,\n",
       "         -1.18600000e-02,  -1.26400000e-02,  -1.27100000e-02,\n",
       "         -1.24700000e-02,  -1.42900000e-02,  -1.49700000e-02,\n",
       "         -1.38800000e-02,  -1.55300000e-02,  -1.55500000e-02,\n",
       "         -1.59900000e-02,  -1.38500000e-02,  -1.77700000e-02,\n",
       "         -1.65000000e-02,  -1.68700000e-02,  -1.61600000e-02,\n",
       "         -1.73500000e-02,  -1.57400000e-02,  -1.58300000e-02,\n",
       "         -1.92000000e-02,  -1.70100000e-02,  -1.80600000e-02,\n",
       "         -1.99000000e-02,  -2.15400000e-02,  -1.61600000e-02]),\n",
       " array([ 0.23448,  0.22595,  0.21511,  0.20495,  0.19473,  0.18057,\n",
       "         0.1734 ,  0.16659,  0.15505,  0.14852,  0.14483,  0.14671,\n",
       "         0.13725,  0.13654,  0.13689,  0.1313 ,  0.12764,  0.11885,\n",
       "         0.11419,  0.10815,  0.10741,  0.10723,  0.10185,  0.09904,\n",
       "         0.09717,  0.09553,  0.09002,  0.08822,  0.08542,  0.08403,\n",
       "         0.07904,  0.07689,  0.0762 ,  0.06648,  0.072  ,  0.071  ,\n",
       "         0.06036,  0.05991,  0.06504,  0.05683,  0.05439,  0.05607,\n",
       "         0.0513 ,  0.05171,  0.04583,  0.04754,  0.04081,  0.04251,\n",
       "         0.04215,  0.04291,  0.03439,  0.03737,  0.02985,  0.0286 ,\n",
       "         0.02711,  0.03112,  0.02851,  0.02883,  0.0267 ,  0.02279,\n",
       "         0.02293,  0.02302,  0.02549,  0.01708,  0.01258,  0.00569,\n",
       "         0.00983,  0.00371,  0.00296,  0.00342,  0.00233, -0.00464,\n",
       "        -0.00212, -0.00769, -0.00765, -0.00776, -0.00754, -0.01274,\n",
       "        -0.0098 , -0.00753, -0.01268, -0.01358, -0.01064, -0.01234,\n",
       "        -0.01302, -0.01297, -0.01323, -0.01236, -0.01695, -0.0158 ,\n",
       "        -0.01453, -0.01548, -0.01646]),\n",
       " array([  2.04640000e-01,   2.00010000e-01,   1.89270000e-01,\n",
       "          1.58420000e-01,   1.65520000e-01,   1.26800000e-01,\n",
       "          1.21790000e-01,   1.14570000e-01,   1.13270000e-01,\n",
       "          9.22100000e-02,   8.52200000e-02,   8.51000000e-02,\n",
       "          8.77400000e-02,   8.64200000e-02,   9.24200000e-02,\n",
       "          7.86200000e-02,   8.24400000e-02,   9.25400000e-02,\n",
       "          7.88100000e-02,   8.12900000e-02,   9.34800000e-02,\n",
       "          8.96600000e-02,   8.28400000e-02,   8.31400000e-02,\n",
       "          6.76900000e-02,   8.71600000e-02,   7.93700000e-02,\n",
       "          7.43400000e-02,   6.00200000e-02,   6.65800000e-02,\n",
       "          7.68800000e-02,   7.23900000e-02,   7.79000000e-02,\n",
       "          6.51500000e-02,   7.09000000e-02,   7.26000000e-02,\n",
       "          6.66300000e-02,   6.30400000e-02,   7.06700000e-02,\n",
       "          6.15000000e-02,   5.63700000e-02,   6.03800000e-02,\n",
       "          6.10300000e-02,   5.52500000e-02,   6.68700000e-02,\n",
       "          5.44500000e-02,   1.29400000e-02,   3.98000000e-03,\n",
       "          3.51000000e-03,   3.79100000e-02,   3.40400000e-02,\n",
       "         -4.17000000e-03,   2.43700000e-02,  -4.96000000e-03,\n",
       "          1.22800000e-02,   4.04600000e-02,   6.84000000e-03,\n",
       "         -3.00000000e-05,   2.28300000e-02,  -2.14500000e-02,\n",
       "          2.50100000e-02,   1.29600000e-02,   3.70200000e-02,\n",
       "         -9.52000000e-03,   1.07700000e-02,  -4.52000000e-03,\n",
       "         -1.69400000e-02,  -1.62000000e-02,  -1.14400000e-02,\n",
       "         -1.60100000e-02,  -2.27900000e-02,   5.31000000e-03,\n",
       "         -1.69100000e-02,  -1.72900000e-02,  -3.83700000e-02,\n",
       "         -2.77900000e-02,  -3.81500000e-02,  -2.67200000e-02,\n",
       "         -2.68100000e-02,  -3.99800000e-02,  -3.15000000e-02,\n",
       "         -2.28800000e-02,  -2.73800000e-02,  -3.16100000e-02,\n",
       "         -3.06500000e-02,  -1.74600000e-02,  -3.37700000e-02,\n",
       "         -3.26100000e-02,  -3.61000000e-02,  -7.68000000e-03,\n",
       "         -1.50500000e-02,  -2.28600000e-02,  -1.45600000e-02])]"
      ]
     },
     "execution_count": 729,
     "metadata": {},
     "output_type": "execute_result"
    }
   ],
   "source": [
    "data"
   ]
  },
  {
   "cell_type": "code",
   "execution_count": 487,
   "metadata": {},
   "outputs": [
    {
     "data": {
      "text/plain": [
       "array([[  0.00000000e+00,   1.92000000e-07,   3.84000000e-07,\n",
       "          5.76000000e-07,   7.68000000e-07,   9.60000000e-07,\n",
       "          1.15200000e-06,   1.34400000e-06,   1.53600000e-06,\n",
       "          1.72800000e-06,   1.92000000e-06,   1.92000000e-06,\n",
       "          1.94320000e-06,   1.96640000e-06,   1.98960000e-06,\n",
       "          2.01280000e-06,   2.03600000e-06,   2.05920000e-06,\n",
       "          2.08240000e-06,   2.10560000e-06,   2.12880000e-06,\n",
       "          2.15200000e-06,   2.17520000e-06,   2.19840000e-06,\n",
       "          2.22160000e-06,   2.24480000e-06,   2.26800000e-06,\n",
       "          2.29120000e-06,   2.31440000e-06,   2.33760000e-06,\n",
       "          2.36080000e-06,   2.38400000e-06,   2.40720000e-06,\n",
       "          2.43040000e-06,   2.45360000e-06,   2.47680000e-06,\n",
       "          2.50000000e-06,   2.52320000e-06,   2.54640000e-06,\n",
       "          2.56960000e-06,   2.59280000e-06,   2.61600000e-06,\n",
       "          2.63920000e-06,   2.66240000e-06,   2.68560000e-06,\n",
       "          2.70880000e-06,   2.73200000e-06,   2.75520000e-06,\n",
       "          2.77840000e-06,   2.80160000e-06,   2.82480000e-06,\n",
       "          2.84800000e-06,   2.87120000e-06,   2.89440000e-06,\n",
       "          2.91760000e-06,   2.94080000e-06,   2.96400000e-06,\n",
       "          2.98720000e-06,   3.01040000e-06,   3.03360000e-06,\n",
       "          3.05680000e-06,   3.08000000e-06,   3.08000000e-06,\n",
       "          3.24666667e-06,   3.41333333e-06,   3.58000000e-06,\n",
       "          3.74666667e-06,   3.91333333e-06,   4.08000000e-06,\n",
       "          4.24666667e-06,   4.41333333e-06,   4.58000000e-06,\n",
       "          4.74666667e-06,   4.91333333e-06,   5.08000000e-06,\n",
       "          5.24666667e-06,   5.41333333e-06,   5.58000000e-06,\n",
       "          5.74666667e-06,   5.91333333e-06,   6.08000000e-06,\n",
       "          6.24666667e-06,   6.41333333e-06,   6.58000000e-06,\n",
       "          6.74666667e-06,   6.91333333e-06,   7.08000000e-06,\n",
       "          7.24666667e-06,   7.41333333e-06,   7.58000000e-06,\n",
       "          7.74666667e-06,   7.91333333e-06,   8.08000000e-06]])"
      ]
     },
     "execution_count": 487,
     "metadata": {},
     "output_type": "execute_result"
    }
   ],
   "source": [
    "np.asarray(data[1]['z'][1]) - 60*pi2_gauss"
   ]
  },
  {
   "cell_type": "code",
   "execution_count": 380,
   "metadata": {
    "collapsed": true
   },
   "outputs": [],
   "source": [
    "time = np.asarray((np.asarray(data2[1]['z'][1][0])-3*2*pi2_gauss).tolist() + (data[1]['z'][1][0]).tolist())\n",
    "meas = np.asarray(data[1]['z'][2].tolist() + data2[1]['z'][2].tolist())"
   ]
  },
  {
   "cell_type": "code",
   "execution_count": 296,
   "metadata": {
    "collapsed": true
   },
   "outputs": [],
   "source": [
    "import fitting_CPMG\n",
    "from fitting_CPMG import gaussian_CPMG"
   ]
  },
  {
   "cell_type": "code",
   "execution_count": 728,
   "metadata": {},
   "outputs": [
    {
     "data": {
      "text/plain": [
       "<matplotlib.legend.Legend at 0x28cdbb2d2e8>"
      ]
     },
     "execution_count": 728,
     "metadata": {},
     "output_type": "execute_result"
    }
   ],
   "source": [
    "imp.reload(fitting_CPMG)\n",
    "from fitting_CPMG import gaussian_CPMG\n",
    "from fitting_CPMG import fit_CPMG_new\n",
    "import matplotlib.patches as plm\n",
    "gamma1 = (10**6)/2.8\n",
    "gammap = 0\n",
    "indexes = [0, 1, 5, 10, 20, 30]\n",
    "adresses = ['19-02-27', '19-18-23', '19-50-37', '20-22-52', '20-55-06', '21-27-03']\n",
    "time = []\n",
    "data = []\n",
    "fitted_data = []\n",
    "fitted_param = []\n",
    "p = []\n",
    "for i in range(6):\n",
    "    meas = []\n",
    "    param = []\n",
    "    with open('D:\\qtlab\\ReiData\\\\data\\\\2018-04-19\\\\{}-CPMG Thesis N={}\\\\z CPMG Thesis N={}.pkl'.format(adresses[i], indexes[i], indexes[i]), 'rb') as f:\n",
    "        time.append(pickle.load(f)[1]['z'][1][0])\n",
    "    with open('D:\\qtlab\\ReiData\\\\data\\\\2018-04-19\\\\{}-CPMG Thesis N={}\\\\z CPMG Thesis N={}.pkl'.format(adresses[i], indexes[i], indexes[i]), 'rb') as f:\n",
    "        data.append(pickle.load(f)[1]['z'][2])\n",
    "    if (i==0) or (i==1):\n",
    "        param, meas = fitting_CPMG.gaussian_CPMG_exp(time[i], data[i])\n",
    "        #print(i, indexes[i])\n",
    "        #meas, param = [], []\n",
    "    else:\n",
    "        meas, param = fitting_CPMG.fit_CPMG_new(indexes[i], pi2_gauss, gamma1, gammap, tayp, time[i], data[i], gaussian_CPMG)\n",
    "    meas += 0.5\n",
    "    fitted_data.append(meas)\n",
    "    fitted_param.append(param[0])\n",
    "    p.append(plt.plot(time[i]*1e06, data[i]+0.5, marker = 'o', markersize = 1, linestyle = ''))#, time[i], fitted_data[i])\n",
    "    #plt.legend('N = {}'.format(indexes[i]))\n",
    "\n",
    "for i in range(6):\n",
    "    plt.plot(time[i]*1e06, fitted_data[i], color = '{}'.format(p[i][0].get_color()))\n",
    "    #p.append(plt.plot(time[i], fitted_data[i]))\n",
    "#type(p[0][0])\n",
    "#p[0][0].get_color()\n",
    "Handels = []\n",
    "for i in range(6):\n",
    "    Handels.append(plm.Patch(color = p[i][0].get_color(), label = 'N = {}'.format(indexes[i])))\n",
    "plt.legend(handles = Handels)"
   ]
  },
  {
   "cell_type": "code",
   "execution_count": 731,
   "metadata": {},
   "outputs": [
    {
     "data": {
      "text/plain": [
       "(2,\n",
       " {'Zo': (('CPMG',),\n",
       "   (array([  3.20000000e-07,   3.52000000e-07,   3.84000000e-07,\n",
       "             4.16000000e-07,   4.48000000e-07,   4.80000000e-07,\n",
       "             5.12000000e-07,   5.44000000e-07,   5.76000000e-07,\n",
       "             6.08000000e-07,   6.40000000e-07,   6.40000000e-07,\n",
       "             7.27200000e-07,   8.14400000e-07,   9.01600000e-07,\n",
       "             9.88800000e-07,   1.07600000e-06,   1.16320000e-06,\n",
       "             1.25040000e-06,   1.33760000e-06,   1.42480000e-06,\n",
       "             1.51200000e-06,   1.59920000e-06,   1.68640000e-06,\n",
       "             1.77360000e-06,   1.86080000e-06,   1.94800000e-06,\n",
       "             2.03520000e-06,   2.12240000e-06,   2.20960000e-06,\n",
       "             2.29680000e-06,   2.38400000e-06,   2.47120000e-06,\n",
       "             2.55840000e-06,   2.64560000e-06,   2.73280000e-06,\n",
       "             2.82000000e-06,   2.90720000e-06,   2.99440000e-06,\n",
       "             3.08160000e-06,   3.16880000e-06,   3.25600000e-06,\n",
       "             3.34320000e-06,   3.43040000e-06,   3.51760000e-06,\n",
       "             3.60480000e-06,   3.69200000e-06,   3.77920000e-06,\n",
       "             3.86640000e-06,   3.95360000e-06,   4.04080000e-06,\n",
       "             4.12800000e-06,   4.21520000e-06,   4.30240000e-06,\n",
       "             4.38960000e-06,   4.47680000e-06,   4.56400000e-06,\n",
       "             4.65120000e-06,   4.73840000e-06,   4.82560000e-06,\n",
       "             4.91280000e-06,   5.00000000e-06,   5.00000000e-06,\n",
       "             5.16666667e-06,   5.33333333e-06,   5.50000000e-06,\n",
       "             5.66666667e-06,   5.83333333e-06,   6.00000000e-06,\n",
       "             6.16666667e-06,   6.33333333e-06,   6.50000000e-06,\n",
       "             6.66666667e-06,   6.83333333e-06,   7.00000000e-06,\n",
       "             7.16666667e-06,   7.33333333e-06,   7.50000000e-06,\n",
       "             7.66666667e-06,   7.83333333e-06,   8.00000000e-06,\n",
       "             8.16666667e-06,   8.33333333e-06,   8.50000000e-06,\n",
       "             8.66666667e-06,   8.83333333e-06,   9.00000000e-06,\n",
       "             9.16666667e-06,   9.33333333e-06,   9.50000000e-06,\n",
       "             9.66666667e-06,   9.83333333e-06,   1.00000000e-05]),),\n",
       "   array([ 0.29534,  0.28572,  0.28317,  0.28408,  0.28235,  0.28118,\n",
       "           0.27467,  0.2707 ,  0.26832,  0.26629,  0.26262,  0.25891,\n",
       "           0.24694,  0.23862,  0.2287 ,  0.2156 ,  0.20035,  0.19008,\n",
       "           0.17954,  0.16865,  0.15381,  0.14162,  0.13273,  0.1201 ,\n",
       "           0.11269,  0.10573,  0.10007,  0.08853,  0.08044,  0.07444,\n",
       "           0.06746,  0.06499,  0.06032,  0.05453,  0.04571,  0.04926,\n",
       "           0.04058,  0.03853,  0.0344 ,  0.03101,  0.03085,  0.02745,\n",
       "           0.02432,  0.0245 ,  0.01878,  0.02071,  0.01818,  0.01224,\n",
       "           0.01381,  0.00805,  0.00855,  0.00762,  0.00344,  0.00404,\n",
       "           0.00071,  0.0024 ,  0.00063, -0.00062, -0.00405, -0.00118,\n",
       "          -0.00347, -0.00267, -0.0052 , -0.00811, -0.0055 , -0.00688,\n",
       "          -0.00971, -0.0086 , -0.00973, -0.01123, -0.00961, -0.01217,\n",
       "          -0.01219, -0.01505, -0.01433, -0.01368, -0.01496, -0.0162 ,\n",
       "          -0.01835, -0.01594, -0.01828, -0.01574, -0.01574, -0.01512,\n",
       "          -0.01693, -0.01582, -0.01513, -0.01794, -0.01824, -0.0148 ,\n",
       "          -0.01619, -0.01431, -0.01507]),\n",
       "   {},\n",
       "   ('',)),\n",
       "  'z': (('CPMG',),\n",
       "   (array([  3.20000000e-07,   3.52000000e-07,   3.84000000e-07,\n",
       "             4.16000000e-07,   4.48000000e-07,   4.80000000e-07,\n",
       "             5.12000000e-07,   5.44000000e-07,   5.76000000e-07,\n",
       "             6.08000000e-07,   6.40000000e-07,   6.40000000e-07,\n",
       "             7.27200000e-07,   8.14400000e-07,   9.01600000e-07,\n",
       "             9.88800000e-07,   1.07600000e-06,   1.16320000e-06,\n",
       "             1.25040000e-06,   1.33760000e-06,   1.42480000e-06,\n",
       "             1.51200000e-06,   1.59920000e-06,   1.68640000e-06,\n",
       "             1.77360000e-06,   1.86080000e-06,   1.94800000e-06,\n",
       "             2.03520000e-06,   2.12240000e-06,   2.20960000e-06,\n",
       "             2.29680000e-06,   2.38400000e-06,   2.47120000e-06,\n",
       "             2.55840000e-06,   2.64560000e-06,   2.73280000e-06,\n",
       "             2.82000000e-06,   2.90720000e-06,   2.99440000e-06,\n",
       "             3.08160000e-06,   3.16880000e-06,   3.25600000e-06,\n",
       "             3.34320000e-06,   3.43040000e-06,   3.51760000e-06,\n",
       "             3.60480000e-06,   3.69200000e-06,   3.77920000e-06,\n",
       "             3.86640000e-06,   3.95360000e-06,   4.04080000e-06,\n",
       "             4.12800000e-06,   4.21520000e-06,   4.30240000e-06,\n",
       "             4.38960000e-06,   4.47680000e-06,   4.56400000e-06,\n",
       "             4.65120000e-06,   4.73840000e-06,   4.82560000e-06,\n",
       "             4.91280000e-06,   5.00000000e-06,   5.00000000e-06,\n",
       "             5.16666667e-06,   5.33333333e-06,   5.50000000e-06,\n",
       "             5.66666667e-06,   5.83333333e-06,   6.00000000e-06,\n",
       "             6.16666667e-06,   6.33333333e-06,   6.50000000e-06,\n",
       "             6.66666667e-06,   6.83333333e-06,   7.00000000e-06,\n",
       "             7.16666667e-06,   7.33333333e-06,   7.50000000e-06,\n",
       "             7.66666667e-06,   7.83333333e-06,   8.00000000e-06,\n",
       "             8.16666667e-06,   8.33333333e-06,   8.50000000e-06,\n",
       "             8.66666667e-06,   8.83333333e-06,   9.00000000e-06,\n",
       "             9.16666667e-06,   9.33333333e-06,   9.50000000e-06,\n",
       "             9.66666667e-06,   9.83333333e-06,   1.00000000e-05]),),\n",
       "   array([ 0.29534,  0.28572,  0.28317,  0.28408,  0.28235,  0.28118,\n",
       "           0.27467,  0.2707 ,  0.26832,  0.26629,  0.26262,  0.25891,\n",
       "           0.24694,  0.23862,  0.2287 ,  0.2156 ,  0.20035,  0.19008,\n",
       "           0.17954,  0.16865,  0.15381,  0.14162,  0.13273,  0.1201 ,\n",
       "           0.11269,  0.10573,  0.10007,  0.08853,  0.08044,  0.07444,\n",
       "           0.06746,  0.06499,  0.06032,  0.05453,  0.04571,  0.04926,\n",
       "           0.04058,  0.03853,  0.0344 ,  0.03101,  0.03085,  0.02745,\n",
       "           0.02432,  0.0245 ,  0.01878,  0.02071,  0.01818,  0.01224,\n",
       "           0.01381,  0.00805,  0.00855,  0.00762,  0.00344,  0.00404,\n",
       "           0.00071,  0.0024 ,  0.00063, -0.00062, -0.00405, -0.00118,\n",
       "          -0.00347, -0.00267, -0.0052 , -0.00811, -0.0055 , -0.00688,\n",
       "          -0.00971, -0.0086 , -0.00973, -0.01123, -0.00961, -0.01217,\n",
       "          -0.01219, -0.01505, -0.01433, -0.01368, -0.01496, -0.0162 ,\n",
       "          -0.01835, -0.01594, -0.01828, -0.01574, -0.01574, -0.01512,\n",
       "          -0.01693, -0.01582, -0.01513, -0.01794, -0.01824, -0.0148 ,\n",
       "          -0.01619, -0.01431, -0.01507]),\n",
       "   {},\n",
       "   ('',))},\n",
       " {'name': 'CPMG Thesis N=5', 'params': ('CPMG',), 'type': 'z'})"
      ]
     },
     "execution_count": 731,
     "metadata": {},
     "output_type": "execute_result"
    }
   ],
   "source": [
    "data"
   ]
  },
  {
   "cell_type": "code",
   "execution_count": 730,
   "metadata": {
    "scrolled": true
   },
   "outputs": [
    {
     "data": {
      "text/plain": [
       "array([  0.00000000e+00,   3.20000000e-08,   6.40000000e-08,\n",
       "         9.60000000e-08,   1.28000000e-07,   1.60000000e-07,\n",
       "         1.92000000e-07,   2.24000000e-07,   2.56000000e-07,\n",
       "         2.88000000e-07,   3.20000000e-07,   3.20000000e-07,\n",
       "         4.07200000e-07,   4.94400000e-07,   5.81600000e-07,\n",
       "         6.68800000e-07,   7.56000000e-07,   8.43200000e-07,\n",
       "         9.30400000e-07,   1.01760000e-06,   1.10480000e-06,\n",
       "         1.19200000e-06,   1.27920000e-06,   1.36640000e-06,\n",
       "         1.45360000e-06,   1.54080000e-06,   1.62800000e-06,\n",
       "         1.71520000e-06,   1.80240000e-06,   1.88960000e-06,\n",
       "         1.97680000e-06,   2.06400000e-06,   2.15120000e-06,\n",
       "         2.23840000e-06,   2.32560000e-06,   2.41280000e-06,\n",
       "         2.50000000e-06,   2.58720000e-06,   2.67440000e-06,\n",
       "         2.76160000e-06,   2.84880000e-06,   2.93600000e-06,\n",
       "         3.02320000e-06,   3.11040000e-06,   3.19760000e-06,\n",
       "         3.28480000e-06,   3.37200000e-06,   3.45920000e-06,\n",
       "         3.54640000e-06,   3.63360000e-06,   3.72080000e-06,\n",
       "         3.80800000e-06,   3.89520000e-06,   3.98240000e-06,\n",
       "         4.06960000e-06,   4.15680000e-06,   4.24400000e-06,\n",
       "         4.33120000e-06,   4.41840000e-06,   4.50560000e-06,\n",
       "         4.59280000e-06,   4.68000000e-06,   4.68000000e-06,\n",
       "         4.84666667e-06,   5.01333333e-06,   5.18000000e-06,\n",
       "         5.34666667e-06,   5.51333333e-06,   5.68000000e-06,\n",
       "         5.84666667e-06,   6.01333333e-06,   6.18000000e-06,\n",
       "         6.34666667e-06,   6.51333333e-06,   6.68000000e-06,\n",
       "         6.84666667e-06,   7.01333333e-06,   7.18000000e-06,\n",
       "         7.34666667e-06,   7.51333333e-06,   7.68000000e-06,\n",
       "         7.84666667e-06,   8.01333333e-06,   8.18000000e-06,\n",
       "         8.34666667e-06,   8.51333333e-06,   8.68000000e-06,\n",
       "         8.84666667e-06,   9.01333333e-06,   9.18000000e-06,\n",
       "         9.34666667e-06,   9.51333333e-06,   9.68000000e-06])"
      ]
     },
     "execution_count": 730,
     "metadata": {},
     "output_type": "execute_result"
    }
   ],
   "source": [
    "import pickle\n",
    "N = 5\n",
    "with open('D:\\qtlab\\ReiData\\\\data\\\\2018-04-19\\\\19-50-37-CPMG Thesis N=5\\\\z CPMG Thesis N=5.pkl', 'rb') as f:\n",
    "    data = pickle.load(f)\n",
    "data[1]['z'][1][0] - N*2*pi2_gauss"
   ]
  },
  {
   "cell_type": "code",
   "execution_count": 570,
   "metadata": {
    "collapsed": true
   },
   "outputs": [],
   "source": [
    "imp.reload(fitting_CPMG)\n",
    "from fitting_CPMG import gaussian_CPMG\n",
    "from fitting_CPMG import fit_CPMG_new\n",
    "gamma1 = (10**6)/2.8\n",
    "gammap = 0#(10^6)/1.75"
   ]
  },
  {
   "cell_type": "code",
   "execution_count": 594,
   "metadata": {
    "scrolled": true
   },
   "outputs": [
    {
     "data": {
      "text/plain": [
       "array([  0.00000000e+00,   3.20000000e-08,   6.40000000e-08,\n",
       "         9.60000000e-08,   1.28000000e-07,   1.60000000e-07,\n",
       "         1.92000000e-07,   2.24000000e-07,   2.56000000e-07,\n",
       "         2.88000000e-07,   3.20000000e-07,   3.20000000e-07,\n",
       "         4.07200000e-07,   4.94400000e-07,   5.81600000e-07,\n",
       "         6.68800000e-07,   7.56000000e-07,   8.43200000e-07,\n",
       "         9.30400000e-07,   1.01760000e-06,   1.10480000e-06,\n",
       "         1.19200000e-06,   1.27920000e-06,   1.36640000e-06,\n",
       "         1.45360000e-06,   1.54080000e-06,   1.62800000e-06,\n",
       "         1.71520000e-06,   1.80240000e-06,   1.88960000e-06,\n",
       "         1.97680000e-06,   2.06400000e-06,   2.15120000e-06,\n",
       "         2.23840000e-06,   2.32560000e-06,   2.41280000e-06,\n",
       "         2.50000000e-06,   2.58720000e-06,   2.67440000e-06,\n",
       "         2.76160000e-06,   2.84880000e-06,   2.93600000e-06,\n",
       "         3.02320000e-06,   3.11040000e-06,   3.19760000e-06,\n",
       "         3.28480000e-06,   3.37200000e-06,   3.45920000e-06,\n",
       "         3.54640000e-06,   3.63360000e-06,   3.72080000e-06,\n",
       "         3.80800000e-06,   3.89520000e-06,   3.98240000e-06,\n",
       "         4.06960000e-06,   4.15680000e-06,   4.24400000e-06,\n",
       "         4.33120000e-06,   4.41840000e-06,   4.50560000e-06,\n",
       "         4.59280000e-06,   4.68000000e-06,   4.68000000e-06,\n",
       "         4.84666667e-06,   5.01333333e-06,   5.18000000e-06,\n",
       "         5.34666667e-06,   5.51333333e-06,   5.68000000e-06,\n",
       "         5.84666667e-06,   6.01333333e-06,   6.18000000e-06,\n",
       "         6.34666667e-06,   6.51333333e-06,   6.68000000e-06,\n",
       "         6.84666667e-06,   7.01333333e-06,   7.18000000e-06,\n",
       "         7.34666667e-06,   7.51333333e-06,   7.68000000e-06,\n",
       "         7.84666667e-06,   8.01333333e-06,   8.18000000e-06,\n",
       "         8.34666667e-06,   8.51333333e-06,   8.68000000e-06,\n",
       "         8.84666667e-06,   9.01333333e-06,   9.18000000e-06,\n",
       "         9.34666667e-06,   9.51333333e-06,   9.68000000e-06])"
      ]
     },
     "execution_count": 594,
     "metadata": {},
     "output_type": "execute_result"
    }
   ],
   "source": [
    "time = np.asarray(data[1]['z'][1][0])-N*2*pi2_gauss\n",
    "measurement_fitted5, fitted_parameters5 = fitting_CPMG.fit_CPMG_new(N, pi2_gauss, gamma1, gammap, tayp, time, data[1]['z'][2], gaussian_CPMG)\n",
    "time"
   ]
  },
  {
   "cell_type": "code",
   "execution_count": 573,
   "metadata": {
    "collapsed": true
   },
   "outputs": [],
   "source": [
    "fitted_parameters0, measurement_fitted0 = fitting_CPMG.gaussian_CPMG_exp(time, data[1]['z'][2])"
   ]
  },
  {
   "cell_type": "code",
   "execution_count": 596,
   "metadata": {
    "collapsed": true
   },
   "outputs": [],
   "source": [
    "time5 = time"
   ]
  },
  {
   "cell_type": "code",
   "execution_count": 575,
   "metadata": {
    "scrolled": true
   },
   "outputs": [
    {
     "data": {
      "text/plain": [
       "(array([  1.38142807e+06,   3.61027182e-01,  -3.01382164e-02]),\n",
       " array([ 0.33088897,  0.32929654,  0.32771114,  0.32613274,  0.32456129,\n",
       "         0.32299678,  0.32143917,  0.31988842,  0.31834452,  0.31680743,\n",
       "         0.31527712,  0.31527712,  0.29279462,  0.27177548,  0.25212444,\n",
       "         0.23375244,  0.21657625,  0.20051803,  0.18550501,  0.17146917,\n",
       "         0.15834689,  0.14607871,  0.13460906,  0.12388594,  0.11386077,\n",
       "         0.10448812,  0.09572553,  0.08753327,  0.07987424,  0.07271372,\n",
       "         0.06601926,  0.05976053,  0.05390918,  0.04843868,  0.04332424,\n",
       "         0.0385427 ,  0.03407237,  0.02989302,  0.02598569,  0.02233268,\n",
       "         0.01891744,  0.01572449,  0.01273937,  0.00994854,  0.00733936,\n",
       "         0.00490001,  0.00261943,  0.00048729, -0.00150607, -0.00336969,\n",
       "        -0.00511201, -0.00674092, -0.00826381, -0.00968758, -0.01101867,\n",
       "        -0.01226313, -0.01342659, -0.01451432, -0.01553125, -0.016482  ,\n",
       "        -0.01737086, -0.01820186, -0.01820186, -0.01949982, -0.02065664,\n",
       "        -0.02168766, -0.02260658, -0.02342557, -0.0241555 , -0.02480606,\n",
       "        -0.02538588, -0.02590265, -0.02636322, -0.02677372, -0.02713957,\n",
       "        -0.02746564, -0.02775626, -0.02801527, -0.02824612, -0.02845187,\n",
       "        -0.02863524, -0.02879867, -0.02894434, -0.02907416, -0.02918986,\n",
       "        -0.02929299, -0.0293849 , -0.02946681, -0.02953982, -0.02960489,\n",
       "        -0.02966289, -0.02971457, -0.02976064]))"
      ]
     },
     "execution_count": 575,
     "metadata": {},
     "output_type": "execute_result"
    }
   ],
   "source": [
    "fitted_parameters0,measurement_fitted0"
   ]
  },
  {
   "cell_type": "code",
   "execution_count": 597,
   "metadata": {},
   "outputs": [
    {
     "name": "stdout",
     "output_type": "stream",
     "text": [
      "[  4.96295516e+05   2.85688543e-01  -6.04324674e-03]\n"
     ]
    }
   ],
   "source": [
    "plt.plot(time5, measurement_fitted5)\n",
    "plt.plot(time5, data[1]['z'][2], marker = 'o', markersize = 1, linestyle = '')\n",
    "#plt.legend('N = 10')\n",
    "print(fitted_parameters5)"
   ]
  },
  {
   "cell_type": "code",
   "execution_count": 581,
   "metadata": {},
   "outputs": [
    {
     "name": "stdout",
     "output_type": "stream",
     "text": [
      "[  4.05634810e+05   2.71951386e-01  -1.27497213e-02]\n"
     ]
    }
   ],
   "source": [
    "print(fitted_parameters10)"
   ]
  },
  {
   "cell_type": "code",
   "execution_count": null,
   "metadata": {
    "collapsed": true
   },
   "outputs": [],
   "source": [
    "clifford_location='D:\\\\qtlab\\\\ReiData\\\\data\\\\2017-11-02\\\\21-07-16'\n",
    "name='distance None'\n",
    "clifford_bench = {}\n",
    "clifford_bench = save_pkl.load_pkl(name, clifford_location)[1]\n",
    "#clifford_bench['distance']\n",
    "clifford_bench['Pulse sequence']"
   ]
  },
  {
   "cell_type": "code",
   "execution_count": null,
   "metadata": {
    "collapsed": true
   },
   "outputs": [],
   "source": [
    "print([clifford_bench['Pulse sequence'][2][1][i][::2] for i in range(len(clifford_bench['Pulse sequence'][2][1]))])\n",
    "print([clifford_bench['Pulse sequence'][2][1][i][::2] for i in range(len(clifford_bench['Pulse sequence'][2][1]))])"
   ]
  },
  {
   "cell_type": "code",
   "execution_count": null,
   "metadata": {
    "collapsed": true
   },
   "outputs": [],
   "source": [
    "clifford_bench['distance'][2][1,:]"
   ]
  },
  {
   "cell_type": "code",
   "execution_count": null,
   "metadata": {
    "collapsed": true
   },
   "outputs": [],
   "source": [
    "not_location='D:\\\\qtlab\\\\ReiData\\\\data\\\\2017-11-02\\\\22-14-16'\n",
    "name='distance None'\n",
    "not_bench = {}\n",
    "not_bench = save_pkl.load_pkl(name, not_location)[1]\n",
    "#clifford_bench['distance']\n",
    "pass"
   ]
  },
  {
   "cell_type": "code",
   "execution_count": null,
   "metadata": {
    "collapsed": true
   },
   "outputs": [],
   "source": [
    "hadamard_location='D:\\\\qtlab\\\\ReiData\\\\data\\\\2017-11-02\\\\21-40-30'\n",
    "name='distance None'\n",
    "hadamard_bench = {}\n",
    "hadamard_bench = save_pkl.load_pkl(name, hadamard_location)[1]\n",
    "#clifford_bench['distance']\n",
    "pass"
   ]
  },
  {
   "cell_type": "markdown",
   "metadata": {},
   "source": [
    "## interleaved benchmarking of H gate and NOT"
   ]
  },
  {
   "cell_type": "code",
   "execution_count": null,
   "metadata": {
    "collapsed": true
   },
   "outputs": [],
   "source": [
    "import interleaved_benchmarking\n",
    "imp.reload(interleaved_benchmarking)\n",
    "\n",
    "bench = interleaved_benchmarking.interleaved_benchmarking(tomoz)\n",
    "\n",
    "bench.interleavers = clifford_group\n",
    "bench.random_sequence_num = 10\n",
    "bench.target_gate = clifford_group['Y/2 X/2 X/2']['pulses'] # NOT\n",
    "bench.target_gate_name = 'Hadamard'\n",
    "bench.target_gate_unitary = clifford_group['Y/2 X/2 X/2']['unitary']\n"
   ]
  },
  {
   "cell_type": "code",
   "execution_count": null,
   "metadata": {
    "collapsed": true,
    "scrolled": true
   },
   "outputs": [],
   "source": [
    "seq_lengths = np.arange(0, 51, 5)\n",
    "random_sequence_ids = np.arange(bench.random_sequence_num)\n",
    "bench.prepare_random_interleaving_sequences()\n",
    "hadamard_bench = sweep.sweep(bench,\n",
    "                             (seq_lengths, bench.set_sequence_length_and_regenerate, 'Gate number', ''), \n",
    "                             (random_sequence_ids, bench.set_interleaved_sequence, 'Random sequence id', ''))"
   ]
  },
  {
   "cell_type": "code",
   "execution_count": null,
   "metadata": {
    "collapsed": true
   },
   "outputs": [],
   "source": [
    "imp.reload(fitting)\n",
    "plt.plot(clifford_bench['distance'][1][0], 1-clifford_bench['distance'][2], marker='o', color='black', linestyle='')\n",
    "#plt.plot(clifford_bench['distance'][1][0], np.mean(1-clifford_bench['distance'][2], axis=1), label='Cliffords (average)')\n",
    "plt.plot(hadamard_bench['distance'][1][0], 1-hadamard_bench['distance'][2], marker='o', color='blue', linestyle='')\n",
    "#plt.plot(hadamard_bench['distance'][1][0], np.mean(1-hadamard_bench['distance'][2], axis=1), label='Hadamard interleaved (average)')\n",
    "clifford_fitresults, clifford_expfit = fitting.exp_fit1d(clifford_bench['distance'][1][0], \n",
    "                                                        np.reshape(np.mean(1-clifford_bench['distance'][2], axis=1), \n",
    "                                                                   (1, len(clifford_bench['distance'][1][0]))))\n",
    "hadamard_fitresults, hadamard_expfit = fitting.exp_fit1d(hadamard_bench['distance'][1][0], \n",
    "                                                        np.reshape(np.mean(1-hadamard_bench['distance'][2], axis=1), \n",
    "                                                                   (1, len(hadamard_bench['distance'][1][0]))))\n",
    "plt.plot(clifford_bench['distance'][1][0],clifford_expfit[0], label='Cliffords (fit)')\n",
    "plt.plot(hadamard_bench['distance'][1][0],hadamard_expfit[0], label='Hadamard (fit)')#, linestyle='-', marker='')\n",
    "print('''Clifford fidelity: {0:6.3f}\n",
    "Hadamard+Clifford fidelity: {1:6.3f}\n",
    "Hadamard error rate: {2:6.3f}'''.format(np.exp(-1/clifford_fitresults[0]), \n",
    "                                        np.exp(-1/hadamard_fitresults[0]),\n",
    "                                       1-np.exp(-1/hadamard_fitresults[0])/np.exp(-1/clifford_fitresults[0])))\n",
    "plt.xlabel(clifford_bench['distance'][0][0])\n",
    "plt.ylabel('Fidelity')\n",
    "plt.legend()\n",
    "plt.grid()"
   ]
  },
  {
   "cell_type": "code",
   "execution_count": null,
   "metadata": {
    "collapsed": true
   },
   "outputs": [],
   "source": [
    "import interleaved_benchmarking\n",
    "imp.reload(interleaved_benchmarking)\n",
    "\n",
    "bench = interleaved_benchmarking.interleaved_benchmarking(tomoz)\n",
    "\n",
    "bench.interleavers = clifford_group\n",
    "bench.random_sequence_num = 10\n",
    "bench.target_gate = clifford_group['X/2 X/2']['pulses'] # NOT\n",
    "bench.target_gate_name = 'NOT'\n",
    "bench.target_gate_unitary = clifford_group['X/2 X/2']['unitary']\n"
   ]
  },
  {
   "cell_type": "code",
   "execution_count": null,
   "metadata": {
    "collapsed": true,
    "scrolled": true
   },
   "outputs": [],
   "source": [
    "seq_lengths = np.arange(0, 51, 5)\n",
    "random_sequence_ids = np.arange(bench.random_sequence_num)\n",
    "bench.prepare_random_interleaving_sequences()\n",
    "not_bench = sweep.sweep(bench,\n",
    "                             (seq_lengths, bench.set_sequence_length_and_regenerate, 'Gate number', ''), \n",
    "                             (random_sequence_ids, bench.set_interleaved_sequence, 'Random sequence id', ''))"
   ]
  },
  {
   "cell_type": "code",
   "execution_count": null,
   "metadata": {
    "collapsed": true
   },
   "outputs": [],
   "source": [
    "imp.reload(fitting)\n",
    "plt.plot(clifford_bench['distance'][1][0], 1-clifford_bench['distance'][2], marker='o', color='black', linestyle='')\n",
    "#plt.plot(clifford_bench['distance'][1][0], np.mean(1-clifford_bench['distance'][2], axis=1), label='Cliffords (mean)')\n",
    "plt.plot(hadamard_bench['distance'][1][0], 1-hadamard_bench['distance'][2], marker='o', color='blue', linestyle='')\n",
    "#plt.plot(hadamard_bench['distance'][1][0], np.mean(1-hadamard_bench['distance'][2], axis=1), label='H interleaved (mean)')\n",
    "plt.plot(not_bench['distance'][1][0], 1-not_bench['distance'][2], marker='o', color='red', linestyle='')\n",
    "#plt.plot(not_bench['distance'][1][0], np.mean(1-not_bench['distance'][2], axis=1), label='NOT interleaved (mean)')\n",
    "clifford_fitresults, clifford_expfit = fitting.exp_fit1d(clifford_bench['distance'][1][0], \n",
    "                                                        np.reshape(np.mean(1-clifford_bench['distance'][2], axis=1), \n",
    "                                                                   (1, len(clifford_bench['distance'][1][0]))))\n",
    "hadamard_fitresults, hadamard_expfit = fitting.exp_fit1d(hadamard_bench['distance'][1][0], \n",
    "                                                        np.reshape(np.mean(1-hadamard_bench['distance'][2], axis=1), \n",
    "                                                                   (1, len(hadamard_bench['distance'][1][0]))))\n",
    "not_fitresults, not_expfit = fitting.exp_fit1d(not_bench['distance'][1][0], \n",
    "                                                        np.reshape(np.mean(1-not_bench['distance'][2], axis=1), \n",
    "                                                                   (1, len(not_bench['distance'][1][0]))))\n",
    "plt.plot(clifford_bench['distance'][1][0],clifford_expfit[0], label='Cliffords (fit)')\n",
    "plt.plot(hadamard_bench['distance'][1][0],hadamard_expfit[0], label='Hadamard (fit)')#, linestyle='-', marker='')\n",
    "plt.plot(not_bench['distance'][1][0],not_expfit[0], label='NOT (fit)')\n",
    "print('''Clifford fidelity: {0:6.3f}\n",
    "Hadamard+Clifford fidelity: {1:6.3f}\n",
    "NOT+Clifford fidelity: {3:6.3f}\n",
    "Hadamard error rate: {2:6.3f}\n",
    "NOT error rate: {4:6.3f}'''.format(np.exp(-1/clifford_fitresults[0]), \n",
    "                                        np.exp(-1/hadamard_fitresults[0]),\n",
    "                                       1-np.exp(-1/hadamard_fitresults[0])/np.exp(-1/clifford_fitresults[0]), \n",
    "                                        np.exp(-1/not_fitresults[0]),\n",
    "                                       1-np.exp(-1/not_fitresults[0])/np.exp(-1/clifford_fitresults[0])))\n",
    "plt.xlabel(clifford_bench['distance'][0][0])\n",
    "plt.ylabel('Fidelity')\n",
    "plt.legend()\n",
    "plt.grid()"
   ]
  },
  {
   "cell_type": "code",
   "execution_count": null,
   "metadata": {
    "collapsed": true
   },
   "outputs": [],
   "source": [
    "bench.target_gate = bench.interleavers['X']['pulses']\n",
    "bench.target_gate_unitary = bench.interleavers['X']['unitary']\n",
    "bench.target_gate_name = 'X (benchmarking)'\n",
    "tfunc = lambda : np.mean(bench.measure()['Euclidean distance'])\n",
    "class hd_pulse_generator:\n",
    "    def __init__(self, pulse_setter, pg, channel):\n",
    "        self.amp_x = -amp_x_hd\n",
    "        self.amp_y = amp_x_hd\n",
    "        self.sigma = sigma_hd\n",
    "        self.length = length_hd\n",
    "        self.pause_length = pause_length_hd\n",
    "        self.alpha = alpha_hd\n",
    "        \n",
    "        self.pg = pg\n",
    "        self.channel = channel\n",
    "        self.pulse = self.pulse_gen()\n",
    "        self.pulse_setter = pulse_setter\n",
    "    def set_real_amplitude(self,x):\n",
    "        self.amp_x = x\n",
    "        self.pulse_setter(self.pulse_gen())\n",
    "    def set_imag_amplitude(self,y):\n",
    "        self.amp_y = y\n",
    "        self.pulse_setter(self.pulse_gen())\n",
    "    def set_sigma(self,s):\n",
    "        self.sigma = s\n",
    "        self.pulse_setter(self.pulse_gen())\n",
    "    def set_length(self,l):\n",
    "        self.length = l\n",
    "        self.pulse_setter(self.pulse_gen())\n",
    "    def set_pause_length(self, p):\n",
    "        self.pause_length = p\n",
    "        self.pulse_setter(self.pulse_gen())\n",
    "    def set_alpha(self, a):\n",
    "        self.alpha = a\n",
    "        self.pulse_setter(self.pulse_gen())\n",
    "    def pulse_gen(self):\n",
    "        return [pg.p(self.channel, self.length, self.pg.gauss_hd, self.amp_x+1j*self.amp_y, 0, self.sigma, self.alpha), pg.p(None, self.pause_length)]\n",
    "    \n",
    "xg = hd_pulse_generator(bench.set_target_pulse, pg, 'iq_ex')"
   ]
  },
  {
   "cell_type": "code",
   "execution_count": null,
   "metadata": {
    "collapsed": true
   },
   "outputs": [],
   "source": [
    "sol, score = sweep.optimize(tfunc,  (xg.set_real_amplitude, xg.amp_x), \n",
    "                                    (xg.set_imag_amplitude, xg.amp_y),\n",
    "                                    (xg.set_alpha, xg.alpha))"
   ]
  },
  {
   "cell_type": "code",
   "execution_count": null,
   "metadata": {
    "collapsed": true
   },
   "outputs": [],
   "source": [
    "amps = np.linspace(0.925, 0.975, 21)\n",
    "alphas = np.linspace(-2e-9, 2e-9, 11)\n",
    "sweep.sweep(bench, (amps, xg.set_real_amplitude, 'Amplitude'), (alphas, xg.set_alpha, 'HD DRAG coeff'), filename='Randomized interleaved benchmarging X-rotation')"
   ]
  },
  {
   "cell_type": "code",
   "execution_count": null,
   "metadata": {
    "collapsed": true
   },
   "outputs": [],
   "source": [
    "data = save_pkl.load_pkl('Euclidean distance Randomized interleaved benchmarging X-rotation', 'D:\\\\qtlab\\\\ReiData\\\\data\\\\2017-07-02\\\\23-03-34')\n",
    "plt.figure()\n",
    "plt.pcolormesh(data[1]['Euclidean distance'][1][1], data[1]['Euclidean distance'][1][0], data[1]['Euclidean distance'][2][:,:,5])\n",
    "plt.colorbar()"
   ]
  },
  {
   "cell_type": "code",
   "execution_count": null,
   "metadata": {
    "collapsed": true
   },
   "outputs": [],
   "source": [
    "data[1]"
   ]
  },
  {
   "cell_type": "code",
   "execution_count": null,
   "metadata": {
    "collapsed": true
   },
   "outputs": [],
   "source": [
    "data[1]['Euclidean distance']"
   ]
  },
  {
   "cell_type": "code",
   "execution_count": null,
   "metadata": {
    "collapsed": true
   },
   "outputs": [],
   "source": [
    "meas = bench.measure()"
   ]
  },
  {
   "cell_type": "code",
   "execution_count": null,
   "metadata": {
    "collapsed": true
   },
   "outputs": [],
   "source": [
    "meas['Xo']"
   ]
  },
  {
   "cell_type": "code",
   "execution_count": null,
   "metadata": {
    "collapsed": true
   },
   "outputs": [],
   "source": [
    "import plotting\n",
    "imp.reload(plotting)\n",
    "plotting.plot_measurement(bench.reference_benchmark_result)"
   ]
  },
  {
   "cell_type": "markdown",
   "metadata": {},
   "source": [
    "# Optimizing Drag"
   ]
  },
  {
   "cell_type": "code",
   "execution_count": null,
   "metadata": {
    "collapsed": true
   },
   "outputs": [],
   "source": [
    "num_interleved_pulses = 2\n",
    "alphas = np.linspace(-1e-8, 1e-8, 201)\n",
    "def set_drag (alpha):\n",
    "    ramsey_half = [pg.p('iq_ex', length_hd, pg.gauss_hd, amp_x_hd, 0, sigma_hd, alpha), \n",
    "                 pg.p(None, pause_length_hd)]\n",
    "    interleaved_identity = [pg.p('iq_ex', length_hd, pg.gauss_hd, -amp_x_hd, 0, sigma_hd, alpha), \n",
    "                           pg.p(None, pause_length_hd),\n",
    "                           pg.p('iq_ex', length_hd, pg.gauss_hd, amp_x_hd, 0, sigma_hd, alpha), \n",
    "                           pg.p(None, pause_length_hd)]\n",
    "    tomo.set_prepare_seq(ramsey_half+interleaved_identity*num_interleved_pulses+ramsey_half)\n",
    "    \n",
    "measurement = sweep.sweep(tomo, (alphas, set_drag, 'delta_freq'), filename='DRAG', output=False)"
   ]
  },
  {
   "cell_type": "markdown",
   "metadata": {},
   "source": [
    "### Randomized Benchmarking"
   ]
  },
  {
   "cell_type": "code",
   "execution_count": null,
   "metadata": {
    "collapsed": true
   },
   "outputs": [],
   "source": [
    "pause_pulse = tomography.pause(pause_length, awg_channels)\n",
    "pulses = {0:tomography.ex_gauss_hd(amp_x_hd, amp_y_hd, length_hd, sigma_hd, awg_channels, -200e6/np.pi),\n",
    "          1:tomography.ex_gauss_hd(amp_y_hd, -amp_x_hd, length_hd, sigma_hd, awg_channels, -200e6/np.pi),\n",
    "          2:tomography.ex_gauss_hd(-amp_x_hd, -amp_y_hd, length_hd, sigma_hd, awg_channels, -200e6/np.pi),\n",
    "          3:tomography.ex_gauss_hd(-amp_y_hd, amp_x_hd, length_hd, sigma_hd, awg_channels, -200e6/np.pi)}\n",
    "\n",
    "unitaries = {0:np.sqrt(0.5)*np.asarray([[1, -1j],  [-1j, 1]]),\\\n",
    "             1:np.sqrt(0.5)*np.asarray([[1, -1],    [1, 1]]),\\\n",
    "             2:np.sqrt(0.5)*np.asarray([[1, 1j],   [1j, 1]]),\\\n",
    "             3:np.sqrt(0.5)*np.asarray([[1, 1],   [-1, 1]])}\n",
    "\n",
    "observables = { 'X': 0.5*np.asarray([[0, 1],   [1, 0]]),\n",
    "                'Y': 0.5*np.asarray([[0, -1j],   [1j, 0]]),\n",
    "                '-X': 0.5*np.asarray([[0, -1],   [-1, 0]]),\n",
    "                '-Y': 0.5*np.asarray([[0, 1j],   [-1j, 0]]),\n",
    "                'Z': 0.5*np.asarray([[1, 0],   [0, -1]])}\n",
    "\n",
    "initial = np.asarray([0, 1]).T\n",
    "random_pulse_ids = np.arange(20)\n",
    "num_gates = np.linspace(0, 100, 11)\n",
    "\n",
    "sequences = []\n",
    "pulse_sequences = []\n",
    "theor_projs = {o:np.zeros((len(num_gates), len(random_pulse_ids))) for o in observables.keys()}\n",
    "rho_t = np.zeros((len(num_gates), len(random_pulse_ids),2,2), dtype=np.complex)\n",
    "psis = np.zeros((len(num_gates), len(random_pulse_ids),2), dtype=np.complex)\n",
    "n=0\n",
    "\n",
    "def set_num_gates(n_new):\n",
    "    global n\n",
    "    n = n_new\n",
    "\n",
    "def set_random_sequence(id):\n",
    "    sequence = np.random.randint (4, size = n).tolist()\n",
    "    sequence_pulses = [j for i in [[pulses[i], pause_pulse] for i in sequence] for j in i]\n",
    "    sequence_unitaries = [unitaries[i] for i in sequence]\n",
    "    psi = initial.copy()\n",
    "    \n",
    "    for U in sequence_unitaries:\n",
    "        psi = np.dot(U, psi)\n",
    "    \n",
    "    rho_t[n,id,:,:] = np.einsum('i,j->ij', np.conj(psi), psi)\n",
    "    psis[n,id,:] = psi\n",
    "    \n",
    "    sequences.append(sequence)\n",
    "    for o in observables.keys():\n",
    "        theor_projs[o][n,id] = np.dot(np.dot(np.conj(psi), observables[o]), psi)\n",
    "    \n",
    "    tomo_hd.set_prepare_seq(sequence_pulses)\n",
    "    pulse_sequences.append(sequence_pulses)\n",
    "    \n",
    "m = sweep.sweep(tomo_hd, (num_gates, set_num_gates, 'gate num'), (random_pulse_ids, set_random_sequence, 'random seq id'), filename='RB', output=False)\n",
    "X = (m['X'][2]-m['-X'][2])/2.\n",
    "Y = (m['Y'][2]-m['-Y'][2])/2.\n",
    "Z = m['Z'][2]\n",
    "rho_m = np.transpose([[0.5+Z, X+1j*Y], [X-1j*Y, 0.5-Z]], [2,3,0,1])\n",
    "fidelities = np.sqrt(np.einsum('nmi,nmji,nmj->nm', np.conj(psis), rho_m, psis))\n",
    "\n",
    "m['Fidelity'] = [d for d in m['X']]\n",
    "m['Fidelity'][2] = np.asarray(fidelities, dtype=np.float)\n",
    "for o,O in observables.items():\n",
    "    m[o+' fit'] = [d for d in m[o]]\n",
    "    m[o+' fit'][2] = np.asarray(theor_projs[o], dtype=np.float)\n",
    "#m['rho_t'] = m['X'].copy()\n",
    "save_pkl.save_pkl({'type':'Randomized benchmark Clifford'}, m)"
   ]
  },
  {
   "cell_type": "code",
   "execution_count": null,
   "metadata": {
    "collapsed": true
   },
   "outputs": [],
   "source": [
    "plt.plot(m['Fidelity'][1]m['Fidelity'])"
   ]
  },
  {
   "cell_type": "code",
   "execution_count": null,
   "metadata": {
    "collapsed": true
   },
   "outputs": [],
   "source": [
    "rho_m"
   ]
  },
  {
   "cell_type": "code",
   "execution_count": null,
   "metadata": {
    "collapsed": true
   },
   "outputs": [],
   "source": [
    "plt.plot(m['Fidelity'][1][0], np.mean(m['Fidelity'][2],axis=1))\n",
    "plt.xlabel('gate num')\n",
    "plt.ylabel('fidelity')\n",
    "plt.grid()"
   ]
  },
  {
   "cell_type": "code",
   "execution_count": null,
   "metadata": {
    "collapsed": true,
    "scrolled": true
   },
   "outputs": [],
   "source": [
    "rho_m = np.transpose([[0.5+Z, X+1j*Y], [X-1j*Y, 0.5-Z]], [2,3,0,1])\n",
    "fidelities = np.sqrt(np.einsum('mni,mnji,mnj->mn', np.conj(psis), rho_m, psis))\n",
    "\n",
    "m['Fidelity'] = [d for d in m['X']]\n",
    "m['Fidelity'][2] = np.asarray(fidelities, dtype=np.float)\n",
    "for o,O in observables.items():\n",
    "    m[o+' fit'] = [d for d in m[o]]\n",
    "    m[o+' fit'][2] = np.asarray(theor_projs[o], dtype=np.float)\n",
    "#m['rho_t'] = m['X'].copy()\n",
    "save_pkl.save_pkl({'type':'Randomized benchmark Clifford'}, m)"
   ]
  },
  {
   "cell_type": "code",
   "execution_count": null,
   "metadata": {
    "collapsed": true
   },
   "outputs": [],
   "source": [
    "m"
   ]
  },
  {
   "cell_type": "code",
   "execution_count": null,
   "metadata": {
    "collapsed": true
   },
   "outputs": [],
   "source": []
  },
  {
   "cell_type": "code",
   "execution_count": null,
   "metadata": {
    "collapsed": true
   },
   "outputs": [],
   "source": [
    "fidelities"
   ]
  },
  {
   "cell_type": "code",
   "execution_count": null,
   "metadata": {
    "collapsed": true
   },
   "outputs": [],
   "source": [
    "psis"
   ]
  },
  {
   "cell_type": "code",
   "execution_count": null,
   "metadata": {
    "collapsed": true
   },
   "outputs": [],
   "source": [
    "rho_m"
   ]
  },
  {
   "cell_type": "code",
   "execution_count": null,
   "metadata": {
    "collapsed": true
   },
   "outputs": [],
   "source": [
    "rho_t"
   ]
  },
  {
   "cell_type": "code",
   "execution_count": null,
   "metadata": {
    "collapsed": true
   },
   "outputs": [],
   "source": [
    "measurement['theory'] = thoer_proj\n",
    "save_pkl.save_pkl({'type':'Randomized benchmark Clifford'}, measurement)"
   ]
  },
  {
   "cell_type": "code",
   "execution_count": null,
   "metadata": {
    "collapsed": true
   },
   "outputs": [],
   "source": [
    "print(theor_projs)\n",
    "print(measurement)\n",
    "print(psis)\n",
    "print (sequences)\n",
    "print (rho_t)\n",
    "print (rho_m)"
   ]
  },
  {
   "cell_type": "code",
   "execution_count": null,
   "metadata": {
    "collapsed": true
   },
   "outputs": [],
   "source": [
    "np.dot(np.conj(psis[1]), np.dot(observables['Y'],psis[1]))"
   ]
  },
  {
   "cell_type": "code",
   "execution_count": null,
   "metadata": {
    "collapsed": true
   },
   "outputs": [],
   "source": [
    "num_pulses = np.round(np.arange(0, 41)).astype(np.int)\n",
    "\n",
    "def set_num_pulses(n):\n",
    "    tomoz.set_prepare_seq([tomography.ex_gauss(amp_x, length, sigma, awg_channels), \n",
    "                          tomography.pause(pause_length, awg_channels)]*n)\n",
    "\n",
    "measurement = sweep.sweep(tomoz, (num_pulses, set_num_pulses, 'SX pi2 pulse num'), filename='Rabi', output=False)"
   ]
  },
  {
   "cell_type": "code",
   "execution_count": null,
   "metadata": {
    "collapsed": true
   },
   "outputs": [],
   "source": [
    "num_pulses = np.round(np.arange(0, 21)).astype(np.int)\n",
    "\n",
    "def set_num_pulses(n):\n",
    "    tomo.set_prepare_seq([tomography.ex_gauss_hd(amp_x_hd, amp_y_hd, length_hd, sigma_hd, awg_channels, -200e6/np.pi), \n",
    "                          tomography.pause(pause_length, awg_channels)]*n)\n",
    "\n",
    "measurement = sweep.sweep(tomo, (num_pulses, set_num_pulses, 'SX pi2 pulse num'), filename='Rabi', output=False)"
   ]
  },
  {
   "cell_type": "code",
   "execution_count": null,
   "metadata": {
    "collapsed": true
   },
   "outputs": [],
   "source": [
    "num_pulses = np.round(np.arange(0, 21)).astype(np.int)\n",
    "\n",
    "def set_num_pulses(n):\n",
    "    tomo.set_prepare_seq([tomography.ex_gauss(amp_x_hd, length_hd, sigma_hd, awg_channels), \n",
    "                          tomography.pause(pause_length, awg_channels)]*n)\n",
    "\n",
    "measurement = sweep.sweep(tomo, (num_pulses, set_num_pulses, 'SX pi2 pulse num'), filename='Rabi', output=False)"
   ]
  },
  {
   "cell_type": "code",
   "execution_count": null,
   "metadata": {
    "collapsed": true
   },
   "outputs": [],
   "source": [
    "ex_amplitude=0.25\n",
    "lengths = np.linspace(0e-9, 200e-9, 51)\n",
    "readout_begin = np.max(lengths)\n",
    "\n",
    "def set_ex_length(length):\n",
    "    tomo.set_prepare_seq([tomography.ex_rect(ex_amplitude, length, awg_channels), tomography.pause(pause_length, awg_channels)])\n",
    "\n",
    "measurement = sweep.sweep(tomo, (lengths, set_ex_length, 'Rabi x-axis pulse length'), filename='Rabi', output=False)"
   ]
  },
  {
   "cell_type": "code",
   "execution_count": null,
   "metadata": {
    "collapsed": true
   },
   "outputs": [],
   "source": [
    "from mpl_toolkits.mplot3d import Axes3D\n",
    "fig = plt.figure()\n",
    "ax = fig.add_subplot(111, projection='3d')\n",
    "ax.plot(measurement ['X'][2], measurement ['Y'][2], measurement ['Z'][2], c='r', marker='o')\n",
    "ax.set_xlabel('X')\n",
    "ax.set_ylabel('Y')\n",
    "ax.set_zlabel('Z')\n",
    "ax.set_xlim([-0.6, 0.6])\n",
    "ax.set_ylim([-0.6, 0.6])\n",
    "ax.set_zlim([-0.6, 0.6])"
   ]
  },
  {
   "cell_type": "code",
   "execution_count": null,
   "metadata": {
    "collapsed": true
   },
   "outputs": [],
   "source": [
    "ex_amplitude = 0.25\n",
    "pause_length = 16e-9\n",
    "lengths = np.linspace(0e-9, 2000e-9, 2001)\n",
    "readout_begin = np.max(lengths)\n",
    "\n",
    "def set_ex_length(length):\n",
    "    tomo.set_prepare_seq([tomography.ex_rect(1j*ex_amplitude, length, awg_channels), tomography.pause(pause_length, awg_channels)])\n",
    "\n",
    "measurement = sweep.sweep(tomo, (lengths, set_ex_length, 'Rabi y-axis pulse length'), filename='Rabi', output=False)"
   ]
  },
  {
   "cell_type": "markdown",
   "metadata": {},
   "source": [
    "### Optimizing phase between x and y pulses"
   ]
  },
  {
   "cell_type": "code",
   "execution_count": null,
   "metadata": {
    "collapsed": true
   },
   "outputs": [],
   "source": [
    "c_phase = 0\n",
    "c_n = 0\n",
    "\n",
    "adc.set_software_averages(1)\n",
    "adc.set_software_nums_multi(3)\n",
    "\n",
    "def set_n(n):\n",
    "    global c_n\n",
    "    global c_phase\n",
    "    c_n = n \n",
    "    y_pulse = [tomography.ex_gauss_hd(amp_x_hd*np.exp(1j*c_phase), amp_y_hd*np.exp(1j*c_phase), length_hd, sigma_hd, awg_channels, -200e6), tomography.pause(pause_length, awg_channels)]\n",
    "    tomo.set_prepare_seq(y_pulse*c_n)\n",
    "\n",
    "def set_y_phase(phase):\n",
    "    global c_n\n",
    "    global c_phase\n",
    "    c_phase = phase\n",
    "    y_pulse = [tomography.ex_gauss_hd(amp_x_hd*np.exp(1j*c_phase), amp_y_hd*np.exp(1j*c_phase), length_hd, sigma_hd, awg_channels, -200e6), tomography.pause(pause_length, awg_channels)]\n",
    "    tomo.set_prepare_seq(y_pulse*c_n)\n",
    "\n",
    "phases = np.linspace(np.pi/2.*0.8, np.pi/2.*1.2, 11, endpoint=False)\n",
    "num_pulses = np.arange(0,5)\n",
    "measurement = sweep.sweep(tomo, (phases, set_y_phase, 'y-pulse phase'), (num_pulses, set_n, 'y pulse num'), filename='y-phase', output=False)"
   ]
  },
  {
   "cell_type": "code",
   "execution_count": null,
   "metadata": {
    "collapsed": true
   },
   "outputs": [],
   "source": [
    "phases[7]"
   ]
  },
  {
   "cell_type": "code",
   "execution_count": null,
   "metadata": {
    "collapsed": true
   },
   "outputs": [],
   "source": [
    "plt.plot(np.asarray(results).T)"
   ]
  },
  {
   "cell_type": "code",
   "execution_count": null,
   "metadata": {
    "collapsed": true
   },
   "outputs": [],
   "source": [
    "adc.stop()"
   ]
  },
  {
   "cell_type": "code",
   "execution_count": null,
   "metadata": {
    "collapsed": true
   },
   "outputs": [],
   "source": [
    "plt.close()"
   ]
  },
  {
   "cell_type": "markdown",
   "metadata": {
    "collapsed": true
   },
   "source": [
    "# load calibration data"
   ]
  },
  {
   "cell_type": "code",
   "execution_count": null,
   "metadata": {
    "collapsed": true
   },
   "outputs": [],
   "source": [
    "import pickle\n",
    "f0 = open('D:\\\\qtlab\\\\ReiData\\\\data\\\\2017-04-26\\\\13-11-46\\\\Voltage ro calibration.pkl', 'rb')\n",
    "f1 = open('D:\\\\qtlab\\\\ReiData\\\\data\\\\2017-04-26\\\\13-11-14\\\\Voltage ro calibration.pkl', 'rb')\n",
    "cal0 = pickle.load(f0)\n",
    "cal1 = pickle.load(f1)"
   ]
  },
  {
   "cell_type": "code",
   "execution_count": null,
   "metadata": {
    "collapsed": true
   },
   "outputs": [],
   "source": [
    "import numpy as np\n",
    "import matplotlib.pyplot as plt\n",
    "%matplotlib qt4\n",
    "cal0_nomean = cal0[1]['Voltage'][2][0,:,:]-np.mean(cal0[1]['Voltage'][2][0,:,:])\n",
    "cal1_nomean = cal0[1]['Voltage'][2][1,:,:]-np.mean(cal0[1]['Voltage'][2][1,:,:])\n",
    "\n",
    "cal0_mean = np.mean(cal0_nomean, axis=0)\n",
    "cal1_mean = np.mean(cal1_nomean, axis=0)"
   ]
  },
  {
   "cell_type": "code",
   "execution_count": null,
   "metadata": {
    "collapsed": true
   },
   "outputs": [],
   "source": [
    "cal_mean = (cal0_mean+cal1_mean)/2.\n",
    "cal_diff = (cal1_mean-cal0_mean)\n",
    "\n",
    "plt.figure('Samples')\n",
    "plt.plot(np.mean(cal0_nomean, axis=0), label='|0>')\n",
    "plt.plot(np.mean(cal1_nomean, axis=0), label='|1>')\n",
    "plt.legend()\n",
    "\n",
    "plt.figure('Offset & feature')\n",
    "plt.plot(cal_mean, label='mean')\n",
    "plt.plot(cal_diff, label='diff')\n",
    "plt.legend()"
   ]
  },
  {
   "cell_type": "code",
   "execution_count": null,
   "metadata": {
    "collapsed": true
   },
   "outputs": [],
   "source": [
    "plt.figure('Fourier domain')\n",
    "plt.plot(np.abs(np.fft.fft(cal0_mean)), label='|0>')\n",
    "plt.plot(np.abs(np.fft.fft(cal1_mean)), label='|1>') \n",
    "plt.plot(np.abs(np.fft.fft(cal_mean)), label='mean')\n",
    "plt.plot(np.abs(np.fft.fft(cal_diff)), label='diff')\n",
    "plt.legend()\n",
    "\n",
    "feature = np.conj(cal_diff/np.sum(np.abs(cal_diff**2)))"
   ]
  },
  {
   "cell_type": "code",
   "execution_count": null,
   "metadata": {
    "collapsed": true
   },
   "outputs": [],
   "source": [
    "coeffs0 = np.dot(cal0_nomean-cal_mean, feature)\n",
    "coeffs1 = np.dot(cal1_nomean-cal_mean, feature)\n",
    "predictions = np.asarray([np.real(coeffs0), np.real(coeffs1)])"
   ]
  },
  {
   "cell_type": "code",
   "execution_count": null,
   "metadata": {
    "collapsed": true
   },
   "outputs": [],
   "source": [
    "hist_all, bins = np.histogram(predictions, bins='auto')\n",
    "proba_points = (bins[1:]+bins[:-1])/2.\n",
    "hists = []\n",
    "for y in range(2):\n",
    "    hists.append(np.histogram(predictions[y,:], bins=bins)[0])\n",
    "\n",
    "hists = np.asarray(hists, dtype=float)\n",
    "probabilities = hists/hist_all\n",
    "naive_probabilities = np.asarray([proba_points<0, proba_points>0], dtype=float)\n",
    "probabilities[np.isnan(probabilities)] = naive_probabilities[np.isnan(probabilities)]\n",
    "predictor = lambda x: np.interp(x, proba_points, probabilities[1,:], left=0., right=1.)\n",
    "calib_proba_points = proba_points\n",
    "calib_proba = probabilities[1,:]\n",
    "calib_hists = hists"
   ]
  },
  {
   "cell_type": "code",
   "execution_count": null,
   "metadata": {
    "collapsed": true
   },
   "outputs": [],
   "source": [
    "from sklearn.metrics import roc_curve, roc_auc_score\n",
    "roc = roc_curve([0]*coeffs0.size+[1]*coeffs0.size, predictor(predictions.ravel()))\n",
    "roc_auc = roc_auc_score([0]*coeffs0.size+[1]*coeffs0.size, predictor(predictions.ravel()))"
   ]
  },
  {
   "cell_type": "code",
   "execution_count": null,
   "metadata": {
    "collapsed": true
   },
   "outputs": [],
   "source": [
    "plt.figure('ROC')\n",
    "plt.plot(roc[0], roc[1])\n",
    "plt.xlabel('True Positive Rate')\n",
    "plt.ylabel('True Negative Rate')\n",
    "roc_auc"
   ]
  },
  {
   "cell_type": "code",
   "execution_count": null,
   "metadata": {
    "collapsed": true
   },
   "outputs": [],
   "source": [
    "plt.figure('probability curve')\n",
    "plt.plot(calib_proba_points, calib_proba)"
   ]
  },
  {
   "cell_type": "code",
   "execution_count": null,
   "metadata": {
    "collapsed": true
   },
   "outputs": [],
   "source": [
    "plt.figure('Readout hists')\n",
    "plt.bar(proba_points-0.25, hists[0], width=0.05, label='|0>')\n",
    "plt.bar(proba_points+0.25, hists[1], width=0.05, label='|1>')\n",
    "plt.legend()"
   ]
  },
  {
   "cell_type": "code",
   "execution_count": null,
   "metadata": {
    "collapsed": true
   },
   "outputs": [],
   "source": [
    "plt.close()"
   ]
  },
  {
   "cell_type": "code",
   "execution_count": null,
   "metadata": {
    "collapsed": true
   },
   "outputs": [],
   "source": [
    "cal0_nomean.shape"
   ]
  },
  {
   "cell_type": "code",
   "execution_count": null,
   "metadata": {
    "collapsed": true
   },
   "outputs": [],
   "source": [
    "plt.figure(figsize=(12,3))\n",
    "plt.imshow(np.sum(np.real(np.reshape(cal0_nomean, (200, 100, 1024))), axis=0), cmap='RdBu')\n",
    "plt.figure(figsize=(12,3))\n",
    "plt.imshow(np.sum(np.real(np.reshape(cal1_nomean, (200, 100, 1024))), axis=0), cmap='RdBu')"
   ]
  },
  {
   "cell_type": "code",
   "execution_count": null,
   "metadata": {
    "collapsed": true
   },
   "outputs": [],
   "source": [
    "plt.plot(np.mean(cal0_nomean, axis=0))\n",
    "plt.plot(np.mean(cal1_nomean, axis=0))"
   ]
  },
  {
   "cell_type": "code",
   "execution_count": null,
   "metadata": {
    "collapsed": true
   },
   "outputs": [],
   "source": []
  }
 ],
 "metadata": {
  "kernelspec": {
   "display_name": "Python 3",
   "language": "python",
   "name": "python3"
  },
  "language_info": {
   "codemirror_mode": {
    "name": "ipython",
    "version": 3
   },
   "file_extension": ".py",
   "mimetype": "text/x-python",
   "name": "python",
   "nbconvert_exporter": "python",
   "pygments_lexer": "ipython3",
   "version": "3.6.5"
  },
  "toc": {
   "base_numbering": 1,
   "nav_menu": {},
   "number_sections": true,
   "sideBar": true,
   "skip_h1_title": false,
   "title_cell": "Table of Contents",
   "title_sidebar": "Contents",
   "toc_cell": false,
   "toc_position": {},
   "toc_section_display": true,
   "toc_window_display": true
  }
 },
 "nbformat": 4,
 "nbformat_minor": 1
}
