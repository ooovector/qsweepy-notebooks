{
 "cells": [
  {
   "cell_type": "markdown",
   "metadata": {},
   "source": [
    "### Запуск QtLab"
   ]
  },
  {
   "cell_type": "code",
   "execution_count": 1,
   "metadata": {
    "collapsed": true,
    "scrolled": true
   },
   "outputs": [],
   "source": [
    "%run D:\\qtlab_replacement\\init.py\n",
    "%matplotlib qt4\n",
    "import matplotlib.pyplot as plt\n",
    "from instruments import *\n",
    "import numpy as np\n",
    "import sweep\n",
    "from save_pkl import *"
   ]
  },
  {
   "cell_type": "code",
   "execution_count": 2,
   "metadata": {
    "collapsed": true
   },
   "outputs": [],
   "source": [
    "#Параметры кубитов.\n",
    "Qubits = {1: {'Fr': 4.242e9,'F01': 6.764e9, 'I0': 0.,'Ispan': 0.,'P': -40,'Pex': -2,'Span': 200e6},\n",
    "          2: {'Fr': 5.8075e9,'F01': 6.764e9, 'I0': 0.,'Ispan': 0.,'P': -40,'Pex': -2,'Span': 200e6},\n",
    "          3: {'Fr': 6.586e9,'F01': 6.764e9, 'I0': 0.,'Ispan': 0.,'P': -40,'Pex': -2,'Span': 200e6},\n",
    "          4: {'Fr': 7.5216e9,'F01': 6.764e9, 'I0': 0.,'Ispan': 0.,'P': -40,'Pex': -2,'Span': 200e6}}\n",
    "\n"
   ]
  },
  {
   "cell_type": "markdown",
   "metadata": {},
   "source": [
    "# Спектроскопия"
   ]
  },
  {
   "cell_type": "code",
   "execution_count": 3,
   "metadata": {
    "collapsed": true
   },
   "outputs": [],
   "source": [
    "pna = Agilent_N5242A('pna', address = 'PNA')\n",
    "lo1 = Agilent_E8257D('lo1', address = 'PSG1')"
   ]
  },
  {
   "cell_type": "code",
   "execution_count": 4,
   "metadata": {
    "collapsed": true
   },
   "outputs": [],
   "source": [
    "current_src = Yokogawa_GS210(address = 'GPIB::2::INSTR')"
   ]
  },
  {
   "cell_type": "code",
   "execution_count": 5,
   "metadata": {},
   "outputs": [
    {
     "data": {
      "text/plain": [
       "1"
      ]
     },
     "execution_count": 5,
     "metadata": {},
     "output_type": "execute_result"
    }
   ],
   "source": [
    "current_src.get_status()"
   ]
  },
  {
   "cell_type": "code",
   "execution_count": 6,
   "metadata": {
    "collapsed": true
   },
   "outputs": [],
   "source": [
    "# current_src2 = Yokogawa_GS210(address = 'GPIB::1::INSTR')"
   ]
  },
  {
   "cell_type": "code",
   "execution_count": 7,
   "metadata": {},
   "outputs": [
    {
     "data": {
      "text/plain": [
       "True"
      ]
     },
     "execution_count": 7,
     "metadata": {},
     "output_type": "execute_result"
    }
   ],
   "source": [
    "# векторный анализатор в режим линейного свипа\n",
    "pna.set_sweep_mode(\"LIN\")"
   ]
  },
  {
   "cell_type": "markdown",
   "metadata": {},
   "source": [
    "## Резонаторная спектроскопия"
   ]
  },
  {
   "cell_type": "code",
   "execution_count": null,
   "metadata": {
    "collapsed": true
   },
   "outputs": [],
   "source": [
    "pna.set_power(-45)\n",
    "pna.set_nop(1001)\n",
    "pna.set_xlim(7.7e9, 7.74e9)\n",
    "pna.set_bandwidth(100)\n",
    "freqs = pna.get_freqpoints()\n",
    "S21 = pna.get_tracedata()"
   ]
  },
  {
   "cell_type": "code",
   "execution_count": null,
   "metadata": {},
   "outputs": [],
   "source": [
    "# current_src.set_range(1e-1)"
   ]
  },
  {
   "cell_type": "code",
   "execution_count": null,
   "metadata": {},
   "outputs": [],
   "source": [
    "current_src.get_current()"
   ]
  },
  {
   "cell_type": "code",
   "execution_count": 69,
   "metadata": {},
   "outputs": [
    {
     "data": {
      "text/plain": [
       "5.6029999999999998"
      ]
     },
     "execution_count": 69,
     "metadata": {},
     "output_type": "execute_result"
    }
   ],
   "source": [
    "res_l = np.array([4.2302, 4.391, 4.528, 4.673, 4.822, 4.999, 5.150, 5.301, 5.450, 5.603, 5.807, 5.912, 6.055, 6.185, 6.226, 6.367, 6.514, 6.662, 6.694, 6.965, 7.124, 7.29, 7.405, 7.70, 8.4])\n",
    "res_l[9]"
   ]
  },
  {
   "cell_type": "code",
   "execution_count": 70,
   "metadata": {},
   "outputs": [],
   "source": [
    "res_r = np.array([4.2304, 4.3915, 4.532, 4.709, 4.858, 4.9995, 5.153, 5.304, 5.455, 5.607, 5.810, 5.916, 6.091, 6.195, 6.284, 6.371, 6.545, 6.703, 6.793, 6.970, 7.131,  7.295,7.436, 7.74, 8.42])"
   ]
  },
  {
   "cell_type": "code",
   "execution_count": 71,
   "metadata": {},
   "outputs": [
    {
     "data": {
      "text/plain": [
       "25"
      ]
     },
     "execution_count": 71,
     "metadata": {},
     "output_type": "execute_result"
    }
   ],
   "source": [
    "len(res_r)"
   ]
  },
  {
   "cell_type": "code",
   "execution_count": 92,
   "metadata": {
    "collapsed": true
   },
   "outputs": [],
   "source": [
    "i_res = 22\n",
    "current_max = 0.1e-3\n",
    "current_nops = 51\n",
    "freq_nops = 101\n",
    "power_level = -50"
   ]
  },
  {
   "cell_type": "code",
   "execution_count": 93,
   "metadata": {
    "scrolled": true
   },
   "outputs": [
    {
     "name": "stdout",
     "output_type": "stream",
     "text": [
      "Started at:  Oct 20 2017 15:19:55\n"
     ]
    },
    {
     "name": "stderr",
     "output_type": "stream",
     "text": [
      "c:\\python36\\lib\\site-packages\\matplotlib\\backend_bases.py:2445: MatplotlibDeprecationWarning: Using default event loop until function specific to this GUI is implemented\n",
      "  warnings.warn(str, mplDeprecation)\n"
     ]
    },
    {
     "name": "stdout",
     "output_type": "stream",
     "text": [
      "Time left: 0 h 0 m 20.02 s,\tparameter values: Coil current: 4.8e-05,\taverage cycle time:  1.5s\ts\t"
     ]
    },
    {
     "ename": "KeyboardInterrupt",
     "evalue": "",
     "output_type": "error",
     "traceback": [
      "\u001b[1;31m---------------------------------------------------------------------------\u001b[0m",
      "\u001b[1;31mKeyboardInterrupt\u001b[0m                         Traceback (most recent call last)",
      "\u001b[1;32m<ipython-input-93-8cfaefaa3afa>\u001b[0m in \u001b[0;36m<module>\u001b[1;34m()\u001b[0m\n\u001b[0;32m      7\u001b[0m \u001b[0mcurrent_src\u001b[0m\u001b[1;33m.\u001b[0m\u001b[0mset_status\u001b[0m\u001b[1;33m(\u001b[0m\u001b[1;36m1\u001b[0m\u001b[1;33m)\u001b[0m\u001b[1;33m\u001b[0m\u001b[0m\n\u001b[0;32m      8\u001b[0m \u001b[0mpna\u001b[0m\u001b[1;33m.\u001b[0m\u001b[0mset_xlim\u001b[0m\u001b[1;33m(\u001b[0m\u001b[0mres_l\u001b[0m\u001b[1;33m[\u001b[0m\u001b[0mi_res\u001b[0m\u001b[1;33m]\u001b[0m\u001b[1;33m*\u001b[0m\u001b[1;36m1e9\u001b[0m\u001b[1;33m,\u001b[0m \u001b[0mres_r\u001b[0m\u001b[1;33m[\u001b[0m\u001b[0mi_res\u001b[0m\u001b[1;33m]\u001b[0m\u001b[1;33m*\u001b[0m\u001b[1;36m1e9\u001b[0m\u001b[1;33m)\u001b[0m\u001b[1;33m\u001b[0m\u001b[0m\n\u001b[1;32m----> 9\u001b[1;33m \u001b[0mresult\u001b[0m \u001b[1;33m=\u001b[0m \u001b[0msweep\u001b[0m\u001b[1;33m.\u001b[0m\u001b[0msweep\u001b[0m\u001b[1;33m(\u001b[0m\u001b[0mpna\u001b[0m\u001b[1;33m,\u001b[0m \u001b[1;33m(\u001b[0m\u001b[0mcurrents\u001b[0m\u001b[1;33m,\u001b[0m \u001b[0mcurrent_src\u001b[0m\u001b[1;33m.\u001b[0m\u001b[0mset_current\u001b[0m\u001b[1;33m,\u001b[0m \u001b[1;34m'Coil current'\u001b[0m\u001b[1;33m)\u001b[0m\u001b[1;33m,\u001b[0m \u001b[0mfilename\u001b[0m\u001b[1;33m=\u001b[0m\u001b[1;34m'anticrossings Rev_6.5'\u001b[0m\u001b[1;33m)\u001b[0m\u001b[1;33m\u001b[0m\u001b[0m\n\u001b[0m",
      "\u001b[1;32mD:\\qtlab_replacement\\scripts\\sweep.py\u001b[0m in \u001b[0;36msweep\u001b[1;34m(measurer, filename, root_dir, plot, header, output, *params)\u001b[0m\n\u001b[0;32m    148\u001b[0m                         \u001b[1;32mif\u001b[0m \u001b[0mplot\u001b[0m\u001b[1;33m:\u001b[0m\u001b[1;33m\u001b[0m\u001b[0m\n\u001b[0;32m    149\u001b[0m                                 \u001b[1;32mif\u001b[0m \u001b[0mplot_update_start\u001b[0m \u001b[1;33m-\u001b[0m \u001b[0mlast_plot_update\u001b[0m \u001b[1;33m>\u001b[0m \u001b[1;36m10\u001b[0m\u001b[1;33m*\u001b[0m\u001b[0mplot_update_time\u001b[0m\u001b[1;33m:\u001b[0m\u001b[1;33m\u001b[0m\u001b[0m\n\u001b[1;32m--> 150\u001b[1;33m                                         \u001b[0mplotting\u001b[0m\u001b[1;33m.\u001b[0m\u001b[0mupdate_plot_measurement\u001b[0m\u001b[1;33m(\u001b[0m\u001b[0mmk_measurement\u001b[0m\u001b[1;33m(\u001b[0m\u001b[1;36m0\u001b[0m\u001b[1;33m)\u001b[0m\u001b[1;33m,\u001b[0m \u001b[0mplot_axes\u001b[0m\u001b[1;33m)\u001b[0m\u001b[1;33m\u001b[0m\u001b[0m\n\u001b[0m\u001b[0;32m    151\u001b[0m \t\t\t'''\n\u001b[0;32m    152\u001b[0m                                 \u001b[1;32mif\u001b[0m \u001b[0mplot_windows\u001b[0m\u001b[1;33m[\u001b[0m\u001b[0mmname\u001b[0m\u001b[1;33m]\u001b[0m\u001b[1;33m:\u001b[0m\u001b[1;33m\u001b[0m\u001b[0m\n",
      "\u001b[1;32mD:\\qtlab_replacement\\scripts\\plotting.py\u001b[0m in \u001b[0;36mupdate_plot_measurement\u001b[1;34m(measurement, axes)\u001b[0m\n\u001b[0;32m    109\u001b[0m                 \u001b[1;32mfor\u001b[0m \u001b[0mplot_name\u001b[0m\u001b[1;33m,\u001b[0m \u001b[0mplot\u001b[0m \u001b[1;32min\u001b[0m \u001b[0max\u001b[0m\u001b[1;33m[\u001b[0m\u001b[1;34m'plots'\u001b[0m\u001b[1;33m]\u001b[0m\u001b[1;33m.\u001b[0m\u001b[0mitems\u001b[0m\u001b[1;33m(\u001b[0m\u001b[1;33m)\u001b[0m\u001b[1;33m:\u001b[0m\u001b[1;33m\u001b[0m\u001b[0m\n\u001b[0;32m    110\u001b[0m                         \u001b[0mmeas\u001b[0m\u001b[1;33m[\u001b[0m\u001b[0mplot_name\u001b[0m\u001b[1;33m]\u001b[0m \u001b[1;33m=\u001b[0m \u001b[1;33m(\u001b[0m\u001b[0mmeasurement\u001b[0m\u001b[1;33m[\u001b[0m\u001b[0mplot\u001b[0m\u001b[1;33m[\u001b[0m\u001b[1;34m'mname'\u001b[0m\u001b[1;33m]\u001b[0m\u001b[1;33m]\u001b[0m\u001b[1;33m[\u001b[0m\u001b[1;36m0\u001b[0m\u001b[1;33m]\u001b[0m\u001b[1;33m,\u001b[0m \u001b[0mmeasurement\u001b[0m\u001b[1;33m[\u001b[0m\u001b[0mplot\u001b[0m\u001b[1;33m[\u001b[0m\u001b[1;34m'mname'\u001b[0m\u001b[1;33m]\u001b[0m\u001b[1;33m]\u001b[0m\u001b[1;33m[\u001b[0m\u001b[1;36m1\u001b[0m\u001b[1;33m]\u001b[0m\u001b[1;33m,\u001b[0m \u001b[0mplot\u001b[0m\u001b[1;33m[\u001b[0m\u001b[1;34m'filter'\u001b[0m\u001b[1;33m]\u001b[0m\u001b[1;33m(\u001b[0m\u001b[0mmeasurement\u001b[0m\u001b[1;33m[\u001b[0m\u001b[0mplot\u001b[0m\u001b[1;33m[\u001b[0m\u001b[1;34m'mname'\u001b[0m\u001b[1;33m]\u001b[0m\u001b[1;33m]\u001b[0m\u001b[1;33m[\u001b[0m\u001b[1;36m2\u001b[0m\u001b[1;33m]\u001b[0m\u001b[1;33m)\u001b[0m\u001b[1;33m)\u001b[0m\u001b[1;33m\u001b[0m\u001b[0m\n\u001b[1;32m--> 111\u001b[1;33m                 \u001b[0mplots\u001b[0m \u001b[1;33m=\u001b[0m \u001b[0mupdate_plot_measurement_sa\u001b[0m\u001b[1;33m(\u001b[0m\u001b[0mmeas\u001b[0m\u001b[1;33m,\u001b[0m \u001b[0max\u001b[0m\u001b[1;33m)\u001b[0m\u001b[1;33m\u001b[0m\u001b[0m\n\u001b[0m\u001b[0;32m    112\u001b[0m \u001b[1;33m\u001b[0m\u001b[0m\n\u001b[0;32m    113\u001b[0m \u001b[1;31m# Plots all data on a single axis with given annotations.\u001b[0m\u001b[1;33m\u001b[0m\u001b[1;33m\u001b[0m\u001b[0m\n",
      "\u001b[1;32mD:\\qtlab_replacement\\scripts\\plotting.py\u001b[0m in \u001b[0;36mupdate_plot_measurement_sa\u001b[1;34m(measurement, plots)\u001b[0m\n\u001b[0;32m    193\u001b[0m                         \u001b[0mplt\u001b[0m\u001b[1;33m.\u001b[0m\u001b[0mclim\u001b[0m\u001b[1;33m(\u001b[0m\u001b[0mnp\u001b[0m\u001b[1;33m.\u001b[0m\u001b[0mnanmin\u001b[0m\u001b[1;33m(\u001b[0m\u001b[0mdata\u001b[0m\u001b[1;33m)\u001b[0m\u001b[1;33m,\u001b[0m \u001b[0mnp\u001b[0m\u001b[1;33m.\u001b[0m\u001b[0mnanmax\u001b[0m\u001b[1;33m(\u001b[0m\u001b[0mdata\u001b[0m\u001b[1;33m)\u001b[0m\u001b[1;33m)\u001b[0m\u001b[1;33m\u001b[0m\u001b[0m\n\u001b[0;32m    194\u001b[0m                 \u001b[0mplt\u001b[0m\u001b[1;33m.\u001b[0m\u001b[0mdraw\u001b[0m\u001b[1;33m(\u001b[0m\u001b[1;33m)\u001b[0m\u001b[1;33m\u001b[0m\u001b[0m\n\u001b[1;32m--> 195\u001b[1;33m         \u001b[0mplt\u001b[0m\u001b[1;33m.\u001b[0m\u001b[0mpause\u001b[0m\u001b[1;33m(\u001b[0m\u001b[1;36m0.05\u001b[0m\u001b[1;33m)\u001b[0m\u001b[1;33m\u001b[0m\u001b[0m\n\u001b[0m",
      "\u001b[1;32mc:\\python36\\lib\\site-packages\\matplotlib\\pyplot.py\u001b[0m in \u001b[0;36mpause\u001b[1;34m(interval)\u001b[0m\n\u001b[0;32m    296\u001b[0m             \u001b[0mcanvas\u001b[0m \u001b[1;33m=\u001b[0m \u001b[0mfigManager\u001b[0m\u001b[1;33m.\u001b[0m\u001b[0mcanvas\u001b[0m\u001b[1;33m\u001b[0m\u001b[0m\n\u001b[0;32m    297\u001b[0m             \u001b[1;32mif\u001b[0m \u001b[0mcanvas\u001b[0m\u001b[1;33m.\u001b[0m\u001b[0mfigure\u001b[0m\u001b[1;33m.\u001b[0m\u001b[0mstale\u001b[0m\u001b[1;33m:\u001b[0m\u001b[1;33m\u001b[0m\u001b[0m\n\u001b[1;32m--> 298\u001b[1;33m                 \u001b[0mcanvas\u001b[0m\u001b[1;33m.\u001b[0m\u001b[0mdraw\u001b[0m\u001b[1;33m(\u001b[0m\u001b[1;33m)\u001b[0m\u001b[1;33m\u001b[0m\u001b[0m\n\u001b[0m\u001b[0;32m    299\u001b[0m             \u001b[0mshow\u001b[0m\u001b[1;33m(\u001b[0m\u001b[0mblock\u001b[0m\u001b[1;33m=\u001b[0m\u001b[1;32mFalse\u001b[0m\u001b[1;33m)\u001b[0m\u001b[1;33m\u001b[0m\u001b[0m\n\u001b[0;32m    300\u001b[0m             \u001b[0mcanvas\u001b[0m\u001b[1;33m.\u001b[0m\u001b[0mstart_event_loop\u001b[0m\u001b[1;33m(\u001b[0m\u001b[0minterval\u001b[0m\u001b[1;33m)\u001b[0m\u001b[1;33m\u001b[0m\u001b[0m\n",
      "\u001b[1;32mc:\\python36\\lib\\site-packages\\matplotlib\\backends\\backend_qt5agg.py\u001b[0m in \u001b[0;36mdraw\u001b[1;34m(self)\u001b[0m\n\u001b[0;32m    174\u001b[0m         \u001b[1;31m# The Agg draw is done here; delaying causes problems with code that\u001b[0m\u001b[1;33m\u001b[0m\u001b[1;33m\u001b[0m\u001b[0m\n\u001b[0;32m    175\u001b[0m         \u001b[1;31m# uses the result of the draw() to update plot elements.\u001b[0m\u001b[1;33m\u001b[0m\u001b[1;33m\u001b[0m\u001b[0m\n\u001b[1;32m--> 176\u001b[1;33m         \u001b[0mFigureCanvasAgg\u001b[0m\u001b[1;33m.\u001b[0m\u001b[0mdraw\u001b[0m\u001b[1;33m(\u001b[0m\u001b[0mself\u001b[0m\u001b[1;33m)\u001b[0m\u001b[1;33m\u001b[0m\u001b[0m\n\u001b[0m\u001b[0;32m    177\u001b[0m         \u001b[0mself\u001b[0m\u001b[1;33m.\u001b[0m\u001b[0mupdate\u001b[0m\u001b[1;33m(\u001b[0m\u001b[1;33m)\u001b[0m\u001b[1;33m\u001b[0m\u001b[0m\n\u001b[0;32m    178\u001b[0m \u001b[1;33m\u001b[0m\u001b[0m\n",
      "\u001b[1;32mc:\\python36\\lib\\site-packages\\matplotlib\\backends\\backend_agg.py\u001b[0m in \u001b[0;36mdraw\u001b[1;34m(self)\u001b[0m\n\u001b[0;32m    462\u001b[0m \u001b[1;33m\u001b[0m\u001b[0m\n\u001b[0;32m    463\u001b[0m         \u001b[1;32mtry\u001b[0m\u001b[1;33m:\u001b[0m\u001b[1;33m\u001b[0m\u001b[0m\n\u001b[1;32m--> 464\u001b[1;33m             \u001b[0mself\u001b[0m\u001b[1;33m.\u001b[0m\u001b[0mfigure\u001b[0m\u001b[1;33m.\u001b[0m\u001b[0mdraw\u001b[0m\u001b[1;33m(\u001b[0m\u001b[0mself\u001b[0m\u001b[1;33m.\u001b[0m\u001b[0mrenderer\u001b[0m\u001b[1;33m)\u001b[0m\u001b[1;33m\u001b[0m\u001b[0m\n\u001b[0m\u001b[0;32m    465\u001b[0m         \u001b[1;32mfinally\u001b[0m\u001b[1;33m:\u001b[0m\u001b[1;33m\u001b[0m\u001b[0m\n\u001b[0;32m    466\u001b[0m             \u001b[0mRendererAgg\u001b[0m\u001b[1;33m.\u001b[0m\u001b[0mlock\u001b[0m\u001b[1;33m.\u001b[0m\u001b[0mrelease\u001b[0m\u001b[1;33m(\u001b[0m\u001b[1;33m)\u001b[0m\u001b[1;33m\u001b[0m\u001b[0m\n",
      "\u001b[1;32mc:\\python36\\lib\\site-packages\\matplotlib\\artist.py\u001b[0m in \u001b[0;36mdraw_wrapper\u001b[1;34m(artist, renderer, *args, **kwargs)\u001b[0m\n\u001b[0;32m     61\u001b[0m     \u001b[1;32mdef\u001b[0m \u001b[0mdraw_wrapper\u001b[0m\u001b[1;33m(\u001b[0m\u001b[0martist\u001b[0m\u001b[1;33m,\u001b[0m \u001b[0mrenderer\u001b[0m\u001b[1;33m,\u001b[0m \u001b[1;33m*\u001b[0m\u001b[0margs\u001b[0m\u001b[1;33m,\u001b[0m \u001b[1;33m**\u001b[0m\u001b[0mkwargs\u001b[0m\u001b[1;33m)\u001b[0m\u001b[1;33m:\u001b[0m\u001b[1;33m\u001b[0m\u001b[0m\n\u001b[0;32m     62\u001b[0m         \u001b[0mbefore\u001b[0m\u001b[1;33m(\u001b[0m\u001b[0martist\u001b[0m\u001b[1;33m,\u001b[0m \u001b[0mrenderer\u001b[0m\u001b[1;33m)\u001b[0m\u001b[1;33m\u001b[0m\u001b[0m\n\u001b[1;32m---> 63\u001b[1;33m         \u001b[0mdraw\u001b[0m\u001b[1;33m(\u001b[0m\u001b[0martist\u001b[0m\u001b[1;33m,\u001b[0m \u001b[0mrenderer\u001b[0m\u001b[1;33m,\u001b[0m \u001b[1;33m*\u001b[0m\u001b[0margs\u001b[0m\u001b[1;33m,\u001b[0m \u001b[1;33m**\u001b[0m\u001b[0mkwargs\u001b[0m\u001b[1;33m)\u001b[0m\u001b[1;33m\u001b[0m\u001b[0m\n\u001b[0m\u001b[0;32m     64\u001b[0m         \u001b[0mafter\u001b[0m\u001b[1;33m(\u001b[0m\u001b[0martist\u001b[0m\u001b[1;33m,\u001b[0m \u001b[0mrenderer\u001b[0m\u001b[1;33m)\u001b[0m\u001b[1;33m\u001b[0m\u001b[0m\n\u001b[0;32m     65\u001b[0m \u001b[1;33m\u001b[0m\u001b[0m\n",
      "\u001b[1;32mc:\\python36\\lib\\site-packages\\matplotlib\\figure.py\u001b[0m in \u001b[0;36mdraw\u001b[1;34m(self, renderer)\u001b[0m\n\u001b[0;32m   1141\u001b[0m \u001b[1;33m\u001b[0m\u001b[0m\n\u001b[0;32m   1142\u001b[0m             mimage._draw_list_compositing_images(\n\u001b[1;32m-> 1143\u001b[1;33m                 renderer, self, dsu, self.suppressComposite)\n\u001b[0m\u001b[0;32m   1144\u001b[0m \u001b[1;33m\u001b[0m\u001b[0m\n\u001b[0;32m   1145\u001b[0m             \u001b[0mrenderer\u001b[0m\u001b[1;33m.\u001b[0m\u001b[0mclose_group\u001b[0m\u001b[1;33m(\u001b[0m\u001b[1;34m'figure'\u001b[0m\u001b[1;33m)\u001b[0m\u001b[1;33m\u001b[0m\u001b[0m\n",
      "\u001b[1;32mc:\\python36\\lib\\site-packages\\matplotlib\\image.py\u001b[0m in \u001b[0;36m_draw_list_compositing_images\u001b[1;34m(renderer, parent, dsu, suppress_composite)\u001b[0m\n\u001b[0;32m    137\u001b[0m     \u001b[1;32mif\u001b[0m \u001b[0mnot_composite\u001b[0m \u001b[1;32mor\u001b[0m \u001b[1;32mnot\u001b[0m \u001b[0mhas_images\u001b[0m\u001b[1;33m:\u001b[0m\u001b[1;33m\u001b[0m\u001b[0m\n\u001b[0;32m    138\u001b[0m         \u001b[1;32mfor\u001b[0m \u001b[0mzorder\u001b[0m\u001b[1;33m,\u001b[0m \u001b[0ma\u001b[0m \u001b[1;32min\u001b[0m \u001b[0mdsu\u001b[0m\u001b[1;33m:\u001b[0m\u001b[1;33m\u001b[0m\u001b[0m\n\u001b[1;32m--> 139\u001b[1;33m             \u001b[0ma\u001b[0m\u001b[1;33m.\u001b[0m\u001b[0mdraw\u001b[0m\u001b[1;33m(\u001b[0m\u001b[0mrenderer\u001b[0m\u001b[1;33m)\u001b[0m\u001b[1;33m\u001b[0m\u001b[0m\n\u001b[0m\u001b[0;32m    140\u001b[0m     \u001b[1;32melse\u001b[0m\u001b[1;33m:\u001b[0m\u001b[1;33m\u001b[0m\u001b[0m\n\u001b[0;32m    141\u001b[0m         \u001b[1;31m# Composite any adjacent images together\u001b[0m\u001b[1;33m\u001b[0m\u001b[1;33m\u001b[0m\u001b[0m\n",
      "\u001b[1;32mc:\\python36\\lib\\site-packages\\matplotlib\\artist.py\u001b[0m in \u001b[0;36mdraw_wrapper\u001b[1;34m(artist, renderer, *args, **kwargs)\u001b[0m\n\u001b[0;32m     61\u001b[0m     \u001b[1;32mdef\u001b[0m \u001b[0mdraw_wrapper\u001b[0m\u001b[1;33m(\u001b[0m\u001b[0martist\u001b[0m\u001b[1;33m,\u001b[0m \u001b[0mrenderer\u001b[0m\u001b[1;33m,\u001b[0m \u001b[1;33m*\u001b[0m\u001b[0margs\u001b[0m\u001b[1;33m,\u001b[0m \u001b[1;33m**\u001b[0m\u001b[0mkwargs\u001b[0m\u001b[1;33m)\u001b[0m\u001b[1;33m:\u001b[0m\u001b[1;33m\u001b[0m\u001b[0m\n\u001b[0;32m     62\u001b[0m         \u001b[0mbefore\u001b[0m\u001b[1;33m(\u001b[0m\u001b[0martist\u001b[0m\u001b[1;33m,\u001b[0m \u001b[0mrenderer\u001b[0m\u001b[1;33m)\u001b[0m\u001b[1;33m\u001b[0m\u001b[0m\n\u001b[1;32m---> 63\u001b[1;33m         \u001b[0mdraw\u001b[0m\u001b[1;33m(\u001b[0m\u001b[0martist\u001b[0m\u001b[1;33m,\u001b[0m \u001b[0mrenderer\u001b[0m\u001b[1;33m,\u001b[0m \u001b[1;33m*\u001b[0m\u001b[0margs\u001b[0m\u001b[1;33m,\u001b[0m \u001b[1;33m**\u001b[0m\u001b[0mkwargs\u001b[0m\u001b[1;33m)\u001b[0m\u001b[1;33m\u001b[0m\u001b[0m\n\u001b[0m\u001b[0;32m     64\u001b[0m         \u001b[0mafter\u001b[0m\u001b[1;33m(\u001b[0m\u001b[0martist\u001b[0m\u001b[1;33m,\u001b[0m \u001b[0mrenderer\u001b[0m\u001b[1;33m)\u001b[0m\u001b[1;33m\u001b[0m\u001b[0m\n\u001b[0;32m     65\u001b[0m \u001b[1;33m\u001b[0m\u001b[0m\n",
      "\u001b[1;32mc:\\python36\\lib\\site-packages\\matplotlib\\axes\\_base.py\u001b[0m in \u001b[0;36mdraw\u001b[1;34m(self, renderer, inframe)\u001b[0m\n\u001b[0;32m   2407\u001b[0m             \u001b[0mrenderer\u001b[0m\u001b[1;33m.\u001b[0m\u001b[0mstop_rasterizing\u001b[0m\u001b[1;33m(\u001b[0m\u001b[1;33m)\u001b[0m\u001b[1;33m\u001b[0m\u001b[0m\n\u001b[0;32m   2408\u001b[0m \u001b[1;33m\u001b[0m\u001b[0m\n\u001b[1;32m-> 2409\u001b[1;33m         \u001b[0mmimage\u001b[0m\u001b[1;33m.\u001b[0m\u001b[0m_draw_list_compositing_images\u001b[0m\u001b[1;33m(\u001b[0m\u001b[0mrenderer\u001b[0m\u001b[1;33m,\u001b[0m \u001b[0mself\u001b[0m\u001b[1;33m,\u001b[0m \u001b[0mdsu\u001b[0m\u001b[1;33m)\u001b[0m\u001b[1;33m\u001b[0m\u001b[0m\n\u001b[0m\u001b[0;32m   2410\u001b[0m \u001b[1;33m\u001b[0m\u001b[0m\n\u001b[0;32m   2411\u001b[0m         \u001b[0mrenderer\u001b[0m\u001b[1;33m.\u001b[0m\u001b[0mclose_group\u001b[0m\u001b[1;33m(\u001b[0m\u001b[1;34m'axes'\u001b[0m\u001b[1;33m)\u001b[0m\u001b[1;33m\u001b[0m\u001b[0m\n",
      "\u001b[1;32mc:\\python36\\lib\\site-packages\\matplotlib\\image.py\u001b[0m in \u001b[0;36m_draw_list_compositing_images\u001b[1;34m(renderer, parent, dsu, suppress_composite)\u001b[0m\n\u001b[0;32m    137\u001b[0m     \u001b[1;32mif\u001b[0m \u001b[0mnot_composite\u001b[0m \u001b[1;32mor\u001b[0m \u001b[1;32mnot\u001b[0m \u001b[0mhas_images\u001b[0m\u001b[1;33m:\u001b[0m\u001b[1;33m\u001b[0m\u001b[0m\n\u001b[0;32m    138\u001b[0m         \u001b[1;32mfor\u001b[0m \u001b[0mzorder\u001b[0m\u001b[1;33m,\u001b[0m \u001b[0ma\u001b[0m \u001b[1;32min\u001b[0m \u001b[0mdsu\u001b[0m\u001b[1;33m:\u001b[0m\u001b[1;33m\u001b[0m\u001b[0m\n\u001b[1;32m--> 139\u001b[1;33m             \u001b[0ma\u001b[0m\u001b[1;33m.\u001b[0m\u001b[0mdraw\u001b[0m\u001b[1;33m(\u001b[0m\u001b[0mrenderer\u001b[0m\u001b[1;33m)\u001b[0m\u001b[1;33m\u001b[0m\u001b[0m\n\u001b[0m\u001b[0;32m    140\u001b[0m     \u001b[1;32melse\u001b[0m\u001b[1;33m:\u001b[0m\u001b[1;33m\u001b[0m\u001b[0m\n\u001b[0;32m    141\u001b[0m         \u001b[1;31m# Composite any adjacent images together\u001b[0m\u001b[1;33m\u001b[0m\u001b[1;33m\u001b[0m\u001b[0m\n",
      "\u001b[1;32mc:\\python36\\lib\\site-packages\\matplotlib\\artist.py\u001b[0m in \u001b[0;36mdraw_wrapper\u001b[1;34m(artist, renderer, *args, **kwargs)\u001b[0m\n\u001b[0;32m     61\u001b[0m     \u001b[1;32mdef\u001b[0m \u001b[0mdraw_wrapper\u001b[0m\u001b[1;33m(\u001b[0m\u001b[0martist\u001b[0m\u001b[1;33m,\u001b[0m \u001b[0mrenderer\u001b[0m\u001b[1;33m,\u001b[0m \u001b[1;33m*\u001b[0m\u001b[0margs\u001b[0m\u001b[1;33m,\u001b[0m \u001b[1;33m**\u001b[0m\u001b[0mkwargs\u001b[0m\u001b[1;33m)\u001b[0m\u001b[1;33m:\u001b[0m\u001b[1;33m\u001b[0m\u001b[0m\n\u001b[0;32m     62\u001b[0m         \u001b[0mbefore\u001b[0m\u001b[1;33m(\u001b[0m\u001b[0martist\u001b[0m\u001b[1;33m,\u001b[0m \u001b[0mrenderer\u001b[0m\u001b[1;33m)\u001b[0m\u001b[1;33m\u001b[0m\u001b[0m\n\u001b[1;32m---> 63\u001b[1;33m         \u001b[0mdraw\u001b[0m\u001b[1;33m(\u001b[0m\u001b[0martist\u001b[0m\u001b[1;33m,\u001b[0m \u001b[0mrenderer\u001b[0m\u001b[1;33m,\u001b[0m \u001b[1;33m*\u001b[0m\u001b[0margs\u001b[0m\u001b[1;33m,\u001b[0m \u001b[1;33m**\u001b[0m\u001b[0mkwargs\u001b[0m\u001b[1;33m)\u001b[0m\u001b[1;33m\u001b[0m\u001b[0m\n\u001b[0m\u001b[0;32m     64\u001b[0m         \u001b[0mafter\u001b[0m\u001b[1;33m(\u001b[0m\u001b[0martist\u001b[0m\u001b[1;33m,\u001b[0m \u001b[0mrenderer\u001b[0m\u001b[1;33m)\u001b[0m\u001b[1;33m\u001b[0m\u001b[0m\n\u001b[0;32m     65\u001b[0m \u001b[1;33m\u001b[0m\u001b[0m\n",
      "\u001b[1;32mc:\\python36\\lib\\site-packages\\matplotlib\\axis.py\u001b[0m in \u001b[0;36mdraw\u001b[1;34m(self, renderer, *args, **kwargs)\u001b[0m\n\u001b[0;32m   1139\u001b[0m \u001b[1;33m\u001b[0m\u001b[0m\n\u001b[0;32m   1140\u001b[0m         \u001b[1;32mfor\u001b[0m \u001b[0mtick\u001b[0m \u001b[1;32min\u001b[0m \u001b[0mticks_to_draw\u001b[0m\u001b[1;33m:\u001b[0m\u001b[1;33m\u001b[0m\u001b[0m\n\u001b[1;32m-> 1141\u001b[1;33m             \u001b[0mtick\u001b[0m\u001b[1;33m.\u001b[0m\u001b[0mdraw\u001b[0m\u001b[1;33m(\u001b[0m\u001b[0mrenderer\u001b[0m\u001b[1;33m)\u001b[0m\u001b[1;33m\u001b[0m\u001b[0m\n\u001b[0m\u001b[0;32m   1142\u001b[0m \u001b[1;33m\u001b[0m\u001b[0m\n\u001b[0;32m   1143\u001b[0m         \u001b[1;31m# scale up the axis label box to also find the neighbors, not\u001b[0m\u001b[1;33m\u001b[0m\u001b[1;33m\u001b[0m\u001b[0m\n",
      "\u001b[1;32mc:\\python36\\lib\\site-packages\\matplotlib\\artist.py\u001b[0m in \u001b[0;36mdraw_wrapper\u001b[1;34m(artist, renderer, *args, **kwargs)\u001b[0m\n\u001b[0;32m     61\u001b[0m     \u001b[1;32mdef\u001b[0m \u001b[0mdraw_wrapper\u001b[0m\u001b[1;33m(\u001b[0m\u001b[0martist\u001b[0m\u001b[1;33m,\u001b[0m \u001b[0mrenderer\u001b[0m\u001b[1;33m,\u001b[0m \u001b[1;33m*\u001b[0m\u001b[0margs\u001b[0m\u001b[1;33m,\u001b[0m \u001b[1;33m**\u001b[0m\u001b[0mkwargs\u001b[0m\u001b[1;33m)\u001b[0m\u001b[1;33m:\u001b[0m\u001b[1;33m\u001b[0m\u001b[0m\n\u001b[0;32m     62\u001b[0m         \u001b[0mbefore\u001b[0m\u001b[1;33m(\u001b[0m\u001b[0martist\u001b[0m\u001b[1;33m,\u001b[0m \u001b[0mrenderer\u001b[0m\u001b[1;33m)\u001b[0m\u001b[1;33m\u001b[0m\u001b[0m\n\u001b[1;32m---> 63\u001b[1;33m         \u001b[0mdraw\u001b[0m\u001b[1;33m(\u001b[0m\u001b[0martist\u001b[0m\u001b[1;33m,\u001b[0m \u001b[0mrenderer\u001b[0m\u001b[1;33m,\u001b[0m \u001b[1;33m*\u001b[0m\u001b[0margs\u001b[0m\u001b[1;33m,\u001b[0m \u001b[1;33m**\u001b[0m\u001b[0mkwargs\u001b[0m\u001b[1;33m)\u001b[0m\u001b[1;33m\u001b[0m\u001b[0m\n\u001b[0m\u001b[0;32m     64\u001b[0m         \u001b[0mafter\u001b[0m\u001b[1;33m(\u001b[0m\u001b[0martist\u001b[0m\u001b[1;33m,\u001b[0m \u001b[0mrenderer\u001b[0m\u001b[1;33m)\u001b[0m\u001b[1;33m\u001b[0m\u001b[0m\n\u001b[0;32m     65\u001b[0m \u001b[1;33m\u001b[0m\u001b[0m\n",
      "\u001b[1;32mc:\\python36\\lib\\site-packages\\matplotlib\\axis.py\u001b[0m in \u001b[0;36mdraw\u001b[1;34m(self, renderer)\u001b[0m\n\u001b[0;32m    257\u001b[0m             \u001b[0mself\u001b[0m\u001b[1;33m.\u001b[0m\u001b[0mgridline\u001b[0m\u001b[1;33m.\u001b[0m\u001b[0mdraw\u001b[0m\u001b[1;33m(\u001b[0m\u001b[0mrenderer\u001b[0m\u001b[1;33m)\u001b[0m\u001b[1;33m\u001b[0m\u001b[0m\n\u001b[0;32m    258\u001b[0m         \u001b[1;32mif\u001b[0m \u001b[0mself\u001b[0m\u001b[1;33m.\u001b[0m\u001b[0mtick1On\u001b[0m\u001b[1;33m:\u001b[0m\u001b[1;33m\u001b[0m\u001b[0m\n\u001b[1;32m--> 259\u001b[1;33m             \u001b[0mself\u001b[0m\u001b[1;33m.\u001b[0m\u001b[0mtick1line\u001b[0m\u001b[1;33m.\u001b[0m\u001b[0mdraw\u001b[0m\u001b[1;33m(\u001b[0m\u001b[0mrenderer\u001b[0m\u001b[1;33m)\u001b[0m\u001b[1;33m\u001b[0m\u001b[0m\n\u001b[0m\u001b[0;32m    260\u001b[0m         \u001b[1;32mif\u001b[0m \u001b[0mself\u001b[0m\u001b[1;33m.\u001b[0m\u001b[0mtick2On\u001b[0m\u001b[1;33m:\u001b[0m\u001b[1;33m\u001b[0m\u001b[0m\n\u001b[0;32m    261\u001b[0m             \u001b[0mself\u001b[0m\u001b[1;33m.\u001b[0m\u001b[0mtick2line\u001b[0m\u001b[1;33m.\u001b[0m\u001b[0mdraw\u001b[0m\u001b[1;33m(\u001b[0m\u001b[0mrenderer\u001b[0m\u001b[1;33m)\u001b[0m\u001b[1;33m\u001b[0m\u001b[0m\n",
      "\u001b[1;32mc:\\python36\\lib\\site-packages\\matplotlib\\artist.py\u001b[0m in \u001b[0;36mdraw_wrapper\u001b[1;34m(artist, renderer, *args, **kwargs)\u001b[0m\n\u001b[0;32m     61\u001b[0m     \u001b[1;32mdef\u001b[0m \u001b[0mdraw_wrapper\u001b[0m\u001b[1;33m(\u001b[0m\u001b[0martist\u001b[0m\u001b[1;33m,\u001b[0m \u001b[0mrenderer\u001b[0m\u001b[1;33m,\u001b[0m \u001b[1;33m*\u001b[0m\u001b[0margs\u001b[0m\u001b[1;33m,\u001b[0m \u001b[1;33m**\u001b[0m\u001b[0mkwargs\u001b[0m\u001b[1;33m)\u001b[0m\u001b[1;33m:\u001b[0m\u001b[1;33m\u001b[0m\u001b[0m\n\u001b[0;32m     62\u001b[0m         \u001b[0mbefore\u001b[0m\u001b[1;33m(\u001b[0m\u001b[0martist\u001b[0m\u001b[1;33m,\u001b[0m \u001b[0mrenderer\u001b[0m\u001b[1;33m)\u001b[0m\u001b[1;33m\u001b[0m\u001b[0m\n\u001b[1;32m---> 63\u001b[1;33m         \u001b[0mdraw\u001b[0m\u001b[1;33m(\u001b[0m\u001b[0martist\u001b[0m\u001b[1;33m,\u001b[0m \u001b[0mrenderer\u001b[0m\u001b[1;33m,\u001b[0m \u001b[1;33m*\u001b[0m\u001b[0margs\u001b[0m\u001b[1;33m,\u001b[0m \u001b[1;33m**\u001b[0m\u001b[0mkwargs\u001b[0m\u001b[1;33m)\u001b[0m\u001b[1;33m\u001b[0m\u001b[0m\n\u001b[0m\u001b[0;32m     64\u001b[0m         \u001b[0mafter\u001b[0m\u001b[1;33m(\u001b[0m\u001b[0martist\u001b[0m\u001b[1;33m,\u001b[0m \u001b[0mrenderer\u001b[0m\u001b[1;33m)\u001b[0m\u001b[1;33m\u001b[0m\u001b[0m\n\u001b[0;32m     65\u001b[0m \u001b[1;33m\u001b[0m\u001b[0m\n",
      "\u001b[1;32mc:\\python36\\lib\\site-packages\\matplotlib\\lines.py\u001b[0m in \u001b[0;36mdraw\u001b[1;34m(self, renderer)\u001b[0m\n\u001b[0;32m    864\u001b[0m                 \u001b[1;32mif\u001b[0m \u001b[0mmarker\u001b[0m\u001b[1;33m.\u001b[0m\u001b[0mget_marker\u001b[0m\u001b[1;33m(\u001b[0m\u001b[1;33m)\u001b[0m \u001b[1;33m!=\u001b[0m \u001b[1;34m','\u001b[0m\u001b[1;33m:\u001b[0m\u001b[1;33m\u001b[0m\u001b[0m\n\u001b[0;32m    865\u001b[0m                     \u001b[1;31m# Don't scale for pixels, and don't stroke them\u001b[0m\u001b[1;33m\u001b[0m\u001b[1;33m\u001b[0m\u001b[0m\n\u001b[1;32m--> 866\u001b[1;33m                     \u001b[0mmarker_trans\u001b[0m \u001b[1;33m=\u001b[0m \u001b[0mmarker_trans\u001b[0m\u001b[1;33m.\u001b[0m\u001b[0mscale\u001b[0m\u001b[1;33m(\u001b[0m\u001b[0mw\u001b[0m\u001b[1;33m)\u001b[0m\u001b[1;33m\u001b[0m\u001b[0m\n\u001b[0m\u001b[0;32m    867\u001b[0m                 \u001b[1;32melse\u001b[0m\u001b[1;33m:\u001b[0m\u001b[1;33m\u001b[0m\u001b[0m\n\u001b[0;32m    868\u001b[0m                     \u001b[0mgc\u001b[0m\u001b[1;33m.\u001b[0m\u001b[0mset_linewidth\u001b[0m\u001b[1;33m(\u001b[0m\u001b[1;36m0\u001b[0m\u001b[1;33m)\u001b[0m\u001b[1;33m\u001b[0m\u001b[0m\n",
      "\u001b[1;32mc:\\python36\\lib\\site-packages\\matplotlib\\transforms.py\u001b[0m in \u001b[0;36mscale\u001b[1;34m(self, sx, sy)\u001b[0m\n\u001b[0;32m   1986\u001b[0m             \u001b[1;33m[\u001b[0m\u001b[1;33m[\u001b[0m\u001b[0msx\u001b[0m\u001b[1;33m,\u001b[0m \u001b[1;36m0.0\u001b[0m\u001b[1;33m,\u001b[0m \u001b[1;36m0.0\u001b[0m\u001b[1;33m]\u001b[0m\u001b[1;33m,\u001b[0m \u001b[1;33m[\u001b[0m\u001b[1;36m0.0\u001b[0m\u001b[1;33m,\u001b[0m \u001b[0msy\u001b[0m\u001b[1;33m,\u001b[0m \u001b[1;36m0.0\u001b[0m\u001b[1;33m]\u001b[0m\u001b[1;33m,\u001b[0m \u001b[1;33m[\u001b[0m\u001b[1;36m0.0\u001b[0m\u001b[1;33m,\u001b[0m \u001b[1;36m0.0\u001b[0m\u001b[1;33m,\u001b[0m \u001b[1;36m1.0\u001b[0m\u001b[1;33m]\u001b[0m\u001b[1;33m]\u001b[0m\u001b[1;33m,\u001b[0m\u001b[1;33m\u001b[0m\u001b[0m\n\u001b[0;32m   1987\u001b[0m             np.float_)\n\u001b[1;32m-> 1988\u001b[1;33m         \u001b[0mself\u001b[0m\u001b[1;33m.\u001b[0m\u001b[0m_mtx\u001b[0m \u001b[1;33m=\u001b[0m \u001b[0mnp\u001b[0m\u001b[1;33m.\u001b[0m\u001b[0mdot\u001b[0m\u001b[1;33m(\u001b[0m\u001b[0mscale_mtx\u001b[0m\u001b[1;33m,\u001b[0m \u001b[0mself\u001b[0m\u001b[1;33m.\u001b[0m\u001b[0m_mtx\u001b[0m\u001b[1;33m)\u001b[0m\u001b[1;33m\u001b[0m\u001b[0m\n\u001b[0m\u001b[0;32m   1989\u001b[0m         \u001b[0mself\u001b[0m\u001b[1;33m.\u001b[0m\u001b[0minvalidate\u001b[0m\u001b[1;33m(\u001b[0m\u001b[1;33m)\u001b[0m\u001b[1;33m\u001b[0m\u001b[0m\n\u001b[0;32m   1990\u001b[0m         \u001b[1;32mreturn\u001b[0m \u001b[0mself\u001b[0m\u001b[1;33m\u001b[0m\u001b[0m\n",
      "\u001b[1;31mKeyboardInterrupt\u001b[0m: "
     ]
    }
   ],
   "source": [
    "lo1.set_status(False)\n",
    "currents= np.linspace(-current_max, current_max, current_nops)\n",
    "#freqs = np.linspace(6.585e9,6.587e9,51)\n",
    "pna.set_nop(freq_nops)\n",
    "pna.set_bandwidth(100)\n",
    "pna.set_power(power_level)\n",
    "current_src.set_status(1)\n",
    "pna.set_xlim(res_l[i_res]*1e9, res_r[i_res]*1e9)\n",
    "result = sweep.sweep(pna, (currents, current_src.set_current, 'Coil current'), filename='anticrossings Rev_6.5')"
   ]
  },
  {
   "cell_type": "code",
   "execution_count": null,
   "metadata": {},
   "outputs": [],
   "source": [
    "pna.set_xlim(6.580e9, 6.590e9)\n",
    "pna.set_nop(51)"
   ]
  },
  {
   "cell_type": "code",
   "execution_count": null,
   "metadata": {},
   "outputs": [],
   "source": [
    "powers = np.linspace(-65, 5, 15)\n",
    "sweep.sweep(pna, (powers, pna.set_power, 'readout power'), filename='Resonator power spectroscopy')"
   ]
  },
  {
   "cell_type": "markdown",
   "metadata": {},
   "source": [
    "## Кубитная спектроскопия"
   ]
  },
  {
   "cell_type": "code",
   "execution_count": null,
   "metadata": {
    "collapsed": true
   },
   "outputs": [],
   "source": [
    "tone2_power=-20\n",
    "frequency_min=Qubits[3]['Fr']-50e6\n",
    "frequency_max=Qubits[3]['Fr']+10e6\n",
    "step_freq=301\n",
    "step_curr=301\n",
    "current_min=0.0025\n",
    "current_max=-0.0025\n",
    "tone1_power=-30\n",
    "tone1_freq=6.5867e9\n",
    "freq=np.linspace(frequency_min, frequency_max, step_freq)\n",
    "curr=np.linspace(current_min, current_max, step_curr)\n",
    "resolution_bw=200"
   ]
  },
  {
   "cell_type": "code",
   "execution_count": null,
   "metadata": {},
   "outputs": [],
   "source": [
    "pna.set_power(tone1_power)\n",
    "pna.set_xlim(tone1_freq, tone1_freq)\n",
    "pna.set_nop(1)\n",
    "pna.set_bandwidth(resolution_bw)\n",
    "lo1.set_power(tone2_power)\n",
    "lo1.set_status(True)"
   ]
  },
  {
   "cell_type": "code",
   "execution_count": null,
   "metadata": {
    "scrolled": true
   },
   "outputs": [],
   "source": [
    "sweep.sweep(pna, (curr, current_src.set_current,'current'), (freq, lo1.set_frequency, '2nd tone frequency'), filename='2nd tone')"
   ]
  },
  {
   "cell_type": "code",
   "execution_count": null,
   "metadata": {
    "scrolled": true
   },
   "outputs": [],
   "source": [
    "\n",
    "sweep.sweep(pna, (curr, current_src.set_current,'current'), filename='2nd tone')"
   ]
  },
  {
   "cell_type": "code",
   "execution_count": null,
   "metadata": {},
   "outputs": [],
   "source": [
    "#Кубит\n",
    "q_id = 1\n",
    "\n",
    "pna.set_average(0)\n",
    "pna.set_averages(1)\n",
    "pna.set_power(Qubits[q_id]['P'])\n",
    "pna.set_nop(1)\n",
    "pna.set_centerfreq(Qubits[q_id]['Fr'])\n",
    "pna.set_bandwidth(5)\n",
    "\n",
    "lo1.set_power(Qubits[q_id]['Pex'])\n",
    "lo1.set_status(1)"
   ]
  },
  {
   "cell_type": "markdown",
   "metadata": {},
   "source": [
    "### 1D скан при фиксированной мощности"
   ]
  },
  {
   "cell_type": "code",
   "execution_count": null,
   "metadata": {
    "collapsed": true
   },
   "outputs": [],
   "source": [
    "pna.set_nop(1)\n",
    "pna.set_xlim(5.8e9, 5.8e9)"
   ]
  },
  {
   "cell_type": "code",
   "execution_count": null,
   "metadata": {
    "scrolled": true
   },
   "outputs": [],
   "source": [
    "#Измерение\n",
    "lo1.set_status(True)\n",
    "ex_freqs = np.arange(2.8e9, 3e9, 5e6)\n",
    "\n",
    "pna.set_bandwidth(5)\n",
    "pna.set_power (-55)\n",
    "lo1.set_power (10)\n",
    "#current_src.set_current(-2.5e-3)\n",
    "\n",
    "header = '''#Parameter = Ex frequency\n",
    "#Ex power = {:f}'''\n",
    "try:\n",
    "    ex1D = sweep.sweep(pna, (ex_freqs, lo1.set_frequency, 'Second tone freq'), filename = \"ex_{:.1f}dBm\".format(lo1.get_power()))\n",
    "except KeyboardInterrupt: pass "
   ]
  },
  {
   "cell_type": "code",
   "execution_count": null,
   "metadata": {
    "collapsed": true
   },
   "outputs": [],
   "source": []
  },
  {
   "cell_type": "markdown",
   "metadata": {},
   "source": [
    "### 2D скан (мощность второго тона, частота второго тона)"
   ]
  },
  {
   "cell_type": "code",
   "execution_count": null,
   "metadata": {},
   "outputs": [],
   "source": [
    "ex_freqs = np.arange(5.5e9, 7e9, 10e6)\n",
    "ex_powers = np.arange(-20, 15, 1)\n",
    "\n",
    "pna.set_power(-50)\n",
    "pna.set_bandwidth(10)\n",
    "#lo1.set_power(-20)\n",
    "\n",
    "header = '''#Parameter =\n",
    "#Ro power = {:f}'''.format( pna.get_power() )\n",
    "\n",
    "lo1.set_status(1)\n",
    "#ps.S21vs2DPar(pna, currents, current.set_current, ex_freqs, lo1.set_frequency, filename = \"#2{:.1f}dBm\".format(lo1.get_power()),\\\n",
    "#           header = header)\n",
    "ex2D = sweep.sweep(pna, (ex_powers, lo1.set_power, 'Second tone power'), (ex_freqs, lo1.set_frequency, 'Second tone freq'), filename = \"#2{:.1f}dBm\".format(pna.get_power()),\\\n",
    "           header = header)\n",
    "lo1.set_status(0)"
   ]
  },
  {
   "cell_type": "markdown",
   "metadata": {},
   "source": [
    "# Импульсы"
   ]
  },
  {
   "cell_type": "markdown",
   "metadata": {},
   "source": [
    "### Создаём девайсы"
   ]
  },
  {
   "cell_type": "code",
   "execution_count": null,
   "metadata": {},
   "outputs": [],
   "source": [
    "#if not ('pna' in locals()): pna = Agilent_N5242A('pna', address = 'PNA')\n",
    "#if not ('lo1' in locals()): lo1 = Agilent_E8257D('lo1', address = 'PSG1')\n",
    "sa = Agilent_N9030A('pxa', address = 'PXA')\n",
    "#sa = Signal_Hound_SA(name='SA124', serial=61660066)\n",
    "#lo_ex = Labbrick(name='lo_ex', serial=15249)\n",
    "lo_ex = pna\n",
    "lo_ro = Labbrick(name='lo_ro', serial=15257)\n",
    "awg_tek = Tektronix_AWG5014('awg_tek', address = 'TCPIP0::10.20.61.186::inst0::INSTR')\n",
    "adc = Spectrum_M3i2132('adc')"
   ]
  },
  {
   "cell_type": "markdown",
   "metadata": {},
   "source": [
    "### Загружаем импульсные скрипты всякие"
   ]
  },
  {
   "cell_type": "code",
   "execution_count": null,
   "metadata": {},
   "outputs": [],
   "source": [
    "import awg_digital\n",
    "import awg_iq\n",
    "import data_reduce\n",
    "import imp\n",
    "import fitting\n",
    "import plotting\n",
    "import save_pkl\n",
    "import tomography as tomography_new\n",
    "import tomography_legacy as tomography\n",
    "import sweep\n",
    "imp.reload(awg_digital)\n",
    "imp.reload(awg_iq)\n",
    "imp.reload(data_reduce)\n",
    "imp.reload(fitting)\n",
    "imp.reload(plotting)\n",
    "imp.reload(save_pkl)\n",
    "imp.reload(tomography)\n",
    "imp.reload(tomography_new)\n",
    "imp.reload(sweep)"
   ]
  },
  {
   "cell_type": "markdown",
   "metadata": {},
   "source": [
    "### Осцилляторы"
   ]
  },
  {
   "cell_type": "code",
   "execution_count": null,
   "metadata": {},
   "outputs": [],
   "source": [
    "# Источник тока - в autorange\n",
    "#current.set_autorange(1)\n",
    "#Мощности гетеродинов, постоянные\n",
    "#Мощность гетеродина для возбуждения 13-16 дБм\n",
    "#lo_ex_pow = 14\n",
    "lo_ex_pow = 10\n",
    "#lo_ex = lo1\n",
    "#lo_ex.set_status(1)\n",
    "#lo_ex.set_power(lo_ex_pow)\n",
    "#pna как lo2 (excitation)\n",
    "#Port1 - выход\n",
    "#Мощность гетеродина для считывания 10-13 дБм, с учётом разветвителя 13-16 dBm\n",
    "lo_ro_pow = 10\n",
    "lo_ro.set_power(lo_ro_pow)\n",
    "\n",
    "lo_ex_pow = 16\n",
    "lo_ex = pna\n",
    "pna.write(\"OUTP ON\")\n",
    "pna.write(\"SOUR1:POW1:MODE ON\")\n",
    "pna.write(\"SOUR1:POW2:MODE OFF\")\n",
    "pna.set_sweep_mode(\"CW\")\n",
    "lo_ex.set_power(lo_ex_pow)"
   ]
  },
  {
   "cell_type": "markdown",
   "metadata": {},
   "source": [
    "### AWGшки"
   ]
  },
  {
   "cell_type": "code",
   "execution_count": null,
   "metadata": {},
   "outputs": [],
   "source": [
    "# промежуточные частоты для гетеродинной схемы:\n",
    "ex_if = 125e6\n",
    "ro_if = 75e6\n",
    "# клоки генератора и оцифровщика\n",
    "ex_clock = 1e9\n",
    "ro_clock = 1e9\n",
    "\n",
    "rep_rate = 20e3 # частота повторений эксперимента\n",
    "\n",
    "awg_tek.stop()\n",
    "awg_tek.set_clock(ex_clock) # клок всех авгшк\n",
    "awg_tek.set_nop(ex_clock/rep_rate) # репрейт нужно задавать по=хорошему только на управляющей,\n",
    "awg_tek.run()\n",
    "# а вот длину сэмплов, которая очевидно то же самое, нужно задавать на всех авгшках.\n",
    "# хорошо, что сейчас она только одна.\n",
    "\n",
    "# миксеры подключены к AWG5014 через 6 дБ аттенюаторы. Ставим амплитуду 2В.\n",
    "for channel in range(1,5):\n",
    "    awg_tek.set_amplitude(1., channel=channel)\n",
    "# Выходы 1, 2 тектроникс: возбуждение (кубитный тон) через 6 дБ аттенюатор\n",
    "# Выходы 3, 4 тектроникс: считывание (резонаторный тон) через 6 дБ аттенюатор\n",
    "iq_ex = awg_iq.awg_iq(awg_tek, awg_tek, 1, 2, lo_ex)\n",
    "iq_ro = awg_iq.awg_iq(awg_tek, awg_tek, 3, 4, lo_ro)\n",
    "iq_ex.set_if(ex_if)\n",
    "iq_ro.set_if(ro_if)\n",
    "iq_ex.set_sideband_id(-1)\n",
    "iq_ro.set_sideband_id(-1)\n",
    "iq_ex.set_frequency(Qubits[1]['F01'])\n",
    "iq_ro.set_frequency(Qubits[1]['Fr'])\n",
    "\n",
    "# К первому маркере первого канала тектроникса подсоединён триггер оцифровщика.\n",
    "# Надо подавать какой-нибудь триггер, что-ли.\n",
    "# А ещё нужно подавать клок. К сожалению наш оцифровщик не может в 1ГГц клок, ему нужен 500МГц клок.\n",
    "# Будем подавать 500 МГц с цифрового выхода тектроникса.\n",
    "awg_tek.set_marker1_low(-1, channel=1)\n",
    "awg_tek.set_marker2_low(-1, channel=1)\n",
    "awg_tek.set_marker1_high(2, channel=1)\n",
    "awg_tek.set_marker2_high(2, channel=1)\n",
    "awg_tek.set_marker1_low(-0.1, channel=2)\n",
    "awg_tek.set_marker2_low(-0.1, channel=2) \n",
    "awg_tek.set_marker1_high(0.1, channel=2) # с клока хватит и такой амплитуды\n",
    "awg_tek.set_marker2_high(0.1, channel=2) # с клока хватит и такой амплитуды\n",
    "ro_trg = awg_digital.awg_digital(awg_tek, 1)\n",
    "osc_trg = awg_digital.awg_digital(awg_tek, 5)\n",
    "ro_adc_clock = awg_digital.awg_digital(awg_tek, 2) #\n",
    "osc_adc_clock = awg_digital.awg_digital(awg_tek, 6) #\n",
    "\n",
    "# тупо клок\n",
    "ro_adc_clock.set_waveform(np.asarray([0,1]*int(ro_adc_clock.get_nop()/2), dtype=int))\n",
    "osc_adc_clock.set_waveform(np.asarray([0,1]*int(ro_adc_clock.get_nop()/2), dtype=int))\n",
    "awg_channels = {'iq_ex':iq_ex, 'iq_ro':iq_ro, 'ro_trg':ro_trg, 'osc_trg':osc_trg}\n",
    "trg_length = 4e-9\n",
    "pg = tomography_new.pulses(awg_channels)"
   ]
  },
  {
   "cell_type": "markdown",
   "metadata": {},
   "source": [
    "### Оцифровщик"
   ]
  },
  {
   "cell_type": "code",
   "execution_count": null,
   "metadata": {
    "collapsed": true
   },
   "outputs": [],
   "source": [
    "# настройки оцифровщика\n",
    "adc.set_clock(ro_clock)\n",
    "adc.reset()            \n",
    "adc.set_timeout(10000)\n",
    "\n",
    "\n",
    "#adc.set_spc_samplerate(smp_rate)\n",
    "#External trigger\n",
    "adc.set_trigger_ext0_level0(0) # logical 0 value to 200 mV\n",
    "adc.set_trigger_ext0_level1(1300) # logical 1 value to 600 mV\n",
    "adc.trigger_termination_50Ohm()\n",
    "adc.trigger_mode_pos()\n",
    "adc.set_trigger_ext0_pulsewidth(0)\n",
    "adc.disable_trigger_output()\n",
    "adc.select_channel01()\n",
    "adc.set_multi_mode()\n",
    "#adc.set_segmentsize()\n",
    "adc.set_trigger_ORmask_tmask_ext0()\n",
    "adc.set_trigger_ANDmask_tmask_ext0()\n",
    "adc.set_trigger_ORmask_tmask_NO_ch0()\n",
    "adc.set_trigger_ORmask_tmask_NO_ch1()\n",
    "adc.set_trigger_ANDmask_tmask_NO_ch0()\n",
    "adc.set_trigger_ANDmask_tmask_NO_ch1()\n",
    "# усилитель на оцифровщике\n",
    "adc.set_input_amp_ch0(50)\n",
    "adc.set_input_amp_ch1(50)\n",
    "adc.set_input_offset_ch0(0)\n",
    "adc.set_input_offset_ch1(0)\n",
    "\n",
    "#External clock\n",
    "adc.set_reference_clock(adc.get_clock())\n",
    "\n",
    "# \"Измеритель средних прошедших импульсов\"\n",
    "# Просто усредняет всё по номеру сэмпла.\n",
    "adc_reducer = data_reduce.data_reduce(adc)\n",
    "adc_reducer.filters['Mean Voltage (AC)'] = data_reduce.mean_reducer_noavg(adc, 'Voltage', 0)\n",
    "adc_reducer.filters['S21+'] = data_reduce.mean_reducer_freq(adc, 'Voltage', 0, iq_ro.get_if())\n",
    "adc_reducer.filters['S21-'] = data_reduce.mean_reducer_freq(adc, 'Voltage', 0, -iq_ro.get_if())"
   ]
  },
  {
   "cell_type": "markdown",
   "metadata": {},
   "source": [
    "### Калибровка миксеров"
   ]
  },
  {
   "cell_type": "code",
   "execution_count": null,
   "metadata": {
    "scrolled": true
   },
   "outputs": [],
   "source": [
    "#sa.set_ref(0)\n",
    "iq_ex.get_calibration(sa)\n",
    "iq_ro.get_calibration(sa)"
   ]
  },
  {
   "cell_type": "markdown",
   "metadata": {},
   "source": [
    "### Длительность и амплитуда считывающих импульсов"
   ]
  },
  {
   "cell_type": "code",
   "execution_count": null,
   "metadata": {
    "collapsed": true
   },
   "outputs": [],
   "source": [
    "def set_adc_nop(ro_adc_length):\n",
    "    adc.stop()\n",
    "    signal_size = int(np.ceil(4./3.*(ro_adc_length)*adc.get_clock()))\n",
    "    nop = int( 2**np.ceil(np.log2(signal_size)) )\n",
    "    posttrigger = nop*3/4\n",
    "    \n",
    "    print (nop)\n",
    "    adc.set_nop(nop)\n",
    "    adc.set_post_trigger(posttrigger)"
   ]
  },
  {
   "cell_type": "code",
   "execution_count": null,
   "metadata": {},
   "outputs": [],
   "source": [
    "ro_adc_length = 0.6e-6        # Вот такой длины считываем (опухоль Фёдорова!!)\n",
    "ro_amplitude = 0.21\n",
    "ro_dac_length = 0.11e-6\n",
    "adc.set_nums(1000)\n",
    "#adc.set_software_nums_multi(1)\n",
    "set_adc_nop(ro_adc_length)"
   ]
  },
  {
   "cell_type": "code",
   "execution_count": null,
   "metadata": {},
   "outputs": [],
   "source": [
    "#tomography.set_sequence([tomography.ro_rect(ro_amplitude, ro_dac_length, awg_channels)], awg_channels)\n",
    "plt.plot(np.mean(np.real(adc.measure()['Voltage']), axis=0))"
   ]
  },
  {
   "cell_type": "code",
   "execution_count": null,
   "metadata": {},
   "outputs": [],
   "source": [
    "plt.pcolormesh(np.real(adc.measure()['Voltage']));\n",
    "plt.colorbar()"
   ]
  },
  {
   "cell_type": "code",
   "execution_count": null,
   "metadata": {
    "collapsed": true
   },
   "outputs": [],
   "source": [
    "adc.stop()"
   ]
  },
  {
   "cell_type": "markdown",
   "metadata": {},
   "source": [
    "### Прохождение считывающих испульсов разной амплитуды"
   ]
  },
  {
   "cell_type": "code",
   "execution_count": null,
   "metadata": {},
   "outputs": [],
   "source": [
    "def set_pulse_amplitude(x):\n",
    "    awg_tek.set_nop(awg_tek.get_clock()/rep_rate)\n",
    "    pg.set_seq([pg.p('ro_trg', trg_length, pg.rect, 1), pg.p('iq_ro', ro_dac_length, pg.rect, x)])\n",
    "    awg_tek.run()\n",
    "measurement = sweep.sweep(adc_reducer, (np.linspace(0, 1, 51), set_pulse_amplitude, 'Readout amplitude'), filename='Readout pulse passthrough')"
   ]
  },
  {
   "cell_type": "markdown",
   "metadata": {},
   "source": [
    "### Осцилляции Раби"
   ]
  },
  {
   "cell_type": "code",
   "execution_count": null,
   "metadata": {},
   "outputs": [],
   "source": [
    "ex_amplitude = 0.8\n",
    "pause_length = 16e-9\n",
    "lengths = np.linspace(0e-9, 2e-6, 201)\n",
    "readout_begin = np.max(lengths)\n",
    "def set_ex_length(length):\n",
    "    awg_tek.set_nop(awg_tek.get_clock()/rep_rate)\n",
    "    sequence = [pg.p(None, readout_begin-length), \n",
    "                pg.p('iq_ex', length, pg.rect, ex_amplitude), \n",
    "                pg.p(None, pause_length), \n",
    "                pg.p('ro_trg', trg_length, pg.rect, 1), \n",
    "                pg.p('iq_ro', ro_dac_length, pg.rect, ro_amplitude)]\n",
    "    pg.set_seq(sequence)\n",
    "    awg_tek.run()\n",
    "measurement = sweep.sweep(adc_reducer, (lengths, set_ex_length, 'Rabi pulse length'), filename='Rabi')\n",
    "measurement_fitted, fitted_parameters = fitting.S21pm_fit(measurement, fitting.exp_sin_fit)\n",
    "annotation = 'Phase: {0:4.4g} rad, Freq: {1:4.4g}, Decay: {2:4.4g} s'.format(fitted_parameters['phase'], \n",
    "                                                                             fitted_parameters['freq'], \n",
    "                                                                             fitted_parameters['decay'])\n",
    "save_pkl.save_pkl({'type':'Rabi'}, measurement_fitted,annotation=annotation)"
   ]
  },
  {
   "cell_type": "code",
   "execution_count": null,
   "metadata": {},
   "outputs": [],
   "source": [
    "save_pkl.save_pkl({'type':'Rabi'}, measurement_fitted,annotation=annotation)"
   ]
  },
  {
   "cell_type": "markdown",
   "metadata": {},
   "source": [
    "### Осцилляции Рамзея"
   ]
  },
  {
   "cell_type": "code",
   "execution_count": null,
   "metadata": {
    "scrolled": true
   },
   "outputs": [],
   "source": [
    "ex_amplitude = 0.8\n",
    "pi2_pulse = 22e-9\n",
    "pause_length = 16e-9\n",
    "delays = np.linspace(0e-9, 2000e-9, 101)\n",
    "target_freq_offset = 17e6\n",
    "\n",
    "readout_begin = np.max(delays)+pi2_pulse*2\n",
    "\n",
    "def set_delay(delay):\n",
    "    awg_tek.set_nop(awg_tek.get_clock()/rep_rate)\n",
    "    \n",
    "    sequence = [pg.p(None, readout_begin-length),\n",
    "                pg.p('iq_ex', pi2_pulse, pg.rect, ex_amplitude), \n",
    "                pg.p(None, delay), \n",
    "                pg.p('iq_ex', pi2_pulse, pg.rect, ex_amplitude*np.exp(1j*delay*target_freq_offset*2*np.pi)), \n",
    "                pg.p(None, delay), \n",
    "                pg.p('ro_trg', trg_length, pg.rect, 1), \n",
    "                pg.p('iq_ro', ro_dac_length, pg.rect, ro_amplitude)]\n",
    "    \n",
    "    pg.set_seq(sequence)\n",
    "    awg_tek.run()\n",
    "measurement = sweep.sweep(adc_reducer, (delays, set_delay, 'Ramsey delay'), filename='Ramsey')\n",
    "#measurement = sweep.sweep(adc_sz, (delays, set_delay, 'Ramsey delay'), filename='Ramsey')\n",
    "measurement_fitted, fitted_parameters = fitting.S21pm_fit(measurement, fitting.exp_sin_fit)\n",
    "annotation = 'Phase: {0:4.4g} rad, Freq: {1:4.4g}, Decay: {2:4.4g} s'.format(fitted_parameters['phase'], \n",
    "                                                                             fitted_parameters['freq'], \n",
    "                                                                             fitted_parameters['decay'])\n",
    "#save_pkl({'type':'Ramsey'}, measurement_fitted, annotation=annotation)"
   ]
  },
  {
   "cell_type": "code",
   "execution_count": null,
   "metadata": {},
   "outputs": [],
   "source": [
    "save_pkl.save_pkl({'type':'Ramsey'}, measurement_fitted, annotation=annotation)"
   ]
  },
  {
   "cell_type": "markdown",
   "metadata": {},
   "source": [
    "### Затухание свободной индукции (T1)"
   ]
  },
  {
   "cell_type": "code",
   "execution_count": null,
   "metadata": {},
   "outputs": [],
   "source": [
    "ex_amplitude = 0.8\n",
    "pi_pulse = 44e-9\n",
    "pause_length = 16e-9\n",
    "delays = np.linspace(0e-9, 10000e-9, 41)\n",
    "readout_begin = np.max(delays)+pi_pulse\n",
    "def set_delay(delay):\n",
    "    awg_tek.set_nop(awg_tek.get_clock()/rep_rate)\n",
    "    \n",
    "    sequence = [pg.p(None, readout_begin-length),\n",
    "                pg.p('iq_ex', pi_pulse, pg.rect, ex_amplitude), \n",
    "                pg.p(None, delay), \n",
    "                pg.p('ro_trg', trg_length, pg.rect, 1), \n",
    "                pg.p('iq_ro', ro_dac_length, pg.rect, ro_amplitude)]\n",
    "    \n",
    "    pg.set_seq(sequence)\n",
    "    awg_tek.run()\n",
    "measurement = sweep.sweep(adc_reducer, (delays, set_delay, 'delay'), filename='Decay')\n",
    "\n",
    "measurement_fitted, fitted_parameters = fitting.S21pm_fit(measurement, fitting.exp_fit)\n",
    "#save_pkl.save_pkl({'type':'Decay'}, measurement_fitted)\n",
    "annotation = 'Decay: {0:4.6g} s'.format(fitted_parameters['decay'])\n",
    "save_pkl.save_pkl({'type':'Decay'}, measurement_fitted, annotation=annotation)"
   ]
  },
  {
   "cell_type": "code",
   "execution_count": null,
   "metadata": {},
   "outputs": [],
   "source": [
    "annotation = 'Decay: {0:4.6g} s'.format(fitted_parameters['decay'])\n",
    "save_pkl.save_pkl({'type':'Decay'}, measurement_fitted, annotation=annotation)"
   ]
  },
  {
   "cell_type": "markdown",
   "metadata": {},
   "source": [
    "### Rabi amplitude oscillations"
   ]
  },
  {
   "cell_type": "code",
   "execution_count": null,
   "metadata": {},
   "outputs": [],
   "source": [
    "ex_amps = np.linspace(0.,1.0,51)\n",
    "pause_length = 32e-9\n",
    "length = 32e-9\n",
    "sigma = 8e-9\n",
    "num_pulses = 4\n",
    "readout_begin = np.max((length+pause_length)*num_pulses)\n",
    "def set_ex_amp(amp):\n",
    "    awg_tek.set_nop(awg_tek.get_clock()/rep_rate)\n",
    "    \n",
    "    sequence = [pg.p('iq_ex', pi_pulse, pg.gauss_hd, sigma, ex_amplitude, 0), \n",
    "                pg.p(None, readout_begin-length)]*num_pulses+\\ \n",
    "               [pg.p('ro_trg', trg_length, pg.rect, 1), \n",
    "                pg.p('iq_ro', ro_dac_length, pg.rect, ro_amplitude)]\n",
    "    \n",
    "    pg.set_seq(sequence)\n",
    "    \n",
    "    awg_tek.run()\n",
    "measurement = sweep.sweep(adc_reducer, (ex_amps, set_ex_amp, 'Rabi pulse amplitude'), filename='Rabi')"
   ]
  },
  {
   "cell_type": "markdown",
   "metadata": {},
   "source": [
    "### gaussian $\\pi/2$ pulse amplitudes"
   ]
  },
  {
   "cell_type": "code",
   "execution_count": null,
   "metadata": {
    "collapsed": true
   },
   "outputs": [],
   "source": [
    "#amp_x=0.554\n",
    "#amp_y=0.554\n",
    "#sigma = 2e-9\n",
    "#amp_x=0.29\n",
    "#amp_y=0.29\n",
    "amp_x = 0.925\n",
    "length = 32e-9\n",
    "pause_length = 8e-9\n",
    "sigma = 8e-9\n",
    "amp_x_hd = 0.925\n",
    "length_hd = 32e-9\n",
    "sigma_hd = 8e-9\n",
    "pause_length_hd = 8e-9\n",
    "alpha_hd = -0.92e-9"
   ]
  },
  {
   "cell_type": "markdown",
   "metadata": {},
   "source": [
    "### Ramsey with gauss pulses"
   ]
  },
  {
   "cell_type": "code",
   "execution_count": null,
   "metadata": {
    "scrolled": true
   },
   "outputs": [],
   "source": [
    "delays = np.linspace(0e-9, 2000e-9, 201)\n",
    "target_freq_offset = 20e6\n",
    "\n",
    "def set_delay(delay):\n",
    "    sequence = [pg.p(None, readout_begin-length),\n",
    "                pg.p('iq_ex', pi2_pulse, pg.gauss_hd, sigma, ex_amplitude, 0), \n",
    "                pg.p(None, delay), \n",
    "                pg.p('iq_ex', pi2_pulse, pg.gauss_hd, sigma, ex_amplitude*np.exp(1j*delay*target_freq_offset*2*np.pi), 0), \n",
    "                pg.p(None, delay), \n",
    "                pg.p('ro_trg', trg_length, pg.rect, 1), \n",
    "                pg.p('iq_ro', ro_dac_length, pg.rect, ro_amplitude)]\n",
    "    \n",
    "    pg.set_seq(sequence)\n",
    "    awg_tek.run()\n",
    "measurement = sweep.sweep(adc_reducer, (delays, set_delay, 'Ramsey delay'), filename='Ramsey')\n",
    "measurement_fitted, fitted_parameters = fitting.S21pm_fit(measurement, fitting.exp_sin_fit)\n",
    "annotation = 'Phase: {0:4.4g} rad, Freq: {1:4.4g}, Decay: {2:4.4g} s'.format(fitted_parameters['phase'], \n",
    "                                                                             fitted_parameters['freq'], \n",
    "                                                                             fitted_parameters['decay'])\n",
    "save_pkl.save_pkl({'type':'Ramsey'}, measurement_fitted, annotation=annotation)"
   ]
  },
  {
   "cell_type": "markdown",
   "metadata": {},
   "source": [
    "# Optimizing readout pulse settings"
   ]
  },
  {
   "cell_type": "code",
   "execution_count": null,
   "metadata": {},
   "outputs": [],
   "source": [
    "ex_calib_seq = [pg.p('iq_ex', length, pg.gauss_hd, amp_x, 0, sigma), pg.p(None, pause_length)]*2\n",
    "ro_seq = [pg.p('ro_trg', trg_length, pg.rect, 1), pg.p('iq_ro', ro_dac_length, pg.rect, ro_amplitude)]\n",
    "adc_sz = tomography_new.sz_measurer(adc, ex_calib_seq, ro_seq, pg)\n",
    "adc.set_software_nums_multi(20)\n",
    "adc_sz.repeat_samples = 1\n",
    "\n",
    "target_min = lambda: 1-adc_sz.measure()['Calibrated fidelity binary']\n",
    "\n",
    "class ro_pulse_generator:\n",
    "    def __init__(self, adc_sz, ro_amplitude, ro_dac_length):\n",
    "        self.ro_amplitude = ro_amplitude\n",
    "        self.ro_dac_length = ro_dac_length\n",
    "        self.adc_sz = adc_sz\n",
    "    def make_ro_seq(self):\n",
    "        adc_sz.ro_seq = [pg.p('ro_trg', trg_length, pg.rect, 1), pg.p('iq_ro', self.ro_dac_length, pg.rect, self.ro_amplitude)]\n",
    "    def set_ro_length(self, ro_dac_length):\n",
    "        self.ro_dac_length = ro_dac_length\n",
    "        self.make_ro_seq()\n",
    "    def set_ro_amplitude(self, ro_amplitude):\n",
    "        self.ro_amplitude = ro_amplitude\n",
    "        self.make_ro_seq()\n",
    "\n",
    "ro_dac_lengths = np.linspace(0, 0.05e-6, 6)\n",
    "ro_dac_amplitudes = np.linspace(0.8,1.0, 5)\n",
    "\n",
    "ro_pulse_generator_inst = ro_pulse_generator(adc_sz, ro_amplitude, ro_dac_length)\n",
    "solution, score = sweep.optimize(target_min, (ro_pulse_generator_inst.set_ro_length, 3e-8), \n",
    "                                             (ro_pulse_generator_inst.set_ro_amplitude, 0.9), maxfun=30)\n",
    "ro_dac_length = solution[0]\n",
    "ro_dac_amplitude = solution[1]\n",
    "#\n",
    "#sweep.sweep(adc_sz, (ro_dac_lengths, ro_pulse_generator_inst.set_ro_length, 'Readout pulse length'), \n",
    "#                    (ro_dac_amplitudes, ro_pulse_generator_inst.set_ro_amplitude, 'Readout pulse amplitude'))"
   ]
  },
  {
   "cell_type": "markdown",
   "metadata": {},
   "source": [
    "### |0> & |1> readout calibration"
   ]
  },
  {
   "cell_type": "code",
   "execution_count": null,
   "metadata": {},
   "outputs": [],
   "source": [
    "ro_dac_length = 50e-9\n",
    "ro_dac_amplitude = 0.13\n",
    "ex_calib_seq = [pg.p('iq_ex', length, pg.gauss_hd, amp_x, 0, sigma, alpha_hd), pg.p(None, pause_length)]*2\n",
    "#ro_seq = [pg.p('ro_trg', trg_length, pg.rect, 1), pg.p('iq_ro', ro_dac_length, pg.rect, ro_amplitude)]\n",
    "ro_seq = [pg.p('ro_trg', trg_length, pg.rect, 1), pg.p('iq_ro', ro_dac_length, pg.rect, 1.0)]\n",
    "adc_sz = tomography_new.sz_measurer(adc, ex_calib_seq, ro_seq, pg)\n",
    "adc_sz.save_last_samples = True\n",
    "adc_sz.repeat_samples = 1\n",
    "adc.set_software_nums_multi(20)\n",
    "print(adc_sz.measure())\n",
    "#sz_filter = adc_sz.calibrate()\n",
    "#print('ROC AUC:', adc_sz.calib_roc_auc, 'Fidelity:', adc_sz.calib_fidelity)\n",
    "#print('ROC AUC binary:', adc_sz.calib_roc_auc_binary, 'Fidelity binary:', adc_sz.calib_fidelity_binary) "
   ]
  },
  {
   "cell_type": "code",
   "execution_count": null,
   "metadata": {},
   "outputs": [],
   "source": [
    "plt.figure()\n",
    "plt.pcolormesh(np.real(adc_sz.samples[0,:,:]), vmin=15, vmax=25); plt.colorbar()\n",
    "plt.figure()\n",
    "plt.pcolormesh(np.real(adc_sz.samples[1,:,:]), vmin=15, vmax=25); plt.colorbar()"
   ]
  },
  {
   "cell_type": "code",
   "execution_count": null,
   "metadata": {},
   "outputs": [],
   "source": [
    "plt.hist(adc_sz.calib_pred.T, bins=20)"
   ]
  },
  {
   "cell_type": "code",
   "execution_count": null,
   "metadata": {},
   "outputs": [],
   "source": [
    "#plt.scatter(np.real(adc_sz.calib_usl_pred[0,:]), np.imag(adc_sz.calib_usl_pred[0,:]), color='r', s=1)\n",
    "#plt.scatter(np.real(adc_sz.calib_usl_pred[1,:]), np.imag(adc_sz.calib_usl_pred[1,:]), color='b', s=1)\n",
    "#plt.figure()\n",
    "#plt.hist(adc_sz.calib_pred.T, bins=20)\n",
    "plt.figure()\n",
    "#plt.hist(np.real(adc_sz.calib_usl_pred.T), bins=20)\n",
    "plt.plot(np.real(adc_sz.calib_bg-np.mean(adc_sz.calib_bg)))\n",
    "plt.plot(np.imag(adc_sz.calib_bg-np.mean(adc_sz.calib_bg)))\n",
    "plt.plot(np.real(adc_sz.calib_feature))\n",
    "plt.plot(np.imag(adc_sz.calib_feature))"
   ]
  },
  {
   "cell_type": "markdown",
   "metadata": {},
   "source": [
    "### Tomography"
   ]
  },
  {
   "cell_type": "code",
   "execution_count": null,
   "metadata": {
    "collapsed": true
   },
   "outputs": [],
   "source": [
    "observables = { 'X': 0.5*np.asarray([[0, 1],   [1, 0]]),\n",
    "                'Y': 0.5*np.asarray([[0, -1j],   [1j, 0]]),\n",
    "                '-X': 0.5*np.asarray([[0, -1],   [-1, 0]]),\n",
    "                '-Y': 0.5*np.asarray([[0, 1j],   [-1j, 0]]),\n",
    "                'Z': 0.5*np.asarray([[1, 0],   [0, -1]])}\n",
    "proj_seq = {'Xo':{'pulses': [pg.p('iq_ex', length, pg.gauss_hd, 0, -amp_x, sigma, alpha_hd), pg.p(None, pause_length)]+ro_seq, \n",
    "                 'operator': observables['X']},\n",
    "            'Yo':{'pulses': [pg.p('iq_ex', length, pg.gauss_hd, amp_x, 0, sigma, alpha_hd), pg.p(None, pause_length)]+ro_seq,\n",
    "                 'operator': observables['Y']},\n",
    "            '-Xo':{'pulses':[pg.p('iq_ex', length, pg.gauss_hd, 0, amp_x, sigma, alpha_hd), pg.p(None, pause_length)]+ro_seq,\n",
    "                 'operator': observables['-X']},\n",
    "            '-Yo':{'pulses':[pg.p('iq_ex', length, pg.gauss_hd, -amp_x, 0, sigma, alpha_hd), pg.p(None, pause_length)]+ro_seq,\n",
    "                 'operator': observables['-Y']},\n",
    "            'Zo': {'pulses':ro_seq, 'operator':observables['Z']} }\n",
    "reconstruction_basis={'x':{'operator':observables['X']},\n",
    "                      'y':{'operator':observables['Y']},\n",
    "                      'z':{'operator':observables['Z']}}\n",
    "tomo = tomography_new.tomography(adc_sz, pg, proj_seq, reconstruction_basis=reconstruction_basis)"
   ]
  },
  {
   "cell_type": "code",
   "execution_count": null,
   "metadata": {
    "collapsed": true
   },
   "outputs": [],
   "source": [
    "proj_seq = {'Z': {'pulses':ro_seq, 'operator':observables['Z']}}\n",
    "tomoz = tomography_new.tomography(adc_sz, pg, proj_seq)"
   ]
  },
  {
   "cell_type": "code",
   "execution_count": null,
   "metadata": {},
   "outputs": [],
   "source": [
    "## tomography of |0> state\n",
    "adc.set_software_nums_multi(20)\n",
    "tomo.set_prepare_seq([])\n",
    "tomo.measure()"
   ]
  },
  {
   "cell_type": "code",
   "execution_count": null,
   "metadata": {},
   "outputs": [],
   "source": [
    "## tomography of |1> state\n",
    "tomo.set_prepare_seq([pg.p('iq_ex', length, pg.gauss_hd, 0, -amp_x, sigma, alpha_hd), pg.p(None, pause_length)]*2)\n",
    "tomo.measure()"
   ]
  },
  {
   "cell_type": "code",
   "execution_count": null,
   "metadata": {},
   "outputs": [],
   "source": [
    "## tomography of |1> state\n",
    "tomo.set_prepare_seq([pg.p('iq_ex', length, pg.gauss_hd, 0, -amp_x, sigma, alpha_hd), pg.p(None, pause_length)]+\n",
    "                     [pg.p('iq_ex', length, pg.gauss_hd, 0, -amp_x, sigma, alpha_hd), pg.p(None, pause_length),\n",
    "                     pg.p('iq_ex', length, pg.gauss_hd, 0, amp_x, sigma, alpha_hd), pg.p(None, pause_length)]*10)\n",
    "tomo.measure()"
   ]
  },
  {
   "cell_type": "code",
   "execution_count": null,
   "metadata": {},
   "outputs": [],
   "source": [
    "## tomography of |1> state\n",
    "tomo.set_prepare_seq([pg.p('iq_ex', length, pg.gauss_hd, 0, -amp_x, sigma, -0.92e-9), pg.p(None, pause_length)]+\n",
    "                     [pg.p('iq_ex', length, pg.gauss_hd, 0, -amp_x, sigma, -0.92e-9), pg.p(None, pause_length),\n",
    "                     pg.p('iq_ex', length, pg.gauss_hd, 0, amp_x, sigma, -0.92e-9), pg.p(None, pause_length)]*10)\n",
    "tomo.measure()"
   ]
  },
  {
   "cell_type": "code",
   "execution_count": null,
   "metadata": {},
   "outputs": [],
   "source": [
    "## tomography of |0>+|1> state\n",
    "tomo.set_prepare_seq([pg.p('iq_ex', length, pg.gauss_hd, 0, -amp_x, sigma), pg.p(None, pause_length)])\n",
    "tomo.measure()"
   ]
  },
  {
   "cell_type": "code",
   "execution_count": null,
   "metadata": {},
   "outputs": [],
   "source": [
    "## tomography of |0>-|1> state\n",
    "tomo.set_prepare_seq([pg.p('iq_ex', length, pg.gauss_hd, 0, 1j*amp_x, sigma), pg.p(None, pause_length)])\n",
    "tomo.measure()"
   ]
  },
  {
   "cell_type": "code",
   "execution_count": null,
   "metadata": {},
   "outputs": [],
   "source": [
    "## tomography of -|0>-|1> state\n",
    "tomo.set_prepare_seq([pg.p('iq_ex', length, pg.gauss_hd, 0, -amp_x, sigma), pg.p(None, pause_length)])\n",
    "tomo.measure()"
   ]
  },
  {
   "cell_type": "code",
   "execution_count": null,
   "metadata": {},
   "outputs": [],
   "source": [
    "## tomography of -|0>+|1> state\n",
    "tomo.set_prepare_seq([pg.p('iq_ex', length, pg.gauss_hd, 0, -1j*amp_x, sigma), pg.p(None, pause_length)])\n",
    "tomo.measure()"
   ]
  },
  {
   "cell_type": "markdown",
   "metadata": {},
   "source": [
    "# Randomized benchmarking"
   ]
  },
  {
   "cell_type": "code",
   "execution_count": null,
   "metadata": {
    "collapsed": true
   },
   "outputs": [],
   "source": [
    "import interleaved_benchmarking\n",
    "imp.reload(interleaved_benchmarking)\n",
    "\n",
    "bench = interleaved_benchmarking.interleaved_benchmarking(tomo)\n",
    "\n",
    "unitaries = {0:np.sqrt(0.5)*np.asarray([[1, -1j],  [-1j, 1]]),\\\n",
    "             1:np.sqrt(0.5)*np.asarray([[1, -1],    [1, 1]]),\\\n",
    "             2:np.sqrt(0.5)*np.asarray([[1, 1j],   [1j, 1]]),\\\n",
    "             3:np.sqrt(0.5)*np.asarray([[1, 1],   [-1, 1]])}\n",
    "bench.interleavers = {'X': {'pulses':[pg.p('iq_ex', length, pg.gauss_hd, -amp_x, 0, sigma, alpha_hd), pg.p(None, pause_length)],\n",
    "                            'unitary': np.sqrt(0.5)*np.asarray([[1, -1j],  [-1j, 1]])},\n",
    "                      'Y': {'pulses':[pg.p('iq_ex', length, pg.gauss_hd, 1j*amp_x, 0, sigma, alpha_hd), pg.p(None, pause_length)],\n",
    "                            'unitary': np.sqrt(0.5)*np.asarray([[1, -1],    [1, 1]])},\n",
    "                      '-X':{'pulses':[pg.p('iq_ex', length, pg.gauss_hd, amp_x, 0, sigma, alpha_hd), pg.p(None, pause_length)],\n",
    "                            'unitary': np.sqrt(0.5)*np.asarray([[1, 1j],   [1j, 1]])},\n",
    "                      '-Y':{'pulses':[pg.p('iq_ex', length, pg.gauss_hd, -1j*amp_x, 0, sigma, alpha_hd), pg.p(None, pause_length)],\n",
    "                            'unitary': np.sqrt(0.5)*np.asarray([[1, 1],   [-1, 1]])},\n",
    "                      'I':{'pulses':[], 'unitary':np.asarray([[1, 0], [0,1]])}}\n",
    "bench.sequence_length = 10\n",
    "bench.random_sequence_num = 6\n",
    "bench.prepare_random_interleaving_sequences()\n",
    "#bench.generate_interleaver_sequence_from_names()"
   ]
  },
  {
   "cell_type": "code",
   "execution_count": null,
   "metadata": {},
   "outputs": [],
   "source": [
    "seq_lengths = np.arange(101)\n",
    "sweep.sweep(bench, (seq_lengths, bench.set_sequence_length_and_regenerate, 'Gate number'))"
   ]
  },
  {
   "cell_type": "code",
   "execution_count": null,
   "metadata": {
    "collapsed": true
   },
   "outputs": [],
   "source": [
    "bench.target_gate = bench.interleavers['X']['pulses']\n",
    "bench.target_gate_unitary = bench.interleavers['X']['unitary']\n",
    "bench.target_gate_name = 'X (benchmarking)'\n",
    "tfunc = lambda : np.mean(bench.measure()['Euclidean distance'])\n",
    "class hd_pulse_generator:\n",
    "    def __init__(self, pulse_setter, pg, channel):\n",
    "        self.amp_x = -amp_x_hd\n",
    "        self.amp_y = amp_x_hd\n",
    "        self.sigma = sigma_hd\n",
    "        self.length = length_hd\n",
    "        self.pause_length = pause_length_hd\n",
    "        self.alpha = alpha_hd\n",
    "        \n",
    "        self.pg = pg\n",
    "        self.channel = channel\n",
    "        self.pulse = self.pulse_gen()\n",
    "        self.pulse_setter = pulse_setter\n",
    "    def set_real_amplitude(self,x):\n",
    "        self.amp_x = x\n",
    "        self.pulse_setter(self.pulse_gen())\n",
    "    def set_imag_amplitude(self,y):\n",
    "        self.amp_y = y\n",
    "        self.pulse_setter(self.pulse_gen())\n",
    "    def set_sigma(self,s):\n",
    "        self.sigma = s\n",
    "        self.pulse_setter(self.pulse_gen())\n",
    "    def set_length(self,l):\n",
    "        self.length = l\n",
    "        self.pulse_setter(self.pulse_gen())\n",
    "    def set_pause_length(self, p):\n",
    "        self.pause_length = p\n",
    "        self.pulse_setter(self.pulse_gen())\n",
    "    def set_alpha(self, a):\n",
    "        self.alpha = a\n",
    "        self.pulse_setter(self.pulse_gen())\n",
    "    def pulse_gen(self):\n",
    "        return [pg.p(self.channel, self.length, self.pg.gauss_hd, self.amp_x+1j*self.amp_y, 0, self.sigma, self.alpha), pg.p(None, self.pause_length)]\n",
    "    \n",
    "xg = hd_pulse_generator(bench.set_target_pulse, pg, 'iq_ex')"
   ]
  },
  {
   "cell_type": "code",
   "execution_count": null,
   "metadata": {
    "collapsed": true
   },
   "outputs": [],
   "source": [
    "sol, score = sweep.optimize(tfunc,  (xg.set_real_amplitude, xg.amp_x), \n",
    "                                    (xg.set_imag_amplitude, xg.amp_y),\n",
    "                                    (xg.set_alpha, xg.alpha))"
   ]
  },
  {
   "cell_type": "code",
   "execution_count": null,
   "metadata": {},
   "outputs": [],
   "source": [
    "amps = np.linspace(0.925, 0.975, 21)\n",
    "alphas = np.linspace(-2e-9, 2e-9, 11)\n",
    "sweep.sweep(bench, (amps, xg.set_real_amplitude, 'Amplitude'), (alphas, xg.set_alpha, 'HD DRAG coeff'), filename='Randomized interleaved benchmarging X-rotation')"
   ]
  },
  {
   "cell_type": "code",
   "execution_count": null,
   "metadata": {},
   "outputs": [],
   "source": [
    "data = save_pkl.load_pkl('Euclidean distance Randomized interleaved benchmarging X-rotation', 'D:\\\\qtlab\\\\ReiData\\\\data\\\\2017-07-02\\\\23-03-34')\n",
    "plt.figure()\n",
    "plt.pcolormesh(data[1]['Euclidean distance'][1][1], data[1]['Euclidean distance'][1][0], data[1]['Euclidean distance'][2][:,:,5])\n",
    "plt.colorbar()"
   ]
  },
  {
   "cell_type": "code",
   "execution_count": null,
   "metadata": {},
   "outputs": [],
   "source": [
    "data[1]"
   ]
  },
  {
   "cell_type": "code",
   "execution_count": null,
   "metadata": {
    "collapsed": true
   },
   "outputs": [],
   "source": [
    "data[1]['Euclidean distance']"
   ]
  },
  {
   "cell_type": "code",
   "execution_count": null,
   "metadata": {},
   "outputs": [],
   "source": [
    "meas = bench.measure()"
   ]
  },
  {
   "cell_type": "code",
   "execution_count": null,
   "metadata": {},
   "outputs": [],
   "source": [
    "meas['Xo']"
   ]
  },
  {
   "cell_type": "code",
   "execution_count": null,
   "metadata": {},
   "outputs": [],
   "source": [
    "import plotting\n",
    "imp.reload(plotting)\n",
    "plotting.plot_measurement(bench.reference_benchmark_result)"
   ]
  },
  {
   "cell_type": "markdown",
   "metadata": {},
   "source": [
    "# Optimizing Drag"
   ]
  },
  {
   "cell_type": "code",
   "execution_count": null,
   "metadata": {},
   "outputs": [],
   "source": [
    "num_interleved_pulses = 2\n",
    "alphas = np.linspace(-1e-8, 1e-8, 201)\n",
    "def set_drag (alpha):\n",
    "    ramsey_half = [pg.p('iq_ex', length_hd, pg.gauss_hd, amp_x_hd, 0, sigma_hd, alpha), \n",
    "                 pg.p(None, pause_length_hd)]\n",
    "    interleaved_identity = [pg.p('iq_ex', length_hd, pg.gauss_hd, -amp_x_hd, 0, sigma_hd, alpha), \n",
    "                           pg.p(None, pause_length_hd),\n",
    "                           pg.p('iq_ex', length_hd, pg.gauss_hd, amp_x_hd, 0, sigma_hd, alpha), \n",
    "                           pg.p(None, pause_length_hd)]\n",
    "    tomo.set_prepare_seq(ramsey_half+interleaved_identity*num_interleved_pulses+ramsey_half)\n",
    "    \n",
    "measurement = sweep.sweep(tomo, (alphas, set_drag, 'delta_freq'), filename='DRAG', output=False)"
   ]
  },
  {
   "cell_type": "markdown",
   "metadata": {},
   "source": [
    "### Randomized Benchmarking"
   ]
  },
  {
   "cell_type": "code",
   "execution_count": null,
   "metadata": {},
   "outputs": [],
   "source": [
    "pause_pulse = tomography.pause(pause_length, awg_channels)\n",
    "pulses = {0:tomography.ex_gauss_hd(amp_x_hd, amp_y_hd, length_hd, sigma_hd, awg_channels, -200e6/np.pi),\n",
    "          1:tomography.ex_gauss_hd(amp_y_hd, -amp_x_hd, length_hd, sigma_hd, awg_channels, -200e6/np.pi),\n",
    "          2:tomography.ex_gauss_hd(-amp_x_hd, -amp_y_hd, length_hd, sigma_hd, awg_channels, -200e6/np.pi),\n",
    "          3:tomography.ex_gauss_hd(-amp_y_hd, amp_x_hd, length_hd, sigma_hd, awg_channels, -200e6/np.pi)}\n",
    "\n",
    "unitaries = {0:np.sqrt(0.5)*np.asarray([[1, -1j],  [-1j, 1]]),\\\n",
    "             1:np.sqrt(0.5)*np.asarray([[1, -1],    [1, 1]]),\\\n",
    "             2:np.sqrt(0.5)*np.asarray([[1, 1j],   [1j, 1]]),\\\n",
    "             3:np.sqrt(0.5)*np.asarray([[1, 1],   [-1, 1]])}\n",
    "\n",
    "observables = { 'X': 0.5*np.asarray([[0, 1],   [1, 0]]),\n",
    "                'Y': 0.5*np.asarray([[0, -1j],   [1j, 0]]),\n",
    "                '-X': 0.5*np.asarray([[0, -1],   [-1, 0]]),\n",
    "                '-Y': 0.5*np.asarray([[0, 1j],   [-1j, 0]]),\n",
    "                'Z': 0.5*np.asarray([[1, 0],   [0, -1]])}\n",
    "\n",
    "initial = np.asarray([0, 1]).T\n",
    "random_pulse_ids = np.arange(20)\n",
    "num_gates = np.linspace(0, 100, 11)\n",
    "\n",
    "sequences = []\n",
    "pulse_sequences = []\n",
    "theor_projs = {o:np.zeros((len(num_gates), len(random_pulse_ids))) for o in observables.keys()}\n",
    "rho_t = np.zeros((len(num_gates), len(random_pulse_ids),2,2), dtype=np.complex)\n",
    "psis = np.zeros((len(num_gates), len(random_pulse_ids),2), dtype=np.complex)\n",
    "n=0\n",
    "\n",
    "def set_num_gates(n_new):\n",
    "    global n\n",
    "    n = n_new\n",
    "\n",
    "def set_random_sequence(id):\n",
    "    sequence = np.random.randint (4, size = n).tolist()\n",
    "    sequence_pulses = [j for i in [[pulses[i], pause_pulse] for i in sequence] for j in i]\n",
    "    sequence_unitaries = [unitaries[i] for i in sequence]\n",
    "    psi = initial.copy()\n",
    "    \n",
    "    for U in sequence_unitaries:\n",
    "        psi = np.dot(U, psi)\n",
    "    \n",
    "    rho_t[n,id,:,:] = np.einsum('i,j->ij', np.conj(psi), psi)\n",
    "    psis[n,id,:] = psi\n",
    "    \n",
    "    sequences.append(sequence)\n",
    "    for o in observables.keys():\n",
    "        theor_projs[o][n,id] = np.dot(np.dot(np.conj(psi), observables[o]), psi)\n",
    "    \n",
    "    tomo_hd.set_prepare_seq(sequence_pulses)\n",
    "    pulse_sequences.append(sequence_pulses)\n",
    "    \n",
    "m = sweep.sweep(tomo_hd, (num_gates, set_num_gates, 'gate num'), (random_pulse_ids, set_random_sequence, 'random seq id'), filename='RB', output=False)\n",
    "X = (m['X'][2]-m['-X'][2])/2.\n",
    "Y = (m['Y'][2]-m['-Y'][2])/2.\n",
    "Z = m['Z'][2]\n",
    "rho_m = np.transpose([[0.5+Z, X+1j*Y], [X-1j*Y, 0.5-Z]], [2,3,0,1])\n",
    "fidelities = np.sqrt(np.einsum('nmi,nmji,nmj->nm', np.conj(psis), rho_m, psis))\n",
    "\n",
    "m['Fidelity'] = [d for d in m['X']]\n",
    "m['Fidelity'][2] = np.asarray(fidelities, dtype=np.float)\n",
    "for o,O in observables.items():\n",
    "    m[o+' fit'] = [d for d in m[o]]\n",
    "    m[o+' fit'][2] = np.asarray(theor_projs[o], dtype=np.float)\n",
    "#m['rho_t'] = m['X'].copy()\n",
    "save_pkl.save_pkl({'type':'Randomized benchmark Clifford'}, m)"
   ]
  },
  {
   "cell_type": "code",
   "execution_count": null,
   "metadata": {
    "collapsed": true
   },
   "outputs": [],
   "source": [
    "plt.plot(m['Fidelity'][1]m['Fidelity'])"
   ]
  },
  {
   "cell_type": "code",
   "execution_count": null,
   "metadata": {},
   "outputs": [],
   "source": [
    "rho_m"
   ]
  },
  {
   "cell_type": "code",
   "execution_count": null,
   "metadata": {
    "collapsed": true
   },
   "outputs": [],
   "source": [
    "plt.plot(m['Fidelity'][1][0], np.mean(m['Fidelity'][2],axis=1))\n",
    "plt.xlabel('gate num')\n",
    "plt.ylabel('fidelity')\n",
    "plt.grid()"
   ]
  },
  {
   "cell_type": "code",
   "execution_count": null,
   "metadata": {
    "scrolled": true
   },
   "outputs": [],
   "source": [
    "rho_m = np.transpose([[0.5+Z, X+1j*Y], [X-1j*Y, 0.5-Z]], [2,3,0,1])\n",
    "fidelities = np.sqrt(np.einsum('mni,mnji,mnj->mn', np.conj(psis), rho_m, psis))\n",
    "\n",
    "m['Fidelity'] = [d for d in m['X']]\n",
    "m['Fidelity'][2] = np.asarray(fidelities, dtype=np.float)\n",
    "for o,O in observables.items():\n",
    "    m[o+' fit'] = [d for d in m[o]]\n",
    "    m[o+' fit'][2] = np.asarray(theor_projs[o], dtype=np.float)\n",
    "#m['rho_t'] = m['X'].copy()\n",
    "save_pkl.save_pkl({'type':'Randomized benchmark Clifford'}, m)"
   ]
  },
  {
   "cell_type": "code",
   "execution_count": null,
   "metadata": {},
   "outputs": [],
   "source": [
    "m"
   ]
  },
  {
   "cell_type": "code",
   "execution_count": null,
   "metadata": {
    "collapsed": true
   },
   "outputs": [],
   "source": []
  },
  {
   "cell_type": "code",
   "execution_count": null,
   "metadata": {},
   "outputs": [],
   "source": [
    "fidelities"
   ]
  },
  {
   "cell_type": "code",
   "execution_count": null,
   "metadata": {},
   "outputs": [],
   "source": [
    "psis"
   ]
  },
  {
   "cell_type": "code",
   "execution_count": null,
   "metadata": {},
   "outputs": [],
   "source": [
    "rho_m"
   ]
  },
  {
   "cell_type": "code",
   "execution_count": null,
   "metadata": {},
   "outputs": [],
   "source": [
    "rho_t"
   ]
  },
  {
   "cell_type": "code",
   "execution_count": null,
   "metadata": {},
   "outputs": [],
   "source": [
    "measurement['theory'] = thoer_proj\n",
    "save_pkl.save_pkl({'type':'Randomized benchmark Clifford'}, measurement)"
   ]
  },
  {
   "cell_type": "code",
   "execution_count": null,
   "metadata": {},
   "outputs": [],
   "source": [
    "print(theor_projs)\n",
    "print(measurement)\n",
    "print(psis)\n",
    "print (sequences)\n",
    "print (rho_t)\n",
    "print (rho_m)"
   ]
  },
  {
   "cell_type": "code",
   "execution_count": null,
   "metadata": {},
   "outputs": [],
   "source": [
    "np.dot(np.conj(psis[1]), np.dot(observables['Y'],psis[1]))"
   ]
  },
  {
   "cell_type": "code",
   "execution_count": null,
   "metadata": {},
   "outputs": [],
   "source": [
    "num_pulses = np.round(np.arange(0, 41)).astype(np.int)\n",
    "\n",
    "def set_num_pulses(n):\n",
    "    tomoz.set_prepare_seq([tomography.ex_gauss(amp_x, length, sigma, awg_channels), \n",
    "                          tomography.pause(pause_length, awg_channels)]*n)\n",
    "\n",
    "measurement = sweep.sweep(tomoz, (num_pulses, set_num_pulses, 'SX pi2 pulse num'), filename='Rabi', output=False)"
   ]
  },
  {
   "cell_type": "code",
   "execution_count": null,
   "metadata": {},
   "outputs": [],
   "source": [
    "num_pulses = np.round(np.arange(0, 21)).astype(np.int)\n",
    "\n",
    "def set_num_pulses(n):\n",
    "    tomo.set_prepare_seq([tomography.ex_gauss_hd(amp_x_hd, amp_y_hd, length_hd, sigma_hd, awg_channels, -200e6/np.pi), \n",
    "                          tomography.pause(pause_length, awg_channels)]*n)\n",
    "\n",
    "measurement = sweep.sweep(tomo, (num_pulses, set_num_pulses, 'SX pi2 pulse num'), filename='Rabi', output=False)"
   ]
  },
  {
   "cell_type": "code",
   "execution_count": null,
   "metadata": {},
   "outputs": [],
   "source": [
    "num_pulses = np.round(np.arange(0, 21)).astype(np.int)\n",
    "\n",
    "def set_num_pulses(n):\n",
    "    tomo.set_prepare_seq([tomography.ex_gauss(amp_x_hd, length_hd, sigma_hd, awg_channels), \n",
    "                          tomography.pause(pause_length, awg_channels)]*n)\n",
    "\n",
    "measurement = sweep.sweep(tomo, (num_pulses, set_num_pulses, 'SX pi2 pulse num'), filename='Rabi', output=False)"
   ]
  },
  {
   "cell_type": "code",
   "execution_count": null,
   "metadata": {},
   "outputs": [],
   "source": [
    "ex_amplitude=0.25\n",
    "lengths = np.linspace(0e-9, 200e-9, 51)\n",
    "readout_begin = np.max(lengths)\n",
    "\n",
    "def set_ex_length(length):\n",
    "    tomo.set_prepare_seq([tomography.ex_rect(ex_amplitude, length, awg_channels), tomography.pause(pause_length, awg_channels)])\n",
    "\n",
    "measurement = sweep.sweep(tomo, (lengths, set_ex_length, 'Rabi x-axis pulse length'), filename='Rabi', output=False)"
   ]
  },
  {
   "cell_type": "code",
   "execution_count": null,
   "metadata": {},
   "outputs": [],
   "source": [
    "from mpl_toolkits.mplot3d import Axes3D\n",
    "fig = plt.figure()\n",
    "ax = fig.add_subplot(111, projection='3d')\n",
    "ax.plot(measurement ['X'][2], measurement ['Y'][2], measurement ['Z'][2], c='r', marker='o')\n",
    "ax.set_xlabel('X')\n",
    "ax.set_ylabel('Y')\n",
    "ax.set_zlabel('Z')\n",
    "ax.set_xlim([-0.6, 0.6])\n",
    "ax.set_ylim([-0.6, 0.6])\n",
    "ax.set_zlim([-0.6, 0.6])"
   ]
  },
  {
   "cell_type": "code",
   "execution_count": null,
   "metadata": {},
   "outputs": [],
   "source": [
    "ex_amplitude = 0.25\n",
    "pause_length = 16e-9\n",
    "lengths = np.linspace(0e-9, 2000e-9, 2001)\n",
    "readout_begin = np.max(lengths)\n",
    "\n",
    "def set_ex_length(length):\n",
    "    tomo.set_prepare_seq([tomography.ex_rect(1j*ex_amplitude, length, awg_channels), tomography.pause(pause_length, awg_channels)])\n",
    "\n",
    "measurement = sweep.sweep(tomo, (lengths, set_ex_length, 'Rabi y-axis pulse length'), filename='Rabi', output=False)"
   ]
  },
  {
   "cell_type": "markdown",
   "metadata": {},
   "source": [
    "### Optimizing phase between x and y pulses"
   ]
  },
  {
   "cell_type": "code",
   "execution_count": null,
   "metadata": {},
   "outputs": [],
   "source": [
    "c_phase = 0\n",
    "c_n = 0\n",
    "\n",
    "adc.set_software_averages(1)\n",
    "adc.set_software_nums_multi(3)\n",
    "\n",
    "def set_n(n):\n",
    "    global c_n\n",
    "    global c_phase\n",
    "    c_n = n \n",
    "    y_pulse = [tomography.ex_gauss_hd(amp_x_hd*np.exp(1j*c_phase), amp_y_hd*np.exp(1j*c_phase), length_hd, sigma_hd, awg_channels, -200e6), tomography.pause(pause_length, awg_channels)]\n",
    "    tomo.set_prepare_seq(y_pulse*c_n)\n",
    "\n",
    "def set_y_phase(phase):\n",
    "    global c_n\n",
    "    global c_phase\n",
    "    c_phase = phase\n",
    "    y_pulse = [tomography.ex_gauss_hd(amp_x_hd*np.exp(1j*c_phase), amp_y_hd*np.exp(1j*c_phase), length_hd, sigma_hd, awg_channels, -200e6), tomography.pause(pause_length, awg_channels)]\n",
    "    tomo.set_prepare_seq(y_pulse*c_n)\n",
    "\n",
    "phases = np.linspace(np.pi/2.*0.8, np.pi/2.*1.2, 11, endpoint=False)\n",
    "num_pulses = np.arange(0,5)\n",
    "measurement = sweep.sweep(tomo, (phases, set_y_phase, 'y-pulse phase'), (num_pulses, set_n, 'y pulse num'), filename='y-phase', output=False)"
   ]
  },
  {
   "cell_type": "code",
   "execution_count": null,
   "metadata": {},
   "outputs": [],
   "source": [
    "phases[7]"
   ]
  },
  {
   "cell_type": "code",
   "execution_count": null,
   "metadata": {},
   "outputs": [],
   "source": [
    "plt.plot(np.asarray(results).T)"
   ]
  },
  {
   "cell_type": "code",
   "execution_count": null,
   "metadata": {
    "collapsed": true
   },
   "outputs": [],
   "source": [
    "adc.stop()"
   ]
  },
  {
   "cell_type": "code",
   "execution_count": null,
   "metadata": {
    "collapsed": true
   },
   "outputs": [],
   "source": [
    "plt.close()"
   ]
  },
  {
   "cell_type": "markdown",
   "metadata": {
    "collapsed": true
   },
   "source": [
    "# load calibration data"
   ]
  },
  {
   "cell_type": "code",
   "execution_count": null,
   "metadata": {
    "collapsed": true
   },
   "outputs": [],
   "source": [
    "import pickle\n",
    "f0 = open('D:\\\\qtlab\\\\ReiData\\\\data\\\\2017-04-26\\\\13-11-46\\\\Voltage ro calibration.pkl', 'rb')\n",
    "f1 = open('D:\\\\qtlab\\\\ReiData\\\\data\\\\2017-04-26\\\\13-11-14\\\\Voltage ro calibration.pkl', 'rb')\n",
    "cal0 = pickle.load(f0)\n",
    "cal1 = pickle.load(f1)"
   ]
  },
  {
   "cell_type": "code",
   "execution_count": null,
   "metadata": {
    "collapsed": true
   },
   "outputs": [],
   "source": [
    "import numpy as np\n",
    "import matplotlib.pyplot as plt\n",
    "%matplotlib qt4\n",
    "cal0_nomean = cal0[1]['Voltage'][2][0,:,:]-np.mean(cal0[1]['Voltage'][2][0,:,:])\n",
    "cal1_nomean = cal0[1]['Voltage'][2][1,:,:]-np.mean(cal0[1]['Voltage'][2][1,:,:])\n",
    "\n",
    "cal0_mean = np.mean(cal0_nomean, axis=0)\n",
    "cal1_mean = np.mean(cal1_nomean, axis=0)"
   ]
  },
  {
   "cell_type": "code",
   "execution_count": null,
   "metadata": {},
   "outputs": [],
   "source": [
    "cal_mean = (cal0_mean+cal1_mean)/2.\n",
    "cal_diff = (cal1_mean-cal0_mean)\n",
    "\n",
    "plt.figure('Samples')\n",
    "plt.plot(np.mean(cal0_nomean, axis=0), label='|0>')\n",
    "plt.plot(np.mean(cal1_nomean, axis=0), label='|1>')\n",
    "plt.legend()\n",
    "\n",
    "plt.figure('Offset & feature')\n",
    "plt.plot(cal_mean, label='mean')\n",
    "plt.plot(cal_diff, label='diff')\n",
    "plt.legend()"
   ]
  },
  {
   "cell_type": "code",
   "execution_count": null,
   "metadata": {
    "collapsed": true
   },
   "outputs": [],
   "source": [
    "plt.figure('Fourier domain')\n",
    "plt.plot(np.abs(np.fft.fft(cal0_mean)), label='|0>')\n",
    "plt.plot(np.abs(np.fft.fft(cal1_mean)), label='|1>') \n",
    "plt.plot(np.abs(np.fft.fft(cal_mean)), label='mean')\n",
    "plt.plot(np.abs(np.fft.fft(cal_diff)), label='diff')\n",
    "plt.legend()\n",
    "\n",
    "feature = np.conj(cal_diff/np.sum(np.abs(cal_diff**2)))"
   ]
  },
  {
   "cell_type": "code",
   "execution_count": null,
   "metadata": {
    "collapsed": true
   },
   "outputs": [],
   "source": [
    "coeffs0 = np.dot(cal0_nomean-cal_mean, feature)\n",
    "coeffs1 = np.dot(cal1_nomean-cal_mean, feature)\n",
    "predictions = np.asarray([np.real(coeffs0), np.real(coeffs1)])"
   ]
  },
  {
   "cell_type": "code",
   "execution_count": null,
   "metadata": {
    "collapsed": true
   },
   "outputs": [],
   "source": [
    "hist_all, bins = np.histogram(predictions, bins='auto')\n",
    "proba_points = (bins[1:]+bins[:-1])/2.\n",
    "hists = []\n",
    "for y in range(2):\n",
    "    hists.append(np.histogram(predictions[y,:], bins=bins)[0])\n",
    "\n",
    "hists = np.asarray(hists, dtype=float)\n",
    "probabilities = hists/hist_all\n",
    "naive_probabilities = np.asarray([proba_points<0, proba_points>0], dtype=float)\n",
    "probabilities[np.isnan(probabilities)] = naive_probabilities[np.isnan(probabilities)]\n",
    "predictor = lambda x: np.interp(x, proba_points, probabilities[1,:], left=0., right=1.)\n",
    "calib_proba_points = proba_points\n",
    "calib_proba = probabilities[1,:]\n",
    "calib_hists = hists"
   ]
  },
  {
   "cell_type": "code",
   "execution_count": null,
   "metadata": {
    "collapsed": true
   },
   "outputs": [],
   "source": [
    "from sklearn.metrics import roc_curve, roc_auc_score\n",
    "roc = roc_curve([0]*coeffs0.size+[1]*coeffs0.size, predictor(predictions.ravel()))\n",
    "roc_auc = roc_auc_score([0]*coeffs0.size+[1]*coeffs0.size, predictor(predictions.ravel()))"
   ]
  },
  {
   "cell_type": "code",
   "execution_count": null,
   "metadata": {},
   "outputs": [],
   "source": [
    "plt.figure('ROC')\n",
    "plt.plot(roc[0], roc[1])\n",
    "plt.xlabel('True Positive Rate')\n",
    "plt.ylabel('True Negative Rate')\n",
    "roc_auc"
   ]
  },
  {
   "cell_type": "code",
   "execution_count": null,
   "metadata": {},
   "outputs": [],
   "source": [
    "plt.figure('probability curve')\n",
    "plt.plot(calib_proba_points, calib_proba)"
   ]
  },
  {
   "cell_type": "code",
   "execution_count": null,
   "metadata": {},
   "outputs": [],
   "source": [
    "plt.figure('Readout hists')\n",
    "plt.bar(proba_points-0.25, hists[0], width=0.05, label='|0>')\n",
    "plt.bar(proba_points+0.25, hists[1], width=0.05, label='|1>')\n",
    "plt.legend()"
   ]
  },
  {
   "cell_type": "code",
   "execution_count": null,
   "metadata": {
    "collapsed": true
   },
   "outputs": [],
   "source": [
    "plt.close()"
   ]
  },
  {
   "cell_type": "code",
   "execution_count": null,
   "metadata": {},
   "outputs": [],
   "source": [
    "cal0_nomean.shape"
   ]
  },
  {
   "cell_type": "code",
   "execution_count": null,
   "metadata": {},
   "outputs": [],
   "source": [
    "plt.figure(figsize=(12,3))\n",
    "plt.imshow(np.sum(np.real(np.reshape(cal0_nomean, (200, 100, 1024))), axis=0), cmap='RdBu')\n",
    "plt.figure(figsize=(12,3))\n",
    "plt.imshow(np.sum(np.real(np.reshape(cal1_nomean, (200, 100, 1024))), axis=0), cmap='RdBu')"
   ]
  },
  {
   "cell_type": "code",
   "execution_count": null,
   "metadata": {},
   "outputs": [],
   "source": [
    "plt.plot(np.mean(cal0_nomean, axis=0))\n",
    "plt.plot(np.mean(cal1_nomean, axis=0))"
   ]
  },
  {
   "cell_type": "code",
   "execution_count": null,
   "metadata": {
    "collapsed": true
   },
   "outputs": [],
   "source": []
  }
 ],
 "metadata": {
  "kernelspec": {
   "display_name": "Python 3",
   "language": "python",
   "name": "python3"
  },
  "language_info": {
   "codemirror_mode": {
    "name": "ipython",
    "version": 3
   },
   "file_extension": ".py",
   "mimetype": "text/x-python",
   "name": "python",
   "nbconvert_exporter": "python",
   "pygments_lexer": "ipython3",
   "version": "3.6.1"
  }
 },
 "nbformat": 4,
 "nbformat_minor": 1
}
