{
 "cells": [
  {
   "cell_type": "code",
   "execution_count": 62,
   "metadata": {
    "ExecuteTime": {
     "end_time": "2019-09-04T17:41:04.782075Z",
     "start_time": "2019-09-04T17:41:04.742080Z"
    }
   },
   "outputs": [],
   "source": [
    "import visa\n",
    "import numpy as np\n",
    "import pandas as pd\n",
    "import tqdm\n",
    "import time"
   ]
  },
  {
   "cell_type": "code",
   "execution_count": 63,
   "metadata": {
    "ExecuteTime": {
     "end_time": "2019-09-04T17:41:06.011963Z",
     "start_time": "2019-09-04T17:41:05.631998Z"
    }
   },
   "outputs": [],
   "source": [
    "vi = visa.ResourceManager()\n",
    "vna = vi.open_resource('TCPIP0::10.20.61.161::inst0::INSTR')"
   ]
  },
  {
   "cell_type": "code",
   "execution_count": 64,
   "metadata": {
    "ExecuteTime": {
     "end_time": "2019-09-04T17:41:06.861886Z",
     "start_time": "2019-09-04T17:41:06.841889Z"
    }
   },
   "outputs": [],
   "source": [
    "S21_complex = {}\n",
    "T='500mK_040919_res#2'\n",
    "sample = {'name':'Bolometer',\n",
    "          'f_min':4.1484e9,\n",
    "          'f_max':4.1584e9,\n",
    "          'bw': 100,\n",
    "          'nop': 2001,\n",
    "          'averages':4}"
   ]
  },
  {
   "cell_type": "code",
   "execution_count": 65,
   "metadata": {
    "ExecuteTime": {
     "end_time": "2019-09-04T17:41:08.091777Z",
     "start_time": "2019-09-04T17:41:08.021783Z"
    }
   },
   "outputs": [
    {
     "name": "stdout",
     "output_type": "stream",
     "text": [
      "21.0905\n"
     ]
    }
   ],
   "source": [
    "powers=np.arange(-10,2.5,2.5)\n",
    "vna.write('INIT:CONT 0;')\n",
    "vna.query('*OPC?')\n",
    "\n",
    "vna.write('SENS:FREQ:STAR {};'.format(sample['f_min']))\n",
    "vna.write('SENS:FREQ:STOP {};'.format(sample['f_max']))\n",
    "vna.write('SENS:SWE:POIN {};'.format (sample['nop']))\n",
    "vna.write('SENS:BAND {};'.format(sample['bw']))\n",
    "vna.write('SENS:AVER:STAT ON')\n",
    "vna.write('SENS:AVER:COUN {}'.format(sample['averages']))\n",
    "vna.write('FORMAT REAL,32; FORMat:BORDer SWAP;')\n",
    "f = np.linspace(sample['f_min'], sample['f_max'], sample['nop'])\n",
    "sweep_time=float(vna.query('SENS:SWE:TIME?'))\n",
    "vna.timeout = (sweep_time+1)*1000 # in milliseconds\n",
    "print(sweep_time)"
   ]
  },
  {
   "cell_type": "code",
   "execution_count": 66,
   "metadata": {
    "ExecuteTime": {
     "end_time": "2019-09-04T17:48:17.562794Z",
     "start_time": "2019-09-04T17:41:09.201675Z"
    }
   },
   "outputs": [
    {
     "name": "stderr",
     "output_type": "stream",
     "text": [
      "\n",
      "\n",
      "\n",
      "\n",
      "\n",
      "\n",
      "\n",
      "  0%|                                                                                            | 0/5 [00:00<?, ?it/s]\n",
      "\n",
      "\n",
      "\n",
      "\n",
      "\n",
      "\n",
      " 20%|████████████████▊                                                                   | 1/5 [01:25<05:42, 85.59s/it]\n",
      "\n",
      "\n",
      "\n",
      "\n",
      "\n",
      "\n",
      " 40%|█████████████████████████████████▌                                                  | 2/5 [02:51<04:16, 85.61s/it]\n",
      "\n",
      "\n",
      "\n",
      "\n",
      "\n",
      "\n",
      " 60%|██████████████████████████████████████████████████▍                                 | 3/5 [04:16<02:51, 85.62s/it]\n",
      "\n",
      "\n",
      "\n",
      "\n",
      "\n",
      "\n",
      " 80%|███████████████████████████████████████████████████████████████████▏                | 4/5 [05:42<01:25, 85.63s/it]\n",
      "\n",
      "\n",
      "\n",
      "\n",
      "\n",
      "\n",
      "100%|████████████████████████████████████████████████████████████████████████████████████| 5/5 [07:08<00:00, 85.64s/it]\n",
      "\n",
      "\n",
      "\n",
      "\n",
      "\n",
      "\n"
     ]
    },
    {
     "data": {
      "text/plain": [
       "(14, <StatusCode.success: 0>)"
      ]
     },
     "execution_count": 66,
     "metadata": {},
     "output_type": "execute_result"
    }
   ],
   "source": [
    "for power in tqdm.tqdm(powers):\n",
    "    time.sleep(10)\n",
    "    vna.write('SOUR:POW {};'.format(power))\n",
    "    for i in range(sample['averages']):\n",
    "        vna.write('INIT:IMM;')\n",
    "        vna.query('*OPC?')\n",
    "    result = np.asarray(vna.query_binary_values('CALC:DATA? SDATA', datatype=u'f'))\n",
    "    S21_complex[power] = (result[::2]+1j*result[1::2])\n",
    "vna.write('INIT:CONT 1;')"
   ]
  },
  {
   "cell_type": "code",
   "execution_count": 67,
   "metadata": {
    "ExecuteTime": {
     "end_time": "2019-09-04T17:48:28.481802Z",
     "start_time": "2019-09-04T17:48:27.791839Z"
    }
   },
   "outputs": [],
   "source": [
    "#запись в файл\n",
    "S21_complex = pd.DataFrame(S21_complex, index=f)\n",
    "S21_dB = np.log10(np.abs(S21_complex))*20\n",
    "S21_phase = pd.DataFrame(np.unwrap(np.angle(S21_complex)), index=f)\n",
    "S21_complex.to_csv(r'C:\\Users\\cryopxi\\Documents\\Alexey\\T{}-complex.csv'.format(T))\n",
    "S21_dB.to_csv(r'C:\\Users\\cryopxi\\Documents\\Alexey\\T{}-dB.csv'.format(T))\n",
    "S21_phase.to_csv(r'C:\\Users\\cryopxi\\Documents\\Alexey\\T{}-phase.csv'.format(T))"
   ]
  },
  {
   "cell_type": "code",
   "execution_count": 35,
   "metadata": {
    "ExecuteTime": {
     "end_time": "2019-08-29T18:11:31.525312Z",
     "start_time": "2019-08-29T18:11:31.519333Z"
    }
   },
   "outputs": [
    {
     "data": {
      "text/plain": [
       "(20, <StatusCode.success: 0>)"
      ]
     },
     "execution_count": 35,
     "metadata": {},
     "output_type": "execute_result"
    }
   ],
   "source": [
    "vna.write('SENS:AVER:MODE SWE')"
   ]
  },
  {
   "cell_type": "code",
   "execution_count": 10,
   "metadata": {
    "ExecuteTime": {
     "end_time": "2019-08-29T16:12:15.997599Z",
     "start_time": "2019-08-29T16:12:15.991602Z"
    }
   },
   "outputs": [
    {
     "data": {
      "text/plain": [
       "(19, <StatusCode.success: 0>)"
      ]
     },
     "execution_count": 10,
     "metadata": {},
     "output_type": "execute_result"
    }
   ],
   "source": [
    "vna.write('SENS:AVER:STAT ON')\n",
    "vna.write('SENS:AVER:COUN {}'.format(sample['averages']))"
   ]
  },
  {
   "cell_type": "code",
   "execution_count": 14,
   "metadata": {
    "ExecuteTime": {
     "end_time": "2019-08-29T16:13:58.021041Z",
     "start_time": "2019-08-29T16:13:58.015045Z"
    }
   },
   "outputs": [
    {
     "data": {
      "text/plain": [
       "(18, <StatusCode.success: 0>)"
      ]
     },
     "execution_count": 14,
     "metadata": {},
     "output_type": "execute_result"
    }
   ],
   "source": [
    "vna.write('SENS:AVER:COUN {}'.format(sample['averages']))"
   ]
  },
  {
   "cell_type": "code",
   "execution_count": 7,
   "metadata": {
    "ExecuteTime": {
     "end_time": "2019-08-29T18:48:55.686988Z",
     "start_time": "2019-08-29T18:48:55.428131Z"
    }
   },
   "outputs": [],
   "source": [
    "import pandas as pd\n",
    "\n",
    "import matplotlib.pyplot as plt"
   ]
  },
  {
   "cell_type": "code",
   "execution_count": null,
   "metadata": {
    "ExecuteTime": {
     "end_time": "2019-09-04T15:04:23.213169Z",
     "start_time": "2019-09-04T15:03:48.646Z"
    }
   },
   "outputs": [],
   "source": [
    "gr=pd.read_csv('C:/Users/cryopxi/Documents/Alexey/T24mK_040919_res#1-dB.csv',header=0, sep=',')"
   ]
  },
  {
   "cell_type": "code",
   "execution_count": 61,
   "metadata": {
    "ExecuteTime": {
     "end_time": "2019-08-29T19:49:05.061992Z",
     "start_time": "2019-08-29T19:49:05.047998Z"
    }
   },
   "outputs": [
    {
     "data": {
      "text/html": [
       "<div>\n",
       "<style scoped>\n",
       "    .dataframe tbody tr th:only-of-type {\n",
       "        vertical-align: middle;\n",
       "    }\n",
       "\n",
       "    .dataframe tbody tr th {\n",
       "        vertical-align: top;\n",
       "    }\n",
       "\n",
       "    .dataframe thead th {\n",
       "        text-align: right;\n",
       "    }\n",
       "</style>\n",
       "<table border=\"1\" class=\"dataframe\">\n",
       "  <thead>\n",
       "    <tr style=\"text-align: right;\">\n",
       "      <th></th>\n",
       "      <th>Unnamed: 0</th>\n",
       "      <th>-40.0</th>\n",
       "      <th>-37.5</th>\n",
       "      <th>-35.0</th>\n",
       "      <th>-32.5</th>\n",
       "    </tr>\n",
       "  </thead>\n",
       "  <tbody>\n",
       "    <tr>\n",
       "      <th>0</th>\n",
       "      <td>1.480600e+09</td>\n",
       "      <td>-30.178331</td>\n",
       "      <td>-30.178002</td>\n",
       "      <td>-30.172563</td>\n",
       "      <td>-30.175381</td>\n",
       "    </tr>\n",
       "    <tr>\n",
       "      <th>1</th>\n",
       "      <td>1.480600e+09</td>\n",
       "      <td>-30.210178</td>\n",
       "      <td>-30.182538</td>\n",
       "      <td>-30.176621</td>\n",
       "      <td>-30.180605</td>\n",
       "    </tr>\n",
       "    <tr>\n",
       "      <th>2</th>\n",
       "      <td>1.480600e+09</td>\n",
       "      <td>-30.197321</td>\n",
       "      <td>-30.181660</td>\n",
       "      <td>-30.186808</td>\n",
       "      <td>-30.174054</td>\n",
       "    </tr>\n",
       "    <tr>\n",
       "      <th>3</th>\n",
       "      <td>1.480600e+09</td>\n",
       "      <td>-30.172105</td>\n",
       "      <td>-30.167772</td>\n",
       "      <td>-30.172188</td>\n",
       "      <td>-30.181042</td>\n",
       "    </tr>\n",
       "    <tr>\n",
       "      <th>4</th>\n",
       "      <td>1.480600e+09</td>\n",
       "      <td>-30.204848</td>\n",
       "      <td>-30.193540</td>\n",
       "      <td>-30.180763</td>\n",
       "      <td>-30.180008</td>\n",
       "    </tr>\n",
       "  </tbody>\n",
       "</table>\n",
       "</div>"
      ],
      "text/plain": [
       "     Unnamed: 0      -40.0      -37.5      -35.0      -32.5\n",
       "0  1.480600e+09 -30.178331 -30.178002 -30.172563 -30.175381\n",
       "1  1.480600e+09 -30.210178 -30.182538 -30.176621 -30.180605\n",
       "2  1.480600e+09 -30.197321 -30.181660 -30.186808 -30.174054\n",
       "3  1.480600e+09 -30.172105 -30.167772 -30.172188 -30.181042\n",
       "4  1.480600e+09 -30.204848 -30.193540 -30.180763 -30.180008"
      ]
     },
     "execution_count": 61,
     "metadata": {},
     "output_type": "execute_result"
    }
   ],
   "source": [
    "gr.head(5)"
   ]
  },
  {
   "cell_type": "code",
   "execution_count": 63,
   "metadata": {
    "ExecuteTime": {
     "end_time": "2019-08-29T19:49:16.421910Z",
     "start_time": "2019-08-29T19:49:16.159036Z"
    }
   },
   "outputs": [
    {
     "data": {
      "image/png": "[encoded data removed]",
      "text/plain": [
       "<Figure size 720x720 with 1 Axes>"
      ]
     },
     "metadata": {},
     "output_type": "display_data"
    }
   ],
   "source": [
    "f=gr.iloc[0:,0:1]\n",
    "#print(f)\n",
    "plt.figure(figsize=(10,10))\n",
    "for i in range (1,4,1):\n",
    "    power=list(gr.columns.values)\n",
    "    S21=gr.iloc[0:,i:i+1]\n",
    "    plt.plot(f,S21,label=power[i+1]+ ' dBm')\n",
    "    plt.legend(fontsize=10)\n",
    "    plt.xlabel('Frequency')\n",
    "    plt.ylabel('S21')"
   ]
  },
  {
   "cell_type": "code",
   "execution_count": null,
   "metadata": {
    "ExecuteTime": {
     "end_time": "2019-08-29T18:59:37.360609Z",
     "start_time": "2019-08-29T18:59:37.341612Z"
    }
   },
   "outputs": [],
   "source": []
  },
  {
   "cell_type": "code",
   "execution_count": null,
   "metadata": {
    "ExecuteTime": {
     "end_time": "2019-08-29T18:59:39.091500Z",
     "start_time": "2019-08-29T18:59:38.866603Z"
    }
   },
   "outputs": [],
   "source": []
  },
  {
   "cell_type": "code",
   "execution_count": null,
   "metadata": {
    "ExecuteTime": {
     "end_time": "2019-08-29T18:28:47.977703Z",
     "start_time": "2019-08-29T18:28:47.969683Z"
    }
   },
   "outputs": [],
   "source": []
  },
  {
   "cell_type": "code",
   "execution_count": null,
   "metadata": {
    "ExecuteTime": {
     "end_time": "2019-08-29T18:29:04.488109Z",
     "start_time": "2019-08-29T18:29:04.483091Z"
    }
   },
   "outputs": [],
   "source": []
  },
  {
   "cell_type": "code",
   "execution_count": 54,
   "metadata": {
    "ExecuteTime": {
     "end_time": "2019-08-29T19:37:19.755298Z",
     "start_time": "2019-08-29T19:37:19.750300Z"
    }
   },
   "outputs": [
    {
     "data": {
      "text/plain": [
       "(14, <StatusCode.success: 0>)"
      ]
     },
     "execution_count": 54,
     "metadata": {},
     "output_type": "execute_result"
    }
   ],
   "source": [
    "vna.write('INIT:CONT 1;')"
   ]
  },
  {
   "cell_type": "code",
   "execution_count": 15,
   "metadata": {
    "ExecuteTime": {
     "end_time": "2019-08-31T15:47:22.802704Z",
     "start_time": "2019-08-31T15:47:22.796690Z"
    }
   },
   "outputs": [
    {
     "data": {
      "text/plain": [
       "(14, <StatusCode.success: 0>)"
      ]
     },
     "execution_count": 15,
     "metadata": {},
     "output_type": "execute_result"
    }
   ],
   "source": [
    "vna.write('INIT:CONT 1;')"
   ]
  },
  {
   "cell_type": "code",
   "execution_count": 47,
   "metadata": {
    "ExecuteTime": {
     "end_time": "2019-09-04T16:52:10.398894Z",
     "start_time": "2019-09-04T16:52:10.238907Z"
    }
   },
   "outputs": [
    {
     "name": "stdout",
     "output_type": "stream",
     "text": [
      "[ 0.00959594 -0.00781356  0.00960395 ...  0.00205438  0.01176183\n",
      "  0.00205426]\n"
     ]
    }
   ],
   "source": [
    "print(result)"
   ]
  },
  {
   "cell_type": "code",
   "execution_count": null,
   "metadata": {},
   "outputs": [],
   "source": []
  }
 ],
 "metadata": {
  "kernelspec": {
   "display_name": "Python 3",
   "language": "python",
   "name": "python3"
  },
  "language_info": {
   "codemirror_mode": {
    "name": "ipython",
    "version": 3
   },
   "file_extension": ".py",
   "mimetype": "text/x-python",
   "name": "python",
   "nbconvert_exporter": "python",
   "pygments_lexer": "ipython3",
   "version": "3.6.5"
  },
  "toc": {
   "base_numbering": 1,
   "nav_menu": {},
   "number_sections": true,
   "sideBar": true,
   "skip_h1_title": false,
   "title_cell": "Table of Contents",
   "title_sidebar": "Contents",
   "toc_cell": false,
   "toc_position": {},
   "toc_section_display": true,
   "toc_window_display": false
  }
 },
 "nbformat": 4,
 "nbformat_minor": 2
}
