{
 "cells": [
  {
   "cell_type": "code",
   "execution_count": 2,
   "metadata": {
    "ExecuteTime": {
     "end_time": "2019-11-20T11:37:05.747110Z",
     "start_time": "2019-11-20T11:36:54.314207Z"
    }
   },
   "outputs": [
    {
     "name": "stdout",
     "output_type": "stream",
     "text": [
      "Populating the interactive namespace from numpy and matplotlib\n",
      "Failed loading module Keysight_M3102A:  No module named 'keysightSD1'\n",
      "Failed loading module Keysight_M3202A:  No module named 'keysightSD1'\n",
      "[WinError 126] The specified module could not be found\n",
      "Failed loading module Signal_Hound_SA:  name 'signal_hound_dll' is not defined\n"
     ]
    }
   ],
   "source": [
    "%pylab inline\n",
    "from qsweepy import *\n",
    "from qsweepy.ponyfiles import *\n",
    "\n",
    "import numpy as np\n",
    "from importlib import reload\n",
    "from scipy.io import savemat"
   ]
  },
  {
   "cell_type": "code",
   "execution_count": 3,
   "metadata": {
    "ExecuteTime": {
     "end_time": "2019-11-20T11:37:06.077906Z",
     "start_time": "2019-11-20T11:37:05.749110Z"
    }
   },
   "outputs": [],
   "source": [
    "sample_name = None\n",
    "db = database.MyDatabase()\n",
    "exdir_db_inst = exdir_db.Exdir_db(db=db, sample_name=sample_name)"
   ]
  },
  {
   "cell_type": "code",
   "execution_count": 4,
   "metadata": {
    "ExecuteTime": {
     "end_time": "2019-11-20T11:37:06.630562Z",
     "start_time": "2019-11-20T11:37:06.080904Z"
    }
   },
   "outputs": [
    {
     "name": "stdout",
     "output_type": "stream",
     "text": [
      "Exdir_db.select_measurement_by_id: trying to load measurement state by id:  d:\\data\\2019-08-19\\001236-process_tomography_iswap-1906-002_4_down\n"
     ]
    },
    {
     "ename": "KeyError",
     "evalue": "'resultnumbers'",
     "output_type": "error",
     "traceback": [
      "\u001b[1;31m---------------------------------------------------------------------------\u001b[0m",
      "\u001b[1;31mKeyError\u001b[0m                                  Traceback (most recent call last)",
      "\u001b[1;32m<ipython-input-4-9945045e8c2d>\u001b[0m in \u001b[0;36m<module>\u001b[1;34m\u001b[0m\n\u001b[0;32m      2\u001b[0m     \u001b[0mm\u001b[0m \u001b[1;33m=\u001b[0m \u001b[0mexdir_db_inst\u001b[0m\u001b[1;33m.\u001b[0m\u001b[0mselect_measurement_by_id\u001b[0m\u001b[1;33m(\u001b[0m\u001b[0mid\u001b[0m\u001b[1;33m)\u001b[0m\u001b[1;33m\u001b[0m\u001b[1;33m\u001b[0m\u001b[0m\n\u001b[0;32m      3\u001b[0m     savemat(r'C:\\Users\\User\\Desktop\\matlab\\{id}_{type}.mat'.format(id=m.id, type=m.measurement_type), \n\u001b[1;32m----> 4\u001b[1;33m         {'resultnumbers':m.datasets['resultnumbers'].data})\n\u001b[0m",
      "\u001b[1;31mKeyError\u001b[0m: 'resultnumbers'"
     ]
    }
   ],
   "source": [
    "for id in [1236]:#[3152]:#[1243, 1244, 1245, 1246]:\n",
    "    m = exdir_db_inst.select_measurement_by_id(id)\n",
    "    savemat(r'C:\\Users\\User\\Desktop\\matlab\\{id}_{type}.mat'.format(id=m.id, type=m.measurement_type), \n",
    "        {'resultnumbers':m.datasets['resultnumbers'].data})"
   ]
  },
  {
   "cell_type": "code",
   "execution_count": 26,
   "metadata": {
    "ExecuteTime": {
     "end_time": "2019-11-21T14:08:53.107519Z",
     "start_time": "2019-11-21T14:08:53.101525Z"
    }
   },
   "outputs": [
    {
     "data": {
      "text/plain": [
       "16"
      ]
     },
     "execution_count": 26,
     "metadata": {},
     "output_type": "execute_result"
    }
   ],
   "source": [
    "len(real(m.datasets['reconstruction'].data))"
   ]
  },
  {
   "cell_type": "code",
   "execution_count": 111,
   "metadata": {
    "ExecuteTime": {
     "end_time": "2019-11-21T16:41:54.509241Z",
     "start_time": "2019-11-21T16:41:53.903617Z"
    }
   },
   "outputs": [],
   "source": [
    "fig, axes = subplots(1,2,num='Process Chi matrix', figsize=(9,4), sharex=True, sharey=True)\n",
    "# im0 = axes[0].imshow(reshape(transpose(reshape(real(m.datasets['reconstruction'].data), (4,4,4,4)),(0,2,1,3)), (16,16)), vmin=-1, vmax=1, cmap='RdBu_r')\n",
    "# im1 = axes[1].imshow(-reshape(transpose(reshape(imag(m.datasets['reconstruction'].data), (4,4,4,4)),(0,2,1,3)), (16,16)), vmin=-1, vmax=1, cmap='RdBu_r')\n",
    "\n",
    "im0 = axes[0].imshow(real(m.datasets['reconstruction'].data), vmin=-1, vmax=1, cmap='RdBu_r')\n",
    "im1 = axes[1].imshow(imag(m.datasets['reconstruction'].data), vmin=-1, vmax=1, cmap='RdBu_r')\n",
    "axes[0].set_xticks(arange(16))\n",
    "axes[1].set_xticks(arange(16))\n",
    "axes[0].set_yticks(arange(16))\n",
    "colorbar(im0, ax=axes)\n",
    "plt.savefig(r'C:\\tupoye-govno\\iswap-tomography1.svg')\n",
    "plt.savefig(r'C:\\tupoye-govno\\iswap-tomography1.png')"
   ]
  },
  {
   "cell_type": "code",
   "execution_count": 79,
   "metadata": {
    "ExecuteTime": {
     "end_time": "2019-11-21T15:55:30.197766Z",
     "start_time": "2019-11-21T15:55:30.192770Z"
    }
   },
   "outputs": [],
   "source": [
    "x_,y_ = np.meshgrid(np.linspace(0,15,16),np.linspace(0,15,16))"
   ]
  },
  {
   "cell_type": "code",
   "execution_count": 33,
   "metadata": {
    "ExecuteTime": {
     "end_time": "2019-11-21T14:40:43.618369Z",
     "start_time": "2019-11-21T14:40:43.002752Z"
    }
   },
   "outputs": [],
   "source": [
    "from mpl_toolkits.mplot3d import Axes3D"
   ]
  },
  {
   "cell_type": "code",
   "execution_count": 100,
   "metadata": {
    "ExecuteTime": {
     "end_time": "2019-11-21T16:29:37.340678Z",
     "start_time": "2019-11-21T16:29:37.320692Z"
    }
   },
   "outputs": [
    {
     "name": "stdout",
     "output_type": "stream",
     "text": [
      "Warning: Cannot change to a different GUI toolkit: notebook. Using qt5 instead.\n"
     ]
    }
   ],
   "source": [
    "%matplotlib notebook"
   ]
  },
  {
   "cell_type": "code",
   "execution_count": 95,
   "metadata": {
    "ExecuteTime": {
     "end_time": "2019-11-21T16:20:47.693113Z",
     "start_time": "2019-11-21T16:20:47.673124Z"
    }
   },
   "outputs": [],
   "source": [
    "import matplotlib.cm as cm"
   ]
  },
  {
   "cell_type": "code",
   "execution_count": 110,
   "metadata": {
    "ExecuteTime": {
     "end_time": "2019-11-21T16:40:26.618780Z",
     "start_time": "2019-11-21T16:40:26.337954Z"
    }
   },
   "outputs": [],
   "source": [
    "fig =plt.figure(figsize=(8,5))\n",
    "ax = fig.gca(projection = '3d')\n",
    "top=real(m.datasets['reconstruction'].data).ravel()\n",
    "top_tr=real(iswap_ideal_chi).ravel()\n",
    "bottom=np.zeros(len(top))\n",
    "width=np.ones(len(top))\n",
    "depth=np.ones(len(top))\n",
    "x=x_.ravel()\n",
    "y=y_.ravel()\n",
    "ax.bar3d(x,y,bottom,width,depth,top,shade=True,color=cm.Spectral_r(top))\n",
    "# ax.bar3d(x,y,bottom,width,depth,top_tr,shade=True,color='white',edgecolor='red')\n",
    "ax.view_init(elev=60)\n",
    "ax.set_zlim(0,1)\n",
    "plt.show()"
   ]
  },
  {
   "cell_type": "code",
   "execution_count": null,
   "metadata": {},
   "outputs": [],
   "source": []
  },
  {
   "cell_type": "code",
   "execution_count": 6,
   "metadata": {
    "ExecuteTime": {
     "end_time": "2019-11-20T11:37:25.901605Z",
     "start_time": "2019-11-20T11:37:22.101962Z"
    }
   },
   "outputs": [
    {
     "data": {
      "text/plain": [
       "array([-4.54636980e-11, -4.21787025e-11, -4.07215265e-11, -3.96336922e-11,\n",
       "       -3.87269921e-11, -3.73990463e-11, -3.53553182e-11, -3.31557993e-11,\n",
       "       -3.06799829e-11, -2.04915598e-11,  2.93837136e-03,  7.70524001e-03,\n",
       "        3.22819526e-02,  4.39168780e-02,  5.71175208e-02,  8.61402249e-01])"
      ]
     },
     "execution_count": 6,
     "metadata": {},
     "output_type": "execute_result"
    }
   ],
   "source": [
    "values, vectors = linalg.eigh(np.conj(m.datasets['reconstruction'].data))\n",
    "values/4"
   ]
  },
  {
   "cell_type": "code",
   "execution_count": null,
   "metadata": {},
   "outputs": [],
   "source": []
  },
  {
   "cell_type": "code",
   "execution_count": 7,
   "metadata": {
    "ExecuteTime": {
     "end_time": "2019-11-20T11:37:25.907600Z",
     "start_time": "2019-11-20T11:37:25.903605Z"
    }
   },
   "outputs": [],
   "source": [
    "d = 4"
   ]
  },
  {
   "cell_type": "code",
   "execution_count": 8,
   "metadata": {
    "ExecuteTime": {
     "end_time": "2019-11-20T11:37:26.697110Z",
     "start_time": "2019-11-20T11:37:25.910599Z"
    }
   },
   "outputs": [
    {
     "name": "stdout",
     "output_type": "stream",
     "text": [
      "[0.9970839  1.02360916 0.98313025 0.99553844]\n"
     ]
    },
    {
     "data": {
      "image/png": "[encoded data removed]",
      "text/plain": [
       "<Figure size 648x288 with 3 Axes>"
      ]
     },
     "metadata": {
      "needs_background": "light"
     },
     "output_type": "display_data"
    }
   ],
   "source": [
    "for purification_id in range(1):\n",
    "    purified = np.conj(reshape(vectors[:,-purification_id-1]*2, (d,d)))\n",
    "    #\n",
    "    fig, axes = subplots(1,2,num='Purified unitary #'+str(purification_id), figsize=(9,4))\n",
    "    im0 = axes[0].imshow(real(purified), vmin=-1, vmax=1, cmap='RdBu_r')\n",
    "    im1 = axes[1].imshow(imag(purified), vmin=-1, vmax=1, cmap='RdBu_r')\n",
    "    colorbar(im0, ax=axes)\n",
    "    print (np.abs(linalg.eig(purified)[0]))"
   ]
  },
  {
   "cell_type": "code",
   "execution_count": 9,
   "metadata": {
    "ExecuteTime": {
     "end_time": "2019-11-20T11:37:45.832237Z",
     "start_time": "2019-11-20T11:37:45.824243Z"
    }
   },
   "outputs": [],
   "source": [
    "def plot_unitary(unitary):\n",
    "    fig, axes = subplots(1,2,num='Ideal chi-matrix', figsize=(9,4))\n",
    "    unitary_chi = kron(unitary, conj(unitary))\n",
    "    unitary_chi = conj(reshape(transpose(reshape(unitary_chi, (d,d,d,d)), (0,2,1,3)), (16,16)))\n",
    "    im0 = axes[0].imshow(real(unitary_chi), cmap='RdBu_r', vmin=-1, vmax=1)\n",
    "    im1 = axes[1].imshow(imag(unitary_chi), cmap='RdBu_r', vmin=-1, vmax=1)\n",
    "    colorbar(im0, ax=axes)\n",
    "    return unitary_chi"
   ]
  },
  {
   "cell_type": "code",
   "execution_count": 12,
   "metadata": {
    "ExecuteTime": {
     "end_time": "2019-11-20T11:38:03.832067Z",
     "start_time": "2019-11-20T11:38:03.823074Z"
    }
   },
   "outputs": [
    {
     "name": "stdout",
     "output_type": "stream",
     "text": [
      "[[1.+0.j 0.+0.j 0.+0.j 0.+0.j]\n",
      " [0.+0.j 0.+0.j 0.+1.j 0.+0.j]\n",
      " [0.+0.j 0.+1.j 0.+0.j 0.+0.j]\n",
      " [0.+0.j 0.+0.j 0.+0.j 1.+0.j]]\n"
     ]
    }
   ],
   "source": [
    "#iswap_ideal = np.asarray([[1, -1, 0, 0], [1, 1, 0, 0], [0, 0, 1, -1], [0, 0, 1, 1]])/np.sqrt(2)\n",
    "#iswap_ideal = np.asarray([[1, 1j, 0, 0], [1j, 1, 0, 0], [0, 0, 1, 1j], [0, 0, 1j, 1]])/np.sqrt(2)\n",
    "iswap_ideal = np.asarray([[1, 0, 0, 0], [0, 0, 1j, 0], [0, 1j, 0, 0], [0, 0, 0, 1]])\n",
    "#iswap_ideal = np.asarray([[0,0,0,1j],[0,1,0,0],[0,0,1,0],[1j,0,0,0]])\n",
    "print(iswap_ideal)\n",
    "#iswap_ideal = iswap_ideal@iswap_ideal\n",
    "#iswap_ideal = np.asarray([[1,0,0,0],[0,1,0,0],[0,0,0,1],[0,0,-1,0]])\n",
    "np.abs(np.sum(iswap_ideal*np.conj(purified)/np.max(np.abs(linalg.eig(purified)[0])))/4)**2\n",
    "iswap_ideal_chi = np.reshape(np.transpose(np.reshape(kron(iswap_ideal, conj(iswap_ideal)), (4,4,4,4)), (0,2,1,3)),(16,16))"
   ]
  },
  {
   "cell_type": "code",
   "execution_count": 13,
   "metadata": {
    "ExecuteTime": {
     "end_time": "2019-11-20T11:38:05.073298Z",
     "start_time": "2019-11-20T11:38:04.511646Z"
    }
   },
   "outputs": [
    {
     "data": {
      "image/png": "[encoded data removed]",
      "text/plain": [
       "<Figure size 648x288 with 3 Axes>"
      ]
     },
     "metadata": {
      "needs_background": "light"
     },
     "output_type": "display_data"
    }
   ],
   "source": [
    "iswap_ideal_chi = plot_unitary(iswap_ideal)"
   ]
  },
  {
   "cell_type": "code",
   "execution_count": 14,
   "metadata": {
    "ExecuteTime": {
     "end_time": "2019-11-20T11:38:08.149388Z",
     "start_time": "2019-11-20T11:38:08.143394Z"
    }
   },
   "outputs": [
    {
     "data": {
      "text/plain": [
       "(0.8607348897443112-8.673617379884035e-19j)"
      ]
     },
     "execution_count": 14,
     "metadata": {},
     "output_type": "execute_result"
    }
   ],
   "source": [
    "sum(np.conj(iswap_ideal_chi)*m.datasets['reconstruction'].data)/16\n"
   ]
  },
  {
   "cell_type": "code",
   "execution_count": 15,
   "metadata": {
    "ExecuteTime": {
     "end_time": "2019-11-20T11:38:11.106553Z",
     "start_time": "2019-11-20T11:38:11.099559Z"
    }
   },
   "outputs": [
    {
     "data": {
      "text/plain": [
       "(0.888587911795449-6.938893903907229e-19j)"
      ]
     },
     "execution_count": 15,
     "metadata": {},
     "output_type": "execute_result"
    }
   ],
   "source": [
    "(sum(np.conj(iswap_ideal_chi)*m.datasets['reconstruction'].data)/16*4+1)/(4+1)"
   ]
  },
  {
   "cell_type": "code",
   "execution_count": 66,
   "metadata": {
    "ExecuteTime": {
     "end_time": "2019-09-04T07:48:28.275011Z",
     "start_time": "2019-09-04T07:48:28.247029Z"
    }
   },
   "outputs": [
    {
     "ename": "NameError",
     "evalue": "name 'iswap_ideali' is not defined",
     "output_type": "error",
     "traceback": [
      "\u001b[1;31m---------------------------------------------------------------------------\u001b[0m",
      "\u001b[1;31mNameError\u001b[0m                                 Traceback (most recent call last)",
      "\u001b[1;32m<ipython-input-66-1b95e68ff520>\u001b[0m in \u001b[0;36m<module>\u001b[1;34m\u001b[0m\n\u001b[0;32m     11\u001b[0m \u001b[0mU_grover_central\u001b[0m \u001b[1;33m=\u001b[0m \u001b[0mX1pihalf\u001b[0m\u001b[1;33m@\u001b[0m\u001b[0mX2pihalf\u001b[0m\u001b[1;33m@\u001b[0m\u001b[0mY1pihalf\u001b[0m\u001b[1;33m@\u001b[0m\u001b[0mY2pihalf\u001b[0m\u001b[1;33m@\u001b[0m\u001b[0miswap_ideal\u001b[0m\u001b[1;33m@\u001b[0m\u001b[0mX1mpihalf\u001b[0m\u001b[1;33m@\u001b[0m\u001b[0mX2mpihalf\u001b[0m\u001b[1;33m\u001b[0m\u001b[1;33m\u001b[0m\u001b[0m\n\u001b[0;32m     12\u001b[0m \u001b[0miswap_chi\u001b[0m \u001b[1;33m=\u001b[0m \u001b[0mm\u001b[0m\u001b[1;33m.\u001b[0m\u001b[0mdatasets\u001b[0m\u001b[1;33m[\u001b[0m\u001b[1;34m'reconstruction'\u001b[0m\u001b[1;33m]\u001b[0m\u001b[1;33m.\u001b[0m\u001b[0mdata\u001b[0m\u001b[1;33m\u001b[0m\u001b[1;33m\u001b[0m\u001b[0m\n\u001b[1;32m---> 13\u001b[1;33m \u001b[0mU_groverx3_central\u001b[0m \u001b[1;33m=\u001b[0m \u001b[0mX1pihalf\u001b[0m\u001b[1;33m@\u001b[0m\u001b[0mX2pihalf\u001b[0m\u001b[1;33m@\u001b[0m\u001b[0miswap_ideali\u001b[0m\u001b[1;33m@\u001b[0m\u001b[0mY1pihalf\u001b[0m\u001b[1;33m@\u001b[0m\u001b[0mY2pihalf\u001b[0m\u001b[1;33m@\u001b[0m\u001b[0miswap_ideal\u001b[0m\u001b[1;33m@\u001b[0m\u001b[0mX1mpihalf\u001b[0m\u001b[1;33m@\u001b[0m\u001b[0mX2mpihalf\u001b[0m\u001b[1;33m\u001b[0m\u001b[1;33m\u001b[0m\u001b[0m\n\u001b[0m\u001b[0;32m     14\u001b[0m \u001b[1;31m#U_grover_central = X1pihalf@X1pihalf@iswap_ideal@X1pihalf@X1pihalf\u001b[0m\u001b[1;33m\u001b[0m\u001b[1;33m\u001b[0m\u001b[1;33m\u001b[0m\u001b[0m\n",
      "\u001b[1;31mNameError\u001b[0m: name 'iswap_ideali' is not defined"
     ]
    }
   ],
   "source": [
    "iswap_ideal = np.asarray([[1, 0, 0, 0], [0, 0, 1j, 0], [0, 1j, 0, 0], [0, 0, 0, 1]])\n",
    "Z1pihalf = np.asarray([[1,0,0,0],[0,1j,0,0],[0,0,1,0],[0,0,0,1j]])\n",
    "X1pihalf = np.asarray([[1,1j,0,0],[1j,1,0,0],[0,0,1,1j],[0,0,1j,1]])/np.sqrt(2)\n",
    "X2pihalf = np.asarray([[1,0,1j,0],[0,1,0,1j],[1j,0,1,0],[0,1j,0,1]])/np.sqrt(2)\n",
    "X1mpihalf = np.asarray([[1,-1j,0,0],[-1j,1,0,0],[0,0,1,-1j],[0,0,-1j,1]])/np.sqrt(2)\n",
    "X2mpihalf = np.asarray([[1,0,-1j,0],[0,1,0,-1j],[-1j,0,1,0],[0,-1j,0,1]])/np.sqrt(2)\n",
    "Y1pihalf = np.asarray([[1,1,0,0],[-1,1,0,0],[0,0,1,1],[0,0,-1,1]])/np.sqrt(2)\n",
    "Y2pihalf = np.asarray([[1,0,1,0],[0,1,0,1],[-1,0,1,0],[0,-1,0,1]])/np.sqrt(2)\n",
    "Z2pihalf = np.asarray([[1,0,0,0],[0,1,0,0],[0,0,1j,0],[0,0,0,1j]])\n",
    "Z2mpihalf = np.asarray([[1,0,0,0],[0,1,0,0],[0,0,-1j,0],[0,0,0,-1j]])\n",
    "U_grover_central = X1pihalf@X2pihalf@Y1pihalf@Y2pihalf@iswap_ideal@X1mpihalf@X2mpihalf\n",
    "iswap_chi = m.datasets['reconstruction'].data\n",
    "U_groverx3_central = X1pihalf@X2pihalf@iswap_ideali@Y1pihalf@Y2pihalf@iswap_ideal@X1mpihalf@X2mpihalf\n",
    "#U_grover_central = X1pihalf@X1pihalf@iswap_ideal@X1pihalf@X1pihalf"
   ]
  },
  {
   "cell_type": "code",
   "execution_count": 36,
   "metadata": {
    "ExecuteTime": {
     "end_time": "2019-09-03T12:19:32.508452Z",
     "start_time": "2019-09-03T12:19:32.496461Z"
    }
   },
   "outputs": [],
   "source": [
    "X1pihalf_chi = kron(X1pihalf, conj(X1pihalf))\n",
    "X1pihalf_chi = conj(reshape(transpose(reshape(X1pihalf_chi, (d,d,d,d)), (0,2,1,3)), (16,16)))\n",
    "X2pihalf_chi = kron(X2pihalf, conj(X2pihalf))\n",
    "X2pihalf_chi = conj(reshape(transpose(reshape(X2pihalf_chi, (d,d,d,d)), (0,2,1,3)), (16,16)))\n",
    "Y1pihalf_chi = kron(Y1pihalf, conj(Y1pihalf))\n",
    "Y1pihalf_chi = conj(reshape(transpose(reshape(Y1pihalf_chi, (d,d,d,d)), (0,2,1,3)), (16,16)))\n",
    "Y2pihalf_chi = kron(Y2pihalf, conj(Y2pihalf))\n",
    "Y2pihalf_chi = conj(reshape(transpose(reshape(Y2pihalf_chi, (d,d,d,d)), (0,2,1,3)), (16,16)))\n",
    "X1mpihalf_chi = kron(X1mpihalf, conj(X1mpihalf))\n",
    "X1mpihalf_chi = conj(reshape(transpose(reshape(X1mpihalf_chi, (d,d,d,d)), (0,2,1,3)), (16,16)))\n",
    "X2mpihalf_chi = kron(X2mpihalf, conj(X2mpihalf))\n",
    "X2mpihalf_chi = conj(reshape(transpose(reshape(X2mpihalf_chi, (d,d,d,d)), (0,2,1,3)), (16,16)))"
   ]
  },
  {
   "cell_type": "code",
   "execution_count": 37,
   "metadata": {
    "ExecuteTime": {
     "end_time": "2019-09-03T12:19:32.766294Z",
     "start_time": "2019-09-03T12:19:32.762296Z"
    }
   },
   "outputs": [],
   "source": [
    "U_grover = X1pihalf_chi@X2pihalf_chi@iswap_chi@Y1pihalf_chi@Y2pihalf_chi@iswap_chi@X1mpihalf_chi@X2mpihalf_chi"
   ]
  },
  {
   "cell_type": "code",
   "execution_count": 38,
   "metadata": {
    "ExecuteTime": {
     "end_time": "2019-09-03T12:19:33.492846Z",
     "start_time": "2019-09-03T12:19:33.005148Z"
    }
   },
   "outputs": [
    {
     "data": {
      "text/plain": [
       "<matplotlib.colorbar.Colorbar at 0x2aed81459e8>"
      ]
     },
     "execution_count": 38,
     "metadata": {},
     "output_type": "execute_result"
    },
    {
     "data": {
      "image/png": "[encoded data removed]",
      "text/plain": [
       "<Figure size 648x288 with 3 Axes>"
      ]
     },
     "metadata": {
      "needs_background": "light"
     },
     "output_type": "display_data"
    }
   ],
   "source": [
    "fig, axes = subplots(1,2,num='Process Chi matrix', figsize=(9,4))\n",
    "im0 = axes[0].imshow(real(U_grover), vmin=-1, vmax=1, cmap='RdBu_r')\n",
    "im1 = axes[1].imshow(imag(U_grover), vmin=-1, vmax=1, cmap='RdBu_r')\n",
    "colorbar(im0, ax=axes)"
   ]
  },
  {
   "cell_type": "code",
   "execution_count": 80,
   "metadata": {
    "ExecuteTime": {
     "end_time": "2019-08-30T08:42:18.413800Z",
     "start_time": "2019-08-30T08:42:18.408804Z"
    }
   },
   "outputs": [],
   "source": [
    "d=4\n",
    "grover_central_chi = kron(U_grover_central, conj(U_grover_central))\n",
    "grover_central_chi = conj(reshape(transpose(reshape(grover_central_chi, (d,d,d,d)), (0,2,1,3)), (16,16)))"
   ]
  },
  {
   "cell_type": "code",
   "execution_count": 81,
   "metadata": {
    "ExecuteTime": {
     "end_time": "2019-08-30T08:42:18.534724Z",
     "start_time": "2019-08-30T08:42:18.472764Z"
    }
   },
   "outputs": [],
   "source": [
    "#plot_unitary(U_grover_central)\n",
    "plt."
   ]
  },
  {
   "cell_type": "code",
   "execution_count": 82,
   "metadata": {
    "ExecuteTime": {
     "end_time": "2019-08-30T08:42:18.840535Z",
     "start_time": "2019-08-30T08:42:18.834540Z"
    }
   },
   "outputs": [
    {
     "data": {
      "text/plain": [
       "(0.8618170458872711+0j)"
      ]
     },
     "execution_count": 82,
     "metadata": {},
     "output_type": "execute_result"
    }
   ],
   "source": [
    "(sum(np.conj(grover_central_chi)*m.datasets['reconstruction'].data)/16*4+1)/(4+1)"
   ]
  },
  {
   "cell_type": "code",
   "execution_count": 525,
   "metadata": {
    "ExecuteTime": {
     "end_time": "2019-08-20T11:14:01.971024Z",
     "start_time": "2019-08-20T11:14:01.966026Z"
    }
   },
   "outputs": [
    {
     "data": {
      "text/plain": [
       "array([2604., 2847., 2328., 2221.])"
      ]
     },
     "execution_count": 525,
     "metadata": {},
     "output_type": "execute_result"
    }
   ],
   "source": [
    "m.datasets['measurement'].data[2,2,5,5,:]"
   ]
  },
  {
   "cell_type": "code",
   "execution_count": 518,
   "metadata": {
    "ExecuteTime": {
     "end_time": "2019-08-20T11:13:50.854906Z",
     "start_time": "2019-08-20T11:13:50.847911Z"
    }
   },
   "outputs": [
    {
     "data": {
      "text/plain": [
       "array([2733., 2683., 2404., 2180.])"
      ]
     },
     "execution_count": 518,
     "metadata": {},
     "output_type": "execute_result"
    }
   ],
   "source": [
    "m.datasets['measurement'].data[5,2,5,5,:]"
   ]
  },
  {
   "cell_type": "code",
   "execution_count": 519,
   "metadata": {
    "ExecuteTime": {
     "end_time": "2019-08-20T11:13:50.870899Z",
     "start_time": "2019-08-20T11:13:50.858905Z"
    }
   },
   "outputs": [
    {
     "data": {
      "text/plain": [
       "array([2964., 2529., 2292., 2215.])"
      ]
     },
     "execution_count": 519,
     "metadata": {},
     "output_type": "execute_result"
    }
   ],
   "source": [
    "m.datasets['measurement'].data[2,5,5,5,:]"
   ]
  },
  {
   "cell_type": "code",
   "execution_count": 520,
   "metadata": {
    "ExecuteTime": {
     "end_time": "2019-08-20T11:13:50.886886Z",
     "start_time": "2019-08-20T11:13:50.873895Z"
    }
   },
   "outputs": [
    {
     "data": {
      "text/plain": [
       "array([2693., 2576., 2464., 2267.])"
      ]
     },
     "execution_count": 520,
     "metadata": {},
     "output_type": "execute_result"
    }
   ],
   "source": [
    "m.datasets['measurement'].data[5,5,5,5,:]"
   ]
  },
  {
   "cell_type": "code",
   "execution_count": 441,
   "metadata": {
    "ExecuteTime": {
     "end_time": "2019-08-20T04:48:52.711277Z",
     "start_time": "2019-08-20T04:48:52.703281Z"
    }
   },
   "outputs": [
    {
     "data": {
      "text/plain": [
       "(array([6401., 1736., 1303.,  560.]),\n",
       " array([1526., 6349.,  790., 1335.]),\n",
       " array([2393.,  969., 5344., 1294.]),\n",
       " array([ 831., 2423., 1339., 5407.]))"
      ]
     },
     "execution_count": 441,
     "metadata": {},
     "output_type": "execute_result"
    }
   ],
   "source": [
    "(m.datasets['measurement'].data[2,2,5,5,:], m.datasets['measurement'].data[5,2,5,5,:], \n",
    " m.datasets['measurement'].data[2,5,5,5,:], m.datasets['measurement'].data[5,5,5,5,:])"
   ]
  },
  {
   "cell_type": "code",
   "execution_count": null,
   "metadata": {},
   "outputs": [],
   "source": []
  }
 ],
 "metadata": {
  "kernelspec": {
   "display_name": "Python 3",
   "language": "python",
   "name": "python3"
  },
  "language_info": {
   "codemirror_mode": {
    "name": "ipython",
    "version": 3
   },
   "file_extension": ".py",
   "mimetype": "text/x-python",
   "name": "python",
   "nbconvert_exporter": "python",
   "pygments_lexer": "ipython3",
   "version": "3.6.9"
  },
  "toc": {
   "base_numbering": 1,
   "nav_menu": {},
   "number_sections": true,
   "sideBar": true,
   "skip_h1_title": false,
   "title_cell": "Table of Contents",
   "title_sidebar": "Contents",
   "toc_cell": false,
   "toc_position": {},
   "toc_section_display": true,
   "toc_window_display": false
  }
 },
 "nbformat": 4,
 "nbformat_minor": 2
}
