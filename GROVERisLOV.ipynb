{
 "cells": [
  {
   "cell_type": "markdown",
   "metadata": {},
   "source": [
    "# Launch QtLab"
   ]
  },
  {
   "cell_type": "code",
   "execution_count": 1,
   "metadata": {
    "ExecuteTime": {
     "end_time": "2019-07-07T18:43:45.172304Z",
     "start_time": "2019-07-07T18:43:37.111166Z"
    }
   },
   "outputs": [],
   "source": [
    "%matplotlib qt5\n",
    "from qsweepy import *\n",
    "from qsweepy.instruments import *\n",
    "from qsweepy.save_pkl import save_pkl\n",
    "import matplotlib.pyplot as plt\n",
    "import numpy as np\n",
    "from matplotlib import interactive\n",
    "interactive(True)\n",
    "import imp\n",
    "\n",
    "sample_name = '1906-001_1_down'"
   ]
  },
  {
   "cell_type": "markdown",
   "metadata": {},
   "source": [
    "# initialize hardware in pulsed mode"
   ]
  },
  {
   "cell_type": "code",
   "execution_count": 2,
   "metadata": {
    "ExecuteTime": {
     "end_time": "2019-07-07T18:44:02.856858Z",
     "start_time": "2019-07-07T18:43:45.325212Z"
    }
   },
   "outputs": [
    {
     "name": "stderr",
     "output_type": "stream",
     "text": [
      "C:\\ProgramData\\Anaconda3\\lib\\site-packages\\pyvisa\\resources\\messagebased.py:573: FutureWarning:\n",
      "\n",
      "ask is deprecated and will be removed in 1.10, use query instead.\n",
      "\n",
      "WARNING:root:Tektronix_AWG5014 : get all not yet fully functional\n"
     ]
    },
    {
     "name": "stdout",
     "output_type": "stream",
     "text": [
      "ADS54J40 already programmed\n"
     ]
    },
    {
     "name": "stderr",
     "output_type": "stream",
     "text": [
      "WARNING:root:Tektronix_AWG5014 : Clock set to 1000000000.0. This is not fully functional yet. To avoid problems, it is better not to change the clock during operation\n",
      "root: WARNING  Tektronix_AWG5014 : Clock set to 1000000000.0. This is not fully functional yet. To avoid problems, it is better not to change the clock during operation\n"
     ]
    }
   ],
   "source": [
    "from qsweepy.tunable_coupling_transmons.Misis_two_qubit_June_2019_setup import device_settings, pulsed_settings, hardware_setup\n",
    "hardware = hardware_setup(device_settings, pulsed_settings)\n",
    "hardware.open_devices()\n",
    "hardware.set_pulsed_mode()\n"
   ]
  },
  {
   "cell_type": "markdown",
   "metadata": {},
   "source": [
    "# Manually set sample parameters"
   ]
  },
  {
   "cell_type": "markdown",
   "metadata": {},
   "source": [
    "## qubit settings"
   ]
  },
  {
   "cell_type": "code",
   "execution_count": 31,
   "metadata": {
    "ExecuteTime": {
     "end_time": "2019-07-07T19:09:29.416037Z",
     "start_time": "2019-07-07T19:09:29.068188Z"
    }
   },
   "outputs": [
    {
     "name": "stdout",
     "output_type": "stream",
     "text": [
      "list index out of range <class 'IndexError'>\n",
      "Inserting references: {}\n",
      "list index out of range <class 'IndexError'>\n",
      "Inserting references: {}\n",
      "list index out of range <class 'IndexError'>\n",
      "Inserting references: {}\n",
      "list index out of range <class 'IndexError'>\n",
      "Inserting references: {}\n",
      "list index out of range <class 'IndexError'>\n",
      "Inserting references: {}\n",
      "Inserting references: {}\n",
      "list index out of range <class 'IndexError'>\n",
      "Inserting references: {}\n",
      "list index out of range <class 'IndexError'>\n",
      "Inserting references: {}\n",
      "list index out of range <class 'IndexError'>\n",
      "Inserting references: {}\n",
      "list index out of range <class 'IndexError'>\n",
      "Inserting references: {}\n",
      "Inserting references: {}\n"
     ]
    }
   ],
   "source": [
    "qubits = {\n",
    "          '1':{'r':{'Fr': 6.400e9, \n",
    "                    'P':-50, \n",
    "                    'iq_devices':{'iq_ro_q1': 'iq_ro'}},\n",
    "               'q': {'iq_devices':{'iq_ex1_q1': 'iq_ex1', \n",
    "                                   #'iq_ex2_q3': 'iq_ex2', \n",
    "                                   'iq_ex3_q1': 'iq_ex3'},\n",
    "                     'F': \n",
    "                    {'F01_min': 3.26388613e9}},                     \n",
    "               'main_iq_device': 'iq_ex1_q1',},\n",
    "'3':{'r':{'Fr': 6.2106e9, \n",
    "                    'P':-60, \n",
    "                    'iq_devices':{'iq_ro_q3': 'iq_ro'}},\n",
    "               'q': {'iq_devices':{'iq_ex1_q3': 'iq_ex1', \n",
    "                                   #'iq_ex2_q3': 'iq_ex2', \n",
    "                                   'iq_ex3_q3': 'iq_ex3'},\n",
    "                     'F': {'F01_min': 3.22853818e9},},   \n",
    "               'main_iq_device': 'iq_ex3_q3'},#3.215e9 #3.105e9 2.995     3.215 13\n",
    "}\n",
    "\n",
    "                    #'00-2-11': 3.114e9,\n",
    "                    #'01-1-02': 3.004e9,}}, \n",
    "#           '2':{'r':{'Fr': 8.175e9, 'Fr_max': 8.177e9, 'Fr_min': 8.172e9, 'dFr': 0.5e6, 'P':-60}, \n",
    "#                'q': {'F': 3.05e9}}, #awg -0.7727 V min}# 3.147e9 #3.025e9  3.26419   3.259 5\n",
    "                    #'00-2-11': 3.150e9,\n",
    "                    #'01-1-02': 3.034e9,}}}\n",
    "imp.reload(exdir_db)\n",
    "imp.reload(database)\n",
    "imp.reload(sweep_extras)\n",
    "db = database.database()\n",
    "sweeper = sweep_extras.sweeper(db, sample_name=sample_name)\n",
    "exdir_db_inst = exdir_db.exdir_db(db=db, sample_name=sample_name)\n",
    "device = qubit_device.qubit_device(exdir_db_inst, sweeper)\n",
    "device.set_qubits_from_dict(qubits)"
   ]
  },
  {
   "cell_type": "markdown",
   "metadata": {},
   "source": [
    "## sample globals (scan ranges etc.)"
   ]
  },
  {
   "cell_type": "code",
   "execution_count": 32,
   "metadata": {
    "ExecuteTime": {
     "end_time": "2019-07-07T19:09:30.193857Z",
     "start_time": "2019-07-07T19:09:29.660892Z"
    }
   },
   "outputs": [
    {
     "name": "stdout",
     "output_type": "stream",
     "text": [
      "load_exdir: file open time:  0.002000570297241211\n",
      "load_exdir: file open time:  0.0009887218475341797\n",
      "load_exdir: file open time:  0.0009744167327880859\n",
      "load_exdir: file open time:  0.0009930133819580078\n",
      "load_exdir: file open time:  0.0009865760803222656\n",
      "load_exdir: file open time:  0.002002239227294922\n",
      "load_exdir: file open time:  0.0019707679748535156\n",
      "load_exdir: file open time:  0.0009920597076416016\n",
      "load_exdir: file open time:  0.0009989738464355469\n",
      "load_exdir: file open time:  0.0020034313201904297\n",
      "load_exdir: file open time:  0.0019774436950683594\n",
      "load_exdir: file open time:  0.001999378204345703\n",
      "load_exdir: file open time:  0.0009982585906982422\n",
      "load_exdir: file open time:  0.0009992122650146484\n",
      "load_exdir: file open time:  0.0020227432250976562\n",
      "load_exdir: file open time:  0.001978158950805664\n",
      "load_exdir: file open time:  0.001999378204345703\n"
     ]
    },
    {
     "data": {
      "text/plain": [
       "'1906-001_1_down'"
      ]
     },
     "execution_count": 32,
     "metadata": {},
     "output_type": "execute_result"
    }
   ],
   "source": [
    "sample_globals={\n",
    "    'readout_passthrough_points':21,\n",
    "    'readout_passthrough_amplitude':0.5,\n",
    "    'readout_length': 0.8e-6,\n",
    "    'readout_background_nums': 30000,\n",
    "    'Rabi_rect_length': 400e-9,\n",
    "    'Rabi_rect_step': 2e-9,\n",
    "    'Ramsey_length': 10e-6,\n",
    "    'Ramsey_step': 100e-9,\n",
    "    'adaptive_Rabi_min_step':1e-9,\n",
    "    'adaptive_Rabi_scan_points': 100,\n",
    "    'adaptive_Rabi_range':10,\n",
    "    'adaptive_Rabi_max_scan_length':5e-6,\n",
    "    'adaptive_Ramsey_max_scan_length':10e-6,\n",
    "    'adaptive_Ramsey_points_per_oscillation':10,\n",
    "    'frequency_rounding':10e3,\n",
    "    'amplitude_default':1.0,\n",
    "    'cross_Ramsey_initial_delay':0e-9, ## fix the fitter!!\n",
    "}\n",
    "\n",
    "imp.reload(exdir_db)\n",
    "imp.reload(database)\n",
    "imp.reload(sweep_extras)\n",
    "db = database.database()\n",
    "sweeper = sweep_extras.sweeper(db, sample_name=sample_name)\n",
    "exdir_db_inst = exdir_db.exdir_db(db=db, sample_name=sample_name)\n",
    "device = qubit_device.qubit_device(exdir_db_inst, sweeper)\n",
    "device.set_sample_globals(sample_globals)\n",
    "\n",
    "sample_name"
   ]
  },
  {
   "cell_type": "markdown",
   "metadata": {},
   "source": [
    "# Reload scripts and start measuring"
   ]
  },
  {
   "cell_type": "code",
   "execution_count": 65,
   "metadata": {
    "ExecuteTime": {
     "end_time": "2019-07-08T07:04:12.115006Z",
     "start_time": "2019-07-08T07:04:05.629205Z"
    },
    "scrolled": true
   },
   "outputs": [
    {
     "name": "stdout",
     "output_type": "stream",
     "text": [
      "load_exdir: file open time:  0.003997802734375\n",
      "load_exdir: file open time:  0.003998994827270508\n",
      "load_exdir: file open time:  0.003000020980834961\n",
      "load_exdir: file open time:  0.0029752254486083984\n",
      "load_exdir: file open time:  0.001981973648071289\n",
      "load_exdir: file open time:  0.002973794937133789\n",
      "load_exdir: file open time:  0.002973794937133789\n",
      "load_exdir: file open time:  0.002016782760620117\n",
      "load_exdir: file open time:  0.0029811859130859375\n",
      "load_exdir: file open time:  0.0020186901092529297\n",
      "load_exdir: file open time:  0.0009818077087402344\n",
      "load_exdir: file open time:  0.0019998550415039062\n",
      "load_exdir: file open time:  0.0009996891021728516\n",
      "load_exdir: file open time:  0.0019991397857666016\n"
     ]
    },
    {
     "name": "stderr",
     "output_type": "stream",
     "text": [
      "C:\\ProgramData\\Anaconda3\\lib\\site-packages\\pyvisa\\resources\\messagebased.py:573: FutureWarning:\n",
      "\n",
      "ask is deprecated and will be removed in 1.10, use query instead.\n",
      "\n"
     ]
    },
    {
     "name": "stdout",
     "output_type": "stream",
     "text": [
      "load_exdir: file open time:  0.0019991397857666016\n",
      "load_exdir: file open time:  0.0009996891021728516\n",
      "load_exdir: file open time:  0.0019989013671875\n",
      "load_exdir: file open time:  0.0009996891021728516\n",
      "load_exdir: file open time:  0.002998828887939453\n",
      "<class 'ValueError'> could not convert string to float: '(-0.018034207538124215-0.000856974659797645j)'\n",
      "load_exdir: file open time:  0.004008769989013672\n",
      "load_exdir: file open time:  0.002998828887939453\n",
      "load_exdir: file open time:  0.003002166748046875\n",
      "<class 'ValueError'> could not convert string to float: '(-0.09790106812338162-0.14809755161948335j)'\n",
      "load_exdir: file open time:  0.0039751529693603516\n",
      "load_exdir: file open time:  0.003999471664428711\n",
      "load_exdir: file open time:  0.004019260406494141\n",
      "<class 'ValueError'> could not convert string to float: '(-0.0015767111995960092-0.04967945915414021j)'\n",
      "load_exdir: file open time:  0.004014492034912109\n",
      "load_exdir: file open time:  0.003009796142578125\n",
      "load_exdir: file open time:  0.0010170936584472656\n",
      "reference: ('channel_calibration', 'iq_ro_q1') : 4380\n",
      "load_exdir: file open time:  0.0030138492584228516\n",
      "Got delay calibration: -6.92e-07\n"
     ]
    },
    {
     "name": "stderr",
     "output_type": "stream",
     "text": [
      "C:\\ProgramData\\Anaconda3\\lib\\site-packages\\scipy\\signal\\signaltools.py:2223: FutureWarning:\n",
      "\n",
      "Using a non-tuple sequence for multidimensional indexing is deprecated; use `arr[tuple(seq)]` instead of `arr[seq]`. In the future this will be interpreted as an array index, `arr[np.array(seq)]`, which will result either in an error or a different result.\n",
      "\n",
      "C:\\ProgramData\\Anaconda3\\lib\\site-packages\\scipy\\signal\\signaltools.py:2225: FutureWarning:\n",
      "\n",
      "Using a non-tuple sequence for multidimensional indexing is deprecated; use `arr[tuple(seq)]` instead of `arr[seq]`. In the future this will be interpreted as an array index, `arr[np.array(seq)]`, which will result either in an error or a different result.\n",
      "\n",
      "C:\\qtlab_replacement\\qsweepy\\instrument_drivers\\Tektronix_AWG5014.py:651: ComplexWarning:\n",
      "\n",
      "Casting complex values to real discards the imaginary part\n",
      "\n"
     ]
    },
    {
     "name": "stdout",
     "output_type": "stream",
     "text": [
      "load_exdir: file open time:  0.0019986629486083984\n",
      "reference: ('channel_calibration', 'iq_ro_q1') : 4380\n",
      "load_exdir: file open time:  0.0019927024841308594\n",
      "reference: calibration : 4385\n",
      "load_exdir: file open time:  0.0029916763305664062\n",
      "Validation measurement (delay): -4e-09\n",
      "reference: delay_measurement : 4386\n",
      "load_exdir: file open time:  0.002993345260620117\n"
     ]
    },
    {
     "name": "stderr",
     "output_type": "stream",
     "text": [
      "C:\\ProgramData\\Anaconda3\\lib\\site-packages\\scipy\\signal\\signaltools.py:491: FutureWarning:\n",
      "\n",
      "Using a non-tuple sequence for multidimensional indexing is deprecated; use `arr[tuple(seq)]` instead of `arr[seq]`. In the future this will be interpreted as an array index, `arr[np.array(seq)]`, which will result either in an error or a different result.\n",
      "\n",
      "C:\\ProgramData\\Anaconda3\\lib\\site-packages\\scipy\\fftpack\\basic.py:160: FutureWarning:\n",
      "\n",
      "Using a non-tuple sequence for multidimensional indexing is deprecated; use `arr[tuple(seq)]` instead of `arr[seq]`. In the future this will be interpreted as an array index, `arr[np.array(seq)]`, which will result either in an error or a different result.\n",
      "\n"
     ]
    },
    {
     "name": "stdout",
     "output_type": "stream",
     "text": [
      "reference: delay_measurement : 4386\n",
      "load_exdir: file open time:  0.0029845237731933594\n",
      "reference: delay_measurement : 4386\n",
      "load_exdir: file open time:  0.0030069351196289062\n"
     ]
    },
    {
     "data": {
      "text/plain": [
       "<qsweepy.modem_readout.modem_readout at 0x1fa81216cc0>"
      ]
     },
     "execution_count": 65,
     "metadata": {},
     "output_type": "execute_result"
    }
   ],
   "source": [
    "imp.reload(exdir_db)\n",
    "imp.reload(database)\n",
    "imp.reload(sweep_extras)\n",
    "db = database.database()\n",
    "sweeper = sweep_extras.sweeper(db, sample_name=sample_name)\n",
    "exdir_db_inst = exdir_db.exdir_db(db=db, sample_name=sample_name)\n",
    "device = qubit_device.qubit_device(exdir_db_inst, sweeper)\n",
    "import imp\n",
    "from qsweepy.qubit_calibrations import readout_passthrough\n",
    "from qsweepy.fitters import exp_sin, fit_dataset\n",
    "imp.reload(awg_digital)\n",
    "imp.reload(awg_iq_multi)\n",
    "imp.reload(data_reduce)\n",
    "imp.reload(fitting)\n",
    "imp.reload(plotting)\n",
    "imp.reload(tomography)\n",
    "imp.reload(sweep)\n",
    "imp.reload(pulses)\n",
    "imp.reload(awg_channel)\n",
    "imp.reload(awg_iq_multi)\n",
    "imp.reload(modem_readout)\n",
    "imp.reload(qubit_device)\n",
    "imp.reload(single_shot_readout)\n",
    "imp.reload(readout_passthrough)\n",
    "imp.reload(exp_sin)\n",
    "imp.reload(fit_dataset)\n",
    "imp.reload(exdir_db)\n",
    "imp.reload(database)\n",
    "imp.reload(sweep_extras)\n",
    "\n",
    "db = database.database()\n",
    "sweeper = sweep_extras.sweeper(db, sample_name=sample_name)\n",
    "exdir_db_inst = exdir_db.exdir_db(db=db, sample_name=sample_name)\n",
    "\n",
    "hardware.setup_iq_channel_connections(exdir_db_inst)\n",
    "device = qubit_device.qubit_device(exdir_db_inst, sweeper)\n",
    "\n",
    "device.create_pulsed_interfaces(hardware.iq_devices, extra_channels={'ro_trg':hardware.ro_trg})\n",
    "device.setup_modem_readout(hardware)"
   ]
  },
  {
   "cell_type": "code",
   "execution_count": null,
   "metadata": {},
   "outputs": [],
   "source": []
  },
  {
   "cell_type": "markdown",
   "metadata": {},
   "source": [
    "## Single-channel Rabi"
   ]
  },
  {
   "cell_type": "code",
   "execution_count": 69,
   "metadata": {
    "ExecuteTime": {
     "end_time": "2019-07-08T07:05:13.897134Z",
     "start_time": "2019-07-08T07:05:13.858156Z"
    }
   },
   "outputs": [
    {
     "data": {
      "text/plain": [
       "<module 'qsweepy.single_shot_readout' from 'C:\\\\qtlab_replacement\\\\qsweepy\\\\single_shot_readout.py'>"
      ]
     },
     "execution_count": 69,
     "metadata": {},
     "output_type": "execute_result"
    }
   ],
   "source": [
    "from qsweepy.qubit_calibrations import excitation_pulse\n",
    "from qsweepy.qubit_calibrations import readout_pulse\n",
    "from qsweepy.qubit_calibrations import channel_amplitudes\n",
    "from qsweepy.qubit_calibrations import Rabi\n",
    "from qsweepy.qubit_calibrations import Ramsey\n",
    "from qsweepy.qubit_calibrations import calibrated_readout\n",
    "imp.reload(Ramsey)\n",
    "from qsweepy.fitters import exp_sin\n",
    "from qsweepy.fitters import fit_dataset\n",
    "imp.reload(fit_dataset)\n",
    "imp.reload(exp_sin)\n",
    "imp.reload(excitation_pulse)\n",
    "imp.reload(readout_pulse)\n",
    "imp.reload(Rabi)\n",
    "imp.reload(single_shot_readout)\n",
    "#Rabi.Rabi_rect_adaptive(device, '1', channel_amplitudes.channel_amplitudes(device, iq_ex1_q1=1.0))\n",
    "#Rabi.Rabi_rect_adaptive(device, '1', channel_amplitudes.channel_amplitudes(device, iq_ex3_q1=1.0))\n",
    "#Rabi.Rabi_rect_adaptive(device, '3', channel_amplitudes.channel_amplitudes(device, iq_ex1_q3=1.0))\n",
    "#Rabi.Rabi_rect_adaptive(device, '3', channel_amplitudes.channel_amplitudes(device, iq_ex3_q3=1.0))\n"
   ]
  },
  {
   "cell_type": "markdown",
   "metadata": {},
   "source": [
    "## Rabi"
   ]
  },
  {
   "cell_type": "code",
   "execution_count": 51,
   "metadata": {
    "ExecuteTime": {
     "end_time": "2019-07-08T04:21:41.221716Z",
     "start_time": "2019-07-08T04:21:38.634978Z"
    },
    "scrolled": true
   },
   "outputs": [
    {
     "name": "stdout",
     "output_type": "stream",
     "text": [
      "load_exdir: file open time:  0.002013683319091797\n",
      "load_exdir: file open time:  0.0019986629486083984\n",
      "load_exdir: file open time:  0.0009989738464355469\n",
      "load_exdir: file open time:  0.0009920597076416016\n",
      "reference: ('channel_calibration', 'iq_ex1_q1') : 4377\n",
      "load_exdir: file open time:  0.0019989013671875\n",
      "load_exdir: file open time:  0.0009989738464355469\n",
      "load_exdir: file open time:  0.001999378204345703\n",
      "c:\\data\\2019-07-07\\004400-fit_dataset_1d-1906-001_1_down\n",
      "load_exdir: file open time:  0.0020096302032470703\n",
      "c:\\data\\2019-07-07\\004399-Rabi_rect-1906-001_1_down\n",
      "load_exdir: file open time:  0.001997232437133789\n",
      "load_exdir: file open time:  0.0019850730895996094\n",
      "reference: channel_amplitudes : 4390\n",
      "reference: Rabi_rect : 4399\n",
      "load_exdir: file open time:  0.001997232437133789\n",
      "c:\\data\\2019-07-07\\004390-channel_amplitudes-1906-001_1_down\n",
      "load_exdir: file open time:  0.0019998550415039062\n",
      "load_exdir: file open time:  0.0019729137420654297\n",
      "reference: ('channel_calibration', 'iq_ex3_q1') : 4383\n",
      "load_exdir: file open time:  0.001996755599975586\n",
      "load_exdir: file open time:  0.001987457275390625\n",
      "load_exdir: file open time:  0.0010006427764892578\n",
      "c:\\data\\2019-07-07\\004405-fit_dataset_1d-1906-001_1_down\n",
      "load_exdir: file open time:  0.0019752979278564453\n",
      "c:\\data\\2019-07-07\\004404-Rabi_rect-1906-001_1_down\n",
      "load_exdir: file open time:  0.0019965171813964844\n",
      "load_exdir: file open time:  0.0009968280792236328\n",
      "reference: channel_amplitudes : 4391\n",
      "reference: Rabi_rect : 4404\n",
      "load_exdir: file open time:  0.0010213851928710938\n",
      "c:\\data\\2019-07-07\\004391-channel_amplitudes-1906-001_1_down\n",
      "load_exdir: file open time:  0.002997875213623047\n",
      "load_exdir: file open time:  0.002022266387939453\n",
      "load_exdir: file open time:  0.002000093460083008\n",
      "load_exdir: file open time:  0.0019960403442382812\n",
      "reference: ('channel_calibration', 'iq_ex1_q3') : 4378\n",
      "load_exdir: file open time:  0.001996755599975586\n",
      "load_exdir: file open time:  0.0009779930114746094\n",
      "load_exdir: file open time:  0.00199127197265625\n",
      "c:\\data\\2019-07-07\\004411-fit_dataset_1d-1906-001_1_down\n",
      "load_exdir: file open time:  0.001998424530029297\n",
      "c:\\data\\2019-07-07\\004410-Rabi_rect-1906-001_1_down\n",
      "load_exdir: file open time:  0.001001119613647461\n",
      "load_exdir: file open time:  0.0009942054748535156\n",
      "reference: channel_amplitudes : 4392\n",
      "reference: Rabi_rect : 4410\n",
      "load_exdir: file open time:  0.0019991397857666016\n",
      "c:\\data\\2019-07-07\\004392-channel_amplitudes-1906-001_1_down\n",
      "load_exdir: file open time:  0.0019752979278564453\n",
      "load_exdir: file open time:  0.0009996891021728516\n",
      "reference: ('channel_calibration', 'iq_ex3_q3') : 4384\n",
      "load_exdir: file open time:  0.0010218620300292969\n",
      "load_exdir: file open time:  0.001001119613647461\n",
      "load_exdir: file open time:  0.0009989738464355469\n",
      "c:\\data\\2019-07-07\\004414-fit_dataset_1d-1906-001_1_down\n",
      "load_exdir: file open time:  0.0029997825622558594\n",
      "c:\\data\\2019-07-07\\004413-Rabi_rect-1906-001_1_down\n",
      "load_exdir: file open time:  0.001992464065551758\n",
      "load_exdir: file open time:  0.0009980201721191406\n",
      "reference: channel_amplitudes : 4393\n",
      "reference: Rabi_rect : 4413\n",
      "load_exdir: file open time:  0.002016305923461914\n",
      "c:\\data\\2019-07-07\\004393-channel_amplitudes-1906-001_1_down\n",
      "load_exdir: file open time:  0.0010271072387695312\n"
     ]
    }
   ],
   "source": [
    "Rabi.calibrate_all_single_channel_Rabi(device)"
   ]
  },
  {
   "cell_type": "markdown",
   "metadata": {},
   "source": [
    "## Ramsey"
   ]
  },
  {
   "cell_type": "code",
   "execution_count": 52,
   "metadata": {
    "ExecuteTime": {
     "end_time": "2019-07-08T05:28:24.571968Z",
     "start_time": "2019-07-08T04:21:41.223715Z"
    },
    "scrolled": true
   },
   "outputs": [
    {
     "name": "stdout",
     "output_type": "stream",
     "text": [
      "load_exdir: file open time:  0.0019991397857666016\n",
      "load_exdir: file open time:  0.0019989013671875\n",
      "load_exdir: file open time:  0.0019986629486083984\n",
      "load_exdir: file open time:  0.001979351043701172\n",
      "load_exdir: file open time:  0.0009992122650146484\n",
      "load_exdir: file open time:  0.0020008087158203125\n",
      "load_exdir: file open time:  0.001981019973754883\n",
      "load_exdir: file open time:  0.0009992122650146484\n",
      "load_exdir: file open time:  0.0020003318786621094\n",
      "reference: channel_calibration : 4380\n",
      "load_exdir: file open time:  0.0009920597076416016\n",
      "reference: passthrough_measurement : 4394\n",
      "load_exdir: file open time:  0.002023458480834961\n",
      "load_exdir: file open time:  0.0010008811950683594\n",
      "reference: readout_pulse : 4395\n",
      "reference: modem_calibration : 4388\n",
      "load_exdir: file open time:  0.002017974853515625\n",
      "load_exdir: file open time:  0.0009958744049072266\n",
      "load_exdir: file open time:  0.001001119613647461\n",
      "load_exdir: file open time:  0.0009996891021728516\n",
      "c:\\data\\2019-07-07\\004400-fit_dataset_1d-1906-001_1_down\n",
      "load_exdir: file open time:  0.0019757747650146484\n",
      "c:\\data\\2019-07-07\\004399-Rabi_rect-1906-001_1_down\n",
      "load_exdir: file open time:  0.001998424530029297\n",
      "load_exdir: file open time:  0.00099945068359375\n",
      "reference: channel_amplitudes : 4390\n",
      "reference: Rabi_rect : 4399\n",
      "load_exdir: file open time:  0.0009996891021728516\n",
      "c:\\data\\2019-07-07\\004390-channel_amplitudes-1906-001_1_down\n",
      "load_exdir: file open time:  0.0009996891021728516\n",
      "load_exdir: file open time:  0.0019986629486083984\n",
      "load_exdir: file open time:  0.0010001659393310547\n",
      "c:\\data\\2019-07-07\\004400-fit_dataset_1d-1906-001_1_down\n",
      "load_exdir: file open time:  0.001999378204345703\n",
      "c:\\data\\2019-07-07\\004399-Rabi_rect-1906-001_1_down\n",
      "load_exdir: file open time:  0.002001047134399414\n",
      "load_exdir: file open time:  0.0010061264038085938\n",
      "reference: channel_amplitudes : 4390\n",
      "reference: Rabi_rect : 4399\n",
      "load_exdir: file open time:  0.0019571781158447266\n",
      "c:\\data\\2019-07-07\\004390-channel_amplitudes-1906-001_1_down\n",
      "load_exdir: file open time:  0.002017974853515625\n",
      "Inserting references: {'ex_pulse1': 4401, 'ex_pulse2': 4401, 'readout_calibration': 4398}\n",
      "Inserting references: {'fit_source': 4416}\n"
     ]
    },
    {
     "name": "stderr",
     "output_type": "stream",
     "text": [
      "Traceback (most recent call last):\n",
      "  File \"C:\\qtlab_replacement\\qsweepy\\fitters\\exp_sin.py\", line 23, in exp_sin_fit\n",
      "    raise ValueError\n",
      "ValueError\n",
      "C:\\qtlab_replacement\\qsweepy\\instrument_drivers\\Tektronix_AWG5014.py:651: ComplexWarning:\n",
      "\n",
      "Casting complex values to real discards the imaginary part\n",
      "\n",
      "C:\\ProgramData\\Anaconda3\\lib\\site-packages\\pyvisa\\resources\\messagebased.py:573: FutureWarning:\n",
      "\n",
      "ask is deprecated and will be removed in 1.10, use query instead.\n",
      "\n",
      "Traceback (most recent call last):\n",
      "  File \"C:\\qtlab_replacement\\qsweepy\\fitters\\exp_sin.py\", line 23, in exp_sin_fit\n",
      "    raise ValueError\n",
      "ValueError\n",
      "Traceback (most recent call last):\n",
      "  File \"C:\\qtlab_replacement\\qsweepy\\fitters\\exp_sin.py\", line 23, in exp_sin_fit\n",
      "    raise ValueError\n",
      "ValueError\n",
      "Traceback (most recent call last):\n",
      "  File \"C:\\qtlab_replacement\\qsweepy\\fitters\\exp_sin.py\", line 23, in exp_sin_fit\n",
      "    raise ValueError\n",
      "ValueError\n",
      "Traceback (most recent call last):\n",
      "  File \"C:\\qtlab_replacement\\qsweepy\\fitters\\exp_sin.py\", line 23, in exp_sin_fit\n",
      "    raise ValueError\n",
      "ValueError\n",
      "C:\\ProgramData\\Anaconda3\\lib\\site-packages\\scipy\\optimize\\minpack.py:436: RuntimeWarning:\n",
      "\n",
      "Number of calls to function has reached maxfev = 200.\n",
      "\n",
      "C:\\qtlab_replacement\\qsweepy\\fitters\\exp_sin.py:70: RuntimeWarning:\n",
      "\n",
      "overflow encountered in square\n",
      "\n"
     ]
    },
    {
     "name": "stdout",
     "output_type": "stream",
     "text": [
      "Waiting to join deferred threads:\n",
      "load_exdir: file open time:  0.0\n",
      "load_exdir: file open time:  0.0\n",
      "load_exdir: file open time:  0.00999903678894043\n",
      "load time:  0.029979944229125977\n",
      "pre_trace_time:  0.009999990463256836\n",
      "trace 0 time:  0.010020732879638672\n",
      "trace 1 time:  0.0200192928314209\n",
      "trace 2 time:  0.03001880645751953\n",
      "trace 3 time:  0.04001617431640625\n"
     ]
    },
    {
     "name": "stderr",
     "output_type": "stream",
     "text": [
      "C:\\ProgramData\\Anaconda3\\lib\\site-packages\\numpy\\core\\memmap.py:335: FutureWarning:\n",
      "\n",
      "Using a non-tuple sequence for multidimensional indexing is deprecated; use `arr[tuple(seq)]` instead of `arr[seq]`. In the future this will be interpreted as an array index, `arr[np.array(seq)]`, which will result either in an error or a different result.\n",
      "\n"
     ]
    },
    {
     "name": "stdout",
     "output_type": "stream",
     "text": [
      "load_exdir: file open time:  0.0\n",
      "load_exdir: file open time:  0.0\n",
      "load_exdir: file open time:  0.0\n",
      "load time:  0.02999591827392578\n",
      "pre_trace_time:  0.0\n",
      "trace 0 time:  0.00999903678894043\n",
      "trace 1 time:  0.019999265670776367\n",
      "trace 2 time:  0.02999734878540039\n",
      "trace 3 time:  0.03999829292297363\n",
      "load_exdir: file open time:  0.0\n",
      "load_exdir: file open time:  0.0\n",
      "reference: channel_calibration : 4380\n",
      "load_exdir: file open time:  0.0\n",
      "reference: passthrough_measurement : 4394\n",
      "load_exdir: file open time:  0.0\n",
      "load_exdir: file open time:  0.0\n",
      "reference: readout_pulse : 4395\n",
      "reference: modem_calibration : 4388\n",
      "load_exdir: file open time:  0.0\n",
      "load_exdir: file open time:  0.0\n",
      "load_exdir: file open time:  0.0\n",
      "load_exdir: file open time:  0.009999275207519531\n",
      "c:\\data\\2019-07-07\\004400-fit_dataset_1d-1906-001_1_down\n",
      "load_exdir: file open time:  0.0\n",
      "c:\\data\\2019-07-07\\004399-Rabi_rect-1906-001_1_down\n",
      "load_exdir: file open time:  0.0\n",
      "load_exdir: file open time:  0.0\n",
      "reference: channel_amplitudes : 4390\n",
      "reference: Rabi_rect : 4399\n",
      "load_exdir: file open time:  0.0\n",
      "c:\\data\\2019-07-07\\004390-channel_amplitudes-1906-001_1_down\n",
      "load_exdir: file open time:  0.0\n",
      "load_exdir: file open time:  0.0\n",
      "load_exdir: file open time:  0.009999752044677734\n",
      "c:\\data\\2019-07-07\\004400-fit_dataset_1d-1906-001_1_down\n",
      "load_exdir: file open time:  0.0\n",
      "c:\\data\\2019-07-07\\004399-Rabi_rect-1906-001_1_down\n",
      "load_exdir: file open time:  0.0\n",
      "load_exdir: file open time:  0.0\n",
      "reference: channel_amplitudes : 4390\n",
      "reference: Rabi_rect : 4399\n",
      "load_exdir: file open time:  0.0\n",
      "c:\\data\\2019-07-07\\004390-channel_amplitudes-1906-001_1_down\n",
      "load_exdir: file open time:  0.0\n",
      "Inserting references: {'ex_pulse1': 4401, 'ex_pulse2': 4401, 'readout_calibration': 4398}\n",
      "Inserting references: {'fit_source': 4418}\n"
     ]
    },
    {
     "name": "stderr",
     "output_type": "stream",
     "text": [
      "Traceback (most recent call last):\n",
      "  File \"C:\\qtlab_replacement\\qsweepy\\fitters\\exp_sin.py\", line 23, in exp_sin_fit\n",
      "    raise ValueError\n",
      "ValueError\n",
      "Traceback (most recent call last):\n",
      "  File \"C:\\qtlab_replacement\\qsweepy\\fitters\\exp_sin.py\", line 23, in exp_sin_fit\n",
      "    raise ValueError\n",
      "ValueError\n",
      "Traceback (most recent call last):\n",
      "  File \"C:\\qtlab_replacement\\qsweepy\\fitters\\exp_sin.py\", line 23, in exp_sin_fit\n",
      "    raise ValueError\n",
      "ValueError\n",
      "Traceback (most recent call last):\n",
      "  File \"C:\\qtlab_replacement\\qsweepy\\fitters\\exp_sin.py\", line 23, in exp_sin_fit\n",
      "    raise ValueError\n",
      "ValueError\n",
      "Traceback (most recent call last):\n",
      "  File \"C:\\qtlab_replacement\\qsweepy\\fitters\\exp_sin.py\", line 23, in exp_sin_fit\n",
      "    raise ValueError\n",
      "ValueError\n"
     ]
    },
    {
     "name": "stdout",
     "output_type": "stream",
     "text": [
      "Waiting to join deferred threads:\n",
      "load_exdir: file open time:  0.0\n",
      "load_exdir: file open time:  0.0\n",
      "load_exdir: file open time:  0.0\n",
      "load time:  0.02999711036682129\n",
      "pre_trace_time:  0.0\n",
      "trace 0 time:  0.010003328323364258\n",
      "trace 1 time:  0.0200045108795166\n",
      "trace 2 time:  0.03000020980834961\n",
      "trace 3 time:  0.03999519348144531\n",
      "load_exdir: file open time:  0.0\n",
      "load_exdir: file open time:  0.009999513626098633\n",
      "load_exdir: file open time:  0.0\n",
      "load time:  0.03997945785522461\n",
      "pre_trace_time:  0.0\n",
      "trace 0 time:  0.010015010833740234\n",
      "trace 1 time:  0.020014524459838867\n",
      "trace 2 time:  0.030012845993041992\n",
      "trace 3 time:  0.04001140594482422\n",
      "load_exdir: file open time:  0.0\n",
      "Inserting references: {}\n",
      "Updating qubit frequency: old frequency 3263886130.0, new frequency 3264050000.0\n",
      "load_exdir: file open time:  0.0\n",
      "load_exdir: file open time:  0.0\n",
      "load_exdir: file open time:  0.010016918182373047\n",
      "load_exdir: file open time:  0.0\n",
      "load_exdir: file open time:  0.0\n",
      "load_exdir: file open time:  0.0\n",
      "load_exdir: file open time:  0.0\n",
      "load_exdir: file open time:  0.0\n",
      "load_exdir: file open time:  0.0\n",
      "load_exdir: file open time:  0.0\n",
      "<class 'ValueError'> could not convert string to float: '(-0.0015767111995960092-0.04967945915414021j)'\n",
      "list index out of range\n",
      "-55950000.0 3264050000.0\n",
      "dc: -1.58e-03-4.97e-02j\tI:  4.00e-01\tQ: 5.00e-01-2.00e-01j\tB: -47.79 G: -38.06, C:0.00\n",
      "[-38.06329727 -63.11519241 -47.78813171]\n",
      "dc: -1.58e-03-4.97e-02j\tI:  4.00e-01\tQ: 5.25e-01-2.00e-01j\tB: -47.52 G: -37.87, C:0.00\n",
      "[-37.86732101 -62.52568436 -47.52416992]\n",
      "dc: -1.58e-03-4.97e-02j\tI:  4.00e-01\tQ: 5.00e-01-2.10e-01j\tB: -47.56 G: -38.03, C:0.00\n",
      "[-38.02963257 -63.02401352 -47.5622139 ]\n",
      "dc: -1.58e-03-4.97e-02j\tI:  4.00e-01\tQ: 5.25e-01-1.90e-01j\tB: -47.74 G: -37.90, C:0.00\n",
      "[-37.89534378 -62.60192108 -47.74016953]\n",
      "dc: -1.58e-03-4.97e-02j\tI:  4.00e-01\tQ: 5.37e-01-1.80e-01j\tB: -47.81 G: -37.83, C:0.00\n",
      "[-37.83201218 -62.39448166 -47.81106567]\n",
      "dc: -1.58e-03-4.97e-02j\tI:  4.00e-01\tQ: 5.12e-01-1.80e-01j\tB: -48.11 G: -38.02, C:0.00\n",
      "[-38.02124023 -62.99524689 -48.10900879]\n",
      "dc: -1.58e-03-4.97e-02j\tI:  4.00e-01\tQ: 5.06e-01-1.70e-01j\tB: -48.41 G: -38.10, C:0.00\n",
      "[-38.0992012  -63.22932434 -48.41246796]\n",
      "dc: -1.58e-03-4.97e-02j\tI:  4.00e-01\tQ: 5.44e-01-1.50e-01j\tB: -48.38 G: -37.86, C:0.00\n",
      "[-37.8622818  -62.46831894 -48.38292313]\n",
      "dc: -1.58e-03-4.97e-02j\tI:  4.00e-01\tQ: 5.66e-01-1.25e-01j\tB: -48.60 G: -37.76, C:0.00\n",
      "[-37.75762939 -62.08762741 -48.59931183]\n",
      "dc: -1.58e-03-4.97e-02j\tI:  4.00e-01\tQ: 5.34e-01-1.15e-01j\tB: -49.34 G: -38.02, C:0.00\n",
      "[-38.0196228  -62.90180969 -49.33805084]\n",
      "dc: -1.58e-03-4.97e-02j\tI:  4.00e-01\tQ: 5.33e-01-8.25e-02j\tB: -50.18 G: -38.11, C:0.00\n",
      "[-38.10781097 -63.09596634 -50.17861176]\n",
      "dc: -1.58e-03-4.97e-02j\tI:  4.00e-01\tQ: 5.92e-01-3.75e-02j\tB: -49.93 G: -37.74, C:0.00\n",
      "[-37.73527908 -61.73891068 -49.92879868]\n",
      "dc: -1.58e-03-4.97e-02j\tI:  4.00e-01\tQ: 6.35e-01+2.87e-02j\tB: -50.02 G: -37.53, C:0.00\n",
      "[-37.53046799 -60.77401352 -50.02396774]\n",
      "dc: -1.58e-03-4.97e-02j\tI:  4.00e-01\tQ: 6.02e-01+7.12e-02j\tB: -51.64 G: -37.81, C:0.00\n",
      "[-37.80911636 -61.42998123 -51.64145279]\n",
      "dc: -1.58e-03-4.97e-02j\tI:  4.00e-01\tQ: 6.21e-01+1.69e-01j\tB: -51.89 G: -37.75, C:0.00\n",
      "[-37.75066376 -60.59919739 -51.89175797]\n",
      "dc: -1.58e-03-4.97e-02j\tI:  4.00e-01\tQ: 7.23e-01+2.81e-01j\tB: -48.97 G: -37.18, C:0.00\n",
      "[-37.17713547 -58.10337448 -48.96977997]\n",
      "dc: -1.58e-03-4.97e-02j\tI:  4.00e-01\tQ: 5.80e-01+8.28e-03j\tB: -51.19 G: -37.89, C:0.00\n",
      "[-37.89212418 -62.05225754 -51.19145203]\n",
      "dc: -1.58e-03-4.97e-02j\tI:  4.00e-01\tQ: 5.66e-01+1.49e-01j\tB: -53.99 G: -38.14, C:0.00\n",
      "[-38.13645554 -61.93000031 -53.98685455]\n",
      "dc: -1.58e-03-4.97e-02j\tI:  4.00e-01\tQ: 5.31e-01+2.09e-01j\tB: -55.58 G: -38.42, C:0.00\n",
      "[-38.42326736 -62.27674484 -55.58306122]\n",
      "dc: -1.58e-03-4.97e-02j\tI:  4.00e-01\tQ: 5.72e-01+3.70e-01j\tB: -51.43 G: -38.09, C:0.00\n",
      "[-38.09328079 -59.81167603 -51.42874146]\n",
      "dc: -1.58e-03-4.97e-02j\tI:  4.00e-01\tQ: 5.74e-01+2.80e-01j\tB: -52.92 G: -38.10, C:0.00\n",
      "[-38.1035347  -60.7054863  -52.91751862]\n",
      "dc: -1.58e-03-4.97e-02j\tI:  4.00e-01\tQ: 4.84e-01+3.19e-01j\tB: -54.46 G: -38.76, C:0.00\n",
      "[-38.75685883 -62.04687119 -54.45836258]\n",
      "dc: -1.58e-03-4.97e-02j\tI:  4.00e-01\tQ: 4.42e-01+2.49e-01j\tB: -58.65 G: -39.17, C:0.00\n",
      "[-39.16596222 -63.939991   -58.65345001]\n",
      "dc: -1.58e-03-4.97e-02j\tI:  4.00e-01\tQ: 3.76e-01+2.33e-01j\tB: -60.65 G: -39.80, C:0.00\n",
      "[-39.80471039 -65.82920837 -60.64788055]\n",
      "dc: -1.58e-03-4.97e-02j\tI:  4.00e-01\tQ: 4.23e-01+1.23e-01j\tB: -65.16 G: -39.37, C:0.00\n",
      "[-39.36677933 -65.88115692 -65.15552521]\n",
      "dc: -1.58e-03-4.97e-02j\tI:  4.00e-01\tQ: 3.92e-01+2.46e-02j\tB: -58.00 G: -39.59, C:0.00\n",
      "[-39.59257507 -67.37703705 -57.99519348]\n",
      "dc: -1.58e-03-4.97e-02j\tI:  4.00e-01\tQ: 2.67e-01+1.47e-01j\tB: -57.91 G: -41.09, C:0.00\n",
      "[-41.08964539 -70.25086212 -57.90679169]\n",
      "dc: -1.58e-03-4.97e-02j\tI:  4.00e-01\tQ: 4.65e-01+1.93e-01j\tB: -60.02 G: -38.97, C:0.00\n",
      "[-38.97444534 -64.03142548 -60.01548004]\n",
      "dc: -1.58e-03-4.97e-02j\tI:  4.00e-01\tQ: 5.12e-01+8.32e-02j\tB: -55.65 G: -38.52, C:0.00\n",
      "[-38.52279282 -63.6218605  -55.65291595]\n",
      "dc: -1.58e-03-4.97e-02j\tI:  4.00e-01\tQ: 4.10e-01+1.96e-01j\tB: -64.34 G: -39.49, C:0.00\n",
      "[-39.48961639 -65.46646118 -64.33791351]\n",
      "dc: -1.58e-03-4.97e-02j\tI:  4.00e-01\tQ: 3.67e-01+1.25e-01j\tB: -71.20 G: -39.93, C:0.00\n",
      "[-39.93397141 -67.53632355 -71.20314789]\n",
      "dc: -1.58e-03-4.97e-02j\tI:  4.00e-01\tQ: 3.19e-01+9.07e-02j\tB: -61.56 G: -40.47, C:0.00\n",
      "[-40.46838379 -69.39368439 -61.56013107]\n",
      "dc: -1.58e-03-4.97e-02j\tI:  4.00e-01\tQ: 3.80e-01+5.22e-02j\tB: -60.46 G: -39.75, C:0.00\n",
      "[-39.74883652 -67.67295837 -60.45571899]\n",
      "dc: -1.58e-03-4.97e-02j\tI:  4.00e-01\tQ: 4.03e-01+1.60e-01j\tB: -69.79 G: -39.57, C:0.00\n",
      "[-39.57122421 -66.11190033 -69.79466248]\n",
      "dc: -1.58e-03-4.97e-02j\tI:  4.00e-01\tQ: 3.47e-01+1.62e-01j\tB: -66.43 G: -40.15, C:0.00\n",
      "[-40.15319443 -67.68943024 -66.43438721]\n",
      "dc: -1.58e-03-4.97e-02j\tI:  4.00e-01\tQ: 3.66e-01+1.52e-01j\tB: -71.52 G: -39.95, C:0.00\n",
      "[-39.95116043 -67.25901794 -71.51681519]\n",
      "dc: -1.58e-03-4.97e-02j\tI:  4.00e-01\tQ: 3.31e-01+1.17e-01j\tB: -64.39 G: -40.33, C:0.00\n",
      "[-40.33334732 -68.74758148 -64.39273834]\n",
      "dc: -1.58e-03-4.97e-02j\tI:  4.00e-01\tQ: 3.85e-01+1.49e-01j\tB: -74.56 G: -39.75, C:0.00\n",
      "[-39.75360489 -66.75614166 -74.56487274]\n",
      "dc: -1.58e-03-4.97e-02j\tI:  4.00e-01\tQ: 3.83e-01+1.76e-01j\tB: -68.37 G: -39.76, C:0.00\n",
      "[-39.76205063 -66.45761108 -68.37431335]\n",
      "dc: -1.58e-03-4.97e-02j\tI:  4.00e-01\tQ: 3.71e-01+1.38e-01j\tB: -73.85 G: -39.89, C:0.00\n",
      "[-39.89344406 -67.27347565 -73.8515625 ]\n",
      "dc: -1.58e-03-4.97e-02j\tI:  4.00e-01\tQ: 3.90e-01+1.35e-01j\tB: -73.29 G: -39.70, C:0.00\n",
      "[-39.69736862 -66.74913788 -73.28744507]\n",
      "dc: -1.58e-03-4.97e-02j\tI:  4.00e-01\tQ: 3.84e-01+1.39e-01j\tB: -75.01 G: -39.76, C:0.00\n",
      "[-39.76224136 -66.88500214 -75.00667572]\n",
      "dc: -1.58e-03-4.97e-02j\tI:  4.00e-01\tQ: 3.97e-01+1.50e-01j\tB: -71.93 G: -39.63, C:0.00\n",
      "[-39.62680817 -66.36193848 -71.93438721]\n",
      "dc: -1.58e-03-4.97e-02j\tI:  4.00e-01\tQ: 3.78e-01+1.41e-01j\tB: -75.15 G: -39.82, C:0.00\n",
      "[-39.82355499 -67.04814148 -75.14936829]\n",
      "dc: -1.58e-03-4.97e-02j\tI:  4.00e-01\tQ: 3.77e-01+1.31e-01j\tB: -73.66 G: -39.83, C:0.00\n",
      "[-39.82881546 -67.17614746 -73.66085815]\n",
      "dc: -1.58e-03-4.97e-02j\tI:  4.00e-01\tQ: 3.83e-01+1.45e-01j\tB: -75.22 G: -39.77, C:0.00\n",
      "[-39.77149963 -66.85861969 -75.22488403]\n",
      "dc: -1.58e-03-4.97e-02j\tI:  4.00e-01\tQ: 3.77e-01+1.46e-01j\tB: -74.68 G: -39.84, C:0.00\n",
      "[-39.83750153 -67.02300262 -74.6802063 ]\n",
      "dc: -1.58e-03-4.97e-02j\tI:  4.00e-01\tQ: 3.82e-01+1.41e-01j\tB: -75.29 G: -39.78, C:0.00\n",
      "[-39.7777977  -66.91172791 -75.29214478]\n",
      "dc: -1.58e-03-4.97e-02j\tI:  4.00e-01\tQ: 3.87e-01+1.45e-01j\tB: -74.70 G: -39.73, C:0.00\n",
      "[-39.72750854 -66.72598267 -74.69570923]\n",
      "dc: -1.58e-03-4.97e-02j\tI:  4.00e-01\tQ: 3.80e-01+1.42e-01j\tB: -75.33 G: -39.80, C:0.00\n",
      "[-39.79935455 -66.96395874 -75.32740021]\n",
      "dc: -1.58e-03-4.97e-02j\tI:  4.00e-01\tQ: 3.80e-01+1.38e-01j\tB: -75.09 G: -39.81, C:0.00\n",
      "[-39.80527496 -67.02597046 -75.09127808]\n",
      "dc: -1.58e-03-4.97e-02j\tI:  4.00e-01\tQ: 3.82e-01+1.43e-01j\tB: -75.31 G: -39.78, C:0.00\n",
      "[-39.77918625 -66.89868164 -75.31462097]\n",
      "dc: -1.58e-03-4.97e-02j\tI:  4.00e-01\tQ: 3.80e-01+1.44e-01j\tB: -75.27 G: -39.80, C:0.00\n",
      "[-39.80075836 -66.95054626 -75.27313995]\n",
      "dc: -1.58e-03-4.97e-02j\tI:  4.00e-01\tQ: 3.82e-01+1.42e-01j\tB: -75.33 G: -39.79, C:0.00\n",
      "[-39.78606415 -66.92835999 -75.32889557]\n",
      "dc: -1.58e-03-4.97e-02j\tI:  4.00e-01\tQ: 3.83e-01+1.43e-01j\tB: -75.24 G: -39.77, C:0.00\n",
      "[-39.76541138 -66.85311127 -75.23602295]\n"
     ]
    },
    {
     "name": "stdout",
     "output_type": "stream",
     "text": [
      "dc: -1.58e-03-4.97e-02j\tI:  4.00e-01\tQ: 3.81e-01+1.42e-01j\tB: -75.34 G: -39.79, C:0.00\n",
      "[-39.79113007 -66.93955231 -75.33553314]\n",
      "dc: -1.58e-03-4.97e-02j\tI:  4.00e-01\tQ: 3.81e-01+1.41e-01j\tB: -75.31 G: -39.79, C:0.00\n",
      "[-39.79428864 -66.96356964 -75.31299591]\n",
      "dc: -1.58e-03-4.97e-02j\tI:  4.00e-01\tQ: 3.82e-01+1.42e-01j\tB: -75.35 G: -39.78, C:0.00\n",
      "[-39.78403091 -66.91123962 -75.3457489 ]\n",
      "dc: -1.58e-03-4.97e-02j\tI:  4.00e-01\tQ: 3.81e-01+1.43e-01j\tB: -75.34 G: -39.79, C:0.00\n",
      "[-39.79072571 -66.93729401 -75.33875275]\n",
      "dc: -1.58e-03-4.97e-02j\tI:  4.00e-01\tQ: 3.82e-01+1.43e-01j\tB: -75.33 G: -39.78, C:0.00\n",
      "[-39.78426361 -66.89958954 -75.33451843]\n",
      "dc: -1.58e-03-4.97e-02j\tI:  4.00e-01\tQ: 3.82e-01+1.43e-01j\tB: -75.31 G: -39.78, C:0.00\n",
      "[-39.77878952 -66.88908386 -75.31041718]\n",
      "dc: -1.58e-03-4.97e-02j\tI:  4.00e-01\tQ: 3.81e-01+1.43e-01j\tB: -75.34 G: -39.79, C:0.00\n",
      "[-39.78804016 -66.9099884  -75.3381958 ]\n",
      "dc: -1.58e-03-4.97e-02j\tI:  4.00e-01\tQ: 3.82e-01+1.43e-01j\tB: -75.31 G: -39.78, C:0.00\n",
      "[-39.78092957 -66.89434052 -75.3144989 ]\n",
      "dc: -1.58e-03-4.97e-02j\tI:  4.00e-01\tQ: 3.82e-01+1.43e-01j\tB: -75.34 G: -39.79, C:0.00\n",
      "[-39.78577805 -66.90219879 -75.34487152]\n",
      "dc: -1.58e-03-4.97e-02j\tI:  4.00e-01\tQ: 3.82e-01+1.42e-01j\tB: -75.34 G: -39.79, C:0.00\n",
      "[-39.78697205 -66.9148941  -75.34109497]\n",
      "dc: -1.58e-03-4.97e-02j\tI:  4.00e-01\tQ: 3.82e-01+1.42e-01j\tB: -75.34 G: -39.79, C:0.00\n",
      "[-39.78548813 -66.9018631  -75.33842468]\n",
      "dc: -1.58e-03-4.97e-02j\tI:  4.00e-01\tQ: 3.82e-01+1.43e-01j\tB: -75.34 G: -39.79, C:0.00\n",
      "[-39.78556824 -66.9001236  -75.34217834]\n",
      "dc: -1.58e-03-4.97e-02j\tI:  4.00e-01\tQ: 3.82e-01+1.43e-01j\tB: -75.34 G: -39.78, C:0.00\n",
      "[-39.78491974 -66.89920807 -75.33909607]\n",
      "dc: -1.58e-03-4.97e-02j\tI:  4.00e-01\tQ: 3.82e-01+1.42e-01j\tB: -75.34 G: -39.79, C:0.00\n",
      "[-39.78570557 -66.91170502 -75.34099579]\n",
      "dc: -1.58e-03-4.97e-02j\tI:  4.00e-01\tQ: 3.82e-01+1.42e-01j\tB: -75.34 G: -39.79, C:0.00\n",
      "[-39.78538513 -66.91757965 -75.33869934]\n",
      "dc: -1.58e-03-4.97e-02j\tI:  4.00e-01\tQ: 3.82e-01+1.43e-01j\tB: -75.32 G: -39.78, C:0.00\n",
      "[-39.78497314 -66.90583801 -75.32493591]\n",
      "dc: -1.58e-03-4.97e-02j\tI:  4.00e-01\tQ: 3.82e-01+1.43e-01j\tB: -75.33 G: -39.79, C:0.00\n",
      "[-39.78715515 -66.89490509 -75.33486176]\n",
      "dc: -1.58e-03-4.97e-02j\tI:  4.00e-01\tQ: 3.82e-01+1.43e-01j\tB: -75.35 G: -39.78, C:0.00\n",
      "[-39.78430939 -66.90601349 -75.34773254]\n",
      "dc: -1.58e-03-4.97e-02j\tI:  4.00e-01\tQ: 3.82e-01+1.43e-01j\tB: -75.33 G: -39.79, C:0.00\n",
      "[-39.7870369  -66.89793396 -75.33456421]\n",
      "dc: -1.58e-03-4.97e-02j\tI:  4.00e-01\tQ: 3.82e-01+1.42e-01j\tB: -75.34 G: -39.78, C:0.00\n",
      "[-39.78379059 -66.90869141 -75.33721924]\n",
      "dc: -1.58e-03-4.97e-02j\tI:  4.00e-01\tQ: 3.82e-01+1.42e-01j\tB: -75.34 G: -39.79, C:0.00\n",
      "[-39.78631592 -66.91527557 -75.33779144]\n",
      "dc: -1.58e-03-4.97e-02j\tI:  4.00e-01\tQ: 3.82e-01+1.43e-01j\tB: -75.34 G: -39.79, C:0.00\n",
      "[-39.78501129 -66.89887238 -75.34350586]\n",
      "dc: -1.58e-03-4.97e-02j\tI:  4.00e-01\tQ: 3.82e-01+1.43e-01j\tB: -75.34 G: -39.79, C:0.00\n",
      "[-39.78541946 -66.90284729 -75.34262085]\n",
      "dc: -1.58e-03-4.97e-02j\tI:  4.00e-01\tQ: 3.82e-01+1.42e-01j\tB: -75.32 G: -39.78, C:0.00\n",
      "[-39.78492355 -66.89844513 -75.32226562]\n",
      "dc: -1.58e-03-4.97e-02j\tI:  4.00e-01\tQ: 3.82e-01+1.43e-01j\tB: -75.33 G: -39.79, C:0.00\n",
      "[-39.78639603 -66.8978653  -75.33482361]\n",
      "dc: -1.58e-03-4.97e-02j\tI:  4.00e-01\tQ: 3.82e-01+1.43e-01j\tB: -75.33 G: -39.79, C:0.00\n",
      "[-39.78528214 -66.90933228 -75.334198  ]\n",
      "dc: -1.58e-03-4.97e-02j\tI:  4.00e-01\tQ: 3.82e-01+1.43e-01j\tB: -75.34 G: -39.79, C:0.00\n",
      "[-39.78763199 -66.90533447 -75.3372345 ]\n",
      "dc: -1.58e-03-4.97e-02j\tI:  4.00e-01\tQ: 3.82e-01+1.43e-01j\tB: -75.33 G: -39.78, C:0.00\n",
      "[-39.78395844 -66.89875031 -75.33168793]\n",
      "dc: -1.58e-03-4.97e-02j\tI:  4.00e-01\tQ: 3.82e-01+1.43e-01j\tB: -75.35 G: -39.79, C:0.00\n",
      "[-39.78634262 -66.91537476 -75.34629822]\n",
      "dc: -1.58e-03-4.97e-02j\tI:  4.00e-01\tQ: 3.82e-01+1.43e-01j\tB: -75.33 G: -39.78, C:0.00\n",
      "[-39.784832   -66.90992737 -75.3291626 ]\n",
      "dc: -1.58e-03-4.97e-02j\tI:  4.00e-01\tQ: 3.82e-01+1.43e-01j\tB: -75.33 G: -39.79, C:0.00\n",
      "[-39.78738785 -66.90680695 -75.33219147]\n",
      "dc: -1.58e-03-4.97e-02j\tI:  4.00e-01\tQ: 3.82e-01+1.43e-01j\tB: -75.35 G: -39.78, C:0.00\n",
      "[-39.78388977 -66.9094162  -75.34905243]\n",
      "dc: -1.58e-03-4.97e-02j\tI:  4.00e-01\tQ: 3.82e-01+1.43e-01j\tB: -75.33 G: -39.78, C:0.00\n",
      "[-39.78369141 -66.89684296 -75.32997894]\n",
      "Warning: Maximum number of iterations has been exceeded.\n",
      "dc: -1.58e-03-4.97e-02j\tI:  4.00e-01\tQ: 3.82e-01+1.43e-01j\tB: -53.70 G: -39.78, C:0.00\n",
      "[-75.28414917 -72.26528168 -69.20418549 -39.78355408 -66.9053421\n",
      " -75.33685303 -72.20285797 -71.5280304  -75.4250412 ]\n",
      "Inserting references: {}\n",
      "load_exdir: file open time:  0.0\n",
      "load_exdir: file open time:  0.010000944137573242\n",
      "<class 'ValueError'> could not convert string to float: '(-0.018034207538124215-0.000856974659797645j)'\n",
      "load_exdir: file open time:  0.0\n",
      "load_exdir: file open time:  0.0\n",
      "load_exdir: file open time:  0.0\n",
      "<class 'ValueError'> could not convert string to float: '(-0.09790106812338162-0.14809755161948335j)'\n",
      "list index out of range\n",
      "-55950000.0 3264050000.0\n",
      "dc: -9.79e-02-1.48e-01j\tI:  4.00e-01\tQ: 5.00e-01-2.00e-01j\tB: -57.40 G: -49.22, C:0.00\n",
      "[-49.21910477 -57.32934952 -57.40092468]\n",
      "dc: -9.79e-02-1.48e-01j\tI:  4.00e-01\tQ: 5.25e-01-2.00e-01j\tB: -57.19 G: -49.07, C:0.00\n",
      "[-49.07237244 -56.88359451 -57.19455719]\n",
      "dc: -9.79e-02-1.48e-01j\tI:  4.00e-01\tQ: 5.00e-01-2.10e-01j\tB: -57.17 G: -49.19, C:0.00\n",
      "[-49.19495392 -57.26140213 -57.17387772]\n",
      "dc: -9.79e-02-1.48e-01j\tI:  4.00e-01\tQ: 5.25e-01-1.90e-01j\tB: -57.42 G: -49.09, C:0.00\n",
      "[-49.09370041 -56.94241333 -57.42287064]\n",
      "dc: -9.79e-02-1.48e-01j\tI:  4.00e-01\tQ: 5.37e-01-1.80e-01j\tB: -57.53 G: -49.05, C:0.00\n",
      "[-49.04682159 -56.78132248 -57.5282135 ]\n",
      "dc: -9.79e-02-1.48e-01j\tI:  4.00e-01\tQ: 5.12e-01-1.80e-01j\tB: -57.76 G: -49.20, C:0.00\n",
      "[-49.1961937  -57.22570419 -57.76082993]\n",
      "dc: -9.79e-02-1.48e-01j\tI:  4.00e-01\tQ: 5.06e-01-1.70e-01j\tB: -58.05 G: -49.26, C:0.00\n",
      "[-49.26046753 -57.39823532 -58.05309677]\n",
      "dc: -9.79e-02-1.48e-01j\tI:  4.00e-01\tQ: 5.44e-01-1.50e-01j\tB: -58.14 G: -49.08, C:0.00\n",
      "[-49.08426285 -56.80690002 -58.13898468]\n",
      "dc: -9.79e-02-1.48e-01j\tI:  4.00e-01\tQ: 5.66e-01-1.25e-01j\tB: -58.44 G: -49.01, C:0.00\n",
      "[-49.00984192 -56.52046967 -58.44258499]\n",
      "dc: -9.79e-02-1.48e-01j\tI:  4.00e-01\tQ: 5.34e-01-1.15e-01j\tB: -59.12 G: -49.22, C:0.00\n",
      "[-49.219944   -57.12010193 -59.1235199 ]\n",
      "dc: -9.79e-02-1.48e-01j\tI:  4.00e-01\tQ: 5.33e-01-8.25e-02j\tB: -60.02 G: -49.30, C:0.00\n",
      "[-49.3032074  -57.25427246 -60.01714325]\n",
      "dc: -9.79e-02-1.48e-01j\tI:  4.00e-01\tQ: 5.92e-01-3.75e-02j\tB: -60.05 G: -49.04, C:0.00\n",
      "[-49.03929138 -56.22560501 -60.05193329]\n",
      "dc: -9.79e-02-1.48e-01j\tI:  4.00e-01\tQ: 6.35e-01+2.87e-02j\tB: -60.41 G: -48.92, C:0.00\n",
      "[-48.91732025 -55.50852203 -60.40510559]\n",
      "dc: -9.79e-02-1.48e-01j\tI:  4.00e-01\tQ: 6.02e-01+7.12e-02j\tB: -62.35 G: -49.17, C:0.00\n",
      "[-49.17385483 -55.94624329 -62.34674072]\n",
      "dc: -9.79e-02-1.48e-01j\tI:  4.00e-01\tQ: 6.21e-01+1.69e-01j\tB: -63.16 G: -49.21, C:0.00\n",
      "[-49.21137238 -55.32812881 -63.16273499]\n",
      "dc: -9.79e-02-1.48e-01j\tI:  4.00e-01\tQ: 7.23e-01+2.81e-01j\tB: -59.48 G: -48.74, C:0.00\n",
      "[-48.74245453 -53.68842316 -59.48004913]\n",
      "dc: -9.79e-02-1.48e-01j\tI:  4.00e-01\tQ: 6.75e-01+1.90e-01j\tB: -61.07 G: -48.92, C:0.00\n",
      "[-48.91798019 -54.53437805 -61.06654739]\n",
      "dc: -9.79e-02-1.48e-01j\tI:  4.00e-01\tQ: 6.61e-01+3.30e-01j\tB: -61.05 G: -49.14, C:0.00\n",
      "[-49.13952637 -54.0428772  -61.05479431]\n",
      "dc: -9.79e-02-1.48e-01j\tI:  4.00e-01\tQ: 6.55e-01+2.55e-01j\tB: -61.88 G: -49.11, C:0.00\n",
      "[-49.11468887 -54.49522781 -61.87618256]\n",
      "dc: -9.79e-02-1.48e-01j\tI:  4.00e-01\tQ: 6.00e-01+2.35e-01j\tB: -64.33 G: -49.42, C:0.00\n",
      "[-49.41625214 -55.28490448 -64.32561493]\n",
      "dc: -9.79e-02-1.48e-01j\tI:  4.00e-01\tQ: 5.62e-01+2.57e-01j\tB: -66.08 G: -49.68, C:0.00\n",
      "[-49.67713928 -55.66921234 -66.07689667]\n",
      "dc: -9.79e-02-1.48e-01j\tI:  4.00e-01\tQ: 5.28e-01+1.71e-01j\tB: -68.55 G: -49.78, C:0.00\n",
      "[-49.78439713 -56.81330872 -68.54911804]\n",
      "dc: -9.79e-02-1.48e-01j\tI:  4.00e-01\tQ: 4.65e-01+1.29e-01j\tB: -71.26 G: -50.15, C:0.00\n",
      "[-50.15254211 -58.41279221 -71.26330566]\n",
      "dc: -9.79e-02-1.48e-01j\tI:  4.00e-01\tQ: 4.06e-01+2.17e-01j\tB: -71.37 G: -50.73, C:0.00\n",
      "[-50.72895813 -58.9111557  -71.36777496]\n",
      "dc: -9.79e-02-1.48e-01j\tI:  4.00e-01\tQ: 3.09e-01+8.94e-02j\tB: -64.61 G: -51.38, C:0.00\n",
      "[-51.38397217 -63.57376862 -64.61264038]\n",
      "dc: -9.79e-02-1.48e-01j\tI:  4.00e-01\tQ: 4.99e-01+2.15e-01j\tB: -70.96 G: -50.04, C:0.00\n",
      "[-50.04472351 -57.02797699 -70.96247101]\n"
     ]
    },
    {
     "name": "stdout",
     "output_type": "stream",
     "text": [
      "dc: -9.79e-02-1.48e-01j\tI:  4.00e-01\tQ: 5.57e-01+1.27e-01j\tB: -65.68 G: -49.53, C:0.00\n",
      "[-49.53193665 -56.52351761 -65.68493652]\n",
      "dc: -9.79e-02-1.48e-01j\tI:  4.00e-01\tQ: 4.44e-01+1.95e-01j\tB: -74.18 G: -50.41, C:0.00\n",
      "[-50.40621948 -58.32714844 -74.18434906]\n",
      "dc: -9.79e-02-1.48e-01j\tI:  4.00e-01\tQ: 4.10e-01+1.09e-01j\tB: -70.07 G: -50.53, C:0.00\n",
      "[-50.53162766 -59.9793396  -70.0707016 ]\n",
      "dc: -9.79e-02-1.48e-01j\tI:  4.00e-01\tQ: 4.77e-01+1.89e-01j\tB: -72.97 G: -50.16, C:0.00\n",
      "[-50.1606636  -57.69085312 -72.96585083]\n",
      "dc: -9.79e-02-1.48e-01j\tI:  4.00e-01\tQ: 4.56e-01+2.54e-01j\tB: -71.06 G: -50.40, C:0.00\n",
      "[-50.39588928 -57.45310211 -71.0606842 ]\n",
      "dc: -9.79e-02-1.48e-01j\tI:  4.00e-01\tQ: 4.63e-01+1.60e-01j\tB: -73.19 G: -50.22, C:0.00\n",
      "[-50.22048187 -58.23202896 -73.1904068 ]\n",
      "dc: -9.79e-02-1.48e-01j\tI:  4.00e-01\tQ: 4.30e-01+1.67e-01j\tB: -73.74 G: -50.47, C:0.00\n",
      "[-50.47068405 -58.93234634 -73.73825073]\n",
      "dc: -9.79e-02-1.48e-01j\tI:  4.00e-01\tQ: 4.11e-01+2.01e-01j\tB: -72.37 G: -50.66, C:0.00\n",
      "[-50.66422272 -58.99654388 -72.36992645]\n",
      "dc: -9.79e-02-1.48e-01j\tI:  4.00e-01\tQ: 4.50e-01+1.71e-01j\tB: -74.06 G: -50.33, C:0.00\n",
      "[-50.32844543 -58.43567276 -74.0573349 ]\n",
      "dc: -9.79e-02-1.48e-01j\tI:  4.00e-01\tQ: 4.64e-01+1.99e-01j\tB: -73.69 G: -50.27, C:0.00\n",
      "[-50.26695633 -57.86652756 -73.69117737]\n",
      "dc: -9.79e-02-1.48e-01j\tI:  4.00e-01\tQ: 4.55e-01+1.91e-01j\tB: -74.14 G: -50.31, C:0.00\n",
      "[-50.31351471 -58.11885452 -74.14061737]\n",
      "dc: -9.79e-02-1.48e-01j\tI:  4.00e-01\tQ: 4.49e-01+2.15e-01j\tB: -73.46 G: -50.39, C:0.00\n",
      "[-50.38932419 -57.99614716 -73.45738983]\n",
      "dc: -9.79e-02-1.48e-01j\tI:  4.00e-01\tQ: 4.50e-01+1.82e-01j\tB: -74.27 G: -50.34, C:0.00\n",
      "[-50.34243774 -58.33142471 -74.27046204]\n",
      "dc: -9.79e-02-1.48e-01j\tI:  4.00e-01\tQ: 4.61e-01+1.78e-01j\tB: -73.83 G: -50.25, C:0.00\n",
      "[-50.25413132 -58.1158905  -73.82679749]\n",
      "dc: -9.79e-02-1.48e-01j\tI:  4.00e-01\tQ: 4.48e-01+1.90e-01j\tB: -74.26 G: -50.36, C:0.00\n",
      "[-50.36490631 -58.27563095 -74.26034546]\n",
      "dc: -9.79e-02-1.48e-01j\tI:  4.00e-01\tQ: 4.43e-01+1.81e-01j\tB: -74.29 G: -50.40, C:0.00\n",
      "[-50.39510727 -58.49187088 -74.28625488]\n",
      "dc: -9.79e-02-1.48e-01j\tI:  4.00e-01\tQ: 4.46e-01+1.84e-01j\tB: -74.30 G: -50.37, C:0.00\n",
      "[-50.37475967 -58.39397049 -74.29821014]\n",
      "dc: -9.79e-02-1.48e-01j\tI:  4.00e-01\tQ: 4.47e-01+1.75e-01j\tB: -74.19 G: -50.35, C:0.00\n",
      "[-50.34955215 -58.44807053 -74.1938324 ]\n",
      "dc: -9.79e-02-1.48e-01j\tI:  4.00e-01\tQ: 4.48e-01+1.86e-01j\tB: -74.30 G: -50.36, C:0.00\n",
      "[-50.36151505 -58.31784058 -74.30303955]\n",
      "dc: -9.79e-02-1.48e-01j\tI:  4.00e-01\tQ: 4.52e-01+1.84e-01j\tB: -74.25 G: -50.33, C:0.00\n",
      "[-50.32965088 -58.25598145 -74.25102234]\n",
      "dc: -9.79e-02-1.48e-01j\tI:  4.00e-01\tQ: 4.47e-01+1.84e-01j\tB: -74.31 G: -50.36, C:0.00\n",
      "[-50.36270142 -58.36167145 -74.30770874]\n",
      "dc: -9.79e-02-1.48e-01j\tI:  4.00e-01\tQ: 4.46e-01+1.89e-01j\tB: -74.29 G: -50.38, C:0.00\n",
      "[-50.38343811 -58.35087585 -74.29345703]\n",
      "dc: -9.79e-02-1.48e-01j\tI:  4.00e-01\tQ: 4.49e-01+1.83e-01j\tB: -74.29 G: -50.36, C:0.00\n",
      "[-50.35762405 -58.33678055 -74.29431915]\n",
      "dc: -9.79e-02-1.48e-01j\tI:  4.00e-01\tQ: 4.47e-01+1.87e-01j\tB: -74.30 G: -50.37, C:0.00\n",
      "[-50.37397003 -58.34676361 -74.2986908 ]\n",
      "dc: -9.79e-02-1.48e-01j\tI:  4.00e-01\tQ: 4.48e-01+1.84e-01j\tB: -74.29 G: -50.36, C:0.00\n",
      "[-50.36423111 -58.33501434 -74.28962708]\n",
      "dc: -9.79e-02-1.48e-01j\tI:  4.00e-01\tQ: 4.48e-01+1.85e-01j\tB: -74.31 G: -50.37, C:0.00\n",
      "[-50.36588287 -58.34014511 -74.31331635]\n",
      "dc: -9.79e-02-1.48e-01j\tI:  4.00e-01\tQ: 4.48e-01+1.84e-01j\tB: -74.28 G: -50.36, C:0.00\n",
      "[-50.36103058 -58.34604645 -74.27838135]\n",
      "dc: -9.79e-02-1.48e-01j\tI:  4.00e-01\tQ: 4.47e-01+1.85e-01j\tB: -74.31 G: -50.37, C:0.00\n",
      "[-50.37178421 -58.35324097 -74.31189728]\n",
      "dc: -9.79e-02-1.48e-01j\tI:  4.00e-01\tQ: 4.47e-01+1.85e-01j\tB: -74.31 G: -50.37, C:0.00\n",
      "[-50.36812592 -58.35303879 -74.30795288]\n",
      "dc: -9.79e-02-1.48e-01j\tI:  4.00e-01\tQ: 4.47e-01+1.84e-01j\tB: -74.30 G: -50.37, C:0.00\n",
      "[-50.36725998 -58.34830856 -74.29696655]\n",
      "dc: -9.79e-02-1.48e-01j\tI:  4.00e-01\tQ: 4.48e-01+1.84e-01j\tB: -74.32 G: -50.36, C:0.00\n",
      "[-50.36234665 -58.340168   -74.31697845]\n",
      "dc: -9.79e-02-1.48e-01j\tI:  4.00e-01\tQ: 4.48e-01+1.85e-01j\tB: -74.29 G: -50.36, C:0.00\n",
      "[-50.36275482 -58.33149338 -74.29348755]\n",
      "dc: -9.79e-02-1.48e-01j\tI:  4.00e-01\tQ: 4.48e-01+1.85e-01j\tB: -74.29 G: -50.36, C:0.00\n",
      "[-50.36271286 -58.33285904 -74.29219818]\n",
      "dc: -9.79e-02-1.48e-01j\tI:  4.00e-01\tQ: 4.48e-01+1.85e-01j\tB: -74.31 G: -50.37, C:0.00\n",
      "[-50.36539078 -58.33703232 -74.30738068]\n",
      "dc: -9.79e-02-1.48e-01j\tI:  4.00e-01\tQ: 4.48e-01+1.84e-01j\tB: -74.32 G: -50.36, C:0.00\n",
      "[-50.36474228 -58.34610748 -74.31587219]\n",
      "dc: -9.79e-02-1.48e-01j\tI:  4.00e-01\tQ: 4.48e-01+1.84e-01j\tB: -74.30 G: -50.36, C:0.00\n",
      "[-50.36259842 -58.34606934 -74.30493164]\n",
      "dc: -9.79e-02-1.48e-01j\tI:  4.00e-01\tQ: 4.48e-01+1.84e-01j\tB: -74.30 G: -50.36, C:0.00\n",
      "[-50.36289978 -58.34522247 -74.3012085 ]\n",
      "dc: -9.79e-02-1.48e-01j\tI:  4.00e-01\tQ: 4.48e-01+1.84e-01j\tB: -74.31 G: -50.36, C:0.00\n",
      "[-50.36288452 -58.34248352 -74.31368256]\n",
      "dc: -9.79e-02-1.48e-01j\tI:  4.00e-01\tQ: 4.48e-01+1.85e-01j\tB: -74.29 G: -50.36, C:0.00\n",
      "[-50.36442566 -58.34088135 -74.29016113]\n",
      "dc: -9.79e-02-1.48e-01j\tI:  4.00e-01\tQ: 4.48e-01+1.84e-01j\tB: -74.30 G: -50.36, C:0.00\n",
      "[-50.36252213 -58.34423828 -74.30079651]\n",
      "dc: -9.79e-02-1.48e-01j\tI:  4.00e-01\tQ: 4.48e-01+1.84e-01j\tB: -74.30 G: -50.36, C:0.00\n",
      "[-50.36410904 -58.34427643 -74.30301666]\n",
      "dc: -9.79e-02-1.48e-01j\tI:  4.00e-01\tQ: 4.48e-01+1.84e-01j\tB: -74.30 G: -50.37, C:0.00\n",
      "[-50.36617279 -58.34175873 -74.30219269]\n",
      "dc: -9.79e-02-1.48e-01j\tI:  4.00e-01\tQ: 4.48e-01+1.84e-01j\tB: -74.32 G: -50.36, C:0.00\n",
      "[-50.36328888 -58.34454727 -74.31659698]\n",
      "dc: -9.79e-02-1.48e-01j\tI:  4.00e-01\tQ: 4.48e-01+1.84e-01j\tB: -74.30 G: -50.36, C:0.00\n",
      "[-50.3605957  -58.3418541  -74.30329895]\n",
      "dc: -9.79e-02-1.48e-01j\tI:  4.00e-01\tQ: 4.48e-01+1.84e-01j\tB: -74.28 G: -50.36, C:0.00\n",
      "[-50.36382675 -58.34489441 -74.28024292]\n",
      "dc: -9.79e-02-1.48e-01j\tI:  4.00e-01\tQ: 4.48e-01+1.84e-01j\tB: -74.32 G: -50.36, C:0.00\n",
      "[-50.36279678 -58.34172821 -74.31626129]\n",
      "dc: -9.79e-02-1.48e-01j\tI:  4.00e-01\tQ: 4.48e-01+1.84e-01j\tB: -74.31 G: -50.37, C:0.00\n",
      "[-50.36692429 -58.33979797 -74.30932617]\n",
      "dc: -9.79e-02-1.48e-01j\tI:  4.00e-01\tQ: 4.48e-01+1.84e-01j\tB: -74.30 G: -50.36, C:0.00\n",
      "[-50.3649826  -58.34173584 -74.29994965]\n",
      "dc: -9.79e-02-1.48e-01j\tI:  4.00e-01\tQ: 4.48e-01+1.84e-01j\tB: -74.31 G: -50.37, C:0.00\n",
      "[-50.36552429 -58.34626389 -74.30999756]\n",
      "dc: -9.79e-02-1.48e-01j\tI:  4.00e-01\tQ: 4.48e-01+1.84e-01j\tB: -74.31 G: -50.36, C:0.00\n",
      "[-50.36409378 -58.35012054 -74.30596924]\n",
      "dc: -9.79e-02-1.48e-01j\tI:  4.00e-01\tQ: 4.48e-01+1.84e-01j\tB: -74.29 G: -50.36, C:0.00\n",
      "[-50.36429977 -58.34551239 -74.29127502]\n",
      "dc: -9.79e-02-1.48e-01j\tI:  4.00e-01\tQ: 4.48e-01+1.84e-01j\tB: -74.30 G: -50.37, C:0.00\n",
      "[-50.36898422 -58.34440994 -74.30431366]\n",
      "dc: -9.79e-02-1.48e-01j\tI:  4.00e-01\tQ: 4.48e-01+1.84e-01j\tB: -74.30 G: -50.37, C:0.00\n",
      "[-50.36692429 -58.34563446 -74.30350494]\n",
      "dc: -9.79e-02-1.48e-01j\tI:  4.00e-01\tQ: 4.48e-01+1.84e-01j\tB: -74.31 G: -50.36, C:0.00\n",
      "[-50.36449814 -58.34284592 -74.30587006]\n",
      "dc: -9.79e-02-1.48e-01j\tI:  4.00e-01\tQ: 4.48e-01+1.84e-01j\tB: -74.31 G: -50.37, C:0.00\n",
      "[-50.36725235 -58.34209824 -74.30922699]\n",
      "dc: -9.79e-02-1.48e-01j\tI:  4.00e-01\tQ: 4.48e-01+1.84e-01j\tB: -74.30 G: -50.36, C:0.00\n",
      "[-50.36486435 -58.34317398 -74.29903412]\n",
      "dc: -9.79e-02-1.48e-01j\tI:  4.00e-01\tQ: 4.48e-01+1.84e-01j\tB: -74.30 G: -50.36, C:0.00\n",
      "[-50.36394501 -58.34407043 -74.30234528]\n",
      "dc: -9.79e-02-1.48e-01j\tI:  4.00e-01\tQ: 4.48e-01+1.84e-01j\tB: -74.30 G: -50.36, C:0.00\n",
      "[-50.36281586 -58.34375763 -74.30471039]\n",
      "dc: -9.79e-02-1.48e-01j\tI:  4.00e-01\tQ: 4.48e-01+1.84e-01j\tB: -74.30 G: -50.36, C:0.00\n",
      "[-50.36445618 -58.34447479 -74.30224609]\n",
      "dc: -9.79e-02-1.48e-01j\tI:  4.00e-01\tQ: 4.48e-01+1.84e-01j\tB: -74.29 G: -50.36, C:0.00\n",
      "[-50.36423874 -58.34374619 -74.28810883]\n",
      "dc: -9.79e-02-1.48e-01j\tI:  4.00e-01\tQ: 4.48e-01+1.84e-01j\tB: -74.30 G: -50.37, C:0.00\n",
      "[-50.36536789 -58.34795761 -74.29718018]\n",
      "dc: -9.79e-02-1.48e-01j\tI:  4.00e-01\tQ: 4.48e-01+1.84e-01j\tB: -74.31 G: -50.36, C:0.00\n",
      "[-50.36456299 -58.34424591 -74.31443787]\n",
      "dc: -9.79e-02-1.48e-01j\tI:  4.00e-01\tQ: 4.48e-01+1.84e-01j\tB: -74.31 G: -50.36, C:0.00\n",
      "[-50.36357498 -58.33896255 -74.3070755 ]\n",
      "dc: -9.79e-02-1.48e-01j\tI:  4.00e-01\tQ: 4.48e-01+1.84e-01j\tB: -74.29 G: -50.36, C:0.00\n",
      "[-50.36320496 -58.3417778  -74.2911377 ]\n",
      "dc: -9.79e-02-1.48e-01j\tI:  4.00e-01\tQ: 4.48e-01+1.84e-01j\tB: -74.31 G: -50.36, C:0.00\n",
      "[-50.3632431  -58.34234619 -74.30792999]\n"
     ]
    },
    {
     "name": "stdout",
     "output_type": "stream",
     "text": [
      "dc: -9.79e-02-1.48e-01j\tI:  4.00e-01\tQ: 4.48e-01+1.84e-01j\tB: -74.29 G: -50.36, C:0.00\n",
      "[-50.36090469 -58.34399414 -74.29227448]\n",
      "dc: -9.79e-02-1.48e-01j\tI:  4.00e-01\tQ: 4.48e-01+1.84e-01j\tB: -74.30 G: -50.36, C:0.00\n",
      "[-50.36103439 -58.34288406 -74.30166626]\n",
      "dc: -9.79e-02-1.48e-01j\tI:  4.00e-01\tQ: 4.48e-01+1.84e-01j\tB: -74.30 G: -50.36, C:0.00\n",
      "[-50.35972595 -58.3395195  -74.30173492]\n",
      "dc: -9.79e-02-1.48e-01j\tI:  4.00e-01\tQ: 4.48e-01+1.84e-01j\tB: -74.30 G: -50.36, C:0.00\n",
      "[-50.36138535 -58.34247208 -74.30043793]\n",
      "Warning: Maximum number of iterations has been exceeded.\n",
      "dc: -9.79e-02-1.48e-01j\tI:  4.00e-01\tQ: 4.48e-01+1.84e-01j\tB: -49.19 G: -50.36, C:0.00\n",
      "[-75.28323364 -71.9808197  -65.61764526 -50.36066437 -58.34282684\n",
      " -74.29560089 -62.74900818 -73.62135315 -74.75392914]\n",
      "Inserting references: {}\n",
      "load_exdir: file open time:  0.0\n",
      "load_exdir: file open time:  0.0\n",
      "load_exdir: file open time:  0.0\n",
      "reference: channel_calibration : 4380\n",
      "load_exdir: file open time:  0.0\n",
      "reference: passthrough_measurement : 4394\n",
      "load_exdir: file open time:  0.0\n",
      "load_exdir: file open time:  0.0\n",
      "reference: readout_pulse : 4395\n",
      "reference: modem_calibration : 4388\n",
      "load_exdir: file open time:  0.0\n",
      "load_exdir: file open time:  0.0\n",
      "load_exdir: file open time:  0.0\n",
      "load_exdir: file open time:  0.010015249252319336\n",
      "load_exdir: file open time:  0.0\n",
      "load_exdir: file open time:  0.0\n",
      "load_exdir: file open time:  0.0\n",
      "reference: ('channel_calibration', 'iq_ex1_q1') : 4421\n",
      "Inserting references: {('channel_calibration', 'iq_ex1_q1'): 4421}\n",
      "load_exdir: file open time:  0.0\n",
      "load_exdir: file open time:  0.0\n",
      "load_exdir: file open time:  0.0\n",
      "load_exdir: file open time:  0.0\n",
      "load_exdir: file open time:  0.0\n",
      "load_exdir: file open time:  0.0\n",
      "0 1.0000000000000001e-07 1e-09\n",
      "load_exdir: file open time:  0.010002374649047852\n",
      "load_exdir: file open time:  0.0\n",
      "reference: channel_calibration : 4380\n",
      "load_exdir: file open time:  0.0\n",
      "reference: passthrough_measurement : 4394\n",
      "load_exdir: file open time:  0.0\n",
      "load_exdir: file open time:  0.0\n",
      "reference: readout_pulse : 4395\n",
      "reference: modem_calibration : 4388\n",
      "load_exdir: file open time:  0.0\n",
      "load_exdir: file open time:  0.0\n",
      "Inserting references: {'channel_amplitudes': 4423, 'readout_calibration': 4398}\n",
      "Inserting references: {'fit_source': 4424}\n"
     ]
    },
    {
     "name": "stderr",
     "output_type": "stream",
     "text": [
      "Traceback (most recent call last):\n",
      "  File \"C:\\qtlab_replacement\\qsweepy\\fitters\\exp_sin.py\", line 23, in exp_sin_fit\n",
      "    raise ValueError\n",
      "ValueError\n",
      "Traceback (most recent call last):\n",
      "  File \"C:\\qtlab_replacement\\qsweepy\\fitters\\exp_sin.py\", line 23, in exp_sin_fit\n",
      "    raise ValueError\n",
      "ValueError\n",
      "Traceback (most recent call last):\n",
      "  File \"C:\\qtlab_replacement\\qsweepy\\fitters\\exp_sin.py\", line 23, in exp_sin_fit\n",
      "    raise ValueError\n",
      "ValueError\n",
      "Traceback (most recent call last):\n",
      "  File \"C:\\qtlab_replacement\\qsweepy\\fitters\\exp_sin.py\", line 23, in exp_sin_fit\n",
      "    raise ValueError\n",
      "ValueError\n",
      "Traceback (most recent call last):\n",
      "  File \"C:\\qtlab_replacement\\qsweepy\\fitters\\exp_sin.py\", line 23, in exp_sin_fit\n",
      "    raise ValueError\n",
      "ValueError\n"
     ]
    },
    {
     "name": "stdout",
     "output_type": "stream",
     "text": [
      "Waiting to join deferred threads:\n",
      "load_exdir: file open time:  0.0\n",
      "load_exdir: file open time:  0.0\n",
      "load_exdir: file open time:  0.0\n",
      "load time:  0.02999711036682129\n",
      "pre_trace_time:  0.0\n",
      "trace 0 time:  0.009996652603149414\n",
      "trace 1 time:  0.020000219345092773\n",
      "trace 2 time:  0.029995441436767578\n",
      "trace 3 time:  0.03999519348144531\n",
      "load_exdir: file open time:  0.0\n",
      "load_exdir: file open time:  0.0\n",
      "load_exdir: file open time:  0.00999903678894043\n",
      "load time:  0.03000164031982422\n",
      "pre_trace_time:  0.009978294372558594\n",
      "trace 0 time:  0.010017871856689453\n",
      "trace 1 time:  0.020017623901367188\n",
      "trace 2 time:  0.030014991760253906\n",
      "trace 3 time:  0.04001331329345703\n",
      "load_exdir: file open time:  0.0\n",
      "load_exdir: file open time:  0.0\n",
      "c:\\data\\2019-07-07\\004425-fit_dataset_1d-1906-001_1_down\n",
      "load_exdir: file open time:  0.0\n",
      "c:\\data\\2019-07-07\\004424-Rabi_rect-1906-001_1_down\n",
      "load_exdir: file open time:  0.0\n",
      "load_exdir: file open time:  0.0\n",
      "reference: channel_amplitudes : 4423\n",
      "reference: Rabi_rect : 4424\n",
      "Inserting references: {'channel_amplitudes': 4423, 'Rabi_rect': 4424}\n",
      "c:\\data\\2019-07-07\\004423-channel_amplitudes-1906-001_1_down\n",
      "load_exdir: file open time:  0.0\n",
      "load_exdir: file open time:  0.0\n",
      "reference: ('channel_calibration', 'iq_ex3_q1') : 4422\n",
      "Inserting references: {('channel_calibration', 'iq_ex3_q1'): 4422}\n",
      "load_exdir: file open time:  0.010015487670898438\n",
      "load_exdir: file open time:  0.0\n",
      "load_exdir: file open time:  0.0\n",
      "load_exdir: file open time:  0.0\n",
      "load_exdir: file open time:  0.0\n",
      "load_exdir: file open time:  0.0\n",
      "0 1.0000000000000001e-07 1e-09\n",
      "load_exdir: file open time:  0.0\n",
      "load_exdir: file open time:  0.0\n"
     ]
    },
    {
     "name": "stderr",
     "output_type": "stream",
     "text": [
      "Traceback (most recent call last):\n",
      "  File \"C:\\qtlab_replacement\\qsweepy\\qubit_calibrations\\excitation_pulse.py\", line 34, in __init__\n",
      "    measurement = self.device.exdir_db.select_measurement(measurement_type='qubit_excitation_pulse', metadata=metadata, references_that=references)\n",
      "  File \"C:\\qtlab_replacement\\qsweepy\\exdir_db.py\", line 48, in select_measurement\n",
      "    return save_exdir.load_exdir(list(measurement_db_list.order_by(lambda d: desc(d.id)).limit(1))[0].filename, db=self.db)\n",
      "IndexError: list index out of range\n"
     ]
    },
    {
     "name": "stdout",
     "output_type": "stream",
     "text": [
      "reference: channel_calibration : 4380\n",
      "load_exdir: file open time:  0.0\n",
      "reference: passthrough_measurement : 4394\n",
      "load_exdir: file open time:  0.0\n",
      "load_exdir: file open time:  0.0\n",
      "reference: readout_pulse : 4395\n",
      "reference: modem_calibration : 4388\n",
      "load_exdir: file open time:  0.0\n",
      "load_exdir: file open time:  0.010002613067626953\n",
      "Inserting references: {'channel_amplitudes': 4427, 'readout_calibration': 4398}\n",
      "Inserting references: {'fit_source': 4428}\n"
     ]
    },
    {
     "name": "stderr",
     "output_type": "stream",
     "text": [
      "Traceback (most recent call last):\n",
      "  File \"C:\\qtlab_replacement\\qsweepy\\fitters\\exp_sin.py\", line 23, in exp_sin_fit\n",
      "    raise ValueError\n",
      "ValueError\n",
      "Traceback (most recent call last):\n",
      "  File \"C:\\qtlab_replacement\\qsweepy\\fitters\\exp_sin.py\", line 23, in exp_sin_fit\n",
      "    raise ValueError\n",
      "ValueError\n",
      "Traceback (most recent call last):\n",
      "  File \"C:\\qtlab_replacement\\qsweepy\\fitters\\exp_sin.py\", line 23, in exp_sin_fit\n",
      "    raise ValueError\n",
      "ValueError\n",
      "Traceback (most recent call last):\n",
      "  File \"C:\\qtlab_replacement\\qsweepy\\fitters\\exp_sin.py\", line 23, in exp_sin_fit\n",
      "    raise ValueError\n",
      "ValueError\n",
      "Traceback (most recent call last):\n",
      "  File \"C:\\qtlab_replacement\\qsweepy\\fitters\\exp_sin.py\", line 23, in exp_sin_fit\n",
      "    raise ValueError\n",
      "ValueError\n"
     ]
    },
    {
     "name": "stdout",
     "output_type": "stream",
     "text": [
      "Waiting to join deferred threads:\n",
      "load_exdir: file open time:  0.0\n",
      "load_exdir: file open time:  0.0\n",
      "load_exdir: file open time:  0.0\n",
      "load time:  0.02999424934387207\n",
      "pre_trace_time:  0.0\n",
      "trace 0 time:  0.009999990463256836\n",
      "trace 1 time:  0.019997835159301758\n",
      "trace 2 time:  0.029996871948242188\n",
      "trace 3 time:  0.03999733924865723\n",
      "load_exdir: file open time:  0.0\n",
      "load_exdir: file open time:  0.0\n",
      "load_exdir: file open time:  0.010003805160522461\n",
      "load time:  0.039999961853027344\n",
      "pre_trace_time:  0.0\n",
      "trace 0 time:  0.009995222091674805\n",
      "trace 1 time:  0.01999497413635254\n",
      "trace 2 time:  0.02999281883239746\n",
      "trace 3 time:  0.039992570877075195\n",
      "load_exdir: file open time:  0.0\n",
      "load_exdir: file open time:  0.009998798370361328\n",
      "reference: channel_calibration : 4380\n",
      "load_exdir: file open time:  0.0\n",
      "reference: passthrough_measurement : 4394\n",
      "load_exdir: file open time:  0.009999752044677734\n",
      "load_exdir: file open time:  0.0\n",
      "reference: readout_pulse : 4395\n",
      "reference: modem_calibration : 4388\n",
      "load_exdir: file open time:  0.0\n",
      "load_exdir: file open time:  0.0\n",
      "Inserting references: {'channel_amplitudes': 4427, 'readout_calibration': 4398}\n",
      "Inserting references: {'fit_source': 4430}\n"
     ]
    },
    {
     "name": "stderr",
     "output_type": "stream",
     "text": [
      "Traceback (most recent call last):\n",
      "  File \"C:\\qtlab_replacement\\qsweepy\\fitters\\exp_sin.py\", line 23, in exp_sin_fit\n",
      "    raise ValueError\n",
      "ValueError\n",
      "Traceback (most recent call last):\n",
      "  File \"C:\\qtlab_replacement\\qsweepy\\fitters\\exp_sin.py\", line 23, in exp_sin_fit\n",
      "    raise ValueError\n",
      "ValueError\n",
      "Traceback (most recent call last):\n",
      "  File \"C:\\qtlab_replacement\\qsweepy\\fitters\\exp_sin.py\", line 23, in exp_sin_fit\n",
      "    raise ValueError\n",
      "ValueError\n",
      "Traceback (most recent call last):\n",
      "  File \"C:\\qtlab_replacement\\qsweepy\\fitters\\exp_sin.py\", line 23, in exp_sin_fit\n",
      "    raise ValueError\n",
      "ValueError\n",
      "Traceback (most recent call last):\n",
      "  File \"C:\\qtlab_replacement\\qsweepy\\fitters\\exp_sin.py\", line 23, in exp_sin_fit\n",
      "    raise ValueError\n",
      "ValueError\n"
     ]
    },
    {
     "name": "stdout",
     "output_type": "stream",
     "text": [
      "Waiting to join deferred threads:\n",
      "load_exdir: file open time:  0.0019991397857666016\n",
      "load_exdir: file open time:  0.0009996891021728516\n",
      "load_exdir: file open time:  0.002020120620727539\n",
      "load time:  0.0359807014465332\n",
      "pre_trace_time:  0.0\n",
      "trace 0 time:  0.01397085189819336\n",
      "trace 1 time:  0.026990413665771484\n",
      "trace 2 time:  0.03998112678527832\n",
      "trace 3 time:  0.05297517776489258\n",
      "load_exdir: file open time:  0.00197601318359375\n",
      "load_exdir: file open time:  0.0019998550415039062\n",
      "load_exdir: file open time:  0.0019989013671875\n",
      "load time:  0.03598308563232422\n",
      "pre_trace_time:  0.0009996891021728516\n",
      "trace 0 time:  0.013992547988891602\n",
      "trace 1 time:  0.025986909866333008\n",
      "trace 2 time:  0.037981510162353516\n",
      "trace 3 time:  0.04997587203979492\n",
      "load_exdir: file open time:  0.001999378204345703\n",
      "load_exdir: file open time:  0.0009992122650146484\n",
      "c:\\data\\2019-07-07\\004431-fit_dataset_1d-1906-001_1_down\n",
      "load_exdir: file open time:  0.0020220279693603516\n",
      "c:\\data\\2019-07-07\\004430-Rabi_rect-1906-001_1_down\n",
      "load_exdir: file open time:  0.0009980201721191406\n",
      "load_exdir: file open time:  0.0019986629486083984\n",
      "reference: channel_amplitudes : 4427\n",
      "reference: Rabi_rect : 4430\n",
      "Inserting references: {'channel_amplitudes': 4427, 'Rabi_rect': 4430}\n",
      "c:\\data\\2019-07-07\\004427-channel_amplitudes-1906-001_1_down\n",
      "load_exdir: file open time:  0.0010099411010742188\n",
      "load_exdir: file open time:  0.000993490219116211\n",
      "load_exdir: file open time:  0.0009822845458984375\n",
      "c:\\data\\2019-07-07\\004425-fit_dataset_1d-1906-001_1_down\n",
      "load_exdir: file open time:  0.0019762516021728516\n"
     ]
    },
    {
     "name": "stderr",
     "output_type": "stream",
     "text": [
      "Traceback (most recent call last):\n",
      "  File \"C:\\qtlab_replacement\\qsweepy\\qubit_calibrations\\excitation_pulse.py\", line 34, in __init__\n",
      "    measurement = self.device.exdir_db.select_measurement(measurement_type='qubit_excitation_pulse', metadata=metadata, references_that=references)\n",
      "  File \"C:\\qtlab_replacement\\qsweepy\\exdir_db.py\", line 48, in select_measurement\n",
      "    return save_exdir.load_exdir(list(measurement_db_list.order_by(lambda d: desc(d.id)).limit(1))[0].filename, db=self.db)\n",
      "IndexError: list index out of range\n"
     ]
    },
    {
     "name": "stdout",
     "output_type": "stream",
     "text": [
      "c:\\data\\2019-07-07\\004424-Rabi_rect-1906-001_1_down\n",
      "load_exdir: file open time:  0.0010218620300292969\n",
      "load_exdir: file open time:  0.0009996891021728516\n",
      "reference: channel_amplitudes : 4423\n",
      "reference: Rabi_rect : 4424\n",
      "load_exdir: file open time:  0.00299835205078125\n",
      "c:\\data\\2019-07-07\\004423-channel_amplitudes-1906-001_1_down\n",
      "load_exdir: file open time:  0.0019991397857666016\n",
      "load_exdir: file open time:  0.0009987354278564453\n",
      "load_exdir: file open time:  0.0020072460174560547\n",
      "c:\\data\\2019-07-07\\004425-fit_dataset_1d-1906-001_1_down\n",
      "load_exdir: file open time:  0.0019876956939697266\n",
      "c:\\data\\2019-07-07\\004424-Rabi_rect-1906-001_1_down\n",
      "load_exdir: file open time:  0.0019989013671875\n",
      "load_exdir: file open time:  0.0020208358764648438\n",
      "reference: channel_amplitudes : 4423\n",
      "reference: Rabi_rect : 4424\n",
      "load_exdir: file open time:  0.001001119613647461\n",
      "c:\\data\\2019-07-07\\004423-channel_amplitudes-1906-001_1_down\n",
      "load_exdir: file open time:  0.002000570297241211\n",
      "Inserting references: {'ex_pulse1': 4426, 'ex_pulse2': 4426, 'readout_calibration': 4398}\n",
      "Inserting references: {'fit_source': 4433}\n"
     ]
    },
    {
     "name": "stderr",
     "output_type": "stream",
     "text": [
      "Traceback (most recent call last):\n",
      "  File \"C:\\qtlab_replacement\\qsweepy\\fitters\\exp_sin.py\", line 23, in exp_sin_fit\n",
      "    raise ValueError\n",
      "ValueError\n",
      "Traceback (most recent call last):\n",
      "  File \"C:\\qtlab_replacement\\qsweepy\\fitters\\exp_sin.py\", line 23, in exp_sin_fit\n",
      "    raise ValueError\n",
      "ValueError\n",
      "Traceback (most recent call last):\n",
      "  File \"C:\\qtlab_replacement\\qsweepy\\fitters\\exp_sin.py\", line 23, in exp_sin_fit\n",
      "    raise ValueError\n",
      "ValueError\n",
      "Traceback (most recent call last):\n",
      "  File \"C:\\qtlab_replacement\\qsweepy\\fitters\\exp_sin.py\", line 23, in exp_sin_fit\n",
      "    raise ValueError\n",
      "ValueError\n",
      "Traceback (most recent call last):\n",
      "  File \"C:\\qtlab_replacement\\qsweepy\\fitters\\exp_sin.py\", line 23, in exp_sin_fit\n",
      "    raise ValueError\n",
      "ValueError\n"
     ]
    },
    {
     "name": "stdout",
     "output_type": "stream",
     "text": [
      "Waiting to join deferred threads:\n",
      "load_exdir: file open time:  0.0009992122650146484\n",
      "load_exdir: file open time:  0.0009996891021728516\n",
      "load_exdir: file open time:  0.0010004043579101562\n",
      "load time:  0.032988786697387695\n",
      "pre_trace_time:  0.0009989738464355469\n",
      "trace 0 time:  0.013972043991088867\n",
      "trace 1 time:  0.025966405868530273\n",
      "trace 2 time:  0.03696131706237793\n",
      "trace 3 time:  0.047955989837646484\n",
      "load_exdir: file open time:  0.001995563507080078\n",
      "load_exdir: file open time:  0.0009951591491699219\n",
      "load_exdir: file open time:  0.000997781753540039\n",
      "load time:  0.03500509262084961\n",
      "pre_trace_time:  0.0009980201721191406\n",
      "trace 0 time:  0.01299285888671875\n",
      "trace 1 time:  0.023986339569091797\n",
      "trace 2 time:  0.034978628158569336\n",
      "trace 3 time:  0.04495692253112793\n",
      "load_exdir: file open time:  0.0019752979278564453\n",
      "Inserting references: {}\n",
      "Updating qubit frequency: old frequency 3264050000.0, new frequency 3264100000.0\n",
      "load_exdir: file open time:  0.0009992122650146484\n",
      "load_exdir: file open time:  0.0009984970092773438\n",
      "load_exdir: file open time:  0.0009937286376953125\n",
      "load_exdir: file open time:  0.0009942054748535156\n",
      "load_exdir: file open time:  0.0019998550415039062\n",
      "load_exdir: file open time:  0.0019998550415039062\n",
      "load_exdir: file open time:  0.0009970664978027344\n",
      "load_exdir: file open time:  0.002017498016357422\n",
      "load_exdir: file open time:  0.0009763240814208984\n",
      "load_exdir: file open time:  0.000995635986328125\n",
      "<class 'ValueError'> could not convert string to float: '(-0.0015767111995960092-0.04967945915414021j)'\n",
      "list index out of range\n",
      "-55900000.0 3264100000.0\n",
      "dc: -1.58e-03-4.97e-02j\tI:  4.00e-01\tQ: 5.00e-01-2.00e-01j\tB: -47.82 G: -38.08, C:0.00\n",
      "[-38.08458328 -63.16666031 -47.82406616]\n",
      "dc: -1.58e-03-4.97e-02j\tI:  4.00e-01\tQ: 5.25e-01-2.00e-01j\tB: -47.56 G: -37.89, C:0.00\n",
      "[-37.88850021 -62.59345627 -47.56276703]\n",
      "dc: -1.58e-03-4.97e-02j\tI:  4.00e-01\tQ: 5.00e-01-2.10e-01j\tB: -47.60 G: -38.05, C:0.00\n",
      "[-38.04974747 -63.09113312 -47.601017  ]\n",
      "dc: -1.58e-03-4.97e-02j\tI:  4.00e-01\tQ: 5.25e-01-1.90e-01j\tB: -47.78 G: -37.92, C:0.00\n",
      "[-37.9179039  -62.67812347 -47.78129578]\n",
      "dc: -1.58e-03-4.97e-02j\tI:  4.00e-01\tQ: 5.37e-01-1.80e-01j\tB: -47.85 G: -37.85, C:0.00\n",
      "[-37.85215759 -62.46246719 -47.84664917]\n",
      "dc: -1.58e-03-4.97e-02j\tI:  4.00e-01\tQ: 5.12e-01-1.80e-01j\tB: -48.14 G: -38.04, C:0.00\n",
      "[-38.04273224 -63.05344009 -48.14476776]\n",
      "dc: -1.58e-03-4.97e-02j\tI:  4.00e-01\tQ: 5.06e-01-1.70e-01j\tB: -48.45 G: -38.12, C:0.00\n",
      "[-38.12479019 -63.29418945 -48.44874954]\n",
      "dc: -1.58e-03-4.97e-02j\tI:  4.00e-01\tQ: 5.44e-01-1.50e-01j\tB: -48.42 G: -37.88, C:0.00\n",
      "[-37.88322449 -62.52855301 -48.42020416]\n",
      "dc: -1.58e-03-4.97e-02j\tI:  4.00e-01\tQ: 5.66e-01-1.25e-01j\tB: -48.64 G: -37.78, C:0.00\n",
      "[-37.77927017 -62.14100266 -48.63531876]\n",
      "dc: -1.58e-03-4.97e-02j\tI:  4.00e-01\tQ: 5.34e-01-1.15e-01j\tB: -49.37 G: -38.04, C:0.00\n",
      "[-38.04214478 -62.96545029 -49.37417984]\n",
      "dc: -1.58e-03-4.97e-02j\tI:  4.00e-01\tQ: 5.33e-01-8.25e-02j\tB: -50.22 G: -38.13, C:0.00\n",
      "[-38.12726974 -63.1635704  -50.2167244 ]\n",
      "dc: -1.58e-03-4.97e-02j\tI:  4.00e-01\tQ: 5.92e-01-3.75e-02j\tB: -49.97 G: -37.76, C:0.00\n",
      "[-37.75767517 -61.80909348 -49.96961212]\n",
      "dc: -1.58e-03-4.97e-02j\tI:  4.00e-01\tQ: 6.35e-01+2.87e-02j\tB: -50.06 G: -37.55, C:0.00\n",
      "[-37.55217743 -60.83341599 -50.06164551]\n",
      "dc: -1.58e-03-4.97e-02j\tI:  4.00e-01\tQ: 6.02e-01+7.12e-02j\tB: -51.68 G: -37.83, C:0.00\n",
      "[-37.82807541 -61.46464157 -51.68165588]\n",
      "dc: -1.58e-03-4.97e-02j\tI:  4.00e-01\tQ: 6.21e-01+1.69e-01j\tB: -51.93 G: -37.77, C:0.00\n",
      "[-37.7721138  -60.64733505 -51.92808151]\n",
      "dc: -1.58e-03-4.97e-02j\tI:  4.00e-01\tQ: 7.23e-01+2.81e-01j\tB: -49.01 G: -37.20, C:0.00\n",
      "[-37.20079422 -58.15814209 -49.00973129]\n",
      "dc: -1.58e-03-4.97e-02j\tI:  4.00e-01\tQ: 5.80e-01+8.28e-03j\tB: -51.23 G: -37.92, C:0.00\n",
      "[-37.91614151 -62.07973099 -51.22956848]\n",
      "dc: -1.58e-03-4.97e-02j\tI:  4.00e-01\tQ: 5.66e-01+1.49e-01j\tB: -54.02 G: -38.16, C:0.00\n",
      "[-38.15771484 -61.96381378 -54.02107239]\n",
      "dc: -1.58e-03-4.97e-02j\tI:  4.00e-01\tQ: 5.31e-01+2.09e-01j\tB: -55.61 G: -38.44, C:0.00\n",
      "[-38.44148636 -62.31749725 -55.61278152]\n",
      "dc: -1.58e-03-4.97e-02j\tI:  4.00e-01\tQ: 5.72e-01+3.70e-01j\tB: -51.46 G: -38.12, C:0.00\n",
      "[-38.11531067 -59.85951614 -51.45872498]\n",
      "dc: -1.58e-03-4.97e-02j\tI:  4.00e-01\tQ: 5.74e-01+2.80e-01j\tB: -52.95 G: -38.12, C:0.00\n",
      "[-38.12233734 -60.76187897 -52.94742966]\n",
      "dc: -1.58e-03-4.97e-02j\tI:  4.00e-01\tQ: 4.84e-01+3.19e-01j\tB: -54.48 G: -38.78, C:0.00\n",
      "[-38.77859116 -62.1021843  -54.48346329]\n",
      "dc: -1.58e-03-4.97e-02j\tI:  4.00e-01\tQ: 4.42e-01+2.49e-01j\tB: -58.67 G: -39.19, C:0.00\n",
      "[-39.18802643 -63.99637222 -58.67133713]\n",
      "dc: -1.58e-03-4.97e-02j\tI:  4.00e-01\tQ: 3.76e-01+2.33e-01j\tB: -60.66 G: -39.83, C:0.00\n",
      "[-39.82880783 -65.85745239 -60.6609726 ]\n",
      "dc: -1.58e-03-4.97e-02j\tI:  4.00e-01\tQ: 4.23e-01+1.23e-01j\tB: -65.19 G: -39.39, C:0.00\n",
      "[-39.38779831 -65.92740631 -65.1872406 ]\n",
      "dc: -1.58e-03-4.97e-02j\tI:  4.00e-01\tQ: 3.92e-01+2.46e-02j\tB: -58.04 G: -39.61, C:0.00\n",
      "[-39.61449814 -67.40020752 -58.03700638]\n",
      "dc: -1.58e-03-4.97e-02j\tI:  4.00e-01\tQ: 2.67e-01+1.47e-01j\tB: -57.95 G: -41.11, C:0.00\n",
      "[-41.1126976  -70.27251434 -57.94506073]\n",
      "dc: -1.58e-03-4.97e-02j\tI:  4.00e-01\tQ: 4.65e-01+1.93e-01j\tB: -60.04 G: -39.00, C:0.00\n",
      "[-38.99864197 -64.09934235 -60.03909302]\n",
      "dc: -1.58e-03-4.97e-02j\tI:  4.00e-01\tQ: 5.12e-01+8.32e-02j\tB: -55.69 G: -38.54, C:0.00\n",
      "[-38.54479599 -63.69201279 -55.69221115]\n",
      "dc: -1.58e-03-4.97e-02j\tI:  4.00e-01\tQ: 4.10e-01+1.96e-01j\tB: -64.34 G: -39.51, C:0.00\n",
      "[-39.51468658 -65.53371429 -64.34345245]\n",
      "dc: -1.58e-03-4.97e-02j\tI:  4.00e-01\tQ: 3.67e-01+1.25e-01j\tB: -71.28 G: -39.95, C:0.00\n",
      "[-39.95372391 -67.58128357 -71.27611542]\n",
      "dc: -1.58e-03-4.97e-02j\tI:  4.00e-01\tQ: 3.19e-01+9.07e-02j\tB: -61.61 G: -40.49, C:0.00\n",
      "[-40.49066925 -69.43521881 -61.61268616]\n",
      "dc: -1.58e-03-4.97e-02j\tI:  4.00e-01\tQ: 3.80e-01+5.22e-02j\tB: -60.52 G: -39.77, C:0.00\n",
      "[-39.7713356  -67.72796631 -60.51543808]\n",
      "dc: -1.58e-03-4.97e-02j\tI:  4.00e-01\tQ: 4.03e-01+1.60e-01j\tB: -69.79 G: -39.59, C:0.00\n",
      "[-39.59344482 -66.15958405 -69.79190826]\n",
      "dc: -1.58e-03-4.97e-02j\tI:  4.00e-01\tQ: 3.47e-01+1.62e-01j\tB: -66.47 G: -40.17, C:0.00\n",
      "[-40.17307663 -67.74953461 -66.47472382]\n",
      "dc: -1.58e-03-4.97e-02j\tI:  4.00e-01\tQ: 3.66e-01+1.52e-01j\tB: -71.52 G: -39.97, C:0.00\n",
      "[-39.97130966 -67.30023956 -71.51863098]\n",
      "dc: -1.58e-03-4.97e-02j\tI:  4.00e-01\tQ: 3.31e-01+1.17e-01j\tB: -64.44 G: -40.36, C:0.00\n",
      "[-40.35614014 -68.79077911 -64.44325256]\n",
      "dc: -1.58e-03-4.97e-02j\tI:  4.00e-01\tQ: 3.85e-01+1.49e-01j\tB: -74.56 G: -39.78, C:0.00\n",
      "[-39.77891159 -66.80591583 -74.55687714]\n",
      "dc: -1.58e-03-4.97e-02j\tI:  4.00e-01\tQ: 3.83e-01+1.76e-01j\tB: -68.36 G: -39.79, C:0.00\n",
      "[-39.78590775 -66.5149231  -68.3647995 ]\n",
      "dc: -1.58e-03-4.97e-02j\tI:  4.00e-01\tQ: 3.71e-01+1.38e-01j\tB: -73.88 G: -39.92, C:0.00\n",
      "[-39.91544342 -67.31259155 -73.8820343 ]\n",
      "dc: -1.58e-03-4.97e-02j\tI:  4.00e-01\tQ: 3.90e-01+1.35e-01j\tB: -73.34 G: -39.72, C:0.00\n",
      "[-39.7220993  -66.7899704  -73.33751678]\n",
      "dc: -1.58e-03-4.97e-02j\tI:  4.00e-01\tQ: 3.84e-01+1.39e-01j\tB: -75.04 G: -39.78, C:0.00\n",
      "[-39.78278732 -66.93112946 -75.0372467 ]\n",
      "dc: -1.58e-03-4.97e-02j\tI:  4.00e-01\tQ: 3.97e-01+1.50e-01j\tB: -71.93 G: -39.65, C:0.00\n",
      "[-39.64736557 -66.39627838 -71.92965698]\n",
      "dc: -1.58e-03-4.97e-02j\tI:  4.00e-01\tQ: 3.78e-01+1.41e-01j\tB: -75.17 G: -39.85, C:0.00\n",
      "[-39.8458519  -67.07852173 -75.1697998 ]\n",
      "dc: -1.58e-03-4.97e-02j\tI:  4.00e-01\tQ: 3.77e-01+1.31e-01j\tB: -73.74 G: -39.85, C:0.00\n",
      "[-39.85226822 -67.2165451  -73.73905182]\n",
      "dc: -1.58e-03-4.97e-02j\tI:  4.00e-01\tQ: 3.83e-01+1.45e-01j\tB: -75.22 G: -39.80, C:0.00\n",
      "[-39.79570007 -66.89069366 -75.216362  ]\n",
      "dc: -1.58e-03-4.97e-02j\tI:  4.00e-01\tQ: 3.77e-01+1.46e-01j\tB: -74.71 G: -39.86, C:0.00\n",
      "[-39.86114883 -67.06243896 -74.71485138]\n",
      "dc: -1.58e-03-4.97e-02j\tI:  4.00e-01\tQ: 3.82e-01+1.41e-01j\tB: -75.30 G: -39.80, C:0.00\n",
      "[-39.80209732 -66.95786285 -75.298172  ]\n",
      "dc: -1.58e-03-4.97e-02j\tI:  4.00e-01\tQ: 3.87e-01+1.45e-01j\tB: -74.71 G: -39.75, C:0.00\n",
      "[-39.75123978 -66.77366638 -74.71398163]\n",
      "dc: -1.58e-03-4.97e-02j\tI:  4.00e-01\tQ: 3.80e-01+1.42e-01j\tB: -75.34 G: -39.82, C:0.00\n",
      "[-39.8229599  -67.01844025 -75.33599091]\n",
      "dc: -1.58e-03-4.97e-02j\tI:  4.00e-01\tQ: 3.80e-01+1.38e-01j\tB: -75.12 G: -39.83, C:0.00\n",
      "[-39.83082199 -67.07686615 -75.11717224]\n",
      "dc: -1.58e-03-4.97e-02j\tI:  4.00e-01\tQ: 3.82e-01+1.43e-01j\tB: -75.32 G: -39.80, C:0.00\n",
      "[-39.80406952 -66.94165802 -75.32283783]\n"
     ]
    },
    {
     "name": "stdout",
     "output_type": "stream",
     "text": [
      "dc: -1.58e-03-4.97e-02j\tI:  4.00e-01\tQ: 3.80e-01+1.44e-01j\tB: -75.27 G: -39.83, C:0.00\n",
      "[-39.82773209 -66.99528503 -75.27114868]\n",
      "dc: -1.58e-03-4.97e-02j\tI:  4.00e-01\tQ: 3.82e-01+1.42e-01j\tB: -75.35 G: -39.81, C:0.00\n",
      "[-39.80822754 -66.95908356 -75.34603882]\n",
      "dc: -1.58e-03-4.97e-02j\tI:  4.00e-01\tQ: 3.83e-01+1.43e-01j\tB: -75.25 G: -39.79, C:0.00\n",
      "[-39.7930603  -66.89792633 -75.2538147 ]\n",
      "dc: -1.58e-03-4.97e-02j\tI:  4.00e-01\tQ: 3.81e-01+1.42e-01j\tB: -75.37 G: -39.82, C:0.00\n",
      "[-39.81730652 -66.98073578 -75.37178802]\n",
      "dc: -1.58e-03-4.97e-02j\tI:  4.00e-01\tQ: 3.81e-01+1.41e-01j\tB: -75.32 G: -39.82, C:0.00\n",
      "[-39.81976318 -67.00107574 -75.32194519]\n",
      "dc: -1.58e-03-4.97e-02j\tI:  4.00e-01\tQ: 3.82e-01+1.42e-01j\tB: -75.33 G: -39.81, C:0.00\n",
      "[-39.8093071  -66.95597076 -75.33127594]\n",
      "dc: -1.58e-03-4.97e-02j\tI:  4.00e-01\tQ: 3.81e-01+1.41e-01j\tB: -75.36 G: -39.82, C:0.00\n",
      "[-39.81639099 -66.9801712  -75.36083221]\n",
      "dc: -1.58e-03-4.97e-02j\tI:  4.00e-01\tQ: 3.80e-01+1.42e-01j\tB: -75.34 G: -39.82, C:0.00\n",
      "[-39.82468414 -67.02669525 -75.33970642]\n",
      "dc: -1.58e-03-4.97e-02j\tI:  4.00e-01\tQ: 3.81e-01+1.42e-01j\tB: -75.35 G: -39.81, C:0.00\n",
      "[-39.81264877 -66.98695374 -75.34908295]\n",
      "dc: -1.58e-03-4.97e-02j\tI:  4.00e-01\tQ: 3.81e-01+1.42e-01j\tB: -75.36 G: -39.82, C:0.00\n",
      "[-39.81859589 -66.98232269 -75.36328125]\n",
      "dc: -1.58e-03-4.97e-02j\tI:  4.00e-01\tQ: 3.81e-01+1.42e-01j\tB: -75.35 G: -39.81, C:0.00\n",
      "[-39.81399918 -66.9704361  -75.34973907]\n",
      "dc: -1.58e-03-4.97e-02j\tI:  4.00e-01\tQ: 3.81e-01+1.42e-01j\tB: -75.35 G: -39.82, C:0.00\n",
      "[-39.82083893 -66.9776001  -75.3508606 ]\n",
      "dc: -1.58e-03-4.97e-02j\tI:  4.00e-01\tQ: 3.81e-01+1.42e-01j\tB: -75.35 G: -39.82, C:0.00\n",
      "[-39.81619263 -66.97357941 -75.34909821]\n",
      "dc: -1.58e-03-4.97e-02j\tI:  4.00e-01\tQ: 3.81e-01+1.42e-01j\tB: -75.35 G: -39.82, C:0.00\n",
      "[-39.81823349 -66.97507477 -75.3478775 ]\n",
      "dc: -1.58e-03-4.97e-02j\tI:  4.00e-01\tQ: 3.81e-01+1.42e-01j\tB: -75.34 G: -39.82, C:0.00\n",
      "[-39.81729889 -66.96588135 -75.34107208]\n",
      "dc: -1.58e-03-4.97e-02j\tI:  4.00e-01\tQ: 3.81e-01+1.42e-01j\tB: -75.36 G: -39.82, C:0.00\n",
      "[-39.82077026 -66.97975922 -75.35781097]\n",
      "dc: -1.58e-03-4.97e-02j\tI:  4.00e-01\tQ: 3.81e-01+1.42e-01j\tB: -75.35 G: -39.82, C:0.00\n",
      "[-39.82064819 -66.97502136 -75.35461426]\n",
      "dc: -1.58e-03-4.97e-02j\tI:  4.00e-01\tQ: 3.81e-01+1.42e-01j\tB: -75.35 G: -39.82, C:0.00\n",
      "[-39.81718445 -66.96552277 -75.34545135]\n",
      "dc: -1.58e-03-4.97e-02j\tI:  4.00e-01\tQ: 3.81e-01+1.42e-01j\tB: -75.36 G: -39.82, C:0.00\n",
      "[-39.81663895 -66.98222351 -75.35662842]\n",
      "dc: -1.58e-03-4.97e-02j\tI:  4.00e-01\tQ: 3.81e-01+1.42e-01j\tB: -75.36 G: -39.82, C:0.00\n",
      "[-39.81607437 -66.99127197 -75.36108398]\n",
      "dc: -1.58e-03-4.97e-02j\tI:  4.00e-01\tQ: 3.81e-01+1.42e-01j\tB: -75.37 G: -39.82, C:0.00\n",
      "[-39.81784058 -66.98370361 -75.36894989]\n",
      "dc: -1.58e-03-4.97e-02j\tI:  4.00e-01\tQ: 3.81e-01+1.42e-01j\tB: -75.35 G: -39.82, C:0.00\n",
      "[-39.81532288 -66.9835968  -75.35372925]\n",
      "dc: -1.58e-03-4.97e-02j\tI:  4.00e-01\tQ: 3.81e-01+1.42e-01j\tB: -75.35 G: -39.82, C:0.00\n",
      "[-39.81570816 -66.98719788 -75.34630585]\n",
      "dc: -1.58e-03-4.97e-02j\tI:  4.00e-01\tQ: 3.81e-01+1.42e-01j\tB: -75.34 G: -39.82, C:0.00\n",
      "[-39.81631851 -66.98580933 -75.34128571]\n",
      "dc: -1.58e-03-4.97e-02j\tI:  4.00e-01\tQ: 3.81e-01+1.42e-01j\tB: -75.33 G: -39.82, C:0.00\n",
      "[-39.81643295 -66.98510742 -75.3338089 ]\n",
      "dc: -1.58e-03-4.97e-02j\tI:  4.00e-01\tQ: 3.81e-01+1.42e-01j\tB: -75.35 G: -39.82, C:0.00\n",
      "[-39.81692505 -66.95830536 -75.34897614]\n",
      "dc: -1.58e-03-4.97e-02j\tI:  4.00e-01\tQ: 3.81e-01+1.42e-01j\tB: -75.35 G: -39.82, C:0.00\n",
      "[-39.81528854 -66.95707703 -75.3547287 ]\n",
      "dc: -1.58e-03-4.97e-02j\tI:  4.00e-01\tQ: 3.81e-01+1.42e-01j\tB: -75.36 G: -39.82, C:0.00\n",
      "[-39.81842422 -66.96718597 -75.35705566]\n",
      "dc: -1.58e-03-4.97e-02j\tI:  4.00e-01\tQ: 3.81e-01+1.42e-01j\tB: -75.36 G: -39.82, C:0.00\n",
      "[-39.81808472 -66.96881104 -75.35741425]\n",
      "dc: -1.58e-03-4.97e-02j\tI:  4.00e-01\tQ: 3.81e-01+1.42e-01j\tB: -75.35 G: -39.82, C:0.00\n",
      "[-39.81590271 -66.99169159 -75.35040283]\n",
      "dc: -1.58e-03-4.97e-02j\tI:  4.00e-01\tQ: 3.81e-01+1.42e-01j\tB: -75.37 G: -39.82, C:0.00\n",
      "[-39.81858063 -66.98782349 -75.36685944]\n",
      "Warning: Maximum number of iterations has been exceeded.\n",
      "dc: -1.58e-03-4.97e-02j\tI:  4.00e-01\tQ: 3.81e-01+1.42e-01j\tB: -53.75 G: -39.82, C:0.00\n",
      "[-75.29023743 -72.31026459 -69.31378174 -39.81748962 -66.98690033\n",
      " -75.32514191 -72.23444366 -71.55281067 -75.43545532]\n",
      "Inserting references: {}\n",
      "load_exdir: file open time:  0.0019981861114501953\n",
      "load_exdir: file open time:  0.0010211467742919922\n",
      "<class 'ValueError'> could not convert string to float: '(-0.018034207538124215-0.000856974659797645j)'\n",
      "load_exdir: file open time:  0.0020220279693603516\n",
      "load_exdir: file open time:  0.0010156631469726562\n",
      "load_exdir: file open time:  0.0020220279693603516\n",
      "<class 'ValueError'> could not convert string to float: '(-0.09790106812338162-0.14809755161948335j)'\n",
      "list index out of range\n",
      "-55900000.0 3264100000.0\n",
      "dc: -9.79e-02-1.48e-01j\tI:  4.00e-01\tQ: 5.00e-01-2.00e-01j\tB: -57.42 G: -49.25, C:0.00\n",
      "[-49.24734116 -57.35303497 -57.41996002]\n",
      "dc: -9.79e-02-1.48e-01j\tI:  4.00e-01\tQ: 5.25e-01-2.00e-01j\tB: -57.22 G: -49.10, C:0.00\n",
      "[-49.09640884 -56.91095734 -57.22092819]\n",
      "dc: -9.79e-02-1.48e-01j\tI:  4.00e-01\tQ: 5.00e-01-2.10e-01j\tB: -57.19 G: -49.22, C:0.00\n",
      "[-49.22087479 -57.28458786 -57.19172287]\n",
      "dc: -9.79e-02-1.48e-01j\tI:  4.00e-01\tQ: 5.25e-01-1.90e-01j\tB: -57.44 G: -49.12, C:0.00\n",
      "[-49.12332535 -56.96476746 -57.43912506]\n",
      "dc: -9.79e-02-1.48e-01j\tI:  4.00e-01\tQ: 5.37e-01-1.80e-01j\tB: -57.55 G: -49.07, C:0.00\n",
      "[-49.07122421 -56.80742645 -57.5469017 ]\n",
      "dc: -9.79e-02-1.48e-01j\tI:  4.00e-01\tQ: 5.12e-01-1.80e-01j\tB: -57.78 G: -49.22, C:0.00\n",
      "[-49.2227211  -57.25011444 -57.77906036]\n",
      "dc: -9.79e-02-1.48e-01j\tI:  4.00e-01\tQ: 5.06e-01-1.70e-01j\tB: -58.07 G: -49.28, C:0.00\n",
      "[-49.28453064 -57.42261505 -58.06934357]\n",
      "dc: -9.79e-02-1.48e-01j\tI:  4.00e-01\tQ: 5.44e-01-1.50e-01j\tB: -58.17 G: -49.11, C:0.00\n",
      "[-49.10823441 -56.83500671 -58.16601562]\n",
      "dc: -9.79e-02-1.48e-01j\tI:  4.00e-01\tQ: 5.66e-01-1.25e-01j\tB: -58.46 G: -49.04, C:0.00\n",
      "[-49.0367012  -56.54870987 -58.46331024]\n",
      "dc: -9.79e-02-1.48e-01j\tI:  4.00e-01\tQ: 5.34e-01-1.15e-01j\tB: -59.14 G: -49.25, C:0.00\n",
      "[-49.24876404 -57.14477921 -59.13803482]\n",
      "dc: -9.79e-02-1.48e-01j\tI:  4.00e-01\tQ: 5.33e-01-8.25e-02j\tB: -60.03 G: -49.33, C:0.00\n",
      "[-49.32749557 -57.27568054 -60.02941513]\n",
      "dc: -9.79e-02-1.48e-01j\tI:  4.00e-01\tQ: 5.92e-01-3.75e-02j\tB: -60.07 G: -49.07, C:0.00\n",
      "[-49.06821823 -56.25693512 -60.07315826]\n",
      "dc: -9.79e-02-1.48e-01j\tI:  4.00e-01\tQ: 6.35e-01+2.87e-02j\tB: -60.42 G: -48.94, C:0.00\n",
      "[-48.94099045 -55.54062653 -60.41854858]\n",
      "dc: -9.79e-02-1.48e-01j\tI:  4.00e-01\tQ: 6.02e-01+7.12e-02j\tB: -62.35 G: -49.20, C:0.00\n",
      "[-49.20078659 -55.97819519 -62.34967041]\n",
      "dc: -9.79e-02-1.48e-01j\tI:  4.00e-01\tQ: 6.21e-01+1.69e-01j\tB: -63.17 G: -49.24, C:0.00\n",
      "[-49.23838043 -55.3638916  -63.17142868]\n",
      "dc: -9.79e-02-1.48e-01j\tI:  4.00e-01\tQ: 7.23e-01+2.81e-01j\tB: -59.51 G: -48.77, C:0.00\n",
      "[-48.77302551 -53.72895432 -59.50836182]\n",
      "dc: -9.79e-02-1.48e-01j\tI:  4.00e-01\tQ: 6.75e-01+1.90e-01j\tB: -61.10 G: -48.95, C:0.00\n",
      "[-48.95061493 -54.57535553 -61.09545135]\n",
      "dc: -9.79e-02-1.48e-01j\tI:  4.00e-01\tQ: 6.61e-01+3.30e-01j\tB: -61.08 G: -49.17, C:0.00\n",
      "[-49.17039871 -54.08055496 -61.08338928]\n",
      "dc: -9.79e-02-1.48e-01j\tI:  4.00e-01\tQ: 6.55e-01+2.55e-01j\tB: -61.89 G: -49.14, C:0.00\n",
      "[-49.14289093 -54.53366852 -61.89348984]\n",
      "dc: -9.79e-02-1.48e-01j\tI:  4.00e-01\tQ: 6.00e-01+2.35e-01j\tB: -64.35 G: -49.45, C:0.00\n",
      "[-49.44516754 -55.32240295 -64.35210419]\n",
      "dc: -9.79e-02-1.48e-01j\tI:  4.00e-01\tQ: 5.62e-01+2.57e-01j\tB: -66.09 G: -49.71, C:0.00\n",
      "[-49.70584869 -55.70716095 -66.09291077]\n",
      "dc: -9.79e-02-1.48e-01j\tI:  4.00e-01\tQ: 5.28e-01+1.71e-01j\tB: -68.55 G: -49.81, C:0.00\n",
      "[-49.81378174 -56.84928894 -68.55006409]\n",
      "dc: -9.79e-02-1.48e-01j\tI:  4.00e-01\tQ: 4.65e-01+1.29e-01j\tB: -71.23 G: -50.18, C:0.00\n",
      "[-50.18202209 -58.44069672 -71.23432922]\n",
      "dc: -9.79e-02-1.48e-01j\tI:  4.00e-01\tQ: 4.06e-01+2.17e-01j\tB: -71.43 G: -50.76, C:0.00\n",
      "[-50.75681305 -58.93874741 -71.42687225]\n",
      "dc: -9.79e-02-1.48e-01j\tI:  4.00e-01\tQ: 3.09e-01+8.94e-02j\tB: -64.66 G: -51.41, C:0.00\n",
      "[-51.41291428 -63.57544327 -64.66428375]\n",
      "dc: -9.79e-02-1.48e-01j\tI:  4.00e-01\tQ: 4.99e-01+2.15e-01j\tB: -70.96 G: -50.07, C:0.00\n",
      "[-50.07100677 -57.06402969 -70.96376801]\n",
      "dc: -9.79e-02-1.48e-01j\tI:  4.00e-01\tQ: 5.57e-01+1.27e-01j\tB: -65.67 G: -49.56, C:0.00\n",
      "[-49.56158829 -56.55260468 -65.67103577]\n"
     ]
    },
    {
     "name": "stdout",
     "output_type": "stream",
     "text": [
      "dc: -9.79e-02-1.48e-01j\tI:  4.00e-01\tQ: 4.44e-01+1.95e-01j\tB: -74.22 G: -50.44, C:0.00\n",
      "[-50.43561935 -58.35132599 -74.22241211]\n",
      "dc: -9.79e-02-1.48e-01j\tI:  4.00e-01\tQ: 4.10e-01+1.09e-01j\tB: -70.09 G: -50.56, C:0.00\n",
      "[-50.56166077 -59.99915695 -70.09342194]\n",
      "dc: -9.79e-02-1.48e-01j\tI:  4.00e-01\tQ: 4.77e-01+1.89e-01j\tB: -72.93 G: -50.19, C:0.00\n",
      "[-50.18809509 -57.71854401 -72.92887878]\n",
      "dc: -9.79e-02-1.48e-01j\tI:  4.00e-01\tQ: 4.56e-01+2.54e-01j\tB: -71.08 G: -50.42, C:0.00\n",
      "[-50.42259216 -57.48459244 -71.07743835]\n",
      "dc: -9.79e-02-1.48e-01j\tI:  4.00e-01\tQ: 4.63e-01+1.60e-01j\tB: -73.16 G: -50.25, C:0.00\n",
      "[-50.24895477 -58.25357056 -73.15911865]\n",
      "dc: -9.79e-02-1.48e-01j\tI:  4.00e-01\tQ: 4.30e-01+1.67e-01j\tB: -73.75 G: -50.50, C:0.00\n",
      "[-50.49846268 -58.95604324 -73.75015259]\n",
      "dc: -9.79e-02-1.48e-01j\tI:  4.00e-01\tQ: 4.11e-01+2.01e-01j\tB: -72.42 G: -50.69, C:0.00\n",
      "[-50.69435501 -59.02145004 -72.42373657]\n",
      "dc: -9.79e-02-1.48e-01j\tI:  4.00e-01\tQ: 4.50e-01+1.71e-01j\tB: -74.05 G: -50.36, C:0.00\n",
      "[-50.3555336  -58.45572662 -74.04623413]\n",
      "dc: -9.79e-02-1.48e-01j\tI:  4.00e-01\tQ: 4.64e-01+1.99e-01j\tB: -73.68 G: -50.29, C:0.00\n",
      "[-50.29290009 -57.88861847 -73.68310547]\n",
      "dc: -9.79e-02-1.48e-01j\tI:  4.00e-01\tQ: 4.55e-01+1.91e-01j\tB: -74.11 G: -50.34, C:0.00\n",
      "[-50.34480667 -58.14720154 -74.11380768]\n",
      "dc: -9.79e-02-1.48e-01j\tI:  4.00e-01\tQ: 4.49e-01+2.15e-01j\tB: -73.48 G: -50.42, C:0.00\n",
      "[-50.42116165 -58.0226326  -73.47620392]\n",
      "dc: -9.79e-02-1.48e-01j\tI:  4.00e-01\tQ: 4.50e-01+1.82e-01j\tB: -74.25 G: -50.37, C:0.00\n",
      "[-50.37292099 -58.35525131 -74.25328827]\n",
      "dc: -9.79e-02-1.48e-01j\tI:  4.00e-01\tQ: 4.38e-01+1.86e-01j\tB: -74.23 G: -50.46, C:0.00\n",
      "[-50.46185303 -58.56783295 -74.23216248]\n",
      "dc: -9.79e-02-1.48e-01j\tI:  4.00e-01\tQ: 4.43e-01+1.87e-01j\tB: -74.31 G: -50.43, C:0.00\n",
      "[-50.43286133 -58.46123505 -74.31063843]\n",
      "dc: -9.79e-02-1.48e-01j\tI:  4.00e-01\tQ: 4.48e-01+1.74e-01j\tB: -74.16 G: -50.37, C:0.00\n",
      "[-50.37156677 -58.46064758 -74.16461182]\n",
      "dc: -9.79e-02-1.48e-01j\tI:  4.00e-01\tQ: 4.47e-01+1.79e-01j\tB: -74.27 G: -50.39, C:0.00\n",
      "[-50.38898849 -58.43388367 -74.26503754]\n",
      "dc: -9.79e-02-1.48e-01j\tI:  4.00e-01\tQ: 4.45e-01+1.89e-01j\tB: -74.30 G: -50.42, C:0.00\n",
      "[-50.4174118  -58.38056183 -74.30214691]\n",
      "dc: -9.79e-02-1.48e-01j\tI:  4.00e-01\tQ: 4.44e-01+1.95e-01j\tB: -74.21 G: -50.44, C:0.00\n",
      "[-50.43681717 -58.35335159 -74.20774078]\n",
      "dc: -9.79e-02-1.48e-01j\tI:  4.00e-01\tQ: 4.52e-01+1.84e-01j\tB: -74.22 G: -50.36, C:0.00\n",
      "[-50.35998917 -58.28097534 -74.21899414]\n",
      "dc: -9.79e-02-1.48e-01j\tI:  4.00e-01\tQ: 4.45e-01+1.86e-01j\tB: -74.30 G: -50.42, C:0.00\n",
      "[-50.41584015 -58.41630936 -74.3030777 ]\n",
      "dc: -9.79e-02-1.48e-01j\tI:  4.00e-01\tQ: 4.40e-01+1.94e-01j\tB: -74.17 G: -50.46, C:0.00\n",
      "[-50.4626236  -58.44025421 -74.16566467]\n",
      "dc: -9.79e-02-1.48e-01j\tI:  4.00e-01\tQ: 4.47e-01+1.85e-01j\tB: -74.31 G: -50.39, C:0.00\n",
      "[-50.39421082 -58.37817764 -74.30807495]\n",
      "dc: -9.79e-02-1.48e-01j\tI:  4.00e-01\tQ: 4.47e-01+1.81e-01j\tB: -74.28 G: -50.39, C:0.00\n",
      "[-50.39070892 -58.41386414 -74.27986145]\n",
      "dc: -9.79e-02-1.48e-01j\tI:  4.00e-01\tQ: 4.50e-01+1.80e-01j\tB: -74.25 G: -50.37, C:0.00\n",
      "[-50.37479782 -58.37343597 -74.2479248 ]\n",
      "dc: -9.79e-02-1.48e-01j\tI:  4.00e-01\tQ: 4.46e-01+1.85e-01j\tB: -74.31 G: -50.41, C:0.00\n",
      "[-50.40683365 -58.40272903 -74.30806732]\n",
      "dc: -9.79e-02-1.48e-01j\tI:  4.00e-01\tQ: 4.46e-01+1.88e-01j\tB: -74.30 G: -50.41, C:0.00\n",
      "[-50.41101837 -58.37106705 -74.30303192]\n",
      "dc: -9.79e-02-1.48e-01j\tI:  4.00e-01\tQ: 4.46e-01+1.86e-01j\tB: -74.30 G: -50.40, C:0.00\n",
      "[-50.40361023 -58.37977219 -74.29843903]\n",
      "dc: -9.79e-02-1.48e-01j\tI:  4.00e-01\tQ: 4.47e-01+1.83e-01j\tB: -74.32 G: -50.40, C:0.00\n",
      "[-50.39550781 -58.39662933 -74.31703186]\n",
      "dc: -9.79e-02-1.48e-01j\tI:  4.00e-01\tQ: 4.47e-01+1.81e-01j\tB: -74.30 G: -50.39, C:0.00\n",
      "[-50.39274597 -58.41080475 -74.29851532]\n",
      "dc: -9.79e-02-1.48e-01j\tI:  4.00e-01\tQ: 4.48e-01+1.83e-01j\tB: -74.28 G: -50.39, C:0.00\n",
      "[-50.38536072 -58.37718964 -74.28438568]\n",
      "dc: -9.79e-02-1.48e-01j\tI:  4.00e-01\tQ: 4.47e-01+1.84e-01j\tB: -74.31 G: -50.40, C:0.00\n",
      "[-50.40034103 -58.3979454  -74.31446075]\n",
      "dc: -9.79e-02-1.48e-01j\tI:  4.00e-01\tQ: 4.46e-01+1.83e-01j\tB: -74.31 G: -50.40, C:0.00\n",
      "[-50.40044403 -58.42325211 -74.31020355]\n",
      "dc: -9.79e-02-1.48e-01j\tI:  4.00e-01\tQ: 4.47e-01+1.84e-01j\tB: -74.31 G: -50.40, C:0.00\n",
      "[-50.3976593  -58.39257812 -74.3099823 ]\n",
      "dc: -9.79e-02-1.48e-01j\tI:  4.00e-01\tQ: 4.47e-01+1.84e-01j\tB: -74.32 G: -50.40, C:0.00\n",
      "[-50.39978027 -58.40325165 -74.31996155]\n",
      "dc: -9.79e-02-1.48e-01j\tI:  4.00e-01\tQ: 4.47e-01+1.84e-01j\tB: -74.32 G: -50.40, C:0.00\n",
      "[-50.39531326 -58.39133453 -74.31765747]\n",
      "dc: -9.79e-02-1.48e-01j\tI:  4.00e-01\tQ: 4.47e-01+1.83e-01j\tB: -74.30 G: -50.39, C:0.00\n",
      "[-50.39093018 -58.39256287 -74.3037262 ]\n",
      "dc: -9.79e-02-1.48e-01j\tI:  4.00e-01\tQ: 4.47e-01+1.84e-01j\tB: -74.31 G: -50.40, C:0.00\n",
      "[-50.3978157  -58.39711761 -74.31173706]\n",
      "dc: -9.79e-02-1.48e-01j\tI:  4.00e-01\tQ: 4.47e-01+1.83e-01j\tB: -74.30 G: -50.39, C:0.00\n",
      "[-50.39466095 -58.39562225 -74.29780579]\n",
      "dc: -9.79e-02-1.48e-01j\tI:  4.00e-01\tQ: 4.47e-01+1.84e-01j\tB: -74.31 G: -50.39, C:0.00\n",
      "[-50.39443207 -58.39398193 -74.31121063]\n",
      "dc: -9.79e-02-1.48e-01j\tI:  4.00e-01\tQ: 4.47e-01+1.84e-01j\tB: -74.30 G: -50.40, C:0.00\n",
      "[-50.39513779 -58.39054108 -74.30317688]\n",
      "dc: -9.79e-02-1.48e-01j\tI:  4.00e-01\tQ: 4.47e-01+1.84e-01j\tB: -74.32 G: -50.40, C:0.00\n",
      "[-50.39533997 -58.39332962 -74.31762695]\n",
      "dc: -9.79e-02-1.48e-01j\tI:  4.00e-01\tQ: 4.47e-01+1.84e-01j\tB: -74.30 G: -50.39, C:0.00\n",
      "[-50.39403915 -58.38560486 -74.29934692]\n",
      "dc: -9.79e-02-1.48e-01j\tI:  4.00e-01\tQ: 4.47e-01+1.84e-01j\tB: -74.31 G: -50.40, C:0.00\n",
      "[-50.39679718 -58.39467621 -74.30880737]\n",
      "dc: -9.79e-02-1.48e-01j\tI:  4.00e-01\tQ: 4.47e-01+1.84e-01j\tB: -74.30 G: -50.39, C:0.00\n",
      "[-50.39478302 -58.38919449 -74.30364227]\n",
      "dc: -9.79e-02-1.48e-01j\tI:  4.00e-01\tQ: 4.47e-01+1.84e-01j\tB: -74.32 G: -50.40, C:0.00\n",
      "[-50.39507294 -58.39056015 -74.32048798]\n",
      "dc: -9.79e-02-1.48e-01j\tI:  4.00e-01\tQ: 4.47e-01+1.84e-01j\tB: -74.32 G: -50.40, C:0.00\n",
      "[-50.3983345  -58.38967896 -74.31653595]\n",
      "dc: -9.79e-02-1.48e-01j\tI:  4.00e-01\tQ: 4.47e-01+1.84e-01j\tB: -74.30 G: -50.39, C:0.00\n",
      "[-50.39467239 -58.39168549 -74.30276489]\n",
      "dc: -9.79e-02-1.48e-01j\tI:  4.00e-01\tQ: 4.47e-01+1.84e-01j\tB: -74.30 G: -50.40, C:0.00\n",
      "[-50.39706802 -58.3916626  -74.30479431]\n",
      "dc: -9.79e-02-1.48e-01j\tI:  4.00e-01\tQ: 4.47e-01+1.84e-01j\tB: -74.30 G: -50.40, C:0.00\n",
      "[-50.3964119  -58.39120102 -74.29753876]\n",
      "dc: -9.79e-02-1.48e-01j\tI:  4.00e-01\tQ: 4.47e-01+1.84e-01j\tB: -74.29 G: -50.39, C:0.00\n",
      "[-50.39465714 -58.39549637 -74.29497528]\n",
      "dc: -9.79e-02-1.48e-01j\tI:  4.00e-01\tQ: 4.47e-01+1.84e-01j\tB: -74.31 G: -50.40, C:0.00\n",
      "[-50.39606857 -58.38926697 -74.30570984]\n",
      "dc: -9.79e-02-1.48e-01j\tI:  4.00e-01\tQ: 4.47e-01+1.84e-01j\tB: -74.31 G: -50.40, C:0.00\n",
      "[-50.3951683  -58.39385986 -74.31158447]\n",
      "dc: -9.79e-02-1.48e-01j\tI:  4.00e-01\tQ: 4.47e-01+1.84e-01j\tB: -74.31 G: -50.39, C:0.00\n",
      "[-50.39189148 -58.39242172 -74.31443024]\n",
      "dc: -9.79e-02-1.48e-01j\tI:  4.00e-01\tQ: 4.47e-01+1.84e-01j\tB: -74.32 G: -50.39, C:0.00\n",
      "[-50.39190674 -58.38755035 -74.31629944]\n",
      "dc: -9.79e-02-1.48e-01j\tI:  4.00e-01\tQ: 4.47e-01+1.84e-01j\tB: -74.32 G: -50.40, C:0.00\n",
      "[-50.3951416  -58.39228821 -74.31655884]\n",
      "dc: -9.79e-02-1.48e-01j\tI:  4.00e-01\tQ: 4.47e-01+1.84e-01j\tB: -74.31 G: -50.39, C:0.00\n",
      "[-50.39297485 -58.39143372 -74.30950165]\n",
      "dc: -9.79e-02-1.48e-01j\tI:  4.00e-01\tQ: 4.47e-01+1.84e-01j\tB: -74.30 G: -50.39, C:0.00\n",
      "[-50.39400864 -58.38938522 -74.30427551]\n",
      "dc: -9.79e-02-1.48e-01j\tI:  4.00e-01\tQ: 4.47e-01+1.84e-01j\tB: -74.31 G: -50.39, C:0.00\n",
      "[-50.39460754 -58.39487457 -74.31109619]\n",
      "Warning: Maximum number of iterations has been exceeded.\n",
      "dc: -9.79e-02-1.48e-01j\tI:  4.00e-01\tQ: 4.47e-01+1.84e-01j\tB: -49.24 G: -50.40, C:0.00\n",
      "[-75.28362274 -72.01869202 -65.6966095  -50.3953476  -58.39193344\n",
      " -74.3085022  -62.80828857 -73.62979126 -74.79120636]\n",
      "Inserting references: {}\n",
      "load_exdir: file open time:  0.0009961128234863281\n",
      "load_exdir: file open time:  0.00099945068359375\n",
      "load_exdir: file open time:  0.0019922256469726562\n",
      "load_exdir: file open time:  0.0010046958923339844\n",
      "load_exdir: file open time:  0.0009982585906982422\n",
      "load_exdir: file open time:  0.002001047134399414\n",
      "load_exdir: file open time:  0.0019745826721191406\n",
      "load_exdir: file open time:  0.0009980201721191406\n",
      "load_exdir: file open time:  0.001998424530029297\n",
      "reference: channel_calibration : 4381\n"
     ]
    },
    {
     "name": "stdout",
     "output_type": "stream",
     "text": [
      "load_exdir: file open time:  0.0030214786529541016\n",
      "reference: passthrough_measurement : 4396\n",
      "load_exdir: file open time:  0.001974821090698242\n",
      "load_exdir: file open time:  0.0009958744049072266\n",
      "reference: readout_pulse : 4397\n",
      "reference: modem_calibration : 4389\n",
      "load_exdir: file open time:  0.0019986629486083984\n",
      "load_exdir: file open time:  0.0010159015655517578\n",
      "load_exdir: file open time:  0.0009987354278564453\n",
      "load_exdir: file open time:  0.001020193099975586\n",
      "c:\\data\\2019-07-07\\004411-fit_dataset_1d-1906-001_1_down\n",
      "load_exdir: file open time:  0.001996755599975586\n",
      "c:\\data\\2019-07-07\\004410-Rabi_rect-1906-001_1_down\n",
      "load_exdir: file open time:  0.0010211467742919922\n",
      "load_exdir: file open time:  0.0009968280792236328\n",
      "reference: channel_amplitudes : 4392\n",
      "reference: Rabi_rect : 4410\n",
      "load_exdir: file open time:  0.002018451690673828\n",
      "c:\\data\\2019-07-07\\004392-channel_amplitudes-1906-001_1_down\n",
      "load_exdir: file open time:  0.0020236968994140625\n",
      "load_exdir: file open time:  0.0009984970092773438\n",
      "load_exdir: file open time:  0.0019986629486083984\n",
      "c:\\data\\2019-07-07\\004411-fit_dataset_1d-1906-001_1_down\n",
      "load_exdir: file open time:  0.0019757747650146484\n",
      "c:\\data\\2019-07-07\\004410-Rabi_rect-1906-001_1_down\n",
      "load_exdir: file open time:  0.0019981861114501953\n",
      "load_exdir: file open time:  0.0019974708557128906\n",
      "reference: channel_amplitudes : 4392\n",
      "reference: Rabi_rect : 4410\n",
      "load_exdir: file open time:  0.002033710479736328\n",
      "c:\\data\\2019-07-07\\004392-channel_amplitudes-1906-001_1_down\n",
      "load_exdir: file open time:  0.0020194053649902344\n",
      "Inserting references: {'ex_pulse1': 4412, 'ex_pulse2': 4412, 'readout_calibration': 4407}\n",
      "Inserting references: {'fit_source': 4438}\n"
     ]
    },
    {
     "name": "stderr",
     "output_type": "stream",
     "text": [
      "Traceback (most recent call last):\n",
      "  File \"C:\\qtlab_replacement\\qsweepy\\fitters\\exp_sin.py\", line 23, in exp_sin_fit\n",
      "    raise ValueError\n",
      "ValueError\n",
      "Traceback (most recent call last):\n",
      "  File \"C:\\qtlab_replacement\\qsweepy\\fitters\\exp_sin.py\", line 23, in exp_sin_fit\n",
      "    raise ValueError\n",
      "ValueError\n",
      "Traceback (most recent call last):\n",
      "  File \"C:\\qtlab_replacement\\qsweepy\\fitters\\exp_sin.py\", line 23, in exp_sin_fit\n",
      "    raise ValueError\n",
      "ValueError\n",
      "Traceback (most recent call last):\n",
      "  File \"C:\\qtlab_replacement\\qsweepy\\fitters\\exp_sin.py\", line 23, in exp_sin_fit\n",
      "    raise ValueError\n",
      "ValueError\n",
      "Traceback (most recent call last):\n",
      "  File \"C:\\qtlab_replacement\\qsweepy\\fitters\\exp_sin.py\", line 23, in exp_sin_fit\n",
      "    raise ValueError\n",
      "ValueError\n"
     ]
    },
    {
     "name": "stdout",
     "output_type": "stream",
     "text": [
      "Waiting to join deferred threads:\n",
      "load_exdir: file open time:  0.0\n",
      "load_exdir: file open time:  0.0\n",
      "load_exdir: file open time:  0.009999275207519531\n",
      "load time:  0.02999734878540039\n",
      "pre_trace_time:  0.0\n",
      "trace 0 time:  0.01999831199645996\n",
      "trace 1 time:  0.02999734878540039\n",
      "trace 2 time:  0.03999590873718262\n",
      "trace 3 time:  0.04999518394470215\n",
      "load_exdir: file open time:  0.0\n",
      "load_exdir: file open time:  0.0\n",
      "load_exdir: file open time:  0.0\n",
      "load time:  0.04001665115356445\n",
      "pre_trace_time:  0.0\n",
      "trace 0 time:  0.009979724884033203\n",
      "trace 1 time:  0.01997828483581543\n",
      "trace 2 time:  0.02997732162475586\n",
      "trace 3 time:  0.03997659683227539\n",
      "load_exdir: file open time:  0.0\n",
      "load_exdir: file open time:  0.0\n",
      "reference: channel_calibration : 4381\n",
      "load_exdir: file open time:  0.0\n",
      "reference: passthrough_measurement : 4396\n",
      "load_exdir: file open time:  0.0\n",
      "load_exdir: file open time:  0.0\n",
      "reference: readout_pulse : 4397\n",
      "reference: modem_calibration : 4389\n",
      "load_exdir: file open time:  0.0\n",
      "load_exdir: file open time:  0.0\n",
      "load_exdir: file open time:  0.0\n",
      "load_exdir: file open time:  0.009999752044677734\n",
      "c:\\data\\2019-07-07\\004411-fit_dataset_1d-1906-001_1_down\n",
      "load_exdir: file open time:  0.0\n",
      "c:\\data\\2019-07-07\\004410-Rabi_rect-1906-001_1_down\n",
      "load_exdir: file open time:  0.0\n",
      "load_exdir: file open time:  0.0\n",
      "reference: channel_amplitudes : 4392\n",
      "reference: Rabi_rect : 4410\n",
      "load_exdir: file open time:  0.0\n",
      "c:\\data\\2019-07-07\\004392-channel_amplitudes-1906-001_1_down\n",
      "load_exdir: file open time:  0.0\n",
      "load_exdir: file open time:  0.0\n",
      "load_exdir: file open time:  0.0\n",
      "c:\\data\\2019-07-07\\004411-fit_dataset_1d-1906-001_1_down\n",
      "load_exdir: file open time:  0.009999513626098633\n",
      "c:\\data\\2019-07-07\\004410-Rabi_rect-1906-001_1_down\n",
      "load_exdir: file open time:  0.00999903678894043\n",
      "load_exdir: file open time:  0.0\n",
      "reference: channel_amplitudes : 4392\n",
      "reference: Rabi_rect : 4410\n",
      "load_exdir: file open time:  0.0\n",
      "c:\\data\\2019-07-07\\004392-channel_amplitudes-1906-001_1_down\n",
      "load_exdir: file open time:  0.0\n",
      "Inserting references: {'ex_pulse1': 4412, 'ex_pulse2': 4412, 'readout_calibration': 4407}\n",
      "Inserting references: {'fit_source': 4440}\n"
     ]
    },
    {
     "name": "stderr",
     "output_type": "stream",
     "text": [
      "Traceback (most recent call last):\n",
      "  File \"C:\\qtlab_replacement\\qsweepy\\fitters\\exp_sin.py\", line 23, in exp_sin_fit\n",
      "    raise ValueError\n",
      "ValueError\n",
      "Traceback (most recent call last):\n",
      "  File \"C:\\qtlab_replacement\\qsweepy\\fitters\\exp_sin.py\", line 23, in exp_sin_fit\n",
      "    raise ValueError\n",
      "ValueError\n",
      "Traceback (most recent call last):\n",
      "  File \"C:\\qtlab_replacement\\qsweepy\\fitters\\exp_sin.py\", line 23, in exp_sin_fit\n",
      "    raise ValueError\n",
      "ValueError\n",
      "Traceback (most recent call last):\n",
      "  File \"C:\\qtlab_replacement\\qsweepy\\fitters\\exp_sin.py\", line 23, in exp_sin_fit\n",
      "    raise ValueError\n",
      "ValueError\n",
      "Traceback (most recent call last):\n",
      "  File \"C:\\qtlab_replacement\\qsweepy\\fitters\\exp_sin.py\", line 23, in exp_sin_fit\n",
      "    raise ValueError\n",
      "ValueError\n"
     ]
    },
    {
     "name": "stdout",
     "output_type": "stream",
     "text": [
      "Waiting to join deferred threads:\n",
      "load_exdir: file open time:  0.0\n",
      "load_exdir: file open time:  0.0\n",
      "load_exdir: file open time:  0.0\n",
      "load time:  0.01999831199645996\n",
      "pre_trace_time:  0.00999903678894043\n",
      "trace 0 time:  0.00999903678894043\n",
      "trace 1 time:  0.01999807357788086\n",
      "trace 2 time:  0.02999734878540039\n",
      "trace 3 time:  0.03999614715576172\n",
      "load_exdir: file open time:  0.0\n",
      "load_exdir: file open time:  0.0\n",
      "load_exdir: file open time:  0.0\n",
      "load time:  0.02999711036682129\n",
      "pre_trace_time:  0.0\n",
      "trace 0 time:  0.009999275207519531\n",
      "trace 1 time:  0.01999831199645996\n",
      "trace 2 time:  0.02999734878540039\n",
      "trace 3 time:  0.03999590873718262\n",
      "load_exdir: file open time:  0.0\n",
      "Inserting references: {}\n",
      "Updating qubit frequency: old frequency 3228538180.0, new frequency 3228740000.0\n",
      "load_exdir: file open time:  0.00999903678894043\n",
      "load_exdir: file open time:  0.0\n",
      "load_exdir: file open time:  0.00998234748840332\n",
      "load_exdir: file open time:  0.0\n",
      "load_exdir: file open time:  0.0\n",
      "load_exdir: file open time:  0.0\n",
      "load_exdir: file open time:  0.009983301162719727\n",
      "load_exdir: file open time:  0.0\n",
      "load_exdir: file open time:  0.0\n",
      "load_exdir: file open time:  0.0\n",
      "<class 'ValueError'> could not convert string to float: '(-0.0015767111995960092-0.04967945915414021j)'\n",
      "load_exdir: file open time:  0.0\n",
      "list index out of range\n",
      "-91260000.0 3228740000.0\n",
      "dc: -1.58e-03-4.97e-02j\tI:  4.00e-01\tQ: 5.00e-01-2.00e-01j\tB: -46.95 G: -38.74, C:0.00\n",
      "[-38.74064636 -63.41711044 -46.94841385]\n",
      "dc: -1.58e-03-4.97e-02j\tI:  4.00e-01\tQ: 5.25e-01-2.00e-01j\tB: -46.70 G: -38.54, C:0.00\n",
      "[-38.54439163 -62.84278107 -46.69985199]\n",
      "dc: -1.58e-03-4.97e-02j\tI:  4.00e-01\tQ: 5.00e-01-2.10e-01j\tB: -46.73 G: -38.71, C:0.00\n",
      "[-38.71014404 -63.32538605 -46.72893524]\n",
      "dc: -1.58e-03-4.97e-02j\tI:  4.00e-01\tQ: 5.25e-01-1.90e-01j\tB: -46.91 G: -38.57, C:0.00\n",
      "[-38.57446289 -62.92591476 -46.90974045]\n",
      "dc: -1.58e-03-4.97e-02j\tI:  4.00e-01\tQ: 5.37e-01-1.80e-01j\tB: -46.98 G: -38.51, C:0.00\n",
      "[-38.50561523 -62.71681976 -46.98144913]\n",
      "dc: -1.58e-03-4.97e-02j\tI:  4.00e-01\tQ: 5.12e-01-1.80e-01j\tB: -47.27 G: -38.70, C:0.00\n",
      "[-38.70183182 -63.30679703 -47.26976776]\n",
      "dc: -1.58e-03-4.97e-02j\tI:  4.00e-01\tQ: 5.06e-01-1.70e-01j\tB: -47.57 G: -38.78, C:0.00\n",
      "[-38.78009033 -63.54428101 -47.57019043]\n",
      "dc: -1.58e-03-4.97e-02j\tI:  4.00e-01\tQ: 5.44e-01-1.50e-01j\tB: -47.55 G: -38.54, C:0.00\n",
      "[-38.53715515 -62.78999329 -47.55257034]\n",
      "dc: -1.58e-03-4.97e-02j\tI:  4.00e-01\tQ: 5.66e-01-1.25e-01j\tB: -47.78 G: -38.43, C:0.00\n",
      "[-38.42967987 -62.42181396 -47.77608109]\n",
      "dc: -1.58e-03-4.97e-02j\tI:  4.00e-01\tQ: 5.34e-01-1.15e-01j\tB: -48.50 G: -38.70, C:0.00\n",
      "[-38.6971817  -63.21557999 -48.50333023]\n",
      "dc: -1.58e-03-4.97e-02j\tI:  4.00e-01\tQ: 5.33e-01-8.25e-02j\tB: -49.34 G: -38.78, C:0.00\n",
      "[-38.78291321 -63.40874863 -49.33802414]\n",
      "dc: -1.58e-03-4.97e-02j\tI:  4.00e-01\tQ: 5.92e-01-3.75e-02j\tB: -49.12 G: -38.40, C:0.00\n",
      "[-38.4001236  -62.09444809 -49.12411499]\n",
      "dc: -1.58e-03-4.97e-02j\tI:  4.00e-01\tQ: 6.35e-01+2.87e-02j\tB: -49.25 G: -38.18, C:0.00\n",
      "[-38.18119049 -61.13783646 -49.24612045]\n",
      "dc: -1.58e-03-4.97e-02j\tI:  4.00e-01\tQ: 6.02e-01+7.12e-02j\tB: -50.87 G: -38.46, C:0.00\n",
      "[-38.46318054 -61.79285812 -50.8677597 ]\n",
      "dc: -1.58e-03-4.97e-02j\tI:  4.00e-01\tQ: 6.21e-01+1.69e-01j\tB: -51.17 G: -38.40, C:0.00\n",
      "[-38.39549637 -60.98361206 -51.1726265 ]\n",
      "dc: -1.58e-03-4.97e-02j\tI:  4.00e-01\tQ: 7.23e-01+2.81e-01j\tB: -48.26 G: -37.79, C:0.00\n",
      "[-37.78630829 -58.4764328  -48.25772476]\n",
      "dc: -1.58e-03-4.97e-02j\tI:  4.00e-01\tQ: 5.80e-01+8.28e-03j\tB: -50.38 G: -38.56, C:0.00\n",
      "[-38.55883408 -62.39313889 -50.38190079]\n",
      "dc: -1.58e-03-4.97e-02j\tI:  4.00e-01\tQ: 5.66e-01+1.49e-01j\tB: -53.26 G: -38.79, C:0.00\n",
      "[-38.79072571 -62.29827499 -53.25537109]\n",
      "dc: -1.58e-03-4.97e-02j\tI:  4.00e-01\tQ: 5.31e-01+2.09e-01j\tB: -54.94 G: -39.07, C:0.00\n",
      "[-39.07381439 -62.65050125 -54.9439888 ]\n",
      "dc: -1.58e-03-4.97e-02j\tI:  4.00e-01\tQ: 5.72e-01+3.70e-01j\tB: -50.78 G: -38.72, C:0.00\n",
      "[-38.72052002 -60.20945358 -50.78318024]\n",
      "dc: -1.58e-03-4.97e-02j\tI:  4.00e-01\tQ: 5.74e-01+2.80e-01j\tB: -52.26 G: -38.74, C:0.00\n",
      "[-38.73939133 -61.10766602 -52.2634964 ]\n",
      "dc: -1.58e-03-4.97e-02j\tI:  4.00e-01\tQ: 4.84e-01+3.19e-01j\tB: -53.90 G: -39.40, C:0.00\n",
      "[-39.39928055 -62.43107224 -53.89996338]\n",
      "dc: -1.58e-03-4.97e-02j\tI:  4.00e-01\tQ: 4.42e-01+2.49e-01j\tB: -58.25 G: -39.82, C:0.00\n",
      "[-39.81745911 -64.29299164 -58.24692154]\n",
      "dc: -1.58e-03-4.97e-02j\tI:  4.00e-01\tQ: 3.76e-01+2.33e-01j\tB: -60.41 G: -40.46, C:0.00\n",
      "[-40.46160889 -66.13856506 -60.41160965]\n",
      "dc: -1.58e-03-4.97e-02j\tI:  4.00e-01\tQ: 4.23e-01+1.23e-01j\tB: -64.15 G: -40.03, C:0.00\n",
      "[-40.03104782 -66.16902924 -64.14818573]\n",
      "dc: -1.58e-03-4.97e-02j\tI:  4.00e-01\tQ: 3.92e-01+2.46e-02j\tB: -56.89 G: -40.27, C:0.00\n",
      "[-40.26858902 -67.58963776 -56.89088058]\n",
      "dc: -1.58e-03-4.97e-02j\tI:  4.00e-01\tQ: 2.67e-01+1.47e-01j\tB: -57.19 G: -41.77, C:0.00\n",
      "[-41.76755142 -70.39218903 -57.19105911]\n",
      "dc: -1.58e-03-4.97e-02j\tI:  4.00e-01\tQ: 4.65e-01+1.93e-01j\tB: -59.51 G: -39.63, C:0.00\n",
      "[-39.63410187 -64.37701416 -59.51218033]\n",
      "dc: -1.58e-03-4.97e-02j\tI:  4.00e-01\tQ: 3.33e-01+1.62e-01j\tB: -63.83 G: -40.97, C:0.00\n",
      "[-40.97197342 -68.31768036 -63.82710648]\n",
      "dc: -1.58e-03-4.97e-02j\tI:  4.00e-01\tQ: 3.80e-01+5.22e-02j\tB: -59.24 G: -40.42, C:0.00\n",
      "[-40.42393494 -67.87892151 -59.24124908]\n",
      "dc: -1.58e-03-4.97e-02j\tI:  4.00e-01\tQ: 3.77e-01+1.88e-01j\tB: -66.32 G: -40.49, C:0.00\n",
      "[-40.48601151 -66.75409698 -66.32368469]\n",
      "dc: -1.58e-03-4.97e-02j\tI:  4.00e-01\tQ: 4.66e-01+1.48e-01j\tB: -59.81 G: -39.63, C:0.00\n",
      "[-39.62879181 -64.76763153 -59.80773926]\n",
      "dc: -1.58e-03-4.97e-02j\tI:  4.00e-01\tQ: 3.67e-01+1.59e-01j\tB: -70.86 G: -40.61, C:0.00\n",
      "[-40.61097717 -67.42240143 -70.85593414]\n",
      "dc: -1.58e-03-4.97e-02j\tI:  4.00e-01\tQ: 3.21e-01+2.24e-01j\tB: -58.54 G: -41.06, C:0.00\n",
      "[-41.05806351 -67.71337891 -58.53637314]\n",
      "dc: -1.58e-03-4.97e-02j\tI:  4.00e-01\tQ: 3.97e-01+1.48e-01j\tB: -71.97 G: -40.29, C:0.00\n",
      "[-40.28874588 -66.66969299 -71.9683075 ]\n",
      "dc: -1.58e-03-4.97e-02j\tI:  4.00e-01\tQ: 3.87e-01+1.19e-01j\tB: -68.55 G: -40.39, C:0.00\n",
      "[-40.39307785 -67.25254822 -68.55496979]\n",
      "dc: -1.58e-03-4.97e-02j\tI:  4.00e-01\tQ: 3.84e-01+1.36e-01j\tB: -73.30 G: -40.42, C:0.00\n",
      "[-40.42449188 -67.14983368 -73.30165863]\n",
      "dc: -1.58e-03-4.97e-02j\tI:  4.00e-01\tQ: 4.15e-01+1.26e-01j\tB: -65.58 G: -40.11, C:0.00\n",
      "[-40.10878754 -66.35890198 -65.57936096]\n",
      "dc: -1.58e-03-4.97e-02j\tI:  4.00e-01\tQ: 3.79e-01+1.51e-01j\tB: -75.08 G: -40.48, C:0.00\n",
      "[-40.4814682  -67.17150116 -75.08023071]\n",
      "dc: -1.58e-03-4.97e-02j\tI:  4.00e-01\tQ: 3.66e-01+1.39e-01j\tB: -71.62 G: -40.62, C:0.00\n",
      "[-40.62050629 -67.66731262 -71.61817932]\n",
      "dc: -1.58e-03-4.97e-02j\tI:  4.00e-01\tQ: 3.89e-01+1.46e-01j\tB: -74.19 G: -40.37, C:0.00\n",
      "[-40.3718071  -66.90067291 -74.19147491]\n",
      "dc: -1.58e-03-4.97e-02j\tI:  4.00e-01\tQ: 3.84e-01+1.60e-01j\tB: -73.28 G: -40.43, C:0.00\n",
      "[-40.42728806 -66.91819    -73.28463745]\n",
      "dc: -1.58e-03-4.97e-02j\tI:  4.00e-01\tQ: 3.84e-01+1.42e-01j\tB: -74.72 G: -40.42, C:0.00\n",
      "[-40.42405319 -67.09122467 -74.71709442]\n",
      "dc: -1.58e-03-4.97e-02j\tI:  4.00e-01\tQ: 3.74e-01+1.47e-01j\tB: -74.23 G: -40.54, C:0.00\n",
      "[-40.53580093 -67.35609436 -74.23071289]\n",
      "dc: -1.58e-03-4.97e-02j\tI:  4.00e-01\tQ: 3.86e-01+1.46e-01j\tB: -75.06 G: -40.41, C:0.00\n",
      "[-40.41275406 -67.02442169 -75.05735016]\n",
      "dc: -1.58e-03-4.97e-02j\tI:  4.00e-01\tQ: 3.80e-01+1.54e-01j\tB: -74.57 G: -40.47, C:0.00\n",
      "[-40.46892929 -67.08655548 -74.5692749 ]\n",
      "dc: -1.58e-03-4.97e-02j\tI:  4.00e-01\tQ: 3.83e-01+1.45e-01j\tB: -75.27 G: -40.44, C:0.00\n",
      "[-40.43756866 -67.09790039 -75.26550293]\n",
      "dc: -1.58e-03-4.97e-02j\tI:  4.00e-01\tQ: 3.90e-01+1.41e-01j\tB: -73.35 G: -40.37, C:0.00\n",
      "[-40.36570358 -66.94783783 -73.34568024]\n",
      "dc: -1.58e-03-4.97e-02j\tI:  4.00e-01\tQ: 3.82e-01+1.48e-01j\tB: -75.44 G: -40.46, C:0.00\n",
      "[-40.45654678 -67.11290741 -75.43958282]\n",
      "dc: -1.58e-03-4.97e-02j\tI:  4.00e-01\tQ: 3.79e-01+1.47e-01j\tB: -75.32 G: -40.48, C:0.00\n",
      "[-40.47733307 -67.18331146 -75.31663513]\n",
      "dc: -1.58e-03-4.97e-02j\tI:  4.00e-01\tQ: 3.78e-01+1.50e-01j\tB: -74.95 G: -40.49, C:0.00\n",
      "[-40.49455261 -67.19852448 -74.95182037]\n",
      "dc: -1.58e-03-4.97e-02j\tI:  4.00e-01\tQ: 3.82e-01+1.46e-01j\tB: -75.41 G: -40.45, C:0.00\n",
      "[-40.45091629 -67.12490845 -75.40879822]\n",
      "dc: -1.58e-03-4.97e-02j\tI:  4.00e-01\tQ: 3.84e-01+1.47e-01j\tB: -75.29 G: -40.43, C:0.00\n",
      "[-40.42751312 -67.05081177 -75.28872681]\n",
      "dc: -1.58e-03-4.97e-02j\tI:  4.00e-01\tQ: 3.83e-01+1.47e-01j\tB: -75.40 G: -40.44, C:0.00\n",
      "[-40.43977737 -67.07878113 -75.40023041]\n"
     ]
    },
    {
     "name": "stdout",
     "output_type": "stream",
     "text": [
      "dc: -1.58e-03-4.97e-02j\tI:  4.00e-01\tQ: 3.83e-01+1.49e-01j\tB: -75.40 G: -40.45, C:0.00\n",
      "[-40.44507599 -67.05820465 -75.40299988]\n",
      "dc: -1.58e-03-4.97e-02j\tI:  4.00e-01\tQ: 3.82e-01+1.48e-01j\tB: -75.41 G: -40.45, C:0.00\n",
      "[-40.44701004 -67.07354736 -75.4107666 ]\n",
      "dc: -1.58e-03-4.97e-02j\tI:  4.00e-01\tQ: 3.81e-01+1.49e-01j\tB: -75.40 G: -40.46, C:0.00\n",
      "[-40.46094894 -67.10960388 -75.39729309]\n",
      "dc: -1.58e-03-4.97e-02j\tI:  4.00e-01\tQ: 3.82e-01+1.48e-01j\tB: -75.44 G: -40.45, C:0.00\n",
      "[-40.44596863 -67.1001358  -75.4396286 ]\n",
      "dc: -1.58e-03-4.97e-02j\tI:  4.00e-01\tQ: 3.82e-01+1.48e-01j\tB: -75.44 G: -40.45, C:0.00\n",
      "[-40.45410156 -67.1120224  -75.44239807]\n",
      "dc: -1.58e-03-4.97e-02j\tI:  4.00e-01\tQ: 3.82e-01+1.47e-01j\tB: -75.43 G: -40.44, C:0.00\n",
      "[-40.44343948 -67.09233856 -75.42651367]\n",
      "dc: -1.58e-03-4.97e-02j\tI:  4.00e-01\tQ: 3.82e-01+1.47e-01j\tB: -75.44 G: -40.45, C:0.00\n",
      "[-40.44719696 -67.09604645 -75.43815613]\n",
      "dc: -1.58e-03-4.97e-02j\tI:  4.00e-01\tQ: 3.83e-01+1.48e-01j\tB: -75.39 G: -40.44, C:0.00\n",
      "[-40.43733978 -67.07113647 -75.38887024]\n",
      "dc: -1.58e-03-4.97e-02j\tI:  4.00e-01\tQ: 3.82e-01+1.48e-01j\tB: -75.43 G: -40.45, C:0.00\n",
      "[-40.44932938 -67.09999084 -75.4285202 ]\n",
      "dc: -1.58e-03-4.97e-02j\tI:  4.00e-01\tQ: 3.82e-01+1.48e-01j\tB: -75.42 G: -40.45, C:0.00\n",
      "[-40.44512939 -67.09268951 -75.41835022]\n",
      "dc: -1.58e-03-4.97e-02j\tI:  4.00e-01\tQ: 3.82e-01+1.48e-01j\tB: -75.43 G: -40.45, C:0.00\n",
      "[-40.44937515 -67.10747528 -75.43054199]\n",
      "dc: -1.58e-03-4.97e-02j\tI:  4.00e-01\tQ: 3.82e-01+1.48e-01j\tB: -75.44 G: -40.45, C:0.00\n",
      "[-40.44745636 -67.09764862 -75.43968201]\n",
      "dc: -1.58e-03-4.97e-02j\tI:  4.00e-01\tQ: 3.83e-01+1.48e-01j\tB: -75.42 G: -40.44, C:0.00\n",
      "[-40.44367981 -67.08739471 -75.41999817]\n",
      "dc: -1.58e-03-4.97e-02j\tI:  4.00e-01\tQ: 3.82e-01+1.48e-01j\tB: -75.45 G: -40.45, C:0.00\n",
      "[-40.44715881 -67.09977722 -75.45281982]\n",
      "dc: -1.58e-03-4.97e-02j\tI:  4.00e-01\tQ: 3.82e-01+1.48e-01j\tB: -75.42 G: -40.45, C:0.00\n",
      "[-40.44659805 -67.09062195 -75.42377472]\n",
      "dc: -1.58e-03-4.97e-02j\tI:  4.00e-01\tQ: 3.82e-01+1.48e-01j\tB: -75.44 G: -40.45, C:0.00\n",
      "[-40.44617462 -67.09469604 -75.43894196]\n",
      "dc: -1.58e-03-4.97e-02j\tI:  4.00e-01\tQ: 3.82e-01+1.48e-01j\tB: -75.43 G: -40.44, C:0.00\n",
      "[-40.44343948 -67.10544586 -75.43382263]\n",
      "dc: -1.58e-03-4.97e-02j\tI:  4.00e-01\tQ: 3.82e-01+1.48e-01j\tB: -75.42 G: -40.44, C:0.00\n",
      "[-40.44405365 -67.10147095 -75.41957855]\n",
      "dc: -1.58e-03-4.97e-02j\tI:  4.00e-01\tQ: 3.82e-01+1.48e-01j\tB: -75.43 G: -40.44, C:0.00\n",
      "[-40.44353104 -67.10140228 -75.43401337]\n",
      "dc: -1.58e-03-4.97e-02j\tI:  4.00e-01\tQ: 3.82e-01+1.48e-01j\tB: -75.44 G: -40.44, C:0.00\n",
      "[-40.44463348 -67.11317444 -75.44345093]\n",
      "dc: -1.58e-03-4.97e-02j\tI:  4.00e-01\tQ: 3.82e-01+1.48e-01j\tB: -75.44 G: -40.45, C:0.00\n",
      "[-40.44555664 -67.10903931 -75.43637085]\n",
      "dc: -1.58e-03-4.97e-02j\tI:  4.00e-01\tQ: 3.82e-01+1.48e-01j\tB: -75.45 G: -40.45, C:0.00\n",
      "[-40.44525909 -67.10140228 -75.45257568]\n",
      "dc: -1.58e-03-4.97e-02j\tI:  4.00e-01\tQ: 3.82e-01+1.48e-01j\tB: -75.45 G: -40.45, C:0.00\n",
      "[-40.44551468 -67.1063385  -75.44760132]\n",
      "dc: -1.58e-03-4.97e-02j\tI:  4.00e-01\tQ: 3.82e-01+1.48e-01j\tB: -75.44 G: -40.44, C:0.00\n",
      "[-40.44402695 -67.10087585 -75.44303894]\n",
      "dc: -1.58e-03-4.97e-02j\tI:  4.00e-01\tQ: 3.82e-01+1.48e-01j\tB: -75.42 G: -40.44, C:0.00\n",
      "[-40.44393921 -67.12441254 -75.42329407]\n",
      "dc: -1.58e-03-4.97e-02j\tI:  4.00e-01\tQ: 3.82e-01+1.48e-01j\tB: -75.45 G: -40.44, C:0.00\n",
      "[-40.44387817 -67.10360718 -75.44563293]\n",
      "dc: -1.58e-03-4.97e-02j\tI:  4.00e-01\tQ: 3.82e-01+1.48e-01j\tB: -75.43 G: -40.44, C:0.00\n",
      "[-40.44491577 -67.10648346 -75.43273163]\n",
      "dc: -1.58e-03-4.97e-02j\tI:  4.00e-01\tQ: 3.82e-01+1.48e-01j\tB: -75.43 G: -40.45, C:0.00\n",
      "[-40.44508362 -67.09281158 -75.43063354]\n",
      "dc: -1.58e-03-4.97e-02j\tI:  4.00e-01\tQ: 3.82e-01+1.48e-01j\tB: -75.42 G: -40.44, C:0.00\n",
      "[-40.44472504 -67.11170197 -75.42481232]\n",
      "dc: -1.58e-03-4.97e-02j\tI:  4.00e-01\tQ: 3.82e-01+1.48e-01j\tB: -75.42 G: -40.44, C:0.00\n",
      "[-40.44492722 -67.10531616 -75.4243927 ]\n",
      "Warning: Maximum number of iterations has been exceeded.\n",
      "dc: -1.58e-03-4.97e-02j\tI:  4.00e-01\tQ: 3.82e-01+1.48e-01j\tB: -53.51 G: -40.45, C:0.00\n",
      "[-75.82406616 -72.30840302 -69.29633331 -40.44511032 -67.10395813\n",
      " -75.4263382  -72.00824738 -71.701828   -72.30510712]\n",
      "Inserting references: {}\n",
      "load_exdir: file open time:  0.00998234748840332\n",
      "<class 'ValueError'> could not convert string to float: '(-0.018034207538124215-0.000856974659797645j)'\n",
      "load_exdir: file open time:  0.010017156600952148\n",
      "load_exdir: file open time:  0.009998321533203125\n",
      "load_exdir: file open time:  0.0\n",
      "<class 'ValueError'> could not convert string to float: '(-0.09790106812338162-0.14809755161948335j)'\n",
      "load_exdir: file open time:  0.0\n",
      "list index out of range\n",
      "-91260000.0 3228740000.0\n",
      "dc: -9.79e-02-1.48e-01j\tI:  4.00e-01\tQ: 5.00e-01-2.00e-01j\tB: -57.51 G: -49.66, C:0.00\n",
      "[-49.65961838 -57.6284256  -57.51033783]\n",
      "dc: -9.79e-02-1.48e-01j\tI:  4.00e-01\tQ: 5.25e-01-2.00e-01j\tB: -57.31 G: -49.50, C:0.00\n",
      "[-49.49981308 -57.17608643 -57.308815  ]\n",
      "dc: -9.79e-02-1.48e-01j\tI:  4.00e-01\tQ: 5.00e-01-2.10e-01j\tB: -57.27 G: -49.62, C:0.00\n",
      "[-49.62228012 -57.54743958 -57.26823044]\n",
      "dc: -9.79e-02-1.48e-01j\tI:  4.00e-01\tQ: 5.25e-01-1.90e-01j\tB: -57.52 G: -49.52, C:0.00\n",
      "[-49.51537323 -57.22426605 -57.51884079]\n",
      "dc: -9.79e-02-1.48e-01j\tI:  4.00e-01\tQ: 5.37e-01-1.80e-01j\tB: -57.62 G: -49.47, C:0.00\n",
      "[-49.46545029 -57.05307007 -57.62051773]\n",
      "dc: -9.79e-02-1.48e-01j\tI:  4.00e-01\tQ: 5.12e-01-1.80e-01j\tB: -57.85 G: -49.62, C:0.00\n",
      "[-49.61961365 -57.51235199 -57.85481262]\n",
      "dc: -9.79e-02-1.48e-01j\tI:  4.00e-01\tQ: 5.06e-01-1.70e-01j\tB: -58.15 G: -49.69, C:0.00\n",
      "[-49.68774414 -57.68473434 -58.14611435]\n",
      "dc: -9.79e-02-1.48e-01j\tI:  4.00e-01\tQ: 5.44e-01-1.50e-01j\tB: -58.24 G: -49.51, C:0.00\n",
      "[-49.50601959 -57.08865738 -58.23503494]\n",
      "dc: -9.79e-02-1.48e-01j\tI:  4.00e-01\tQ: 5.66e-01-1.25e-01j\tB: -58.54 G: -49.44, C:0.00\n",
      "[-49.43772888 -56.79273224 -58.5413475 ]\n",
      "dc: -9.79e-02-1.48e-01j\tI:  4.00e-01\tQ: 5.34e-01-1.15e-01j\tB: -59.21 G: -49.66, C:0.00\n",
      "[-49.65721512 -57.40383911 -59.20742416]\n",
      "dc: -9.79e-02-1.48e-01j\tI:  4.00e-01\tQ: 5.33e-01-8.25e-02j\tB: -60.11 G: -49.75, C:0.00\n",
      "[-49.75019073 -57.54150391 -60.10795593]\n",
      "dc: -9.79e-02-1.48e-01j\tI:  4.00e-01\tQ: 5.92e-01-3.75e-02j\tB: -60.13 G: -49.48, C:0.00\n",
      "[-49.47960281 -56.48876953 -60.1303978 ]\n",
      "dc: -9.79e-02-1.48e-01j\tI:  4.00e-01\tQ: 6.35e-01+2.87e-02j\tB: -60.45 G: -49.35, C:0.00\n",
      "[-49.34872818 -55.75268936 -60.45446014]\n",
      "dc: -9.79e-02-1.48e-01j\tI:  4.00e-01\tQ: 6.02e-01+7.12e-02j\tB: -62.34 G: -49.63, C:0.00\n",
      "[-49.62963486 -56.20085526 -62.34459305]\n",
      "dc: -9.79e-02-1.48e-01j\tI:  4.00e-01\tQ: 6.21e-01+1.69e-01j\tB: -63.03 G: -49.67, C:0.00\n",
      "[-49.67425156 -55.55890656 -63.03092957]\n",
      "dc: -9.79e-02-1.48e-01j\tI:  4.00e-01\tQ: 7.23e-01+2.81e-01j\tB: -59.44 G: -49.18, C:0.00\n",
      "[-49.18041229 -53.85815811 -59.43589401]\n",
      "dc: -9.79e-02-1.48e-01j\tI:  4.00e-01\tQ: 5.80e-01+8.28e-03j\tB: -61.56 G: -49.65, C:0.00\n",
      "[-49.65262985 -56.69571686 -61.55891418]\n",
      "dc: -9.79e-02-1.48e-01j\tI:  4.00e-01\tQ: 5.66e-01+1.49e-01j\tB: -65.48 G: -50.00, C:0.00\n",
      "[-49.99906158 -56.53565598 -65.48240662]\n",
      "dc: -9.79e-02-1.48e-01j\tI:  4.00e-01\tQ: 5.31e-01+2.09e-01j\tB: -68.01 G: -50.32, C:0.00\n",
      "[-50.32354355 -56.76888275 -68.00834656]\n",
      "dc: -9.79e-02-1.48e-01j\tI:  4.00e-01\tQ: 5.72e-01+3.70e-01j\tB: -62.71 G: -50.21, C:0.00\n",
      "[-50.20933914 -54.91795349 -62.70627594]\n",
      "dc: -9.79e-02-1.48e-01j\tI:  4.00e-01\tQ: 5.74e-01+2.80e-01j\tB: -64.66 G: -50.12, C:0.00\n",
      "[-50.11813354 -55.57553482 -64.65674591]\n",
      "dc: -9.79e-02-1.48e-01j\tI:  4.00e-01\tQ: 4.84e-01+3.19e-01j\tB: -66.37 G: -50.79, C:0.00\n",
      "[-50.78554535 -56.53183365 -66.3698349 ]\n",
      "dc: -9.79e-02-1.48e-01j\tI:  4.00e-01\tQ: 4.42e-01+2.49e-01j\tB: -70.88 G: -51.04, C:0.00\n",
      "[-51.03913879 -58.08036041 -70.88376617]\n",
      "dc: -9.79e-02-1.48e-01j\tI:  4.00e-01\tQ: 3.76e-01+2.33e-01j\tB: -69.25 G: -51.57, C:0.00\n",
      "[-51.56887817 -59.73827362 -69.24660492]\n",
      "dc: -9.79e-02-1.48e-01j\tI:  4.00e-01\tQ: 4.89e-01+1.38e-01j\tB: -70.26 G: -50.52, C:0.00\n",
      "[-50.51667786 -58.11683655 -70.25646973]\n",
      "dc: -9.79e-02-1.48e-01j\tI:  4.00e-01\tQ: 3.99e-01+1.78e-01j\tB: -73.01 G: -51.29, C:0.00\n",
      "[-51.28809738 -59.91305923 -73.01422882]\n",
      "dc: -9.79e-02-1.48e-01j\tI:  4.00e-01\tQ: 3.33e-01+1.62e-01j\tB: -67.70 G: -51.86, C:0.00\n",
      "[-51.86089706 -62.03476334 -67.70485687]\n",
      "dc: -9.79e-02-1.48e-01j\tI:  4.00e-01\tQ: 3.52e-01+2.88e-01j\tB: -65.79 G: -51.84, C:0.00\n",
      "[-51.83705139 -59.34184647 -65.79336548]\n",
      "dc: -9.79e-02-1.48e-01j\tI:  4.00e-01\tQ: 4.55e-01+1.76e-01j\tB: -74.07 G: -50.84, C:0.00\n",
      "[-50.83758926 -58.58781433 -74.06899261]\n"
     ]
    },
    {
     "name": "stdout",
     "output_type": "stream",
     "text": [
      "dc: -9.79e-02-1.48e-01j\tI:  4.00e-01\tQ: 4.12e-01+1.05e-01j\tB: -70.64 G: -51.05, C:0.00\n",
      "[-51.05247498 -60.28255844 -70.6386261 ]\n",
      "dc: -9.79e-02-1.48e-01j\tI:  4.00e-01\tQ: 4.34e-01+2.13e-01j\tB: -73.35 G: -51.05, C:0.00\n",
      "[-51.05382538 -58.66290283 -73.34870148]\n",
      "dc: -9.79e-02-1.48e-01j\tI:  4.00e-01\tQ: 4.90e-01+2.11e-01j\tB: -70.97 G: -50.62, C:0.00\n",
      "[-50.62479019 -57.52659225 -70.97117615]\n",
      "dc: -9.79e-02-1.48e-01j\tI:  4.00e-01\tQ: 4.22e-01+1.86e-01j\tB: -74.34 G: -51.12, C:0.00\n",
      "[-51.11555481 -59.25478745 -74.34018707]\n",
      "dc: -9.79e-02-1.48e-01j\tI:  4.00e-01\tQ: 4.42e-01+1.49e-01j\tB: -73.74 G: -50.89, C:0.00\n",
      "[-50.8922348  -59.12616348 -73.73851776]\n",
      "dc: -9.79e-02-1.48e-01j\tI:  4.00e-01\tQ: 4.40e-01+1.65e-01j\tB: -74.49 G: -50.94, C:0.00\n",
      "[-50.93686295 -59.02651978 -74.489151  ]\n",
      "dc: -9.79e-02-1.48e-01j\tI:  4.00e-01\tQ: 4.73e-01+1.55e-01j\tB: -72.15 G: -50.67, C:0.00\n",
      "[-50.66735077 -58.35224533 -72.1508255 ]\n",
      "dc: -9.79e-02-1.48e-01j\tI:  4.00e-01\tQ: 4.35e-01+1.78e-01j\tB: -74.74 G: -51.00, C:0.00\n",
      "[-50.99972916 -59.02647018 -74.73668671]\n",
      "dc: -9.79e-02-1.48e-01j\tI:  4.00e-01\tQ: 4.20e-01+1.68e-01j\tB: -74.38 G: -51.10, C:0.00\n",
      "[-51.10043716 -59.49423218 -74.38010406]\n",
      "dc: -9.79e-02-1.48e-01j\tI:  4.00e-01\tQ: 4.29e-01+1.70e-01j\tB: -74.66 G: -51.03, C:0.00\n",
      "[-51.03337479 -59.25842285 -74.66158295]\n",
      "dc: -9.79e-02-1.48e-01j\tI:  4.00e-01\tQ: 4.23e-01+1.83e-01j\tB: -74.47 G: -51.10, C:0.00\n",
      "[-51.10237885 -59.25714874 -74.4715271 ]\n",
      "dc: -9.79e-02-1.48e-01j\tI:  4.00e-01\tQ: 4.36e-01+1.70e-01j\tB: -74.69 G: -50.98, C:0.00\n",
      "[-50.97699356 -59.08424759 -74.68791962]\n",
      "dc: -9.79e-02-1.48e-01j\tI:  4.00e-01\tQ: 4.42e-01+1.78e-01j\tB: -74.64 G: -50.94, C:0.00\n",
      "[-50.94265366 -58.85824966 -74.63845062]\n",
      "dc: -9.79e-02-1.48e-01j\tI:  4.00e-01\tQ: 4.39e-01+1.76e-01j\tB: -74.71 G: -50.96, C:0.00\n",
      "[-50.96472931 -58.95561981 -74.7078476 ]\n",
      "dc: -9.79e-02-1.48e-01j\tI:  4.00e-01\tQ: 4.37e-01+1.85e-01j\tB: -74.65 G: -50.99, C:0.00\n",
      "[-50.98839569 -58.8986702  -74.65378571]\n",
      "dc: -9.79e-02-1.48e-01j\tI:  4.00e-01\tQ: 4.36e-01+1.73e-01j\tB: -74.73 G: -50.98, C:0.00\n",
      "[-50.97885132 -59.03889847 -74.72846222]\n",
      "dc: -9.79e-02-1.48e-01j\tI:  4.00e-01\tQ: 4.40e-01+1.71e-01j\tB: -74.65 G: -50.95, C:0.00\n",
      "[-50.94543457 -58.97114182 -74.64700317]\n",
      "dc: -9.79e-02-1.48e-01j\tI:  4.00e-01\tQ: 4.36e-01+1.76e-01j\tB: -74.74 G: -50.99, C:0.00\n",
      "[-50.98766708 -59.01413345 -74.74234009]\n",
      "dc: -9.79e-02-1.48e-01j\tI:  4.00e-01\tQ: 4.34e-01+1.74e-01j\tB: -74.74 G: -51.00, C:0.00\n",
      "[-51.00137329 -59.09775925 -74.74121094]\n",
      "dc: -9.79e-02-1.48e-01j\tI:  4.00e-01\tQ: 4.37e-01+1.75e-01j\tB: -74.72 G: -50.98, C:0.00\n",
      "[-50.97576523 -58.99651337 -74.71678925]\n",
      "dc: -9.79e-02-1.48e-01j\tI:  4.00e-01\tQ: 4.36e-01+1.75e-01j\tB: -74.74 G: -50.98, C:0.00\n",
      "[-50.98281097 -59.03236008 -74.73661804]\n",
      "dc: -9.79e-02-1.48e-01j\tI:  4.00e-01\tQ: 4.37e-01+1.76e-01j\tB: -74.73 G: -50.98, C:0.00\n",
      "[-50.97723007 -58.99410629 -74.72701263]\n",
      "dc: -9.79e-02-1.48e-01j\tI:  4.00e-01\tQ: 4.35e-01+1.75e-01j\tB: -74.73 G: -50.99, C:0.00\n",
      "[-50.99325562 -59.05190277 -74.73495483]\n",
      "dc: -9.79e-02-1.48e-01j\tI:  4.00e-01\tQ: 4.37e-01+1.76e-01j\tB: -74.74 G: -50.98, C:0.00\n",
      "[-50.9813385  -59.00247192 -74.7368927 ]\n",
      "dc: -9.79e-02-1.48e-01j\tI:  4.00e-01\tQ: 4.37e-01+1.78e-01j\tB: -74.73 G: -50.99, C:0.00\n",
      "[-50.98508453 -58.99137115 -74.73259735]\n",
      "dc: -9.79e-02-1.48e-01j\tI:  4.00e-01\tQ: 4.36e-01+1.76e-01j\tB: -74.74 G: -50.98, C:0.00\n",
      "[-50.9849205  -59.01648331 -74.74028015]\n",
      "dc: -9.79e-02-1.48e-01j\tI:  4.00e-01\tQ: 4.37e-01+1.75e-01j\tB: -74.74 G: -50.98, C:0.00\n",
      "[-50.97978973 -59.00832367 -74.73839569]\n",
      "dc: -9.79e-02-1.48e-01j\tI:  4.00e-01\tQ: 4.37e-01+1.74e-01j\tB: -74.72 G: -50.98, C:0.00\n",
      "[-50.97727203 -59.00599289 -74.71504211]\n",
      "dc: -9.79e-02-1.48e-01j\tI:  4.00e-01\tQ: 4.37e-01+1.75e-01j\tB: -74.73 G: -50.98, C:0.00\n",
      "[-50.97709274 -58.99369812 -74.73044586]\n",
      "dc: -9.79e-02-1.48e-01j\tI:  4.00e-01\tQ: 4.37e-01+1.76e-01j\tB: -74.75 G: -50.98, C:0.00\n",
      "[-50.98245239 -59.01245499 -74.75030518]\n",
      "dc: -9.79e-02-1.48e-01j\tI:  4.00e-01\tQ: 4.37e-01+1.75e-01j\tB: -74.74 G: -50.98, C:0.00\n",
      "[-50.98005295 -59.0172348  -74.73602295]\n",
      "dc: -9.79e-02-1.48e-01j\tI:  4.00e-01\tQ: 4.37e-01+1.75e-01j\tB: -74.74 G: -50.98, C:0.00\n",
      "[-50.98133469 -59.01192474 -74.73943329]\n",
      "dc: -9.79e-02-1.48e-01j\tI:  4.00e-01\tQ: 4.37e-01+1.76e-01j\tB: -74.75 G: -50.98, C:0.00\n",
      "[-50.98226166 -59.01057053 -74.74872589]\n",
      "dc: -9.79e-02-1.48e-01j\tI:  4.00e-01\tQ: 4.36e-01+1.76e-01j\tB: -74.72 G: -50.99, C:0.00\n",
      "[-50.98826599 -59.01109695 -74.72454071]\n",
      "dc: -9.79e-02-1.48e-01j\tI:  4.00e-01\tQ: 4.37e-01+1.75e-01j\tB: -74.74 G: -50.98, C:0.00\n",
      "[-50.98012543 -59.00814056 -74.74443817]\n",
      "dc: -9.79e-02-1.48e-01j\tI:  4.00e-01\tQ: 4.37e-01+1.76e-01j\tB: -74.74 G: -50.98, C:0.00\n",
      "[-50.98388672 -59.0125885  -74.74047089]\n",
      "dc: -9.79e-02-1.48e-01j\tI:  4.00e-01\tQ: 4.37e-01+1.75e-01j\tB: -74.75 G: -50.98, C:0.00\n",
      "[-50.98148346 -59.00846863 -74.74630737]\n",
      "dc: -9.79e-02-1.48e-01j\tI:  4.00e-01\tQ: 4.37e-01+1.76e-01j\tB: -74.74 G: -50.98, C:0.00\n",
      "[-50.98425293 -59.00964355 -74.74039459]\n",
      "dc: -9.79e-02-1.48e-01j\tI:  4.00e-01\tQ: 4.37e-01+1.76e-01j\tB: -74.74 G: -50.98, C:0.00\n",
      "[-50.97913742 -59.01236343 -74.73732758]\n",
      "dc: -9.79e-02-1.48e-01j\tI:  4.00e-01\tQ: 4.37e-01+1.76e-01j\tB: -74.73 G: -50.98, C:0.00\n",
      "[-50.9819603  -59.01110458 -74.73297119]\n",
      "dc: -9.79e-02-1.48e-01j\tI:  4.00e-01\tQ: 4.37e-01+1.75e-01j\tB: -74.74 G: -50.98, C:0.00\n",
      "[-50.98468018 -59.01027679 -74.74002838]\n",
      "dc: -9.79e-02-1.48e-01j\tI:  4.00e-01\tQ: 4.37e-01+1.75e-01j\tB: -74.74 G: -50.98, C:0.00\n",
      "[-50.98119354 -59.01664352 -74.74156189]\n",
      "dc: -9.79e-02-1.48e-01j\tI:  4.00e-01\tQ: 4.37e-01+1.75e-01j\tB: -74.74 G: -50.98, C:0.00\n",
      "[-50.98404312 -59.01962662 -74.74364471]\n",
      "dc: -9.79e-02-1.48e-01j\tI:  4.00e-01\tQ: 4.37e-01+1.75e-01j\tB: -74.74 G: -50.98, C:0.00\n",
      "[-50.98168182 -59.01366806 -74.73681641]\n",
      "dc: -9.79e-02-1.48e-01j\tI:  4.00e-01\tQ: 4.37e-01+1.75e-01j\tB: -74.73 G: -50.98, C:0.00\n",
      "[-50.98220062 -59.01555252 -74.72699738]\n",
      "dc: -9.79e-02-1.48e-01j\tI:  4.00e-01\tQ: 4.37e-01+1.76e-01j\tB: -74.73 G: -50.98, C:0.00\n",
      "[-50.9822998  -59.01384354 -74.73397064]\n",
      "dc: -9.79e-02-1.48e-01j\tI:  4.00e-01\tQ: 4.37e-01+1.76e-01j\tB: -74.73 G: -50.99, C:0.00\n",
      "[-50.98514938 -59.01300049 -74.73399353]\n",
      "dc: -9.79e-02-1.48e-01j\tI:  4.00e-01\tQ: 4.37e-01+1.76e-01j\tB: -74.75 G: -50.99, C:0.00\n",
      "[-50.98665619 -59.01423264 -74.74515533]\n",
      "dc: -9.79e-02-1.48e-01j\tI:  4.00e-01\tQ: 4.37e-01+1.76e-01j\tB: -74.74 G: -50.99, C:0.00\n",
      "[-50.98571014 -59.01519012 -74.73674011]\n",
      "dc: -9.79e-02-1.48e-01j\tI:  4.00e-01\tQ: 4.37e-01+1.76e-01j\tB: -74.73 G: -50.98, C:0.00\n",
      "[-50.98228455 -59.00993729 -74.72633362]\n",
      "dc: -9.79e-02-1.48e-01j\tI:  4.00e-01\tQ: 4.37e-01+1.76e-01j\tB: -74.72 G: -50.98, C:0.00\n",
      "[-50.98301315 -59.01026535 -74.72158813]\n",
      "dc: -9.79e-02-1.48e-01j\tI:  4.00e-01\tQ: 4.37e-01+1.76e-01j\tB: -74.74 G: -50.99, C:0.00\n",
      "[-50.9850235  -59.01134872 -74.73629761]\n",
      "dc: -9.79e-02-1.48e-01j\tI:  4.00e-01\tQ: 4.37e-01+1.76e-01j\tB: -74.74 G: -50.98, C:0.00\n",
      "[-50.98270416 -59.01512909 -74.74042511]\n",
      "dc: -9.79e-02-1.48e-01j\tI:  4.00e-01\tQ: 4.37e-01+1.76e-01j\tB: -74.74 G: -50.98, C:0.00\n",
      "[-50.98158646 -59.01626205 -74.73773193]\n",
      "dc: -9.79e-02-1.48e-01j\tI:  4.00e-01\tQ: 4.37e-01+1.76e-01j\tB: -74.74 G: -50.98, C:0.00\n",
      "[-50.98252487 -59.01239395 -74.7435379 ]\n",
      "Warning: Maximum number of iterations has been exceeded.\n",
      "dc: -9.79e-02-1.48e-01j\tI:  4.00e-01\tQ: 4.37e-01+1.76e-01j\tB: -49.40 G: -50.98, C:0.00\n",
      "[-75.67524719 -72.45524597 -65.43804169 -50.98184967 -59.01655197\n",
      " -74.74458313 -63.13262939 -73.78336334 -72.13239288]\n",
      "Inserting references: {}\n",
      "load_exdir: file open time:  0.0\n",
      "load_exdir: file open time:  0.0\n",
      "reference: channel_calibration : 4381\n",
      "load_exdir: file open time:  0.0\n",
      "reference: passthrough_measurement : 4396\n",
      "load_exdir: file open time:  0.0\n",
      "load_exdir: file open time:  0.0\n",
      "reference: readout_pulse : 4397\n",
      "reference: modem_calibration : 4389\n",
      "load_exdir: file open time:  0.0\n",
      "load_exdir: file open time:  0.0\n",
      "load_exdir: file open time:  0.0\n",
      "load_exdir: file open time:  0.0\n",
      "load_exdir: file open time:  0.009983062744140625\n",
      "load_exdir: file open time:  0.009999275207519531\n",
      "load_exdir: file open time:  0.0\n",
      "reference: ('channel_calibration', 'iq_ex1_q3') : 4443\n",
      "Inserting references: {('channel_calibration', 'iq_ex1_q3'): 4443}\n",
      "load_exdir: file open time:  0.0\n",
      "load_exdir: file open time:  0.0\n",
      "load_exdir: file open time:  0.0\n",
      "load_exdir: file open time:  0.009999752044677734\n",
      "load_exdir: file open time:  0.0\n"
     ]
    },
    {
     "name": "stdout",
     "output_type": "stream",
     "text": [
      "load_exdir: file open time:  0.0\n",
      "0 1.0000000000000001e-07 1e-09\n",
      "load_exdir: file open time:  0.0\n",
      "load_exdir: file open time:  0.0\n",
      "reference: channel_calibration : 4381\n",
      "load_exdir: file open time:  0.0\n",
      "reference: passthrough_measurement : 4396\n",
      "load_exdir: file open time:  0.0\n",
      "load_exdir: file open time:  0.0\n",
      "reference: readout_pulse : 4397\n",
      "reference: modem_calibration : 4389\n",
      "load_exdir: file open time:  0.0\n",
      "load_exdir: file open time:  0.0\n",
      "Inserting references: {'channel_amplitudes': 4445, 'readout_calibration': 4407}\n",
      "Inserting references: {'fit_source': 4446}\n"
     ]
    },
    {
     "name": "stderr",
     "output_type": "stream",
     "text": [
      "Traceback (most recent call last):\n",
      "  File \"C:\\qtlab_replacement\\qsweepy\\fitters\\exp_sin.py\", line 23, in exp_sin_fit\n",
      "    raise ValueError\n",
      "ValueError\n",
      "Traceback (most recent call last):\n",
      "  File \"C:\\qtlab_replacement\\qsweepy\\fitters\\exp_sin.py\", line 23, in exp_sin_fit\n",
      "    raise ValueError\n",
      "ValueError\n",
      "Traceback (most recent call last):\n",
      "  File \"C:\\qtlab_replacement\\qsweepy\\fitters\\exp_sin.py\", line 23, in exp_sin_fit\n",
      "    raise ValueError\n",
      "ValueError\n",
      "Traceback (most recent call last):\n",
      "  File \"C:\\qtlab_replacement\\qsweepy\\fitters\\exp_sin.py\", line 23, in exp_sin_fit\n",
      "    raise ValueError\n",
      "ValueError\n",
      "Traceback (most recent call last):\n",
      "  File \"C:\\qtlab_replacement\\qsweepy\\fitters\\exp_sin.py\", line 23, in exp_sin_fit\n",
      "    raise ValueError\n",
      "ValueError\n"
     ]
    },
    {
     "name": "stdout",
     "output_type": "stream",
     "text": [
      "Waiting to join deferred threads:\n",
      "load_exdir: file open time:  0.000993490219116211\n",
      "load_exdir: file open time:  0.0010013580322265625\n",
      "load_exdir: file open time:  0.002000093460083008\n",
      "load time:  0.03400421142578125\n",
      "pre_trace_time:  0.0\n",
      "trace 0 time:  0.013955116271972656\n",
      "trace 1 time:  0.02494978904724121\n",
      "trace 2 time:  0.035944223403930664\n",
      "trace 3 time:  0.04693913459777832\n",
      "load_exdir: file open time:  0.0020172595977783203\n",
      "load_exdir: file open time:  0.001016378402709961\n",
      "load_exdir: file open time:  0.001998424530029297\n",
      "load time:  0.03199005126953125\n",
      "pre_trace_time:  0.0009765625\n",
      "trace 0 time:  0.01301264762878418\n",
      "trace 1 time:  0.024005413055419922\n",
      "trace 2 time:  0.0350031852722168\n",
      "trace 3 time:  0.045998573303222656\n",
      "load_exdir: file open time:  0.001999378204345703\n",
      "load_exdir: file open time:  0.00099945068359375\n",
      "reference: channel_calibration : 4381\n",
      "load_exdir: file open time:  0.0019989013671875\n",
      "reference: passthrough_measurement : 4396\n",
      "load_exdir: file open time:  0.0019991397857666016\n",
      "load_exdir: file open time:  0.0009996891021728516\n",
      "reference: readout_pulse : 4397\n",
      "reference: modem_calibration : 4389\n",
      "load_exdir: file open time:  0.0009996891021728516\n",
      "load_exdir: file open time:  0.0009992122650146484\n",
      "Inserting references: {'channel_amplitudes': 4445, 'readout_calibration': 4407}\n",
      "Inserting references: {'fit_source': 4448}\n"
     ]
    },
    {
     "name": "stderr",
     "output_type": "stream",
     "text": [
      "Traceback (most recent call last):\n",
      "  File \"C:\\qtlab_replacement\\qsweepy\\fitters\\exp_sin.py\", line 23, in exp_sin_fit\n",
      "    raise ValueError\n",
      "ValueError\n",
      "Traceback (most recent call last):\n",
      "  File \"C:\\qtlab_replacement\\qsweepy\\fitters\\exp_sin.py\", line 23, in exp_sin_fit\n",
      "    raise ValueError\n",
      "ValueError\n",
      "Traceback (most recent call last):\n",
      "  File \"C:\\qtlab_replacement\\qsweepy\\fitters\\exp_sin.py\", line 23, in exp_sin_fit\n",
      "    raise ValueError\n",
      "ValueError\n",
      "Traceback (most recent call last):\n",
      "  File \"C:\\qtlab_replacement\\qsweepy\\fitters\\exp_sin.py\", line 23, in exp_sin_fit\n",
      "    raise ValueError\n",
      "ValueError\n",
      "Traceback (most recent call last):\n",
      "  File \"C:\\qtlab_replacement\\qsweepy\\fitters\\exp_sin.py\", line 23, in exp_sin_fit\n",
      "    raise ValueError\n",
      "ValueError\n"
     ]
    },
    {
     "name": "stdout",
     "output_type": "stream",
     "text": [
      "Waiting to join deferred threads:\n",
      "load_exdir: file open time:  0.0009944438934326172\n",
      "load_exdir: file open time:  0.0009992122650146484\n",
      "load_exdir: file open time:  0.00099945068359375\n",
      "load time:  0.03299117088317871\n",
      "pre_trace_time:  0.0009987354278564453\n",
      "trace 0 time:  0.013992071151733398\n",
      "trace 1 time:  0.02498650550842285\n",
      "trace 2 time:  0.0359807014465332\n",
      "trace 3 time:  0.04797768592834473\n",
      "load_exdir: file open time:  0.0010004043579101562\n",
      "load_exdir: file open time:  0.001999378204345703\n",
      "load_exdir: file open time:  0.0009996891021728516\n",
      "load time:  0.035982608795166016\n",
      "pre_trace_time:  0.0009996891021728516\n",
      "trace 0 time:  0.014015913009643555\n",
      "trace 1 time:  0.02501225471496582\n",
      "trace 2 time:  0.036005496978759766\n",
      "trace 3 time:  0.04800081253051758\n",
      "load_exdir: file open time:  0.0009949207305908203\n",
      "load_exdir: file open time:  0.000997304916381836\n",
      "c:\\data\\2019-07-08\\004449-fit_dataset_1d-1906-001_1_down\n",
      "load_exdir: file open time:  0.0019974708557128906\n",
      "c:\\data\\2019-07-08\\004448-Rabi_rect-1906-001_1_down\n",
      "load_exdir: file open time:  0.0019989013671875\n",
      "load_exdir: file open time:  0.0019989013671875\n",
      "reference: channel_amplitudes : 4445\n",
      "reference: Rabi_rect : 4448\n",
      "Inserting references: {'channel_amplitudes': 4445, 'Rabi_rect': 4448}\n",
      "c:\\data\\2019-07-08\\004445-channel_amplitudes-1906-001_1_down\n",
      "load_exdir: file open time:  0.00099945068359375\n",
      "load_exdir: file open time:  0.0009996891021728516\n",
      "reference: ('channel_calibration', 'iq_ex3_q3') : 4444\n",
      "Inserting references: {('channel_calibration', 'iq_ex3_q3'): 4444}\n",
      "load_exdir: file open time:  0.0009992122650146484\n",
      "load_exdir: file open time:  0.0019989013671875\n",
      "load_exdir: file open time:  0.0019986629486083984\n",
      "load_exdir: file open time:  0.0009980201721191406\n",
      "load_exdir: file open time:  0.0020058155059814453\n",
      "load_exdir: file open time:  0.0010166168212890625\n",
      "0 1.0000000000000001e-07 1e-09\n",
      "load_exdir: file open time:  0.0010166168212890625\n",
      "load_exdir: file open time:  0.002015829086303711\n"
     ]
    },
    {
     "name": "stderr",
     "output_type": "stream",
     "text": [
      "Traceback (most recent call last):\n",
      "  File \"C:\\qtlab_replacement\\qsweepy\\qubit_calibrations\\excitation_pulse.py\", line 34, in __init__\n",
      "    measurement = self.device.exdir_db.select_measurement(measurement_type='qubit_excitation_pulse', metadata=metadata, references_that=references)\n",
      "  File \"C:\\qtlab_replacement\\qsweepy\\exdir_db.py\", line 48, in select_measurement\n",
      "    return save_exdir.load_exdir(list(measurement_db_list.order_by(lambda d: desc(d.id)).limit(1))[0].filename, db=self.db)\n",
      "IndexError: list index out of range\n"
     ]
    },
    {
     "name": "stdout",
     "output_type": "stream",
     "text": [
      "reference: channel_calibration : 4381\n",
      "load_exdir: file open time:  0.0019927024841308594\n",
      "reference: passthrough_measurement : 4396\n",
      "load_exdir: file open time:  0.001979827880859375\n",
      "load_exdir: file open time:  0.0009992122650146484\n",
      "reference: readout_pulse : 4397\n",
      "reference: modem_calibration : 4389\n",
      "load_exdir: file open time:  0.0010180473327636719\n",
      "load_exdir: file open time:  0.0019998550415039062\n",
      "Inserting references: {'channel_amplitudes': 4451, 'readout_calibration': 4407}\n",
      "Inserting references: {'fit_source': 4452}\n"
     ]
    },
    {
     "name": "stderr",
     "output_type": "stream",
     "text": [
      "Traceback (most recent call last):\n",
      "  File \"C:\\qtlab_replacement\\qsweepy\\fitters\\exp_sin.py\", line 23, in exp_sin_fit\n",
      "    raise ValueError\n",
      "ValueError\n",
      "Traceback (most recent call last):\n",
      "  File \"C:\\qtlab_replacement\\qsweepy\\fitters\\exp_sin.py\", line 23, in exp_sin_fit\n",
      "    raise ValueError\n",
      "ValueError\n",
      "Traceback (most recent call last):\n",
      "  File \"C:\\qtlab_replacement\\qsweepy\\fitters\\exp_sin.py\", line 23, in exp_sin_fit\n",
      "    raise ValueError\n",
      "ValueError\n",
      "Traceback (most recent call last):\n",
      "  File \"C:\\qtlab_replacement\\qsweepy\\fitters\\exp_sin.py\", line 23, in exp_sin_fit\n",
      "    raise ValueError\n",
      "ValueError\n",
      "Traceback (most recent call last):\n",
      "  File \"C:\\qtlab_replacement\\qsweepy\\fitters\\exp_sin.py\", line 23, in exp_sin_fit\n",
      "    raise ValueError\n",
      "ValueError\n"
     ]
    },
    {
     "name": "stdout",
     "output_type": "stream",
     "text": [
      "Waiting to join deferred threads:\n",
      "load_exdir: file open time:  0.0019989013671875\n",
      "load_exdir: file open time:  0.0019986629486083984\n",
      "load_exdir: file open time:  0.0010013580322265625\n",
      "load time:  0.03398871421813965\n",
      "pre_trace_time:  0.0010018348693847656\n",
      "trace 0 time:  0.012987852096557617\n",
      "trace 1 time:  0.02398085594177246\n",
      "trace 2 time:  0.035974979400634766\n",
      "trace 3 time:  0.04795193672180176\n",
      "load_exdir: file open time:  0.0009970664978027344\n",
      "load_exdir: file open time:  0.0019989013671875\n",
      "load_exdir: file open time:  0.0010001659393310547\n",
      "load time:  0.035986900329589844\n",
      "pre_trace_time:  0.0009996891021728516\n",
      "trace 0 time:  0.013990402221679688\n",
      "trace 1 time:  0.02398538589477539\n",
      "trace 2 time:  0.03597903251647949\n",
      "trace 3 time:  0.04595518112182617\n",
      "load_exdir: file open time:  0.001001596450805664\n",
      "load_exdir: file open time:  0.0010225772857666016\n",
      "c:\\data\\2019-07-08\\004453-fit_dataset_1d-1906-001_1_down\n",
      "load_exdir: file open time:  0.0019998550415039062\n",
      "c:\\data\\2019-07-08\\004452-Rabi_rect-1906-001_1_down\n",
      "load_exdir: file open time:  0.00099945068359375\n",
      "load_exdir: file open time:  0.0009953975677490234\n",
      "reference: channel_amplitudes : 4451\n",
      "reference: Rabi_rect : 4452\n",
      "Inserting references: {'channel_amplitudes': 4451, 'Rabi_rect': 4452}\n",
      "c:\\data\\2019-07-08\\004451-channel_amplitudes-1906-001_1_down\n",
      "load_exdir: file open time:  0.0019958019256591797\n",
      "load_exdir: file open time:  0.0019812583923339844\n",
      "load_exdir: file open time:  0.0019981861114501953\n",
      "c:\\data\\2019-07-08\\004449-fit_dataset_1d-1906-001_1_down\n",
      "load_exdir: file open time:  0.0020012855529785156\n"
     ]
    },
    {
     "name": "stderr",
     "output_type": "stream",
     "text": [
      "Traceback (most recent call last):\n",
      "  File \"C:\\qtlab_replacement\\qsweepy\\qubit_calibrations\\excitation_pulse.py\", line 34, in __init__\n",
      "    measurement = self.device.exdir_db.select_measurement(measurement_type='qubit_excitation_pulse', metadata=metadata, references_that=references)\n",
      "  File \"C:\\qtlab_replacement\\qsweepy\\exdir_db.py\", line 48, in select_measurement\n",
      "    return save_exdir.load_exdir(list(measurement_db_list.order_by(lambda d: desc(d.id)).limit(1))[0].filename, db=self.db)\n",
      "IndexError: list index out of range\n"
     ]
    },
    {
     "name": "stdout",
     "output_type": "stream",
     "text": [
      "c:\\data\\2019-07-08\\004448-Rabi_rect-1906-001_1_down\n",
      "load_exdir: file open time:  0.001997709274291992\n",
      "load_exdir: file open time:  0.0009949207305908203\n",
      "reference: channel_amplitudes : 4445\n",
      "reference: Rabi_rect : 4448\n",
      "load_exdir: file open time:  0.0009968280792236328\n",
      "c:\\data\\2019-07-08\\004445-channel_amplitudes-1906-001_1_down\n",
      "load_exdir: file open time:  0.0009725093841552734\n",
      "load_exdir: file open time:  0.001997709274291992\n",
      "load_exdir: file open time:  0.00099945068359375\n",
      "c:\\data\\2019-07-08\\004449-fit_dataset_1d-1906-001_1_down\n",
      "load_exdir: file open time:  0.0019981861114501953\n",
      "c:\\data\\2019-07-08\\004448-Rabi_rect-1906-001_1_down\n",
      "load_exdir: file open time:  0.002000570297241211\n",
      "load_exdir: file open time:  0.0009987354278564453\n",
      "reference: channel_amplitudes : 4445\n",
      "reference: Rabi_rect : 4448\n",
      "load_exdir: file open time:  0.0009996891021728516\n",
      "c:\\data\\2019-07-08\\004445-channel_amplitudes-1906-001_1_down\n",
      "load_exdir: file open time:  0.0019910335540771484\n",
      "Inserting references: {'ex_pulse1': 4450, 'ex_pulse2': 4450, 'readout_calibration': 4407}\n",
      "Inserting references: {'fit_source': 4455}\n"
     ]
    },
    {
     "name": "stderr",
     "output_type": "stream",
     "text": [
      "Traceback (most recent call last):\n",
      "  File \"C:\\qtlab_replacement\\qsweepy\\fitters\\exp_sin.py\", line 23, in exp_sin_fit\n",
      "    raise ValueError\n",
      "ValueError\n",
      "Traceback (most recent call last):\n",
      "  File \"C:\\qtlab_replacement\\qsweepy\\fitters\\exp_sin.py\", line 23, in exp_sin_fit\n",
      "    raise ValueError\n",
      "ValueError\n",
      "Traceback (most recent call last):\n",
      "  File \"C:\\qtlab_replacement\\qsweepy\\fitters\\exp_sin.py\", line 23, in exp_sin_fit\n",
      "    raise ValueError\n",
      "ValueError\n",
      "Traceback (most recent call last):\n",
      "  File \"C:\\qtlab_replacement\\qsweepy\\fitters\\exp_sin.py\", line 23, in exp_sin_fit\n",
      "    raise ValueError\n",
      "ValueError\n",
      "Traceback (most recent call last):\n",
      "  File \"C:\\qtlab_replacement\\qsweepy\\fitters\\exp_sin.py\", line 23, in exp_sin_fit\n",
      "    raise ValueError\n",
      "ValueError\n"
     ]
    },
    {
     "name": "stdout",
     "output_type": "stream",
     "text": [
      "Waiting to join deferred threads:\n",
      "load_exdir: file open time:  0.0\n",
      "load_exdir: file open time:  0.0\n",
      "load_exdir: file open time:  0.0\n",
      "load time:  0.03000044822692871\n",
      "pre_trace_time:  0.0\n",
      "trace 0 time:  0.009979724884033203\n",
      "trace 1 time:  0.019997835159301758\n",
      "trace 2 time:  0.02999734878540039\n",
      "trace 3 time:  0.03999781608581543\n",
      "load_exdir: file open time:  0.0\n",
      "load_exdir: file open time:  0.0\n",
      "load_exdir: file open time:  0.0\n",
      "load time:  0.030018329620361328\n",
      "pre_trace_time:  0.0\n",
      "trace 0 time:  0.01999640464782715\n",
      "trace 1 time:  0.029992341995239258\n",
      "trace 2 time:  0.0399932861328125\n",
      "trace 3 time:  0.0399932861328125\n"
     ]
    }
   ],
   "source": [
    "Ramsey.calibrate_all_T2(device)\n",
    "#Ramsey.Ramsey_adaptive(device, '1', set_frequency=True)\n",
    "#Ramsey.Ramsey_adaptive(device, '3', set_frequency=True)"
   ]
  },
  {
   "cell_type": "markdown",
   "metadata": {},
   "source": [
    "## Cross-channel Ramsey"
   ]
  },
  {
   "cell_type": "code",
   "execution_count": 53,
   "metadata": {
    "ExecuteTime": {
     "end_time": "2019-07-08T06:18:26.423023Z",
     "start_time": "2019-07-08T05:28:24.571968Z"
    },
    "scrolled": true
   },
   "outputs": [
    {
     "name": "stdout",
     "output_type": "stream",
     "text": [
      "load_exdir: file open time:  0.0\n",
      "load_exdir: file open time:  0.0\n",
      "load_exdir: file open time:  0.0\n",
      "load_exdir: file open time:  0.009998559951782227\n",
      "load_exdir: file open time:  0.0\n",
      "load_exdir: file open time:  0.0\n",
      "load_exdir: file open time:  0.0\n",
      "load_exdir: file open time:  0.0\n",
      "reference: ('channel_calibration', 'iq_ex1_q1') : 4436\n",
      "Inserting references: {('channel_calibration', 'iq_ex1_q1'): 4436}\n",
      "load_exdir: file open time:  0.0\n",
      "load_exdir: file open time:  0.0\n",
      "load_exdir: file open time:  0.0\n",
      "load_exdir: file open time:  0.0\n",
      "load_exdir: file open time:  0.0\n",
      "load_exdir: file open time:  0.0\n",
      "0 1.0000000000000001e-07 1e-09\n",
      "load_exdir: file open time:  0.0\n",
      "load_exdir: file open time:  0.0\n",
      "reference: channel_calibration : 4380\n",
      "load_exdir: file open time:  0.0\n",
      "reference: passthrough_measurement : 4394\n",
      "load_exdir: file open time:  0.0\n",
      "load_exdir: file open time:  0.0\n",
      "reference: readout_pulse : 4395\n",
      "reference: modem_calibration : 4388\n",
      "load_exdir: file open time:  0.0\n",
      "load_exdir: file open time:  0.0\n",
      "Inserting references: {'channel_amplitudes': 4457, 'readout_calibration': 4398}\n",
      "Inserting references: {'fit_source': 4458}\n"
     ]
    },
    {
     "name": "stderr",
     "output_type": "stream",
     "text": [
      "Traceback (most recent call last):\n",
      "  File \"C:\\qtlab_replacement\\qsweepy\\fitters\\exp_sin.py\", line 23, in exp_sin_fit\n",
      "    raise ValueError\n",
      "ValueError\n",
      "C:\\qtlab_replacement\\qsweepy\\instrument_drivers\\Tektronix_AWG5014.py:651: ComplexWarning:\n",
      "\n",
      "Casting complex values to real discards the imaginary part\n",
      "\n",
      "C:\\ProgramData\\Anaconda3\\lib\\site-packages\\pyvisa\\resources\\messagebased.py:573: FutureWarning:\n",
      "\n",
      "ask is deprecated and will be removed in 1.10, use query instead.\n",
      "\n",
      "Traceback (most recent call last):\n",
      "  File \"C:\\qtlab_replacement\\qsweepy\\fitters\\exp_sin.py\", line 23, in exp_sin_fit\n",
      "    raise ValueError\n",
      "ValueError\n",
      "Traceback (most recent call last):\n",
      "  File \"C:\\qtlab_replacement\\qsweepy\\fitters\\exp_sin.py\", line 23, in exp_sin_fit\n",
      "    raise ValueError\n",
      "ValueError\n",
      "Traceback (most recent call last):\n",
      "  File \"C:\\qtlab_replacement\\qsweepy\\fitters\\exp_sin.py\", line 23, in exp_sin_fit\n",
      "    raise ValueError\n",
      "ValueError\n",
      "Traceback (most recent call last):\n",
      "  File \"C:\\qtlab_replacement\\qsweepy\\fitters\\exp_sin.py\", line 23, in exp_sin_fit\n",
      "    raise ValueError\n",
      "ValueError\n",
      "C:\\ProgramData\\Anaconda3\\lib\\site-packages\\scipy\\optimize\\minpack.py:436: RuntimeWarning:\n",
      "\n",
      "Number of calls to function has reached maxfev = 200.\n",
      "\n",
      "C:\\qtlab_replacement\\qsweepy\\fitters\\exp_sin.py:70: RuntimeWarning:\n",
      "\n",
      "overflow encountered in square\n",
      "\n"
     ]
    },
    {
     "name": "stdout",
     "output_type": "stream",
     "text": [
      "Waiting to join deferred threads:\n",
      "load_exdir: file open time:  0.0\n",
      "load_exdir: file open time:  0.0\n",
      "load_exdir: file open time:  0.0\n",
      "load time:  0.02998042106628418\n",
      "pre_trace_time:  0.0\n",
      "trace 0 time:  0.009996891021728516\n",
      "trace 1 time:  0.020002126693725586\n",
      "trace 2 time:  0.029993295669555664\n",
      "trace 3 time:  0.04997396469116211\n"
     ]
    },
    {
     "name": "stderr",
     "output_type": "stream",
     "text": [
      "C:\\ProgramData\\Anaconda3\\lib\\site-packages\\numpy\\core\\memmap.py:335: FutureWarning:\n",
      "\n",
      "Using a non-tuple sequence for multidimensional indexing is deprecated; use `arr[tuple(seq)]` instead of `arr[seq]`. In the future this will be interpreted as an array index, `arr[np.array(seq)]`, which will result either in an error or a different result.\n",
      "\n"
     ]
    },
    {
     "name": "stdout",
     "output_type": "stream",
     "text": [
      "load_exdir: file open time:  0.0\n",
      "load_exdir: file open time:  0.00999903678894043\n",
      "load_exdir: file open time:  0.0\n",
      "load time:  0.02999734878540039\n",
      "pre_trace_time:  0.0\n",
      "trace 0 time:  0.009999275207519531\n",
      "trace 1 time:  0.01999807357788086\n",
      "trace 2 time:  0.03999614715576172\n",
      "trace 3 time:  0.04999542236328125\n",
      "load_exdir: file open time:  0.009997844696044922\n",
      "load_exdir: file open time:  0.0\n",
      "c:\\data\\2019-07-08\\004459-fit_dataset_1d-1906-001_1_down\n",
      "load_exdir: file open time:  0.0\n",
      "c:\\data\\2019-07-08\\004458-Rabi_rect-1906-001_1_down\n",
      "load_exdir: file open time:  0.0\n",
      "load_exdir: file open time:  0.0\n",
      "reference: channel_amplitudes : 4457\n",
      "reference: Rabi_rect : 4458\n",
      "Inserting references: {'channel_amplitudes': 4457, 'Rabi_rect': 4458}\n",
      "c:\\data\\2019-07-08\\004457-channel_amplitudes-1906-001_1_down\n",
      "load_exdir: file open time:  0.0099945068359375\n",
      "load_exdir: file open time:  0.0\n",
      "load_exdir: file open time:  0.0\n",
      "reference: ('channel_calibration', 'iq_ex1_q1') : 4436\n",
      "load_exdir: file open time:  0.0\n",
      "load_exdir: file open time:  0.0\n",
      "load_exdir: file open time:  0.0\n",
      "c:\\data\\2019-07-08\\004459-fit_dataset_1d-1906-001_1_down\n",
      "load_exdir: file open time:  0.0\n"
     ]
    },
    {
     "name": "stderr",
     "output_type": "stream",
     "text": [
      "Traceback (most recent call last):\n",
      "  File \"C:\\qtlab_replacement\\qsweepy\\qubit_calibrations\\excitation_pulse.py\", line 34, in __init__\n",
      "    measurement = self.device.exdir_db.select_measurement(measurement_type='qubit_excitation_pulse', metadata=metadata, references_that=references)\n",
      "  File \"C:\\qtlab_replacement\\qsweepy\\exdir_db.py\", line 48, in select_measurement\n",
      "    return save_exdir.load_exdir(list(measurement_db_list.order_by(lambda d: desc(d.id)).limit(1))[0].filename, db=self.db)\n",
      "IndexError: list index out of range\n"
     ]
    },
    {
     "name": "stdout",
     "output_type": "stream",
     "text": [
      "c:\\data\\2019-07-08\\004458-Rabi_rect-1906-001_1_down\n",
      "load_exdir: file open time:  0.0\n",
      "load_exdir: file open time:  0.0\n",
      "reference: channel_amplitudes : 4457\n",
      "reference: Rabi_rect : 4458\n",
      "load_exdir: file open time:  0.009999275207519531\n",
      "c:\\data\\2019-07-08\\004457-channel_amplitudes-1906-001_1_down\n",
      "load_exdir: file open time:  0.0\n",
      "reference: ex_pulse1 : 4460\n",
      "reference: ex_pulse2 : 4460\n",
      "load_exdir: file open time:  0.0\n",
      "load_exdir: file open time:  0.0\n",
      "reference: channel_calibration : 4380\n",
      "load_exdir: file open time:  0.0\n",
      "reference: passthrough_measurement : 4394\n",
      "load_exdir: file open time:  0.009994745254516602\n",
      "load_exdir: file open time:  0.0\n",
      "reference: readout_pulse : 4395\n",
      "reference: modem_calibration : 4388\n",
      "load_exdir: file open time:  0.0\n",
      "load_exdir: file open time:  0.0\n",
      "load_exdir: file open time:  0.0\n",
      "load_exdir: file open time:  0.0\n",
      "c:\\data\\2019-07-08\\004459-fit_dataset_1d-1906-001_1_down\n",
      "load_exdir: file open time:  0.0\n",
      "c:\\data\\2019-07-08\\004458-Rabi_rect-1906-001_1_down\n",
      "load_exdir: file open time:  0.0\n",
      "load_exdir: file open time:  0.0\n",
      "reference: channel_amplitudes : 4457\n",
      "reference: Rabi_rect : 4458\n",
      "load_exdir: file open time:  0.009999752044677734\n",
      "c:\\data\\2019-07-08\\004457-channel_amplitudes-1906-001_1_down\n",
      "load_exdir: file open time:  0.0\n",
      "load_exdir: file open time:  0.0\n",
      "load_exdir: file open time:  0.0\n",
      "c:\\data\\2019-07-08\\004459-fit_dataset_1d-1906-001_1_down\n",
      "load_exdir: file open time:  0.0\n",
      "c:\\data\\2019-07-08\\004458-Rabi_rect-1906-001_1_down\n",
      "load_exdir: file open time:  0.0\n",
      "load_exdir: file open time:  0.0\n",
      "reference: channel_amplitudes : 4457\n",
      "reference: Rabi_rect : 4458\n",
      "load_exdir: file open time:  0.0\n",
      "c:\\data\\2019-07-08\\004457-channel_amplitudes-1906-001_1_down\n",
      "load_exdir: file open time:  0.0\n",
      "Inserting references: {'ex_pulse1': 4460, 'ex_pulse2': 4460, 'readout_calibration': 4398}\n",
      "Inserting references: {'fit_source': 4461}\n"
     ]
    },
    {
     "name": "stderr",
     "output_type": "stream",
     "text": [
      "Traceback (most recent call last):\n",
      "  File \"C:\\qtlab_replacement\\qsweepy\\fitters\\exp_sin.py\", line 23, in exp_sin_fit\n",
      "    raise ValueError\n",
      "ValueError\n",
      "Traceback (most recent call last):\n",
      "  File \"C:\\qtlab_replacement\\qsweepy\\fitters\\exp_sin.py\", line 23, in exp_sin_fit\n",
      "    raise ValueError\n",
      "ValueError\n",
      "Traceback (most recent call last):\n",
      "  File \"C:\\qtlab_replacement\\qsweepy\\fitters\\exp_sin.py\", line 23, in exp_sin_fit\n",
      "    raise ValueError\n",
      "ValueError\n",
      "Traceback (most recent call last):\n",
      "  File \"C:\\qtlab_replacement\\qsweepy\\fitters\\exp_sin.py\", line 23, in exp_sin_fit\n",
      "    raise ValueError\n",
      "ValueError\n",
      "Traceback (most recent call last):\n",
      "  File \"C:\\qtlab_replacement\\qsweepy\\fitters\\exp_sin.py\", line 23, in exp_sin_fit\n",
      "    raise ValueError\n",
      "ValueError\n"
     ]
    },
    {
     "name": "stdout",
     "output_type": "stream",
     "text": [
      "Waiting to join deferred threads:\n",
      "load_exdir: file open time:  0.001994609832763672\n",
      "load_exdir: file open time:  0.0009996891021728516\n",
      "load_exdir: file open time:  0.000993490219116211\n",
      "load time:  0.03498363494873047\n",
      "pre_trace_time:  0.0\n",
      "trace 0 time:  0.012969493865966797\n",
      "trace 1 time:  0.023964405059814453\n",
      "trace 2 time:  0.03396010398864746\n",
      "trace 3 time:  0.044954538345336914\n",
      "load_exdir: file open time:  0.0009944438934326172\n",
      "load_exdir: file open time:  0.0020160675048828125\n",
      "load_exdir: file open time:  0.0010006427764892578\n",
      "load time:  0.034984588623046875\n",
      "pre_trace_time:  0.0010025501251220703\n",
      "trace 0 time:  0.013987541198730469\n",
      "trace 1 time:  0.024982929229736328\n",
      "trace 2 time:  0.035980939865112305\n",
      "trace 3 time:  0.045970916748046875\n",
      "load_exdir: file open time:  0.0019998550415039062\n",
      "reference: ('channel_calibration', 'iq_ex3_q1') : 4437\n",
      "Inserting references: {('channel_calibration', 'iq_ex3_q1'): 4437}\n",
      "load_exdir: file open time:  0.0009953975677490234\n",
      "load_exdir: file open time:  0.0019965171813964844\n",
      "load_exdir: file open time:  0.0009996891021728516\n",
      "load_exdir: file open time:  0.0009951591491699219\n",
      "load_exdir: file open time:  0.0009992122650146484\n",
      "load_exdir: file open time:  0.0010001659393310547\n",
      "0 1.0000000000000001e-07 1e-09\n",
      "load_exdir: file open time:  0.0019762516021728516\n",
      "load_exdir: file open time:  0.0009758472442626953\n",
      "reference: channel_calibration : 4380\n",
      "load_exdir: file open time:  0.0019941329956054688\n",
      "reference: passthrough_measurement : 4394\n",
      "load_exdir: file open time:  0.0019991397857666016\n",
      "load_exdir: file open time:  0.0019888877868652344\n",
      "reference: readout_pulse : 4395\n",
      "reference: modem_calibration : 4388\n",
      "load_exdir: file open time:  0.0019986629486083984\n",
      "load_exdir: file open time:  0.0009984970092773438\n",
      "Inserting references: {'channel_amplitudes': 4463, 'readout_calibration': 4398}\n",
      "Inserting references: {'fit_source': 4464}\n"
     ]
    },
    {
     "name": "stderr",
     "output_type": "stream",
     "text": [
      "Traceback (most recent call last):\n",
      "  File \"C:\\qtlab_replacement\\qsweepy\\fitters\\exp_sin.py\", line 23, in exp_sin_fit\n",
      "    raise ValueError\n",
      "ValueError\n",
      "Traceback (most recent call last):\n",
      "  File \"C:\\qtlab_replacement\\qsweepy\\fitters\\exp_sin.py\", line 23, in exp_sin_fit\n",
      "    raise ValueError\n",
      "ValueError\n",
      "Traceback (most recent call last):\n",
      "  File \"C:\\qtlab_replacement\\qsweepy\\fitters\\exp_sin.py\", line 23, in exp_sin_fit\n",
      "    raise ValueError\n",
      "ValueError\n",
      "Traceback (most recent call last):\n",
      "  File \"C:\\qtlab_replacement\\qsweepy\\fitters\\exp_sin.py\", line 23, in exp_sin_fit\n",
      "    raise ValueError\n",
      "ValueError\n",
      "Traceback (most recent call last):\n",
      "  File \"C:\\qtlab_replacement\\qsweepy\\fitters\\exp_sin.py\", line 23, in exp_sin_fit\n",
      "    raise ValueError\n",
      "ValueError\n"
     ]
    },
    {
     "name": "stdout",
     "output_type": "stream",
     "text": [
      "Waiting to join deferred threads:\n",
      "load_exdir: file open time:  0.0\n",
      "load_exdir: file open time:  0.0\n",
      "load_exdir: file open time:  0.0\n",
      "load time:  0.02999711036682129\n",
      "pre_trace_time:  0.0\n",
      "trace 0 time:  0.009999275207519531\n",
      "trace 1 time:  0.019997119903564453\n",
      "trace 2 time:  0.029996156692504883\n",
      "trace 3 time:  0.03999519348144531\n",
      "load_exdir: file open time:  0.009986639022827148\n",
      "load_exdir: file open time:  0.0\n",
      "load_exdir: file open time:  0.0\n",
      "load time:  0.02999567985534668\n",
      "pre_trace_time:  0.010000228881835938\n",
      "trace 0 time:  0.009997844696044922\n",
      "trace 1 time:  0.01999688148498535\n",
      "trace 2 time:  0.029996156692504883\n",
      "trace 3 time:  0.03999519348144531\n",
      "load_exdir: file open time:  0.0009784698486328125\n",
      "load_exdir: file open time:  0.0010199546813964844\n",
      "reference: channel_calibration : 4380\n",
      "load_exdir: file open time:  0.0\n",
      "reference: passthrough_measurement : 4394\n",
      "load_exdir: file open time:  0.009998559951782227\n",
      "load_exdir: file open time:  0.0\n",
      "reference: readout_pulse : 4395\n",
      "reference: modem_calibration : 4388\n",
      "load_exdir: file open time:  0.0\n",
      "load_exdir: file open time:  0.0\n",
      "Inserting references: {'channel_amplitudes': 4463, 'readout_calibration': 4398}\n",
      "Inserting references: {'fit_source': 4466}\n"
     ]
    },
    {
     "name": "stderr",
     "output_type": "stream",
     "text": [
      "Traceback (most recent call last):\n",
      "  File \"C:\\qtlab_replacement\\qsweepy\\fitters\\exp_sin.py\", line 23, in exp_sin_fit\n",
      "    raise ValueError\n",
      "ValueError\n",
      "Traceback (most recent call last):\n",
      "  File \"C:\\qtlab_replacement\\qsweepy\\fitters\\exp_sin.py\", line 23, in exp_sin_fit\n",
      "    raise ValueError\n",
      "ValueError\n",
      "Traceback (most recent call last):\n",
      "  File \"C:\\qtlab_replacement\\qsweepy\\fitters\\exp_sin.py\", line 23, in exp_sin_fit\n",
      "    raise ValueError\n",
      "ValueError\n",
      "Traceback (most recent call last):\n",
      "  File \"C:\\qtlab_replacement\\qsweepy\\fitters\\exp_sin.py\", line 23, in exp_sin_fit\n",
      "    raise ValueError\n",
      "ValueError\n",
      "Traceback (most recent call last):\n",
      "  File \"C:\\qtlab_replacement\\qsweepy\\fitters\\exp_sin.py\", line 23, in exp_sin_fit\n",
      "    raise ValueError\n",
      "ValueError\n"
     ]
    },
    {
     "name": "stdout",
     "output_type": "stream",
     "text": [
      "Waiting to join deferred threads:\n",
      "load_exdir: file open time:  0.0\n",
      "load_exdir: file open time:  0.0\n",
      "load_exdir: file open time:  0.0\n",
      "load time:  0.029997825622558594\n",
      "pre_trace_time:  0.0\n",
      "trace 0 time:  0.00999903678894043\n",
      "trace 1 time:  0.01999831199645996\n",
      "trace 2 time:  0.02999734878540039\n",
      "trace 3 time:  0.03999757766723633\n",
      "load_exdir: file open time:  0.0\n",
      "load_exdir: file open time:  0.0\n",
      "load_exdir: file open time:  0.0\n",
      "load time:  0.02999711036682129\n",
      "pre_trace_time:  0.0\n",
      "trace 0 time:  0.009999513626098633\n",
      "trace 1 time:  0.01999831199645996\n",
      "trace 2 time:  0.02999734878540039\n",
      "trace 3 time:  0.03999662399291992\n",
      "load_exdir: file open time:  0.0\n",
      "load_exdir: file open time:  0.0\n",
      "c:\\data\\2019-07-08\\004467-fit_dataset_1d-1906-001_1_down\n",
      "load_exdir: file open time:  0.0\n",
      "c:\\data\\2019-07-08\\004466-Rabi_rect-1906-001_1_down\n",
      "load_exdir: file open time:  0.0\n",
      "load_exdir: file open time:  0.0\n",
      "reference: channel_amplitudes : 4463\n",
      "reference: Rabi_rect : 4466\n",
      "Inserting references: {'channel_amplitudes': 4463, 'Rabi_rect': 4466}\n",
      "c:\\data\\2019-07-08\\004463-channel_amplitudes-1906-001_1_down\n",
      "load_exdir: file open time:  0.0\n",
      "reference: ex_pulse1 : 4460\n",
      "reference: ex_pulse2 : 4468\n",
      "load_exdir: file open time:  0.0\n",
      "load_exdir: file open time:  0.0\n",
      "reference: channel_calibration : 4380\n",
      "load_exdir: file open time:  0.0\n"
     ]
    },
    {
     "name": "stderr",
     "output_type": "stream",
     "text": [
      "Traceback (most recent call last):\n",
      "  File \"C:\\qtlab_replacement\\qsweepy\\qubit_calibrations\\excitation_pulse.py\", line 34, in __init__\n",
      "    measurement = self.device.exdir_db.select_measurement(measurement_type='qubit_excitation_pulse', metadata=metadata, references_that=references)\n",
      "  File \"C:\\qtlab_replacement\\qsweepy\\exdir_db.py\", line 48, in select_measurement\n",
      "    return save_exdir.load_exdir(list(measurement_db_list.order_by(lambda d: desc(d.id)).limit(1))[0].filename, db=self.db)\n",
      "IndexError: list index out of range\n"
     ]
    },
    {
     "name": "stdout",
     "output_type": "stream",
     "text": [
      "reference: passthrough_measurement : 4394\n",
      "load_exdir: file open time:  0.0\n",
      "load_exdir: file open time:  0.0\n",
      "reference: readout_pulse : 4395\n",
      "reference: modem_calibration : 4388\n",
      "load_exdir: file open time:  0.009998083114624023\n",
      "load_exdir: file open time:  0.0\n",
      "load_exdir: file open time:  0.0\n",
      "load_exdir: file open time:  0.0\n",
      "c:\\data\\2019-07-08\\004459-fit_dataset_1d-1906-001_1_down\n",
      "load_exdir: file open time:  0.0\n",
      "c:\\data\\2019-07-08\\004458-Rabi_rect-1906-001_1_down\n",
      "load_exdir: file open time:  0.0\n",
      "load_exdir: file open time:  0.0\n",
      "reference: channel_amplitudes : 4457\n",
      "reference: Rabi_rect : 4458\n",
      "load_exdir: file open time:  0.0\n",
      "c:\\data\\2019-07-08\\004457-channel_amplitudes-1906-001_1_down\n",
      "load_exdir: file open time:  0.0\n",
      "load_exdir: file open time:  0.0\n",
      "load_exdir: file open time:  0.0\n",
      "c:\\data\\2019-07-08\\004467-fit_dataset_1d-1906-001_1_down\n",
      "load_exdir: file open time:  0.0\n",
      "c:\\data\\2019-07-08\\004466-Rabi_rect-1906-001_1_down\n",
      "load_exdir: file open time:  0.00998234748840332\n",
      "load_exdir: file open time:  0.0\n",
      "reference: channel_amplitudes : 4463\n",
      "reference: Rabi_rect : 4466\n",
      "load_exdir: file open time:  0.0\n",
      "c:\\data\\2019-07-08\\004463-channel_amplitudes-1906-001_1_down\n",
      "load_exdir: file open time:  0.009998083114624023\n",
      "Inserting references: {'ex_pulse1': 4460, 'ex_pulse2': 4468, 'readout_calibration': 4398}\n",
      "Inserting references: {'fit_source': 4469}\n"
     ]
    },
    {
     "name": "stderr",
     "output_type": "stream",
     "text": [
      "Traceback (most recent call last):\n",
      "  File \"C:\\qtlab_replacement\\qsweepy\\fitters\\exp_sin.py\", line 23, in exp_sin_fit\n",
      "    raise ValueError\n",
      "ValueError\n",
      "Traceback (most recent call last):\n",
      "  File \"C:\\qtlab_replacement\\qsweepy\\fitters\\exp_sin.py\", line 23, in exp_sin_fit\n",
      "    raise ValueError\n",
      "ValueError\n",
      "Traceback (most recent call last):\n",
      "  File \"C:\\qtlab_replacement\\qsweepy\\fitters\\exp_sin.py\", line 23, in exp_sin_fit\n",
      "    raise ValueError\n",
      "ValueError\n",
      "Traceback (most recent call last):\n",
      "  File \"C:\\qtlab_replacement\\qsweepy\\fitters\\exp_sin.py\", line 23, in exp_sin_fit\n",
      "    raise ValueError\n",
      "ValueError\n",
      "Traceback (most recent call last):\n",
      "  File \"C:\\qtlab_replacement\\qsweepy\\fitters\\exp_sin.py\", line 23, in exp_sin_fit\n",
      "    raise ValueError\n",
      "ValueError\n"
     ]
    },
    {
     "name": "stdout",
     "output_type": "stream",
     "text": [
      "Waiting to join deferred threads:\n",
      "load_exdir: file open time:  0.0\n",
      "load_exdir: file open time:  0.009998559951782227\n",
      "load_exdir: file open time:  0.0\n",
      "load time:  0.039995670318603516\n",
      "pre_trace_time:  0.0\n",
      "trace 0 time:  0.00999903678894043\n",
      "trace 1 time:  0.019997596740722656\n",
      "trace 2 time:  0.029996871948242188\n",
      "trace 3 time:  0.03999590873718262\n",
      "load_exdir: file open time:  0.009998559951782227\n",
      "load_exdir: file open time:  0.0\n",
      "load_exdir: file open time:  0.0\n",
      "load time:  0.02999711036682129\n",
      "pre_trace_time:  0.0\n",
      "trace 0 time:  0.00999903678894043\n",
      "trace 1 time:  0.01999831199645996\n",
      "trace 2 time:  0.02999734878540039\n",
      "trace 3 time:  0.03999638557434082\n",
      "load_exdir: file open time:  0.0\n",
      "reference: ('channel_calibration', 'iq_ex3_q1') : 4437\n",
      "load_exdir: file open time:  0.0\n",
      "load_exdir: file open time:  0.0\n",
      "load_exdir: file open time:  0.009999752044677734\n",
      "c:\\data\\2019-07-08\\004467-fit_dataset_1d-1906-001_1_down\n",
      "load_exdir: file open time:  0.0\n",
      "c:\\data\\2019-07-08\\004466-Rabi_rect-1906-001_1_down\n",
      "load_exdir: file open time:  0.00999903678894043\n",
      "load_exdir: file open time:  0.009999275207519531\n",
      "reference: channel_amplitudes : 4463\n",
      "reference: Rabi_rect : 4466\n",
      "load_exdir: file open time:  0.0\n",
      "c:\\data\\2019-07-08\\004463-channel_amplitudes-1906-001_1_down\n",
      "load_exdir: file open time:  0.0\n",
      "load_exdir: file open time:  0.0\n",
      "load_exdir: file open time:  0.0\n",
      "reference: ('channel_calibration', 'iq_ex1_q1') : 4436\n",
      "load_exdir: file open time:  0.0\n",
      "load_exdir: file open time:  0.0\n",
      "load_exdir: file open time:  0.0\n",
      "c:\\data\\2019-07-08\\004459-fit_dataset_1d-1906-001_1_down\n",
      "load_exdir: file open time:  0.00999903678894043\n",
      "c:\\data\\2019-07-08\\004458-Rabi_rect-1906-001_1_down\n",
      "load_exdir: file open time:  0.0\n",
      "load_exdir: file open time:  0.00999903678894043\n",
      "reference: channel_amplitudes : 4457\n",
      "reference: Rabi_rect : 4458\n",
      "load_exdir: file open time:  0.0\n",
      "c:\\data\\2019-07-08\\004457-channel_amplitudes-1906-001_1_down\n",
      "load_exdir: file open time:  0.0\n",
      "reference: ex_pulse1 : 4468\n",
      "reference: ex_pulse2 : 4460\n",
      "load_exdir: file open time:  0.0\n",
      "load_exdir: file open time:  0.0\n",
      "reference: channel_calibration : 4380\n",
      "load_exdir: file open time:  0.0\n",
      "reference: passthrough_measurement : 4394\n",
      "load_exdir: file open time:  0.0\n",
      "load_exdir: file open time:  0.0\n",
      "reference: readout_pulse : 4395\n",
      "reference: modem_calibration : 4388\n",
      "load_exdir: file open time:  0.0\n",
      "load_exdir: file open time:  0.0\n",
      "load_exdir: file open time:  0.0\n",
      "load_exdir: file open time:  0.0\n",
      "c:\\data\\2019-07-08\\004467-fit_dataset_1d-1906-001_1_down\n",
      "load_exdir: file open time:  0.0\n",
      "c:\\data\\2019-07-08\\004466-Rabi_rect-1906-001_1_down\n",
      "load_exdir: file open time:  0.00999903678894043\n",
      "load_exdir: file open time:  0.0\n",
      "reference: channel_amplitudes : 4463\n",
      "reference: Rabi_rect : 4466\n",
      "load_exdir: file open time:  0.009997844696044922\n",
      "c:\\data\\2019-07-08\\004463-channel_amplitudes-1906-001_1_down\n",
      "load_exdir: file open time:  0.0\n",
      "load_exdir: file open time:  0.0\n",
      "load_exdir: file open time:  0.0\n",
      "c:\\data\\2019-07-08\\004459-fit_dataset_1d-1906-001_1_down\n",
      "load_exdir: file open time:  0.0\n",
      "c:\\data\\2019-07-08\\004458-Rabi_rect-1906-001_1_down\n",
      "load_exdir: file open time:  0.0\n",
      "load_exdir: file open time:  0.0\n",
      "reference: channel_amplitudes : 4457\n",
      "reference: Rabi_rect : 4458\n",
      "load_exdir: file open time:  0.0\n",
      "c:\\data\\2019-07-08\\004457-channel_amplitudes-1906-001_1_down\n",
      "load_exdir: file open time:  0.0\n",
      "Inserting references: {'ex_pulse1': 4468, 'ex_pulse2': 4460, 'readout_calibration': 4398}\n",
      "Inserting references: {'fit_source': 4471}\n"
     ]
    },
    {
     "name": "stderr",
     "output_type": "stream",
     "text": [
      "Traceback (most recent call last):\n",
      "  File \"C:\\qtlab_replacement\\qsweepy\\fitters\\exp_sin.py\", line 23, in exp_sin_fit\n",
      "    raise ValueError\n",
      "ValueError\n",
      "Traceback (most recent call last):\n",
      "  File \"C:\\qtlab_replacement\\qsweepy\\fitters\\exp_sin.py\", line 23, in exp_sin_fit\n",
      "    raise ValueError\n",
      "ValueError\n",
      "Traceback (most recent call last):\n",
      "  File \"C:\\qtlab_replacement\\qsweepy\\fitters\\exp_sin.py\", line 23, in exp_sin_fit\n",
      "    raise ValueError\n",
      "ValueError\n",
      "Traceback (most recent call last):\n",
      "  File \"C:\\qtlab_replacement\\qsweepy\\fitters\\exp_sin.py\", line 23, in exp_sin_fit\n",
      "    raise ValueError\n",
      "ValueError\n",
      "Traceback (most recent call last):\n",
      "  File \"C:\\qtlab_replacement\\qsweepy\\fitters\\exp_sin.py\", line 23, in exp_sin_fit\n",
      "    raise ValueError\n",
      "ValueError\n"
     ]
    },
    {
     "name": "stdout",
     "output_type": "stream",
     "text": [
      "Waiting to join deferred threads:\n",
      "load_exdir: file open time:  0.00999903678894043\n",
      "load_exdir: file open time:  0.0\n",
      "load_exdir: file open time:  0.0\n",
      "load time:  0.01999831199645996\n",
      "pre_trace_time:  0.00999903678894043\n",
      "trace 0 time:  0.00999903678894043\n",
      "trace 1 time:  0.01999831199645996\n",
      "trace 2 time:  0.02999734878540039\n",
      "trace 3 time:  0.03999614715576172\n",
      "load_exdir: file open time:  0.0\n",
      "load_exdir: file open time:  0.0\n",
      "load_exdir: file open time:  0.0\n",
      "load time:  0.029997587203979492\n",
      "pre_trace_time:  0.0\n",
      "trace 0 time:  0.009998798370361328\n",
      "trace 1 time:  0.01999831199645996\n",
      "trace 2 time:  0.029996871948242188\n",
      "trace 3 time:  0.03999590873718262\n",
      "load_exdir: file open time:  0.0\n",
      "reference: ('channel_calibration', 'iq_ex3_q1') : 4437\n",
      "load_exdir: file open time:  0.010001897811889648\n",
      "load_exdir: file open time:  0.0\n",
      "load_exdir: file open time:  0.0\n",
      "c:\\data\\2019-07-08\\004467-fit_dataset_1d-1906-001_1_down\n",
      "load_exdir: file open time:  0.0\n",
      "c:\\data\\2019-07-08\\004466-Rabi_rect-1906-001_1_down\n",
      "load_exdir: file open time:  0.009976863861083984\n",
      "load_exdir: file open time:  0.0\n",
      "reference: channel_amplitudes : 4463\n",
      "reference: Rabi_rect : 4466\n",
      "load_exdir: file open time:  0.0\n",
      "c:\\data\\2019-07-08\\004463-channel_amplitudes-1906-001_1_down\n",
      "load_exdir: file open time:  0.0\n",
      "reference: ex_pulse1 : 4468\n",
      "reference: ex_pulse2 : 4468\n",
      "load_exdir: file open time:  0.0\n",
      "load_exdir: file open time:  0.0\n",
      "reference: channel_calibration : 4380\n",
      "load_exdir: file open time:  0.0\n",
      "reference: passthrough_measurement : 4394\n",
      "load_exdir: file open time:  0.0\n",
      "load_exdir: file open time:  0.0\n",
      "reference: readout_pulse : 4395\n",
      "reference: modem_calibration : 4388\n",
      "load_exdir: file open time:  0.0\n",
      "load_exdir: file open time:  0.0\n",
      "load_exdir: file open time:  0.0\n",
      "load_exdir: file open time:  0.0\n",
      "c:\\data\\2019-07-08\\004467-fit_dataset_1d-1906-001_1_down\n",
      "load_exdir: file open time:  0.010000467300415039\n",
      "c:\\data\\2019-07-08\\004466-Rabi_rect-1906-001_1_down\n",
      "load_exdir: file open time:  0.0\n",
      "load_exdir: file open time:  0.0\n",
      "reference: channel_amplitudes : 4463\n",
      "reference: Rabi_rect : 4466\n",
      "load_exdir: file open time:  0.009977340698242188\n",
      "c:\\data\\2019-07-08\\004463-channel_amplitudes-1906-001_1_down\n",
      "load_exdir: file open time:  0.0\n",
      "load_exdir: file open time:  0.0\n",
      "load_exdir: file open time:  0.0\n",
      "c:\\data\\2019-07-08\\004467-fit_dataset_1d-1906-001_1_down\n",
      "load_exdir: file open time:  0.0\n",
      "c:\\data\\2019-07-08\\004466-Rabi_rect-1906-001_1_down\n",
      "load_exdir: file open time:  0.0\n",
      "load_exdir: file open time:  0.0\n",
      "reference: channel_amplitudes : 4463\n",
      "reference: Rabi_rect : 4466\n",
      "load_exdir: file open time:  0.0\n",
      "c:\\data\\2019-07-08\\004463-channel_amplitudes-1906-001_1_down\n",
      "load_exdir: file open time:  0.009999275207519531\n",
      "Inserting references: {'ex_pulse1': 4468, 'ex_pulse2': 4468, 'readout_calibration': 4398}\n",
      "Inserting references: {'fit_source': 4473}\n"
     ]
    },
    {
     "name": "stderr",
     "output_type": "stream",
     "text": [
      "Traceback (most recent call last):\n",
      "  File \"C:\\qtlab_replacement\\qsweepy\\fitters\\exp_sin.py\", line 23, in exp_sin_fit\n",
      "    raise ValueError\n",
      "ValueError\n",
      "Traceback (most recent call last):\n",
      "  File \"C:\\qtlab_replacement\\qsweepy\\fitters\\exp_sin.py\", line 23, in exp_sin_fit\n",
      "    raise ValueError\n",
      "ValueError\n",
      "Traceback (most recent call last):\n",
      "  File \"C:\\qtlab_replacement\\qsweepy\\fitters\\exp_sin.py\", line 23, in exp_sin_fit\n",
      "    raise ValueError\n",
      "ValueError\n",
      "Traceback (most recent call last):\n",
      "  File \"C:\\qtlab_replacement\\qsweepy\\fitters\\exp_sin.py\", line 23, in exp_sin_fit\n",
      "    raise ValueError\n",
      "ValueError\n",
      "Traceback (most recent call last):\n",
      "  File \"C:\\qtlab_replacement\\qsweepy\\fitters\\exp_sin.py\", line 23, in exp_sin_fit\n",
      "    raise ValueError\n",
      "ValueError\n"
     ]
    },
    {
     "name": "stdout",
     "output_type": "stream",
     "text": [
      "Waiting to join deferred threads:\n",
      "load_exdir: file open time:  0.009998559951782227\n",
      "load_exdir: file open time:  0.0\n",
      "load_exdir: file open time:  0.0\n",
      "load time:  0.02999734878540039\n",
      "pre_trace_time:  0.0\n",
      "trace 0 time:  0.00999903678894043\n",
      "trace 1 time:  0.01999831199645996\n",
      "trace 2 time:  0.02999734878540039\n",
      "trace 3 time:  0.03999638557434082\n",
      "load_exdir: file open time:  0.0\n",
      "load_exdir: file open time:  0.0\n",
      "load_exdir: file open time:  0.0\n",
      "load time:  0.02999734878540039\n",
      "pre_trace_time:  0.0\n",
      "trace 0 time:  0.00999903678894043\n",
      "trace 1 time:  0.01999640464782715\n",
      "trace 2 time:  0.029994964599609375\n",
      "trace 3 time:  0.03999495506286621\n",
      "load_exdir: file open time:  0.0\n",
      "load_exdir: file open time:  0.0\n",
      "load_exdir: file open time:  0.0\n",
      "load_exdir: file open time:  0.0\n",
      "load_exdir: file open time:  0.0\n",
      "load_exdir: file open time:  0.0\n",
      "load_exdir: file open time:  0.0\n",
      "reference: ('channel_calibration', 'iq_ex1_q3') : 4443\n",
      "load_exdir: file open time:  0.0\n",
      "load_exdir: file open time:  0.0\n",
      "load_exdir: file open time:  0.0\n",
      "c:\\data\\2019-07-08\\004449-fit_dataset_1d-1906-001_1_down\n",
      "load_exdir: file open time:  0.0\n",
      "c:\\data\\2019-07-08\\004448-Rabi_rect-1906-001_1_down\n",
      "load_exdir: file open time:  0.0\n",
      "load_exdir: file open time:  0.0\n",
      "reference: channel_amplitudes : 4445\n",
      "reference: Rabi_rect : 4448\n",
      "load_exdir: file open time:  0.0\n",
      "c:\\data\\2019-07-08\\004445-channel_amplitudes-1906-001_1_down\n",
      "load_exdir: file open time:  0.0\n",
      "load_exdir: file open time:  0.0\n",
      "load_exdir: file open time:  0.0\n",
      "reference: ('channel_calibration', 'iq_ex1_q3') : 4443\n",
      "load_exdir: file open time:  0.0\n",
      "load_exdir: file open time:  0.009999513626098633\n",
      "load_exdir: file open time:  0.0\n",
      "c:\\data\\2019-07-08\\004449-fit_dataset_1d-1906-001_1_down\n",
      "load_exdir: file open time:  0.0\n",
      "c:\\data\\2019-07-08\\004448-Rabi_rect-1906-001_1_down\n",
      "load_exdir: file open time:  0.0\n",
      "load_exdir: file open time:  0.0\n",
      "reference: channel_amplitudes : 4445\n",
      "reference: Rabi_rect : 4448\n",
      "load_exdir: file open time:  0.0\n",
      "c:\\data\\2019-07-08\\004445-channel_amplitudes-1906-001_1_down\n",
      "load_exdir: file open time:  0.0\n",
      "reference: ex_pulse1 : 4450\n",
      "reference: ex_pulse2 : 4450\n",
      "c:\\data\\2019-07-08\\004456-fit_dataset_1d-1906-001_1_down\n",
      "load_exdir: file open time:  0.0\n",
      "load_exdir: file open time:  0.0\n",
      "reference: ('channel_calibration', 'iq_ex3_q3') : 4444\n",
      "load_exdir: file open time:  0.0\n",
      "load_exdir: file open time:  0.0\n",
      "load_exdir: file open time:  0.009999513626098633\n",
      "c:\\data\\2019-07-08\\004453-fit_dataset_1d-1906-001_1_down\n",
      "load_exdir: file open time:  0.0\n",
      "c:\\data\\2019-07-08\\004452-Rabi_rect-1906-001_1_down\n",
      "load_exdir: file open time:  0.0\n",
      "load_exdir: file open time:  0.0\n",
      "reference: channel_amplitudes : 4451\n",
      "reference: Rabi_rect : 4452\n",
      "load_exdir: file open time:  0.0\n",
      "c:\\data\\2019-07-08\\004451-channel_amplitudes-1906-001_1_down\n",
      "load_exdir: file open time:  0.0\n",
      "reference: ex_pulse1 : 4450\n",
      "reference: ex_pulse2 : 4454\n",
      "load_exdir: file open time:  0.0\n",
      "load_exdir: file open time:  0.0\n",
      "reference: channel_calibration : 4381\n",
      "load_exdir: file open time:  0.0\n",
      "reference: passthrough_measurement : 4396\n",
      "load_exdir: file open time:  0.0\n",
      "load_exdir: file open time:  0.0\n",
      "reference: readout_pulse : 4397\n",
      "reference: modem_calibration : 4389\n",
      "load_exdir: file open time:  0.00999903678894043\n",
      "load_exdir: file open time:  0.0\n",
      "load_exdir: file open time:  0.0\n",
      "load_exdir: file open time:  0.0\n",
      "c:\\data\\2019-07-08\\004449-fit_dataset_1d-1906-001_1_down\n",
      "load_exdir: file open time:  0.009982585906982422\n",
      "c:\\data\\2019-07-08\\004448-Rabi_rect-1906-001_1_down\n",
      "load_exdir: file open time:  0.0\n",
      "load_exdir: file open time:  0.009999752044677734\n",
      "reference: channel_amplitudes : 4445\n",
      "reference: Rabi_rect : 4448\n",
      "load_exdir: file open time:  0.0\n",
      "c:\\data\\2019-07-08\\004445-channel_amplitudes-1906-001_1_down\n",
      "load_exdir: file open time:  0.0\n",
      "load_exdir: file open time:  0.0\n",
      "load_exdir: file open time:  0.0\n",
      "c:\\data\\2019-07-08\\004453-fit_dataset_1d-1906-001_1_down\n",
      "load_exdir: file open time:  0.0\n",
      "c:\\data\\2019-07-08\\004452-Rabi_rect-1906-001_1_down\n",
      "load_exdir: file open time:  0.009979248046875\n",
      "load_exdir: file open time:  0.0\n",
      "reference: channel_amplitudes : 4451\n",
      "reference: Rabi_rect : 4452\n",
      "load_exdir: file open time:  0.0\n",
      "c:\\data\\2019-07-08\\004451-channel_amplitudes-1906-001_1_down\n",
      "load_exdir: file open time:  0.0\n",
      "Inserting references: {'ex_pulse1': 4450, 'ex_pulse2': 4454, 'readout_calibration': 4407}\n",
      "Inserting references: {'fit_source': 4475}\n"
     ]
    },
    {
     "name": "stderr",
     "output_type": "stream",
     "text": [
      "Traceback (most recent call last):\n",
      "  File \"C:\\qtlab_replacement\\qsweepy\\fitters\\exp_sin.py\", line 23, in exp_sin_fit\n",
      "    raise ValueError\n",
      "ValueError\n",
      "Traceback (most recent call last):\n",
      "  File \"C:\\qtlab_replacement\\qsweepy\\fitters\\exp_sin.py\", line 23, in exp_sin_fit\n",
      "    raise ValueError\n",
      "ValueError\n",
      "Traceback (most recent call last):\n",
      "  File \"C:\\qtlab_replacement\\qsweepy\\fitters\\exp_sin.py\", line 23, in exp_sin_fit\n",
      "    raise ValueError\n",
      "ValueError\n",
      "Traceback (most recent call last):\n",
      "  File \"C:\\qtlab_replacement\\qsweepy\\fitters\\exp_sin.py\", line 23, in exp_sin_fit\n",
      "    raise ValueError\n",
      "ValueError\n",
      "Traceback (most recent call last):\n",
      "  File \"C:\\qtlab_replacement\\qsweepy\\fitters\\exp_sin.py\", line 23, in exp_sin_fit\n",
      "    raise ValueError\n",
      "ValueError\n"
     ]
    },
    {
     "name": "stdout",
     "output_type": "stream",
     "text": [
      "Waiting to join deferred threads:\n",
      "load_exdir: file open time:  0.0\n",
      "load_exdir: file open time:  0.009999752044677734\n",
      "load_exdir: file open time:  0.00999903678894043\n",
      "load time:  0.02999734878540039\n",
      "pre_trace_time:  0.0\n",
      "trace 0 time:  0.01999807357788086\n",
      "trace 1 time:  0.02999711036682129\n",
      "trace 2 time:  0.03999590873718262\n",
      "trace 3 time:  0.04999518394470215\n",
      "load_exdir: file open time:  0.0\n",
      "load_exdir: file open time:  0.0\n",
      "load_exdir: file open time:  0.0\n",
      "load time:  0.02999734878540039\n",
      "pre_trace_time:  0.0\n",
      "trace 0 time:  0.00999903678894043\n",
      "trace 1 time:  0.01999807357788086\n",
      "trace 2 time:  0.02999711036682129\n",
      "trace 3 time:  0.03999614715576172\n",
      "load_exdir: file open time:  0.0\n",
      "reference: ('channel_calibration', 'iq_ex3_q3') : 4444\n",
      "load_exdir: file open time:  0.010001182556152344\n",
      "load_exdir: file open time:  0.009997844696044922\n",
      "load_exdir: file open time:  0.0\n",
      "c:\\data\\2019-07-08\\004453-fit_dataset_1d-1906-001_1_down\n",
      "load_exdir: file open time:  0.0\n",
      "c:\\data\\2019-07-08\\004452-Rabi_rect-1906-001_1_down\n",
      "load_exdir: file open time:  0.00999903678894043\n",
      "load_exdir: file open time:  0.0\n",
      "reference: channel_amplitudes : 4451\n",
      "reference: Rabi_rect : 4452\n",
      "load_exdir: file open time:  0.0\n",
      "c:\\data\\2019-07-08\\004451-channel_amplitudes-1906-001_1_down\n",
      "load_exdir: file open time:  0.0\n",
      "load_exdir: file open time:  0.0\n",
      "load_exdir: file open time:  0.0\n",
      "reference: ('channel_calibration', 'iq_ex1_q3') : 4443\n",
      "load_exdir: file open time:  0.0\n",
      "load_exdir: file open time:  0.0\n",
      "load_exdir: file open time:  0.0\n",
      "c:\\data\\2019-07-08\\004449-fit_dataset_1d-1906-001_1_down\n",
      "load_exdir: file open time:  0.0\n",
      "c:\\data\\2019-07-08\\004448-Rabi_rect-1906-001_1_down\n",
      "load_exdir: file open time:  0.0\n",
      "load_exdir: file open time:  0.0\n",
      "reference: channel_amplitudes : 4445\n",
      "reference: Rabi_rect : 4448\n",
      "load_exdir: file open time:  0.0\n",
      "c:\\data\\2019-07-08\\004445-channel_amplitudes-1906-001_1_down\n",
      "load_exdir: file open time:  0.0\n",
      "reference: ex_pulse1 : 4454\n",
      "reference: ex_pulse2 : 4450\n",
      "load_exdir: file open time:  0.0\n",
      "load_exdir: file open time:  0.0\n",
      "reference: channel_calibration : 4381\n",
      "load_exdir: file open time:  0.0\n",
      "reference: passthrough_measurement : 4396\n",
      "load_exdir: file open time:  0.0\n",
      "load_exdir: file open time:  0.0\n",
      "reference: readout_pulse : 4397\n",
      "reference: modem_calibration : 4389\n",
      "load_exdir: file open time:  0.0\n",
      "load_exdir: file open time:  0.0\n",
      "load_exdir: file open time:  0.0\n",
      "load_exdir: file open time:  0.0\n",
      "c:\\data\\2019-07-08\\004453-fit_dataset_1d-1906-001_1_down\n",
      "load_exdir: file open time:  0.009982109069824219\n",
      "c:\\data\\2019-07-08\\004452-Rabi_rect-1906-001_1_down\n",
      "load_exdir: file open time:  0.0\n",
      "load_exdir: file open time:  0.009999752044677734\n",
      "reference: channel_amplitudes : 4451\n",
      "reference: Rabi_rect : 4452\n",
      "load_exdir: file open time:  0.0\n",
      "c:\\data\\2019-07-08\\004451-channel_amplitudes-1906-001_1_down\n",
      "load_exdir: file open time:  0.0\n",
      "load_exdir: file open time:  0.0\n",
      "load_exdir: file open time:  0.0\n",
      "c:\\data\\2019-07-08\\004449-fit_dataset_1d-1906-001_1_down\n",
      "load_exdir: file open time:  0.0\n",
      "c:\\data\\2019-07-08\\004448-Rabi_rect-1906-001_1_down\n",
      "load_exdir: file open time:  0.0\n",
      "load_exdir: file open time:  0.0\n",
      "reference: channel_amplitudes : 4445\n",
      "reference: Rabi_rect : 4448\n",
      "load_exdir: file open time:  0.00999903678894043\n",
      "c:\\data\\2019-07-08\\004445-channel_amplitudes-1906-001_1_down\n",
      "load_exdir: file open time:  0.0\n",
      "Inserting references: {'ex_pulse1': 4454, 'ex_pulse2': 4450, 'readout_calibration': 4407}\n",
      "Inserting references: {'fit_source': 4477}\n"
     ]
    },
    {
     "name": "stderr",
     "output_type": "stream",
     "text": [
      "Traceback (most recent call last):\n",
      "  File \"C:\\qtlab_replacement\\qsweepy\\fitters\\exp_sin.py\", line 23, in exp_sin_fit\n",
      "    raise ValueError\n",
      "ValueError\n",
      "Traceback (most recent call last):\n",
      "  File \"C:\\qtlab_replacement\\qsweepy\\fitters\\exp_sin.py\", line 23, in exp_sin_fit\n",
      "    raise ValueError\n",
      "ValueError\n",
      "Traceback (most recent call last):\n",
      "  File \"C:\\qtlab_replacement\\qsweepy\\fitters\\exp_sin.py\", line 23, in exp_sin_fit\n",
      "    raise ValueError\n",
      "ValueError\n",
      "Traceback (most recent call last):\n",
      "  File \"C:\\qtlab_replacement\\qsweepy\\fitters\\exp_sin.py\", line 23, in exp_sin_fit\n",
      "    raise ValueError\n",
      "ValueError\n",
      "Traceback (most recent call last):\n",
      "  File \"C:\\qtlab_replacement\\qsweepy\\fitters\\exp_sin.py\", line 23, in exp_sin_fit\n",
      "    raise ValueError\n",
      "ValueError\n"
     ]
    },
    {
     "name": "stdout",
     "output_type": "stream",
     "text": [
      "Waiting to join deferred threads:\n",
      "load_exdir: file open time:  0.0\n",
      "load_exdir: file open time:  0.0\n",
      "load_exdir: file open time:  0.0\n",
      "load time:  0.029996871948242188\n",
      "pre_trace_time:  0.0\n",
      "trace 0 time:  0.00999903678894043\n",
      "trace 1 time:  0.01999807357788086\n",
      "trace 2 time:  0.02999734878540039\n",
      "trace 3 time:  0.03999638557434082\n",
      "load_exdir: file open time:  0.0\n",
      "load_exdir: file open time:  0.0\n",
      "load_exdir: file open time:  0.00999903678894043\n",
      "load time:  0.03999495506286621\n",
      "pre_trace_time:  0.0\n",
      "trace 0 time:  0.009999752044677734\n",
      "trace 1 time:  0.019998788833618164\n",
      "trace 2 time:  0.029997825622558594\n",
      "trace 3 time:  0.039997100830078125\n",
      "load_exdir: file open time:  0.0\n",
      "reference: ('channel_calibration', 'iq_ex3_q3') : 4444\n",
      "load_exdir: file open time:  0.0\n",
      "load_exdir: file open time:  0.009998559951782227\n",
      "load_exdir: file open time:  0.0\n",
      "c:\\data\\2019-07-08\\004453-fit_dataset_1d-1906-001_1_down\n",
      "load_exdir: file open time:  0.0\n",
      "c:\\data\\2019-07-08\\004452-Rabi_rect-1906-001_1_down\n",
      "load_exdir: file open time:  0.0\n",
      "load_exdir: file open time:  0.0\n",
      "reference: channel_amplitudes : 4451\n",
      "reference: Rabi_rect : 4452\n",
      "load_exdir: file open time:  0.0\n",
      "c:\\data\\2019-07-08\\004451-channel_amplitudes-1906-001_1_down\n",
      "load_exdir: file open time:  0.0\n",
      "reference: ex_pulse1 : 4454\n",
      "reference: ex_pulse2 : 4454\n",
      "load_exdir: file open time:  0.0\n",
      "load_exdir: file open time:  0.0\n",
      "reference: channel_calibration : 4381\n",
      "load_exdir: file open time:  0.0\n",
      "reference: passthrough_measurement : 4396\n",
      "load_exdir: file open time:  0.0\n",
      "load_exdir: file open time:  0.0\n",
      "reference: readout_pulse : 4397\n",
      "reference: modem_calibration : 4389\n",
      "load_exdir: file open time:  0.0\n",
      "load_exdir: file open time:  0.0\n",
      "load_exdir: file open time:  0.0\n",
      "load_exdir: file open time:  0.0\n",
      "c:\\data\\2019-07-08\\004453-fit_dataset_1d-1906-001_1_down\n",
      "load_exdir: file open time:  0.0\n",
      "c:\\data\\2019-07-08\\004452-Rabi_rect-1906-001_1_down\n",
      "load_exdir: file open time:  0.0\n",
      "load_exdir: file open time:  0.0\n",
      "reference: channel_amplitudes : 4451\n",
      "reference: Rabi_rect : 4452\n",
      "load_exdir: file open time:  0.0\n",
      "c:\\data\\2019-07-08\\004451-channel_amplitudes-1906-001_1_down\n",
      "load_exdir: file open time:  0.0\n",
      "load_exdir: file open time:  0.0\n",
      "load_exdir: file open time:  0.010000467300415039\n",
      "c:\\data\\2019-07-08\\004453-fit_dataset_1d-1906-001_1_down\n",
      "load_exdir: file open time:  0.0\n",
      "c:\\data\\2019-07-08\\004452-Rabi_rect-1906-001_1_down\n",
      "load_exdir: file open time:  0.0\n",
      "load_exdir: file open time:  0.009999275207519531\n",
      "reference: channel_amplitudes : 4451\n",
      "reference: Rabi_rect : 4452\n",
      "load_exdir: file open time:  0.0\n",
      "c:\\data\\2019-07-08\\004451-channel_amplitudes-1906-001_1_down\n",
      "load_exdir: file open time:  0.0\n",
      "Inserting references: {'ex_pulse1': 4454, 'ex_pulse2': 4454, 'readout_calibration': 4407}\n",
      "Inserting references: {'fit_source': 4479}\n"
     ]
    },
    {
     "name": "stderr",
     "output_type": "stream",
     "text": [
      "Traceback (most recent call last):\n",
      "  File \"C:\\qtlab_replacement\\qsweepy\\fitters\\exp_sin.py\", line 23, in exp_sin_fit\n",
      "    raise ValueError\n",
      "ValueError\n",
      "Traceback (most recent call last):\n",
      "  File \"C:\\qtlab_replacement\\qsweepy\\fitters\\exp_sin.py\", line 23, in exp_sin_fit\n",
      "    raise ValueError\n",
      "ValueError\n",
      "Traceback (most recent call last):\n",
      "  File \"C:\\qtlab_replacement\\qsweepy\\fitters\\exp_sin.py\", line 23, in exp_sin_fit\n",
      "    raise ValueError\n",
      "ValueError\n",
      "Traceback (most recent call last):\n",
      "  File \"C:\\qtlab_replacement\\qsweepy\\fitters\\exp_sin.py\", line 23, in exp_sin_fit\n",
      "    raise ValueError\n",
      "ValueError\n",
      "Traceback (most recent call last):\n",
      "  File \"C:\\qtlab_replacement\\qsweepy\\fitters\\exp_sin.py\", line 23, in exp_sin_fit\n",
      "    raise ValueError\n",
      "ValueError\n"
     ]
    },
    {
     "name": "stdout",
     "output_type": "stream",
     "text": [
      "Waiting to join deferred threads:\n",
      "load_exdir: file open time:  0.0\n",
      "load_exdir: file open time:  0.0\n",
      "load_exdir: file open time:  0.0\n",
      "load time:  0.029996156692504883\n",
      "pre_trace_time:  0.0\n",
      "trace 0 time:  0.009999990463256836\n",
      "trace 1 time:  0.019999265670776367\n",
      "trace 2 time:  0.029997825622558594\n",
      "trace 3 time:  0.039997100830078125\n",
      "load_exdir: file open time:  0.0\n",
      "load_exdir: file open time:  0.0\n",
      "load_exdir: file open time:  0.0\n",
      "load time:  0.02999734878540039\n",
      "pre_trace_time:  0.0\n",
      "trace 0 time:  0.019995689392089844\n",
      "trace 1 time:  0.029994726181030273\n",
      "trace 2 time:  0.0399937629699707\n",
      "trace 3 time:  0.04999256134033203\n"
     ]
    }
   ],
   "source": [
    "cross_ramsey_data = Ramsey.calibrate_all_cross_Ramsey(device)"
   ]
  },
  {
   "cell_type": "code",
   "execution_count": 70,
   "metadata": {
    "ExecuteTime": {
     "end_time": "2019-07-08T07:05:18.267963Z",
     "start_time": "2019-07-08T07:05:18.258977Z"
    }
   },
   "outputs": [
    {
     "data": {
      "text/plain": [
       "<module 'qsweepy.data_reduce' from 'C:\\\\qtlab_replacement\\\\qsweepy\\\\data_reduce.py'>"
      ]
     },
     "execution_count": 70,
     "metadata": {},
     "output_type": "execute_result"
    }
   ],
   "source": [
    "imp.reload(single_shot_readout)\n",
    "imp.reload(readout_classifier)\n",
    "imp.reload(data_reduce)"
   ]
  },
  {
   "cell_type": "code",
   "execution_count": 71,
   "metadata": {
    "ExecuteTime": {
     "end_time": "2019-07-08T07:05:19.680099Z",
     "start_time": "2019-07-08T07:05:19.115372Z"
    }
   },
   "outputs": [
    {
     "name": "stdout",
     "output_type": "stream",
     "text": [
      "load_exdir: file open time:  0.0029764175415039062\n",
      "load_exdir: file open time:  0.002000093460083008\n",
      "good Rabi fits: [4449, 4453]\n",
      "trying  4449\n",
      "c:\\data\\2019-07-08\\004449-fit_dataset_1d-1906-001_1_down\n",
      "load_exdir: file open time:  0.0020225048065185547\n",
      "c:\\data\\2019-07-08\\004448-Rabi_rect-1906-001_1_down\n",
      "load_exdir: file open time:  0.002016782760620117\n",
      "load_exdir: file open time:  0.0010192394256591797\n",
      "reference: channel_amplitudes : 4445\n",
      "reference: Rabi_rect : 4448\n",
      "load_exdir: file open time:  0.0019991397857666016\n",
      "c:\\data\\2019-07-08\\004445-channel_amplitudes-1906-001_1_down\n",
      "load_exdir: file open time:  0.0009982585906982422\n"
     ]
    },
    {
     "data": {
      "text/plain": [
       "[{'iq_ex1_q1': array([0.+0.j, 0.+0.j, 0.+0.j, 0.+0.j, 0.+0.j, 0.+0.j, 0.+0.j, 0.+0.j,\n",
       "         0.+0.j, 0.+0.j, 0.+0.j, 0.+0.j, 0.+0.j, 0.+0.j, 0.+0.j, 0.+0.j,\n",
       "         0.+0.j, 0.+0.j, 0.+0.j, 0.+0.j, 0.+0.j, 0.+0.j, 0.+0.j, 0.+0.j,\n",
       "         0.+0.j, 0.+0.j, 0.+0.j, 0.+0.j, 0.+0.j, 0.+0.j, 0.+0.j, 0.+0.j,\n",
       "         0.+0.j, 0.+0.j, 0.+0.j, 0.+0.j, 0.+0.j, 0.+0.j, 0.+0.j, 0.+0.j,\n",
       "         0.+0.j, 0.+0.j, 0.+0.j, 0.+0.j, 0.+0.j, 0.+0.j, 0.+0.j, 0.+0.j,\n",
       "         0.+0.j, 0.+0.j, 0.+0.j, 0.+0.j, 0.+0.j]),\n",
       "  'iq_ex3_q1': array([0.+0.j, 0.+0.j, 0.+0.j, 0.+0.j, 0.+0.j, 0.+0.j, 0.+0.j, 0.+0.j,\n",
       "         0.+0.j, 0.+0.j, 0.+0.j, 0.+0.j, 0.+0.j, 0.+0.j, 0.+0.j, 0.+0.j,\n",
       "         0.+0.j, 0.+0.j, 0.+0.j, 0.+0.j, 0.+0.j, 0.+0.j, 0.+0.j, 0.+0.j,\n",
       "         0.+0.j, 0.+0.j, 0.+0.j, 0.+0.j, 0.+0.j, 0.+0.j, 0.+0.j, 0.+0.j,\n",
       "         0.+0.j, 0.+0.j, 0.+0.j, 0.+0.j, 0.+0.j, 0.+0.j, 0.+0.j, 0.+0.j,\n",
       "         0.+0.j, 0.+0.j, 0.+0.j, 0.+0.j, 0.+0.j, 0.+0.j, 0.+0.j, 0.+0.j,\n",
       "         0.+0.j, 0.+0.j, 0.+0.j, 0.+0.j, 0.+0.j]),\n",
       "  'iq_ro_q1': array([0.+0.j, 0.+0.j, 0.+0.j, 0.+0.j, 0.+0.j, 0.+0.j, 0.+0.j, 0.+0.j,\n",
       "         0.+0.j, 0.+0.j, 0.+0.j, 0.+0.j, 0.+0.j, 0.+0.j, 0.+0.j, 0.+0.j,\n",
       "         0.+0.j, 0.+0.j, 0.+0.j, 0.+0.j, 0.+0.j, 0.+0.j, 0.+0.j, 0.+0.j,\n",
       "         0.+0.j, 0.+0.j, 0.+0.j, 0.+0.j, 0.+0.j, 0.+0.j, 0.+0.j, 0.+0.j,\n",
       "         0.+0.j, 0.+0.j, 0.+0.j, 0.+0.j, 0.+0.j, 0.+0.j, 0.+0.j, 0.+0.j,\n",
       "         0.+0.j, 0.+0.j, 0.+0.j, 0.+0.j, 0.+0.j, 0.+0.j, 0.+0.j, 0.+0.j,\n",
       "         0.+0.j, 0.+0.j, 0.+0.j, 0.+0.j, 0.+0.j]),\n",
       "  'iq_ex1_q3': array([1.+0.j, 1.+0.j, 1.+0.j, 1.+0.j, 1.+0.j, 1.+0.j, 1.+0.j, 1.+0.j,\n",
       "         1.+0.j, 1.+0.j, 1.+0.j, 1.+0.j, 1.+0.j, 1.+0.j, 1.+0.j, 1.+0.j,\n",
       "         1.+0.j, 1.+0.j, 1.+0.j, 1.+0.j, 1.+0.j, 1.+0.j, 1.+0.j, 1.+0.j,\n",
       "         1.+0.j, 1.+0.j, 1.+0.j, 1.+0.j, 1.+0.j, 1.+0.j, 1.+0.j, 1.+0.j,\n",
       "         1.+0.j, 1.+0.j, 1.+0.j, 1.+0.j, 1.+0.j, 1.+0.j, 1.+0.j, 1.+0.j,\n",
       "         1.+0.j, 1.+0.j, 1.+0.j, 1.+0.j, 1.+0.j, 1.+0.j, 1.+0.j, 1.+0.j,\n",
       "         1.+0.j, 1.+0.j, 1.+0.j, 1.+0.j, 1.+0.j]),\n",
       "  'iq_ex3_q3': array([0.+0.j, 0.+0.j, 0.+0.j, 0.+0.j, 0.+0.j, 0.+0.j, 0.+0.j, 0.+0.j,\n",
       "         0.+0.j, 0.+0.j, 0.+0.j, 0.+0.j, 0.+0.j, 0.+0.j, 0.+0.j, 0.+0.j,\n",
       "         0.+0.j, 0.+0.j, 0.+0.j, 0.+0.j, 0.+0.j, 0.+0.j, 0.+0.j, 0.+0.j,\n",
       "         0.+0.j, 0.+0.j, 0.+0.j, 0.+0.j, 0.+0.j, 0.+0.j, 0.+0.j, 0.+0.j,\n",
       "         0.+0.j, 0.+0.j, 0.+0.j, 0.+0.j, 0.+0.j, 0.+0.j, 0.+0.j, 0.+0.j,\n",
       "         0.+0.j, 0.+0.j, 0.+0.j, 0.+0.j, 0.+0.j, 0.+0.j, 0.+0.j, 0.+0.j,\n",
       "         0.+0.j, 0.+0.j, 0.+0.j, 0.+0.j, 0.+0.j]),\n",
       "  'iq_ro_q3': array([0.+0.j, 0.+0.j, 0.+0.j, 0.+0.j, 0.+0.j, 0.+0.j, 0.+0.j, 0.+0.j,\n",
       "         0.+0.j, 0.+0.j, 0.+0.j, 0.+0.j, 0.+0.j, 0.+0.j, 0.+0.j, 0.+0.j,\n",
       "         0.+0.j, 0.+0.j, 0.+0.j, 0.+0.j, 0.+0.j, 0.+0.j, 0.+0.j, 0.+0.j,\n",
       "         0.+0.j, 0.+0.j, 0.+0.j, 0.+0.j, 0.+0.j, 0.+0.j, 0.+0.j, 0.+0.j,\n",
       "         0.+0.j, 0.+0.j, 0.+0.j, 0.+0.j, 0.+0.j, 0.+0.j, 0.+0.j, 0.+0.j,\n",
       "         0.+0.j, 0.+0.j, 0.+0.j, 0.+0.j, 0.+0.j, 0.+0.j, 0.+0.j, 0.+0.j,\n",
       "         0.+0.j, 0.+0.j, 0.+0.j, 0.+0.j, 0.+0.j]),\n",
       "  'ro_trg': array([0.+0.j, 0.+0.j, 0.+0.j, 0.+0.j, 0.+0.j, 0.+0.j, 0.+0.j, 0.+0.j,\n",
       "         0.+0.j, 0.+0.j, 0.+0.j, 0.+0.j, 0.+0.j, 0.+0.j, 0.+0.j, 0.+0.j,\n",
       "         0.+0.j, 0.+0.j, 0.+0.j, 0.+0.j, 0.+0.j, 0.+0.j, 0.+0.j, 0.+0.j,\n",
       "         0.+0.j, 0.+0.j, 0.+0.j, 0.+0.j, 0.+0.j, 0.+0.j, 0.+0.j, 0.+0.j,\n",
       "         0.+0.j, 0.+0.j, 0.+0.j, 0.+0.j, 0.+0.j, 0.+0.j, 0.+0.j, 0.+0.j,\n",
       "         0.+0.j, 0.+0.j, 0.+0.j, 0.+0.j, 0.+0.j, 0.+0.j, 0.+0.j, 0.+0.j,\n",
       "         0.+0.j, 0.+0.j, 0.+0.j, 0.+0.j, 0.+0.j])}]"
      ]
     },
     "execution_count": 71,
     "metadata": {},
     "output_type": "execute_result"
    }
   ],
   "source": [
    "excitation_pulse.get_excitation_pulse(device, '3', rotation_angle=np.pi).get_pulse_sequence(0)"
   ]
  },
  {
   "cell_type": "code",
   "execution_count": 72,
   "metadata": {
    "ExecuteTime": {
     "end_time": "2019-07-08T07:09:16.812828Z",
     "start_time": "2019-07-08T07:05:21.368530Z"
    },
    "scrolled": true
   },
   "outputs": [
    {
     "name": "stdout",
     "output_type": "stream",
     "text": [
      "load_exdir: file open time:  0.0019986629486083984\n",
      "load_exdir: file open time:  0.002012014389038086\n",
      "reference: channel_calibration : 4381\n",
      "load_exdir: file open time:  0.003972768783569336\n",
      "reference: passthrough_measurement : 4396\n",
      "load_exdir: file open time:  0.0029926300048828125\n",
      "load_exdir: file open time:  0.0010213851928710938\n",
      "load_exdir: file open time:  0.00299835205078125\n",
      "load_exdir: file open time:  0.0009989738464355469\n",
      "load_exdir: file open time:  0.000990152359008789\n",
      "load_exdir: file open time:  0.002004861831665039\n",
      "good Rabi fits: [4459, 4467]\n",
      "trying  4459\n",
      "c:\\data\\2019-07-08\\004459-fit_dataset_1d-1906-001_1_down\n",
      "load_exdir: file open time:  0.003999233245849609\n",
      "c:\\data\\2019-07-08\\004458-Rabi_rect-1906-001_1_down\n",
      "load_exdir: file open time:  0.0019991397857666016\n",
      "load_exdir: file open time:  0.0019989013671875\n",
      "reference: channel_amplitudes : 4457\n",
      "reference: Rabi_rect : 4458\n",
      "load_exdir: file open time:  0.002000570297241211\n",
      "c:\\data\\2019-07-08\\004457-channel_amplitudes-1906-001_1_down\n",
      "load_exdir: file open time:  0.002000570297241211\n",
      "load_exdir: file open time:  0.0009937286376953125\n",
      "load_exdir: file open time:  0.0029985904693603516\n",
      "good Rabi fits: [4449, 4453]\n",
      "trying  4449\n",
      "c:\\data\\2019-07-08\\004449-fit_dataset_1d-1906-001_1_down\n",
      "load_exdir: file open time:  0.002997875213623047\n",
      "c:\\data\\2019-07-08\\004448-Rabi_rect-1906-001_1_down\n",
      "load_exdir: file open time:  0.0019989013671875\n",
      "load_exdir: file open time:  0.0010135173797607422\n",
      "reference: channel_amplitudes : 4445\n",
      "reference: Rabi_rect : 4448\n",
      "load_exdir: file open time:  0.0020020008087158203\n",
      "c:\\data\\2019-07-08\\004445-channel_amplitudes-1906-001_1_down\n",
      "load_exdir: file open time:  0.0019941329956054688\n",
      "Inserting references: {'readout_pulse': 4397, 'excitation_pulse': 4481, 'delay_calibration': 4386}\n"
     ]
    },
    {
     "name": "stderr",
     "output_type": "stream",
     "text": [
      "C:\\qtlab_replacement\\qsweepy\\instrument_drivers\\Tektronix_AWG5014.py:651: ComplexWarning:\n",
      "\n",
      "Casting complex values to real discards the imaginary part\n",
      "\n",
      "C:\\ProgramData\\Anaconda3\\lib\\site-packages\\pyvisa\\resources\\messagebased.py:573: FutureWarning:\n",
      "\n",
      "ask is deprecated and will be removed in 1.10, use query instead.\n",
      "\n",
      "C:\\ProgramData\\Anaconda3\\lib\\site-packages\\scipy\\interpolate\\interpolate.py:2514: FutureWarning:\n",
      "\n",
      "Using a non-tuple sequence for multidimensional indexing is deprecated; use `arr[tuple(seq)]` instead of `arr[seq]`. In the future this will be interpreted as an array index, `arr[np.array(seq)]`, which will result either in an error or a different result.\n",
      "\n",
      "C:\\ProgramData\\Anaconda3\\lib\\site-packages\\scipy\\interpolate\\interpolate.py:2514: FutureWarning:\n",
      "\n",
      "Using a non-tuple sequence for multidimensional indexing is deprecated; use `arr[tuple(seq)]` instead of `arr[seq]`. In the future this will be interpreted as an array index, `arr[np.array(seq)]`, which will result either in an error or a different result.\n",
      "\n",
      "C:\\ProgramData\\Anaconda3\\lib\\site-packages\\scipy\\interpolate\\interpolate.py:2514: FutureWarning:\n",
      "\n",
      "Using a non-tuple sequence for multidimensional indexing is deprecated; use `arr[tuple(seq)]` instead of `arr[seq]`. In the future this will be interpreted as an array index, `arr[np.array(seq)]`, which will result either in an error or a different result.\n",
      "\n"
     ]
    },
    {
     "name": "stdout",
     "output_type": "stream",
     "text": [
      "load_exdir: file open time:  0.003999233245849609\n",
      "load_exdir: file open time:  0.0020074844360351562\n",
      "load_exdir: file open time:  0.0009999275207519531\n",
      "load time:  0.1129446029663086\n",
      "pre_trace_time:  0.004999399185180664\n",
      "trace 0 time:  0.01899123191833496\n",
      "trace 1 time:  0.03198409080505371\n",
      "trace 2 time:  0.044979095458984375\n",
      "trace 3 time:  0.05996990203857422\n",
      "trace 4 time:  0.07398271560668945\n",
      "trace 5 time:  0.0869755744934082\n",
      "trace 6 time:  0.09995174407958984\n",
      "trace 7 time:  0.1149446964263916\n"
     ]
    },
    {
     "name": "stderr",
     "output_type": "stream",
     "text": [
      "C:\\ProgramData\\Anaconda3\\lib\\site-packages\\numpy\\core\\memmap.py:335: FutureWarning:\n",
      "\n",
      "Using a non-tuple sequence for multidimensional indexing is deprecated; use `arr[tuple(seq)]` instead of `arr[seq]`. In the future this will be interpreted as an array index, `arr[np.array(seq)]`, which will result either in an error or a different result.\n",
      "\n"
     ]
    },
    {
     "data": {
      "text/plain": [
       "start: 2019-07-08 02:05:23.781406, started/done/total sweeps: 0/1/1.0, \n",
       "Measured data: \n",
       "'fidelity': parameters: \n",
       "data: 0.6327\n",
       "'probability_aware_fidelity': parameters: \n",
       "data: 0.5392878284288662\n",
       "'avg_sample0': parameters: Time (s),:[0.0, 1.023e-06] (1024 points) without setter\n",
       "data: [ 0.97242671 -1.92075272j  0.33779338 +0.58299728j\n",
       "  3.78556004 +1.74448062j ...  6.66839338-43.37891938j\n",
       " 47.68234338-11.42151938j 51.16597671+26.60538062j]\n",
       "'avg_sample1': parameters: Time (s),:[0.0, 1.023e-06] (1024 points) without setter\n",
       "data: [ 1.22239938 -0.32922972j -2.56063395 -2.27352972j\n",
       " -0.28756729 -1.25949639j ... 37.49294938-24.86184639j\n",
       " 50.81659938 +8.21673695j 35.51103271+43.78435361j]"
      ]
     },
     "execution_count": 72,
     "metadata": {},
     "output_type": "execute_result"
    }
   ],
   "source": [
    "readout_pulse.calibrate_measurer(device, '3', readout_pulse.get_qubit_readout_pulse(device, '3'))"
   ]
  },
  {
   "cell_type": "code",
   "execution_count": 64,
   "metadata": {
    "ExecuteTime": {
     "end_time": "2019-07-08T06:58:24.683636Z",
     "start_time": "2019-07-08T06:54:40.876410Z"
    }
   },
   "outputs": [
    {
     "name": "stdout",
     "output_type": "stream",
     "text": [
      "load_exdir: file open time:  0.005994558334350586\n",
      "load_exdir: file open time:  0.002996206283569336\n",
      "reference: channel_calibration : 4380\n",
      "load_exdir: file open time:  0.0049953460693359375\n",
      "reference: passthrough_measurement : 4394\n",
      "load_exdir: file open time:  0.004996299743652344\n",
      "load_exdir: file open time:  0.0019998550415039062\n",
      "load_exdir: file open time:  0.003979206085205078\n",
      "load_exdir: file open time:  0.0019991397857666016\n",
      "load_exdir: file open time:  0.002980470657348633\n",
      "load_exdir: file open time:  0.0019986629486083984\n",
      "good Rabi fits: [4449, 4453]\n",
      "trying  4449\n",
      "c:\\data\\2019-07-08\\004449-fit_dataset_1d-1906-001_1_down\n",
      "load_exdir: file open time:  0.0029981136322021484\n",
      "c:\\data\\2019-07-08\\004448-Rabi_rect-1906-001_1_down\n",
      "load_exdir: file open time:  0.003997802734375\n",
      "load_exdir: file open time:  0.002997875213623047\n",
      "reference: channel_amplitudes : 4445\n",
      "reference: Rabi_rect : 4448\n",
      "load_exdir: file open time:  0.003996849060058594\n",
      "c:\\data\\2019-07-08\\004445-channel_amplitudes-1906-001_1_down\n",
      "load_exdir: file open time:  0.0019989013671875\n",
      "load_exdir: file open time:  0.0039980411529541016\n",
      "load_exdir: file open time:  0.002000093460083008\n",
      "good Rabi fits: [4459, 4467]\n",
      "trying  4459\n",
      "c:\\data\\2019-07-08\\004459-fit_dataset_1d-1906-001_1_down\n",
      "load_exdir: file open time:  0.0039975643157958984\n",
      "c:\\data\\2019-07-08\\004458-Rabi_rect-1906-001_1_down\n",
      "load_exdir: file open time:  0.001998424530029297\n",
      "load_exdir: file open time:  0.0029985904693603516\n",
      "reference: channel_amplitudes : 4457\n",
      "reference: Rabi_rect : 4458\n",
      "load_exdir: file open time:  0.003998517990112305\n",
      "c:\\data\\2019-07-08\\004457-channel_amplitudes-1906-001_1_down\n",
      "load_exdir: file open time:  0.0009992122650146484\n",
      "Inserting references: {'readout_pulse': 4395, 'excitation_pulse': 4483, 'delay_calibration': 4386}\n"
     ]
    },
    {
     "name": "stderr",
     "output_type": "stream",
     "text": [
      "C:\\qtlab_replacement\\qsweepy\\instrument_drivers\\Tektronix_AWG5014.py:651: ComplexWarning:\n",
      "\n",
      "Casting complex values to real discards the imaginary part\n",
      "\n",
      "C:\\ProgramData\\Anaconda3\\lib\\site-packages\\pyvisa\\resources\\messagebased.py:573: FutureWarning:\n",
      "\n",
      "ask is deprecated and will be removed in 1.10, use query instead.\n",
      "\n",
      "C:\\ProgramData\\Anaconda3\\lib\\site-packages\\scipy\\interpolate\\interpolate.py:2514: FutureWarning:\n",
      "\n",
      "Using a non-tuple sequence for multidimensional indexing is deprecated; use `arr[tuple(seq)]` instead of `arr[seq]`. In the future this will be interpreted as an array index, `arr[np.array(seq)]`, which will result either in an error or a different result.\n",
      "\n",
      "C:\\ProgramData\\Anaconda3\\lib\\site-packages\\scipy\\interpolate\\interpolate.py:2514: FutureWarning:\n",
      "\n",
      "Using a non-tuple sequence for multidimensional indexing is deprecated; use `arr[tuple(seq)]` instead of `arr[seq]`. In the future this will be interpreted as an array index, `arr[np.array(seq)]`, which will result either in an error or a different result.\n",
      "\n",
      "C:\\ProgramData\\Anaconda3\\lib\\site-packages\\scipy\\interpolate\\interpolate.py:2514: FutureWarning:\n",
      "\n",
      "Using a non-tuple sequence for multidimensional indexing is deprecated; use `arr[tuple(seq)]` instead of `arr[seq]`. In the future this will be interpreted as an array index, `arr[np.array(seq)]`, which will result either in an error or a different result.\n",
      "\n"
     ]
    },
    {
     "name": "stdout",
     "output_type": "stream",
     "text": [
      "load_exdir: file open time:  0.0069959163665771484\n",
      "load_exdir: file open time:  0.0019989013671875\n",
      "load_exdir: file open time:  0.0009996891021728516\n",
      "load time:  0.12593865394592285\n",
      "pre_trace_time:  0.0070192813873291016\n",
      "trace 0 time:  0.017969369888305664\n",
      "trace 1 time:  0.03196263313293457\n",
      "trace 2 time:  0.04397940635681152\n",
      "trace 3 time:  0.05796933174133301\n",
      "trace 4 time:  0.07096076011657715\n",
      "trace 5 time:  0.08293890953063965\n",
      "trace 6 time:  0.09594941139221191\n",
      "trace 7 time:  0.10894298553466797\n"
     ]
    },
    {
     "name": "stderr",
     "output_type": "stream",
     "text": [
      "C:\\ProgramData\\Anaconda3\\lib\\site-packages\\numpy\\core\\memmap.py:335: FutureWarning:\n",
      "\n",
      "Using a non-tuple sequence for multidimensional indexing is deprecated; use `arr[tuple(seq)]` instead of `arr[seq]`. In the future this will be interpreted as an array index, `arr[np.array(seq)]`, which will result either in an error or a different result.\n",
      "\n"
     ]
    },
    {
     "data": {
      "text/plain": [
       "start: 2019-07-08 01:54:43.531135, started/done/total sweeps: 0/1/1.0, \n",
       "Measured data: \n",
       "'fidelity': parameters: \n",
       "data: 0.570525\n",
       "'probability_aware_fidelity': parameters: \n",
       "data: 0.5182518802281368\n",
       "'avg_sample0': parameters: Time (s),:[0.0, 1.023e-06] (1024 points) without setter\n",
       "data: [  0.2479089  +0.46541942j   2.2310589  +3.27165275j\n",
       "   1.19604224 +2.34493608j ... -18.39365776-13.69778058j\n",
       " -18.85425776 -8.07163058j -22.7514911  -2.21864725j]\n",
       "'avg_sample1': parameters: Time (s),:[0.0, 1.023e-06] (1024 points) without setter\n",
       "data: [ -0.1734473  +0.22290304j  -3.10803063 +1.55795304j\n",
       "  -2.97831396 +0.93468638j ... -23.20313063-18.12844696j\n",
       " -22.98413063-11.90018029j -24.33988063 -7.96271362j]"
      ]
     },
     "execution_count": 64,
     "metadata": {},
     "output_type": "execute_result"
    }
   ],
   "source": [
    "readout_pulse.calibrate_measurer(device, '1', readout_pulse.get_qubit_readout_pulse(device, '1'))"
   ]
  },
  {
   "cell_type": "code",
   "execution_count": 252,
   "metadata": {
    "ExecuteTime": {
     "end_time": "2019-07-07T13:50:28.504622Z",
     "start_time": "2019-07-07T13:50:28.498622Z"
    }
   },
   "outputs": [
    {
     "data": {
      "text/plain": [
       "[[(0.9951677954289461+0.0981888941840744j),\n",
       "  (0.5118017242026836+0.8591035997498557j)],\n",
       " [(0.6613194445070262-0.7501043876134296j),\n",
       "  (0.9931333854344637+0.1169875152974922j)]]"
      ]
     },
     "execution_count": 252,
     "metadata": {},
     "output_type": "execute_result"
    }
   ],
   "source": [
    "[[-np.exp(1j*float(cross_ramsey_data['1'][ch1][ch2].metadata['phi'])) \n",
    "      for ch1 in cross_ramsey_data['1']] for ch2 in cross_ramsey_data['1']]"
   ]
  },
  {
   "cell_type": "code",
   "execution_count": 25,
   "metadata": {
    "ExecuteTime": {
     "end_time": "2019-07-07T05:44:20.496991Z",
     "start_time": "2019-07-07T05:44:20.492993Z"
    }
   },
   "outputs": [],
   "source": [
    "#Ramsey_measurements = exdir_db_inst.select_measurements_db(\n",
    "#    measurement_type='Ramsey', metadata={'qubit_id':'1'})\n",
    "#Ramsey_measurements.where(lambda d: True if count(d.references) else False).order_by(lambda d: d.id).limit(1)[0]\n",
    "#from pony.orm import raw_sql, count, select\n",
    "#print(Ramsey_measurements.where(lambda d: count(True for r2 in d.reference_two# for mr in r2.this.metadata\n",
    "#            if r2.ref_type=='fit_dataset_1d' \n",
    "     #and mr.name=='decay_goodness_test' and mr.value=='1') \n",
    "#     )).get_sql())#count(r for r in d.reference).get_sql())\n",
    "                                    #for calibrations in channel_amplitudes.data.reference_two)\n",
    "#lambda d: True for channel_amplitudes in d.reference_two if channel_amplitudes.ref_type == 'channel_amplitudes' \n",
    "#                                      and count(channel_amplitudes)==1\n",
    "\n",
    "#lambda d: d.reference_two"
   ]
  },
  {
   "cell_type": "code",
   "execution_count": 6,
   "metadata": {
    "ExecuteTime": {
     "end_time": "2019-07-06T20:55:32.899102Z",
     "start_time": "2019-07-06T20:55:32.847102Z"
    }
   },
   "outputs": [
    {
     "data": {
      "text/plain": [
       "[]"
      ]
     },
     "execution_count": 6,
     "metadata": {},
     "output_type": "execute_result"
    }
   ],
   "source": [
    "db.Data.select_by_sql(\n",
    "'''\n",
    "SELECT \n",
    "    Ramsey_fit.*\n",
    "    FROM data Ramsey_fit \n",
    "    INNER JOIN Reference fit_measurement_reference ON \n",
    "        fit_measurement_reference.this = Ramsey_fit.id and fit_measurement_reference.ref_type='fit_source'\n",
    "    INNER JOIN Data measurement ON \n",
    "        measurement.id = fit_measurement_reference.that\n",
    "    INNER JOIN Metadata measurement_qubit_id ON\n",
    "        (measurement_qubit_id.data_id = measurement.id \n",
    "            AND measurement_qubit_id.name='qubit_id'\n",
    "            AND measurement_qubit_id.value='{qubit_id}')\n",
    "    INNER JOIN Metadata fit_decay_goodness_test ON\n",
    "        (fit_decay_goodness_test.data_id = Ramsey_fit.id \n",
    "            AND fit_decay_goodness_test.name='frequency_goodness_test'\n",
    "            AND fit_decay_goodness_test.value='1'\n",
    "        )\n",
    "    WHERE (NOT measurement.invalid OR measurement.invalid IS NULL)\n",
    "        AND measurement.measurement_type='Ramsey'\n",
    ";\n",
    "'''.format(qubit_id='1'))"
   ]
  },
  {
   "cell_type": "code",
   "execution_count": 45,
   "metadata": {
    "ExecuteTime": {
     "end_time": "2019-07-07T11:54:39.666341Z",
     "start_time": "2019-07-07T11:54:39.654359Z"
    }
   },
   "outputs": [
    {
     "name": "stdout",
     "output_type": "stream",
     "text": [
      "\n",
      "SELECT \n",
      "    Ramsey_fit.*,\n",
      "    channel_amplitudes1.*,\n",
      "    channel_amplitudes2.*\n",
      "    FROM data Ramsey_fit \n",
      "    \n",
      "    INNER JOIN Reference fit_measurement_reference ON \n",
      "        (fit_measurement_reference.this = Ramsey_fit.id \n",
      "            AND fit_measurement_reference.ref_type='fit_source')\n",
      "    INNER JOIN Data measurement ON \n",
      "        measurement.id = fit_measurement_reference.that\n",
      "    \n",
      "    INNER JOIN Reference ex_pulse1_reference ON\n",
      "        (ex_pulse1_reference.this = measurement.id\n",
      "            AND ex_pulse1_reference.ref_type = 'ex_pulse1')\n",
      "    INNER JOIN Data ex_pulse1 ON\n",
      "        (ex_pulse1.id = ex_pulse1_reference.that)\n",
      "        \n",
      "    INNER JOIN Reference ex_pulse2_reference ON\n",
      "        (ex_pulse2_reference.this = measurement.id\n",
      "            AND ex_pulse2_reference.ref_type = 'ex_pulse2')\n",
      "    INNER JOIN Data ex_pulse2 ON\n",
      "        (ex_pulse2.id = ex_pulse2_reference.that)\n",
      "        \n",
      "    INNER JOIN Reference channel_amplitudes1_reference ON\n",
      "        (channel_amplitudes1_reference.this = ex_pulse1.id\n",
      "            AND channel_amplitudes1_reference.ref_type = 'channel_amplitudes')\n",
      "    INNER JOIN Data channel_amplitudes1 ON\n",
      "        (channel_amplitudes1.id = channel_amplitudes1_reference.that)\n",
      "    \n",
      "    INNER JOIN Reference channel_amplitudes2_reference ON\n",
      "        (channel_amplitudes2_reference.this = ex_pulse2.id\n",
      "            AND channel_amplitudes2_reference.ref_type = 'channel_amplitudes')\n",
      "    INNER JOIN Data channel_amplitudes2 ON\n",
      "        (channel_amplitudes2.id = channel_amplitudes2_reference.that)\n",
      "    \n",
      "    INNER JOIN Metadata measurement_qubit_id ON\n",
      "        (measurement_qubit_id.data_id = measurement.id \n",
      "            AND measurement_qubit_id.name='qubit_id'\n",
      "            AND measurement_qubit_id.value='1')\n",
      "            \n",
      "    INNER JOIN Metadata fit_decay_goodness_test ON\n",
      "        (fit_decay_goodness_test.data_id = Ramsey_fit.id \n",
      "            AND fit_decay_goodness_test.name='frequency_goodness_test'\n",
      "            AND fit_decay_goodness_test.value='1'\n",
      "        )\n",
      "        \n",
      "    WHERE (NOT measurement.invalid OR measurement.invalid IS NULL)\n",
      "        AND measurement.measurement_type='Ramsey'\n",
      ";\n",
      "\n"
     ]
    }
   ],
   "source": [
    "print('''\n",
    "SELECT \n",
    "    Ramsey_fit.*,\n",
    "    channel_amplitudes1.*,\n",
    "    channel_amplitudes2.*\n",
    "    FROM data Ramsey_fit \n",
    "    \n",
    "    INNER JOIN Reference fit_measurement_reference ON \n",
    "        (fit_measurement_reference.this = Ramsey_fit.id \n",
    "            AND fit_measurement_reference.ref_type='fit_source')\n",
    "    INNER JOIN Data measurement ON \n",
    "        measurement.id = fit_measurement_reference.that\n",
    "    \n",
    "    INNER JOIN Reference ex_pulse1_reference ON\n",
    "        (ex_pulse1_reference.this = measurement.id\n",
    "            AND ex_pulse1_reference.ref_type = 'ex_pulse1')\n",
    "    INNER JOIN Data ex_pulse1 ON\n",
    "        (ex_pulse1.id = ex_pulse1_reference.that)\n",
    "        \n",
    "    INNER JOIN Reference ex_pulse2_reference ON\n",
    "        (ex_pulse2_reference.this = measurement.id\n",
    "            AND ex_pulse2_reference.ref_type = 'ex_pulse2')\n",
    "    INNER JOIN Data ex_pulse2 ON\n",
    "        (ex_pulse2.id = ex_pulse2_reference.that)\n",
    "        \n",
    "    INNER JOIN Reference channel_amplitudes1_reference ON\n",
    "        (channel_amplitudes1_reference.this = ex_pulse1.id\n",
    "            AND channel_amplitudes1_reference.ref_type = 'channel_amplitudes')\n",
    "    INNER JOIN Data channel_amplitudes1 ON\n",
    "        (channel_amplitudes1.id = channel_amplitudes1_reference.that)\n",
    "    \n",
    "    INNER JOIN Reference channel_amplitudes2_reference ON\n",
    "        (channel_amplitudes2_reference.this = ex_pulse2.id\n",
    "            AND channel_amplitudes2_reference.ref_type = 'channel_amplitudes')\n",
    "    INNER JOIN Data channel_amplitudes2 ON\n",
    "        (channel_amplitudes2.id = channel_amplitudes2_reference.that)\n",
    "    \n",
    "    INNER JOIN Metadata measurement_qubit_id ON\n",
    "        (measurement_qubit_id.data_id = measurement.id \n",
    "            AND measurement_qubit_id.name='qubit_id'\n",
    "            AND measurement_qubit_id.value='{qubit_id}')\n",
    "            \n",
    "    INNER JOIN Metadata fit_decay_goodness_test ON\n",
    "        (fit_decay_goodness_test.data_id = Ramsey_fit.id \n",
    "            AND fit_decay_goodness_test.name='frequency_goodness_test'\n",
    "            AND fit_decay_goodness_test.value='1'\n",
    "        )\n",
    "        \n",
    "    WHERE (NOT measurement.invalid OR measurement.invalid IS NULL)\n",
    "        AND measurement.measurement_type='Ramsey'\n",
    ";\n",
    "'''.format(qubit_id='1', frequency_rounding=10e3, fq=3.266e9))"
   ]
  },
  {
   "cell_type": "code",
   "execution_count": 225,
   "metadata": {
    "ExecuteTime": {
     "end_time": "2019-07-07T13:27:55.683170Z",
     "start_time": "2019-07-07T13:27:55.657182Z"
    }
   },
   "outputs": [],
   "source": [
    "def Rabi_measurements_query (qubit_id, frequency, frequency_tolerance, channel_amplitudes_override=None):\n",
    "    if channel_amplitudes_override is not None:\n",
    "        channel_amplitudes_clause = 'AND channel_amplitudes.id = {}'.format(channel_amplitudes_override)\n",
    "    else:\n",
    "        channel_amplitudes_clause = ''\n",
    "        \n",
    "    query = '''SELECT fit_id FROM (\n",
    "    SELECT \n",
    "        channel_amplitudes.id channel_amplitudes_id,\n",
    "        fit.id fit_id, \n",
    "        LEAST(CAST(num_periods_scan.value AS DECIMAL), CAST(num_periods_decay.value AS DECIMAL)) score,\n",
    "    --fit.id,\n",
    "    --Rabi_freq.value as f,\n",
    "    --num_periods_decay.value,\n",
    "    --num_periods_scan.value,\n",
    "    MIN(CAST (channel_calibration_frequency.value AS DECIMAL)) min_freq,\n",
    "    MAX(CAST (channel_calibration_frequency.value AS DECIMAL)) max_freq\n",
    "    \n",
    "    --MAX(fit.id) fit_id\n",
    "    \n",
    "    --channel_amplitudes.*\n",
    "    \n",
    "    FROM\n",
    "    data measurement\n",
    "    \n",
    "    INNER JOIN reference fit_measurement_reference ON\n",
    "        fit_measurement_reference.ref_type = 'fit_source' AND\n",
    "        fit_measurement_reference.that = measurement.id\n",
    "    INNER JOIN data fit ON\n",
    "        fit_measurement_reference.this = fit.id\n",
    "        \n",
    "    INNER JOIN metadata qubit_id_metadata ON\n",
    "        qubit_id_metadata.data_id = measurement.id AND\n",
    "        qubit_id_metadata.name = 'qubit_id' AND\n",
    "        qubit_id_metadata.value = '{qubit_id}'\n",
    "    \n",
    "    INNER JOIN metadata frequency_goodness_test_metadata ON\n",
    "        frequency_goodness_test_metadata.data_id = fit.id AND\n",
    "        frequency_goodness_test_metadata.name = 'frequency_goodness_test' AND\n",
    "        frequency_goodness_test_metadata.value = '1'\n",
    "    \n",
    "    INNER JOIN metadata MSE_rel_metadata ON\n",
    "        MSE_rel_metadata.data_id = fit.id AND\n",
    "        MSE_rel_metadata.name = 'MSE_rel'\n",
    "    \n",
    "    INNER JOIN reference channel_amplitudes_reference ON\n",
    "        channel_amplitudes_reference.this = measurement.id AND\n",
    "        channel_amplitudes_reference.ref_type = 'channel_amplitudes'\n",
    "    \n",
    "    INNER JOIN data channel_amplitudes ON\n",
    "        channel_amplitudes.id = channel_amplitudes_reference.that\n",
    "        \n",
    "    INNER JOIN metadata channel ON\n",
    "        channel.data_id = channel_amplitudes.id\n",
    "        \n",
    "    INNER JOIN reference channel_calibration_reference ON\n",
    "        channel_calibration_reference.ref_type='channel_calibration' AND\n",
    "        channel_calibration_reference.this = channel.data_id\n",
    "    \n",
    "    INNER JOIN data channel_calibration ON\n",
    "        channel_calibration.id = channel_calibration_reference.that\n",
    "        \n",
    "    INNER JOIN metadata channel_calibration_frequency ON\n",
    "        channel_calibration_frequency.data_id = channel_calibration.id AND\n",
    "        channel_calibration_frequency.name = 'frequency' --AND\n",
    "        --ABS(CAST (channel_calibration_frequency.value AS DECIMAL) - {frequency}) < {frequency_tolerance}\n",
    "        \n",
    "    INNER JOIN metadata Rabi_freq ON\n",
    "        Rabi_freq.data_id = fit.id AND\n",
    "        Rabi_freq.name = 'f'\n",
    "    \n",
    "    INNER JOIN metadata num_periods_decay ON\n",
    "        num_periods_decay.data_id = fit.id AND\n",
    "        num_periods_decay.name = 'num_periods_decay'\n",
    "    \n",
    "    INNER JOIN metadata num_periods_scan ON\n",
    "        num_periods_scan.data_id = fit.id AND\n",
    "        num_periods_scan.name = 'num_periods_scan'\n",
    "\n",
    "    WHERE \n",
    "        measurement.measurement_type = 'Rabi_rect' AND\n",
    "        (NOT measurement.invalid OR (measurement.invalid IS NULL))\n",
    "        {channel_amplitudes_clause}\n",
    "--        (SELECT COUNT(*) FROM metadata \n",
    "--            WHERE metadata.data_id = channel_amplitudes.id) = 1\n",
    "            \n",
    "    GROUP BY channel_amplitudes_id, \n",
    "             fit.id, \n",
    "             LEAST(CAST(num_periods_scan.value AS DECIMAL), CAST(num_periods_decay.value AS DECIMAL))   \n",
    "    \n",
    "    HAVING \n",
    "        ABS(MIN(CAST (channel_calibration_frequency.value AS DECIMAL))- {frequency})<{frequency_tolerance}\n",
    "        AND ABS(MAX(CAST (channel_calibration_frequency.value AS DECIMAL))- {frequency})<{frequency_tolerance}\n",
    "\n",
    "    ORDER BY \n",
    "        LEAST(CAST(num_periods_scan.value AS DECIMAL), CAST(num_periods_decay.value AS DECIMAL)) DESC\n",
    "    \n",
    "    ) Rabi_measurements\n",
    "'''\n",
    "    return query.format(qubit_id=qubit_id, \n",
    "        frequency=frequency, \n",
    "        frequency_tolerance = frequency_tolerance,\n",
    "        channel_amplitudes_clause = channel_amplitudes_clause)"
   ]
  },
  {
   "cell_type": "code",
   "execution_count": 226,
   "metadata": {
    "ExecuteTime": {
     "end_time": "2019-07-07T13:27:56.097266Z",
     "start_time": "2019-07-07T13:27:56.049289Z"
    }
   },
   "outputs": [
    {
     "name": "stdout",
     "output_type": "stream",
     "text": [
      "load_exdir: file open time:  0.002000570297241211\n",
      "load_exdir: file open time:  0.0020034313201904297\n"
     ]
    },
    {
     "data": {
      "text/plain": [
       "[4292]"
      ]
     },
     "execution_count": 226,
     "metadata": {},
     "output_type": "execute_result"
    }
   ],
   "source": [
    "#db.Data.select_by_sql(\n",
    "#query.format(qubit_id='1'))\n",
    "#qubit_id = '1'\n",
    "#db.db.select(query.format(qubit_id=qubit_id, \n",
    "#                          frequency=device.get_qubit_fq(qubit_id), \n",
    "#                          frequency_tolerance = device.get_qubit_constant(qubit_id=qubit_id, name='frequency_rounding')))\n",
    "\n",
    "db.db.select(Rabi_measurements_query(qubit_id=qubit_id, \n",
    "        frequency=device.get_qubit_fq(qubit_id), \n",
    "        frequency_tolerance = device.get_qubit_constant(qubit_id=qubit_id, name='frequency_rounding'),\n",
    "        channel_amplitudes_override=4288))"
   ]
  },
  {
   "cell_type": "markdown",
   "metadata": {},
   "source": [
    "# Импульсы"
   ]
  },
  {
   "cell_type": "markdown",
   "metadata": {},
   "source": [
    "### Загружаем импульсные скрипты всякие"
   ]
  },
  {
   "cell_type": "markdown",
   "metadata": {},
   "source": [
    "### Калибровка миксеров"
   ]
  },
  {
   "cell_type": "code",
   "execution_count": 29,
   "metadata": {
    "ExecuteTime": {
     "end_time": "2019-07-07T05:44:52.641092Z",
     "start_time": "2019-07-07T05:44:35.917500Z"
    },
    "scrolled": true
   },
   "outputs": [
    {
     "name": "stdout",
     "output_type": "stream",
     "text": [
      "load_exdir: file open time:  0.001977682113647461\n",
      "reference: ('channel_calibration', 'iq_ro_q1') : 4112\n",
      "load_exdir: file open time:  0.0010256767272949219\n",
      "Got delay calibration: -7.48e-07\n"
     ]
    },
    {
     "name": "stderr",
     "output_type": "stream",
     "text": [
      "C:\\ProgramData\\Anaconda3\\lib\\site-packages\\scipy\\signal\\signaltools.py:2223: FutureWarning:\n",
      "\n",
      "Using a non-tuple sequence for multidimensional indexing is deprecated; use `arr[tuple(seq)]` instead of `arr[seq]`. In the future this will be interpreted as an array index, `arr[np.array(seq)]`, which will result either in an error or a different result.\n",
      "\n",
      "C:\\ProgramData\\Anaconda3\\lib\\site-packages\\scipy\\signal\\signaltools.py:2225: FutureWarning:\n",
      "\n",
      "Using a non-tuple sequence for multidimensional indexing is deprecated; use `arr[tuple(seq)]` instead of `arr[seq]`. In the future this will be interpreted as an array index, `arr[np.array(seq)]`, which will result either in an error or a different result.\n",
      "\n",
      "C:\\qtlab_replacement\\qsweepy\\instrument_drivers\\Tektronix_AWG5014.py:651: ComplexWarning:\n",
      "\n",
      "Casting complex values to real discards the imaginary part\n",
      "\n",
      "C:\\ProgramData\\Anaconda3\\lib\\site-packages\\pyvisa\\resources\\messagebased.py:573: FutureWarning:\n",
      "\n",
      "ask is deprecated and will be removed in 1.10, use query instead.\n",
      "\n"
     ]
    },
    {
     "name": "stdout",
     "output_type": "stream",
     "text": [
      "load_exdir: file open time:  0.001999378204345703\n",
      "reference: ('channel_calibration', 'iq_ro_q1') : 4112\n",
      "load_exdir: file open time:  0.00099945068359375\n"
     ]
    },
    {
     "name": "stderr",
     "output_type": "stream",
     "text": [
      "C:\\ProgramData\\Anaconda3\\lib\\site-packages\\scipy\\signal\\signaltools.py:491: FutureWarning:\n",
      "\n",
      "Using a non-tuple sequence for multidimensional indexing is deprecated; use `arr[tuple(seq)]` instead of `arr[seq]`. In the future this will be interpreted as an array index, `arr[np.array(seq)]`, which will result either in an error or a different result.\n",
      "\n",
      "C:\\ProgramData\\Anaconda3\\lib\\site-packages\\scipy\\fftpack\\basic.py:160: FutureWarning:\n",
      "\n",
      "Using a non-tuple sequence for multidimensional indexing is deprecated; use `arr[tuple(seq)]` instead of `arr[seq]`. In the future this will be interpreted as an array index, `arr[np.array(seq)]`, which will result either in an error or a different result.\n",
      "\n"
     ]
    },
    {
     "name": "stdout",
     "output_type": "stream",
     "text": [
      "reference: calibration : 4198\n",
      "Traceback (most recent call last):\n",
      "  File \"C:\\qtlab_replacement\\qsweepy\\awg_digital.py\", line 61, in validate_modem_delay_calibration\n",
      "    references_that={'calibration':calibration_measurement.id}, metadata=validation_metadata)\n",
      "  File \"C:\\qtlab_replacement\\qsweepy\\exdir_db.py\", line 48, in select_measurement\n",
      "    return save_exdir.load_exdir(list(measurement_db_list.order_by(lambda d: desc(d.id)).limit(1))[0].filename, db=self.db)\n",
      "IndexError: list index out of range\n",
      "\n",
      "Inserting references: {'calibration': 4198}\n",
      "Validation measurement (delay): -4e-09\n",
      "reference: delay_measurement : 4241\n",
      "list index out of range <class 'IndexError'>\n",
      "Waiting to join deferred threads:\n",
      "Inserting references: {'delay_measurement': 4241}\n",
      "reference: delay_measurement : 4241\n",
      "list index out of range <class 'IndexError'>\n",
      "(49750, 2) (49750,)\n",
      "Inserting references: {'delay_measurement': 4241}\n",
      "reference: delay_measurement : 4241\n",
      "list index out of range <class 'IndexError'>\n"
     ]
    },
    {
     "name": "stderr",
     "output_type": "stream",
     "text": [
      "C:\\qtlab_replacement\\qsweepy\\modem_readout.py:173: FutureWarning:\n",
      "\n",
      "`rcond` parameter will change to the default of machine precision times ``max(M, N)`` where M and N are the input matrix dimensions.\n",
      "To use the future default and silence this warning we advise to pass `rcond=None`, to keep using the old, explicitly pass `rcond=-1`.\n",
      "\n"
     ]
    },
    {
     "name": "stdout",
     "output_type": "stream",
     "text": [
      "(49750, 2) (49750,)\n",
      "Inserting references: {'delay_measurement': 4241}\n"
     ]
    },
    {
     "data": {
      "text/plain": [
       "<qsweepy.modem_readout.modem_readout at 0x21300f46e10>"
      ]
     },
     "execution_count": 29,
     "metadata": {},
     "output_type": "execute_result"
    }
   ],
   "source": []
  },
  {
   "cell_type": "code",
   "execution_count": 30,
   "metadata": {
    "ExecuteTime": {
     "end_time": "2019-07-07T05:47:33.694211Z",
     "start_time": "2019-07-07T05:44:52.643090Z"
    }
   },
   "outputs": [
    {
     "name": "stdout",
     "output_type": "stream",
     "text": [
      "load_exdir: file open time:  0.0019989013671875\n",
      "load_exdir: file open time:  0.0019986629486083984\n",
      "load_exdir: file open time:  0.0029990673065185547\n",
      "load_exdir: file open time:  0.001999378204345703\n",
      "reference: channel_calibration_iq_ex1_q1 : 4230\n",
      "Inserting references: {'channel_calibration_iq_ex1_q1': 4230}\n",
      "c:\\data\\2019-07-06\\004190-fit_dataset_1d-1906-001_1_down\n",
      "load_exdir: file open time:  0.0019989013671875\n",
      "Failed loading fit results of Rabi measurement 4189\n",
      "c:\\data\\2019-07-06\\004062-fit_dataset_1d-1906-001_1_down\n",
      "load_exdir: file open time:  0.0010004043579101562\n"
     ]
    },
    {
     "name": "stderr",
     "output_type": "stream",
     "text": [
      "Traceback (most recent call last):\n",
      "  File \"C:\\qtlab_replacement\\qsweepy\\qubit_calibrations\\excitation_pulse.py\", line 91, in get_excitation_pulse\n",
      "    assert(int(Rabi_fit.metadata['frequency_goodness_test']))\n",
      "AssertionError\n",
      "C:\\ProgramData\\Anaconda3\\lib\\site-packages\\pony\\orm\\core.py:2518: DatabaseContainsIncorrectEmptyValue:\n",
      "\n",
      "Database contains empty string for required attribute Reference.ref_comment\n",
      "\n"
     ]
    },
    {
     "name": "stdout",
     "output_type": "stream",
     "text": [
      "Failed loading fit results of Rabi measurement 4061\n",
      "c:\\data\\2019-07-06\\004068-fit_dataset_1d-1906-001_1_down\n",
      "load_exdir: file open time:  0.0019996166229248047\n"
     ]
    },
    {
     "name": "stderr",
     "output_type": "stream",
     "text": [
      "Traceback (most recent call last):\n",
      "  File \"C:\\qtlab_replacement\\qsweepy\\qubit_calibrations\\excitation_pulse.py\", line 91, in get_excitation_pulse\n",
      "    assert(int(Rabi_fit.metadata['frequency_goodness_test']))\n",
      "AssertionError\n"
     ]
    },
    {
     "name": "stdout",
     "output_type": "stream",
     "text": [
      "Failed loading fit results of Rabi measurement 4067\n",
      "c:\\data\\2019-07-06\\004066-fit_dataset_1d-1906-001_1_down\n",
      "load_exdir: file open time:  0.001999378204345703\n"
     ]
    },
    {
     "name": "stderr",
     "output_type": "stream",
     "text": [
      "Traceback (most recent call last):\n",
      "  File \"C:\\qtlab_replacement\\qsweepy\\qubit_calibrations\\excitation_pulse.py\", line 91, in get_excitation_pulse\n",
      "    assert(int(Rabi_fit.metadata['frequency_goodness_test']))\n",
      "AssertionError\n"
     ]
    },
    {
     "name": "stdout",
     "output_type": "stream",
     "text": [
      "Failed loading fit results of Rabi measurement 4065\n",
      "c:\\data\\2019-07-06\\004205-fit_dataset_1d-1906-001_1_down\n",
      "load_exdir: file open time:  0.0019989013671875\n"
     ]
    },
    {
     "name": "stderr",
     "output_type": "stream",
     "text": [
      "Traceback (most recent call last):\n",
      "  File \"C:\\qtlab_replacement\\qsweepy\\qubit_calibrations\\excitation_pulse.py\", line 91, in get_excitation_pulse\n",
      "    assert(int(Rabi_fit.metadata['frequency_goodness_test']))\n",
      "AssertionError\n"
     ]
    },
    {
     "name": "stdout",
     "output_type": "stream",
     "text": [
      "channel_amplitudes_override:  4245 {'iq_ex1_q1': '1.0'}\n",
      "reference:  4057 MetadataSet([Metadata[Data[4057],'iq_ex1_q1']])\n",
      "Failed loading fit results of Rabi measurement 4204\n",
      "c:\\data\\2019-07-06\\004208-fit_dataset_1d-1906-001_1_down\n",
      "load_exdir: file open time:  0.001999378204345703\n"
     ]
    },
    {
     "name": "stderr",
     "output_type": "stream",
     "text": [
      "Traceback (most recent call last):\n",
      "  File \"C:\\qtlab_replacement\\qsweepy\\qubit_calibrations\\excitation_pulse.py\", line 101, in get_excitation_pulse\n",
      "    assert channel_amplitudes_override.id == reference.that.id  ## if we are looking for a specific channel_amplitudes, skip all the others\n",
      "AssertionError\n"
     ]
    },
    {
     "name": "stdout",
     "output_type": "stream",
     "text": [
      "Failed loading fit results of Rabi measurement 4207\n",
      "c:\\data\\2019-07-06\\004210-fit_dataset_1d-1906-001_1_down\n",
      "load_exdir: file open time:  0.0019915103912353516\n"
     ]
    },
    {
     "name": "stderr",
     "output_type": "stream",
     "text": [
      "Traceback (most recent call last):\n",
      "  File \"C:\\qtlab_replacement\\qsweepy\\qubit_calibrations\\excitation_pulse.py\", line 91, in get_excitation_pulse\n",
      "    assert(int(Rabi_fit.metadata['frequency_goodness_test']))\n",
      "AssertionError\n"
     ]
    },
    {
     "name": "stdout",
     "output_type": "stream",
     "text": [
      "channel_amplitudes_override:  4245 {'iq_ex1_q1': '1.0'}\n",
      "reference:  4064 MetadataSet([Metadata[Data[4064],'iq_ex3_q1']])\n",
      "Failed loading fit results of Rabi measurement 4209\n",
      "c:\\data\\2019-07-06\\004090-fit_dataset_1d-1906-001_1_down\n",
      "load_exdir: file open time:  0.0009996891021728516\n"
     ]
    },
    {
     "name": "stderr",
     "output_type": "stream",
     "text": [
      "Traceback (most recent call last):\n",
      "  File \"C:\\qtlab_replacement\\qsweepy\\qubit_calibrations\\excitation_pulse.py\", line 101, in get_excitation_pulse\n",
      "    assert channel_amplitudes_override.id == reference.that.id  ## if we are looking for a specific channel_amplitudes, skip all the others\n",
      "AssertionError\n"
     ]
    },
    {
     "name": "stdout",
     "output_type": "stream",
     "text": [
      "Failed loading fit results of Rabi measurement 4089\n",
      "c:\\data\\2019-07-06\\004096-fit_dataset_1d-1906-001_1_down\n",
      "load_exdir: file open time:  0.001985788345336914\n"
     ]
    },
    {
     "name": "stderr",
     "output_type": "stream",
     "text": [
      "Traceback (most recent call last):\n",
      "  File \"C:\\qtlab_replacement\\qsweepy\\qubit_calibrations\\excitation_pulse.py\", line 91, in get_excitation_pulse\n",
      "    assert(int(Rabi_fit.metadata['frequency_goodness_test']))\n",
      "AssertionError\n"
     ]
    },
    {
     "name": "stdout",
     "output_type": "stream",
     "text": [
      "Failed loading fit results of Rabi measurement 4095\n",
      "c:\\data\\2019-07-06\\004108-fit_dataset_1d-1906-001_1_down\n",
      "load_exdir: file open time:  0.0019989013671875\n"
     ]
    },
    {
     "name": "stderr",
     "output_type": "stream",
     "text": [
      "Traceback (most recent call last):\n",
      "  File \"C:\\qtlab_replacement\\qsweepy\\qubit_calibrations\\excitation_pulse.py\", line 91, in get_excitation_pulse\n",
      "    assert(int(Rabi_fit.metadata['frequency_goodness_test']))\n",
      "AssertionError\n"
     ]
    },
    {
     "name": "stdout",
     "output_type": "stream",
     "text": [
      "Failed loading fit results of Rabi measurement 4107\n",
      "c:\\data\\2019-07-06\\004122-fit_dataset_1d-1906-001_1_down\n",
      "load_exdir: file open time:  0.0009996891021728516\n"
     ]
    },
    {
     "name": "stderr",
     "output_type": "stream",
     "text": [
      "Traceback (most recent call last):\n",
      "  File \"C:\\qtlab_replacement\\qsweepy\\qubit_calibrations\\excitation_pulse.py\", line 91, in get_excitation_pulse\n",
      "    assert(int(Rabi_fit.metadata['frequency_goodness_test']))\n",
      "AssertionError\n"
     ]
    },
    {
     "name": "stdout",
     "output_type": "stream",
     "text": [
      "Failed loading fit results of Rabi measurement 4121\n",
      "c:\\data\\2019-07-06\\004127-fit_dataset_1d-1906-001_1_down\n",
      "load_exdir: file open time:  0.0019998550415039062\n"
     ]
    },
    {
     "name": "stderr",
     "output_type": "stream",
     "text": [
      "Traceback (most recent call last):\n",
      "  File \"C:\\qtlab_replacement\\qsweepy\\qubit_calibrations\\excitation_pulse.py\", line 91, in get_excitation_pulse\n",
      "    assert(int(Rabi_fit.metadata['frequency_goodness_test']))\n",
      "AssertionError\n"
     ]
    },
    {
     "name": "stdout",
     "output_type": "stream",
     "text": [
      "Failed loading fit results of Rabi measurement 4126\n",
      "c:\\data\\2019-07-06\\004130-fit_dataset_1d-1906-001_1_down\n",
      "load_exdir: file open time:  0.002000570297241211\n"
     ]
    },
    {
     "name": "stderr",
     "output_type": "stream",
     "text": [
      "Traceback (most recent call last):\n",
      "  File \"C:\\qtlab_replacement\\qsweepy\\qubit_calibrations\\excitation_pulse.py\", line 91, in get_excitation_pulse\n",
      "    assert(int(Rabi_fit.metadata['frequency_goodness_test']))\n",
      "AssertionError\n"
     ]
    },
    {
     "name": "stdout",
     "output_type": "stream",
     "text": [
      "Failed loading fit results of Rabi measurement 4129\n",
      "c:\\data\\2019-07-06\\004135-fit_dataset_1d-1906-001_1_down\n",
      "load_exdir: file open time:  0.0019998550415039062\n"
     ]
    },
    {
     "name": "stderr",
     "output_type": "stream",
     "text": [
      "Traceback (most recent call last):\n",
      "  File \"C:\\qtlab_replacement\\qsweepy\\qubit_calibrations\\excitation_pulse.py\", line 91, in get_excitation_pulse\n",
      "    assert(int(Rabi_fit.metadata['frequency_goodness_test']))\n",
      "AssertionError\n"
     ]
    },
    {
     "name": "stdout",
     "output_type": "stream",
     "text": [
      "Failed loading fit results of Rabi measurement 4134\n",
      "c:\\data\\2019-07-06\\004155-fit_dataset_1d-1906-001_1_down\n",
      "load_exdir: file open time:  0.0019996166229248047\n"
     ]
    },
    {
     "name": "stderr",
     "output_type": "stream",
     "text": [
      "Traceback (most recent call last):\n",
      "  File \"C:\\qtlab_replacement\\qsweepy\\qubit_calibrations\\excitation_pulse.py\", line 91, in get_excitation_pulse\n",
      "    assert(int(Rabi_fit.metadata['frequency_goodness_test']))\n",
      "AssertionError\n"
     ]
    },
    {
     "name": "stdout",
     "output_type": "stream",
     "text": [
      "Failed loading fit results of Rabi measurement 4154\n",
      "c:\\data\\2019-07-06\\004160-fit_dataset_1d-1906-001_1_down\n",
      "load_exdir: file open time:  0.0019996166229248047\n"
     ]
    },
    {
     "name": "stderr",
     "output_type": "stream",
     "text": [
      "Traceback (most recent call last):\n",
      "  File \"C:\\qtlab_replacement\\qsweepy\\qubit_calibrations\\excitation_pulse.py\", line 91, in get_excitation_pulse\n",
      "    assert(int(Rabi_fit.metadata['frequency_goodness_test']))\n",
      "AssertionError\n"
     ]
    },
    {
     "name": "stdout",
     "output_type": "stream",
     "text": [
      "Failed loading fit results of Rabi measurement 4159\n",
      "c:\\data\\2019-07-06\\004173-fit_dataset_1d-1906-001_1_down\n",
      "load_exdir: file open time:  0.0019998550415039062\n"
     ]
    },
    {
     "name": "stderr",
     "output_type": "stream",
     "text": [
      "Traceback (most recent call last):\n",
      "  File \"C:\\qtlab_replacement\\qsweepy\\qubit_calibrations\\excitation_pulse.py\", line 91, in get_excitation_pulse\n",
      "    assert(int(Rabi_fit.metadata['frequency_goodness_test']))\n",
      "AssertionError\n"
     ]
    },
    {
     "name": "stdout",
     "output_type": "stream",
     "text": [
      "Failed loading fit results of Rabi measurement 4172\n",
      "c:\\data\\2019-07-06\\004169-fit_dataset_1d-1906-001_1_down\n",
      "load_exdir: file open time:  0.0010008811950683594\n"
     ]
    },
    {
     "name": "stderr",
     "output_type": "stream",
     "text": [
      "Traceback (most recent call last):\n",
      "  File \"C:\\qtlab_replacement\\qsweepy\\qubit_calibrations\\excitation_pulse.py\", line 91, in get_excitation_pulse\n",
      "    assert(int(Rabi_fit.metadata['frequency_goodness_test']))\n",
      "AssertionError\n"
     ]
    },
    {
     "name": "stdout",
     "output_type": "stream",
     "text": [
      "Failed loading fit results of Rabi measurement 4168\n",
      "c:\\data\\2019-07-06\\004171-fit_dataset_1d-1906-001_1_down\n",
      "load_exdir: file open time:  0.0019872188568115234\n"
     ]
    },
    {
     "name": "stderr",
     "output_type": "stream",
     "text": [
      "Traceback (most recent call last):\n",
      "  File \"C:\\qtlab_replacement\\qsweepy\\qubit_calibrations\\excitation_pulse.py\", line 91, in get_excitation_pulse\n",
      "    assert(int(Rabi_fit.metadata['frequency_goodness_test']))\n",
      "AssertionError\n"
     ]
    },
    {
     "name": "stdout",
     "output_type": "stream",
     "text": [
      "Failed loading fit results of Rabi measurement 4170\n",
      "c:\\data\\2019-07-06\\004177-fit_dataset_1d-1906-001_1_down\n",
      "load_exdir: file open time:  0.0009992122650146484\n"
     ]
    },
    {
     "name": "stderr",
     "output_type": "stream",
     "text": [
      "Traceback (most recent call last):\n",
      "  File \"C:\\qtlab_replacement\\qsweepy\\qubit_calibrations\\excitation_pulse.py\", line 91, in get_excitation_pulse\n",
      "    assert(int(Rabi_fit.metadata['frequency_goodness_test']))\n",
      "AssertionError\n"
     ]
    },
    {
     "name": "stdout",
     "output_type": "stream",
     "text": [
      "Failed loading fit results of Rabi measurement 4176\n",
      "c:\\data\\2019-07-06\\004175-fit_dataset_1d-1906-001_1_down\n",
      "load_exdir: file open time:  0.0019927024841308594\n"
     ]
    },
    {
     "name": "stderr",
     "output_type": "stream",
     "text": [
      "Traceback (most recent call last):\n",
      "  File \"C:\\qtlab_replacement\\qsweepy\\qubit_calibrations\\excitation_pulse.py\", line 91, in get_excitation_pulse\n",
      "    assert(int(Rabi_fit.metadata['frequency_goodness_test']))\n",
      "AssertionError\n"
     ]
    },
    {
     "name": "stdout",
     "output_type": "stream",
     "text": [
      "Failed loading fit results of Rabi measurement 4174\n",
      "c:\\data\\2019-07-06\\004179-fit_dataset_1d-1906-001_1_down\n",
      "load_exdir: file open time:  0.0019986629486083984\n"
     ]
    },
    {
     "name": "stderr",
     "output_type": "stream",
     "text": [
      "Traceback (most recent call last):\n",
      "  File \"C:\\qtlab_replacement\\qsweepy\\qubit_calibrations\\excitation_pulse.py\", line 91, in get_excitation_pulse\n",
      "    assert(int(Rabi_fit.metadata['frequency_goodness_test']))\n",
      "AssertionError\n"
     ]
    },
    {
     "name": "stdout",
     "output_type": "stream",
     "text": [
      "Failed loading fit results of Rabi measurement 4178\n",
      "c:\\data\\2019-07-06\\004188-fit_dataset_1d-1906-001_1_down\n",
      "load_exdir: file open time:  0.0009989738464355469\n"
     ]
    },
    {
     "name": "stderr",
     "output_type": "stream",
     "text": [
      "Traceback (most recent call last):\n",
      "  File \"C:\\qtlab_replacement\\qsweepy\\qubit_calibrations\\excitation_pulse.py\", line 91, in get_excitation_pulse\n",
      "    assert(int(Rabi_fit.metadata['frequency_goodness_test']))\n",
      "AssertionError\n"
     ]
    },
    {
     "name": "stdout",
     "output_type": "stream",
     "text": [
      "Failed loading fit results of Rabi measurement 4187\n",
      "ex_channels_found:  []\n",
      "load_exdir: file open time:  0.0009996891021728516\n",
      "load_exdir: file open time:  0.0010004043579101562\n",
      "load_exdir: file open time:  0.0009999275207519531\n",
      "load_exdir: file open time:  0.0010008811950683594\n",
      "0 1.0000000000000001e-07 1e-09\n",
      "load_exdir: file open time:  0.0009996891021728516\n",
      "load_exdir: file open time:  0.0009984970092773438\n",
      "reference: channel_calibration : 4112\n",
      "load_exdir: file open time:  0.0010004043579101562\n"
     ]
    },
    {
     "name": "stderr",
     "output_type": "stream",
     "text": [
      "Traceback (most recent call last):\n",
      "  File \"C:\\qtlab_replacement\\qsweepy\\qubit_calibrations\\excitation_pulse.py\", line 91, in get_excitation_pulse\n",
      "    assert(int(Rabi_fit.metadata['frequency_goodness_test']))\n",
      "AssertionError\n"
     ]
    },
    {
     "name": "stdout",
     "output_type": "stream",
     "text": [
      "reference: passthrough_measurement : 4165\n",
      "load_exdir: file open time:  0.0019996166229248047\n",
      "load_exdir: file open time:  0.0009996891021728516\n",
      "reference: readout_pulse : 4166\n",
      "reference: modem_calibration : 4243\n",
      "None\n",
      "load_exdir: file open time:  0.0009992122650146484\n",
      "load_exdir: file open time:  0.0009992122650146484\n"
     ]
    },
    {
     "name": "stderr",
     "output_type": "stream",
     "text": [
      "Traceback (most recent call last):\n",
      "  File \"C:\\qtlab_replacement\\qsweepy\\qubit_calibrations\\readout_pulse.py\", line 86, in get_readout_background_calibration\n",
      "    return device.exdir_db.select_measurement(measurement_type='readout_background_calibration', metadata=metadata, references_that=references)\n",
      "  File \"C:\\qtlab_replacement\\qsweepy\\exdir_db.py\", line 48, in select_measurement\n",
      "    return save_exdir.load_exdir(list(measurement_db_list.order_by(lambda d: desc(d.id)).limit(1))[0].filename, db=self.db)\n",
      "IndexError: list index out of range\n"
     ]
    },
    {
     "name": "stdout",
     "output_type": "stream",
     "text": [
      "load_exdir: file open time:  0.0010173320770263672\n"
     ]
    },
    {
     "name": "stderr",
     "output_type": "stream",
     "text": [
      "C:\\qtlab_replacement\\qsweepy\\instrument_drivers\\Tektronix_AWG5014.py:651: ComplexWarning:\n",
      "\n",
      "Casting complex values to real discards the imaginary part\n",
      "\n",
      "C:\\ProgramData\\Anaconda3\\lib\\site-packages\\pyvisa\\resources\\messagebased.py:573: FutureWarning:\n",
      "\n",
      "ask is deprecated and will be removed in 1.10, use query instead.\n",
      "\n"
     ]
    },
    {
     "name": "stdout",
     "output_type": "stream",
     "text": [
      "load_exdir: file open time:  0.0020058155059814453\n",
      "Inserting references: {'readout_pulse': 4166, 'modem_calibration': 4243, 'channel_calibration': 4112}\n",
      "Waiting to join deferred threads:\n",
      "load_exdir: file open time:  0.0020112991333007812\n",
      "load_exdir: file open time:  0.0009982585906982422\n",
      "load_exdir: file open time:  0.0009989738464355469\n",
      "load time:  0.09195733070373535\n",
      "pre_trace_time:  0.0009989738464355469\n",
      "trace 0 time:  0.015996217727661133\n",
      "trace 1 time:  0.028987407684326172\n",
      "trace 2 time:  0.04195666313171387\n",
      "trace 3 time:  0.05397605895996094\n",
      "trace 4 time:  0.06796622276306152\n"
     ]
    },
    {
     "name": "stderr",
     "output_type": "stream",
     "text": [
      "C:\\ProgramData\\Anaconda3\\lib\\site-packages\\numpy\\core\\memmap.py:335: FutureWarning:\n",
      "\n",
      "Using a non-tuple sequence for multidimensional indexing is deprecated; use `arr[tuple(seq)]` instead of `arr[seq]`. In the future this will be interpreted as an array index, `arr[np.array(seq)]`, which will result either in an error or a different result.\n",
      "\n"
     ]
    },
    {
     "name": "stdout",
     "output_type": "stream",
     "text": [
      "load_exdir: file open time:  0.0020248889923095703\n",
      "Inserting references: {'channel_amplitudes': 4245, 'readout_background_calibration': 4246}\n",
      "Inserting references: {'fit_source': 4247}\n"
     ]
    },
    {
     "name": "stderr",
     "output_type": "stream",
     "text": [
      "Traceback (most recent call last):\n",
      "  File \"C:\\qtlab_replacement\\qsweepy\\fitters\\exp_sin.py\", line 23, in exp_sin_fit\n",
      "    raise ValueError\n",
      "ValueError\n",
      "Traceback (most recent call last):\n",
      "  File \"C:\\qtlab_replacement\\qsweepy\\fitters\\exp_sin.py\", line 23, in exp_sin_fit\n",
      "    raise ValueError\n",
      "ValueError\n",
      "Traceback (most recent call last):\n",
      "  File \"C:\\qtlab_replacement\\qsweepy\\fitters\\exp_sin.py\", line 23, in exp_sin_fit\n",
      "    raise ValueError\n",
      "ValueError\n",
      "Traceback (most recent call last):\n",
      "  File \"C:\\qtlab_replacement\\qsweepy\\fitters\\exp_sin.py\", line 23, in exp_sin_fit\n",
      "    raise ValueError\n",
      "ValueError\n",
      "Traceback (most recent call last):\n",
      "  File \"C:\\qtlab_replacement\\qsweepy\\fitters\\exp_sin.py\", line 23, in exp_sin_fit\n",
      "    raise ValueError\n",
      "ValueError\n",
      "C:\\ProgramData\\Anaconda3\\lib\\site-packages\\scipy\\optimize\\minpack.py:436: RuntimeWarning:\n",
      "\n",
      "Number of calls to function has reached maxfev = 200.\n",
      "\n"
     ]
    },
    {
     "ename": "KeyboardInterrupt",
     "evalue": "",
     "output_type": "error",
     "traceback": [
      "\u001b[1;31m---------------------------------------------------------------------------\u001b[0m",
      "\u001b[1;31mKeyboardInterrupt\u001b[0m                         Traceback (most recent call last)",
      "\u001b[1;32m<ipython-input-30-629792d2a489>\u001b[0m in \u001b[0;36m<module>\u001b[1;34m()\u001b[0m\n\u001b[0;32m     16\u001b[0m \u001b[1;31m#Rabi.Rabi_rect_adaptive(device, '3', channel_amplitudes.channel_amplitudes(device, iq_ex1_q3=1.0))\u001b[0m\u001b[1;33m\u001b[0m\u001b[1;33m\u001b[0m\u001b[0m\n\u001b[0;32m     17\u001b[0m \u001b[1;31m#Rabi.Rabi_rect_adaptive(device, '3', channel_amplitudes.channel_amplitudes(device, iq_ex3_q3=1.0))\u001b[0m\u001b[1;33m\u001b[0m\u001b[1;33m\u001b[0m\u001b[0m\n\u001b[1;32m---> 18\u001b[1;33m \u001b[0mRabi\u001b[0m\u001b[1;33m.\u001b[0m\u001b[0mcalibrate_all_single_channel_Rabi\u001b[0m\u001b[1;33m(\u001b[0m\u001b[0mdevice\u001b[0m\u001b[1;33m)\u001b[0m\u001b[1;33m\u001b[0m\u001b[0m\n\u001b[0m",
      "\u001b[1;32mC:\\qtlab_replacement\\qsweepy\\qubit_calibrations\\Rabi.py\u001b[0m in \u001b[0;36mcalibrate_all_single_channel_Rabi\u001b[1;34m(device, remove_bad)\u001b[0m\n\u001b[0;32m     71\u001b[0m                         \u001b[0mch\u001b[0m \u001b[1;33m=\u001b[0m \u001b[0mchannel_amplitudes\u001b[0m\u001b[1;33m(\u001b[0m\u001b[0mdevice\u001b[0m\u001b[1;33m,\u001b[0m \u001b[1;33m**\u001b[0m\u001b[1;33m{\u001b[0m\u001b[0mchannel_name\u001b[0m\u001b[1;33m:\u001b[0m\u001b[0mamplitude_default\u001b[0m\u001b[1;33m}\u001b[0m\u001b[1;33m)\u001b[0m\u001b[1;33m\u001b[0m\u001b[0m\n\u001b[0;32m     72\u001b[0m                         \u001b[1;32mtry\u001b[0m\u001b[1;33m:\u001b[0m\u001b[1;33m\u001b[0m\u001b[0m\n\u001b[1;32m---> 73\u001b[1;33m                                 \u001b[0mexcitation_pulse\u001b[0m\u001b[1;33m.\u001b[0m\u001b[0mget_excitation_pulse\u001b[0m\u001b[1;33m(\u001b[0m\u001b[0mdevice\u001b[0m\u001b[1;33m,\u001b[0m \u001b[0mqubit_id\u001b[0m\u001b[1;33m,\u001b[0m \u001b[0mnp\u001b[0m\u001b[1;33m.\u001b[0m\u001b[0mpi\u001b[0m\u001b[1;33m/\u001b[0m\u001b[1;36m2.\u001b[0m\u001b[1;33m,\u001b[0m \u001b[0mchannel_amplitudes_override\u001b[0m\u001b[1;33m=\u001b[0m\u001b[0mch\u001b[0m\u001b[1;33m)\u001b[0m\u001b[1;33m\u001b[0m\u001b[0m\n\u001b[0m\u001b[0;32m     74\u001b[0m                                 \u001b[0mqubit_channel_calibrated\u001b[0m\u001b[1;33m[\u001b[0m\u001b[0mchannel_name\u001b[0m\u001b[1;33m]\u001b[0m \u001b[1;33m=\u001b[0m \u001b[0mdevice_name\u001b[0m\u001b[1;33m\u001b[0m\u001b[0m\n\u001b[0;32m     75\u001b[0m                         \u001b[1;32mexcept\u001b[0m \u001b[0mException\u001b[0m \u001b[1;32mas\u001b[0m \u001b[0me\u001b[0m\u001b[1;33m:\u001b[0m\u001b[1;33m\u001b[0m\u001b[0m\n",
      "\u001b[1;32mC:\\qtlab_replacement\\qsweepy\\qubit_calibrations\\excitation_pulse.py\u001b[0m in \u001b[0;36mget_excitation_pulse\u001b[1;34m(device, qubit_id, rotation_angle, channel_amplitudes_override)\u001b[0m\n\u001b[0;32m    122\u001b[0m         \u001b[1;32melse\u001b[0m\u001b[1;33m:\u001b[0m\u001b[1;33m\u001b[0m\u001b[0m\n\u001b[0;32m    123\u001b[0m                 \u001b[1;32mif\u001b[0m \u001b[1;32mnot\u001b[0m \u001b[0mlen\u001b[0m\u001b[1;33m(\u001b[0m\u001b[0mex_channels_found\u001b[0m\u001b[1;33m)\u001b[0m\u001b[1;33m:\u001b[0m\u001b[1;33m\u001b[0m\u001b[0m\n\u001b[1;32m--> 124\u001b[1;33m                         \u001b[0mRabi_fit\u001b[0m \u001b[1;33m=\u001b[0m \u001b[0mRabi\u001b[0m\u001b[1;33m.\u001b[0m\u001b[0mRabi_rect_adaptive\u001b[0m\u001b[1;33m(\u001b[0m\u001b[0mdevice\u001b[0m\u001b[1;33m,\u001b[0m \u001b[0mqubit_id\u001b[0m\u001b[1;33m,\u001b[0m \u001b[0mchannel_amplitudes_override\u001b[0m\u001b[1;33m)\u001b[0m\u001b[1;33m.\u001b[0m\u001b[0mfit\u001b[0m\u001b[1;33m\u001b[0m\u001b[0m\n\u001b[0m\u001b[0;32m    125\u001b[0m \t\t\tRabi_goodness.append({'fit_id': Rabi_fit.id,\n\u001b[0;32m    126\u001b[0m \t\t\t\t\t\t\t\t\t  'score': min([float(Rabi_fit.metadata['num_periods_scan']), \n",
      "\u001b[1;32mC:\\qtlab_replacement\\qsweepy\\qubit_calibrations\\Rabi.py\u001b[0m in \u001b[0;36mRabi_rect_adaptive\u001b[1;34m(device, qubit_id, channel_amplitudes)\u001b[0m\n\u001b[0;32m     56\u001b[0m         \u001b[0mprint\u001b[0m \u001b[1;33m(\u001b[0m\u001b[1;36m0\u001b[0m\u001b[1;33m,\u001b[0m \u001b[0mmin_step\u001b[0m\u001b[1;33m*\u001b[0m\u001b[0mscan_points\u001b[0m\u001b[1;33m,\u001b[0m \u001b[0mmin_step\u001b[0m\u001b[1;33m)\u001b[0m\u001b[1;33m\u001b[0m\u001b[0m\n\u001b[0;32m     57\u001b[0m         \u001b[1;32mwhile\u001b[0m \u001b[1;32mnot\u001b[0m \u001b[1;33m(\u001b[0m\u001b[0mgood_fit\u001b[0m \u001b[1;32mor\u001b[0m \u001b[0mnp\u001b[0m\u001b[1;33m.\u001b[0m\u001b[0mmax\u001b[0m\u001b[1;33m(\u001b[0m\u001b[0mlengths\u001b[0m\u001b[1;33m)\u001b[0m\u001b[1;33m>\u001b[0m\u001b[0mmax_scan_length\u001b[0m\u001b[1;33m)\u001b[0m\u001b[1;33m:\u001b[0m\u001b[1;33m\u001b[0m\u001b[0m\n\u001b[1;32m---> 58\u001b[1;33m                 \u001b[0mmeasurement\u001b[0m \u001b[1;33m=\u001b[0m \u001b[0mRabi_rect\u001b[0m\u001b[1;33m(\u001b[0m\u001b[0mdevice\u001b[0m\u001b[1;33m,\u001b[0m \u001b[0mqubit_id\u001b[0m\u001b[1;33m,\u001b[0m \u001b[0mchannel_amplitudes\u001b[0m\u001b[1;33m,\u001b[0m \u001b[0mlengths\u001b[0m\u001b[1;33m=\u001b[0m\u001b[0mlengths\u001b[0m\u001b[1;33m)\u001b[0m\u001b[1;33m\u001b[0m\u001b[0m\n\u001b[0m\u001b[0;32m     59\u001b[0m                 \u001b[0mfit_results\u001b[0m \u001b[1;33m=\u001b[0m \u001b[0mmeasurement\u001b[0m\u001b[1;33m.\u001b[0m\u001b[0mfit\u001b[0m\u001b[1;33m.\u001b[0m\u001b[0mmetadata\u001b[0m\u001b[1;33m\u001b[0m\u001b[0m\n\u001b[0;32m     60\u001b[0m                 \u001b[1;32mif\u001b[0m \u001b[0mint\u001b[0m\u001b[1;33m(\u001b[0m\u001b[0mfit_results\u001b[0m\u001b[1;33m[\u001b[0m\u001b[1;34m'frequency_goodness_test'\u001b[0m\u001b[1;33m]\u001b[0m\u001b[1;33m)\u001b[0m\u001b[1;33m:\u001b[0m\u001b[1;33m\u001b[0m\u001b[0m\n",
      "\u001b[1;32mC:\\qtlab_replacement\\qsweepy\\qubit_calibrations\\Rabi.py\u001b[0m in \u001b[0;36mRabi_rect\u001b[1;34m(device, qubit_id, channel_amplitudes, lengths, tail_length, readout_delay, *extra_sweep_args)\u001b[0m\n\u001b[0;32m     37\u001b[0m                                                                                           \u001b[0mmeasurement_type\u001b[0m\u001b[1;33m=\u001b[0m\u001b[1;34m'Rabi_rect'\u001b[0m\u001b[1;33m,\u001b[0m\u001b[1;33m\u001b[0m\u001b[0m\n\u001b[0;32m     38\u001b[0m                                                                                           \u001b[0mmetadata\u001b[0m\u001b[1;33m=\u001b[0m\u001b[1;33m{\u001b[0m\u001b[1;34m'qubit_id'\u001b[0m\u001b[1;33m:\u001b[0m \u001b[0mqubit_id\u001b[0m\u001b[1;33m,\u001b[0m \u001b[1;34m'extra_sweep_args'\u001b[0m\u001b[1;33m:\u001b[0m\u001b[0mstr\u001b[0m\u001b[1;33m(\u001b[0m\u001b[0mlen\u001b[0m\u001b[1;33m(\u001b[0m\u001b[0mextra_sweep_args\u001b[0m\u001b[1;33m)\u001b[0m\u001b[1;33m)\u001b[0m\u001b[1;33m,\u001b[0m \u001b[1;34m'tail_length'\u001b[0m\u001b[1;33m:\u001b[0m\u001b[0mstr\u001b[0m\u001b[1;33m(\u001b[0m\u001b[0mtail_length\u001b[0m\u001b[1;33m)\u001b[0m\u001b[1;33m,\u001b[0m \u001b[1;34m'readout_delay'\u001b[0m\u001b[1;33m:\u001b[0m\u001b[0mstr\u001b[0m\u001b[1;33m(\u001b[0m\u001b[0mreadout_delay\u001b[0m\u001b[1;33m)\u001b[0m\u001b[1;33m}\u001b[0m\u001b[1;33m,\u001b[0m\u001b[1;33m\u001b[0m\u001b[0m\n\u001b[1;32m---> 39\u001b[1;33m \t\t\t\t\t\t\t\t\t\t\t  references=references)\n\u001b[0m\u001b[0;32m     40\u001b[0m \u001b[1;33m\u001b[0m\u001b[0m\n\u001b[0;32m     41\u001b[0m         \u001b[1;32mreturn\u001b[0m \u001b[0mmeasurement\u001b[0m\u001b[1;33m\u001b[0m\u001b[0m\n",
      "\u001b[1;32mC:\\qtlab_replacement\\qsweepy\\sweep_extras.py\u001b[0m in \u001b[0;36msweep_fit_dataset_1d_onfly\u001b[1;34m(self, on_start, on_update, on_finish, fitter_arguments, *args, **kwargs)\u001b[0m\n\u001b[0;32m     85\u001b[0m                                                    \u001b[0mon_update\u001b[0m \u001b[1;33m=\u001b[0m \u001b[0mon_update\u001b[0m\u001b[1;33m+\u001b[0m\u001b[0mself\u001b[0m\u001b[1;33m.\u001b[0m\u001b[0mon_update\u001b[0m\u001b[1;33m+\u001b[0m\u001b[0mself\u001b[0m\u001b[1;33m.\u001b[0m\u001b[0mon_update_fit\u001b[0m\u001b[1;33m,\u001b[0m\u001b[1;33m\u001b[0m\u001b[0m\n\u001b[0;32m     86\u001b[0m                                                    \u001b[0mon_finish\u001b[0m \u001b[1;33m=\u001b[0m \u001b[0mon_finish\u001b[0m\u001b[1;33m+\u001b[0m\u001b[0mself\u001b[0m\u001b[1;33m.\u001b[0m\u001b[0mon_finish\u001b[0m\u001b[1;33m+\u001b[0m\u001b[0mself\u001b[0m\u001b[1;33m.\u001b[0m\u001b[0mon_finish_fit\u001b[0m\u001b[1;33m,\u001b[0m\u001b[1;33m\u001b[0m\u001b[0m\n\u001b[1;32m---> 87\u001b[1;33m \t\t\t\t\t\t   **kwargs)\n\u001b[0m",
      "\u001b[1;32mC:\\qtlab_replacement\\qsweepy\\sweep.py\u001b[0m in \u001b[0;36msweep\u001b[1;34m(measurer, shuffle, on_start, on_update, on_finish, use_deferred, *parameters, **kwargs)\u001b[0m\n\u001b[0;32m    198\u001b[0m                         \u001b[0mmpoint\u001b[0m \u001b[1;33m=\u001b[0m \u001b[0mmeasurer\u001b[0m\u001b[1;33m.\u001b[0m\u001b[0mmeasure\u001b[0m\u001b[1;33m(\u001b[0m\u001b[1;33m)\u001b[0m\u001b[1;33m\u001b[0m\u001b[0m\n\u001b[0;32m    199\u001b[0m                         \u001b[1;31m#saving data to containers\u001b[0m\u001b[1;33m\u001b[0m\u001b[1;33m\u001b[0m\u001b[0m\n\u001b[1;32m--> 200\u001b[1;33m                         \u001b[0mset_single_measurement_result\u001b[0m\u001b[1;33m(\u001b[0m\u001b[0mmpoint\u001b[0m\u001b[1;33m,\u001b[0m \u001b[0mindeces\u001b[0m\u001b[1;33m)\u001b[0m\u001b[1;33m\u001b[0m\u001b[0m\n\u001b[0m\u001b[0;32m    201\u001b[0m \u001b[1;33m\u001b[0m\u001b[0m\n\u001b[0;32m    202\u001b[0m                 \u001b[0mstate\u001b[0m\u001b[1;33m.\u001b[0m\u001b[0mmeasurement_time\u001b[0m \u001b[1;33m+=\u001b[0m \u001b[0mtime\u001b[0m\u001b[1;33m.\u001b[0m\u001b[0mtime\u001b[0m\u001b[1;33m(\u001b[0m\u001b[1;33m)\u001b[0m \u001b[1;33m-\u001b[0m \u001b[0mmeasurement_start\u001b[0m\u001b[1;33m\u001b[0m\u001b[0m\n",
      "\u001b[1;32mC:\\qtlab_replacement\\qsweepy\\sweep.py\u001b[0m in \u001b[0;36mset_single_measurement_result\u001b[1;34m(single_measurement_result, indeces)\u001b[0m\n\u001b[0;32m    164\u001b[0m                 \u001b[1;32mfor\u001b[0m \u001b[0mevent_handler\u001b[0m\u001b[1;33m,\u001b[0m \u001b[0marguments\u001b[0m \u001b[1;32min\u001b[0m \u001b[0mon_update\u001b[0m\u001b[1;33m:\u001b[0m\u001b[1;33m\u001b[0m\u001b[0m\n\u001b[0;32m    165\u001b[0m                         \u001b[1;32mtry\u001b[0m\u001b[1;33m:\u001b[0m\u001b[1;33m\u001b[0m\u001b[0m\n\u001b[1;32m--> 166\u001b[1;33m                                 \u001b[0mevent_handler\u001b[0m\u001b[1;33m(\u001b[0m\u001b[0mstate\u001b[0m\u001b[1;33m,\u001b[0m \u001b[0mindeces\u001b[0m\u001b[1;33m,\u001b[0m \u001b[1;33m*\u001b[0m\u001b[0marguments\u001b[0m\u001b[1;33m)\u001b[0m\u001b[1;33m\u001b[0m\u001b[0m\n\u001b[0m\u001b[0;32m    167\u001b[0m                         \u001b[1;32mexcept\u001b[0m \u001b[0mException\u001b[0m \u001b[1;32mas\u001b[0m \u001b[0me\u001b[0m\u001b[1;33m:\u001b[0m\u001b[1;33m\u001b[0m\u001b[0m\n\u001b[0;32m    168\u001b[0m                                 \u001b[0mtraceback\u001b[0m\u001b[1;33m.\u001b[0m\u001b[0mprint_exc\u001b[0m\u001b[1;33m(\u001b[0m\u001b[1;33m)\u001b[0m\u001b[1;33m\u001b[0m\u001b[0m\n",
      "\u001b[1;32mC:\\qtlab_replacement\\qsweepy\\sweep_extras.py\u001b[0m in \u001b[0;36m<lambda>\u001b[1;34m(x, y)\u001b[0m\n\u001b[0;32m     51\u001b[0m \u001b[1;33m\u001b[0m\u001b[0m\n\u001b[0;32m     52\u001b[0m \t\tself.on_update_fit = [(lambda x, y: x.update_fit(x.fit, y),                       tuple()),\n\u001b[1;32m---> 53\u001b[1;33m                                                           \u001b[1;33m(\u001b[0m\u001b[1;32mlambda\u001b[0m \u001b[0mx\u001b[0m\u001b[1;33m,\u001b[0m \u001b[0my\u001b[0m\u001b[1;33m:\u001b[0m \u001b[0msave_exdir\u001b[0m\u001b[1;33m.\u001b[0m\u001b[0mupdate_exdir\u001b[0m\u001b[1;33m(\u001b[0m\u001b[0mx\u001b[0m\u001b[1;33m.\u001b[0m\u001b[0mfit\u001b[0m\u001b[1;33m,\u001b[0m \u001b[1;32mNone\u001b[0m\u001b[1;33m)\u001b[0m\u001b[1;33m,\u001b[0m         \u001b[0mtuple\u001b[0m\u001b[1;33m(\u001b[0m\u001b[1;33m)\u001b[0m\u001b[1;33m)\u001b[0m\u001b[1;33m,\u001b[0m\u001b[1;33m\u001b[0m\u001b[0m\n\u001b[0m\u001b[0;32m     54\u001b[0m \t\t\t\t\t\t\t  (lambda x, y: db.update_in_database(x.fit),     \t\t\t\t  tuple())]\n\u001b[0;32m     55\u001b[0m \u001b[1;33m\u001b[0m\u001b[0m\n",
      "\u001b[1;32mC:\\qtlab_replacement\\qsweepy\\save_exdir.py\u001b[0m in \u001b[0;36mupdate_exdir\u001b[1;34m(state, indeces)\u001b[0m\n\u001b[0;32m     74\u001b[0m \u001b[1;32mdef\u001b[0m \u001b[0mupdate_exdir\u001b[0m\u001b[1;33m(\u001b[0m\u001b[0mstate\u001b[0m\u001b[1;33m,\u001b[0m \u001b[0mindeces\u001b[0m\u001b[1;33m)\u001b[0m\u001b[1;33m:\u001b[0m\u001b[1;33m\u001b[0m\u001b[0m\n\u001b[0;32m     75\u001b[0m         \u001b[1;32mfor\u001b[0m \u001b[0mdataset\u001b[0m \u001b[1;32min\u001b[0m \u001b[0mstate\u001b[0m\u001b[1;33m.\u001b[0m\u001b[0mdatasets\u001b[0m\u001b[1;33m.\u001b[0m\u001b[0mkeys\u001b[0m\u001b[1;33m(\u001b[0m\u001b[1;33m)\u001b[0m\u001b[1;33m:\u001b[0m\u001b[1;33m\u001b[0m\u001b[0m\n\u001b[1;32m---> 76\u001b[1;33m                 \u001b[0mstate\u001b[0m\u001b[1;33m.\u001b[0m\u001b[0mexdir\u001b[0m\u001b[1;33m.\u001b[0m\u001b[0mattrs\u001b[0m\u001b[1;33m.\u001b[0m\u001b[0mupdate\u001b[0m\u001b[1;33m(\u001b[0m\u001b[0mstate\u001b[0m\u001b[1;33m.\u001b[0m\u001b[0mmetadata\u001b[0m\u001b[1;33m)\u001b[0m\u001b[1;33m\u001b[0m\u001b[0m\n\u001b[0m\u001b[0;32m     77\u001b[0m                 \u001b[1;32mtry\u001b[0m\u001b[1;33m:\u001b[0m\u001b[1;33m\u001b[0m\u001b[0m\n\u001b[0;32m     78\u001b[0m                         \u001b[0mstate\u001b[0m\u001b[1;33m.\u001b[0m\u001b[0mdatasets\u001b[0m\u001b[1;33m[\u001b[0m\u001b[0mdataset\u001b[0m\u001b[1;33m]\u001b[0m\u001b[1;33m.\u001b[0m\u001b[0mdata_exdir\u001b[0m\u001b[1;33m[\u001b[0m\u001b[0mtuple\u001b[0m\u001b[1;33m(\u001b[0m\u001b[0mindeces\u001b[0m\u001b[1;33m)\u001b[0m\u001b[1;33m]\u001b[0m \u001b[1;33m=\u001b[0m \u001b[0mstate\u001b[0m\u001b[1;33m.\u001b[0m\u001b[0mdatasets\u001b[0m\u001b[1;33m[\u001b[0m\u001b[0mdataset\u001b[0m\u001b[1;33m]\u001b[0m\u001b[1;33m.\u001b[0m\u001b[0mdata\u001b[0m\u001b[1;33m[\u001b[0m\u001b[0mtuple\u001b[0m\u001b[1;33m(\u001b[0m\u001b[0mindeces\u001b[0m\u001b[1;33m)\u001b[0m\u001b[1;33m]\u001b[0m\u001b[1;33m\u001b[0m\u001b[0m\n",
      "\u001b[1;32mC:\\ProgramData\\Anaconda3\\lib\\site-packages\\exdir\\core\\attribute.py\u001b[0m in \u001b[0;36mupdate\u001b[1;34m(self, value)\u001b[0m\n\u001b[0;32m    213\u001b[0m         \"\"\"\n\u001b[0;32m    214\u001b[0m         \u001b[1;32mfor\u001b[0m \u001b[0mkey\u001b[0m \u001b[1;32min\u001b[0m \u001b[0mvalue\u001b[0m\u001b[1;33m:\u001b[0m\u001b[1;33m\u001b[0m\u001b[0m\n\u001b[1;32m--> 215\u001b[1;33m             \u001b[0mself\u001b[0m\u001b[1;33m[\u001b[0m\u001b[0mkey\u001b[0m\u001b[1;33m]\u001b[0m \u001b[1;33m=\u001b[0m \u001b[0mvalue\u001b[0m\u001b[1;33m[\u001b[0m\u001b[0mkey\u001b[0m\u001b[1;33m]\u001b[0m\u001b[1;33m\u001b[0m\u001b[0m\n\u001b[0m\u001b[0;32m    216\u001b[0m \u001b[1;33m\u001b[0m\u001b[0m\n\u001b[0;32m    217\u001b[0m     \u001b[1;32mdef\u001b[0m \u001b[0m__str__\u001b[0m\u001b[1;33m(\u001b[0m\u001b[0mself\u001b[0m\u001b[1;33m)\u001b[0m\u001b[1;33m:\u001b[0m\u001b[1;33m\u001b[0m\u001b[0m\n",
      "\u001b[1;32mC:\\ProgramData\\Anaconda3\\lib\\site-packages\\exdir\\core\\attribute.py\u001b[0m in \u001b[0;36m__setitem__\u001b[1;34m(self, name, value)\u001b[0m\n\u001b[0;32m     73\u001b[0m \u001b[1;33m\u001b[0m\u001b[0m\n\u001b[0;32m     74\u001b[0m     \u001b[1;32mdef\u001b[0m \u001b[0m__setitem__\u001b[0m\u001b[1;33m(\u001b[0m\u001b[0mself\u001b[0m\u001b[1;33m,\u001b[0m \u001b[0mname\u001b[0m\u001b[1;33m,\u001b[0m \u001b[0mvalue\u001b[0m\u001b[1;33m)\u001b[0m\u001b[1;33m:\u001b[0m\u001b[1;33m\u001b[0m\u001b[0m\n\u001b[1;32m---> 75\u001b[1;33m         \u001b[0mattrs\u001b[0m \u001b[1;33m=\u001b[0m \u001b[0mself\u001b[0m\u001b[1;33m.\u001b[0m\u001b[0m_open_or_create\u001b[0m\u001b[1;33m(\u001b[0m\u001b[1;33m)\u001b[0m\u001b[1;33m\u001b[0m\u001b[0m\n\u001b[0m\u001b[0;32m     76\u001b[0m         \u001b[0mkey\u001b[0m \u001b[1;33m=\u001b[0m \u001b[0mname\u001b[0m\u001b[1;33m\u001b[0m\u001b[0m\n\u001b[0;32m     77\u001b[0m         \u001b[0msub_attrs\u001b[0m \u001b[1;33m=\u001b[0m \u001b[0mattrs\u001b[0m\u001b[1;33m\u001b[0m\u001b[0m\n",
      "\u001b[1;32mC:\\ProgramData\\Anaconda3\\lib\\site-packages\\exdir\\core\\attribute.py\u001b[0m in \u001b[0;36m_open_or_create\u001b[1;34m(self)\u001b[0m\n\u001b[0;32m    184\u001b[0m         \u001b[1;32mif\u001b[0m \u001b[0mself\u001b[0m\u001b[1;33m.\u001b[0m\u001b[0mfilename\u001b[0m\u001b[1;33m.\u001b[0m\u001b[0mexists\u001b[0m\u001b[1;33m(\u001b[0m\u001b[1;33m)\u001b[0m\u001b[1;33m:\u001b[0m  \u001b[1;31m# NOTE str for Python 3.5 support\u001b[0m\u001b[1;33m\u001b[0m\u001b[0m\n\u001b[0;32m    185\u001b[0m             \u001b[1;32mwith\u001b[0m \u001b[0mself\u001b[0m\u001b[1;33m.\u001b[0m\u001b[0mfilename\u001b[0m\u001b[1;33m.\u001b[0m\u001b[0mopen\u001b[0m\u001b[1;33m(\u001b[0m\u001b[1;34m\"r\"\u001b[0m\u001b[1;33m,\u001b[0m \u001b[0mencoding\u001b[0m\u001b[1;33m=\u001b[0m\u001b[1;34m\"utf-8\"\u001b[0m\u001b[1;33m)\u001b[0m \u001b[1;32mas\u001b[0m \u001b[0mmeta_file\u001b[0m\u001b[1;33m:\u001b[0m\u001b[1;33m\u001b[0m\u001b[0m\n\u001b[1;32m--> 186\u001b[1;33m                 \u001b[0mattrs\u001b[0m \u001b[1;33m=\u001b[0m \u001b[0myaml\u001b[0m\u001b[1;33m.\u001b[0m\u001b[0msafe_load\u001b[0m\u001b[1;33m(\u001b[0m\u001b[0mmeta_file\u001b[0m\u001b[1;33m)\u001b[0m\u001b[1;33m\u001b[0m\u001b[0m\n\u001b[0m\u001b[0;32m    187\u001b[0m         \u001b[1;32mreturn\u001b[0m \u001b[0mattrs\u001b[0m\u001b[1;33m\u001b[0m\u001b[0m\n\u001b[0;32m    188\u001b[0m \u001b[1;33m\u001b[0m\u001b[0m\n",
      "\u001b[1;31mKeyboardInterrupt\u001b[0m: "
     ]
    }
   ],
   "source": [
    "from qsweepy.qubit_calibrations import excitation_pulse\n",
    "from qsweepy.qubit_calibrations import readout_pulse\n",
    "from qsweepy.qubit_calibrations import channel_amplitudes\n",
    "from qsweepy.qubit_calibrations import Rabi\n",
    "from qsweepy.qubit_calibrations import Ramsey\n",
    "imp.reload(Ramsey)\n",
    "from qsweepy.fitters import exp_sin\n",
    "from qsweepy.fitters import fit_dataset\n",
    "imp.reload(fit_dataset)\n",
    "imp.reload(exp_sin)\n",
    "imp.reload(excitation_pulse)\n",
    "imp.reload(readout_pulse)\n",
    "imp.reload(Rabi)\n",
    "#Rabi.Rabi_rect_adaptive(device, '1', channel_amplitudes.channel_amplitudes(device, iq_ex1_q1=1.0))\n",
    "#Rabi.Rabi_rect_adaptive(device, '1', channel_amplitudes.channel_amplitudes(device, iq_ex3_q1=1.0))\n",
    "#Rabi.Rabi_rect_adaptive(device, '3', channel_amplitudes.channel_amplitudes(device, iq_ex1_q3=1.0))\n",
    "#Rabi.Rabi_rect_adaptive(device, '3', channel_amplitudes.channel_amplitudes(device, iq_ex3_q3=1.0))\n",
    "Rabi.calibrate_all_single_channel_Rabi(device)"
   ]
  },
  {
   "cell_type": "code",
   "execution_count": null,
   "metadata": {
    "ExecuteTime": {
     "start_time": "2019-07-06T20:51:39.534Z"
    },
    "scrolled": true
   },
   "outputs": [
    {
     "name": "stdout",
     "output_type": "stream",
     "text": [
      "load_exdir: file open time:  0.001999378204345703\n",
      "reference: channel_calibration_iq_ex1_q1 : 3695\n",
      "load_exdir: file open time:  0.0019991397857666016\n",
      "c:\\data\\2019-07-06\\004190-fit_dataset_1d-1906-001_1_down\n",
      "load_exdir: file open time:  0.0019998550415039062\n",
      "Failed loading fit results of Rabi measurement 4189\n",
      "c:\\data\\2019-07-06\\004062-fit_dataset_1d-1906-001_1_down\n",
      "load_exdir: file open time:  0.0010023117065429688\n"
     ]
    },
    {
     "name": "stderr",
     "output_type": "stream",
     "text": [
      "Traceback (most recent call last):\n",
      "  File \"C:\\qtlab_replacement\\qsweepy\\qubit_calibrations\\excitation_pulse.py\", line 91, in get_excitation_pulse\n",
      "    assert(int(Rabi_fit.metadata['frequency_goodness_test']))\n",
      "AssertionError\n",
      "C:\\ProgramData\\Anaconda3\\lib\\site-packages\\pony\\orm\\core.py:2518: DatabaseContainsIncorrectEmptyValue:\n",
      "\n",
      "Database contains empty string for required attribute Reference.ref_comment\n",
      "\n"
     ]
    },
    {
     "name": "stdout",
     "output_type": "stream",
     "text": [
      "Failed loading fit results of Rabi measurement 4061\n",
      "c:\\data\\2019-07-06\\004068-fit_dataset_1d-1906-001_1_down\n",
      "load_exdir: file open time:  0.00099945068359375\n"
     ]
    },
    {
     "name": "stderr",
     "output_type": "stream",
     "text": [
      "Traceback (most recent call last):\n",
      "  File \"C:\\qtlab_replacement\\qsweepy\\qubit_calibrations\\excitation_pulse.py\", line 91, in get_excitation_pulse\n",
      "    assert(int(Rabi_fit.metadata['frequency_goodness_test']))\n",
      "AssertionError\n"
     ]
    },
    {
     "name": "stdout",
     "output_type": "stream",
     "text": [
      "Failed loading fit results of Rabi measurement 4067\n",
      "c:\\data\\2019-07-06\\004066-fit_dataset_1d-1906-001_1_down\n",
      "load_exdir: file open time:  0.0020227432250976562\n"
     ]
    },
    {
     "name": "stderr",
     "output_type": "stream",
     "text": [
      "Traceback (most recent call last):\n",
      "  File \"C:\\qtlab_replacement\\qsweepy\\qubit_calibrations\\excitation_pulse.py\", line 91, in get_excitation_pulse\n",
      "    assert(int(Rabi_fit.metadata['frequency_goodness_test']))\n",
      "AssertionError\n"
     ]
    },
    {
     "name": "stdout",
     "output_type": "stream",
     "text": [
      "Failed loading fit results of Rabi measurement 4065\n",
      "c:\\data\\2019-07-06\\004090-fit_dataset_1d-1906-001_1_down\n",
      "load_exdir: file open time:  0.0009944438934326172\n"
     ]
    },
    {
     "name": "stderr",
     "output_type": "stream",
     "text": [
      "Traceback (most recent call last):\n",
      "  File \"C:\\qtlab_replacement\\qsweepy\\qubit_calibrations\\excitation_pulse.py\", line 91, in get_excitation_pulse\n",
      "    assert(int(Rabi_fit.metadata['frequency_goodness_test']))\n",
      "AssertionError\n"
     ]
    },
    {
     "name": "stdout",
     "output_type": "stream",
     "text": [
      "Failed loading fit results of Rabi measurement 4089\n",
      "c:\\data\\2019-07-06\\004096-fit_dataset_1d-1906-001_1_down\n",
      "load_exdir: file open time:  0.0009949207305908203\n"
     ]
    },
    {
     "name": "stderr",
     "output_type": "stream",
     "text": [
      "Traceback (most recent call last):\n",
      "  File \"C:\\qtlab_replacement\\qsweepy\\qubit_calibrations\\excitation_pulse.py\", line 91, in get_excitation_pulse\n",
      "    assert(int(Rabi_fit.metadata['frequency_goodness_test']))\n",
      "AssertionError\n"
     ]
    },
    {
     "name": "stdout",
     "output_type": "stream",
     "text": [
      "Failed loading fit results of Rabi measurement 4095\n",
      "c:\\data\\2019-07-06\\004108-fit_dataset_1d-1906-001_1_down\n",
      "load_exdir: file open time:  0.0019795894622802734\n"
     ]
    },
    {
     "name": "stderr",
     "output_type": "stream",
     "text": [
      "Traceback (most recent call last):\n",
      "  File \"C:\\qtlab_replacement\\qsweepy\\qubit_calibrations\\excitation_pulse.py\", line 91, in get_excitation_pulse\n",
      "    assert(int(Rabi_fit.metadata['frequency_goodness_test']))\n",
      "AssertionError\n"
     ]
    },
    {
     "name": "stdout",
     "output_type": "stream",
     "text": [
      "Failed loading fit results of Rabi measurement 4107\n",
      "c:\\data\\2019-07-06\\004122-fit_dataset_1d-1906-001_1_down\n",
      "load_exdir: file open time:  0.0019943714141845703\n"
     ]
    },
    {
     "name": "stderr",
     "output_type": "stream",
     "text": [
      "Traceback (most recent call last):\n",
      "  File \"C:\\qtlab_replacement\\qsweepy\\qubit_calibrations\\excitation_pulse.py\", line 91, in get_excitation_pulse\n",
      "    assert(int(Rabi_fit.metadata['frequency_goodness_test']))\n",
      "AssertionError\n"
     ]
    },
    {
     "name": "stdout",
     "output_type": "stream",
     "text": [
      "Failed loading fit results of Rabi measurement 4121\n",
      "c:\\data\\2019-07-06\\004127-fit_dataset_1d-1906-001_1_down\n",
      "load_exdir: file open time:  0.0009992122650146484\n"
     ]
    },
    {
     "name": "stderr",
     "output_type": "stream",
     "text": [
      "Traceback (most recent call last):\n",
      "  File \"C:\\qtlab_replacement\\qsweepy\\qubit_calibrations\\excitation_pulse.py\", line 91, in get_excitation_pulse\n",
      "    assert(int(Rabi_fit.metadata['frequency_goodness_test']))\n",
      "AssertionError\n"
     ]
    },
    {
     "name": "stdout",
     "output_type": "stream",
     "text": [
      "Failed loading fit results of Rabi measurement 4126\n",
      "c:\\data\\2019-07-06\\004130-fit_dataset_1d-1906-001_1_down\n",
      "load_exdir: file open time:  0.0009980201721191406\n"
     ]
    },
    {
     "name": "stderr",
     "output_type": "stream",
     "text": [
      "Traceback (most recent call last):\n",
      "  File \"C:\\qtlab_replacement\\qsweepy\\qubit_calibrations\\excitation_pulse.py\", line 90, in get_excitation_pulse\n",
      "    Rabi_fit = device.exdir_db.select_measurement_by_id(Rabi_fit.id)\n",
      "  File \"C:\\qtlab_replacement\\qsweepy\\exdir_db.py\", line 52, in select_measurement_by_id\n",
      "    return save_exdir.load_exdir(self.db.Data[id].filename, db=self.db)\n",
      "  File \"C:\\qtlab_replacement\\qsweepy\\save_exdir.py\", line 152, in load_exdir\n",
      "    parameters = [None for key in f[dataset_name]['parameters'].keys()]\n",
      "  File \"C:\\ProgramData\\Anaconda3\\lib\\site-packages\\exdir\\core\\group.py\", line 384, in __getitem__\n",
      "    if exob.is_raw_object_directory(directory):  # TODO create one function that handles all Raw creation\n",
      "  File \"C:\\ProgramData\\Anaconda3\\lib\\site-packages\\exdir\\core\\exdir_object.py\", line 106, in is_raw_object_directory\n",
      "    return is_exdir_object(directory) and not is_nonraw_object_directory(directory)\n",
      "  File \"C:\\ProgramData\\Anaconda3\\lib\\site-packages\\exdir\\core\\exdir_object.py\", line 101, in is_nonraw_object_directory\n",
      "    return False\n",
      "KeyboardInterrupt\n"
     ]
    },
    {
     "name": "stdout",
     "output_type": "stream",
     "text": [
      "Failed loading fit results of Rabi measurement 4129\n",
      "c:\\data\\2019-07-06\\004135-fit_dataset_1d-1906-001_1_down\n",
      "load_exdir: file open time:  0.001976490020751953\n"
     ]
    },
    {
     "name": "stderr",
     "output_type": "stream",
     "text": [
      "Traceback (most recent call last):\n",
      "  File \"C:\\qtlab_replacement\\qsweepy\\qubit_calibrations\\excitation_pulse.py\", line 91, in get_excitation_pulse\n",
      "    assert(int(Rabi_fit.metadata['frequency_goodness_test']))\n",
      "AssertionError\n"
     ]
    },
    {
     "name": "stdout",
     "output_type": "stream",
     "text": [
      "Failed loading fit results of Rabi measurement 4134\n",
      "c:\\data\\2019-07-06\\004155-fit_dataset_1d-1906-001_1_down\n",
      "load_exdir: file open time:  0.0010008811950683594\n"
     ]
    },
    {
     "name": "stderr",
     "output_type": "stream",
     "text": [
      "Traceback (most recent call last):\n",
      "  File \"C:\\qtlab_replacement\\qsweepy\\qubit_calibrations\\excitation_pulse.py\", line 91, in get_excitation_pulse\n",
      "    assert(int(Rabi_fit.metadata['frequency_goodness_test']))\n",
      "AssertionError\n"
     ]
    },
    {
     "name": "stdout",
     "output_type": "stream",
     "text": [
      "Failed loading fit results of Rabi measurement 4154\n",
      "c:\\data\\2019-07-06\\004160-fit_dataset_1d-1906-001_1_down\n",
      "load_exdir: file open time:  0.0020215511322021484\n"
     ]
    },
    {
     "name": "stderr",
     "output_type": "stream",
     "text": [
      "Traceback (most recent call last):\n",
      "  File \"C:\\qtlab_replacement\\qsweepy\\qubit_calibrations\\excitation_pulse.py\", line 91, in get_excitation_pulse\n",
      "    assert(int(Rabi_fit.metadata['frequency_goodness_test']))\n",
      "AssertionError\n"
     ]
    },
    {
     "name": "stdout",
     "output_type": "stream",
     "text": [
      "Failed loading fit results of Rabi measurement 4159\n",
      "c:\\data\\2019-07-06\\004173-fit_dataset_1d-1906-001_1_down\n",
      "load_exdir: file open time:  0.001999378204345703\n"
     ]
    },
    {
     "name": "stderr",
     "output_type": "stream",
     "text": [
      "Traceback (most recent call last):\n",
      "  File \"C:\\qtlab_replacement\\qsweepy\\qubit_calibrations\\excitation_pulse.py\", line 91, in get_excitation_pulse\n",
      "    assert(int(Rabi_fit.metadata['frequency_goodness_test']))\n",
      "AssertionError\n"
     ]
    },
    {
     "name": "stdout",
     "output_type": "stream",
     "text": [
      "Failed loading fit results of Rabi measurement 4172\n",
      "c:\\data\\2019-07-06\\004169-fit_dataset_1d-1906-001_1_down\n",
      "load_exdir: file open time:  0.0019965171813964844\n"
     ]
    },
    {
     "name": "stderr",
     "output_type": "stream",
     "text": [
      "Traceback (most recent call last):\n",
      "  File \"C:\\qtlab_replacement\\qsweepy\\qubit_calibrations\\excitation_pulse.py\", line 91, in get_excitation_pulse\n",
      "    assert(int(Rabi_fit.metadata['frequency_goodness_test']))\n",
      "AssertionError\n"
     ]
    },
    {
     "name": "stdout",
     "output_type": "stream",
     "text": [
      "Failed loading fit results of Rabi measurement 4168\n",
      "c:\\data\\2019-07-06\\004171-fit_dataset_1d-1906-001_1_down\n",
      "load_exdir: file open time:  0.0009970664978027344\n"
     ]
    },
    {
     "name": "stderr",
     "output_type": "stream",
     "text": [
      "Traceback (most recent call last):\n",
      "  File \"C:\\qtlab_replacement\\qsweepy\\qubit_calibrations\\excitation_pulse.py\", line 91, in get_excitation_pulse\n",
      "    assert(int(Rabi_fit.metadata['frequency_goodness_test']))\n",
      "AssertionError\n"
     ]
    },
    {
     "name": "stdout",
     "output_type": "stream",
     "text": [
      "Failed loading fit results of Rabi measurement 4170\n",
      "c:\\data\\2019-07-06\\004177-fit_dataset_1d-1906-001_1_down\n",
      "load_exdir: file open time:  0.0019974708557128906\n"
     ]
    },
    {
     "name": "stderr",
     "output_type": "stream",
     "text": [
      "Traceback (most recent call last):\n",
      "  File \"C:\\qtlab_replacement\\qsweepy\\qubit_calibrations\\excitation_pulse.py\", line 91, in get_excitation_pulse\n",
      "    assert(int(Rabi_fit.metadata['frequency_goodness_test']))\n",
      "AssertionError\n"
     ]
    },
    {
     "name": "stdout",
     "output_type": "stream",
     "text": [
      "Failed loading fit results of Rabi measurement 4176\n",
      "c:\\data\\2019-07-06\\004175-fit_dataset_1d-1906-001_1_down\n",
      "load_exdir: file open time:  0.001996278762817383\n"
     ]
    },
    {
     "name": "stderr",
     "output_type": "stream",
     "text": [
      "Traceback (most recent call last):\n",
      "  File \"C:\\qtlab_replacement\\qsweepy\\qubit_calibrations\\excitation_pulse.py\", line 91, in get_excitation_pulse\n",
      "    assert(int(Rabi_fit.metadata['frequency_goodness_test']))\n",
      "AssertionError\n"
     ]
    },
    {
     "name": "stdout",
     "output_type": "stream",
     "text": [
      "Failed loading fit results of Rabi measurement 4174\n",
      "c:\\data\\2019-07-06\\004179-fit_dataset_1d-1906-001_1_down\n",
      "load_exdir: file open time:  0.001983165740966797\n"
     ]
    }
   ],
   "source": [
    "from qsweepy.qubit_calibrations import excitation_pulse\n",
    "from qsweepy.qubit_calibrations import channel_amplitudes\n",
    "imp.reload(excitation_pulse)\n",
    "pi_half1_ch1 = excitation_pulse.get_excitation_pulse(device, \n",
    "                                                     '1', \n",
    "                                                     np.pi/2., \n",
    "    channel_amplitudes_override=channel_amplitudes.channel_amplitudes(device, iq_ex1_q1=1.0))\n",
    "\n",
    "pi_half1_ch3 = excitation_pulse.get_excitation_pulse(device, \n",
    "                                                     '1', \n",
    "                                                     np.pi/2., \n",
    "    channel_amplitudes_override=channel_amplitudes.channel_amplitudes(device, iq_ex3_q1=1.0))\n",
    "\n",
    "pi_half3_ch1 = excitation_pulse.get_excitation_pulse(device, \n",
    "                                                     '3', \n",
    "                                                     np.pi/2., \n",
    "    channel_amplitudes_override=channel_amplitudes.channel_amplitudes(device, iq_ex1_q3=1.0))\n",
    "\n",
    "pi_half3_ch3 = excitation_pulse.get_excitation_pulse(device, \n",
    "                                                     '3', \n",
    "                                                     np.pi/2., \n",
    "    channel_amplitudes_override=channel_amplitudes.channel_amplitudes(device, iq_ex3_q3=1.0))"
   ]
  },
  {
   "cell_type": "code",
   "execution_count": 12,
   "metadata": {
    "ExecuteTime": {
     "end_time": "2019-07-04T18:36:58.789635Z",
     "start_time": "2019-07-04T18:30:46.637621Z"
    },
    "scrolled": true
   },
   "outputs": [
    {
     "name": "stdout",
     "output_type": "stream",
     "text": [
      "load_exdir: file open time:  0.00202178955078125\n",
      "reference: channel_calibration_iq_ex1_q1 : 2315\n",
      "load_exdir: file open time:  0.0020236968994140625\n",
      "load_exdir: file open time:  0.0020248889923095703\n",
      "reference: channel_calibration_iq_ex3_q1 : 2317\n",
      "load_exdir: file open time:  0.0009989738464355469\n",
      "load_exdir: file open time:  0.0019989013671875\n",
      "load_exdir: file open time:  0.0019986629486083984\n",
      "load_exdir: file open time:  0.0019991397857666016\n",
      "load_exdir: file open time:  0.0009992122650146484\n"
     ]
    },
    {
     "name": "stderr",
     "output_type": "stream",
     "text": [
      "C:\\ProgramData\\Anaconda3\\lib\\site-packages\\ipykernel_launcher.py:6: DeprecationWarning:\n",
      "\n",
      "object of type <class 'float'> cannot be safely interpreted as an integer.\n",
      "\n"
     ]
    },
    {
     "name": "stdout",
     "output_type": "stream",
     "text": [
      "reference: channel_calibration : 2620\n",
      "load_exdir: file open time:  0.0020227432250976562\n",
      "reference: passthrough_measurement : 2648\n",
      "load_exdir: file open time:  0.0010223388671875\n",
      "load_exdir: file open time:  0.002034902572631836\n",
      "reference: readout_pulse : 2663\n",
      "reference: modem_calibration : 3449\n",
      "None\n",
      "load_exdir: file open time:  0.0019996166229248047\n",
      "load_exdir: file open time:  0.0009925365447998047\n"
     ]
    },
    {
     "name": "stderr",
     "output_type": "stream",
     "text": [
      "Traceback (most recent call last):\n",
      "  File \"C:\\qtlab_replacement\\qsweepy\\qubit_calibrations\\readout_pulse.py\", line 75, in get_readout_background_calibration\n",
      "    return device.exdir_db.select_measurement(measurement_type='readout_background_calibration', metadata=metadata, references_that=references)\n",
      "  File \"C:\\qtlab_replacement\\qsweepy\\exdir_db.py\", line 48, in select_measurement\n",
      "    return save_exdir.load_exdir(list(measurement_db_list.order_by(lambda d: desc(d.id)).limit(1))[0].filename, db=self.db)\n",
      "IndexError: list index out of range\n"
     ]
    },
    {
     "name": "stdout",
     "output_type": "stream",
     "text": [
      "load_exdir: file open time:  0.0010204315185546875\n"
     ]
    },
    {
     "name": "stderr",
     "output_type": "stream",
     "text": [
      "C:\\qtlab_replacement\\qsweepy\\instrument_drivers\\Tektronix_AWG5014.py:651: ComplexWarning:\n",
      "\n",
      "Casting complex values to real discards the imaginary part\n",
      "\n",
      "C:\\ProgramData\\Anaconda3\\lib\\site-packages\\pyvisa\\resources\\messagebased.py:573: FutureWarning:\n",
      "\n",
      "ask is deprecated and will be removed in 1.10, use query instead.\n",
      "\n"
     ]
    },
    {
     "name": "stdout",
     "output_type": "stream",
     "text": [
      "load_exdir: file open time:  0.0020203590393066406\n",
      "Inserting references: {'readout_pulse': 2663, 'modem_calibration': 3449, 'channel_calibration': 2620}\n",
      "Waiting to join deferred threads:\n",
      "load_exdir: file open time:  0.0019991397857666016\n",
      "load_exdir: file open time:  0.0009951591491699219\n",
      "load_exdir: file open time:  0.0019948482513427734\n",
      "load time:  0.10195350646972656\n",
      "pre_trace_time:  0.0019767284393310547\n",
      "trace 0 time:  0.015010833740234375\n",
      "trace 1 time:  0.02899765968322754\n",
      "trace 2 time:  0.04200339317321777\n",
      "trace 3 time:  0.05499100685119629\n",
      "trace 4 time:  0.06896638870239258\n"
     ]
    },
    {
     "name": "stderr",
     "output_type": "stream",
     "text": [
      "C:\\ProgramData\\Anaconda3\\lib\\site-packages\\numpy\\core\\memmap.py:335: FutureWarning:\n",
      "\n",
      "Using a non-tuple sequence for multidimensional indexing is deprecated; use `arr[tuple(seq)]` instead of `arr[seq]`. In the future this will be interpreted as an array index, `arr[np.array(seq)]`, which will result either in an error or a different result.\n",
      "\n"
     ]
    },
    {
     "name": "stdout",
     "output_type": "stream",
     "text": [
      "load_exdir: file open time:  0.0009961128234863281\n",
      "c:\\data\\2019-06-29\\002894-anonymous_measurement-anonymous_sample\n",
      "load_exdir: file open time:  0.0009996891021728516\n",
      "Failed loading fit results of Rabi measurement 2893\n",
      "c:\\data\\2019-06-29\\002903-anonymous_measurement-anonymous_sample\n",
      "load_exdir: file open time:  0.001999378204345703\n"
     ]
    },
    {
     "name": "stderr",
     "output_type": "stream",
     "text": [
      "Traceback (most recent call last):\n",
      "  File \"C:\\qtlab_replacement\\qsweepy\\qubit_calibrations\\excitation_pulse.py\", line 90, in get_excitation_pulse\n",
      "    Rabi_fit = device.exdir_db.select_measurement_by_id(Rabi_fit.id)\n",
      "  File \"C:\\qtlab_replacement\\qsweepy\\exdir_db.py\", line 52, in select_measurement_by_id\n",
      "    return save_exdir.load_exdir(self.db.Data[id].filename, db=self.db)\n",
      "  File \"C:\\qtlab_replacement\\qsweepy\\save_exdir.py\", line 144, in load_exdir\n",
      "    state.metadata.update(f.attrs)\n",
      "  File \"C:\\ProgramData\\Anaconda3\\lib\\site-packages\\exdir\\core\\attribute.py\", line 100, in keys\n",
      "    return attrs.keys()\n",
      "AttributeError: 'NoneType' object has no attribute 'keys'\n"
     ]
    },
    {
     "name": "stdout",
     "output_type": "stream",
     "text": [
      "Failed loading fit results of Rabi measurement 2902\n",
      "c:\\data\\2019-06-29\\002921-anonymous_measurement-anonymous_sample\n",
      "load_exdir: file open time:  0.0019989013671875\n"
     ]
    },
    {
     "name": "stderr",
     "output_type": "stream",
     "text": [
      "Traceback (most recent call last):\n",
      "  File \"C:\\qtlab_replacement\\qsweepy\\qubit_calibrations\\excitation_pulse.py\", line 92, in get_excitation_pulse\n",
      "    'score': min([float(Rabi_fit.metadata['num_periods_scan']),\n",
      "ValueError: could not convert string to float: '[3.85264904]'\n"
     ]
    },
    {
     "name": "stdout",
     "output_type": "stream",
     "text": [
      "Failed loading fit results of Rabi measurement 2920\n",
      "c:\\data\\2019-06-29\\002912-anonymous_measurement-anonymous_sample\n",
      "load_exdir: file open time:  0.0019981861114501953\n"
     ]
    },
    {
     "name": "stderr",
     "output_type": "stream",
     "text": [
      "Traceback (most recent call last):\n",
      "  File \"C:\\qtlab_replacement\\qsweepy\\qubit_calibrations\\excitation_pulse.py\", line 92, in get_excitation_pulse\n",
      "    'score': min([float(Rabi_fit.metadata['num_periods_scan']),\n",
      "ValueError: could not convert string to float: '[3.81888599]'\n"
     ]
    },
    {
     "name": "stdout",
     "output_type": "stream",
     "text": [
      "Failed loading fit results of Rabi measurement 2911\n",
      "c:\\data\\2019-06-29\\002930-anonymous_measurement-anonymous_sample\n",
      "load_exdir: file open time:  0.002021312713623047\n"
     ]
    },
    {
     "name": "stderr",
     "output_type": "stream",
     "text": [
      "Traceback (most recent call last):\n",
      "  File \"C:\\qtlab_replacement\\qsweepy\\qubit_calibrations\\excitation_pulse.py\", line 92, in get_excitation_pulse\n",
      "    'score': min([float(Rabi_fit.metadata['num_periods_scan']),\n",
      "ValueError: could not convert string to float: '[3.84001918]'\n"
     ]
    },
    {
     "name": "stdout",
     "output_type": "stream",
     "text": [
      "Failed loading fit results of Rabi measurement 2929\n",
      "c:\\data\\2019-07-02\\003093-fit_dataset_1d-1906-001_1_down\n",
      "load_exdir: file open time:  0.001978158950805664\n"
     ]
    },
    {
     "name": "stderr",
     "output_type": "stream",
     "text": [
      "Traceback (most recent call last):\n",
      "  File \"C:\\qtlab_replacement\\qsweepy\\qubit_calibrations\\excitation_pulse.py\", line 92, in get_excitation_pulse\n",
      "    'score': min([float(Rabi_fit.metadata['num_periods_scan']),\n",
      "ValueError: could not convert string to float: '[3.81816954]'\n"
     ]
    },
    {
     "name": "stdout",
     "output_type": "stream",
     "text": [
      "Failed loading fit results of Rabi measurement 3092\n",
      "c:\\data\\2019-07-02\\003102-fit_dataset_1d-1906-001_1_down\n",
      "load_exdir: file open time:  0.0019989013671875\n"
     ]
    },
    {
     "name": "stderr",
     "output_type": "stream",
     "text": [
      "Traceback (most recent call last):\n",
      "  File \"C:\\qtlab_replacement\\qsweepy\\qubit_calibrations\\excitation_pulse.py\", line 92, in get_excitation_pulse\n",
      "    'score': min([float(Rabi_fit.metadata['num_periods_scan']),\n",
      "ValueError: could not convert string to float: '[nan]'\n"
     ]
    },
    {
     "name": "stdout",
     "output_type": "stream",
     "text": [
      "Failed loading fit results of Rabi measurement 3101\n",
      "c:\\data\\2019-07-02\\003114-fit_dataset_1d-1906-001_1_down\n",
      "load_exdir: file open time:  0.0009996891021728516\n"
     ]
    },
    {
     "name": "stderr",
     "output_type": "stream",
     "text": [
      "Traceback (most recent call last):\n",
      "  File \"C:\\qtlab_replacement\\qsweepy\\qubit_calibrations\\excitation_pulse.py\", line 92, in get_excitation_pulse\n",
      "    'score': min([float(Rabi_fit.metadata['num_periods_scan']),\n",
      "ValueError: could not convert string to float: '[15.14889587]'\n"
     ]
    },
    {
     "name": "stdout",
     "output_type": "stream",
     "text": [
      "Failed loading fit results of Rabi measurement 3113\n",
      "c:\\data\\2019-07-02\\003116-fit_dataset_1d-1906-001_1_down\n",
      "load_exdir: file open time:  0.0019953250885009766\n"
     ]
    },
    {
     "name": "stderr",
     "output_type": "stream",
     "text": [
      "Traceback (most recent call last):\n",
      "  File \"C:\\qtlab_replacement\\qsweepy\\qubit_calibrations\\excitation_pulse.py\", line 92, in get_excitation_pulse\n",
      "    'score': min([float(Rabi_fit.metadata['num_periods_scan']),\n",
      "ValueError: could not convert string to float: '[nan]'\n"
     ]
    },
    {
     "name": "stdout",
     "output_type": "stream",
     "text": [
      "Failed loading fit results of Rabi measurement 3115\n",
      "c:\\data\\2019-07-02\\003125-fit_dataset_1d-1906-001_1_down\n",
      "load_exdir: file open time:  0.0020134449005126953\n"
     ]
    },
    {
     "name": "stderr",
     "output_type": "stream",
     "text": [
      "Traceback (most recent call last):\n",
      "  File \"C:\\qtlab_replacement\\qsweepy\\qubit_calibrations\\excitation_pulse.py\", line 92, in get_excitation_pulse\n",
      "    'score': min([float(Rabi_fit.metadata['num_periods_scan']),\n",
      "ValueError: could not convert string to float: '[nan]'\n"
     ]
    },
    {
     "name": "stdout",
     "output_type": "stream",
     "text": [
      "c:\\data\\2019-07-02\\003136-fit_dataset_1d-1906-001_1_down\n",
      "load_exdir: file open time:  0.001999378204345703\n",
      "c:\\data\\2019-07-02\\003127-fit_dataset_1d-1906-001_1_down\n",
      "load_exdir: file open time:  0.000982046127319336\n",
      "Failed loading fit results of Rabi measurement 3126\n",
      "c:\\data\\2019-07-02\\003138-fit_dataset_1d-1906-001_1_down\n",
      "load_exdir: file open time:  0.0019974708557128906\n"
     ]
    },
    {
     "name": "stderr",
     "output_type": "stream",
     "text": [
      "Traceback (most recent call last):\n",
      "  File \"C:\\qtlab_replacement\\qsweepy\\qubit_calibrations\\excitation_pulse.py\", line 99, in get_excitation_pulse\n",
      "    assert channel_amplitudes_override.id == reference.that.id  ## if we are looking for a specific channel_amplitudes, skip all the others\n",
      "AssertionError\n"
     ]
    },
    {
     "name": "stdout",
     "output_type": "stream",
     "text": [
      "c:\\data\\2019-07-02\\003140-fit_dataset_1d-1906-001_1_down\n",
      "load_exdir: file open time:  0.0019948482513427734\n",
      "c:\\data\\2019-07-02\\003142-fit_dataset_1d-1906-001_1_down\n",
      "load_exdir: file open time:  0.001999378204345703\n",
      "c:\\data\\2019-07-02\\003159-fit_dataset_1d-1906-001_1_down\n",
      "load_exdir: file open time:  0.0009758472442626953\n",
      "c:\\data\\2019-07-02\\003178-fit_dataset_1d-1906-001_1_down\n",
      "load_exdir: file open time:  0.00099945068359375\n",
      "c:\\data\\2019-07-02\\003170-fit_dataset_1d-1906-001_1_down\n",
      "load_exdir: file open time:  0.0010025501251220703\n",
      "c:\\data\\2019-07-02\\003172-fit_dataset_1d-1906-001_1_down\n",
      "load_exdir: file open time:  0.001999378204345703\n",
      "c:\\data\\2019-07-02\\003180-fit_dataset_1d-1906-001_1_down\n",
      "load_exdir: file open time:  0.0019989013671875\n",
      "c:\\data\\2019-07-02\\003174-fit_dataset_1d-1906-001_1_down\n",
      "load_exdir: file open time:  0.0019986629486083984\n",
      "c:\\data\\2019-07-03\\003241-fit_dataset_1d-1906-001_1_down\n",
      "load_exdir: file open time:  0.002022266387939453\n",
      "c:\\data\\2019-07-03\\003227-fit_dataset_1d-1906-001_1_down\n",
      "load_exdir: file open time:  0.0019989013671875\n",
      "c:\\data\\2019-07-03\\003229-fit_dataset_1d-1906-001_1_down\n",
      "load_exdir: file open time:  0.001998424530029297\n",
      "Failed loading fit results of Rabi measurement 3228\n",
      "c:\\data\\2019-07-03\\003243-fit_dataset_1d-1906-001_1_down\n",
      "load_exdir: file open time:  0.0019986629486083984\n"
     ]
    },
    {
     "name": "stderr",
     "output_type": "stream",
     "text": [
      "Traceback (most recent call last):\n",
      "  File \"C:\\qtlab_replacement\\qsweepy\\qubit_calibrations\\excitation_pulse.py\", line 99, in get_excitation_pulse\n",
      "    assert channel_amplitudes_override.id == reference.that.id  ## if we are looking for a specific channel_amplitudes, skip all the others\n",
      "AssertionError\n"
     ]
    },
    {
     "name": "stdout",
     "output_type": "stream",
     "text": [
      "Failed loading fit results of Rabi measurement 3242\n",
      "c:\\data\\2019-07-03\\003272-fit_dataset_1d-1906-001_1_down\n",
      "load_exdir: file open time:  0.002025127410888672\n"
     ]
    },
    {
     "name": "stderr",
     "output_type": "stream",
     "text": [
      "Traceback (most recent call last):\n",
      "  File \"C:\\qtlab_replacement\\qsweepy\\qubit_calibrations\\excitation_pulse.py\", line 99, in get_excitation_pulse\n",
      "    assert channel_amplitudes_override.id == reference.that.id  ## if we are looking for a specific channel_amplitudes, skip all the others\n",
      "AssertionError\n"
     ]
    },
    {
     "name": "stdout",
     "output_type": "stream",
     "text": [
      "c:\\data\\2019-07-03\\003255-fit_dataset_1d-1906-001_1_down\n",
      "load_exdir: file open time:  0.002021312713623047\n",
      "c:\\data\\2019-07-03\\003274-fit_dataset_1d-1906-001_1_down\n",
      "load_exdir: file open time:  0.000978708267211914\n",
      "c:\\data\\2019-07-03\\003257-fit_dataset_1d-1906-001_1_down\n",
      "load_exdir: file open time:  0.0019741058349609375\n",
      "Failed loading fit results of Rabi measurement 3256\n",
      "c:\\data\\2019-07-03\\003262-fit_dataset_1d-1906-001_1_down\n",
      "load_exdir: file open time:  0.001995086669921875\n"
     ]
    },
    {
     "name": "stderr",
     "output_type": "stream",
     "text": [
      "Traceback (most recent call last):\n",
      "  File \"C:\\qtlab_replacement\\qsweepy\\qubit_calibrations\\excitation_pulse.py\", line 99, in get_excitation_pulse\n",
      "    assert channel_amplitudes_override.id == reference.that.id  ## if we are looking for a specific channel_amplitudes, skip all the others\n",
      "AssertionError\n"
     ]
    },
    {
     "name": "stdout",
     "output_type": "stream",
     "text": [
      "Failed loading fit results of Rabi measurement 3261\n",
      "c:\\data\\2019-07-03\\003276-fit_dataset_1d-1906-001_1_down\n",
      "load_exdir: file open time:  0.0019991397857666016\n"
     ]
    },
    {
     "name": "stderr",
     "output_type": "stream",
     "text": [
      "Traceback (most recent call last):\n",
      "  File \"C:\\qtlab_replacement\\qsweepy\\qubit_calibrations\\excitation_pulse.py\", line 99, in get_excitation_pulse\n",
      "    assert channel_amplitudes_override.id == reference.that.id  ## if we are looking for a specific channel_amplitudes, skip all the others\n",
      "AssertionError\n"
     ]
    },
    {
     "name": "stdout",
     "output_type": "stream",
     "text": [
      "c:\\data\\2019-07-03\\003264-fit_dataset_1d-1906-001_1_down\n",
      "load_exdir: file open time:  0.0009996891021728516\n",
      "Failed loading fit results of Rabi measurement 3263\n",
      "c:\\data\\2019-07-03\\003278-fit_dataset_1d-1906-001_1_down\n",
      "load_exdir: file open time:  0.001999378204345703\n"
     ]
    },
    {
     "name": "stderr",
     "output_type": "stream",
     "text": [
      "Traceback (most recent call last):\n",
      "  File \"C:\\qtlab_replacement\\qsweepy\\qubit_calibrations\\excitation_pulse.py\", line 99, in get_excitation_pulse\n",
      "    assert channel_amplitudes_override.id == reference.that.id  ## if we are looking for a specific channel_amplitudes, skip all the others\n",
      "AssertionError\n"
     ]
    },
    {
     "name": "stdout",
     "output_type": "stream",
     "text": [
      "c:\\data\\2019-07-03\\003270-fit_dataset_1d-1906-001_1_down\n",
      "load_exdir: file open time:  0.0009765625\n",
      "c:\\data\\2019-07-04\\003307-fit_dataset_1d-1906-001_1_down\n",
      "load_exdir: file open time:  0.001994609832763672\n",
      "c:\\data\\2019-07-04\\003309-fit_dataset_1d-1906-001_1_down\n",
      "load_exdir: file open time:  0.001994609832763672\n",
      "c:\\data\\2019-07-04\\003316-fit_dataset_1d-1906-001_1_down\n",
      "load_exdir: file open time:  0.0019931793212890625\n",
      "c:\\data\\2019-07-04\\003325-fit_dataset_1d-1906-001_1_down\n",
      "load_exdir: file open time:  0.0009996891021728516\n",
      "c:\\data\\2019-07-04\\003332-fit_dataset_1d-1906-001_1_down\n",
      "load_exdir: file open time:  0.0019996166229248047\n",
      "c:\\data\\2019-07-04\\003334-fit_dataset_1d-1906-001_1_down\n",
      "load_exdir: file open time:  0.001994609832763672\n",
      "c:\\data\\2019-07-04\\003336-fit_dataset_1d-1906-001_1_down\n",
      "load_exdir: file open time:  0.0019991397857666016\n",
      "Failed loading fit results of Rabi measurement 3335\n",
      "c:\\data\\2019-07-04\\003353-fit_dataset_1d-1906-001_1_down\n",
      "load_exdir: file open time:  0.001998424530029297\n"
     ]
    },
    {
     "name": "stderr",
     "output_type": "stream",
     "text": [
      "Traceback (most recent call last):\n",
      "  File \"C:\\qtlab_replacement\\qsweepy\\qubit_calibrations\\excitation_pulse.py\", line 99, in get_excitation_pulse\n",
      "    assert channel_amplitudes_override.id == reference.that.id  ## if we are looking for a specific channel_amplitudes, skip all the others\n",
      "AssertionError\n"
     ]
    },
    {
     "name": "stdout",
     "output_type": "stream",
     "text": [
      "c:\\data\\2019-07-04\\003362-fit_dataset_1d-1906-001_1_down\n",
      "load_exdir: file open time:  0.001981496810913086\n",
      "c:\\data\\2019-07-04\\003364-fit_dataset_1d-1906-001_1_down\n",
      "load_exdir: file open time:  0.002007007598876953\n",
      "c:\\data\\2019-07-04\\003366-fit_dataset_1d-1906-001_1_down\n",
      "load_exdir: file open time:  0.0010006427764892578\n",
      "c:\\data\\2019-07-04\\003376-fit_dataset_1d-1906-001_1_down\n",
      "load_exdir: file open time:  0.001996755599975586\n",
      "Failed loading fit results of Rabi measurement 3375\n",
      "c:\\data\\2019-07-04\\003368-fit_dataset_1d-1906-001_1_down\n",
      "load_exdir: file open time:  0.001998424530029297\n"
     ]
    },
    {
     "name": "stderr",
     "output_type": "stream",
     "text": [
      "Traceback (most recent call last):\n",
      "  File \"C:\\qtlab_replacement\\qsweepy\\qubit_calibrations\\excitation_pulse.py\", line 99, in get_excitation_pulse\n",
      "    assert channel_amplitudes_override.id == reference.that.id  ## if we are looking for a specific channel_amplitudes, skip all the others\n",
      "AssertionError\n"
     ]
    },
    {
     "name": "stdout",
     "output_type": "stream",
     "text": [
      "c:\\data\\2019-07-04\\003370-fit_dataset_1d-1906-001_1_down\n",
      "load_exdir: file open time:  0.0009996891021728516\n",
      "Failed loading fit results of Rabi measurement 3369\n",
      "c:\\data\\2019-07-04\\003372-fit_dataset_1d-1906-001_1_down\n",
      "load_exdir: file open time:  0.0020203590393066406\n"
     ]
    },
    {
     "name": "stderr",
     "output_type": "stream",
     "text": [
      "Traceback (most recent call last):\n",
      "  File \"C:\\qtlab_replacement\\qsweepy\\qubit_calibrations\\excitation_pulse.py\", line 99, in get_excitation_pulse\n",
      "    assert channel_amplitudes_override.id == reference.that.id  ## if we are looking for a specific channel_amplitudes, skip all the others\n",
      "AssertionError\n"
     ]
    },
    {
     "name": "stdout",
     "output_type": "stream",
     "text": [
      "c:\\data\\2019-07-04\\003374-fit_dataset_1d-1906-001_1_down\n",
      "load_exdir: file open time:  0.0020017623901367188\n",
      "c:\\data\\2019-07-04\\003379-fit_dataset_1d-1906-001_1_down\n",
      "load_exdir: file open time:  0.001996755599975586\n",
      "c:\\data\\2019-07-04\\003381-fit_dataset_1d-1906-001_1_down\n",
      "load_exdir: file open time:  0.001974821090698242\n",
      "c:\\data\\2019-07-04\\003411-fit_dataset_1d-1906-001_1_down\n",
      "load_exdir: file open time:  0.0019927024841308594\n",
      "c:\\data\\2019-07-04\\003394-fit_dataset_1d-1906-001_1_down\n",
      "load_exdir: file open time:  0.0009622573852539062\n",
      "c:\\data\\2019-07-04\\003413-fit_dataset_1d-1906-001_1_down\n",
      "load_exdir: file open time:  0.0019767284393310547\n",
      "c:\\data\\2019-07-04\\003396-fit_dataset_1d-1906-001_1_down\n",
      "load_exdir: file open time:  0.0019752979278564453\n",
      "Failed loading fit results of Rabi measurement 3395\n",
      "c:\\data\\2019-07-04\\003401-fit_dataset_1d-1906-001_1_down\n",
      "load_exdir: file open time:  0.0019998550415039062\n"
     ]
    },
    {
     "name": "stderr",
     "output_type": "stream",
     "text": [
      "Traceback (most recent call last):\n",
      "  File \"C:\\qtlab_replacement\\qsweepy\\qubit_calibrations\\excitation_pulse.py\", line 99, in get_excitation_pulse\n",
      "    assert channel_amplitudes_override.id == reference.that.id  ## if we are looking for a specific channel_amplitudes, skip all the others\n",
      "AssertionError\n"
     ]
    },
    {
     "name": "stdout",
     "output_type": "stream",
     "text": [
      "c:\\data\\2019-07-04\\003403-fit_dataset_1d-1906-001_1_down\n",
      "load_exdir: file open time:  0.0019745826721191406\n",
      "c:\\data\\2019-07-04\\003405-fit_dataset_1d-1906-001_1_down\n",
      "load_exdir: file open time:  0.0009779930114746094\n",
      "c:\\data\\2019-07-04\\003407-fit_dataset_1d-1906-001_1_down\n",
      "load_exdir: file open time:  0.0019989013671875\n",
      "c:\\data\\2019-07-04\\003409-fit_dataset_1d-1906-001_1_down\n",
      "load_exdir: file open time:  0.0010256767272949219\n",
      "c:\\data\\2019-07-04\\003421-fit_dataset_1d-1906-001_1_down\n",
      "load_exdir: file open time:  0.001999378204345703\n",
      "c:\\data\\2019-07-04\\003415-fit_dataset_1d-1906-001_1_down\n",
      "load_exdir: file open time:  0.0019981861114501953\n",
      "c:\\data\\2019-07-04\\003417-fit_dataset_1d-1906-001_1_down\n",
      "load_exdir: file open time:  0.0010004043579101562\n",
      "Failed loading fit results of Rabi measurement 3416\n",
      "c:\\data\\2019-07-04\\003425-fit_dataset_1d-1906-001_1_down\n",
      "load_exdir: file open time:  0.0019936561584472656\n"
     ]
    },
    {
     "name": "stderr",
     "output_type": "stream",
     "text": [
      "Traceback (most recent call last):\n",
      "  File \"C:\\qtlab_replacement\\qsweepy\\qubit_calibrations\\excitation_pulse.py\", line 99, in get_excitation_pulse\n",
      "    assert channel_amplitudes_override.id == reference.that.id  ## if we are looking for a specific channel_amplitudes, skip all the others\n",
      "AssertionError\n"
     ]
    },
    {
     "name": "stdout",
     "output_type": "stream",
     "text": [
      "Failed loading fit results of Rabi measurement 3424\n",
      "c:\\data\\2019-07-04\\003423-fit_dataset_1d-1906-001_1_down\n",
      "load_exdir: file open time:  0.002024412155151367\n"
     ]
    },
    {
     "name": "stderr",
     "output_type": "stream",
     "text": [
      "Traceback (most recent call last):\n",
      "  File \"C:\\qtlab_replacement\\qsweepy\\qubit_calibrations\\excitation_pulse.py\", line 99, in get_excitation_pulse\n",
      "    assert channel_amplitudes_override.id == reference.that.id  ## if we are looking for a specific channel_amplitudes, skip all the others\n",
      "AssertionError\n"
     ]
    },
    {
     "name": "stdout",
     "output_type": "stream",
     "text": [
      "Failed loading fit results of Rabi measurement 3422\n",
      "c:\\data\\2019-07-04\\003427-fit_dataset_1d-1906-001_1_down\n",
      "load_exdir: file open time:  0.0019974708557128906\n"
     ]
    },
    {
     "name": "stderr",
     "output_type": "stream",
     "text": [
      "Traceback (most recent call last):\n",
      "  File \"C:\\qtlab_replacement\\qsweepy\\qubit_calibrations\\excitation_pulse.py\", line 99, in get_excitation_pulse\n",
      "    assert channel_amplitudes_override.id == reference.that.id  ## if we are looking for a specific channel_amplitudes, skip all the others\n",
      "AssertionError\n"
     ]
    },
    {
     "name": "stdout",
     "output_type": "stream",
     "text": [
      "Failed loading fit results of Rabi measurement 3426\n",
      "c:\\data\\2019-07-04\\003429-fit_dataset_1d-1906-001_1_down\n",
      "load_exdir: file open time:  0.0019969940185546875\n"
     ]
    },
    {
     "name": "stderr",
     "output_type": "stream",
     "text": [
      "Traceback (most recent call last):\n",
      "  File \"C:\\qtlab_replacement\\qsweepy\\qubit_calibrations\\excitation_pulse.py\", line 99, in get_excitation_pulse\n",
      "    assert channel_amplitudes_override.id == reference.that.id  ## if we are looking for a specific channel_amplitudes, skip all the others\n",
      "AssertionError\n"
     ]
    },
    {
     "name": "stdout",
     "output_type": "stream",
     "text": [
      "Failed loading fit results of Rabi measurement 3428\n",
      "ex_channels_found:  [{'iq_ex1_q1'}, {'iq_ex1_q1'}, {'iq_ex1_q1'}, {'iq_ex1_q1'}, {'iq_ex1_q1'}, {'iq_ex1_q1'}, {'iq_ex1_q1'}, {'iq_ex1_q1'}, {'iq_ex1_q1'}, {'iq_ex1_q1'}, {'iq_ex1_q1'}, {'iq_ex1_q1'}, {'iq_ex1_q1'}, {'iq_ex1_q1'}, {'iq_ex1_q1'}, {'iq_ex1_q1'}, {'iq_ex1_q1'}, {'iq_ex1_q1'}, {'iq_ex1_q1'}, {'iq_ex1_q1'}, {'iq_ex1_q1'}, {'iq_ex1_q1'}, {'iq_ex1_q1'}, {'iq_ex1_q1'}, {'iq_ex1_q1'}, {'iq_ex1_q1'}, {'iq_ex1_q1'}, {'iq_ex1_q1'}, {'iq_ex1_q1'}, {'iq_ex1_q1'}, {'iq_ex1_q1'}, {'iq_ex1_q1'}, {'iq_ex1_q1'}, {'iq_ex1_q1'}, {'iq_ex1_q1'}, {'iq_ex1_q1'}, {'iq_ex1_q1'}, {'iq_ex1_q1'}, {'iq_ex1_q1'}, {'iq_ex1_q1'}, {'iq_ex1_q1'}, {'iq_ex1_q1'}, {'iq_ex1_q1'}, {'iq_ex1_q1'}]\n",
      "c:\\data\\2019-07-02\\003180-fit_dataset_1d-1906-001_1_down\n",
      "load_exdir: file open time:  0.0020172595977783203\n"
     ]
    },
    {
     "name": "stderr",
     "output_type": "stream",
     "text": [
      "Traceback (most recent call last):\n",
      "  File \"C:\\qtlab_replacement\\qsweepy\\qubit_calibrations\\excitation_pulse.py\", line 99, in get_excitation_pulse\n",
      "    assert channel_amplitudes_override.id == reference.that.id  ## if we are looking for a specific channel_amplitudes, skip all the others\n",
      "AssertionError\n"
     ]
    },
    {
     "name": "stdout",
     "output_type": "stream",
     "text": [
      "c:\\data\\2019-07-02\\003179-Rabi_rect-1906-001_1_down\n",
      "load_exdir: file open time:  0.001999378204345703\n",
      "load_exdir: file open time:  0.0019991397857666016\n",
      "reference: channel_amplitudes : 2737\n",
      "reference: Rabi_rect : 3179\n",
      "load_exdir: file open time:  0.001999378204345703\n",
      "c:\\data\\2019-06-26\\002737-channel_amplitudes-1906-001_1_down\n",
      "load_exdir: file open time:  0.0009996891021728516\n",
      "c:\\data\\2019-06-29\\002894-anonymous_measurement-anonymous_sample\n",
      "load_exdir: file open time:  0.0019996166229248047\n",
      "Failed loading fit results of Rabi measurement 2893\n",
      "c:\\data\\2019-06-29\\002903-anonymous_measurement-anonymous_sample\n",
      "load_exdir: file open time:  0.00099945068359375\n"
     ]
    },
    {
     "name": "stderr",
     "output_type": "stream",
     "text": [
      "Traceback (most recent call last):\n",
      "  File \"C:\\qtlab_replacement\\qsweepy\\qubit_calibrations\\excitation_pulse.py\", line 90, in get_excitation_pulse\n",
      "    Rabi_fit = device.exdir_db.select_measurement_by_id(Rabi_fit.id)\n",
      "  File \"C:\\qtlab_replacement\\qsweepy\\exdir_db.py\", line 52, in select_measurement_by_id\n",
      "    return save_exdir.load_exdir(self.db.Data[id].filename, db=self.db)\n",
      "  File \"C:\\qtlab_replacement\\qsweepy\\save_exdir.py\", line 144, in load_exdir\n",
      "    state.metadata.update(f.attrs)\n",
      "  File \"C:\\ProgramData\\Anaconda3\\lib\\site-packages\\exdir\\core\\attribute.py\", line 100, in keys\n",
      "    return attrs.keys()\n",
      "AttributeError: 'NoneType' object has no attribute 'keys'\n"
     ]
    },
    {
     "name": "stdout",
     "output_type": "stream",
     "text": [
      "Failed loading fit results of Rabi measurement 2902\n",
      "c:\\data\\2019-06-29\\002921-anonymous_measurement-anonymous_sample\n",
      "load_exdir: file open time:  0.0019948482513427734\n"
     ]
    },
    {
     "name": "stderr",
     "output_type": "stream",
     "text": [
      "Traceback (most recent call last):\n",
      "  File \"C:\\qtlab_replacement\\qsweepy\\qubit_calibrations\\excitation_pulse.py\", line 92, in get_excitation_pulse\n",
      "    'score': min([float(Rabi_fit.metadata['num_periods_scan']),\n",
      "ValueError: could not convert string to float: '[3.85264904]'\n"
     ]
    },
    {
     "name": "stdout",
     "output_type": "stream",
     "text": [
      "Failed loading fit results of Rabi measurement 2920\n",
      "c:\\data\\2019-06-29\\002912-anonymous_measurement-anonymous_sample\n",
      "load_exdir: file open time:  0.0020203590393066406\n"
     ]
    },
    {
     "name": "stderr",
     "output_type": "stream",
     "text": [
      "Traceback (most recent call last):\n",
      "  File \"C:\\qtlab_replacement\\qsweepy\\qubit_calibrations\\excitation_pulse.py\", line 92, in get_excitation_pulse\n",
      "    'score': min([float(Rabi_fit.metadata['num_periods_scan']),\n",
      "ValueError: could not convert string to float: '[3.81888599]'\n"
     ]
    },
    {
     "name": "stdout",
     "output_type": "stream",
     "text": [
      "Failed loading fit results of Rabi measurement 2911\n",
      "c:\\data\\2019-06-29\\002930-anonymous_measurement-anonymous_sample\n",
      "load_exdir: file open time:  0.002000570297241211\n"
     ]
    },
    {
     "name": "stderr",
     "output_type": "stream",
     "text": [
      "Traceback (most recent call last):\n",
      "  File \"C:\\qtlab_replacement\\qsweepy\\qubit_calibrations\\excitation_pulse.py\", line 92, in get_excitation_pulse\n",
      "    'score': min([float(Rabi_fit.metadata['num_periods_scan']),\n",
      "ValueError: could not convert string to float: '[3.84001918]'\n"
     ]
    },
    {
     "name": "stdout",
     "output_type": "stream",
     "text": [
      "Failed loading fit results of Rabi measurement 2929\n",
      "c:\\data\\2019-07-02\\003093-fit_dataset_1d-1906-001_1_down\n",
      "load_exdir: file open time:  0.0019989013671875\n"
     ]
    },
    {
     "name": "stderr",
     "output_type": "stream",
     "text": [
      "Traceback (most recent call last):\n",
      "  File \"C:\\qtlab_replacement\\qsweepy\\qubit_calibrations\\excitation_pulse.py\", line 92, in get_excitation_pulse\n",
      "    'score': min([float(Rabi_fit.metadata['num_periods_scan']),\n",
      "ValueError: could not convert string to float: '[3.81816954]'\n"
     ]
    },
    {
     "name": "stdout",
     "output_type": "stream",
     "text": [
      "Failed loading fit results of Rabi measurement 3092\n",
      "c:\\data\\2019-07-02\\003102-fit_dataset_1d-1906-001_1_down\n",
      "load_exdir: file open time:  0.0019981861114501953\n"
     ]
    },
    {
     "name": "stderr",
     "output_type": "stream",
     "text": [
      "Traceback (most recent call last):\n",
      "  File \"C:\\qtlab_replacement\\qsweepy\\qubit_calibrations\\excitation_pulse.py\", line 92, in get_excitation_pulse\n",
      "    'score': min([float(Rabi_fit.metadata['num_periods_scan']),\n",
      "ValueError: could not convert string to float: '[nan]'\n"
     ]
    },
    {
     "name": "stdout",
     "output_type": "stream",
     "text": [
      "Failed loading fit results of Rabi measurement 3101\n",
      "c:\\data\\2019-07-02\\003114-fit_dataset_1d-1906-001_1_down\n",
      "load_exdir: file open time:  0.0019943714141845703\n"
     ]
    },
    {
     "name": "stderr",
     "output_type": "stream",
     "text": [
      "Traceback (most recent call last):\n",
      "  File \"C:\\qtlab_replacement\\qsweepy\\qubit_calibrations\\excitation_pulse.py\", line 92, in get_excitation_pulse\n",
      "    'score': min([float(Rabi_fit.metadata['num_periods_scan']),\n",
      "ValueError: could not convert string to float: '[15.14889587]'\n"
     ]
    },
    {
     "name": "stdout",
     "output_type": "stream",
     "text": [
      "Failed loading fit results of Rabi measurement 3113\n",
      "c:\\data\\2019-07-02\\003116-fit_dataset_1d-1906-001_1_down\n",
      "load_exdir: file open time:  0.0010001659393310547\n"
     ]
    },
    {
     "name": "stderr",
     "output_type": "stream",
     "text": [
      "Traceback (most recent call last):\n",
      "  File \"C:\\qtlab_replacement\\qsweepy\\qubit_calibrations\\excitation_pulse.py\", line 92, in get_excitation_pulse\n",
      "    'score': min([float(Rabi_fit.metadata['num_periods_scan']),\n",
      "ValueError: could not convert string to float: '[nan]'\n"
     ]
    },
    {
     "name": "stdout",
     "output_type": "stream",
     "text": [
      "Failed loading fit results of Rabi measurement 3115\n",
      "c:\\data\\2019-07-02\\003125-fit_dataset_1d-1906-001_1_down\n",
      "load_exdir: file open time:  0.0019752979278564453\n"
     ]
    },
    {
     "name": "stderr",
     "output_type": "stream",
     "text": [
      "Traceback (most recent call last):\n",
      "  File \"C:\\qtlab_replacement\\qsweepy\\qubit_calibrations\\excitation_pulse.py\", line 92, in get_excitation_pulse\n",
      "    'score': min([float(Rabi_fit.metadata['num_periods_scan']),\n",
      "ValueError: could not convert string to float: '[nan]'\n"
     ]
    },
    {
     "name": "stdout",
     "output_type": "stream",
     "text": [
      "Failed loading fit results of Rabi measurement 3124\n",
      "c:\\data\\2019-07-02\\003136-fit_dataset_1d-1906-001_1_down\n",
      "load_exdir: file open time:  0.0019989013671875\n"
     ]
    },
    {
     "name": "stderr",
     "output_type": "stream",
     "text": [
      "Traceback (most recent call last):\n",
      "  File \"C:\\qtlab_replacement\\qsweepy\\qubit_calibrations\\excitation_pulse.py\", line 99, in get_excitation_pulse\n",
      "    assert channel_amplitudes_override.id == reference.that.id  ## if we are looking for a specific channel_amplitudes, skip all the others\n",
      "AssertionError\n"
     ]
    },
    {
     "name": "stdout",
     "output_type": "stream",
     "text": [
      "Failed loading fit results of Rabi measurement 3135\n",
      "c:\\data\\2019-07-02\\003127-fit_dataset_1d-1906-001_1_down\n",
      "load_exdir: file open time:  0.001997709274291992\n"
     ]
    },
    {
     "name": "stderr",
     "output_type": "stream",
     "text": [
      "Traceback (most recent call last):\n",
      "  File \"C:\\qtlab_replacement\\qsweepy\\qubit_calibrations\\excitation_pulse.py\", line 99, in get_excitation_pulse\n",
      "    assert channel_amplitudes_override.id == reference.that.id  ## if we are looking for a specific channel_amplitudes, skip all the others\n",
      "AssertionError\n"
     ]
    },
    {
     "name": "stdout",
     "output_type": "stream",
     "text": [
      "c:\\data\\2019-07-02\\003138-fit_dataset_1d-1906-001_1_down\n",
      "load_exdir: file open time:  0.001974821090698242\n",
      "Failed loading fit results of Rabi measurement 3137\n",
      "c:\\data\\2019-07-02\\003140-fit_dataset_1d-1906-001_1_down\n",
      "load_exdir: file open time:  0.0019991397857666016\n"
     ]
    },
    {
     "name": "stderr",
     "output_type": "stream",
     "text": [
      "Traceback (most recent call last):\n",
      "  File \"C:\\qtlab_replacement\\qsweepy\\qubit_calibrations\\excitation_pulse.py\", line 99, in get_excitation_pulse\n",
      "    assert channel_amplitudes_override.id == reference.that.id  ## if we are looking for a specific channel_amplitudes, skip all the others\n",
      "AssertionError\n"
     ]
    },
    {
     "name": "stdout",
     "output_type": "stream",
     "text": [
      "Failed loading fit results of Rabi measurement 3139\n",
      "c:\\data\\2019-07-02\\003142-fit_dataset_1d-1906-001_1_down\n",
      "load_exdir: file open time:  0.0019805431365966797\n"
     ]
    },
    {
     "name": "stderr",
     "output_type": "stream",
     "text": [
      "Traceback (most recent call last):\n",
      "  File \"C:\\qtlab_replacement\\qsweepy\\qubit_calibrations\\excitation_pulse.py\", line 99, in get_excitation_pulse\n",
      "    assert channel_amplitudes_override.id == reference.that.id  ## if we are looking for a specific channel_amplitudes, skip all the others\n",
      "AssertionError\n"
     ]
    },
    {
     "name": "stdout",
     "output_type": "stream",
     "text": [
      "Failed loading fit results of Rabi measurement 3141\n",
      "c:\\data\\2019-07-02\\003159-fit_dataset_1d-1906-001_1_down\n",
      "load_exdir: file open time:  0.001999378204345703\n"
     ]
    },
    {
     "name": "stderr",
     "output_type": "stream",
     "text": [
      "Traceback (most recent call last):\n",
      "  File \"C:\\qtlab_replacement\\qsweepy\\qubit_calibrations\\excitation_pulse.py\", line 99, in get_excitation_pulse\n",
      "    assert channel_amplitudes_override.id == reference.that.id  ## if we are looking for a specific channel_amplitudes, skip all the others\n",
      "AssertionError\n"
     ]
    },
    {
     "name": "stdout",
     "output_type": "stream",
     "text": [
      "Failed loading fit results of Rabi measurement 3158\n",
      "c:\\data\\2019-07-02\\003178-fit_dataset_1d-1906-001_1_down\n",
      "load_exdir: file open time:  0.0020041465759277344\n"
     ]
    },
    {
     "name": "stderr",
     "output_type": "stream",
     "text": [
      "Traceback (most recent call last):\n",
      "  File \"C:\\qtlab_replacement\\qsweepy\\qubit_calibrations\\excitation_pulse.py\", line 99, in get_excitation_pulse\n",
      "    assert channel_amplitudes_override.id == reference.that.id  ## if we are looking for a specific channel_amplitudes, skip all the others\n",
      "AssertionError\n"
     ]
    },
    {
     "name": "stdout",
     "output_type": "stream",
     "text": [
      "Failed loading fit results of Rabi measurement 3177\n",
      "c:\\data\\2019-07-02\\003170-fit_dataset_1d-1906-001_1_down\n",
      "load_exdir: file open time:  0.0019989013671875\n"
     ]
    },
    {
     "name": "stderr",
     "output_type": "stream",
     "text": [
      "Traceback (most recent call last):\n",
      "  File \"C:\\qtlab_replacement\\qsweepy\\qubit_calibrations\\excitation_pulse.py\", line 99, in get_excitation_pulse\n",
      "    assert channel_amplitudes_override.id == reference.that.id  ## if we are looking for a specific channel_amplitudes, skip all the others\n",
      "AssertionError\n"
     ]
    },
    {
     "name": "stdout",
     "output_type": "stream",
     "text": [
      "Failed loading fit results of Rabi measurement 3169\n",
      "c:\\data\\2019-07-02\\003172-fit_dataset_1d-1906-001_1_down\n",
      "load_exdir: file open time:  0.0019979476928710938\n"
     ]
    },
    {
     "name": "stderr",
     "output_type": "stream",
     "text": [
      "Traceback (most recent call last):\n",
      "  File \"C:\\qtlab_replacement\\qsweepy\\qubit_calibrations\\excitation_pulse.py\", line 99, in get_excitation_pulse\n",
      "    assert channel_amplitudes_override.id == reference.that.id  ## if we are looking for a specific channel_amplitudes, skip all the others\n",
      "AssertionError\n"
     ]
    },
    {
     "name": "stdout",
     "output_type": "stream",
     "text": [
      "Failed loading fit results of Rabi measurement 3171\n",
      "c:\\data\\2019-07-02\\003180-fit_dataset_1d-1906-001_1_down\n",
      "load_exdir: file open time:  0.0019991397857666016\n"
     ]
    },
    {
     "name": "stderr",
     "output_type": "stream",
     "text": [
      "Traceback (most recent call last):\n",
      "  File \"C:\\qtlab_replacement\\qsweepy\\qubit_calibrations\\excitation_pulse.py\", line 99, in get_excitation_pulse\n",
      "    assert channel_amplitudes_override.id == reference.that.id  ## if we are looking for a specific channel_amplitudes, skip all the others\n",
      "AssertionError\n"
     ]
    },
    {
     "name": "stdout",
     "output_type": "stream",
     "text": [
      "Failed loading fit results of Rabi measurement 3179\n",
      "c:\\data\\2019-07-02\\003174-fit_dataset_1d-1906-001_1_down\n",
      "load_exdir: file open time:  0.001998424530029297\n"
     ]
    },
    {
     "name": "stderr",
     "output_type": "stream",
     "text": [
      "Traceback (most recent call last):\n",
      "  File \"C:\\qtlab_replacement\\qsweepy\\qubit_calibrations\\excitation_pulse.py\", line 99, in get_excitation_pulse\n",
      "    assert channel_amplitudes_override.id == reference.that.id  ## if we are looking for a specific channel_amplitudes, skip all the others\n",
      "AssertionError\n"
     ]
    },
    {
     "name": "stdout",
     "output_type": "stream",
     "text": [
      "Failed loading fit results of Rabi measurement 3173\n",
      "c:\\data\\2019-07-03\\003241-fit_dataset_1d-1906-001_1_down\n",
      "load_exdir: file open time:  0.0019986629486083984\n"
     ]
    },
    {
     "name": "stderr",
     "output_type": "stream",
     "text": [
      "Traceback (most recent call last):\n",
      "  File \"C:\\qtlab_replacement\\qsweepy\\qubit_calibrations\\excitation_pulse.py\", line 99, in get_excitation_pulse\n",
      "    assert channel_amplitudes_override.id == reference.that.id  ## if we are looking for a specific channel_amplitudes, skip all the others\n",
      "AssertionError\n"
     ]
    },
    {
     "name": "stdout",
     "output_type": "stream",
     "text": [
      "Failed loading fit results of Rabi measurement 3240\n",
      "c:\\data\\2019-07-03\\003227-fit_dataset_1d-1906-001_1_down\n",
      "load_exdir: file open time:  0.0009996891021728516\n"
     ]
    },
    {
     "name": "stderr",
     "output_type": "stream",
     "text": [
      "Traceback (most recent call last):\n",
      "  File \"C:\\qtlab_replacement\\qsweepy\\qubit_calibrations\\excitation_pulse.py\", line 99, in get_excitation_pulse\n",
      "    assert channel_amplitudes_override.id == reference.that.id  ## if we are looking for a specific channel_amplitudes, skip all the others\n",
      "AssertionError\n"
     ]
    },
    {
     "name": "stdout",
     "output_type": "stream",
     "text": [
      "Failed loading fit results of Rabi measurement 3226\n",
      "c:\\data\\2019-07-03\\003229-fit_dataset_1d-1906-001_1_down\n",
      "load_exdir: file open time:  0.0009996891021728516\n"
     ]
    },
    {
     "name": "stderr",
     "output_type": "stream",
     "text": [
      "Traceback (most recent call last):\n",
      "  File \"C:\\qtlab_replacement\\qsweepy\\qubit_calibrations\\excitation_pulse.py\", line 99, in get_excitation_pulse\n",
      "    assert channel_amplitudes_override.id == reference.that.id  ## if we are looking for a specific channel_amplitudes, skip all the others\n",
      "AssertionError\n"
     ]
    },
    {
     "name": "stdout",
     "output_type": "stream",
     "text": [
      "c:\\data\\2019-07-03\\003243-fit_dataset_1d-1906-001_1_down\n",
      "load_exdir: file open time:  0.001998424530029297\n",
      "c:\\data\\2019-07-03\\003272-fit_dataset_1d-1906-001_1_down\n",
      "load_exdir: file open time:  0.0009996891021728516\n",
      "Failed loading fit results of Rabi measurement 3271\n",
      "c:\\data\\2019-07-03\\003255-fit_dataset_1d-1906-001_1_down\n",
      "load_exdir: file open time:  0.0019989013671875\n"
     ]
    },
    {
     "name": "stderr",
     "output_type": "stream",
     "text": [
      "Traceback (most recent call last):\n",
      "  File \"C:\\qtlab_replacement\\qsweepy\\qubit_calibrations\\excitation_pulse.py\", line 99, in get_excitation_pulse\n",
      "    assert channel_amplitudes_override.id == reference.that.id  ## if we are looking for a specific channel_amplitudes, skip all the others\n",
      "AssertionError\n"
     ]
    },
    {
     "name": "stdout",
     "output_type": "stream",
     "text": [
      "Failed loading fit results of Rabi measurement 3254\n",
      "c:\\data\\2019-07-03\\003274-fit_dataset_1d-1906-001_1_down\n",
      "load_exdir: file open time:  0.0019981861114501953\n"
     ]
    },
    {
     "name": "stderr",
     "output_type": "stream",
     "text": [
      "Traceback (most recent call last):\n",
      "  File \"C:\\qtlab_replacement\\qsweepy\\qubit_calibrations\\excitation_pulse.py\", line 99, in get_excitation_pulse\n",
      "    assert channel_amplitudes_override.id == reference.that.id  ## if we are looking for a specific channel_amplitudes, skip all the others\n",
      "AssertionError\n"
     ]
    },
    {
     "name": "stdout",
     "output_type": "stream",
     "text": [
      "Failed loading fit results of Rabi measurement 3273\n",
      "c:\\data\\2019-07-03\\003257-fit_dataset_1d-1906-001_1_down\n",
      "load_exdir: file open time:  0.0019979476928710938\n"
     ]
    },
    {
     "name": "stderr",
     "output_type": "stream",
     "text": [
      "Traceback (most recent call last):\n",
      "  File \"C:\\qtlab_replacement\\qsweepy\\qubit_calibrations\\excitation_pulse.py\", line 99, in get_excitation_pulse\n",
      "    assert channel_amplitudes_override.id == reference.that.id  ## if we are looking for a specific channel_amplitudes, skip all the others\n",
      "AssertionError\n"
     ]
    },
    {
     "name": "stdout",
     "output_type": "stream",
     "text": [
      "c:\\data\\2019-07-03\\003262-fit_dataset_1d-1906-001_1_down\n",
      "load_exdir: file open time:  0.0009810924530029297\n",
      "c:\\data\\2019-07-03\\003276-fit_dataset_1d-1906-001_1_down\n",
      "load_exdir: file open time:  0.001994609832763672\n",
      "Failed loading fit results of Rabi measurement 3275\n",
      "c:\\data\\2019-07-03\\003264-fit_dataset_1d-1906-001_1_down\n",
      "load_exdir: file open time:  0.0009992122650146484\n"
     ]
    },
    {
     "name": "stderr",
     "output_type": "stream",
     "text": [
      "Traceback (most recent call last):\n",
      "  File \"C:\\qtlab_replacement\\qsweepy\\qubit_calibrations\\excitation_pulse.py\", line 99, in get_excitation_pulse\n",
      "    assert channel_amplitudes_override.id == reference.that.id  ## if we are looking for a specific channel_amplitudes, skip all the others\n",
      "AssertionError\n"
     ]
    },
    {
     "name": "stdout",
     "output_type": "stream",
     "text": [
      "c:\\data\\2019-07-03\\003278-fit_dataset_1d-1906-001_1_down\n",
      "load_exdir: file open time:  0.002000570297241211\n",
      "Failed loading fit results of Rabi measurement 3277\n",
      "c:\\data\\2019-07-03\\003270-fit_dataset_1d-1906-001_1_down\n",
      "load_exdir: file open time:  0.0019991397857666016\n"
     ]
    },
    {
     "name": "stderr",
     "output_type": "stream",
     "text": [
      "Traceback (most recent call last):\n",
      "  File \"C:\\qtlab_replacement\\qsweepy\\qubit_calibrations\\excitation_pulse.py\", line 99, in get_excitation_pulse\n",
      "    assert channel_amplitudes_override.id == reference.that.id  ## if we are looking for a specific channel_amplitudes, skip all the others\n",
      "AssertionError\n"
     ]
    },
    {
     "name": "stdout",
     "output_type": "stream",
     "text": [
      "Failed loading fit results of Rabi measurement 3269\n",
      "c:\\data\\2019-07-04\\003307-fit_dataset_1d-1906-001_1_down\n",
      "load_exdir: file open time:  0.0019757747650146484\n"
     ]
    },
    {
     "name": "stderr",
     "output_type": "stream",
     "text": [
      "Traceback (most recent call last):\n",
      "  File \"C:\\qtlab_replacement\\qsweepy\\qubit_calibrations\\excitation_pulse.py\", line 99, in get_excitation_pulse\n",
      "    assert channel_amplitudes_override.id == reference.that.id  ## if we are looking for a specific channel_amplitudes, skip all the others\n",
      "AssertionError\n"
     ]
    },
    {
     "name": "stdout",
     "output_type": "stream",
     "text": [
      "Failed loading fit results of Rabi measurement 3306\n",
      "c:\\data\\2019-07-04\\003309-fit_dataset_1d-1906-001_1_down\n",
      "load_exdir: file open time:  0.0020160675048828125\n"
     ]
    },
    {
     "name": "stderr",
     "output_type": "stream",
     "text": [
      "Traceback (most recent call last):\n",
      "  File \"C:\\qtlab_replacement\\qsweepy\\qubit_calibrations\\excitation_pulse.py\", line 99, in get_excitation_pulse\n",
      "    assert channel_amplitudes_override.id == reference.that.id  ## if we are looking for a specific channel_amplitudes, skip all the others\n",
      "AssertionError\n"
     ]
    },
    {
     "name": "stdout",
     "output_type": "stream",
     "text": [
      "Failed loading fit results of Rabi measurement 3308\n",
      "c:\\data\\2019-07-04\\003316-fit_dataset_1d-1906-001_1_down\n",
      "load_exdir: file open time:  0.0019991397857666016\n"
     ]
    },
    {
     "name": "stderr",
     "output_type": "stream",
     "text": [
      "Traceback (most recent call last):\n",
      "  File \"C:\\qtlab_replacement\\qsweepy\\qubit_calibrations\\excitation_pulse.py\", line 99, in get_excitation_pulse\n",
      "    assert channel_amplitudes_override.id == reference.that.id  ## if we are looking for a specific channel_amplitudes, skip all the others\n",
      "AssertionError\n"
     ]
    },
    {
     "name": "stdout",
     "output_type": "stream",
     "text": [
      "Failed loading fit results of Rabi measurement 3315\n",
      "c:\\data\\2019-07-04\\003325-fit_dataset_1d-1906-001_1_down\n",
      "load_exdir: file open time:  0.0010001659393310547\n"
     ]
    },
    {
     "name": "stderr",
     "output_type": "stream",
     "text": [
      "Traceback (most recent call last):\n",
      "  File \"C:\\qtlab_replacement\\qsweepy\\qubit_calibrations\\excitation_pulse.py\", line 99, in get_excitation_pulse\n",
      "    assert channel_amplitudes_override.id == reference.that.id  ## if we are looking for a specific channel_amplitudes, skip all the others\n",
      "AssertionError\n"
     ]
    },
    {
     "name": "stdout",
     "output_type": "stream",
     "text": [
      "Failed loading fit results of Rabi measurement 3324\n",
      "c:\\data\\2019-07-04\\003332-fit_dataset_1d-1906-001_1_down\n",
      "load_exdir: file open time:  0.0020165443420410156\n"
     ]
    },
    {
     "name": "stderr",
     "output_type": "stream",
     "text": [
      "Traceback (most recent call last):\n",
      "  File \"C:\\qtlab_replacement\\qsweepy\\qubit_calibrations\\excitation_pulse.py\", line 99, in get_excitation_pulse\n",
      "    assert channel_amplitudes_override.id == reference.that.id  ## if we are looking for a specific channel_amplitudes, skip all the others\n",
      "AssertionError\n"
     ]
    },
    {
     "name": "stdout",
     "output_type": "stream",
     "text": [
      "Failed loading fit results of Rabi measurement 3331\n",
      "c:\\data\\2019-07-04\\003334-fit_dataset_1d-1906-001_1_down\n",
      "load_exdir: file open time:  0.0019986629486083984\n"
     ]
    },
    {
     "name": "stderr",
     "output_type": "stream",
     "text": [
      "Traceback (most recent call last):\n",
      "  File \"C:\\qtlab_replacement\\qsweepy\\qubit_calibrations\\excitation_pulse.py\", line 99, in get_excitation_pulse\n",
      "    assert channel_amplitudes_override.id == reference.that.id  ## if we are looking for a specific channel_amplitudes, skip all the others\n",
      "AssertionError\n"
     ]
    },
    {
     "name": "stdout",
     "output_type": "stream",
     "text": [
      "Failed loading fit results of Rabi measurement 3333\n",
      "c:\\data\\2019-07-04\\003336-fit_dataset_1d-1906-001_1_down\n",
      "load_exdir: file open time:  0.002017498016357422\n"
     ]
    },
    {
     "name": "stderr",
     "output_type": "stream",
     "text": [
      "Traceback (most recent call last):\n",
      "  File \"C:\\qtlab_replacement\\qsweepy\\qubit_calibrations\\excitation_pulse.py\", line 99, in get_excitation_pulse\n",
      "    assert channel_amplitudes_override.id == reference.that.id  ## if we are looking for a specific channel_amplitudes, skip all the others\n",
      "AssertionError\n"
     ]
    },
    {
     "name": "stdout",
     "output_type": "stream",
     "text": [
      "c:\\data\\2019-07-04\\003353-fit_dataset_1d-1906-001_1_down\n",
      "load_exdir: file open time:  0.0019998550415039062\n",
      "Failed loading fit results of Rabi measurement 3352\n",
      "c:\\data\\2019-07-04\\003362-fit_dataset_1d-1906-001_1_down\n",
      "load_exdir: file open time:  0.00099945068359375\n"
     ]
    },
    {
     "name": "stderr",
     "output_type": "stream",
     "text": [
      "Traceback (most recent call last):\n",
      "  File \"C:\\qtlab_replacement\\qsweepy\\qubit_calibrations\\excitation_pulse.py\", line 99, in get_excitation_pulse\n",
      "    assert channel_amplitudes_override.id == reference.that.id  ## if we are looking for a specific channel_amplitudes, skip all the others\n",
      "AssertionError\n"
     ]
    },
    {
     "name": "stdout",
     "output_type": "stream",
     "text": [
      "Failed loading fit results of Rabi measurement 3361\n",
      "c:\\data\\2019-07-04\\003364-fit_dataset_1d-1906-001_1_down\n",
      "load_exdir: file open time:  0.0019986629486083984\n"
     ]
    },
    {
     "name": "stderr",
     "output_type": "stream",
     "text": [
      "Traceback (most recent call last):\n",
      "  File \"C:\\qtlab_replacement\\qsweepy\\qubit_calibrations\\excitation_pulse.py\", line 99, in get_excitation_pulse\n",
      "    assert channel_amplitudes_override.id == reference.that.id  ## if we are looking for a specific channel_amplitudes, skip all the others\n",
      "AssertionError\n"
     ]
    },
    {
     "name": "stdout",
     "output_type": "stream",
     "text": [
      "Failed loading fit results of Rabi measurement 3363\n",
      "c:\\data\\2019-07-04\\003366-fit_dataset_1d-1906-001_1_down\n",
      "load_exdir: file open time:  0.0020155906677246094\n"
     ]
    },
    {
     "name": "stderr",
     "output_type": "stream",
     "text": [
      "Traceback (most recent call last):\n",
      "  File \"C:\\qtlab_replacement\\qsweepy\\qubit_calibrations\\excitation_pulse.py\", line 99, in get_excitation_pulse\n",
      "    assert channel_amplitudes_override.id == reference.that.id  ## if we are looking for a specific channel_amplitudes, skip all the others\n",
      "AssertionError\n"
     ]
    },
    {
     "name": "stdout",
     "output_type": "stream",
     "text": [
      "Failed loading fit results of Rabi measurement 3365\n",
      "c:\\data\\2019-07-04\\003376-fit_dataset_1d-1906-001_1_down\n",
      "load_exdir: file open time:  0.0010004043579101562\n"
     ]
    },
    {
     "name": "stderr",
     "output_type": "stream",
     "text": [
      "Traceback (most recent call last):\n",
      "  File \"C:\\qtlab_replacement\\qsweepy\\qubit_calibrations\\excitation_pulse.py\", line 99, in get_excitation_pulse\n",
      "    assert channel_amplitudes_override.id == reference.that.id  ## if we are looking for a specific channel_amplitudes, skip all the others\n",
      "AssertionError\n"
     ]
    },
    {
     "name": "stdout",
     "output_type": "stream",
     "text": [
      "c:\\data\\2019-07-04\\003368-fit_dataset_1d-1906-001_1_down\n",
      "load_exdir: file open time:  0.000997304916381836\n",
      "Failed loading fit results of Rabi measurement 3367\n",
      "c:\\data\\2019-07-04\\003370-fit_dataset_1d-1906-001_1_down\n",
      "load_exdir: file open time:  0.0009763240814208984\n"
     ]
    },
    {
     "name": "stderr",
     "output_type": "stream",
     "text": [
      "Traceback (most recent call last):\n",
      "  File \"C:\\qtlab_replacement\\qsweepy\\qubit_calibrations\\excitation_pulse.py\", line 99, in get_excitation_pulse\n",
      "    assert channel_amplitudes_override.id == reference.that.id  ## if we are looking for a specific channel_amplitudes, skip all the others\n",
      "AssertionError\n"
     ]
    },
    {
     "name": "stdout",
     "output_type": "stream",
     "text": [
      "c:\\data\\2019-07-04\\003372-fit_dataset_1d-1906-001_1_down\n",
      "load_exdir: file open time:  0.0010006427764892578\n",
      "Failed loading fit results of Rabi measurement 3371\n",
      "c:\\data\\2019-07-04\\003374-fit_dataset_1d-1906-001_1_down\n",
      "load_exdir: file open time:  0.0019991397857666016\n"
     ]
    },
    {
     "name": "stderr",
     "output_type": "stream",
     "text": [
      "Traceback (most recent call last):\n",
      "  File \"C:\\qtlab_replacement\\qsweepy\\qubit_calibrations\\excitation_pulse.py\", line 99, in get_excitation_pulse\n",
      "    assert channel_amplitudes_override.id == reference.that.id  ## if we are looking for a specific channel_amplitudes, skip all the others\n",
      "AssertionError\n"
     ]
    },
    {
     "name": "stdout",
     "output_type": "stream",
     "text": [
      "Failed loading fit results of Rabi measurement 3373\n",
      "c:\\data\\2019-07-04\\003379-fit_dataset_1d-1906-001_1_down\n",
      "load_exdir: file open time:  0.0019989013671875\n"
     ]
    },
    {
     "name": "stderr",
     "output_type": "stream",
     "text": [
      "Traceback (most recent call last):\n",
      "  File \"C:\\qtlab_replacement\\qsweepy\\qubit_calibrations\\excitation_pulse.py\", line 99, in get_excitation_pulse\n",
      "    assert channel_amplitudes_override.id == reference.that.id  ## if we are looking for a specific channel_amplitudes, skip all the others\n",
      "AssertionError\n"
     ]
    },
    {
     "name": "stdout",
     "output_type": "stream",
     "text": [
      "Failed loading fit results of Rabi measurement 3378\n",
      "c:\\data\\2019-07-04\\003381-fit_dataset_1d-1906-001_1_down\n",
      "load_exdir: file open time:  0.0019779205322265625\n"
     ]
    },
    {
     "name": "stderr",
     "output_type": "stream",
     "text": [
      "Traceback (most recent call last):\n",
      "  File \"C:\\qtlab_replacement\\qsweepy\\qubit_calibrations\\excitation_pulse.py\", line 99, in get_excitation_pulse\n",
      "    assert channel_amplitudes_override.id == reference.that.id  ## if we are looking for a specific channel_amplitudes, skip all the others\n",
      "AssertionError\n"
     ]
    },
    {
     "name": "stdout",
     "output_type": "stream",
     "text": [
      "Failed loading fit results of Rabi measurement 3380\n",
      "c:\\data\\2019-07-04\\003411-fit_dataset_1d-1906-001_1_down\n",
      "load_exdir: file open time:  0.001992940902709961\n"
     ]
    },
    {
     "name": "stderr",
     "output_type": "stream",
     "text": [
      "Traceback (most recent call last):\n",
      "  File \"C:\\qtlab_replacement\\qsweepy\\qubit_calibrations\\excitation_pulse.py\", line 99, in get_excitation_pulse\n",
      "    assert channel_amplitudes_override.id == reference.that.id  ## if we are looking for a specific channel_amplitudes, skip all the others\n",
      "AssertionError\n"
     ]
    },
    {
     "name": "stdout",
     "output_type": "stream",
     "text": [
      "Failed loading fit results of Rabi measurement 3410\n",
      "c:\\data\\2019-07-04\\003394-fit_dataset_1d-1906-001_1_down\n",
      "load_exdir: file open time:  0.0019981861114501953\n"
     ]
    },
    {
     "name": "stderr",
     "output_type": "stream",
     "text": [
      "Traceback (most recent call last):\n",
      "  File \"C:\\qtlab_replacement\\qsweepy\\qubit_calibrations\\excitation_pulse.py\", line 99, in get_excitation_pulse\n",
      "    assert channel_amplitudes_override.id == reference.that.id  ## if we are looking for a specific channel_amplitudes, skip all the others\n",
      "AssertionError\n"
     ]
    },
    {
     "name": "stdout",
     "output_type": "stream",
     "text": [
      "Failed loading fit results of Rabi measurement 3393\n",
      "c:\\data\\2019-07-04\\003413-fit_dataset_1d-1906-001_1_down\n",
      "load_exdir: file open time:  0.001997232437133789\n"
     ]
    },
    {
     "name": "stderr",
     "output_type": "stream",
     "text": [
      "Traceback (most recent call last):\n",
      "  File \"C:\\qtlab_replacement\\qsweepy\\qubit_calibrations\\excitation_pulse.py\", line 99, in get_excitation_pulse\n",
      "    assert channel_amplitudes_override.id == reference.that.id  ## if we are looking for a specific channel_amplitudes, skip all the others\n",
      "AssertionError\n"
     ]
    },
    {
     "name": "stdout",
     "output_type": "stream",
     "text": [
      "Failed loading fit results of Rabi measurement 3412\n",
      "c:\\data\\2019-07-04\\003396-fit_dataset_1d-1906-001_1_down\n",
      "load_exdir: file open time:  0.001997232437133789\n"
     ]
    },
    {
     "name": "stderr",
     "output_type": "stream",
     "text": [
      "Traceback (most recent call last):\n",
      "  File \"C:\\qtlab_replacement\\qsweepy\\qubit_calibrations\\excitation_pulse.py\", line 99, in get_excitation_pulse\n",
      "    assert channel_amplitudes_override.id == reference.that.id  ## if we are looking for a specific channel_amplitudes, skip all the others\n",
      "AssertionError\n"
     ]
    },
    {
     "name": "stdout",
     "output_type": "stream",
     "text": [
      "c:\\data\\2019-07-04\\003401-fit_dataset_1d-1906-001_1_down\n",
      "load_exdir: file open time:  0.0019991397857666016\n",
      "Failed loading fit results of Rabi measurement 3400\n",
      "c:\\data\\2019-07-04\\003403-fit_dataset_1d-1906-001_1_down\n",
      "load_exdir: file open time:  0.001997232437133789\n"
     ]
    },
    {
     "name": "stderr",
     "output_type": "stream",
     "text": [
      "Traceback (most recent call last):\n",
      "  File \"C:\\qtlab_replacement\\qsweepy\\qubit_calibrations\\excitation_pulse.py\", line 99, in get_excitation_pulse\n",
      "    assert channel_amplitudes_override.id == reference.that.id  ## if we are looking for a specific channel_amplitudes, skip all the others\n",
      "AssertionError\n"
     ]
    },
    {
     "name": "stdout",
     "output_type": "stream",
     "text": [
      "Failed loading fit results of Rabi measurement 3402\n",
      "c:\\data\\2019-07-04\\003405-fit_dataset_1d-1906-001_1_down\n",
      "load_exdir: file open time:  0.0009770393371582031\n"
     ]
    },
    {
     "name": "stderr",
     "output_type": "stream",
     "text": [
      "Traceback (most recent call last):\n",
      "  File \"C:\\qtlab_replacement\\qsweepy\\qubit_calibrations\\excitation_pulse.py\", line 99, in get_excitation_pulse\n",
      "    assert channel_amplitudes_override.id == reference.that.id  ## if we are looking for a specific channel_amplitudes, skip all the others\n",
      "AssertionError\n"
     ]
    },
    {
     "name": "stdout",
     "output_type": "stream",
     "text": [
      "Failed loading fit results of Rabi measurement 3404\n",
      "c:\\data\\2019-07-04\\003407-fit_dataset_1d-1906-001_1_down\n",
      "load_exdir: file open time:  0.0020155906677246094\n"
     ]
    },
    {
     "name": "stderr",
     "output_type": "stream",
     "text": [
      "Traceback (most recent call last):\n",
      "  File \"C:\\qtlab_replacement\\qsweepy\\qubit_calibrations\\excitation_pulse.py\", line 99, in get_excitation_pulse\n",
      "    assert channel_amplitudes_override.id == reference.that.id  ## if we are looking for a specific channel_amplitudes, skip all the others\n",
      "AssertionError\n"
     ]
    },
    {
     "name": "stdout",
     "output_type": "stream",
     "text": [
      "Failed loading fit results of Rabi measurement 3406\n",
      "c:\\data\\2019-07-04\\003409-fit_dataset_1d-1906-001_1_down\n",
      "load_exdir: file open time:  0.0009987354278564453\n"
     ]
    },
    {
     "name": "stderr",
     "output_type": "stream",
     "text": [
      "Traceback (most recent call last):\n",
      "  File \"C:\\qtlab_replacement\\qsweepy\\qubit_calibrations\\excitation_pulse.py\", line 99, in get_excitation_pulse\n",
      "    assert channel_amplitudes_override.id == reference.that.id  ## if we are looking for a specific channel_amplitudes, skip all the others\n",
      "AssertionError\n"
     ]
    },
    {
     "name": "stdout",
     "output_type": "stream",
     "text": [
      "Failed loading fit results of Rabi measurement 3408\n",
      "c:\\data\\2019-07-04\\003421-fit_dataset_1d-1906-001_1_down\n",
      "load_exdir: file open time:  0.0019943714141845703\n"
     ]
    },
    {
     "name": "stderr",
     "output_type": "stream",
     "text": [
      "Traceback (most recent call last):\n",
      "  File \"C:\\qtlab_replacement\\qsweepy\\qubit_calibrations\\excitation_pulse.py\", line 99, in get_excitation_pulse\n",
      "    assert channel_amplitudes_override.id == reference.that.id  ## if we are looking for a specific channel_amplitudes, skip all the others\n",
      "AssertionError\n"
     ]
    },
    {
     "name": "stdout",
     "output_type": "stream",
     "text": [
      "Failed loading fit results of Rabi measurement 3420\n",
      "c:\\data\\2019-07-04\\003415-fit_dataset_1d-1906-001_1_down\n",
      "load_exdir: file open time:  0.001999378204345703\n"
     ]
    },
    {
     "name": "stderr",
     "output_type": "stream",
     "text": [
      "Traceback (most recent call last):\n",
      "  File \"C:\\qtlab_replacement\\qsweepy\\qubit_calibrations\\excitation_pulse.py\", line 99, in get_excitation_pulse\n",
      "    assert channel_amplitudes_override.id == reference.that.id  ## if we are looking for a specific channel_amplitudes, skip all the others\n",
      "AssertionError\n"
     ]
    },
    {
     "name": "stdout",
     "output_type": "stream",
     "text": [
      "Failed loading fit results of Rabi measurement 3414\n",
      "c:\\data\\2019-07-04\\003417-fit_dataset_1d-1906-001_1_down\n",
      "load_exdir: file open time:  0.0019783973693847656\n"
     ]
    },
    {
     "name": "stderr",
     "output_type": "stream",
     "text": [
      "Traceback (most recent call last):\n",
      "  File \"C:\\qtlab_replacement\\qsweepy\\qubit_calibrations\\excitation_pulse.py\", line 99, in get_excitation_pulse\n",
      "    assert channel_amplitudes_override.id == reference.that.id  ## if we are looking for a specific channel_amplitudes, skip all the others\n",
      "AssertionError\n"
     ]
    },
    {
     "name": "stdout",
     "output_type": "stream",
     "text": [
      "c:\\data\\2019-07-04\\003425-fit_dataset_1d-1906-001_1_down\n",
      "load_exdir: file open time:  0.0009989738464355469\n",
      "c:\\data\\2019-07-04\\003423-fit_dataset_1d-1906-001_1_down\n",
      "load_exdir: file open time:  0.0010180473327636719\n",
      "c:\\data\\2019-07-04\\003427-fit_dataset_1d-1906-001_1_down\n",
      "load_exdir: file open time:  0.0010013580322265625\n",
      "c:\\data\\2019-07-04\\003429-fit_dataset_1d-1906-001_1_down\n",
      "load_exdir: file open time:  0.001997709274291992\n",
      "ex_channels_found:  [{'iq_ex3_q1'}, {'iq_ex3_q1'}, {'iq_ex3_q1'}, {'iq_ex3_q1'}, {'iq_ex3_q1'}, {'iq_ex3_q1'}, {'iq_ex3_q1'}, {'iq_ex3_q1'}, {'iq_ex3_q1'}, {'iq_ex3_q1'}, {'iq_ex3_q1'}, {'iq_ex3_q1'}, {'iq_ex3_q1'}, {'iq_ex3_q1'}, {'iq_ex3_q1'}]\n",
      "c:\\data\\2019-07-04\\003429-fit_dataset_1d-1906-001_1_down\n",
      "load_exdir: file open time:  0.0019927024841308594\n",
      "c:\\data\\2019-07-04\\003428-Rabi_rect-1906-001_1_down\n",
      "load_exdir: file open time:  0.0019989013671875\n",
      "load_exdir: file open time:  0.0019979476928710938\n",
      "reference: channel_amplitudes : 2745\n",
      "reference: Rabi_rect : 3428\n",
      "load_exdir: file open time:  0.0019991397857666016\n",
      "c:\\data\\2019-06-26\\002745-channel_amplitudes-1906-001_1_down\n",
      "load_exdir: file open time:  0.001975536346435547\n",
      "Inserting references: {'ex_pulse1': 3187, 'ex_pulse2': 3436, 'readout_background_calibration': 3450}\n",
      "old_parameters: None\n",
      "x fit shape:  (501,)  x shape:  (101,)\n",
      "y fit shape:  (2, 501)  y real:  (2, 101)\n",
      "Inserting references: {'fit_source': 3451}\n"
     ]
    },
    {
     "name": "stderr",
     "output_type": "stream",
     "text": [
      "Traceback (most recent call last):\n",
      "  File \"C:\\qtlab_replacement\\qsweepy\\fitters\\exp_sin.py\", line 23, in exp_sin_fit\n",
      "    raise ValueError\n",
      "ValueError\n"
     ]
    },
    {
     "name": "stdout",
     "output_type": "stream",
     "text": [
      "unpacking old_A_2d complex, old shape:  (1, 1)\n",
      "new shape:  (1, 2)\n",
      "old_parameters: {'amplitudes': (nan+nanj), 'MSE_rel': nan, 'T': nan, 'decay_goodness_test': 0, 'decays_in_scan_length': nan, 'f': nan, 'frequency_goodness_test': 0, 'inf': nan, 'num_periods_decay': nan, 'num_periods_scan': nan, 'phi': nan, 'points_per_period': nan, 'A': array([nan, nan])}\n",
      "x fit shape:  (501,)  x shape:  (101,)\n",
      "y fit shape:  (2, 501)  y real:  (2, 101)\n",
      "updater called\n"
     ]
    },
    {
     "name": "stderr",
     "output_type": "stream",
     "text": [
      "Traceback (most recent call last):\n",
      "  File \"C:\\qtlab_replacement\\qsweepy\\fitters\\exp_sin.py\", line 23, in exp_sin_fit\n",
      "    raise ValueError\n",
      "ValueError\n"
     ]
    },
    {
     "name": "stdout",
     "output_type": "stream",
     "text": [
      "unpacking old_A_2d complex, old shape:  (1, 1)\n",
      "new shape:  (1, 2)\n",
      "old_parameters: {'amplitudes': (nan+nanj), 'MSE_rel': nan, 'T': nan, 'decay_goodness_test': 0, 'decays_in_scan_length': nan, 'f': nan, 'frequency_goodness_test': 0, 'inf': nan, 'num_periods_decay': nan, 'num_periods_scan': nan, 'phi': nan, 'points_per_period': nan, 'A': array([nan, nan])}\n",
      "x fit shape:  (501,)  x shape:  (101,)\n",
      "y fit shape:  (2, 501)  y real:  (2, 101)\n",
      "updater called\n"
     ]
    },
    {
     "name": "stderr",
     "output_type": "stream",
     "text": [
      "Traceback (most recent call last):\n",
      "  File \"C:\\qtlab_replacement\\qsweepy\\fitters\\exp_sin.py\", line 23, in exp_sin_fit\n",
      "    raise ValueError\n",
      "ValueError\n"
     ]
    },
    {
     "name": "stdout",
     "output_type": "stream",
     "text": [
      "unpacking old_A_2d complex, old shape:  (1, 1)\n",
      "new shape:  (1, 2)\n",
      "old_parameters: {'amplitudes': (nan+nanj), 'MSE_rel': nan, 'T': nan, 'decay_goodness_test': 0, 'decays_in_scan_length': nan, 'f': nan, 'frequency_goodness_test': 0, 'inf': nan, 'num_periods_decay': nan, 'num_periods_scan': nan, 'phi': nan, 'points_per_period': nan, 'A': array([nan, nan])}\n",
      "x fit shape:  (501,)  x shape:  (101,)\n",
      "y fit shape:  (2, 501)  y real:  (2, 101)\n",
      "updater called\n"
     ]
    },
    {
     "name": "stderr",
     "output_type": "stream",
     "text": [
      "Traceback (most recent call last):\n",
      "  File \"C:\\qtlab_replacement\\qsweepy\\fitters\\exp_sin.py\", line 23, in exp_sin_fit\n",
      "    raise ValueError\n",
      "ValueError\n"
     ]
    },
    {
     "name": "stdout",
     "output_type": "stream",
     "text": [
      "unpacking old_A_2d complex, old shape:  (1, 1)\n",
      "new shape:  (1, 2)\n",
      "old_parameters: {'amplitudes': (nan+nanj), 'MSE_rel': nan, 'T': nan, 'decay_goodness_test': 0, 'decays_in_scan_length': nan, 'f': nan, 'frequency_goodness_test': 0, 'inf': nan, 'num_periods_decay': nan, 'num_periods_scan': nan, 'phi': nan, 'points_per_period': nan, 'A': array([nan, nan])}\n",
      "x fit shape:  (501,)  x shape:  (101,)\n",
      "y fit shape:  (2, 501)  y real:  (2, 101)\n",
      "updater called\n"
     ]
    },
    {
     "name": "stderr",
     "output_type": "stream",
     "text": [
      "Traceback (most recent call last):\n",
      "  File \"C:\\qtlab_replacement\\qsweepy\\fitters\\exp_sin.py\", line 23, in exp_sin_fit\n",
      "    raise ValueError\n",
      "ValueError\n"
     ]
    },
    {
     "name": "stdout",
     "output_type": "stream",
     "text": [
      "unpacking old_A_2d complex, old shape:  (1, 1)\n",
      "new shape:  (1, 2)\n",
      "old_parameters: {'amplitudes': (nan+nanj), 'MSE_rel': nan, 'T': nan, 'decay_goodness_test': 0, 'decays_in_scan_length': nan, 'f': nan, 'frequency_goodness_test': 0, 'inf': nan, 'num_periods_decay': nan, 'num_periods_scan': nan, 'phi': nan, 'points_per_period': nan, 'A': array([nan, nan])}\n",
      "x fit shape:  (501,)  x shape:  (101,)\n",
      "y fit shape:  (2, 501)  y real:  (2, 101)\n",
      "updater called\n"
     ]
    },
    {
     "name": "stderr",
     "output_type": "stream",
     "text": [
      "Traceback (most recent call last):\n",
      "  File \"C:\\qtlab_replacement\\qsweepy\\fitters\\exp_sin.py\", line 60, in exp_sin_fit\n",
      "    T = np.sqrt(np.mean(np.abs(ft[:,fR_id])**2)/np.mean(np.abs((ft[:,fR_id-1]+ft[:,fR_id+1])/2)**2)-1)/domega/2\n",
      "IndexError: index 5 is out of bounds for axis 1 with size 5\n",
      "C:\\ProgramData\\Anaconda3\\lib\\site-packages\\scipy\\optimize\\minpack.py:436: RuntimeWarning:\n",
      "\n",
      "Number of calls to function has reached maxfev = 1400.\n",
      "\n"
     ]
    },
    {
     "name": "stdout",
     "output_type": "stream",
     "text": [
      "unpacking old_A_2d complex, old shape:  (1, 1)\n",
      "new shape:  (1, 2)\n",
      "old_parameters: {'amplitudes': (2.486936487544056-2.9574848597527548j), 'MSE_rel': 0.9776564949820413, 'T': inf, 'decay_goodness_test': 0, 'decays_in_scan_length': 0.0, 'f': 107427.73216362728, 'frequency_goodness_test': 0, 'inf': 0.9124835328439762, 'num_periods_decay': inf, 'num_periods_scan': 0.04297109286545091, 'phi': -6.044836119148201, 'points_per_period': 93.0858335980566, 'A': array([ 2.48693649, -2.95748486])}\n",
      "x fit shape:  (501,)  x shape:  (101,)\n",
      "y fit shape:  (2, 501)  y real:  (2, 101)\n",
      "updater called\n"
     ]
    },
    {
     "name": "stderr",
     "output_type": "stream",
     "text": [
      "Traceback (most recent call last):\n",
      "  File \"C:\\qtlab_replacement\\qsweepy\\fitters\\exp_sin.py\", line 60, in exp_sin_fit\n",
      "    T = np.sqrt(np.mean(np.abs(ft[:,fR_id])**2)/np.mean(np.abs((ft[:,fR_id-1]+ft[:,fR_id+1])/2)**2)-1)/domega/2\n",
      "IndexError: index 6 is out of bounds for axis 1 with size 6\n"
     ]
    },
    {
     "name": "stdout",
     "output_type": "stream",
     "text": [
      "unpacking old_A_2d complex, old shape:  (1, 1)\n",
      "new shape:  (1, 2)\n",
      "old_parameters: {'amplitudes': (1.4223984538180445-1.6883983369187654j), 'MSE_rel': 0.0020391771962703148, 'T': 0.004569447730053853, 'decay_goodness_test': 0, 'decays_in_scan_length': 0.00010942241372221741, 'f': 151982.47699324918, 'frequency_goodness_test': 0, 'inf': 0.8478157177574422, 'num_periods_decay': 694.4759845047644, 'num_periods_scan': 0.07599123849662459, 'phi': -0.3146939927787176, 'points_per_period': 65.79705896255517, 'A': array([ 1.42239845, -1.68839834])}\n",
      "x fit shape:  (501,)  x shape:  (101,)\n",
      "y fit shape:  (2, 501)  y real:  (2, 101)\n",
      "updater called\n"
     ]
    },
    {
     "name": "stderr",
     "output_type": "stream",
     "text": [
      "Traceback (most recent call last):\n",
      "  File \"C:\\qtlab_replacement\\qsweepy\\fitters\\exp_sin.py\", line 60, in exp_sin_fit\n",
      "    T = np.sqrt(np.mean(np.abs(ft[:,fR_id])**2)/np.mean(np.abs((ft[:,fR_id-1]+ft[:,fR_id+1])/2)**2)-1)/domega/2\n",
      "IndexError: index 7 is out of bounds for axis 1 with size 7\n"
     ]
    },
    {
     "name": "stdout",
     "output_type": "stream",
     "text": [
      "unpacking old_A_2d complex, old shape:  (1, 1)\n",
      "new shape:  (1, 2)\n",
      "old_parameters: {'amplitudes': (1.5227150388448907-1.7958125235835818j), 'MSE_rel': 0.001945131897450097, 'T': 0.00043987386800470123, 'decay_goodness_test': 0, 'decays_in_scan_length': 0.0013640273806708322, 'f': 142649.70239129307, 'frequency_goodness_test': 0, 'inf': 0.8567171088605885, 'num_periods_decay': 62.747876360577564, 'num_periods_scan': 0.08558982143477584, 'phi': -0.30439789842211695, 'points_per_period': 70.10179364110873, 'A': array([ 1.52271504, -1.79581252])}\n",
      "x fit shape:  (501,)  x shape:  (101,)\n",
      "y fit shape:  (2, 501)  y real:  (2, 101)\n",
      "updater called\n"
     ]
    },
    {
     "name": "stderr",
     "output_type": "stream",
     "text": [
      "Traceback (most recent call last):\n",
      "  File \"C:\\qtlab_replacement\\qsweepy\\fitters\\exp_sin.py\", line 60, in exp_sin_fit\n",
      "    T = np.sqrt(np.mean(np.abs(ft[:,fR_id])**2)/np.mean(np.abs((ft[:,fR_id-1]+ft[:,fR_id+1])/2)**2)-1)/domega/2\n",
      "IndexError: index 8 is out of bounds for axis 1 with size 8\n"
     ]
    },
    {
     "name": "stdout",
     "output_type": "stream",
     "text": [
      "unpacking old_A_2d complex, old shape:  (1, 1)\n",
      "new shape:  (1, 2)\n",
      "old_parameters: {'amplitudes': (1.5433721966976095-1.7452550188655864j), 'MSE_rel': 0.004934290914173108, 'T': inf, 'decay_goodness_test': 0, 'decays_in_scan_length': 0.0, 'f': 106689.69224712705, 'frequency_goodness_test': 0, 'inf': 0.8595494644496171, 'num_periods_decay': inf, 'num_periods_scan': 0.07468278457298894, 'phi': -0.26907277466646917, 'points_per_period': 93.72976704100748, 'A': array([ 1.5433722 , -1.74525502])}\n",
      "x fit shape:  (501,)  x shape:  (101,)\n",
      "y fit shape:  (2, 501)  y real:  (2, 101)\n",
      "updater called\n"
     ]
    },
    {
     "name": "stderr",
     "output_type": "stream",
     "text": [
      "Traceback (most recent call last):\n",
      "  File \"C:\\qtlab_replacement\\qsweepy\\fitters\\exp_sin.py\", line 60, in exp_sin_fit\n",
      "    T = np.sqrt(np.mean(np.abs(ft[:,fR_id])**2)/np.mean(np.abs((ft[:,fR_id-1]+ft[:,fR_id+1])/2)**2)-1)/domega/2\n",
      "IndexError: index 9 is out of bounds for axis 1 with size 9\n"
     ]
    },
    {
     "name": "stdout",
     "output_type": "stream",
     "text": [
      "unpacking old_A_2d complex, old shape:  (1, 1)\n",
      "new shape:  (1, 2)\n",
      "old_parameters: {'amplitudes': (1.5433721966976095-1.7452550188655864j), 'MSE_rel': 0.004603230332741599, 'T': inf, 'decay_goodness_test': 0, 'decays_in_scan_length': 0.0, 'f': 106689.69224712705, 'frequency_goodness_test': 0, 'inf': 0.8595494644496171, 'num_periods_decay': inf, 'num_periods_scan': 0.08535175379770164, 'phi': -0.26907277466646917, 'points_per_period': 93.72976704100748, 'A': array([ 1.5433722 , -1.74525502])}\n",
      "x fit shape:  (501,)  x shape:  (101,)\n",
      "y fit shape:  (2, 501)  y real:  (2, 101)\n",
      "updater called\n"
     ]
    },
    {
     "name": "stderr",
     "output_type": "stream",
     "text": [
      "Traceback (most recent call last):\n",
      "  File \"C:\\qtlab_replacement\\qsweepy\\fitters\\exp_sin.py\", line 60, in exp_sin_fit\n",
      "    T = np.sqrt(np.mean(np.abs(ft[:,fR_id])**2)/np.mean(np.abs((ft[:,fR_id-1]+ft[:,fR_id+1])/2)**2)-1)/domega/2\n",
      "IndexError: index 10 is out of bounds for axis 1 with size 10\n"
     ]
    },
    {
     "name": "stdout",
     "output_type": "stream",
     "text": [
      "unpacking old_A_2d complex, old shape:  (1, 1)\n",
      "new shape:  (1, 2)\n",
      "old_parameters: {'amplitudes': (0.6004550025390978-0.6762845133426074j), 'MSE_rel': 0.0045780920569522985, 'T': 2.1700769595197607e-06, 'decay_goodness_test': 0, 'decays_in_scan_length': 0.4147318352244846, 'f': 191826.82309977923, 'frequency_goodness_test': 0, 'inf': 0.4185417710040354, 'num_periods_decay': 0.4162789690267039, 'num_periods_scan': 0.1726441407898013, 'phi': -0.8198685968144082, 'points_per_period': 52.13035298404788, 'A': array([ 0.600455  , -0.67628451])}\n",
      "x fit shape:  (501,)  x shape:  (101,)\n",
      "y fit shape:  (2, 501)  y real:  (2, 101)\n",
      "updater called\n"
     ]
    },
    {
     "name": "stderr",
     "output_type": "stream",
     "text": [
      "Traceback (most recent call last):\n",
      "  File \"C:\\qtlab_replacement\\qsweepy\\fitters\\exp_sin.py\", line 60, in exp_sin_fit\n",
      "    T = np.sqrt(np.mean(np.abs(ft[:,fR_id])**2)/np.mean(np.abs((ft[:,fR_id-1]+ft[:,fR_id+1])/2)**2)-1)/domega/2\n",
      "IndexError: index 11 is out of bounds for axis 1 with size 11\n"
     ]
    },
    {
     "name": "stdout",
     "output_type": "stream",
     "text": [
      "unpacking old_A_2d complex, old shape:  (1, 1)\n",
      "new shape:  (1, 2)\n",
      "old_parameters: {'amplitudes': (0.6004550025390978-0.6762845133426074j), 'MSE_rel': 0.004536006414687748, 'T': 2.1700769595197607e-06, 'decay_goodness_test': 0, 'decays_in_scan_length': 0.4608131502494273, 'f': 191826.82309977923, 'frequency_goodness_test': 0, 'inf': 0.4185417710040354, 'num_periods_decay': 0.4162789690267039, 'num_periods_scan': 0.19182682309977922, 'phi': -0.8198685968144082, 'points_per_period': 52.13035298404788, 'A': array([ 0.600455  , -0.67628451])}\n",
      "x fit shape:  (501,)  x shape:  (101,)\n",
      "y fit shape:  (2, 501)  y real:  (2, 101)\n",
      "updater called\n"
     ]
    },
    {
     "name": "stderr",
     "output_type": "stream",
     "text": [
      "Traceback (most recent call last):\n",
      "  File \"C:\\qtlab_replacement\\qsweepy\\fitters\\exp_sin.py\", line 60, in exp_sin_fit\n",
      "    T = np.sqrt(np.mean(np.abs(ft[:,fR_id])**2)/np.mean(np.abs((ft[:,fR_id-1]+ft[:,fR_id+1])/2)**2)-1)/domega/2\n",
      "IndexError: index 12 is out of bounds for axis 1 with size 12\n"
     ]
    },
    {
     "name": "stdout",
     "output_type": "stream",
     "text": [
      "unpacking old_A_2d complex, old shape:  (1, 1)\n",
      "new shape:  (1, 2)\n",
      "old_parameters: {'amplitudes': (2.677377485149888-3.018447190645856j), 'MSE_rel': 0.00458007679512928, 'T': 1.6283426103513977e-06, 'decay_goodness_test': 0, 'decays_in_scan_length': 0.6755335105814243, 'f': 75391.40769606039, 'frequency_goodness_test': 0, 'inf': 0.403901645178508, 'num_periods_decay': 0.12276304160586941, 'num_periods_scan': 0.08293054846566643, 'phi': -1.0897917552842218, 'points_per_period': 132.64110998318122, 'A': array([ 2.67737749, -3.01844719])}\n",
      "x fit shape:  (501,)  x shape:  (101,)\n",
      "y fit shape:  (2, 501)  y real:  (2, 101)\n",
      "updater called\n"
     ]
    },
    {
     "name": "stderr",
     "output_type": "stream",
     "text": [
      "Traceback (most recent call last):\n",
      "  File \"C:\\qtlab_replacement\\qsweepy\\fitters\\exp_sin.py\", line 60, in exp_sin_fit\n",
      "    T = np.sqrt(np.mean(np.abs(ft[:,fR_id])**2)/np.mean(np.abs((ft[:,fR_id-1]+ft[:,fR_id+1])/2)**2)-1)/domega/2\n",
      "IndexError: index 13 is out of bounds for axis 1 with size 13\n"
     ]
    },
    {
     "name": "stdout",
     "output_type": "stream",
     "text": [
      "unpacking old_A_2d complex, old shape:  (1, 1)\n",
      "new shape:  (1, 2)\n",
      "old_parameters: {'amplitudes': (-0.07950923979560558+0.08938206184207123j), 'MSE_rel': 0.005853867280151597, 'T': inf, 'decay_goodness_test': 0, 'decays_in_scan_length': 0.0, 'f': 536741.4641120769, 'frequency_goodness_test': 0, 'inf': 1.783900219197485, 'num_periods_decay': inf, 'num_periods_scan': 0.6440897569344922, 'phi': -4.462990125036584, 'points_per_period': 18.630943701252605, 'A': array([-0.07950924,  0.08938206])}\n",
      "x fit shape:  (501,)  x shape:  (101,)\n",
      "y fit shape:  (2, 501)  y real:  (2, 101)\n",
      "updater called\n"
     ]
    },
    {
     "name": "stderr",
     "output_type": "stream",
     "text": [
      "Traceback (most recent call last):\n",
      "  File \"C:\\qtlab_replacement\\qsweepy\\fitters\\exp_sin.py\", line 60, in exp_sin_fit\n",
      "    T = np.sqrt(np.mean(np.abs(ft[:,fR_id])**2)/np.mean(np.abs((ft[:,fR_id-1]+ft[:,fR_id+1])/2)**2)-1)/domega/2\n",
      "IndexError: index 14 is out of bounds for axis 1 with size 14\n"
     ]
    },
    {
     "name": "stdout",
     "output_type": "stream",
     "text": [
      "unpacking old_A_2d complex, old shape:  (1, 1)\n",
      "new shape:  (1, 2)\n",
      "old_parameters: {'amplitudes': (-0.07351376440009201+0.08258765031998305j), 'MSE_rel': 0.006063685338416518, 'T': 9.633396215847194, 'decay_goodness_test': 0, 'decays_in_scan_length': 1.349472160048255e-07, 'f': 581388.4872029363, 'frequency_goodness_test': 0, 'inf': 2.0360154922205753, 'num_periods_decay': 5600745.652557892, 'num_periods_scan': 0.7558050333638171, 'phi': -4.565635440175187, 'points_per_period': 17.200202996984107, 'A': array([-0.07351376,  0.08258765])}\n",
      "x fit shape:  (501,)  x shape:  (101,)\n",
      "y fit shape:  (2, 501)  y real:  (2, 101)\n",
      "updater called\n"
     ]
    },
    {
     "name": "stderr",
     "output_type": "stream",
     "text": [
      "Traceback (most recent call last):\n",
      "  File \"C:\\qtlab_replacement\\qsweepy\\fitters\\exp_sin.py\", line 60, in exp_sin_fit\n",
      "    T = np.sqrt(np.mean(np.abs(ft[:,fR_id])**2)/np.mean(np.abs((ft[:,fR_id-1]+ft[:,fR_id+1])/2)**2)-1)/domega/2\n",
      "IndexError: index 15 is out of bounds for axis 1 with size 15\n"
     ]
    },
    {
     "name": "stdout",
     "output_type": "stream",
     "text": [
      "unpacking old_A_2d complex, old shape:  (1, 1)\n",
      "new shape:  (1, 2)\n",
      "old_parameters: {'amplitudes': (-0.07351376440009201+0.08258765031998305j), 'MSE_rel': 0.006059925385036599, 'T': 9.633396215847194, 'decay_goodness_test': 0, 'decays_in_scan_length': 1.4532777108211977e-07, 'f': 581388.4872029363, 'frequency_goodness_test': 0, 'inf': 2.0360154922205753, 'num_periods_decay': 5600745.652557892, 'num_periods_scan': 0.8139438820841108, 'phi': -4.565635440175187, 'points_per_period': 17.200202996984107, 'A': array([-0.07351376,  0.08258765])}\n",
      "x fit shape:  (501,)  x shape:  (101,)\n",
      "y fit shape:  (2, 501)  y real:  (2, 101)\n",
      "updater called\n"
     ]
    },
    {
     "name": "stderr",
     "output_type": "stream",
     "text": [
      "Traceback (most recent call last):\n",
      "  File \"C:\\qtlab_replacement\\qsweepy\\fitters\\exp_sin.py\", line 60, in exp_sin_fit\n",
      "    T = np.sqrt(np.mean(np.abs(ft[:,fR_id])**2)/np.mean(np.abs((ft[:,fR_id-1]+ft[:,fR_id+1])/2)**2)-1)/domega/2\n",
      "IndexError: index 16 is out of bounds for axis 1 with size 16\n"
     ]
    },
    {
     "name": "stdout",
     "output_type": "stream",
     "text": [
      "unpacking old_A_2d complex, old shape:  (1, 1)\n",
      "new shape:  (1, 2)\n",
      "old_parameters: {'amplitudes': (-0.07425473030319893+0.08342419308128503j), 'MSE_rel': 0.006445228462791537, 'T': inf, 'decay_goodness_test': 0, 'decays_in_scan_length': 0.0, 'f': 567236.9723767509, 'frequency_goodness_test': 0, 'inf': 1.9923053816850211, 'num_periods_decay': inf, 'num_periods_scan': 0.8508554585651263, 'phi': -4.532280261979793, 'points_per_period': 17.629316294562937, 'A': array([-0.07425473,  0.08342419])}\n",
      "x fit shape:  (501,)  x shape:  (101,)\n",
      "y fit shape:  (2, 501)  y real:  (2, 101)\n",
      "updater called\n"
     ]
    },
    {
     "name": "stderr",
     "output_type": "stream",
     "text": [
      "Traceback (most recent call last):\n",
      "  File \"C:\\qtlab_replacement\\qsweepy\\fitters\\exp_sin.py\", line 60, in exp_sin_fit\n",
      "    T = np.sqrt(np.mean(np.abs(ft[:,fR_id])**2)/np.mean(np.abs((ft[:,fR_id-1]+ft[:,fR_id+1])/2)**2)-1)/domega/2\n",
      "IndexError: index 17 is out of bounds for axis 1 with size 17\n"
     ]
    },
    {
     "name": "stdout",
     "output_type": "stream",
     "text": [
      "unpacking old_A_2d complex, old shape:  (1, 1)\n",
      "new shape:  (1, 2)\n",
      "old_parameters: {'amplitudes': (-0.07825424303284699+0.08525914962106941j), 'MSE_rel': 0.009871758281647597, 'T': 65.98174474787474, 'decay_goodness_test': 0, 'decays_in_scan_length': 2.4249131424363185e-08, 'f': 606819.2955107724, 'frequency_goodness_test': 0, 'inf': 1.9538835192859687, 'num_periods_decay': 40038995.86447696, 'num_periods_scan': 0.9709108728172358, 'phi': -4.621916511240639, 'points_per_period': 16.47937050449721, 'A': array([-0.07825424,  0.08525915])}\n",
      "x fit shape:  (501,)  x shape:  (101,)\n",
      "y fit shape:  (2, 501)  y real:  (2, 101)\n",
      "updater called\n"
     ]
    },
    {
     "name": "stderr",
     "output_type": "stream",
     "text": [
      "Traceback (most recent call last):\n",
      "  File \"C:\\qtlab_replacement\\qsweepy\\fitters\\exp_sin.py\", line 60, in exp_sin_fit\n",
      "    T = np.sqrt(np.mean(np.abs(ft[:,fR_id])**2)/np.mean(np.abs((ft[:,fR_id-1]+ft[:,fR_id+1])/2)**2)-1)/domega/2\n",
      "IndexError: index 18 is out of bounds for axis 1 with size 18\n"
     ]
    },
    {
     "name": "stdout",
     "output_type": "stream",
     "text": [
      "unpacking old_A_2d complex, old shape:  (1, 1)\n",
      "new shape:  (1, 2)\n",
      "old_parameters: {'amplitudes': (-0.05097840124189621+0.05573775984064839j), 'MSE_rel': 0.024067394918464234, 'T': inf, 'decay_goodness_test': 0, 'decays_in_scan_length': 0.0, 'f': 600206.5127531491, 'frequency_goodness_test': 0, 'inf': 3.172418418835944, 'num_periods_decay': inf, 'num_periods_scan': 1.0203510716803534, 'phi': -4.560537907373731, 'points_per_period': 16.66093217504417, 'A': array([-0.0509784 ,  0.05573776])}\n",
      "x fit shape:  (501,)  x shape:  (101,)\n",
      "y fit shape:  (2, 501)  y real:  (2, 101)\n",
      "updater called\n"
     ]
    },
    {
     "name": "stderr",
     "output_type": "stream",
     "text": [
      "Traceback (most recent call last):\n",
      "  File \"C:\\qtlab_replacement\\qsweepy\\fitters\\exp_sin.py\", line 60, in exp_sin_fit\n",
      "    T = np.sqrt(np.mean(np.abs(ft[:,fR_id])**2)/np.mean(np.abs((ft[:,fR_id-1]+ft[:,fR_id+1])/2)**2)-1)/domega/2\n",
      "IndexError: index 19 is out of bounds for axis 1 with size 19\n"
     ]
    },
    {
     "name": "stdout",
     "output_type": "stream",
     "text": [
      "unpacking old_A_2d complex, old shape:  (1, 1)\n",
      "new shape:  (1, 2)\n",
      "old_parameters: {'amplitudes': (-0.07263042577076252+0.07973323342167826j), 'MSE_rel': 0.011208335925721503, 'T': inf, 'decay_goodness_test': 0, 'decays_in_scan_length': 0.0, 'f': 595298.6933149812, 'frequency_goodness_test': 0, 'inf': 2.10843635331349, 'num_periods_decay': inf, 'num_periods_scan': 1.071537647966966, 'phi': -4.585587147311777, 'points_per_period': 16.798289853978993, 'A': array([-0.07263043,  0.07973323])}\n",
      "x fit shape:  (501,)  x shape:  (101,)\n",
      "y fit shape:  (2, 501)  y real:  (2, 101)\n",
      "updater called\n"
     ]
    },
    {
     "name": "stderr",
     "output_type": "stream",
     "text": [
      "Traceback (most recent call last):\n",
      "  File \"C:\\qtlab_replacement\\qsweepy\\fitters\\exp_sin.py\", line 60, in exp_sin_fit\n",
      "    T = np.sqrt(np.mean(np.abs(ft[:,fR_id])**2)/np.mean(np.abs((ft[:,fR_id-1]+ft[:,fR_id+1])/2)**2)-1)/domega/2\n",
      "IndexError: index 20 is out of bounds for axis 1 with size 20\n"
     ]
    },
    {
     "name": "stdout",
     "output_type": "stream",
     "text": [
      "unpacking old_A_2d complex, old shape:  (1, 1)\n",
      "new shape:  (1, 2)\n",
      "old_parameters: {'amplitudes': (-0.07319663821541363+0.08115425142773709j), 'MSE_rel': 0.01067429901942623, 'T': inf, 'decay_goodness_test': 0, 'decays_in_scan_length': 0.0, 'f': 597856.8994262293, 'frequency_goodness_test': 0, 'inf': 2.0802487532230662, 'num_periods_decay': inf, 'num_periods_scan': 1.1359281089098356, 'phi': -4.59815909406384, 'points_per_period': 16.726410633710383, 'A': array([-0.07319664,  0.08115425])}\n",
      "x fit shape:  (501,)  x shape:  (101,)\n",
      "y fit shape:  (2, 501)  y real:  (2, 101)\n",
      "updater called\n"
     ]
    },
    {
     "name": "stderr",
     "output_type": "stream",
     "text": [
      "Traceback (most recent call last):\n",
      "  File \"C:\\qtlab_replacement\\qsweepy\\fitters\\exp_sin.py\", line 60, in exp_sin_fit\n",
      "    T = np.sqrt(np.mean(np.abs(ft[:,fR_id])**2)/np.mean(np.abs((ft[:,fR_id-1]+ft[:,fR_id+1])/2)**2)-1)/domega/2\n",
      "IndexError: index 21 is out of bounds for axis 1 with size 21\n"
     ]
    },
    {
     "name": "stdout",
     "output_type": "stream",
     "text": [
      "unpacking old_A_2d complex, old shape:  (1, 1)\n",
      "new shape:  (1, 2)\n",
      "old_parameters: {'amplitudes': (-0.07326083154646322+0.08127119508301497j), 'MSE_rel': 0.0098106383632181, 'T': inf, 'decay_goodness_test': 0, 'decays_in_scan_length': 0.0, 'f': 597908.2979432596, 'frequency_goodness_test': 0, 'inf': 2.078018694539352, 'num_periods_decay': inf, 'num_periods_scan': 1.1958165958865192, 'phi': -4.598396375130301, 'points_per_period': 16.724972766557894, 'A': array([-0.07326083,  0.0812712 ])}\n",
      "x fit shape:  (501,)  x shape:  (101,)\n",
      "y fit shape:  (2, 501)  y real:  (2, 101)\n",
      "updater called\n"
     ]
    },
    {
     "name": "stderr",
     "output_type": "stream",
     "text": [
      "Traceback (most recent call last):\n",
      "  File \"C:\\qtlab_replacement\\qsweepy\\fitters\\exp_sin.py\", line 60, in exp_sin_fit\n",
      "    T = np.sqrt(np.mean(np.abs(ft[:,fR_id])**2)/np.mean(np.abs((ft[:,fR_id-1]+ft[:,fR_id+1])/2)**2)-1)/domega/2\n",
      "IndexError: index 22 is out of bounds for axis 1 with size 22\n"
     ]
    },
    {
     "name": "stdout",
     "output_type": "stream",
     "text": [
      "unpacking old_A_2d complex, old shape:  (1, 1)\n",
      "new shape:  (1, 2)\n",
      "old_parameters: {'amplitudes': (-0.0732629744492419+0.08127458910210748j), 'MSE_rel': 0.009041406794753525, 'T': inf, 'decay_goodness_test': 0, 'decays_in_scan_length': 0.0, 'f': 597903.6433003624, 'frequency_goodness_test': 0, 'inf': 2.0779661068146966, 'num_periods_decay': inf, 'num_periods_scan': 1.255597650930761, 'phi': -4.5983723597795185, 'points_per_period': 16.725102969436847, 'A': array([-0.07326297,  0.08127459])}\n",
      "x fit shape:  (501,)  x shape:  (101,)\n",
      "y fit shape:  (2, 501)  y real:  (2, 101)\n",
      "updater called\n"
     ]
    },
    {
     "name": "stderr",
     "output_type": "stream",
     "text": [
      "Traceback (most recent call last):\n",
      "  File \"C:\\qtlab_replacement\\qsweepy\\fitters\\exp_sin.py\", line 60, in exp_sin_fit\n",
      "    T = np.sqrt(np.mean(np.abs(ft[:,fR_id])**2)/np.mean(np.abs((ft[:,fR_id-1]+ft[:,fR_id+1])/2)**2)-1)/domega/2\n",
      "IndexError: index 23 is out of bounds for axis 1 with size 23\n"
     ]
    },
    {
     "name": "stdout",
     "output_type": "stream",
     "text": [
      "unpacking old_A_2d complex, old shape:  (1, 1)\n",
      "new shape:  (1, 2)\n",
      "old_parameters: {'amplitudes': (-0.0732629744492419+0.08127458910210748j), 'MSE_rel': 0.0084391104289651, 'T': inf, 'decay_goodness_test': 0, 'decays_in_scan_length': 0.0, 'f': 597903.6433003624, 'frequency_goodness_test': 0, 'inf': 2.0779661068146966, 'num_periods_decay': inf, 'num_periods_scan': 1.3153880152607973, 'phi': -4.5983723597795185, 'points_per_period': 16.725102969436847, 'A': array([-0.07326297,  0.08127459])}\n",
      "x fit shape:  (501,)  x shape:  (101,)\n",
      "y fit shape:  (2, 501)  y real:  (2, 101)\n",
      "updater called\n"
     ]
    },
    {
     "name": "stderr",
     "output_type": "stream",
     "text": [
      "Traceback (most recent call last):\n",
      "  File \"C:\\qtlab_replacement\\qsweepy\\fitters\\exp_sin.py\", line 60, in exp_sin_fit\n",
      "    T = np.sqrt(np.mean(np.abs(ft[:,fR_id])**2)/np.mean(np.abs((ft[:,fR_id-1]+ft[:,fR_id+1])/2)**2)-1)/domega/2\n",
      "IndexError: index 24 is out of bounds for axis 1 with size 24\n"
     ]
    },
    {
     "name": "stdout",
     "output_type": "stream",
     "text": [
      "unpacking old_A_2d complex, old shape:  (1, 1)\n",
      "new shape:  (1, 2)\n",
      "old_parameters: {'amplitudes': (-0.07288233854750642+0.0808419740586736j), 'MSE_rel': 0.008264412682715131, 'T': inf, 'decay_goodness_test': 0, 'decays_in_scan_length': 0.0, 'f': 594927.0830996903, 'frequency_goodness_test': 0, 'inf': 2.0983525725666325, 'num_periods_decay': inf, 'num_periods_scan': 1.3683322911292877, 'phi': -4.582968845551841, 'points_per_period': 16.808782595503942, 'A': array([-0.07288234,  0.08084197])}\n",
      "x fit shape:  (501,)  x shape:  (101,)\n",
      "y fit shape:  (2, 501)  y real:  (2, 101)\n",
      "updater called\n"
     ]
    },
    {
     "name": "stderr",
     "output_type": "stream",
     "text": [
      "Traceback (most recent call last):\n",
      "  File \"C:\\qtlab_replacement\\qsweepy\\fitters\\exp_sin.py\", line 60, in exp_sin_fit\n",
      "    T = np.sqrt(np.mean(np.abs(ft[:,fR_id])**2)/np.mean(np.abs((ft[:,fR_id-1]+ft[:,fR_id+1])/2)**2)-1)/domega/2\n",
      "IndexError: index 25 is out of bounds for axis 1 with size 25\n"
     ]
    },
    {
     "name": "stdout",
     "output_type": "stream",
     "text": [
      "unpacking old_A_2d complex, old shape:  (1, 1)\n",
      "new shape:  (1, 2)\n",
      "old_parameters: {'amplitudes': (-0.07298461467620425+0.08098823976800365j), 'MSE_rel': 0.007972598896924055, 'T': inf, 'decay_goodness_test': 0, 'decays_in_scan_length': 0.0, 'f': 595226.7884852196, 'frequency_goodness_test': 0, 'inf': 2.094127764260918, 'num_periods_decay': inf, 'num_periods_scan': 1.4285442923645268, 'phi': -4.584555197824196, 'points_per_period': 16.800319127855108, 'A': array([-0.07298461,  0.08098824])}\n",
      "x fit shape:  (501,)  x shape:  (101,)\n",
      "y fit shape:  (2, 501)  y real:  (2, 101)\n",
      "updater called\n"
     ]
    },
    {
     "name": "stderr",
     "output_type": "stream",
     "text": [
      "Traceback (most recent call last):\n",
      "  File \"C:\\qtlab_replacement\\qsweepy\\fitters\\exp_sin.py\", line 60, in exp_sin_fit\n",
      "    T = np.sqrt(np.mean(np.abs(ft[:,fR_id])**2)/np.mean(np.abs((ft[:,fR_id-1]+ft[:,fR_id+1])/2)**2)-1)/domega/2\n",
      "IndexError: index 26 is out of bounds for axis 1 with size 26\n"
     ]
    },
    {
     "name": "stdout",
     "output_type": "stream",
     "text": [
      "unpacking old_A_2d complex, old shape:  (1, 1)\n",
      "new shape:  (1, 2)\n",
      "old_parameters: {'amplitudes': (-0.07171768694302647+0.07956051636436197j), 'MSE_rel': 0.008162106544827697, 'T': inf, 'decay_goodness_test': 0, 'decays_in_scan_length': 0.0, 'f': 590981.6390736549, 'frequency_goodness_test': 0, 'inf': 2.1449700952405633, 'num_periods_decay': inf, 'num_periods_scan': 1.477454097684137, 'phi': -4.562316803439093, 'points_per_period': 16.92099946738563, 'A': array([-0.07171769,  0.07956052])}\n",
      "x fit shape:  (501,)  x shape:  (101,)\n",
      "y fit shape:  (2, 501)  y real:  (2, 101)\n",
      "updater called\n"
     ]
    },
    {
     "name": "stderr",
     "output_type": "stream",
     "text": [
      "Traceback (most recent call last):\n",
      "  File \"C:\\qtlab_replacement\\qsweepy\\fitters\\exp_sin.py\", line 60, in exp_sin_fit\n",
      "    T = np.sqrt(np.mean(np.abs(ft[:,fR_id])**2)/np.mean(np.abs((ft[:,fR_id-1]+ft[:,fR_id+1])/2)**2)-1)/domega/2\n",
      "IndexError: index 27 is out of bounds for axis 1 with size 27\n"
     ]
    },
    {
     "name": "stdout",
     "output_type": "stream",
     "text": [
      "unpacking old_A_2d complex, old shape:  (1, 1)\n",
      "new shape:  (1, 2)\n",
      "old_parameters: {'amplitudes': (-0.07186918193036322+0.07939708921965509j), 'MSE_rel': 0.00895143507178418, 'T': 0.604558874487532, 'decay_goodness_test': 0, 'decays_in_scan_length': 4.300656412006107e-06, 'f': 583683.4495578056, 'frequency_goodness_test': 1, 'inf': 2.166128961940651, 'num_periods_decay': 352871.0093216671, 'num_periods_scan': 1.5175769688502943, 'phi': -4.523877767734677, 'points_per_period': 17.132574184818722, 'A': array([-0.07186918,  0.07939709])}\n",
      "x fit shape:  (501,)  x shape:  (101,)\n",
      "y fit shape:  (2, 501)  y real:  (2, 101)\n",
      "updater called\n",
      "unpacking old_A_2d complex, old shape:  (1, 1)\n",
      "new shape:  (1, 2)\n",
      "old_parameters: {'amplitudes': (-0.07186918193036322+0.07939708921965509j), 'MSE_rel': 0.008820464204297742, 'T': 0.604558874487532, 'decay_goodness_test': 0, 'decays_in_scan_length': 4.466066274006342e-06, 'f': 583683.4495578056, 'frequency_goodness_test': 1, 'inf': 2.166128961940651, 'num_periods_decay': 352871.0093216671, 'num_periods_scan': 1.575945313806075, 'phi': -4.523877767734677, 'points_per_period': 17.132574184818722, 'A': array([-0.07186918,  0.07939709])}\n",
      "x fit shape:  (501,)  x shape:  (101,)\n",
      "y fit shape:  (2, 501)  y real:  (2, 101)\n",
      "updater called\n",
      "unpacking old_A_2d complex, old shape:  (1, 1)\n",
      "new shape:  (1, 2)\n",
      "old_parameters: {'amplitudes': (-0.07186918193036322+0.07939708921965509j), 'MSE_rel': 0.009747279645157996, 'T': 0.604558874487532, 'decay_goodness_test': 0, 'decays_in_scan_length': 4.6314761360065775e-06, 'f': 583683.4495578056, 'frequency_goodness_test': 1, 'inf': 2.166128961940651, 'num_periods_decay': 352871.0093216671, 'num_periods_scan': 1.6343136587618554, 'phi': -4.523877767734677, 'points_per_period': 17.132574184818722, 'A': array([-0.07186918,  0.07939709])}\n",
      "x fit shape:  (501,)  x shape:  (101,)\n",
      "y fit shape:  (2, 501)  y real:  (2, 101)\n",
      "updater called\n",
      "unpacking old_A_2d complex, old shape:  (1, 1)\n",
      "new shape:  (1, 2)\n",
      "old_parameters: {'amplitudes': (-0.07544523097140873+0.08338937293090429j), 'MSE_rel': 0.009639066071410853, 'T': 1.6406121803051418e-05, 'decay_goodness_test': 0, 'decays_in_scan_length': 0.17676328597417953, 'f': 583397.7689378099, 'frequency_goodness_test': 1, 'inf': 2.0682032768812313, 'num_periods_decay': 9.571294856822156, 'num_periods_scan': 1.6918535299196484, 'phi': -4.527138382760124, 'points_per_period': 17.140963734240813, 'A': array([-0.07544523,  0.08338937])}\n",
      "x fit shape:  (501,)  x shape:  (101,)\n",
      "y fit shape:  (2, 501)  y real:  (2, 101)\n",
      "updater called\n",
      "unpacking old_A_2d complex, old shape:  (1, 1)\n",
      "new shape:  (1, 2)\n",
      "old_parameters: {'amplitudes': (-0.07562613060203124+0.08362578363720782j), 'MSE_rel': 0.009608743075372085, 'T': 1.569471133264649e-05, 'decay_goodness_test': 0, 'decays_in_scan_length': 0.19114719196903707, 'f': 583630.4913977098, 'frequency_goodness_test': 1, 'inf': 2.062733938154305, 'num_periods_decay': 9.159912087417675, 'num_periods_scan': 1.7508914741931294, 'phi': -4.528749120699458, 'points_per_period': 17.13412878078296, 'A': array([-0.07562613,  0.08362578])}\n",
      "x fit shape:  (501,)  x shape:  (101,)\n",
      "y fit shape:  (2, 501)  y real:  (2, 101)\n",
      "updater called\n"
     ]
    },
    {
     "name": "stderr",
     "output_type": "stream",
     "text": [
      "C:\\qtlab_replacement\\qsweepy\\fitters\\exp_sin.py:70: RuntimeWarning:\n",
      "\n",
      "overflow encountered in square\n",
      "\n"
     ]
    },
    {
     "name": "stdout",
     "output_type": "stream",
     "text": [
      "unpacking old_A_2d complex, old shape:  (1, 1)\n",
      "new shape:  (1, 2)\n",
      "old_parameters: {'amplitudes': (-0.07587769237261358+0.08395111120728355j), 'MSE_rel': 0.009568610865423257, 'T': 1.4823506468128092e-05, 'decay_goodness_test': 0, 'decays_in_scan_length': 0.20912730781109626, 'f': 584078.5935194896, 'frequency_goodness_test': 1, 'inf': 2.055195523473584, 'num_periods_decay': 8.658092808931313, 'num_periods_scan': 1.8106436399104178, 'phi': -4.5318240486089785, 'points_per_period': 17.120983564459838, 'A': array([-0.07587769,  0.08395111])}\n",
      "x fit shape:  (501,)  x shape:  (101,)\n",
      "y fit shape:  (2, 501)  y real:  (2, 101)\n",
      "updater called\n",
      "unpacking old_A_2d complex, old shape:  (1, 1)\n",
      "new shape:  (1, 2)\n",
      "old_parameters: {'amplitudes': (-0.07878990776231845+0.08803814631993799j), 'MSE_rel': 0.010215878346174847, 'T': 8.838290059534298e-06, 'decay_goodness_test': 0, 'decays_in_scan_length': 0.36206098447153845, 'f': 592659.5256703137, 'frequency_goodness_test': 1, 'inf': 1.97027710941035, 'num_periods_decay': 5.238096794420246, 'num_periods_scan': 1.8965104821450038, 'phi': -4.591073719368042, 'points_per_period': 16.87309419128923, 'A': array([-0.07878991,  0.08803815])}\n",
      "x fit shape:  (501,)  x shape:  (101,)\n",
      "y fit shape:  (2, 501)  y real:  (2, 101)\n",
      "updater called\n",
      "unpacking old_A_2d complex, old shape:  (1, 1)\n",
      "new shape:  (1, 2)\n",
      "old_parameters: {'amplitudes': (-0.07879284335103874+0.08803085492623682j), 'MSE_rel': 0.010060955798764697, 'T': 8.845474861122042e-06, 'decay_goodness_test': 0, 'decays_in_scan_length': 0.3730721133473887, 'f': 592508.606634677, 'frequency_goodness_test': 1, 'inf': 1.9702157389369033, 'num_periods_decay': 5.241019984985484, 'num_periods_scan': 1.955278401894434, 'phi': -4.589979631391543, 'points_per_period': 16.877391970384828, 'A': array([-0.07879284,  0.08803085])}\n",
      "x fit shape:  (501,)  x shape:  (101,)\n",
      "y fit shape:  (2, 501)  y real:  (2, 101)\n",
      "updater called\n",
      "unpacking old_A_2d complex, old shape:  (1, 1)\n",
      "new shape:  (1, 2)\n",
      "old_parameters: {'amplitudes': (-0.07879284335103874+0.08803085492623682j), 'MSE_rel': 0.009794328558276978, 'T': 8.845474861122042e-06, 'decay_goodness_test': 0, 'decays_in_scan_length': 0.3843773289033702, 'f': 592508.606634677, 'frequency_goodness_test': 1, 'inf': 1.9702157389369033, 'num_periods_decay': 5.241019984985484, 'num_periods_scan': 2.0145292625579017, 'phi': -4.589979631391543, 'points_per_period': 16.877391970384828, 'A': array([-0.07879284,  0.08803085])}\n",
      "x fit shape:  (501,)  x shape:  (101,)\n",
      "y fit shape:  (2, 501)  y real:  (2, 101)\n",
      "updater called\n",
      "unpacking old_A_2d complex, old shape:  (1, 1)\n",
      "new shape:  (1, 2)\n",
      "old_parameters: {'amplitudes': (-0.07994930613741272+0.08915879156236435j), 'MSE_rel': 0.009861645188706776, 'T': 7.971675926972439e-06, 'decay_goodness_test': 0, 'decays_in_scan_length': 0.4390544763815134, 'f': 590764.9848986405, 'frequency_goodness_test': 1, 'inf': 1.939876129608526, 'num_periods_decay': 4.709387008614729, 'num_periods_scan': 2.067677447145242, 'phi': -4.576292209751751, 'points_per_period': 16.927204989503114, 'A': array([-0.07994931,  0.08915879])}\n",
      "x fit shape:  (501,)  x shape:  (101,)\n",
      "y fit shape:  (2, 501)  y real:  (2, 101)\n",
      "updater called\n",
      "unpacking old_A_2d complex, old shape:  (1, 1)\n",
      "new shape:  (1, 2)\n",
      "old_parameters: {'amplitudes': (-0.08266734515967301+0.09262407570463867j), 'MSE_rel': 0.010205906308791233, 'T': 6.311700730285087e-06, 'decay_goodness_test': 0, 'decays_in_scan_length': 0.5703692481372442, 'f': 588912.628434073, 'frequency_goodness_test': 1, 'inf': 1.863359990304849, 'num_periods_decay': 3.717040266961448, 'num_periods_scan': 2.1200854623626624, 'phi': -4.560620465449734, 'points_per_period': 16.98044755227977, 'A': array([-0.08266735,  0.09262408])}\n",
      "x fit shape:  (501,)  x shape:  (101,)\n",
      "y fit shape:  (2, 501)  y real:  (2, 101)\n",
      "updater called\n",
      "unpacking old_A_2d complex, old shape:  (1, 1)\n",
      "new shape:  (1, 2)\n",
      "old_parameters: {'amplitudes': (-0.08266734515967301+0.09262407570463867j), 'MSE_rel': 0.009957627866694463, 'T': 6.311700730285087e-06, 'decay_goodness_test': 0, 'decays_in_scan_length': 0.5862128383632788, 'f': 588912.628434073, 'frequency_goodness_test': 1, 'inf': 1.863359990304849, 'num_periods_decay': 3.717040266961448, 'num_periods_scan': 2.17897672520607, 'phi': -4.560620465449734, 'points_per_period': 16.98044755227977, 'A': array([-0.08266735,  0.09262408])}\n",
      "x fit shape:  (501,)  x shape:  (101,)\n",
      "y fit shape:  (2, 501)  y real:  (2, 101)\n",
      "updater called\n",
      "unpacking old_A_2d complex, old shape:  (1, 1)\n",
      "new shape:  (1, 2)\n",
      "old_parameters: {'amplitudes': (-0.08311112413730834+0.09315715694924862j), 'MSE_rel': 0.009712301043153288, 'T': 6.1205398065453764e-06, 'decay_goodness_test': 0, 'decays_in_scan_length': 0.6208602705167011, 'f': 589104.5943003941, 'frequency_goodness_test': 1, 'inf': 1.8517395632462987, 'num_periods_decay': 3.6056381196343263, 'num_periods_scan': 2.2385974583414976, 'phi': -4.561582445108529, 'points_per_period': 16.974914296629702, 'A': array([-0.08311112,  0.09315716])}\n",
      "x fit shape:  (501,)  x shape:  (101,)\n",
      "y fit shape:  (2, 501)  y real:  (2, 101)\n",
      "updater called\n",
      "unpacking old_A_2d complex, old shape:  (1, 1)\n",
      "new shape:  (1, 2)\n",
      "old_parameters: {'amplitudes': (-0.08311112413730834+0.09315715694924862j), 'MSE_rel': 0.009456232558014277, 'T': 6.1205398065453764e-06, 'decay_goodness_test': 0, 'decays_in_scan_length': 0.6371986986881932, 'f': 589104.5943003941, 'frequency_goodness_test': 1, 'inf': 1.8517395632462987, 'num_periods_decay': 3.6056381196343263, 'num_periods_scan': 2.297507917771537, 'phi': -4.561582445108529, 'points_per_period': 16.974914296629702, 'A': array([-0.08311112,  0.09315716])}\n",
      "x fit shape:  (501,)  x shape:  (101,)\n",
      "y fit shape:  (2, 501)  y real:  (2, 101)\n",
      "updater called\n",
      "unpacking old_A_2d complex, old shape:  (1, 1)\n",
      "new shape:  (1, 2)\n",
      "old_parameters: {'amplitudes': (-0.08311112413730834+0.09315715694924862j), 'MSE_rel': 0.009226706511101043, 'T': 6.1205398065453764e-06, 'decay_goodness_test': 0, 'decays_in_scan_length': 0.6535371268596853, 'f': 589104.5943003941, 'frequency_goodness_test': 1, 'inf': 1.8517395632462987, 'num_periods_decay': 3.6056381196343263, 'num_periods_scan': 2.3564183772015763, 'phi': -4.561582445108529, 'points_per_period': 16.974914296629702, 'A': array([-0.08311112,  0.09315716])}\n",
      "x fit shape:  (501,)  x shape:  (101,)\n",
      "y fit shape:  (2, 501)  y real:  (2, 101)\n",
      "updater called\n",
      "unpacking old_A_2d complex, old shape:  (1, 1)\n",
      "new shape:  (1, 2)\n",
      "old_parameters: {'amplitudes': (-0.083452520488509+0.09363354879675669j), 'MSE_rel': 0.009170959030434661, 'T': 5.993901907338748e-06, 'decay_goodness_test': 0, 'decays_in_scan_length': 0.6840285449082987, 'f': 589948.1780234512, 'frequency_goodness_test': 1, 'inf': 1.8413930922138133, 'num_periods_decay': 3.5360915094857837, 'num_periods_scan': 2.41878752989615, 'phi': -4.567003247078647, 'points_per_period': 16.950641382610538, 'A': array([-0.08345252,  0.09363355])}\n",
      "x fit shape:  (501,)  x shape:  (101,)\n",
      "y fit shape:  (2, 501)  y real:  (2, 101)\n",
      "updater called\n",
      "unpacking old_A_2d complex, old shape:  (1, 1)\n",
      "new shape:  (1, 2)\n",
      "old_parameters: {'amplitudes': (-0.083452520488509+0.09363354879675669j), 'MSE_rel': 0.009103938917446316, 'T': 5.993901907338748e-06, 'decay_goodness_test': 0, 'decays_in_scan_length': 0.7007121679548426, 'f': 589948.1780234512, 'frequency_goodness_test': 1, 'inf': 1.8413930922138133, 'num_periods_decay': 3.5360915094857837, 'num_periods_scan': 2.477782347698495, 'phi': -4.567003247078647, 'points_per_period': 16.950641382610538, 'A': array([-0.08345252,  0.09363355])}\n",
      "x fit shape:  (501,)  x shape:  (101,)\n",
      "y fit shape:  (2, 501)  y real:  (2, 101)\n",
      "updater called\n",
      "unpacking old_A_2d complex, old shape:  (1, 1)\n",
      "new shape:  (1, 2)\n",
      "old_parameters: {'amplitudes': (-0.083452520488509+0.09363354879675669j), 'MSE_rel': 0.009709111457722864, 'T': 5.993901907338748e-06, 'decay_goodness_test': 0, 'decays_in_scan_length': 0.7173957910013864, 'f': 589948.1780234512, 'frequency_goodness_test': 1, 'inf': 1.8413930922138133, 'num_periods_decay': 3.5360915094857837, 'num_periods_scan': 2.53677716550084, 'phi': -4.567003247078647, 'points_per_period': 16.950641382610538, 'A': array([-0.08345252,  0.09363355])}\n",
      "x fit shape:  (501,)  x shape:  (101,)\n",
      "y fit shape:  (2, 501)  y real:  (2, 101)\n",
      "updater called\n"
     ]
    },
    {
     "name": "stdout",
     "output_type": "stream",
     "text": [
      "unpacking old_A_2d complex, old shape:  (1, 1)\n",
      "new shape:  (1, 2)\n",
      "old_parameters: {'amplitudes': (-0.083452520488509+0.09363354879675669j), 'MSE_rel': 0.010454010634889328, 'T': 5.993901907338748e-06, 'decay_goodness_test': 0, 'decays_in_scan_length': 0.7340794140479304, 'f': 589948.1780234512, 'frequency_goodness_test': 1, 'inf': 1.8413930922138133, 'num_periods_decay': 3.5360915094857837, 'num_periods_scan': 2.5957719833031856, 'phi': -4.567003247078647, 'points_per_period': 16.950641382610538, 'A': array([-0.08345252,  0.09363355])}\n",
      "x fit shape:  (501,)  x shape:  (101,)\n",
      "y fit shape:  (2, 501)  y real:  (2, 101)\n",
      "updater called\n",
      "unpacking old_A_2d complex, old shape:  (1, 1)\n",
      "new shape:  (1, 2)\n",
      "old_parameters: {'amplitudes': (-0.083452520488509+0.09363354879675669j), 'MSE_rel': 0.010627112691867002, 'T': 5.993901907338748e-06, 'decay_goodness_test': 1, 'decays_in_scan_length': 0.7507630370944742, 'f': 589948.1780234512, 'frequency_goodness_test': 1, 'inf': 1.8413930922138133, 'num_periods_decay': 3.5360915094857837, 'num_periods_scan': 2.6547668011055308, 'phi': -4.567003247078647, 'points_per_period': 16.950641382610538, 'A': array([-0.08345252,  0.09363355])}\n",
      "x fit shape:  (501,)  x shape:  (101,)\n",
      "y fit shape:  (2, 501)  y real:  (2, 101)\n",
      "updater called\n",
      "unpacking old_A_2d complex, old shape:  (1, 1)\n",
      "new shape:  (1, 2)\n",
      "old_parameters: {'amplitudes': (-0.08114549388439089+0.09082843199883499j), 'MSE_rel': 0.010188067557097618, 'T': 7.3307399614677074e-06, 'decay_goodness_test': 0, 'decays_in_scan_length': 0.6274946354909336, 'f': 594665.9085238074, 'frequency_goodness_test': 1, 'inf': 1.8816749943200533, 'num_periods_decay': 4.3593411393379755, 'num_periods_scan': 2.735463179209514, 'phi': -4.600318180001691, 'points_per_period': 16.816164936752298, 'A': array([-0.08114549,  0.09082843])}\n",
      "x fit shape:  (501,)  x shape:  (101,)\n",
      "y fit shape:  (2, 501)  y real:  (2, 101)\n",
      "updater called\n",
      "unpacking old_A_2d complex, old shape:  (1, 1)\n",
      "new shape:  (1, 2)\n",
      "old_parameters: {'amplitudes': (-0.08111499647657842+0.0907988201674866j), 'MSE_rel': 0.010113301802469806, 'T': 7.34703595409788e-06, 'decay_goodness_test': 0, 'decays_in_scan_length': 0.6397137606735857, 'f': 594631.6037228894, 'frequency_goodness_test': 1, 'inf': 1.8822687636374535, 'num_periods_decay': 4.3687797719949515, 'num_periods_scan': 2.79476853749758, 'phi': -4.600023858033378, 'points_per_period': 16.8171350755521, 'A': array([-0.081115  ,  0.09079882])}\n",
      "x fit shape:  (501,)  x shape:  (101,)\n",
      "y fit shape:  (2, 501)  y real:  (2, 101)\n",
      "updater called\n",
      "unpacking old_A_2d complex, old shape:  (1, 1)\n",
      "new shape:  (1, 2)\n",
      "old_parameters: {'amplitudes': (-0.08111499647657842+0.0907988201674866j), 'MSE_rel': 0.010000273039958561, 'T': 7.34703595409788e-06, 'decay_goodness_test': 0, 'decays_in_scan_length': 0.653324691751747, 'f': 594631.6037228894, 'frequency_goodness_test': 1, 'inf': 1.8822687636374535, 'num_periods_decay': 4.3687797719949515, 'num_periods_scan': 2.8542316978698694, 'phi': -4.600023858033378, 'points_per_period': 16.8171350755521, 'A': array([-0.081115  ,  0.09079882])}\n",
      "x fit shape:  (501,)  x shape:  (101,)\n",
      "y fit shape:  (2, 501)  y real:  (2, 101)\n",
      "updater called\n",
      "unpacking old_A_2d complex, old shape:  (1, 1)\n",
      "new shape:  (1, 2)\n",
      "old_parameters: {'amplitudes': (-0.08111499647657842+0.0907988201674866j), 'MSE_rel': 0.010226897973043, 'T': 7.34703595409788e-06, 'decay_goodness_test': 0, 'decays_in_scan_length': 0.6669356228299084, 'f': 594631.6037228894, 'frequency_goodness_test': 1, 'inf': 1.8822687636374535, 'num_periods_decay': 4.3687797719949515, 'num_periods_scan': 2.9136948582421582, 'phi': -4.600023858033378, 'points_per_period': 16.8171350755521, 'A': array([-0.081115  ,  0.09079882])}\n",
      "x fit shape:  (501,)  x shape:  (101,)\n",
      "y fit shape:  (2, 501)  y real:  (2, 101)\n",
      "updater called\n",
      "unpacking old_A_2d complex, old shape:  (1, 1)\n",
      "new shape:  (1, 2)\n",
      "old_parameters: {'amplitudes': (-0.08111499647657842+0.0907988201674866j), 'MSE_rel': 0.010048304456760656, 'T': 7.34703595409788e-06, 'decay_goodness_test': 0, 'decays_in_scan_length': 0.6805465539080697, 'f': 594631.6037228894, 'frequency_goodness_test': 1, 'inf': 1.8822687636374535, 'num_periods_decay': 4.3687797719949515, 'num_periods_scan': 2.973158018614447, 'phi': -4.600023858033378, 'points_per_period': 16.8171350755521, 'A': array([-0.081115  ,  0.09079882])}\n",
      "x fit shape:  (501,)  x shape:  (101,)\n",
      "y fit shape:  (2, 501)  y real:  (2, 101)\n",
      "updater called\n",
      "unpacking old_A_2d complex, old shape:  (1, 1)\n",
      "new shape:  (1, 2)\n",
      "old_parameters: {'amplitudes': (-0.08111499647657842+0.0907988201674866j), 'MSE_rel': 0.010046047039881961, 'T': 7.34703595409788e-06, 'decay_goodness_test': 0, 'decays_in_scan_length': 0.6941574849862312, 'f': 594631.6037228894, 'frequency_goodness_test': 1, 'inf': 1.8822687636374535, 'num_periods_decay': 4.3687797719949515, 'num_periods_scan': 3.032621178986736, 'phi': -4.600023858033378, 'points_per_period': 16.8171350755521, 'A': array([-0.081115  ,  0.09079882])}\n",
      "x fit shape:  (501,)  x shape:  (101,)\n",
      "y fit shape:  (2, 501)  y real:  (2, 101)\n",
      "updater called\n",
      "unpacking old_A_2d complex, old shape:  (1, 1)\n",
      "new shape:  (1, 2)\n",
      "old_parameters: {'amplitudes': (-0.08111499647657842+0.0907988201674866j), 'MSE_rel': 0.00981713058820813, 'T': 7.34703595409788e-06, 'decay_goodness_test': 0, 'decays_in_scan_length': 0.7077684160643926, 'f': 594631.6037228894, 'frequency_goodness_test': 1, 'inf': 1.8822687636374535, 'num_periods_decay': 4.3687797719949515, 'num_periods_scan': 3.0920843393590247, 'phi': -4.600023858033378, 'points_per_period': 16.8171350755521, 'A': array([-0.081115  ,  0.09079882])}\n",
      "x fit shape:  (501,)  x shape:  (101,)\n",
      "y fit shape:  (2, 501)  y real:  (2, 101)\n",
      "updater called\n",
      "unpacking old_A_2d complex, old shape:  (1, 1)\n",
      "new shape:  (1, 2)\n",
      "old_parameters: {'amplitudes': (-0.08044957637343772+0.0898947556313187j), 'MSE_rel': 0.009616776213073285, 'T': 7.766660876223543e-06, 'decay_goodness_test': 0, 'decays_in_scan_length': 0.6824039422430749, 'f': 593961.8930528237, 'frequency_goodness_test': 1, 'inf': 1.8991189193115792, 'num_periods_decay': 4.613100596741038, 'num_periods_scan': 3.1479980331799657, 'phi': -4.594967059442212, 'points_per_period': 16.836096922990066, 'A': array([-0.08044958,  0.08989476])}\n",
      "x fit shape:  (501,)  x shape:  (101,)\n",
      "y fit shape:  (2, 501)  y real:  (2, 101)\n",
      "updater called\n",
      "unpacking old_A_2d complex, old shape:  (1, 1)\n",
      "new shape:  (1, 2)\n",
      "old_parameters: {'amplitudes': (-0.08316220097259074+0.09287177053683478j), 'MSE_rel': 0.009893580924401225, 'T': 6.675490135197266e-06, 'decay_goodness_test': 1, 'decays_in_scan_length': 0.8089293655798993, 'f': 594222.5414503326, 'frequency_goodness_test': 1, 'inf': 1.8308564240001746, 'num_periods_decay': 3.966726713563544, 'num_periods_scan': 3.208801723831796, 'phi': -4.5928251914911735, 'points_per_period': 16.828711976480683, 'A': array([-0.0831622 ,  0.09287177])}\n",
      "x fit shape:  (501,)  x shape:  (101,)\n",
      "y fit shape:  (2, 501)  y real:  (2, 101)\n",
      "updater called\n",
      "unpacking old_A_2d complex, old shape:  (1, 1)\n",
      "new shape:  (1, 2)\n",
      "old_parameters: {'amplitudes': (-0.08316220097259074+0.09287177053683478j), 'MSE_rel': 0.010173784547846978, 'T': 6.675490135197266e-06, 'decay_goodness_test': 1, 'decays_in_scan_length': 0.823909539016564, 'f': 594222.5414503326, 'frequency_goodness_test': 1, 'inf': 1.8308564240001746, 'num_periods_decay': 3.966726713563544, 'num_periods_scan': 3.268223977976829, 'phi': -4.5928251914911735, 'points_per_period': 16.828711976480683, 'A': array([-0.0831622 ,  0.09287177])}\n",
      "x fit shape:  (501,)  x shape:  (101,)\n",
      "y fit shape:  (2, 501)  y real:  (2, 101)\n",
      "updater called\n",
      "unpacking old_A_2d complex, old shape:  (1, 1)\n",
      "new shape:  (1, 2)\n",
      "old_parameters: {'amplitudes': (-0.08316220097259074+0.09287177053683478j), 'MSE_rel': 0.01010671786810646, 'T': 6.675490135197266e-06, 'decay_goodness_test': 1, 'decays_in_scan_length': 0.8388897124532289, 'f': 594222.5414503326, 'frequency_goodness_test': 1, 'inf': 1.8308564240001746, 'num_periods_decay': 3.966726713563544, 'num_periods_scan': 3.3276462321218627, 'phi': -4.5928251914911735, 'points_per_period': 16.828711976480683, 'A': array([-0.0831622 ,  0.09287177])}\n",
      "x fit shape:  (501,)  x shape:  (101,)\n",
      "y fit shape:  (2, 501)  y real:  (2, 101)\n",
      "updater called\n"
     ]
    },
    {
     "name": "stdout",
     "output_type": "stream",
     "text": [
      "unpacking old_A_2d complex, old shape:  (1, 1)\n",
      "new shape:  (1, 2)\n",
      "old_parameters: {'amplitudes': (-0.08316220097259074+0.09287177053683478j), 'MSE_rel': 0.009928880296796786, 'T': 6.675490135197266e-06, 'decay_goodness_test': 1, 'decays_in_scan_length': 0.8538698858898935, 'f': 594222.5414503326, 'frequency_goodness_test': 1, 'inf': 1.8308564240001746, 'num_periods_decay': 3.966726713563544, 'num_periods_scan': 3.387068486266896, 'phi': -4.5928251914911735, 'points_per_period': 16.828711976480683, 'A': array([-0.0831622 ,  0.09287177])}\n",
      "x fit shape:  (501,)  x shape:  (101,)\n",
      "y fit shape:  (2, 501)  y real:  (2, 101)\n",
      "updater called\n",
      "unpacking old_A_2d complex, old shape:  (1, 1)\n",
      "new shape:  (1, 2)\n",
      "old_parameters: {'amplitudes': (-0.08316220097259074+0.09287177053683478j), 'MSE_rel': 0.010344399144126569, 'T': 6.675490135197266e-06, 'decay_goodness_test': 1, 'decays_in_scan_length': 0.8688500593265583, 'f': 594222.5414503326, 'frequency_goodness_test': 1, 'inf': 1.8308564240001746, 'num_periods_decay': 3.966726713563544, 'num_periods_scan': 3.446490740411929, 'phi': -4.5928251914911735, 'points_per_period': 16.828711976480683, 'A': array([-0.0831622 ,  0.09287177])}\n",
      "x fit shape:  (501,)  x shape:  (101,)\n",
      "y fit shape:  (2, 501)  y real:  (2, 101)\n",
      "updater called\n",
      "unpacking old_A_2d complex, old shape:  (1, 1)\n",
      "new shape:  (1, 2)\n",
      "old_parameters: {'amplitudes': (-0.08316220097259074+0.09287177053683478j), 'MSE_rel': 0.010593042612413714, 'T': 6.675490135197266e-06, 'decay_goodness_test': 1, 'decays_in_scan_length': 0.8838302327632231, 'f': 594222.5414503326, 'frequency_goodness_test': 1, 'inf': 1.8308564240001746, 'num_periods_decay': 3.966726713563544, 'num_periods_scan': 3.505912994556962, 'phi': -4.5928251914911735, 'points_per_period': 16.828711976480683, 'A': array([-0.0831622 ,  0.09287177])}\n",
      "x fit shape:  (501,)  x shape:  (101,)\n",
      "y fit shape:  (2, 501)  y real:  (2, 101)\n",
      "updater called\n",
      "unpacking old_A_2d complex, old shape:  (1, 1)\n",
      "new shape:  (1, 2)\n",
      "old_parameters: {'amplitudes': (-0.08316220097259074+0.09287177053683478j), 'MSE_rel': 0.01083902283150985, 'T': 6.675490135197266e-06, 'decay_goodness_test': 1, 'decays_in_scan_length': 0.8988104061998881, 'f': 594222.5414503326, 'frequency_goodness_test': 1, 'inf': 1.8308564240001746, 'num_periods_decay': 3.966726713563544, 'num_periods_scan': 3.5653352487019956, 'phi': -4.5928251914911735, 'points_per_period': 16.828711976480683, 'A': array([-0.0831622 ,  0.09287177])}\n",
      "x fit shape:  (501,)  x shape:  (101,)\n",
      "y fit shape:  (2, 501)  y real:  (2, 101)\n",
      "updater called\n",
      "unpacking old_A_2d complex, old shape:  (1, 1)\n",
      "new shape:  (1, 2)\n",
      "old_parameters: {'amplitudes': (-0.08316220097259074+0.09287177053683478j), 'MSE_rel': 0.01078723458561818, 'T': 6.675490135197266e-06, 'decay_goodness_test': 1, 'decays_in_scan_length': 0.9137905796365529, 'f': 594222.5414503326, 'frequency_goodness_test': 1, 'inf': 1.8308564240001746, 'num_periods_decay': 3.966726713563544, 'num_periods_scan': 3.624757502847029, 'phi': -4.5928251914911735, 'points_per_period': 16.828711976480683, 'A': array([-0.0831622 ,  0.09287177])}\n",
      "x fit shape:  (501,)  x shape:  (101,)\n",
      "y fit shape:  (2, 501)  y real:  (2, 101)\n",
      "updater called\n",
      "unpacking old_A_2d complex, old shape:  (1, 1)\n",
      "new shape:  (1, 2)\n",
      "old_parameters: {'amplitudes': (-0.08316220097259074+0.09287177053683478j), 'MSE_rel': 0.011196748308880032, 'T': 6.675490135197266e-06, 'decay_goodness_test': 1, 'decays_in_scan_length': 0.9287707530732177, 'f': 594222.5414503326, 'frequency_goodness_test': 1, 'inf': 1.8308564240001746, 'num_periods_decay': 3.966726713563544, 'num_periods_scan': 3.6841797569920622, 'phi': -4.5928251914911735, 'points_per_period': 16.828711976480683, 'A': array([-0.0831622 ,  0.09287177])}\n",
      "x fit shape:  (501,)  x shape:  (101,)\n",
      "y fit shape:  (2, 501)  y real:  (2, 101)\n",
      "updater called\n",
      "unpacking old_A_2d complex, old shape:  (1, 1)\n",
      "new shape:  (1, 2)\n",
      "old_parameters: {'amplitudes': (-0.08239270950840366+0.09226810269794548j), 'MSE_rel': 0.010944273252226057, 'T': 7.0127410989383435e-06, 'decay_goodness_test': 1, 'decays_in_scan_length': 0.8983648349649974, 'f': 594207.3571081739, 'frequency_goodness_test': 1, 'inf': 1.834654156041758, 'num_periods_decay': 4.167022354484024, 'num_periods_scan': 3.7435063497814953, 'phi': -4.590727718851736, 'points_per_period': 16.829142016461986, 'A': array([-0.08239271,  0.0922681 ])}\n",
      "x fit shape:  (501,)  x shape:  (101,)\n",
      "y fit shape:  (2, 501)  y real:  (2, 101)\n",
      "updater called\n",
      "unpacking old_A_2d complex, old shape:  (1, 1)\n",
      "new shape:  (1, 2)\n",
      "old_parameters: {'amplitudes': (-0.08236498293593483+0.09224434592271329j), 'MSE_rel': 0.010884767493024451, 'T': 7.024271832336422e-06, 'decay_goodness_test': 1, 'decays_in_scan_length': 0.9111264701541631, 'f': 594181.1589204855, 'frequency_goodness_test': 1, 'inf': 1.83507274740808, 'num_periods_decay': 4.173689977910177, 'num_periods_scan': 3.802759417091107, 'phi': -4.590452766997768, 'points_per_period': 16.829884034303788, 'A': array([-0.08236498,  0.09224435])}\n",
      "x fit shape:  (501,)  x shape:  (101,)\n",
      "y fit shape:  (2, 501)  y real:  (2, 101)\n",
      "updater called\n",
      "unpacking old_A_2d complex, old shape:  (1, 1)\n",
      "new shape:  (1, 2)\n",
      "old_parameters: {'amplitudes': (-0.08232834484344621+0.09222155990183839j), 'MSE_rel': 0.01082062931433454, 'T': 7.040403239563558e-06, 'decay_goodness_test': 1, 'decays_in_scan_length': 0.9232425727369191, 'f': 594115.5260814758, 'frequency_goodness_test': 1, 'inf': 1.8354605361246585, 'num_periods_decay': 4.18281287449903, 'num_periods_scan': 3.8617509195295923, 'phi': -4.589742948890342, 'points_per_period': 16.831743256998507, 'A': array([-0.08232834,  0.09222156])}\n",
      "x fit shape:  (501,)  x shape:  (101,)\n",
      "y fit shape:  (2, 501)  y real:  (2, 101)\n",
      "updater called\n",
      "unpacking old_A_2d complex, old shape:  (1, 1)\n",
      "new shape:  (1, 2)\n",
      "old_parameters: {'amplitudes': (-0.08231779372760058+0.092221545088635j), 'MSE_rel': 0.010730482726090585, 'T': 7.046750431010378e-06, 'decay_goodness_test': 1, 'decays_in_scan_length': 0.9366019223492887, 'f': 594059.9215153446, 'frequency_goodness_test': 1, 'inf': 1.8353817526799854, 'num_periods_decay': 4.186192007984246, 'num_periods_scan': 3.9207954820012745, 'phi': -4.589124311881723, 'points_per_period': 16.833318723962595, 'A': array([-0.08231779,  0.09222155])}\n",
      "x fit shape:  (501,)  x shape:  (101,)\n",
      "y fit shape:  (2, 501)  y real:  (2, 101)\n",
      "updater called\n",
      "unpacking old_A_2d complex, old shape:  (1, 1)\n",
      "new shape:  (1, 2)\n",
      "old_parameters: {'amplitudes': (-0.08231779372760058+0.092221545088635j), 'MSE_rel': 0.011012062287385412, 'T': 7.046750431010378e-06, 'decay_goodness_test': 1, 'decays_in_scan_length': 0.9507928605667022, 'f': 594059.9215153446, 'frequency_goodness_test': 1, 'inf': 1.8353817526799854, 'num_periods_decay': 4.186192007984246, 'num_periods_scan': 3.9802014741528087, 'phi': -4.589124311881723, 'points_per_period': 16.833318723962595, 'A': array([-0.08231779,  0.09222155])}\n",
      "x fit shape:  (501,)  x shape:  (101,)\n",
      "y fit shape:  (2, 501)  y real:  (2, 101)\n",
      "updater called\n",
      "unpacking old_A_2d complex, old shape:  (1, 1)\n",
      "new shape:  (1, 2)\n",
      "old_parameters: {'amplitudes': (-0.08249589895539747+0.09278153681554396j), 'MSE_rel': 0.010767249887882897, 'T': 7.081007649479923e-06, 'decay_goodness_test': 1, 'decays_in_scan_length': 0.9603153020883175, 'f': 592240.1177407529, 'frequency_goodness_test': 1, 'inf': 1.8212609170724445, 'num_periods_decay': 4.1936568040511615, 'num_periods_scan': 4.027232800637119, 'phi': -4.568176006561317, 'points_per_period': 16.885043245883928, 'A': array([-0.0824959 ,  0.09278154])}\n",
      "x fit shape:  (501,)  x shape:  (101,)\n",
      "y fit shape:  (2, 501)  y real:  (2, 101)\n",
      "updater called\n",
      "unpacking old_A_2d complex, old shape:  (1, 1)\n",
      "new shape:  (1, 2)\n",
      "old_parameters: {'amplitudes': (-0.08203618169601727+0.0923818437392802j), 'MSE_rel': 0.01066557775582788, 'T': 7.191235302264436e-06, 'decay_goodness_test': 1, 'decays_in_scan_length': 0.9595013526851597, 'f': 592522.586061737, 'frequency_goodness_test': 1, 'inf': 1.8317215114519108, 'num_periods_decay': 4.260969338276181, 'num_periods_scan': 4.088405843825986, 'phi': -4.571776357144536, 'points_per_period': 16.876993780888657, 'A': array([-0.08203618,  0.09238184])}\n",
      "x fit shape:  (501,)  x shape:  (101,)\n",
      "y fit shape:  (2, 501)  y real:  (2, 101)\n",
      "updater called\n"
     ]
    },
    {
     "name": "stdout",
     "output_type": "stream",
     "text": [
      "unpacking old_A_2d complex, old shape:  (1, 1)\n",
      "new shape:  (1, 2)\n",
      "old_parameters: {'amplitudes': (-0.08203618169601727+0.0923818437392802j), 'MSE_rel': 0.010481961216811931, 'T': 7.191235302264436e-06, 'decay_goodness_test': 1, 'decays_in_scan_length': 0.9734071693907417, 'f': 592522.586061737, 'frequency_goodness_test': 1, 'inf': 1.8317215114519108, 'num_periods_decay': 4.260969338276181, 'num_periods_scan': 4.1476581024321595, 'phi': -4.571776357144536, 'points_per_period': 16.876993780888657, 'A': array([-0.08203618,  0.09238184])}\n",
      "x fit shape:  (501,)  x shape:  (101,)\n",
      "y fit shape:  (2, 501)  y real:  (2, 101)\n",
      "updater called\n",
      "unpacking old_A_2d complex, old shape:  (1, 1)\n",
      "new shape:  (1, 2)\n",
      "old_parameters: {'amplitudes': (-0.08203618169601727+0.0923818437392802j), 'MSE_rel': 0.010445185001199536, 'T': 7.191235302264436e-06, 'decay_goodness_test': 1, 'decays_in_scan_length': 0.9873129860963238, 'f': 592522.586061737, 'frequency_goodness_test': 1, 'inf': 1.8317215114519108, 'num_periods_decay': 4.260969338276181, 'num_periods_scan': 4.206910361038333, 'phi': -4.571776357144536, 'points_per_period': 16.876993780888657, 'A': array([-0.08203618,  0.09238184])}\n",
      "x fit shape:  (501,)  x shape:  (101,)\n",
      "y fit shape:  (2, 501)  y real:  (2, 101)\n",
      "updater called\n",
      "unpacking old_A_2d complex, old shape:  (1, 1)\n",
      "new shape:  (1, 2)\n",
      "old_parameters: {'amplitudes': (-0.08203618169601727+0.0923818437392802j), 'MSE_rel': 0.010296146037083845, 'T': 7.191235302264436e-06, 'decay_goodness_test': 1, 'decays_in_scan_length': 1.0012188028019058, 'f': 592522.586061737, 'frequency_goodness_test': 1, 'inf': 1.8317215114519108, 'num_periods_decay': 4.260969338276181, 'num_periods_scan': 4.266162619644507, 'phi': -4.571776357144536, 'points_per_period': 16.876993780888657, 'A': array([-0.08203618,  0.09238184])}\n",
      "x fit shape:  (501,)  x shape:  (101,)\n",
      "y fit shape:  (2, 501)  y real:  (2, 101)\n",
      "updater called\n",
      "unpacking old_A_2d complex, old shape:  (1, 1)\n",
      "new shape:  (1, 2)\n",
      "old_parameters: {'amplitudes': (-0.08203618169601727+0.0923818437392802j), 'MSE_rel': 0.010424648346272918, 'T': 7.191235302264436e-06, 'decay_goodness_test': 1, 'decays_in_scan_length': 1.0151246195074877, 'f': 592522.586061737, 'frequency_goodness_test': 1, 'inf': 1.8317215114519108, 'num_periods_decay': 4.260969338276181, 'num_periods_scan': 4.3254148782506805, 'phi': -4.571776357144536, 'points_per_period': 16.876993780888657, 'A': array([-0.08203618,  0.09238184])}\n",
      "x fit shape:  (501,)  x shape:  (101,)\n",
      "y fit shape:  (2, 501)  y real:  (2, 101)\n",
      "updater called\n",
      "unpacking old_A_2d complex, old shape:  (1, 1)\n",
      "new shape:  (1, 2)\n",
      "old_parameters: {'amplitudes': (-0.08203618169601727+0.0923818437392802j), 'MSE_rel': 0.010290979217630704, 'T': 7.191235302264436e-06, 'decay_goodness_test': 1, 'decays_in_scan_length': 1.0290304362130698, 'f': 592522.586061737, 'frequency_goodness_test': 1, 'inf': 1.8317215114519108, 'num_periods_decay': 4.260969338276181, 'num_periods_scan': 4.384667136856854, 'phi': -4.571776357144536, 'points_per_period': 16.876993780888657, 'A': array([-0.08203618,  0.09238184])}\n",
      "x fit shape:  (501,)  x shape:  (101,)\n",
      "y fit shape:  (2, 501)  y real:  (2, 101)\n",
      "updater called\n",
      "unpacking old_A_2d complex, old shape:  (1, 1)\n",
      "new shape:  (1, 2)\n",
      "old_parameters: {'amplitudes': (-0.08203618169601727+0.0923818437392802j), 'MSE_rel': 0.0102439665960021, 'T': 7.191235302264436e-06, 'decay_goodness_test': 1, 'decays_in_scan_length': 1.0429362529186517, 'f': 592522.586061737, 'frequency_goodness_test': 1, 'inf': 1.8317215114519108, 'num_periods_decay': 4.260969338276181, 'num_periods_scan': 4.443919395463027, 'phi': -4.571776357144536, 'points_per_period': 16.876993780888657, 'A': array([-0.08203618,  0.09238184])}\n",
      "x fit shape:  (501,)  x shape:  (101,)\n",
      "y fit shape:  (2, 501)  y real:  (2, 101)\n",
      "updater called\n",
      "unpacking old_A_2d complex, old shape:  (1, 1)\n",
      "new shape:  (1, 2)\n",
      "old_parameters: {'amplitudes': (-0.08203618169601727+0.0923818437392802j), 'MSE_rel': 0.010201331101061365, 'T': 7.191235302264436e-06, 'decay_goodness_test': 1, 'decays_in_scan_length': 1.056842069624234, 'f': 592522.586061737, 'frequency_goodness_test': 1, 'inf': 1.8317215114519108, 'num_periods_decay': 4.260969338276181, 'num_periods_scan': 4.5031716540692015, 'phi': -4.571776357144536, 'points_per_period': 16.876993780888657, 'A': array([-0.08203618,  0.09238184])}\n",
      "x fit shape:  (501,)  x shape:  (101,)\n",
      "y fit shape:  (2, 501)  y real:  (2, 101)\n",
      "updater called\n",
      "unpacking old_A_2d complex, old shape:  (1, 1)\n",
      "new shape:  (1, 2)\n",
      "old_parameters: {'amplitudes': (-0.08203618169601727+0.0923818437392802j), 'MSE_rel': 0.010166952256495847, 'T': 7.191235302264436e-06, 'decay_goodness_test': 1, 'decays_in_scan_length': 1.0707478863298159, 'f': 592522.586061737, 'frequency_goodness_test': 1, 'inf': 1.8317215114519108, 'num_periods_decay': 4.260969338276181, 'num_periods_scan': 4.562423912675374, 'phi': -4.571776357144536, 'points_per_period': 16.876993780888657, 'A': array([-0.08203618,  0.09238184])}\n",
      "x fit shape:  (501,)  x shape:  (101,)\n",
      "y fit shape:  (2, 501)  y real:  (2, 101)\n",
      "updater called\n",
      "unpacking old_A_2d complex, old shape:  (1, 1)\n",
      "new shape:  (1, 2)\n",
      "old_parameters: {'amplitudes': (-0.08203618169601727+0.0923818437392802j), 'MSE_rel': 0.010127550622180046, 'T': 7.191235302264436e-06, 'decay_goodness_test': 1, 'decays_in_scan_length': 1.084653703035398, 'f': 592522.586061737, 'frequency_goodness_test': 1, 'inf': 1.8317215114519108, 'num_periods_decay': 4.260969338276181, 'num_periods_scan': 4.621676171281549, 'phi': -4.571776357144536, 'points_per_period': 16.876993780888657, 'A': array([-0.08203618,  0.09238184])}\n",
      "x fit shape:  (501,)  x shape:  (101,)\n",
      "y fit shape:  (2, 501)  y real:  (2, 101)\n",
      "updater called\n",
      "unpacking old_A_2d complex, old shape:  (1, 1)\n",
      "new shape:  (1, 2)\n",
      "old_parameters: {'amplitudes': (-0.08203618169601727+0.0923818437392802j), 'MSE_rel': 0.010063908915227376, 'T': 7.191235302264436e-06, 'decay_goodness_test': 1, 'decays_in_scan_length': 1.0985595197409799, 'f': 592522.586061737, 'frequency_goodness_test': 1, 'inf': 1.8317215114519108, 'num_periods_decay': 4.260969338276181, 'num_periods_scan': 4.680928429887722, 'phi': -4.571776357144536, 'points_per_period': 16.876993780888657, 'A': array([-0.08203618,  0.09238184])}\n",
      "x fit shape:  (501,)  x shape:  (101,)\n",
      "y fit shape:  (2, 501)  y real:  (2, 101)\n",
      "updater called\n",
      "unpacking old_A_2d complex, old shape:  (1, 1)\n",
      "new shape:  (1, 2)\n",
      "old_parameters: {'amplitudes': (-0.08203618169601727+0.0923818437392802j), 'MSE_rel': 0.009992991357213897, 'T': 7.191235302264436e-06, 'decay_goodness_test': 1, 'decays_in_scan_length': 1.112465336446562, 'f': 592522.586061737, 'frequency_goodness_test': 1, 'inf': 1.8317215114519108, 'num_periods_decay': 4.260969338276181, 'num_periods_scan': 4.740180688493896, 'phi': -4.571776357144536, 'points_per_period': 16.876993780888657, 'A': array([-0.08203618,  0.09238184])}\n",
      "x fit shape:  (501,)  x shape:  (101,)\n",
      "y fit shape:  (2, 501)  y real:  (2, 101)\n",
      "updater called\n",
      "unpacking old_A_2d complex, old shape:  (1, 1)\n",
      "new shape:  (1, 2)\n",
      "old_parameters: {'amplitudes': (-0.08203618169601727+0.0923818437392802j), 'MSE_rel': 0.00992322544245814, 'T': 7.191235302264436e-06, 'decay_goodness_test': 1, 'decays_in_scan_length': 1.126371153152144, 'f': 592522.586061737, 'frequency_goodness_test': 1, 'inf': 1.8317215114519108, 'num_periods_decay': 4.260969338276181, 'num_periods_scan': 4.79943294710007, 'phi': -4.571776357144536, 'points_per_period': 16.876993780888657, 'A': array([-0.08203618,  0.09238184])}\n",
      "x fit shape:  (501,)  x shape:  (101,)\n",
      "y fit shape:  (2, 501)  y real:  (2, 101)\n",
      "updater called\n",
      "unpacking old_A_2d complex, old shape:  (1, 1)\n",
      "new shape:  (1, 2)\n",
      "old_parameters: {'amplitudes': (-0.08203618169601727+0.0923818437392802j), 'MSE_rel': 0.009885523141755037, 'T': 7.191235302264436e-06, 'decay_goodness_test': 1, 'decays_in_scan_length': 1.140276969857726, 'f': 592522.586061737, 'frequency_goodness_test': 1, 'inf': 1.8317215114519108, 'num_periods_decay': 4.260969338276181, 'num_periods_scan': 4.8586852057062435, 'phi': -4.571776357144536, 'points_per_period': 16.876993780888657, 'A': array([-0.08203618,  0.09238184])}\n",
      "x fit shape:  (501,)  x shape:  (101,)\n",
      "y fit shape:  (2, 501)  y real:  (2, 101)\n",
      "updater called\n"
     ]
    },
    {
     "name": "stdout",
     "output_type": "stream",
     "text": [
      "unpacking old_A_2d complex, old shape:  (1, 1)\n",
      "new shape:  (1, 2)\n",
      "old_parameters: {'amplitudes': (-0.08203618169601727+0.0923818437392802j), 'MSE_rel': 0.009795600189802037, 'T': 7.191235302264436e-06, 'decay_goodness_test': 1, 'decays_in_scan_length': 1.154182786563308, 'f': 592522.586061737, 'frequency_goodness_test': 1, 'inf': 1.8317215114519108, 'num_periods_decay': 4.260969338276181, 'num_periods_scan': 4.917937464312417, 'phi': -4.571776357144536, 'points_per_period': 16.876993780888657, 'A': array([-0.08203618,  0.09238184])}\n",
      "x fit shape:  (501,)  x shape:  (101,)\n",
      "y fit shape:  (2, 501)  y real:  (2, 101)\n",
      "updater called\n",
      "unpacking old_A_2d complex, old shape:  (1, 1)\n",
      "new shape:  (1, 2)\n",
      "old_parameters: {'amplitudes': (-0.08203618169601727+0.0923818437392802j), 'MSE_rel': 0.009692062763669958, 'T': 7.191235302264436e-06, 'decay_goodness_test': 1, 'decays_in_scan_length': 1.16808860326889, 'f': 592522.586061737, 'frequency_goodness_test': 1, 'inf': 1.8317215114519108, 'num_periods_decay': 4.260969338276181, 'num_periods_scan': 4.977189722918591, 'phi': -4.571776357144536, 'points_per_period': 16.876993780888657, 'A': array([-0.08203618,  0.09238184])}\n",
      "x fit shape:  (501,)  x shape:  (101,)\n",
      "y fit shape:  (2, 501)  y real:  (2, 101)\n",
      "updater called\n",
      "unpacking old_A_2d complex, old shape:  (1, 1)\n",
      "new shape:  (1, 2)\n",
      "old_parameters: {'amplitudes': (-0.08203618169601727+0.0923818437392802j), 'MSE_rel': 0.00958029190095206, 'T': 7.191235302264436e-06, 'decay_goodness_test': 1, 'decays_in_scan_length': 1.181994419974472, 'f': 592522.586061737, 'frequency_goodness_test': 1, 'inf': 1.8317215114519108, 'num_periods_decay': 4.260969338276181, 'num_periods_scan': 5.0364419815247645, 'phi': -4.571776357144536, 'points_per_period': 16.876993780888657, 'A': array([-0.08203618,  0.09238184])}\n",
      "x fit shape:  (501,)  x shape:  (101,)\n",
      "y fit shape:  (2, 501)  y real:  (2, 101)\n",
      "updater called\n",
      "unpacking old_A_2d complex, old shape:  (1, 1)\n",
      "new shape:  (1, 2)\n",
      "old_parameters: {'amplitudes': (-0.08203618169601727+0.0923818437392802j), 'MSE_rel': 0.009468985823753558, 'T': 7.191235302264436e-06, 'decay_goodness_test': 1, 'decays_in_scan_length': 1.195900236680054, 'f': 592522.586061737, 'frequency_goodness_test': 1, 'inf': 1.8317215114519108, 'num_periods_decay': 4.260969338276181, 'num_periods_scan': 5.095694240130938, 'phi': -4.571776357144536, 'points_per_period': 16.876993780888657, 'A': array([-0.08203618,  0.09238184])}\n",
      "x fit shape:  (501,)  x shape:  (101,)\n",
      "y fit shape:  (2, 501)  y real:  (2, 101)\n",
      "updater called\n",
      "unpacking old_A_2d complex, old shape:  (1, 1)\n",
      "new shape:  (1, 2)\n",
      "old_parameters: {'amplitudes': (-0.08203618169601727+0.0923818437392802j), 'MSE_rel': 0.009504139448955957, 'T': 7.191235302264436e-06, 'decay_goodness_test': 1, 'decays_in_scan_length': 1.209806053385636, 'f': 592522.586061737, 'frequency_goodness_test': 1, 'inf': 1.8317215114519108, 'num_periods_decay': 4.260969338276181, 'num_periods_scan': 5.154946498737112, 'phi': -4.571776357144536, 'points_per_period': 16.876993780888657, 'A': array([-0.08203618,  0.09238184])}\n",
      "x fit shape:  (501,)  x shape:  (101,)\n",
      "y fit shape:  (2, 501)  y real:  (2, 101)\n",
      "updater called\n",
      "unpacking old_A_2d complex, old shape:  (1, 1)\n",
      "new shape:  (1, 2)\n",
      "old_parameters: {'amplitudes': (-0.08203618169601727+0.0923818437392802j), 'MSE_rel': 0.00953142886072026, 'T': 7.191235302264436e-06, 'decay_goodness_test': 1, 'decays_in_scan_length': 1.2237118700912182, 'f': 592522.586061737, 'frequency_goodness_test': 1, 'inf': 1.8317215114519108, 'num_periods_decay': 4.260969338276181, 'num_periods_scan': 5.214198757343286, 'phi': -4.571776357144536, 'points_per_period': 16.876993780888657, 'A': array([-0.08203618,  0.09238184])}\n",
      "x fit shape:  (501,)  x shape:  (101,)\n",
      "y fit shape:  (2, 501)  y real:  (2, 101)\n",
      "updater called\n",
      "unpacking old_A_2d complex, old shape:  (1, 1)\n",
      "new shape:  (1, 2)\n",
      "old_parameters: {'amplitudes': (-0.08203618169601727+0.0923818437392802j), 'MSE_rel': 0.00943196997348796, 'T': 7.191235302264436e-06, 'decay_goodness_test': 1, 'decays_in_scan_length': 1.2376176867968, 'f': 592522.586061737, 'frequency_goodness_test': 1, 'inf': 1.8317215114519108, 'num_periods_decay': 4.260969338276181, 'num_periods_scan': 5.273451015949459, 'phi': -4.571776357144536, 'points_per_period': 16.876993780888657, 'A': array([-0.08203618,  0.09238184])}\n",
      "x fit shape:  (501,)  x shape:  (101,)\n",
      "y fit shape:  (2, 501)  y real:  (2, 101)\n",
      "updater called\n",
      "unpacking old_A_2d complex, old shape:  (1, 1)\n",
      "new shape:  (1, 2)\n",
      "old_parameters: {'amplitudes': (-0.08203618169601727+0.0923818437392802j), 'MSE_rel': 0.009460738172926246, 'T': 7.191235302264436e-06, 'decay_goodness_test': 1, 'decays_in_scan_length': 1.2515235035023822, 'f': 592522.586061737, 'frequency_goodness_test': 1, 'inf': 1.8317215114519108, 'num_periods_decay': 4.260969338276181, 'num_periods_scan': 5.332703274555634, 'phi': -4.571776357144536, 'points_per_period': 16.876993780888657, 'A': array([-0.08203618,  0.09238184])}\n",
      "x fit shape:  (501,)  x shape:  (101,)\n",
      "y fit shape:  (2, 501)  y real:  (2, 101)\n",
      "updater called\n",
      "unpacking old_A_2d complex, old shape:  (1, 1)\n",
      "new shape:  (1, 2)\n",
      "old_parameters: {'amplitudes': (-0.08203618169601727+0.0923818437392802j), 'MSE_rel': 0.009504207701938171, 'T': 7.191235302264436e-06, 'decay_goodness_test': 1, 'decays_in_scan_length': 1.265429320207964, 'f': 592522.586061737, 'frequency_goodness_test': 1, 'inf': 1.8317215114519108, 'num_periods_decay': 4.260969338276181, 'num_periods_scan': 5.3919555331618065, 'phi': -4.571776357144536, 'points_per_period': 16.876993780888657, 'A': array([-0.08203618,  0.09238184])}\n",
      "x fit shape:  (501,)  x shape:  (101,)\n",
      "y fit shape:  (2, 501)  y real:  (2, 101)\n",
      "updater called\n",
      "unpacking old_A_2d complex, old shape:  (1, 1)\n",
      "new shape:  (1, 2)\n",
      "old_parameters: {'amplitudes': (-0.08203618169601727+0.0923818437392802j), 'MSE_rel': 0.009780744078396788, 'T': 7.191235302264436e-06, 'decay_goodness_test': 1, 'decays_in_scan_length': 1.2793351369135464, 'f': 592522.586061737, 'frequency_goodness_test': 1, 'inf': 1.8317215114519108, 'num_periods_decay': 4.260969338276181, 'num_periods_scan': 5.451207791767981, 'phi': -4.571776357144536, 'points_per_period': 16.876993780888657, 'A': array([-0.08203618,  0.09238184])}\n",
      "x fit shape:  (501,)  x shape:  (101,)\n",
      "y fit shape:  (2, 501)  y real:  (2, 101)\n",
      "updater called\n",
      "unpacking old_A_2d complex, old shape:  (1, 1)\n",
      "new shape:  (1, 2)\n",
      "old_parameters: {'amplitudes': (-0.08203618169601727+0.0923818437392802j), 'MSE_rel': 0.00969955596916147, 'T': 7.191235302264436e-06, 'decay_goodness_test': 1, 'decays_in_scan_length': 1.2932409536191283, 'f': 592522.586061737, 'frequency_goodness_test': 1, 'inf': 1.8317215114519108, 'num_periods_decay': 4.260969338276181, 'num_periods_scan': 5.510460050374154, 'phi': -4.571776357144536, 'points_per_period': 16.876993780888657, 'A': array([-0.08203618,  0.09238184])}\n",
      "x fit shape:  (501,)  x shape:  (101,)\n",
      "y fit shape:  (2, 501)  y real:  (2, 101)\n",
      "updater called\n",
      "unpacking old_A_2d complex, old shape:  (1, 1)\n",
      "new shape:  (1, 2)\n",
      "old_parameters: {'amplitudes': (-0.08203618169601727+0.0923818437392802j), 'MSE_rel': 0.00965483373079459, 'T': 7.191235302264436e-06, 'decay_goodness_test': 1, 'decays_in_scan_length': 1.3071467703247104, 'f': 592522.586061737, 'frequency_goodness_test': 1, 'inf': 1.8317215114519108, 'num_periods_decay': 4.260969338276181, 'num_periods_scan': 5.569712308980328, 'phi': -4.571776357144536, 'points_per_period': 16.876993780888657, 'A': array([-0.08203618,  0.09238184])}\n",
      "x fit shape:  (501,)  x shape:  (101,)\n",
      "y fit shape:  (2, 501)  y real:  (2, 101)\n",
      "updater called\n",
      "unpacking old_A_2d complex, old shape:  (1, 1)\n",
      "new shape:  (1, 2)\n",
      "old_parameters: {'amplitudes': (-0.08203618169601727+0.0923818437392802j), 'MSE_rel': 0.009753420035143302, 'T': 7.191235302264436e-06, 'decay_goodness_test': 1, 'decays_in_scan_length': 1.3210525870302923, 'f': 592522.586061737, 'frequency_goodness_test': 1, 'inf': 1.8317215114519108, 'num_periods_decay': 4.260969338276181, 'num_periods_scan': 5.628964567586501, 'phi': -4.571776357144536, 'points_per_period': 16.876993780888657, 'A': array([-0.08203618,  0.09238184])}\n",
      "x fit shape:  (501,)  x shape:  (101,)\n",
      "y fit shape:  (2, 501)  y real:  (2, 101)\n",
      "updater called\n"
     ]
    },
    {
     "name": "stdout",
     "output_type": "stream",
     "text": [
      "unpacking old_A_2d complex, old shape:  (1, 1)\n",
      "new shape:  (1, 2)\n",
      "old_parameters: {'amplitudes': (-0.08203618169601727+0.0923818437392802j), 'MSE_rel': 0.009686229982144641, 'T': 7.191235302264436e-06, 'decay_goodness_test': 1, 'decays_in_scan_length': 1.3349584037358744, 'f': 592522.586061737, 'frequency_goodness_test': 1, 'inf': 1.8317215114519108, 'num_periods_decay': 4.260969338276181, 'num_periods_scan': 5.688216826192675, 'phi': -4.571776357144536, 'points_per_period': 16.876993780888657, 'A': array([-0.08203618,  0.09238184])}\n",
      "x fit shape:  (501,)  x shape:  (101,)\n",
      "y fit shape:  (2, 501)  y real:  (2, 101)\n",
      "updater called\n",
      "unpacking old_A_2d complex, old shape:  (1, 1)\n",
      "new shape:  (1, 2)\n",
      "old_parameters: {'amplitudes': (-0.08275409127287889+0.09251156811658938j), 'MSE_rel': 0.009576364686090764, 'T': 7.041697343163575e-06, 'decay_goodness_test': 1, 'decays_in_scan_length': 1.377508791884848, 'f': 594108.5364124109, 'frequency_goodness_test': 1, 'inf': 1.819429098523693, 'num_periods_decay': 4.183532502406074, 'num_periods_scan': 5.762852803200386, 'phi': -4.590742208925419, 'points_per_period': 16.83194128195176, 'A': array([-0.08275409,  0.09251157])}\n",
      "x fit shape:  (501,)  x shape:  (101,)\n",
      "y fit shape:  (2, 501)  y real:  (2, 101)\n",
      "updater called\n",
      "unpacking old_A_2d complex, old shape:  (1, 1)\n",
      "new shape:  (1, 2)\n",
      "old_parameters: {'amplitudes': (-0.08275409127287889+0.09251156811658938j), 'MSE_rel': 0.009514290673028303, 'T': 7.041697343163575e-06, 'decay_goodness_test': 1, 'decays_in_scan_length': 1.3917099134506712, 'f': 594108.5364124109, 'frequency_goodness_test': 1, 'inf': 1.819429098523693, 'num_periods_decay': 4.183532502406074, 'num_periods_scan': 5.822263656841627, 'phi': -4.590742208925419, 'points_per_period': 16.83194128195176, 'A': array([-0.08275409,  0.09251157])}\n",
      "x fit shape:  (501,)  x shape:  (101,)\n",
      "y fit shape:  (2, 501)  y real:  (2, 101)\n",
      "updater called\n",
      "unpacking old_A_2d complex, old shape:  (1, 1)\n",
      "new shape:  (1, 2)\n",
      "old_parameters: {'amplitudes': (-0.08269603321338387+0.0924587638186927j), 'MSE_rel': 0.009533537369326921, 'T': 7.071112207355959e-06, 'decay_goodness_test': 1, 'decays_in_scan_length': 1.4000626364974378, 'f': 593955.8922468742, 'frequency_goodness_test': 1, 'inf': 1.8198113411969943, 'num_periods_decay': 4.1999287602978725, 'num_periods_scan': 5.880163333244054, 'phi': -4.5887652007505295, 'points_per_period': 16.836267020049295, 'A': array([-0.08269603,  0.09245876])}\n",
      "x fit shape:  (501,)  x shape:  (101,)\n",
      "y fit shape:  (2, 501)  y real:  (2, 101)\n",
      "updater called\n",
      "Waiting to join deferred threads:\n",
      "load_exdir: file open time:  0.0009999275207519531\n",
      "load_exdir: file open time:  0.0010001659393310547\n",
      "load_exdir: file open time:  0.0009996891021728516\n",
      "load time:  0.03398418426513672\n",
      "pre_trace_time:  0.00099945068359375\n",
      "trace 0 time:  0.012993335723876953\n",
      "trace 1 time:  0.02298903465270996\n",
      "trace 2 time:  0.03398323059082031\n",
      "trace 3 time:  0.04497838020324707\n",
      "load_exdir: file open time:  0.0019989013671875\n",
      "load_exdir: file open time:  0.0019989013671875\n",
      "load_exdir: file open time:  0.001999378204345703\n",
      "load time:  0.03298449516296387\n",
      "pre_trace_time:  0.00099945068359375\n",
      "trace 0 time:  0.011994123458862305\n",
      "trace 1 time:  0.022989273071289062\n",
      "trace 2 time:  0.03498363494873047\n",
      "trace 3 time:  0.04497861862182617\n"
     ]
    },
    {
     "data": {
      "text/plain": [
       "start: 2019-07-04 13:32:06.951638, started/done/total sweeps: 0/101/101, \n",
       "Measured data: \n",
       "'iq1': parameters: Delay (s),:[0.0, 9.999999999999999e-06] (101 points) with setter\n",
       "data: [-0.15501284+0.16295371j -0.19184708+0.23013706j -0.19353908+0.23123958j\n",
       " -0.21061544+0.25500969j -0.22197034+0.2648911j  -0.19845211+0.22455335j\n",
       " -0.18417258+0.20869762j -0.20900402+0.22196581j -0.15680406+0.18231604j\n",
       " -0.11733387+0.13638369j -0.09240819+0.10964328j -0.0682189 +0.08435736j\n",
       " -0.08215394+0.0907689j  -0.08991191+0.1009892j  -0.08412577+0.08876813j\n",
       " -0.0885945 +0.09561047j -0.18387656+0.17032963j -0.19715511+0.19366972j\n",
       " -0.15375321+0.19414037j -0.19921622+0.25926771j -0.22614166+0.25879145j\n",
       " -0.22604576+0.25269495j -0.22024713+0.23960318j -0.20911676+0.23980509j\n",
       " -0.16761261+0.19506236j -0.15218676+0.1913391j  -0.15797756+0.17396003j\n",
       " -0.11060244+0.12521768j -0.12910688+0.13259199j -0.09797698+0.11135344j\n",
       " -0.09007588+0.11574481j -0.11094023+0.12659341j -0.14673329+0.17261091j\n",
       " -0.13986843+0.15492084j -0.16530294+0.18034785j -0.1694196 +0.18136979j\n",
       " -0.16242023+0.1930365j  -0.19047176+0.20856903j -0.18464507+0.21774609j\n",
       " -0.18162505+0.21731995j -0.17617845+0.21498719j -0.15381809+0.17755543j\n",
       " -0.17259202+0.17315145j -0.11288877+0.12063666j -0.08899219+0.11301295j\n",
       " -0.11054811+0.10689091j -0.10017369+0.11083906j -0.10500157+0.12523602j\n",
       " -0.12655907+0.13448536j -0.11920738+0.12522861j -0.15402791+0.16962763j\n",
       " -0.18705876+0.20184512j -0.17675694+0.20500355j -0.1738285 +0.21233191j\n",
       " -0.1646843 +0.18483721j -0.14867473+0.20480508j -0.1606342 +0.20112751j\n",
       " -0.16537356+0.19183889j -0.19793761+0.20674731j -0.13017071+0.13316144j\n",
       " -0.10507622+0.13429002j -0.11430945+0.13635388j -0.09830698+0.10056251j\n",
       " -0.10670506+0.12291689j -0.11207649+0.13044605j -0.11665701+0.14923612j\n",
       " -0.12847909+0.15584079j -0.11430194+0.1582611j  -0.15218574+0.17719818j\n",
       " -0.17506194+0.21292909j -0.18556862+0.20313622j -0.20307018+0.22022869j\n",
       " -0.18334987+0.1919307j  -0.15420751+0.17070305j -0.16509045+0.18015894j\n",
       " -0.1765682 +0.18351651j -0.15550792+0.18148592j -0.12336352+0.14538251j\n",
       " -0.14295779+0.15226618j -0.11734434+0.13825539j -0.12666784+0.13517755j\n",
       " -0.13120734+0.14961189j -0.12074889+0.15826526j -0.14211318+0.16574551j\n",
       " -0.14720381+0.17114296j -0.15626333+0.17785246j -0.17019586+0.19851192j\n",
       " -0.16822064+0.16768819j -0.20221587+0.18740906j -0.18415679+0.18857924j\n",
       " -0.15588237+0.16828864j -0.14577752+0.16243216j -0.12604403+0.14206843j\n",
       " -0.15102109+0.17175552j -0.13286802+0.1691895j  -0.12182013+0.12275088j\n",
       " -0.13275025+0.14369455j -0.13486464+0.15993885j -0.14168238+0.15138347j\n",
       " -0.1218044 +0.14183012j -0.15300887+0.16441717j]"
      ]
     },
     "execution_count": 12,
     "metadata": {},
     "output_type": "execute_result"
    }
   ],
   "source": [
    "from qsweepy.qubit_calibrations import Ramsey\n",
    "from qsweepy.qubit_calibrations import channel_amplitudes\n",
    "imp.reload(Ramsey)\n",
    "Ramsey.Ramsey(device, \n",
    "              '1', \n",
    "              lengths=np.linspace(0, 10e-6, 100e-9), \n",
    "              target_freq_offset=1e6,\n",
    "              channel_amplitudes1=channel_amplitudes.channel_amplitudes(device, iq_ex1_q1=1.0),\n",
    "              channel_amplitudes2=channel_amplitudes.channel_amplitudes(device, iq_ex3_q1=1.0))"
   ]
  },
  {
   "cell_type": "code",
   "execution_count": 13,
   "metadata": {
    "ExecuteTime": {
     "end_time": "2019-07-04T18:42:12.745227Z",
     "start_time": "2019-07-04T18:36:58.791622Z"
    }
   },
   "outputs": [
    {
     "name": "stdout",
     "output_type": "stream",
     "text": [
      "load_exdir: file open time:  0.0019986629486083984\n",
      "reference: channel_calibration_iq_ex1_q3 : 2319\n",
      "load_exdir: file open time:  0.0019998550415039062\n",
      "load_exdir: file open time:  0.0019998550415039062\n",
      "reference: channel_calibration_iq_ex3_q3 : 2320\n",
      "load_exdir: file open time:  0.002006053924560547\n",
      "load_exdir: file open time:  0.001999378204345703\n",
      "load_exdir: file open time:  0.002001047134399414\n",
      "load_exdir: file open time:  0.0019998550415039062\n",
      "load_exdir: file open time:  0.0010247230529785156\n"
     ]
    },
    {
     "name": "stderr",
     "output_type": "stream",
     "text": [
      "C:\\ProgramData\\Anaconda3\\lib\\site-packages\\ipykernel_launcher.py:3: DeprecationWarning:\n",
      "\n",
      "object of type <class 'float'> cannot be safely interpreted as an integer.\n",
      "\n"
     ]
    },
    {
     "name": "stdout",
     "output_type": "stream",
     "text": [
      "reference: channel_calibration : 2619\n",
      "load_exdir: file open time:  0.0010249614715576172\n",
      "reference: passthrough_measurement : 2649\n",
      "load_exdir: file open time:  0.0020203590393066406\n",
      "load_exdir: file open time:  0.0009996891021728516\n",
      "reference: readout_pulse : 2664\n",
      "reference: modem_calibration : 3448\n",
      "None\n",
      "load_exdir: file open time:  0.0019989013671875\n",
      "load_exdir: file open time:  0.0009989738464355469\n"
     ]
    },
    {
     "name": "stderr",
     "output_type": "stream",
     "text": [
      "Traceback (most recent call last):\n",
      "  File \"C:\\qtlab_replacement\\qsweepy\\qubit_calibrations\\readout_pulse.py\", line 75, in get_readout_background_calibration\n",
      "    return device.exdir_db.select_measurement(measurement_type='readout_background_calibration', metadata=metadata, references_that=references)\n",
      "  File \"C:\\qtlab_replacement\\qsweepy\\exdir_db.py\", line 48, in select_measurement\n",
      "    return save_exdir.load_exdir(list(measurement_db_list.order_by(lambda d: desc(d.id)).limit(1))[0].filename, db=self.db)\n",
      "IndexError: list index out of range\n"
     ]
    },
    {
     "name": "stdout",
     "output_type": "stream",
     "text": [
      "load_exdir: file open time:  0.0009987354278564453\n"
     ]
    },
    {
     "name": "stderr",
     "output_type": "stream",
     "text": [
      "C:\\qtlab_replacement\\qsweepy\\instrument_drivers\\Tektronix_AWG5014.py:651: ComplexWarning:\n",
      "\n",
      "Casting complex values to real discards the imaginary part\n",
      "\n",
      "C:\\ProgramData\\Anaconda3\\lib\\site-packages\\pyvisa\\resources\\messagebased.py:573: FutureWarning:\n",
      "\n",
      "ask is deprecated and will be removed in 1.10, use query instead.\n",
      "\n"
     ]
    },
    {
     "name": "stdout",
     "output_type": "stream",
     "text": [
      "load_exdir: file open time:  0.001989603042602539\n",
      "Inserting references: {'readout_pulse': 2664, 'modem_calibration': 3448, 'channel_calibration': 2619}\n",
      "Waiting to join deferred threads:\n",
      "load_exdir: file open time:  0.0009968280792236328\n",
      "load_exdir: file open time:  0.0009984970092773438\n",
      "load_exdir: file open time:  0.0019991397857666016\n",
      "load time:  0.1039738655090332\n",
      "pre_trace_time:  0.0009989738464355469\n",
      "trace 0 time:  0.014969348907470703\n",
      "trace 1 time:  0.02796316146850586\n",
      "trace 2 time:  0.04195666313171387\n",
      "trace 3 time:  0.05495023727416992\n",
      "trace 4 time:  0.06794500350952148\n"
     ]
    },
    {
     "name": "stderr",
     "output_type": "stream",
     "text": [
      "C:\\ProgramData\\Anaconda3\\lib\\site-packages\\numpy\\core\\memmap.py:335: FutureWarning:\n",
      "\n",
      "Using a non-tuple sequence for multidimensional indexing is deprecated; use `arr[tuple(seq)]` instead of `arr[seq]`. In the future this will be interpreted as an array index, `arr[np.array(seq)]`, which will result either in an error or a different result.\n",
      "\n"
     ]
    },
    {
     "name": "stdout",
     "output_type": "stream",
     "text": [
      "load_exdir: file open time:  0.0019752979278564453\n",
      "c:\\data\\2019-07-04\\003341-fit_dataset_1d-1906-001_1_down\n",
      "load_exdir: file open time:  0.0039751529693603516\n",
      "Failed loading fit results of Rabi measurement 3340\n",
      "c:\\data\\2019-07-04\\003435-fit_dataset_1d-1906-001_1_down\n",
      "load_exdir: file open time:  0.001998424530029297\n"
     ]
    },
    {
     "name": "stderr",
     "output_type": "stream",
     "text": [
      "Traceback (most recent call last):\n",
      "  File \"C:\\qtlab_replacement\\qsweepy\\qubit_calibrations\\excitation_pulse.py\", line 99, in get_excitation_pulse\n",
      "    assert channel_amplitudes_override.id == reference.that.id  ## if we are looking for a specific channel_amplitudes, skip all the others\n",
      "AssertionError\n"
     ]
    },
    {
     "name": "stdout",
     "output_type": "stream",
     "text": [
      "Failed loading fit results of Rabi measurement 3434\n",
      "c:\\data\\2019-07-02\\003176-fit_dataset_1d-1906-001_1_down\n",
      "load_exdir: file open time:  0.002999544143676758\n"
     ]
    },
    {
     "name": "stderr",
     "output_type": "stream",
     "text": [
      "Traceback (most recent call last):\n",
      "  File \"C:\\qtlab_replacement\\qsweepy\\qubit_calibrations\\excitation_pulse.py\", line 99, in get_excitation_pulse\n",
      "    assert channel_amplitudes_override.id == reference.that.id  ## if we are looking for a specific channel_amplitudes, skip all the others\n",
      "AssertionError\n"
     ]
    },
    {
     "name": "stdout",
     "output_type": "stream",
     "text": [
      "Failed loading fit results of Rabi measurement 3175\n",
      "c:\\data\\2019-07-02\\003162-fit_dataset_1d-1906-001_1_down\n",
      "load_exdir: file open time:  0.0030257701873779297\n"
     ]
    },
    {
     "name": "stderr",
     "output_type": "stream",
     "text": [
      "Traceback (most recent call last):\n",
      "  File \"C:\\qtlab_replacement\\qsweepy\\qubit_calibrations\\excitation_pulse.py\", line 99, in get_excitation_pulse\n",
      "    assert channel_amplitudes_override.id == reference.that.id  ## if we are looking for a specific channel_amplitudes, skip all the others\n",
      "AssertionError\n"
     ]
    },
    {
     "name": "stdout",
     "output_type": "stream",
     "text": [
      "Failed loading fit results of Rabi measurement 3161\n",
      "c:\\data\\2019-07-02\\003182-fit_dataset_1d-1906-001_1_down\n",
      "load_exdir: file open time:  0.0029730796813964844\n"
     ]
    },
    {
     "name": "stderr",
     "output_type": "stream",
     "text": [
      "Traceback (most recent call last):\n",
      "  File \"C:\\qtlab_replacement\\qsweepy\\qubit_calibrations\\excitation_pulse.py\", line 99, in get_excitation_pulse\n",
      "    assert channel_amplitudes_override.id == reference.that.id  ## if we are looking for a specific channel_amplitudes, skip all the others\n",
      "AssertionError\n"
     ]
    },
    {
     "name": "stdout",
     "output_type": "stream",
     "text": [
      "Failed loading fit results of Rabi measurement 3181\n",
      "c:\\data\\2019-07-02\\003185-fit_dataset_1d-1906-001_1_down\n",
      "load_exdir: file open time:  0.0030257701873779297\n"
     ]
    },
    {
     "name": "stderr",
     "output_type": "stream",
     "text": [
      "Traceback (most recent call last):\n",
      "  File \"C:\\qtlab_replacement\\qsweepy\\qubit_calibrations\\excitation_pulse.py\", line 99, in get_excitation_pulse\n",
      "    assert channel_amplitudes_override.id == reference.that.id  ## if we are looking for a specific channel_amplitudes, skip all the others\n",
      "AssertionError\n"
     ]
    },
    {
     "name": "stdout",
     "output_type": "stream",
     "text": [
      "c:\\data\\2019-07-03\\003231-fit_dataset_1d-1906-001_1_down\n",
      "load_exdir: file open time:  0.003002166748046875\n",
      "c:\\data\\2019-07-03\\003245-fit_dataset_1d-1906-001_1_down\n",
      "load_exdir: file open time:  0.0029981136322021484\n",
      "c:\\data\\2019-07-03\\003260-fit_dataset_1d-1906-001_1_down\n",
      "load_exdir: file open time:  0.003021717071533203\n",
      "c:\\data\\2019-07-03\\003266-fit_dataset_1d-1906-001_1_down\n",
      "load_exdir: file open time:  0.002998828887939453\n",
      "c:\\data\\2019-07-03\\003268-fit_dataset_1d-1906-001_1_down\n",
      "load_exdir: file open time:  0.002977609634399414\n",
      "Failed loading fit results of Rabi measurement 3267\n",
      "c:\\data\\2019-07-04\\003339-fit_dataset_1d-1906-001_1_down\n",
      "load_exdir: file open time:  0.0029981136322021484\n"
     ]
    },
    {
     "name": "stderr",
     "output_type": "stream",
     "text": [
      "Traceback (most recent call last):\n",
      "  File \"C:\\qtlab_replacement\\qsweepy\\qubit_calibrations\\excitation_pulse.py\", line 99, in get_excitation_pulse\n",
      "    assert channel_amplitudes_override.id == reference.that.id  ## if we are looking for a specific channel_amplitudes, skip all the others\n",
      "AssertionError\n"
     ]
    },
    {
     "name": "stdout",
     "output_type": "stream",
     "text": [
      "c:\\data\\2019-07-04\\003399-fit_dataset_1d-1906-001_1_down\n",
      "load_exdir: file open time:  0.0019960403442382812\n",
      "c:\\data\\2019-07-04\\003419-fit_dataset_1d-1906-001_1_down\n",
      "load_exdir: file open time:  0.0019974708557128906\n",
      "c:\\data\\2019-07-04\\003431-fit_dataset_1d-1906-001_1_down\n",
      "load_exdir: file open time:  0.001990079879760742\n",
      "c:\\data\\2019-07-04\\003433-fit_dataset_1d-1906-001_1_down\n",
      "load_exdir: file open time:  0.0019974708557128906\n",
      "ex_channels_found:  [{'iq_ex1_q3'}, {'iq_ex1_q3'}, {'iq_ex1_q3'}, {'iq_ex1_q3'}, {'iq_ex1_q3'}, {'iq_ex1_q3'}, {'iq_ex1_q3'}, {'iq_ex1_q3'}, {'iq_ex1_q3'}, {'iq_ex1_q3'}]\n",
      "c:\\data\\2019-07-04\\003433-fit_dataset_1d-1906-001_1_down\n",
      "load_exdir: file open time:  0.001999378204345703\n",
      "c:\\data\\2019-07-04\\003432-Rabi_rect-1906-001_1_down\n",
      "load_exdir: file open time:  0.0010018348693847656\n",
      "load_exdir: file open time:  0.002001047134399414\n",
      "reference: channel_amplitudes : 2739\n",
      "reference: Rabi_rect : 3432\n",
      "Inserting references: {'channel_amplitudes': 2739, 'Rabi_rect': 3432}\n",
      "c:\\data\\2019-06-26\\002739-channel_amplitudes-1906-001_1_down\n",
      "load_exdir: file open time:  0.001976490020751953\n",
      "c:\\data\\2019-07-04\\003341-fit_dataset_1d-1906-001_1_down\n",
      "load_exdir: file open time:  0.0019989013671875\n"
     ]
    },
    {
     "name": "stderr",
     "output_type": "stream",
     "text": [
      "Traceback (most recent call last):\n",
      "  File \"C:\\qtlab_replacement\\qsweepy\\qubit_calibrations\\excitation_pulse.py\", line 34, in __init__\n",
      "    measurement = self.device.exdir_db.select_measurement(measurement_type='qubit_excitation_pulse', metadata=metadata, references_that=references)\n",
      "  File \"C:\\qtlab_replacement\\qsweepy\\exdir_db.py\", line 48, in select_measurement\n",
      "    return save_exdir.load_exdir(list(measurement_db_list.order_by(lambda d: desc(d.id)).limit(1))[0].filename, db=self.db)\n",
      "IndexError: list index out of range\n"
     ]
    },
    {
     "name": "stdout",
     "output_type": "stream",
     "text": [
      "c:\\data\\2019-07-04\\003435-fit_dataset_1d-1906-001_1_down\n",
      "load_exdir: file open time:  0.001999378204345703\n",
      "c:\\data\\2019-07-02\\003176-fit_dataset_1d-1906-001_1_down\n",
      "load_exdir: file open time:  0.0019953250885009766\n",
      "c:\\data\\2019-07-02\\003162-fit_dataset_1d-1906-001_1_down\n",
      "load_exdir: file open time:  0.001996278762817383\n",
      "c:\\data\\2019-07-02\\003182-fit_dataset_1d-1906-001_1_down\n",
      "load_exdir: file open time:  0.0019922256469726562\n",
      "c:\\data\\2019-07-02\\003185-fit_dataset_1d-1906-001_1_down\n",
      "load_exdir: file open time:  0.0010058879852294922\n",
      "Failed loading fit results of Rabi measurement 3184\n",
      "c:\\data\\2019-07-03\\003231-fit_dataset_1d-1906-001_1_down\n",
      "load_exdir: file open time:  0.0009970664978027344\n"
     ]
    },
    {
     "name": "stderr",
     "output_type": "stream",
     "text": [
      "Traceback (most recent call last):\n",
      "  File \"C:\\qtlab_replacement\\qsweepy\\qubit_calibrations\\excitation_pulse.py\", line 99, in get_excitation_pulse\n",
      "    assert channel_amplitudes_override.id == reference.that.id  ## if we are looking for a specific channel_amplitudes, skip all the others\n",
      "AssertionError\n"
     ]
    },
    {
     "name": "stdout",
     "output_type": "stream",
     "text": [
      "Failed loading fit results of Rabi measurement 3230\n",
      "c:\\data\\2019-07-03\\003245-fit_dataset_1d-1906-001_1_down\n",
      "load_exdir: file open time:  0.0019898414611816406\n"
     ]
    },
    {
     "name": "stderr",
     "output_type": "stream",
     "text": [
      "Traceback (most recent call last):\n",
      "  File \"C:\\qtlab_replacement\\qsweepy\\qubit_calibrations\\excitation_pulse.py\", line 99, in get_excitation_pulse\n",
      "    assert channel_amplitudes_override.id == reference.that.id  ## if we are looking for a specific channel_amplitudes, skip all the others\n",
      "AssertionError\n"
     ]
    },
    {
     "name": "stdout",
     "output_type": "stream",
     "text": [
      "Failed loading fit results of Rabi measurement 3244\n",
      "c:\\data\\2019-07-03\\003260-fit_dataset_1d-1906-001_1_down\n",
      "load_exdir: file open time:  0.001993894577026367\n"
     ]
    },
    {
     "name": "stderr",
     "output_type": "stream",
     "text": [
      "Traceback (most recent call last):\n",
      "  File \"C:\\qtlab_replacement\\qsweepy\\qubit_calibrations\\excitation_pulse.py\", line 99, in get_excitation_pulse\n",
      "    assert channel_amplitudes_override.id == reference.that.id  ## if we are looking for a specific channel_amplitudes, skip all the others\n",
      "AssertionError\n"
     ]
    },
    {
     "name": "stdout",
     "output_type": "stream",
     "text": [
      "Failed loading fit results of Rabi measurement 3259\n",
      "c:\\data\\2019-07-03\\003266-fit_dataset_1d-1906-001_1_down\n",
      "load_exdir: file open time:  0.0019989013671875\n"
     ]
    },
    {
     "name": "stderr",
     "output_type": "stream",
     "text": [
      "Traceback (most recent call last):\n",
      "  File \"C:\\qtlab_replacement\\qsweepy\\qubit_calibrations\\excitation_pulse.py\", line 99, in get_excitation_pulse\n",
      "    assert channel_amplitudes_override.id == reference.that.id  ## if we are looking for a specific channel_amplitudes, skip all the others\n",
      "AssertionError\n"
     ]
    },
    {
     "name": "stdout",
     "output_type": "stream",
     "text": [
      "Failed loading fit results of Rabi measurement 3265\n",
      "c:\\data\\2019-07-03\\003268-fit_dataset_1d-1906-001_1_down\n",
      "load_exdir: file open time:  0.0019762516021728516\n"
     ]
    },
    {
     "name": "stderr",
     "output_type": "stream",
     "text": [
      "Traceback (most recent call last):\n",
      "  File \"C:\\qtlab_replacement\\qsweepy\\qubit_calibrations\\excitation_pulse.py\", line 99, in get_excitation_pulse\n",
      "    assert channel_amplitudes_override.id == reference.that.id  ## if we are looking for a specific channel_amplitudes, skip all the others\n",
      "AssertionError\n"
     ]
    },
    {
     "name": "stdout",
     "output_type": "stream",
     "text": [
      "c:\\data\\2019-07-04\\003339-fit_dataset_1d-1906-001_1_down\n",
      "load_exdir: file open time:  0.001999378204345703\n",
      "Failed loading fit results of Rabi measurement 3338\n",
      "c:\\data\\2019-07-04\\003399-fit_dataset_1d-1906-001_1_down\n",
      "load_exdir: file open time:  0.001995563507080078\n"
     ]
    },
    {
     "name": "stderr",
     "output_type": "stream",
     "text": [
      "Traceback (most recent call last):\n",
      "  File \"C:\\qtlab_replacement\\qsweepy\\qubit_calibrations\\excitation_pulse.py\", line 99, in get_excitation_pulse\n",
      "    assert channel_amplitudes_override.id == reference.that.id  ## if we are looking for a specific channel_amplitudes, skip all the others\n",
      "AssertionError\n"
     ]
    },
    {
     "name": "stdout",
     "output_type": "stream",
     "text": [
      "Failed loading fit results of Rabi measurement 3398\n",
      "c:\\data\\2019-07-04\\003419-fit_dataset_1d-1906-001_1_down\n",
      "load_exdir: file open time:  0.001974821090698242\n"
     ]
    },
    {
     "name": "stderr",
     "output_type": "stream",
     "text": [
      "Traceback (most recent call last):\n",
      "  File \"C:\\qtlab_replacement\\qsweepy\\qubit_calibrations\\excitation_pulse.py\", line 99, in get_excitation_pulse\n",
      "    assert channel_amplitudes_override.id == reference.that.id  ## if we are looking for a specific channel_amplitudes, skip all the others\n",
      "AssertionError\n"
     ]
    },
    {
     "name": "stdout",
     "output_type": "stream",
     "text": [
      "Failed loading fit results of Rabi measurement 3418\n",
      "c:\\data\\2019-07-04\\003431-fit_dataset_1d-1906-001_1_down\n",
      "load_exdir: file open time:  0.0019943714141845703\n"
     ]
    },
    {
     "name": "stderr",
     "output_type": "stream",
     "text": [
      "Traceback (most recent call last):\n",
      "  File \"C:\\qtlab_replacement\\qsweepy\\qubit_calibrations\\excitation_pulse.py\", line 99, in get_excitation_pulse\n",
      "    assert channel_amplitudes_override.id == reference.that.id  ## if we are looking for a specific channel_amplitudes, skip all the others\n",
      "AssertionError\n"
     ]
    },
    {
     "name": "stdout",
     "output_type": "stream",
     "text": [
      "Failed loading fit results of Rabi measurement 3430\n",
      "c:\\data\\2019-07-04\\003433-fit_dataset_1d-1906-001_1_down\n",
      "load_exdir: file open time:  0.0020151138305664062\n"
     ]
    },
    {
     "name": "stderr",
     "output_type": "stream",
     "text": [
      "Traceback (most recent call last):\n",
      "  File \"C:\\qtlab_replacement\\qsweepy\\qubit_calibrations\\excitation_pulse.py\", line 99, in get_excitation_pulse\n",
      "    assert channel_amplitudes_override.id == reference.that.id  ## if we are looking for a specific channel_amplitudes, skip all the others\n",
      "AssertionError\n"
     ]
    },
    {
     "name": "stdout",
     "output_type": "stream",
     "text": [
      "Failed loading fit results of Rabi measurement 3432\n",
      "ex_channels_found:  [{'iq_ex3_q3'}, {'iq_ex3_q3'}, {'iq_ex3_q3'}, {'iq_ex3_q3'}, {'iq_ex3_q3'}, {'iq_ex3_q3'}]\n",
      "c:\\data\\2019-07-03\\003268-fit_dataset_1d-1906-001_1_down\n",
      "load_exdir: file open time:  0.0019989013671875\n"
     ]
    },
    {
     "name": "stderr",
     "output_type": "stream",
     "text": [
      "Traceback (most recent call last):\n",
      "  File \"C:\\qtlab_replacement\\qsweepy\\qubit_calibrations\\excitation_pulse.py\", line 99, in get_excitation_pulse\n",
      "    assert channel_amplitudes_override.id == reference.that.id  ## if we are looking for a specific channel_amplitudes, skip all the others\n",
      "AssertionError\n"
     ]
    },
    {
     "name": "stdout",
     "output_type": "stream",
     "text": [
      "c:\\data\\2019-07-03\\003267-Rabi_rect-1906-001_1_down\n",
      "load_exdir: file open time:  0.0040209293365478516\n",
      "load_exdir: file open time:  0.0010001659393310547\n",
      "reference: channel_amplitudes : 2747\n",
      "reference: Rabi_rect : 3267\n",
      "Inserting references: {'channel_amplitudes': 2747, 'Rabi_rect': 3267}\n",
      "c:\\data\\2019-06-26\\002747-channel_amplitudes-1906-001_1_down\n",
      "load_exdir: file open time:  0.001976490020751953\n",
      "Inserting references: {'ex_pulse1': 3454, 'ex_pulse2': 3455, 'readout_background_calibration': 3453}\n",
      "old_parameters: None\n",
      "x fit shape:  (501,)  x shape:  (101,)\n",
      "y fit shape:  (2, 501)  y real:  (2, 101)\n",
      "Inserting references: {'fit_source': 3456}\n"
     ]
    },
    {
     "name": "stderr",
     "output_type": "stream",
     "text": [
      "Traceback (most recent call last):\n",
      "  File \"C:\\qtlab_replacement\\qsweepy\\qubit_calibrations\\excitation_pulse.py\", line 34, in __init__\n",
      "    measurement = self.device.exdir_db.select_measurement(measurement_type='qubit_excitation_pulse', metadata=metadata, references_that=references)\n",
      "  File \"C:\\qtlab_replacement\\qsweepy\\exdir_db.py\", line 48, in select_measurement\n",
      "    return save_exdir.load_exdir(list(measurement_db_list.order_by(lambda d: desc(d.id)).limit(1))[0].filename, db=self.db)\n",
      "IndexError: list index out of range\n",
      "Traceback (most recent call last):\n",
      "  File \"C:\\qtlab_replacement\\qsweepy\\fitters\\exp_sin.py\", line 23, in exp_sin_fit\n",
      "    raise ValueError\n",
      "ValueError\n"
     ]
    },
    {
     "name": "stdout",
     "output_type": "stream",
     "text": [
      "unpacking old_A_2d complex, old shape:  (1, 1)\n",
      "new shape:  (1, 2)\n",
      "old_parameters: {'amplitudes': (nan+nanj), 'MSE_rel': nan, 'T': nan, 'decay_goodness_test': 0, 'decays_in_scan_length': nan, 'f': nan, 'frequency_goodness_test': 0, 'inf': nan, 'num_periods_decay': nan, 'num_periods_scan': nan, 'phi': nan, 'points_per_period': nan, 'A': array([nan, nan])}\n",
      "x fit shape:  (501,)  x shape:  (101,)\n",
      "y fit shape:  (2, 501)  y real:  (2, 101)\n",
      "updater called\n"
     ]
    },
    {
     "name": "stderr",
     "output_type": "stream",
     "text": [
      "Traceback (most recent call last):\n",
      "  File \"C:\\qtlab_replacement\\qsweepy\\fitters\\exp_sin.py\", line 23, in exp_sin_fit\n",
      "    raise ValueError\n",
      "ValueError\n"
     ]
    },
    {
     "name": "stdout",
     "output_type": "stream",
     "text": [
      "unpacking old_A_2d complex, old shape:  (1, 1)\n",
      "new shape:  (1, 2)\n",
      "old_parameters: {'amplitudes': (nan+nanj), 'MSE_rel': nan, 'T': nan, 'decay_goodness_test': 0, 'decays_in_scan_length': nan, 'f': nan, 'frequency_goodness_test': 0, 'inf': nan, 'num_periods_decay': nan, 'num_periods_scan': nan, 'phi': nan, 'points_per_period': nan, 'A': array([nan, nan])}\n",
      "x fit shape:  (501,)  x shape:  (101,)\n",
      "y fit shape:  (2, 501)  y real:  (2, 101)\n",
      "updater called\n"
     ]
    },
    {
     "name": "stderr",
     "output_type": "stream",
     "text": [
      "Traceback (most recent call last):\n",
      "  File \"C:\\qtlab_replacement\\qsweepy\\fitters\\exp_sin.py\", line 23, in exp_sin_fit\n",
      "    raise ValueError\n",
      "ValueError\n"
     ]
    },
    {
     "name": "stdout",
     "output_type": "stream",
     "text": [
      "unpacking old_A_2d complex, old shape:  (1, 1)\n",
      "new shape:  (1, 2)\n",
      "old_parameters: {'amplitudes': (nan+nanj), 'MSE_rel': nan, 'T': nan, 'decay_goodness_test': 0, 'decays_in_scan_length': nan, 'f': nan, 'frequency_goodness_test': 0, 'inf': nan, 'num_periods_decay': nan, 'num_periods_scan': nan, 'phi': nan, 'points_per_period': nan, 'A': array([nan, nan])}\n",
      "x fit shape:  (501,)  x shape:  (101,)\n",
      "y fit shape:  (2, 501)  y real:  (2, 101)\n",
      "updater called\n"
     ]
    },
    {
     "name": "stderr",
     "output_type": "stream",
     "text": [
      "Traceback (most recent call last):\n",
      "  File \"C:\\qtlab_replacement\\qsweepy\\fitters\\exp_sin.py\", line 23, in exp_sin_fit\n",
      "    raise ValueError\n",
      "ValueError\n"
     ]
    },
    {
     "name": "stdout",
     "output_type": "stream",
     "text": [
      "unpacking old_A_2d complex, old shape:  (1, 1)\n",
      "new shape:  (1, 2)\n",
      "old_parameters: {'amplitudes': (nan+nanj), 'MSE_rel': nan, 'T': nan, 'decay_goodness_test': 0, 'decays_in_scan_length': nan, 'f': nan, 'frequency_goodness_test': 0, 'inf': nan, 'num_periods_decay': nan, 'num_periods_scan': nan, 'phi': nan, 'points_per_period': nan, 'A': array([nan, nan])}\n",
      "x fit shape:  (501,)  x shape:  (101,)\n",
      "y fit shape:  (2, 501)  y real:  (2, 101)\n",
      "updater called\n"
     ]
    },
    {
     "name": "stderr",
     "output_type": "stream",
     "text": [
      "Traceback (most recent call last):\n",
      "  File \"C:\\qtlab_replacement\\qsweepy\\fitters\\exp_sin.py\", line 23, in exp_sin_fit\n",
      "    raise ValueError\n",
      "ValueError\n"
     ]
    },
    {
     "name": "stdout",
     "output_type": "stream",
     "text": [
      "unpacking old_A_2d complex, old shape:  (1, 1)\n",
      "new shape:  (1, 2)\n",
      "old_parameters: {'amplitudes': (nan+nanj), 'MSE_rel': nan, 'T': nan, 'decay_goodness_test': 0, 'decays_in_scan_length': nan, 'f': nan, 'frequency_goodness_test': 0, 'inf': nan, 'num_periods_decay': nan, 'num_periods_scan': nan, 'phi': nan, 'points_per_period': nan, 'A': array([nan, nan])}\n",
      "x fit shape:  (501,)  x shape:  (101,)\n",
      "y fit shape:  (2, 501)  y real:  (2, 101)\n",
      "updater called\n"
     ]
    },
    {
     "name": "stderr",
     "output_type": "stream",
     "text": [
      "Traceback (most recent call last):\n",
      "  File \"C:\\qtlab_replacement\\qsweepy\\fitters\\exp_sin.py\", line 60, in exp_sin_fit\n",
      "    T = np.sqrt(np.mean(np.abs(ft[:,fR_id])**2)/np.mean(np.abs((ft[:,fR_id-1]+ft[:,fR_id+1])/2)**2)-1)/domega/2\n",
      "IndexError: index 5 is out of bounds for axis 1 with size 5\n"
     ]
    },
    {
     "name": "stdout",
     "output_type": "stream",
     "text": [
      "unpacking old_A_2d complex, old shape:  (1, 1)\n",
      "new shape:  (1, 2)\n",
      "old_parameters: {'amplitudes': (-0.0987157470934679+0.0672918274646766j), 'MSE_rel': 0.0009439089832141909, 'T': inf, 'decay_goodness_test': 0, 'decays_in_scan_length': 0.0, 'f': 1989236.4410307587, 'frequency_goodness_test': 0, 'inf': 8.46456742825105, 'num_periods_decay': inf, 'num_periods_scan': 0.7956945764123035, 'phi': -5.631855417364762, 'points_per_period': 5.027054498769548, 'A': array([-0.09871575,  0.06729183])}\n",
      "x fit shape:  (501,)  x shape:  (101,)\n",
      "y fit shape:  (2, 501)  y real:  (2, 101)\n",
      "updater called\n"
     ]
    },
    {
     "name": "stderr",
     "output_type": "stream",
     "text": [
      "Traceback (most recent call last):\n",
      "  File \"C:\\qtlab_replacement\\qsweepy\\fitters\\exp_sin.py\", line 60, in exp_sin_fit\n",
      "    T = np.sqrt(np.mean(np.abs(ft[:,fR_id])**2)/np.mean(np.abs((ft[:,fR_id-1]+ft[:,fR_id+1])/2)**2)-1)/domega/2\n",
      "IndexError: index 6 is out of bounds for axis 1 with size 6\n"
     ]
    },
    {
     "name": "stdout",
     "output_type": "stream",
     "text": [
      "unpacking old_A_2d complex, old shape:  (1, 1)\n",
      "new shape:  (1, 2)\n",
      "old_parameters: {'amplitudes': (-0.7578540315874418+0.5135578963594427j), 'MSE_rel': 0.0010598213453635469, 'T': 7.980042788961135e-07, 'decay_goodness_test': 0, 'decays_in_scan_length': 0.6265630563931994, 'f': 610568.56981801, 'frequency_goodness_test': 0, 'inf': 0.4747522357092833, 'num_periods_decay': 0.48723633127425237, 'num_periods_scan': 0.305284284909005, 'phi': -4.16291710331623, 'points_per_period': 16.378176824563152, 'A': array([-0.75785403,  0.5135579 ])}\n",
      "x fit shape:  (501,)  x shape:  (101,)\n",
      "y fit shape:  (2, 501)  y real:  (2, 101)\n",
      "updater called\n"
     ]
    },
    {
     "name": "stderr",
     "output_type": "stream",
     "text": [
      "Traceback (most recent call last):\n",
      "  File \"C:\\qtlab_replacement\\qsweepy\\fitters\\exp_sin.py\", line 60, in exp_sin_fit\n",
      "    T = np.sqrt(np.mean(np.abs(ft[:,fR_id])**2)/np.mean(np.abs((ft[:,fR_id-1]+ft[:,fR_id+1])/2)**2)-1)/domega/2\n",
      "IndexError: index 7 is out of bounds for axis 1 with size 7\n"
     ]
    },
    {
     "name": "stdout",
     "output_type": "stream",
     "text": [
      "unpacking old_A_2d complex, old shape:  (1, 1)\n",
      "new shape:  (1, 2)\n",
      "old_parameters: {'amplitudes': (-0.2970741976635354+0.20107804550072042j), 'MSE_rel': 0.0011075917876269266, 'T': inf, 'decay_goodness_test': 0, 'decays_in_scan_length': 0.0, 'f': 882373.6246904951, 'frequency_goodness_test': 0, 'inf': 2.1183198539314394, 'num_periods_decay': inf, 'num_periods_scan': 0.529424174814297, 'phi': -4.266839090111656, 'points_per_period': 11.333067671313998, 'A': array([-0.2970742 ,  0.20107805])}\n",
      "x fit shape:  (501,)  x shape:  (101,)\n",
      "y fit shape:  (2, 501)  y real:  (2, 101)\n",
      "updater called\n"
     ]
    },
    {
     "name": "stderr",
     "output_type": "stream",
     "text": [
      "Traceback (most recent call last):\n",
      "  File \"C:\\qtlab_replacement\\qsweepy\\fitters\\exp_sin.py\", line 60, in exp_sin_fit\n",
      "    T = np.sqrt(np.mean(np.abs(ft[:,fR_id])**2)/np.mean(np.abs((ft[:,fR_id-1]+ft[:,fR_id+1])/2)**2)-1)/domega/2\n",
      "IndexError: index 8 is out of bounds for axis 1 with size 8\n"
     ]
    },
    {
     "name": "stdout",
     "output_type": "stream",
     "text": [
      "unpacking old_A_2d complex, old shape:  (1, 1)\n",
      "new shape:  (1, 2)\n",
      "old_parameters: {'amplitudes': (-0.37798305357717316+0.2556189636437141j), 'MSE_rel': 0.0011042367919705245, 'T': inf, 'decay_goodness_test': 0, 'decays_in_scan_length': 0.0, 'f': 759699.3351057606, 'frequency_goodness_test': 0, 'inf': 1.4461981885895103, 'num_periods_decay': inf, 'num_periods_scan': 0.5317895345740324, 'phi': -4.119456177553047, 'points_per_period': 13.163102214125095, 'A': array([-0.37798305,  0.25561896])}\n",
      "x fit shape:  (501,)  x shape:  (101,)\n",
      "y fit shape:  (2, 501)  y real:  (2, 101)\n",
      "updater called\n"
     ]
    },
    {
     "name": "stderr",
     "output_type": "stream",
     "text": [
      "Traceback (most recent call last):\n",
      "  File \"C:\\qtlab_replacement\\qsweepy\\fitters\\exp_sin.py\", line 60, in exp_sin_fit\n",
      "    T = np.sqrt(np.mean(np.abs(ft[:,fR_id])**2)/np.mean(np.abs((ft[:,fR_id-1]+ft[:,fR_id+1])/2)**2)-1)/domega/2\n",
      "IndexError: index 9 is out of bounds for axis 1 with size 9\n"
     ]
    },
    {
     "name": "stdout",
     "output_type": "stream",
     "text": [
      "unpacking old_A_2d complex, old shape:  (1, 1)\n",
      "new shape:  (1, 2)\n",
      "old_parameters: {'amplitudes': (-0.3553016695112437+0.2399645187577966j), 'MSE_rel': 0.0014564353790203124, 'T': 0.0489868961225214, 'decay_goodness_test': 0, 'decays_in_scan_length': 1.633089792011144e-05, 'f': 796912.6461953318, 'frequency_goodness_test': 0, 'inf': 1.6094776089000549, 'num_periods_decay': 39038.27701789437, 'num_periods_scan': 0.6375301169562654, 'phi': -4.162829195895938, 'points_per_period': 12.548426791496661, 'A': array([-0.35530167,  0.23996452])}\n",
      "x fit shape:  (501,)  x shape:  (101,)\n",
      "y fit shape:  (2, 501)  y real:  (2, 101)\n",
      "updater called\n"
     ]
    },
    {
     "name": "stderr",
     "output_type": "stream",
     "text": [
      "Traceback (most recent call last):\n",
      "  File \"C:\\qtlab_replacement\\qsweepy\\fitters\\exp_sin.py\", line 60, in exp_sin_fit\n",
      "    T = np.sqrt(np.mean(np.abs(ft[:,fR_id])**2)/np.mean(np.abs((ft[:,fR_id-1]+ft[:,fR_id+1])/2)**2)-1)/domega/2\n",
      "IndexError: index 10 is out of bounds for axis 1 with size 10\n"
     ]
    },
    {
     "name": "stdout",
     "output_type": "stream",
     "text": [
      "unpacking old_A_2d complex, old shape:  (1, 1)\n",
      "new shape:  (1, 2)\n",
      "old_parameters: {'amplitudes': (-0.39644520009025197+0.2643402823686418j), 'MSE_rel': 0.002806375178623064, 'T': inf, 'decay_goodness_test': 0, 'decays_in_scan_length': 0.0, 'f': 686483.1748267678, 'frequency_goodness_test': 0, 'inf': 1.3066517503719548, 'num_periods_decay': inf, 'num_periods_scan': 0.6178348573440909, 'phi': -4.036051333426721, 'points_per_period': 14.566999406101212, 'A': array([-0.3964452 ,  0.26434028])}\n",
      "x fit shape:  (501,)  x shape:  (101,)\n",
      "y fit shape:  (2, 501)  y real:  (2, 101)\n",
      "updater called\n"
     ]
    },
    {
     "name": "stderr",
     "output_type": "stream",
     "text": [
      "Traceback (most recent call last):\n",
      "  File \"C:\\qtlab_replacement\\qsweepy\\fitters\\exp_sin.py\", line 60, in exp_sin_fit\n",
      "    T = np.sqrt(np.mean(np.abs(ft[:,fR_id])**2)/np.mean(np.abs((ft[:,fR_id-1]+ft[:,fR_id+1])/2)**2)-1)/domega/2\n",
      "IndexError: index 11 is out of bounds for axis 1 with size 11\n"
     ]
    },
    {
     "name": "stdout",
     "output_type": "stream",
     "text": [
      "unpacking old_A_2d complex, old shape:  (1, 1)\n",
      "new shape:  (1, 2)\n",
      "old_parameters: {'amplitudes': (-0.3992694537567723+0.26588062299564275j), 'MSE_rel': 0.0029421741486261024, 'T': inf, 'decay_goodness_test': 0, 'decays_in_scan_length': 0.0, 'f': 678431.0813914135, 'frequency_goodness_test': 0, 'inf': 1.2863187959804412, 'num_periods_decay': inf, 'num_periods_scan': 0.6784310813914134, 'phi': -4.023807515499648, 'points_per_period': 14.739890718878502, 'A': array([-0.39926945,  0.26588062])}\n",
      "x fit shape:  (501,)  x shape:  (101,)\n",
      "y fit shape:  (2, 501)  y real:  (2, 101)\n",
      "updater called\n"
     ]
    },
    {
     "name": "stderr",
     "output_type": "stream",
     "text": [
      "Traceback (most recent call last):\n",
      "  File \"C:\\qtlab_replacement\\qsweepy\\fitters\\exp_sin.py\", line 60, in exp_sin_fit\n",
      "    T = np.sqrt(np.mean(np.abs(ft[:,fR_id])**2)/np.mean(np.abs((ft[:,fR_id-1]+ft[:,fR_id+1])/2)**2)-1)/domega/2\n",
      "IndexError: index 12 is out of bounds for axis 1 with size 12\n"
     ]
    },
    {
     "name": "stdout",
     "output_type": "stream",
     "text": [
      "unpacking old_A_2d complex, old shape:  (1, 1)\n",
      "new shape:  (1, 2)\n",
      "old_parameters: {'amplitudes': (-0.401127596716913+0.2668668003993015j), 'MSE_rel': 0.0029922905581777075, 'T': inf, 'decay_goodness_test': 0, 'decays_in_scan_length': 0.0, 'f': 671673.6023620939, 'frequency_goodness_test': 0, 'inf': 1.2713809465765242, 'num_periods_decay': inf, 'num_periods_scan': 0.7388409625983033, 'phi': -4.01215235322573, 'points_per_period': 14.888183732147152, 'A': array([-0.4011276,  0.2668668])}\n",
      "x fit shape:  (501,)  x shape:  (101,)\n",
      "y fit shape:  (2, 501)  y real:  (2, 101)\n",
      "updater called\n"
     ]
    },
    {
     "name": "stderr",
     "output_type": "stream",
     "text": [
      "Traceback (most recent call last):\n",
      "  File \"C:\\qtlab_replacement\\qsweepy\\fitters\\exp_sin.py\", line 60, in exp_sin_fit\n",
      "    T = np.sqrt(np.mean(np.abs(ft[:,fR_id])**2)/np.mean(np.abs((ft[:,fR_id-1]+ft[:,fR_id+1])/2)**2)-1)/domega/2\n",
      "IndexError: index 13 is out of bounds for axis 1 with size 13\n"
     ]
    },
    {
     "name": "stdout",
     "output_type": "stream",
     "text": [
      "unpacking old_A_2d complex, old shape:  (1, 1)\n",
      "new shape:  (1, 2)\n",
      "old_parameters: {'amplitudes': (-0.40424410760480173+0.2677311214242755j), 'MSE_rel': 0.0031274482860163826, 'T': inf, 'decay_goodness_test': 0, 'decays_in_scan_length': 0.0, 'f': 660502.7093738177, 'frequency_goodness_test': 0, 'inf': 1.2470920496153086, 'num_periods_decay': inf, 'num_periods_scan': 0.7926032512485811, 'phi': -3.99163360229024, 'points_per_period': 15.139983315860112, 'A': array([-0.40424411,  0.26773112])}\n",
      "x fit shape:  (501,)  x shape:  (101,)\n",
      "y fit shape:  (2, 501)  y real:  (2, 101)\n",
      "updater called\n"
     ]
    },
    {
     "name": "stderr",
     "output_type": "stream",
     "text": [
      "Traceback (most recent call last):\n",
      "  File \"C:\\qtlab_replacement\\qsweepy\\fitters\\exp_sin.py\", line 60, in exp_sin_fit\n",
      "    T = np.sqrt(np.mean(np.abs(ft[:,fR_id])**2)/np.mean(np.abs((ft[:,fR_id-1]+ft[:,fR_id+1])/2)**2)-1)/domega/2\n",
      "IndexError: index 14 is out of bounds for axis 1 with size 14\n"
     ]
    },
    {
     "name": "stdout",
     "output_type": "stream",
     "text": [
      "unpacking old_A_2d complex, old shape:  (1, 1)\n",
      "new shape:  (1, 2)\n",
      "old_parameters: {'amplitudes': (-0.40538122648601976+0.269117253314748j), 'MSE_rel': 0.0031607526347093647, 'T': inf, 'decay_goodness_test': 0, 'decays_in_scan_length': 0.0, 'f': 653827.7269852477, 'frequency_goodness_test': 0, 'inf': 1.2341532045208994, 'num_periods_decay': inf, 'num_periods_scan': 0.8499760450808219, 'phi': -3.9778802245538665, 'points_per_period': 15.294548681973577, 'A': array([-0.40538123,  0.26911725])}\n",
      "x fit shape:  (501,)  x shape:  (101,)\n",
      "y fit shape:  (2, 501)  y real:  (2, 101)\n",
      "updater called\n"
     ]
    },
    {
     "name": "stderr",
     "output_type": "stream",
     "text": [
      "Traceback (most recent call last):\n",
      "  File \"C:\\qtlab_replacement\\qsweepy\\fitters\\exp_sin.py\", line 60, in exp_sin_fit\n",
      "    T = np.sqrt(np.mean(np.abs(ft[:,fR_id])**2)/np.mean(np.abs((ft[:,fR_id-1]+ft[:,fR_id+1])/2)**2)-1)/domega/2\n",
      "IndexError: index 15 is out of bounds for axis 1 with size 15\n"
     ]
    },
    {
     "name": "stdout",
     "output_type": "stream",
     "text": [
      "unpacking old_A_2d complex, old shape:  (1, 1)\n",
      "new shape:  (1, 2)\n",
      "old_parameters: {'amplitudes': (-0.40355723998604287+0.2693992769418591j), 'MSE_rel': 0.003936003555607533, 'T': inf, 'decay_goodness_test': 0, 'decays_in_scan_length': 0.0, 'f': 635655.4601703824, 'frequency_goodness_test': 0, 'inf': 1.2197624407654502, 'num_periods_decay': inf, 'num_periods_scan': 0.8899176442385354, 'phi': -3.927995286968625, 'points_per_period': 15.731792813231841, 'A': array([-0.40355724,  0.26939928])}\n",
      "x fit shape:  (501,)  x shape:  (101,)\n",
      "y fit shape:  (2, 501)  y real:  (2, 101)\n",
      "updater called\n"
     ]
    },
    {
     "name": "stderr",
     "output_type": "stream",
     "text": [
      "Traceback (most recent call last):\n",
      "  File \"C:\\qtlab_replacement\\qsweepy\\fitters\\exp_sin.py\", line 60, in exp_sin_fit\n",
      "    T = np.sqrt(np.mean(np.abs(ft[:,fR_id])**2)/np.mean(np.abs((ft[:,fR_id-1]+ft[:,fR_id+1])/2)**2)-1)/domega/2\n",
      "IndexError: index 16 is out of bounds for axis 1 with size 16\n"
     ]
    },
    {
     "name": "stdout",
     "output_type": "stream",
     "text": [
      "unpacking old_A_2d complex, old shape:  (1, 1)\n",
      "new shape:  (1, 2)\n",
      "old_parameters: {'amplitudes': (-0.45027486077086476+0.30122201066543514j), 'MSE_rel': 0.003108931173895407, 'T': 5.64813659228276e-06, 'decay_goodness_test': 0, 'decays_in_scan_length': 0.2655743138452956, 'f': 651730.5179170833, 'frequency_goodness_test': 0, 'inf': 1.0618060812860517, 'num_periods_decay': 3.681062986554873, 'num_periods_scan': 0.977595776875625, 'phi': -4.013903087950457, 'points_per_period': 15.343765137713335, 'A': array([-0.45027486,  0.30122201])}\n",
      "x fit shape:  (501,)  x shape:  (101,)\n",
      "y fit shape:  (2, 501)  y real:  (2, 101)\n",
      "updater called\n"
     ]
    },
    {
     "name": "stderr",
     "output_type": "stream",
     "text": [
      "Traceback (most recent call last):\n",
      "  File \"C:\\qtlab_replacement\\qsweepy\\fitters\\exp_sin.py\", line 60, in exp_sin_fit\n",
      "    T = np.sqrt(np.mean(np.abs(ft[:,fR_id])**2)/np.mean(np.abs((ft[:,fR_id-1]+ft[:,fR_id+1])/2)**2)-1)/domega/2\n",
      "IndexError: index 17 is out of bounds for axis 1 with size 17\n"
     ]
    },
    {
     "name": "stdout",
     "output_type": "stream",
     "text": [
      "unpacking old_A_2d complex, old shape:  (1, 1)\n",
      "new shape:  (1, 2)\n",
      "old_parameters: {'amplitudes': (-0.43546246867794824+0.29061385906986825j), 'MSE_rel': 0.0030480559011526655, 'T': 8.824702882513425e-06, 'decay_goodness_test': 0, 'decays_in_scan_length': 0.18130922041244893, 'f': 647069.7391542535, 'frequency_goodness_test': 0, 'inf': 1.109667905705765, 'num_periods_decay': 5.7101981923017515, 'num_periods_scan': 1.0353115826468056, 'phi': -3.991040674860828, 'points_per_period': 15.454284746912146, 'A': array([-0.43546247,  0.29061386])}\n",
      "x fit shape:  (501,)  x shape:  (101,)\n",
      "y fit shape:  (2, 501)  y real:  (2, 101)\n",
      "updater called\n"
     ]
    },
    {
     "name": "stderr",
     "output_type": "stream",
     "text": [
      "Traceback (most recent call last):\n",
      "  File \"C:\\qtlab_replacement\\qsweepy\\fitters\\exp_sin.py\", line 60, in exp_sin_fit\n",
      "    T = np.sqrt(np.mean(np.abs(ft[:,fR_id])**2)/np.mean(np.abs((ft[:,fR_id-1]+ft[:,fR_id+1])/2)**2)-1)/domega/2\n",
      "IndexError: index 18 is out of bounds for axis 1 with size 18\n"
     ]
    },
    {
     "name": "stdout",
     "output_type": "stream",
     "text": [
      "unpacking old_A_2d complex, old shape:  (1, 1)\n",
      "new shape:  (1, 2)\n",
      "old_parameters: {'amplitudes': (-0.43546246867794824+0.29061385906986825j), 'MSE_rel': 0.003113226969834527, 'T': 8.824702882513425e-06, 'decay_goodness_test': 0, 'decays_in_scan_length': 0.19264104668822696, 'f': 647069.7391542535, 'frequency_goodness_test': 0, 'inf': 1.109667905705765, 'num_periods_decay': 5.7101981923017515, 'num_periods_scan': 1.100018556562231, 'phi': -3.991040674860828, 'points_per_period': 15.454284746912146, 'A': array([-0.43546247,  0.29061386])}\n",
      "x fit shape:  (501,)  x shape:  (101,)\n",
      "y fit shape:  (2, 501)  y real:  (2, 101)\n",
      "updater called\n"
     ]
    },
    {
     "name": "stderr",
     "output_type": "stream",
     "text": [
      "Traceback (most recent call last):\n",
      "  File \"C:\\qtlab_replacement\\qsweepy\\fitters\\exp_sin.py\", line 60, in exp_sin_fit\n",
      "    T = np.sqrt(np.mean(np.abs(ft[:,fR_id])**2)/np.mean(np.abs((ft[:,fR_id-1]+ft[:,fR_id+1])/2)**2)-1)/domega/2\n",
      "IndexError: index 19 is out of bounds for axis 1 with size 19\n"
     ]
    },
    {
     "name": "stdout",
     "output_type": "stream",
     "text": [
      "unpacking old_A_2d complex, old shape:  (1, 1)\n",
      "new shape:  (1, 2)\n",
      "old_parameters: {'amplitudes': (-0.43546246867794824+0.29061385906986825j), 'MSE_rel': 0.0030151602128910193, 'T': 8.824702882513425e-06, 'decay_goodness_test': 0, 'decays_in_scan_length': 0.20397287296400504, 'f': 647069.7391542535, 'frequency_goodness_test': 0, 'inf': 1.109667905705765, 'num_periods_decay': 5.7101981923017515, 'num_periods_scan': 1.1647255304776563, 'phi': -3.991040674860828, 'points_per_period': 15.454284746912146, 'A': array([-0.43546247,  0.29061386])}\n",
      "x fit shape:  (501,)  x shape:  (101,)\n",
      "y fit shape:  (2, 501)  y real:  (2, 101)\n",
      "updater called\n"
     ]
    },
    {
     "name": "stderr",
     "output_type": "stream",
     "text": [
      "Traceback (most recent call last):\n",
      "  File \"C:\\qtlab_replacement\\qsweepy\\fitters\\exp_sin.py\", line 60, in exp_sin_fit\n",
      "    T = np.sqrt(np.mean(np.abs(ft[:,fR_id])**2)/np.mean(np.abs((ft[:,fR_id-1]+ft[:,fR_id+1])/2)**2)-1)/domega/2\n",
      "IndexError: index 20 is out of bounds for axis 1 with size 20\n"
     ]
    },
    {
     "name": "stdout",
     "output_type": "stream",
     "text": [
      "unpacking old_A_2d complex, old shape:  (1, 1)\n",
      "new shape:  (1, 2)\n",
      "old_parameters: {'amplitudes': (-0.43546246867794824+0.29061385906986825j), 'MSE_rel': 0.0032612493148233695, 'T': 8.824702882513425e-06, 'decay_goodness_test': 0, 'decays_in_scan_length': 0.2153046992397831, 'f': 647069.7391542535, 'frequency_goodness_test': 0, 'inf': 1.109667905705765, 'num_periods_decay': 5.7101981923017515, 'num_periods_scan': 1.2294325043930816, 'phi': -3.991040674860828, 'points_per_period': 15.454284746912146, 'A': array([-0.43546247,  0.29061386])}\n",
      "x fit shape:  (501,)  x shape:  (101,)\n",
      "y fit shape:  (2, 501)  y real:  (2, 101)\n",
      "updater called\n"
     ]
    },
    {
     "name": "stderr",
     "output_type": "stream",
     "text": [
      "Traceback (most recent call last):\n",
      "  File \"C:\\qtlab_replacement\\qsweepy\\fitters\\exp_sin.py\", line 60, in exp_sin_fit\n",
      "    T = np.sqrt(np.mean(np.abs(ft[:,fR_id])**2)/np.mean(np.abs((ft[:,fR_id-1]+ft[:,fR_id+1])/2)**2)-1)/domega/2\n",
      "IndexError: index 21 is out of bounds for axis 1 with size 21\n"
     ]
    },
    {
     "name": "stdout",
     "output_type": "stream",
     "text": [
      "unpacking old_A_2d complex, old shape:  (1, 1)\n",
      "new shape:  (1, 2)\n",
      "old_parameters: {'amplitudes': (-0.43546246867794824+0.29061385906986825j), 'MSE_rel': 0.004226602653633274, 'T': 8.824702882513425e-06, 'decay_goodness_test': 0, 'decays_in_scan_length': 0.22663652551556115, 'f': 647069.7391542535, 'frequency_goodness_test': 0, 'inf': 1.109667905705765, 'num_periods_decay': 5.7101981923017515, 'num_periods_scan': 1.294139478308507, 'phi': -3.991040674860828, 'points_per_period': 15.454284746912146, 'A': array([-0.43546247,  0.29061386])}\n",
      "x fit shape:  (501,)  x shape:  (101,)\n",
      "y fit shape:  (2, 501)  y real:  (2, 101)\n",
      "updater called\n"
     ]
    },
    {
     "name": "stderr",
     "output_type": "stream",
     "text": [
      "Traceback (most recent call last):\n",
      "  File \"C:\\qtlab_replacement\\qsweepy\\fitters\\exp_sin.py\", line 60, in exp_sin_fit\n",
      "    T = np.sqrt(np.mean(np.abs(ft[:,fR_id])**2)/np.mean(np.abs((ft[:,fR_id-1]+ft[:,fR_id+1])/2)**2)-1)/domega/2\n",
      "IndexError: index 22 is out of bounds for axis 1 with size 22\n"
     ]
    },
    {
     "name": "stdout",
     "output_type": "stream",
     "text": [
      "unpacking old_A_2d complex, old shape:  (1, 1)\n",
      "new shape:  (1, 2)\n",
      "old_parameters: {'amplitudes': (-0.43546246867794824+0.29061385906986825j), 'MSE_rel': 0.004795364092604492, 'T': 8.824702882513425e-06, 'decay_goodness_test': 0, 'decays_in_scan_length': 0.23796835179133918, 'f': 647069.7391542535, 'frequency_goodness_test': 0, 'inf': 1.109667905705765, 'num_periods_decay': 5.7101981923017515, 'num_periods_scan': 1.3588464522239323, 'phi': -3.991040674860828, 'points_per_period': 15.454284746912146, 'A': array([-0.43546247,  0.29061386])}\n",
      "x fit shape:  (501,)  x shape:  (101,)\n",
      "y fit shape:  (2, 501)  y real:  (2, 101)\n",
      "updater called\n"
     ]
    },
    {
     "name": "stderr",
     "output_type": "stream",
     "text": [
      "Traceback (most recent call last):\n",
      "  File \"C:\\qtlab_replacement\\qsweepy\\fitters\\exp_sin.py\", line 60, in exp_sin_fit\n",
      "    T = np.sqrt(np.mean(np.abs(ft[:,fR_id])**2)/np.mean(np.abs((ft[:,fR_id-1]+ft[:,fR_id+1])/2)**2)-1)/domega/2\n",
      "IndexError: index 23 is out of bounds for axis 1 with size 23\n"
     ]
    },
    {
     "name": "stdout",
     "output_type": "stream",
     "text": [
      "unpacking old_A_2d complex, old shape:  (1, 1)\n",
      "new shape:  (1, 2)\n",
      "old_parameters: {'amplitudes': (-0.3858356697276254+0.2572555735207101j), 'MSE_rel': 0.45519113080200146, 'T': inf, 'decay_goodness_test': 0, 'decays_in_scan_length': 0.0, 'f': 657536.1195982465, 'frequency_goodness_test': 0, 'inf': 1.2332087538829484, 'num_periods_decay': inf, 'num_periods_scan': 1.4465794631161424, 'phi': -2.285231934444205, 'points_per_period': 15.208290011672641, 'A': array([-0.38583567,  0.25725557])}\n",
      "x fit shape:  (501,)  x shape:  (101,)\n",
      "y fit shape:  (2, 501)  y real:  (2, 101)\n",
      "updater called\n",
      "unpacking old_A_2d complex, old shape:  (1, 1)\n",
      "new shape:  (1, 2)\n",
      "old_parameters: {'amplitudes': (-0.4569424233854633+0.30616227562674436j), 'MSE_rel': 0.0029241490771339668, 'T': 5.414380422284308e-06, 'decay_goodness_test': 0, 'decays_in_scan_length': 0.4247946802063897, 'f': 663667.2951206759, 'frequency_goodness_test': 1, 'inf': 1.0371184405814047, 'num_periods_decay': 3.59334720961177, 'num_periods_scan': 1.5264347787775547, 'phi': -4.068039597985406, 'points_per_period': 15.067790854725907, 'A': array([-0.45694242,  0.30616228])}\n",
      "x fit shape:  (501,)  x shape:  (101,)\n",
      "y fit shape:  (2, 501)  y real:  (2, 101)\n",
      "updater called\n",
      "unpacking old_A_2d complex, old shape:  (1, 1)\n",
      "new shape:  (1, 2)\n",
      "old_parameters: {'amplitudes': (-0.44373697928619077+0.2984778735411275j), 'MSE_rel': 0.0036057395352403986, 'T': 7.935944062899269e-06, 'decay_goodness_test': 0, 'decays_in_scan_length': 0.3024214864643588, 'f': 664470.8328438876, 'frequency_goodness_test': 1, 'inf': 1.0576750020930379, 'num_periods_decay': 5.273203360877183, 'num_periods_scan': 1.5947299988253303, 'phi': -4.076555542346909, 'points_per_period': 15.049569530690635, 'A': array([-0.44373698,  0.29847787])}\n",
      "x fit shape:  (501,)  x shape:  (101,)\n",
      "y fit shape:  (2, 501)  y real:  (2, 101)\n",
      "updater called\n",
      "unpacking old_A_2d complex, old shape:  (1, 1)\n",
      "new shape:  (1, 2)\n",
      "old_parameters: {'amplitudes': (-0.44973358409985614+0.3045462715605274j), 'MSE_rel': 0.003956376741118864, 'T': 6.708612740675933e-06, 'decay_goodness_test': 0, 'decays_in_scan_length': 0.3726552860685933, 'f': 667750.6132419375, 'frequency_goodness_test': 1, 'inf': 1.044560923863777, 'num_periods_decay': 4.479680271589029, 'num_periods_scan': 1.6693765331048436, 'phi': -4.092558171400665, 'points_per_period': 14.975650791917476, 'A': array([-0.44973358,  0.30454627])}\n",
      "x fit shape:  (501,)  x shape:  (101,)\n",
      "y fit shape:  (2, 501)  y real:  (2, 101)\n",
      "updater called\n",
      "unpacking old_A_2d complex, old shape:  (1, 1)\n",
      "new shape:  (1, 2)\n",
      "old_parameters: {'amplitudes': (-0.45209872761180053+0.309810273612888j), 'MSE_rel': 0.004338521652569337, 'T': 6.203664893854298e-06, 'decay_goodness_test': 0, 'decays_in_scan_length': 0.4191070995107597, 'f': 672267.3085922344, 'frequency_goodness_test': 1, 'inf': 1.0377669863006014, 'num_periods_decay': 4.170521101599558, 'num_periods_scan': 1.7478950023398092, 'phi': -4.1131502838544165, 'points_per_period': 14.875035379811289, 'A': array([-0.45209873,  0.30981027])}\n",
      "x fit shape:  (501,)  x shape:  (101,)\n",
      "y fit shape:  (2, 501)  y real:  (2, 101)\n",
      "updater called\n",
      "unpacking old_A_2d complex, old shape:  (1, 1)\n",
      "new shape:  (1, 2)\n",
      "old_parameters: {'amplitudes': (-0.45492016943638514+0.31203769968964307j), 'MSE_rel': 0.004977402653089994, 'T': 5.888530219030397e-06, 'decay_goodness_test': 0, 'decays_in_scan_length': 0.45851849265784717, 'f': 679458.5971172099, 'frequency_goodness_test': 1, 'inf': 1.0343106185989206, 'num_periods_decay': 4.001012481704691, 'num_periods_scan': 1.8345382122164668, 'phi': -4.147649183301946, 'points_per_period': 14.717600222335479, 'A': array([-0.45492017,  0.3120377 ])}\n",
      "x fit shape:  (501,)  x shape:  (101,)\n",
      "y fit shape:  (2, 501)  y real:  (2, 101)\n",
      "updater called\n",
      "unpacking old_A_2d complex, old shape:  (1, 1)\n",
      "new shape:  (1, 2)\n",
      "old_parameters: {'amplitudes': (-0.45492016943638514+0.31203769968964307j), 'MSE_rel': 0.004924953671946015, 'T': 5.888530219030397e-06, 'decay_goodness_test': 0, 'decays_in_scan_length': 0.4755006590525822, 'f': 679458.5971172099, 'frequency_goodness_test': 1, 'inf': 1.0343106185989206, 'num_periods_decay': 4.001012481704691, 'num_periods_scan': 1.9024840719281877, 'phi': -4.147649183301946, 'points_per_period': 14.717600222335479, 'A': array([-0.45492017,  0.3120377 ])}\n",
      "x fit shape:  (501,)  x shape:  (101,)\n",
      "y fit shape:  (2, 501)  y real:  (2, 101)\n",
      "updater called\n",
      "unpacking old_A_2d complex, old shape:  (1, 1)\n",
      "new shape:  (1, 2)\n",
      "old_parameters: {'amplitudes': (-0.45492016943638514+0.31203769968964307j), 'MSE_rel': 0.005459506613338112, 'T': 5.888530219030397e-06, 'decay_goodness_test': 0, 'decays_in_scan_length': 0.49248282544731725, 'f': 679458.5971172099, 'frequency_goodness_test': 1, 'inf': 1.0343106185989206, 'num_periods_decay': 4.001012481704691, 'num_periods_scan': 1.9704299316399085, 'phi': -4.147649183301946, 'points_per_period': 14.717600222335479, 'A': array([-0.45492017,  0.3120377 ])}\n",
      "x fit shape:  (501,)  x shape:  (101,)\n",
      "y fit shape:  (2, 501)  y real:  (2, 101)\n",
      "updater called\n",
      "unpacking old_A_2d complex, old shape:  (1, 1)\n",
      "new shape:  (1, 2)\n",
      "old_parameters: {'amplitudes': (-0.45492016943638514+0.31203769968964307j), 'MSE_rel': 0.0052263978253729625, 'T': 5.888530219030397e-06, 'decay_goodness_test': 0, 'decays_in_scan_length': 0.5094649918420524, 'f': 679458.5971172099, 'frequency_goodness_test': 1, 'inf': 1.0343106185989206, 'num_periods_decay': 4.001012481704691, 'num_periods_scan': 2.03837579135163, 'phi': -4.147649183301946, 'points_per_period': 14.717600222335479, 'A': array([-0.45492017,  0.3120377 ])}\n",
      "x fit shape:  (501,)  x shape:  (101,)\n",
      "y fit shape:  (2, 501)  y real:  (2, 101)\n",
      "updater called\n"
     ]
    },
    {
     "name": "stderr",
     "output_type": "stream",
     "text": [
      "C:\\qtlab_replacement\\qsweepy\\fitters\\exp_sin.py:70: RuntimeWarning:\n",
      "\n",
      "overflow encountered in square\n",
      "\n"
     ]
    },
    {
     "name": "stdout",
     "output_type": "stream",
     "text": [
      "unpacking old_A_2d complex, old shape:  (1, 1)\n",
      "new shape:  (1, 2)\n",
      "old_parameters: {'amplitudes': (-0.45492016943638514+0.31203769968964307j), 'MSE_rel': 0.004959047927012714, 'T': 5.888530219030397e-06, 'decay_goodness_test': 0, 'decays_in_scan_length': 0.5264471582367874, 'f': 679458.5971172099, 'frequency_goodness_test': 1, 'inf': 1.0343106185989206, 'num_periods_decay': 4.001012481704691, 'num_periods_scan': 2.1063216510633507, 'phi': -4.147649183301946, 'points_per_period': 14.717600222335479, 'A': array([-0.45492017,  0.3120377 ])}\n",
      "x fit shape:  (501,)  x shape:  (101,)\n",
      "y fit shape:  (2, 501)  y real:  (2, 101)\n",
      "updater called\n",
      "unpacking old_A_2d complex, old shape:  (1, 1)\n",
      "new shape:  (1, 2)\n",
      "old_parameters: {'amplitudes': (-0.45492016943638514+0.31203769968964307j), 'MSE_rel': 0.0048115507316597965, 'T': 5.888530219030397e-06, 'decay_goodness_test': 0, 'decays_in_scan_length': 0.5434293246315225, 'f': 679458.5971172099, 'frequency_goodness_test': 1, 'inf': 1.0343106185989206, 'num_periods_decay': 4.001012481704691, 'num_periods_scan': 2.1742675107750715, 'phi': -4.147649183301946, 'points_per_period': 14.717600222335479, 'A': array([-0.45492017,  0.3120377 ])}\n",
      "x fit shape:  (501,)  x shape:  (101,)\n",
      "y fit shape:  (2, 501)  y real:  (2, 101)\n",
      "updater called\n",
      "unpacking old_A_2d complex, old shape:  (1, 1)\n",
      "new shape:  (1, 2)\n",
      "old_parameters: {'amplitudes': (-0.45578835276275764+0.31256015350511557j), 'MSE_rel': 0.004419044632062658, 'T': 5.701127886966335e-06, 'decay_goodness_test': 0, 'decays_in_scan_length': 0.5788328319286282, 'f': 675065.6467881653, 'frequency_goodness_test': 1, 'inf': 1.0301959111885592, 'num_periods_decay': 3.848635584436975, 'num_periods_scan': 2.2277166344009456, 'phi': -4.124572592752745, 'points_per_period': 14.813374147504184, 'A': array([-0.45578835,  0.31256015])}\n",
      "x fit shape:  (501,)  x shape:  (101,)\n",
      "y fit shape:  (2, 501)  y real:  (2, 101)\n",
      "updater called\n",
      "unpacking old_A_2d complex, old shape:  (1, 1)\n",
      "new shape:  (1, 2)\n",
      "old_parameters: {'amplitudes': (-0.4537761515270696+0.31051728410430846j), 'MSE_rel': 0.004354498388620461, 'T': 5.829990464522616e-06, 'decay_goodness_test': 0, 'decays_in_scan_length': 0.5831913483718546, 'f': 674097.6978436247, 'frequency_goodness_test': 1, 'inf': 1.038124999247417, 'num_periods_decay': 3.92998315058498, 'num_periods_scan': 2.2919321726683237, 'phi': -4.117735757301515, 'points_per_period': 14.834644936467017, 'A': array([-0.45377615,  0.31051728])}\n",
      "x fit shape:  (501,)  x shape:  (101,)\n",
      "y fit shape:  (2, 501)  y real:  (2, 101)\n",
      "updater called\n",
      "unpacking old_A_2d complex, old shape:  (1, 1)\n",
      "new shape:  (1, 2)\n",
      "old_parameters: {'amplitudes': (-0.4537761515270696+0.31051728410430846j), 'MSE_rel': 0.005441017026684307, 'T': 5.829990464522616e-06, 'decay_goodness_test': 0, 'decays_in_scan_length': 0.600344035088674, 'f': 674097.6978436247, 'frequency_goodness_test': 1, 'inf': 1.038124999247417, 'num_periods_decay': 3.92998315058498, 'num_periods_scan': 2.3593419424526867, 'phi': -4.117735757301515, 'points_per_period': 14.834644936467017, 'A': array([-0.45377615,  0.31051728])}\n",
      "x fit shape:  (501,)  x shape:  (101,)\n",
      "y fit shape:  (2, 501)  y real:  (2, 101)\n",
      "updater called\n",
      "unpacking old_A_2d complex, old shape:  (1, 1)\n",
      "new shape:  (1, 2)\n",
      "old_parameters: {'amplitudes': (-0.4397720044703865+0.29529767079003555j), 'MSE_rel': 0.00485567005563356, 'T': 6.780977852269088e-06, 'decay_goodness_test': 0, 'decays_in_scan_length': 0.5308968821945567, 'f': 665557.7780117785, 'frequency_goodness_test': 1, 'inf': 1.0988855362436294, 'num_periods_decay': 4.513132552103296, 'num_periods_scan': 2.3960080008424023, 'phi': -4.054571961729098, 'points_per_period': 15.024991564027713, 'A': array([-0.439772  ,  0.29529767])}\n",
      "x fit shape:  (501,)  x shape:  (101,)\n",
      "y fit shape:  (2, 501)  y real:  (2, 101)\n",
      "updater called\n",
      "unpacking old_A_2d complex, old shape:  (1, 1)\n",
      "new shape:  (1, 2)\n",
      "old_parameters: {'amplitudes': (-0.4397720044703865+0.29529767079003555j), 'MSE_rel': 0.004826680135801871, 'T': 6.780977852269088e-06, 'decay_goodness_test': 0, 'decays_in_scan_length': 0.5456440178110722, 'f': 665557.7780117785, 'frequency_goodness_test': 1, 'inf': 1.0988855362436294, 'num_periods_decay': 4.513132552103296, 'num_periods_scan': 2.46256377864358, 'phi': -4.054571961729098, 'points_per_period': 15.024991564027713, 'A': array([-0.439772  ,  0.29529767])}\n",
      "x fit shape:  (501,)  x shape:  (101,)\n",
      "y fit shape:  (2, 501)  y real:  (2, 101)\n",
      "updater called\n",
      "unpacking old_A_2d complex, old shape:  (1, 1)\n",
      "new shape:  (1, 2)\n",
      "old_parameters: {'amplitudes': (-0.45374862063478055+0.3035553840003993j), 'MSE_rel': 0.00533070288629375, 'T': 5.700990689504e-06, 'decay_goodness_test': 0, 'decays_in_scan_length': 0.6665508166845663, 'f': 661893.8926787011, 'frequency_goodness_test': 1, 'inf': 1.0688173122884637, 'num_periods_decay': 3.773450919600835, 'num_periods_scan': 2.515196792179064, 'phi': -4.031875250917352, 'points_per_period': 15.108161762196886, 'A': array([-0.45374862,  0.30355538])}\n",
      "x fit shape:  (501,)  x shape:  (101,)\n",
      "y fit shape:  (2, 501)  y real:  (2, 101)\n",
      "updater called\n",
      "unpacking old_A_2d complex, old shape:  (1, 1)\n",
      "new shape:  (1, 2)\n",
      "old_parameters: {'amplitudes': (-0.45374862063478055+0.3035553840003993j), 'MSE_rel': 0.0060534879713995925, 'T': 5.700990689504e-06, 'decay_goodness_test': 0, 'decays_in_scan_length': 0.6840916276499496, 'f': 661893.8926787011, 'frequency_goodness_test': 1, 'inf': 1.0688173122884637, 'num_periods_decay': 3.773450919600835, 'num_periods_scan': 2.581386181446934, 'phi': -4.031875250917352, 'points_per_period': 15.108161762196886, 'A': array([-0.45374862,  0.30355538])}\n",
      "x fit shape:  (501,)  x shape:  (101,)\n",
      "y fit shape:  (2, 501)  y real:  (2, 101)\n",
      "updater called\n",
      "unpacking old_A_2d complex, old shape:  (1, 1)\n",
      "new shape:  (1, 2)\n",
      "old_parameters: {'amplitudes': (-0.47404544912863533+0.316203570445183j), 'MSE_rel': 0.006327459650709016, 'T': 4.79435367173193e-06, 'decay_goodness_test': 1, 'decays_in_scan_length': 0.8343147531197933, 'f': 661755.6609052295, 'frequency_goodness_test': 1, 'inf': 1.0262637272205648, 'num_periods_decay': 3.1726906826503773, 'num_periods_scan': 2.647022643620918, 'phi': -4.0385811165784355, 'points_per_period': 15.111317652078398, 'A': array([-0.47404545,  0.31620357])}\n",
      "x fit shape:  (501,)  x shape:  (101,)\n",
      "y fit shape:  (2, 501)  y real:  (2, 101)\n",
      "updater called\n",
      "unpacking old_A_2d complex, old shape:  (1, 1)\n",
      "new shape:  (1, 2)\n",
      "old_parameters: {'amplitudes': (-0.47404544912863533+0.316203570445183j), 'MSE_rel': 0.006301452562594133, 'T': 4.79435367173193e-06, 'decay_goodness_test': 1, 'decays_in_scan_length': 0.8551726219477881, 'f': 661755.6609052295, 'frequency_goodness_test': 1, 'inf': 1.0262637272205648, 'num_periods_decay': 3.1726906826503773, 'num_periods_scan': 2.713198209711441, 'phi': -4.0385811165784355, 'points_per_period': 15.111317652078398, 'A': array([-0.47404545,  0.31620357])}\n",
      "x fit shape:  (501,)  x shape:  (101,)\n",
      "y fit shape:  (2, 501)  y real:  (2, 101)\n",
      "updater called\n",
      "unpacking old_A_2d complex, old shape:  (1, 1)\n",
      "new shape:  (1, 2)\n",
      "old_parameters: {'amplitudes': (-0.47404544912863533+0.316203570445183j), 'MSE_rel': 0.00699495153595082, 'T': 4.79435367173193e-06, 'decay_goodness_test': 1, 'decays_in_scan_length': 0.876030490775783, 'f': 661755.6609052295, 'frequency_goodness_test': 1, 'inf': 1.0262637272205648, 'num_periods_decay': 3.1726906826503773, 'num_periods_scan': 2.7793737758019637, 'phi': -4.0385811165784355, 'points_per_period': 15.111317652078398, 'A': array([-0.47404545,  0.31620357])}\n",
      "x fit shape:  (501,)  x shape:  (101,)\n",
      "y fit shape:  (2, 501)  y real:  (2, 101)\n",
      "updater called\n",
      "unpacking old_A_2d complex, old shape:  (1, 1)\n",
      "new shape:  (1, 2)\n",
      "old_parameters: {'amplitudes': (-0.47404544912863533+0.316203570445183j), 'MSE_rel': 0.006964577925827367, 'T': 4.79435367173193e-06, 'decay_goodness_test': 1, 'decays_in_scan_length': 0.8968883596037778, 'f': 661755.6609052295, 'frequency_goodness_test': 1, 'inf': 1.0262637272205648, 'num_periods_decay': 3.1726906826503773, 'num_periods_scan': 2.8455493418924864, 'phi': -4.0385811165784355, 'points_per_period': 15.111317652078398, 'A': array([-0.47404545,  0.31620357])}\n",
      "x fit shape:  (501,)  x shape:  (101,)\n",
      "y fit shape:  (2, 501)  y real:  (2, 101)\n",
      "updater called\n"
     ]
    },
    {
     "name": "stdout",
     "output_type": "stream",
     "text": [
      "unpacking old_A_2d complex, old shape:  (1, 1)\n",
      "new shape:  (1, 2)\n",
      "old_parameters: {'amplitudes': (-0.48321888085713566+0.3199671523971982j), 'MSE_rel': 0.006875126606112517, 'T': 4.532987831846073e-06, 'decay_goodness_test': 1, 'decays_in_scan_length': 0.9706622129201893, 'f': 666142.24647234, 'frequency_goodness_test': 1, 'inf': 1.0144202578076134, 'num_periods_decay': 3.0196146975377247, 'num_periods_scan': 2.931025884478296, 'phi': -4.071381914951475, 'points_per_period': 15.011808743487684, 'A': array([-0.48321888,  0.31996715])}\n",
      "x fit shape:  (501,)  x shape:  (101,)\n",
      "y fit shape:  (2, 501)  y real:  (2, 101)\n",
      "updater called\n",
      "unpacking old_A_2d complex, old shape:  (1, 1)\n",
      "new shape:  (1, 2)\n",
      "old_parameters: {'amplitudes': (-0.48321888085713566+0.3199671523971982j), 'MSE_rel': 0.006979427554586428, 'T': 4.532987831846073e-06, 'decay_goodness_test': 1, 'decays_in_scan_length': 0.9927227177592844, 'f': 666142.24647234, 'frequency_goodness_test': 1, 'inf': 1.0144202578076134, 'num_periods_decay': 3.0196146975377247, 'num_periods_scan': 2.99764010912553, 'phi': -4.071381914951475, 'points_per_period': 15.011808743487684, 'A': array([-0.48321888,  0.31996715])}\n",
      "x fit shape:  (501,)  x shape:  (101,)\n",
      "y fit shape:  (2, 501)  y real:  (2, 101)\n",
      "updater called\n",
      "unpacking old_A_2d complex, old shape:  (1, 1)\n",
      "new shape:  (1, 2)\n",
      "old_parameters: {'amplitudes': (-0.48321888085713566+0.3199671523971982j), 'MSE_rel': 0.007176724950589973, 'T': 4.532987831846073e-06, 'decay_goodness_test': 1, 'decays_in_scan_length': 1.0147832225983797, 'f': 666142.24647234, 'frequency_goodness_test': 1, 'inf': 1.0144202578076134, 'num_periods_decay': 3.0196146975377247, 'num_periods_scan': 3.0642543337727637, 'phi': -4.071381914951475, 'points_per_period': 15.011808743487684, 'A': array([-0.48321888,  0.31996715])}\n",
      "x fit shape:  (501,)  x shape:  (101,)\n",
      "y fit shape:  (2, 501)  y real:  (2, 101)\n",
      "updater called\n",
      "unpacking old_A_2d complex, old shape:  (1, 1)\n",
      "new shape:  (1, 2)\n",
      "old_parameters: {'amplitudes': (-0.4709811441988299+0.3107442310161805j), 'MSE_rel': 0.006977954012579128, 'T': 5.023456323142545e-06, 'decay_goodness_test': 1, 'decays_in_scan_length': 0.9356108021378796, 'f': 666946.641783325, 'frequency_goodness_test': 1, 'inf': 1.0533025496460424, 'num_periods_decay': 3.35037732486513, 'num_periods_scan': 3.1346492163816273, 'phi': -4.073839777275296, 'points_per_period': 14.993703204294356, 'A': array([-0.47098114,  0.31074423])}\n",
      "x fit shape:  (501,)  x shape:  (101,)\n",
      "y fit shape:  (2, 501)  y real:  (2, 101)\n",
      "updater called\n",
      "unpacking old_A_2d complex, old shape:  (1, 1)\n",
      "new shape:  (1, 2)\n",
      "old_parameters: {'amplitudes': (-0.4592244278158549+0.3012708340295947j), 'MSE_rel': 0.007297946640590952, 'T': 5.573735807504546e-06, 'decay_goodness_test': 1, 'decays_in_scan_length': 0.8611818295257593, 'f': 665339.7737307466, 'frequency_goodness_test': 1, 'inf': 1.0922367276851759, 'num_periods_decay': 3.7084281210000345, 'num_periods_scan': 3.1936309139075836, 'phi': -4.058774354801028, 'points_per_period': 15.029914631327685, 'A': array([-0.45922443,  0.30127083])}\n",
      "x fit shape:  (501,)  x shape:  (101,)\n",
      "y fit shape:  (2, 501)  y real:  (2, 101)\n",
      "updater called\n",
      "unpacking old_A_2d complex, old shape:  (1, 1)\n",
      "new shape:  (1, 2)\n",
      "old_parameters: {'amplitudes': (-0.45928405510386494+0.3013562180932394j), 'MSE_rel': 0.00714619134165178, 'T': 5.570213127255563e-06, 'decay_goodness_test': 1, 'decays_in_scan_length': 0.8796790873268118, 'f': 665360.913329432, 'frequency_goodness_test': 1, 'inf': 1.0919956766113972, 'num_periods_decay': 3.706202093790353, 'num_periods_scan': 3.260268475314217, 'phi': -4.058954315072103, 'points_per_period': 15.029437106487833, 'A': array([-0.45928406,  0.30135622])}\n",
      "x fit shape:  (501,)  x shape:  (101,)\n",
      "y fit shape:  (2, 501)  y real:  (2, 101)\n",
      "updater called\n",
      "unpacking old_A_2d complex, old shape:  (1, 1)\n",
      "new shape:  (1, 2)\n",
      "old_parameters: {'amplitudes': (-0.45928405510386494+0.3013562180932394j), 'MSE_rel': 0.00757095470101032, 'T': 5.570213127255563e-06, 'decay_goodness_test': 1, 'decays_in_scan_length': 0.8976317217620529, 'f': 665360.913329432, 'frequency_goodness_test': 1, 'inf': 1.0919956766113972, 'num_periods_decay': 3.706202093790353, 'num_periods_scan': 3.32680456664716, 'phi': -4.058954315072103, 'points_per_period': 15.029437106487833, 'A': array([-0.45928406,  0.30135622])}\n",
      "x fit shape:  (501,)  x shape:  (101,)\n",
      "y fit shape:  (2, 501)  y real:  (2, 101)\n",
      "updater called\n",
      "unpacking old_A_2d complex, old shape:  (1, 1)\n",
      "new shape:  (1, 2)\n",
      "old_parameters: {'amplitudes': (-0.4532929530579014+0.29624395947754195j), 'MSE_rel': 0.007702498647228476, 'T': 5.848931913213338e-06, 'decay_goodness_test': 1, 'decays_in_scan_length': 0.8719540722432716, 'f': 662060.8296883593, 'frequency_goodness_test': 1, 'inf': 1.1152719317896829, 'num_periods_decay': 3.872348715252745, 'num_periods_scan': 3.376510231410632, 'phi': -4.030093444826379, 'points_per_period': 15.104352276371841, 'A': array([-0.45329295,  0.29624396])}\n",
      "x fit shape:  (501,)  x shape:  (101,)\n",
      "y fit shape:  (2, 501)  y real:  (2, 101)\n",
      "updater called\n",
      "unpacking old_A_2d complex, old shape:  (1, 1)\n",
      "new shape:  (1, 2)\n",
      "old_parameters: {'amplitudes': (-0.4532929530579014+0.29624395947754195j), 'MSE_rel': 0.00787139996317146, 'T': 5.848931913213338e-06, 'decay_goodness_test': 1, 'decays_in_scan_length': 0.8890512109147083, 'f': 662060.8296883593, 'frequency_goodness_test': 1, 'inf': 1.1152719317896829, 'num_periods_decay': 3.872348715252745, 'num_periods_scan': 3.4427163143794677, 'phi': -4.030093444826379, 'points_per_period': 15.104352276371841, 'A': array([-0.45329295,  0.29624396])}\n",
      "x fit shape:  (501,)  x shape:  (101,)\n",
      "y fit shape:  (2, 501)  y real:  (2, 101)\n",
      "updater called\n",
      "unpacking old_A_2d complex, old shape:  (1, 1)\n",
      "new shape:  (1, 2)\n",
      "old_parameters: {'amplitudes': (-0.4532929530579014+0.29624395947754195j), 'MSE_rel': 0.00782844599853367, 'T': 5.848931913213338e-06, 'decay_goodness_test': 1, 'decays_in_scan_length': 0.9061483495861451, 'f': 662060.8296883593, 'frequency_goodness_test': 1, 'inf': 1.1152719317896829, 'num_periods_decay': 3.872348715252745, 'num_periods_scan': 3.508922397348304, 'phi': -4.030093444826379, 'points_per_period': 15.104352276371841, 'A': array([-0.45329295,  0.29624396])}\n",
      "x fit shape:  (501,)  x shape:  (101,)\n",
      "y fit shape:  (2, 501)  y real:  (2, 101)\n",
      "updater called\n"
     ]
    },
    {
     "name": "stderr",
     "output_type": "stream",
     "text": [
      "C:\\ProgramData\\Anaconda3\\lib\\site-packages\\scipy\\optimize\\minpack.py:436: RuntimeWarning:\n",
      "\n",
      "Number of calls to function has reached maxfev = 1400.\n",
      "\n"
     ]
    },
    {
     "name": "stdout",
     "output_type": "stream",
     "text": [
      "unpacking old_A_2d complex, old shape:  (1, 1)\n",
      "new shape:  (1, 2)\n",
      "old_parameters: {'amplitudes': (-0.4532929530579014+0.29624395947754195j), 'MSE_rel': 0.007872938417342155, 'T': 5.848931913213338e-06, 'decay_goodness_test': 1, 'decays_in_scan_length': 0.9232454882575818, 'f': 662060.8296883593, 'frequency_goodness_test': 1, 'inf': 1.1152719317896829, 'num_periods_decay': 3.872348715252745, 'num_periods_scan': 3.57512848031714, 'phi': -4.030093444826379, 'points_per_period': 15.104352276371841, 'A': array([-0.45329295,  0.29624396])}\n",
      "x fit shape:  (501,)  x shape:  (101,)\n",
      "y fit shape:  (2, 501)  y real:  (2, 101)\n",
      "updater called\n",
      "unpacking old_A_2d complex, old shape:  (1, 1)\n",
      "new shape:  (1, 2)\n",
      "old_parameters: {'amplitudes': (-0.4532929530579014+0.29624395947754195j), 'MSE_rel': 0.007866914199920784, 'T': 5.848931913213338e-06, 'decay_goodness_test': 1, 'decays_in_scan_length': 0.9403426269290184, 'f': 662060.8296883593, 'frequency_goodness_test': 1, 'inf': 1.1152719317896829, 'num_periods_decay': 3.872348715252745, 'num_periods_scan': 3.641334563285976, 'phi': -4.030093444826379, 'points_per_period': 15.104352276371841, 'A': array([-0.45329295,  0.29624396])}\n",
      "x fit shape:  (501,)  x shape:  (101,)\n",
      "y fit shape:  (2, 501)  y real:  (2, 101)\n",
      "updater called\n",
      "unpacking old_A_2d complex, old shape:  (1, 1)\n",
      "new shape:  (1, 2)\n",
      "old_parameters: {'amplitudes': (-0.4532929530579014+0.29624395947754195j), 'MSE_rel': 0.008020485127346232, 'T': 5.848931913213338e-06, 'decay_goodness_test': 1, 'decays_in_scan_length': 0.9574397656004551, 'f': 662060.8296883593, 'frequency_goodness_test': 1, 'inf': 1.1152719317896829, 'num_periods_decay': 3.872348715252745, 'num_periods_scan': 3.7075406462548117, 'phi': -4.030093444826379, 'points_per_period': 15.104352276371841, 'A': array([-0.45329295,  0.29624396])}\n",
      "x fit shape:  (501,)  x shape:  (101,)\n",
      "y fit shape:  (2, 501)  y real:  (2, 101)\n",
      "updater called\n",
      "unpacking old_A_2d complex, old shape:  (1, 1)\n",
      "new shape:  (1, 2)\n",
      "old_parameters: {'amplitudes': (-0.46218304805418653+0.3015712024505325j), 'MSE_rel': 0.008354166713704569, 'T': 5.5043119207501426e-06, 'decay_goodness_test': 1, 'decays_in_scan_length': 1.0355517786904758, 'f': 662589.5921736223, 'frequency_goodness_test': 1, 'inf': 1.0995969043507348, 'num_periods_decay': 3.647099790766245, 'num_periods_scan': 3.776760675389647, 'phi': -4.037254502791913, 'points_per_period': 15.092298638732073, 'A': array([-0.46218305,  0.3015712 ])}\n",
      "x fit shape:  (501,)  x shape:  (101,)\n",
      "y fit shape:  (2, 501)  y real:  (2, 101)\n",
      "updater called\n",
      "unpacking old_A_2d complex, old shape:  (1, 1)\n",
      "new shape:  (1, 2)\n",
      "old_parameters: {'amplitudes': (-0.46218304805418653+0.3015712024505325j), 'MSE_rel': 0.008323672060997274, 'T': 5.5043119207501426e-06, 'decay_goodness_test': 1, 'decays_in_scan_length': 1.053719353755221, 'f': 662589.5921736223, 'frequency_goodness_test': 1, 'inf': 1.0995969043507348, 'num_periods_decay': 3.647099790766245, 'num_periods_scan': 3.843019634607009, 'phi': -4.037254502791913, 'points_per_period': 15.092298638732073, 'A': array([-0.46218305,  0.3015712 ])}\n",
      "x fit shape:  (501,)  x shape:  (101,)\n",
      "y fit shape:  (2, 501)  y real:  (2, 101)\n",
      "updater called\n",
      "unpacking old_A_2d complex, old shape:  (1, 1)\n",
      "new shape:  (1, 2)\n",
      "old_parameters: {'amplitudes': (-0.46218304805418653+0.3015712024505325j), 'MSE_rel': 0.00832895071881613, 'T': 5.5043119207501426e-06, 'decay_goodness_test': 1, 'decays_in_scan_length': 1.0718869288199662, 'f': 662589.5921736223, 'frequency_goodness_test': 1, 'inf': 1.0995969043507348, 'num_periods_decay': 3.647099790766245, 'num_periods_scan': 3.9092785938243715, 'phi': -4.037254502791913, 'points_per_period': 15.092298638732073, 'A': array([-0.46218305,  0.3015712 ])}\n",
      "x fit shape:  (501,)  x shape:  (101,)\n",
      "y fit shape:  (2, 501)  y real:  (2, 101)\n",
      "updater called\n",
      "unpacking old_A_2d complex, old shape:  (1, 1)\n",
      "new shape:  (1, 2)\n",
      "old_parameters: {'amplitudes': (-0.46218304805418653+0.3015712024505325j), 'MSE_rel': 0.008287644865051373, 'T': 5.5043119207501426e-06, 'decay_goodness_test': 1, 'decays_in_scan_length': 1.0900545038847116, 'f': 662589.5921736223, 'frequency_goodness_test': 1, 'inf': 1.0995969043507348, 'num_periods_decay': 3.647099790766245, 'num_periods_scan': 3.9755375530417343, 'phi': -4.037254502791913, 'points_per_period': 15.092298638732073, 'A': array([-0.46218305,  0.3015712 ])}\n",
      "x fit shape:  (501,)  x shape:  (101,)\n",
      "y fit shape:  (2, 501)  y real:  (2, 101)\n",
      "updater called\n",
      "unpacking old_A_2d complex, old shape:  (1, 1)\n",
      "new shape:  (1, 2)\n",
      "old_parameters: {'amplitudes': (-0.46218304805418653+0.3015712024505325j), 'MSE_rel': 0.008156030984719327, 'T': 5.5043119207501426e-06, 'decay_goodness_test': 1, 'decays_in_scan_length': 1.1082220789494568, 'f': 662589.5921736223, 'frequency_goodness_test': 1, 'inf': 1.0995969043507348, 'num_periods_decay': 3.647099790766245, 'num_periods_scan': 4.041796512259096, 'phi': -4.037254502791913, 'points_per_period': 15.092298638732073, 'A': array([-0.46218305,  0.3015712 ])}\n",
      "x fit shape:  (501,)  x shape:  (101,)\n",
      "y fit shape:  (2, 501)  y real:  (2, 101)\n",
      "updater called\n",
      "unpacking old_A_2d complex, old shape:  (1, 1)\n",
      "new shape:  (1, 2)\n",
      "old_parameters: {'amplitudes': (-0.46218304805418653+0.3015712024505325j), 'MSE_rel': 0.008215463246636714, 'T': 5.5043119207501426e-06, 'decay_goodness_test': 1, 'decays_in_scan_length': 1.1263896540142018, 'f': 662589.5921736223, 'frequency_goodness_test': 1, 'inf': 1.0995969043507348, 'num_periods_decay': 3.647099790766245, 'num_periods_scan': 4.108055471476458, 'phi': -4.037254502791913, 'points_per_period': 15.092298638732073, 'A': array([-0.46218305,  0.3015712 ])}\n",
      "x fit shape:  (501,)  x shape:  (101,)\n",
      "y fit shape:  (2, 501)  y real:  (2, 101)\n",
      "updater called\n",
      "unpacking old_A_2d complex, old shape:  (1, 1)\n",
      "new shape:  (1, 2)\n",
      "old_parameters: {'amplitudes': (-0.4645705661802402+0.30203606648627157j), 'MSE_rel': 0.008043903934176632, 'T': 5.421657377635073e-06, 'decay_goodness_test': 1, 'decays_in_scan_length': 1.1620062946043372, 'f': 662836.7020771328, 'frequency_goodness_test': 1, 'inf': 1.0938857885327526, 'num_periods_decay': 3.5936734959837877, 'num_periods_scan': 4.175871223085936, 'phi': -4.040269503566786, 'points_per_period': 15.086672130047987, 'A': array([-0.46457057,  0.30203607])}\n",
      "x fit shape:  (501,)  x shape:  (101,)\n",
      "y fit shape:  (2, 501)  y real:  (2, 101)\n",
      "updater called\n",
      "unpacking old_A_2d complex, old shape:  (1, 1)\n",
      "new shape:  (1, 2)\n",
      "old_parameters: {'amplitudes': (-0.46459878477823174+0.30200316680555334j), 'MSE_rel': 0.00791110592140827, 'T': 5.420967860575493e-06, 'decay_goodness_test': 1, 'decays_in_scan_length': 1.1806009857657729, 'f': 662840.2084088481, 'frequency_goodness_test': 1, 'inf': 1.0938245301446936, 'num_periods_decay': 3.5932354664815276, 'num_periods_scan': 4.2421773338166275, 'phi': -4.040323512384065, 'points_per_period': 15.086592323668869, 'A': array([-0.46459878,  0.30200317])}\n",
      "x fit shape:  (501,)  x shape:  (101,)\n",
      "y fit shape:  (2, 501)  y real:  (2, 101)\n",
      "updater called\n",
      "unpacking old_A_2d complex, old shape:  (1, 1)\n",
      "new shape:  (1, 2)\n",
      "old_parameters: {'amplitudes': (-0.46459878477823174+0.30200316680555334j), 'MSE_rel': 0.007808865599732429, 'T': 5.420967860575493e-06, 'decay_goodness_test': 1, 'decays_in_scan_length': 1.199047876168363, 'f': 662840.2084088481, 'frequency_goodness_test': 1, 'inf': 1.0938245301446936, 'num_periods_decay': 3.5932354664815276, 'num_periods_scan': 4.308461354657513, 'phi': -4.040323512384065, 'points_per_period': 15.086592323668869, 'A': array([-0.46459878,  0.30200317])}\n",
      "x fit shape:  (501,)  x shape:  (101,)\n",
      "y fit shape:  (2, 501)  y real:  (2, 101)\n",
      "updater called\n",
      "unpacking old_A_2d complex, old shape:  (1, 1)\n",
      "new shape:  (1, 2)\n",
      "old_parameters: {'amplitudes': (-0.46459878477823174+0.30200316680555334j), 'MSE_rel': 0.00824893616012452, 'T': 5.420967860575493e-06, 'decay_goodness_test': 1, 'decays_in_scan_length': 1.2174947665709532, 'f': 662840.2084088481, 'frequency_goodness_test': 1, 'inf': 1.0938245301446936, 'num_periods_decay': 3.5932354664815276, 'num_periods_scan': 4.374745375498398, 'phi': -4.040323512384065, 'points_per_period': 15.086592323668869, 'A': array([-0.46459878,  0.30200317])}\n",
      "x fit shape:  (501,)  x shape:  (101,)\n",
      "y fit shape:  (2, 501)  y real:  (2, 101)\n",
      "updater called\n"
     ]
    },
    {
     "name": "stdout",
     "output_type": "stream",
     "text": [
      "unpacking old_A_2d complex, old shape:  (1, 1)\n",
      "new shape:  (1, 2)\n",
      "old_parameters: {'amplitudes': (-0.46059369105422665+0.2978226803472143j), 'MSE_rel': 0.008224575999082063, 'T': 5.540650761489862e-06, 'decay_goodness_test': 1, 'decays_in_scan_length': 1.2092442365377298, 'f': 660359.6763325727, 'frequency_goodness_test': 1, 'inf': 1.1105496700051427, 'num_periods_decay': 3.6588223435292675, 'num_periods_scan': 4.424409831428236, 'phi': -4.015550524947517, 'points_per_period': 15.143262616422637, 'A': array([-0.46059369,  0.29782268])}\n",
      "x fit shape:  (501,)  x shape:  (101,)\n",
      "y fit shape:  (2, 501)  y real:  (2, 101)\n",
      "updater called\n",
      "unpacking old_A_2d complex, old shape:  (1, 1)\n",
      "new shape:  (1, 2)\n",
      "old_parameters: {'amplitudes': (-0.46027689757251794+0.29765976395311017j), 'MSE_rel': 0.00823291068261924, 'T': 5.554764013177724e-06, 'decay_goodness_test': 1, 'decays_in_scan_length': 1.2241744174672708, 'f': 660439.2604496514, 'frequency_goodness_test': 1, 'inf': 1.1111052648941093, 'num_periods_decay': 3.6685842368354336, 'num_periods_scan': 4.490986971057629, 'phi': -4.016212804614444, 'points_per_period': 15.141437826079013, 'A': array([-0.4602769 ,  0.29765976])}\n",
      "x fit shape:  (501,)  x shape:  (101,)\n",
      "y fit shape:  (2, 501)  y real:  (2, 101)\n",
      "updater called\n",
      "unpacking old_A_2d complex, old shape:  (1, 1)\n",
      "new shape:  (1, 2)\n",
      "old_parameters: {'amplitudes': (-0.46027689757251794+0.29765976395311017j), 'MSE_rel': 0.00818044045972335, 'T': 5.554764013177724e-06, 'decay_goodness_test': 1, 'decays_in_scan_length': 1.2421769824300248, 'f': 660439.2604496514, 'frequency_goodness_test': 1, 'inf': 1.1111052648941093, 'num_periods_decay': 3.6685842368354336, 'num_periods_scan': 4.557030897102595, 'phi': -4.016212804614444, 'points_per_period': 15.141437826079013, 'A': array([-0.4602769 ,  0.29765976])}\n",
      "x fit shape:  (501,)  x shape:  (101,)\n",
      "y fit shape:  (2, 501)  y real:  (2, 101)\n",
      "updater called\n",
      "unpacking old_A_2d complex, old shape:  (1, 1)\n",
      "new shape:  (1, 2)\n",
      "old_parameters: {'amplitudes': (-0.46076817537400366+0.297978246350237j), 'MSE_rel': 0.008173695673467962, 'T': 5.536182944822688e-06, 'decay_goodness_test': 1, 'decays_in_scan_length': 1.2644090828946035, 'f': 660435.7648711781, 'frequency_goodness_test': 1, 'inf': 1.1100580976635985, 'num_periods_decay': 3.656293217630743, 'num_periods_scan': 4.623050354098247, 'phi': -4.016333231951455, 'points_per_period': 15.141517967232678, 'A': array([-0.46076818,  0.29797825])}\n",
      "x fit shape:  (501,)  x shape:  (101,)\n",
      "y fit shape:  (2, 501)  y real:  (2, 101)\n",
      "updater called\n",
      "unpacking old_A_2d complex, old shape:  (1, 1)\n",
      "new shape:  (1, 2)\n",
      "old_parameters: {'amplitudes': (-0.46076817537400366+0.297978246350237j), 'MSE_rel': 0.008118897198212282, 'T': 5.536182944822688e-06, 'decay_goodness_test': 1, 'decays_in_scan_length': 1.2824720697930978, 'f': 660435.7648711781, 'frequency_goodness_test': 1, 'inf': 1.1100580976635985, 'num_periods_decay': 3.656293217630743, 'num_periods_scan': 4.689093930585364, 'phi': -4.016333231951455, 'points_per_period': 15.141517967232678, 'A': array([-0.46076818,  0.29797825])}\n",
      "x fit shape:  (501,)  x shape:  (101,)\n",
      "y fit shape:  (2, 501)  y real:  (2, 101)\n",
      "updater called\n",
      "unpacking old_A_2d complex, old shape:  (1, 1)\n",
      "new shape:  (1, 2)\n",
      "old_parameters: {'amplitudes': (-0.46076817537400366+0.297978246350237j), 'MSE_rel': 0.008080105002186954, 'T': 5.536182944822688e-06, 'decay_goodness_test': 1, 'decays_in_scan_length': 1.300535056691592, 'f': 660435.7648711781, 'frequency_goodness_test': 1, 'inf': 1.1100580976635985, 'num_periods_decay': 3.656293217630743, 'num_periods_scan': 4.755137507072482, 'phi': -4.016333231951455, 'points_per_period': 15.141517967232678, 'A': array([-0.46076818,  0.29797825])}\n",
      "x fit shape:  (501,)  x shape:  (101,)\n",
      "y fit shape:  (2, 501)  y real:  (2, 101)\n",
      "updater called\n",
      "unpacking old_A_2d complex, old shape:  (1, 1)\n",
      "new shape:  (1, 2)\n",
      "old_parameters: {'amplitudes': (-0.46076817537400366+0.297978246350237j), 'MSE_rel': 0.008017293671357688, 'T': 5.536182944822688e-06, 'decay_goodness_test': 1, 'decays_in_scan_length': 1.3185980435900864, 'f': 660435.7648711781, 'frequency_goodness_test': 1, 'inf': 1.1100580976635985, 'num_periods_decay': 3.656293217630743, 'num_periods_scan': 4.821181083559599, 'phi': -4.016333231951455, 'points_per_period': 15.141517967232678, 'A': array([-0.46076818,  0.29797825])}\n",
      "x fit shape:  (501,)  x shape:  (101,)\n",
      "y fit shape:  (2, 501)  y real:  (2, 101)\n",
      "updater called\n",
      "unpacking old_A_2d complex, old shape:  (1, 1)\n",
      "new shape:  (1, 2)\n",
      "old_parameters: {'amplitudes': (-0.46076817537400366+0.297978246350237j), 'MSE_rel': 0.007947813113998265, 'T': 5.536182944822688e-06, 'decay_goodness_test': 1, 'decays_in_scan_length': 1.3366610304885806, 'f': 660435.7648711781, 'frequency_goodness_test': 1, 'inf': 1.1100580976635985, 'num_periods_decay': 3.656293217630743, 'num_periods_scan': 4.8872246600467175, 'phi': -4.016333231951455, 'points_per_period': 15.141517967232678, 'A': array([-0.46076818,  0.29797825])}\n",
      "x fit shape:  (501,)  x shape:  (101,)\n",
      "y fit shape:  (2, 501)  y real:  (2, 101)\n",
      "updater called\n",
      "unpacking old_A_2d complex, old shape:  (1, 1)\n",
      "new shape:  (1, 2)\n",
      "old_parameters: {'amplitudes': (-0.46076817537400366+0.297978246350237j), 'MSE_rel': 0.007900403238999276, 'T': 5.536182944822688e-06, 'decay_goodness_test': 1, 'decays_in_scan_length': 1.354724017387075, 'f': 660435.7648711781, 'frequency_goodness_test': 1, 'inf': 1.1100580976635985, 'num_periods_decay': 3.656293217630743, 'num_periods_scan': 4.953268236533835, 'phi': -4.016333231951455, 'points_per_period': 15.141517967232678, 'A': array([-0.46076818,  0.29797825])}\n",
      "x fit shape:  (501,)  x shape:  (101,)\n",
      "y fit shape:  (2, 501)  y real:  (2, 101)\n",
      "updater called\n",
      "unpacking old_A_2d complex, old shape:  (1, 1)\n",
      "new shape:  (1, 2)\n",
      "old_parameters: {'amplitudes': (-0.46076817537400366+0.297978246350237j), 'MSE_rel': 0.007802172300383081, 'T': 5.536182944822688e-06, 'decay_goodness_test': 1, 'decays_in_scan_length': 1.3727870042855694, 'f': 660435.7648711781, 'frequency_goodness_test': 1, 'inf': 1.1100580976635985, 'num_periods_decay': 3.656293217630743, 'num_periods_scan': 5.019311813020954, 'phi': -4.016333231951455, 'points_per_period': 15.141517967232678, 'A': array([-0.46076818,  0.29797825])}\n",
      "x fit shape:  (501,)  x shape:  (101,)\n",
      "y fit shape:  (2, 501)  y real:  (2, 101)\n",
      "updater called\n",
      "unpacking old_A_2d complex, old shape:  (1, 1)\n",
      "new shape:  (1, 2)\n",
      "old_parameters: {'amplitudes': (-0.46076817537400366+0.297978246350237j), 'MSE_rel': 0.007724010012252881, 'T': 5.536182944822688e-06, 'decay_goodness_test': 1, 'decays_in_scan_length': 1.3908499911840637, 'f': 660435.7648711781, 'frequency_goodness_test': 1, 'inf': 1.1100580976635985, 'num_periods_decay': 3.656293217630743, 'num_periods_scan': 5.085355389508071, 'phi': -4.016333231951455, 'points_per_period': 15.141517967232678, 'A': array([-0.46076818,  0.29797825])}\n",
      "x fit shape:  (501,)  x shape:  (101,)\n",
      "y fit shape:  (2, 501)  y real:  (2, 101)\n",
      "updater called\n",
      "unpacking old_A_2d complex, old shape:  (1, 1)\n",
      "new shape:  (1, 2)\n",
      "old_parameters: {'amplitudes': (-0.45987367086915515+0.2970400246110898j), 'MSE_rel': 0.007605781526605778, 'T': 5.580412218886168e-06, 'decay_goodness_test': 1, 'decays_in_scan_length': 1.3977462047699507, 'f': 660605.334917302, 'frequency_goodness_test': 1, 'inf': 1.113238835075816, 'num_periods_decay': 3.6864500828339013, 'num_periods_scan': 5.152721612354956, 'phi': -4.017830389259624, 'points_per_period': 15.13763130788499, 'A': array([-0.45987367,  0.29704002])}\n",
      "x fit shape:  (501,)  x shape:  (101,)\n",
      "y fit shape:  (2, 501)  y real:  (2, 101)\n",
      "updater called\n",
      "unpacking old_A_2d complex, old shape:  (1, 1)\n",
      "new shape:  (1, 2)\n",
      "old_parameters: {'amplitudes': (-0.45987367086915515+0.2970400246110898j), 'MSE_rel': 0.007505951570472837, 'T': 5.580412218886168e-06, 'decay_goodness_test': 1, 'decays_in_scan_length': 1.4156660279080269, 'f': 660605.334917302, 'frequency_goodness_test': 1, 'inf': 1.113238835075816, 'num_periods_decay': 3.6864500828339013, 'num_periods_scan': 5.218782145846685, 'phi': -4.017830389259624, 'points_per_period': 15.13763130788499, 'A': array([-0.45987367,  0.29704002])}\n",
      "x fit shape:  (501,)  x shape:  (101,)\n",
      "y fit shape:  (2, 501)  y real:  (2, 101)\n",
      "updater called\n"
     ]
    },
    {
     "name": "stdout",
     "output_type": "stream",
     "text": [
      "unpacking old_A_2d complex, old shape:  (1, 1)\n",
      "new shape:  (1, 2)\n",
      "old_parameters: {'amplitudes': (-0.4601940689018612+0.2972784862280726j), 'MSE_rel': 0.007457389041340976, 'T': 5.569402664343024e-06, 'decay_goodness_test': 1, 'decays_in_scan_length': 1.4364197530945975, 'f': 660655.4809844377, 'frequency_goodness_test': 1, 'inf': 1.1122584129147273, 'num_periods_decay': 3.6794563960075495, 'num_periods_scan': 5.285243847875502, 'phi': -4.018459974947264, 'points_per_period': 15.136482308599145, 'A': array([-0.46019407,  0.29727849])}\n",
      "x fit shape:  (501,)  x shape:  (101,)\n",
      "y fit shape:  (2, 501)  y real:  (2, 101)\n",
      "updater called\n",
      "unpacking old_A_2d complex, old shape:  (1, 1)\n",
      "new shape:  (1, 2)\n",
      "old_parameters: {'amplitudes': (-0.46039046701391034+0.2974553993800124j), 'MSE_rel': 0.007427592509440246, 'T': 5.563511349447586e-06, 'decay_goodness_test': 1, 'decays_in_scan_length': 1.4559150671642411, 'f': 660726.9047088217, 'frequency_goodness_test': 1, 'inf': 1.1115666214493058, 'num_periods_decay': 3.6759616332329035, 'num_periods_scan': 5.351887928141456, 'phi': -4.019278628746744, 'points_per_period': 15.134846074426072, 'A': array([-0.46039047,  0.2974554 ])}\n",
      "x fit shape:  (501,)  x shape:  (101,)\n",
      "y fit shape:  (2, 501)  y real:  (2, 101)\n",
      "updater called\n",
      "unpacking old_A_2d complex, old shape:  (1, 1)\n",
      "new shape:  (1, 2)\n",
      "old_parameters: {'amplitudes': (-0.4602593745190943+0.297461348324343j), 'MSE_rel': 0.007512746625986776, 'T': 5.575738179333909e-06, 'decay_goodness_test': 1, 'decays_in_scan_length': 1.470657289897997, 'f': 661090.1720387179, 'frequency_goodness_test': 1, 'inf': 1.1109637518056212, 'num_periods_decay': 3.686065712218702, 'num_periods_scan': 5.420939410717486, 'phi': -4.023150170075371, 'points_per_period': 15.126529515877197, 'A': array([-0.46025937,  0.29746135])}\n",
      "x fit shape:  (501,)  x shape:  (101,)\n",
      "y fit shape:  (2, 501)  y real:  (2, 101)\n",
      "updater called\n",
      "unpacking old_A_2d complex, old shape:  (1, 1)\n",
      "new shape:  (1, 2)\n",
      "old_parameters: {'amplitudes': (-0.4599221473415485+0.2968561130602169j), 'MSE_rel': 0.007553000992829503, 'T': 5.592214329621978e-06, 'decay_goodness_test': 1, 'decays_in_scan_length': 1.4842063466764628, 'f': 661177.132322134, 'frequency_goodness_test': 1, 'inf': 1.1117231025582246, 'num_periods_decay': 3.6974442337902045, 'num_periods_scan': 5.487770198273712, 'phi': -4.024058117057085, 'points_per_period': 15.12454002285105, 'A': array([-0.45992215,  0.29685611])}\n",
      "x fit shape:  (501,)  x shape:  (101,)\n",
      "y fit shape:  (2, 501)  y real:  (2, 101)\n",
      "updater called\n",
      "unpacking old_A_2d complex, old shape:  (1, 1)\n",
      "new shape:  (1, 2)\n",
      "old_parameters: {'amplitudes': (-0.4599221473415485+0.2968561130602169j), 'MSE_rel': 0.007516350396212647, 'T': 5.592214329621978e-06, 'decay_goodness_test': 1, 'decays_in_scan_length': 1.5020883508532874, 'f': 661177.132322134, 'frequency_goodness_test': 1, 'inf': 1.1117231025582246, 'num_periods_decay': 3.6974442337902045, 'num_periods_scan': 5.5538879115059245, 'phi': -4.024058117057085, 'points_per_period': 15.12454002285105, 'A': array([-0.45992215,  0.29685611])}\n",
      "x fit shape:  (501,)  x shape:  (101,)\n",
      "y fit shape:  (2, 501)  y real:  (2, 101)\n",
      "updater called\n",
      "unpacking old_A_2d complex, old shape:  (1, 1)\n",
      "new shape:  (1, 2)\n",
      "old_parameters: {'amplitudes': (-0.4599221473415485+0.2968561130602169j), 'MSE_rel': 0.007754001128798881, 'T': 5.592214329621978e-06, 'decay_goodness_test': 1, 'decays_in_scan_length': 1.5199703550301122, 'f': 661177.132322134, 'frequency_goodness_test': 1, 'inf': 1.1117231025582246, 'num_periods_decay': 3.6974442337902045, 'num_periods_scan': 5.6200056247381385, 'phi': -4.024058117057085, 'points_per_period': 15.12454002285105, 'A': array([-0.45992215,  0.29685611])}\n",
      "x fit shape:  (501,)  x shape:  (101,)\n",
      "y fit shape:  (2, 501)  y real:  (2, 101)\n",
      "updater called\n",
      "unpacking old_A_2d complex, old shape:  (1, 1)\n",
      "new shape:  (1, 2)\n",
      "old_parameters: {'amplitudes': (-0.4599221473415485+0.2968561130602169j), 'MSE_rel': 0.007798302188113128, 'T': 5.592214329621978e-06, 'decay_goodness_test': 1, 'decays_in_scan_length': 1.537852359206937, 'f': 661177.132322134, 'frequency_goodness_test': 1, 'inf': 1.1117231025582246, 'num_periods_decay': 3.6974442337902045, 'num_periods_scan': 5.6861233379703515, 'phi': -4.024058117057085, 'points_per_period': 15.12454002285105, 'A': array([-0.45992215,  0.29685611])}\n",
      "x fit shape:  (501,)  x shape:  (101,)\n",
      "y fit shape:  (2, 501)  y real:  (2, 101)\n",
      "updater called\n",
      "unpacking old_A_2d complex, old shape:  (1, 1)\n",
      "new shape:  (1, 2)\n",
      "old_parameters: {'amplitudes': (-0.4599221473415485+0.2968561130602169j), 'MSE_rel': 0.0078101056960791, 'T': 5.592214329621978e-06, 'decay_goodness_test': 1, 'decays_in_scan_length': 1.555734363383762, 'f': 661177.132322134, 'frequency_goodness_test': 1, 'inf': 1.1117231025582246, 'num_periods_decay': 3.6974442337902045, 'num_periods_scan': 5.7522410512025655, 'phi': -4.024058117057085, 'points_per_period': 15.12454002285105, 'A': array([-0.45992215,  0.29685611])}\n",
      "x fit shape:  (501,)  x shape:  (101,)\n",
      "y fit shape:  (2, 501)  y real:  (2, 101)\n",
      "updater called\n",
      "unpacking old_A_2d complex, old shape:  (1, 1)\n",
      "new shape:  (1, 2)\n",
      "old_parameters: {'amplitudes': (-0.4680901862692791+0.3018596952669647j), 'MSE_rel': 0.007768937106131712, 'T': 5.317503737702033e-06, 'decay_goodness_test': 1, 'decays_in_scan_length': 1.6549118597898593, 'f': 661379.2733878983, 'frequency_goodness_test': 1, 'inf': 1.095299769304945, 'num_periods_decay': 3.5168867582788046, 'num_periods_scan': 5.820137605813506, 'phi': -4.028299339393164, 'points_per_period': 15.119917424649941, 'A': array([-0.46809019,  0.3018597 ])}\n",
      "x fit shape:  (501,)  x shape:  (101,)\n",
      "y fit shape:  (2, 501)  y real:  (2, 101)\n",
      "updater called\n",
      "unpacking old_A_2d complex, old shape:  (1, 1)\n",
      "new shape:  (1, 2)\n",
      "old_parameters: {'amplitudes': (-0.4680944784573879+0.30185755439202344j), 'MSE_rel': 0.007699877578794572, 'T': 5.31746259331375e-06, 'decay_goodness_test': 1, 'decays_in_scan_length': 1.6737306269330376, 'f': 661380.5706325497, 'frequency_goodness_test': 1, 'inf': 1.0952968795333227, 'num_periods_decay': 3.5168664442830857, 'num_periods_scan': 5.886287078629692, 'phi': -4.028314709340362, 'points_per_period': 15.119887768151276, 'A': array([-0.46809448,  0.30185755])}\n",
      "x fit shape:  (501,)  x shape:  (101,)\n",
      "y fit shape:  (2, 501)  y real:  (2, 101)\n",
      "updater called\n",
      "unpacking old_A_2d complex, old shape:  (1, 1)\n",
      "new shape:  (1, 2)\n",
      "old_parameters: {'amplitudes': (-0.46776279147936256+0.3016358603201355j), 'MSE_rel': 0.007690329632804964, 'T': 5.3338519158548935e-06, 'decay_goodness_test': 1, 'decays_in_scan_length': 1.6873359332019453, 'f': 661541.8716520331, 'frequency_goodness_test': 1, 'inf': 1.0967495973776236, 'num_periods_decay': 3.5285663795294284, 'num_periods_scan': 5.953876844868298, 'phi': -4.029860805468501, 'points_per_period': 15.1162011484285, 'A': array([-0.46776279,  0.30163586])}\n",
      "x fit shape:  (501,)  x shape:  (101,)\n",
      "y fit shape:  (2, 501)  y real:  (2, 101)\n",
      "updater called\n",
      "unpacking old_A_2d complex, old shape:  (1, 1)\n",
      "new shape:  (1, 2)\n",
      "old_parameters: {'amplitudes': (-0.46776279147936256+0.3016358603201355j), 'MSE_rel': 0.007640619995641336, 'T': 5.3338519158548935e-06, 'decay_goodness_test': 1, 'decays_in_scan_length': 1.7060841102375222, 'f': 661541.8716520331, 'frequency_goodness_test': 1, 'inf': 1.0967495973776236, 'num_periods_decay': 3.5285663795294284, 'num_periods_scan': 6.020031032033501, 'phi': -4.029860805468501, 'points_per_period': 15.1162011484285, 'A': array([-0.46776279,  0.30163586])}\n",
      "x fit shape:  (501,)  x shape:  (101,)\n",
      "y fit shape:  (2, 501)  y real:  (2, 101)\n",
      "updater called\n",
      "unpacking old_A_2d complex, old shape:  (1, 1)\n",
      "new shape:  (1, 2)\n",
      "old_parameters: {'amplitudes': (-0.46776279147936256+0.3016358603201355j), 'MSE_rel': 0.0075889553128525265, 'T': 5.3338519158548935e-06, 'decay_goodness_test': 1, 'decays_in_scan_length': 1.7248322872730995, 'f': 661541.8716520331, 'frequency_goodness_test': 1, 'inf': 1.0967495973776236, 'num_periods_decay': 3.5285663795294284, 'num_periods_scan': 6.086185219198704, 'phi': -4.029860805468501, 'points_per_period': 15.1162011484285, 'A': array([-0.46776279,  0.30163586])}\n",
      "x fit shape:  (501,)  x shape:  (101,)\n",
      "y fit shape:  (2, 501)  y real:  (2, 101)\n",
      "updater called\n"
     ]
    },
    {
     "name": "stdout",
     "output_type": "stream",
     "text": [
      "unpacking old_A_2d complex, old shape:  (1, 1)\n",
      "new shape:  (1, 2)\n",
      "old_parameters: {'amplitudes': (-0.46776279147936256+0.3016358603201355j), 'MSE_rel': 0.0074969861892172735, 'T': 5.3338519158548935e-06, 'decay_goodness_test': 1, 'decays_in_scan_length': 1.7435804643086765, 'f': 661541.8716520331, 'frequency_goodness_test': 1, 'inf': 1.0967495973776236, 'num_periods_decay': 3.5285663795294284, 'num_periods_scan': 6.1523394063639065, 'phi': -4.029860805468501, 'points_per_period': 15.1162011484285, 'A': array([-0.46776279,  0.30163586])}\n",
      "x fit shape:  (501,)  x shape:  (101,)\n",
      "y fit shape:  (2, 501)  y real:  (2, 101)\n",
      "updater called\n",
      "unpacking old_A_2d complex, old shape:  (1, 1)\n",
      "new shape:  (1, 2)\n",
      "old_parameters: {'amplitudes': (-0.46776279147936256+0.3016358603201355j), 'MSE_rel': 0.0074241680065732655, 'T': 5.3338519158548935e-06, 'decay_goodness_test': 1, 'decays_in_scan_length': 1.7623286413442538, 'f': 661541.8716520331, 'frequency_goodness_test': 1, 'inf': 1.0967495973776236, 'num_periods_decay': 3.5285663795294284, 'num_periods_scan': 6.218493593529111, 'phi': -4.029860805468501, 'points_per_period': 15.1162011484285, 'A': array([-0.46776279,  0.30163586])}\n",
      "x fit shape:  (501,)  x shape:  (101,)\n",
      "y fit shape:  (2, 501)  y real:  (2, 101)\n",
      "updater called\n",
      "unpacking old_A_2d complex, old shape:  (1, 1)\n",
      "new shape:  (1, 2)\n",
      "old_parameters: {'amplitudes': (-0.46776279147936256+0.3016358603201355j), 'MSE_rel': 0.007660501894651268, 'T': 5.3338519158548935e-06, 'decay_goodness_test': 1, 'decays_in_scan_length': 1.781076818379831, 'f': 661541.8716520331, 'frequency_goodness_test': 1, 'inf': 1.0967495973776236, 'num_periods_decay': 3.5285663795294284, 'num_periods_scan': 6.284647780694313, 'phi': -4.029860805468501, 'points_per_period': 15.1162011484285, 'A': array([-0.46776279,  0.30163586])}\n",
      "x fit shape:  (501,)  x shape:  (101,)\n",
      "y fit shape:  (2, 501)  y real:  (2, 101)\n",
      "updater called\n",
      "unpacking old_A_2d complex, old shape:  (1, 1)\n",
      "new shape:  (1, 2)\n",
      "old_parameters: {'amplitudes': (-0.46776279147936256+0.3016358603201355j), 'MSE_rel': 0.007851437927774442, 'T': 5.3338519158548935e-06, 'decay_goodness_test': 1, 'decays_in_scan_length': 1.7998249954154082, 'f': 661541.8716520331, 'frequency_goodness_test': 1, 'inf': 1.0967495973776236, 'num_periods_decay': 3.5285663795294284, 'num_periods_scan': 6.350801967859518, 'phi': -4.029860805468501, 'points_per_period': 15.1162011484285, 'A': array([-0.46776279,  0.30163586])}\n",
      "x fit shape:  (501,)  x shape:  (101,)\n",
      "y fit shape:  (2, 501)  y real:  (2, 101)\n",
      "updater called\n",
      "unpacking old_A_2d complex, old shape:  (1, 1)\n",
      "new shape:  (1, 2)\n",
      "old_parameters: {'amplitudes': (-0.46776279147936256+0.3016358603201355j), 'MSE_rel': 0.0082122424810092, 'T': 5.3338519158548935e-06, 'decay_goodness_test': 1, 'decays_in_scan_length': 1.8185731724509855, 'f': 661541.8716520331, 'frequency_goodness_test': 1, 'inf': 1.0967495973776236, 'num_periods_decay': 3.5285663795294284, 'num_periods_scan': 6.416956155024721, 'phi': -4.029860805468501, 'points_per_period': 15.1162011484285, 'A': array([-0.46776279,  0.30163586])}\n",
      "x fit shape:  (501,)  x shape:  (101,)\n",
      "y fit shape:  (2, 501)  y real:  (2, 101)\n",
      "updater called\n",
      "unpacking old_A_2d complex, old shape:  (1, 1)\n",
      "new shape:  (1, 2)\n",
      "old_parameters: {'amplitudes': (-0.46776279147936256+0.3016358603201355j), 'MSE_rel': 0.00823429494355354, 'T': 5.3338519158548935e-06, 'decay_goodness_test': 1, 'decays_in_scan_length': 1.8373213494865623, 'f': 661541.8716520331, 'frequency_goodness_test': 1, 'inf': 1.0967495973776236, 'num_periods_decay': 3.5285663795294284, 'num_periods_scan': 6.483110342189923, 'phi': -4.029860805468501, 'points_per_period': 15.1162011484285, 'A': array([-0.46776279,  0.30163586])}\n",
      "x fit shape:  (501,)  x shape:  (101,)\n",
      "y fit shape:  (2, 501)  y real:  (2, 101)\n",
      "updater called\n",
      "unpacking old_A_2d complex, old shape:  (1, 1)\n",
      "new shape:  (1, 2)\n",
      "old_parameters: {'amplitudes': (-0.46776279147936256+0.3016358603201355j), 'MSE_rel': 0.008243505489897274, 'T': 5.3338519158548935e-06, 'decay_goodness_test': 1, 'decays_in_scan_length': 1.8560695265221399, 'f': 661541.8716520331, 'frequency_goodness_test': 1, 'inf': 1.0967495973776236, 'num_periods_decay': 3.5285663795294284, 'num_periods_scan': 6.549264529355128, 'phi': -4.029860805468501, 'points_per_period': 15.1162011484285, 'A': array([-0.46776279,  0.30163586])}\n",
      "x fit shape:  (501,)  x shape:  (101,)\n",
      "y fit shape:  (2, 501)  y real:  (2, 101)\n",
      "updater called\n",
      "Waiting to join deferred threads:\n",
      "load_exdir: file open time:  0.0009989738464355469\n",
      "load_exdir: file open time:  0.0009989738464355469\n",
      "load_exdir: file open time:  0.0010001659393310547\n",
      "load time:  0.03496241569519043\n",
      "pre_trace_time:  0.0009996891021728516\n",
      "trace 0 time:  0.01301264762878418\n",
      "trace 1 time:  0.024007558822631836\n",
      "trace 2 time:  0.03500103950500488\n",
      "trace 3 time:  0.04599452018737793\n",
      "load_exdir: file open time:  0.0020225048065185547\n",
      "load_exdir: file open time:  0.0019986629486083984\n",
      "load_exdir: file open time:  0.000997781753540039\n",
      "load time:  0.034966468811035156\n",
      "pre_trace_time:  0.0009999275207519531\n",
      "trace 0 time:  0.013011693954467773\n",
      "trace 1 time:  0.024005651473999023\n",
      "trace 2 time:  0.03500080108642578\n",
      "trace 3 time:  0.04599428176879883\n"
     ]
    },
    {
     "data": {
      "text/plain": [
       "start: 2019-07-04 13:37:28.904990, started/done/total sweeps: 0/101/101, \n",
       "Measured data: \n",
       "'iq3': parameters: Delay (s),:[0.0, 9.999999999999999e-06] (101 points) with setter\n",
       "data: [-0.72366587+0.54874829j -0.88835259+0.58817696j -0.95677018+0.61092779j\n",
       " -0.86329322+0.56753485j -0.77953991+0.52006814j -0.63194509+0.39130767j\n",
       " -0.44044834+0.29617204j -0.26543192+0.18205285j -0.24922576+0.12150065j\n",
       " -0.07879029+0.06760391j -0.09837516+0.07777538j -0.16028883+0.12828202j\n",
       " -0.2680828 +0.1531884j  -0.38715979+0.2657278j  -0.47971572+0.36980119j\n",
       " -0.70763664+0.46419658j -0.81458738+0.53218945j -0.77595183+0.54941696j\n",
       " -0.78902419+0.5541684j  -0.74447642+0.4525419j  -0.58479061+0.37441035j\n",
       " -0.46161453+0.31505571j -0.30935275+0.21249375j -0.26025392+0.1576231j\n",
       " -0.09099083+0.09983084j -0.21714914+0.15877971j -0.24031616+0.21794286j\n",
       " -0.40645938+0.27340206j -0.43077109+0.30799418j -0.48474432+0.36064553j\n",
       " -0.6550924 +0.45146223j -0.71853913+0.50437616j -0.77296392+0.48604289j\n",
       " -0.73474934+0.45309894j -0.6827051 +0.41404639j -0.67703571+0.43175554j\n",
       " -0.49979536+0.3046019j  -0.39756144+0.26982025j -0.4133061 +0.19402829j\n",
       " -0.38816334+0.21438876j -0.34215978+0.22190168j -0.28722884+0.20526453j\n",
       " -0.47951354+0.25393164j -0.39755261+0.28215862j -0.55978159+0.37412224j\n",
       " -0.66700976+0.43011406j -0.72353931+0.47709444j -0.74768983+0.47138711j\n",
       " -0.78375647+0.49638139j -0.62234338+0.43541781j -0.69700757+0.41760801j\n",
       " -0.57856901+0.39404375j -0.52788786+0.31424694j -0.37107396+0.23241495j\n",
       " -0.3798306 +0.25831559j -0.36124078+0.20333435j -0.40639083+0.2737101j\n",
       " -0.49024941+0.29489366j -0.50310321+0.31230435j -0.58230671+0.37079405j\n",
       " -0.54938379+0.34915379j -0.65451442+0.38784951j -0.59981698+0.37443369j\n",
       " -0.63733868+0.41420654j -0.63568817+0.38598482j -0.57995245+0.4063336j\n",
       " -0.6551044 +0.36678821j -0.51249944+0.32931049j -0.38608827+0.29317809j\n",
       " -0.38600175+0.26293209j -0.42214372+0.26166159j -0.39798728+0.25608243j\n",
       " -0.42518142+0.24467887j -0.47463954+0.28279488j -0.53228189+0.31316845j\n",
       " -0.60519497+0.37602924j -0.62518859+0.40020481j -0.66162917+0.4186313j\n",
       " -0.64180198+0.4047578j  -0.62554323+0.37782026j -0.54003849+0.36750615j\n",
       " -0.49617724+0.3393257j  -0.42085421+0.29120189j -0.41512619+0.24675721j\n",
       " -0.41577827+0.25423856j -0.51793301+0.27976665j -0.4679893 +0.30702948j\n",
       " -0.47763026+0.31952361j -0.52138895+0.32482808j -0.52203681+0.31982987j\n",
       " -0.59901623+0.38544008j -0.54496798+0.35088244j -0.55429233+0.38709333j\n",
       " -0.60050681+0.37770558j -0.60322056+0.35875839j -0.67021563+0.41537278j\n",
       " -0.64068634+0.36759075j -0.6376047 +0.35448172j -0.53508216+0.31945575j\n",
       " -0.50787096+0.30327494j -0.51282676+0.31070313j]"
      ]
     },
     "execution_count": 13,
     "metadata": {},
     "output_type": "execute_result"
    }
   ],
   "source": [
    "Ramsey.Ramsey(device, \n",
    "              '3', \n",
    "              lengths=np.linspace(0, 10e-6, 100e-9), \n",
    "              target_freq_offset=1e6,\n",
    "              channel_amplitudes1=channel_amplitudes.channel_amplitudes(device, iq_ex1_q3=1.0),\n",
    "              channel_amplitudes2=channel_amplitudes.channel_amplitudes(device, iq_ex3_q3=1.0))"
   ]
  },
  {
   "cell_type": "code",
   "execution_count": 38,
   "metadata": {
    "ExecuteTime": {
     "end_time": "2019-07-02T15:15:58.742552Z",
     "start_time": "2019-07-02T15:15:58.736554Z"
    }
   },
   "outputs": [
    {
     "data": {
      "text/plain": [
       "({'rotation_angle': '1.5707963267948966',\n",
       "  'pulse_type': 'rect',\n",
       "  'length': '3.2695038940375716e-09',\n",
       "  'tail_length': '0.0'},\n",
       " {'rotation_angle': '1.5707963267948966',\n",
       "  'pulse_type': 'rect',\n",
       "  'length': '1.4306527453930573e-08',\n",
       "  'tail_length': '0.0'})"
      ]
     },
     "execution_count": 38,
     "metadata": {},
     "output_type": "execute_result"
    }
   ],
   "source": [
    "pi_half1.metadata, pi_half3.metadata,"
   ]
  },
  {
   "cell_type": "code",
   "execution_count": 40,
   "metadata": {
    "ExecuteTime": {
     "end_time": "2019-07-02T15:16:18.779173Z",
     "start_time": "2019-07-02T15:16:18.770159Z"
    }
   },
   "outputs": [
    {
     "data": {
      "text/plain": [
       "[{'iq_ex1_q3': array([0.+0.j, 0.+0.j, 0.+0.j]),\n",
       "  'iq_ex3_q3': array([0.+0.j, 0.+0.j, 0.+0.j]),\n",
       "  'iq_ro_q3': array([0.+0.j, 0.+0.j, 0.+0.j]),\n",
       "  'iq_ex1_q1': array([6.123234e-17+1.j, 6.123234e-17+1.j, 6.123234e-17+1.j]),\n",
       "  'iq_ex3_q1': array([0.+0.j, 0.+0.j, 0.+0.j]),\n",
       "  'iq_ro_q1': array([0.+0.j, 0.+0.j, 0.+0.j]),\n",
       "  'ro_trg': array([0.+0.j, 0.+0.j, 0.+0.j])}]"
      ]
     },
     "execution_count": 40,
     "metadata": {},
     "output_type": "execute_result"
    }
   ],
   "source": [
    "pi_half1.get_pulse_sequence(phase=np.pi/2.)"
   ]
  },
  {
   "cell_type": "code",
   "execution_count": 16,
   "metadata": {
    "ExecuteTime": {
     "end_time": "2019-07-02T09:31:03.507338Z",
     "start_time": "2019-07-02T09:31:03.501319Z"
    }
   },
   "outputs": [
    {
     "data": {
      "text/plain": [
       "[(Data[3142], Data[3141], 'fit_source')]"
      ]
     },
     "execution_count": 16,
     "metadata": {},
     "output_type": "execute_result"
    }
   ],
   "source": [
    "[(r.this, r.that, r.ref_type) for i in device.exdir_db.select_measurements_db(measurement_type='Rabi_rect') for r in i.reference_two if r.this.id==3142]"
   ]
  },
  {
   "cell_type": "code",
   "execution_count": 18,
   "metadata": {
    "ExecuteTime": {
     "end_time": "2019-07-02T09:32:50.327358Z",
     "start_time": "2019-07-02T09:32:50.261389Z"
    }
   },
   "outputs": [
    {
     "name": "stdout",
     "output_type": "stream",
     "text": [
      "load_exdir: file open time:  0.003026247024536133\n"
     ]
    },
    {
     "data": {
      "text/plain": [
       "start: 2019-07-02 04:03:39.227000, started/done/total sweeps: 0/0/0, \n",
       "Measured data: \n",
       "'iq1': parameters: Excitation length (s),:[0.0, 1.98e-07] (100 points) with setter\n",
       "data: [-0.02929165+0.01302406j  0.07454752-0.05732264j         nan       +nanj\n",
       "         nan       +nanj         nan       +nanj         nan       +nanj\n",
       "         nan       +nanj         nan       +nanj         nan       +nanj\n",
       "         nan       +nanj         nan       +nanj         nan       +nanj\n",
       "         nan       +nanj         nan       +nanj         nan       +nanj\n",
       "         nan       +nanj         nan       +nanj         nan       +nanj\n",
       "         nan       +nanj         nan       +nanj         nan       +nanj\n",
       "         nan       +nanj         nan       +nanj         nan       +nanj\n",
       "         nan       +nanj         nan       +nanj         nan       +nanj\n",
       "         nan       +nanj         nan       +nanj         nan       +nanj\n",
       "         nan       +nanj         nan       +nanj         nan       +nanj\n",
       "         nan       +nanj         nan       +nanj         nan       +nanj\n",
       "         nan       +nanj         nan       +nanj         nan       +nanj\n",
       "         nan       +nanj         nan       +nanj         nan       +nanj\n",
       "         nan       +nanj         nan       +nanj         nan       +nanj\n",
       "         nan       +nanj         nan       +nanj         nan       +nanj\n",
       "         nan       +nanj         nan       +nanj         nan       +nanj\n",
       "         nan       +nanj         nan       +nanj         nan       +nanj\n",
       "         nan       +nanj         nan       +nanj         nan       +nanj\n",
       "         nan       +nanj         nan       +nanj         nan       +nanj\n",
       "         nan       +nanj         nan       +nanj         nan       +nanj\n",
       "         nan       +nanj         nan       +nanj         nan       +nanj\n",
       "         nan       +nanj         nan       +nanj         nan       +nanj\n",
       "         nan       +nanj         nan       +nanj         nan       +nanj\n",
       "         nan       +nanj         nan       +nanj         nan       +nanj\n",
       "         nan       +nanj         nan       +nanj         nan       +nanj\n",
       "         nan       +nanj         nan       +nanj         nan       +nanj\n",
       "         nan       +nanj         nan       +nanj         nan       +nanj\n",
       "         nan       +nanj         nan       +nanj         nan       +nanj\n",
       "         nan       +nanj         nan       +nanj         nan       +nanj\n",
       "         nan       +nanj         nan       +nanj         nan       +nanj\n",
       "         nan       +nanj         nan       +nanj         nan       +nanj\n",
       "         nan       +nanj         nan       +nanj         nan       +nanj\n",
       "         nan       +nanj]"
      ]
     },
     "execution_count": 18,
     "metadata": {},
     "output_type": "execute_result"
    }
   ],
   "source": [
    "device.exdir_db.select_measurement(measurement_type='Rabi_rect', references_this={'fit_source':3142})"
   ]
  },
  {
   "cell_type": "markdown",
   "metadata": {},
   "source": [
    "### Настройка демодуляций на железке СашиКоли"
   ]
  },
  {
   "cell_type": "code",
   "execution_count": 10,
   "metadata": {
    "ExecuteTime": {
     "end_time": "2019-07-02T11:31:53.467824Z",
     "start_time": "2019-07-02T11:31:11.454292Z"
    }
   },
   "outputs": [
    {
     "name": "stdout",
     "output_type": "stream",
     "text": [
      "load_exdir: file open time:  0.0019998550415039062\n",
      "load_exdir: file open time:  0.001999378204345703\n",
      "reference: channel_calibration : 2620\n",
      "load_exdir: file open time:  0.002998828887939453\n",
      "reference: passthrough_measurement : 2648\n",
      "load_exdir: file open time:  0.002998828887939453\n",
      "load_exdir: file open time:  0.0009987354278564453\n",
      "reference: readout_pulse : 2663\n",
      "reference: modem_calibration : 3166\n",
      "None\n",
      "load_exdir: file open time:  0.002000570297241211\n",
      "load_exdir: file open time:  0.0009992122650146484\n"
     ]
    },
    {
     "name": "stderr",
     "output_type": "stream",
     "text": [
      "Traceback (most recent call last):\n",
      "  File \"C:\\qtlab_replacement\\qsweepy\\qubit_calibrations\\readout_pulse.py\", line 75, in get_readout_background_calibration\n",
      "    return device.exdir_db.select_measurement(measurement_type='readout_background_calibration', metadata=metadata, references_that=references)\n",
      "  File \"C:\\qtlab_replacement\\qsweepy\\exdir_db.py\", line 48, in select_measurement\n",
      "    return save_exdir.load_exdir(list(measurement_db_list.order_by(lambda d: desc(d.id)).limit(1))[0].filename, db=self.db)\n",
      "IndexError: list index out of range\n"
     ]
    },
    {
     "name": "stdout",
     "output_type": "stream",
     "text": [
      "load_exdir: file open time:  0.0010166168212890625\n"
     ]
    },
    {
     "name": "stderr",
     "output_type": "stream",
     "text": [
      "C:\\qtlab_replacement\\qsweepy\\instrument_drivers\\Tektronix_AWG5014.py:651: ComplexWarning:\n",
      "\n",
      "Casting complex values to real discards the imaginary part\n",
      "\n",
      "C:\\ProgramData\\Anaconda3\\lib\\site-packages\\pyvisa\\resources\\messagebased.py:573: FutureWarning:\n",
      "\n",
      "ask is deprecated and will be removed in 1.10, use query instead.\n",
      "\n"
     ]
    },
    {
     "name": "stdout",
     "output_type": "stream",
     "text": [
      "load_exdir: file open time:  0.002017974853515625\n",
      "Inserting references: {'readout_pulse': 2663, 'modem_calibration': 3166, 'channel_calibration': 2620}\n",
      "Waiting to join deferred threads:\n",
      "load_exdir: file open time:  0.0019981861114501953\n",
      "load_exdir: file open time:  0.0019915103912353516\n",
      "load_exdir: file open time:  0.0009984970092773438\n",
      "load time:  0.09597516059875488\n",
      "pre_trace_time:  0.0039844512939453125\n",
      "trace 0 time:  0.014007806777954102\n",
      "trace 1 time:  0.0260012149810791\n",
      "trace 2 time:  0.037994384765625\n",
      "trace 3 time:  0.05199027061462402\n",
      "trace 4 time:  0.06398296356201172\n"
     ]
    },
    {
     "name": "stderr",
     "output_type": "stream",
     "text": [
      "C:\\ProgramData\\Anaconda3\\lib\\site-packages\\numpy\\core\\memmap.py:335: FutureWarning:\n",
      "\n",
      "Using a non-tuple sequence for multidimensional indexing is deprecated; use `arr[tuple(seq)]` instead of `arr[seq]`. In the future this will be interpreted as an array index, `arr[np.array(seq)]`, which will result either in an error or a different result.\n",
      "\n"
     ]
    },
    {
     "name": "stdout",
     "output_type": "stream",
     "text": [
      "load_exdir: file open time:  0.002981424331665039\n",
      "load_exdir: file open time:  0.003992319107055664\n",
      "load_exdir: file open time:  0.0039980411529541016\n",
      "reference: channel_calibration : 2619\n",
      "load_exdir: file open time:  0.0030221939086914062\n",
      "reference: passthrough_measurement : 2649\n",
      "load_exdir: file open time:  0.0030205249786376953\n",
      "load_exdir: file open time:  0.0010013580322265625\n",
      "reference: readout_pulse : 2664\n",
      "reference: modem_calibration : 3165\n",
      "None\n",
      "load_exdir: file open time:  0.001996755599975586\n",
      "load_exdir: file open time:  0.001973867416381836\n"
     ]
    },
    {
     "name": "stderr",
     "output_type": "stream",
     "text": [
      "Traceback (most recent call last):\n",
      "  File \"C:\\qtlab_replacement\\qsweepy\\qubit_calibrations\\readout_pulse.py\", line 75, in get_readout_background_calibration\n",
      "    return device.exdir_db.select_measurement(measurement_type='readout_background_calibration', metadata=metadata, references_that=references)\n",
      "  File \"C:\\qtlab_replacement\\qsweepy\\exdir_db.py\", line 48, in select_measurement\n",
      "    return save_exdir.load_exdir(list(measurement_db_list.order_by(lambda d: desc(d.id)).limit(1))[0].filename, db=self.db)\n",
      "IndexError: list index out of range\n"
     ]
    },
    {
     "name": "stdout",
     "output_type": "stream",
     "text": [
      "load_exdir: file open time:  0.003997087478637695\n",
      "load_exdir: file open time:  0.0020182132720947266\n",
      "Inserting references: {'readout_pulse': 2664, 'modem_calibration': 3165, 'channel_calibration': 2619}\n",
      "Waiting to join deferred threads:\n",
      "load_exdir: file open time:  0.001996278762817383\n",
      "load_exdir: file open time:  0.002020120620727539\n",
      "load_exdir: file open time:  0.0009992122650146484\n",
      "load time:  0.0959773063659668\n",
      "pre_trace_time:  0.004974842071533203\n",
      "trace 0 time:  0.014014005661010742\n",
      "trace 1 time:  0.026009559631347656\n",
      "trace 2 time:  0.039002418518066406\n",
      "trace 3 time:  0.051998138427734375\n",
      "trace 4 time:  0.06399178504943848\n",
      "load_exdir: file open time:  0.002992868423461914\n"
     ]
    }
   ],
   "source": [
    "#from qsweepy.qubit_calibrations import readout_passthrough\n",
    "from qsweepy.qubit_calibrations import readout_pulse\n",
    "imp.reload(readout_pulse)\n",
    "readout_pulse_q1 = readout_pulse.get_qubit_readout_pulse(device, '1')\n",
    "measurer_q1 = readout_pulse.get_uncalibrated_measurer(device, '1', readout_pulse_q1)\n",
    "readout_pulse_q3 = readout_pulse.get_qubit_readout_pulse(device, '3')\n",
    "measurer_q3 = readout_pulse.get_uncalibrated_measurer(device, '3', readout_pulse_q3)\n",
    "#readout_pulse.get_readout_background_calibration(device, readout_pulse.get_qubit_readout_pulse(device, '3'))\n",
    "#device.get_qubit_readout_pulse('3')\n",
    "#imp.reload(readout_passthrough)\n",
    "#readout_amplitudes = np.linspace(0.00, 0.5, 21)\n",
    "\n",
    "#readout_passthrough.readout_passthrough(amplitudes=readout_amplitudes, length= readout_length, device=device, qubit_id='1')"
   ]
  },
  {
   "cell_type": "code",
   "execution_count": 15,
   "metadata": {
    "ExecuteTime": {
     "end_time": "2019-07-02T11:51:33.234240Z",
     "start_time": "2019-07-02T11:43:23.282160Z"
    },
    "scrolled": true
   },
   "outputs": [
    {
     "name": "stdout",
     "output_type": "stream",
     "text": [
      "load_exdir: file open time:  0.0019752979278564453\n",
      "reference: channel_calibration_iq_ex1_q1 : 2315\n",
      "load_exdir: file open time:  0.0010225772857666016\n",
      "load_exdir: file open time:  0.0009768009185791016\n",
      "load_exdir: file open time:  0.0019986629486083984\n",
      "load_exdir: file open time:  0.0009989738464355469\n",
      "load_exdir: file open time:  0.0009996891021728516\n",
      "reference: channel_calibration : 2620\n",
      "load_exdir: file open time:  0.000993490219116211\n",
      "reference: passthrough_measurement : 2648\n",
      "load_exdir: file open time:  0.0019774436950683594\n",
      "load_exdir: file open time:  0.0020215511322021484\n",
      "reference: readout_pulse : 2663\n",
      "reference: modem_calibration : 3166\n",
      "load_exdir: file open time:  0.0019941329956054688\n",
      "load_exdir: file open time:  0.0009992122650146484\n",
      "Inserting references: {'channel_amplitudes': 2737, 'readout_background_calibration': 3167}\n",
      "Inserting references: {'fit_source': 3179}\n"
     ]
    },
    {
     "name": "stderr",
     "output_type": "stream",
     "text": [
      "Traceback (most recent call last):\n",
      "  File \"C:\\qtlab_replacement\\qsweepy\\fitters\\exp_sin.py\", line 23, in exp_sin_fit\n",
      "    raise ValueError\n",
      "ValueError\n",
      "C:\\qtlab_replacement\\qsweepy\\instrument_drivers\\Tektronix_AWG5014.py:651: ComplexWarning:\n",
      "\n",
      "Casting complex values to real discards the imaginary part\n",
      "\n",
      "C:\\ProgramData\\Anaconda3\\lib\\site-packages\\pyvisa\\resources\\messagebased.py:573: FutureWarning:\n",
      "\n",
      "ask is deprecated and will be removed in 1.10, use query instead.\n",
      "\n",
      "Traceback (most recent call last):\n",
      "  File \"C:\\qtlab_replacement\\qsweepy\\fitters\\exp_sin.py\", line 23, in exp_sin_fit\n",
      "    raise ValueError\n",
      "ValueError\n"
     ]
    },
    {
     "name": "stdout",
     "output_type": "stream",
     "text": [
      "updater called\n"
     ]
    },
    {
     "name": "stderr",
     "output_type": "stream",
     "text": [
      "Traceback (most recent call last):\n",
      "  File \"C:\\qtlab_replacement\\qsweepy\\fitters\\exp_sin.py\", line 23, in exp_sin_fit\n",
      "    raise ValueError\n",
      "ValueError\n"
     ]
    },
    {
     "name": "stdout",
     "output_type": "stream",
     "text": [
      "updater called\n"
     ]
    },
    {
     "name": "stderr",
     "output_type": "stream",
     "text": [
      "Traceback (most recent call last):\n",
      "  File \"C:\\qtlab_replacement\\qsweepy\\fitters\\exp_sin.py\", line 23, in exp_sin_fit\n",
      "    raise ValueError\n",
      "ValueError\n"
     ]
    },
    {
     "name": "stdout",
     "output_type": "stream",
     "text": [
      "updater called\n"
     ]
    },
    {
     "name": "stderr",
     "output_type": "stream",
     "text": [
      "Traceback (most recent call last):\n",
      "  File \"C:\\qtlab_replacement\\qsweepy\\fitters\\exp_sin.py\", line 23, in exp_sin_fit\n",
      "    raise ValueError\n",
      "ValueError\n"
     ]
    },
    {
     "name": "stdout",
     "output_type": "stream",
     "text": [
      "updater called\n"
     ]
    },
    {
     "name": "stderr",
     "output_type": "stream",
     "text": [
      "Traceback (most recent call last):\n",
      "  File \"C:\\qtlab_replacement\\qsweepy\\fitters\\exp_sin.py\", line 59, in exp_sin_fit\n",
      "    T = np.sqrt(np.mean(np.abs(ft[:,fR_id])**2)/np.mean(np.abs((ft[:,fR_id-1]+ft[:,fR_id+1])/2)**2)-1)/domega/2\n",
      "IndexError: index 5 is out of bounds for axis 1 with size 5\n"
     ]
    },
    {
     "name": "stdout",
     "output_type": "stream",
     "text": [
      "updater called\n"
     ]
    },
    {
     "name": "stderr",
     "output_type": "stream",
     "text": [
      "Traceback (most recent call last):\n",
      "  File \"C:\\qtlab_replacement\\qsweepy\\fitters\\exp_sin.py\", line 59, in exp_sin_fit\n",
      "    T = np.sqrt(np.mean(np.abs(ft[:,fR_id])**2)/np.mean(np.abs((ft[:,fR_id-1]+ft[:,fR_id+1])/2)**2)-1)/domega/2\n",
      "IndexError: index 6 is out of bounds for axis 1 with size 6\n"
     ]
    },
    {
     "name": "stdout",
     "output_type": "stream",
     "text": [
      "updater called\n"
     ]
    },
    {
     "name": "stderr",
     "output_type": "stream",
     "text": [
      "Traceback (most recent call last):\n",
      "  File \"C:\\qtlab_replacement\\qsweepy\\fitters\\exp_sin.py\", line 59, in exp_sin_fit\n",
      "    T = np.sqrt(np.mean(np.abs(ft[:,fR_id])**2)/np.mean(np.abs((ft[:,fR_id-1]+ft[:,fR_id+1])/2)**2)-1)/domega/2\n",
      "IndexError: index 7 is out of bounds for axis 1 with size 7\n"
     ]
    },
    {
     "name": "stdout",
     "output_type": "stream",
     "text": [
      "updater called\n"
     ]
    },
    {
     "name": "stderr",
     "output_type": "stream",
     "text": [
      "Traceback (most recent call last):\n",
      "  File \"C:\\qtlab_replacement\\qsweepy\\fitters\\exp_sin.py\", line 59, in exp_sin_fit\n",
      "    T = np.sqrt(np.mean(np.abs(ft[:,fR_id])**2)/np.mean(np.abs((ft[:,fR_id-1]+ft[:,fR_id+1])/2)**2)-1)/domega/2\n",
      "IndexError: index 8 is out of bounds for axis 1 with size 8\n"
     ]
    },
    {
     "name": "stdout",
     "output_type": "stream",
     "text": [
      "updater called\n"
     ]
    },
    {
     "name": "stderr",
     "output_type": "stream",
     "text": [
      "Traceback (most recent call last):\n",
      "  File \"C:\\qtlab_replacement\\qsweepy\\fitters\\exp_sin.py\", line 59, in exp_sin_fit\n",
      "    T = np.sqrt(np.mean(np.abs(ft[:,fR_id])**2)/np.mean(np.abs((ft[:,fR_id-1]+ft[:,fR_id+1])/2)**2)-1)/domega/2\n",
      "IndexError: index 9 is out of bounds for axis 1 with size 9\n"
     ]
    },
    {
     "name": "stdout",
     "output_type": "stream",
     "text": [
      "updater called\n",
      "updater called\n",
      "updater called\n",
      "updater called\n",
      "updater called\n",
      "updater called\n",
      "updater called\n",
      "updater called\n",
      "updater called\n",
      "updater called\n",
      "updater called\n",
      "updater called\n",
      "updater called\n",
      "updater called\n",
      "updater called\n",
      "updater called\n",
      "updater called\n",
      "updater called\n",
      "updater called\n",
      "updater called\n",
      "updater called\n",
      "updater called\n",
      "updater called\n",
      "updater called\n",
      "updater called\n",
      "updater called\n",
      "updater called\n",
      "updater called\n",
      "updater called\n",
      "updater called\n",
      "updater called\n",
      "updater called\n",
      "updater called\n",
      "updater called\n",
      "updater called\n",
      "updater called\n",
      "updater called\n",
      "updater called\n",
      "updater called\n",
      "updater called\n",
      "updater called\n",
      "updater called\n",
      "updater called\n",
      "updater called\n",
      "updater called\n",
      "updater called\n",
      "updater called\n",
      "updater called\n",
      "updater called\n",
      "updater called\n",
      "updater called\n",
      "updater called\n",
      "updater called\n",
      "updater called\n",
      "updater called\n",
      "updater called\n",
      "updater called\n",
      "updater called\n",
      "updater called\n",
      "updater called\n",
      "updater called\n",
      "updater called\n",
      "updater called\n",
      "updater called\n",
      "updater called\n",
      "updater called\n",
      "updater called\n",
      "updater called\n",
      "updater called\n",
      "updater called\n",
      "updater called\n",
      "updater called\n",
      "updater called\n",
      "updater called\n",
      "updater called\n",
      "updater called\n",
      "updater called\n",
      "updater called\n",
      "updater called\n",
      "updater called\n",
      "updater called\n",
      "updater called\n",
      "updater called\n",
      "updater called\n",
      "updater called\n",
      "updater called\n",
      "updater called\n",
      "updater called\n",
      "updater called\n",
      "updater called\n",
      "updater called\n",
      "updater called\n",
      "Waiting to join deferred threads:\n",
      "load_exdir: file open time:  0.0009987354278564453\n",
      "load_exdir: file open time:  0.0009996891021728516\n",
      "load_exdir: file open time:  0.0019989013671875\n",
      "load time:  0.03598213195800781\n",
      "pre_trace_time:  0.0010001659393310547\n",
      "trace 0 time:  0.013993024826049805\n",
      "trace 1 time:  0.02598738670349121\n",
      "trace 2 time:  0.03698229789733887\n",
      "trace 3 time:  0.04897642135620117\n"
     ]
    },
    {
     "name": "stderr",
     "output_type": "stream",
     "text": [
      "C:\\ProgramData\\Anaconda3\\lib\\site-packages\\numpy\\core\\memmap.py:335: FutureWarning:\n",
      "\n",
      "Using a non-tuple sequence for multidimensional indexing is deprecated; use `arr[tuple(seq)]` instead of `arr[seq]`. In the future this will be interpreted as an array index, `arr[np.array(seq)]`, which will result either in an error or a different result.\n",
      "\n"
     ]
    },
    {
     "name": "stdout",
     "output_type": "stream",
     "text": [
      "load_exdir: file open time:  0.002006053924560547\n",
      "load_exdir: file open time:  0.001001119613647461\n",
      "load_exdir: file open time:  0.0009984970092773438\n",
      "load time:  0.03898024559020996\n",
      "pre_trace_time:  0.0010008811950683594\n",
      "trace 0 time:  0.014993906021118164\n",
      "trace 1 time:  0.02798628807067871\n",
      "trace 2 time:  0.039981842041015625\n",
      "trace 3 time:  0.05197620391845703\n",
      "load_exdir: file open time:  0.0019745826721191406\n",
      "reference: channel_calibration_iq_ex3_q3 : 2320\n",
      "load_exdir: file open time:  0.001999378204345703\n",
      "load_exdir: file open time:  0.0019989013671875\n",
      "load_exdir: file open time:  0.0009992122650146484\n",
      "load_exdir: file open time:  0.0019888877868652344\n",
      "load_exdir: file open time:  0.001997709274291992\n",
      "reference: channel_calibration : 2619\n",
      "load_exdir: file open time:  0.0019943714141845703\n",
      "reference: passthrough_measurement : 2649\n",
      "load_exdir: file open time:  0.0009996891021728516\n",
      "load_exdir: file open time:  0.002000093460083008\n",
      "reference: readout_pulse : 2664\n",
      "reference: modem_calibration : 3165\n",
      "load_exdir: file open time:  0.00099945068359375\n",
      "load_exdir: file open time:  0.00099945068359375\n",
      "Inserting references: {'channel_amplitudes': 2747, 'readout_background_calibration': 3168}\n",
      "Inserting references: {'fit_source': 3181}\n"
     ]
    },
    {
     "name": "stderr",
     "output_type": "stream",
     "text": [
      "Traceback (most recent call last):\n",
      "  File \"C:\\qtlab_replacement\\qsweepy\\fitters\\exp_sin.py\", line 23, in exp_sin_fit\n",
      "    raise ValueError\n",
      "ValueError\n",
      "Traceback (most recent call last):\n",
      "  File \"C:\\qtlab_replacement\\qsweepy\\fitters\\exp_sin.py\", line 23, in exp_sin_fit\n",
      "    raise ValueError\n",
      "ValueError\n"
     ]
    },
    {
     "name": "stdout",
     "output_type": "stream",
     "text": [
      "updater called\n"
     ]
    },
    {
     "name": "stderr",
     "output_type": "stream",
     "text": [
      "Traceback (most recent call last):\n",
      "  File \"C:\\qtlab_replacement\\qsweepy\\fitters\\exp_sin.py\", line 23, in exp_sin_fit\n",
      "    raise ValueError\n",
      "ValueError\n"
     ]
    },
    {
     "name": "stdout",
     "output_type": "stream",
     "text": [
      "updater called\n"
     ]
    },
    {
     "name": "stderr",
     "output_type": "stream",
     "text": [
      "Traceback (most recent call last):\n",
      "  File \"C:\\qtlab_replacement\\qsweepy\\fitters\\exp_sin.py\", line 23, in exp_sin_fit\n",
      "    raise ValueError\n",
      "ValueError\n"
     ]
    },
    {
     "name": "stdout",
     "output_type": "stream",
     "text": [
      "updater called\n"
     ]
    },
    {
     "name": "stderr",
     "output_type": "stream",
     "text": [
      "Traceback (most recent call last):\n",
      "  File \"C:\\qtlab_replacement\\qsweepy\\fitters\\exp_sin.py\", line 23, in exp_sin_fit\n",
      "    raise ValueError\n",
      "ValueError\n"
     ]
    },
    {
     "name": "stdout",
     "output_type": "stream",
     "text": [
      "updater called\n"
     ]
    },
    {
     "name": "stderr",
     "output_type": "stream",
     "text": [
      "Traceback (most recent call last):\n",
      "  File \"C:\\qtlab_replacement\\qsweepy\\fitters\\exp_sin.py\", line 59, in exp_sin_fit\n",
      "    T = np.sqrt(np.mean(np.abs(ft[:,fR_id])**2)/np.mean(np.abs((ft[:,fR_id-1]+ft[:,fR_id+1])/2)**2)-1)/domega/2\n",
      "IndexError: index 5 is out of bounds for axis 1 with size 5\n"
     ]
    },
    {
     "name": "stdout",
     "output_type": "stream",
     "text": [
      "updater called\n"
     ]
    },
    {
     "name": "stderr",
     "output_type": "stream",
     "text": [
      "Traceback (most recent call last):\n",
      "  File \"C:\\qtlab_replacement\\qsweepy\\fitters\\exp_sin.py\", line 59, in exp_sin_fit\n",
      "    T = np.sqrt(np.mean(np.abs(ft[:,fR_id])**2)/np.mean(np.abs((ft[:,fR_id-1]+ft[:,fR_id+1])/2)**2)-1)/domega/2\n",
      "IndexError: index 6 is out of bounds for axis 1 with size 6\n"
     ]
    },
    {
     "name": "stdout",
     "output_type": "stream",
     "text": [
      "updater called\n"
     ]
    },
    {
     "name": "stderr",
     "output_type": "stream",
     "text": [
      "Traceback (most recent call last):\n",
      "  File \"C:\\qtlab_replacement\\qsweepy\\fitters\\exp_sin.py\", line 59, in exp_sin_fit\n",
      "    T = np.sqrt(np.mean(np.abs(ft[:,fR_id])**2)/np.mean(np.abs((ft[:,fR_id-1]+ft[:,fR_id+1])/2)**2)-1)/domega/2\n",
      "IndexError: index 7 is out of bounds for axis 1 with size 7\n"
     ]
    },
    {
     "name": "stdout",
     "output_type": "stream",
     "text": [
      "updater called\n"
     ]
    },
    {
     "name": "stderr",
     "output_type": "stream",
     "text": [
      "Traceback (most recent call last):\n",
      "  File \"C:\\qtlab_replacement\\qsweepy\\fitters\\exp_sin.py\", line 59, in exp_sin_fit\n",
      "    T = np.sqrt(np.mean(np.abs(ft[:,fR_id])**2)/np.mean(np.abs((ft[:,fR_id-1]+ft[:,fR_id+1])/2)**2)-1)/domega/2\n",
      "IndexError: index 8 is out of bounds for axis 1 with size 8\n"
     ]
    },
    {
     "name": "stdout",
     "output_type": "stream",
     "text": [
      "updater called\n"
     ]
    },
    {
     "name": "stderr",
     "output_type": "stream",
     "text": [
      "Traceback (most recent call last):\n",
      "  File \"C:\\qtlab_replacement\\qsweepy\\fitters\\exp_sin.py\", line 59, in exp_sin_fit\n",
      "    T = np.sqrt(np.mean(np.abs(ft[:,fR_id])**2)/np.mean(np.abs((ft[:,fR_id-1]+ft[:,fR_id+1])/2)**2)-1)/domega/2\n",
      "IndexError: index 9 is out of bounds for axis 1 with size 9\n"
     ]
    },
    {
     "name": "stdout",
     "output_type": "stream",
     "text": [
      "updater called\n"
     ]
    },
    {
     "name": "stderr",
     "output_type": "stream",
     "text": [
      "Traceback (most recent call last):\n",
      "  File \"C:\\qtlab_replacement\\qsweepy\\fitters\\exp_sin.py\", line 59, in exp_sin_fit\n",
      "    T = np.sqrt(np.mean(np.abs(ft[:,fR_id])**2)/np.mean(np.abs((ft[:,fR_id-1]+ft[:,fR_id+1])/2)**2)-1)/domega/2\n",
      "IndexError: index 10 is out of bounds for axis 1 with size 10\n"
     ]
    },
    {
     "name": "stdout",
     "output_type": "stream",
     "text": [
      "updater called\n"
     ]
    },
    {
     "name": "stderr",
     "output_type": "stream",
     "text": [
      "Traceback (most recent call last):\n",
      "  File \"C:\\qtlab_replacement\\qsweepy\\fitters\\exp_sin.py\", line 59, in exp_sin_fit\n",
      "    T = np.sqrt(np.mean(np.abs(ft[:,fR_id])**2)/np.mean(np.abs((ft[:,fR_id-1]+ft[:,fR_id+1])/2)**2)-1)/domega/2\n",
      "IndexError: index 11 is out of bounds for axis 1 with size 11\n"
     ]
    },
    {
     "name": "stdout",
     "output_type": "stream",
     "text": [
      "updater called\n"
     ]
    },
    {
     "name": "stderr",
     "output_type": "stream",
     "text": [
      "Traceback (most recent call last):\n",
      "  File \"C:\\qtlab_replacement\\qsweepy\\fitters\\exp_sin.py\", line 59, in exp_sin_fit\n",
      "    T = np.sqrt(np.mean(np.abs(ft[:,fR_id])**2)/np.mean(np.abs((ft[:,fR_id-1]+ft[:,fR_id+1])/2)**2)-1)/domega/2\n",
      "IndexError: index 12 is out of bounds for axis 1 with size 12\n"
     ]
    },
    {
     "name": "stdout",
     "output_type": "stream",
     "text": [
      "updater called\n"
     ]
    },
    {
     "name": "stderr",
     "output_type": "stream",
     "text": [
      "Traceback (most recent call last):\n",
      "  File \"C:\\qtlab_replacement\\qsweepy\\fitters\\exp_sin.py\", line 59, in exp_sin_fit\n",
      "    T = np.sqrt(np.mean(np.abs(ft[:,fR_id])**2)/np.mean(np.abs((ft[:,fR_id-1]+ft[:,fR_id+1])/2)**2)-1)/domega/2\n",
      "IndexError: index 13 is out of bounds for axis 1 with size 13\n"
     ]
    },
    {
     "name": "stdout",
     "output_type": "stream",
     "text": [
      "updater called\n"
     ]
    },
    {
     "name": "stderr",
     "output_type": "stream",
     "text": [
      "Traceback (most recent call last):\n",
      "  File \"C:\\qtlab_replacement\\qsweepy\\fitters\\exp_sin.py\", line 59, in exp_sin_fit\n",
      "    T = np.sqrt(np.mean(np.abs(ft[:,fR_id])**2)/np.mean(np.abs((ft[:,fR_id-1]+ft[:,fR_id+1])/2)**2)-1)/domega/2\n",
      "IndexError: index 14 is out of bounds for axis 1 with size 14\n"
     ]
    },
    {
     "name": "stdout",
     "output_type": "stream",
     "text": [
      "updater called\n"
     ]
    },
    {
     "name": "stderr",
     "output_type": "stream",
     "text": [
      "Traceback (most recent call last):\n",
      "  File \"C:\\qtlab_replacement\\qsweepy\\fitters\\exp_sin.py\", line 59, in exp_sin_fit\n",
      "    T = np.sqrt(np.mean(np.abs(ft[:,fR_id])**2)/np.mean(np.abs((ft[:,fR_id-1]+ft[:,fR_id+1])/2)**2)-1)/domega/2\n",
      "IndexError: index 15 is out of bounds for axis 1 with size 15\n"
     ]
    },
    {
     "name": "stdout",
     "output_type": "stream",
     "text": [
      "updater called\n"
     ]
    },
    {
     "name": "stderr",
     "output_type": "stream",
     "text": [
      "Traceback (most recent call last):\n",
      "  File \"C:\\qtlab_replacement\\qsweepy\\fitters\\exp_sin.py\", line 59, in exp_sin_fit\n",
      "    T = np.sqrt(np.mean(np.abs(ft[:,fR_id])**2)/np.mean(np.abs((ft[:,fR_id-1]+ft[:,fR_id+1])/2)**2)-1)/domega/2\n",
      "IndexError: index 16 is out of bounds for axis 1 with size 16\n"
     ]
    },
    {
     "name": "stdout",
     "output_type": "stream",
     "text": [
      "updater called\n"
     ]
    },
    {
     "name": "stderr",
     "output_type": "stream",
     "text": [
      "Traceback (most recent call last):\n",
      "  File \"C:\\qtlab_replacement\\qsweepy\\fitters\\exp_sin.py\", line 59, in exp_sin_fit\n",
      "    T = np.sqrt(np.mean(np.abs(ft[:,fR_id])**2)/np.mean(np.abs((ft[:,fR_id-1]+ft[:,fR_id+1])/2)**2)-1)/domega/2\n",
      "IndexError: index 17 is out of bounds for axis 1 with size 17\n"
     ]
    },
    {
     "name": "stdout",
     "output_type": "stream",
     "text": [
      "updater called\n"
     ]
    },
    {
     "name": "stderr",
     "output_type": "stream",
     "text": [
      "Traceback (most recent call last):\n",
      "  File \"C:\\qtlab_replacement\\qsweepy\\fitters\\exp_sin.py\", line 59, in exp_sin_fit\n",
      "    T = np.sqrt(np.mean(np.abs(ft[:,fR_id])**2)/np.mean(np.abs((ft[:,fR_id-1]+ft[:,fR_id+1])/2)**2)-1)/domega/2\n",
      "IndexError: index 18 is out of bounds for axis 1 with size 18\n"
     ]
    },
    {
     "name": "stdout",
     "output_type": "stream",
     "text": [
      "updater called\n"
     ]
    },
    {
     "name": "stderr",
     "output_type": "stream",
     "text": [
      "Traceback (most recent call last):\n",
      "  File \"C:\\qtlab_replacement\\qsweepy\\fitters\\exp_sin.py\", line 59, in exp_sin_fit\n",
      "    T = np.sqrt(np.mean(np.abs(ft[:,fR_id])**2)/np.mean(np.abs((ft[:,fR_id-1]+ft[:,fR_id+1])/2)**2)-1)/domega/2\n",
      "IndexError: index 19 is out of bounds for axis 1 with size 19\n"
     ]
    },
    {
     "name": "stdout",
     "output_type": "stream",
     "text": [
      "updater called\n",
      "updater called\n"
     ]
    },
    {
     "name": "stderr",
     "output_type": "stream",
     "text": [
      "Traceback (most recent call last):\n",
      "  File \"C:\\qtlab_replacement\\qsweepy\\fitters\\exp_sin.py\", line 59, in exp_sin_fit\n",
      "    T = np.sqrt(np.mean(np.abs(ft[:,fR_id])**2)/np.mean(np.abs((ft[:,fR_id-1]+ft[:,fR_id+1])/2)**2)-1)/domega/2\n",
      "IndexError: index 20 is out of bounds for axis 1 with size 20\n",
      "Traceback (most recent call last):\n",
      "  File \"C:\\qtlab_replacement\\qsweepy\\fitters\\exp_sin.py\", line 59, in exp_sin_fit\n",
      "    T = np.sqrt(np.mean(np.abs(ft[:,fR_id])**2)/np.mean(np.abs((ft[:,fR_id-1]+ft[:,fR_id+1])/2)**2)-1)/domega/2\n",
      "IndexError: index 21 is out of bounds for axis 1 with size 21\n"
     ]
    },
    {
     "name": "stdout",
     "output_type": "stream",
     "text": [
      "updater called\n"
     ]
    },
    {
     "name": "stderr",
     "output_type": "stream",
     "text": [
      "Traceback (most recent call last):\n",
      "  File \"C:\\qtlab_replacement\\qsweepy\\fitters\\exp_sin.py\", line 59, in exp_sin_fit\n",
      "    T = np.sqrt(np.mean(np.abs(ft[:,fR_id])**2)/np.mean(np.abs((ft[:,fR_id-1]+ft[:,fR_id+1])/2)**2)-1)/domega/2\n",
      "IndexError: index 22 is out of bounds for axis 1 with size 22\n"
     ]
    },
    {
     "name": "stdout",
     "output_type": "stream",
     "text": [
      "updater called\n"
     ]
    },
    {
     "name": "stderr",
     "output_type": "stream",
     "text": [
      "Traceback (most recent call last):\n",
      "  File \"C:\\qtlab_replacement\\qsweepy\\fitters\\exp_sin.py\", line 59, in exp_sin_fit\n",
      "    T = np.sqrt(np.mean(np.abs(ft[:,fR_id])**2)/np.mean(np.abs((ft[:,fR_id-1]+ft[:,fR_id+1])/2)**2)-1)/domega/2\n",
      "IndexError: index 23 is out of bounds for axis 1 with size 23\n"
     ]
    },
    {
     "name": "stdout",
     "output_type": "stream",
     "text": [
      "updater called\n"
     ]
    },
    {
     "name": "stderr",
     "output_type": "stream",
     "text": [
      "Traceback (most recent call last):\n",
      "  File \"C:\\qtlab_replacement\\qsweepy\\fitters\\exp_sin.py\", line 59, in exp_sin_fit\n",
      "    T = np.sqrt(np.mean(np.abs(ft[:,fR_id])**2)/np.mean(np.abs((ft[:,fR_id-1]+ft[:,fR_id+1])/2)**2)-1)/domega/2\n",
      "IndexError: index 24 is out of bounds for axis 1 with size 24\n"
     ]
    },
    {
     "name": "stdout",
     "output_type": "stream",
     "text": [
      "updater called\n"
     ]
    },
    {
     "name": "stderr",
     "output_type": "stream",
     "text": [
      "Traceback (most recent call last):\n",
      "  File \"C:\\qtlab_replacement\\qsweepy\\fitters\\exp_sin.py\", line 59, in exp_sin_fit\n",
      "    T = np.sqrt(np.mean(np.abs(ft[:,fR_id])**2)/np.mean(np.abs((ft[:,fR_id-1]+ft[:,fR_id+1])/2)**2)-1)/domega/2\n",
      "IndexError: index 25 is out of bounds for axis 1 with size 25\n"
     ]
    },
    {
     "name": "stdout",
     "output_type": "stream",
     "text": [
      "updater called\n"
     ]
    },
    {
     "name": "stderr",
     "output_type": "stream",
     "text": [
      "Traceback (most recent call last):\n",
      "  File \"C:\\qtlab_replacement\\qsweepy\\fitters\\exp_sin.py\", line 59, in exp_sin_fit\n",
      "    T = np.sqrt(np.mean(np.abs(ft[:,fR_id])**2)/np.mean(np.abs((ft[:,fR_id-1]+ft[:,fR_id+1])/2)**2)-1)/domega/2\n",
      "IndexError: index 26 is out of bounds for axis 1 with size 26\n"
     ]
    },
    {
     "name": "stdout",
     "output_type": "stream",
     "text": [
      "updater called\n"
     ]
    },
    {
     "name": "stderr",
     "output_type": "stream",
     "text": [
      "Traceback (most recent call last):\n",
      "  File \"C:\\qtlab_replacement\\qsweepy\\fitters\\exp_sin.py\", line 59, in exp_sin_fit\n",
      "    T = np.sqrt(np.mean(np.abs(ft[:,fR_id])**2)/np.mean(np.abs((ft[:,fR_id-1]+ft[:,fR_id+1])/2)**2)-1)/domega/2\n",
      "IndexError: index 27 is out of bounds for axis 1 with size 27\n"
     ]
    },
    {
     "name": "stdout",
     "output_type": "stream",
     "text": [
      "updater called\n"
     ]
    },
    {
     "name": "stderr",
     "output_type": "stream",
     "text": [
      "Traceback (most recent call last):\n",
      "  File \"C:\\qtlab_replacement\\qsweepy\\fitters\\exp_sin.py\", line 59, in exp_sin_fit\n",
      "    T = np.sqrt(np.mean(np.abs(ft[:,fR_id])**2)/np.mean(np.abs((ft[:,fR_id-1]+ft[:,fR_id+1])/2)**2)-1)/domega/2\n",
      "IndexError: index 28 is out of bounds for axis 1 with size 28\n"
     ]
    },
    {
     "name": "stdout",
     "output_type": "stream",
     "text": [
      "updater called\n"
     ]
    },
    {
     "name": "stderr",
     "output_type": "stream",
     "text": [
      "Traceback (most recent call last):\n",
      "  File \"C:\\qtlab_replacement\\qsweepy\\fitters\\exp_sin.py\", line 59, in exp_sin_fit\n",
      "    T = np.sqrt(np.mean(np.abs(ft[:,fR_id])**2)/np.mean(np.abs((ft[:,fR_id-1]+ft[:,fR_id+1])/2)**2)-1)/domega/2\n",
      "IndexError: index 29 is out of bounds for axis 1 with size 29\n"
     ]
    },
    {
     "name": "stdout",
     "output_type": "stream",
     "text": [
      "updater called\n"
     ]
    },
    {
     "name": "stderr",
     "output_type": "stream",
     "text": [
      "Traceback (most recent call last):\n",
      "  File \"C:\\qtlab_replacement\\qsweepy\\fitters\\exp_sin.py\", line 59, in exp_sin_fit\n",
      "    T = np.sqrt(np.mean(np.abs(ft[:,fR_id])**2)/np.mean(np.abs((ft[:,fR_id-1]+ft[:,fR_id+1])/2)**2)-1)/domega/2\n",
      "IndexError: index 30 is out of bounds for axis 1 with size 30\n"
     ]
    },
    {
     "name": "stdout",
     "output_type": "stream",
     "text": [
      "updater called\n"
     ]
    },
    {
     "name": "stderr",
     "output_type": "stream",
     "text": [
      "Traceback (most recent call last):\n",
      "  File \"C:\\qtlab_replacement\\qsweepy\\fitters\\exp_sin.py\", line 59, in exp_sin_fit\n",
      "    T = np.sqrt(np.mean(np.abs(ft[:,fR_id])**2)/np.mean(np.abs((ft[:,fR_id-1]+ft[:,fR_id+1])/2)**2)-1)/domega/2\n",
      "IndexError: index 31 is out of bounds for axis 1 with size 31\n"
     ]
    },
    {
     "name": "stdout",
     "output_type": "stream",
     "text": [
      "updater called\n"
     ]
    },
    {
     "name": "stderr",
     "output_type": "stream",
     "text": [
      "Traceback (most recent call last):\n",
      "  File \"C:\\qtlab_replacement\\qsweepy\\fitters\\exp_sin.py\", line 59, in exp_sin_fit\n",
      "    T = np.sqrt(np.mean(np.abs(ft[:,fR_id])**2)/np.mean(np.abs((ft[:,fR_id-1]+ft[:,fR_id+1])/2)**2)-1)/domega/2\n",
      "IndexError: index 32 is out of bounds for axis 1 with size 32\n"
     ]
    },
    {
     "name": "stdout",
     "output_type": "stream",
     "text": [
      "updater called\n"
     ]
    },
    {
     "name": "stderr",
     "output_type": "stream",
     "text": [
      "Traceback (most recent call last):\n",
      "  File \"C:\\qtlab_replacement\\qsweepy\\fitters\\exp_sin.py\", line 59, in exp_sin_fit\n",
      "    T = np.sqrt(np.mean(np.abs(ft[:,fR_id])**2)/np.mean(np.abs((ft[:,fR_id-1]+ft[:,fR_id+1])/2)**2)-1)/domega/2\n",
      "IndexError: index 33 is out of bounds for axis 1 with size 33\n"
     ]
    },
    {
     "name": "stdout",
     "output_type": "stream",
     "text": [
      "updater called\n"
     ]
    },
    {
     "name": "stderr",
     "output_type": "stream",
     "text": [
      "Traceback (most recent call last):\n",
      "  File \"C:\\qtlab_replacement\\qsweepy\\fitters\\exp_sin.py\", line 59, in exp_sin_fit\n",
      "    T = np.sqrt(np.mean(np.abs(ft[:,fR_id])**2)/np.mean(np.abs((ft[:,fR_id-1]+ft[:,fR_id+1])/2)**2)-1)/domega/2\n",
      "IndexError: index 34 is out of bounds for axis 1 with size 34\n"
     ]
    },
    {
     "name": "stdout",
     "output_type": "stream",
     "text": [
      "updater called\n"
     ]
    },
    {
     "name": "stderr",
     "output_type": "stream",
     "text": [
      "Traceback (most recent call last):\n",
      "  File \"C:\\qtlab_replacement\\qsweepy\\fitters\\exp_sin.py\", line 59, in exp_sin_fit\n",
      "    T = np.sqrt(np.mean(np.abs(ft[:,fR_id])**2)/np.mean(np.abs((ft[:,fR_id-1]+ft[:,fR_id+1])/2)**2)-1)/domega/2\n",
      "IndexError: index 35 is out of bounds for axis 1 with size 35\n"
     ]
    },
    {
     "name": "stdout",
     "output_type": "stream",
     "text": [
      "updater called\n"
     ]
    },
    {
     "name": "stderr",
     "output_type": "stream",
     "text": [
      "Traceback (most recent call last):\n",
      "  File \"C:\\qtlab_replacement\\qsweepy\\fitters\\exp_sin.py\", line 59, in exp_sin_fit\n",
      "    T = np.sqrt(np.mean(np.abs(ft[:,fR_id])**2)/np.mean(np.abs((ft[:,fR_id-1]+ft[:,fR_id+1])/2)**2)-1)/domega/2\n",
      "IndexError: index 36 is out of bounds for axis 1 with size 36\n"
     ]
    },
    {
     "name": "stdout",
     "output_type": "stream",
     "text": [
      "updater called\n"
     ]
    },
    {
     "name": "stderr",
     "output_type": "stream",
     "text": [
      "Traceback (most recent call last):\n",
      "  File \"C:\\qtlab_replacement\\qsweepy\\fitters\\exp_sin.py\", line 59, in exp_sin_fit\n",
      "    T = np.sqrt(np.mean(np.abs(ft[:,fR_id])**2)/np.mean(np.abs((ft[:,fR_id-1]+ft[:,fR_id+1])/2)**2)-1)/domega/2\n",
      "IndexError: index 37 is out of bounds for axis 1 with size 37\n"
     ]
    },
    {
     "name": "stdout",
     "output_type": "stream",
     "text": [
      "updater called\n"
     ]
    },
    {
     "name": "stderr",
     "output_type": "stream",
     "text": [
      "Traceback (most recent call last):\n",
      "  File \"C:\\qtlab_replacement\\qsweepy\\fitters\\exp_sin.py\", line 59, in exp_sin_fit\n",
      "    T = np.sqrt(np.mean(np.abs(ft[:,fR_id])**2)/np.mean(np.abs((ft[:,fR_id-1]+ft[:,fR_id+1])/2)**2)-1)/domega/2\n",
      "IndexError: index 38 is out of bounds for axis 1 with size 38\n"
     ]
    },
    {
     "name": "stdout",
     "output_type": "stream",
     "text": [
      "updater called\n"
     ]
    },
    {
     "name": "stderr",
     "output_type": "stream",
     "text": [
      "Traceback (most recent call last):\n",
      "  File \"C:\\qtlab_replacement\\qsweepy\\fitters\\exp_sin.py\", line 59, in exp_sin_fit\n",
      "    T = np.sqrt(np.mean(np.abs(ft[:,fR_id])**2)/np.mean(np.abs((ft[:,fR_id-1]+ft[:,fR_id+1])/2)**2)-1)/domega/2\n",
      "IndexError: index 39 is out of bounds for axis 1 with size 39\n"
     ]
    },
    {
     "name": "stdout",
     "output_type": "stream",
     "text": [
      "updater called\n"
     ]
    },
    {
     "name": "stderr",
     "output_type": "stream",
     "text": [
      "Traceback (most recent call last):\n",
      "  File \"C:\\qtlab_replacement\\qsweepy\\fitters\\exp_sin.py\", line 59, in exp_sin_fit\n",
      "    T = np.sqrt(np.mean(np.abs(ft[:,fR_id])**2)/np.mean(np.abs((ft[:,fR_id-1]+ft[:,fR_id+1])/2)**2)-1)/domega/2\n",
      "IndexError: index 40 is out of bounds for axis 1 with size 40\n"
     ]
    },
    {
     "name": "stdout",
     "output_type": "stream",
     "text": [
      "updater called\n",
      "updater called\n",
      "updater called\n",
      "updater called\n",
      "updater called\n",
      "updater called\n",
      "updater called\n",
      "updater called\n",
      "updater called\n",
      "updater called\n",
      "updater called\n",
      "updater called\n",
      "updater called\n",
      "updater called\n",
      "updater called\n",
      "updater called\n",
      "updater called\n",
      "updater called\n",
      "updater called\n",
      "updater called\n",
      "updater called\n",
      "updater called\n",
      "updater called\n",
      "updater called\n",
      "updater called\n",
      "updater called\n",
      "updater called\n",
      "updater called\n",
      "updater called\n",
      "updater called\n",
      "updater called\n",
      "updater called\n",
      "updater called\n",
      "updater called\n",
      "updater called\n",
      "updater called\n",
      "updater called\n",
      "updater called\n",
      "updater called\n",
      "updater called\n",
      "updater called\n",
      "updater called\n",
      "updater called\n",
      "updater called\n",
      "updater called\n",
      "updater called\n",
      "updater called\n",
      "updater called\n",
      "updater called\n",
      "updater called\n",
      "updater called\n",
      "updater called\n",
      "updater called\n",
      "updater called\n",
      "updater called\n",
      "updater called\n",
      "updater called\n",
      "updater called\n",
      "updater called\n",
      "updater called\n",
      "updater called\n",
      "Waiting to join deferred threads:\n",
      "load_exdir: file open time:  0.0009996891021728516\n",
      "load_exdir: file open time:  0.0019989013671875\n",
      "load_exdir: file open time:  0.0009996891021728516\n",
      "load time:  0.03798198699951172\n",
      "pre_trace_time:  0.0009996891021728516\n",
      "trace 0 time:  0.0139923095703125\n",
      "trace 1 time:  0.0259857177734375\n",
      "trace 2 time:  0.03898024559020996\n",
      "trace 3 time:  0.050974369049072266\n",
      "load_exdir: file open time:  0.0019989013671875\n",
      "load_exdir: file open time:  0.0009992122650146484\n",
      "load_exdir: file open time:  0.0009965896606445312\n",
      "load time:  0.0349888801574707\n",
      "pre_trace_time:  0.000997304916381836\n",
      "trace 0 time:  0.012990236282348633\n",
      "trace 1 time:  0.023983478546142578\n",
      "trace 2 time:  0.03597903251647949\n",
      "trace 3 time:  0.04697775840759277\n"
     ]
    }
   ],
   "source": [
    "from qsweepy.qubit_calibrations import Rabi\n",
    "imp.reload(Rabi)\n",
    "import qsweepy.fitters.exp_sin\n",
    "import qsweepy.fitters.fit_dataset\n",
    "imp.reload(qsweepy.fitters.exp_sin)\n",
    "imp.reload(qsweepy.fitters.fit_dataset)\n",
    "#Rabi.Rabi_rect(device, '1', 'iq_ex1_q1')\n",
    "#lengths = np.linspace(0, 50e-9, 51)\n",
    "amplitudes = Rabi.channel_amplitudes(device, iq_ex1_q1=1.0)\n",
    "rabi_rect_meas_q1 = Rabi.Rabi_rect(device, '1', amplitudes)\n",
    "amplitudes = Rabi.channel_amplitudes(device, iq_ex3_q3=1.0)\n",
    "rabi_rect_meas_q3 = Rabi.Rabi_rect(device, '3', amplitudes)"
   ]
  },
  {
   "cell_type": "code",
   "execution_count": 27,
   "metadata": {
    "ExecuteTime": {
     "end_time": "2019-06-29T19:11:45.837136Z",
     "start_time": "2019-06-29T19:11:45.332377Z"
    }
   },
   "outputs": [
    {
     "name": "stdout",
     "output_type": "stream",
     "text": [
      "load_exdir: file open time:  0.0029785633087158203\n"
     ]
    },
    {
     "data": {
      "text/plain": [
       "((1, 501), (1,), (501,))"
      ]
     },
     "execution_count": 27,
     "metadata": {},
     "output_type": "execute_result"
    }
   ],
   "source": [
    "fit_loaded = save_exdir.load_exdir(rabi_rect_meas_q1.fit.filename, db=db)\n",
    "fit_loaded.datasets['iq1'].data.shape, fit_loaded.datasets['iq1'].parameters[0].values.shape, fit_loaded.datasets['iq1'].parameters[1].values.shape"
   ]
  },
  {
   "cell_type": "code",
   "execution_count": 12,
   "metadata": {
    "ExecuteTime": {
     "end_time": "2019-06-29T18:40:13.602429Z",
     "start_time": "2019-06-29T18:40:13.588435Z"
    }
   },
   "outputs": [
    {
     "name": "stderr",
     "output_type": "stream",
     "text": [
      "Traceback (most recent call last):\n",
      "  File \"C:\\qtlab_replacement\\qsweepy\\fitters\\exp_sin.py\", line 23, in exp_sin_fit\n",
      "    raise ValueError\n",
      "ValueError\n"
     ]
    },
    {
     "data": {
      "text/plain": [
       "{'phi': nan,\n",
       " 'f': nan,\n",
       " 'T': nan,\n",
       " 'inf': nan,\n",
       " 'A': array([nan, nan]),\n",
       " 'MSE_rel': nan,\n",
       " 'num_periods_decay': nan,\n",
       " 'num_periods_scan': nan,\n",
       " 'points_per_period': nan,\n",
       " 'decays_in_scan_length': nan,\n",
       " 'frequency_goodness_test': 0,\n",
       " 'decay_goodness_test': 0}"
      ]
     },
     "execution_count": 12,
     "metadata": {},
     "output_type": "execute_result"
    }
   ],
   "source": [
    "from qsweepy.qubit_calibrations import Rabi\n",
    "import qsweepy.fitters.exp_sin\n",
    "imp.reload(qsweepy.fitters.exp_sin)\n",
    "dataset = rabi_rect_meas_q1.datasets['iq1']\n",
    "data = [np.real(rabi_rect_meas_q1.datasets['iq1'].data), np.imag(rabi_rect_meas_q1.datasets['iq1'].data)]\n",
    "x_fit, y_fit, fitresults = qsweepy.fitters.exp_sin.exp_sin_fit(rabi_rect_meas_q1.datasets['iq1'].parameters[0].values, data)\n",
    "fitresults\n",
    "#imp.reload(Rabi)\n",
    "#dataset, metadata = Rabi.fit_1d_fd(rabi_rect_meas_q1.datasets['iq1'])"
   ]
  },
  {
   "cell_type": "code",
   "execution_count": 9,
   "metadata": {
    "ExecuteTime": {
     "end_time": "2019-06-29T09:46:27.115720Z",
     "start_time": "2019-06-29T09:46:27.089734Z"
    }
   },
   "outputs": [
    {
     "ename": "NameError",
     "evalue": "name 'rabi_rect_meas_q1' is not defined",
     "output_type": "error",
     "traceback": [
      "\u001b[1;31m---------------------------------------------------------------------------\u001b[0m",
      "\u001b[1;31mNameError\u001b[0m                                 Traceback (most recent call last)",
      "\u001b[1;32m<ipython-input-9-9123f2173c3a>\u001b[0m in \u001b[0;36m<module>\u001b[1;34m()\u001b[0m\n\u001b[0;32m      5\u001b[0m \u001b[1;33m\u001b[0m\u001b[0m\n\u001b[0;32m      6\u001b[0m \u001b[1;33m\u001b[0m\u001b[0m\n\u001b[1;32m----> 7\u001b[1;33m \u001b[0mfit_measurement\u001b[0m \u001b[1;33m=\u001b[0m  \u001b[0mqsweepy\u001b[0m\u001b[1;33m.\u001b[0m\u001b[0mfitters\u001b[0m\u001b[1;33m.\u001b[0m\u001b[0mfit_dataset\u001b[0m\u001b[1;33m.\u001b[0m\u001b[0mfit_dataset\u001b[0m\u001b[1;33m(\u001b[0m\u001b[0mrabi_rect_meas_q1\u001b[0m\u001b[1;33m,\u001b[0m \u001b[1;34m'iq1'\u001b[0m\u001b[1;33m,\u001b[0m \u001b[0mqsweepy\u001b[0m\u001b[1;33m.\u001b[0m\u001b[0mfitters\u001b[0m\u001b[1;33m.\u001b[0m\u001b[0mexp_sin\u001b[0m\u001b[1;33m.\u001b[0m\u001b[0mexp_sin_fitter\u001b[0m\u001b[1;33m(\u001b[0m\u001b[1;33m)\u001b[0m\u001b[1;33m,\u001b[0m \u001b[0msweep_parameter_ids\u001b[0m\u001b[1;33m=\u001b[0m\u001b[1;33m[\u001b[0m\u001b[1;36m0\u001b[0m\u001b[1;33m]\u001b[0m\u001b[1;33m)\u001b[0m\u001b[1;33m\u001b[0m\u001b[0m\n\u001b[0m\u001b[0;32m      8\u001b[0m \u001b[1;31m#rabi_rect_meas_q1.update_fit(rabi_rect_meas_q1, None)\u001b[0m\u001b[1;33m\u001b[0m\u001b[1;33m\u001b[0m\u001b[0m\n\u001b[0;32m      9\u001b[0m \u001b[0mfit_measurement\u001b[0m\u001b[1;33m\u001b[0m\u001b[0m\n",
      "\u001b[1;31mNameError\u001b[0m: name 'rabi_rect_meas_q1' is not defined"
     ]
    }
   ],
   "source": [
    "import qsweepy.fitters.exp_sin\n",
    "import qsweepy.fitters.fit_dataset\n",
    "imp.reload(qsweepy.fitters.exp_sin)\n",
    "imp.reload(qsweepy.fitters.fit_dataset)\n",
    "\n",
    "\n",
    "fit_measurement =  qsweepy.fitters.fit_dataset.fit_dataset(rabi_rect_meas_q1, 'iq1', qsweepy.fitters.exp_sin.exp_sin_fitter(), sweep_parameter_ids=[0])\n",
    "#rabi_rect_meas_q1.update_fit(rabi_rect_meas_q1, None)\n",
    "fit_measurement"
   ]
  },
  {
   "cell_type": "code",
   "execution_count": 106,
   "metadata": {
    "ExecuteTime": {
     "end_time": "2019-06-28T16:00:20.584595Z",
     "start_time": "2019-06-28T16:00:20.578576Z"
    }
   },
   "outputs": [
    {
     "data": {
      "text/plain": [
       "5000"
      ]
     },
     "execution_count": 106,
     "metadata": {},
     "output_type": "execute_result"
    }
   ],
   "source": [
    "hardware.adc.get_nums()"
   ]
  },
  {
   "cell_type": "code",
   "execution_count": 10,
   "metadata": {
    "ExecuteTime": {
     "end_time": "2019-06-29T17:51:50.716612Z",
     "start_time": "2019-06-29T17:51:49.554138Z"
    }
   },
   "outputs": [
    {
     "ename": "ValueError",
     "evalue": "x and y must have same first dimension, but have shapes (501,) and (51,)",
     "output_type": "error",
     "traceback": [
      "\u001b[1;31m---------------------------------------------------------------------------\u001b[0m",
      "\u001b[1;31mValueError\u001b[0m                                Traceback (most recent call last)",
      "\u001b[1;32m<ipython-input-10-7bb7eb556f6f>\u001b[0m in \u001b[0;36m<module>\u001b[1;34m()\u001b[0m\n\u001b[0;32m      9\u001b[0m \u001b[0mfit_x\u001b[0m \u001b[1;33m=\u001b[0m \u001b[0mrabi_rect_meas_q1\u001b[0m\u001b[1;33m.\u001b[0m\u001b[0mfit\u001b[0m\u001b[1;33m.\u001b[0m\u001b[0mdatasets\u001b[0m\u001b[1;33m[\u001b[0m\u001b[1;34m'iq1'\u001b[0m\u001b[1;33m]\u001b[0m\u001b[1;33m.\u001b[0m\u001b[0mparameters\u001b[0m\u001b[1;33m[\u001b[0m\u001b[1;36m1\u001b[0m\u001b[1;33m]\u001b[0m\u001b[1;33m.\u001b[0m\u001b[0mvalues\u001b[0m\u001b[1;33m\u001b[0m\u001b[0m\n\u001b[0;32m     10\u001b[0m \u001b[0mfit_y\u001b[0m \u001b[1;33m=\u001b[0m \u001b[0mrabi_rect_meas_q1\u001b[0m\u001b[1;33m.\u001b[0m\u001b[0mfit\u001b[0m\u001b[1;33m.\u001b[0m\u001b[0mdatasets\u001b[0m\u001b[1;33m[\u001b[0m\u001b[1;34m'iq1'\u001b[0m\u001b[1;33m]\u001b[0m\u001b[1;33m.\u001b[0m\u001b[0mdata\u001b[0m\u001b[1;33m[\u001b[0m\u001b[1;36m0\u001b[0m\u001b[1;33m,\u001b[0m\u001b[1;33m:\u001b[0m\u001b[1;33m]\u001b[0m\u001b[1;33m\u001b[0m\u001b[0m\n\u001b[1;32m---> 11\u001b[1;33m \u001b[0mplt\u001b[0m\u001b[1;33m.\u001b[0m\u001b[0mplot\u001b[0m\u001b[1;33m(\u001b[0m\u001b[0mrabi_rect_meas_q1\u001b[0m\u001b[1;33m.\u001b[0m\u001b[0mdatasets\u001b[0m\u001b[1;33m[\u001b[0m\u001b[1;34m'iq1'\u001b[0m\u001b[1;33m]\u001b[0m\u001b[1;33m.\u001b[0m\u001b[0mparameters\u001b[0m\u001b[1;33m[\u001b[0m\u001b[1;36m1\u001b[0m\u001b[1;33m]\u001b[0m\u001b[1;33m.\u001b[0m\u001b[0mvalues\u001b[0m\u001b[1;33m,\u001b[0m \u001b[0mnp\u001b[0m\u001b[1;33m.\u001b[0m\u001b[0mreal\u001b[0m\u001b[1;33m(\u001b[0m\u001b[0mrabi_rect_meas_q1\u001b[0m\u001b[1;33m.\u001b[0m\u001b[0mdatasets\u001b[0m\u001b[1;33m[\u001b[0m\u001b[1;34m'iq1'\u001b[0m\u001b[1;33m]\u001b[0m\u001b[1;33m.\u001b[0m\u001b[0mdata\u001b[0m\u001b[1;33m[\u001b[0m\u001b[1;36m0\u001b[0m\u001b[1;33m,\u001b[0m\u001b[1;33m:\u001b[0m\u001b[1;33m]\u001b[0m\u001b[1;33m)\u001b[0m\u001b[1;33m)\u001b[0m\u001b[1;33m\u001b[0m\u001b[0m\n\u001b[0m\u001b[0;32m     12\u001b[0m \u001b[0mplt\u001b[0m\u001b[1;33m.\u001b[0m\u001b[0mplot\u001b[0m\u001b[1;33m(\u001b[0m\u001b[0mfit_x\u001b[0m\u001b[1;33m,\u001b[0m \u001b[0mnp\u001b[0m\u001b[1;33m.\u001b[0m\u001b[0mreal\u001b[0m\u001b[1;33m(\u001b[0m\u001b[0mfit_y\u001b[0m\u001b[1;33m)\u001b[0m\u001b[1;33m)\u001b[0m\u001b[1;33m\u001b[0m\u001b[0m\n\u001b[0;32m     13\u001b[0m \u001b[1;33m\u001b[0m\u001b[0m\n",
      "\u001b[1;32mC:\\ProgramData\\Anaconda3\\lib\\site-packages\\matplotlib\\pyplot.py\u001b[0m in \u001b[0;36mplot\u001b[1;34m(scalex, scaley, data, *args, **kwargs)\u001b[0m\n\u001b[0;32m   2811\u001b[0m     return gca().plot(\n\u001b[0;32m   2812\u001b[0m         *args, scalex=scalex, scaley=scaley, **({\"data\": data} if data\n\u001b[1;32m-> 2813\u001b[1;33m         is not None else {}), **kwargs)\n\u001b[0m\u001b[0;32m   2814\u001b[0m \u001b[1;33m\u001b[0m\u001b[0m\n\u001b[0;32m   2815\u001b[0m \u001b[1;33m\u001b[0m\u001b[0m\n",
      "\u001b[1;32mC:\\ProgramData\\Anaconda3\\lib\\site-packages\\matplotlib\\__init__.py\u001b[0m in \u001b[0;36minner\u001b[1;34m(ax, data, *args, **kwargs)\u001b[0m\n\u001b[0;32m   1803\u001b[0m                         \u001b[1;34m\"the Matplotlib list!)\"\u001b[0m \u001b[1;33m%\u001b[0m \u001b[1;33m(\u001b[0m\u001b[0mlabel_namer\u001b[0m\u001b[1;33m,\u001b[0m \u001b[0mfunc\u001b[0m\u001b[1;33m.\u001b[0m\u001b[0m__name__\u001b[0m\u001b[1;33m)\u001b[0m\u001b[1;33m,\u001b[0m\u001b[1;33m\u001b[0m\u001b[0m\n\u001b[0;32m   1804\u001b[0m                         RuntimeWarning, stacklevel=2)\n\u001b[1;32m-> 1805\u001b[1;33m             \u001b[1;32mreturn\u001b[0m \u001b[0mfunc\u001b[0m\u001b[1;33m(\u001b[0m\u001b[0max\u001b[0m\u001b[1;33m,\u001b[0m \u001b[1;33m*\u001b[0m\u001b[0margs\u001b[0m\u001b[1;33m,\u001b[0m \u001b[1;33m**\u001b[0m\u001b[0mkwargs\u001b[0m\u001b[1;33m)\u001b[0m\u001b[1;33m\u001b[0m\u001b[0m\n\u001b[0m\u001b[0;32m   1806\u001b[0m \u001b[1;33m\u001b[0m\u001b[0m\n\u001b[0;32m   1807\u001b[0m         inner.__doc__ = _add_data_doc(inner.__doc__,\n",
      "\u001b[1;32mC:\\ProgramData\\Anaconda3\\lib\\site-packages\\matplotlib\\axes\\_axes.py\u001b[0m in \u001b[0;36mplot\u001b[1;34m(self, scalex, scaley, *args, **kwargs)\u001b[0m\n\u001b[0;32m   1601\u001b[0m         \u001b[0mkwargs\u001b[0m \u001b[1;33m=\u001b[0m \u001b[0mcbook\u001b[0m\u001b[1;33m.\u001b[0m\u001b[0mnormalize_kwargs\u001b[0m\u001b[1;33m(\u001b[0m\u001b[0mkwargs\u001b[0m\u001b[1;33m,\u001b[0m \u001b[0mmlines\u001b[0m\u001b[1;33m.\u001b[0m\u001b[0mLine2D\u001b[0m\u001b[1;33m.\u001b[0m\u001b[0m_alias_map\u001b[0m\u001b[1;33m)\u001b[0m\u001b[1;33m\u001b[0m\u001b[0m\n\u001b[0;32m   1602\u001b[0m \u001b[1;33m\u001b[0m\u001b[0m\n\u001b[1;32m-> 1603\u001b[1;33m         \u001b[1;32mfor\u001b[0m \u001b[0mline\u001b[0m \u001b[1;32min\u001b[0m \u001b[0mself\u001b[0m\u001b[1;33m.\u001b[0m\u001b[0m_get_lines\u001b[0m\u001b[1;33m(\u001b[0m\u001b[1;33m*\u001b[0m\u001b[0margs\u001b[0m\u001b[1;33m,\u001b[0m \u001b[1;33m**\u001b[0m\u001b[0mkwargs\u001b[0m\u001b[1;33m)\u001b[0m\u001b[1;33m:\u001b[0m\u001b[1;33m\u001b[0m\u001b[0m\n\u001b[0m\u001b[0;32m   1604\u001b[0m             \u001b[0mself\u001b[0m\u001b[1;33m.\u001b[0m\u001b[0madd_line\u001b[0m\u001b[1;33m(\u001b[0m\u001b[0mline\u001b[0m\u001b[1;33m)\u001b[0m\u001b[1;33m\u001b[0m\u001b[0m\n\u001b[0;32m   1605\u001b[0m             \u001b[0mlines\u001b[0m\u001b[1;33m.\u001b[0m\u001b[0mappend\u001b[0m\u001b[1;33m(\u001b[0m\u001b[0mline\u001b[0m\u001b[1;33m)\u001b[0m\u001b[1;33m\u001b[0m\u001b[0m\n",
      "\u001b[1;32mC:\\ProgramData\\Anaconda3\\lib\\site-packages\\matplotlib\\axes\\_base.py\u001b[0m in \u001b[0;36m_grab_next_args\u001b[1;34m(self, *args, **kwargs)\u001b[0m\n\u001b[0;32m    391\u001b[0m                 \u001b[0mthis\u001b[0m \u001b[1;33m+=\u001b[0m \u001b[0margs\u001b[0m\u001b[1;33m[\u001b[0m\u001b[1;36m0\u001b[0m\u001b[1;33m]\u001b[0m\u001b[1;33m,\u001b[0m\u001b[1;33m\u001b[0m\u001b[0m\n\u001b[0;32m    392\u001b[0m                 \u001b[0margs\u001b[0m \u001b[1;33m=\u001b[0m \u001b[0margs\u001b[0m\u001b[1;33m[\u001b[0m\u001b[1;36m1\u001b[0m\u001b[1;33m:\u001b[0m\u001b[1;33m]\u001b[0m\u001b[1;33m\u001b[0m\u001b[0m\n\u001b[1;32m--> 393\u001b[1;33m             \u001b[1;32myield\u001b[0m \u001b[1;32mfrom\u001b[0m \u001b[0mself\u001b[0m\u001b[1;33m.\u001b[0m\u001b[0m_plot_args\u001b[0m\u001b[1;33m(\u001b[0m\u001b[0mthis\u001b[0m\u001b[1;33m,\u001b[0m \u001b[0mkwargs\u001b[0m\u001b[1;33m)\u001b[0m\u001b[1;33m\u001b[0m\u001b[0m\n\u001b[0m\u001b[0;32m    394\u001b[0m \u001b[1;33m\u001b[0m\u001b[0m\n\u001b[0;32m    395\u001b[0m \u001b[1;33m\u001b[0m\u001b[0m\n",
      "\u001b[1;32mC:\\ProgramData\\Anaconda3\\lib\\site-packages\\matplotlib\\axes\\_base.py\u001b[0m in \u001b[0;36m_plot_args\u001b[1;34m(self, tup, kwargs)\u001b[0m\n\u001b[0;32m    368\u001b[0m             \u001b[0mx\u001b[0m\u001b[1;33m,\u001b[0m \u001b[0my\u001b[0m \u001b[1;33m=\u001b[0m \u001b[0mindex_of\u001b[0m\u001b[1;33m(\u001b[0m\u001b[0mtup\u001b[0m\u001b[1;33m[\u001b[0m\u001b[1;33m-\u001b[0m\u001b[1;36m1\u001b[0m\u001b[1;33m]\u001b[0m\u001b[1;33m)\u001b[0m\u001b[1;33m\u001b[0m\u001b[0m\n\u001b[0;32m    369\u001b[0m \u001b[1;33m\u001b[0m\u001b[0m\n\u001b[1;32m--> 370\u001b[1;33m         \u001b[0mx\u001b[0m\u001b[1;33m,\u001b[0m \u001b[0my\u001b[0m \u001b[1;33m=\u001b[0m \u001b[0mself\u001b[0m\u001b[1;33m.\u001b[0m\u001b[0m_xy_from_xy\u001b[0m\u001b[1;33m(\u001b[0m\u001b[0mx\u001b[0m\u001b[1;33m,\u001b[0m \u001b[0my\u001b[0m\u001b[1;33m)\u001b[0m\u001b[1;33m\u001b[0m\u001b[0m\n\u001b[0m\u001b[0;32m    371\u001b[0m \u001b[1;33m\u001b[0m\u001b[0m\n\u001b[0;32m    372\u001b[0m         \u001b[1;32mif\u001b[0m \u001b[0mself\u001b[0m\u001b[1;33m.\u001b[0m\u001b[0mcommand\u001b[0m \u001b[1;33m==\u001b[0m \u001b[1;34m'plot'\u001b[0m\u001b[1;33m:\u001b[0m\u001b[1;33m\u001b[0m\u001b[0m\n",
      "\u001b[1;32mC:\\ProgramData\\Anaconda3\\lib\\site-packages\\matplotlib\\axes\\_base.py\u001b[0m in \u001b[0;36m_xy_from_xy\u001b[1;34m(self, x, y)\u001b[0m\n\u001b[0;32m    229\u001b[0m         \u001b[1;32mif\u001b[0m \u001b[0mx\u001b[0m\u001b[1;33m.\u001b[0m\u001b[0mshape\u001b[0m\u001b[1;33m[\u001b[0m\u001b[1;36m0\u001b[0m\u001b[1;33m]\u001b[0m \u001b[1;33m!=\u001b[0m \u001b[0my\u001b[0m\u001b[1;33m.\u001b[0m\u001b[0mshape\u001b[0m\u001b[1;33m[\u001b[0m\u001b[1;36m0\u001b[0m\u001b[1;33m]\u001b[0m\u001b[1;33m:\u001b[0m\u001b[1;33m\u001b[0m\u001b[0m\n\u001b[0;32m    230\u001b[0m             raise ValueError(\"x and y must have same first dimension, but \"\n\u001b[1;32m--> 231\u001b[1;33m                              \"have shapes {} and {}\".format(x.shape, y.shape))\n\u001b[0m\u001b[0;32m    232\u001b[0m         \u001b[1;32mif\u001b[0m \u001b[0mx\u001b[0m\u001b[1;33m.\u001b[0m\u001b[0mndim\u001b[0m \u001b[1;33m>\u001b[0m \u001b[1;36m2\u001b[0m \u001b[1;32mor\u001b[0m \u001b[0my\u001b[0m\u001b[1;33m.\u001b[0m\u001b[0mndim\u001b[0m \u001b[1;33m>\u001b[0m \u001b[1;36m2\u001b[0m\u001b[1;33m:\u001b[0m\u001b[1;33m\u001b[0m\u001b[0m\n\u001b[0;32m    233\u001b[0m             raise ValueError(\"x and y can be no greater than 2-D, but have \"\n",
      "\u001b[1;31mValueError\u001b[0m: x and y must have same first dimension, but have shapes (501,) and (51,)"
     ]
    }
   ],
   "source": [
    "from matplotlib import pyplot as plt\n",
    "%matplotlib qt5\n",
    "plt.figure()\n",
    "#plt.plot(dataset.parameters[0].values, dataset.data)\n",
    "#plt.plot(rabi_rect_meas_q1.datasets['iq1'].parameters[0].values, rabi_rect_meas_q1.datasets['iq1'].data)\n",
    "#plt.figure()\n",
    "#plt.plot(dataset.parameters[0].values, np.imag(dataset.data))\n",
    "#plt.plot(rabi_rect_meas_q1.datasets['iq1'].parameters[0].values, np.imag(rabi_rect_meas_q1.datasets['iq1'].data))\n",
    "fit_x = rabi_rect_meas_q1.fit.datasets['iq1'].parameters[1].values\n",
    "fit_y = rabi_rect_meas_q1.fit.datasets['iq1'].data[0,:]\n",
    "plt.plot(rabi_rect_meas_q1.datasets['iq1'].parameters[1].values, np.real(rabi_rect_meas_q1.datasets['iq1'].data[0,:]))\n",
    "plt.plot(fit_x, np.real(fit_y))\n",
    "\n",
    "plt.figure()\n",
    "plt.plot(rabi_rect_meas_q1.datasets['iq1'].parameters[1].values, np.imag(rabi_rect_meas_q1.datasets['iq1'].data[0,:]))\n",
    "plt.plot(fit_x, np.imag(fit_y))"
   ]
  },
  {
   "cell_type": "markdown",
   "metadata": {},
   "source": [
    "## Прохождение считывающих импульсов разной амплитуды"
   ]
  },
  {
   "cell_type": "code",
   "execution_count": null,
   "metadata": {
    "ExecuteTime": {
     "start_time": "2019-06-24T16:04:07.164Z"
    },
    "scrolled": true
   },
   "outputs": [
    {
     "name": "stdout",
     "output_type": "stream",
     "text": [
      "Inserting references: {}\n"
     ]
    },
    {
     "name": "stderr",
     "output_type": "stream",
     "text": [
      "C:\\qtlab_replacement\\qsweepy\\instrument_drivers\\Tektronix_AWG5014.py:651: ComplexWarning:\n",
      "\n",
      "Casting complex values to real discards the imaginary part\n",
      "\n",
      "C:\\ProgramData\\Anaconda3\\lib\\site-packages\\pyvisa\\resources\\messagebased.py:573: FutureWarning:\n",
      "\n",
      "ask is deprecated and will be removed in 1.10, use query instead.\n",
      "\n"
     ]
    },
    {
     "name": "stdout",
     "output_type": "stream",
     "text": [
      "Waiting to join deferred threads:\n",
      "load_exdir: file open time:  0.0049974918365478516\n",
      "load_exdir: file open time:  0.0019981861114501953\n",
      "load_exdir: file open time:  0.001997709274291992\n",
      "load time:  0.14395475387573242\n",
      "pre_trace_time:  0.007994890213012695\n",
      "trace 0 time:  0.033985137939453125\n",
      "trace 1 time:  0.059972286224365234\n",
      "trace 2 time:  0.10994672775268555\n"
     ]
    },
    {
     "name": "stderr",
     "output_type": "stream",
     "text": [
      "C:\\ProgramData\\Anaconda3\\lib\\site-packages\\numpy\\core\\memmap.py:335: FutureWarning:\n",
      "\n",
      "Using a non-tuple sequence for multidimensional indexing is deprecated; use `arr[tuple(seq)]` instead of `arr[seq]`. In the future this will be interpreted as an array index, `arr[np.array(seq)]`, which will result either in an error or a different result.\n",
      "\n"
     ]
    },
    {
     "name": "stdout",
     "output_type": "stream",
     "text": [
      "trace 3 time:  0.2048783302307129\n",
      "trace 4 time:  0.22386932373046875\n",
      "trace 5 time:  0.2428598403930664\n",
      "trace 6 time:  0.25785255432128906\n",
      "trace 7 time:  0.27184581756591797\n",
      "trace 8 time:  0.2848398685455322\n",
      "trace 9 time:  0.2978332042694092\n",
      "trace 10 time:  0.31882309913635254\n",
      "trace 11 time:  0.33281660079956055\n",
      "trace 12 time:  0.38279247283935547\n",
      "Inserting references: {}\n",
      "Waiting to join deferred threads:\n",
      "load_exdir: file open time:  0.0049970149993896484\n",
      "load_exdir: file open time:  0.0009987354278564453\n",
      "load_exdir: file open time:  0.0019915103912353516\n",
      "load time:  0.13493847846984863\n",
      "pre_trace_time:  0.002977609634399414\n",
      "trace 0 time:  0.026007890701293945\n",
      "trace 1 time:  0.04999589920043945\n",
      "trace 2 time:  0.10295629501342773\n",
      "trace 3 time:  0.1929035186767578\n",
      "trace 4 time:  0.20689630508422852\n",
      "trace 5 time:  0.22788667678833008\n",
      "trace 6 time:  0.24088072776794434\n",
      "trace 7 time:  0.2538740634918213\n",
      "trace 8 time:  0.2658686637878418\n",
      "trace 9 time:  0.2798616886138916\n",
      "trace 10 time:  0.29885292053222656\n",
      "trace 11 time:  0.3118467330932617\n",
      "trace 12 time:  0.3428316116333008\n"
     ]
    }
   ],
   "source": [
    "#%%mprun -f sweep.sweep\n",
    "imp.reload(sweep)\n",
    "imp.reload(plotting)\n",
    "for _qubit_id in ['1', '3']:\n",
    "    #for coil_channel_id, channel_voltage in qubits[_qubit_id]['q']['P']['Fmin_coil_currents'].items():\n",
    "    #    dac.set_voltage(channel_voltage, channel=nndac_channel_id)\n",
    "    #    coil_device.set_offset(channel_voltage, channel=coil_channel_id)\n",
    "    mean_sample = data_reduce.data_reduce(hardware.adc)\n",
    "    #print (dir(mean_sample))\n",
    "    #del mean_sample.measure_deferred_result\n",
    "    mean_sample.filters['Mean_Voltage_AC'] = data_reduce.mean_reducer_noavg(hardware.adc, 'Voltage', 0)\n",
    "\n",
    "    mean_sample.filters['S21p'] = data_reduce.mean_reducer_freq(hardware.adc, 'Voltage', 0, hardware.iq_devices['iq_ro'].carriers['iq_ro_q{}'.format(_qubit_id)].get_if())\n",
    "    mean_sample.filters['S21m'] = data_reduce.mean_reducer_freq(hardware.adc, 'Voltage', 0, -hardware.iq_devices['iq_ro'].carriers['iq_ro_q{}'.format(_qubit_id)].get_if())\n",
    "    # # Этот измеритель мы как правило используем когда точек не слишком много и все результаты его жизнедеятельности как правило \n",
    "    # # выглядят как ломаные. Чтобы было красиво, давайте лучше сделаем точки (а кривые потом получим фитованые)\n",
    "    mean_sample.extra_opts['scatter'] = True\n",
    "\n",
    "    #awg.check_cached = True\n",
    "\n",
    "    mean_sample.filters['Std_Voltage_AC'] = data_reduce.std_reducer_noavg(hardware.adc, 'Voltage', 0, 1)\n",
    "    def set_pulse_amplitude(x):\n",
    "        #awg_tek.set_nop(awg_tek.get_clock()/rep_rate)\n",
    "        device.pg.set_seq(device.trigger_readout_seq+[device.pg.p('iq_ro_q{}'.format(_qubit_id), readout_length, device.pg.rect, x)])\n",
    "        #awg_tek.run()\n",
    "    measurement = sweeper.sweep(mean_sample, \n",
    "                            (np.linspace(0.00, 0.1, 21), set_pulse_amplitude, 'dac_amp'), \n",
    "                            measurement_type='readout_passthrough',\n",
    "                            metadata={'qubit_id':_qubit_id})\n",
    "    del mean_sample.filters['Std_Voltage_AC']"
   ]
  },
  {
   "cell_type": "code",
   "execution_count": null,
   "metadata": {},
   "outputs": [],
   "source": [
    "zero_response = measurement['Mean_Voltage_AC'][2][0,:]\n",
    "drive_amplitudes = measurement['Mean_Voltage_AC'][1][0][1:]\n",
    "signal = measurement['Mean_Voltage_AC'][2][1:,:]\n",
    "noise = measurement['Std_Voltage_AC'][2][1:,:]\n",
    "error = noise/np.sqrt(adc.get_nums())\n",
    "signal_overlap = np.sum(np.conj(signal[0,:])*signal[1:,:], axis=1)/drive_amplitudes[1:]\n",
    "signal_overlap_estimate = np.real(signal_overlap[0])\n",
    "signal_overlap_error = 0.5*np.sqrt(np.sum((np.abs(signal[1:,:])*error[0,:])**2, axis=1)+np.sum((np.abs(signal[0,:])*error[1:,:])**2,axis=1))/drive_amplitudes[1:]\n",
    "#signal_overlap_estimate = (np.sum(np.abs(signal[0,:])**2) - np.sum(error[0,:]*np.abs(signal[0,:]))-np.sum(np.abs(error[0,:])**2))/drive_amplitudes[0]\n",
    "#plt.figure()\n",
    "#plt.plot(np.real(signal_overlap))\n",
    "#plt.plot(np.sum(noise**2, axis=1)/adc.get_nums())\n",
    "#plt.plot(signal_overlap_error)\n",
    "compression = 10*np.log10(np.real(signal_overlap)/np.real(signal_overlap_estimate))\n",
    "db_compression_point = np.argmax(10*np.log10(np.real(signal_overlap)/np.real(signal_overlap_estimate))<-1+10*np.log10(1-signal_overlap_error/signal_overlap_estimate))\n",
    "#10*np.log10(np.real(signal_overlap)/np.real(signal_overlap_estimate)),-1+10*np.log10(1-signal_overlap_error/signal_overlap_estimate)\n",
    "#10*np.log10(np.real(signal_overlap)/np.real(signal_overlap_estimate))<-1+10*np.log10(1-signal_overlap_error/signal_overlap_estimate)\n",
    "if np.any(db_compression_point):\n",
    "    ro_amplitude = drive_amplitudes[db_compression_point+1]\n",
    "else:\n",
    "    ro_amplitude = drive_amplitudes[-1]\n",
    "print(\"Readout amplitude:\",ro_amplitude)    "
   ]
  },
  {
   "cell_type": "code",
   "execution_count": null,
   "metadata": {},
   "outputs": [],
   "source": [
    "plt.figure('Компрессия считывающего импульса')\n",
    "plt.plot(drive_amplitudes[1:], compression)\n",
    "plt.xlabel('Амплитуда считывания')\n",
    "plt.ylabel('Компрессия, дБ')"
   ]
  },
  {
   "cell_type": "code",
   "execution_count": 235,
   "metadata": {
    "ExecuteTime": {
     "end_time": "2019-06-19T15:39:59.323137Z",
     "start_time": "2019-06-19T15:39:59.320136Z"
    }
   },
   "outputs": [],
   "source": [
    "ro_amplitude = 0.015\n"
   ]
  },
  {
   "cell_type": "code",
   "execution_count": 22,
   "metadata": {},
   "outputs": [
    {
     "ename": "NameError",
     "evalue": "name 'ro_adc_length' is not defined",
     "output_type": "error",
     "traceback": [
      "\u001b[1;31m---------------------------------------------------------------------------\u001b[0m",
      "\u001b[1;31mNameError\u001b[0m                                 Traceback (most recent call last)",
      "\u001b[1;32m<ipython-input-22-586b7025116a>\u001b[0m in \u001b[0;36m<module>\u001b[1;34m()\u001b[0m\n\u001b[1;32m----> 1\u001b[1;33m ro_parameters = {\"adc_len\":ro_adc_length,'dac_len': ro_dac_length,'amp': ro_amplitude,'adc nums':adc.get_nums(),\n\u001b[0m\u001b[0;32m      2\u001b[0m                 'trg_length':trg_length}\n\u001b[0;32m      3\u001b[0m \u001b[0mqjson\u001b[0m\u001b[1;33m.\u001b[0m\u001b[0mdump\u001b[0m\u001b[1;33m(\u001b[0m\u001b[1;34m\"setups\"\u001b[0m\u001b[1;33m,\u001b[0m\u001b[1;34m\"readout\"\u001b[0m\u001b[1;33m,\u001b[0m\u001b[0mro_parameters\u001b[0m\u001b[1;33m)\u001b[0m\u001b[1;33m\u001b[0m\u001b[0m\n",
      "\u001b[1;31mNameError\u001b[0m: name 'ro_adc_length' is not defined"
     ]
    }
   ],
   "source": [
    "ro_parameters = {\"adc_len\":ro_adc_length,'dac_len': ro_dac_length,'amp': ro_amplitude,'adc nums':adc.get_nums(),\n",
    "                'trg_length':trg_length}\n",
    "qjson.dump(\"setups\",\"readout\",ro_parameters)"
   ]
  },
  {
   "cell_type": "code",
   "execution_count": 236,
   "metadata": {
    "ExecuteTime": {
     "end_time": "2019-06-19T15:41:29.642729Z",
     "start_time": "2019-06-19T15:41:29.638706Z"
    }
   },
   "outputs": [],
   "source": [
    "readout_pulse = [   pg.pmulti(ro_dac_length, \n",
    "                            ('iq_ro_q1', pg.rect, ro_amplitude),\n",
    "#                             ('iq_ro_q2', pg.rect, ro_amplitude), \n",
    "                            ('iq_ro_q3', pg.rect, ro_amplitude),\n",
    "                  #          ('dc_coil', pg.rect, 0.86)\n",
    "                           ),]"
   ]
  },
  {
   "cell_type": "markdown",
   "metadata": {},
   "source": [
    "# Раби+Рамзи"
   ]
  },
  {
   "cell_type": "code",
   "execution_count": null,
   "metadata": {
    "ExecuteTime": {
     "end_time": "2019-06-19T15:39:49.192677Z",
     "start_time": "2019-06-19T15:38:51.787Z"
    }
   },
   "outputs": [],
   "source": [
    "#working_point = [0.494, 0.30, -0.525]\n",
    "#working_point = [0.504, 0, -0.440]\n",
    "#working_point = [0.504,0.125,-0.502]\n",
    "#coil_voltages = np.dot(np.linalg.inv(L_mat), -np.asarray(phi0_vec)+working_point)\n",
    "#for coil_id, coil_voltage in enumerate(coil_voltages):\n",
    " #   coil_device.set_voltage(coil_voltage, channel=coil_control_channels[coil_id])\n",
    "#dac.set_voltage(0, channel=23)\n",
    "#awg_tek.set_offset(-0.86, channel=3)\n",
    "awg_tek.set_offset(0, channel=4)"
   ]
  },
  {
   "cell_type": "code",
   "execution_count": null,
   "metadata": {
    "ExecuteTime": {
     "end_time": "2019-06-19T15:39:49.193701Z",
     "start_time": "2019-06-19T15:38:52.043Z"
    }
   },
   "outputs": [],
   "source": [
    "imp.reload(qsweepy)\n",
    "from qsweepy import*"
   ]
  },
  {
   "cell_type": "code",
   "execution_count": null,
   "metadata": {
    "ExecuteTime": {
     "end_time": "2019-06-19T15:39:49.194704Z",
     "start_time": "2019-06-19T15:38:52.594Z"
    }
   },
   "outputs": [],
   "source": [
    "import qsweepy.qjson as pqjson\n",
    "imp.reload(two_level)\n",
    "imp.reload(sweep_extras)\n",
    "imp.reload(sweep)\n",
    "import qsweepy.two_level as dyn\n",
    "imp.reload(dyn)\n",
    "imp.reload(qjson)\n",
    "imp.reload(data_reduce)\n",
    "imp.reload(plotting)\n",
    "imp.reload(fitting)\n",
    "imp.reload(sweep)\n",
    "imp.reload(pulses)\n",
    "imp.reload(diff_readout)"
   ]
  },
  {
   "cell_type": "code",
   "execution_count": 65,
   "metadata": {},
   "outputs": [],
   "source": [
    "class qubit_device:\n",
    "    def __init__(self):\n",
    "        pass\n",
    "#    def set_global_readout_pulse()\n",
    "#        #self.trigger_readout_seq = trigger_readout_seq\n",
    "qubit_device_inst = qubit_device()\n",
    "qubit_device_inst.trigger_readout_seq = trigger_readout_seq\n",
    "qubit_device_inst.pulses = pg\n",
    "qubit_device_inst.global_readout_pulse = (trigger_readout_seq+readout_pulse)\n",
    "qubit_device_inst.sample_name = sample_name\n",
    "#qubit_device_inst.exdir_db = exdir_db_inst"
   ]
  },
  {
   "cell_type": "code",
   "execution_count": null,
   "metadata": {},
   "outputs": [],
   "source": []
  },
  {
   "cell_type": "code",
   "execution_count": null,
   "metadata": {
    "ExecuteTime": {
     "end_time": "2019-06-19T15:39:49.195706Z",
     "start_time": "2019-06-19T15:39:34.282Z"
    }
   },
   "outputs": [],
   "source": [
    "#class rect_multiplexed_readout_pulse:\n",
    "#    def __init__(self, settings, exdir_db):\n",
    "#        pass\n",
    "#    def select(self):\n",
    "#        \n",
    "#        settings = {''}\n",
    "#        pass"
   ]
  },
  {
   "cell_type": "code",
   "execution_count": 63,
   "metadata": {},
   "outputs": [],
   "source": [
    "class single_transmon:\n",
    "    def __init__(self, ro_devices_and_channels, name, parent, exdir_db):#sample_name, readout_pulse, exdir_db):\n",
    "        self.ro_devices_and_channels = ro_devices_and_channels\n",
    "        self.name = name\n",
    "        self.parent = parent\n",
    "        #self.sample_name = sample_name\n",
    "        self.exdir_db = exdir_db\n",
    "        #self.readout_pulse = readout_pulse\n",
    "        #self.\n",
    "    def calibrate_ro_bg(self, num_averages=10):\n",
    "        ro_bgs = []\n",
    "        result = {}\n",
    "        for ro_device_and_channels in self.ro_devices_and_channels:\n",
    "            ro_device = ro_device_and_channels['device']\n",
    "            ro_channels = ro_device_and_channels['channels']\n",
    "            for take_id in range(num_averages):\n",
    "                ro_bgs.append(ro_device.measure())\n",
    "\n",
    "            for ro_channel in ro_channels:\n",
    "                result['ro_bg_mean_'+ro_channel] = np.mean([i[ro_channel] for i in ro_bgs])\n",
    "                result['ro_bg_std_'+ro_channel] = np.std([i[ro_channel] for i in ro_bgs])\n",
    "                result['ro_bg_error_'+ro_channel] = np.std([i[ro_channel] for i in ro_bgs])/np.sqrt(num_averages-2)\n",
    "\n",
    "        result['qubit_id'] = self.name\n",
    "                \n",
    "        self.exdir_db.save(sample_name=self.parent.sample_name, \n",
    "                           measurement_type='single_transmon_homodyne_ro_bg',\n",
    "                           metadata=result)\n",
    "        \n",
    "        \n",
    "    def measure_Rabi(self, ampitudes, lengths):\n",
    "\t\treadout_begin = np.max(lengths)\n",
    "\t\tpg = self.pulse_sequencer\n",
    "\t\tsequence = []\n",
    "\t\tdef set_ex_length(length): \n",
    "\t\t\tnonlocal sequence\n",
    "\t\t\tif tail_length > 0:\n",
    "\t\t\t\tchannel_pulses = [(c, pg.rect_cos, a, tail_length) for c, a in zip(self.ex_channels, self.ex_amplitudes)]\n",
    "\t\t\telse:\n",
    "\t\t\t\tchannel_pulses = [(c, pg.rect, a) for c, a in zip(self.ex_channels, self.ex_amplitudes)]\n",
    "\t\t\tsequence = pre_pulse_seq+[pg.pmulti(length+2*tail_length, *tuple(channel_pulses))]+self.ro_sequence\n",
    "\t\t\tif not hasattr(self.readout_device, 'diff_setter'): # if this is a sifferential measurer\n",
    "\t\t\t\tset_seq()\n",
    "\t\tdef set_seq():\n",
    "\t\t\tpg.set_seq(sequence)\n",
    "\t\tif hasattr(self.readout_device, 'diff_setter'): # if this is a sifferential measurer\n",
    "\t\t\tself.readout_device.diff_setter = set_seq # set the measurer's diff setter\n",
    "\t\t\tself.readout_device.zero_setter = self.set_zero_sequence # for diff_readout\n",
    "\t\tstate = self.sweeper.sweep(self.readout_device, \n",
    "\t\t\t\t\t\t\t  (lengths, set_ex_length, 'Rabi pulse length','s'), \n",
    "\t\t\t\t\t\t\t  measurement_type='Rabi', \n",
    "\t\t\t\t\t\t\t  sample_name=self.sample_name, \n",
    "\t\t\t\t\t\t\t  comment=self.comment, \n",
    "\t\t\t\t\t\t\t  metadata={'ex_amplitudes': str(self.ex_amplitudes), 'qubit_id': str(self.qubit_id)})\n",
    "\t\t#return\n",
    "\t\tfitted_data, fitted_parameters = fitting.exp_sin_fit(np.asarray(np.memmap.tolist(state.datasets['avg_cov1'].parameters[0].values)), \n",
    "\t\t\t\t\t\t\t\t\t\t\t\t\t\t\t[np.asarray(np.memmap.tolist(state.datasets['avg_cov1'].data))])\n",
    "\t\tprint('fitted params: ', fitted_parameters)\n",
    "\t\tstate.datasets['avg_cov1_fit'] = measurement_dataset(parameters = [measurement_parameter(fitted_data[0], '', 'Rabi pulse length','s')], data = fitted_data[1][0])\n",
    "\t\tstate.metadata.update({'Frequency': str(fitted_parameters['freq']), 'Decay': str(fitted_parameters['decay']), 'Phase': str(fitted_parameters['phase']), \n",
    "\t\t\t\t\t\t\t\t\t\t'Amplitude': str(fitted_parameters['amplitudes']), 'Excitation channels': str(self.ex_channels), 'Readout channel': str(self.ro_channel)})\n",
    "\t\t#state_fitted.datasets['avg_cov1'].parameters[0].values = fitted_data[0]\n",
    "\t\t#state_fitted.datasets['avg_cov1'].data = fitted_data[1]\n",
    "\t\t#for dataset in state_fitted.datasets.keys():\n",
    "\t\t#\tstate_fitted.datasets[dataset].data = fitted_data\n",
    "\t\tsave_exdir(state)\n",
    "\t\t#db.create_in_database(state_fitted)\t\t\n",
    "\t\tprint(state.id)\n",
    "\t\t\n",
    "\t\t\n",
    "\t\tself.Rabi_rect_result['rabi_rect_initial_points']=fitted_parameters['initial_points']\n",
    "\t\tself.Rabi_rect_result['rabi_rect_phase']=fitted_parameters['phase']\n",
    "\t\tself.Rabi_rect_result['rabi_rect_amplitudes']=fitted_parameters['amplitudes']\n",
    "\t\tself.Rabi_rect_result['rabi_rect_freq']=fitted_parameters['freq']\n",
    "\t\tself.Rabi_rect_result['rabi_rect_decay']=fitted_parameters['decay']\n",
    "\t\tself.Rabi_rect_result['rabi_carriers']=[pg.channels[c].get_frequency() for c in self.ex_channels]\n",
    "\t\tself.Rabi_rect_result['rabi_ro_freq']=pg.channels[self.ro_channel].get_frequency()\n",
    "\t\tself.Rabi_rect_result['rabi_ex_amplitudes']=self.ex_amplitudes\n",
    "\t\tself.Rabi_rect_result['rabi_tail_length']=tail_length\n",
    "\t\tself.Rabi_rect_result['qubit_id']=self.qubit_id\n",
    "\t\t\n",
    "\t\tqjson.dump(type='two-level-rabi-rect',name = self.build_calibration_filename(), params=self.Rabi_rect_result)\t\n",
    "\t\t\n",
    "\t\t#del measurement, measurement_fitted, set_ex_length, set_seq\n",
    "\t\treturn self.Rabi_rect_result\n",
    "    def measure_Ramsey(self, delays, frequency_offsets):\n",
    "        pass"
   ]
  },
  {
   "cell_type": "code",
   "execution_count": 64,
   "metadata": {},
   "outputs": [
    {
     "name": "stdout",
     "output_type": "stream",
     "text": [
      "{}\n"
     ]
    }
   ],
   "source": [
    "q1 = single_transmon(ro_devices_and_channels=({'device':adc_reducer, \n",
    "                 'channels':('avg_cov0', 'avg_cov1')},),\n",
    "                name='1',\n",
    "                parent=qubit_device_inst,\n",
    "                exdir_db=exdir_db_inst)\n",
    "q1.calibrate_ro_bg()"
   ]
  },
  {
   "cell_type": "code",
   "execution_count": 27,
   "metadata": {},
   "outputs": [],
   "source": [
    "def fit_nd(dataset, parameters_nonlinear, parameters_linear = []):\n",
    "\t'''\n",
    "\t\tPerform fitting over an n=d dataset. For example:\n",
    "\t\t\t1) we have a single-tone spectrum as a function of coil current and an additional dimension for real/imag. We want to fit a two-dimensional array (real and imag) at every current point.\n",
    "\t\t\tparameters_nonlinear would be frequency, \n",
    "\t\t\tparameters_linear would scattering_parameter (0 for real part, 1 for imag part)\n",
    "\t'''\n",
    "\tparameters_nonlinear_axes = {p:-1 for p in parameters_nonlinear}\n",
    "\tparameters_linear_axes = {p:-1 for p in parameters_linear}\n",
    "\t\n",
    "\tfor parameter_id, parameter in dataset.parameters:\n",
    "\t\tif parameter.name in parameters_nonlinear:\n",
    "\t\t\tparameters_nonlinear_axes[parameter.name] = parameter_id\n",
    "\t\telif parameter.name in parameters_linear:\n",
    "\t\t\tparameters_linear_axes[parameter.name] = parameter_id\n",
    "\t\n",
    "\tparameters_free = [p.name for p in data.parameters if p.name not in parameters_nonlinear and p.name not in parameters_linear]\n",
    "\tfor k,v in parameters_linear_axes.items():\n",
    "\t\tif v == -1:\n",
    "\t\t\traise ValueError ('Axis {} not found in dataset'.format(k))\n",
    "\tfor k,v in parameters_nonlinear_axes.items():\n",
    "\t\tif v == -1:\n",
    "\t\t\traise ValueError ('Axis {} not found in dataset'.format(k))\t\n",
    "\t\n",
    "\t# append an index to all linear axes to the end and set all others to singleton\n",
    "\tnewshape = [d if axis_id not in parameters_linear_axes.values else 1 for axis_id,d in enumerate(data.shape)]+[np.prod(parameters_linear_axes.values)]\n",
    "\tdata_with_one_linear_parameter_axis = np.reshape(dataset.data, newshape)\n",
    "\t\n",
    "\tspectrum = np.nditer([dataset.data], op_axes=[[i for i in range(len(spectrum.parameters)) if i != axis_id]], flags=[\"multi_index\"])"
   ]
  },
  {
   "cell_type": "code",
   "execution_count": 63,
   "metadata": {},
   "outputs": [
    {
     "name": "stdout",
     "output_type": "stream",
     "text": [
      "c:\\data/calibrations/setups/ readout\n",
      "c:\\data/calibrations/two-level-rabi-rect/ c-iq_ex1_q1_F01_min-f-3.2639e+09-amp-r1-i0\n",
      "c:\\data/calibrations/two-level-ramsey/ c-iq_ex1_q1_F01_min-f-3.2639e+09-amp-r1-i0\n",
      "Failed loading ramsey calibration: max() arg is an empty sequence\n",
      "c:\\data/calibrations/setups/ readout\n",
      "c:\\data/calibrations/two-level-rabi-rect/ c-iq_ex3_q1_F01_min-f-3.2639e+09-amp-r1-i0\n",
      "Failed loading rabi frequency calibration: max() arg is an empty sequence\n",
      "c:\\data/calibrations/two-level-ramsey/ c-iq_ex3_q1_F01_min-f-3.2639e+09-amp-r1-i0\n",
      "Failed loading ramsey calibration: max() arg is an empty sequence\n",
      "c:\\data/calibrations/setups/ readout\n",
      "c:\\data/calibrations/two-level-rabi-rect/ c-iq_ex1_q3_F01_min-f-3.2285e+09-amp-r1-i0\n",
      "Failed loading rabi frequency calibration: max() arg is an empty sequence\n",
      "c:\\data/calibrations/two-level-ramsey/ c-iq_ex1_q3_F01_min-f-3.2285e+09-amp-r1-i0\n",
      "Failed loading ramsey calibration: max() arg is an empty sequence\n",
      "c:\\data/calibrations/setups/ readout\n",
      "c:\\data/calibrations/two-level-rabi-rect/ c-iq_ex3_q3_F01_min-f-3.2285e+09-amp-r1-i0\n",
      "Failed loading rabi frequency calibration: max() arg is an empty sequence\n",
      "c:\\data/calibrations/two-level-ramsey/ c-iq_ex3_q3_F01_min-f-3.2285e+09-amp-r1-i0\n",
      "Failed loading ramsey calibration: max() arg is an empty sequence\n"
     ]
    }
   ],
   "source": [
    "imp.reload(two_level)\n",
    "calibrated_qubits = ['1','3']\n",
    "rf_coils = ['1','3']\n",
    "main_rf_coils = {'1':1,'3':3}\n",
    "\n",
    "qubit_coil_tld = {}\n",
    "qubit_coil_tld_weak = {}\n",
    "fitters = {}\n",
    "import qsweepy.two_level as dyn\n",
    "for q_id in calibrated_qubits:\n",
    "    qubit_coil_tld[q_id] = {}\n",
    "    qubit_coil_tld_weak[q_id] = {}\n",
    "    ro_meas_name = 'avg_cov{}'.format(int(q_id))\n",
    "    fitters[q_id] = lambda x,y,ro_meas_name=ro_meas_name: fitting.fit1d(x,y,ro_meas_name)\n",
    "    for rf_coil in rf_coils:\n",
    "        qubit_coil_tld[q_id][rf_coil] = dyn.quantum_two_level_dynamics(pg,\n",
    "                                               adc_reducer, #adc_reducers_chan[ex_channel],\n",
    "                                               ex_channel='iq_ex{}_q{}_F01_min'.format(rf_coil, q_id),\n",
    "                                               ro_channel='iq_ro_q{}'.format(q_id),\n",
    "                                               ro_sequence=(trigger_readout_seq+readout_pulse),\n",
    "                                               ex_amplitude=1.0,\n",
    "                                               fitter=fitters[q_id], \n",
    "                                               shuffle=False,\n",
    "                                               readout_measurement_name=ro_meas_name,      \n",
    "                                               qubit_id=q_id,\n",
    "                                               sample_name=sample_name,\n",
    "                                               exdir_db = exdir_db.exdir_db(db,sample_name=sample_name))#sweeper=sweeper)\n",
    "#        qubit_coil_tld[q_id][rf_coil] = dyn.quantum_two_level_dynamics(pg,\n",
    "#                                               adc_reducer, #adc_reducers_chan[ex_channel],\n",
    "#                                               ex_channel='govno_channel'.format(rf_coil, q_id),\n",
    "#                                               ro_channel='iq_ro_q{}'.format(q_id),\n",
    "#                                               ro_sequence=(trigger_readout_seq+readout_pulse),\n",
    "#                                               ex_amplitude=1,\n",
    "#                                               fitter=fitters[q_id], \n",
    "#                                               shuffle=False,\n",
    "#                                               readout_measurement_name=ro_meas_name,\n",
    "#                                               qubit_id=q_id,\n",
    "#                                               sample_name=sample_name,\n",
    "#                                               db = db)#sweeper=sweeper)\n",
    "        try:\n",
    "            qubit_coil_tld[q_id][rf_coil].load_calibration()\n",
    "        except:\n",
    "            pass\n",
    "        try:\n",
    "            qubit_coil_tld_weak[q_id][rf_coil].load_calibration()\n",
    "        except:\n",
    "            pass"
   ]
  },
  {
   "cell_type": "code",
   "execution_count": 76,
   "metadata": {},
   "outputs": [],
   "source": [
    "Rabi_lengths = np.arange(0,200e-9, 2e-9)\n",
    "Rabi_lengths_long = np.arange(0, 1000e-9, 10e-9)\n",
    "delaysT2 = np.arange(0, 1000e-9, 10e-9)\n",
    "delaysT2_coherence = np.arange(0, 7000e-9, 50e-9)\n",
    "target_freq_offset = -20e6\n",
    "target_freq_offset_coherence = -2e6\n",
    "delaysT1 = np.arange(0, 25e-6,0.1e-6)\n",
    "amplitudes = np.arange(0.0, 1.0, 0.01)\n",
    "Rabi_amplitude_length = 100e-9\n",
    "Rabi_freq_limiter = 50e6"
   ]
  },
  {
   "cell_type": "code",
   "execution_count": 71,
   "metadata": {},
   "outputs": [],
   "source": [
    "#diff_adc_reducer = diff_readout.diff_readout(adc_reducer)"
   ]
  },
  {
   "cell_type": "code",
   "execution_count": 72,
   "metadata": {},
   "outputs": [],
   "source": [
    "adc.set_nums(10000)"
   ]
  },
  {
   "cell_type": "markdown",
   "metadata": {},
   "source": [
    "## Rabi + Ramsey for RF coupling matrix"
   ]
  },
  {
   "cell_type": "code",
   "execution_count": 73,
   "metadata": {},
   "outputs": [],
   "source": [
    "Rabi_results = {qubit_id:{coil_id:None for coil_id in rf_coils} for qubit_id in calibrated_qubits}"
   ]
  },
  {
   "cell_type": "code",
   "execution_count": 74,
   "metadata": {
    "scrolled": true
   },
   "outputs": [
    {
     "name": "stdout",
     "output_type": "stream",
     "text": [
      "{}\n",
      "load_exdir: file open time:  0.0020170211791992188\n",
      "load_exdir: file open time:  0.0019989013671875\n",
      "load_exdir: file open time:  0.0019960403442382812\n",
      "load time:  0.13193726539611816\n",
      "pre_trace_time:  0.003997802734375\n",
      "trace 0 time:  0.014992713928222656\n",
      "trace 1 time:  0.02598738670349121\n",
      "trace 2 time:  0.037981510162353516\n",
      "trace 3 time:  0.04897665977478027\n",
      "fitted params:  {'phase': 6.43310795869209, 'freq': 64622273.115558766, 'decay': 1.2635509412543338, 'amplitudes': array([8.68799988e+11]), 'initial_points': array([4.48347358e+13])}\n",
      "2232\n",
      "{}\n",
      "load_exdir: file open time:  0.0019989013671875\n",
      "load_exdir: file open time:  0.0009930133819580078\n",
      "load_exdir: file open time:  0.002004861831665039\n",
      "load time:  0.14393138885498047\n",
      "pre_trace_time:  0.0\n",
      "trace 0 time:  0.015992403030395508\n",
      "trace 1 time:  0.029985904693603516\n",
      "trace 2 time:  0.042980194091796875\n",
      "trace 3 time:  0.05597352981567383\n",
      "fitted params:  {'phase': 6.5506286214641944, 'freq': 2074512.3359089599, 'decay': 0.0012015297103920547, 'amplitudes': array([1.5061156e+12]), 'initial_points': array([4.50159269e+13])}\n",
      "2233\n",
      "{}\n",
      "load_exdir: file open time:  0.0020148754119873047\n",
      "load_exdir: file open time:  0.0010001659393310547\n",
      "load_exdir: file open time:  0.0009992122650146484\n",
      "load time:  0.12891459465026855\n",
      "pre_trace_time:  0.001001119613647461\n",
      "trace 0 time:  0.014015913009643555\n",
      "trace 1 time:  0.025009632110595703\n",
      "trace 2 time:  0.037003278732299805\n",
      "trace 3 time:  0.047998905181884766\n",
      "fitted params:  {'phase': 5.629959845760852, 'freq': 71081144.19501069, 'decay': 3.824353972701867e-07, 'amplitudes': array([5.59640035e+11]), 'initial_points': array([4.40459479e+13])}\n",
      "2234\n",
      "{}\n",
      "load_exdir: file open time:  0.0030202865600585938\n",
      "load_exdir: file open time:  0.00202178955078125\n",
      "load_exdir: file open time:  0.0019998550415039062\n",
      "load time:  0.127915620803833\n",
      "pre_trace_time:  0.0\n",
      "trace 0 time:  0.015009403228759766\n",
      "trace 1 time:  0.02698802947998047\n",
      "trace 2 time:  0.0390019416809082\n",
      "trace 3 time:  0.049993038177490234\n",
      "fitted params:  {'phase': 6.786565282233635, 'freq': 10248034.70335426, 'decay': 2.034566049815866e-06, 'amplitudes': array([2.85984437e+11]), 'initial_points': array([4.4148781e+13])}\n",
      "2235\n"
     ]
    }
   ],
   "source": [
    "# for qubit_id in calibrated_qubits:\n",
    "for coil_id,qubit_id in zip(['1', '3', '1', '3'],['1', '1', '3', '3']):\n",
    "    Rabi_results[qubit_id][coil_id] = qubit_coil_tld[qubit_id][coil_id].Rabi(Rabi_lengths)\n",
    "    #qubit_coil_tld[qubit_id][coil_id].decay(delaysT1)#, shuffle=True)\n",
    "    #qubit_coil_tld[qubit_id][coil_id].Ramsey(delaysT2_coherence, target_freq_offset)#, shuffle=True)\n",
    "\n",
    "    #rabi_freq_ratio = Rabi_freq_limiter/qubit_coil_tld[qubit_id][coil_id].Rabi_rect_result['rabi_rect_freq']\n",
    "    #if rabi_freq_ratio<1:\n",
    "    #    qubit_coil_tld[qubit_id][coil_id].ex_amplitudes = (np.asarray(\n",
    "    #        qubit_coil_tld[qubit_id][coil_id].ex_amplitudes)*rabi_freq_ratio).tolist()\n",
    "    #qubit_coil_tld[qubit_id][coil_id].Rabi_rect(Rabi_lengths)"
   ]
  },
  {
   "cell_type": "code",
   "execution_count": 75,
   "metadata": {},
   "outputs": [],
   "source": [
    "Ramsey_results = {qubit_id:{coil_id:None for coil_id in rf_coils} for qubit_id in calibrated_qubits}"
   ]
  },
  {
   "cell_type": "code",
   "execution_count": null,
   "metadata": {},
   "outputs": [],
   "source": [
    "awg_tek.get_offset(channel=4)"
   ]
  },
  {
   "cell_type": "code",
   "execution_count": 80,
   "metadata": {},
   "outputs": [
    {
     "data": {
      "text/plain": [
       "<qsweepy.database.database at 0x16baa644be0>"
      ]
     },
     "execution_count": 80,
     "metadata": {},
     "output_type": "execute_result"
    }
   ],
   "source": [
    "db"
   ]
  },
  {
   "cell_type": "code",
   "execution_count": 77,
   "metadata": {},
   "outputs": [
    {
     "name": "stdout",
     "output_type": "stream",
     "text": [
      "{}\n",
      "load_exdir: file open time:  0.0009996891021728516\n",
      "load_exdir: file open time:  0.0009992122650146484\n",
      "load_exdir: file open time:  0.0019991397857666016\n",
      "load time:  0.12294125556945801\n",
      "pre_trace_time:  0.0010004043579101562\n",
      "trace 0 time:  0.0139923095703125\n",
      "trace 1 time:  0.024987459182739258\n",
      "trace 2 time:  0.03598213195800781\n",
      "trace 3 time:  0.04697704315185547\n",
      "fitted params:  {'phase': 3.332114896895107, 'freq': 1981413.5431680526, 'decay': 4.673233214719676e-06, 'amplitudes': array([8.25767093e+11]), 'initial_points': array([4.25408171e+13])}\n",
      "{}\n",
      "load_exdir: file open time:  0.001999378204345703\n",
      "load_exdir: file open time:  0.001999378204345703\n",
      "load_exdir: file open time:  0.0019989013671875\n",
      "load time:  0.13693475723266602\n",
      "pre_trace_time:  0.0009996891021728516\n",
      "trace 0 time:  0.015991926193237305\n",
      "trace 1 time:  0.027986526489257812\n",
      "trace 2 time:  0.039980411529541016\n",
      "trace 3 time:  0.05397391319274902\n",
      "fitted params:  {'phase': 1.9477471865354166, 'freq': 2016529.6506545567, 'decay': 1.3109243819353348e-05, 'amplitudes': array([1.76870332e+11]), 'initial_points': array([4.42055934e+13])}\n"
     ]
    }
   ],
   "source": [
    "for qubit_id in ['1', '3']:\n",
    "    coil_id=str(main_rf_coils[qubit_id])\n",
    "    #Ramsey_results[qubit_id][coil_id] = qubit_coil_tld[qubit_id][coil_id].Ramsey(delaysT2,-10e6)\n",
    "    Ramsey_results[qubit_id][coil_id] = qubit_coil_tld[qubit_id][coil_id].Ramsey(delaysT2_coherence,\n",
    "                                                                                 target_freq_offset_coherence)"
   ]
  },
  {
   "cell_type": "code",
   "execution_count": null,
   "metadata": {},
   "outputs": [],
   "source": [
    "(10-9989862/1e6)/1e3"
   ]
  },
  {
   "cell_type": "code",
   "execution_count": null,
   "metadata": {},
   "outputs": [],
   "source": [
    "T1_results = {qubit_id:{coil_id for coil_id in rf_coils} for qubit_id in calibrated_qubits}"
   ]
  },
  {
   "cell_type": "code",
   "execution_count": null,
   "metadata": {},
   "outputs": [],
   "source": [
    "for qubit_id in [\"3\"]:\n",
    "    for coil_id in ['3']:\n",
    "        T1_results[qubit_id][coil_id] = qubit_coil_tld[qubit_id][coil_id].decay(delaysT1)"
   ]
  },
  {
   "cell_type": "code",
   "execution_count": null,
   "metadata": {},
   "outputs": [],
   "source": [
    "sample_id='1'\n",
    "pna.set_nop(1)\n",
    "pna.set_centerfreq(qubits[sample_id]['r']['Fr'])\n",
    "pna.set_frequency(qubits[sample_id]['r']['Fr'])\n",
    "pna.set_bandwidth(100)\n",
    "iq_ro.ignore_calibration_drift = True\n",
    "qubit_coil_tld['1']['1'].two_tone(np.linspace(0.05, 1, 10), \n",
    "                                   np.arange(3.0e9, 3.3e9, 2e6), \n",
    "                                   ex_ch = iq_ex1.carriers['iq_ex1_q1_F01_min'])\n",
    "                                   #iq_ex.carriers['iq_ex_00-1-10'], lo_freq)#iq_ex.carriers['iq_ex_00-1-10'].get_frequency())"
   ]
  },
  {
   "cell_type": "code",
   "execution_count": null,
   "metadata": {
    "scrolled": true
   },
   "outputs": [],
   "source": [
    "Rabi_results = {qubit_id:{} for qubit_id in calibrated_qubits}\n",
    "\n",
    "for qubit_id in calibrated_qubits:\n",
    "    #for coil_id in ['1']:\n",
    "    coil_id = main_rf_coils[qubit_id]\n",
    "        #Rabi_results[qubit_id][coil_id] = qubit_coil_tld[qubit_id][coil_id].Rabi_rect(Rabi_lengths)\n",
    "        #qubit_coil_tld[qubit_id][coil_id].decay(delaysT1)#, shuffle=True)\n",
    "    qubit_coil_tld[qubit_id][str(coil_id)].Ramsey(delaysT2, target_freq_offset)#, shuffle=True)\n",
    "         \n",
    "        #rabi_freq_ratio = Rabi_freq_limiter/qubit_coil_tld[qubit_id][coil_id].Rabi_rect_result['rabi_rect_freq']\n",
    "        #if rabi_freq_ratio<1:\n",
    "        #    qubit_coil_tld[qubit_id][coil_id].ex_amplitudes = (np.asarray(\n",
    "        #        qubit_coil_tld[qubit_id][coil_id].ex_amplitudes)*rabi_freq_ratio).tolist()\n",
    "        #qubit_coil_tld[qubit_id][coil_id].Rabi_rect(Rabi_lengths)"
   ]
  },
  {
   "cell_type": "code",
   "execution_count": null,
   "metadata": {},
   "outputs": [],
   "source": [
    "#dac.set_voltage(0, channel=2)\n",
    "for qubit_id in calibrated_qubits:#['1']:\n",
    "#calibrated_qubits:\n",
    "    coil_id = str(main_rf_coils[qubit_id])\n",
    "        #Rabi_results[qubit_id][coil_id] = qubit_coil_tld[qubit_id][coil_id].Rabi_rect(Rabi_lengths)\n",
    "        \n",
    "    qubit_coil_tld[qubit_id][coil_id].Ramsey(delaysT2_coherence, target_freq_offset_coherence)#, shuffle=True)\n",
    "        #qubit_coil_tld[qubit_id][coil_id].decay(delaysT1)#, shuffle=True)\n",
    "        #rabi_freq_ratio = Rabi_freq_limiter/qubit_coil_tld[qubit_id][coil_id].Rabi_rect_result['rabi_rect_freq']\n",
    "        #if rabi_freq_ratio<1:\n",
    "        #    qubit_coil_tld[qubit_id][coil_id].ex_amplitudes = (np.asarray(\n",
    "        #        qubit_coil_tld[qubit_id][coil_id].ex_amplitudes)*rabi_freq_ratio).tolist()\n",
    "        #qubit_coil_tld[qubit_id][coil_id].Rabi_rect(Rabi_lengths)"
   ]
  },
  {
   "cell_type": "code",
   "execution_count": null,
   "metadata": {},
   "outputs": [],
   "source": [
    "voltage_range = np.linspace(-0.6, 0.6, 51)\n",
    "awg_tek.set_offset(0, channel=4)\n",
    "for qubit_id in ['1']:\n",
    "    #for coil_id in ['2']:\n",
    "    coil_id = str(main_rf_coils[qubit_id])\n",
    "    ramsey_voltage_scan = qubit_coil_tld[qubit_id][coil_id].Ramsey(delaysT2, -10e6,\n",
    "                (voltage_range, lambda x: awg_tek.set_offset(x, channel=4),  'Coupler voltage', 'V'))\n",
    "awg_tek.set_offset(0, channel=4)\n",
    "        #rabi_freq_ratio = Rabi_freq_limiter/qubit_coil_tld[qubit_id][coil_id].Rabi_rect_result['rabi_rect_freq']\n",
    "        #if rabi_freq_ratio<1:\n",
    "        #    qubit_coil_tld[qubit_id][coil_id].ex_amplitudes = (np.asarray(\n",
    "        #        qubit_coil_tld[qubit_id][coil_id].ex_amplitudes)*rabi_freq_ratio).tolist()\n",
    "        #qubit_coil_tld[qubit_id][coil_id].Rabi_rect(Rabi_lengths)"
   ]
  },
  {
   "cell_type": "code",
   "execution_count": null,
   "metadata": {},
   "outputs": [],
   "source": [
    "#voltage_range = np.linspace(-3, 3, 121)\n",
    "for qubit_id in calibrated_qubits:\n",
    "    coil_id = str(main_rf_coils[qubit_id])\n",
    "    control_qubit = '1' if qubit_id == '3' else '3'\n",
    "    pre_pulse_seq=qubit_coil_tld[control_qubit][str(main_rf_coils[control_qubit])].get_pi_pulse_sequence(0, max_rabi_freq=50e6)\n",
    "    ramsey_voltage_scan = qubit_coil_tld[qubit_id][coil_id].Ramsey(delaysT2, target_freq_offset,\n",
    "                (voltage_range, lambda x: dac.set_voltage(x, channel=23),  'Coupler voltage', 'V'),\n",
    "                                                                      pre_pulse_seq=pre_pulse_seq)\n",
    "        \n",
    "        #rabi_freq_ratio = Rabi_freq_limiter/qubit_coil_tld[qubit_id][coil_id].Rabi_rect_result['rabi_rect_freq']\n",
    "        #if rabi_freq_ratio<1:\n",
    "        #    qubit_coil_tld[qubit_id][coil_id].ex_amplitudes = (np.asarray(\n",
    "        #        qubit_coil_tld[qubit_id][coil_id].ex_amplitudes)*rabi_freq_ratio).tolist()\n",
    "        #qubit_coil_tld[qubit_id][coil_id].Rabi_rect(Rabi_lengths)"
   ]
  },
  {
   "cell_type": "code",
   "execution_count": null,
   "metadata": {},
   "outputs": [],
   "source": [
    "for working_point_id, working_point_flux in enumerate(working_points_flux):\n",
    "    for qubit_id in calibrated_qubits:\n",
    "            #squid_id = int(qubit_id)-1\n",
    "            #squid_id = 1\n",
    "            for squid_id in [2]:\n",
    "                coil_voltages = np.dot(np.linalg.inv(L_mat), -np.asarray(phi0_vec)+np.asarray(working_point_flux))\n",
    "                for coil_id, coil_voltage in enumerate(coil_voltages):\n",
    "                    coil_device.set_offset(coil_voltage, channel=coil_control_channels[coil_id])\n",
    "            \n",
    "                flux_range = flux_deltas+working_point_flux[squid_id]\n",
    "            \n",
    "                def squid_flux_setter(flux):\n",
    "                    fluxes = np.asarray(working_point_flux)\n",
    "                    fluxes[squid_id] = flux\n",
    "                    coil_voltages = np.dot(np.linalg.inv(L_mat), -np.asarray(phi0_vec)+fluxes) \n",
    "                    awg_tek.stop()\n",
    "                    for coil_id, coil in enumerate(coil_control_channels):\n",
    "                        coil_device.set_offset(coil_voltages[coil_id], channel=coil)\n",
    "                    awg_tek.run()\n",
    "            \n",
    "                qubit_coil_tld[qubit_id][str(main_rf_coils[qubit_id])].measurement_name_comment = ''\n",
    "                #qubit_coil_tld[qubit_id][main_rf_coils[qubit_id]].measurement_name_comment = 'WP: {:5.4f}, {:5.4f}, {:5.4f}'.format(*tuple(coil_voltages))\n",
    "                qubit_coil_tld[qubit_id][str(main_rf_coils[qubit_id])].Ramsey(np.arange(0, 1e-6, 50e-9), 0,\n",
    "                        (flux_range, squid_flux_setter,  'SQUID #{} flux'.format(squid_id)))\n",
    "    plt.close('all')"
   ]
  },
  {
   "cell_type": "code",
   "execution_count": null,
   "metadata": {
    "scrolled": true
   },
   "outputs": [],
   "source": [
    "for qubit_id in calibrated_qubits:\n",
    "    coil_id = str(main_rf_coils[qubit_id])\n",
    "    Rabi_results[qubit_id][coil_id] = qubit_coil_tld[qubit_id][coil_id].Rabi_rect(Rabi_lengths)\n",
    "    for control_qubit_id in calibrated_qubits:\n",
    "        if control_qubit_id != qubit_id:\n",
    "            control_coil_id = str(main_rf_coils[control_qubit_id])\n",
    "            qubit_coil_tld[qubit_id][coil_id].Ramsey(delaysT2, \n",
    "                                                     target_freq_offset, \n",
    "                        pre_pulse_seq=qubit_coil_tld[control_qubit_id][control_coil_id].get_pi_pulse_sequence(0, max_rabi_freq=10e6))\n",
    "    qubit_coil_tld[qubit_id][coil_id].Ramsey(delaysT2, target_freq_offset)\n",
    "    "
   ]
  },
  {
   "cell_type": "code",
   "execution_count": null,
   "metadata": {},
   "outputs": [],
   "source": []
  },
  {
   "cell_type": "code",
   "execution_count": null,
   "metadata": {},
   "outputs": [],
   "source": [
    "control_target_tld = {}\n",
    "\n",
    "for q_id in calibrated_qubits:\n",
    "    control_target_tld[q_id] = {}\n",
    "    ro_meas_name = 'avg_cov{}'.format(int(q_id)-1)\n",
    "    for qc_id in calibrated_qubits:\n",
    "        control_target_tld[q_id][qc_id] = dyn.quantum_two_level_dynamics(pg,\n",
    "                                               adc_reducer, #adc_reducers_chan[ex_channel],\n",
    "                                               ex_channel='iq_ex{}_q{}_F01_min'.format(main_rf_coils[qc_id], q_id),\n",
    "                                               ro_channel='iq_ro_q{}'.format(q_id),\n",
    "                                               ro_sequence=(trigger_readout_seq+readout_pulse),\n",
    "                                               ex_amplitude=0.5,\n",
    "                                               fitter=fitters[q_id], \n",
    "                                               shuffle=False,\n",
    "                                               readout_measurement_name=ro_meas_name,\n",
    "                                               qubit_id=q_id)\n",
    "        control_target_tld[q_id][qc_id].load_calibration()"
   ]
  },
  {
   "cell_type": "markdown",
   "metadata": {},
   "source": [
    "## Compensating the NOT out of CNOTS"
   ]
  },
  {
   "cell_type": "markdown",
   "metadata": {},
   "source": [
    "### Sweep over relative phase of two TLDs "
   ]
  },
  {
   "cell_type": "code",
   "execution_count": null,
   "metadata": {},
   "outputs": [],
   "source": [
    "max_rabi_freq = 50e6\n",
    "tail_length = 20e-9\n",
    "def tld_phase_scan(tld1, tld2, phase_range, amplitude_range, ramsey_periods, measurement_name, measurement_type='rabi', interleaved_pulse_seq = [], pre_seq=[], post_seq=[]):\n",
    "    if measurement_type=='rabi':\n",
    "        rabi_freq1 = tld1.Rabi_rect_result['rabi_rect_freq']\n",
    "    elif measurement_type=='rabi-echo':\n",
    "        rabi_freq1 = tld1.Rabi_echo_rect_result['rabi_rect_freq']\n",
    "    rabi_freq2 = tld2.Rabi_rect_result['rabi_rect_freq']\n",
    "\n",
    "    ex_channels = list(set([c for c in tld1.ex_channels]+[c for c in tld2.ex_channels]))\n",
    "    ex_amplitudes_tld1_dict = {c:a for c,a in zip(tld1.ex_channels, tld1.ex_amplitudes)}\n",
    "    ex_amplitudes_tld2_dict = {c:a for c,a in zip(tld2.ex_channels, tld2.ex_amplitudes)}\n",
    "    \n",
    "    min_rabi_freq = np.min([rabi_freq1, rabi_freq2, max_rabi_freq])\n",
    "    print (rabi_freq1, rabi_freq2, max_rabi_freq)\n",
    "    amplitude1 = min_rabi_freq/rabi_freq1\n",
    "    amplitude2 = min_rabi_freq/rabi_freq2\n",
    "    \n",
    "    current_phase = 0\n",
    "    current_amplitude = 1\n",
    "    \n",
    "    def set_phase(phase):\n",
    "        nonlocal current_phase\n",
    "        current_phase = phase\n",
    "        reset_pulse()\n",
    "    def set_amplitude(amplitude):\n",
    "        nonlocal current_amplitude\n",
    "        current_amplitude = amplitude\n",
    "        reset_pulse()\n",
    "        \n",
    "    def reset_pulse():\n",
    "        ex_amplitudes_dict = {c:0 for c in ex_channels}\n",
    "        for c, a in ex_amplitudes_tld1_dict.items():\n",
    "            ex_amplitudes_dict[c]+=amplitude1*a\n",
    "        for c, a in ex_amplitudes_tld2_dict.items():\n",
    "            ex_amplitudes_dict[c]+=amplitude2*a*np.exp(1j*current_phase)*current_amplitude\n",
    "        print (ex_amplitudes_dict)\n",
    "        pulse_length = ramsey_period_num/min_rabi_freq/12\n",
    "        if pulse_length < 50e-9:\n",
    "            pulse = tuple([(c, pg.rect, a) for c,a in ex_amplitudes_dict.items()])\n",
    "            pulse_inverse = tuple([(c, pg.rect, -a) for c,a in ex_amplitudes_dict.items()])\n",
    "        else:\n",
    "            pulse = tuple([(c, pg.rect_cos, a, tail_length) for c,a in ex_amplitudes_dict.items()])\n",
    "            pulse_inverse = tuple([(c, pg.rect_cos, -a, tail_length) for c,a in ex_amplitudes_dict.items()])\n",
    "        if measurement_type=='rabi':\n",
    "            seq = pre_seq+[pg.pmulti(ramsey_period_num/min_rabi_freq/8,\n",
    "                            *pulse)]+post_seq+trigger_readout_seq+readout_pulse\n",
    "        elif measurement_type=='rabi-echo':\n",
    "            seq = pre_seq+[pg.pmulti(ramsey_period_num/min_rabi_freq/8, *pulse)]+\\\n",
    "                    interleaved_pulse_seq+\\\n",
    "                  [pg.pmulti(ramsey_period_num/min_rabi_freq/8, *pulse_inverse)]+post_seq+trigger_readout_seq+readout_pulse\n",
    "        print ('Pulse length:', ramsey_period_num/min_rabi_freq/8)\n",
    "        pg.set_seq(seq)\n",
    "    \n",
    "    if len(phase_range)>1 and len(amplitude_range)>1: scan_type = 'Compensation phase and amp'\n",
    "    elif len(phase_range)>1: scan_type = 'Compensation phase'\n",
    "    elif len(amplitude_range)>1: scan_type = 'Compensation amp'\n",
    "    else: scan_type='compensation'\n",
    "    filename = scan_type+' channels '+','.join(ex_channels)\n",
    "    \n",
    "    measurement = sweep.sweep(adc_reducer, \n",
    "                              (phase_range, set_phase, 'Phase'),\n",
    "                              (amplitude_range, set_amplitude, 'Amplitude'),\n",
    "                              filename=filename)[measurement_name]\n",
    "    return measurement"
   ]
  },
  {
   "cell_type": "code",
   "execution_count": null,
   "metadata": {},
   "outputs": [],
   "source": [
    "pre_cr_seq = [pg.pmulti(5e-9),\n",
    "           pg.pmulti(0, ('iq_ex1_q1_F01_min', pulses.vf, qubits['1']['q']['dF']['F01_min_p1']),\n",
    "                        ('iq_ex2_q1_F01_min', pulses.vf, qubits['1']['q']['dF']['F01_min_p1']),\n",
    "                        ('iq_ex3_q1_F01_min', pulses.vf, qubits['1']['q']['dF']['F01_min_p1']),\n",
    "                        ('iq_ex1_q3_F01_min', pulses.vf, qubits['3']['q']['dF']['F01_min_p1']),\n",
    "                        ('iq_ex2_q3_F01_min', pulses.vf, qubits['3']['q']['dF']['F01_min_p1']),\n",
    "                        ('iq_ex3_q3_F01_min', pulses.vf, qubits['3']['q']['dF']['F01_min_p1']),\n",
    "                        ('dc_coil', pulses.offset, -0.87)),\n",
    "           pg.pmulti(120e-9)]\n",
    "\n",
    "post_cr_seq = [pg.pmulti(5e-9),\n",
    "           pg.pmulti(0, ('iq_ex1_q1_F01_min', pulses.vf, 0),\n",
    "                        ('iq_ex2_q1_F01_min', pulses.vf, 0),\n",
    "                        ('iq_ex3_q1_F01_min', pulses.vf, 0),\n",
    "                        ('iq_ex1_q3_F01_min', pulses.vf, 0),\n",
    "                        ('iq_ex2_q3_F01_min', pulses.vf, 0),\n",
    "                        ('iq_ex3_q3_F01_min', pulses.vf, 0),\n",
    "                        ('dc_coil', pulses.offset, 0.0)),\n",
    "           pg.pmulti(120e-9)]\n",
    "\n",
    "#pre_cr_seq = []\n",
    "#post_cr_seq = []"
   ]
  },
  {
   "cell_type": "code",
   "execution_count": null,
   "metadata": {},
   "outputs": [],
   "source": [
    "qubit_coil_tld['1']['1'].Ramsey_result"
   ]
  },
  {
   "cell_type": "code",
   "execution_count": null,
   "metadata": {},
   "outputs": [],
   "source": [
    "d = np.arange(0, 2.0e-6, 10e-9)\n",
    "for qubit_id in calibrated_qubits:\n",
    "    coil_id = main_rf_coils[qubit_id]\n",
    "    qubit_coil_tld[qubit_id][str(coil_id)].comment = ''\n",
    "    \n",
    "    qubit_coil_tld[qubit_id][str(coil_id)].Ramsey(d, -15e6, pre_pulse_seq=pre_cr_seq, post_pulse_seq=post_cr_seq)#, shuffle=True)\n",
    "         "
   ]
  },
  {
   "cell_type": "code",
   "execution_count": null,
   "metadata": {},
   "outputs": [],
   "source": [
    "compensation_tld.Ramsey_result['ramsey_decay']=2e-6"
   ]
  },
  {
   "cell_type": "markdown",
   "metadata": {},
   "source": [
    "### initial guesses for rabi frequencies"
   ]
  },
  {
   "cell_type": "code",
   "execution_count": null,
   "metadata": {
    "scrolled": true
   },
   "outputs": [],
   "source": [
    "#ramsey_period_nums=np.asarray([1,2,4,8,16,32])\n",
    "phase_scan_points = 12\n",
    "\n",
    "for _q_id, q_id in enumerate(['3']):\n",
    "    compensation_tld = control_target_tld[q_id][q_id]\n",
    "    compensation_tld_rabi_freq = compensation_tld.Rabi_rect_result['rabi_rect_freq']\n",
    "    compensation_tld_ramsey_decay = compensation_tld.Ramsey_result['ramsey_decay']\n",
    "    measurement_name = ro_meas_name = 'avg_cov{}'.format(int(q_id)-1)\n",
    "    thermal_state_readout_result = np.complex(*tuple(compensation_tld.Rabi_rect_result['rabi_rect_initial_points']))\n",
    "    for _qc_id, qc_id in enumerate(calibrated_qubits):\n",
    "        if q_id == qc_id:\n",
    "            continue\n",
    "        control_tld = control_target_tld[q_id][qc_id]\n",
    "        control_tld_rabi_freq = control_tld.Rabi_rect_result['rabi_rect_freq']\n",
    "        print (control_target_tld[q_id][qc_id].ex_channels,\n",
    "               control_target_tld[q_id][qc_id].ex_amplitudes)\n",
    "        phase_guess = 0\n",
    "        amplitude_guess = 1\n",
    "        ramsey_pulse_length = 0.25/np.min([np.abs(compensation_tld_rabi_freq), np.abs(control_tld_rabi_freq), max_rabi_freq])\n",
    "        #ramsey_period_nums=np.asarray([1,2,4,8,16,32])\n",
    "        print ('compensation_tld_ramsey_decay: ', compensation_tld_ramsey_decay)\n",
    "        print ('ramsey_pulse_length:', ramsey_pulse_length)\n",
    "        ramsey_period_nums_max = compensation_tld_ramsey_decay/ramsey_pulse_length # maximum pulse number\n",
    "        max_pulse_len_log = np.ceil(np.log(ramsey_period_nums_max)/np.log(2))+1\n",
    "        ramsey_period_nums = 2**np.arange(0, max_pulse_len_log)\n",
    "        \n",
    "        \n",
    "        for ramsey_period_num_id, ramsey_period_num in enumerate(ramsey_period_nums):\n",
    "            ## doing a phase scan\n",
    "            phase_range = np.arange(-0.5,0.5,1/phase_scan_points)*2*np.pi/ramsey_period_num+phase_guess\n",
    "            measurement = tld_phase_scan(control_tld, compensation_tld, phase_range, [amplitude_guess], ramsey_period_num, measurement_name, pre_seq=pre_cr_seq, post_seq=post_cr_seq)\n",
    "            phase_guess = measurement[1][0][np.argmin(np.abs(measurement[2]-thermal_state_readout_result))]\n",
    "            amplitude_range = np.exp(np.log(np.arange(0.3,3.0,1/phase_scan_points))/ramsey_period_num)*amplitude_guess\n",
    "            measurement = tld_phase_scan(control_tld, compensation_tld, [phase_guess], amplitude_range, ramsey_period_num, measurement_name, pre_seq=pre_cr_seq, post_seq=post_cr_seq)\n",
    "            amplitude_guess = measurement[1][0][np.argmin(np.abs(measurement[2]-thermal_state_readout_result))]\n",
    "        ## scan over tld2 amplitude\n",
    "        \n",
    "        # control_tld old\n",
    "        ex_amplitudes_dict = {}\n",
    "        min_rabi_freq = np.min([compensation_tld_rabi_freq, control_tld_rabi_freq, max_rabi_freq])\n",
    "        for c,a in zip(control_tld.ex_channels, control_tld.ex_amplitudes):\n",
    "            ex_amplitudes_dict[c] = a*min_rabi_freq/control_tld_rabi_freq\n",
    "        for c,a in zip(compensation_tld.ex_channels, compensation_tld.ex_amplitudes):\n",
    "        # updating with phase\n",
    "            if c in ex_amplitudes_dict:\n",
    "                ex_amplitudes_dict[c] += amplitude_guess*a*np.exp(1j*phase_guess)*min_rabi_freq/compensation_tld_rabi_freq\n",
    "            else:\n",
    "                ex_amplitudes_dict[c] =  amplitude_guess*a*np.exp(1j*phase_guess)*min_rabi_freq/compensation_tld_rabi_freq\n",
    "        control_tld.ex_amplitudes = []\n",
    "        control_tld.ex_channels = []\n",
    "        for c,a in ex_amplitudes_dict.items():\n",
    "            control_tld.ex_amplitudes.append(a)\n",
    "            control_tld.ex_channels.append(c)\n",
    "        print (control_target_tld[q_id][qc_id].ex_channels,\n",
    "               control_target_tld[q_id][qc_id].ex_amplitudes)"
   ]
  },
  {
   "cell_type": "code",
   "execution_count": null,
   "metadata": {},
   "outputs": [],
   "source": [
    "cr_channel_amplitudes = {}\n",
    "\n",
    "for q_id in calibrated_qubits:\n",
    "    cr_channel_amplitudes[q_id] = {}\n",
    "    for qc_id in calibrated_qubits:\n",
    "        cr_channel_amplitudes[q_id][qc_id] = {c:a for c,a in zip(control_target_tld[q_id][qc_id].ex_channels,\n",
    "                                                                 control_target_tld[q_id][qc_id].ex_amplitudes)}\n",
    "        \n",
    "pqjson.dump(type=\"CR-channel-amplitudes\",name='CR-amplitudes',params = cr_channel_amplitudes)"
   ]
  },
  {
   "cell_type": "code",
   "execution_count": null,
   "metadata": {},
   "outputs": [],
   "source": [
    "cr_channel_amplitudes = pqjson.load(type=\"CR-channel-amplitudes\",name='CR-amplitudes')\n",
    "for q_id in calibrated_qubits:\n",
    "    for qc_id in calibrated_qubits:\n",
    "        if qc_id in cr_channel_amplitudes[q_id]:\n",
    "            control_target_tld[q_id][qc_id].ex_channels = []\n",
    "            control_target_tld[q_id][qc_id].ex_amplitudes = []\n",
    "            for c,a in cr_channel_amplitudes[q_id][qc_id].items():\n",
    "                control_target_tld[q_id][qc_id].ex_channels.append(c)\n",
    "                control_target_tld[q_id][qc_id].ex_amplitudes.append(a)\n",
    "            try:\n",
    "                \n",
    "                control_target_tld[q_id][qc_id].load_calibration()\n",
    "            except:\n",
    "                if qc_id != q_id:\n",
    "                    control_target_tld[q_id][qc_id].Rabi_rect(\n",
    "                        Rabi_lengths_long, \n",
    "                        pre_pulse_seq=control_target_tld[qc_id][qc_id].get_pi_pulse_sequence(0)+pre_cr_seq,\n",
    "                        post_pulse_seq=post_cr_seq)\n",
    "                else: \n",
    "                    control_target_tld[q_id][qc_id].Rabi_rect(Rabi_lengths_long)"
   ]
  },
  {
   "cell_type": "markdown",
   "metadata": {},
   "source": [
    "## Тестирование CR-импульсов (с пи и без пи) и калибровка длительности и фазы"
   ]
  },
  {
   "cell_type": "code",
   "execution_count": null,
   "metadata": {},
   "outputs": [],
   "source": [
    "control_target_tld['3']['1'].ex_amplitudes"
   ]
  },
  {
   "cell_type": "code",
   "execution_count": null,
   "metadata": {},
   "outputs": [],
   "source": [
    "control_target_tld['1']['3'].ex_amplitudes[1] = 0.51\n",
    "control_target_tld['1']['3'].ex_amplitudes[0] = -0.047+0.100j"
   ]
  },
  {
   "cell_type": "code",
   "execution_count": null,
   "metadata": {},
   "outputs": [],
   "source": [
    "control_target_tld['3']['1'].ex_amplitudes = [0.5, (0.05302048627058763+0.1453641527908896j)]"
   ]
  },
  {
   "cell_type": "code",
   "execution_count": null,
   "metadata": {},
   "outputs": [],
   "source": [
    "control_target_tld['3']['1'].ex_amplitudes[0] = 0.5\n",
    "control_target_tld['3']['1'].ex_amplitudes[1] = 0.053+0.1435j"
   ]
  },
  {
   "cell_type": "code",
   "execution_count": null,
   "metadata": {},
   "outputs": [],
   "source": [
    "pi_pulse_amplitude=1.0\n",
    "CR_pulses = {#'CR13':{'control':'1', 'target':'3'},\n",
    "             #   'CR31':{'control':'3', 'target':'1'},\n",
    "                 'CR13':{'control':'1', 'target':'3'},\n",
    "            } # не тратим время не неработающую фигню "
   ]
  },
  {
   "cell_type": "code",
   "execution_count": null,
   "metadata": {},
   "outputs": [],
   "source": [
    "Rabi_lengths_long = np.arange(0, 1e-6, 50e-9)"
   ]
  },
  {
   "cell_type": "code",
   "execution_count": null,
   "metadata": {
    "scrolled": true
   },
   "outputs": [],
   "source": [
    "#cr_pulse_lengths = np.arange(0, 3e-6, 20e-9)\n",
    "for CR_pulse_name, CR_pulse in CR_pulses.items():\n",
    "    for CR_state in [0.0, 0.5]:\n",
    "        target = CR_pulse['target']\n",
    "        control = CR_pulse['control']\n",
    "        #control_Rabi_freq = control_target_tld[control][control].Rabi_rect_result['rabi_rect_freq']\n",
    "        #channels_control = control_target_tld[control][control].ex_channels\n",
    "        #amplitudes_control = control_target_tld[control][control].ex_amplitudes\n",
    "        #control_pulse_length = CR_state/(control_Rabi_freq*pi_pulse_amplitude)\n",
    "        #control_pulse = [(c, pg.rect, a*pi_pulse_amplitude) for c,a in zip(channels_control, amplitudes_control)]\n",
    "        if CR_state==0.5:\n",
    "            pre_pulse_seq = control_target_tld[control][control].get_pi_pulse_sequence(0, max_rabi_freq=10e6)+pre_cr_seq\n",
    "        else: \n",
    "            pre_pulse_seq = pre_cr_seq\n",
    "        post_pulse_seq = post_cr_seq    \n",
    "        \n",
    "        #print (pre_pulse_seq)\n",
    "        #pre_pulse_seq = [pg.pmulti(control_pulse_length, *tuple(control_pulse))]\n",
    "        control_target_tld[target][control].Rabi_rect(Rabi_lengths_long, tail_length=15e-9, pre_pulse_seq=pre_pulse_seq, post_pulse_seq=post_pulse_seq)\n",
    "        #if CR_state == 0.5:\n",
    "        #    control_target_tld[target][control].Ramsey(delaysT2, target_freq_offset, cross_ex_device=control_target_tld[target][target])"
   ]
  },
  {
   "cell_type": "code",
   "execution_count": null,
   "metadata": {},
   "outputs": [],
   "source": [
    "CR_pulses"
   ]
  },
  {
   "cell_type": "markdown",
   "metadata": {},
   "source": [
    "## Compensating the CNOT out of NOTs\n",
    "Стратегия: \n",
    "- Меряем Раби с пи и без пи по всем возможным контрольным кубитам.\n",
    "- Для этого делаем Раби в сторону +, потом пи-импульс по контрольной линии, и затем Раби в минус.\n",
    "- Получится Раби-частота синота по этой линии.\n",
    "\n",
    "- компенсируем по аналогии с той штукой что была на шаг раньше, с помощью синотов по соответствующей линии.\n",
    "- подстраиваем амплитуды по соответствующим линиям."
   ]
  },
  {
   "cell_type": "code",
   "execution_count": null,
   "metadata": {
    "scrolled": true
   },
   "outputs": [],
   "source": [
    "max_rabi_freq = 50e6 # Beyond this rabi frequency (excitation amplitude), things start to go wrong. \n",
    "max_control_rabi_freq = 5e6\n",
    "phase_scan_points = 8\n",
    "# This is Rabi frequency limit.\n",
    "    \n",
    "for CR_pulse_name, CR_pulse in CR_pulses.items():\n",
    "    tld_target = control_target_tld[CR_pulse['target']][CR_pulse['target']]\n",
    "    tld_control = control_target_tld[CR_pulse['control']][CR_pulse['control']]\n",
    "    CR_tld = control_target_tld[CR_pulse['target']][CR_pulse['control']]\n",
    "    \n",
    "    measurement_name = 'S21_r'+str(CR_pulse['target'])\n",
    "\n",
    "    if tld_control.Rabi_rect_result['rabi_rect_freq']<max_control_rabi_freq:\n",
    "        control_amplitude = 1.0\n",
    "    else:\n",
    "        control_amplitude = max_control_rabi_freq/tld_control.Rabi_rect_result['rabi_rect_freq']\n",
    "    if tld_target.Rabi_rect_result['rabi_rect_freq']<max_rabi_freq:\n",
    "        target_amplitude = 1.0\n",
    "    else:\n",
    "        target_amplitude = max_rabi_freq/tld_target.Rabi_rect_result['rabi_rect_freq']\n",
    "        \n",
    "    control_pulse = [(c, pg.rect, a*control_amplitude) for c, a in zip(tld_control.ex_channels, tld_target.ex_amplitudes)]\n",
    "    control_pulse_length = 0.5/tld_control.Rabi_rect_result['rabi_rect_freq']/control_amplitude\n",
    "    control_pulse_seq = [pg.pmulti(control_pulse_length, *tuple(control_pulse))]\n",
    "    tld_target.ex_amplitudes = (np.asarray(tld_target.ex_amplitudes)*target_amplitude).tolist()\n",
    "    \n",
    "    try:        \n",
    "        tld_target.Rabi_echo_rect(Rabi_lengths_long, interleaved_pulse_seq = control_pulse_seq)\n",
    "        control_tld = tld_target\n",
    "#        if tld_target.Rabi_echo_rect_result['rabi_rect_freq'] > 0.5*tld_target.Rabi_rect_result['rabi_rect_freq']:\n",
    "#            compensation_tld = \n",
    "        compensation_tld = CR_tld\n",
    "        print (tld_target.ex_channels, tld_target.ex_amplitudes)\n",
    "        compensation_tld_rabi_freq = CR_tld.Rabi_rect_result['rabi_rect_freq']\n",
    "        control_tld_rabi_freq = tld_target.Rabi_echo_rect_result['rabi_rect_freq']\n",
    "        compensation_tld_ramsey_decay = tld_target.Rabi_echo_rect_result['rabi_rect_decay']\n",
    "        print (compensation_tld_rabi_freq)\n",
    "        \n",
    "        thermal_state_readout_result = np.complex(*tuple(compensation_tld.Rabi_rect_result['rabi_rect_initial_points']))\n",
    "        \n",
    "        phase_guess = 0\n",
    "        amplitude_guess = 1\n",
    "        ramsey_pulse_length = 0.125/np.min([compensation_tld_rabi_freq, control_tld_rabi_freq])\n",
    "        #ramsey_period_nums=np.asarray([1,2,4,8,16,32])\n",
    "        ramsey_period_nums_max = compensation_tld_ramsey_decay/ramsey_pulse_length # maximum pulse number\n",
    "        max_pulse_len_log = np.ceil(np.log(ramsey_period_nums_max)/np.log(2))\n",
    "        print ('compensation_tld_rabi_freq: ', compensation_tld_rabi_freq)\n",
    "        print ('ramsey_pulse_length: ', ramsey_pulse_length)\n",
    "        print (max_pulse_len_log)\n",
    "        ramsey_period_nums = 2**np.arange(0, max_pulse_len_log)\n",
    "        #ramsey_period_nums = [1, 2]\n",
    "        print (ramsey_period_nums)\n",
    "        \n",
    "        for ramsey_period_num_id, ramsey_period_num in enumerate(ramsey_period_nums):\n",
    "            ## doing a phase scan\n",
    "            phase_range = np.arange(-0.5,0.5,1/phase_scan_points)*2*np.pi/ramsey_period_num+phase_guess\n",
    "            measurement = tld_phase_scan(control_tld, \n",
    "                                         compensation_tld, \n",
    "                                         phase_range, \n",
    "                                         [amplitude_guess], \n",
    "                                         ramsey_period_num, \n",
    "                                         measurement_name, \n",
    "                                         measurement_type='rabi-echo',\n",
    "                                         interleaved_pulse_seq=control_pulse_seq)\n",
    "            \n",
    "            phase_guess = measurement[1][0][np.argmin(np.abs(measurement[2]-thermal_state_readout_result))]\n",
    "            amplitude_range = np.exp(np.log(np.arange(0.5,1.5,1.0/phase_scan_points))/ramsey_period_num)*amplitude_guess\n",
    "            measurement = tld_phase_scan(control_tld, \n",
    "                                         compensation_tld, \n",
    "                                         [phase_guess], \n",
    "                                         amplitude_range,\n",
    "                                         ramsey_period_num, \n",
    "                                         measurement_name, \n",
    "                                         measurement_type='rabi-echo',\n",
    "                                         interleaved_pulse_seq=control_pulse_seq)\n",
    "            amplitude_guess = measurement[1][0][np.argmin(np.abs(measurement[2]-thermal_state_readout_result))]\n",
    "        ## scan over tld2 amplitude\n",
    "        \n",
    "        # control_tld old\n",
    "        ex_amplitudes_dict = {}\n",
    "        min_rabi_freq = np.min([compensation_tld_rabi_freq, control_tld_rabi_freq])\n",
    "        for c,a in zip(control_tld.ex_channels, control_tld.ex_amplitudes):\n",
    "            ex_amplitudes_dict[c] = a*min_rabi_freq/control_tld_rabi_freq\n",
    "        for c,a in zip(compensation_tld.ex_channels, compensation_tld.ex_amplitudes):\n",
    "        # updating with phase\n",
    "            if c in ex_amplitudes_dict:\n",
    "                ex_amplitudes_dict[c] += amplitude_guess*a*np.exp(1j*phase_guess)*min_rabi_freq/compensation_tld_rabi_freq\n",
    "            else:\n",
    "                ex_amplitudes_dict[c] =  amplitude_guess*a*np.exp(1j*phase_guess)*min_rabi_freq/compensation_tld_rabi_freq\n",
    "        control_tld.ex_amplitudes = []\n",
    "        control_tld.ex_channels = []\n",
    "        for c,a in ex_amplitudes_dict.items():\n",
    "            control_tld.ex_amplitudes.append(a)\n",
    "            control_tld.ex_channels.append(c)\n",
    "        #print (control_target_tld[q_id][qc_id].ex_channels,\n",
    "        #       control_target_tld[q_id][qc_id].ex_amplitudes)\n",
    "        print (tld_target.ex_channels, tld_target.ex_amplitudes)\n",
    "    except Exception as e:\n",
    "        print (str(e))\n",
    "        tld_target.ex_amplitudes = (np.asarray(tld_target.ex_amplitudes)/target_amplitude).tolist()\n",
    "    finally:\n",
    "        tld_target.Rabi_rect(Rabi_lengths)\n",
    "        tld_target.Rabi_echo_rect(Rabi_lengths_long, interleaved_pulse_seq = control_pulse_seq)\n",
    "        pass\n",
    "#        \n",
    "    # now that we know the parasitic CNOT rabi frequency, we can correct for it using CR_tld.\n",
    "    # need scan over phase& amplitude"
   ]
  },
  {
   "cell_type": "code",
   "execution_count": null,
   "metadata": {},
   "outputs": [],
   "source": [
    "cr_channel_amplitudes = {}\n",
    "\n",
    "for q_id in calibrated_qubits:\n",
    "    cr_channel_amplitudes[q_id] = {}\n",
    "    for qc_id in calibrated_qubits:\n",
    "        cr_channel_amplitudes[q_id][qc_id] = {c:a for c,a in zip(control_target_tld[q_id][qc_id].ex_channels,\n",
    "                                                                 control_target_tld[q_id][qc_id].ex_amplitudes)}\n",
    "        \n",
    "pqjson.dump(type=\"CR-channel-amplitudes\",name='refine-not',params = cr_channel_amplitudes)"
   ]
  },
  {
   "cell_type": "code",
   "execution_count": null,
   "metadata": {},
   "outputs": [],
   "source": [
    "cr_channel_amplitudes = pqjson.load(type=\"CR-channel-amplitudes\",name='refine-not')\n",
    "for q_id in calibrated_qubits:\n",
    "    for qc_id in calibrated_qubits:\n",
    "        if qc_id in cr_channel_amplitudes[q_id]:\n",
    "            control_target_tld[q_id][qc_id].ex_channels = []\n",
    "            control_target_tld[q_id][qc_id].ex_amplitudes = []\n",
    "            for c,a in cr_channel_amplitudes[q_id][qc_id].items():\n",
    "                control_target_tld[q_id][qc_id].ex_channels.append(c)\n",
    "                control_target_tld[q_id][qc_id].ex_amplitudes.append(a)\n",
    "            try:\n",
    "                control_target_tld[q_id][qc_id].load_calibration()\n",
    "            except:\n",
    "                if qc_id != q_id:\n",
    "                    control_target_tld[q_id][qc_id].Rabi_rect(\n",
    "                        Rabi_lengths, pre_pulse_seq=control_target_tld[qc_id][qc_id].get_pi_pulse_sequence(0.0))\n",
    "                else: \n",
    "                    control_target_tld[q_id][qc_id].Rabi_rect(Rabi_lengths)"
   ]
  },
  {
   "cell_type": "markdown",
   "metadata": {},
   "source": [
    "## Correcting the phase of the CR pulse for CX"
   ]
  },
  {
   "cell_type": "code",
   "execution_count": null,
   "metadata": {
    "scrolled": true
   },
   "outputs": [],
   "source": [
    "phases = np.linspace(-np.pi, np.pi, 32)\n",
    "for CR_pulse_name, CR_pulse in CR_pulses.items():\n",
    "    thermal_state_readout_result = np.complex(*tuple(tld_control.Rabi_rect_result['rabi_rect_initial_points']))\n",
    "    tld_target = control_target_tld[CR_pulse['target']][CR_pulse['target']]\n",
    "    tld_control = control_target_tld[CR_pulse['control']][CR_pulse['control']]\n",
    "    CR_tld = control_target_tld[CR_pulse['target']][CR_pulse['control']]\n",
    "    \n",
    "    measurement_name = 'S21_r'+str(CR_pulse['target'])\n",
    "    \n",
    "    def set_cr_phase(phase):\n",
    "        seq = tld_control.get_pi_pulse_sequence(0.0)+\\\n",
    "               tld_target.get_pi2_pulse_sequence(0.0)+\\\n",
    "                   CR_tld.get_rotation_pulse_sequence(np.pi/4, phase)+\\\n",
    "               tld_target.ro_sequence\n",
    "        pg.set_seq(seq)\n",
    "    \n",
    "    cr_phase_scan = sweep.sweep(tld_target.readout_device, \n",
    "                   (phases, set_cr_phase, 'CR phase'), filename='Cross-resonance '+CR_pulse_name+' phase scan')[tld_target.readout_measurement_name]\n",
    "    \n",
    "    phase_guess = -cr_phase_scan[1][0][np.argmin(np.abs(cr_phase_scan[2]-thermal_state_readout_result))]\n",
    "    CR_tld.ex_amplitudes = [a*np.exp(1j*phase_guess) for a in CR_tld.ex_amplitudes]\n",
    "    #pre_pulse_sequence\n",
    "    #control_target_tld[q_id][qc_id].Rabi_rect(\n",
    "    #                    Rabi_lengths, pre_pulse_seq=control_target_tld[qc_id][qc_id].get_pi_pulse_sequence())\n",
    "    "
   ]
  },
  {
   "cell_type": "code",
   "execution_count": null,
   "metadata": {},
   "outputs": [],
   "source": [
    "cr_channel_amplitudes = {}\n",
    "\n",
    "for q_id in calibrated_qubits:\n",
    "    cr_channel_amplitudes[q_id] = {}\n",
    "    for qc_id in calibrated_qubits:\n",
    "        cr_channel_amplitudes[q_id][qc_id] = {c:a for c,a in zip(control_target_tld[q_id][qc_id].ex_channels,\n",
    "                                                                 control_target_tld[q_id][qc_id].ex_amplitudes)}\n",
    "        \n",
    "pqjson.dump(type=\"CR-channel-amplitudes\",name='cnot-angle-corrected',params = cr_channel_amplitudes)"
   ]
  },
  {
   "cell_type": "code",
   "execution_count": null,
   "metadata": {},
   "outputs": [],
   "source": [
    "cr_channel_amplitudes = pqjson.load(type=\"CR-channel-amplitudes\",name='cnot-angle-corrected')\n",
    "for q_id in calibrated_qubits:\n",
    "    for qc_id in calibrated_qubits:\n",
    "        if qc_id in cr_channel_amplitudes[q_id]:\n",
    "            control_target_tld[q_id][qc_id].ex_channels = []\n",
    "            control_target_tld[q_id][qc_id].ex_amplitudes = []\n",
    "            for c,a in cr_channel_amplitudes[q_id][qc_id].items():\n",
    "                control_target_tld[q_id][qc_id].ex_channels.append(c)\n",
    "                control_target_tld[q_id][qc_id].ex_amplitudes.append(a)\n",
    "            try:\n",
    "                control_target_tld[q_id][qc_id].load_calibration()\n",
    "            except:\n",
    "                if qc_id != q_id:\n",
    "                    control_target_tld[q_id][qc_id].Rabi_rect(Rabi_lengths_long, tail_length=15e-9)\n",
    "                    control_target_tld[q_id][qc_id].Rabi_rect(Rabi_lengths_long, tail_length=15e-9,\n",
    "                        pre_pulse_seq=control_target_tld[qc_id][qc_id].get_pi_pulse_sequence(0.0, max_rabi_freq=10e6))\n",
    "                else: \n",
    "                    control_target_tld[q_id][qc_id].Rabi_rect(Rabi_lengths)"
   ]
  },
  {
   "cell_type": "code",
   "execution_count": null,
   "metadata": {},
   "outputs": [],
   "source": [
    "#tld_target.Rabi_rect_result['rabi_rect_freq']\n",
    "#tld_target.Rabi_rect(Rabi_lengths_long)\n",
    "#for q_id in calibrated_qubits:\n",
    "#    for qc_id in calibrated_qubits:\n",
    "#        if qc_id != q_id:\n",
    "#            continue\n",
    "#        control_target_tld[q_id][qc_id].Rabi_rect(Rabi_lengths)\n",
    "        \n",
    "#for q_id in calibrated_qubits:\n",
    "#    for qc_id in calibrated_qubits:\n",
    "#        if qc_id == q_id:        \n",
    "#            continue\n",
    "#        control_target_tld[q_id][qc_id].Rabi_rect(\n",
    "#                Rabi_lengths_long, pre_pulse_seq=control_target_tld[qc_id][qc_id].get_pi_pulse_sequence(0))"
   ]
  },
  {
   "cell_type": "markdown",
   "metadata": {},
   "source": [
    "# Working point optimization by Ramsey"
   ]
  },
  {
   "cell_type": "code",
   "execution_count": null,
   "metadata": {},
   "outputs": [],
   "source": [
    "working_points_flux = [#[0.493,0.0,-0.527],\n",
    "                       #[0.504,0.125,-0.502],\n",
    "                       #[0.493,0.25,-0.526],\n",
    "                       #[0.505,0.375,-0.502],\n",
    "                     #[0.494,0.30,-0.525]\n",
    "                        [0.494,0.50,-0.525]\n",
    "                      ]\n",
    "#working_point_flux = [0.504,0.0,-0.502]\n",
    "flux_deltas = np.linspace(-0.01, 0.01, 21)"
   ]
  },
  {
   "cell_type": "code",
   "execution_count": null,
   "metadata": {},
   "outputs": [],
   "source": [
    "np.dot(np.linalg.inv(L_mat), np.asarray(working_points_flux).T)"
   ]
  },
  {
   "cell_type": "code",
   "execution_count": null,
   "metadata": {},
   "outputs": [],
   "source": [
    "for working_point_id, working_point_flux in enumerate(working_points_flux):\n",
    "    for qubit_id in ['3']:#calibrated_qubits:\n",
    "            #squid_id = int(qubit_id)-1\n",
    "            #squid_id = 1\n",
    "            for squid_id in [2]:\n",
    "                coil_voltages = np.dot(np.linalg.inv(L_mat), -np.asarray(phi0_vec)+np.asarray(working_point_flux))\n",
    "                for coil_id, coil_voltage in enumerate(coil_voltages):\n",
    "                    coil_device.set_offset(coil_voltage, channel=coil_control_channels[coil_id])\n",
    "            \n",
    "                flux_range = flux_deltas+working_point_flux[squid_id]\n",
    "            \n",
    "                def squid_flux_setter(flux):\n",
    "                    fluxes = np.asarray(working_point_flux)\n",
    "                    fluxes[squid_id] = flux\n",
    "                    coil_voltages = np.dot(np.linalg.inv(L_mat), -np.asarray(phi0_vec)+fluxes) \n",
    "                    awg_tek.stop()\n",
    "                    for coil_id, coil in enumerate(coil_control_channels):\n",
    "                        coil_device.set_offset(coil_voltages[coil_id], channel=coil)\n",
    "                    awg_tek.run()\n",
    "            \n",
    "                qubit_coil_tld[qubit_id][str(main_rf_coils[qubit_id])].measurement_name_comment = ''\n",
    "                #qubit_coil_tld[qubit_id][main_rf_coils[qubit_id]].measurement_name_comment = 'WP: {:5.4f}, {:5.4f}, {:5.4f}'.format(*tuple(coil_voltages))\n",
    "                qubit_coil_tld[qubit_id][str(main_rf_coils[qubit_id])].Ramsey(np.arange(0, 1e-6, 50e-9), 0,\n",
    "                        (flux_range, squid_flux_setter,  'SQUID #{} flux'.format(squid_id)))\n",
    "    plt.close('all')"
   ]
  },
  {
   "cell_type": "code",
   "execution_count": null,
   "metadata": {},
   "outputs": [],
   "source": [
    "## need fitting routine for 2D Ramsey"
   ]
  },
  {
   "cell_type": "markdown",
   "metadata": {},
   "source": [
    "# Readout calibration"
   ]
  },
  {
   "cell_type": "code",
   "execution_count": 19,
   "metadata": {
    "ExecuteTime": {
     "end_time": "2019-07-07T18:54:22.889391Z",
     "start_time": "2019-07-07T18:54:22.862405Z"
    }
   },
   "outputs": [
    {
     "data": {
      "text/plain": [
       "<module 'qsweepy.data_reduce' from 'C:\\\\qtlab_replacement\\\\qsweepy\\\\data_reduce.py'>"
      ]
     },
     "execution_count": 19,
     "metadata": {},
     "output_type": "execute_result"
    }
   ],
   "source": [
    "imp.reload(single_shot_readout)\n",
    "imp.reload(readout_classifier)\n",
    "imp.reload(data_reduce)"
   ]
  },
  {
   "cell_type": "code",
   "execution_count": null,
   "metadata": {},
   "outputs": [],
   "source": [
    "#%%timeit\n",
    "qubits_to_calibrate = ['1', '3']\n",
    "\n",
    "adc.set_nums(5000)\n",
    "\n",
    "prepare_excited_seqs = {'1': control_target_tld['3']['3'].get_pi2_pulse_sequence(0, max_rabi_freq =20e6)+\\\n",
    "                             control_target_tld['1']['1'].get_pi_pulse_sequence(0, max_rabi_freq =20e6)+[pg.p(None,10e-9)],\n",
    "                        '3': control_target_tld['1']['1'].get_pi2_pulse_sequence(0, max_rabi_freq =20e6)+\\\n",
    "                             control_target_tld['3']['3'].get_pi_pulse_sequence(0, max_rabi_freq =20e6)+[pg.p(None,10e-9)]}\n",
    "#downsampled_adc = data_reduce.data_reduce(adc)\n",
    "#downsampled_adc.filters['1'] = data_reduce.downsample_reducer(adc, \n",
    "#                                                               'Voltage', \n",
    "#                                                               1, \n",
    "#                                                               iq_ro.carriers['iq_ro_q1'].get_if(), \n",
    "#                                                               iq=True, \n",
    "#                                                                downsample=64)\n",
    "#downsampled_adc.filters['3'] = data_reduce.downsample_reducer(adc, \n",
    "#                                                               'Voltage', \n",
    "#                                                               1, \n",
    "#                                                               iq_ro.carriers['iq_ro_q3'].get_if(), \n",
    "#                                                               iq=True, \n",
    "#                                                               downsample=64)\n",
    "\n",
    "ro_seq = trigger_readout_seq+ [ pg.pmulti(0.15e-6),\n",
    "                  #pg.pmulti(0.01e-6, ('dc_coil', pg.rect, 0.86)),\n",
    "                  pg.pmulti(0.40e-6,#ro_dac_length, \n",
    "                            ('iq_ro_q1', pg.rect, 0.15),\n",
    "                            #('iq_ro_q2', pg.rect, 0.25), \n",
    "                            ('iq_ro_q3', pg.rect, 0.05),\n",
    "                            ('pa', pg.rect, 0.0),\n",
    "                  #          ('dc_coil', pg.rect, 0.86)\n",
    "                           ),\n",
    "                  pg.pmulti(0.9e-6, \n",
    "                            ('pa', pg.rect, 0.0),\n",
    "                  #          ('dc_coil', pg.rect, 0.86)\n",
    "                           ),]\n",
    "\n",
    "single_shot_readouts = {}\n",
    "\n",
    "for _it in range(1):\n",
    "    for qubit_id in qubits_to_calibrate:\n",
    "\n",
    "        single_shot_readouts[qubit_id] = single_shot_readout.single_shot_readout(adc=adc, \n",
    "                                    #adc=downsampled_adc,\n",
    "                                    prepare_seqs = [[], prepare_excited_seqs[qubit_id]],\n",
    "                                    ro_seq = ro_seq, \n",
    "                                    pulse_generator = pg,\n",
    "                                    ro_delay_seq = None,\n",
    "                                    #adc_measurement_name = qubit_id\n",
    "                                    adc_measurement_name = 'Voltage'\n",
    "                                                                                )\n",
    "        single_shot_readouts[qubit_id].readout_classifier.cov_mode = 'equal'\n",
    "        single_shot_readouts[qubit_id].repeat_samples = 2\n",
    "        \n",
    "        #single_shot_readouts[qubit_id].save_last_samples = True\n",
    "        print (qubit_id, single_shot_readouts[qubit_id].measure())\n",
    "\n",
    "adc.set_nums(5000)"
   ]
  },
  {
   "cell_type": "code",
   "execution_count": null,
   "metadata": {},
   "outputs": [],
   "source": [
    "plt.figure('Qubit 1 class averages real')\n",
    "plt.plot(np.real(single_shot_readouts['1'].readout_classifier.class_averages[0]))\n",
    "plt.plot(np.real(single_shot_readouts['1'].readout_classifier.class_averages[1]))\n",
    "\n",
    "plt.figure('Qubit 3 class averages real')\n",
    "plt.plot(np.real(single_shot_readouts['3'].readout_classifier.class_averages[0]))\n",
    "plt.plot(np.real(single_shot_readouts['3'].readout_classifier.class_averages[1]))\n",
    "\n",
    "plt.figure('Qubit 1 class averages imag')\n",
    "plt.plot(np.imag(single_shot_readouts['1'].readout_classifier.class_averages[0]))\n",
    "plt.plot(np.imag(single_shot_readouts['1'].readout_classifier.class_averages[1]))\n",
    "\n",
    "plt.figure('Qubit 3 class averages imag')\n",
    "plt.plot(np.imag(single_shot_readouts['3'].readout_classifier.class_averages[0]))\n",
    "plt.plot(np.imag(single_shot_readouts['3'].readout_classifier.class_averages[1]))"
   ]
  },
  {
   "cell_type": "code",
   "execution_count": null,
   "metadata": {},
   "outputs": [],
   "source": [
    "multiqubit_single_shot = data_reduce.data_reduce(adc)\n",
    "multiqubit_single_shot.filters['1'] = single_shot_readouts['1'].filter_binary\n",
    "multiqubit_single_shot.filters['3'] = single_shot_readouts['3'].filter_binary\n",
    "\n",
    "multiqubit_state_probabilities = data_reduce.data_reduce(multiqubit_single_shot)\n",
    "multiqubit_state_probabilities.filters['00'] = data_reduce.hist_filter(multiqubit_single_shot, ('1', 0), ('3', 0))\n",
    "multiqubit_state_probabilities.filters['01'] = data_reduce.hist_filter(multiqubit_single_shot, ('1', 1), ('3', 0))\n",
    "multiqubit_state_probabilities.filters['10'] = data_reduce.hist_filter(multiqubit_single_shot, ('1', 0), ('3', 1))\n",
    "multiqubit_state_probabilities.filters['11'] = data_reduce.hist_filter(multiqubit_single_shot, ('1', 1), ('3', 1))"
   ]
  },
  {
   "cell_type": "code",
   "execution_count": null,
   "metadata": {},
   "outputs": [],
   "source": [
    "print(single_shot_readouts['1'].confusion_matrix)\n",
    "print(single_shot_readouts['3'].confusion_matrix)"
   ]
  },
  {
   "cell_type": "code",
   "execution_count": null,
   "metadata": {},
   "outputs": [],
   "source": [
    "plt.figure('Qubit 3 readout hist')\n",
    "plt.plot(single_shot_readouts['3'].readout_classifier.hists[0,:])\n",
    "plt.plot(single_shot_readouts['3'].readout_classifier.hists[1,:])"
   ]
  },
  {
   "cell_type": "code",
   "execution_count": null,
   "metadata": {},
   "outputs": [],
   "source": [
    "plt.figure('Qubit 1 readout hist')\n",
    "plt.plot(single_shot_readouts['1'].readout_classifier.hists[0,:])\n",
    "plt.plot(single_shot_readouts['1'].readout_classifier.hists[1,:])"
   ]
  },
  {
   "cell_type": "code",
   "execution_count": null,
   "metadata": {},
   "outputs": [],
   "source": [
    "confusion_matrix_nd = np.reshape(\n",
    "np.reshape(single_shot_readouts['1'].confusion_matrix, (2,1,2,1))*\\\n",
    "np.reshape(single_shot_readouts['3'].confusion_matrix, (1,2,1,2)), (4,4))\n",
    "print (confusion_matrix_nd)"
   ]
  },
  {
   "cell_type": "code",
   "execution_count": null,
   "metadata": {},
   "outputs": [],
   "source": [
    "readout_result_order = ['00', '01', '10', '11']\n",
    "preparation_sequences = {'00':ro_seq,\n",
    "                         '10':control_target_tld['3']['3'].get_pi_pulse_sequence(0)+ro_seq,\n",
    "                         '01':control_target_tld['1']['1'].get_pi_pulse_sequence(0)+ro_seq,\n",
    "                         '11':control_target_tld['1']['1'].get_pi_pulse_sequence(0)+\\\n",
    "                              control_target_tld['3']['3'].get_pi_pulse_sequence(0)+ro_seq}\n",
    "confusion_matrix_elements = np.zeros((4,4))\n",
    "\n",
    "for target_state_id, target_state in enumerate(readout_result_order):\n",
    "    pg.set_seq(preparation_sequences[target_state])\n",
    "    multiqubit_measurement = multiqubit_state_probabilities.measure()\n",
    "    for readout_state_id, readout_state in enumerate(readout_result_order):\n",
    "        confusion_matrix_elements[target_state_id, readout_state_id] = multiqubit_measurement[readout_state]\n",
    "print (confusion_matrix_elements)"
   ]
  },
  {
   "cell_type": "code",
   "execution_count": null,
   "metadata": {},
   "outputs": [],
   "source": [
    "# To calibrate we need a pi-pulse. Two choices are available, either we use a rectangular pulse or a gaussian pulse.\n",
    "# The pulse is used to excite the qubit with high probability.\n",
    "\n",
    "prepare_excited_seqs = {'1': control_target_tld['3']['3'].get_pi2_pulse_sequence(0, max_rabi_freq =10e6)+\\\n",
    "                             control_target_tld['1']['1'].get_pi_pulse_sequence(0, max_rabi_freq =10e6)+[pg.p(None,10e-9)],\n",
    "                        '3': control_target_tld['1']['1'].get_pi2_pulse_sequence(0, max_rabi_freq =10e6)+\\\n",
    "                             control_target_tld['3']['3'].get_pi_pulse_sequence(0, max_rabi_freq =10e6)+[pg.p(None,10e-9)]}\n",
    "downsampled_adc = data_reduce.data_reduce(adc)\n",
    "downsampled_adc.filters['1'] = data_reduce.downsample_reducer(adc, \n",
    "                                                               'Voltage', \n",
    "                                                               1, \n",
    "                                                               iq_ro.carriers['iq_ro_q1'].get_if(), \n",
    "                                                               iq=True, \n",
    "                                                                downsample=64)\n",
    "downsampled_adc.filters['3'] = data_reduce.downsample_reducer(adc, \n",
    "                                                               'Voltage', \n",
    "                                                               1, \n",
    "                                                               iq_ro.carriers['iq_ro_q3'].get_if(), \n",
    "                                                               iq=True, \n",
    "                                                               downsample=64)\n",
    "\n",
    "ro_seq = trigger_readout_seq+[ pg.pmulti(ro_dac_length*2.5, \n",
    "                        ('iq_ro_q1', pg.rect, 0.07),\n",
    "                        ('iq_ro_q3', pg.rect, 0.04)\n",
    "                    ) ]\n",
    "qubit_id = '1'\n",
    "single_shot_readouts[qubit_id] = single_shot_readout.single_shot_readout(#adc=adc, \n",
    "                                    adc=downsampled_adc,\n",
    "                                    prepare_seqs = [[], prepare_excited_seqs[qubit_id]],\n",
    "                                    ro_seq = ro_seq, \n",
    "                                    pulse_generator = pg,\n",
    "                                    ro_delay_seq = None,\n",
    "                                    adc_measurement_name = qubit_id\n",
    "                                    #adc_measurement_name = 'Voltage'\n",
    "                                                                                )\n",
    "single_shot_readouts[qubit_id].readout_classifier.cov_mode = 'equal'\n",
    "single_shot_readouts[qubit_id].repeat_samples = 2\n",
    "\n",
    "target_min = lambda: 1-single_shot_readouts[qubit_id].measure()['probability_aware_fidelity']\n",
    "\n",
    "class ro_pulse_generator:\n",
    "    def __init__(self, adc_sz, ro_dac_amplitude, ro_dac_length):\n",
    "        self.ro_dac_amplitude = ro_dac_amplitude\n",
    "        self.ro_dac_length = ro_dac_length\n",
    "        self.adc_sz = adc_sz\n",
    "    def make_ro_seq(self):\n",
    "        pl = self.ro_dac_length\n",
    "        self.adc_sz.ro_seq = [pg.p(None, 2e-09),\n",
    "            pg.p('ro_trg', trg_length, pg.rect, 1), \n",
    "                pg.p('iq_ro_q1', pl, pg.rect, self.ro_dac_amplitude)]\n",
    "    def set_ro_length(self, ro_dac_length):\n",
    "        self.ro_dac_length = ro_dac_length\n",
    "        self.make_ro_seq()\n",
    "    def set_ro_amplitude(self, ro_amplitude):\n",
    "        self.ro_dac_amplitude = ro_amplitude\n",
    "        self.make_ro_seq()\n",
    "\n",
    "ro_dac_lengths = np.linspace(0.0e-6, 1.0e-6, 21)\n",
    "ro_dac_amplitudes = np.linspace(0.0,0.2, 21)\n",
    "rel_amps = np.linspace(0.4, 0.6, 21)\n",
    "#ro_dac_length = 300e-9\n",
    "\n",
    "ro_pulse_generator_inst = ro_pulse_generator(single_shot_readouts[qubit_id], 0.07, ro_dac_length*2.5)\n",
    "#solution, score = sweep.optimize(target_min, (ro_pulse_generator_inst.set_ro_length, ro_dac_length), \n",
    "#                                             (ro_pulse_generator_inst.set_ro_amplitude, 0.07), maxfun=30)\n",
    "sweep.sweep(single_shot_readouts[qubit_id], (ro_dac_lengths, ro_pulse_generator_inst.set_ro_length, 'Readout pulse length', 's'),\n",
    "               (ro_dac_amplitudes, ro_pulse_generator_inst.set_ro_amplitude, 'Readout pulse amplitude'),\n",
    "           filename='Readout fidelity qubit1')\n",
    "\n",
    "#ro_dac_length = solution[0]\n",
    "#ro_dac_amplitude = solution[1]"
   ]
  },
  {
   "cell_type": "code",
   "execution_count": null,
   "metadata": {},
   "outputs": [],
   "source": []
  },
  {
   "cell_type": "markdown",
   "metadata": {},
   "source": [
    "# Single-qubit calibration"
   ]
  },
  {
   "cell_type": "markdown",
   "metadata": {},
   "source": [
    "## Define drags"
   ]
  },
  {
   "cell_type": "code",
   "execution_count": null,
   "metadata": {},
   "outputs": [],
   "source": [
    "from qsweepy import gauss_hd_calibration\n",
    "imp.reload(gauss_hd_calibration)"
   ]
  },
  {
   "cell_type": "code",
   "execution_count": null,
   "metadata": {},
   "outputs": [],
   "source": [
    "drag_hds_short = {'1':gauss_hd_calibration.gauss_hd_calibration(control_target_tld['1']['1'], \n",
    "                                     sigma=4e-9, \n",
    "                                     length=20e-9,\n",
    "                                     alpha=0.0, \n",
    "                                     anharmonicity=250e6),\n",
    "            '3':gauss_hd_calibration.gauss_hd_calibration(control_target_tld['3']['3'], \n",
    "                                      sigma=4e-9, \n",
    "                                      length=20e-9,\n",
    "                                      alpha=0.0, \n",
    "                                      anharmonicity=250e6),\n",
    "                 }\n",
    "\n",
    "#rabi_amplitudes = np.linspace(0.0, 1.0, 21)\n",
    "#num_pulses_ape = np.arange(0, 20, 1)\n",
    "#num_pulses_rabi = 4\n",
    "#num_pulses_calibration = 16"
   ]
  },
  {
   "cell_type": "markdown",
   "metadata": {},
   "source": [
    "## Amplitude scan"
   ]
  },
  {
   "cell_type": "code",
   "execution_count": null,
   "metadata": {
    "scrolled": true
   },
   "outputs": [],
   "source": [
    "iters = 1\n",
    "for _iter in range(iters):\n",
    "    for q_id, gauss_calib in drag_hds_short.items():\n",
    "        #if q_id == '1':\n",
    "            gauss_calib.calibrate_amplitude(max_angle=np.pi/2.)\n",
    "            gauss_calib.save_calibration()"
   ]
  },
  {
   "cell_type": "markdown",
   "metadata": {},
   "source": [
    "## Single-qubit randomized benchmarking"
   ]
  },
  {
   "cell_type": "code",
   "execution_count": null,
   "metadata": {},
   "outputs": [],
   "source": [
    "imp.reload(tomography)\n",
    "iters = 1\n",
    "for _iter in range(iters):\n",
    "    for q_id, gauss_calib in drag_hds_short.items():\n",
    "        gauss_calib.randomized_clifford_benchmarking(single_shot_readouts[q_id], np.arange(0,100,2))"
   ]
  },
  {
   "cell_type": "code",
   "execution_count": null,
   "metadata": {},
   "outputs": [],
   "source": []
  },
  {
   "cell_type": "markdown",
   "metadata": {},
   "source": [
    "## Randomized benchmarking over alpha"
   ]
  },
  {
   "cell_type": "code",
   "execution_count": null,
   "metadata": {},
   "outputs": [],
   "source": [
    "imp.reload(tomography)\n",
    "from qsweepy import clifford\n",
    "imp.reload(clifford)\n",
    "iters = 1\n",
    "for _iter in range(iters):\n",
    "    for q_id, gauss_calib in drag_hds_short.items():\n",
    "        alpha_range = np.linspace(-1.5, 1.5, 30)\n",
    "        def alpha_setter(x):\n",
    "            gauss_calib.alpha = x\n",
    "            pi2 = {'X/2': {'pulses':gauss_calib.get_pulse_seq(np.pi/2., np.pi),\n",
    "                           'unitary': np.sqrt(0.5)*np.asarray([[1, -1j],  [-1j, 1]])},\n",
    "                   'Y/2': {'pulses':gauss_calib.get_pulse_seq(np.pi/2., np.pi/2.),\n",
    "                           'unitary': np.sqrt(0.5)*np.asarray([[1, -1],    [1, 1]])},\n",
    "                   '-X/2':{'pulses':gauss_calib.get_pulse_seq(np.pi/2., 0),\n",
    "                           'unitary': np.sqrt(0.5)*np.asarray([[1, 1j],   [1j, 1]])},\n",
    "                   '-Y/2':{'pulses':gauss_calib.get_pulse_seq(np.pi/2., -np.pi/2.),\n",
    "                           'unitary': np.sqrt(0.5)*np.asarray([[1, 1],   [-1, 1]])},\n",
    "                   'I':   {'pulses':[], 'unitary':np.asarray([[1, 0], [0,1]])}\n",
    "\t\t\t}\n",
    "            clifford_group = clifford.generate_group(pi2)\n",
    "            gauss_calib.pi2_bench.interleavers = clifford_group\n",
    "            \n",
    "        gauss_calib.randomized_clifford_benchmarking(single_shot_readouts[q_id], [60], \n",
    "                                                     (alpha_range, alpha_setter, 'DRAG HD alpha'))"
   ]
  },
  {
   "cell_type": "code",
   "execution_count": null,
   "metadata": {},
   "outputs": [],
   "source": [
    "imp.reload(tomography)\n",
    "from qsweepy import clifford\n",
    "imp.reload(clifford)\n",
    "iters = 1\n",
    "for _iter in range(iters):\n",
    "    for q_id, gauss_calib in drag_hds_short.items():\n",
    "        gauss_calib.alpha=0.0"
   ]
  },
  {
   "cell_type": "markdown",
   "metadata": {},
   "source": [
    "# Сингл-шот однокубитный и двухкубитный"
   ]
  },
  {
   "cell_type": "code",
   "execution_count": null,
   "metadata": {},
   "outputs": [],
   "source": [
    "multiqubit_single_shot = data_reduce.data_reduce(downsampled_adc)\n",
    "multiqubit_single_shot.filters['1'] = single_shot_readouts['1'].filter_binary\n",
    "multiqubit_single_shot.filters['3'] = single_shot_readouts['3'].filter_binary\n",
    "\n",
    "qubit_state_probabilities={}\n",
    "qubit_state_probabilities['1'] = data_reduce.data_reduce(multiqubit_single_shot)\n",
    "qubit_state_probabilities['1'].filters['0'] = data_reduce.hist_filter(multiqubit_single_shot, ('1', 0))\n",
    "qubit_state_probabilities['1'].filters['1'] = data_reduce.hist_filter(multiqubit_single_shot, ('1', 1))\n",
    "qubit_state_probabilities['3'] = data_reduce.data_reduce(multiqubit_single_shot)\n",
    "qubit_state_probabilities['3'].filters['0'] = data_reduce.hist_filter(multiqubit_single_shot, ('3', 0))\n",
    "qubit_state_probabilities['3'].filters['1'] = data_reduce.hist_filter(multiqubit_single_shot, ('3', 1))"
   ]
  },
  {
   "cell_type": "code",
   "execution_count": null,
   "metadata": {},
   "outputs": [],
   "source": [
    "def get_pi_half(qubit, phase):\n",
    "    return drag_hds_short[qubit].get_pulse_seq(np.pi/2., phase)\n",
    "def get_pi(qubit, phase=0.):\n",
    "    #return drag_hds_long[qubit_id].get_pulse_seq(np.pi, phase)\n",
    "    return drag_hds_short[qubit].get_pulse_seq(np.pi/2., phase)+\\\n",
    "            drag_hds_short[qubit].get_pulse_seq(np.pi/2., phase)\n",
    "def get_rotation(qubit, angle, phase):\n",
    "    if angle>np.pi/2.:\n",
    "        #_dict = drag_hds_long\n",
    "        return drag_hds_short[qubit].get_pulse_seq(angle/2., phase)+\\\n",
    "                drag_hds_short[qubit].get_pulse_seq(angle/2., phase)\n",
    "    else:\n",
    "        return drag_hds_short[qubit].get_pulse_seq(angle, phase)\n",
    "        #_dict = drag_hds_short\n",
    "    \n",
    "    #return _dict[qubit].get_pulse_seq(angle, phase)"
   ]
  },
  {
   "cell_type": "markdown",
   "metadata": {},
   "source": [
    "# Z-pulse calibration"
   ]
  },
  {
   "cell_type": "code",
   "execution_count": null,
   "metadata": {},
   "outputs": [],
   "source": [
    "#working_point_final = [0.494, 0.5, -0.525]\n",
    "working_point_final = [0.494, 0.465, -0.510]\n",
    "voltage_offset_final = np.dot(np.linalg.inv(L_mat), np.asarray(working_point_final)-np.asarray(working_point))"
   ]
  },
  {
   "cell_type": "code",
   "execution_count": null,
   "metadata": {
    "scrolled": true
   },
   "outputs": [],
   "source": [
    "z_pulse_width = 100e-9\n",
    "#z_pulse_sigma = 200e-9\n",
    "tail_length = 15e-9\n",
    "z_pulse_amplitudes = np.linspace(1.5, 2.5, 21)\n",
    "z_pulse_amplitude = 2.0\n",
    "z_pulse_lengths = np.arange(30e-9, 1000e-9, 20e-9)\n",
    "#working_point_final = [0.494, 0.5, -0.525]\n",
    "pause_length = 20e-9\n",
    "\n",
    "working_point_final = [0.494, 0.465, -0.510]\n",
    "voltage_offset_final = np.dot(np.linalg.inv(L_mat), np.asarray(working_point_final)-np.asarray(working_point))\n",
    "\n",
    "#voltage_offset_initial = np.dot(np.linalg.inv(L_mat), np.asarray(working_point_initial)-np.asarray(working_point))\n",
    "#voltage_offset_final = np.dot(np.linalg.inv(L_mat), np.asarray(working_point_final)-np.asarray(working_point))\n",
    "class z_pulse_settings:\n",
    "    def set_z_pulse_amplitude(self, amplitude):\n",
    "        self.z_pulse_amplitude = amplitude\n",
    "        return [pg.p(None, pause_length),\n",
    "        pg.pmulti(self.z_pulse_width, ('dc_coil1', pg.rect_cos, self.z_pulse_amplitude*voltage_offset_final[0], tail_length),\n",
    "                             ('dc_coil2', pg.rect_cos, self.z_pulse_amplitude*voltage_offset_final[1], tail_length),\n",
    "                             ('dc_coil3', pg.rect_cos, self.z_pulse_amplitude*voltage_offset_final[2], tail_length)),\n",
    "            pg.p(None, pause_length)]\n",
    "\n",
    "    def set_z_pulse_length(self, length):\n",
    "        if length < tail_length*2:\n",
    "            length = tail_length*2\n",
    "        print (length)\n",
    "        self.z_pulse_width=length\n",
    "        return [pg.p(None, pause_length),\n",
    "            pg.pmulti(self.z_pulse_width, ('dc_coil1', pg.rect_cos, self.z_pulse_amplitude*voltage_offset_final[0], tail_length),\n",
    "                              ('dc_coil2', pg.rect_cos, self.z_pulse_amplitude*voltage_offset_final[1], tail_length),\n",
    "                              ('dc_coil3', pg.rect_cos, self.z_pulse_amplitude*voltage_offset_final[2], tail_length)),\n",
    "            pg.p(None, pause_length)]\n",
    "    \n",
    "    def set_z_pulse_params(self, amplitude, length):\n",
    "        if length < tail_length*2:\n",
    "            length = tail_length*2\n",
    "        print (length)\n",
    "        self.z_pulse_width=length\n",
    "        self.z_pulse_amplitude = amplitude\n",
    "        return [pg.p(None, pause_length),\n",
    "            pg.pmulti(self.z_pulse_width, ('dc_coil1', pg.rect_cos, self.z_pulse_amplitude*voltage_offset_final[0], tail_length),\n",
    "                              ('dc_coil2', pg.rect_cos, self.z_pulse_amplitude*voltage_offset_final[1], tail_length),\n",
    "                              ('dc_coil3', pg.rect_cos, self.z_pulse_amplitude*voltage_offset_final[2], tail_length)),\n",
    "            pg.p(None, pause_length)]\n",
    "    \n",
    "z_pulse_setter = z_pulse_settings()\n",
    "z_pulse_setter.z_pulse_width=z_pulse_width\n",
    "z_pulse_setter.z_pulse_amplitude=z_pulse_amplitude\n",
    "\n",
    "for qc_id, q_id in [('3', '1')]:#[('3', '1'), ('1', '3')]:\n",
    "    control_pulse = []\n",
    "    control_target_tld[q_id][q_id].Ramsey_probe([],\n",
    "                                                                z_pulse_setter.set_z_pulse_length,\n",
    "                                                                [0.], 10e6,\n",
    "                                                                #(z_pulse_amplitudes, z_pulse_setter.set_z_pulse_amplitude, 'Z-pulse amplitude'),\n",
    "                                                                (z_pulse_lengths, z_pulse_setter.set_z_pulse_length, 'Z-pulse length')\n",
    "                                                               )\n",
    "    control_target_tld[q_id][q_id].Ramsey_probe(get_pi(qc_id),\n",
    "                                                                z_pulse_setter.set_z_pulse_length,\n",
    "                                                                [0.], 10e6,\n",
    "                                                                #(z_pulse_amplitudes, z_pulse_setter.set_z_pulse_amplitude, 'Z-pulse amplitude'),\n",
    "                                                                (z_pulse_lengths, z_pulse_setter.set_z_pulse_length, 'Z-pulse length')\n",
    "                                                               )"
   ]
  },
  {
   "cell_type": "markdown",
   "metadata": {},
   "source": [
    "## Final settings for CZ pulse"
   ]
  },
  {
   "cell_type": "code",
   "execution_count": null,
   "metadata": {},
   "outputs": [],
   "source": [
    "pause_length = 15e-9\n",
    "cz_pulse_length = 430e-9\n",
    "cz_pulse_amplitude=2.0\n",
    "cz_tail_length=15e-9\n",
    "working_point_final = [0.494, 0.465, -0.510]\n",
    "cz_pulse = [pg.p(None, pause_length),\n",
    "        pg.pmulti(cz_pulse_length, ('dc_coil1', pg.rect_cos, cz_pulse_amplitude*voltage_offset_final[0], cz_tail_length),\n",
    "                             ('dc_coil2', pg.rect_cos, cz_pulse_amplitude*voltage_offset_final[1], cz_tail_length),\n",
    "                             ('dc_coil3', pg.rect_cos, cz_pulse_amplitude*voltage_offset_final[2], cz_tail_length)),\n",
    "            pg.p(None, pause_length)]"
   ]
  },
  {
   "cell_type": "markdown",
   "metadata": {},
   "source": [
    "## Response function "
   ]
  },
  {
   "cell_type": "code",
   "execution_count": null,
   "metadata": {},
   "outputs": [],
   "source": [
    "class pulse_setter:\n",
    "    def __init__(self):\n",
    "        self.max_length = 200\n",
    "        self.frequency_offset = 0e6\n",
    "        self.z_pulse_amplitude = 0.2\n",
    "        self.z_pulse_length = 50e-9\n",
    "        self.z_pulse_channel = 'dc_coil1'\n",
    "    def set_microwave_delay(self, delay):\n",
    "        # not a microwave delay, but a dc anti-delay\n",
    "        self.microwave_delay = delay\n",
    "        self.regenerate_pulse()\n",
    "    def set_microwave_frequency(self, frequency):\n",
    "        self.frequency_offset = frequency\n",
    "        self.regenerate_pulse()\n",
    "    def regenerate_pulse(self):\n",
    "        pulse = {channel:np.zeros(self.max_length) for channel in pg.channels}\n",
    "        microwave_pulse_length = len(self.microwave_pulse['ro_trg'])\n",
    "        microwave_pulse_start = int(np.ceil((self.max_length-microwave_pulse_length)/2))\n",
    "        microwave_pulse_end = int(np.ceil((self.max_length+microwave_pulse_length)/2))\n",
    "        frequency_factor = np.exp(1j*np.arange(microwave_pulse_length)*2*np.pi*self.frequency_offset/pg.channels['ro_trg'].get_clock())\n",
    "        for channel in pg.channels.keys():\n",
    "            pulse[channel][microwave_pulse_start:microwave_pulse_end] = self.microwave_pulse[channel]*frequency_factor\n",
    "        pulse[self.z_pulse_channel][microwave_pulse_start-int(self.microwave_delay*pg.channels[self.z_pulse_channel].get_clock()):\\\n",
    "                microwave_pulse_start+int((-self.microwave_delay+self.z_pulse_length)*pg.channels[self.z_pulse_channel].get_clock())] = self.z_pulse_amplitude\n",
    "        pg.set_seq([pulse]+trigger_readout_seq+readout_pulse)\n",
    "        #plt.plot(pulse[self.z_pulse_channel])\n",
    "        #print((microwave_pulse_start-int(self.microwave_delay*pg.channels[self.z_pulse_channel].get_clock()),\n",
    "        #        microwave_pulse_start+int((-self.microwave_delay+self.z_pulse_length)*pg.channels[self.z_pulse_channel].get_clock())))\n",
    "        \n",
    "for coil_id in ['dc_coil1', 'dc_coil2', 'dc_coil3']:\n",
    "    for qubit_id in ['1', '3']:\n",
    "        pulse_setter_inst = pulse_setter()\n",
    "        pulse_setter_inst.z_pulse_channel = coil_id\n",
    "        pulse_frequencies = np.arange(-100e6, 300e6, 10e6)\n",
    "        pulse_delays = np.arange(-50e-9, 100e-9, 5e-9)\n",
    "        pulse_setter.microwave_pulse = get_pi(qubit_id)[0]\n",
    "        sweep.sweep(adc_reducer, (pulse_delays, pulse_setter_inst.set_microwave_delay, 'Excitation pulse delay', 's'),\n",
    "                                 (pulse_frequencies, pulse_setter_inst.set_microwave_frequency, 'Excitation pulse frequency', 'Hz'),  \n",
    "                                filename='Time-resolved spectroscopy coil {} qubit {}'.format(coil_id, qubit_id))\n",
    "        "
   ]
  },
  {
   "cell_type": "markdown",
   "metadata": {},
   "source": [
    "# $\\sqrt{iSWAP}$ calibration"
   ]
  },
  {
   "cell_type": "code",
   "execution_count": null,
   "metadata": {},
   "outputs": [],
   "source": [
    "iswap_pulse_width = 100e-9\n",
    "#z_pulse_sigma = 200e-9\n",
    "iswap_tail_length = 10e-9\n",
    "#iswap_pulse_amplitudes = np.linspace(1.5, 2.5, 21)\n",
    "iswap_pulse_amplitude = 2.0\n",
    "iswap_pulse_lengths = np.arange(20e-9, 1000e-9, 50e-9)\n",
    "#working_point_final = [0.494, 0.5, -0.525]\n",
    "pause_length = 20e-9\n",
    "\n",
    "#working_point_final = [0.494, 0.48, -0.505]\n",
    "working_point_final = [0.494, 0.45, -0.510]\n",
    "#working_point_final = [0.494, 0.42, -0.515]\n",
    "voltage_offset_final = np.dot(np.linalg.inv(L_mat), np.asarray(working_point_final)-np.asarray(working_point))\n",
    "\n",
    "#voltage_offset_initial = np.dot(np.linalg.inv(L_mat), np.asarray(working_point_initial)-np.asarray(working_point))\n",
    "#voltage_offset_final = np.dot(np.linalg.inv(L_mat), np.asarray(working_point_final)-np.asarray(working_point))\n",
    "class iswap_pulse_settings:\n",
    "    def set_iswap_pulse_amplitude(self, amplitude):\n",
    "        self.iswap_pulse_amplitude = amplitude\n",
    "        return [pg.p(None, pause_length),\n",
    "        pg.pmulti(self.iswap_pulse_width, ('dc_coil1', pg.rect_cos, self.iswap_pulse_amplitude*voltage_offset_final[0], iswap_tail_length),\n",
    "                             ('dc_coil2', pg.rect_cos, self.iswap_pulse_amplitude*voltage_offset_final[1], iswap_tail_length),\n",
    "                             ('dc_coil3', pg.rect_cos, self.iswap_pulse_amplitude*voltage_offset_final[2], iswap_tail_length)),\n",
    "            pg.p(None, pause_length)]\n",
    "\n",
    "    def set_iswap_pulse_length(self, length):\n",
    "        #if length < tail_length*2:\n",
    "        #    length = tail_length*2\n",
    "        #print (length)\n",
    "        self.iswap_pulse_width=length\n",
    "        #pulse = #[pg.p(None, pause_length),\n",
    "        pulse = pg.pmulti(self.iswap_pulse_width, ('dc_coil1', pg.rect_cos, self.iswap_pulse_amplitude*voltage_offset_final[0], iswap_tail_length),\n",
    "                              ('dc_coil2', pg.rect_cos, self.iswap_pulse_amplitude*voltage_offset_final[1], iswap_tail_length),\n",
    "                              ('dc_coil3', pg.rect_cos, self.iswap_pulse_amplitude*voltage_offset_final[2], iswap_tail_length))\n",
    "            #pg.p(None, pause_length)]\n",
    "        carrier = np.sin(np.arange(len(pulse['dc_coil1']))*self.frequency/pg.channels['dc_coil1'].get_clock()*2*np.pi)\n",
    "        #plt.plot(carrier)\n",
    "        \n",
    "        for channel in pulse.keys():\n",
    "            pulse[channel] = pulse[channel]*carrier\n",
    "\n",
    "        pulse_seq = [pg.p(None, pause_length), pulse, pg.p(None, pause_length)]\n",
    "        \n",
    "        pg.set_seq(get_pi(self.excite_qubit_id)+\\\n",
    "                   pulse_seq+\\\n",
    "                   trigger_readout_seq+readout_pulse)\n",
    "        return pulse_seq\n",
    "    \n",
    "    def set_iswap_frequency(self, frequency):\n",
    "        self.frequency = frequency\n",
    "    \n",
    "iswap_pulse_setter = iswap_pulse_settings()\n",
    "iswap_pulse_setter.iswap_pulse_width=iswap_pulse_width\n",
    "iswap_pulse_setter.iswap_pulse_amplitude=iswap_pulse_amplitude\n",
    "iswap_pulse_setter.frequency = 148e6\n",
    "iswap_pulse_setter.excite_qubit_id='1'\n",
    "\n",
    "    #control_target_tld[q_id][q_id].Ramsey_probe([],\n",
    "    #                                                            iswap_pulse_setter.set_iswap_pulse_length,\n",
    "    #                                                            [0.], 10e6,\n",
    "    #                                                            #(z_pulse_amplitudes, z_pulse_setter.set_z_pulse_amplitude, 'Z-pulse amplitude'),\n",
    "    #                                                            (iswap_pulse_lengths, iswap_pulse_setter.set_iswap_pulse_length, 'Z-pulse length')\n",
    "    #                                                           )\n",
    "    #control_target_tld[q_id][q_id].Ramsey_probe(get_pi(qc_id),\n",
    "    #                                                            iswap_pulse_setter.set_iswap_pulse_length,\n",
    "    #                                                            [0.], 10e6,\n",
    "    #                                                            #(z_pulse_amplitudes, z_pulse_setter.set_z_pulse_amplitude, 'Z-pulse amplitude'),\n",
    "    #                                                            (iswap_pulse_lengths, iswap_pulse_setter.set_iswap_pulse_length, 'Z-pulse length')\n",
    "    #                                                           )"
   ]
  },
  {
   "cell_type": "code",
   "execution_count": null,
   "metadata": {},
   "outputs": [],
   "source": [
    "for qc_id, q_id in [('3', '1'), ('1', '3')]:\n",
    "    control_pulse = []\n",
    "    iswap_pulse_setter.excite_qubit_id=q_id\n",
    "    sweep.sweep(adc_reducer, (iswap_pulse_lengths, iswap_pulse_setter.set_iswap_pulse_length, 'iSWAP pulse length', 's'),\n",
    "                filename='iSWAP oscillations')"
   ]
  },
  {
   "cell_type": "markdown",
   "metadata": {},
   "source": [
    "## Final settings for iSWAP pulse"
   ]
  },
  {
   "cell_type": "code",
   "execution_count": null,
   "metadata": {},
   "outputs": [],
   "source": [
    "sqrtiswap_pulse_length = 133e-9\n",
    "sqrt_iswap_pulse = iswap_pulse_setter.set_iswap_pulse_length(sqrtiswap_pulse_length)"
   ]
  },
  {
   "cell_type": "markdown",
   "metadata": {},
   "source": [
    "# Tomographies"
   ]
  },
  {
   "cell_type": "markdown",
   "metadata": {},
   "source": [
    "## single-qubit state tomography"
   ]
  },
  {
   "cell_type": "code",
   "execution_count": null,
   "metadata": {},
   "outputs": [],
   "source": [
    "observables = { 'X': np.asarray( [[0, 1],   [1, 0]]),\n",
    "                'Y': np.asarray( [[0, -1j], [1j, 0]]),\n",
    "                '-X': np.asarray([[0, -1],  [-1, 0]]),\n",
    "                '-Y': np.asarray([[0, 1j],  [-1j, 0]]),\n",
    "\t\t\t\t'Z': np.asarray( [[1, 0],   [0, -1]]),\n",
    "                '-Z': np.asarray([[-1,0],   [0,  1]])}\n",
    "proj_seq = {'Xo':{'pulses': get_pi_half('1', -np.pi/2.)+ro_seq, \n",
    "                 'operators': {'0': observables['X'], '1': observables['-X']}},\n",
    "\t\t\t'Yo':{'pulses': get_pi_half('1', 0)+ro_seq,\n",
    "\t\t\t\t 'operators': {'0': observables['Y'], '1': observables['-Y']}},\n",
    "\t\t\t'-Xo':{'pulses': get_pi_half('1', np.pi/2.)+ro_seq,\n",
    "\t\t\t\t 'operators': {'0': observables['-X'], '1': observables['X']}},\n",
    "\t\t\t'-Yo':{'pulses': get_pi_half('1', np.pi)+ro_seq,\n",
    "\t\t\t\t 'operators': {'0': observables['-Y'], '1': observables['Y']}},\n",
    "\t\t\t'Zo': {'pulses':ro_seq, \n",
    "                   'operators': {'0': observables['Z'], '1': observables['-Z']}},\n",
    "            '-Zo':{'pulses': get_pi('3')+ro_seq,\n",
    "\t\t\t\t 'operators': {'0': observables['-Z'], '1': observables['Z']}}}\n",
    "proj_seq_q3 = {'Xo':{'pulses': get_pi_half('3', -np.pi/2.)+ro_seq, \n",
    "                 'operators': {'0': observables['X'], '1': observables['-X']}},\n",
    "\t\t\t'Yo':{'pulses': get_pi_half('3', 0)+ro_seq,\n",
    "\t\t\t\t 'operators': {'0': observables['Y'], '1': observables['-Y']}},\n",
    "\t\t\t'-Xo':{'pulses': get_pi_half('3', np.pi/2.)+ro_seq,\n",
    "\t\t\t\t 'operators': {'0': observables['-X'], '1': observables['X']}},\n",
    "\t\t\t'-Yo':{'pulses': get_pi_half('3', np.pi)+ro_seq,\n",
    "\t\t\t\t 'operators': {'0': observables['-Y'], '1': observables['Y']}},\n",
    "\t\t\t'Zo': {'pulses':ro_seq, \n",
    "                   'operators': {'0': observables['Z'], '1': observables['-Z']}},\n",
    "            '-Zo':{'pulses': get_pi('3')+ro_seq,\n",
    "\t\t\t\t 'operators': {'0': observables['-Z'], '1': observables['Z']}}}\n",
    "#proj_seq={'Zo':proj_seq['Zo'], '-Zo':proj_seq['-Zo']}\n",
    "reconstruction_basis={#'x':{'operator':observables['X']},\n",
    "\t\t\t\t\t  #'y':{'operator':observables['Y']},\n",
    "\t\t\t\t\t  #'z':{'operator':observables['Z']},\n",
    "                        '00':{'operator':[[1,0],[0,0]]},\n",
    "                        '01':{'operator':[[0,1],[0,0]]},\n",
    "                        '10':{'operator':[[0,0],[1,0]]},\n",
    "                        '11':{'operator':[[0,0],[0,1]]},}\n",
    "\t\t\t\t\t\t\t  \n",
    "from qsweepy import multiqubit_tomography\n",
    "imp.reload(multiqubit_tomography)\n",
    "single_qubit_tomography = {}\n",
    "single_qubit_tomography['1'] = multiqubit_tomography.multiqubit_tomography(qubit_state_probabilities['1'],\n",
    "                                                                          pg, \n",
    "                                                                          proj_seq, \n",
    "                                                                          reconstruction_basis)\n",
    "single_qubit_tomography['1'].confusion_matrix = single_shot_readouts['1'].confusion_matrix\n",
    "single_qubit_tomography['3'] = multiqubit_tomography.multiqubit_tomography(qubit_state_probabilities['3'],\n",
    "                                                                          pg, \n",
    "                                                                          proj_seq_q3, \n",
    "                                                                          reconstruction_basis)\n",
    "single_qubit_tomography['3'].confusion_matrix = single_shot_readouts['3'].confusion_matrix"
   ]
  },
  {
   "cell_type": "code",
   "execution_count": null,
   "metadata": {
    "scrolled": true
   },
   "outputs": [],
   "source": [
    "single_qubit_tomography['1'].set_prepare_seq(drag_hds_short['1'].get_pulse_seq(np.pi/2., np.pi))\n",
    "single_qubit_tomography['1'].measure()"
   ]
  },
  {
   "cell_type": "code",
   "execution_count": null,
   "metadata": {},
   "outputs": [],
   "source": [
    "drag_hds_short['3']"
   ]
  },
  {
   "cell_type": "code",
   "execution_count": null,
   "metadata": {
    "scrolled": true
   },
   "outputs": [],
   "source": [
    "single_qubit_tomography['3'].set_prepare_seq(drag_hds_short['3'].get_pulse_seq(np.pi/2., np.pi))\n",
    "single_qubit_tomography['3'].measure()"
   ]
  },
  {
   "cell_type": "code",
   "execution_count": null,
   "metadata": {},
   "outputs": [],
   "source": [
    "single_qubit_tomography['1'].set_prepare_seq(drag_hds['1'].get_pulse_seq(np.pi/2., -np.pi/2.))\n",
    "single_qubit_tomography['1'].measure()"
   ]
  },
  {
   "cell_type": "markdown",
   "metadata": {},
   "source": [
    "## single qubit process tomography"
   ]
  },
  {
   "cell_type": "code",
   "execution_count": null,
   "metadata": {},
   "outputs": [],
   "source": [
    "get_rotation()"
   ]
  },
  {
   "cell_type": "code",
   "execution_count": null,
   "metadata": {},
   "outputs": [],
   "source": [
    "reconstruction_basis = {}\n",
    "proj_seq = {}\n",
    "import itertools\n",
    "\n",
    "sigma_x = np.asarray([[0,1],  [1,0]])\n",
    "sigma_y = np.asarray([[0,-1j],[1j,0]])\n",
    "sigma_z = np.asarray([[1,0],  [0,-1]])\n",
    "sigma_i = np.asarray([[1,0],  [0,1]])\n",
    "\n",
    "cube_faces = {'+Z':(0.0, 0.0), \n",
    "              '+X':(np.pi/2., -np.pi/2.,),\n",
    "              '+Y':(np.pi/2., 0.0),\n",
    "              '-Z':(np.pi, 0.0),\n",
    "              '-X':(np.pi/2., np.pi/2.),\n",
    "              '-Y':(np.pi/2., np.pi)}\n",
    "\n",
    "#cube_faces = {'+Z':(0.0, 0.0), '-Z':(np.pi, 0.0)}\n",
    "\n",
    "cube_faces_unitaries = {k:    np.cos(v[0]/2)*sigma_i-\\\n",
    "                           1j*np.sin(v[0]/2)*np.cos(v[1])*sigma_x-\\\n",
    "                           1j*np.sin(v[0]/2)*np.sin(v[1])*sigma_y for k,v in cube_faces.items()}\n",
    "\n",
    "#cube_faces_observable = {k:   np.dot(cube_faces_unitaries, )}\n",
    "\n",
    "#for c1 in [(0., 0.), (np.pi/2., np.pi/2.), ()]\n",
    "#for i,j in itertools.product([0,1], [0,1]):\n",
    "\n",
    "initial_state = np.zeros((2,2))\n",
    "initial_state[0,0] = 1.\n",
    "\n",
    "#print (cube_faces_unitaries)\n",
    "for q1_rotation_name, q1_rotation in cube_faces.items():\n",
    "    for q1_pre_name, q1_pre in cube_faces.items():\n",
    "        pulses_pre = get_rotation('1', *q1_pre)#+get_rotation('3', *q2_pre)\n",
    "        pulses = get_rotation('1', *q1_rotation)+ro_seq#+get_rotation('3', *q2_rotation)\n",
    "        #print(pulses)\n",
    "        #print (pulses_pre)\n",
    "        operators = {}\n",
    "        for ri in [0,1]:\n",
    "            _matrix = np.zeros((2,2), dtype=complex)\n",
    "            _matrix[ri, ri] = 1\n",
    "            readout_result = str(ri)\n",
    "            unitary = cube_faces_unitaries[q1_rotation_name]\n",
    "                    \n",
    "            unitary_pre = cube_faces_unitaries[q1_pre_name]\n",
    "            # state matrix of initial state\n",
    "            initial = np.dot((unitary_pre), np.dot(initial_state, np.conj(unitary_pre).T)).ravel()\n",
    "            # measurement operator\n",
    "            projection = np.dot(np.conj(unitary.T), np.dot(_matrix, unitary)).T.ravel()\n",
    "                    \n",
    "            superoperator_projection = np.einsum('i,j->ij', projection, initial)\n",
    "            \n",
    "            #print (q1_pre_name,q1_rotation_name, ri, superoperator_projection, initial, projection)\n",
    "            \n",
    "            operators[readout_result] = superoperator_projection\n",
    "        proj_seq[q1_pre_name+q1_rotation_name] = {'pre_pulses': pulses_pre, 'pulses':pulses, 'operators':operators}\n",
    "\n",
    "                \n",
    "single_qubit_bases = ['I', 'X', 'Y', 'Z']\n",
    "single_qubit_bases_operators = {'I':sigma_i, 'X':sigma_x, 'Y':sigma_y, 'Z':sigma_z}\n",
    "\n",
    "for i,j in itertools.product([0,1,2,3], [0,1,2,3]):\n",
    "    matrix=np.zeros((4,4))\n",
    "    matrix[i,j]=1.\n",
    "    reconstruction_basis[str(i)+str(j)] = {'operator': np.reshape(matrix, (4,4))}\n",
    "\n",
    "\n",
    "single_qubit_process_tomography = multiqubit_tomography.multiqubit_tomography(qubit_state_probabilities['1'],\n",
    "                                                                          pg, \n",
    "                                                                          proj_seq,\n",
    "                                                                          reconstruction_basis)\n",
    "single_qubit_process_tomography.readout_names = ['0','1']#['00', '01', '01', '11']\n",
    "single_qubit_process_tomography.confusion_matrix = single_shot_readouts['1'].confusion_matrix\n"
   ]
  },
  {
   "cell_type": "code",
   "execution_count": null,
   "metadata": {
    "scrolled": true
   },
   "outputs": [],
   "source": [
    "single_qubit_process_tomography.set_prepare_seq(get_rotation('1',np.pi/2.,np.pi/2.))\n",
    "single_qubit_process_tomography_result = single_qubit_process_tomography.measure()"
   ]
  },
  {
   "cell_type": "code",
   "execution_count": null,
   "metadata": {},
   "outputs": [],
   "source": [
    "single_qubit_process_tomography_result"
   ]
  },
  {
   "cell_type": "code",
   "execution_count": null,
   "metadata": {},
   "outputs": [],
   "source": [
    "# single_qubit_bases\n",
    "m=np.zeros((4,4),dtype=np.complex)\n",
    "for left_state_id, left_state in enumerate(['0', '1', '2', '3']):\n",
    "    for right_state_id, right_state in enumerate(['0', '1', '2', '3']):#single_qubit_bases):\n",
    "        m[left_state_id, right_state_id] = single_qubit_process_tomography_result[left_state+right_state]\n",
    "plt.figure()\n",
    "plt.pcolormesh(np.rot90(np.real(m)),cmap='RdBu')\n",
    "plt.xticks(np.arange(len(single_qubit_bases))+0.5,single_qubit_bases)\n",
    "plt.yticks(np.arange(len(single_qubit_bases))+0.5,single_qubit_bases[::-1])\n",
    "plt.colorbar()\n",
    "plt.grid()"
   ]
  },
  {
   "cell_type": "code",
   "execution_count": null,
   "metadata": {},
   "outputs": [],
   "source": [
    "def single_process_matrix(process, process_type='chi', plot=False):\n",
    "    operators_1Q = { 'I': np.matrix([[1,0],[0,1]]),\n",
    "                 'X': np.matrix([[0,1],[1,0]]),\n",
    "                  'Y': np.matrix([[0,-1j],[1j,0]]),\n",
    "                  'Z': np.matrix([[1,0],[0,-1]])}\n",
    "    if process_type=='chi':\n",
    "        process_tensor = np.reshape(process, (2,2,2,2))\n",
    "    matrix={}\n",
    "    for ind1,op1 in operators_1Q.items():\n",
    "        for ind2,op2 in operators_1Q.items():\n",
    "            if process_type=='chi':\n",
    "                matrix[ind1,ind2]=0.5*np.einsum('jikl,ij,kl->', process_tensor, op1, op2)\n",
    "            else:\n",
    "                matrix[ind1,ind2]=(0.5*np.trace(op1*process*op2*np.conj(process.T)))\n",
    "    basis=['I','X','Y','Z']\n",
    "    matrix_np = np.zeros((4,4),dtype=np.complex)\n",
    "    for i,f in itertools.product(basis, basis):\n",
    "        i_id = basis.index(i)\n",
    "        f_id = basis.index(f)\n",
    "        matrix_np[i_id, f_id] = matrix[(i,f)]\n",
    "    if plot:\n",
    "        plt.figure()\n",
    "        plt.pcolormesh(np.rot90(np.real(matrix_np)),cmap='RdBu',vmax=1,vmin=-1)\n",
    "        plt.xticks(np.arange(len(basis))+0.5,basis)\n",
    "        plt.yticks(np.arange(len(basis))+0.5,basis[::-1])\n",
    "        plt.colorbar()\n",
    "        plt.grid()\n",
    "    return matrix_np"
   ]
  },
  {
   "cell_type": "code",
   "execution_count": null,
   "metadata": {},
   "outputs": [],
   "source": [
    "single_process_matrix(m, plot=True)"
   ]
  },
  {
   "cell_type": "code",
   "execution_count": null,
   "metadata": {},
   "outputs": [],
   "source": [
    "fidelity = (np.trace(single_process_matrix(m).T@single_process_matrix(cube_faces_unitaries['-X'], 'unitary')))/4\n",
    "fidelity"
   ]
  },
  {
   "cell_type": "code",
   "execution_count": null,
   "metadata": {},
   "outputs": [],
   "source": [
    "cube_state_prod = ['+X', '-X', '+Y', '-Y', '+Z', '-Z']\n",
    "m0 = np.zeros((6,6))\n",
    "m1 = np.zeros((6,6))\n",
    "\n",
    "for left_state_id, left_state in enumerate(cube_state_prod):\n",
    "    for right_state_id, right_state in enumerate(cube_state_prod):\n",
    "        m0[left_state_id, right_state_id] = single_qubit_process_tomography_result[left_state+right_state+'-P0']\n",
    "        m1[left_state_id, right_state_id] = single_qubit_process_tomography_result[left_state+right_state+'-P1']\n",
    "        \n",
    "figs, axes = plt.subplots(1,2, figsize=(10,10))\n",
    "axes[0].pcolormesh(m0)\n",
    "axes[0].set_title('P(0)')\n",
    "plt.xticks(np.arange(6), cube_state_prod)\n",
    "plt.yticks(np.arange(6), cube_state_prod)\n",
    "im2 = axes[1].pcolormesh(m1)\n",
    "axes[1].set_title('P(1)')\n",
    "plt.xticks(np.arange(6), cube_state_prod)\n",
    "plt.yticks(np.arange(6), cube_state_prod)\n",
    "plt.colorbar(im2)"
   ]
  },
  {
   "cell_type": "markdown",
   "metadata": {},
   "source": [
    "## two qubit state tomography"
   ]
  },
  {
   "cell_type": "code",
   "execution_count": null,
   "metadata": {},
   "outputs": [],
   "source": [
    "reconstruction_basis = {}\n",
    "proj_seq = {}\n",
    "import itertools\n",
    "\n",
    "sigma_x = np.asarray([[0,1],  [1,0]])\n",
    "sigma_y = np.asarray([[0,-1j],[1j,0]])\n",
    "sigma_z = np.asarray([[1,0],  [0,-1]])\n",
    "sigma_i = np.asarray([[1,0],  [0,1]])\n",
    "\n",
    "cube_faces = {'+Z':(0.0, 0.0), \n",
    "              '+X':(np.pi/2., -np.pi/2.,),\n",
    "              '+Y':(np.pi/2., 0.0),\n",
    "              '-Z':(np.pi, 0.0),\n",
    "              '-X':(np.pi/2., np.pi/2.),\n",
    "              '-Y':(np.pi/2., np.pi)}\n",
    "\n",
    "#cube_faces = {'+Z':(0.0, 0.0), '-Z':(np.pi, 0.0)}\n",
    "\n",
    "cube_faces_unitaries = {k:    np.cos(v[0]/2)*sigma_i-\\\n",
    "                           1j*np.sin(v[0]/2)*np.cos(v[1])*sigma_x-\\\n",
    "                           1j*np.sin(v[0]/2)*np.sin(v[1])*sigma_y for k,v in cube_faces.items()}\n",
    "\n",
    "#cube_faces_observable = {k:   np.dot(cube_faces_unitaries, )}\n",
    "\n",
    "#for c1 in [(0., 0.), (np.pi/2., np.pi/2.), ()]\n",
    "#for i,j in itertools.product([0,1], [0,1]):\n",
    "\n",
    "\n",
    "#print (cube_faces_unitaries)\n",
    "for q1_rotation_name, q1_rotation in cube_faces.items():\n",
    "    for q2_rotation_name, q2_rotation in cube_faces.items():\n",
    "        pulses = get_rotation('1', *q1_rotation)+get_rotation('3', *q2_rotation)+ro_seq\n",
    "        operators = {}\n",
    "        for ri,rj in itertools.product([0,1], [0,1]):\n",
    "            _matrix = np.zeros((4,4), dtype=complex)\n",
    "            _matrix[ri*2+rj, ri*2+rj] = 1\n",
    "            readout_result = str(rj)+str(ri)\n",
    "            q1_unitary = cube_faces_unitaries[q1_rotation_name]\n",
    "            q2_unitary = cube_faces_unitaries[q2_rotation_name]\n",
    "            unitary = np.asarray(np.reshape(np.einsum('ij,kl->ikjl', q1_unitary, q2_unitary), (4,4)), np.complex)\n",
    "            projection = np.dot(unitary, np.dot(_matrix, np.conj(unitary.T)))\n",
    "            operators[readout_result] = projection\n",
    "        proj_seq[q1_rotation_name+q2_rotation_name] = {'pulses':pulses, 'operators':operators}\n",
    "            \n",
    "for i,j,k,l in itertools.product([0,1], [0,1], [0,1], [0,1]):\n",
    "    _matrix = np.zeros((4,4))\n",
    "    _matrix[i*2+j, k*2+l] = 1\n",
    "    reconstruction_basis[str(i)+str(j)+str(k)+str(l)] = {'operator': _matrix}\n",
    "\n",
    "#print (reconstruction_basis)\n",
    "#print (proj_seq)\n",
    "    \n",
    "two_qubit_tomography = multiqubit_tomography.multiqubit_tomography(multiqubit_state_probabilities,\n",
    "                                                                          pg, \n",
    "                                                                          proj_seq,\n",
    "                                                                          reconstruction_basis)\n",
    "two_qubit_tomography.readout_names = readout_result_order#['00', '01', '01', '11']\n",
    "two_qubit_tomography.confusion_matrix = confusion_matrix_elements"
   ]
  },
  {
   "cell_type": "code",
   "execution_count": null,
   "metadata": {
    "scrolled": true
   },
   "outputs": [],
   "source": [
    "two_qubit_tomography.set_prepare_seq([])\n",
    "two_qubit_tomography_result = two_qubit_tomography.measure()"
   ]
  },
  {
   "cell_type": "code",
   "execution_count": null,
   "metadata": {},
   "outputs": [],
   "source": [
    "two_qubit_tomography_result"
   ]
  },
  {
   "cell_type": "code",
   "execution_count": null,
   "metadata": {
    "scrolled": true
   },
   "outputs": [],
   "source": [
    "two_qubit_tomography.set_prepare_seq(drag_hds_short['3'].get_pulse_seq(np.pi/2, -np.pi)+\\\n",
    "                                     drag_hds_short['3'].get_pulse_seq(np.pi/2, -np.pi)+\\\n",
    "                                     drag_hds_short['1'].get_pulse_seq(np.pi/2, -np.pi)+\\\n",
    "                                     drag_hds_short['1'].get_pulse_seq(np.pi/2, -np.pi)+\\\n",
    "                                     control_target_tld['3']['1'].get_pi_pulse_sequence(-np.pi/4))\n",
    "two_qubit_tomography_result = two_qubit_tomography.measure()"
   ]
  },
  {
   "cell_type": "code",
   "execution_count": null,
   "metadata": {},
   "outputs": [],
   "source": [
    "two_qubit_tomography_result"
   ]
  },
  {
   "cell_type": "code",
   "execution_count": null,
   "metadata": {},
   "outputs": [],
   "source": [
    "figs, axes = plt.subplots(1,2, figsize=(8,4))\n",
    "rho = np.zeros((4,4), dtype=np.complex)\n",
    "for _i1, i1 in enumerate(['00', '01', '10', '11']):\n",
    "    for _i2, i2 in enumerate(['00', '01', '10', '11']):\n",
    "        rho[_i1, _i2] = two_qubit_tomography_result[i1+i2]\n",
    "image_r = axes[0].pcolormesh(np.real(rho))\n",
    "figs.colorbar(image_r, ax=axes[0])\n",
    "image_i = axes[1].pcolormesh(np.imag(rho))\n",
    "figs.colorbar(image_i, ax=axes[1])"
   ]
  },
  {
   "cell_type": "markdown",
   "metadata": {},
   "source": [
    "## two-qubit process tomography"
   ]
  },
  {
   "cell_type": "code",
   "execution_count": null,
   "metadata": {},
   "outputs": [],
   "source": [
    "cy=np.asarray([[1,0,0,0],[0,1,0,0],[0,0,0,-1j],[0,0,1j,0]])\n",
    "cx=np.asarray([[1,0,0,0],[0,1,0,0],[0,0,0,1],[0,0,1,0]])\n",
    "def process_matrix(process, process_type='chi', plot=False, plot_name=''):\n",
    "    import numpy as np\n",
    "    import itertools\n",
    "    operators_1Q = { 'I': np.matrix([[1,0],[0,1]]),\n",
    "                 'X': np.matrix([[0,1],[1,0]]),\n",
    "                  'Y': np.matrix([[0,-1j],[1j,0]]),\n",
    "                  'Z': np.matrix([[1,0],[0,-1]])}\n",
    "    operators_2Q=dict()\n",
    "    for i,j in operators_1Q.items():\n",
    "        for k,l in operators_1Q.items():\n",
    "            operators_2Q[i+k]=np.kron(j,l)\n",
    "    if process_type=='chi':\n",
    "        process_tensor = np.reshape(process, (4,4,4,4))\n",
    "    matrix={}\n",
    "    for ind1,op1 in operators_2Q.items():\n",
    "        for ind2,op2 in operators_2Q.items():\n",
    "            if process_type=='chi':\n",
    "                matrix[ind1,ind2]=0.25*np.einsum('ijkl,ij,kl->', process_tensor, op1, op2)\n",
    "            else:\n",
    "                matrix[ind1,ind2]=(0.25*np.trace(op1@process@op2@np.conj(process.T)))\n",
    "                \n",
    "    basis = ['I','X','Y','Z']\n",
    "    double_basis = [i+j for i,j in itertools.product(basis, basis)]\n",
    "    double_basis\n",
    "    matrix_np = np.zeros((16,16))\n",
    "    for i,f in itertools.product(double_basis, double_basis):\n",
    "        i_id = double_basis.index(i)\n",
    "        f_id = double_basis.index(f)\n",
    "        matrix_np[i_id, f_id] = matrix[(i,f)]\n",
    "    if plot:\n",
    "        plt.figure()\n",
    "        plt.pcolormesh(np.rot90(matrix_np),cmap='RdBu',vmax=1,vmin=-1)\n",
    "        plt.xticks(np.arange(len(double_basis))+0.5,double_basis)\n",
    "        plt.yticks(np.arange(len(double_basis))+0.5,double_basis[::-1])\n",
    "        plt.colorbar()\n",
    "        plt.grid()\n",
    "        fig = plt.gcf()\n",
    "        fig.canvas.set_window_title('Pauli transfer matrix '+plot_name)\n",
    "    return matrix_np"
   ]
  },
  {
   "cell_type": "code",
   "execution_count": null,
   "metadata": {},
   "outputs": [],
   "source": [
    "def process_tomography_measurement_results_to_chi_matrix(measurement_results):\n",
    "    import cvxopt\n",
    "    import cvxpy\n",
    "    chi_dimension = 16\n",
    "    initial_state = np.zeros((4,4))\n",
    "    initial_state[0,0] = 1.\n",
    "    initials = np.zeros((16, 6*6), dtype=np.complex)\n",
    "    measurement_operators = np.zeros((6*6*4, 16), dtype=np.complex)\n",
    "    measurement_results_np = np.zeros((6*6*4,6*6))\n",
    "    projection_order = ['+Z', '+X', '+Y', '-Z', '-X', '-Y']\n",
    "    for p3_id, p3 in enumerate(projection_order):\n",
    "        for p4_id, p4 in enumerate(projection_order):\n",
    "            for p1_id, p1 in enumerate(projection_order):\n",
    "                for p2_id, p2 in enumerate(projection_order):\n",
    "                    initial_id = p1_id*6+p2_id\n",
    "                    for ri,rj in itertools.product([0,1], [0,1]):\n",
    "                        projection_id = p3_id*4*6+p4_id*4+ri*2+rj\n",
    "                        readout_result = str(rj)+str(ri)\n",
    "                        measurement_results_np[projection_id, initial_id] = measurement_results[p1+p2+p3+p4+'-P'+readout_result]\n",
    "                    \n",
    "    for p3_id, p3 in enumerate(projection_order):\n",
    "        for p4_id, p4 in enumerate(projection_order):\n",
    "            for ri,rj in itertools.product([0,1], [0,1]):\n",
    "                projection_id = p3_id*4*6+p4_id*4+ri*2+rj\n",
    "                _matrix = np.zeros((4,4), dtype=complex)\n",
    "                _matrix[ri*2+rj, ri*2+rj] = 1\n",
    "                q1_unitary = cube_faces_unitaries[p3]\n",
    "                q2_unitary = cube_faces_unitaries[p4]\n",
    "                unitary = np.asarray(np.reshape(np.einsum('ij,kl->ikjl', q1_unitary, q2_unitary), (4,4)), np.complex)\n",
    "                projection = ((np.dot(np.conj(unitary.T), np.dot(_matrix, unitary))).T).ravel()\n",
    "                measurement_operators[projection_id, :] = projection\n",
    "\n",
    "    for p1_id, p1 in enumerate(projection_order):\n",
    "        for p2_id, p2 in enumerate(projection_order):\n",
    "            initial_id = p1_id*6+p2_id\n",
    "            q1_unitary_pre = cube_faces_unitaries[p1]\n",
    "            q2_unitary_pre = cube_faces_unitaries[p2]\n",
    "            unitary_pre = np.asarray(np.reshape(np.einsum('ij,kl->ikjl', q1_unitary_pre, q2_unitary_pre), (4,4)), np.complex)\n",
    "            initial = np.dot(unitary_pre, np.dot(initial_state, np.conj(unitary_pre).T)).ravel()\n",
    "                \n",
    "            initials[:, initial_id] = initial\n",
    "            \n",
    "    x = cvxpy.Variable((chi_dimension,chi_dimension), complex=True)\n",
    "    lstsq_objective = cvxpy.atoms.sum_squares(cvxpy.abs(measurement_operators@x@initials-measurement_results_np))\n",
    "    \n",
    "    #i_indeces = [int(_id/(4*4*4))+         ((_id)%4)*4 for _id in range(4*4*4*4)]\n",
    "    #j_indeces = [(int(_id/(4))%4)+(int(_id/(4*4))%4)*4 for _id in range(4*4*4*4)]\n",
    "    #i_indeces = [int(_id%(4))+         (int(_id/4/4)%4)*4 for _id in range(4*4*4*4)]\n",
    "    #j_indeces = [(int(_id/(4))%4)+(int(_id/(4*4*4))%4)*4 for _id in range(4*4*4*4)]\n",
    "    i_indeces = [int(_id/(4*4*4))+         (int(_id/4)%4)*4 for _id in range(4*4*4*4)]\n",
    "    j_indeces = [(int(_id/(4*4))%4)+(int(_id%4)*4) for _id in range(4*4*4*4)]\n",
    "    x_reshaped = cvxpy.reshape(x[i_indeces, j_indeces], (16,16))\n",
    "    \n",
    "    psd_constraint = x_reshaped>>0\n",
    "    hermitian_constraint = x_reshaped.H==x_reshaped\n",
    "    \n",
    "    # Create two constraints.\n",
    "    constraints = [psd_constraint, hermitian_constraint]\n",
    "    \n",
    "    # Form objective.\n",
    "    obj = cvxpy.Minimize(lstsq_objective)\n",
    "    # Form and solve problem.\n",
    "    prob = cvxpy.Problem(obj, constraints)\n",
    "    prob.solve(solver=cvxpy.CVXOPT, verbose=True)\n",
    "    #print (x_reshaped.value)\n",
    "    return x.value"
   ]
  },
  {
   "cell_type": "code",
   "execution_count": null,
   "metadata": {},
   "outputs": [],
   "source": [
    "def chi_to_measurement_predictions(chi, measurement_results):\n",
    "    import cvxopt\n",
    "    import cvxpy\n",
    "    chi_dimension = 16\n",
    "    initial_state = np.zeros((4,4))\n",
    "    initial_state[0,0] = 1.\n",
    "    initials = np.zeros((16, 6*6), dtype=np.complex)\n",
    "    measurement_operators = np.zeros((6*6*4, 16), dtype=np.complex)\n",
    "    measurement_results_np = np.zeros((6*6*4, 6*6))\n",
    "    projection_order = ['+Z', '+X', '+Y', '-Z', '-X', '-Y']\n",
    "    for p3_id, p3 in enumerate(projection_order):\n",
    "        for p4_id, p4 in enumerate(projection_order):\n",
    "            for p1_id, p1 in enumerate(projection_order):\n",
    "                for p2_id, p2 in enumerate(projection_order):\n",
    "                    initial_id = p1_id*6+p2_id\n",
    "                    for ri,rj in itertools.product([0,1], [0,1]):\n",
    "                        projection_id = p3_id*4*6+p4_id*4+ri*2+rj\n",
    "                        readout_result = str(rj)+str(ri)\n",
    "                        measurement_results_np[projection_id, initial_id] = measurement_results[p1+p2+p3+p4+'-P'+readout_result]\n",
    "                    \n",
    "    for p3_id, p3 in enumerate(projection_order):\n",
    "        for p4_id, p4 in enumerate(projection_order):\n",
    "            for ri,rj in itertools.product([0,1], [0,1]):\n",
    "                projection_id = p3_id*4*6+p4_id*4+ri*2+rj\n",
    "                _matrix = np.zeros((4,4), dtype=complex)\n",
    "                _matrix[ri*2+rj, ri*2+rj] = 1\n",
    "                q1_unitary = cube_faces_unitaries[p3]\n",
    "                q2_unitary = cube_faces_unitaries[p4]\n",
    "                unitary = np.asarray(np.reshape(np.einsum('ij,kl->ikjl', q1_unitary, q2_unitary), (4,4)), np.complex)\n",
    "                projection = (np.dot(np.conj(unitary.T), np.dot(_matrix, unitary)).T).ravel()\n",
    "                measurement_operators[ projection_id, :] = projection\n",
    "\n",
    "    for p1_id, p1 in enumerate(projection_order):\n",
    "        for p2_id, p2 in enumerate(projection_order):\n",
    "            initial_id = p1_id*6+p2_id\n",
    "            q1_unitary_pre = cube_faces_unitaries[p1]\n",
    "            q2_unitary_pre = cube_faces_unitaries[p2]\n",
    "            unitary_pre = np.asarray(np.reshape(np.einsum('ij,kl->ikjl', q1_unitary_pre, q2_unitary_pre), (4,4)), np.complex)\n",
    "            #initial = np.conj(np.dot(unitary_pre, np.dot(initial_state, np.conj(unitary_pre).T))).ravel()\n",
    "            initial = np.dot(unitary_pre, np.dot(initial_state, np.conj(unitary_pre).T)).ravel()\n",
    "            \n",
    "            print('initial '+p1+p2+' min eigenval: ', np.min(np.linalg.eigh(np.reshape(initial,(4,4)))[0]))\n",
    "            print('action on initial '+p1+p2+' min eigenval: ', np.min(np.linalg.eigh(np.reshape(chi@initial,(4,4)))[0]))\n",
    "            \n",
    "            initials[:, initial_id] = initial\n",
    "\n",
    "    i_indeces = [int(_id/(4*4*4))+    ((int(_id/4)%4)*4) for _id in range(4*4*4*4)]\n",
    "    j_indeces = [(int(_id/(4*4))%4)+   (int(_id%4   ))*4 for _id in range(4*4*4*4)]\n",
    "    #x_reshaped = cvxpy.reshape(x[i_indeces, j_indeces], (16,16)\n",
    "    \n",
    "    return measurement_operators@chi@initials, measurement_results_np"
   ]
  },
  {
   "cell_type": "code",
   "execution_count": null,
   "metadata": {},
   "outputs": [],
   "source": [
    "reconstruction_basis = {}\n",
    "proj_seq = {}\n",
    "import itertools\n",
    "\n",
    "sigma_x = np.asarray([[0,1],  [1,0]])\n",
    "sigma_y = np.asarray([[0,-1j],[1j,0]])\n",
    "sigma_z = np.asarray([[1,0],  [0,-1]])\n",
    "sigma_i = np.asarray([[1,0],  [0,1]])\n",
    "\n",
    "cube_faces = {'+Z':(0.0, 0.0), \n",
    "              '+X':(np.pi/2., -np.pi/2.,),\n",
    "              '+Y':(np.pi/2., 0.0),\n",
    "              '-Z':(np.pi, 0.0),\n",
    "              '-X':(np.pi/2., np.pi/2.),\n",
    "              '-Y':(np.pi/2., np.pi)}\n",
    "\n",
    "#cube_faces = {'+Z':(0.0, 0.0), '-Z':(np.pi, 0.0)}\n",
    "\n",
    "cube_faces_unitaries = {k:    np.cos(v[0]/2)*sigma_i-\\\n",
    "                           1j*np.sin(v[0]/2)*np.cos(v[1])*sigma_x-\\\n",
    "                           1j*np.sin(v[0]/2)*np.sin(v[1])*sigma_y for k,v in cube_faces.items()}\n",
    "\n",
    "#cube_faces_observable = {k:   np.dot(cube_faces_unitaries, )}\n",
    "\n",
    "#for c1 in [(0., 0.), (np.pi/2., np.pi/2.), ()]\n",
    "#for i,j in itertools.product([0,1], [0,1]):\n",
    "\n",
    "initial_state = np.zeros((4,4))\n",
    "initial_state[0,0] = 1.\n",
    "\n",
    "#print (cube_faces_unitaries)\n",
    "for q1_rotation_name, q1_rotation in cube_faces.items():\n",
    "    for q2_rotation_name, q2_rotation in cube_faces.items():\n",
    "        for q1_pre_name, q1_pre in cube_faces.items():\n",
    "            for q2_pre_name, q2_pre in cube_faces.items():\n",
    "                pulses_pre = get_rotation('1', *q1_pre)+get_rotation('3', *q2_pre)\n",
    "                pulses = get_rotation('1', *q1_rotation)+get_rotation('3', *q2_rotation)+ro_seq\n",
    "                operators = {}\n",
    "\n",
    "                for ri,rj in itertools.product([0,1], [0,1]):\n",
    "                    _matrix = np.zeros((4,4), dtype=complex)\n",
    "                    _matrix[ri*2+rj, ri*2+rj] = 1\n",
    "                    readout_result = str(rj)+str(ri)\n",
    "                    q1_unitary = cube_faces_unitaries[q1_rotation_name]\n",
    "                    q2_unitary = cube_faces_unitaries[q2_rotation_name]\n",
    "                    unitary = np.asarray(np.reshape(np.einsum('ij,kl->ikjl', q1_unitary, q2_unitary), (4,4)), np.complex)\n",
    "                    \n",
    "                    q1_unitary_pre = cube_faces_unitaries[q1_pre_name]\n",
    "                    q2_unitary_pre = cube_faces_unitaries[q2_pre_name]\n",
    "                    unitary_pre = np.asarray(np.reshape(np.einsum('ij,kl->ikjl', q1_unitary_pre, q2_unitary_pre), (4,4)), np.complex)\n",
    "                    \n",
    "                    initial = np.dot(unitary_pre, np.dot(initial_state, np.conj(unitary_pre).T)).ravel()\n",
    "                    projection = np.dot(np.conj(unitary.T), np.dot(_matrix, unitary)).T.ravel()\n",
    "                    \n",
    "                    superoperator_projection = np.einsum('i,j->ij', projection, initial)\n",
    "                    \n",
    "                    operators[readout_result] = superoperator_projection\n",
    "                proj_seq[q1_pre_name+q2_pre_name+q1_rotation_name+q2_rotation_name] = \\\n",
    "                    {'pre_pulses': pulses_pre, 'pulses':pulses, 'operators':operators}\n",
    "\n",
    "single_qubit_chi_basis = np.arange(16)           \n",
    "single_qubit_bases = ['I', 'X', 'Y', 'Z']\n",
    "single_qubit_bases_operators = {'I':sigma_i, 'X':sigma_x, 'Y':sigma_y, 'Z':sigma_z}\n",
    "for i,j in itertools.product(single_qubit_chi_basis, single_qubit_chi_basis):\n",
    "    _matrix = np.zeros((16,16))\n",
    "    _matrix[i,j]=1.\n",
    "    reconstruction_basis[str(i)+','+str(j)] = {'operator': _matrix}\n",
    "\n",
    "\n",
    "two_qubit_process_tomography = multiqubit_tomography.multiqubit_tomography(multiqubit_state_probabilities,\n",
    "                                                                          pg, \n",
    "                                                                          proj_seq,\n",
    "                                                                          reconstruction_basis)\n",
    "two_qubit_process_tomography.readout_names = readout_result_order#['00', '01', '01', '11']\n",
    "two_qubit_process_tomography.confusion_matrix = confusion_matrix_elements"
   ]
  },
  {
   "cell_type": "markdown",
   "metadata": {},
   "source": [
    "### Identity"
   ]
  },
  {
   "cell_type": "code",
   "execution_count": null,
   "metadata": {
    "scrolled": true
   },
   "outputs": [],
   "source": [
    "two_qubit_process_tomography.set_prepare_seq([])\n",
    "identity_tomography = two_qubit_process_tomography.measure()"
   ]
  },
  {
   "cell_type": "code",
   "execution_count": null,
   "metadata": {},
   "outputs": [],
   "source": [
    "pqjson.dump(type=\"identity-tomography\",name='20190407',params = identity_tomography)"
   ]
  },
  {
   "cell_type": "code",
   "execution_count": null,
   "metadata": {},
   "outputs": [],
   "source": [
    "identity_tomography = pqjson.load(type=\"identity-tomography\",name='20181129',ignore_invalidation=True)"
   ]
  },
  {
   "cell_type": "markdown",
   "metadata": {},
   "source": [
    "#### plot raw measurement result"
   ]
  },
  {
   "cell_type": "code",
   "execution_count": null,
   "metadata": {},
   "outputs": [],
   "source": [
    "cube_state_prod = [i1+i2 for i1, i2 in itertools.product(['+X', '-X', '+Y', '-Y', '+Z', '-Z'], \n",
    "                                    ['+X', '-X', '+Y', '-Y', '+Z', '-Z'])]\n",
    "m00 = np.zeros((36,36))\n",
    "m01 = np.zeros((36,36))\n",
    "m10 = np.zeros((36,36))\n",
    "m11 = np.zeros((36,36))\n",
    "for left_state_id, left_state in enumerate(cube_state_prod):\n",
    "    for right_state_id, right_state in enumerate(cube_state_prod):\n",
    "        m00[left_state_id, right_state_id] = identity_tomography[left_state+right_state+'-P00']\n",
    "        m01[left_state_id, right_state_id] = identity_tomography[left_state+right_state+'-P01']\n",
    "        m10[left_state_id, right_state_id] = identity_tomography[left_state+right_state+'-P10']\n",
    "        m11[left_state_id, right_state_id] = identity_tomography[left_state+right_state+'-P11']\n",
    "\n",
    "figs, axes = plt.subplots(2,2, figsize=(10,10))\n",
    "axes[0,0].pcolormesh(m00)\n",
    "axes[0,0].set_title('P(00)')\n",
    "axes[0,0].grid(True)\n",
    "axes[0,0].set_xticks(np.arange(36))\n",
    "axes[0,0].set_yticks(np.arange(36)[::-1])\n",
    "axes[0,1].pcolormesh(m01)\n",
    "axes[0,1].set_title('P(01)')\n",
    "axes[0,1].grid(True)\n",
    "axes[0,1].set_xticks(np.arange(36))\n",
    "axes[0,1].set_yticks(np.arange(36)[::-1])\n",
    "axes[1,0].pcolormesh(m10)\n",
    "axes[1,0].set_title('P(10)')\n",
    "axes[1,0].grid(True)\n",
    "axes[1,0].set_xticks(np.arange(36))\n",
    "axes[1,0].set_yticks(np.arange(36)[::-1])\n",
    "axes[1,1].pcolormesh(m11)\n",
    "axes[1,1].set_title('P(11)')\n",
    "axes[1,1].grid(True)\n",
    "axes[1,1].set_xticks(np.arange(36))\n",
    "axes[1,1].set_yticks(np.arange(36)[::-1])\n",
    "fig = plt.gcf()\n",
    "fig.canvas.set_window_title('Raw measurements identity measured')"
   ]
  },
  {
   "cell_type": "markdown",
   "metadata": {},
   "source": [
    "#### plot expected measurement results"
   ]
  },
  {
   "cell_type": "code",
   "execution_count": null,
   "metadata": {
    "scrolled": true
   },
   "outputs": [],
   "source": [
    "#rotation_matrix=np.reshape(np.einsum('ij,kl->ikjl', [[0,1],[1,0]],np.identity(2)), (4,4))\n",
    "rotation_matrix = np.identity(4)\n",
    "rotation_matrix_process = np.reshape(np.einsum('ij,kl->ikjl', np.conj(rotation_matrix),rotation_matrix), (16,16))\n",
    "measurement_predictions = chi_to_measurement_predictions(rotation_matrix_process, identity_tomography)\n",
    "\n",
    "#measurement_predictions = chi_to_measurement_predictions(m, cnot13_tomography)\n",
    "\n",
    "cube_state_prod = [i1+i2 for i1, i2 in itertools.product(['+X', '-X', '+Y', '-Y', '+Z', '-Z'], \n",
    "                                    ['+X', '-X', '+Y', '-Y', '+Z', '-Z'])]\n",
    "m00 = np.zeros((36,36,2))\n",
    "m01 = np.zeros((36,36,2))\n",
    "m10 = np.zeros((36,36,2))\n",
    "m11 = np.zeros((36,36,2))\n",
    "for retres in [0,1]:\n",
    "    left_state_id = 0\n",
    "    for left_state_id, left_state in enumerate(cube_state_prod):\n",
    "        right_state_id = 0\n",
    "        for right_state_id, right_state in enumerate(cube_state_prod):\n",
    "            m00[left_state_id, right_state_id, retres] = measurement_predictions[retres][right_state_id, left_state_id]\n",
    "            m01[left_state_id, right_state_id, retres] = measurement_predictions[retres][right_state_id+1, left_state_id]\n",
    "            m10[left_state_id, right_state_id, retres] = measurement_predictions[retres][right_state_id+2, left_state_id]\n",
    "            m11[left_state_id, right_state_id, retres] = measurement_predictions[retres][right_state_id+3, left_state_id]\n",
    "            right_state_id += 4\n",
    "        left_state_id+=1\n",
    "\n",
    "    figs, axes = plt.subplots(2,2, figsize=(10,10))\n",
    "    axes[0,0].pcolormesh(m00[:,:,retres], vmin=0, vmax=1, cmap='RdBu')\n",
    "    axes[0,0].set_title('P(00)')\n",
    "    axes[0,0].grid(True)\n",
    "    axes[0,0].set_xticks(np.arange(36))\n",
    "    axes[0,0].set_yticks(np.arange(36)[::-1])\n",
    "    axes[0,1].pcolormesh(m01[:,:,retres], vmin=0, vmax=1, cmap='RdBu')\n",
    "    axes[0,1].set_title('P(01)')\n",
    "    axes[0,1].grid(True)\n",
    "    axes[0,1].set_xticks(np.arange(36))\n",
    "    axes[0,1].set_yticks(np.arange(36)[::-1])\n",
    "    axes[1,0].pcolormesh(m10[:,:,retres], vmin=0, vmax=1, cmap='RdBu')\n",
    "    axes[1,0].set_title('P(10)')\n",
    "    axes[1,0].grid(True)\n",
    "    axes[1,0].set_xticks(np.arange(36))\n",
    "    axes[1,0].set_yticks(np.arange(36)[::-1])\n",
    "    axes[1,1].pcolormesh(m11[:,:,retres], vmin=0, vmax=1, cmap='RdBu')\n",
    "    axes[1,1].set_title('P(11)')\n",
    "    axes[1,1].grid(True)\n",
    "    axes[1,1].set_xticks(np.arange(36))\n",
    "    axes[1,1].set_yticks(np.arange(36)[::-1])\n",
    "    fig = plt.gcf()\n",
    "    fig.canvas.set_window_title(('Expected' if retres ==0 else 'Measured')+' raw measurements Identity')\n",
    "    \n",
    "figs, axes = plt.subplots(2,2, figsize=(10,10))\n",
    "axes[0,0].pcolormesh(m00[:,:,1]-m00[:,:,0], vmin=-1, vmax=1, cmap='RdBu')\n",
    "axes[0,0].set_title('P(00)')\n",
    "axes[0,0].grid(True)\n",
    "axes[0,0].set_xticks(np.arange(36))\n",
    "axes[0,0].set_yticks(np.arange(36)[::-1])\n",
    "axes[0,1].pcolormesh(m01[:,:,1]-m01[:,:,0], vmin=-1, vmax=1, cmap='RdBu')\n",
    "axes[0,1].set_title('P(01)')\n",
    "axes[0,1].grid(True)\n",
    "axes[0,1].set_xticks(np.arange(36))\n",
    "axes[0,1].set_yticks(np.arange(36)[::-1])\n",
    "axes[1,0].pcolormesh(m10[:,:,1]-m10[:,:,0], vmin=-1, vmax=1, cmap='RdBu')\n",
    "axes[1,0].set_title('P(10)')\n",
    "axes[1,0].grid(True)\n",
    "axes[1,0].set_xticks(np.arange(36))\n",
    "axes[1,0].set_yticks(np.arange(36)[::-1])\n",
    "axes[1,1].pcolormesh(m11[:,:,1]-m11[:,:,0], vmin=-1, vmax=1, cmap='RdBu')\n",
    "axes[1,1].set_title('P(11)')\n",
    "axes[1,1].grid(True)\n",
    "axes[1,1].set_xticks(np.arange(36))\n",
    "axes[1,1].set_yticks(np.arange(36)[::-1])\n",
    "fig = plt.gcf()\n",
    "fig.canvas.set_window_title('Measured-expected raw measurements Identity')"
   ]
  },
  {
   "cell_type": "markdown",
   "metadata": {},
   "source": [
    "#### reconstruct"
   ]
  },
  {
   "cell_type": "code",
   "execution_count": null,
   "metadata": {},
   "outputs": [],
   "source": [
    "m_identity = np.zeros((16,16), dtype=np.complex)\n",
    "for left_state_id, left_state in enumerate(np.arange(16)):\n",
    "    for right_state_id, right_state in enumerate(np.arange(16)):\n",
    "        #left_state_unscrambled = (left_state//4)+(left_state%4)*4\n",
    "        #right_state_unscrambled = (right_state//4)+(right_state%4)*4\n",
    "        m_identity[left_state_id, right_state_id] = identity_tomography[str(left_state)+','+str(right_state)]"
   ]
  },
  {
   "cell_type": "code",
   "execution_count": null,
   "metadata": {
    "scrolled": true
   },
   "outputs": [],
   "source": [
    "m_identity_sdp = process_tomography_measurement_results_to_chi_matrix(identity_tomography)"
   ]
  },
  {
   "cell_type": "markdown",
   "metadata": {},
   "source": [
    "#### plot chi-matrix"
   ]
  },
  {
   "cell_type": "code",
   "execution_count": null,
   "metadata": {},
   "outputs": [],
   "source": [
    "fig, axes = plt.subplots(1,2, figsize=(8,4))\n",
    "fig = plt.gcf()\n",
    "fig.canvas.set_window_title('Chi-matrix identity measured')\n",
    "axes[0].pcolormesh(np.rot90(np.real(m_identity)),cmap='RdBu', vmin=-1, vmax=1)\n",
    "axes[0].set_xticks(np.arange(16))\n",
    "axes[0].set_yticks(np.arange(16)[::-1])\n",
    "axes[0].grid(True)\n",
    "\n",
    "axes[1].pcolormesh(np.rot90(np.imag(m_identity)),cmap='RdBu', vmin=-1, vmax=1)\n",
    "axes[1].set_xticks(np.arange(16))\n",
    "axes[1].set_yticks(np.arange(16)[::-1])\n",
    "axes[1].grid(True)\n",
    "#plt.colorbar()"
   ]
  },
  {
   "cell_type": "code",
   "execution_count": null,
   "metadata": {},
   "outputs": [],
   "source": [
    "fig, axes = plt.subplots(1,2, figsize=(8,4))\n",
    "fig = plt.gcf()\n",
    "fig.canvas.set_window_title('Chi-matrix SDP identity measured')\n",
    "axes[0].pcolormesh(np.rot90(np.real(m_identity_sdp)),cmap='RdBu', vmin=-1, vmax=1)\n",
    "axes[0].set_xticks(np.arange(16))\n",
    "axes[0].set_yticks(np.arange(16)[::-1])\n",
    "\n",
    "axes[1].pcolormesh(np.rot90(np.imag(m_identity_sdp)),cmap='RdBu', vmin=-1, vmax=1)\n",
    "axes[1].set_xticks(np.arange(16))\n",
    "axes[1].set_yticks(np.arange(16)[::-1])\n",
    "#plt.colorbar()\n",
    "plt.grid()"
   ]
  },
  {
   "cell_type": "code",
   "execution_count": null,
   "metadata": {},
   "outputs": [],
   "source": [
    "#rotation_matrix=np.reshape(np.einsum('ij,kl->ikjl', [[0,1],[1,0]],np.identity(2)), (4,4))\n",
    "rotation_matrix = np.identity(4)\n",
    "rotation_matrix_process = np.reshape(np.einsum('ij,kl->ikjl', np.conj(rotation_matrix),rotation_matrix), (16,16))\n",
    "\n",
    "fig, axes = plt.subplots(1,2, figsize=(8,4))\n",
    "fig = plt.gcf()\n",
    "fig.canvas.set_window_title('Chi-matrix SDP identity expected')\n",
    "axes[0].pcolormesh(np.rot90(np.real(rotation_matrix_process)),cmap='RdBu', vmin=-1, vmax=1)\n",
    "axes[0].set_xticks(np.arange(16))\n",
    "axes[0].set_yticks(np.arange(16)[::-1])\n",
    "\n",
    "axes[1].pcolormesh(np.rot90(np.imag(rotation_matrix_process)),cmap='RdBu', vmin=-1, vmax=1)\n",
    "axes[1].set_xticks(np.arange(16))\n",
    "axes[1].set_yticks(np.arange(16)[::-1])\n",
    "#plt.colorbar()\n",
    "plt.grid()"
   ]
  },
  {
   "cell_type": "code",
   "execution_count": null,
   "metadata": {},
   "outputs": [],
   "source": [
    "FI = np.trace(np.dot(rotation_matrix_process, m_identity_sdp))/16\n",
    "FI"
   ]
  },
  {
   "cell_type": "code",
   "execution_count": null,
   "metadata": {},
   "outputs": [],
   "source": [
    "i_indeces = [int(_id%(4))+         (int(_id/4/4)%4)*4 for _id in range(4*4*4*4)]\n",
    "j_indeces = [(int(_id/(4))%4)+(int(_id/(4*4*4))%4)*4 for _id in range(4*4*4*4)]\n",
    "#rotation_matrix_process_reshaped =np.reshape(np.transpose(np.reshape(rotation_matrix_process, (4,4,4,4)), (0,2,1,3)), (16,16))\n",
    "rotation_matrix_process_reshaped =np.reshape(rotation_matrix_process[i_indeces, j_indeces], (16,16))\n",
    "fig, axes = plt.subplots(1,2, figsize=(8,4))\n",
    "fig = plt.gcf()\n",
    "fig.canvas.set_window_title('Chi-matrix SDP idenitity reshaped expected')\n",
    "axes[0].pcolormesh(np.rot90(np.real(rotation_matrix_process_reshaped)),cmap='RdBu', vmin=-1, vmax=1)\n",
    "axes[0].set_xticks(np.arange(16))\n",
    "axes[0].set_yticks(np.arange(16)[::-1])\n",
    "\n",
    "axes[1].pcolormesh(np.rot90(np.imag(rotation_matrix_process_reshaped)),cmap='RdBu', vmin=-1, vmax=1)\n",
    "axes[1].set_xticks(np.arange(16))\n",
    "axes[1].set_yticks(np.arange(16)[::-1])\n",
    "#plt.colorbar()\n",
    "plt.grid() "
   ]
  },
  {
   "cell_type": "code",
   "execution_count": null,
   "metadata": {},
   "outputs": [],
   "source": [
    "np.linalg.eigh(rotation_matrix_process_reshaped)[0]"
   ]
  },
  {
   "cell_type": "markdown",
   "metadata": {},
   "source": [
    "### NOT (1)"
   ]
  },
  {
   "cell_type": "code",
   "execution_count": null,
   "metadata": {
    "scrolled": true
   },
   "outputs": [],
   "source": [
    "two_qubit_process_tomography.set_prepare_seq(get_rotation('1', np.pi, 0.0))\n",
    "not1_tomography = two_qubit_process_tomography.measure()"
   ]
  },
  {
   "cell_type": "code",
   "execution_count": null,
   "metadata": {},
   "outputs": [],
   "source": [
    "pqjson.dump(type=\"not1-tomography\",name='20181129',params = not1_tomography)"
   ]
  },
  {
   "cell_type": "code",
   "execution_count": null,
   "metadata": {},
   "outputs": [],
   "source": [
    "not1_tomography = pqjson.load(type=\"not1-tomography\",name='20181129', ignore_invalidation=True)"
   ]
  },
  {
   "cell_type": "markdown",
   "metadata": {},
   "source": [
    "#### plot raw measurement result"
   ]
  },
  {
   "cell_type": "code",
   "execution_count": null,
   "metadata": {},
   "outputs": [],
   "source": [
    "cube_state_prod = [i1+i2 for i1, i2 in itertools.product(['+X', '-X', '+Y', '-Y', '+Z', '-Z'], \n",
    "                                    ['+X', '-X', '+Y', '-Y', '+Z', '-Z'])]\n",
    "m00 = np.zeros((36,36))\n",
    "m01 = np.zeros((36,36))\n",
    "m10 = np.zeros((36,36))\n",
    "m11 = np.zeros((36,36))\n",
    "for left_state_id, left_state in enumerate(cube_state_prod):\n",
    "    for right_state_id, right_state in enumerate(cube_state_prod):\n",
    "        m00[left_state_id, right_state_id] = not1_tomography[left_state+right_state+'-P00']\n",
    "        m01[left_state_id, right_state_id] = not1_tomography[left_state+right_state+'-P01']\n",
    "        m10[left_state_id, right_state_id] = not1_tomography[left_state+right_state+'-P10']\n",
    "        m11[left_state_id, right_state_id] = not1_tomography[left_state+right_state+'-P11']\n",
    "\n",
    "figs, axes = plt.subplots(2,2, figsize=(10,10))\n",
    "axes[0,0].pcolormesh(m00)\n",
    "axes[0,0].set_title('P(00)')\n",
    "axes[0,0].grid(True)\n",
    "axes[0,0].set_xticks(np.arange(36))\n",
    "axes[0,0].set_yticks(np.arange(36)[::-1])\n",
    "axes[0,1].pcolormesh(m01)\n",
    "axes[0,1].set_title('P(01)')\n",
    "axes[0,1].grid(True)\n",
    "axes[0,1].set_xticks(np.arange(36))\n",
    "axes[0,1].set_yticks(np.arange(36)[::-1])\n",
    "axes[1,0].pcolormesh(m10)\n",
    "axes[1,0].set_title('P(10)')\n",
    "axes[1,0].grid(True)\n",
    "axes[1,0].set_xticks(np.arange(36))\n",
    "axes[1,0].set_yticks(np.arange(36)[::-1])\n",
    "axes[1,1].pcolormesh(m11)\n",
    "axes[1,1].set_title('P(11)')\n",
    "axes[1,1].grid(True)\n",
    "axes[1,1].set_xticks(np.arange(36))\n",
    "axes[1,1].set_yticks(np.arange(36)[::-1])\n",
    "fig = plt.gcf()\n",
    "fig.canvas.set_window_title('Raw measurements NOT(1) measured')"
   ]
  },
  {
   "cell_type": "markdown",
   "metadata": {},
   "source": [
    "#### plot expected measurement results"
   ]
  },
  {
   "cell_type": "code",
   "execution_count": null,
   "metadata": {
    "scrolled": true
   },
   "outputs": [],
   "source": [
    "rotation_matrix=np.reshape(np.einsum('ij,kl->ikjl', [[0,1],[1,0]],np.identity(2)), (4,4))\n",
    "rotation_matrix_process = np.reshape(np.einsum('ij,kl->ikjl', np.conj(rotation_matrix),rotation_matrix), (16,16))\n",
    "measurement_predictions = chi_to_measurement_predictions(rotation_matrix_process, not1_tomography)\n",
    "\n",
    "#measurement_predictions = chi_to_measurement_predictions(m, cnot13_tomography)\n",
    "\n",
    "cube_state_prod = [i1+i2 for i1, i2 in itertools.product(['+X', '-X', '+Y', '-Y', '+Z', '-Z'], \n",
    "                                    ['+X', '-X', '+Y', '-Y', '+Z', '-Z'])]\n",
    "m00 = np.zeros((36,36,2))\n",
    "m01 = np.zeros((36,36,2))\n",
    "m10 = np.zeros((36,36,2))\n",
    "m11 = np.zeros((36,36,2))\n",
    "for retres in [0,1]:\n",
    "    left_state_id = 0\n",
    "    for left_state_id, left_state in enumerate(cube_state_prod):\n",
    "        right_state_id = 0\n",
    "        for right_state_id, right_state in enumerate(cube_state_prod):\n",
    "            m00[left_state_id, right_state_id, retres] = measurement_predictions[retres][right_state_id, left_state_id]\n",
    "            m01[left_state_id, right_state_id, retres] = measurement_predictions[retres][right_state_id+1, left_state_id]\n",
    "            m10[left_state_id, right_state_id, retres] = measurement_predictions[retres][right_state_id+2, left_state_id]\n",
    "            m11[left_state_id, right_state_id, retres] = measurement_predictions[retres][right_state_id+3, left_state_id]\n",
    "            right_state_id += 4\n",
    "        left_state_id+=1\n",
    "\n",
    "    figs, axes = plt.subplots(2,2, figsize=(10,10))\n",
    "    axes[0,0].pcolormesh(m00[:,:,retres], vmin=0, vmax=1, cmap='RdBu')\n",
    "    axes[0,0].set_title('P(00)')\n",
    "    axes[0,0].grid(True)\n",
    "    axes[0,0].set_xticks(np.arange(36))\n",
    "    axes[0,0].set_yticks(np.arange(36)[::-1])\n",
    "    axes[0,1].pcolormesh(m01[:,:,retres], vmin=0, vmax=1, cmap='RdBu')\n",
    "    axes[0,1].set_title('P(01)')\n",
    "    axes[0,1].grid(True)\n",
    "    axes[0,1].set_xticks(np.arange(36))\n",
    "    axes[0,1].set_yticks(np.arange(36)[::-1])\n",
    "    axes[1,0].pcolormesh(m10[:,:,retres], vmin=0, vmax=1, cmap='RdBu')\n",
    "    axes[1,0].set_title('P(10)')\n",
    "    axes[1,0].grid(True)\n",
    "    axes[1,0].set_xticks(np.arange(36))\n",
    "    axes[1,0].set_yticks(np.arange(36)[::-1])\n",
    "    axes[1,1].pcolormesh(m11[:,:,retres], vmin=0, vmax=1, cmap='RdBu')\n",
    "    axes[1,1].set_title('P(11)')\n",
    "    axes[1,1].grid(True)\n",
    "    axes[1,1].set_xticks(np.arange(36))\n",
    "    axes[1,1].set_yticks(np.arange(36)[::-1])\n",
    "    fig = plt.gcf()\n",
    "    fig.canvas.set_window_title(('Expected' if retres ==0 else 'Measured')+' raw measurements NOT(1) conj')\n",
    "    \n",
    "figs, axes = plt.subplots(2,2, figsize=(10,10))\n",
    "axes[0,0].pcolormesh(m00[:,:,1]-m00[:,:,0], vmin=-1, vmax=1, cmap='RdBu')\n",
    "axes[0,0].set_title('P(00)')\n",
    "axes[0,0].grid(True)\n",
    "axes[0,0].set_xticks(np.arange(36))\n",
    "axes[0,0].set_yticks(np.arange(36)[::-1])\n",
    "axes[0,1].pcolormesh(m01[:,:,1]-m01[:,:,0], vmin=-1, vmax=1, cmap='RdBu')\n",
    "axes[0,1].set_title('P(01)')\n",
    "axes[0,1].grid(True)\n",
    "axes[0,1].set_xticks(np.arange(36))\n",
    "axes[0,1].set_yticks(np.arange(36)[::-1])\n",
    "axes[1,0].pcolormesh(m10[:,:,1]-m10[:,:,0], vmin=-1, vmax=1, cmap='RdBu')\n",
    "axes[1,0].set_title('P(10)')\n",
    "axes[1,0].grid(True)\n",
    "axes[1,0].set_xticks(np.arange(36))\n",
    "axes[1,0].set_yticks(np.arange(36)[::-1])\n",
    "axes[1,1].pcolormesh(m11[:,:,1]-m11[:,:,0], vmin=-1, vmax=1, cmap='RdBu')\n",
    "axes[1,1].set_title('P(11)')\n",
    "axes[1,1].grid(True)\n",
    "axes[1,1].set_xticks(np.arange(36))\n",
    "axes[1,1].set_yticks(np.arange(36)[::-1])\n",
    "fig = plt.gcf()\n",
    "fig.canvas.set_window_title('Measured-expected raw measurements NOT(1) conj')"
   ]
  },
  {
   "cell_type": "markdown",
   "metadata": {},
   "source": [
    "#### reconstruct"
   ]
  },
  {
   "cell_type": "code",
   "execution_count": null,
   "metadata": {},
   "outputs": [],
   "source": [
    "m_not1 = np.zeros((16,16), dtype=np.complex)\n",
    "for left_state_id, left_state in enumerate(np.arange(16)):\n",
    "    for right_state_id, right_state in enumerate(np.arange(16)):\n",
    "        #left_state_unscrambled = (left_state//4)+(left_state%4)*4\n",
    "        #right_state_unscrambled = (right_state//4)+(right_state%4)*4\n",
    "        m_not1[left_state_id, right_state_id] = not1_tomography[str(left_state)+','+str(right_state)]"
   ]
  },
  {
   "cell_type": "code",
   "execution_count": null,
   "metadata": {
    "scrolled": true
   },
   "outputs": [],
   "source": [
    "m_not1_sdp = process_tomography_measurement_results_to_chi_matrix(not1_tomography)"
   ]
  },
  {
   "cell_type": "markdown",
   "metadata": {},
   "source": [
    "#### plot chi-matrix"
   ]
  },
  {
   "cell_type": "code",
   "execution_count": null,
   "metadata": {},
   "outputs": [],
   "source": [
    "fig, axes = plt.subplots(1,2, figsize=(8,4))\n",
    "fig = plt.gcf()\n",
    "fig.canvas.set_window_title('Chi-matrix NOT(1) measured')\n",
    "axes[0].pcolormesh(np.rot90(np.real(m_not1)),cmap='RdBu', vmin=-1, vmax=1)\n",
    "axes[0].set_xticks(np.arange(16))\n",
    "axes[0].set_yticks(np.arange(16)[::-1])\n",
    "\n",
    "axes[1].pcolormesh(np.rot90(np.imag(m_not1)),cmap='RdBu', vmin=-1, vmax=1)\n",
    "axes[1].set_xticks(np.arange(16))\n",
    "axes[1].set_yticks(np.arange(16)[::-1])\n",
    "#plt.colorbar()\n",
    "plt.grid()"
   ]
  },
  {
   "cell_type": "code",
   "execution_count": null,
   "metadata": {},
   "outputs": [],
   "source": [
    "fig, axes = plt.subplots(1,2, figsize=(8,4))\n",
    "fig = plt.gcf()\n",
    "fig.canvas.set_window_title('Chi-matrix SDP NOT(1) measured')\n",
    "axes[0].pcolormesh(np.rot90(np.real(m_not1_sdp)),cmap='RdBu', vmin=-1, vmax=1)\n",
    "axes[0].set_xticks(np.arange(16))\n",
    "axes[0].set_yticks(np.arange(16)[::-1])\n",
    "\n",
    "axes[1].pcolormesh(np.rot90(np.imag(m_not1_sdp)),cmap='RdBu', vmin=-1, vmax=1)\n",
    "axes[1].set_xticks(np.arange(16))\n",
    "axes[1].set_yticks(np.arange(16)[::-1])\n",
    "#plt.colorbar()\n",
    "plt.grid()"
   ]
  },
  {
   "cell_type": "code",
   "execution_count": null,
   "metadata": {},
   "outputs": [],
   "source": [
    "rotation_matrix=np.reshape(np.einsum('ij,kl->ikjl', [[0,1],[1,0]],np.identity(2)), (4,4))\n",
    "rotation_matrix_process = np.reshape(np.einsum('ij,kl->ikjl', np.conj(rotation_matrix),rotation_matrix), (16,16))\n",
    "\n",
    "fig, axes = plt.subplots(1,2, figsize=(8,4))\n",
    "fig = plt.gcf()\n",
    "fig.canvas.set_window_title('Chi-matrix SDP CNOT(1,3) expected')\n",
    "axes[0].pcolormesh(np.rot90(np.real(rotation_matrix_process)),cmap='RdBu', vmin=-1, vmax=1)\n",
    "axes[0].set_xticks(np.arange(16))\n",
    "axes[0].set_yticks(np.arange(16)[::-1])\n",
    "\n",
    "axes[1].pcolormesh(np.rot90(np.imag(rotation_matrix_process)),cmap='RdBu', vmin=-1, vmax=1)\n",
    "axes[1].set_xticks(np.arange(16))\n",
    "axes[1].set_yticks(np.arange(16)[::-1])\n",
    "#plt.colorbar()\n",
    "plt.grid()"
   ]
  },
  {
   "cell_type": "code",
   "execution_count": null,
   "metadata": {},
   "outputs": [],
   "source": [
    "np.trace(np.dot(rotation_matrix_process, m_not1_sdp))/16"
   ]
  },
  {
   "cell_type": "code",
   "execution_count": null,
   "metadata": {},
   "outputs": [],
   "source": [
    "FNOT1 = ((np.trace(np.dot(rotation_matrix_process, m_not1_sdp))/16)/FI*4+1)/(4+1)\n",
    "FNOT1"
   ]
  },
  {
   "cell_type": "markdown",
   "metadata": {},
   "source": [
    "### $R_Y^{\\pi/2}(1)$"
   ]
  },
  {
   "cell_type": "code",
   "execution_count": null,
   "metadata": {
    "scrolled": true
   },
   "outputs": [],
   "source": [
    "two_qubit_process_tomography.set_prepare_seq(get_rotation('1', np.pi/2, np.pi/2.))\n",
    "R1Ypi2_tomography = two_qubit_process_tomography.measure()"
   ]
  },
  {
   "cell_type": "code",
   "execution_count": null,
   "metadata": {},
   "outputs": [],
   "source": [
    "pqjson.dump(type=\"R1Ypi2-tomography\",name='20181129',params = R1Ypi2_tomography)"
   ]
  },
  {
   "cell_type": "code",
   "execution_count": null,
   "metadata": {},
   "outputs": [],
   "source": [
    "with open(r'C:\\Data\\calibrations\\R1Ypi2-tomography\\20181129.txt') as f:\n",
    "    R1Ypi2_tomography = json_tricks.load(f)"
   ]
  },
  {
   "cell_type": "code",
   "execution_count": null,
   "metadata": {},
   "outputs": [],
   "source": [
    "import itertools"
   ]
  },
  {
   "cell_type": "code",
   "execution_count": null,
   "metadata": {},
   "outputs": [],
   "source": [
    "#R1Ypi2_tomography = pqjson.load(type=\"R1Ypi2-tomography\",name='20181129')"
   ]
  },
  {
   "cell_type": "markdown",
   "metadata": {},
   "source": [
    "#### plot raw measurement result"
   ]
  },
  {
   "cell_type": "code",
   "execution_count": null,
   "metadata": {},
   "outputs": [],
   "source": [
    "cube_state_prod = [i1+i2 for i1, i2 in itertools.product(['+X', '-X', '+Y', '-Y', '+Z', '-Z'], \n",
    "                                    ['+X', '-X', '+Y', '-Y', '+Z', '-Z'])]\n",
    "m00 = np.zeros((36,36))\n",
    "m01 = np.zeros((36,36))\n",
    "m10 = np.zeros((36,36))\n",
    "m11 = np.zeros((36,36))\n",
    "for left_state_id, left_state in enumerate(cube_state_prod):\n",
    "    for right_state_id, right_state in enumerate(cube_state_prod):\n",
    "        m00[left_state_id, right_state_id] = R1Ypi2_tomography[left_state+right_state+'-P00']\n",
    "        m01[left_state_id, right_state_id] = R1Ypi2_tomography[left_state+right_state+'-P01']\n",
    "        m10[left_state_id, right_state_id] = R1Ypi2_tomography[left_state+right_state+'-P10']\n",
    "        m11[left_state_id, right_state_id] = R1Ypi2_tomography[left_state+right_state+'-P11']\n",
    "\n",
    "figs, axes = plt.subplots(2,2, figsize=(10,10))\n",
    "axes[0,0].pcolormesh(m00)\n",
    "axes[0,0].set_title('P(00)')\n",
    "axes[0,0].grid(True)\n",
    "axes[0,0].set_xticks(np.arange(36))\n",
    "axes[0,0].set_yticks(np.arange(36)[::-1])\n",
    "axes[0,1].pcolormesh(m01)\n",
    "axes[0,1].set_title('P(01)')\n",
    "axes[0,1].grid(True)\n",
    "axes[0,1].set_xticks(np.arange(36))\n",
    "axes[0,1].set_yticks(np.arange(36)[::-1])\n",
    "axes[1,0].pcolormesh(m10)\n",
    "axes[1,0].set_title('P(10)')\n",
    "axes[1,0].grid(True)\n",
    "axes[1,0].set_xticks(np.arange(36))\n",
    "axes[1,0].set_yticks(np.arange(36)[::-1])\n",
    "axes[1,1].pcolormesh(m11)\n",
    "axes[1,1].set_title('P(11)')\n",
    "axes[1,1].grid(True)\n",
    "axes[1,1].set_xticks(np.arange(36))\n",
    "axes[1,1].set_yticks(np.arange(36)[::-1])\n",
    "fig = plt.gcf()\n",
    "fig.canvas.set_window_title('Raw measurements R1Ypi2(1) measured')"
   ]
  },
  {
   "cell_type": "markdown",
   "metadata": {},
   "source": [
    "#### plot expected measurement results"
   ]
  },
  {
   "cell_type": "code",
   "execution_count": null,
   "metadata": {
    "scrolled": true
   },
   "outputs": [],
   "source": [
    "rotation_matrix=np.reshape(np.einsum('ij,kl->ikjl',np.identity(2), np.asarray([[1,-1j],[1j,1]])/np.sqrt(2)), (4,4))\n",
    "rotation_matrix_process = np.reshape(np.einsum('ij,kl->ikjl', np.conj(rotation_matrix),rotation_matrix), (16,16))\n",
    "measurement_predictions = chi_to_measurement_predictions(rotation_matrix_process, R1Ypi2_tomography)\n",
    "\n",
    "#measurement_predictions = chi_to_measurement_predictions(m, cnot13_tomography)\n",
    "\n",
    "cube_state_prod = [i1+i2 for i1, i2 in itertools.product(['+X', '-X', '+Y', '-Y', '+Z', '-Z'], \n",
    "                                    ['+X', '-X', '+Y', '-Y', '+Z', '-Z'])]\n",
    "m00 = np.zeros((36,36,2))\n",
    "m01 = np.zeros((36,36,2))\n",
    "m10 = np.zeros((36,36,2))\n",
    "m11 = np.zeros((36,36,2))\n",
    "for retres in [0,1]:\n",
    "    left_state_id = 0\n",
    "    for left_state_id, left_state in enumerate(cube_state_prod):\n",
    "        right_state_id = 0\n",
    "        for right_state_id, right_state in enumerate(cube_state_prod):\n",
    "            m00[left_state_id, right_state_id, retres] = measurement_predictions[retres][right_state_id, left_state_id]\n",
    "            m01[left_state_id, right_state_id, retres] = measurement_predictions[retres][right_state_id+1, left_state_id]\n",
    "            m10[left_state_id, right_state_id, retres] = measurement_predictions[retres][right_state_id+2, left_state_id]\n",
    "            m11[left_state_id, right_state_id, retres] = measurement_predictions[retres][right_state_id+3, left_state_id]\n",
    "            right_state_id += 4\n",
    "        left_state_id+=1\n",
    "\n",
    "    figs, axes = plt.subplots(2,2, figsize=(10,10))\n",
    "    axes[0,0].pcolormesh(m00[:,:,retres], vmin=0, vmax=1, cmap='RdBu')\n",
    "    axes[0,0].set_title('P(00)')\n",
    "    axes[0,0].grid(True)\n",
    "    axes[0,0].set_xticks(np.arange(36))\n",
    "    axes[0,0].set_yticks(np.arange(36)[::-1])\n",
    "    axes[0,1].pcolormesh(m01[:,:,retres], vmin=0, vmax=1, cmap='RdBu')\n",
    "    axes[0,1].set_title('P(01)')\n",
    "    axes[0,1].grid(True)\n",
    "    axes[0,1].set_xticks(np.arange(36))\n",
    "    axes[0,1].set_yticks(np.arange(36)[::-1])\n",
    "    axes[1,0].pcolormesh(m10[:,:,retres], vmin=0, vmax=1, cmap='RdBu')\n",
    "    axes[1,0].set_title('P(10)')\n",
    "    axes[1,0].grid(True)\n",
    "    axes[1,0].set_xticks(np.arange(36))\n",
    "    axes[1,0].set_yticks(np.arange(36)[::-1])\n",
    "    axes[1,1].pcolormesh(m11[:,:,retres], vmin=0, vmax=1, cmap='RdBu')\n",
    "    axes[1,1].set_title('P(11)')\n",
    "    axes[1,1].grid(True)\n",
    "    axes[1,1].set_xticks(np.arange(36))\n",
    "    axes[1,1].set_yticks(np.arange(36)[::-1])\n",
    "    fig = plt.gcf()\n",
    "    fig.canvas.set_window_title(('Expected' if retres ==0 else 'Measured')+' raw measurements R1Ypi2(1)')\n",
    "    \n",
    "figs, axes = plt.subplots(2,2, figsize=(10,10))\n",
    "axes[0,0].pcolormesh(m00[:,:,1]-m00[:,:,0], vmin=-1, vmax=1, cmap='RdBu')\n",
    "axes[0,0].set_title('P(00)')\n",
    "axes[0,0].grid(True)\n",
    "axes[0,0].set_xticks(np.arange(36))\n",
    "axes[0,0].set_yticks(np.arange(36)[::-1])\n",
    "axes[0,1].pcolormesh(m01[:,:,1]-m01[:,:,0], vmin=-1, vmax=1, cmap='RdBu')\n",
    "axes[0,1].set_title('P(01)')\n",
    "axes[0,1].grid(True)\n",
    "axes[0,1].set_xticks(np.arange(36))\n",
    "axes[0,1].set_yticks(np.arange(36)[::-1])\n",
    "axes[1,0].pcolormesh(m10[:,:,1]-m10[:,:,0], vmin=-1, vmax=1, cmap='RdBu')\n",
    "axes[1,0].set_title('P(10)')\n",
    "axes[1,0].grid(True)\n",
    "axes[1,0].set_xticks(np.arange(36))\n",
    "axes[1,0].set_yticks(np.arange(36)[::-1])\n",
    "axes[1,1].pcolormesh(m11[:,:,1]-m11[:,:,0], vmin=-1, vmax=1, cmap='RdBu')\n",
    "axes[1,1].set_title('P(11)')\n",
    "axes[1,1].grid(True)\n",
    "axes[1,1].set_xticks(np.arange(36))\n",
    "axes[1,1].set_yticks(np.arange(36)[::-1])\n",
    "fig = plt.gcf()\n",
    "fig.canvas.set_window_title('Measured-expected raw measurements R1Ypi2(1)')"
   ]
  },
  {
   "cell_type": "markdown",
   "metadata": {},
   "source": [
    "#### reconstruct"
   ]
  },
  {
   "cell_type": "code",
   "execution_count": null,
   "metadata": {},
   "outputs": [],
   "source": [
    "m_R1Ypi2 = np.zeros((16,16), dtype=np.complex)\n",
    "for left_state_id, left_state in enumerate(np.arange(16)):\n",
    "    for right_state_id, right_state in enumerate(np.arange(16)):\n",
    "        #left_state_unscrambled = (left_state//4)+(left_state%4)*4\n",
    "        #right_state_unscrambled = (right_state//4)+(right_state%4)*4\n",
    "        m_R1Ypi2[left_state_id, right_state_id] = R1Ypi2_tomography[str(left_state)+','+str(right_state)]"
   ]
  },
  {
   "cell_type": "code",
   "execution_count": null,
   "metadata": {
    "scrolled": true
   },
   "outputs": [],
   "source": [
    "m_R1Ypi2_sdp = process_tomography_measurement_results_to_chi_matrix(R1Ypi2_tomography)"
   ]
  },
  {
   "cell_type": "markdown",
   "metadata": {},
   "source": [
    "#### plot chi-matrix"
   ]
  },
  {
   "cell_type": "code",
   "execution_count": null,
   "metadata": {},
   "outputs": [],
   "source": [
    "fig, axes = plt.subplots(1,2, figsize=(8,4))\n",
    "fig = plt.gcf()\n",
    "fig.canvas.set_window_title('Chi-matrix R1Ypi2(1) measured')\n",
    "axes[0].pcolormesh(np.rot90(np.real(m_R1Ypi2)),cmap='RdBu', vmin=-1, vmax=1)\n",
    "axes[0].set_xticks(np.arange(16))\n",
    "axes[0].set_yticks(np.arange(16)[::-1])\n",
    "\n",
    "axes[1].pcolormesh(np.rot90(np.imag(m_R1Ypi2)),cmap='RdBu', vmin=-1, vmax=1)\n",
    "axes[1].set_xticks(np.arange(16))\n",
    "axes[1].set_yticks(np.arange(16)[::-1])\n",
    "#plt.colorbar()\n",
    "plt.grid()"
   ]
  },
  {
   "cell_type": "code",
   "execution_count": null,
   "metadata": {},
   "outputs": [],
   "source": [
    "fig, axes = plt.subplots(1,2, figsize=(8,4))\n",
    "fig = plt.gcf()\n",
    "fig.canvas.set_window_title('Chi-matrix SDP R1Ypi2(1) measured')\n",
    "axes[0].pcolormesh(np.rot90(np.real(m_R1Ypi2_sdp)),cmap='RdBu', vmin=-1, vmax=1)\n",
    "axes[0].set_xticks(np.arange(16))\n",
    "axes[0].set_yticks(np.arange(16)[::-1])\n",
    "\n",
    "axes[1].pcolormesh(np.rot90(np.imag(m_R1Ypi2_sdp)),cmap='RdBu', vmin=-1, vmax=1)\n",
    "axes[1].set_xticks(np.arange(16))\n",
    "axes[1].set_yticks(np.arange(16)[::-1])\n",
    "#plt.colorbar()\n",
    "plt.grid()"
   ]
  },
  {
   "cell_type": "code",
   "execution_count": null,
   "metadata": {},
   "outputs": [],
   "source": [
    "rotation_matrix=np.reshape(np.einsum('ij,kl->ikjl', np.asarray([[1,-1],[1,1]])/np.sqrt(2), np.identity(2)), (4,4))\n",
    "rotation_matrix_process = np.reshape(np.einsum('ij,kl->ikjl', np.conj(rotation_matrix),rotation_matrix), (16,16))\n",
    "\n",
    "fig, axes = plt.subplots(1,2, figsize=(8,4))\n",
    "fig = plt.gcf()\n",
    "fig.canvas.set_window_title('Chi-matrix SDP R1Ypi2(1) expected')\n",
    "axes[0].pcolormesh(np.rot90(np.real(rotation_matrix_process)),cmap='RdBu', vmin=-1, vmax=1)\n",
    "axes[0].set_xticks(np.arange(16))\n",
    "axes[0].set_yticks(np.arange(16)[::-1])\n",
    "\n",
    "axes[1].pcolormesh(np.rot90(np.imag(rotation_matrix_process)),cmap='RdBu', vmin=-1, vmax=1)\n",
    "axes[1].set_xticks(np.arange(16))\n",
    "axes[1].set_yticks(np.arange(16)[::-1])\n",
    "#plt.colorbar()\n",
    "plt.grid()"
   ]
  },
  {
   "cell_type": "code",
   "execution_count": null,
   "metadata": {},
   "outputs": [],
   "source": [
    "np.linalg.eigh(rotation_matrix_process_reshaped)[0]"
   ]
  },
  {
   "cell_type": "code",
   "execution_count": null,
   "metadata": {},
   "outputs": [],
   "source": [
    "np.imag(rotation_matrix),np.imag(np.asarray([[1,-1j],[1,1j]])/np.sqrt(2))"
   ]
  },
  {
   "cell_type": "code",
   "execution_count": null,
   "metadata": {
    "scrolled": true
   },
   "outputs": [],
   "source": [
    "np.sum(rotation_matrix_process*np.conj(m_R1Ypi2_sdp))/16"
   ]
  },
  {
   "cell_type": "markdown",
   "metadata": {},
   "source": [
    "### $R_Y^{\\pi}(1)$"
   ]
  },
  {
   "cell_type": "code",
   "execution_count": null,
   "metadata": {
    "scrolled": true
   },
   "outputs": [],
   "source": [
    "two_qubit_process_tomography.set_prepare_seq(get_rotation('1', np.pi, np.pi/2.))\n",
    "R1Ypi_tomography = two_qubit_process_tomography.measure()"
   ]
  },
  {
   "cell_type": "code",
   "execution_count": null,
   "metadata": {},
   "outputs": [],
   "source": [
    "pqjson.dump(type=\"R1Ypi-tomography\",name='20181129',params = R1Ypi_tomography)"
   ]
  },
  {
   "cell_type": "code",
   "execution_count": null,
   "metadata": {},
   "outputs": [],
   "source": [
    "#R1Ypi_tomography = pqjson.load(type=\"R1Ypi-tomography\",name='20181129')"
   ]
  },
  {
   "cell_type": "markdown",
   "metadata": {},
   "source": [
    "#### plot raw measurement result"
   ]
  },
  {
   "cell_type": "code",
   "execution_count": null,
   "metadata": {},
   "outputs": [],
   "source": [
    "cube_state_prod = [i1+i2 for i1, i2 in itertools.product(['+X', '-X', '+Y', '-Y', '+Z', '-Z'], \n",
    "                                    ['+X', '-X', '+Y', '-Y', '+Z', '-Z'])]\n",
    "m00 = np.zeros((36,36))\n",
    "m01 = np.zeros((36,36))\n",
    "m10 = np.zeros((36,36))\n",
    "m11 = np.zeros((36,36))\n",
    "for left_state_id, left_state in enumerate(cube_state_prod):\n",
    "    for right_state_id, right_state in enumerate(cube_state_prod):\n",
    "        m00[left_state_id, right_state_id] = R1Ypi_tomography[left_state+right_state+'-P00']\n",
    "        m01[left_state_id, right_state_id] = R1Ypi_tomography[left_state+right_state+'-P01']\n",
    "        m10[left_state_id, right_state_id] = R1Ypi_tomography[left_state+right_state+'-P10']\n",
    "        m11[left_state_id, right_state_id] = R1Ypi_tomography[left_state+right_state+'-P11']\n",
    "\n",
    "figs, axes = plt.subplots(2,2, figsize=(10,10))\n",
    "axes[0,0].pcolormesh(m00)\n",
    "axes[0,0].set_title('P(00)')\n",
    "axes[0,0].grid(True)\n",
    "axes[0,0].set_xticks(np.arange(36))\n",
    "axes[0,0].set_yticks(np.arange(36)[::-1])\n",
    "axes[0,1].pcolormesh(m01)\n",
    "axes[0,1].set_title('P(01)')\n",
    "axes[0,1].grid(True)\n",
    "axes[0,1].set_xticks(np.arange(36))\n",
    "axes[0,1].set_yticks(np.arange(36)[::-1])\n",
    "axes[1,0].pcolormesh(m10)\n",
    "axes[1,0].set_title('P(10)')\n",
    "axes[1,0].grid(True)\n",
    "axes[1,0].set_xticks(np.arange(36))\n",
    "axes[1,0].set_yticks(np.arange(36)[::-1])\n",
    "axes[1,1].pcolormesh(m11)\n",
    "axes[1,1].set_title('P(11)')\n",
    "axes[1,1].grid(True)\n",
    "axes[1,1].set_xticks(np.arange(36))\n",
    "axes[1,1].set_yticks(np.arange(36)[::-1])\n",
    "fig = plt.gcf()\n",
    "fig.canvas.set_window_title('Raw measurements R1Ypi measured')"
   ]
  },
  {
   "cell_type": "markdown",
   "metadata": {},
   "source": [
    "#### plot expected measurement results"
   ]
  },
  {
   "cell_type": "code",
   "execution_count": null,
   "metadata": {
    "scrolled": true
   },
   "outputs": [],
   "source": [
    "rotation_matrix=np.reshape(np.einsum('ij,kl->ikjl',np.identity(2), np.asarray([[1,-1j],[1j,1]])/np.sqrt(2)), (4,4))\n",
    "rotation_matrix_process = np.reshape(np.einsum('ij,kl->ikjl', np.conj(rotation_matrix),rotation_matrix), (16,16))\n",
    "measurement_predictions = chi_to_measurement_predictions(rotation_matrix_process, R1Ypi_tomography)\n",
    "\n",
    "#measurement_predictions = chi_to_measurement_predictions(m, cnot13_tomography)\n",
    "\n",
    "cube_state_prod = [i1+i2 for i1, i2 in itertools.product(['+X', '-X', '+Y', '-Y', '+Z', '-Z'], \n",
    "                                    ['+X', '-X', '+Y', '-Y', '+Z', '-Z'])]\n",
    "m00 = np.zeros((36,36,2))\n",
    "m01 = np.zeros((36,36,2))\n",
    "m10 = np.zeros((36,36,2))\n",
    "m11 = np.zeros((36,36,2))\n",
    "for retres in [0,1]:\n",
    "    left_state_id = 0\n",
    "    for left_state_id, left_state in enumerate(cube_state_prod):\n",
    "        right_state_id = 0\n",
    "        for right_state_id, right_state in enumerate(cube_state_prod):\n",
    "            m00[left_state_id, right_state_id, retres] = measurement_predictions[retres][right_state_id, left_state_id]\n",
    "            m01[left_state_id, right_state_id, retres] = measurement_predictions[retres][right_state_id+1, left_state_id]\n",
    "            m10[left_state_id, right_state_id, retres] = measurement_predictions[retres][right_state_id+2, left_state_id]\n",
    "            m11[left_state_id, right_state_id, retres] = measurement_predictions[retres][right_state_id+3, left_state_id]\n",
    "            right_state_id += 4\n",
    "        left_state_id+=1\n",
    "\n",
    "    figs, axes = plt.subplots(2,2, figsize=(10,10))\n",
    "    axes[0,0].pcolormesh(m00[:,:,retres], vmin=0, vmax=1, cmap='RdBu')\n",
    "    axes[0,0].set_title('P(00)')\n",
    "    axes[0,0].grid(True)\n",
    "    axes[0,0].set_xticks(np.arange(36))\n",
    "    axes[0,0].set_yticks(np.arange(36)[::-1])\n",
    "    axes[0,1].pcolormesh(m01[:,:,retres], vmin=0, vmax=1, cmap='RdBu')\n",
    "    axes[0,1].set_title('P(01)')\n",
    "    axes[0,1].grid(True)\n",
    "    axes[0,1].set_xticks(np.arange(36))\n",
    "    axes[0,1].set_yticks(np.arange(36)[::-1])\n",
    "    axes[1,0].pcolormesh(m10[:,:,retres], vmin=0, vmax=1, cmap='RdBu')\n",
    "    axes[1,0].set_title('P(10)')\n",
    "    axes[1,0].grid(True)\n",
    "    axes[1,0].set_xticks(np.arange(36))\n",
    "    axes[1,0].set_yticks(np.arange(36)[::-1])\n",
    "    axes[1,1].pcolormesh(m11[:,:,retres], vmin=0, vmax=1, cmap='RdBu')\n",
    "    axes[1,1].set_title('P(11)')\n",
    "    axes[1,1].grid(True)\n",
    "    axes[1,1].set_xticks(np.arange(36))\n",
    "    axes[1,1].set_yticks(np.arange(36)[::-1])\n",
    "    fig = plt.gcf()\n",
    "    fig.canvas.set_window_title(('Expected' if retres ==0 else 'Measured')+' raw measurements R1Ypi2(1)')\n",
    "    \n",
    "figs, axes = plt.subplots(2,2, figsize=(10,10))\n",
    "axes[0,0].pcolormesh(m00[:,:,1]-m00[:,:,0], vmin=-1, vmax=1, cmap='RdBu')\n",
    "axes[0,0].set_title('P(00)')\n",
    "axes[0,0].grid(True)\n",
    "axes[0,0].set_xticks(np.arange(36))\n",
    "axes[0,0].set_yticks(np.arange(36)[::-1])\n",
    "axes[0,1].pcolormesh(m01[:,:,1]-m01[:,:,0], vmin=-1, vmax=1, cmap='RdBu')\n",
    "axes[0,1].set_title('P(01)')\n",
    "axes[0,1].grid(True)\n",
    "axes[0,1].set_xticks(np.arange(36))\n",
    "axes[0,1].set_yticks(np.arange(36)[::-1])\n",
    "axes[1,0].pcolormesh(m10[:,:,1]-m10[:,:,0], vmin=-1, vmax=1, cmap='RdBu')\n",
    "axes[1,0].set_title('P(10)')\n",
    "axes[1,0].grid(True)\n",
    "axes[1,0].set_xticks(np.arange(36))\n",
    "axes[1,0].set_yticks(np.arange(36)[::-1])\n",
    "axes[1,1].pcolormesh(m11[:,:,1]-m11[:,:,0], vmin=-1, vmax=1, cmap='RdBu')\n",
    "axes[1,1].set_title('P(11)')\n",
    "axes[1,1].grid(True)\n",
    "axes[1,1].set_xticks(np.arange(36))\n",
    "axes[1,1].set_yticks(np.arange(36)[::-1])\n",
    "fig = plt.gcf()\n",
    "fig.canvas.set_window_title('Measured-expected raw measurements R1Ypi2(1)')"
   ]
  },
  {
   "cell_type": "markdown",
   "metadata": {},
   "source": [
    "#### reconstruct"
   ]
  },
  {
   "cell_type": "code",
   "execution_count": null,
   "metadata": {},
   "outputs": [],
   "source": [
    "m_R1Ypi = np.zeros((16,16), dtype=np.complex)\n",
    "for left_state_id, left_state in enumerate(np.arange(16)):\n",
    "    for right_state_id, right_state in enumerate(np.arange(16)):\n",
    "        #left_state_unscrambled = (left_state//4)+(left_state%4)*4\n",
    "        #right_state_unscrambled = (right_state//4)+(right_state%4)*4\n",
    "        m_R1Ypi[left_state_id, right_state_id] =R1Ypi_tomography[str(left_state)+','+str(right_state)]"
   ]
  },
  {
   "cell_type": "code",
   "execution_count": null,
   "metadata": {
    "scrolled": true
   },
   "outputs": [],
   "source": [
    "m_R1Ypi_sdp = process_tomography_measurement_results_to_chi_matrix(R1Ypi_tomography)"
   ]
  },
  {
   "cell_type": "markdown",
   "metadata": {},
   "source": [
    "#### plot chi-matrix"
   ]
  },
  {
   "cell_type": "code",
   "execution_count": null,
   "metadata": {},
   "outputs": [],
   "source": [
    "fig, axes = plt.subplots(1,2, figsize=(8,4))\n",
    "fig = plt.gcf()\n",
    "fig.canvas.set_window_title('Chi-matrix R1Ypi(1) measured')\n",
    "axes[0].pcolormesh(np.rot90(np.real(m_R1Ypi)),cmap='RdBu', vmin=-1, vmax=1)\n",
    "axes[0].set_xticks(np.arange(16))\n",
    "axes[0].set_yticks(np.arange(16)[::-1])\n",
    "\n",
    "axes[1].pcolormesh(np.rot90(np.imag(m_R1Ypi)),cmap='RdBu', vmin=-1, vmax=1)\n",
    "axes[1].set_xticks(np.arange(16))\n",
    "axes[1].set_yticks(np.arange(16)[::-1])\n",
    "#plt.colorbar()\n",
    "plt.grid()"
   ]
  },
  {
   "cell_type": "code",
   "execution_count": null,
   "metadata": {},
   "outputs": [],
   "source": [
    "fig, axes = plt.subplots(1,2, figsize=(8,4))\n",
    "fig = plt.gcf()\n",
    "fig.canvas.set_window_title('Chi-matrix SDP R1Ypi(1) measured')\n",
    "axes[0].pcolormesh(np.rot90(np.real(m_R1Ypi_sdp)),cmap='RdBu', vmin=-1, vmax=1)\n",
    "axes[0].set_xticks(np.arange(16))\n",
    "axes[0].set_yticks(np.arange(16)[::-1])\n",
    "\n",
    "axes[1].pcolormesh(np.rot90(np.imag(m_R1Ypi_sdp)),cmap='RdBu', vmin=-1, vmax=1)\n",
    "axes[1].set_xticks(np.arange(16))\n",
    "axes[1].set_yticks(np.arange(16)[::-1])\n",
    "#plt.colorbar()\n",
    "plt.grid()"
   ]
  },
  {
   "cell_type": "code",
   "execution_count": null,
   "metadata": {},
   "outputs": [],
   "source": [
    "rotation_matrix=np.reshape(np.einsum('ij,kl->ikjl',np.identity(2), np.asarray([[0,-1j],[1j,0]])), (4,4))\n",
    "rotation_matrix_process = np.reshape(np.einsum('ij,kl->ikjl', np.conj(rotation_matrix),rotation_matrix), (16,16))\n",
    "\n",
    "fig, axes = plt.subplots(1,2, figsize=(8,4))\n",
    "fig = plt.gcf()\n",
    "fig.canvas.set_window_title('Chi-matrix SDP R1Ypi(1) expected')\n",
    "axes[0].pcolormesh(np.rot90(np.real(rotation_matrix_process)),cmap='RdBu', vmin=-1, vmax=1)\n",
    "axes[0].set_xticks(np.arange(16))\n",
    "axes[0].set_yticks(np.arange(16)[::-1])\n",
    "\n",
    "axes[1].pcolormesh(np.rot90(np.imag(rotation_matrix_process)),cmap='RdBu', vmin=-1, vmax=1)\n",
    "axes[1].set_xticks(np.arange(16))\n",
    "axes[1].set_yticks(np.arange(16)[::-1])\n",
    "#plt.colorbar()\n",
    "plt.grid()"
   ]
  },
  {
   "cell_type": "code",
   "execution_count": null,
   "metadata": {
    "scrolled": true
   },
   "outputs": [],
   "source": [
    "np.trace(np.dot(rotation_matrix_process, m_R1Ypi_sdp))/16"
   ]
  },
  {
   "cell_type": "markdown",
   "metadata": {},
   "source": [
    "### NOT (3)"
   ]
  },
  {
   "cell_type": "code",
   "execution_count": null,
   "metadata": {
    "scrolled": true
   },
   "outputs": [],
   "source": [
    "two_qubit_process_tomography.set_prepare_seq(get_rotation('3', np.pi, 0.0))\n",
    "not3_tomography = two_qubit_process_tomography.measure()"
   ]
  },
  {
   "cell_type": "code",
   "execution_count": null,
   "metadata": {},
   "outputs": [],
   "source": [
    "pqjson.dump(type=\"not3-tomography\",name='20181129',params = not3_tomography)"
   ]
  },
  {
   "cell_type": "code",
   "execution_count": null,
   "metadata": {},
   "outputs": [],
   "source": [
    "#not3_tomography = pqjson.load(type=\"not3-tomography\",name='20181129')"
   ]
  },
  {
   "cell_type": "markdown",
   "metadata": {},
   "source": [
    "#### plot raw measurement result"
   ]
  },
  {
   "cell_type": "code",
   "execution_count": null,
   "metadata": {},
   "outputs": [],
   "source": [
    "cube_state_prod = [i1+i2 for i1, i2 in itertools.product(['+X', '-X', '+Y', '-Y', '+Z', '-Z'], \n",
    "                                    ['+X', '-X', '+Y', '-Y', '+Z', '-Z'])]\n",
    "m00 = np.zeros((36,36))\n",
    "m01 = np.zeros((36,36))\n",
    "m10 = np.zeros((36,36))\n",
    "m11 = np.zeros((36,36))\n",
    "for left_state_id, left_state in enumerate(cube_state_prod):\n",
    "    for right_state_id, right_state in enumerate(cube_state_prod):\n",
    "        m00[left_state_id, right_state_id] = not3_tomography[left_state+right_state+'-P00']\n",
    "        m01[left_state_id, right_state_id] = not3_tomography[left_state+right_state+'-P01']\n",
    "        m10[left_state_id, right_state_id] = not3_tomography[left_state+right_state+'-P10']\n",
    "        m11[left_state_id, right_state_id] = not3_tomography[left_state+right_state+'-P11']\n",
    "\n",
    "figs, axes = plt.subplots(2,2, figsize=(10,10))\n",
    "axes[0,0].pcolormesh(m00)\n",
    "axes[0,0].set_title('P(00)')\n",
    "axes[0,0].grid(True)\n",
    "axes[0,0].set_xticks(np.arange(36))\n",
    "axes[0,0].set_yticks(np.arange(36)[::-1])\n",
    "axes[0,1].pcolormesh(m01)\n",
    "axes[0,1].set_title('P(01)')\n",
    "axes[0,1].grid(True)\n",
    "axes[0,1].set_xticks(np.arange(36))\n",
    "axes[0,1].set_yticks(np.arange(36)[::-1])\n",
    "axes[1,0].pcolormesh(m10)\n",
    "axes[1,0].set_title('P(10)')\n",
    "axes[1,0].grid(True)\n",
    "axes[1,0].set_xticks(np.arange(36))\n",
    "axes[1,0].set_yticks(np.arange(36)[::-1])\n",
    "axes[1,1].pcolormesh(m11)\n",
    "axes[1,1].set_title('P(11)')\n",
    "axes[1,1].grid(True)\n",
    "axes[1,1].set_xticks(np.arange(36))\n",
    "axes[1,1].set_yticks(np.arange(36)[::-1])\n",
    "fig = plt.gcf()\n",
    "fig.canvas.set_window_title('Raw measurements NOT(3) measured')"
   ]
  },
  {
   "cell_type": "markdown",
   "metadata": {},
   "source": [
    "#### plot expected measurement results"
   ]
  },
  {
   "cell_type": "code",
   "execution_count": null,
   "metadata": {},
   "outputs": [],
   "source": [
    "rotation_matrix=np.reshape(np.einsum('ij,kl->ikjl',np.identity(2), [[0,1],[1,0]]), (4,4))\n",
    "rotation_matrix_process = np.reshape(np.einsum('ij,kl->ikjl', np.conj(rotation_matrix),rotation_matrix), (16,16))\n",
    "measurement_predictions = chi_to_measurement_predictions(rotation_matrix_process, not3_tomography)\n",
    "\n",
    "#measurement_predictions = chi_to_measurement_predictions(m, cnot13_tomography)\n",
    "\n",
    "cube_state_prod = [i1+i2 for i1, i2 in itertools.product(['+X', '-X', '+Y', '-Y', '+Z', '-Z'], \n",
    "                                    ['+X', '-X', '+Y', '-Y', '+Z', '-Z'])]\n",
    "m00 = np.zeros((36,36,2))\n",
    "m01 = np.zeros((36,36,2))\n",
    "m10 = np.zeros((36,36,2))\n",
    "m11 = np.zeros((36,36,2))\n",
    "for retres in [0,1]:\n",
    "    left_state_id = 0\n",
    "    for left_state_id, left_state in enumerate(cube_state_prod):\n",
    "        right_state_id = 0\n",
    "        for right_state_id, right_state in enumerate(cube_state_prod):\n",
    "            m00[left_state_id, right_state_id, retres] = measurement_predictions[retres][right_state_id, left_state_id]\n",
    "            m01[left_state_id, right_state_id, retres] = measurement_predictions[retres][right_state_id+1, left_state_id]\n",
    "            m10[left_state_id, right_state_id, retres] = measurement_predictions[retres][right_state_id+2, left_state_id]\n",
    "            m11[left_state_id, right_state_id, retres] = measurement_predictions[retres][right_state_id+3, left_state_id]\n",
    "            right_state_id += 4\n",
    "        left_state_id+=1\n",
    "\n",
    "    figs, axes = plt.subplots(2,2, figsize=(10,10))\n",
    "    axes[0,0].pcolormesh(m00[:,:,retres], vmin=0, vmax=1, cmap='RdBu')\n",
    "    axes[0,0].set_title('P(00)')\n",
    "    axes[0,0].grid(True)\n",
    "    axes[0,0].set_xticks(np.arange(36))\n",
    "    axes[0,0].set_yticks(np.arange(36)[::-1])\n",
    "    axes[0,1].pcolormesh(m01[:,:,retres], vmin=0, vmax=1, cmap='RdBu')\n",
    "    axes[0,1].set_title('P(01)')\n",
    "    axes[0,1].grid(True)\n",
    "    axes[0,1].set_xticks(np.arange(36))\n",
    "    axes[0,1].set_yticks(np.arange(36)[::-1])\n",
    "    axes[1,0].pcolormesh(m10[:,:,retres], vmin=0, vmax=1, cmap='RdBu')\n",
    "    axes[1,0].set_title('P(10)')\n",
    "    axes[1,0].grid(True)\n",
    "    axes[1,0].set_xticks(np.arange(36))\n",
    "    axes[1,0].set_yticks(np.arange(36)[::-1])\n",
    "    axes[1,1].pcolormesh(m11[:,:,retres], vmin=0, vmax=1, cmap='RdBu')\n",
    "    axes[1,1].set_title('P(11)')\n",
    "    axes[1,1].grid(True)\n",
    "    axes[1,1].set_xticks(np.arange(36))\n",
    "    axes[1,1].set_yticks(np.arange(36)[::-1])\n",
    "    fig = plt.gcf()\n",
    "    fig.canvas.set_window_title(('Expected' if retres ==0 else 'Measured')+' raw measurements NOT(3)')\n",
    "    \n",
    "figs, axes = plt.subplots(2,2, figsize=(10,10))\n",
    "axes[0,0].pcolormesh(m00[:,:,1]-m00[:,:,0], vmin=-1, vmax=1, cmap='RdBu')\n",
    "axes[0,0].set_title('P(00)')\n",
    "axes[0,0].grid(True)\n",
    "axes[0,0].set_xticks(np.arange(36))\n",
    "axes[0,0].set_yticks(np.arange(36)[::-1])\n",
    "axes[0,1].pcolormesh(m01[:,:,1]-m01[:,:,0], vmin=-1, vmax=1, cmap='RdBu')\n",
    "axes[0,1].set_title('P(01)')\n",
    "axes[0,1].grid(True)\n",
    "axes[0,1].set_xticks(np.arange(36))\n",
    "axes[0,1].set_yticks(np.arange(36)[::-1])\n",
    "axes[1,0].pcolormesh(m10[:,:,1]-m10[:,:,0], vmin=-1, vmax=1, cmap='RdBu')\n",
    "axes[1,0].set_title('P(10)')\n",
    "axes[1,0].grid(True)\n",
    "axes[1,0].set_xticks(np.arange(36))\n",
    "axes[1,0].set_yticks(np.arange(36)[::-1])\n",
    "axes[1,1].pcolormesh(m11[:,:,1]-m11[:,:,0], vmin=-1, vmax=1, cmap='RdBu')\n",
    "axes[1,1].set_title('P(11)')\n",
    "axes[1,1].grid(True)\n",
    "axes[1,1].set_xticks(np.arange(36))\n",
    "axes[1,1].set_yticks(np.arange(36)[::-1])\n",
    "fig = plt.gcf()\n",
    "fig.canvas.set_window_title('Measured-expected raw measurements NOT(3)')"
   ]
  },
  {
   "cell_type": "markdown",
   "metadata": {},
   "source": [
    "#### reconstruct"
   ]
  },
  {
   "cell_type": "code",
   "execution_count": null,
   "metadata": {},
   "outputs": [],
   "source": [
    "m_not3 = np.zeros((16,16), dtype=np.complex)\n",
    "for left_state_id, left_state in enumerate(np.arange(16)):\n",
    "    for right_state_id, right_state in enumerate(np.arange(16)):\n",
    "        #left_state_unscrambled = (left_state//4)+(left_state%4)*4\n",
    "        #right_state_unscrambled = (right_state//4)+(right_state%4)*4\n",
    "        m_not3[left_state_id, right_state_id] = not3_tomography[str(left_state)+','+str(right_state)]"
   ]
  },
  {
   "cell_type": "code",
   "execution_count": null,
   "metadata": {
    "scrolled": true
   },
   "outputs": [],
   "source": [
    "m_not3_sdp = process_tomography_measurement_results_to_chi_matrix(not3_tomography)"
   ]
  },
  {
   "cell_type": "markdown",
   "metadata": {},
   "source": [
    "#### plot chi-matrix"
   ]
  },
  {
   "cell_type": "code",
   "execution_count": null,
   "metadata": {},
   "outputs": [],
   "source": [
    "fig, axes = plt.subplots(1,2, figsize=(8,4))\n",
    "fig = plt.gcf()\n",
    "fig.canvas.set_window_title('Chi-matrix NOT(3) measured')\n",
    "axes[0].pcolormesh(np.rot90(np.real(m_not3)),cmap='RdBu', vmin=-1, vmax=1)\n",
    "axes[0].set_xticks(np.arange(16))\n",
    "axes[0].set_yticks(np.arange(16)[::-1])\n",
    "\n",
    "axes[1].pcolormesh(np.rot90(np.imag(m_not3)),cmap='RdBu', vmin=-1, vmax=1)\n",
    "axes[1].set_xticks(np.arange(16))\n",
    "axes[1].set_yticks(np.arange(16)[::-1])\n",
    "#plt.colorbar()\n",
    "plt.grid()"
   ]
  },
  {
   "cell_type": "code",
   "execution_count": null,
   "metadata": {},
   "outputs": [],
   "source": [
    "fig, axes = plt.subplots(1,2, figsize=(8,4))\n",
    "fig = plt.gcf()\n",
    "fig.canvas.set_window_title('Chi-matrix SDP NOT(3) measured')\n",
    "axes[0].pcolormesh(np.rot90(np.real(m_not3_sdp)),cmap='RdBu', vmin=-1, vmax=1)\n",
    "axes[0].set_xticks(np.arange(16))\n",
    "axes[0].set_yticks(np.arange(16)[::-1])\n",
    "\n",
    "axes[1].pcolormesh(np.rot90(np.imag(m_not3_sdp)),cmap='RdBu', vmin=-1, vmax=1)\n",
    "axes[1].set_xticks(np.arange(16))\n",
    "axes[1].set_yticks(np.arange(16)[::-1])\n",
    "#plt.colorbar()\n",
    "plt.grid()"
   ]
  },
  {
   "cell_type": "code",
   "execution_count": null,
   "metadata": {},
   "outputs": [],
   "source": [
    "rotation_matrix=np.reshape(np.einsum('ij,kl->ikjl',np.identity(2), [[0,1],[1,0]]), (4,4))\n",
    "rotation_matrix_process = np.reshape(np.einsum('ij,kl->ikjl', np.conj(rotation_matrix),rotation_matrix), (16,16))\n",
    "\n",
    "fig, axes = plt.subplots(1,2, figsize=(8,4))\n",
    "fig = plt.gcf()\n",
    "fig.canvas.set_window_title('Chi-matrix SDP NOT(3) expected')\n",
    "axes[0].pcolormesh(np.rot90(np.real(rotation_matrix_process)),cmap='RdBu', vmin=-1, vmax=1)\n",
    "axes[0].set_xticks(np.arange(16))\n",
    "axes[0].set_yticks(np.arange(16)[::-1])\n",
    "\n",
    "axes[1].pcolormesh(np.rot90(np.imag(rotation_matrix_process)),cmap='RdBu', vmin=-1, vmax=1)\n",
    "axes[1].set_xticks(np.arange(16))\n",
    "axes[1].set_yticks(np.arange(16)[::-1])\n",
    "#plt.colorbar()\n",
    "plt.grid()"
   ]
  },
  {
   "cell_type": "code",
   "execution_count": null,
   "metadata": {},
   "outputs": [],
   "source": [
    "np.trace(np.dot(rotation_matrix_process, m_not3_sdp))/16"
   ]
  },
  {
   "cell_type": "markdown",
   "metadata": {},
   "source": [
    "### CNOT (1,3)"
   ]
  },
  {
   "cell_type": "markdown",
   "metadata": {},
   "source": [
    "#### measure"
   ]
  },
  {
   "cell_type": "code",
   "execution_count": null,
   "metadata": {
    "scrolled": true
   },
   "outputs": [],
   "source": [
    "two_qubit_process_tomography.set_prepare_seq(control_target_tld['1']['3'].get_pi_pulse_sequence(0.0))\n",
    "cnot13_tomography = two_qubit_process_tomography.measure()"
   ]
  },
  {
   "cell_type": "code",
   "execution_count": null,
   "metadata": {},
   "outputs": [],
   "source": [
    "pqjson.dump(type=\"cnot13-tomography\",name='20181128',params = cnot13_tomography)"
   ]
  },
  {
   "cell_type": "markdown",
   "metadata": {},
   "source": [
    "#### plot raw measurement result"
   ]
  },
  {
   "cell_type": "code",
   "execution_count": null,
   "metadata": {},
   "outputs": [],
   "source": [
    "cube_state_prod = [i1+i2 for i1, i2 in itertools.product(['+X', '-X', '+Y', '-Y', '+Z', '-Z'], \n",
    "                                    ['+X', '-X', '+Y', '-Y', '+Z', '-Z'])]\n",
    "m00 = np.zeros((36,36))\n",
    "m01 = np.zeros((36,36))\n",
    "m10 = np.zeros((36,36))\n",
    "m11 = np.zeros((36,36))\n",
    "for left_state_id, left_state in enumerate(cube_state_prod):\n",
    "    for right_state_id, right_state in enumerate(cube_state_prod):\n",
    "        m00[left_state_id, right_state_id] = cnot13_tomography[left_state+right_state+'-P00']\n",
    "        m01[left_state_id, right_state_id] = cnot13_tomography[left_state+right_state+'-P01']\n",
    "        m10[left_state_id, right_state_id] = cnot13_tomography[left_state+right_state+'-P10']\n",
    "        m11[left_state_id, right_state_id] = cnot13_tomography[left_state+right_state+'-P11']\n",
    "\n",
    "figs, axes = plt.subplots(2,2, figsize=(10,10))\n",
    "axes[0,0].pcolormesh(m00)\n",
    "axes[0,0].set_title('P(00)')\n",
    "axes[0,0].grid(True)\n",
    "axes[0,0].set_xticks(np.arange(36))\n",
    "axes[0,0].set_yticks(np.arange(36)[::-1])\n",
    "axes[0,1].pcolormesh(m01)\n",
    "axes[0,1].set_title('P(01)')\n",
    "axes[0,1].grid(True)\n",
    "axes[0,1].set_xticks(np.arange(36))\n",
    "axes[0,1].set_yticks(np.arange(36)[::-1])\n",
    "axes[1,0].pcolormesh(m10)\n",
    "axes[1,0].set_title('P(10)')\n",
    "axes[1,0].grid(True)\n",
    "axes[1,0].set_xticks(np.arange(36))\n",
    "axes[1,0].set_yticks(np.arange(36)[::-1])\n",
    "axes[1,1].pcolormesh(m11)\n",
    "axes[1,1].set_title('P(11)')\n",
    "axes[1,1].grid(True)\n",
    "axes[1,1].set_xticks(np.arange(36))\n",
    "axes[1,1].set_yticks(np.arange(36)[::-1])\n",
    "fig = plt.gcf()\n",
    "fig.canvas.set_window_title('Raw measurements CNOT(1,3) measured')"
   ]
  },
  {
   "cell_type": "markdown",
   "metadata": {},
   "source": [
    "#### plot expected measurement results"
   ]
  },
  {
   "cell_type": "code",
   "execution_count": null,
   "metadata": {
    "scrolled": true
   },
   "outputs": [],
   "source": [
    "angle = 0.0\n",
    "rotation_matrix = np.identity(4, dtype=np.complex)\n",
    "rotation_matrix[2:,2:] = (np.cos(angle)*sigma_x+np.sin(angle)*sigma_y)\n",
    "rotation_matrix = np.reshape(np.transpose(np.reshape(rotation_matrix, (2,2,2,2)), (1,0,3,2)), (4,4))\n",
    "#rotation_matrix=np.identity(4)\n",
    "rotation_matrix_process = np.reshape(np.einsum('ij,kl->ikjl', np.conj(rotation_matrix),rotation_matrix), (16,16))\n",
    "measurement_predictions = chi_to_measurement_predictions(rotation_matrix_process, cnot13_tomography)\n",
    "\n",
    "#measurement_predictions = chi_to_measurement_predictions(m, cnot13_tomography)\n",
    "\n",
    "cube_state_prod = [i1+i2 for i1, i2 in itertools.product(['+X', '-X', '+Y', '-Y', '+Z', '-Z'], \n",
    "                                    ['+X', '-X', '+Y', '-Y', '+Z', '-Z'])]\n",
    "cube_state_prod_conj = [i1+i2 for i1, i2 in itertools.product(['-X', '+X', '-Y', '+Y', '+Z', '-Z'], \n",
    "                                    ['-X', '+X', '-Y', '+Y', '+Z', '-Z'])]\n",
    "m00 = np.zeros((36,36,2))\n",
    "m01 = np.zeros((36,36,2))\n",
    "m10 = np.zeros((36,36,2))\n",
    "m11 = np.zeros((36,36,2))\n",
    "for retres in [0,1]:\n",
    "    left_state_id = 0\n",
    "    for left_state_id, left_state in enumerate(cube_state_prod):\n",
    "        right_state_id = 0\n",
    "        for right_state_id, right_state in enumerate(cube_state_prod):\n",
    "            m00[left_state_id, right_state_id, retres] = measurement_predictions[retres][right_state_id, left_state_id]\n",
    "            m01[left_state_id, right_state_id, retres] = measurement_predictions[retres][right_state_id+1, left_state_id]\n",
    "            m10[left_state_id, right_state_id, retres] = measurement_predictions[retres][right_state_id+2, left_state_id]\n",
    "            m11[left_state_id, right_state_id, retres] = measurement_predictions[retres][right_state_id+3, left_state_id]\n",
    "            right_state_id += 4\n",
    "        left_state_id+=1\n",
    "\n",
    "    figs, axes = plt.subplots(2,2, figsize=(10,10))\n",
    "    axes[0,0].pcolormesh(m00[:,:,retres], vmin=0, vmax=1, cmap='RdBu')\n",
    "    axes[0,0].set_title('P(00)')\n",
    "    axes[0,0].grid(True)\n",
    "    axes[0,0].set_xticks(np.arange(36))\n",
    "    axes[0,0].set_yticks(np.arange(36)[::-1])\n",
    "    axes[0,1].pcolormesh(m01[:,:,retres], vmin=0, vmax=1, cmap='RdBu')\n",
    "    axes[0,1].set_title('P(01)')\n",
    "    axes[0,1].grid(True)\n",
    "    axes[0,1].set_xticks(np.arange(36))\n",
    "    axes[0,1].set_yticks(np.arange(36)[::-1])\n",
    "    axes[1,0].pcolormesh(m10[:,:,retres], vmin=0, vmax=1, cmap='RdBu')\n",
    "    axes[1,0].set_title('P(10)')\n",
    "    axes[1,0].grid(True)\n",
    "    axes[1,0].set_xticks(np.arange(36))\n",
    "    axes[1,0].set_yticks(np.arange(36)[::-1])\n",
    "    axes[1,1].pcolormesh(m11[:,:,retres], vmin=0, vmax=1, cmap='RdBu')\n",
    "    axes[1,1].set_title('P(11)')\n",
    "    axes[1,1].grid(True)\n",
    "    axes[1,1].set_xticks(np.arange(36))\n",
    "    axes[1,1].set_yticks(np.arange(36)[::-1])\n",
    "    fig = plt.gcf()\n",
    "    fig.canvas.set_window_title(('Expected' if retres ==0 else 'Measured')+' raw measurements CNOT(1,3) conj')\n",
    "    \n",
    "figs, axes = plt.subplots(2,2, figsize=(10,10))\n",
    "axes[0,0].pcolormesh(m00[:,:,1]-m00[:,:,0], vmin=-1, vmax=1, cmap='RdBu')\n",
    "axes[0,0].set_title('P(00)')\n",
    "axes[0,0].grid(True)\n",
    "axes[0,0].set_xticks(np.arange(36))\n",
    "axes[0,0].set_yticks(np.arange(36)[::-1])\n",
    "axes[0,1].pcolormesh(m01[:,:,1]-m01[:,:,0], vmin=-1, vmax=1, cmap='RdBu')\n",
    "axes[0,1].set_title('P(01)')\n",
    "axes[0,1].grid(True)\n",
    "axes[0,1].set_xticks(np.arange(36))\n",
    "axes[0,1].set_yticks(np.arange(36)[::-1])\n",
    "axes[1,0].pcolormesh(m10[:,:,1]-m10[:,:,0], vmin=-1, vmax=1, cmap='RdBu')\n",
    "axes[1,0].set_title('P(10)')\n",
    "axes[1,0].grid(True)\n",
    "axes[1,0].set_xticks(np.arange(36))\n",
    "axes[1,0].set_yticks(np.arange(36)[::-1])\n",
    "axes[1,1].pcolormesh(m11[:,:,1]-m11[:,:,0], vmin=-1, vmax=1, cmap='RdBu')\n",
    "axes[1,1].set_title('P(11)')\n",
    "axes[1,1].grid(True)\n",
    "axes[1,1].set_xticks(np.arange(36))\n",
    "axes[1,1].set_yticks(np.arange(36)[::-1])\n",
    "fig = plt.gcf()\n",
    "fig.canvas.set_window_title('Measured-expected raw measurements CNOT(1,3) conj')"
   ]
  },
  {
   "cell_type": "code",
   "execution_count": null,
   "metadata": {},
   "outputs": [],
   "source": [
    "state = [[1/2,0,-1j/2,0],[0,0,0,0],[-1j/2,0,1/2,0],[0,0,0,0]]\n",
    "#np.linalg.eigh(rotation_matrix_process)\n",
    "np.reshape(rotation_matrix_process@np.asarray(state).ravel(), (4,4))"
   ]
  },
  {
   "cell_type": "markdown",
   "metadata": {},
   "source": [
    "#### reconstruct"
   ]
  },
  {
   "cell_type": "code",
   "execution_count": null,
   "metadata": {},
   "outputs": [],
   "source": [
    "m = np.zeros((16,16), dtype=np.complex)\n",
    "for left_state_id, left_state in enumerate(np.arange(16)):\n",
    "    for right_state_id, right_state in enumerate(np.arange(16)):\n",
    "        #left_state_unscrambled = (left_state//4)+(left_state%4)*4\n",
    "        #right_state_unscrambled = (right_state//4)+(right_state%4)*4\n",
    "        m[left_state_id, right_state_id] = cnot13_tomography[str(left_state)+','+str(right_state)]"
   ]
  },
  {
   "cell_type": "code",
   "execution_count": null,
   "metadata": {
    "scrolled": false
   },
   "outputs": [],
   "source": [
    "m_sdp = process_tomography_measurement_results_to_chi_matrix(cnot13_tomography)"
   ]
  },
  {
   "cell_type": "markdown",
   "metadata": {},
   "source": [
    "#### plot chi-matrix"
   ]
  },
  {
   "cell_type": "code",
   "execution_count": null,
   "metadata": {},
   "outputs": [],
   "source": [
    "fig, axes = plt.subplots(1,2, figsize=(8,4))\n",
    "fig = plt.gcf()\n",
    "fig.canvas.set_window_title('Chi-matrix CNOT(1,3) measured')\n",
    "axes[0].pcolormesh(np.rot90(np.real(m)),cmap='RdBu', vmin=-1, vmax=1)\n",
    "axes[0].set_xticks(np.arange(16))\n",
    "axes[0].set_yticks(np.arange(16)[::-1])\n",
    "\n",
    "axes[1].pcolormesh(np.rot90(np.imag(m)),cmap='RdBu', vmin=-1, vmax=1)\n",
    "axes[1].set_xticks(np.arange(16))\n",
    "axes[1].set_yticks(np.arange(16)[::-1])\n",
    "#plt.colorbar()\n",
    "plt.grid()"
   ]
  },
  {
   "cell_type": "code",
   "execution_count": null,
   "metadata": {},
   "outputs": [],
   "source": [
    "fig, axes = plt.subplots(1,2, figsize=(8,4))\n",
    "fig = plt.gcf()\n",
    "fig.canvas.set_window_title('Chi-matrix SDP CNOT(1,3) measured')\n",
    "axes[0].pcolormesh(np.rot90(np.real(m_sdp)),cmap='RdBu', vmin=-1, vmax=1)\n",
    "axes[0].set_xticks(np.arange(16))\n",
    "axes[0].set_yticks(np.arange(16)[::-1])\n",
    "\n",
    "axes[1].pcolormesh(np.rot90(np.imag(m_sdp)),cmap='RdBu', vmin=-1, vmax=1)\n",
    "axes[1].set_xticks(np.arange(16))\n",
    "axes[1].set_yticks(np.arange(16)[::-1])\n",
    "#plt.colorbar()\n",
    "plt.grid()"
   ]
  },
  {
   "cell_type": "code",
   "execution_count": null,
   "metadata": {},
   "outputs": [],
   "source": [
    "angle = -np.pi/4.\n",
    "rotation_matrix = np.identity(4, dtype=np.complex)\n",
    "rotation_matrix[2:,2:] = (np.cos(angle)*sigma_x+np.sin(angle)*sigma_y)\n",
    "rotation_matrix = np.reshape(np.transpose(np.reshape(rotation_matrix, (2,2,2,2)), (1,0,3,2)), (4,4))\n",
    "#rotation_matrix=np.identity(4)\n",
    "rotation_matrix_process = np.reshape(np.einsum('ij,kl->ikjl', np.conj(rotation_matrix),rotation_matrix), (16,16))\n",
    "\n",
    "fig, axes = plt.subplots(1,2, figsize=(8,4))\n",
    "fig = plt.gcf()\n",
    "fig.canvas.set_window_title('Chi-matrix SDP CNOT(1,3) expected')\n",
    "axes[0].pcolormesh(np.rot90(np.real(rotation_matrix_process)),cmap='RdBu', vmin=-1, vmax=1)\n",
    "axes[0].set_xticks(np.arange(16))\n",
    "axes[0].set_yticks(np.arange(16)[::-1])\n",
    "\n",
    "axes[1].pcolormesh(np.rot90(np.imag(rotation_matrix_process)),cmap='RdBu', vmin=-1, vmax=1)\n",
    "axes[1].set_xticks(np.arange(16))\n",
    "axes[1].set_yticks(np.arange(16)[::-1])\n",
    "#plt.colorbar()\n",
    "plt.grid()"
   ]
  },
  {
   "cell_type": "code",
   "execution_count": null,
   "metadata": {},
   "outputs": [],
   "source": [
    "np.linalg.eig(m)"
   ]
  },
  {
   "cell_type": "markdown",
   "metadata": {},
   "source": [
    "#### plot Pauli transfer matrix"
   ]
  },
  {
   "cell_type": "code",
   "execution_count": null,
   "metadata": {},
   "outputs": [],
   "source": [
    "#m_ptm = process_matrix(m, plot=True, plot_name='CNOT(1,3) measured')\n",
    "#m_sdp_ptm = process_matrix(m_sdp, plot=True, plot_name='CNOT(1,3) SDP measured')\n",
    "#cy2_ideal_matrix = process_matrix(np.reshape(np.transpose(np.reshape(cy, (2,2,2,2)),(1,0,3,2)), (4,4)), 'unitary', plot=True, plot_name='CX(1,3) ideal')\n",
    "#cx2_ideal_matrix = process_matrix(np.reshape(np.transpose(np.reshape(cx, (2,2,2,2)),(1,0,3,2)), (4,4)), 'unitary', plot=True, plot_name='CY(1,3) ideal')\n",
    "cx_ideal_matrix = process_matrix(cx, 'unitary', plot=True, plot_name='CX(1,3) ideal')\n",
    "cy_ideal_matrix = process_matrix(cy, 'unitary', plot=True, plot_name='CY(1,3) ideal')"
   ]
  },
  {
   "cell_type": "code",
   "execution_count": null,
   "metadata": {},
   "outputs": [],
   "source": [
    "#np.sum(m_sdp_ptm*"
   ]
  },
  {
   "cell_type": "markdown",
   "metadata": {},
   "source": [
    "#### Process matrix properties"
   ]
  },
  {
   "cell_type": "code",
   "execution_count": null,
   "metadata": {},
   "outputs": [],
   "source": [
    "i_indeces = [int(_id/(4*4*4))+    ((int(_id/4)%4)*4) for _id in range(4*4*4*4)]\n",
    "j_indeces = [(int(_id/(4*4))%4)+   (int(_id%4   ))*4 for _id in range(4*4*4*4)]\n",
    "m_sdp_reshaped = np.reshape(np.conj(m_sdp.T)[i_indeces, j_indeces], (16,16))\n",
    "np.linalg.eig(m_sdp_reshaped)[0]"
   ]
  },
  {
   "cell_type": "code",
   "execution_count": null,
   "metadata": {},
   "outputs": [],
   "source": [
    "np.trace(m_sdp_reshaped/4),np.trace(m_sdp_reshaped@m_sdp_reshaped/16),2.4485529/4"
   ]
  },
  {
   "cell_type": "code",
   "execution_count": null,
   "metadata": {
    "scrolled": true
   },
   "outputs": [],
   "source": [
    "for angle in np.linspace(0,2*np.pi, 101):\n",
    "    rotation_matrix = np.identity(4, dtype=np.complex)\n",
    "    rotation_matrix[2:,2:] = (np.cos(angle)*sigma_x+np.sin(angle)*sigma_y)\n",
    "    #rotation_matrix = np.reshape(np.transpose(np.reshape(rotation_matrix, (2,2,2,2)), (1,0,3,2)), (4,4))\n",
    "    #rotation_matrix = np.reshape(np.transpose(np.reshape(rotation_matrix, (2,2,2,2)),(0,2,1,3)), (4,4))\n",
    "    #cphi_ideal_matrix = process_matrix(np.cos(angle)*cx+np.sin(angle)*cy)\n",
    "    cphi_ideal_matrix = process_matrix(np.reshape(np.transpose(np.reshape(rotation_matrix, (2,2,2,2)),(1,0,3,2)), (4,4)), 'unitary', plot=False)\n",
    "    print(angle, (np.sum(cphi_ideal_matrix*m_sdp_ptm)+4)/20)\n",
    "    "
   ]
  },
  {
   "cell_type": "code",
   "execution_count": null,
   "metadata": {},
   "outputs": [],
   "source": [
    "angle=5\n",
    "rotation_matrix = np.identity(4, dtype=np.complex)\n",
    "rotation_matrix[2:,2:] = (np.cos(angle)*sigma_x+np.sin(angle)*sigma_y)\n",
    "cphi_ideal_matrix = process_matrix(np.reshape(np.transpose(np.reshape(rotation_matrix, (2,2,2,2)),(1,0,3,2)), (4,4)), 'unitary', plot=True)"
   ]
  },
  {
   "cell_type": "markdown",
   "metadata": {},
   "source": [
    "### CNOT(3,1)"
   ]
  },
  {
   "cell_type": "markdown",
   "metadata": {},
   "source": [
    "#### measure"
   ]
  },
  {
   "cell_type": "code",
   "execution_count": null,
   "metadata": {
    "scrolled": true
   },
   "outputs": [],
   "source": [
    "two_qubit_process_tomography.set_prepare_seq(control_target_tld['3']['1'].get_pi_pulse_sequence(np.pi/2.))\n",
    "cnot31_tomography = two_qubit_process_tomography.measure()"
   ]
  },
  {
   "cell_type": "code",
   "execution_count": null,
   "metadata": {},
   "outputs": [],
   "source": [
    "len(control_target_tld['3']['1'].get_pi_pulse_sequence(np.pi/2.)[0]['ro_trg'])"
   ]
  },
  {
   "cell_type": "code",
   "execution_count": null,
   "metadata": {},
   "outputs": [],
   "source": [
    "pqjson.dump(type=\"cnot31-tomography\",name='20181128',params = cnot31_tomography)"
   ]
  },
  {
   "cell_type": "code",
   "execution_count": null,
   "metadata": {},
   "outputs": [],
   "source": [
    "cnot31_tomography = pqjson.load(type=\"cnot31-tomography\",name='20181128')"
   ]
  },
  {
   "cell_type": "markdown",
   "metadata": {},
   "source": [
    "#### plot raw measurement"
   ]
  },
  {
   "cell_type": "code",
   "execution_count": null,
   "metadata": {},
   "outputs": [],
   "source": [
    "cube_state_prod = [i1+i2 for i1, i2 in itertools.product(['+X', '-X', '+Y', '-Y', '+Z', '-Z'], \n",
    "                                    ['+X', '-X', '+Y', '-Y', '+Z', '-Z'])]\n",
    "m00 = np.zeros((36,36))\n",
    "m01 = np.zeros((36,36))\n",
    "m10 = np.zeros((36,36))\n",
    "m11 = np.zeros((36,36))\n",
    "for left_state_id, left_state in enumerate(cube_state_prod):\n",
    "    for right_state_id, right_state in enumerate(cube_state_prod):\n",
    "        m00[left_state_id, right_state_id] = cnot31_tomography[left_state+right_state+'-P00']\n",
    "        m01[left_state_id, right_state_id] = cnot31_tomography[left_state+right_state+'-P01']\n",
    "        m10[left_state_id, right_state_id] = cnot31_tomography[left_state+right_state+'-P10']\n",
    "        m11[left_state_id, right_state_id] = cnot31_tomography[left_state+right_state+'-P11']\n",
    "\n",
    "figs, axes = plt.subplots(2,2, figsize=(10,10))\n",
    "axes[0,0].pcolormesh(m00)\n",
    "axes[0,0].set_title('P(00)')\n",
    "axes[0,1].pcolormesh(m01)\n",
    "axes[0,1].set_title('P(01)')\n",
    "axes[1,0].pcolormesh(m10)\n",
    "axes[1,0].set_title('P(10)')\n",
    "axes[1,1].pcolormesh(m11)\n",
    "axes[1,1].set_title('P(11)')\n",
    "plt.show()"
   ]
  },
  {
   "cell_type": "markdown",
   "metadata": {},
   "source": [
    "#### reconstruct"
   ]
  },
  {
   "cell_type": "code",
   "execution_count": null,
   "metadata": {},
   "outputs": [],
   "source": [
    "m_cnot31 = np.zeros((16,16), dtype=np.complex)\n",
    "for left_state_id, left_state in enumerate(np.arange(16)):\n",
    "    for right_state_id, right_state in enumerate(np.arange(16)):\n",
    "        #left_state_unscrambled = (left_state//4)+(left_state%4)*4\n",
    "        #right_state_unscrambled = (right_state//4)+(right_state%4)*4\n",
    "        m_cnot31[left_state_id, right_state_id] = cnot31_tomography[str(left_state)+','+str(right_state)]\n",
    "        #m2[left_state_unscrambled, right_state_unscrambled] = inv_two_qubit_process_tomography_result[str(left_state)+','+str(right_state)]"
   ]
  },
  {
   "cell_type": "code",
   "execution_count": null,
   "metadata": {},
   "outputs": [],
   "source": [
    "m_cnot31_sdp = process_tomography_measurement_results_to_chi_matrix(cnot31_tomography)"
   ]
  },
  {
   "cell_type": "markdown",
   "metadata": {},
   "source": [
    "#### plot chi-matrix"
   ]
  },
  {
   "cell_type": "code",
   "execution_count": null,
   "metadata": {},
   "outputs": [],
   "source": [
    "fig, axes = plt.subplots(1,2, figsize=(11,4))\n",
    "fig = plt.gcf()\n",
    "fig.canvas.set_window_title('Chi-matrix CNOT(3,1) measured')\n",
    "re_chi = np.rot90(np.real(m_cnot31))\n",
    "image = axes[0].pcolormesh(re_chi, cmap='RdBu', vmin=-1, vmax=1)\n",
    "axes[0].set_xticks(np.arange(16))\n",
    "axes[0].set_yticks(np.arange(16)[::-1])\n",
    "#axes[1].set_aspect('equal')\n",
    "plt.colorbar(image, ax = axes[0])\n",
    "\n",
    "image = axes[1].pcolormesh(np.rot90(np.imag(m_cnot31)),cmap='RdBu', vmin=-1, vmax=1)\n",
    "axes[1].set_xticks(np.arange(16))\n",
    "axes[1].set_yticks(np.arange(16)[::-1])\n",
    "#axes[1].set_aspect('equal')\n",
    "plt.colorbar(image, ax = axes[1])\n",
    "plt.grid()"
   ]
  },
  {
   "cell_type": "code",
   "execution_count": null,
   "metadata": {},
   "outputs": [],
   "source": [
    "np.shape(re_chi)"
   ]
  },
  {
   "cell_type": "code",
   "execution_count": null,
   "metadata": {},
   "outputs": [],
   "source": [
    "fig, axes = plt.subplots(1,2, figsize=(8,4))\n",
    "fig = plt.gcf()\n",
    "fig.canvas.set_window_title('Chi-matrix SDP CNOT(3,1) measured')\n",
    "axes[0].pcolormesh(np.rot90(np.real(m_cnot31_sdp)),cmap='RdBu', vmin=-1, vmax=1)\n",
    "axes[0].set_xticks(np.arange(16))\n",
    "axes[0].set_yticks(np.arange(16)[::-1])\n",
    "\n",
    "axes[1].pcolormesh(np.rot90(np.imag(m_cnot31_sdp)),cmap='RdBu', vmin=-1, vmax=1)\n",
    "axes[1].set_xticks(np.arange(16))\n",
    "axes[1].set_yticks(np.arange(16)[::-1])\n",
    "#plt.colorbar()\n",
    "plt.grid()"
   ]
  },
  {
   "cell_type": "code",
   "execution_count": null,
   "metadata": {},
   "outputs": [],
   "source": [
    "\n",
    "angle = 5.0\n",
    "rotation_matrix = np.identity(4, dtype=np.complex)\n",
    "rotation_matrix[2:,2:] = (np.cos(angle)*sigma_x+np.sin(angle)*sigma_y)\n",
    "#rotation_matrix = np.reshape(np.transpose(np.reshape(rotation_matrix, (2,2,2,2)),(1,0,3,2)), (4,4))\n",
    "print(rotation_matrix)\n",
    "\n",
    "#rotation_matrix=np.identity(4)\n",
    "#rotation_matrix_process = np.reshape(np.einsum('ij,kl->jkil', np.conj(rotation_matrix),rotation_matrix), (16,16))\n",
    "rotation_matrix_process = np.reshape(np.einsum('ij,kl->ikjl', np.conj(rotation_matrix),rotation_matrix), (16,16))\n",
    "\n",
    "fig, axes = plt.subplots(1,2, figsize=(11,4))\n",
    "fig = plt.gcf()\n",
    "fig.canvas.set_window_title('Chi-matrix ideal CNOT(3,1) measured')\n",
    "image = axes[0].pcolormesh(np.rot90(np.real(rotation_matrix_process)),cmap='RdBu', vmin=-1, vmax=1)\n",
    "axes[0].set_xticks(np.arange(16))\n",
    "axes[0].set_yticks(np.arange(16)[::-1])\n",
    "plt.colorbar(image, ax = axes[0])\n",
    "image = axes[1].pcolormesh(np.rot90(np.imag(rotation_matrix_process)),cmap='RdBu', vmin=-1, vmax=1)\n",
    "axes[1].set_xticks(np.arange(16))\n",
    "axes[1].set_yticks(np.arange(16)[::-1])\n",
    "plt.colorbar(image, ax = axes[1])\n",
    "#plt.colorbar()\n",
    "plt.grid()"
   ]
  },
  {
   "cell_type": "markdown",
   "metadata": {},
   "source": [
    "#### Pauli transfer matrix"
   ]
  },
  {
   "cell_type": "code",
   "execution_count": null,
   "metadata": {},
   "outputs": [],
   "source": [
    "m_cnot31_ptm = process_matrix(m_cnot31, plot=True, plot_name='CNOT(1,3) measured')\n",
    "m_cnot31_sdp_ptm = process_matrix(m_cnot31_sdp, plot=True, plot_name='CNOT(1,3) SDP measured')\n",
    "m_cnot31_expected_ptm = process_matrix(rotation_matrix_process, plot=True, plot_name='CNOT(1,3) SDP expected')\n",
    "#cy2_ideal_matrix = process_matrix(np.reshape(np.transpose(np.reshape(cy, (2,2,2,2)),(1,0,3,2)), (4,4)), 'unitary', plot=True, plot_name='CX(1,3) ideal')\n",
    "#cx2_ideal_matrix = process_matrix(np.reshape(np.transpose(np.reshape(cx, (2,2,2,2)),(1,0,3,2)), (4,4)), 'unitary', plot=True, plot_name='CY(1,3) ideal')\n",
    "#cx_ideal_matrix = process_matrix(cx, 'unitary', plot=True, plot_name='CX(1,3) ideal')\n",
    "#cy_ideal_matrix = process_matrix(cy, 'unitary', plot=True, plot_name='CY(1,3) ideal')\n",
    "np.sum(m_cnot31_sdp_ptm*m_cnot31_expected_ptm)/16\n",
    "#np.trace(np.conj(m_cnot31_sdp_ptm.T)@m_cnot31_expected_ptm)/16"
   ]
  },
  {
   "cell_type": "code",
   "execution_count": null,
   "metadata": {
    "scrolled": true
   },
   "outputs": [],
   "source": [
    "angles  = []\n",
    "for angle in np.linspace(0,2*np.pi, 101):\n",
    "    rotation_matrix = np.identity(4, dtype=np.complex)\n",
    "    rotation_matrix[2:,2:] = (np.cos(angle)*sigma_x+np.sin(angle)*sigma_y)\n",
    "    #rotation_matrix = np.reshape(np.transpose(np.reshape(rotation_matrix, (2,2,2,2)),(1,0,3,2)), (4,4))\n",
    "    #print(rotation_matrix)\n",
    "\n",
    "    #rotation_matrix=np.identity(4)\n",
    "    #rotation_matrix_process = np.reshape(np.einsum('ij,kl->jkil', np.conj(rotation_matrix),rotation_matrix), (16,16))\n",
    "    cphi_ideal_matrix = np.reshape(np.einsum('ij,kl->ikjl', np.conj(rotation_matrix),rotation_matrix), (16,16))\n",
    "    cphi_ideal_matrix = process_matrix(cphi_ideal_matrix, plot=False, plot_name='CNOT(1,3) SDP expected')\n",
    "    angles.append((np.sum(cphi_ideal_matrix*m_cnot31_sdp_ptm))/16)\n",
    "    "
   ]
  },
  {
   "cell_type": "code",
   "execution_count": null,
   "metadata": {},
   "outputs": [],
   "source": [
    "plt.figure()\n",
    "plt.plot(np.linspace(0,2*np.pi, 101), angles)"
   ]
  },
  {
   "cell_type": "code",
   "execution_count": null,
   "metadata": {},
   "outputs": [],
   "source": [
    "cy_ideal_matrix = process_matrix(cy, 'unitary', plot=True, plot_name='CY(3,1) ideal')\n",
    "cx_ideal_matrix = process_matrix(cx, 'unitary', plot=True, plot_name='CX(3,1) ideal')\n",
    "m2_ptm = process_matrix(m_cnot31_sdp_ptm , plot=True, plot_name='CNOT(3,1) measurement')"
   ]
  },
  {
   "cell_type": "code",
   "execution_count": null,
   "metadata": {},
   "outputs": [],
   "source": [
    "angle=5.0\n",
    "rotation_matrix = np.identity(4, dtype=np.complex)\n",
    "rotation_matrix[2:,2:] = (np.cos(angle)*sigma_x+np.sin(angle)*sigma_y)\n",
    "cphi_ideal_matrix = process_matrix(rotation_matrix, 'unitary', plot=True)"
   ]
  },
  {
   "cell_type": "code",
   "execution_count": null,
   "metadata": {
    "scrolled": true
   },
   "outputs": [],
   "source": [
    "for angle in np.linspace(0,2*np.pi, 101):\n",
    "    rotation_matrix = np.identity(4, dtype=np.complex)\n",
    "    rotation_matrix[2:,2:] = (np.cos(angle)*sigma_x+np.sin(angle)*sigma_y)\n",
    "    #cphi_ideal_matrix = process_matrix(np.cos(angle)*cx+np.sin(angle)*cy)\n",
    "    cphi_ideal_matrix = process_matrix(rotation_matrix, 'unitary', plot=False)\n",
    "    print(angle, (np.sum(cphi_ideal_matrix*m_cnot31_sdp)+4)/20)\n",
    "    "
   ]
  },
  {
   "cell_type": "code",
   "execution_count": null,
   "metadata": {},
   "outputs": [],
   "source": [
    "rotation_matrix"
   ]
  },
  {
   "cell_type": "code",
   "execution_count": null,
   "metadata": {},
   "outputs": [],
   "source": [
    "#матрица для перехода в паули базис\n",
    "ptm = 0.5*np.matrix([[1,0,0,-1],[1,0,0,1],[1,1,0,0],[1,-1,0,0],[1,0,-1,0],[1,0,1,0]])\n",
    "ptm_reversed =(np.linalg.inv(ptm.T@ptm))@(ptm.T)\n",
    "trans_matrix = np.kron(ptm_reversed,ptm_reversed)\n",
    "trans_matrix_reversed = np.kron(ptm,ptm)\n",
    "cx_experimental = trans_matrix@meas@trans_matrix_reversed # подставить сюда meas"
   ]
  },
  {
   "cell_type": "code",
   "execution_count": null,
   "metadata": {},
   "outputs": [],
   "source": [
    "fidelity_cx= (np.trace(cx_ideal_matrix.T@m_ptm))/16\n",
    "\n",
    "fidelity_cy= (np.trace(cy_ideal_matrix.T@m_ptm))/16\n",
    "fidelity_cx, fidelity_cy"
   ]
  },
  {
   "cell_type": "code",
   "execution_count": null,
   "metadata": {},
   "outputs": [],
   "source": [
    "len(control_target_tld['3']['1'].get_pi_pulse_sequence(0)[0]['ro_trg'])"
   ]
  },
  {
   "cell_type": "code",
   "execution_count": null,
   "metadata": {},
   "outputs": [],
   "source": [
    "np.round(rho,3)"
   ]
  },
  {
   "cell_type": "code",
   "execution_count": null,
   "metadata": {},
   "outputs": [],
   "source": [
    "np.round(rho,3)"
   ]
  },
  {
   "cell_type": "markdown",
   "metadata": {},
   "source": [
    "### CZ"
   ]
  },
  {
   "cell_type": "markdown",
   "metadata": {},
   "source": [
    "#### measure"
   ]
  },
  {
   "cell_type": "code",
   "execution_count": null,
   "metadata": {
    "scrolled": true
   },
   "outputs": [],
   "source": [
    "two_qubit_process_tomography.set_prepare_seq(cz_pulse)\n",
    "cz_tomography = two_qubit_process_tomography.measure()"
   ]
  },
  {
   "cell_type": "code",
   "execution_count": null,
   "metadata": {},
   "outputs": [],
   "source": [
    "pqjson.dump(type=\"cz-tomography\",name='20181130',params = cz_tomography)"
   ]
  },
  {
   "cell_type": "code",
   "execution_count": null,
   "metadata": {},
   "outputs": [],
   "source": [
    "cz_tomography = pqjson.load(type=\"cz-tomography\",name='20181130')"
   ]
  },
  {
   "cell_type": "markdown",
   "metadata": {},
   "source": [
    "#### plot raw measurement"
   ]
  },
  {
   "cell_type": "code",
   "execution_count": null,
   "metadata": {},
   "outputs": [],
   "source": [
    "cube_state_prod = [i1+i2 for i1, i2 in itertools.product(['+X', '-X', '+Y', '-Y', '+Z', '-Z'], \n",
    "                                    ['+X', '-X', '+Y', '-Y', '+Z', '-Z'])]\n",
    "m00 = np.zeros((36,36))\n",
    "m01 = np.zeros((36,36))\n",
    "m10 = np.zeros((36,36))\n",
    "m11 = np.zeros((36,36))\n",
    "for left_state_id, left_state in enumerate(cube_state_prod):\n",
    "    for right_state_id, right_state in enumerate(cube_state_prod):\n",
    "        m00[left_state_id, right_state_id] = cz_tomography[left_state+right_state+'-P00']\n",
    "        m01[left_state_id, right_state_id] = cz_tomography[left_state+right_state+'-P01']\n",
    "        m10[left_state_id, right_state_id] = cz_tomography[left_state+right_state+'-P10']\n",
    "        m11[left_state_id, right_state_id] = cz_tomography[left_state+right_state+'-P11']\n",
    "\n",
    "figs, axes = plt.subplots(2,2, figsize=(10,10))\n",
    "axes[0,0].pcolormesh(m00)\n",
    "axes[0,0].set_title('P(00)')\n",
    "axes[0,1].pcolormesh(m01)\n",
    "axes[0,1].set_title('P(01)')\n",
    "axes[1,0].pcolormesh(m10)\n",
    "axes[1,0].set_title('P(10)')\n",
    "axes[1,1].pcolormesh(m11)\n",
    "axes[1,1].set_title('P(11)')"
   ]
  },
  {
   "cell_type": "markdown",
   "metadata": {},
   "source": [
    "#### plot expected measurement results"
   ]
  },
  {
   "cell_type": "code",
   "execution_count": null,
   "metadata": {
    "scrolled": true
   },
   "outputs": [],
   "source": [
    "rotation_matrix=np.reshape(np.einsum('ij,kl->ikjl',np.identity(2), sigma_z), (4,4))\n",
    "rotation_matrix_process = np.reshape(np.einsum('ij,kl->ikjl', np.conj(rotation_matrix),rotation_matrix), (16,16))\n",
    "measurement_predictions = chi_to_measurement_predictions(rotation_matrix_process, cz_tomography)\n",
    "\n",
    "#measurement_predictions = chi_to_measurement_predictions(m, cnot13_tomography)\n",
    "\n",
    "cube_state_prod = [i1+i2 for i1, i2 in itertools.product(['+X', '-X', '+Y', '-Y', '+Z', '-Z'], \n",
    "                                    ['+X', '-X', '+Y', '-Y', '+Z', '-Z'])]\n",
    "m00 = np.zeros((36,36,2))\n",
    "m01 = np.zeros((36,36,2))\n",
    "m10 = np.zeros((36,36,2))\n",
    "m11 = np.zeros((36,36,2))\n",
    "for retres in [0,1]:\n",
    "    left_state_id = 0\n",
    "    for left_state_id, left_state in enumerate(cube_state_prod):\n",
    "        right_state_id = 0\n",
    "        for right_state_id, right_state in enumerate(cube_state_prod):\n",
    "            m00[left_state_id, right_state_id, retres] = measurement_predictions[retres][right_state_id, left_state_id]\n",
    "            m01[left_state_id, right_state_id, retres] = measurement_predictions[retres][right_state_id+1, left_state_id]\n",
    "            m10[left_state_id, right_state_id, retres] = measurement_predictions[retres][right_state_id+2, left_state_id]\n",
    "            m11[left_state_id, right_state_id, retres] = measurement_predictions[retres][right_state_id+3, left_state_id]\n",
    "            right_state_id += 4\n",
    "        left_state_id+=1\n",
    "\n",
    "    figs, axes = plt.subplots(2,2, figsize=(10,10))\n",
    "    axes[0,0].pcolormesh(m00[:,:,retres], vmin=0, vmax=1, cmap='RdBu')\n",
    "    axes[0,0].set_title('P(00)')\n",
    "    axes[0,0].grid(True)\n",
    "    axes[0,0].set_xticks(np.arange(36))\n",
    "    axes[0,0].set_yticks(np.arange(36)[::-1])\n",
    "    axes[0,1].pcolormesh(m01[:,:,retres], vmin=0, vmax=1, cmap='RdBu')\n",
    "    axes[0,1].set_title('P(01)')\n",
    "    axes[0,1].grid(True)\n",
    "    axes[0,1].set_xticks(np.arange(36))\n",
    "    axes[0,1].set_yticks(np.arange(36)[::-1])\n",
    "    axes[1,0].pcolormesh(m10[:,:,retres], vmin=0, vmax=1, cmap='RdBu')\n",
    "    axes[1,0].set_title('P(10)')\n",
    "    axes[1,0].grid(True)\n",
    "    axes[1,0].set_xticks(np.arange(36))\n",
    "    axes[1,0].set_yticks(np.arange(36)[::-1])\n",
    "    axes[1,1].pcolormesh(m11[:,:,retres], vmin=0, vmax=1, cmap='RdBu')\n",
    "    axes[1,1].set_title('P(11)')\n",
    "    axes[1,1].grid(True)\n",
    "    axes[1,1].set_xticks(np.arange(36))\n",
    "    axes[1,1].set_yticks(np.arange(36)[::-1])\n",
    "    fig = plt.gcf()\n",
    "    fig.canvas.set_window_title(('Expected' if retres ==0 else 'Measured')+' raw measurements CZ')\n",
    "    \n",
    "figs, axes = plt.subplots(2,2, figsize=(10,10))\n",
    "axes[0,0].pcolormesh(m00[:,:,1]-m00[:,:,0], vmin=-1, vmax=1, cmap='RdBu')\n",
    "axes[0,0].set_title('P(00)')\n",
    "axes[0,0].grid(True)\n",
    "axes[0,0].set_xticks(np.arange(36))\n",
    "axes[0,0].set_yticks(np.arange(36)[::-1])\n",
    "axes[0,1].pcolormesh(m01[:,:,1]-m01[:,:,0], vmin=-1, vmax=1, cmap='RdBu')\n",
    "axes[0,1].set_title('P(01)')\n",
    "axes[0,1].grid(True)\n",
    "axes[0,1].set_xticks(np.arange(36))\n",
    "axes[0,1].set_yticks(np.arange(36)[::-1])\n",
    "axes[1,0].pcolormesh(m10[:,:,1]-m10[:,:,0], vmin=-1, vmax=1, cmap='RdBu')\n",
    "axes[1,0].set_title('P(10)')\n",
    "axes[1,0].grid(True)\n",
    "axes[1,0].set_xticks(np.arange(36))\n",
    "axes[1,0].set_yticks(np.arange(36)[::-1])\n",
    "axes[1,1].pcolormesh(m11[:,:,1]-m11[:,:,0], vmin=-1, vmax=1, cmap='RdBu')\n",
    "axes[1,1].set_title('P(11)')\n",
    "axes[1,1].grid(True)\n",
    "axes[1,1].set_xticks(np.arange(36))\n",
    "axes[1,1].set_yticks(np.arange(36)[::-1])\n",
    "fig = plt.gcf()\n",
    "fig.canvas.set_window_title('Measured-expected raw measurements CZ')"
   ]
  },
  {
   "cell_type": "markdown",
   "metadata": {},
   "source": [
    "#### reconstruct"
   ]
  },
  {
   "cell_type": "code",
   "execution_count": null,
   "metadata": {},
   "outputs": [],
   "source": [
    "m_cz = np.zeros((16,16), dtype=np.complex)\n",
    "for left_state_id, left_state in enumerate(np.arange(16)):\n",
    "    for right_state_id, right_state in enumerate(np.arange(16)):\n",
    "        #left_state_unscrambled = (left_state//4)+(left_state%4)*4\n",
    "        #right_state_unscrambled = (right_state//4)+(right_state%4)*4\n",
    "        m_cz[left_state_id, right_state_id] = cz_tomography[str(left_state)+','+str(right_state)]\n",
    "        #m2[left_state_unscrambled, right_state_unscrambled] = inv_two_qubit_process_tomography_result[str(left_state)+','+str(right_state)]"
   ]
  },
  {
   "cell_type": "code",
   "execution_count": null,
   "metadata": {},
   "outputs": [],
   "source": [
    "m_cz_sdp = process_tomography_measurement_results_to_chi_matrix(cz_tomography)"
   ]
  },
  {
   "cell_type": "markdown",
   "metadata": {},
   "source": [
    "#### plot chi-matrix"
   ]
  },
  {
   "cell_type": "code",
   "execution_count": null,
   "metadata": {},
   "outputs": [],
   "source": [
    "fig, axes = plt.subplots(1,2, figsize=(8,4))\n",
    "fig = plt.gcf()\n",
    "fig.canvas.set_window_title('Chi-matrix CZ measured')\n",
    "axes[0].pcolormesh(np.rot90(np.real(m_cz)),cmap='RdBu', vmin=-1, vmax=1)\n",
    "axes[0].set_xticks(np.arange(16))\n",
    "axes[0].set_yticks(np.arange(16)[::-1])\n",
    "\n",
    "axes[1].pcolormesh(np.rot90(np.imag(m_cz)),cmap='RdBu', vmin=-1, vmax=1)\n",
    "axes[1].set_xticks(np.arange(16))\n",
    "axes[1].set_yticks(np.arange(16)[::-1])\n",
    "#plt.colorbar()\n",
    "plt.grid()"
   ]
  },
  {
   "cell_type": "code",
   "execution_count": null,
   "metadata": {},
   "outputs": [],
   "source": [
    "fig, axes = plt.subplots(1,2, figsize=(8,4))\n",
    "fig = plt.gcf()\n",
    "fig.canvas.set_window_title('Chi-matrix SDP CZ measured')\n",
    "axes[0].pcolormesh(np.rot90(np.real(m_cz_sdp)),cmap='RdBu', vmin=-1, vmax=1)\n",
    "axes[0].set_xticks(np.arange(16))\n",
    "axes[0].set_yticks(np.arange(16)[::-1])\n",
    "\n",
    "axes[1].pcolormesh(np.rot90(np.imag(m_cz_sdp)),cmap='RdBu', vmin=-1, vmax=1)\n",
    "axes[1].set_xticks(np.arange(16))\n",
    "axes[1].set_yticks(np.arange(16)[::-1])\n",
    "#plt.colorbar()\n",
    "plt.grid()"
   ]
  },
  {
   "cell_type": "markdown",
   "metadata": {},
   "source": [
    "#### Pauli transfer matrix"
   ]
  },
  {
   "cell_type": "code",
   "execution_count": null,
   "metadata": {},
   "outputs": [],
   "source": [
    "m_cz_ptm = process_matrix(m_cz, plot=True, plot_name='CZ measured')\n",
    "m_cz_sdp_ptm = process_matrix(m_cz_sdp, plot=True, plot_name='CZ SDP measured')\n",
    "m_cz_expected_ptm = process_matrix(rotation_matrix_process, plot=True, plot_name='CZ SDP expected')\n",
    "#cy2_ideal_matrix = process_matrix(np.reshape(np.transpose(np.reshape(cy, (2,2,2,2)),(1,0,3,2)), (4,4)), 'unitary', plot=True, plot_name='CX(1,3) ideal')\n",
    "#cx2_ideal_matrix = process_matrix(np.reshape(np.transpose(np.reshape(cx, (2,2,2,2)),(1,0,3,2)), (4,4)), 'unitary', plot=True, plot_name='CY(1,3) ideal')\n",
    "#cx_ideal_matrix = process_matrix(cx, 'unitary', plot=True, plot_name='CX(1,3) ideal')\n",
    "#cy_ideal_matrix = process_matrix(cy, 'unitary', plot=True, plot_name='CY(1,3) ideal')\n",
    "np.sum(m_cz_sdp_ptm*m_cz_expected_ptm)/16"
   ]
  },
  {
   "cell_type": "code",
   "execution_count": null,
   "metadata": {
    "scrolled": true
   },
   "outputs": [],
   "source": [
    "angle1_range = np.linspace(0,2*np.pi, 101)\n",
    "angle2_range = np.linspace(0,2*np.pi, 101)\n",
    "fidelity = np.zeros((len(angle1_range), len(angle2_range)))\n",
    "for angle1_id, angle1 in enumerate(angle1_range):\n",
    "    for angle2_id, angle2 in enumerate(angle2_range):\n",
    "        rotation_matrix = np.identity(4, dtype=np.complex)\n",
    "        rotation_matrix[1,1] = np.exp(1j*angle1)\n",
    "        rotation_matrix[2,2] = np.exp(1j*angle2)\n",
    "        rotation_matrix[3,3] = -np.exp(1j*angle1)*np.exp(1j*angle2)\n",
    "        #rotation_matrix = np.reshape(np.transpose(np.reshape(rotation_matrix, (2,2,2,2)),(1,0,3,2)), (4,4))\n",
    "        #print(rotation_matrix)\n",
    "    \n",
    "        #rotation_matrix=np.identity(4)\n",
    "        #rotation_matrix_process = np.reshape(np.einsum('ij,kl->jkil', np.conj(rotation_matrix),rotation_matrix), (16,16))\n",
    "        cphi_ideal_matrix = np.reshape(np.einsum('ij,kl->ikjl', np.conj(rotation_matrix),rotation_matrix), (16,16))\n",
    "        cphi_ideal_matrix = process_matrix(cphi_ideal_matrix, plot=False, plot_name='CNOT(1,3) SDP expected')\n",
    "        \n",
    "        #print(angle1, angle2, (np.sum(cphi_ideal_matrix*m_cz_sdp_ptm)+4)/20)\n",
    "        fidelity[angle1_id, angle2_id] = (np.sum(cphi_ideal_matrix*m_cz_sdp_ptm))/16\n",
    "\n",
    "angle_id =np.unravel_index(np.argmax(fidelity.ravel()), fidelity.shape)\n",
    "angle1 = angle1_range[angle_id[0]]\n",
    "angle2 = angle2_range[angle_id[1]]\n",
    "angle1, angle2\n",
    "print(np.max(fidelity))"
   ]
  },
  {
   "cell_type": "code",
   "execution_count": null,
   "metadata": {},
   "outputs": [],
   "source": [
    "rotation_matrix = np.diag(np.exp(1j*np.asarray([0, angle1, angle2, angle1+angle2+np.pi])))\n",
    "rotation_matrix_process = np.reshape(np.einsum('ij,kl->ikjl', np.conj(rotation_matrix),rotation_matrix), (16,16))\n",
    "\n",
    "fig, axes = plt.subplots(1,2, figsize=(8,4))\n",
    "fig = plt.gcf()\n",
    "fig.canvas.set_window_title('Chi-matrix ideal CZ with single-qubit rotations')\n",
    "axes[0].pcolormesh(np.rot90(np.real(rotation_matrix_process)),cmap='RdBu', vmin=-1, vmax=1)\n",
    "axes[0].set_xticks(np.arange(16))\n",
    "axes[0].set_yticks(np.arange(16)[::-1])\n",
    "axes[0].grid()\n",
    "\n",
    "axes[1].pcolormesh(np.rot90(np.imag(rotation_matrix_process)),cmap='RdBu', vmin=-1, vmax=1)\n",
    "axes[1].set_xticks(np.arange(16))\n",
    "axes[1].set_yticks(np.arange(16)[::-1])\n",
    "#plt.colorbar()\n",
    "plt.grid()"
   ]
  },
  {
   "cell_type": "code",
   "execution_count": null,
   "metadata": {},
   "outputs": [],
   "source": [
    "plt.figure()\n",
    "plt.pcolormesh(angle1_range, angle2_range, fidelity)\n",
    "plt.colorbar()"
   ]
  },
  {
   "cell_type": "code",
   "execution_count": null,
   "metadata": {},
   "outputs": [],
   "source": [
    "\n",
    "#angle1 = angle1_range[np.argmax(fidelity, axis=0)]\n",
    "#angle2_id = np.argmax(fidelity[np.argmax(fidelity, axis=0), :])\n",
    "#angle1 = angle1[angle2_id]\n",
    "#angle2 = angle2_range[angle2_id]"
   ]
  },
  {
   "cell_type": "markdown",
   "metadata": {},
   "source": [
    "### $\\sqrt{iSWAP}$"
   ]
  },
  {
   "cell_type": "markdown",
   "metadata": {},
   "source": [
    "#### measure"
   ]
  },
  {
   "cell_type": "code",
   "execution_count": null,
   "metadata": {
    "scrolled": true
   },
   "outputs": [],
   "source": [
    "two_qubit_process_tomography.set_prepare_seq(sqrt_iswap_pulse)\n",
    "sqrt_iswap_tomography = two_qubit_process_tomography.measure()"
   ]
  },
  {
   "cell_type": "code",
   "execution_count": null,
   "metadata": {},
   "outputs": [],
   "source": [
    "pqjson.dump(type=\"sqrt-iswap-tomography\",name='20181130',params = sqrt_iswap_tomography)"
   ]
  },
  {
   "cell_type": "code",
   "execution_count": null,
   "metadata": {},
   "outputs": [],
   "source": [
    "sqrt_iswap_tomography = pqjson.load(type=\"sqrt-iswap-tomography\",name='20181130')"
   ]
  },
  {
   "cell_type": "markdown",
   "metadata": {},
   "source": [
    "#### plot raw measurement"
   ]
  },
  {
   "cell_type": "code",
   "execution_count": null,
   "metadata": {},
   "outputs": [],
   "source": [
    "cube_state_prod = [i1+i2 for i1, i2 in itertools.product(['+X', '-X', '+Y', '-Y', '+Z', '-Z'], \n",
    "                                    ['+X', '-X', '+Y', '-Y', '+Z', '-Z'])]\n",
    "m00 = np.zeros((36,36))\n",
    "m01 = np.zeros((36,36))\n",
    "m10 = np.zeros((36,36))\n",
    "m11 = np.zeros((36,36))\n",
    "for left_state_id, left_state in enumerate(cube_state_prod):\n",
    "    for right_state_id, right_state in enumerate(cube_state_prod):\n",
    "        m00[left_state_id, right_state_id] = sqrt_iswap_tomography[left_state+right_state+'-P00']\n",
    "        m01[left_state_id, right_state_id] = sqrt_iswap_tomography[left_state+right_state+'-P01']\n",
    "        m10[left_state_id, right_state_id] = sqrt_iswap_tomography[left_state+right_state+'-P10']\n",
    "        m11[left_state_id, right_state_id] = sqrt_iswap_tomography[left_state+right_state+'-P11']\n",
    "\n",
    "figs, axes = plt.subplots(2,2, figsize=(10,10))\n",
    "axes[0,0].pcolormesh(m00)\n",
    "axes[0,0].set_title('P(00)')\n",
    "axes[0,1].pcolormesh(m01)\n",
    "axes[0,1].set_title('P(01)')\n",
    "axes[1,0].pcolormesh(m10)\n",
    "axes[1,0].set_title('P(10)')\n",
    "axes[1,1].pcolormesh(m11)\n",
    "axes[1,1].set_title('P(11)')"
   ]
  },
  {
   "cell_type": "markdown",
   "metadata": {},
   "source": [
    "#### plot expected measurement results"
   ]
  },
  {
   "cell_type": "code",
   "execution_count": null,
   "metadata": {
    "scrolled": true
   },
   "outputs": [],
   "source": [
    "rotation_matrix=[[],[],[],[]]#np.reshape(np.einsum('ij,kl->ikjl',np.identity(2), sigma_z), (4,4))\n",
    "rotation_matrix_process = np.reshape(np.einsum('ij,kl->ikjl', np.conj(rotation_matrix),rotation_matrix), (16,16))\n",
    "measurement_predictions = chi_to_measurement_predictions(rotation_matrix_process, cz_tomography)\n",
    "\n",
    "#measurement_predictions = chi_to_measurement_predictions(m, cnot13_tomography)\n",
    "\n",
    "cube_state_prod = [i1+i2 for i1, i2 in itertools.product(['+X', '-X', '+Y', '-Y', '+Z', '-Z'], \n",
    "                                    ['+X', '-X', '+Y', '-Y', '+Z', '-Z'])]\n",
    "m00 = np.zeros((36,36,2))\n",
    "m01 = np.zeros((36,36,2))\n",
    "m10 = np.zeros((36,36,2))\n",
    "m11 = np.zeros((36,36,2))\n",
    "for retres in [0,1]:\n",
    "    left_state_id = 0\n",
    "    for left_state_id, left_state in enumerate(cube_state_prod):\n",
    "        right_state_id = 0\n",
    "        for right_state_id, right_state in enumerate(cube_state_prod):\n",
    "            m00[left_state_id, right_state_id, retres] = measurement_predictions[retres][right_state_id, left_state_id]\n",
    "            m01[left_state_id, right_state_id, retres] = measurement_predictions[retres][right_state_id+1, left_state_id]\n",
    "            m10[left_state_id, right_state_id, retres] = measurement_predictions[retres][right_state_id+2, left_state_id]\n",
    "            m11[left_state_id, right_state_id, retres] = measurement_predictions[retres][right_state_id+3, left_state_id]\n",
    "            right_state_id += 4\n",
    "        left_state_id+=1\n",
    "\n",
    "    figs, axes = plt.subplots(2,2, figsize=(10,10))\n",
    "    axes[0,0].pcolormesh(m00[:,:,retres], vmin=0, vmax=1, cmap='RdBu')\n",
    "    axes[0,0].set_title('P(00)')\n",
    "    axes[0,0].grid(True)\n",
    "    axes[0,0].set_xticks(np.arange(36))\n",
    "    axes[0,0].set_yticks(np.arange(36)[::-1])\n",
    "    axes[0,1].pcolormesh(m01[:,:,retres], vmin=0, vmax=1, cmap='RdBu')\n",
    "    axes[0,1].set_title('P(01)')\n",
    "    axes[0,1].grid(True)\n",
    "    axes[0,1].set_xticks(np.arange(36))\n",
    "    axes[0,1].set_yticks(np.arange(36)[::-1])\n",
    "    axes[1,0].pcolormesh(m10[:,:,retres], vmin=0, vmax=1, cmap='RdBu')\n",
    "    axes[1,0].set_title('P(10)')\n",
    "    axes[1,0].grid(True)\n",
    "    axes[1,0].set_xticks(np.arange(36))\n",
    "    axes[1,0].set_yticks(np.arange(36)[::-1])\n",
    "    axes[1,1].pcolormesh(m11[:,:,retres], vmin=0, vmax=1, cmap='RdBu')\n",
    "    axes[1,1].set_title('P(11)')\n",
    "    axes[1,1].grid(True)\n",
    "    axes[1,1].set_xticks(np.arange(36))\n",
    "    axes[1,1].set_yticks(np.arange(36)[::-1])\n",
    "    fig = plt.gcf()\n",
    "    fig.canvas.set_window_title(('Expected' if retres ==0 else 'Measured')+' raw measurements CZ')\n",
    "    \n",
    "figs, axes = plt.subplots(2,2, figsize=(10,10))\n",
    "axes[0,0].pcolormesh(m00[:,:,1]-m00[:,:,0], vmin=-1, vmax=1, cmap='RdBu')\n",
    "axes[0,0].set_title('P(00)')\n",
    "axes[0,0].grid(True)\n",
    "axes[0,0].set_xticks(np.arange(36))\n",
    "axes[0,0].set_yticks(np.arange(36)[::-1])\n",
    "axes[0,1].pcolormesh(m01[:,:,1]-m01[:,:,0], vmin=-1, vmax=1, cmap='RdBu')\n",
    "axes[0,1].set_title('P(01)')\n",
    "axes[0,1].grid(True)\n",
    "axes[0,1].set_xticks(np.arange(36))\n",
    "axes[0,1].set_yticks(np.arange(36)[::-1])\n",
    "axes[1,0].pcolormesh(m10[:,:,1]-m10[:,:,0], vmin=-1, vmax=1, cmap='RdBu')\n",
    "axes[1,0].set_title('P(10)')\n",
    "axes[1,0].grid(True)\n",
    "axes[1,0].set_xticks(np.arange(36))\n",
    "axes[1,0].set_yticks(np.arange(36)[::-1])\n",
    "axes[1,1].pcolormesh(m11[:,:,1]-m11[:,:,0], vmin=-1, vmax=1, cmap='RdBu')\n",
    "axes[1,1].set_title('P(11)')\n",
    "axes[1,1].grid(True)\n",
    "axes[1,1].set_xticks(np.arange(36))\n",
    "axes[1,1].set_yticks(np.arange(36)[::-1])\n",
    "fig = plt.gcf()\n",
    "fig.canvas.set_window_title('Measured-expected raw measurements CZ')"
   ]
  },
  {
   "cell_type": "markdown",
   "metadata": {},
   "source": [
    "#### reconstruct"
   ]
  },
  {
   "cell_type": "code",
   "execution_count": null,
   "metadata": {},
   "outputs": [],
   "source": [
    "m_sqrt_iswap = np.zeros((16,16), dtype=np.complex)\n",
    "for left_state_id, left_state in enumerate(np.arange(16)):\n",
    "    for right_state_id, right_state in enumerate(np.arange(16)):\n",
    "        #left_state_unscrambled = (left_state//4)+(left_state%4)*4\n",
    "        #right_state_unscrambled = (right_state//4)+(right_state%4)*4\n",
    "        m_sqrt_iswap[left_state_id, right_state_id] = sqrt_iswap_tomography[str(left_state)+','+str(right_state)]\n",
    "        #m2[left_state_unscrambled, right_state_unscrambled] = inv_two_qubit_process_tomography_result[str(left_state)+','+str(right_state)]"
   ]
  },
  {
   "cell_type": "code",
   "execution_count": null,
   "metadata": {},
   "outputs": [],
   "source": [
    "m_sqrt_iswap_sdp = process_tomography_measurement_results_to_chi_matrix(sqrt_iswap_tomography)"
   ]
  },
  {
   "cell_type": "markdown",
   "metadata": {},
   "source": [
    "#### plot chi-matrix"
   ]
  },
  {
   "cell_type": "code",
   "execution_count": null,
   "metadata": {},
   "outputs": [],
   "source": [
    "fig, axes = plt.subplots(1,2, figsize=(8,4))\n",
    "fig = plt.gcf()\n",
    "fig.canvas.set_window_title('Chi-matrix SQRT iSWAP measured')\n",
    "axes[0].pcolormesh(np.rot90(np.real(m_sqrt_iswap)),cmap='RdBu', vmin=-1, vmax=1)\n",
    "axes[0].set_xticks(np.arange(16))\n",
    "axes[0].set_yticks(np.arange(16)[::-1])\n",
    "\n",
    "axes[1].pcolormesh(np.rot90(np.imag(m_sqrt_iswap)),cmap='RdBu', vmin=-1, vmax=1)\n",
    "axes[1].set_xticks(np.arange(16))\n",
    "axes[1].set_yticks(np.arange(16)[::-1])\n",
    "#plt.colorbar()\n",
    "plt.grid()"
   ]
  },
  {
   "cell_type": "code",
   "execution_count": null,
   "metadata": {},
   "outputs": [],
   "source": [
    "fig, axes = plt.subplots(1,2, figsize=(8,4))\n",
    "fig = plt.gcf()\n",
    "fig.canvas.set_window_title('Chi-matrix SDP SQRT iSWAP measured')\n",
    "axes[0].pcolormesh(np.rot90(np.real(m_sqrt_iswap_sdp)),cmap='RdBu', vmin=-1, vmax=1)\n",
    "axes[0].set_xticks(np.arange(16))\n",
    "axes[0].set_yticks(np.arange(16)[::-1])\n",
    "\n",
    "axes[1].pcolormesh(np.rot90(np.imag(m_sqrt_iswap_sdp)),cmap='RdBu', vmin=-1, vmax=1)\n",
    "axes[1].set_xticks(np.arange(16))\n",
    "axes[1].set_yticks(np.arange(16)[::-1])\n",
    "#plt.colorbar()\n",
    "plt.grid()"
   ]
  },
  {
   "cell_type": "markdown",
   "metadata": {},
   "source": [
    "#### Pauli transfer matrix"
   ]
  },
  {
   "cell_type": "code",
   "execution_count": null,
   "metadata": {},
   "outputs": [],
   "source": [
    "m_sqrt_iswap_ptm = process_matrix(m_sqrt_iswap, plot=True, plot_name='SQRT iSWAP')\n",
    "m_sqrt_iswap_sdp_ptm = process_matrix(m_sqrt_iswap_sdp, plot=True, plot_name='SQRT iSWAP SDP')\n",
    "#m_cz_expected_ptm = process_matrix(rotation_matrix_process, plot=True, plot_name='CZ SDP expected')\n",
    "#cy2_ideal_matrix = process_matrix(np.reshape(np.transpose(np.reshape(cy, (2,2,2,2)),(1,0,3,2)), (4,4)), 'unitary', plot=True, plot_name='CX(1,3) ideal')\n",
    "#cx2_ideal_matrix = process_matrix(np.reshape(np.transpose(np.reshape(cx, (2,2,2,2)),(1,0,3,2)), (4,4)), 'unitary', plot=True, plot_name='CY(1,3) ideal')\n",
    "#cx_ideal_matrix = process_matrix(cx, 'unitary', plot=True, plot_name='CX(1,3) ideal')\n",
    "#cy_ideal_matrix = process_matrix(cy, 'unitary', plot=True, plot_name='CY(1,3) ideal')\n",
    "#np.sum(m_cz_sdp_ptm*m_cz_expected_ptm)/16"
   ]
  },
  {
   "cell_type": "code",
   "execution_count": null,
   "metadata": {
    "scrolled": true
   },
   "outputs": [],
   "source": [
    "angle1_range = np.linspace(0,2*np.pi, 48)\n",
    "angle2_range = np.linspace(0,2*np.pi, 48)\n",
    "angle3_range = np.linspace(0,2*np.pi, 48)\n",
    "fidelity = np.zeros((len(angle1_range), len(angle2_range), len(angle3_range)))\n",
    "for angle1_id, angle1 in enumerate(angle1_range):\n",
    "    for angle2_id, angle2 in enumerate(angle2_range):\n",
    "        for angle3_id, angle3 in enumerate(angle3_range):\n",
    "            rotation_matrix = np.identity(4, dtype=np.complex)\n",
    "            rotation_matrix[1,1] = np.exp(1j*angle1)\n",
    "            rotation_matrix[2,2] = np.exp(1j*angle2)\n",
    "            rotation_matrix[3,3] = np.exp(1j*angle1)*np.exp(1j*angle2)\n",
    "            \n",
    "            rotation_matrix_1d = np.identity(4, dtype=np.complex)\n",
    "            rotation_matrix_1d[1:3,1:3] = np.asarray([[1, -1j*np.exp(1j*angle3)], \n",
    "                                                            [-1j*np.exp(-1j*angle3), 1]])/np.sqrt(2)\n",
    "            rotation_matrix = rotation_matrix@rotation_matrix_1d\n",
    "        \n",
    "        #rotation_matrix = np.reshape(np.transpose(np.reshape(rotation_matrix, (2,2,2,2)),(1,0,3,2)), (4,4))\n",
    "        #print(rotation_matrix)\n",
    "    \n",
    "        #rotation_matrix=np.identity(4)\n",
    "        #rotation_matrix_process = np.reshape(np.einsum('ij,kl->jkil', np.conj(rotation_matrix),rotation_matrix), (16,16))\n",
    "            cphi_ideal_matrix = np.reshape(np.einsum('ij,kl->ikjl', np.conj(rotation_matrix),rotation_matrix), (16,16))\n",
    "            cphi_ideal_matrix = process_matrix(cphi_ideal_matrix, plot=False, plot_name='SQRT iSWAP SDP expected')\n",
    "\n",
    "            #print(angle1, angle2, (np.sum(cphi_ideal_matrix*m_cz_sdp_ptm)+4)/20)\n",
    "            fidelity[angle1_id, angle2_id, angle3_id] = (np.sum(cphi_ideal_matrix*m_sqrt_iswap_sdp_ptm))/16\n",
    "\n",
    "angle_id =np.unravel_index(np.argmax(fidelity.ravel()), fidelity.shape)\n",
    "angle1 = angle1_range[angle_id[0]]\n",
    "angle2 = angle2_range[angle_id[1]]\n",
    "angle3 = angle3_range[angle_id[2]]\n",
    "print(angle1, angle2, angle3)\n",
    "print(np.max(fidelity))"
   ]
  },
  {
   "cell_type": "code",
   "execution_count": null,
   "metadata": {},
   "outputs": [],
   "source": [
    "rotation_matrix = np.identity(4, dtype=np.complex)\n",
    "rotation_matrix[1,1] = np.exp(1j*angle1)\n",
    "rotation_matrix[2,2] = np.exp(1j*angle2)\n",
    "rotation_matrix[3,3] = np.exp(1j*angle1)*np.exp(1j*angle2)\n",
    "\n",
    "rotation_matrix_1d = np.identity(4, dtype=np.complex)\n",
    "rotation_matrix_1d[1:3,1:3] = np.asarray([[1, -1j*np.exp(1j*angle3)], \n",
    "                                                [-1j*np.exp(-1j*angle3), 1]])/np.sqrt(2)\n",
    "rotation_matrix = rotation_matrix@rotation_matrix_1d\n",
    "\n",
    "cphi_ideal_matrix = np.reshape(np.einsum('ij,kl->ikjl', np.conj(rotation_matrix),rotation_matrix), (16,16))\n",
    "cphi_ideal_matrix = process_matrix(cphi_ideal_matrix, plot=True, plot_name='SQRT iSWAP SDP expected')\n",
    "#fidelity[angle1_id, angle2_id, angle3_id] = (np.sum(cphi_ideal_matrix*m_sqrt_iswap_sdp_ptm))/16"
   ]
  },
  {
   "cell_type": "markdown",
   "metadata": {},
   "source": [
    "## Всё что дальше не нужно (пока,но возможно никогда)"
   ]
  },
  {
   "cell_type": "code",
   "execution_count": null,
   "metadata": {},
   "outputs": [],
   "source": [
    "num_pulses_HD = {'1':[90,80,70],\n",
    "             '3':[30,25,20]}\n",
    "alphas_HD = {'1':np.linspace(-1.5, 1.5,41),\n",
    "             '3':np.linspace(-1.05, 1.05,21)}\n",
    "alphas_HD = {'1':np.linspace(0, 0.5,41),\n",
    "             '3':np.linspace(-1.05, 1.05,21)}\n",
    "alphas_HD = {'1':np.linspace(0.16, 0.32,21),\n",
    "             '3':np.linspace(-1.05, 1.05,21)}"
   ]
  },
  {
   "cell_type": "code",
   "execution_count": null,
   "metadata": {
    "scrolled": true
   },
   "outputs": [],
   "source": [
    "iters = 1\n",
    "for _iter in range(iters):\n",
    "    for q_id, gauss_calib in drag_hds.items():\n",
    "        if q_id=='1':\n",
    "            meas = gauss_calib.alpha_skan(num_pulses_array=[15,30],\\\n",
    "                                          alphas=np.linspace,y_sign='+',chid=int(q_id))\n",
    "        #meas1 = gauss_calib.rabi_amplitudes(rabi_amplitudes,num_pulses_rabi)\n",
    "#         gauss_calib.ape(y_sign='-',ape_phase=0.5*np.pi)\n",
    "#         gauss_calib.ape(y_sign='+',ape_phase=0.5*np.pi)\n",
    "        \n",
    "        #if ex_channel == 'iq_ex3_q3_F01_min':\n",
    "#        for nndac_channel_id, channel_voltage in working_points[ex_channel].items():\n",
    "#                coil_device.set_offset(channel_voltage, channel=nndac_channel_id)\n",
    "#             meas3 = gauss_calib.Rabi_amplitudes_calibration(num_pulses=num_pulses_calibration,\\\n",
    "#                                                           ex_amps=ex_amps_calib[q_id],chid=int(q_id))\n",
    "        \n",
    "        \n",
    "               \n",
    "#                                         )\n",
    "#             meas2 = gauss_calib.ape(ex_amps_pi_2[q_id],num_pulses_array=num_pulses_ape,y_sign='+')\n",
    "#        else :\n",
    "#            continue"
   ]
  },
  {
   "cell_type": "code",
   "execution_count": null,
   "metadata": {},
   "outputs": [],
   "source": []
  },
  {
   "cell_type": "code",
   "execution_count": null,
   "metadata": {},
   "outputs": [],
   "source": [
    "gauss_calib.save_calibration()"
   ]
  },
  {
   "cell_type": "code",
   "execution_count": null,
   "metadata": {},
   "outputs": [],
   "source": [
    "drag_hds['1'].load_calibration()\n",
    "drag_hds['3'].load_calibration()"
   ]
  },
  {
   "cell_type": "code",
   "execution_count": null,
   "metadata": {},
   "outputs": [],
   "source": [
    "drag_hds['1'].get_amplitude(np.pi/2),drag_hds['3'].get_amplitude(np.pi/2)"
   ]
  },
  {
   "cell_type": "code",
   "execution_count": null,
   "metadata": {},
   "outputs": [],
   "source": [
    "ex_amps_calib={'1':np.linspace(0.03,0.500,51),\n",
    "             '3':np.linspace(0.01,0.270,31)}\n",
    "ex_amps_pi_2={'1':0.717,\n",
    "             '3':np.linspace(0.01,0.270,31)}\n",
    "\n"
   ]
  },
  {
   "cell_type": "code",
   "execution_count": null,
   "metadata": {},
   "outputs": [],
   "source": [
    "anharmonicities = {'iq_ex{}_q{}_F01_min'.format(q_id, q_id):-175e6                          for q_id, q in qubits.items() }\n",
    "ex_channels =    ['iq_ex{}_q{}_F01_min'.format(q_id, q_id)                                  for q_id, q in qubits.items()]\n",
    "ex_ro_channels = {'iq_ex{}_q{}_F01_min'.format(q_id, q_id):'iq_ro_q{}'.format(q_id)         for q_id, q in qubits.items() }\n",
    "working_points = {'iq_ex{}_q{}_F01_min'.format(q_id, q_id):q['q']['P']['Fmin_coil_currents'] for q_id, q in qubits.items()}\n",
    "ro_amplitudes =  {'iq_ex1_q1_F01_min':0.14,\n",
    "                  'iq_ex2_q2_F01_min':0.14,\n",
    "                  'iq_ex3_q3_F01_min':0.14}"
   ]
  },
  {
   "cell_type": "code",
   "execution_count": null,
   "metadata": {},
   "outputs": [],
   "source": [
    "#sigma =  {'iq_ex{}_q{}_F01_min'.format(q_id, q_id):3e-9                                for q_id, q in qubits.items()}\n",
    "length= {'iq_ex1_q1_F01_min':15e-9,#22\n",
    "         'iq_ex2_q2_F01_min':68e-9,\n",
    "         'iq_ex3_q3_F01_min':15e-9}\n",
    "sigma= {'iq_ex1_q1_F01_min':5e-9,#5\n",
    "         'iq_ex2_q2_F01_min':20e-9,\n",
    "         'iq_ex3_q3_F01_min':5e-9}\n",
    "rabi_amplitudes ={'iq_ex1_q1_F01_min':np.linspace(0.03, 0.9,101),\n",
    "                 'iq_ex2_q2_F01_min':np.linspace(0.03, 0.8,31),\n",
    "                 'iq_ex3_q3_F01_min':np.linspace(0.03, 0.9,31)}\n",
    "num_pulses_rabi = {'iq_ex1_q1_F01_min':4,\n",
    "             'iq_ex2_q2_F01_min': 1,\n",
    "             'iq_ex3_q3_F01_min':4}\n",
    "alpha =  {'iq_ex{}_q{}_F01_min'.format(q_id, q_id):0                                for q_id, q in qubits.items()}\n",
    "alphas_HD = {'iq_ex1_q1_F01_min':np.linspace(-1.05, -1,21),\n",
    "             'iq_ex2_q2_F01_min': 0,\n",
    "             'iq_ex3_q3_F01_min':np.linspace(-1.05, -0.95,21)}\n",
    "num_pulses_ape ={'iq_ex1_q1_F01_min':np.arange(0, 60,2 ),\n",
    "             'iq_ex2_q2_F01_min': 0,\n",
    "             'iq_ex3_q3_F01_min':np.arange(0, 40, 2)}\n",
    "num_pulses_HD = {'iq_ex1_q1_F01_min':[40,35,30],\n",
    "             'iq_ex2_q2_F01_min': 0,\n",
    "             'iq_ex3_q3_F01_min':[30,25,20]}\n",
    "ex_amps_calib={'iq_ex1_q1_F01_min':np.linspace(0.01,0.300,31),\n",
    "             'iq_ex2_q2_F01_min': 0,\n",
    "             'iq_ex3_q3_F01_min':np.linspace(0.01,0.270,31)}\n",
    "num_pulses_calibration = 16\n",
    "# alpha=-1.023\n",
    "#alpha=-0.98"
   ]
  },
  {
   "cell_type": "code",
   "execution_count": null,
   "metadata": {},
   "outputs": [],
   "source": [
    "qubit_id='3'"
   ]
  },
  {
   "cell_type": "code",
   "execution_count": null,
   "metadata": {},
   "outputs": [],
   "source": [
    "fitters={}\n",
    "fitters[qubit_id] = lambda x,y,ro_meas_name='S21_r{}'.format(qubit_id): fitting.fit1d(x,y,ro_meas_name)\n"
   ]
  },
  {
   "cell_type": "code",
   "execution_count": null,
   "metadata": {},
   "outputs": [],
   "source": [
    "calibs = {ex_channel:single_qubit_calibration(pg,\n",
    "                                           adc_reducer,\n",
    "                                           ex_channel=ex_channel,\n",
    "                                           ro_channel=ex_ro_channels[ex_channel],\n",
    "                                           ro_sequence=(trigger_readout_seq+readout_pulse),\n",
    "                                           sigma=sigma[ex_channel],\n",
    "                                           length=length[ex_channel],\n",
    "                                           alpha = alpha[ex_channel],\n",
    "                                           fitter=fitters[qubit_id], \n",
    "                                           shuffle=False,\n",
    "                                           anharmonicity=anharmonicities[ex_channel],\n",
    "                                           qubit_id=qubit_id) for ex_channel in ex_channels}"
   ]
  },
  {
   "cell_type": "code",
   "execution_count": null,
   "metadata": {
    "scrolled": false
   },
   "outputs": [],
   "source": [
    "calibs_diffs = calibs\n",
    "iters = 1\n",
    "for _iter in range(iters):\n",
    "    for ex_channel, calib_diff in calibs_diffs.items():\n",
    "        if ex_channel == 'iq_ex3_q3_F01_min':\n",
    "            for nndac_channel_id, channel_voltage in working_points[ex_channel].items():\n",
    "                coil_device.set_offset(channel_voltage, channel=nndac_channel_id)\n",
    "#             meas3 = calib_diff.Rabi_amplitudes_calibration(num_pulses=num_pulses_calibration,\\\n",
    "#                                                           ex_amps=ex_amps_calib[ex_channel],chid=int(qubit_id))\n",
    "            meas = calib_diff.alpha_skan(ex_amp=ex_amps_pi_2[ex_channel],\n",
    "                                         num_pulses_array=num_pulses_HD[ex_channel],\n",
    "                                         alphas=alphas_HD[ex_channel],chid=int(qubit_id))\n",
    "# \n",
    "#             meas1 = calib_diff.rabi_amplitudes(rabi_amplitudes [ex_channel],num_pulses_rabi[ex_channel])\n",
    "#             meas = calib_diff.ape(ex_amps_pi_2[ex_channel],num_pulses_array=num_pulses_ape[ex_channel],y_sign='+')\n",
    "        else :\n",
    "            continue"
   ]
  },
  {
   "cell_type": "code",
   "execution_count": null,
   "metadata": {},
   "outputs": [],
   "source": []
  },
  {
   "cell_type": "code",
   "execution_count": null,
   "metadata": {},
   "outputs": [],
   "source": [
    "from scipy.optimize import curve_fit\n",
    "def fit_cal(data):\n",
    "    x = [data[i][0] for i in range(len(data))]\n",
    "    y = [data[i][1] for i in range(len(data))]\n",
    "    func_for_fit_cal = lambda x,a,b,c : a*x**(5/3)+b*x**(4/3)+c\n",
    "    popt = curve_fit(func_for_fit_cal,x,y)[0]\n",
    "    angles = np.linspace(x[np.argmin(x)],x[np.argmax(x)],1000)\n",
    "    amps = func_for_fit_cal(angles,popt[0],popt[1],popt[2])\n",
    "    return lambda x:popt[0]*x**(5/3)+popt[1]*x**(4/3)+popt[2]\n",
    "matrix_amps_for_qubit1=[[0.125, 0.10614969205681676],\n",
    " [0.25, 0.21446575821912406],\n",
    " [0.375, 0.32210569413073026],\n",
    " [0.5, 0.4306922123933179],\n",
    " [0.625, 0.5396844088063261],\n",
    " [0.75, 0.6501640917708765],\n",
    " [0.875, 0.761319904986128],\n",
    " [1.0, 0.8717995879506785]]\n",
    "\n",
    "matrix_amps_for_qubit3=[[0.0625, 0.03400348568366324],\n",
    " [0.1875, 0.09980244695014422],\n",
    " [0.3125, 0.16386768401763385],\n",
    " [0.4375, 0.23115269459753596],\n",
    " [0.5625, 0.29406211553236467],\n",
    " [0.6875, 0.35820991089504434],\n",
    " [0.8125, 0.4202937488779724],\n",
    " [0.9375, 0.4836159612887514]]\n",
    "amps1=fit_cal(matrix_amps_for_qubit1)\n",
    "amps3=fit_cal(matrix_amps_for_qubit3)"
   ]
  },
  {
   "cell_type": "code",
   "execution_count": null,
   "metadata": {},
   "outputs": [],
   "source": [
    "amps1(0.5),amps3(0.5),amps1(1),amps3(1)"
   ]
  },
  {
   "cell_type": "markdown",
   "metadata": {},
   "source": [
    "### Tomo bench"
   ]
  },
  {
   "cell_type": "code",
   "execution_count": null,
   "metadata": {},
   "outputs": [],
   "source": [
    "# import qsweepy.tomography_legacy as tomography_new\n",
    "import qsweepy.interleaved_benchmarking as interleaved_benchmarking"
   ]
  },
  {
   "cell_type": "code",
   "execution_count": null,
   "metadata": {},
   "outputs": [],
   "source": [
    "import qsweepy.tomography as tomography_new\n",
    "import qsweepy.tomography_legacy as tomography\n",
    "imp.reload(tomography_new)\n",
    "imp.reload(interleaved_benchmarking)"
   ]
  },
  {
   "cell_type": "code",
   "execution_count": null,
   "metadata": {},
   "outputs": [],
   "source": [
    "working_points = {'iq_ex{}_q{}_F01_min'.format(q_id, q_id):q['q']['P']['Fmin_coil_currents'] for q_id, q in qubits.items()}\n",
    "for nndac_channel_id, channel_voltage in working_points[ex_channel].items():\n",
    "                coil_device.set_offset(channel_voltage, channel=nndac_channel_id)"
   ]
  },
  {
   "cell_type": "code",
   "execution_count": null,
   "metadata": {},
   "outputs": [],
   "source": [
    "anharmonicity=175e6 \n",
    "#alpha = -alpha_dimensionless/(anharmonicity*2*np.pi)\n",
    "length= {'iq_ex1_q1_F01_min':15e-9,\n",
    "         'iq_ex2_q2_F01_min':0,\n",
    "         'iq_ex3_q3_F01_min':15e-9}\n",
    "sigma= {'iq_ex1_q1_F01_min':5e-9,\n",
    "         'iq_ex2_q2_F01_min':0,\n",
    "         'iq_ex3_q3_F01_min':5e-9}\n",
    "alpha = {'iq_ex1_q1_F01_min':-1.023/(anharmonicity*2*np.pi),\n",
    "             'iq_ex2_q2_F01_min': 0,\n",
    "             'iq_ex3_q3_F01_min':-0.98/(anharmonicity*2*np.pi)}    \n",
    "ex_amps_pi_2={'iq_ex1_q1_F01_min':0.43,\n",
    "             'iq_ex2_q2_F01_min': 0,\n",
    "             'iq_ex3_q3_F01_min':0.263}\n",
    "ex_amps_pi={'iq_ex1_q1_F01_min':0.870,\n",
    "             'iq_ex2_q2_F01_min': 0,\n",
    "             'iq_ex3_q3_F01_min':0.510}"
   ]
  },
  {
   "cell_type": "code",
   "execution_count": null,
   "metadata": {},
   "outputs": [],
   "source": []
  },
  {
   "cell_type": "code",
   "execution_count": null,
   "metadata": {},
   "outputs": [],
   "source": [
    "# pqjson.dump(type=\"single_qubit_gates\",name='Rabi+Ramsey-refined',params = [])"
   ]
  },
  {
   "cell_type": "code",
   "execution_count": null,
   "metadata": {},
   "outputs": [],
   "source": [
    "# pi_pulse = 56e-9;\n",
    "ex_channel == 'iq_ex1_q1_F01_min'\n",
    "# ex_calib_seq = [pg.p(ex_channel, length[ex_channel], pg.gauss_hd, ex_amps_pi[ex_channel],sigma[ex_channel],alpha[ex_channel])] # gaussian pulse\n",
    "ro_seq = (trigger_readout_seq+readout_pulse)\n",
    "# adc_sz = tomography.sz_measurer(adc_reducer, ex_calib_seq, ro_seq, pg.channels)\n",
    "# adc.set_software_nums_multi(4)\n",
    "# adc_sz.repeat_samples = 1\n",
    "ro_seq"
   ]
  },
  {
   "cell_type": "code",
   "execution_count": null,
   "metadata": {},
   "outputs": [],
   "source": [
    "# state_prep_seqs = {'|0>': [],\n",
    "#                    '|+>': [pg.p(ex_channel, length[ex_channel], pg.gauss_hd, ex_amps_pi_2[ex_channel], sigma[ex_channel], alpha[ex_channel])],\n",
    "#                    '|1>': [pg.p(ex_channel, length[ex_channel], pg.gauss_hd, ex_amps_pi[ex_channel], sigma[ex_channel], alpha[ex_channel])],\n",
    "#                    '|->': [pg.p(ex_channel, length[ex_channel], pg.gauss_hd, -ex_amps_pi_2[ex_channel], sigma[ex_channel], alpha[ex_channel])],\n",
    "#                    '|i+>': [pg.p(ex_channel, length[ex_channel], pg.gauss_hd, 1j*ex_amps_pi_2[ex_channel], sigma[ex_channel], alpha[ex_channel])],\n",
    "#                    '|i->': [pg.p(ex_channel, length[ex_channel], pg.gauss_hd, -1j*ex_amps_pi_2[ex_channel], sigma[ex_channel], alpha[ex_channel])]}\n",
    "\n",
    "# plt.figure('State readout histograms gaussian')\n",
    "# sz_meas = {}\n",
    "# for state_name, state_prep_seq in state_prep_seqs.items():\n",
    "#     pg.set_seq(state_prep_seq+adc_sz.ro_seq)\n",
    "#     sz_meas[state_name] = np.real(adc_sz.measure()['sz binary'])\n",
    "#     hist, bin_edges = np.histogram(sz_meas[state_name], bins=adc_sz.calib_proba_points)\n",
    "#     proba_points = (bin_edges[1:]+bin_edges[:-1])/2\n",
    "#     plt.plot(proba_points, hist,label=state_name)\n",
    "#     print ('{0} state sz mean: {1}, std: {2}'.format(state_name, np.mean(sz_meas[state_name]), np.std(sz_meas[state_name])))\n",
    "    \n",
    "# plt.legend()"
   ]
  },
  {
   "cell_type": "code",
   "execution_count": null,
   "metadata": {},
   "outputs": [],
   "source": [
    "observables = { 'X': 0.5*np.asarray([[0, 1],   [1, 0]]),\n",
    "                'Y': 0.5*np.asarray([[0, -1j],   [1j, 0]]),\n",
    "                '-X': 0.5*np.asarray([[0, -1],   [-1, 0]]),\n",
    "                '-Y': 0.5*np.asarray([[0, 1j],   [-1j, 0]]),\n",
    "                'Z': 0.5*np.asarray([[1, 0],   [0, -1]])}\n",
    "proj_seq = {'Xo':{'pulses': [pg.p(ex_channel, length[ex_channel], pg.gauss_hd, -1j*ex_amps_pi_2[ex_channel],sigma[ex_channel],alpha[ex_channel])]+ro_seq, \n",
    "                 'operator': observables['X']},\n",
    "            'Yo':{'pulses': [pg.p(ex_channel, length[ex_channel], pg.gauss_hd, ex_amps_pi_2[ex_channel],sigma[ex_channel],alpha[ex_channel])]+ro_seq,\n",
    "                 'operator': observables['Y']},\n",
    "            '-Xo':{'pulses':[pg.p(ex_channel, length[ex_channel], pg.gauss_hd, 1j*ex_amps_pi_2[ex_channel],sigma[ex_channel],alpha[ex_channel])]+ro_seq,\n",
    "                 'operator': observables['-X']},\n",
    "            '-Yo':{'pulses':[pg.p(ex_channel, length[ex_channel], pg.gauss_hd, -ex_amps_pi_2[ex_channel],sigma[ex_channel],alpha[ex_channel])]+ro_seq,\n",
    "                 'operator': observables['-Y']},\n",
    "            'Zo': {'pulses':ro_seq, 'operator':observables['Z']} }\n",
    "reconstruction_basis={'x':{'operator':observables['X']},\n",
    "                      'y':{'operator':observables['Y']},\n",
    "                      'z':{'operator':observables['Z']}}\n",
    "# tomo = tomography.tomography(adc_sz, pg, proj_seq, reconstruction_basis=reconstruction_basis)"
   ]
  },
  {
   "cell_type": "code",
   "execution_count": null,
   "metadata": {},
   "outputs": [],
   "source": [
    "#multiqubit_single_shot.filter_binary = multiqubit_single_shot.filters['1']\n",
    "proj_seq = {'Z': {'pulses':ro_seq, 'operator':observables['Z']}}\n",
    "reconstruction_basis={'z':{'operator':observables['Z']}}\n",
    "tomoz = tomography_new.tomography(single_shot_readouts['1'], pg, proj_seq, reconstruction_basis=reconstruction_basis)"
   ]
  },
  {
   "cell_type": "code",
   "execution_count": null,
   "metadata": {},
   "outputs": [],
   "source": [
    "import qsweepy.clifford as clifford\n",
    "imp.reload(clifford)\n",
    "\n",
    "pi2 = {'X/2': {'pulses':[pg.p(ex_channel, length[ex_channel], pg.gauss_hd, -ex_amps_pi_2[ex_channel],sigma[ex_channel],alpha[ex_channel])],\n",
    "               'unitary': np.sqrt(0.5)*np.asarray([[1, -1j],  [-1j, 1]])},\n",
    "       'Y/2': {'pulses':[pg.p(ex_channel, length[ex_channel], pg.gauss_hd, 1j*ex_amps_pi_2[ex_channel],sigma[ex_channel],alpha[ex_channel])],\n",
    "               'unitary': np.sqrt(0.5)*np.asarray([[1, -1],    [1, 1]])},\n",
    "       '-X/2':{'pulses':[pg.p(ex_channel, length[ex_channel], pg.gauss_hd, ex_amps_pi_2[ex_channel],sigma[ex_channel],alpha[ex_channel])],\n",
    "              'unitary': np.sqrt(0.5)*np.asarray([[1, 1j],   [1j, 1]])},\n",
    "       '-Y/2':{'pulses':[pg.p(ex_channel, length[ex_channel], pg.gauss_hd, -1j*ex_amps_pi_2[ex_channel],sigma[ex_channel],alpha[ex_channel])],\n",
    "               'unitary': np.sqrt(0.5)*np.asarray([[1, 1],   [-1, 1]])},\n",
    "       'I':   {'pulses':[], 'unitary':np.asarray([[1, 0], [0,1]])},\n",
    "       'X': {'pulses':[pg.p(ex_channel, length[ex_channel], pg.gauss_hd, -ex_amps_pi[ex_channel],sigma[ex_channel],alpha[ex_channel])],\n",
    "               'unitary': np.asarray([[0, 1],  [1, 0]])},\n",
    "       'Y': {'pulses':[pg.p(ex_channel, length[ex_channel], pg.gauss_hd, 1j*ex_amps_pi[ex_channel],sigma[ex_channel],alpha[ex_channel])],\n",
    "               'unitary': 1j*np.asarray([[0, -1],  [1, 0]])}}\n",
    "clifford_group = clifford.generate_group(pi2)\n",
    "print(clifford_group.keys(), len(clifford_group))"
   ]
  },
  {
   "cell_type": "code",
   "execution_count": null,
   "metadata": {},
   "outputs": [],
   "source": [
    "# imp.reload(interleaved_benchmarking)\n",
    "# imp.reload(sweep)\n",
    "\n",
    "adc.set_software_nums_multi(1)\n",
    "bench = interleaved_benchmarking.interleaved_benchmarking(tomoz)\n",
    "\n",
    "#unitaries = {0:np.sqrt(0.5)*np.asarray([[1, -1j],  [-1j, 1]]),\\\n",
    "#             1:np.sqrt(0.5)*np.asarray([[1, -1],    [1, 1]]),\\\n",
    "#             2:np.sqrt(0.5)*np.asarray([[1, 1j],   [1j, 1]]),\\\n",
    "#             3:np.sqrt(0.5)*np.asarray([[1, 1],   [-1, 1]])}\n",
    "bench.interleavers = clifford_group\n",
    "#bench.sequence_length = 10\n",
    "bench.random_sequence_num = 20\n",
    "#bench.prepare_random_interleaving_sequences()\n",
    "#bench.get_points()\n",
    "#bench.generate_interleaver_sequence_from_names()"
   ]
  },
  {
   "cell_type": "code",
   "execution_count": null,
   "metadata": {},
   "outputs": [],
   "source": [
    "figs, axes= plt.subplots(4,2)\n",
    "\n",
    "for column, device in enumerate([awg1, awg2]):\n",
    "    for row in range(4):\n",
    "        axes[row, column].plot(device.waveforms[row])"
   ]
  },
  {
   "cell_type": "code",
   "execution_count": null,
   "metadata": {},
   "outputs": [],
   "source": [
    "#+\n",
    "#ro_adc_length=0.2e-6 #ВНИМАНИЕ! я это удалю (закомментирую) тут, т.к. оно всё равно здесь ничего не делает, только мозги выносит\n",
    "seq_lengths = np.arange(0,21, 1)\n",
    "#seq_lengths = np.arange(0, 100, 10)\n",
    "random_sequence_ids = np.arange(bench.random_sequence_num)\n",
    "bench.prepare_random_interleaving_sequences()\n",
    "clifford_bench = sweep.sweep(bench,\n",
    "                             (seq_lengths, bench.set_sequence_length_and_regenerate, 'Gate number', ''), \n",
    "                             (random_sequence_ids, bench.set_interleaved_sequence, 'Random sequence id', ''))"
   ]
  },
  {
   "cell_type": "code",
   "execution_count": null,
   "metadata": {},
   "outputs": [],
   "source": [
    "#+\n",
    "plt.figure()\n",
    "imp.reload(fitting)\n",
    "plt.plot(clifford_bench['distance'][1][0], \n",
    "         1-clifford_bench['distance'][2], \n",
    "         marker='o', \n",
    "         color='black', \n",
    "         linestyle='')\n",
    "#plt.plot(clifford_bench['distance'][1][0], np.mean(1-clifford_bench['distance'][2], axis=1))\n",
    "clifford_fitresults, clifford_expfit = fitting.exp_fit1d(clifford_bench['distance'][1][0], \n",
    "                                                        np.reshape(np.mean(1-clifford_bench['distance'][2], axis=1), \n",
    "                                                                   (1, len(clifford_bench['distance'][1][0]))))\n",
    "\n",
    "plt.plot(clifford_expfit[0].ravel(),\n",
    "         clifford_expfit[1].ravel(),\n",
    "         label='Clifford set')\n",
    "plt.grid()\n",
    "plt.xlabel('Number of gates')\n",
    "plt.ylabel('Fidelity')\n",
    "plt.legend()\n",
    "print('Clifford fidelity: {0:6.3f}'.format(np.exp(-1/clifford_fitresults[0])))"
   ]
  },
  {
   "cell_type": "code",
   "execution_count": null,
   "metadata": {},
   "outputs": [],
   "source": [
    "clifford_expfit"
   ]
  },
  {
   "cell_type": "code",
   "execution_count": null,
   "metadata": {},
   "outputs": [],
   "source": [
    "plt.plot(clifford_bench['distance'][1][0],\n",
    "         clifford_expfit[0],\n",
    "         label='Clifford set')"
   ]
  },
  {
   "cell_type": "code",
   "execution_count": null,
   "metadata": {},
   "outputs": [],
   "source": []
  },
  {
   "cell_type": "markdown",
   "metadata": {},
   "source": [
    "## Неработающая Оффлайн-калибровка импульсов"
   ]
  },
  {
   "cell_type": "code",
   "execution_count": null,
   "metadata": {},
   "outputs": [],
   "source": [
    "num_samples = 5\n",
    "awg_device = awg2\n",
    "sa_device = sa\n",
    "lo_device = lo1\n",
    "awg_channel_I = 2\n",
    "awg_channel_Q = 3\n",
    "calibration_sequence_length = 1600 \n",
    "physical_delay = 400\n",
    "calibration_sequence_margin = 600\n",
    "random_sequence_num = 20\n",
    "amplitudes = [0,0.2]\n",
    "\n",
    "amplitude_small_id = 1\n",
    "amplitude_zero_id = 0\n",
    "#amplitude_negitive_id = 0\n",
    "#amplitude_large_id = 4\n",
    "\n",
    "sa.set_bandwidth(awg_device.get_clock()/repetition_period/2)\n",
    "sa.set_bandwidth_video(10e3)\n",
    "sa.set_detector('RMS')\n",
    "repetition_period = calibration_sequence_length+physical_delay # in awg samples\n",
    "sa.set_nop(repetition_period)\n",
    "sa.set_centerfreq(lo_device.get_frequency()-awg_device.get_clock()/repetition_period/2.)\n",
    "sa.set_span(awg_device.get_clock()*(repetition_period-1)/repetition_period)\n",
    "\n",
    "# Perform background measurements\n",
    "#c = np.asarray(measurement_matrix_sequence)\n",
    "lo1.set_status(0)\n",
    "incoherent_bg_samples = [10**(sa.measure()['Power']/10) for i in range(num_samples)]\n",
    "incoherent_bg = np.mean(incoherent_bg_samples, axis=0)\n",
    "incoherent_bg_error = np.std(incoherent_bg_samples)/np.sqrt(num_samples-2)\n",
    "lo1.set_status(1)\n",
    "awg_device.stop()\n",
    "#awg_device.set_offset(0, channel=awg_channel_I)\n",
    "#awg_device.set_offset(0, channel=awg_channel_Q)\n",
    "awg_device.set_output(1, channel=awg_channel_I)\n",
    "awg_device.set_output(1, channel=awg_channel_Q)\n",
    "coherent_bg_samples = [10**(sa.measure()['Power']/10) for i in range(num_samples)]\n",
    "coherent_bg = np.mean(coherent_bg_samples, axis=0)-incoherent_bg\n",
    "coherent_bg_std = np.std(coherent_bg_samples)/np.sqrt(num_samples-2)\n",
    "\n",
    "spectra = np.zeros((len(amplitudes), len(amplitudes), random_sequence_num, sa.get_nop()))\n",
    "waveforms_I = np.zeros((random_sequence_num, repetition_period))\n",
    "waveforms_Q = np.zeros((random_sequence_num, repetition_period))\n",
    "awg_device.stop()\n",
    "# measure random waveforms\n",
    "for random_sequence_id in tqdm.tqdm(range(20)):\n",
    "    seq_I = np.random.random(calibration_sequence_length)*2.-1.\n",
    "    seq_Q = np.random.random(calibration_sequence_length)*2.-1.\n",
    "    seq_I[:calibration_sequence_margin] = 0\n",
    "    seq_I[-calibration_sequence_margin:]= 0\n",
    "    seq_Q[:calibration_sequence_margin] = 0\n",
    "    seq_Q[-calibration_sequence_margin:]= 0\n",
    "    seq_I_full = np.asarray([0]*physical_delay+seq_I.tolist())\n",
    "    seq_Q_full = np.asarray([0]*physical_delay+seq_Q.tolist())\n",
    "    waveforms_I[random_sequence_id, :] = seq_I_full\n",
    "    waveforms_Q[random_sequence_id, :] = seq_Q_full\n",
    "    for amp_I_id, amp_I in enumerate(amplitudes):\n",
    "        awg_device.set_waveform(seq_I*amplitudes[amp_I_id], channel=awg_channel_I)\n",
    "        for amp_Q_id, amp_Q in enumerate(amplitudes):\n",
    "            awg_device.set_waveform(seq_Q*amplitudes[amp_Q_id], channel=awg_channel_Q)\n",
    "            awg_device.run()\n",
    "            spectra[amp_I_id, amp_Q_id, random_sequence_id, :] = 10**(sa.measure()['Power']/10)\n",
    "            awg_device.stop()\n"
   ]
  },
  {
   "cell_type": "code",
   "execution_count": null,
   "metadata": {},
   "outputs": [],
   "source": [
    "model_I = np.fft.fftshift(np.fft.fft(np.fft.fftshift(waveforms_I, axes=1), axis=1, norm='ortho'), axes=1) # in Watts\n",
    "model_Q = np.fft.fftshift(np.fft.fft(np.fft.fftshift(waveforms_Q, axes=1), axis=1, norm='ortho'), axes=1) # in Watts\n",
    "iq_phase_diff = np.exp(1j*np.angle(model_I*np.conj(model_Q)))\n",
    "model_I_psd = np.abs(model_I)**2\n",
    "model_Q_psd = np.abs(model_Q)**2\n",
    "model_IQp_psd = np.abs(model_I+1j*model_Q)**2\n",
    "model_IQn_psd = np.abs(model_I-1j*model_Q)**2\n",
    "\n",
    "mean_model_I_psd = np.mean(model_I_psd, axis=0)\n",
    "mean_model_Q_psd = np.mean(model_Q_psd, axis=0)\n",
    "\n",
    "mean_measurement_I_psd = np.mean(spectra[amplitude_small_id, amplitude_zero_id, :, :], axis=0)\n",
    "mean_measurement_Q_psd = np.mean(spectra[amplitude_zero_id, amplitude_small_id, :, :], axis=0)\n",
    "\n",
    "mean_measurement_I_abs = np.mean(np.sqrt(spectra[amplitude_small_id, amplitude_zero_id, :, :]), axis=0)\n",
    "mean_measurement_Q_abs = np.mean(np.sqrt(spectra[amplitude_zero_id, amplitude_small_id, :, :]), axis=0)\n",
    "\n",
    "response_function_I_abs = np.sqrt(mean_measurement_I_psd/(mean_model_I_psd*amplitudes[amplitude_small_id]**2))\n",
    "response_function_Q_abs = np.sqrt(mean_measurement_Q_psd/(mean_model_Q_psd*amplitudes[amplitude_small_id]**2))\n",
    "\n",
    "interference_term = (spectra[amplitude_small_id, amplitude_small_id, :, :]-\\\n",
    "                     spectra[amplitude_small_id, amplitude_zero_id, :, :]-\\\n",
    "                     spectra[amplitude_zero_id, amplitude_small_id, :, :])\n",
    "theory_interference_term = 2*np.sqrt(spectra[amplitude_zero_id, amplitude_small_id, :, :]\\\n",
    "                          *spectra[amplitude_small_id, amplitude_zero_id, :, :])\n",
    "                          \n",
    "interference_term_response = interference_term/theory_interference_term\n",
    "interference_term_exp = (interference_term_response+1j*np.sqrt(1-interference_term_response**2))*iq_phase_diff\n",
    "interference_term_cexp = (interference_term_response-1j*np.sqrt(1-interference_term_response**2))*iq_phase_diff\n",
    "interference_term_response[np.abs(theory_interference_term)<np.percentile(np.abs(theory_interference_term), 5)]=np.nan\n",
    "interference_term_exp[np.abs(theory_interference_term)<np.percentile(np.abs(theory_interference_term), 5)]=np.nan\n",
    "interference_term_cexp[np.abs(theory_interference_term)<np.percentile(np.abs(theory_interference_term), 5)]=np.nan\n",
    "\n",
    "interference_term_response_mean = np.nanmean(interference_term_response*iq_phase_diff, axis=0)\n",
    "interference_term_exp_mean = np.nanmean(interference_term_response, axis=0)\n",
    "interference_term_cexp_mean = np.nanmean(interference_term_response, axis=0)\n",
    "\n",
    "sorted_phases = np.sort(np.angle(np.vstack([interference_term_cexp, interference_term_exp])), axis=0)\n",
    "response_phase = []\n",
    "for frequency_id in range(sorted_phases.shape[1]):\n",
    "    points_current = sorted_phases[:, frequency_id]\n",
    "    points_current = points_current[np.logical_not(np.isnan(points_current))].tolist()\n",
    "    num_point_initial = len(points_current)\n",
    "    for removed_point_id in range(int(num_point_initial/2)+2):\n",
    "        if np.median(points_current)-points_current[0]>points_current[-1]-np.median(points_current):\n",
    "            del points_current[0]\n",
    "        else:\n",
    "            del points_current[-1]\n",
    "    response_phase.append(np.mean(points_current))\n",
    "response_phase = np.asarray(response_phase)"
   ]
  },
  {
   "cell_type": "code",
   "execution_count": null,
   "metadata": {},
   "outputs": [],
   "source": [
    "linear_model = np.abs(amplitudes[amplitude_small_id]*\\\n",
    "                      (model_I*response_function_I_abs+model_Q*response_function_Q_abs*np.exp(1j*response_phase)))**2\n",
    "measurement = spectra[amplitude_small_id, amplitude_small_id, :, :]\n",
    "plt.figure()\n",
    "plt.semilogy(linear_model[0,:])\n",
    "plt.semilogy(measurement[0,:])"
   ]
  },
  {
   "cell_type": "code",
   "execution_count": null,
   "metadata": {},
   "outputs": [],
   "source": [
    "plt.figure()\n",
    "plt.plot(response_function_I_abs)\n",
    "plt.plot(response_function_Q_abs)\n",
    "plt.figure()\n",
    "plt.plot(response_phase)\n",
    "plt.figure()\n",
    "plt.plot(np.nanmedian(np.angle(np.vstack([interference_term_cexp, interference_term_exp])), axis=0))\n",
    "\n",
    "stat = np.angle(np.vstack([interference_term_cexp, interference_term_exp]))\n",
    "stat[np.isnan(stat)]=0\n",
    "\n",
    "hist = [np.histogram(stat[:, i], bins=np.linspace(-np.pi, np.pi, 40, endpoint=False))[0] for i in range(2000)]\n",
    "\n",
    "plt.figure()\n",
    "plt.pcolormesh(hist)x\n",
    "\n",
    "plt.figure()\n",
    "plt.plot(interference_term_cexp[0,:])\n",
    "plt.plot(interference_term_exp[0,:])\n",
    "\n",
    "plt.figure()\n",
    "plt.plot((interference_term_response*iq_phase_diff).T)\n",
    "\n",
    "plt.figure()\n",
    "plt.plot(np.angle(interference_term_response_mean))\n",
    "plt.plot(np.angle(interference_term_exp_mean))\n",
    "plt.plot(np.angle(interference_term_cexp_mean))\n",
    "#plt.plot(np.angle(interference_term_response_mean2))"
   ]
  },
  {
   "cell_type": "markdown",
   "metadata": {},
   "source": [
    "# Стрёмная хрень"
   ]
  },
  {
   "cell_type": "code",
   "execution_count": null,
   "metadata": {},
   "outputs": [],
   "source": [
    "ex_channels =    ['iq_ex{}_q{}_F01_min'.format(coil_id, q_id)                                  for q_id, q in qubits.items()  for coil_id in [1,2,3]]\n",
    "ex_amplitudes =  {'iq_ex{}_q{}_F01_min'.format(coil_id, q_id):1                                for q_id, q in qubits.items()  for coil_id in [1,2,3]}\n",
    "ex_ro_channels = {'iq_ex{}_q{}_F01_min'.format(coil_id, q_id):'iq_ro_q{}'.format(q_id)         for q_id, q in qubits.items()  for coil_id in [1,2,3]}\n",
    "working_points = {'iq_ex{}_q{}_F01_min'.format(coil_id, q_id):q['q']['P']['Fmin_coil_currents'] for q_id, q in qubits.items() for coil_id in [1,2,3]}\n",
    "ro_amplitudes =  {'iq_ex1_q1_F01_min':0.16,\n",
    "                  'iq_ex1_q2_F01_min':0.16,\n",
    "                  'iq_ex1_q3_F01_min':0.16,\n",
    "                  'iq_ex2_q1_F01_min':0.16,\n",
    "                  'iq_ex2_q2_F01_min':0.16,\n",
    "                  'iq_ex2_q3_F01_min':0.16,\n",
    "                  'iq_ex3_q1_F01_min':0.16,\n",
    "                  'iq_ex3_q2_F01_min':0.16,\n",
    "                  'iq_ex3_q3_F01_min':0.16}\n",
    "#coils =          {'iq_ex_q1_F01_min':0,'iq_ex_q2_F01_min':2,'iq_ex_q3_F01_min':4}\n",
    "coils =          {'iq_ex1_q1_F01_min':1,\n",
    "                  'iq_ex1_q2_F01_min':2,\n",
    "                  'iq_ex1_q3_F01_min':3,\n",
    "                  'iq_ex2_q1_F01_min':1,\n",
    "                  'iq_ex2_q2_F01_min':2,\n",
    "                  'iq_ex2_q3_F01_min':3,\n",
    "                  'iq_ex3_q1_F01_min':1,\n",
    "                  'iq_ex3_q2_F01_min':2,\n",
    "                  'iq_ex3_q3_F01_min':3,}\n",
    "\n",
    "rabi_lengths =   {'iq_ex{}_q{}_F01_min'.format(coil_id, q_id):np.arange(0., 200e-9, 2e-9)      for q_id, q in qubits.items() for coil_id in [1,2,3]}\n",
    "delaysT2_coherence = {'iq_ex{}_q{}_F01_min'.format(coil_id, q_id):np.arange(0., 3e-6, 10e-9)   for q_id, q in qubits.items() for coil_id in [1,2,3]}\n",
    "#delaysT2_coherence = {'iq_ex_q{}_F01_min'.format(q_id):np.arange(0, 200e-9, 2e-9)   for q_id, q in qubits.items()}\n",
    "fitters = {}\n",
    "adc_reducers_chan = {}\n",
    "for coil_id in [1,2,3]:\n",
    "    for q_id, q in qubits.items():\n",
    "        ro_meas_name = 'S21_r{}'.format(q_id)\n",
    "        adc_reducers_chan['iq_ex{}_q{}_F01_min'.format(coil_id, q_id)] = adc_reducers[q_id]\n",
    "        fitters['iq_ex{}_q{}_F01_min'.format(coil_id, q_id)] = lambda x,y,ro_meas_name=ro_meas_name: fitting.fit1d(x,y,ro_meas_name)\n",
    "\n",
    "#rabi_lengths = np.arange(0., 2000e-9, 5e-9)\n",
    "delaysT2 = np.arange(0, 400e-9, 4e-9)\n",
    "target_freq_offset = -30e6\n",
    "#delaysT2_coherence = np.arange(0, 5000e-9, 10e-9)\n",
    "target_freq_offset_coherence = -5e6\n",
    "delaysT1 = np.arange(0, 10e-6,0.1e-6)"
   ]
  },
  {
   "cell_type": "code",
   "execution_count": null,
   "metadata": {},
   "outputs": [],
   "source": [
    "readout_pulse = [ pg.pmulti(ro_dac_length, ('iq_ro_q1', pg.rect, 0.16), ('iq_ro_q2', pg.rect, 0.16), ('iq_ro_q3', pg.rect, 0.16)) ]\n",
    "twos = {ex_channel:dyn.quantum_two_level_dynamics(pg,\n",
    "                                           adc_reducer, #adc_reducers_chan[ex_channel],\n",
    "                                           ex_channel=ex_channel,\n",
    "                                           ro_channel=ex_ro_channels[ex_channel],\n",
    "                                           ro_sequence=(trigger_readout_seq+\\\n",
    "                            #[pg.p(ex_ro_channels[ex_channel], ro_dac_length, pg.rect, ro_amplitudes[ex_channel])]\n",
    "                                                       readout_pulse),\n",
    "                                           ex_amplitude=ex_amplitudes[ex_channel],\n",
    "                                           fitter=fitters[ex_channel], \n",
    "                                           shuffle=False,\n",
    "                                           qubit_id=qubit_id) for ex_channel in ex_channels}\n",
    "#twos = {'iq_ex_q3_F01_min':dyn.quantum_two_level_dynamics(pg,\n",
    "#                                           adc_reducer,\n",
    "#                                           ex_channel='iq_ex_q3_F01_min',\n",
    "#                                           ro_channel=ex_ro_channels['iq_ex_q3_F01_min'],\n",
    "#                                           ro_sequence=(trigger_readout_seq+\\\n",
    "#                            [pg.p(ex_ro_channels['iq_ex_q3_F01_min'], ro_dac_length, pg.rect, ro_amplitudes['iq_ex_q3_F01_min'])]),\n",
    "#                                           ex_amplitude=ex_amplitudes['iq_ex_q3_F01_min'],\n",
    "#                                           fitter=fitters['iq_ex_q3_F01_min'], \n",
    "#                                           shuffle=True,\n",
    "#                                           qubit_id=qubit_id)}"
   ]
  },
  {
   "cell_type": "code",
   "execution_count": null,
   "metadata": {
    "scrolled": true
   },
   "outputs": [],
   "source": [
    "#%%mprun -f two_diffs[0].Rabi_rect -f two_diffs[0].Ramsey -f two_diffs[0].decay -f two_diffs[0].spin_echo -f sweep.sweep -f diff_adc_reducer.measure\n",
    "#dac.set_voltage(1.772, channel=0)\n",
    "\n",
    "two_diffs = twos\n",
    "imp.reload(plotting)\n",
    "iters = 1\n",
    "for _iter in range(iters):\n",
    "    for ex_channel, two_diff in two_diffs.items():\n",
    "        #dac = nndac('TCPIP0::10.20.61.12::1000::SOCKET')\n",
    "        if ex_channel == 'iq_ex2_q2_F01_min':\n",
    "            if (#ex_channel == 'iq_ex1_q1_F01_min' or \n",
    "                ex_channel == 'iq_ex2_q1_F01_min' or \n",
    "                ex_channel == 'iq_ex3_q1_F01_min'):# or ex_channel == 'iq_ex_q2_F01_min'):\n",
    "                continue\n",
    "            if (ex_channel == 'iq_ex1_q2_F01_min' or \n",
    "                ex_channel == 'iq_ex2_q2_F01_min' or \n",
    "                ex_channel == 'iq_ex3_q2_F01_min'):# or ex_channel == 'iq_ex_q2_F01_min'):\n",
    "                continue\n",
    "            if (ex_channel == 'iq_ex1_q3_F01_min' or \n",
    "                ex_channel == 'iq_ex2_q3_F01_min'\n",
    "                ):# or ex_channel == 'iq_ex_q2_F01_min'):\n",
    "                continue\n",
    "            for nndac_channel_id, channel_voltage in working_points[ex_channel].items():\n",
    "                coil_device.set_offset(channel_voltage, channel=nndac_channel_id)\n",
    "            coil = coils[ex_channel]\n",
    "            #voltages = working_points[ex_channel][coil]+np.linspace(-0.010, 0.010, 11)\n",
    "            #plt.close('all')\n",
    "\n",
    "            two_diff.Rabi_rect(rabi_lengths[ex_channel])\n",
    "        else:\n",
    "            continue\n",
    "            #two_diff.Ramsey(delaysT2, target_freq_offset)\n",
    "        two_diff.Ramsey(delaysT2_coherence[ex_channel],target_freq_offset_coherence)\n",
    "        #two_diff.decay(delaysT1)\n",
    "        #two_diff.spin_echo(delaysT2_coherence[ex_channel],target_freq_offset_coherence)\n",
    "        #plt.close('all')\n",
    "        \n",
    "        def voltage_setter(x):\n",
    "            awg_tek.stop()\n",
    "            coil_device.set_offset(x, channel=coil)\n",
    "            awg_tek.run()\n",
    "        \n",
    "        #two_diff.Ramsey(delaysT2_coherence[ex_channel],target_freq_offset_coherence, \n",
    "        #            (voltages, voltage_setter,  'Coil #{} voltage'.format(coil)))\n",
    "        #two_diff.decay(delaysT1, \n",
    "        #            (voltages, lambda x: dac.set_voltage(x, channel=coil), 'Coil #{} voltage'.format(coil)))\n",
    "        #two_diff.spin_echo(delaysT2_coherence[ex_channel],target_freq_offset_coherence, \n",
    "        #            (voltages, lambda x: dac.set_voltage(x, channel=coil), 'Coil #{} voltage'.format(coil)))"
   ]
  },
  {
   "cell_type": "code",
   "execution_count": null,
   "metadata": {},
   "outputs": [],
   "source": [
    "#%%mprun -f two_diffs[0].Rabi_rect -f two_diffs[0].Ramsey -f two_diffs[0].decay -f two_diffs[0].spin_echo -f sweep.sweep -f diff_adc_reducer.measure\n",
    "#dac.set_voltage(1.772, channel=0)\n",
    "\n",
    "two_diffs = twos\n",
    "imp.reload(plotting)\n",
    "iters = 1\n",
    "for _iter in range(iters):\n",
    "    for ex_channel, two_diff in two_diffs.items():\n",
    "        #dac = nndac('TCPIP0::10.20.61.12::1000::SOCKET')\n",
    "        if ex_channel == 'iq_ex2_q2_F01_min':\n",
    "            if (#ex_channel == 'iq_ex1_q1_F01_min' or \n",
    "                ex_channel == 'iq_ex2_q1_F01_min' or \n",
    "                ex_channel == 'iq_ex3_q1_F01_min'):# or ex_channel == 'iq_ex_q2_F01_min'):\n",
    "                continue\n",
    "            if (ex_channel == 'iq_ex1_q2_F01_min' or \n",
    "                ex_channel == 'iq_ex2_q2_F01_min' or \n",
    "                ex_channel == 'iq_ex3_q2_F01_min'):# or ex_channel == 'iq_ex_q2_F01_min'):\n",
    "                continue\n",
    "            if (ex_channel == 'iq_ex1_q3_F01_min' or \n",
    "                ex_channel == 'iq_ex2_q3_F01_min'\n",
    "                ):# or ex_channel == 'iq_ex_q2_F01_min'):\n",
    "                continue\n",
    "            for nndac_channel_id, channel_voltage in working_points[ex_channel].items():\n",
    "                coil_device.set_offset(channel_voltage, channel=nndac_channel_id)\n",
    "            coil = coils[ex_channel]\n",
    "            #voltages = working_points[ex_channel][coil]+np.linspace(-0.010, 0.010, 11)\n",
    "            #plt.close('all')\n",
    "\n",
    "            two_diff.Rabi_rect(rabi_lengths[ex_channel])\n",
    "        else:\n",
    "            continue\n",
    "            #two_diff.Ramsey(delaysT2, target_freq_offset)\n",
    "        two_diff.Ramsey(delaysT2_coherence[ex_channel],target_freq_offset_coherence)\n",
    "        #two_diff.decay(delaysT1)\n",
    "        #two_diff.spin_echo(delaysT2_coherence[ex_channel],target_freq_offset_coherence)\n",
    "        #plt.close('all')\n",
    "        \n",
    "        def voltage_setter(x):\n",
    "            awg_tek.stop()\n",
    "            coil_device.set_offset(x, channel=coil)\n",
    "            awg_tek.run()\n",
    "        \n",
    "        #two_diff.Ramsey(delaysT2_coherence[ex_channel],target_freq_offset_coherence, \n",
    "        #            (voltages, voltage_setter,  'Coil #{} voltage'.format(coil)))\n",
    "        #two_diff.decay(delaysT1, \n",
    "        #            (voltages, lambda x: dac.set_voltage(x, channel=coil), 'Coil #{} voltage'.format(coil)))\n",
    "        #two_diff.spin_echo(delaysT2_coherence[ex_channel],target_freq_offset_coherence, \n",
    "        #            (voltages, lambda x: dac.set_voltage(x, channel=coil), 'Coil #{} voltage'.format(coil)))"
   ]
  },
  {
   "cell_type": "code",
   "execution_count": null,
   "metadata": {},
   "outputs": [],
   "source": [
    "#%%mprun -f two_diffs[0].Rabi_rect -f two_diffs[0].Ramsey -f two_diffs[0].decay -f two_diffs[0].spin_echo -f sweep.sweep -f diff_adc_reducer.measure\n",
    "#dac.set_voltage(1.772, channel=0)\n",
    "\n",
    "two_diffs = twos\n",
    "imp.reload(plotting)\n",
    "ex_channels_opt = ['iq_ex1_q1_F01_min', 'iq_ex3_q3_F01_min']\n",
    "squids = {'iq_ex1_q1_F01_min':1, 'iq_ex3_q3_F01_min':1}\n",
    "flux_deltas = np.linspace(-0.01, 0.01, 11)\n",
    "for working_point_id, working_point_flux in enumerate(working_points_flux):\n",
    "    for ex_channel, two_diff in two_diffs.items():\n",
    "        if ex_channel not in ex_channels_opt:\n",
    "            continue\n",
    "        two_diff.measurement_name_comment = 'WP2Q-{}'.format(working_point_flux[1])\n",
    "        \n",
    "        coil_voltages = np.dot(np.linalg.inv(L_mat), -np.asarray(phi0_vec)+np.asarray(working_point_flux))\n",
    "        for coil_id, coil_voltage in enumerate(coil_voltages):\n",
    "            coil_device.set_offset(coil_voltage, channel=coil_control_channels[coil_id])\n",
    "\n",
    "        def principal_flux_setter(x):\n",
    "            fluxes = np.asarray(working_point_flux)\n",
    "            fluxes[squids[ex_channel]] = working_point_flux[squids[ex_channel]]+x\n",
    "            coil_voltages = np.dot(np.linalg.inv(L_mat), -np.asarray(phi0_vec)+fluxes) \n",
    "            awg_tek.stop()\n",
    "            for coil_id, coil in enumerate(coil_control_channels):\n",
    "                coil_device.set_offset(coil_voltages[coil_id], channel=coil)\n",
    "            awg_tek.run()\n",
    "\n",
    "        two_diff.Rabi_rect(rabi_lengths[ex_channel])\n",
    "        two_diff.Ramsey(delaysT2_coherence[ex_channel],target_freq_offset_coherence)\n",
    "            \n",
    "        #two_diff.Ramsey(delaysT2_coherence[ex_channel],target_freq_offset_coherence, \n",
    "        #            (flux_deltas, principal_flux_setter,  'SQUID #{} voltage'.format(squids[ex_channel])))\n",
    "        #two_diff.decay(delaysT1, \n",
    "        #            (voltages, lambda x: dac.set_voltage(x, channel=coil), 'Coil #{} voltage'.format(coil)))\n",
    "        #two_diff.spin_echo(delaysT2_coherence[ex_channel],target_freq_offset_coherence, \n",
    "        #            (voltages, lambda x: dac.set_voltage(x, channel=coil), 'Coil #{} voltage'.format(coil)))"
   ]
  },
  {
   "cell_type": "code",
   "execution_count": null,
   "metadata": {},
   "outputs": [],
   "source": []
  },
  {
   "cell_type": "code",
   "execution_count": null,
   "metadata": {},
   "outputs": [],
   "source": [
    " def Rabi_amplitudes_calibration(self,num_pulses_array,ex_amps,chid):\n",
    "        \n",
    "        from scipy.optimize import curve_fit\n",
    "        pg=self.pulse_sequencer\n",
    "        sequence=[]\n",
    "        def set_seq():\n",
    "            pg.set_seq(sequence)\n",
    "        if hasattr(self.readout_device, 'diff_setter'): # if this is a sifferential measurer\n",
    "            self.readout_device.diff_setter = set_seq # set the measurer's diff setter\n",
    "            self.readout_device.zero_setter = self.set_zero_sequence # for diff_readout\n",
    "        def set_ex_amp(amp,num_pulses):\n",
    "            nonlocal sequence\n",
    "            sequence = [pg.p(self.ex_channel, self.length, pg.gauss_hd, amp, self.sigma, self.alpha)]*num_pulses+\\\n",
    "                        self.ro_sequence\n",
    "            if not hasattr(self.readout_device, 'diff_setter'): # if this is a sifferential measurer\n",
    "                set_seq()\n",
    "\n",
    "        def func(x,a,b,c):\n",
    "            return a*x**2+c*x+b\n",
    "\n",
    "        def func_for_fit_cal(x,a,b,c):\n",
    "            return a*x**(5/3)+b*x**(4/3)+c\n",
    "\n",
    "        def fit_cal(data):\n",
    "            x = [data[i][0] for i in range(len(data))]\n",
    "            y = [data[i][1] for i in range(len(data))]\n",
    "            popt = curve_fit(func_for_fit_cal,x,y)[0]\n",
    "            angles = np.linspace(x[np.argmin(x)],x[np.argmax(x)],1000)\n",
    "            amps = func_for_fit_cal(angles,popt[0],popt[1],popt[2])\n",
    "            return angles,amps,[popt[0],popt[1],popt[2]]\n",
    "\n",
    "        def find_max(x,y, measurement_name,root_dir):\n",
    "            print(y)\n",
    "            popt=curve_fit(func,x,y)[0]\n",
    "            n1 = np.linspace(x[np.argmin(x)],x[np.argmax(x)],100)\n",
    "            n2 = func(n1,popt[0],popt[1],popt[2])\n",
    "            plotting.plot_measurement((n1,n2), measurement_name,save=root_dir,subplots=True)\n",
    "            max_amp=n1[np.argmax(n2)]\n",
    "            return max_amp\n",
    "\n",
    "        def first_sweep(num_pulses,ex_amps,chid):# in order to find a period between first two peaks\n",
    "            set_ex_first = lambda amp: set_ex_amp(amp,num_pulses)\n",
    "            print('ya tut first sweep')\n",
    "            measurement_name = 'Rabi pulse amplitude calib first'\n",
    "            root_dir, day_folder_name, time_folder_name = save_pkl.get_location()\n",
    "            root_dir = '{}/{}/{}-{}'.format(root_dir, day_folder_name, time_folder_name, measurement_name)\n",
    "            measurement = sweep.sweep(self.readout_device, \n",
    "                                      (ex_amps, set_ex_first, 'Rabi pulse amplitude calib'), \n",
    "                                      filename=measurement_name, \n",
    "                                      shuffle=self.shuffle, \n",
    "                                      root_dir = root_dir,\n",
    "                                      plot_separate_thread= self.plot_separate_thread,\n",
    "                                      plot=self.plot)\n",
    "            x = measurement['S21_r'+str(chid)][1][0]\n",
    "            y = (np.real(measurement['S21_r'+str(chid)][2]),np.imag(measurement['S21_r'+str(chid)][2]))\n",
    "            fit= sin_fit(x,y)[0]\n",
    "            measurement_fitted, fitted_parameters_rabi = fitting.S21pm_fit(measurement, fitting.exp_sin_fit)\n",
    "            annotation = 'Phase: {0:4.4g} rad, Freq: {1:4.4g}, Decay: {2:4.4g} s'.format(fitted_parameters_rabi['phase'], \n",
    "                                                                             fitted_parameters_rabi['freq'], \n",
    "                                                                             fitted_parameters_rabi['decay'])\n",
    "            save_pkl.save_pkl({'type':'Rabi'}, measurement_fitted,annotation=annotation)\n",
    "            x_max_0,x_min_0=(np.pi-fit[0])/(2*np.pi*fit[1]),(np.pi*4/2-fit[0])/(2*np.pi*fit[1])\n",
    "            cut=np.abs((x_max_0-x_min_0))/4\n",
    "            ex_amps=np.linspace(x_max_0-cut,x_max_0+cut,10)\n",
    "            if min(ex_amps)<=0:\n",
    "                ex_amps=np.linspace(0.03,x_max_0+cut,10)\n",
    "            T0=1/fit[1]\n",
    "            print(T0)\n",
    "            return T0,cut,ex_amps\n",
    "\n",
    "        def set_amps(num_pulses,ex_amps_first,chid):\n",
    "            T0,cut,ex_amps = first_sweep(num_pulses,ex_amps_first,chid)\n",
    "            amp_for_angle=[]\n",
    "            k=0\n",
    "            set_ex_next = lambda amp: set_ex_amp(amp,num_pulses)\n",
    "            for i in range(int(num_pulses/2)):\n",
    "                measurement_name = 'Rabi pulse amplitude calib first'\n",
    "                root_dir, day_folder_name, time_folder_name = save_pkl.get_location()\n",
    "                root_dir = '{}/{}/{}-{}'.format(root_dir, day_folder_name, time_folder_name, measurement_name)\n",
    "                measurement = sweep.sweep(self.readout_device, \n",
    "                                          (ex_amps, set_ex_next, 'Rabi pulse amplitude calib'), \n",
    "                                          filename=measurement_name, \n",
    "                                          shuffle=self.shuffle, \n",
    "                                          root_dir = root_dir,\n",
    "                                          plot_separate_thread= self.plot_separate_thread,\n",
    "                                          plot=self.plot)\n",
    "                x = measurement['S21_r'+str(chid)][1][0]\n",
    "                #y = (np.real(measurement['S21_r'+str(chid)][2]),np.imag(measurement['S21_r'+str(chid)][2]))\n",
    "                y=np.real(measurement['S21_r'+str(chid)][2])\n",
    "                max_amp=find_max(x,y)\n",
    "                amp_for_angle.append([(1+2*i),max_amp])\n",
    "                if k>0:\n",
    "                    T=amp_for_angle[i][1]-amp_for_angle[i-1][1]\n",
    "                    print(T)\n",
    "                    ex_amps=np.linspace(max_amp+T-cut,max_amp+T+cut,10)\n",
    "                else:\n",
    "                    ex_amps=np.linspace(max_amp+T0-cut,max_amp+T0+cut,10)\n",
    "                    k=1\n",
    "                print('angle: {}pi, amplitude: {}'.format((1+2*i)/num_pulses,max_amp))\n",
    "                print(max(ex_amps))\n",
    "                if max(ex_amps)>=1:\n",
    "                    break\n",
    "            return amp_for_angle\n",
    "#         \n",
    "        amps=set_amps(num_pulses_array,ex_amps,chid)\n",
    "        angles_curve = fit_cal(amps)\n",
    "        x=angles_curve[0]\n",
    "        y=angles_curve[1]\n",
    "        params_of_fit=angles_curve[2]\n",
    "        plt.figure()\n",
    "        plt.plot(x,y,\"-\")\n",
    "        plt.plot([amps[0][0],amps[1][0]],[amps[0][1],amps[1][1]])\n",
    "        plt.plot([amps[i][0] for i in range(len(amps))],[amps[i][1] for i in range(len(amps))],'o')\n",
    "        plt.show()\n",
    "        return x,y,amps\n",
    "   "
   ]
  },
  {
   "cell_type": "markdown",
   "metadata": {},
   "source": [
    "## Finding amplitude for compensation via amplitude scan"
   ]
  },
  {
   "cell_type": "code",
   "execution_count": null,
   "metadata": {
    "scrolled": true
   },
   "outputs": [],
   "source": [
    "rabi_period_nums = np.asarray([1,2,4,8,16])\n",
    "ramsey_period_nums=np.asarray([1,2,4,8,16,32,64])\n",
    "amplitude_scan_points = 11\n",
    "phase_scan_points = 20\n",
    "control_target_tld = {}\n",
    "for _q_id, q_id in enumerate(calibrated_qubits):\n",
    "    control_target_tld[q_id] = {}\n",
    "    for _qc_id, qc_id in enumerate(calibrated_qubits):\n",
    "        qubit_coil_tld[q_id][main_rf_coils[qc_id]].load_calibration()\n",
    "        qubit_coil_tld[q_id][main_rf_coils[q_id]].load_calibration()\n",
    "        if q_id == qc_id:\n",
    "            control_target_tld[q_id][qc_id] = qubit_coil_tld[q_id][main_rf_coils[q_id]]\n",
    "        if q_id != qc_id:\n",
    "            target_freq = np.min([Rabi_results[q_id][main_rf_coils[q_id]]['rabi_rect_freq'], \n",
    "                                 Rabi_results[q_id][main_rf_coils[qc_id]]['rabi_rect_freq']])            \n",
    "            amplitude_guess = Rabi_results[q_id][main_rf_coils[q_id]]['rabi_rect_freq']\\\n",
    "                                   /Rabi_results[q_id][main_rf_coils[qc_id]]['rabi_rect_freq']\\\n",
    "                                    *qubit_coil_tld[q_id][main_rf_coils[q_id]].ex_amplitudes[0]\n",
    "            measurement_name = 'S21_r'+str(q_id)\n",
    "            if Rabi_results[q_id][main_rf_coils[q_id]]['rabi_rect_freq'] <\\\n",
    "               Rabi_results[q_id][main_rf_coils[qc_id]]['rabi_rect_freq']:\n",
    "                ex_channel = qubit_coil_tld[q_id][main_rf_coils[qc_id]].ex_channels[0]\n",
    "                comp_ex_channel = qubit_coil_tld[q_id][main_rf_coils[q_id]].ex_channels[0]\n",
    "                comp_amplitude = qubit_coil_tld[q_id][main_rf_coils[q_id]].ex_amplitudes[0]\n",
    "            else:\n",
    "                ex_channel = qubit_coil_tld[q_id][main_rf_coils[q_id]].ex_channels[0]\n",
    "                comp_ex_channel = qubit_coil_tld[q_id][main_rf_coils[qc_id]].ex_channels[0]\n",
    "                amplitude_guess = Rabi_results[q_id][main_rf_coils[qc_id]]['rabi_rect_freq']\\\n",
    "                                 /Rabi_results[q_id][main_rf_coils[q_id]]['rabi_rect_freq']\\\n",
    "                                 *qubit_coil_tld[q_id][main_rf_coils[qc_id]].ex_amplitudes[0]\n",
    "                comp_amplitude = qubit_coil_tld[q_id][main_rf_coils[qc_id]].ex_amplitudes[0]\n",
    "            \n",
    "            #print ('Rabi_results[q_id][main_rf_coils[q_id]][\\'rabi_rect_freq\\'] was ', \\\n",
    "            #        Rabi_results[q_id][main_rf_coils[q_id]]['rabi_rect_freq'])\n",
    "            #print ('Rabi_results[q_id][main_rf_coils[qc_id]][\\'rabi_rect_freq\\'] was ', \\\n",
    "            #        Rabi_results[q_id][main_rf_coils[qc_id]]['rabi_rect_freq'])\n",
    "            #print ('target_freq is ', target_freq)\n",
    "            #print ('Amplitude ratio guess is ', amplitude_guess)\n",
    "            #print ('ex_Channel is ', ex_channel)\n",
    "            \n",
    "            thermal_state_readout_result = np.complex(*tuple(Rabi_results[q_id][main_rf_coils[q_id]]['rabi_rect_initial_points']))\n",
    "            control_target_tld[q_id][qc_id] = dyn.quantum_two_level_dynamics(pg,\n",
    "                                               adc_reducer, #adc_reducers_chan[ex_channel],\n",
    "                                               ex_channel=[ex_channel],\n",
    "                                               ro_channel='iq_ro_q{}'.format(q_id),\n",
    "                                               ro_sequence=(trigger_readout_seq+readout_pulse),\n",
    "                                               ex_amplitude=[1.0],\n",
    "                                               fitter=fitters[q_id], \n",
    "                                               shuffle=False,\n",
    "                                               qubit_id=q_id)\n",
    "            \n",
    "            # guess from rabi freq in preliminary scan\n",
    "            for rabi_period_num_id, rabi_period_num in enumerate(rabi_period_nums):\n",
    "                amplitude_range = np.linspace(-amplitude_guess/(2*rabi_period_num),\n",
    "                                                     amplitude_guess/(2*rabi_period_num),\n",
    "                                                     amplitude_scan_points)+amplitude_guess\n",
    "                pulse_length = rabi_period_num/target_freq\n",
    "                measurement = control_target_tld[q_id][qc_id].Rabi_rect_amplitude(\\\n",
    "                                                    amplitude_range, pulse_length)[measurement_name]\n",
    "                #print (measurement[1][0])\n",
    "                #print (measurement[2])\n",
    "                #print (np.abs(measurement[2]-thermal_state_readout_result))\n",
    "                amplitude_guess = measurement[1][0][np.argmin(np.abs(measurement[2]-thermal_state_readout_result))]\n",
    "            \n",
    "            control_target_tld[q_id][qc_id].ex_amplitudes[0] = amplitude_guess\n",
    "            \n",
    "            phase_guess = 0\n",
    "            for ramsey_period_num_id, ramsey_period_num in enumerate(ramsey_period_nums):\n",
    "                ## doing a phase scan\n",
    "                phase_range = np.arange(-0.5,0.5,1/phase_scan_points)*2*np.pi/ramsey_period_num+phase_guess\n",
    "                def set_pulses_with_phases(phase):\n",
    "                    seq = [pg.pmulti(ramsey_period_num/target_freq/4,\n",
    "                                     (ex_channel, pg.rect, amplitude_guess),\n",
    "                                     (comp_ex_channel, pg.rect, np.exp(1j*phase)*comp_amplitude))]+trigger_readout_seq+readout_pulse\n",
    "                    pg.set_seq(seq)\n",
    "                measurement = sweep.sweep(adc_reducer, \n",
    "                                                (phase_range, set_pulses_with_phases, 'Compensation phase'),\n",
    "                                                filename='Compensation pulse phase scan')[measurement_name]\n",
    "                phase_guess = measurement[1][0][np.argmin(np.abs(measurement[2]-thermal_state_readout_result))]\n",
    "            \n",
    "            control_target_tld[q_id][qc_id].ex_channels = (ex_channel, comp_ex_channel)\n",
    "            control_target_tld[q_id][qc_id].ex_amplitudes = (amplitude_guess, np.exp(1j*phase_guess)*comp_amplitude)\n",
    "                "
   ]
  },
  {
   "cell_type": "markdown",
   "metadata": {},
   "source": [
    "## Qubit-calibrated coils superpositions"
   ]
  },
  {
   "cell_type": "code",
   "execution_count": null,
   "metadata": {},
   "outputs": [],
   "source": [
    "qubit_coil_rabi_matrix = {}#{q_id:{} for q_id in calibrated_qubits}\n",
    "#_CR_matrix_np = np.zeros((len(calibrated_qubits), len(rf_coils)),dtype=np.complex)\n",
    "qubit_ramsey_phase_inv = {}\n",
    "CR_matrix = {} #\n",
    "control_target_tld = {}\n",
    "for _q_id, q_id in enumerate(calibrated_qubits):\n",
    "    qubit_coil_rabi_matrix[q_id] = {}\n",
    "    qubit_ramsey_phase_inv[q_id] = (np.real(np.exp(1j*Ramsey_results[q_id][q_id]['ramsey_phase']))<0)*2-1\n",
    "    # +1 if ramsey phase starts with pi, -1 if it starts with 0.\n",
    "    CR_matrix[q_id] = {}\n",
    "    control_target_tld[q_id] = {}\n",
    "    for _rf_coil, rf_coil in enumerate(rf_coils):\n",
    "        qubit_coil_rabi_matrix[q_id][rf_coil] = Rabi_results[q_id][str(rf_coil)]['rabi_rect_freq']\n",
    "        qubit_coil_rabi_matrix[q_id][rf_coil] *= qubit_ramsey_phase_inv[q_id]*np.exp(1j*Ramsey_results[q_id][str(rf_coil)]['ramsey_phase'])\n",
    "        #_CR_matrix_np[_q_id][_rf_coil] = CR_matrix[q_id][rf_coil]\n",
    "    for _qc_id, qc_id in enumerate(calibrated_qubits):\n",
    "        if q_id != qc_id:\n",
    "            _max = np.max(np.abs([qubit_coil_rabi_matrix[q_id][main_rf_coils[q_id]],\n",
    "                                  qubit_coil_rabi_matrix[q_id][main_rf_coils[qc_id]]]))*1.0\n",
    "            _max = _max*np.exp(1j*np.angle(qubit_coil_rabi_matrix[q_id][main_rf_coils[q_id]]))\n",
    "            \n",
    "            CR_matrix[q_id][qc_id] = {main_rf_coils[q_id]:-qubit_coil_rabi_matrix[q_id][main_rf_coils[qc_id]]/_max,\n",
    "                                      main_rf_coils[qc_id]:qubit_coil_rabi_matrix[q_id][main_rf_coils[q_id]]/_max}\n",
    "        else:\n",
    "            CR_matrix[q_id][qc_id] = {main_rf_coils[q_id]:1.0}\n",
    "            \n",
    "        ex_channels = []\n",
    "        ex_amplitudes = []\n",
    "        for coil_id, coil_amplitude in CR_matrix[q_id][str(qc_id)].items():\n",
    "            ex_channels.append('iq_ex{}_q{}_F01_min'.format(coil_id, q_id))\n",
    "            ex_amplitudes.append(coil_amplitude)\n",
    "            \n",
    "        control_target_tld[q_id][qc_id] = dyn.quantum_two_level_dynamics(pg,\n",
    "                                               adc_reducer, #adc_reducers_chan[ex_channel],\n",
    "                                               ex_channel=ex_channels,\n",
    "                                               ro_channel='iq_ro_q{}'.format(q_id),\n",
    "                                               ro_sequence=(trigger_readout_seq+readout_pulse),\n",
    "                                               ex_amplitude=ex_amplitudes,\n",
    "                                               fitter=fitters[q_id], \n",
    "                                               shuffle=False,\n",
    "                                               qubit_id=q_id)\n",
    "            \n",
    "        print (CR_matrix[q_id][qc_id])\n",
    "        \n",
    "#_CR_matrix_inverse = np.linalg.inv(_CR_matrix_np)\n",
    "#_CR_matrix_inverse = _CR_matrix_inverse/np.max(np.abs(_CR_matrix_inverse))\n",
    "CR_matrix, qubit_coil_rabi_matrix"
   ]
  },
  {
   "cell_type": "markdown",
   "metadata": {},
   "source": [
    "## Убогий ручной подбор амплитуд для кросс-резонанса для убогих экспериментаторов, которые не осилили нормально скомпенсировать два сигнала на кубите"
   ]
  },
  {
   "cell_type": "code",
   "execution_count": null,
   "metadata": {},
   "outputs": [],
   "source": [
    "CR_matrix['1']['3'][1]=0.8233\n",
    "CR_matrix['1']['3'][3]=-0.5569*np.exp(1j*Ramsey_results['1']['1']['ramsey_phase'])/np.exp(1j*Ramsey_results['1']['3']['ramsey_phase'])*np.exp(1j*0.0825)"
   ]
  },
  {
   "cell_type": "code",
   "execution_count": null,
   "metadata": {},
   "outputs": [],
   "source": [
    "CR_matrix['1']['3']"
   ]
  },
  {
   "cell_type": "code",
   "execution_count": null,
   "metadata": {},
   "outputs": [],
   "source": [
    "0.5/np.abs(qubit_coil_rabi_matrix['3'][1])*3"
   ]
  },
  {
   "cell_type": "markdown",
   "metadata": {},
   "source": [
    "## Refine CR matrix"
   ]
  },
  {
   "cell_type": "code",
   "execution_count": null,
   "metadata": {
    "scrolled": true
   },
   "outputs": [],
   "source": [
    "control_target_tld = {}\n",
    "CR_matrix_old = {k1:{k2:v2 for k2,v2 in v1.items()} for k1,v1 in CR_matrix.items()}\n",
    "CR_matrix_new = {}\n",
    "\n",
    "rabi_results_refined = {}\n",
    "ramsey_results_refined = {}\n",
    "\n",
    "for q_id in calibrated_qubits:\n",
    "    control_target_tld[q_id] = {}\n",
    "    rabi_results_refined[q_id] = {}\n",
    "    ramsey_results_refined[q_id] = {}\n",
    "    CR_matrix_new[q_id] = {}\n",
    "    #fitters[q_id] = lambda x,y,ro_meas_name='S21_r{}'.format(q_id): fitting.fit1d(x,y,ro_meas_name)\n",
    "    for qc_id in calibrated_qubits:\n",
    "        ex_channels = []\n",
    "        ex_amplitudes = []\n",
    "        for coil_id, coil_amplitude in CR_matrix[q_id][str(qc_id)].items():\n",
    "            ex_channels.append('iq_ex{}_q{}_F01_min'.format(coil_id, q_id))\n",
    "            ex_amplitudes.append(coil_amplitude)\n",
    "        print(ex_channels, ex_amplitudes)\n",
    "        control_target_tld[q_id][qc_id] = dyn.quantum_two_level_dynamics(pg,\n",
    "                                               adc_reducer, #adc_reducers_chan[ex_channel],\n",
    "                                               ex_channel=ex_channels,\n",
    "                                               ro_channel='iq_ro_q{}'.format(q_id),\n",
    "                                               ro_sequence=(trigger_readout_seq+readout_pulse),\n",
    "                                               ex_amplitude=ex_amplitudes,\n",
    "                                               fitter=fitters[q_id], \n",
    "                                               shuffle=False,\n",
    "                                               qubit_id=q_id)\n",
    "        if qc_id == q_id:\n",
    "            continue\n",
    "        rabi_results_refined[q_id][qc_id] =   control_target_tld[q_id][qc_id].Rabi_rect(Rabi_lengths_long)\n",
    "        ramsey_results_refined[q_id][qc_id] = control_target_tld[q_id][qc_id].Ramsey(delaysT2, \n",
    "                                               target_freq_offset, \n",
    "                                               cross_ex_device=qubit_coil_tld[q_id][main_rf_coils[q_id]])"
   ]
  },
  {
   "cell_type": "code",
   "execution_count": null,
   "metadata": {},
   "outputs": [],
   "source": [
    "pqjson.dump(type=\"RF-matrix\",name='Rabi+Ramsey-refined',params = [rabi_results_refined,ramsey_results_refined])"
   ]
  },
  {
   "cell_type": "code",
   "execution_count": null,
   "metadata": {},
   "outputs": [],
   "source": [
    "rabi_results_refined,ramsey_results_refined = pqjson.load(type=\"RF-matrix\",name='Rabi+Ramsey-refined')"
   ]
  },
  {
   "cell_type": "code",
   "execution_count": null,
   "metadata": {},
   "outputs": [],
   "source": [
    "#qubit_coil_rabi_matrix = {}#{q_id:{} for q_id in calibrated_qubits}\n",
    "#_CR_matrix_np = np.zeros((len(calibrated_qubits), len(rf_coils)),dtype=np.complex)\n",
    "CR_matrix_new = {} #\n",
    "for _q_id, q_id in enumerate(calibrated_qubits):\n",
    "    CR_matrix_new[q_id] = {}\n",
    "    for _qc_id, qc_id in enumerate(calibrated_qubits):\n",
    "        CR_matrix_new[q_id][qc_id] = {k:v for k,v in CR_matrix[q_id][qc_id].items()}\n",
    "        if q_id != qc_id:\n",
    "            rabi_adjustment = -qubit_ramsey_phase_inv[q_id]*\\\n",
    "                rabi_results_refined[q_id][qc_id]['rabi_rect_freq']*\\\n",
    "                np.exp(1j*qubit_ramsey_phase_inv[q_id]*ramsey_results_refined[q_id][qc_id]['ramsey_freq'])\n",
    "            \n",
    "            CR_matrix_new[q_id][qc_id][main_rf_coils[q_id]] -= \\\n",
    "                rabi_adjustment/qubit_coil_rabi_matrix[q_id][main_rf_coils[q_id]]*0.5\n",
    "            \n",
    "            _max = np.max(np.abs([i for i in CR_matrix_new[q_id][qc_id].values()]))\n",
    "            if _max > 1:\n",
    "                CR_matrix_new[q_id][qc_id] =  {k:v/_max for k,v in CR_matrix_new[q_id][qc_id].items()}"
   ]
  },
  {
   "cell_type": "code",
   "execution_count": null,
   "metadata": {},
   "outputs": [],
   "source": [
    "rabi_results_refined"
   ]
  }
 ],
 "metadata": {
  "kernelspec": {
   "display_name": "Python 3",
   "language": "python",
   "name": "python3"
  },
  "language_info": {
   "codemirror_mode": {
    "name": "ipython",
    "version": 3
   },
   "file_extension": ".py",
   "mimetype": "text/x-python",
   "name": "python",
   "nbconvert_exporter": "python",
   "pygments_lexer": "ipython3",
   "version": "3.6.5"
  },
  "toc": {
   "base_numbering": 1,
   "nav_menu": {
    "height": "511px",
    "width": "457px"
   },
   "number_sections": true,
   "sideBar": true,
   "skip_h1_title": false,
   "title_cell": "Table of Contents",
   "title_sidebar": "Contents",
   "toc_cell": false,
   "toc_position": {
    "height": "689px",
    "left": "120px",
    "top": "143.354px",
    "width": "289px"
   },
   "toc_section_display": true,
   "toc_window_display": true
  }
 },
 "nbformat": 4,
 "nbformat_minor": 1
}
