{
 "cells": [
  {
   "cell_type": "markdown",
   "metadata": {},
   "source": [
    "### Запуск QtLab"
   ]
  },
  {
   "cell_type": "markdown",
   "metadata": {},
   "source": [
    "Для начала надо добавить пути со скриптами и драйверами устройств, подключить библиотеки numpy и matplotlib."
   ]
  },
  {
   "cell_type": "code",
   "execution_count": 1,
   "metadata": {},
   "outputs": [],
   "source": [
    "%matplotlib qt\n",
    "from qsweepy import *\n",
    "from qsweepy.instruments import *\n",
    "from qsweepy.save_pkl import save_pkl\n",
    "import matplotlib.pyplot as plt\n",
    "import numpy as np\n",
    "from matplotlib import interactive\n",
    "interactive(True)"
   ]
  },
  {
   "cell_type": "markdown",
   "metadata": {},
   "source": [
    "## Параметры кубитов"
   ]
  },
  {
   "cell_type": "code",
   "execution_count": 510,
   "metadata": {},
   "outputs": [],
   "source": [
    "#Параметры кубитов.all keys should be str\n",
    "Qubits = {'1':{'r':{'Fr': 7.410e9, 'Frmax': 7.422e9},\n",
    "               'q':{'F':\n",
    "                    {'F01_max':6.102e9,\n",
    "                    'F01_mid':5.368e9}, #2.306\n",
    "                    'P':\n",
    "                    {'nndac_coil_id':0,#0,\n",
    "                     'awg_tek_coil_channel':1,\n",
    "                     'coil_device_channel':1,\n",
    "                    'P':None}\n",
    "                    }},\n",
    "        '2':{'r':{'Fr': 7.625e9, 'P':-50}, \n",
    "               'q':{'00-1-01': 4.250412e9,#4.24947e9,\n",
    "                    }},\n",
    "         '3':{'r':{'Fr': 8.35e9, 'P':-50}, \n",
    "               'q':{'00-1-01': 4.250412e9,#4.24947e9,\n",
    "                    }}}\n",
    "qubit_params=Qubits\n",
    "qubits=Qubits\n",
    "qubit_id = '1'\n",
    "#it should be dumped too\n",
    "#qubits_dump = {\"qubits\":qubit_params,'switch':switch_to_sample}\n",
    "#qjson.dump('qubits','qubit_params',qubits_dump)\n"
   ]
  },
  {
   "cell_type": "markdown",
   "metadata": {},
   "source": [
    "## измерительные устройства"
   ]
  },
  {
   "cell_type": "code",
   "execution_count": null,
   "metadata": {},
   "outputs": [],
   "source": [
    "# RF switch for making sure we know what sample we are measuring\n",
    "pna = Agilent_N5242A('pna', address = 'TCPIP0::10.20.61.48::inst0::INSTR')\n",
    "# lo1 = Agilent_E8257D('lo1', address = 'TCPIP0::10.20.61.59::inst0::INSTR')\n",
    "lo1 = Agilent_E8257D('lo1', address = 'TCPIP0::10.20.61.59::inst0::INSTR')\n",
    "\n",
    "#rf_switch = nn_rf_switch('rf_switch', address='10.20.61.224')\n",
    "#awg = Tektronix_AWG5014('awg_tek', address = 'TCPIP0::10.20.61.186::inst0::INSTR')\n",
    "#adc = Spectrum_M3i2132('adc')\n",
    "#sa = Agilent_N9030A('pxa', address = 'TCPIP0::10.20.61.56::inst0::INSTR')\n",
    "lo_ex = lo1\n",
    "lo_ro = pna\n",
    "#awg_tek=awg"
   ]
  },
  {
   "cell_type": "code",
   "execution_count": 3,
   "metadata": {},
   "outputs": [],
   "source": [
    "rf_switch = nn_rf_switch('rf_switch', address='10.20.61.224')"
   ]
  },
  {
   "cell_type": "code",
   "execution_count": 4,
   "metadata": {},
   "outputs": [
    {
     "name": "stderr",
     "output_type": "stream",
     "text": [
      "C:\\ProgramData\\Anaconda3\\lib\\site-packages\\pyvisa\\resources\\messagebased.py:573: FutureWarning: ask is deprecated and will be removed in 1.10, use query instead.\n",
      "  '1.10, use query instead.', FutureWarning)\n"
     ]
    }
   ],
   "source": [
    "dac = nndac('TCPIP0::10.20.61.12::1000::SOCKET')\n",
    "#current_src1 = Yokogawa_GS210(address = 'GPIB1::1::INSTR')"
   ]
  },
  {
   "cell_type": "code",
   "execution_count": 7,
   "metadata": {},
   "outputs": [
    {
     "data": {
      "text/plain": [
       "True"
      ]
     },
     "execution_count": 7,
     "metadata": {},
     "output_type": "execute_result"
    }
   ],
   "source": [
    "pna.set_sweep_mode(\"LIN\")"
   ]
  },
  {
   "cell_type": "code",
   "execution_count": 8,
   "metadata": {},
   "outputs": [
    {
     "name": "stderr",
     "output_type": "stream",
     "text": [
      "WARNING:root:Tektronix_AWG5014 : get all not yet fully functional\n",
      "C:\\ProgramData\\Anaconda3\\lib\\site-packages\\pyvisa\\resources\\messagebased.py:573: FutureWarning: ask is deprecated and will be removed in 1.10, use query instead.\n",
      "  '1.10, use query instead.', FutureWarning)\n"
     ]
    }
   ],
   "source": [
    "CHASSIS = 0\n",
    "SLOT_AWG1 = 3\n",
    "SLOT_AWG2 = 5\n",
    "awg_tek = Tektronix_AWG5014('awg_tek', address = 'TCPIP0::10.20.61.186::inst0::INSTR')\n",
    "sa = Agilent_N9030A('pxa', address = 'TCPIP0::10.20.61.56::inst0::INSTR')\n",
    "awg1 = Keysight_M3202A_S('awg1', CHASSIS, SLOT_AWG1)\n",
    "awg2 = Keysight_M3202A_S('awg2', CHASSIS, SLOT_AWG2)\n",
    "\n",
    "adc = instruments.Spectrum_M4i22xx('adc')"
   ]
  },
  {
   "cell_type": "code",
   "execution_count": 429,
   "metadata": {},
   "outputs": [],
   "source": [
    "#Stuff for IQ-mixers opening\n",
    "awg1.trigger_source_types = [6,6,6,6]\n",
    "awg1.trigger_source_channels = [4000, 4000,4000,4000]\n",
    "awg1.trigger_delays = [7+10,7+10,7+10,7+10] # wait 60 ns for sync with awg2\n",
    "awg1.trigger_behaviours = [4,4,4,4]\n",
    "awg1.stop()\n",
    "for channel in range(0,3):\n",
    "    awg1.set_amplitude(0.03, channel=channel)\n",
    "    awg1.set_offset(0.1 ,channel=channel)\n",
    "    awg1.set_output(1, channel=channel)\n",
    "    awg1.set_waveform(waveform =[0]*50000, channel=channel)\n",
    "awg1.set_marker(length=200, delay=0, channel=0, pxi_channels=2)\n",
    "awg1.run()\n",
    "\n",
    "#Stuff for IQ-mixers opening\n",
    "awg2.trigger_source_types = [6,6,6,6]\n",
    "awg2.trigger_source_channels = [4000, 4000,4000,4000]\n",
    "awg2.trigger_delays = [7+10,7+10,7+10,7+10] # wait 60 ns for sync with awg2\n",
    "awg2.trigger_behaviours = [4,4,4,4]\n",
    "awg2.stop()\n",
    "for channel in range(0,3):\n",
    "    awg2.set_amplitude(0.03, channel=channel)\n",
    "    awg2.set_offset(0.1 ,channel=channel)\n",
    "    awg2.set_output(1, channel=channel)\n",
    "    awg2.set_waveform(waveform =[0]*50000, channel=channel)\n",
    "awg2.set_marker(length=200, delay=0, channel=0, pxi_channels=2)\n",
    "awg2.run()"
   ]
  },
  {
   "cell_type": "markdown",
   "metadata": {},
   "source": [
    "# Однотоновая спектроскопия резонатора в зависимости от мощности\n"
   ]
  },
  {
   "cell_type": "code",
   "execution_count": 421,
   "metadata": {},
   "outputs": [
    {
     "data": {
      "application/vnd.jupyter.widget-view+json": {
       "model_id": "d502a3a5914d44f392aab938481aa2ff",
       "version_major": 2,
       "version_minor": 0
      },
      "text/plain": [
       "HTML(value='')"
      ]
     },
     "metadata": {},
     "output_type": "display_data"
    },
    {
     "name": "stdout",
     "output_type": "stream",
     "text": [
      "Started at:  Dec 18 2018 17:27:38\n",
      "Exiting sweep main thread #{} via return 10992\n",
      "\n",
      "Elapsed time: 0 h 0 m 20.08 s\n"
     ]
    },
    {
     "ename": "UnicodeDecodeError",
     "evalue": "'charmap' codec can't decode byte 0x8f in position 23069: character maps to <undefined>",
     "output_type": "error",
     "traceback": [
      "\u001b[1;31m---------------------------------------------------------------------------\u001b[0m",
      "\u001b[1;31mUnicodeDecodeError\u001b[0m                        Traceback (most recent call last)",
      "\u001b[1;32m<ipython-input-421-85ea7a043537>\u001b[0m in \u001b[0;36m<module>\u001b[1;34m()\u001b[0m\n\u001b[0;32m      9\u001b[0m \u001b[1;31m#freqs = pna.get_freqpoints()\u001b[0m\u001b[1;33m\u001b[0m\u001b[1;33m\u001b[0m\u001b[0m\n\u001b[0;32m     10\u001b[0m \u001b[1;31m#S21 = pna.get_tracedata()\u001b[0m\u001b[1;33m\u001b[0m\u001b[1;33m\u001b[0m\u001b[0m\n\u001b[1;32m---> 11\u001b[1;33m \u001b[0mmeas\u001b[0m \u001b[1;33m=\u001b[0m \u001b[0msweep\u001b[0m\u001b[1;33m.\u001b[0m\u001b[0msweep\u001b[0m\u001b[1;33m(\u001b[0m\u001b[0mpna\u001b[0m\u001b[1;33m,\u001b[0m \u001b[1;33m(\u001b[0m\u001b[1;33m[\u001b[0m\u001b[1;36m0\u001b[0m\u001b[1;33m]\u001b[0m\u001b[1;33m,\u001b[0m \u001b[1;32mlambda\u001b[0m \u001b[0mx\u001b[0m\u001b[1;33m:\u001b[0m \u001b[1;36m0\u001b[0m\u001b[1;33m,\u001b[0m \u001b[1;34m''\u001b[0m\u001b[1;33m)\u001b[0m\u001b[1;33m,\u001b[0m \u001b[0mfilename\u001b[0m\u001b[1;33m=\u001b[0m\u001b[1;34m'Однотоновая спектроскопия, образец #{}'\u001b[0m\u001b[1;33m.\u001b[0m\u001b[0mformat\u001b[0m\u001b[1;33m(\u001b[0m\u001b[0mqubit_id\u001b[0m\u001b[1;33m)\u001b[0m\u001b[1;33m)\u001b[0m\u001b[1;33m\u001b[0m\u001b[0m\n\u001b[0m",
      "\u001b[1;32mC:\\qtlab_replacement\\qsweepy\\sweep.py\u001b[0m in \u001b[0;36msweep\u001b[1;34m(measurer, filename, root_dir, plot, plot_separate_thread, header, output, save, time_war_label, shuffle, bot, use_deferred, loc, *params)\u001b[0m\n\u001b[0;32m    357\u001b[0m                 \u001b[0mheader\u001b[0m \u001b[1;33m=\u001b[0m \u001b[1;33m{\u001b[0m\u001b[1;34m'name'\u001b[0m\u001b[1;33m:\u001b[0m \u001b[0mfilename\u001b[0m\u001b[1;33m}\u001b[0m\u001b[1;33m\u001b[0m\u001b[0m\n\u001b[0;32m    358\u001b[0m                 \u001b[1;32mif\u001b[0m \u001b[1;33m(\u001b[0m\u001b[0msave\u001b[0m\u001b[1;33m)\u001b[0m\u001b[1;33m:\u001b[0m\u001b[1;33m\u001b[0m\u001b[0m\n\u001b[1;32m--> 359\u001b[1;33m                         \u001b[0mfilename_location\u001b[0m \u001b[1;33m=\u001b[0m \u001b[0msave_pkl\u001b[0m\u001b[1;33m.\u001b[0m\u001b[0msave_pkl\u001b[0m\u001b[1;33m(\u001b[0m\u001b[0mheader\u001b[0m\u001b[1;33m,\u001b[0m \u001b[0mmk_measurement\u001b[0m\u001b[1;33m(\u001b[0m\u001b[1;33m)\u001b[0m\u001b[1;33m,\u001b[0m \u001b[0mlocation\u001b[0m \u001b[1;33m=\u001b[0m \u001b[0mdata_dir\u001b[0m\u001b[1;33m,\u001b[0m \u001b[0mplot_axes\u001b[0m\u001b[1;33m=\u001b[0m\u001b[0mplot_axes\u001b[0m\u001b[1;33m)\u001b[0m\u001b[1;33m\u001b[0m\u001b[0m\n\u001b[0m\u001b[0;32m    360\u001b[0m                 \u001b[1;32mif\u001b[0m \u001b[0mbot\u001b[0m\u001b[1;33m[\u001b[0m\u001b[1;36m0\u001b[0m\u001b[1;33m]\u001b[0m\u001b[1;33m==\u001b[0m\u001b[1;32mTrue\u001b[0m\u001b[1;33m:\u001b[0m\u001b[1;33m\u001b[0m\u001b[0m\n\u001b[0;32m    361\u001b[0m                         \u001b[1;32mwith\u001b[0m \u001b[0mopen\u001b[0m\u001b[1;33m(\u001b[0m\u001b[0mdata_dir\u001b[0m\u001b[1;33m+\u001b[0m\u001b[1;34m\"/send_result.txt\"\u001b[0m\u001b[1;33m,\u001b[0m\u001b[1;34m'w'\u001b[0m\u001b[1;33m)\u001b[0m \u001b[1;32mas\u001b[0m \u001b[0mbot_send_file\u001b[0m\u001b[1;33m:\u001b[0m\u001b[1;33m\u001b[0m\u001b[0m\n",
      "\u001b[1;32mC:\\qtlab_replacement\\qsweepy\\save_pkl.py\u001b[0m in \u001b[0;36msave_pkl\u001b[1;34m(header, data, plot, curve_fit, annotation, location, time, filename, matlab, gzip, plot_axes)\u001b[0m\n\u001b[0;32m     70\u001b[0m                 \u001b[0mplotting\u001b[0m\u001b[1;33m.\u001b[0m\u001b[0mupdate_plot_measurement\u001b[0m\u001b[1;33m(\u001b[0m\u001b[0mdata\u001b[0m\u001b[1;33m,\u001b[0m \u001b[0mplot_axes\u001b[0m\u001b[1;33m)\u001b[0m\u001b[1;33m\u001b[0m\u001b[0m\n\u001b[0;32m     71\u001b[0m                 \u001b[0mplotting\u001b[0m\u001b[1;33m.\u001b[0m\u001b[0mplot_add_annotation\u001b[0m\u001b[1;33m(\u001b[0m\u001b[0mplot_axes\u001b[0m\u001b[1;33m,\u001b[0m \u001b[0mannotation\u001b[0m\u001b[1;33m)\u001b[0m\u001b[1;33m\u001b[0m\u001b[0m\n\u001b[1;32m---> 72\u001b[1;33m                 \u001b[0mplotting\u001b[0m\u001b[1;33m.\u001b[0m\u001b[0mplot_save\u001b[0m\u001b[1;33m(\u001b[0m\u001b[0mplot_axes\u001b[0m\u001b[1;33m,\u001b[0m \u001b[0mlocation\u001b[0m\u001b[1;33m)\u001b[0m\u001b[1;33m\u001b[0m\u001b[0m\n\u001b[0m\u001b[0;32m     73\u001b[0m         \u001b[1;32melif\u001b[0m \u001b[0mplot\u001b[0m\u001b[1;33m:\u001b[0m\u001b[1;33m\u001b[0m\u001b[0m\n\u001b[0;32m     74\u001b[0m                 \u001b[0mplotting\u001b[0m\u001b[1;33m.\u001b[0m\u001b[0mplot_measurement\u001b[0m\u001b[1;33m(\u001b[0m\u001b[0mdata\u001b[0m\u001b[1;33m,\u001b[0m \u001b[0mfilename\u001b[0m\u001b[1;33m,\u001b[0m \u001b[0msave\u001b[0m\u001b[1;33m=\u001b[0m\u001b[0mlocation\u001b[0m\u001b[1;33m,\u001b[0m \u001b[0mannotation\u001b[0m\u001b[1;33m=\u001b[0m\u001b[0mannotation\u001b[0m\u001b[1;33m,\u001b[0m \u001b[0msubplots\u001b[0m\u001b[1;33m=\u001b[0m\u001b[1;32mTrue\u001b[0m\u001b[1;33m)\u001b[0m\u001b[1;33m\u001b[0m\u001b[0m\n",
      "\u001b[1;32mC:\\qtlab_replacement\\qsweepy\\plotting.py\u001b[0m in \u001b[0;36mplot_save\u001b[1;34m(axes, save)\u001b[0m\n\u001b[0;32m    240\u001b[0m                         \u001b[0max\u001b[0m\u001b[1;33m[\u001b[0m\u001b[1;34m'axes'\u001b[0m\u001b[1;33m]\u001b[0m\u001b[1;33m.\u001b[0m\u001b[0mget_figure\u001b[0m\u001b[1;33m(\u001b[0m\u001b[1;33m)\u001b[0m\u001b[1;33m.\u001b[0m\u001b[0msavefig\u001b[0m\u001b[1;33m(\u001b[0m\u001b[1;34m'{0}/{1}.svg'\u001b[0m\u001b[1;33m.\u001b[0m\u001b[0mformat\u001b[0m\u001b[1;33m(\u001b[0m\u001b[0msave\u001b[0m\u001b[1;33m,\u001b[0m \u001b[0max_name\u001b[0m\u001b[1;33m)\u001b[0m\u001b[1;33m)\u001b[0m\u001b[1;33m\u001b[0m\u001b[0m\n\u001b[0;32m    241\u001b[0m                         \u001b[1;32mwith\u001b[0m \u001b[0mopen\u001b[0m\u001b[1;33m(\u001b[0m\u001b[1;34m'{0}/{1}.svg'\u001b[0m\u001b[1;33m.\u001b[0m\u001b[0mformat\u001b[0m\u001b[1;33m(\u001b[0m\u001b[0msave\u001b[0m\u001b[1;33m,\u001b[0m \u001b[0max_name\u001b[0m\u001b[1;33m)\u001b[0m\u001b[1;33m)\u001b[0m \u001b[1;32mas\u001b[0m \u001b[0mfd\u001b[0m\u001b[1;33m:\u001b[0m\u001b[1;33m\u001b[0m\u001b[0m\n\u001b[1;32m--> 242\u001b[1;33m                                 \u001b[0ms\u001b[0m \u001b[1;33m=\u001b[0m \u001b[0mfd\u001b[0m\u001b[1;33m.\u001b[0m\u001b[0mread\u001b[0m\u001b[1;33m(\u001b[0m\u001b[1;33m)\u001b[0m\u001b[1;33m\u001b[0m\u001b[0m\n\u001b[0m\u001b[0;32m    243\u001b[0m                         \u001b[1;32mwith\u001b[0m \u001b[0mopen\u001b[0m\u001b[1;33m(\u001b[0m\u001b[1;34m'{0}/{1}.svg'\u001b[0m\u001b[1;33m.\u001b[0m\u001b[0mformat\u001b[0m\u001b[1;33m(\u001b[0m\u001b[0msave\u001b[0m\u001b[1;33m,\u001b[0m \u001b[0max_name\u001b[0m\u001b[1;33m)\u001b[0m\u001b[1;33m,\u001b[0m \u001b[1;34m'w'\u001b[0m\u001b[1;33m)\u001b[0m \u001b[1;32mas\u001b[0m \u001b[0mfd\u001b[0m\u001b[1;33m:\u001b[0m\u001b[1;33m\u001b[0m\u001b[0m\n\u001b[0;32m    244\u001b[0m                                 \u001b[0mfd\u001b[0m\u001b[1;33m.\u001b[0m\u001b[0mwrite\u001b[0m\u001b[1;33m(\u001b[0m\u001b[0ms\u001b[0m\u001b[1;33m.\u001b[0m\u001b[0mreplace\u001b[0m\u001b[1;33m(\u001b[0m\u001b[1;34m'stroke-miterlimit:100000;'\u001b[0m\u001b[1;33m,\u001b[0m \u001b[1;34m''\u001b[0m\u001b[1;33m)\u001b[0m\u001b[1;33m)\u001b[0m\u001b[1;33m\u001b[0m\u001b[0m\n",
      "\u001b[1;32mC:\\ProgramData\\Anaconda3\\lib\\encodings\\cp1252.py\u001b[0m in \u001b[0;36mdecode\u001b[1;34m(self, input, final)\u001b[0m\n\u001b[0;32m     21\u001b[0m \u001b[1;32mclass\u001b[0m \u001b[0mIncrementalDecoder\u001b[0m\u001b[1;33m(\u001b[0m\u001b[0mcodecs\u001b[0m\u001b[1;33m.\u001b[0m\u001b[0mIncrementalDecoder\u001b[0m\u001b[1;33m)\u001b[0m\u001b[1;33m:\u001b[0m\u001b[1;33m\u001b[0m\u001b[0m\n\u001b[0;32m     22\u001b[0m     \u001b[1;32mdef\u001b[0m \u001b[0mdecode\u001b[0m\u001b[1;33m(\u001b[0m\u001b[0mself\u001b[0m\u001b[1;33m,\u001b[0m \u001b[0minput\u001b[0m\u001b[1;33m,\u001b[0m \u001b[0mfinal\u001b[0m\u001b[1;33m=\u001b[0m\u001b[1;32mFalse\u001b[0m\u001b[1;33m)\u001b[0m\u001b[1;33m:\u001b[0m\u001b[1;33m\u001b[0m\u001b[0m\n\u001b[1;32m---> 23\u001b[1;33m         \u001b[1;32mreturn\u001b[0m \u001b[0mcodecs\u001b[0m\u001b[1;33m.\u001b[0m\u001b[0mcharmap_decode\u001b[0m\u001b[1;33m(\u001b[0m\u001b[0minput\u001b[0m\u001b[1;33m,\u001b[0m\u001b[0mself\u001b[0m\u001b[1;33m.\u001b[0m\u001b[0merrors\u001b[0m\u001b[1;33m,\u001b[0m\u001b[0mdecoding_table\u001b[0m\u001b[1;33m)\u001b[0m\u001b[1;33m[\u001b[0m\u001b[1;36m0\u001b[0m\u001b[1;33m]\u001b[0m\u001b[1;33m\u001b[0m\u001b[0m\n\u001b[0m\u001b[0;32m     24\u001b[0m \u001b[1;33m\u001b[0m\u001b[0m\n\u001b[0;32m     25\u001b[0m \u001b[1;32mclass\u001b[0m \u001b[0mStreamWriter\u001b[0m\u001b[1;33m(\u001b[0m\u001b[0mCodec\u001b[0m\u001b[1;33m,\u001b[0m\u001b[0mcodecs\u001b[0m\u001b[1;33m.\u001b[0m\u001b[0mStreamWriter\u001b[0m\u001b[1;33m)\u001b[0m\u001b[1;33m:\u001b[0m\u001b[1;33m\u001b[0m\u001b[0m\n",
      "\u001b[1;31mUnicodeDecodeError\u001b[0m: 'charmap' codec can't decode byte 0x8f in position 23069: character maps to <undefined>"
     ]
    }
   ],
   "source": [
    "lo1.set_status(0)\n",
    "lo1.set_power(-5)\n",
    "pna.set_status(1)\n",
    "#pna.set_power(-35) #\n",
    "pna.set_power(-40)\n",
    "pna.set_nop(401)\n",
    "pna.set_xlim(Qubits[_qubit_id]['r']['Fr']-100e6, Qubits[_qubit_id]['r']['Fr']+100e6)\n",
    "pna.set_bandwidth(20)\n",
    "#freqs = pna.get_freqpoints()\n",
    "#S21 = pna.get_tracedata()\n",
    "meas = sweep.sweep(pna, ([0], lambda x: 0, ''), filename='Однотоновая спектроскопия, образец #{}'.format(qubit_id))"
   ]
  },
  {
   "cell_type": "code",
   "execution_count": 420,
   "metadata": {},
   "outputs": [
    {
     "data": {
      "application/vnd.jupyter.widget-view+json": {
       "model_id": "90119c33ce2f42cdb035c0e98ddcbe95",
       "version_major": 2,
       "version_minor": 0
      },
      "text/plain": [
       "HTML(value='')"
      ]
     },
     "metadata": {},
     "output_type": "display_data"
    },
    {
     "name": "stdout",
     "output_type": "stream",
     "text": [
      "Started at:  Dec 18 2018 17:14:35\n",
      "Exiting sweep main thread #{} via return 924\n",
      "\n",
      "Elapsed time: 0 h 7 m 20.25 s\n"
     ]
    },
    {
     "ename": "UnicodeDecodeError",
     "evalue": "'charmap' codec can't decode byte 0x81 in position 5655: character maps to <undefined>",
     "output_type": "error",
     "traceback": [
      "\u001b[1;31m---------------------------------------------------------------------------\u001b[0m",
      "\u001b[1;31mUnicodeDecodeError\u001b[0m                        Traceback (most recent call last)",
      "\u001b[1;32m<ipython-input-420-a6018e019ba9>\u001b[0m in \u001b[0;36m<module>\u001b[1;34m()\u001b[0m\n\u001b[0;32m      8\u001b[0m \u001b[1;31m#freqs = pna.get_freqpoints()\u001b[0m\u001b[1;33m\u001b[0m\u001b[1;33m\u001b[0m\u001b[0m\n\u001b[0;32m      9\u001b[0m \u001b[1;31m#S21 = pna.get_tracedata()\u001b[0m\u001b[1;33m\u001b[0m\u001b[1;33m\u001b[0m\u001b[0m\n\u001b[1;32m---> 10\u001b[1;33m \u001b[0mmeas\u001b[0m \u001b[1;33m=\u001b[0m \u001b[0msweep\u001b[0m\u001b[1;33m.\u001b[0m\u001b[0msweep\u001b[0m\u001b[1;33m(\u001b[0m\u001b[0mpna\u001b[0m\u001b[1;33m,\u001b[0m \u001b[1;33m(\u001b[0m\u001b[0mpowers\u001b[0m\u001b[1;33m,\u001b[0m \u001b[0mpna\u001b[0m\u001b[1;33m.\u001b[0m\u001b[0mset_power\u001b[0m\u001b[1;33m,\u001b[0m \u001b[1;34m'Мощность, дБ'\u001b[0m\u001b[1;33m)\u001b[0m\u001b[1;33m,\u001b[0m \u001b[0mfilename\u001b[0m\u001b[1;33m=\u001b[0m\u001b[1;34m'Однотоновая спектроскопия, образец #{}'\u001b[0m\u001b[1;33m.\u001b[0m\u001b[0mformat\u001b[0m\u001b[1;33m(\u001b[0m\u001b[0mqubit_id\u001b[0m\u001b[1;33m)\u001b[0m\u001b[1;33m)\u001b[0m\u001b[1;33m\u001b[0m\u001b[0m\n\u001b[0m",
      "\u001b[1;32mC:\\qtlab_replacement\\qsweepy\\sweep.py\u001b[0m in \u001b[0;36msweep\u001b[1;34m(measurer, filename, root_dir, plot, plot_separate_thread, header, output, save, time_war_label, shuffle, bot, use_deferred, loc, *params)\u001b[0m\n\u001b[0;32m    357\u001b[0m                 \u001b[0mheader\u001b[0m \u001b[1;33m=\u001b[0m \u001b[1;33m{\u001b[0m\u001b[1;34m'name'\u001b[0m\u001b[1;33m:\u001b[0m \u001b[0mfilename\u001b[0m\u001b[1;33m}\u001b[0m\u001b[1;33m\u001b[0m\u001b[0m\n\u001b[0;32m    358\u001b[0m                 \u001b[1;32mif\u001b[0m \u001b[1;33m(\u001b[0m\u001b[0msave\u001b[0m\u001b[1;33m)\u001b[0m\u001b[1;33m:\u001b[0m\u001b[1;33m\u001b[0m\u001b[0m\n\u001b[1;32m--> 359\u001b[1;33m                         \u001b[0mfilename_location\u001b[0m \u001b[1;33m=\u001b[0m \u001b[0msave_pkl\u001b[0m\u001b[1;33m.\u001b[0m\u001b[0msave_pkl\u001b[0m\u001b[1;33m(\u001b[0m\u001b[0mheader\u001b[0m\u001b[1;33m,\u001b[0m \u001b[0mmk_measurement\u001b[0m\u001b[1;33m(\u001b[0m\u001b[1;33m)\u001b[0m\u001b[1;33m,\u001b[0m \u001b[0mlocation\u001b[0m \u001b[1;33m=\u001b[0m \u001b[0mdata_dir\u001b[0m\u001b[1;33m,\u001b[0m \u001b[0mplot_axes\u001b[0m\u001b[1;33m=\u001b[0m\u001b[0mplot_axes\u001b[0m\u001b[1;33m)\u001b[0m\u001b[1;33m\u001b[0m\u001b[0m\n\u001b[0m\u001b[0;32m    360\u001b[0m                 \u001b[1;32mif\u001b[0m \u001b[0mbot\u001b[0m\u001b[1;33m[\u001b[0m\u001b[1;36m0\u001b[0m\u001b[1;33m]\u001b[0m\u001b[1;33m==\u001b[0m\u001b[1;32mTrue\u001b[0m\u001b[1;33m:\u001b[0m\u001b[1;33m\u001b[0m\u001b[0m\n\u001b[0;32m    361\u001b[0m                         \u001b[1;32mwith\u001b[0m \u001b[0mopen\u001b[0m\u001b[1;33m(\u001b[0m\u001b[0mdata_dir\u001b[0m\u001b[1;33m+\u001b[0m\u001b[1;34m\"/send_result.txt\"\u001b[0m\u001b[1;33m,\u001b[0m\u001b[1;34m'w'\u001b[0m\u001b[1;33m)\u001b[0m \u001b[1;32mas\u001b[0m \u001b[0mbot_send_file\u001b[0m\u001b[1;33m:\u001b[0m\u001b[1;33m\u001b[0m\u001b[0m\n",
      "\u001b[1;32mC:\\qtlab_replacement\\qsweepy\\save_pkl.py\u001b[0m in \u001b[0;36msave_pkl\u001b[1;34m(header, data, plot, curve_fit, annotation, location, time, filename, matlab, gzip, plot_axes)\u001b[0m\n\u001b[0;32m     70\u001b[0m                 \u001b[0mplotting\u001b[0m\u001b[1;33m.\u001b[0m\u001b[0mupdate_plot_measurement\u001b[0m\u001b[1;33m(\u001b[0m\u001b[0mdata\u001b[0m\u001b[1;33m,\u001b[0m \u001b[0mplot_axes\u001b[0m\u001b[1;33m)\u001b[0m\u001b[1;33m\u001b[0m\u001b[0m\n\u001b[0;32m     71\u001b[0m                 \u001b[0mplotting\u001b[0m\u001b[1;33m.\u001b[0m\u001b[0mplot_add_annotation\u001b[0m\u001b[1;33m(\u001b[0m\u001b[0mplot_axes\u001b[0m\u001b[1;33m,\u001b[0m \u001b[0mannotation\u001b[0m\u001b[1;33m)\u001b[0m\u001b[1;33m\u001b[0m\u001b[0m\n\u001b[1;32m---> 72\u001b[1;33m                 \u001b[0mplotting\u001b[0m\u001b[1;33m.\u001b[0m\u001b[0mplot_save\u001b[0m\u001b[1;33m(\u001b[0m\u001b[0mplot_axes\u001b[0m\u001b[1;33m,\u001b[0m \u001b[0mlocation\u001b[0m\u001b[1;33m)\u001b[0m\u001b[1;33m\u001b[0m\u001b[0m\n\u001b[0m\u001b[0;32m     73\u001b[0m         \u001b[1;32melif\u001b[0m \u001b[0mplot\u001b[0m\u001b[1;33m:\u001b[0m\u001b[1;33m\u001b[0m\u001b[0m\n\u001b[0;32m     74\u001b[0m                 \u001b[0mplotting\u001b[0m\u001b[1;33m.\u001b[0m\u001b[0mplot_measurement\u001b[0m\u001b[1;33m(\u001b[0m\u001b[0mdata\u001b[0m\u001b[1;33m,\u001b[0m \u001b[0mfilename\u001b[0m\u001b[1;33m,\u001b[0m \u001b[0msave\u001b[0m\u001b[1;33m=\u001b[0m\u001b[0mlocation\u001b[0m\u001b[1;33m,\u001b[0m \u001b[0mannotation\u001b[0m\u001b[1;33m=\u001b[0m\u001b[0mannotation\u001b[0m\u001b[1;33m,\u001b[0m \u001b[0msubplots\u001b[0m\u001b[1;33m=\u001b[0m\u001b[1;32mTrue\u001b[0m\u001b[1;33m)\u001b[0m\u001b[1;33m\u001b[0m\u001b[0m\n",
      "\u001b[1;32mC:\\qtlab_replacement\\qsweepy\\plotting.py\u001b[0m in \u001b[0;36mplot_save\u001b[1;34m(axes, save)\u001b[0m\n\u001b[0;32m    240\u001b[0m                         \u001b[0max\u001b[0m\u001b[1;33m[\u001b[0m\u001b[1;34m'axes'\u001b[0m\u001b[1;33m]\u001b[0m\u001b[1;33m.\u001b[0m\u001b[0mget_figure\u001b[0m\u001b[1;33m(\u001b[0m\u001b[1;33m)\u001b[0m\u001b[1;33m.\u001b[0m\u001b[0msavefig\u001b[0m\u001b[1;33m(\u001b[0m\u001b[1;34m'{0}/{1}.svg'\u001b[0m\u001b[1;33m.\u001b[0m\u001b[0mformat\u001b[0m\u001b[1;33m(\u001b[0m\u001b[0msave\u001b[0m\u001b[1;33m,\u001b[0m \u001b[0max_name\u001b[0m\u001b[1;33m)\u001b[0m\u001b[1;33m)\u001b[0m\u001b[1;33m\u001b[0m\u001b[0m\n\u001b[0;32m    241\u001b[0m                         \u001b[1;32mwith\u001b[0m \u001b[0mopen\u001b[0m\u001b[1;33m(\u001b[0m\u001b[1;34m'{0}/{1}.svg'\u001b[0m\u001b[1;33m.\u001b[0m\u001b[0mformat\u001b[0m\u001b[1;33m(\u001b[0m\u001b[0msave\u001b[0m\u001b[1;33m,\u001b[0m \u001b[0max_name\u001b[0m\u001b[1;33m)\u001b[0m\u001b[1;33m)\u001b[0m \u001b[1;32mas\u001b[0m \u001b[0mfd\u001b[0m\u001b[1;33m:\u001b[0m\u001b[1;33m\u001b[0m\u001b[0m\n\u001b[1;32m--> 242\u001b[1;33m                                 \u001b[0ms\u001b[0m \u001b[1;33m=\u001b[0m \u001b[0mfd\u001b[0m\u001b[1;33m.\u001b[0m\u001b[0mread\u001b[0m\u001b[1;33m(\u001b[0m\u001b[1;33m)\u001b[0m\u001b[1;33m\u001b[0m\u001b[0m\n\u001b[0m\u001b[0;32m    243\u001b[0m                         \u001b[1;32mwith\u001b[0m \u001b[0mopen\u001b[0m\u001b[1;33m(\u001b[0m\u001b[1;34m'{0}/{1}.svg'\u001b[0m\u001b[1;33m.\u001b[0m\u001b[0mformat\u001b[0m\u001b[1;33m(\u001b[0m\u001b[0msave\u001b[0m\u001b[1;33m,\u001b[0m \u001b[0max_name\u001b[0m\u001b[1;33m)\u001b[0m\u001b[1;33m,\u001b[0m \u001b[1;34m'w'\u001b[0m\u001b[1;33m)\u001b[0m \u001b[1;32mas\u001b[0m \u001b[0mfd\u001b[0m\u001b[1;33m:\u001b[0m\u001b[1;33m\u001b[0m\u001b[0m\n\u001b[0;32m    244\u001b[0m                                 \u001b[0mfd\u001b[0m\u001b[1;33m.\u001b[0m\u001b[0mwrite\u001b[0m\u001b[1;33m(\u001b[0m\u001b[0ms\u001b[0m\u001b[1;33m.\u001b[0m\u001b[0mreplace\u001b[0m\u001b[1;33m(\u001b[0m\u001b[1;34m'stroke-miterlimit:100000;'\u001b[0m\u001b[1;33m,\u001b[0m \u001b[1;34m''\u001b[0m\u001b[1;33m)\u001b[0m\u001b[1;33m)\u001b[0m\u001b[1;33m\u001b[0m\u001b[0m\n",
      "\u001b[1;32mC:\\ProgramData\\Anaconda3\\lib\\encodings\\cp1252.py\u001b[0m in \u001b[0;36mdecode\u001b[1;34m(self, input, final)\u001b[0m\n\u001b[0;32m     21\u001b[0m \u001b[1;32mclass\u001b[0m \u001b[0mIncrementalDecoder\u001b[0m\u001b[1;33m(\u001b[0m\u001b[0mcodecs\u001b[0m\u001b[1;33m.\u001b[0m\u001b[0mIncrementalDecoder\u001b[0m\u001b[1;33m)\u001b[0m\u001b[1;33m:\u001b[0m\u001b[1;33m\u001b[0m\u001b[0m\n\u001b[0;32m     22\u001b[0m     \u001b[1;32mdef\u001b[0m \u001b[0mdecode\u001b[0m\u001b[1;33m(\u001b[0m\u001b[0mself\u001b[0m\u001b[1;33m,\u001b[0m \u001b[0minput\u001b[0m\u001b[1;33m,\u001b[0m \u001b[0mfinal\u001b[0m\u001b[1;33m=\u001b[0m\u001b[1;32mFalse\u001b[0m\u001b[1;33m)\u001b[0m\u001b[1;33m:\u001b[0m\u001b[1;33m\u001b[0m\u001b[0m\n\u001b[1;32m---> 23\u001b[1;33m         \u001b[1;32mreturn\u001b[0m \u001b[0mcodecs\u001b[0m\u001b[1;33m.\u001b[0m\u001b[0mcharmap_decode\u001b[0m\u001b[1;33m(\u001b[0m\u001b[0minput\u001b[0m\u001b[1;33m,\u001b[0m\u001b[0mself\u001b[0m\u001b[1;33m.\u001b[0m\u001b[0merrors\u001b[0m\u001b[1;33m,\u001b[0m\u001b[0mdecoding_table\u001b[0m\u001b[1;33m)\u001b[0m\u001b[1;33m[\u001b[0m\u001b[1;36m0\u001b[0m\u001b[1;33m]\u001b[0m\u001b[1;33m\u001b[0m\u001b[0m\n\u001b[0m\u001b[0;32m     24\u001b[0m \u001b[1;33m\u001b[0m\u001b[0m\n\u001b[0;32m     25\u001b[0m \u001b[1;32mclass\u001b[0m \u001b[0mStreamWriter\u001b[0m\u001b[1;33m(\u001b[0m\u001b[0mCodec\u001b[0m\u001b[1;33m,\u001b[0m\u001b[0mcodecs\u001b[0m\u001b[1;33m.\u001b[0m\u001b[0mStreamWriter\u001b[0m\u001b[1;33m)\u001b[0m\u001b[1;33m:\u001b[0m\u001b[1;33m\u001b[0m\u001b[0m\n",
      "\u001b[1;31mUnicodeDecodeError\u001b[0m: 'charmap' codec can't decode byte 0x81 in position 5655: character maps to <undefined>"
     ]
    }
   ],
   "source": [
    "lo1.set_status(0)\n",
    "pna.set_status(1)\n",
    "#pna.set_power(-35) #\n",
    "powers = np.linspace(0, -60, 61)\n",
    "pna.set_nop(401)\n",
    "pna.set_xlim(Qubits[qubit_id]['r']['Fr']-100e6, Qubits[qubit_id]['r']['Fr']+100e6)\n",
    "pna.set_bandwidth(50)\n",
    "#freqs = pna.get_freqpoints()\n",
    "#S21 = pna.get_tracedata()\n",
    "meas = sweep.sweep(pna, (powers, pna.set_power, 'Мощность, дБ'), filename='Однотоновая спектроскопия, образец #{}'.format(qubit_id))"
   ]
  },
  {
   "cell_type": "code",
   "execution_count": 8,
   "metadata": {},
   "outputs": [
    {
     "name": "stderr",
     "output_type": "stream",
     "text": [
      "WARNING:root:Tektronix_AWG5014 : get all not yet fully functional\n",
      "C:\\ProgramData\\Anaconda3\\lib\\site-packages\\pyvisa\\resources\\messagebased.py:573: FutureWarning: ask is deprecated and will be removed in 1.10, use query instead.\n",
      "  '1.10, use query instead.', FutureWarning)\n"
     ]
    }
   ],
   "source": [
    "awg_tek = Tektronix_AWG5014('awg_tek', address = 'TCPIP0::10.20.61.186::inst0::INSTR')\n",
    "coil_device = awg_tek"
   ]
  },
  {
   "cell_type": "code",
   "execution_count": 25,
   "metadata": {},
   "outputs": [
    {
     "name": "stderr",
     "output_type": "stream",
     "text": [
      "C:\\ProgramData\\Anaconda3\\lib\\site-packages\\pyvisa\\resources\\messagebased.py:573: FutureWarning: ask is deprecated and will be removed in 1.10, use query instead.\n",
      "  '1.10, use query instead.', FutureWarning)\n"
     ]
    }
   ],
   "source": [
    "awg_tek.stop()\n",
    "for channel in range(1,5):\n",
    "    awg_tek.set_output(0, channel=channel)\n",
    "    awg_tek.set_amplitude(1.0, channel=channel)\n",
    "    awg_tek.set_offset(0.0,channel=channel)\n",
    "    awg_tek.set_output(1, channel=channel)\n",
    "    awg_tek.set_waveform([0]*50000, channel=channel)"
   ]
  },
  {
   "cell_type": "code",
   "execution_count": 11,
   "metadata": {},
   "outputs": [
    {
     "data": {
      "text/plain": [
       "True"
      ]
     },
     "execution_count": 11,
     "metadata": {},
     "output_type": "execute_result"
    }
   ],
   "source": [
    "pna.set_status(1)"
   ]
  },
  {
   "cell_type": "markdown",
   "metadata": {},
   "source": [
    "# Однотоновая спектроскопия резонатора в зависимости от тока\n"
   ]
  },
  {
   "cell_type": "code",
   "execution_count": 19,
   "metadata": {
    "collapsed": true
   },
   "outputs": [],
   "source": [
    "tone1power = -55\n"
   ]
  },
  {
   "cell_type": "code",
   "execution_count": 295,
   "metadata": {},
   "outputs": [],
   "source": [
    "dac.set_voltage(0.04, channel=nndac_channel_id)"
   ]
  },
  {
   "cell_type": "code",
   "execution_count": 100,
   "metadata": {},
   "outputs": [
    {
     "name": "stderr",
     "output_type": "stream",
     "text": [
      "C:\\ProgramData\\Anaconda3\\lib\\site-packages\\pyvisa\\resources\\messagebased.py:573: FutureWarning: ask is deprecated and will be removed in 1.10, use query instead.\n",
      "  '1.10, use query instead.', FutureWarning)\n"
     ]
    },
    {
     "data": {
      "application/vnd.jupyter.widget-view+json": {
       "model_id": "84f5339d082044f085f4583b6a6cff8e",
       "version_major": 2,
       "version_minor": 0
      },
      "text/plain": [
       "HTML(value='')"
      ]
     },
     "metadata": {},
     "output_type": "display_data"
    },
    {
     "name": "stdout",
     "output_type": "stream",
     "text": [
      "Started at:  Dec 17 2018 08:37:16\n"
     ]
    },
    {
     "name": "stderr",
     "output_type": "stream",
     "text": [
      "C:\\ProgramData\\Anaconda3\\lib\\site-packages\\pyvisa\\resources\\messagebased.py:573: FutureWarning: ask is deprecated and will be removed in 1.10, use query instead.\n",
      "  '1.10, use query instead.', FutureWarning)\n",
      "C:\\qtlab_replacement\\qsweepy\\sweep.py:218: FutureWarning: Using a non-tuple sequence for multidimensional indexing is deprecated; use `arr[tuple(seq)]` instead of `arr[seq]`. In the future this will be interpreted as an array index, `arr[np.array(seq)]`, which will result either in an error or a different result.\n",
      "  data[mname][[(i) for i in indeces]+[...]] = mpoint_m\n"
     ]
    },
    {
     "ename": "KeyboardInterrupt",
     "evalue": "",
     "output_type": "error",
     "traceback": [
      "\u001b[1;31m---------------------------------------------------------------------------\u001b[0m",
      "\u001b[1;31mKeyboardInterrupt\u001b[0m                         Traceback (most recent call last)",
      "\u001b[1;32mC:\\qtlab_replacement\\qsweepy\\sweep.py\u001b[0m in \u001b[0;36msweep\u001b[1;34m(measurer, filename, root_dir, plot, plot_separate_thread, header, output, save, time_war_label, shuffle, bot, use_deferred, loc, *params)\u001b[0m\n\u001b[0;32m    333\u001b[0m                         \u001b[0macq_thread\u001b[0m\u001b[1;33m.\u001b[0m\u001b[0mstart\u001b[0m\u001b[1;33m(\u001b[0m\u001b[1;33m)\u001b[0m\u001b[1;33m\u001b[0m\u001b[0m\n\u001b[1;32m--> 334\u001b[1;33m                         \u001b[0mplot_thread\u001b[0m\u001b[1;33m(\u001b[0m\u001b[1;33m)\u001b[0m\u001b[1;33m\u001b[0m\u001b[0m\n\u001b[0m\u001b[0;32m    335\u001b[0m \u001b[1;33m\u001b[0m\u001b[0m\n",
      "\u001b[1;32mC:\\qtlab_replacement\\qsweepy\\sweep.py\u001b[0m in \u001b[0;36mplot_thread\u001b[1;34m()\u001b[0m\n\u001b[0;32m    321\u001b[0m                                         \u001b[1;32mif\u001b[0m \u001b[0mplot_thread_point_id\u001b[0m \u001b[1;33m<\u001b[0m \u001b[0mdone_sweeps\u001b[0m\u001b[1;33m:\u001b[0m\u001b[1;33m\u001b[0m\u001b[0m\n\u001b[1;32m--> 322\u001b[1;33m                                                 \u001b[0mplotting\u001b[0m\u001b[1;33m.\u001b[0m\u001b[0mupdate_plot_measurement\u001b[0m\u001b[1;33m(\u001b[0m\u001b[0mmk_measurement\u001b[0m\u001b[1;33m(\u001b[0m\u001b[1;33m)\u001b[0m\u001b[1;33m,\u001b[0m \u001b[0mplot_axes\u001b[0m\u001b[1;33m)\u001b[0m\u001b[1;33m\u001b[0m\u001b[0m\n\u001b[0m\u001b[0;32m    323\u001b[0m                                                 \u001b[0mplot_thread_point_id\u001b[0m \u001b[1;33m=\u001b[0m \u001b[0mdone_sweeps\u001b[0m\u001b[1;33m\u001b[0m\u001b[0m\n",
      "\u001b[1;32mC:\\qtlab_replacement\\qsweepy\\plotting.py\u001b[0m in \u001b[0;36mupdate_plot_measurement\u001b[1;34m(measurement, axes)\u001b[0m\n\u001b[0;32m    254\u001b[0m                         \u001b[0mmeas\u001b[0m\u001b[1;33m[\u001b[0m\u001b[0mplot_name\u001b[0m\u001b[1;33m]\u001b[0m \u001b[1;33m=\u001b[0m \u001b[1;33m(\u001b[0m\u001b[0mmeasurement\u001b[0m\u001b[1;33m[\u001b[0m\u001b[0mplot\u001b[0m\u001b[1;33m[\u001b[0m\u001b[1;34m'mname'\u001b[0m\u001b[1;33m]\u001b[0m\u001b[1;33m]\u001b[0m\u001b[1;33m[\u001b[0m\u001b[1;36m0\u001b[0m\u001b[1;33m]\u001b[0m\u001b[1;33m,\u001b[0m \u001b[0mmeasurement\u001b[0m\u001b[1;33m[\u001b[0m\u001b[0mplot\u001b[0m\u001b[1;33m[\u001b[0m\u001b[1;34m'mname'\u001b[0m\u001b[1;33m]\u001b[0m\u001b[1;33m]\u001b[0m\u001b[1;33m[\u001b[0m\u001b[1;36m1\u001b[0m\u001b[1;33m]\u001b[0m\u001b[1;33m,\u001b[0m \u001b[0mplot\u001b[0m\u001b[1;33m[\u001b[0m\u001b[1;34m'filter'\u001b[0m\u001b[1;33m]\u001b[0m\u001b[1;33m(\u001b[0m\u001b[0mmeasurement\u001b[0m\u001b[1;33m[\u001b[0m\u001b[0mplot\u001b[0m\u001b[1;33m[\u001b[0m\u001b[1;34m'mname'\u001b[0m\u001b[1;33m]\u001b[0m\u001b[1;33m]\u001b[0m\u001b[1;33m[\u001b[0m\u001b[1;36m2\u001b[0m\u001b[1;33m]\u001b[0m\u001b[1;33m)\u001b[0m\u001b[1;33m)\u001b[0m\u001b[1;33m\u001b[0m\u001b[0m\n\u001b[1;32m--> 255\u001b[1;33m                 \u001b[0mplots\u001b[0m \u001b[1;33m=\u001b[0m \u001b[0mupdate_plot_measurement_sa\u001b[0m\u001b[1;33m(\u001b[0m\u001b[0mmeas\u001b[0m\u001b[1;33m,\u001b[0m \u001b[0max\u001b[0m\u001b[1;33m)\u001b[0m\u001b[1;33m\u001b[0m\u001b[0m\n\u001b[0m\u001b[0;32m    256\u001b[0m \u001b[1;33m\u001b[0m\u001b[0m\n",
      "\u001b[1;32mC:\\qtlab_replacement\\qsweepy\\plotting.py\u001b[0m in \u001b[0;36mupdate_plot_measurement_sa\u001b[1;34m(measurement, plots)\u001b[0m\n\u001b[0;32m    373\u001b[0m                         \u001b[0mplot\u001b[0m\u001b[1;33m.\u001b[0m\u001b[0mset_clim\u001b[0m\u001b[1;33m(\u001b[0m\u001b[0mnp\u001b[0m\u001b[1;33m.\u001b[0m\u001b[0mnanmin\u001b[0m\u001b[1;33m(\u001b[0m\u001b[0mdata\u001b[0m\u001b[1;33m)\u001b[0m\u001b[1;33m,\u001b[0m \u001b[0mnp\u001b[0m\u001b[1;33m.\u001b[0m\u001b[0mnanmax\u001b[0m\u001b[1;33m(\u001b[0m\u001b[0mdata\u001b[0m\u001b[1;33m)\u001b[0m\u001b[1;33m)\u001b[0m\u001b[1;33m\u001b[0m\u001b[0m\n\u001b[1;32m--> 374\u001b[1;33m                 \u001b[0mplt\u001b[0m\u001b[1;33m.\u001b[0m\u001b[0mgcf\u001b[0m\u001b[1;33m(\u001b[0m\u001b[1;33m)\u001b[0m\u001b[1;33m.\u001b[0m\u001b[0mcanvas\u001b[0m\u001b[1;33m.\u001b[0m\u001b[0mstart_event_loop\u001b[0m\u001b[1;33m(\u001b[0m\u001b[1;36m1.0\u001b[0m\u001b[1;33m)\u001b[0m\u001b[1;33m\u001b[0m\u001b[0m\n\u001b[0m\u001b[0;32m    375\u001b[0m \u001b[1;33m\u001b[0m\u001b[0m\n",
      "\u001b[1;32mC:\\ProgramData\\Anaconda3\\lib\\site-packages\\matplotlib\\backends\\backend_qt5.py\u001b[0m in \u001b[0;36mstart_event_loop\u001b[1;34m(self, timeout)\u001b[0m\n\u001b[0;32m    482\u001b[0m             \u001b[0mtimer\u001b[0m \u001b[1;33m=\u001b[0m \u001b[0mQtCore\u001b[0m\u001b[1;33m.\u001b[0m\u001b[0mQTimer\u001b[0m\u001b[1;33m.\u001b[0m\u001b[0msingleShot\u001b[0m\u001b[1;33m(\u001b[0m\u001b[0mtimeout\u001b[0m \u001b[1;33m*\u001b[0m \u001b[1;36m1000\u001b[0m\u001b[1;33m,\u001b[0m \u001b[0mevent_loop\u001b[0m\u001b[1;33m.\u001b[0m\u001b[0mquit\u001b[0m\u001b[1;33m)\u001b[0m\u001b[1;33m\u001b[0m\u001b[0m\n\u001b[1;32m--> 483\u001b[1;33m         \u001b[0mevent_loop\u001b[0m\u001b[1;33m.\u001b[0m\u001b[0mexec_\u001b[0m\u001b[1;33m(\u001b[0m\u001b[1;33m)\u001b[0m\u001b[1;33m\u001b[0m\u001b[0m\n\u001b[0m\u001b[0;32m    484\u001b[0m \u001b[1;33m\u001b[0m\u001b[0m\n",
      "\u001b[1;31mKeyboardInterrupt\u001b[0m: ",
      "\nDuring handling of the above exception, another exception occurred:\n",
      "\u001b[1;31mKeyboardInterrupt\u001b[0m                         Traceback (most recent call last)",
      "\u001b[1;32m<ipython-input-100-e76d64d5337b>\u001b[0m in \u001b[0;36m<module>\u001b[1;34m()\u001b[0m\n\u001b[0;32m     12\u001b[0m     result = sweep.sweep(pna, \n\u001b[0;32m     13\u001b[0m                         \u001b[1;33m(\u001b[0m\u001b[0mvoltages\u001b[0m\u001b[1;33m,\u001b[0m \u001b[1;32mlambda\u001b[0m \u001b[0mx\u001b[0m\u001b[1;33m:\u001b[0m \u001b[0mdac\u001b[0m\u001b[1;33m.\u001b[0m\u001b[0mset_voltage\u001b[0m\u001b[1;33m(\u001b[0m\u001b[0mx\u001b[0m\u001b[1;33m,\u001b[0m \u001b[0mchannel\u001b[0m\u001b[1;33m=\u001b[0m\u001b[0mnndac_channel_id\u001b[0m\u001b[1;33m)\u001b[0m\u001b[1;33m,\u001b[0m \u001b[1;34m'Coil #{} voltage,qubit{}'\u001b[0m\u001b[1;33m.\u001b[0m\u001b[0mformat\u001b[0m\u001b[1;33m(\u001b[0m\u001b[1;36m1\u001b[0m\u001b[1;33m,\u001b[0m\u001b[0mqubit_id\u001b[0m\u001b[1;33m)\u001b[0m\u001b[1;33m)\u001b[0m\u001b[1;33m,\u001b[0m\u001b[1;33m\u001b[0m\u001b[0m\n\u001b[1;32m---> 14\u001b[1;33m                         filename=' New anticrossings sample 1 qubit 3{} Icoil Power {}'.format(qubit_id, pna.get_power()))\n\u001b[0m\u001b[0;32m     15\u001b[0m \u001b[1;32mfinally\u001b[0m\u001b[1;33m:\u001b[0m\u001b[1;33m\u001b[0m\u001b[0m\n\u001b[0;32m     16\u001b[0m     \u001b[0mdac\u001b[0m\u001b[1;33m.\u001b[0m\u001b[0mset_voltage\u001b[0m\u001b[1;33m(\u001b[0m\u001b[1;36m0\u001b[0m\u001b[1;33m,\u001b[0m \u001b[0mchannel\u001b[0m\u001b[1;33m=\u001b[0m\u001b[0mnndac_channel_id\u001b[0m\u001b[1;33m)\u001b[0m\u001b[1;33m\u001b[0m\u001b[0m\n",
      "\u001b[1;32mC:\\qtlab_replacement\\qsweepy\\sweep.py\u001b[0m in \u001b[0;36msweep\u001b[1;34m(measurer, filename, root_dir, plot, plot_separate_thread, header, output, save, time_war_label, shuffle, bot, use_deferred, loc, *params)\u001b[0m\n\u001b[0;32m    357\u001b[0m                 \u001b[0mheader\u001b[0m \u001b[1;33m=\u001b[0m \u001b[1;33m{\u001b[0m\u001b[1;34m'name'\u001b[0m\u001b[1;33m:\u001b[0m \u001b[0mfilename\u001b[0m\u001b[1;33m}\u001b[0m\u001b[1;33m\u001b[0m\u001b[0m\n\u001b[0;32m    358\u001b[0m                 \u001b[1;32mif\u001b[0m \u001b[1;33m(\u001b[0m\u001b[0msave\u001b[0m\u001b[1;33m)\u001b[0m\u001b[1;33m:\u001b[0m\u001b[1;33m\u001b[0m\u001b[0m\n\u001b[1;32m--> 359\u001b[1;33m                         \u001b[0mfilename_location\u001b[0m \u001b[1;33m=\u001b[0m \u001b[0msave_pkl\u001b[0m\u001b[1;33m.\u001b[0m\u001b[0msave_pkl\u001b[0m\u001b[1;33m(\u001b[0m\u001b[0mheader\u001b[0m\u001b[1;33m,\u001b[0m \u001b[0mmk_measurement\u001b[0m\u001b[1;33m(\u001b[0m\u001b[1;33m)\u001b[0m\u001b[1;33m,\u001b[0m \u001b[0mlocation\u001b[0m \u001b[1;33m=\u001b[0m \u001b[0mdata_dir\u001b[0m\u001b[1;33m,\u001b[0m \u001b[0mplot_axes\u001b[0m\u001b[1;33m=\u001b[0m\u001b[0mplot_axes\u001b[0m\u001b[1;33m)\u001b[0m\u001b[1;33m\u001b[0m\u001b[0m\n\u001b[0m\u001b[0;32m    360\u001b[0m                 \u001b[1;32mif\u001b[0m \u001b[0mbot\u001b[0m\u001b[1;33m[\u001b[0m\u001b[1;36m0\u001b[0m\u001b[1;33m]\u001b[0m\u001b[1;33m==\u001b[0m\u001b[1;32mTrue\u001b[0m\u001b[1;33m:\u001b[0m\u001b[1;33m\u001b[0m\u001b[0m\n\u001b[0;32m    361\u001b[0m                         \u001b[1;32mwith\u001b[0m \u001b[0mopen\u001b[0m\u001b[1;33m(\u001b[0m\u001b[0mdata_dir\u001b[0m\u001b[1;33m+\u001b[0m\u001b[1;34m\"/send_result.txt\"\u001b[0m\u001b[1;33m,\u001b[0m\u001b[1;34m'w'\u001b[0m\u001b[1;33m)\u001b[0m \u001b[1;32mas\u001b[0m \u001b[0mbot_send_file\u001b[0m\u001b[1;33m:\u001b[0m\u001b[1;33m\u001b[0m\u001b[0m\n",
      "\u001b[1;32mC:\\qtlab_replacement\\qsweepy\\save_pkl.py\u001b[0m in \u001b[0;36msave_pkl\u001b[1;34m(header, data, plot, curve_fit, annotation, location, time, filename, matlab, gzip, plot_axes)\u001b[0m\n\u001b[0;32m     68\u001b[0m \u001b[1;33m\u001b[0m\u001b[0m\n\u001b[0;32m     69\u001b[0m         \u001b[1;32mif\u001b[0m \u001b[0mplot_axes\u001b[0m \u001b[1;32mand\u001b[0m \u001b[0mplot\u001b[0m\u001b[1;33m:\u001b[0m\u001b[1;33m\u001b[0m\u001b[0m\n\u001b[1;32m---> 70\u001b[1;33m                 \u001b[0mplotting\u001b[0m\u001b[1;33m.\u001b[0m\u001b[0mupdate_plot_measurement\u001b[0m\u001b[1;33m(\u001b[0m\u001b[0mdata\u001b[0m\u001b[1;33m,\u001b[0m \u001b[0mplot_axes\u001b[0m\u001b[1;33m)\u001b[0m\u001b[1;33m\u001b[0m\u001b[0m\n\u001b[0m\u001b[0;32m     71\u001b[0m                 \u001b[0mplotting\u001b[0m\u001b[1;33m.\u001b[0m\u001b[0mplot_add_annotation\u001b[0m\u001b[1;33m(\u001b[0m\u001b[0mplot_axes\u001b[0m\u001b[1;33m,\u001b[0m \u001b[0mannotation\u001b[0m\u001b[1;33m)\u001b[0m\u001b[1;33m\u001b[0m\u001b[0m\n\u001b[0;32m     72\u001b[0m                 \u001b[0mplotting\u001b[0m\u001b[1;33m.\u001b[0m\u001b[0mplot_save\u001b[0m\u001b[1;33m(\u001b[0m\u001b[0mplot_axes\u001b[0m\u001b[1;33m,\u001b[0m \u001b[0mlocation\u001b[0m\u001b[1;33m)\u001b[0m\u001b[1;33m\u001b[0m\u001b[0m\n",
      "\u001b[1;32mC:\\qtlab_replacement\\qsweepy\\plotting.py\u001b[0m in \u001b[0;36mupdate_plot_measurement\u001b[1;34m(measurement, axes)\u001b[0m\n\u001b[0;32m    253\u001b[0m                 \u001b[1;32mfor\u001b[0m \u001b[0mplot_name\u001b[0m\u001b[1;33m,\u001b[0m \u001b[0mplot\u001b[0m \u001b[1;32min\u001b[0m \u001b[0max\u001b[0m\u001b[1;33m[\u001b[0m\u001b[1;34m'plots'\u001b[0m\u001b[1;33m]\u001b[0m\u001b[1;33m.\u001b[0m\u001b[0mitems\u001b[0m\u001b[1;33m(\u001b[0m\u001b[1;33m)\u001b[0m\u001b[1;33m:\u001b[0m\u001b[1;33m\u001b[0m\u001b[0m\n\u001b[0;32m    254\u001b[0m                         \u001b[0mmeas\u001b[0m\u001b[1;33m[\u001b[0m\u001b[0mplot_name\u001b[0m\u001b[1;33m]\u001b[0m \u001b[1;33m=\u001b[0m \u001b[1;33m(\u001b[0m\u001b[0mmeasurement\u001b[0m\u001b[1;33m[\u001b[0m\u001b[0mplot\u001b[0m\u001b[1;33m[\u001b[0m\u001b[1;34m'mname'\u001b[0m\u001b[1;33m]\u001b[0m\u001b[1;33m]\u001b[0m\u001b[1;33m[\u001b[0m\u001b[1;36m0\u001b[0m\u001b[1;33m]\u001b[0m\u001b[1;33m,\u001b[0m \u001b[0mmeasurement\u001b[0m\u001b[1;33m[\u001b[0m\u001b[0mplot\u001b[0m\u001b[1;33m[\u001b[0m\u001b[1;34m'mname'\u001b[0m\u001b[1;33m]\u001b[0m\u001b[1;33m]\u001b[0m\u001b[1;33m[\u001b[0m\u001b[1;36m1\u001b[0m\u001b[1;33m]\u001b[0m\u001b[1;33m,\u001b[0m \u001b[0mplot\u001b[0m\u001b[1;33m[\u001b[0m\u001b[1;34m'filter'\u001b[0m\u001b[1;33m]\u001b[0m\u001b[1;33m(\u001b[0m\u001b[0mmeasurement\u001b[0m\u001b[1;33m[\u001b[0m\u001b[0mplot\u001b[0m\u001b[1;33m[\u001b[0m\u001b[1;34m'mname'\u001b[0m\u001b[1;33m]\u001b[0m\u001b[1;33m]\u001b[0m\u001b[1;33m[\u001b[0m\u001b[1;36m2\u001b[0m\u001b[1;33m]\u001b[0m\u001b[1;33m)\u001b[0m\u001b[1;33m)\u001b[0m\u001b[1;33m\u001b[0m\u001b[0m\n\u001b[1;32m--> 255\u001b[1;33m                 \u001b[0mplots\u001b[0m \u001b[1;33m=\u001b[0m \u001b[0mupdate_plot_measurement_sa\u001b[0m\u001b[1;33m(\u001b[0m\u001b[0mmeas\u001b[0m\u001b[1;33m,\u001b[0m \u001b[0max\u001b[0m\u001b[1;33m)\u001b[0m\u001b[1;33m\u001b[0m\u001b[0m\n\u001b[0m\u001b[0;32m    256\u001b[0m \u001b[1;33m\u001b[0m\u001b[0m\n\u001b[0;32m    257\u001b[0m         \u001b[0mplt\u001b[0m\u001b[1;33m.\u001b[0m\u001b[0mdraw\u001b[0m\u001b[1;33m(\u001b[0m\u001b[1;33m)\u001b[0m\u001b[1;33m\u001b[0m\u001b[0m\n",
      "\u001b[1;32mC:\\qtlab_replacement\\qsweepy\\plotting.py\u001b[0m in \u001b[0;36mupdate_plot_measurement_sa\u001b[1;34m(measurement, plots)\u001b[0m\n\u001b[0;32m    372\u001b[0m                         \u001b[0mplot\u001b[0m\u001b[1;33m.\u001b[0m\u001b[0mset_data\u001b[0m\u001b[1;33m(\u001b[0m\u001b[0mdata\u001b[0m\u001b[1;33m)\u001b[0m\u001b[1;33m\u001b[0m\u001b[0m\n\u001b[0;32m    373\u001b[0m                         \u001b[0mplot\u001b[0m\u001b[1;33m.\u001b[0m\u001b[0mset_clim\u001b[0m\u001b[1;33m(\u001b[0m\u001b[0mnp\u001b[0m\u001b[1;33m.\u001b[0m\u001b[0mnanmin\u001b[0m\u001b[1;33m(\u001b[0m\u001b[0mdata\u001b[0m\u001b[1;33m)\u001b[0m\u001b[1;33m,\u001b[0m \u001b[0mnp\u001b[0m\u001b[1;33m.\u001b[0m\u001b[0mnanmax\u001b[0m\u001b[1;33m(\u001b[0m\u001b[0mdata\u001b[0m\u001b[1;33m)\u001b[0m\u001b[1;33m)\u001b[0m\u001b[1;33m\u001b[0m\u001b[0m\n\u001b[1;32m--> 374\u001b[1;33m                 \u001b[0mplt\u001b[0m\u001b[1;33m.\u001b[0m\u001b[0mgcf\u001b[0m\u001b[1;33m(\u001b[0m\u001b[1;33m)\u001b[0m\u001b[1;33m.\u001b[0m\u001b[0mcanvas\u001b[0m\u001b[1;33m.\u001b[0m\u001b[0mstart_event_loop\u001b[0m\u001b[1;33m(\u001b[0m\u001b[1;36m1.0\u001b[0m\u001b[1;33m)\u001b[0m\u001b[1;33m\u001b[0m\u001b[0m\n\u001b[0m\u001b[0;32m    375\u001b[0m \u001b[1;33m\u001b[0m\u001b[0m\n",
      "\u001b[1;32mC:\\ProgramData\\Anaconda3\\lib\\site-packages\\matplotlib\\backends\\backend_qt5.py\u001b[0m in \u001b[0;36mstart_event_loop\u001b[1;34m(self, timeout)\u001b[0m\n\u001b[0;32m    481\u001b[0m         \u001b[1;32mif\u001b[0m \u001b[0mtimeout\u001b[0m\u001b[1;33m:\u001b[0m\u001b[1;33m\u001b[0m\u001b[0m\n\u001b[0;32m    482\u001b[0m             \u001b[0mtimer\u001b[0m \u001b[1;33m=\u001b[0m \u001b[0mQtCore\u001b[0m\u001b[1;33m.\u001b[0m\u001b[0mQTimer\u001b[0m\u001b[1;33m.\u001b[0m\u001b[0msingleShot\u001b[0m\u001b[1;33m(\u001b[0m\u001b[0mtimeout\u001b[0m \u001b[1;33m*\u001b[0m \u001b[1;36m1000\u001b[0m\u001b[1;33m,\u001b[0m \u001b[0mevent_loop\u001b[0m\u001b[1;33m.\u001b[0m\u001b[0mquit\u001b[0m\u001b[1;33m)\u001b[0m\u001b[1;33m\u001b[0m\u001b[0m\n\u001b[1;32m--> 483\u001b[1;33m         \u001b[0mevent_loop\u001b[0m\u001b[1;33m.\u001b[0m\u001b[0mexec_\u001b[0m\u001b[1;33m(\u001b[0m\u001b[1;33m)\u001b[0m\u001b[1;33m\u001b[0m\u001b[0m\n\u001b[0m\u001b[0;32m    484\u001b[0m \u001b[1;33m\u001b[0m\u001b[0m\n\u001b[0;32m    485\u001b[0m     \u001b[1;32mdef\u001b[0m \u001b[0mstop_event_loop\u001b[0m\u001b[1;33m(\u001b[0m\u001b[0mself\u001b[0m\u001b[1;33m,\u001b[0m \u001b[0mevent\u001b[0m\u001b[1;33m=\u001b[0m\u001b[1;32mNone\u001b[0m\u001b[1;33m)\u001b[0m\u001b[1;33m:\u001b[0m\u001b[1;33m\u001b[0m\u001b[0m\n",
      "\u001b[1;31mKeyboardInterrupt\u001b[0m: "
     ]
    }
   ],
   "source": [
    "# lo1.set_status(0)\n",
    "nndac_channel_id = 0\n",
    "pna.set_power(-40)\n",
    "pna.set_nop(101)\n",
    "pna.set_bandwidth(20)\n",
    "voltage_max=2\n",
    "voltage_nop = 51\n",
    "# voltages=np.linspace(-voltage_max,voltage_max,voltage_nop)\n",
    "voltages=np.linspace(2.0,3.0,voltage_nop)\n",
    "pna.set_xlim(8.1e9,8.4e9) #0-7.423e9 pi-7.415\n",
    "try:\n",
    "    result = sweep.sweep(pna, \n",
    "                        (voltages, lambda x: dac.set_voltage(x, channel=nndac_channel_id), 'Coil #{} voltage,qubit{}'.format(1,qubit_id)), \n",
    "                        filename=' New anticrossings sample 1 qubit 3{} Icoil Power {}'.format(qubit_id, pna.get_power()))\n",
    "finally:\n",
    "    dac.set_voltage(0, channel=nndac_channel_id)"
   ]
  },
  {
   "cell_type": "code",
   "execution_count": 101,
   "metadata": {},
   "outputs": [
    {
     "name": "stderr",
     "output_type": "stream",
     "text": [
      "C:\\ProgramData\\Anaconda3\\lib\\site-packages\\pyvisa\\resources\\messagebased.py:573: FutureWarning: ask is deprecated and will be removed in 1.10, use query instead.\n",
      "  '1.10, use query instead.', FutureWarning)\n"
     ]
    },
    {
     "data": {
      "application/vnd.jupyter.widget-view+json": {
       "model_id": "b1827989d3964cc097bad8af41962fdb",
       "version_major": 2,
       "version_minor": 0
      },
      "text/plain": [
       "HTML(value='')"
      ]
     },
     "metadata": {},
     "output_type": "display_data"
    },
    {
     "name": "stderr",
     "output_type": "stream",
     "text": [
      "C:\\ProgramData\\Anaconda3\\lib\\site-packages\\pyvisa\\resources\\messagebased.py:573: FutureWarning: ask is deprecated and will be removed in 1.10, use query instead.\n",
      "  '1.10, use query instead.', FutureWarning)\n"
     ]
    },
    {
     "name": "stdout",
     "output_type": "stream",
     "text": [
      "Started at:  Dec 17 2018 08:38:08\n"
     ]
    },
    {
     "name": "stderr",
     "output_type": "stream",
     "text": [
      "C:\\qtlab_replacement\\qsweepy\\sweep.py:218: FutureWarning: Using a non-tuple sequence for multidimensional indexing is deprecated; use `arr[tuple(seq)]` instead of `arr[seq]`. In the future this will be interpreted as an array index, `arr[np.array(seq)]`, which will result either in an error or a different result.\n",
      "  data[mname][[(i) for i in indeces]+[...]] = mpoint_m\n"
     ]
    },
    {
     "name": "stdout",
     "output_type": "stream",
     "text": [
      "Exiting sweep main thread #{} via return 11260\n",
      "\n",
      "Elapsed time: 0 h 3 m 53.34 s\n"
     ]
    }
   ],
   "source": [
    "# lo1.set_status(0)\n",
    "nndac_channel_id = 0\n",
    "pna.set_power(-40)\n",
    "pna.set_nop(151)\n",
    "pna.set_bandwidth(30)\n",
    "voltage_max=2\n",
    "voltage_nop = 51\n",
    "# voltages=np.linspace(-voltage_max,voltage_max,voltage_nop)\n",
    "voltages=np.linspace(1.6,1.8,voltage_nop)\n",
    "pna.set_xlim(7.325e9,7.475e9)\n",
    "try:\n",
    "    result = sweep.sweep(pna, \n",
    "                        (voltages, lambda x: dac.set_voltage(x, channel=nndac_channel_id), 'Coil #{} voltage,qubit{}'.format(1,qubit_id)), \n",
    "                        filename=' New anticrossings sample 2 qubit 1{} Icoil power {}'.format(qubit_id, pna.get_power()))\n",
    "finally:\n",
    "    dac.set_voltage(0, channel=nndac_channel_id)"
   ]
  },
  {
   "cell_type": "code",
   "execution_count": 81,
   "metadata": {},
   "outputs": [
    {
     "data": {
      "text/plain": [
       "<matplotlib.colorbar.Colorbar at 0x192a2ab39e8>"
      ]
     },
     "execution_count": 81,
     "metadata": {},
     "output_type": "execute_result"
    }
   ],
   "source": [
    "plt.figure()\n",
    "plt.pcolormesh(result['S-parameter'][1][0], result['S-parameter'][1][1], np.abs(result['S-parameter'][2]).T)\n",
    "plt.colorbar()"
   ]
  },
  {
   "cell_type": "code",
   "execution_count": 79,
   "metadata": {},
   "outputs": [
    {
     "data": {
      "text/plain": [
       "<matplotlib.colorbar.Colorbar at 0x192a368a1d0>"
      ]
     },
     "execution_count": 79,
     "metadata": {},
     "output_type": "execute_result"
    }
   ],
   "source": [
    "plt.figure()\n",
    "diff = np.gradient(result['S-parameter'][2])\n",
    "plt.pcolormesh(result['S-parameter'][1][0], result['S-parameter'][1][1], np.real(diff[0]).T,vmin=-0.01, vmax=0.01)\n",
    "plt.colorbar()"
   ]
  },
  {
   "cell_type": "code",
   "execution_count": null,
   "metadata": {},
   "outputs": [],
   "source": []
  },
  {
   "cell_type": "markdown",
   "metadata": {},
   "source": [
    "# Однотоновая спектроскопия резонатора от тектроникса\n",
    "\n"
   ]
  },
  {
   "cell_type": "code",
   "execution_count": 57,
   "metadata": {},
   "outputs": [
    {
     "name": "stderr",
     "output_type": "stream",
     "text": [
      "C:\\ProgramData\\Anaconda3\\lib\\site-packages\\pyvisa\\resources\\messagebased.py:573: FutureWarning: ask is deprecated and will be removed in 1.10, use query instead.\n",
      "  '1.10, use query instead.', FutureWarning)\n"
     ]
    },
    {
     "data": {
      "text/plain": [
       "True"
      ]
     },
     "execution_count": 57,
     "metadata": {},
     "output_type": "execute_result"
    }
   ],
   "source": [
    "coil_device.get_status(channel=1)"
   ]
  },
  {
   "cell_type": "code",
   "execution_count": 62,
   "metadata": {},
   "outputs": [
    {
     "data": {
      "text/plain": [
       "<bound method Tektronix_AWG5014.stop of <Tektronix_AWG5014.Tektronix_AWG5014 object at 0x0000024613C4BF60>>"
      ]
     },
     "execution_count": 62,
     "metadata": {},
     "output_type": "execute_result"
    }
   ],
   "source": [
    "coil_device.stop"
   ]
  },
  {
   "cell_type": "code",
   "execution_count": 65,
   "metadata": {},
   "outputs": [],
   "source": [
    "coil_device.run()"
   ]
  },
  {
   "cell_type": "code",
   "execution_count": 67,
   "metadata": {},
   "outputs": [
    {
     "name": "stderr",
     "output_type": "stream",
     "text": [
      "C:\\ProgramData\\Anaconda3\\lib\\site-packages\\pyvisa\\resources\\messagebased.py:573: FutureWarning: ask is deprecated and will be removed in 1.10, use query instead.\n",
      "  '1.10, use query instead.', FutureWarning)\n"
     ]
    },
    {
     "data": {
      "application/vnd.jupyter.widget-view+json": {
       "model_id": "e5b9e0a256d240ba9ac41b623e8de094",
       "version_major": 2,
       "version_minor": 0
      },
      "text/plain": [
       "HTML(value='')"
      ]
     },
     "metadata": {},
     "output_type": "display_data"
    },
    {
     "name": "stdout",
     "output_type": "stream",
     "text": [
      "Started at:  Dec 14 2018 08:07:17\n"
     ]
    },
    {
     "name": "stderr",
     "output_type": "stream",
     "text": [
      "C:\\ProgramData\\Anaconda3\\lib\\site-packages\\pyvisa\\resources\\messagebased.py:573: FutureWarning: ask is deprecated and will be removed in 1.10, use query instead.\n",
      "  '1.10, use query instead.', FutureWarning)\n",
      "C:\\qtlab_replacement\\qsweepy\\sweep.py:218: FutureWarning: Using a non-tuple sequence for multidimensional indexing is deprecated; use `arr[tuple(seq)]` instead of `arr[seq]`. In the future this will be interpreted as an array index, `arr[np.array(seq)]`, which will result either in an error or a different result.\n",
      "  data[mname][[(i) for i in indeces]+[...]] = mpoint_m\n"
     ]
    },
    {
     "name": "stdout",
     "output_type": "stream",
     "text": [
      "Exiting sweep main thread #{} via return 12736\n",
      "\n",
      "Elapsed time: 0 h 3 m 8.01 s\n"
     ]
    },
    {
     "data": {
      "text/plain": [
       "<bound method Tektronix_AWG5014.stop of <Tektronix_AWG5014.Tektronix_AWG5014 object at 0x0000024613C4BF60>>"
      ]
     },
     "execution_count": 67,
     "metadata": {},
     "output_type": "execute_result"
    }
   ],
   "source": [
    "if coil_device != awg_tek:\n",
    "    raise ValueError('awg_tek is not the active coil control device. This cell is for awg_tek.')\n",
    "#coil = 'z1'\n",
    "#current_max = 1.5e-3\n",
    "voltage_max = 1.9\n",
    "current_nop = 101\n",
    "#nndac_channels = [6,8,10]#[18,20]#[18, 20, 16]#[21,1,7]\n",
    "awg_tek_channels = [2]\n",
    "coil_device_channels = [2]\n",
    "#currents=np.linspace(-current_max,current_max,current_nop)\n",
    "voltages=np.linspace(-voltage_max,voltage_max,current_nop)\n",
    "#current_src1.set_status(1)\n",
    "pna.set_nop(101)\n",
    "pna.set_bandwidth(50)\n",
    "pna.set_power(-15) \n",
    "lo1.set_status(0)\n",
    "for coil_device_channel in coil_device_channels:\n",
    "    for qubit_id in ['1']:\n",
    "        coil = 'coil_device_channel-'+str(coil_device_channel)\n",
    "        coil_device.set_output(1, channel=coil_device_channel)\n",
    "        #pna.set_nop((7.5e9-7.2e9)/301)\n",
    "        pna.set_xlim(7.3e9, 7.46e9)\n",
    "        result = sweep.sweep(pna, \n",
    "                        (voltages, lambda x: coil_device.set_offset(x, channel=coil_device_channel), 'Coil #{} voltage, qubit{}'.format(coil,qubit_id)), \n",
    "                        filename=' Tek anticrossings sample 1 qubit 1{} Icoil power {}'.format(qubit_id, pna.get_power()))\n",
    "                \n",
    "        #dac.set_voltage(0, channel=6)#0)\n",
    "        #dac.set_voltage(0, channel=8)#2)\n",
    "        #dac.set_voltage(0, channel=10)#4)\n",
    "        coil_device.set_output(0, channel=coil_device_channel)\n",
    "        for coil_device_channel2 in coil_device_channels:\n",
    "            coil_device.set_offset(0, channel=coil_device_channel2)\n",
    "\n",
    "coil_device.stop"
   ]
  },
  {
   "cell_type": "code",
   "execution_count": null,
   "metadata": {},
   "outputs": [],
   "source": [
    "coil_device.run()"
   ]
  },
  {
   "cell_type": "code",
   "execution_count": 36,
   "metadata": {},
   "outputs": [
    {
     "name": "stderr",
     "output_type": "stream",
     "text": [
      "C:\\ProgramData\\Anaconda3\\lib\\site-packages\\pyvisa\\resources\\messagebased.py:573: FutureWarning: ask is deprecated and will be removed in 1.10, use query instead.\n",
      "  '1.10, use query instead.', FutureWarning)\n"
     ]
    },
    {
     "ename": "KeyError",
     "evalue": "'Fr_max'",
     "output_type": "error",
     "traceback": [
      "\u001b[1;31m---------------------------------------------------------------------------\u001b[0m",
      "\u001b[1;31mKeyError\u001b[0m                                  Traceback (most recent call last)",
      "\u001b[1;32m<ipython-input-36-0fd38f26f3c6>\u001b[0m in \u001b[0;36m<module>\u001b[1;34m()\u001b[0m\n\u001b[0;32m     32\u001b[0m \u001b[1;33m\u001b[0m\u001b[0m\n\u001b[0;32m     33\u001b[0m         \u001b[0mcoil_device\u001b[0m\u001b[1;33m.\u001b[0m\u001b[0mset_output\u001b[0m\u001b[1;33m(\u001b[0m\u001b[1;36m1\u001b[0m\u001b[1;33m,\u001b[0m \u001b[0mchannel\u001b[0m\u001b[1;33m=\u001b[0m\u001b[0mcoil_device_channel\u001b[0m\u001b[1;33m)\u001b[0m\u001b[1;33m\u001b[0m\u001b[0m\n\u001b[1;32m---> 34\u001b[1;33m         \u001b[0mpna\u001b[0m\u001b[1;33m.\u001b[0m\u001b[0mset_nop\u001b[0m\u001b[1;33m(\u001b[0m\u001b[1;33m(\u001b[0m\u001b[0mqubits\u001b[0m\u001b[1;33m[\u001b[0m\u001b[0mqubit_id\u001b[0m\u001b[1;33m]\u001b[0m\u001b[1;33m[\u001b[0m\u001b[1;34m'r'\u001b[0m\u001b[1;33m]\u001b[0m\u001b[1;33m[\u001b[0m\u001b[1;34m'Fr_max'\u001b[0m\u001b[1;33m]\u001b[0m\u001b[1;33m-\u001b[0m\u001b[0mqubits\u001b[0m\u001b[1;33m[\u001b[0m\u001b[0mqubit_id\u001b[0m\u001b[1;33m]\u001b[0m\u001b[1;33m[\u001b[0m\u001b[1;34m'r'\u001b[0m\u001b[1;33m]\u001b[0m\u001b[1;33m[\u001b[0m\u001b[1;34m'Fr_min'\u001b[0m\u001b[1;33m]\u001b[0m\u001b[1;33m)\u001b[0m\u001b[1;33m/\u001b[0m\u001b[0mqubits\u001b[0m\u001b[1;33m[\u001b[0m\u001b[0mqubit_id\u001b[0m\u001b[1;33m]\u001b[0m\u001b[1;33m[\u001b[0m\u001b[1;34m'r'\u001b[0m\u001b[1;33m]\u001b[0m\u001b[1;33m[\u001b[0m\u001b[1;34m'dFr'\u001b[0m\u001b[1;33m]\u001b[0m\u001b[1;33m+\u001b[0m\u001b[1;36m1\u001b[0m\u001b[1;33m)\u001b[0m\u001b[1;33m\u001b[0m\u001b[0m\n\u001b[0m\u001b[0;32m     35\u001b[0m         \u001b[0mpna\u001b[0m\u001b[1;33m.\u001b[0m\u001b[0mset_xlim\u001b[0m\u001b[1;33m(\u001b[0m\u001b[0mqubits\u001b[0m\u001b[1;33m[\u001b[0m\u001b[0mqubit_id\u001b[0m\u001b[1;33m]\u001b[0m\u001b[1;33m[\u001b[0m\u001b[1;34m'r'\u001b[0m\u001b[1;33m]\u001b[0m\u001b[1;33m[\u001b[0m\u001b[1;34m'Fr_min'\u001b[0m\u001b[1;33m]\u001b[0m\u001b[1;33m,\u001b[0m \u001b[0mqubits\u001b[0m\u001b[1;33m[\u001b[0m\u001b[0mqubit_id\u001b[0m\u001b[1;33m]\u001b[0m\u001b[1;33m[\u001b[0m\u001b[1;34m'r'\u001b[0m\u001b[1;33m]\u001b[0m\u001b[1;33m[\u001b[0m\u001b[1;34m'Fr_max'\u001b[0m\u001b[1;33m]\u001b[0m\u001b[1;33m)\u001b[0m\u001b[1;33m\u001b[0m\u001b[0m\n\u001b[0;32m     36\u001b[0m         result,loc = sweep.sweep(pna, \n",
      "\u001b[1;31mKeyError\u001b[0m: 'Fr_max'"
     ]
    }
   ],
   "source": [
    "if coil_device != awg_tek:\n",
    "    raise ValueError('awg_tek is not the active coil control device. This cell is for awg_tek.')\n",
    "\n",
    "anticrossing_matrix = []\n",
    "files_matrix_location = []\n",
    "voltage_max = 2\n",
    "current_nop = 401\n",
    "#coil_device_channels = [1,2,3]\n",
    "coil_device_channels = [1]\n",
    "voltages=np.linspace(-voltage_max,voltage_max,current_nop)\n",
    "pna.set_nop(401)\n",
    "pna.set_bandwidth(500)\n",
    "pna.set_power(qubits[qubit_id]['r']['P']+40) \n",
    "lo1.set_status(0)\n",
    "for coil_device_channel in coil_device_channels:\n",
    "    anticrossing_row = []\n",
    "    files_location_row = []\n",
    "    for qubit_id in ['1']:\n",
    "        # if we are in the main coil for the current qubit, sweep only the main coil.\n",
    "        if qubits[qubit_id]['q']['P']['coil_device_channel'] == coil_device_channel:\n",
    "            coil = 'coil_device_channel-('+str(coil_device_channel)+')'\n",
    "            def setter(x):\n",
    "                coil_device.set_offset(x, channel=coil_device_channel)\n",
    "        # if we are probing a non-diagonal matrix element (non-main coil), sweep the main simultaneously.\n",
    "        # this helps to identify the sign of the mutual matrix element.\n",
    "        else:\n",
    "            coil = 'coil_device_channel-('+str(coil_device_channel)+')+('+\\\n",
    "                                           str(qubits[qubit_id]['q']['P']['coil_device_channel'])+')'\n",
    "            coil_device.set_output(1, channel=qubits[qubit_id]['q']['P']['coil_device_channel'])\n",
    "            def setter(x):\n",
    "                coil_device.set_offset(x, channel=coil_device_channel)\n",
    "                coil_device.set_offset(x, channel=qubits[qubit_id]['q']['P']['coil_device_channel'])\n",
    "        \n",
    "        coil_device.set_output(1, channel=coil_device_channel)\n",
    "        pna.set_nop((qubits[qubit_id]['r']['Fr_max']-qubits[qubit_id]['r']['Fr_min'])/qubits[qubit_id]['r']['dFr']+1)\n",
    "        pna.set_xlim(qubits[qubit_id]['r']['Fr_min'], qubits[qubit_id]['r']['Fr_max'])\n",
    "        result,loc = sweep.sweep(pna, \n",
    "                        (voltages, setter, '#{} voltage, qubit{}'.format(coil,qubit_id)), \n",
    "                        filename=sample_name+' #{} anticrossings qubit {}'.format(coil, qubit_id),loc=True)\n",
    "#         loc+=sample_name+' #{} anticrossings qubit {}'.format(coil, qubit_id)+'.pkl'\n",
    "        files_location_row.append(loc)\n",
    "        anticrossing_row.append(result['S-parameter'])\n",
    "        \n",
    "        \n",
    "        for coil_device_channel2 in coil_device_channels:\n",
    "            coil_device.set_offset(0, channel=coil_device_channel2)\n",
    "    anticrossing_matrix.append(anticrossing_row)\n",
    "    files_matrix_location.append(files_location_row)\n",
    "lo1.set_status(1)"
   ]
  },
  {
   "cell_type": "code",
   "execution_count": null,
   "metadata": {},
   "outputs": [],
   "source": []
  },
  {
   "cell_type": "markdown",
   "metadata": {},
   "source": [
    "\n",
    "## построение графиков задержки"
   ]
  },
  {
   "cell_type": "code",
   "execution_count": 69,
   "metadata": {
    "collapsed": true
   },
   "outputs": [],
   "source": [
    "delay_median = np.median(np.gradient(np.angle(meas['S-parameter'][2]), axis=1))\n",
    "phase_compensator = np.exp(-1j*delay_median*np.arange(meas['S-parameter'][2].shape[1]))\n",
    "meas_delay_compensated = meas['S-parameter'][2]*phase_compensator\n",
    "meas_phase_median = np.median(np.angle(meas['S-parameter'][2]), axis=1)\n",
    "#plt.figure('Однотоновая спектроскопия резонатора в зависимости от мощности')\n",
    "meas_compensated = {'S-parameter':[i for i in meas['S-parameter']]}\n",
    "meas_compensated['S-parameter'][2] = meas['S-parameter'][2]*phase_compensator\n",
    "\n",
    "frequencies = meas_compensated['S-parameter'][1][1]/1e9\n",
    "ang_freq_step = 2*np.pi*(frequencies[1]-frequencies[0])\n",
    "\n",
    "#plotting.plot_measurement(meas_compensated)\n",
    "plt.figure(figsize=(12,6))\n",
    "plt.title('Однотоновая спектроскопия резонатора в зависимости от мощности, образец #{}'.format(qubit_id))\n",
    "plt.pcolormesh(meas_compensated['S-parameter'][1][0], \n",
    "               meas_compensated['S-parameter'][1][1]/1e9, \n",
    "               -np.gradient(np.unwrap(np.angle(meas_compensated['S-parameter'][2])).T)[0]/ang_freq_step, cmap='RdBu')\n",
    "plt.colorbar()\n",
    "#plt.close()\n",
    "plt.xlabel('Мощность, дБ')\n",
    "plt.ylabel('Частота, ГГц')\n",
    "plt.tight_layout()\n",
    "plt.grid(True)\n",
    "plt.savefig('single-tone-spectroscopy.pdf')\n",
    "\n",
    "\n",
    "plt.figure(figsize=(12,6))\n",
    "plt.title('Однотоновая спектроскопия резонатора (-10 дБм), образец #{}'.format(qubit_id))\n",
    "plt.plot(meas_compensated['S-parameter'][1][1]/1e9, \n",
    "               -np.gradient(np.unwrap(np.angle(meas_compensated['S-parameter'][2])).T)[0][:,21]/ang_freq_step)\n",
    "#plt.close()\n",
    "plt.xlabel('Частота, ГГц')\n",
    "plt.ylabel('Задержка, нс')\n",
    "plt.tight_layout()\n",
    "plt.grid(True)\n",
    "plt.savefig('single-tone-spectroscopy-cs.pdf')"
   ]
  },
  {
   "cell_type": "code",
   "execution_count": 38,
   "metadata": {
    "collapsed": true
   },
   "outputs": [],
   "source": [
    "plt.figure(figsize=(12,6))\n",
    "plt.title('Однотоновая спектроскопия резонатора (0 дБм), образец #{}'.format(qubit_id))\n",
    "plt.plot(meas_compensated['S-parameter'][1][1]/1e9, \n",
    "               -np.gradient(np.unwrap(np.angle(meas_compensated['S-parameter'][2])).T)[0][:,17]/ang_freq_step)\n",
    "#plt.close()\n",
    "plt.xlabel('Частота, ГГц')\n",
    "plt.ylabel('Задержка, нс')\n",
    "plt.tight_layout()\n",
    "plt.grid(True)\n",
    "plt.savefig('single-tone-spectroscopy-cs.pdf')"
   ]
  },
  {
   "cell_type": "markdown",
   "metadata": {},
   "source": [
    "# Двухтоновая спектроскопия (определение области частот, отвечающих кубитам)"
   ]
  },
  {
   "cell_type": "code",
   "execution_count": 435,
   "metadata": {},
   "outputs": [],
   "source": [
    "dac.set_voltage(0.3, channel=0)"
   ]
  },
  {
   "cell_type": "code",
   "execution_count": 178,
   "metadata": {},
   "outputs": [
    {
     "name": "stderr",
     "output_type": "stream",
     "text": [
      "C:\\ProgramData\\Anaconda3\\lib\\site-packages\\pyvisa\\resources\\messagebased.py:573: FutureWarning: ask is deprecated and will be removed in 1.10, use query instead.\n",
      "  '1.10, use query instead.', FutureWarning)\n"
     ]
    },
    {
     "data": {
      "text/plain": [
       "True"
      ]
     },
     "execution_count": 178,
     "metadata": {},
     "output_type": "execute_result"
    }
   ],
   "source": [
    "pna.set_nop(100)"
   ]
  },
  {
   "cell_type": "code",
   "execution_count": 436,
   "metadata": {
    "scrolled": true
   },
   "outputs": [
    {
     "data": {
      "application/vnd.jupyter.widget-view+json": {
       "model_id": "3c8dd551cf6c405b8e72ec2b56a6bbe3",
       "version_major": 2,
       "version_minor": 0
      },
      "text/plain": [
       "HTML(value='')"
      ]
     },
     "metadata": {},
     "output_type": "display_data"
    },
    {
     "name": "stdout",
     "output_type": "stream",
     "text": [
      "Started at:  Dec 19 2018 15:43:57\n",
      "Exiting sweep main thread #{} via return 9876\n",
      "\n",
      "Elapsed time: 0 h 6 m 6.09 s\n"
     ]
    },
    {
     "data": {
      "text/plain": [
       "True"
      ]
     },
     "execution_count": 436,
     "metadata": {},
     "output_type": "execute_result"
    }
   ],
   "source": [
    "#dac.set_voltage(0, channel=0)\n",
    "#двухтонка в пи\n",
    "ex_freqs = np.arange(3e9, 10.0e9, 4.00e6)\n",
    "#lo1.set_power(-10) # no mixer\n",
    "lo1.set_power(0) # w/mixer\n",
    "#Измерение\n",
    "lo1.set_status(1)\n",
    "pna.set_nop(1)\n",
    "nndac_channel_id = 0\n",
    "pna.set_centerfreq(7.410e9)\n",
    "pna.set_frequency(7.410e9)\n",
    "#pna.set_centerfreq(7.423e9)\n",
    "#pna.set_frequency(7.423e9) 7.271\n",
    "#pna.set_centerfreq(7.373e9)\n",
    "#pna.set_frequency(7.373e9)\n",
    "pna.set_bandwidth(4)\n",
    "pna.set_power(-10) #я тут меняю подожди вниуз я\n",
    "#dac.set_voltage(1.695, channel=nndac_channel_id)\n",
    "# dac.set_voltage(1.55, channel=nndac_channel_id)\n",
    "header = '''#Parameter = Ex frequency\n",
    "#Ex power = {:f}'''\n",
    "try:\n",
    "    ex1D = sweep.sweep(pna, (ex_freqs, lo1.set_frequency, 'Second tone freq,drive', 'Hz'), \n",
    "                       filename = \"Two-tone2 #{}\".format(qubit_id))\n",
    "except KeyboardInterrupt: pass \n",
    "lo1.set_status(0)"
   ]
  },
  {
   "cell_type": "code",
   "execution_count": 398,
   "metadata": {},
   "outputs": [],
   "source": [
    "dac = nndac('TCPIP0::10.20.61.12::1000::SOCKET')"
   ]
  },
  {
   "cell_type": "code",
   "execution_count": 437,
   "metadata": {},
   "outputs": [],
   "source": [
    "dac.set_voltage(1.775, channel=0)"
   ]
  },
  {
   "cell_type": "code",
   "execution_count": 109,
   "metadata": {},
   "outputs": [
    {
     "name": "stderr",
     "output_type": "stream",
     "text": [
      "C:\\ProgramData\\Anaconda3\\lib\\site-packages\\pyvisa\\resources\\messagebased.py:573: FutureWarning: ask is deprecated and will be removed in 1.10, use query instead.\n",
      "  '1.10, use query instead.', FutureWarning)\n"
     ]
    }
   ],
   "source": [
    "dac.set_voltage(1.75, channel=0)"
   ]
  },
  {
   "cell_type": "code",
   "execution_count": 106,
   "metadata": {},
   "outputs": [
    {
     "name": "stderr",
     "output_type": "stream",
     "text": [
      "C:\\ProgramData\\Anaconda3\\lib\\site-packages\\pyvisa\\resources\\messagebased.py:573: FutureWarning: ask is deprecated and will be removed in 1.10, use query instead.\n",
      "  '1.10, use query instead.', FutureWarning)\n"
     ]
    }
   ],
   "source": [
    "dac.set_voltage(0, channel=0)"
   ]
  },
  {
   "cell_type": "code",
   "execution_count": 444,
   "metadata": {
    "scrolled": true
   },
   "outputs": [
    {
     "data": {
      "application/vnd.jupyter.widget-view+json": {
       "model_id": "c775622e179e462fa55ff6580f077d69",
       "version_major": 2,
       "version_minor": 0
      },
      "text/plain": [
       "HTML(value='')"
      ]
     },
     "metadata": {},
     "output_type": "display_data"
    },
    {
     "name": "stdout",
     "output_type": "stream",
     "text": [
      "Started at:  Dec 19 2018 16:13:04\n"
     ]
    },
    {
     "name": "stderr",
     "output_type": "stream",
     "text": [
      "Exception in thread Thread-132:\n",
      "Traceback (most recent call last):\n",
      "  File \"C:\\ProgramData\\Anaconda3\\lib\\threading.py\", line 916, in _bootstrap_inner\n",
      "    self.run()\n",
      "  File \"C:\\ProgramData\\Anaconda3\\lib\\threading.py\", line 864, in run\n",
      "    self._target(*self._args, **self._kwargs)\n",
      "  File \"C:\\qtlab_replacement\\qsweepy\\sweep.py\", line 282, in main_sweep_loop\n",
      "    set_single_measurement_result(mpoint, indeces)\n",
      "  File \"C:\\qtlab_replacement\\qsweepy\\sweep.py\", line 226, in set_single_measurement_result\n",
      "    ascii_file.write(data_to_str(fmt(mpoint_m_flat))+'\\n')\n",
      "ValueError: I/O operation on closed file.\n",
      "\n"
     ]
    },
    {
     "data": {
      "text/plain": [
       "True"
      ]
     },
     "execution_count": 444,
     "metadata": {},
     "output_type": "execute_result"
    }
   ],
   "source": [
    "#двухтонка в пи\n",
    "#dac.set_voltage(1.735, channel=0)\n",
    "ex_freqs = np.arange(2.27e9, 2.34e9, 0.10e6)\n",
    "#ex_freqs = np.arange(0.35e9, 0.50e9, 0.02e6)\n",
    "#lo1.set_power(-10) # no mixer\n",
    "lo1.set_power(5)#w/mixer\n",
    "#Измерение\n",
    "lo1.set_status(1)\n",
    "pna.set_nop(1)\n",
    "nndac_channel_id = 0\n",
    "pna.set_centerfreq(7.422e9)\n",
    "pna.set_frequency(7.422e9)\n",
    "#pna.set_centerfreq(7.42e9)\n",
    "#pna.set_frequency(7.42e9) \n",
    "#pna.set_centerfreq(7.372e9)\n",
    "#pna.set_frequency(7.372e9)\n",
    "pna.set_bandwidth(2)\n",
    "pna.set_power(-10) #я тут меняю подожди вниуз я\n",
    "#dac.set_voltage(1.695, channel=nndac_channel_id)\n",
    "# dac.set_voltage(1.55, channel=nndac_channel_id)\n",
    "header = '''#Parameter = Ex frequency\n",
    "#Ex power = {:f}'''\n",
    "try:\n",
    "    ex1D = sweep.sweep(pna, (ex_freqs, lo1.set_frequency, 'Second tone freq,drive', 'Hz'), \n",
    "                       filename = \"FineTwo-tone #{}\".format(qubit_id))\n",
    "except KeyboardInterrupt: pass \n",
    "lo1.set_status(0)"
   ]
  },
  {
   "cell_type": "code",
   "execution_count": 122,
   "metadata": {},
   "outputs": [
    {
     "name": "stderr",
     "output_type": "stream",
     "text": [
      "C:\\ProgramData\\Anaconda3\\lib\\site-packages\\pyvisa\\resources\\messagebased.py:573: FutureWarning: ask is deprecated and will be removed in 1.10, use query instead.\n",
      "  '1.10, use query instead.', FutureWarning)\n"
     ]
    },
    {
     "data": {
      "application/vnd.jupyter.widget-view+json": {
       "model_id": "56b0e16807cb42faafd303edea97656d",
       "version_major": 2,
       "version_minor": 0
      },
      "text/plain": [
       "HTML(value='')"
      ]
     },
     "metadata": {},
     "output_type": "display_data"
    },
    {
     "name": "stderr",
     "output_type": "stream",
     "text": [
      "C:\\ProgramData\\Anaconda3\\lib\\site-packages\\pyvisa\\resources\\messagebased.py:573: FutureWarning: ask is deprecated and will be removed in 1.10, use query instead.\n",
      "  '1.10, use query instead.', FutureWarning)\n"
     ]
    },
    {
     "name": "stdout",
     "output_type": "stream",
     "text": [
      "Started at:  Dec 11 2018 07:47:29\n"
     ]
    },
    {
     "name": "stderr",
     "output_type": "stream",
     "text": [
      "C:\\qtlab_replacement\\qsweepy\\sweep.py:218: FutureWarning: Using a non-tuple sequence for multidimensional indexing is deprecated; use `arr[tuple(seq)]` instead of `arr[seq]`. In the future this will be interpreted as an array index, `arr[np.array(seq)]`, which will result either in an error or a different result.\n",
      "  data[mname][[(i) for i in indeces]+[...]] = mpoint_m\n"
     ]
    },
    {
     "name": "stdout",
     "output_type": "stream",
     "text": [
      "Exiting sweep main thread #{} via return 6320\n",
      "\n",
      "Elapsed time: 0 h 25 m 21.08 s\n"
     ]
    },
    {
     "data": {
      "text/plain": [
       "True"
      ]
     },
     "execution_count": 122,
     "metadata": {},
     "output_type": "execute_result"
    }
   ],
   "source": [
    "#Power scan\n",
    "ex_freqs = np.arange(0.1e9, 0.5e9, 0.5e6)\n",
    "ex_powers = np.linspace(-20,-4,33)\n",
    "#lo1.set_power(-10) # no mixer\n",
    "#lo1.set_power(5) # w/mixer\n",
    "#Измерение\n",
    "lo1.set_status(1)\n",
    "pna.set_nop(1)\n",
    "nndac_channel_id = 0\n",
    "#pna.set_centerfreq(7.3525)\n",
    "#pna.set_frequency(7.3525)\n",
    "pna.set_centerfreq(7.448e9)\n",
    "pna.set_frequency(7.448e9)\n",
    "pna.set_bandwidth(2)\n",
    "pna.set_power(-30) #я тут меняю подожди вниуз я\n",
    "#dac.set_voltage(1.695, channel=nndac_channel_id)\n",
    "# dac.set_voltage(1.55, channel=nndac_channel_id)\n",
    "header = '''#Parameter = Ex frequency'''\n",
    "try:\n",
    "    ex1D = sweep.sweep(pna, \n",
    "                       (ex_freqs, lo1.set_frequency, 'Second tone freq,drive', 'Hz'), \n",
    "                       (ex_powers, lo1.set_power, 'Second tone power', 'dBm'),\n",
    "                       filename = \"Scane Lungo Two-tone power-dependent #{}\".format(qubit_id))\n",
    "except KeyboardInterrupt: pass \n",
    "lo1.set_status(0)"
   ]
  },
  {
   "cell_type": "code",
   "execution_count": 26,
   "metadata": {},
   "outputs": [
    {
     "name": "stderr",
     "output_type": "stream",
     "text": [
      "C:\\ProgramData\\Anaconda3\\lib\\site-packages\\pyvisa\\resources\\messagebased.py:573: FutureWarning: ask is deprecated and will be removed in 1.10, use query instead.\n",
      "  '1.10, use query instead.', FutureWarning)\n"
     ]
    },
    {
     "data": {
      "application/vnd.jupyter.widget-view+json": {
       "model_id": "bfbca0ad21ca4d52b37b30e6630bc7da",
       "version_major": 2,
       "version_minor": 0
      },
      "text/plain": [
       "HTML(value='')"
      ]
     },
     "metadata": {},
     "output_type": "display_data"
    },
    {
     "name": "stderr",
     "output_type": "stream",
     "text": [
      "C:\\ProgramData\\Anaconda3\\lib\\site-packages\\pyvisa\\resources\\messagebased.py:573: FutureWarning: ask is deprecated and will be removed in 1.10, use query instead.\n",
      "  '1.10, use query instead.', FutureWarning)\n"
     ]
    },
    {
     "name": "stdout",
     "output_type": "stream",
     "text": [
      "Started at:  Dec 16 2018 05:00:30\n"
     ]
    },
    {
     "name": "stderr",
     "output_type": "stream",
     "text": [
      "C:\\qtlab_replacement\\qsweepy\\sweep.py:218: FutureWarning: Using a non-tuple sequence for multidimensional indexing is deprecated; use `arr[tuple(seq)]` instead of `arr[seq]`. In the future this will be interpreted as an array index, `arr[np.array(seq)]`, which will result either in an error or a different result.\n",
      "  data[mname][[(i) for i in indeces]+[...]] = mpoint_m\n",
      "Exception in thread Thread-9:\n",
      "Traceback (most recent call last):\n",
      "  File \"C:\\ProgramData\\Anaconda3\\lib\\threading.py\", line 916, in _bootstrap_inner\n",
      "    self.run()\n",
      "  File \"C:\\ProgramData\\Anaconda3\\lib\\threading.py\", line 864, in run\n",
      "    self._target(*self._args, **self._kwargs)\n",
      "  File \"C:\\qtlab_replacement\\qsweepy\\sweep.py\", line 282, in main_sweep_loop\n",
      "    set_single_measurement_result(mpoint, indeces)\n",
      "  File \"C:\\qtlab_replacement\\qsweepy\\sweep.py\", line 226, in set_single_measurement_result\n",
      "    ascii_file.write(data_to_str(fmt(mpoint_m_flat))+'\\n')\n",
      "ValueError: I/O operation on closed file.\n",
      "\n"
     ]
    },
    {
     "data": {
      "text/plain": [
       "True"
      ]
     },
     "execution_count": 26,
     "metadata": {},
     "output_type": "execute_result"
    }
   ],
   "source": [
    "# startV = range(1.6,1.8,0.2)\n",
    "# for startvoltage in startV:\n",
    "# Двухтоновка в 0\n",
    "ex_freqs = np.arange(0.100e9, 10.0e9, 1.0e6)\n",
    "#lo1.set_power(-10) # no mixer\n",
    "lo1.set_power(0) # w/mixer\n",
    "#Измерение\n",
    "lo1.set_status(1)\n",
    "pna.set_nop(1)\n",
    "#pna.set_centerfreq(Qubits[qubit_id]['r']['Fr'])\n",
    "#pna.set_frequency(Qubits[qubit_id]['r']['Fr'])\n",
    "#pna.set_centerfreq(7.425e9)\n",
    "#pna.set_frequency(7.425e9)7.3745\n",
    "pna.set_centerfreq(7.374e9)\n",
    "pna.set_frequency(7.374e9)\n",
    "pna.set_bandwidth(20)\n",
    "#pna.set_power(Qubits[qubit_id]['r']['P'])\n",
    "pna.set_power(-15)\n",
    "# voltage_max=1.8\n",
    "voltage_nop = 26\n",
    "# voltages=np.linspace(-voltage_max,voltage_max,voltage_nop)\n",
    "voltages=np.linspace(-0.3,-0.1,voltage_nop)\n",
    "try:\n",
    "    ex1D = sweep.sweep(pna, \n",
    "                        (voltages, lambda x: dac.set_voltage(x, channel=0), 'Coil #{} voltage,qubit{}'.format(1,qubit_id)),\n",
    "                        (ex_freqs, lo1.set_frequency, 'Second tone freq', 'Hz'),\n",
    "                        filename = \"Second tone_10new  #{}, power lo {},power pna {}\".format(qubit_id,\\\n",
    "                                                                                                          lo1.get_power(),\n",
    "                                                                                                         pna.get_power()))\n",
    "except KeyboardInterrupt: pass \n",
    "lo1.set_status(0)\n"
   ]
  },
  {
   "cell_type": "code",
   "execution_count": 48,
   "metadata": {},
   "outputs": [
    {
     "name": "stderr",
     "output_type": "stream",
     "text": [
      "C:\\ProgramData\\Anaconda3\\lib\\site-packages\\pyvisa\\resources\\messagebased.py:573: FutureWarning: ask is deprecated and will be removed in 1.10, use query instead.\n",
      "  '1.10, use query instead.', FutureWarning)\n"
     ]
    }
   ],
   "source": [
    "dac = nndac('TCPIP0::10.20.61.12::1000::SOCKET')"
   ]
  },
  {
   "cell_type": "code",
   "execution_count": 446,
   "metadata": {},
   "outputs": [
    {
     "data": {
      "application/vnd.jupyter.widget-view+json": {
       "model_id": "fda060f7f43846019db42684db3d6c47",
       "version_major": 2,
       "version_minor": 0
      },
      "text/plain": [
       "HTML(value='')"
      ]
     },
     "metadata": {},
     "output_type": "display_data"
    },
    {
     "name": "stdout",
     "output_type": "stream",
     "text": [
      "Started at:  Dec 19 2018 16:20:03\n",
      "Exiting sweep main thread #{} via return 3188\n",
      "\n",
      "Elapsed time: 2 h 32 m 42.5 s\n"
     ]
    },
    {
     "data": {
      "text/plain": [
       "True"
      ]
     },
     "execution_count": 446,
     "metadata": {},
     "output_type": "execute_result"
    }
   ],
   "source": [
    "# Духтоновка в pi\n",
    "ex_freqs = np.arange(2.0e9, 10.00e9, 2.0e6)\n",
    "#lo1.set_power(-10) # no mixer\n",
    "lo1.set_power(10) # w/mixer\n",
    "#Измерение\n",
    "lo1.set_status(1)\n",
    "pna.set_nop(1)\n",
    "#pna.set_centerfreq(Qubits[qubit_id]['r']['Fr'])\n",
    "#pna.set_frequency(Qubits[qubit_id]['r']['Fr'])\n",
    "#pna.set_centerfreq(7.40e9)\n",
    "#pna.set_frequency(7.40e9)\n",
    "pna.set_centerfreq(7.422e9)\n",
    "pna.set_frequency(7.422e9)\n",
    "pna.set_bandwidth(4)\n",
    "#pna.set_power(Qubits[qubit_id]['r']['P'])\n",
    "pna.set_power(-10)\n",
    "# voltage_max=1.8\n",
    "voltage_nop = 11\n",
    "# voltages=np.linspace(-voltage_max,voltage_max,voltage_nop)\n",
    "voltages=np.linspace(1.72,1.82,voltage_nop)\n",
    "#try:\n",
    "ex1D = sweep.sweep(pna, \n",
    "                        (voltages, lambda x: dac.set_voltage(x, channel=0), 'Coil #{} voltage,qubit{}'.format(1,qubit_id)),\n",
    "                        (ex_freqs, lo1.set_frequency, 'Second tone freq', 'Hz'),\n",
    "                        filename = \"Second tone_ #{}, power lo {},power pna {}, start voltage {}\".format(qubit_id,\\\n",
    "                                                                                                            lo1.get_power(),\n",
    "                                                                                                            pna.get_power(),\n",
    "                                                                                                            voltages[1]))\n",
    "#except KeyboardInterrupt: pass \n",
    "lo1.set_status(0)"
   ]
  },
  {
   "cell_type": "code",
   "execution_count": 447,
   "metadata": {},
   "outputs": [],
   "source": [
    "dac = nndac('TCPIP0::10.20.61.12::1000::SOCKET')"
   ]
  },
  {
   "cell_type": "code",
   "execution_count": null,
   "metadata": {},
   "outputs": [],
   "source": []
  },
  {
   "cell_type": "code",
   "execution_count": 448,
   "metadata": {},
   "outputs": [
    {
     "data": {
      "application/vnd.jupyter.widget-view+json": {
       "model_id": "59800ee3534c4a4894546f10d574f439",
       "version_major": 2,
       "version_minor": 0
      },
      "text/plain": [
       "HTML(value='')"
      ]
     },
     "metadata": {},
     "output_type": "display_data"
    },
    {
     "name": "stdout",
     "output_type": "stream",
     "text": [
      "Started at:  Dec 19 2018 18:52:50\n",
      "Exiting sweep main thread #{} via return 1820\n",
      "\n",
      "Elapsed time: 5 h 9 m 17.45 s\n"
     ]
    },
    {
     "data": {
      "text/plain": [
       "True"
      ]
     },
     "execution_count": 448,
     "metadata": {},
     "output_type": "execute_result"
    }
   ],
   "source": [
    "# Духтоновка в 0\n",
    "ex_freqs = np.arange(3.0e9, 10.0e9, 4.000e6)\n",
    "#lo1.set_power(-10) # no mixer\n",
    "lo1.set_power(0) # w/mixer\n",
    "#Измерение\n",
    "lo1.set_status(1)\n",
    "pna.set_nop(1)\n",
    "#pna.set_centerfreq(Qubits[qubit_id]['r']['Fr'])\n",
    "#pna.set_frequency(Qubits[qubit_id]['r']['Fr'])\n",
    "#pna.set_centerfreq(7.40e9)\n",
    "#pna.set_frequency(7.40e9)\n",
    "pna.set_centerfreq(7.410e9)\n",
    "pna.set_frequency(7.410e9)\n",
    "pna.set_bandwidth(4)\n",
    "#pna.set_power(Qubits[qubit_id]['r']['P'])\n",
    "pna.set_power(-10)\n",
    "# voltage_max=1.8\n",
    "voltage_nop = 51\n",
    "# voltages=np.linspace(-voltage_max,voltage_max,voltage_nop)\n",
    "#voltages=np.linspace(-0.2,0.3,voltage nop)\n",
    "voltages=np.linspace(-0.2,0.3,voltage_nop)\n",
    "#try:\n",
    "ex1D = sweep.sweep(pna, \n",
    "                        (voltages, lambda x: dac.set_voltage(x, channel=0), 'Coil #{} voltage,qubit{}'.format(1,qubit_id)),\n",
    "                        (ex_freqs, lo1.set_frequency, 'Second tone freq', 'Hz'),\n",
    "                        filename = \"Second tone_ #{}, power lo {},power pna {}, start voltage {}\".format(qubit_id,\\\n",
    "                                                                                                            lo1.get_power(),\n",
    "                                                                                                            pna.get_power(),\n",
    "                                                                                                            voltages[1]))\n",
    "#except KeyboardInterrupt: pass \n",
    "lo1.set_status(0)"
   ]
  },
  {
   "cell_type": "code",
   "execution_count": 46,
   "metadata": {},
   "outputs": [
    {
     "name": "stderr",
     "output_type": "stream",
     "text": [
      "C:\\ProgramData\\Anaconda3\\lib\\site-packages\\pyvisa\\resources\\messagebased.py:573: FutureWarning: ask is deprecated and will be removed in 1.10, use query instead.\n",
      "  '1.10, use query instead.', FutureWarning)\n"
     ]
    },
    {
     "data": {
      "application/vnd.jupyter.widget-view+json": {
       "model_id": "f3ef19c3e6764a17b7a341d2752f686a",
       "version_major": 2,
       "version_minor": 0
      },
      "text/plain": [
       "HTML(value='')"
      ]
     },
     "metadata": {},
     "output_type": "display_data"
    },
    {
     "name": "stderr",
     "output_type": "stream",
     "text": [
      "C:\\ProgramData\\Anaconda3\\lib\\site-packages\\pyvisa\\resources\\messagebased.py:573: FutureWarning: ask is deprecated and will be removed in 1.10, use query instead.\n",
      "  '1.10, use query instead.', FutureWarning)\n"
     ]
    },
    {
     "name": "stdout",
     "output_type": "stream",
     "text": [
      "Started at:  Dec 16 2018 14:52:16\n"
     ]
    },
    {
     "name": "stderr",
     "output_type": "stream",
     "text": [
      "C:\\qtlab_replacement\\qsweepy\\sweep.py:218: FutureWarning: Using a non-tuple sequence for multidimensional indexing is deprecated; use `arr[tuple(seq)]` instead of `arr[seq]`. In the future this will be interpreted as an array index, `arr[np.array(seq)]`, which will result either in an error or a different result.\n",
      "  data[mname][[(i) for i in indeces]+[...]] = mpoint_m\n"
     ]
    },
    {
     "name": "stdout",
     "output_type": "stream",
     "text": [
      "Exiting sweep main thread #{} via return 3184\n",
      "\n",
      "Elapsed time: 2 h 43 m 33.84 s\n"
     ]
    },
    {
     "data": {
      "application/vnd.jupyter.widget-view+json": {
       "model_id": "b5bdd0dfa67b4c0a90573fd3bc0fba03",
       "version_major": 2,
       "version_minor": 0
      },
      "text/plain": [
       "HTML(value='')"
      ]
     },
     "metadata": {},
     "output_type": "display_data"
    },
    {
     "name": "stdout",
     "output_type": "stream",
     "text": [
      "Started at:  Dec 16 2018 17:35:54\n"
     ]
    },
    {
     "name": "stderr",
     "output_type": "stream",
     "text": [
      "C:\\ProgramData\\Anaconda3\\lib\\site-packages\\pyvisa\\resources\\messagebased.py:573: FutureWarning: ask is deprecated and will be removed in 1.10, use query instead.\n",
      "  '1.10, use query instead.', FutureWarning)\n",
      "C:\\qtlab_replacement\\qsweepy\\sweep.py:218: FutureWarning: Using a non-tuple sequence for multidimensional indexing is deprecated; use `arr[tuple(seq)]` instead of `arr[seq]`. In the future this will be interpreted as an array index, `arr[np.array(seq)]`, which will result either in an error or a different result.\n",
      "  data[mname][[(i) for i in indeces]+[...]] = mpoint_m\n",
      "Exception in thread Thread-31:\n",
      "Traceback (most recent call last):\n",
      "  File \"C:\\qtlab_replacement\\qsweepy\\instrument_drivers\\nndac.py\", line 22, in set_voltage\n",
      "    self._visainstrument.ask('VOLT {:d},{:f}'.format(channel,value))\n",
      "  File \"C:\\ProgramData\\Anaconda3\\lib\\site-packages\\pyvisa\\resources\\messagebased.py\", line 574, in ask\n",
      "    return self.query(message, delay)\n",
      "  File \"C:\\ProgramData\\Anaconda3\\lib\\site-packages\\pyvisa\\resources\\messagebased.py\", line 569, in query\n",
      "    return self.read()\n",
      "  File \"C:\\ProgramData\\Anaconda3\\lib\\site-packages\\pyvisa\\resources\\messagebased.py\", line 413, in read\n",
      "    message = self._read_raw().decode(enco)\n",
      "  File \"C:\\ProgramData\\Anaconda3\\lib\\site-packages\\pyvisa\\resources\\messagebased.py\", line 386, in _read_raw\n",
      "    chunk, status = self.visalib.read(self.session, size)\n",
      "  File \"C:\\ProgramData\\Anaconda3\\lib\\site-packages\\pyvisa\\ctwrapper\\functions.py\", line 1584, in read\n",
      "    ret = library.viRead(session, buffer, count, byref(return_count))\n",
      "  File \"C:\\ProgramData\\Anaconda3\\lib\\site-packages\\pyvisa\\ctwrapper\\highlevel.py\", line 188, in _return_handler\n",
      "    raise errors.VisaIOError(ret_value)\n",
      "pyvisa.errors.VisaIOError: VI_ERROR_CONN_LOST (-1073807194): The connection for the given session has been lost.\n",
      "\n",
      "During handling of the above exception, another exception occurred:\n",
      "\n",
      "Traceback (most recent call last):\n",
      "  File \"C:\\ProgramData\\Anaconda3\\lib\\threading.py\", line 916, in _bootstrap_inner\n",
      "    self.run()\n",
      "  File \"C:\\ProgramData\\Anaconda3\\lib\\threading.py\", line 864, in run\n",
      "    self._target(*self._args, **self._kwargs)\n",
      "  File \"C:\\qtlab_replacement\\qsweepy\\sweep.py\", line 273, in main_sweep_loop\n",
      "    setter(val)\n",
      "  File \"<ipython-input-46-499c08d4d9fd>\", line 28, in <lambda>\n",
      "    (voltages, lambda x: dac.set_voltage(x, channel=0), 'Coil #{} voltage,qubit{}'.format(1,qubit_id)),\n",
      "  File \"C:\\qtlab_replacement\\qsweepy\\instrument_drivers\\nndac.py\", line 27, in set_voltage\n",
      "    self._visainstrument.ask('VOLT {:d},{:f}'.format(channel,value))\n",
      "  File \"C:\\ProgramData\\Anaconda3\\lib\\site-packages\\pyvisa\\resources\\messagebased.py\", line 574, in ask\n",
      "    return self.query(message, delay)\n",
      "  File \"C:\\ProgramData\\Anaconda3\\lib\\site-packages\\pyvisa\\resources\\messagebased.py\", line 569, in query\n",
      "    return self.read()\n",
      "  File \"C:\\ProgramData\\Anaconda3\\lib\\site-packages\\pyvisa\\resources\\messagebased.py\", line 413, in read\n",
      "    message = self._read_raw().decode(enco)\n",
      "  File \"C:\\ProgramData\\Anaconda3\\lib\\site-packages\\pyvisa\\resources\\messagebased.py\", line 386, in _read_raw\n",
      "    chunk, status = self.visalib.read(self.session, size)\n",
      "  File \"C:\\ProgramData\\Anaconda3\\lib\\site-packages\\pyvisa\\ctwrapper\\functions.py\", line 1584, in read\n",
      "    ret = library.viRead(session, buffer, count, byref(return_count))\n",
      "  File \"C:\\ProgramData\\Anaconda3\\lib\\site-packages\\pyvisa\\ctwrapper\\highlevel.py\", line 188, in _return_handler\n",
      "    raise errors.VisaIOError(ret_value)\n",
      "pyvisa.errors.VisaIOError: VI_ERROR_TMO (-1073807339): Timeout expired before operation completed.\n",
      "\n"
     ]
    },
    {
     "ename": "KeyboardInterrupt",
     "evalue": "",
     "output_type": "error",
     "traceback": [
      "\u001b[1;31m---------------------------------------------------------------------------\u001b[0m",
      "\u001b[1;31mKeyboardInterrupt\u001b[0m                         Traceback (most recent call last)",
      "\u001b[1;32m<ipython-input-46-499c08d4d9fd>\u001b[0m in \u001b[0;36m<module>\u001b[1;34m()\u001b[0m\n\u001b[0;32m     31\u001b[0m                                                                                                               \u001b[0mlo1\u001b[0m\u001b[1;33m.\u001b[0m\u001b[0mget_power\u001b[0m\u001b[1;33m(\u001b[0m\u001b[1;33m)\u001b[0m\u001b[1;33m,\u001b[0m\u001b[1;33m\u001b[0m\u001b[0m\n\u001b[0;32m     32\u001b[0m                                                                                                              \u001b[0mpna\u001b[0m\u001b[1;33m.\u001b[0m\u001b[0mget_power\u001b[0m\u001b[1;33m(\u001b[0m\u001b[1;33m)\u001b[0m\u001b[1;33m,\u001b[0m\u001b[1;33m\u001b[0m\u001b[0m\n\u001b[1;32m---> 33\u001b[1;33m                                                                                                              voltages[1]))\n\u001b[0m\u001b[0;32m     34\u001b[0m     \u001b[1;31m#except KeyboardInterrupt: pass\u001b[0m\u001b[1;33m\u001b[0m\u001b[1;33m\u001b[0m\u001b[0m\n\u001b[0;32m     35\u001b[0m     \u001b[0mlo1\u001b[0m\u001b[1;33m.\u001b[0m\u001b[0mset_status\u001b[0m\u001b[1;33m(\u001b[0m\u001b[1;36m0\u001b[0m\u001b[1;33m)\u001b[0m\u001b[1;33m\u001b[0m\u001b[0m\n",
      "\u001b[1;32mC:\\qtlab_replacement\\qsweepy\\sweep.py\u001b[0m in \u001b[0;36msweep\u001b[1;34m(measurer, filename, root_dir, plot, plot_separate_thread, header, output, save, time_war_label, shuffle, bot, use_deferred, loc, *params)\u001b[0m\n\u001b[0;32m    332\u001b[0m                         \u001b[0macq_thread\u001b[0m \u001b[1;33m=\u001b[0m \u001b[0mthreading\u001b[0m\u001b[1;33m.\u001b[0m\u001b[0mThread\u001b[0m\u001b[1;33m(\u001b[0m\u001b[0mtarget\u001b[0m\u001b[1;33m=\u001b[0m\u001b[0mmain_sweep_loop\u001b[0m\u001b[1;33m)\u001b[0m\u001b[1;33m\u001b[0m\u001b[0m\n\u001b[0;32m    333\u001b[0m                         \u001b[0macq_thread\u001b[0m\u001b[1;33m.\u001b[0m\u001b[0mstart\u001b[0m\u001b[1;33m(\u001b[0m\u001b[1;33m)\u001b[0m\u001b[1;33m\u001b[0m\u001b[0m\n\u001b[1;32m--> 334\u001b[1;33m                         \u001b[0mplot_thread\u001b[0m\u001b[1;33m(\u001b[0m\u001b[1;33m)\u001b[0m\u001b[1;33m\u001b[0m\u001b[0m\n\u001b[0m\u001b[0;32m    335\u001b[0m \u001b[1;33m\u001b[0m\u001b[0m\n\u001b[0;32m    336\u001b[0m                 \u001b[1;32mif\u001b[0m \u001b[1;33m(\u001b[0m\u001b[0mtime_war_label\u001b[0m\u001b[1;33m)\u001b[0m\u001b[1;33m:\u001b[0m\u001b[1;33m\u001b[0m\u001b[0m\n",
      "\u001b[1;32mC:\\qtlab_replacement\\qsweepy\\sweep.py\u001b[0m in \u001b[0;36mplot_thread\u001b[1;34m()\u001b[0m\n\u001b[0;32m    318\u001b[0m                                 \u001b[1;32mwhile\u001b[0m \u001b[1;32mTrue\u001b[0m\u001b[1;33m:\u001b[0m\u001b[1;33m\u001b[0m\u001b[0m\n\u001b[0;32m    319\u001b[0m                                         \u001b[1;32mif\u001b[0m \u001b[0msweep_error\u001b[0m\u001b[1;33m:\u001b[0m\u001b[1;33m\u001b[0m\u001b[0m\n\u001b[1;32m--> 320\u001b[1;33m                                                 \u001b[1;32mraise\u001b[0m \u001b[0mKeyboardInterrupt\u001b[0m\u001b[1;33m\u001b[0m\u001b[0m\n\u001b[0m\u001b[0;32m    321\u001b[0m                                         \u001b[1;32mif\u001b[0m \u001b[0mplot_thread_point_id\u001b[0m \u001b[1;33m<\u001b[0m \u001b[0mdone_sweeps\u001b[0m\u001b[1;33m:\u001b[0m\u001b[1;33m\u001b[0m\u001b[0m\n\u001b[0;32m    322\u001b[0m                                                 \u001b[0mplotting\u001b[0m\u001b[1;33m.\u001b[0m\u001b[0mupdate_plot_measurement\u001b[0m\u001b[1;33m(\u001b[0m\u001b[0mmk_measurement\u001b[0m\u001b[1;33m(\u001b[0m\u001b[1;33m)\u001b[0m\u001b[1;33m,\u001b[0m \u001b[0mplot_axes\u001b[0m\u001b[1;33m)\u001b[0m\u001b[1;33m\u001b[0m\u001b[0m\n",
      "\u001b[1;31mKeyboardInterrupt\u001b[0m: "
     ]
    }
   ],
   "source": [
    "startV = np.arange(0.3,1.70,0.2)\n",
    "for startvoltage in startV:\n",
    "    #current_src1 = Yokogawa_GS210(address = 'GPIB1::1::INSTR')\n",
    "    #time.sleep(10)\n",
    "    \n",
    "    # Двухтоновка в 0\n",
    "    ex_freqs = np.arange(0.100e9, 10.0e9, 2.0e6)\n",
    "    #lo1.set_power(-10) # no mixer\n",
    "    lo1.set_power(5) # w/mixer\n",
    "    #Измерение\n",
    "    lo1.set_status(1)\n",
    "    pna.set_nop(1)\n",
    "    #pna.set_centerfreq(Qubits[qubit_id]['r']['Fr'])\n",
    "    #pna.set_frequency(Qubits[qubit_id]['r']['Fr'])\n",
    "    #pna.set_centerfreq(7.425e9)\n",
    "    #pna.set_frequency(7.425e9)7.3745\n",
    "    pna.set_centerfreq(7.350e9)\n",
    "    pna.set_frequency(7.350e9)\n",
    "    pna.set_bandwidth(20)\n",
    "    #pna.set_power(Qubits[qubit_id]['r']['P'])\n",
    "    pna.set_power(-15)\n",
    "    # voltage_max=1.8\n",
    "    voltage_nop = 26\n",
    "    # voltages=np.linspace(-voltage_max,voltage_max,voltage_nop)\n",
    "    voltages=np.linspace(startvoltage-0.01,startvoltage+0.2,voltage_nop)\n",
    "    #try:\n",
    "    ex1D = sweep.sweep(pna, \n",
    "                           (voltages, lambda x: dac.set_voltage(x, channel=0), 'Coil #{} voltage,qubit{}'.format(1,qubit_id)),\n",
    "                           (ex_freqs, lo1.set_frequency, 'Second tone freq', 'Hz'),\n",
    "                           filename = \"Second tone_10new  #{}, power lo {},power pna {}, start voltage {}\".format(qubit_id,\\\n",
    "                                                                                                              lo1.get_power(),\n",
    "                                                                                                             pna.get_power(),\n",
    "                                                                                                             voltages[1]))\n",
    "    #except KeyboardInterrupt: pass \n",
    "    lo1.set_status(0)"
   ]
  },
  {
   "cell_type": "code",
   "execution_count": 241,
   "metadata": {},
   "outputs": [
    {
     "name": "stderr",
     "output_type": "stream",
     "text": [
      "C:\\ProgramData\\Anaconda3\\lib\\site-packages\\pyvisa\\resources\\messagebased.py:573: FutureWarning: ask is deprecated and will be removed in 1.10, use query instead.\n",
      "  '1.10, use query instead.', FutureWarning)\n"
     ]
    }
   ],
   "source": [
    "dac = nndac('TCPIP0::10.20.61.12::1000::SOCKET')"
   ]
  },
  {
   "cell_type": "code",
   "execution_count": 228,
   "metadata": {},
   "outputs": [
    {
     "data": {
      "text/plain": [
       "-0.292"
      ]
     },
     "execution_count": 228,
     "metadata": {},
     "output_type": "execute_result"
    }
   ],
   "source": [
    "voltages[1]\n"
   ]
  },
  {
   "cell_type": "code",
   "execution_count": 119,
   "metadata": {},
   "outputs": [
    {
     "name": "stderr",
     "output_type": "stream",
     "text": [
      "C:\\ProgramData\\Anaconda3\\lib\\site-packages\\pyvisa\\resources\\messagebased.py:573: FutureWarning: ask is deprecated and will be removed in 1.10, use query instead.\n",
      "  '1.10, use query instead.', FutureWarning)\n"
     ]
    },
    {
     "data": {
      "application/vnd.jupyter.widget-view+json": {
       "model_id": "12e87d65d2c3472d8bf2f9312f52ffb4",
       "version_major": 2,
       "version_minor": 0
      },
      "text/plain": [
       "HTML(value='')"
      ]
     },
     "metadata": {},
     "output_type": "display_data"
    },
    {
     "name": "stderr",
     "output_type": "stream",
     "text": [
      "C:\\ProgramData\\Anaconda3\\lib\\site-packages\\pyvisa\\resources\\messagebased.py:573: FutureWarning: ask is deprecated and will be removed in 1.10, use query instead.\n",
      "  '1.10, use query instead.', FutureWarning)\n"
     ]
    },
    {
     "name": "stdout",
     "output_type": "stream",
     "text": [
      "Started at:  Dec 10 2018 09:30:46\n"
     ]
    },
    {
     "name": "stderr",
     "output_type": "stream",
     "text": [
      "C:\\qtlab_replacement\\qsweepy\\sweep.py:218: FutureWarning: Using a non-tuple sequence for multidimensional indexing is deprecated; use `arr[tuple(seq)]` instead of `arr[seq]`. In the future this will be interpreted as an array index, `arr[np.array(seq)]`, which will result either in an error or a different result.\n",
      "  data[mname][[(i) for i in indeces]+[...]] = mpoint_m\n"
     ]
    },
    {
     "name": "stdout",
     "output_type": "stream",
     "text": [
      "Exiting sweep main thread #{} via return 11972\n",
      "\n",
      "Elapsed time: 1 h 45 m 38.42 s\n"
     ]
    },
    {
     "data": {
      "text/plain": [
       "True"
      ]
     },
     "execution_count": 119,
     "metadata": {},
     "output_type": "execute_result"
    }
   ],
   "source": [
    "# Двухтоновка в пи\n",
    "ex_freqs = np.arange(0.010e9, 1.2e9, 0.05e6)\n",
    "#lo1.set_power(-10) # no mixer\n",
    "lo1.set_power(0) # w/mixer\n",
    "#Измерение\n",
    "lo1.set_status(1)\n",
    "pna.set_nop(1)\n",
    "#pna.set_centerfreq(Qubits[qubit_id]['r']['Fr'])\n",
    "#pna.set_frequency(Qubits[qubit_id]['r']['Fr'])\n",
    "pna.set_centerfreq(7.415e9)\n",
    "pna.set_frequency(7.415e9)\n",
    "pna.set_bandwidth(5)\n",
    "#pna.set_power(Qubits[qubit_id]['r']['P'])\n",
    "pna.set_power(-45)\n",
    "voltage_max=2\n",
    "voltage_nop = 61\n",
    "# voltages=np.linspace(-voltage_max,voltage_max,voltage_nop)\n",
    "voltages=np.linspace(1.65,1.80,voltage_nop)\n",
    "try:\n",
    "    ex1D = sweep.sweep(pna, \n",
    "                       (voltages, lambda x: dac.set_voltage(x, channel=0), 'Coil #{} voltage,qubit{}'.format(1,qubit_id)),\n",
    "                       (ex_freqs, lo1.set_frequency, 'Second tone freq', 'Hz'),\n",
    "                       filename = \"Second tone_2  #{}, power lo {},power pna {}\".format(qubit_id,\\\n",
    "                                                                                                          lo1.get_power(),\n",
    "                                                                                                         pna.get_power()))\n",
    "except KeyboardInterrupt: pass \n",
    "lo1.set_status(0)\n"
   ]
  },
  {
   "cell_type": "code",
   "execution_count": 77,
   "metadata": {},
   "outputs": [
    {
     "data": {
      "text/plain": [
       "True"
      ]
     },
     "execution_count": 77,
     "metadata": {},
     "output_type": "execute_result"
    }
   ],
   "source": [
    "lo1.set_status(0)"
   ]
  },
  {
   "cell_type": "code",
   "execution_count": 47,
   "metadata": {
    "scrolled": false
   },
   "outputs": [
    {
     "name": "stderr",
     "output_type": "stream",
     "text": [
      "C:\\ProgramData\\Anaconda3\\lib\\site-packages\\pyvisa\\resources\\messagebased.py:573: FutureWarning: ask is deprecated and will be removed in 1.10, use query instead.\n",
      "  '1.10, use query instead.', FutureWarning)\n"
     ]
    },
    {
     "data": {
      "application/vnd.jupyter.widget-view+json": {
       "model_id": "781f5630c54b4101a51e537abbfebd38",
       "version_major": 2,
       "version_minor": 0
      },
      "text/plain": [
       "HTML(value='')"
      ]
     },
     "metadata": {},
     "output_type": "display_data"
    },
    {
     "name": "stderr",
     "output_type": "stream",
     "text": [
      "C:\\ProgramData\\Anaconda3\\lib\\site-packages\\pyvisa\\resources\\messagebased.py:573: FutureWarning: ask is deprecated and will be removed in 1.10, use query instead.\n",
      "  '1.10, use query instead.', FutureWarning)\n"
     ]
    },
    {
     "name": "stdout",
     "output_type": "stream",
     "text": [
      "Started at:  Dec 07 2018 12:15:56\n"
     ]
    },
    {
     "name": "stderr",
     "output_type": "stream",
     "text": [
      "C:\\ProgramData\\Anaconda3\\lib\\site-packages\\numpy\\lib\\function_base.py:1402: RuntimeWarning: invalid value encountered in remainder\n",
      "  ddmod = mod(dd + pi, 2*pi) - pi\n",
      "C:\\ProgramData\\Anaconda3\\lib\\site-packages\\numpy\\lib\\function_base.py:1403: RuntimeWarning: invalid value encountered in greater\n",
      "  _nx.copyto(ddmod, pi, where=(ddmod == -pi) & (dd > 0))\n",
      "C:\\ProgramData\\Anaconda3\\lib\\site-packages\\numpy\\lib\\function_base.py:1405: RuntimeWarning: invalid value encountered in less\n",
      "  _nx.copyto(ph_correct, 0, where=abs(dd) < discont)\n",
      "C:\\qtlab_replacement\\qsweepy\\sweep.py:218: FutureWarning: Using a non-tuple sequence for multidimensional indexing is deprecated; use `arr[tuple(seq)]` instead of `arr[seq]`. In the future this will be interpreted as an array index, `arr[np.array(seq)]`, which will result either in an error or a different result.\n",
      "  data[mname][[(i) for i in indeces]+[...]] = mpoint_m\n"
     ]
    },
    {
     "name": "stdout",
     "output_type": "stream",
     "text": [
      "Exiting sweep main thread #{} via return 11212\n",
      "\n",
      "Elapsed time: 0 h 2 m 12.42 s\n"
     ]
    },
    {
     "ename": "UnicodeDecodeError",
     "evalue": "'charmap' codec can't decode byte 0x8f in position 277494: character maps to <undefined>",
     "output_type": "error",
     "traceback": [
      "\u001b[1;31m---------------------------------------------------------------------------\u001b[0m",
      "\u001b[1;31mUnicodeDecodeError\u001b[0m                        Traceback (most recent call last)",
      "\u001b[1;32m<ipython-input-47-bd619a7eee70>\u001b[0m in \u001b[0;36m<module>\u001b[1;34m()\u001b[0m\n\u001b[0;32m     15\u001b[0m \u001b[1;32mtry\u001b[0m\u001b[1;33m:\u001b[0m\u001b[1;33m\u001b[0m\u001b[0m\n\u001b[0;32m     16\u001b[0m     ex1D = sweep.sweep(pna, (ex_freqs, lo1.set_frequency, 'Second tone freq,drive', 'Hz'), \n\u001b[1;32m---> 17\u001b[1;33m                        filename = \"Двухтоновая спектроскопия образец #{}\".format(qubit_id))\n\u001b[0m\u001b[0;32m     18\u001b[0m \u001b[1;32mexcept\u001b[0m \u001b[0mKeyboardInterrupt\u001b[0m\u001b[1;33m:\u001b[0m \u001b[1;32mpass\u001b[0m\u001b[1;33m\u001b[0m\u001b[0m\n\u001b[0;32m     19\u001b[0m \u001b[0mlo1\u001b[0m\u001b[1;33m.\u001b[0m\u001b[0mset_status\u001b[0m\u001b[1;33m(\u001b[0m\u001b[1;36m0\u001b[0m\u001b[1;33m)\u001b[0m\u001b[1;33m\u001b[0m\u001b[0m\n",
      "\u001b[1;32mC:\\qtlab_replacement\\qsweepy\\sweep.py\u001b[0m in \u001b[0;36msweep\u001b[1;34m(measurer, filename, root_dir, plot, plot_separate_thread, header, output, save, time_war_label, shuffle, bot, use_deferred, loc, *params)\u001b[0m\n\u001b[0;32m    357\u001b[0m                 \u001b[0mheader\u001b[0m \u001b[1;33m=\u001b[0m \u001b[1;33m{\u001b[0m\u001b[1;34m'name'\u001b[0m\u001b[1;33m:\u001b[0m \u001b[0mfilename\u001b[0m\u001b[1;33m}\u001b[0m\u001b[1;33m\u001b[0m\u001b[0m\n\u001b[0;32m    358\u001b[0m                 \u001b[1;32mif\u001b[0m \u001b[1;33m(\u001b[0m\u001b[0msave\u001b[0m\u001b[1;33m)\u001b[0m\u001b[1;33m:\u001b[0m\u001b[1;33m\u001b[0m\u001b[0m\n\u001b[1;32m--> 359\u001b[1;33m                         \u001b[0mfilename_location\u001b[0m \u001b[1;33m=\u001b[0m \u001b[0msave_pkl\u001b[0m\u001b[1;33m.\u001b[0m\u001b[0msave_pkl\u001b[0m\u001b[1;33m(\u001b[0m\u001b[0mheader\u001b[0m\u001b[1;33m,\u001b[0m \u001b[0mmk_measurement\u001b[0m\u001b[1;33m(\u001b[0m\u001b[1;33m)\u001b[0m\u001b[1;33m,\u001b[0m \u001b[0mlocation\u001b[0m \u001b[1;33m=\u001b[0m \u001b[0mdata_dir\u001b[0m\u001b[1;33m,\u001b[0m \u001b[0mplot_axes\u001b[0m\u001b[1;33m=\u001b[0m\u001b[0mplot_axes\u001b[0m\u001b[1;33m)\u001b[0m\u001b[1;33m\u001b[0m\u001b[0m\n\u001b[0m\u001b[0;32m    360\u001b[0m                 \u001b[1;32mif\u001b[0m \u001b[0mbot\u001b[0m\u001b[1;33m[\u001b[0m\u001b[1;36m0\u001b[0m\u001b[1;33m]\u001b[0m\u001b[1;33m==\u001b[0m\u001b[1;32mTrue\u001b[0m\u001b[1;33m:\u001b[0m\u001b[1;33m\u001b[0m\u001b[0m\n\u001b[0;32m    361\u001b[0m                         \u001b[1;32mwith\u001b[0m \u001b[0mopen\u001b[0m\u001b[1;33m(\u001b[0m\u001b[0mdata_dir\u001b[0m\u001b[1;33m+\u001b[0m\u001b[1;34m\"/send_result.txt\"\u001b[0m\u001b[1;33m,\u001b[0m\u001b[1;34m'w'\u001b[0m\u001b[1;33m)\u001b[0m \u001b[1;32mas\u001b[0m \u001b[0mbot_send_file\u001b[0m\u001b[1;33m:\u001b[0m\u001b[1;33m\u001b[0m\u001b[0m\n",
      "\u001b[1;32mC:\\qtlab_replacement\\qsweepy\\save_pkl.py\u001b[0m in \u001b[0;36msave_pkl\u001b[1;34m(header, data, plot, curve_fit, annotation, location, time, filename, matlab, gzip, plot_axes)\u001b[0m\n\u001b[0;32m     70\u001b[0m                 \u001b[0mplotting\u001b[0m\u001b[1;33m.\u001b[0m\u001b[0mupdate_plot_measurement\u001b[0m\u001b[1;33m(\u001b[0m\u001b[0mdata\u001b[0m\u001b[1;33m,\u001b[0m \u001b[0mplot_axes\u001b[0m\u001b[1;33m)\u001b[0m\u001b[1;33m\u001b[0m\u001b[0m\n\u001b[0;32m     71\u001b[0m                 \u001b[0mplotting\u001b[0m\u001b[1;33m.\u001b[0m\u001b[0mplot_add_annotation\u001b[0m\u001b[1;33m(\u001b[0m\u001b[0mplot_axes\u001b[0m\u001b[1;33m,\u001b[0m \u001b[0mannotation\u001b[0m\u001b[1;33m)\u001b[0m\u001b[1;33m\u001b[0m\u001b[0m\n\u001b[1;32m---> 72\u001b[1;33m                 \u001b[0mplotting\u001b[0m\u001b[1;33m.\u001b[0m\u001b[0mplot_save\u001b[0m\u001b[1;33m(\u001b[0m\u001b[0mplot_axes\u001b[0m\u001b[1;33m,\u001b[0m \u001b[0mlocation\u001b[0m\u001b[1;33m)\u001b[0m\u001b[1;33m\u001b[0m\u001b[0m\n\u001b[0m\u001b[0;32m     73\u001b[0m         \u001b[1;32melif\u001b[0m \u001b[0mplot\u001b[0m\u001b[1;33m:\u001b[0m\u001b[1;33m\u001b[0m\u001b[0m\n\u001b[0;32m     74\u001b[0m                 \u001b[0mplotting\u001b[0m\u001b[1;33m.\u001b[0m\u001b[0mplot_measurement\u001b[0m\u001b[1;33m(\u001b[0m\u001b[0mdata\u001b[0m\u001b[1;33m,\u001b[0m \u001b[0mfilename\u001b[0m\u001b[1;33m,\u001b[0m \u001b[0msave\u001b[0m\u001b[1;33m=\u001b[0m\u001b[0mlocation\u001b[0m\u001b[1;33m,\u001b[0m \u001b[0mannotation\u001b[0m\u001b[1;33m=\u001b[0m\u001b[0mannotation\u001b[0m\u001b[1;33m,\u001b[0m \u001b[0msubplots\u001b[0m\u001b[1;33m=\u001b[0m\u001b[1;32mTrue\u001b[0m\u001b[1;33m)\u001b[0m\u001b[1;33m\u001b[0m\u001b[0m\n",
      "\u001b[1;32mC:\\qtlab_replacement\\qsweepy\\plotting.py\u001b[0m in \u001b[0;36mplot_save\u001b[1;34m(axes, save)\u001b[0m\n\u001b[0;32m    236\u001b[0m                         \u001b[0max\u001b[0m\u001b[1;33m[\u001b[0m\u001b[1;34m'axes'\u001b[0m\u001b[1;33m]\u001b[0m\u001b[1;33m.\u001b[0m\u001b[0mget_figure\u001b[0m\u001b[1;33m(\u001b[0m\u001b[1;33m)\u001b[0m\u001b[1;33m.\u001b[0m\u001b[0msavefig\u001b[0m\u001b[1;33m(\u001b[0m\u001b[1;34m'{0}/{1}.svg'\u001b[0m\u001b[1;33m.\u001b[0m\u001b[0mformat\u001b[0m\u001b[1;33m(\u001b[0m\u001b[0msave\u001b[0m\u001b[1;33m,\u001b[0m \u001b[0max_name\u001b[0m\u001b[1;33m)\u001b[0m\u001b[1;33m)\u001b[0m\u001b[1;33m\u001b[0m\u001b[0m\n\u001b[0;32m    237\u001b[0m                         \u001b[1;32mwith\u001b[0m \u001b[0mopen\u001b[0m\u001b[1;33m(\u001b[0m\u001b[1;34m'{0}/{1}.svg'\u001b[0m\u001b[1;33m.\u001b[0m\u001b[0mformat\u001b[0m\u001b[1;33m(\u001b[0m\u001b[0msave\u001b[0m\u001b[1;33m,\u001b[0m \u001b[0max_name\u001b[0m\u001b[1;33m)\u001b[0m\u001b[1;33m)\u001b[0m \u001b[1;32mas\u001b[0m \u001b[0mfd\u001b[0m\u001b[1;33m:\u001b[0m\u001b[1;33m\u001b[0m\u001b[0m\n\u001b[1;32m--> 238\u001b[1;33m                                 \u001b[0ms\u001b[0m \u001b[1;33m=\u001b[0m \u001b[0mfd\u001b[0m\u001b[1;33m.\u001b[0m\u001b[0mread\u001b[0m\u001b[1;33m(\u001b[0m\u001b[1;33m)\u001b[0m\u001b[1;33m\u001b[0m\u001b[0m\n\u001b[0m\u001b[0;32m    239\u001b[0m                         \u001b[1;32mwith\u001b[0m \u001b[0mopen\u001b[0m\u001b[1;33m(\u001b[0m\u001b[1;34m'{0}/{1}.svg'\u001b[0m\u001b[1;33m.\u001b[0m\u001b[0mformat\u001b[0m\u001b[1;33m(\u001b[0m\u001b[0msave\u001b[0m\u001b[1;33m,\u001b[0m \u001b[0max_name\u001b[0m\u001b[1;33m)\u001b[0m\u001b[1;33m,\u001b[0m \u001b[1;34m'w'\u001b[0m\u001b[1;33m)\u001b[0m \u001b[1;32mas\u001b[0m \u001b[0mfd\u001b[0m\u001b[1;33m:\u001b[0m\u001b[1;33m\u001b[0m\u001b[0m\n\u001b[0;32m    240\u001b[0m                                 \u001b[0mfd\u001b[0m\u001b[1;33m.\u001b[0m\u001b[0mwrite\u001b[0m\u001b[1;33m(\u001b[0m\u001b[0ms\u001b[0m\u001b[1;33m.\u001b[0m\u001b[0mreplace\u001b[0m\u001b[1;33m(\u001b[0m\u001b[1;34m'stroke-miterlimit:100000;'\u001b[0m\u001b[1;33m,\u001b[0m \u001b[1;34m''\u001b[0m\u001b[1;33m)\u001b[0m\u001b[1;33m)\u001b[0m\u001b[1;33m\u001b[0m\u001b[0m\n",
      "\u001b[1;32mC:\\ProgramData\\Anaconda3\\lib\\encodings\\cp1252.py\u001b[0m in \u001b[0;36mdecode\u001b[1;34m(self, input, final)\u001b[0m\n\u001b[0;32m     21\u001b[0m \u001b[1;32mclass\u001b[0m \u001b[0mIncrementalDecoder\u001b[0m\u001b[1;33m(\u001b[0m\u001b[0mcodecs\u001b[0m\u001b[1;33m.\u001b[0m\u001b[0mIncrementalDecoder\u001b[0m\u001b[1;33m)\u001b[0m\u001b[1;33m:\u001b[0m\u001b[1;33m\u001b[0m\u001b[0m\n\u001b[0;32m     22\u001b[0m     \u001b[1;32mdef\u001b[0m \u001b[0mdecode\u001b[0m\u001b[1;33m(\u001b[0m\u001b[0mself\u001b[0m\u001b[1;33m,\u001b[0m \u001b[0minput\u001b[0m\u001b[1;33m,\u001b[0m \u001b[0mfinal\u001b[0m\u001b[1;33m=\u001b[0m\u001b[1;32mFalse\u001b[0m\u001b[1;33m)\u001b[0m\u001b[1;33m:\u001b[0m\u001b[1;33m\u001b[0m\u001b[0m\n\u001b[1;32m---> 23\u001b[1;33m         \u001b[1;32mreturn\u001b[0m \u001b[0mcodecs\u001b[0m\u001b[1;33m.\u001b[0m\u001b[0mcharmap_decode\u001b[0m\u001b[1;33m(\u001b[0m\u001b[0minput\u001b[0m\u001b[1;33m,\u001b[0m\u001b[0mself\u001b[0m\u001b[1;33m.\u001b[0m\u001b[0merrors\u001b[0m\u001b[1;33m,\u001b[0m\u001b[0mdecoding_table\u001b[0m\u001b[1;33m)\u001b[0m\u001b[1;33m[\u001b[0m\u001b[1;36m0\u001b[0m\u001b[1;33m]\u001b[0m\u001b[1;33m\u001b[0m\u001b[0m\n\u001b[0m\u001b[0;32m     24\u001b[0m \u001b[1;33m\u001b[0m\u001b[0m\n\u001b[0;32m     25\u001b[0m \u001b[1;32mclass\u001b[0m \u001b[0mStreamWriter\u001b[0m\u001b[1;33m(\u001b[0m\u001b[0mCodec\u001b[0m\u001b[1;33m,\u001b[0m\u001b[0mcodecs\u001b[0m\u001b[1;33m.\u001b[0m\u001b[0mStreamWriter\u001b[0m\u001b[1;33m)\u001b[0m\u001b[1;33m:\u001b[0m\u001b[1;33m\u001b[0m\u001b[0m\n",
      "\u001b[1;31mUnicodeDecodeError\u001b[0m: 'charmap' codec can't decode byte 0x8f in position 277494: character maps to <undefined>"
     ]
    }
   ],
   "source": [
    "#двухтонка в 0\n",
    "ex_freqs = np.arange(5.0e9, 7.0e9, 5e6)\n",
    "#lo1.set_power(-10) # no mixer\n",
    "lo1.set_power(-5) # w/mixer\n",
    "#Измерение\n",
    "lo1.set_status(1)\n",
    "pna.set_nop(1)\n",
    "pna.set_centerfreq(7.3226)\n",
    "pna.set_frequency(7.3226)\n",
    "pna.set_bandwidth(40)\n",
    "pna.set_power(-30)\n",
    "dac.set_voltage(-0.040,channel=nndac_channel_id)\n",
    "header = '''#Parameter = Ex frequency\n",
    "#Ex power = {:f}'''\n",
    "try:\n",
    "    ex1D = sweep.sweep(pna, (ex_freqs, lo1.set_frequency, 'Second tone freq,drive', 'Hz'), \n",
    "                       filename = \"Двухтоновая спектроскопия образец #{}\".format(qubit_id))\n",
    "except KeyboardInterrupt: pass \n",
    "lo1.set_status(0)"
   ]
  },
  {
   "cell_type": "code",
   "execution_count": 28,
   "metadata": {},
   "outputs": [],
   "source": [
    "def find_resonator(resonator_id, criterion='max_dev_complex', delay=0, check=1, raise_on_error=True): \n",
    "#    print ('resonator_id: ', resonator_id)\n",
    "    # turn of all second tones\n",
    "    lo1_status = lo1.get_status()\n",
    "    lo1.set_status(0)\n",
    "    # prior bandwidth\n",
    "    bandwidth = pna.get_bandwidth()\n",
    "    pna.set_bandwidth(500)\n",
    "    average = pna.get_average()\n",
    "    pna.set_average(0)\n",
    "    #pna.set_power(-60)\n",
    "    #pna.set_nop(501)\n",
    "    nop = pna.get_nop()\n",
    "    xlim = pna.get_xlim()\n",
    "    pna.set_nop((7.4e9-\n",
    "                 7.32e9)/0.02e6+1)\n",
    "    pna.set_xlim(7.32e9, 7.4e9)\n",
    "    #current_src1.set_current(current)\n",
    "    \n",
    "    # measure S21\n",
    "    results = []\n",
    "    for iteration_id in range(check+1):\n",
    "        S21 = pna.measure()['S-parameter']\n",
    "        freqs = pna.get_points()['S-parameter'][0][1]\n",
    "    \n",
    "        if (criterion == 'max_dev_complex'):\n",
    "            measurement = S21*np.exp(2*np.pi*1j*freqs*delay)\n",
    "            #plt.figure()\n",
    "            #plt.plot(freqs, np.real(measurement-np.mean(measurement)))\n",
    "            #plt.plot(freqs, np.imag(measurement-np.mean(measurement)))\n",
    "            #plt.plot(freqs, np.abs(measurement-np.mean(measurement)))\n",
    "            results.append(freqs[np.argmax(np.abs(measurement-np.mean(measurement)))])\n",
    "        if (criterion == 'min_abs'):\n",
    "            measurement = np.abs(S21)\n",
    "            results.append(freqs[np.argmin(measurement)])\n",
    "    # if resonator is off by more 3 times tolerance, raise if raise_on_error, otherwise warn\n",
    "    if (np.std(results)>qubits[resonator_id]['r']['dFr']*10):\n",
    "        if raise_on_error:\n",
    "            raise Exception('Could not find resonator')\n",
    "        else:\n",
    "            print ('Could not find resonator')\n",
    "    else: \n",
    "        print('resonator found at '+str(np.mean(results)))\n",
    "        \n",
    "    lo1.set_status(lo1_status)\n",
    "    pna.set_bandwidth(bandwidth)\n",
    "    pna.set_average(average)\n",
    "    pna.set_nop(nop)\n",
    "    pna.set_xlim(*xlim)\n",
    "    \n",
    "    return np.mean(results)"
   ]
  },
  {
   "cell_type": "code",
   "execution_count": null,
   "metadata": {},
   "outputs": [],
   "source": [
    "# Двухтоновка в пи\n",
    "ex_freqs = np.arange(0.01e9, 0.8e9, 5e6)\n",
    "#lo1.set_power(-10) # no mixer\n",
    "lo1.set_power(-10) # w/mixer\n",
    "#Измерение\n",
    "lo1.set_status(1)\n",
    "pna.set_nop(1)\n",
    "#pna.set_centerfreq(Qubits[qubit_id]['r']['Fr'])\n",
    "#pna.set_frequency(Qubits[qubit_id]['r']['Fr'])\n",
    "pna.set_centerfreq(7.3525e9)\n",
    "pna.set_frequency(7.3525e9)\n",
    "pna.set_bandwidth(10)\n",
    "#pna.set_power(Qubits[qubit_id]['r']['P'])\n",
    "pna.set_power(-30)\n",
    "voltage_max=2\n",
    "voltage_nop = 101\n",
    "# voltages=np.linspace(-voltage_max,voltage_max,voltage_nop)\n",
    "voltages=np.linspace(1.55,1.85,voltage_nop)\n",
    "header = '''#Parameter = Ex frequency\n",
    "#Ex power = {:f}'''\n",
    "try:\n",
    "    ex1D = sweep.sweep(pna, \n",
    "                       (voltages, lambda x: dac.set_voltage(x, channel=nndac_channel_id), 'Coil #{} voltage,qubit{}'.format(1,qubit_id)),\n",
    "                       (ex_freqs, lo1.set_frequency, 'Second tone freq', 'Hz'),\n",
    "                       filename = \"Двухтоновая спектроскопия образец #{}, power {}\".format(qubit_id,lo1.get_power()))\n",
    "except KeyboardInterrupt: pass \n",
    "lo1.set_status(0)\n",
    "\n",
    "\n",
    "\n",
    "powers = np.arange(-20, 0, 5)\n",
    "\n",
    "delay = 70e-9\n",
    "def set_volt_res():\n",
    "    for _qubit_id in ['1']:\n",
    "        for coil_channel_id, channel_voltage in qubits[_qubit_id]['q']['P']['Fmin_coil_currents'].items():\n",
    "            #dac.set_voltage(channel_voltage, channel=nndac_channel_id)\n",
    "            coil_device.set_offset(channel_voltage, channel=coil_channel_id)\n",
    "        res_freq = find_resonator(qubit_id, criterion='max_dev_complex', delay=delay,\n",
    "                                  check=3, raise_on_error=False)\n",
    "        print(res_freq)\n",
    "        pna.set_frequency(res_freq)\n",
    "        pna.set_centerfreq(res_freq)\n",
    "set_volt_res()\n",
    "result = sweep.sweep(pna,\n",
    "                     (powers,lo1.set_power,'two-tone power','dB'),\n",
    "                     (freqs,lo1.set_frequency, 'Excitation frequency', 'Hz'),\n",
    "                     filename='Sample 1808_072-2 Coil #{} two-tone qubit{}'.format(1,qubit_id))"
   ]
  },
  {
   "cell_type": "code",
   "execution_count": 26,
   "metadata": {},
   "outputs": [
    {
     "name": "stderr",
     "output_type": "stream",
     "text": [
      "C:\\ProgramData\\Anaconda3\\lib\\site-packages\\pyvisa\\resources\\messagebased.py:573: FutureWarning: ask is deprecated and will be removed in 1.10, use query instead.\n",
      "  '1.10, use query instead.', FutureWarning)\n"
     ]
    },
    {
     "data": {
      "application/vnd.jupyter.widget-view+json": {
       "model_id": "dc1ed81320e846e5ab6936b527c29161",
       "version_major": 2,
       "version_minor": 0
      },
      "text/plain": [
       "HTML(value='')"
      ]
     },
     "metadata": {},
     "output_type": "display_data"
    },
    {
     "name": "stderr",
     "output_type": "stream",
     "text": [
      "C:\\ProgramData\\Anaconda3\\lib\\site-packages\\pyvisa\\resources\\messagebased.py:573: FutureWarning: ask is deprecated and will be removed in 1.10, use query instead.\n",
      "  '1.10, use query instead.', FutureWarning)\n"
     ]
    },
    {
     "name": "stdout",
     "output_type": "stream",
     "text": [
      "Started at:  Dec 08 2018 08:22:15\n"
     ]
    },
    {
     "name": "stderr",
     "output_type": "stream",
     "text": [
      "Exception in thread Thread-8:\n",
      "Traceback (most recent call last):\n",
      "  File \"C:\\ProgramData\\Anaconda3\\lib\\threading.py\", line 916, in _bootstrap_inner\n",
      "    self.run()\n",
      "  File \"C:\\ProgramData\\Anaconda3\\lib\\threading.py\", line 864, in run\n",
      "    self._target(*self._args, **self._kwargs)\n",
      "  File \"C:\\qtlab_replacement\\qsweepy\\sweep.py\", line 273, in main_sweep_loop\n",
      "    setter(val)\n",
      "  File \"<ipython-input-26-6f59aad64e09>\", line 23, in <lambda>\n",
      "    (voltages, lambda x: dac.set_voltage(x, channel=nndac_channel_id), 'Coil #{} voltage,qubit{}'.format(1,qubit_id)),\n",
      "NameError: name 'nndac_channel_id' is not defined\n",
      "\n",
      "C:\\qtlab_replacement\\qsweepy\\plotting.py:369: RuntimeWarning: All-NaN slice encountered\n",
      "  plot.set_clim(np.nanmin(data), np.nanmax(data))\n"
     ]
    },
    {
     "ename": "UnicodeDecodeError",
     "evalue": "'charmap' codec can't decode byte 0x8f in position 42604: character maps to <undefined>",
     "output_type": "error",
     "traceback": [
      "\u001b[1;31m---------------------------------------------------------------------------\u001b[0m",
      "\u001b[1;31mKeyboardInterrupt\u001b[0m                         Traceback (most recent call last)",
      "\u001b[1;32mC:\\qtlab_replacement\\qsweepy\\sweep.py\u001b[0m in \u001b[0;36msweep\u001b[1;34m(measurer, filename, root_dir, plot, plot_separate_thread, header, output, save, time_war_label, shuffle, bot, use_deferred, loc, *params)\u001b[0m\n\u001b[0;32m    333\u001b[0m                         \u001b[0macq_thread\u001b[0m\u001b[1;33m.\u001b[0m\u001b[0mstart\u001b[0m\u001b[1;33m(\u001b[0m\u001b[1;33m)\u001b[0m\u001b[1;33m\u001b[0m\u001b[0m\n\u001b[1;32m--> 334\u001b[1;33m                         \u001b[0mplot_thread\u001b[0m\u001b[1;33m(\u001b[0m\u001b[1;33m)\u001b[0m\u001b[1;33m\u001b[0m\u001b[0m\n\u001b[0m\u001b[0;32m    335\u001b[0m \u001b[1;33m\u001b[0m\u001b[0m\n",
      "\u001b[1;32mC:\\qtlab_replacement\\qsweepy\\sweep.py\u001b[0m in \u001b[0;36mplot_thread\u001b[1;34m()\u001b[0m\n\u001b[0;32m    319\u001b[0m                                         \u001b[1;32mif\u001b[0m \u001b[0msweep_error\u001b[0m\u001b[1;33m:\u001b[0m\u001b[1;33m\u001b[0m\u001b[0m\n\u001b[1;32m--> 320\u001b[1;33m                                                 \u001b[1;32mraise\u001b[0m \u001b[0mKeyboardInterrupt\u001b[0m\u001b[1;33m\u001b[0m\u001b[0m\n\u001b[0m\u001b[0;32m    321\u001b[0m                                         \u001b[1;32mif\u001b[0m \u001b[0mplot_thread_point_id\u001b[0m \u001b[1;33m<\u001b[0m \u001b[0mdone_sweeps\u001b[0m\u001b[1;33m:\u001b[0m\u001b[1;33m\u001b[0m\u001b[0m\n",
      "\u001b[1;31mKeyboardInterrupt\u001b[0m: ",
      "\nDuring handling of the above exception, another exception occurred:\n",
      "\u001b[1;31mUnicodeDecodeError\u001b[0m                        Traceback (most recent call last)",
      "\u001b[1;32m<ipython-input-26-6f59aad64e09>\u001b[0m in \u001b[0;36m<module>\u001b[1;34m()\u001b[0m\n\u001b[0;32m     23\u001b[0m                        \u001b[1;33m(\u001b[0m\u001b[0mvoltages\u001b[0m\u001b[1;33m,\u001b[0m \u001b[1;32mlambda\u001b[0m \u001b[0mx\u001b[0m\u001b[1;33m:\u001b[0m \u001b[0mdac\u001b[0m\u001b[1;33m.\u001b[0m\u001b[0mset_voltage\u001b[0m\u001b[1;33m(\u001b[0m\u001b[0mx\u001b[0m\u001b[1;33m,\u001b[0m \u001b[0mchannel\u001b[0m\u001b[1;33m=\u001b[0m\u001b[0mnndac_channel_id\u001b[0m\u001b[1;33m)\u001b[0m\u001b[1;33m,\u001b[0m \u001b[1;34m'Coil #{} voltage,qubit{}'\u001b[0m\u001b[1;33m.\u001b[0m\u001b[0mformat\u001b[0m\u001b[1;33m(\u001b[0m\u001b[1;36m1\u001b[0m\u001b[1;33m,\u001b[0m\u001b[0mqubit_id\u001b[0m\u001b[1;33m)\u001b[0m\u001b[1;33m)\u001b[0m\u001b[1;33m,\u001b[0m\u001b[1;33m\u001b[0m\u001b[0m\n\u001b[0;32m     24\u001b[0m                        \u001b[1;33m(\u001b[0m\u001b[0mex_freqs\u001b[0m\u001b[1;33m,\u001b[0m \u001b[0mlo1\u001b[0m\u001b[1;33m.\u001b[0m\u001b[0mset_frequency\u001b[0m\u001b[1;33m,\u001b[0m \u001b[1;34m'Second tone freq'\u001b[0m\u001b[1;33m,\u001b[0m \u001b[1;34m'Hz'\u001b[0m\u001b[1;33m)\u001b[0m\u001b[1;33m,\u001b[0m\u001b[1;33m\u001b[0m\u001b[0m\n\u001b[1;32m---> 25\u001b[1;33m                        filename = \"Двухтоновая спектроскопия образец #{}, power {}\".format(qubit_id,lo1.get_power()))\n\u001b[0m\u001b[0;32m     26\u001b[0m \u001b[1;32mexcept\u001b[0m \u001b[0mKeyboardInterrupt\u001b[0m\u001b[1;33m:\u001b[0m \u001b[1;32mpass\u001b[0m\u001b[1;33m\u001b[0m\u001b[0m\n\u001b[0;32m     27\u001b[0m \u001b[0mlo1\u001b[0m\u001b[1;33m.\u001b[0m\u001b[0mset_status\u001b[0m\u001b[1;33m(\u001b[0m\u001b[1;36m0\u001b[0m\u001b[1;33m)\u001b[0m\u001b[1;33m\u001b[0m\u001b[0m\n",
      "\u001b[1;32mC:\\qtlab_replacement\\qsweepy\\sweep.py\u001b[0m in \u001b[0;36msweep\u001b[1;34m(measurer, filename, root_dir, plot, plot_separate_thread, header, output, save, time_war_label, shuffle, bot, use_deferred, loc, *params)\u001b[0m\n\u001b[0;32m    357\u001b[0m                 \u001b[0mheader\u001b[0m \u001b[1;33m=\u001b[0m \u001b[1;33m{\u001b[0m\u001b[1;34m'name'\u001b[0m\u001b[1;33m:\u001b[0m \u001b[0mfilename\u001b[0m\u001b[1;33m}\u001b[0m\u001b[1;33m\u001b[0m\u001b[0m\n\u001b[0;32m    358\u001b[0m                 \u001b[1;32mif\u001b[0m \u001b[1;33m(\u001b[0m\u001b[0msave\u001b[0m\u001b[1;33m)\u001b[0m\u001b[1;33m:\u001b[0m\u001b[1;33m\u001b[0m\u001b[0m\n\u001b[1;32m--> 359\u001b[1;33m                         \u001b[0mfilename_location\u001b[0m \u001b[1;33m=\u001b[0m \u001b[0msave_pkl\u001b[0m\u001b[1;33m.\u001b[0m\u001b[0msave_pkl\u001b[0m\u001b[1;33m(\u001b[0m\u001b[0mheader\u001b[0m\u001b[1;33m,\u001b[0m \u001b[0mmk_measurement\u001b[0m\u001b[1;33m(\u001b[0m\u001b[1;33m)\u001b[0m\u001b[1;33m,\u001b[0m \u001b[0mlocation\u001b[0m \u001b[1;33m=\u001b[0m \u001b[0mdata_dir\u001b[0m\u001b[1;33m,\u001b[0m \u001b[0mplot_axes\u001b[0m\u001b[1;33m=\u001b[0m\u001b[0mplot_axes\u001b[0m\u001b[1;33m)\u001b[0m\u001b[1;33m\u001b[0m\u001b[0m\n\u001b[0m\u001b[0;32m    360\u001b[0m                 \u001b[1;32mif\u001b[0m \u001b[0mbot\u001b[0m\u001b[1;33m[\u001b[0m\u001b[1;36m0\u001b[0m\u001b[1;33m]\u001b[0m\u001b[1;33m==\u001b[0m\u001b[1;32mTrue\u001b[0m\u001b[1;33m:\u001b[0m\u001b[1;33m\u001b[0m\u001b[0m\n\u001b[0;32m    361\u001b[0m                         \u001b[1;32mwith\u001b[0m \u001b[0mopen\u001b[0m\u001b[1;33m(\u001b[0m\u001b[0mdata_dir\u001b[0m\u001b[1;33m+\u001b[0m\u001b[1;34m\"/send_result.txt\"\u001b[0m\u001b[1;33m,\u001b[0m\u001b[1;34m'w'\u001b[0m\u001b[1;33m)\u001b[0m \u001b[1;32mas\u001b[0m \u001b[0mbot_send_file\u001b[0m\u001b[1;33m:\u001b[0m\u001b[1;33m\u001b[0m\u001b[0m\n",
      "\u001b[1;32mC:\\qtlab_replacement\\qsweepy\\save_pkl.py\u001b[0m in \u001b[0;36msave_pkl\u001b[1;34m(header, data, plot, curve_fit, annotation, location, time, filename, matlab, gzip, plot_axes)\u001b[0m\n\u001b[0;32m     70\u001b[0m                 \u001b[0mplotting\u001b[0m\u001b[1;33m.\u001b[0m\u001b[0mupdate_plot_measurement\u001b[0m\u001b[1;33m(\u001b[0m\u001b[0mdata\u001b[0m\u001b[1;33m,\u001b[0m \u001b[0mplot_axes\u001b[0m\u001b[1;33m)\u001b[0m\u001b[1;33m\u001b[0m\u001b[0m\n\u001b[0;32m     71\u001b[0m                 \u001b[0mplotting\u001b[0m\u001b[1;33m.\u001b[0m\u001b[0mplot_add_annotation\u001b[0m\u001b[1;33m(\u001b[0m\u001b[0mplot_axes\u001b[0m\u001b[1;33m,\u001b[0m \u001b[0mannotation\u001b[0m\u001b[1;33m)\u001b[0m\u001b[1;33m\u001b[0m\u001b[0m\n\u001b[1;32m---> 72\u001b[1;33m                 \u001b[0mplotting\u001b[0m\u001b[1;33m.\u001b[0m\u001b[0mplot_save\u001b[0m\u001b[1;33m(\u001b[0m\u001b[0mplot_axes\u001b[0m\u001b[1;33m,\u001b[0m \u001b[0mlocation\u001b[0m\u001b[1;33m)\u001b[0m\u001b[1;33m\u001b[0m\u001b[0m\n\u001b[0m\u001b[0;32m     73\u001b[0m         \u001b[1;32melif\u001b[0m \u001b[0mplot\u001b[0m\u001b[1;33m:\u001b[0m\u001b[1;33m\u001b[0m\u001b[0m\n\u001b[0;32m     74\u001b[0m                 \u001b[0mplotting\u001b[0m\u001b[1;33m.\u001b[0m\u001b[0mplot_measurement\u001b[0m\u001b[1;33m(\u001b[0m\u001b[0mdata\u001b[0m\u001b[1;33m,\u001b[0m \u001b[0mfilename\u001b[0m\u001b[1;33m,\u001b[0m \u001b[0msave\u001b[0m\u001b[1;33m=\u001b[0m\u001b[0mlocation\u001b[0m\u001b[1;33m,\u001b[0m \u001b[0mannotation\u001b[0m\u001b[1;33m=\u001b[0m\u001b[0mannotation\u001b[0m\u001b[1;33m,\u001b[0m \u001b[0msubplots\u001b[0m\u001b[1;33m=\u001b[0m\u001b[1;32mTrue\u001b[0m\u001b[1;33m)\u001b[0m\u001b[1;33m\u001b[0m\u001b[0m\n",
      "\u001b[1;32mC:\\qtlab_replacement\\qsweepy\\plotting.py\u001b[0m in \u001b[0;36mplot_save\u001b[1;34m(axes, save)\u001b[0m\n\u001b[0;32m    236\u001b[0m                         \u001b[0max\u001b[0m\u001b[1;33m[\u001b[0m\u001b[1;34m'axes'\u001b[0m\u001b[1;33m]\u001b[0m\u001b[1;33m.\u001b[0m\u001b[0mget_figure\u001b[0m\u001b[1;33m(\u001b[0m\u001b[1;33m)\u001b[0m\u001b[1;33m.\u001b[0m\u001b[0msavefig\u001b[0m\u001b[1;33m(\u001b[0m\u001b[1;34m'{0}/{1}.svg'\u001b[0m\u001b[1;33m.\u001b[0m\u001b[0mformat\u001b[0m\u001b[1;33m(\u001b[0m\u001b[0msave\u001b[0m\u001b[1;33m,\u001b[0m \u001b[0max_name\u001b[0m\u001b[1;33m)\u001b[0m\u001b[1;33m)\u001b[0m\u001b[1;33m\u001b[0m\u001b[0m\n\u001b[0;32m    237\u001b[0m                         \u001b[1;32mwith\u001b[0m \u001b[0mopen\u001b[0m\u001b[1;33m(\u001b[0m\u001b[1;34m'{0}/{1}.svg'\u001b[0m\u001b[1;33m.\u001b[0m\u001b[0mformat\u001b[0m\u001b[1;33m(\u001b[0m\u001b[0msave\u001b[0m\u001b[1;33m,\u001b[0m \u001b[0max_name\u001b[0m\u001b[1;33m)\u001b[0m\u001b[1;33m)\u001b[0m \u001b[1;32mas\u001b[0m \u001b[0mfd\u001b[0m\u001b[1;33m:\u001b[0m\u001b[1;33m\u001b[0m\u001b[0m\n\u001b[1;32m--> 238\u001b[1;33m                                 \u001b[0ms\u001b[0m \u001b[1;33m=\u001b[0m \u001b[0mfd\u001b[0m\u001b[1;33m.\u001b[0m\u001b[0mread\u001b[0m\u001b[1;33m(\u001b[0m\u001b[1;33m)\u001b[0m\u001b[1;33m\u001b[0m\u001b[0m\n\u001b[0m\u001b[0;32m    239\u001b[0m                         \u001b[1;32mwith\u001b[0m \u001b[0mopen\u001b[0m\u001b[1;33m(\u001b[0m\u001b[1;34m'{0}/{1}.svg'\u001b[0m\u001b[1;33m.\u001b[0m\u001b[0mformat\u001b[0m\u001b[1;33m(\u001b[0m\u001b[0msave\u001b[0m\u001b[1;33m,\u001b[0m \u001b[0max_name\u001b[0m\u001b[1;33m)\u001b[0m\u001b[1;33m,\u001b[0m \u001b[1;34m'w'\u001b[0m\u001b[1;33m)\u001b[0m \u001b[1;32mas\u001b[0m \u001b[0mfd\u001b[0m\u001b[1;33m:\u001b[0m\u001b[1;33m\u001b[0m\u001b[0m\n\u001b[0;32m    240\u001b[0m                                 \u001b[0mfd\u001b[0m\u001b[1;33m.\u001b[0m\u001b[0mwrite\u001b[0m\u001b[1;33m(\u001b[0m\u001b[0ms\u001b[0m\u001b[1;33m.\u001b[0m\u001b[0mreplace\u001b[0m\u001b[1;33m(\u001b[0m\u001b[1;34m'stroke-miterlimit:100000;'\u001b[0m\u001b[1;33m,\u001b[0m \u001b[1;34m''\u001b[0m\u001b[1;33m)\u001b[0m\u001b[1;33m)\u001b[0m\u001b[1;33m\u001b[0m\u001b[0m\n",
      "\u001b[1;32mC:\\ProgramData\\Anaconda3\\lib\\encodings\\cp1252.py\u001b[0m in \u001b[0;36mdecode\u001b[1;34m(self, input, final)\u001b[0m\n\u001b[0;32m     21\u001b[0m \u001b[1;32mclass\u001b[0m \u001b[0mIncrementalDecoder\u001b[0m\u001b[1;33m(\u001b[0m\u001b[0mcodecs\u001b[0m\u001b[1;33m.\u001b[0m\u001b[0mIncrementalDecoder\u001b[0m\u001b[1;33m)\u001b[0m\u001b[1;33m:\u001b[0m\u001b[1;33m\u001b[0m\u001b[0m\n\u001b[0;32m     22\u001b[0m     \u001b[1;32mdef\u001b[0m \u001b[0mdecode\u001b[0m\u001b[1;33m(\u001b[0m\u001b[0mself\u001b[0m\u001b[1;33m,\u001b[0m \u001b[0minput\u001b[0m\u001b[1;33m,\u001b[0m \u001b[0mfinal\u001b[0m\u001b[1;33m=\u001b[0m\u001b[1;32mFalse\u001b[0m\u001b[1;33m)\u001b[0m\u001b[1;33m:\u001b[0m\u001b[1;33m\u001b[0m\u001b[0m\n\u001b[1;32m---> 23\u001b[1;33m         \u001b[1;32mreturn\u001b[0m \u001b[0mcodecs\u001b[0m\u001b[1;33m.\u001b[0m\u001b[0mcharmap_decode\u001b[0m\u001b[1;33m(\u001b[0m\u001b[0minput\u001b[0m\u001b[1;33m,\u001b[0m\u001b[0mself\u001b[0m\u001b[1;33m.\u001b[0m\u001b[0merrors\u001b[0m\u001b[1;33m,\u001b[0m\u001b[0mdecoding_table\u001b[0m\u001b[1;33m)\u001b[0m\u001b[1;33m[\u001b[0m\u001b[1;36m0\u001b[0m\u001b[1;33m]\u001b[0m\u001b[1;33m\u001b[0m\u001b[0m\n\u001b[0m\u001b[0;32m     24\u001b[0m \u001b[1;33m\u001b[0m\u001b[0m\n\u001b[0;32m     25\u001b[0m \u001b[1;32mclass\u001b[0m \u001b[0mStreamWriter\u001b[0m\u001b[1;33m(\u001b[0m\u001b[0mCodec\u001b[0m\u001b[1;33m,\u001b[0m\u001b[0mcodecs\u001b[0m\u001b[1;33m.\u001b[0m\u001b[0mStreamWriter\u001b[0m\u001b[1;33m)\u001b[0m\u001b[1;33m:\u001b[0m\u001b[1;33m\u001b[0m\u001b[0m\n",
      "\u001b[1;31mUnicodeDecodeError\u001b[0m: 'charmap' codec can't decode byte 0x8f in position 42604: character maps to <undefined>"
     ]
    }
   ],
   "source": [
    "# Двухтоновка в пи\n",
    "ex_freqs = np.arange(0.01e9, 0.8e9, 5e6)\n",
    "#lo1.set_power(-10) # no mixer\n",
    "lo1.set_power(-10) # w/mixer\n",
    "#Измерение\n",
    "lo1.set_status(1)\n",
    "pna.set_nop(1)\n",
    "#pna.set_centerfreq(Qubits[qubit_id]['r']['Fr'])\n",
    "#pna.set_frequency(Qubits[qubit_id]['r']['Fr'])\n",
    "pna.set_centerfreq(7.3525e9)\n",
    "pna.set_frequency(7.3525e9)\n",
    "pna.set_bandwidth(10)\n",
    "#pna.set_power(Qubits[qubit_id]['r']['P'])\n",
    "pna.set_power(-30)\n",
    "voltage_max=2\n",
    "voltage_nop = 101\n",
    "# voltages=np.linspace(-voltage_max,voltage_max,voltage_nop)\n",
    "voltages=np.linspace(1.55,1.85,voltage_nop)\n",
    "header = '''#Parameter = Ex frequency\n",
    "#Ex power = {:f}'''\n",
    "try:\n",
    "    ex1D = sweep.sweep(pna, \n",
    "                       (voltages, lambda x: dac.set_voltage(x, channel=nndac_channel_id), 'Coil #{} voltage,qubit{}'.format(1,qubit_id)),\n",
    "                       (ex_freqs, lo1.set_frequency, 'Second tone freq', 'Hz'),\n",
    "                       filename = \"Двухтоновая спектроскопия образец #{}, power {}\".format(qubit_id,lo1.get_power()))\n",
    "except KeyboardInterrupt: pass \n",
    "lo1.set_status(0)"
   ]
  },
  {
   "cell_type": "code",
   "execution_count": null,
   "metadata": {},
   "outputs": [],
   "source": [
    "# Двухтоновка в нуле\n",
    "ex_freqs = np.arange(0.1e9, 9e9, 5e6)\n",
    "#lo1.set_power(-10) # no mixer\n",
    "lo1.set_power(0) # w/mixer\n",
    "#Измерение\n",
    "lo1.set_status(1)\n",
    "pna.set_nop(1)\n",
    "#pna.set_centerfreq(Qubits[qubit_id]['r']['Fr'])\n",
    "#pna.set_frequency(Qubits[qubit_id]['r']['Fr'])\n",
    "pna.set_centerfreq(7.3226e9)\n",
    "pna.set_frequency(7.3226e9)\n",
    "pna.set_bandwidth(30)\n",
    "#pna.set_power(Qubits[qubit_id]['r']['P'])\n",
    "pna.set_power(-30)\n",
    "voltage_max=0.3\n",
    "voltage_nop = 101\n",
    "voltages=np.linspace(-voltage_max,voltage_max,voltage_nop)\n",
    "#voltages=np.linspace(1.5,2.5,voltage_nop)\n",
    "header = '''#Parameter = Ex frequency\n",
    "#Ex power = {:f}'''\n",
    "try:\n",
    "    ex1D = sweep.sweep(pna, \n",
    "                       (voltages, lambda x: dac.set_voltage(x, channel=nndac_channel_id), 'Coil #{} voltage,qubit{}'.format(1,qubit_id)),\n",
    "                       (ex_freqs, lo1.set_frequency, 'Second tone freq', 'Hz'),\n",
    "                       filename = \"Двухтоновая спектроскопия образец #{}, power {}\".format(qubit_id,lo1.get_power()))\n",
    "except KeyboardInterrupt: pass \n",
    "lo1.set_status(0)"
   ]
  },
  {
   "cell_type": "code",
   "execution_count": 6,
   "metadata": {},
   "outputs": [
    {
     "name": "stderr",
     "output_type": "stream",
     "text": [
      "WARNING:root:Tektronix_AWG5014 : get all not yet fully functional\n",
      "C:\\ProgramData\\Anaconda3\\lib\\site-packages\\pyvisa\\resources\\messagebased.py:573: FutureWarning: ask is deprecated and will be removed in 1.10, use query instead.\n",
      "  '1.10, use query instead.', FutureWarning)\n"
     ]
    }
   ],
   "source": [
    "CHASSIS = 0\n",
    "SLOT_AWG1 = 3\n",
    "SLOT_AWG2 = 5\n",
    "\n",
    "awg_tek = Tektronix_AWG5014('awg_tek', address = 'TCPIP0::10.20.61.186::inst0::INSTR')\n",
    "sa = Agilent_N9030A('pxa', address = 'TCPIP0::10.20.61.56::inst0::INSTR')"
   ]
  },
  {
   "cell_type": "code",
   "execution_count": 7,
   "metadata": {},
   "outputs": [],
   "source": [
    "awg1 = Keysight_M3202A_S('awg1', CHASSIS, SLOT_AWG1)\n",
    "awg2 = Keysight_M3202A_S('awg2', CHASSIS, SLOT_AWG2)\n",
    "awg1.get_clock = lambda: 1e9\n",
    "awg2.get_clock = lambda: 1e9\n",
    "adc = instruments.Spectrum_M4i22xx('adc')"
   ]
  },
  {
   "cell_type": "code",
   "execution_count": 23,
   "metadata": {},
   "outputs": [
    {
     "name": "stderr",
     "output_type": "stream",
     "text": [
      "C:\\ProgramData\\Anaconda3\\lib\\site-packages\\pyvisa\\resources\\messagebased.py:573: FutureWarning: ask is deprecated and will be removed in 1.10, use query instead.\n",
      "  '1.10, use query instead.', FutureWarning)\n"
     ]
    }
   ],
   "source": [
    "# когда спектроскопия не рабтает и всё плохо, тыкай сюды!\n",
    "# вектнй анлизатр цепей - в режим свипа по частоте\n",
    "pna.set_sweep_mode(\"LIN\")\n",
    "# смесители - открыть\n",
    "#awg_tek = awg\n",
    "#for channel in range(0,4):\n",
    "#awg._visainstrument.write('AWGC:DOUT1 OFF')\n",
    "#awg._visainstrument.write('AWGC:DOUT2 OFF')\n",
    "#awg._visainstrument.write('AWGC:DOUT3 OFF')\n",
    "#awg._visainstrument.write('AWGC:DOUT4 OFF')\n",
    "awg2.trigger_source_types = [0,6,6,6]\n",
    "awg2.trigger_source_channels = [0, 4000,4000,4000]\n",
    "awg2.trigger_delays = [30+10,7+10,7+10,7+10]\n",
    "awg2.trigger_behaviours = [0,4,4,4]\n",
    "awg2.set_trigger_mode(2)\n",
    "awg1.set_trigger_mode(2)\n",
    "awg1.trigger_source_types = [6,6,6,6]\n",
    "awg1.trigger_source_channels = [4000, 4000,4000,4000]\n",
    "awg1.trigger_delays = [7+10,7+10,7+10,7+10] # wait 60 ns for sync with awg2\n",
    "awg1.trigger_behaviours = [4,4,4,4]\n",
    "awg1.stop()\n",
    "awg2.stop()\n",
    "for channel in range(0,4):\n",
    "    awg2.set_amplitude(0.05, channel=channel)\n",
    "    awg2.set_offset(0.03,channel=channel)\n",
    "    awg2.set_output(1, channel=channel)\n",
    "    awg2.set_waveform(waveform = [0]*50000, channel=channel)\n",
    "for channel in range(0,1):\n",
    "    awg1.set_amplitude(0.03, channel=channel)\n",
    "    awg1.set_offset(0.6,channel=channel)\n",
    "    awg1.set_output(1, channel=channel)\n",
    "    awg1.set_waveform(waveform =[0]*50000, channel=channel)\n",
    "awg_tek.stop()\n",
    "for channel in range(1,5):\n",
    "    awg_tek.set_output(0, channel=channel)\n",
    "    awg_tek.set_amplitude(0*1.0, channel=channel)\n",
    "    awg_tek.set_offset(0.0,channel=channel)\n",
    "    awg_tek.set_output(1, channel=channel)\n",
    "    awg_tek.set_waveform([0]*50000, channel=channel)\n",
    "awg2.set_marker(length=200, delay=0, channel=0, pxi_channels=1)\n",
    "awg1.set_marker(length=200, delay=0, channel=0, pxi_channels=2)\n",
    "awg2.run()\n",
    "awg1.run()\n",
    "#     \n"
   ]
  },
  {
   "cell_type": "code",
   "execution_count": 64,
   "metadata": {},
   "outputs": [],
   "source": [
    "awg2.stop()\n",
    "awg1.stop()"
   ]
  },
  {
   "cell_type": "code",
   "execution_count": 65,
   "metadata": {},
   "outputs": [],
   "source": [
    "awg2.run()\n",
    "awg1.run()"
   ]
  },
  {
   "cell_type": "code",
   "execution_count": null,
   "metadata": {},
   "outputs": [],
   "source": []
  },
  {
   "cell_type": "code",
   "execution_count": 24,
   "metadata": {},
   "outputs": [
    {
     "data": {
      "application/vnd.jupyter.widget-view+json": {
       "model_id": "64fec49d05ba47dc9ae8e70e8b362420",
       "version_major": 2,
       "version_minor": 0
      },
      "text/plain": [
       "A Jupyter Widget"
      ]
     },
     "metadata": {},
     "output_type": "display_data"
    },
    {
     "name": "stdout",
     "output_type": "stream",
     "text": [
      "Started at:  Sep 08 2018 01:46:43\n",
      "Exiting sweep main thread #{} via return 13052\n",
      "\n",
      "Elapsed time: 8 h 59 m 8.32 s\n"
     ]
    },
    {
     "data": {
      "text/plain": [
       "True"
      ]
     },
     "execution_count": 24,
     "metadata": {},
     "output_type": "execute_result"
    }
   ],
   "source": [
    "ex_freqs = np.arange(0.1e9, 9e9, 5e6)\n",
    "#lo1.set_power(-10) # no mixer\n",
    "lo1.set_power(5) # w/mixer\n",
    "#Измерение\n",
    "lo1.set_status(1)\n",
    "pna.set_nop(1)\n",
    "#pna.set_centerfreq(Qubits[qubit_id]['r']['Fr'])\n",
    "#pna.set_frequency(Qubits[qubit_id]['r']['Fr'])\n",
    "pna.set_centerfreq(7.352e9)\n",
    "pna.set_frequency(7.359e9)\n",
    "pna.set_bandwidth(60)\n",
    "#pna.set_power(Qubits[qubit_id]['r']['P'])\n",
    "pna.set_power(-35)\n",
    "#current_max=0.95e-3\n",
    "current_nop = 451\n",
    "#currents=np.linspace(current_max,-current_max,current_nop)\n",
    "currents=np.linspace(-200e-3,200e-3,current_nop)\n",
    "current_src.set_status(1)\n",
    "header = '''#Parameter = Ex frequency\n",
    "#Ex power = {:f}'''\n",
    "try:\n",
    "    ex1D = sweep.sweep(pna, \n",
    "                       (currents, current_src.set_current, 'Coil current', 'A'),\n",
    "                       (ex_freqs, lo1.set_frequency, 'Second tone freq', 'Hz'),\n",
    "                       filename = \"Двухтоновая спектроскопия образец #{}, power {}\".format(qubit_id,lo1.get_power()))\n",
    "except KeyboardInterrupt: pass \n",
    "lo1.set_status(0)"
   ]
  },
  {
   "cell_type": "code",
   "execution_count": 25,
   "metadata": {},
   "outputs": [
    {
     "data": {
      "application/vnd.jupyter.widget-view+json": {
       "model_id": "5607a4631cf44d879361caf3b7718e91",
       "version_major": 2,
       "version_minor": 0
      },
      "text/plain": [
       "A Jupyter Widget"
      ]
     },
     "metadata": {},
     "output_type": "display_data"
    },
    {
     "name": "stdout",
     "output_type": "stream",
     "text": [
      "Started at:  Sep 08 2018 10:45:55\n",
      "Exiting sweep main thread #{} via return 12348\n",
      "\n",
      "Elapsed time: 9 h 34 m 27.8 s\n"
     ]
    },
    {
     "data": {
      "text/plain": [
       "True"
      ]
     },
     "execution_count": 25,
     "metadata": {},
     "output_type": "execute_result"
    }
   ],
   "source": [
    "ex_freqs = np.arange(0.8e9, 9e9, 5e6)\n",
    "#lo1.set_power(-10) # no mixer\n",
    "lo1.set_power(-5) # w/mixer\n",
    "#Измерение\n",
    "lo1.set_status(1)\n",
    "pna.set_nop(1)\n",
    "#pna.set_centerfreq(Qubits[qubit_id]['r']['Fr'])\n",
    "#pna.set_frequency(Qubits[qubit_id]['r']['Fr'])\n",
    "pna.set_centerfreq(7.346e9)\n",
    "pna.set_frequency(7.346e9)\n",
    "pna.set_bandwidth(60)\n",
    "#pna.set_power(Qubits[qubit_id]['r']['P'])\n",
    "pna.set_power(-55)\n",
    "#current_max=0.95e-3\n",
    "current_nop = 481\n",
    "#currents=np.linspace(current_max,-current_max,current_nop)\n",
    "currents=np.linspace(-65e-6,175e-6,current_nop)\n",
    "current_src.set_status(1)\n",
    "header = '''#Parameter = Ex frequency\n",
    "#Ex power = {:f}'''\n",
    "try:\n",
    "    ex1D = sweep.sweep(pna, \n",
    "                       (currents, current_src.set_current, 'Coil current', 'A'),\n",
    "                       (ex_freqs, lo1.set_frequency, 'Second tone freq', 'Hz'),\n",
    "                       filename = \"Двухтоновая спектроскопия образец #{}, power {}\".format(qubit_id,lo1.get_power()))\n",
    "except KeyboardInterrupt: pass \n",
    "lo1.set_status(0)"
   ]
  },
  {
   "cell_type": "code",
   "execution_count": 87,
   "metadata": {},
   "outputs": [
    {
     "data": {
      "application/vnd.jupyter.widget-view+json": {
       "model_id": "ba6d583687df4ae19a30b81bbaa223c7",
       "version_major": 2,
       "version_minor": 0
      },
      "text/plain": [
       "A Jupyter Widget"
      ]
     },
     "metadata": {},
     "output_type": "display_data"
    },
    {
     "name": "stdout",
     "output_type": "stream",
     "text": [
      "Started at:  Sep 06 2018 11:52:40\n",
      "Exiting sweep main thread #{} via return 1712\n",
      "\n",
      "Elapsed time: 0 h 26 m 27.05 s\n"
     ]
    },
    {
     "data": {
      "text/plain": [
       "True"
      ]
     },
     "execution_count": 87,
     "metadata": {},
     "output_type": "execute_result"
    }
   ],
   "source": [
    "ex_freqs = np.arange(2e9, 12e9, 10e6)\n",
    "#ex_freqs = np.arange(4.08e9, 4.12e9,0.25e6)\n",
    "ex_powers = np.arange(-20, 14, 1)\n",
    "\n",
    "pna.set_xlim(Qubits[qubit_id]['r']['Fr'], Qubits[qubit_id]['r']['Fr'])\n",
    "pna.set_nop(1)\n",
    "#pna.set_power(Qubits[qubit_id]['r']['P']+10)\n",
    "#pna.set_power(-30)\n",
    "pna.set_power(Qubits[qubit_id]['r']['P'])\n",
    "pna.set_bandwidth(40)\n",
    "#lo1.set_power(-20)\n",
    "\n",
    "header = '''#Parameter =\n",
    "#Ro power = {:f}'''.format( pna.get_power() )\n",
    "\n",
    "lo1.set_status(1)\n",
    "#ps.S21vs2DPar(pna, currents, current.set_current, ex_freqs, lo1.set_frequency, filename = \"#2{:.1f}dBm\".format(lo1.get_power()),\\\n",
    "#           header = header)\n",
    "ex2D = sweep.sweep(pna, (ex_powers, lo1.set_power, 'Мощность второго тона, дБ'), \n",
    "                   (ex_freqs, lo1.set_frequency, 'Частота второго тона, ГГц'), \n",
    "                   filename = \"Двухтоновая спектроскопия при различных мощностях второго (возбуждающего) тона образец #{}\".format(qubit_id),\\\n",
    "           header = header, shuffle=True)\n",
    "lo1.set_status(0)"
   ]
  },
  {
   "cell_type": "code",
   "execution_count": null,
   "metadata": {},
   "outputs": [],
   "source": []
  },
  {
   "cell_type": "markdown",
   "metadata": {},
   "source": [
    "# Импульсы \n"
   ]
  },
  {
   "cell_type": "code",
   "execution_count": 569,
   "metadata": {},
   "outputs": [
    {
     "data": {
      "text/plain": [
       "<module 'qsweepy.awg_channel' from 'C:\\\\qtlab_replacement\\\\qsweepy\\\\awg_channel.py'>"
      ]
     },
     "execution_count": 569,
     "metadata": {},
     "output_type": "execute_result"
    }
   ],
   "source": [
    "import imp\n",
    "from qsweepy import pulses as pulses\n",
    "imp.reload(awg_digital)\n",
    "imp.reload(awg_iq_multi)\n",
    "imp.reload(data_reduce)\n",
    "imp.reload(fitting)\n",
    "imp.reload(plotting)\n",
    "imp.reload(tomography)\n",
    "imp.reload(sweep)\n",
    "imp.reload(pulses)\n",
    "imp.reload(awg_channel)"
   ]
  },
  {
   "cell_type": "code",
   "execution_count": 570,
   "metadata": {},
   "outputs": [
    {
     "name": "stdout",
     "output_type": "stream",
     "text": [
      "0\n",
      "0\n"
     ]
    }
   ],
   "source": [
    "# Источник тока - в autorange\n",
    "#current.set_autorange(1)\n",
    "#Мощности гетеродинов, постоянные\n",
    "#Мощность гетеродина для возбуждения 13-16 дБм\n",
    "\n",
    "\n",
    "lo_ex.set_status(1)\n",
    "lo_ro_pow = 16\n",
    "lo_ex_pow=18\n",
    "lo_ro.set_power(lo_ro_pow)\n",
    "lo_ex.set_power(lo_ex_pow)  \n",
    "\n",
    "pna.write(\"OUTP ON\")\n",
    "pna.write(\"SOUR1:POW1:MODE ON\")\n",
    "pna.write(\"SOUR1:POW2:MODE OFF\")\n",
    "pna.set_sweep_mode(\"CW\")\n",
    "\n",
    "\n",
    "marker_length = 100\n",
    "#readout_trigger_delay = 185\n",
    "readout_trigger_delay = 0\n",
    "trg_length = 10e-9\n",
    "\n",
    "ex_clock = 1000e6\n",
    "ro_clock = 1250e6\n",
    "\n",
    "rep_rate = 20e3 # частота повторений эксперимента\n",
    "global_num_points = 50000-500\n",
    "\n",
    "awg1.stop()\n",
    "awg2.stop()\n",
    "awg_tek.stop()\n",
    "\n",
    "awg1.check_cached=True\n",
    "awg2.check_cached=True\n",
    "#awg_tek.set_clock(ex_clock) # клок всех авгшк\n",
    "awg1.set_clock(ex_clock)\n",
    "awg2.set_clock(ex_clock)\n",
    "awg1.set_clock_output(True)\n",
    "awg2.set_clock_output(True)\n",
    "awg1.set_nop(ex_clock/rep_rate) # репрейт нужно задавать по=хорошему только на управляющей,\n",
    "awg2.set_nop(ex_clock/rep_rate) # репрейт нужно задавать по=хорошему только на управляющей,\n",
    "awg1.repetition_period = global_num_points\n",
    "awg2.repetition_period = global_num_points\n",
    "\n",
    "awg1.module.waveforms = [None]*4\n",
    "awg1.module.AWGflush(nAWG=0) #убирает waveforms, которые были на этом канале\n",
    "awg1.module.AWGflush(nAWG=1)\n",
    "awg1.module.AWGflush(nAWG=2)\n",
    "awg1.module.AWGflush(nAWG=3)\n",
    "awg2.module.waveforms = [None]*4\n",
    "awg2.module.AWGflush(nAWG=0)\n",
    "awg2.module.AWGflush(nAWG=1)\n",
    "awg2.module.AWGflush(nAWG=2)\n",
    "awg2.module.AWGflush(nAWG=3)\n",
    "\n",
    "# а вот длину сэмплов, которая очевидно то же самое, нужно задавать на всех авгшках.\n",
    "# хорошо, что сейчас она только одна.\n",
    "#this is zashkvar\n",
    "awg2.set_trigger_mode(1) #external trigger mode\n",
    "awg1.set_trigger_mode(1)\n",
    "\n",
    "awg1.trigger_source_channels = [0, 0, 0, 0]\n",
    "awg2.trigger_source_channels = [0, 0, 0, 0]#=0 for external trigger\n",
    "#awg2.trigger_delays = [30+10,7+10,7+10,7+10]\n",
    "awg1.trigger_delays = [1,1,1,1]\n",
    "awg2.trigger_delays = [1,1,1,1]\n",
    "\n",
    "awg1.trigger_behaviours = [4,4,4,4] #Trigger is active on the falling edge\n",
    "awg2.trigger_behaviours = [4,4,4,4]\n",
    "\n",
    "awg1.trigger_source_types = [6,6,6,6] # External HARDWARE trigger per cycle\n",
    "awg2.trigger_source_types = [6,6,6,6]\n",
    "\n",
    "for channel in range(0,4):\n",
    "    #awg2.set_amplitude(0.4, channel=channel)\n",
    "    awg2.set_offset(0.0,channel=channel)\n",
    "    awg2.set_output(1, channel=channel)\n",
    "    awg2.set_waveform(waveform = [0]*global_num_points, channel=channel)\n",
    "for channel in range(0,4):\n",
    "    #awg1.set_amplitude(1.0, channel=channel)\n",
    "    awg1.set_offset(0.0,channel=channel)\n",
    "    awg1.set_output(1, channel=channel)\n",
    "    awg1.set_waveform(waveform =[0]*global_num_points, channel=channel)\n",
    "    \n",
    "awg1.set_amplitude(1.0, channel=0)\n",
    "awg1.set_amplitude(1.0, channel=1)\n",
    "awg1.set_amplitude(0.2, channel=2)\n",
    "awg1.set_amplitude(0.2, channel=3)\n",
    "\n",
    "awg2.set_amplitude(0.4, channel=0)\n",
    "awg2.set_amplitude(0.4, channel=1)\n",
    "awg2.set_amplitude(1.0, channel=2)\n",
    "awg2.set_amplitude(1.0, channel=3)\n",
    "    \n",
    "print(awg1.module.clockResetPhase(3, 0))\n",
    "print(awg2.module.clockResetPhase(3, 0))\n",
    "    \n",
    "awg2.set_marker(length=100, delay=0, channel=0, pxi_channels=1)\n",
    "awg1.set_marker(length=200, delay=0, channel=0, pxi_channels=2)\n",
    "awg2.run()\n",
    "awg1.run()\n",
    "awg_tek.run()\n",
    "\n",
    "awg_channels =dict()\n",
    "ro_trg = awg_digital.awg_digital(awg_tek, 1)\n",
    "ro_trg.mode = 'set_delay' #M3202A\n",
    "ro_trg.delay_setter = lambda x: adc.set_trigger_delay(int(x*adc.get_clock()/iq_ex.get_clock()-readout_trigger_delay)) #M3202A\n",
    "#ro_trg.mode = 'waveform' #AWG5014C\n",
    "awg_channels['ro_trg'] = ro_trg\n",
    "\n",
    "adc.reset()\n",
    "#Установить sample rate\n",
    "adc.set_clock(ro_clock)\n",
    "adc.set_clock_mode('pxi')\n",
    "\n",
    "#Выбрать канал (оба)\n",
    "adc.select_channel01()\n",
    "adc.set_channel01_amps(200,200)\n",
    "\n",
    "adc.set_trigger_ext0_level0(500) # logical 0 value to 200 mV\n",
    "adc.set_trigger_ext0_level1(600) # logical 1 value to 600 mV\n",
    "adc.trigger_mode_pos()\n",
    "adc.set_trigger_ext0_pulsewidth(0)\n",
    "\n",
    "adc.set_trigger_ext0()\n",
    "adc.set_trigger_termination(1)\n",
    "#Сегментированный режим\n",
    "#adc.set_multi_mode()\n",
    "#Настроить входнй диапазон в мв\n",
    "#adc.init_channel01_multiple_recording()\n",
    "#Настроить режим измерения\n",
    "adc.set_multi_record_mode()\n",
    "\n",
    "#Выбрать канал (оба)"
   ]
  },
  {
   "cell_type": "code",
   "execution_count": 571,
   "metadata": {},
   "outputs": [
    {
     "name": "stderr",
     "output_type": "stream",
     "text": [
      "WARNING:root:Tektronix_AWG5014 : Clock set to 1000000000.0. This is not fully functional yet. To avoid problems, it is better not to change the clock during operation\n",
      "root: WARNING  Tektronix_AWG5014 : Clock set to 1000000000.0. This is not fully functional yet. To avoid problems, it is better not to change the clock during operation\n"
     ]
    }
   ],
   "source": [
    "awg_tek.stop()\n",
    "awg_tek._visainstrument.write('AWGC:RMOD TRIG')\n",
    "awg_tek._visainstrument.write('TRIG:WVAL LAST')\n",
    "awg_tek._visainstrument.write('TRIG:IMP 1kohm')\n",
    "awg_tek._visainstrument.write('TRIG:LEV 0')\n",
    "awg_tek._visainstrument.write('TRIG:SLOP NEG')\n",
    "awg_tek._visainstrument.write('SOUR1:ROSC:FREQ 10MHz')\n",
    "awg_tek._visainstrument.write('SOUR1:ROSC:SOUR EXT')\n",
    "\n",
    "#awg_tek.set_trigger_mode('CONT')\n",
    "awg_tek.set_clock(1e9)\n",
    "awg_tek.set_nop(ex_clock/rep_rate-500) # репрейт нужно задавать по=хорошему только на управляющей_t\n",
    "awg_tek.check_cached = True\n",
    "\n",
    "for channel in range(1,5):\n",
    "    awg_tek.set_amplitude(1.0, channel=channel)\n",
    "    awg_tek.set_offset(0.0,channel=channel)\n",
    "    awg_tek.set_output(1, channel=channel)\n",
    "    awg_tek.set_waveform([0]*global_num_points, channel=channel)\n",
    "awg_tek.run()\n",
    "\n",
    "awg_tek.set_digital([1]*90+[0]*(50000-300), channel=1)\n",
    "awg_tek.set_digital([1]*90+[0]*(50000-300), channel=2)\n",
    "for other_channels in [3,4,5,6,7,8]:\n",
    "    awg_tek.set_digital([1]*1000+[0]*(50000-1210), channel=other_channels)\n",
    "\n",
    "awg_tek._visainstrument.write('SOUR1:DEL:ADJ 398 NS')\n",
    "awg_tek._visainstrument.write('SOUR2:DEL:ADJ 398 NS')\n",
    "awg_tek._visainstrument.write('SOUR3:DEL:ADJ 398 NS')\n",
    "awg_tek._visainstrument.write('SOUR4:DEL:ADJ 398 NS')\n",
    "\n",
    "awg_channels =dict()\n",
    "ro_trg = awg_digital.awg_digital(awg_tek, 1)\n",
    "ro_trg.mode = 'set_delay' #M3202A\n",
    "ro_trg.delay_setter = lambda x: adc.set_trigger_delay(int(x*adc.get_clock()/iq_ex.get_clock()-readout_trigger_delay)) #M3202A\n",
    "#ro_trg.mode = 'waveform' #AWG5014C\n",
    "awg_channels['ro_trg'] = ro_trg"
   ]
  },
  {
   "cell_type": "markdown",
   "metadata": {},
   "source": [
    "## Импульсный режим измерений"
   ]
  },
  {
   "cell_type": "code",
   "execution_count": 572,
   "metadata": {
    "scrolled": true
   },
   "outputs": [
    {
     "name": "stdout",
     "output_type": "stream",
     "text": [
      "Readout channel\n",
      "c:\\data/calibrations/iq-dc/ lo_freq-7.6e+09-mixer-default\n",
      "c:\\data/calibrations/iq-rf/ cname-default-frequency-7.41e+09-if--1.9e+08-sideband_id-     0\n"
     ]
    }
   ],
   "source": [
    "### Калибровка миксеров\n",
    "#ro_if = 75e6\n",
    "\n",
    "lo_freq = 5.2e9#5.7 e9\n",
    "#lo_freq = 2.65e9#5.7 e9\n",
    "lo_ro_freq = 7.6e9\n",
    "_qubit_id='1'\n",
    "  \n",
    "    \n",
    "#imp.reload(awg_iq_multi)\n",
    "# промежуточные частоты для гетеродинной схемы new:\n",
    "\n",
    "lo1.set_frequency(lo_freq)\n",
    "lo_ro.set_frequency(lo_ro_freq)\n",
    "#iq_ex1 = awg_iq_multi.awg_iq_multi(awg2, awg2, 0, 1, lo_ex) #M3202A\n",
    "#iq_ex2 = awg_iq_multi.awg_iq_multi(awg2, awg2, 2, 3, lo_ex) #M3202A\n",
    "#iq_ex3 = awg_iq_multi.awg_iq_multi(awg1, awg1, 2, 3, lo_ex) #M3202A\n",
    "iq_ro = awg_iq_multi.awg_iq_multi(awg1, awg1, 0, 1, lo_ro) #M3202A\n",
    "#iq_ex1.name='ex1'\n",
    "#iq_ex2.name='ex2'\n",
    "#iq_ex3.name='ex3'\n",
    "\n",
    "#iq_ex1.calibration_switch_setter = lambda: rf_switch.do_set_switch(1, channel=1) if not rf_switch.do_get_switch(channel=1)==1 else None\n",
    "#iq_ex2.calibration_switch_setter = lambda: rf_switch.do_set_switch(2, channel=1) if not rf_switch.do_get_switch(channel=1)==2 else None\n",
    "#iq_ex3.calibration_switch_setter = lambda: rf_switch.do_set_switch(3, channel=1) if not rf_switch.do_get_switch(channel=1)==3 else None\n",
    "iq_ro.calibration_switch_setter = lambda: rf_switch.do_set_switch(4, channel=1) if not rf_switch.do_get_switch(channel=1)==4 else None\n",
    "iq_ex = awg_iq_multi.awg_iq_multi(awg2, awg2, 2, 3, lo_ex) #M3202A\n",
    "iq_ex.calibration_switch_setter = lambda: print(rf_switch.do_set_switch(2, channel=1) if not rf_switch.do_get_switch(channel=1)==2 else None)\n",
    "#iq_ro = awg_iq_multi.awg_iq_multi(awg_tek, awg_tek, 4, 3, lo_ro) #AWG5014C\n",
    "readout_channels = {}\n",
    "\n",
    "for tr,freq in qubits[_qubit_id]['q']['F'].items():\n",
    "    iq_ro.carriers['iq_ro_q{}'.format(_qubit_id)] = awg_iq_multi.carrier(iq_ro)\n",
    "    #iq_ro.carriers['iq_ro_q{}'.format(_qubit_id)].set_frequency(qubits[_qubit_id]['r']['Fr'])\n",
    "    iq_ro.carriers['iq_ro_q{}'.format(_qubit_id)].set_frequency(qubits[_qubit_id]['r']['Fr'])\n",
    "    iq_ex.carriers['iq_ex_q{}'.format(_qubit_id)] = awg_iq_multi.carrier(iq_ex)\n",
    "    #iq_ex.carriers['iq_ex_q{}'.format(_qubit_id)].set_frequency(qubits[_qubit_id]['q']['F']['F01_max'])\n",
    "    iq_ex.carriers['iq_ex_q{}'.format(_qubit_id)].set_frequency(qubits[_qubit_id]['q']['F']['F01_mid'])\n",
    "    awg_channels['iq_ro_q{}'.format(_qubit_id)] = iq_ro.carriers['iq_ro_q{}'.format(_qubit_id)]\n",
    "    awg_channels['iq_ex_q{}'.format(_qubit_id)] = iq_ex.carriers['iq_ex_q{}'.format(_qubit_id)]\n",
    "    readout_channels['iq_ro_q{}'.format(_qubit_id)] = awg_channels['iq_ro_q{}'.format(_qubit_id)]\n",
    " \n",
    "\n",
    "\n",
    "\n",
    "    #    for dc_coil_id in [1,2,3]:\n",
    "    #    awg_channels['dc_coil{}'.format(dc_coil_id)] = awg_channel.awg_channel(awg_tek, dc_coil_id)\n",
    "            \n",
    "pg = pulses.pulses(awg_channels)\n",
    "#print(ex_if*1e-6 ,lo_freq)\n",
    "\n",
    "#print(\"Excitation channel\", end='\\n')\n",
    "#iq_ex1.do_calibration(sa)\n",
    "#iq_ex2.do_calibration(sa)\n",
    "#iq_ex3.do_calibration(sa)\n",
    "print(\"Readout channel\", end='\\n')\n",
    "iq_ro.do_calibration(sa)"
   ]
  },
  {
   "cell_type": "code",
   "execution_count": 573,
   "metadata": {
    "scrolled": true
   },
   "outputs": [
    {
     "name": "stdout",
     "output_type": "stream",
     "text": [
      "c:\\data/calibrations/iq-dc/ lo_freq-5.2e+09-mixer-default\n",
      "c:\\data/calibrations/iq-rf/ cname-default-frequency-5.368e+09-if-1.68e+08-sideband_id-     0\n"
     ]
    }
   ],
   "source": [
    "iq_ex.do_calibration(sa)"
   ]
  },
  {
   "cell_type": "markdown",
   "metadata": {},
   "source": [
    "## задержка считывания"
   ]
  },
  {
   "cell_type": "code",
   "execution_count": 574,
   "metadata": {},
   "outputs": [
    {
     "name": "stdout",
     "output_type": "stream",
     "text": [
      "-5.184e-07 -518.4\n",
      "-6.4e-09 -6.4\n"
     ]
    },
    {
     "data": {
      "text/plain": [
       "{'iq_ro_q1': {'iq_calibration': array([-0.04478039-0.01218431j,  0.0307569 -0.15542356j]),\n",
       "  'coherent_background': array([-0.44+0.18j, -0.4 +0.12j,  0.04+0.08j, ..., -0.32+0.16j,\n",
       "         -0.3 +0.08j, -0.68+0.04j]),\n",
       "  'feature': array([-0.01402349-0.16760787j,  0.10883224-0.03514168j,\n",
       "          0.13974055+0.12701412j, ...,  0.14332983+0.1056059j ,\n",
       "          0.07211771+0.18384173j, -0.06002339+0.10675804j])}}"
      ]
     },
     "execution_count": 574,
     "metadata": {},
     "output_type": "execute_result"
    }
   ],
   "source": [
    "trigger_readout_seq = [pg.p('ro_trg', 10e-9, pg.rect, 1)]\n",
    "     \n",
    "adc.set_nums(50)\n",
    "adc.set_nop(32768)\n",
    "#adc.set_posttrigger(adc.get_nop()-4096)\n",
    "if hasattr(adc, 'set_posttrigger'):\n",
    "    adc.set_posttrigger(adc.get_nop()-32)\n",
    "modem = modem_readout.modem_readout(pg, adc, trigger_readout_seq, axis_mean=0)\n",
    "modem.readout_channels = readout_channels\n",
    "#ro_trg.delay_setter = lambda x: adc.set_trigger_delay(int(x*adc.get_clock()/iq_ex.get_clock()-0)) # M3201A & M3202A\n",
    "ro_trg.delay = 0#Spectrum+AWG5014C\n",
    "delay_calibration = modem.calibrate_delay()\n",
    "readout_trigger_delay = delay_calibration[awg_channels['iq_ro_q1']]\n",
    "#readout_trigger_delay_cycles = readout_trigger_delay*adc.get_clock() M3201A\n",
    "readout_trigger_delay_cycles = readout_trigger_delay*ro_trg.get_clock()\n",
    "print (readout_trigger_delay, readout_trigger_delay_cycles)\n",
    "ro_trg.delay_setter = lambda x: adc.set_trigger_delay(int(x*adc.get_clock()/iq_ex.get_clock())-readout_trigger_delay*adc.get_clock()) #M3201A\n",
    "ro_trg.delay = int(-readout_trigger_delay_cycles)#Spectrum+AWG5014C\n",
    "readout_trigger_delay_test = modem.calibrate_delay()[awg_channels['iq_ro_q1']]\n",
    "#readout_trigger_delay_cycles_test = readout_trigger_delay_test*adc.get_clock() M3201A\n",
    "readout_trigger_delay_cycles_test = readout_trigger_delay_test*ro_trg.get_clock()\n",
    "print (readout_trigger_delay_test, readout_trigger_delay_cycles_test)\n",
    "\n",
    "modem.calibrate_dc(amplitude=0.05)"
   ]
  },
  {
   "cell_type": "markdown",
   "metadata": {},
   "source": [
    "## усреднённое считывание"
   ]
  },
  {
   "cell_type": "code",
   "execution_count": 575,
   "metadata": {},
   "outputs": [],
   "source": [
    "modem.filters = modem.calibrated_filters\n",
    "adc_reducer = data_reduce.data_reduce(modem)\n",
    "adc_reducer.filters = {'S21_r{}'.format(_qubit_id): \n",
    "            data_reduce.mean_reducer(modem, 'iq_ro_q{}'.format(_qubit_id), axis=0) for _qubit_id in qubits.keys()}\n",
    "adc_reducer.extra_opts['scatter'] = True\n",
    "adc_reducer.extra_opts['realimag'] = True"
   ]
  },
  {
   "cell_type": "code",
   "execution_count": 576,
   "metadata": {},
   "outputs": [],
   "source": [
    "adc_reducers = {_qubit_id:data_reduce.data_reduce(modem) for  _qubit_id in qubits.keys()}\n",
    "for _qubit_id in ['1']:\n",
    "    adc_reducers[_qubit_id].filters = {'S21_r{}'.format(_qubit_id):data_reduce.mean_reducer(\n",
    "        modem, 'iq_ro_q{}'.format(_qubit_id), axis=0)}\n",
    "    adc_reducers[_qubit_id].extra_opts['scatter'] = True\n",
    "    adc_reducers[_qubit_id].extra_opts['realimag'] = True\n",
    "        \n",
    "adc_reducer.filters = {'S21_r{}'.format(_qubit_id): \n",
    "            data_reduce.mean_reducer(modem, 'iq_ro_q{}'.format(_qubit_id), axis=0) for _qubit_id in ['1']}\n",
    "adc_reducer.extra_opts['scatter'] = True\n",
    "adc_reducer.extra_opts['realimag'] = True"
   ]
  },
  {
   "cell_type": "markdown",
   "metadata": {},
   "source": [
    "## длительность считывания"
   ]
  },
  {
   "cell_type": "code",
   "execution_count": 605,
   "metadata": {},
   "outputs": [],
   "source": [
    "def set_adc_nop(ro_adc_length):\n",
    "    adc.stop() # Spectrum\n",
    "    signal_size = int(np.ceil(4./3.*(ro_adc_length)*adc.get_clock()))\n",
    "    nop = int( 2**np.ceil(np.log2(signal_size)) )\n",
    "    #print (nop)\n",
    "    adc.set_nop(nop)\n",
    "    adc.set_post_trigger(adc.get_nop()-64)\n",
    "    \n",
    "# \"Измеритель средних прошедших импульсов\"\n",
    "# Просто усредняет всё по номеру сэмпла.\n",
    "    \n",
    "    \n",
    "ro_adc_length = 0.07e-6        # Вот такой длины считываем (опухоль Фёдорова!!)\n",
    "#ro_amplitude =0.16\n",
    "#ro_dac_length = 0.08e-6\n",
    "#ro_adc_length = 0.07e-6\n",
    "ro_dac_length = 0.05e-6\n",
    "#adc.set_nums(1000)\n",
    "#adc.set_software_nums_multi(1)\n",
    "adc.set_nums(100)\n",
    "set_adc_nop(ro_adc_length)\n",
    "adc.set_nums(100000)"
   ]
  },
  {
   "cell_type": "markdown",
   "metadata": {},
   "source": [
    "## измерение среднего прошедшего импульса"
   ]
  },
  {
   "cell_type": "code",
   "execution_count": 606,
   "metadata": {},
   "outputs": [],
   "source": [
    "mean_sample = data_reduce.data_reduce(adc)\n",
    "mean_sample.filters['Mean Voltage (AC)'] = data_reduce.mean_reducer_noavg(adc, 'Voltage', 0)\n",
    "\n",
    "#adc_reducer_old = data_reduce.data_reduce(adc)\n",
    "#adc_reducer_old.filters['Std Voltage (AC)'] = data_reduce.mean_reducer_noavg(adc, 'Voltage std', 0)\n",
    "mean_sample.filters['S21+'] = data_reduce.mean_reducer_freq(adc, 'Voltage', 0, iq_ro.carriers['iq_ro_q1'].get_if())\n",
    "mean_sample.filters['S21-'] = data_reduce.mean_reducer_freq(adc, 'Voltage', 0, -iq_ro.carriers['iq_ro_q1'].get_if())\n",
    "#adc_downsampler = data_reduce.data_reduce(adc)\n",
    "#adc_downsampler.filters['Voltage'] = data_reduce.downsample_reducer(adc, 'Voltage', 0, iq_ro.get_if(), 4)\n",
    "# # Этот измеритель мы как правило используем когда точек не слишком много и все результаты его жизнедеятельности как правило \n",
    "# # выглядят как ломаные. Чтобы было красиво, давайте лучше сделаем точки (а кривые потом получим фитованые)\n",
    "mean_sample.extra_opts['scatter'] = True\n",
    "\n",
    "#awg.check_cached = True"
   ]
  },
  {
   "cell_type": "markdown",
   "metadata": {},
   "source": [
    "## Прохождение считывающих импульсов разной амплитуды"
   ]
  },
  {
   "cell_type": "code",
   "execution_count": 593,
   "metadata": {},
   "outputs": [
    {
     "data": {
      "application/vnd.jupyter.widget-view+json": {
       "model_id": "0b8c1782521f4ad4906a5e7d723bff5e",
       "version_major": 2,
       "version_minor": 0
      },
      "text/plain": [
       "HTML(value='')"
      ]
     },
     "metadata": {},
     "output_type": "display_data"
    },
    {
     "name": "stdout",
     "output_type": "stream",
     "text": [
      "Started at:  Dec 20 2018 06:02:52\n"
     ]
    },
    {
     "name": "stderr",
     "output_type": "stream",
     "text": [
      "Exception in thread Thread-196:\n",
      "Traceback (most recent call last):\n",
      "  File \"C:\\ProgramData\\Anaconda3\\lib\\threading.py\", line 916, in _bootstrap_inner\n",
      "    self.run()\n",
      "  File \"C:\\ProgramData\\Anaconda3\\lib\\threading.py\", line 864, in run\n",
      "    self._target(*self._args, **self._kwargs)\n",
      "  File \"C:\\qtlab_replacement\\qsweepy\\sweep.py\", line 282, in main_sweep_loop\n",
      "    set_single_measurement_result(mpoint, indeces)\n",
      "  File \"C:\\qtlab_replacement\\qsweepy\\sweep.py\", line 226, in set_single_measurement_result\n",
      "    ascii_file.write(data_to_str(fmt(mpoint_m_flat))+'\\n')\n",
      "ValueError: I/O operation on closed file.\n",
      "\n"
     ]
    },
    {
     "ename": "KeyboardInterrupt",
     "evalue": "",
     "output_type": "error",
     "traceback": [
      "\u001b[1;31m---------------------------------------------------------------------------\u001b[0m",
      "\u001b[1;31mKeyboardInterrupt\u001b[0m                         Traceback (most recent call last)",
      "\u001b[1;32m<ipython-input-593-4a7a7f4c1535>\u001b[0m in \u001b[0;36m<module>\u001b[1;34m()\u001b[0m\n\u001b[0;32m     24\u001b[0m         \u001b[0mpg\u001b[0m\u001b[1;33m.\u001b[0m\u001b[0mset_seq\u001b[0m\u001b[1;33m(\u001b[0m\u001b[0mtrigger_readout_seq\u001b[0m\u001b[1;33m+\u001b[0m\u001b[1;33m[\u001b[0m\u001b[0mpg\u001b[0m\u001b[1;33m.\u001b[0m\u001b[0mp\u001b[0m\u001b[1;33m(\u001b[0m\u001b[1;34m'iq_ro_q{}'\u001b[0m\u001b[1;33m.\u001b[0m\u001b[0mformat\u001b[0m\u001b[1;33m(\u001b[0m\u001b[0m_qubit_id\u001b[0m\u001b[1;33m)\u001b[0m\u001b[1;33m,\u001b[0m \u001b[0mro_dac_length\u001b[0m\u001b[1;33m,\u001b[0m \u001b[0mpg\u001b[0m\u001b[1;33m.\u001b[0m\u001b[0mrect\u001b[0m\u001b[1;33m,\u001b[0m \u001b[0mx\u001b[0m\u001b[1;33m)\u001b[0m\u001b[1;33m]\u001b[0m\u001b[1;33m)\u001b[0m\u001b[1;33m\u001b[0m\u001b[0m\n\u001b[0;32m     25\u001b[0m         \u001b[1;31m#awg_tek.run()\u001b[0m\u001b[1;33m\u001b[0m\u001b[1;33m\u001b[0m\u001b[0m\n\u001b[1;32m---> 26\u001b[1;33m     \u001b[0mmeasurement\u001b[0m \u001b[1;33m=\u001b[0m \u001b[0msweep\u001b[0m\u001b[1;33m.\u001b[0m\u001b[0msweep\u001b[0m\u001b[1;33m(\u001b[0m\u001b[0mmean_sample\u001b[0m\u001b[1;33m,\u001b[0m \u001b[1;33m(\u001b[0m\u001b[0mnp\u001b[0m\u001b[1;33m.\u001b[0m\u001b[0mlinspace\u001b[0m\u001b[1;33m(\u001b[0m\u001b[1;36m0\u001b[0m\u001b[1;33m,\u001b[0m \u001b[1;36m0.5\u001b[0m\u001b[1;33m,\u001b[0m \u001b[1;36m21\u001b[0m\u001b[1;33m)\u001b[0m\u001b[1;33m,\u001b[0m \u001b[0mset_pulse_amplitude\u001b[0m\u001b[1;33m,\u001b[0m \u001b[1;34m'Readout amplitude'\u001b[0m\u001b[1;33m)\u001b[0m\u001b[1;33m,\u001b[0m \u001b[0mfilename\u001b[0m\u001b[1;33m=\u001b[0m\u001b[1;34m'Readout pulse passthrough #{}'\u001b[0m\u001b[1;33m.\u001b[0m\u001b[0mformat\u001b[0m\u001b[1;33m(\u001b[0m\u001b[0m_qubit_id\u001b[0m\u001b[1;33m)\u001b[0m\u001b[1;33m)\u001b[0m\u001b[1;33m\u001b[0m\u001b[0m\n\u001b[0m\u001b[0;32m     27\u001b[0m     \u001b[1;32mdel\u001b[0m \u001b[0mmean_sample\u001b[0m\u001b[1;33m.\u001b[0m\u001b[0mfilters\u001b[0m\u001b[1;33m[\u001b[0m\u001b[1;34m'Std Voltage (AC)'\u001b[0m\u001b[1;33m]\u001b[0m\u001b[1;33m\u001b[0m\u001b[0m\n",
      "\u001b[1;32mC:\\qtlab_replacement\\qsweepy\\sweep.py\u001b[0m in \u001b[0;36msweep\u001b[1;34m(measurer, filename, root_dir, plot, plot_separate_thread, header, output, save, time_war_label, shuffle, bot, use_deferred, loc, *params)\u001b[0m\n\u001b[0;32m    332\u001b[0m                         \u001b[0macq_thread\u001b[0m \u001b[1;33m=\u001b[0m \u001b[0mthreading\u001b[0m\u001b[1;33m.\u001b[0m\u001b[0mThread\u001b[0m\u001b[1;33m(\u001b[0m\u001b[0mtarget\u001b[0m\u001b[1;33m=\u001b[0m\u001b[0mmain_sweep_loop\u001b[0m\u001b[1;33m)\u001b[0m\u001b[1;33m\u001b[0m\u001b[0m\n\u001b[0;32m    333\u001b[0m                         \u001b[0macq_thread\u001b[0m\u001b[1;33m.\u001b[0m\u001b[0mstart\u001b[0m\u001b[1;33m(\u001b[0m\u001b[1;33m)\u001b[0m\u001b[1;33m\u001b[0m\u001b[0m\n\u001b[1;32m--> 334\u001b[1;33m                         \u001b[0mplot_thread\u001b[0m\u001b[1;33m(\u001b[0m\u001b[1;33m)\u001b[0m\u001b[1;33m\u001b[0m\u001b[0m\n\u001b[0m\u001b[0;32m    335\u001b[0m \u001b[1;33m\u001b[0m\u001b[0m\n\u001b[0;32m    336\u001b[0m                 \u001b[1;32mif\u001b[0m \u001b[1;33m(\u001b[0m\u001b[0mtime_war_label\u001b[0m\u001b[1;33m)\u001b[0m\u001b[1;33m:\u001b[0m\u001b[1;33m\u001b[0m\u001b[0m\n",
      "\u001b[1;32mC:\\qtlab_replacement\\qsweepy\\sweep.py\u001b[0m in \u001b[0;36mplot_thread\u001b[1;34m()\u001b[0m\n\u001b[0;32m    325\u001b[0m                                                 \u001b[1;32mreturn\u001b[0m\u001b[1;33m\u001b[0m\u001b[0m\n\u001b[0;32m    326\u001b[0m                                         \u001b[1;31m#print(plot_thread_point_id, done_sweeps)\u001b[0m\u001b[1;33m\u001b[0m\u001b[1;33m\u001b[0m\u001b[0m\n\u001b[1;32m--> 327\u001b[1;33m                                         \u001b[0mplt\u001b[0m\u001b[1;33m.\u001b[0m\u001b[0mgcf\u001b[0m\u001b[1;33m(\u001b[0m\u001b[1;33m)\u001b[0m\u001b[1;33m.\u001b[0m\u001b[0mcanvas\u001b[0m\u001b[1;33m.\u001b[0m\u001b[0mstart_event_loop\u001b[0m\u001b[1;33m(\u001b[0m\u001b[1;36m2.0\u001b[0m\u001b[1;33m)\u001b[0m\u001b[1;33m\u001b[0m\u001b[0m\n\u001b[0m\u001b[0;32m    328\u001b[0m                                 \u001b[1;31m#for i in range(100):\u001b[0m\u001b[1;33m\u001b[0m\u001b[1;33m\u001b[0m\u001b[0m\n\u001b[0;32m    329\u001b[0m                                 \u001b[1;31m#       plt.gcf().canvas.start_event_loop(0.02)\u001b[0m\u001b[1;33m\u001b[0m\u001b[1;33m\u001b[0m\u001b[0m\n",
      "\u001b[1;32mC:\\ProgramData\\Anaconda3\\lib\\site-packages\\matplotlib\\backends\\backend_qt5.py\u001b[0m in \u001b[0;36mstart_event_loop\u001b[1;34m(self, timeout)\u001b[0m\n\u001b[0;32m    481\u001b[0m         \u001b[1;32mif\u001b[0m \u001b[0mtimeout\u001b[0m\u001b[1;33m:\u001b[0m\u001b[1;33m\u001b[0m\u001b[0m\n\u001b[0;32m    482\u001b[0m             \u001b[0mtimer\u001b[0m \u001b[1;33m=\u001b[0m \u001b[0mQtCore\u001b[0m\u001b[1;33m.\u001b[0m\u001b[0mQTimer\u001b[0m\u001b[1;33m.\u001b[0m\u001b[0msingleShot\u001b[0m\u001b[1;33m(\u001b[0m\u001b[0mtimeout\u001b[0m \u001b[1;33m*\u001b[0m \u001b[1;36m1000\u001b[0m\u001b[1;33m,\u001b[0m \u001b[0mevent_loop\u001b[0m\u001b[1;33m.\u001b[0m\u001b[0mquit\u001b[0m\u001b[1;33m)\u001b[0m\u001b[1;33m\u001b[0m\u001b[0m\n\u001b[1;32m--> 483\u001b[1;33m         \u001b[0mevent_loop\u001b[0m\u001b[1;33m.\u001b[0m\u001b[0mexec_\u001b[0m\u001b[1;33m(\u001b[0m\u001b[1;33m)\u001b[0m\u001b[1;33m\u001b[0m\u001b[0m\n\u001b[0m\u001b[0;32m    484\u001b[0m \u001b[1;33m\u001b[0m\u001b[0m\n\u001b[0;32m    485\u001b[0m     \u001b[1;32mdef\u001b[0m \u001b[0mstop_event_loop\u001b[0m\u001b[1;33m(\u001b[0m\u001b[0mself\u001b[0m\u001b[1;33m,\u001b[0m \u001b[0mevent\u001b[0m\u001b[1;33m=\u001b[0m\u001b[1;32mNone\u001b[0m\u001b[1;33m)\u001b[0m\u001b[1;33m:\u001b[0m\u001b[1;33m\u001b[0m\u001b[0m\n",
      "\u001b[1;31mKeyboardInterrupt\u001b[0m: "
     ]
    }
   ],
   "source": [
    "#%%mprun -f sweep.sweep\n",
    "imp.reload(sweep)\n",
    "imp.reload(plotting)\n",
    "for _qubit_id in ['1']:\n",
    "    #for coil_channel_id, channel_voltage in qubits[_qubit_id]['q']['P']['Fmin_coil_currents'].items():\n",
    "        #dac.set_voltage(channel_voltage, channel=nndac_channel_id)\n",
    "    #    coil_device.set_offset(channel_voltage, channel=coil_channel_id)\n",
    "    mean_sample = data_reduce.data_reduce(adc)\n",
    "    #print (dir(mean_sample))\n",
    "    #del mean_sample.measure_deferred_result\n",
    "    mean_sample.filters['Mean Voltage (AC)'] = data_reduce.mean_reducer_noavg(adc, 'Voltage', 0)\n",
    "\n",
    "    mean_sample.filters['S21+'] = data_reduce.mean_reducer_freq(adc, 'Voltage', 0, iq_ro.carriers['iq_ro_q{}'.format(_qubit_id)].get_if())\n",
    "    mean_sample.filters['S21-'] = data_reduce.mean_reducer_freq(adc, 'Voltage', 0, -iq_ro.carriers['iq_ro_q{}'.format(_qubit_id)].get_if())\n",
    "    # # Этот измеритель мы как правило используем когда точек не слишком много и все результаты его жизнедеятельности как правило \n",
    "    # # выглядят как ломаные. Чтобы было красиво, давайте лучше сделаем точки (а кривые потом получим фитованые)\n",
    "    mean_sample.extra_opts['scatter'] = True\n",
    "\n",
    "    #awg.check_cached = True\n",
    "\n",
    "    mean_sample.filters['Std Voltage (AC)'] = data_reduce.std_reducer_noavg(adc, 'Voltage', 0, 1)\n",
    "    def set_pulse_amplitude(x):\n",
    "        #awg_tek.set_nop(awg_tek.get_clock()/rep_rate)\n",
    "        pg.set_seq(trigger_readout_seq+[pg.p('iq_ro_q{}'.format(_qubit_id), ro_dac_length, pg.rect, x)])\n",
    "        #awg_tek.run()\n",
    "    measurement = sweep.sweep(mean_sample, (np.linspace(0, 0.5, 21), set_pulse_amplitude, 'Readout amplitude'), filename='Readout pulse passthrough #{}'.format(_qubit_id))\n",
    "    del mean_sample.filters['Std Voltage (AC)']"
   ]
  },
  {
   "cell_type": "code",
   "execution_count": null,
   "metadata": {},
   "outputs": [],
   "source": [
    "zero_response = measurement['Mean Voltage (AC)'][2][0,:]\n",
    "drive_amplitudes = measurement['Mean Voltage (AC)'][1][0][1:]\n",
    "signal = measurement['Mean Voltage (AC)'][2][1:,:]\n",
    "noise = measurement['Std Voltage (AC)'][2][1:,:]\n",
    "error = noise/np.sqrt(adc.get_nums())\n",
    "signal_overlap = np.sum(np.conj(signal[0,:])*signal[1:,:], axis=1)/drive_amplitudes[1:]\n",
    "signal_overlap_estimate = np.real(signal_overlap[0])\n",
    "signal_overlap_error = 0.5*np.sqrt(np.sum((np.abs(signal[1:,:])*error[0,:])**2, axis=1)+np.sum((np.abs(signal[0,:])*error[1:,:])**2,axis=1))/drive_amplitudes[1:]\n",
    "#signal_overlap_estimate = (np.sum(np.abs(signal[0,:])**2) - np.sum(error[0,:]*np.abs(signal[0,:]))-np.sum(np.abs(error[0,:])**2))/drive_amplitudes[0]\n",
    "#plt.figure()\n",
    "#plt.plot(np.real(signal_overlap))\n",
    "#plt.plot(np.sum(noise**2, axis=1)/adc.get_nums())\n",
    "#plt.plot(signal_overlap_error)\n",
    "compression = 10*np.log10(np.real(signal_overlap)/np.real(signal_overlap_estimate))\n",
    "db_compression_point = np.argmax(10*np.log10(np.real(signal_overlap)/np.real(signal_overlap_estimate))<-1+10*np.log10(1-signal_overlap_error/signal_overlap_estimate))\n",
    "#10*np.log10(np.real(signal_overlap)/np.real(signal_overlap_estimate)),-1+10*np.log10(1-signal_overlap_error/signal_overlap_estimate)\n",
    "#10*np.log10(np.real(signal_overlap)/np.real(signal_overlap_estimate))<-1+10*np.log10(1-signal_overlap_error/signal_overlap_estimate)\n",
    "if np.any(db_compression_point):\n",
    "    ro_amplitude = drive_amplitudes[db_compression_point+1]\n",
    "else:\n",
    "    ro_amplitude = drive_amplitudes[-1]\n",
    "print(\"Readout amplitude:\",ro_amplitude)    "
   ]
  },
  {
   "cell_type": "code",
   "execution_count": null,
   "metadata": {},
   "outputs": [],
   "source": [
    "plt.figure('Компрессия считывающего импульса')\n",
    "plt.plot(drive_amplitudes[1:], compression)\n",
    "plt.xlabel('Амплитуда считывания')\n",
    "plt.ylabel('Компрессия, дБ')"
   ]
  },
  {
   "cell_type": "code",
   "execution_count": 422,
   "metadata": {},
   "outputs": [],
   "source": [
    "ro_parameters = {\"adc_len\":ro_adc_length,'dac_len': ro_dac_length,'amp': ro_amplitude,'adc nums':adc.nums,\n",
    "                'trg_length':trg_length}\n",
    "qjson.dump(\"setups\",\"readout\",ro_parameters)"
   ]
  },
  {
   "cell_type": "code",
   "execution_count": 624,
   "metadata": {},
   "outputs": [],
   "source": [
    "ro_amplitude = 0.25\n",
    "ro_sequence = trigger_readout_seq+[pg.p('iq_ro_q1', ro_dac_length, pg.rect, ro_amplitude)]"
   ]
  },
  {
   "cell_type": "markdown",
   "metadata": {},
   "source": [
    "## Раби+Рамзи"
   ]
  },
  {
   "cell_type": "code",
   "execution_count": 608,
   "metadata": {},
   "outputs": [],
   "source": [
    "import qsweepy.qjson as pqjson\n",
    "import qsweepy.quantum_two_level_dynamics as dyn"
   ]
  },
  {
   "cell_type": "code",
   "execution_count": 609,
   "metadata": {},
   "outputs": [
    {
     "data": {
      "text/plain": [
       "<module 'qsweepy.diff_readout' from 'C:\\\\qtlab_replacement\\\\qsweepy\\\\diff_readout.py'>"
      ]
     },
     "execution_count": 609,
     "metadata": {},
     "output_type": "execute_result"
    }
   ],
   "source": [
    "imp.reload(dyn)\n",
    "imp.reload(qjson)\n",
    "imp.reload(data_reduce)\n",
    "imp.reload(plotting)\n",
    "imp.reload(fitting)\n",
    "imp.reload(sweep)\n",
    "imp.reload(diff_readout)"
   ]
  },
  {
   "cell_type": "code",
   "execution_count": 630,
   "metadata": {},
   "outputs": [],
   "source": [
    "#ex_channels = ['iq_ex_00-1-01', 'iq_ex_00-1-10', 'iq_ex_01-1-02']#, 'iq_ex_00-2-02']\n",
    "ex_channels = ['iq_ex_q1', \n",
    "              ]\n",
    "\n",
    "ex_amplitudes = {'iq_ex_q1':1.0, \n",
    "                }\n",
    "rabi_lengths = {'iq_ex_q1':np.arange(0., 20e-9, 1.0e-9),\n",
    "                }\n",
    "delaysT2_coherence = {'iq_ex_q1':np.arange(0., 20e-9, 10e-9),\n",
    "                     }\n",
    "ro_par = {'qubit_id':qubit_id,'ex_channels':ex_channels}\n",
    "fitter = lambda x,y: fitting.fit1d(x,y,'S21_r1')\n",
    "ro_par['fitter']=fitter\n",
    "\n",
    "#rabi_lengths = np.arange(0., 2000e-9, 5e-9)\n",
    "delaysT2 = np.arange(0, 20e-9, 1e-9)\n",
    "target_freq_offset = -100e6\n",
    "#delaysT2_coherence = np.arange(0, 5000e-9, 10e-9)\n",
    "target_freq_offset_coherence = -10e6\n",
    "delaysT1 = np.arange(0, 5e-6,0.2e-6)"
   ]
  },
  {
   "cell_type": "code",
   "execution_count": 598,
   "metadata": {},
   "outputs": [
    {
     "data": {
      "text/plain": [
       "<module 'qsweepy.plotting' from 'C:\\\\qtlab_replacement\\\\qsweepy\\\\plotting.py'>"
      ]
     },
     "execution_count": 598,
     "metadata": {},
     "output_type": "execute_result"
    }
   ],
   "source": [
    "imp.reload(plotting)"
   ]
  },
  {
   "cell_type": "code",
   "execution_count": 599,
   "metadata": {},
   "outputs": [],
   "source": [
    "imp.reload(diff_readout)\n",
    "diff_adc_reducer = diff_readout.diff_readout(adc_reducer)"
   ]
  },
  {
   "cell_type": "code",
   "execution_count": 600,
   "metadata": {},
   "outputs": [
    {
     "data": {
      "text/plain": [
       "{'S21_r1': (-0.09917180836767767+0.7470696471205948j)}"
      ]
     },
     "execution_count": 600,
     "metadata": {},
     "output_type": "execute_result"
    }
   ],
   "source": [
    "adc_reducer.measure()"
   ]
  },
  {
   "cell_type": "code",
   "execution_count": 601,
   "metadata": {},
   "outputs": [
    {
     "data": {
      "text/plain": [
       "[<matplotlib.lines.Line2D at 0x1a3018dbac8>]"
      ]
     },
     "execution_count": 601,
     "metadata": {},
     "output_type": "execute_result"
    }
   ],
   "source": [
    "plt.figure()\n",
    "plt.plot(np.real(np.mean(mres['Voltage'], axis=0)))\n",
    "plt.plot(np.imag(np.mean(mres['Voltage'], axis=0)))"
   ]
  },
  {
   "cell_type": "code",
   "execution_count": 631,
   "metadata": {},
   "outputs": [
    {
     "name": "stdout",
     "output_type": "stream",
     "text": [
      "c:\\data/calibrations/setups/ readout\n",
      "c:\\data/calibrations/two-level-rabi-rect/ c-iq_ex_q1-f-5.368e+09-amp-r1-i0\n"
     ]
    }
   ],
   "source": [
    "twos = {ex_channel:dyn.quantum_two_level_dynamics(pg,\n",
    "                                           adc_reducer,\n",
    "                                           ex_channel=ex_channel,\n",
    "                                           ro_channel='iq_ro_q1',\n",
    "                                           ro_sequence=ro_sequence,\n",
    "                                           ex_amplitude=ex_amplitudes[ex_channel],\n",
    "                                           fitter=fitter, \n",
    "                                           shuffle=False,\n",
    "                                           qubit_id=qubit_id,\n",
    "                                           readout_measurement_name='S21_r1') for ex_channel in ex_channels}"
   ]
  },
  {
   "cell_type": "code",
   "execution_count": 632,
   "metadata": {},
   "outputs": [],
   "source": [
    "#dac.set_voltage(1.775,channel=0)"
   ]
  },
  {
   "cell_type": "code",
   "execution_count": 634,
   "metadata": {
    "scrolled": true
   },
   "outputs": [
    {
     "name": "stdout",
     "output_type": "stream",
     "text": [
      "c:\\data/calibrations/two-level-rabi-rect/ c-iq_ex_q1-f-5.368e+09-amp-r1-i0\n",
      "c:\\data/calibrations/two-level-ramsey/ c-iq_ex_q1-f-5.368e+09-amp-r1-i0\n"
     ]
    },
    {
     "data": {
      "application/vnd.jupyter.widget-view+json": {
       "model_id": "4709661308dc4eafa1476c7a48049ded",
       "version_major": 2,
       "version_minor": 0
      },
      "text/plain": [
       "HTML(value='')"
      ]
     },
     "metadata": {},
     "output_type": "display_data"
    },
    {
     "name": "stdout",
     "output_type": "stream",
     "text": [
      "Started at:  Dec 20 2018 06:27:08\n",
      "Waiting to join deferred threads:\n",
      "Exiting sweep main thread #{} via return 5940\n",
      "\n",
      "Elapsed time: 0 h 2 m 7.65 s\n"
     ]
    }
   ],
   "source": [
    "#%%mprun -f two_diffs[0].Rabi_rect -f two_diffs[0].Ramsey -f two_diffs[0].decay -f two_diffs[0].spin_echo -f sweep.sweep -f diff_adc_reducer.measure\n",
    "two_diffs = twos\n",
    "imp.reload(plotting)\n",
    "iters = 1\n",
    "coil_voltage_range = np.linspace(0.330, 0.370, 11)\n",
    "\n",
    "for _iter in range(iters):\n",
    "    for ex_channel, two_diff in two_diffs.items():\n",
    "        #for coil_voltage in coil_voltage_range:\n",
    "        #dac.set_voltage(coil_voltage, channel=0)\n",
    "        #two_diff.Rabi_rect(rabi_lengths[ex_channel])\n",
    "        two_diff.Ramsey(delaysT2, target_freq_offset)\n",
    "        #two_diff.Ramsey(delaysT2_coherence[ex_channel],target_freq_offset_coherence)\n",
    "        #two_diff.decay(delaysT1, (coil_voltage_range, lambda x: dac.set_voltage(x, channel=0), 'Coil Voltage', 'V'))\n",
    "        #two_diff.decay(delaysT1)\n",
    "        #two_diff.spin_echo(delaysT2_coherence[ex_channel],target_freq_offset_coherence, (coil_voltage_range, lambda x: dac.set_voltage(x, channel=0), 'Coil Voltage', 'V'))\n",
    "        #two_diff.Ramsey(delaysT2, target_freq_offset, (coil_voltage_range, lambda x: dac.set_voltage(x, channel=0), 'Coil Voltage', 'V'))"
   ]
  },
  {
   "cell_type": "code",
   "execution_count": 558,
   "metadata": {},
   "outputs": [
    {
     "data": {
      "text/plain": [
       "{'ro_trg': <qsweepy.awg_digital.awg_digital at 0x1a37260d2b0>,\n",
       " 'iq_ro_q1': <qsweepy.awg_iq_multi.carrier at 0x1a37260d7b8>,\n",
       " 'iq_ex_q1': <qsweepy.awg_iq_multi.carrier at 0x1a37260da58>}"
      ]
     },
     "execution_count": 558,
     "metadata": {},
     "output_type": "execute_result"
    }
   ],
   "source": [
    "awg_channels"
   ]
  },
  {
   "cell_type": "code",
   "execution_count": null,
   "metadata": {},
   "outputs": [],
   "source": []
  }
 ],
 "metadata": {
  "kernelspec": {
   "display_name": "Python 3",
   "language": "python",
   "name": "python3"
  },
  "language_info": {
   "codemirror_mode": {
    "name": "ipython",
    "version": 3
   },
   "file_extension": ".py",
   "mimetype": "text/x-python",
   "name": "python",
   "nbconvert_exporter": "python",
   "pygments_lexer": "ipython3",
   "version": "3.6.5"
  },
  "toc": {
   "base_numbering": 1,
   "nav_menu": {
    "height": "599px",
    "width": "486px"
   },
   "number_sections": true,
   "sideBar": true,
   "skip_h1_title": false,
   "title_cell": "Table of Contents",
   "title_sidebar": "Contents",
   "toc_cell": false,
   "toc_position": {
    "height": "780px",
    "left": "239px",
    "top": "626.133px",
    "width": "315px"
   },
   "toc_section_display": true,
   "toc_window_display": true
  }
 },
 "nbformat": 4,
 "nbformat_minor": 1
}
