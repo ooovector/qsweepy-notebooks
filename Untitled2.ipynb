{
 "cells": [
  {
   "cell_type": "code",
   "execution_count": 108,
   "metadata": {},
   "outputs": [],
   "source": [
    "import qsweepy.save_pkl\n",
    "import pandas as pd\n",
    "import matplotlib.pyplot as plt\n",
    "import qsweepy.fitting as fitting\n",
    "import numpy as np\n",
    "%matplotlib qt5\n",
    "\n",
    "measurement_folders = {'qubit1 Ramsey':\n",
    "               {'paths': [r'D:\\data\\2018-09-22\\21-59-17-Ramsey (target offset -3.00 MHz), excitation channel iq_ex_q1_F01_min',\n",
    "                          r'D:\\data\\2018-09-23\\11-44-17-Ramsey (target offset -3.00 MHz), excitation channel iq_ex_q1_F01_min',\n",
    "                          r'D:\\data\\2018-09-24\\01-33-32-Ramsey (target offset -3.00 MHz), excitation channel iq_ex_q1_F01_min'],\n",
    "                'name': 'Ramsey (target offset -3.00 MHz), excitation channel iq_ex_q1_F01_min', 'q': '1'},\n",
    "                       'qubit1 spin echo':\n",
    "               {'paths': [r'D:\\data\\2018-09-23\\01-37-08-Spin echo (target offset -3.00 MHz), excitation channel iq_ex_q1_F01_min',\n",
    "                          r'D:\\data\\2018-09-23\\15-22-13-Spin echo (target offset -3.00 MHz), excitation channel iq_ex_q1_F01_min',\n",
    "                          r'D:\\data\\2018-09-24\\05-13-17-Spin echo (target offset -3.00 MHz), excitation channel iq_ex_q1_F01_min'],\n",
    "                'name': 'Spin echo (target offset -3.00 MHz), excitation channel iq_ex_q1_F01_min', 'q':'1', 'comment':'spin echo'},\n",
    "                       'qubit1 decay':\n",
    "               {'paths': [r'D:\\data\\2018-09-22\\22-54-15-Decay, excitation channel iq_ex_q1_F01_min',\n",
    "                          r'D:\\data\\2018-09-23\\12-39-08-Decay, excitation channel iq_ex_q1_F01_min',\n",
    "                          r'D:\\data\\2018-09-24\\02-28-52-Decay, excitation channel iq_ex_q1_F01_min'],\n",
    "                'name': 'Decay, excitation channel iq_ex_q1_F01_min', 'q':'1', 'fittype':'exp', 'comment':'decay'},\n",
    "                       'qubit2 Ramsey':\n",
    "               {'paths': [r'D:\\data\\2018-09-23\\02-34-17-Ramsey (target offset -3.00 MHz), excitation channel iq_ex_q2_F01_min',\n",
    "                          r'D:\\data\\2018-09-23\\16-19-24-Ramsey (target offset -3.00 MHz), excitation channel iq_ex_q2_F01_min',\n",
    "                          r'D:\\data\\2018-09-24\\06-11-07-Ramsey (target offset -3.00 MHz), excitation channel iq_ex_q2_F01_min'],\n",
    "                'name': 'Ramsey (target offset -3.00 MHz), excitation channel iq_ex_q2_F01_min', 'q': '2'},\n",
    "                       'qubit2 spin echo':\n",
    "               {'paths': [r'D:\\data\\2018-09-23\\06-11-54-Spin echo (target offset -3.00 MHz), excitation channel iq_ex_q2_F01_min',\n",
    "                          r'D:\\data\\2018-09-23\\19-58-00-Spin echo (target offset -3.00 MHz), excitation channel iq_ex_q2_F01_min',\n",
    "                          r'D:\\data\\2018-09-24\\09-51-39-Spin echo (target offset -3.00 MHz), excitation channel iq_ex_q2_F01_min'],\n",
    "                'name': 'Spin echo (target offset -3.00 MHz), excitation channel iq_ex_q2_F01_min', 'q':'2', 'comment':'spin echo'},\n",
    "                       'qubit2 decay':\n",
    "               {'paths': [r'D:\\data\\2018-09-23\\03-29-07-Decay, excitation channel iq_ex_q2_F01_min',\n",
    "                          r'D:\\data\\2018-09-23\\17-14-15-Decay, excitation channel iq_ex_q2_F01_min',\n",
    "                          r'D:\\data\\2018-09-24\\07-06-32-Decay, excitation channel iq_ex_q2_F01_min'],\n",
    "                'name': 'Decay, excitation channel iq_ex_q2_F01_min', 'q':'2', 'fittype':'exp', 'comment':'decay'},\n",
    "                       'qubit3 Ramsey':\n",
    "               {'paths': [r'D:\\data\\2018-09-23\\07-08-57-Ramsey (target offset -3.00 MHz), excitation channel iq_ex_q3_F01_min',\n",
    "                          r'D:\\data\\2018-09-23\\20-55-37-Ramsey (target offset -3.00 MHz), excitation channel iq_ex_q3_F01_min',\n",
    "                          r'D:\\data\\2018-09-24\\10-50-19-Ramsey (target offset -3.00 MHz), excitation channel iq_ex_q3_F01_min'],\n",
    "                'name': 'Ramsey (target offset -3.00 MHz), excitation channel iq_ex_q3_F01_min', 'q': '3'},\n",
    "                       'qubit3 spin echo':\n",
    "               {'paths': [r'D:\\data\\2018-09-23\\10-46-36-Spin echo (target offset -3.00 MHz), excitation channel iq_ex_q3_F01_min',\n",
    "                          r'D:\\data\\2018-09-24\\00-35-44-Spin echo (target offset -3.00 MHz), excitation channel iq_ex_q3_F01_min'],\n",
    "                'name': 'Spin echo (target offset -3.00 MHz), excitation channel iq_ex_q3_F01_min', 'q':'3', 'comment':'decay'},\n",
    "                       'qubit3 decay':\n",
    "               {'paths': [r'D:\\data\\2018-09-23\\08-03-46-Decay, excitation channel iq_ex_q3_F01_min',\n",
    "                          r'D:\\data\\2018-09-23\\21-50-55-Decay, excitation channel iq_ex_q3_F01_min'],\n",
    "                'name': 'Decay, excitation channel iq_ex_q3_F01_min', 'q':'3', 'fittype':'exp', 'comment':'decay'},}\n",
    "measurement_folders = {'qubit2 Ramsey':\n",
    "               {'paths': [r'D:\\data\\2018-09-24\\14-14-45-Ramsey (target offset -3.00 MHz), excitation channel iq_ex_q2_F01_min',\n",
    "                          r'D:\\data\\2018-09-24\\15-19-59-Ramsey (target offset -3.00 MHz), excitation channel iq_ex_q2_F01_min'],\n",
    "                'name': 'Ramsey (target offset -3.00 MHz), excitation channel iq_ex_q2_F01_min', 'q': '2'}, \n",
    "                       'qubit3 Ramsey':\n",
    "               {'paths': [r'D:\\data\\2018-09-24\\14-47-19-Ramsey (target offset -3.00 MHz), excitation channel iq_ex_q3_F01_min'],\n",
    "                'name': 'Ramsey (target offset -3.00 MHz), excitation channel iq_ex_q3_F01_min', 'q': '3'}}\n",
    "measurement_folders = {'qubit2 Ramsey':\n",
    "               {'paths': [r'D:\\data\\2018-09-24\\18-01-53-Ramsey (target offset -3.00 MHz), excitation channel iq_ex_q2_F01_min'],\n",
    "                'name': 'Ramsey (target offset -3.00 MHz), excitation channel iq_ex_q2_F01_min', 'q': '2'},\n",
    "                       'qubit3 Ramsey':\n",
    "               {'paths': [r'D:\\data\\2018-09-24\\18-35-16-Ramsey (target offset -3.00 MHz), excitation channel iq_ex_q3_F01_min'],\n",
    "                'name': 'Ramsey (target offset -3.00 MHz), excitation channel iq_ex_q3_F01_min', 'q': '3'}}\n",
    "measurement_folders = {'1808_072-2 qubit1 Ramsey':\n",
    "               {'paths': [r'D:\\data\\2018-09-25\\14-17-19-Ramsey (target offset -3.00 MHz), excitation channel iq_ex_q1_F01_min'],\n",
    "                'name': 'Ramsey (target offset -3.00 MHz), excitation channel iq_ex_q1_F01_min', 'q': '1'}}\n",
    "measurement_folders = {'1809_001-2 q2 Ramsey':\n",
    "               {'paths': [#r'D:\\data\\2018-09-25\\16-50-37-Ramsey (target offset -3.00 MHz), excitation channel iq_ex_q2_F01_min',\n",
    "                          r'D:\\data\\2018-09-25\\19-16-57-Ramsey (target offset -3.00 MHz), excitation channel iq_ex_q2_F01_min'],\n",
    "                'name': 'Ramsey (target offset -3.00 MHz), excitation channel iq_ex_q2_F01_min', 'q': '2'},\n",
    "                      '1809_001-2 q1 Ramsey':\n",
    "               {'paths': [r'D:\\data\\2018-09-25\\21-57-33-Ramsey (target offset -3.00 MHz), excitation channel iq_ex_q1_F01_min'],\n",
    "                'name': 'Ramsey (target offset -3.00 MHz), excitation channel iq_ex_q1_F01_min', 'q': '1'}}"
   ]
  },
  {
   "cell_type": "code",
   "execution_count": 114,
   "metadata": {
    "collapsed": true
   },
   "outputs": [],
   "source": [
    "measurement_folders = {\n",
    "    '1809_001-2 reloaded q1 Ramsey':\n",
    "               {'paths': [r'D:\\data\\2018-10-03\\22-25-22-Ramsey (target offset -3.00 MHz), excitation channel iq_ex_q1_F01_min',\n",
    "                          r'D:\\data\\2018-10-04\\00-37-36-Ramsey (target offset -3.00 MHz), excitation channel iq_ex_q1_F01_min',\n",
    "                          r'D:\\data\\2018-10-04\\02-47-10-Ramsey (target offset -3.00 MHz), excitation channel iq_ex_q1_F01_min',\n",
    "                          r'D:\\data\\2018-10-04\\04-56-48-Ramsey (target offset -3.00 MHz), excitation channel iq_ex_q1_F01_min'],\n",
    "                'name': 'Ramsey (target offset -3.00 MHz), excitation channel iq_ex_q1_F01_min', 'q': '1'},\n",
    "    '1809_001-2 reloaded q2 Ramsey':\n",
    "               {'paths': [#r'D:\\data\\2018-09-25\\16-50-37-Ramsey (target offset -3.00 MHz), excitation channel iq_ex_q2_F01_min',\n",
    "                          r'D:\\data\\2018-10-03\\23-09-52-Ramsey (target offset -3.00 MHz), excitation channel iq_ex_q2_F01_min',\n",
    "                          r'D:\\data\\2018-10-04\\01-20-47-Ramsey (target offset -3.00 MHz), excitation channel iq_ex_q2_F01_min',\n",
    "                          r'D:\\data\\2018-10-04\\03-30-23-Ramsey (target offset -3.00 MHz), excitation channel iq_ex_q2_F01_min',\n",
    "                          r'D:\\data\\2018-10-04\\05-40-02-Ramsey (target offset -3.00 MHz), excitation channel iq_ex_q2_F01_min'],\n",
    "                'name': 'Ramsey (target offset -3.00 MHz), excitation channel iq_ex_q2_F01_min', 'q': '2'},\n",
    "    '1809_001-3 reloaded q3 Ramsey':\n",
    "               {'paths': [#r'D:\\data\\2018-09-25\\16-50-37-Ramsey (target offset -3.00 MHz), excitation channel iq_ex_q2_F01_min',\n",
    "                          r'D:\\data\\2018-10-03\\23-54-27-Ramsey (target offset -3.00 MHz), excitation channel iq_ex_q3_F01_min',\n",
    "                          r'D:\\data\\2018-10-04\\02-03-59-Ramsey (target offset -3.00 MHz), excitation channel iq_ex_q3_F01_min',\n",
    "                          r'D:\\data\\2018-10-04\\04-13-36-Ramsey (target offset -3.00 MHz), excitation channel iq_ex_q3_F01_min',\n",
    "                          r'D:\\data\\2018-10-04\\06-23-16-Ramsey (target offset -3.00 MHz), excitation channel iq_ex_q3_F01_min'],\n",
    "                'name': 'Ramsey (target offset -3.00 MHz), excitation channel iq_ex_q3_F01_min', 'q': '3'},\n",
    "                      }"
   ]
  },
  {
   "cell_type": "code",
   "execution_count": 125,
   "metadata": {
    "collapsed": true
   },
   "outputs": [],
   "source": [
    "measurement_folders = {\n",
    "    '1809_001-2 revolution q1 Ramsey':\n",
    "               {'paths': [r'D:\\data\\2018-10-07\\08-07-47-Ramsey (target offset -3.00 MHz), excitation channel iq_ex_q1_F01_min',\n",
    "                          r'D:\\data\\2018-10-07\\11-33-57-Ramsey (target offset -3.00 MHz), excitation channel iq_ex_q1_F01_min'],\n",
    "                'name': 'Ramsey (target offset -3.00 MHz), excitation channel iq_ex_q1_F01_min', 'q': '1'},\n",
    "    '1809_001-2 revolution q2 Ramsey':\n",
    "               {'paths': [#r'D:\\data\\2018-09-25\\16-50-37-Ramsey (target offset -3.00 MHz), excitation channel iq_ex_q2_F01_min',\n",
    "                          r'D:\\data\\2018-10-07\\09-17-17-Ramsey (target offset -3.00 MHz), excitation channel iq_ex_q2_F01_min',\n",
    "                          r'D:\\data\\2018-10-07\\12-42-00-Ramsey (target offset -3.00 MHz), excitation channel iq_ex_q2_F01_min'],\n",
    "                'name': 'Ramsey (target offset -3.00 MHz), excitation channel iq_ex_q2_F01_min', 'q': '2'},\n",
    "    '1809_001-2 revolution q3 Ramsey':\n",
    "               {'paths': [#r'D:\\data\\2018-09-25\\16-50-37-Ramsey (target offset -3.00 MHz), excitation channel iq_ex_q2_F01_min',\n",
    "                          r'D:\\data\\2018-10-07\\10-26-00-Ramsey (target offset -3.00 MHz), excitation channel iq_ex_q3_F01_min'],\n",
    "                'name': 'Ramsey (target offset -3.00 MHz), excitation channel iq_ex_q3_F01_min', 'q': '3'},\n",
    "                      }"
   ]
  },
  {
   "cell_type": "code",
   "execution_count": 530,
   "metadata": {
    "collapsed": true
   },
   "outputs": [],
   "source": [
    "measurement_folders = {\n",
    "    '1808-072-2 q1 revolution':\n",
    "        {'paths': [#r'D:\\data\\2018-10-09\\17-24-03-Ramsey (target offset -3.00 MHz), excitation channel iq_ex_q1_F01_min',\n",
    "                   r'D:\\data\\2018-10-09\\19-20-04-Ramsey (target offset -3.00 MHz), excitation channel iq_ex_q1_F01_min'],\n",
    "        'name': 'Ramsey (target offset -3.00 MHz), excitation channel iq_ex_q1_F01_min', 'q': '1'},\n",
    "    '1808-072-2 q2 revolution':\n",
    "        {'paths': [r'D:\\data\\2018-10-09\\18-00-27-Ramsey (target offset -3.00 MHz), excitation channel iq_ex_q2_F01_min'],\n",
    "        'name': 'Ramsey (target offset -3.00 MHz), excitation channel iq_ex_q2_F01_min', 'q': '2'},\n",
    "    '1808-072-2 q3 revolution':\n",
    "        {'paths': [r'D:\\data\\2018-10-09\\18-36-59-Ramsey (target offset -3.00 MHz), excitation channel iq_ex_q3_F01_min'],\n",
    "        'name': 'Ramsey (target offset -3.00 MHz), excitation channel iq_ex_q3_F01_min', 'q': '3'}\n",
    "}"
   ]
  },
  {
   "cell_type": "code",
   "execution_count": 535,
   "metadata": {
    "collapsed": true
   },
   "outputs": [],
   "source": [
    "measurement_folders = {\n",
    "    '1808-072-2 q1 revolution':\n",
    "        {'paths': [#r'D:\\data\\2018-10-09\\17-24-03-Ramsey (target offset -3.00 MHz), excitation channel iq_ex_q1_F01_min',\n",
    "                   r'D:\\data\\2018-10-10\\06-45-36-Ramsey (target offset -3.00 MHz), excitation channel iq_ex_q1_F01_min',\n",
    "                   r'D:\\data\\2018-10-10\\08-33-47-Ramsey (target offset -3.00 MHz), excitation channel iq_ex_q1_F01_min'],\n",
    "        'name': 'Ramsey (target offset -3.00 MHz), excitation channel iq_ex_q1_F01_min', 'q': '1'},\n",
    "    '1808-072-2 q2 revolution':\n",
    "        {'paths': [r'D:\\data\\2018-10-10\\07-21-48-Ramsey (target offset -3.00 MHz), excitation channel iq_ex_q2_F01_min'],\n",
    "        'name': 'Ramsey (target offset -3.00 MHz), excitation channel iq_ex_q2_F01_min', 'q': '2'},\n",
    "    '1808-072-2 q3 revolution':\n",
    "        {'paths': [r'D:\\data\\2018-10-10\\07-57-48-Ramsey (target offset -3.00 MHz), excitation channel iq_ex_q3_F01_min'],\n",
    "        'name': 'Ramsey (target offset -3.00 MHz), excitation channel iq_ex_q3_F01_min', 'q': '3'}\n",
    "}"
   ]
  },
  {
   "cell_type": "code",
   "execution_count": 538,
   "metadata": {},
   "outputs": [
    {
     "name": "stdout",
     "output_type": "stream",
     "text": [
      "D:\\data\\2018-10-10\\06-45-36-Ramsey (target offset -3.00 MHz), excitation channel iq_ex_q1_F01_min/Ramsey (target offset -3.00 MHz), excitation channel iq_ex_q1_F01_min.pkl\n",
      "D:\\data\\2018-10-10\\08-33-47-Ramsey (target offset -3.00 MHz), excitation channel iq_ex_q1_F01_min/Ramsey (target offset -3.00 MHz), excitation channel iq_ex_q1_F01_min.pkl\n"
     ]
    },
    {
     "name": "stderr",
     "output_type": "stream",
     "text": [
      "C:\\ProgramData\\Anaconda3\\lib\\site-packages\\scipy\\optimize\\minpack.py:427: RuntimeWarning: Number of calls to function has reached maxfev = 1200.\n",
      "  warnings.warn(errors[info][0], RuntimeWarning)\n"
     ]
    },
    {
     "name": "stdout",
     "output_type": "stream",
     "text": [
      "D:\\data\\2018-10-10\\07-21-48-Ramsey (target offset -3.00 MHz), excitation channel iq_ex_q2_F01_min/Ramsey (target offset -3.00 MHz), excitation channel iq_ex_q2_F01_min.pkl\n",
      "D:\\data\\2018-10-10\\07-57-48-Ramsey (target offset -3.00 MHz), excitation channel iq_ex_q3_F01_min/Ramsey (target offset -3.00 MHz), excitation channel iq_ex_q3_F01_min.pkl\n"
     ]
    },
    {
     "name": "stderr",
     "output_type": "stream",
     "text": [
      "D:\\qtlab_replacement\\qsweepy\\fitting.py:105: RuntimeWarning: overflow encountered in square\n",
      "  cost = lambda p: (np.abs(model(x, p)-y)**2).ravel()\n"
     ]
    }
   ],
   "source": [
    "plt.close('all')\n",
    "for measurement_type_name, measurement_type in measurement_folders.items(): \n",
    "    data_average = None\n",
    "    if 'fittype' not in measurement_type:\n",
    "        figs, axes = plt.subplots(1,3,num=measurement_type_name, figsize=(12,4))\n",
    "        ax_freq = axes[0]\n",
    "        ax_decay= axes[1]\n",
    "        ax_pic = axes[2]\n",
    "        ax_freq.set_xlabel('Control voltage, V')\n",
    "        ax_freq.set_ylabel('Delta frequency, MHz')\n",
    "        ax_freq.set_title(measurement_type_name+' frequency')\n",
    "        ax_freq.grid(True)\n",
    "    else:\n",
    "        figs, axes = plt.subplots(1,2,num=measurement_type_name, figsize=(12,4))\n",
    "        ax_decay = axes[0]\n",
    "        ax_pic = axes[1]\n",
    "    ax_decay.set_xlabel('Control voltage, V')\n",
    "    ax_decay.set_ylabel('Decay, $\\\\mu$s')\n",
    "    ax_decay.set_title(measurement_type_name+' decay')\n",
    "    ax_pic.set_ylabel('Control voltage, V')\n",
    "    ax_pic.set_xlabel('Decay, $\\\\mu$s')\n",
    "    ax_pic.set_title(measurement_type_name+' homodyne signal')\n",
    "    ax_decay.grid(True)\n",
    "    \n",
    "    q = measurement_type['q']\n",
    "    fitter = fitting.exp_sin_fit if 'fittype' not in measurement_type else fitting.exp_fit\n",
    "    \n",
    "    for measurement_folder in measurement_type['paths']:\n",
    "        measurement = qsweepy.save_pkl.load_pkl(measurement_type['name'], measurement_folder)[1]\n",
    "        if type(data_average) is type(None):\n",
    "            data_average = measurement['S21_r'+q][2]\n",
    "        else:\n",
    "            data_average += measurement['S21_r'+q][2]\n",
    "        summary = pd.DataFrame([dict(fitter(measurement['S21_r'+q][1][0], \n",
    "                         [np.real(measurement['S21_r'+q][2][:,dc_id]),\n",
    "                          np.imag(measurement['S21_r'+q][2][:,dc_id])])[-1], **{'dc':dc}) \n",
    "                             for dc_id, dc in enumerate(measurement['S21_r'+q][1][1])])\n",
    "        good_points = np.logical_and(summary['decay']>0, summary['decay']<15e-6)\n",
    "        summary = summary[good_points]\n",
    "        if 'freq' in summary:\n",
    "            ax_freq.plot(np.asarray(summary['dc']), np.asarray(summary['freq'])/1e6, marker='.')\n",
    "        ax_decay.plot(np.asarray(summary['dc']), np.asarray(summary['decay'])*1e6, marker='.')\n",
    "        \n",
    "    summary = pd.DataFrame([dict(fitter(measurement['S21_r'+q][1][0], \n",
    "                         [np.real(data_average[:,dc_id]),\n",
    "                          np.imag(data_average[:,dc_id])])[-1], **{'dc':dc}) \n",
    "                             for dc_id, dc in enumerate(measurement['S21_r'+q][1][1])])    \n",
    "    good_points = np.logical_and(summary['decay']>0, summary['decay']<15e-6)\n",
    "    summary = summary[good_points]\n",
    "\n",
    "    if 'freq' in summary:\n",
    "        ax_freq.plot(np.asarray(summary['dc']), np.asarray(summary['freq'])/1e6, linewidth=2, marker='.')\n",
    "    ax_decay.plot(np.asarray(summary['dc']), np.asarray(summary['decay'])*1e6, linewidth=2, marker='.')\n",
    "    plt.tight_layout() \n",
    "    # PCA on I, Q\n",
    "    mean = np.mean(data_average)\n",
    "    cov = [[np.mean(np.real(data_average-mean)*np.real(data_average-mean)),\n",
    "            np.mean(np.real(data_average-mean)*np.imag(data_average-mean))],\n",
    "           [np.mean(np.imag(data_average-mean)*np.real(data_average-mean)),\n",
    "            np.mean(np.imag(data_average-mean)*np.imag(data_average-mean))]]\n",
    "    vals, vecs =np.linalg.eig(cov)\n",
    "    #print (cov, vecs, vals)\n",
    "    data_real = np.real(data_average)*vecs[np.argmax(vals),0]+np.imag(data_average)*vecs[np.argmax(vals),1]\n",
    "    ax_pic.pcolormesh(measurement['S21_r'+q][1][0]*1e6, measurement['S21_r'+q][1][1], data_real.T, cmap='RdBu')\n",
    "    plt.savefig(r'D:\\data\\2018-09-23\\summary\\\\'+measurement_type_name+'.pdf')\n",
    "    plt.savefig(r'D:\\data\\2018-09-23\\summary\\\\'+measurement_type_name+'.png')\n",
    "    \n",
    "#    if 'freq' in summary:\n",
    "#        plt.figure(measurement_type_name+' frequency')\n",
    "#        plt.plot(np.asarray(summary['dc']), np.asarray(summary['freq'])/1e6, linewidth=2, marker='.')\n",
    "#        plt.grid(True)\n",
    "#        plt.xlabel('Control voltage, V')\n",
    "#        plt.ylabel('Ramsey frequency, MHz')\n",
    "#        plt.title(measurement_type_name+' frequency')\n",
    "#        plt.tight_layout()\n",
    "#    plt.figure(measurement_type_name+' decay')\n",
    "#    plt.plot(np.asarray(summary['dc']), np.asarray(summary['decay'])*1e6, linewidth=2, marker='.')\n",
    "\n",
    "#    plt.xlabel('Control voltage, V')\n",
    "#    plt.ylabel('Ramsey decay, $\\\\mu$s')\n",
    "#    plt.title(measurement_type_name+' decay')\n",
    "#    plt.tight_layout()    "
   ]
  },
  {
   "cell_type": "code",
   "execution_count": 537,
   "metadata": {
    "collapsed": true
   },
   "outputs": [],
   "source": [
    "plt.close('all')"
   ]
  },
  {
   "cell_type": "code",
   "execution_count": 517,
   "metadata": {
    "collapsed": true
   },
   "outputs": [],
   "source": [
    "locations = [[r'D:\\data\\2018-09-19\\17-35-56-Sample 1 Coil #NNDAC-0 anticrossings qubit 1', \n",
    "              r'D:\\data\\2018-09-19\\17-38-23-Sample 1 Coil #NNDAC-0 anticrossings qubit 2',\n",
    "              r'D:\\data\\2018-09-19\\17-43-49-Sample 1 Coil #NNDAC-0 anticrossings qubit 3'],\n",
    "            [r'D:\\data\\2018-09-19\\17-48-29-Sample 1 Coil #NNDAC-2 anticrossings qubit 1',\n",
    "             r'D:\\data\\2018-09-19\\17-50-56-Sample 1 Coil #NNDAC-2 anticrossings qubit 2',\n",
    "             r'D:\\data\\2018-09-19\\17-56-23-Sample 1 Coil #NNDAC-2 anticrossings qubit 3'],\n",
    "            [r'D:\\data\\2018-09-19\\18-01-03-Sample 1 Coil #NNDAC-4 anticrossings qubit 1',\n",
    "             r'D:\\data\\2018-09-19\\18-03-30-Sample 1 Coil #NNDAC-4 anticrossings qubit 2',\n",
    "             r'D:\\data\\2018-09-19\\18-08-56-Sample 1 Coil #NNDAC-4 anticrossings qubit 3']]\n",
    "\n",
    "locations = [[r'D:\\data\\2018-10-03\\12-46-17-1809_001-2 Coil #NNDAC-0 anticrossings qubit 1',\n",
    "r'D:\\data\\2018-10-03\\12-47-55-1809_001-2 Coil #NNDAC-0 anticrossings qubit 2',\n",
    "r'D:\\data\\2018-10-03\\12-51-26-1809_001-2 Coil #NNDAC-0 anticrossings qubit 3'],\n",
    "[r'D:\\data\\2018-10-03\\12-52-57-1809_001-2 Coil #NNDAC-2 anticrossings qubit 1',\n",
    "r'D:\\data\\2018-10-03\\12-54-35-1809_001-2 Coil #NNDAC-2 anticrossings qubit 2',\n",
    "r'D:\\data\\2018-10-03\\12-58-07-1809_001-2 Coil #NNDAC-2 anticrossings qubit 3'],\n",
    "[r'D:\\data\\2018-10-03\\12-59-37-1809_001-2 Coil #NNDAC-4 anticrossings qubit 1',\n",
    "r'D:\\data\\2018-10-03\\13-01-15-1809_001-2 Coil #NNDAC-4 anticrossings qubit 2',\n",
    "r'D:\\data\\2018-10-03\\13-04-45-1809_001-2 Coil #NNDAC-4 anticrossings qubit 3']]\n",
    "\n",
    "locations = [[r'D:\\data\\2018-10-08\\07-37-24-1809_001-2 Coil #NNDAC-6 anticrossings qubit 1',\n",
    "              r'D:\\data\\2018-10-08\\07-38-21-1809_001-2 Coil #NNDAC-6 anticrossings qubit 2',\n",
    "              r'D:\\data\\2018-10-08\\07-39-18-1809_001-2 Coil #NNDAC-6 anticrossings qubit 3'],\n",
    "             [r'D:\\data\\2018-10-08\\07-40-06-1809_001-2 Coil #NNDAC-8 anticrossings qubit 1',\n",
    "              r'D:\\data\\2018-10-08\\07-41-03-1809_001-2 Coil #NNDAC-8 anticrossings qubit 2',\n",
    "              r'D:\\data\\2018-10-08\\07-42-00-1809_001-2 Coil #NNDAC-8 anticrossings qubit 3'],\n",
    "             [r'D:\\data\\2018-10-08\\07-42-48-1809_001-2 Coil #NNDAC-10 anticrossings qubit 1',\n",
    "              r'D:\\data\\2018-10-08\\07-43-45-1809_001-2 Coil #NNDAC-10 anticrossings qubit 2',\n",
    "              r'D:\\data\\2018-10-08\\07-44-42-1809_001-2 Coil #NNDAC-10 anticrossings qubit 3']]"
   ]
  },
  {
   "cell_type": "code",
   "execution_count": 518,
   "metadata": {},
   "outputs": [
    {
     "name": "stdout",
     "output_type": "stream",
     "text": [
      "D:\\data\\2018-10-08\\07-37-24-1809_001-2 Coil #NNDAC-6 anticrossings qubit 1/1809_001-2 Coil #NNDAC-6 anticrossings qubit 1.pkl\n",
      "D:\\data\\2018-10-08\\07-38-21-1809_001-2 Coil #NNDAC-6 anticrossings qubit 2/1809_001-2 Coil #NNDAC-6 anticrossings qubit 2.pkl\n",
      "D:\\data\\2018-10-08\\07-39-18-1809_001-2 Coil #NNDAC-6 anticrossings qubit 3/1809_001-2 Coil #NNDAC-6 anticrossings qubit 3.pkl\n",
      "D:\\data\\2018-10-08\\07-40-06-1809_001-2 Coil #NNDAC-8 anticrossings qubit 1/1809_001-2 Coil #NNDAC-8 anticrossings qubit 1.pkl\n",
      "D:\\data\\2018-10-08\\07-41-03-1809_001-2 Coil #NNDAC-8 anticrossings qubit 2/1809_001-2 Coil #NNDAC-8 anticrossings qubit 2.pkl\n",
      "D:\\data\\2018-10-08\\07-42-00-1809_001-2 Coil #NNDAC-8 anticrossings qubit 3/1809_001-2 Coil #NNDAC-8 anticrossings qubit 3.pkl\n",
      "D:\\data\\2018-10-08\\07-42-48-1809_001-2 Coil #NNDAC-10 anticrossings qubit 1/1809_001-2 Coil #NNDAC-10 anticrossings qubit 1.pkl\n",
      "D:\\data\\2018-10-08\\07-43-45-1809_001-2 Coil #NNDAC-10 anticrossings qubit 2/1809_001-2 Coil #NNDAC-10 anticrossings qubit 2.pkl\n",
      "D:\\data\\2018-10-08\\07-44-42-1809_001-2 Coil #NNDAC-10 anticrossings qubit 3/1809_001-2 Coil #NNDAC-10 anticrossings qubit 3.pkl\n",
      "D:\\data\\2018-10-08\\07-37-24-1809_001-2 Coil #NNDAC-6 anticrossings qubit 1/1809_001-2 Coil #NNDAC-6 anticrossings qubit 1.pkl\n",
      "D:\\data\\2018-10-08\\07-38-21-1809_001-2 Coil #NNDAC-6 anticrossings qubit 2/1809_001-2 Coil #NNDAC-6 anticrossings qubit 2.pkl\n",
      "D:\\data\\2018-10-08\\07-39-18-1809_001-2 Coil #NNDAC-6 anticrossings qubit 3/1809_001-2 Coil #NNDAC-6 anticrossings qubit 3.pkl\n",
      "D:\\data\\2018-10-08\\07-40-06-1809_001-2 Coil #NNDAC-8 anticrossings qubit 1/1809_001-2 Coil #NNDAC-8 anticrossings qubit 1.pkl\n",
      "D:\\data\\2018-10-08\\07-41-03-1809_001-2 Coil #NNDAC-8 anticrossings qubit 2/1809_001-2 Coil #NNDAC-8 anticrossings qubit 2.pkl\n",
      "D:\\data\\2018-10-08\\07-42-00-1809_001-2 Coil #NNDAC-8 anticrossings qubit 3/1809_001-2 Coil #NNDAC-8 anticrossings qubit 3.pkl\n",
      "D:\\data\\2018-10-08\\07-42-48-1809_001-2 Coil #NNDAC-10 anticrossings qubit 1/1809_001-2 Coil #NNDAC-10 anticrossings qubit 1.pkl\n",
      "D:\\data\\2018-10-08\\07-43-45-1809_001-2 Coil #NNDAC-10 anticrossings qubit 2/1809_001-2 Coil #NNDAC-10 anticrossings qubit 2.pkl\n",
      "D:\\data\\2018-10-08\\07-44-42-1809_001-2 Coil #NNDAC-10 anticrossings qubit 3/1809_001-2 Coil #NNDAC-10 anticrossings qubit 3.pkl\n",
      "-5.14046921753e-08\n"
     ]
    }
   ],
   "source": [
    "# plot all anitcrossings on one axes\n",
    "#Locale settings\n",
    "import locale\n",
    "# Set to German locale to get comma decimal separater\n",
    "locale.setlocale(locale.LC_NUMERIC, \"deu_DEU\")\n",
    "\n",
    "import numpy as np\n",
    "import matplotlib.pyplot as plt\n",
    "plt.rcdefaults()\n",
    "\n",
    "# Tell matplotlib to use the locale we set above\n",
    "plt.rcParams['axes.formatter.use_locale'] = True\n",
    "%matplotlib qt5\n",
    "\n",
    "figs, axes = plt.subplots(3,3, figsize=(9,6), sharex=True, sharey='row')\n",
    "\n",
    "anticrossing_matrix = []\n",
    "max_dev_matrix = []\n",
    "coil_value_matrix = []\n",
    "\n",
    "files = [['1809_001-2 Coil #NNDAC-{0} anticrossings qubit {1}'.format(i,j) for j in ['1', '2', '3'] ] for i in [6,8,10]]\n",
    "delays = []\n",
    "for row_id in range(len(locations)):\n",
    "    for column_id in range(len(locations[0])):\n",
    "        data = qsweepy.save_pkl.load_pkl(files[row_id][column_id],locations[row_id][column_id])[1]['S-parameter']\n",
    "        unwrapped = np.unwrap(np.angle(data[2])).T\n",
    "        delays.append((unwrapped[-1,:]-unwrapped[0,:]+np.pi*2)/(data[1][1][-1]-data[1][1][0]))\n",
    "delay = np.median(delays)\n",
    "        \n",
    "for row_id in range(len(locations)):\n",
    "    anticrossing_row = []\n",
    "    max_dev_row = []\n",
    "    coil_value_row = []\n",
    "    for column_id in range(len(locations[0])):\n",
    "        data = qsweepy.save_pkl.load_pkl(files[row_id][column_id],locations[row_id][column_id])[1]['S-parameter']\n",
    "        #unwrapped = np.unwrap(np.angle(data[2])).T\n",
    "        #phase_diff = unwrapped[-1,:]-unwrapped[0,:]\n",
    "        #data_nodelay = (data[2]*np.exp(-1j*np.linspace(0,np.median(phase_diff),unwrapped.shape[0]))).T\n",
    "        data_nodelay = (data[2]*np.exp(-1j*delay*data[1][1])).T\n",
    "        data_deviation_complex = data_nodelay - np.mean(data_nodelay, axis=0)\n",
    "        #axes[row_id,column_id].pcolormesh(data[1][0], data[1][1], np.angle(data_nodelay), cmap='RdBu')\n",
    "        axes[column_id, row_id].pcolormesh(data[1][0], data[1][1]/1e9, np.abs(data_deviation_complex), cmap='RdBu')\n",
    "        max_dev = data[1][1][np.argmax(np.abs(data_deviation_complex), axis=0)]/1e9\n",
    "        axes[column_id, row_id].plot(data[1][0], max_dev, color='yellow', linewidth=2)\n",
    "        if column_id == 0:\n",
    "            axes[column_id, row_id].set_title('Линия #'+str(row_id+1))\n",
    "        if row_id == 0:\n",
    "            axes[column_id, row_id].set_ylabel('Резонатор #'+str(column_id+1))\n",
    "        anticrossing_row.append(data_deviation_complex)\n",
    "        max_dev_row.append(max_dev)\n",
    "        coil_value_row.append(data[1][0])\n",
    "    anticrossing_matrix.append(anticrossing_row)\n",
    "    max_dev_matrix.append(max_dev_row)\n",
    "    coil_value_matrix.append(coil_value_row)\n",
    "figs.text(0.5, 0.04, 'Напряжение управляющей линии, В', ha='center')\n",
    "figs.text(0.02, 0.5, 'Частота, ГГц', va='center', rotation='vertical')\n",
    "#plt.tight_layout()\n",
    "print (delay/2/np.pi)"
   ]
  },
  {
   "cell_type": "code",
   "execution_count": 519,
   "metadata": {},
   "outputs": [],
   "source": [
    "fqb = lambda x, EJ1, EJ2, EC, phi0, L: (8*EC)**0.5*((EJ1-EJ2)**2*np.sin(np.pi*x*L+phi0*np.pi)**2+(EJ1+EJ2)**2*np.cos(np.pi*x*L+phi0*np.pi)**2)**0.25\n",
    "fr  = lambda x, frb, g, EJ1, EJ2, EC, phi0, L: (fqb(x, EJ1, EJ2, EC, phi0, L)+frb)*0.5+(((fqb(x, EJ1, EJ2, EC, phi0, L)-frb)*0.5)**2+g**2)**0.5*np.sign(frb-fqb(x, EJ1, EJ2, EC, phi0, L))"
   ]
  },
  {
   "cell_type": "code",
   "execution_count": 520,
   "metadata": {},
   "outputs": [],
   "source": [
    "initial_guess = {'L':np.identity(len(x))*0.3-0.01, # initial guess for inductance matrix\n",
    "                     'phi0':-np.ones(len(x))*0.1, # initial guess for residual flux\n",
    "                     'frb':np.mean(max_dev_matrix, axis=(0,2))*1e9,\n",
    "                     #'frb':[6.85e9, 7.15e9, 7.00e9],\n",
    "                     'EC':0.175e9,\n",
    "                     'EJ1':18.8e9,\n",
    "                     'EJ2':3.6e9,\n",
    "                     'g':40e6}\n",
    "\n",
    "num_resonators =3\n",
    "phi0_vec = []\n",
    "L_mat = []\n",
    "fitresults_vec = []\n",
    "for resonator_id in range(num_resonators):\n",
    "    data = [max_dev_matrix[i][resonator_id] for i in range(num_resonators)]\n",
    "    x = [coil_value_matrix[i][resonator_id] for i in range(num_resonators)]\n",
    "    def fr_coil(p, coil_id):\n",
    "        frb, g, EJ1, EJ2, EC, phi0 = p[:6]\n",
    "        L = p[6:]\n",
    "        return fr(x[coil_id], frb, g, EJ1, EJ2, EC, phi0, L[coil_id])/1e9\n",
    "    def residuals(p):\n",
    "        frb, g, EJ1, EJ2, EC, phi0 = p[:6]\n",
    "        L = p[6:]\n",
    "        res = []\n",
    "        for coil_id in range(len(data)):\n",
    "            #print (fr(x[coil_id], frb, g, EJ1, EJ2, EC, phi0, L[coil_id]))\n",
    "            #print (fqb(x[coil_id], EJ1, EJ2, EC, phi0, L[coil_id]))\n",
    "            #print (x[coil_id]*np.reshape(L,(-1,1)))\n",
    "            res.extend(fr(x[coil_id], frb, g, EJ1, EJ2, EC, phi0, L[coil_id])/1e9-data[coil_id])\n",
    "        return res\n",
    "    from scipy.optimize import least_squares\n",
    "\n",
    "    p0 = (initial_guess['frb'][resonator_id], \n",
    "          initial_guess['g'], \n",
    "          initial_guess['EJ1'], \n",
    "          initial_guess['EJ2'], \n",
    "          initial_guess['EC'], \n",
    "          initial_guess['phi0'][resonator_id])+\\\n",
    "          tuple(initial_guess['L'][resonator_id,:])\n",
    "\n",
    "    bounds = ((0,      0,      0,      0,      0,      -np.pi)+tuple([-np.inf]*num_resonators),\n",
    "              (np.inf, np.inf, np.inf, np.inf, np.inf,  np.pi)+tuple([ np.inf]*num_resonators))\n",
    "    fitresults = least_squares(residuals, p0, x_scale=np.abs(p0), bounds=bounds)\n",
    "    fitresults_vec.append(fitresults)\n",
    "    phi0_vec.append(fitresults.x[5])\n",
    "    L_mat.append(fitresults.x[6:])"
   ]
  },
  {
   "cell_type": "code",
   "execution_count": 521,
   "metadata": {},
   "outputs": [],
   "source": [
    "for resonator_id in range(num_resonators):\n",
    "    for coil_id in range(num_resonators):\n",
    "        axes[resonator_id, coil_id].plot(coil_value_matrix[coil_id][resonator_id], \n",
    "                                     fr_coil(fitresults_vec[resonator_id].x, coil_id), color='black', linewidth=2)"
   ]
  },
  {
   "cell_type": "code",
   "execution_count": 522,
   "metadata": {},
   "outputs": [
    {
     "data": {
      "text/plain": [
       "(array([[ 0.31045445, -0.06621955, -0.02083502],\n",
       "        [ 0.08090813,  0.29212717, -0.13412727],\n",
       "        [-0.07698924,  0.06840561,  0.13873278]]),\n",
       " [-0.029960100879772234, -0.025342234038425226, -0.038382257248394662])"
      ]
     },
     "execution_count": 522,
     "metadata": {},
     "output_type": "execute_result"
    }
   ],
   "source": [
    "np.asarray(L_mat), phi0_vec"
   ]
  },
  {
   "cell_type": "code",
   "execution_count": 532,
   "metadata": {},
   "outputs": [
    {
     "data": {
      "text/plain": [
       "[array([-1.51556674,  0.2017048 , -0.66385044]),\n",
       " array([-0.1087136 , -1.21934754,  0.81756234]),\n",
       " array([ 1.31675143, -1.19877866, -2.00557397])]"
      ]
     },
     "execution_count": 532,
     "metadata": {},
     "output_type": "execute_result"
    }
   ],
   "source": [
    "[np.linalg.solve(np.asarray(L_mat), -np.asarray(phi0_vec)+[-0.5,0.0,0.0]), \n",
    " np.linalg.solve(np.asarray(L_mat), -np.asarray(phi0_vec)+[0.0,-0.5,0.0]),\n",
    " np.linalg.solve(np.asarray(L_mat), -np.asarray(phi0_vec)+[0.5,0.0,-0.5])]\n"
   ]
  },
  {
   "cell_type": "code",
   "execution_count": 472,
   "metadata": {},
   "outputs": [
    {
     "data": {
      "text/plain": [
       "array([-0.1552843 , -0.30805631, -0.08974458])"
      ]
     },
     "execution_count": 472,
     "metadata": {},
     "output_type": "execute_result"
    }
   ],
   "source": [
    "np.dot(np.asarray(L_mat), [-1.22473107, -2.5820615 , -2.58934792])"
   ]
  },
  {
   "cell_type": "code",
   "execution_count": 476,
   "metadata": {},
   "outputs": [
    {
     "data": {
      "text/plain": [
       "array([[  4.05832053,   1.3716067 ,   1.91661173],\n",
       "       [  2.78596105,   5.36166024,   5.54632033],\n",
       "       [  3.6204024 ,   3.39640259,  10.92960688]])"
      ]
     },
     "execution_count": 476,
     "metadata": {},
     "output_type": "execute_result"
    }
   ],
   "source": [
    "np.linalg.inv(L_mat)"
   ]
  },
  {
   "cell_type": "code",
   "execution_count": null,
   "metadata": {
    "collapsed": true
   },
   "outputs": [],
   "source": []
  }
 ],
 "metadata": {
  "kernelspec": {
   "display_name": "Python 3",
   "language": "python",
   "name": "python3"
  },
  "language_info": {
   "codemirror_mode": {
    "name": "ipython",
    "version": 3
   },
   "file_extension": ".py",
   "mimetype": "text/x-python",
   "name": "python",
   "nbconvert_exporter": "python",
   "pygments_lexer": "ipython3",
   "version": "3.6.3"
  },
  "toc": {
   "base_numbering": 1,
   "nav_menu": {},
   "number_sections": true,
   "sideBar": true,
   "skip_h1_title": false,
   "title_cell": "Table of Contents",
   "title_sidebar": "Contents",
   "toc_cell": false,
   "toc_position": {},
   "toc_section_display": true,
   "toc_window_display": false
  }
 },
 "nbformat": 4,
 "nbformat_minor": 2
}
