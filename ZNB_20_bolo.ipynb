{
 "cells": [
  {
   "cell_type": "code",
   "execution_count": 1,
   "metadata": {
    "ExecuteTime": {
     "end_time": "2019-08-29T15:06:45.752110Z",
     "start_time": "2019-08-29T15:06:44.618652Z"
    }
   },
   "outputs": [],
   "source": [
    "import visa\n",
    "import numpy as np\n",
    "import pandas as pd\n",
    "import tqdm"
   ]
  },
  {
   "cell_type": "code",
   "execution_count": 19,
   "metadata": {
    "ExecuteTime": {
     "end_time": "2019-08-29T13:57:53.148274Z",
     "start_time": "2019-08-29T13:57:52.567537Z"
    }
   },
   "outputs": [],
   "source": [
    "#Locale settings\n",
    "import locale\n",
    "# Set to German locale to get comma decimal separater\n",
    "locale.setlocale(locale.LC_NUMERIC, \"deu_DEU\")\n",
    "\n",
    "import numpy as np\n",
    "import matplotlib.pyplot as plt\n",
    "plt.rcdefaults()\n",
    "\n",
    "# Tell matplotlib to use the locale we set above\n",
    "plt.rcParams['axes.formatter.use_locale'] = True"
   ]
  },
  {
   "cell_type": "code",
   "execution_count": 20,
   "metadata": {
    "ExecuteTime": {
     "end_time": "2019-08-29T13:57:58.638683Z",
     "start_time": "2019-08-29T13:57:53.151232Z"
    }
   },
   "outputs": [],
   "source": [
    "%matplotlib qt\n",
    "from qsweepy import *\n",
    "from qsweepy.ponyfiles import *\n",
    "from qsweepy.instruments import *\n",
    "from qsweepy.save_pkl import save_pkl\n",
    "import matplotlib.pyplot as plt\n",
    "import numpy as np\n",
    "from matplotlib import interactive\n",
    "interactive(True)\n",
    "from importlib import reload\n",
    "\n",
    "sample_name='bolometr'"
   ]
  },
  {
   "cell_type": "code",
   "execution_count": 21,
   "metadata": {
    "ExecuteTime": {
     "end_time": "2019-08-29T13:57:58.865554Z",
     "start_time": "2019-08-29T13:57:58.810599Z"
    }
   },
   "outputs": [
    {
     "name": "stderr",
     "output_type": "stream",
     "text": [
      "C:\\ProgramData\\Anaconda3\\lib\\site-packages\\pyvisa\\resources\\messagebased.py:573: FutureWarning:\n",
      "\n",
      "ask is deprecated and will be removed in 1.10, use query instead.\n",
      "\n"
     ]
    }
   ],
   "source": [
    "pna = RS_ZNB20('pna', address = 'TCPIP0::10.20.61.161::inst0::INSTR')"
   ]
  },
  {
   "cell_type": "code",
   "execution_count": null,
   "metadata": {},
   "outputs": [],
   "source": [
    "pna.set_nop()"
   ]
  },
  {
   "cell_type": "code",
   "execution_count": null,
   "metadata": {},
   "outputs": [],
   "source": [
    "currents = arange(-1.,1, 0.02)*1e-3\n",
    "\n",
    "pna_preset = True\n",
    "\n",
    "#cs = Yokogawa_GS210(address='GPIB1::1::INSTR')\n",
    "#pna = Agilent_N5242A('pna', address = 'ZVB20-23-100170')\n",
    "if pna_preset:\n",
    "    pna.set_power(-50.)\n",
    "    pna.set_bandwidth(400)\n",
    "    pna.set_centerfreq(6.87656e9)\n",
    "    pna.set_span(100e6)\n",
    "\n",
    "coil_device.set_status(1)\n",
    "sweeper.sweep(pna, (currents, coil_device.set_current, 'Current'))\n",
    "coil_device.set_status(0)\n",
    "pna.close()"
   ]
  },
  {
   "cell_type": "code",
   "execution_count": 22,
   "metadata": {
    "ExecuteTime": {
     "end_time": "2019-08-29T14:02:20.005704Z",
     "start_time": "2019-08-29T14:02:05.200395Z"
    }
   },
   "outputs": [
    {
     "name": "stderr",
     "output_type": "stream",
     "text": [
      "C:\\ProgramData\\Anaconda3\\lib\\site-packages\\pyvisa\\resources\\messagebased.py:573: FutureWarning:\n",
      "\n",
      "ask is deprecated and will be removed in 1.10, use query instead.\n",
      "\n"
     ]
    }
   ],
   "source": [
    "\n",
    "pna.set_status(1)\n",
    "pna.set_power(-45) # \n",
    "pna.set_nop(1001)\n",
    "pna.set_bandwidth(100)\n",
    "pna.set_xlim(4.4345e9, 4.4349e9)\n",
    "#pna.set_bandwidth(100)\n",
    "freqs = pna.get_freqpoints()\n",
    "S21 = pna.get_tracedata()"
   ]
  },
  {
   "cell_type": "code",
   "execution_count": null,
   "metadata": {},
   "outputs": [],
   "source": [
    "pna.pre_sweep()\n",
    "plt.figure()\n",
    "plt.plot(pna.get_points()['S-parameter'][0][1],np.log10(np.abs(pna.measure()['S-parameter']))*10)\n",
    "pna.post_sweep()pna.pre_sweep()\n",
    "plt.figure()\n",
    "plt.plot(pna.get_points()['S-parameter'][0][1],np.log10(np.abs(pna.measure()['S-parameter']))*10)\n",
    "pna.post_sweep()"
   ]
  },
  {
   "cell_type": "code",
   "execution_count": 34,
   "metadata": {
    "ExecuteTime": {
     "end_time": "2019-08-29T14:11:24.630710Z",
     "start_time": "2019-08-29T14:11:24.624733Z"
    }
   },
   "outputs": [
    {
     "data": {
      "text/plain": [
       "array([0.01134432, 0.01107268, 0.01109229, ..., 0.01058339, 0.01097266,\n",
       "       0.01088017])"
      ]
     },
     "execution_count": 34,
     "metadata": {},
     "output_type": "execute_result"
    }
   ],
   "source": [
    "S21[0]"
   ]
  },
  {
   "cell_type": "code",
   "execution_count": 30,
   "metadata": {
    "ExecuteTime": {
     "end_time": "2019-08-29T14:09:38.010308Z",
     "start_time": "2019-08-29T14:09:37.904334Z"
    }
   },
   "outputs": [],
   "source": [
    "\n",
    "import pandas as pd\n",
    "from pandas import ExcelWriter\n",
    "from pandas import ExcelFile\n",
    "import numpy as np\n",
    "\n",
    "df = pd.DataFrame(S21[0],S21[1])\n",
    "pd.DataFrame()\n",
    "writer = ExcelWriter('Pandas-Example2.xlsx')\n",
    "df.to_excel(writer,'Sheet1',index=False)\n",
    "writer.save()"
   ]
  },
  {
   "cell_type": "code",
   "execution_count": 4,
   "metadata": {
    "ExecuteTime": {
     "end_time": "2019-08-29T15:07:11.976000Z",
     "start_time": "2019-08-29T15:07:11.885023Z"
    }
   },
   "outputs": [],
   "source": [
    "vi = visa.ResourceManager()\n",
    "vna = vi.open_resource('TCPIP0::10.20.61.161::inst0::INSTR')"
   ]
  },
  {
   "cell_type": "code",
   "execution_count": 5,
   "metadata": {
    "ExecuteTime": {
     "end_time": "2019-08-29T15:07:13.333743Z",
     "start_time": "2019-08-29T15:07:13.329721Z"
    }
   },
   "outputs": [],
   "source": [
    "sample = {'name':'Bolometer-25042019',\n",
    "          'f_min':1.480653e9,\n",
    "          'f_max':1.480693e9,\n",
    "          'bw': 100,\n",
    "          'nop': 801,\n",
    "          'power':-40}"
   ]
  },
  {
   "cell_type": "code",
   "execution_count": 6,
   "metadata": {
    "ExecuteTime": {
     "end_time": "2019-08-29T15:07:14.404513Z",
     "start_time": "2019-08-29T15:07:14.394518Z"
    }
   },
   "outputs": [],
   "source": [
    "powers=np.arange(-55,-30,5)\n",
    "vna.write('INIT:CONT 0;')\n",
    "vna.write('SENS:FREQ:STAR {};'.format(sample['f_min']))\n",
    "vna.write('SENS:FREQ:STOP {};'.format(sample['f_max']))\n",
    "vna.write('SENS:SWE:POIN {};'.format (sample['nop']))\n",
    "vna.write('SENS:BAND {};'.format(sample['bw']))\n",
    "f = np.linspace(sample['f_min'], sample['f_max'], sample['nop'])\n",
    "sweep_time=float(vna.query('SENS:SWE:TIME?'))\n",
    "vna.timeout = (sweep_time+1)*1000 # in milliseconds"
   ]
  },
  {
   "cell_type": "code",
   "execution_count": 39,
   "metadata": {
    "ExecuteTime": {
     "end_time": "2019-08-29T15:06:00.473007Z",
     "start_time": "2019-08-29T15:06:00.465030Z"
    }
   },
   "outputs": [
    {
     "name": "stdout",
     "output_type": "stream",
     "text": [
      "10.5505\n"
     ]
    }
   ],
   "source": [
    "print(sweep_time)"
   ]
  },
  {
   "cell_type": "code",
   "execution_count": 15,
   "metadata": {
    "ExecuteTime": {
     "end_time": "2019-08-29T12:58:49.569100Z",
     "start_time": "2019-08-29T12:58:49.563114Z"
    }
   },
   "outputs": [
    {
     "data": {
      "text/plain": [
       "'1\\n'"
      ]
     },
     "execution_count": 15,
     "metadata": {},
     "output_type": "execute_result"
    }
   ],
   "source": [
    "vna.query('*OPC?')"
   ]
  },
  {
   "cell_type": "code",
   "execution_count": 15,
   "metadata": {
    "ExecuteTime": {
     "end_time": "2019-08-29T15:10:44.400045Z",
     "start_time": "2019-08-29T15:10:44.396071Z"
    }
   },
   "outputs": [],
   "source": [
    "S21_complex = {}"
   ]
  },
  {
   "cell_type": "code",
   "execution_count": 16,
   "metadata": {
    "ExecuteTime": {
     "end_time": "2019-08-29T15:10:45.520094Z",
     "start_time": "2019-08-29T15:10:45.436108Z"
    }
   },
   "outputs": [
    {
     "name": "stderr",
     "output_type": "stream",
     "text": [
      "\n",
      "\n",
      "\n",
      "  0%|                                                                                            | 0/5 [00:00<?, ?it/s]\n",
      "\n",
      "\n",
      "100%|████████████████████████████████████████████████████████████████████████████████████| 5/5 [00:00<00:00, 73.54it/s]"
     ]
    },
    {
     "data": {
      "text/plain": [
       "(14, <StatusCode.success: 0>)"
      ]
     },
     "execution_count": 16,
     "metadata": {},
     "output_type": "execute_result"
    }
   ],
   "source": [
    "for power in tqdm.tqdm(powers):\n",
    "    vna.write('SOUR:POW {};'.format(power))\n",
    "    vna.write('INIT:IMM;')\n",
    "    result = np.asarray(vna.query_binary_values('CALC:DATA? SDATA;*OPC', datatype=u'f'))\n",
    "    S21_complex[power] = (result[::2]+1j*result[1::2])\n",
    "vna.write('INIT:CONT 1;')"
   ]
  },
  {
   "cell_type": "code",
   "execution_count": 24,
   "metadata": {
    "ExecuteTime": {
     "end_time": "2019-08-29T15:17:53.033578Z",
     "start_time": "2019-08-29T15:17:53.029602Z"
    }
   },
   "outputs": [],
   "source": [
    "T='24mK'"
   ]
  },
  {
   "cell_type": "code",
   "execution_count": 25,
   "metadata": {
    "ExecuteTime": {
     "end_time": "2019-08-29T15:17:56.886159Z",
     "start_time": "2019-08-29T15:17:56.516318Z"
    }
   },
   "outputs": [],
   "source": [
    "S21_complex = pd.DataFrame(S21_complex, index=f)\n",
    "S21_dB = np.log10(np.abs(S21_complex))*20\n",
    "S21_phase = pd.DataFrame(np.unwrap(np.angle(S21_complex)), index=f)\n",
    "S21_complex.to_csv(r'C:\\Users\\cryopxi\\Documents\\Alexey\\T{}-complex.csv'.format(T))\n",
    "S21_dB.to_csv(r'C:\\Users\\cryopxi\\Documents\\Alexey\\T{}-dB.csv'.format(T))\n",
    "S21_phase.to_csv(r'C:\\Users\\cryopxi\\Documents\\Alexey\\T{}-phase.csv'.format(T))"
   ]
  },
  {
   "cell_type": "code",
   "execution_count": null,
   "metadata": {},
   "outputs": [],
   "source": [
    "\n"
   ]
  }
 ],
 "metadata": {
  "kernelspec": {
   "display_name": "Python 3",
   "language": "python",
   "name": "python3"
  },
  "language_info": {
   "codemirror_mode": {
    "name": "ipython",
    "version": 3
   },
   "file_extension": ".py",
   "mimetype": "text/x-python",
   "name": "python",
   "nbconvert_exporter": "python",
   "pygments_lexer": "ipython3",
   "version": "3.6.5"
  },
  "toc": {
   "base_numbering": 1,
   "nav_menu": {},
   "number_sections": true,
   "sideBar": true,
   "skip_h1_title": false,
   "title_cell": "Table of Contents",
   "title_sidebar": "Contents",
   "toc_cell": false,
   "toc_position": {},
   "toc_section_display": true,
   "toc_window_display": false
  }
 },
 "nbformat": 4,
 "nbformat_minor": 2
}
