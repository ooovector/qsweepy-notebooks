{
 "cells": [
  {
   "cell_type": "markdown",
   "metadata": {},
   "source": [
    "### Запуск QtLab"
   ]
  },
  {
   "cell_type": "code",
   "execution_count": 1,
   "metadata": {
    "scrolled": true
   },
   "outputs": [
    {
     "name": "stdout",
     "output_type": "stream",
     "text": [
      "Failed loading module Keysight_M3102A:  No module named 'keysightSD1'\n",
      "Failed loading module Keysight_M3202A:  No module named 'keysightSD1'\n",
      "\n",
      "Failed loading module Signal_Hound_SA:  name 'signal_hound_dll' is not defined\n"
     ]
    }
   ],
   "source": [
    "%matplotlib qt5\n",
    "from qsweepy import *\n",
    "from qsweepy.instruments import *\n",
    "from qsweepy.save_pkl import save_pkl\n",
    "import matplotlib.pyplot as plt\n",
    "import numpy as np\n",
    "from matplotlib import interactive\n",
    "interactive(True)"
   ]
  },
  {
   "cell_type": "code",
   "execution_count": 28,
   "metadata": {},
   "outputs": [],
   "source": [
    "#Параметры кубитов.all keys should be str\n",
    "qubits = {'1': {'r':{\n",
    "                    'Fr': 6.59783e9,\n",
    "                    'Fr_min': 6.575e9,\n",
    "                    'Fr_max': 6.62e9,\n",
    "                    'dFr': 0.1e6, # tolerance of resonator frequency\n",
    "                     'P': -65 },\n",
    "                'q':{\n",
    "                    \"F\":\n",
    "                     {'F01_min':5.50e9}, # was 5.508e9,last 5.51812\n",
    "                     'P':\n",
    "                     {'nndac_coil_id':0,\n",
    "                     'P':None,    \n",
    "                     #'Fmin_coil_currents':{0:1.74, 2:-0.300, 4:0.040}#\"\"\"2.02\"\"\"\n",
    "                    #'Fmin_coil_currents':{0:1.826, 2:-0.000, 4:0.000}#\"\"\"2.02\"\"\"\n",
    "                    #'Fmin_coil_currents':{0:1.820, 2:-0.050, 4:0.000}#\"\"\"2.02\"\"\"\n",
    "                      #'Fmin_coil_currents':{0:1.814, 2:-0.100, 4:0.000}#\"\"\"2.02\"\"\"\n",
    "                     #'Fmin_coil_currents':{0:1.79, 2:-0.200, 4:0.000}#\"\"\"2.02\"\"\"\n",
    "                    #'Fmin_coil_currents':{0:1.246, 2:-0.00, 4:-2.90}#\"\"\"2.02\"\"\"\n",
    "                      #'Fmin_coil_currents':{0:1.33, 2:-1.5, 4:-2.50},\n",
    "                      #'Fmin_coil_currents':{0:-1.6, 2:0, 4:-0},\n",
    "                      'Fmin_coil_currents':{0:-1.71, 2:0.0, 4:0.0}  \n",
    "                     }\n",
    "                    }},\n",
    "          '2': {'r':{\n",
    "                    'Fr': 6.8791e9,\n",
    "                    'Fr_min': 6.82e9,\n",
    "                    'Fr_max': 6.92e9,\n",
    "                    'dFr': 0.1e6, # tolerance of resonator frequency\n",
    "                     'P': -65 },\n",
    "                'q':{\n",
    "                    \"F\":\n",
    "                    {'F01_min':5.525e9},#5.52025\n",
    "                    'P':\n",
    "                     {\n",
    "                     'nndac_coil_id':2,\n",
    "                     'P':None, \n",
    "                     'Fmin_coil_currents':{0:0.0, 2: -1.80, 4:-0.0}\n",
    "                    #'Fmin_coil_currents':{0:1.39, 2: 1.61, 4:0.0}\n",
    "                     #'Fmin_coil_currents':{0:0, 2:1.935, 4:0}\n",
    "                     }\n",
    "                }},\n",
    "          '3': {'r':{\n",
    "                    'Fr': 6.7335e9,\n",
    "                    'Fr_min': 6.72e9,\n",
    "                    'Fr_max': 6.76e9,\n",
    "                     'dFr': 0.1e6,\n",
    "                     'P': -65 },\n",
    "                'q':{\n",
    "                    \"F\":\n",
    "                    {'F01_min':5.460e9},#5.45678\n",
    "                    'P':\n",
    "                     {\n",
    "                    'nndac_coil_id':4,\n",
    "                     'P':None, \n",
    "                    'Fmin_coil_currents':{0:0.0, 2:0.0, 4:-2.70}\n",
    "                    #'Fmin_coil_currents':{0:1.35, 2:-1.5, 4:-2.458}   \n",
    "                     }\n",
    "                }}\n",
    "         }\n",
    "\n",
    "L = np.asarray([[0.292, -0.055, 0.016], [-0.060, 0.268, 0.035], [-0.019, 0.0, 0.178]])\n",
    "I0 = np.asarray([0.118, 0.274, 0.215])\n",
    "Lpi1_inv = np.asarray([])\n",
    "\n",
    "qubit_id = '3'\n",
    "switch_to_sample = {'1':4, '2':3}\n",
    "#it should be dumped too\n",
    "#qubits_dump = {\"qubits\":qubit_params,'switch':switch_to_sample}\n",
    "#qjson.dump('qubits','qubit_params',qubits_dump)"
   ]
  },
  {
   "cell_type": "code",
   "execution_count": 3,
   "metadata": {
    "collapsed": true
   },
   "outputs": [],
   "source": [
    "def set_qubit_fluxes(fluxes):\n",
    "    zero_flux = np.asarray([L[i,i]*I0[i] for i in range(len(qubits))])\n",
    "    fluxes_corrected = fluxes+zero_flux\n",
    "    currents = np.linalg.solve(L, fluxes_corrected)\n",
    "    \n",
    "    for qubit_id_numerical, qubit_name in enumerate(['1', '2', '3']):\n",
    "        qubit_coil_id = qubits[qubit_name]['q']['nndac_coil_id']\n",
    "        dac.set_voltage(currents[qubit_id_numerical], channel=qubit_coil_id)\n",
    "        \n",
    "    print(currents, fluxes_corrected)"
   ]
  },
  {
   "cell_type": "code",
   "execution_count": 4,
   "metadata": {
    "collapsed": true
   },
   "outputs": [],
   "source": [
    "#current_src1 = Yokogawa_GS210(address='GPIB::1::INSTR')"
   ]
  },
  {
   "cell_type": "markdown",
   "metadata": {},
   "source": [
    "# Спектроскопия"
   ]
  },
  {
   "cell_type": "code",
   "execution_count": 5,
   "metadata": {},
   "outputs": [
    {
     "name": "stderr",
     "output_type": "stream",
     "text": [
      "WARNING:root:Tektronix_AWG5014 : get all not yet fully functional\n"
     ]
    }
   ],
   "source": [
    "# RF switch for making sure we know what sample we are measuring\n",
    "pna = Agilent_N5242A('pna', address = 'TCPIP0::10.20.61.48::inst0::INSTR')\n",
    "lo1 = Agilent_E8257D('lo1', address = 'TCPIP0::10.20.61.59::inst0::INSTR')\n",
    "rf_switch = nn_rf_switch('rf_switch', address='10.20.61.224')\n",
    "awg = Tektronix_AWG5014('awg_tek', address = 'TCPIP0::10.20.61.186::inst0::INSTR')\n",
    "adc = Spectrum_M3i2132('adc')\n",
    "sa = Agilent_N9030A('pxa', address = 'TCPIP0::10.20.61.56::inst0::INSTR')\n",
    "lo_ex = lo1\n",
    "lo_ro = pna\n",
    "awg_tek=awg"
   ]
  },
  {
   "cell_type": "code",
   "execution_count": 6,
   "metadata": {
    "collapsed": true
   },
   "outputs": [],
   "source": [
    "dac = nndac('TCPIP0::10.20.61.12::1000::SOCKET')"
   ]
  },
  {
   "cell_type": "code",
   "execution_count": 6,
   "metadata": {
    "collapsed": true
   },
   "outputs": [],
   "source": [
    "dac.set_voltage(qubits[qubit_id]['q']['P']['Fmin_coil_currents'][qubits[qubit_id]['q']['P']['nndac_coil_id']],\n",
    "                channel=qubits[qubit_id]['q']['P']['nndac_coil_id'])"
   ]
  },
  {
   "cell_type": "markdown",
   "metadata": {},
   "source": [
    "# Mixer bypass"
   ]
  },
  {
   "cell_type": "code",
   "execution_count": 36,
   "metadata": {},
   "outputs": [],
   "source": [
    "# когда спектроскопия не рабтает и всё плохо, тыкай сюды!\n",
    "# вектнй анлизатр цепей - в режим свипа по частоте\n",
    "pna.set_sweep_mode(\"LIN\")\n",
    "# смесители - открыть\n",
    "#awg_tek = awg\n",
    "#for channel in range(0,4):\n",
    "awg._visainstrument.write('AWGC:DOUT1 OFF')\n",
    "awg._visainstrument.write('AWGC:DOUT2 OFF')\n",
    "awg._visainstrument.write('AWGC:DOUT3 OFF')\n",
    "awg._visainstrument.write('AWGC:DOUT4 OFF')\n",
    "for channel in range(1,5):\n",
    "    awg_tek.set_amplitude(1.0, channel=channel)\n",
    "    awg_tek.set_offset(1.0, channel=channel)\n",
    "    awg_tek.set_output(1, channel=channel)\n",
    "    awg_tek.set_waveform([0]*awg_tek.get_nop(), channel=channel)\n",
    "#     \n",
    "\n",
    "# Задаём постояннmtые смещения на каналы 1 и 3\n",
    "#awg_tek.set_waveform([0]*awg_tek.get_nop(), channel=1)\n",
    "#awg_tek.set_waveform([0]*awg_tek.get_nop(), channel=2)\n",
    "#awg_tek.set_waveform([0]*awg_tek.get_nop(), channel=3)\n",
    "#awg_tek.set_waveform([0]*awg_tek.get_nop(), channel=4)"
   ]
  },
  {
   "cell_type": "markdown",
   "metadata": {},
   "source": [
    "# Резонаторная спектроскопия"
   ]
  },
  {
   "cell_type": "markdown",
   "metadata": {},
   "source": [
    "### Одномерный скан при фиксированном токе "
   ]
  },
  {
   "cell_type": "markdown",
   "metadata": {},
   "source": [
    "## Overview"
   ]
  },
  {
   "cell_type": "code",
   "execution_count": 19,
   "metadata": {
    "collapsed": true
   },
   "outputs": [],
   "source": [
    "lo1.set_status(0)\n",
    "pna.set_status(1)\n",
    "pna.set_power(-45) # \n",
    "pna.set_nop(1001)\n",
    "pna.set_bandwidth(2000)\n",
    "pna.set_xlim(6.5e9, 7.0e9)\n",
    "#pna.set_bandwidth(100)\n",
    "freqs = pna.get_freqpoints()\n",
    "S21 = pna.get_tracedata()"
   ]
  },
  {
   "cell_type": "markdown",
   "metadata": {},
   "source": [
    "## All anticrossings in same scan"
   ]
  },
  {
   "cell_type": "code",
   "execution_count": 123,
   "metadata": {},
   "outputs": [
    {
     "data": {
      "application/vnd.jupyter.widget-view+json": {
       "model_id": "e286c3546c7d46e291bd6ef5d4c11036",
       "version_major": 2,
       "version_minor": 0
      },
      "text/plain": [
       "A Jupyter Widget"
      ]
     },
     "metadata": {},
     "output_type": "display_data"
    },
    {
     "name": "stdout",
     "output_type": "stream",
     "text": [
      "Started at:  Sep 25 2018 12:57:10\n",
      "Exiting sweep main thread #{} via return 8572\n",
      "\n",
      "Elapsed time: 0 h 0 m 20.68 s\n"
     ]
    }
   ],
   "source": [
    "currents = np.linspace(-0.8e-3,0.8e-3, 101)\n",
    "current_src1.set_range(1e-2)\n",
    "current_src1.set_status(1)\n",
    "pna.set_nop(101)\n",
    "pna.set_bandwidth(500)\n",
    "pna.set_power(0)\n",
    "qubit_id='1'\n",
    "pna.set_nop((qubits[qubit_id]['r']['Fr_max']-qubits[qubit_id]['r']['Fr_min'])/qubits[qubit_id]['r']['dFr']+1)\n",
    "pna.set_xlim(qubits[qubit_id]['r']['Fr_min']-1e6, qubits[qubit_id]['r']['Fr_max'])\n",
    "result = sweep.sweep(pna, \n",
    "                    (currents, current_src1.set_current, 'YOKOGAWA_SENSEI coil z3 current'), \n",
    "                    filename='Sample 1809-001_2 YOKOGAWA_SENSEI coil z3 current'.format(coil))"
   ]
  },
  {
   "cell_type": "code",
   "execution_count": 45,
   "metadata": {
    "scrolled": true
   },
   "outputs": [
    {
     "data": {
      "application/vnd.jupyter.widget-view+json": {
       "model_id": "8f776bde438945328205aff31ca6794c",
       "version_major": 2,
       "version_minor": 0
      },
      "text/plain": [
       "A Jupyter Widget"
      ]
     },
     "metadata": {},
     "output_type": "display_data"
    },
    {
     "name": "stdout",
     "output_type": "stream",
     "text": [
      "Started at:  Oct 04 2018 10:51:18\n",
      "Exiting sweep main thread #{} via return 10104\n",
      "\n",
      "Elapsed time: 0 h 0 m 53.64 s\n"
     ]
    },
    {
     "data": {
      "application/vnd.jupyter.widget-view+json": {
       "model_id": "090c255453cf4f8ea4ae2207c379f6b9",
       "version_major": 2,
       "version_minor": 0
      },
      "text/plain": [
       "A Jupyter Widget"
      ]
     },
     "metadata": {},
     "output_type": "display_data"
    },
    {
     "name": "stdout",
     "output_type": "stream",
     "text": [
      "Started at:  Oct 04 2018 10:52:15\n",
      "Exiting sweep main thread #{} via return 5968\n",
      "\n",
      "Elapsed time: 0 h 0 m 53.62 s\n"
     ]
    }
   ],
   "source": [
    "#coil = 'z1'\n",
    "#current_max = 1.5e-3\n",
    "voltage_max = 4\n",
    "current_nop = 101\n",
    "nndac_channels = [0,4]#[21,1,7]\n",
    "#currents=np.linspace(-current_max,current_max,current_nop)\n",
    "voltages=np.linspace(-voltage_max,voltage_max,current_nop)\n",
    "#current_src1.set_status(1)\n",
    "pna.set_nop(1001)\n",
    "pna.set_power(-20)\n",
    "pna.set_bandwidth(2000)\n",
    "pna.set_power(qubits[qubit_id]['r']['P']+65) \n",
    "for nndac_channel_id in nndac_channels:\n",
    "    #set_qubit_fluxes([0,0,0])\n",
    "    def set_abstract_voltage(x):\n",
    "        dac.set_voltage(x, channel=nndac_channel_id)\n",
    "        dac.set_voltage(-x, channel=2)\n",
    "    dac.set_voltage(0.05, channel=2)\n",
    "    coil = 'NNDAC-'+str(nndac_channel_id)\n",
    "    pna.set_xlim(6.5e9,7.0e9)\n",
    "    result = sweep.sweep(pna, \n",
    "                    (voltages, #lambda x: dac.set_voltage(x, channel=nndac_channel_id), \n",
    "                     set_abstract_voltage, 'Coil #{} voltage'.format(coil)), \n",
    "                    filename='Sample 1809-001_2 sheld-in-shield Coil #{} anticrossings everything in max'.format(coil))\n",
    "    dac.set_voltage(0, channel=nndac_channel_id)"
   ]
  },
  {
   "cell_type": "code",
   "execution_count": 47,
   "metadata": {},
   "outputs": [
    {
     "data": {
      "text/plain": [
       "['',\n",
       " 'D:\\\\qtlab_replacement',\n",
       " 'C:\\\\ProgramData\\\\Anaconda3\\\\python36.zip',\n",
       " 'C:\\\\ProgramData\\\\Anaconda3\\\\DLLs',\n",
       " 'C:\\\\ProgramData\\\\Anaconda3\\\\lib',\n",
       " 'C:\\\\ProgramData\\\\Anaconda3',\n",
       " 'C:\\\\ProgramData\\\\Anaconda3\\\\lib\\\\site-packages',\n",
       " 'C:\\\\ProgramData\\\\Anaconda3\\\\lib\\\\site-packages\\\\Babel-2.5.0-py3.6.egg',\n",
       " 'C:\\\\ProgramData\\\\Anaconda3\\\\lib\\\\site-packages\\\\resonator_tools-0.1-py3.6.egg',\n",
       " 'C:\\\\ProgramData\\\\Anaconda3\\\\lib\\\\site-packages\\\\win32',\n",
       " 'C:\\\\ProgramData\\\\Anaconda3\\\\lib\\\\site-packages\\\\win32\\\\lib',\n",
       " 'C:\\\\ProgramData\\\\Anaconda3\\\\lib\\\\site-packages\\\\Pythonwin',\n",
       " 'C:\\\\ProgramData\\\\Anaconda3\\\\lib\\\\site-packages\\\\IPython\\\\extensions',\n",
       " 'C:\\\\Users\\\\User\\\\.ipython',\n",
       " 'C:\\\\Program Files (x86)\\\\Keysight\\\\SD1\\\\Libraries\\\\Python',\n",
       " 'C:\\\\Program Files (x86)\\\\Keysight\\\\SD1\\\\Libraries\\\\Python',\n",
       " 'C:\\\\Program Files (x86)\\\\Keysight\\\\SD1\\\\Libraries\\\\Python']"
      ]
     },
     "execution_count": 47,
     "metadata": {},
     "output_type": "execute_result"
    }
   ],
   "source": [
    "import sys\n",
    "sys.path"
   ]
  },
  {
   "cell_type": "markdown",
   "metadata": {},
   "source": [
    "## Resonator control (N*M) anticrossing scan"
   ]
  },
  {
   "cell_type": "code",
   "execution_count": 43,
   "metadata": {
    "scrolled": true
   },
   "outputs": [
    {
     "data": {
      "application/vnd.jupyter.widget-view+json": {
       "model_id": "1cda5145173143df9d9deb310efe1e72",
       "version_major": 2,
       "version_minor": 0
      },
      "text/plain": [
       "A Jupyter Widget"
      ]
     },
     "metadata": {},
     "output_type": "display_data"
    },
    {
     "name": "stdout",
     "output_type": "stream",
     "text": [
      "Started at:  Oct 04 2018 10:36:04\n",
      "Exiting sweep main thread #{} via return 7544\n",
      "\n",
      "Elapsed time: 0 h 1 m 34.82 s\n"
     ]
    },
    {
     "data": {
      "application/vnd.jupyter.widget-view+json": {
       "model_id": "d73e1444033b478cbb7c0fb2e718832c",
       "version_major": 2,
       "version_minor": 0
      },
      "text/plain": [
       "A Jupyter Widget"
      ]
     },
     "metadata": {},
     "output_type": "display_data"
    },
    {
     "name": "stdout",
     "output_type": "stream",
     "text": [
      "Started at:  Oct 04 2018 10:37:42\n",
      "Exiting sweep main thread #{} via return 10412\n",
      "\n",
      "Elapsed time: 0 h 3 m 27.16 s\n"
     ]
    },
    {
     "data": {
      "application/vnd.jupyter.widget-view+json": {
       "model_id": "dfb24e716af24136a31db954f8ccb45f",
       "version_major": 2,
       "version_minor": 0
      },
      "text/plain": [
       "A Jupyter Widget"
      ]
     },
     "metadata": {},
     "output_type": "display_data"
    },
    {
     "name": "stdout",
     "output_type": "stream",
     "text": [
      "Started at:  Oct 04 2018 10:41:13\n",
      "Exiting sweep main thread #{} via return 8532\n",
      "\n",
      "Elapsed time: 0 h 1 m 26.68 s\n"
     ]
    },
    {
     "data": {
      "application/vnd.jupyter.widget-view+json": {
       "model_id": "7054f4182b584af5a6c90b7cd3832987",
       "version_major": 2,
       "version_minor": 0
      },
      "text/plain": [
       "A Jupyter Widget"
      ]
     },
     "metadata": {},
     "output_type": "display_data"
    },
    {
     "name": "stdout",
     "output_type": "stream",
     "text": [
      "Started at:  Oct 04 2018 10:42:43\n",
      "Exiting sweep main thread #{} via return 10276\n",
      "\n",
      "Elapsed time: 0 h 1 m 34.86 s\n"
     ]
    },
    {
     "data": {
      "application/vnd.jupyter.widget-view+json": {
       "model_id": "5e22c85318fa4a16a9c181c3770e02a5",
       "version_major": 2,
       "version_minor": 0
      },
      "text/plain": [
       "A Jupyter Widget"
      ]
     },
     "metadata": {},
     "output_type": "display_data"
    },
    {
     "name": "stdout",
     "output_type": "stream",
     "text": [
      "Started at:  Oct 04 2018 10:44:21\n",
      "Exiting sweep main thread #{} via return 1828\n",
      "\n",
      "Elapsed time: 0 h 3 m 29.07 s\n"
     ]
    },
    {
     "data": {
      "application/vnd.jupyter.widget-view+json": {
       "model_id": "d121e808a88545bfbe53d50ad41d4e5b",
       "version_major": 2,
       "version_minor": 0
      },
      "text/plain": [
       "A Jupyter Widget"
      ]
     },
     "metadata": {},
     "output_type": "display_data"
    },
    {
     "name": "stdout",
     "output_type": "stream",
     "text": [
      "Started at:  Oct 04 2018 10:47:54\n",
      "Exiting sweep main thread #{} via return 13492\n",
      "\n",
      "Elapsed time: 0 h 1 m 26.49 s\n"
     ]
    },
    {
     "data": {
      "text/plain": [
       "True"
      ]
     },
     "execution_count": 43,
     "metadata": {},
     "output_type": "execute_result"
    }
   ],
   "source": [
    "#coil = 'z1'\n",
    "#current_max = 1.5e-3\n",
    "voltage_max = 4\n",
    "current_nop = 101\n",
    "nndac_channels = [0,4]#[18,20]#[18, 20, 16]#[21,1,7]\n",
    "#currents=np.linspace(-current_max,current_max,current_nop)\n",
    "voltages=np.linspace(-voltage_max,voltage_max,current_nop)\n",
    "#current_src1.set_status(1)\n",
    "pna.set_nop(401)\n",
    "pna.set_bandwidth(500)\n",
    "pna.set_power(qubits[qubit_id]['r']['P']+55) \n",
    "lo1.set_status(0)\n",
    "for nndac_channel_id in nndac_channels:\n",
    "    for qubit_id in ['1', '2', '3']:\n",
    "        def set_abstract_voltage(x):\n",
    "            dac.set_voltage(x, channel=nndac_channel_id)\n",
    "            dac.set_voltage(-x, channel=2)\n",
    "        #dac.set_voltage(0.480, channel=0)\n",
    "        #dac.set_voltage(1.650, channel=2)\n",
    "        #dac.set_voltage(-0.300, channel=2)#{0:0.480, 2: 1.65, 4:-0.355}\n",
    "        #dac.set_voltage(-0.375, channel=4)\n",
    "        coil = 'NNDAC-'+str(nndac_channel_id)\n",
    "        #pna.set_xlim(qubits[qubit_id]['r']['Fr']-50e6,qubits[qubit_id]['r']['Fr']+50e6)\n",
    "        pna.set_nop((qubits[qubit_id]['r']['Fr_max']-qubits[qubit_id]['r']['Fr_min'])/qubits[qubit_id]['r']['dFr']+1)\n",
    "        pna.set_xlim(qubits[qubit_id]['r']['Fr_min'], qubits[qubit_id]['r']['Fr_max'])\n",
    "        result = sweep.sweep(pna, \n",
    "                        (voltages, set_abstract_voltage, 'Coil #{} voltage, qubit{}'.format(coil,qubit_id)), \n",
    "                        filename='1809_001-2 Coil #{} anticrossings qubit {}'.format(coil, qubit_id))\n",
    "        dac.set_voltage(0, channel=0)\n",
    "        dac.set_voltage(0, channel=2)\n",
    "        dac.set_voltage(0, channel=4)\n",
    "lo1.set_status(1)"
   ]
  },
  {
   "cell_type": "markdown",
   "metadata": {},
   "source": [
    "## Function to find the resonator for two-tone scans"
   ]
  },
  {
   "cell_type": "code",
   "execution_count": 21,
   "metadata": {
    "collapsed": true
   },
   "outputs": [],
   "source": [
    "def find_resonator(resonator_id, criterion='max_dev_complex', delay=0, check=1, raise_on_error=True):\n",
    "    # turn of all second tones\n",
    "    lo1_status = lo1.get_status()\n",
    "    lo1.set_status(0)\n",
    "    # prior bandwidth\n",
    "    bandwidth = pna.get_bandwidth()\n",
    "    pna.set_bandwidth(500)\n",
    "    average = pna.get_average()\n",
    "    pna.set_average(0)\n",
    "    #pna.set_power(-60)\n",
    "    #pna.set_nop(501)\n",
    "    nop = pna.get_nop()\n",
    "    xlim = pna.get_xlim()\n",
    "    pna.set_nop((qubits[qubit_id]['r']['Fr_max']-\n",
    "                 qubits[qubit_id]['r']['Fr_min'])/qubits[qubit_id]['r']['dFr']+1)\n",
    "    pna.set_xlim(qubits[qubit_id]['r']['Fr_min'], qubits[qubit_id]['r']['Fr_max'])\n",
    "    #current_src1.set_current(current)\n",
    "    \n",
    "    # measure S21\n",
    "    results = []\n",
    "    for iteration_id in range(check+1):\n",
    "        S21 = pna.measure()['S-parameter']\n",
    "        freqs = pna.get_points()['S-parameter'][0][1]\n",
    "    \n",
    "        if (criterion == 'max_dev_complex'):\n",
    "            measurement = S21*np.exp(2*np.pi*1j*freqs*delay)\n",
    "            #plt.figure()\n",
    "            #plt.plot(freqs, np.real(measurement-np.mean(measurement)))\n",
    "            #plt.plot(freqs, np.imag(measurement-np.mean(measurement)))\n",
    "            #plt.plot(freqs, np.abs(measurement-np.mean(measurement)))\n",
    "            results.append(freqs[np.argmax(np.abs(measurement-np.mean(measurement)))])\n",
    "        if (criterion == 'min_abs'):\n",
    "            measurement = np.abs(S21)\n",
    "            results.append(freqs[np.argmin(measurement)])\n",
    "    # if resonator is off by more 3 times tolerance, raise if raise_on_error, otherwise warn\n",
    "    if (np.std(results)>qubits[qubit_id]['r']['dFr']*10):\n",
    "        if raise_on_error:\n",
    "            raise Exception('Could not find resonator')\n",
    "        else:\n",
    "            print ('Could not find resonator')\n",
    "    else: \n",
    "        print('resonator found at '+str(np.mean(results)))\n",
    "        \n",
    "    lo1.set_status(lo1_status)\n",
    "    pna.set_bandwidth(bandwidth)\n",
    "    pna.set_average(average)\n",
    "    pna.set_nop(nop)\n",
    "    pna.set_xlim(*xlim)\n",
    "    \n",
    "    return np.mean(results)"
   ]
  },
  {
   "cell_type": "code",
   "execution_count": 22,
   "metadata": {},
   "outputs": [
    {
     "name": "stdout",
     "output_type": "stream",
     "text": [
      "resonator found at 6821800000.0\n"
     ]
    }
   ],
   "source": [
    "qubit_id='2'\n",
    "delay = 70e-9\n",
    "res_freq = find_resonator(qubit_id, criterion='max_dev_complex', delay=delay, check=1, raise_on_error=False)"
   ]
  },
  {
   "cell_type": "markdown",
   "metadata": {},
   "source": [
    "# Two-Tone Scan"
   ]
  },
  {
   "cell_type": "code",
   "execution_count": 25,
   "metadata": {
    "scrolled": true
   },
   "outputs": [
    {
     "data": {
      "application/vnd.jupyter.widget-view+json": {
       "model_id": "f96738a9fde44f23ac454e9961de365e",
       "version_major": 2,
       "version_minor": 0
      },
      "text/plain": [
       "A Jupyter Widget"
      ]
     },
     "metadata": {},
     "output_type": "display_data"
    },
    {
     "name": "stdout",
     "output_type": "stream",
     "text": [
      "Started at:  Oct 03 2018 15:52:47\n",
      "resonator found at 6575600000.0\n",
      "resonator found at 6576150000.0\n",
      "resonator found at 6575600000.0\n",
      "resonator found at 6575350000.0\n",
      "Could not find resonator\n",
      "Could not find resonator\n",
      "resonator found at 6618650000.0\n",
      "Could not find resonator\n",
      "Could not find resonator\n",
      "Could not find resonator\n",
      "resonator found at 6590350000.0\n",
      "Could not find resonator\n",
      "Could not find resonator\n",
      "Could not find resonator\n",
      "Could not find resonator\n",
      "resonator found at 6616750000.0\n",
      "resonator found at 6589700000.0\n",
      "Could not find resonator\n",
      "Could not find resonator\n",
      "Could not find resonator\n",
      "Could not find resonator\n",
      "resonator found at 6589300000.0\n",
      "Could not find resonator\n",
      "resonator found at 6589100000.0\n",
      "Could not find resonator\n",
      "resonator found at 6589000000.0\n",
      "Could not find resonator\n",
      "Could not find resonator\n",
      "resonator found at 6614000000.0\n",
      "Could not find resonator\n",
      "Could not find resonator\n",
      "resonator found at 6617700000.0\n",
      "resonator found at 6616450000.0\n",
      "resonator found at 6614800000.0\n",
      "resonator found at 6615200000.0\n",
      "resonator found at 6614150000.0\n",
      "resonator found at 6613400000.0\n",
      "resonator found at 6612700000.0\n",
      "resonator found at 6612200000.0\n",
      "resonator found at 6608750000.0\n",
      "resonator found at 6608350000.0\n",
      "resonator found at 6608050000.0\n",
      "resonator found at 6607700000.0\n",
      "resonator found at 6607100000.0\n",
      "resonator found at 6607350000.0\n",
      "resonator found at 6604950000.0\n",
      "resonator found at 6604800000.0\n",
      "resonator found at 6604750000.0\n",
      "resonator found at 6604250000.0\n",
      "resonator found at 6604200000.0\n",
      "resonator found at 6603850000.0\n",
      "resonator found at 6603600000.0\n",
      "resonator found at 6603150000.0\n",
      "resonator found at 6603000000.0\n",
      "resonator found at 6602500000.0\n",
      "resonator found at 6602350000.0\n",
      "resonator found at 6602150000.0\n",
      "resonator found at 6601800000.0\n",
      "resonator found at 6601800000.0\n",
      "resonator found at 6601350000.0\n",
      "resonator found at 6601150000.0\n",
      "resonator found at 6601050000.0\n",
      "resonator found at 6600800000.0\n",
      "resonator found at 6600750000.0\n",
      "resonator found at 6600600000.0\n",
      "resonator found at 6600250000.0\n",
      "resonator found at 6600200000.0\n",
      "resonator found at 6600000000.0\n",
      "resonator found at 6599850000.0\n",
      "resonator found at 6599650000.0\n",
      "resonator found at 6599800000.0\n",
      "resonator found at 6599800000.0\n",
      "resonator found at 6599600000.0\n",
      "resonator found at 6599550000.0\n",
      "resonator found at 6599500000.0\n",
      "resonator found at 6599400000.0\n",
      "resonator found at 6599250000.0\n",
      "resonator found at 6599200000.0\n",
      "resonator found at 6599100000.0\n",
      "resonator found at 6599050000.0\n",
      "resonator found at 6598850000.0\n",
      "resonator found at 6598850000.0\n",
      "resonator found at 6598750000.0\n",
      "resonator found at 6598750000.0\n",
      "resonator found at 6598750000.0\n",
      "resonator found at 6598650000.0\n",
      "resonator found at 6598550000.0\n",
      "resonator found at 6598500000.0\n",
      "resonator found at 6598450000.0\n",
      "resonator found at 6598400000.0\n",
      "resonator found at 6598400000.0\n",
      "resonator found at 6598300000.0\n",
      "resonator found at 6598350000.0\n",
      "resonator found at 6598300000.0\n",
      "resonator found at 6598200000.0\n",
      "resonator found at 6598150000.0\n",
      "resonator found at 6598150000.0\n",
      "resonator found at 6598150000.0\n",
      "resonator found at 6598100000.0\n",
      "resonator found at 6598100000.0\n",
      "resonator found at 6598050000.0\n",
      "resonator found at 6597950000.0\n",
      "resonator found at 6598000000.0\n",
      "resonator found at 6597900000.0\n",
      "resonator found at 6597900000.0\n",
      "resonator found at 6597850000.0\n",
      "resonator found at 6597800000.0\n",
      "resonator found at 6597800000.0\n",
      "resonator found at 6597800000.0\n",
      "resonator found at 6597800000.0\n",
      "resonator found at 6597750000.0\n",
      "resonator found at 6597800000.0\n",
      "resonator found at 6597750000.0\n",
      "resonator found at 6597700000.0\n",
      "resonator found at 6597650000.0\n",
      "resonator found at 6597700000.0\n",
      "resonator found at 6597650000.0\n",
      "resonator found at 6597650000.0\n",
      "resonator found at 6597650000.0\n",
      "resonator found at 6597700000.0\n",
      "resonator found at 6597650000.0\n",
      "resonator found at 6597650000.0\n",
      "resonator found at 6597600000.0\n",
      "resonator found at 6597650000.0\n",
      "resonator found at 6597650000.0\n",
      "resonator found at 6597600000.0\n",
      "resonator found at 6597600000.0\n",
      "resonator found at 6597600000.0\n",
      "resonator found at 6597600000.0\n",
      "resonator found at 6597600000.0\n",
      "resonator found at 6597550000.0\n",
      "resonator found at 6597550000.0\n",
      "resonator found at 6597600000.0\n",
      "resonator found at 6597650000.0\n",
      "resonator found at 6597650000.0\n",
      "resonator found at 6597600000.0\n",
      "resonator found at 6597650000.0\n",
      "resonator found at 6597600000.0\n",
      "resonator found at 6597650000.0\n",
      "resonator found at 6597600000.0\n",
      "resonator found at 6597650000.0\n",
      "resonator found at 6597700000.0\n",
      "resonator found at 6597700000.0\n",
      "resonator found at 6597650000.0\n",
      "resonator found at 6597700000.0\n",
      "resonator found at 6597750000.0\n",
      "resonator found at 6597750000.0\n",
      "resonator found at 6597750000.0\n",
      "resonator found at 6597700000.0\n",
      "resonator found at 6597800000.0\n",
      "resonator found at 6597800000.0\n",
      "resonator found at 6597800000.0\n",
      "resonator found at 6597850000.0\n",
      "resonator found at 6597900000.0\n",
      "resonator found at 6597900000.0\n",
      "resonator found at 6597900000.0\n",
      "resonator found at 6597950000.0\n",
      "resonator found at 6597950000.0\n",
      "resonator found at 6598000000.0\n",
      "resonator found at 6598000000.0\n",
      "resonator found at 6598000000.0\n",
      "resonator found at 6598100000.0\n",
      "resonator found at 6598100000.0\n",
      "resonator found at 6598150000.0\n",
      "resonator found at 6598200000.0\n",
      "resonator found at 6598200000.0\n",
      "resonator found at 6598250000.0\n",
      "resonator found at 6598300000.0\n",
      "resonator found at 6598300000.0\n",
      "resonator found at 6598400000.0\n",
      "resonator found at 6598450000.0\n",
      "resonator found at 6598450000.0\n",
      "resonator found at 6598550000.0\n",
      "resonator found at 6598600000.0\n",
      "resonator found at 6598700000.0\n",
      "resonator found at 6598700000.0\n",
      "resonator found at 6598750000.0\n",
      "resonator found at 6598800000.0\n",
      "resonator found at 6598900000.0\n",
      "resonator found at 6598950000.0\n",
      "resonator found at 6599000000.0\n",
      "resonator found at 6599000000.0\n",
      "resonator found at 6599100000.0\n",
      "resonator found at 6599150000.0\n",
      "resonator found at 6599250000.0\n",
      "resonator found at 6599300000.0\n",
      "resonator found at 6599400000.0\n",
      "resonator found at 6599550000.0\n",
      "resonator found at 6599600000.0\n",
      "resonator found at 6599700000.0\n",
      "resonator found at 6599800000.0\n",
      "resonator found at 6599900000.0\n",
      "resonator found at 6600000000.0\n",
      "resonator found at 6600100000.0\n",
      "resonator found at 6600250000.0\n",
      "resonator found at 6600300000.0\n",
      "resonator found at 6600450000.0\n",
      "resonator found at 6600550000.0\n",
      "resonator found at 6600750000.0\n",
      "resonator found at 6600850000.0\n",
      "resonator found at 6601100000.0\n",
      "Exiting sweep main thread #{} via return 7256\n",
      "\n",
      "Elapsed time: 0 h 19 m 33.33 s\n"
     ]
    },
    {
     "data": {
      "application/vnd.jupyter.widget-view+json": {
       "model_id": "31f589584fcf4ae48100bb9684f0eb1e",
       "version_major": 2,
       "version_minor": 0
      },
      "text/plain": [
       "A Jupyter Widget"
      ]
     },
     "metadata": {},
     "output_type": "display_data"
    },
    {
     "name": "stdout",
     "output_type": "stream",
     "text": [
      "Started at:  Oct 03 2018 16:12:23\n",
      "resonator found at 6889050000.0\n",
      "resonator found at 6888750000.0\n",
      "resonator found at 6888350000.0\n",
      "resonator found at 6888000000.0\n",
      "resonator found at 6887650000.0\n",
      "resonator found at 6887250000.0\n",
      "resonator found at 6887000000.0\n",
      "resonator found at 6886850000.0\n",
      "resonator found at 6886550000.0\n",
      "resonator found at 6886300000.0\n",
      "resonator found at 6886250000.0\n",
      "resonator found at 6885950000.0\n",
      "resonator found at 6885750000.0\n",
      "resonator found at 6885500000.0\n",
      "resonator found at 6885350000.0\n",
      "resonator found at 6885150000.0\n",
      "resonator found at 6885000000.0\n",
      "resonator found at 6884800000.0\n",
      "resonator found at 6884650000.0\n",
      "resonator found at 6884550000.0\n",
      "resonator found at 6884300000.0\n",
      "resonator found at 6884100000.0\n",
      "resonator found at 6884150000.0\n",
      "resonator found at 6883900000.0\n",
      "resonator found at 6883800000.0\n",
      "resonator found at 6883650000.0\n",
      "resonator found at 6883450000.0\n",
      "resonator found at 6883400000.0\n",
      "resonator found at 6883300000.0\n",
      "resonator found at 6883150000.0\n",
      "resonator found at 6882950000.0\n",
      "resonator found at 6883000000.0\n",
      "resonator found at 6882750000.0\n",
      "resonator found at 6882650000.0\n",
      "resonator found at 6882500000.0\n",
      "resonator found at 6882500000.0\n",
      "resonator found at 6882400000.0\n",
      "resonator found at 6882250000.0\n",
      "resonator found at 6882150000.0\n",
      "resonator found at 6882100000.0\n",
      "resonator found at 6882000000.0\n",
      "resonator found at 6881900000.0\n",
      "resonator found at 6881900000.0\n",
      "resonator found at 6881700000.0\n",
      "resonator found at 6881750000.0\n",
      "resonator found at 6881550000.0\n",
      "resonator found at 6881500000.0\n",
      "resonator found at 6881450000.0\n",
      "resonator found at 6881350000.0\n",
      "resonator found at 6881250000.0\n",
      "resonator found at 6881200000.0\n",
      "resonator found at 6881100000.0\n",
      "resonator found at 6881150000.0\n",
      "resonator found at 6881050000.0\n",
      "resonator found at 6880950000.0\n",
      "resonator found at 6881050000.0\n",
      "resonator found at 6880900000.0\n",
      "resonator found at 6880850000.0\n",
      "resonator found at 6880700000.0\n",
      "resonator found at 6880700000.0\n",
      "resonator found at 6880650000.0\n",
      "resonator found at 6880650000.0\n",
      "resonator found at 6880600000.0\n",
      "resonator found at 6880500000.0\n",
      "resonator found at 6880450000.0\n",
      "resonator found at 6880400000.0\n",
      "resonator found at 6880350000.0\n",
      "resonator found at 6880400000.0\n",
      "resonator found at 6880300000.0\n",
      "resonator found at 6880300000.0\n",
      "resonator found at 6880150000.0\n",
      "resonator found at 6880250000.0\n",
      "resonator found at 6880100000.0\n",
      "resonator found at 6880050000.0\n",
      "resonator found at 6880000000.0\n",
      "resonator found at 6880000000.0\n",
      "resonator found at 6880000000.0\n",
      "resonator found at 6879950000.0\n",
      "resonator found at 6879900000.0\n",
      "resonator found at 6879900000.0\n",
      "resonator found at 6879950000.0\n",
      "resonator found at 6879800000.0\n",
      "resonator found at 6879850000.0\n",
      "resonator found at 6879900000.0\n",
      "resonator found at 6879800000.0\n",
      "resonator found at 6879750000.0\n",
      "resonator found at 6879750000.0\n",
      "resonator found at 6879700000.0\n",
      "resonator found at 6879700000.0\n",
      "resonator found at 6879750000.0\n",
      "resonator found at 6879700000.0\n",
      "resonator found at 6879600000.0\n",
      "resonator found at 6879650000.0\n",
      "resonator found at 6879800000.0\n",
      "resonator found at 6879700000.0\n",
      "resonator found at 6879650000.0\n",
      "resonator found at 6879650000.0\n",
      "resonator found at 6879650000.0\n",
      "resonator found at 6879650000.0\n",
      "resonator found at 6879650000.0\n",
      "resonator found at 6879650000.0\n",
      "resonator found at 6879650000.0\n",
      "resonator found at 6879700000.0\n",
      "resonator found at 6879600000.0\n",
      "resonator found at 6879700000.0\n",
      "resonator found at 6879600000.0\n",
      "resonator found at 6879600000.0\n",
      "resonator found at 6879600000.0\n",
      "resonator found at 6879550000.0\n",
      "resonator found at 6879500000.0\n",
      "resonator found at 6879550000.0\n",
      "resonator found at 6879700000.0\n",
      "resonator found at 6879700000.0\n",
      "resonator found at 6879700000.0\n",
      "resonator found at 6879650000.0\n",
      "resonator found at 6879650000.0\n",
      "resonator found at 6879750000.0\n",
      "resonator found at 6879700000.0\n",
      "resonator found at 6879700000.0\n",
      "resonator found at 6879700000.0\n",
      "resonator found at 6879700000.0\n",
      "resonator found at 6879700000.0\n",
      "resonator found at 6879750000.0\n",
      "resonator found at 6879750000.0\n",
      "resonator found at 6879750000.0\n",
      "resonator found at 6879800000.0\n",
      "resonator found at 6879800000.0\n",
      "resonator found at 6879850000.0\n",
      "resonator found at 6879750000.0\n",
      "resonator found at 6879850000.0\n",
      "resonator found at 6879950000.0\n",
      "resonator found at 6879850000.0\n",
      "resonator found at 6879850000.0\n",
      "resonator found at 6879950000.0\n",
      "resonator found at 6879950000.0\n",
      "resonator found at 6879950000.0\n",
      "resonator found at 6880050000.0\n",
      "resonator found at 6880000000.0\n",
      "resonator found at 6880100000.0\n",
      "resonator found at 6880050000.0\n",
      "resonator found at 6880200000.0\n",
      "resonator found at 6880100000.0\n",
      "resonator found at 6880200000.0\n",
      "resonator found at 6880150000.0\n",
      "resonator found at 6880150000.0\n",
      "resonator found at 6880300000.0\n",
      "resonator found at 6880300000.0\n",
      "resonator found at 6880300000.0\n",
      "resonator found at 6880400000.0\n",
      "resonator found at 6880350000.0\n",
      "resonator found at 6880400000.0\n",
      "resonator found at 6880550000.0\n",
      "resonator found at 6880500000.0\n",
      "resonator found at 6880550000.0\n",
      "resonator found at 6880650000.0\n",
      "resonator found at 6880750000.0\n",
      "resonator found at 6880650000.0\n",
      "resonator found at 6880850000.0\n",
      "resonator found at 6880850000.0\n",
      "resonator found at 6880850000.0\n",
      "resonator found at 6881000000.0\n",
      "resonator found at 6880950000.0\n",
      "resonator found at 6881100000.0\n",
      "resonator found at 6881150000.0\n",
      "resonator found at 6881150000.0\n",
      "resonator found at 6881200000.0\n",
      "resonator found at 6881350000.0\n",
      "resonator found at 6881450000.0\n",
      "resonator found at 6881550000.0\n",
      "resonator found at 6881650000.0\n",
      "resonator found at 6881750000.0\n",
      "resonator found at 6881750000.0\n",
      "resonator found at 6882100000.0\n",
      "resonator found at 6882100000.0\n",
      "resonator found at 6882350000.0\n",
      "Could not find resonator\n",
      "resonator found at 6879050000.0\n",
      "resonator found at 6879150000.0\n",
      "resonator found at 6879250000.0\n",
      "resonator found at 6879450000.0\n",
      "resonator found at 6879250000.0\n",
      "resonator found at 6879050000.0\n",
      "resonator found at 6879450000.0\n",
      "resonator found at 6880000000.0\n",
      "resonator found at 6879850000.0\n",
      "resonator found at 6879100000.0\n",
      "resonator found at 6880050000.0\n",
      "resonator found at 6880850000.0\n",
      "resonator found at 6881000000.0\n",
      "resonator found at 6881100000.0\n",
      "resonator found at 6881150000.0\n",
      "resonator found at 6881200000.0\n",
      "resonator found at 6881350000.0\n",
      "resonator found at 6881400000.0\n",
      "resonator found at 6881550000.0\n",
      "resonator found at 6881700000.0\n",
      "resonator found at 6881700000.0\n",
      "resonator found at 6881800000.0\n",
      "resonator found at 6881850000.0\n",
      "resonator found at 6882000000.0\n",
      "resonator found at 6882050000.0\n",
      "Exiting sweep main thread #{} via return 13924\n",
      "\n",
      "Elapsed time: 0 h 27 m 2.12 s\n"
     ]
    },
    {
     "data": {
      "application/vnd.jupyter.widget-view+json": {
       "model_id": "d7257e4dc2914a7a8961269fb75c6335",
       "version_major": 2,
       "version_minor": 0
      },
      "text/plain": [
       "A Jupyter Widget"
      ]
     },
     "metadata": {},
     "output_type": "display_data"
    },
    {
     "name": "stdout",
     "output_type": "stream",
     "text": [
      "Started at:  Oct 03 2018 16:39:29\n",
      "resonator found at 6733500000.0\n",
      "resonator found at 6733450000.0\n",
      "resonator found at 6733500000.0\n",
      "resonator found at 6733450000.0\n",
      "resonator found at 6733450000.0\n",
      "resonator found at 6733450000.0\n",
      "resonator found at 6733500000.0\n",
      "resonator found at 6733400000.0\n",
      "resonator found at 6733400000.0\n",
      "resonator found at 6733450000.0\n",
      "resonator found at 6733400000.0\n",
      "resonator found at 6733400000.0\n",
      "resonator found at 6733400000.0\n",
      "resonator found at 6733400000.0\n",
      "resonator found at 6733400000.0\n",
      "resonator found at 6733400000.0\n",
      "resonator found at 6733400000.0\n",
      "resonator found at 6733400000.0\n",
      "resonator found at 6733350000.0\n",
      "resonator found at 6733450000.0\n",
      "resonator found at 6733400000.0\n",
      "resonator found at 6733400000.0\n",
      "resonator found at 6733300000.0\n",
      "resonator found at 6733400000.0\n",
      "resonator found at 6733450000.0\n",
      "resonator found at 6733450000.0\n",
      "resonator found at 6733400000.0\n",
      "resonator found at 6733400000.0\n",
      "resonator found at 6733350000.0\n",
      "resonator found at 6733400000.0\n",
      "resonator found at 6733400000.0\n",
      "resonator found at 6733400000.0\n",
      "resonator found at 6733300000.0\n",
      "resonator found at 6733400000.0\n",
      "resonator found at 6733300000.0\n",
      "resonator found at 6733400000.0\n",
      "resonator found at 6733350000.0\n",
      "resonator found at 6733400000.0\n",
      "resonator found at 6733350000.0\n",
      "resonator found at 6733400000.0\n",
      "resonator found at 6733450000.0\n",
      "resonator found at 6733400000.0\n",
      "resonator found at 6733350000.0\n",
      "resonator found at 6733400000.0\n",
      "resonator found at 6733450000.0\n",
      "resonator found at 6733400000.0\n",
      "resonator found at 6733400000.0\n",
      "resonator found at 6733400000.0\n",
      "resonator found at 6733400000.0\n",
      "resonator found at 6733450000.0\n",
      "resonator found at 6733450000.0\n",
      "resonator found at 6733450000.0\n",
      "resonator found at 6733450000.0\n",
      "resonator found at 6733450000.0\n",
      "resonator found at 6733500000.0\n",
      "resonator found at 6733500000.0\n",
      "resonator found at 6733450000.0\n",
      "resonator found at 6733500000.0\n",
      "resonator found at 6733500000.0\n",
      "resonator found at 6733500000.0\n",
      "resonator found at 6733450000.0\n",
      "resonator found at 6733500000.0\n",
      "resonator found at 6733550000.0\n",
      "resonator found at 6733550000.0\n",
      "resonator found at 6733550000.0\n",
      "resonator found at 6733550000.0\n",
      "resonator found at 6733500000.0\n",
      "resonator found at 6733600000.0\n",
      "resonator found at 6733650000.0\n",
      "resonator found at 6733600000.0\n",
      "resonator found at 6733650000.0\n",
      "resonator found at 6733600000.0\n",
      "resonator found at 6733700000.0\n",
      "resonator found at 6733650000.0\n",
      "resonator found at 6733650000.0\n",
      "resonator found at 6733700000.0\n",
      "resonator found at 6733700000.0\n",
      "resonator found at 6733700000.0\n",
      "resonator found at 6733700000.0\n",
      "resonator found at 6733750000.0\n",
      "resonator found at 6733750000.0\n",
      "resonator found at 6733800000.0\n",
      "resonator found at 6733800000.0\n",
      "resonator found at 6733800000.0\n",
      "resonator found at 6733800000.0\n",
      "resonator found at 6733850000.0\n",
      "resonator found at 6733900000.0\n",
      "resonator found at 6733900000.0\n",
      "resonator found at 6733900000.0\n",
      "resonator found at 6733950000.0\n",
      "resonator found at 6733950000.0\n",
      "resonator found at 6734000000.0\n",
      "resonator found at 6734000000.0\n",
      "resonator found at 6734000000.0\n",
      "resonator found at 6734000000.0\n",
      "resonator found at 6734050000.0\n",
      "resonator found at 6734050000.0\n",
      "resonator found at 6734100000.0\n",
      "resonator found at 6734100000.0\n",
      "resonator found at 6734200000.0\n",
      "resonator found at 6734200000.0\n",
      "resonator found at 6734250000.0\n",
      "resonator found at 6734250000.0\n",
      "resonator found at 6734250000.0\n",
      "resonator found at 6734300000.0\n",
      "resonator found at 6734350000.0\n",
      "resonator found at 6734350000.0\n",
      "resonator found at 6734350000.0\n",
      "resonator found at 6734400000.0\n",
      "resonator found at 6734400000.0\n",
      "resonator found at 6734400000.0\n",
      "resonator found at 6734550000.0\n",
      "resonator found at 6734600000.0\n",
      "resonator found at 6734600000.0\n",
      "resonator found at 6734600000.0\n",
      "resonator found at 6734650000.0\n",
      "resonator found at 6734700000.0\n",
      "resonator found at 6734700000.0\n",
      "resonator found at 6734750000.0\n",
      "resonator found at 6734800000.0\n",
      "resonator found at 6734800000.0\n",
      "resonator found at 6734850000.0\n",
      "resonator found at 6734900000.0\n",
      "resonator found at 6734900000.0\n",
      "resonator found at 6735000000.0\n",
      "resonator found at 6735000000.0\n",
      "resonator found at 6735000000.0\n",
      "resonator found at 6735100000.0\n",
      "resonator found at 6735200000.0\n",
      "resonator found at 6735200000.0\n",
      "resonator found at 6735200000.0\n",
      "resonator found at 6735300000.0\n",
      "resonator found at 6735350000.0\n",
      "resonator found at 6735400000.0\n",
      "resonator found at 6735450000.0\n",
      "resonator found at 6735450000.0\n",
      "resonator found at 6735600000.0\n",
      "resonator found at 6735600000.0\n",
      "resonator found at 6735650000.0\n",
      "resonator found at 6735650000.0\n",
      "resonator found at 6735700000.0\n",
      "resonator found at 6735800000.0\n",
      "resonator found at 6735850000.0\n",
      "resonator found at 6735900000.0\n",
      "resonator found at 6736000000.0\n",
      "resonator found at 6736100000.0\n",
      "resonator found at 6736200000.0\n",
      "resonator found at 6736150000.0\n",
      "resonator found at 6736250000.0\n",
      "resonator found at 6736350000.0\n",
      "resonator found at 6736450000.0\n",
      "resonator found at 6736500000.0\n",
      "resonator found at 6736550000.0\n",
      "resonator found at 6736700000.0\n",
      "resonator found at 6736750000.0\n",
      "resonator found at 6736800000.0\n",
      "resonator found at 6736850000.0\n",
      "resonator found at 6737000000.0\n",
      "resonator found at 6737150000.0\n",
      "resonator found at 6737200000.0\n",
      "resonator found at 6737300000.0\n",
      "resonator found at 6737350000.0\n",
      "resonator found at 6737550000.0\n",
      "resonator found at 6737650000.0\n",
      "resonator found at 6737750000.0\n",
      "resonator found at 6737850000.0\n",
      "resonator found at 6737950000.0\n",
      "resonator found at 6738100000.0\n",
      "resonator found at 6738150000.0\n",
      "resonator found at 6738400000.0\n",
      "resonator found at 6738500000.0\n",
      "resonator found at 6738550000.0\n",
      "resonator found at 6738750000.0\n",
      "resonator found at 6738900000.0\n",
      "resonator found at 6739100000.0\n",
      "resonator found at 6739200000.0\n",
      "resonator found at 6739450000.0\n",
      "resonator found at 6739600000.0\n",
      "resonator found at 6739750000.0\n",
      "resonator found at 6740100000.0\n",
      "resonator found at 6740300000.0\n",
      "resonator found at 6740450000.0\n",
      "resonator found at 6740550000.0\n",
      "resonator found at 6740700000.0\n",
      "resonator found at 6741100000.0\n",
      "resonator found at 6741250000.0\n",
      "resonator found at 6741450000.0\n",
      "resonator found at 6741650000.0\n",
      "resonator found at 6742050000.0\n",
      "resonator found at 6742500000.0\n",
      "resonator found at 6742400000.0\n",
      "resonator found at 6742750000.0\n",
      "resonator found at 6743050000.0\n",
      "resonator found at 6743250000.0\n",
      "resonator found at 6743600000.0\n",
      "resonator found at 6744000000.0\n",
      "resonator found at 6744400000.0\n",
      "resonator found at 6745000000.0\n",
      "resonator found at 6745400000.0\n",
      "resonator found at 6746350000.0\n",
      "resonator found at 6746250000.0\n",
      "Exiting sweep main thread #{} via return 14468\n",
      "\n",
      "Elapsed time: 0 h 18 m 48.16 s\n"
     ]
    }
   ],
   "source": [
    "voltage_max = 4\n",
    "voltage_nop = 201\n",
    "freq_nop = 61\n",
    "nndac_channels = [0,2,4]\n",
    "voltages=np.linspace(-3,-1,voltage_nop)\n",
    "#voltages=np.linspace(-voltage_max,voltage_max,voltage_nop)\n",
    "freqs= np.linspace(5.3e9,5.7e9,freq_nop)\n",
    "pna.set_nop(1)\n",
    "pna.set_bandwidth(25)\n",
    "lo1.set_power(-15)\n",
    "lo1.set_status(1)\n",
    "delay = 70e-9\n",
    "for qubit_id in ['1', '2', '3']:\n",
    "    for nndac_channel_id in [qubits[qubit_id]['q']['P']['nndac_coil_id']]:\n",
    "#for nndac_channel_id in nndac_channels:\n",
    "#    for qubit_id in ['1', '2', '3']:\n",
    "        pna.set_power(qubits[qubit_id]['r']['P']+50)\n",
    "        try: \n",
    "            coil = 'NNDAC-'+str(nndac_channel_id)\n",
    "            dac.set_voltage(0, channel=0)\n",
    "            dac.set_voltage(0, channel=2)\n",
    "            dac.set_voltage(0, channel=4)\n",
    "            def set_volt_res(x):\n",
    "                dac.set_voltage(x, channel=nndac_channel_id)\n",
    "                res_freq = find_resonator(qubit_id, criterion='max_dev_complex', delay=delay,\n",
    "                                          check=1, raise_on_error=False)\n",
    "                pna.set_frequency(res_freq)\n",
    "                pna.set_centerfreq(res_freq)\n",
    "            result = sweep.sweep(pna,\n",
    "                                 (voltages, set_volt_res, 'Coil #{} voltage, qubit{}'.format(coil,qubit_id)),\n",
    "                                 (freqs,lo1.set_frequency, 'Excitation frequency', 'Hz'),\n",
    "                                 filename='Sample 1809_001-2 Coil #{} two-tone qubit{}'.format(coil,qubit_id))\n",
    "            dac.set_voltage(0,nndac_channel_id)\n",
    "        except KeyboardInterrupt:\n",
    "            for nndac_channel in nndac_channels:\n",
    "                dac.set_voltage(0,nndac_channel)\n",
    "            raise\n",
    "        finally:\n",
    "            for nndac_channel in nndac_channels:\n",
    "                dac.set_voltage(0,nndac_channel)"
   ]
  },
  {
   "cell_type": "markdown",
   "metadata": {},
   "source": [
    "# Inductance matrix"
   ]
  },
  {
   "cell_type": "code",
   "execution_count": 55,
   "metadata": {
    "collapsed": true
   },
   "outputs": [],
   "source": [
    "import qsweepy.save_pkl"
   ]
  },
  {
   "cell_type": "markdown",
   "metadata": {},
   "source": [
    "## visualization of anticrossing"
   ]
  },
  {
   "cell_type": "code",
   "execution_count": 107,
   "metadata": {
    "scrolled": true
   },
   "outputs": [
    {
     "name": "stdout",
     "output_type": "stream",
     "text": [
      "D:\\data\\2018-09-25\\10-00-51-1808_072-2 Coil #NNDAC-18 anticrossings qubit 1/1808_072-2 Coil #NNDAC-18 anticrossings qubit 1.pkl\n",
      "-1.0196176348\n",
      "D:\\data\\2018-09-25\\10-03-28-1808_072-2 Coil #NNDAC-18 anticrossings qubit 2/1808_072-2 Coil #NNDAC-18 anticrossings qubit 2.pkl\n",
      "-2.22031254233\n",
      "D:\\data\\2018-09-25\\10-07-19-1808_072-2 Coil #NNDAC-18 anticrossings qubit 3/1808_072-2 Coil #NNDAC-18 anticrossings qubit 3.pkl\n",
      "-0.894897177689\n",
      "D:\\data\\2018-09-25\\10-09-55-1808_072-2 Coil #NNDAC-20 anticrossings qubit 1/1808_072-2 Coil #NNDAC-20 anticrossings qubit 1.pkl\n",
      "-1.03462142961\n",
      "D:\\data\\2018-09-25\\10-12-35-1808_072-2 Coil #NNDAC-20 anticrossings qubit 2/1808_072-2 Coil #NNDAC-20 anticrossings qubit 2.pkl\n",
      "-2.230807924\n",
      "D:\\data\\2018-09-25\\10-16-25-1808_072-2 Coil #NNDAC-20 anticrossings qubit 3/1808_072-2 Coil #NNDAC-20 anticrossings qubit 3.pkl\n",
      "-0.762598594434\n",
      "D:\\data\\2018-09-25\\10-19-05-1808_072-2 Coil #NNDAC-16 anticrossings qubit 1/1808_072-2 Coil #NNDAC-16 anticrossings qubit 1.pkl\n",
      "5.01619560885\n",
      "D:\\data\\2018-09-25\\10-21-43-1808_072-2 Coil #NNDAC-16 anticrossings qubit 2/1808_072-2 Coil #NNDAC-16 anticrossings qubit 2.pkl\n",
      "-2.17878514287\n",
      "D:\\data\\2018-09-25\\10-25-33-1808_072-2 Coil #NNDAC-16 anticrossings qubit 3/1808_072-2 Coil #NNDAC-16 anticrossings qubit 3.pkl\n",
      "-0.836206094467\n",
      "D:\\data\\2018-09-25\\10-00-51-1808_072-2 Coil #NNDAC-18 anticrossings qubit 1/1808_072-2 Coil #NNDAC-18 anticrossings qubit 1.pkl\n",
      "D:\\data\\2018-09-25\\10-03-28-1808_072-2 Coil #NNDAC-18 anticrossings qubit 2/1808_072-2 Coil #NNDAC-18 anticrossings qubit 2.pkl\n",
      "D:\\data\\2018-09-25\\10-07-19-1808_072-2 Coil #NNDAC-18 anticrossings qubit 3/1808_072-2 Coil #NNDAC-18 anticrossings qubit 3.pkl\n",
      "D:\\data\\2018-09-25\\10-09-55-1808_072-2 Coil #NNDAC-20 anticrossings qubit 1/1808_072-2 Coil #NNDAC-20 anticrossings qubit 1.pkl\n",
      "D:\\data\\2018-09-25\\10-12-35-1808_072-2 Coil #NNDAC-20 anticrossings qubit 2/1808_072-2 Coil #NNDAC-20 anticrossings qubit 2.pkl\n",
      "D:\\data\\2018-09-25\\10-16-25-1808_072-2 Coil #NNDAC-20 anticrossings qubit 3/1808_072-2 Coil #NNDAC-20 anticrossings qubit 3.pkl\n",
      "D:\\data\\2018-09-25\\10-19-05-1808_072-2 Coil #NNDAC-16 anticrossings qubit 1/1808_072-2 Coil #NNDAC-16 anticrossings qubit 1.pkl\n",
      "D:\\data\\2018-09-25\\10-21-43-1808_072-2 Coil #NNDAC-16 anticrossings qubit 2/1808_072-2 Coil #NNDAC-16 anticrossings qubit 2.pkl\n",
      "D:\\data\\2018-09-25\\10-25-33-1808_072-2 Coil #NNDAC-16 anticrossings qubit 3/1808_072-2 Coil #NNDAC-16 anticrossings qubit 3.pkl\n",
      "-4.24859502251e-08\n"
     ]
    }
   ],
   "source": [
    "# plot all anitcrossings on one axes\n",
    "figs, axes = plt.subplots(3,3, figsize=(12,9))\n",
    "locations = [[r'D:\\data\\2018-09-19\\17-35-56-Sample 1 Coil #NNDAC-0 anticrossings qubit 1', \n",
    "              r'D:\\data\\2018-09-19\\17-38-23-Sample 1 Coil #NNDAC-0 anticrossings qubit 2',\n",
    "              r'D:\\data\\2018-09-19\\17-43-49-Sample 1 Coil #NNDAC-0 anticrossings qubit 3'],\n",
    "            [r'D:\\data\\2018-09-19\\17-48-29-Sample 1 Coil #NNDAC-2 anticrossings qubit 1',\n",
    "             r'D:\\data\\2018-09-19\\17-50-56-Sample 1 Coil #NNDAC-2 anticrossings qubit 2',\n",
    "             r'D:\\data\\2018-09-19\\17-56-23-Sample 1 Coil #NNDAC-2 anticrossings qubit 3'],\n",
    "            [r'D:\\data\\2018-09-19\\18-01-03-Sample 1 Coil #NNDAC-4 anticrossings qubit 1',\n",
    "             r'D:\\data\\2018-09-19\\18-03-30-Sample 1 Coil #NNDAC-4 anticrossings qubit 2',\n",
    "             r'D:\\data\\2018-09-19\\18-08-56-Sample 1 Coil #NNDAC-4 anticrossings qubit 3']]\n",
    "locations = [[r'D:\\data\\2018-09-25\\10-00-51-1808_072-2 Coil #NNDAC-18 anticrossings qubit 1',\n",
    "             r'D:\\data\\2018-09-25\\10-03-28-1808_072-2 Coil #NNDAC-18 anticrossings qubit 2',\n",
    "             r'D:\\data\\2018-09-25\\10-07-19-1808_072-2 Coil #NNDAC-18 anticrossings qubit 3'],\n",
    "             [r'D:\\data\\2018-09-25\\10-09-55-1808_072-2 Coil #NNDAC-20 anticrossings qubit 1', \n",
    "              r'D:\\data\\2018-09-25\\10-12-35-1808_072-2 Coil #NNDAC-20 anticrossings qubit 2',\n",
    "              r'D:\\data\\2018-09-25\\10-16-25-1808_072-2 Coil #NNDAC-20 anticrossings qubit 3'],\n",
    "            [r'D:\\data\\2018-09-25\\10-19-05-1808_072-2 Coil #NNDAC-16 anticrossings qubit 1',\n",
    "             r'D:\\data\\2018-09-25\\10-21-43-1808_072-2 Coil #NNDAC-16 anticrossings qubit 2',\n",
    "             r'D:\\data\\2018-09-25\\10-25-33-1808_072-2 Coil #NNDAC-16 anticrossings qubit 3']]\n",
    "#files = [['Sample 1 Coil #NNDAC-{0} anticrossings qubit {1}'.format(i,j) for j in ['1', '2', '3'] ] for i in [0,2,4]]\n",
    "files = [['1808_072-2 Coil #NNDAC-{0} anticrossings qubit {1}'.format(i,j) for j in ['1', '2', '3']]\n",
    "        for i in [18, 20, 16]]\n",
    "delays = []\n",
    "for row_id in range(len(locations)):\n",
    "    for column_id in range(len(locations[0])):\n",
    "        data = qsweepy.save_pkl.load_pkl(files[row_id][column_id],locations[row_id][column_id])[1]['S-parameter']\n",
    "        unwrapped = np.unwrap(np.angle(data[2])).T\n",
    "        delays.append((unwrapped[-1,:]-unwrapped[0,:]+2*np.pi)/(data[1][1][-1]-data[1][1][0]))\n",
    "        print (np.median((unwrapped[-1,:]-unwrapped[0,:]+2*np.pi)))\n",
    "delay = np.median(delays)\n",
    "\n",
    "anticrossing_matrix = []\n",
    "\n",
    "for row_id in range(len(locations)):\n",
    "    anticrossing_row = []\n",
    "    for column_id in range(len(locations[0])):\n",
    "        data = qsweepy.save_pkl.load_pkl(files[row_id][column_id],locations[row_id][column_id])[1]['S-parameter']\n",
    "        #unwrapped = np.unwrap(np.angle(data[2])).T\n",
    "        #phase_diff = unwrapped[-1,:]-unwrapped[0,:]\n",
    "        #data_nodelay = (data[2]*np.exp(-1j*np.linspace(0,np.median(phase_diff),unwrapped.shape[0]))).T\n",
    "        data_nodelay = (data[2]*np.exp(-1j*delay*data[1][1])).T\n",
    "        data_deviation_complex = data_nodelay - np.mean(data_nodelay, axis=0)\n",
    "        anticrossing_row.append(data_deviation_complex)\n",
    "        #axes[row_id,column_id].pcolormesh(data[1][0], data[1][1], np.angle(data_nodelay), cmap='RdBu')\n",
    "        im = axes[row_id,column_id].pcolormesh(data[1][0], data[1][1], np.abs(data_deviation_complex), cmap='RdBu_r')\n",
    "        plt.colorbar(im, ax=axes[row_id, column_id])\n",
    "    anticrossing_matrix.append(anticrossing_row)\n",
    "plt.tight_layout()\n",
    "print (delay/2/np.pi)"
   ]
  },
  {
   "cell_type": "code",
   "execution_count": 96,
   "metadata": {},
   "outputs": [
    {
     "name": "stdout",
     "output_type": "stream",
     "text": [
      "42.5883575884 1\n"
     ]
    },
    {
     "data": {
      "text/plain": [
       "(201, array([-4.  , -3.96, -3.92, -3.88, -3.84, -3.8 , -3.76, -3.72, -3.68,\n",
       "        -3.64, -3.6 , -3.56, -3.52, -3.48, -3.44, -3.4 , -3.36, -3.32,\n",
       "        -3.28, -3.24, -3.2 , -3.16, -3.12, -3.08, -3.04, -3.  , -2.96,\n",
       "        -2.92, -2.88, -2.84, -2.8 , -2.76, -2.72, -2.68, -2.64, -2.6 ,\n",
       "        -2.56, -2.52, -2.48, -2.44, -2.4 , -2.36, -2.32, -2.28, -2.24,\n",
       "        -2.2 , -2.16, -2.12, -2.08, -2.04, -2.  , -1.96, -1.92, -1.88,\n",
       "        -1.84, -1.8 , -1.76, -1.72, -1.68, -1.64, -1.6 , -1.56, -1.52,\n",
       "        -1.48, -1.44, -1.4 , -1.36, -1.32, -1.28, -1.24, -1.2 , -1.16,\n",
       "        -1.12, -1.08, -1.04, -1.  , -0.96, -0.92, -0.88, -0.84, -0.8 ,\n",
       "        -0.76, -0.72, -0.68, -0.64, -0.6 , -0.56, -0.52, -0.48, -0.44,\n",
       "        -0.4 , -0.36, -0.32, -0.28, -0.24, -0.2 , -0.16, -0.12, -0.08,\n",
       "        -0.04,  0.  ,  0.04,  0.08,  0.12,  0.16,  0.2 ,  0.24,  0.28,\n",
       "         0.32,  0.36,  0.4 ,  0.44,  0.48,  0.52,  0.56,  0.6 ,  0.64,\n",
       "         0.68,  0.72,  0.76,  0.8 ,  0.84,  0.88,  0.92,  0.96,  1.  ,\n",
       "         1.04,  1.08,  1.12,  1.16,  1.2 ,  1.24,  1.28,  1.32,  1.36,\n",
       "         1.4 ,  1.44,  1.48,  1.52,  1.56,  1.6 ,  1.64,  1.68,  1.72,\n",
       "         1.76,  1.8 ,  1.84,  1.88,  1.92,  1.96,  2.  ,  2.04,  2.08,\n",
       "         2.12,  2.16,  2.2 ,  2.24,  2.28,  2.32,  2.36,  2.4 ,  2.44,\n",
       "         2.48,  2.52,  2.56,  2.6 ,  2.64,  2.68,  2.72,  2.76,  2.8 ,\n",
       "         2.84,  2.88,  2.92,  2.96,  3.  ,  3.04,  3.08,  3.12,  3.16,\n",
       "         3.2 ,  3.24,  3.28,  3.32,  3.36,  3.4 ,  3.44,  3.48,  3.52,\n",
       "         3.56,  3.6 ,  3.64,  3.68,  3.72,  3.76,  3.8 ,  3.84,  3.88,\n",
       "         3.92,  3.96,  4.  ]))"
      ]
     },
     "execution_count": 96,
     "metadata": {},
     "output_type": "execute_result"
    }
   ],
   "source": [
    "plt.figure()\n",
    "centre_pix, period_pix = fitting.xcorr_centre_period(anticrossing_matrix[1][1], axis=1, drop_size=0)\n",
    "\n",
    "#centre_par = resonator_reference_spectrum['S-parameter'][1][0][int(centre_reference_pixels)], \n",
    "#period_par = (resonator_reference_spectrum['S-parameter'][1][0][1]-resonator_reference_spectrum['S-parameter'][1][0][0])*period_reference_pixels\n",
    "print (centre_pix, period_pix)\n",
    "len(data[1][0]), data[1][0]"
   ]
  },
  {
   "cell_type": "code",
   "execution_count": 87,
   "metadata": {},
   "outputs": [
    {
     "data": {
      "text/plain": [
       "(81, 201)"
      ]
     },
     "execution_count": 87,
     "metadata": {},
     "output_type": "execute_result"
    }
   ],
   "source": [
    "anticrossing_matrix[0][0].shape"
   ]
  },
  {
   "cell_type": "markdown",
   "metadata": {},
   "source": [
    "# Nice Q1-Q2 anticrossing for demonstration"
   ]
  },
  {
   "cell_type": "markdown",
   "metadata": {},
   "source": [
    "## Qubit-resonator anticrossings at non-zero bias on second control"
   ]
  },
  {
   "cell_type": "code",
   "execution_count": 111,
   "metadata": {
    "scrolled": true
   },
   "outputs": [
    {
     "data": {
      "application/vnd.jupyter.widget-view+json": {
       "model_id": "cf4a93ff52a64a67854c1679c10f4adf",
       "version_major": 2,
       "version_minor": 0
      },
      "text/plain": [
       "A Jupyter Widget"
      ]
     },
     "metadata": {},
     "output_type": "display_data"
    },
    {
     "name": "stdout",
     "output_type": "stream",
     "text": [
      "Started at:  Sep 20 2018 12:00:30\n",
      "Exiting sweep main thread #{} via return 8744\n",
      "\n",
      "Elapsed time: 0 h 4 m 9.0 s\n"
     ]
    }
   ],
   "source": [
    "#coil = 'z1'\n",
    "#current_max = 1.5e-3\n",
    "voltage_max = 4\n",
    "current_nop = 101\n",
    "nndac_channels = [2]#[21,1,7]\n",
    "#currents=np.linspace(-current_max,current_max,current_nop)\n",
    "voltages=np.linspace(-voltage_max,voltage_max,current_nop)\n",
    "#current_src1.set_status(1)\n",
    "pna.set_nop(501)\n",
    "pna.set_bandwidth(500)\n",
    "pna.set_power(qubits[qubit_id]['r']['P']) \n",
    "coil2_voltage = 1.5\n",
    "for nndac_channel_id in nndac_channels:\n",
    "    for qubit_id in ['2']:\n",
    "        dac.set_voltage(coil2_voltage, channel=0)\n",
    "        coil = 'NNDAC-'+str(nndac_channel_id)\n",
    "        #pna.set_xlim(qubits[qubit_id]['r']['Fr']-50e6,qubits[qubit_id]['r']['Fr']+50e6)\n",
    "        pna.set_nop((qubits[qubit_id]['r']['Fr_max']-qubits[qubit_id]['r']['Fr_min'])/qubits[qubit_id]['r']['dFr']+1)\n",
    "        pna.set_xlim(qubits[qubit_id]['r']['Fr_min'], qubits[qubit_id]['r']['Fr_max'])\n",
    "        result = sweep.sweep(pna, \n",
    "                        (voltages, lambda x: dac.set_voltage(x, channel=nndac_channel_id), 'Coil #{} voltage, qubit{}'.format(coil,qubit_id)), \n",
    "                        filename='1809-001_2 Coil #{} anticrossings qubit {}'.format(coil, qubit_id))\n",
    "        dac.set_voltage(0, channel=nndac_channel_id)"
   ]
  },
  {
   "cell_type": "markdown",
   "metadata": {},
   "source": [
    "## Qubit-resonator anticrossing at abstract control parameter for high-quality anticrossing picture"
   ]
  },
  {
   "cell_type": "code",
   "execution_count": 114,
   "metadata": {
    "scrolled": true
   },
   "outputs": [
    {
     "data": {
      "application/vnd.jupyter.widget-view+json": {
       "model_id": "e7a24feb4c39461d8a020ed4e7d51244",
       "version_major": 2,
       "version_minor": 0
      },
      "text/plain": [
       "A Jupyter Widget"
      ]
     },
     "metadata": {},
     "output_type": "display_data"
    },
    {
     "name": "stdout",
     "output_type": "stream",
     "text": [
      "Started at:  Sep 20 2018 12:16:13\n",
      "Exiting sweep main thread #{} via return 11612\n",
      "\n",
      "Elapsed time: 0 h 4 m 11.24 s\n"
     ]
    }
   ],
   "source": [
    "#coil = 'z1'\n",
    "#current_max = 1.5e-3\n",
    "voltage_max = 2.5\n",
    "current_nop = 101\n",
    "nndac_channels = [2]#[21,1,7]\n",
    "#currents=np.linspace(-current_max,current_max,current_nop)\n",
    "voltages=np.linspace(-voltage_max,voltage_max,current_nop)\n",
    "#current_src1.set_status(1)\n",
    "pna.set_nop(501)\n",
    "pna.set_bandwidth(500)\n",
    "pna.set_power(qubits[qubit_id]['r']['P']) \n",
    "coil2_voltage = 1.5\n",
    "for nndac_channel_id in nndac_channels:\n",
    "    for qubit_id in ['2']:\n",
    "        dac.set_voltage(coil2_voltage, channel=0)\n",
    "        coil = 'NNDAC-'+str(nndac_channel_id)\n",
    "        #pna.set_xlim(qubits[qubit_id]['r']['Fr']-50e6,qubits[qubit_id]['r']['Fr']+50e6)\n",
    "        pna.set_nop((qubits[qubit_id]['r']['Fr_max']-qubits[qubit_id]['r']['Fr_min'])/qubits[qubit_id]['r']['dFr']+1)\n",
    "        pna.set_xlim(qubits[qubit_id]['r']['Fr_min'], qubits[qubit_id]['r']['Fr_max'])\n",
    "        def set_sweep_parameter(V):\n",
    "            dac.set_voltage(1.5-V, channel=0)\n",
    "            dac.set_voltage(1.5+V, channel=2)\n",
    "        result = sweep.sweep(pna, \n",
    "                        (voltages, set_sweep_parameter, 'Abstract voltage-like sweep parameter'.format(coil,qubit_id)), \n",
    "                        filename='1809-001_2 Coil #{} anticrossings qubit {}'.format(coil, qubit_id))\n",
    "        dac.set_voltage(0, channel=nndac_channel_id)"
   ]
  },
  {
   "cell_type": "markdown",
   "metadata": {},
   "source": [
    "## Qubit-qubit anticrossing vs abstract control parameter"
   ]
  },
  {
   "cell_type": "code",
   "execution_count": null,
   "metadata": {
    "scrolled": true
   },
   "outputs": [],
   "source": [
    "voltage_max = 4\n",
    "voltage_nop = 271\n",
    "freq_nop = 501\n",
    "nndac_channels = [0]\n",
    "voltages=np.linspace(0,2.7,voltage_nop)\n",
    "#voltages=np.linspace(-voltage_max,voltage_max,voltage_nop)\n",
    "freqs= np.linspace(5.4e9,5.9e9,freq_nop)\n",
    "pna.set_nop(1)\n",
    "pna.set_bandwidth(50)\n",
    "lo1.set_power(-5)\n",
    "lo1.set_status(1)\n",
    "delay = 55e-9\n",
    "for nndac_channel_id in nndac_channels:\n",
    "    for qubit_id in ['2', '3']:\n",
    "        pna.set_power(qubits[qubit_id]['r']['P'])\n",
    "        try: \n",
    "            coil = 'NNDAC-'+str(nndac_channel_id)\n",
    "            def set_volt_res(V):\n",
    "                dac.set_voltage(2.0-V, channel=2)\n",
    "                dac.set_voltage(-V, channel=4)\n",
    "                #dac.set_voltage(x, channel=nndac_channel_id)\n",
    "                res_freq = find_resonator(qubit_id, criterion='min_abs', delay=delay, check=1, raise_on_error=False)\n",
    "                pna.set_frequency(res_freq)\n",
    "                pna.set_centerfreq(res_freq)\n",
    "            result = sweep.sweep(pna,\n",
    "                                 (voltages, set_volt_res, 'Abstract voltage-like sweep parameter'.format(coil,qubit_id)),\n",
    "                                 (freqs,lo1.set_frequency, 'Excitation frequency', 'Hz'),\n",
    "                                 filename='Sample 1809-001_2 Coil #{} two-tone qubit{}'.format(coil,qubit_id))\n",
    "            dac.set_voltage(0,nndac_channel_id)\n",
    "        except KeyboardInterrupt:\n",
    "            for nndac_channel in nndac_channels:\n",
    "                dac.set_voltage(0,nndac_channel)\n",
    "            raise\n",
    "        finally:\n",
    "            for nndac_channel in nndac_channels:\n",
    "                dac.set_voltage(0,nndac_channel)\n",
    "                \n"
   ]
  },
  {
   "cell_type": "markdown",
   "metadata": {},
   "source": [
    "## Simple two-tone"
   ]
  },
  {
   "cell_type": "code",
   "execution_count": 18,
   "metadata": {},
   "outputs": [
    {
     "data": {
      "application/vnd.jupyter.widget-view+json": {
       "model_id": "34d452ceed0e432880bef307d07462a0",
       "version_major": 2,
       "version_minor": 0
      },
      "text/plain": [
       "A Jupyter Widget"
      ]
     },
     "metadata": {},
     "output_type": "display_data"
    },
    {
     "name": "stdout",
     "output_type": "stream",
     "text": [
      "Started at:  Sep 19 2018 19:21:26\n",
      "resonator found at 6892100000.0\n",
      "resonator found at 6890600000.0\n",
      "resonator found at 6889300000.0\n",
      "resonator found at 6888000000.0\n",
      "resonator found at 6887000000.0\n",
      "resonator found at 6886300000.0\n",
      "resonator found at 6885500000.0\n",
      "resonator found at 6885100000.0\n",
      "resonator found at 6884600000.0\n",
      "resonator found at 6884000000.0\n",
      "resonator found at 6883500000.0\n",
      "resonator found at 6883100000.0\n",
      "resonator found at 6882900000.0\n",
      "resonator found at 6882500000.0\n",
      "resonator found at 6882300000.0\n",
      "resonator found at 6882200000.0\n",
      "resonator found at 6881800000.0\n",
      "resonator found at 6881800000.0\n",
      "resonator found at 6881700000.0\n",
      "resonator found at 6881400000.0\n",
      "resonator found at 6881600000.0\n",
      "resonator found at 6881200000.0\n",
      "resonator found at 6881200000.0\n",
      "resonator found at 6881100000.0\n",
      "resonator found at 6881100000.0\n",
      "resonator found at 6881200000.0\n",
      "resonator found at 6880900000.0\n",
      "resonator found at 6881000000.0\n",
      "resonator found at 6881400000.0\n",
      "resonator found at 6881300000.0\n",
      "resonator found at 6881100000.0\n",
      "resonator found at 6881500000.0\n",
      "resonator found at 6881700000.0\n",
      "resonator found at 6881700000.0\n",
      "resonator found at 6881600000.0\n",
      "resonator found at 6881900000.0\n",
      "resonator found at 6881900000.0\n",
      "resonator found at 6882300000.0\n",
      "resonator found at 6882700000.0\n",
      "resonator found at 6882800000.0\n",
      "resonator found at 6883100000.0\n",
      "Exiting sweep main thread #{} via return 12052\n",
      "\n",
      "Elapsed time: 0 h 22 m 19.41 s\n"
     ]
    }
   ],
   "source": [
    "voltage_max = 4\n",
    "voltage_nop = 41\n",
    "freq_nop = 401\n",
    "nndac_channels = [2]\n",
    "voltages=np.linspace(1,2.7,voltage_nop)\n",
    "#voltages=np.linspace(-voltage_max,voltage_max,voltage_nop)\n",
    "freqs= np.linspace(5e9,6.2e9,freq_nop)\n",
    "pna.set_nop(1)\n",
    "pna.set_bandwidth(50)\n",
    "lo1.set_power(-0)\n",
    "lo1.set_status(1)\n",
    "delay = 55e-9\n",
    "for nndac_channel_id in nndac_channels:\n",
    "    for qubit_id in ['2']:\n",
    "        pna.set_power(qubits[qubit_id]['r']['P'])\n",
    "        try: \n",
    "            coil = 'NNDAC-'+str(nndac_channel_id)\n",
    "            def set_volt_res(x):\n",
    "                dac.set_voltage(x, channel=nndac_channel_id)\n",
    "                res_freq = find_resonator(qubit_id, criterion='min_abs', delay=delay, check=1, raise_on_error=False)\n",
    "                pna.set_frequency(res_freq)\n",
    "                pna.set_centerfreq(res_freq)\n",
    "            result = sweep.sweep(pna,\n",
    "                                 (voltages, set_volt_res, 'Coil #{} voltage, qubit{}'.format(coil,qubit_id)),\n",
    "                                 (freqs,lo1.set_frequency, 'Excitation frequency', 'Hz'),\n",
    "                                 filename='Sample 809-001_2 Coil #{} two-tone qubit{}'.format(coil,qubit_id))\n",
    "            dac.set_voltage(0,nndac_channel_id)\n",
    "        except KeyboardInterrupt:\n",
    "            for nndac_channel in nndac_channels:\n",
    "                dac.set_voltage(0,nndac_channel)\n",
    "            raise\n",
    "        finally:\n",
    "            for nndac_channel in nndac_channels:\n",
    "                dac.set_voltage(0,nndac_channel)\n",
    "                \n"
   ]
  },
  {
   "cell_type": "markdown",
   "metadata": {},
   "source": [
    "## Кубитная спектроскопия"
   ]
  },
  {
   "cell_type": "markdown",
   "metadata": {},
   "source": [
    "# Импульсы"
   ]
  },
  {
   "cell_type": "markdown",
   "metadata": {},
   "source": [
    "### Загружаем импульсные скрипты всякие"
   ]
  },
  {
   "cell_type": "code",
   "execution_count": 7,
   "metadata": {},
   "outputs": [
    {
     "data": {
      "text/plain": [
       "<module 'qsweepy.sweep' from 'D:\\\\qtlab_replacement\\\\qsweepy\\\\sweep.py'>"
      ]
     },
     "execution_count": 7,
     "metadata": {},
     "output_type": "execute_result"
    }
   ],
   "source": [
    "import imp\n",
    "imp.reload(awg_digital)\n",
    "imp.reload(awg_iq_multi)\n",
    "imp.reload(data_reduce)\n",
    "imp.reload(fitting)\n",
    "imp.reload(plotting)\n",
    "imp.reload(tomography)\n",
    "imp.reload(sweep)\n",
    "\n"
   ]
  },
  {
   "cell_type": "code",
   "execution_count": 8,
   "metadata": {},
   "outputs": [
    {
     "data": {
      "text/plain": [
       "True"
      ]
     },
     "execution_count": 8,
     "metadata": {},
     "output_type": "execute_result"
    }
   ],
   "source": [
    "# Источник тока - в autorange\n",
    "#current.set_autorange(1)\n",
    "#Мощности гетеродинов, постоянные\n",
    "#Мощность гетеродина для возбуждения 13-16 дБм\n",
    "\n",
    "lo_ex_pow = 14\n",
    "lo_ex.set_status(1)\n",
    "lo_ro_pow = 16\n",
    "lo_ro.set_power(lo_ro_pow)\n",
    "\n",
    "pna.write(\"OUTP ON\")\n",
    "pna.write(\"SOUR1:POW1:MODE ON\")\n",
    "pna.write(\"SOUR1:POW2:MODE OFF\")\n",
    "pna.set_sweep_mode(\"CW\")\n",
    "lo_ex.set_power(lo_ex_pow)\n",
    "\n",
    "marker_length = 100\n",
    "readout_trigger_delay = 185\n",
    "trg_length = 10e-9\n",
    "\n",
    "ex_clock = 1e9\n",
    "ro_clock = 1e9\n",
    "\n",
    "rep_rate = 20e3 # частота повторений эксперимента\n",
    "\n",
    "awg.stop()\n",
    "awg.check_cached=True\n",
    "#awg_tek.set_clock(ex_clock) # клок всех авгшк\n",
    "awg.set_nop(ex_clock/rep_rate) # репрейт нужно задавать по=хорошему только на управляющей,\n",
    "awg.run()\n",
    "# а вот длину сэмплов, которая очевидно то же самое, нужно задавать на всех авгшках.\n",
    "# хорошо, что сейчас она только одна.\n",
    "#this is zashkvar\n",
    "\n",
    "# channel 0 is master and triggers all others\n",
    "# M3202A settings (ignored on AWG5014C)\n",
    "awg._visainstrument.write('AWGC:DOUT1 ON')\n",
    "awg._visainstrument.write('AWGC:DOUT2 ON')\n",
    "awg._visainstrument.write('AWGC:DOUT3 ON')\n",
    "awg._visainstrument.write('AWGC:DOUT4 ON')\n",
    "awg.trigger_source_types = [0, 6,6,6]\n",
    "awg.trigger_source_channels = [0, 4000,4000,4000] # pxi trigger 0 \n",
    "awg.trigger_delays = [40, 0,0,0] # master channel should wait 400 ns for others to start\n",
    "awg.trigger_behaviours = [0,4,4,4] #rising edge trigger\n",
    "#for channel in range(0,4): #M3202A\n",
    "for channel in range(1,5): #AWG5014C\n",
    "    awg.set_amplitude(0.6, channel=channel)\n",
    "    awg.set_offset(0, channel=channel)\n",
    "    awg.set_output(1, channel=channel)\n",
    "    awg.set_waveform([0]*awg_tek.get_nop(), channel=channel)\n",
    "\n",
    "    \n",
    "#awg.set_marker(length=marker_length, delay=0, channel=0) #M3202A\n",
    "\n",
    "\n",
    "awg_channels =dict()\n",
    "ro_trg = awg_digital.awg_digital(awg_tek, 1)\n",
    "#ro_trg.mode = 'set_delay' #M3202A\n",
    "#ro_trg.delay_setter = lambda x: adc.set_trigger_delay(int(x*adc.get_clock()/iq_ex.get_clock()-readout_trigger_delay)) #M3202A\n",
    "ro_trg.mode = 'waveform' #AWG5014C\n",
    "awg_channels['ro_trg'] = ro_trg\n",
    "# К первому маркере первого канала тектроникса подсоединён триггер оцифровщика.\n",
    "# Надо подавать какой-нибудь триггер, что-ли.\n",
    "# А ещё нужно подавать клок. К сожалению наш оцифровщик не может в 1ГГц клок, ему нужен 500МГц клок.\n",
    "# Будем подавать 500 МГц с цифрового выхода тектроникса.\n",
    "# AWG5014C\n",
    "awg_tek.set_marker1_low(-0.0, channel=1)\n",
    "awg_tek.set_marker2_low(-0.0, channel=1)\n",
    "awg_tek.set_marker1_high(1.0, channel=1)\n",
    "awg_tek.set_marker2_high(1.0, channel=1)\n",
    "awg_tek.set_marker1_low(-0.04, channel=2)\n",
    "awg_tek.set_marker2_low(-0.04, channel=2) \n",
    "awg_tek.set_marker1_high(0.04, channel=2) # с клока хватит и такой амплитуды\n",
    "awg_tek.set_marker2_high(0.04, channel=2) # с клока хватит и такой амплитуды\n",
    "\n",
    "# настройки оцифровщика\n",
    "# Spectrum M3i-3212\n",
    "adc.reset()            \n",
    "adc.set_timeout(10000)\n",
    "adc.set_clock(ro_clock)\n",
    "\n",
    "#adc.set_spc_samplerate(smp_rate)\n",
    "#External trigger\n",
    "adc.set_trigger_ext0_level0(0) # logical 0 value to 200 mV\n",
    "adc.set_trigger_ext0_level1(1300) # logical 1 value to 600 mV\n",
    "adc.trigger_termination_50Ohm()\n",
    "adc.trigger_mode_pos()\n",
    "adc.set_trigger_ext0_pulsewidth(0)\n",
    "adc.disable_trigger_output()\n",
    "adc.select_channel01()\n",
    "adc.set_multi_mode()\n",
    "# #adc.set_segmentsize()\n",
    "adc.set_trigger_ORmask_tmask_ext0()\n",
    "adc.set_trigger_ANDmask_tmask_ext0()\n",
    "adc.set_trigger_ORmask_tmask_NO_ch0()\n",
    "adc.set_trigger_ORmask_tmask_NO_ch1()\n",
    "adc.set_trigger_ANDmask_tmask_NO_ch0()\n",
    "adc.set_trigger_ANDmask_tmask_NO_ch1()\n",
    "# # усилитель на оцифровщике\n",
    "adc.set_input_amp_ch0(50)\n",
    "adc.set_input_amp_ch1(50)\n",
    "adc.set_input_offset_ch0(0)\n",
    "adc.set_input_offset_ch1(0)\n",
    "\n",
    "# #External clock\n",
    "# adc.set_reference_clock(adc.get_clock()) #500 MHz clock\n",
    "adc.set_reference_clock(10e6) #500 MHz clock\n",
    "\n",
    "#adc.set_input(channel=1, input=1)\n",
    "#adc.set_input(channel=2, input=1)\n",
    "#adc.set_trigger_external(channel=1)\n",
    "#adc.set_trigger_external(channel=2)"
   ]
  },
  {
   "cell_type": "markdown",
   "metadata": {},
   "source": [
    "### Калибровка миксеров"
   ]
  },
  {
   "cell_type": "code",
   "execution_count": 9,
   "metadata": {
    "scrolled": true
   },
   "outputs": [
    {
     "name": "stdout",
     "output_type": "stream",
     "text": [
      "Excitation channel\n",
      "d:\\data/calibrations/iq-dc/ lo_freq-5.7e+09\n",
      "d:\\data/calibrations/iq-rf/ frequency-5.5e+09-if--2e+08-sideband_id-     0\n",
      "d:\\data/calibrations/iq-rf/ frequency-5.525e+09-if--1.75e+08-sideband_id-     0\n",
      "d:\\data/calibrations/iq-rf/ frequency-5.46e+09-if--2.4e+08-sideband_id-     0\n",
      "Readout channel\n",
      "d:\\data/calibrations/iq-dc/ lo_freq-6.7e+09\n",
      "d:\\data/calibrations/iq-rf/ frequency-6.598e+09-if--1.022e+08-sideband_id-     0\n",
      "d:\\data/calibrations/iq-rf/ frequency-6.879e+09-if-1.791e+08-sideband_id-     0\n",
      "d:\\data/calibrations/iq-rf/ frequency-6.734e+09-if-3.35e+07-sideband_id-     0\n"
     ]
    }
   ],
   "source": [
    "#ro_if = 75e6\n",
    "lo_freq = 5.7e9\n",
    "lo_ro_freq = 6.7e9\n",
    "    \n",
    "imp.reload(awg_iq_multi)\n",
    "# промежуточные частоты для гетеродинной схемы new:\n",
    "lo1.set_frequency(lo_freq)\n",
    "lo_ro.set_frequency(lo_ro_freq)\n",
    "#iq_ex = awg_iq_multi.awg_iq_multi(awg_tek, awg_tek, 0, 1, lo_ex) #M3202A\n",
    "#iq_ro = awg_iq_multi.awg_iq_multi(awg_tek, awg_tek, 2, 3, lo_ro) #M3202A\n",
    "iq_ex = awg_iq_multi.awg_iq_multi(awg_tek, awg_tek, 1, 2, lo_ex) #M3202A\n",
    "iq_ro = awg_iq_multi.awg_iq_multi(awg_tek, awg_tek, 4, 3, lo_ro) #AWG5014C\n",
    "readout_channels = {}\n",
    "for _qubit_id, qubit in qubits.items():\n",
    "    for tr,freq in qubits[_qubit_id]['q']['F'].items():\n",
    "        iq_ex.carriers['iq_ex_q{}_'.format(_qubit_id)+tr] = awg_iq_multi.carrier(iq_ex)\n",
    "        iq_ex.carriers['iq_ex_q{}_'.format(_qubit_id)+tr].set_frequency(freq)\n",
    "        awg_channels['iq_ex_q{}_'.format(_qubit_id)+tr]=iq_ex.carriers['iq_ex_q{}_'.format(_qubit_id)+tr]\n",
    "        iq_ro.carriers['iq_ro_q{}'.format(_qubit_id)] = awg_iq_multi.carrier(iq_ro)\n",
    "        iq_ro.carriers['iq_ro_q{}'.format(_qubit_id)].set_frequency(qubits[_qubit_id]['r']['Fr'])\n",
    "        awg_channels['iq_ro_q{}'.format(_qubit_id)] = iq_ro.carriers['iq_ro_q{}'.format(_qubit_id)]\n",
    "        readout_channels['iq_ro_q{}'.format(_qubit_id)] = awg_channels['iq_ro_q{}'.format(_qubit_id)]\n",
    "\n",
    "pg = pulses.pulses(awg_channels)\n",
    "#print(ex_if*1e-6 ,lo_freq)\n",
    "\n",
    "print(\"Excitation channel\", end='\\n')\n",
    "iq_ex.do_calibration(sa)\n",
    "print(\"Readout channel\", end='\\n')\n",
    "iq_ro.do_calibration(sa)"
   ]
  },
  {
   "cell_type": "markdown",
   "metadata": {},
   "source": [
    "## задержка считывания"
   ]
  },
  {
   "cell_type": "code",
   "execution_count": 10,
   "metadata": {},
   "outputs": [
    {
     "name": "stderr",
     "output_type": "stream",
     "text": [
      "D:\\qtlab_replacement\\qsweepy\\instrument_drivers\\Tektronix_AWG5014.py:649: ComplexWarning: Casting complex values to real discards the imaginary part\n",
      "  m1[:] = marker[:len(m1)]\n"
     ]
    },
    {
     "name": "stdout",
     "output_type": "stream",
     "text": [
      "-2e-07 -200.0\n",
      "0.0 0.0\n"
     ]
    },
    {
     "data": {
      "text/plain": [
       "{'iq_ro_q1': {'coherent_background': array([-3.72-8.54j, -6.52-9.38j, -4.38-9.56j, ..., -1.98-7.14j,\n",
       "         -2.22-8.18j, -3.24-6.42j]),\n",
       "  'feature': array([ 0.01282826+0.09939703j, -0.08177491+0.08364337j,\n",
       "         -0.05910810-0.05205975j, ..., -0.08074696+0.08571687j,\n",
       "         -0.06089372-0.04930914j,  0.04628466-0.11362298j]),\n",
       "  'iq_calibration': array([-0.02252720+0.00517636j,  0.03535545+0.09422067j])},\n",
       " 'iq_ro_q2': {'coherent_background': array([-3.72-8.54j, -6.52-9.38j, -4.38-9.56j, ..., -1.98-7.14j,\n",
       "         -2.22-8.18j, -3.24-6.42j]),\n",
       "  'feature': array([ 0.03851069+0.04042096j,  0.00856113-0.07641858j,\n",
       "         -0.04927493+0.05566305j, ..., -0.01448912-0.06629092j,\n",
       "         -0.03383228+0.07220651j,  0.05702773-0.02449709j]),\n",
       "  'iq_calibration': array([-0.01353940-0.00085983j,  0.05205009+0.04128078j])},\n",
       " 'iq_ro_q3': {'coherent_background': array([-3.72-8.54j, -6.52-9.38j, -4.38-9.56j, ..., -1.98-7.14j,\n",
       "         -2.22-8.18j, -3.24-6.42j]),\n",
       "  'feature': array([-0.05764860+0.1008981j , -0.03069500+0.10689313j,\n",
       "          0.00161845+0.09422283j, ...,  0.05542542+0.03304022j,\n",
       "          0.07344420-0.01152105j,  0.07863839-0.05407055j]),\n",
       "  'iq_calibration': array([-0.01071061+0.0236285j, -0.04693799+0.0772696j])}}"
      ]
     },
     "execution_count": 10,
     "metadata": {},
     "output_type": "execute_result"
    }
   ],
   "source": [
    "trigger_readout_seq = [pg.p('ro_trg', 10e-9, pg.rect, 1)]\n",
    "\n",
    "adc.set_nums(50)\n",
    "adc.set_nop(32768)\n",
    "if hasattr(adc, 'set_post_trigger'):\n",
    "    adc.set_post_trigger(adc.get_nop()-64)\n",
    "modem = modem_readout.modem_readout(pg, adc, trigger_readout_seq, axis_mean=0)\n",
    "modem.readout_channels = readout_channels\n",
    "#ro_trg.delay_setter = lambda x: adc.set_trigger_delay(int(x*adc.get_clock()/iq_ex.get_clock()-0)) # M3201A & M3202A\n",
    "ro_trg.delay = 0#Spectrum+AWG5014C\n",
    "delay_calibration = modem.calibrate_delay()\n",
    "readout_trigger_delay = delay_calibration[awg_channels['iq_ro_q1']]\n",
    "#readout_trigger_delay_cycles = readout_trigger_delay*adc.get_clock() M3201A\n",
    "readout_trigger_delay_cycles = readout_trigger_delay*ro_trg.get_clock()\n",
    "print (readout_trigger_delay, readout_trigger_delay_cycles)\n",
    "#ro_trg.delay_setter = lambda x: adc.set_trigger_delay(int(x*adc.get_clock()/iq_ex.get_clock()-readout_trigger_delay_cycles)) M3201A\n",
    "ro_trg.delay = int(-readout_trigger_delay_cycles)#Spectrum+AWG5014C\n",
    "readout_trigger_delay_test = modem.calibrate_delay()[awg_channels['iq_ro_q1']]\n",
    "#readout_trigger_delay_cycles_test = readout_trigger_delay_test*adc.get_clock() M3201A\n",
    "readout_trigger_delay_cycles_test = readout_trigger_delay_test*ro_trg.get_clock()\n",
    "print (readout_trigger_delay_test, readout_trigger_delay_cycles_test)\n",
    "\n",
    "modem.calibrate_dc()"
   ]
  },
  {
   "cell_type": "markdown",
   "metadata": {},
   "source": [
    "## усреднённое считывание"
   ]
  },
  {
   "cell_type": "code",
   "execution_count": 11,
   "metadata": {
    "collapsed": true
   },
   "outputs": [],
   "source": [
    "modem.filters = modem.calibrated_filters\n",
    "adc_reducer = data_reduce.data_reduce(modem)\n",
    "adc_reducer.filters = {'S21_r{}'.format(_qubit_id): \n",
    "            data_reduce.mean_reducer(modem, 'iq_ro_q{}'.format(_qubit_id), axis=0) for _qubit_id in qubits.keys()}\n",
    "adc_reducer.extra_opts['scatter'] = True\n",
    "adc_reducer.extra_opts['realimag'] = True"
   ]
  },
  {
   "cell_type": "markdown",
   "metadata": {},
   "source": [
    "## длительность считывания"
   ]
  },
  {
   "cell_type": "code",
   "execution_count": 12,
   "metadata": {},
   "outputs": [
    {
     "data": {
      "text/plain": [
       "True"
      ]
     },
     "execution_count": 12,
     "metadata": {},
     "output_type": "execute_result"
    }
   ],
   "source": [
    "def set_adc_nop(ro_adc_length):\n",
    "    adc.stop() # Spectrum\n",
    "    signal_size = int(np.ceil(4./3.*(ro_adc_length)*adc.get_clock()))\n",
    "    nop = int( 2**np.ceil(np.log2(signal_size)) )\n",
    "    #print (nop)\n",
    "    adc.set_nop(nop)\n",
    "    adc.set_post_trigger(adc.get_nop()-64)\n",
    "    \n",
    "# \"Измеритель средних прошедших импульсов\"\n",
    "# Просто усредняет всё по номеру сэмпла.\n",
    "    \n",
    "    \n",
    "#ro_adc_length = 0.15e-6        # Вот такой длины считываем (опухоль Фёдорова!!)\n",
    "#ro_amplitude =0.16\n",
    "#ro_dac_length = 0.08e-6\n",
    "ro_adc_length = 1.0e-6\n",
    "ro_dac_length = 0.6e-6\n",
    "#adc.set_nums(1000)\n",
    "#adc.set_software_nums_multi(1)\n",
    "adc.set_nums(100)\n",
    "set_adc_nop(ro_adc_length)\n",
    "adc.set_nums(10000)"
   ]
  },
  {
   "cell_type": "code",
   "execution_count": null,
   "metadata": {},
   "outputs": [],
   "source": []
  },
  {
   "cell_type": "markdown",
   "metadata": {},
   "source": [
    "## Прохождение считывающих испульсов разной амплитуды"
   ]
  },
  {
   "cell_type": "code",
   "execution_count": 70,
   "metadata": {
    "scrolled": true
   },
   "outputs": [
    {
     "data": {
      "application/vnd.jupyter.widget-view+json": {
       "model_id": "7a2de585cf0843ce9c0640f13a46c920",
       "version_major": 2,
       "version_minor": 0
      },
      "text/plain": [
       "A Jupyter Widget"
      ]
     },
     "metadata": {},
     "output_type": "display_data"
    },
    {
     "name": "stdout",
     "output_type": "stream",
     "text": [
      "Started at:  Oct 03 2018 18:37:17\n",
      "Waiting to join deferred threads:\n",
      "Exiting sweep main thread #{} via return 9040\n",
      "\n",
      "Elapsed time: 0 h 1 m 12.34 s\n"
     ]
    },
    {
     "data": {
      "application/vnd.jupyter.widget-view+json": {
       "model_id": "6e25da2c02c44c3394cd1196c7e3cc53",
       "version_major": 2,
       "version_minor": 0
      },
      "text/plain": [
       "A Jupyter Widget"
      ]
     },
     "metadata": {},
     "output_type": "display_data"
    },
    {
     "name": "stdout",
     "output_type": "stream",
     "text": [
      "Started at:  Oct 03 2018 18:38:40\n",
      "Waiting to join deferred threads:\n",
      "Exiting sweep main thread #{} via return 8340\n",
      "\n",
      "Elapsed time: 0 h 1 m 14.44 s\n"
     ]
    },
    {
     "data": {
      "application/vnd.jupyter.widget-view+json": {
       "model_id": "df73bb0903474c4cbc99d22c03465586",
       "version_major": 2,
       "version_minor": 0
      },
      "text/plain": [
       "A Jupyter Widget"
      ]
     },
     "metadata": {},
     "output_type": "display_data"
    },
    {
     "name": "stdout",
     "output_type": "stream",
     "text": [
      "Started at:  Oct 03 2018 18:40:06\n",
      "Waiting to join deferred threads:\n",
      "Exiting sweep main thread #{} via return 11996\n",
      "\n",
      "Elapsed time: 0 h 1 m 8.72 s\n"
     ]
    }
   ],
   "source": [
    "#%%mprun -f sweep.sweep\n",
    "imp.reload(sweep)\n",
    "imp.reload(plotting)\n",
    "for _qubit_id in ['1', '2', '3']:\n",
    "    for nndac_channel_id, channel_voltage in qubits[_qubit_id]['q']['P']['Fmin_coil_currents'].items():\n",
    "        dac.set_voltage(channel_voltage, channel=nndac_channel_id)\n",
    "    mean_sample = data_reduce.data_reduce(adc)\n",
    "    mean_sample.filters['Mean Voltage (AC)'] = data_reduce.mean_reducer_noavg(adc, 'Voltage', 0)\n",
    "\n",
    "    mean_sample.filters['S21+'] = data_reduce.mean_reducer_freq(adc, 'Voltage', 0, iq_ro.carriers['iq_ro_q{}'.format(_qubit_id)].get_if())\n",
    "    mean_sample.filters['S21-'] = data_reduce.mean_reducer_freq(adc, 'Voltage', 0, -iq_ro.carriers['iq_ro_q{}'.format(_qubit_id)].get_if())\n",
    "    # # Этот измеритель мы как правило используем когда точек не слишком много и все результаты его жизнедеятельности как правило \n",
    "    # # выглядят как ломаные. Чтобы было красиво, давайте лучше сделаем точки (а кривые потом получим фитованые)\n",
    "    mean_sample.extra_opts['scatter'] = True\n",
    "\n",
    "    awg.check_cached = True\n",
    "\n",
    "    mean_sample.filters['Std Voltage (AC)'] = data_reduce.std_reducer_noavg(adc, 'Voltage', 0, 1)\n",
    "    def set_pulse_amplitude(x):\n",
    "        awg_tek.set_nop(awg_tek.get_clock()/rep_rate)\n",
    "        pg.set_seq(trigger_readout_seq+[pg.p('iq_ro_q{}'.format(_qubit_id), ro_dac_length, pg.rect, x)])\n",
    "        awg_tek.run()\n",
    "    measurement = sweep.sweep(mean_sample, (np.linspace(0, 1.0, 21), set_pulse_amplitude, 'Амплитуда считывания'), filename='Прохождение считывающих импульсов образец #{}'.format(_qubit_id))\n",
    "    del mean_sample.filters['Std Voltage (AC)']"
   ]
  },
  {
   "cell_type": "code",
   "execution_count": 57,
   "metadata": {},
   "outputs": [
    {
     "name": "stdout",
     "output_type": "stream",
     "text": [
      "Readout amplitude: 1.0\n"
     ]
    }
   ],
   "source": [
    "zero_response = measurement['Mean Voltage (AC)'][2][0,:]\n",
    "drive_amplitudes = measurement['Mean Voltage (AC)'][1][0][1:]\n",
    "signal = measurement['Mean Voltage (AC)'][2][1:,:]\n",
    "noise = measurement['Std Voltage (AC)'][2][1:,:]\n",
    "error = noise/np.sqrt(adc.get_nums())\n",
    "signal_overlap = np.sum(np.conj(signal[0,:])*signal[1:,:], axis=1)/drive_amplitudes[1:]\n",
    "signal_overlap_estimate = np.real(signal_overlap[0])\n",
    "signal_overlap_error = 0.5*np.sqrt(np.sum((np.abs(signal[1:,:])*error[0,:])**2, axis=1)+np.sum((np.abs(signal[0,:])*error[1:,:])**2,axis=1))/drive_amplitudes[1:]\n",
    "#signal_overlap_estimate = (np.sum(np.abs(signal[0,:])**2) - np.sum(error[0,:]*np.abs(signal[0,:]))-np.sum(np.abs(error[0,:])**2))/drive_amplitudes[0]\n",
    "#plt.figure()\n",
    "#plt.plot(np.real(signal_overlap))\n",
    "#plt.plot(np.sum(noise**2, axis=1)/adc.get_nums())\n",
    "#plt.plot(signal_overlap_error)\n",
    "compression = 10*np.log10(np.real(signal_overlap)/np.real(signal_overlap_estimate))\n",
    "db_compression_point = np.argmax(10*np.log10(np.real(signal_overlap)/np.real(signal_overlap_estimate))<-1+10*np.log10(1-signal_overlap_error/signal_overlap_estimate))\n",
    "#10*np.log10(np.real(signal_overlap)/np.real(signal_overlap_estimate)),-1+10*np.log10(1-signal_overlap_error/signal_overlap_estimate)\n",
    "#10*np.log10(np.real(signal_overlap)/np.real(signal_overlap_estimate))<-1+10*np.log10(1-signal_overlap_error/signal_overlap_estimate)\n",
    "if np.any(db_compression_point):\n",
    "    ro_amplitude = drive_amplitudes[db_compression_point+1]\n",
    "else:\n",
    "    ro_amplitude = drive_amplitudes[-1]\n",
    "print(\"Readout amplitude:\",ro_amplitude)    "
   ]
  },
  {
   "cell_type": "code",
   "execution_count": 40,
   "metadata": {},
   "outputs": [
    {
     "data": {
      "text/plain": [
       "Text(13.5972,0.5,'Компрессия, дБ')"
      ]
     },
     "execution_count": 40,
     "metadata": {},
     "output_type": "execute_result"
    }
   ],
   "source": [
    "plt.figure('Компрессия считывающего импульса')\n",
    "plt.plot(drive_amplitudes[1:], compression)\n",
    "plt.xlabel('Амплитуда считывания')\n",
    "plt.ylabel('Компрессия, дБ')"
   ]
  },
  {
   "cell_type": "code",
   "execution_count": 41,
   "metadata": {
    "collapsed": true
   },
   "outputs": [],
   "source": [
    "ro_parameters = {\"adc_len\":ro_adc_length,'dac_len': ro_dac_length,'amp': ro_amplitude,'adc nums':adc.nums,\n",
    "                'trg_length':trg_length}\n",
    "qjson.dump(\"setups\",\"readout\",ro_parameters)"
   ]
  },
  {
   "cell_type": "code",
   "execution_count": 42,
   "metadata": {
    "collapsed": true
   },
   "outputs": [],
   "source": [
    "#ro_amplitude = 0.25\n",
    "ro_sequence = trigger_readout_seq+[pg.p('iq_ro', ro_dac_length, pg.rect, ro_amplitude)]"
   ]
  },
  {
   "cell_type": "markdown",
   "metadata": {},
   "source": [
    "## Раби+Рамзи"
   ]
  },
  {
   "cell_type": "code",
   "execution_count": 29,
   "metadata": {
    "collapsed": true
   },
   "outputs": [],
   "source": [
    "import qsweepy.qjson as pqjson\n",
    "import qsweepy.quantum_two_level_dynamics as dyn"
   ]
  },
  {
   "cell_type": "code",
   "execution_count": 30,
   "metadata": {},
   "outputs": [
    {
     "data": {
      "text/plain": [
       "<module 'qsweepy.diff_readout' from 'D:\\\\qtlab_replacement\\\\qsweepy\\\\diff_readout.py'>"
      ]
     },
     "execution_count": 30,
     "metadata": {},
     "output_type": "execute_result"
    }
   ],
   "source": [
    "imp.reload(dyn)\n",
    "imp.reload(qjson)\n",
    "imp.reload(data_reduce)\n",
    "imp.reload(plotting)\n",
    "imp.reload(fitting)\n",
    "imp.reload(sweep)\n",
    "imp.reload(diff_readout)"
   ]
  },
  {
   "cell_type": "code",
   "execution_count": 31,
   "metadata": {},
   "outputs": [],
   "source": [
    "\n",
    "ex_channels =    ['iq_ex_q{}_F01_min'.format(q_id)                                  for q_id, q in qubits.items()]\n",
    "ex_amplitudes =  {'iq_ex_q{}_F01_min'.format(q_id):1                                for q_id, q in qubits.items()}\n",
    "ex_ro_channels = {'iq_ex_q{}_F01_min'.format(q_id):'iq_ro_q{}'.format(q_id)         for q_id, q in qubits.items()}\n",
    "working_points = {'iq_ex_q{}_F01_min'.format(q_id):q['q']['P']['Fmin_coil_currents'] for q_id, q in qubits.items()}\n",
    "ro_amplitudes =  {'iq_ex_q1_F01_min':0.5,'iq_ex_q2_F01_min':1.0,'iq_ex_q3_F01_min':0.5}\n",
    "coils =          {'iq_ex_q1_F01_min':0,'iq_ex_q2_F01_min':2,'iq_ex_q3_F01_min':4}\n",
    "\n",
    "rabi_lengths =   {'iq_ex_q{}_F01_min'.format(q_id):np.arange(0., 200e-9, 4e-9)      for q_id, q in qubits.items()}\n",
    "delaysT2_coherence = {'iq_ex_q{}_F01_min'.format(q_id):np.arange(0., 2e-6, 25e-9)   for q_id, q in qubits.items()}\n",
    "#delaysT2_coherence = {'iq_ex_q{}_F01_min'.format(q_id):np.arange(0, 200e-9, 2e-9)   for q_id, q in qubits.items()}\n",
    "fitters = {}\n",
    "for q_id, q in qubits.items():\n",
    "    ro_meas_name = 'S21_r{}'.format(q_id)\n",
    "    fitters['iq_ex_q{}_F01_min'.format(q_id)] = lambda x,y,ro_meas_name=ro_meas_name: fitting.fit1d(x,y,ro_meas_name)\n",
    "\n",
    "#rabi_lengths = np.arange(0., 2000e-9, 5e-9)\n",
    "delaysT2 = np.arange(0, 200e-9, 2e-9)\n",
    "target_freq_offset = -30e6\n",
    "#delaysT2_coherence = np.arange(0, 5000e-9, 10e-9)\n",
    "target_freq_offset_coherence = -3e6\n",
    "delaysT1 = np.arange(0, 10e-6,0.05e-6)"
   ]
  },
  {
   "cell_type": "code",
   "execution_count": 32,
   "metadata": {
    "collapsed": true
   },
   "outputs": [],
   "source": [
    "diff_adc_reducer = diff_readout.diff_readout(adc_reducer)"
   ]
  },
  {
   "cell_type": "code",
   "execution_count": 33,
   "metadata": {},
   "outputs": [
    {
     "name": "stdout",
     "output_type": "stream",
     "text": [
      "d:\\data/calibrations/setups/ readout\n",
      "Failed loading readout calibration: expected str, bytes or os.PathLike object, not NoneType\n",
      "Failed loading rabi frequency calibration: 'quantum_two_level_dynamics' object has no attribute 'ex_amplitude'\n",
      "d:\\data/calibrations/setups/ readout\n",
      "Failed loading readout calibration: expected str, bytes or os.PathLike object, not NoneType\n",
      "Failed loading rabi frequency calibration: 'quantum_two_level_dynamics' object has no attribute 'ex_amplitude'\n",
      "d:\\data/calibrations/setups/ readout\n",
      "Failed loading readout calibration: expected str, bytes or os.PathLike object, not NoneType\n",
      "Failed loading rabi frequency calibration: 'quantum_two_level_dynamics' object has no attribute 'ex_amplitude'\n"
     ]
    }
   ],
   "source": [
    "twos = {ex_channel:dyn.quantum_two_level_dynamics(pg,\n",
    "                                           adc_reducer,\n",
    "                                           ex_channel=ex_channel,\n",
    "                                           ro_channel=ex_ro_channels[ex_channel],\n",
    "                                           ro_sequence=(trigger_readout_seq+\\\n",
    "                            [pg.p(ex_ro_channels[ex_channel], ro_dac_length, pg.rect, ro_amplitudes[ex_channel])]),\n",
    "                                           ex_amplitude=ex_amplitudes[ex_channel],\n",
    "                                           fitter=fitters[ex_channel], \n",
    "                                           shuffle=False,\n",
    "                                           qubit_id=qubit_id) for ex_channel in ex_channels}\n",
    "#twos = {'iq_ex_q3_F01_min':dyn.quantum_two_level_dynamics(pg,\n",
    "#                                           adc_reducer,\n",
    "#                                           ex_channel='iq_ex_q3_F01_min',\n",
    "#                                           ro_channel=ex_ro_channels['iq_ex_q3_F01_min'],\n",
    "#                                           ro_sequence=(trigger_readout_seq+\\\n",
    "#                            [pg.p(ex_ro_channels['iq_ex_q3_F01_min'], ro_dac_length, pg.rect, ro_amplitudes['iq_ex_q3_F01_min'])]),\n",
    "#                                           ex_amplitude=ex_amplitudes['iq_ex_q3_F01_min'],\n",
    "#                                           fitter=fitters['iq_ex_q3_F01_min'], \n",
    "#                                           shuffle=True,\n",
    "#                                           qubit_id=qubit_id)}"
   ]
  },
  {
   "cell_type": "code",
   "execution_count": 34,
   "metadata": {},
   "outputs": [
    {
     "name": "stdout",
     "output_type": "stream",
     "text": [
      "d:\\data/calibrations/two-level-rabi-rect/ carrier-5.5e+09-amplitude-      1\n"
     ]
    },
    {
     "data": {
      "application/vnd.jupyter.widget-view+json": {
       "model_id": "139ac2a5122a4b469763e32c219a4705",
       "version_major": 2,
       "version_minor": 0
      },
      "text/plain": [
       "A Jupyter Widget"
      ]
     },
     "metadata": {},
     "output_type": "display_data"
    },
    {
     "name": "stdout",
     "output_type": "stream",
     "text": [
      "Started at:  Oct 04 2018 07:37:48\n",
      "Waiting to join deferred threads:\n",
      "Exiting sweep main thread #{} via return 12168\n",
      "\n",
      "Elapsed time: 0 h 43 m 12.61 s\n",
      "d:\\data/calibrations/two-level-rabi-rect/ carrier-5.525e+09-amplitude-      1\n"
     ]
    },
    {
     "data": {
      "application/vnd.jupyter.widget-view+json": {
       "model_id": "41e7126089f34db8965360c41768ee1f",
       "version_major": 2,
       "version_minor": 0
      },
      "text/plain": [
       "A Jupyter Widget"
      ]
     },
     "metadata": {},
     "output_type": "display_data"
    },
    {
     "name": "stdout",
     "output_type": "stream",
     "text": [
      "Started at:  Oct 04 2018 08:21:09\n",
      "Waiting to join deferred threads:\n",
      "Exiting sweep main thread #{} via return 4420\n",
      "\n",
      "Elapsed time: 0 h 43 m 17.5 s\n",
      "d:\\data/calibrations/two-level-rabi-rect/ carrier-5.46e+09-amplitude-      1\n"
     ]
    },
    {
     "data": {
      "application/vnd.jupyter.widget-view+json": {
       "model_id": "a1edc8b7c61647f1a260b9fed50b7552",
       "version_major": 2,
       "version_minor": 0
      },
      "text/plain": [
       "A Jupyter Widget"
      ]
     },
     "metadata": {},
     "output_type": "display_data"
    },
    {
     "name": "stdout",
     "output_type": "stream",
     "text": [
      "Started at:  Oct 04 2018 09:04:35\n",
      "Waiting to join deferred threads:\n",
      "Exiting sweep main thread #{} via return 7544\n",
      "\n",
      "Elapsed time: 0 h 43 m 41.36 s\n",
      "d:\\data/calibrations/two-level-rabi-rect/ carrier-5.5e+09-amplitude-      1\n"
     ]
    },
    {
     "data": {
      "application/vnd.jupyter.widget-view+json": {
       "model_id": "06236b439d4c420f85d81325694bbfe9",
       "version_major": 2,
       "version_minor": 0
      },
      "text/plain": [
       "A Jupyter Widget"
      ]
     },
     "metadata": {},
     "output_type": "display_data"
    },
    {
     "name": "stdout",
     "output_type": "stream",
     "text": [
      "Started at:  Oct 04 2018 09:48:25\n"
     ]
    },
    {
     "name": "stderr",
     "output_type": "stream",
     "text": [
      "Exception in thread Thread-31:\n",
      "Traceback (most recent call last):\n",
      "  File \"C:\\ProgramData\\Anaconda3\\lib\\threading.py\", line 916, in _bootstrap_inner\n",
      "    self.run()\n",
      "  File \"C:\\ProgramData\\Anaconda3\\lib\\threading.py\", line 864, in run\n",
      "    self._target(*self._args, **self._kwargs)\n",
      "  File \"D:\\qtlab_replacement\\qsweepy\\sweep.py\", line 281, in main_sweep_loop\n",
      "    set_single_measurement_result(mpoint, indeces)\n",
      "  File \"D:\\qtlab_replacement\\qsweepy\\sweep.py\", line 225, in set_single_measurement_result\n",
      "    ascii_file.write(data_to_str(fmt(mpoint_m_flat))+'\\n')\n",
      "ValueError: I/O operation on closed file.\n",
      "\n"
     ]
    },
    {
     "ename": "Error",
     "evalue": "Cannot move a directory 'd:\\data/2018-10-04/09-48-25-Ramsey (target offset -3.00 MHz), excitation channel iq_ex_q1_F01_min/' into itself 'd:\\data/2018-10-04/09-48-25-Ramsey (target offset -3.00 MHz), excitation channel iq_ex_q1_F01_min/unfinished/'.",
     "output_type": "error",
     "traceback": [
      "\u001b[1;31m---------------------------------------------------------------------------\u001b[0m",
      "\u001b[1;31mKeyboardInterrupt\u001b[0m                         Traceback (most recent call last)",
      "\u001b[1;32mD:\\qtlab_replacement\\qsweepy\\sweep.py\u001b[0m in \u001b[0;36msweep\u001b[1;34m(measurer, filename, root_dir, plot, plot_separate_thread, header, output, save, time_war_label, shuffle, bot, use_deferred, *params)\u001b[0m\n\u001b[0;32m    332\u001b[0m                         \u001b[0macq_thread\u001b[0m\u001b[1;33m.\u001b[0m\u001b[0mstart\u001b[0m\u001b[1;33m(\u001b[0m\u001b[1;33m)\u001b[0m\u001b[1;33m\u001b[0m\u001b[0m\n\u001b[1;32m--> 333\u001b[1;33m                         \u001b[0mplot_thread\u001b[0m\u001b[1;33m(\u001b[0m\u001b[1;33m)\u001b[0m\u001b[1;33m\u001b[0m\u001b[0m\n\u001b[0m\u001b[0;32m    334\u001b[0m \u001b[1;33m\u001b[0m\u001b[0m\n",
      "\u001b[1;32mD:\\qtlab_replacement\\qsweepy\\sweep.py\u001b[0m in \u001b[0;36mplot_thread\u001b[1;34m()\u001b[0m\n\u001b[0;32m    320\u001b[0m                                         \u001b[1;32mif\u001b[0m \u001b[0mplot_thread_point_id\u001b[0m \u001b[1;33m<\u001b[0m \u001b[0mdone_sweeps\u001b[0m\u001b[1;33m:\u001b[0m\u001b[1;33m\u001b[0m\u001b[0m\n\u001b[1;32m--> 321\u001b[1;33m                                                 \u001b[0mplotting\u001b[0m\u001b[1;33m.\u001b[0m\u001b[0mupdate_plot_measurement\u001b[0m\u001b[1;33m(\u001b[0m\u001b[0mmk_measurement\u001b[0m\u001b[1;33m(\u001b[0m\u001b[1;33m)\u001b[0m\u001b[1;33m,\u001b[0m \u001b[0mplot_axes\u001b[0m\u001b[1;33m)\u001b[0m\u001b[1;33m\u001b[0m\u001b[0m\n\u001b[0m\u001b[0;32m    322\u001b[0m                                                 \u001b[0mplot_thread_point_id\u001b[0m \u001b[1;33m=\u001b[0m \u001b[0mdone_sweeps\u001b[0m\u001b[1;33m\u001b[0m\u001b[0m\n",
      "\u001b[1;32mD:\\qtlab_replacement\\qsweepy\\plotting.py\u001b[0m in \u001b[0;36mupdate_plot_measurement\u001b[1;34m(measurement, axes)\u001b[0m\n\u001b[0;32m    241\u001b[0m                         \u001b[0mmeas\u001b[0m\u001b[1;33m[\u001b[0m\u001b[0mplot_name\u001b[0m\u001b[1;33m]\u001b[0m \u001b[1;33m=\u001b[0m \u001b[1;33m(\u001b[0m\u001b[0mmeasurement\u001b[0m\u001b[1;33m[\u001b[0m\u001b[0mplot\u001b[0m\u001b[1;33m[\u001b[0m\u001b[1;34m'mname'\u001b[0m\u001b[1;33m]\u001b[0m\u001b[1;33m]\u001b[0m\u001b[1;33m[\u001b[0m\u001b[1;36m0\u001b[0m\u001b[1;33m]\u001b[0m\u001b[1;33m,\u001b[0m \u001b[0mmeasurement\u001b[0m\u001b[1;33m[\u001b[0m\u001b[0mplot\u001b[0m\u001b[1;33m[\u001b[0m\u001b[1;34m'mname'\u001b[0m\u001b[1;33m]\u001b[0m\u001b[1;33m]\u001b[0m\u001b[1;33m[\u001b[0m\u001b[1;36m1\u001b[0m\u001b[1;33m]\u001b[0m\u001b[1;33m,\u001b[0m \u001b[0mplot\u001b[0m\u001b[1;33m[\u001b[0m\u001b[1;34m'filter'\u001b[0m\u001b[1;33m]\u001b[0m\u001b[1;33m(\u001b[0m\u001b[0mmeasurement\u001b[0m\u001b[1;33m[\u001b[0m\u001b[0mplot\u001b[0m\u001b[1;33m[\u001b[0m\u001b[1;34m'mname'\u001b[0m\u001b[1;33m]\u001b[0m\u001b[1;33m]\u001b[0m\u001b[1;33m[\u001b[0m\u001b[1;36m2\u001b[0m\u001b[1;33m]\u001b[0m\u001b[1;33m)\u001b[0m\u001b[1;33m)\u001b[0m\u001b[1;33m\u001b[0m\u001b[0m\n\u001b[1;32m--> 242\u001b[1;33m                 \u001b[0mplots\u001b[0m \u001b[1;33m=\u001b[0m \u001b[0mupdate_plot_measurement_sa\u001b[0m\u001b[1;33m(\u001b[0m\u001b[0mmeas\u001b[0m\u001b[1;33m,\u001b[0m \u001b[0max\u001b[0m\u001b[1;33m)\u001b[0m\u001b[1;33m\u001b[0m\u001b[0m\n\u001b[0m\u001b[0;32m    243\u001b[0m \u001b[1;33m\u001b[0m\u001b[0m\n",
      "\u001b[1;32mD:\\qtlab_replacement\\qsweepy\\plotting.py\u001b[0m in \u001b[0;36mupdate_plot_measurement_sa\u001b[1;34m(measurement, plots)\u001b[0m\n\u001b[0;32m    360\u001b[0m                         \u001b[0mplot\u001b[0m\u001b[1;33m.\u001b[0m\u001b[0mset_clim\u001b[0m\u001b[1;33m(\u001b[0m\u001b[0mnp\u001b[0m\u001b[1;33m.\u001b[0m\u001b[0mnanmin\u001b[0m\u001b[1;33m(\u001b[0m\u001b[0mdata\u001b[0m\u001b[1;33m)\u001b[0m\u001b[1;33m,\u001b[0m \u001b[0mnp\u001b[0m\u001b[1;33m.\u001b[0m\u001b[0mnanmax\u001b[0m\u001b[1;33m(\u001b[0m\u001b[0mdata\u001b[0m\u001b[1;33m)\u001b[0m\u001b[1;33m)\u001b[0m\u001b[1;33m\u001b[0m\u001b[0m\n\u001b[1;32m--> 361\u001b[1;33m                 \u001b[0mplt\u001b[0m\u001b[1;33m.\u001b[0m\u001b[0mgcf\u001b[0m\u001b[1;33m(\u001b[0m\u001b[1;33m)\u001b[0m\u001b[1;33m.\u001b[0m\u001b[0mcanvas\u001b[0m\u001b[1;33m.\u001b[0m\u001b[0mstart_event_loop\u001b[0m\u001b[1;33m(\u001b[0m\u001b[1;36m1.0\u001b[0m\u001b[1;33m)\u001b[0m\u001b[1;33m\u001b[0m\u001b[0m\n\u001b[0m\u001b[0;32m    362\u001b[0m \u001b[1;33m\u001b[0m\u001b[0m\n",
      "\u001b[1;32mC:\\ProgramData\\Anaconda3\\lib\\site-packages\\matplotlib\\backends\\backend_qt5.py\u001b[0m in \u001b[0;36mstart_event_loop\u001b[1;34m(self, timeout)\u001b[0m\n\u001b[0;32m    439\u001b[0m             \u001b[0mtimer\u001b[0m \u001b[1;33m=\u001b[0m \u001b[0mQtCore\u001b[0m\u001b[1;33m.\u001b[0m\u001b[0mQTimer\u001b[0m\u001b[1;33m.\u001b[0m\u001b[0msingleShot\u001b[0m\u001b[1;33m(\u001b[0m\u001b[0mtimeout\u001b[0m \u001b[1;33m*\u001b[0m \u001b[1;36m1000\u001b[0m\u001b[1;33m,\u001b[0m \u001b[0mevent_loop\u001b[0m\u001b[1;33m.\u001b[0m\u001b[0mquit\u001b[0m\u001b[1;33m)\u001b[0m\u001b[1;33m\u001b[0m\u001b[0m\n\u001b[1;32m--> 440\u001b[1;33m         \u001b[0mevent_loop\u001b[0m\u001b[1;33m.\u001b[0m\u001b[0mexec_\u001b[0m\u001b[1;33m(\u001b[0m\u001b[1;33m)\u001b[0m\u001b[1;33m\u001b[0m\u001b[0m\n\u001b[0m\u001b[0;32m    441\u001b[0m \u001b[1;33m\u001b[0m\u001b[0m\n",
      "\u001b[1;31mKeyboardInterrupt\u001b[0m: ",
      "\nDuring handling of the above exception, another exception occurred:\n",
      "\u001b[1;31mPermissionError\u001b[0m                           Traceback (most recent call last)",
      "\u001b[1;32mC:\\ProgramData\\Anaconda3\\lib\\shutil.py\u001b[0m in \u001b[0;36mmove\u001b[1;34m(src, dst, copy_function)\u001b[0m\n\u001b[0;32m    543\u001b[0m     \u001b[1;32mtry\u001b[0m\u001b[1;33m:\u001b[0m\u001b[1;33m\u001b[0m\u001b[0m\n\u001b[1;32m--> 544\u001b[1;33m         \u001b[0mos\u001b[0m\u001b[1;33m.\u001b[0m\u001b[0mrename\u001b[0m\u001b[1;33m(\u001b[0m\u001b[0msrc\u001b[0m\u001b[1;33m,\u001b[0m \u001b[0mreal_dst\u001b[0m\u001b[1;33m)\u001b[0m\u001b[1;33m\u001b[0m\u001b[0m\n\u001b[0m\u001b[0;32m    545\u001b[0m     \u001b[1;32mexcept\u001b[0m \u001b[0mOSError\u001b[0m\u001b[1;33m:\u001b[0m\u001b[1;33m\u001b[0m\u001b[0m\n",
      "\u001b[1;31mPermissionError\u001b[0m: [WinError 32] The process cannot access the file because it is being used by another process: 'd:\\\\data/2018-10-04/09-48-25-Ramsey (target offset -3.00 MHz), excitation channel iq_ex_q1_F01_min/' -> 'd:\\\\data/2018-10-04/09-48-25-Ramsey (target offset -3.00 MHz), excitation channel iq_ex_q1_F01_min/unfinished/'",
      "\nDuring handling of the above exception, another exception occurred:\n",
      "\u001b[1;31mError\u001b[0m                                     Traceback (most recent call last)",
      "\u001b[1;32m<ipython-input-34-8d278678a6c1>\u001b[0m in \u001b[0;36m<module>\u001b[1;34m()\u001b[0m\n\u001b[0;32m     24\u001b[0m \u001b[1;33m\u001b[0m\u001b[0m\n\u001b[0;32m     25\u001b[0m         two_diff.Ramsey(delaysT2_coherence[ex_channel],target_freq_offset_coherence, \n\u001b[1;32m---> 26\u001b[1;33m                     (voltages, lambda x: dac.set_voltage(x, channel=coil), 'Coil #{} voltage'.format(coil)))\n\u001b[0m\u001b[0;32m     27\u001b[0m         \u001b[1;31m#two_diff.decay(delaysT1,\u001b[0m\u001b[1;33m\u001b[0m\u001b[1;33m\u001b[0m\u001b[0m\n\u001b[0;32m     28\u001b[0m         \u001b[1;31m#            (voltages, lambda x: dac.set_voltage(x, channel=coil), 'Coil #{} voltage'.format(coil)))\u001b[0m\u001b[1;33m\u001b[0m\u001b[1;33m\u001b[0m\u001b[0m\n",
      "\u001b[1;32mD:\\qtlab_replacement\\qsweepy\\quantum_two_level_dynamics.py\u001b[0m in \u001b[0;36mRamsey\u001b[1;34m(self, delays, target_freq_offset, *params)\u001b[0m\n\u001b[0;32m    171\u001b[0m                                                                   \u001b[0mroot_dir\u001b[0m \u001b[1;33m=\u001b[0m \u001b[0mroot_dir\u001b[0m\u001b[1;33m,\u001b[0m\u001b[1;33m\u001b[0m\u001b[0m\n\u001b[0;32m    172\u001b[0m                                                                   \u001b[0mplot_separate_thread\u001b[0m\u001b[1;33m=\u001b[0m \u001b[0mself\u001b[0m\u001b[1;33m.\u001b[0m\u001b[0mplot_separate_thread\u001b[0m\u001b[1;33m,\u001b[0m\u001b[1;33m\u001b[0m\u001b[0m\n\u001b[1;32m--> 173\u001b[1;33m \t\t\t\t\t\t\t\t  plot=self.plot)\n\u001b[0m\u001b[0;32m    174\u001b[0m                 \u001b[1;32mtry\u001b[0m\u001b[1;33m:\u001b[0m\u001b[1;33m\u001b[0m\u001b[0m\n\u001b[0;32m    175\u001b[0m                         \u001b[0mmeasurement_fitted\u001b[0m\u001b[1;33m,\u001b[0m \u001b[0mfitted_parameters\u001b[0m \u001b[1;33m=\u001b[0m \u001b[0mself\u001b[0m\u001b[1;33m.\u001b[0m\u001b[0mfitter\u001b[0m\u001b[1;33m(\u001b[0m\u001b[0mmeasurement\u001b[0m\u001b[1;33m,\u001b[0m \u001b[0mfitting\u001b[0m\u001b[1;33m.\u001b[0m\u001b[0mexp_sin_fit\u001b[0m\u001b[1;33m)\u001b[0m\u001b[1;33m\u001b[0m\u001b[0m\n",
      "\u001b[1;32mD:\\qtlab_replacement\\qsweepy\\sweep.py\u001b[0m in \u001b[0;36msweep\u001b[1;34m(measurer, filename, root_dir, plot, plot_separate_thread, header, output, save, time_war_label, shuffle, bot, use_deferred, *params)\u001b[0m\n\u001b[0;32m    347\u001b[0m                 \u001b[0mstop_acq\u001b[0m \u001b[1;33m=\u001b[0m \u001b[1;32mTrue\u001b[0m\u001b[1;33m\u001b[0m\u001b[0m\n\u001b[0;32m    348\u001b[0m                 \u001b[0mpathlib\u001b[0m\u001b[1;33m.\u001b[0m\u001b[0mPath\u001b[0m\u001b[1;33m(\u001b[0m\u001b[0mdirectory_to\u001b[0m\u001b[1;33m)\u001b[0m\u001b[1;33m.\u001b[0m\u001b[0mparent\u001b[0m\u001b[1;33m.\u001b[0m\u001b[0mmkdir\u001b[0m\u001b[1;33m(\u001b[0m\u001b[0mparents\u001b[0m\u001b[1;33m=\u001b[0m\u001b[1;32mTrue\u001b[0m\u001b[1;33m,\u001b[0m \u001b[0mexist_ok\u001b[0m\u001b[1;33m=\u001b[0m\u001b[1;32mTrue\u001b[0m\u001b[1;33m)\u001b[0m \u001b[1;31m# create top-level directory for moving\u001b[0m\u001b[1;33m\u001b[0m\u001b[0m\n\u001b[1;32m--> 349\u001b[1;33m                 \u001b[0mdirectory_to\u001b[0m \u001b[1;33m=\u001b[0m \u001b[0msh\u001b[0m\u001b[1;33m.\u001b[0m\u001b[0mmove\u001b[0m\u001b[1;33m(\u001b[0m\u001b[0mdata_dir\u001b[0m\u001b[1;33m,\u001b[0m\u001b[0mdirectory_to\u001b[0m\u001b[1;33m)\u001b[0m\u001b[1;33m\u001b[0m\u001b[0m\n\u001b[0m\u001b[0;32m    350\u001b[0m                 \u001b[0mdata_dir\u001b[0m \u001b[1;33m=\u001b[0m \u001b[0mdirectory_to\u001b[0m\u001b[1;33m\u001b[0m\u001b[0m\n\u001b[0;32m    351\u001b[0m                 \u001b[1;32mraise\u001b[0m \u001b[1;31m# after finally\u001b[0m\u001b[1;33m\u001b[0m\u001b[0m\n",
      "\u001b[1;32mC:\\ProgramData\\Anaconda3\\lib\\shutil.py\u001b[0m in \u001b[0;36mmove\u001b[1;34m(src, dst, copy_function)\u001b[0m\n\u001b[0;32m    551\u001b[0m             \u001b[1;32mif\u001b[0m \u001b[0m_destinsrc\u001b[0m\u001b[1;33m(\u001b[0m\u001b[0msrc\u001b[0m\u001b[1;33m,\u001b[0m \u001b[0mdst\u001b[0m\u001b[1;33m)\u001b[0m\u001b[1;33m:\u001b[0m\u001b[1;33m\u001b[0m\u001b[0m\n\u001b[0;32m    552\u001b[0m                 raise Error(\"Cannot move a directory '%s' into itself\"\n\u001b[1;32m--> 553\u001b[1;33m                             \" '%s'.\" % (src, dst))\n\u001b[0m\u001b[0;32m    554\u001b[0m             copytree(src, real_dst, copy_function=copy_function,\n\u001b[0;32m    555\u001b[0m                      symlinks=True)\n",
      "\u001b[1;31mError\u001b[0m: Cannot move a directory 'd:\\data/2018-10-04/09-48-25-Ramsey (target offset -3.00 MHz), excitation channel iq_ex_q1_F01_min/' into itself 'd:\\data/2018-10-04/09-48-25-Ramsey (target offset -3.00 MHz), excitation channel iq_ex_q1_F01_min/unfinished/'."
     ]
    }
   ],
   "source": [
    "#%%mprun -f two_diffs[0].Rabi_rect -f two_diffs[0].Ramsey -f two_diffs[0].decay -f two_diffs[0].spin_echo -f sweep.sweep -f diff_adc_reducer.measure\n",
    "#dac.set_voltage(1.772, channel=0)\n",
    "dFq1_dc0__dFq1_dc2 = 5.56\n",
    "\n",
    "two_diffs = twos\n",
    "imp.reload(plotting)\n",
    "iters = 5\n",
    "for _iter in range(iters):\n",
    "    for ex_channel, two_diff in two_diffs.items():\n",
    "        dac = nndac('TCPIP0::10.20.61.12::1000::SOCKET')\n",
    "        #if (ex_channel == 'iq_ex_q2_F01_min' or ex_channel == 'iq_ex_q1_F01_min') and _iter==0:\n",
    "        #    continue\n",
    "        for nndac_channel_id, channel_voltage in working_points[ex_channel].items():\n",
    "            dac.set_voltage(channel_voltage, channel=nndac_channel_id)\n",
    "        coil = coils[ex_channel]\n",
    "        voltages = working_points[ex_channel][coil]+np.linspace(-0.025, 0.025, 21)\n",
    "        #plt.close('all')\n",
    "        #two_diff.Rabi_rect(rabi_lengths[ex_channel])\n",
    "        #two_diff.Ramsey(delaysT2, target_freq_offset)\n",
    "        #two_diff.Ramsey(delaysT2_coherence[ex_channel],target_freq_offset_coherence)\n",
    "        #two_diff.decay(delaysT1)\n",
    "        #two_diff.spin_echo(delaysT2_coherence[ex_channel],target_freq_offset_coherence)\n",
    "        #plt.close('all')\n",
    "        \n",
    "        two_diff.Ramsey(delaysT2_coherence[ex_channel],target_freq_offset_coherence, \n",
    "                    (voltages, lambda x: dac.set_voltage(x, channel=coil), 'Coil #{} voltage'.format(coil)))\n",
    "        #two_diff.decay(delaysT1, \n",
    "        #            (voltages, lambda x: dac.set_voltage(x, channel=coil), 'Coil #{} voltage'.format(coil)))\n",
    "        #two_diff.spin_echo(delaysT2_coherence[ex_channel],target_freq_offset_coherence, \n",
    "        #            (voltages, lambda x: dac.set_voltage(x, channel=coil), 'Coil #{} voltage'.format(coil)))"
   ]
  },
  {
   "cell_type": "code",
   "execution_count": 23,
   "metadata": {
    "collapsed": true
   },
   "outputs": [],
   "source": [
    "plt.close('all')"
   ]
  },
  {
   "cell_type": "code",
   "execution_count": 20,
   "metadata": {},
   "outputs": [
    {
     "data": {
      "text/plain": [
       "<nndac.nndac at 0x29da5eafbe0>"
      ]
     },
     "execution_count": 20,
     "metadata": {},
     "output_type": "execute_result"
    }
   ],
   "source": [
    "dac"
   ]
  },
  {
   "cell_type": "code",
   "execution_count": 231,
   "metadata": {},
   "outputs": [],
   "source": [
    "import qsweepy.save_pkl\n",
    "import pandas as pd\n",
    "measurement_folders = {'qubit1_1.93':\n",
    "               {'paths': [r'D:\\data\\2018-09-22\\03-24-38-Ramsey (target offset -3.00 MHz), excitation channel iq_ex_q1_F01_min',\n",
    "                r'D:\\data\\2018-09-22\\04-55-31-Ramsey (target offset -3.00 MHz), excitation channel iq_ex_q1_F01_min',\n",
    "                r'D:\\data\\2018-09-22\\09-06-10-Ramsey (target offset -3.00 MHz), excitation channel iq_ex_q1_F01_min',\n",
    "                r'D:\\data\\2018-09-22\\09-37-06-Ramsey (target offset -3.00 MHz), excitation channel iq_ex_q1_F01_min'],\n",
    "                'name': 'Ramsey (target offset -3.00 MHz), excitation channel iq_ex_q1_F01_min', 'q': '1'},\n",
    "                       'qubit1_1.80':\n",
    "               {'paths': [r'D:\\data\\2018-09-22\\10-07-49-Ramsey (target offset -3.00 MHz), excitation channel iq_ex_q1_F01_min',\n",
    "                          r'D:\\data\\2018-09-22\\10-38-28-Ramsey (target offset -3.00 MHz), excitation channel iq_ex_q1_F01_min',\n",
    "                          r'D:\\data\\2018-09-22\\11-09-04-Ramsey (target offset -3.00 MHz), excitation channel iq_ex_q1_F01_min'],\n",
    "                'name': 'Ramsey (target offset -3.00 MHz), excitation channel iq_ex_q1_F01_min', 'q': '1'},\n",
    "                       'qubit1_1.79':\n",
    "               {'paths': [r'D:\\data\\2018-09-22\\11-57-52-Ramsey (target offset -3.00 MHz), excitation channel iq_ex_q1_F01_min'],\n",
    "                'name': 'Ramsey (target offset -3.00 MHz), excitation channel iq_ex_q1_F01_min', 'q': '1'}}\n",
    "#measurement = qsweepy.save_pkl.load_pkl('Ramsey (target offset -3.00 MHz), excitation channel iq_ex_q1_F01_min', r'D:\\data\\2018-09-22\\03-24-38-Ramsey (target offset -3.00 MHz), excitation channel iq_ex_q1_F01_min')[1]\n",
    "#measurement = qsweepy.save_pkl.load_pkl('Ramsey (target offset -3.00 MHz), excitation channel iq_ex_q1_F01_min', r'D:\\data\\2018-09-22\\04-55-31-Ramsey (target offset -3.00 MHz), excitation channel iq_ex_q1_F01_min')[1]\n",
    "\n",
    "\n",
    "#measurement = qsweepy.save_pkl.load_pkl('Ramsey (target offset -3.00 MHz), excitation channel iq_ex_q2_F01_min', r'D:\\data\\2018-09-22\\03-54-59-Ramsey (target offset -3.00 MHz), excitation channel iq_ex_q2_F01_min')[1]\n",
    "#measurement = qsweepy.save_pkl.load_pkl('Ramsey (target offset -3.00 MHz), excitation channel iq_ex_q2_F01_min', r'D:\\data\\2018-09-22\\05-26-00-Ramsey (target offset -3.00 MHz), excitation channel iq_ex_q2_F01_min')[1]\n",
    "\n",
    "#measurement = qsweepy.save_pkl.load_pkl('Ramsey (target offset -3.00 MHz), excitation channel iq_ex_q3_F01_min', r'D:\\data\\2018-09-22\\04-25-11-Ramsey (target offset -3.00 MHz), excitation channel iq_ex_q3_F01_min')[1]\n",
    "#measurement = qsweepy.save_pkl.load_pkl('Ramsey (target offset -3.00 MHz), excitation channel iq_ex_q3_F01_min', r'D:\\data\\2018-09-22\\05-56-20-Ramsey (target offset -3.00 MHz), excitation channel iq_ex_q3_F01_min')[1]"
   ]
  },
  {
   "cell_type": "code",
   "execution_count": 232,
   "metadata": {},
   "outputs": [
    {
     "name": "stdout",
     "output_type": "stream",
     "text": [
      "D:\\data\\2018-09-22\\03-24-38-Ramsey (target offset -3.00 MHz), excitation channel iq_ex_q1_F01_min/Ramsey (target offset -3.00 MHz), excitation channel iq_ex_q1_F01_min.pkl\n",
      "D:\\data\\2018-09-22\\04-55-31-Ramsey (target offset -3.00 MHz), excitation channel iq_ex_q1_F01_min/Ramsey (target offset -3.00 MHz), excitation channel iq_ex_q1_F01_min.pkl\n",
      "D:\\data\\2018-09-22\\09-06-10-Ramsey (target offset -3.00 MHz), excitation channel iq_ex_q1_F01_min/Ramsey (target offset -3.00 MHz), excitation channel iq_ex_q1_F01_min.pkl\n",
      "D:\\data\\2018-09-22\\09-37-06-Ramsey (target offset -3.00 MHz), excitation channel iq_ex_q1_F01_min/Ramsey (target offset -3.00 MHz), excitation channel iq_ex_q1_F01_min.pkl\n",
      "D:\\data\\2018-09-22\\10-07-49-Ramsey (target offset -3.00 MHz), excitation channel iq_ex_q1_F01_min/Ramsey (target offset -3.00 MHz), excitation channel iq_ex_q1_F01_min.pkl\n",
      "D:\\data\\2018-09-22\\10-38-28-Ramsey (target offset -3.00 MHz), excitation channel iq_ex_q1_F01_min/Ramsey (target offset -3.00 MHz), excitation channel iq_ex_q1_F01_min.pkl\n",
      "D:\\data\\2018-09-22\\11-09-04-Ramsey (target offset -3.00 MHz), excitation channel iq_ex_q1_F01_min/Ramsey (target offset -3.00 MHz), excitation channel iq_ex_q1_F01_min.pkl\n",
      "D:\\data\\2018-09-22\\11-57-52-Ramsey (target offset -3.00 MHz), excitation channel iq_ex_q1_F01_min/Ramsey (target offset -3.00 MHz), excitation channel iq_ex_q1_F01_min.pkl\n"
     ]
    }
   ],
   "source": [
    "for measurement_type_name, measurement_type in measurement_folders.items(): \n",
    "    for measurement_folder in measurement_type['paths']:\n",
    "        measurement = qsweepy.save_pkl.load_pkl(measurement_type['name'], measurement_folder)[1]\n",
    "        q = measurement_type['q']\n",
    "        summary = pd.DataFrame([dict(fitting.exp_sin_fit(measurement['S21_r'+q][1][0], \n",
    "                         [np.real(measurement['S21_r'+q][2][:,dc_id]),\n",
    "                          np.imag(measurement['S21_r'+q][2][:,dc_id])])[-1], **{'dc':dc}) \n",
    "                             for dc_id, dc in enumerate(measurement['S21_r'+q][1][1])])\n",
    "        plt.figure(measurement_type_name+' Ramsey frequency')\n",
    "        plt.plot(np.asarray(summary['dc']), np.asarray(summary['freq'])/1e6)\n",
    "        plt.grid()\n",
    "        plt.xlabel('Control voltage, V')\n",
    "        plt.ylabel('Ramsey frequency, MHz')\n",
    "        plt.title(measurement_type_name+' Ramsey frequency')\n",
    "        plt.tight_layout()\n",
    "        plt.figure(measurement_type_name+' Ramsey decay')\n",
    "        plt.plot(np.asarray(summary['dc']), np.asarray(summary['decay'])*1e6)\n",
    "        plt.grid()\n",
    "        plt.xlabel('Control voltage, V')\n",
    "        plt.ylabel('Ramsey decay, $\\\\mu$s')\n",
    "        plt.title(measurement_type_name+' Ramsey decay')\n",
    "        plt.tight_layout()"
   ]
  },
  {
   "cell_type": "code",
   "execution_count": null,
   "metadata": {
    "collapsed": true
   },
   "outputs": [],
   "source": []
  },
  {
   "cell_type": "code",
   "execution_count": null,
   "metadata": {
    "collapsed": true
   },
   "outputs": [],
   "source": []
  }
 ],
 "metadata": {
  "kernelspec": {
   "display_name": "Python 3",
   "language": "python",
   "name": "python3"
  },
  "language_info": {
   "codemirror_mode": {
    "name": "ipython",
    "version": 3
   },
   "file_extension": ".py",
   "mimetype": "text/x-python",
   "name": "python",
   "nbconvert_exporter": "python",
   "pygments_lexer": "ipython3",
   "version": "3.6.3"
  },
  "toc": {
   "base_numbering": 1,
   "nav_menu": {
    "height": "511px",
    "width": "457px"
   },
   "number_sections": true,
   "sideBar": true,
   "skip_h1_title": false,
   "title_cell": "Table of Contents",
   "title_sidebar": "Contents",
   "toc_cell": false,
   "toc_position": {
    "height": "689px",
    "left": "384px",
    "top": "179.5px",
    "width": "283px"
   },
   "toc_section_display": true,
   "toc_window_display": true
  }
 },
 "nbformat": 4,
 "nbformat_minor": 1
}
