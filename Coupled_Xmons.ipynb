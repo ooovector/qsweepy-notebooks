{
 "cells": [
  {
   "cell_type": "markdown",
   "metadata": {},
   "source": [
    "### Вместо точек -- запятые!"
   ]
  },
  {
   "cell_type": "code",
   "execution_count": 1,
   "metadata": {},
   "outputs": [],
   "source": [
    "#Locale settings\n",
    "import locale\n",
    "# Set to German locale to get comma decimal separater\n",
    "locale.setlocale(locale.LC_NUMERIC, \"deu_DEU\")\n",
    "\n",
    "import numpy as np\n",
    "import matplotlib.pyplot as plt\n",
    "plt.rcdefaults()\n",
    "\n",
    "# Tell matplotlib to use the locale we set above\n",
    "plt.rcParams['axes.formatter.use_locale'] = True"
   ]
  },
  {
   "cell_type": "markdown",
   "metadata": {},
   "source": [
    "### Запуск QtLab"
   ]
  },
  {
   "cell_type": "code",
   "execution_count": 4,
   "metadata": {
    "scrolled": true
   },
   "outputs": [],
   "source": [
    "%matplotlib qt5\n",
    "from qsweepy import *\n",
    "from qsweepy.instruments import *\n",
    "from qsweepy.save_pkl import save_pkl\n",
    "import matplotlib.pyplot as plt\n",
    "import numpy as np\n",
    "from matplotlib import interactive\n",
    "interactive(True)"
   ]
  },
  {
   "cell_type": "code",
   "execution_count": 5,
   "metadata": {},
   "outputs": [],
   "source": [
    "#Параметры кубитов.all keys should be str\n",
    "qubits = {'1': {'r':{\n",
    "                    'Fr': 6.599e9, #6.59783e9,\n",
    "                    'Fr_min': 6.598e9,#6.575e9,\n",
    "                    'Fr_max': 6.603e9,#6.62e9,\n",
    "                    'dFr': 0.02e6,#0.1e6, # tolerance of resonator frequency\n",
    "                     'P': -65 },\n",
    "                'q':{\n",
    "                    \"F\":\n",
    "                     {'F01_min':4.985e9},#5.505e9}, # was 5.508e9,last 5.51812\n",
    "                     'P':\n",
    "                     {'nndac_coil_id':6,#0,\n",
    "                      'awg_tek_coil_channel':1,\n",
    "                      'coil_device_channel':1,\n",
    "                     'P':None,    \n",
    "                     #'Fmin_coil_currents':{0:1.74, 2:-0.300, 4:0.040}#\"\"\"2.02\"\"\"\n",
    "                    #'Fmin_coil_currents':{0:1.826, 2:-0.000, 4:0.000}#\"\"\"2.02\"\"\"\n",
    "                    #'Fmin_coil_currents':{0:1.820, 2:-0.050, 4:0.000}#\"\"\"2.02\"\"\"\n",
    "                      #'Fmin_coil_currents':{0:1.814, 2:-0.100, 4:0.000}#\"\"\"2.02\"\"\"\n",
    "                     #'Fmin_coil_currents':{0:1.79, 2:-0.200, 4:0.000}#\"\"\"2.02\"\"\"\n",
    "                    #'Fmin_coil_currents':{0:1.246, 2:-0.00, 4:-2.90}#\"\"\"2.02\"\"\"\n",
    "                      #'Fmin_coil_currents':{0:1.33, 2:-1.5, 4:-2.50},\n",
    "                      #'Fmin_coil_currents':{0:-1.6, 2:0, 4:-0},\n",
    "                      #'Fmin_coil_currents':{0:-1.71, 2:0.0, 4:0.0} ,\n",
    "                      'Fmin_coil_currents':{0:-1.65, 2:0.0, 4:0.0}, #1809-001-2-revolution\n",
    "                      'Fmin_coil_currents':{6:-1.51, 8:-0.0, 10:0.0}, #1808-072-1-revolution\n",
    "                      'Fmin_coil_currents':{6:-1.6, 8:-0.4, 10:0.0}, #1808-072-1-revolution\n",
    "                      'Fmin_coil_currents':{6:1.261, 8:-1.486, 10:-1.974}, #1808-072-1-revolution\n",
    "                      'Fmin_coil_currents':{6:1.500, 8:-0.223, 10:-2.16}, #1808-072-1-revolution\n",
    "                      'Fmin_coil_currents':{6:1.52699178, 8:-0.08319558, 10:-2.29904575}\n",
    "                      #'Fmin_coil_currents':{6:1.574, 8:-0.262, 10:-2.389}, #1808-072-1-revolution   \n",
    "                      #'Fmin_coil_currents':{6:-1.69, 8:-0.58703473, 10:-0.77449362},\n",
    "                      #'Fmin_coil_currents':{6:-1.51, 8:0.2017048, 10:-0.66385044},\n",
    "                      #'Fmin_coil_currents':{6:1.334, 8:-1.19877866, 10:-1.82},\n",
    "                     }\n",
    "                    }},\n",
    "          '2': {'r':{\n",
    "                    'Fr': 6.879e9, #6.8791e9,\n",
    "                    'Fr_min': 6.878e9,#6.734e9,#6.879e9,#6.82e9,\n",
    "                    'Fr_max': 6.883e9,#6.788e9,#6.884e9,#6.92e9,\n",
    "                    'dFr': 0.02e6,#0.1e6, # tolerance of resonator frequency\n",
    "                     'P': -65 },\n",
    "                'q':{\n",
    "                    \"F\":\n",
    "                    {'F01_min':5.010e9},#{'F01_min':5.519e9},#5.52025\n",
    "                    'P':\n",
    "                     {\n",
    "                     'nndac_coil_id':8,#2,\n",
    "                     'awg_tek_coil_channel':2,\n",
    "                     'coil_device_channel':2,\n",
    "                     'P':None, \n",
    "                     #'Fmin_coil_currents':{0:0.0, 2: -1.80, 4:-0.0}\n",
    "                    #'Fmin_coil_currents':{0:1.39, 2: 1.61, 4:0.0}\n",
    "                     #'Fmin_coil_currents':{0:0, 2:-1.737, 4:0},\n",
    "                     'Fmin_coil_currents':{6:0, 8:-1.6, 10:0}, #1808-072-1-revolution\n",
    "                     'Fmin_coil_currents':{6:2.83358946, 8:-1.2104548 , 10:-0.67273619},\n",
    "                     'Fmin_coil_currents':{6:-0.1087136, 8:-1.200, 10:0.81756234},\n",
    "                     'Fmin_coil_currents':{6:-0.61722937, 8:-2.67, 10:-2.4849594},\n",
    "                     'Fmin_coil_currents':{6:1.261, 8:-1.486, 10:-1.974}, #1808-072-1-revolution\n",
    "                     'Fmin_coil_currents':{6:1.527, 8:-0.083, 10:-2.500}, #1808-072-1-revolution\n",
    "                     'Fmin_coil_currents':{6:1.574, 8:-0.262, 10:-2.389}, #1808-072-1-revolution    \n",
    "                     'Fmin_coil_currents':{6:1.500, 8:-0.223, 10:-2.16}, #1808-072-1-revolution\n",
    "                     'Fmin_coil_currents':{6:1.52699178, 8:-0.08319558, 10:-2.29904575}\n",
    "                     }\n",
    "                }},\n",
    "          '3': {'r':{\n",
    "                    'Fr': 6.734e9,#'Fr': 6.7335e9,\n",
    "                    'Fr_min': 6.733e9,#6.72e9,\n",
    "                    'Fr_max': 6.737e9,#6.76e9,\n",
    "                     'dFr': 0.02e6,#0.1e6, # tolerance of resonator frequency\n",
    "                     'P': -65 },\n",
    "                'q':{\n",
    "                    \"F\":\n",
    "                    {'F01_min':4.833e9},#{'F01_min':5.45525e9},#5.45678\n",
    "                    'P':\n",
    "                     {\n",
    "                    'nndac_coil_id':10,#4,\n",
    "                    'awg_tek_coil_channel':3,\n",
    "                    'coil_device_channel':3,\n",
    "                     'P':None, \n",
    "                    #'Fmin_coil_currents':{0:0.0, 2:0.0, 4:-2.585},\n",
    "                    'Fmin_coil_currents':{6:0.0, 8:0.0, 10:-3.3},\n",
    "                    'Fmin_coil_currents':{ 6:2.98395593, 8:-1.22890925, 10:-1.1},\n",
    "                    #'Fmin_coil_currents':{6:1.334, 8:-1.19877866, 10:-1.82},\n",
    "                    #'Fmin_coil_currents':{0:1.35, 2:-1.5, 4:-2.458}   \n",
    "                    'Fmin_coil_currents':{6:-0.61722937, 8:-2.67, 10:-2.4849594},\n",
    "                    'Fmin_coil_currents':{6:1.261, 8:-1.486, 10:-1.974}, #1808-072-1-revolution\n",
    "                    'Fmin_coil_currents':{6:1.527, 8:-0.083, 10:-2.500}, #1808-072-1-revolution\n",
    "                    'Fmin_coil_currents':{6:1.574, 8:-0.262, 10:-2.389}, #1808-072-1-revolution     \n",
    "                    'Fmin_coil_currents':{6:1.500, 8:-0.223, 10:-2.16}, #1808-072-1-revolution\n",
    "                    'Fmin_coil_currents':{6:1.52699178, 8:-0.08319558, 10:-2.29904575}\n",
    "                     }\n",
    "                }}\n",
    "         }\n",
    "\n",
    "L = np.asarray([[0.292, -0.055, 0.016], [-0.060, 0.268, 0.035], [-0.019, 0.0, 0.178]])\n",
    "I0 = np.asarray([0.118, 0.274, 0.215])\n",
    "Lpi1_inv = np.asarray([])\n",
    "\n",
    "L = np.asarray([[ 2.432, -0.476,  -0.144], [ 0.583 ,  2.178, -1.084], [-0.689,  0.473,  0.989  ]])\n",
    "I0 = np.asarray([-0.002, -0.004, 0.002])\n",
    " \n",
    "\n",
    "qubit_id = '3'\n",
    "switch_to_sample = {'1':4, '2':3}\n",
    "sample_name = '1808-072-2-2QGA1'\n",
    "coil_control_channels = [1,2,3]\n",
    "#it should be dumped too\n",
    "#qubits_dump = {\"qubits\":qubit_params,'switch':switch_to_sample}\n",
    "#qjson.dump('qubits','qubit_params',qubits_dump)"
   ]
  },
  {
   "cell_type": "code",
   "execution_count": 6,
   "metadata": {},
   "outputs": [],
   "source": [
    "def set_qubit_fluxes(fluxes):\n",
    "    zero_flux = np.asarray([L[i,i]*I0[i] for i in range(len(qubits))])\n",
    "    fluxes_corrected = fluxes+zero_flux\n",
    "    currents = np.linalg.solve(L, fluxes_corrected)\n",
    "    \n",
    "    for qubit_id_numerical, qubit_name in enumerate(['1', '2', '3']):\n",
    "        qubit_coil_id = qubits[qubit_name]['q']['nndac_coil_id']\n",
    "        dac.set_voltage(currents[qubit_id_numerical], channel=qubit_coil_id)\n",
    "        \n",
    "    print(currents, fluxes_corrected)"
   ]
  },
  {
   "cell_type": "code",
   "execution_count": 7,
   "metadata": {},
   "outputs": [],
   "source": [
    "#current_src1 = Yokogawa_GS210(address='GPIB::1::INSTR')\n"
   ]
  },
  {
   "cell_type": "markdown",
   "metadata": {},
   "source": [
    "# Спектроскопия"
   ]
  },
  {
   "cell_type": "code",
   "execution_count": 8,
   "metadata": {},
   "outputs": [
    {
     "name": "stderr",
     "output_type": "stream",
     "text": [
      "C:\\ProgramData\\Anaconda3\\lib\\site-packages\\pyvisa\\resources\\messagebased.py:573: FutureWarning: ask is deprecated and will be removed in 1.10, use query instead.\n",
      "  '1.10, use query instead.', FutureWarning)\n",
      "WARNING:root:Tektronix_AWG5014 : get all not yet fully functional\n"
     ]
    }
   ],
   "source": [
    "# RF switch for making sure we know what sample we are measuring\n",
    "pna = Agilent_N5242A('pna', address = 'TCPIP0::10.20.61.48::inst0::INSTR')\n",
    "lo1 = Agilent_E8257D('lo1', address = 'TCPIP0::10.20.61.59::inst0::INSTR')\n",
    "rf_switch = nn_rf_switch('rf_switch', address='10.20.61.224')\n",
    "CHASSIS = 0\n",
    "SLOT_AWG1 = 3\n",
    "SLOT_AWG2 = 5\n",
    "adc = instruments.Spectrum_M4i22xx('adc')\n",
    "\n",
    "awg1 = Keysight_M3202A_S('awg1', CHASSIS, SLOT_AWG1)\n",
    "awg2 = Keysight_M3202A_S('awg2', CHASSIS, SLOT_AWG2)\n",
    "\n",
    "awg_tek = Tektronix_AWG5014('awg_tek', address = 'TCPIP0::10.20.61.186::inst0::INSTR')\n",
    "\n",
    "sa = Agilent_N9030A('pxa', address = 'TCPIP0::10.20.61.56::inst0::INSTR')\n",
    "lo_ex = lo1\n",
    "lo_ro = pna\n",
    "coil_device = awg_tek"
   ]
  },
  {
   "cell_type": "code",
   "execution_count": 7,
   "metadata": {},
   "outputs": [],
   "source": [
    "awg1.set_offset(0, channel=3)\n",
    "awg1.set_amplitude(0, channel=3)\n",
    "awg1.set_waveform([0]*50000, channel=3)\n",
    "awg1.set_output(1, channel=3)\n",
    "awg1.run()"
   ]
  },
  {
   "cell_type": "code",
   "execution_count": 8,
   "metadata": {},
   "outputs": [
    {
     "ename": "VisaIOError",
     "evalue": "VI_ERROR_RSRC_NFOUND (-1073807343): Insufficient location information or the requested device or resource is not present in the system.",
     "output_type": "error",
     "traceback": [
      "\u001b[1;31m---------------------------------------------------------------------------\u001b[0m",
      "\u001b[1;31mVisaIOError\u001b[0m                               Traceback (most recent call last)",
      "\u001b[1;32m<ipython-input-8-c0f448f9d114>\u001b[0m in \u001b[0;36m<module>\u001b[1;34m()\u001b[0m\n\u001b[1;32m----> 1\u001b[1;33m \u001b[0mdac\u001b[0m \u001b[1;33m=\u001b[0m \u001b[0mnndac\u001b[0m\u001b[1;33m(\u001b[0m\u001b[1;34m'TCPIP0::10.20.61.12::1000::SOCKET'\u001b[0m\u001b[1;33m)\u001b[0m\u001b[1;33m\u001b[0m\u001b[0m\n\u001b[0m",
      "\u001b[1;32mC:\\qtlab_replacement\\qsweepy\\instrument_drivers\\nndac.py\u001b[0m in \u001b[0;36m__init__\u001b[1;34m(self, resource)\u001b[0m\n\u001b[0;32m      7\u001b[0m         \u001b[1;32mdef\u001b[0m \u001b[0m__init__\u001b[0m\u001b[1;33m(\u001b[0m\u001b[0mself\u001b[0m\u001b[1;33m,\u001b[0m \u001b[0mresource\u001b[0m\u001b[1;33m)\u001b[0m\u001b[1;33m:\u001b[0m\u001b[1;33m\u001b[0m\u001b[0m\n\u001b[0;32m      8\u001b[0m                 \u001b[0mself\u001b[0m\u001b[1;33m.\u001b[0m\u001b[0m_resource\u001b[0m \u001b[1;33m=\u001b[0m \u001b[0mresource\u001b[0m\u001b[1;33m\u001b[0m\u001b[0m\n\u001b[1;32m----> 9\u001b[1;33m                 \u001b[0mself\u001b[0m\u001b[1;33m.\u001b[0m\u001b[0m_visainstrument\u001b[0m \u001b[1;33m=\u001b[0m \u001b[0mvisa\u001b[0m\u001b[1;33m.\u001b[0m\u001b[0mResourceManager\u001b[0m\u001b[1;33m(\u001b[0m\u001b[1;33m)\u001b[0m\u001b[1;33m.\u001b[0m\u001b[0mopen_resource\u001b[0m\u001b[1;33m(\u001b[0m\u001b[0mself\u001b[0m\u001b[1;33m.\u001b[0m\u001b[0m_resource\u001b[0m\u001b[1;33m)\u001b[0m\u001b[1;33m\u001b[0m\u001b[0m\n\u001b[0m\u001b[0;32m     10\u001b[0m                 \u001b[0mself\u001b[0m\u001b[1;33m.\u001b[0m\u001b[0m_visainstrument\u001b[0m\u001b[1;33m.\u001b[0m\u001b[0mwrite_termination\u001b[0m \u001b[1;33m=\u001b[0m \u001b[1;34m'\\n'\u001b[0m\u001b[1;33m\u001b[0m\u001b[0m\n\u001b[0;32m     11\u001b[0m                 \u001b[0mself\u001b[0m\u001b[1;33m.\u001b[0m\u001b[0m_visainstrument\u001b[0m\u001b[1;33m.\u001b[0m\u001b[0mread_termination\u001b[0m \u001b[1;33m=\u001b[0m \u001b[1;34m'\\n'\u001b[0m\u001b[1;33m\u001b[0m\u001b[0m\n",
      "\u001b[1;32mC:\\ProgramData\\Anaconda3\\lib\\site-packages\\pyvisa\\highlevel.py\u001b[0m in \u001b[0;36mopen_resource\u001b[1;34m(self, resource_name, access_mode, open_timeout, resource_pyclass, **kwargs)\u001b[0m\n\u001b[0;32m   1722\u001b[0m                 \u001b[1;32mraise\u001b[0m \u001b[0mValueError\u001b[0m\u001b[1;33m(\u001b[0m\u001b[1;34m'%r is not a valid attribute for type %s'\u001b[0m \u001b[1;33m%\u001b[0m \u001b[1;33m(\u001b[0m\u001b[0mkey\u001b[0m\u001b[1;33m,\u001b[0m \u001b[0mres\u001b[0m\u001b[1;33m.\u001b[0m\u001b[0m__class__\u001b[0m\u001b[1;33m.\u001b[0m\u001b[0m__name__\u001b[0m\u001b[1;33m)\u001b[0m\u001b[1;33m)\u001b[0m\u001b[1;33m\u001b[0m\u001b[0m\n\u001b[0;32m   1723\u001b[0m \u001b[1;33m\u001b[0m\u001b[0m\n\u001b[1;32m-> 1724\u001b[1;33m         \u001b[0mres\u001b[0m\u001b[1;33m.\u001b[0m\u001b[0mopen\u001b[0m\u001b[1;33m(\u001b[0m\u001b[0maccess_mode\u001b[0m\u001b[1;33m,\u001b[0m \u001b[0mopen_timeout\u001b[0m\u001b[1;33m)\u001b[0m\u001b[1;33m\u001b[0m\u001b[0m\n\u001b[0m\u001b[0;32m   1725\u001b[0m \u001b[1;33m\u001b[0m\u001b[0m\n\u001b[0;32m   1726\u001b[0m         \u001b[1;32mfor\u001b[0m \u001b[0mkey\u001b[0m\u001b[1;33m,\u001b[0m \u001b[0mvalue\u001b[0m \u001b[1;32min\u001b[0m \u001b[0mkwargs\u001b[0m\u001b[1;33m.\u001b[0m\u001b[0mitems\u001b[0m\u001b[1;33m(\u001b[0m\u001b[1;33m)\u001b[0m\u001b[1;33m:\u001b[0m\u001b[1;33m\u001b[0m\u001b[0m\n",
      "\u001b[1;32mC:\\ProgramData\\Anaconda3\\lib\\site-packages\\pyvisa\\resources\\resource.py\u001b[0m in \u001b[0;36mopen\u001b[1;34m(self, access_mode, open_timeout)\u001b[0m\n\u001b[0;32m    207\u001b[0m         \u001b[0mlogger\u001b[0m\u001b[1;33m.\u001b[0m\u001b[0mdebug\u001b[0m\u001b[1;33m(\u001b[0m\u001b[1;34m'%s - opening ...'\u001b[0m\u001b[1;33m,\u001b[0m \u001b[0mself\u001b[0m\u001b[1;33m.\u001b[0m\u001b[0m_resource_name\u001b[0m\u001b[1;33m,\u001b[0m \u001b[0mextra\u001b[0m\u001b[1;33m=\u001b[0m\u001b[0mself\u001b[0m\u001b[1;33m.\u001b[0m\u001b[0m_logging_extra\u001b[0m\u001b[1;33m)\u001b[0m\u001b[1;33m\u001b[0m\u001b[0m\n\u001b[0;32m    208\u001b[0m         \u001b[1;32mwith\u001b[0m \u001b[0mself\u001b[0m\u001b[1;33m.\u001b[0m\u001b[0m_resource_manager\u001b[0m\u001b[1;33m.\u001b[0m\u001b[0mignore_warning\u001b[0m\u001b[1;33m(\u001b[0m\u001b[0mconstants\u001b[0m\u001b[1;33m.\u001b[0m\u001b[0mVI_SUCCESS_DEV_NPRESENT\u001b[0m\u001b[1;33m)\u001b[0m\u001b[1;33m:\u001b[0m\u001b[1;33m\u001b[0m\u001b[0m\n\u001b[1;32m--> 209\u001b[1;33m             \u001b[0mself\u001b[0m\u001b[1;33m.\u001b[0m\u001b[0msession\u001b[0m\u001b[1;33m,\u001b[0m \u001b[0mstatus\u001b[0m \u001b[1;33m=\u001b[0m \u001b[0mself\u001b[0m\u001b[1;33m.\u001b[0m\u001b[0m_resource_manager\u001b[0m\u001b[1;33m.\u001b[0m\u001b[0mopen_bare_resource\u001b[0m\u001b[1;33m(\u001b[0m\u001b[0mself\u001b[0m\u001b[1;33m.\u001b[0m\u001b[0m_resource_name\u001b[0m\u001b[1;33m,\u001b[0m \u001b[0maccess_mode\u001b[0m\u001b[1;33m,\u001b[0m \u001b[0mopen_timeout\u001b[0m\u001b[1;33m)\u001b[0m\u001b[1;33m\u001b[0m\u001b[0m\n\u001b[0m\u001b[0;32m    210\u001b[0m \u001b[1;33m\u001b[0m\u001b[0m\n\u001b[0;32m    211\u001b[0m             \u001b[1;32mif\u001b[0m \u001b[0mstatus\u001b[0m \u001b[1;33m==\u001b[0m \u001b[0mconstants\u001b[0m\u001b[1;33m.\u001b[0m\u001b[0mVI_SUCCESS_DEV_NPRESENT\u001b[0m\u001b[1;33m:\u001b[0m\u001b[1;33m\u001b[0m\u001b[0m\n",
      "\u001b[1;32mC:\\ProgramData\\Anaconda3\\lib\\site-packages\\pyvisa\\highlevel.py\u001b[0m in \u001b[0;36mopen_bare_resource\u001b[1;34m(self, resource_name, access_mode, open_timeout)\u001b[0m\n\u001b[0;32m   1679\u001b[0m         \u001b[1;33m:\u001b[0m\u001b[1;32mreturn\u001b[0m\u001b[1;33m:\u001b[0m \u001b[0mUnique\u001b[0m \u001b[0mlogical\u001b[0m \u001b[0midentifier\u001b[0m \u001b[0mreference\u001b[0m \u001b[0mto\u001b[0m \u001b[0ma\u001b[0m \u001b[0msession\u001b[0m\u001b[1;33m.\u001b[0m\u001b[1;33m\u001b[0m\u001b[0m\n\u001b[0;32m   1680\u001b[0m         \"\"\"\n\u001b[1;32m-> 1681\u001b[1;33m         \u001b[1;32mreturn\u001b[0m \u001b[0mself\u001b[0m\u001b[1;33m.\u001b[0m\u001b[0mvisalib\u001b[0m\u001b[1;33m.\u001b[0m\u001b[0mopen\u001b[0m\u001b[1;33m(\u001b[0m\u001b[0mself\u001b[0m\u001b[1;33m.\u001b[0m\u001b[0msession\u001b[0m\u001b[1;33m,\u001b[0m \u001b[0mresource_name\u001b[0m\u001b[1;33m,\u001b[0m \u001b[0maccess_mode\u001b[0m\u001b[1;33m,\u001b[0m \u001b[0mopen_timeout\u001b[0m\u001b[1;33m)\u001b[0m\u001b[1;33m\u001b[0m\u001b[0m\n\u001b[0m\u001b[0;32m   1682\u001b[0m \u001b[1;33m\u001b[0m\u001b[0m\n\u001b[0;32m   1683\u001b[0m     def open_resource(self, resource_name,\n",
      "\u001b[1;32mC:\\ProgramData\\Anaconda3\\lib\\site-packages\\pyvisa\\ctwrapper\\functions.py\u001b[0m in \u001b[0;36mopen\u001b[1;34m(library, session, resource_name, access_mode, open_timeout)\u001b[0m\n\u001b[0;32m   1211\u001b[0m     \u001b[1;31m# [ViSession, ViRsrc, ViAccessMode, ViUInt32, ViPSession]\u001b[0m\u001b[1;33m\u001b[0m\u001b[1;33m\u001b[0m\u001b[0m\n\u001b[0;32m   1212\u001b[0m     \u001b[1;31m# ViRsrc converts from (str, unicode, bytes) to bytes\u001b[0m\u001b[1;33m\u001b[0m\u001b[1;33m\u001b[0m\u001b[0m\n\u001b[1;32m-> 1213\u001b[1;33m     \u001b[0mret\u001b[0m \u001b[1;33m=\u001b[0m \u001b[0mlibrary\u001b[0m\u001b[1;33m.\u001b[0m\u001b[0mviOpen\u001b[0m\u001b[1;33m(\u001b[0m\u001b[0msession\u001b[0m\u001b[1;33m,\u001b[0m \u001b[0mresource_name\u001b[0m\u001b[1;33m,\u001b[0m \u001b[0maccess_mode\u001b[0m\u001b[1;33m,\u001b[0m \u001b[0mopen_timeout\u001b[0m\u001b[1;33m,\u001b[0m \u001b[0mbyref\u001b[0m\u001b[1;33m(\u001b[0m\u001b[0mout_session\u001b[0m\u001b[1;33m)\u001b[0m\u001b[1;33m)\u001b[0m\u001b[1;33m\u001b[0m\u001b[0m\n\u001b[0m\u001b[0;32m   1214\u001b[0m     \u001b[1;32mreturn\u001b[0m \u001b[0mout_session\u001b[0m\u001b[1;33m.\u001b[0m\u001b[0mvalue\u001b[0m\u001b[1;33m,\u001b[0m \u001b[0mret\u001b[0m\u001b[1;33m\u001b[0m\u001b[0m\n\u001b[0;32m   1215\u001b[0m \u001b[1;33m\u001b[0m\u001b[0m\n",
      "\u001b[1;32mC:\\ProgramData\\Anaconda3\\lib\\site-packages\\pyvisa\\ctwrapper\\highlevel.py\u001b[0m in \u001b[0;36m_return_handler\u001b[1;34m(self, ret_value, func, arguments)\u001b[0m\n\u001b[0;32m    186\u001b[0m \u001b[1;33m\u001b[0m\u001b[0m\n\u001b[0;32m    187\u001b[0m         \u001b[1;32mif\u001b[0m \u001b[0mret_value\u001b[0m \u001b[1;33m<\u001b[0m \u001b[1;36m0\u001b[0m\u001b[1;33m:\u001b[0m\u001b[1;33m\u001b[0m\u001b[0m\n\u001b[1;32m--> 188\u001b[1;33m             \u001b[1;32mraise\u001b[0m \u001b[0merrors\u001b[0m\u001b[1;33m.\u001b[0m\u001b[0mVisaIOError\u001b[0m\u001b[1;33m(\u001b[0m\u001b[0mret_value\u001b[0m\u001b[1;33m)\u001b[0m\u001b[1;33m\u001b[0m\u001b[0m\n\u001b[0m\u001b[0;32m    189\u001b[0m \u001b[1;33m\u001b[0m\u001b[0m\n\u001b[0;32m    190\u001b[0m         \u001b[1;32mif\u001b[0m \u001b[0mret_value\u001b[0m \u001b[1;32min\u001b[0m \u001b[0mself\u001b[0m\u001b[1;33m.\u001b[0m\u001b[0missue_warning_on\u001b[0m\u001b[1;33m:\u001b[0m\u001b[1;33m\u001b[0m\u001b[0m\n",
      "\u001b[1;31mVisaIOError\u001b[0m: VI_ERROR_RSRC_NFOUND (-1073807343): Insufficient location information or the requested device or resource is not present in the system."
     ]
    }
   ],
   "source": [
    "dac = nndac('TCPIP0::10.20.61.12::1000::SOCKET')"
   ]
  },
  {
   "cell_type": "markdown",
   "metadata": {},
   "source": [
    "# Mixer bypass"
   ]
  },
  {
   "cell_type": "code",
   "execution_count": null,
   "metadata": {},
   "outputs": [],
   "source": [
    "dac.set_voltage(qubits[qubit_id]['q']['P']['Fmin_coil_currents'][qubits[qubit_id]['q']['P']['nndac_coil_id']],\n",
    "                channel=qubits[qubit_id]['q']['P']['nndac_coil_id'])"
   ]
  },
  {
   "cell_type": "code",
   "execution_count": 8,
   "metadata": {},
   "outputs": [
    {
     "name": "stderr",
     "output_type": "stream",
     "text": [
      "C:\\ProgramData\\Anaconda3\\lib\\site-packages\\pyvisa\\resources\\messagebased.py:573: FutureWarning: ask is deprecated and will be removed in 1.10, use query instead.\n",
      "  '1.10, use query instead.', FutureWarning)\n"
     ]
    }
   ],
   "source": [
    "# когда спектроскопия не рабтает и всё плохо, тыкай сюды!\n",
    "# вектнй анлизатр цепей - в режим свипа по частоте\n",
    "pna.set_sweep_mode(\"LIN\")\n",
    "# смесители - открыть\n",
    "#awg_tek = awg\n",
    "#for channel in range(0,4):\n",
    "#awg._visainstrument.write('AWGC:DOUT1 OFF')\n",
    "#awg._visainstrument.write('AWGC:DOUT2 OFF')\n",
    "#awg._visainstrument.write('AWGC:DOUT3 OFF')\n",
    "#awg._visainstrument.write('AWGC:DOUT4 OFF')\n",
    "awg2.trigger_source_types = [0,6,6,6]\n",
    "awg2.trigger_source_channels = [0, 4000,4000,4000]\n",
    "awg2.trigger_delays = [40, 0,0,0]\n",
    "awg2.trigger_behaviours = [0,4,4,4]\n",
    "awg1.trigger_source_types = [6,6,6,6]\n",
    "awg1.trigger_source_channels = [4000, 4000,4000,4000]\n",
    "awg1.trigger_delays = [0, 0,0,0]\n",
    "awg1.trigger_behaviours = [4,4,4,4]\n",
    "awg2.set_trigger_mode(0)\n",
    "for channel in range(0,4):\n",
    "    awg2.set_amplitude(0.2, channel=channel)\n",
    "    awg2.set_offset(0.2,channel=channel)\n",
    "    awg2.set_output(1, channel=channel)\n",
    "    awg2.set_waveform(waveform = [0]*20000, channel=channel)\n",
    "for channel in range(0,4):\n",
    "    awg1.set_amplitude(0.2, channel=channel)\n",
    "    awg1.set_offset(0.2,channel=channel)\n",
    "    awg1.set_output(1, channel=channel)\n",
    "    awg1.set_waveform(waveform = [0]*20000, channel=channel)\n",
    "for channel in range(1,5):\n",
    "    awg_tek.set_amplitude(0.2, channel=channel)\n",
    "    awg_tek.set_offset(0.0,channel=channel)\n",
    "    awg_tek.set_output(1, channel=channel)\n",
    "    awg_tek.set_waveform([0]*20000, channel=channel)\n",
    "awg2.set_marker(length=5, delay=0, channel=0, pxi_channels=1)\n",
    "awg1.set_marker(length=5, delay=0, channel=0, pxi_channels=2)\n",
    "awg2.run()\n",
    "awg1.run()\n",
    "#     \n",
    "\n",
    "# Задаём постояннmtые смещения на каналы 1 и 3\n",
    "#awg_tek.set_waveform([0]*awg_tek.get_nop(), channel=1)\n",
    "#awg_tek.set_waveform([0]*awg_tek.get_nop(), channel=2)\n",
    "#awg_tek.set_waveform([0]*awg_tek.get_nop(), channel=3)\n",
    "#awg_tek.set_waveform([0]*awg_tek.get_nop(), channel=4)"
   ]
  },
  {
   "cell_type": "markdown",
   "metadata": {},
   "source": [
    "# Резонаторная спектроскопия"
   ]
  },
  {
   "cell_type": "markdown",
   "metadata": {},
   "source": [
    "### Одномерный скан при фиксированном токе "
   ]
  },
  {
   "cell_type": "markdown",
   "metadata": {},
   "source": [
    "## Overview"
   ]
  },
  {
   "cell_type": "code",
   "execution_count": 9,
   "metadata": {},
   "outputs": [
    {
     "name": "stderr",
     "output_type": "stream",
     "text": [
      "C:\\ProgramData\\Anaconda3\\lib\\site-packages\\pyvisa\\resources\\messagebased.py:573: FutureWarning: ask is deprecated and will be removed in 1.10, use query instead.\n",
      "  '1.10, use query instead.', FutureWarning)\n"
     ]
    }
   ],
   "source": [
    "lo1.set_status(0)\n",
    "pna.set_status(1)\n",
    "pna.set_power(-45) # \n",
    "pna.set_nop(1001)\n",
    "pna.set_bandwidth(2000)\n",
    "pna.set_xlim(6.5e9, 7.0e9)\n",
    "#pna.set_bandwidth(100)\n",
    "freqs = pna.get_freqpoints()\n",
    "S21 = pna.get_tracedata()"
   ]
  },
  {
   "cell_type": "markdown",
   "metadata": {},
   "source": [
    "## All anticrossings in same scan"
   ]
  },
  {
   "cell_type": "code",
   "execution_count": 10,
   "metadata": {},
   "outputs": [
    {
     "name": "stderr",
     "output_type": "stream",
     "text": [
      "C:\\ProgramData\\Anaconda3\\lib\\site-packages\\pyvisa\\resources\\messagebased.py:573: FutureWarning: ask is deprecated and will be removed in 1.10, use query instead.\n",
      "  '1.10, use query instead.', FutureWarning)\n"
     ]
    }
   ],
   "source": [
    "#pna.get_points()['S-parameter'][0][1]\n",
    "pna.set_power(5)\n",
    "pna.set_bandwidth(200)\n",
    "pna.pre_sweep()\n",
    "plt.plot(pna.get_points()['S-parameter'][0][1],np.log10(np.abs(pna.measure()['S-parameter']))*10)\n",
    "pna.post_sweep()"
   ]
  },
  {
   "cell_type": "code",
   "execution_count": 14,
   "metadata": {
    "scrolled": true
   },
   "outputs": [
    {
     "ename": "ValueError",
     "evalue": "awg_tek is the active coil control device. This cell is for nndac.",
     "output_type": "error",
     "traceback": [
      "\u001b[1;31m---------------------------------------------------------------------------\u001b[0m",
      "\u001b[1;31mValueError\u001b[0m                                Traceback (most recent call last)",
      "\u001b[1;32m<ipython-input-14-a31d79c49ee6>\u001b[0m in \u001b[0;36m<module>\u001b[1;34m()\u001b[0m\n\u001b[0;32m      1\u001b[0m \u001b[1;32mif\u001b[0m \u001b[0mcoil_device\u001b[0m \u001b[1;33m==\u001b[0m \u001b[0mawg_tek\u001b[0m\u001b[1;33m:\u001b[0m\u001b[1;33m\u001b[0m\u001b[0m\n\u001b[1;32m----> 2\u001b[1;33m     \u001b[1;32mraise\u001b[0m \u001b[0mValueError\u001b[0m\u001b[1;33m(\u001b[0m\u001b[1;34m'awg_tek is the active coil control device. This cell is for nndac.'\u001b[0m\u001b[1;33m)\u001b[0m\u001b[1;33m\u001b[0m\u001b[0m\n\u001b[0m\u001b[0;32m      3\u001b[0m \u001b[1;31m#coil = 'z1'\u001b[0m\u001b[1;33m\u001b[0m\u001b[1;33m\u001b[0m\u001b[0m\n\u001b[0;32m      4\u001b[0m \u001b[1;31m#current_max = 1.5e-3\u001b[0m\u001b[1;33m\u001b[0m\u001b[1;33m\u001b[0m\u001b[0m\n\u001b[0;32m      5\u001b[0m \u001b[0mvoltage_max\u001b[0m \u001b[1;33m=\u001b[0m \u001b[1;36m1\u001b[0m\u001b[1;33m\u001b[0m\u001b[0m\n",
      "\u001b[1;31mValueError\u001b[0m: awg_tek is the active coil control device. This cell is for nndac."
     ]
    }
   ],
   "source": [
    "if coil_device == awg_tek:\n",
    "    raise ValueError('awg_tek is the active coil control device. This cell is for nndac.')\n",
    "#coil = 'z1'\n",
    "#current_max = 1.5e-3\n",
    "voltage_max = 1\n",
    "current_nop = 11\n",
    "nndac_channels = [6,8,10]#np.arange(0, 24)#[21,1,7]\n",
    "#currents=np.linspace(-current_max,current_max,current_nop)\n",
    "voltages=np.linspace(-voltage_max,voltage_max,current_nop)\n",
    "#current_src1.set_status(1)\n",
    "pna.set_nop(1001)\n",
    "pna.set_power(-20)\n",
    "pna.set_bandwidth(2000)\n",
    "pna.set_power(qubits[qubit_id]['r']['P']+65) \n",
    "for nndac_channel_id in nndac_channels:\n",
    "    #set_qubit_fluxes([0,0,0])\n",
    "    def set_abstract_voltage(x):\n",
    "        \n",
    "        dac.set_voltage(x, channel=nndac_channel_id)\n",
    "        dac.set_voltage(-x, channel=2)\n",
    "    dac.set_voltage(0.05, channel=2)\n",
    "    coil = 'NNDAC-'+str(nndac_channel_id)\n",
    "    pna.set_xlim(6.5e9,7.0e9)\n",
    "    result = sweep.sweep(pna, \n",
    "                    (voltages, #lambda x: dac.set_voltage(x, channel=nndac_channel_id), \n",
    "                     set_abstract_voltage, 'Coil #{} voltage'.format(coil)), \n",
    "                    filename='Sample 1808-072-2 revolution Coil #{} anticrossings everything in max'.format(coil))\n",
    "    dac.set_voltage(0, channel=nndac_channel_id)"
   ]
  },
  {
   "cell_type": "code",
   "execution_count": null,
   "metadata": {},
   "outputs": [],
   "source": [
    "plt.close('all')"
   ]
  },
  {
   "cell_type": "markdown",
   "metadata": {},
   "source": [
    "## Resonator control (N*M) anticrossing scan"
   ]
  },
  {
   "cell_type": "code",
   "execution_count": 15,
   "metadata": {
    "scrolled": true
   },
   "outputs": [
    {
     "ename": "ValueError",
     "evalue": "awg_tek is the active coil control device. This cell is for nndac.",
     "output_type": "error",
     "traceback": [
      "\u001b[1;31m---------------------------------------------------------------------------\u001b[0m",
      "\u001b[1;31mValueError\u001b[0m                                Traceback (most recent call last)",
      "\u001b[1;32m<ipython-input-15-a1d14513959f>\u001b[0m in \u001b[0;36m<module>\u001b[1;34m()\u001b[0m\n\u001b[0;32m      1\u001b[0m \u001b[1;32mif\u001b[0m \u001b[0mcoil_device\u001b[0m \u001b[1;33m==\u001b[0m \u001b[0mawg_tek\u001b[0m\u001b[1;33m:\u001b[0m\u001b[1;33m\u001b[0m\u001b[0m\n\u001b[1;32m----> 2\u001b[1;33m     \u001b[1;32mraise\u001b[0m \u001b[0mValueError\u001b[0m\u001b[1;33m(\u001b[0m\u001b[1;34m'awg_tek is the active coil control device. This cell is for nndac.'\u001b[0m\u001b[1;33m)\u001b[0m\u001b[1;33m\u001b[0m\u001b[0m\n\u001b[0m\u001b[0;32m      3\u001b[0m \u001b[1;31m#coil = 'z1'\u001b[0m\u001b[1;33m\u001b[0m\u001b[1;33m\u001b[0m\u001b[0m\n\u001b[0;32m      4\u001b[0m \u001b[1;31m#current_max = 1.5e-3\u001b[0m\u001b[1;33m\u001b[0m\u001b[1;33m\u001b[0m\u001b[0m\n\u001b[0;32m      5\u001b[0m \u001b[0mvoltage_max\u001b[0m \u001b[1;33m=\u001b[0m \u001b[1;36m4\u001b[0m\u001b[1;33m\u001b[0m\u001b[0m\n",
      "\u001b[1;31mValueError\u001b[0m: awg_tek is the active coil control device. This cell is for nndac."
     ]
    }
   ],
   "source": [
    "if coil_device == awg_tek:\n",
    "    raise ValueError('awg_tek is the active coil control device. This cell is for nndac.')\n",
    "#coil = 'z1'\n",
    "#current_max = 1.5e-3\n",
    "voltage_max = 4\n",
    "current_nop = 101\n",
    "nndac_channels = [6,8,10]#[18,20]#[18, 20, 16]#[21,1,7]\n",
    "awg_tek_channels = [1,2,3]\n",
    "#currents=np.linspace(-current_max,current_max,current_nop)\n",
    "voltages=np.linspace(-voltage_max,voltage_max,current_nop)\n",
    "#current_src1.set_status(1)\n",
    "pna.set_nop(401)\n",
    "pna.set_bandwidth(500)\n",
    "pna.set_power(qubits[qubit_id]['r']['P']+55) \n",
    "lo1.set_status(0)\n",
    "for nndac_channel_id in nndac_channels:\n",
    "    for qubit_id in ['1', '2', '3']:\n",
    "        coil = 'NNDAC-'+str(nndac_channel_id)\n",
    "        \n",
    "        pna.set_nop((qubits[qubit_id]['r']['Fr_max']-qubits[qubit_id]['r']['Fr_min'])/qubits[qubit_id]['r']['dFr']+1)\n",
    "        pna.set_xlim(qubits[qubit_id]['r']['Fr_min'], qubits[qubit_id]['r']['Fr_max'])\n",
    "        result = sweep.sweep(pna, \n",
    "                        (voltages, lambda x: dac.set_voltage(x, channel=nndac_channel_id), 'Coil #{} voltage, qubit{}'.format(coil,qubit_id)), \n",
    "                        filename='1808_072-2 Coil #{} anticrossings qubit {}'.format(coil, qubit_id))\n",
    "        dac.set_voltage(0, channel=6)#0)\n",
    "        dac.set_voltage(0, channel=8)#2)\n",
    "        dac.set_voltage(0, channel=10)#4)\n",
    "lo1.set_status(1)"
   ]
  },
  {
   "cell_type": "code",
   "execution_count": 28,
   "metadata": {
    "scrolled": true
   },
   "outputs": [
    {
     "name": "stderr",
     "output_type": "stream",
     "text": [
      "C:\\ProgramData\\Anaconda3\\lib\\site-packages\\pyvisa\\resources\\messagebased.py:573: FutureWarning: ask is deprecated and will be removed in 1.10, use query instead.\n",
      "  '1.10, use query instead.', FutureWarning)\n"
     ]
    },
    {
     "data": {
      "application/vnd.jupyter.widget-view+json": {
       "model_id": "",
       "version_major": 2,
       "version_minor": 0
      },
      "text/plain": [
       "HTML(value='')"
      ]
     },
     "metadata": {},
     "output_type": "display_data"
    },
    {
     "name": "stdout",
     "output_type": "stream",
     "text": [
      "Started at:  Oct 23 2018 09:52:40\n"
     ]
    },
    {
     "name": "stderr",
     "output_type": "stream",
     "text": [
      "C:\\ProgramData\\Anaconda3\\lib\\site-packages\\pyvisa\\resources\\messagebased.py:573: FutureWarning: ask is deprecated and will be removed in 1.10, use query instead.\n",
      "  '1.10, use query instead.', FutureWarning)\n"
     ]
    },
    {
     "name": "stdout",
     "output_type": "stream",
     "text": [
      "Exiting sweep main thread #{} via return 8300\n",
      "\n",
      "Elapsed time: 0 h 0 m 55.6 s\n"
     ]
    },
    {
     "data": {
      "application/vnd.jupyter.widget-view+json": {
       "model_id": "",
       "version_major": 2,
       "version_minor": 0
      },
      "text/plain": [
       "HTML(value='')"
      ]
     },
     "metadata": {},
     "output_type": "display_data"
    },
    {
     "name": "stdout",
     "output_type": "stream",
     "text": [
      "Started at:  Oct 23 2018 09:53:40\n"
     ]
    },
    {
     "name": "stderr",
     "output_type": "stream",
     "text": [
      "C:\\ProgramData\\Anaconda3\\lib\\site-packages\\pyvisa\\resources\\messagebased.py:573: FutureWarning: ask is deprecated and will be removed in 1.10, use query instead.\n",
      "  '1.10, use query instead.', FutureWarning)\n"
     ]
    },
    {
     "name": "stdout",
     "output_type": "stream",
     "text": [
      "Exiting sweep main thread #{} via return 9384\n",
      "\n",
      "Elapsed time: 0 h 0 m 55.58 s\n"
     ]
    },
    {
     "data": {
      "application/vnd.jupyter.widget-view+json": {
       "model_id": "",
       "version_major": 2,
       "version_minor": 0
      },
      "text/plain": [
       "HTML(value='')"
      ]
     },
     "metadata": {},
     "output_type": "display_data"
    },
    {
     "name": "stdout",
     "output_type": "stream",
     "text": [
      "Started at:  Oct 23 2018 09:54:39\n"
     ]
    },
    {
     "name": "stderr",
     "output_type": "stream",
     "text": [
      "C:\\ProgramData\\Anaconda3\\lib\\site-packages\\pyvisa\\resources\\messagebased.py:573: FutureWarning: ask is deprecated and will be removed in 1.10, use query instead.\n",
      "  '1.10, use query instead.', FutureWarning)\n"
     ]
    },
    {
     "name": "stdout",
     "output_type": "stream",
     "text": [
      "Exiting sweep main thread #{} via return 2184\n",
      "\n",
      "Elapsed time: 0 h 0 m 42.82 s\n"
     ]
    },
    {
     "data": {
      "application/vnd.jupyter.widget-view+json": {
       "model_id": "",
       "version_major": 2,
       "version_minor": 0
      },
      "text/plain": [
       "HTML(value='')"
      ]
     },
     "metadata": {},
     "output_type": "display_data"
    },
    {
     "name": "stdout",
     "output_type": "stream",
     "text": [
      "Started at:  Oct 23 2018 09:55:26\n"
     ]
    },
    {
     "name": "stderr",
     "output_type": "stream",
     "text": [
      "C:\\ProgramData\\Anaconda3\\lib\\site-packages\\pyvisa\\resources\\messagebased.py:573: FutureWarning: ask is deprecated and will be removed in 1.10, use query instead.\n",
      "  '1.10, use query instead.', FutureWarning)\n"
     ]
    },
    {
     "name": "stdout",
     "output_type": "stream",
     "text": [
      "Exiting sweep main thread #{} via return 6192\n",
      "\n",
      "Elapsed time: 0 h 0 m 55.62 s\n"
     ]
    },
    {
     "data": {
      "application/vnd.jupyter.widget-view+json": {
       "model_id": "",
       "version_major": 2,
       "version_minor": 0
      },
      "text/plain": [
       "HTML(value='')"
      ]
     },
     "metadata": {},
     "output_type": "display_data"
    },
    {
     "name": "stdout",
     "output_type": "stream",
     "text": [
      "Started at:  Oct 23 2018 09:56:25\n"
     ]
    },
    {
     "name": "stderr",
     "output_type": "stream",
     "text": [
      "C:\\ProgramData\\Anaconda3\\lib\\site-packages\\pyvisa\\resources\\messagebased.py:573: FutureWarning: ask is deprecated and will be removed in 1.10, use query instead.\n",
      "  '1.10, use query instead.', FutureWarning)\n"
     ]
    },
    {
     "name": "stdout",
     "output_type": "stream",
     "text": [
      "Exiting sweep main thread #{} via return 3024\n",
      "\n",
      "Elapsed time: 0 h 0 m 55.59 s\n"
     ]
    },
    {
     "data": {
      "application/vnd.jupyter.widget-view+json": {
       "model_id": "",
       "version_major": 2,
       "version_minor": 0
      },
      "text/plain": [
       "HTML(value='')"
      ]
     },
     "metadata": {},
     "output_type": "display_data"
    },
    {
     "name": "stdout",
     "output_type": "stream",
     "text": [
      "Started at:  Oct 23 2018 09:57:24\n"
     ]
    },
    {
     "name": "stderr",
     "output_type": "stream",
     "text": [
      "C:\\ProgramData\\Anaconda3\\lib\\site-packages\\pyvisa\\resources\\messagebased.py:573: FutureWarning: ask is deprecated and will be removed in 1.10, use query instead.\n",
      "  '1.10, use query instead.', FutureWarning)\n"
     ]
    },
    {
     "name": "stdout",
     "output_type": "stream",
     "text": [
      "Exiting sweep main thread #{} via return 11984\n",
      "\n",
      "Elapsed time: 0 h 0 m 42.99 s\n"
     ]
    },
    {
     "data": {
      "application/vnd.jupyter.widget-view+json": {
       "model_id": "",
       "version_major": 2,
       "version_minor": 0
      },
      "text/plain": [
       "HTML(value='')"
      ]
     },
     "metadata": {},
     "output_type": "display_data"
    },
    {
     "name": "stdout",
     "output_type": "stream",
     "text": [
      "Started at:  Oct 23 2018 09:58:11\n"
     ]
    },
    {
     "name": "stderr",
     "output_type": "stream",
     "text": [
      "C:\\ProgramData\\Anaconda3\\lib\\site-packages\\pyvisa\\resources\\messagebased.py:573: FutureWarning: ask is deprecated and will be removed in 1.10, use query instead.\n",
      "  '1.10, use query instead.', FutureWarning)\n"
     ]
    },
    {
     "name": "stdout",
     "output_type": "stream",
     "text": [
      "Exiting sweep main thread #{} via return 10060\n",
      "\n",
      "Elapsed time: 0 h 0 m 55.16 s\n"
     ]
    },
    {
     "data": {
      "application/vnd.jupyter.widget-view+json": {
       "model_id": "",
       "version_major": 2,
       "version_minor": 0
      },
      "text/plain": [
       "HTML(value='')"
      ]
     },
     "metadata": {},
     "output_type": "display_data"
    },
    {
     "name": "stdout",
     "output_type": "stream",
     "text": [
      "Started at:  Oct 23 2018 09:59:10\n"
     ]
    },
    {
     "name": "stderr",
     "output_type": "stream",
     "text": [
      "C:\\ProgramData\\Anaconda3\\lib\\site-packages\\pyvisa\\resources\\messagebased.py:573: FutureWarning: ask is deprecated and will be removed in 1.10, use query instead.\n",
      "  '1.10, use query instead.', FutureWarning)\n"
     ]
    },
    {
     "name": "stdout",
     "output_type": "stream",
     "text": [
      "Exiting sweep main thread #{} via return 4564\n",
      "\n",
      "Elapsed time: 0 h 0 m 55.28 s\n"
     ]
    },
    {
     "data": {
      "application/vnd.jupyter.widget-view+json": {
       "model_id": "",
       "version_major": 2,
       "version_minor": 0
      },
      "text/plain": [
       "HTML(value='')"
      ]
     },
     "metadata": {},
     "output_type": "display_data"
    },
    {
     "name": "stdout",
     "output_type": "stream",
     "text": [
      "Started at:  Oct 23 2018 10:00:09\n"
     ]
    },
    {
     "name": "stderr",
     "output_type": "stream",
     "text": [
      "C:\\ProgramData\\Anaconda3\\lib\\site-packages\\pyvisa\\resources\\messagebased.py:573: FutureWarning: ask is deprecated and will be removed in 1.10, use query instead.\n",
      "  '1.10, use query instead.', FutureWarning)\n"
     ]
    },
    {
     "name": "stdout",
     "output_type": "stream",
     "text": [
      "Exiting sweep main thread #{} via return 9596\n",
      "\n",
      "Elapsed time: 0 h 0 m 42.7 s\n"
     ]
    },
    {
     "data": {
      "text/plain": [
       "True"
      ]
     },
     "execution_count": 28,
     "metadata": {},
     "output_type": "execute_result"
    }
   ],
   "source": [
    "if coil_device != awg_tek:\n",
    "    raise ValueError('awg_tek is not the active coil control device. This cell is for awg_tek.')\n",
    "#coil = 'z1'\n",
    "#current_max = 1.5e-3\n",
    "voltage_max = 0.6\n",
    "current_nop = 101\n",
    "nndac_channels = [6,8,10]#[18,20]#[18, 20, 16]#[21,1,7]\n",
    "awg_tek_channels = [1,2,3]\n",
    "coil_device_channels = [1,2,3]\n",
    "#currents=np.linspace(-current_max,current_max,current_nop)\n",
    "voltages=np.linspace(-voltage_max,voltage_max,current_nop)\n",
    "#current_src1.set_status(1)\n",
    "pna.set_nop(401)\n",
    "pna.set_bandwidth(500)\n",
    "pna.set_power(qubits[qubit_id]['r']['P']+10) \n",
    "lo1.set_status(0)\n",
    "for coil_device_channel in coil_device_channels:\n",
    "    for qubit_id in ['1', '2', '3']:\n",
    "        coil = 'coil_device_channel-'+str(coil_device_channel)\n",
    "        coil_device.set_output(1, channel=coil_device_channel)\n",
    "        pna.set_nop((qubits[qubit_id]['r']['Fr_max']-qubits[qubit_id]['r']['Fr_min'])/qubits[qubit_id]['r']['dFr']+1)\n",
    "        pna.set_xlim(qubits[qubit_id]['r']['Fr_min'], qubits[qubit_id]['r']['Fr_max'])\n",
    "        result = sweep.sweep(pna, \n",
    "                        (voltages, lambda x: coil_device.set_offset(x, channel=coil_device_channel), 'Coil #{} voltage, qubit{}'.format(coil,qubit_id)), \n",
    "                        filename=sample_name+' Coil #{} anticrossings qubit {}'.format(coil, qubit_id))\n",
    "        #dac.set_voltage(0, channel=6)#0)\n",
    "        #dac.set_voltage(0, channel=8)#2)\n",
    "        #dac.set_voltage(0, channel=10)#4)\n",
    "        coil_device.set_output(0, channel=coil_device_channel)\n",
    "        for coil_device_channel2 in coil_device_channels:\n",
    "            coil_device.set_offset(0, channel=coil_device_channel2)\n",
    "lo1.set_status(1)"
   ]
  },
  {
   "cell_type": "markdown",
   "metadata": {},
   "source": [
    "## anticrossings with two simultaneous applied coils for non-diagonal coils"
   ]
  },
  {
   "cell_type": "code",
   "execution_count": 168,
   "metadata": {},
   "outputs": [
    {
     "data": {
      "text/plain": [
       "<module 'qsweepy.sweep' from 'C:\\\\qtlab_replacement\\\\qsweepy\\\\sweep.py'>"
      ]
     },
     "execution_count": 168,
     "metadata": {},
     "output_type": "execute_result"
    }
   ],
   "source": [
    "imp.reload(sweep)"
   ]
  },
  {
   "cell_type": "code",
   "execution_count": 10,
   "metadata": {
    "scrolled": true
   },
   "outputs": [
    {
     "name": "stderr",
     "output_type": "stream",
     "text": [
      "C:\\ProgramData\\Anaconda3\\lib\\site-packages\\pyvisa\\resources\\messagebased.py:573: FutureWarning: ask is deprecated and will be removed in 1.10, use query instead.\n",
      "  '1.10, use query instead.', FutureWarning)\n"
     ]
    },
    {
     "data": {
      "application/vnd.jupyter.widget-view+json": {
       "model_id": "13434291aa1c4de191bb6562962870f7",
       "version_major": 2,
       "version_minor": 0
      },
      "text/plain": [
       "HTML(value='')"
      ]
     },
     "metadata": {},
     "output_type": "display_data"
    },
    {
     "name": "stderr",
     "output_type": "stream",
     "text": [
      "C:\\ProgramData\\Anaconda3\\lib\\site-packages\\pyvisa\\resources\\messagebased.py:573: FutureWarning: ask is deprecated and will be removed in 1.10, use query instead.\n",
      "  '1.10, use query instead.', FutureWarning)\n"
     ]
    },
    {
     "name": "stdout",
     "output_type": "stream",
     "text": [
      "Started at:  Oct 24 2018 09:42:41\n",
      "Exiting sweep main thread #{} via return 4516\n",
      "\n",
      "Elapsed time: 0 h 0 m 55.8 s\n"
     ]
    },
    {
     "data": {
      "application/vnd.jupyter.widget-view+json": {
       "model_id": "ee1423d0eef34e6389e23c307a04e972",
       "version_major": 2,
       "version_minor": 0
      },
      "text/plain": [
       "HTML(value='')"
      ]
     },
     "metadata": {},
     "output_type": "display_data"
    },
    {
     "name": "stdout",
     "output_type": "stream",
     "text": [
      "Started at:  Oct 24 2018 09:43:40\n"
     ]
    },
    {
     "name": "stderr",
     "output_type": "stream",
     "text": [
      "C:\\ProgramData\\Anaconda3\\lib\\site-packages\\pyvisa\\resources\\messagebased.py:573: FutureWarning: ask is deprecated and will be removed in 1.10, use query instead.\n",
      "  '1.10, use query instead.', FutureWarning)\n"
     ]
    },
    {
     "name": "stdout",
     "output_type": "stream",
     "text": [
      "Exiting sweep main thread #{} via return 2908\n",
      "\n",
      "Elapsed time: 0 h 0 m 55.65 s\n"
     ]
    },
    {
     "data": {
      "application/vnd.jupyter.widget-view+json": {
       "model_id": "bb2480e41dc44a3bb5fe52d8133904b0",
       "version_major": 2,
       "version_minor": 0
      },
      "text/plain": [
       "HTML(value='')"
      ]
     },
     "metadata": {},
     "output_type": "display_data"
    },
    {
     "name": "stdout",
     "output_type": "stream",
     "text": [
      "Started at:  Oct 24 2018 09:44:40\n"
     ]
    },
    {
     "name": "stderr",
     "output_type": "stream",
     "text": [
      "C:\\ProgramData\\Anaconda3\\lib\\site-packages\\pyvisa\\resources\\messagebased.py:573: FutureWarning: ask is deprecated and will be removed in 1.10, use query instead.\n",
      "  '1.10, use query instead.', FutureWarning)\n"
     ]
    },
    {
     "name": "stdout",
     "output_type": "stream",
     "text": [
      "Exiting sweep main thread #{} via return 2548\n",
      "\n",
      "Elapsed time: 0 h 0 m 42.88 s\n"
     ]
    },
    {
     "data": {
      "application/vnd.jupyter.widget-view+json": {
       "model_id": "65e744ad6f734aa5b5defb12188d52dd",
       "version_major": 2,
       "version_minor": 0
      },
      "text/plain": [
       "HTML(value='')"
      ]
     },
     "metadata": {},
     "output_type": "display_data"
    },
    {
     "name": "stdout",
     "output_type": "stream",
     "text": [
      "Started at:  Oct 24 2018 09:45:27\n"
     ]
    },
    {
     "name": "stderr",
     "output_type": "stream",
     "text": [
      "C:\\ProgramData\\Anaconda3\\lib\\site-packages\\pyvisa\\resources\\messagebased.py:573: FutureWarning: ask is deprecated and will be removed in 1.10, use query instead.\n",
      "  '1.10, use query instead.', FutureWarning)\n"
     ]
    },
    {
     "name": "stdout",
     "output_type": "stream",
     "text": [
      "Exiting sweep main thread #{} via return 12232\n",
      "\n",
      "Elapsed time: 0 h 0 m 55.52 s\n"
     ]
    },
    {
     "data": {
      "application/vnd.jupyter.widget-view+json": {
       "model_id": "7e8d96aee901410db49ffa501762ab40",
       "version_major": 2,
       "version_minor": 0
      },
      "text/plain": [
       "HTML(value='')"
      ]
     },
     "metadata": {},
     "output_type": "display_data"
    },
    {
     "name": "stdout",
     "output_type": "stream",
     "text": [
      "Started at:  Oct 24 2018 09:46:26\n"
     ]
    },
    {
     "name": "stderr",
     "output_type": "stream",
     "text": [
      "C:\\ProgramData\\Anaconda3\\lib\\site-packages\\pyvisa\\resources\\messagebased.py:573: FutureWarning: ask is deprecated and will be removed in 1.10, use query instead.\n",
      "  '1.10, use query instead.', FutureWarning)\n"
     ]
    },
    {
     "name": "stdout",
     "output_type": "stream",
     "text": [
      "Exiting sweep main thread #{} via return 7096\n",
      "\n",
      "Elapsed time: 0 h 0 m 55.39 s\n"
     ]
    },
    {
     "data": {
      "application/vnd.jupyter.widget-view+json": {
       "model_id": "fb616dcd32a747eaa34ffa9ff0ef1d40",
       "version_major": 2,
       "version_minor": 0
      },
      "text/plain": [
       "HTML(value='')"
      ]
     },
     "metadata": {},
     "output_type": "display_data"
    },
    {
     "name": "stdout",
     "output_type": "stream",
     "text": [
      "Started at:  Oct 24 2018 09:47:26\n"
     ]
    },
    {
     "name": "stderr",
     "output_type": "stream",
     "text": [
      "C:\\ProgramData\\Anaconda3\\lib\\site-packages\\pyvisa\\resources\\messagebased.py:573: FutureWarning: ask is deprecated and will be removed in 1.10, use query instead.\n",
      "  '1.10, use query instead.', FutureWarning)\n"
     ]
    },
    {
     "name": "stdout",
     "output_type": "stream",
     "text": [
      "Exiting sweep main thread #{} via return 4936\n",
      "\n",
      "Elapsed time: 0 h 0 m 42.67 s\n"
     ]
    },
    {
     "data": {
      "application/vnd.jupyter.widget-view+json": {
       "model_id": "7761fe5f43c54d839c229b75ddfd3525",
       "version_major": 2,
       "version_minor": 0
      },
      "text/plain": [
       "HTML(value='')"
      ]
     },
     "metadata": {},
     "output_type": "display_data"
    },
    {
     "name": "stdout",
     "output_type": "stream",
     "text": [
      "Started at:  Oct 24 2018 09:48:12\n"
     ]
    },
    {
     "name": "stderr",
     "output_type": "stream",
     "text": [
      "C:\\ProgramData\\Anaconda3\\lib\\site-packages\\pyvisa\\resources\\messagebased.py:573: FutureWarning: ask is deprecated and will be removed in 1.10, use query instead.\n",
      "  '1.10, use query instead.', FutureWarning)\n"
     ]
    },
    {
     "name": "stdout",
     "output_type": "stream",
     "text": [
      "Exiting sweep main thread #{} via return 12216\n",
      "\n",
      "Elapsed time: 0 h 0 m 55.33 s\n"
     ]
    },
    {
     "data": {
      "application/vnd.jupyter.widget-view+json": {
       "model_id": "3168154897a54e6cab36c10f5bfdd118",
       "version_major": 2,
       "version_minor": 0
      },
      "text/plain": [
       "HTML(value='')"
      ]
     },
     "metadata": {},
     "output_type": "display_data"
    },
    {
     "name": "stdout",
     "output_type": "stream",
     "text": [
      "Started at:  Oct 24 2018 09:49:12\n"
     ]
    },
    {
     "name": "stderr",
     "output_type": "stream",
     "text": [
      "C:\\ProgramData\\Anaconda3\\lib\\site-packages\\pyvisa\\resources\\messagebased.py:573: FutureWarning: ask is deprecated and will be removed in 1.10, use query instead.\n",
      "  '1.10, use query instead.', FutureWarning)\n"
     ]
    },
    {
     "name": "stdout",
     "output_type": "stream",
     "text": [
      "Exiting sweep main thread #{} via return 10352\n",
      "\n",
      "Elapsed time: 0 h 0 m 55.64 s\n"
     ]
    },
    {
     "data": {
      "application/vnd.jupyter.widget-view+json": {
       "model_id": "6441d3eac5bc4d57a09cf771f8759a53",
       "version_major": 2,
       "version_minor": 0
      },
      "text/plain": [
       "HTML(value='')"
      ]
     },
     "metadata": {},
     "output_type": "display_data"
    },
    {
     "name": "stdout",
     "output_type": "stream",
     "text": [
      "Started at:  Oct 24 2018 09:50:11\n"
     ]
    },
    {
     "name": "stderr",
     "output_type": "stream",
     "text": [
      "C:\\ProgramData\\Anaconda3\\lib\\site-packages\\pyvisa\\resources\\messagebased.py:573: FutureWarning: ask is deprecated and will be removed in 1.10, use query instead.\n",
      "  '1.10, use query instead.', FutureWarning)\n"
     ]
    },
    {
     "name": "stdout",
     "output_type": "stream",
     "text": [
      "Exiting sweep main thread #{} via return 4144\n",
      "\n",
      "Elapsed time: 0 h 0 m 42.95 s\n"
     ]
    },
    {
     "data": {
      "text/plain": [
       "True"
      ]
     },
     "execution_count": 10,
     "metadata": {},
     "output_type": "execute_result"
    }
   ],
   "source": [
    "if coil_device != awg_tek:\n",
    "    raise ValueError('awg_tek is not the active coil control device. This cell is for awg_tek.')\n",
    "\n",
    "anticrossing_matrix = []\n",
    "files_matrix_location = []\n",
    "voltage_max = 0.7\n",
    "current_nop = 401\n",
    "coil_device_channels = [1,2,3]\n",
    "voltages=np.linspace(-voltage_max,voltage_max,current_nop)\n",
    "pna.set_nop(401)\n",
    "pna.set_bandwidth(500)\n",
    "pna.set_power(qubits[qubit_id]['r']['P']+10) \n",
    "lo1.set_status(0)\n",
    "for coil_device_channel in coil_device_channels:\n",
    "    anticrossing_row = []\n",
    "    files_location_row = []\n",
    "    for qubit_id in ['1', '2', '3']:\n",
    "        # if we are in the main coil for the current qubit, sweep only the main coil.\n",
    "        if qubits[qubit_id]['q']['P']['coil_device_channel'] == coil_device_channel:\n",
    "            coil = 'coil_device_channel-('+str(coil_device_channel)+')'\n",
    "            def setter(x):\n",
    "                coil_device.set_offset(x, channel=coil_device_channel)\n",
    "        # if we are probing a non-diagonal matrix element (non-main coil), sweep the main simultaneously.\n",
    "        # this helps to identify the sign of the mutual matrix element.\n",
    "        else:\n",
    "            coil = 'coil_device_channel-('+str(coil_device_channel)+')+('+\\\n",
    "                                           str(qubits[qubit_id]['q']['P']['coil_device_channel'])+')'\n",
    "            coil_device.set_output(1, channel=qubits[qubit_id]['q']['P']['coil_device_channel'])\n",
    "            def setter(x):\n",
    "                coil_device.set_offset(x, channel=coil_device_channel)\n",
    "                coil_device.set_offset(x, channel=qubits[qubit_id]['q']['P']['coil_device_channel'])\n",
    "        \n",
    "        coil_device.set_output(1, channel=coil_device_channel)\n",
    "        pna.set_nop((qubits[qubit_id]['r']['Fr_max']-qubits[qubit_id]['r']['Fr_min'])/qubits[qubit_id]['r']['dFr']+1)\n",
    "        pna.set_xlim(qubits[qubit_id]['r']['Fr_min'], qubits[qubit_id]['r']['Fr_max'])\n",
    "        result,loc = sweep.sweep(pna, \n",
    "                        (voltages, setter, '#{} voltage, qubit{}'.format(coil,qubit_id)), \n",
    "                        filename=sample_name+' #{} anticrossings qubit {}'.format(coil, qubit_id),loc=True)\n",
    "#         loc+=sample_name+' #{} anticrossings qubit {}'.format(coil, qubit_id)+'.pkl'\n",
    "        files_location_row.append(loc)\n",
    "        anticrossing_row.append(result['S-parameter'])\n",
    "        \n",
    "        \n",
    "        for coil_device_channel2 in coil_device_channels:\n",
    "            coil_device.set_offset(0, channel=coil_device_channel2)\n",
    "    anticrossing_matrix.append(anticrossing_row)\n",
    "    files_matrix_location.append(files_location_row)\n",
    "lo1.set_status(1)"
   ]
  },
  {
   "cell_type": "code",
   "execution_count": 11,
   "metadata": {},
   "outputs": [
    {
     "data": {
      "text/plain": [
       "[['c:\\\\data/2018-10-24/09-42-41-1808-072-2-2QGA1 #coil_device_channel-(1) anticrossings qubit 1/1808-072-2-2QGA1 #coil_device_channel-(1) anticrossings qubit 1.pkl',\n",
       "  'c:\\\\data/2018-10-24/09-43-41-1808-072-2-2QGA1 #coil_device_channel-(1)+(2) anticrossings qubit 2/1808-072-2-2QGA1 #coil_device_channel-(1)+(2) anticrossings qubit 2.pkl',\n",
       "  'c:\\\\data/2018-10-24/09-44-40-1808-072-2-2QGA1 #coil_device_channel-(1)+(3) anticrossings qubit 3/1808-072-2-2QGA1 #coil_device_channel-(1)+(3) anticrossings qubit 3.pkl'],\n",
       " ['c:\\\\data/2018-10-24/09-45-27-1808-072-2-2QGA1 #coil_device_channel-(2)+(1) anticrossings qubit 1/1808-072-2-2QGA1 #coil_device_channel-(2)+(1) anticrossings qubit 1.pkl',\n",
       "  'c:\\\\data/2018-10-24/09-46-26-1808-072-2-2QGA1 #coil_device_channel-(2) anticrossings qubit 2/1808-072-2-2QGA1 #coil_device_channel-(2) anticrossings qubit 2.pkl',\n",
       "  'c:\\\\data/2018-10-24/09-47-26-1808-072-2-2QGA1 #coil_device_channel-(2)+(3) anticrossings qubit 3/1808-072-2-2QGA1 #coil_device_channel-(2)+(3) anticrossings qubit 3.pkl'],\n",
       " ['c:\\\\data/2018-10-24/09-48-12-1808-072-2-2QGA1 #coil_device_channel-(3)+(1) anticrossings qubit 1/1808-072-2-2QGA1 #coil_device_channel-(3)+(1) anticrossings qubit 1.pkl',\n",
       "  'c:\\\\data/2018-10-24/09-49-12-1808-072-2-2QGA1 #coil_device_channel-(3)+(2) anticrossings qubit 2/1808-072-2-2QGA1 #coil_device_channel-(3)+(2) anticrossings qubit 2.pkl',\n",
       "  'c:\\\\data/2018-10-24/09-50-11-1808-072-2-2QGA1 #coil_device_channel-(3) anticrossings qubit 3/1808-072-2-2QGA1 #coil_device_channel-(3) anticrossings qubit 3.pkl']]"
      ]
     },
     "execution_count": 11,
     "metadata": {},
     "output_type": "execute_result"
    }
   ],
   "source": [
    "files_matrix_location"
   ]
  },
  {
   "cell_type": "code",
   "execution_count": 50,
   "metadata": {},
   "outputs": [
    {
     "name": "stdout",
     "output_type": "stream",
     "text": [
      "-2.3791658834395274e-08\n"
     ]
    }
   ],
   "source": [
    "import locale\n",
    "# Set to German locale to get comma decimal separater\n",
    "locale.setlocale(locale.LC_NUMERIC, \"deu_DEU\")\n",
    "\n",
    "import numpy as np\n",
    "import matplotlib.pyplot as plt\n",
    "plt.rcdefaults()\n",
    "\n",
    "# Tell matplotlib to use the locale we set above\n",
    "plt.rcParams['axes.formatter.use_locale'] = True\n",
    "%matplotlib qt5\n",
    "\n",
    "figs, axes = plt.subplots(3,3, figsize=(9,6), sharex=True, sharey='row')\n",
    "\n",
    "delays = []\n",
    "locations = files_matrix_location\n",
    "for row_id in range(len(locations)):\n",
    "    for column_id in range(len(locations[0])):\n",
    "        file = open(locations[row_id][column_id],'rb')\n",
    "        data = pickle.load(file)\n",
    "        data = data[1]['S-parameter']\n",
    "        unwrapped = np.unwrap(np.angle(data[2])).T\n",
    "        delays.append((unwrapped[-1,:]-unwrapped[0,:]+np.pi*2)/(data[1][1][-1]-data[1][1][0]))\n",
    "delay = np.median(delays)\n",
    "\n",
    "\n",
    "\n",
    "anticrossing_matrix = []\n",
    "max_dev_matrix = []\n",
    "coil_value_matrix = []\n",
    "\n",
    "for row_id in range(len(locations)):\n",
    "    anticrossing_row = []\n",
    "    max_dev_row = []\n",
    "    coil_value_row = []\n",
    "    for column_id in range(len(locations[0])):\n",
    "        file = open(locations[row_id][column_id],'rb')\n",
    "        data = pickle.load(file)\n",
    "        data = data[1]['S-parameter']\n",
    "        data_nodelay = (data[2]*np.exp(-1j*delay*data[1][1])).T\n",
    "        data_deviation_complex = data_nodelay - np.mean(data_nodelay, axis=0)\n",
    "        axes[column_id, row_id].pcolormesh(data[1][0], data[1][1]/1e9, np.abs(data_deviation_complex), cmap='RdBu')\n",
    "        max_dev = data[1][1][np.argmax(np.abs(data_deviation_complex), axis=0)]/1e9\n",
    "        axes[column_id, row_id].plot(data[1][0], max_dev, color='yellow', linewidth=2)\n",
    "        if column_id == 0:\n",
    "            axes[column_id, row_id].set_title('Линия #'+str(row_id+1))\n",
    "        if row_id == 0:\n",
    "            axes[column_id, row_id].set_ylabel('Резонатор #'+str(column_id+1))\n",
    "        anticrossing_row.append(data_deviation_complex)\n",
    "        max_dev_row.append(max_dev)\n",
    "        coil_value_row.append(data[1][0])\n",
    "    anticrossing_matrix.append(anticrossing_row)\n",
    "    max_dev_matrix.append(max_dev_row)\n",
    "    coil_value_matrix.append(coil_value_row)\n",
    "figs.text(0.5, 0.04, 'Напряжение управляющей линии, В', ha='center')\n",
    "figs.text(0.02, 0.5, 'Частота, ГГц', va='center', rotation='vertical')\n",
    "#plt.tight_layout()\n",
    "print (delay/2/np.pi)"
   ]
  },
  {
   "cell_type": "code",
   "execution_count": 51,
   "metadata": {},
   "outputs": [],
   "source": [
    "fqb = lambda x, EJ1, EJ2, EC, phi0, L: (8*EC)**0.5*((EJ1-EJ2)**2*np.sin(np.pi*x*L+phi0*np.pi)**2+(EJ1+EJ2)**2*np.cos(np.pi*x*L+phi0*np.pi)**2)**0.25\n",
    "fr  = lambda x, frb, g, EJ1, EJ2, EC, phi0, L: (fqb(x, EJ1, EJ2, EC, phi0, L)+frb)*0.5+(((fqb(x, EJ1, EJ2, EC, phi0, L)-frb)*0.5)**2+g**2)**0.5*np.sign(frb-fqb(x, EJ1, EJ2, EC, phi0, L))"
   ]
  },
  {
   "cell_type": "code",
   "execution_count": 52,
   "metadata": {},
   "outputs": [],
   "source": [
    "num_resonators=3"
   ]
  },
  {
   "cell_type": "code",
   "execution_count": 53,
   "metadata": {},
   "outputs": [],
   "source": [
    "L_mat=np.asarray([[ 0.31*8, -0.07*8+0.31*8, -0.02*8+0.31*8],\n",
    "        [ 0.08*8+0.29*8,  0.29*8, -0.13*8+0.29*8],\n",
    "        [-0.08*8+0.14*8,  0.07*8+0.14*8,  0.14*8]])\n",
    "phi0 = np.asarray([-0.02, -0.025, -0.038])\n",
    "\n",
    "initial_guess = {'L':L_mat,#np.identity(num_resonators)*0.3-0.01, # initial guess for inductance matrix\n",
    "                     'phi0':phi0,#-np.ones(num_resonators)*0.1, # initial guess for residual flux\n",
    "                     'frb':np.mean(max_dev_matrix, axis=(0,2))*1e9,\n",
    "                     #'frb':[6.85e9, 7.15e9, 7.00e9],\n",
    "                     'EC':0.175e9,\n",
    "                     'EJ1':18.8e9,\n",
    "                     'EJ2':3.6e9,\n",
    "                     'g':40e6}\n",
    "\n",
    "phi0_vec = []\n",
    "L_mat = []\n",
    "fitresults_vec = []\n",
    "for resonator_id in range(num_resonators):\n",
    "    data = [max_dev_matrix[i][resonator_id] for i in range(num_resonators)]\n",
    "    x = [coil_value_matrix[i][resonator_id] for i in range(num_resonators)]\n",
    "    def fr_coil(p, coil_id):\n",
    "        frb, g, EJ1, EJ2, EC, phi0 = p[:6]\n",
    "        L = p[6:]\n",
    "        return fr(x[coil_id], frb, g, EJ1, EJ2, EC, phi0, L[coil_id])/1e9\n",
    "    def residuals(p):\n",
    "        frb, g, EJ1, EJ2, EC, phi0 = p[:6]\n",
    "        L = p[6:]\n",
    "        res = []\n",
    "        for coil_id in range(len(data)):\n",
    "            #print (fr(x[coil_id], frb, g, EJ1, EJ2, EC, phi0, L[coil_id]))\n",
    "            #print (fqb(x[coil_id], EJ1, EJ2, EC, phi0, L[coil_id]))\n",
    "            #print (x[coil_id]*np.reshape(L,(-1,1)))\n",
    "            res.extend((fr(x[coil_id], frb, g, EJ1, EJ2, EC, phi0, L[coil_id])/1e9-data[coil_id])*(3 if coil_id == resonator_id else 1))\n",
    "        return res\n",
    "    from scipy.optimize import least_squares\n",
    "\n",
    "    p0 = (initial_guess['frb'][resonator_id], \n",
    "          initial_guess['g'], \n",
    "          initial_guess['EJ1'], \n",
    "          initial_guess['EJ2'], \n",
    "          initial_guess['EC'], \n",
    "          initial_guess['phi0'][resonator_id])+\\\n",
    "          tuple(initial_guess['L'][resonator_id,:])\n",
    "\n",
    "    bounds = ((0,      0,      0,      0,      0,      -np.pi)+tuple([-np.inf]*num_resonators),\n",
    "              (np.inf, np.inf, np.inf, np.inf, np.inf,  np.pi)+tuple([ np.inf]*num_resonators))\n",
    "    fitresults = least_squares(residuals, p0, x_scale=np.abs(p0), bounds=bounds)\n",
    "    fitresults_vec.append(fitresults)\n",
    "    phi0_vec.append(fitresults.x[5])\n",
    "    L_mat.append(fitresults.x[6:])\n",
    "    #print (fitresults.x)"
   ]
  },
  {
   "cell_type": "code",
   "execution_count": 54,
   "metadata": {},
   "outputs": [],
   "source": [
    "for resonator_id in range(num_resonators):\n",
    "    for coil_id in range(num_resonators):\n",
    "        axes[resonator_id, coil_id].plot(coil_value_matrix[coil_id][resonator_id], \n",
    "                                     fr_coil(fitresults_vec[resonator_id].x, coil_id), color='black', linewidth=2)"
   ]
  },
  {
   "cell_type": "code",
   "execution_count": 46,
   "metadata": {},
   "outputs": [
    {
     "data": {
      "text/plain": [
       "(array([[ 2.4316565 ,  1.95215324,  2.29014836],\n",
       "        [ 2.71281861,  2.17353468,  1.0736594 ],\n",
       "        [-0.26116851,  1.46202884,  0.96886678]]),\n",
       " [-0.0005042147146843105, -0.0023648127926861324, -0.0007567410056142773])"
      ]
     },
     "execution_count": 46,
     "metadata": {},
     "output_type": "execute_result"
    }
   ],
   "source": [
    "np.asarray(L_mat), phi0_vec"
   ]
  },
  {
   "cell_type": "code",
   "execution_count": 48,
   "metadata": {},
   "outputs": [],
   "source": [
    "for row_id in range(len(L_mat)):\n",
    "    for col_id in range(len(L_mat)):\n",
    "        if row_id != col_id:\n",
    "            L_mat[row_id][col_id]-=L_mat[row_id][row_id]"
   ]
  },
  {
   "cell_type": "code",
   "execution_count": 49,
   "metadata": {},
   "outputs": [
    {
     "data": {
      "text/plain": [
       "[array([ 2.4316565 , -0.47950326, -0.14150814]),\n",
       " array([ 0.53928393,  2.17353468, -1.09987528]),\n",
       " array([-1.23003529,  0.49316206,  0.96886678])]"
      ]
     },
     "execution_count": 49,
     "metadata": {},
     "output_type": "execute_result"
    }
   ],
   "source": [
    "L_mat"
   ]
  },
  {
   "cell_type": "code",
   "execution_count": 55,
   "metadata": {},
   "outputs": [
    {
     "data": {
      "text/plain": [
       "array([-0.00025544, -0.00137219,  0.00122073])"
      ]
     },
     "execution_count": 55,
     "metadata": {},
     "output_type": "execute_result"
    }
   ],
   "source": [
    "np.dot(np.linalg.inv(L_mat), phi0_vec)"
   ]
  },
  {
   "cell_type": "markdown",
   "metadata": {},
   "source": [
    "## Function to find the resonator for two-tone scans"
   ]
  },
  {
   "cell_type": "code",
   "execution_count": 22,
   "metadata": {},
   "outputs": [],
   "source": [
    "def find_resonator(resonator_id, criterion='max_dev_complex', delay=0, check=1, raise_on_error=True): \n",
    "#    print ('resonator_id: ', resonator_id)\n",
    "    # turn of all second tones\n",
    "    lo1_status = lo1.get_status()\n",
    "    lo1.set_status(0)\n",
    "    # prior bandwidth\n",
    "    bandwidth = pna.get_bandwidth()\n",
    "    pna.set_bandwidth(500)\n",
    "    average = pna.get_average()\n",
    "    pna.set_average(0)\n",
    "    #pna.set_power(-60)\n",
    "    #pna.set_nop(501)\n",
    "    nop = pna.get_nop()\n",
    "    xlim = pna.get_xlim()\n",
    "    pna.set_nop((qubits[resonator_id]['r']['Fr_max']-\n",
    "                 qubits[resonator_id]['r']['Fr_min'])/qubits[resonator_id]['r']['dFr']+1)\n",
    "    pna.set_xlim(qubits[resonator_id]['r']['Fr_min'], qubits[resonator_id]['r']['Fr_max'])\n",
    "    #current_src1.set_current(current)\n",
    "    \n",
    "    # measure S21\n",
    "    results = []\n",
    "    for iteration_id in range(check+1):\n",
    "        S21 = pna.measure()['S-parameter']\n",
    "        freqs = pna.get_points()['S-parameter'][0][1]\n",
    "    \n",
    "        if (criterion == 'max_dev_complex'):\n",
    "            measurement = S21*np.exp(2*np.pi*1j*freqs*delay)\n",
    "            #plt.figure()\n",
    "            #plt.plot(freqs, np.real(measurement-np.mean(measurement)))\n",
    "            #plt.plot(freqs, np.imag(measurement-np.mean(measurement)))\n",
    "            #plt.plot(freqs, np.abs(measurement-np.mean(measurement)))\n",
    "            results.append(freqs[np.argmax(np.abs(measurement-np.mean(measurement)))])\n",
    "        if (criterion == 'min_abs'):\n",
    "            measurement = np.abs(S21)\n",
    "            results.append(freqs[np.argmin(measurement)])\n",
    "    # if resonator is off by more 3 times tolerance, raise if raise_on_error, otherwise warn\n",
    "    if (np.std(results)>qubits[resonator_id]['r']['dFr']*10):\n",
    "        if raise_on_error:\n",
    "            raise Exception('Could not find resonator')\n",
    "        else:\n",
    "            print ('Could not find resonator')\n",
    "    else: \n",
    "        print('resonator found at '+str(np.mean(results)))\n",
    "        \n",
    "    lo1.set_status(lo1_status)\n",
    "    pna.set_bandwidth(bandwidth)\n",
    "    pna.set_average(average)\n",
    "    pna.set_nop(nop)\n",
    "    pna.set_xlim(*xlim)\n",
    "    \n",
    "    return np.mean(results)"
   ]
  },
  {
   "cell_type": "code",
   "execution_count": 75,
   "metadata": {},
   "outputs": [
    {
     "name": "stdout",
     "output_type": "stream",
     "text": [
      "Could not find resonator\n"
     ]
    }
   ],
   "source": [
    "qubit_id='1'\n",
    "delay = 70e-9\n",
    "pna.pre_sweep()\n",
    "res_freq = find_resonator(qubit_id, criterion='max_dev_complex', delay=delay, check=1, raise_on_error=False)\n",
    "pna.post_sweep()"
   ]
  },
  {
   "cell_type": "markdown",
   "metadata": {},
   "source": [
    "# Two-Tone Scan"
   ]
  },
  {
   "cell_type": "code",
   "execution_count": 79,
   "metadata": {
    "scrolled": true
   },
   "outputs": [
    {
     "data": {
      "application/vnd.jupyter.widget-view+json": {
       "model_id": "a1d28003289d42e79cb212349ea4c1ea",
       "version_major": 2,
       "version_minor": 0
      },
      "text/plain": [
       "HTML(value='')"
      ]
     },
     "metadata": {},
     "output_type": "display_data"
    },
    {
     "name": "stdout",
     "output_type": "stream",
     "text": [
      "Started at:  Oct 12 2018 10:53:00\n",
      "resonator found at 6600360000.0\n",
      "resonator found at 6600320000.0\n",
      "resonator found at 6600310000.0\n",
      "resonator found at 6600230000.0\n",
      "resonator found at 6600270000.0\n",
      "resonator found at 6600180000.0\n",
      "resonator found at 6600170000.0\n",
      "resonator found at 6600160000.0\n",
      "resonator found at 6600140000.0\n",
      "resonator found at 6600140000.0\n",
      "resonator found at 6600140000.0\n",
      "resonator found at 6600060000.0\n",
      "resonator found at 6600070000.0\n",
      "resonator found at 6600040000.0\n",
      "resonator found at 6599980000.0\n",
      "resonator found at 6600030000.0\n",
      "resonator found at 6600010000.0\n",
      "resonator found at 6599960000.0\n",
      "resonator found at 6599910000.0\n",
      "resonator found at 6599940000.0\n",
      "resonator found at 6599960000.0\n",
      "resonator found at 6599930000.0\n",
      "resonator found at 6599960000.0\n",
      "resonator found at 6599980000.0\n",
      "resonator found at 6599940000.0\n",
      "resonator found at 6599950000.0\n",
      "resonator found at 6599890000.0\n",
      "resonator found at 6599930000.0\n",
      "resonator found at 6599960000.0\n",
      "resonator found at 6599970000.0\n",
      "resonator found at 6599970000.0\n",
      "resonator found at 6599950000.0\n",
      "resonator found at 6600030000.0\n",
      "resonator found at 6600010000.0\n",
      "resonator found at 6599990000.0\n",
      "resonator found at 6599990000.0\n",
      "resonator found at 6600010000.0\n",
      "resonator found at 6600050000.0\n",
      "resonator found at 6600010000.0\n",
      "resonator found at 6600090000.0\n",
      "resonator found at 6600070000.0\n",
      "resonator found at 6600090000.0\n",
      "resonator found at 6600070000.0\n",
      "resonator found at 6600130000.0\n",
      "resonator found at 6600160000.0\n",
      "resonator found at 6600150000.0\n",
      "resonator found at 6600200000.0\n",
      "resonator found at 6600180000.0\n",
      "resonator found at 6600280000.0\n",
      "resonator found at 6600300000.0\n",
      "resonator found at 6600300000.0\n",
      "Exiting sweep main thread #{} via return 2496\n",
      "\n",
      "Elapsed time: 0 h 5 m 24.97 s\n"
     ]
    },
    {
     "data": {
      "application/vnd.jupyter.widget-view+json": {
       "model_id": "68b57977caa84abeab4a9427453289d5",
       "version_major": 2,
       "version_minor": 0
      },
      "text/plain": [
       "HTML(value='')"
      ]
     },
     "metadata": {},
     "output_type": "display_data"
    },
    {
     "name": "stdout",
     "output_type": "stream",
     "text": [
      "Started at:  Oct 12 2018 10:58:29\n",
      "resonator found at 6880690000.0\n",
      "resonator found at 6880690000.0\n",
      "resonator found at 6880590000.0\n",
      "resonator found at 6880590000.0\n",
      "resonator found at 6880590000.0\n",
      "resonator found at 6880570000.0\n",
      "resonator found at 6880540000.0\n",
      "resonator found at 6880460000.0\n",
      "resonator found at 6880440000.0\n",
      "resonator found at 6880390000.0\n",
      "resonator found at 6880350000.0\n",
      "resonator found at 6880330000.0\n",
      "resonator found at 6880260000.0\n",
      "resonator found at 6880290000.0\n",
      "resonator found at 6880270000.0\n",
      "resonator found at 6880280000.0\n",
      "resonator found at 6880240000.0\n",
      "resonator found at 6880160000.0\n",
      "resonator found at 6880120000.0\n",
      "resonator found at 6880140000.0\n",
      "resonator found at 6880180000.0\n",
      "resonator found at 6880100000.0\n",
      "resonator found at 6880070000.0\n",
      "resonator found at 6880120000.0\n",
      "resonator found at 6880030000.0\n",
      "resonator found at 6880030000.0\n",
      "resonator found at 6880030000.0\n",
      "resonator found at 6879950000.0\n",
      "resonator found at 6879920000.0\n",
      "resonator found at 6879960000.0\n",
      "resonator found at 6879840000.0\n",
      "resonator found at 6879830000.0\n",
      "resonator found at 6879880000.0\n",
      "resonator found at 6879930000.0\n",
      "resonator found at 6879870000.0\n",
      "resonator found at 6879910000.0\n",
      "resonator found at 6879890000.0\n",
      "resonator found at 6879840000.0\n",
      "resonator found at 6879850000.0\n",
      "resonator found at 6879870000.0\n",
      "resonator found at 6879810000.0\n",
      "resonator found at 6879810000.0\n",
      "resonator found at 6879840000.0\n",
      "resonator found at 6879800000.0\n",
      "resonator found at 6879750000.0\n",
      "resonator found at 6879860000.0\n",
      "resonator found at 6879830000.0\n",
      "resonator found at 6879790000.0\n",
      "resonator found at 6879840000.0\n",
      "resonator found at 6879810000.0\n",
      "resonator found at 6879820000.0\n",
      "Exiting sweep main thread #{} via return 7016\n",
      "\n",
      "Elapsed time: 0 h 5 m 25.79 s\n"
     ]
    },
    {
     "data": {
      "application/vnd.jupyter.widget-view+json": {
       "model_id": "8a62c7c4711a40cc9084b1edaf003ecc",
       "version_major": 2,
       "version_minor": 0
      },
      "text/plain": [
       "HTML(value='')"
      ]
     },
     "metadata": {},
     "output_type": "display_data"
    },
    {
     "name": "stdout",
     "output_type": "stream",
     "text": [
      "Started at:  Oct 12 2018 11:03:59\n",
      "resonator found at 6735150000.0\n",
      "resonator found at 6735200000.0\n",
      "resonator found at 6735170000.0\n",
      "resonator found at 6735130000.0\n",
      "resonator found at 6735210000.0\n",
      "resonator found at 6735140000.0\n",
      "resonator found at 6735140000.0\n",
      "resonator found at 6735100000.0\n",
      "resonator found at 6735170000.0\n",
      "resonator found at 6735160000.0\n",
      "resonator found at 6735080000.0\n",
      "resonator found at 6735170000.0\n",
      "resonator found at 6735140000.0\n",
      "resonator found at 6735060000.0\n",
      "resonator found at 6735160000.0\n",
      "resonator found at 6735080000.0\n",
      "resonator found at 6735140000.0\n",
      "resonator found at 6735110000.0\n",
      "resonator found at 6735150000.0\n",
      "resonator found at 6735150000.0\n",
      "resonator found at 6735100000.0\n",
      "resonator found at 6735100000.0\n",
      "resonator found at 6735160000.0\n",
      "resonator found at 6735070000.0\n",
      "resonator found at 6735150000.0\n",
      "resonator found at 6735080000.0\n",
      "resonator found at 6735110000.0\n",
      "resonator found at 6735060000.0\n",
      "resonator found at 6735060000.0\n",
      "resonator found at 6735110000.0\n",
      "resonator found at 6735080000.0\n",
      "resonator found at 6735100000.0\n",
      "resonator found at 6735100000.0\n",
      "resonator found at 6735160000.0\n",
      "resonator found at 6735130000.0\n",
      "resonator found at 6735180000.0\n",
      "resonator found at 6735070000.0\n",
      "resonator found at 6734010000.0\n",
      "Could not find resonator\n",
      "resonator found at 6736950000.0\n",
      "resonator found at 6736080000.0\n",
      "Could not find resonator\n",
      "Could not find resonator\n",
      "Could not find resonator\n",
      "resonator found at 6736680000.0\n",
      "resonator found at 6734800000.0\n",
      "Could not find resonator\n",
      "Could not find resonator\n",
      "Could not find resonator\n",
      "Could not find resonator\n",
      "Could not find resonator\n",
      "Exiting sweep main thread #{} via return 6240\n",
      "\n",
      "Elapsed time: 0 h 5 m 16.49 s\n"
     ]
    }
   ],
   "source": [
    "voltage_max = 4\n",
    "voltage_nop = 51\n",
    "freq_nop = 701\n",
    "nndac_channels = [6,8,10]#[0,2,4]\n",
    "\n",
    "voltages=np.linspace(-.5,.5,voltage_nop)\n",
    "#voltages=np.linspace(-voltage_max,voltage_max,voltage_nop)\n",
    "freqs= np.linspace(4.4e9,5.3e9,freq_nop)\n",
    "pna.set_nop(1)\n",
    "pna.set_bandwidth(40)\n",
    "pna.set_power(-20)\n",
    "lo1.set_power(-20)\n",
    "lo1.set_status(1)\n",
    "delay = 70e-9\n",
    "for qubit_id in ['1', '2', '3']:\n",
    "    for coil_control_channel in [qubits[qubit_id]['q']['P']['nndac_coil_id']]:\n",
    "#for nndac_channel_id in nndac_channels:\n",
    "#    for qubit_id in ['1', '2', '3']:\n",
    "        pna.set_power(qubits[qubit_id]['r']['P'])\n",
    "        try: \n",
    "            coil = 'NNDAC-'+str(nndac_channel_id)\n",
    "            #dac.set_voltage(0, channel=0)\n",
    "            #dac.set_voltage(0, channel=2)\n",
    "            #dac.set_voltage(0, channel=4)\n",
    "            #dac.set_voltage(qubits[qubit_id]['q']['P']['Fmin_coil_currents'][6], channel=6)\n",
    "            #dac.set_voltage(qubits[qubit_id]['q']['P']['Fmin_coil_currents'][8], channel=8)\n",
    "            #dac.set_voltage(qubits[qubit_id]['q']['P']['Fmin_coil_currents'][10], channel=10)\n",
    "            def set_volt_res(x):\n",
    "                dac.set_voltage(x, channel=nndac_channel_id)\n",
    "                res_freq = find_resonator(qubit_id, criterion='max_dev_complex', delay=delay,\n",
    "                                          check=1, raise_on_error=False)\n",
    "                pna.set_frequency(res_freq)\n",
    "                pna.set_centerfreq(res_freq)\n",
    "            result = sweep.sweep(pna,\n",
    "                                 (voltages+qubits[qubit_id]['q']['P']['Fmin_coil_currents'][nndac_channel_id], \n",
    "                                  set_volt_res, 'Coil #{} voltage, qubit{}'.format(coil,qubit_id)),\n",
    "                                 (freqs,lo1.set_frequency, 'Excitation frequency', 'Hz'),\n",
    "                                 filename='Sample 1808_072-2 Coil #{} two-tone qubit{}'.format(coil,qubit_id))\n",
    "            dac.set_voltage(0,nndac_channel_id)\n",
    "        except KeyboardInterrupt:\n",
    "            for nndac_channel in nndac_channels:\n",
    "                dac.set_voltage(0,nndac_channel)\n",
    "            raise\n",
    "        finally:\n",
    "            for nndac_channel in nndac_channels:\n",
    "                dac.set_voltage(0,nndac_channel)"
   ]
  },
  {
   "cell_type": "markdown",
   "metadata": {},
   "source": [
    "# Inductance matrix"
   ]
  },
  {
   "cell_type": "code",
   "execution_count": 55,
   "metadata": {
    "collapsed": true
   },
   "outputs": [],
   "source": [
    "import qsweepy.save_pkl"
   ]
  },
  {
   "cell_type": "markdown",
   "metadata": {},
   "source": [
    "## visualization of anticrossing"
   ]
  },
  {
   "cell_type": "code",
   "execution_count": 107,
   "metadata": {
    "scrolled": true
   },
   "outputs": [
    {
     "name": "stdout",
     "output_type": "stream",
     "text": [
      "D:\\data\\2018-09-25\\10-00-51-1808_072-2 Coil #NNDAC-18 anticrossings qubit 1/1808_072-2 Coil #NNDAC-18 anticrossings qubit 1.pkl\n",
      "-1.0196176348\n",
      "D:\\data\\2018-09-25\\10-03-28-1808_072-2 Coil #NNDAC-18 anticrossings qubit 2/1808_072-2 Coil #NNDAC-18 anticrossings qubit 2.pkl\n",
      "-2.22031254233\n",
      "D:\\data\\2018-09-25\\10-07-19-1808_072-2 Coil #NNDAC-18 anticrossings qubit 3/1808_072-2 Coil #NNDAC-18 anticrossings qubit 3.pkl\n",
      "-0.894897177689\n",
      "D:\\data\\2018-09-25\\10-09-55-1808_072-2 Coil #NNDAC-20 anticrossings qubit 1/1808_072-2 Coil #NNDAC-20 anticrossings qubit 1.pkl\n",
      "-1.03462142961\n",
      "D:\\data\\2018-09-25\\10-12-35-1808_072-2 Coil #NNDAC-20 anticrossings qubit 2/1808_072-2 Coil #NNDAC-20 anticrossings qubit 2.pkl\n",
      "-2.230807924\n",
      "D:\\data\\2018-09-25\\10-16-25-1808_072-2 Coil #NNDAC-20 anticrossings qubit 3/1808_072-2 Coil #NNDAC-20 anticrossings qubit 3.pkl\n",
      "-0.762598594434\n",
      "D:\\data\\2018-09-25\\10-19-05-1808_072-2 Coil #NNDAC-16 anticrossings qubit 1/1808_072-2 Coil #NNDAC-16 anticrossings qubit 1.pkl\n",
      "5.01619560885\n",
      "D:\\data\\2018-09-25\\10-21-43-1808_072-2 Coil #NNDAC-16 anticrossings qubit 2/1808_072-2 Coil #NNDAC-16 anticrossings qubit 2.pkl\n",
      "-2.17878514287\n",
      "D:\\data\\2018-09-25\\10-25-33-1808_072-2 Coil #NNDAC-16 anticrossings qubit 3/1808_072-2 Coil #NNDAC-16 anticrossings qubit 3.pkl\n",
      "-0.836206094467\n",
      "D:\\data\\2018-09-25\\10-00-51-1808_072-2 Coil #NNDAC-18 anticrossings qubit 1/1808_072-2 Coil #NNDAC-18 anticrossings qubit 1.pkl\n",
      "D:\\data\\2018-09-25\\10-03-28-1808_072-2 Coil #NNDAC-18 anticrossings qubit 2/1808_072-2 Coil #NNDAC-18 anticrossings qubit 2.pkl\n",
      "D:\\data\\2018-09-25\\10-07-19-1808_072-2 Coil #NNDAC-18 anticrossings qubit 3/1808_072-2 Coil #NNDAC-18 anticrossings qubit 3.pkl\n",
      "D:\\data\\2018-09-25\\10-09-55-1808_072-2 Coil #NNDAC-20 anticrossings qubit 1/1808_072-2 Coil #NNDAC-20 anticrossings qubit 1.pkl\n",
      "D:\\data\\2018-09-25\\10-12-35-1808_072-2 Coil #NNDAC-20 anticrossings qubit 2/1808_072-2 Coil #NNDAC-20 anticrossings qubit 2.pkl\n",
      "D:\\data\\2018-09-25\\10-16-25-1808_072-2 Coil #NNDAC-20 anticrossings qubit 3/1808_072-2 Coil #NNDAC-20 anticrossings qubit 3.pkl\n",
      "D:\\data\\2018-09-25\\10-19-05-1808_072-2 Coil #NNDAC-16 anticrossings qubit 1/1808_072-2 Coil #NNDAC-16 anticrossings qubit 1.pkl\n",
      "D:\\data\\2018-09-25\\10-21-43-1808_072-2 Coil #NNDAC-16 anticrossings qubit 2/1808_072-2 Coil #NNDAC-16 anticrossings qubit 2.pkl\n",
      "D:\\data\\2018-09-25\\10-25-33-1808_072-2 Coil #NNDAC-16 anticrossings qubit 3/1808_072-2 Coil #NNDAC-16 anticrossings qubit 3.pkl\n",
      "-4.24859502251e-08\n"
     ]
    }
   ],
   "source": [
    "# plot all anitcrossings on one axes\n",
    "figs, axes = plt.subplots(3,3, figsize=(12,9))\n",
    "locations = [[r'D:\\data\\2018-09-19\\17-35-56-Sample 1 Coil #NNDAC-0 anticrossings qubit 1', \n",
    "              r'D:\\data\\2018-09-19\\17-38-23-Sample 1 Coil #NNDAC-0 anticrossings qubit 2',\n",
    "              r'D:\\data\\2018-09-19\\17-43-49-Sample 1 Coil #NNDAC-0 anticrossings qubit 3'],\n",
    "            [r'D:\\data\\2018-09-19\\17-48-29-Sample 1 Coil #NNDAC-2 anticrossings qubit 1',\n",
    "             r'D:\\data\\2018-09-19\\17-50-56-Sample 1 Coil #NNDAC-2 anticrossings qubit 2',\n",
    "             r'D:\\data\\2018-09-19\\17-56-23-Sample 1 Coil #NNDAC-2 anticrossings qubit 3'],\n",
    "            [r'D:\\data\\2018-09-19\\18-01-03-Sample 1 Coil #NNDAC-4 anticrossings qubit 1',\n",
    "             r'D:\\data\\2018-09-19\\18-03-30-Sample 1 Coil #NNDAC-4 anticrossings qubit 2',\n",
    "             r'D:\\data\\2018-09-19\\18-08-56-Sample 1 Coil #NNDAC-4 anticrossings qubit 3']]\n",
    "locations = [[r'D:\\data\\2018-09-25\\10-00-51-1808_072-2 Coil #NNDAC-18 anticrossings qubit 1',\n",
    "             r'D:\\data\\2018-09-25\\10-03-28-1808_072-2 Coil #NNDAC-18 anticrossings qubit 2',\n",
    "             r'D:\\data\\2018-09-25\\10-07-19-1808_072-2 Coil #NNDAC-18 anticrossings qubit 3'],\n",
    "             [r'D:\\data\\2018-09-25\\10-09-55-1808_072-2 Coil #NNDAC-20 anticrossings qubit 1', \n",
    "              r'D:\\data\\2018-09-25\\10-12-35-1808_072-2 Coil #NNDAC-20 anticrossings qubit 2',\n",
    "              r'D:\\data\\2018-09-25\\10-16-25-1808_072-2 Coil #NNDAC-20 anticrossings qubit 3'],\n",
    "            [r'D:\\data\\2018-09-25\\10-19-05-1808_072-2 Coil #NNDAC-16 anticrossings qubit 1',\n",
    "             r'D:\\data\\2018-09-25\\10-21-43-1808_072-2 Coil #NNDAC-16 anticrossings qubit 2',\n",
    "             r'D:\\data\\2018-09-25\\10-25-33-1808_072-2 Coil #NNDAC-16 anticrossings qubit 3']]\n",
    "#files = [['Sample 1 Coil #NNDAC-{0} anticrossings qubit {1}'.format(i,j) for j in ['1', '2', '3'] ] for i in [0,2,4]]\n",
    "files = [['1808_072-2 Coil #NNDAC-{0} anticrossings qubit {1}'.format(i,j) for j in ['1', '2', '3']]\n",
    "        for i in [18, 20, 16]]\n",
    "delays = []\n",
    "for row_id in range(len(locations)):\n",
    "    for column_id in range(len(locations[0])):\n",
    "        data = qsweepy.save_pkl.load_pkl(files[row_id][column_id],locations[row_id][column_id])[1]['S-parameter']\n",
    "        unwrapped = np.unwrap(np.angle(data[2])).T\n",
    "        delays.append((unwrapped[-1,:]-unwrapped[0,:]+2*np.pi)/(data[1][1][-1]-data[1][1][0]))\n",
    "        print (np.median((unwrapped[-1,:]-unwrapped[0,:]+2*np.pi)))\n",
    "delay = np.median(delays)\n",
    "\n",
    "anticrossing_matrix = []\n",
    "\n",
    "for row_id in range(len(locations)):\n",
    "    anticrossing_row = []\n",
    "    for column_id in range(len(locations[0])):\n",
    "        data = qsweepy.save_pkl.load_pkl(files[row_id][column_id],locations[row_id][column_id])[1]['S-parameter']\n",
    "        #unwrapped = np.unwrap(np.angle(data[2])).T\n",
    "        #phase_diff = unwrapped[-1,:]-unwrapped[0,:]\n",
    "        #data_nodelay = (data[2]*np.exp(-1j*np.linspace(0,np.median(phase_diff),unwrapped.shape[0]))).T\n",
    "        data_nodelay = (data[2]*np.exp(-1j*delay*data[1][1])).T\n",
    "        data_deviation_complex = data_nodelay - np.mean(data_nodelay, axis=0)\n",
    "        anticrossing_row.append(data_deviation_complex)\n",
    "        #axes[row_id,column_id].pcolormesh(data[1][0], data[1][1], np.angle(data_nodelay), cmap='RdBu')\n",
    "        im = axes[row_id,column_id].pcolormesh(data[1][0], data[1][1], np.abs(data_deviation_complex), cmap='RdBu_r')\n",
    "        plt.colorbar(im, ax=axes[row_id, column_id])\n",
    "    anticrossing_matrix.append(anticrossing_row)\n",
    "plt.tight_layout()\n",
    "print (delay/2/np.pi)"
   ]
  },
  {
   "cell_type": "code",
   "execution_count": 96,
   "metadata": {},
   "outputs": [
    {
     "name": "stdout",
     "output_type": "stream",
     "text": [
      "42.5883575884 1\n"
     ]
    },
    {
     "data": {
      "text/plain": [
       "(201, array([-4.  , -3.96, -3.92, -3.88, -3.84, -3.8 , -3.76, -3.72, -3.68,\n",
       "        -3.64, -3.6 , -3.56, -3.52, -3.48, -3.44, -3.4 , -3.36, -3.32,\n",
       "        -3.28, -3.24, -3.2 , -3.16, -3.12, -3.08, -3.04, -3.  , -2.96,\n",
       "        -2.92, -2.88, -2.84, -2.8 , -2.76, -2.72, -2.68, -2.64, -2.6 ,\n",
       "        -2.56, -2.52, -2.48, -2.44, -2.4 , -2.36, -2.32, -2.28, -2.24,\n",
       "        -2.2 , -2.16, -2.12, -2.08, -2.04, -2.  , -1.96, -1.92, -1.88,\n",
       "        -1.84, -1.8 , -1.76, -1.72, -1.68, -1.64, -1.6 , -1.56, -1.52,\n",
       "        -1.48, -1.44, -1.4 , -1.36, -1.32, -1.28, -1.24, -1.2 , -1.16,\n",
       "        -1.12, -1.08, -1.04, -1.  , -0.96, -0.92, -0.88, -0.84, -0.8 ,\n",
       "        -0.76, -0.72, -0.68, -0.64, -0.6 , -0.56, -0.52, -0.48, -0.44,\n",
       "        -0.4 , -0.36, -0.32, -0.28, -0.24, -0.2 , -0.16, -0.12, -0.08,\n",
       "        -0.04,  0.  ,  0.04,  0.08,  0.12,  0.16,  0.2 ,  0.24,  0.28,\n",
       "         0.32,  0.36,  0.4 ,  0.44,  0.48,  0.52,  0.56,  0.6 ,  0.64,\n",
       "         0.68,  0.72,  0.76,  0.8 ,  0.84,  0.88,  0.92,  0.96,  1.  ,\n",
       "         1.04,  1.08,  1.12,  1.16,  1.2 ,  1.24,  1.28,  1.32,  1.36,\n",
       "         1.4 ,  1.44,  1.48,  1.52,  1.56,  1.6 ,  1.64,  1.68,  1.72,\n",
       "         1.76,  1.8 ,  1.84,  1.88,  1.92,  1.96,  2.  ,  2.04,  2.08,\n",
       "         2.12,  2.16,  2.2 ,  2.24,  2.28,  2.32,  2.36,  2.4 ,  2.44,\n",
       "         2.48,  2.52,  2.56,  2.6 ,  2.64,  2.68,  2.72,  2.76,  2.8 ,\n",
       "         2.84,  2.88,  2.92,  2.96,  3.  ,  3.04,  3.08,  3.12,  3.16,\n",
       "         3.2 ,  3.24,  3.28,  3.32,  3.36,  3.4 ,  3.44,  3.48,  3.52,\n",
       "         3.56,  3.6 ,  3.64,  3.68,  3.72,  3.76,  3.8 ,  3.84,  3.88,\n",
       "         3.92,  3.96,  4.  ]))"
      ]
     },
     "execution_count": 96,
     "metadata": {},
     "output_type": "execute_result"
    }
   ],
   "source": [
    "plt.figure()\n",
    "centre_pix, period_pix = fitting.xcorr_centre_period(anticrossing_matrix[1][1], axis=1, drop_size=0)\n",
    "\n",
    "#centre_par = resonator_reference_spectrum['S-parameter'][1][0][int(centre_reference_pixels)], \n",
    "#period_par = (resonator_reference_spectrum['S-parameter'][1][0][1]-resonator_reference_spectrum['S-parameter'][1][0][0])*period_reference_pixels\n",
    "print (centre_pix, period_pix)\n",
    "len(data[1][0]), data[1][0]"
   ]
  },
  {
   "cell_type": "code",
   "execution_count": 87,
   "metadata": {},
   "outputs": [
    {
     "data": {
      "text/plain": [
       "(81, 201)"
      ]
     },
     "execution_count": 87,
     "metadata": {},
     "output_type": "execute_result"
    }
   ],
   "source": [
    "anticrossing_matrix[0][0].shape"
   ]
  },
  {
   "cell_type": "markdown",
   "metadata": {},
   "source": [
    "# Nice Q1-Q2 anticrossing for demonstration"
   ]
  },
  {
   "cell_type": "markdown",
   "metadata": {},
   "source": [
    "## Qubit-resonator anticrossings at non-zero bias on second control"
   ]
  },
  {
   "cell_type": "code",
   "execution_count": 111,
   "metadata": {
    "scrolled": true
   },
   "outputs": [
    {
     "data": {
      "application/vnd.jupyter.widget-view+json": {
       "model_id": "cf4a93ff52a64a67854c1679c10f4adf",
       "version_major": 2,
       "version_minor": 0
      },
      "text/plain": [
       "A Jupyter Widget"
      ]
     },
     "metadata": {},
     "output_type": "display_data"
    },
    {
     "name": "stdout",
     "output_type": "stream",
     "text": [
      "Started at:  Sep 20 2018 12:00:30\n",
      "Exiting sweep main thread #{} via return 8744\n",
      "\n",
      "Elapsed time: 0 h 4 m 9.0 s\n"
     ]
    }
   ],
   "source": [
    "#coil = 'z1'\n",
    "#current_max = 1.5e-3\n",
    "voltage_max = 4\n",
    "current_nop = 101\n",
    "nndac_channels = [2]#[21,1,7]\n",
    "#currents=np.linspace(-current_max,current_max,current_nop)\n",
    "voltages=np.linspace(-voltage_max,voltage_max,current_nop)\n",
    "#current_src1.set_status(1)\n",
    "pna.set_nop(501)\n",
    "pna.set_bandwidth(500)\n",
    "pna.set_power(qubits[qubit_id]['r']['P']) \n",
    "coil2_voltage = 1.5\n",
    "for nndac_channel_id in nndac_channels:\n",
    "    for qubit_id in ['2']:\n",
    "        dac.set_voltage(coil2_voltage, channel=0)\n",
    "        coil = 'NNDAC-'+str(nndac_channel_id)\n",
    "        #pna.set_xlim(qubits[qubit_id]['r']['Fr']-50e6,qubits[qubit_id]['r']['Fr']+50e6)\n",
    "        pna.set_nop((qubits[qubit_id]['r']['Fr_max']-qubits[qubit_id]['r']['Fr_min'])/qubits[qubit_id]['r']['dFr']+1)\n",
    "        pna.set_xlim(qubits[qubit_id]['r']['Fr_min'], qubits[qubit_id]['r']['Fr_max'])\n",
    "        result = sweep.sweep(pna, \n",
    "                        (voltages, lambda x: dac.set_voltage(x, channel=nndac_channel_id), 'Coil #{} voltage, qubit{}'.format(coil,qubit_id)), \n",
    "                        filename='1809-001_2 Coil #{} anticrossings qubit {}'.format(coil, qubit_id))\n",
    "        dac.set_voltage(0, channel=nndac_channel_id)"
   ]
  },
  {
   "cell_type": "markdown",
   "metadata": {},
   "source": [
    "## Qubit-resonator anticrossing at abstract control parameter for high-quality anticrossing picture"
   ]
  },
  {
   "cell_type": "code",
   "execution_count": 114,
   "metadata": {
    "scrolled": true
   },
   "outputs": [
    {
     "data": {
      "application/vnd.jupyter.widget-view+json": {
       "model_id": "e7a24feb4c39461d8a020ed4e7d51244",
       "version_major": 2,
       "version_minor": 0
      },
      "text/plain": [
       "A Jupyter Widget"
      ]
     },
     "metadata": {},
     "output_type": "display_data"
    },
    {
     "name": "stdout",
     "output_type": "stream",
     "text": [
      "Started at:  Sep 20 2018 12:16:13\n",
      "Exiting sweep main thread #{} via return 11612\n",
      "\n",
      "Elapsed time: 0 h 4 m 11.24 s\n"
     ]
    }
   ],
   "source": [
    "#coil = 'z1'\n",
    "#current_max = 1.5e-3\n",
    "voltage_max = 2.5\n",
    "current_nop = 101\n",
    "nndac_channels = [2]#[21,1,7]\n",
    "#currents=np.linspace(-current_max,current_max,current_nop)\n",
    "voltages=np.linspace(-voltage_max,voltage_max,current_nop)\n",
    "#current_src1.set_status(1)\n",
    "pna.set_nop(501)\n",
    "pna.set_bandwidth(500)\n",
    "pna.set_power(qubits[qubit_id]['r']['P']) \n",
    "coil2_voltage = 1.5\n",
    "for nndac_channel_id in nndac_channels:\n",
    "    for qubit_id in ['2']:\n",
    "        dac.set_voltage(coil2_voltage, channel=0)\n",
    "        coil = 'NNDAC-'+str(nndac_channel_id)\n",
    "        #pna.set_xlim(qubits[qubit_id]['r']['Fr']-50e6,qubits[qubit_id]['r']['Fr']+50e6)\n",
    "        pna.set_nop((qubits[qubit_id]['r']['Fr_max']-qubits[qubit_id]['r']['Fr_min'])/qubits[qubit_id]['r']['dFr']+1)\n",
    "        pna.set_xlim(qubits[qubit_id]['r']['Fr_min'], qubits[qubit_id]['r']['Fr_max'])\n",
    "        def set_sweep_parameter(V):\n",
    "            dac.set_voltage(1.5-V, channel=0)\n",
    "            dac.set_voltage(1.5+V, channel=2)\n",
    "        result = sweep.sweep(pna, \n",
    "                        (voltages, set_sweep_parameter, 'Abstract voltage-like sweep parameter'.format(coil,qubit_id)), \n",
    "                        filename='1809-001_2 Coil #{} anticrossings qubit {}'.format(coil, qubit_id))\n",
    "        dac.set_voltage(0, channel=nndac_channel_id)"
   ]
  },
  {
   "cell_type": "markdown",
   "metadata": {},
   "source": [
    "## Qubit-qubit anticrossing vs abstract control parameter"
   ]
  },
  {
   "cell_type": "code",
   "execution_count": 8,
   "metadata": {},
   "outputs": [
    {
     "data": {
      "text/plain": [
       "(array([[ 2.432, -0.476, -0.144],\n",
       "        [ 0.583,  2.178, -1.084],\n",
       "        [-0.689,  0.473,  0.989]]), array([-0.002, -0.004,  0.002]))"
      ]
     },
     "execution_count": 8,
     "metadata": {},
     "output_type": "execute_result"
    }
   ],
   "source": [
    "#L_mat=np.asarray([[ 0.31045445, -0.06621955, -0.02083502],\n",
    "#        [ 0.08090813,  0.29212717, -0.13412727],\n",
    "#        [-0.07698924,  0.06840561,  0.13873278]])\n",
    "\n",
    "#phi0_vec = [-0.029960100879772234, -0.025342234038425226, -0.038382257248394662]\n",
    "\n",
    "\n",
    "L_mat = np.asarray([[ 2.432, -0.476,  -0.144], [ 0.583 ,  2.178, -1.084], [-0.689,  0.473,  0.989  ]])\n",
    "phi0_vec = np.asarray([-0.002, -0.004, 0.002])\n",
    "np.asarray(L_mat), phi0_vec\n"
   ]
  },
  {
   "cell_type": "code",
   "execution_count": 23,
   "metadata": {
    "scrolled": true
   },
   "outputs": [
    {
     "name": "stderr",
     "output_type": "stream",
     "text": [
      "C:\\ProgramData\\Anaconda3\\lib\\site-packages\\pyvisa\\resources\\messagebased.py:573: FutureWarning: ask is deprecated and will be removed in 1.10, use query instead.\n",
      "  '1.10, use query instead.', FutureWarning)\n"
     ]
    },
    {
     "ename": "NameError",
     "evalue": "name 'dac' is not defined",
     "output_type": "error",
     "traceback": [
      "\u001b[1;31m---------------------------------------------------------------------------\u001b[0m",
      "\u001b[1;31mNameError\u001b[0m                                 Traceback (most recent call last)",
      "\u001b[1;32m<ipython-input-23-bc520a6e4bbb>\u001b[0m in \u001b[0;36m<module>\u001b[1;34m()\u001b[0m\n\u001b[0;32m     15\u001b[0m     \u001b[1;32mfor\u001b[0m \u001b[0mqubit_id\u001b[0m \u001b[1;32min\u001b[0m \u001b[1;33m[\u001b[0m\u001b[1;34m'1'\u001b[0m\u001b[1;33m,\u001b[0m \u001b[1;34m'2'\u001b[0m\u001b[1;33m]\u001b[0m\u001b[1;33m:\u001b[0m\u001b[1;33m\u001b[0m\u001b[0m\n\u001b[0;32m     16\u001b[0m         \u001b[1;32mfor\u001b[0m \u001b[0mnndac_channel\u001b[0m \u001b[1;32min\u001b[0m \u001b[1;33m[\u001b[0m\u001b[1;36m6\u001b[0m\u001b[1;33m,\u001b[0m\u001b[1;36m8\u001b[0m\u001b[1;33m,\u001b[0m\u001b[1;36m10\u001b[0m\u001b[1;33m]\u001b[0m\u001b[1;33m:\u001b[0m\u001b[1;33m\u001b[0m\u001b[0m\n\u001b[1;32m---> 17\u001b[1;33m             \u001b[0mdac\u001b[0m\u001b[1;33m.\u001b[0m\u001b[0mset_voltage\u001b[0m\u001b[1;33m(\u001b[0m\u001b[1;36m0\u001b[0m\u001b[1;33m,\u001b[0m\u001b[0mnndac_channel\u001b[0m\u001b[1;33m)\u001b[0m\u001b[1;33m\u001b[0m\u001b[0m\n\u001b[0m\u001b[0;32m     18\u001b[0m         \u001b[1;31m#pna.set_power(qubits[qubit_id]['r']['P'])\u001b[0m\u001b[1;33m\u001b[0m\u001b[1;33m\u001b[0m\u001b[0m\n\u001b[0;32m     19\u001b[0m         \u001b[1;32mtry\u001b[0m\u001b[1;33m:\u001b[0m\u001b[1;33m\u001b[0m\u001b[0m\n",
      "\u001b[1;31mNameError\u001b[0m: name 'dac' is not defined"
     ]
    }
   ],
   "source": [
    "voltage_max = 4\n",
    "voltage_nop = 151\n",
    "freq_nop = 301\n",
    "nndac_channels = [6]\n",
    "fluxes=np.linspace(0,0.5,voltage_nop)\n",
    "#voltages=np.linspace(-voltage_max,voltage_max,voltage_nop)\n",
    "freqs= np.linspace(4.85e9,6.05e9,freq_nop)\n",
    "pna.set_nop(1)\n",
    "pna.set_bandwidth(50)\n",
    "lo1.set_power(-12)\n",
    "pna.set_power(-20)\n",
    "lo1.set_status(1)\n",
    "delay = 50e-9\n",
    "for nndac_channel_id in nndac_channels:\n",
    "    for qubit_id in ['1', '2']:\n",
    "        for nndac_channel in [6,8,10]:\n",
    "            dac.set_voltage(0,nndac_channel)\n",
    "        #pna.set_power(qubits[qubit_id]['r']['P'])\n",
    "        try: \n",
    "            coil = 'NNDAC-'+str(nndac_channel_id)\n",
    "            def set_flux_12(x):\n",
    "                fluxes = [-0.5+x, -x, 0]\n",
    "                voltages = np.linalg.solve(np.asarray(L_mat), -np.asarray(phi0_vec)+fluxes)\n",
    "                dac.set_voltage(voltages[0], channel=6)\n",
    "                dac.set_voltage(voltages[1], channel=8)\n",
    "                dac.set_voltage(voltages[2], channel=10)\n",
    "                #dac.set_voltage(1.7-V, channel=6)\n",
    "                #dac.set_voltage(0.5+V, channel=8)\n",
    "                #dac.set_voltage(x, channel=nndac_channel_id)\n",
    "                res_freq = find_resonator(qubit_id, criterion='max_dev_complex', delay=delay, check=1, raise_on_error=False)\n",
    "                pna.set_frequency(res_freq)\n",
    "                pna.set_centerfreq(res_freq)\n",
    "            result = sweep.sweep(pna,\n",
    "                                 (fluxes, set_flux_12, 'Flux'.format(coil,qubit_id)),\n",
    "                                 (freqs,lo1.set_frequency, 'Excitation frequency', 'Hz'),\n",
    "                                 filename='Sample 1808-072_2 Coil #{} two-tone qubit{}'.format(coil,qubit_id))\n",
    "            dac.set_voltage(0,nndac_channel_id)\n",
    "        except KeyboardInterrupt:\n",
    "            for nndac_channel in [6,8,10]:\n",
    "                dac.set_voltage(0,nndac_channel)\n",
    "            raise\n",
    "        finally:\n",
    "            for nndac_channel in [6,8,10]:\n",
    "                dac.set_voltage(0,nndac_channel)\n",
    "                \n"
   ]
  },
  {
   "cell_type": "code",
   "execution_count": 26,
   "metadata": {
    "scrolled": true
   },
   "outputs": [
    {
     "name": "stderr",
     "output_type": "stream",
     "text": [
      "C:\\ProgramData\\Anaconda3\\lib\\site-packages\\pyvisa\\resources\\messagebased.py:573: FutureWarning: ask is deprecated and will be removed in 1.10, use query instead.\n",
      "  '1.10, use query instead.', FutureWarning)\n"
     ]
    },
    {
     "data": {
      "application/vnd.jupyter.widget-view+json": {
       "model_id": "b10c4f253bf046ef95cda7e240f28041",
       "version_major": 2,
       "version_minor": 0
      },
      "text/plain": [
       "HTML(value='')"
      ]
     },
     "metadata": {},
     "output_type": "display_data"
    },
    {
     "name": "stdout",
     "output_type": "stream",
     "text": [
      "Started at:  Oct 23 2018 11:00:43\n"
     ]
    },
    {
     "name": "stderr",
     "output_type": "stream",
     "text": [
      "C:\\ProgramData\\Anaconda3\\lib\\site-packages\\pyvisa\\resources\\messagebased.py:573: FutureWarning: ask is deprecated and will be removed in 1.10, use query instead.\n",
      "  '1.10, use query instead.', FutureWarning)\n"
     ]
    },
    {
     "name": "stdout",
     "output_type": "stream",
     "text": [
      "resonator found at 6599920000.0\n",
      "resonator found at 6599880000.0\n",
      "resonator found at 6599820000.0\n",
      "resonator found at 6599710000.0\n",
      "resonator found at 6599700000.0\n",
      "resonator found at 6599610000.0\n",
      "resonator found at 6599570000.0\n",
      "resonator found at 6599510000.0\n",
      "resonator found at 6599450000.0\n",
      "resonator found at 6599420000.0\n",
      "resonator found at 6599370000.0\n",
      "resonator found at 6599320000.0\n",
      "resonator found at 6599270000.0\n",
      "resonator found at 6599250000.0\n",
      "resonator found at 6599220000.0\n",
      "resonator found at 6599180000.0\n",
      "resonator found at 6599140000.0\n",
      "resonator found at 6599070000.0\n",
      "resonator found at 6599070000.0\n",
      "resonator found at 6599100000.0\n",
      "resonator found at 6599070000.0\n",
      "resonator found at 6599000000.0\n",
      "resonator found at 6599030000.0\n",
      "resonator found at 6599050000.0\n",
      "resonator found at 6599000000.0\n",
      "resonator found at 6599000000.0\n",
      "resonator found at 6599030000.0\n",
      "resonator found at 6599080000.0\n",
      "resonator found at 6599050000.0\n",
      "resonator found at 6599040000.0\n",
      "resonator found at 6599050000.0\n",
      "resonator found at 6599110000.0\n",
      "resonator found at 6599080000.0\n",
      "resonator found at 6599130000.0\n",
      "resonator found at 6599170000.0\n",
      "resonator found at 6599130000.0\n",
      "resonator found at 6599220000.0\n",
      "resonator found at 6599270000.0\n",
      "resonator found at 6599280000.0\n",
      "resonator found at 6599350000.0\n",
      "resonator found at 6599370000.0\n",
      "resonator found at 6599430000.0\n",
      "resonator found at 6599490000.0\n",
      "resonator found at 6599530000.0\n",
      "resonator found at 6599580000.0\n",
      "resonator found at 6599610000.0\n",
      "resonator found at 6599650000.0\n",
      "resonator found at 6599780000.0\n",
      "resonator found at 6599820000.0\n",
      "resonator found at 6599820000.0\n",
      "resonator found at 6599940000.0\n",
      "resonator found at 6599990000.0\n",
      "resonator found at 6600080000.0\n",
      "resonator found at 6600180000.0\n",
      "resonator found at 6600220000.0\n",
      "resonator found at 6600350000.0\n",
      "resonator found at 6600410000.0\n",
      "resonator found at 6600470000.0\n",
      "resonator found at 6600580000.0\n",
      "resonator found at 6600600000.0\n",
      "resonator found at 6600690000.0\n",
      "resonator found at 6600800000.0\n",
      "resonator found at 6600860000.0\n",
      "resonator found at 6600890000.0\n",
      "resonator found at 6601020000.0\n",
      "resonator found at 6601070000.0\n",
      "resonator found at 6601130000.0\n",
      "resonator found at 6601160000.0\n",
      "resonator found at 6601240000.0\n",
      "resonator found at 6601250000.0\n",
      "resonator found at 6601340000.0\n",
      "resonator found at 6601320000.0\n",
      "resonator found at 6601350000.0\n",
      "resonator found at 6601370000.0\n",
      "resonator found at 6601360000.0\n",
      "resonator found at 6601380000.0\n",
      "resonator found at 6601360000.0\n",
      "resonator found at 6601380000.0\n",
      "resonator found at 6601350000.0\n",
      "resonator found at 6601320000.0\n",
      "resonator found at 6601260000.0\n",
      "resonator found at 6601250000.0\n",
      "resonator found at 6601220000.0\n",
      "resonator found at 6601170000.0\n",
      "resonator found at 6601090000.0\n",
      "resonator found at 6601040000.0\n",
      "resonator found at 6600960000.0\n",
      "resonator found at 6600910000.0\n",
      "resonator found at 6600840000.0\n",
      "resonator found at 6600770000.0\n",
      "resonator found at 6600690000.0\n",
      "resonator found at 6600650000.0\n",
      "resonator found at 6600540000.0\n",
      "resonator found at 6600470000.0\n",
      "resonator found at 6600370000.0\n",
      "resonator found at 6600300000.0\n",
      "resonator found at 6600190000.0\n",
      "resonator found at 6600180000.0\n",
      "resonator found at 6600090000.0\n",
      "resonator found at 6600010000.0\n",
      "resonator found at 6599920000.0\n",
      "Exiting sweep main thread #{} via return 3824\n",
      "\n",
      "Elapsed time: 0 h 10 m 50.56 s\n"
     ]
    },
    {
     "data": {
      "application/vnd.jupyter.widget-view+json": {
       "model_id": "90c1d0fe927e4322bfeabac46a249274",
       "version_major": 2,
       "version_minor": 0
      },
      "text/plain": [
       "HTML(value='')"
      ]
     },
     "metadata": {},
     "output_type": "display_data"
    },
    {
     "name": "stdout",
     "output_type": "stream",
     "text": [
      "Started at:  Oct 23 2018 11:11:37\n"
     ]
    },
    {
     "name": "stderr",
     "output_type": "stream",
     "text": [
      "C:\\ProgramData\\Anaconda3\\lib\\site-packages\\pyvisa\\resources\\messagebased.py:573: FutureWarning: ask is deprecated and will be removed in 1.10, use query instead.\n",
      "  '1.10, use query instead.', FutureWarning)\n"
     ]
    },
    {
     "name": "stdout",
     "output_type": "stream",
     "text": [
      "resonator found at 6879510000.0\n",
      "resonator found at 6879470000.0\n",
      "resonator found at 6879390000.0\n",
      "resonator found at 6879370000.0\n",
      "resonator found at 6879350000.0\n",
      "resonator found at 6879190000.0\n",
      "resonator found at 6879160000.0\n",
      "resonator found at 6879170000.0\n",
      "resonator found at 6879130000.0\n",
      "resonator found at 6878990000.0\n",
      "resonator found at 6878990000.0\n",
      "resonator found at 6879030000.0\n",
      "resonator found at 6879010000.0\n",
      "resonator found at 6878920000.0\n",
      "resonator found at 6878880000.0\n",
      "resonator found at 6878920000.0\n",
      "resonator found at 6878810000.0\n",
      "resonator found at 6878850000.0\n",
      "resonator found at 6878810000.0\n",
      "resonator found at 6878760000.0\n",
      "resonator found at 6878790000.0\n",
      "resonator found at 6878740000.0\n",
      "resonator found at 6878720000.0\n",
      "resonator found at 6878730000.0\n",
      "resonator found at 6878760000.0\n",
      "resonator found at 6878700000.0\n",
      "resonator found at 6878770000.0\n",
      "resonator found at 6878750000.0\n",
      "resonator found at 6878720000.0\n",
      "resonator found at 6878710000.0\n",
      "resonator found at 6878720000.0\n",
      "resonator found at 6878840000.0\n",
      "resonator found at 6878790000.0\n",
      "resonator found at 6878750000.0\n",
      "resonator found at 6878890000.0\n",
      "resonator found at 6878870000.0\n",
      "resonator found at 6878840000.0\n",
      "resonator found at 6878890000.0\n",
      "resonator found at 6878890000.0\n",
      "resonator found at 6879010000.0\n",
      "resonator found at 6879020000.0\n",
      "resonator found at 6879080000.0\n",
      "resonator found at 6879040000.0\n",
      "resonator found at 6879170000.0\n",
      "resonator found at 6879210000.0\n",
      "resonator found at 6879260000.0\n",
      "resonator found at 6879310000.0\n",
      "resonator found at 6879360000.0\n",
      "resonator found at 6879340000.0\n",
      "resonator found at 6879440000.0\n",
      "resonator found at 6879610000.0\n",
      "resonator found at 6879580000.0\n",
      "resonator found at 6879590000.0\n",
      "resonator found at 6879610000.0\n",
      "resonator found at 6879720000.0\n",
      "resonator found at 6879830000.0\n",
      "resonator found at 6879790000.0\n",
      "resonator found at 6879940000.0\n",
      "resonator found at 6880000000.0\n",
      "resonator found at 6880050000.0\n",
      "resonator found at 6880100000.0\n",
      "resonator found at 6880160000.0\n",
      "resonator found at 6880220000.0\n",
      "resonator found at 6880290000.0\n",
      "resonator found at 6880430000.0\n",
      "resonator found at 6880310000.0\n",
      "resonator found at 6880440000.0\n",
      "resonator found at 6880550000.0\n",
      "resonator found at 6880510000.0\n",
      "resonator found at 6880510000.0\n",
      "resonator found at 6880570000.0\n",
      "resonator found at 6880560000.0\n",
      "resonator found at 6880560000.0\n",
      "resonator found at 6880600000.0\n",
      "resonator found at 6880650000.0\n",
      "resonator found at 6880630000.0\n",
      "resonator found at 6880560000.0\n",
      "resonator found at 6880620000.0\n",
      "resonator found at 6880690000.0\n",
      "resonator found at 6880660000.0\n",
      "resonator found at 6880610000.0\n",
      "resonator found at 6880600000.0\n",
      "resonator found at 6880530000.0\n",
      "resonator found at 6880460000.0\n",
      "resonator found at 6880460000.0\n",
      "resonator found at 6880330000.0\n",
      "resonator found at 6880340000.0\n",
      "resonator found at 6880290000.0\n",
      "resonator found at 6880230000.0\n",
      "resonator found at 6880210000.0\n",
      "resonator found at 6880090000.0\n",
      "resonator found at 6880080000.0\n",
      "resonator found at 6880010000.0\n",
      "resonator found at 6879870000.0\n",
      "resonator found at 6879890000.0\n",
      "resonator found at 6879850000.0\n",
      "resonator found at 6879770000.0\n",
      "resonator found at 6879660000.0\n",
      "resonator found at 6879620000.0\n",
      "resonator found at 6879610000.0\n",
      "resonator found at 6879580000.0\n",
      "Exiting sweep main thread #{} via return 3624\n",
      "\n",
      "Elapsed time: 0 h 10 m 49.06 s\n"
     ]
    },
    {
     "data": {
      "application/vnd.jupyter.widget-view+json": {
       "model_id": "ee0f515b4a8948dbb7637ea162500253",
       "version_major": 2,
       "version_minor": 0
      },
      "text/plain": [
       "HTML(value='')"
      ]
     },
     "metadata": {},
     "output_type": "display_data"
    },
    {
     "name": "stdout",
     "output_type": "stream",
     "text": [
      "Started at:  Oct 23 2018 11:22:30\n"
     ]
    },
    {
     "name": "stderr",
     "output_type": "stream",
     "text": [
      "C:\\ProgramData\\Anaconda3\\lib\\site-packages\\pyvisa\\resources\\messagebased.py:573: FutureWarning: ask is deprecated and will be removed in 1.10, use query instead.\n",
      "  '1.10, use query instead.', FutureWarning)\n"
     ]
    },
    {
     "name": "stdout",
     "output_type": "stream",
     "text": [
      "resonator found at 6734550000.0\n",
      "resonator found at 6734570000.0\n",
      "resonator found at 6734430000.0\n",
      "resonator found at 6734370000.0\n",
      "resonator found at 6734370000.0\n",
      "resonator found at 6734240000.0\n",
      "resonator found at 6734310000.0\n",
      "resonator found at 6734200000.0\n",
      "resonator found at 6734160000.0\n",
      "resonator found at 6734140000.0\n",
      "resonator found at 6734090000.0\n",
      "resonator found at 6734080000.0\n",
      "resonator found at 6733950000.0\n",
      "resonator found at 6734060000.0\n",
      "resonator found at 6734020000.0\n",
      "resonator found at 6733950000.0\n",
      "resonator found at 6733820000.0\n",
      "resonator found at 6733850000.0\n",
      "resonator found at 6733800000.0\n",
      "resonator found at 6733890000.0\n",
      "resonator found at 6733870000.0\n",
      "resonator found at 6733930000.0\n",
      "resonator found at 6733830000.0\n",
      "resonator found at 6733840000.0\n",
      "resonator found at 6733880000.0\n",
      "resonator found at 6733820000.0\n",
      "resonator found at 6733840000.0\n",
      "resonator found at 6733800000.0\n",
      "resonator found at 6733840000.0\n",
      "resonator found at 6733890000.0\n",
      "resonator found at 6733900000.0\n",
      "resonator found at 6733850000.0\n",
      "resonator found at 6733840000.0\n",
      "resonator found at 6733980000.0\n",
      "resonator found at 6733990000.0\n",
      "resonator found at 6734010000.0\n",
      "resonator found at 6733970000.0\n",
      "resonator found at 6734020000.0\n",
      "resonator found at 6734060000.0\n",
      "resonator found at 6734160000.0\n",
      "resonator found at 6734080000.0\n",
      "resonator found at 6734220000.0\n",
      "resonator found at 6734260000.0\n",
      "resonator found at 6734280000.0\n",
      "resonator found at 6734380000.0\n",
      "resonator found at 6734300000.0\n",
      "resonator found at 6734340000.0\n",
      "resonator found at 6734440000.0\n",
      "resonator found at 6734470000.0\n",
      "resonator found at 6734590000.0\n",
      "resonator found at 6734560000.0\n",
      "resonator found at 6734610000.0\n",
      "resonator found at 6734710000.0\n",
      "resonator found at 6734790000.0\n",
      "resonator found at 6734850000.0\n",
      "resonator found at 6734990000.0\n",
      "resonator found at 6735010000.0\n",
      "resonator found at 6735030000.0\n",
      "resonator found at 6735030000.0\n",
      "resonator found at 6735160000.0\n",
      "resonator found at 6735260000.0\n",
      "resonator found at 6735250000.0\n",
      "resonator found at 6735360000.0\n",
      "resonator found at 6735420000.0\n",
      "resonator found at 6735520000.0\n",
      "resonator found at 6735540000.0\n",
      "resonator found at 6735500000.0\n",
      "resonator found at 6735590000.0\n",
      "resonator found at 6735700000.0\n",
      "resonator found at 6735650000.0\n",
      "resonator found at 6735740000.0\n",
      "resonator found at 6735810000.0\n",
      "resonator found at 6735770000.0\n",
      "resonator found at 6735810000.0\n",
      "resonator found at 6735830000.0\n",
      "resonator found at 6735810000.0\n",
      "resonator found at 6735810000.0\n",
      "resonator found at 6735780000.0\n",
      "resonator found at 6735820000.0\n",
      "resonator found at 6735790000.0\n",
      "resonator found at 6735720000.0\n",
      "resonator found at 6735680000.0\n",
      "resonator found at 6735680000.0\n",
      "resonator found at 6735700000.0\n",
      "resonator found at 6735650000.0\n",
      "resonator found at 6735570000.0\n",
      "resonator found at 6735590000.0\n",
      "resonator found at 6735390000.0\n",
      "resonator found at 6735390000.0\n",
      "resonator found at 6735390000.0\n",
      "resonator found at 6735260000.0\n",
      "resonator found at 6735290000.0\n",
      "resonator found at 6735160000.0\n",
      "resonator found at 6735140000.0\n",
      "resonator found at 6735080000.0\n",
      "resonator found at 6735040000.0\n",
      "resonator found at 6734890000.0\n",
      "resonator found at 6734910000.0\n",
      "resonator found at 6734780000.0\n",
      "resonator found at 6734710000.0\n",
      "resonator found at 6734640000.0\n",
      "Exiting sweep main thread #{} via return 9648\n",
      "\n",
      "Elapsed time: 0 h 10 m 32.54 s\n"
     ]
    }
   ],
   "source": [
    "voltage_max = 4\n",
    "voltage_nop = 101\n",
    "freq_nop = 101\n",
    "#nndac_channels = [6]\n",
    "fluxes=np.linspace(-0.75,0.25,voltage_nop)\n",
    "#voltages=np.linspace(-voltage_max,voltage_max,voltage_nop)\n",
    "freqs= np.linspace(4.75e9,5.95e9,freq_nop)\n",
    "pna.set_nop(1)\n",
    "pna.set_bandwidth(50)\n",
    "lo1.set_power(-20)\n",
    "pna.set_power(-50)\n",
    "lo1.set_status(1)\n",
    "delay = 50e-9\n",
    "#for nndac_channel_id in nndac_channels:\n",
    "for qubit_id, qubit_name in enumerate(['1', '2', '3']):\n",
    "    try: \n",
    "        for coil_control_channel  in coil_control_channels:\n",
    "            coil_device.set_output(1, channel=coil_control_channel)\n",
    "        def set_qubit_flux(x):\n",
    "            fluxes = [0 ,0, 0]\n",
    "            fluxes[qubit_id] = x\n",
    "            voltages = np.linalg.solve(np.asarray(L_mat), -np.asarray(phi0_vec)+fluxes)\n",
    "            for channel_id, channel_voltage in enumerate(voltages):\n",
    "                coil_device.set_offset(voltages[channel_id], channel=coil_control_channels[channel_id])\n",
    "            res_freq = find_resonator(qubit_name, criterion='max_dev_complex', delay=delay, check=1, raise_on_error=False)\n",
    "            pna.set_frequency(res_freq)\n",
    "            pna.set_centerfreq(res_freq)\n",
    "        result = sweep.sweep(pna,\n",
    "                                 (fluxes, set_qubit_flux, 'Qubit {} SQUID flux'.format(qubit_name), 'Phi_0'),\n",
    "                                 (freqs,lo1.set_frequency, 'Excitation frequency', 'Hz'),\n",
    "                                 filename=sample_name+' two-tone qubit{}'.format(qubit_name))\n",
    "    finally:\n",
    "        for coil_control_channel  in coil_control_channels:\n",
    "            coil_device.set_offset(0, channel=coil_control_channel)\n",
    "            coil_device.set_output(0, channel=coil_control_channel)\n",
    "                \n"
   ]
  },
  {
   "cell_type": "code",
   "execution_count": 40,
   "metadata": {},
   "outputs": [
    {
     "data": {
      "text/plain": [
       "<Tektronix_AWG5014.Tektronix_AWG5014 at 0x24d69e9ea58>"
      ]
     },
     "execution_count": 40,
     "metadata": {},
     "output_type": "execute_result"
    }
   ],
   "source": [
    "coil_device"
   ]
  },
  {
   "cell_type": "code",
   "execution_count": 69,
   "metadata": {},
   "outputs": [
    {
     "ename": "KeyError",
     "evalue": "'Voltage'",
     "output_type": "error",
     "traceback": [
      "\u001b[1;31m---------------------------------------------------------------------------\u001b[0m",
      "\u001b[1;31mKeyError\u001b[0m                                  Traceback (most recent call last)",
      "\u001b[1;32m<ipython-input-69-95f451915b26>\u001b[0m in \u001b[0;36m<module>\u001b[1;34m()\u001b[0m\n\u001b[0;32m      1\u001b[0m \u001b[0mpna\u001b[0m\u001b[1;33m.\u001b[0m\u001b[0mpre_sweep\u001b[0m\u001b[1;33m(\u001b[0m\u001b[1;33m)\u001b[0m\u001b[1;33m\u001b[0m\u001b[0m\n\u001b[1;32m----> 2\u001b[1;33m \u001b[0mplt\u001b[0m\u001b[1;33m.\u001b[0m\u001b[0mplot\u001b[0m\u001b[1;33m(\u001b[0m\u001b[0mpna\u001b[0m\u001b[1;33m.\u001b[0m\u001b[0mget_freqpoints\u001b[0m\u001b[1;33m(\u001b[0m\u001b[1;33m)\u001b[0m\u001b[1;33m,\u001b[0m\u001b[1;36m20\u001b[0m\u001b[1;33m*\u001b[0m\u001b[0mnp\u001b[0m\u001b[1;33m.\u001b[0m\u001b[0mlog10\u001b[0m\u001b[1;33m(\u001b[0m\u001b[0mnp\u001b[0m\u001b[1;33m.\u001b[0m\u001b[0mabs\u001b[0m\u001b[1;33m(\u001b[0m\u001b[0mpna\u001b[0m\u001b[1;33m.\u001b[0m\u001b[0mmeasure\u001b[0m\u001b[1;33m(\u001b[0m\u001b[1;33m)\u001b[0m\u001b[1;33m[\u001b[0m\u001b[1;34m'Voltage'\u001b[0m\u001b[1;33m]\u001b[0m\u001b[1;33m)\u001b[0m\u001b[1;33m)\u001b[0m\u001b[1;33m)\u001b[0m\u001b[1;33m\u001b[0m\u001b[0m\n\u001b[0m\u001b[0;32m      3\u001b[0m \u001b[0mpna\u001b[0m\u001b[1;33m.\u001b[0m\u001b[0mpost_sweep\u001b[0m\u001b[1;33m(\u001b[0m\u001b[1;33m)\u001b[0m\u001b[1;33m\u001b[0m\u001b[0m\n",
      "\u001b[1;31mKeyError\u001b[0m: 'Voltage'"
     ]
    }
   ],
   "source": [
    "pna.pre_sweep()\n",
    "plt.plot(pna.get_freqpoints(),20*np.log10(np.abs(pna.measure()['Voltage'])))\n",
    "pna.post_sweep()"
   ]
  },
  {
   "cell_type": "markdown",
   "metadata": {},
   "source": [
    "## Simple two-tone"
   ]
  },
  {
   "cell_type": "code",
   "execution_count": 18,
   "metadata": {},
   "outputs": [
    {
     "data": {
      "application/vnd.jupyter.widget-view+json": {
       "model_id": "34d452ceed0e432880bef307d07462a0",
       "version_major": 2,
       "version_minor": 0
      },
      "text/plain": [
       "A Jupyter Widget"
      ]
     },
     "metadata": {},
     "output_type": "display_data"
    },
    {
     "name": "stdout",
     "output_type": "stream",
     "text": [
      "Started at:  Sep 19 2018 19:21:26\n",
      "resonator found at 6892100000.0\n",
      "resonator found at 6890600000.0\n",
      "resonator found at 6889300000.0\n",
      "resonator found at 6888000000.0\n",
      "resonator found at 6887000000.0\n",
      "resonator found at 6886300000.0\n",
      "resonator found at 6885500000.0\n",
      "resonator found at 6885100000.0\n",
      "resonator found at 6884600000.0\n",
      "resonator found at 6884000000.0\n",
      "resonator found at 6883500000.0\n",
      "resonator found at 6883100000.0\n",
      "resonator found at 6882900000.0\n",
      "resonator found at 6882500000.0\n",
      "resonator found at 6882300000.0\n",
      "resonator found at 6882200000.0\n",
      "resonator found at 6881800000.0\n",
      "resonator found at 6881800000.0\n",
      "resonator found at 6881700000.0\n",
      "resonator found at 6881400000.0\n",
      "resonator found at 6881600000.0\n",
      "resonator found at 6881200000.0\n",
      "resonator found at 6881200000.0\n",
      "resonator found at 6881100000.0\n",
      "resonator found at 6881100000.0\n",
      "resonator found at 6881200000.0\n",
      "resonator found at 6880900000.0\n",
      "resonator found at 6881000000.0\n",
      "resonator found at 6881400000.0\n",
      "resonator found at 6881300000.0\n",
      "resonator found at 6881100000.0\n",
      "resonator found at 6881500000.0\n",
      "resonator found at 6881700000.0\n",
      "resonator found at 6881700000.0\n",
      "resonator found at 6881600000.0\n",
      "resonator found at 6881900000.0\n",
      "resonator found at 6881900000.0\n",
      "resonator found at 6882300000.0\n",
      "resonator found at 6882700000.0\n",
      "resonator found at 6882800000.0\n",
      "resonator found at 6883100000.0\n",
      "Exiting sweep main thread #{} via return 12052\n",
      "\n",
      "Elapsed time: 0 h 22 m 19.41 s\n"
     ]
    }
   ],
   "source": [
    "voltage_max = 4\n",
    "voltage_nop = 41\n",
    "freq_nop = 401\n",
    "nndac_channels = [2]\n",
    "voltages=np.linspace(1,2.7,voltage_nop)\n",
    "#voltages=np.linspace(-voltage_max,voltage_max,voltage_nop)\n",
    "freqs= np.linspace(5e9,6.2e9,freq_nop)\n",
    "pna.set_nop(1)\n",
    "pna.set_bandwidth(50)\n",
    "lo1.set_power(-0)\n",
    "lo1.set_status(1)\n",
    "delay = 55e-9\n",
    "for nndac_channel_id in nndac_channels:\n",
    "    for qubit_id in ['2']:\n",
    "        pna.set_power(qubits[qubit_id]['r']['P'])\n",
    "        try: \n",
    "            coil = 'NNDAC-'+str(nndac_channel_id)\n",
    "            def set_volt_res(x):\n",
    "                dac.set_voltage(x, channel=nndac_channel_id)\n",
    "                res_freq = find_resonator(qubit_id, criterion='min_abs', delay=delay, check=1, raise_on_error=False)\n",
    "                pna.set_frequency(res_freq)\n",
    "                pna.set_centerfreq(res_freq)\n",
    "            result = sweep.sweep(pna,\n",
    "                                 (voltages, set_volt_res, 'Coil #{} voltage, qubit{}'.format(coil,qubit_id)),\n",
    "                                 (freqs,lo1.set_frequency, 'Excitation frequency', 'Hz'),\n",
    "                                 filename='Sample 809-001_2 Coil #{} two-tone qubit{}'.format(coil,qubit_id))\n",
    "            dac.set_voltage(0,nndac_channel_id)\n",
    "        except KeyboardInterrupt:\n",
    "            for nndac_channel in nndac_channels:\n",
    "                dac.set_voltage(0,nndac_channel)\n",
    "            raise\n",
    "        finally:\n",
    "            for nndac_channel in nndac_channels:\n",
    "                dac.set_voltage(0,nndac_channel)\n",
    "                \n"
   ]
  },
  {
   "cell_type": "markdown",
   "metadata": {},
   "source": [
    "## Кубитная спектроскопия"
   ]
  },
  {
   "cell_type": "markdown",
   "metadata": {},
   "source": [
    "# Импульсы"
   ]
  },
  {
   "cell_type": "markdown",
   "metadata": {},
   "source": [
    "## Неработающая Оффлайн-калибровка импульсов"
   ]
  },
  {
   "cell_type": "code",
   "execution_count": 8,
   "metadata": {},
   "outputs": [
    {
     "name": "stderr",
     "output_type": "stream",
     "text": [
      "C:\\ProgramData\\Anaconda3\\lib\\site-packages\\pyvisa\\resources\\messagebased.py:573: FutureWarning: ask is deprecated and will be removed in 1.10, use query instead.\n",
      "  '1.10, use query instead.', FutureWarning)\n"
     ]
    },
    {
     "data": {
      "text/plain": [
       "array([1.72993986e-12, 1.58038637e-12, 1.55080739e-12, ...,\n",
       "       1.91789447e-12, 1.84296320e-12, 1.93404341e-12])"
      ]
     },
     "execution_count": 8,
     "metadata": {},
     "output_type": "execute_result"
    }
   ],
   "source": [
    "power1 = 10**(sa.measure()['Power']/10)*1e-3\n",
    "power1"
   ]
  },
  {
   "cell_type": "code",
   "execution_count": 57,
   "metadata": {
    "scrolled": true
   },
   "outputs": [
    {
     "name": "stderr",
     "output_type": "stream",
     "text": [
      "  0%|                                                                                           | 0/20 [00:00<?, ?it/s]C:\\ProgramData\\Anaconda3\\lib\\site-packages\\pyvisa\\resources\\messagebased.py:573: FutureWarning: ask is deprecated and will be removed in 1.10, use query instead.\n",
      "  '1.10, use query instead.', FutureWarning)\n",
      "100%|█████████████████████████████████████████████████████████████████████████████████| 20/20 [42:37<00:00, 129.74s/it]\n"
     ]
    }
   ],
   "source": [
    "import tqdm\n",
    "sa.set_bandwidth(0.5e6)\n",
    "sa.set_nop(1001)\n",
    "sequence_length = 9600\n",
    "pause_length = 4700\n",
    "signal_length = sequence_length-2*pause_length\n",
    "shot_noise_time=30\n",
    "\n",
    "sequences1 = []\n",
    "sequences2 = []\n",
    "measurement_matrix_sequence = [] #amplitudes on I are axis 0, powers on Q are axis 1\n",
    "num_averages = 20 # for averaging\n",
    "amplitude_list = [0.0, -0.1, 0.1, 1.0]\n",
    "\n",
    "for random_sequence_id in tqdm.tqdm(range(20)):\n",
    "    dac_sequence1 = []\n",
    "    dac_sequence2 = []\n",
    "    while len(dac_sequence1) < sequence_length:\n",
    "        dac_sequence1.extend([1]*np.random.randint(shot_noise_time)+[-1]*np.random.randint(shot_noise_time))\n",
    "    while len(dac_sequence2) < sequence_length:\n",
    "        dac_sequence2.extend([1]*np.random.randint(shot_noise_time)+[-1]*np.random.randint(shot_noise_time))\n",
    "    dac_sequence1 = np.asarray(dac_sequence1[:sequence_length])\n",
    "    dac_sequence2 = np.asarray(dac_sequence2[:sequence_length])\n",
    "    dac_sequence1[-pause_length:] = 0\n",
    "    dac_sequence2[-pause_length:] = 0\n",
    "    dac_sequence1[:pause_length] = 0\n",
    "    dac_sequence2[:pause_length] = 0\n",
    "    \n",
    "    sequences1.append(dac_sequence1)\n",
    "    sequences2.append(dac_sequence2)\n",
    "    \n",
    "    \n",
    "    awg1.stop()\n",
    "    awg2.stop()\n",
    "    \n",
    "    awg1.set_waveform(dac_sequence1*0.0, channel=0)\n",
    "    awg1.set_waveform(dac_sequence2*0.0, channel=1)\n",
    "    awg2.set_amplitude(1.0, channel=0)\n",
    "    awg2.set_amplitude(1.0, channel=1)\n",
    "    measurement_matrix = []\n",
    "    for amp_I_id, amp_I in enumerate(amplitude_list):\n",
    "        measurement_row = []\n",
    "        awg2.stop()\n",
    "        awg2.set_waveform(dac_sequence1*amp_I, channel=0)\n",
    "        for amp_Q_id, amp_Q in enumerate(amplitude_list):\n",
    "            awg2.stop()\n",
    "            awg2.set_waveform(dac_sequence2*amp_Q, channel=1)\n",
    "            awg2.run()\n",
    "            measurement_row.append(10**sa.measure()['Power']/10)\n",
    "        measurement_matrix.append(measurement_row)\n",
    "    measurement_matrix_sequence.append(measurement_matrix)"
   ]
  },
  {
   "cell_type": "code",
   "execution_count": 75,
   "metadata": {},
   "outputs": [],
   "source": [
    "awg_device.get_clock = lambda: 1e9"
   ]
  },
  {
   "cell_type": "code",
   "execution_count": 11,
   "metadata": {},
   "outputs": [
    {
     "ename": "NameError",
     "evalue": "name 'seq_Q' is not defined",
     "output_type": "error",
     "traceback": [
      "\u001b[1;31m---------------------------------------------------------------------------\u001b[0m",
      "\u001b[1;31mNameError\u001b[0m                                 Traceback (most recent call last)",
      "\u001b[1;32m<ipython-input-11-2662cecafa32>\u001b[0m in \u001b[0;36m<module>\u001b[1;34m()\u001b[0m\n\u001b[0;32m      1\u001b[0m \u001b[0mawg1\u001b[0m\u001b[1;33m.\u001b[0m\u001b[0mstop\u001b[0m\u001b[1;33m(\u001b[0m\u001b[1;33m)\u001b[0m\u001b[1;33m\u001b[0m\u001b[0m\n\u001b[0;32m      2\u001b[0m \u001b[0mawg2\u001b[0m\u001b[1;33m.\u001b[0m\u001b[0mstop\u001b[0m\u001b[1;33m(\u001b[0m\u001b[1;33m)\u001b[0m\u001b[1;33m\u001b[0m\u001b[0m\n\u001b[1;32m----> 3\u001b[1;33m \u001b[0mawg1\u001b[0m\u001b[1;33m.\u001b[0m\u001b[0mset_waveform\u001b[0m\u001b[1;33m(\u001b[0m\u001b[0mseq_Q\u001b[0m\u001b[1;33m*\u001b[0m\u001b[0mamplitudes\u001b[0m\u001b[1;33m[\u001b[0m\u001b[0mamp_Q_id\u001b[0m\u001b[1;33m]\u001b[0m\u001b[1;33m,\u001b[0m \u001b[0mchannel\u001b[0m\u001b[1;33m=\u001b[0m\u001b[1;36m0\u001b[0m\u001b[1;33m)\u001b[0m\u001b[1;33m\u001b[0m\u001b[0m\n\u001b[0m\u001b[0;32m      4\u001b[0m \u001b[0mawg2\u001b[0m\u001b[1;33m.\u001b[0m\u001b[0mset_waveform\u001b[0m\u001b[1;33m(\u001b[0m\u001b[0mseq_Q\u001b[0m\u001b[1;33m*\u001b[0m\u001b[0mamplitudes\u001b[0m\u001b[1;33m[\u001b[0m\u001b[0mamp_Q_id\u001b[0m\u001b[1;33m]\u001b[0m\u001b[1;33m,\u001b[0m \u001b[0mchannel\u001b[0m\u001b[1;33m=\u001b[0m\u001b[1;36m0\u001b[0m\u001b[1;33m)\u001b[0m\u001b[1;33m\u001b[0m\u001b[0m\n\u001b[0;32m      5\u001b[0m \u001b[0mawg1\u001b[0m\u001b[1;33m.\u001b[0m\u001b[0mset_output\u001b[0m\u001b[1;33m(\u001b[0m\u001b[1;36m1\u001b[0m\u001b[1;33m,\u001b[0m \u001b[0mchannel\u001b[0m\u001b[1;33m=\u001b[0m\u001b[1;36m0\u001b[0m\u001b[1;33m)\u001b[0m\u001b[1;33m\u001b[0m\u001b[0m\n",
      "\u001b[1;31mNameError\u001b[0m: name 'seq_Q' is not defined"
     ]
    }
   ],
   "source": []
  },
  {
   "cell_type": "code",
   "execution_count": 42,
   "metadata": {},
   "outputs": [],
   "source": [
    "awg_master=awg2\n",
    "master_channel=0\n",
    "master_physical_delay = 400\n",
    "\n",
    "def set_global_repetition_period(period):\n",
    "    awg_master.stop()\n",
    "    awg_master.set_waveform([0]*(period-master_physical_delay), channel=master_channel)\n",
    "    awg_master.set_output(1, channel=master_channel)\n",
    "    awg_master.run()"
   ]
  },
  {
   "cell_type": "code",
   "execution_count": 43,
   "metadata": {},
   "outputs": [],
   "source": [
    "set_global_repetition_period(2000)"
   ]
  },
  {
   "cell_type": "code",
   "execution_count": 278,
   "metadata": {},
   "outputs": [
    {
     "name": "stderr",
     "output_type": "stream",
     "text": [
      "C:\\ProgramData\\Anaconda3\\lib\\site-packages\\pyvisa\\resources\\messagebased.py:573: FutureWarning: ask is deprecated and will be removed in 1.10, use query instead.\n",
      "  '1.10, use query instead.', FutureWarning)\n",
      "\n",
      "\n",
      "\n",
      "\n",
      "\n",
      "\n",
      "\n",
      "  0%|                                                                                           | 0/20 [00:00<?, ?it/s]\n",
      "\n",
      "\n",
      "\n",
      "\n",
      "\n",
      "\n",
      "  5%|████▏                                                                              | 1/20 [00:03<01:15,  3.96s/it]\n",
      "\n",
      "\n",
      "\n",
      "\n",
      "\n",
      "\n",
      " 10%|████████▎                                                                          | 2/20 [00:07<01:10,  3.94s/it]\n",
      "\n",
      "\n",
      "\n",
      "\n",
      "\n",
      "\n",
      " 15%|████████████▍                                                                      | 3/20 [00:11<01:06,  3.93s/it]\n",
      "\n",
      "\n",
      "\n",
      "\n",
      "\n",
      "\n",
      " 20%|████████████████▌                                                                  | 4/20 [00:15<01:02,  3.92s/it]\n",
      "\n",
      "\n",
      "\n",
      "\n",
      "\n",
      "\n",
      " 25%|████████████████████▊                                                              | 5/20 [00:19<00:59,  3.94s/it]\n",
      "\n",
      "\n",
      "\n",
      "\n",
      "\n",
      "\n",
      " 30%|████████████████████████▉                                                          | 6/20 [00:23<00:54,  3.92s/it]\n",
      "\n",
      "\n",
      "\n",
      "\n",
      "\n",
      "\n",
      " 35%|█████████████████████████████                                                      | 7/20 [00:27<00:50,  3.91s/it]\n",
      "\n",
      "\n",
      "\n",
      "\n",
      "\n",
      "\n",
      " 40%|█████████████████████████████████▏                                                 | 8/20 [00:31<00:46,  3.91s/it]\n",
      "\n",
      "\n",
      "\n",
      "\n",
      "\n",
      "\n",
      " 45%|█████████████████████████████████████▎                                             | 9/20 [00:35<00:42,  3.90s/it]\n",
      "\n",
      "\n",
      "\n",
      "\n",
      "\n",
      "\n",
      " 50%|█████████████████████████████████████████                                         | 10/20 [00:39<00:39,  3.91s/it]\n",
      "\n",
      "\n",
      "\n",
      "\n",
      "\n",
      "\n",
      " 55%|█████████████████████████████████████████████                                     | 11/20 [00:43<00:35,  3.92s/it]\n",
      "\n",
      "\n",
      "\n",
      "\n",
      "\n",
      "\n",
      " 60%|█████████████████████████████████████████████████▏                                | 12/20 [00:46<00:31,  3.92s/it]\n",
      "\n",
      "\n",
      "\n",
      "\n",
      "\n",
      "\n",
      " 65%|█████████████████████████████████████████████████████▎                            | 13/20 [00:50<00:27,  3.91s/it]\n",
      "\n",
      "\n",
      "\n",
      "\n",
      "\n",
      "\n",
      " 70%|█████████████████████████████████████████████████████████▍                        | 14/20 [00:54<00:23,  3.91s/it]\n",
      "\n",
      "\n",
      "\n",
      "\n",
      "\n",
      "\n",
      " 75%|█████████████████████████████████████████████████████████████▌                    | 15/20 [00:58<00:19,  3.92s/it]\n",
      "\n",
      "\n",
      "\n",
      "\n",
      "\n",
      "\n",
      " 80%|█████████████████████████████████████████████████████████████████▌                | 16/20 [01:02<00:15,  3.91s/it]\n",
      "\n",
      "\n",
      "\n",
      "\n",
      "\n",
      "\n",
      " 85%|█████████████████████████████████████████████████████████████████████▋            | 17/20 [01:06<00:11,  3.91s/it]\n",
      "\n",
      "\n",
      "\n",
      "\n",
      "\n",
      "\n",
      " 90%|█████████████████████████████████████████████████████████████████████████▊        | 18/20 [01:10<00:07,  3.90s/it]\n",
      "\n",
      "\n",
      "\n",
      "\n",
      "\n",
      "\n",
      " 95%|█████████████████████████████████████████████████████████████████████████████▉    | 19/20 [01:14<00:03,  3.92s/it]\n",
      "\n",
      "\n",
      "\n",
      "\n",
      "\n",
      "\n",
      "100%|██████████████████████████████████████████████████████████████████████████████████| 20/20 [01:18<00:00,  3.91s/it]\n",
      "\n",
      "\n",
      "\n",
      "\n",
      "\n",
      "\n"
     ]
    }
   ],
   "source": [
    "num_samples = 5\n",
    "awg_device = awg2\n",
    "sa_device = sa\n",
    "lo_device = lo1\n",
    "awg_channel_I = 2\n",
    "awg_channel_Q = 3\n",
    "calibration_sequence_length = 1600 \n",
    "physical_delay = 400\n",
    "calibration_sequence_margin = 600\n",
    "random_sequence_num = 20\n",
    "amplitudes = [0,0.2]\n",
    "loss_theory = 1e-3\n",
    "\n",
    "amplitude_small_id = 1\n",
    "amplitude_zero_id = 0\n",
    "#amplitude_negitive_id = 0\n",
    "#amplitude_large_id = 4\n",
    "\n",
    "sa.set_bandwidth(awg_device.get_clock()/repetition_period/2)\n",
    "sa.set_bandwidth_video(10e3)\n",
    "sa.set_detector('RMS')\n",
    "repetition_period = calibration_sequence_length+physical_delay # in awg samples\n",
    "sa.set_nop(repetition_period)\n",
    "sa.set_centerfreq(lo_device.get_frequency()-awg_device.get_clock()/repetition_period/2.)\n",
    "sa.set_span(awg_device.get_clock()*(repetition_period-1)/repetition_period)\n",
    "\n",
    "# Perform background measurements\n",
    "#c = np.asarray(measurement_matrix_sequence)\n",
    "lo1.set_status(0)\n",
    "incoherent_bg_samples = [10**(sa.measure()['Power']/10) for i in range(num_samples)]\n",
    "incoherent_bg = np.mean(incoherent_bg_samples, axis=0)\n",
    "incoherent_bg_error = np.std(incoherent_bg_samples)/np.sqrt(num_samples-2)\n",
    "lo1.set_status(1)\n",
    "awg_device.stop()\n",
    "#awg_device.set_offset(0, channel=awg_channel_I)\n",
    "#awg_device.set_offset(0, channel=awg_channel_Q)\n",
    "awg_device.set_output(1, channel=awg_channel_I)\n",
    "awg_device.set_output(1, channel=awg_channel_Q)\n",
    "coherent_bg_samples = [10**(sa.measure()['Power']/10) for i in range(num_samples)]\n",
    "coherent_bg = np.mean(coherent_bg_samples, axis=0)-incoherent_bg\n",
    "coherent_bg_std = np.std(coherent_bg_samples)/np.sqrt(num_samples-2)\n",
    "\n",
    "spectra = np.zeros((len(amplitudes), len(amplitudes), random_sequence_num, sa.get_nop()))\n",
    "waveforms_I = np.zeros((random_sequence_num, repetition_period))\n",
    "waveforms_Q = np.zeros((random_sequence_num, repetition_period))\n",
    "awg_device.stop()\n",
    "# measure random waveforms\n",
    "for random_sequence_id in tqdm.tqdm(range(20)):\n",
    "    seq_I = np.random.random(calibration_sequence_length)*2.-1.\n",
    "    seq_Q = np.random.random(calibration_sequence_length)*2.-1.\n",
    "    seq_I[:calibration_sequence_margin] = 0\n",
    "    seq_I[-calibration_sequence_margin:]= 0\n",
    "    seq_Q[:calibration_sequence_margin] = 0\n",
    "    seq_Q[-calibration_sequence_margin:]= 0\n",
    "    seq_I_full = np.asarray([0]*physical_delay+seq_I.tolist())\n",
    "    seq_Q_full = np.asarray([0]*physical_delay+seq_Q.tolist())\n",
    "    waveforms_I[random_sequence_id, :] = seq_I_full\n",
    "    waveforms_Q[random_sequence_id, :] = seq_Q_full\n",
    "    for amp_I_id, amp_I in enumerate(amplitudes):\n",
    "        awg_device.set_waveform(seq_I*amplitudes[amp_I_id], channel=awg_channel_I)\n",
    "        for amp_Q_id, amp_Q in enumerate(amplitudes):\n",
    "            awg_device.set_waveform(seq_Q*amplitudes[amp_Q_id], channel=awg_channel_Q)\n",
    "            awg_device.run()\n",
    "            spectra[amp_I_id, amp_Q_id, random_sequence_id, :] = 10**(sa.measure()['Power']/10)\n",
    "            awg_device.stop()\n",
    "#plt.figure()\n",
    "#plt.semilogy(incoherent_bg)\n",
    "#plt.semilogy(coherent_bg)"
   ]
  },
  {
   "cell_type": "code",
   "execution_count": 83,
   "metadata": {},
   "outputs": [
    {
     "data": {
      "text/plain": [
       "[<matplotlib.lines.Line2D at 0x26cf00a1630>]"
      ]
     },
     "execution_count": 83,
     "metadata": {},
     "output_type": "execute_result"
    }
   ],
   "source": [
    "plt.figure()\n",
    "plt.plot(seq_I)"
   ]
  },
  {
   "cell_type": "code",
   "execution_count": 84,
   "metadata": {},
   "outputs": [],
   "source": [
    "awg_device.run()"
   ]
  },
  {
   "cell_type": "code",
   "execution_count": 90,
   "metadata": {},
   "outputs": [],
   "source": [
    "amplitude_negative_id=amplitude_negitive_id"
   ]
  },
  {
   "cell_type": "code",
   "execution_count": 271,
   "metadata": {},
   "outputs": [
    {
     "name": "stderr",
     "output_type": "stream",
     "text": [
      "C:\\ProgramData\\Anaconda3\\lib\\site-packages\\ipykernel_launcher.py:25: RuntimeWarning: invalid value encountered in sqrt\n",
      "C:\\ProgramData\\Anaconda3\\lib\\site-packages\\ipykernel_launcher.py:26: RuntimeWarning: invalid value encountered in sqrt\n"
     ]
    }
   ],
   "source": [
    "model_I = np.fft.fftshift(np.fft.fft(np.fft.fftshift(waveforms_I, axes=1), axis=1, norm='ortho'), axes=1) # in Watts\n",
    "model_Q = np.fft.fftshift(np.fft.fft(np.fft.fftshift(waveforms_Q, axes=1), axis=1, norm='ortho'), axes=1) # in Watts\n",
    "iq_phase_diff = np.exp(1j*np.angle(model_I*np.conj(model_Q)))\n",
    "model_I_psd = np.abs(model_I)**2\n",
    "model_Q_psd = np.abs(model_Q)**2\n",
    "model_IQp_psd = np.abs(model_I+1j*model_Q)**2\n",
    "model_IQn_psd = np.abs(model_I-1j*model_Q)**2\n",
    "\n",
    "mean_model_I_psd = np.mean(model_I_psd, axis=0)\n",
    "mean_model_Q_psd = np.mean(model_Q_psd, axis=0)\n",
    "\n",
    "mean_measurement_I_psd = np.mean(spectra[amplitude_small_id, amplitude_zero_id, :, :], axis=0)\n",
    "mean_measurement_Q_psd = np.mean(spectra[amplitude_zero_id, amplitude_small_id, :, :], axis=0)\n",
    "\n",
    "mean_measurement_I_abs = np.mean(np.sqrt(spectra[amplitude_small_id, amplitude_zero_id, :, :]), axis=0)\n",
    "mean_measurement_Q_abs = np.mean(np.sqrt(spectra[amplitude_zero_id, amplitude_small_id, :, :]), axis=0)\n",
    "\n",
    "response_function_I_abs = np.sqrt(mean_measurement_I_psd/(mean_model_I_psd*amplitudes[amplitude_small_id]**2))\n",
    "response_function_Q_abs = np.sqrt(mean_measurement_Q_psd/(mean_model_Q_psd*amplitudes[amplitude_small_id]**2))\n",
    "\n",
    "interference_term = (spectra[amplitude_small_id, amplitude_small_id, :, :]-\\\n",
    "                     spectra[amplitude_small_id, amplitude_zero_id, :, :]-\\\n",
    "                     spectra[amplitude_zero_id, amplitude_small_id, :, :])\n",
    "theory_interference_term = 2*np.sqrt(spectra[amplitude_zero_id, amplitude_small_id, :, :]\\\n",
    "                          *spectra[amplitude_small_id, amplitude_zero_id, :, :])\n",
    "                          \n",
    "interference_term_response = interference_term/theory_interference_term\n",
    "interference_term_exp = (interference_term_response+1j*np.sqrt(1-interference_term_response**2))*iq_phase_diff\n",
    "interference_term_cexp = (interference_term_response-1j*np.sqrt(1-interference_term_response**2))*iq_phase_diff\n",
    "interference_term_response[np.abs(theory_interference_term)<np.percentile(np.abs(theory_interference_term), 5)]=np.nan\n",
    "interference_term_exp[np.abs(theory_interference_term)<np.percentile(np.abs(theory_interference_term), 5)]=np.nan\n",
    "interference_term_cexp[np.abs(theory_interference_term)<np.percentile(np.abs(theory_interference_term), 5)]=np.nan\n",
    "\n",
    "interference_term_response_mean = np.nanmean(interference_term_response*iq_phase_diff, axis=0)\n",
    "interference_term_exp_mean = np.nanmean(interference_term_response, axis=0)\n",
    "interference_term_cexp_mean = np.nanmean(interference_term_response, axis=0)\n",
    "\n",
    "sorted_phases = np.sort(np.angle(np.vstack([interference_term_cexp, interference_term_exp])), axis=0)\n",
    "response_phase = []\n",
    "for frequency_id in range(sorted_phases.shape[1]):\n",
    "    points_current = sorted_phases[:, frequency_id]\n",
    "    points_current = points_current[np.logical_not(np.isnan(points_current))].tolist()\n",
    "    num_point_initial = len(points_current)\n",
    "    for removed_point_id in range(int(num_point_initial/2)+2):\n",
    "        if np.median(points_current)-points_current[0]>points_current[-1]-np.median(points_current):\n",
    "            del points_current[0]\n",
    "        else:\n",
    "            del points_current[-1]\n",
    "    response_phase.append(np.mean(points_current))\n",
    "response_phase = np.asarray(response_phase)"
   ]
  },
  {
   "cell_type": "code",
   "execution_count": 274,
   "metadata": {},
   "outputs": [
    {
     "data": {
      "text/plain": [
       "[<matplotlib.lines.Line2D at 0x26c9c21f160>]"
      ]
     },
     "execution_count": 274,
     "metadata": {},
     "output_type": "execute_result"
    }
   ],
   "source": [
    "linear_model = np.abs(amplitudes[amplitude_small_id]*\\\n",
    "                      (model_I*response_function_I_abs+model_Q*response_function_Q_abs*np.exp(1j*response_phase)))**2\n",
    "measurement = spectra[amplitude_small_id, amplitude_small_id, :, :]\n",
    "plt.figure()\n",
    "plt.semilogy(linear_model[0,:])\n",
    "plt.semilogy(measurement[0,:])"
   ]
  },
  {
   "cell_type": "code",
   "execution_count": 276,
   "metadata": {},
   "outputs": [
    {
     "data": {
      "text/plain": [
       "[<matplotlib.lines.Line2D at 0x26c9f48e7b8>]"
      ]
     },
     "execution_count": 276,
     "metadata": {},
     "output_type": "execute_result"
    }
   ],
   "source": [
    "plt.figure()\n",
    "plt.plot(response_function_I_abs)\n",
    "plt.plot(response_function_Q_abs)"
   ]
  },
  {
   "cell_type": "code",
   "execution_count": 277,
   "metadata": {},
   "outputs": [
    {
     "data": {
      "text/plain": [
       "[<matplotlib.lines.Line2D at 0x26c9f4dde80>]"
      ]
     },
     "execution_count": 277,
     "metadata": {},
     "output_type": "execute_result"
    }
   ],
   "source": [
    "plt.figure()\n",
    "plt.plot(response_phase)"
   ]
  },
  {
   "cell_type": "code",
   "execution_count": 215,
   "metadata": {},
   "outputs": [],
   "source": [
    "plt.figure()\n",
    "plt.plot(np.nanmedian(np.angle(np.vstack([interference_term_cexp, interference_term_exp])), axis=0))\n",
    "\n",
    "stat = np.angle(np.vstack([interference_term_cexp, interference_term_exp]))\n",
    "stat[np.isnan(stat)]=0"
   ]
  },
  {
   "cell_type": "code",
   "execution_count": 230,
   "metadata": {},
   "outputs": [],
   "source": [
    "hist = [np.histogram(stat[:, i], bins=np.linspace(-np.pi, np.pi, 40, endpoint=False))[0] for i in range(2000)]"
   ]
  },
  {
   "cell_type": "code",
   "execution_count": 228,
   "metadata": {},
   "outputs": [
    {
     "data": {
      "text/plain": [
       "[(19,),\n",
       " (19,),\n",
       " (19,),\n",
       " (19,),\n",
       " (19,),\n",
       " (19,),\n",
       " (19,),\n",
       " (19,),\n",
       " (19,),\n",
       " (19,),\n",
       " (19,),\n",
       " (19,),\n",
       " (19,),\n",
       " (19,),\n",
       " (19,),\n",
       " (19,),\n",
       " (19,),\n",
       " (19,),\n",
       " (19,),\n",
       " (19,),\n",
       " (19,),\n",
       " (19,),\n",
       " (19,),\n",
       " (19,),\n",
       " (19,),\n",
       " (19,),\n",
       " (19,),\n",
       " (19,),\n",
       " (19,),\n",
       " (19,),\n",
       " (19,),\n",
       " (19,),\n",
       " (19,),\n",
       " (19,),\n",
       " (19,),\n",
       " (19,),\n",
       " (19,),\n",
       " (19,),\n",
       " (19,),\n",
       " (19,),\n",
       " (19,),\n",
       " (19,),\n",
       " (19,),\n",
       " (19,),\n",
       " (19,),\n",
       " (19,),\n",
       " (19,),\n",
       " (19,),\n",
       " (19,),\n",
       " (19,),\n",
       " (19,),\n",
       " (19,),\n",
       " (19,),\n",
       " (19,),\n",
       " (19,),\n",
       " (19,),\n",
       " (19,),\n",
       " (19,),\n",
       " (19,),\n",
       " (19,),\n",
       " (19,),\n",
       " (19,),\n",
       " (19,),\n",
       " (19,),\n",
       " (19,),\n",
       " (19,),\n",
       " (19,),\n",
       " (19,),\n",
       " (19,),\n",
       " (19,),\n",
       " (19,),\n",
       " (19,),\n",
       " (19,),\n",
       " (19,),\n",
       " (19,),\n",
       " (19,),\n",
       " (19,),\n",
       " (19,),\n",
       " (19,),\n",
       " (19,),\n",
       " (19,),\n",
       " (19,),\n",
       " (19,),\n",
       " (19,),\n",
       " (19,),\n",
       " (19,),\n",
       " (19,),\n",
       " (19,),\n",
       " (19,),\n",
       " (19,),\n",
       " (19,),\n",
       " (19,),\n",
       " (19,),\n",
       " (19,),\n",
       " (19,),\n",
       " (19,),\n",
       " (19,),\n",
       " (19,),\n",
       " (19,),\n",
       " (19,),\n",
       " (19,),\n",
       " (19,),\n",
       " (19,),\n",
       " (19,),\n",
       " (19,),\n",
       " (19,),\n",
       " (19,),\n",
       " (19,),\n",
       " (19,),\n",
       " (19,),\n",
       " (19,),\n",
       " (19,),\n",
       " (19,),\n",
       " (19,),\n",
       " (19,),\n",
       " (19,),\n",
       " (19,),\n",
       " (19,),\n",
       " (19,),\n",
       " (19,),\n",
       " (19,),\n",
       " (19,),\n",
       " (19,),\n",
       " (19,),\n",
       " (19,),\n",
       " (19,),\n",
       " (19,),\n",
       " (19,),\n",
       " (19,),\n",
       " (19,),\n",
       " (19,),\n",
       " (19,),\n",
       " (19,),\n",
       " (19,),\n",
       " (19,),\n",
       " (19,),\n",
       " (19,),\n",
       " (19,),\n",
       " (19,),\n",
       " (19,),\n",
       " (19,),\n",
       " (19,),\n",
       " (19,),\n",
       " (19,),\n",
       " (19,),\n",
       " (19,),\n",
       " (19,),\n",
       " (19,),\n",
       " (19,),\n",
       " (19,),\n",
       " (19,),\n",
       " (19,),\n",
       " (19,),\n",
       " (19,),\n",
       " (19,),\n",
       " (19,),\n",
       " (19,),\n",
       " (19,),\n",
       " (19,),\n",
       " (19,),\n",
       " (19,),\n",
       " (19,),\n",
       " (19,),\n",
       " (19,),\n",
       " (19,),\n",
       " (19,),\n",
       " (19,),\n",
       " (19,),\n",
       " (19,),\n",
       " (19,),\n",
       " (19,),\n",
       " (19,),\n",
       " (19,),\n",
       " (19,),\n",
       " (19,),\n",
       " (19,),\n",
       " (19,),\n",
       " (19,),\n",
       " (19,),\n",
       " (19,),\n",
       " (19,),\n",
       " (19,),\n",
       " (19,),\n",
       " (19,),\n",
       " (19,),\n",
       " (19,),\n",
       " (19,),\n",
       " (19,),\n",
       " (19,),\n",
       " (19,),\n",
       " (19,),\n",
       " (19,),\n",
       " (19,),\n",
       " (19,),\n",
       " (19,),\n",
       " (19,),\n",
       " (19,),\n",
       " (19,),\n",
       " (19,),\n",
       " (19,),\n",
       " (19,),\n",
       " (19,),\n",
       " (19,),\n",
       " (19,),\n",
       " (19,),\n",
       " (19,),\n",
       " (19,),\n",
       " (19,),\n",
       " (19,),\n",
       " (19,),\n",
       " (19,),\n",
       " (19,),\n",
       " (19,),\n",
       " (19,),\n",
       " (19,),\n",
       " (19,),\n",
       " (19,),\n",
       " (19,),\n",
       " (19,),\n",
       " (19,),\n",
       " (19,),\n",
       " (19,),\n",
       " (19,),\n",
       " (19,),\n",
       " (19,),\n",
       " (19,),\n",
       " (19,),\n",
       " (19,),\n",
       " (19,),\n",
       " (19,),\n",
       " (19,),\n",
       " (19,),\n",
       " (19,),\n",
       " (19,),\n",
       " (19,),\n",
       " (19,),\n",
       " (19,),\n",
       " (19,),\n",
       " (19,),\n",
       " (19,),\n",
       " (19,),\n",
       " (19,),\n",
       " (19,),\n",
       " (19,),\n",
       " (19,),\n",
       " (19,),\n",
       " (19,),\n",
       " (19,),\n",
       " (19,),\n",
       " (19,),\n",
       " (19,),\n",
       " (19,),\n",
       " (19,),\n",
       " (19,),\n",
       " (19,),\n",
       " (19,),\n",
       " (19,),\n",
       " (19,),\n",
       " (19,),\n",
       " (19,),\n",
       " (19,),\n",
       " (19,),\n",
       " (19,),\n",
       " (19,),\n",
       " (19,),\n",
       " (19,),\n",
       " (19,),\n",
       " (19,),\n",
       " (19,),\n",
       " (19,),\n",
       " (19,),\n",
       " (19,),\n",
       " (19,),\n",
       " (19,),\n",
       " (19,),\n",
       " (19,),\n",
       " (19,),\n",
       " (19,),\n",
       " (19,),\n",
       " (19,),\n",
       " (19,),\n",
       " (19,),\n",
       " (19,),\n",
       " (19,),\n",
       " (19,),\n",
       " (19,),\n",
       " (19,),\n",
       " (19,),\n",
       " (19,),\n",
       " (19,),\n",
       " (19,),\n",
       " (19,),\n",
       " (19,),\n",
       " (19,),\n",
       " (19,),\n",
       " (19,),\n",
       " (19,),\n",
       " (19,),\n",
       " (19,),\n",
       " (19,),\n",
       " (19,),\n",
       " (19,),\n",
       " (19,),\n",
       " (19,),\n",
       " (19,),\n",
       " (19,),\n",
       " (19,),\n",
       " (19,),\n",
       " (19,),\n",
       " (19,),\n",
       " (19,),\n",
       " (19,),\n",
       " (19,),\n",
       " (19,),\n",
       " (19,),\n",
       " (19,),\n",
       " (19,),\n",
       " (19,),\n",
       " (19,),\n",
       " (19,),\n",
       " (19,),\n",
       " (19,),\n",
       " (19,),\n",
       " (19,),\n",
       " (19,),\n",
       " (19,),\n",
       " (19,),\n",
       " (19,),\n",
       " (19,),\n",
       " (19,),\n",
       " (19,),\n",
       " (19,),\n",
       " (19,),\n",
       " (19,),\n",
       " (19,),\n",
       " (19,),\n",
       " (19,),\n",
       " (19,),\n",
       " (19,),\n",
       " (19,),\n",
       " (19,),\n",
       " (19,),\n",
       " (19,),\n",
       " (19,),\n",
       " (19,),\n",
       " (19,),\n",
       " (19,),\n",
       " (19,),\n",
       " (19,),\n",
       " (19,),\n",
       " (19,),\n",
       " (19,),\n",
       " (19,),\n",
       " (19,),\n",
       " (19,),\n",
       " (19,),\n",
       " (19,),\n",
       " (19,),\n",
       " (19,),\n",
       " (19,),\n",
       " (19,),\n",
       " (19,),\n",
       " (19,),\n",
       " (19,),\n",
       " (19,),\n",
       " (19,),\n",
       " (19,),\n",
       " (19,),\n",
       " (19,),\n",
       " (19,),\n",
       " (19,),\n",
       " (19,),\n",
       " (19,),\n",
       " (19,),\n",
       " (19,),\n",
       " (19,),\n",
       " (19,),\n",
       " (19,),\n",
       " (19,),\n",
       " (19,),\n",
       " (19,),\n",
       " (19,),\n",
       " (19,),\n",
       " (19,),\n",
       " (19,),\n",
       " (19,),\n",
       " (19,),\n",
       " (19,),\n",
       " (19,),\n",
       " (19,),\n",
       " (19,),\n",
       " (19,),\n",
       " (19,),\n",
       " (19,),\n",
       " (19,),\n",
       " (19,),\n",
       " (19,),\n",
       " (19,),\n",
       " (19,),\n",
       " (19,),\n",
       " (19,),\n",
       " (19,),\n",
       " (19,),\n",
       " (19,),\n",
       " (19,),\n",
       " (19,),\n",
       " (19,),\n",
       " (19,),\n",
       " (19,),\n",
       " (19,),\n",
       " (19,),\n",
       " (19,),\n",
       " (19,),\n",
       " (19,),\n",
       " (19,),\n",
       " (19,),\n",
       " (19,),\n",
       " (19,),\n",
       " (19,),\n",
       " (19,),\n",
       " (19,),\n",
       " (19,),\n",
       " (19,),\n",
       " (19,),\n",
       " (19,),\n",
       " (19,),\n",
       " (19,),\n",
       " (19,),\n",
       " (19,),\n",
       " (19,),\n",
       " (19,),\n",
       " (19,),\n",
       " (19,),\n",
       " (19,),\n",
       " (19,),\n",
       " (19,),\n",
       " (19,),\n",
       " (19,),\n",
       " (19,),\n",
       " (19,),\n",
       " (19,),\n",
       " (19,),\n",
       " (19,),\n",
       " (19,),\n",
       " (19,),\n",
       " (19,),\n",
       " (19,),\n",
       " (19,),\n",
       " (19,),\n",
       " (19,),\n",
       " (19,),\n",
       " (19,),\n",
       " (19,),\n",
       " (19,),\n",
       " (19,),\n",
       " (19,),\n",
       " (19,),\n",
       " (19,),\n",
       " (19,),\n",
       " (19,),\n",
       " (19,),\n",
       " (19,),\n",
       " (19,),\n",
       " (19,),\n",
       " (19,),\n",
       " (19,),\n",
       " (19,),\n",
       " (19,),\n",
       " (19,),\n",
       " (19,),\n",
       " (19,),\n",
       " (19,),\n",
       " (19,),\n",
       " (19,),\n",
       " (19,),\n",
       " (19,),\n",
       " (19,),\n",
       " (19,),\n",
       " (19,),\n",
       " (19,),\n",
       " (19,),\n",
       " (19,),\n",
       " (19,),\n",
       " (19,),\n",
       " (19,),\n",
       " (19,),\n",
       " (19,),\n",
       " (19,),\n",
       " (19,),\n",
       " (19,),\n",
       " (19,),\n",
       " (19,),\n",
       " (19,),\n",
       " (19,),\n",
       " (19,),\n",
       " (19,),\n",
       " (19,),\n",
       " (19,),\n",
       " (19,),\n",
       " (19,),\n",
       " (19,),\n",
       " (19,),\n",
       " (19,),\n",
       " (19,),\n",
       " (19,),\n",
       " (19,),\n",
       " (19,),\n",
       " (19,),\n",
       " (19,),\n",
       " (19,),\n",
       " (19,),\n",
       " (19,),\n",
       " (19,),\n",
       " (19,),\n",
       " (19,),\n",
       " (19,),\n",
       " (19,),\n",
       " (19,),\n",
       " (19,),\n",
       " (19,),\n",
       " (19,),\n",
       " (19,),\n",
       " (19,),\n",
       " (19,),\n",
       " (19,),\n",
       " (19,),\n",
       " (19,),\n",
       " (19,),\n",
       " (19,),\n",
       " (19,),\n",
       " (19,),\n",
       " (19,),\n",
       " (19,),\n",
       " (19,),\n",
       " (19,),\n",
       " (19,),\n",
       " (19,),\n",
       " (19,),\n",
       " (19,),\n",
       " (19,),\n",
       " (19,),\n",
       " (19,),\n",
       " (19,),\n",
       " (19,),\n",
       " (19,),\n",
       " (19,),\n",
       " (19,),\n",
       " (19,),\n",
       " (19,),\n",
       " (19,),\n",
       " (19,),\n",
       " (19,),\n",
       " (19,),\n",
       " (19,),\n",
       " (19,),\n",
       " (19,),\n",
       " (19,),\n",
       " (19,),\n",
       " (19,),\n",
       " (19,),\n",
       " (19,),\n",
       " (19,),\n",
       " (19,),\n",
       " (19,),\n",
       " (19,),\n",
       " (19,),\n",
       " (19,),\n",
       " (19,),\n",
       " (19,),\n",
       " (19,),\n",
       " (19,),\n",
       " (19,),\n",
       " (19,),\n",
       " (19,),\n",
       " (19,),\n",
       " (19,),\n",
       " (19,),\n",
       " (19,),\n",
       " (19,),\n",
       " (19,),\n",
       " (19,),\n",
       " (19,),\n",
       " (19,),\n",
       " (19,),\n",
       " (19,),\n",
       " (19,),\n",
       " (19,),\n",
       " (19,),\n",
       " (19,),\n",
       " (19,),\n",
       " (19,),\n",
       " (19,),\n",
       " (19,),\n",
       " (19,),\n",
       " (19,),\n",
       " (19,),\n",
       " (19,),\n",
       " (19,),\n",
       " (19,),\n",
       " (19,),\n",
       " (19,),\n",
       " (19,),\n",
       " (19,),\n",
       " (19,),\n",
       " (19,),\n",
       " (19,),\n",
       " (19,),\n",
       " (19,),\n",
       " (19,),\n",
       " (19,),\n",
       " (19,),\n",
       " (19,),\n",
       " (19,),\n",
       " (19,),\n",
       " (19,),\n",
       " (19,),\n",
       " (19,),\n",
       " (19,),\n",
       " (19,),\n",
       " (19,),\n",
       " (19,),\n",
       " (19,),\n",
       " (19,),\n",
       " (19,),\n",
       " (19,),\n",
       " (19,),\n",
       " (19,),\n",
       " (19,),\n",
       " (19,),\n",
       " (19,),\n",
       " (19,),\n",
       " (19,),\n",
       " (19,),\n",
       " (19,),\n",
       " (19,),\n",
       " (19,),\n",
       " (19,),\n",
       " (19,),\n",
       " (19,),\n",
       " (19,),\n",
       " (19,),\n",
       " (19,),\n",
       " (19,),\n",
       " (19,),\n",
       " (19,),\n",
       " (19,),\n",
       " (19,),\n",
       " (19,),\n",
       " (19,),\n",
       " (19,),\n",
       " (19,),\n",
       " (19,),\n",
       " (19,),\n",
       " (19,),\n",
       " (19,),\n",
       " (19,),\n",
       " (19,),\n",
       " (19,),\n",
       " (19,),\n",
       " (19,),\n",
       " (19,),\n",
       " (19,),\n",
       " (19,),\n",
       " (19,),\n",
       " (19,),\n",
       " (19,),\n",
       " (19,),\n",
       " (19,),\n",
       " (19,),\n",
       " (19,),\n",
       " (19,),\n",
       " (19,),\n",
       " (19,),\n",
       " (19,),\n",
       " (19,),\n",
       " (19,),\n",
       " (19,),\n",
       " (19,),\n",
       " (19,),\n",
       " (19,),\n",
       " (19,),\n",
       " (19,),\n",
       " (19,),\n",
       " (19,),\n",
       " (19,),\n",
       " (19,),\n",
       " (19,),\n",
       " (19,),\n",
       " (19,),\n",
       " (19,),\n",
       " (19,),\n",
       " (19,),\n",
       " (19,),\n",
       " (19,),\n",
       " (19,),\n",
       " (19,),\n",
       " (19,),\n",
       " (19,),\n",
       " (19,),\n",
       " (19,),\n",
       " (19,),\n",
       " (19,),\n",
       " (19,),\n",
       " (19,),\n",
       " (19,),\n",
       " (19,),\n",
       " (19,),\n",
       " (19,),\n",
       " (19,),\n",
       " (19,),\n",
       " (19,),\n",
       " (19,),\n",
       " (19,),\n",
       " (19,),\n",
       " (19,),\n",
       " (19,),\n",
       " (19,),\n",
       " (19,),\n",
       " (19,),\n",
       " (19,),\n",
       " (19,),\n",
       " (19,),\n",
       " (19,),\n",
       " (19,),\n",
       " (19,),\n",
       " (19,),\n",
       " (19,),\n",
       " (19,),\n",
       " (19,),\n",
       " (19,),\n",
       " (19,),\n",
       " (19,),\n",
       " (19,),\n",
       " (19,),\n",
       " (19,),\n",
       " (19,),\n",
       " (19,),\n",
       " (19,),\n",
       " (19,),\n",
       " (19,),\n",
       " (19,),\n",
       " (19,),\n",
       " (19,),\n",
       " (19,),\n",
       " (19,),\n",
       " (19,),\n",
       " (19,),\n",
       " (19,),\n",
       " (19,),\n",
       " (19,),\n",
       " (19,),\n",
       " (19,),\n",
       " (19,),\n",
       " (19,),\n",
       " (19,),\n",
       " (19,),\n",
       " (19,),\n",
       " (19,),\n",
       " (19,),\n",
       " (19,),\n",
       " (19,),\n",
       " (19,),\n",
       " (19,),\n",
       " (19,),\n",
       " (19,),\n",
       " (19,),\n",
       " (19,),\n",
       " (19,),\n",
       " (19,),\n",
       " (19,),\n",
       " (19,),\n",
       " (19,),\n",
       " (19,),\n",
       " (19,),\n",
       " (19,),\n",
       " (19,),\n",
       " (19,),\n",
       " (19,),\n",
       " (19,),\n",
       " (19,),\n",
       " (19,),\n",
       " (19,),\n",
       " (19,),\n",
       " (19,),\n",
       " (19,),\n",
       " (19,),\n",
       " (19,),\n",
       " (19,),\n",
       " (19,),\n",
       " (19,),\n",
       " (19,),\n",
       " (19,),\n",
       " (19,),\n",
       " (19,),\n",
       " (19,),\n",
       " (19,),\n",
       " (19,),\n",
       " (19,),\n",
       " (19,),\n",
       " (19,),\n",
       " (19,),\n",
       " (19,),\n",
       " (19,),\n",
       " (19,),\n",
       " (19,),\n",
       " (19,),\n",
       " (19,),\n",
       " (19,),\n",
       " (19,),\n",
       " (19,),\n",
       " (19,),\n",
       " (19,),\n",
       " (19,),\n",
       " (19,),\n",
       " (19,),\n",
       " (19,),\n",
       " (19,),\n",
       " (19,),\n",
       " (19,),\n",
       " (19,),\n",
       " (19,),\n",
       " (19,),\n",
       " (19,),\n",
       " (19,),\n",
       " (19,),\n",
       " (19,),\n",
       " (19,),\n",
       " (19,),\n",
       " (19,),\n",
       " (19,),\n",
       " (19,),\n",
       " (19,),\n",
       " (19,),\n",
       " (19,),\n",
       " (19,),\n",
       " (19,),\n",
       " (19,),\n",
       " (19,),\n",
       " (19,),\n",
       " (19,),\n",
       " (19,),\n",
       " (19,),\n",
       " (19,),\n",
       " (19,),\n",
       " (19,),\n",
       " (19,),\n",
       " (19,),\n",
       " (19,),\n",
       " (19,),\n",
       " (19,),\n",
       " (19,),\n",
       " (19,),\n",
       " (19,),\n",
       " (19,),\n",
       " (19,),\n",
       " (19,),\n",
       " (19,),\n",
       " (19,),\n",
       " (19,),\n",
       " (19,),\n",
       " (19,),\n",
       " (19,),\n",
       " (19,),\n",
       " (19,),\n",
       " (19,),\n",
       " (19,),\n",
       " (19,),\n",
       " (19,),\n",
       " (19,),\n",
       " (19,),\n",
       " (19,),\n",
       " (19,),\n",
       " (19,),\n",
       " (19,),\n",
       " (19,),\n",
       " (19,),\n",
       " (19,),\n",
       " (19,),\n",
       " (19,),\n",
       " (19,),\n",
       " (19,),\n",
       " (19,),\n",
       " (19,),\n",
       " (19,),\n",
       " (19,),\n",
       " (19,),\n",
       " (19,),\n",
       " (19,),\n",
       " (19,),\n",
       " (19,),\n",
       " (19,),\n",
       " (19,),\n",
       " (19,),\n",
       " (19,),\n",
       " (19,),\n",
       " (19,),\n",
       " (19,),\n",
       " (19,),\n",
       " (19,),\n",
       " (19,),\n",
       " (19,),\n",
       " (19,),\n",
       " (19,),\n",
       " (19,),\n",
       " (19,),\n",
       " (19,),\n",
       " (19,),\n",
       " (19,),\n",
       " (19,),\n",
       " (19,),\n",
       " (19,),\n",
       " (19,),\n",
       " (19,),\n",
       " (19,),\n",
       " (19,),\n",
       " (19,),\n",
       " (19,),\n",
       " (19,),\n",
       " (19,),\n",
       " (19,),\n",
       " (19,),\n",
       " (19,),\n",
       " (19,),\n",
       " (19,),\n",
       " (19,),\n",
       " (19,),\n",
       " (19,),\n",
       " (19,),\n",
       " (19,),\n",
       " (19,),\n",
       " (19,),\n",
       " (19,),\n",
       " (19,),\n",
       " (19,),\n",
       " (19,),\n",
       " (19,),\n",
       " (19,),\n",
       " (19,),\n",
       " (19,),\n",
       " (19,),\n",
       " (19,),\n",
       " (19,),\n",
       " (19,),\n",
       " (19,),\n",
       " (19,),\n",
       " (19,),\n",
       " (19,),\n",
       " (19,),\n",
       " (19,),\n",
       " (19,),\n",
       " (19,),\n",
       " (19,),\n",
       " (19,),\n",
       " (19,),\n",
       " (19,),\n",
       " (19,),\n",
       " (19,),\n",
       " (19,),\n",
       " (19,),\n",
       " (19,),\n",
       " (19,),\n",
       " (19,),\n",
       " (19,),\n",
       " (19,),\n",
       " (19,),\n",
       " (19,),\n",
       " (19,),\n",
       " (19,),\n",
       " (19,),\n",
       " (19,),\n",
       " (19,),\n",
       " (19,),\n",
       " (19,),\n",
       " (19,),\n",
       " (19,),\n",
       " (19,),\n",
       " (19,),\n",
       " (19,),\n",
       " (19,),\n",
       " (19,),\n",
       " (19,),\n",
       " (19,),\n",
       " (19,),\n",
       " (19,),\n",
       " (19,),\n",
       " (19,),\n",
       " (19,),\n",
       " (19,),\n",
       " (19,),\n",
       " (19,),\n",
       " (19,),\n",
       " (19,),\n",
       " (19,),\n",
       " (19,),\n",
       " (19,),\n",
       " (19,),\n",
       " (19,),\n",
       " (19,),\n",
       " (19,),\n",
       " (19,),\n",
       " ...]"
      ]
     },
     "execution_count": 228,
     "metadata": {},
     "output_type": "execute_result"
    }
   ],
   "source": [
    "[i.shape for i in hist]"
   ]
  },
  {
   "cell_type": "code",
   "execution_count": 231,
   "metadata": {},
   "outputs": [
    {
     "data": {
      "text/plain": [
       "<matplotlib.collections.QuadMesh at 0x26c94e8b438>"
      ]
     },
     "execution_count": 231,
     "metadata": {},
     "output_type": "execute_result"
    }
   ],
   "source": [
    "plt.figure()\n",
    "plt.pcolormesh(hist)"
   ]
  },
  {
   "cell_type": "code",
   "execution_count": 202,
   "metadata": {},
   "outputs": [
    {
     "name": "stderr",
     "output_type": "stream",
     "text": [
      "C:\\ProgramData\\Anaconda3\\lib\\site-packages\\numpy\\core\\numeric.py:492: ComplexWarning: Casting complex values to real discards the imaginary part\n",
      "  return array(a, dtype, copy=False, order=order)\n"
     ]
    },
    {
     "data": {
      "text/plain": [
       "[<matplotlib.lines.Line2D at 0x26c8e480ac8>]"
      ]
     },
     "execution_count": 202,
     "metadata": {},
     "output_type": "execute_result"
    }
   ],
   "source": [
    "plt.figure()\n",
    "plt.plot(interference_term_cexp[0,:])\n",
    "plt.plot(interference_term_exp[0,:])"
   ]
  },
  {
   "cell_type": "code",
   "execution_count": 200,
   "metadata": {},
   "outputs": [
    {
     "name": "stderr",
     "output_type": "stream",
     "text": [
      "C:\\ProgramData\\Anaconda3\\lib\\site-packages\\numpy\\core\\numeric.py:492: ComplexWarning: Casting complex values to real discards the imaginary part\n",
      "  return array(a, dtype, copy=False, order=order)\n"
     ]
    },
    {
     "data": {
      "text/plain": [
       "[<matplotlib.lines.Line2D at 0x26c8d07a550>,\n",
       " <matplotlib.lines.Line2D at 0x26c8d07a6a0>,\n",
       " <matplotlib.lines.Line2D at 0x26c8d07a7f0>,\n",
       " <matplotlib.lines.Line2D at 0x26c8d07a940>,\n",
       " <matplotlib.lines.Line2D at 0x26c8d07aa90>,\n",
       " <matplotlib.lines.Line2D at 0x26c8d07abe0>,\n",
       " <matplotlib.lines.Line2D at 0x26c8d07ad30>,\n",
       " <matplotlib.lines.Line2D at 0x26c8d07ae80>,\n",
       " <matplotlib.lines.Line2D at 0x26c8d07afd0>,\n",
       " <matplotlib.lines.Line2D at 0x26c8d081160>,\n",
       " <matplotlib.lines.Line2D at 0x26c8d054e48>,\n",
       " <matplotlib.lines.Line2D at 0x26c8d0813c8>,\n",
       " <matplotlib.lines.Line2D at 0x26c8d081518>,\n",
       " <matplotlib.lines.Line2D at 0x26c8d081668>,\n",
       " <matplotlib.lines.Line2D at 0x26c8d0817b8>,\n",
       " <matplotlib.lines.Line2D at 0x26c8d081908>,\n",
       " <matplotlib.lines.Line2D at 0x26c8d081a58>,\n",
       " <matplotlib.lines.Line2D at 0x26c8d081ba8>,\n",
       " <matplotlib.lines.Line2D at 0x26c8d081cf8>,\n",
       " <matplotlib.lines.Line2D at 0x26c8d081e48>]"
      ]
     },
     "execution_count": 200,
     "metadata": {},
     "output_type": "execute_result"
    }
   ],
   "source": [
    "plt.figure()\n",
    "plt.plot((interference_term_response*iq_phase_diff).T)"
   ]
  },
  {
   "cell_type": "code",
   "execution_count": 196,
   "metadata": {},
   "outputs": [
    {
     "data": {
      "text/plain": [
       "[<matplotlib.lines.Line2D at 0x26c8c98b0f0>]"
      ]
     },
     "execution_count": 196,
     "metadata": {},
     "output_type": "execute_result"
    }
   ],
   "source": [
    "plt.figure()\n",
    "plt.plot(np.angle(interference_term_response_mean))\n",
    "plt.plot(np.angle(interference_term_exp_mean))\n",
    "plt.plot(np.angle(interference_term_cexp_mean))\n",
    "#plt.plot(np.angle(interference_term_response_mean2))"
   ]
  },
  {
   "cell_type": "code",
   "execution_count": 125,
   "metadata": {},
   "outputs": [
    {
     "data": {
      "text/plain": [
       "[<matplotlib.lines.Line2D at 0x26c843b62e8>]"
      ]
     },
     "execution_count": 125,
     "metadata": {},
     "output_type": "execute_result"
    }
   ],
   "source": [
    "plt.figure()\n",
    "plt.plot(pos_interference_noavg[0,:])\n",
    "plt.plot(2*np.imag(model_I*response_function_I_abs*amplitudes[amplitude_small_id]*np.conj(model_Q*response_function_Q_abs)*amplitudes[amplitude_small_id])[0,:])"
   ]
  },
  {
   "cell_type": "code",
   "execution_count": 138,
   "metadata": {},
   "outputs": [
    {
     "data": {
      "text/plain": [
       "[<matplotlib.lines.Line2D at 0x26c88863e80>]"
      ]
     },
     "execution_count": 138,
     "metadata": {},
     "output_type": "execute_result"
    }
   ],
   "source": [
    "plt.figure()\n",
    "plt.plot(interference_term[0,:])\n",
    "plt.plot(theory_interference_term[0,:])"
   ]
  },
  {
   "cell_type": "code",
   "execution_count": 107,
   "metadata": {},
   "outputs": [
    {
     "data": {
      "text/plain": [
       "[<matplotlib.lines.Line2D at 0x26cf72b6f28>]"
      ]
     },
     "execution_count": 107,
     "metadata": {},
     "output_type": "execute_result"
    }
   ],
   "source": [
    "plt.figure()\n",
    "plt.plot(np.unwrap(np.angle(model_I[1,:])))\n",
    "plt.plot(np.unwrap(np.angle(model_Q[1,:])))"
   ]
  },
  {
   "cell_type": "code",
   "execution_count": 89,
   "metadata": {},
   "outputs": [
    {
     "data": {
      "text/plain": [
       "[<matplotlib.lines.Line2D at 0x26ced7e6d30>]"
      ]
     },
     "execution_count": 89,
     "metadata": {},
     "output_type": "execute_result"
    }
   ],
   "source": [
    "plt.figure()\n",
    "plt.semilogy(model_I_psd[0, :])\n",
    "plt.semilogy(spectra[amplitude_small_id, amplitude_zero_id, 0, :]*1e4)"
   ]
  },
  {
   "cell_type": "code",
   "execution_count": 78,
   "metadata": {},
   "outputs": [
    {
     "data": {
      "text/plain": [
       "[<matplotlib.lines.Line2D at 0x26cead4b940>]"
      ]
     },
     "execution_count": 78,
     "metadata": {},
     "output_type": "execute_result"
    }
   ],
   "source": [
    "plt.figure()\n",
    "plt.plot(mean_model_I_psd)\n",
    "plt.plot(mean_measurement_I_psd*1e4)\n"
   ]
  },
  {
   "cell_type": "code",
   "execution_count": 88,
   "metadata": {},
   "outputs": [
    {
     "data": {
      "text/plain": [
       "[<matplotlib.lines.Line2D at 0x26cedaaeb00>]"
      ]
     },
     "execution_count": 88,
     "metadata": {},
     "output_type": "execute_result"
    }
   ],
   "source": [
    "plt.figure()\n",
    "plt.plot(response_function_I_abs)\n",
    "plt.plot(response_function_Q_abs)"
   ]
  },
  {
   "cell_type": "code",
   "execution_count": 114,
   "metadata": {},
   "outputs": [
    {
     "data": {
      "text/plain": [
       "[<matplotlib.lines.Line2D at 0x26cff262358>]"
      ]
     },
     "execution_count": 114,
     "metadata": {},
     "output_type": "execute_result"
    }
   ],
   "source": [
    "plt.figure()\n",
    "plt.plot(np.unwrap(np.angle(iq_phase_diff[0,:]).T))"
   ]
  },
  {
   "cell_type": "code",
   "execution_count": 109,
   "metadata": {},
   "outputs": [
    {
     "name": "stderr",
     "output_type": "stream",
     "text": [
      "C:\\ProgramData\\Anaconda3\\lib\\site-packages\\numpy\\core\\numeric.py:492: ComplexWarning: Casting complex values to real discards the imaginary part\n",
      "  return array(a, dtype, copy=False, order=order)\n"
     ]
    },
    {
     "data": {
      "text/plain": [
       "[<matplotlib.lines.Line2D at 0x26cf77b7080>]"
      ]
     },
     "execution_count": 109,
     "metadata": {},
     "output_type": "execute_result"
    }
   ],
   "source": [
    "plt.figure()\n",
    "plt.plot(pos_interference)\n",
    "plt.plot(pos_interference_nophase)"
   ]
  },
  {
   "cell_type": "code",
   "execution_count": 17,
   "metadata": {},
   "outputs": [],
   "source": [
    "import pickle\n",
    "with open(r'C:\\Users\\cryopxi\\Documents\\offline_calibration_data.pickle', 'wb') as f:\n",
    "    pickle.dump({'sequences1':sequences1, \n",
    "                 'sequences2':sequences2, \n",
    "                 'measurements_low_power':measurements_low_power, \n",
    "                 'measurements_high_power':measurements_high_power, \n",
    "                 'freqpoints':sa.get_freqpoints(), \n",
    "                 'samplerate':awg2.get_clock()}, f)\n"
   ]
  },
  {
   "cell_type": "markdown",
   "metadata": {},
   "source": [
    "### Загружаем импульсные скрипты всякие"
   ]
  },
  {
   "cell_type": "code",
   "execution_count": 9,
   "metadata": {},
   "outputs": [
    {
     "data": {
      "text/plain": [
       "<module 'qsweepy.sweep' from 'C:\\\\qtlab_replacement\\\\qsweepy\\\\sweep.py'>"
      ]
     },
     "execution_count": 9,
     "metadata": {},
     "output_type": "execute_result"
    }
   ],
   "source": [
    "import imp\n",
    "imp.reload(awg_digital)\n",
    "imp.reload(awg_iq_multi)\n",
    "imp.reload(data_reduce)\n",
    "imp.reload(fitting)\n",
    "imp.reload(plotting)\n",
    "imp.reload(tomography)\n",
    "imp.reload(sweep)"
   ]
  },
  {
   "cell_type": "code",
   "execution_count": 10,
   "metadata": {},
   "outputs": [],
   "source": [
    "# Источник тока - в autorange\n",
    "#current.set_autorange(1)\n",
    "#Мощности гетеродинов, постоянные\n",
    "#Мощность гетеродина для возбуждения 13-16 дБм\n",
    "\n",
    "lo_ex_pow = 14\n",
    "lo_ex.set_status(1)\n",
    "lo_ro_pow = 16\n",
    "lo_ro.set_power(lo_ro_pow)\n",
    "\n",
    "pna.write(\"OUTP ON\")\n",
    "pna.write(\"SOUR1:POW1:MODE ON\")\n",
    "pna.write(\"SOUR1:POW2:MODE OFF\")\n",
    "pna.set_sweep_mode(\"CW\")\n",
    "lo_ex.set_power(lo_ex_pow)\n",
    "\n",
    "marker_length = 100\n",
    "#readout_trigger_delay = 185\n",
    "readout_trigger_delay = 0\n",
    "trg_length = 10e-9\n",
    "\n",
    "ex_clock = 1000e6\n",
    "ro_clock = 1250e6\n",
    "\n",
    "rep_rate = 20e3 # частота повторений эксперимента\n",
    "\n",
    "#awg.stop()\n",
    "awg1.check_cached=True\n",
    "awg2.check_cached=True\n",
    "#awg_tek.set_clock(ex_clock) # клок всех авгшк\n",
    "awg1.set_clock(ex_clock)\n",
    "awg2.set_clock(ex_clock)\n",
    "awg1.set_clock_output(True)\n",
    "awg2.set_clock_output(True)\n",
    "awg1.set_nop(ex_clock/rep_rate) # репрейт нужно задавать по=хорошему только на управляющей,\n",
    "awg2.set_nop(ex_clock/rep_rate) # репрейт нужно задавать по=хорошему только на управляющей,\n",
    "awg1.run()\n",
    "awg2.run()\n",
    "# а вот длину сэмплов, которая очевидно то же самое, нужно задавать на всех авгшках.\n",
    "# хорошо, что сейчас она только одна.\n",
    "#this is zashkvar\n",
    "\n",
    "# channel 0 is master and triggers all others\n",
    "# M3202A settings (ignored on AWG5014C)\n",
    "#awg._visainstrument.write('AWGC:DOUT1 ON')\n",
    "#awg._visainstrument.write('AWGC:DOUT2 ON')\n",
    "#awg._visainstrument.write('AWGC:DOUT3 ON')\n",
    "#awg._visainstrument.write('AWGC:DOUT4 ON')\n",
    "awg2.trigger_source_types = [0,6,6,6]\n",
    "awg2.trigger_source_channels = [0, 4000,4000,4000]\n",
    "awg2.trigger_delays = [30+10,7+10,7+10,7+10]\n",
    "awg2.trigger_behaviours = [0,4,4,4]\n",
    "awg2.set_trigger_mode(2)\n",
    "awg1.set_trigger_mode(2)\n",
    "awg1.trigger_source_types = [6,6,6,6]\n",
    "awg1.trigger_source_channels = [4000, 4000,4000,4000]\n",
    "awg1.trigger_delays = [7+10,7+10,7+10,7+10] # wait 60 ns for sync with awg2\n",
    "awg1.trigger_behaviours = [4,4,4,4]\n",
    "for channel in range(0,4):\n",
    "    awg2.set_amplitude(1.0, channel=channel)\n",
    "    awg2.set_offset(0.0,channel=channel)\n",
    "    awg2.set_output(1, channel=channel)\n",
    "    awg2.set_waveform(waveform = [0]*50000, channel=channel)\n",
    "for channel in range(0,4):\n",
    "    awg1.set_amplitude(1.0, channel=channel)\n",
    "    awg1.set_offset(0.0,channel=channel)\n",
    "    awg1.set_output(1, channel=channel)\n",
    "    awg1.set_waveform(waveform =[0]*50000, channel=channel)\n",
    "awg2.set_marker(length=100, delay=0, channel=0, pxi_channels=1)\n",
    "awg1.set_marker(length=200, delay=0, channel=0, pxi_channels=2)\n",
    "awg2.run()\n",
    "awg1.run()\n",
    "\n",
    "    \n",
    "#awg.set_marker(length=marker_length, delay=0, channel=0) #M3202A\n",
    "\n",
    "\n",
    "awg_channels =dict()\n",
    "ro_trg = awg_digital.awg_digital(awg_tek, 1)\n",
    "ro_trg.mode = 'set_delay' #M3202A\n",
    "ro_trg.delay_setter = lambda x: adc.set_trigger_delay(int(x*adc.get_clock()/iq_ex.get_clock()-readout_trigger_delay)) #M3202A\n",
    "#ro_trg.mode = 'waveform' #AWG5014C\n",
    "awg_channels['ro_trg'] = ro_trg\n",
    "# К первому маркере первого канала тектроникса подсоединён триггер оцифровщика.\n",
    "# Надо подавать какой-нибудь триггер, что-ли.\n",
    "# А ещё нужно подавать клок. К сожалению наш оцифровщик не может в 1ГГц клок, ему нужен 500МГц клок.\n",
    "# Будем подавать 500 МГц с цифрового выхода тектроникса.\n",
    "# AWG5014C\n",
    "#awg_tek.set_marker1_low(-0.0, channel=1)\n",
    "#awg_tek.set_marker2_low(-0.0, channel=1)\n",
    "#awg_tek.set_marker1_high(1.0, channel=1)\n",
    "#awg_tek.set_marker2_high(1.0, channel=1)\n",
    "#awg_tek.set_marker1_low(-0.04, channel=2)\n",
    "#awg_tek.set_marker2_low(-0.04, channel=2) \n",
    "#awg_tek.set_marker1_high(0.04, channel=2) # с клока хватит и такой амплитуды\n",
    "#awg_tek.set_marker2_high(0.04, channel=2) # с клока хватит и такой амплитуды\n",
    "\n",
    "# настройки оцифровщика\n",
    "# Spectrum M3i-3212\n",
    "#adc.reset()            \n",
    "#adc.set_timeout(10000)\n",
    "#adc.set_clock(ro_clock)\n",
    "\n",
    "#adc.set_spc_samplerate(smp_rate)\n",
    "#External trigger\n",
    "adc.reset()\n",
    "#Установить sample rate\n",
    "adc.set_clock(ro_clock)\n",
    "adc.set_clock_mode('pxi')\n",
    "#adc.set_clock_mode('ext')\n",
    "#adc.set_ext_clock(1000e6/80)\n",
    "#adc.set_ext_clock(625e6/60)\n",
    "#Выбрать канал (оба)\n",
    "adc.select_channel01()\n",
    "adc.set_channel01_amps(200,200)\n",
    "\n",
    "adc.set_trigger_ext0_level0(0) # logical 0 value to 200 mV\n",
    "adc.set_trigger_ext0_level1(2000) # logical 1 value to 600 mV\n",
    "adc.trigger_mode_pos()\n",
    "adc.set_trigger_ext0_pulsewidth(0)\n",
    "\n",
    "adc.set_trigger_ext0()\n",
    "adc.set_trigger_termination(1)\n",
    "#Сегментированный режим\n",
    "#adc.set_multi_mode()\n",
    "#Настроить входнй диапазон в мв\n",
    "#adc.init_channel01_multiple_recording()\n",
    "#Настроить режим измерения\n",
    "adc.set_multi_record_mode()\n",
    "\n",
    "#Выбрать канал (оба)"
   ]
  },
  {
   "cell_type": "code",
   "execution_count": 9,
   "metadata": {},
   "outputs": [
    {
     "name": "stderr",
     "output_type": "stream",
     "text": [
      "WARNING:root:Tektronix_AWG5014 : Clock set to 1000000000.0. This is not fully functional yet. To avoid problems, it is better not to change the clock during operation\n"
     ]
    },
    {
     "data": {
      "text/plain": [
       "True"
      ]
     },
     "execution_count": 9,
     "metadata": {},
     "output_type": "execute_result"
    }
   ],
   "source": [
    "awg_tek._visainstrument.write('AWGC:RMOD TRIG')\n",
    "awg_tek._visainstrument.write('TRIG:WVAL LAST')\n",
    "awg_tek._visainstrument.write('TRIG:IMP 50ohm')\n",
    "awg_tek._visainstrument.write('SOUR1:ROSC:SOUR EXT')\n",
    "awg_tek._visainstrument.write('SOUR1:ROSC:FREQ 10MHz')\n",
    "awg_tek.set_clock(1e9)\n",
    "awg_tek.set_nop(ex_clock/rep_rate-2000) # репрейт нужно задавать по=хорошему только на управляющей_t"
   ]
  },
  {
   "cell_type": "code",
   "execution_count": 10,
   "metadata": {},
   "outputs": [],
   "source": [
    "j=200"
   ]
  },
  {
   "cell_type": "code",
   "execution_count": 12,
   "metadata": {},
   "outputs": [
    {
     "name": "stderr",
     "output_type": "stream",
     "text": [
      "C:\\ProgramData\\Anaconda3\\lib\\site-packages\\pyvisa\\resources\\messagebased.py:573: FutureWarning: ask is deprecated and will be removed in 1.10, use query instead.\n",
      "  '1.10, use query instead.', FutureWarning)\n"
     ]
    }
   ],
   "source": [
    "j=j+2\n",
    "awg1.stop()\n",
    "awg2.stop()\n",
    "for i in [0,1,2,3]:\n",
    "    awg1.set_waveform(([1]*50+[0]*50)*j+[0]*10000, channel=i)\n",
    "    awg2.set_waveform(([1]*50+[0]*50)*j+[0]*10000, channel=i)\n",
    "    awg_tek.set_waveform(([1]*50+[0]*50)*j+[0]*8000, channel=i+1)\n",
    "awg1.run()\n",
    "awg2.run()\n",
    "awg_tek.run()"
   ]
  },
  {
   "cell_type": "code",
   "execution_count": 12,
   "metadata": {},
   "outputs": [
    {
     "data": {
      "text/plain": [
       "1250000000"
      ]
     },
     "execution_count": 12,
     "metadata": {},
     "output_type": "execute_result"
    }
   ],
   "source": [
    "adc.get_clock()"
   ]
  },
  {
   "cell_type": "markdown",
   "metadata": {},
   "source": [
    "### Калибровка миксеров"
   ]
  },
  {
   "cell_type": "code",
   "execution_count": 41,
   "metadata": {},
   "outputs": [],
   "source": [
    "#json.invalidate_calibrations()"
   ]
  },
  {
   "cell_type": "code",
   "execution_count": 42,
   "metadata": {
    "scrolled": true
   },
   "outputs": [
    {
     "name": "stdout",
     "output_type": "stream",
     "text": [
      "Excitation channel\n",
      "c:\\data/calibrations/iq-dc/ lo_freq-5.15e+09\n",
      "c:\\data/calibrations/iq-rf/ frequency-4.985e+09-if--1.65e+08-sideband_id-     0\n",
      "c:\\data/calibrations/iq-rf/ frequency-5.01e+09-if--1.4e+08-sideband_id-     0\n",
      "c:\\data/calibrations/iq-rf/ frequency-4.833e+09-if--3.17e+08-sideband_id-     0\n",
      "Readout channel\n",
      "c:\\data/calibrations/iq-dc/ lo_freq-6.7e+09\n",
      "c:\\data/calibrations/iq-rf/ frequency-6.6e+09-if--1e+08-sideband_id-     0\n",
      "c:\\data/calibrations/iq-rf/ frequency-6.88e+09-if-1.8e+08-sideband_id-     0\n",
      "c:\\data/calibrations/iq-rf/ frequency-6.735e+09-if-3.5e+07-sideband_id-     0\n"
     ]
    }
   ],
   "source": [
    "#ro_if = 75e6\n",
    "lo_freq = 5.15e9#5.7 e9\n",
    "lo_ro_freq = 6.7e9\n",
    "    \n",
    "imp.reload(awg_iq_multi)\n",
    "# промежуточные частоты для гетеродинной схемы new:\n",
    "lo1.set_frequency(lo_freq)\n",
    "lo_ro.set_frequency(lo_ro_freq)\n",
    "iq_ex = awg_iq_multi.awg_iq_multi(awg_tek, awg_tek, 0, 1, lo_ex) #M3202A\n",
    "iq_ro = awg_iq_multi.awg_iq_multi(awg1, awg1, 0, 1, lo_ro) #M3202A\n",
    "#iq_ex = awg_iq_multi.awg_iq_multi(awg_tek, awg_tek, 1, 2, lo_ex) #M3202A\n",
    "#iq_ro = awg_iq_multi.awg_iq_multi(awg_tek, awg_tek, 4, 3, lo_ro) #AWG5014C\n",
    "readout_channels = {}\n",
    "for _qubit_id, qubit in qubits.items():\n",
    "    for tr,freq in qubits[_qubit_id]['q']['F'].items():\n",
    "        iq_ex.carriers['iq_ex_q{}_'.format(_qubit_id)+tr] = awg_iq_multi.carrier(iq_ex)\n",
    "        iq_ex.carriers['iq_ex_q{}_'.format(_qubit_id)+tr].set_frequency(freq)\n",
    "        awg_channels['iq_ex_q{}_'.format(_qubit_id)+tr]=iq_ex.carriers['iq_ex_q{}_'.format(_qubit_id)+tr]\n",
    "        iq_ro.carriers['iq_ro_q{}'.format(_qubit_id)] = awg_iq_multi.carrier(iq_ro)\n",
    "        iq_ro.carriers['iq_ro_q{}'.format(_qubit_id)].set_frequency(qubits[_qubit_id]['r']['Fr'])\n",
    "        awg_channels['iq_ro_q{}'.format(_qubit_id)] = iq_ro.carriers['iq_ro_q{}'.format(_qubit_id)]\n",
    "        readout_channels['iq_ro_q{}'.format(_qubit_id)] = awg_channels['iq_ro_q{}'.format(_qubit_id)]\n",
    "\n",
    "pg = pulses.pulses(awg_channels)\n",
    "#print(ex_if*1e-6 ,lo_freq)\n",
    "\n",
    "print(\"Excitation channel\", end='\\n')\n",
    "iq_ex.do_calibration(sa)\n",
    "print(\"Readout channel\", end='\\n')\n",
    "iq_ro.do_calibration(sa)"
   ]
  },
  {
   "cell_type": "markdown",
   "metadata": {},
   "source": [
    "## задержка считывания"
   ]
  },
  {
   "cell_type": "code",
   "execution_count": 43,
   "metadata": {},
   "outputs": [
    {
     "name": "stdout",
     "output_type": "stream",
     "text": [
      "-4.84e-07 -484.00000000000006\n",
      "2.4e-09 2.4\n"
     ]
    },
    {
     "data": {
      "text/plain": [
       "{'iq_ro_q1': {'iq_calibration': array([-0.4623986 +0.35349914j, -0.03461442+0.01502144j]),\n",
       "  'coherent_background': array([-0.5 -0.2j , -0.28+0.34j, -0.06+0.5j , ..., -0.3 +0.28j,\n",
       "          0.08-0.16j, -0.12-0.14j]),\n",
       "  'feature': array([-0.49701302+0.36852057j, -0.27247295+0.52902364j,\n",
       "          0.01947328+0.55865332j, ...,  0.16832595+0.52072605j,\n",
       "          0.42561328+0.35115307j,  0.57760957+0.09470952j])},\n",
       " 'iq_ro_q2': {'iq_calibration': array([0.5412935 +0.32196122j, 0.03260758-0.00645317j]),\n",
       "  'coherent_background': array([-0.5 -0.2j , -0.28+0.34j, -0.06+0.5j , ..., -0.3 +0.28j,\n",
       "          0.08-0.16j, -0.12-0.14j]),\n",
       "  'feature': array([ 0.57390108+0.31550805j,  0.09636187+0.59491354j,\n",
       "         -0.45482487+0.41963805j, ...,  0.03022214+0.5985554j ,\n",
       "         -0.50069715+0.37467876j, -0.64894324-0.13555765j])},\n",
       " 'iq_ro_q3': {'iq_calibration': array([-0.15177868-0.52652804j,  0.01053425+0.03346687j]),\n",
       "  'coherent_background': array([-0.5 -0.2j , -0.28+0.34j, -0.06+0.5j , ..., -0.3 +0.28j,\n",
       "          0.08-0.16j, -0.12-0.14j]),\n",
       "  'feature': array([-0.14124443-0.49306117j, -0.04105221-0.51385895j,\n",
       "          0.06040735-0.51879322j, ...,  0.39355304+0.35387795j,\n",
       "          0.31349915+0.4148841j ,  0.22376712+0.46308223j])}}"
      ]
     },
     "execution_count": 43,
     "metadata": {},
     "output_type": "execute_result"
    }
   ],
   "source": [
    "trigger_readout_seq = [pg.p('ro_trg', 10e-9, pg.rect, 1)]\n",
    "\n",
    "adc.set_nums(50)\n",
    "adc.set_nop(32768)\n",
    "#adc.set_posttrigger(adc.get_nop()-4096)\n",
    "if hasattr(adc, 'set_posttrigger'):\n",
    "    adc.set_posttrigger(adc.get_nop()-32)\n",
    "modem = modem_readout.modem_readout(pg, adc, trigger_readout_seq, axis_mean=0)\n",
    "modem.readout_channels = readout_channels\n",
    "#ro_trg.delay_setter = lambda x: adc.set_trigger_delay(int(x*adc.get_clock()/iq_ex.get_clock()-0)) # M3201A & M3202A\n",
    "ro_trg.delay = 0#Spectrum+AWG5014C\n",
    "delay_calibration = modem.calibrate_delay()\n",
    "readout_trigger_delay = delay_calibration[awg_channels['iq_ro_q1']]\n",
    "#readout_trigger_delay_cycles = readout_trigger_delay*adc.get_clock() M3201A\n",
    "readout_trigger_delay_cycles = readout_trigger_delay*ro_trg.get_clock()\n",
    "print (readout_trigger_delay, readout_trigger_delay_cycles)\n",
    "ro_trg.delay_setter = lambda x: adc.set_trigger_delay(int(x*adc.get_clock()/iq_ex.get_clock())-readout_trigger_delay*adc.get_clock()) #M3201A\n",
    "ro_trg.delay = int(-readout_trigger_delay_cycles)#Spectrum+AWG5014C\n",
    "readout_trigger_delay_test = modem.calibrate_delay()[awg_channels['iq_ro_q1']]\n",
    "#readout_trigger_delay_cycles_test = readout_trigger_delay_test*adc.get_clock() M3201A\n",
    "readout_trigger_delay_cycles_test = readout_trigger_delay_test*ro_trg.get_clock()\n",
    "print (readout_trigger_delay_test, readout_trigger_delay_cycles_test)\n",
    "\n",
    "modem.calibrate_dc()"
   ]
  },
  {
   "cell_type": "markdown",
   "metadata": {},
   "source": [
    "## усреднённое считывание"
   ]
  },
  {
   "cell_type": "code",
   "execution_count": 44,
   "metadata": {},
   "outputs": [],
   "source": [
    "modem.filters = modem.calibrated_filters\n",
    "adc_reducer = data_reduce.data_reduce(modem)\n",
    "adc_reducer.filters = {'S21_r{}'.format(_qubit_id): \n",
    "            data_reduce.mean_reducer(modem, 'iq_ro_q{}'.format(_qubit_id), axis=0) for _qubit_id in qubits.keys()}\n",
    "adc_reducer.extra_opts['scatter'] = True\n",
    "adc_reducer.extra_opts['realimag'] = True"
   ]
  },
  {
   "cell_type": "code",
   "execution_count": 45,
   "metadata": {},
   "outputs": [],
   "source": [
    "adc_reducers = {_qubit_id:data_reduce.data_reduce(modem) for  _qubit_id in qubits.keys()}\n",
    "for _qubit_id in qubits.keys():\n",
    "    adc_reducers[_qubit_id].filters = {'S21_r{}'.format(_qubit_id):data_reduce.mean_reducer(\n",
    "        modem, 'iq_ro_q{}'.format(_qubit_id), axis=0)}\n",
    "    adc_reducers[_qubit_id].extra_opts['scatter'] = True\n",
    "    adc_reducers[_qubit_id].extra_opts['realimag'] = True\n",
    "        \n",
    "adc_reducer.filters = {'S21_r{}'.format(_qubit_id): \n",
    "            data_reduce.mean_reducer(modem, 'iq_ro_q{}'.format(_qubit_id), axis=0) for _qubit_id in qubits.keys()}\n",
    "adc_reducer.extra_opts['scatter'] = True\n",
    "adc_reducer.extra_opts['realimag'] = True"
   ]
  },
  {
   "cell_type": "markdown",
   "metadata": {},
   "source": [
    "## длительность считывания"
   ]
  },
  {
   "cell_type": "code",
   "execution_count": 46,
   "metadata": {},
   "outputs": [],
   "source": [
    "def set_adc_nop(ro_adc_length):\n",
    "    adc.stop() # Spectrum\n",
    "    signal_size = int(np.ceil(4./3.*(ro_adc_length)*adc.get_clock()))\n",
    "    nop = int( 2**np.ceil(np.log2(signal_size)) )\n",
    "    #print (nop)\n",
    "    adc.set_nop(nop)\n",
    "    adc.set_post_trigger(adc.get_nop()-64)\n",
    "    \n",
    "# \"Измеритель средних прошедших импульсов\"\n",
    "# Просто усредняет всё по номеру сэмпла.\n",
    "    \n",
    "    \n",
    "#ro_adc_length = 0.15e-6        # Вот такой длины считываем (опухоль Фёдорова!!)\n",
    "#ro_amplitude =0.16\n",
    "#ro_dac_length = 0.08e-6\n",
    "ro_adc_length = 1.0e-6\n",
    "ro_dac_length = 0.4e-6\n",
    "#adc.set_nums(1000)\n",
    "#adc.set_software_nums_multi(1)\n",
    "adc.set_nums(100)\n",
    "set_adc_nop(ro_adc_length)\n",
    "adc.set_nums(5000)\n",
    "#adc.set_nop(32576)\n",
    "#adc.set_post_trigger(32576-64)"
   ]
  },
  {
   "cell_type": "markdown",
   "metadata": {},
   "source": [
    "## Прохождение считывающих испульсов разной амплитуды"
   ]
  },
  {
   "cell_type": "code",
   "execution_count": 44,
   "metadata": {
    "scrolled": true
   },
   "outputs": [
    {
     "data": {
      "application/vnd.jupyter.widget-view+json": {
       "model_id": "c922faef610449f3939cbaa5acf1b1f4",
       "version_major": 2,
       "version_minor": 0
      },
      "text/plain": [
       "HTML(value='')"
      ]
     },
     "metadata": {},
     "output_type": "display_data"
    },
    {
     "name": "stdout",
     "output_type": "stream",
     "text": [
      "Started at:  Oct 11 2018 15:05:47\n",
      "Waiting to join deferred threads:\n",
      "Exiting sweep main thread #{} via return 12088\n",
      "\n",
      "Elapsed time: 0 h 0 m 41.71 s\n"
     ]
    },
    {
     "data": {
      "application/vnd.jupyter.widget-view+json": {
       "model_id": "197ff8a6d3d54e9ba64ade05e661da59",
       "version_major": 2,
       "version_minor": 0
      },
      "text/plain": [
       "HTML(value='')"
      ]
     },
     "metadata": {},
     "output_type": "display_data"
    },
    {
     "name": "stdout",
     "output_type": "stream",
     "text": [
      "Started at:  Oct 11 2018 15:06:39\n",
      "Waiting to join deferred threads:\n",
      "Exiting sweep main thread #{} via return 8324\n",
      "\n",
      "Elapsed time: 0 h 0 m 41.6 s\n"
     ]
    },
    {
     "data": {
      "application/vnd.jupyter.widget-view+json": {
       "model_id": "406f68180dd24b6c9f566e043d2c7ad8",
       "version_major": 2,
       "version_minor": 0
      },
      "text/plain": [
       "HTML(value='')"
      ]
     },
     "metadata": {},
     "output_type": "display_data"
    },
    {
     "name": "stdout",
     "output_type": "stream",
     "text": [
      "Started at:  Oct 11 2018 15:07:32\n",
      "Waiting to join deferred threads:\n",
      "Exiting sweep main thread #{} via return 4656\n",
      "\n",
      "Elapsed time: 0 h 0 m 41.35 s\n"
     ]
    }
   ],
   "source": [
    "#%%mprun -f sweep.sweep\n",
    "imp.reload(sweep)\n",
    "imp.reload(plotting)\n",
    "for _qubit_id in ['1', '2', '3']:\n",
    "    for nndac_channel_id, channel_voltage in qubits[_qubit_id]['q']['P']['Fmin_coil_currents'].items():\n",
    "        dac.set_voltage(channel_voltage, channel=nndac_channel_id)\n",
    "    mean_sample = data_reduce.data_reduce(adc)\n",
    "    #print (dir(mean_sample))\n",
    "    #del mean_sample.measure_deferred_result\n",
    "    mean_sample.filters['Mean Voltage (AC)'] = data_reduce.mean_reducer_noavg(adc, 'Voltage', 0)\n",
    "\n",
    "    mean_sample.filters['S21+'] = data_reduce.mean_reducer_freq(adc, 'Voltage', 0, iq_ro.carriers['iq_ro_q{}'.format(_qubit_id)].get_if())\n",
    "    mean_sample.filters['S21-'] = data_reduce.mean_reducer_freq(adc, 'Voltage', 0, -iq_ro.carriers['iq_ro_q{}'.format(_qubit_id)].get_if())\n",
    "    # # Этот измеритель мы как правило используем когда точек не слишком много и все результаты его жизнедеятельности как правило \n",
    "    # # выглядят как ломаные. Чтобы было красиво, давайте лучше сделаем точки (а кривые потом получим фитованые)\n",
    "    mean_sample.extra_opts['scatter'] = True\n",
    "\n",
    "    awg.check_cached = True\n",
    "\n",
    "    mean_sample.filters['Std Voltage (AC)'] = data_reduce.std_reducer_noavg(adc, 'Voltage', 0, 1)\n",
    "    def set_pulse_amplitude(x):\n",
    "        awg_tek.set_nop(awg_tek.get_clock()/rep_rate)\n",
    "        pg.set_seq(trigger_readout_seq+[pg.p('iq_ro_q{}'.format(_qubit_id), ro_dac_length, pg.rect, x)])\n",
    "        awg_tek.run()\n",
    "    measurement = sweep.sweep(mean_sample, (np.linspace(0, 1.0, 21), set_pulse_amplitude, 'Амплитуда считывания'), filename='Прохождение считывающих импульсов образец #{}'.format(_qubit_id))\n",
    "    del mean_sample.filters['Std Voltage (AC)']"
   ]
  },
  {
   "cell_type": "code",
   "execution_count": 56,
   "metadata": {},
   "outputs": [
    {
     "name": "stdout",
     "output_type": "stream",
     "text": [
      "Readout amplitude: 1.0\n"
     ]
    }
   ],
   "source": [
    "zero_response = measurement['Mean Voltage (AC)'][2][0,:]\n",
    "drive_amplitudes = measurement['Mean Voltage (AC)'][1][0][1:]\n",
    "signal = measurement['Mean Voltage (AC)'][2][1:,:]\n",
    "noise = measurement['Std Voltage (AC)'][2][1:,:]\n",
    "error = noise/np.sqrt(adc.get_nums())\n",
    "signal_overlap = np.sum(np.conj(signal[0,:])*signal[1:,:], axis=1)/drive_amplitudes[1:]\n",
    "signal_overlap_estimate = np.real(signal_overlap[0])\n",
    "signal_overlap_error = 0.5*np.sqrt(np.sum((np.abs(signal[1:,:])*error[0,:])**2, axis=1)+np.sum((np.abs(signal[0,:])*error[1:,:])**2,axis=1))/drive_amplitudes[1:]\n",
    "#signal_overlap_estimate = (np.sum(np.abs(signal[0,:])**2) - np.sum(error[0,:]*np.abs(signal[0,:]))-np.sum(np.abs(error[0,:])**2))/drive_amplitudes[0]\n",
    "#plt.figure()\n",
    "#plt.plot(np.real(signal_overlap))\n",
    "#plt.plot(np.sum(noise**2, axis=1)/adc.get_nums())\n",
    "#plt.plot(signal_overlap_error)\n",
    "compression = 10*np.log10(np.real(signal_overlap)/np.real(signal_overlap_estimate))\n",
    "db_compression_point = np.argmax(10*np.log10(np.real(signal_overlap)/np.real(signal_overlap_estimate))<-1+10*np.log10(1-signal_overlap_error/signal_overlap_estimate))\n",
    "#10*np.log10(np.real(signal_overlap)/np.real(signal_overlap_estimate)),-1+10*np.log10(1-signal_overlap_error/signal_overlap_estimate)\n",
    "#10*np.log10(np.real(signal_overlap)/np.real(signal_overlap_estimate))<-1+10*np.log10(1-signal_overlap_error/signal_overlap_estimate)\n",
    "if np.any(db_compression_point):\n",
    "    ro_amplitude = drive_amplitudes[db_compression_point+1]\n",
    "else:\n",
    "    ro_amplitude = drive_amplitudes[-1]\n",
    "print(\"Readout amplitude:\",ro_amplitude)    "
   ]
  },
  {
   "cell_type": "code",
   "execution_count": 40,
   "metadata": {},
   "outputs": [
    {
     "data": {
      "text/plain": [
       "Text(13.5972,0.5,'Компрессия, дБ')"
      ]
     },
     "execution_count": 40,
     "metadata": {},
     "output_type": "execute_result"
    }
   ],
   "source": [
    "plt.figure('Компрессия считывающего импульса')\n",
    "plt.plot(drive_amplitudes[1:], compression)\n",
    "plt.xlabel('Амплитуда считывания')\n",
    "plt.ylabel('Компрессия, дБ')"
   ]
  },
  {
   "cell_type": "code",
   "execution_count": 41,
   "metadata": {
    "collapsed": true
   },
   "outputs": [],
   "source": [
    "ro_parameters = {\"adc_len\":ro_adc_length,'dac_len': ro_dac_length,'amp': ro_amplitude,'adc nums':adc.nums,\n",
    "                'trg_length':trg_length}\n",
    "qjson.dump(\"setups\",\"readout\",ro_parameters)"
   ]
  },
  {
   "cell_type": "code",
   "execution_count": 42,
   "metadata": {
    "collapsed": true
   },
   "outputs": [],
   "source": [
    "#ro_amplitude = 0.25\n",
    "ro_sequence = trigger_readout_seq+[pg.p('iq_ro', ro_dac_length, pg.rect, ro_amplitude)]"
   ]
  },
  {
   "cell_type": "markdown",
   "metadata": {},
   "source": [
    "## Раби+Рамзи"
   ]
  },
  {
   "cell_type": "code",
   "execution_count": 47,
   "metadata": {},
   "outputs": [],
   "source": [
    "import qsweepy.qjson as pqjson\n",
    "import qsweepy.quantum_two_level_dynamics as dyn"
   ]
  },
  {
   "cell_type": "code",
   "execution_count": 48,
   "metadata": {},
   "outputs": [
    {
     "data": {
      "text/plain": [
       "<module 'qsweepy.diff_readout' from 'C:\\\\qtlab_replacement\\\\qsweepy\\\\diff_readout.py'>"
      ]
     },
     "execution_count": 48,
     "metadata": {},
     "output_type": "execute_result"
    }
   ],
   "source": [
    "imp.reload(dyn)\n",
    "imp.reload(qjson)\n",
    "imp.reload(data_reduce)\n",
    "imp.reload(plotting)\n",
    "imp.reload(fitting)\n",
    "imp.reload(sweep)\n",
    "imp.reload(diff_readout)"
   ]
  },
  {
   "cell_type": "code",
   "execution_count": 49,
   "metadata": {},
   "outputs": [],
   "source": [
    "ex_channels =    ['iq_ex_q{}_F01_min'.format(q_id)                                  for q_id, q in qubits.items()]\n",
    "ex_amplitudes =  {'iq_ex_q{}_F01_min'.format(q_id):1                                for q_id, q in qubits.items()}\n",
    "ex_ro_channels = {'iq_ex_q{}_F01_min'.format(q_id):'iq_ro_q{}'.format(q_id)         for q_id, q in qubits.items()}\n",
    "working_points = {'iq_ex_q{}_F01_min'.format(q_id):q['q']['P']['Fmin_coil_currents'] for q_id, q in qubits.items()}\n",
    "ro_amplitudes =  {'iq_ex_q1_F01_min':1.0,'iq_ex_q2_F01_min':1.0,'iq_ex_q3_F01_min':1.0}\n",
    "#coils =          {'iq_ex_q1_F01_min':0,'iq_ex_q2_F01_min':2,'iq_ex_q3_F01_min':4}\n",
    "coils =          {'iq_ex_q1_F01_min':6,'iq_ex_q2_F01_min':8,'iq_ex_q3_F01_min':10}\n",
    "\n",
    "rabi_lengths =   {'iq_ex_q{}_F01_min'.format(q_id):np.arange(0., 100e-9, 5e-9)      for q_id, q in qubits.items()}\n",
    "delaysT2_coherence = {'iq_ex_q{}_F01_min'.format(q_id):np.arange(0., 5e-6, 25e-9)   for q_id, q in qubits.items()}\n",
    "#delaysT2_coherence = {'iq_ex_q{}_F01_min'.format(q_id):np.arange(0, 200e-9, 2e-9)   for q_id, q in qubits.items()}\n",
    "fitters = {}\n",
    "adc_reducers_chan = {}\n",
    "for q_id, q in qubits.items():\n",
    "    ro_meas_name = 'S21_r{}'.format(q_id)\n",
    "    adc_reducers_chan['iq_ex_q{}_F01_min'.format(q_id)] = adc_reducers[q_id]\n",
    "    fitters['iq_ex_q{}_F01_min'.format(q_id)] = lambda x,y,ro_meas_name=ro_meas_name: fitting.fit1d(x,y,ro_meas_name)\n",
    "\n",
    "#rabi_lengths = np.arange(0., 2000e-9, 5e-9)\n",
    "delaysT2 = np.arange(0, 400e-9, 4e-9)\n",
    "target_freq_offset = -30e6\n",
    "#delaysT2_coherence = np.arange(0, 5000e-9, 10e-9)\n",
    "target_freq_offset_coherence = -3e6\n",
    "delaysT1 = np.arange(0, 10e-6,0.1e-6)"
   ]
  },
  {
   "cell_type": "code",
   "execution_count": 50,
   "metadata": {},
   "outputs": [],
   "source": [
    "diff_adc_reducer = diff_readout.diff_readout(adc_reducer)"
   ]
  },
  {
   "cell_type": "code",
   "execution_count": 51,
   "metadata": {},
   "outputs": [
    {
     "name": "stdout",
     "output_type": "stream",
     "text": [
      "c:\\data/calibrations/setups/ readout\n",
      "Failed loading readout calibration: max() arg is an empty sequence\n",
      "Failed loading rabi frequency calibration: 'quantum_two_level_dynamics' object has no attribute 'ex_amplitude'\n",
      "c:\\data/calibrations/setups/ readout\n",
      "Failed loading readout calibration: max() arg is an empty sequence\n",
      "Failed loading rabi frequency calibration: 'quantum_two_level_dynamics' object has no attribute 'ex_amplitude'\n",
      "c:\\data/calibrations/setups/ readout\n",
      "Failed loading readout calibration: max() arg is an empty sequence\n",
      "Failed loading rabi frequency calibration: 'quantum_two_level_dynamics' object has no attribute 'ex_amplitude'\n"
     ]
    }
   ],
   "source": [
    "twos = {ex_channel:dyn.quantum_two_level_dynamics(pg,\n",
    "                                           adc_reducers_chan[ex_channel],\n",
    "                                           ex_channel=ex_channel,\n",
    "                                           ro_channel=ex_ro_channels[ex_channel],\n",
    "                                           ro_sequence=(trigger_readout_seq+\\\n",
    "                            [pg.p(ex_ro_channels[ex_channel], ro_dac_length, pg.rect, ro_amplitudes[ex_channel])]),\n",
    "                                           ex_amplitude=ex_amplitudes[ex_channel],\n",
    "                                           fitter=fitters[ex_channel], \n",
    "                                           shuffle=False,\n",
    "                                           qubit_id=qubit_id) for ex_channel in ex_channels}\n",
    "#twos = {'iq_ex_q3_F01_min':dyn.quantum_two_level_dynamics(pg,\n",
    "#                                           adc_reducer,\n",
    "#                                           ex_channel='iq_ex_q3_F01_min',\n",
    "#                                           ro_channel=ex_ro_channels['iq_ex_q3_F01_min'],\n",
    "#                                           ro_sequence=(trigger_readout_seq+\\\n",
    "#                            [pg.p(ex_ro_channels['iq_ex_q3_F01_min'], ro_dac_length, pg.rect, ro_amplitudes['iq_ex_q3_F01_min'])]),\n",
    "#                                           ex_amplitude=ex_amplitudes['iq_ex_q3_F01_min'],\n",
    "#                                           fitter=fitters['iq_ex_q3_F01_min'], \n",
    "#                                           shuffle=True,\n",
    "#                                           qubit_id=qubit_id)}"
   ]
  },
  {
   "cell_type": "code",
   "execution_count": 53,
   "metadata": {},
   "outputs": [
    {
     "data": {
      "application/vnd.jupyter.widget-view+json": {
       "model_id": "f9020a02c230435d8109efdb7f0c8178",
       "version_major": 2,
       "version_minor": 0
      },
      "text/plain": [
       "HTML(value='')"
      ]
     },
     "metadata": {},
     "output_type": "display_data"
    },
    {
     "name": "stdout",
     "output_type": "stream",
     "text": [
      "Started at:  Oct 12 2018 08:53:23\n",
      "Waiting to join deferred threads:\n",
      "Exiting sweep main thread #{} via return 8552\n",
      "\n",
      "Elapsed time: 0 h 0 m 49.07 s\n"
     ]
    },
    {
     "data": {
      "application/vnd.jupyter.widget-view+json": {
       "model_id": "e0fc56ca4f114b7db95bb2155ab126fe",
       "version_major": 2,
       "version_minor": 0
      },
      "text/plain": [
       "HTML(value='')"
      ]
     },
     "metadata": {},
     "output_type": "display_data"
    },
    {
     "name": "stdout",
     "output_type": "stream",
     "text": [
      "Started at:  Oct 12 2018 08:54:15\n"
     ]
    },
    {
     "name": "stderr",
     "output_type": "stream",
     "text": [
      "Exception in thread Thread-34:\n",
      "Traceback (most recent call last):\n",
      "  File \"C:\\ProgramData\\Anaconda3\\lib\\threading.py\", line 916, in _bootstrap_inner\n",
      "    self.run()\n",
      "  File \"C:\\ProgramData\\Anaconda3\\lib\\threading.py\", line 864, in run\n",
      "    self._target(*self._args, **self._kwargs)\n",
      "  File \"C:\\qtlab_replacement\\qsweepy\\sweep.py\", line 281, in main_sweep_loop\n",
      "    set_single_measurement_result(mpoint, indeces)\n",
      "  File \"C:\\qtlab_replacement\\qsweepy\\sweep.py\", line 225, in set_single_measurement_result\n",
      "    ascii_file.write(data_to_str(fmt(mpoint_m_flat))+'\\n')\n",
      "ValueError: I/O operation on closed file.\n",
      "\n"
     ]
    },
    {
     "ename": "Error",
     "evalue": "Cannot move a directory 'c:\\data/2018-10-12/08-54-15-Ramsey (target offset -3.00 MHz), excitation channel iq_ex_q2_F01_min/' into itself 'c:\\data/2018-10-12/08-54-15-Ramsey (target offset -3.00 MHz), excitation channel iq_ex_q2_F01_min/unfinished/'.",
     "output_type": "error",
     "traceback": [
      "\u001b[1;31m---------------------------------------------------------------------------\u001b[0m",
      "\u001b[1;31mKeyboardInterrupt\u001b[0m                         Traceback (most recent call last)",
      "\u001b[1;32mC:\\qtlab_replacement\\qsweepy\\sweep.py\u001b[0m in \u001b[0;36msweep\u001b[1;34m(measurer, filename, root_dir, plot, plot_separate_thread, header, output, save, time_war_label, shuffle, bot, use_deferred, *params)\u001b[0m\n\u001b[0;32m    332\u001b[0m                         \u001b[0macq_thread\u001b[0m\u001b[1;33m.\u001b[0m\u001b[0mstart\u001b[0m\u001b[1;33m(\u001b[0m\u001b[1;33m)\u001b[0m\u001b[1;33m\u001b[0m\u001b[0m\n\u001b[1;32m--> 333\u001b[1;33m                         \u001b[0mplot_thread\u001b[0m\u001b[1;33m(\u001b[0m\u001b[1;33m)\u001b[0m\u001b[1;33m\u001b[0m\u001b[0m\n\u001b[0m\u001b[0;32m    334\u001b[0m \u001b[1;33m\u001b[0m\u001b[0m\n",
      "\u001b[1;32mC:\\qtlab_replacement\\qsweepy\\sweep.py\u001b[0m in \u001b[0;36mplot_thread\u001b[1;34m()\u001b[0m\n\u001b[0;32m    325\u001b[0m                                         \u001b[1;31m#print(plot_thread_point_id, done_sweeps)\u001b[0m\u001b[1;33m\u001b[0m\u001b[1;33m\u001b[0m\u001b[0m\n\u001b[1;32m--> 326\u001b[1;33m                                         \u001b[0mplt\u001b[0m\u001b[1;33m.\u001b[0m\u001b[0mgcf\u001b[0m\u001b[1;33m(\u001b[0m\u001b[1;33m)\u001b[0m\u001b[1;33m.\u001b[0m\u001b[0mcanvas\u001b[0m\u001b[1;33m.\u001b[0m\u001b[0mstart_event_loop\u001b[0m\u001b[1;33m(\u001b[0m\u001b[1;36m2.0\u001b[0m\u001b[1;33m)\u001b[0m\u001b[1;33m\u001b[0m\u001b[0m\n\u001b[0m\u001b[0;32m    327\u001b[0m                                 \u001b[1;31m#for i in range(100):\u001b[0m\u001b[1;33m\u001b[0m\u001b[1;33m\u001b[0m\u001b[0m\n",
      "\u001b[1;32mC:\\ProgramData\\Anaconda3\\lib\\site-packages\\matplotlib\\backends\\backend_qt5.py\u001b[0m in \u001b[0;36mstart_event_loop\u001b[1;34m(self, timeout)\u001b[0m\n\u001b[0;32m    480\u001b[0m             \u001b[0mtimer\u001b[0m \u001b[1;33m=\u001b[0m \u001b[0mQtCore\u001b[0m\u001b[1;33m.\u001b[0m\u001b[0mQTimer\u001b[0m\u001b[1;33m.\u001b[0m\u001b[0msingleShot\u001b[0m\u001b[1;33m(\u001b[0m\u001b[0mtimeout\u001b[0m \u001b[1;33m*\u001b[0m \u001b[1;36m1000\u001b[0m\u001b[1;33m,\u001b[0m \u001b[0mevent_loop\u001b[0m\u001b[1;33m.\u001b[0m\u001b[0mquit\u001b[0m\u001b[1;33m)\u001b[0m\u001b[1;33m\u001b[0m\u001b[0m\n\u001b[1;32m--> 481\u001b[1;33m         \u001b[0mevent_loop\u001b[0m\u001b[1;33m.\u001b[0m\u001b[0mexec_\u001b[0m\u001b[1;33m(\u001b[0m\u001b[1;33m)\u001b[0m\u001b[1;33m\u001b[0m\u001b[0m\n\u001b[0m\u001b[0;32m    482\u001b[0m \u001b[1;33m\u001b[0m\u001b[0m\n",
      "\u001b[1;31mKeyboardInterrupt\u001b[0m: ",
      "\nDuring handling of the above exception, another exception occurred:\n",
      "\u001b[1;31mPermissionError\u001b[0m                           Traceback (most recent call last)",
      "\u001b[1;32mC:\\ProgramData\\Anaconda3\\lib\\shutil.py\u001b[0m in \u001b[0;36mmove\u001b[1;34m(src, dst, copy_function)\u001b[0m\n\u001b[0;32m    543\u001b[0m     \u001b[1;32mtry\u001b[0m\u001b[1;33m:\u001b[0m\u001b[1;33m\u001b[0m\u001b[0m\n\u001b[1;32m--> 544\u001b[1;33m         \u001b[0mos\u001b[0m\u001b[1;33m.\u001b[0m\u001b[0mrename\u001b[0m\u001b[1;33m(\u001b[0m\u001b[0msrc\u001b[0m\u001b[1;33m,\u001b[0m \u001b[0mreal_dst\u001b[0m\u001b[1;33m)\u001b[0m\u001b[1;33m\u001b[0m\u001b[0m\n\u001b[0m\u001b[0;32m    545\u001b[0m     \u001b[1;32mexcept\u001b[0m \u001b[0mOSError\u001b[0m\u001b[1;33m:\u001b[0m\u001b[1;33m\u001b[0m\u001b[0m\n",
      "\u001b[1;31mPermissionError\u001b[0m: [WinError 32] The process cannot access the file because it is being used by another process: 'c:\\\\data/2018-10-12/08-54-15-Ramsey (target offset -3.00 MHz), excitation channel iq_ex_q2_F01_min/' -> 'c:\\\\data/2018-10-12/08-54-15-Ramsey (target offset -3.00 MHz), excitation channel iq_ex_q2_F01_min/unfinished/'",
      "\nDuring handling of the above exception, another exception occurred:\n",
      "\u001b[1;31mError\u001b[0m                                     Traceback (most recent call last)",
      "\u001b[1;32m<ipython-input-53-cf883f225827>\u001b[0m in \u001b[0;36m<module>\u001b[1;34m()\u001b[0m\n\u001b[0;32m     18\u001b[0m         \u001b[0mtwo_diff\u001b[0m\u001b[1;33m.\u001b[0m\u001b[0mRabi_rect\u001b[0m\u001b[1;33m(\u001b[0m\u001b[0mrabi_lengths\u001b[0m\u001b[1;33m[\u001b[0m\u001b[0mex_channel\u001b[0m\u001b[1;33m]\u001b[0m\u001b[1;33m)\u001b[0m\u001b[1;33m\u001b[0m\u001b[0m\n\u001b[0;32m     19\u001b[0m \u001b[1;31m#         two_diff.Ramsey(delaysT2, target_freq_offset)\u001b[0m\u001b[1;33m\u001b[0m\u001b[1;33m\u001b[0m\u001b[0m\n\u001b[1;32m---> 20\u001b[1;33m         \u001b[0mtwo_diff\u001b[0m\u001b[1;33m.\u001b[0m\u001b[0mRamsey\u001b[0m\u001b[1;33m(\u001b[0m\u001b[0mdelaysT2_coherence\u001b[0m\u001b[1;33m[\u001b[0m\u001b[0mex_channel\u001b[0m\u001b[1;33m]\u001b[0m\u001b[1;33m,\u001b[0m\u001b[0mtarget_freq_offset_coherence\u001b[0m\u001b[1;33m)\u001b[0m\u001b[1;33m\u001b[0m\u001b[0m\n\u001b[0m\u001b[0;32m     21\u001b[0m \u001b[1;31m#         two_diff.decay(delaysT1)\u001b[0m\u001b[1;33m\u001b[0m\u001b[1;33m\u001b[0m\u001b[0m\n\u001b[0;32m     22\u001b[0m         \u001b[1;31m#two_diff.spin_echo(delaysT2_coherence[ex_channel],target_freq_offset_coherence)\u001b[0m\u001b[1;33m\u001b[0m\u001b[1;33m\u001b[0m\u001b[0m\n",
      "\u001b[1;32mC:\\qtlab_replacement\\qsweepy\\quantum_two_level_dynamics.py\u001b[0m in \u001b[0;36mRamsey\u001b[1;34m(self, delays, target_freq_offset, *params)\u001b[0m\n\u001b[0;32m    171\u001b[0m                                                                   \u001b[0mroot_dir\u001b[0m \u001b[1;33m=\u001b[0m \u001b[0mroot_dir\u001b[0m\u001b[1;33m,\u001b[0m\u001b[1;33m\u001b[0m\u001b[0m\n\u001b[0;32m    172\u001b[0m                                                                   \u001b[0mplot_separate_thread\u001b[0m\u001b[1;33m=\u001b[0m \u001b[0mself\u001b[0m\u001b[1;33m.\u001b[0m\u001b[0mplot_separate_thread\u001b[0m\u001b[1;33m,\u001b[0m\u001b[1;33m\u001b[0m\u001b[0m\n\u001b[1;32m--> 173\u001b[1;33m \t\t\t\t\t\t\t\t  plot=self.plot)\n\u001b[0m\u001b[0;32m    174\u001b[0m                 \u001b[1;32mtry\u001b[0m\u001b[1;33m:\u001b[0m\u001b[1;33m\u001b[0m\u001b[0m\n\u001b[0;32m    175\u001b[0m                         \u001b[0mmeasurement_fitted\u001b[0m\u001b[1;33m,\u001b[0m \u001b[0mfitted_parameters\u001b[0m \u001b[1;33m=\u001b[0m \u001b[0mself\u001b[0m\u001b[1;33m.\u001b[0m\u001b[0mfitter\u001b[0m\u001b[1;33m(\u001b[0m\u001b[0mmeasurement\u001b[0m\u001b[1;33m,\u001b[0m \u001b[0mfitting\u001b[0m\u001b[1;33m.\u001b[0m\u001b[0mexp_sin_fit\u001b[0m\u001b[1;33m)\u001b[0m\u001b[1;33m\u001b[0m\u001b[0m\n",
      "\u001b[1;32mC:\\qtlab_replacement\\qsweepy\\sweep.py\u001b[0m in \u001b[0;36msweep\u001b[1;34m(measurer, filename, root_dir, plot, plot_separate_thread, header, output, save, time_war_label, shuffle, bot, use_deferred, *params)\u001b[0m\n\u001b[0;32m    347\u001b[0m                 \u001b[0mstop_acq\u001b[0m \u001b[1;33m=\u001b[0m \u001b[1;32mTrue\u001b[0m\u001b[1;33m\u001b[0m\u001b[0m\n\u001b[0;32m    348\u001b[0m                 \u001b[0mpathlib\u001b[0m\u001b[1;33m.\u001b[0m\u001b[0mPath\u001b[0m\u001b[1;33m(\u001b[0m\u001b[0mdirectory_to\u001b[0m\u001b[1;33m)\u001b[0m\u001b[1;33m.\u001b[0m\u001b[0mparent\u001b[0m\u001b[1;33m.\u001b[0m\u001b[0mmkdir\u001b[0m\u001b[1;33m(\u001b[0m\u001b[0mparents\u001b[0m\u001b[1;33m=\u001b[0m\u001b[1;32mTrue\u001b[0m\u001b[1;33m,\u001b[0m \u001b[0mexist_ok\u001b[0m\u001b[1;33m=\u001b[0m\u001b[1;32mTrue\u001b[0m\u001b[1;33m)\u001b[0m \u001b[1;31m# create top-level directory for moving\u001b[0m\u001b[1;33m\u001b[0m\u001b[0m\n\u001b[1;32m--> 349\u001b[1;33m                 \u001b[0mdirectory_to\u001b[0m \u001b[1;33m=\u001b[0m \u001b[0msh\u001b[0m\u001b[1;33m.\u001b[0m\u001b[0mmove\u001b[0m\u001b[1;33m(\u001b[0m\u001b[0mdata_dir\u001b[0m\u001b[1;33m,\u001b[0m\u001b[0mdirectory_to\u001b[0m\u001b[1;33m)\u001b[0m\u001b[1;33m\u001b[0m\u001b[0m\n\u001b[0m\u001b[0;32m    350\u001b[0m                 \u001b[0mdata_dir\u001b[0m \u001b[1;33m=\u001b[0m \u001b[0mdirectory_to\u001b[0m\u001b[1;33m\u001b[0m\u001b[0m\n\u001b[0;32m    351\u001b[0m                 \u001b[1;32mraise\u001b[0m \u001b[1;31m# after finally\u001b[0m\u001b[1;33m\u001b[0m\u001b[0m\n",
      "\u001b[1;32mC:\\ProgramData\\Anaconda3\\lib\\shutil.py\u001b[0m in \u001b[0;36mmove\u001b[1;34m(src, dst, copy_function)\u001b[0m\n\u001b[0;32m    551\u001b[0m             \u001b[1;32mif\u001b[0m \u001b[0m_destinsrc\u001b[0m\u001b[1;33m(\u001b[0m\u001b[0msrc\u001b[0m\u001b[1;33m,\u001b[0m \u001b[0mdst\u001b[0m\u001b[1;33m)\u001b[0m\u001b[1;33m:\u001b[0m\u001b[1;33m\u001b[0m\u001b[0m\n\u001b[0;32m    552\u001b[0m                 raise Error(\"Cannot move a directory '%s' into itself\"\n\u001b[1;32m--> 553\u001b[1;33m                             \" '%s'.\" % (src, dst))\n\u001b[0m\u001b[0;32m    554\u001b[0m             copytree(src, real_dst, copy_function=copy_function,\n\u001b[0;32m    555\u001b[0m                      symlinks=True)\n",
      "\u001b[1;31mError\u001b[0m: Cannot move a directory 'c:\\data/2018-10-12/08-54-15-Ramsey (target offset -3.00 MHz), excitation channel iq_ex_q2_F01_min/' into itself 'c:\\data/2018-10-12/08-54-15-Ramsey (target offset -3.00 MHz), excitation channel iq_ex_q2_F01_min/unfinished/'."
     ]
    }
   ],
   "source": [
    "#%%mprun -f two_diffs[0].Rabi_rect -f two_diffs[0].Ramsey -f two_diffs[0].decay -f two_diffs[0].spin_echo -f sweep.sweep -f diff_adc_reducer.measure\n",
    "#dac.set_voltage(1.772, channel=0)\n",
    "\n",
    "two_diffs = twos\n",
    "imp.reload(plotting)\n",
    "iters = 1\n",
    "for _iter in range(iters):\n",
    "    for ex_channel, two_diff in two_diffs.items():\n",
    "        dac = nndac('TCPIP0::10.20.61.12::1000::SOCKET')\n",
    "        if _iter==0 and (ex_channel == 'iq_ex_q1_F01_min'):# or ex_channel == 'iq_ex_q2_F01_min'):\n",
    "            continue\n",
    "        for nndac_channel_id, channel_voltage in working_points[ex_channel].items():\n",
    "            dac.set_voltage(channel_voltage, channel=nndac_channel_id)\n",
    "        coil = coils[ex_channel]\n",
    "        voltages = working_points[ex_channel][coil]+np.linspace(-0.025, 0.025, 11)\n",
    "        #plt.close('all')\n",
    "\n",
    "        two_diff.Rabi_rect(rabi_lengths[ex_channel])\n",
    "#         two_diff.Ramsey(delaysT2, target_freq_offset)\n",
    "        two_diff.Ramsey(delaysT2_coherence[ex_channel],target_freq_offset_coherence)\n",
    "#         two_diff.decay(delaysT1)\n",
    "        #two_diff.spin_echo(delaysT2_coherence[ex_channel],target_freq_offset_coherence)\n",
    "        #plt.close('all')\n",
    "        \n",
    "        #two_diff.Ramsey(delaysT2_coherence[ex_channel],target_freq_offset_coherence, \n",
    "        #            (voltages, lambda x: dac.set_voltage(x, channel=coil), 'Coil #{} voltage'.format(coil)))\n",
    "        #two_diff.decay(delaysT1, \n",
    "        #            (voltages, lambda x: dac.set_voltage(x, channel=coil), 'Coil #{} voltage'.format(coil)))\n",
    "        #two_diff.spin_echo(delaysT2_coherence[ex_channel],target_freq_offset_coherence, \n",
    "        #            (voltages, lambda x: dac.set_voltage(x, channel=coil), 'Coil #{} voltage'.format(coil)))"
   ]
  },
  {
   "cell_type": "code",
   "execution_count": 198,
   "metadata": {
    "collapsed": true
   },
   "outputs": [],
   "source": [
    "plt.close('all')"
   ]
  },
  {
   "cell_type": "code",
   "execution_count": 20,
   "metadata": {},
   "outputs": [
    {
     "data": {
      "text/plain": [
       "<nndac.nndac at 0x29da5eafbe0>"
      ]
     },
     "execution_count": 20,
     "metadata": {},
     "output_type": "execute_result"
    }
   ],
   "source": [
    "dac"
   ]
  },
  {
   "cell_type": "code",
   "execution_count": 231,
   "metadata": {},
   "outputs": [],
   "source": [
    "import qsweepy.save_pkl\n",
    "import pandas as pd\n",
    "measurement_folders = {'qubit1_1.93':\n",
    "               {'paths': [r'D:\\data\\2018-09-22\\03-24-38-Ramsey (target offset -3.00 MHz), excitation channel iq_ex_q1_F01_min',\n",
    "                r'D:\\data\\2018-09-22\\04-55-31-Ramsey (target offset -3.00 MHz), excitation channel iq_ex_q1_F01_min',\n",
    "                r'D:\\data\\2018-09-22\\09-06-10-Ramsey (target offset -3.00 MHz), excitation channel iq_ex_q1_F01_min',\n",
    "                r'D:\\data\\2018-09-22\\09-37-06-Ramsey (target offset -3.00 MHz), excitation channel iq_ex_q1_F01_min'],\n",
    "                'name': 'Ramsey (target offset -3.00 MHz), excitation channel iq_ex_q1_F01_min', 'q': '1'},\n",
    "                       'qubit1_1.80':\n",
    "               {'paths': [r'D:\\data\\2018-09-22\\10-07-49-Ramsey (target offset -3.00 MHz), excitation channel iq_ex_q1_F01_min',\n",
    "                          r'D:\\data\\2018-09-22\\10-38-28-Ramsey (target offset -3.00 MHz), excitation channel iq_ex_q1_F01_min',\n",
    "                          r'D:\\data\\2018-09-22\\11-09-04-Ramsey (target offset -3.00 MHz), excitation channel iq_ex_q1_F01_min'],\n",
    "                'name': 'Ramsey (target offset -3.00 MHz), excitation channel iq_ex_q1_F01_min', 'q': '1'},\n",
    "                       'qubit1_1.79':\n",
    "               {'paths': [r'D:\\data\\2018-09-22\\11-57-52-Ramsey (target offset -3.00 MHz), excitation channel iq_ex_q1_F01_min'],\n",
    "                'name': 'Ramsey (target offset -3.00 MHz), excitation channel iq_ex_q1_F01_min', 'q': '1'}}\n",
    "#measurement = qsweepy.save_pkl.load_pkl('Ramsey (target offset -3.00 MHz), excitation channel iq_ex_q1_F01_min', r'D:\\data\\2018-09-22\\03-24-38-Ramsey (target offset -3.00 MHz), excitation channel iq_ex_q1_F01_min')[1]\n",
    "#measurement = qsweepy.save_pkl.load_pkl('Ramsey (target offset -3.00 MHz), excitation channel iq_ex_q1_F01_min', r'D:\\data\\2018-09-22\\04-55-31-Ramsey (target offset -3.00 MHz), excitation channel iq_ex_q1_F01_min')[1]\n",
    "\n",
    "\n",
    "#measurement = qsweepy.save_pkl.load_pkl('Ramsey (target offset -3.00 MHz), excitation channel iq_ex_q2_F01_min', r'D:\\data\\2018-09-22\\03-54-59-Ramsey (target offset -3.00 MHz), excitation channel iq_ex_q2_F01_min')[1]\n",
    "#measurement = qsweepy.save_pkl.load_pkl('Ramsey (target offset -3.00 MHz), excitation channel iq_ex_q2_F01_min', r'D:\\data\\2018-09-22\\05-26-00-Ramsey (target offset -3.00 MHz), excitation channel iq_ex_q2_F01_min')[1]\n",
    "\n",
    "#measurement = qsweepy.save_pkl.load_pkl('Ramsey (target offset -3.00 MHz), excitation channel iq_ex_q3_F01_min', r'D:\\data\\2018-09-22\\04-25-11-Ramsey (target offset -3.00 MHz), excitation channel iq_ex_q3_F01_min')[1]\n",
    "#measurement = qsweepy.save_pkl.load_pkl('Ramsey (target offset -3.00 MHz), excitation channel iq_ex_q3_F01_min', r'D:\\data\\2018-09-22\\05-56-20-Ramsey (target offset -3.00 MHz), excitation channel iq_ex_q3_F01_min')[1]"
   ]
  },
  {
   "cell_type": "code",
   "execution_count": 232,
   "metadata": {},
   "outputs": [
    {
     "name": "stdout",
     "output_type": "stream",
     "text": [
      "D:\\data\\2018-09-22\\03-24-38-Ramsey (target offset -3.00 MHz), excitation channel iq_ex_q1_F01_min/Ramsey (target offset -3.00 MHz), excitation channel iq_ex_q1_F01_min.pkl\n",
      "D:\\data\\2018-09-22\\04-55-31-Ramsey (target offset -3.00 MHz), excitation channel iq_ex_q1_F01_min/Ramsey (target offset -3.00 MHz), excitation channel iq_ex_q1_F01_min.pkl\n",
      "D:\\data\\2018-09-22\\09-06-10-Ramsey (target offset -3.00 MHz), excitation channel iq_ex_q1_F01_min/Ramsey (target offset -3.00 MHz), excitation channel iq_ex_q1_F01_min.pkl\n",
      "D:\\data\\2018-09-22\\09-37-06-Ramsey (target offset -3.00 MHz), excitation channel iq_ex_q1_F01_min/Ramsey (target offset -3.00 MHz), excitation channel iq_ex_q1_F01_min.pkl\n",
      "D:\\data\\2018-09-22\\10-07-49-Ramsey (target offset -3.00 MHz), excitation channel iq_ex_q1_F01_min/Ramsey (target offset -3.00 MHz), excitation channel iq_ex_q1_F01_min.pkl\n",
      "D:\\data\\2018-09-22\\10-38-28-Ramsey (target offset -3.00 MHz), excitation channel iq_ex_q1_F01_min/Ramsey (target offset -3.00 MHz), excitation channel iq_ex_q1_F01_min.pkl\n",
      "D:\\data\\2018-09-22\\11-09-04-Ramsey (target offset -3.00 MHz), excitation channel iq_ex_q1_F01_min/Ramsey (target offset -3.00 MHz), excitation channel iq_ex_q1_F01_min.pkl\n",
      "D:\\data\\2018-09-22\\11-57-52-Ramsey (target offset -3.00 MHz), excitation channel iq_ex_q1_F01_min/Ramsey (target offset -3.00 MHz), excitation channel iq_ex_q1_F01_min.pkl\n"
     ]
    }
   ],
   "source": [
    "for measurement_type_name, measurement_type in measurement_folders.items(): \n",
    "    for measurement_folder in measurement_type['paths']:\n",
    "        measurement = qsweepy.save_pkl.load_pkl(measurement_type['name'], measurement_folder)[1]\n",
    "        q = measurement_type['q']\n",
    "        summary = pd.DataFrame([dict(fitting.exp_sin_fit(measurement['S21_r'+q][1][0], \n",
    "                         [np.real(measurement['S21_r'+q][2][:,dc_id]),\n",
    "                          np.imag(measurement['S21_r'+q][2][:,dc_id])])[-1], **{'dc':dc}) \n",
    "                             for dc_id, dc in enumerate(measurement['S21_r'+q][1][1])])\n",
    "        plt.figure(measurement_type_name+' Ramsey frequency')\n",
    "        plt.plot(np.asarray(summary['dc']), np.asarray(summary['freq'])/1e6)\n",
    "        plt.grid()\n",
    "        plt.xlabel('Control voltage, V')\n",
    "        plt.ylabel('Ramsey frequency, MHz')\n",
    "        plt.title(measurement_type_name+' Ramsey frequency')\n",
    "        plt.tight_layout()\n",
    "        plt.figure(measurement_type_name+' Ramsey decay')\n",
    "        plt.plot(np.asarray(summary['dc']), np.asarray(summary['decay'])*1e6)\n",
    "        plt.grid()\n",
    "        plt.xlabel('Control voltage, V')\n",
    "        plt.ylabel('Ramsey decay, $\\\\mu$s')\n",
    "        plt.title(measurement_type_name+' Ramsey decay')\n",
    "        plt.tight_layout()"
   ]
  },
  {
   "cell_type": "code",
   "execution_count": null,
   "metadata": {
    "collapsed": true
   },
   "outputs": [],
   "source": []
  },
  {
   "cell_type": "code",
   "execution_count": null,
   "metadata": {
    "collapsed": true
   },
   "outputs": [],
   "source": []
  }
 ],
 "metadata": {
  "kernelspec": {
   "display_name": "Python 3",
   "language": "python",
   "name": "python3"
  },
  "language_info": {
   "codemirror_mode": {
    "name": "ipython",
    "version": 3
   },
   "file_extension": ".py",
   "mimetype": "text/x-python",
   "name": "python",
   "nbconvert_exporter": "python",
   "pygments_lexer": "ipython3",
   "version": "3.6.5"
  },
  "toc": {
   "base_numbering": 1,
   "nav_menu": {
    "height": "511px",
    "width": "457px"
   },
   "number_sections": true,
   "sideBar": true,
   "skip_h1_title": false,
   "title_cell": "Table of Contents",
   "title_sidebar": "Contents",
   "toc_cell": false,
   "toc_position": {
    "height": "689px",
    "left": "120px",
    "top": "143.354px",
    "width": "283px"
   },
   "toc_section_display": true,
   "toc_window_display": true
  }
 },
 "nbformat": 4,
 "nbformat_minor": 1
}
