{
 "cells": [
  {
   "cell_type": "markdown",
   "metadata": {},
   "source": [
    "### Запуск QtLab"
   ]
  },
  {
   "cell_type": "code",
   "execution_count": 1,
   "metadata": {
    "scrolled": true
   },
   "outputs": [
    {
     "name": "stderr",
     "output_type": "stream",
     "text": [
      "ERROR:root:File `'D:\\\\qtlab_replacement\\\\init.py'` not found.\n"
     ]
    },
    {
     "ename": "ModuleNotFoundError",
     "evalue": "No module named 'setup_logging'",
     "output_type": "error",
     "traceback": [
      "\u001b[1;31m---------------------------------------------------------------------------\u001b[0m",
      "\u001b[1;31mModuleNotFoundError\u001b[0m                       Traceback (most recent call last)",
      "\u001b[1;32m<ipython-input-1-f1d9c7a174b4>\u001b[0m in \u001b[0;36m<module>\u001b[1;34m()\u001b[0m\n\u001b[0;32m      1\u001b[0m \u001b[0mget_ipython\u001b[0m\u001b[1;33m(\u001b[0m\u001b[1;33m)\u001b[0m\u001b[1;33m.\u001b[0m\u001b[0mmagic\u001b[0m\u001b[1;33m(\u001b[0m\u001b[1;34m'run D:\\\\qtlab_replacement\\\\init.py'\u001b[0m\u001b[1;33m)\u001b[0m\u001b[1;33m\u001b[0m\u001b[0m\n\u001b[0;32m      2\u001b[0m \u001b[0mget_ipython\u001b[0m\u001b[1;33m(\u001b[0m\u001b[1;33m)\u001b[0m\u001b[1;33m.\u001b[0m\u001b[0mmagic\u001b[0m\u001b[1;33m(\u001b[0m\u001b[1;34m'matplotlib qt5'\u001b[0m\u001b[1;33m)\u001b[0m\u001b[1;33m\u001b[0m\u001b[0m\n\u001b[1;32m----> 3\u001b[1;33m \u001b[1;32mimport\u001b[0m \u001b[0msetup_logging\u001b[0m\u001b[1;33m\u001b[0m\u001b[0m\n\u001b[0m\u001b[0;32m      4\u001b[0m \u001b[1;32mimport\u001b[0m \u001b[0mmatplotlib\u001b[0m\u001b[1;33m.\u001b[0m\u001b[0mpyplot\u001b[0m \u001b[1;32mas\u001b[0m \u001b[0mplt\u001b[0m\u001b[1;33m\u001b[0m\u001b[0m\n\u001b[0;32m      5\u001b[0m \u001b[1;32mfrom\u001b[0m \u001b[0minstruments\u001b[0m \u001b[1;32mimport\u001b[0m \u001b[1;33m*\u001b[0m\u001b[1;33m\u001b[0m\u001b[0m\n",
      "\u001b[1;31mModuleNotFoundError\u001b[0m: No module named 'setup_logging'"
     ]
    }
   ],
   "source": [
    "%run D:\\qtlab_replacement\\init.py\n",
    "%matplotlib qt5\n",
    "import setup_logging\n",
    "import matplotlib.pyplot as plt\n",
    "from instruments import *\n",
    "import numpy as np\n",
    "import sweep\n",
    "from save_pkl import *\n",
    "from matplotlib import interactive\n",
    "interactive(True)\n",
    "import os\n",
    "import matplotlib.patches as plm"
   ]
  },
  {
   "cell_type": "markdown",
   "metadata": {},
   "source": [
    "# Спектроскопия"
   ]
  },
  {
   "cell_type": "code",
   "execution_count": 2,
   "metadata": {
    "collapsed": true
   },
   "outputs": [],
   "source": [
    "pna = Agilent_N5242A('pna', address = 'TCPIP0::10.20.61.48::inst0::INSTR')\n",
    "lo1 = Agilent_E8257D('lo1', address = 'TCPIP0::10.20.61.59::inst0::INSTR')"
   ]
  },
  {
   "cell_type": "code",
   "execution_count": 3,
   "metadata": {
    "collapsed": true
   },
   "outputs": [],
   "source": [
    "current_src1 = Yokogawa_GS210(address = 'GPIB0::1::INSTR')\n",
    "current_src2 = Yokogawa_GS210(address = 'GPIB0::2::INSTR')"
   ]
  },
  {
   "cell_type": "code",
   "execution_count": null,
   "metadata": {
    "collapsed": true
   },
   "outputs": [],
   "source": [
    "dac = nndac('TCPIP0::10.20.61.12::1000::SOCKET')"
   ]
  },
  {
   "cell_type": "code",
   "execution_count": 4,
   "metadata": {},
   "outputs": [
    {
     "data": {
      "text/plain": [
       "True"
      ]
     },
     "execution_count": 4,
     "metadata": {},
     "output_type": "execute_result"
    }
   ],
   "source": [
    "# векторный анализатор в режим линейного свипа\n",
    "pna.set_sweep_mode(\"LIN\")\n"
   ]
  },
  {
   "cell_type": "code",
   "execution_count": 4,
   "metadata": {},
   "outputs": [
    {
     "name": "stderr",
     "output_type": "stream",
     "text": [
      "root: WARNING  Tektronix_AWG5014 : get all not yet fully functional\n"
     ]
    }
   ],
   "source": [
    "#if not ('pna' in locals()): pna = Agilent_N5242A('pna', address = 'PNA')\n",
    "#if not ('lo1' in locals()): lo1 = Agilent_E8257D('lo1', address = 'PSG1')\n",
    "sa = Agilent_N9030A('pxa', address = 'TCPIP0::10.20.61.56::inst0::INSTR')\n",
    "#sa = Signal_Hound_SA(name='SA124', serial=61660066)\n",
    "#lo_ex = Labbrick(name='lo_ex', serial=15249)\n",
    "lo_ex = lo1\n",
    "lo_ro = pna\n",
    "#lo_ro = Labbrick(name='lo_ro', serial=15257)\n",
    "awg_tek= Tektronix_AWG5014('awg_tek', address = 'TCPIP0::10.20.61.186::inst0::INSTR')\n",
    "\n",
    "CHASSIS = 1\n",
    "SLOT_IN = 16\n",
    "SLOT_OUT = 7\n",
    "#awg = Keysight_M3202A('awg', CHASSIS, SLOT_OUT)\n",
    "#adc = Keysight_M3102A('adc', CHASSIS, SLOT_IN)\n",
    "#awg_adc = \n"
   ]
  },
  {
   "cell_type": "markdown",
   "metadata": {},
   "source": [
    "## Резонаторная спектроскопия"
   ]
  },
  {
   "cell_type": "markdown",
   "metadata": {},
   "source": [
    "### Одномерный скан при фиксированном токе "
   ]
  },
  {
   "cell_type": "code",
   "execution_count": null,
   "metadata": {
    "collapsed": true
   },
   "outputs": [],
   "source": [
    "pna.set_nop(2001)\n",
    "pna.set_xlim(6.5e9,7e9)\n",
    "pna.set_power(-40)\n",
    "pna.set_bandwidth(10)\n",
    "s21=pna.get_tracedata()\n",
    "fr=pna.get_freqpoints()\n",
    "#plt.plot(fr[:len(fr)-1],np.unwrap(np.diff(s21[1])))\n",
    "plt.plot(fr[:len(fr)-1],np.diff( np.unwrap(s21[1])))"
   ]
  },
  {
   "cell_type": "code",
   "execution_count": 12,
   "metadata": {
    "collapsed": true
   },
   "outputs": [],
   "source": [
    "qubit_params = {1: {'Fr': 6.53268e9,\n",
    "                    'F01_min': 4.75924e9,\n",
    "                    'Iw_q1c':-1.694e-3},#1.699e-3},\n",
    "                    #'Iw_q2c':-0.26e-3},\n",
    "                2: {'Fr': 6.6644e9,  \n",
    "                    'F01_min': 4.841e9, \n",
    "                    'Iw_q1c':-2.17e-3},#2.2e-3},\n",
    "                    #'Iw':-2.407e-3},\n",
    "                3: {'Fr': 6.81418e9,\n",
    "                    'Fr_min':6.8145e9,\n",
    "                    'F01_min': 4.86248e9,#4.849e9, \n",
    "                    'Iw_q1c':-1.317e-3,#1.424e-3,\n",
    "                    'Iw_q2c':-0.27e-3}}"
   ]
  },
  {
   "cell_type": "code",
   "execution_count": null,
   "metadata": {
    "collapsed": true
   },
   "outputs": [],
   "source": [
    "qubit_id"
   ]
  },
  {
   "cell_type": "code",
   "execution_count": null,
   "metadata": {
    "collapsed": true
   },
   "outputs": [],
   "source": [
    "coils_params={'coil_1': [{0: {'curr': -0.0017799999999999999, 'freq': 6532600000.0},\n",
    "   1: {'curr': -0.00011999999999999977, 'freq': 6529300000.0},\n",
    "   2: {'curr': 0.0018000000000000004, 'freq': 6532600000.0}},\n",
    "  {0: {'curr': -0.0020874999999999999, 'freq': 6664400000.0},\n",
    "   1: {'curr': -0.00014, 'freq': 6660360000.0},\n",
    "   2: {'curr': 0.0021125000000000002, 'freq': 6664400000.0}},\n",
    "  {0: {'curr': -0.00013, 'freq': 6810000000.0},\n",
    "   1: {'curr': -0.00010000000000000005, 'freq': 6809400000.0}}]}"
   ]
  },
  {
   "cell_type": "code",
   "execution_count": null,
   "metadata": {
    "collapsed": true
   },
   "outputs": [],
   "source": [
    "dc_coils = {'qubit-1-coil-current': {'Imax':2.5e-3, 'setter':current_src1.set_current, 'enable': current_src1.set_status},\n",
    "            'qubit-2-coil-current': {'Imax':0.28e-3, 'setter':current_src2.set_current, 'enable': current_src2.set_status},\n",
    "            #'qubit-3-coil-voltage': {'Imax':0.17, \n",
    "            #                 'setter':lambda x: awg_tek.set_offset(x, channel=1), \n",
    "            #                 'enable':lambda x: awg_tek.set_output(x, channel=1)}\n",
    "            }"
   ]
  },
  {
   "cell_type": "code",
   "execution_count": null,
   "metadata": {
    "collapsed": true
   },
   "outputs": [],
   "source": [
    "#канал1\n",
    "qubit_params = {1: {'Fr': 6.652e9,\n",
    "                    'F01_min': 5.12432e9, \n",
    "                    'Iw':1.71383e-3},\n",
    "                2: {\"Fr\": 6.8037e9,\n",
    "                    'F01_min': 4.4174e9, \n",
    "                    'Iw':-2.2519e-3}}\n",
    "qubit_id=1"
   ]
  },
  {
   "cell_type": "code",
   "execution_count": null,
   "metadata": {
    "collapsed": true
   },
   "outputs": [],
   "source": [
    "#for max freq\n",
    "qubit_params = {1: {'Fr': 6.508e9,\n",
    "                    'F01_min': 5.826e9,\n",
    "                    'Iw':-0.10e-3},\n",
    "                2: {\"Fr\": 6.657e9,\n",
    "                    'F01_min': 4.4174e9\n",
    "                    'Iw':-0.0375e-3},\n",
    "                3: {\"Fr\": 6.810e9,\n",
    "                    'F01_min': 4.4174e9\n",
    "                    'Iw':0.01573e-3}}\n",
    "qubit_id=1"
   ]
  },
  {
   "cell_type": "code",
   "execution_count": null,
   "metadata": {
    "collapsed": true
   },
   "outputs": [],
   "source": [
    "#канал5 for min freq\n",
    "qubit_params = {1: {'Fr': 6.5113e9,#3\n",
    "                    'F01_min': 4.825e9,\n",
    "                    'Iw':0.094e-3},\n",
    "                2: {\"Fr\": 6.657e9,\n",
    "                    'F01_min': 4.4174e9,\n",
    "                    'Iw':-0.0375e-3},\n",
    "                3: {\"Fr\": 6.810e9,\n",
    "                    'F01_min': 4.835e9,\n",
    "                    'Iw' :0.01573e-3}}\n",
    "qubit_id=1"
   ]
  },
  {
   "cell_type": "code",
   "execution_count": 144,
   "metadata": {},
   "outputs": [
    {
     "data": {
      "text/plain": [
       "True"
      ]
     },
     "execution_count": 144,
     "metadata": {},
     "output_type": "execute_result"
    }
   ],
   "source": [
    "current_src1.set_status(0)\n",
    "current_src2.set_status(0)\n",
    "lo_ro.set_status(0)\n",
    "lo_ex.set_status(0)"
   ]
  },
  {
   "cell_type": "code",
   "execution_count": 146,
   "metadata": {},
   "outputs": [
    {
     "data": {
      "text/plain": [
       "True"
      ]
     },
     "execution_count": 146,
     "metadata": {},
     "output_type": "execute_result"
    }
   ],
   "source": [
    "lo_ex.set_status(1)"
   ]
  },
  {
   "cell_type": "markdown",
   "metadata": {},
   "source": [
    "## Посмотреть на резонатор"
   ]
  },
  {
   "cell_type": "code",
   "execution_count": 6,
   "metadata": {},
   "outputs": [
    {
     "data": {
      "text/plain": [
       "[<matplotlib.lines.Line2D at 0x1f113d4a6a0>]"
      ]
     },
     "execution_count": 6,
     "metadata": {},
     "output_type": "execute_result"
    }
   ],
   "source": [
    "qubit_id = 3\n",
    "span = 20e6\n",
    "\n",
    "current_src1.set_status(1)\n",
    "current_src1.set_current(qubit_params[qubit_id]['Iw_q1c'])\n",
    "\n",
    "pna.set_sweep_mode(\"LIN\")\n",
    "pna.set_status(1)\n",
    "pna.set_nop(200)\n",
    "pna.set_xlim(qubit_params[qubit_id]['Fr']-span/2, qubit_params[qubit_id]['Fr']+span/2)\n",
    "pna.set_power(-30.)\n",
    "pna.set_bandwidth(20)\n",
    "pna_data = pna.measure()[\"S-parameter\"]\n",
    "plt.figure(\"mag\")\n",
    "plt.plot(pna.get_freqpoints(),abs(pna_data))\n",
    "plt.figure(\"delay\")\n",
    "plt.plot(pna.get_freqpoints()[1:],np.diff(np.unwrap(np.angle(pna_data))))"
   ]
  },
  {
   "cell_type": "code",
   "execution_count": 82,
   "metadata": {},
   "outputs": [
    {
     "data": {
      "text/plain": [
       "True"
      ]
     },
     "execution_count": 82,
     "metadata": {},
     "output_type": "execute_result"
    }
   ],
   "source": [
    "current_src2.set_status(0)"
   ]
  },
  {
   "cell_type": "code",
   "execution_count": 26,
   "metadata": {},
   "outputs": [
    {
     "name": "stdout",
     "output_type": "stream",
     "text": [
      "Given current range is invalid. Please enter valid current range in !!!Amperes!!!\n",
      "Valid ranges are (in A): [0.001, 0.01, 0.1, 0.2]\n"
     ]
    },
    {
     "data": {
      "text/plain": [
       "True"
      ]
     },
     "execution_count": 26,
     "metadata": {},
     "output_type": "execute_result"
    }
   ],
   "source": [
    "current_src2.set_range(2e-3)"
   ]
  },
  {
   "cell_type": "code",
   "execution_count": 83,
   "metadata": {},
   "outputs": [
    {
     "data": {
      "text/plain": [
       "True"
      ]
     },
     "execution_count": 83,
     "metadata": {},
     "output_type": "execute_result"
    }
   ],
   "source": [
    "lo1.set_status(0)"
   ]
  },
  {
   "cell_type": "code",
   "execution_count": 129,
   "metadata": {},
   "outputs": [
    {
     "data": {
      "text/plain": [
       "6739400000.0"
      ]
     },
     "execution_count": 129,
     "metadata": {},
     "output_type": "execute_result"
    }
   ],
   "source": [
    "lo_ro.get_frequency()"
   ]
  },
  {
   "cell_type": "markdown",
   "metadata": {},
   "source": [
    "## Посмотреть на спектр"
   ]
  },
  {
   "cell_type": "code",
   "execution_count": 139,
   "metadata": {},
   "outputs": [
    {
     "data": {
      "text/plain": [
       "[<matplotlib.lines.Line2D at 0x284b0913860>]"
      ]
     },
     "execution_count": 139,
     "metadata": {},
     "output_type": "execute_result"
    }
   ],
   "source": [
    "sa.set_centerfreq(qubit_params[qubit_id]['F01_min'])\n",
    "sa.set_span(1e9)\n",
    "sa.set_detector('rms')\n",
    "sa.set_nop(1000)\n",
    "plt.plot(sa.get_freqpoints(),sa.measure()[\"Power\"])"
   ]
  },
  {
   "cell_type": "markdown",
   "metadata": {},
   "source": [
    "## Кубитная спектроскопия"
   ]
  },
  {
   "cell_type": "code",
   "execution_count": null,
   "metadata": {
    "collapsed": true
   },
   "outputs": [],
   "source": [
    "# когда спектроскопия не рабтает и всё плохо, тыкай сюды!\n",
    "# вектнй анлизатр цепей - в режим свипа по частоте\n",
    "pna.set_sweep_mode(\"LIN\")\n",
    "# смесители - открыть\n",
    "#awg_tek = awg\n",
    "#for channel in range(0,4):\n",
    "for channel in range(1,5):\n",
    "    awg_tek.set_amplitude(0.2, channel=channel)\n",
    "    awg_tek.set_offset(0.2, channel=channel)\n",
    "    awg_tek.set_output(1, channel=channel)\n",
    "    awg_tek.set_waveform([0]*awg_tek.get_nop(), channel=channel)\n",
    "#     \n",
    "# Задаём постояннmtые смещения на каналы 1 и 3\n",
    "#awg_tek.set_waveform([0]*awg_tek.get_nop(), channel=1)\n",
    "#awg_tek.set_waveform([0]*awg_tek.get_nop(), channel=2)\n",
    "#awg_tek.set_waveform([0]*awg_tek.get_nop(), channel=3)\n",
    "#awg_tek.set_waveform([0]*awg_tek.get_nop(), channel=4)"
   ]
  },
  {
   "cell_type": "markdown",
   "metadata": {},
   "source": [
    "## AWG для того чтобы открыть смесители"
   ]
  },
  {
   "cell_type": "code",
   "execution_count": 27,
   "metadata": {
    "collapsed": true
   },
   "outputs": [],
   "source": [
    "# Задаём постоянные смещения на I и Q\n",
    "Vdc_q = 0.2\n",
    "Vdc_r = 0.2\n",
    "\n",
    "lo1.set_status(0)\n",
    "pna.set_power(-50)\n",
    "\n",
    "awg_tek.stop()\n",
    "awg_tek.clear_waveforms()\n",
    "\n",
    "awg_tek.set_waveform([0]*awg_tek.get_nop(), channel=1)\n",
    "awg_tek.set_waveform([0]*awg_tek.get_nop(), channel=2)\n",
    "awg_tek.set_waveform([0]*awg_tek.get_nop(), channel=3)\n",
    "awg_tek.set_waveform([0]*awg_tek.get_nop(), channel=4)\n",
    "\n",
    "awg_tek.set_offset(Vdc_q, channel=1)\n",
    "awg_tek.set_offset(Vdc_q, channel=2)\n",
    "awg_tek.set_offset(Vdc_r, channel=3)\n",
    "awg_tek.set_offset(Vdc_r, channel=4)\n",
    "\n",
    "awg_tek.set_output(1, channel=1)\n",
    "awg_tek.set_output(1, channel=2)\n",
    "awg_tek.set_output(1, channel=3)\n",
    "awg_tek.set_output(0, channel=4)\n",
    "awg_tek.run()"
   ]
  },
  {
   "cell_type": "code",
   "execution_count": 17,
   "metadata": {},
   "outputs": [
    {
     "data": {
      "text/plain": [
       "True"
      ]
     },
     "execution_count": 17,
     "metadata": {},
     "output_type": "execute_result"
    }
   ],
   "source": [
    "awg_tek.clear_waveforms()\n",
    "awg_tek.set_waveform([0]*awg_tek.get_nop(), channel=1)"
   ]
  },
  {
   "cell_type": "code",
   "execution_count": null,
   "metadata": {
    "collapsed": true
   },
   "outputs": [],
   "source": [
    "awg_tek.set_output(1, channel=1)"
   ]
  },
  {
   "cell_type": "code",
   "execution_count": null,
   "metadata": {
    "collapsed": true
   },
   "outputs": [],
   "source": [
    "def curr(current):\n",
    "    lo1.set_status(0)\n",
    "    pna.set_average(0)\n",
    "    pna.set_power(-10)\n",
    "    pna.set_nop(1001)\n",
    "    dfr=0.05e9\n",
    "    pna.set_xlim(qubit_params[qubit_id]['Fr']-dfr,  qubit_params[qubit_id]['Fr']+dfr)\n",
    "    pna.set_bandwidth(200)\n",
    "    current_src1.set_current(current)\n",
    "    S21   = pna.get_tracedata()\n",
    "    freqs = pna.get_freqpoints()\n",
    "    pna.set_bandwidth(resolution_bw)\n",
    "    pna.set_power(tone1_power)\n",
    "    pna.set_nop(1)\n",
    "    pna.set_xlim(freqs[np.argmin(S21[0])]-0.2e6,freqs[np.argmin(S21[0])]-0.2e6)\n",
    "    lo1.set_status(1)\n",
    "    print (freqs[np.argmin(S21[0])])"
   ]
  },
  {
   "cell_type": "code",
   "execution_count": null,
   "metadata": {
    "collapsed": true
   },
   "outputs": [],
   "source": [
    "#dac.set_voltage(channel=22, value=0.)\n",
    "#dac.set_voltage(channel=23, value=1.)"
   ]
  },
  {
   "cell_type": "code",
   "execution_count": 16,
   "metadata": {
    "collapsed": true
   },
   "outputs": [],
   "source": [
    "qubit_id =1\n",
    "nop=301\n",
    "resolution_bw=10\n",
    "#tone1_power=-45\n",
    "tone1_power=-35\n",
    "cur_nop=101\n",
    "tone2_power=-20"
   ]
  },
  {
   "cell_type": "code",
   "execution_count": null,
   "metadata": {
    "collapsed": true
   },
   "outputs": [],
   "source": [
    "current_src1.set_range(1e-2)\n",
    "current_src2.set_range(1e-3)"
   ]
  },
  {
   "cell_type": "markdown",
   "metadata": {},
   "source": [
    "Ivan script for finding the centers"
   ]
  },
  {
   "cell_type": "code",
   "execution_count": null,
   "metadata": {
    "collapsed": true
   },
   "outputs": [],
   "source": [
    "def anti(data):\n",
    "    from scipy import ndimage\n",
    "    S21=data['S-parameter'][2]\n",
    "    freqs = data['S-parameter'][1][1]\n",
    "    curr= data['S-parameter'][1][0]\n",
    "    min0=100\n",
    "    ind=-1\n",
    "    f = np.angle(S21)\n",
    "    f_u = np.unwrap(f)\n",
    "    for i in range(5,30):\n",
    "        f_u_span = np.median(f_u[:,-1]-f_u[:,0])+2*np.pi*(i/10)\n",
    "        S21_c = S21*np.exp(-1j*np.linspace(0, f_u_span, len(f[0,:])))\n",
    "        a = ndimage.sobel(np.angle(S21_c))\n",
    "        if(min0>np.max(a)):\n",
    "            min0=np.max(a)\n",
    "            ind=i    \n",
    "    print(ind/10)\n",
    "    f_u_span = np.median(f_u[:,-1]-f_u[:,0])+2*np.pi*(ind/10)\n",
    "    S21_c = S21[0:]*np.exp(-1j*np.linspace(0, f_u_span, len(f[0,:])))\n",
    "    plt.figure(1)\n",
    "    plt.pcolormesh(curr,freqs,np.angle(S21_c).T,cmap='RdBu_r')\n",
    "    plt.colorbar()\n",
    "    plt.show()\n",
    "    plt.figure(2)\n",
    "    plt.imshow(np.rot90(ndimage.sobel(np.angle(S21_c))))\n",
    "    plt.colorbar()\n",
    "    plt.show()\n",
    "    plt.figure(3)\n",
    "    plt.pcolormesh(curr,freqs,np.abs(S21).T,cmap='RdBu_r')\n",
    "    plt.colorbar()\n",
    "    plt.show()\n",
    "    return S21_c\n",
    "\n",
    "def find_where(x,a,curr):\n",
    "    freq_curr=[]\n",
    "    for i in range(len(x)):\n",
    "        if x[i]==a:\n",
    "            freq_curr.append([curr[i],a])\n",
    "    return freq_curr\n",
    "\n",
    "def find_2_fr(z):\n",
    "    low_fr=z[-1][0]\n",
    "    high_fr=0\n",
    "    for i in range(len(z)-1,0,-1):\n",
    "        if(z[i][0]-low_fr)>1e6:\n",
    "            high_fr=z[i][0]\n",
    "            break\n",
    "    return high_fr\n",
    "\n",
    "def choose_data (we,curr):\n",
    "    we_norm=[]\n",
    "    curr_norm=[]\n",
    "    for i in range(len(we)-1):\n",
    "        dif=np.abs(we[i]-we[i+1])/1e5\n",
    "        if dif<3:\n",
    "            we_norm.append(we[i])\n",
    "            curr_norm.append(curr[i])\n",
    "    return curr_norm,we_norm \n",
    "\n",
    "def SortByCount(a):\n",
    "    return a[1]\n",
    "\n",
    "def find_smth(S21_c,curr,freqs):\n",
    "    we=[]\n",
    "    for g in range(len(curr)):\n",
    "        y=np.diff(np.angle(S21_c[g]))\n",
    "        we.append(freqs[np.argmax(y)])\n",
    "    curr,we=choose_data(we,curr)\n",
    "    z=[[x, we.count(x)] for x in set(we)]\n",
    "    z.sort()\n",
    "    z.sort(key=SortByCount)\n",
    "    line1 = z[-1][0]*np.ones(len(curr))\n",
    "    line2 = find_2_fr(z)*np.ones(len(curr))\n",
    "#     plt.plot(curr,we,'ro',linewidth=0.1)\n",
    "#     plt.plot(curr,line1)\n",
    "#     plt.plot(curr,line2)\n",
    "#     plt.show()\n",
    "    return we,line1[0],line2[0],curr,z\n",
    "\n",
    "def find_max_min(curr_seq):\n",
    "    median=[]\n",
    "    group_freq=[]\n",
    "    for group in range(len(curr_seq)):\n",
    "        freq1=curr_seq[group][0][1]\n",
    "        curr_freq_1=[ curr_seq[group][i][0] for i in range(len(curr_seq[group]))]\n",
    "        median.append((curr_freq_1[0]+curr_freq_1[-1])/2)\n",
    "        group_freq.append(freq1)\n",
    "    return median,group_freq\n",
    "\n",
    "def split_current(we,fr1,fr2,curr_new):\n",
    "    curr1,curr2 =find_where(we,fr1,curr_new),find_where(we,fr2,curr_new)\n",
    "    curr_fr=curr2+curr1\n",
    "    curr_fr.sort()\n",
    "    fr_init=curr_fr[0][1]\n",
    "    ind=0\n",
    "    curr_seq=[]\n",
    "    for i in range(len(curr_fr)):\n",
    "        if curr_fr[i][1]!=fr_init:\n",
    "            fr_init=curr_fr[i][1]\n",
    "            curr_seq.append(curr_fr[ind:i])\n",
    "            ind=i\n",
    "    if (len(curr_fr)-ind)>1:\n",
    "        curr_seq.append(curr_fr[ind:len(curr_fr)])\n",
    "    list_of_remove=[]\n",
    "    for i in range(len(curr_seq)-1,-1,-1):\n",
    "        if len(curr_seq[i])<3 :\n",
    "            list_of_remove.append(i)\n",
    "    for i in list_of_remove:\n",
    "        curr_seq.remove(curr_seq[i])\n",
    "    return curr_seq"
   ]
  },
  {
   "cell_type": "code",
   "execution_count": null,
   "metadata": {
    "collapsed": true
   },
   "outputs": [],
   "source": [
    "S21_c=anti(result)"
   ]
  },
  {
   "cell_type": "code",
   "execution_count": null,
   "metadata": {
    "collapsed": true
   },
   "outputs": [],
   "source": [
    "we,fr1,fr2,curr_new=find_smth(S21_c,result['S-parameter'][1][0],result['S-parameter'][1][1])[:4]"
   ]
  },
  {
   "cell_type": "code",
   "execution_count": null,
   "metadata": {
    "collapsed": true
   },
   "outputs": [],
   "source": [
    "curr_seq=split_current(we,fr1,fr2,curr_new)\n",
    "middle_curr,middle_freq=find_max_min(curr_seq)\n",
    "centers={i: {'curr':middle_curr[i], \"freq\":middle_freq[i]} for i in range(len(curr_seq))}\n",
    "plt.plot(middle_curr,middle_freq,'go')\n",
    "for i in range(len(centers)):\n",
    "    plt.annotate('{}'.format(i), xy=(middle_curr[i],middle_freq[i]+5e5),\n",
    "                 xytext=(middle_curr[i], middle_freq[i]+3e6),\n",
    "                arrowprops=dict(facecolor='black', width=0.05,headwidth=5))\n",
    "plt.show()\n",
    "centers"
   ]
  },
  {
   "cell_type": "code",
   "execution_count": null,
   "metadata": {
    "collapsed": true
   },
   "outputs": [],
   "source": [
    "list_of_centers=[]"
   ]
  },
  {
   "cell_type": "code",
   "execution_count": null,
   "metadata": {
    "collapsed": true
   },
   "outputs": [],
   "source": [
    "list_of_centers.append(centers)"
   ]
  },
  {
   "cell_type": "code",
   "execution_count": null,
   "metadata": {
    "collapsed": true
   },
   "outputs": [],
   "source": [
    "list_of_centers"
   ]
  },
  {
   "cell_type": "code",
   "execution_count": null,
   "metadata": {
    "collapsed": true
   },
   "outputs": [],
   "source": [
    "centers_all={}"
   ]
  },
  {
   "cell_type": "code",
   "execution_count": null,
   "metadata": {
    "collapsed": true
   },
   "outputs": [],
   "source": [
    "centers_all[\"coil_3\"]=list_of_centers\n",
    "centers_all"
   ]
  },
  {
   "cell_type": "code",
   "execution_count": null,
   "metadata": {
    "collapsed": true
   },
   "outputs": [],
   "source": [
    "centers[0]= {'curr': -0.00013, 'freq': 6.81e9}"
   ]
  },
  {
   "cell_type": "code",
   "execution_count": null,
   "metadata": {
    "collapsed": true,
    "scrolled": true
   },
   "outputs": [],
   "source": [
    "for i in [0,1,4]:\n",
    "    centers.pop(i)\n",
    "centers"
   ]
  },
  {
   "cell_type": "code",
   "execution_count": null,
   "metadata": {
    "collapsed": true
   },
   "outputs": [],
   "source": [
    "centers"
   ]
  },
  {
   "cell_type": "markdown",
   "metadata": {},
   "source": [
    "Finish"
   ]
  },
  {
   "cell_type": "markdown",
   "metadata": {},
   "source": [
    "для плавного выставления токов"
   ]
  },
  {
   "cell_type": "code",
   "execution_count": 10,
   "metadata": {
    "collapsed": true
   },
   "outputs": [],
   "source": [
    "def set_curr_start(init_curr,curr_src):\n",
    "    last_curr=0\n",
    "    curr_range=np.linspace(last_curr,init_curr,100)\n",
    "    for i in curr_range:\n",
    "        curr_src.set_current(i)\n",
    "        time.sleep(0.1)\n",
    "def set_curr_finish(curr_src):\n",
    "    last_curr=0\n",
    "    init_curr=curr_src.get_current()\n",
    "    curr_range=np.linspace(init_curr,last_curr,100)\n",
    "    for i in curr_range:\n",
    "        curr_src.set_current(i)\n",
    "        time.sleep(0.2)"
   ]
  },
  {
   "cell_type": "code",
   "execution_count": null,
   "metadata": {
    "collapsed": true
   },
   "outputs": [],
   "source": [
    "for qubit_id in [2]:\n",
    "    current_src1.set_status(1)\n",
    "    current_src1.set_range(1e-2)\n",
    "    lo1.set_status(0)\n",
    "    tone1_power=-40\n",
    "    pna.set_power(tone1_power)\n",
    "    pna.set_nop(301)\n",
    "    pna.set_bandwidth(5)\n",
    "    current=qubit_params[qubit_id][\"Iw_q1c\"]\n",
    "    set_curr_start(currents[0],current_src1)\n",
    "    pna.set_xlim(qubit_params[qubit_id]['Fr']-10e6,qubit_params[qubit_id]['Fr']+10e6)\n",
    "    result=sweep.sweep(pna, ([0], lambda x: 0, ''),\n",
    "                       filename=\"S21 overview qubit {} Icoil_1 {}\".format(qubit_id,current_src1.get_current()))\n",
    "    set_curr_finish(current_src1)\n",
    "    #set_curr_finish(current_src2)\n",
    "    #current_src1.set_status(0)\n",
    "    #current_src2.set_status(0)"
   ]
  },
  {
   "cell_type": "code",
   "execution_count": null,
   "metadata": {
    "collapsed": true
   },
   "outputs": [],
   "source": [
    "set_curr_start(currents[0],current_src1)\n",
    "fig, axes=plt.subplots(2,2, figsize=(8,8))\n",
    "freqs=pna.get_freqpoints()\n",
    "S21=pna.get_tracedata()\n",
    "phase = np.unwrap(S21[1])\n",
    "delay = np.diff(phase)/(freqs[1]-freqs[0])\n",
    "delay_freqs = (np.asarray(freqs[1:])+np.asarray(freqs[:-1]))/2\n",
    "axes[0,0].plot(freqs,10*np.log10(S21[0]**2))\n",
    "axes[0,1].plot(freqs, phase)\n",
    "axes[1,0].plot(np.real(S21[0]*np.exp(1j*S21[1])),np.imag(S21[0]*np.exp(1j*S21[1])))\n",
    "axes[1,1].plot(delay_freqs, delay)"
   ]
  },
  {
   "cell_type": "code",
   "execution_count": null,
   "metadata": {
    "collapsed": true
   },
   "outputs": [],
   "source": [
    "plt.plot(delay_freqs, delay)"
   ]
  },
  {
   "cell_type": "code",
   "execution_count": null,
   "metadata": {
    "collapsed": true
   },
   "outputs": [],
   "source": [
    "qubit_id=2"
   ]
  },
  {
   "cell_type": "code",
   "execution_count": 17,
   "metadata": {
    "collapsed": true
   },
   "outputs": [],
   "source": [
    "current_src2.set_status(1)\n",
    "current_src2.set_range(1e-3)\n",
    "set_curr_start(-0.27e-3,current_src2)"
   ]
  },
  {
   "cell_type": "code",
   "execution_count": 79,
   "metadata": {
    "scrolled": false
   },
   "outputs": [
    {
     "data": {
      "application/vnd.jupyter.widget-view+json": {
       "model_id": "9ed035eb14284aeca8322cd599c1e517",
       "version_major": 2,
       "version_minor": 0
      },
      "text/plain": [
       "A Jupyter Widget"
      ]
     },
     "metadata": {},
     "output_type": "display_data"
    },
    {
     "name": "stdout",
     "output_type": "stream",
     "text": [
      "Started at:  Jun 24 2018 01:20:21\n",
      "\n",
      "Elapsed time: 0 h 2 m 9.51 s\n"
     ]
    }
   ],
   "source": [
    "#Anti-Crossing coil 1\n",
    "for qubit_id in [3]:\n",
    "    current_src1.set_status(1)\n",
    "    current_src1.set_range(1e-2)\n",
    "    lo1.set_status(0)\n",
    "    pna.set_power(tone1_power)\n",
    "    pna.set_nop(201)\n",
    "    pna.set_bandwidth(200)\n",
    "    current_max=2.5e-3#qubit_params[qubit_id]['Iw_q1c']\n",
    "    current_nop =101\n",
    "    currents=np.linspace(-current_max,current_max,current_nop)\n",
    "    #currents=np.linspace(-1.5e-3,-0.5e-3,current_nop)\n",
    "    set_curr_start(currents[0],current_src1)\n",
    "    pna.set_xlim(qubit_params[qubit_id]['Fr']-10e6,qubit_params[qubit_id]['Fr']+10e6)\n",
    "    result = sweep.sweep(pna, \n",
    "                        (currents, current_src1.set_current, 'Coil #{} current,qubit{}'.format(1,qubit_id)), \n",
    "                        filename='Coil 1 anticrossings qubit {} Icoil_3 {}'.format(qubit_id,current_src2.get_current()))\n",
    "                        #bot=(True,10))\n",
    "\n",
    "                     \n",
    "    set_curr_finish(current_src1)\n",
    "    #set_curr_finish(current_src2)\n",
    "    current_src1.set_status(0)\n",
    "    #current_src2.set_status(0)"
   ]
  },
  {
   "cell_type": "code",
   "execution_count": 80,
   "metadata": {},
   "outputs": [
    {
     "data": {
      "text/plain": [
       "0.0"
      ]
     },
     "execution_count": 80,
     "metadata": {},
     "output_type": "execute_result"
    }
   ],
   "source": [
    "current_src2.get_current()"
   ]
  },
  {
   "cell_type": "code",
   "execution_count": 61,
   "metadata": {
    "collapsed": true
   },
   "outputs": [],
   "source": [
    "set_curr_finish(current_src1)\n",
    "set_curr_finish(current_src2)"
   ]
  },
  {
   "cell_type": "code",
   "execution_count": null,
   "metadata": {
    "collapsed": true,
    "scrolled": true
   },
   "outputs": [],
   "source": [
    "#Anti-Crossing coil 3\n",
    "for qubit_id in [1]:\n",
    "    current_src2.set_status(1)\n",
    "    current_src2.set_range(1e-3)\n",
    "    lo1.set_status(0)\n",
    "    pna.set_power(tone1_power)\n",
    "    pna.set_nop(201)\n",
    "    pna.set_bandwidth(200)\n",
    "    current_max=-0.20e-3\n",
    "    current_nop = 201\n",
    "    currents=np.linspace(-current_max,current_max,current_nop)\n",
    "    set_curr_start(currents[0],current_src2)\n",
    "    pna.set_xlim(qubit_params[qubit_id]['Fr']-10e6,qubit_params[qubit_id]['Fr']+10e6)\n",
    "    result = sweep.sweep(pna, \n",
    "                        (currents, current_src2.set_current, 'Coil #{} current,qubit{}'.format(3,qubit_id)), \n",
    "                        filename='Coil anticrossings qubit {} Icoil1 {}'.format(qubit_id,current_src2.get_current()))\n",
    "                        #bot=(True,10))\n",
    "\n",
    "    #set_curr_finish(current_src1)\n",
    "    set_curr_finish(current_src2)\n",
    "    #current_src1.set_status(0)\n",
    "    current_src2.set_status(0)"
   ]
  },
  {
   "cell_type": "code",
   "execution_count": null,
   "metadata": {
    "collapsed": true
   },
   "outputs": [],
   "source": [
    "set_curr_finish(current_src1)\n",
    "set_curr_finish(current_src2)\n",
    "current_src1.set_status(0)\n",
    "current_src2.set_status(0)"
   ]
  },
  {
   "cell_type": "code",
   "execution_count": 62,
   "metadata": {},
   "outputs": [
    {
     "data": {
      "text/plain": [
       "True"
      ]
     },
     "execution_count": 62,
     "metadata": {},
     "output_type": "execute_result"
    }
   ],
   "source": [
    "current_src2.set_status(0)"
   ]
  },
  {
   "cell_type": "code",
   "execution_count": null,
   "metadata": {
    "collapsed": true
   },
   "outputs": [],
   "source": [
    "q=anti(result)"
   ]
  },
  {
   "cell_type": "code",
   "execution_count": null,
   "metadata": {
    "collapsed": true
   },
   "outputs": [],
   "source": [
    "#dc_coils['qubit-1-coil-current']['default'] = 0.0e-3\n",
    "#dc_coils['qubit-2-coil-current']['default'] = 0.0e-3\n",
    "\n",
    "for coil_name, dc_control in dc_coils.items():\n",
    "    dc_control['enable'](0)\n",
    "\n",
    "spectra = {}    \n",
    "for qubit_id in [2]:\n",
    "#current_src1.set_status(1)\n",
    "    #current_src1.set_range(1e-2)\n",
    "    lo1.set_status(0)\n",
    "    #lo2.set_status(0)\n",
    "    pna.set_power(tone1_power)\n",
    "    pna.set_nop(101)\n",
    "    pna.set_bandwidth(200)\n",
    "    #coil_channel_id = 23\n",
    "    current_max=0.2e-3\n",
    "    #voltage_max=4\n",
    "    current_nop = 101\n",
    "    currents=np.linspace(-current_max,current_max,current_nop)\n",
    "    #voltages=np.linspace(-voltage_max,voltage_max,current_nop)\n",
    "    pna.set_xlim(qubit_params[qubit_id]['Fr']-25e6,qubit_params[qubit_id]['Fr']+25e6)\n",
    "    #voltage_setter = lambda x: dac.set_voltage(channel=coil_channel_id, value=x)\n",
    "    #for coil_name, dc_control in {'qubit_3_coil_current':current_src1}.items():\n",
    "    spectra[qubit_id] = {}\n",
    "    for coil_name, dc_control in dc_coils.items():\n",
    "        for coil_name2, dc_control2 in dc_coils.items():\n",
    "            if 'default' in dc_control2:\n",
    "                dc_control2['setter'](dc_control2['default'])\n",
    "                dc_control2['enable'](1)\n",
    "            else:\n",
    "                dc_control2['enable'](0)\n",
    "        dc_control['enable'](1)\n",
    "        currents=np.linspace(-dc_control['Imax'],dc_control['Imax'],current_nop)\n",
    "        spectra[qubit_id][coil_name] = sweep.sweep(pna, \n",
    "                             (currents, dc_control['setter'], coil_name), \n",
    "                             filename='anticrossings qubit {} {}'.format(qubit_id, coil_name))\n",
    "        dc_control['enable'](0)\n",
    "    #result = sweep.sweep(pna, \n",
    "    #                     (voltages, voltage_setter, 'Coil #{} voltage'.format(coil_channel_id)), \n",
    "    #                     filename='anticrossings coil #{} qubit {}'.format(coil_channel_id, qubit_id))"
   ]
  },
  {
   "cell_type": "code",
   "execution_count": null,
   "metadata": {
    "collapsed": true
   },
   "outputs": [],
   "source": [
    "spectra = {1:{'qubit-1-coil-current':load_pkl('23-03-05-anticrossings qubit 1 qubit-1-coil-current', \n",
    "                      location=r'C:\\Users\\demouser\\Desktop\\Quantum\\Data\\2018-06-08\\23-03-05-anticrossings qubit 1 qubit-1-coil-current')[1],\n",
    "              'qubit-2-coil-current':load_pkl('23-03-05-anticrossings qubit 1 qubit-2-coil-current', \n",
    "                      location=r'C:\\Users\\demouser\\Desktop\\Quantum\\Data\\2018-06-08\\23-04-47-anticrossings qubit 1 qubit-2-coil-current')[1]},\n",
    "           2:{'qubit-1-coil-current':load_pkl('23-03-05-anticrossings qubit 1 qubit-1-coil-current', \n",
    "                      location=r'C:\\Users\\demouser\\Desktop\\Quantum\\Data\\2018-06-08\\23-06-32-anticrossings qubit 2 qubit-1-coil-current')[1]},\n",
    "           3:{'qubit-1-coil-current':load_pkl('23-03-05-anticrossings qubit 1 qubit-1-coil-current', \n",
    "                      location=r'C:\\Users\\demouser\\Desktop\\Quantum\\Data\\2018-06-08\\23-03-05-anticrossings qubit 1 qubit-1-coil-current')[1]}}"
   ]
  },
  {
   "cell_type": "code",
   "execution_count": null,
   "metadata": {
    "collapsed": true
   },
   "outputs": [],
   "source": [
    "awg_tek.set_status(0,channel=0)"
   ]
  },
  {
   "cell_type": "code",
   "execution_count": null,
   "metadata": {
    "collapsed": true
   },
   "outputs": [],
   "source": [
    "resonator_reference_spectrum = load_pkl('20-09-28-Hivemind #2 single-tone resonator-z-spectrum Input res-x power --40\\\\S-parameter Hivemind #2 single-tone resonator-z-spectrum Input res-x power --40', \n",
    "                                        location='D:\\\\qtlab\\\\ReiData\\\\data\\\\2018-05-21')[1]"
   ]
  },
  {
   "cell_type": "code",
   "execution_count": null,
   "metadata": {
    "collapsed": true,
    "scrolled": false
   },
   "outputs": [],
   "source": [
    "#current_src1.set_status(1)\n",
    "#current_src1.set_range(1e-2)\n",
    "lo1.set_status(0)\n",
    "#lo2.set_status(0)\n",
    "pna.set_power(tone1_power)\n",
    "pna.set_nop(101)\n",
    "pna.set_bandwidth(200)\n",
    "coil_channel_id = 23\n",
    "#current_max=2e-3\n",
    "voltage_max=4\n",
    "current_nop = 100\n",
    "#currents=np.linspace(-current_max,current_max,current_nop)\n",
    "voltages=np.linspace(-voltage_max,voltage_max,current_nop)\n",
    "pna.set_xlim(qubit_params[qubit_id]['Fr']-10e6,qubit_params[qubit_id]['Fr']+10e6)\n",
    "voltage_setter = lambda x: dac.set_voltage(channel=coil_channel_id, value=x)\n",
    "#result = sweep.sweep(pna, (currents, current_src1.set_current, 'Coil current'), filename='anticrossings qubit {}'.format(qubit_id))\n",
    "result = sweep.sweep(pna, \n",
    "                     (voltages, voltage_setter, 'Coil #{} voltage'.format(coil_channel_id)), \n",
    "                     filename='anticrossings coil #{} qubit {}'.format(coil_channel_id, qubit_id))"
   ]
  },
  {
   "cell_type": "code",
   "execution_count": null,
   "metadata": {
    "collapsed": true
   },
   "outputs": [],
   "source": [
    "resonator_freqs=[qubit_params[qubit_id]['Fr']]\n",
    "resonator_freqs"
   ]
  },
  {
   "cell_type": "code",
   "execution_count": null,
   "metadata": {
    "collapsed": true
   },
   "outputs": [],
   "source": [
    "current_src1.set_current(qubit_params[qubit_id]['Iw'])"
   ]
  },
  {
   "cell_type": "code",
   "execution_count": null,
   "metadata": {
    "collapsed": true
   },
   "outputs": [],
   "source": [
    "qubit_id"
   ]
  },
  {
   "cell_type": "code",
   "execution_count": null,
   "metadata": {
    "collapsed": true
   },
   "outputs": [],
   "source": [
    "pna.set_average(0)\n",
    "pna.set_averages(1)\n",
    "pna.set_xlim(6.5e9, 6.7e9)\n",
    "pna.set_nop(2001)\n",
    "pna.set_bandwidth(100)\n",
    "pna.set_power(-10)"
   ]
  },
  {
   "cell_type": "code",
   "execution_count": null,
   "metadata": {
    "collapsed": true
   },
   "outputs": [],
   "source": [
    "import imp\n",
    "imp.reload(sweep)"
   ]
  },
  {
   "cell_type": "code",
   "execution_count": null,
   "metadata": {
    "collapsed": true
   },
   "outputs": [],
   "source": [
    "#current_src1.set_status(1)\n",
    "#current_src1.set_current(0)\n",
    "lo1.set_status(0)\n",
    "pna.set_nop(101)\n",
    "pna.set_power(-45)\n",
    "pna.set_bandwidth(10)\n",
    "pna.set_average(0)\n",
    "pna.set_averages(1)\n",
    "dfr=10e6\n",
    "qubit_id=1 \n",
    "pna.set_xlim(qubit_params[qubit_id]['Fr']-dfr,  qubit_params[qubit_id]['Fr']+dfr)\n",
    "#pna.set_xlim(6.4e9, 6.8e9)\n",
    "result = sweep.sweep(pna, ([0], lambda x: None, 'None'), filename='Single Tone spectroscopy #2 Baumanka Vanya-3')"
   ]
  },
  {
   "cell_type": "code",
   "execution_count": null,
   "metadata": {
    "collapsed": true
   },
   "outputs": [],
   "source": [
    "result[1]\n",
    "sh.move(result[1],directory_to)"
   ]
  },
  {
   "cell_type": "code",
   "execution_count": null,
   "metadata": {
    "collapsed": true
   },
   "outputs": [],
   "source": [
    "reference_preprocessed = resonator_spectrum_preprocessing(resonator_reference_spectrum['S-parameter'][2])\n",
    "centre_reference_pixels, period_reference_pixels = fitting.xcorr_centre_period(reference_preprocessed, axis=1)\n",
    "\n",
    "centre_reference = resonator_reference_spectrum['S-parameter'][1][0][int(centre_reference_pixels)], \n",
    "period_reference = (resonator_reference_spectrum['S-parameter'][1][0][1]-resonator_reference_spectrum['S-parameter'][1][0][0])*period_reference_pixels\n",
    "print (centre_reference, period_reference)"
   ]
  },
  {
   "cell_type": "code",
   "execution_count": null,
   "metadata": {
    "collapsed": true
   },
   "outputs": [],
   "source": [
    "pna.set_nop(100)\n",
    "pna.set_bandwidth(20)\n",
    "pna.set_xlim(qubit_params[qubit_id]['Fr']-25e6,  qubit_params[qubit_id]['Fr']+2e6)\n",
    "plt.plot(pna.get_freqpoints(), pna.get_tracedata()[0])"
   ]
  },
  {
   "cell_type": "markdown",
   "metadata": {},
   "source": [
    "# two-tone 1D"
   ]
  },
  {
   "cell_type": "code",
   "execution_count": null,
   "metadata": {
    "collapsed": true
   },
   "outputs": [],
   "source": [
    "qubit_params[qubit_id]"
   ]
  },
  {
   "cell_type": "code",
   "execution_count": 42,
   "metadata": {
    "collapsed": true
   },
   "outputs": [],
   "source": [
    "current_src2.set_status(1)\n",
    "set_curr_start(qubit_params[qubit_id]['Iw_q2c'],current_src2)"
   ]
  },
  {
   "cell_type": "code",
   "execution_count": 11,
   "metadata": {
    "scrolled": true
   },
   "outputs": [
    {
     "data": {
      "application/vnd.jupyter.widget-view+json": {
       "model_id": "0530c17fa4c545f48f6e20dad6dc2f5b",
       "version_major": 2,
       "version_minor": 0
      },
      "text/plain": [
       "A Jupyter Widget"
      ]
     },
     "metadata": {},
     "output_type": "display_data"
    },
    {
     "name": "stdout",
     "output_type": "stream",
     "text": [
      "Started at:  Jun 24 2018 21:41:21\n",
      "\n",
      "Elapsed time: 0 h 0 m 40.11 s\n"
     ]
    },
    {
     "name": "stderr",
     "output_type": "stream",
     "text": [
      "C:\\ProgramData\\Anaconda3\\lib\\site-packages\\matplotlib\\cbook\\deprecation.py:106: MatplotlibDeprecationWarning: Adding an axes using the same arguments as a previous axes currently reuses the earlier instance.  In a future version, a new instance will always be created and returned.  Meanwhile, this warning can be suppressed, and the future behavior ensured, by passing a unique label to each axes instance.\n",
      "  warnings.warn(message, mplDeprecation, stacklevel=1)\n"
     ]
    },
    {
     "data": {
      "text/plain": [
       "True"
      ]
     },
     "execution_count": 11,
     "metadata": {},
     "output_type": "execute_result"
    }
   ],
   "source": [
    "qubit_id=3\n",
    "\n",
    "ro_power = -30\n",
    "ex_power = -10\n",
    "span =100e6\n",
    "step  =1e6\n",
    "\n",
    "current_src1.set_status(1)\n",
    "current_src1.set_current(qubit_params[qubit_id]['Iw_q1c'])\n",
    "\n",
    "lo1.set_status(1)\n",
    "\n",
    "lo1.set_power(ex_power)\n",
    "pna.set_bandwidth(5)\n",
    "\n",
    "pna.set_power(ro_power)\n",
    "\n",
    "pna.set_nop(1)\n",
    "pna.set_centerfreq(qubit_params[qubit_id]['Fr'])\n",
    "\n",
    "#current_src1.set_current(qubit_params[qubit_id]['Iw_q1c'])\n",
    "#set_curr_start(qubit_params[qubit_id]['Iw_q1c'],current_src1)\n",
    "\n",
    "ex_freqs = qubit_params[qubit_id]['F01_min']+np.arange(-span/2, span/2, step)\n",
    "\n",
    "meas=sweep.sweep(pna, (ex_freqs, lo1.set_frequency, '2nd tone frequency'), \n",
    "                 filename='TwoTone1D_qubit{:d}_ro{:.2f}_ex{:.2f}'.format(qubit_id, ro_power, ex_power) )\n",
    "lo1.set_status(0)"
   ]
  },
  {
   "cell_type": "code",
   "execution_count": 35,
   "metadata": {},
   "outputs": [
    {
     "data": {
      "text/plain": [
       "-0.000446"
      ]
     },
     "execution_count": 35,
     "metadata": {},
     "output_type": "execute_result"
    }
   ],
   "source": [
    "qubit_params[qubit_id]['Iw_q1c']"
   ]
  },
  {
   "cell_type": "code",
   "execution_count": 36,
   "metadata": {},
   "outputs": [
    {
     "data": {
      "text/plain": [
       "True"
      ]
     },
     "execution_count": 36,
     "metadata": {},
     "output_type": "execute_result"
    }
   ],
   "source": [
    "#Если сорвалось ЖНИ\n",
    "set_curr_finish(current_src1)\n",
    "set_curr_finish(current_src2)\n",
    "current_src1.set_status(0)\n",
    "current_src2.set_status(0)"
   ]
  },
  {
   "cell_type": "code",
   "execution_count": 48,
   "metadata": {},
   "outputs": [
    {
     "data": {
      "text/plain": [
       "-0.00027"
      ]
     },
     "execution_count": 48,
     "metadata": {},
     "output_type": "execute_result"
    }
   ],
   "source": [
    "current_src2.get_current()"
   ]
  },
  {
   "cell_type": "code",
   "execution_count": 49,
   "metadata": {},
   "outputs": [
    {
     "data": {
      "text/plain": [
       "1"
      ]
     },
     "execution_count": 49,
     "metadata": {},
     "output_type": "execute_result"
    }
   ],
   "source": [
    "current_src2.get_status()"
   ]
  },
  {
   "cell_type": "code",
   "execution_count": null,
   "metadata": {
    "collapsed": true
   },
   "outputs": [],
   "source": [
    "qubit_id=1"
   ]
  },
  {
   "cell_type": "code",
   "execution_count": null,
   "metadata": {
    "collapsed": true
   },
   "outputs": [],
   "source": [
    "pna.set_bandwidth(5)"
   ]
  },
  {
   "cell_type": "code",
   "execution_count": null,
   "metadata": {
    "collapsed": true
   },
   "outputs": [],
   "source": [
    "qubit_id=3"
   ]
  },
  {
   "cell_type": "code",
   "execution_count": null,
   "metadata": {
    "collapsed": true
   },
   "outputs": [],
   "source": [
    "qubit_params[qubit_id]['Iw_q1c']"
   ]
  },
  {
   "cell_type": "code",
   "execution_count": null,
   "metadata": {
    "collapsed": true,
    "scrolled": false
   },
   "outputs": [],
   "source": [
    "qubit_id = 2\n",
    "pna.set_power(-40)\n",
    "lo1.set_status(1)\n",
    "lo1.set_power(-14)\n",
    "freq = qubit_params[qubit_id]['F01_min']+np.arange(-50e6, 50e6, 1e6)\n",
    "#freq = np.linspace(4.740e9, 4.860e9, 201)\n",
    "\n",
    "#current_max=qubit_params[qubit_id]['Iw_q1c']\n",
    "currents = qubit_params[qubit_id]['Iw_q1c'] + np.arange(0, +0.1e-3, 0.01e-3)\n",
    "current_src1.set_status(1)\n",
    "#set_curr_start(currents[0],current_src1)\n",
    "#currents=np.linspace(-1.850e-3,-1.825e-3,current_nop)\n",
    "#set_curr_start(currents[0],current_src1)\n",
    "\n",
    "#for i in range(3,len(res_fr)):\n",
    "# dfr =2\n",
    "#    tone1_freq_min, tone1_freq_max = qubit_params[qubit_id]['Fr']-dfr,  qubit_params[qubit_id]['Fr']+dfr\n",
    "pna.set_centerfreq( qubit_params[qubit_id]['Fr'])\n",
    "pna.set_nop(1)\n",
    "#currents=np.linspace(qubit_params[qubit_id]['Iw_q1c']-25e-5,qubit_params[qubit_id]['Iw_q1c']+25e-5,51)\n",
    "sweep.sweep(pna, (currents, \n",
    "                  current_src1.set_current,'current_qubit{}'.format(qubit_id)), \n",
    "            (freq, lo1.set_frequency, '2nd tone frequency'), \n",
    "            filename='qubit {3} tone_fr{0}_t1p{1}_t2p{2}'.format(\"%.2f\" % (qubit_params[1]['Fr']/1e9),pna.get_power(),lo1.get_power(), \n",
    "                                                                 qubit_id))\n",
    "           # bot=(True,151))\n",
    "    \n",
    "#set_curr_finish(current_src1)\n",
    "#set_curr_finish(current_src2)\n",
    "#current_src1.set_status(0)\n",
    "#current_src2.set_status(0)"
   ]
  },
  {
   "cell_type": "code",
   "execution_count": null,
   "metadata": {
    "collapsed": true
   },
   "outputs": [],
   "source": [
    "#pna.set_power(-55)\n",
    "current_src1.set_status(1)\n",
    "current_src2.set_status(1)\n",
    "set_curr_start(-0.26e-3,current_src2)\n",
    "#current_src2.set_current(-0.26e-3)\n",
    "lo1.set_status(1)\n",
    "lo1.set_power(-20)\n",
    "#current_src2.set_status(1)\n",
    "freq = qubit_params[qubit_id]['F01_min']+np.linspace(-250e6, 100e6, 351)\n",
    "#freq = np.linspace(4.71e9, 4.76e9, 401)\n",
    "current_nop=201\n",
    "current_max=-0.1e-3\n",
    "currents=np.linspace(current_max-0.13e-3,current_max+0.13e-3,current_nop)\n",
    "set_curr_start(currents[0],current_src1)\n",
    "#for i in range(3,len(res_fr)):\n",
    "# dfr =2\n",
    "#    tone1_freq_min, tone1_freq_max = qubit_params[qubit_id]['Fr']-dfr,  qubit_params[qubit_id]['Fr']+dfr\n",
    "pna.set_nop(1)\n",
    "pna.set_xlim( qubit_params[qubit_id]['Fr'], qubit_params[qubit_id]['Fr'])\n",
    "#currents=np.linspace(qubit_params[qubit_id]['Iw_q1c']-25e-5,qubit_params[qubit_id]['Iw_q1c']+25e-5,51)\n",
    "sweep.sweep(pna, (currents, \n",
    "                  current_src1.set_current,'current_qubit{}'.format(qubit_id)), \n",
    "            (freq, lo1.set_frequency, '2nd tone frequency'), \n",
    "            filename='qubit {3} tone_fr{0}_t1p{1}_t2p{2}'.format(\"%.2f\" % (qubit_params[1]['Fr']/1e9),pna.get_power(),lo1.get_power(), qubit_id),\n",
    "            bot=(True,351))\n",
    "    \n",
    "set_curr_finish(current_src1)\n",
    "set_curr_finish(current_src2)\n",
    "current_src1.set_status(0)\n",
    "current_src2.set_status(0)"
   ]
  },
  {
   "cell_type": "code",
   "execution_count": null,
   "metadata": {
    "collapsed": true
   },
   "outputs": [],
   "source": [
    "qubit_params[qubit_id]['Iw_q2c']"
   ]
  },
  {
   "cell_type": "code",
   "execution_count": null,
   "metadata": {
    "collapsed": true
   },
   "outputs": [],
   "source": [
    "-0.00173,4.74e9"
   ]
  },
  {
   "cell_type": "code",
   "execution_count": null,
   "metadata": {
    "collapsed": true
   },
   "outputs": [],
   "source": [
    "Если сорвалась двухтонка ЖНИ"
   ]
  },
  {
   "cell_type": "code",
   "execution_count": null,
   "metadata": {
    "collapsed": true
   },
   "outputs": [],
   "source": [
    "#Если сорвалась двухтонка ЖНИ\n",
    "set_curr_finish(current_src1)\n",
    "#set_curr_finish(current_src2)\n",
    "current_src1.set_status(0)\n",
    "#current_src2.set_status(0)"
   ]
  },
  {
   "cell_type": "code",
   "execution_count": null,
   "metadata": {
    "collapsed": true
   },
   "outputs": [],
   "source": [
    "for qubit_id in [1]:\n",
    "    pna.set_power(-50)\n",
    "    lo1.set_status(1)\n",
    "    lo1.set_power(-20)\n",
    "    current_src1.set_status(1)\n",
    "    #freq = qubit_params[qubit_id]['F01_min']+np.linspace(-250e6, 100e6, 351)\n",
    "    freq = np.linspace(4.71e9, 4.76e9, 401)\n",
    "    currents=np.linspace(0.185e-3,0.26e-3,91)\n",
    "    #for i in range(3,len(res_fr)):\n",
    "   # dfr =2\n",
    "#     tone1_freq_min, tone1_freq_max = qubit_params[qubit_id]['Fr']-dfr,  qubit_params[qubit_id]['Fr']+dfr\n",
    "    pna.set_xlim( qubit_params[qubit_id]['Fr'], qubit_params[qubit_id]['Fr'])\n",
    "    #currents=np.linspace(qubit_params[qubit_id]['Iw_q1c']-25e-5,qubit_params[qubit_id]['Iw_q1c']+25e-5,51)\n",
    "    sweep.sweep(pna, (currents, \n",
    "                      current_src1.set_current,'current'), \n",
    "                (freq, lo1.set_frequency, '2nd tone frequency'), \n",
    "                filename='qubit {3} tone_fr{0}_t1p{1}_t2p{2}'.format(\"%.2f\" % (qubit_params[1]['Fr']/1e9),pna.get_power(),lo1.get_power(), qubit_id),\n",
    "               bot=(True,401))"
   ]
  },
  {
   "cell_type": "code",
   "execution_count": null,
   "metadata": {
    "collapsed": true
   },
   "outputs": [],
   "source": [
    "import pickle as pkl\n",
    "with open(r'C:\\Users\\demouser\\Desktop\\Quantum\\Data\\2018-05-30\\17-14-31-2nd tone_fr6.53_t1p-25.0_t2p-5.0\\S-parameter 2nd tone_fr6.53_t1p-25.0_t2p-5.0.pkl', 'rb') as f:\n",
    "    data_new = pickle.load(f)\n",
    "data_new[0]"
   ]
  },
  {
   "cell_type": "code",
   "execution_count": null,
   "metadata": {
    "collapsed": true
   },
   "outputs": [],
   "source": [
    "\n",
    "with open(r'D:\\qtlab\\ReiData\\data\\2018-06-21\\00-02-52-qubit 1 tone_fr6.53_t1p-55.0_t2p-15.0\\S-parameter qubit 1 tone_fr6.53_t1p-55.0_t2p-15.0.pkl', 'rb') as f:\n",
    "    data_new = pickle.load(f)     \n",
    "plt.pcolormesh(data_new[1]['S-parameter'][1][0],data_new[1]['S-parameter'][1][1], np.angle(data_new[1]['S-parameter'][2].T), cmap='RdBu')\n",
    "plt.show()"
   ]
  },
  {
   "cell_type": "code",
   "execution_count": null,
   "metadata": {
    "collapsed": true
   },
   "outputs": [],
   "source": [
    "with open(r'C:\\Users\\demouser\\Desktop\\Quantum\\Data\\2018-05-30\\13-28-36-2nd tone_fr6.53_t1p-25.0_t2p-5.0\\S-parameter 2nd tone_fr6.53_t1p-25.0_t2p-5.0.pkl', 'rb') as f1:\n",
    "    data_new = pickle.load(f1)     \n",
    "plt.pcolormesh(data_new[1]['S-parameter'][1][0],data_new[1]['S-parameter'][1][1], np.abs(data_new[1]['S-parameter'][2].T), cmap='RdBu')\n",
    "plt.show()"
   ]
  },
  {
   "cell_type": "code",
   "execution_count": null,
   "metadata": {
    "collapsed": true
   },
   "outputs": [],
   "source": [
    "current_src1.set_current(qubit_params[qubit_id]['Iw'])"
   ]
  },
  {
   "cell_type": "markdown",
   "metadata": {},
   "source": [
    "# Импульсы"
   ]
  },
  {
   "cell_type": "code",
   "execution_count": 13,
   "metadata": {},
   "outputs": [
    {
     "name": "stderr",
     "output_type": "stream",
     "text": [
      "root: WARNING  Tektronix_AWG5014 : get all not yet fully functional\n"
     ]
    }
   ],
   "source": [
    "#if not ('pna' in locals()): pna = Agilent_N5242A('pna', address = 'PNA')\n",
    "#if not ('lo1' in locals()): lo1 = Agilent_E8257D('lo1', address = 'PSG1')\n",
    "sa = Agilent_N9030A('pxa', address = 'TCPIP0::10.20.61.56::inst0::INSTR')\n",
    "#sa = Signal_Hound_SA(name='SA124', serial=61660066)\n",
    "#lo_ex = Labbrick(name='lo_ex', serial=15249)\n",
    "lo_ex = lo1\n",
    "lo_ro = pna\n",
    "#lo_ro = Labbrick(name='lo_ro', serial=15257)\n",
    "awg_tek = Tektronix_AWG5014('awg_tek', address = 'TCPIP0::10.20.61.186::inst0::INSTR')\n",
    "adc = Spectrum_M3i2132('adc')"
   ]
  },
  {
   "cell_type": "markdown",
   "metadata": {},
   "source": [
    "### Создаём девайсы"
   ]
  },
  {
   "cell_type": "markdown",
   "metadata": {},
   "source": [
    "### Загружаем импульсные скрипты всякие"
   ]
  },
  {
   "cell_type": "code",
   "execution_count": 14,
   "metadata": {},
   "outputs": [
    {
     "data": {
      "text/plain": [
       "<module 'sweep' from 'D:\\\\qtlab_replacement\\\\scripts\\\\sweep.py'>"
      ]
     },
     "execution_count": 14,
     "metadata": {},
     "output_type": "execute_result"
    }
   ],
   "source": [
    "import awg_digital\n",
    "import awg_iq\n",
    "import data_reduce\n",
    "import imp\n",
    "import fitting\n",
    "import plotting\n",
    "import save_pkl\n",
    "import tomography as tomography_new\n",
    "import tomography_legacy as tomography\n",
    "import sweep\n",
    "imp.reload(awg_digital)\n",
    "imp.reload(awg_iq)\n",
    "imp.reload(data_reduce)\n",
    "imp.reload(fitting)\n",
    "imp.reload(plotting)\n",
    "imp.reload(save_pkl)\n",
    "imp.reload(tomography)\n",
    "imp.reload(tomography_new)\n",
    "imp.reload(sweep)"
   ]
  },
  {
   "cell_type": "markdown",
   "metadata": {},
   "source": [
    "### Осцилляторы"
   ]
  },
  {
   "cell_type": "code",
   "execution_count": 15,
   "metadata": {},
   "outputs": [
    {
     "data": {
      "text/plain": [
       "True"
      ]
     },
     "execution_count": 15,
     "metadata": {},
     "output_type": "execute_result"
    }
   ],
   "source": [
    "# Источник тока - в autorange\n",
    "#current.set_autorange(1)\n",
    "#Мощности гетеродинов, постоянные\n",
    "#Мощность гетеродина для возбуждения 13-16 дБм\n",
    "#lo_ex_pow = 14\n",
    "#lo_ex_pow = 14\n",
    "lo_ex_pow = 14\n",
    "#lo_ex = lo1\n",
    "lo_ex.set_status(1)\n",
    "#lo_ex.set_power(lo_ex_pow)\n",
    "#pna как lo2 (excitation)\n",
    "#Port1 - выход\n",
    "#Мощность гетеродина для считывания 10-13 дБм, с учётом разветвителя 13-16 dBm\n",
    "#lo_ro_pow = 16\n",
    "lo_ro_pow = 16\n",
    "lo_ro.set_power(lo_ro_pow)\n",
    "\n",
    "#lo_ex = pna\n",
    "pna.write(\"OUTP ON\")\n",
    "pna.write(\"SOUR1:POW1:MODE ON\")\n",
    "pna.write(\"SOUR1:POW2:MODE OFF\")\n",
    "pna.set_sweep_mode(\"CW\")\n",
    "lo_ex.set_power(lo_ex_pow)"
   ]
  },
  {
   "cell_type": "markdown",
   "metadata": {},
   "source": [
    "### AWGшки"
   ]
  },
  {
   "cell_type": "code",
   "execution_count": 16,
   "metadata": {},
   "outputs": [
    {
     "name": "stderr",
     "output_type": "stream",
     "text": [
      "root: WARNING  Tektronix_AWG5014 : Clock set to 1000000000.0. This is not fully functional yet. To avoid problems, it is better not to change the clock during operation\n"
     ]
    }
   ],
   "source": [
    "# промежуточные частоты для гетеродинной схемы:\n",
    "ex_if = 125e6\n",
    "ro_if = 75e6\n",
    "# клоки генератора и оцифровщика\n",
    "ex_clock = 1e9\n",
    "ro_clock = 0.5e9\n",
    "\n",
    "rep_rate = 20e3 # частота повторений эксперимента\n",
    "\n",
    "awg_tek.stop()\n",
    "awg_tek.set_clock(ex_clock) # клок всех авгшк\n",
    "awg_tek.set_nop(ex_clock/rep_rate) # репрейт нужно задавать по=хорошему только на управляющей,\n",
    "#awg_tek.run()\n",
    "# а вот длину сэмплов, которая очевидно то же самое, нужно задавать на всех авгшках.\n",
    "# хорошо, что сейчас она только одна.\n",
    "\n",
    "# миксеры подключены к AWG5014 через 6 дБ аттенюаторы. Ставим амплитуду 2В.\n",
    "for channel in range(1,5):\n",
    "    awg_tek.set_amplitude(0.2, channel=channel)\n",
    "    awg_tek.set_offset(0, channel=channel)\n",
    "    awg_tek.set_output(1, channel=channel)\n",
    "# Выходы 1, 2 тектроникс: возбуждение (кубитный тон) через 6 дБ аттенюатор\n",
    "# Выходы 3, 4 тектроникс: считывание (резонаторный тон) через 6 дБ аттенюатор\n",
    "iq_ex = awg_iq.awg_iq(awg_tek, awg_tek, 2, 1, lo_ex)\n",
    "iq_ro = awg_iq.awg_iq(awg_tek, awg_tek, 3, 4, lo_ro)\n",
    "iq_ex.set_if(ex_if)\n",
    "iq_ro.set_if(ro_if)\n",
    "iq_ex.set_sideband_id(-1)\n",
    "iq_ro.set_sideband_id(-1)\n",
    "iq_ex.set_frequency(qubit_params[qubit_id]['F01_min'])\n",
    "iq_ro.set_frequency(qubit_params[qubit_id]['Fr'])\n",
    "\n",
    "# К первому маркере первого канала тектроникса подсоединён триггер оцифровщика.\n",
    "# Надо подавать какой-нибудь триггер, что-ли.\n",
    "# А ещё нужно подавать клок. К сожалению наш оцифровщик не может в 1ГГц клок, ему нужен 500МГц клок.\n",
    "# Будем подавать 500 МГц с цифрового выхода тектроникса.\n",
    "awg_tek.set_marker1_low(-0.0, channel=1)\n",
    "awg_tek.set_marker2_low(-0.0, channel=1)\n",
    "awg_tek.set_marker1_high(1.0, channel=1)\n",
    "awg_tek.set_marker2_high(1.0, channel=1)\n",
    "awg_tek.set_marker1_low(-0.04, channel=2)\n",
    "awg_tek.set_marker2_low(-0.04, channel=2) \n",
    "awg_tek.set_marker1_high(0.04, channel=2) # с клока хватит и такой амплитуды\n",
    "awg_tek.set_marker2_high(0.04, channel=2) # с клока хватит и такой амплитуды\n",
    "ro_trg = awg_digital.awg_digital(awg_tek, 1)\n",
    "osc_trg = awg_digital.awg_digital(awg_tek, 5)\n",
    "ro_adc_clock = awg_digital.awg_digital(awg_tek, 2) #\n",
    "osc_adc_clock = awg_digital.awg_digital(awg_tek, 6) #\n",
    "\n",
    "# тупо клок\n",
    "ro_adc_clock.set_waveform(np.asarray([0,1]*int(ro_adc_clock.get_nop()/2), dtype=int))\n",
    "osc_adc_clock.set_waveform(np.asarray([0,1]*int(ro_adc_clock.get_nop()/2), dtype=int))\n",
    "awg_channels = {'iq_ex':iq_ex, 'iq_ro':iq_ro, 'ro_trg':ro_trg, 'osc_trg':osc_trg}\n",
    "trg_length = 4e-9\n",
    "pg = tomography_new.pulses(awg_channels)\n",
    "awg_tek.set_nop(awg_tek.get_clock()/rep_rate)\n",
    "awg_tek.run()"
   ]
  },
  {
   "cell_type": "markdown",
   "metadata": {},
   "source": [
    "### Оцифровщик"
   ]
  },
  {
   "cell_type": "code",
   "execution_count": 17,
   "metadata": {
    "collapsed": true
   },
   "outputs": [],
   "source": [
    "# настройки оцифровщика\n",
    "adc.set_clock(ro_clock)\n",
    "adc.reset()            \n",
    "adc.set_timeout(10000)\n",
    "\n",
    "\n",
    "#adc.set_spc_samplerate(smp_rate)\n",
    "#External trigger\n",
    "adc.set_trigger_ext0_level0(400) # logical 0 value to 200 mV\n",
    "adc.set_trigger_ext0_level1(600) # logical 1 value to 600 mV\n",
    "adc.trigger_termination_50Ohm()\n",
    "adc.trigger_mode_pos()\n",
    "adc.set_trigger_ext0_pulsewidth(0)\n",
    "adc.disable_trigger_output()\n",
    "adc.select_channel01()\n",
    "adc.set_multi_mode()\n",
    "#adc.set_segmentsize()\n",
    "adc.set_trigger_ORmask_tmask_ext0()\n",
    "adc.set_trigger_ANDmask_tmask_ext0()\n",
    "adc.set_trigger_ORmask_tmask_NO_ch0()\n",
    "adc.set_trigger_ORmask_tmask_NO_ch1()\n",
    "adc.set_trigger_ANDmask_tmask_NO_ch0()\n",
    "adc.set_trigger_ANDmask_tmask_NO_ch1()\n",
    "# усилитель на оцифровщике\n",
    "adc.set_input_amp_ch0(50)\n",
    "adc.set_input_amp_ch1(50)\n",
    "adc.set_input_offset_ch0(0)\n",
    "adc.set_input_offset_ch1(0)\n",
    "\n",
    "#External clock\n",
    "adc.set_reference_clock(adc.get_clock())\n",
    "\n",
    "# \"Измеритель средних прошедших импульсов\"\n",
    "# Просто усредняет всё по номеру сэмпла.\n",
    "adc_reducer = data_reduce.data_reduce(adc)\n",
    "adc_reducer.filters['Mean Voltage (AC)'] = data_reduce.mean_reducer_noavg(adc, 'Voltage', 0)\n",
    "adc_reducer.filters['S21+'] = data_reduce.mean_reducer_freq(adc, 'Voltage', 0, iq_ro.get_if())\n",
    "adc_reducer.filters['S21-'] = data_reduce.mean_reducer_freq(adc, 'Voltage', 0, -iq_ro.get_if())\n"
   ]
  },
  {
   "cell_type": "markdown",
   "metadata": {},
   "source": [
    "### Калибровка миксеров"
   ]
  },
  {
   "cell_type": "code",
   "execution_count": 18,
   "metadata": {
    "scrolled": true
   },
   "outputs": [
    {
     "name": "stdout",
     "output_type": "stream",
     "text": [
      "d:\\qtlab\\ReiData\\data/calibrations//IQ-if1.2e+08-rf4.9e+09-sb--1.pkl\n",
      "4987480000.0\n",
      "[ 0.3  0.3] -31.148273468\n",
      "[ 0.315  0.3  ] -30.8210144043\n",
      "[ 0.3    0.315] -30.8160400391\n",
      "[ 0.315  0.285] -31.0823688507\n",
      "[ 0.3    0.285] -31.3766212463\n",
      "[ 0.2925  0.2775] -31.7407722473\n",
      "[ 0.2775  0.2925] -31.7714729309\n",
      "[ 0.25875  0.29625] -32.0813217163\n",
      "[ 0.25125  0.27375] -32.8236885071\n",
      "[ 0.226875  0.260625] -33.7411384583\n",
      "[ 0.193125  0.279375] -34.0282821655\n",
      "[ 0.1434375  0.2803125] -34.8983840942\n",
      "[ 0.1115625  0.2446875] -36.9492530823\n",
      "[ 0.03796875  0.21890625] -38.209022522\n",
      "[-0.04546875  0.23859375] -35.3982429504\n",
      "[-0.1509375  0.1771875] -32.901184082\n",
      "[ 0.06984375  0.25453125] -36.7741203308\n",
      "[ 0.15328125  0.23484375] -36.5826225281\n",
      "[ 0.10359375  0.23578125] -37.4939956665\n",
      "[ 0.07171875  0.20015625] -39.732131958\n",
      "[ 0.07265625  0.17296875] -41.7441711426\n",
      "[ 0.00703125  0.15609375] -40.0975875854\n",
      "[ 0.04171875  0.11015625] -44.6477928162\n",
      "[ 0.04359375  0.05578125] -45.3684768677\n",
      "[ 0.10921875  0.07265625] -61.2120170593\n",
      "[ 0.1603125  0.0309375] -45.4035110474\n",
      "[ 0.08015625 -0.04453125] -40.5889472961\n",
      "[ 0.07453125  0.11859375] -47.2779808044\n",
      "[ 0.14015625  0.13546875] -43.2571258545\n",
      "[ 0.06773437  0.07570312] -50.3777008057\n",
      "[ 0.10242187  0.02976562] -51.0951652527\n",
      "[ 0.14390625  0.02671875] -47.1207275391\n",
      "[ 0.08677734  0.06345703] -56.9952011108\n",
      "[ 0.09357422  0.10634766] -50.3493995667\n",
      "[ 0.10020996  0.04891113] -57.0111160278\n",
      "[ 0.12265137  0.05811035] -54.2274360657\n",
      "[ 0.09574585  0.06212036] -64.2065811157\n",
      "[ 0.10475464  0.08586548] -55.4258041382\n",
      "[ 0.10134613  0.05814972] -63.5245170593\n",
      "[ 0.08787323  0.04761383] -53.6183586121\n",
      "[ 0.10388237  0.06639565] -69.9201660156\n",
      "[ 0.09828209  0.07036629] -67.6309585571\n",
      "[ 0.10641861  0.07464157] -60.5490760803\n",
      "[ 0.09841404  0.06525066] -70.4515151978\n",
      "[ 0.10401432  0.06128002] -68.4434204102\n",
      "[ 0.10258126  0.06355159] -71.897102356\n",
      "[ 0.09711293  0.06240661] -65.767364502\n",
      "[ 0.10219001  0.06539839] -73.6013870239\n",
      "[ 0.10635723  0.06369931] -65.5889663696\n",
      "[ 0.10039984  0.06486283] -77.5701141357\n",
      "[ 0.10000859  0.06670962] -75.2152023315\n",
      "[ 0.09821841  0.06617406] -74.2236099243\n",
      "[ 0.09921131  0.06598014] -75.7863006592\n",
      "[ 0.09960256  0.06413335] -71.9969177246\n",
      "[ 0.09990708  0.06606555] -75.6859664917\n",
      "Warning: Maximum number of iterations has been exceeded.\n",
      "dc:  1.00e-01+6.49e-02j\tI:  5.00e-01+5.00e-01j\tQ: 5.00e-01+5.00e-01j\tB: -42.63 G: -26.80, C:0.00\n",
      "[-83.64419556 -80.59783173 -26.80427742 -68.87747955 -43.4936676\n",
      " -82.38664246 -79.89824677]\n",
      "dc:  1.05e-01+6.49e-02j\tI:  5.00e-01+5.00e-01j\tQ: 5.00e-01+5.00e-01j\tB: -42.69 G: -26.83, C:0.00\n",
      "[-84.55166626 -80.84895325 -26.82915497 -70.12062836 -43.4773407\n",
      " -83.13299561 -79.45043182]\n",
      "dc:  1.00e-01+6.81e-02j\tI:  5.00e-01+5.00e-01j\tQ: 5.00e-01+5.00e-01j\tB: -42.68 G: -26.84, C:0.00\n",
      "[-84.69611359 -79.85381317 -26.83615303 -70.74491882 -43.46878815\n",
      " -82.63775635 -78.88988495]\n",
      "dc:  1.00e-01+6.49e-02j\tI:  5.25e-01+5.00e-01j\tQ: 5.00e-01+5.00e-01j\tB: -41.69 G: -26.74, C:0.00\n",
      "[-84.17562866 -81.01221466 -26.73663902 -71.1733017  -42.34458923\n",
      " -83.49062347 -79.70388031]\n",
      "dc:  1.00e-01+6.49e-02j\tI:  5.00e-01+5.25e-01j\tQ: 5.00e-01+5.00e-01j\tB: -42.81 G: -26.74, C:0.00\n",
      "[-84.45414734 -81.08374023 -26.74363518 -73.17913055 -43.50532913\n",
      " -81.5897522  -79.50019073]\n",
      "dc:  1.00e-01+6.49e-02j\tI:  5.00e-01+5.00e-01j\tQ: 5.25e-01+5.00e-01j\tB: -43.73 G: -26.77, C:0.00\n",
      "[-83.3885498  -81.34729767 -26.77318001 -72.80361938 -44.51368332\n",
      " -83.73551941 -78.69630432]\n",
      "dc:  1.00e-01+6.49e-02j\tI:  5.00e-01+5.00e-01j\tQ: 5.00e-01+5.25e-01j\tB: -42.38 G: -26.76, C:0.00\n",
      "[-84.27880859 -80.46488953 -26.75840759 -71.3210144  -43.12048721\n",
      " -81.59674835 -78.99484253]\n",
      "dc:  1.02e-01+6.59e-02j\tI:  4.75e-01+5.08e-01j\tQ: 5.08e-01+5.08e-01j\tB: -44.26 G: -26.88, C:0.00\n",
      "[-83.98183441 -81.39472198 -26.87891197 -73.55852509 -45.07500458\n",
      " -82.06943512 -78.86034393]\n",
      "dc:  1.03e-01+6.65e-02j\tI:  4.50e-01+5.12e-01j\tQ: 5.12e-01+5.12e-01j\tB: -45.99 G: -26.94, C:0.00\n",
      "[-84.08359528 -80.98267365 -26.94033241 -76.17776489 -46.87014771\n",
      " -83.1182251  -79.47375488]\n",
      "dc:  1.03e-01+6.65e-02j\tI:  4.83e-01+5.12e-01j\tQ: 5.12e-01+4.79e-01j\tB: -44.35 G: -26.93, C:0.00\n",
      "[-83.82051086 -80.56829071 -26.93177986 -73.42791748 -45.18695831\n",
      " -81.68304443 -79.52507019]\n",
      "dc:  1.04e-01+6.70e-02j\tI:  4.78e-01+5.17e-01j\tQ: 5.17e-01+4.97e-01j\tB: -44.46 G: -26.85, C:0.00\n",
      "[-83.91293335 -79.54049683 -26.85247993 -69.6230545  -45.50727081\n",
      " -82.82123566 -79.31049347]\n",
      "dc:  1.05e-01+6.34e-02j\tI:  4.70e-01+5.22e-01j\tQ: 5.22e-01+4.96e-01j\tB: -45.25 G: -26.86, C:0.00\n",
      "[-84.17798615 -80.70978546 -26.86103058 -70.85998535 -46.32437515\n",
      " -80.98100281 -79.5561676 ]\n",
      "dc:  9.97e-02+6.62e-02j\tI:  4.60e-01+5.30e-01j\tQ: 5.30e-01+4.95e-01j\tB: -46.39 G: -26.86, C:0.00\n",
      "[-83.97241974 -81.1412735  -26.8571434  -73.71479797 -47.457901\n",
      " -81.57264709 -78.81758881]\n",
      "dc:  9.68e-02+6.68e-02j\tI:  4.41e-01+5.44e-01j\tQ: 5.44e-01+4.93e-01j\tB: -48.14 G: -26.85, C:0.00\n",
      "[-83.90555573 -79.60269165 -26.84781456 -67.71674347 -50.08336258\n",
      " -80.24008942 -79.26229095]\n",
      "dc:  1.03e-01+6.68e-02j\tI:  4.41e-01+5.11e-01j\tQ: 5.44e-01+4.93e-01j\tB: -48.50 G: -27.00, C:0.00\n",
      "[-83.98408508 -80.12203217 -26.99941826 -68.2648468  -50.44487762\n",
      " -81.12327576 -78.51126862]\n",
      "dc:  1.05e-01+6.78e-02j\tI:  4.11e-01+5.04e-01j\tQ: 5.67e-01+4.89e-01j\tB: -53.53 G: -27.14, C:0.00\n",
      "[-83.52693939 -82.04389954 -27.13936043 -66.92373657 -57.61921692\n",
      " -81.61851501 -79.03604889]\n",
      "dc:  1.05e-01+6.78e-02j\tI:  4.11e-01+5.37e-01j\tQ: 5.33e-01+4.89e-01j\tB: -49.81 G: -27.09, C:0.00\n",
      "[-84.27328491 -80.71212006 -27.0919342  -66.3989563  -52.46314621\n",
      " -79.90656281 -78.63954926]\n",
      "dc:  1.03e-01+6.67e-02j\tI:  4.04e-01+5.33e-01j\tQ: 5.53e-01+5.13e-01j\tB: -53.12 G: -26.96, C:0.00\n",
      "[-83.79671478 -80.41357422 -26.96287727 -68.99021149 -56.54866409\n",
      " -81.12794495 -78.55091858]\n",
      "dc:  1.02e-01+6.60e-02j\tI:  3.85e-01+5.35e-01j\tQ: 5.61e-01+5.00e-01j\tB: -60.12 G: -27.10, C:0.00\n",
      "[-83.39710236 -81.97781372 -27.09659958 -76.54238892 -66.38111877\n",
      " -81.28032684 -78.11787415]\n",
      "dc:  1.01e-01+6.55e-02j\tI:  3.38e-01+5.44e-01j\tQ: 5.83e-01+5.02e-01j\tB: -52.02 G: -27.21, C:0.00\n",
      "[-84.18777466 -81.87363434 -27.21399498 -79.7400589  -53.75138855\n",
      " -80.60549164 -78.88600159]\n",
      "dc:  1.00e-01+7.05e-02j\tI:  3.63e-01+5.33e-01j\tQ: 5.68e-01+5.02e-01j\tB: -57.04 G: -27.18, C:0.00\n",
      "[-82.91430664 -81.7624588  -27.17901039 -66.60964966 -64.74380493\n",
      " -79.95709991 -79.55227661]\n",
      "dc:  1.01e-01+6.87e-02j\tI:  3.55e-01+5.50e-01j\tQ: 5.96e-01+4.83e-01j\tB: -50.31 G: -27.15, C:0.00\n",
      "[-82.87621307 -81.39006042 -27.14713478 -67.2875824  -53.12398148\n",
      " -78.85388947 -76.94780731]\n",
      "dc:  1.09e-01+6.90e-02j\tI:  3.36e-01+5.20e-01j\tQ: 5.81e-01+4.99e-01j\tB: -49.45 G: -27.36, C:0.00\n",
      "[-82.46882629 -81.83087921 -27.35937881 -60.89147568 -53.56480026\n",
      " -80.21676636 -78.81058502]\n",
      "dc:  1.06e-01+6.85e-02j\tI:  3.62e-01+5.26e-01j\tQ: 5.72e-01+4.98e-01j\tB: -55.29 G: -27.23, C:0.00\n",
      "[-83.43830872 -81.9311676  -27.23498726 -65.31985474 -61.61222076\n",
      " -80.13435364 -79.8391571 ]\n",
      "dc:  1.01e-01+6.82e-02j\tI:  3.49e-01+5.23e-01j\tQ: 6.05e-01+5.06e-01j\tB: -50.03 G: -27.16, C:0.00\n",
      "[-81.27854156 -80.92047882 -27.16190529 -69.6432724  -52.39861679\n",
      " -79.36079407 -77.22691345]\n",
      "dc:  1.02e-01+6.81e-02j\tI:  3.64e-01+5.27e-01j\tQ: 5.87e-01+5.02e-01j\tB: -54.52 G: -27.14, C:0.00\n",
      "[-82.57534027 -81.67927551 -27.14480209 -70.49224854 -58.40366745\n",
      " -80.00063324 -78.29669189]\n",
      "dc:  1.05e-01+6.71e-02j\tI:  4.08e-01+5.03e-01j\tQ: 5.40e-01+5.19e-01j\tB: -49.64 G: -27.13, C:0.00\n",
      "[-83.01226807 -81.21669006 -27.1276989  -67.88700104 -51.98268127\n",
      " -80.28363037 -78.34255981]\n",
      "dc:  1.02e-01+6.83e-02j\tI:  3.68e-01+5.38e-01j\tQ: 5.82e-01+4.92e-01j\tB: -55.29 G: -27.13, C:0.00\n",
      "[-84.72544098 -81.52999878 -27.13314056 -69.89360809 -59.7074585\n",
      " -80.35593414 -77.84887695]\n",
      "dc:  1.03e-01+6.97e-02j\tI:  3.47e-01+5.21e-01j\tQ: 5.93e-01+4.81e-01j\tB: -50.99 G: -27.33, C:0.00\n",
      "[-82.90109253 -83.45030975 -27.33061409 -69.07339478 -53.47383499\n",
      " -80.90248108 -78.2935791 ]\n",
      "dc:  1.03e-01+6.74e-02j\tI:  3.90e-01+5.30e-01j\tQ: 5.63e-01+5.05e-01j\tB: -58.05 G: -27.05, C:0.00\n",
      "[-83.57980347 -81.25322723 -27.05384064 -71.71673584 -64.33641815\n",
      " -79.96797943 -77.62574768]\n",
      "dc:  1.00e-01+6.84e-02j\tI:  3.33e-01+5.59e-01j\tQ: 5.78e-01+5.11e-01j\tB: -51.04 G: -27.13, C:0.00\n",
      "[-82.45405579 -82.804245   -27.1276989  -69.12004089 -53.56790924\n",
      " -80.36759186 -78.85723877]\n"
     ]
    },
    {
     "name": "stdout",
     "output_type": "stream",
     "text": [
      "dc:  1.04e-01+6.80e-02j\tI:  3.92e-01+5.18e-01j\tQ: 5.69e-01+4.94e-01j\tB: -57.97 G: -27.14, C:0.00\n",
      "[-83.65599823 -81.12106323 -27.14480209 -67.31324005 -66.36946106\n",
      " -80.94368744 -79.22186279]\n",
      "dc:  1.04e-01+6.81e-02j\tI:  3.89e-01+5.33e-01j\tQ: 5.51e-01+4.95e-01j\tB: -55.06 G: -27.14, C:0.00\n",
      "[-84.59073639 -81.58441925 -27.14169121 -66.50935364 -60.56188202\n",
      " -79.33124542 -79.54917145]\n",
      "dc:  1.03e-01+6.81e-02j\tI:  3.83e-01+5.32e-01j\tQ: 5.60e-01+4.97e-01j\tB: -57.52 G: -27.13, C:0.00\n",
      "[-83.59841919 -81.4631424  -27.13469505 -65.31907654 -67.65148163\n",
      " -79.9088974  -78.29047394]\n",
      "dc:  9.91e-02+6.76e-02j\tI:  3.98e-01+5.36e-01j\tQ: 5.62e-01+4.99e-01j\tB: -56.47 G: -27.01, C:0.00\n",
      "[-83.26338196 -80.42913055 -27.01341248 -74.04754639 -60.61163712\n",
      " -80.3808136  -79.02439117]\n",
      "dc:  1.02e-01+6.76e-02j\tI:  4.02e-01+5.23e-01j\tQ: 5.46e-01+5.08e-01j\tB: -53.03 G: -27.09, C:0.00\n",
      "[-84.21809387 -81.87674713 -27.08882523 -72.49185944 -55.73000717\n",
      " -80.4950943  -78.20106506]\n",
      "dc:  1.02e-01+6.81e-02j\tI:  3.77e-01+5.34e-01j\tQ: 5.73e-01+4.96e-01j\tB: -59.25 G: -27.11, C:0.00\n",
      "[-82.22625732 -80.23864746 -27.1098156  -70.43782806 -68.13505554\n",
      " -79.37089539 -78.784935  ]\n",
      "dc:  1.06e-01+6.84e-02j\tI:  3.65e-01+5.25e-01j\tQ: 5.69e-01+4.99e-01j\tB: -55.78 G: -27.23, C:0.00\n",
      "[-82.22237396 -82.15196228 -27.22721291 -63.95697403 -64.02931976\n",
      " -80.22376251 -79.15189362]\n",
      "dc:  1.01e-01+6.78e-02j\tI:  3.90e-01+5.33e-01j\tQ: 5.64e-01+4.99e-01j\tB: -58.72 G: -27.07, C:0.00\n",
      "[-82.57144928 -82.22815704 -27.07016563 -72.31149292 -65.41241455\n",
      " -79.33202362 -78.39698029]\n",
      "dc:  1.05e-01+6.47e-02j\tI:  4.08e-01+5.27e-01j\tQ: 5.62e-01+4.95e-01j\tB: -53.75 G: -27.02, C:0.00\n",
      "[-83.13199615 -81.00211334 -27.01885414 -67.03180695 -58.21008301\n",
      " -79.66166687 -78.60533905]\n",
      "dc:  1.01e-01+6.90e-02j\tI:  3.75e-01+5.32e-01j\tQ: 5.66e-01+5.00e-01j\tB: -60.32 G: -27.08, C:0.00\n",
      "[-82.69049835 -80.8669281  -27.08114815 -67.22315216 -76.37849426\n",
      " -81.20500946 -78.00213623]\n",
      "dc:  1.01e-01+6.74e-02j\tI:  3.86e-01+5.29e-01j\tQ: 5.72e-01+5.01e-01j\tB: -61.57 G: -27.06, C:0.00\n",
      "[-84.33463287 -81.07684326 -27.06326675 -70.77767181 -74.43330383\n",
      " -80.27362061 -79.18697357]\n",
      "dc:  9.99e-02+6.70e-02j\tI:  3.88e-01+5.28e-01j\tQ: 5.78e-01+5.04e-01j\tB: -62.33 G: -27.02, C:0.00\n",
      "[-83.89837646 -81.74311829 -27.02361679 -76.18330383 -71.66790009\n",
      " -80.69888306 -79.0960083 ]\n",
      "dc:  9.93e-02+6.72e-02j\tI:  3.76e-01+5.46e-01j\tQ: 5.65e-01+5.07e-01j\tB: -59.55 G: -27.03, C:0.00\n",
      "[-84.33714294 -81.97246552 -27.02594757 -70.97747803 -67.80551147\n",
      " -79.98518372 -78.23303986]\n",
      "dc:  9.88e-02+6.76e-02j\tI:  3.74e-01+5.39e-01j\tQ: 5.73e-01+4.97e-01j\tB: -58.13 G: -27.10, C:0.00\n",
      "[-83.79292297 -82.30444336 -27.09747505 -70.54132843 -64.85430145\n",
      " -80.543396   -77.34751892]\n",
      "dc:  9.98e-02+6.76e-02j\tI:  3.78e-01+5.37e-01j\tQ: 5.70e-01+4.99e-01j\tB: -60.58 G: -27.10, C:0.00\n",
      "[-83.31556702 -81.98179626 -27.09591866 -71.26669312 -70.53048706\n",
      " -79.9019928  -78.71817017]\n",
      "dc:  1.01e-01+6.71e-02j\tI:  3.69e-01+5.37e-01j\tQ: 5.74e-01+5.03e-01j\tB: -59.30 G: -27.10, C:0.00\n",
      "[-83.29846191 -82.63253021 -27.10291672 -76.62956238 -64.97091675\n",
      " -79.9019928  -77.76034546]\n",
      "dc:  9.91e-02+6.65e-02j\tI:  3.80e-01+5.37e-01j\tQ: 5.65e-01+5.09e-01j\tB: -62.52 G: -27.05, C:0.00\n",
      "[-83.23937988 -82.24147034 -27.05082703 -73.06105042 -75.08636475\n",
      " -80.55661011 -79.19708252]\n",
      "dc:  9.76e-02+6.57e-02j\tI:  3.82e-01+5.38e-01j\tQ: 5.62e-01+5.15e-01j\tB: -59.68 G: -27.01, C:0.00\n",
      "[-84.25754547 -80.66479492 -27.01039886 -73.16912079 -67.21386719\n",
      " -80.23629761 -77.69348145]\n",
      "dc:  9.98e-02+6.73e-02j\tI:  3.91e-01+5.34e-01j\tQ: 5.61e-01+5.03e-01j\tB: -58.25 G: -27.03, C:0.00\n",
      "[-84.44771576 -81.98179626 -27.03294563 -73.47776794 -63.34059525\n",
      " -82.07498169 -79.00659943]\n",
      "dc:  1.01e-01+6.72e-02j\tI:  3.75e-01+5.37e-01j\tQ: 5.71e-01+5.03e-01j\tB: -60.27 G: -27.09, C:0.00\n",
      "[-81.36882782 -81.82086945 -27.0889225  -70.86940765 -70.6603241\n",
      " -80.66001129 -77.67093658]\n",
      "dc:  1.02e-01+6.73e-02j\tI:  3.84e-01+5.22e-01j\tQ: 5.72e-01+4.98e-01j\tB: -60.51 G: -27.14, C:0.00\n",
      "[-83.49516296 -82.49102783 -27.1386795  -70.32130432 -71.21153259\n",
      " -80.19042969 -78.20504761]\n",
      "dc:  9.86e-02+6.88e-02j\tI:  3.75e-01+5.29e-01j\tQ: 5.80e-01+5.04e-01j\tB: -57.17 G: -27.08, C:0.00\n",
      "[-82.19059753 -80.57305145 -27.08036995 -67.51236725 -64.86595917\n",
      " -80.13678741 -78.15373993]\n",
      "dc:  1.01e-01+6.67e-02j\tI:  3.82e-01+5.33e-01j\tQ: 5.66e-01+5.01e-01j\tB: -61.26 G: -27.10, C:0.00\n",
      "[-83.50526428 -82.7514801  -27.10447121 -71.21459961 -73.51746368\n",
      " -79.89655304 -77.15626526]\n",
      "dc:  1.00e-01+6.75e-02j\tI:  3.87e-01+5.26e-01j\tQ: 5.68e-01+5.01e-01j\tB: -60.15 G: -27.11, C:0.00\n",
      "[-82.72003937 -81.69880676 -27.11224556 -70.92927551 -69.59598541\n",
      " -80.21686554 -78.79747009]\n",
      "dc:  1.01e-01+6.73e-02j\tI:  3.78e-01+5.34e-01j\tQ: 5.70e-01+5.02e-01j\tB: -61.46 G: -27.09, C:0.00\n",
      "[-82.24034882 -82.29122162 -27.0889225  -69.67913055 -76.69569397\n",
      " -79.50549316 -79.0796814 ]\n",
      "dc:  9.94e-02+6.51e-02j\tI:  3.89e-01+5.32e-01j\tQ: 5.74e-01+5.04e-01j\tB: -61.86 G: -27.03, C:0.00\n",
      "[-83.16163635 -81.92193604 -27.02983665 -72.25250244 -73.18004608\n",
      " -81.0293045  -79.5515976 ]\n",
      "dc:  9.83e-02+6.61e-02j\tI:  3.81e-01+5.45e-01j\tQ: 5.69e-01+5.08e-01j\tB: -60.39 G: -26.97, C:0.00\n",
      "[-83.116539   -81.75866699 -26.97463608 -70.5599823  -70.66964722\n",
      " -80.09869385 -78.71039581]\n",
      "dc:  9.92e-02+6.64e-02j\tI:  3.82e-01+5.39e-01j\tQ: 5.70e-01+5.06e-01j\tB: -61.79 G: -27.02, C:0.00\n",
      "[-83.36843872 -81.6568222  -27.01972961 -70.56465149 -75.78607178\n",
      " -80.6942215  -78.9825058 ]\n",
      "dc:  9.99e-02+6.54e-02j\tI:  3.89e-01+5.31e-01j\tQ: 5.71e-01+5.09e-01j\tB: -59.12 G: -27.01, C:0.00\n",
      "[-83.02480316 -80.92757416 -27.00806618 -70.47912598 -67.40901184\n",
      " -80.45165253 -78.01535034]\n",
      "dc:  9.99e-02+6.70e-02j\tI:  3.80e-01+5.35e-01j\tQ: 5.70e-01+5.02e-01j\tB: -62.18 G: -27.07, C:0.00\n",
      "[-84.42343903 -80.4152298  -27.07104111 -72.49895477 -76.73067474\n",
      " -80.45942688 -76.79319   ]\n",
      "dc:  9.80e-02+6.64e-02j\tI:  3.84e-01+5.35e-01j\tQ: 5.77e-01+5.07e-01j\tB: -61.40 G: -27.01, C:0.00\n",
      "[-81.98612213 -82.28967285 -27.00884438 -70.40138245 -76.65448761\n",
      " -78.68294525 -77.77589417]\n",
      "dc:  9.80e-02+6.55e-02j\tI:  3.90e-01+5.35e-01j\tQ: 5.75e-01+5.08e-01j\tB: -61.07 G: -26.98, C:0.00\n",
      "[-82.13228607 -82.15905762 -26.98007774 -72.13587952 -72.0177536\n",
      " -79.97818756 -77.76656342]\n",
      "dc:  9.99e-02+6.68e-02j\tI:  3.81e-01+5.34e-01j\tQ: 5.71e-01+5.04e-01j\tB: -63.78 G: -27.07, C:0.00\n",
      "[-81.38748169 -81.83952332 -27.06793022 -73.6542511  -84.27246857\n",
      " -81.79509735 -77.64839172]\n",
      "dc:  1.01e-01+6.66e-02j\tI:  3.83e-01+5.33e-01j\tQ: 5.66e-01+5.02e-01j\tB: -61.80 G: -27.08, C:0.00\n",
      "[-83.80770111 -81.19035339 -27.07648277 -73.91625214 -72.57985687\n",
      " -80.0893631  -78.003685  ]\n",
      "dc:  1.00e-01+6.65e-02j\tI:  3.83e-01+5.34e-01j\tQ: 5.69e-01+5.03e-01j\tB: -62.15 G: -27.06, C:0.00\n",
      "[-83.7385025  -80.60726166 -27.06482124 -71.97961426 -76.38937378\n",
      " -80.23163605 -78.28046417]\n",
      "dc:  1.00e-01+6.66e-02j\tI:  3.85e-01+5.27e-01j\tQ: 5.73e-01+5.02e-01j\tB: -61.10 G: -27.08, C:0.00\n",
      "[-84.16326141 -80.55516815 -27.07881546 -72.65755463 -72.18257141\n",
      " -78.78868103 -77.59941101]\n",
      "dc:  9.95e-02+6.64e-02j\tI:  3.83e-01+5.36e-01j\tQ: 5.71e-01+5.05e-01j\tB: -63.09 G: -27.04, C:0.00\n",
      "[-83.36843872 -81.06673431 -27.0391655  -72.81926727 -80.15924835\n",
      " -80.9958725  -77.83964539]\n",
      "dc:  1.00e-01+6.84e-02j\tI:  3.76e-01+5.36e-01j\tQ: 5.68e-01+5.05e-01j\tB: -61.55 G: -27.09, C:0.00\n",
      "[-82.97038269 -81.05895996 -27.08969879 -69.335495   -77.79423523\n",
      " -81.3332901  -78.36986542]\n",
      "dc:  9.96e-02+6.59e-02j\tI:  3.86e-01+5.33e-01j\tQ: 5.72e-01+5.04e-01j\tB: -62.76 G: -27.04, C:0.00\n",
      "[-82.25978851 -81.40803528 -27.03527832 -73.67835236 -76.79987335\n",
      " -80.30627441 -78.62020874]\n",
      "dc:  9.89e-02+6.67e-02j\tI:  3.83e-01+5.34e-01j\tQ: 5.74e-01+5.06e-01j\tB: -63.57 G: -27.03, C:0.00\n",
      "[-83.4547348  -81.04030609 -27.02828026 -73.66124725 -81.8315506\n",
      " -79.89655304 -78.60932159]\n",
      "dc:  9.91e-02+6.61e-02j\tI:  3.86e-01+5.32e-01j\tQ: 5.73e-01+5.09e-01j\tB: -59.59 G: -27.02, C:0.00\n",
      "[-83.51615143 -81.27820587 -27.01661873 -67.91197968 -71.49608612\n",
      " -79.70841217 -78.13663483]\n",
      "dc:  9.97e-02+6.68e-02j\tI:  3.82e-01+5.35e-01j\tQ: 5.71e-01+5.03e-01j\tB: -63.17 G: -27.05, C:0.00\n",
      "[-83.44074249 -81.2043457  -27.05160522 -71.74327087 -83.52611542\n",
      " -79.80558777 -78.9801712 ]\n",
      "dc:  9.90e-02+6.61e-02j\tI:  3.77e-01+5.42e-01j\tQ: 5.64e-01+5.07e-01j\tB: -60.99 G: -27.06, C:0.00\n",
      "[-84.30149078 -81.24943542 -27.06248856 -72.88612366 -70.59034729\n",
      " -80.85048676 -77.62351227]\n"
     ]
    },
    {
     "name": "stdout",
     "output_type": "stream",
     "text": [
      "dc:  9.97e-02+6.68e-02j\tI:  3.85e-01+5.31e-01j\tQ: 5.74e-01+5.04e-01j\tB: -61.65 G: -27.04, C:0.00\n",
      "[-84.27728271 -82.78179932 -27.0383873  -69.5026474  -76.96702576\n",
      " -80.61414337 -78.16539764]\n",
      "dc:  9.94e-02+6.68e-02j\tI:  3.82e-01+5.34e-01j\tQ: 5.73e-01+5.05e-01j\tB: -62.57 G: -27.04, C:0.00\n",
      "[-84.21585846 -82.5819931  -27.0383873  -70.82975769 -82.71862793\n",
      " -78.57876587 -77.76034546]\n",
      "dc:  9.98e-02+6.68e-02j\tI:  3.81e-01+5.34e-01j\tQ: 5.71e-01+5.03e-01j\tB: -63.62 G: -27.07, C:0.00\n",
      "[-83.78514862 -80.13768005 -27.06948662 -72.61946106 -84.91427612\n",
      " -81.42969513 -78.35431671]\n",
      "dc:  9.97e-02+6.66e-02j\tI:  3.82e-01+5.35e-01j\tQ: 5.71e-01+5.04e-01j\tB: -62.78 G: -27.05, C:0.00\n",
      "[-82.3795166  -81.00298309 -27.05315971 -70.83131409 -84.49356079\n",
      " -79.93154144 -78.91408539]\n",
      "dc:  9.97e-02+6.64e-02j\tI:  3.83e-01+5.34e-01j\tQ: 5.72e-01+5.04e-01j\tB: -62.51 G: -27.04, C:0.00\n",
      "[-82.56066132 -82.21892548 -27.03683281 -70.86086273 -84.13053894\n",
      " -79.61045074 -76.84139252]\n",
      "dc:  9.95e-02+6.67e-02j\tI:  3.81e-01+5.36e-01j\tQ: 5.68e-01+5.06e-01j\tB: -62.13 G: -27.06, C:0.00\n",
      "[-83.79837036 -80.12523651 -27.05782318 -69.58350372 -82.96196747\n",
      " -80.1049118  -78.60699463]\n",
      "dc:  9.99e-02+6.69e-02j\tI:  3.84e-01+5.31e-01j\tQ: 5.75e-01+5.04e-01j\tB: -62.16 G: -27.03, C:0.00\n",
      "[-83.8916626  -80.98355103 -27.03450012 -71.47582245 -76.73534393\n",
      " -80.27983856 -78.57822418]\n",
      "dc:  1.00e-01+6.68e-02j\tI:  3.84e-01+5.32e-01j\tQ: 5.76e-01+5.02e-01j\tB: -62.09 G: -27.06, C:0.00\n",
      "[-83.67491913 -81.41892242 -27.05782318 -69.8237381  -81.43115997\n",
      " -78.36264038 -79.35878754]\n",
      "dc:  9.96e-02+6.67e-02j\tI:  3.81e-01+5.35e-01j\tQ: 5.70e-01+5.05e-01j\tB: -62.83 G: -27.07, C:0.00\n",
      "[-83.13130951 -79.72174072 -27.06637573 -70.67816162 -84.79973602\n",
      " -80.77585602 -79.40543365]\n",
      "dc:  9.95e-02+6.64e-02j\tI:  3.79e-01+5.38e-01j\tQ: 5.68e-01+5.05e-01j\tB: -62.41 G: -27.06, C:0.00\n",
      "[-83.23937988 -81.71669006 -27.05937958 -72.43986511 -75.98043823\n",
      " -79.91599274 -79.32225037]\n",
      "dc:  9.96e-02+6.66e-02j\tI:  3.80e-01+5.36e-01j\tQ: 5.70e-01+5.04e-01j\tB: -62.88 G: -27.06, C:0.00\n",
      "[-83.31712341 -81.57052612 -27.06248856 -71.45172119 -81.33786774\n",
      " -80.38090515 -78.61009979]\n",
      "dc:  9.96e-02+6.71e-02j\tI:  3.79e-01+5.36e-01j\tQ: 5.70e-01+5.05e-01j\tB: -62.50 G: -27.06, C:0.00\n",
      "[-82.91284943 -80.61503601 -27.06326675 -70.92150116 -80.97868347\n",
      " -80.94611359 -78.29911804]\n",
      "dc:  9.97e-02+6.65e-02j\tI:  3.82e-01+5.34e-01j\tQ: 5.71e-01+5.04e-01j\tB: -63.62 G: -27.06, C:0.00\n",
      "[-83.54414368 -81.08695221 -27.05937958 -72.85969543 -84.27869415\n",
      " -79.95796967 -78.76403809]\n",
      "dc:  1.00e-01+6.66e-02j\tI:  3.81e-01+5.35e-01j\tQ: 5.69e-01+5.04e-01j\tB: -63.41 G: -27.07, C:0.00\n",
      "[-83.08466339 -81.28053284 -27.07104111 -73.38291931 -80.1491394\n",
      " -81.65359497 -78.14907074]\n",
      "dc:  9.98e-02+6.67e-02j\tI:  3.81e-01+5.34e-01j\tQ: 5.70e-01+5.04e-01j\tB: -62.27 G: -27.08, C:0.00\n",
      "[-81.93403625 -80.79929352 -27.07570457 -69.82995605 -83.80252075\n",
      " -80.98265839 -78.21593475]\n",
      "dc:  9.97e-02+6.66e-02j\tI:  3.82e-01+5.35e-01j\tQ: 5.71e-01+5.04e-01j\tB: -62.71 G: -27.06, C:0.00\n",
      "[-83.23238373 -80.22631073 -27.05782318 -70.40138245 -84.66847992\n",
      " -81.03707886 -78.67462921]\n",
      "dc:  9.98e-02+6.67e-02j\tI:  3.82e-01+5.34e-01j\tQ: 5.71e-01+5.04e-01j\tB: -63.81 G: -27.06, C:0.00\n",
      "[-82.74288177 -82.73670959 -27.05626869 -73.43889618 -84.4118042\n",
      " -79.12998199 -78.73604584]\n",
      "dc:  9.98e-02+6.68e-02j\tI:  3.81e-01+5.34e-01j\tQ: 5.71e-01+5.04e-01j\tB: -63.50 G: -27.07, C:0.00\n",
      "[-82.45959473 -81.62805939 -27.06637573 -72.07368469 -84.5863266\n",
      " -80.84115601 -79.08357239]\n",
      "dc:  9.99e-02+6.67e-02j\tI:  3.81e-01+5.35e-01j\tQ: 5.70e-01+5.04e-01j\tB: -63.11 G: -27.06, C:0.00\n",
      "[-81.86095428 -81.83252716 -27.05626869 -71.15473938 -84.14058685\n",
      " -81.57429504 -78.79202271]\n",
      "dc:  9.97e-02+6.67e-02j\tI:  3.81e-01+5.35e-01j\tQ: 5.71e-01+5.04e-01j\tB: -62.01 G: -27.06, C:0.00\n",
      "[-84.09613037 -80.97344208 -27.06482124 -68.95143127 -84.1616745\n",
      " -79.45573425 -78.65130615]\n",
      "dc:  9.97e-02+6.68e-02j\tI:  3.81e-01+5.34e-01j\tQ: 5.71e-01+5.04e-01j\tB: -63.82 G: -27.06, C:0.00\n",
      "[-83.75016785 -80.48286438 -27.06093407 -73.51197815 -84.99134827\n",
      " -79.91521454 -78.68318176]\n",
      "dc:  9.98e-02+6.67e-02j\tI:  3.81e-01+5.35e-01j\tQ: 5.71e-01+5.04e-01j\tB: -63.09 G: -27.05, C:0.00\n",
      "[-83.74394989 -80.42300415 -27.04616165 -71.77980804 -84.89533997\n",
      " -79.98596191 -78.03245544]\n",
      "dc:  9.99e-02+6.68e-02j\tI:  3.82e-01+5.34e-01j\tQ: 5.72e-01+5.04e-01j\tB: -63.55 G: -27.07, C:0.00\n",
      "[-83.12820435 -82.59598541 -27.06948662 -71.70128632 -84.83629608\n",
      " -82.35719299 -77.91194916]\n",
      "dc:  9.99e-02+6.68e-02j\tI:  3.81e-01+5.34e-01j\tQ: 5.71e-01+5.04e-01j\tB: -63.94 G: -27.06, C:0.00\n",
      "[-84.27716064 -80.19210052 -27.06093407 -73.58272552 -83.5790863\n",
      " -81.76554871 -78.45616913]\n",
      "dc:  1.00e-01+6.68e-02j\tI:  3.81e-01+5.33e-01j\tQ: 5.71e-01+5.03e-01j\tB: -64.37 G: -27.08, C:0.00\n",
      "[-83.51071167 -81.65370941 -27.07959366 -73.70478058 -84.71855927\n",
      " -81.01997375 -79.85636139]\n",
      "dc:  9.98e-02+6.69e-02j\tI:  3.82e-01+5.33e-01j\tQ: 5.72e-01+5.04e-01j\tB: -63.69 G: -27.07, C:0.00\n",
      "[-82.72081757 -81.86829376 -27.06637573 -73.33937836 -83.30016327\n",
      " -80.55272675 -78.23303986]\n",
      "dc:  9.99e-02+6.68e-02j\tI:  3.81e-01+5.33e-01j\tQ: 5.71e-01+5.04e-01j\tB: -63.57 G: -27.06, C:0.00\n",
      "[-83.90605164 -82.16139221 -27.06482124 -71.86455536 -84.16928864\n",
      " -80.2572937  -79.39066315]\n",
      "dc:  9.98e-02+6.68e-02j\tI:  3.81e-01+5.34e-01j\tQ: 5.71e-01+5.04e-01j\tB: -63.03 G: -27.07, C:0.00\n",
      "[-84.58699799 -82.10230255 -27.06870842 -70.80099487 -84.96698761\n",
      " -79.4837265  -78.65674591]\n",
      "dc:  9.99e-02+6.68e-02j\tI:  3.81e-01+5.34e-01j\tQ: 5.71e-01+5.04e-01j\tB: -63.37 G: -27.06, C:0.00\n",
      "[-82.48913574 -81.40881348 -27.05937958 -72.77883911 -84.16558838\n",
      " -80.51307678 -77.56443024]\n",
      "dc:  9.99e-02+6.68e-02j\tI:  3.81e-01+5.34e-01j\tQ: 5.71e-01+5.04e-01j\tB: -62.67 G: -27.08, C:0.00\n",
      "[-83.02013397 -80.39346313 -27.07959366 -70.80643463 -84.53643799\n",
      " -80.92978668 -77.5838623 ]\n",
      "dc:  9.99e-02+6.68e-02j\tI:  3.81e-01+5.34e-01j\tQ: 5.71e-01+5.04e-01j\tB: -64.12 G: -27.06, C:0.00\n",
      "[-84.36590576 -82.59676361 -27.05626869 -73.22042847 -84.78414154\n",
      " -80.50141144 -78.62953949]\n",
      "dc:  9.99e-02+6.68e-02j\tI:  3.81e-01+5.34e-01j\tQ: 5.71e-01+5.04e-01j\tB: -63.31 G: -27.07, C:0.00\n",
      "[-83.35871124 -81.75711823 -27.07104111 -71.3343277  -84.47099304\n",
      " -81.79587555 -78.35276794]\n",
      "dc:  9.99e-02+6.69e-02j\tI:  3.81e-01+5.33e-01j\tQ: 5.72e-01+5.04e-01j\tB: -63.14 G: -27.07, C:0.00\n",
      "[-83.42596436 -81.90638733 -27.07104111 -71.38719177 -84.61708832\n",
      " -79.92998505 -78.43906403]\n",
      "dc:  9.99e-02+6.68e-02j\tI:  3.81e-01+5.33e-01j\tQ: 5.71e-01+5.04e-01j\tB: -63.88 G: -27.06, C:0.00\n",
      "[-83.92166138 -82.89841461 -27.06326675 -72.41188049 -84.12052917\n",
      " -80.79684448 -79.05325317]\n",
      "dc:  1.00e-01+6.68e-02j\tI:  3.81e-01+5.34e-01j\tQ: 5.71e-01+5.04e-01j\tB: -62.86 G: -27.08, C:0.00\n",
      "[-84.37277985 -80.62669373 -27.07648277 -71.04589081 -84.50831604\n",
      " -79.78226471 -78.15140533]\n",
      "dc:  1.00e-01+6.68e-02j\tI:  3.81e-01+5.33e-01j\tQ: 5.72e-01+5.03e-01j\tB: -62.97 G: -27.08, C:0.00\n",
      "[-82.6648407  -81.53787231 -27.07959366 -71.56756592 -84.54052734\n",
      " -79.53426361 -78.10242462]\n",
      "dc:  9.99e-02+6.68e-02j\tI:  3.81e-01+5.33e-01j\tQ: 5.71e-01+5.04e-01j\tB: -62.90 G: -27.07, C:0.00\n",
      "[-82.29788208 -81.06517792 -27.07104111 -71.64064789 -84.72366333\n",
      " -79.96496582 -77.68104553]\n",
      "dc:  9.99e-02+6.68e-02j\tI:  3.81e-01+5.33e-01j\tQ: 5.71e-01+5.04e-01j\tB: -63.34 G: -27.07, C:0.00\n",
      "[-83.52004242 -81.34506226 -27.07104111 -71.73937988 -84.02552032\n",
      " -80.98420715 -78.61321259]\n",
      "dc:  9.99e-02+6.68e-02j\tI:  3.81e-01+5.34e-01j\tQ: 5.71e-01+5.04e-01j\tB: -62.85 G: -27.06, C:0.00\n",
      "[-82.86153412 -80.91668701 -27.06248856 -71.26513672 -83.65933228\n",
      " -81.22755432 -77.53955078]\n",
      "dc:  1.00e-01+6.68e-02j\tI:  3.81e-01+5.33e-01j\tQ: 5.71e-01+5.03e-01j\tB: -63.51 G: -27.07, C:0.00\n",
      "[-81.56163788 -82.81445312 -27.06870842 -72.35046387 -84.18817139\n",
      " -80.71987915 -78.66452026]\n",
      "dc:  1.00e-01+6.68e-02j\tI:  3.81e-01+5.34e-01j\tQ: 5.71e-01+5.04e-01j\tB: -63.78 G: -27.06, C:0.00\n",
      "[-84.15132904 -82.91085815 -27.06404305 -72.07135773 -83.83148956\n",
      " -82.17915344 -78.26102448]\n",
      "dc:  1.00e-01+6.68e-02j\tI:  3.81e-01+5.33e-01j\tQ: 5.71e-01+5.04e-01j\tB: -62.59 G: -27.07, C:0.00\n",
      "[-84.01216888 -81.60162354 -27.06793022 -69.70011902 -84.48725128\n",
      " -80.9966507  -78.42662048]\n",
      "dc:  9.99e-02+6.68e-02j\tI:  3.81e-01+5.34e-01j\tQ: 5.71e-01+5.04e-01j\tB: -63.63 G: -27.06, C:0.00\n",
      "[-82.59409332 -82.46070862 -27.06248856 -73.51741791 -84.33885193\n",
      " -79.10821533 -77.97180939]\n"
     ]
    },
    {
     "name": "stdout",
     "output_type": "stream",
     "text": [
      "dc:  1.00e-01+6.68e-02j\tI:  3.81e-01+5.34e-01j\tQ: 5.71e-01+5.04e-01j\tB: -63.70 G: -27.07, C:0.00\n",
      "[-82.19603729 -81.57052612 -27.06948662 -73.23831177 -85.03606415\n",
      " -81.11871338 -77.7206955 ]\n",
      "dc:  9.99e-02+6.68e-02j\tI:  3.81e-01+5.34e-01j\tQ: 5.71e-01+5.04e-01j\tB: -62.47 G: -27.06, C:0.00\n",
      "[-83.37543488 -81.07062531 -27.06248856 -69.99477386 -84.39737701\n",
      " -79.01880646 -79.34168243]\n",
      "dc:  1.00e-01+6.68e-02j\tI:  3.81e-01+5.33e-01j\tQ: 5.71e-01+5.04e-01j\tB: -64.25 G: -27.06, C:0.00\n",
      "[-83.25881195 -83.31591034 -27.06326675 -74.03520203 -84.14324951\n",
      " -79.99917603 -78.77880859]\n",
      "dc:  1.00e-01+6.68e-02j\tI:  3.81e-01+5.34e-01j\tQ: 5.71e-01+5.04e-01j\tB: -63.22 G: -27.07, C:0.00\n",
      "[-83.27980804 -82.68927765 -27.0725956  -72.48728943 -84.11495209\n",
      " -79.89733124 -76.60971069]\n",
      "dc:  9.99e-02+6.68e-02j\tI:  3.81e-01+5.34e-01j\tQ: 5.71e-01+5.04e-01j\tB: -63.70 G: -27.07, C:0.00\n",
      "[-84.65278625 -82.45915222 -27.0725956  -72.20274353 -84.64149475\n",
      " -79.52881622 -79.18075562]\n",
      "dc:  1.00e-01+6.68e-02j\tI:  3.81e-01+5.34e-01j\tQ: 5.71e-01+5.04e-01j\tB: -62.70 G: -27.06, C:0.00\n",
      "[-83.02402496 -80.70444489 -27.06248856 -71.16173553 -84.39781189\n",
      " -79.04679871 -78.32633209]\n",
      "dc:  1.00e-01+6.68e-02j\tI:  3.81e-01+5.34e-01j\tQ: 5.71e-01+5.04e-01j\tB: -63.75 G: -27.07, C:0.00\n",
      "[-83.03102112 -82.41717529 -27.06793022 -72.13043976 -84.42399597\n",
      " -81.96302795 -78.74227142]\n",
      "dc:  9.99e-02+6.68e-02j\tI:  3.81e-01+5.33e-01j\tQ: 5.71e-01+5.04e-01j\tB: -63.39 G: -27.06, C:0.00\n",
      "[-83.61566925 -81.77266693 -27.05937958 -71.82801056 -84.52243805\n",
      " -81.00442505 -78.0736618 ]\n",
      "dc:  1.00e-01+6.68e-02j\tI:  3.81e-01+5.34e-01j\tQ: 5.71e-01+5.04e-01j\tB: -62.72 G: -27.06, C:0.00\n",
      "[-82.6842804  -83.26303864 -27.05782318 -70.13549805 -84.72122955\n",
      " -81.33483887 -77.48901367]\n",
      "dc:  1.00e-01+6.68e-02j\tI:  3.81e-01+5.33e-01j\tQ: 5.71e-01+5.04e-01j\tB: -62.02 G: -27.08, C:0.00\n",
      "[-82.88563538 -82.40784454 -27.07803726 -68.54793549 -84.68736267\n",
      " -80.00461578 -78.90631104]\n",
      "dc:  9.99e-02+6.68e-02j\tI:  3.81e-01+5.34e-01j\tQ: 5.71e-01+5.04e-01j\tB: -62.81 G: -27.07, C:0.00\n",
      "[-83.45162201 -82.44282532 -27.06793022 -70.45191956 -84.19229126\n",
      " -80.0691452  -78.40329742]\n",
      "dc:  1.00e-01+6.68e-02j\tI:  3.81e-01+5.33e-01j\tQ: 5.71e-01+5.04e-01j\tB: -63.41 G: -27.07, C:0.00\n",
      "[-83.95230103 -82.5485611  -27.06637573 -72.26571655 -83.07936096\n",
      " -79.73173523 -78.41651917]\n",
      "dc:  1.00e-01+6.68e-02j\tI:  3.81e-01+5.34e-01j\tQ: 5.71e-01+5.03e-01j\tB: -64.17 G: -27.06, C:0.00\n",
      "[-81.95191956 -81.83641815 -27.05782318 -74.88884735 -84.37615967\n",
      " -80.14689636 -78.48337555]\n",
      "dc:  1.00e-01+6.68e-02j\tI:  3.81e-01+5.33e-01j\tQ: 5.71e-01+5.04e-01j\tB: -63.15 G: -27.05, C:0.00\n",
      "[-83.24715424 -82.6978302  -27.05160522 -70.68282318 -84.26598358\n",
      " -80.59626007 -79.45053101]\n",
      "dc:  1.00e-01+6.68e-02j\tI:  3.81e-01+5.34e-01j\tQ: 5.71e-01+5.04e-01j\tB: -63.43 G: -27.06, C:0.00\n",
      "[-82.76435089 -83.96897125 -27.05782318 -71.07154846 -84.37006378\n",
      " -82.18926239 -78.42895508]\n",
      "dc:  1.00e-01+6.68e-02j\tI:  3.81e-01+5.34e-01j\tQ: 5.71e-01+5.04e-01j\tB: -62.23 G: -27.07, C:0.00\n",
      "[-81.84462738 -81.51454926 -27.06715393 -70.19302368 -83.94002533\n",
      " -80.3902359  -77.04586792]\n",
      "dc:  1.00e-01+6.68e-02j\tI:  3.81e-01+5.34e-01j\tQ: 5.71e-01+5.04e-01j\tB: -64.11 G: -27.06, C:0.00\n",
      "[-83.74554443 -82.01056671 -27.05782318 -73.83461761 -84.9836731\n",
      " -80.13523102 -78.35353851]\n",
      "dc:  1.00e-01+6.68e-02j\tI:  3.81e-01+5.33e-01j\tQ: 5.71e-01+5.03e-01j\tB: -63.30 G: -27.06, C:0.00\n",
      "[-83.7579422  -81.90327454 -27.05937958 -70.82353973 -84.45158386\n",
      " -82.89130402 -78.46238708]\n",
      "dc:  1.00e-01+6.68e-02j\tI:  3.81e-01+5.33e-01j\tQ: 5.71e-01+5.04e-01j\tB: -63.31 G: -27.07, C:0.00\n",
      "[-82.88019562 -81.91493988 -27.0725956  -72.13821411 -83.62360382\n",
      " -80.85048676 -77.91350555]\n",
      "dc:  1.00e-01+6.68e-02j\tI:  3.81e-01+5.33e-01j\tQ: 5.71e-01+5.04e-01j\tB: -63.39 G: -27.06, C:0.00\n",
      "[-83.29068756 -82.45371246 -27.06326675 -71.76892853 -84.40281677\n",
      " -81.37371826 -77.78133392]\n",
      "dc:  9.99e-02+6.68e-02j\tI:  3.81e-01+5.34e-01j\tQ: 5.71e-01+5.04e-01j\tB: -63.44 G: -27.07, C:0.00\n",
      "[-84.42256927 -82.90541077 -27.06559944 -71.56445312 -83.94682312\n",
      " -80.53484344 -78.44683838]\n",
      "dc:  1.00e-01+6.68e-02j\tI:  3.81e-01+5.34e-01j\tQ: 5.71e-01+5.04e-01j\tB: -63.40 G: -27.07, C:0.00\n",
      "[-83.04968262 -82.19870758 -27.06793022 -71.42062378 -84.49580383\n",
      " -80.81783295 -79.24217224]\n",
      "dc:  1.00e-01+6.68e-02j\tI:  3.81e-01+5.33e-01j\tQ: 5.71e-01+5.04e-01j\tB: -64.35 G: -27.06, C:0.00\n",
      "[-83.32956696 -80.86226654 -27.06404305 -74.83287048 -85.01023102\n",
      " -80.73853302 -78.57122803]\n",
      "dc:  1.00e-01+6.68e-02j\tI:  3.81e-01+5.34e-01j\tQ: 5.71e-01+5.03e-01j\tB: -64.32 G: -27.07, C:0.00\n",
      "[-83.80069733 -82.3977356  -27.06793022 -74.16348267 -84.38702393\n",
      " -80.67867279 -78.4756012 ]\n",
      "dc:  1.00e-01+6.68e-02j\tI:  3.81e-01+5.34e-01j\tQ: 5.71e-01+5.03e-01j\tB: -64.34 G: -27.06, C:0.00\n",
      "[-83.39176178 -82.13573456 -27.06326675 -74.28165436 -84.78720856\n",
      " -81.75855255 -77.84741974]\n",
      "dc:  1.00e-01+6.68e-02j\tI:  3.81e-01+5.33e-01j\tQ: 5.71e-01+5.03e-01j\tB: -63.76 G: -27.06, C:0.00\n",
      "[-83.59389496 -82.7522583  -27.06093407 -71.27446747 -84.15792084\n",
      " -82.20092773 -80.23031616]\n",
      "dc:  1.00e-01+6.68e-02j\tI:  3.81e-01+5.33e-01j\tQ: 5.71e-01+5.03e-01j\tB: -62.84 G: -27.08, C:0.00\n",
      "[-82.73325348 -81.2043457  -27.07648277 -71.17650604 -84.03487396\n",
      " -81.49266815 -77.21690369]\n",
      "dc:  1.00e-01+6.68e-02j\tI:  3.81e-01+5.33e-01j\tQ: 5.71e-01+5.04e-01j\tB: -62.96 G: -27.06, C:0.00\n",
      "[-83.25726318 -81.01620483 -27.05782318 -70.90595245 -84.83692932\n",
      " -80.26506805 -78.82001495]\n",
      "dc:  1.00e-01+6.68e-02j\tI:  3.81e-01+5.33e-01j\tQ: 5.71e-01+5.03e-01j\tB: -63.42 G: -27.07, C:0.00\n",
      "[-82.09574127 -82.90930176 -27.07104111 -72.36134338 -84.23243713\n",
      " -79.71229553 -78.53079987]\n",
      "dc:  1.00e-01+6.68e-02j\tI:  3.81e-01+5.34e-01j\tQ: 5.71e-01+5.03e-01j\tB: -63.34 G: -27.06, C:0.00\n",
      "[-82.73947906 -82.25779724 -27.06326675 -72.16387177 -83.82662201\n",
      " -79.85068512 -78.53391266]\n",
      "dc:  1.00e-01+6.68e-02j\tI:  3.81e-01+5.33e-01j\tQ: 5.71e-01+5.03e-01j\tB: -63.12 G: -27.07, C:0.00\n",
      "[-82.60886383 -80.6989975  -27.06637573 -71.7852478  -84.62184906\n",
      " -79.97818756 -78.74693298]\n",
      "dc:  1.00e-01+6.68e-02j\tI:  3.81e-01+5.33e-01j\tQ: 5.71e-01+5.04e-01j\tB: -62.01 G: -27.07, C:0.00\n",
      "[-83.31634521 -81.05973816 -27.07104111 -68.7454071  -84.01239777\n",
      " -79.9175415  -79.36578369]\n",
      "dc:  1.00e-01+6.68e-02j\tI:  3.81e-01+5.33e-01j\tQ: 5.71e-01+5.04e-01j\tB: -63.05 G: -27.07, C:0.00\n",
      "[-83.4368515  -81.11649323 -27.06637573 -71.13529968 -83.68133545\n",
      " -80.36302185 -79.20174408]\n",
      "dc:  1.00e-01+6.68e-02j\tI:  3.81e-01+5.33e-01j\tQ: 5.71e-01+5.03e-01j\tB: -61.98 G: -27.06, C:0.00\n",
      "[-81.72645569 -81.11571503 -27.05937958 -69.25619507 -84.546875\n",
      " -80.15155792 -78.14051819]\n",
      "dc:  1.00e-01+6.68e-02j\tI:  3.81e-01+5.33e-01j\tQ: 5.71e-01+5.03e-01j\tB: -62.69 G: -27.07, C:0.00\n",
      "[-84.23841858 -79.9425354  -27.06870842 -70.86630249 -84.24632263\n",
      " -80.34670258 -77.8691864 ]\n",
      "dc:  1.00e-01+6.68e-02j\tI:  3.81e-01+5.33e-01j\tQ: 5.71e-01+5.03e-01j\tB: -63.61 G: -27.07, C:0.00\n",
      "[-84.14030457 -82.74292755 -27.06948662 -72.04336548 -84.49224854\n",
      " -79.99761963 -78.75315094]\n",
      "dc:  1.00e-01+6.68e-02j\tI:  3.81e-01+5.33e-01j\tQ: 5.71e-01+5.03e-01j\tB: -63.25 G: -27.06, C:0.00\n",
      "[-82.07241821 -80.68422699 -27.06248856 -73.26163483 -83.97013092\n",
      " -79.59101105 -77.63517761]\n",
      "dc:  1.00e-01+6.68e-02j\tI:  3.81e-01+5.33e-01j\tQ: 5.71e-01+5.03e-01j\tB: -63.82 G: -27.06, C:0.00\n",
      "[-83.96007538 -81.42980957 -27.06093407 -73.42800903 -83.72291565\n",
      " -81.45146179 -77.52478027]\n",
      "dc:  1.00e-01+6.68e-02j\tI:  3.81e-01+5.33e-01j\tQ: 5.71e-01+5.03e-01j\tB: -63.26 G: -27.07, C:0.00\n",
      "[-83.29769135 -81.3217392  -27.06637573 -71.90031433 -83.3199234\n",
      " -80.70743561 -78.52613831]\n",
      "Warning: Maximum number of iterations has been exceeded.\n",
      "dc:  1.00e-01+6.68e-02j\tI:  3.81e-01+5.33e-01j\tQ: 5.71e-01+5.03e-01j\tB: -62.76 G: -27.06, C:0.00\n",
      "[-81.34783173 -80.90113831 -27.06482124 -70.87485504 -84.57054138\n",
      " -80.40345001 -79.07268524]\n",
      "d:\\qtlab\\ReiData\\data/calibrations/\n",
      "d:\\qtlab\\ReiData\\data/calibrations//IQ-if7.5e+07-rf6.8e+09-sb--1.pkl\n"
     ]
    },
    {
     "data": {
      "text/plain": [
       "{'I': (0.33162449718542469+0.59110634103163395j),\n",
       " 'Q': (0.55430076085097568+0.47132006273684623j),\n",
       " 'dc': (0.17004194879451789+0.060251517822799153j),\n",
       " 'num_sidebands': 7,\n",
       " 'score': -15.283669669167484}"
      ]
     },
     "execution_count": 18,
     "metadata": {},
     "output_type": "execute_result"
    }
   ],
   "source": [
    "#sa.set_ref(0)\n",
    "iq_ex.get_calibration(sa)\n",
    "iq_ro.get_calibration(sa)"
   ]
  },
  {
   "cell_type": "markdown",
   "metadata": {},
   "source": [
    "### Длительность и амплитуда считывающих импульсов"
   ]
  },
  {
   "cell_type": "code",
   "execution_count": 19,
   "metadata": {
    "collapsed": true
   },
   "outputs": [],
   "source": [
    "def set_adc_nop(ro_adc_length):\n",
    "    adc.stop()\n",
    "    signal_size = int(np.ceil(4./3.*(ro_adc_length)*adc.get_clock()))\n",
    "    nop = int( 2**np.ceil(np.log2(signal_size)) )\n",
    "    posttrigger = nop*15/16\n",
    "    \n",
    "    print (nop)\n",
    "    #adc.set_trigger_delay(25000-nop)\n",
    "    adc.set_nop(nop)\n",
    "    adc.set_post_trigger(posttrigger)"
   ]
  },
  {
   "cell_type": "code",
   "execution_count": 20,
   "metadata": {},
   "outputs": [
    {
     "name": "stdout",
     "output_type": "stream",
     "text": [
      "512\n"
     ]
    }
   ],
   "source": [
    "ro_adc_length =0.6e-6        # Вот такой длины считываем (опухоль Фёдорова!!)\n",
    "ro_amplitude =0.4\n",
    "#ro_adc_length = 0.3e-6\n",
    "#ro_amplitude = 0.6\n",
    "#ro_amplitude = 1.0\n",
    "ro_dac_length = 0.4e-6\n",
    "#ro_dac_length = 0.4e-6\n",
    "adc.set_nums(10000)\n",
    "#adc.set_software_nums_multi(1)\n",
    "set_adc_nop(ro_adc_length)\n"
   ]
  },
  {
   "cell_type": "code",
   "execution_count": 191,
   "metadata": {},
   "outputs": [
    {
     "data": {
      "text/plain": [
       "True"
      ]
     },
     "execution_count": 191,
     "metadata": {},
     "output_type": "execute_result"
    }
   ],
   "source": [
    "#adc.set_nop(25000)\n",
    "adc.set_nums(5000)\n",
    "#plt.plot(np.mean(adc.measure()['Voltage'], axis=0))"
   ]
  },
  {
   "cell_type": "code",
   "execution_count": null,
   "metadata": {
    "collapsed": true
   },
   "outputs": [],
   "source": [
    "pg.set_seq([pg.p('ro_trg', trg_length, pg.rect, 1), pg.p('iq_ro', 0.2e-6, pg.rect, 1.0)])\n"
   ]
  },
  {
   "cell_type": "code",
   "execution_count": 138,
   "metadata": {},
   "outputs": [
    {
     "name": "stderr",
     "output_type": "stream",
     "text": [
      "D:\\qtlab_replacement\\instruments\\Tektronix_AWG5014.py:654: ComplexWarning: Casting complex values to real discards the imaginary part\n",
      "  m1[:] = marker[:len(m1)]\n"
     ]
    }
   ],
   "source": [
    "pg.set_seq([ pg.p('iq_ex', 1e-6, pg.rect, 0.9)])"
   ]
  },
  {
   "cell_type": "markdown",
   "metadata": {},
   "source": [
    "### Прохождение считывающих испульсов разной амплитуды"
   ]
  },
  {
   "cell_type": "code",
   "execution_count": 21,
   "metadata": {
    "scrolled": true
   },
   "outputs": [
    {
     "data": {
      "application/vnd.jupyter.widget-view+json": {
       "model_id": "5e94de0a1fcb480494c261c14d8092ea",
       "version_major": 2,
       "version_minor": 0
      },
      "text/plain": [
       "A Jupyter Widget"
      ]
     },
     "metadata": {},
     "output_type": "display_data"
    },
    {
     "name": "stdout",
     "output_type": "stream",
     "text": [
      "Started at:  Jun 24 2018 21:54:14\n"
     ]
    },
    {
     "name": "stderr",
     "output_type": "stream",
     "text": [
      "D:\\qtlab_replacement\\instruments\\Tektronix_AWG5014.py:654: ComplexWarning: Casting complex values to real discards the imaginary part\n",
      "  m1[:] = marker[:len(m1)]\n"
     ]
    },
    {
     "name": "stdout",
     "output_type": "stream",
     "text": [
      "\n",
      "Elapsed time: 0 h 1 m 20.44 s\n"
     ]
    },
    {
     "name": "stderr",
     "output_type": "stream",
     "text": [
      "C:\\ProgramData\\Anaconda3\\lib\\site-packages\\matplotlib\\cbook\\deprecation.py:106: MatplotlibDeprecationWarning: Adding an axes using the same arguments as a previous axes currently reuses the earlier instance.  In a future version, a new instance will always be created and returned.  Meanwhile, this warning can be suppressed, and the future behavior ensured, by passing a unique label to each axes instance.\n",
      "  warnings.warn(message, mplDeprecation, stacklevel=1)\n"
     ]
    }
   ],
   "source": [
    "adc.stop()\n",
    "def set_pulse_amplitude(x):\n",
    "    awg_tek.set_nop(awg_tek.get_clock()/rep_rate)\n",
    "    pg.set_seq([pg.p('ro_trg', trg_length, pg.rect, 1), pg.p('iq_ro', ro_dac_length, pg.rect, x)])\n",
    "    awg_tek.run()\n",
    "measurement = sweep.sweep(adc_reducer, (np.linspace(0, 1.,20), set_pulse_amplitude, 'Readout amplitude'), filename='Readout pulse passthrough')"
   ]
  },
  {
   "cell_type": "code",
   "execution_count": null,
   "metadata": {
    "collapsed": true
   },
   "outputs": [],
   "source": [
    "pulse_fft = np.fft.fftshift(np.fft.fft(np.fft.fftshift(np.mean(adc.measure()['Voltage'], axis=0))))\n",
    "plt.plot(np.abs(pulse_fft)**2)"
   ]
  },
  {
   "cell_type": "code",
   "execution_count": null,
   "metadata": {
    "collapsed": true
   },
   "outputs": [],
   "source": [
    "lo1.set_status(1)"
   ]
  },
  {
   "cell_type": "code",
   "execution_count": null,
   "metadata": {
    "collapsed": true
   },
   "outputs": [],
   "source": [
    "current_src1.set_status(1)\n",
    "set_curr_start(qubit_params[qubit_id]['Iw_q1c'],current_src1)"
   ]
  },
  {
   "cell_type": "code",
   "execution_count": 124,
   "metadata": {},
   "outputs": [
    {
     "ename": "NameError",
     "evalue": "name 'set_curr_finish' is not defined",
     "output_type": "error",
     "traceback": [
      "\u001b[1;31m---------------------------------------------------------------------------\u001b[0m",
      "\u001b[1;31mNameError\u001b[0m                                 Traceback (most recent call last)",
      "\u001b[1;32m<ipython-input-124-00339a34d291>\u001b[0m in \u001b[0;36m<module>\u001b[1;34m()\u001b[0m\n\u001b[1;32m----> 1\u001b[1;33m \u001b[0mset_curr_finish\u001b[0m\u001b[1;33m(\u001b[0m\u001b[0mcurrent_src1\u001b[0m\u001b[1;33m)\u001b[0m\u001b[1;33m\u001b[0m\u001b[0m\n\u001b[0m\u001b[0;32m      2\u001b[0m \u001b[0mcurrent_src1\u001b[0m\u001b[1;33m.\u001b[0m\u001b[0mset_status\u001b[0m\u001b[1;33m(\u001b[0m\u001b[1;36m0\u001b[0m\u001b[1;33m)\u001b[0m\u001b[1;33m\u001b[0m\u001b[0m\n",
      "\u001b[1;31mNameError\u001b[0m: name 'set_curr_finish' is not defined"
     ]
    }
   ],
   "source": [
    "set_curr_finish(current_src1)\n",
    "current_src1.set_status(0)"
   ]
  },
  {
   "cell_type": "code",
   "execution_count": null,
   "metadata": {
    "collapsed": true
   },
   "outputs": [],
   "source": [
    "current_src1.set_current(qubit_params[qubit_id]['Iw'])"
   ]
  },
  {
   "cell_type": "code",
   "execution_count": 123,
   "metadata": {},
   "outputs": [
    {
     "data": {
      "text/plain": [
       "-0.00215"
      ]
     },
     "execution_count": 123,
     "metadata": {},
     "output_type": "execute_result"
    }
   ],
   "source": [
    "current_src1.get_current()"
   ]
  },
  {
   "cell_type": "markdown",
   "metadata": {},
   "source": [
    "### Осцилляции Раби"
   ]
  },
  {
   "cell_type": "code",
   "execution_count": 23,
   "metadata": {},
   "outputs": [
    {
     "data": {
      "application/vnd.jupyter.widget-view+json": {
       "model_id": "ab09478266d14ee2a529878512330e7f",
       "version_major": 2,
       "version_minor": 0
      },
      "text/plain": [
       "A Jupyter Widget"
      ]
     },
     "metadata": {},
     "output_type": "display_data"
    },
    {
     "name": "stdout",
     "output_type": "stream",
     "text": [
      "Started at:  Jun 24 2018 21:56:49\n"
     ]
    },
    {
     "name": "stderr",
     "output_type": "stream",
     "text": [
      "D:\\qtlab_replacement\\instruments\\Tektronix_AWG5014.py:654: ComplexWarning: Casting complex values to real discards the imaginary part\n",
      "  m1[:] = marker[:len(m1)]\n"
     ]
    },
    {
     "name": "stdout",
     "output_type": "stream",
     "text": [
      "\n",
      "Elapsed time: 0 h 3 m 19.26 s\n"
     ]
    },
    {
     "name": "stderr",
     "output_type": "stream",
     "text": [
      "C:\\ProgramData\\Anaconda3\\lib\\site-packages\\matplotlib\\cbook\\deprecation.py:106: MatplotlibDeprecationWarning: Adding an axes using the same arguments as a previous axes currently reuses the earlier instance.  In a future version, a new instance will always be created and returned.  Meanwhile, this warning can be suppressed, and the future behavior ensured, by passing a unique label to each axes instance.\n",
      "  warnings.warn(message, mplDeprecation, stacklevel=1)\n"
     ]
    }
   ],
   "source": [
    "ex_amplitude =1.\n",
    "pause_length = 0\n",
    "lengths = np.arange(0., 1e-6, 0.02e-6)\n",
    "readout_begin = np.max(lengths)\n",
    "def set_ex_length(length):\n",
    "    awg_tek.set_nop(awg_tek.get_clock()/rep_rate)\n",
    "    sequence = [pg.p(None, readout_begin-length), \n",
    "                pg.p('iq_ex', length, pg.rect, ex_amplitude), \n",
    "                pg.p(None, pause_length), \n",
    "                pg.p('ro_trg', trg_length, pg.rect, 1), \n",
    "                pg.p('iq_ro', ro_dac_length, pg.rect, ro_amplitude)]\n",
    "    pg.set_seq(sequence)\n",
    "    awg_tek.run()\n",
    "    \n",
    "measurement = sweep.sweep(adc_reducer, (lengths, set_ex_length, 'Rabi pulse length'), filename='Rabi qubit{}'.format(qubit_id))\n",
    "\n",
    "\n",
    "measurement_fitted, fitted_parameters = fitting.S21pm_fit(measurement, fitting.exp_sin_fit)\n",
    "\n",
    "\n",
    "annotation = 'Phase: {0:4.4g} rad, Freq: {1:4.4g}, Decay: {2:4.4g} s'.format(fitted_parameters['phase'], \n",
    "                                                                             fitted_parameters['freq'], \n",
    "                                                                             fitted_parameters['decay'])\n",
    "save_pkl.save_pkl({'type':'Rabi','name': 'qubit' }, measurement_fitted,annotation=annotation)"
   ]
  },
  {
   "cell_type": "code",
   "execution_count": null,
   "metadata": {
    "collapsed": true
   },
   "outputs": [],
   "source": []
  },
  {
   "cell_type": "code",
   "execution_count": 193,
   "metadata": {},
   "outputs": [
    {
     "data": {
      "text/plain": [
       "1.5837820715869496e-08"
      ]
     },
     "execution_count": 193,
     "metadata": {},
     "output_type": "execute_result"
    }
   ],
   "source": [
    "1/3.157e7/2"
   ]
  },
  {
   "cell_type": "markdown",
   "metadata": {},
   "source": [
    "### Осцилляции Рамзея"
   ]
  },
  {
   "cell_type": "code",
   "execution_count": 196,
   "metadata": {
    "scrolled": false
   },
   "outputs": [
    {
     "data": {
      "application/vnd.jupyter.widget-view+json": {
       "model_id": "ee557989bc5c40a1b7e5e7787ec42398",
       "version_major": 2,
       "version_minor": 0
      },
      "text/plain": [
       "A Jupyter Widget"
      ]
     },
     "metadata": {},
     "output_type": "display_data"
    },
    {
     "name": "stdout",
     "output_type": "stream",
     "text": [
      "Started at:  Jun 24 2018 18:25:30\n"
     ]
    },
    {
     "name": "stderr",
     "output_type": "stream",
     "text": [
      "D:\\qtlab_replacement\\instruments\\Tektronix_AWG5014.py:654: ComplexWarning: Casting complex values to real discards the imaginary part\n",
      "  m1[:] = marker[:len(m1)]\n"
     ]
    },
    {
     "name": "stdout",
     "output_type": "stream",
     "text": [
      "\n",
      "Elapsed time: 0 h 24 m 43.42 s\n"
     ]
    },
    {
     "name": "stderr",
     "output_type": "stream",
     "text": [
      "C:\\ProgramData\\Anaconda3\\lib\\site-packages\\matplotlib\\cbook\\deprecation.py:106: MatplotlibDeprecationWarning: Adding an axes using the same arguments as a previous axes currently reuses the earlier instance.  In a future version, a new instance will always be created and returned.  Meanwhile, this warning can be suppressed, and the future behavior ensured, by passing a unique label to each axes instance.\n",
      "  warnings.warn(message, mplDeprecation, stacklevel=1)\n"
     ]
    }
   ],
   "source": [
    "ex_amplitude = 0.9\n",
    "#pi2_pulse = 6e-9\n",
    "pi2_pulse = 1.583e-08/2\n",
    "\n",
    "delays = np.arange(0, 10e-6, 0.025e-6)\n",
    "target_freq_offset = 5e6\n",
    "\n",
    "readout_begin = np.max(delays)+pi2_pulse*2\n",
    "\n",
    "def set_delay(delay):\n",
    "    awg_tek.set_nop(awg_tek.get_clock()/rep_rate)\n",
    "    \n",
    "    sequence = [pg.p(None, readout_begin-pi2_pulse),\n",
    "                pg.p('iq_ex', pi2_pulse, pg.rect, ex_amplitude), \n",
    "                pg.p(None, delay), \n",
    "                pg.p('iq_ex', pi2_pulse, pg.rect, ex_amplitude*np.exp(1j*delay*target_freq_offset*2*np.pi)), \n",
    "                pg.p('ro_trg', trg_length, pg.rect, 1), \n",
    "                pg.p('iq_ro', ro_dac_length, pg.rect, ro_amplitude)]\n",
    "    \n",
    "    pg.set_seq(sequence)\n",
    "    awg_tek.run()\n",
    "measurement = sweep.sweep(adc_reducer, (delays, set_delay, 'Ramsey delay'), filename='Ramsey qubit{}'.format(qubit_id))\n",
    "#measurement = sweep.sweep(adc_sz, (delays, set_delay, 'Ramsey delay'), filename='Ramsey')\n",
    "measurement_fitted, fitted_parameters = fitting.S21pm_fit(measurement, fitting.exp_sin_fit)\n",
    "annotation = 'Phase: {0:4.4g} rad, Freq: {1:4.4g}, Decay: {2:4.4g} s'.format(fitted_parameters['phase'], \n",
    "                                                                             fitted_parameters['freq'], \n",
    "                                                                             fitted_parameters['decay'])\n",
    "save_pkl.save_pkl({'type':'Ramsey', 'name': 'qubit {}'.format(qubit_id)}, measurement_fitted, annotation=annotation)"
   ]
  },
  {
   "cell_type": "code",
   "execution_count": null,
   "metadata": {
    "collapsed": true
   },
   "outputs": [],
   "source": [
    "save_pkl.save_pkl({'type':'Ramsey', 'name': 'qubit {}'.format(qubit_id)}, [0], annotation=None)"
   ]
  },
  {
   "cell_type": "code",
   "execution_count": null,
   "metadata": {
    "collapsed": true
   },
   "outputs": [],
   "source": [
    "save_pkl.save_pkl({'type':'Ramsey', 'name': 'qubit {}'.format(qubit_id)}, measurement_fitted, annotation=annotation)"
   ]
  },
  {
   "cell_type": "markdown",
   "metadata": {},
   "source": [
    "### Затухание свободной индукции (T1)"
   ]
  },
  {
   "cell_type": "code",
   "execution_count": 198,
   "metadata": {
    "scrolled": true
   },
   "outputs": [
    {
     "data": {
      "application/vnd.jupyter.widget-view+json": {
       "model_id": "27903a9788584c1cbd38b2c0f5b50bcc",
       "version_major": 2,
       "version_minor": 0
      },
      "text/plain": [
       "A Jupyter Widget"
      ]
     },
     "metadata": {},
     "output_type": "display_data"
    },
    {
     "name": "stdout",
     "output_type": "stream",
     "text": [
      "Started at:  Jun 24 2018 19:09:55\n"
     ]
    },
    {
     "name": "stderr",
     "output_type": "stream",
     "text": [
      "D:\\qtlab_replacement\\instruments\\Tektronix_AWG5014.py:654: ComplexWarning: Casting complex values to real discards the imaginary part\n",
      "  m1[:] = marker[:len(m1)]\n"
     ]
    },
    {
     "name": "stdout",
     "output_type": "stream",
     "text": [
      "\n",
      "Elapsed time: 0 h 6 m 15.01 s\n"
     ]
    },
    {
     "name": "stderr",
     "output_type": "stream",
     "text": [
      "C:\\ProgramData\\Anaconda3\\lib\\site-packages\\matplotlib\\cbook\\deprecation.py:106: MatplotlibDeprecationWarning: Adding an axes using the same arguments as a previous axes currently reuses the earlier instance.  In a future version, a new instance will always be created and returned.  Meanwhile, this warning can be suppressed, and the future behavior ensured, by passing a unique label to each axes instance.\n",
      "  warnings.warn(message, mplDeprecation, stacklevel=1)\n"
     ]
    },
    {
     "name": "stdout",
     "output_type": "stream",
     "text": [
      "[2.0309428009680064e-05, -0.04136725978133045, -0.0020237546861102997, -0.015844897476676705, -0.007416849577067229, -0.024292744752800455, -0.029763212544417963, -0.026426881778088364, 0.0012634352032036451]\n"
     ]
    }
   ],
   "source": [
    "ex_amplitude = 1\n",
    "pi_pulse = 1.583e-08\n",
    "pause_length = 0\n",
    "delays = np.arange(0, 20e-6, 0.2e-6)\n",
    "readout_begin = np.max(delays)+pi_pulse\n",
    "def set_delay(delay):\n",
    "    awg_tek.set_nop(awg_tek.get_clock()/rep_rate)\n",
    "    \n",
    "    sequence = [pg.p(None, readout_begin-ro_dac_length),\n",
    "                pg.p('iq_ex', pi_pulse, pg.rect, ex_amplitude), \n",
    "                pg.p(None, delay), \n",
    "                pg.p('ro_trg', trg_length, pg.rect, 1), \n",
    "                pg.p('iq_ro', ro_dac_length, pg.rect, ro_amplitude)]\n",
    "    \n",
    "    pg.set_seq(sequence)\n",
    "    awg_tek.run()\n",
    "measurement = sweep.sweep(adc_reducer, (delays, set_delay, 'delay'), filename='Decay qubit{}'.format(qubit_id))\n",
    "\n",
    "measurement_fitted, fitted_parameters = fitting.S21pm_fit(measurement, fitting.exp_fit)\n",
    "#save_pkl.save_pkl({'type':'Decay'}, measurement_fitted)\n",
    "annotation = 'Decay: {0:4.6g} s'.format(fitted_parameters['decay'])\n",
    "save_pkl.save_pkl({'type':'Decay', 'name': 'qubit {}'.format(qubit_id)}, measurement_fitted, annotation=annotation)"
   ]
  },
  {
   "cell_type": "code",
   "execution_count": null,
   "metadata": {
    "collapsed": true
   },
   "outputs": [],
   "source": [
    "annotation = 'Decay: {0:4.6g} s'.format(fitted_parameters['decay'])\n",
    "save_pkl.save_pkl({'type':'Decay'}, measurement_fitted, annotation=annotation)"
   ]
  },
  {
   "cell_type": "markdown",
   "metadata": {},
   "source": [
    "### Спиновое эхо"
   ]
  },
  {
   "cell_type": "code",
   "execution_count": null,
   "metadata": {
    "collapsed": true,
    "scrolled": false
   },
   "outputs": [],
   "source": [
    "ex_amplitude = 0.2\n",
    "pi2_pulse = 9e-9\n",
    "pause_length = 15.98e-9\n",
    "delays = np.linspace(0e-9, 500e-9, 101)\n",
    "target_freq_offset = 10e6\n",
    "\n",
    "readout_begin = np.max(delays)+pi2_pulse*2\n",
    "\n",
    "def set_delay(delay):\n",
    "    awg_tek.set_nop(awg_tek.get_clock()/rep_rate)\n",
    "    \n",
    "    sequence = [pg.p(None, readout_begin-pi2_pulse),\n",
    "                pg.p('iq_ex', pi2_pulse, pg.rect, ex_amplitude), \n",
    "                pg.p(None, delay), \n",
    "                pg.p('iq_ex', pi2_pulse, pg.rect, ex_amplitude), \n",
    "                pg.p('iq_ex', pi2_pulse, pg.rect, ex_amplitude), \n",
    "                pg.p(None, delay), \n",
    "                pg.p('iq_ex', pi2_pulse, pg.rect, ex_amplitude*np.exp(1j*delay*target_freq_offset*2*np.pi)), \n",
    "                pg.p('ro_trg', trg_length, pg.rect, 1), \n",
    "                pg.p('iq_ro', ro_dac_length, pg.rect, ro_amplitude)]\n",
    "    \n",
    "    pg.set_seq(sequence)\n",
    "    awg_tek.run()\n",
    "measurement = sweep.sweep(adc_reducer, (delays*2, set_delay, 'Spin echo full delay'), filename='Spin echo')\n",
    "#measurement = sweep.sweep(adc_sz, (delays, set_delay, 'Ramsey delay'), filename='Ramsey')\n",
    "measurement_fitted, fitted_parameters = fitting.S21pm_fit(measurement, fitting.exp_sin_fit)\n",
    "annotation = 'Phase: {0:4.4g} rad, Freq: {1:4.4g}, Decay: {2:4.4g} s'.format(fitted_parameters['phase'], \n",
    "                                                                             fitted_parameters['freq'], \n",
    "                                                                             fitted_parameters['decay'])\n",
    "save_pkl.save_pkl({'type':'Spin echo', 'name': 'qubit {} paramp {}'.format(qubit_id, 'on' if lo_amp.get_status() else 'off')}, measurement_fitted, annotation=annotation)"
   ]
  },
  {
   "cell_type": "code",
   "execution_count": null,
   "metadata": {
    "collapsed": true
   },
   "outputs": [],
   "source": [
    "save_pkl.save_pkl({'type':'Ramsey'}, measurement_fitted, annotation=annotation)"
   ]
  },
  {
   "cell_type": "code",
   "execution_count": null,
   "metadata": {
    "collapsed": true
   },
   "outputs": [],
   "source": [
    "lo_amp.set_status(0)"
   ]
  },
  {
   "cell_type": "code",
   "execution_count": null,
   "metadata": {
    "collapsed": true
   },
   "outputs": [],
   "source": [
    "qubit_id"
   ]
  },
  {
   "cell_type": "code",
   "execution_count": null,
   "metadata": {
    "collapsed": true
   },
   "outputs": [],
   "source": [
    "adc.stop()"
   ]
  },
  {
   "cell_type": "markdown",
   "metadata": {},
   "source": [
    "### Rabi amplitude oscillations"
   ]
  },
  {
   "cell_type": "code",
   "execution_count": null,
   "metadata": {
    "collapsed": true
   },
   "outputs": [],
   "source": [
    "ex_amps = np.linspace(0.75,1.0,21)\n",
    "pause_length = 32e-9\n",
    "pi2_length = 16e-9\n",
    "sigma = 4e-9\n",
    "num_pulses = 16\n",
    "readout_begin = np.max((pi2_length+pause_length)*num_pulses)\n",
    "def set_ex_amp(amp):\n",
    "    awg_tek.set_nop(awg_tek.get_clock()/rep_rate)\n",
    "    \n",
    "    sequence = [pg.p('iq_ex', pi2_length, pg.gauss_hd,  amp, 0, sigma,0)]*num_pulses+\\\n",
    "               [pg.p('ro_trg', trg_length, pg.rect, 1), \n",
    "                pg.p('iq_ro', ro_dac_length, pg.rect, ro_amplitude)]\n",
    "    #print(sequence)\n",
    "    pg.set_seq(sequence)\n",
    "    \n",
    "    awg_tek.run()\n",
    "measurement = sweep.sweep(adc_reducer, (ex_amps, set_ex_amp, 'Rabi pulse amplitude'), filename='Rabi')"
   ]
  },
  {
   "cell_type": "markdown",
   "metadata": {},
   "source": [
    "### gaussian $\\pi/2$ pulse amplitudes"
   ]
  },
  {
   "cell_type": "code",
   "execution_count": null,
   "metadata": {
    "collapsed": true
   },
   "outputs": [],
   "source": [
    "#amp_x=0.554\n",
    "#amp_y=0.554\n",
    "#sigma = 2e-9\n",
    "#amp_x=0.29\n",
    "#amp_y=0.29\n",
    "amp_x = 0.90\n",
    "length = 16e-9\n",
    "pause_length = 0e-9\n",
    "sigma = 4e-9\n",
    "amp_x_hd = 0.89\n",
    "length_hd = 16e-9\n",
    "sigma_hd = 4e-9\n",
    "pause_length_hd = 8e-9\n",
    "alpha_hd = -0.92e-9"
   ]
  },
  {
   "cell_type": "markdown",
   "metadata": {},
   "source": [
    "### Ramsey with gauss pulses"
   ]
  },
  {
   "cell_type": "code",
   "execution_count": null,
   "metadata": {
    "collapsed": true,
    "scrolled": true
   },
   "outputs": [],
   "source": [
    "delays = np.linspace(0e-9, 2000e-9, 201)\n",
    "target_freq_offset = 20e6\n",
    "\n",
    "def set_delay(delay):\n",
    "    sequence = [pg.p(None, readout_begin-length),\n",
    "                pg.p('iq_ex', pi2_pulse, pg.gauss_hd, sigma, ex_amplitude, 0), \n",
    "                pg.p(None, delay), \n",
    "                pg.p('iq_ex', pi2_pulse, pg.gauss_hd, sigma, ex_amplitude*np.exp(1j*delay*target_freq_offset*2*np.pi), 0), \n",
    "                pg.p(None, delay), \n",
    "                pg.p('ro_trg', trg_length, pg.rect, 1), \n",
    "                pg.p('iq_ro', ro_dac_length, pg.rect, ro_amplitude)]\n",
    "    \n",
    "    pg.set_seq(sequence)\n",
    "    awg_tek.run()\n",
    "measurement = sweep.sweep(adc_reducer, (delays, set_delay, 'Ramsey delay'), filename='Ramsey')\n",
    "measurement_fitted, fitted_parameters = fitting.S21pm_fit(measurement, fitting.exp_sin_fit)\n",
    "annotation = 'Phase: {0:4.4g} rad, Freq: {1:4.4g}, Decay: {2:4.4g} s'.format(fitted_parameters['phase'], \n",
    "                                                                             fitted_parameters['freq'], \n",
    "                                                                             fitted_parameters['decay'])\n",
    "save_pkl.save_pkl({'type':'Ramsey'}, measurement_fitted, annotation=annotation)"
   ]
  },
  {
   "cell_type": "markdown",
   "metadata": {},
   "source": [
    "# Optimizing readout pulse settings"
   ]
  },
  {
   "cell_type": "code",
   "execution_count": null,
   "metadata": {
    "collapsed": true,
    "scrolled": true
   },
   "outputs": [],
   "source": [
    "#ex_calib_seq = [pg.p('iq_ex', length, pg.gauss_hd, amp_x, 0, sigma), pg.p(None, pause_length)]*2\n",
    "ex_calib_seq = [pg.p('iq_ex', 18e-9, pg.rect, 0.2), pg.p(None, pause_length)]\n",
    "ro_seq = [pg.p('ro_trg', trg_length, pg.rect, 1), pg.p('iq_ro', ro_dac_length, pg.rect, ro_amplitude)]\n",
    "adc_sz = tomography_new.sz_measurer(adc, ex_calib_seq, ro_seq, pg)\n",
    "adc_sz.save_last_samples = True\n",
    "#adc_sz.dump_measured_samples = True\n",
    "adc.set_software_nums_multi(1)\n",
    "adc_sz.repeat_samples = 3\n",
    "\n",
    "def target_min():\n",
    "    F = 1-adc_sz.measure()['Calibrated ROC AUC']\n",
    "    print ('fidelity: ', 1-F)\n",
    "    return F\n",
    "\n",
    "class ro_pulse_generator:\n",
    "    def __init__(self, adc_sz, ro_amplitude, ro_dac_length):\n",
    "        self.ro_amplitude = ro_amplitude\n",
    "        self.ro_dac_length = ro_dac_length\n",
    "        self.adc_sz = adc_sz\n",
    "    def set_ro_freq(self, ro_freq):\n",
    "        iq_ro.set_uncal_frequency(ro_freq)\n",
    "        self.make_ro_seq()\n",
    "    def set_paramp_pump_freq(self, pump_freq):\n",
    "        lo_amp.set_frequency(pump_freq)\n",
    "    def set_paramp_pump_power(self, pump_power):\n",
    "        lo_amp.set_power(pump_power)\n",
    "    def set_paramp_bias_current(self, paramp_bias):\n",
    "        current_src2.set_current(paramp_bias)\n",
    "    def make_ro_seq(self):\n",
    "        adc_sz.ro_seq = [pg.p('ro_trg', trg_length, pg.rect, 1), pg.p('iq_ro', self.ro_dac_length, pg.rect, self.ro_amplitude)]\n",
    "    def set_ro_length(self, ro_dac_length):\n",
    "        self.ro_dac_length = ro_dac_length\n",
    "        self.make_ro_seq()\n",
    "        adc_sz.measurement_name = 'ro_dac_length {0}ns ro_dac_amiltude {1:4.2f}'.format(int(self.ro_dac_length*1e9), self.ro_amplitude)\n",
    "    def set_ro_amplitude(self, ro_amplitude):\n",
    "        self.ro_amplitude = ro_amplitude\n",
    "        self.make_ro_seq()\n",
    "        adc_sz.measurement_name = 'ro_dac_length {0}ns ro_dac_amiltude {1:4.2f}'.format(int(self.ro_dac_length*1e9), self.ro_amplitude)\n",
    "\n",
    "ro_dac_lengths = np.linspace(0.05e-6,1.0e-6,20)\n",
    "ro_dac_amplitudes = np.linspace(0.05,1.0,20)\n",
    "\n",
    "ro_pulse_generator_inst = ro_pulse_generator(adc_sz, ro_amplitude, ro_dac_length)\n",
    "#solution, score = sweep.optimize(target_min, (ro_pulse_generator_inst.set_ro_length, 3e-8), \n",
    "#                                             (ro_pulse_generator_inst.set_ro_amplitude, 0.9), maxfun=30)\n",
    "#ro_dac_length = solution[0]\n",
    "#ro_dac_amplitude = solution[1]\n",
    "#"
   ]
  },
  {
   "cell_type": "code",
   "execution_count": null,
   "metadata": {
    "collapsed": true
   },
   "outputs": [],
   "source": [
    "sweep.sweep(adc_sz, (ro_dac_lengths, ro_pulse_generator_inst.set_ro_length, 'Readout pulse length'), \n",
    "                    (ro_dac_amplitudes, ro_pulse_generator_inst.set_ro_amplitude, 'Readout pulse amplitude'), filename='Readout fidelity with paramp')"
   ]
  },
  {
   "cell_type": "markdown",
   "metadata": {},
   "source": [
    "## Optimizing readout pulse length, amplitude, frequency, paramteric amplifier pump and bias"
   ]
  },
  {
   "cell_type": "code",
   "execution_count": null,
   "metadata": {
    "collapsed": true
   },
   "outputs": [],
   "source": [
    "p0 = [700e-9, 0.5, iq_ro.get_frequency(), lo_amp.get_frequency(), lo_amp.get_power(), current_src2.get_current()]\n",
    "dp = [50e-9, 0.05, 0.5e6, 3e6, 0.06, 3e-5]\n",
    "\n",
    "initial_simplex = [p0]+[[p0[i]+(dp[i] if i == j else 0) for i in range(len(dp))] for j in range(len(dp))]\n",
    "\n",
    "solution, score = sweep.optimize(target_min, (ro_pulse_generator_inst.set_ro_length, 700e-9), \n",
    "                                             (ro_pulse_generator_inst.set_ro_amplitude, 0.5),\n",
    "                                             (ro_pulse_generator_inst.set_ro_freq, iq_ro.get_frequency()),\n",
    "                                             (ro_pulse_generator_inst.set_paramp_pump_freq, lo_amp.get_frequency()),\n",
    "                                             (ro_pulse_generator_inst.set_paramp_pump_power, lo_amp.get_power()),\n",
    "                                             (ro_pulse_generator_inst.set_paramp_bias_current, current_src2.get_current()),\n",
    "                                             initial_simplex=initial_simplex,\n",
    "                                             maxfun=50)"
   ]
  },
  {
   "cell_type": "markdown",
   "metadata": {},
   "source": [
    "### |0> & |1> readout calibration"
   ]
  },
  {
   "cell_type": "code",
   "execution_count": null,
   "metadata": {
    "collapsed": true
   },
   "outputs": [],
   "source": [
    "lo_amp.get_status()"
   ]
  },
  {
   "cell_type": "code",
   "execution_count": null,
   "metadata": {
    "collapsed": true
   },
   "outputs": [],
   "source": [
    "imp.reload(tomography_new)\n",
    "imp.reload(awg_iq)\n",
    "imp.reload(save_pkl)"
   ]
  },
  {
   "cell_type": "code",
   "execution_count": null,
   "metadata": {
    "collapsed": true,
    "scrolled": true
   },
   "outputs": [],
   "source": [
    "ro_dac_length = 600e-9\n",
    "ro_dac_amplitude = 0.517\n",
    "ro_delay_length = 10e-9\n",
    "ro_delay_amplitude = 1.\n",
    "#ex_calib_seq = [pg.p('iq_ex', length, pg.gauss_hd, amp_x, 0, sigma, alpha_hd), pg.p(None, pause_length)]*2\n",
    "ex_calib_seq = [pg.p('iq_ex', 59e-9, pg.rect, 0.5), pg.p(None, pause_length)]\n",
    "#ex_calib_seq = [pg.p('iq_ex', length, pg.gauss_hd, amp_x, 0, sigma)]*2\n",
    "#ro_seq = [pg.p('ro_trg', trg_length, pg.rect, 1), pg.p('iq_ro', ro_dac_length, pg.rect, ro_amplitude)]\n",
    "ro_seq = [pg.p('ro_trg', trg_length, pg.rect, 1), pg.p('iq_ro', ro_dac_length, pg.rect, ro_dac_amplitude)]\n",
    "ro_delay_seq = [pg.p('ro_trg', trg_length, pg.rect, 1), pg.p('iq_ro', ro_delay_length, pg.rect, ro_delay_amplitude)]\n",
    "adc_sz = tomography_new.sz_measurer(adc, ex_calib_seq, ro_seq, pg, ro_delay_seq = ro_delay_seq)\n",
    "adc_sz.save_last_samples = True\n",
    "adc_sz.repeat_samples = 1\n",
    "#adc.set_software_nums_multi(2)\n",
    "print(adc_sz.measure_delay('iq_ro'))\n",
    "print(adc_sz.measure())\n",
    "#sz_filter = adc_sz.calibrate()\n",
    "#print('ROC AUC:', adc_sz.calib_roc_auc, 'Fidelity:', adc_sz.calib_fidelity)\n",
    "#print('ROC AUC binary:', adc_sz.calib_roc_auc_binary, 'Fidelity binary:', adc_sz.calib_fidelity_binary) "
   ]
  },
  {
   "cell_type": "code",
   "execution_count": null,
   "metadata": {
    "collapsed": true
   },
   "outputs": [],
   "source": [
    "adc_sz.dump_samples('ro_dac_length {0}ns ro_dac_amiltude {1:4.2f}'.format(int(ro_dac_length*1e9), ro_dac_amplitude))"
   ]
  },
  {
   "cell_type": "code",
   "execution_count": null,
   "metadata": {
    "collapsed": true
   },
   "outputs": [],
   "source": [
    "adc.stop()"
   ]
  },
  {
   "cell_type": "code",
   "execution_count": null,
   "metadata": {
    "collapsed": true
   },
   "outputs": [],
   "source": [
    "plt.figure()\n",
    "plt.pcolormesh(np.real(adc_sz.samples[0,:,:]), vmin=15, vmax=25); plt.colorbar()\n",
    "plt.figure()\n",
    "plt.pcolormesh(np.real(adc_sz.samples[1,:,:]), vmin=15, vmax=25); plt.colorbar()"
   ]
  },
  {
   "cell_type": "code",
   "execution_count": null,
   "metadata": {
    "collapsed": true,
    "scrolled": true
   },
   "outputs": [],
   "source": [
    "plt.hist(adc_sz.calib_pred.T, bins=20)"
   ]
  },
  {
   "cell_type": "code",
   "execution_count": null,
   "metadata": {
    "collapsed": true
   },
   "outputs": [],
   "source": [
    "#plt.scatter(np.real(adc_sz.calib_usl_pred[0,:]), np.imag(adc_sz.calib_usl_pred[0,:]), color='r', s=1)\n",
    "#plt.scatter(np.real(adc_sz.calib_usl_pred[1,:]), np.imag(adc_sz.calib_usl_pred[1,:]), color='b', s=1)\n",
    "#plt.figure()\n",
    "#plt.hist(adc_sz.calib_pred.T, bins=20)\n",
    "plt.figure()\n",
    "#plt.hist(np.real(adc_sz.calib_usl_pred.T), bins=20)\n",
    "plt.plot(np.real(adc_sz.calib_bg-np.mean(adc_sz.calib_bg)))\n",
    "plt.plot(np.imag(adc_sz.calib_bg-np.mean(adc_sz.calib_bg)))\n",
    "plt.plot(np.real(adc_sz.calib_feature))\n",
    "plt.plot(np.imag(adc_sz.calib_feature))"
   ]
  },
  {
   "cell_type": "markdown",
   "metadata": {},
   "source": [
    "### Tomography"
   ]
  },
  {
   "cell_type": "code",
   "execution_count": null,
   "metadata": {
    "collapsed": true
   },
   "outputs": [],
   "source": [
    "observables = { 'X': 0.5*np.asarray([[0, 1],   [1, 0]]),\n",
    "                'Y': 0.5*np.asarray([[0, -1j],   [1j, 0]]),\n",
    "                '-X': 0.5*np.asarray([[0, -1],   [-1, 0]]),\n",
    "                '-Y': 0.5*np.asarray([[0, 1j],   [-1j, 0]]),\n",
    "                'Z': 0.5*np.asarray([[1, 0],   [0, -1]])}\n",
    "proj_seq = {'Xo':{'pulses': [pg.p('iq_ex', length, pg.gauss_hd, 0, -amp_x, sigma, alpha_hd), pg.p(None, pause_length)]+ro_seq, \n",
    "                 'operator': observables['X']},\n",
    "            'Yo':{'pulses': [pg.p('iq_ex', length, pg.gauss_hd, amp_x, 0, sigma, alpha_hd), pg.p(None, pause_length)]+ro_seq,\n",
    "                 'operator': observables['Y']},\n",
    "            '-Xo':{'pulses':[pg.p('iq_ex', length, pg.gauss_hd, 0, amp_x, sigma, alpha_hd), pg.p(None, pause_length)]+ro_seq,\n",
    "                 'operator': observables['-X']},\n",
    "            '-Yo':{'pulses':[pg.p('iq_ex', length, pg.gauss_hd, -amp_x, 0, sigma, alpha_hd), pg.p(None, pause_length)]+ro_seq,\n",
    "                 'operator': observables['-Y']},\n",
    "            'Zo': {'pulses':ro_seq, 'operator':observables['Z']} }\n",
    "reconstruction_basis={'x':{'operator':observables['X']},\n",
    "                      'y':{'operator':observables['Y']},\n",
    "                      'z':{'operator':observables['Z']}}\n",
    "tomo = tomography_new.tomography(adc_sz, pg, proj_seq, reconstruction_basis=reconstruction_basis)"
   ]
  },
  {
   "cell_type": "code",
   "execution_count": null,
   "metadata": {
    "collapsed": true
   },
   "outputs": [],
   "source": [
    "proj_seq = {'Z': {'pulses':ro_seq, 'operator':observables['Z']}}\n",
    "tomoz = tomography_new.tomography(adc_sz, pg, proj_seq)"
   ]
  },
  {
   "cell_type": "code",
   "execution_count": null,
   "metadata": {
    "collapsed": true
   },
   "outputs": [],
   "source": [
    "## tomography of |0> state\n",
    "adc.set_software_nums_multi(20)\n",
    "tomo.set_prepare_seq([])\n",
    "tomo.measure()"
   ]
  },
  {
   "cell_type": "code",
   "execution_count": null,
   "metadata": {
    "collapsed": true
   },
   "outputs": [],
   "source": [
    "## tomography of |1> state\n",
    "tomo.set_prepare_seq([pg.p('iq_ex', length, pg.gauss_hd, 0, -amp_x, sigma, alpha_hd), pg.p(None, pause_length)]*2)\n",
    "tomo.measure()"
   ]
  },
  {
   "cell_type": "code",
   "execution_count": null,
   "metadata": {
    "collapsed": true
   },
   "outputs": [],
   "source": [
    "## tomography of |1> state\n",
    "tomo.set_prepare_seq([pg.p('iq_ex', length, pg.gauss_hd, 0, -amp_x, sigma, alpha_hd), pg.p(None, pause_length)]+\n",
    "                     [pg.p('iq_ex', length, pg.gauss_hd, 0, -amp_x, sigma, alpha_hd), pg.p(None, pause_length),\n",
    "                     pg.p('iq_ex', length, pg.gauss_hd, 0, amp_x, sigma, alpha_hd), pg.p(None, pause_length)]*10)\n",
    "tomo.measure()"
   ]
  },
  {
   "cell_type": "code",
   "execution_count": null,
   "metadata": {
    "collapsed": true
   },
   "outputs": [],
   "source": [
    "## tomography of |1> state\n",
    "tomo.set_prepare_seq([pg.p('iq_ex', length, pg.gauss_hd, 0, -amp_x, sigma, -0.92e-9), pg.p(None, pause_length)]+\n",
    "                     [pg.p('iq_ex', length, pg.gauss_hd, 0, -amp_x, sigma, -0.92e-9), pg.p(None, pause_length),\n",
    "                     pg.p('iq_ex', length, pg.gauss_hd, 0, amp_x, sigma, -0.92e-9), pg.p(None, pause_length)]*10)\n",
    "tomo.measure()"
   ]
  },
  {
   "cell_type": "code",
   "execution_count": null,
   "metadata": {
    "collapsed": true
   },
   "outputs": [],
   "source": [
    "## tomography of |0>+|1> state\n",
    "tomo.set_prepare_seq([pg.p('iq_ex', length, pg.gauss_hd, 0, -amp_x, sigma), pg.p(None, pause_length)])\n",
    "tomo.measure()"
   ]
  },
  {
   "cell_type": "code",
   "execution_count": null,
   "metadata": {
    "collapsed": true
   },
   "outputs": [],
   "source": [
    "## tomography of |0>-|1> state\n",
    "tomo.set_prepare_seq([pg.p('iq_ex', length, pg.gauss_hd, 0, 1j*amp_x, sigma), pg.p(None, pause_length)])\n",
    "tomo.measure()"
   ]
  },
  {
   "cell_type": "code",
   "execution_count": null,
   "metadata": {
    "collapsed": true
   },
   "outputs": [],
   "source": [
    "## tomography of -|0>-|1> state\n",
    "tomo.set_prepare_seq([pg.p('iq_ex', length, pg.gauss_hd, 0, -amp_x, sigma), pg.p(None, pause_length)])\n",
    "tomo.measure()"
   ]
  },
  {
   "cell_type": "code",
   "execution_count": null,
   "metadata": {
    "collapsed": true
   },
   "outputs": [],
   "source": [
    "## tomography of -|0>+|1> state\n",
    "tomo.set_prepare_seq([pg.p('iq_ex', length, pg.gauss_hd, 0, -1j*amp_x, sigma), pg.p(None, pause_length)])\n",
    "tomo.measure()"
   ]
  },
  {
   "cell_type": "markdown",
   "metadata": {},
   "source": [
    "# Randomized benchmarking"
   ]
  },
  {
   "cell_type": "code",
   "execution_count": null,
   "metadata": {
    "collapsed": true
   },
   "outputs": [],
   "source": [
    "import interleaved_benchmarking\n",
    "imp.reload(interleaved_benchmarking)\n",
    "\n",
    "bench = interleaved_benchmarking.interleaved_benchmarking(tomo)\n",
    "\n",
    "unitaries = {0:np.sqrt(0.5)*np.asarray([[1, -1j],  [-1j, 1]]),\\\n",
    "             1:np.sqrt(0.5)*np.asarray([[1, -1],    [1, 1]]),\\\n",
    "             2:np.sqrt(0.5)*np.asarray([[1, 1j],   [1j, 1]]),\\\n",
    "             3:np.sqrt(0.5)*np.asarray([[1, 1],   [-1, 1]])}\n",
    "bench.interleavers = {'X': {'pulses':[pg.p('iq_ex', length, pg.gauss_hd, -amp_x, 0, sigma, alpha_hd), pg.p(None, pause_length)],\n",
    "                            'unitary': np.sqrt(0.5)*np.asarray([[1, -1j],  [-1j, 1]])},\n",
    "                      'Y': {'pulses':[pg.p('iq_ex', length, pg.gauss_hd, 1j*amp_x, 0, sigma, alpha_hd), pg.p(None, pause_length)],\n",
    "                            'unitary': np.sqrt(0.5)*np.asarray([[1, -1],    [1, 1]])},\n",
    "                      '-X':{'pulses':[pg.p('iq_ex', length, pg.gauss_hd, amp_x, 0, sigma, alpha_hd), pg.p(None, pause_length)],\n",
    "                            'unitary': np.sqrt(0.5)*np.asarray([[1, 1j],   [1j, 1]])},\n",
    "                      '-Y':{'pulses':[pg.p('iq_ex', length, pg.gauss_hd, -1j*amp_x, 0, sigma, alpha_hd), pg.p(None, pause_length)],\n",
    "                            'unitary': np.sqrt(0.5)*np.asarray([[1, 1],   [-1, 1]])},\n",
    "                      'I':{'pulses':[], 'unitary':np.asarray([[1, 0], [0,1]])}}\n",
    "bench.sequence_length = 10\n",
    "bench.random_sequence_num = 6\n",
    "bench.prepare_random_interleaving_sequences()\n",
    "#bench.generate_interleaver_sequence_from_names()"
   ]
  },
  {
   "cell_type": "code",
   "execution_count": null,
   "metadata": {
    "collapsed": true
   },
   "outputs": [],
   "source": [
    "seq_lengths = np.arange(101)\n",
    "sweep.sweep(bench, (seq_lengths, bench.set_sequence_length_and_regenerate, 'Gate number'))"
   ]
  },
  {
   "cell_type": "code",
   "execution_count": null,
   "metadata": {
    "collapsed": true
   },
   "outputs": [],
   "source": [
    "bench.target_gate = bench.interleavers['X']['pulses']\n",
    "bench.target_gate_unitary = bench.interleavers['X']['unitary']\n",
    "bench.target_gate_name = 'X (benchmarking)'\n",
    "tfunc = lambda : np.mean(bench.measure()['Euclidean distance'])\n",
    "class hd_pulse_generator:\n",
    "    def __init__(self, pulse_setter, pg, channel):\n",
    "        self.amp_x = -amp_x_hd\n",
    "        self.amp_y = amp_x_hd\n",
    "        self.sigma = sigma_hd\n",
    "        self.length = length_hd\n",
    "        self.pause_length = pause_length_hd\n",
    "        self.alpha = alpha_hd\n",
    "        \n",
    "        self.pg = pg\n",
    "        self.channel = channel\n",
    "        self.pulse = self.pulse_gen()\n",
    "        self.pulse_setter = pulse_setter\n",
    "    def set_real_amplitude(self,x):\n",
    "        self.amp_x = x\n",
    "        self.pulse_setter(self.pulse_gen())\n",
    "    def set_imag_amplitude(self,y):\n",
    "        self.amp_y = y\n",
    "        self.pulse_setter(self.pulse_gen())\n",
    "    def set_sigma(self,s):\n",
    "        self.sigma = s\n",
    "        self.pulse_setter(self.pulse_gen())\n",
    "    def set_length(self,l):\n",
    "        self.length = l\n",
    "        self.pulse_setter(self.pulse_gen())\n",
    "    def set_pause_length(self, p):\n",
    "        self.pause_length = p\n",
    "        self.pulse_setter(self.pulse_gen())\n",
    "    def set_alpha(self, a):\n",
    "        self.alpha = a\n",
    "        self.pulse_setter(self.pulse_gen())\n",
    "    def pulse_gen(self):\n",
    "        return [pg.p(self.channel, self.length, self.pg.gauss_hd, self.amp_x+1j*self.amp_y, 0, self.sigma, self.alpha), pg.p(None, self.pause_length)]\n",
    "    \n",
    "xg = hd_pulse_generator(bench.set_target_pulse, pg, 'iq_ex')"
   ]
  },
  {
   "cell_type": "code",
   "execution_count": null,
   "metadata": {
    "collapsed": true
   },
   "outputs": [],
   "source": [
    "sol, score = sweep.optimize(tfunc,  (xg.set_real_amplitude, xg.amp_x), \n",
    "                                    (xg.set_imag_amplitude, xg.amp_y),\n",
    "                                    (xg.set_alpha, xg.alpha))"
   ]
  },
  {
   "cell_type": "code",
   "execution_count": null,
   "metadata": {
    "collapsed": true
   },
   "outputs": [],
   "source": [
    "amps = np.linspace(0.925, 0.975, 21)\n",
    "alphas = np.linspace(-2e-9, 2e-9, 11)\n",
    "sweep.sweep(bench, (amps, xg.set_real_amplitude, 'Amplitude'), (alphas, xg.set_alpha, 'HD DRAG coeff'), filename='Randomized interleaved benchmarging X-rotation')"
   ]
  },
  {
   "cell_type": "code",
   "execution_count": null,
   "metadata": {
    "collapsed": true
   },
   "outputs": [],
   "source": [
    "data = save_pkl.load_pkl('Euclidean distance Randomized interleaved benchmarging X-rotation', 'D:\\\\qtlab\\\\ReiData\\\\data\\\\2017-07-02\\\\23-03-34')\n",
    "plt.figure()\n",
    "plt.pcolormesh(data[1]['Euclidean distance'][1][1], data[1]['Euclidean distance'][1][0], data[1]['Euclidean distance'][2][:,:,5])\n",
    "plt.colorbar()"
   ]
  },
  {
   "cell_type": "code",
   "execution_count": null,
   "metadata": {
    "collapsed": true
   },
   "outputs": [],
   "source": [
    "data[1]"
   ]
  },
  {
   "cell_type": "code",
   "execution_count": null,
   "metadata": {
    "collapsed": true
   },
   "outputs": [],
   "source": [
    "data[1]['Euclidean distance']"
   ]
  },
  {
   "cell_type": "code",
   "execution_count": null,
   "metadata": {
    "collapsed": true
   },
   "outputs": [],
   "source": [
    "meas = bench.measure()"
   ]
  },
  {
   "cell_type": "code",
   "execution_count": null,
   "metadata": {
    "collapsed": true
   },
   "outputs": [],
   "source": [
    "meas['Xo']"
   ]
  },
  {
   "cell_type": "code",
   "execution_count": null,
   "metadata": {
    "collapsed": true
   },
   "outputs": [],
   "source": [
    "import plotting\n",
    "imp.reload(plotting)\n",
    "plotting.plot_measurement(bench.reference_benchmark_result)"
   ]
  },
  {
   "cell_type": "markdown",
   "metadata": {},
   "source": [
    "# Optimizing Drag"
   ]
  },
  {
   "cell_type": "code",
   "execution_count": null,
   "metadata": {
    "collapsed": true
   },
   "outputs": [],
   "source": [
    "num_interleved_pulses = 2\n",
    "alphas = np.linspace(-1e-8, 1e-8, 201)\n",
    "def set_drag (alpha):\n",
    "    ramsey_half = [pg.p('iq_ex', length_hd, pg.gauss_hd, amp_x_hd, 0, sigma_hd, alpha), \n",
    "                 pg.p(None, pause_length_hd)]\n",
    "    interleaved_identity = [pg.p('iq_ex', length_hd, pg.gauss_hd, -amp_x_hd, 0, sigma_hd, alpha), \n",
    "                           pg.p(None, pause_length_hd),\n",
    "                           pg.p('iq_ex', length_hd, pg.gauss_hd, amp_x_hd, 0, sigma_hd, alpha), \n",
    "                           pg.p(None, pause_length_hd)]\n",
    "    tomo.set_prepare_seq(ramsey_half+interleaved_identity*num_interleved_pulses+ramsey_half)\n",
    "    \n",
    "measurement = sweep.sweep(tomo, (alphas, set_drag, 'delta_freq'), filename='DRAG', output=False)"
   ]
  },
  {
   "cell_type": "markdown",
   "metadata": {},
   "source": [
    "### Randomized Benchmarking"
   ]
  },
  {
   "cell_type": "code",
   "execution_count": null,
   "metadata": {
    "collapsed": true
   },
   "outputs": [],
   "source": [
    "pause_pulse = tomography.pause(pause_length, awg_channels)\n",
    "pulses = {0:tomography.ex_gauss_hd(amp_x_hd, amp_y_hd, length_hd, sigma_hd, awg_channels, -200e6/np.pi),\n",
    "          1:tomography.ex_gauss_hd(amp_y_hd, -amp_x_hd, length_hd, sigma_hd, awg_channels, -200e6/np.pi),\n",
    "          2:tomography.ex_gauss_hd(-amp_x_hd, -amp_y_hd, length_hd, sigma_hd, awg_channels, -200e6/np.pi),\n",
    "          3:tomography.ex_gauss_hd(-amp_y_hd, amp_x_hd, length_hd, sigma_hd, awg_channels, -200e6/np.pi)}\n",
    "\n",
    "unitaries = {0:np.sqrt(0.5)*np.asarray([[1, -1j],  [-1j, 1]]),\\\n",
    "             1:np.sqrt(0.5)*np.asarray([[1, -1],    [1, 1]]),\\\n",
    "             2:np.sqrt(0.5)*np.asarray([[1, 1j],   [1j, 1]]),\\\n",
    "             3:np.sqrt(0.5)*np.asarray([[1, 1],   [-1, 1]])}\n",
    "\n",
    "observables = { 'X': 0.5*np.asarray([[0, 1],   [1, 0]]),\n",
    "                'Y': 0.5*np.asarray([[0, -1j],   [1j, 0]]),\n",
    "                '-X': 0.5*np.asarray([[0, -1],   [-1, 0]]),\n",
    "                '-Y': 0.5*np.asarray([[0, 1j],   [-1j, 0]]),\n",
    "                'Z': 0.5*np.asarray([[1, 0],   [0, -1]])}\n",
    "\n",
    "initial = np.asarray([0, 1]).T\n",
    "random_pulse_ids = np.arange(20)\n",
    "num_gates = np.linspace(0, 100, 11)\n",
    "\n",
    "sequences = []\n",
    "pulse_sequences = []\n",
    "theor_projs = {o:np.zeros((len(num_gates), len(random_pulse_ids))) for o in observables.keys()}\n",
    "rho_t = np.zeros((len(num_gates), len(random_pulse_ids),2,2), dtype=np.complex)\n",
    "psis = np.zeros((len(num_gates), len(random_pulse_ids),2), dtype=np.complex)\n",
    "n=0\n",
    "\n",
    "def set_num_gates(n_new):\n",
    "    global n\n",
    "    n = n_new\n",
    "\n",
    "def set_random_sequence(id):\n",
    "    sequence = np.random.randint (4, size = n).tolist()\n",
    "    sequence_pulses = [j for i in [[pulses[i], pause_pulse] for i in sequence] for j in i]\n",
    "    sequence_unitaries = [unitaries[i] for i in sequence]\n",
    "    psi = initial.copy()\n",
    "    \n",
    "    for U in sequence_unitaries:\n",
    "        psi = np.dot(U, psi)\n",
    "    \n",
    "    rho_t[n,id,:,:] = np.einsum('i,j->ij', np.conj(psi), psi)\n",
    "    psis[n,id,:] = psi\n",
    "    \n",
    "    sequences.append(sequence)\n",
    "    for o in observables.keys():\n",
    "        theor_projs[o][n,id] = np.dot(np.dot(np.conj(psi), observables[o]), psi)\n",
    "    \n",
    "    tomo_hd.set_prepare_seq(sequence_pulses)\n",
    "    pulse_sequences.append(sequence_pulses)\n",
    "    \n",
    "m = sweep.sweep(tomo_hd, (num_gates, set_num_gates, 'gate num'), (random_pulse_ids, set_random_sequence, 'random seq id'), filename='RB', output=False)\n",
    "X = (m['X'][2]-m['-X'][2])/2.\n",
    "Y = (m['Y'][2]-m['-Y'][2])/2.\n",
    "Z = m['Z'][2]\n",
    "rho_m = np.transpose([[0.5+Z, X+1j*Y], [X-1j*Y, 0.5-Z]], [2,3,0,1])\n",
    "fidelities = np.sqrt(np.einsum('nmi,nmji,nmj->nm', np.conj(psis), rho_m, psis))\n",
    "\n",
    "m['Fidelity'] = [d for d in m['X']]\n",
    "m['Fidelity'][2] = np.asarray(fidelities, dtype=np.float)\n",
    "for o,O in observables.items():\n",
    "    m[o+' fit'] = [d for d in m[o]]\n",
    "    m[o+' fit'][2] = np.asarray(theor_projs[o], dtype=np.float)\n",
    "#m['rho_t'] = m['X'].copy()\n",
    "save_pkl.save_pkl({'type':'Randomized benchmark Clifford'}, m)"
   ]
  },
  {
   "cell_type": "code",
   "execution_count": null,
   "metadata": {
    "collapsed": true
   },
   "outputs": [],
   "source": [
    "plt.plot(m['Fidelity'][1]m['Fidelity'])"
   ]
  },
  {
   "cell_type": "code",
   "execution_count": null,
   "metadata": {
    "collapsed": true
   },
   "outputs": [],
   "source": [
    "rho_m"
   ]
  },
  {
   "cell_type": "code",
   "execution_count": null,
   "metadata": {
    "collapsed": true
   },
   "outputs": [],
   "source": [
    "plt.plot(m['Fidelity'][1][0], np.mean(m['Fidelity'][2],axis=1))\n",
    "plt.xlabel('gate num')\n",
    "plt.ylabel('fidelity')\n",
    "plt.grid()"
   ]
  },
  {
   "cell_type": "code",
   "execution_count": null,
   "metadata": {
    "collapsed": true,
    "scrolled": true
   },
   "outputs": [],
   "source": [
    "rho_m = np.transpose([[0.5+Z, X+1j*Y], [X-1j*Y, 0.5-Z]], [2,3,0,1])\n",
    "fidelities = np.sqrt(np.einsum('mni,mnji,mnj->mn', np.conj(psis), rho_m, psis))\n",
    "\n",
    "m['Fidelity'] = [d for d in m['X']]\n",
    "m['Fidelity'][2] = np.asarray(fidelities, dtype=np.float)\n",
    "for o,O in observables.items():\n",
    "    m[o+' fit'] = [d for d in m[o]]\n",
    "    m[o+' fit'][2] = np.asarray(theor_projs[o], dtype=np.float)\n",
    "#m['rho_t'] = m['X'].copy()\n",
    "save_pkl.save_pkl({'type':'Randomized benchmark Clifford'}, m)"
   ]
  },
  {
   "cell_type": "code",
   "execution_count": null,
   "metadata": {
    "collapsed": true
   },
   "outputs": [],
   "source": [
    "m"
   ]
  },
  {
   "cell_type": "code",
   "execution_count": null,
   "metadata": {
    "collapsed": true
   },
   "outputs": [],
   "source": []
  },
  {
   "cell_type": "code",
   "execution_count": null,
   "metadata": {
    "collapsed": true
   },
   "outputs": [],
   "source": [
    "fidelities"
   ]
  },
  {
   "cell_type": "code",
   "execution_count": null,
   "metadata": {
    "collapsed": true
   },
   "outputs": [],
   "source": [
    "psis"
   ]
  },
  {
   "cell_type": "code",
   "execution_count": null,
   "metadata": {
    "collapsed": true
   },
   "outputs": [],
   "source": [
    "rho_m"
   ]
  },
  {
   "cell_type": "code",
   "execution_count": null,
   "metadata": {
    "collapsed": true
   },
   "outputs": [],
   "source": [
    "rho_t"
   ]
  },
  {
   "cell_type": "code",
   "execution_count": null,
   "metadata": {
    "collapsed": true
   },
   "outputs": [],
   "source": [
    "measurement['theory'] = thoer_proj\n",
    "save_pkl.save_pkl({'type':'Randomized benchmark Clifford'}, measurement)"
   ]
  },
  {
   "cell_type": "code",
   "execution_count": null,
   "metadata": {
    "collapsed": true
   },
   "outputs": [],
   "source": [
    "print(theor_projs)\n",
    "print(measurement)\n",
    "print(psis)\n",
    "print (sequences)\n",
    "print (rho_t)\n",
    "print (rho_m)"
   ]
  },
  {
   "cell_type": "code",
   "execution_count": null,
   "metadata": {
    "collapsed": true
   },
   "outputs": [],
   "source": [
    "np.dot(np.conj(psis[1]), np.dot(observables['Y'],psis[1]))"
   ]
  },
  {
   "cell_type": "code",
   "execution_count": null,
   "metadata": {
    "collapsed": true
   },
   "outputs": [],
   "source": [
    "num_pulses = np.round(np.arange(0, 41)).astype(np.int)\n",
    "\n",
    "def set_num_pulses(n):\n",
    "    tomoz.set_prepare_seq([tomography.ex_gauss(amp_x, length, sigma, awg_channels), \n",
    "                          tomography.pause(pause_length, awg_channels)]*n)\n",
    "\n",
    "measurement = sweep.sweep(tomoz, (num_pulses, set_num_pulses, 'SX pi2 pulse num'), filename='Rabi', output=False)"
   ]
  },
  {
   "cell_type": "code",
   "execution_count": null,
   "metadata": {
    "collapsed": true
   },
   "outputs": [],
   "source": [
    "num_pulses = np.round(np.arange(0, 21)).astype(np.int)\n",
    "\n",
    "def set_num_pulses(n):\n",
    "    tomo.set_prepare_seq([tomography.ex_gauss_hd(amp_x_hd, amp_y_hd, length_hd, sigma_hd, awg_channels, -200e6/np.pi), \n",
    "                          tomography.pause(pause_length, awg_channels)]*n)\n",
    "\n",
    "measurement = sweep.sweep(tomo, (num_pulses, set_num_pulses, 'SX pi2 pulse num'), filename='Rabi', output=False)"
   ]
  },
  {
   "cell_type": "code",
   "execution_count": null,
   "metadata": {
    "collapsed": true
   },
   "outputs": [],
   "source": [
    "num_pulses = np.round(np.arange(0, 21)).astype(np.int)\n",
    "\n",
    "def set_num_pulses(n):\n",
    "    tomo.set_prepare_seq([tomography.ex_gauss(amp_x_hd, length_hd, sigma_hd, awg_channels), \n",
    "                          tomography.pause(pause_length, awg_channels)]*n)\n",
    "\n",
    "measurement = sweep.sweep(tomo, (num_pulses, set_num_pulses, 'SX pi2 pulse num'), filename='Rabi', output=False)"
   ]
  },
  {
   "cell_type": "code",
   "execution_count": null,
   "metadata": {
    "collapsed": true
   },
   "outputs": [],
   "source": [
    "ex_amplitude=0.25\n",
    "lengths = np.linspace(0e-9, 200e-9, 51)\n",
    "readout_begin = np.max(lengths)\n",
    "\n",
    "def set_ex_length(length):\n",
    "    tomo.set_prepare_seq([tomography.ex_rect(ex_amplitude, length, awg_channels), tomography.pause(pause_length, awg_channels)])\n",
    "\n",
    "measurement = sweep.sweep(tomo, (lengths, set_ex_length, 'Rabi x-axis pulse length'), filename='Rabi', output=False)"
   ]
  },
  {
   "cell_type": "code",
   "execution_count": null,
   "metadata": {
    "collapsed": true
   },
   "outputs": [],
   "source": [
    "from mpl_toolkits.mplot3d import Axes3D\n",
    "fig = plt.figure()\n",
    "ax = fig.add_subplot(111, projection='3d')\n",
    "ax.plot(measurement ['X'][2], measurement ['Y'][2], measurement ['Z'][2], c='r', marker='o')\n",
    "ax.set_xlabel('X')\n",
    "ax.set_ylabel('Y')\n",
    "ax.set_zlabel('Z')\n",
    "ax.set_xlim([-0.6, 0.6])\n",
    "ax.set_ylim([-0.6, 0.6])\n",
    "ax.set_zlim([-0.6, 0.6])"
   ]
  },
  {
   "cell_type": "code",
   "execution_count": null,
   "metadata": {
    "collapsed": true
   },
   "outputs": [],
   "source": [
    "ex_amplitude = 0.25\n",
    "pause_length = 16e-9\n",
    "lengths = np.linspace(0e-9, 2000e-9, 2001)\n",
    "readout_begin = np.max(lengths)\n",
    "\n",
    "def set_ex_length(length):\n",
    "    tomo.set_prepare_seq([tomography.ex_rect(1j*ex_amplitude, length, awg_channels), tomography.pause(pause_length, awg_channels)])\n",
    "\n",
    "measurement = sweep.sweep(tomo, (lengths, set_ex_length, 'Rabi y-axis pulse length'), filename='Rabi', output=False)"
   ]
  },
  {
   "cell_type": "markdown",
   "metadata": {},
   "source": [
    "### Optimizing phase between x and y pulses"
   ]
  },
  {
   "cell_type": "code",
   "execution_count": null,
   "metadata": {
    "collapsed": true
   },
   "outputs": [],
   "source": [
    "c_phase = 0\n",
    "c_n = 0\n",
    "\n",
    "adc.set_software_averages(1)\n",
    "adc.set_software_nums_multi(3)\n",
    "\n",
    "def set_n(n):\n",
    "    global c_n\n",
    "    global c_phase\n",
    "    c_n = n \n",
    "    y_pulse = [tomography.ex_gauss_hd(amp_x_hd*np.exp(1j*c_phase), amp_y_hd*np.exp(1j*c_phase), length_hd, sigma_hd, awg_channels, -200e6), tomography.pause(pause_length, awg_channels)]\n",
    "    tomo.set_prepare_seq(y_pulse*c_n)\n",
    "\n",
    "def set_y_phase(phase):\n",
    "    global c_n\n",
    "    global c_phase\n",
    "    c_phase = phase\n",
    "    y_pulse = [tomography.ex_gauss_hd(amp_x_hd*np.exp(1j*c_phase), amp_y_hd*np.exp(1j*c_phase), length_hd, sigma_hd, awg_channels, -200e6), tomography.pause(pause_length, awg_channels)]\n",
    "    tomo.set_prepare_seq(y_pulse*c_n)\n",
    "\n",
    "phases = np.linspace(np.pi/2.*0.8, np.pi/2.*1.2, 11, endpoint=False)\n",
    "num_pulses = np.arange(0,5)\n",
    "measurement = sweep.sweep(tomo, (phases, set_y_phase, 'y-pulse phase'), (num_pulses, set_n, 'y pulse num'), filename='y-phase', output=False)"
   ]
  },
  {
   "cell_type": "code",
   "execution_count": null,
   "metadata": {
    "collapsed": true
   },
   "outputs": [],
   "source": [
    "phases[7]"
   ]
  },
  {
   "cell_type": "code",
   "execution_count": null,
   "metadata": {
    "collapsed": true
   },
   "outputs": [],
   "source": [
    "plt.plot(np.asarray(results).T)"
   ]
  },
  {
   "cell_type": "code",
   "execution_count": null,
   "metadata": {
    "collapsed": true
   },
   "outputs": [],
   "source": [
    "adc.stop()"
   ]
  },
  {
   "cell_type": "code",
   "execution_count": null,
   "metadata": {
    "collapsed": true
   },
   "outputs": [],
   "source": [
    "plt.close()"
   ]
  },
  {
   "cell_type": "markdown",
   "metadata": {
    "collapsed": true
   },
   "source": [
    "# load calibration data"
   ]
  },
  {
   "cell_type": "code",
   "execution_count": null,
   "metadata": {
    "collapsed": true
   },
   "outputs": [],
   "source": [
    "import pickle\n",
    "f0 = open('D:\\\\qtlab\\\\ReiData\\\\data\\\\2017-04-26\\\\13-11-46\\\\Voltage ro calibration.pkl', 'rb')\n",
    "f1 = open('D:\\\\qtlab\\\\ReiData\\\\data\\\\2017-04-26\\\\13-11-14\\\\Voltage ro calibration.pkl', 'rb')\n",
    "cal0 = pickle.load(f0)\n",
    "cal1 = pickle.load(f1)"
   ]
  },
  {
   "cell_type": "code",
   "execution_count": null,
   "metadata": {
    "collapsed": true
   },
   "outputs": [],
   "source": [
    "import numpy as np\n",
    "import matplotlib.pyplot as plt\n",
    "%matplotlib qt4\n",
    "cal0_nomean = cal0[1]['Voltage'][2][0,:,:]-np.mean(cal0[1]['Voltage'][2][0,:,:])\n",
    "cal1_nomean = cal0[1]['Voltage'][2][1,:,:]-np.mean(cal0[1]['Voltage'][2][1,:,:])\n",
    "\n",
    "cal0_mean = np.mean(cal0_nomean, axis=0)\n",
    "cal1_mean = np.mean(cal1_nomean, axis=0)"
   ]
  },
  {
   "cell_type": "code",
   "execution_count": null,
   "metadata": {
    "collapsed": true
   },
   "outputs": [],
   "source": [
    "cal_mean = (cal0_mean+cal1_mean)/2.\n",
    "cal_diff = (cal1_mean-cal0_mean)\n",
    "\n",
    "plt.figure('Samples')\n",
    "plt.plot(np.mean(cal0_nomean, axis=0), label='|0>')\n",
    "plt.plot(np.mean(cal1_nomean, axis=0), label='|1>')\n",
    "plt.legend()\n",
    "\n",
    "plt.figure('Offset & feature')\n",
    "plt.plot(cal_mean, label='mean')\n",
    "plt.plot(cal_diff, label='diff')\n",
    "plt.legend()"
   ]
  },
  {
   "cell_type": "code",
   "execution_count": null,
   "metadata": {
    "collapsed": true
   },
   "outputs": [],
   "source": [
    "plt.figure('Fourier domain')\n",
    "plt.plot(np.abs(np.fft.fft(cal0_mean)), label='|0>')\n",
    "plt.plot(np.abs(np.fft.fft(cal1_mean)), label='|1>') \n",
    "plt.plot(np.abs(np.fft.fft(cal_mean)), label='mean')\n",
    "plt.plot(np.abs(np.fft.fft(cal_diff)), label='diff')\n",
    "plt.legend()\n",
    "\n",
    "feature = np.conj(cal_diff/np.sum(np.abs(cal_diff**2)))"
   ]
  },
  {
   "cell_type": "code",
   "execution_count": null,
   "metadata": {
    "collapsed": true
   },
   "outputs": [],
   "source": [
    "coeffs0 = np.dot(cal0_nomean-cal_mean, feature)\n",
    "coeffs1 = np.dot(cal1_nomean-cal_mean, feature)\n",
    "predictions = np.asarray([np.real(coeffs0), np.real(coeffs1)])"
   ]
  },
  {
   "cell_type": "code",
   "execution_count": null,
   "metadata": {
    "collapsed": true
   },
   "outputs": [],
   "source": [
    "hist_all, bins = np.histogram(predictions, bins='auto')\n",
    "proba_points = (bins[1:]+bins[:-1])/2.\n",
    "hists = []\n",
    "for y in range(2):\n",
    "    hists.append(np.histogram(predictions[y,:], bins=bins)[0])\n",
    "\n",
    "hists = np.asarray(hists, dtype=float)\n",
    "probabilities = hists/hist_all\n",
    "naive_probabilities = np.asarray([proba_points<0, proba_points>0], dtype=float)\n",
    "probabilities[np.isnan(probabilities)] = naive_probabilities[np.isnan(probabilities)]\n",
    "predictor = lambda x: np.interp(x, proba_points, probabilities[1,:], left=0., right=1.)\n",
    "calib_proba_points = proba_points\n",
    "calib_proba = probabilities[1,:]\n",
    "calib_hists = hists"
   ]
  },
  {
   "cell_type": "code",
   "execution_count": null,
   "metadata": {
    "collapsed": true
   },
   "outputs": [],
   "source": [
    "from sklearn.metrics import roc_curve, roc_auc_score\n",
    "roc = roc_curve([0]*coeffs0.size+[1]*coeffs0.size, predictor(predictions.ravel()))\n",
    "roc_auc = roc_auc_score([0]*coeffs0.size+[1]*coeffs0.size, predictor(predictions.ravel()))"
   ]
  },
  {
   "cell_type": "code",
   "execution_count": null,
   "metadata": {
    "collapsed": true
   },
   "outputs": [],
   "source": [
    "plt.figure('ROC')\n",
    "plt.plot(roc[0], roc[1])\n",
    "plt.xlabel('True Positive Rate')\n",
    "plt.ylabel('True Negative Rate')\n",
    "roc_auc"
   ]
  },
  {
   "cell_type": "code",
   "execution_count": null,
   "metadata": {
    "collapsed": true
   },
   "outputs": [],
   "source": [
    "plt.figure('probability curve')\n",
    "plt.plot(calib_proba_points, calib_proba)"
   ]
  },
  {
   "cell_type": "code",
   "execution_count": null,
   "metadata": {
    "collapsed": true
   },
   "outputs": [],
   "source": [
    "plt.figure('Readout hists')\n",
    "plt.bar(proba_points-0.25, hists[0], width=0.05, label='|0>')\n",
    "plt.bar(proba_points+0.25, hists[1], width=0.05, label='|1>')\n",
    "plt.legend()"
   ]
  },
  {
   "cell_type": "code",
   "execution_count": null,
   "metadata": {
    "collapsed": true
   },
   "outputs": [],
   "source": [
    "plt.close()"
   ]
  },
  {
   "cell_type": "code",
   "execution_count": null,
   "metadata": {
    "collapsed": true
   },
   "outputs": [],
   "source": [
    "cal0_nomean.shape"
   ]
  },
  {
   "cell_type": "code",
   "execution_count": null,
   "metadata": {
    "collapsed": true
   },
   "outputs": [],
   "source": [
    "plt.figure(figsize=(12,3))\n",
    "plt.imshow(np.sum(np.real(np.reshape(cal0_nomean, (200, 100, 1024))), axis=0), cmap='RdBu')\n",
    "plt.figure(figsize=(12,3))\n",
    "plt.imshow(np.sum(np.real(np.reshape(cal1_nomean, (200, 100, 1024))), axis=0), cmap='RdBu')"
   ]
  },
  {
   "cell_type": "code",
   "execution_count": null,
   "metadata": {
    "collapsed": true
   },
   "outputs": [],
   "source": [
    "plt.plot(np.mean(cal0_nomean, axis=0))\n",
    "plt.plot(np.mean(cal1_nomean, axis=0))"
   ]
  },
  {
   "cell_type": "markdown",
   "metadata": {},
   "source": [
    "### extract samples from scan from their directories and put into a new directory"
   ]
  },
  {
   "cell_type": "code",
   "execution_count": null,
   "metadata": {
    "collapsed": true
   },
   "outputs": [],
   "source": [
    "import os\n",
    "import glob\n",
    "new_root = 'D:\\\\qtlab\\\\ReiData\\\\data\\\\2018-03-13\\\\Paramp-on-samples\\\\'\n",
    "path = 'D:\\\\qtlab\\\\ReiData\\\\data\\\\2018-03-13\\\\Paramp-on-samples\\\\day2\\\\*\\\\*.pkl'\n",
    "pickles = glob.glob(path)\n",
    "for pickle in pickles:\n",
    "    pickle_name = pickle[(pickle.rfind('\\\\')+1):]\n",
    "    amplitude = 0.05\n",
    "    pickle_renamed = pickle_name.replace('ro_dac_amiltude 1.00', 'ro_dac_amplitude {0:.2f}'.format(amplitude))\n",
    "    i = 0\n",
    "    while(os.path.exists(new_root+pickle_renamed)):\n",
    "        amplitude += 0.05\n",
    "        pickle_renamed = pickle_name.replace('ro_dac_amiltude 1.00', 'ro_dac_amplitude {0:.2f}'.format(amplitude))\n",
    "        i += 1 \n",
    "        if i> 100:\n",
    "            raise(Exception('infinite loop '+pickle_renamed))\n",
    "    #print (pickle_name)\n",
    "    os.rename(pickle, new_root+pickle_renamed)"
   ]
  },
  {
   "cell_type": "markdown",
   "metadata": {},
   "source": [
    "### zip samples"
   ]
  },
  {
   "cell_type": "code",
   "execution_count": null,
   "metadata": {
    "collapsed": true,
    "scrolled": true
   },
   "outputs": [],
   "source": [
    "import zipfile\n",
    "sources = 'D:\\\\qtlab\\\\ReiData\\\\data\\\\2018-03-13\\\\Paramp-on-samples\\\\*.pkl'\n",
    "pickles = glob.glob(sources)\n",
    "for pickle in pickles:\n",
    "    #pickle_name = pickle[(pickle.rfind('\\\\')+1):]\n",
    "    print (pickle)\n",
    "    zout = zipfile.ZipFile(pickle+'.zip', \"w\", zipfile.ZIP_DEFLATED)\n",
    "    zout.write(pickle)\n",
    "    zout.close()"
   ]
  },
  {
   "cell_type": "code",
   "execution_count": null,
   "metadata": {
    "collapsed": true
   },
   "outputs": [],
   "source": []
  }
 ],
 "metadata": {
  "kernelspec": {
   "display_name": "Python 3",
   "language": "python",
   "name": "python3"
  },
  "language_info": {
   "codemirror_mode": {
    "name": "ipython",
    "version": 3
   },
   "file_extension": ".py",
   "mimetype": "text/x-python",
   "name": "python",
   "nbconvert_exporter": "python",
   "pygments_lexer": "ipython3"
  },
  "toc": {
   "base_numbering": 1,
   "nav_menu": {},
   "number_sections": true,
   "sideBar": true,
   "skip_h1_title": false,
   "title_cell": "Table of Contents",
   "title_sidebar": "Contents",
   "toc_cell": false,
   "toc_position": {},
   "toc_section_display": true,
   "toc_window_display": false
  }
 },
 "nbformat": 4,
 "nbformat_minor": 1
}
