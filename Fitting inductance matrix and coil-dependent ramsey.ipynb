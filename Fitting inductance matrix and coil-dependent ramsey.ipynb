{
 "cells": [
  {
   "cell_type": "code",
   "execution_count": 237,
   "metadata": {},
   "outputs": [],
   "source": [
    "import qsweepy.save_pkl\n",
    "import pandas as pd\n",
    "import matplotlib.pyplot as plt\n",
    "import qsweepy.fitting as fitting\n",
    "import numpy as np\n",
    "%matplotlib qt5\n",
    "\n",
    "measurement_folders = {'qubit1 Ramsey':\n",
    "               {'paths': [r'D:\\data\\2018-09-22\\21-59-17-Ramsey (target offset -3.00 MHz), excitation channel iq_ex_q1_F01_min',\n",
    "                          r'D:\\data\\2018-09-23\\11-44-17-Ramsey (target offset -3.00 MHz), excitation channel iq_ex_q1_F01_min',\n",
    "                          r'D:\\data\\2018-09-24\\01-33-32-Ramsey (target offset -3.00 MHz), excitation channel iq_ex_q1_F01_min'],\n",
    "                'name': 'Ramsey (target offset -3.00 MHz), excitation channel iq_ex_q1_F01_min', 'q': '1'},\n",
    "                       'qubit1 spin echo':\n",
    "               {'paths': [r'D:\\data\\2018-09-23\\01-37-08-Spin echo (target offset -3.00 MHz), excitation channel iq_ex_q1_F01_min',\n",
    "                          r'D:\\data\\2018-09-23\\15-22-13-Spin echo (target offset -3.00 MHz), excitation channel iq_ex_q1_F01_min',\n",
    "                          r'D:\\data\\2018-09-24\\05-13-17-Spin echo (target offset -3.00 MHz), excitation channel iq_ex_q1_F01_min'],\n",
    "                'name': 'Spin echo (target offset -3.00 MHz), excitation channel iq_ex_q1_F01_min', 'q':'1', 'comment':'spin echo'},\n",
    "                       'qubit1 decay':\n",
    "               {'paths': [r'D:\\data\\2018-09-22\\22-54-15-Decay, excitation channel iq_ex_q1_F01_min',\n",
    "                          r'D:\\data\\2018-09-23\\12-39-08-Decay, excitation channel iq_ex_q1_F01_min',\n",
    "                          r'D:\\data\\2018-09-24\\02-28-52-Decay, excitation channel iq_ex_q1_F01_min'],\n",
    "                'name': 'Decay, excitation channel iq_ex_q1_F01_min', 'q':'1', 'fittype':'exp', 'comment':'decay'},\n",
    "                       'qubit2 Ramsey':\n",
    "               {'paths': [r'D:\\data\\2018-09-23\\02-34-17-Ramsey (target offset -3.00 MHz), excitation channel iq_ex_q2_F01_min',\n",
    "                          r'D:\\data\\2018-09-23\\16-19-24-Ramsey (target offset -3.00 MHz), excitation channel iq_ex_q2_F01_min',\n",
    "                          r'D:\\data\\2018-09-24\\06-11-07-Ramsey (target offset -3.00 MHz), excitation channel iq_ex_q2_F01_min'],\n",
    "                'name': 'Ramsey (target offset -3.00 MHz), excitation channel iq_ex_q2_F01_min', 'q': '2'},\n",
    "                       'qubit2 spin echo':\n",
    "               {'paths': [r'D:\\data\\2018-09-23\\06-11-54-Spin echo (target offset -3.00 MHz), excitation channel iq_ex_q2_F01_min',\n",
    "                          r'D:\\data\\2018-09-23\\19-58-00-Spin echo (target offset -3.00 MHz), excitation channel iq_ex_q2_F01_min',\n",
    "                          r'D:\\data\\2018-09-24\\09-51-39-Spin echo (target offset -3.00 MHz), excitation channel iq_ex_q2_F01_min'],\n",
    "                'name': 'Spin echo (target offset -3.00 MHz), excitation channel iq_ex_q2_F01_min', 'q':'2', 'comment':'spin echo'},\n",
    "                       'qubit2 decay':\n",
    "               {'paths': [r'D:\\data\\2018-09-23\\03-29-07-Decay, excitation channel iq_ex_q2_F01_min',\n",
    "                          r'D:\\data\\2018-09-23\\17-14-15-Decay, excitation channel iq_ex_q2_F01_min',\n",
    "                          r'D:\\data\\2018-09-24\\07-06-32-Decay, excitation channel iq_ex_q2_F01_min'],\n",
    "                'name': 'Decay, excitation channel iq_ex_q2_F01_min', 'q':'2', 'fittype':'exp', 'comment':'decay'},\n",
    "                       'qubit3 Ramsey':\n",
    "               {'paths': [r'D:\\data\\2018-09-23\\07-08-57-Ramsey (target offset -3.00 MHz), excitation channel iq_ex_q3_F01_min',\n",
    "                          r'D:\\data\\2018-09-23\\20-55-37-Ramsey (target offset -3.00 MHz), excitation channel iq_ex_q3_F01_min',\n",
    "                          r'D:\\data\\2018-09-24\\10-50-19-Ramsey (target offset -3.00 MHz), excitation channel iq_ex_q3_F01_min'],\n",
    "                'name': 'Ramsey (target offset -3.00 MHz), excitation channel iq_ex_q3_F01_min', 'q': '3'},\n",
    "                       'qubit3 spin echo':\n",
    "               {'paths': [r'D:\\data\\2018-09-23\\10-46-36-Spin echo (target offset -3.00 MHz), excitation channel iq_ex_q3_F01_min',\n",
    "                          r'D:\\data\\2018-09-24\\00-35-44-Spin echo (target offset -3.00 MHz), excitation channel iq_ex_q3_F01_min'],\n",
    "                'name': 'Spin echo (target offset -3.00 MHz), excitation channel iq_ex_q3_F01_min', 'q':'3', 'comment':'decay'},\n",
    "                       'qubit3 decay':\n",
    "               {'paths': [r'D:\\data\\2018-09-23\\08-03-46-Decay, excitation channel iq_ex_q3_F01_min',\n",
    "                          r'D:\\data\\2018-09-23\\21-50-55-Decay, excitation channel iq_ex_q3_F01_min'],\n",
    "                'name': 'Decay, excitation channel iq_ex_q3_F01_min', 'q':'3', 'fittype':'exp', 'comment':'decay'},}\n",
    "measurement_folders = {'qubit2 Ramsey':\n",
    "               {'paths': [r'D:\\data\\2018-09-24\\14-14-45-Ramsey (target offset -3.00 MHz), excitation channel iq_ex_q2_F01_min',\n",
    "                          r'D:\\data\\2018-09-24\\15-19-59-Ramsey (target offset -3.00 MHz), excitation channel iq_ex_q2_F01_min'],\n",
    "                'name': 'Ramsey (target offset -3.00 MHz), excitation channel iq_ex_q2_F01_min', 'q': '2'}, \n",
    "                       'qubit3 Ramsey':\n",
    "               {'paths': [r'D:\\data\\2018-09-24\\14-47-19-Ramsey (target offset -3.00 MHz), excitation channel iq_ex_q3_F01_min'],\n",
    "                'name': 'Ramsey (target offset -3.00 MHz), excitation channel iq_ex_q3_F01_min', 'q': '3'}}\n",
    "measurement_folders = {'qubit2 Ramsey':\n",
    "               {'paths': [r'D:\\data\\2018-09-24\\18-01-53-Ramsey (target offset -3.00 MHz), excitation channel iq_ex_q2_F01_min'],\n",
    "                'name': 'Ramsey (target offset -3.00 MHz), excitation channel iq_ex_q2_F01_min', 'q': '2'},\n",
    "                       'qubit3 Ramsey':\n",
    "               {'paths': [r'D:\\data\\2018-09-24\\18-35-16-Ramsey (target offset -3.00 MHz), excitation channel iq_ex_q3_F01_min'],\n",
    "                'name': 'Ramsey (target offset -3.00 MHz), excitation channel iq_ex_q3_F01_min', 'q': '3'}}\n",
    "measurement_folders = {'1808_072-2 qubit1 Ramsey':\n",
    "               {'paths': [r'D:\\data\\2018-09-25\\14-17-19-Ramsey (target offset -3.00 MHz), excitation channel iq_ex_q1_F01_min'],\n",
    "                'name': 'Ramsey (target offset -3.00 MHz), excitation channel iq_ex_q1_F01_min', 'q': '1'}}\n",
    "measurement_folders = {'1809_001-2 q2 Ramsey':\n",
    "               {'paths': [#r'D:\\data\\2018-09-25\\16-50-37-Ramsey (target offset -3.00 MHz), excitation channel iq_ex_q2_F01_min',\n",
    "                          r'D:\\data\\2018-09-25\\19-16-57-Ramsey (target offset -3.00 MHz), excitation channel iq_ex_q2_F01_min'],\n",
    "                'name': 'Ramsey (target offset -3.00 MHz), excitation channel iq_ex_q2_F01_min', 'q': '2'},\n",
    "                      '1809_001-2 q1 Ramsey':\n",
    "               {'paths': [r'D:\\data\\2018-09-25\\21-57-33-Ramsey (target offset -3.00 MHz), excitation channel iq_ex_q1_F01_min'],\n",
    "                'name': 'Ramsey (target offset -3.00 MHz), excitation channel iq_ex_q1_F01_min', 'q': '1'}}"
   ]
  },
  {
   "cell_type": "code",
   "execution_count": 4,
   "metadata": {},
   "outputs": [],
   "source": [
    "measurement_folders = {\n",
    "    '1809_001-2 reloaded q1 Ramsey':\n",
    "               {'paths': [r'D:\\data\\2018-10-03\\22-25-22-Ramsey (target offset -3.00 MHz), excitation channel iq_ex_q1_F01_min',\n",
    "                          r'D:\\data\\2018-10-04\\00-37-36-Ramsey (target offset -3.00 MHz), excitation channel iq_ex_q1_F01_min',\n",
    "                          r'D:\\data\\2018-10-04\\02-47-10-Ramsey (target offset -3.00 MHz), excitation channel iq_ex_q1_F01_min',\n",
    "                          r'D:\\data\\2018-10-04\\04-56-48-Ramsey (target offset -3.00 MHz), excitation channel iq_ex_q1_F01_min'],\n",
    "                'name': 'Ramsey (target offset -3.00 MHz), excitation channel iq_ex_q1_F01_min', 'q': '1'},\n",
    "    '1809_001-2 reloaded q2 Ramsey':\n",
    "               {'paths': [#r'D:\\data\\2018-09-25\\16-50-37-Ramsey (target offset -3.00 MHz), excitation channel iq_ex_q2_F01_min',\n",
    "                          r'D:\\data\\2018-10-03\\23-09-52-Ramsey (target offset -3.00 MHz), excitation channel iq_ex_q2_F01_min',\n",
    "                          r'D:\\data\\2018-10-04\\01-20-47-Ramsey (target offset -3.00 MHz), excitation channel iq_ex_q2_F01_min',\n",
    "                          r'D:\\data\\2018-10-04\\03-30-23-Ramsey (target offset -3.00 MHz), excitation channel iq_ex_q2_F01_min',\n",
    "                          r'D:\\data\\2018-10-04\\05-40-02-Ramsey (target offset -3.00 MHz), excitation channel iq_ex_q2_F01_min'],\n",
    "                'name': 'Ramsey (target offset -3.00 MHz), excitation channel iq_ex_q2_F01_min', 'q': '2'},\n",
    "    '1809_001-3 reloaded q3 Ramsey':\n",
    "               {'paths': [#r'D:\\data\\2018-09-25\\16-50-37-Ramsey (target offset -3.00 MHz), excitation channel iq_ex_q2_F01_min',\n",
    "                          r'D:\\data\\2018-10-03\\23-54-27-Ramsey (target offset -3.00 MHz), excitation channel iq_ex_q3_F01_min',\n",
    "                          r'D:\\data\\2018-10-04\\02-03-59-Ramsey (target offset -3.00 MHz), excitation channel iq_ex_q3_F01_min',\n",
    "                          r'D:\\data\\2018-10-04\\04-13-36-Ramsey (target offset -3.00 MHz), excitation channel iq_ex_q3_F01_min',\n",
    "                          r'D:\\data\\2018-10-04\\06-23-16-Ramsey (target offset -3.00 MHz), excitation channel iq_ex_q3_F01_min'],\n",
    "                'name': 'Ramsey (target offset -3.00 MHz), excitation channel iq_ex_q3_F01_min', 'q': '3'},\n",
    "                      }"
   ]
  },
  {
   "cell_type": "code",
   "execution_count": 5,
   "metadata": {},
   "outputs": [],
   "source": [
    "measurement_folders = {\n",
    "    '1809_001-2 revolution q1 Ramsey':\n",
    "               {'paths': [r'D:\\data\\2018-10-07\\08-07-47-Ramsey (target offset -3.00 MHz), excitation channel iq_ex_q1_F01_min',\n",
    "                          r'D:\\data\\2018-10-07\\11-33-57-Ramsey (target offset -3.00 MHz), excitation channel iq_ex_q1_F01_min'],\n",
    "                'name': 'Ramsey (target offset -3.00 MHz), excitation channel iq_ex_q1_F01_min', 'q': '1'},\n",
    "    '1809_001-2 revolution q2 Ramsey':\n",
    "               {'paths': [#r'D:\\data\\2018-09-25\\16-50-37-Ramsey (target offset -3.00 MHz), excitation channel iq_ex_q2_F01_min',\n",
    "                          r'D:\\data\\2018-10-07\\09-17-17-Ramsey (target offset -3.00 MHz), excitation channel iq_ex_q2_F01_min',\n",
    "                          r'D:\\data\\2018-10-07\\12-42-00-Ramsey (target offset -3.00 MHz), excitation channel iq_ex_q2_F01_min'],\n",
    "                'name': 'Ramsey (target offset -3.00 MHz), excitation channel iq_ex_q2_F01_min', 'q': '2'},\n",
    "    '1809_001-2 revolution q3 Ramsey':\n",
    "               {'paths': [#r'D:\\data\\2018-09-25\\16-50-37-Ramsey (target offset -3.00 MHz), excitation channel iq_ex_q2_F01_min',\n",
    "                          r'D:\\data\\2018-10-07\\10-26-00-Ramsey (target offset -3.00 MHz), excitation channel iq_ex_q3_F01_min'],\n",
    "                'name': 'Ramsey (target offset -3.00 MHz), excitation channel iq_ex_q3_F01_min', 'q': '3'},\n",
    "                      }"
   ]
  },
  {
   "cell_type": "code",
   "execution_count": 6,
   "metadata": {},
   "outputs": [],
   "source": [
    "measurement_folders = {\n",
    "    '1808-072-2 q1 revolution':\n",
    "        {'paths': [#r'D:\\data\\2018-10-09\\17-24-03-Ramsey (target offset -3.00 MHz), excitation channel iq_ex_q1_F01_min',\n",
    "                   r'D:\\data\\2018-10-09\\19-20-04-Ramsey (target offset -3.00 MHz), excitation channel iq_ex_q1_F01_min'],\n",
    "        'name': 'Ramsey (target offset -3.00 MHz), excitation channel iq_ex_q1_F01_min', 'q': '1'},\n",
    "    '1808-072-2 q2 revolution':\n",
    "        {'paths': [r'D:\\data\\2018-10-09\\18-00-27-Ramsey (target offset -3.00 MHz), excitation channel iq_ex_q2_F01_min'],\n",
    "        'name': 'Ramsey (target offset -3.00 MHz), excitation channel iq_ex_q2_F01_min', 'q': '2'},\n",
    "    '1808-072-2 q3 revolution':\n",
    "        {'paths': [r'D:\\data\\2018-10-09\\18-36-59-Ramsey (target offset -3.00 MHz), excitation channel iq_ex_q3_F01_min'],\n",
    "        'name': 'Ramsey (target offset -3.00 MHz), excitation channel iq_ex_q3_F01_min', 'q': '3'}\n",
    "}"
   ]
  },
  {
   "cell_type": "code",
   "execution_count": 7,
   "metadata": {},
   "outputs": [],
   "source": [
    "measurement_folders = {\n",
    "    '1808-072-2 q1 revolution':\n",
    "        {'paths': [r'C:\\Data\\2018-10-11\\15-10-01-Ramsey (target offset -3.00 MHz), excitation channel iq_ex_q1_F01_min'],\n",
    "        'name': 'Ramsey (target offset -3.00 MHz), excitation channel iq_ex_q1_F01_min', 'q': '1'},\n",
    "    '1808-072-2 q2 revolution':\n",
    "        {'paths': [r'C:\\Data\\2018-10-11\\17-26-58-Ramsey (target offset -3.00 MHz), excitation channel iq_ex_q2_F01_min'],\n",
    "        'name': 'Ramsey (target offset -3.00 MHz), excitation channel iq_ex_q2_F01_min', 'q': '2'},\n",
    "    '1808-072-2 q3 revolution':\n",
    "        {'paths': [r'C:\\Data\\2018-10-11\\22-38-53-Ramsey (target offset -3.00 MHz), excitation channel iq_ex_q3_F01_min'],\n",
    "        'name': 'Ramsey (target offset -3.00 MHz), excitation channel iq_ex_q3_F01_min', 'q': '3'},\n",
    "    '1808-072-2 q1 revolution SE':\n",
    "        {'paths': [r'C:\\Data\\2018-10-11\\16-17-50-Spin echo (target offset -3.00 MHz), excitation channel iq_ex_q1_F01_min'],\n",
    "        'name': 'Spin echo (target offset -3.00 MHz), excitation channel iq_ex_q1_F01_min', 'q': '1'},\n",
    "    '1808-072-2 q2 revolution SE':\n",
    "        {'paths': [r'C:\\Data\\2018-10-11\\18-34-38-Spin echo (target offset -3.00 MHz), excitation channel iq_ex_q2_F01_min'],\n",
    "        'name': 'Spin echo (target offset -3.00 MHz), excitation channel iq_ex_q2_F01_min', 'q': '2'},\n",
    "    '1808-072-2 q3 revolution SE':\n",
    "        {'paths': [r'C:\\Data\\2018-10-11\\23-46-28-Spin echo (target offset -3.00 MHz), excitation channel iq_ex_q3_F01_min'],\n",
    "        'name': 'Spin echo (target offset -3.00 MHz), excitation channel iq_ex_q3_F01_min', 'q': '3'},\n",
    "}"
   ]
  },
  {
   "cell_type": "code",
   "execution_count": 8,
   "metadata": {},
   "outputs": [],
   "source": [
    "measurement_folders = {\n",
    "    '1808-072-2 q1 1808-072-2-2QGA1':\n",
    "        {'paths': [r'C:\\Data\\2018-10-26\\12-38-57-Ramsey (target offset -3.00 MHz), excitation channel iq_ex1_q1_F01_min',\n",
    "                   r'C:\\Data\\2018-10-26\\16-21-37-Ramsey (target offset -3.00 MHz), excitation channel iq_ex1_q1_F01_min',\n",
    "                   r'C:\\Data\\2018-10-26\\20-03-27-Ramsey (target offset -3.00 MHz), excitation channel iq_ex1_q1_F01_min'],\n",
    "        'name': 'Ramsey (target offset -3.00 MHz), excitation channel iq_ex1_q1_F01_min', 'q': '1'},\n",
    "    '1808-072-2 q2 1808-072-2-2QGA1':\n",
    "        {'paths': [r'C:\\Data\\2018-10-26\\13-54-07-Ramsey (target offset -3.00 MHz), excitation channel iq_ex2_q2_F01_min',\n",
    "                   r'C:\\Data\\2018-10-26\\17-35-54-Ramsey (target offset -3.00 MHz), excitation channel iq_ex2_q2_F01_min',\n",
    "                   r'C:\\Data\\2018-10-26\\21-17-18-Ramsey (target offset -3.00 MHz), excitation channel iq_ex2_q2_F01_min'],\n",
    "        'name': 'Ramsey (target offset -3.00 MHz), excitation channel iq_ex2_q2_F01_min', 'q': '2'},\n",
    "    '1808-072-2 q3 1808-072-2-2QGA1':\n",
    "        {'paths': [r'C:\\Data\\2018-10-26\\15-08-06-Ramsey (target offset -3.00 MHz), excitation channel iq_ex3_q3_F01_min',\n",
    "                   r'C:\\Data\\2018-10-26\\18-49-39-Ramsey (target offset -3.00 MHz), excitation channel iq_ex3_q3_F01_min',\n",
    "                   r'C:\\Data\\2018-10-26\\22-31-13-Ramsey (target offset -3.00 MHz), excitation channel iq_ex3_q3_F01_min'],\n",
    "        'name': 'Ramsey (target offset -3.00 MHz), excitation channel iq_ex3_q3_F01_min', 'q': '3'}\n",
    "}"
   ]
  },
  {
   "cell_type": "code",
   "execution_count": 9,
   "metadata": {},
   "outputs": [],
   "source": [
    "measurement_folders = {\n",
    "    '1808-072-2 q1 1808-072-2-2QGA1':\n",
    "        {'paths': [r'C:\\Data\\2018-10-30\\11-28-50-Ramsey (target offset -5.00 MHz), ex ch iq_ex1_q1_F01_min'],\n",
    "        'name': 'Ramsey (target offset -5.00 MHz), ex ch iq_ex1_q1_F01_min', 'q': '1'},\n",
    "    '1808-072-2 q3 1808-072-2-2QGA1':\n",
    "        {'paths': [r'C:\\Data\\2018-10-27\\07-23-09-Ramsey (target offset -3.00 MHz), excitation channel iq_ex3_q3_F01_min WP2Q--0.5'],\n",
    "        'name': 'Ramsey (target offset -3.00 MHz), excitation channel iq_ex3_q3_F01_min WP2Q--0.5', 'q': '3'},\n",
    "    '1808-072-2 q1 1808-072-2-2QGA1 0.125':\n",
    "        {'paths': [r'C:\\Data\\2018-10-27\\08-20-13-Ramsey (target offset -3.00 MHz), excitation channel iq_ex1_q1_F01_min WP2Q--0.5'],\n",
    "        'name': 'Ramsey (target offset -3.00 MHz), excitation channel iq_ex1_q1_F01_min WP2Q--0.5', 'q': '1'},\n",
    "    '1808-072-2 q3 1808-072-2-2QGA1 0.125':\n",
    "        {'paths': [r'C:\\Data\\2018-10-27\\09-17-56-Ramsey (target offset -3.00 MHz), excitation channel iq_ex3_q3_F01_min WP2Q--0.5'],\n",
    "        'name': 'Ramsey (target offset -3.00 MHz), excitation channel iq_ex3_q3_F01_min WP2Q--0.5', 'q': '3'},\n",
    "    '1808-072-2 q1 1808-072-2-2QGA1 0.250':\n",
    "        {'paths': [r'C:\\Data\\2018-10-27\\10-15-23-Ramsey (target offset -3.00 MHz), excitation channel iq_ex1_q1_F01_min WP2Q--0.5'],\n",
    "        'name': 'Ramsey (target offset -3.00 MHz), excitation channel iq_ex1_q1_F01_min WP2Q--0.5', 'q': '1'},\n",
    "    '1808-072-2 q3 1808-072-2-2QGA1 0.250':\n",
    "        {'paths': [r'C:\\Data\\2018-10-27\\11-12-06-Ramsey (target offset -3.00 MHz), excitation channel iq_ex3_q3_F01_min WP2Q--0.5'],\n",
    "        'name': 'Ramsey (target offset -3.00 MHz), excitation channel iq_ex3_q3_F01_min WP2Q--0.5', 'q': '3'},\n",
    "    '1808-072-2 q1 1808-072-2-2QGA1 0.375':\n",
    "        {'paths': [r'C:\\Data\\2018-10-27\\12-08-39-Ramsey (target offset -3.00 MHz), excitation channel iq_ex1_q1_F01_min WP2Q--0.5'],\n",
    "        'name': 'Ramsey (target offset -3.00 MHz), excitation channel iq_ex1_q1_F01_min WP2Q--0.5', 'q': '1'},\n",
    "    '1808-072-2 q3 1808-072-2-2QGA1 0.375':\n",
    "        {'paths': [r'C:\\Data\\2018-10-27\\13-06-32-Ramsey (target offset -3.00 MHz), excitation channel iq_ex3_q3_F01_min WP2Q--0.5'],\n",
    "        'name': 'Ramsey (target offset -3.00 MHz), excitation channel iq_ex3_q3_F01_min WP2Q--0.5', 'q': '3'},\n",
    "    '1808-072-2 q1 1808-072-2-2QGA1 0.500':\n",
    "        {'paths': [r'C:\\Data\\2018-10-27\\14-04-01-Ramsey (target offset -3.00 MHz), excitation channel iq_ex1_q1_F01_min WP2Q--0.5'],\n",
    "        'name': 'Ramsey (target offset -3.00 MHz), excitation channel iq_ex1_q1_F01_min WP2Q--0.5', 'q': '1'},\n",
    "    '1808-072-2 q3 1808-072-2-2QGA1 0.500':\n",
    "        {'paths': [r'C:\\Data\\2018-10-27\\15-00-35-Ramsey (target offset -3.00 MHz), excitation channel iq_ex3_q3_F01_min WP2Q--0.5'],\n",
    "        'name': 'Ramsey (target offset -3.00 MHz), excitation channel iq_ex3_q3_F01_min WP2Q--0.5', 'q': '3'},\n",
    "}"
   ]
  },
  {
   "cell_type": "code",
   "execution_count": 44,
   "metadata": {},
   "outputs": [],
   "source": [
    "measurement_folders = {\n",
    "        '1808-072-2 q3 1808-072-2-2QGA1 SQ2-scan':\n",
    "        {'paths': [r'C:\\Data\\2018-11-22\\04-39-09-Ramsey (target offset -5.00 MHz), ex ch iq_ex1_q3_F01_min'],\n",
    "        'name': 'Ramsey (target offset -5.00 MHz), ex ch iq_ex1_q3_F01_min', 'q': '3'},\n",
    "\n",
    "        '1808-072-2 q1 1808-072-2-2QGA1 SQ2-scan':\n",
    "        {'paths': [r'C:\\Data\\2018-11-21\\23-28-11-Ramsey (target offset -5.00 MHz), ex ch iq_ex2_q1_F01_min'],\n",
    "        'name': 'Ramsey (target offset -5.00 MHz), ex ch iq_ex2_q1_F01_min', 'q': '1'},\n",
    "}"
   ]
  },
  {
   "cell_type": "code",
   "execution_count": 5,
   "metadata": {},
   "outputs": [],
   "source": [
    "measurement_folders = {\n",
    "        'Fluxonium upper sweet spot':\n",
    "        {'paths': [r'C:\\Data\\2018-12-19\\01-31-43-Ramsey (target offset -50.00 MHz), ex ch iq_ex_q1'],\n",
    "        'name': 'Ramsey (target offset -50.00 MHz), ex ch iq_ex_q1', 'q': '1'} }"
   ]
  },
  {
   "cell_type": "code",
   "execution_count": 22,
   "metadata": {},
   "outputs": [],
   "source": [
    "measurement_folders = {\n",
    "        'Fluxonium upper sweet spot':\n",
    "        {'paths': [r'C:\\Data\\2018-12-19\\01-51-11-Spin echo (target offset -10.00 MHz), ex channels iq_ex_q1'],\n",
    "        'name': 'Spin echo (target offset -10.00 MHz), ex channels iq_ex_q1', 'q': '1'} }"
   ]
  },
  {
   "cell_type": "code",
   "execution_count": null,
   "metadata": {},
   "outputs": [],
   "source": []
  },
  {
   "cell_type": "code",
   "execution_count": 12,
   "metadata": {},
   "outputs": [],
   "source": [
    "measurement_folders = {\n",
    "        'Fluxonium upper sweet spot':\n",
    "        {'paths': [r'C:\\Data\\2018-12-19\\02-36-33-Decay, ex channels iq_ex_q1'],\n",
    "        'name': 'Decay, ex channels iq_ex_q1', 'q': '1'} }"
   ]
  },
  {
   "cell_type": "code",
   "execution_count": 242,
   "metadata": {},
   "outputs": [],
   "source": [
    "measurement_folders = {\n",
    "        'Qubit chain 5Q':{'paths':[r'C:\\Data\\2019-01-19\\14-30-09-Ramsey (target offset -20.00 MHz), ex ch iq_ex3_q5'],\n",
    "            'name': 'Ramsey (target offset -20.00 MHz), ex ch iq_ex3_q5', 'q':'5'}   \n",
    "                    }"
   ]
  },
  {
   "cell_type": "code",
   "execution_count": 243,
   "metadata": {},
   "outputs": [
    {
     "name": "stdout",
     "output_type": "stream",
     "text": [
      "C:\\Data\\2019-01-19\\14-30-09-Ramsey (target offset -20.00 MHz), ex ch iq_ex3_q5/Ramsey (target offset -20.00 MHz), ex ch iq_ex3_q5.pkl\n"
     ]
    },
    {
     "name": "stderr",
     "output_type": "stream",
     "text": [
      "C:\\qtlab_replacement\\qsweepy\\fitting.py:157: RuntimeWarning: overflow encountered in square\n",
      "  cost = lambda p: (np.abs(model(x, p)-y)**2).ravel()\n"
     ]
    }
   ],
   "source": [
    "plt.close('all')\n",
    "for measurement_type_name, measurement_type in measurement_folders.items(): \n",
    "    data_average = None\n",
    "    if 'fittype' not in measurement_type:\n",
    "        figs, axes = plt.subplots(1,3,num=measurement_type_name, figsize=(12,4))\n",
    "        ax_freq = axes[0]\n",
    "        ax_decay= axes[1]\n",
    "        ax_pic = axes[2]\n",
    "        ax_freq.set_xlabel('Control voltage, V')\n",
    "        ax_freq.set_ylabel('Delta frequency, MHz')\n",
    "        ax_freq.set_title(measurement_type_name+' frequency')\n",
    "        ax_freq.grid(True)\n",
    "    else:\n",
    "        figs, axes = plt.subplots(1,2,num=measurement_type_name, figsize=(12,4))\n",
    "        ax_decay = axes[0]\n",
    "        ax_pic = axes[1]\n",
    "    ax_decay.set_xlabel('Control voltage, V')\n",
    "    ax_decay.set_ylabel('Decay, $\\\\mu$s')\n",
    "    ax_decay.set_title(measurement_type_name+' decay')\n",
    "    ax_pic.set_ylabel('Control voltage, V')\n",
    "    ax_pic.set_xlabel('Decay, $\\\\mu$s')\n",
    "    ax_pic.set_title(measurement_type_name+' homodyne signal')\n",
    "    ax_decay.grid(True)\n",
    "    \n",
    "    q = measurement_type['q']\n",
    "    fitter = fitting.exp_sin_fit if 'fittype' not in measurement_type else fitting.exp_fit\n",
    "    \n",
    "    for measurement_folder in measurement_type['paths']:\n",
    "        measurement = qsweepy.save_pkl.load_pkl(measurement_type['name'], measurement_folder)[1]\n",
    "        if type(data_average) is type(None):\n",
    "            data_average = measurement['S21_r'+q][2]\n",
    "        else:\n",
    "            data_average += measurement['S21_r'+q][2]\n",
    "        summary = pd.DataFrame([dict(fitter(measurement['S21_r'+q][1][0], \n",
    "                         [np.real(measurement['S21_r'+q][2][:,dc_id]),\n",
    "                          np.imag(measurement['S21_r'+q][2][:,dc_id])])[-1], **{'dc':dc}) \n",
    "                             for dc_id, dc in enumerate(measurement['S21_r'+q][1][1])])\n",
    "        good_points = np.logical_and(summary['decay']>0, summary['decay']<1e-6)\n",
    "        summary = summary[good_points]\n",
    "        if 'freq' in summary:\n",
    "            ax_freq.plot(np.asarray(summary['dc']), np.asarray(summary['freq'])/1e6, marker='.')\n",
    "        ax_decay.plot(np.asarray(summary['dc']), np.asarray(summary['decay'])*1e6, marker='.')\n",
    "        \n",
    "    summary = pd.DataFrame([dict(fitter(measurement['S21_r'+q][1][0], \n",
    "                         [np.real(data_average[:,dc_id]),\n",
    "                          np.imag(data_average[:,dc_id])])[-1], **{'dc':dc}) \n",
    "                             for dc_id, dc in enumerate(measurement['S21_r'+q][1][1])])    \n",
    "    good_points = np.logical_and(summary['decay']>0, summary['decay']<1e-6)\n",
    "    summary = summary[good_points]\n",
    "\n",
    "    if 'freq' in summary:\n",
    "        ax_freq.plot(np.asarray(summary['dc']), np.asarray(summary['freq'])/1e6, linewidth=2, marker='.')\n",
    "    ax_decay.plot(np.asarray(summary['dc']), np.asarray(summary['decay'])*1e6, linewidth=2, marker='.')\n",
    "    plt.tight_layout() \n",
    "    # PCA on I, Q\n",
    "    mean = np.mean(data_average)\n",
    "    cov = [[np.mean(np.real(data_average-mean)*np.real(data_average-mean)),\n",
    "            np.mean(np.real(data_average-mean)*np.imag(data_average-mean))],\n",
    "           [np.mean(np.imag(data_average-mean)*np.real(data_average-mean)),\n",
    "            np.mean(np.imag(data_average-mean)*np.imag(data_average-mean))]]\n",
    "    vals, vecs =np.linalg.eig(cov)\n",
    "    max_vals = np.argmax(np.abs(vals))\n",
    "    #print (cov, vecs, vals)\n",
    "    data_real = np.real(data_average)*vecs[np.argmin(np.abs(vals)),0]+np.imag(data_average)*vecs[np.argmin(np.abs(vals)),1]\n",
    "    ax_pic.pcolormesh(measurement['S21_r'+q][1][0]*1e6, measurement['S21_r'+q][1][1], data_real.T, cmap='RdBu')\n",
    "#    plt.savefig(r'D:\\data\\2018-09-23\\summary\\\\'+measurement_type_name+'.pdf')\n",
    "#    plt.savefig(r'D:\\data\\2018-09-23\\summary\\\\'+measurement_type_name+'.png')\n",
    "    \n",
    "#    if 'freq' in summary:\n",
    "#        plt.figure(measurement_type_name+' frequency')\n",
    "#        plt.plot(np.asarray(summary['dc']), np.asarray(summary['freq'])/1e6, linewidth=2, marker='.')\n",
    "#        plt.grid(True)\n",
    "#        plt.xlabel('Control voltage, V')\n",
    "#        plt.ylabel('Ramsey frequency, MHz')\n",
    "#        plt.title(measurement_type_name+' frequency')\n",
    "#        plt.tight_layout()\n",
    "#    plt.figure(measurement_type_name+' decay')\n",
    "#    plt.plot(np.asarray(summary['dc']), np.asarray(summary['decay'])*1e6, linewidth=2, marker='.')\n",
    "\n",
    "#    plt.xlabel('Control voltage, V')\n",
    "#    plt.ylabel('Ramsey decay, $\\\\mu$s')\n",
    "#    plt.title(measurement_type_name+' decay')\n",
    "#    plt.tight_layout()    "
   ]
  },
  {
   "cell_type": "code",
   "execution_count": 21,
   "metadata": {},
   "outputs": [
    {
     "data": {
      "text/plain": [
       "(array([0.0e+00, 1.0e-09, 2.0e-09, 3.0e-09, 4.0e-09, 5.0e-09, 6.0e-09,\n",
       "        7.0e-09, 8.0e-09, 9.0e-09, 1.0e-08, 1.1e-08, 1.2e-08, 1.3e-08,\n",
       "        1.4e-08, 1.5e-08, 1.6e-08, 1.7e-08, 1.8e-08, 1.9e-08, 2.0e-08,\n",
       "        2.1e-08, 2.2e-08, 2.3e-08, 2.4e-08, 2.5e-08, 2.6e-08, 2.7e-08,\n",
       "        2.8e-08, 2.9e-08, 3.0e-08, 3.1e-08, 3.2e-08, 3.3e-08, 3.4e-08,\n",
       "        3.5e-08, 3.6e-08, 3.7e-08, 3.8e-08, 3.9e-08, 4.0e-08, 4.1e-08,\n",
       "        4.2e-08, 4.3e-08, 4.4e-08, 4.5e-08, 4.6e-08, 4.7e-08, 4.8e-08,\n",
       "        4.9e-08, 5.0e-08, 5.1e-08, 5.2e-08, 5.3e-08, 5.4e-08, 5.5e-08,\n",
       "        5.6e-08, 5.7e-08, 5.8e-08, 5.9e-08, 6.0e-08, 6.1e-08, 6.2e-08,\n",
       "        6.3e-08, 6.4e-08, 6.5e-08, 6.6e-08, 6.7e-08, 6.8e-08, 6.9e-08,\n",
       "        7.0e-08, 7.1e-08, 7.2e-08, 7.3e-08, 7.4e-08, 7.5e-08, 7.6e-08,\n",
       "        7.7e-08, 7.8e-08, 7.9e-08, 8.0e-08, 8.1e-08, 8.2e-08, 8.3e-08,\n",
       "        8.4e-08, 8.5e-08, 8.6e-08, 8.7e-08, 8.8e-08, 8.9e-08, 9.0e-08,\n",
       "        9.1e-08, 9.2e-08, 9.3e-08, 9.4e-08, 9.5e-08, 9.6e-08, 9.7e-08,\n",
       "        9.8e-08, 9.9e-08]),)"
      ]
     },
     "execution_count": 21,
     "metadata": {},
     "output_type": "execute_result"
    }
   ],
   "source": [
    "measurement['S21_r1'][1]"
   ]
  },
  {
   "cell_type": "code",
   "execution_count": 23,
   "metadata": {},
   "outputs": [
    {
     "data": {
      "text/plain": [
       "array([[-0.7146033 , -0.69952993],\n",
       "       [ 0.69952993, -0.7146033 ]])"
      ]
     },
     "execution_count": 23,
     "metadata": {},
     "output_type": "execute_result"
    },
    {
     "data": {
      "image/png": "[encoded data removed]",
      "text/plain": [
       "<Figure size 432x288 with 1 Axes>"
      ]
     },
     "metadata": {},
     "output_type": "display_data"
    }
   ],
   "source": [
    "plt.figure()\n",
    "plt.pcolormesh(np.real(data_average))\n",
    "vecs"
   ]
  },
  {
   "cell_type": "code",
   "execution_count": 11,
   "metadata": {},
   "outputs": [],
   "source": [
    "plt.close('all')"
   ]
  },
  {
   "cell_type": "code",
   "execution_count": 2,
   "metadata": {},
   "outputs": [],
   "source": [
    "locations = [[r'D:\\data\\2018-09-19\\17-35-56-Sample 1 Coil #NNDAC-0 anticrossings qubit 1', \n",
    "              r'D:\\data\\2018-09-19\\17-38-23-Sample 1 Coil #NNDAC-0 anticrossings qubit 2',\n",
    "              r'D:\\data\\2018-09-19\\17-43-49-Sample 1 Coil #NNDAC-0 anticrossings qubit 3'],\n",
    "            [r'D:\\data\\2018-09-19\\17-48-29-Sample 1 Coil #NNDAC-2 anticrossings qubit 1',\n",
    "             r'D:\\data\\2018-09-19\\17-50-56-Sample 1 Coil #NNDAC-2 anticrossings qubit 2',\n",
    "             r'D:\\data\\2018-09-19\\17-56-23-Sample 1 Coil #NNDAC-2 anticrossings qubit 3'],\n",
    "            [r'D:\\data\\2018-09-19\\18-01-03-Sample 1 Coil #NNDAC-4 anticrossings qubit 1',\n",
    "             r'D:\\data\\2018-09-19\\18-03-30-Sample 1 Coil #NNDAC-4 anticrossings qubit 2',\n",
    "             r'D:\\data\\2018-09-19\\18-08-56-Sample 1 Coil #NNDAC-4 anticrossings qubit 3']]\n",
    "\n",
    "locations = [[r'D:\\data\\2018-10-03\\12-46-17-1809_001-2 Coil #NNDAC-0 anticrossings qubit 1',\n",
    "r'D:\\data\\2018-10-03\\12-47-55-1809_001-2 Coil #NNDAC-0 anticrossings qubit 2',\n",
    "r'D:\\data\\2018-10-03\\12-51-26-1809_001-2 Coil #NNDAC-0 anticrossings qubit 3'],\n",
    "[r'D:\\data\\2018-10-03\\12-52-57-1809_001-2 Coil #NNDAC-2 anticrossings qubit 1',\n",
    "r'D:\\data\\2018-10-03\\12-54-35-1809_001-2 Coil #NNDAC-2 anticrossings qubit 2',\n",
    "r'D:\\data\\2018-10-03\\12-58-07-1809_001-2 Coil #NNDAC-2 anticrossings qubit 3'],\n",
    "[r'D:\\data\\2018-10-03\\12-59-37-1809_001-2 Coil #NNDAC-4 anticrossings qubit 1',\n",
    "r'D:\\data\\2018-10-03\\13-01-15-1809_001-2 Coil #NNDAC-4 anticrossings qubit 2',\n",
    "r'D:\\data\\2018-10-03\\13-04-45-1809_001-2 Coil #NNDAC-4 anticrossings qubit 3']]\n",
    "\n",
    "locations = [[r'D:\\data\\2018-10-08\\07-37-24-1809_001-2 Coil #NNDAC-6 anticrossings qubit 1',\n",
    "              r'D:\\data\\2018-10-08\\07-38-21-1809_001-2 Coil #NNDAC-6 anticrossings qubit 2',\n",
    "              r'D:\\data\\2018-10-08\\07-39-18-1809_001-2 Coil #NNDAC-6 anticrossings qubit 3'],\n",
    "             [r'D:\\data\\2018-10-08\\07-40-06-1809_001-2 Coil #NNDAC-8 anticrossings qubit 1',\n",
    "              r'D:\\data\\2018-10-08\\07-41-03-1809_001-2 Coil #NNDAC-8 anticrossings qubit 2',\n",
    "              r'D:\\data\\2018-10-08\\07-42-00-1809_001-2 Coil #NNDAC-8 anticrossings qubit 3'],\n",
    "             [r'D:\\data\\2018-10-08\\07-42-48-1809_001-2 Coil #NNDAC-10 anticrossings qubit 1',\n",
    "              r'D:\\data\\2018-10-08\\07-43-45-1809_001-2 Coil #NNDAC-10 anticrossings qubit 2',\n",
    "              r'D:\\data\\2018-10-08\\07-44-42-1809_001-2 Coil #NNDAC-10 anticrossings qubit 3']]\n",
    "\n",
    "locations = [[r'C:\\Data\\2018-10-12\\01-04-11-1808_072-2 Coil #NNDAC-6 anticrossings qubit 1',\n",
    "              r'C:\\Data\\2018-10-12\\01-05-09-1808_072-2 Coil #NNDAC-6 anticrossings qubit 2',\n",
    "              r'C:\\Data\\2018-10-12\\01-06-07-1808_072-2 Coil #NNDAC-6 anticrossings qubit 3'],\n",
    "             [r'C:\\Data\\2018-10-12\\01-06-56-1808_072-2 Coil #NNDAC-8 anticrossings qubit 1',\n",
    "              r'C:\\Data\\2018-10-12\\01-07-54-1808_072-2 Coil #NNDAC-8 anticrossings qubit 2',\n",
    "              r'C:\\Data\\2018-10-12\\01-08-52-1808_072-2 Coil #NNDAC-8 anticrossings qubit 3'],\n",
    "             [r'C:\\Data\\2018-10-12\\01-09-41-1808_072-2 Coil #NNDAC-10 anticrossings qubit 1',\n",
    "              r'C:\\Data\\2018-10-12\\01-10-39-1808_072-2 Coil #NNDAC-10 anticrossings qubit 2',\n",
    "              r'C:\\Data\\2018-10-12\\01-11-38-1808_072-2 Coil #NNDAC-10 anticrossings qubit 3']]\n",
    "\n",
    "locations = [[r'C:\\Data\\2018-10-12\\01-45-01-1808_072-2 Coil #NNDAC-6 anticrossings qubit 1',\n",
    "              r'C:\\Data\\2018-10-12\\01-45-59-1808_072-2 Coil #NNDAC-6 anticrossings qubit 2',\n",
    "              r'C:\\Data\\2018-10-12\\01-46-57-1808_072-2 Coil #NNDAC-6 anticrossings qubit 3'],\n",
    "             [r'C:\\Data\\2018-10-12\\01-47-47-1808_072-2 Coil #NNDAC-8 anticrossings qubit 1',\n",
    "              r'C:\\Data\\2018-10-12\\01-48-44-1808_072-2 Coil #NNDAC-8 anticrossings qubit 2',\n",
    "              r'C:\\Data\\2018-10-12\\01-49-42-1808_072-2 Coil #NNDAC-8 anticrossings qubit 3'],\n",
    "             [r'C:\\Data\\2018-10-12\\01-50-32-1808_072-2 Coil #NNDAC-10 anticrossings qubit 1',\n",
    "              r'C:\\Data\\2018-10-12\\01-51-29-1808_072-2 Coil #NNDAC-10 anticrossings qubit 2',\n",
    "              r'C:\\Data\\2018-10-12\\01-52-27-1808_072-2 Coil #NNDAC-10 anticrossings qubit 3']]\n",
    "\n",
    "locations = [[r'C:\\Data\\2018-10-12\\03-40-43-1808_072-2 Coil #NNDAC-6 anticrossings qubit 1',\n",
    "              r'C:\\Data\\2018-10-12\\03-41-40-1808_072-2 Coil #NNDAC-6 anticrossings qubit 2',\n",
    "              r'C:\\Data\\2018-10-12\\03-42-38-1808_072-2 Coil #NNDAC-6 anticrossings qubit 3'],\n",
    "             [r'C:\\Data\\2018-10-12\\03-43-28-1808_072-2 Coil #NNDAC-8 anticrossings qubit 1',\n",
    "              r'C:\\Data\\2018-10-12\\03-44-25-1808_072-2 Coil #NNDAC-8 anticrossings qubit 2',\n",
    "              r'C:\\Data\\2018-10-12\\03-45-23-1808_072-2 Coil #NNDAC-8 anticrossings qubit 3'],\n",
    "             [r'C:\\Data\\2018-10-12\\03-46-13-1808_072-2 Coil #NNDAC-10 anticrossings qubit 1',\n",
    "              r'C:\\Data\\2018-10-12\\03-47-10-1808_072-2 Coil #NNDAC-10 anticrossings qubit 2',\n",
    "              r'C:\\Data\\2018-10-12\\03-48-08-1808_072-2 Coil #NNDAC-10 anticrossings qubit 3']]\n",
    "\n",
    "locations_new = [[r'C:\\Data\\2018-10-23\\09-52-40-1808-072-2-2QGA1 Coil #coil_device_channel-1 anticrossings qubit 1',\n",
    "              r'C:\\Data\\2018-10-23\\09-53-40-1808-072-2-2QGA1 Coil #coil_device_channel-1 anticrossings qubit 2',\n",
    "              r'C:\\Data\\2018-10-23\\09-54-39-1808-072-2-2QGA1 Coil #coil_device_channel-1 anticrossings qubit 3'],\n",
    "             [r'C:\\Data\\2018-10-23\\09-55-26-1808-072-2-2QGA1 Coil #coil_device_channel-2 anticrossings qubit 1',\n",
    "              r'C:\\Data\\2018-10-23\\09-56-25-1808-072-2-2QGA1 Coil #coil_device_channel-2 anticrossings qubit 2',\n",
    "              r'C:\\Data\\2018-10-23\\09-57-25-1808-072-2-2QGA1 Coil #coil_device_channel-2 anticrossings qubit 3'],\n",
    "             [r'C:\\Data\\2018-10-23\\09-58-11-1808-072-2-2QGA1 Coil #coil_device_channel-3 anticrossings qubit 1',\n",
    "              r'C:\\Data\\2018-10-23\\09-59-10-1808-072-2-2QGA1 Coil #coil_device_channel-3 anticrossings qubit 2',\n",
    "              r'C:\\Data\\2018-10-23\\10-00-09-1808-072-2-2QGA1 Coil #coil_device_channel-3 anticrossings qubit 3']]\n",
    "\n",
    "locations = [[r'C:\\Data\\2018-11-14\\02-38-10-1808-072-2-2QGA1 Coil #coil_device_channel-1 anticrossings qubit 1',\n",
    "              r'C:\\Data\\2018-11-14\\02-39-13-1808-072-2-2QGA1 Coil #coil_device_channel-1 anticrossings qubit 2',\n",
    "              r'C:\\Data\\2018-11-14\\02-40-12-1808-072-2-2QGA1 Coil #coil_device_channel-1 anticrossings qubit 3'],\n",
    "             [r'C:\\Data\\2018-11-14\\02-41-03-1808-072-2-2QGA1 Coil #coil_device_channel-2 anticrossings qubit 1',\n",
    "              r'C:\\Data\\2018-11-14\\02-42-07-1808-072-2-2QGA1 Coil #coil_device_channel-2 anticrossings qubit 2',\n",
    "              r'C:\\Data\\2018-11-14\\02-43-06-1808-072-2-2QGA1 Coil #coil_device_channel-2 anticrossings qubit 3'],\n",
    "             [r'C:\\Data\\2018-11-14\\02-43-57-1808-072-2-2QGA1 Coil #coil_device_channel-3 anticrossings qubit 1',\n",
    "              r'C:\\Data\\2018-11-14\\02-45-00-1808-072-2-2QGA1 Coil #coil_device_channel-3 anticrossings qubit 2',\n",
    "              r'C:\\Data\\2018-11-14\\02-46-00-1808-072-2-2QGA1 Coil #coil_device_channel-3 anticrossings qubit 3']]\n",
    "\n",
    "locations = [[r'C:\\Data\\2018-12-26\\04-04-10-Qubit chain 11Q Coil #NNDAC-20 anticrossings qubit 1',\n",
    "              r'C:\\Data\\2018-12-26\\04-05-23-Qubit chain 11Q Coil #NNDAC-20 anticrossings qubit 2'],\n",
    "             [r'C:\\Data\\2018-12-26\\04-09-39-Qubit chain 11Q Coil #NNDAC-22 anticrossings qubit 1',\n",
    "              r'C:\\Data\\2018-12-26\\04-10-53-Qubit chain 11Q Coil #NNDAC-22 anticrossings qubit 2']]"
   ]
  },
  {
   "cell_type": "code",
   "execution_count": 194,
   "metadata": {},
   "outputs": [],
   "source": [
    "locations = [[r'C:\\Data\\2019-01-14\\16-44-18-Chain of 5 coupled xmons NNDAC-0 anticrossings qubit 1',\n",
    "              r'C:\\Data\\2019-01-14\\19-01-45-Chain of 5 coupled xmons NNDAC-0 anticrossings qubit 2',\n",
    "              r'C:\\Data\\2019-01-14\\19-57-58-Chain of 5 coupled xmons NNDAC-0 anticrossings qubit 3',\n",
    "              \n",
    "                #r'C:\\Data\\2019-01-14\\10-31-06-Chain of 5 coupled xmons NNDAC-1+0 anticrossings qubit 1',\n",
    "              r'C:\\Data\\2019-01-14\\20-13-58-Chain of 5 coupled xmons NNDAC-0 anticrossings qubit 4',\n",
    "                r'C:\\Data\\2019-01-14\\20-29-59-Chain of 5 coupled xmons NNDAC-0 anticrossings qubit 5',\n",
    "                #r'C:\\Data\\2019-01-14\\10-32-57-Chain of 5 coupled xmons NNDAC-3+0 anticrossings qubit 1',\n",
    "                \n",
    "                #r'C:\\Data\\2019-01-14\\10-34-48-Chain of 5 coupled xmons NNDAC-4+0 anticrossings qubit 1',\n",
    "                ],\n",
    "                #r'C:\\Data\\2019-01-14\\10-36-39-Chain of 5 coupled xmons NNDAC-6+0 anticrossings qubit 1',\n",
    "             \n",
    "            [r'C:\\Data\\2019-01-14\\16-59-35-Chain of 5 coupled xmons NNDAC-1 anticrossings qubit 1',\n",
    "            #r'C:\\Data\\2019-01-14\\10-38-30-Chain of 5 coupled xmons NNDAC-0+1 anticrossings qubit 2',\n",
    "             r'C:\\Data\\2019-01-14\\19-14-14-Chain of 5 coupled xmons NNDAC-1 anticrossings qubit 2',\n",
    "             r'C:\\Data\\2019-01-14\\20-01-31-Chain of 5 coupled xmons NNDAC-1 anticrossings qubit 3',\n",
    "             r'C:\\Data\\2019-01-14\\20-17-32-Chain of 5 coupled xmons NNDAC-1 anticrossings qubit 4',\n",
    "             #r'C:\\Data\\2019-01-14\\10-41-17-Chain of 5 coupled xmons NNDAC-3+1 anticrossings qubit 2',\n",
    "             r'C:\\Data\\2019-01-14\\20-33-33-Chain of 5 coupled xmons NNDAC-1 anticrossings qubit 5',\n",
    "             #r'C:\\Data\\2019-01-14\\10-43-08-Chain of 5 coupled xmons NNDAC-4+1 anticrossings qubit 2',\n",
    "             ],\n",
    "             #r'C:\\Data\\2019-01-14\\10-44-59-Chain of 5 coupled xmons NNDAC-6+1 anticrossings qubit 2',\n",
    "             [r'C:\\Data\\2019-01-14\\18-31-11-Chain of 5 coupled xmons NNDAC-6 anticrossings qubit 1',\n",
    "             #r'C:\\Data\\2019-01-14\\11-03-29-Chain of 5 coupled xmons NNDAC-0+4 anticrossings qubit 5',\n",
    "             r'C:\\Data\\2019-01-14\\19-45-28-Chain of 5 coupled xmons NNDAC-6 anticrossings qubit 2',\n",
    "             r'C:\\Data\\2019-01-14\\20-12-11-Chain of 5 coupled xmons NNDAC-6 anticrossings qubit 3',\n",
    "             #r'C:\\Data\\2019-01-14\\11-05-20-Chain of 5 coupled xmons NNDAC-1+4 anticrossings qubit 5',\n",
    "             \n",
    "             #r'C:\\Data\\2019-01-14\\11-07-12-Chain of 5 coupled xmons NNDAC-3+4 anticrossings qubit 5',\n",
    "             r'C:\\Data\\2019-01-14\\20-26-26-Chain of 5 coupled xmons NNDAC-6 anticrossings qubit 4',\n",
    "             r'C:\\Data\\2019-01-14\\20-42-26-Chain of 5 coupled xmons NNDAC-6 anticrossings qubit 5'],\n",
    "             #r'C:\\Data\\2019-01-14\\11-09-58-Chain of 5 coupled xmons NNDAC-6+4 anticrossings qubit 5'\n",
    "             \n",
    "             \n",
    "             [r'C:\\Data\\2019-01-14\\17-30-07-Chain of 5 coupled xmons NNDAC-3 anticrossings qubit 1',\n",
    "              r'C:\\Data\\2019-01-14\\19-20-29-Chain of 5 coupled xmons NNDAC-3 anticrossings qubit 2',\n",
    "             #r'C:\\Data\\2019-01-14\\10-46-50-Chain of 5 coupled xmons NNDAC-0+6 anticrossings qubit 3',\n",
    "             #r'C:\\Data\\2019-01-14\\10-48-41-Chain of 5 coupled xmons NNDAC-1+6 anticrossings qubit 3',\n",
    "             r'C:\\Data\\2019-01-14\\20-05-04-Chain of 5 coupled xmons NNDAC-3 anticrossings qubit 3',\n",
    "             #r'C:\\Data\\2019-01-14\\10-50-32-Chain of 5 coupled xmons NNDAC-3+6 anticrossings qubit 3',\n",
    "             r'C:\\Data\\2019-01-14\\20-21-06-Chain of 5 coupled xmons NNDAC-3 anticrossings qubit 4',\n",
    "             #r'C:\\Data\\2019-01-14\\10-52-22-Chain of 5 coupled xmons NNDAC-4+6 anticrossings qubit 3',\n",
    "             r'C:\\Data\\2019-01-14\\20-37-06-Chain of 5 coupled xmons NNDAC-3 anticrossings qubit 5'],\n",
    "             \n",
    "             [\n",
    "             #r'C:\\Data\\2019-01-14\\10-55-09-Chain of 5 coupled xmons NNDAC-0+3 anticrossings qubit 4',\n",
    "             r'C:\\Data\\2019-01-14\\18-00-39-Chain of 5 coupled xmons NNDAC-4 anticrossings qubit 1',\n",
    "             r'C:\\Data\\2019-01-14\\19-32-59-Chain of 5 coupled xmons NNDAC-4 anticrossings qubit 2',\n",
    "             #r'C:\\Data\\2019-01-14\\10-57-00-Chain of 5 coupled xmons NNDAC-1+3 anticrossings qubit 4',\n",
    "             r'C:\\Data\\2019-01-14\\20-08-38-Chain of 5 coupled xmons NNDAC-4 anticrossings qubit 3',\n",
    "             r'C:\\Data\\2019-01-14\\20-22-52-Chain of 5 coupled xmons NNDAC-4 anticrossings qubit 4',\n",
    "             \n",
    "             #r'C:\\Data\\2019-01-14\\10-59-46-Chain of 5 coupled xmons NNDAC-4+3 anticrossings qubit 4',\n",
    "             \n",
    "              r'C:\\Data\\2019-01-14\\20-40-40-Chain of 5 coupled xmons NNDAC-4 anticrossings qubit 5']\n",
    "             #r'C:\\Data\\2019-01-14\\11-01-38-Chain of 5 coupled xmons NNDAC-6+3 anticrossings qubit 4',\n",
    "            ]"
   ]
  },
  {
   "cell_type": "code",
   "execution_count": 202,
   "metadata": {},
   "outputs": [
    {
     "data": {
      "text/plain": [
       "('Chain of 5 coupled xmons NNDAC-6 anticrossings qubit 1',\n",
       " 'C:\\\\Data\\\\2019-01-14\\\\18-31-11-Chain of 5 coupled xmons NNDAC-6 anticrossings qubit 1')"
      ]
     },
     "execution_count": 202,
     "metadata": {},
     "output_type": "execute_result"
    }
   ],
   "source": [
    "files[4][column_id],locations[row_id][column_id]"
   ]
  },
  {
   "cell_type": "code",
   "execution_count": 210,
   "metadata": {},
   "outputs": [],
   "source": [
    "z = files[4]\n",
    "files[4] = files[2]\n",
    "files[2] = z\n",
    "z = files[4]\n",
    "files[4] = files[3]\n",
    "files[3] = z"
   ]
  },
  {
   "cell_type": "code",
   "execution_count": 211,
   "metadata": {},
   "outputs": [
    {
     "data": {
      "text/plain": [
       "[['Chain of 5 coupled xmons NNDAC-0 anticrossings qubit 1',\n",
       "  'Chain of 5 coupled xmons NNDAC-0 anticrossings qubit 2',\n",
       "  'Chain of 5 coupled xmons NNDAC-0 anticrossings qubit 3',\n",
       "  'Chain of 5 coupled xmons NNDAC-0 anticrossings qubit 4',\n",
       "  'Chain of 5 coupled xmons NNDAC-0 anticrossings qubit 5'],\n",
       " ['Chain of 5 coupled xmons NNDAC-1 anticrossings qubit 1',\n",
       "  'Chain of 5 coupled xmons NNDAC-1 anticrossings qubit 2',\n",
       "  'Chain of 5 coupled xmons NNDAC-1 anticrossings qubit 3',\n",
       "  'Chain of 5 coupled xmons NNDAC-1 anticrossings qubit 4',\n",
       "  'Chain of 5 coupled xmons NNDAC-1 anticrossings qubit 5'],\n",
       " ['Chain of 5 coupled xmons NNDAC-6 anticrossings qubit 1',\n",
       "  'Chain of 5 coupled xmons NNDAC-6 anticrossings qubit 2',\n",
       "  'Chain of 5 coupled xmons NNDAC-6 anticrossings qubit 3',\n",
       "  'Chain of 5 coupled xmons NNDAC-6 anticrossings qubit 4',\n",
       "  'Chain of 5 coupled xmons NNDAC-6 anticrossings qubit 5'],\n",
       " ['Chain of 5 coupled xmons NNDAC-3 anticrossings qubit 1',\n",
       "  'Chain of 5 coupled xmons NNDAC-3 anticrossings qubit 2',\n",
       "  'Chain of 5 coupled xmons NNDAC-3 anticrossings qubit 3',\n",
       "  'Chain of 5 coupled xmons NNDAC-3 anticrossings qubit 4',\n",
       "  'Chain of 5 coupled xmons NNDAC-3 anticrossings qubit 5'],\n",
       " ['Chain of 5 coupled xmons NNDAC-4 anticrossings qubit 1',\n",
       "  'Chain of 5 coupled xmons NNDAC-4 anticrossings qubit 2',\n",
       "  'Chain of 5 coupled xmons NNDAC-4 anticrossings qubit 3',\n",
       "  'Chain of 5 coupled xmons NNDAC-4 anticrossings qubit 4',\n",
       "  'Chain of 5 coupled xmons NNDAC-4 anticrossings qubit 5']]"
      ]
     },
     "execution_count": 211,
     "metadata": {},
     "output_type": "execute_result"
    }
   ],
   "source": [
    "files"
   ]
  },
  {
   "cell_type": "code",
   "execution_count": 234,
   "metadata": {},
   "outputs": [
    {
     "name": "stdout",
     "output_type": "stream",
     "text": [
      "C:\\Data\\2019-01-14\\16-44-18-Chain of 5 coupled xmons NNDAC-0 anticrossings qubit 1/Chain of 5 coupled xmons NNDAC-0 anticrossings qubit 1.pkl\n",
      "C:\\Data\\2019-01-14\\19-01-45-Chain of 5 coupled xmons NNDAC-0 anticrossings qubit 2/Chain of 5 coupled xmons NNDAC-0 anticrossings qubit 2.pkl\n",
      "C:\\Data\\2019-01-14\\19-57-58-Chain of 5 coupled xmons NNDAC-0 anticrossings qubit 3/Chain of 5 coupled xmons NNDAC-0 anticrossings qubit 3.pkl\n",
      "C:\\Data\\2019-01-14\\20-13-58-Chain of 5 coupled xmons NNDAC-0 anticrossings qubit 4/Chain of 5 coupled xmons NNDAC-0 anticrossings qubit 4.pkl\n",
      "C:\\Data\\2019-01-14\\20-29-59-Chain of 5 coupled xmons NNDAC-0 anticrossings qubit 5/Chain of 5 coupled xmons NNDAC-0 anticrossings qubit 5.pkl\n",
      "C:\\Data\\2019-01-14\\16-59-35-Chain of 5 coupled xmons NNDAC-1 anticrossings qubit 1/Chain of 5 coupled xmons NNDAC-1 anticrossings qubit 1.pkl\n",
      "C:\\Data\\2019-01-14\\19-14-14-Chain of 5 coupled xmons NNDAC-1 anticrossings qubit 2/Chain of 5 coupled xmons NNDAC-1 anticrossings qubit 2.pkl\n",
      "C:\\Data\\2019-01-14\\20-01-31-Chain of 5 coupled xmons NNDAC-1 anticrossings qubit 3/Chain of 5 coupled xmons NNDAC-1 anticrossings qubit 3.pkl\n",
      "C:\\Data\\2019-01-14\\20-17-32-Chain of 5 coupled xmons NNDAC-1 anticrossings qubit 4/Chain of 5 coupled xmons NNDAC-1 anticrossings qubit 4.pkl\n",
      "C:\\Data\\2019-01-14\\20-33-33-Chain of 5 coupled xmons NNDAC-1 anticrossings qubit 5/Chain of 5 coupled xmons NNDAC-1 anticrossings qubit 5.pkl\n",
      "C:\\Data\\2019-01-14\\18-31-11-Chain of 5 coupled xmons NNDAC-6 anticrossings qubit 1/Chain of 5 coupled xmons NNDAC-6 anticrossings qubit 1.pkl\n",
      "C:\\Data\\2019-01-14\\19-45-28-Chain of 5 coupled xmons NNDAC-6 anticrossings qubit 2/Chain of 5 coupled xmons NNDAC-6 anticrossings qubit 2.pkl\n",
      "C:\\Data\\2019-01-14\\20-12-11-Chain of 5 coupled xmons NNDAC-6 anticrossings qubit 3/Chain of 5 coupled xmons NNDAC-6 anticrossings qubit 3.pkl\n",
      "C:\\Data\\2019-01-14\\20-26-26-Chain of 5 coupled xmons NNDAC-6 anticrossings qubit 4/Chain of 5 coupled xmons NNDAC-6 anticrossings qubit 4.pkl\n",
      "C:\\Data\\2019-01-14\\20-42-26-Chain of 5 coupled xmons NNDAC-6 anticrossings qubit 5/Chain of 5 coupled xmons NNDAC-6 anticrossings qubit 5.pkl\n",
      "C:\\Data\\2019-01-14\\17-30-07-Chain of 5 coupled xmons NNDAC-3 anticrossings qubit 1/Chain of 5 coupled xmons NNDAC-3 anticrossings qubit 1.pkl\n",
      "C:\\Data\\2019-01-14\\19-20-29-Chain of 5 coupled xmons NNDAC-3 anticrossings qubit 2/Chain of 5 coupled xmons NNDAC-3 anticrossings qubit 2.pkl\n",
      "C:\\Data\\2019-01-14\\20-05-04-Chain of 5 coupled xmons NNDAC-3 anticrossings qubit 3/Chain of 5 coupled xmons NNDAC-3 anticrossings qubit 3.pkl\n",
      "C:\\Data\\2019-01-14\\20-21-06-Chain of 5 coupled xmons NNDAC-3 anticrossings qubit 4/Chain of 5 coupled xmons NNDAC-3 anticrossings qubit 4.pkl\n",
      "C:\\Data\\2019-01-14\\20-37-06-Chain of 5 coupled xmons NNDAC-3 anticrossings qubit 5/Chain of 5 coupled xmons NNDAC-3 anticrossings qubit 5.pkl\n",
      "C:\\Data\\2019-01-14\\18-00-39-Chain of 5 coupled xmons NNDAC-4 anticrossings qubit 1/Chain of 5 coupled xmons NNDAC-4 anticrossings qubit 1.pkl\n",
      "C:\\Data\\2019-01-14\\19-32-59-Chain of 5 coupled xmons NNDAC-4 anticrossings qubit 2/Chain of 5 coupled xmons NNDAC-4 anticrossings qubit 2.pkl\n",
      "C:\\Data\\2019-01-14\\20-08-38-Chain of 5 coupled xmons NNDAC-4 anticrossings qubit 3/Chain of 5 coupled xmons NNDAC-4 anticrossings qubit 3.pkl\n",
      "C:\\Data\\2019-01-14\\20-22-52-Chain of 5 coupled xmons NNDAC-4 anticrossings qubit 4/Chain of 5 coupled xmons NNDAC-4 anticrossings qubit 4.pkl\n",
      "C:\\Data\\2019-01-14\\20-40-40-Chain of 5 coupled xmons NNDAC-4 anticrossings qubit 5/Chain of 5 coupled xmons NNDAC-4 anticrossings qubit 5.pkl\n",
      "C:\\Data\\2019-01-14\\16-44-18-Chain of 5 coupled xmons NNDAC-0 anticrossings qubit 1/Chain of 5 coupled xmons NNDAC-0 anticrossings qubit 1.pkl\n",
      "C:\\Data\\2019-01-14\\19-01-45-Chain of 5 coupled xmons NNDAC-0 anticrossings qubit 2/Chain of 5 coupled xmons NNDAC-0 anticrossings qubit 2.pkl\n",
      "C:\\Data\\2019-01-14\\19-57-58-Chain of 5 coupled xmons NNDAC-0 anticrossings qubit 3/Chain of 5 coupled xmons NNDAC-0 anticrossings qubit 3.pkl\n",
      "C:\\Data\\2019-01-14\\20-13-58-Chain of 5 coupled xmons NNDAC-0 anticrossings qubit 4/Chain of 5 coupled xmons NNDAC-0 anticrossings qubit 4.pkl\n",
      "C:\\Data\\2019-01-14\\20-29-59-Chain of 5 coupled xmons NNDAC-0 anticrossings qubit 5/Chain of 5 coupled xmons NNDAC-0 anticrossings qubit 5.pkl\n",
      "C:\\Data\\2019-01-14\\16-59-35-Chain of 5 coupled xmons NNDAC-1 anticrossings qubit 1/Chain of 5 coupled xmons NNDAC-1 anticrossings qubit 1.pkl\n",
      "C:\\Data\\2019-01-14\\19-14-14-Chain of 5 coupled xmons NNDAC-1 anticrossings qubit 2/Chain of 5 coupled xmons NNDAC-1 anticrossings qubit 2.pkl\n",
      "C:\\Data\\2019-01-14\\20-01-31-Chain of 5 coupled xmons NNDAC-1 anticrossings qubit 3/Chain of 5 coupled xmons NNDAC-1 anticrossings qubit 3.pkl\n",
      "C:\\Data\\2019-01-14\\20-17-32-Chain of 5 coupled xmons NNDAC-1 anticrossings qubit 4/Chain of 5 coupled xmons NNDAC-1 anticrossings qubit 4.pkl\n",
      "C:\\Data\\2019-01-14\\20-33-33-Chain of 5 coupled xmons NNDAC-1 anticrossings qubit 5/Chain of 5 coupled xmons NNDAC-1 anticrossings qubit 5.pkl\n",
      "C:\\Data\\2019-01-14\\18-31-11-Chain of 5 coupled xmons NNDAC-6 anticrossings qubit 1/Chain of 5 coupled xmons NNDAC-6 anticrossings qubit 1.pkl\n",
      "C:\\Data\\2019-01-14\\19-45-28-Chain of 5 coupled xmons NNDAC-6 anticrossings qubit 2/Chain of 5 coupled xmons NNDAC-6 anticrossings qubit 2.pkl\n",
      "C:\\Data\\2019-01-14\\20-12-11-Chain of 5 coupled xmons NNDAC-6 anticrossings qubit 3/Chain of 5 coupled xmons NNDAC-6 anticrossings qubit 3.pkl\n",
      "C:\\Data\\2019-01-14\\20-26-26-Chain of 5 coupled xmons NNDAC-6 anticrossings qubit 4/Chain of 5 coupled xmons NNDAC-6 anticrossings qubit 4.pkl\n",
      "C:\\Data\\2019-01-14\\20-42-26-Chain of 5 coupled xmons NNDAC-6 anticrossings qubit 5/Chain of 5 coupled xmons NNDAC-6 anticrossings qubit 5.pkl\n",
      "C:\\Data\\2019-01-14\\17-30-07-Chain of 5 coupled xmons NNDAC-3 anticrossings qubit 1/Chain of 5 coupled xmons NNDAC-3 anticrossings qubit 1.pkl\n",
      "C:\\Data\\2019-01-14\\19-20-29-Chain of 5 coupled xmons NNDAC-3 anticrossings qubit 2/Chain of 5 coupled xmons NNDAC-3 anticrossings qubit 2.pkl\n",
      "C:\\Data\\2019-01-14\\20-05-04-Chain of 5 coupled xmons NNDAC-3 anticrossings qubit 3/Chain of 5 coupled xmons NNDAC-3 anticrossings qubit 3.pkl\n",
      "C:\\Data\\2019-01-14\\20-21-06-Chain of 5 coupled xmons NNDAC-3 anticrossings qubit 4/Chain of 5 coupled xmons NNDAC-3 anticrossings qubit 4.pkl\n",
      "C:\\Data\\2019-01-14\\20-37-06-Chain of 5 coupled xmons NNDAC-3 anticrossings qubit 5/Chain of 5 coupled xmons NNDAC-3 anticrossings qubit 5.pkl\n",
      "C:\\Data\\2019-01-14\\18-00-39-Chain of 5 coupled xmons NNDAC-4 anticrossings qubit 1/Chain of 5 coupled xmons NNDAC-4 anticrossings qubit 1.pkl\n",
      "C:\\Data\\2019-01-14\\19-32-59-Chain of 5 coupled xmons NNDAC-4 anticrossings qubit 2/Chain of 5 coupled xmons NNDAC-4 anticrossings qubit 2.pkl\n",
      "C:\\Data\\2019-01-14\\20-08-38-Chain of 5 coupled xmons NNDAC-4 anticrossings qubit 3/Chain of 5 coupled xmons NNDAC-4 anticrossings qubit 3.pkl\n",
      "C:\\Data\\2019-01-14\\20-22-52-Chain of 5 coupled xmons NNDAC-4 anticrossings qubit 4/Chain of 5 coupled xmons NNDAC-4 anticrossings qubit 4.pkl\n",
      "C:\\Data\\2019-01-14\\20-40-40-Chain of 5 coupled xmons NNDAC-4 anticrossings qubit 5/Chain of 5 coupled xmons NNDAC-4 anticrossings qubit 5.pkl\n"
     ]
    },
    {
     "data": {
      "text/plain": [
       "Text(0.02, 0.5, 'Частота, ГГц')"
      ]
     },
     "execution_count": 234,
     "metadata": {},
     "output_type": "execute_result"
    }
   ],
   "source": [
    "#### plot all anitcrossings on one axes\n",
    "#Locale settings\n",
    "import locale\n",
    "# Set to German locale to get comma decimal separater\n",
    "locale.setlocale(locale.LC_NUMERIC, \"deu_DEU\")\n",
    "\n",
    "import numpy as np\n",
    "import matplotlib.pyplot as plt\n",
    "plt.rcdefaults()\n",
    "\n",
    "# Tell matplotlib to use the locale we set above\n",
    "plt.rcParams['axes.formatter.use_locale'] = True\n",
    "%matplotlib qt5\n",
    "\n",
    "num_resonators = 5#2\n",
    "\n",
    "figs, axes = plt.subplots(num_resonators,num_resonators, figsize=(9,6), sharex=True, sharey='row')\n",
    "\n",
    "anticrossing_matrix = []\n",
    "max_dev_matrix = []\n",
    "coil_value_matrix = []\n",
    "#files = [['1808_072-2 Coil #NNDAC-{} anticrossings qubit {}'.format(i,j) for j in ['1', '2', '3'] ] for i in [6,8,10]]\n",
    "#files = [['Qubit chain 11Q Coil #NNDAC-{0} anticrossings qubit {1}'.format(i,j) for j in ['1', '2'] ] for i in [20,22]]\n",
    "files = [['Chain of 5 coupled xmons NNDAC-{} anticrossings qubit {}'.format(i,j)for j in [1, 2, 3, 4, 5]] for i in ['0','1','3','4','6'] ]\n",
    "z = files[4]\n",
    "files[4] = files[2]\n",
    "files[2] = z\n",
    "z = files[4]\n",
    "files[4] = files[3]\n",
    "files[3] = z\n",
    "\n",
    "delays = []\n",
    "for row_id in range(len(locations)):\n",
    "    for column_id in range(len(locations[0])):\n",
    "        data = qsweepy.save_pkl.load_pkl(files[row_id][column_id],locations[row_id][column_id])[1]['S-parameter']\n",
    "        unwrapped = np.unwrap(np.angle(data[2])).T\n",
    "        delays.append((unwrapped[-1,:]-unwrapped[0,:]+np.pi*0)/(data[1][1][-1]-data[1][1][0]))\n",
    "delay = np.median(delays[0])\n",
    "        \n",
    "for row_id in range(len(locations)):\n",
    "    anticrossing_row = []\n",
    "    max_dev_row = []\n",
    "    coil_value_row = [] \n",
    "    for column_id in range(len(locations[0])):\n",
    "        data = qsweepy.save_pkl.load_pkl(files[row_id][column_id],locations[row_id][column_id])[1]['S-parameter']\n",
    "        #unwrapped = np.unwrap(np.angle(data[2])).T\n",
    "        #phase_diff = unwrapped[-1,:]-unwrapped[0,:]\n",
    "        #data_nodelay = (data[2]*np.exp(-1j*np.linspace(0,np.median(phase_diff),unwrapped.shape[0]))).T\n",
    "        data_nodelay = (data[2]*np.exp(-1j*delay*data[1][1])).T\n",
    "        data_deviation_complex = data_nodelay - np.mean(data_nodelay, axis=0)\n",
    "        #axes[row_id,column_id].pcolormesh(data[1][0], data[1][1], np.angle(data_nodelay), cmap='RdBu')\n",
    "        colorplot = axes[column_id, row_id].pcolormesh(data[1][0], data[1][1]/1e9, np.abs(data_deviation_complex), cmap='RdBu_r')\n",
    "        max_dev = data[1][1][np.argmax(np.abs(data_deviation_complex), axis=0)]/1e9\n",
    "            #if (max_dev[p] < 7.0061) and (row_id == 1):\n",
    "                #max_dev[p] = \n",
    "        axes[column_id, row_id].plot(data[1][0], max_dev, color='yellow', linewidth=2)\n",
    "        if column_id == 0:\n",
    "            axes[column_id, row_id].set_title('Линия #'+str(row_id+1))\n",
    "        if row_id == 0:\n",
    "            axes[column_id, row_id].set_ylabel('Резонатор #'+str(column_id+1))\n",
    "        anticrossing_row.append(data_deviation_complex)\n",
    "        max_dev_row.append(max_dev)\n",
    "        coil_value_row.append(data[1][0])\n",
    "        #plt.colorbar(colorplot, ax=axes[column_id, row_id])\n",
    "    anticrossing_matrix.append(anticrossing_row)\n",
    "    max_dev_matrix.append(max_dev_row)\n",
    "    coil_value_matrix.append(coil_value_row)\n",
    "figs.text(0.5, 0.04, 'Напряжение управляющей линии, В', ha='center')\n",
    "figs.text(0.02, 0.5, 'Частота, ГГц', va='center', rotation='vertical')\n",
    "#plt.tight_layout()\n",
    "#print (delay/2/np.pi)"
   ]
  },
  {
   "cell_type": "code",
   "execution_count": 213,
   "metadata": {},
   "outputs": [],
   "source": [
    "fqb = lambda x, EJ1, EJ2, EC, phi0, L: (8*EC)**0.5*((EJ1-EJ2)**2*np.sin(np.pi*x*L+phi0*np.pi)**2+(EJ1+EJ2)**2*np.cos(np.pi*x*L+phi0*np.pi)**2)**0.25\n",
    "fr  = lambda x, frb, g, EJ1, EJ2, EC, phi0, L: (fqb(x, EJ1, EJ2, EC, phi0, L)+frb)*0.5+(((fqb(x, EJ1, EJ2, EC, phi0, L)-frb)*0.5)**2+g**2)**0.5*np.sign(frb-fqb(x, EJ1, EJ2, EC, phi0, L))"
   ]
  },
  {
   "cell_type": "code",
   "execution_count": 231,
   "metadata": {},
   "outputs": [],
   "source": [
    "num_resonators = 5#2\n",
    "#L_mat=np.asarray([[ 0.31*8, -0.07*8, -0.02*8],\n",
    "#        [ 0.08*8,  0.29*8, -0.13*8],\n",
    "#        [-0.08*8,  0.07*8,  0.14*8]])\n",
    "#L_mat=np.asarray([[ 0.31, -0.07, -0.02],\n",
    "#        [ 0.08,  0.29, -0.13],\n",
    "#        [-0.08,  0.07,  0.14]])\n",
    "#phi0 = np.asarray([-0.02, -0.025, -0.038])\n",
    "#L_mat = np.asarray([[0.31, -0.07],\n",
    "#                    [0.08, 0.20]])\n",
    "#phi0 = np.asarray([0.01, 0.5])\n",
    "L_mat = np.asarray([[-0.2, 0.1, -0.8, -0.1, 0.1],\n",
    "                    [0.15, 0.2, 0.6, -0.05, -0.05],\n",
    "                    [-0.1, -0.1, -0.5, 0.1, 0.2],\n",
    "                    [-0.1, -0.1, -0.57, -0.1, 0.01],\n",
    "                    [-0.1, 0.2, 0.5, 0.01, 0.2]])\n",
    "phi0 = np.asarray([0.07, 0.01, 0.5, 0.01, 0.01])\n",
    "\n",
    "initial_guess = {'L':L_mat,#np.identity(num_resonators)*0.3-0.01, # initial guess for inductance matrix\n",
    "                     'phi0':phi0,#-np.ones(num_resonators)*0.1, # initial guess for residual flux\n",
    "                     'frb':np.mean(max_dev_matrix, axis=(0,2))*1e9,\n",
    "                     #'frb':[6.85e9, 7.15e9, 7.00e9],\n",
    "                     'EC':0.175e9,\n",
    "                     'EJ1':18.8e9,\n",
    "                     'EJ2':3.6e9,\n",
    "                     'g':40e6}\n",
    "\n",
    "phi0_vec = []\n",
    "L_mat = []\n",
    "fitresults_vec = []\n",
    "for resonator_id in range(num_resonators):\n",
    "    data = [max_dev_matrix[i][resonator_id] for i in range(num_resonators)]\n",
    "    x = [coil_value_matrix[i][resonator_id] for i in range(num_resonators)]\n",
    "    def fr_coil(p, coil_id):\n",
    "        frb, g, EJ1, EJ2, EC, phi0 = p[:6]\n",
    "        L = p[6:]\n",
    "        return fr(x[coil_id], frb, g, EJ1, EJ2, EC, phi0, L[coil_id])/1e9\n",
    "    def residuals(p):\n",
    "        frb, g, EJ1, EJ2, EC, phi0 = p[:6]\n",
    "        L = p[6:]\n",
    "        res = []\n",
    "        for coil_id in range(len(data)):\n",
    "            #print (fr(x[coil_id], frb, g, EJ1, EJ2, EC, phi0, L[coil_id]))\n",
    "            #print (fqb(x[coil_id], EJ1, EJ2, EC, phi0, L[coil_id]))\n",
    "            #print (x[coil_id]*np.reshape(L,(-1,1)))\n",
    "            res.extend((fr(x[coil_id], frb, g, EJ1, EJ2, EC, phi0, L[coil_id])/1e9-data[coil_id])*(3 if coil_id == resonator_id else 1))\n",
    "        return res\n",
    "    from scipy.optimize import least_squares\n",
    "\n",
    "    p0 = (initial_guess['frb'][resonator_id], \n",
    "          initial_guess['g'], \n",
    "          initial_guess['EJ1'], \n",
    "          initial_guess['EJ2'], \n",
    "          initial_guess['EC'], \n",
    "          initial_guess['phi0'][resonator_id])+\\\n",
    "          tuple(initial_guess['L'][resonator_id,:])\n",
    "\n",
    "    bounds = ((0,      0,      0,      0,      0,      -np.pi)+tuple([-np.inf]*num_resonators),\n",
    "              (np.inf, np.inf, np.inf, np.inf, np.inf,  np.pi)+tuple([ np.inf]*num_resonators))\n",
    "    fitresults = least_squares(residuals, p0, x_scale=np.abs(p0), bounds=bounds)\n",
    "    fitresults_vec.append(fitresults)\n",
    "    phi0_vec.append(fitresults.x[5])\n",
    "    L_mat.append(fitresults.x[6:])\n",
    "    #print (fitresults.x)"
   ]
  },
  {
   "cell_type": "code",
   "execution_count": 235,
   "metadata": {},
   "outputs": [],
   "source": [
    "for resonator_id in range(num_resonators):\n",
    "    for coil_id in range(num_resonators):\n",
    "        axes[resonator_id, coil_id].plot(coil_value_matrix[coil_id][resonator_id], \n",
    "                                     fr_coil(fitresults_vec[resonator_id].x, coil_id), color='black', linewidth=2)"
   ]
  },
  {
   "cell_type": "code",
   "execution_count": 236,
   "metadata": {},
   "outputs": [
    {
     "data": {
      "text/plain": [
       "(array([[-0.29580624,  0.06747181, -0.94667735,  0.04302292,  0.02898435],\n",
       "        [ 0.1156245 ,  0.31859002,  0.72936031, -0.06316073, -0.07285394],\n",
       "        [-0.09286183, -0.11441832, -0.64143952,  0.07763417,  0.09967617],\n",
       "        [-0.06342414, -0.09591048, -0.57883309, -0.24947534,  0.12779138],\n",
       "        [ 0.03216222,  0.06675949,  0.48809608,  0.0207179 ,  0.20366358]]),\n",
       " [-0.05782268606191471,\n",
       "  0.01904614462174496,\n",
       "  0.3098659550785537,\n",
       "  0.057087363434148934,\n",
       "  -0.01645492100311836])"
      ]
     },
     "execution_count": 236,
     "metadata": {},
     "output_type": "execute_result"
    }
   ],
   "source": [
    "np.asarray(L_mat), phi0_vec"
   ]
  },
  {
   "cell_type": "code",
   "execution_count": 169,
   "metadata": {},
   "outputs": [
    {
     "data": {
      "text/plain": [
       "[array([-1.50988419,  0.20843234, -0.62359833]),\n",
       " array([-0.109936  , -1.22176011,  0.83381182]),\n",
       " array([ 1.31434236, -1.20573802, -2.07861818]),\n",
       " array([ 1.52699178, -0.08319558, -2.49904575]),\n",
       " array([-0.61722937, -2.58190165, -2.4849594 ])]"
      ]
     },
     "execution_count": 169,
     "metadata": {},
     "output_type": "execute_result"
    }
   ],
   "source": [
    "[np.linalg.solve(np.asarray(L_mat), -np.asarray(phi0_vec)+[-0.5,0.0,0.0]), \n",
    " np.linalg.solve(np.asarray(L_mat), -np.asarray(phi0_vec)+[0.0,-0.5,0.0]),\n",
    " np.linalg.solve(np.asarray(L_mat), -np.asarray(phi0_vec)+[0.5,0.0,-0.5]),\n",
    " np.linalg.solve(np.asarray(L_mat), -np.asarray(phi0_vec)+[0.5,0.40,-0.5]),\n",
    " np.linalg.solve(np.asarray(L_mat), -np.asarray(phi0_vec)+[0.0,-0.5,-0.5])]\n"
   ]
  },
  {
   "cell_type": "code",
   "execution_count": 472,
   "metadata": {},
   "outputs": [
    {
     "data": {
      "text/plain": [
       "array([-0.1552843 , -0.30805631, -0.08974458])"
      ]
     },
     "execution_count": 472,
     "metadata": {},
     "output_type": "execute_result"
    }
   ],
   "source": [
    "np.dot(np.asarray(L_mat), [-1.22473107, -2.5820615 , -2.58934792])"
   ]
  },
  {
   "cell_type": "code",
   "execution_count": 476,
   "metadata": {},
   "outputs": [
    {
     "data": {
      "text/plain": [
       "array([[  4.05832053,   1.3716067 ,   1.91661173],\n",
       "       [  2.78596105,   5.36166024,   5.54632033],\n",
       "       [  3.6204024 ,   3.39640259,  10.92960688]])"
      ]
     },
     "execution_count": 476,
     "metadata": {},
     "output_type": "execute_result"
    }
   ],
   "source": [
    "np.linalg.inv(L_mat)"
   ]
  },
  {
   "cell_type": "code",
   "execution_count": 10,
   "metadata": {},
   "outputs": [
    {
     "data": {
      "text/plain": [
       "array([-0.5001994 , -0.27164611,  0.05743828])"
      ]
     },
     "execution_count": 10,
     "metadata": {},
     "output_type": "execute_result"
    }
   ],
   "source": [
    "np.dot([[ 0.31045445, -0.06621955, -0.02083502],\n",
    "        [ 0.08090813,  0.29212717, -0.13412727],\n",
    "        [-0.07698924,  0.06840561,  0.13873278]], (-1.6, -0.4, 0))+[-0.029960100879772234, -0.025342234038425226, -0.038382257248394662]"
   ]
  },
  {
   "cell_type": "code",
   "execution_count": 165,
   "metadata": {},
   "outputs": [
    {
     "data": {
      "text/plain": [
       "array([ 1.57410484, -0.26243839, -2.38936359])"
      ]
     },
     "execution_count": 165,
     "metadata": {},
     "output_type": "execute_result"
    }
   ],
   "source": [
    "np.linalg.solve(L_mat, np.dot(L_mat, [ 1.5004106 , -0.22351339, -2.16])-[0.5, 0.35, -0.419])+[ 1.5004106 , -0.22351339, -2.44649231]"
   ]
  },
  {
   "cell_type": "code",
   "execution_count": 168,
   "metadata": {},
   "outputs": [
    {
     "data": {
      "text/plain": [
       "array([ 1.53979191, -0.1179253 , -2.47534765])"
      ]
     },
     "execution_count": 168,
     "metadata": {},
     "output_type": "execute_result"
    }
   ],
   "source": [
    "np.linalg.solve(L_mat, np.asarray([ 0.0057991 ,  0.03773627, 0]))+np.linalg.solve(np.asarray(L_mat), -np.asarray(phi0_vec)+[0.5,0.35,-0.5])"
   ]
  },
  {
   "cell_type": "code",
   "execution_count": null,
   "metadata": {},
   "outputs": [],
   "source": []
  }
 ],
 "metadata": {
  "kernelspec": {
   "display_name": "Python 3",
   "language": "python",
   "name": "python3"
  },
  "language_info": {
   "codemirror_mode": {
    "name": "ipython",
    "version": 3
   },
   "file_extension": ".py",
   "mimetype": "text/x-python",
   "name": "python",
   "nbconvert_exporter": "python",
   "pygments_lexer": "ipython3",
   "version": "3.6.5"
  },
  "toc": {
   "base_numbering": 1,
   "nav_menu": {},
   "number_sections": true,
   "sideBar": true,
   "skip_h1_title": false,
   "title_cell": "Table of Contents",
   "title_sidebar": "Contents",
   "toc_cell": false,
   "toc_position": {},
   "toc_section_display": true,
   "toc_window_display": false
  }
 },
 "nbformat": 4,
 "nbformat_minor": 2
}
