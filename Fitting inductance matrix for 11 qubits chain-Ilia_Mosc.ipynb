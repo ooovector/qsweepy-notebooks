{
 "cells": [
  {
   "cell_type": "code",
   "execution_count": 1,
   "metadata": {
    "ExecuteTime": {
     "end_time": "2019-11-14T09:26:11.912424Z",
     "start_time": "2019-11-14T09:26:10.959011Z"
    }
   },
   "outputs": [],
   "source": [
    "import qsweepy.save_pkl\n",
    "import pandas as pd\n",
    "import matplotlib.pyplot as plt\n",
    "import qsweepy.fitting as fitting\n",
    "import numpy as np\n",
    "%matplotlib notebook\n"
   ]
  },
  {
   "cell_type": "code",
   "execution_count": 2,
   "metadata": {
    "ExecuteTime": {
     "end_time": "2019-11-14T09:26:15.187409Z",
     "start_time": "2019-11-14T09:26:11.915423Z"
    }
   },
   "outputs": [
    {
     "name": "stdout",
     "output_type": "stream",
     "text": [
      "Failed loading module Keysight_M3102A:  No module named 'keysightSD1'\n",
      "Failed loading module Keysight_M3202A:  No module named 'keysightSD1'\n",
      "[WinError 126] The specified module could not be found\n",
      "Failed loading module Signal_Hound_SA:  name 'signal_hound_dll' is not defined\n"
     ]
    }
   ],
   "source": [
    "from qsweepy import *\n",
    "from qsweepy.ponyfiles import *"
   ]
  },
  {
   "cell_type": "code",
   "execution_count": 3,
   "metadata": {
    "ExecuteTime": {
     "end_time": "2019-11-14T09:26:15.194404Z",
     "start_time": "2019-11-14T09:26:15.190407Z"
    }
   },
   "outputs": [],
   "source": [
    "from qsweepy.ponyfiles.data_structures import *"
   ]
  },
  {
   "cell_type": "code",
   "execution_count": 91,
   "metadata": {
    "ExecuteTime": {
     "end_time": "2019-11-14T10:44:03.500263Z",
     "start_time": "2019-11-14T10:44:03.390275Z"
    }
   },
   "outputs": [],
   "source": [
    "sample_name = '11qubits_021119'\n",
    "db = database.MyDatabase()\n",
    "\n",
    "sweeper = sweep_extras.Sweeper(db, sample_name=sample_name)\n",
    "exdir_db_inst = exdir_db.Exdir_db(db=db, sample_name=sample_name)"
   ]
  },
  {
   "cell_type": "code",
   "execution_count": 5,
   "metadata": {
    "ExecuteTime": {
     "end_time": "2019-11-14T09:26:15.535195Z",
     "start_time": "2019-11-14T09:26:15.502215Z"
    }
   },
   "outputs": [],
   "source": [
    "qubits = {\n",
    "          '1': {'r':{\n",
    "                    'Fr': 6.260e9, # first sample # second sample 7.0848e9,# second sample 7.085e9,#6.59783e9,\n",
    "                    'Fr_min': 6.258e9,#6.575e9,\n",
    "                    'Fr_max': 6.262e9,#7.100e9# down 6.702e9,#7.110e9,##6.62e9,\n",
    "                     'dFr': 0.1e6,#0.1e6, # tolerance of resonator frequency\n",
    "                     'P': -45 },\n",
    "                'q':{\n",
    "                    \"F\":\n",
    "                     {'F01_min': 3.405e9,\n",
    "                      'min_voltage':-3.7,\n",
    "                      'max_voltage':0.8,\n",
    "                     'F01_max': 4.0787e9}, # 4.17799e9#4.1173e9 #4.242e9#4.23819e9#4.159e9},#4.535e9}, #4.622e9 - up},#5.505e9}, # was 5.508e9,last 5.51812\n",
    "                     'P':\n",
    "                     {'nndac_coil_id':20,#0,\n",
    "                      'max_voltage':4,\n",
    "                      'awg_tek_coil_channel':4,\n",
    "                      'coil_device_channel':4,\n",
    "                     'P':None,    \n",
    "                     }\n",
    "                    }},\n",
    "          '2': {'r':{\n",
    "                    'Fr': 6.307e9,#7.4095e9,#7.41e9, #7.413e9,# first sample # second sample 7.8816e9,#'Fr': 6.7335e9,\n",
    "                    'Fr_min': 6.305e9,#7.395e9,#6.72e9,\n",
    "                    'Fr_max': 6.309e9,#7.415e9,#down  8.32e9,#8.84e9,##6.788e9,#6.884e9,#6.92e9,\n",
    "                     'dFr': 0.1e6,#0.1e6, # tolerance of resonator frequency\n",
    "                     'P': -45 },\n",
    "                'q':{\n",
    "                    \"F\":\n",
    "                    {'F01_min':3.330e9,\n",
    "                     'min_voltage':-3.6,\n",
    "                      'max_voltage':0.8,\n",
    "                    'F01_max':3.880e9},#5.8e9#5.010e9 - up},#{'F01_min':5.519e9},#5.52025\n",
    "                    'P':\n",
    "                     {\n",
    "                     'nndac_coil_id':18,#2,!!!!!!!!\n",
    "                         'max_voltage':4,\n",
    "                     'awg_tek_coil_channel':4,\n",
    "                     'coil_device_channel':4,\n",
    "                     'P':None, \n",
    "                     }}},\n",
    "        '3': {'r':{\n",
    "                    'Fr': 6.3623e+09, # first sample # second sample 7.0848e9,# second sample 7.085e9,#6.59783e9,\n",
    "                    'Fr_min': 6.36e+09,#6.575e9,\n",
    "                    'Fr_max': 6.364e+09,#7.100e9# down 6.702e9,#7.110e9,##6.62e9,\n",
    "                     'dFr': 0.1e6,#0.1e6, # tolerance of resonator frequency\n",
    "                     'P': -45 },\n",
    "                'q':{\n",
    "                    \"F\":\n",
    "                     {'F01_min': 3.362e9,\n",
    "                      'min_voltage':-3.6,\n",
    "                      'max_voltage':0.9,\n",
    "                     'F01_max': 4.054e9}, # 4.17799e9#4.1173e9 #4.242e9#4.23819e9#4.159e9},#4.535e9}, #4.622e9 - up},#5.505e9}, # was 5.508e9,last 5.51812\n",
    "                     'P':\n",
    "                     {'nndac_coil_id':16,#0,\n",
    "                      'max_voltage':4,\n",
    "                      'awg_tek_coil_channel':4,\n",
    "                      'coil_device_channel':4,\n",
    "                     'P':None,    \n",
    "                     }}\n",
    "                },\n",
    "          '4': {'r':{\n",
    "                    'Fr': 6.414e+09, # first sample # second sample 7.373e9,# second sample 7.376e9,#6.8791e9,\n",
    "                    'Fr_min': 6.412e+09,#6.734e9,#6.879e9,#6.82e9,\n",
    "                    'Fr_max': 6.416e+09,# down 6.850e9,#7.304e9, ##6.76e9,\n",
    "                     'dFr': 0.1e6,#0.1e6, # tolerance of resonator frequency\n",
    "                     'P': -45 },\n",
    "                'q':{\n",
    "                    \"F\":\n",
    "                    {'F01_min': 3.328e9,\n",
    "                     'min_voltage':-3.6,\n",
    "                      'max_voltage':0.8,\n",
    "                    'F01_max': 3.88e9}, # not sure\n",
    "                    'P':\n",
    "                     {\n",
    "                    'nndac_coil_id':13,#4,!!!!!!\n",
    "                         'max_voltage':4,\n",
    "                    'awg_tek_coil_channel':3,\n",
    "                    'coil_device_channel':3,\n",
    "                     'P':None, \n",
    "                     }\n",
    "                }},\n",
    "          '5': {'r':{\n",
    "                    'Fr': 6.4587e9, # first sample # second sample 7.373e9,# second sample 7.376e9,#6.8791e9,\n",
    "                    'Fr_min': 6.4567e+09,#6.734e9,#6.879e9,#6.82e9,\n",
    "                    'Fr_max': 6.4607e+09,# down 6.850e9,#7.304e9, ##6.76e9,\n",
    "                     'dFr': 0.1e6,#0.1e6, # tolerance of resonator frequency\n",
    "                     'P': -45 },\n",
    "                'q':{\n",
    "                    \"F\":\n",
    "                    {'F01_min': 3.278e9,\n",
    "                      'min_voltage':-3.6,\n",
    "                      'max_voltage':0.9,\n",
    "                     'F01_max': 4.1e9}, \n",
    "                    'P':\n",
    "                     {\n",
    "                    'nndac_coil_id':12,#4,\n",
    "                         'max_voltage':4,\n",
    "                     'P':None, \n",
    "                     }\n",
    "                }},\n",
    "          '6': {'r':{\n",
    "                    'Fr': 6.4984e+09, # first sample # second sample 7.373e9,# second sample 7.376e9,#6.8791e9,\n",
    "                    'Fr_min': 6.4964e+09,#6.734e9,#6.879e9,#6.82e9,\n",
    "                    'Fr_max': 6.5004e+09,# down 6.850e9,#7.304e9, ##6.76e9,\n",
    "                     'dFr': 0.1e6,#0.1e6, # tolerance of resonator frequency\n",
    "                     'P': -45 },\n",
    "                'q':{\n",
    "                    \"F\":\n",
    "                    {'F01_min': 3.286e9,\n",
    "                      'min_voltage':-3.6,\n",
    "                      'max_voltage':0.9,\n",
    "                    'F01_max': 3.806e9}, #4.1923e9# 4.17799e9 #4.467e9#4.464e9#4.203e9},#4.675e9},#4.484e9 -up},#{'F01_min':5.45525e9},#5.45678\n",
    "                    'P':\n",
    "                     {\n",
    "                    'nndac_coil_id':10,#4, !!!!!!!!\n",
    "                         'max_voltage':4,\n",
    "                    'awg_tek_coil_channel':3,\n",
    "                    'coil_device_channel':3,\n",
    "                     'P':None, \n",
    "                     }\n",
    "                }},\n",
    "          '7': {'r':{\n",
    "                    'Fr': 6.555e+09, #8.528e9 first sample # second sample 7.373e9,# second sample 7.376e9,#6.8791e9,\n",
    "                    'Fr_min': 6.553e+09,#6.734e9,#6.879e9,#6.82e9,\n",
    "                    'Fr_max': 6.557e+09,# down 6.850e9,#7.304e9, ##6.76e9,\n",
    "                     'dFr': 0.1e6,#0.1e6, # tolerance of resonator frequency\n",
    "                     'P': -45 },\n",
    "                'q':{\n",
    "                    \"F\":\n",
    "                    {'F01_min': 3.374e9,\n",
    "                      'min_voltage':-4,\n",
    "                      'max_voltage':0.9,\n",
    "                    'F01_max': 4.1e9}, #4.1923e9# 4.17799e9 #4.467e9#4.464e9#4.203e9},#4.675e9},#4.484e9 -up},#{'F01_min':5.45525e9},#5.45678\n",
    "                    'P':\n",
    "                     {\n",
    "                    'nndac_coil_id':8,#4,\n",
    "                         'max_voltage':4,\n",
    "                    'awg_tek_coil_channel':3,\n",
    "                    'coil_device_channel':3,\n",
    "                     'P':None, \n",
    "                     }\n",
    "                }},\n",
    "          '8': {'r':{\n",
    "                    'Fr': 6.606e+09, # first sample # second sample 7.0848e9,# second sample 7.085e9,#6.59783e9,\n",
    "                    'Fr_min': 6.604e+09,#6.575e9,\n",
    "                    'Fr_max': 6.608e+09,#7.100e9# down 6.702e9,#7.110e9,##6.62e9,\n",
    "                     'dFr': 0.1e6,#0.1e6, # tolerance of resonator frequency\n",
    "                     'P': -45 },\n",
    "                'q':{\n",
    "                    \"F\":\n",
    "                     {'F01_min': 3.366e9,\n",
    "                       'min_voltage':-3,\n",
    "                      'max_voltage':0.9,\n",
    "                    'F01_max': 3.914e9}, # 4.17799e9#4.1173e9 #4.242e9#4.23819e9#4.159e9},#4.535e9}, #4.622e9 - up},#5.505e9}, # was 5.508e9,last 5.51812\n",
    "                     'P':\n",
    "                     {'nndac_coil_id':6,#0,\n",
    "                      'max_voltage':3,\n",
    "                      'awg_tek_coil_channel':4,\n",
    "                      'coil_device_channel':4,\n",
    "                     'P':None,    \n",
    "                     }\n",
    "                    }},\n",
    "          '9': {'r':{\n",
    "                    'Fr': 6.658e+09, # first sample # second sample 7.0848e9,# second sample 7.085e9,#6.59783e9,\n",
    "                    'Fr_min': 6.656e+09,#6.575e9,\n",
    "                    'Fr_max': 6.660e+09,#7.100e9# down 6.702e9,#7.110e9,##6.62e9,\n",
    "                     'dFr': 0.1e6,#0.1e6, # tolerance of resonator frequency\n",
    "                     'P': -45 },\n",
    "                'q':{\n",
    "                    \"F\":\n",
    "                     {'F01_min': 3.348e9,\n",
    "                       'min_voltage':-3.6,\n",
    "                      'max_voltage':0.9,\n",
    "                    'F01_max': 4.056e9}, # 4.17799e9#4.1173e9 #4.242e9#4.23819e9#4.159e9},#4.535e9}, #4.622e9 - up},#5.505e9}, # was 5.508e9,last 5.51812\n",
    "                     'P':\n",
    "                     {'nndac_coil_id':4,#0,\n",
    "                      'max_voltage':4,\n",
    "                      'awg_tek_coil_channel':4,\n",
    "                      'coil_device_channel':4,\n",
    "                     'P':None,    \n",
    "                     }\n",
    "                    }},\n",
    "          '10': {'r':{\n",
    "                    'Fr': 6.711e+09, # first sample # second sample 7.0848e9,# second sample 7.085e9,#6.59783e9,\n",
    "                    'Fr_min': 6.709e+09,#6.575e9,\n",
    "                    'Fr_max': 6.713e+09,#7.100e9# down 6.702e9,#7.110e9,##6.62e9,\n",
    "                     'dFr': 0.1e6,#0.1e6, # tolerance of resonator frequency\n",
    "                     'P': -45 },\n",
    "                'q':{\n",
    "                    \"F\":\n",
    "                     {'F01_min': 3.266e9,\n",
    "                       'min_voltage':-3.6,\n",
    "                      'max_voltage':0.9,\n",
    "                    'F01_max': 3.882e9}, # 4.17799e9#4.1173e9 #4.242e9#4.23819e9#4.159e9},#4.535e9}, #4.622e9 - up},#5.505e9}, # was 5.508e9,last 5.51812\n",
    "                     'P':\n",
    "                     {'nndac_coil_id':2,#0,\n",
    "                      'max_voltage':4,\n",
    "                      'awg_tek_coil_channel':4,\n",
    "                      'coil_device_channel':4,\n",
    "                     'P':None,    \n",
    "                     }\n",
    "                    }},\n",
    "          '11': {'r':{\n",
    "                    'Fr': 6.763e+09, # first sample # second sample 7.0848e9,# second sample 7.085e9,#6.59783e9,\n",
    "                    'Fr_min': 6.761e+09,#6.575e9,\n",
    "                    'Fr_max': 6.765e+09,#7.100e9# down 6.702e9,#7.110e9,##6.62e9,\n",
    "                     'dFr': 0.1e6,#0.1e6, # tolerance of resonator frequency\n",
    "                     'P': -45 },\n",
    "                'q':{\n",
    "                    \"F\":\n",
    "                     {'F01_min': 3.720e9,\n",
    "                       'min_voltage':-1.5,\n",
    "                      'max_voltage':0.7,\n",
    "                      'F01_max': 3.976e9}, # 4.17799e9#4.1173e9 #4.242e9#4.23819e9#4.159e9},#4.535e9}, #4.622e9 - up},#5.505e9}, # was 5.508e9,last 5.51812\n",
    "                     'P':\n",
    "                     {'nndac_coil_id':0,#0,\n",
    "                      'max_voltage':1.5,\n",
    "                      'awg_tek_coil_channel':4,\n",
    "                      'coil_device_channel':4,\n",
    "                     'P':None,    \n",
    "                     }\n",
    "                    }},\n",
    "          \n",
    "                }\n",
    "\n",
    "\n",
    " \n",
    "\n",
    "qubit_id = '1'\n",
    "#qubits = {qubit_id: qubit for qubit_id, qubit in qubits.items() if qubit_id == '2'}\n",
    "qubits = {qubit_id: qubit for qubit_id, qubit in qubits.items()}"
   ]
  },
  {
   "cell_type": "code",
   "execution_count": 6,
   "metadata": {
    "ExecuteTime": {
     "end_time": "2019-11-14T09:26:16.039889Z",
     "start_time": "2019-11-14T09:26:16.033888Z"
    }
   },
   "outputs": [],
   "source": [
    "qubit1={'up':4598,'down':4600}\n",
    "qubit2={'up':4618,'down':4617}\n",
    "qubit3={'up':4620,'down':4619}\n",
    "qubit4={'up':4622,'down':4621}\n",
    "qubit5={'up':4624,'down':4623}\n",
    "qubit6={'up':4626,'down':4625}\n",
    "\n",
    "qubit7={'up':4637,'down':4636}\n",
    "\n",
    "qubit8={'up':4630,'down':4629}\n",
    "qubit9={'up':4632,'down':4631}\n",
    "\n",
    "qubit10={'up':4639,'down':4638}\n",
    "qubit11={'up':4576,'down':4576}"
   ]
  },
  {
   "cell_type": "code",
   "execution_count": null,
   "metadata": {},
   "outputs": [],
   "source": []
  },
  {
   "cell_type": "markdown",
   "metadata": {},
   "source": [
    "# Fiting"
   ]
  },
  {
   "cell_type": "code",
   "execution_count": 212,
   "metadata": {
    "ExecuteTime": {
     "end_time": "2019-11-08T15:58:54.562560Z",
     "start_time": "2019-11-08T15:58:54.548588Z"
    }
   },
   "outputs": [],
   "source": [
    "fr  = lambda x, frb, Cc, EJ1, EJ2, EC, phi0, L: (fqb(x, EJ1, EJ2, EC, phi0, L)+frb)*0.5+(((fqb(x, EJ1, EJ2, EC, phi0, L)-frb)*0.5)**2+Cc**2*frb*fqb(x, EJ1, EJ2, EC, phi0, L))**0.5*np.sign(frb-fqb(x, EJ1, EJ2, EC, phi0, L))\n",
    "fqb = lambda x, EJ1, EJ2, EC, phi0, L: (8*EC)**0.5*((EJ1-EJ2)**2*np.sin(np.pi*x*L+phi0*np.pi)**2+(EJ1+EJ2)**2*np.cos(np.pi*x*L+phi0*np.pi)**2)**0.25\n",
    "def find_min(data,Y):\n",
    "    arg=[np.argmin(data[i]) for i in range(len(data))]\n",
    "    return Y[arg]\n",
    "def one_tone_plot(x,y,z,fit=None):\n",
    "    plt.figure()\n",
    "    step=np.abs(x[1]-x[0])/2\n",
    "    for _id in range(len(x)):\n",
    "        x_plot1 = (x[_id]-step)\n",
    "        x_plot2 = (x[_id]+step)\n",
    "        plt.pcolormesh([x_plot1, x_plot2],y,np.abs(z[_id].T).reshape(len(y),1),cmap='RdBu')\n",
    "    if fit is not None:\n",
    "        plt.plot(x,fit,'go')\n",
    "        plt.plot(x,fit,'g')\n",
    "def one_tone_fit_points(x,fit_params):\n",
    "    frb, g, EJ1, EJ2, EC, phi0,L= fit_params\n",
    "    return fr(x,frb, g, EJ1, EJ2, EC, phi0, L)"
   ]
  },
  {
   "cell_type": "code",
   "execution_count": 10,
   "metadata": {
    "ExecuteTime": {
     "end_time": "2019-11-13T10:20:31.261316Z",
     "start_time": "2019-11-13T10:20:31.250324Z"
    }
   },
   "outputs": [],
   "source": [
    "P0_podgon_onetone=[]\n",
    "P0_podgon_onetone.append([ 6.26000000e+09 , 0.8e-2,  2.04086892e+10 , 3.58060430e+09,\n",
    "  160e6 , 8.22169602e-02 ,-1.10745709e-01])\n",
    "P0_podgon_onetone.append([ 6.30878640e+09 , 0.8e-2 , 1.98308991e+10,  3.20889443e+09,\n",
    "  160e6 , 8.44831600e-02, -1.13388195e-01])\n",
    "P0_podgon_onetone.append([ 6.3623e+09 , 0.8e-2,  2.04086892e+10 , 3.58060430e+09,\n",
    "  160e6 , 8.22169602e-02 ,-1.10745709e-01])\n",
    "P0_podgon_onetone.append([ 6.41257729e+09 , 0.8e-2 , 2.01109883e+10, 3.40089803e+09,\n",
    "  160e6 , 8.64696360e-02, -1.13173875e-01])\n",
    "P0_podgon_onetone.append([ 6.45870000e+09 ,0.8e-2,  1.96576181e+10,  3.47025789e+09,\n",
    "  160e6 , 8.79028568e-02, -1.14572312e-01])\n",
    "P0_podgon_onetone.append([ 6.49840000e+09 , 0.8e-2 , 1.95580647e+10 , 3.13139052e+09,\n",
    "  160e6 , 8.51922623e-02, -1.12260792e-01])\n",
    "P0_podgon_onetone.append([ 6.55513934e+09,  0.8e-2 , 2.00797455e+10 , 3.61077597e+09,\n",
    "  160e6 , 8.12802670e-02, -1.04832111e-01])\n",
    "P0_podgon_onetone.append([ 6.59746532e+09 , 0.8e-2 , 1.98918098e+10 , 3.41137117e+09,\n",
    "  160e6 , 8.06930318e-02 ,-1.14222294e-01])\n",
    "P0_podgon_onetone.append([ 6.64813109e+09 , 0.8e-2 , 1.97393599e+10 , 3.63220203e+09,\n",
    "  160e6 , 7.75346556e-02 ,-1.11135121e-01])\n",
    "P0_podgon_onetone.append([ 6.70352279e+09 , 0.8e-2 , 1.96389134e+10 , 3.53714686e+09,\n",
    "  160e6 , 7.03222854e-02 ,-1.07667672e-01])\n",
    "P0_podgon_onetone.append([ 6.75304036e+09 ,0.8e-2 , 2.16525041e+10 , 3.18878896e+09,\n",
    "  160e6,  8.12703811e-02, -1.15567891e-01])"
   ]
  },
  {
   "cell_type": "code",
   "execution_count": 216,
   "metadata": {
    "ExecuteTime": {
     "end_time": "2019-11-08T15:59:07.150434Z",
     "start_time": "2019-11-08T15:59:02.923481Z"
    }
   },
   "outputs": [
    {
     "name": "stdout",
     "output_type": "stream",
     "text": [
      "[ 6.25901878e+09  6.94117788e-03  1.93323679e+10  2.87781901e+09\n",
      "  1.42430927e+08  7.13653581e-02 -1.00553269e-01]\n",
      "[ 6.30585360e+09  7.83190737e-03  1.72992958e+10  2.72590907e+09\n",
      "  1.37609005e+08  8.28531899e-02 -1.09405896e-01]\n",
      "[ 6.36100768e+09  9.68605722e-03  1.63374403e+10  2.86523686e+09\n",
      "  1.28147606e+08  9.16694802e-02 -1.14674117e-01]\n",
      "[ 6.41276162e+09  9.53428117e-03  1.60889663e+10  2.72084452e+09\n",
      "  1.28432071e+08  8.43230060e-02 -1.10713001e-01]\n",
      "[ 6.45768950e+09  9.06766175e-03  1.57291318e+10  2.77631718e+09\n",
      "  1.28001866e+08  8.45934648e-02 -1.17098256e-01]\n",
      "[ 6.49761276e+09  6.49733246e-03  1.61158998e+10  3.75765589e+09\n",
      "  1.46070957e+08  8.04362899e-02 -1.07726641e-01]\n",
      "[ 6.55383066e+09  9.81243638e-03  1.61874052e+10  2.88865027e+09\n",
      "  1.28000486e+08  7.74621041e-02 -1.02589453e-01]\n",
      "[ 6.60516201e+09  9.57465632e-03  1.59134790e+10  2.72916922e+09\n",
      "  1.28000528e+08  8.75169807e-02 -1.02800065e-01]\n",
      "[ 6.65693917e+09  9.07512792e-03  1.77848943e+10  2.90860190e+09\n",
      "  1.32151897e+08  7.02863515e-02 -1.06918777e-01]\n",
      "[ 6.70997341e+09  7.60010447e-03  1.77998316e+10  2.91079718e+09\n",
      "  1.51095290e+08  6.33722946e-02 -9.86364940e-02]\n",
      "[ 6.76287216e+09  6.22602022e-03  1.73220033e+10  2.55409035e+09\n",
      "  1.28000000e+08  1.05651495e-01 -1.04011102e-01]\n"
     ]
    }
   ],
   "source": [
    "from scipy.optimize import least_squares\n",
    "fitresults_vec=[]\n",
    "for i, qubit_id  in enumerate(qubits.keys()):\n",
    "    data=np.asarray(find_min(np.abs(one_tone_data_z[i]),one_tone_data_y[i]))\n",
    "    current_points=one_tone_data_x[i] \n",
    "    P0=P0_podgon_onetone[i]\n",
    "    initial_guess = {'L':P0[6],\n",
    "                     'phi0':P0[5],\n",
    "                     'frb':P0[0],\n",
    "                     'EC':P0[4],\n",
    "                     'EJ1':P0[2],\n",
    "                     'EJ2':P0[3],\n",
    "                     'Cc':P0[1]}\n",
    "    \n",
    "    def residualsQ(p):\n",
    "        frb, g, EJ1, EJ2, EC, phi0 = p[:6]\n",
    "        L = p[-1]\n",
    "        res = []\n",
    "        for coil_id in range(len(data)):\n",
    "            res.extend([(fr(x[coil_id], frb, g, EJ1, EJ2, EC, phi0, L)/1e9-(data[coil_id])/1e9)*2])\n",
    "        return res\n",
    "        \n",
    "    p0 = (initial_guess['frb'], \n",
    "          initial_guess['Cc'], \n",
    "          initial_guess['EJ1'], \n",
    "          initial_guess['EJ2'], \n",
    "          initial_guess['EC'], \n",
    "          initial_guess['phi0'],\n",
    "          initial_guess['L'])\n",
    "          \n",
    "\n",
    "    bounds = ((p0[0]-20e6,      p0[1]*0.5,\\\n",
    "               p0[2]*0.8,      p0[3]*0.8,\\\n",
    "               p0[4]*0.8, p0[5]*0.8,\\\n",
    "               p0[6]*1.2),\n",
    "              \n",
    "              (p0[0]+20e6, p0[1]*1.5,\\\n",
    "               p0[2]*1.2, p0[3]*1.2,\\\n",
    "               p0[4]*1.2,  p0[5]*1.3,\\\n",
    "               p0[6]*0.9))\n",
    "    \n",
    "    fitresults = least_squares(residualsQ, p0, x_scale=np.abs(p0), bounds=bounds)\n",
    "    \n",
    "    fitresults_vec.append(fitresults)\n",
    "    L_fit=fitresults.x[:]\n",
    "    print(L_fit)"
   ]
  },
  {
   "cell_type": "code",
   "execution_count": 217,
   "metadata": {
    "ExecuteTime": {
     "end_time": "2019-11-08T15:59:10.200140Z",
     "start_time": "2019-11-08T15:59:08.717462Z"
    }
   },
   "outputs": [],
   "source": [
    "# for all one tones\n",
    "for i in range(11):\n",
    "    one_tone_plot(one_tone_data_x[i],one_tone_data_y[i],\n",
    "                 one_tone_data_z[i],one_tone_fit_points(one_tone_data_x[i],fitresults_vec[i].x))"
   ]
  },
  {
   "cell_type": "markdown",
   "metadata": {},
   "source": [
    "### save in database"
   ]
  },
  {
   "cell_type": "code",
   "execution_count": null,
   "metadata": {},
   "outputs": [],
   "source": [
    "parameters = [\n",
    "    MeasurementParameter(name='qubit_id', setter=None, values=[i for i in range(11)]),\n",
    "]\n",
    "data = fitresults_vec\n",
    "dataset = MeasurementDataset(parameters=parameters, data=data)\n",
    "data = MeasurementState(datasets={'data_fit':dataset}, measurement_type='one_tone_fit', sample_name=sample_name)\n",
    "\n",
    "# exdir_db_inst.save_measurement(data)"
   ]
  },
  {
   "cell_type": "markdown",
   "metadata": {},
   "source": [
    "## fit qubits"
   ]
  },
  {
   "cell_type": "code",
   "execution_count": 7,
   "metadata": {
    "ExecuteTime": {
     "end_time": "2019-11-13T10:20:03.944708Z",
     "start_time": "2019-11-13T10:20:03.933713Z"
    }
   },
   "outputs": [],
   "source": [
    "P0_podgon=[]\n",
    "P0_podgon.append([ 6.26000000e+09 , 5.75648278e-11,  2.04086892e+10 , 3.58060430e+09,\n",
    "  8.61301751e+07 , 8.22169602e-02 ,-1.10745709e-01])\n",
    "P0_podgon.append([ 6.30878640e+09 , 4.31268856e-19 , 1.98308991e+10,  3.20889443e+09,\n",
    "  8.33298939e+07 , 8.44831600e-02, -1.13388195e-01])\n",
    "P0_podgon.append([ 6.3623e+09 , 5.75648278e-11,  2.04086892e+10 , 3.58060430e+09,\n",
    "  8.61301751e+07 , 8.22169602e-02 ,-1.10745709e-01])\n",
    "P0_podgon.append([ 6.41257729e+09 , 1.12724259e-19 , 2.01109883e+10, 3.40089803e+09,\n",
    "  8.28268101e+07 , 8.64696360e-02, -1.13173875e-01])\n",
    "P0_podgon.append([ 6.45870000e+09 , 1.62189135e-22,  1.96576181e+10,  3.47025789e+09,\n",
    "  8.29187611e+07 , 8.79028568e-02, -1.14572312e-01])\n",
    "P0_podgon.append([ 6.49840000e+09 , 5.39803282e-30 , 1.95580647e+10 , 3.13139052e+09,\n",
    "  8.21458156e+07 , 8.51922623e-02, -1.12260792e-01])\n",
    "P0_podgon.append([ 6.55513934e+09,  5.86567097e-19 , 2.00797455e+10 , 3.61077597e+09,\n",
    "  8.66113673e+07 , 8.12802670e-02, -1.04832111e-01])\n",
    "P0_podgon.append([ 6.59746532e+09 , 1.10388734e-27 , 1.98918098e+10 , 3.41137117e+09,\n",
    "  8.38459605e+07 , 8.06930318e-02 ,-1.14222294e-01])\n",
    "P0_podgon.append([ 6.64813109e+09 , 9.72855216e-31 , 1.97393599e+10 , 3.63220203e+09,\n",
    "  8.70332630e+07 , 7.75346556e-02 ,-1.11135121e-01])\n",
    "P0_podgon.append([ 6.70352279e+09 , 1.17222256e-30 , 1.96389134e+10 , 3.53714686e+09,\n",
    "  8.34268160e+07 , 7.03222854e-02 ,-1.07667672e-01])\n",
    "P0_podgon.append([ 6.75304036e+09 , 2.72787378e-30 , 2.16525041e+10 , 3.18878896e+09,\n",
    "  7.93986404e+07,  8.12703811e-02, -1.15567891e-01])"
   ]
  },
  {
   "cell_type": "code",
   "execution_count": 7,
   "metadata": {
    "ExecuteTime": {
     "end_time": "2019-11-12T07:29:25.581281Z",
     "start_time": "2019-11-12T07:29:25.551302Z"
    }
   },
   "outputs": [],
   "source": [
    "def two_tone_adaptive_plot(x,y,z,fit_params,fit=None):\n",
    "#     plt.figure()\n",
    "    fr_diag=fq_coil(fit_params,x)\n",
    "    step=np.abs(x[1]-x[0])/2\n",
    "    for _id in range(len(x)):\n",
    "        x_plot1 = (x[_id]-step)\n",
    "        x_plot2 = (x[_id]+step)\n",
    "        plt.pcolormesh([x_plot1, x_plot2], y/1e3+fr_diag[_id],z[_id].reshape(len(y),1))\n",
    "    if fit is not None:\n",
    "        plt.plot(x,fit,'go')\n",
    "#         plt.plot(x,fit,'g')\n",
    "def data_abs(meas):\n",
    "    for i in range(len(meas)):\n",
    "        meas[i]=meas[i]-np.median(np.real(meas[i]))-1j*np.median(np.imag(meas[i]))\n",
    "    return meas\n",
    "def two_tone1_fit_points(x,fit_params):\n",
    "    frb, Cc, EJ1, EJ2, EC, phi0,fqL, CcL, L= fit_params\n",
    "    return fq_q1(x,frb, Cc, EJ1, EJ2, EC, phi0,fqL, CcL,L)\n",
    "def two_tone2_fit_points(x,fit_params):\n",
    "    frb, Cc, EJ1, EJ2, EC, phi0,fqL, CcL, fqR, CcR, L= fit_params\n",
    "    return fq_q2(x,frb, Cc, EJ1, EJ2, EC, phi0,fqL, CcL, fqR, CcR, L)\n",
    "def fq_coil(p,x):\n",
    "    frb, Cc, EJ1, EJ2, EC, phi0 = p[:6]\n",
    "    L = p[-1]\n",
    "    return fq_r(x, frb, Cc, EJ1, EJ2, EC, phi0, L)/1e9\n",
    "def find_freqs_abs(data,Y):\n",
    "    arg=[np.argmax((np.abs(data.T)-np.mean(np.abs(data.T)))[:,i]) for i in range(len(data))]\n",
    "    return Y[arg]\n",
    "def find_freqs_min(data,Y):\n",
    "    arg=[np.argmin(data[i]) for i in range(len(data))]\n",
    "#     print(arg)\n",
    "    return Y[arg]\n",
    "def fq_coil_qubit1(p,x):\n",
    "    frb, Cc, EJ1, EJ2, EC, phi0 ,fqL, CcL= p[:8]\n",
    "    L = p[-1]\n",
    "    return fq_q1(x, frb, Cc, EJ1, EJ2, EC, phi0, fqL, CcL,L)/1e9\n",
    "def fq_coil_qubit2(p,x):\n",
    "    frb, Cc, EJ1, EJ2, EC, phi0 ,fqL, CcL,fqR, CcR,= p[:10]\n",
    "    L = p[-1]\n",
    "    return fq_q2(x, frb, Cc, EJ1, EJ2, EC, phi0, fqL, CcL,fqR, CcR,L)/1e9\n",
    "fq_q2  = lambda x, frb, Cc, EJ1, EJ2, EC, phi0,fqL, CcL, fqR, CcR, L: (fq_q1(x, frb, Cc,EJ1, EJ2, EC, phi0,fqL, CcL, L)+fqR)*0.5-(((fq_q1(x, frb, Cc, EJ1, EJ2, EC, phi0, fqL, CcL, L)-fqR)*0.5)**2+CcR**2*fq_q1(x, frb,Cc, EJ1, EJ2, EC, phi0, fqL, CcL, L)*fqR)**0.5*np.sign(fqR-fq_q1(x, frb, Cc,EJ1, EJ2, EC, phi0, fqL, CcL, L))\n",
    "fq_q1  = lambda x, frb, Cc, EJ1, EJ2, EC, phi0,fqL, CcL, L: (fq_r(x, frb, Cc,EJ1, EJ2, EC, phi0, L)+fqL)*0.5-(((fq_r(x, frb, Cc, EJ1, EJ2, EC, phi0, L)-fqL)*0.5)**2+CcL**2*fq_r(x, frb,Cc, EJ1, EJ2, EC, phi0, L)*fqL)**0.5*np.sign(fqL-fq_r(x, frb, Cc,EJ1, EJ2, EC, phi0, L))\n",
    "fq_r  = lambda x, frb, Cc, EJ1, EJ2, EC, phi0,L: (fqb(x, EJ1, EJ2, EC, phi0, L)+frb)*0.5-(((fqb(x, EJ1, EJ2, EC, phi0, L)-frb)*0.5)**2+Cc**2*fqb(x, EJ1, EJ2, EC, phi0, L)*frb)**0.5*np.sign(frb-fqb(x, EJ1, EJ2, EC, phi0, L))\n",
    "fqb = lambda x, EJ1, EJ2, EC, phi0, L: (8*EC)**0.5*((EJ1-EJ2)**2*np.sin(np.pi*x*L+phi0*np.pi)**2+(EJ1+EJ2)**2*np.cos(np.pi*x*L+phi0*np.pi)**2)**0.25\n"
   ]
  },
  {
   "cell_type": "markdown",
   "metadata": {},
   "source": [
    "# Fit anticrossing main resonator 14 qubit"
   ]
  },
  {
   "cell_type": "code",
   "execution_count": null,
   "metadata": {},
   "outputs": [],
   "source": [
    "\n",
    "def data_abs(meas):\n",
    "    for i in range(len(meas)):\n",
    "        meas[i]=meas[i]-np.median(np.real(meas[i]))-1j*np.median(np.imag(meas[i]))\n",
    "    return meas\n",
    "def two_tone1_fit_points(x,fit_params):\n",
    "    frb, Cc, EJ1, EJ2, EC, phi0,fqL, CcL, L= fit_params\n",
    "    return fq_q1(x,frb, Cc, EJ1, EJ2, EC, phi0,fqL, CcL,L)\n",
    "def two_tone2_fit_points(x,fit_params):\n",
    "    frb, Cc, EJ1, EJ2, EC, phi0,fqL, CcL, fqR, CcR, L= fit_params\n",
    "    return fq_q2(x,frb, Cc, EJ1, EJ2, EC, phi0,fqL, CcL, fqR, CcR, L)\n",
    "def fq_coil(p,x):\n",
    "    frb, Cc, EJ1, EJ2, EC, phi0 = p[:6]\n",
    "    L = p[-1]\n",
    "    return fq_r(x, frb, Cc, EJ1, EJ2, EC, phi0, L)/1e9\n",
    "def find_freqs_abs(data,Y):\n",
    "    arg=[np.argmax((np.abs(data.T)-np.mean(np.abs(data.T)))[:,i]) for i in range(len(data))]\n",
    "    return Y[arg]\n",
    "def find_freqs_min(data,Y):\n",
    "    arg=[np.argmin(data[i]) for i in range(len(data))]\n",
    "#     print(arg)\n",
    "    return Y[arg]\n",
    "def fq_coil_qubit1(p,x):\n",
    "    frb, Cc, EJ1, EJ2, EC, phi0 ,fqL, CcL= p[:8]\n",
    "    L = p[-1]\n",
    "    return fq_q1(x, frb, Cc, EJ1, EJ2, EC, phi0, fqL, CcL,L)/1e9\n",
    "def fq_coil_qubit2(p,x):\n",
    "    frb, Cc, EJ1, EJ2, EC, phi0 ,fqL, CcL,fqR, CcR,= p[:10]\n",
    "    L = p[-1]\n",
    "    return fq_q2(x, frb, Cc, EJ1, EJ2, EC, phi0, fqL, CcL,fqR, CcR,L)/1e9\n",
    "fq_q2  = lambda x, frb, Cc, EJ1, EJ2, EC, phi0,fqL, CcL, fqR, CcR, L: (fq_q1(x, frb, Cc,EJ1, EJ2, EC, phi0,fqL, CcL, L)+fqR)*0.5-(((fq_q1(x, frb, Cc, EJ1, EJ2, EC, phi0, fqL, CcL, L)-fqR)*0.5)**2+CcR**2*fq_q1(x, frb,Cc, EJ1, EJ2, EC, phi0, fqL, CcL, L)*fqR)**0.5*np.sign(fqR-fq_q1(x, frb, Cc,EJ1, EJ2, EC, phi0, fqL, CcL, L))\n",
    "fq_q1  = lambda x, frb, Cc, EJ1, EJ2, EC, phi0,fqL, CcL, L: (fq_r(x, frb, Cc,EJ1, EJ2, EC, phi0, L)+fqL)*0.5-(((fq_r(x, frb, Cc, EJ1, EJ2, EC, phi0, L)-fqL)*0.5)**2+CcL**2*fq_r(x, frb,Cc, EJ1, EJ2, EC, phi0, L)*fqL)**0.5*np.sign(fqL-fq_r(x, frb, Cc,EJ1, EJ2, EC, phi0, L))\n",
    "fq_r  = lambda x, frb, Cc, EJ1, EJ2, EC, phi0,L: (fqb(x, EJ1, EJ2, EC, phi0, L)+frb)*0.5-(((fqb(x, EJ1, EJ2, EC, phi0, L)-frb)*0.5)**2+Cc**2*fqb(x, EJ1, EJ2, EC, phi0, L)*frb)**0.5*np.sign(frb-fqb(x, EJ1, EJ2, EC, phi0, L))\n",
    "fqb = lambda x, EJ1, EJ2, EC, phi0, L: (8*EC)**0.5*((EJ1-EJ2)**2*np.sin(np.pi*x*L+phi0*np.pi)**2+(EJ1+EJ2)**2*np.cos(np.pi*x*L+phi0*np.pi)**2)**0.25\n"
   ]
  },
  {
   "cell_type": "code",
   "execution_count": null,
   "metadata": {},
   "outputs": [],
   "source": [
    "flux=lambda xVec,LVec,phi0: np.pi*np.sum(xVec*LVec)+np.pi*phi0\n",
    "\n",
    "Fq_q2  = lambda xVec, frb, Cc, EJ1, EJ2, EC, phi0,fqL, CcL, fqR, CcR, LVec: (Fq_q1(x, frb, Cc,EJ1, EJ2, EC, phi0,fqL, CcL, L)+fqR)*0.5-(((Fq_q1(x, frb, Cc, EJ1, EJ2, EC, phi0, fqL, CcL, L)-fqR)*0.5)**2+CcR**2*Fq_q1(x, frb,Cc, EJ1, EJ2, EC, phi0, fqL, CcL, L)*fqR)**0.5*np.sign(fqR-Fq_q1(x, frb, Cc,EJ1, EJ2, EC, phi0, fqL, CcL, L))\n",
    "Fq_q1  = lambda xVec, frb, Cc, EJ1, EJ2, EC, phi0,fqL, CcL, LVec: (fq_r(x, frb, Cc,EJ1, EJ2, EC, phi0, L)+fqL)*0.5-(((fq_r(x, frb, Cc, EJ1, EJ2, EC, phi0, L)-fqL)*0.5)**2+CcL**2*fq_r(x, frb,Cc, EJ1, EJ2, EC, phi0, L)*fqL)**0.5*np.sign(fqL-Fq_r(x, frb, Cc,EJ1, EJ2, EC, phi0, L))\n",
    "Fq_r  = lambda xVec, frb, Cc, EJ1, EJ2, EC, phi0,LVec: (fqb(x, EJ1, EJ2, EC, phi0, L)+frb)*0.5-(((fqb(x, EJ1, EJ2, EC, phi0, L)-frb)*0.5)**2+Cc**2*fqb(x, EJ1, EJ2, EC, phi0, L)*frb)**0.5*np.sign(frb-fqb(x, EJ1, EJ2, EC, phi0, L))\n",
    "Fqb = lambda xVec, EJ1, EJ2, EC, phi0, LVec: (8*EC)**0.5*((EJ1-EJ2)**2*np.sin(flux(xVec,LVec,phi0))**2+(EJ1+EJ2)**2*np.cos(flux(xVec,LVec,phi0))**2)**0.25 - EC\n"
   ]
  },
  {
   "cell_type": "code",
   "execution_count": 7,
   "metadata": {
    "ExecuteTime": {
     "end_time": "2019-11-14T09:26:22.723772Z",
     "start_time": "2019-11-14T09:26:22.712777Z"
    }
   },
   "outputs": [],
   "source": [
    "P0_podgon_onetone=[]\n",
    "P0_podgon_onetone.append([ 6.26000000e+09 , 0.8e-2,  2.04086892e+10 , 3.58060430e+09,\n",
    "  160e6 , 8.22169602e-02 ,-1.10745709e-01])\n",
    "P0_podgon_onetone.append([ 6.30878640e+09 , 0.8e-2 , 1.98308991e+10,  3.20889443e+09,\n",
    "  160e6 , 8.44831600e-02, -1.13388195e-01])\n",
    "P0_podgon_onetone.append([ 6.3623e+09 , 0.8e-2,  2.04086892e+10 , 3.58060430e+09,\n",
    "  160e6 , 8.22169602e-02 ,-1.10745709e-01])\n",
    "P0_podgon_onetone.append([ 6.41257729e+09 , 0.8e-2 , 2.01109883e+10, 3.40089803e+09,\n",
    "  160e6 , 8.64696360e-02, -1.13173875e-01])\n",
    "P0_podgon_onetone.append([ 6.45870000e+09 ,0.8e-2,  1.96576181e+10,  3.47025789e+09,\n",
    "  160e6 , 8.79028568e-02, -1.14572312e-01])\n",
    "P0_podgon_onetone.append([ 6.49840000e+09 , 0.8e-2 , 1.95580647e+10 , 3.13139052e+09,\n",
    "  160e6 , 8.51922623e-02, -1.12260792e-01])\n",
    "P0_podgon_onetone.append([ 6.55513934e+09,  0.8e-2 , 2.00797455e+10 , 3.61077597e+09,\n",
    "  160e6 , 8.12802670e-02, -1.04832111e-01])\n",
    "P0_podgon_onetone.append([ 6.59746532e+09 , 0.8e-2 , 1.98918098e+10 , 3.41137117e+09,\n",
    "  160e6 , 8.06930318e-02 ,-1.14222294e-01])\n",
    "P0_podgon_onetone.append([ 6.64813109e+09 , 0.8e-2 , 1.97393599e+10 , 3.63220203e+09,\n",
    "  160e6 , 7.75346556e-02 ,-1.11135121e-01])\n",
    "P0_podgon_onetone.append([ 6.70352279e+09 , 0.8e-2 , 1.96389134e+10 , 3.53714686e+09,\n",
    "  160e6 , 7.03222854e-02 ,-1.07667672e-01])\n",
    "P0_podgon_onetone.append([ 6.75304036e+09 ,0.8e-2 , 2.16525041e+10 , 3.18878896e+09,\n",
    "  160e6,  8.12703811e-02, -1.15567891e-01])"
   ]
  },
  {
   "cell_type": "code",
   "execution_count": 8,
   "metadata": {
    "ExecuteTime": {
     "end_time": "2019-11-14T09:26:23.041575Z",
     "start_time": "2019-11-14T09:26:23.030583Z"
    }
   },
   "outputs": [],
   "source": [
    "P0_podgon=[]\n",
    "P0_podgon.append([ 6.26000000e+09 , 5.75648278e-11,  2.04086892e+10 , 3.58060430e+09,\n",
    "  8.61301751e+07 , 8.22169602e-02 ,-1.10745709e-01])\n",
    "P0_podgon.append([ 6.30878640e+09 , 4.31268856e-19 , 1.98308991e+10,  3.20889443e+09,\n",
    "  8.33298939e+07 , 8.44831600e-02, -1.13388195e-01])\n",
    "P0_podgon.append([ 6.3623e+09 , 5.75648278e-11,  2.04086892e+10 , 3.58060430e+09,\n",
    "  8.61301751e+07 , 8.22169602e-02 ,-1.10745709e-01])\n",
    "P0_podgon.append([ 6.41257729e+09 , 1.12724259e-19 , 2.01109883e+10, 3.40089803e+09,\n",
    "  8.28268101e+07 , 8.64696360e-02, -1.13173875e-01])\n",
    "P0_podgon.append([ 6.45870000e+09 , 1.62189135e-22,  1.96576181e+10,  3.47025789e+09,\n",
    "  8.29187611e+07 , 8.79028568e-02, -1.14572312e-01])\n",
    "P0_podgon.append([ 6.49840000e+09 , 5.39803282e-30 , 1.95580647e+10 , 3.13139052e+09,\n",
    "  8.21458156e+07 , 8.51922623e-02, -1.12260792e-01])\n",
    "P0_podgon.append([ 6.55513934e+09,  5.86567097e-19 , 2.00797455e+10 , 3.61077597e+09,\n",
    "  8.66113673e+07 , 8.12802670e-02, -1.04832111e-01])\n",
    "P0_podgon.append([ 6.59746532e+09 , 1.10388734e-27 , 1.98918098e+10 , 3.41137117e+09,\n",
    "  8.38459605e+07 , 8.06930318e-02 ,-1.14222294e-01])\n",
    "P0_podgon.append([ 6.64813109e+09 , 9.72855216e-31 , 1.97393599e+10 , 3.63220203e+09,\n",
    "  8.70332630e+07 , 7.75346556e-02 ,-1.11135121e-01])\n",
    "P0_podgon.append([ 6.70352279e+09 , 1.17222256e-30 , 1.96389134e+10 , 3.53714686e+09,\n",
    "  8.34268160e+07 , 7.03222854e-02 ,-1.07667672e-01])\n",
    "P0_podgon.append([ 6.75304036e+09 , 2.72787378e-30 , 2.16525041e+10 , 3.18878896e+09,\n",
    "  7.93986404e+07,  8.12703811e-02, -1.15567891e-01])"
   ]
  },
  {
   "cell_type": "code",
   "execution_count": 1012,
   "metadata": {
    "ExecuteTime": {
     "end_time": "2019-11-18T10:14:37.198955Z",
     "start_time": "2019-11-18T10:14:37.101016Z"
    }
   },
   "outputs": [],
   "source": [
    "P0_podgon_twotone=[]\n",
    "P0_podgon_twotone.append([ 6.2580e+09 , 0.8e-2, 1.126172185e+10 , 1.968976245e+09,\n",
    " 15.6e7  ,7.96063944e-02 , 3.73827488e+09 , 1.4e-02,\n",
    " -1.11824314e-01])\n",
    "P0_podgon_twotone.append([ 6.30402755e+09, 1.00433465e-01,  1.10791479e+10,  1.81756150e+09,\n",
    "  1.56453522e8 , 8.68666687e-02,  3.49202273e+09,  1.33511318e-02,\n",
    "  3.81e+09,  3.67075470e-03 ,-1.12179379e-01])\n",
    "\n",
    "P0_podgon_twotone.append([ 6.36225166e+09,  8.01428025e-03,  11.1737426e+9  ,1.97694132e+09,\n",
    "  1.54664926e8,  8.27517576e-02 , 3.745e+09,  1.55816528e-02,\n",
    "  3.39515926e+09,  5.5e-03, -1.12493371e-01])\n",
    "\n",
    "P0_podgon_twotone.append([ 6.40841572e+09,  8.22852090e-03 , 10.9700248e+9,  1.81105101e+09,\n",
    "  1.52069379e8,  8.44714542e-02,  3.69504818e+09,  4.23426909e-03,\n",
    "  3.43573031e+09,  1.43409101e-02, -1.13008285e-01])\n",
    "\n",
    "P0_podgon_twotone.append([ 6.45635702e+09,  8.18269462e-03 , 1.06976578e+10,  1.87684245e+09,\n",
    "  1.52115447e8, 8.60741805e-02,  3.69186235e+09,  1.37770096e-02,\n",
    "  3.37736765e9, 4.21426273e-03, -1.11034501e-01])\n",
    "P0_podgon_twotone.append([ 6.51131535e+09 , 7.13322583e-03 , 1.06039210e+10,  1.72205231e+09,\n",
    "  1.50883075e8,  9.18759921e-02 , 3.4027e+09,  0.0137656319,\n",
    "  3.830400000e+09,  2.10714367e-03, -0.10783])\n",
    "P0_podgon_twotone.append([ 6.55548153e+09 , 7.97470585e-03 , 10.819975200e9 , 1.916046630e+09,\n",
    "  1.60569224e8,  7.58569734e-02 , 3.74186235e+09 , 1.41637373e-02,\n",
    "  3.26594545e+09,  4.19698619e-03 ,-0.10364])\n",
    "P0_podgon_twotone.append([ 6.59770969e+09,  7.98155806e-03,  10.6525791e+9,  1.90081752e+09,\n",
    "  1.56086696e8 , 8.15266705e-02 , 3.472328770e+09,  1.27624657e-02,\n",
    "  3.83477214e+09 , 2.20179632e-03, -1.1033062e-01])\n",
    "\n",
    "#bad, for that plot imag instead of abs\n",
    "P0_podgon_twotone.append([ 6.64811198e+09 , 8.25895819e-03 , 1.07552449e+10,  1.97619114e+09,\n",
    "  1.59670032e+08 , 7.57868298e-02 , 3.71588208e+09 , 1.31150042e-02,\n",
    "  3.37385562e+09 , 2.86013948e-03 ,-1.10384262e-01])\n",
    "\n",
    "\n",
    "P0_podgon_twotone.append([ 6.70352279e+09 , 0.8e-2 , 10909921000.00,  1955052310.00,\n",
    "  150e6 , 7.03222854e-02 ,3.442328770e+09,   1.37624657e-02,\n",
    "  3.809e+09 , 4.20179632e-03,\n",
    "                          -1.07667672e-01])\n",
    "P0_podgon_twotone.append([ 6.75304036e+09 ,0.8e-2 ,1.06039210e+10 , 1.72205231e+09,\n",
    "  150e6,  8.12703811e-02, 3.685e+09,  4.20179632e-03 ,\n",
    "                          -1.15567891e-01])"
   ]
  },
  {
   "cell_type": "code",
   "execution_count": null,
   "metadata": {},
   "outputs": [],
   "source": []
  },
  {
   "cell_type": "code",
   "execution_count": 1085,
   "metadata": {
    "ExecuteTime": {
     "end_time": "2019-11-18T10:41:30.790707Z",
     "start_time": "2019-11-18T10:41:30.769719Z"
    }
   },
   "outputs": [],
   "source": [
    "\n",
    "def Flux_qubit(x, coil_id, phi0, LVec, Vvec):\n",
    "    Vvec[coil_id]=0\n",
    "    L=LVec[coil_id]\n",
    "    Phi=np.pi*phi0 +np.pi*np.sum(LVec*Vvec)+np.pi*L*x\n",
    "    return Phi\n",
    "\n",
    "def Two_osc(f1, f2, C):\n",
    "    Frequency1=(f1+f2)*0.5-(((f1-f2)*0.5)**2+C**2*f1*f2)**0.5*np.sign(f2-f1)\n",
    "    Frequency2=(f1+f2)*0.5+(((f1-f2)*0.5)**2+C**2*f1*f2)**0.5*np.sign(f2-f1)\n",
    "    return Frequency1,Frequency2\n",
    "   \n",
    "def Qubit_F(x, coil_id, EJ1, EJ2, EC, phi0, L=False, LVec=np.zeros((11,)), V0vec=np.zeros((11,))):\n",
    "    if L==False:\n",
    "        L=LVec[coil_id]    \n",
    "    phi=Flux_qubit(x,coil_id, phi0, LVec, Vvec=V0vec)\n",
    "    Frequency=(8*EC)**0.5*((EJ1-EJ2)**2*np.sin(phi)**2+(EJ1+EJ2)**2*np.cos(phi)**2)**0.25 - EC\n",
    "    return Frequency\n",
    "\n",
    "def Qubit_res(x, coil_id, fr, Cc, EJ1, EJ2, EC, phi0, L=False, LVec=np.zeros((11,)), V0vec=np.zeros((11,))):\n",
    "    fqb=Qubit_F(x, coil_id, EJ1, EJ2, EC, phi0, L, LVec, V0vec)\n",
    "    frb=fr\n",
    "    Cr=Cc\n",
    "    Fq=Two_osc(f1=fqb, f2=frb, C=Cr)[0]\n",
    "    Fr=Two_osc(f1=fqb, f2=frb, C=Cr)[1]\n",
    "    return Fq,Fr\n",
    "\n",
    "    \n",
    "def Q_r_q(x, qubit_id, coil_id, pQ1, CqR=0, pQr=False, CqL=0, pQl=False, \n",
    "          V0vec=np.zeros((11,)),Lmat=np.zeros((11,11))):\n",
    "    \n",
    "    fqb,frb=Qubit_res(x, coil_id, *(pQ1[:]), LVec=Lmat[qubit_id,:], V0vec=V0vec)\n",
    "    fq1=fqb\n",
    "    if pQr!=False and CqR>1e-5:\n",
    "        fqbR, frbR=Qubit_res(x, coil_id, *(pQr[:]), LVec=Lmat[qubit_id+1,:], V0vec=V0vec)\n",
    "        if fq1[0]<fqbR[0]:\n",
    "            fq1, FqR,=Two_osc(f1=fq1, f2=fqbR, C=CqR)\n",
    "        if fq1[0]>fqbR[0]:\n",
    "            fq1, FqR,=Two_osc(f1=fq1, f2=fqbR, C=CqR)\n",
    "            \n",
    "    if pQl!=False and CqL>1e-5:\n",
    "        fqbL,frbL=Qubit_res(x, coil_id, *(pQl[:]), LVec=Lmat[qubit_id-1,:], V0vec=V0vec)\n",
    "        if fq1[0]<fqbL[0]:\n",
    "            fq1,FqL=Two_osc(f1=fq1, f2=fqbL, C=CqL)\n",
    "        if fq1[0]>fqbL[0]:\n",
    "            fq1, FqL, =Two_osc(f1=fq1, f2=fqbL, C=CqL)\n",
    "    return fq1, frb, fqb\n",
    "    \n",
    "    "
   ]
  },
  {
   "cell_type": "code",
   "execution_count": 1123,
   "metadata": {
    "ExecuteTime": {
     "end_time": "2019-11-18T10:54:44.012437Z",
     "start_time": "2019-11-18T10:54:43.772585Z"
    }
   },
   "outputs": [
    {
     "data": {
      "image/png": "[encoded data removed]",
      "text/plain": [
       "<Figure size 648x432 with 1 Axes>"
      ]
     },
     "metadata": {
      "needs_background": "light"
     },
     "output_type": "display_data"
    }
   ],
   "source": [
    "L_mat = np.asarray([[-1.3e-01, 0.001, 0, 0, 0, 0, 0, 0, 0, 0, 0],\n",
    "                    [0.01, -1.11824314e-01, 0.01, 0, 0, 0, 0, 0, 0, 0, 0],\n",
    "                    [0, 0.01, -1.11824314e-01, 0.01, 0, 0, 0, 0, 0, 0, 0],\n",
    "                    [0, 0, 0.01, -1.11824314e-01, 0.01, 0, 0, 0, 0, 0, 0],\n",
    "                    [0, 0, 0, 0.01, -1.11824314e-01, 0.01, 0, 0, 0, 0, 0],\n",
    "                    [0, 0, 0, 0, 0.01, -1.11824314e-01, 0.1, 0, 0, 0, 0],\n",
    "                    [0, 0, 0, 0, 0, 0.01, -1.11824314e-01, 0.01, 0, 0, 0],\n",
    "                    [0, 0, 0, 0, 0, 0, 0.01, -1.11824314e-01, 0.01, 0, 0],\n",
    "                    [0, 0, 0, 0, 0, 0, 0, 0.01, -1.11824314e-01, 0.01, 0],\n",
    "                    [0, 0, 0, 0, 0, 0, 0, 0, 0.01, -1.11824314e-01, 0.01],\n",
    "                    [0, 0, 0, 0, 0, 0, 0, 0, 0, 0.01, -1.11824314e-01]])\n",
    "Podgon_data=[]\n",
    "Podgon_data.append([ 6.2580e+09, 0.8e-2, 1.126172185e+10 , 1.968976245e+09,\n",
    " 15.6e7  ,7.96063944e-02 , -1.11824314e-01,  ])\n",
    "Podgon_data.append([ 6.30402755e+09, 1.00433465e-01,1.10791479e+10,  1.81756150e+09,\n",
    "  1.56453522e8 , 8.68666687e-02,  -1.12179379e-01,  ])\n",
    "\n",
    "Podgon_data.append([6.36225166e+09, 8.01428025e-03,  11.1737426e+9  ,1.97694132e+09,\n",
    "  1.54664926e8,   5.5e-03, -1.12493371e-01,  ])\n",
    "\n",
    "P0=Podgon_data[0]\n",
    "P1=Podgon_data[1]\n",
    "P2=Podgon_data[2]\n",
    "V0vec=np.asarray([0,-2, 0, 0, 0, 0, 0, 0, 0, 0, 0])\n",
    "x1=np.linspace(-4,4,101)\n",
    "q0=0\n",
    "q1=1\n",
    "coil_id=0\n",
    "Fq0,Fr0=Qubit_res(x1, coil_id, *P0[:], LVec=L_mat[q1], V0vec=V0vec,)\n",
    "Fq1,Fr1=Qubit_res(x1, coil_id, *P1[:], LVec=L_mat[q0], V0vec=V0vec,)\n",
    "plt.figure(figsize=(9,6))\n",
    "plt.plot(x1,Fq0,'go')\n",
    "plt.plot(x1,Fr0,'g')\n",
    "plt.plot(x1,Fq1,'ro')\n",
    "plt.plot(x1,Fr1,'r')\n",
    "#print(Fq)\n",
    "\n",
    "fq, FqR, fqb=Q_r_q(x=x1, qubit_id=1, coil_id=coil_id, pQ1=P0, CqL=0.02, pQl=P1, V0vec=V0vec, Lmat=L_mat)\n",
    "plt.plot(x1,fq,'k')\n",
    "plt.plot(x1,FqR,'rx')\n",
    "plt.plot(x1,fqb,'m')\n",
    "plt.show()"
   ]
  },
  {
   "cell_type": "code",
   "execution_count": 1014,
   "metadata": {
    "ExecuteTime": {
     "end_time": "2019-11-18T10:14:58.150059Z",
     "start_time": "2019-11-18T10:14:45.362930Z"
    }
   },
   "outputs": [
    {
     "name": "stdout",
     "output_type": "stream",
     "text": [
      "1\n",
      "-1.018773074216412\n",
      "-1.5150297137020452\n",
      "2\n",
      "-1.4597360862830562\n",
      "-2.8694839977953457 -2.8694839977953457\n",
      "-1.4597360862830562\n",
      "3\n",
      "-1.5150297137020452\n",
      "-2.782625122482989 -2.782625122482989\n",
      "-1.5150297137020452\n",
      "4\n",
      "-1.4449479970532069\n",
      "-2.8694839977953457 -2.8694839977953457\n",
      "-1.4449479970532069\n",
      "5\n",
      "-1.4148020614264991\n",
      "-2.7703422189970963 -2.7703422189970963\n",
      "-1.4148020614264991\n",
      "6\n",
      "-1.4680792355357695\n",
      "-2.724018899086195 -2.724018899086195\n",
      "-1.4680792355357695\n",
      "7\n",
      "-1.609427983378108\n",
      "-2.8042536676562912 -2.8042536676562912\n",
      "-1.609427983378108\n",
      "8\n",
      "-1.4822585177636165\n",
      "-3.0402872741921603 -3.0402872741921603\n",
      "-1.4822585177636165\n",
      "9\n",
      "-1.551852761288666\n",
      "-2.795487264508976 -2.795487264508976\n",
      "-1.551852761288666\n",
      "10\n",
      "-1.668817680018195\n",
      "-2.9015611041625626 -2.9015611041625626\n",
      "-1.668817680018195\n",
      "11\n",
      "-1.5\n",
      "-3.0619935257818147\n"
     ]
    }
   ],
   "source": [
    "all_qubits=['1','2','3','4','5','6','7','8','9','10','11']\n",
    "\n",
    "VoltMatrix0=[]\n",
    "F_data_mat=[]\n",
    "V_data_mat=[]\n",
    "for _id,qubit_id in enumerate(all_qubits):\n",
    "    \n",
    "    if qubit_id in ['1']:#,'3','5','7']:\n",
    "        VoltRaw0=[]\n",
    "        V_data_raw=[]\n",
    "        F_data_raw=[]\n",
    "        print(qubit_id)\n",
    "        V0=np.zeros((len(all_qubits),))\n",
    "        xd,yd,md=get_Adaptive_two_tone_spectroscopy(exdir_db_inst,all_qubits[_id])\n",
    "        V0[_id]=0.0\n",
    "        V0[_id+1]=float(md['voltR'])\n",
    "        print(md['voltR'])\n",
    "        VoltRaw0.append(V0)\n",
    "        F_data_raw.append(yd)\n",
    "        V_data_raw.append(xd)\n",
    "        \n",
    "        \n",
    "        V0=np.zeros((len(all_qubits),))\n",
    "        xn,yn,mn = get_Nondiag_two_tone_spectroscopy(exdir_db_inst, all_qubits[_id], all_qubits[_id+1])\n",
    "        V0[_id+1]=float(mn['volt_coil'])\n",
    "        VoltRaw0.append(V0)\n",
    "        print(float(mn['volt_coil']))\n",
    "        F_data_raw.append(yn/1e9)\n",
    "        V_data_raw.append(xn)\n",
    "       \n",
    "        \n",
    "    elif qubit_id in ['11']: #['2','4','6','10','11']:\n",
    "        VoltRaw0=[]\n",
    "        V_data_raw=[]\n",
    "        F_data_raw=[]\n",
    "        print(qubit_id)\n",
    "        V0=np.zeros((len(all_qubits),))\n",
    "        xn,yn,mn = get_Nondiag_two_tone_spectroscopy(exdir_db_inst, all_qubits[_id], all_qubits[_id-1])\n",
    "        V0[_id]=float(mn['volt_coil'])\n",
    "        print(float(mn['volt_coil']))\n",
    "        VoltRaw0.append(V0)\n",
    "        F_data_raw.append(yn/1e9)\n",
    "        V_data_raw.append(xn)\n",
    "        \n",
    "        \n",
    "        V0=np.zeros((len(all_qubits),))\n",
    "        xd,yd,md=get_Adaptive_two_tone_spectroscopy(exdir_db_inst,all_qubits[_id])\n",
    "        V0[_id-1]=float(md['voltL'])\n",
    "        print(float(md['voltL']))\n",
    "        VoltRaw0.append(V0)\n",
    "        F_data_raw.append(yd)\n",
    "        V_data_raw.append(xd)\n",
    "        \n",
    "    else:\n",
    "        VoltRaw0=[]\n",
    "        V_data_raw=[]\n",
    "        F_data_raw=[]\n",
    "        print(qubit_id)\n",
    "        V0=np.zeros((len(all_qubits),))\n",
    "        xn,yn,mn = get_Nondiag_two_tone_spectroscopy(exdir_db_inst, all_qubits[_id], all_qubits[_id-1])\n",
    "        V0[_id]=float(mn['volt_coil'])\n",
    "        VoltRaw0.append(V0)\n",
    "        F_data_raw.append(yn/1e9)\n",
    "        V_data_raw.append(xn)\n",
    "        print(float(mn['volt_coil']))\n",
    "        \n",
    "        \n",
    "        V0=np.zeros((len(all_qubits),))\n",
    "        xd,yd,md=get_Adaptive_two_tone_spectroscopy(exdir_db_inst,all_qubits[_id])\n",
    "        V0[_id-1]=float(md['voltL'])\n",
    "        V0[_id+1]=float(md['voltR'])\n",
    "        print(float(md['voltL']),float(md['voltL']))\n",
    "        VoltRaw0.append(V0)\n",
    "        F_data_raw.append(yd)\n",
    "        V_data_raw.append(xd)\n",
    "        \n",
    "        V0=np.zeros((len(all_qubits),))\n",
    "        xn,yn,mn = get_Nondiag_two_tone_spectroscopy(exdir_db_inst, all_qubits[_id], all_qubits[_id+1])\n",
    "        V0[_id]=float(mn['volt_coil'])\n",
    "        #print(V0)\n",
    "        VoltRaw0.append(V0)\n",
    "        F_data_raw.append(yn/1e9)\n",
    "        V_data_raw.append(xn)\n",
    "        print(float(mn['volt_coil']))\n",
    "        #print(VoltRaw0)\n",
    "    \n",
    "    VoltMatrix0.append(VoltRaw0)\n",
    "    F_data_mat.append(F_data_raw)\n",
    "    V_data_mat.append(V_data_raw)"
   ]
  },
  {
   "cell_type": "code",
   "execution_count": 469,
   "metadata": {
    "ExecuteTime": {
     "end_time": "2019-11-15T11:21:07.432999Z",
     "start_time": "2019-11-15T11:21:07.256108Z"
    }
   },
   "outputs": [
    {
     "data": {
      "text/plain": [
       "{'resonator_id': '11',\n",
       " 'probe_power': '-55.0',\n",
       " 'base_pump_power': '-7.0',\n",
       " 'bw': '10.0',\n",
       " 'coilL': 'NNDAC-2',\n",
       " 'fr_l': '[3.68515619]',\n",
       " 'voltL': '-3.0619935257818147',\n",
       " 'coilR': 'False',\n",
       " 'fr_R': '0',\n",
       " 'voltR': '0'}"
      ]
     },
     "execution_count": 469,
     "metadata": {},
     "output_type": "execute_result"
    }
   ],
   "source": [
    "xn,yn,mn = get_Adaptive_two_tone_spectroscopy(exdir_db_inst,'11')\n",
    "mn"
   ]
  },
  {
   "cell_type": "code",
   "execution_count": 887,
   "metadata": {
    "ExecuteTime": {
     "end_time": "2019-11-18T08:40:52.377329Z",
     "start_time": "2019-11-18T08:40:51.783695Z"
    }
   },
   "outputs": [
    {
     "data": {
      "text/plain": [
       "[<matplotlib.lines.Line2D at 0x2762c1ccd68>]"
      ]
     },
     "execution_count": 887,
     "metadata": {},
     "output_type": "execute_result"
    },
    {
     "data": {
      "image/png": "[encoded data removed]",
      "text/plain": [
       "<Figure size 432x288 with 1 Axes>"
      ]
     },
     "metadata": {
      "needs_background": "light"
     },
     "output_type": "display_data"
    }
   ],
   "source": [
    "qubit_id=2\n",
    "\n",
    "coil_id=1\n",
    "plt.plot(np.asarray(V_data_mat[qubit_id][coil_id]),np.asarray(F_data_mat[qubit_id][coil_id]),'bx')\n",
    "#xd,yd,md=get_Adaptive_two_tone_spectroscopy(exdir_db_inst,all_qubits[qubit_id])\n",
    "#plt.plot(xd,yd)\n",
    "xn,yn,mn = get_Nondiag_two_tone_spectroscopy(exdir_db_inst, all_qubits[qubit_id], all_qubits[qubit_id+1])\n",
    "plt.plot(xn,yn/1e9,'ro')\n",
    "\n",
    "xn,yn,mn = get_Nondiag_two_tone_spectroscopy(exdir_db_inst, all_qubits[qubit_id], all_qubits[qubit_id-1])\n",
    "plt.plot(xn,yn/1e9,'go')\n",
    "\n"
   ]
  },
  {
   "cell_type": "code",
   "execution_count": 1124,
   "metadata": {
    "ExecuteTime": {
     "end_time": "2019-11-18T10:55:07.520966Z",
     "start_time": "2019-11-18T10:55:07.428024Z"
    }
   },
   "outputs": [],
   "source": [
    "#Initial Data\n",
    "L_mat0 = np.asarray([[-1.3e-01, 0.01, 0, 0, 0, 0, 0, 0, 0, 0, 0],\n",
    "                    [0.01, -1.11824314e-01, 0.01, 0, 0, 0, 0, 0, 0, 0, 0],\n",
    "                    [0, 0.01, -1.11824314e-01, 0.01, 0, 0, 0, 0, 0, 0, 0],\n",
    "                    [0, 0, 0.01, -1.11824314e-01, 0.01, 0, 0, 0, 0, 0, 0],\n",
    "                    [0, 0, 0, 0.01, -1.11824314e-01, 0.01, 0, 0, 0, 0, 0],\n",
    "                    [0, 0, 0, 0, 0.01, -1.11824314e-01, 0.1, 0, 0, 0, 0],\n",
    "                    [0, 0, 0, 0, 0, 0.01, -1.11824314e-01, 0.01, 0, 0, 0],\n",
    "                    [0, 0, 0, 0, 0, 0, 0.01, -1.11824314e-01, 0.01, 0, 0],\n",
    "                    [0, 0, 0, 0, 0, 0, 0, 0.01, -1.11824314e-01, 0.01, 0],\n",
    "                    [0, 0, 0, 0, 0, 0, 0, 0, 0.01, -1.11824314e-01, 0.01],\n",
    "                    [0, 0, 0, 0, 0, 0, 0, 0, 0, 0.01, -1.11824314e-01]])\n",
    "phi0 = np.asarray([0.08, 0.08, 0.08, 0.08, 0.08, 0.08, 0.08, 0.08, 0.08, 0.08, 0.08])\n",
    "for i in range (11):\n",
    "    if i==0 or i==10:\n",
    "        L_mat0[i,i]=P0_podgon[i][6]\n",
    "        phi0[i]=P0_podgon[i][5]\n",
    "        #print(L_mat0[i,i],phi0[i])\n",
    "    else:\n",
    "        \n",
    "        L_mat0[i,i]=P0_podgon_twotone[i][6]\n",
    "        phi0[i]=P0_podgon_twotone[i][5]\n",
    "        #print(L_mat0[i,i],phi0[i])\n",
    "#P0_podgon_twotone.append([ 6.30402755e+09, 1.00433465e-01,  1.10791479e+10,  1.81756150e+09,\n",
    "  #1.56453522e8 , 8.68666687e-02,  3.49202273e+09,  1.33511318e-02,\n",
    "  #3.81e+09,  3.67075470e-03 ,-1.12179379e-01])        \n",
    "        \n",
    "Fr0= np.asarray([P0_podgon[i][0] for i in range(11)])\n",
    "Cr0= np.asarray([P0_podgon[i][1] for i in range(11)])\n",
    "Ej10= np.asarray([P0_podgon[i][2] for i in range(11)])\n",
    "Ej20= np.asarray([P0_podgon[i][3] for i in range(11)])\n",
    "Ec0= np.asarray([P0_podgon[i][4] for i in range(11)])\n",
    "#print(Fr0)\n",
    "\n",
    "Cr=0.8e-2\n",
    "CqqB=1.33e-2\n",
    "CqqS=0.4e-2\n",
    "\n",
    "coils=[]\n",
    "for _id,qubit_id in enumerate(all_qubits):\n",
    "    if qubit_id in ['1']:\n",
    "        coil=[all_qubits[_id],all_qubits[_id+1]]\n",
    "    elif qubit_id in ['11']:\n",
    "        coil=[all_qubits[_id-1],all_qubits[_id]]\n",
    "    else:\n",
    "        coil=[all_qubits[_id-1],all_qubits[_id],all_qubits[_id+1]]\n",
    "        \n",
    "    coils.append(coil)\n",
    "\n",
    "num_qubits = 11\n",
    "Cap_mat0=np.diag(np.resize(Cr,num_qubits))+\\\n",
    "    np.diag(np.resize(np.array([CqqB,CqqS]),(num_qubits-1)),k=1)+\\\n",
    "    np.diag(np.resize(np.array([CqqB,CqqS]),(num_qubits-1)),k=-1)\n",
    "\n",
    "P0data = {'Lmat':L_mat0,\n",
    "                     'phi0':phi0,\n",
    "                     'Fr0':Fr0,\n",
    "                     'ECq':Ec0,\n",
    "                     'EJ1':Ej10,\n",
    "                     'EJ2':Ej20,\n",
    "                     'Cmat':Cap_mat0}\n",
    "          \n",
    "                     #'Cr':Cr0,\n",
    "                     #'Cqq1':Cqq1,\n",
    "                     #'Cqq2':Cqq2,}"
   ]
  },
  {
   "cell_type": "code",
   "execution_count": 1125,
   "metadata": {
    "ExecuteTime": {
     "end_time": "2019-11-18T10:55:09.577700Z",
     "start_time": "2019-11-18T10:55:09.570705Z"
    }
   },
   "outputs": [
    {
     "data": {
      "text/plain": [
       "[[6260000000.0,\n",
       "  5.75648278e-11,\n",
       "  20408689200.0,\n",
       "  3580604300.0,\n",
       "  86130175.1,\n",
       "  0.0822169602,\n",
       "  -0.110745709],\n",
       " [6308786400.0,\n",
       "  4.31268856e-19,\n",
       "  19830899100.0,\n",
       "  3208894430.0,\n",
       "  83329893.9,\n",
       "  0.08448316,\n",
       "  -0.113388195],\n",
       " [6362300000.0,\n",
       "  5.75648278e-11,\n",
       "  20408689200.0,\n",
       "  3580604300.0,\n",
       "  86130175.1,\n",
       "  0.0822169602,\n",
       "  -0.110745709],\n",
       " [6412577290.0,\n",
       "  1.12724259e-19,\n",
       "  20110988300.0,\n",
       "  3400898030.0,\n",
       "  82826810.1,\n",
       "  0.086469636,\n",
       "  -0.113173875],\n",
       " [6458700000.0,\n",
       "  1.62189135e-22,\n",
       "  19657618100.0,\n",
       "  3470257890.0,\n",
       "  82918761.1,\n",
       "  0.0879028568,\n",
       "  -0.114572312],\n",
       " [6498400000.0,\n",
       "  5.39803282e-30,\n",
       "  19558064700.0,\n",
       "  3131390520.0,\n",
       "  82145815.6,\n",
       "  0.0851922623,\n",
       "  -0.112260792],\n",
       " [6555139340.0,\n",
       "  5.86567097e-19,\n",
       "  20079745500.0,\n",
       "  3610775970.0,\n",
       "  86611367.3,\n",
       "  0.081280267,\n",
       "  -0.104832111],\n",
       " [6597465320.0,\n",
       "  1.10388734e-27,\n",
       "  19891809800.0,\n",
       "  3411371170.0,\n",
       "  83845960.5,\n",
       "  0.0806930318,\n",
       "  -0.114222294],\n",
       " [6648131090.0,\n",
       "  9.72855216e-31,\n",
       "  19739359900.0,\n",
       "  3632202030.0,\n",
       "  87033263.0,\n",
       "  0.0775346556,\n",
       "  -0.111135121],\n",
       " [6703522790.0,\n",
       "  1.17222256e-30,\n",
       "  19638913400.0,\n",
       "  3537146860.0,\n",
       "  83426816.0,\n",
       "  0.0703222854,\n",
       "  -0.107667672],\n",
       " [6753040360.0,\n",
       "  2.72787378e-30,\n",
       "  21652504100.0,\n",
       "  3188788960.0,\n",
       "  79398640.4,\n",
       "  0.0812703811,\n",
       "  -0.115567891]]"
      ]
     },
     "execution_count": 1125,
     "metadata": {},
     "output_type": "execute_result"
    }
   ],
   "source": [
    "P0_podgon"
   ]
  },
  {
   "cell_type": "code",
   "execution_count": 925,
   "metadata": {
    "ExecuteTime": {
     "end_time": "2019-11-18T08:59:09.467012Z",
     "start_time": "2019-11-18T08:59:09.460017Z"
    }
   },
   "outputs": [
    {
     "data": {
      "text/plain": [
       "array([6.25800000e+09, 6.30402755e+09, 6.36225166e+09, 6.40841572e+09,\n",
       "       6.45635702e+09, 6.51131535e+09, 6.55548153e+09, 6.59770969e+09,\n",
       "       6.64811198e+09, 6.70352279e+09, 6.75304036e+09])"
      ]
     },
     "execution_count": 925,
     "metadata": {},
     "output_type": "execute_result"
    }
   ],
   "source": [
    "P0data['Fr0'][:]"
   ]
  },
  {
   "cell_type": "markdown",
   "metadata": {},
   "source": [
    "# Fit for individual qubits step by step"
   ]
  },
  {
   "cell_type": "markdown",
   "metadata": {},
   "source": [
    "Initial data for all qubits"
   ]
  },
  {
   "cell_type": "code",
   "execution_count": 1130,
   "metadata": {
    "ExecuteTime": {
     "end_time": "2019-11-18T10:56:43.854668Z",
     "start_time": "2019-11-18T10:56:43.813692Z"
    }
   },
   "outputs": [],
   "source": [
    "\n",
    "\n",
    "def init_data(P0data, inf=False):\n",
    "    num_qubits = 11\n",
    "    initial_data=[]\n",
    "    bounds=[]\n",
    "    for _id,qubit_id in enumerate(all_qubits):\n",
    "        if qubit_id=='1':\n",
    "            p0 = (P0data['Fr0'][_id],\n",
    "                      P0data['Cmat'][_id,_id],\n",
    "                      P0data['EJ1'][_id], \n",
    "                      P0data['EJ2'][_id], \n",
    "                      P0data['ECq'][_id],\n",
    "                      P0data['phi0'][_id],\n",
    "                      0+1e-5,\n",
    "                      P0data['Cmat'][_id,_id+1],)+tuple(P0data['Lmat'][_id,:]+1e-5)\n",
    "            if inf==True:\n",
    "                bound=((0,      0,      0,      0,      0,      -np.pi,0, 0)+tuple([-np.inf]*num_qubits),\n",
    "                  (np.inf, np.inf, np.inf, np.inf, np.inf,  np.pi, np.inf, np.inf)+tuple([ np.inf]*num_qubits))\n",
    "            else:\n",
    "                bound=((p0[0]*0.9, p0[1]*0.1, p0[2]*0.1, p0[3]*0.1, p0[4]*0.1, p0[5]*0.1, p0[6], p0[7]*0.1,)+\\\n",
    "                       tuple(-2*np.abs(P0data['Lmat'][_id,:])),\\\n",
    "                  (1.5*p0[0], 5*p0[1], 5*p0[2], 5*p0[3], 5*p0[4], 5*p0[5], p0[6]+1e-5, 2*p0[7])+\\\n",
    "                       tuple(2*np.abs(P0data['Lmat'][_id,:])+1e-5))\n",
    "        elif qubit_id=='11':\n",
    "            p0 = (P0data['Fr0'][_id],\n",
    "                      P0data['Cmat'][_id,_id],\n",
    "                      P0data['EJ1'][_id], \n",
    "                      P0data['EJ2'][_id], \n",
    "                      P0data['ECq'][_id],\n",
    "                      P0data['phi0'][_id],\n",
    "                      P0data['Cmat'][_id,_id-1],\n",
    "                      0+1e-5,)+tuple(P0data['Lmat'][_id,:]+1e-5) \n",
    "            if inf==True:\n",
    "                bound=((0,      0,      0,      0,      0,      -np.pi, 0, 0)+tuple([-np.inf]*num_qubits),\n",
    "                  (np.inf, np.inf, np.inf, np.inf, np.inf,  np.pi, np.inf, np.inf)+tuple([ np.inf]*num_qubits))\n",
    "            else:\n",
    "                bound=((p0[0]*0.9, p0[1]*0.1, p0[2]*0.1, p0[3]*0.1, p0[4]*0.1, p0[5]*0.1, p0[6]*0.1, p0[7]*0.1)+\\\n",
    "                       tuple(-2*np.abs(P0data['Lmat'][_id,:])),\\\n",
    "                  (1.5*p0[0], 5*p0[1], 5*p0[2], 5*p0[3], 5*p0[4], 5*p0[5], 5*p0[6], p0[7]+1e-5)+\\\n",
    "                       tuple(2*np.abs(P0data['Lmat'][_id,:])+1e-5))\n",
    "        else:\n",
    "            p0 = (P0data['Fr0'][_id],\n",
    "                      P0data['Cmat'][_id,_id],\n",
    "                      P0data['EJ1'][_id], \n",
    "                      P0data['EJ2'][_id], \n",
    "                      P0data['ECq'][_id],\n",
    "                      P0data['phi0'][_id],\n",
    "                      P0data['Cmat'][_id,_id-1],\n",
    "                      P0data['Cmat'][_id,_id+1],)+tuple(P0data['Lmat'][_id,:]+1e-5)\n",
    "            if inf==True:\n",
    "                bound=((0,      0,      0,      0,      0,      -np.pi, 0, 0)+tuple([-np.inf]*num_qubits),\n",
    "                  (np.inf, np.inf, np.inf, np.inf, np.inf,  np.pi, np.inf, np.inf)+tuple([ np.inf]*num_qubits))\n",
    "            else:\n",
    "                bound=((p0[0]*0.9, p0[1]*0.1, p0[2]*0.1, p0[3]*0.1, p0[4]*0.1, p0[5]*0.1, p0[6]*0.1, p0[7]*0.1)+\\\n",
    "                       tuple(-2*np.abs(P0data['Lmat'][_id,:])),\\\n",
    "                  (1.5*p0[0], 5*p0[1], 5*p0[2], 5*p0[3], 5*p0[4], 5*p0[5], 5*p0[6], 5*p0[7])+\\\n",
    "                       tuple(2*np.abs(P0data['Lmat'][_id,:])+1e-5))\n",
    "                \n",
    "        \n",
    "        initial_data.append(p0)\n",
    "        bounds.append(bound)\n",
    "    return initial_data, bounds"
   ]
  },
  {
   "cell_type": "code",
   "execution_count": 1134,
   "metadata": {
    "ExecuteTime": {
     "end_time": "2019-11-18T10:57:59.998796Z",
     "start_time": "2019-11-18T10:57:55.181762Z"
    }
   },
   "outputs": [
    {
     "name": "stdout",
     "output_type": "stream",
     "text": [
      "[ 5.63400000e+09  7.77016875e-03  1.38880030e+10  1.38851787e+10\n",
      "  4.30644193e+08  1.42377484e-01  1.99500000e-05  1.50660222e-03\n",
      " -4.24613660e-03  8.00699236e-02  2.99999000e-05  2.99999000e-05\n",
      "  2.99999000e-05  2.99999000e-05  2.99999000e-05  2.99999000e-05\n",
      "  2.99999000e-05  2.99999000e-05  2.99999000e-05]\n",
      "[5.67972041e+09 3.12162435e-02 2.03203369e+09 6.73774904e+08\n",
      " 9.74437813e+06 8.68665475e-02 1.32999952e-02 4.00000000e-03\n",
      " 4.55775211e-02 3.49202310e+09 4.34730846e-02 2.99999000e-05\n",
      " 2.99999000e-05 2.99999000e-05 2.99999000e-05 2.99999000e-05\n",
      " 2.99999000e-05 2.99999000e-05 2.99999000e-05]\n",
      "[ 5.75430782e+09  8.18063827e-03  3.06234402e+09  3.61415964e+08\n",
      "  1.18968958e+07  8.27517503e-02  3.99999978e-03  1.33000000e-02\n",
      "  2.99999000e-05  9.24229876e-04  3.74499993e+09 -1.92516476e-03\n",
      "  2.99999000e-05  2.99999000e-05  2.99999000e-05  2.99999000e-05\n",
      "  2.99999000e-05  2.99999000e-05  2.99849988e-05]\n",
      "[ 5.85190816e+09  7.43991338e-03  4.77029176e+09  1.19254299e+09\n",
      "  1.69690218e+07  7.56085706e-02  1.33000000e-02  4.00000000e-03\n",
      "  2.99999000e-05  2.99999000e-05 -2.14945400e-04  3.69504861e+09\n",
      "  3.45085852e-03  2.99999000e-05  2.99999000e-05  2.99999000e-05\n",
      "  2.99999000e-05  2.99999000e-05  2.99849988e-05]\n",
      "[5.95524185e+09 3.40390582e-02 5.53116235e+09 1.38155725e+09\n",
      " 2.48756562e+07 8.60740454e-02 4.00000001e-03 1.33000000e-02\n",
      " 2.99999000e-05 2.99999000e-05 2.99999000e-05 1.99085764e-02\n",
      " 3.69186260e+09 2.59426827e-03 2.99999000e-05 2.99999000e-05\n",
      " 2.99999000e-05 2.99999000e-05 2.99999000e-05]\n",
      "[5.86156547e+09 2.88496428e-02 2.43155591e+09 3.13541001e+08\n",
      " 9.58203419e+06 9.18760127e-02 1.33000047e-02 4.00000000e-03\n",
      " 2.99999000e-05 2.99999000e-05 2.99999000e-05 2.99999000e-05\n",
      " 3.58094313e-02 3.40270088e+09 6.41800391e-02 2.99999000e-05\n",
      " 2.99999000e-05 2.99999000e-05 2.99999000e-05]\n",
      "[5.90090772e+09 6.31998105e-03 2.09190462e+09 3.61077600e+08\n",
      " 8.78949528e+06 7.58569560e-02 3.99999849e-03 1.33000000e-02\n",
      " 2.99999000e-05 2.99999000e-05 2.99999000e-05 2.99999000e-05\n",
      " 2.99999000e-05 1.79036806e-03 3.74186300e+09 7.14025751e-02\n",
      " 2.99999000e-05 2.99999000e-05 2.99999000e-05]\n",
      "[5.94310869e+09 3.03884425e-02 2.15658396e+09 5.44031390e+08\n",
      " 9.23066429e+06 8.15267698e-02 5.69960188e-03 4.00000000e-03\n",
      " 2.99999000e-05 2.99999000e-05 2.99999000e-05 2.99999000e-05\n",
      " 2.99999000e-05 2.99999000e-05 6.01490112e-02 3.47232931e+09\n",
      " 6.44002384e-02 2.99999000e-05 2.99849988e-05]\n",
      "[6.07943202e+09 6.25680936e-03 4.46187032e+09 9.47812511e+08\n",
      " 2.01008746e+07 9.78812517e-02 3.99757260e-03 1.33000000e-02\n",
      " 2.99999000e-05 2.99999000e-05 2.99999000e-05 2.99999000e-05\n",
      " 2.99999000e-05 2.99999000e-05 2.99999000e-05 2.04516915e-02\n",
      " 3.71588190e+09 3.72035097e-03 2.99999000e-05]\n",
      "[6.29205715e+09 2.37084129e-02 8.65225818e+09 1.76318441e+10\n",
      " 3.73937543e+07 7.03222918e-02 1.33000011e-02 4.00000000e-03\n",
      " 2.99999000e-05 2.99999000e-05 2.99999000e-05 2.99999000e-05\n",
      " 2.99999000e-05 2.99999000e-05 2.99999000e-05 2.99999000e-05\n",
      " 4.46798689e-02 3.44232954e+09 3.55358731e-02]\n",
      "[ 6.09001610e+09  3.64413053e-02  2.75775637e+10  1.50377011e+10\n",
      "  3.66407054e+08  3.71553646e-01  1.17155945e-02  2.03651579e-06\n",
      "  4.44219908e-05  2.99999000e-05  2.99999000e-05  2.99999000e-05\n",
      "  2.99999000e-05  2.99999000e-05  2.99999000e-05  2.99999000e-05\n",
      "  2.99999000e-05  2.16196583e-02 -2.12317623e-01]\n"
     ]
    }
   ],
   "source": [
    "from copy import copy\n",
    "num_qubits = 11\n",
    "L_ind_mat=[]\n",
    "phi0_vec = []\n",
    "fitresults_vec = []\n",
    "\n",
    "initial_data,bounds=init_data(P0data,inf=False)\n",
    "\n",
    "for _id, qubit_id in enumerate(all_qubits):\n",
    "    V_coils=coils[_id]\n",
    "    L=L_mat0[_id,_id]\n",
    "    V0=VoltMatrix0[_id].copy()\n",
    "    data = F_data_mat[_id].copy()\n",
    "    x = V_data_mat[_id].copy()\n",
    "    \n",
    "    def residuals(p):\n",
    "        Lvec = p[8:]\n",
    "        pQ1 = p[:6]+(Lvec[_id],)\n",
    "        CqR=p[7]\n",
    "        CqL=p[6]\n",
    "        if qubit_id=='1':\n",
    "            pQr = initial_data[_id+1][:6]+(initial_data[_id+1][8:][_id+1],)\n",
    "            pQl=False\n",
    "        elif qubit_id=='11':\n",
    "            pQr=False\n",
    "            pQl = initial_data[_id-1][:6]+(initial_data[_id-1][8:][_id-1],)\n",
    "        else:\n",
    "            pQr = initial_data[_id+1][:6]+(initial_data[_id+1][8:][_id+1],)\n",
    "            pQl = initial_data[_id-1][:6]+(initial_data[_id-1][8:][_id-1],)\n",
    "        \n",
    "        res = []\n",
    "        Lmat=L_mat0\n",
    "        Lmat[_id,:]=Lvec\n",
    "        for _cd,coil in enumerate(coils[_id]):\n",
    "            coil_id=all_qubits.index(coil)\n",
    "            vec=Q_r_q(x=x[_cd], qubit_id=_id, coil_id=coil_id, pQ1=pQ1, CqR=CqR, pQr=pQr, CqL=CqL, pQl=pQl,V0vec=V0[_cd],Lmat=Lmat)\n",
    "            res.extend(vec[0]/1e9-np.asarray(data[_cd])*(3 if coil == qubit_id else 1))\n",
    "        return res\n",
    "              \n",
    "    from scipy.optimize import least_squares\n",
    "    p0 = initial_data[_id]\n",
    "    bound = bounds[_id]\n",
    "    \n",
    "    fitresults = least_squares(residuals, p0, x_scale=np.abs(p0), bounds=bound)\n",
    "    fitresults_vec.append(fitresults.x[:])\n",
    "    phi0_vec.append(fitresults.x[5])\n",
    "    L_ind_mat.append(fitresults.x[8:])\n",
    "    print (fitresults.x)"
   ]
  },
  {
   "cell_type": "code",
   "execution_count": 1141,
   "metadata": {
    "ExecuteTime": {
     "end_time": "2019-11-18T11:32:27.652419Z",
     "start_time": "2019-11-18T11:32:27.462439Z"
    }
   },
   "outputs": [
    {
     "data": {
      "text/plain": [
       "(array([ 5.63400000e+09,  7.77016875e-03,  1.38880030e+10,  1.38851787e+10,\n",
       "         4.30644193e+08,  1.42377484e-01,  1.99500000e-05,  1.50660222e-03,\n",
       "        -4.24613660e-03,  8.00699236e-02,  2.99999000e-05,  2.99999000e-05,\n",
       "         2.99999000e-05,  2.99999000e-05,  2.99999000e-05,  2.99999000e-05,\n",
       "         2.99999000e-05,  2.99999000e-05,  2.99999000e-05]),\n",
       " (6260000000.0,\n",
       "  0.008,\n",
       "  20408689200.0,\n",
       "  3580604300.0,\n",
       "  86130175.1,\n",
       "  0.0822169602,\n",
       "  1e-05,\n",
       "  0.0133,\n",
       "  -0.005192812691414573,\n",
       "  0.04003996179612993,\n",
       "  2.9999900000000004e-05,\n",
       "  2.9999900000000004e-05,\n",
       "  2.9999900000000004e-05,\n",
       "  2.9999900000000004e-05,\n",
       "  2.9999900000000004e-05,\n",
       "  2.9999900000000004e-05,\n",
       "  2.9999900000000004e-05,\n",
       "  2.9999900000000004e-05,\n",
       "  2.9999900000000004e-05))"
      ]
     },
     "execution_count": 1141,
     "metadata": {},
     "output_type": "execute_result"
    }
   ],
   "source": [
    "qubit_id=0\n",
    "fitresults_vec[qubit_id], initial_data[qubit_id]"
   ]
  },
  {
   "cell_type": "code",
   "execution_count": 1144,
   "metadata": {
    "ExecuteTime": {
     "end_time": "2019-11-18T11:34:14.181550Z",
     "start_time": "2019-11-18T11:34:13.931578Z"
    }
   },
   "outputs": [
    {
     "data": {
      "text/plain": [
       "[<matplotlib.lines.Line2D at 0x276325e9320>]"
      ]
     },
     "execution_count": 1144,
     "metadata": {},
     "output_type": "execute_result"
    },
    {
     "data": {
      "image/png": "[encoded data removed]",
      "text/plain": [
       "<Figure size 432x288 with 1 Axes>"
      ]
     },
     "metadata": {
      "needs_background": "light"
     },
     "output_type": "display_data"
    }
   ],
   "source": [
    "qubit_id=0\n",
    "c_id=1\n",
    "coil=coils[qubit_id][c_id]\n",
    "p=tuple(fitresults_vec[qubit_id])[:]\n",
    "p=initial_data[qubit_id]\n",
    "Lvec = p[8:]\n",
    "V0=VoltMatrix0[qubit_id].copy()\n",
    "pQ1 = p[:6]+(Lvec[qubit_id],)\n",
    "CqR=p[7]\n",
    "CqL=p[6]\n",
    "if qubit_id==0:\n",
    "    pQr = tuple(fitresults_vec[qubit_id+1])[:6]+(tuple(fitresults_vec[qubit_id+1])[8:][qubit_id+1],)\n",
    "    pQl=False\n",
    "elif qubit_id==10:\n",
    "    pQr=False\n",
    "    pQl = tuple(fitresults_vec[qubit_id-1])[:6]+(tuple(fitresults_vec[qubit_id-1])[8:][qubit_id-1],)\n",
    "else:\n",
    "    pQr = tuple(fitresults_vec[qubit_id+1])[:6]+(tuple(fitresults_vec[qubit_id+1])[8:][qubit_id+1],)\n",
    "    pQl = tuple(fitresults_vec[qubit_id-1])[:6]+(tuple(fitresults_vec[qubit_id-1])[8:][qubit_id-1],)\n",
    "\n",
    "plt.plot(np.asarray(V_data_mat[qubit_id][c_id]),np.asarray(F_data_mat[qubit_id][c_id]),'bx')\n",
    "\n",
    "x=np.linspace(-4.0,4.0,201)\n",
    "\n",
    "y=Q_r_q(x=x, qubit_id=qubit_id, coil_id=all_qubits.index(coil), pQ1=pQ1, CqR=CqR, pQr=pQr, CqL=CqL, pQl=pQl,V0vec=V0[c_id],Lmat=Lmat)\n",
    "            \n",
    "plt.plot(x,y[0]/1e9)\n",
    "\n"
   ]
  },
  {
   "cell_type": "code",
   "execution_count": 1135,
   "metadata": {
    "ExecuteTime": {
     "end_time": "2019-11-18T10:58:20.362263Z",
     "start_time": "2019-11-18T10:58:20.357265Z"
    }
   },
   "outputs": [
    {
     "data": {
      "text/plain": [
       "0"
      ]
     },
     "execution_count": 1135,
     "metadata": {},
     "output_type": "execute_result"
    }
   ],
   "source": [
    "coil_id"
   ]
  },
  {
   "cell_type": "code",
   "execution_count": 1100,
   "metadata": {
    "ExecuteTime": {
     "end_time": "2019-11-18T10:46:25.935030Z",
     "start_time": "2019-11-18T10:46:25.930032Z"
    }
   },
   "outputs": [
    {
     "data": {
      "text/plain": [
       "'3'"
      ]
     },
     "execution_count": 1100,
     "metadata": {},
     "output_type": "execute_result"
    }
   ],
   "source": [
    "coil=coils[qubit_id][c_id]\n",
    "coil\n"
   ]
  },
  {
   "cell_type": "code",
   "execution_count": 1037,
   "metadata": {
    "ExecuteTime": {
     "end_time": "2019-11-18T10:20:41.295836Z",
     "start_time": "2019-11-18T10:20:41.274848Z"
    }
   },
   "outputs": [
    {
     "data": {
      "text/plain": [
       "6222287974.644922"
      ]
     },
     "execution_count": 1037,
     "metadata": {},
     "output_type": "execute_result"
    }
   ],
   "source": [
    "pQ1"
   ]
  },
  {
   "cell_type": "code",
   "execution_count": 867,
   "metadata": {
    "ExecuteTime": {
     "end_time": "2019-11-18T08:29:46.134435Z",
     "start_time": "2019-11-18T08:29:46.128441Z"
    }
   },
   "outputs": [
    {
     "data": {
      "text/plain": [
       "array([6.30402755e+09, 1.04181349e-01, 2.08297593e+10, 3.41776798e+09,\n",
       "       2.94146196e+08, 2.57825923e-01])"
      ]
     },
     "execution_count": 867,
     "metadata": {},
     "output_type": "execute_result"
    }
   ],
   "source": [
    "pQr"
   ]
  },
  {
   "cell_type": "code",
   "execution_count": 864,
   "metadata": {
    "ExecuteTime": {
     "end_time": "2019-11-18T08:28:24.683573Z",
     "start_time": "2019-11-18T08:28:24.676577Z"
    }
   },
   "outputs": [
    {
     "data": {
      "text/plain": [
       "(array([6.30402755e+09, 1.04181349e-01, 2.08297593e+10, 3.41776798e+09,\n",
       "        2.94146196e+08, 2.57825923e-01]),\n",
       " (6304027550.0939245,\n",
       "  0.1041813487547673,\n",
       "  20829759320.991753,\n",
       "  3417767981.1814713,\n",
       "  294146195.954946,\n",
       "  0.2578259228877016),\n",
       " (6304027550.0,\n",
       "  0.008,\n",
       "  11079147900.0,\n",
       "  1817561500.0,\n",
       "  156453522.0,\n",
       "  0.0868666687,\n",
       "  -0.05702913354725766),\n",
       " (6304027550.0,\n",
       "  0.008,\n",
       "  11079147900.0,\n",
       "  1817561500.0,\n",
       "  156453522.0,\n",
       "  0.0868666687,\n",
       "  -0.05702913354725766))"
      ]
     },
     "execution_count": 864,
     "metadata": {},
     "output_type": "execute_result"
    }
   ],
   "source": [
    "pQr = tuple(fitresults_vec[qubit_id+1])[:6]+tuple(fitresults_vec[qubit_id+1])[8:][qubit_id+1]\n",
    "pQr1 = initial_data[qubit_id+1][:6]+(initial_data[qubit_id+1][8:][qubit_id+1],)\n",
    "\n",
    "pQr, tuple(pQr), pQr1, pQr1"
   ]
  },
  {
   "cell_type": "code",
   "execution_count": 854,
   "metadata": {
    "ExecuteTime": {
     "end_time": "2019-11-18T08:24:24.130644Z",
     "start_time": "2019-11-18T08:24:24.042699Z"
    }
   },
   "outputs": [
    {
     "ename": "AttributeError",
     "evalue": "'bool' object has no attribute 'any'",
     "output_type": "error",
     "traceback": [
      "\u001b[1;31m---------------------------------------------------------------------------\u001b[0m",
      "\u001b[1;31mAttributeError\u001b[0m                            Traceback (most recent call last)",
      "\u001b[1;32m<ipython-input-854-d0d44dfd03c1>\u001b[0m in \u001b[0;36m<module>\u001b[1;34m\u001b[0m\n\u001b[0;32m      1\u001b[0m \u001b[0ma\u001b[0m\u001b[1;33m=\u001b[0m\u001b[1;32mFalse\u001b[0m\u001b[1;33m\u001b[0m\u001b[1;33m\u001b[0m\u001b[0m\n\u001b[1;32m----> 2\u001b[1;33m \u001b[1;32mif\u001b[0m \u001b[0ma\u001b[0m\u001b[1;33m.\u001b[0m\u001b[0many\u001b[0m\u001b[1;33m(\u001b[0m\u001b[1;33m)\u001b[0m\u001b[1;33m!=\u001b[0m\u001b[1;32mFalse\u001b[0m\u001b[1;33m:\u001b[0m\u001b[1;33m\u001b[0m\u001b[1;33m\u001b[0m\u001b[0m\n\u001b[0m\u001b[0;32m      3\u001b[0m     \u001b[0mprint\u001b[0m\u001b[1;33m(\u001b[0m\u001b[0ma\u001b[0m\u001b[1;33m)\u001b[0m\u001b[1;33m\u001b[0m\u001b[1;33m\u001b[0m\u001b[0m\n",
      "\u001b[1;31mAttributeError\u001b[0m: 'bool' object has no attribute 'any'"
     ]
    }
   ],
   "source": [
    "a=False\n",
    "if a.any()!=False:\n",
    "    print(a)\n"
   ]
  },
  {
   "cell_type": "code",
   "execution_count": null,
   "metadata": {},
   "outputs": [],
   "source": []
  },
  {
   "cell_type": "code",
   "execution_count": 603,
   "metadata": {
    "ExecuteTime": {
     "end_time": "2019-11-15T14:09:11.139878Z",
     "start_time": "2019-11-15T14:09:11.120890Z"
    }
   },
   "outputs": [
    {
     "name": "stdout",
     "output_type": "stream",
     "text": [
      "3129000000.0 12516000000.0\n",
      "0.004 0.016\n",
      "5630860925.0 22523443700.0\n",
      "984488122.5 3937952490.0\n",
      "78000000.0 312000000.0\n",
      "0.0796063944 0.0796063944\n",
      "0 1e-05\n",
      "0.00665 0.0266\n",
      "-0.223648628 0.223658628\n",
      "-0.02 0.02001\n",
      "-0.0 1e-05\n",
      "-0.0 1e-05\n",
      "-0.0 1e-05\n",
      "-0.0 1e-05\n",
      "-0.0 1e-05\n",
      "-0.0 1e-05\n",
      "-0.0 1e-05\n",
      "-0.0 1e-05\n",
      "-0.0 1e-05\n"
     ]
    },
    {
     "ename": "IndexError",
     "evalue": "tuple index out of range",
     "output_type": "error",
     "traceback": [
      "\u001b[1;31m---------------------------------------------------------------------------\u001b[0m",
      "\u001b[1;31mIndexError\u001b[0m                                Traceback (most recent call last)",
      "\u001b[1;32m<ipython-input-603-60d502f3fd13>\u001b[0m in \u001b[0;36m<module>\u001b[1;34m\u001b[0m\n\u001b[0;32m      1\u001b[0m \u001b[1;32mfor\u001b[0m \u001b[0mi\u001b[0m \u001b[1;32min\u001b[0m \u001b[0mrange\u001b[0m\u001b[1;33m(\u001b[0m\u001b[1;36m20\u001b[0m\u001b[1;33m)\u001b[0m\u001b[1;33m:\u001b[0m\u001b[1;33m\u001b[0m\u001b[1;33m\u001b[0m\u001b[0m\n\u001b[1;32m----> 2\u001b[1;33m     \u001b[0mprint\u001b[0m\u001b[1;33m(\u001b[0m\u001b[0mbound\u001b[0m\u001b[1;33m[\u001b[0m\u001b[1;36m0\u001b[0m\u001b[1;33m]\u001b[0m\u001b[1;33m[\u001b[0m\u001b[0mi\u001b[0m\u001b[1;33m]\u001b[0m\u001b[1;33m,\u001b[0m\u001b[0mbound\u001b[0m\u001b[1;33m[\u001b[0m\u001b[1;36m1\u001b[0m\u001b[1;33m]\u001b[0m\u001b[1;33m[\u001b[0m\u001b[0mi\u001b[0m\u001b[1;33m]\u001b[0m\u001b[1;33m)\u001b[0m\u001b[1;33m\u001b[0m\u001b[1;33m\u001b[0m\u001b[0m\n\u001b[0m",
      "\u001b[1;31mIndexError\u001b[0m: tuple index out of range"
     ]
    }
   ],
   "source": [
    "for i in range(20):\n",
    "    print(bound[0][i],bound[1][i])"
   ]
  },
  {
   "cell_type": "code",
   "execution_count": 560,
   "metadata": {
    "ExecuteTime": {
     "end_time": "2019-11-15T12:51:41.442083Z",
     "start_time": "2019-11-15T12:51:41.437088Z"
    }
   },
   "outputs": [
    {
     "data": {
      "text/plain": [
       "(6258000000.0,\n",
       " 0.008,\n",
       " 11261721850.0,\n",
       " 1968976245.0,\n",
       " 156000000.0,\n",
       " 0.0796063944,\n",
       " None,\n",
       " 0.0133,\n",
       " -0.111824314,\n",
       " 0.01,\n",
       " 0.0,\n",
       " 0.0,\n",
       " 0.0,\n",
       " 0.0,\n",
       " 0.0,\n",
       " 0.0,\n",
       " 0.0,\n",
       " 0.0,\n",
       " 0.0)"
      ]
     },
     "execution_count": 560,
     "metadata": {},
     "output_type": "execute_result"
    }
   ],
   "source": [
    "p0"
   ]
  },
  {
   "cell_type": "code",
   "execution_count": 570,
   "metadata": {
    "ExecuteTime": {
     "end_time": "2019-11-15T12:58:05.008978Z",
     "start_time": "2019-11-15T12:58:05.003981Z"
    }
   },
   "outputs": [
    {
     "data": {
      "text/plain": [
       "array([ 0.        , -1.01877307,  0.        ,  0.        ,  0.        ,\n",
       "        0.        ,  0.        ,  0.        ,  0.        ,  0.        ,\n",
       "        0.        ])"
      ]
     },
     "execution_count": 570,
     "metadata": {},
     "output_type": "execute_result"
    }
   ],
   "source": [
    "V0vec"
   ]
  },
  {
   "cell_type": "code",
   "execution_count": 663,
   "metadata": {
    "ExecuteTime": {
     "end_time": "2019-11-15T14:53:14.616680Z",
     "start_time": "2019-11-15T14:53:14.602688Z"
    }
   },
   "outputs": [
    {
     "data": {
      "text/plain": [
       "array([3.24741400e+09, 3.24554217e+09, 3.24540667e+09, 3.24580573e+09,\n",
       "       3.24673826e+09, 3.24820174e+09, 3.25019225e+09, 3.25270446e+09,\n",
       "       3.25573170e+09, 3.25926598e+09, 3.26329806e+09, 3.26781749e+09,\n",
       "       3.27281268e+09, 3.27827098e+09, 3.28417875e+09, 3.29052142e+09,\n",
       "       3.29728359e+09, 3.30444910e+09, 3.31200113e+09, 3.31992223e+09,\n",
       "       3.32819449e+09, 3.33679953e+09, 3.34571861e+09, 3.35493273e+09,\n",
       "       3.36442266e+09, 3.37416901e+09, 3.38415232e+09, 3.39435310e+09,\n",
       "       3.40475185e+09, 3.41532917e+09, 3.42606574e+09, 3.43694240e+09,\n",
       "       3.44794015e+09, 3.45904020e+09, 3.47022396e+09, 3.48147310e+09,\n",
       "       3.50409529e+09, 3.52676482e+09, 3.58274561e+09, 3.60450963e+09,\n",
       "       3.62571552e+09, 3.64622801e+09, 3.66590668e+09, 3.67538730e+09,\n",
       "       3.68460298e+09, 3.69353352e+09, 3.70215801e+09, 3.71045497e+09,\n",
       "       3.71840251e+09, 3.72597879e+09, 3.73316249e+09, 3.73993366e+09,\n",
       "       3.74627467e+09, 3.75217139e+09, 3.75761434e+09, 3.76259981e+09,\n",
       "       3.76713062e+09, 3.77121636e+09, 3.77487315e+09, 3.87999802e+09,\n",
       "       3.88333344e+09, 3.88674205e+09, 3.89018960e+09, 3.89706648e+09,\n",
       "       3.90043222e+09, 3.90687676e+09, 3.90990694e+09, 3.91278105e+09,\n",
       "       3.91548123e+09, 3.91799183e+09, 3.92029931e+09, 3.92239191e+09,\n",
       "       3.92425958e+09, 3.92589369e+09, 3.92728697e+09, 3.92843332e+09,\n",
       "       3.92932773e+09, 3.92996615e+09, 3.93034546e+09, 3.93046337e+09,\n",
       "       3.93031843e+09, 3.92990994e+09, 3.92923795e+09, 3.92830330e+09,\n",
       "       3.92710757e+09, 3.92565315e+09, 3.92394324e+09, 3.92198193e+09,\n",
       "       3.91977424e+09, 3.91732624e+09, 3.91464509e+09, 3.91173922e+09,\n",
       "       3.90861843e+09, 3.90529408e+09, 3.90177923e+09, 3.89808885e+09])"
      ]
     },
     "execution_count": 663,
     "metadata": {},
     "output_type": "execute_result"
    }
   ],
   "source": [
    "from copy import copy\n",
    "_id=0\n",
    "x = np.asarray(V_data_mat[_id].copy())\n",
    "V0vec=np.asarray(VoltMatrix0[_id].copy())\n",
    "p=initial_data[_id]\n",
    "Lvec = p[8:]\n",
    "pQ1 = p[:6]+(Lvec[_id],)\n",
    "\n",
    "pQr = initial_data[_id+1][:6]+(initial_data[_id+1][8:][_id+1],)\n",
    "pQl = initial_data[_id+1][:6]+(initial_data[_id-1][8:][_id-1],)\n",
    "CqR=p[7]\n",
    "CqL=p[8]\n",
    "res = []\n",
    "Lmat=L_mat0\n",
    "Lmat[_id,:]=Lvec\n",
    "coil_id=0\n",
    "vec=Q_r_q(np.asarray(x[0]), qubit_id=_id, coil_id=coil_id, pQ1=pQ1, CqR=CqR, pQr=pQr, CqL=None, pQl=None,V0vec=V0vec,Lmat=Lmat)\n",
    "vec[0]\n"
   ]
  },
  {
   "cell_type": "code",
   "execution_count": 524,
   "metadata": {
    "ExecuteTime": {
     "end_time": "2019-11-15T12:35:59.870669Z",
     "start_time": "2019-11-15T12:35:59.865672Z"
    }
   },
   "outputs": [
    {
     "data": {
      "text/plain": [
       "(-inf, -inf, -inf, -inf, -inf, -inf, -inf, -inf, -inf, -inf, -inf)"
      ]
     },
     "execution_count": 524,
     "metadata": {},
     "output_type": "execute_result"
    }
   ],
   "source": [
    "tuple([-np.inf]*11)"
   ]
  },
  {
   "cell_type": "code",
   "execution_count": 725,
   "metadata": {
    "ExecuteTime": {
     "end_time": "2019-11-18T07:16:47.253706Z",
     "start_time": "2019-11-18T07:16:45.145003Z"
    }
   },
   "outputs": [],
   "source": [
    "from qsweepy.fitters import multiqubit_spectra\n",
    "import importlib\n",
    "importlib.reload(multiqubit_spectra)\n",
    "from qsweepy.fitters.multiqubit_spectra import *"
   ]
  },
  {
   "cell_type": "code",
   "execution_count": 726,
   "metadata": {
    "ExecuteTime": {
     "end_time": "2019-11-18T07:16:53.133087Z",
     "start_time": "2019-11-18T07:16:49.928059Z"
    }
   },
   "outputs": [
    {
     "data": {
      "text/plain": [
       "0.0"
      ]
     },
     "execution_count": 726,
     "metadata": {},
     "output_type": "execute_result"
    }
   ],
   "source": [
    "\n",
    "x,y, m =get_Adaptive_two_tone_spectroscopy(exdir_db_inst, '1')\n",
    "float(m['voltL'])"
   ]
  },
  {
   "cell_type": "code",
   "execution_count": 729,
   "metadata": {
    "ExecuteTime": {
     "end_time": "2019-11-18T07:17:17.058360Z",
     "start_time": "2019-11-18T07:17:16.496706Z"
    }
   },
   "outputs": [
    {
     "data": {
      "text/plain": [
       "array([3.64750931e+09, 3.64750931e+09, 3.64750931e+09, 3.64750931e+09,\n",
       "       3.64750931e+09, 3.64750931e+09, 3.64750931e+09, 3.64750931e+09,\n",
       "       3.64750931e+09, 3.64750931e+09, 3.64750931e+09, 3.64750931e+09,\n",
       "       3.64750931e+09, 3.64750931e+09, 3.64750931e+09, 3.64750931e+09,\n",
       "       3.64950931e+09, 3.64950931e+09, 3.64950931e+09, 3.64950931e+09,\n",
       "       3.64950931e+09, 3.64950931e+09, 3.64950931e+09, 3.64950931e+09,\n",
       "       3.64950931e+09, 3.65150931e+09, 3.65150931e+09, 3.65350931e+09,\n",
       "       3.65550931e+09, 3.64350931e+09, 3.64350931e+09, 3.64350931e+09,\n",
       "       3.64550931e+09, 3.64550931e+09, 3.64550931e+09, 3.64550931e+09,\n",
       "       3.64550931e+09, 3.64550931e+09, 3.64550931e+09, 3.64550931e+09,\n",
       "       3.64750931e+09, 3.64550931e+09, 3.64550931e+09, 3.64750931e+09,\n",
       "       3.64750931e+09, 3.64750931e+09, 3.64750931e+09, 3.64750931e+09,\n",
       "       3.64750931e+09, 3.64750931e+09, 3.64750931e+09, 3.64750931e+09,\n",
       "       3.64750931e+09, 3.64750931e+09, 3.64750931e+09, 3.64750931e+09,\n",
       "       3.64750931e+09, 3.64750931e+09, 3.64750931e+09, 3.64750931e+09,\n",
       "       3.64750931e+09, 3.64750931e+09, 3.64750931e+09, 3.64750931e+09,\n",
       "       3.64750931e+09, 3.64750931e+09, 3.64750931e+09, 3.64750931e+09,\n",
       "       3.64750931e+09, 3.64750931e+09, 3.64750931e+09, 3.64750931e+09,\n",
       "       3.64750931e+09, 3.64750931e+09, 3.64750931e+09, 3.64750931e+09,\n",
       "       3.64750931e+09, 3.64750931e+09, 3.64750931e+09, 3.64750931e+09,\n",
       "       3.64750931e+09, 3.64750931e+09, 3.64750931e+09, 3.64750931e+09,\n",
       "       3.64750931e+09, 3.64750931e+09, 3.64750931e+09, 3.64750931e+09,\n",
       "       3.64750931e+09, 3.64750931e+09, 3.64550931e+09, 3.64550931e+09,\n",
       "       3.64550931e+09, 3.64550931e+09, 3.64350931e+09, 3.64150931e+09,\n",
       "       3.65350931e+09, 3.65350931e+09, 3.65350931e+09, 3.65150931e+09,\n",
       "       3.65150931e+09, 3.65350931e+09])"
      ]
     },
     "execution_count": 729,
     "metadata": {},
     "output_type": "execute_result"
    }
   ],
   "source": [
    "x,y,m = get_Nondiag_two_tone_spectroscopy(exdir_db_inst, '2', '3')\n",
    "float(m['volt_coil'])\n",
    "y"
   ]
  },
  {
   "cell_type": "code",
   "execution_count": 81,
   "metadata": {
    "ExecuteTime": {
     "end_time": "2019-11-14T10:38:14.562689Z",
     "start_time": "2019-11-14T10:38:14.532695Z"
    }
   },
   "outputs": [
    {
     "ename": "NameError",
     "evalue": "name 'spectra' is not defined",
     "output_type": "error",
     "traceback": [
      "\u001b[1;31m---------------------------------------------------------------------------\u001b[0m",
      "\u001b[1;31mNameError\u001b[0m                                 Traceback (most recent call last)",
      "\u001b[1;32m<ipython-input-81-6dafbb2342d5>\u001b[0m in \u001b[0;36m<module>\u001b[1;34m\u001b[0m\n\u001b[1;32m----> 1\u001b[1;33m \u001b[0mspectra\u001b[0m\u001b[1;33m\u001b[0m\u001b[1;33m\u001b[0m\u001b[0m\n\u001b[0m",
      "\u001b[1;31mNameError\u001b[0m: name 'spectra' is not defined"
     ]
    }
   ],
   "source": [
    "spectra"
   ]
  },
  {
   "cell_type": "code",
   "execution_count": 168,
   "metadata": {
    "ExecuteTime": {
     "end_time": "2019-11-13T15:04:25.952643Z",
     "start_time": "2019-11-13T15:04:25.703797Z"
    }
   },
   "outputs": [
    {
     "data": {
      "text/plain": [
       "[<matplotlib.lines.Line2D at 0x25ff2bf25c0>]"
      ]
     },
     "execution_count": 168,
     "metadata": {},
     "output_type": "execute_result"
    },
    {
     "data": {
      "image/png": "[encoded data removed]",
      "text/plain": [
       "<Figure size 432x288 with 1 Axes>"
      ]
     },
     "metadata": {
      "needs_background": "light"
     },
     "output_type": "display_data"
    }
   ],
   "source": [
    "plt.figure()\n",
    "plt.plot(np.asarray(X)[:111,1],np.asarray(y),'ro')"
   ]
  },
  {
   "cell_type": "code",
   "execution_count": 92,
   "metadata": {
    "ExecuteTime": {
     "end_time": "2019-11-14T10:44:22.168358Z",
     "start_time": "2019-11-14T10:44:22.148363Z"
    }
   },
   "outputs": [
    {
     "ename": "NameError",
     "evalue": "name 'X' is not defined",
     "output_type": "error",
     "traceback": [
      "\u001b[1;31m---------------------------------------------------------------------------\u001b[0m",
      "\u001b[1;31mNameError\u001b[0m                                 Traceback (most recent call last)",
      "\u001b[1;32m<ipython-input-92-999935d856ca>\u001b[0m in \u001b[0;36m<module>\u001b[1;34m\u001b[0m\n\u001b[1;32m----> 1\u001b[1;33m \u001b[0mnp\u001b[0m\u001b[1;33m.\u001b[0m\u001b[0masarray\u001b[0m\u001b[1;33m(\u001b[0m\u001b[0mX\u001b[0m\u001b[1;33m)\u001b[0m\u001b[1;33m\u001b[0m\u001b[1;33m\u001b[0m\u001b[0m\n\u001b[0m",
      "\u001b[1;31mNameError\u001b[0m: name 'X' is not defined"
     ]
    }
   ],
   "source": [
    "np.asarray(X)"
   ]
  },
  {
   "cell_type": "code",
   "execution_count": 94,
   "metadata": {
    "ExecuteTime": {
     "end_time": "2019-11-14T10:44:30.107551Z",
     "start_time": "2019-11-14T10:44:29.897571Z"
    }
   },
   "outputs": [
    {
     "data": {
      "text/plain": [
       "array([-3.9 , -3.8 , -3.75, -3.7 , -3.65, -3.6 , -3.55, -3.5 , -3.45,\n",
       "       -3.4 , -3.35, -3.3 , -3.25, -3.2 , -3.15, -3.1 , -3.05, -3.  ,\n",
       "       -2.95, -2.9 , -2.85, -2.8 , -2.75, -2.7 , -2.65, -2.6 , -2.55,\n",
       "       -2.5 , -2.45, -2.4 , -2.35, -2.3 , -2.25, -2.2 , -2.15, -2.1 ,\n",
       "       -2.  , -1.9 , -1.65, -1.55, -1.45, -1.35, -1.25, -1.2 , -1.15,\n",
       "       -1.1 , -1.05, -1.  , -0.95, -0.9 , -0.85, -0.8 , -0.75, -0.7 ,\n",
       "       -0.65, -0.6 , -0.55, -0.5 , -0.45, -0.4 , -0.35, -0.3 , -0.25,\n",
       "       -0.15, -0.1 ,  0.  ,  0.05,  0.1 ,  0.15,  0.2 ,  0.25,  0.3 ,\n",
       "        0.35,  0.4 ,  0.45,  0.5 ,  0.55,  0.6 ,  0.65,  0.7 ,  0.75,\n",
       "        0.8 ,  0.85,  0.9 ,  0.95,  1.  ,  1.05,  1.1 ,  1.15,  1.2 ,\n",
       "        1.25,  1.3 ,  1.35,  1.4 ,  1.45,  1.5 ])"
      ]
     },
     "execution_count": 94,
     "metadata": {},
     "output_type": "execute_result"
    }
   ],
   "source": [
    "x,y,m=get_Adaptive_two_tone_spectroscopy(exdir_db_inst,'1')\n",
    "x"
   ]
  },
  {
   "cell_type": "code",
   "execution_count": 155,
   "metadata": {
    "ExecuteTime": {
     "end_time": "2019-11-13T15:00:57.773789Z",
     "start_time": "2019-11-13T15:00:57.460984Z"
    }
   },
   "outputs": [
    {
     "data": {
      "text/plain": [
       "[<matplotlib.lines.Line2D at 0x25ff27898d0>]"
      ]
     },
     "execution_count": 155,
     "metadata": {},
     "output_type": "execute_result"
    },
    {
     "data": {
      "image/png": "[encoded data removed]",
      "text/plain": [
       "<Figure size 432x288 with 1 Axes>"
      ]
     },
     "metadata": {
      "needs_background": "light"
     },
     "output_type": "display_data"
    }
   ],
   "source": [
    "plt.plot(x,y)"
   ]
  },
  {
   "cell_type": "code",
   "execution_count": null,
   "metadata": {},
   "outputs": [],
   "source": []
  }
 ],
 "metadata": {
  "kernelspec": {
   "display_name": "Python 3",
   "language": "python",
   "name": "python3"
  },
  "language_info": {
   "codemirror_mode": {
    "name": "ipython",
    "version": 3
   },
   "file_extension": ".py",
   "mimetype": "text/x-python",
   "name": "python",
   "nbconvert_exporter": "python",
   "pygments_lexer": "ipython3",
   "version": "3.6.9"
  },
  "toc": {
   "base_numbering": 1,
   "nav_menu": {
    "height": "252px",
    "width": "297px"
   },
   "number_sections": true,
   "sideBar": true,
   "skip_h1_title": false,
   "title_cell": "Table of Contents",
   "title_sidebar": "Contents",
   "toc_cell": false,
   "toc_position": {},
   "toc_section_display": true,
   "toc_window_display": false
  }
 },
 "nbformat": 4,
 "nbformat_minor": 2
}
