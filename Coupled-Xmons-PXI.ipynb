{
 "cells": [
  {
   "cell_type": "markdown",
   "metadata": {},
   "source": [
    "### Запуск QtLab"
   ]
  },
  {
   "cell_type": "code",
   "execution_count": 1,
   "metadata": {
    "scrolled": true
   },
   "outputs": [
    {
     "name": "stdout",
     "output_type": "stream",
     "text": [
      "Failed loading module AWG500:  No module named 'ftd2xx'\n",
      "Failed loading module Labbrick:  [WinError 126] The specified module could not be found\n",
      "\n",
      "Failed loading module Signal_Hound_SA:  name 'signal_hound_dll' is not defined\n"
     ]
    }
   ],
   "source": [
    "%matplotlib qt5\n",
    "from qsweepy import *\n",
    "from qsweepy.instruments import *\n",
    "from qsweepy.save_pkl import save_pkl\n",
    "import matplotlib.pyplot as plt\n",
    "import numpy as np\n",
    "from matplotlib import interactive\n",
    "interactive(True)"
   ]
  },
  {
   "cell_type": "code",
   "execution_count": null,
   "metadata": {},
   "outputs": [],
   "source": []
  },
  {
   "cell_type": "markdown",
   "metadata": {},
   "source": [
    "# Спектроскопия"
   ]
  },
  {
   "cell_type": "code",
   "execution_count": 2,
   "metadata": {},
   "outputs": [
    {
     "name": "stderr",
     "output_type": "stream",
     "text": [
      "C:\\ProgramData\\Anaconda3\\lib\\site-packages\\pyvisa\\resources\\messagebased.py:573: FutureWarning: ask is deprecated and will be removed in 1.10, use query instead.\n",
      "  '1.10, use query instead.', FutureWarning)\n"
     ]
    }
   ],
   "source": [
    "pna = Agilent_N5242A('pna', address = 'TCPIP0::10.20.61.48::inst0::INSTR')\n",
    "lo1 = Agilent_E8257D('lo1', address = 'TCPIP0::10.20.61.59::inst0::INSTR')"
   ]
  },
  {
   "cell_type": "code",
   "execution_count": 5,
   "metadata": {},
   "outputs": [
    {
     "ename": "VisaIOError",
     "evalue": "VI_ERROR_INTF_NUM_NCONFIG (-1073807195): The interface type is valid but the specified interface number is not configured.",
     "output_type": "error",
     "traceback": [
      "\u001b[1;31m---------------------------------------------------------------------------\u001b[0m",
      "\u001b[1;31mVisaIOError\u001b[0m                               Traceback (most recent call last)",
      "\u001b[1;32m<ipython-input-5-ba69d3184f16>\u001b[0m in \u001b[0;36m<module>\u001b[1;34m()\u001b[0m\n\u001b[1;32m----> 1\u001b[1;33m \u001b[0mcurrent_src1\u001b[0m \u001b[1;33m=\u001b[0m \u001b[0mYokogawa_GS210\u001b[0m\u001b[1;33m(\u001b[0m\u001b[0maddress\u001b[0m \u001b[1;33m=\u001b[0m \u001b[1;34m'GPIB1::1::INSTR'\u001b[0m\u001b[1;33m)\u001b[0m\u001b[1;33m\u001b[0m\u001b[0m\n\u001b[0m\u001b[0;32m      2\u001b[0m \u001b[0mcurrent_src2\u001b[0m \u001b[1;33m=\u001b[0m \u001b[0mYokogawa_GS210\u001b[0m\u001b[1;33m(\u001b[0m\u001b[0maddress\u001b[0m \u001b[1;33m=\u001b[0m \u001b[1;34m'GPIB1::2::INSTR'\u001b[0m\u001b[1;33m)\u001b[0m\u001b[1;33m\u001b[0m\u001b[0m\n",
      "\u001b[1;32mC:\\qsweepy\\instrument_drivers\\Yokogawa_GS200.py\u001b[0m in \u001b[0;36m__init__\u001b[1;34m(self, address, current_compliance)\u001b[0m\n\u001b[0;32m     60\u001b[0m         \u001b[0mself\u001b[0m\u001b[1;33m.\u001b[0m\u001b[0m_address\u001b[0m \u001b[1;33m=\u001b[0m \u001b[0maddress\u001b[0m\u001b[1;33m\u001b[0m\u001b[0m\n\u001b[0;32m     61\u001b[0m         \u001b[0mrm\u001b[0m \u001b[1;33m=\u001b[0m \u001b[0mvisa\u001b[0m\u001b[1;33m.\u001b[0m\u001b[0mResourceManager\u001b[0m\u001b[1;33m(\u001b[0m\u001b[1;33m)\u001b[0m\u001b[1;33m\u001b[0m\u001b[0m\n\u001b[1;32m---> 62\u001b[1;33m         \u001b[0mself\u001b[0m\u001b[1;33m.\u001b[0m\u001b[0m_visainstrument\u001b[0m \u001b[1;33m=\u001b[0m \u001b[0mrm\u001b[0m\u001b[1;33m.\u001b[0m\u001b[0mopen_resource\u001b[0m\u001b[1;33m(\u001b[0m\u001b[0mself\u001b[0m\u001b[1;33m.\u001b[0m\u001b[0m_address\u001b[0m\u001b[1;33m)\u001b[0m\u001b[1;33m\u001b[0m\u001b[0m\n\u001b[0m\u001b[0;32m     63\u001b[0m \u001b[1;33m\u001b[0m\u001b[0m\n\u001b[0;32m     64\u001b[0m         \u001b[0mcurrent_range\u001b[0m \u001b[1;33m=\u001b[0m \u001b[1;33m(\u001b[0m\u001b[1;33m-\u001b[0m\u001b[1;36m200e-3\u001b[0m\u001b[1;33m,\u001b[0m \u001b[1;36m200e-3\u001b[0m\u001b[1;33m)\u001b[0m\u001b[1;33m\u001b[0m\u001b[0m\n",
      "\u001b[1;32mC:\\ProgramData\\Anaconda3\\lib\\site-packages\\pyvisa\\highlevel.py\u001b[0m in \u001b[0;36mopen_resource\u001b[1;34m(self, resource_name, access_mode, open_timeout, resource_pyclass, **kwargs)\u001b[0m\n\u001b[0;32m   1701\u001b[0m \u001b[1;33m\u001b[0m\u001b[0m\n\u001b[0;32m   1702\u001b[0m         \u001b[1;32mif\u001b[0m \u001b[0mresource_pyclass\u001b[0m \u001b[1;32mis\u001b[0m \u001b[1;32mNone\u001b[0m\u001b[1;33m:\u001b[0m\u001b[1;33m\u001b[0m\u001b[0m\n\u001b[1;32m-> 1703\u001b[1;33m             \u001b[0minfo\u001b[0m \u001b[1;33m=\u001b[0m \u001b[0mself\u001b[0m\u001b[1;33m.\u001b[0m\u001b[0mresource_info\u001b[0m\u001b[1;33m(\u001b[0m\u001b[0mresource_name\u001b[0m\u001b[1;33m,\u001b[0m \u001b[0mextended\u001b[0m\u001b[1;33m=\u001b[0m\u001b[1;32mTrue\u001b[0m\u001b[1;33m)\u001b[0m\u001b[1;33m\u001b[0m\u001b[0m\n\u001b[0m\u001b[0;32m   1704\u001b[0m \u001b[1;33m\u001b[0m\u001b[0m\n\u001b[0;32m   1705\u001b[0m             \u001b[1;32mtry\u001b[0m\u001b[1;33m:\u001b[0m\u001b[1;33m\u001b[0m\u001b[0m\n",
      "\u001b[1;32mC:\\ProgramData\\Anaconda3\\lib\\site-packages\\pyvisa\\highlevel.py\u001b[0m in \u001b[0;36mresource_info\u001b[1;34m(self, resource_name, extended)\u001b[0m\n\u001b[0;32m   1661\u001b[0m \u001b[1;33m\u001b[0m\u001b[0m\n\u001b[0;32m   1662\u001b[0m         \u001b[1;32mif\u001b[0m \u001b[0mextended\u001b[0m\u001b[1;33m:\u001b[0m\u001b[1;33m\u001b[0m\u001b[0m\n\u001b[1;32m-> 1663\u001b[1;33m             \u001b[0mret\u001b[0m\u001b[1;33m,\u001b[0m \u001b[0merr\u001b[0m \u001b[1;33m=\u001b[0m \u001b[0mself\u001b[0m\u001b[1;33m.\u001b[0m\u001b[0mvisalib\u001b[0m\u001b[1;33m.\u001b[0m\u001b[0mparse_resource_extended\u001b[0m\u001b[1;33m(\u001b[0m\u001b[0mself\u001b[0m\u001b[1;33m.\u001b[0m\u001b[0msession\u001b[0m\u001b[1;33m,\u001b[0m \u001b[0mresource_name\u001b[0m\u001b[1;33m)\u001b[0m\u001b[1;33m\u001b[0m\u001b[0m\n\u001b[0m\u001b[0;32m   1664\u001b[0m         \u001b[1;32melse\u001b[0m\u001b[1;33m:\u001b[0m\u001b[1;33m\u001b[0m\u001b[0m\n\u001b[0;32m   1665\u001b[0m             \u001b[0mret\u001b[0m\u001b[1;33m,\u001b[0m \u001b[0merr\u001b[0m \u001b[1;33m=\u001b[0m \u001b[0mself\u001b[0m\u001b[1;33m.\u001b[0m\u001b[0mvisalib\u001b[0m\u001b[1;33m.\u001b[0m\u001b[0mparse_resource\u001b[0m\u001b[1;33m(\u001b[0m\u001b[0mself\u001b[0m\u001b[1;33m.\u001b[0m\u001b[0msession\u001b[0m\u001b[1;33m,\u001b[0m \u001b[0mresource_name\u001b[0m\u001b[1;33m)\u001b[0m\u001b[1;33m\u001b[0m\u001b[0m\n",
      "\u001b[1;32mC:\\ProgramData\\Anaconda3\\lib\\site-packages\\pyvisa\\ctwrapper\\functions.py\u001b[0m in \u001b[0;36mparse_resource_extended\u001b[1;34m(library, session, resource_name)\u001b[0m\n\u001b[0;32m   1381\u001b[0m                                 \u001b[0mbyref\u001b[0m\u001b[1;33m(\u001b[0m\u001b[0minterface_board_number\u001b[0m\u001b[1;33m)\u001b[0m\u001b[1;33m,\u001b[0m \u001b[0mresource_class\u001b[0m\u001b[1;33m,\u001b[0m\u001b[1;33m\u001b[0m\u001b[0m\n\u001b[0;32m   1382\u001b[0m                                 \u001b[0munaliased_expanded_resource_name\u001b[0m\u001b[1;33m,\u001b[0m\u001b[1;33m\u001b[0m\u001b[0m\n\u001b[1;32m-> 1383\u001b[1;33m                                 alias_if_exists)\n\u001b[0m\u001b[0;32m   1384\u001b[0m \u001b[1;33m\u001b[0m\u001b[0m\n\u001b[0;32m   1385\u001b[0m     res = [buffer_to_text(val)\n",
      "\u001b[1;32mC:\\ProgramData\\Anaconda3\\lib\\site-packages\\pyvisa\\ctwrapper\\highlevel.py\u001b[0m in \u001b[0;36m_return_handler\u001b[1;34m(self, ret_value, func, arguments)\u001b[0m\n\u001b[0;32m    186\u001b[0m \u001b[1;33m\u001b[0m\u001b[0m\n\u001b[0;32m    187\u001b[0m         \u001b[1;32mif\u001b[0m \u001b[0mret_value\u001b[0m \u001b[1;33m<\u001b[0m \u001b[1;36m0\u001b[0m\u001b[1;33m:\u001b[0m\u001b[1;33m\u001b[0m\u001b[0m\n\u001b[1;32m--> 188\u001b[1;33m             \u001b[1;32mraise\u001b[0m \u001b[0merrors\u001b[0m\u001b[1;33m.\u001b[0m\u001b[0mVisaIOError\u001b[0m\u001b[1;33m(\u001b[0m\u001b[0mret_value\u001b[0m\u001b[1;33m)\u001b[0m\u001b[1;33m\u001b[0m\u001b[0m\n\u001b[0m\u001b[0;32m    189\u001b[0m \u001b[1;33m\u001b[0m\u001b[0m\n\u001b[0;32m    190\u001b[0m         \u001b[1;32mif\u001b[0m \u001b[0mret_value\u001b[0m \u001b[1;32min\u001b[0m \u001b[0mself\u001b[0m\u001b[1;33m.\u001b[0m\u001b[0missue_warning_on\u001b[0m\u001b[1;33m:\u001b[0m\u001b[1;33m\u001b[0m\u001b[0m\n",
      "\u001b[1;31mVisaIOError\u001b[0m: VI_ERROR_INTF_NUM_NCONFIG (-1073807195): The interface type is valid but the specified interface number is not configured."
     ]
    }
   ],
   "source": [
    "current_src1 = Yokogawa_GS210(address = 'GPIB1::1::INSTR')\n",
    "current_src2 = Yokogawa_GS210(address = 'GPIB1::2::INSTR')"
   ]
  },
  {
   "cell_type": "code",
   "execution_count": 3,
   "metadata": {},
   "outputs": [
    {
     "name": "stderr",
     "output_type": "stream",
     "text": [
      "WARNING:root:Tektronix_AWG5014 : get all not yet fully functional\n",
      "C:\\ProgramData\\Anaconda3\\lib\\site-packages\\pyvisa\\resources\\messagebased.py:573: FutureWarning: ask is deprecated and will be removed in 1.10, use query instead.\n",
      "  '1.10, use query instead.', FutureWarning)\n"
     ]
    }
   ],
   "source": [
    "awg_tek = Tektronix_AWG5014('awg_tek', address = 'TCPIP0::10.20.61.186::inst0::INSTR')"
   ]
  },
  {
   "cell_type": "code",
   "execution_count": 4,
   "metadata": {},
   "outputs": [
    {
     "ename": "VisaIOError",
     "evalue": "VI_ERROR_RSRC_NFOUND (-1073807343): Insufficient location information or the requested device or resource is not present in the system.",
     "output_type": "error",
     "traceback": [
      "\u001b[1;31m---------------------------------------------------------------------------\u001b[0m",
      "\u001b[1;31mVisaIOError\u001b[0m                               Traceback (most recent call last)",
      "\u001b[1;32m<ipython-input-4-c0f448f9d114>\u001b[0m in \u001b[0;36m<module>\u001b[1;34m()\u001b[0m\n\u001b[1;32m----> 1\u001b[1;33m \u001b[0mdac\u001b[0m \u001b[1;33m=\u001b[0m \u001b[0mnndac\u001b[0m\u001b[1;33m(\u001b[0m\u001b[1;34m'TCPIP0::10.20.61.12::1000::SOCKET'\u001b[0m\u001b[1;33m)\u001b[0m\u001b[1;33m\u001b[0m\u001b[0m\n\u001b[0m",
      "\u001b[1;32mC:\\qsweepy\\instrument_drivers\\nndac.py\u001b[0m in \u001b[0;36m__init__\u001b[1;34m(self, resource)\u001b[0m\n\u001b[0;32m      7\u001b[0m         \u001b[1;32mdef\u001b[0m \u001b[0m__init__\u001b[0m\u001b[1;33m(\u001b[0m\u001b[0mself\u001b[0m\u001b[1;33m,\u001b[0m \u001b[0mresource\u001b[0m\u001b[1;33m)\u001b[0m\u001b[1;33m:\u001b[0m\u001b[1;33m\u001b[0m\u001b[0m\n\u001b[0;32m      8\u001b[0m                 \u001b[0mself\u001b[0m\u001b[1;33m.\u001b[0m\u001b[0m_resource\u001b[0m \u001b[1;33m=\u001b[0m \u001b[0mresource\u001b[0m\u001b[1;33m\u001b[0m\u001b[0m\n\u001b[1;32m----> 9\u001b[1;33m                 \u001b[0mself\u001b[0m\u001b[1;33m.\u001b[0m\u001b[0m_visainstrument\u001b[0m \u001b[1;33m=\u001b[0m \u001b[0mvisa\u001b[0m\u001b[1;33m.\u001b[0m\u001b[0mResourceManager\u001b[0m\u001b[1;33m(\u001b[0m\u001b[1;33m)\u001b[0m\u001b[1;33m.\u001b[0m\u001b[0mopen_resource\u001b[0m\u001b[1;33m(\u001b[0m\u001b[0mself\u001b[0m\u001b[1;33m.\u001b[0m\u001b[0m_resource\u001b[0m\u001b[1;33m)\u001b[0m\u001b[1;33m\u001b[0m\u001b[0m\n\u001b[0m\u001b[0;32m     10\u001b[0m                 \u001b[0mself\u001b[0m\u001b[1;33m.\u001b[0m\u001b[0m_visainstrument\u001b[0m\u001b[1;33m.\u001b[0m\u001b[0mwrite_termination\u001b[0m \u001b[1;33m=\u001b[0m \u001b[1;34m'\\n'\u001b[0m\u001b[1;33m\u001b[0m\u001b[0m\n\u001b[0;32m     11\u001b[0m                 \u001b[0mself\u001b[0m\u001b[1;33m.\u001b[0m\u001b[0m_visainstrument\u001b[0m\u001b[1;33m.\u001b[0m\u001b[0mread_termination\u001b[0m \u001b[1;33m=\u001b[0m \u001b[1;34m'\\n'\u001b[0m\u001b[1;33m\u001b[0m\u001b[0m\n",
      "\u001b[1;32mC:\\ProgramData\\Anaconda3\\lib\\site-packages\\pyvisa\\highlevel.py\u001b[0m in \u001b[0;36mopen_resource\u001b[1;34m(self, resource_name, access_mode, open_timeout, resource_pyclass, **kwargs)\u001b[0m\n\u001b[0;32m   1722\u001b[0m                 \u001b[1;32mraise\u001b[0m \u001b[0mValueError\u001b[0m\u001b[1;33m(\u001b[0m\u001b[1;34m'%r is not a valid attribute for type %s'\u001b[0m \u001b[1;33m%\u001b[0m \u001b[1;33m(\u001b[0m\u001b[0mkey\u001b[0m\u001b[1;33m,\u001b[0m \u001b[0mres\u001b[0m\u001b[1;33m.\u001b[0m\u001b[0m__class__\u001b[0m\u001b[1;33m.\u001b[0m\u001b[0m__name__\u001b[0m\u001b[1;33m)\u001b[0m\u001b[1;33m)\u001b[0m\u001b[1;33m\u001b[0m\u001b[0m\n\u001b[0;32m   1723\u001b[0m \u001b[1;33m\u001b[0m\u001b[0m\n\u001b[1;32m-> 1724\u001b[1;33m         \u001b[0mres\u001b[0m\u001b[1;33m.\u001b[0m\u001b[0mopen\u001b[0m\u001b[1;33m(\u001b[0m\u001b[0maccess_mode\u001b[0m\u001b[1;33m,\u001b[0m \u001b[0mopen_timeout\u001b[0m\u001b[1;33m)\u001b[0m\u001b[1;33m\u001b[0m\u001b[0m\n\u001b[0m\u001b[0;32m   1725\u001b[0m \u001b[1;33m\u001b[0m\u001b[0m\n\u001b[0;32m   1726\u001b[0m         \u001b[1;32mfor\u001b[0m \u001b[0mkey\u001b[0m\u001b[1;33m,\u001b[0m \u001b[0mvalue\u001b[0m \u001b[1;32min\u001b[0m \u001b[0mkwargs\u001b[0m\u001b[1;33m.\u001b[0m\u001b[0mitems\u001b[0m\u001b[1;33m(\u001b[0m\u001b[1;33m)\u001b[0m\u001b[1;33m:\u001b[0m\u001b[1;33m\u001b[0m\u001b[0m\n",
      "\u001b[1;32mC:\\ProgramData\\Anaconda3\\lib\\site-packages\\pyvisa\\resources\\resource.py\u001b[0m in \u001b[0;36mopen\u001b[1;34m(self, access_mode, open_timeout)\u001b[0m\n\u001b[0;32m    207\u001b[0m         \u001b[0mlogger\u001b[0m\u001b[1;33m.\u001b[0m\u001b[0mdebug\u001b[0m\u001b[1;33m(\u001b[0m\u001b[1;34m'%s - opening ...'\u001b[0m\u001b[1;33m,\u001b[0m \u001b[0mself\u001b[0m\u001b[1;33m.\u001b[0m\u001b[0m_resource_name\u001b[0m\u001b[1;33m,\u001b[0m \u001b[0mextra\u001b[0m\u001b[1;33m=\u001b[0m\u001b[0mself\u001b[0m\u001b[1;33m.\u001b[0m\u001b[0m_logging_extra\u001b[0m\u001b[1;33m)\u001b[0m\u001b[1;33m\u001b[0m\u001b[0m\n\u001b[0;32m    208\u001b[0m         \u001b[1;32mwith\u001b[0m \u001b[0mself\u001b[0m\u001b[1;33m.\u001b[0m\u001b[0m_resource_manager\u001b[0m\u001b[1;33m.\u001b[0m\u001b[0mignore_warning\u001b[0m\u001b[1;33m(\u001b[0m\u001b[0mconstants\u001b[0m\u001b[1;33m.\u001b[0m\u001b[0mVI_SUCCESS_DEV_NPRESENT\u001b[0m\u001b[1;33m)\u001b[0m\u001b[1;33m:\u001b[0m\u001b[1;33m\u001b[0m\u001b[0m\n\u001b[1;32m--> 209\u001b[1;33m             \u001b[0mself\u001b[0m\u001b[1;33m.\u001b[0m\u001b[0msession\u001b[0m\u001b[1;33m,\u001b[0m \u001b[0mstatus\u001b[0m \u001b[1;33m=\u001b[0m \u001b[0mself\u001b[0m\u001b[1;33m.\u001b[0m\u001b[0m_resource_manager\u001b[0m\u001b[1;33m.\u001b[0m\u001b[0mopen_bare_resource\u001b[0m\u001b[1;33m(\u001b[0m\u001b[0mself\u001b[0m\u001b[1;33m.\u001b[0m\u001b[0m_resource_name\u001b[0m\u001b[1;33m,\u001b[0m \u001b[0maccess_mode\u001b[0m\u001b[1;33m,\u001b[0m \u001b[0mopen_timeout\u001b[0m\u001b[1;33m)\u001b[0m\u001b[1;33m\u001b[0m\u001b[0m\n\u001b[0m\u001b[0;32m    210\u001b[0m \u001b[1;33m\u001b[0m\u001b[0m\n\u001b[0;32m    211\u001b[0m             \u001b[1;32mif\u001b[0m \u001b[0mstatus\u001b[0m \u001b[1;33m==\u001b[0m \u001b[0mconstants\u001b[0m\u001b[1;33m.\u001b[0m\u001b[0mVI_SUCCESS_DEV_NPRESENT\u001b[0m\u001b[1;33m:\u001b[0m\u001b[1;33m\u001b[0m\u001b[0m\n",
      "\u001b[1;32mC:\\ProgramData\\Anaconda3\\lib\\site-packages\\pyvisa\\highlevel.py\u001b[0m in \u001b[0;36mopen_bare_resource\u001b[1;34m(self, resource_name, access_mode, open_timeout)\u001b[0m\n\u001b[0;32m   1679\u001b[0m         \u001b[1;33m:\u001b[0m\u001b[1;32mreturn\u001b[0m\u001b[1;33m:\u001b[0m \u001b[0mUnique\u001b[0m \u001b[0mlogical\u001b[0m \u001b[0midentifier\u001b[0m \u001b[0mreference\u001b[0m \u001b[0mto\u001b[0m \u001b[0ma\u001b[0m \u001b[0msession\u001b[0m\u001b[1;33m.\u001b[0m\u001b[1;33m\u001b[0m\u001b[0m\n\u001b[0;32m   1680\u001b[0m         \"\"\"\n\u001b[1;32m-> 1681\u001b[1;33m         \u001b[1;32mreturn\u001b[0m \u001b[0mself\u001b[0m\u001b[1;33m.\u001b[0m\u001b[0mvisalib\u001b[0m\u001b[1;33m.\u001b[0m\u001b[0mopen\u001b[0m\u001b[1;33m(\u001b[0m\u001b[0mself\u001b[0m\u001b[1;33m.\u001b[0m\u001b[0msession\u001b[0m\u001b[1;33m,\u001b[0m \u001b[0mresource_name\u001b[0m\u001b[1;33m,\u001b[0m \u001b[0maccess_mode\u001b[0m\u001b[1;33m,\u001b[0m \u001b[0mopen_timeout\u001b[0m\u001b[1;33m)\u001b[0m\u001b[1;33m\u001b[0m\u001b[0m\n\u001b[0m\u001b[0;32m   1682\u001b[0m \u001b[1;33m\u001b[0m\u001b[0m\n\u001b[0;32m   1683\u001b[0m     def open_resource(self, resource_name,\n",
      "\u001b[1;32mC:\\ProgramData\\Anaconda3\\lib\\site-packages\\pyvisa\\ctwrapper\\functions.py\u001b[0m in \u001b[0;36mopen\u001b[1;34m(library, session, resource_name, access_mode, open_timeout)\u001b[0m\n\u001b[0;32m   1211\u001b[0m     \u001b[1;31m# [ViSession, ViRsrc, ViAccessMode, ViUInt32, ViPSession]\u001b[0m\u001b[1;33m\u001b[0m\u001b[1;33m\u001b[0m\u001b[0m\n\u001b[0;32m   1212\u001b[0m     \u001b[1;31m# ViRsrc converts from (str, unicode, bytes) to bytes\u001b[0m\u001b[1;33m\u001b[0m\u001b[1;33m\u001b[0m\u001b[0m\n\u001b[1;32m-> 1213\u001b[1;33m     \u001b[0mret\u001b[0m \u001b[1;33m=\u001b[0m \u001b[0mlibrary\u001b[0m\u001b[1;33m.\u001b[0m\u001b[0mviOpen\u001b[0m\u001b[1;33m(\u001b[0m\u001b[0msession\u001b[0m\u001b[1;33m,\u001b[0m \u001b[0mresource_name\u001b[0m\u001b[1;33m,\u001b[0m \u001b[0maccess_mode\u001b[0m\u001b[1;33m,\u001b[0m \u001b[0mopen_timeout\u001b[0m\u001b[1;33m,\u001b[0m \u001b[0mbyref\u001b[0m\u001b[1;33m(\u001b[0m\u001b[0mout_session\u001b[0m\u001b[1;33m)\u001b[0m\u001b[1;33m)\u001b[0m\u001b[1;33m\u001b[0m\u001b[0m\n\u001b[0m\u001b[0;32m   1214\u001b[0m     \u001b[1;32mreturn\u001b[0m \u001b[0mout_session\u001b[0m\u001b[1;33m.\u001b[0m\u001b[0mvalue\u001b[0m\u001b[1;33m,\u001b[0m \u001b[0mret\u001b[0m\u001b[1;33m\u001b[0m\u001b[0m\n\u001b[0;32m   1215\u001b[0m \u001b[1;33m\u001b[0m\u001b[0m\n",
      "\u001b[1;32mC:\\ProgramData\\Anaconda3\\lib\\site-packages\\pyvisa\\ctwrapper\\highlevel.py\u001b[0m in \u001b[0;36m_return_handler\u001b[1;34m(self, ret_value, func, arguments)\u001b[0m\n\u001b[0;32m    186\u001b[0m \u001b[1;33m\u001b[0m\u001b[0m\n\u001b[0;32m    187\u001b[0m         \u001b[1;32mif\u001b[0m \u001b[0mret_value\u001b[0m \u001b[1;33m<\u001b[0m \u001b[1;36m0\u001b[0m\u001b[1;33m:\u001b[0m\u001b[1;33m\u001b[0m\u001b[0m\n\u001b[1;32m--> 188\u001b[1;33m             \u001b[1;32mraise\u001b[0m \u001b[0merrors\u001b[0m\u001b[1;33m.\u001b[0m\u001b[0mVisaIOError\u001b[0m\u001b[1;33m(\u001b[0m\u001b[0mret_value\u001b[0m\u001b[1;33m)\u001b[0m\u001b[1;33m\u001b[0m\u001b[0m\n\u001b[0m\u001b[0;32m    189\u001b[0m \u001b[1;33m\u001b[0m\u001b[0m\n\u001b[0;32m    190\u001b[0m         \u001b[1;32mif\u001b[0m \u001b[0mret_value\u001b[0m \u001b[1;32min\u001b[0m \u001b[0mself\u001b[0m\u001b[1;33m.\u001b[0m\u001b[0missue_warning_on\u001b[0m\u001b[1;33m:\u001b[0m\u001b[1;33m\u001b[0m\u001b[0m\n",
      "\u001b[1;31mVisaIOError\u001b[0m: VI_ERROR_RSRC_NFOUND (-1073807343): Insufficient location information or the requested device or resource is not present in the system."
     ]
    }
   ],
   "source": [
    "dac = nndac('TCPIP0::10.20.61.12::1000::SOCKET')"
   ]
  },
  {
   "cell_type": "code",
   "execution_count": null,
   "metadata": {
    "collapsed": true
   },
   "outputs": [],
   "source": [
    "dac.get_voltage(channel=22), dac.get_voltage(channel=23)"
   ]
  },
  {
   "cell_type": "code",
   "execution_count": null,
   "metadata": {
    "collapsed": true
   },
   "outputs": [],
   "source": [
    "sa.get_tracedata()"
   ]
  },
  {
   "cell_type": "code",
   "execution_count": 4,
   "metadata": {},
   "outputs": [
    {
     "data": {
      "text/plain": [
       "True"
      ]
     },
     "execution_count": 4,
     "metadata": {},
     "output_type": "execute_result"
    }
   ],
   "source": [
    "# векторный анализатор в режим линейного свипа\n",
    "pna.set_sweep_mode(\"LIN\")\n"
   ]
  },
  {
   "cell_type": "code",
   "execution_count": 4,
   "metadata": {},
   "outputs": [
    {
     "data": {
      "text/plain": [
       "qsweepy.instrument_drivers._Keysight_M3202A.simple_sync.Keysight_M3202A_S"
      ]
     },
     "execution_count": 4,
     "metadata": {},
     "output_type": "execute_result"
    }
   ],
   "source": [
    "Keysight_M3202A_S"
   ]
  },
  {
   "cell_type": "code",
   "execution_count": 6,
   "metadata": {},
   "outputs": [],
   "source": [
    "CHASSIS = 0\n",
    "SLOT_AWG1 = 4\n",
    "SLOT_AWG2 = 5\n",
    "awg1 = Keysight_M3202A_S('awg1', CHASSIS, SLOT_AWG1)\n",
    "awg2 = Keysight_M3202A_S('awg2', CHASSIS, SLOT_AWG2)"
   ]
  },
  {
   "cell_type": "code",
   "execution_count": 7,
   "metadata": {},
   "outputs": [
    {
     "data": {
      "text/plain": [
       "<qsweepy.instrument_drivers._Keysight_M3202A.simple_sync.Keysight_M3202A_S at 0x2cd9c3d7fd0>"
      ]
     },
     "execution_count": 7,
     "metadata": {},
     "output_type": "execute_result"
    }
   ],
   "source": []
  },
  {
   "cell_type": "code",
   "execution_count": 10,
   "metadata": {},
   "outputs": [
    {
     "name": "stderr",
     "output_type": "stream",
     "text": [
      "C:\\ProgramData\\Anaconda3\\lib\\site-packages\\pyvisa\\resources\\messagebased.py:573: FutureWarning: ask is deprecated and will be removed in 1.10, use query instead.\n",
      "  '1.10, use query instead.', FutureWarning)\n"
     ]
    }
   ],
   "source": [
    "#if not ('pna' in locals()): pna = Agilent_N5242A('pna', address = 'PNA')\n",
    "#if not ('lo1' in locals()): lo1 = Agilent_E8257D('lo1', address = 'PSG1')\n",
    "sa = Agilent_N9030A('pxa', address = 'TCPIP0::10.20.61.56::inst0::INSTR')\n",
    "#sa = Signal_Hound_SA(name='SA124', serial=61660066)\n",
    "#lo_ex = Labbrick(name='lo_ex', serial=15249)\n",
    "lo_ex = lo1\n",
    "lo_ro = pna\n",
    "#lo_ro = Labbrick(name='lo_ro', serial=15257)\n",
    "#awg_tek = Tektronix_AWG5014('awg_tek', address = 'TCPIP0::10.20.61.186::inst0::INSTR')\n",
    "\n",
    "CHASSIS = 0\n",
    "SLOT_IN = 16\n",
    "SLOT_OUT = 7\n",
    "#awg = Keysight_M3202A('awg', CHASSIS, SLOT_OUT)\n",
    "adc = Spectrum_M4i22xx('adc')\n",
    "#awg_adc = \n"
   ]
  },
  {
   "cell_type": "markdown",
   "metadata": {},
   "source": [
    "## Резонаторная спектроскопия"
   ]
  },
  {
   "cell_type": "markdown",
   "metadata": {},
   "source": [
    "### Одномерный скан при фиксированном токе "
   ]
  },
  {
   "cell_type": "code",
   "execution_count": 6,
   "metadata": {},
   "outputs": [
    {
     "data": {
      "text/plain": [
       "[<matplotlib.lines.Line2D at 0xb46eeb8>]"
      ]
     },
     "execution_count": 6,
     "metadata": {},
     "output_type": "execute_result"
    }
   ],
   "source": [
    "pna.set_nop(2001)\n",
    "pna.set_xlim(6e9,7e9)\n",
    "pna.set_power(-40)\n",
    "pna.set_bandwidth(100)\n",
    "s21=pna.get_tracedata()\n",
    "fr=pna.get_freqpoints()\n",
    "#plt.plot(fr[:len(fr)-1],np.unwrap(np.diff(s21[1])))\n",
    "plt.plot(fr[:len(fr)-1],np.diff( np.unwrap(s21[1])))"
   ]
  },
  {
   "cell_type": "code",
   "execution_count": 9,
   "metadata": {},
   "outputs": [],
   "source": [
    "qubit_params = {1: {'Fr': 6.5321e9,\n",
    "                    'F01_min': 4.8e9, \n",
    "                    'Iw_q1c':0.85e-3},\n",
    "                2: {'Fr': 6.6647e9,  \n",
    "                    'F01_min': 4.816e9, \n",
    "                    'Iw_q1c':0.045e-3},\n",
    "                    #'Iw':-2.407e-3},\n",
    "                3: {'Fr': 6.812e9,\n",
    "                    'F01_min': 4.831e9, \n",
    "                    'Iw_q1c':0.5e-3}}\n",
    "qubit_id=3"
   ]
  },
  {
   "cell_type": "code",
   "execution_count": 9,
   "metadata": {},
   "outputs": [
    {
     "ename": "NameError",
     "evalue": "name 'current_src1' is not defined",
     "output_type": "error",
     "traceback": [
      "\u001b[1;31m---------------------------------------------------------------------------\u001b[0m",
      "\u001b[1;31mNameError\u001b[0m                                 Traceback (most recent call last)",
      "\u001b[1;32m<ipython-input-9-6b1be254c4c9>\u001b[0m in \u001b[0;36m<module>\u001b[1;34m()\u001b[0m\n\u001b[1;32m----> 1\u001b[1;33m dc_coils = {'qubit-1-coil-current': {'Imax':2.5e-3, 'setter':current_src1.set_current, 'enable': current_src1.set_status},\n\u001b[0m\u001b[0;32m      2\u001b[0m             \u001b[1;34m'qubit-2-coil-current'\u001b[0m\u001b[1;33m:\u001b[0m \u001b[1;33m{\u001b[0m\u001b[1;34m'Imax'\u001b[0m\u001b[1;33m:\u001b[0m\u001b[1;36m0.28e-3\u001b[0m\u001b[1;33m,\u001b[0m \u001b[1;34m'setter'\u001b[0m\u001b[1;33m:\u001b[0m\u001b[0mcurrent_src2\u001b[0m\u001b[1;33m.\u001b[0m\u001b[0mset_current\u001b[0m\u001b[1;33m,\u001b[0m \u001b[1;34m'enable'\u001b[0m\u001b[1;33m:\u001b[0m \u001b[0mcurrent_src2\u001b[0m\u001b[1;33m.\u001b[0m\u001b[0mset_status\u001b[0m\u001b[1;33m}\u001b[0m\u001b[1;33m,\u001b[0m\u001b[1;33m\u001b[0m\u001b[0m\n\u001b[0;32m      3\u001b[0m             \u001b[1;31m#'qubit-3-coil-voltage': {'Imax':0.17,\u001b[0m\u001b[1;33m\u001b[0m\u001b[1;33m\u001b[0m\u001b[0m\n\u001b[0;32m      4\u001b[0m             \u001b[1;31m#                 'setter':lambda x: awg_tek.set_offset(x, channel=1),\u001b[0m\u001b[1;33m\u001b[0m\u001b[1;33m\u001b[0m\u001b[0m\n\u001b[0;32m      5\u001b[0m             \u001b[1;31m#                 'enable':lambda x: awg_tek.set_output(x, channel=1)}\u001b[0m\u001b[1;33m\u001b[0m\u001b[1;33m\u001b[0m\u001b[0m\n",
      "\u001b[1;31mNameError\u001b[0m: name 'current_src1' is not defined"
     ]
    }
   ],
   "source": [
    "dc_coils = {'qubit-1-coil-current': {'Imax':2.5e-3, 'setter':current_src1.set_current, 'enable': current_src1.set_status},\n",
    "            'qubit-2-coil-current': {'Imax':0.28e-3, 'setter':current_src2.set_current, 'enable': current_src2.set_status},\n",
    "            #'qubit-3-coil-voltage': {'Imax':0.17, \n",
    "            #                 'setter':lambda x: awg_tek.set_offset(x, channel=1), \n",
    "            #                 'enable':lambda x: awg_tek.set_output(x, channel=1)}\n",
    "            }"
   ]
  },
  {
   "cell_type": "code",
   "execution_count": 5,
   "metadata": {},
   "outputs": [],
   "source": [
    "#канал1\n",
    "qubit_params = {1: {'Fr': 6.652e9,\n",
    "                    'F01_min': 5.12432e9, \n",
    "                    'Iw':1.71383e-3},\n",
    "                2: {\"Fr\": 6.8037e9,\n",
    "                    'F01_min': 4.4174e9, \n",
    "                    'Iw':-2.2519e-3}}\n",
    "qubit_id=1"
   ]
  },
  {
   "cell_type": "code",
   "execution_count": 11,
   "metadata": {},
   "outputs": [],
   "source": [
    "#for max freq\n",
    "qubit_params = {1: {'Fr': 6.508e9,\n",
    "                    'F01_min': 5.826e9,\n",
    "                    'Iw':-0.10e-3},\n",
    "                2: {\"Fr\": 6.657e9,\n",
    "                    'F01_min': 4.4174e9,\n",
    "                    'Iw':-0.0375e-3},\n",
    "                3: {\"Fr\": 6.810e9,\n",
    "                    'F01_min': 4.4174e9,\n",
    "                    'Iw':0.01573e-3}}\n",
    "qubit_id=1"
   ]
  },
  {
   "cell_type": "code",
   "execution_count": 10,
   "metadata": {},
   "outputs": [],
   "source": [
    "#канал5 for min freq\n",
    "qubit_params = {1: {'Fr': 6.5113e9,#3\n",
    "                    'F01_min': 4.825e9,\n",
    "                    'Iw':0.094e-3},\n",
    "                2: {\"Fr\": 6.657e9,\n",
    "                    'F01_min': 4.4174e9,\n",
    "                    'Iw':-0.0375e-3},\n",
    "                3: {\"Fr\": 6.810e9,\n",
    "                    'F01_min': 4.4174e9,\n",
    "                    'Iw' :0.01573e-3}}\n",
    "qubit_id=1"
   ]
  },
  {
   "cell_type": "markdown",
   "metadata": {},
   "source": [
    "## Кубитная спектроскопия"
   ]
  },
  {
   "cell_type": "code",
   "execution_count": 13,
   "metadata": {},
   "outputs": [
    {
     "ename": "NameError",
     "evalue": "name 'awg' is not defined",
     "output_type": "error",
     "traceback": [
      "\u001b[1;31m---------------------------------------------------------------------------\u001b[0m",
      "\u001b[1;31mNameError\u001b[0m                                 Traceback (most recent call last)",
      "\u001b[1;32m<ipython-input-13-7681e5963b2a>\u001b[0m in \u001b[0;36m<module>\u001b[1;34m()\u001b[0m\n\u001b[0;32m      6\u001b[0m \u001b[1;32mfor\u001b[0m \u001b[0mchannel\u001b[0m \u001b[1;32min\u001b[0m \u001b[0mrange\u001b[0m\u001b[1;33m(\u001b[0m\u001b[1;36m0\u001b[0m\u001b[1;33m,\u001b[0m\u001b[1;36m4\u001b[0m\u001b[1;33m)\u001b[0m\u001b[1;33m:\u001b[0m\u001b[1;33m\u001b[0m\u001b[0m\n\u001b[0;32m      7\u001b[0m \u001b[1;31m#for channel in range(1,5):\u001b[0m\u001b[1;33m\u001b[0m\u001b[1;33m\u001b[0m\u001b[0m\n\u001b[1;32m----> 8\u001b[1;33m     \u001b[0mawg\u001b[0m\u001b[1;33m.\u001b[0m\u001b[0mset_amplitude\u001b[0m\u001b[1;33m(\u001b[0m\u001b[1;36m.2\u001b[0m\u001b[1;33m,\u001b[0m \u001b[0mchannel\u001b[0m\u001b[1;33m=\u001b[0m\u001b[0mchannel\u001b[0m\u001b[1;33m)\u001b[0m\u001b[1;33m\u001b[0m\u001b[0m\n\u001b[0m\u001b[0;32m      9\u001b[0m     \u001b[0mawg\u001b[0m\u001b[1;33m.\u001b[0m\u001b[0mset_offset\u001b[0m\u001b[1;33m(\u001b[0m\u001b[1;36m0.2\u001b[0m\u001b[1;33m,\u001b[0m \u001b[0mchannel\u001b[0m\u001b[1;33m=\u001b[0m\u001b[0mchannel\u001b[0m\u001b[1;33m)\u001b[0m\u001b[1;33m\u001b[0m\u001b[0m\n\u001b[0;32m     10\u001b[0m     \u001b[0mawg\u001b[0m\u001b[1;33m.\u001b[0m\u001b[0mset_output\u001b[0m\u001b[1;33m(\u001b[0m\u001b[1;36m1\u001b[0m\u001b[1;33m,\u001b[0m \u001b[0mchannel\u001b[0m\u001b[1;33m=\u001b[0m\u001b[0mchannel\u001b[0m\u001b[1;33m)\u001b[0m\u001b[1;33m\u001b[0m\u001b[0m\n",
      "\u001b[1;31mNameError\u001b[0m: name 'awg' is not defined"
     ]
    }
   ],
   "source": [
    "# когда спектроскопия не рабтает и всё плохо, тыкай сюды!\n",
    "# вектнй анлизатр цепей - в режим свипа по частоте\n",
    "pna.set_sweep_mode(\"LIN\")\n",
    "# смесители - открыть\n",
    "#awg_tek = awg\n",
    "for channel in range(0,4):\n",
    "#for channel in range(1,5):\n",
    "    awg.set_amplitude(.2, channel=channel)\n",
    "    awg.set_offset(0.2, channel=channel)\n",
    "    awg.set_output(1, channel=channel)\n",
    "    awg.set_waveform(waveform=[0]*awg.get_nop(), channel=channel)\n",
    "# awg_tek=awg    \n",
    "# Задаём постояннmtые смещения на каналы 1 и 3\n",
    "# awg_tek.set_waveform([0]*awg_tek.get_nop(), channel=1)\n",
    "# awg_tek.set_waveform([0]*awg_tek.get_nop(), channel=2)\n",
    "# awg_tek.set_waveform([0]*awg_tek.get_nop(), channel=3)\n",
    "# awg_tek.set_waveform([0]*awg_tek.get_nop(), channel=4)"
   ]
  },
  {
   "cell_type": "code",
   "execution_count": null,
   "metadata": {
    "collapsed": true
   },
   "outputs": [],
   "source": [
    "def curr(current):\n",
    "    lo1.set_status(0)\n",
    "    pna.set_average(0)\n",
    "    pna.set_power(-10)\n",
    "    pna.set_nop(1001)\n",
    "    dfr=0.05e9\n",
    "    pna.set_xlim(qubit_params[qubit_id]['Fr']-dfr,  qubit_params[qubit_id]['Fr']+dfr)\n",
    "    pna.set_bandwidth(200)\n",
    "    current_src1.set_current(current)\n",
    "    S21   = pna.get_tracedata()\n",
    "    freqs = pna.get_freqpoints()\n",
    "    pna.set_bandwidth(resolution_bw)\n",
    "    pna.set_power(tone1_power)\n",
    "    pna.set_nop(1)\n",
    "    pna.set_xlim(freqs[np.argmin(S21[0])]-0.2e6,freqs[np.argmin(S21[0])]-0.2e6)\n",
    "    lo1.set_status(1)\n",
    "    print (freqs[np.argmin(S21[0])])"
   ]
  },
  {
   "cell_type": "code",
   "execution_count": null,
   "metadata": {
    "collapsed": true
   },
   "outputs": [],
   "source": [
    "#dac.set_voltage(channel=22, value=0.)\n",
    "#dac.set_voltage(channel=23, value=1.)"
   ]
  },
  {
   "cell_type": "code",
   "execution_count": 9,
   "metadata": {
    "collapsed": true
   },
   "outputs": [],
   "source": [
    "def antiadfdfa(data):\n",
    "    from scipy import ndimage\n",
    "    S21=data['S-parameter'][2]\n",
    "    freqs = data['S-parameter'][1][1]\n",
    "    curr= data['S-parameter'][1][0]\n",
    "    min0=100\n",
    "    ind=-1\n",
    "    f = np.angle(S21[0:])\n",
    "    f_u = np.unwrap(f)\n",
    "    for i in range(5,40):\n",
    "        f_u_span = np.median(f_u[:,-1]-f_u[:,0])+2*np.pi*(i/10)\n",
    "        S21_c = S21[0:]*np.exp(-1j*np.linspace(0, f_u_span, len(f[0,:])))\n",
    "        a = ndimage.sobel(np.angle(S21_c))\n",
    "        if(min0>np.max(a)):\n",
    "            min0=np.max(a)\n",
    "            ind=i    \n",
    "    print(ind/10)\n",
    "    f_u_span = np.median(f_u[:,-1]-f_u[:,0])+2*np.pi*(1)\n",
    "    S21_c = S21[0:]*np.exp(-1j*np.linspace(0, f_u_span, len(f[0,:])))\n",
    "    plt.figure(1)\n",
    "    plt.pcolormesh(curr,freqs,np.angle(S21_c).T,cmap='RdBu_r')\n",
    "    plt.colorbar()\n",
    "    plt.show()\n",
    "    plt.figure(2)\n",
    "    plt.pcolormesh(curr,freqs,np.abs(S21_c).T,cmap='RdBu_r')\n",
    "    plt.colorbar()\n",
    "    plt.show()\n",
    "    plt.figure(3)\n",
    "    plt.imshow(np.rot90(ndimage.sobel(np.angle(S21_c))))\n",
    "    plt.colorbar()\n",
    "    plt.show()\n",
    "    return S21_c"
   ]
  },
  {
   "cell_type": "code",
   "execution_count": 88,
   "metadata": {},
   "outputs": [
    {
     "name": "stdout",
     "output_type": "stream",
     "text": [
      "1.1\n"
     ]
    }
   ],
   "source": [
    "q=anti(result)"
   ]
  },
  {
   "cell_type": "code",
   "execution_count": 10,
   "metadata": {
    "collapsed": true
   },
   "outputs": [],
   "source": [
    "qubit_id =1\n",
    "nop=301\n",
    "resolution_bw=10\n",
    "#tone1_power=-45\n",
    "tone1_power=-50\n",
    "cur_nop=101\n",
    "tone2_power=-5"
   ]
  },
  {
   "cell_type": "code",
   "execution_count": 10,
   "metadata": {},
   "outputs": [
    {
     "data": {
      "text/plain": [
       "True"
      ]
     },
     "execution_count": 10,
     "metadata": {},
     "output_type": "execute_result"
    }
   ],
   "source": [
    "current_src1.set_range(1e-2)\n",
    "current_src2.set_range(1e-3)"
   ]
  },
  {
   "cell_type": "code",
   "execution_count": null,
   "metadata": {
    "collapsed": true
   },
   "outputs": [],
   "source": [
    "awg_tek.set_status(0,channel=1)"
   ]
  },
  {
   "cell_type": "code",
   "execution_count": null,
   "metadata": {
    "collapsed": true,
    "scrolled": true
   },
   "outputs": [],
   "source": [
    "dc_coils['qubit-1-coil-current']['setter'](0.4e-3)"
   ]
  },
  {
   "cell_type": "code",
   "execution_count": 57,
   "metadata": {},
   "outputs": [
    {
     "data": {
      "text/plain": [
       "6664700000.0"
      ]
     },
     "execution_count": 57,
     "metadata": {},
     "output_type": "execute_result"
    }
   ],
   "source": [
    "qubit_params[qubit_id]['Fr']"
   ]
  },
  {
   "cell_type": "code",
   "execution_count": 83,
   "metadata": {
    "collapsed": true
   },
   "outputs": [],
   "source": [
    "qubit_id=3"
   ]
  },
  {
   "cell_type": "markdown",
   "metadata": {},
   "source": [
    "Ivan script for finding the centers"
   ]
  },
  {
   "cell_type": "code",
   "execution_count": 86,
   "metadata": {
    "collapsed": true
   },
   "outputs": [],
   "source": [
    "def anti(data):\n",
    "    from scipy import ndimage\n",
    "    S21=data['S-parameter'][2]\n",
    "    freqs = data['S-parameter'][1][1]\n",
    "    curr= data['S-parameter'][1][0]\n",
    "    min0=100\n",
    "    ind=-1\n",
    "    f = np.angle(S21)\n",
    "    f_u = np.unwrap(f)\n",
    "    for i in range(5,30):\n",
    "        f_u_span = np.median(f_u[:,-1]-f_u[:,0])+2*np.pi*(i/10)\n",
    "        S21_c = S21*np.exp(-1j*np.linspace(0, f_u_span, len(f[0,:])))\n",
    "        a = ndimage.sobel(np.angle(S21_c))\n",
    "        if(min0>np.max(a)):\n",
    "            min0=np.max(a)\n",
    "            ind=i    \n",
    "    print(ind/10)\n",
    "    f_u_span = np.median(f_u[:,-1]-f_u[:,0])+2*np.pi*(ind/10)\n",
    "    S21_c = S21[0:]*np.exp(-1j*np.linspace(0, f_u_span, len(f[0,:])))\n",
    "    plt.figure(1)\n",
    "    plt.pcolormesh(curr,freqs,np.angle(S21_c).T,cmap='RdBu_r')\n",
    "    plt.colorbar()\n",
    "    plt.show()\n",
    "    plt.figure(2)\n",
    "    plt.imshow(np.rot90(ndimage.sobel(np.angle(S21_c))))\n",
    "    plt.colorbar()\n",
    "    plt.show()\n",
    "    plt.figure(3)\n",
    "    plt.pcolormesh(curr,freqs,np.abs(S21).T,cmap='RdBu_r')\n",
    "    plt.colorbar()\n",
    "    plt.show()\n",
    "    return S21_c\n",
    "\n",
    "def find_where(x,a,curr):\n",
    "    freq_curr=[]\n",
    "    for i in range(len(x)):\n",
    "        if x[i]==a:\n",
    "            freq_curr.append([curr[i],a])\n",
    "    return freq_curr\n",
    "\n",
    "def find_2_fr(z):\n",
    "    low_fr=z[-1][0]\n",
    "    high_fr=0\n",
    "    for i in range(len(z)-1,0,-1):\n",
    "        if(z[i][0]-low_fr)>1e6:\n",
    "            high_fr=z[i][0]\n",
    "            break\n",
    "    return high_fr\n",
    "\n",
    "def choose_data (we,curr):\n",
    "    we_norm=[]\n",
    "    curr_norm=[]\n",
    "    for i in range(len(we)-1):\n",
    "        dif=np.abs(we[i]-we[i+1])/1e5\n",
    "        if dif<3:\n",
    "            we_norm.append(we[i])\n",
    "            curr_norm.append(curr[i])\n",
    "    return curr_norm,we_norm \n",
    "\n",
    "def SortByCount(a):\n",
    "    return a[1]\n",
    "\n",
    "def find_smth(S21_c,curr,freqs):\n",
    "    we=[]\n",
    "    for g in range(len(curr)):\n",
    "        y=np.diff(np.angle(S21_c[g]))\n",
    "        we.append(freqs[np.argmax(y)])\n",
    "    curr,we=choose_data(we,curr)\n",
    "    z=[[x, we.count(x)] for x in set(we)]\n",
    "    z.sort()\n",
    "    z.sort(key=SortByCount)\n",
    "    line1 = z[-1][0]*np.ones(len(curr))\n",
    "    line2 = find_2_fr(z)*np.ones(len(curr))\n",
    "#     plt.plot(curr,we,'ro',linewidth=0.1)\n",
    "#     plt.plot(curr,line1)\n",
    "#     plt.plot(curr,line2)\n",
    "#     plt.show()\n",
    "    return we,line1[0],line2[0],curr,z\n",
    "\n",
    "def find_max_min(curr_seq):\n",
    "    median=[]\n",
    "    group_freq=[]\n",
    "    for group in range(len(curr_seq)):\n",
    "        freq1=curr_seq[group][0][1]\n",
    "        curr_freq_1=[ curr_seq[group][i][0] for i in range(len(curr_seq[group]))]\n",
    "        median.append((curr_freq_1[0]+curr_freq_1[-1])/2)\n",
    "        group_freq.append(freq1)\n",
    "    return median,group_freq\n",
    "\n",
    "def split_current(we,fr1,fr2,curr_new):\n",
    "    curr1,curr2 =find_where(we,fr1,curr_new),find_where(we,fr2,curr_new)\n",
    "    curr_fr=curr2+curr1\n",
    "    curr_fr.sort()\n",
    "    fr_init=curr_fr[0][1]\n",
    "    ind=0\n",
    "    curr_seq=[]\n",
    "    for i in range(len(curr_fr)):\n",
    "        if curr_fr[i][1]!=fr_init:\n",
    "            fr_init=curr_fr[i][1]\n",
    "            curr_seq.append(curr_fr[ind:i])\n",
    "            ind=i\n",
    "    if (len(curr_fr)-ind)>1:\n",
    "        curr_seq.append(curr_fr[ind:len(curr_fr)])\n",
    "    list_of_remove=[]\n",
    "    for i in range(len(curr_seq)-1,-1,-1):\n",
    "        if len(curr_seq[i])<3 :\n",
    "            list_of_remove.append(i)\n",
    "    for i in list_of_remove:\n",
    "        curr_seq.remove(curr_seq[i])\n",
    "    return curr_seq"
   ]
  },
  {
   "cell_type": "code",
   "execution_count": null,
   "metadata": {
    "collapsed": true
   },
   "outputs": [],
   "source": []
  },
  {
   "cell_type": "code",
   "execution_count": 87,
   "metadata": {},
   "outputs": [
    {
     "name": "stdout",
     "output_type": "stream",
     "text": [
      "1.1\n"
     ]
    }
   ],
   "source": [
    "S21_c=anti(result)"
   ]
  },
  {
   "cell_type": "code",
   "execution_count": 88,
   "metadata": {
    "collapsed": true
   },
   "outputs": [],
   "source": [
    "we,fr1,fr2,curr_new=find_smth(S21_c,result['S-parameter'][1][0],result['S-parameter'][1][1])[:4]"
   ]
  },
  {
   "cell_type": "code",
   "execution_count": 89,
   "metadata": {},
   "outputs": [
    {
     "data": {
      "text/plain": [
       "{0: {'curr': -0.00088999999999999995, 'freq': 6812700000.0},\n",
       " 1: {'curr': 0.00049500000000000021, 'freq': 6808400000.0}}"
      ]
     },
     "execution_count": 89,
     "metadata": {},
     "output_type": "execute_result"
    }
   ],
   "source": [
    "curr_seq=split_current(we,fr1,fr2,curr_new)\n",
    "middle_curr,middle_freq=find_max_min(curr_seq)\n",
    "centers={i: {'curr':middle_curr[i], \"freq\":middle_freq[i]} for i in range(len(curr_seq))}\n",
    "plt.plot(middle_curr,middle_freq,'go')\n",
    "for i in range(len(centers)):\n",
    "    plt.annotate('{}'.format(i), xy=(middle_curr[i],middle_freq[i]+5e5),\n",
    "                 xytext=(middle_curr[i], middle_freq[i]+3e6),\n",
    "                arrowprops=dict(facecolor='black', width=0.05,headwidth=5))\n",
    "plt.show()\n",
    "centers"
   ]
  },
  {
   "cell_type": "code",
   "execution_count": 81,
   "metadata": {},
   "outputs": [
    {
     "data": {
      "text/plain": [
       "{0: {'curr': -0.00088999999999999995, 'freq': 6812700000.0},\n",
       " 1: {'curr': 0.00049500000000000021, 'freq': 6808400000.0}}"
      ]
     },
     "execution_count": 81,
     "metadata": {},
     "output_type": "execute_result"
    }
   ],
   "source": [
    "#nums_to_delete_from_dict=[]\n",
    "#centers.pop(nums_to_delete_from_dict)\n",
    "centers"
   ]
  },
  {
   "cell_type": "markdown",
   "metadata": {},
   "source": [
    "Finish"
   ]
  },
  {
   "cell_type": "markdown",
   "metadata": {},
   "source": [
    "для плавного выставления токов"
   ]
  },
  {
   "cell_type": "code",
   "execution_count": 13,
   "metadata": {
    "collapsed": true
   },
   "outputs": [],
   "source": [
    "def set_curr_start(init_curr,curr_src):\n",
    "    last_curr=0\n",
    "    curr_range=np.linspace(last_curr,init_curr,100)\n",
    "    for i in curr_range:\n",
    "        curr_src.set_current(i)\n",
    "        time.sleep(0.1)\n",
    "def set_curr_finish(curr_src):\n",
    "    last_curr=0\n",
    "    init_curr=curr_src.get_current()\n",
    "    curr_range=np.linspace(init_curr,last_curr,100)\n",
    "    for i in curr_range:\n",
    "        curr_src.set_current(i)\n",
    "        time.sleep(0.2)"
   ]
  },
  {
   "cell_type": "code",
   "execution_count": 121,
   "metadata": {
    "collapsed": true
   },
   "outputs": [],
   "source": [
    "current_src2.set_status(1)\n",
    "current_src2.set_range(1e-2)\n",
    "#set_curr_finish(current_src2)\n",
    "set_curr_start(80e-6,current_src2)"
   ]
  },
  {
   "cell_type": "code",
   "execution_count": 159,
   "metadata": {},
   "outputs": [
    {
     "data": {
      "text/plain": [
       "True"
      ]
     },
     "execution_count": 159,
     "metadata": {},
     "output_type": "execute_result"
    }
   ],
   "source": [
    "current_src2.set_status(1)"
   ]
  },
  {
   "cell_type": "code",
   "execution_count": 160,
   "metadata": {
    "collapsed": true
   },
   "outputs": [],
   "source": [
    "set_curr_start(-9.3e-5,current_src2)"
   ]
  },
  {
   "cell_type": "code",
   "execution_count": 14,
   "metadata": {},
   "outputs": [
    {
     "data": {
      "text/plain": [
       "0.0"
      ]
     },
     "execution_count": 14,
     "metadata": {},
     "output_type": "execute_result"
    }
   ],
   "source": [
    "current_src2.get_current()"
   ]
  },
  {
   "cell_type": "code",
   "execution_count": 43,
   "metadata": {
    "collapsed": true
   },
   "outputs": [],
   "source": [
    "qubit_id=3"
   ]
  },
  {
   "cell_type": "code",
   "execution_count": 163,
   "metadata": {},
   "outputs": [
    {
     "data": {
      "text/plain": [
       "1"
      ]
     },
     "execution_count": 163,
     "metadata": {},
     "output_type": "execute_result"
    }
   ],
   "source": [
    "current_src2.get_status()"
   ]
  },
  {
   "cell_type": "code",
   "execution_count": 44,
   "metadata": {
    "scrolled": true
   },
   "outputs": [
    {
     "data": {
      "application/vnd.jupyter.widget-view+json": {
       "model_id": "cc6360c6794142c4b9a0abb5e6d0abe2"
      }
     },
     "metadata": {},
     "output_type": "display_data"
    },
    {
     "name": "stdout",
     "output_type": "stream",
     "text": [
      "Started at:  Jun 13 2018 17:27:48\n",
      "\n",
      "Elapsed time: 0 h 11 m 6.13 s\n"
     ]
    },
    {
     "data": {
      "text/plain": [
       "True"
      ]
     },
     "execution_count": 44,
     "metadata": {},
     "output_type": "execute_result"
    }
   ],
   "source": [
    "#Anti-Crossing coil 1\n",
    "current_src1.set_status(1)\n",
    "current_src1.set_range(1e-2)\n",
    "lo1.set_status(0)\n",
    "pna.set_power(tone1_power)\n",
    "pna.set_nop(201)\n",
    "pna.set_bandwidth(200)\n",
    "current_max=2.e-3#qubit_params[qubit_id]['Iw_q1c']\n",
    "current_nop = 401\n",
    "currents=np.linspace(-current_max,current_max,current_nop)\n",
    "set_curr_start(currents[0],current_src1)\n",
    "pna.set_xlim(qubit_params[qubit_id]['Fr']-15e6,qubit_params[qubit_id]['Fr']+5e6)\n",
    "result = sweep.sweep(pna, \n",
    "                    (currents, current_src1.set_current, 'Coil #{} current,qubit{}'.format(1,qubit_id)), \n",
    "                    filename='Coil 1 anticrossings qubit {} Icoil_3 {}'.format(qubit_id,current_src2.get_current()),\n",
    "                    bot=(True,10))\n",
    "set_curr_finish(current_src1)\n",
    "set_curr_finish(current_src2)\n",
    "current_src1.set_status(0)\n",
    "current_src2.set_status(0)"
   ]
  },
  {
   "cell_type": "code",
   "execution_count": 283,
   "metadata": {
    "collapsed": true
   },
   "outputs": [],
   "source": [
    "current_src2.set_status(1)\n",
    "current_src2.set_range(1e-3)\n",
    "set_curr(0.2e-3,current_src1)"
   ]
  },
  {
   "cell_type": "code",
   "execution_count": 84,
   "metadata": {},
   "outputs": [
    {
     "data": {
      "text/plain": [
       "True"
      ]
     },
     "execution_count": 84,
     "metadata": {},
     "output_type": "execute_result"
    }
   ],
   "source": [
    "current_src2.set_current(0)\n",
    "current_src1.set_current(0)"
   ]
  },
  {
   "cell_type": "code",
   "execution_count": 26,
   "metadata": {
    "collapsed": true
   },
   "outputs": [],
   "source": [
    "qubit_id=1"
   ]
  },
  {
   "cell_type": "code",
   "execution_count": 79,
   "metadata": {},
   "outputs": [
    {
     "data": {
      "text/plain": [
       "0.0"
      ]
     },
     "execution_count": 79,
     "metadata": {},
     "output_type": "execute_result"
    }
   ],
   "source": [
    "current_src2.get_current()"
   ]
  },
  {
   "cell_type": "code",
   "execution_count": 74,
   "metadata": {},
   "outputs": [
    {
     "data": {
      "text/plain": [
       "-50"
      ]
     },
     "execution_count": 74,
     "metadata": {},
     "output_type": "execute_result"
    }
   ],
   "source": [
    "tone1_power\n"
   ]
  },
  {
   "cell_type": "code",
   "execution_count": 39,
   "metadata": {},
   "outputs": [
    {
     "data": {
      "application/vnd.jupyter.widget-view+json": {
       "model_id": "8f661bbed1bf47e48a699332afc4f0f9"
      }
     },
     "metadata": {},
     "output_type": "display_data"
    },
    {
     "name": "stdout",
     "output_type": "stream",
     "text": [
      "Started at:  Jun 13 2018 17:15:54\n",
      "\n",
      "Elapsed time: 0 h 2 m 10.87 s\n"
     ]
    },
    {
     "data": {
      "text/plain": [
       "True"
      ]
     },
     "execution_count": 39,
     "metadata": {},
     "output_type": "execute_result"
    }
   ],
   "source": [
    "#Anti-Crossing coil 3\n",
    "current_src2.set_status(1)\n",
    "current_src2.set_range(1e-3)\n",
    "lo1.set_status(0)\n",
    "pna.set_power(tone1_power)\n",
    "pna.set_nop(201)\n",
    "pna.set_bandwidth(200)\n",
    "current_max=0.18e-3\n",
    "current_nop = 81\n",
    "currents=np.linspace(current_max-0.04e-3,current_max+0.04e-3,current_nop)\n",
    "set_curr_start(currents[0],current_src2)\n",
    "pna.set_xlim(qubit_params[qubit_id]['Fr']-10e6,qubit_params[qubit_id]['Fr']+10e6)\n",
    "result = sweep.sweep(pna, \n",
    "                    (currents, current_src2.set_current, 'Coil #{} current,qubit{}'.format(3,qubit_id)), \n",
    "                    filename='Coil anticrossings qubit {} Icoil1 {}'.format(qubit_id,current_src1.get_current()),\n",
    "                    bot=(True,10))\n",
    "\n",
    "set_curr_finish(current_src1)\n",
    "set_curr_finish(current_src2)\n",
    "current_src1.set_status(0)\n",
    "current_src2.set_status(0)"
   ]
  },
  {
   "cell_type": "code",
   "execution_count": 62,
   "metadata": {
    "collapsed": true
   },
   "outputs": [],
   "source": [
    "set_curr_finish(current_src2)"
   ]
  },
  {
   "cell_type": "code",
   "execution_count": 226,
   "metadata": {},
   "outputs": [
    {
     "data": {
      "text/plain": [
       "True"
      ]
     },
     "execution_count": 226,
     "metadata": {},
     "output_type": "execute_result"
    }
   ],
   "source": [
    "current_src2.set_status(0)"
   ]
  },
  {
   "cell_type": "code",
   "execution_count": 86,
   "metadata": {},
   "outputs": [
    {
     "name": "stdout",
     "output_type": "stream",
     "text": [
      "1.1\n"
     ]
    }
   ],
   "source": [
    "q=anti(result)"
   ]
  },
  {
   "cell_type": "code",
   "execution_count": null,
   "metadata": {
    "collapsed": true
   },
   "outputs": [],
   "source": [
    "#dc_coils['qubit-1-coil-current']['default'] = 0.0e-3\n",
    "#dc_coils['qubit-2-coil-current']['default'] = 0.0e-3\n",
    "\n",
    "for coil_name, dc_control in dc_coils.items():\n",
    "    dc_control['enable'](0)\n",
    "\n",
    "spectra = {}    \n",
    "for qubit_id in [2]:\n",
    "#current_src1.set_status(1)\n",
    "    #current_src1.set_range(1e-2)\n",
    "    lo1.set_status(0)\n",
    "    #lo2.set_status(0)\n",
    "    pna.set_power(tone1_power)\n",
    "    pna.set_nop(101)\n",
    "    pna.set_bandwidth(200)\n",
    "    #coil_channel_id = 23\n",
    "    current_max=0.2e-3\n",
    "    #voltage_max=4\n",
    "    current_nop = 101\n",
    "    currents=np.linspace(-current_max,current_max,current_nop)\n",
    "    #voltages=np.linspace(-voltage_max,voltage_max,current_nop)\n",
    "    pna.set_xlim(qubit_params[qubit_id]['Fr']-25e6,qubit_params[qubit_id]['Fr']+25e6)\n",
    "    #voltage_setter = lambda x: dac.set_voltage(channel=coil_channel_id, value=x)\n",
    "    #for coil_name, dc_control in {'qubit_3_coil_current':current_src1}.items():\n",
    "    spectra[qubit_id] = {}\n",
    "    for coil_name, dc_control in dc_coils.items():\n",
    "        for coil_name2, dc_control2 in dc_coils.items():\n",
    "            if 'default' in dc_control2:\n",
    "                dc_control2['setter'](dc_control2['default'])\n",
    "                dc_control2['enable'](1)\n",
    "            else:\n",
    "                dc_control2['enable'](0)\n",
    "        dc_control['enable'](1)\n",
    "        currents=np.linspace(-dc_control['Imax'],dc_control['Imax'],current_nop)\n",
    "        spectra[qubit_id][coil_name] = sweep.sweep(pna, \n",
    "                             (currents, dc_control['setter'], coil_name), \n",
    "                             filename='anticrossings qubit {} {}'.format(qubit_id, coil_name))\n",
    "        dc_control['enable'](0)\n",
    "    #result = sweep.sweep(pna, \n",
    "    #                     (voltages, voltage_setter, 'Coil #{} voltage'.format(coil_channel_id)), \n",
    "    #                     filename='anticrossings coil #{} qubit {}'.format(coil_channel_id, qubit_id))"
   ]
  },
  {
   "cell_type": "code",
   "execution_count": null,
   "metadata": {
    "collapsed": true
   },
   "outputs": [],
   "source": [
    "spectra = {1:{'qubit-1-coil-current':load_pkl('23-03-05-anticrossings qubit 1 qubit-1-coil-current', \n",
    "                      location=r'C:\\Users\\demouser\\Desktop\\Quantum\\Data\\2018-06-08\\23-03-05-anticrossings qubit 1 qubit-1-coil-current')[1],\n",
    "              'qubit-2-coil-current':load_pkl('23-03-05-anticrossings qubit 1 qubit-2-coil-current', \n",
    "                      location=r'C:\\Users\\demouser\\Desktop\\Quantum\\Data\\2018-06-08\\23-04-47-anticrossings qubit 1 qubit-2-coil-current')[1]},\n",
    "           2:{'qubit-1-coil-current':load_pkl('23-03-05-anticrossings qubit 1 qubit-1-coil-current', \n",
    "                      location=r'C:\\Users\\demouser\\Desktop\\Quantum\\Data\\2018-06-08\\23-06-32-anticrossings qubit 2 qubit-1-coil-current')[1]},\n",
    "           3:{'qubit-1-coil-current':load_pkl('23-03-05-anticrossings qubit 1 qubit-1-coil-current', \n",
    "                      location=r'C:\\Users\\demouser\\Desktop\\Quantum\\Data\\2018-06-08\\23-03-05-anticrossings qubit 1 qubit-1-coil-current')[1]}}"
   ]
  },
  {
   "cell_type": "code",
   "execution_count": null,
   "metadata": {
    "collapsed": true
   },
   "outputs": [],
   "source": [
    "awg_tek.set_status(0,channel=0)"
   ]
  },
  {
   "cell_type": "code",
   "execution_count": null,
   "metadata": {
    "collapsed": true
   },
   "outputs": [],
   "source": [
    "resonator_reference_spectrum = load_pkl('20-09-28-Hivemind #2 single-tone resonator-z-spectrum Input res-x power --40\\\\S-parameter Hivemind #2 single-tone resonator-z-spectrum Input res-x power --40', \n",
    "                                        location='D:\\\\qtlab\\\\ReiData\\\\data\\\\2018-05-21')[1]"
   ]
  },
  {
   "cell_type": "code",
   "execution_count": null,
   "metadata": {
    "collapsed": true,
    "scrolled": false
   },
   "outputs": [],
   "source": [
    "#current_src1.set_status(1)\n",
    "#current_src1.set_range(1e-2)\n",
    "lo1.set_status(0)\n",
    "#lo2.set_status(0)\n",
    "pna.set_power(tone1_power)\n",
    "pna.set_nop(101)\n",
    "pna.set_bandwidth(200)\n",
    "coil_channel_id = 23\n",
    "#current_max=2e-3\n",
    "voltage_max=4\n",
    "current_nop = 100\n",
    "#currents=np.linspace(-current_max,current_max,current_nop)\n",
    "voltages=np.linspace(-voltage_max,voltage_max,current_nop)\n",
    "pna.set_xlim(qubit_params[qubit_id]['Fr']-10e6,qubit_params[qubit_id]['Fr']+10e6)\n",
    "voltage_setter = lambda x: dac.set_voltage(channel=coil_channel_id, value=x)\n",
    "#result = sweep.sweep(pna, (currents, current_src1.set_current, 'Coil current'), filename='anticrossings qubit {}'.format(qubit_id))\n",
    "result = sweep.sweep(pna, \n",
    "                     (voltages, voltage_setter, 'Coil #{} voltage'.format(coil_channel_id)), \n",
    "                     filename='anticrossings coil #{} qubit {}'.format(coil_channel_id, qubit_id))"
   ]
  },
  {
   "cell_type": "code",
   "execution_count": null,
   "metadata": {
    "collapsed": true
   },
   "outputs": [],
   "source": [
    "resonator_freqs=[qubit_params[qubit_id]['Fr']]\n",
    "resonator_freqs"
   ]
  },
  {
   "cell_type": "code",
   "execution_count": null,
   "metadata": {
    "collapsed": true
   },
   "outputs": [],
   "source": [
    "current_src1.set_current(qubit_params[qubit_id]['Iw'])"
   ]
  },
  {
   "cell_type": "code",
   "execution_count": null,
   "metadata": {
    "collapsed": true
   },
   "outputs": [],
   "source": [
    "qubit_id"
   ]
  },
  {
   "cell_type": "code",
   "execution_count": null,
   "metadata": {
    "collapsed": true
   },
   "outputs": [],
   "source": [
    "pna.set_average(0)\n",
    "pna.set_averages(1)\n",
    "pna.set_xlim(6.5e9, 6.7e9)\n",
    "pna.set_nop(2001)\n",
    "pna.set_bandwidth(100)\n",
    "pna.set_power(-10)"
   ]
  },
  {
   "cell_type": "code",
   "execution_count": 132,
   "metadata": {},
   "outputs": [
    {
     "data": {
      "text/plain": [
       "<module 'sweep' from 'C:\\\\Users\\\\demouser\\\\Desktop\\\\Quantum\\\\qtlab_replacement\\\\scripts\\\\sweep.py'>"
      ]
     },
     "execution_count": 132,
     "metadata": {},
     "output_type": "execute_result"
    }
   ],
   "source": [
    "import imp\n",
    "imp.reload(sweep)"
   ]
  },
  {
   "cell_type": "code",
   "execution_count": null,
   "metadata": {
    "collapsed": true
   },
   "outputs": [],
   "source": [
    "#current_src1.set_status(1)\n",
    "#current_src1.set_current(0)\n",
    "lo1.set_status(0)\n",
    "pna.set_nop(101)\n",
    "pna.set_power(-45)\n",
    "pna.set_bandwidth(10)\n",
    "pna.set_average(0)\n",
    "pna.set_averages(1)\n",
    "dfr=10e6\n",
    "qubit_id=1 \n",
    "pna.set_xlim(qubit_params[qubit_id]['Fr']-dfr,  qubit_params[qubit_id]['Fr']+dfr)\n",
    "#pna.set_xlim(6.4e9, 6.8e9)\n",
    "result = sweep.sweep(pna, ([0], lambda x: None, 'None'), filename='Single Tone spectroscopy #2 Baumanka Vanya-3')"
   ]
  },
  {
   "cell_type": "code",
   "execution_count": null,
   "metadata": {
    "collapsed": true
   },
   "outputs": [],
   "source": [
    "result[1]\n",
    "sh.move(result[1],directory_to)"
   ]
  },
  {
   "cell_type": "code",
   "execution_count": null,
   "metadata": {
    "collapsed": true
   },
   "outputs": [],
   "source": [
    "reference_preprocessed = resonator_spectrum_preprocessing(resonator_reference_spectrum['S-parameter'][2])\n",
    "centre_reference_pixels, period_reference_pixels = fitting.xcorr_centre_period(reference_preprocessed, axis=1)\n",
    "\n",
    "centre_reference = resonator_reference_spectrum['S-parameter'][1][0][int(centre_reference_pixels)], \n",
    "period_reference = (resonator_reference_spectrum['S-parameter'][1][0][1]-resonator_reference_spectrum['S-parameter'][1][0][0])*period_reference_pixels\n",
    "print (centre_reference, period_reference)"
   ]
  },
  {
   "cell_type": "code",
   "execution_count": 22,
   "metadata": {},
   "outputs": [
    {
     "data": {
      "text/plain": [
       "[<matplotlib.lines.Line2D at 0xf2b1ba8>]"
      ]
     },
     "execution_count": 22,
     "metadata": {},
     "output_type": "execute_result"
    }
   ],
   "source": [
    "pna.set_nop(100)\n",
    "pna.set_bandwidth(20)\n",
    "pna.set_xlim(qubit_params[qubit_id]['Fr']-25e6,  qubit_params[qubit_id]['Fr']+2e6)\n",
    "plt.plot(pna.get_freqpoints(), pna.get_tracedata()[0])"
   ]
  },
  {
   "cell_type": "markdown",
   "metadata": {},
   "source": [
    "# two-tone 1D"
   ]
  },
  {
   "cell_type": "code",
   "execution_count": 120,
   "metadata": {},
   "outputs": [
    {
     "data": {
      "application/vnd.jupyter.widget-view+json": {
       "model_id": "bf4a1753fa99401a8945ce04a67b96c1"
      }
     },
     "metadata": {},
     "output_type": "display_data"
    },
    {
     "name": "stdout",
     "output_type": "stream",
     "text": [
      "Started at:  Jun 11 2018 00:22:11\n"
     ]
    },
    {
     "name": "stderr",
     "output_type": "stream",
     "text": [
      "C:\\ProgramData\\Anaconda2\\envs\\py36\\lib\\site-packages\\matplotlib\\axis.py:1035: UserWarning: Unable to find pixel distance along axis for interval padding of ticks; assuming no interval padding needed.\n",
      "  warnings.warn(\"Unable to find pixel distance along axis \"\n"
     ]
    }
   ],
   "source": [
    "qubit_id=3\n",
    "current_src1.set_status(1)\n",
    "# current_src2.set_status(1)\n",
    "lo1.set_status(1)\n",
    "power=-20\n",
    "lo1.set_power(power)\n",
    "pna.set_bandwidth(5)\n",
    "\n",
    "pna.set_power(-50)\n",
    "pna.set_nop(1)\n",
    "pna.set_xlim(qubit_params[qubit_id]['Fr'],  qubit_params[qubit_id]['Fr'])\n",
    "#pna.set_xlim(6.79356e9,  qubit_params[qubit_id]['Fr'])\n",
    "current_src1.set_current(qubit_params[qubit_id]['Iw_q1c'])\n",
    "#curr(qubit_params[qubit_id]['Iw'])\n",
    "#ex_freqs = qubit_params[qubit_id]['F01_min']+np.linspace(-1000e6, 1000e6, 401)\n",
    "#ex_freqs = qubit_params[qubit_id]['F01_max']+np.linspace(-200e6, 200e6, 201)\n",
    "ex_freqs=np.arange(4.6e9,5.0e9,5.4e6)\n",
    "\n",
    "meas=sweep.sweep(pna, (ex_freqs, lo1.set_frequency, '2nd tone frequency'), \n",
    "                 filename='Two-tone 1D qubit {} power {}'.format(qubit_id, int(power)))"
   ]
  },
  {
   "cell_type": "code",
   "execution_count": 58,
   "metadata": {},
   "outputs": [
    {
     "data": {
      "text/plain": [
       "6532100000.0"
      ]
     },
     "execution_count": 58,
     "metadata": {},
     "output_type": "execute_result"
    }
   ],
   "source": [
    "qubit_params[qubit_id]['Fr']"
   ]
  },
  {
   "cell_type": "code",
   "execution_count": 140,
   "metadata": {},
   "outputs": [
    {
     "data": {
      "text/plain": [
       "True"
      ]
     },
     "execution_count": 140,
     "metadata": {},
     "output_type": "execute_result"
    }
   ],
   "source": [
    "pna.set_bandwidth(5)"
   ]
  },
  {
   "cell_type": "code",
   "execution_count": 141,
   "metadata": {},
   "outputs": [
    {
     "data": {
      "application/vnd.jupyter.widget-view+json": {
       "model_id": "c4ff9656d42e4b7dacc1979ca62580fb"
      }
     },
     "metadata": {},
     "output_type": "display_data"
    },
    {
     "name": "stdout",
     "output_type": "stream",
     "text": [
      "Started at:  Jun 11 2018 02:25:02\n",
      "\n",
      "Elapsed time: 7 h 12 m 26.59 s\n"
     ]
    }
   ],
   "source": [
    "for qubit_id in [1,3]:\n",
    "    pna.set_power(-50)\n",
    "    lo1.set_status(1)\n",
    "    lo1.set_power(-20)\n",
    "    current_src1.set_status(1)\n",
    "    freq = qubit_params[qubit_id]['F01_min']+np.linspace(-250e6, 100e6, 351)\n",
    "    #freq = np.linspace(4.71e9, 4.76e9, 401)\n",
    "    currents=np.linspace(0.185e-3,0.26e-3,91)\n",
    "    #for i in range(3,len(res_fr)):\n",
    "   # dfr =2\n",
    "#     tone1_freq_min, tone1_freq_max = qubit_params[qubit_id]['Fr']-dfr,  qubit_params[qubit_id]['Fr']+dfr\n",
    "    pna.set_xlim( qubit_params[qubit_id]['Fr'], qubit_params[qubit_id]['Fr'])\n",
    "    #currents=np.linspace(qubit_params[qubit_id]['Iw_q1c']-25e-5,qubit_params[qubit_id]['Iw_q1c']+25e-5,51)\n",
    "    sweep.sweep(pna, (currents, \n",
    "                      current_src1.set_current,'current'), \n",
    "                (freq, lo1.set_frequency, '2nd tone frequency'), \n",
    "                filename='qubit {3} tone_fr{0}_t1p{1}_t2p{2}'.format(\"%.2f\" % (qubit_params[1]['Fr']/1e9),pna.get_power(),lo1.get_power(), qubit_id),\n",
    "               bot=(True,401))"
   ]
  },
  {
   "cell_type": "code",
   "execution_count": null,
   "metadata": {
    "collapsed": true
   },
   "outputs": [],
   "source": [
    "for qubit_id in [1]:\n",
    "    pna.set_power(-50)\n",
    "    lo1.set_status(1)\n",
    "    lo1.set_power(-20)\n",
    "    current_src1.set_status(1)\n",
    "    #freq = qubit_params[qubit_id]['F01_min']+np.linspace(-250e6, 100e6, 351)\n",
    "    freq = np.linspace(4.71e9, 4.76e9, 401)\n",
    "    currents=np.linspace(0.185e-3,0.26e-3,91)\n",
    "    #for i in range(3,len(res_fr)):\n",
    "   # dfr =2\n",
    "#     tone1_freq_min, tone1_freq_max = qubit_params[qubit_id]['Fr']-dfr,  qubit_params[qubit_id]['Fr']+dfr\n",
    "    pna.set_xlim( qubit_params[qubit_id]['Fr'], qubit_params[qubit_id]['Fr'])\n",
    "    #currents=np.linspace(qubit_params[qubit_id]['Iw_q1c']-25e-5,qubit_params[qubit_id]['Iw_q1c']+25e-5,51)\n",
    "    sweep.sweep(pna, (currents, \n",
    "                      current_src1.set_current,'current'), \n",
    "                (freq, lo1.set_frequency, '2nd tone frequency'), \n",
    "                filename='qubit {3} tone_fr{0}_t1p{1}_t2p{2}'.format(\"%.2f\" % (qubit_params[1]['Fr']/1e9),pna.get_power(),lo1.get_power(), qubit_id),\n",
    "               bot=(True,401))"
   ]
  },
  {
   "cell_type": "code",
   "execution_count": null,
   "metadata": {
    "collapsed": true
   },
   "outputs": [],
   "source": [
    "import pickle as pkl\n",
    "with open(r'C:\\Users\\demouser\\Desktop\\Quantum\\Data\\2018-05-30\\17-14-31-2nd tone_fr6.53_t1p-25.0_t2p-5.0\\S-parameter 2nd tone_fr6.53_t1p-25.0_t2p-5.0.pkl', 'rb') as f:\n",
    "    data_new = pickle.load(f)\n",
    "data_new[0]"
   ]
  },
  {
   "cell_type": "code",
   "execution_count": null,
   "metadata": {
    "collapsed": true
   },
   "outputs": [],
   "source": [
    "\n",
    "with open(r'C:\\Users\\demouser\\Desktop\\Quantum\\Data\\2018-05-30\\17-14-31-2nd tone_fr6.53_t1p-25.0_t2p-5.0\\S-parameter 2nd tone_fr6.53_t1p-25.0_t2p-5.0.pkl', 'rb') as f:\n",
    "    data_new = pickle.load(f)     \n",
    "plt.pcolormesh(data_new[1]['S-parameter'][1][0],data_new[1]['S-parameter'][1][1], np.abs(data_new[1]['S-parameter'][2].T), cmap='RdBu')\n",
    "plt.show()"
   ]
  },
  {
   "cell_type": "code",
   "execution_count": null,
   "metadata": {
    "collapsed": true
   },
   "outputs": [],
   "source": [
    "with open(r'C:\\Users\\demouser\\Desktop\\Quantum\\Data\\2018-05-30\\13-28-36-2nd tone_fr6.53_t1p-25.0_t2p-5.0\\S-parameter 2nd tone_fr6.53_t1p-25.0_t2p-5.0.pkl', 'rb') as f1:\n",
    "    data_new = pickle.load(f1)     \n",
    "plt.pcolormesh(data_new[1]['S-parameter'][1][0],data_new[1]['S-parameter'][1][1], np.abs(data_new[1]['S-parameter'][2].T), cmap='RdBu')\n",
    "plt.show()"
   ]
  },
  {
   "cell_type": "code",
   "execution_count": null,
   "metadata": {
    "collapsed": true
   },
   "outputs": [],
   "source": [
    "curr(750e-9)"
   ]
  },
  {
   "cell_type": "code",
   "execution_count": null,
   "metadata": {
    "collapsed": true
   },
   "outputs": [],
   "source": [
    "curr(-2.3e-5)\n",
    "freq=np.linspace(8e9,8.5e9,301)\n",
    "sweep.sweep(pna, (freq, lo1.set_frequency, '2nd tone frequency'), filename='2nd tone_fr{0}_t1p{1}_t2p{2}'.format(\"%.2f\" % (qubit_params[1]['Fr']/1e9),pna.get_power(),lo1.get_power()))"
   ]
  },
  {
   "cell_type": "code",
   "execution_count": null,
   "metadata": {
    "collapsed": true,
    "scrolled": true
   },
   "outputs": [],
   "source": [
    "curr(-2.7e-5)\n",
    "powers=np.linspace(-10,10,21)\n",
    "pna.set_power(-50)\n",
    "freq=np.linspace(7e9,9.5e9,501)\n",
    "sweep.sweep(pna, (powers,lo1.set_power,'2-nd tone power'), (freq, lo1.set_frequency, '2nd tone frequency'), filename='2nd tone_power_scan_curr_{0}_t1p{1}'.format(\"%.2f\" % (current_src1.get_current()*1e5),pna.get_power()))\n"
   ]
  },
  {
   "cell_type": "code",
   "execution_count": null,
   "metadata": {
    "collapsed": true
   },
   "outputs": [],
   "source": [
    "current_src1.set_current(qubit_params[qubit_id]['Iw'])"
   ]
  },
  {
   "cell_type": "markdown",
   "metadata": {},
   "source": [
    "# Импульсы"
   ]
  },
  {
   "cell_type": "markdown",
   "metadata": {},
   "source": [
    "### Создаём девайсы"
   ]
  },
  {
   "cell_type": "markdown",
   "metadata": {},
   "source": [
    "### Загружаем импульсные скрипты всякие"
   ]
  },
  {
   "cell_type": "code",
   "execution_count": 13,
   "metadata": {},
   "outputs": [],
   "source": [
    "import sys"
   ]
  },
  {
   "cell_type": "code",
   "execution_count": 15,
   "metadata": {},
   "outputs": [
    {
     "data": {
      "text/plain": [
       "['',\n",
       " 'C:\\\\',\n",
       " 'C:\\\\ProgramData\\\\Anaconda3\\\\python36.zip',\n",
       " 'C:\\\\ProgramData\\\\Anaconda3\\\\DLLs',\n",
       " 'C:\\\\ProgramData\\\\Anaconda3\\\\lib',\n",
       " 'C:\\\\ProgramData\\\\Anaconda3',\n",
       " 'C:\\\\ProgramData\\\\Anaconda3\\\\lib\\\\site-packages',\n",
       " 'C:\\\\ProgramData\\\\Anaconda3\\\\lib\\\\site-packages\\\\resonator_tools-0.1-py3.6.egg',\n",
       " 'C:\\\\ProgramData\\\\Anaconda3\\\\lib\\\\site-packages\\\\win32',\n",
       " 'C:\\\\ProgramData\\\\Anaconda3\\\\lib\\\\site-packages\\\\win32\\\\lib',\n",
       " 'C:\\\\ProgramData\\\\Anaconda3\\\\lib\\\\site-packages\\\\Pythonwin',\n",
       " 'C:\\\\ProgramData\\\\Anaconda3\\\\lib\\\\site-packages\\\\IPython\\\\extensions',\n",
       " 'C:\\\\Users\\\\cryopxi\\\\.ipython',\n",
       " 'C:\\\\Program Files (x86)\\\\Keysight\\\\SD1\\\\Libraries\\\\Python',\n",
       " 'C:\\\\Program Files (x86)\\\\Keysight\\\\SD1\\\\Libraries\\\\Python',\n",
       " 'C:\\\\Program Files (x86)\\\\Keysight\\\\SD1\\\\Libraries\\\\Python']"
      ]
     },
     "execution_count": 15,
     "metadata": {},
     "output_type": "execute_result"
    }
   ],
   "source": [
    "sys.path.append(\"C:\\qsweepy)"
   ]
  },
  {
   "cell_type": "code",
   "execution_count": 13,
   "metadata": {},
   "outputs": [
    {
     "ename": "ModuleNotFoundError",
     "evalue": "No module named 'awg_digital'",
     "output_type": "error",
     "traceback": [
      "\u001b[1;31m---------------------------------------------------------------------------\u001b[0m",
      "\u001b[1;31mModuleNotFoundError\u001b[0m                       Traceback (most recent call last)",
      "\u001b[1;32m<ipython-input-13-85b515541e35>\u001b[0m in \u001b[0;36m<module>\u001b[1;34m()\u001b[0m\n\u001b[1;32m----> 1\u001b[1;33m \u001b[1;32mimport\u001b[0m \u001b[0mawg_digital\u001b[0m\u001b[1;33m\u001b[0m\u001b[0m\n\u001b[0m\u001b[0;32m      2\u001b[0m \u001b[1;32mimport\u001b[0m \u001b[0mawg_iq\u001b[0m\u001b[1;33m\u001b[0m\u001b[0m\n\u001b[0;32m      3\u001b[0m \u001b[1;32mimport\u001b[0m \u001b[0mdata_reduce\u001b[0m\u001b[1;33m\u001b[0m\u001b[0m\n\u001b[0;32m      4\u001b[0m \u001b[1;32mimport\u001b[0m \u001b[0mimp\u001b[0m\u001b[1;33m\u001b[0m\u001b[0m\n\u001b[0;32m      5\u001b[0m \u001b[1;32mimport\u001b[0m \u001b[0mfitting\u001b[0m\u001b[1;33m\u001b[0m\u001b[0m\n",
      "\u001b[1;31mModuleNotFoundError\u001b[0m: No module named 'awg_digital'"
     ]
    }
   ],
   "source": [
    "import awg_digital\n",
    "import awg_iq\n",
    "import data_reduce\n",
    "import imp\n",
    "import fitting\n",
    "import plotting\n",
    "import save_pkl\n",
    "import tomography as tomography_new\n",
    "import tomography_legacy as tomography\n",
    "import sweep\n",
    "#imp.reload(awg_digital)\n",
    "#imp.reload(awg_iq)\n",
    "#imp.reload(data_reduce)\n",
    "#imp.reload(fitting)\n",
    "#imp.reload(plotting)\n",
    "#imp.reload(save_pkl)\n",
    "#imp.reload(tomography)\n",
    "#imp.reload(tomography_new)\n",
    "#imp.reload(sweep)"
   ]
  },
  {
   "cell_type": "markdown",
   "metadata": {},
   "source": [
    "### Осцилляторы"
   ]
  },
  {
   "cell_type": "code",
   "execution_count": 8,
   "metadata": {},
   "outputs": [
    {
     "data": {
      "text/plain": [
       "True"
      ]
     },
     "execution_count": 8,
     "metadata": {},
     "output_type": "execute_result"
    }
   ],
   "source": [
    "# Источник тока - в autorange\n",
    "#current.set_autorange(1)\n",
    "#Мощности гетеродинов, постоянные\n",
    "#Мощность гетеродина для возбуждения 13-16 дБм\n",
    "#lo_ex_pow = 14\n",
    "#lo_ex_pow = 14\n",
    "lo_ex = lo1\n",
    "lo_ro = pna\n",
    "lo_ex_pow = 14\n",
    "#lo_ex = lo1\n",
    "lo_ex.set_status(1)\n",
    "#lo_ex.set_power(lo_ex_pow)\n",
    "#pna как lo2 (excitation)\n",
    "#Port1 - выход\n",
    "#Мощность гетеродина для считывания 10-13 дБм, с учётом разветвителя 13-16 dBm\n",
    "#lo_ro_pow = 16\n",
    "lo_ro_pow = 16\n",
    "lo_ro.set_power(lo_ro_pow)\n",
    "\n",
    "#lo_ex = pna\n",
    "pna.write(\"OUTP ON\")\n",
    "pna.write(\"SOUR1:POW1:MODE ON\")\n",
    "pna.write(\"SOUR1:POW2:MODE OFF\")\n",
    "pna.set_sweep_mode(\"CW\")\n",
    "lo_ex.set_power(lo_ex_pow)"
   ]
  },
  {
   "cell_type": "code",
   "execution_count": 16,
   "metadata": {},
   "outputs": [
    {
     "data": {
      "text/plain": [
       "['',\n",
       " 'C:\\\\',\n",
       " 'C:\\\\ProgramData\\\\Anaconda3\\\\python36.zip',\n",
       " 'C:\\\\ProgramData\\\\Anaconda3\\\\DLLs',\n",
       " 'C:\\\\ProgramData\\\\Anaconda3\\\\lib',\n",
       " 'C:\\\\ProgramData\\\\Anaconda3',\n",
       " 'C:\\\\ProgramData\\\\Anaconda3\\\\lib\\\\site-packages',\n",
       " 'C:\\\\ProgramData\\\\Anaconda3\\\\lib\\\\site-packages\\\\resonator_tools-0.1-py3.6.egg',\n",
       " 'C:\\\\ProgramData\\\\Anaconda3\\\\lib\\\\site-packages\\\\win32',\n",
       " 'C:\\\\ProgramData\\\\Anaconda3\\\\lib\\\\site-packages\\\\win32\\\\lib',\n",
       " 'C:\\\\ProgramData\\\\Anaconda3\\\\lib\\\\site-packages\\\\Pythonwin',\n",
       " 'C:\\\\ProgramData\\\\Anaconda3\\\\lib\\\\site-packages\\\\IPython\\\\extensions',\n",
       " 'C:\\\\Users\\\\cryopxi\\\\.ipython',\n",
       " 'C:\\\\Program Files (x86)\\\\Keysight\\\\SD1\\\\Libraries\\\\Python',\n",
       " 'C:\\\\Program Files (x86)\\\\Keysight\\\\SD1\\\\Libraries\\\\Python',\n",
       " 'C:\\\\Program Files (x86)\\\\Keysight\\\\SD1\\\\Libraries\\\\Python',\n",
       " 'C:\\\\qsweepy']"
      ]
     },
     "execution_count": 16,
     "metadata": {},
     "output_type": "execute_result"
    }
   ],
   "source": [
    "import sys\n",
    "sys.path"
   ]
  },
  {
   "cell_type": "code",
   "execution_count": 17,
   "metadata": {},
   "outputs": [
    {
     "ename": "ImportError",
     "evalue": "attempted relative import with no known parent package",
     "output_type": "error",
     "traceback": [
      "\u001b[1;31m---------------------------------------------------------------------------\u001b[0m",
      "\u001b[1;31mImportError\u001b[0m                               Traceback (most recent call last)",
      "\u001b[1;32m<ipython-input-17-45869ff20031>\u001b[0m in \u001b[0;36m<module>\u001b[1;34m()\u001b[0m\n\u001b[1;32m----> 1\u001b[1;33m \u001b[1;32mimport\u001b[0m \u001b[0mawg_digital\u001b[0m\u001b[1;33m\u001b[0m\u001b[0m\n\u001b[0m",
      "\u001b[1;32mC:\\qsweepy\\awg_digital.py\u001b[0m in \u001b[0;36m<module>\u001b[1;34m()\u001b[0m\n\u001b[0;32m      1\u001b[0m \u001b[1;32mimport\u001b[0m \u001b[0mnumpy\u001b[0m \u001b[1;32mas\u001b[0m \u001b[0mnp\u001b[0m\u001b[1;33m\u001b[0m\u001b[0m\n\u001b[0;32m      2\u001b[0m \u001b[1;32mimport\u001b[0m \u001b[0mlogging\u001b[0m\u001b[1;33m\u001b[0m\u001b[0m\n\u001b[1;32m----> 3\u001b[1;33m \u001b[1;32mfrom\u001b[0m \u001b[1;33m.\u001b[0m\u001b[0msave_pkl\u001b[0m \u001b[1;32mimport\u001b[0m \u001b[1;33m*\u001b[0m\u001b[1;33m\u001b[0m\u001b[0m\n\u001b[0m\u001b[0;32m      4\u001b[0m \u001b[1;32mfrom\u001b[0m \u001b[1;33m.\u001b[0m\u001b[0mconfig\u001b[0m \u001b[1;32mimport\u001b[0m \u001b[0mget_config\u001b[0m\u001b[1;33m\u001b[0m\u001b[0m\n\u001b[0;32m      5\u001b[0m \u001b[1;33m\u001b[0m\u001b[0m\n",
      "\u001b[1;31mImportError\u001b[0m: attempted relative import with no known parent package"
     ]
    }
   ],
   "source": [
    "import awg_digital"
   ]
  },
  {
   "cell_type": "code",
   "execution_count": 15,
   "metadata": {},
   "outputs": [],
   "source": [
    "sys.path.append('C:\\\\qsweepy')"
   ]
  },
  {
   "cell_type": "markdown",
   "metadata": {},
   "source": [
    "### AWGшки"
   ]
  },
  {
   "cell_type": "code",
   "execution_count": 13,
   "metadata": {},
   "outputs": [
    {
     "name": "stderr",
     "output_type": "stream",
     "text": [
      "C:\\ProgramData\\Anaconda3\\lib\\site-packages\\pyvisa\\resources\\messagebased.py:573: FutureWarning: ask is deprecated and will be removed in 1.10, use query instead.\n",
      "  '1.10, use query instead.', FutureWarning)\n"
     ]
    },
    {
     "ename": "AttributeError",
     "evalue": "module 'qsweepy.tomography' has no attribute 'pulses'",
     "output_type": "error",
     "traceback": [
      "\u001b[1;31m---------------------------------------------------------------------------\u001b[0m",
      "\u001b[1;31mAttributeError\u001b[0m                            Traceback (most recent call last)",
      "\u001b[1;32m<ipython-input-13-745bd88e2fd9>\u001b[0m in \u001b[0;36m<module>\u001b[1;34m()\u001b[0m\n\u001b[0;32m     69\u001b[0m \u001b[0mawg_channels\u001b[0m \u001b[1;33m=\u001b[0m \u001b[1;33m{\u001b[0m\u001b[1;34m'iq_ex'\u001b[0m\u001b[1;33m:\u001b[0m\u001b[0miq_ex\u001b[0m\u001b[1;33m,\u001b[0m \u001b[1;34m'iq_ro'\u001b[0m\u001b[1;33m:\u001b[0m\u001b[0miq_ro\u001b[0m\u001b[1;33m,\u001b[0m \u001b[1;34m'ro_trg'\u001b[0m\u001b[1;33m:\u001b[0m\u001b[0mro_trg\u001b[0m\u001b[1;33m}\u001b[0m\u001b[1;31m#, 'osc_trg':osc_trg}\u001b[0m\u001b[1;33m\u001b[0m\u001b[0m\n\u001b[0;32m     70\u001b[0m \u001b[0mtrg_length\u001b[0m \u001b[1;33m=\u001b[0m \u001b[1;36m10e-9\u001b[0m\u001b[1;33m\u001b[0m\u001b[0m\n\u001b[1;32m---> 71\u001b[1;33m \u001b[0mpg\u001b[0m \u001b[1;33m=\u001b[0m \u001b[0mtomography_new\u001b[0m\u001b[1;33m.\u001b[0m\u001b[0mpulses\u001b[0m\u001b[1;33m(\u001b[0m\u001b[0mawg_channels\u001b[0m\u001b[1;33m)\u001b[0m\u001b[1;33m\u001b[0m\u001b[0m\n\u001b[0m\u001b[0;32m     72\u001b[0m \u001b[0mawg_tek\u001b[0m\u001b[1;33m.\u001b[0m\u001b[0mset_nop\u001b[0m\u001b[1;33m(\u001b[0m\u001b[0mawg_tek\u001b[0m\u001b[1;33m.\u001b[0m\u001b[0mget_clock\u001b[0m\u001b[1;33m(\u001b[0m\u001b[1;33m)\u001b[0m\u001b[1;33m/\u001b[0m\u001b[0mrep_rate\u001b[0m\u001b[1;33m)\u001b[0m\u001b[1;33m\u001b[0m\u001b[0m\n",
      "\u001b[1;31mAttributeError\u001b[0m: module 'qsweepy.tomography' has no attribute 'pulses'"
     ]
    }
   ],
   "source": [
    "# промежуточные частоты для гетеродинной схемы:\n",
    "ex_if = 125e6\n",
    "ro_if = 75e6\n",
    "# клоки генератора и оцифровщика\n",
    "ex_clock = 1e9\n",
    "ro_clock = 0.5e9 \n",
    "rep_rate = 20e3 # частота повторений эксперимента\n",
    "\n",
    "#awg_tek.stop()\n",
    "#awg_tek.set_clock(ex_clock) # клок всех авгшк\n",
    "#awg_tek.set_nop(ex_clock/rep_rate) # репрейт нужно задавать по=хорошему только на управляющей,\n",
    "#awg_tek.run()\n",
    "# а вот длину сэмплов, которая очевидно то же самое, нужно задавать на всех авгшках.\n",
    "# хорошо, что сейчас она только одна.\n",
    "CHASSIS = 0\n",
    "SLOT_AWG1 = 4\n",
    "awg = Keysight_M3202A_S('awg1', CHASSIS, SLOT_AWG1)\n",
    "awg_tek = awg\n",
    "# миксеры подключены к AWG5014 через 6 дБ аттенюаторы. Ставим амплитуду 2В.\n",
    "awg.trigger_source_types = [0, 6,6,6]\n",
    "awg.trigger_source_channels = [0, 4000,4000,4000] # pxi trigger 0 \n",
    "awg.trigger_delays = [40, 0,0,0] # master channel should wait 400 ns for others to start\n",
    "awg.trigger_behaviours = [0,4,4,4] #rising edge trigger\n",
    "for channel in range(0,4):\n",
    "#for channel in range(1,5):\n",
    "    awg_tek.set_amplitude(.2, channel=channel)\n",
    "    awg_tek.set_offset(0, channel=channel)\n",
    "    awg_tek.set_output(1, channel=channel)\n",
    "    awg_tek.set_waveform(waveform=[0]*awg_tek.get_nop(), channel=channel)\n",
    "    \n",
    "# channel 0 is master and triggers all others\n",
    "\n",
    "\n",
    "# Выходы 1, 2 тектроникс: возбуждение (кубитный тон) через 6 дБ аттенюатор\n",
    "# Выходы 3, 4 тектроникс: считывание (резонаторный тон) через 6 дБ аттенюатор\n",
    "iq_ex = awg_iq.awg_iq(awg_tek, awg_tek, 2, 3, lo_ex)\n",
    "iq_ro = awg_iq.awg_iq(awg_tek, awg_tek, 0, 1, lo_ro)\n",
    "iq_ex.set_if(ex_if)\n",
    "iq_ro.set_if(ro_if)\n",
    "iq_ex.set_sideband_id(-1)\n",
    "iq_ro.set_sideband_id(-1)\n",
    "iq_ex.set_frequency(qubit_params[qubit_id]['F01_min'])\n",
    "iq_ro.set_frequency(qubit_params[qubit_id]['Fr'])\n",
    "\n",
    "# К первому маркере первого канала тектроникса подсоединён триггер оцифровщика.\n",
    "# Надо подавать какой-нибудь триггер, что-ли.\n",
    "# А ещё нужно подавать клок. К сожалению наш оцифровщик не может в 1ГГц клок, ему нужен 500МГц клок.\n",
    "# Будем подавать 500 МГц с цифрового выхода тектроникса.\n",
    "#awg_tek.set_marker1_low(-0.0, channel=1)\n",
    "#awg_tek.set_marker2_low(-0.0, channel=1)\n",
    "#awg_tek.set_marker1_high(1.0, channel=1)\n",
    "#awg_tek.set_marker2_high(1.0, channel=1)\n",
    "#awg_tek.set_marker1_low(-0.04, channel=2)\n",
    "#awg_tek.set_marker2_low(-0.04, channel=2) \n",
    "#awg_tek.set_marker1_high(0.04, channel=2) # с клока хватит и такой амплитуды\n",
    "#awg_tek.set_marker2_high(0.04, channel=2) # с клока хватит и такой амплитуды\n",
    "#awg_trg = awg_digital.awg_digital(awg_tek, 0)\n",
    "awg.set_marker(length=100, delay=0, channel=0)\n",
    "ro_trg = awg_digital.awg_digital(awg_tek, 1)\n",
    "ro_trg.mode = 'set_delay'\n",
    "ro_trg.delay_setter = lambda x: adc.set_trigger_delay(int(x*adc.get_clock()/iq_ex.get_clock())+200)\n",
    "#osc_trg = awg_digital.awg_digital(awg_tek, 5)\n",
    "#ro_adc_clock = awg_digital.awg_digital(awg_tek, 2) #\n",
    "#osc_adc_clock = awg_digital.awg_digital(awg_tek, 6) #\n",
    "\n",
    "# тупо клок\n",
    "#ro_adc_clock.set_waveform(np.asarray([0,1]*int(ro_adc_clock.get_nop()/2), dtype=int))\n",
    "#osc_adc_clock.set_waveform(np.asarray([0,1]*int(ro_adc_clock.get_nop()/2), dtype=int))\n",
    "awg_channels = {'iq_ex':iq_ex, 'iq_ro':iq_ro, 'ro_trg':ro_trg}#, 'osc_trg':osc_trg}\n",
    "trg_length = 10e-9\n",
    "pg = tomography_new.pul0ses(awg_channels)\n",
    "awg_tek.set_nop(awg_tek.get_clock()/rep_rate)"
   ]
  },
  {
   "cell_type": "markdown",
   "metadata": {},
   "source": [
    "### Оцифровщик"
   ]
  },
  {
   "cell_type": "code",
   "execution_count": null,
   "metadata": {
    "collapsed": true
   },
   "outputs": [],
   "source": [
    "# настройки оцифровщика\n",
    "#adc.set_clock(ro_clock)\n",
    "#adc.reset()            \n",
    "#adc.set_timeout(10000)\n",
    "\n",
    "\n",
    "#adc.set_spc_samplerate(smp_rate)\n",
    "#External trigger\n",
    "#adc.set_trigger_ext0_level0(400) # logical 0 value to 200 mV\n",
    "#adc.set_trigger_ext0_level1(600) # logical 1 value to 600 mV\n",
    "#adc.trigger_termination_50Ohm()\n",
    "#adc.trigger_mode_pos()\n",
    "#adc.set_trigger_ext0_pulsewidth(0)\n",
    "#adc.disable_trigger_output()\n",
    "#adc.select_channel01()\n",
    "#adc.set_multi_mode()\n",
    "#adc.set_segmentsize()\n",
    "adc.set_input(channel=1, input=1)\n",
    "adc.set_input(channel=2, input=1)\n",
    "#adc.set_nop(512)\n",
    "#adc.set_nums(10)\n",
    "adc.set_trigger_external(channel=1)\n",
    "adc.set_trigger_external(channel=2)\n",
    "#adc.trigger_delay=14280\n",
    "\n",
    "# \"Измеритель средних прошедших импульсов\"\n",
    "# Просто усредняет всё по номеру сэмпла.\n",
    "adc_reducer = data_reduce.data_reduce(adc)\n",
    "adc_reducer.filters['Mean Voltage (AC)'] = data_reduce.mean_reducer_noavg(adc, 'Voltage', 0)\n",
    "adc_reducer.filters['S21+'] = data_reduce.mean_reducer_freq(adc, 'Voltage', 0, iq_ro.get_if())\n",
    "adc_reducer.filters['S21-'] = data_reduce.mean_reducer_freq(adc, 'Voltage', 0, -iq_ro.get_if())"
   ]
  },
  {
   "cell_type": "code",
   "execution_count": 18,
   "metadata": {},
   "outputs": [],
   "source": [
    "adc = Spectrum_M4i22xx('adc')"
   ]
  },
  {
   "cell_type": "code",
   "execution_count": 19,
   "metadata": {},
   "outputs": [],
   "source": [
    "adc.reset()"
   ]
  },
  {
   "cell_type": "code",
   "execution_count": 23,
   "metadata": {},
   "outputs": [
    {
     "ename": "NameError",
     "evalue": "name 'iq_ro' is not defined",
     "output_type": "error",
     "traceback": [
      "\u001b[1;31m---------------------------------------------------------------------------\u001b[0m",
      "\u001b[1;31mNameError\u001b[0m                                 Traceback (most recent call last)",
      "\u001b[1;32m<ipython-input-23-595819498768>\u001b[0m in \u001b[0;36m<module>\u001b[1;34m()\u001b[0m\n\u001b[0;32m     13\u001b[0m \u001b[0madc_reducer\u001b[0m \u001b[1;33m=\u001b[0m \u001b[0mdata_reduce\u001b[0m\u001b[1;33m.\u001b[0m\u001b[0mdata_reduce\u001b[0m\u001b[1;33m(\u001b[0m\u001b[0madc\u001b[0m\u001b[1;33m)\u001b[0m\u001b[1;33m\u001b[0m\u001b[0m\n\u001b[0;32m     14\u001b[0m \u001b[0madc_reducer\u001b[0m\u001b[1;33m.\u001b[0m\u001b[0mfilters\u001b[0m\u001b[1;33m[\u001b[0m\u001b[1;34m'Mean Voltage (AC)'\u001b[0m\u001b[1;33m]\u001b[0m \u001b[1;33m=\u001b[0m \u001b[0mdata_reduce\u001b[0m\u001b[1;33m.\u001b[0m\u001b[0mmean_reducer_noavg\u001b[0m\u001b[1;33m(\u001b[0m\u001b[0madc\u001b[0m\u001b[1;33m,\u001b[0m \u001b[1;34m'Voltage'\u001b[0m\u001b[1;33m,\u001b[0m \u001b[1;36m0\u001b[0m\u001b[1;33m)\u001b[0m\u001b[1;33m\u001b[0m\u001b[0m\n\u001b[1;32m---> 15\u001b[1;33m \u001b[0madc_reducer\u001b[0m\u001b[1;33m.\u001b[0m\u001b[0mfilters\u001b[0m\u001b[1;33m[\u001b[0m\u001b[1;34m'S21+'\u001b[0m\u001b[1;33m]\u001b[0m \u001b[1;33m=\u001b[0m \u001b[0mdata_reduce\u001b[0m\u001b[1;33m.\u001b[0m\u001b[0mmean_reducer_freq\u001b[0m\u001b[1;33m(\u001b[0m\u001b[0madc\u001b[0m\u001b[1;33m,\u001b[0m \u001b[1;34m'Voltage'\u001b[0m\u001b[1;33m,\u001b[0m \u001b[1;36m0\u001b[0m\u001b[1;33m,\u001b[0m \u001b[0miq_ro\u001b[0m\u001b[1;33m.\u001b[0m\u001b[0mget_if\u001b[0m\u001b[1;33m(\u001b[0m\u001b[1;33m)\u001b[0m\u001b[1;33m)\u001b[0m\u001b[1;33m\u001b[0m\u001b[0m\n\u001b[0m\u001b[0;32m     16\u001b[0m \u001b[0madc_reducer\u001b[0m\u001b[1;33m.\u001b[0m\u001b[0mfilters\u001b[0m\u001b[1;33m[\u001b[0m\u001b[1;34m'S21-'\u001b[0m\u001b[1;33m]\u001b[0m \u001b[1;33m=\u001b[0m \u001b[0mdata_reduce\u001b[0m\u001b[1;33m.\u001b[0m\u001b[0mmean_reducer_freq\u001b[0m\u001b[1;33m(\u001b[0m\u001b[0madc\u001b[0m\u001b[1;33m,\u001b[0m \u001b[1;34m'Voltage'\u001b[0m\u001b[1;33m,\u001b[0m \u001b[1;36m0\u001b[0m\u001b[1;33m,\u001b[0m \u001b[1;33m-\u001b[0m\u001b[0miq_ro\u001b[0m\u001b[1;33m.\u001b[0m\u001b[0mget_if\u001b[0m\u001b[1;33m(\u001b[0m\u001b[1;33m)\u001b[0m\u001b[1;33m)\u001b[0m\u001b[1;33m\u001b[0m\u001b[0m\n",
      "\u001b[1;31mNameError\u001b[0m: name 'iq_ro' is not defined"
     ]
    }
   ],
   "source": [
    "adc.set_timeout(5000)\n",
    "#Установить sample rate и clock source\n",
    "adc.set_clock_mode('pxi')\n",
    "adc.set_clock(1.25e9)\n",
    "# Настроить каналы\n",
    "adc.select_channel01()\n",
    "adc.set_channel01_amps(200,200)\n",
    "#Установить триггер\n",
    "adc.set_ext_trigger()\n",
    "adc.set_ext_trigger_mode(1)\n",
    "adc.set_posttrigger(32)\n",
    "adc.set_trigger_delay(64*adc._get_param(SPC_SAMPLERATE))\n",
    "adc_reducer = data_reduce.data_reduce(adc)\n",
    "adc_reducer.filters['Mean Voltage (AC)'] = data_reduce.mean_reducer_noavg(adc, 'Voltage', 0)\n",
    "adc_reducer.filters['S21+'] = data_reduce.mean_reducer_freq(adc, 'Voltage', 0, iq_ro.get_if())\n",
    "adc_reducer.filters['S21-'] = data_reduce.mean_reducer_freq(adc, 'Voltage', 0, -iq_ro.get_if())"
   ]
  },
  {
   "cell_type": "markdown",
   "metadata": {},
   "source": [
    "### Калибровка миксеров"
   ]
  },
  {
   "cell_type": "code",
   "execution_count": null,
   "metadata": {
    "collapsed": true,
    "scrolled": true
   },
   "outputs": [],
   "source": [
    "#sa.set_ref(0)\n",
    "iq_ex.get_calibration(sa)\n",
    "iq_ro.get_calibration(sa)"
   ]
  },
  {
   "cell_type": "markdown",
   "metadata": {},
   "source": [
    "### Длительность и амплитуда считывающих импульсов"
   ]
  },
  {
   "cell_type": "code",
   "execution_count": 21,
   "metadata": {},
   "outputs": [],
   "source": [
    "def set_adc_nop(ro_adc_length):\n",
    "    #adc.stop()\n",
    "    signal_size = int(np.ceil(4./3.*(ro_adc_length)*adc.get_clock()))\n",
    "    nop = int( 2**np.ceil(np.log2(signal_size)) )\n",
    "    posttrigger = nop*15/16\n",
    "    \n",
    "    print (nop)\n",
    "    #adc.set_trigger_delay(25000-nop)\n",
    "    adc.set_nop(nop)\n",
    "    #adc.set_post_trigger(posttrigger)"
   ]
  },
  {
   "cell_type": "code",
   "execution_count": null,
   "metadata": {
    "collapsed": true
   },
   "outputs": [],
   "source": [
    "ro_adc_length = 0.7e-6        # Вот такой длины считываем (опухоль Фёдорова!!)\n",
    "ro_amplitude =0.5\n",
    "#ro_adc_length = 0.3e-6\n",
    "#ro_amplitude = 0.6\n",
    "#ro_amplitude = 1.0\n",
    "ro_dac_length = 0.4e-6\n",
    "#ro_dac_length = 0.4e-6\n",
    "#adc.set_nums(1000)\n",
    "#adc.set_software_nums_multi(1)\n",
    "set_adc_nop(ro_adc_length)\n",
    "adc.set_nums(2000)"
   ]
  },
  {
   "cell_type": "code",
   "execution_count": null,
   "metadata": {
    "collapsed": true
   },
   "outputs": [],
   "source": [
    "#adc.set_nop(25000)\n",
    "adc.set_nums(2000)\n",
    "#plt.plot(np.mean(adc.measure()['Voltage'], axis=0))"
   ]
  },
  {
   "cell_type": "code",
   "execution_count": null,
   "metadata": {
    "collapsed": true
   },
   "outputs": [],
   "source": [
    "pg.set_seq([pg.p('ro_trg', trg_length, pg.rect, 1), pg.p('iq_ro', 0.2e-6, pg.rect, 1.0)])"
   ]
  },
  {
   "cell_type": "code",
   "execution_count": null,
   "metadata": {
    "collapsed": true
   },
   "outputs": [],
   "source": [
    "for q in range()"
   ]
  },
  {
   "cell_type": "markdown",
   "metadata": {},
   "source": [
    "### Прохождение считывающих испульсов разной амплитуды"
   ]
  },
  {
   "cell_type": "code",
   "execution_count": 22,
   "metadata": {},
   "outputs": [
    {
     "ename": "NameError",
     "evalue": "name 'adc_reducer' is not defined",
     "output_type": "error",
     "traceback": [
      "\u001b[1;31m---------------------------------------------------------------------------\u001b[0m",
      "\u001b[1;31mNameError\u001b[0m                                 Traceback (most recent call last)",
      "\u001b[1;32m<ipython-input-22-0ff4ed9b670a>\u001b[0m in \u001b[0;36m<module>\u001b[1;34m()\u001b[0m\n\u001b[0;32m      4\u001b[0m     \u001b[1;31m#pg.set_seq([pg.p('iq_ro', ro_dac_length, pg.rect, x)])\u001b[0m\u001b[1;33m\u001b[0m\u001b[1;33m\u001b[0m\u001b[0m\n\u001b[0;32m      5\u001b[0m     \u001b[0mawg_tek\u001b[0m\u001b[1;33m.\u001b[0m\u001b[0mrun\u001b[0m\u001b[1;33m(\u001b[0m\u001b[1;33m)\u001b[0m\u001b[1;33m\u001b[0m\u001b[0m\n\u001b[1;32m----> 6\u001b[1;33m \u001b[0mmeasurement\u001b[0m \u001b[1;33m=\u001b[0m \u001b[0msweep\u001b[0m\u001b[1;33m.\u001b[0m\u001b[0msweep\u001b[0m\u001b[1;33m(\u001b[0m\u001b[0madc_reducer\u001b[0m\u001b[1;33m,\u001b[0m \u001b[1;33m(\u001b[0m\u001b[0mnp\u001b[0m\u001b[1;33m.\u001b[0m\u001b[0mlinspace\u001b[0m\u001b[1;33m(\u001b[0m\u001b[1;36m0\u001b[0m\u001b[1;33m,\u001b[0m \u001b[1;36m1\u001b[0m\u001b[1;33m,\u001b[0m \u001b[1;36m51\u001b[0m\u001b[1;33m)\u001b[0m\u001b[1;33m,\u001b[0m \u001b[0mset_pulse_amplitude\u001b[0m\u001b[1;33m,\u001b[0m \u001b[1;34m'Readout amplitude'\u001b[0m\u001b[1;33m)\u001b[0m\u001b[1;33m,\u001b[0m \u001b[0mfilename\u001b[0m\u001b[1;33m=\u001b[0m\u001b[1;34m'Readout pulse passthrough'\u001b[0m\u001b[1;33m)\u001b[0m\u001b[1;33m\u001b[0m\u001b[0m\n\u001b[0m",
      "\u001b[1;31mNameError\u001b[0m: name 'adc_reducer' is not defined"
     ]
    }
   ],
   "source": [
    "def set_pulse_amplitude(x):\n",
    "    awg_tek.set_nop(awg_tek.get_clock()/rep_rate)\n",
    "    pg.set_seq([pg.p('ro_trg', trg_length, pg.rect, 1), pg.p('iq_ro', ro_dac_length, pg.rect, x)])\n",
    "    #pg.set_seq([pg.p('iq_ro', ro_dac_length, pg.rect, x)])\n",
    "    awg_tek.run()\n",
    "measurement = sweep.sweep(adc_reducer, (np.linspace(0, 1, 51), set_pulse_amplitude, 'Readout amplitude'), filename='Readout pulse passthrough')"
   ]
  },
  {
   "cell_type": "code",
   "execution_count": null,
   "metadata": {
    "collapsed": true
   },
   "outputs": [],
   "source": [
    "pulse_fft = np.fft.fftshift(np.fft.fft(np.fft.fftshift(np.mean(adc.measure()['Voltage'], axis=0))))\n",
    "plt.plot(np.abs(pulse_fft)**2)"
   ]
  },
  {
   "cell_type": "code",
   "execution_count": null,
   "metadata": {
    "collapsed": true
   },
   "outputs": [],
   "source": [
    "lo1.set_status(1)"
   ]
  },
  {
   "cell_type": "code",
   "execution_count": null,
   "metadata": {
    "collapsed": true
   },
   "outputs": [],
   "source": [
    "current_src1.set_current(qubit_params[qubit_id]['Iw'])"
   ]
  },
  {
   "cell_type": "code",
   "execution_count": null,
   "metadata": {
    "collapsed": true
   },
   "outputs": [],
   "source": [
    "current_src1.get_current()"
   ]
  },
  {
   "cell_type": "markdown",
   "metadata": {},
   "source": [
    "### Осцилляции Раби"
   ]
  },
  {
   "cell_type": "code",
   "execution_count": null,
   "metadata": {
    "collapsed": true,
    "scrolled": false
   },
   "outputs": [],
   "source": [
    "ex_amplitude = 1.0\n",
    "pause_length = 0e-9\n",
    "lengths = np.linspace(0, 0.2e-6, 101)\n",
    "readout_begin = np.max(lengths)\n",
    "def set_ex_length(length):\n",
    "    awg_tek.set_nop(awg_tek.get_clock()/rep_rate)\n",
    "    sequence = [pg.p(None, readout_begin-length), \n",
    "                pg.p('iq_ex', length, pg.rect, ex_amplitude), \n",
    "                pg.p(None, pause_length), \n",
    "                pg.p('ro_trg', trg_length, pg.rect, 1), \n",
    "                pg.p('iq_ro', ro_dac_length, pg.rect, ro_amplitude)]\n",
    "    pg.set_seq(sequence)\n",
    "    awg_tek.run()\n",
    "measurement = sweep.sweep(adc_reducer, (lengths, set_ex_length, 'Rabi pulse length'), filename='Rabi qubit{}'.format(qubit_id))\n",
    "measurement_fitted, fitted_parameters = fitting.S21pm_fit(measurement, fitting.exp_sin_fit)\n",
    "annotation = 'Phase: {0:4.4g} rad, Freq: {1:4.4g}, Decay: {2:4.4g} s'.format(fitted_parameters['phase'], \n",
    "                                                                             fitted_parameters['freq'], \n",
    "                                                                             fitted_parameters['decay'])\n",
    "save_pkl.save_pkl({'type':'Rabi','name': 'qubit' }, measurement_fitted,annotation=annotation)"
   ]
  },
  {
   "cell_type": "markdown",
   "metadata": {},
   "source": [
    "### Осцилляции Рамзея"
   ]
  },
  {
   "cell_type": "code",
   "execution_count": null,
   "metadata": {
    "collapsed": true,
    "scrolled": false
   },
   "outputs": [],
   "source": [
    "ex_amplitude = 1.0\n",
    "#pi2_pulse = 6e-9\n",
    "pi2_pulse = 8e-9\n",
    "pause_length = 0e-9\n",
    "delays = np.linspace(0e-9, 1000e-9, 101)\n",
    "target_freq_offset = 10e6\n",
    "\n",
    "readout_begin = np.max(delays)+pi2_pulse*2\n",
    "\n",
    "def set_delay(delay):\n",
    "    awg_tek.set_nop(awg_tek.get_clock()/rep_rate)\n",
    "    \n",
    "    sequence = [pg.p(None, readout_begin-pi2_pulse),\n",
    "                pg.p('iq_ex', pi2_pulse, pg.rect, ex_amplitude), \n",
    "                pg.p(None, delay), \n",
    "                pg.p('iq_ex', pi2_pulse, pg.rect, ex_amplitude*np.exp(1j*delay*target_freq_offset*2*np.pi)), \n",
    "                pg.p('ro_trg', trg_length, pg.rect, 1), \n",
    "                pg.p('iq_ro', ro_dac_length, pg.rect, ro_amplitude)]\n",
    "    \n",
    "    pg.set_seq(sequence)\n",
    "    awg_tek.run()\n",
    "measurement = sweep.sweep(adc_reducer, (delays, set_delay, 'Ramsey delay'), filename='Ramsey qubit{}'.format(qubit_id))\n",
    "#measurement = sweep.sweep(adc_sz, (delays, set_delay, 'Ramsey delay'), filename='Ramsey')\n",
    "measurement_fitted, fitted_parameters = fitting.S21pm_fit(measurement, fitting.exp_sin_fit)\n",
    "annotation = 'Phase: {0:4.4g} rad, Freq: {1:4.4g}, Decay: {2:4.4g} s'.format(fitted_parameters['phase'], \n",
    "                                                                             fitted_parameters['freq'], \n",
    "                                                                             fitted_parameters['decay'])\n",
    "save_pkl.save_pkl({'type':'Ramsey', 'name': 'qubit {}'.format(qubit_id)}, measurement_fitted, annotation=annotation)"
   ]
  },
  {
   "cell_type": "code",
   "execution_count": null,
   "metadata": {
    "collapsed": true
   },
   "outputs": [],
   "source": [
    "qubit_id=1"
   ]
  },
  {
   "cell_type": "code",
   "execution_count": null,
   "metadata": {
    "collapsed": true
   },
   "outputs": [],
   "source": []
  },
  {
   "cell_type": "code",
   "execution_count": null,
   "metadata": {
    "collapsed": true
   },
   "outputs": [],
   "source": [
    "save_pkl.save_pkl({'type':'Ramsey', 'name': 'qubit {}'.format(qubit_id)}, [0], annotation=None)"
   ]
  },
  {
   "cell_type": "code",
   "execution_count": null,
   "metadata": {
    "collapsed": true
   },
   "outputs": [],
   "source": [
    "save_pkl.save_pkl({'type':'Ramsey', 'name': 'qubit {}'.format(qubit_id)}, measurement_fitted, annotation=annotation)"
   ]
  },
  {
   "cell_type": "markdown",
   "metadata": {},
   "source": [
    "### Спиновое эхо"
   ]
  },
  {
   "cell_type": "code",
   "execution_count": null,
   "metadata": {
    "collapsed": true,
    "scrolled": false
   },
   "outputs": [],
   "source": [
    "ex_amplitude = 0.2\n",
    "pi2_pulse = 9e-9\n",
    "pause_length = 15.98e-9\n",
    "delays = np.linspace(0e-9, 500e-9, 101)\n",
    "target_freq_offset = 10e6\n",
    "\n",
    "readout_begin = np.max(delays)+pi2_pulse*2\n",
    "\n",
    "def set_delay(delay):\n",
    "    awg_tek.set_nop(awg_tek.get_clock()/rep_rate)\n",
    "    \n",
    "    sequence = [pg.p(None, readout_begin-pi2_pulse),\n",
    "                pg.p('iq_ex', pi2_pulse, pg.rect, ex_amplitude), \n",
    "                pg.p(None, delay), \n",
    "                pg.p('iq_ex', pi2_pulse, pg.rect, ex_amplitude), \n",
    "                pg.p('iq_ex', pi2_pulse, pg.rect, ex_amplitude), \n",
    "                pg.p(None, delay), \n",
    "                pg.p('iq_ex', pi2_pulse, pg.rect, ex_amplitude*np.exp(1j*delay*target_freq_offset*2*np.pi)), \n",
    "                pg.p('ro_trg', trg_length, pg.rect, 1), \n",
    "                pg.p('iq_ro', ro_dac_length, pg.rect, ro_amplitude)]\n",
    "    \n",
    "    pg.set_seq(sequence)\n",
    "    awg_tek.run()\n",
    "measurement = sweep.sweep(adc_reducer, (delays*2, set_delay, 'Spin echo full delay'), filename='Spin echo')\n",
    "#measurement = sweep.sweep(adc_sz, (delays, set_delay, 'Ramsey delay'), filename='Ramsey')\n",
    "measurement_fitted, fitted_parameters = fitting.S21pm_fit(measurement, fitting.exp_sin_fit)\n",
    "annotation = 'Phase: {0:4.4g} rad, Freq: {1:4.4g}, Decay: {2:4.4g} s'.format(fitted_parameters['phase'], \n",
    "                                                                             fitted_parameters['freq'], \n",
    "                                                                             fitted_parameters['decay'])\n",
    "save_pkl.save_pkl({'type':'Spin echo', 'name': 'qubit {} paramp {}'.format(qubit_id, 'on' if lo_amp.get_status() else 'off')}, measurement_fitted, annotation=annotation)"
   ]
  },
  {
   "cell_type": "code",
   "execution_count": null,
   "metadata": {
    "collapsed": true
   },
   "outputs": [],
   "source": [
    "save_pkl.save_pkl({'type':'Ramsey'}, measurement_fitted, annotation=annotation)"
   ]
  },
  {
   "cell_type": "code",
   "execution_count": null,
   "metadata": {
    "collapsed": true
   },
   "outputs": [],
   "source": [
    "lo_amp.set_status(0)"
   ]
  },
  {
   "cell_type": "code",
   "execution_count": null,
   "metadata": {
    "collapsed": true
   },
   "outputs": [],
   "source": [
    "qubit_id"
   ]
  },
  {
   "cell_type": "markdown",
   "metadata": {},
   "source": [
    "### Затухание свободной индукции (T1)"
   ]
  },
  {
   "cell_type": "code",
   "execution_count": null,
   "metadata": {
    "collapsed": true,
    "scrolled": true
   },
   "outputs": [],
   "source": [
    "ex_amplitude = 1.0\n",
    "pi_pulse = 15.6e-9#18e-9\n",
    "pause_length = 0e-9\n",
    "delays = np.linspace(0e-9, 2000e-9, 51)\n",
    "readout_begin = np.max(delays)+pi_pulse\n",
    "def set_delay(delay):\n",
    "    awg_tek.set_nop(awg_tek.get_clock()/rep_rate)\n",
    "    \n",
    "    sequence = [pg.p(None, readout_begin-ro_dac_length),\n",
    "                pg.p('iq_ex', pi_pulse, pg.rect, ex_amplitude), \n",
    "                pg.p(None, delay), \n",
    "                pg.p('ro_trg', trg_length, pg.rect, 1), \n",
    "                pg.p('iq_ro', ro_dac_length, pg.rect, ro_amplitude)]\n",
    "    \n",
    "    pg.set_seq(sequence)\n",
    "    awg_tek.run()\n",
    "measurement = sweep.sweep(adc_reducer, (delays, set_delay, 'delay'), filename='Decay qubit{}'.format(qubit_id))\n",
    "\n",
    "measurement_fitted, fitted_parameters = fitting.S21pm_fit(measurement, fitting.exp_fit)\n",
    "#save_pkl.save_pkl({'type':'Decay'}, measurement_fitted)\n",
    "annotation = 'Decay: {0:4.6g} s'.format(fitted_parameters['decay'])\n",
    "save_pkl.save_pkl({'type':'Decay', 'name': 'qubit {}'.format(qubit_id)}, measurement_fitted, annotation=annotation)"
   ]
  },
  {
   "cell_type": "code",
   "execution_count": null,
   "metadata": {
    "collapsed": true
   },
   "outputs": [],
   "source": [
    "annotation = 'Decay: {0:4.6g} s'.format(fitted_parameters['decay'])\n",
    "save_pkl.save_pkl({'type':'Decay'}, measurement_fitted, annotation=annotation)"
   ]
  },
  {
   "cell_type": "markdown",
   "metadata": {},
   "source": [
    "### Rabi amplitude oscillations"
   ]
  },
  {
   "cell_type": "code",
   "execution_count": null,
   "metadata": {
    "collapsed": true
   },
   "outputs": [],
   "source": [
    "ex_amps = np.linspace(0.75,1.0,21)\n",
    "pause_length = 32e-9\n",
    "pi2_length = 16e-9\n",
    "sigma = 4e-9\n",
    "num_pulses = 16\n",
    "readout_begin = np.max((pi2_length+pause_length)*num_pulses)\n",
    "def set_ex_amp(amp):\n",
    "    awg_tek.set_nop(awg_tek.get_clock()/rep_rate)\n",
    "    \n",
    "    sequence = [pg.p('iq_ex', pi2_length, pg.gauss_hd,  amp, 0, sigma,0)]*num_pulses+\\\n",
    "               [pg.p('ro_trg', trg_length, pg.rect, 1), \n",
    "                pg.p('iq_ro', ro_dac_length, pg.rect, ro_amplitude)]\n",
    "    #print(sequence)\n",
    "    pg.set_seq(sequence)\n",
    "    \n",
    "    awg_tek.run()\n",
    "measurement = sweep.sweep(adc_reducer, (ex_amps, set_ex_amp, 'Rabi pulse amplitude'), filename='Rabi')"
   ]
  },
  {
   "cell_type": "markdown",
   "metadata": {},
   "source": [
    "### gaussian $\\pi/2$ pulse amplitudes"
   ]
  },
  {
   "cell_type": "code",
   "execution_count": null,
   "metadata": {
    "collapsed": true
   },
   "outputs": [],
   "source": [
    "#amp_x=0.554\n",
    "#amp_y=0.554\n",
    "#sigma = 2e-9\n",
    "#amp_x=0.29\n",
    "#amp_y=0.29\n",
    "amp_x = 0.90\n",
    "length = 16e-9\n",
    "pause_length = 0e-9\n",
    "sigma = 4e-9\n",
    "amp_x_hd = 0.89\n",
    "length_hd = 16e-9\n",
    "sigma_hd = 4e-9\n",
    "pause_length_hd = 8e-9\n",
    "alpha_hd = -0.92e-9"
   ]
  },
  {
   "cell_type": "markdown",
   "metadata": {},
   "source": [
    "### Ramsey with gauss pulses"
   ]
  },
  {
   "cell_type": "code",
   "execution_count": null,
   "metadata": {
    "collapsed": true,
    "scrolled": true
   },
   "outputs": [],
   "source": [
    "delays = np.linspace(0e-9, 2000e-9, 201)\n",
    "target_freq_offset = 20e6\n",
    "\n",
    "def set_delay(delay):\n",
    "    sequence = [pg.p(None, readout_begin-length),\n",
    "                pg.p('iq_ex', pi2_pulse, pg.gauss_hd, sigma, ex_amplitude, 0), \n",
    "                pg.p(None, delay), \n",
    "                pg.p('iq_ex', pi2_pulse, pg.gauss_hd, sigma, ex_amplitude*np.exp(1j*delay*target_freq_offset*2*np.pi), 0), \n",
    "                pg.p(None, delay), \n",
    "                pg.p('ro_trg', trg_length, pg.rect, 1), \n",
    "                pg.p('iq_ro', ro_dac_length, pg.rect, ro_amplitude)]\n",
    "    \n",
    "    pg.set_seq(sequence)\n",
    "    awg_tek.run()\n",
    "measurement = sweep.sweep(adc_reducer, (delays, set_delay, 'Ramsey delay'), filename='Ramsey')\n",
    "measurement_fitted, fitted_parameters = fitting.S21pm_fit(measurement, fitting.exp_sin_fit)\n",
    "annotation = 'Phase: {0:4.4g} rad, Freq: {1:4.4g}, Decay: {2:4.4g} s'.format(fitted_parameters['phase'], \n",
    "                                                                             fitted_parameters['freq'], \n",
    "                                                                             fitted_parameters['decay'])\n",
    "save_pkl.save_pkl({'type':'Ramsey'}, measurement_fitted, annotation=annotation)"
   ]
  },
  {
   "cell_type": "markdown",
   "metadata": {},
   "source": [
    "# Optimizing readout pulse settings"
   ]
  },
  {
   "cell_type": "code",
   "execution_count": null,
   "metadata": {
    "collapsed": true,
    "scrolled": true
   },
   "outputs": [],
   "source": [
    "#ex_calib_seq = [pg.p('iq_ex', length, pg.gauss_hd, amp_x, 0, sigma), pg.p(None, pause_length)]*2\n",
    "ex_calib_seq = [pg.p('iq_ex', 18e-9, pg.rect, 0.2), pg.p(None, pause_length)]\n",
    "ro_seq = [pg.p('ro_trg', trg_length, pg.rect, 1), pg.p('iq_ro', ro_dac_length, pg.rect, ro_amplitude)]\n",
    "adc_sz = tomography_new.sz_measurer(adc, ex_calib_seq, ro_seq, pg)\n",
    "adc_sz.save_last_samples = True\n",
    "#adc_sz.dump_measured_samples = True\n",
    "adc.set_software_nums_multi(1)\n",
    "adc_sz.repeat_samples = 3\n",
    "\n",
    "def target_min():\n",
    "    F = 1-adc_sz.measure()['Calibrated ROC AUC']\n",
    "    print ('fidelity: ', 1-F)\n",
    "    return F\n",
    "\n",
    "class ro_pulse_generator:\n",
    "    def __init__(self, adc_sz, ro_amplitude, ro_dac_length):\n",
    "        self.ro_amplitude = ro_amplitude\n",
    "        self.ro_dac_length = ro_dac_length\n",
    "        self.adc_sz = adc_sz\n",
    "    def set_ro_freq(self, ro_freq):\n",
    "        iq_ro.set_uncal_frequency(ro_freq)\n",
    "        self.make_ro_seq()\n",
    "    def set_paramp_pump_freq(self, pump_freq):\n",
    "        lo_amp.set_frequency(pump_freq)\n",
    "    def set_paramp_pump_power(self, pump_power):\n",
    "        lo_amp.set_power(pump_power)\n",
    "    def set_paramp_bias_current(self, paramp_bias):\n",
    "        current_src2.set_current(paramp_bias)\n",
    "    def make_ro_seq(self):\n",
    "        adc_sz.ro_seq = [pg.p('ro_trg', trg_length, pg.rect, 1), pg.p('iq_ro', self.ro_dac_length, pg.rect, self.ro_amplitude)]\n",
    "    def set_ro_length(self, ro_dac_length):\n",
    "        self.ro_dac_length = ro_dac_length\n",
    "        self.make_ro_seq()\n",
    "        adc_sz.measurement_name = 'ro_dac_length {0}ns ro_dac_amiltude {1:4.2f}'.format(int(self.ro_dac_length*1e9), self.ro_amplitude)\n",
    "    def set_ro_amplitude(self, ro_amplitude):\n",
    "        self.ro_amplitude = ro_amplitude\n",
    "        self.make_ro_seq()\n",
    "        adc_sz.measurement_name = 'ro_dac_length {0}ns ro_dac_amiltude {1:4.2f}'.format(int(self.ro_dac_length*1e9), self.ro_amplitude)\n",
    "\n",
    "ro_dac_lengths = np.linspace(0.05e-6,1.0e-6,20)\n",
    "ro_dac_amplitudes = np.linspace(0.05,1.0,20)\n",
    "\n",
    "ro_pulse_generator_inst = ro_pulse_generator(adc_sz, ro_amplitude, ro_dac_length)\n",
    "#solution, score = sweep.optimize(target_min, (ro_pulse_generator_inst.set_ro_length, 3e-8), \n",
    "#                                             (ro_pulse_generator_inst.set_ro_amplitude, 0.9), maxfun=30)\n",
    "#ro_dac_length = solution[0]\n",
    "#ro_dac_amplitude = solution[1]\n",
    "#"
   ]
  },
  {
   "cell_type": "code",
   "execution_count": null,
   "metadata": {
    "collapsed": true
   },
   "outputs": [],
   "source": [
    "sweep.sweep(adc_sz, (ro_dac_lengths, ro_pulse_generator_inst.set_ro_length, 'Readout pulse length'), \n",
    "                    (ro_dac_amplitudes, ro_pulse_generator_inst.set_ro_amplitude, 'Readout pulse amplitude'), filename='Readout fidelity with paramp')"
   ]
  },
  {
   "cell_type": "markdown",
   "metadata": {},
   "source": [
    "## Optimizing readout pulse length, amplitude, frequency, paramteric amplifier pump and bias"
   ]
  },
  {
   "cell_type": "code",
   "execution_count": null,
   "metadata": {
    "collapsed": true
   },
   "outputs": [],
   "source": [
    "p0 = [700e-9, 0.5, iq_ro.get_frequency(), lo_amp.get_frequency(), lo_amp.get_power(), current_src2.get_current()]\n",
    "dp = [50e-9, 0.05, 0.5e6, 3e6, 0.06, 3e-5]\n",
    "\n",
    "initial_simplex = [p0]+[[p0[i]+(dp[i] if i == j else 0) for i in range(len(dp))] for j in range(len(dp))]\n",
    "\n",
    "solution, score = sweep.optimize(target_min, (ro_pulse_generator_inst.set_ro_length, 700e-9), \n",
    "                                             (ro_pulse_generator_inst.set_ro_amplitude, 0.5),\n",
    "                                             (ro_pulse_generator_inst.set_ro_freq, iq_ro.get_frequency()),\n",
    "                                             (ro_pulse_generator_inst.set_paramp_pump_freq, lo_amp.get_frequency()),\n",
    "                                             (ro_pulse_generator_inst.set_paramp_pump_power, lo_amp.get_power()),\n",
    "                                             (ro_pulse_generator_inst.set_paramp_bias_current, current_src2.get_current()),\n",
    "                                             initial_simplex=initial_simplex,\n",
    "                                             maxfun=50)"
   ]
  },
  {
   "cell_type": "markdown",
   "metadata": {},
   "source": [
    "### |0> & |1> readout calibration"
   ]
  },
  {
   "cell_type": "code",
   "execution_count": null,
   "metadata": {
    "collapsed": true
   },
   "outputs": [],
   "source": [
    "lo_amp.get_status()"
   ]
  },
  {
   "cell_type": "code",
   "execution_count": null,
   "metadata": {
    "collapsed": true
   },
   "outputs": [],
   "source": [
    "imp.reload(tomography_new)\n",
    "imp.reload(awg_iq)\n",
    "imp.reload(save_pkl)"
   ]
  },
  {
   "cell_type": "code",
   "execution_count": null,
   "metadata": {
    "collapsed": true,
    "scrolled": true
   },
   "outputs": [],
   "source": [
    "ro_dac_length = 600e-9\n",
    "ro_dac_amplitude = 0.517\n",
    "ro_delay_length = 10e-9\n",
    "ro_delay_amplitude = 1.\n",
    "#ex_calib_seq = [pg.p('iq_ex', length, pg.gauss_hd, amp_x, 0, sigma, alpha_hd), pg.p(None, pause_length)]*2\n",
    "ex_calib_seq = [pg.p('iq_ex', 59e-9, pg.rect, 0.5), pg.p(None, pause_length)]\n",
    "#ex_calib_seq = [pg.p('iq_ex', length, pg.gauss_hd, amp_x, 0, sigma)]*2\n",
    "#ro_seq = [pg.p('ro_trg', trg_length, pg.rect, 1), pg.p('iq_ro', ro_dac_length, pg.rect, ro_amplitude)]\n",
    "ro_seq = [pg.p('ro_trg', trg_length, pg.rect, 1), pg.p('iq_ro', ro_dac_length, pg.rect, ro_dac_amplitude)]\n",
    "ro_delay_seq = [pg.p('ro_trg', trg_length, pg.rect, 1), pg.p('iq_ro', ro_delay_length, pg.rect, ro_delay_amplitude)]\n",
    "adc_sz = tomography_new.sz_measurer(adc, ex_calib_seq, ro_seq, pg, ro_delay_seq = ro_delay_seq)\n",
    "adc_sz.save_last_samples = True\n",
    "adc_sz.repeat_samples = 1\n",
    "#adc.set_software_nums_multi(2)\n",
    "print(adc_sz.measure_delay('iq_ro'))\n",
    "print(adc_sz.measure())\n",
    "#sz_filter = adc_sz.calibrate()\n",
    "#print('ROC AUC:', adc_sz.calib_roc_auc, 'Fidelity:', adc_sz.calib_fidelity)\n",
    "#print('ROC AUC binary:', adc_sz.calib_roc_auc_binary, 'Fidelity binary:', adc_sz.calib_fidelity_binary) "
   ]
  },
  {
   "cell_type": "code",
   "execution_count": null,
   "metadata": {
    "collapsed": true
   },
   "outputs": [],
   "source": [
    "adc_sz.dump_samples('ro_dac_length {0}ns ro_dac_amiltude {1:4.2f}'.format(int(ro_dac_length*1e9), ro_dac_amplitude))"
   ]
  },
  {
   "cell_type": "code",
   "execution_count": null,
   "metadata": {
    "collapsed": true
   },
   "outputs": [],
   "source": [
    "adc.stop()"
   ]
  },
  {
   "cell_type": "code",
   "execution_count": null,
   "metadata": {
    "collapsed": true
   },
   "outputs": [],
   "source": [
    "plt.figure()\n",
    "plt.pcolormesh(np.real(adc_sz.samples[0,:,:]), vmin=15, vmax=25); plt.colorbar()\n",
    "plt.figure()\n",
    "plt.pcolormesh(np.real(adc_sz.samples[1,:,:]), vmin=15, vmax=25); plt.colorbar()"
   ]
  },
  {
   "cell_type": "code",
   "execution_count": null,
   "metadata": {
    "collapsed": true,
    "scrolled": true
   },
   "outputs": [],
   "source": [
    "plt.hist(adc_sz.calib_pred.T, bins=20)"
   ]
  },
  {
   "cell_type": "code",
   "execution_count": null,
   "metadata": {
    "collapsed": true
   },
   "outputs": [],
   "source": [
    "#plt.scatter(np.real(adc_sz.calib_usl_pred[0,:]), np.imag(adc_sz.calib_usl_pred[0,:]), color='r', s=1)\n",
    "#plt.scatter(np.real(adc_sz.calib_usl_pred[1,:]), np.imag(adc_sz.calib_usl_pred[1,:]), color='b', s=1)\n",
    "#plt.figure()\n",
    "#plt.hist(adc_sz.calib_pred.T, bins=20)\n",
    "plt.figure()\n",
    "#plt.hist(np.real(adc_sz.calib_usl_pred.T), bins=20)\n",
    "plt.plot(np.real(adc_sz.calib_bg-np.mean(adc_sz.calib_bg)))\n",
    "plt.plot(np.imag(adc_sz.calib_bg-np.mean(adc_sz.calib_bg)))\n",
    "plt.plot(np.real(adc_sz.calib_feature))\n",
    "plt.plot(np.imag(adc_sz.calib_feature))"
   ]
  },
  {
   "cell_type": "markdown",
   "metadata": {},
   "source": [
    "### Tomography"
   ]
  },
  {
   "cell_type": "code",
   "execution_count": null,
   "metadata": {
    "collapsed": true
   },
   "outputs": [],
   "source": [
    "observables = { 'X': 0.5*np.asarray([[0, 1],   [1, 0]]),\n",
    "                'Y': 0.5*np.asarray([[0, -1j],   [1j, 0]]),\n",
    "                '-X': 0.5*np.asarray([[0, -1],   [-1, 0]]),\n",
    "                '-Y': 0.5*np.asarray([[0, 1j],   [-1j, 0]]),\n",
    "                'Z': 0.5*np.asarray([[1, 0],   [0, -1]])}\n",
    "proj_seq = {'Xo':{'pulses': [pg.p('iq_ex', length, pg.gauss_hd, 0, -amp_x, sigma, alpha_hd), pg.p(None, pause_length)]+ro_seq, \n",
    "                 'operator': observables['X']},\n",
    "            'Yo':{'pulses': [pg.p('iq_ex', length, pg.gauss_hd, amp_x, 0, sigma, alpha_hd), pg.p(None, pause_length)]+ro_seq,\n",
    "                 'operator': observables['Y']},\n",
    "            '-Xo':{'pulses':[pg.p('iq_ex', length, pg.gauss_hd, 0, amp_x, sigma, alpha_hd), pg.p(None, pause_length)]+ro_seq,\n",
    "                 'operator': observables['-X']},\n",
    "            '-Yo':{'pulses':[pg.p('iq_ex', length, pg.gauss_hd, -amp_x, 0, sigma, alpha_hd), pg.p(None, pause_length)]+ro_seq,\n",
    "                 'operator': observables['-Y']},\n",
    "            'Zo': {'pulses':ro_seq, 'operator':observables['Z']} }\n",
    "reconstruction_basis={'x':{'operator':observables['X']},\n",
    "                      'y':{'operator':observables['Y']},\n",
    "                      'z':{'operator':observables['Z']}}\n",
    "tomo = tomography_new.tomography(adc_sz, pg, proj_seq, reconstruction_basis=reconstruction_basis)"
   ]
  },
  {
   "cell_type": "code",
   "execution_count": null,
   "metadata": {
    "collapsed": true
   },
   "outputs": [],
   "source": [
    "proj_seq = {'Z': {'pulses':ro_seq, 'operator':observables['Z']}}\n",
    "tomoz = tomography_new.tomography(adc_sz, pg, proj_seq)"
   ]
  },
  {
   "cell_type": "code",
   "execution_count": null,
   "metadata": {
    "collapsed": true
   },
   "outputs": [],
   "source": [
    "## tomography of |0> state\n",
    "adc.set_software_nums_multi(20)\n",
    "tomo.set_prepare_seq([])\n",
    "tomo.measure()"
   ]
  },
  {
   "cell_type": "code",
   "execution_count": null,
   "metadata": {
    "collapsed": true
   },
   "outputs": [],
   "source": [
    "## tomography of |1> state\n",
    "tomo.set_prepare_seq([pg.p('iq_ex', length, pg.gauss_hd, 0, -amp_x, sigma, alpha_hd), pg.p(None, pause_length)]*2)\n",
    "tomo.measure()"
   ]
  },
  {
   "cell_type": "code",
   "execution_count": null,
   "metadata": {
    "collapsed": true
   },
   "outputs": [],
   "source": [
    "## tomography of |1> state\n",
    "tomo.set_prepare_seq([pg.p('iq_ex', length, pg.gauss_hd, 0, -amp_x, sigma, alpha_hd), pg.p(None, pause_length)]+\n",
    "                     [pg.p('iq_ex', length, pg.gauss_hd, 0, -amp_x, sigma, alpha_hd), pg.p(None, pause_length),\n",
    "                     pg.p('iq_ex', length, pg.gauss_hd, 0, amp_x, sigma, alpha_hd), pg.p(None, pause_length)]*10)\n",
    "tomo.measure()"
   ]
  },
  {
   "cell_type": "code",
   "execution_count": null,
   "metadata": {
    "collapsed": true
   },
   "outputs": [],
   "source": [
    "## tomography of |1> state\n",
    "tomo.set_prepare_seq([pg.p('iq_ex', length, pg.gauss_hd, 0, -amp_x, sigma, -0.92e-9), pg.p(None, pause_length)]+\n",
    "                     [pg.p('iq_ex', length, pg.gauss_hd, 0, -amp_x, sigma, -0.92e-9), pg.p(None, pause_length),\n",
    "                     pg.p('iq_ex', length, pg.gauss_hd, 0, amp_x, sigma, -0.92e-9), pg.p(None, pause_length)]*10)\n",
    "tomo.measure()"
   ]
  },
  {
   "cell_type": "code",
   "execution_count": null,
   "metadata": {
    "collapsed": true
   },
   "outputs": [],
   "source": [
    "## tomography of |0>+|1> state\n",
    "tomo.set_prepare_seq([pg.p('iq_ex', length, pg.gauss_hd, 0, -amp_x, sigma), pg.p(None, pause_length)])\n",
    "tomo.measure()"
   ]
  },
  {
   "cell_type": "code",
   "execution_count": null,
   "metadata": {
    "collapsed": true
   },
   "outputs": [],
   "source": [
    "## tomography of |0>-|1> state\n",
    "tomo.set_prepare_seq([pg.p('iq_ex', length, pg.gauss_hd, 0, 1j*amp_x, sigma), pg.p(None, pause_length)])\n",
    "tomo.measure()"
   ]
  },
  {
   "cell_type": "code",
   "execution_count": null,
   "metadata": {
    "collapsed": true
   },
   "outputs": [],
   "source": [
    "## tomography of -|0>-|1> state\n",
    "tomo.set_prepare_seq([pg.p('iq_ex', length, pg.gauss_hd, 0, -amp_x, sigma), pg.p(None, pause_length)])\n",
    "tomo.measure()"
   ]
  },
  {
   "cell_type": "code",
   "execution_count": null,
   "metadata": {
    "collapsed": true
   },
   "outputs": [],
   "source": [
    "## tomography of -|0>+|1> state\n",
    "tomo.set_prepare_seq([pg.p('iq_ex', length, pg.gauss_hd, 0, -1j*amp_x, sigma), pg.p(None, pause_length)])\n",
    "tomo.measure()"
   ]
  },
  {
   "cell_type": "markdown",
   "metadata": {},
   "source": [
    "# Randomized benchmarking"
   ]
  },
  {
   "cell_type": "code",
   "execution_count": null,
   "metadata": {
    "collapsed": true
   },
   "outputs": [],
   "source": [
    "import interleaved_benchmarking\n",
    "imp.reload(interleaved_benchmarking)\n",
    "\n",
    "bench = interleaved_benchmarking.interleaved_benchmarking(tomo)\n",
    "\n",
    "unitaries = {0:np.sqrt(0.5)*np.asarray([[1, -1j],  [-1j, 1]]),\\\n",
    "             1:np.sqrt(0.5)*np.asarray([[1, -1],    [1, 1]]),\\\n",
    "             2:np.sqrt(0.5)*np.asarray([[1, 1j],   [1j, 1]]),\\\n",
    "             3:np.sqrt(0.5)*np.asarray([[1, 1],   [-1, 1]])}\n",
    "bench.interleavers = {'X': {'pulses':[pg.p('iq_ex', length, pg.gauss_hd, -amp_x, 0, sigma, alpha_hd), pg.p(None, pause_length)],\n",
    "                            'unitary': np.sqrt(0.5)*np.asarray([[1, -1j],  [-1j, 1]])},\n",
    "                      'Y': {'pulses':[pg.p('iq_ex', length, pg.gauss_hd, 1j*amp_x, 0, sigma, alpha_hd), pg.p(None, pause_length)],\n",
    "                            'unitary': np.sqrt(0.5)*np.asarray([[1, -1],    [1, 1]])},\n",
    "                      '-X':{'pulses':[pg.p('iq_ex', length, pg.gauss_hd, amp_x, 0, sigma, alpha_hd), pg.p(None, pause_length)],\n",
    "                            'unitary': np.sqrt(0.5)*np.asarray([[1, 1j],   [1j, 1]])},\n",
    "                      '-Y':{'pulses':[pg.p('iq_ex', length, pg.gauss_hd, -1j*amp_x, 0, sigma, alpha_hd), pg.p(None, pause_length)],\n",
    "                            'unitary': np.sqrt(0.5)*np.asarray([[1, 1],   [-1, 1]])},\n",
    "                      'I':{'pulses':[], 'unitary':np.asarray([[1, 0], [0,1]])}}\n",
    "bench.sequence_length = 10\n",
    "bench.random_sequence_num = 6\n",
    "bench.prepare_random_interleaving_sequences()\n",
    "#bench.generate_interleaver_sequence_from_names()"
   ]
  },
  {
   "cell_type": "code",
   "execution_count": null,
   "metadata": {
    "collapsed": true
   },
   "outputs": [],
   "source": [
    "seq_lengths = np.arange(101)\n",
    "sweep.sweep(bench, (seq_lengths, bench.set_sequence_length_and_regenerate, 'Gate number'))"
   ]
  },
  {
   "cell_type": "code",
   "execution_count": null,
   "metadata": {
    "collapsed": true
   },
   "outputs": [],
   "source": [
    "bench.target_gate = bench.interleavers['X']['pulses']\n",
    "bench.target_gate_unitary = bench.interleavers['X']['unitary']\n",
    "bench.target_gate_name = 'X (benchmarking)'\n",
    "tfunc = lambda : np.mean(bench.measure()['Euclidean distance'])\n",
    "class hd_pulse_generator:\n",
    "    def __init__(self, pulse_setter, pg, channel):\n",
    "        self.amp_x = -amp_x_hd\n",
    "        self.amp_y = amp_x_hd\n",
    "        self.sigma = sigma_hd\n",
    "        self.length = length_hd\n",
    "        self.pause_length = pause_length_hd\n",
    "        self.alpha = alpha_hd\n",
    "        \n",
    "        self.pg = pg\n",
    "        self.channel = channel\n",
    "        self.pulse = self.pulse_gen()\n",
    "        self.pulse_setter = pulse_setter\n",
    "    def set_real_amplitude(self,x):\n",
    "        self.amp_x = x\n",
    "        self.pulse_setter(self.pulse_gen())\n",
    "    def set_imag_amplitude(self,y):\n",
    "        self.amp_y = y\n",
    "        self.pulse_setter(self.pulse_gen())\n",
    "    def set_sigma(self,s):\n",
    "        self.sigma = s\n",
    "        self.pulse_setter(self.pulse_gen())\n",
    "    def set_length(self,l):\n",
    "        self.length = l\n",
    "        self.pulse_setter(self.pulse_gen())\n",
    "    def set_pause_length(self, p):\n",
    "        self.pause_length = p\n",
    "        self.pulse_setter(self.pulse_gen())\n",
    "    def set_alpha(self, a):\n",
    "        self.alpha = a\n",
    "        self.pulse_setter(self.pulse_gen())\n",
    "    def pulse_gen(self):\n",
    "        return [pg.p(self.channel, self.length, self.pg.gauss_hd, self.amp_x+1j*self.amp_y, 0, self.sigma, self.alpha), pg.p(None, self.pause_length)]\n",
    "    \n",
    "xg = hd_pulse_generator(bench.set_target_pulse, pg, 'iq_ex')"
   ]
  },
  {
   "cell_type": "code",
   "execution_count": null,
   "metadata": {
    "collapsed": true
   },
   "outputs": [],
   "source": [
    "sol, score = sweep.optimize(tfunc,  (xg.set_real_amplitude, xg.amp_x), \n",
    "                                    (xg.set_imag_amplitude, xg.amp_y),\n",
    "                                    (xg.set_alpha, xg.alpha))"
   ]
  },
  {
   "cell_type": "code",
   "execution_count": null,
   "metadata": {
    "collapsed": true
   },
   "outputs": [],
   "source": [
    "amps = np.linspace(0.925, 0.975, 21)\n",
    "alphas = np.linspace(-2e-9, 2e-9, 11)\n",
    "sweep.sweep(bench, (amps, xg.set_real_amplitude, 'Amplitude'), (alphas, xg.set_alpha, 'HD DRAG coeff'), filename='Randomized interleaved benchmarging X-rotation')"
   ]
  },
  {
   "cell_type": "code",
   "execution_count": null,
   "metadata": {
    "collapsed": true
   },
   "outputs": [],
   "source": [
    "data = save_pkl.load_pkl('Euclidean distance Randomized interleaved benchmarging X-rotation', 'D:\\\\qtlab\\\\ReiData\\\\data\\\\2017-07-02\\\\23-03-34')\n",
    "plt.figure()\n",
    "plt.pcolormesh(data[1]['Euclidean distance'][1][1], data[1]['Euclidean distance'][1][0], data[1]['Euclidean distance'][2][:,:,5])\n",
    "plt.colorbar()"
   ]
  },
  {
   "cell_type": "code",
   "execution_count": null,
   "metadata": {
    "collapsed": true
   },
   "outputs": [],
   "source": [
    "data[1]"
   ]
  },
  {
   "cell_type": "code",
   "execution_count": null,
   "metadata": {
    "collapsed": true
   },
   "outputs": [],
   "source": [
    "data[1]['Euclidean distance']"
   ]
  },
  {
   "cell_type": "code",
   "execution_count": null,
   "metadata": {
    "collapsed": true
   },
   "outputs": [],
   "source": [
    "meas = bench.measure()"
   ]
  },
  {
   "cell_type": "code",
   "execution_count": null,
   "metadata": {
    "collapsed": true
   },
   "outputs": [],
   "source": [
    "meas['Xo']"
   ]
  },
  {
   "cell_type": "code",
   "execution_count": null,
   "metadata": {
    "collapsed": true
   },
   "outputs": [],
   "source": [
    "import plotting\n",
    "imp.reload(plotting)\n",
    "plotting.plot_measurement(bench.reference_benchmark_result)"
   ]
  },
  {
   "cell_type": "markdown",
   "metadata": {},
   "source": [
    "# Optimizing Drag"
   ]
  },
  {
   "cell_type": "code",
   "execution_count": null,
   "metadata": {
    "collapsed": true
   },
   "outputs": [],
   "source": [
    "num_interleved_pulses = 2\n",
    "alphas = np.linspace(-1e-8, 1e-8, 201)\n",
    "def set_drag (alpha):\n",
    "    ramsey_half = [pg.p('iq_ex', length_hd, pg.gauss_hd, amp_x_hd, 0, sigma_hd, alpha), \n",
    "                 pg.p(None, pause_length_hd)]\n",
    "    interleaved_identity = [pg.p('iq_ex', length_hd, pg.gauss_hd, -amp_x_hd, 0, sigma_hd, alpha), \n",
    "                           pg.p(None, pause_length_hd),\n",
    "                           pg.p('iq_ex', length_hd, pg.gauss_hd, amp_x_hd, 0, sigma_hd, alpha), \n",
    "                           pg.p(None, pause_length_hd)]\n",
    "    tomo.set_prepare_seq(ramsey_half+interleaved_identity*num_interleved_pulses+ramsey_half)\n",
    "    \n",
    "measurement = sweep.sweep(tomo, (alphas, set_drag, 'delta_freq'), filename='DRAG', output=False)"
   ]
  },
  {
   "cell_type": "markdown",
   "metadata": {},
   "source": [
    "### Randomized Benchmarking"
   ]
  },
  {
   "cell_type": "code",
   "execution_count": null,
   "metadata": {
    "collapsed": true
   },
   "outputs": [],
   "source": [
    "pause_pulse = tomography.pause(pause_length, awg_channels)\n",
    "pulses = {0:tomography.ex_gauss_hd(amp_x_hd, amp_y_hd, length_hd, sigma_hd, awg_channels, -200e6/np.pi),\n",
    "          1:tomography.ex_gauss_hd(amp_y_hd, -amp_x_hd, length_hd, sigma_hd, awg_channels, -200e6/np.pi),\n",
    "          2:tomography.ex_gauss_hd(-amp_x_hd, -amp_y_hd, length_hd, sigma_hd, awg_channels, -200e6/np.pi),\n",
    "          3:tomography.ex_gauss_hd(-amp_y_hd, amp_x_hd, length_hd, sigma_hd, awg_channels, -200e6/np.pi)}\n",
    "\n",
    "unitaries = {0:np.sqrt(0.5)*np.asarray([[1, -1j],  [-1j, 1]]),\\\n",
    "             1:np.sqrt(0.5)*np.asarray([[1, -1],    [1, 1]]),\\\n",
    "             2:np.sqrt(0.5)*np.asarray([[1, 1j],   [1j, 1]]),\\\n",
    "             3:np.sqrt(0.5)*np.asarray([[1, 1],   [-1, 1]])}\n",
    "\n",
    "observables = { 'X': 0.5*np.asarray([[0, 1],   [1, 0]]),\n",
    "                'Y': 0.5*np.asarray([[0, -1j],   [1j, 0]]),\n",
    "                '-X': 0.5*np.asarray([[0, -1],   [-1, 0]]),\n",
    "                '-Y': 0.5*np.asarray([[0, 1j],   [-1j, 0]]),\n",
    "                'Z': 0.5*np.asarray([[1, 0],   [0, -1]])}\n",
    "\n",
    "initial = np.asarray([0, 1]).T\n",
    "random_pulse_ids = np.arange(20)\n",
    "num_gates = np.linspace(0, 100, 11)\n",
    "\n",
    "sequences = []\n",
    "pulse_sequences = []\n",
    "theor_projs = {o:np.zeros((len(num_gates), len(random_pulse_ids))) for o in observables.keys()}\n",
    "rho_t = np.zeros((len(num_gates), len(random_pulse_ids),2,2), dtype=np.complex)\n",
    "psis = np.zeros((len(num_gates), len(random_pulse_ids),2), dtype=np.complex)\n",
    "n=0\n",
    "\n",
    "def set_num_gates(n_new):\n",
    "    global n\n",
    "    n = n_new\n",
    "\n",
    "def set_random_sequence(id):\n",
    "    sequence = np.random.randint (4, size = n).tolist()\n",
    "    sequence_pulses = [j for i in [[pulses[i], pause_pulse] for i in sequence] for j in i]\n",
    "    sequence_unitaries = [unitaries[i] for i in sequence]\n",
    "    psi = initial.copy()\n",
    "    \n",
    "    for U in sequence_unitaries:\n",
    "        psi = np.dot(U, psi)\n",
    "    \n",
    "    rho_t[n,id,:,:] = np.einsum('i,j->ij', np.conj(psi), psi)\n",
    "    psis[n,id,:] = psi\n",
    "    \n",
    "    sequences.append(sequence)\n",
    "    for o in observables.keys():\n",
    "        theor_projs[o][n,id] = np.dot(np.dot(np.conj(psi), observables[o]), psi)\n",
    "    \n",
    "    tomo_hd.set_prepare_seq(sequence_pulses)\n",
    "    pulse_sequences.append(sequence_pulses)\n",
    "    \n",
    "m = sweep.sweep(tomo_hd, (num_gates, set_num_gates, 'gate num'), (random_pulse_ids, set_random_sequence, 'random seq id'), filename='RB', output=False)\n",
    "X = (m['X'][2]-m['-X'][2])/2.\n",
    "Y = (m['Y'][2]-m['-Y'][2])/2.\n",
    "Z = m['Z'][2]\n",
    "rho_m = np.transpose([[0.5+Z, X+1j*Y], [X-1j*Y, 0.5-Z]], [2,3,0,1])\n",
    "fidelities = np.sqrt(np.einsum('nmi,nmji,nmj->nm', np.conj(psis), rho_m, psis))\n",
    "\n",
    "m['Fidelity'] = [d for d in m['X']]\n",
    "m['Fidelity'][2] = np.asarray(fidelities, dtype=np.float)\n",
    "for o,O in observables.items():\n",
    "    m[o+' fit'] = [d for d in m[o]]\n",
    "    m[o+' fit'][2] = np.asarray(theor_projs[o], dtype=np.float)\n",
    "#m['rho_t'] = m['X'].copy()\n",
    "save_pkl.save_pkl({'type':'Randomized benchmark Clifford'}, m)"
   ]
  },
  {
   "cell_type": "code",
   "execution_count": null,
   "metadata": {
    "collapsed": true
   },
   "outputs": [],
   "source": [
    "plt.plot(m['Fidelity'][1]m['Fidelity'])"
   ]
  },
  {
   "cell_type": "code",
   "execution_count": null,
   "metadata": {
    "collapsed": true
   },
   "outputs": [],
   "source": [
    "rho_m"
   ]
  },
  {
   "cell_type": "code",
   "execution_count": null,
   "metadata": {
    "collapsed": true
   },
   "outputs": [],
   "source": [
    "plt.plot(m['Fidelity'][1][0], np.mean(m['Fidelity'][2],axis=1))\n",
    "plt.xlabel('gate num')\n",
    "plt.ylabel('fidelity')\n",
    "plt.grid()"
   ]
  },
  {
   "cell_type": "code",
   "execution_count": null,
   "metadata": {
    "collapsed": true,
    "scrolled": true
   },
   "outputs": [],
   "source": [
    "rho_m = np.transpose([[0.5+Z, X+1j*Y], [X-1j*Y, 0.5-Z]], [2,3,0,1])\n",
    "fidelities = np.sqrt(np.einsum('mni,mnji,mnj->mn', np.conj(psis), rho_m, psis))\n",
    "\n",
    "m['Fidelity'] = [d for d in m['X']]\n",
    "m['Fidelity'][2] = np.asarray(fidelities, dtype=np.float)\n",
    "for o,O in observables.items():\n",
    "    m[o+' fit'] = [d for d in m[o]]\n",
    "    m[o+' fit'][2] = np.asarray(theor_projs[o], dtype=np.float)\n",
    "#m['rho_t'] = m['X'].copy()\n",
    "save_pkl.save_pkl({'type':'Randomized benchmark Clifford'}, m)"
   ]
  },
  {
   "cell_type": "code",
   "execution_count": null,
   "metadata": {
    "collapsed": true
   },
   "outputs": [],
   "source": [
    "m"
   ]
  },
  {
   "cell_type": "code",
   "execution_count": null,
   "metadata": {
    "collapsed": true
   },
   "outputs": [],
   "source": []
  },
  {
   "cell_type": "code",
   "execution_count": null,
   "metadata": {
    "collapsed": true
   },
   "outputs": [],
   "source": [
    "fidelities"
   ]
  },
  {
   "cell_type": "code",
   "execution_count": null,
   "metadata": {
    "collapsed": true
   },
   "outputs": [],
   "source": [
    "psis"
   ]
  },
  {
   "cell_type": "code",
   "execution_count": null,
   "metadata": {
    "collapsed": true
   },
   "outputs": [],
   "source": [
    "rho_m"
   ]
  },
  {
   "cell_type": "code",
   "execution_count": null,
   "metadata": {
    "collapsed": true
   },
   "outputs": [],
   "source": [
    "rho_t"
   ]
  },
  {
   "cell_type": "code",
   "execution_count": null,
   "metadata": {
    "collapsed": true
   },
   "outputs": [],
   "source": [
    "measurement['theory'] = thoer_proj\n",
    "save_pkl.save_pkl({'type':'Randomized benchmark Clifford'}, measurement)"
   ]
  },
  {
   "cell_type": "code",
   "execution_count": null,
   "metadata": {
    "collapsed": true
   },
   "outputs": [],
   "source": [
    "print(theor_projs)\n",
    "print(measurement)\n",
    "print(psis)\n",
    "print (sequences)\n",
    "print (rho_t)\n",
    "print (rho_m)"
   ]
  },
  {
   "cell_type": "code",
   "execution_count": null,
   "metadata": {
    "collapsed": true
   },
   "outputs": [],
   "source": [
    "np.dot(np.conj(psis[1]), np.dot(observables['Y'],psis[1]))"
   ]
  },
  {
   "cell_type": "code",
   "execution_count": null,
   "metadata": {
    "collapsed": true
   },
   "outputs": [],
   "source": [
    "num_pulses = np.round(np.arange(0, 41)).astype(np.int)\n",
    "\n",
    "def set_num_pulses(n):\n",
    "    tomoz.set_prepare_seq([tomography.ex_gauss(amp_x, length, sigma, awg_channels), \n",
    "                          tomography.pause(pause_length, awg_channels)]*n)\n",
    "\n",
    "measurement = sweep.sweep(tomoz, (num_pulses, set_num_pulses, 'SX pi2 pulse num'), filename='Rabi', output=False)"
   ]
  },
  {
   "cell_type": "code",
   "execution_count": null,
   "metadata": {
    "collapsed": true
   },
   "outputs": [],
   "source": [
    "num_pulses = np.round(np.arange(0, 21)).astype(np.int)\n",
    "\n",
    "def set_num_pulses(n):\n",
    "    tomo.set_prepare_seq([tomography.ex_gauss_hd(amp_x_hd, amp_y_hd, length_hd, sigma_hd, awg_channels, -200e6/np.pi), \n",
    "                          tomography.pause(pause_length, awg_channels)]*n)\n",
    "\n",
    "measurement = sweep.sweep(tomo, (num_pulses, set_num_pulses, 'SX pi2 pulse num'), filename='Rabi', output=False)"
   ]
  },
  {
   "cell_type": "code",
   "execution_count": null,
   "metadata": {
    "collapsed": true
   },
   "outputs": [],
   "source": [
    "num_pulses = np.round(np.arange(0, 21)).astype(np.int)\n",
    "\n",
    "def set_num_pulses(n):\n",
    "    tomo.set_prepare_seq([tomography.ex_gauss(amp_x_hd, length_hd, sigma_hd, awg_channels), \n",
    "                          tomography.pause(pause_length, awg_channels)]*n)\n",
    "\n",
    "measurement = sweep.sweep(tomo, (num_pulses, set_num_pulses, 'SX pi2 pulse num'), filename='Rabi', output=False)"
   ]
  },
  {
   "cell_type": "code",
   "execution_count": null,
   "metadata": {
    "collapsed": true
   },
   "outputs": [],
   "source": [
    "ex_amplitude=0.25\n",
    "lengths = np.linspace(0e-9, 200e-9, 51)\n",
    "readout_begin = np.max(lengths)\n",
    "\n",
    "def set_ex_length(length):\n",
    "    tomo.set_prepare_seq([tomography.ex_rect(ex_amplitude, length, awg_channels), tomography.pause(pause_length, awg_channels)])\n",
    "\n",
    "measurement = sweep.sweep(tomo, (lengths, set_ex_length, 'Rabi x-axis pulse length'), filename='Rabi', output=False)"
   ]
  },
  {
   "cell_type": "code",
   "execution_count": null,
   "metadata": {
    "collapsed": true
   },
   "outputs": [],
   "source": [
    "from mpl_toolkits.mplot3d import Axes3D\n",
    "fig = plt.figure()\n",
    "ax = fig.add_subplot(111, projection='3d')\n",
    "ax.plot(measurement ['X'][2], measurement ['Y'][2], measurement ['Z'][2], c='r', marker='o')\n",
    "ax.set_xlabel('X')\n",
    "ax.set_ylabel('Y')\n",
    "ax.set_zlabel('Z')\n",
    "ax.set_xlim([-0.6, 0.6])\n",
    "ax.set_ylim([-0.6, 0.6])\n",
    "ax.set_zlim([-0.6, 0.6])"
   ]
  },
  {
   "cell_type": "code",
   "execution_count": null,
   "metadata": {
    "collapsed": true
   },
   "outputs": [],
   "source": [
    "ex_amplitude = 0.25\n",
    "pause_length = 16e-9\n",
    "lengths = np.linspace(0e-9, 2000e-9, 2001)\n",
    "readout_begin = np.max(lengths)\n",
    "\n",
    "def set_ex_length(length):\n",
    "    tomo.set_prepare_seq([tomography.ex_rect(1j*ex_amplitude, length, awg_channels), tomography.pause(pause_length, awg_channels)])\n",
    "\n",
    "measurement = sweep.sweep(tomo, (lengths, set_ex_length, 'Rabi y-axis pulse length'), filename='Rabi', output=False)"
   ]
  },
  {
   "cell_type": "markdown",
   "metadata": {},
   "source": [
    "### Optimizing phase between x and y pulses"
   ]
  },
  {
   "cell_type": "code",
   "execution_count": null,
   "metadata": {
    "collapsed": true
   },
   "outputs": [],
   "source": [
    "c_phase = 0\n",
    "c_n = 0\n",
    "\n",
    "adc.set_software_averages(1)\n",
    "adc.set_software_nums_multi(3)\n",
    "\n",
    "def set_n(n):\n",
    "    global c_n\n",
    "    global c_phase\n",
    "    c_n = n \n",
    "    y_pulse = [tomography.ex_gauss_hd(amp_x_hd*np.exp(1j*c_phase), amp_y_hd*np.exp(1j*c_phase), length_hd, sigma_hd, awg_channels, -200e6), tomography.pause(pause_length, awg_channels)]\n",
    "    tomo.set_prepare_seq(y_pulse*c_n)\n",
    "\n",
    "def set_y_phase(phase):\n",
    "    global c_n\n",
    "    global c_phase\n",
    "    c_phase = phase\n",
    "    y_pulse = [tomography.ex_gauss_hd(amp_x_hd*np.exp(1j*c_phase), amp_y_hd*np.exp(1j*c_phase), length_hd, sigma_hd, awg_channels, -200e6), tomography.pause(pause_length, awg_channels)]\n",
    "    tomo.set_prepare_seq(y_pulse*c_n)\n",
    "\n",
    "phases = np.linspace(np.pi/2.*0.8, np.pi/2.*1.2, 11, endpoint=False)\n",
    "num_pulses = np.arange(0,5)\n",
    "measurement = sweep.sweep(tomo, (phases, set_y_phase, 'y-pulse phase'), (num_pulses, set_n, 'y pulse num'), filename='y-phase', output=False)"
   ]
  },
  {
   "cell_type": "code",
   "execution_count": null,
   "metadata": {
    "collapsed": true
   },
   "outputs": [],
   "source": [
    "phases[7]"
   ]
  },
  {
   "cell_type": "code",
   "execution_count": null,
   "metadata": {
    "collapsed": true
   },
   "outputs": [],
   "source": [
    "plt.plot(np.asarray(results).T)"
   ]
  },
  {
   "cell_type": "code",
   "execution_count": null,
   "metadata": {
    "collapsed": true
   },
   "outputs": [],
   "source": [
    "adc.stop()"
   ]
  },
  {
   "cell_type": "code",
   "execution_count": null,
   "metadata": {
    "collapsed": true
   },
   "outputs": [],
   "source": [
    "plt.close()"
   ]
  },
  {
   "cell_type": "markdown",
   "metadata": {
    "collapsed": true
   },
   "source": [
    "# load calibration data"
   ]
  },
  {
   "cell_type": "code",
   "execution_count": null,
   "metadata": {
    "collapsed": true
   },
   "outputs": [],
   "source": [
    "import pickle\n",
    "f0 = open('D:\\\\qtlab\\\\ReiData\\\\data\\\\2017-04-26\\\\13-11-46\\\\Voltage ro calibration.pkl', 'rb')\n",
    "f1 = open('D:\\\\qtlab\\\\ReiData\\\\data\\\\2017-04-26\\\\13-11-14\\\\Voltage ro calibration.pkl', 'rb')\n",
    "cal0 = pickle.load(f0)\n",
    "cal1 = pickle.load(f1)"
   ]
  },
  {
   "cell_type": "code",
   "execution_count": null,
   "metadata": {
    "collapsed": true
   },
   "outputs": [],
   "source": [
    "import numpy as np\n",
    "import matplotlib.pyplot as plt\n",
    "%matplotlib qt4\n",
    "cal0_nomean = cal0[1]['Voltage'][2][0,:,:]-np.mean(cal0[1]['Voltage'][2][0,:,:])\n",
    "cal1_nomean = cal0[1]['Voltage'][2][1,:,:]-np.mean(cal0[1]['Voltage'][2][1,:,:])\n",
    "\n",
    "cal0_mean = np.mean(cal0_nomean, axis=0)\n",
    "cal1_mean = np.mean(cal1_nomean, axis=0)"
   ]
  },
  {
   "cell_type": "code",
   "execution_count": null,
   "metadata": {
    "collapsed": true
   },
   "outputs": [],
   "source": [
    "cal_mean = (cal0_mean+cal1_mean)/2.\n",
    "cal_diff = (cal1_mean-cal0_mean)\n",
    "\n",
    "plt.figure('Samples')\n",
    "plt.plot(np.mean(cal0_nomean, axis=0), label='|0>')\n",
    "plt.plot(np.mean(cal1_nomean, axis=0), label='|1>')\n",
    "plt.legend()\n",
    "\n",
    "plt.figure('Offset & feature')\n",
    "plt.plot(cal_mean, label='mean')\n",
    "plt.plot(cal_diff, label='diff')\n",
    "plt.legend()"
   ]
  },
  {
   "cell_type": "code",
   "execution_count": null,
   "metadata": {
    "collapsed": true
   },
   "outputs": [],
   "source": [
    "plt.figure('Fourier domain')\n",
    "plt.plot(np.abs(np.fft.fft(cal0_mean)), label='|0>')\n",
    "plt.plot(np.abs(np.fft.fft(cal1_mean)), label='|1>') \n",
    "plt.plot(np.abs(np.fft.fft(cal_mean)), label='mean')\n",
    "plt.plot(np.abs(np.fft.fft(cal_diff)), label='diff')\n",
    "plt.legend()\n",
    "\n",
    "feature = np.conj(cal_diff/np.sum(np.abs(cal_diff**2)))"
   ]
  },
  {
   "cell_type": "code",
   "execution_count": null,
   "metadata": {
    "collapsed": true
   },
   "outputs": [],
   "source": [
    "coeffs0 = np.dot(cal0_nomean-cal_mean, feature)\n",
    "coeffs1 = np.dot(cal1_nomean-cal_mean, feature)\n",
    "predictions = np.asarray([np.real(coeffs0), np.real(coeffs1)])"
   ]
  },
  {
   "cell_type": "code",
   "execution_count": null,
   "metadata": {
    "collapsed": true
   },
   "outputs": [],
   "source": [
    "hist_all, bins = np.histogram(predictions, bins='auto')\n",
    "proba_points = (bins[1:]+bins[:-1])/2.\n",
    "hists = []\n",
    "for y in range(2):\n",
    "    hists.append(np.histogram(predictions[y,:], bins=bins)[0])\n",
    "\n",
    "hists = np.asarray(hists, dtype=float)\n",
    "probabilities = hists/hist_all\n",
    "naive_probabilities = np.asarray([proba_points<0, proba_points>0], dtype=float)\n",
    "probabilities[np.isnan(probabilities)] = naive_probabilities[np.isnan(probabilities)]\n",
    "predictor = lambda x: np.interp(x, proba_points, probabilities[1,:], left=0., right=1.)\n",
    "calib_proba_points = proba_points\n",
    "calib_proba = probabilities[1,:]\n",
    "calib_hists = hists"
   ]
  },
  {
   "cell_type": "code",
   "execution_count": null,
   "metadata": {
    "collapsed": true
   },
   "outputs": [],
   "source": [
    "from sklearn.metrics import roc_curve, roc_auc_score\n",
    "roc = roc_curve([0]*coeffs0.size+[1]*coeffs0.size, predictor(predictions.ravel()))\n",
    "roc_auc = roc_auc_score([0]*coeffs0.size+[1]*coeffs0.size, predictor(predictions.ravel()))"
   ]
  },
  {
   "cell_type": "code",
   "execution_count": null,
   "metadata": {
    "collapsed": true
   },
   "outputs": [],
   "source": [
    "plt.figure('ROC')\n",
    "plt.plot(roc[0], roc[1])\n",
    "plt.xlabel('True Positive Rate')\n",
    "plt.ylabel('True Negative Rate')\n",
    "roc_auc"
   ]
  },
  {
   "cell_type": "code",
   "execution_count": null,
   "metadata": {
    "collapsed": true
   },
   "outputs": [],
   "source": [
    "plt.figure('probability curve')\n",
    "plt.plot(calib_proba_points, calib_proba)"
   ]
  },
  {
   "cell_type": "code",
   "execution_count": null,
   "metadata": {
    "collapsed": true
   },
   "outputs": [],
   "source": [
    "plt.figure('Readout hists')\n",
    "plt.bar(proba_points-0.25, hists[0], width=0.05, label='|0>')\n",
    "plt.bar(proba_points+0.25, hists[1], width=0.05, label='|1>')\n",
    "plt.legend()"
   ]
  },
  {
   "cell_type": "code",
   "execution_count": null,
   "metadata": {
    "collapsed": true
   },
   "outputs": [],
   "source": [
    "plt.close()"
   ]
  },
  {
   "cell_type": "code",
   "execution_count": null,
   "metadata": {
    "collapsed": true
   },
   "outputs": [],
   "source": [
    "cal0_nomean.shape"
   ]
  },
  {
   "cell_type": "code",
   "execution_count": null,
   "metadata": {
    "collapsed": true
   },
   "outputs": [],
   "source": [
    "plt.figure(figsize=(12,3))\n",
    "plt.imshow(np.sum(np.real(np.reshape(cal0_nomean, (200, 100, 1024))), axis=0), cmap='RdBu')\n",
    "plt.figure(figsize=(12,3))\n",
    "plt.imshow(np.sum(np.real(np.reshape(cal1_nomean, (200, 100, 1024))), axis=0), cmap='RdBu')"
   ]
  },
  {
   "cell_type": "code",
   "execution_count": null,
   "metadata": {
    "collapsed": true
   },
   "outputs": [],
   "source": [
    "plt.plot(np.mean(cal0_nomean, axis=0))\n",
    "plt.plot(np.mean(cal1_nomean, axis=0))"
   ]
  },
  {
   "cell_type": "markdown",
   "metadata": {},
   "source": [
    "### extract samples from scan from their directories and put into a new directory"
   ]
  },
  {
   "cell_type": "code",
   "execution_count": null,
   "metadata": {
    "collapsed": true
   },
   "outputs": [],
   "source": [
    "import os\n",
    "import glob\n",
    "new_root = 'D:\\\\qtlab\\\\ReiData\\\\data\\\\2018-03-13\\\\Paramp-on-samples\\\\'\n",
    "path = 'D:\\\\qtlab\\\\ReiData\\\\data\\\\2018-03-13\\\\Paramp-on-samples\\\\day2\\\\*\\\\*.pkl'\n",
    "pickles = glob.glob(path)\n",
    "for pickle in pickles:\n",
    "    pickle_name = pickle[(pickle.rfind('\\\\')+1):]\n",
    "    amplitude = 0.05\n",
    "    pickle_renamed = pickle_name.replace('ro_dac_amiltude 1.00', 'ro_dac_amplitude {0:.2f}'.format(amplitude))\n",
    "    i = 0\n",
    "    while(os.path.exists(new_root+pickle_renamed)):\n",
    "        amplitude += 0.05\n",
    "        pickle_renamed = pickle_name.replace('ro_dac_amiltude 1.00', 'ro_dac_amplitude {0:.2f}'.format(amplitude))\n",
    "        i += 1 \n",
    "        if i> 100:\n",
    "            raise(Exception('infinite loop '+pickle_renamed))\n",
    "    #print (pickle_name)\n",
    "    os.rename(pickle, new_root+pickle_renamed)"
   ]
  },
  {
   "cell_type": "markdown",
   "metadata": {},
   "source": [
    "### zip samples"
   ]
  },
  {
   "cell_type": "code",
   "execution_count": null,
   "metadata": {
    "collapsed": true,
    "scrolled": true
   },
   "outputs": [],
   "source": [
    "import zipfile\n",
    "sources = 'D:\\\\qtlab\\\\ReiData\\\\data\\\\2018-03-13\\\\Paramp-on-samples\\\\*.pkl'\n",
    "pickles = glob.glob(sources)\n",
    "for pickle in pickles:\n",
    "    #pickle_name = pickle[(pickle.rfind('\\\\')+1):]\n",
    "    print (pickle)\n",
    "    zout = zipfile.ZipFile(pickle+'.zip', \"w\", zipfile.ZIP_DEFLATED)\n",
    "    zout.write(pickle)\n",
    "    zout.close()"
   ]
  },
  {
   "cell_type": "code",
   "execution_count": null,
   "metadata": {
    "collapsed": true
   },
   "outputs": [],
   "source": []
  }
 ],
 "metadata": {
  "kernelspec": {
   "display_name": "Python 3",
   "language": "python",
   "name": "python3"
  },
  "language_info": {
   "codemirror_mode": {
    "name": "ipython",
    "version": 3
   },
   "file_extension": ".py",
   "mimetype": "text/x-python",
   "name": "python",
   "nbconvert_exporter": "python",
   "pygments_lexer": "ipython3",
   "version": "3.6.5"
  },
  "toc": {
   "base_numbering": 1,
   "nav_menu": {},
   "number_sections": true,
   "sideBar": true,
   "skip_h1_title": false,
   "title_cell": "Table of Contents",
   "title_sidebar": "Contents",
   "toc_cell": false,
   "toc_position": {},
   "toc_section_display": true,
   "toc_window_display": true
  }
 },
 "nbformat": 4,
 "nbformat_minor": 1
}
