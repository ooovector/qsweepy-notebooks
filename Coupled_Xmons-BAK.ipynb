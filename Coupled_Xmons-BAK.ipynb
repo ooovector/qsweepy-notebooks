{
 "cells": [
  {
   "cell_type": "markdown",
   "metadata": {},
   "source": [
    "### Запуск QtLab"
   ]
  },
  {
   "cell_type": "code",
   "execution_count": 1,
   "metadata": {
    "scrolled": true
   },
   "outputs": [],
   "source": [
    "%matplotlib qt5\n",
    "from qsweepy import *\n",
    "from qsweepy.instruments import *\n",
    "from qsweepy.save_pkl import save_pkl\n",
    "import matplotlib.pyplot as plt\n",
    "import numpy as np\n",
    "from matplotlib import interactive\n",
    "interactive(True)"
   ]
  },
  {
   "cell_type": "code",
   "execution_count": 49,
   "metadata": {},
   "outputs": [],
   "source": [
    "#Параметры кубитов.all keys should be str\n",
    "qubits = {'1': {'r':{\n",
    "                    'Fr': 6.5993e9,\n",
    "                    'Fr_min': 6.575e9,\n",
    "                    'Fr_max': 6.62e9,\n",
    "                    'dFr': 0.1e6, # tolerance of resonator frequency\n",
    "                     'P': -65 },\n",
    "                'q':{\n",
    "                    \"F\":\n",
    "                     {'F01_min':5.51812e9}, # was 5.508e9\n",
    "                     'P':\n",
    "                     {'nndac_coil_id':0,\n",
    "                     'P':None,    \n",
    "                     #'Fmin_coil_currents':{0:1.74, 2:-0.300, 4:0.040}#\"\"\"2.02\"\"\"\n",
    "                      'Fmin_coil_currents':{0:1.83, 2:-0.000, 4:0.000}#\"\"\"2.02\"\"\"\n",
    "                     }\n",
    "                    }},\n",
    "          '2': {'r':{\n",
    "                    'Fr': 6.8805e9,\n",
    "                    'Fr_min': 6.86e9,\n",
    "                    'Fr_max': 6.92e9,\n",
    "                    'dFr': 0.1e6, # tolerance of resonator frequency\n",
    "                     'P': -65 },\n",
    "                'q':{\n",
    "                    \"F\":\n",
    "                    {'F01_min':5.52025e9},\n",
    "                    'P':\n",
    "                     {\n",
    "                     'nndac_coil_id':2,\n",
    "                     'P':None, \n",
    "                     'Fmin_coil_currents':{0:0.000, 2: 1.930, 4:0.000}\n",
    "                    #'Fmin_coil_currents':{0:1.39, 2: 1.61, 4:0.0}\n",
    "                     }\n",
    "                }},\n",
    "          '3': {'r':{\n",
    "                    'Fr': 6.7344e9,\n",
    "                    'Fr_min': 6.72e9,\n",
    "                    'Fr_max': 6.76e9,\n",
    "                     'dFr': 0.1e6,\n",
    "                     'P': -65 },\n",
    "                'q':{\n",
    "                    \"F\":\n",
    "                    {'F01_min':5.42879e9},\n",
    "                    'P':\n",
    "                     {\n",
    "                    'nndac_coil_id':4,\n",
    "                     'P':None, \n",
    "                    'Fmin_coil_currents':{0:0, 2: -2.620, 4:0.0}\n",
    "                     }\n",
    "                }}\n",
    "         }\n",
    "\n",
    "L = np.asarray([[0.292, -0.055, 0.016], [-0.060, 0.268, 0.035], [-0.019, 0.0, 0.178]])\n",
    "I0 = np.asarray([0.118, 0.274, 0.215])\n",
    "Lpi1_inv = np.asarray([])\n",
    "\n",
    "qubit_id = '3'\n",
    "switch_to_sample = {'1':4, '2':3}\n",
    "#it should be dumped too\n",
    "#qubits_dump = {\"qubits\":qubit_params,'switch':switch_to_sample}\n",
    "#qjson.dump('qubits','qubit_params',qubits_dump)"
   ]
  },
  {
   "cell_type": "code",
   "execution_count": 3,
   "metadata": {
    "collapsed": true
   },
   "outputs": [],
   "source": [
    "def set_qubit_fluxes(fluxes):\n",
    "    zero_flux = np.asarray([L[i,i]*I0[i] for i in range(len(qubits))])\n",
    "    fluxes_corrected = fluxes+zero_flux\n",
    "    currents = np.linalg.solve(L, fluxes_corrected)\n",
    "    \n",
    "    for qubit_id_numerical, qubit_name in enumerate(['1', '2', '3']):\n",
    "        qubit_coil_id = qubits[qubit_name]['q']['nndac_coil_id']\n",
    "        dac.set_voltage(currents[qubit_id_numerical], channel=qubit_coil_id)\n",
    "        \n",
    "    print(currents, fluxes_corrected)"
   ]
  },
  {
   "cell_type": "markdown",
   "metadata": {},
   "source": [
    "# Спектроскопия"
   ]
  },
  {
   "cell_type": "code",
   "execution_count": 4,
   "metadata": {},
   "outputs": [
    {
     "name": "stderr",
     "output_type": "stream",
     "text": [
      "WARNING:root:Tektronix_AWG5014 : get all not yet fully functional\n"
     ]
    }
   ],
   "source": [
    "# RF switch for making sure we know what sample we are measuring\n",
    "pna = Agilent_N5242A('pna', address = 'TCPIP0::10.20.61.48::inst0::INSTR')\n",
    "lo1 = Agilent_E8257D('lo1', address = 'TCPIP0::10.20.61.59::inst0::INSTR')\n",
    "rf_switch = nn_rf_switch('rf_switch', address='10.20.61.224')\n",
    "awg = Tektronix_AWG5014('awg_tek', address = 'TCPIP0::10.20.61.186::inst0::INSTR')\n",
    "adc = Spectrum_M3i2132('adc')\n",
    "sa = Agilent_N9030A('pxa', address = 'TCPIP0::10.20.61.56::inst0::INSTR')\n",
    "lo_ex = lo1\n",
    "lo_ro = pna\n",
    "awg_tek=awg"
   ]
  },
  {
   "cell_type": "code",
   "execution_count": 5,
   "metadata": {
    "collapsed": true
   },
   "outputs": [],
   "source": [
    "dac = nndac('TCPIP0::10.20.61.12::1000::SOCKET')"
   ]
  },
  {
   "cell_type": "code",
   "execution_count": 6,
   "metadata": {
    "collapsed": true
   },
   "outputs": [],
   "source": [
    "dac.set_voltage(qubits[qubit_id]['q']['P']['Fmin_coil_currents'][qubits[qubit_id]['q']['P']['nndac_coil_id']],\n",
    "                channel=qubits[qubit_id]['q']['P']['nndac_coil_id'])"
   ]
  },
  {
   "cell_type": "markdown",
   "metadata": {},
   "source": [
    "# Mixer bypass"
   ]
  },
  {
   "cell_type": "code",
   "execution_count": 6,
   "metadata": {
    "collapsed": true
   },
   "outputs": [],
   "source": [
    "# когда спектроскопия не рабтает и всё плохо, тыкай сюды!\n",
    "# вектнй анлизатр цепей - в режим свипа по частоте\n",
    "pna.set_sweep_mode(\"LIN\")\n",
    "# смесители - открыть\n",
    "#awg_tek = awg\n",
    "#for channel in range(0,4):\n",
    "for channel in range(1,5):\n",
    "    awg_tek.set_amplitude(0.2, channel=channel)\n",
    "    awg_tek.set_offset(0.2, channel=channel)\n",
    "    awg_tek.set_output(1, channel=channel)\n",
    "    awg_tek.set_waveform([0]*awg_tek.get_nop(), channel=channel)\n",
    "#     \n",
    "# Задаём постояннmtые смещения на каналы 1 и 3\n",
    "#awg_tek.set_waveform([0]*awg_tek.get_nop(), channel=1)\n",
    "#awg_tek.set_waveform([0]*awg_tek.get_nop(), channel=2)\n",
    "#awg_tek.set_waveform([0]*awg_tek.get_nop(), channel=3)\n",
    "#awg_tek.set_waveform([0]*awg_tek.get_nop(), channel=4)"
   ]
  },
  {
   "cell_type": "markdown",
   "metadata": {},
   "source": [
    "# Резонаторная спектроскопия"
   ]
  },
  {
   "cell_type": "markdown",
   "metadata": {},
   "source": [
    "### Одномерный скан при фиксированном токе "
   ]
  },
  {
   "cell_type": "markdown",
   "metadata": {},
   "source": [
    "## Overview"
   ]
  },
  {
   "cell_type": "code",
   "execution_count": 19,
   "metadata": {
    "collapsed": true
   },
   "outputs": [],
   "source": [
    "lo1.set_status(0)\n",
    "pna.set_status(1)\n",
    "pna.set_power(-45) # \n",
    "pna.set_nop(1001)\n",
    "pna.set_bandwidth(2000)\n",
    "pna.set_xlim(6.5e9, 7.0e9)\n",
    "#pna.set_bandwidth(100)\n",
    "freqs = pna.get_freqpoints()\n",
    "S21 = pna.get_tracedata()"
   ]
  },
  {
   "cell_type": "markdown",
   "metadata": {},
   "source": [
    "## All anticrossings in same scan"
   ]
  },
  {
   "cell_type": "code",
   "execution_count": 55,
   "metadata": {
    "scrolled": true
   },
   "outputs": [
    {
     "name": "stdout",
     "output_type": "stream",
     "text": [
      "[ 0.15785905  0.27906264  0.23185012] [ 0.034456  0.073432  0.03827 ]\n"
     ]
    },
    {
     "data": {
      "application/vnd.jupyter.widget-view+json": {
       "model_id": "883041aa8a7b440a9d49fe4fd5320d79",
       "version_major": 2,
       "version_minor": 0
      },
      "text/plain": [
       "A Jupyter Widget"
      ]
     },
     "metadata": {},
     "output_type": "display_data"
    },
    {
     "name": "stdout",
     "output_type": "stream",
     "text": [
      "Started at:  Sep 20 2018 08:17:17\n",
      "Exiting sweep main thread #{} via return 1852\n",
      "\n",
      "Elapsed time: 0 h 3 m 55.47 s\n",
      "[ 0.15785905  0.27906264  0.23185012] [ 0.034456  0.073432  0.03827 ]\n"
     ]
    },
    {
     "data": {
      "application/vnd.jupyter.widget-view+json": {
       "model_id": "e31242ba696d4ed5aadb1eb6d56e51be",
       "version_major": 2,
       "version_minor": 0
      },
      "text/plain": [
       "A Jupyter Widget"
      ]
     },
     "metadata": {},
     "output_type": "display_data"
    },
    {
     "name": "stdout",
     "output_type": "stream",
     "text": [
      "Started at:  Sep 20 2018 08:21:16\n",
      "Exiting sweep main thread #{} via return 8248\n",
      "\n",
      "Elapsed time: 0 h 3 m 55.43 s\n",
      "[ 0.15785905  0.27906264  0.23185012] [ 0.034456  0.073432  0.03827 ]\n"
     ]
    },
    {
     "data": {
      "application/vnd.jupyter.widget-view+json": {
       "model_id": "cba18eb980134ecd83e86d7ddfe83d83",
       "version_major": 2,
       "version_minor": 0
      },
      "text/plain": [
       "A Jupyter Widget"
      ]
     },
     "metadata": {},
     "output_type": "display_data"
    },
    {
     "name": "stdout",
     "output_type": "stream",
     "text": [
      "Started at:  Sep 20 2018 08:25:15\n",
      "Exiting sweep main thread #{} via return 3684\n",
      "\n",
      "Elapsed time: 0 h 3 m 55.73 s\n"
     ]
    }
   ],
   "source": [
    "#coil = 'z1'\n",
    "#current_max = 1.5e-3\n",
    "voltage_max = 4\n",
    "current_nop = 201\n",
    "nndac_channels = [0,2,4]#[21,1,7]\n",
    "#currents=np.linspace(-current_max,current_max,current_nop)\n",
    "voltages=np.linspace(-voltage_max,voltage_max,current_nop)\n",
    "#current_src1.set_status(1)\n",
    "pna.set_nop(1001)\n",
    "pna.set_power(-50)\n",
    "pna.set_bandwidth(1000)\n",
    "pna.set_power(qubits[qubit_id]['r']['P']) \n",
    "for nndac_channel_id in nndac_channels:\n",
    "    #set_qubit_fluxes([0,0,0])\n",
    "    coil = 'NNDAC-'+str(nndac_channel_id)\n",
    "    pna.set_xlim(6.5e9,7.0e9)\n",
    "    result = sweep.sweep(pna, \n",
    "                    (voltages, lambda x: dac.set_voltage(x, channel=nndac_channel_id), 'Coil #{} voltage'.format(coil)), \n",
    "                    filename='Sample 1809-001_2 Coil #{} anticrossings everything in max'.format(coil))\n",
    "    dac.set_voltage(0, channel=nndac_channel_id)"
   ]
  },
  {
   "cell_type": "markdown",
   "metadata": {},
   "source": [
    "## Resonator control (N*M) anticrossing scan"
   ]
  },
  {
   "cell_type": "code",
   "execution_count": 126,
   "metadata": {
    "scrolled": true
   },
   "outputs": [
    {
     "data": {
      "application/vnd.jupyter.widget-view+json": {
       "model_id": "173d24600b3a432f8538405beb254d1c",
       "version_major": 2,
       "version_minor": 0
      },
      "text/plain": [
       "A Jupyter Widget"
      ]
     },
     "metadata": {},
     "output_type": "display_data"
    },
    {
     "name": "stdout",
     "output_type": "stream",
     "text": [
      "Started at:  Sep 20 2018 19:18:39\n",
      "Exiting sweep main thread #{} via return 276\n",
      "\n",
      "Elapsed time: 0 h 4 m 47.38 s\n"
     ]
    }
   ],
   "source": [
    "#coil = 'z1'\n",
    "#current_max = 1.5e-3\n",
    "voltage_max = 2\n",
    "current_nop = 101\n",
    "nndac_channels = [0]#[21,1,7]\n",
    "#currents=np.linspace(-current_max,current_max,current_nop)\n",
    "voltages=np.linspace(-voltage_max,voltage_max,current_nop)\n",
    "#current_src1.set_status(1)\n",
    "pna.set_nop(401)\n",
    "pna.set_bandwidth(200)\n",
    "pna.set_power(qubits[qubit_id]['r']['P']+40) \n",
    "for nndac_channel_id in nndac_channels:\n",
    "    for qubit_id in ['1']:\n",
    "        #dac.set_voltage(1.83, channel=0)\n",
    "        #dac.set_voltage(1.74, channel=0)\n",
    "        #dac.set_voltage(-0.300, channel=2)\n",
    "        #dac.set_voltage(0.040, channel=4)\n",
    "        coil = 'NNDAC-'+str(nndac_channel_id)\n",
    "        #pna.set_xlim(qubits[qubit_id]['r']['Fr']-50e6,qubits[qubit_id]['r']['Fr']+50e6)\n",
    "        pna.set_nop((qubits[qubit_id]['r']['Fr_max']-qubits[qubit_id]['r']['Fr_min'])/qubits[qubit_id]['r']['dFr']+1)\n",
    "        pna.set_xlim(qubits[qubit_id]['r']['Fr_min'], qubits[qubit_id]['r']['Fr_max'])\n",
    "        result = sweep.sweep(pna, \n",
    "                        (voltages, lambda x: dac.set_voltage(x, channel=nndac_channel_id), 'Coil #{} voltage, qubit{}'.format(coil,qubit_id)), \n",
    "                        filename='1809-001_2 Coil #{} anticrossings qubit {}'.format(coil, qubit_id))\n",
    "        dac.set_voltage(0, channel=nndac_channel_id)"
   ]
  },
  {
   "cell_type": "markdown",
   "metadata": {},
   "source": [
    "## Function to find the resonator for two-tone scans"
   ]
  },
  {
   "cell_type": "code",
   "execution_count": 7,
   "metadata": {
    "collapsed": true
   },
   "outputs": [],
   "source": [
    "def find_resonator(resonator_id, criterion='max_dev_complex', delay=0, check=1, raise_on_error=True):\n",
    "    # turn of all second tones\n",
    "    lo1_status = lo1.get_status()\n",
    "    lo1.set_status(0)\n",
    "    # prior bandwidth\n",
    "    bandwidth = pna.get_bandwidth()\n",
    "    pna.set_bandwidth(200)\n",
    "    average = pna.get_average()\n",
    "    pna.set_average(0)\n",
    "    #pna.set_power(-60)\n",
    "    #pna.set_nop(501)\n",
    "    nop = pna.get_nop()\n",
    "    xlim = pna.get_xlim()\n",
    "    pna.set_nop((qubits[qubit_id]['r']['Fr_max']-qubits[qubit_id]['r']['Fr_min'])/qubits[qubit_id]['r']['dFr']+1)\n",
    "    pna.set_xlim(qubits[qubit_id]['r']['Fr_min'], qubits[qubit_id]['r']['Fr_max'])\n",
    "    #current_src1.set_current(current)\n",
    "    \n",
    "    # measure S21\n",
    "    results = []\n",
    "    for iteration_id in range(check+1):\n",
    "        S21 = pna.measure()['S-parameter']\n",
    "        freqs = pna.get_points()['S-parameter'][0][1]\n",
    "    \n",
    "        if (criterion == 'max_dev_complex'):\n",
    "            measurement = S21*np.exp(2*np.pi*1j*freqs*delay)\n",
    "            #plt.figure()\n",
    "            #plt.plot(freqs, np.real(measurement-np.mean(measurement)))\n",
    "            #plt.plot(freqs, np.imag(measurement-np.mean(measurement)))\n",
    "            #plt.plot(freqs, np.abs(measurement-np.mean(measurement)))\n",
    "            results.append(freqs[np.argmax(np.abs(measurement-np.mean(measurement)))])\n",
    "        if (criterion == 'min_abs'):\n",
    "            measurement = np.abs(S21)\n",
    "            results.append(freqs[np.argmin(measurement)])\n",
    "    # if resonator is off by more 3 times tolerance, raise if raise_on_error, otherwise warn\n",
    "    if (np.std(results)>qubits[qubit_id]['r']['dFr']*10):\n",
    "        if raise_on_error:\n",
    "            raise Exception('Could not find resonator')\n",
    "        else:\n",
    "            print ('Could not find resonator')\n",
    "    else: \n",
    "        print('resonator found at '+str(np.mean(results)))\n",
    "        \n",
    "    lo1.set_status(lo1_status)\n",
    "    pna.set_bandwidth(bandwidth)\n",
    "    pna.set_average(average)\n",
    "    pna.set_nop(nop)\n",
    "    pna.set_xlim(*xlim)\n",
    "    \n",
    "    return np.mean(results)"
   ]
  },
  {
   "cell_type": "code",
   "execution_count": 8,
   "metadata": {},
   "outputs": [
    {
     "name": "stdout",
     "output_type": "stream",
     "text": [
      "resonator found at 6734500000.0\n"
     ]
    }
   ],
   "source": [
    "qubit_id='3'\n",
    "delay = 70e-9\n",
    "res_freq = find_resonator(qubit_id, criterion='max_dev_complex', delay=delay, check=1, raise_on_error=False)"
   ]
  },
  {
   "cell_type": "markdown",
   "metadata": {},
   "source": [
    "# Two-Tone Scan"
   ]
  },
  {
   "cell_type": "code",
   "execution_count": 13,
   "metadata": {},
   "outputs": [
    {
     "data": {
      "application/vnd.jupyter.widget-view+json": {
       "model_id": "1314e2c36fc24d55a048e90ed488067c",
       "version_major": 2,
       "version_minor": 0
      },
      "text/plain": [
       "A Jupyter Widget"
      ]
     },
     "metadata": {},
     "output_type": "display_data"
    },
    {
     "name": "stdout",
     "output_type": "stream",
     "text": [
      "Started at:  Sep 20 2018 23:31:38\n",
      "resonator found at 6734600000.0\n",
      "resonator found at 6734500000.0\n",
      "resonator found at 6734500000.0\n",
      "resonator found at 6734500000.0\n",
      "resonator found at 6734500000.0\n",
      "resonator found at 6734400000.0\n",
      "resonator found at 6734400000.0\n",
      "resonator found at 6734400000.0\n",
      "resonator found at 6734400000.0\n",
      "resonator found at 6734400000.0\n",
      "resonator found at 6734400000.0\n",
      "resonator found at 6734400000.0\n",
      "resonator found at 6734400000.0\n",
      "resonator found at 6734400000.0\n",
      "resonator found at 6734500000.0\n",
      "resonator found at 6734500000.0\n",
      "resonator found at 6734500000.0\n",
      "resonator found at 6734500000.0\n",
      "resonator found at 6734600000.0\n",
      "resonator found at 6734600000.0\n",
      "resonator found at 6734600000.0\n",
      "Exiting sweep main thread #{} via return 8604\n",
      "\n",
      "Elapsed time: 0 h 4 m 51.48 s\n"
     ]
    }
   ],
   "source": [
    "voltage_max = 4\n",
    "voltage_nop = 21\n",
    "freq_nop = 201\n",
    "nndac_channels = [4]\n",
    "voltages=np.linspace(-3.0,-2.2,voltage_nop)\n",
    "#voltages=np.linspace(-voltage_max,voltage_max,voltage_nop)\n",
    "freqs= np.linspace(5.0e9,6.0e9,freq_nop)\n",
    "pna.set_nop(1)\n",
    "pna.set_bandwidth(50)\n",
    "lo1.set_power(-20)\n",
    "lo1.set_status(1)\n",
    "delay = 70e-9\n",
    "for nndac_channel_id in nndac_channels:\n",
    "    for qubit_id in ['3']:\n",
    "        pna.set_power(qubits[qubit_id]['r']['P']+45)\n",
    "        try: \n",
    "            coil = 'NNDAC-'+str(nndac_channel_id)\n",
    "            dac.set_voltage(0.0, channel=0)\n",
    "            dac.set_voltage(-0.00, channel=2)\n",
    "            dac.set_voltage(0.00, channel=4)\n",
    "            def set_volt_res(x):\n",
    "                dac.set_voltage(x, channel=nndac_channel_id)\n",
    "                res_freq = find_resonator(qubit_id, criterion='max_dev_complex', delay=delay, check=1, raise_on_error=False)\n",
    "                pna.set_frequency(res_freq)\n",
    "                pna.set_centerfreq(res_freq)\n",
    "            result = sweep.sweep(pna,\n",
    "                                 (voltages, set_volt_res, 'Coil #{} voltage, qubit{}'.format(coil,qubit_id)),\n",
    "                                 (freqs,lo1.set_frequency, 'Excitation frequency', 'Hz'),\n",
    "                                 filename='Sample 1809-001_2 Coil #{} two-tone qubit{}'.format(coil,qubit_id))\n",
    "            dac.set_voltage(0,nndac_channel_id)\n",
    "        except KeyboardInterrupt:\n",
    "            for nndac_channel in nndac_channels:\n",
    "                dac.set_voltage(0,nndac_channel)\n",
    "            raise\n",
    "        finally:\n",
    "            for nndac_channel in nndac_channels:\n",
    "                dac.set_voltage(0,nndac_channel)"
   ]
  },
  {
   "cell_type": "markdown",
   "metadata": {},
   "source": [
    "# Inductance matrix"
   ]
  },
  {
   "cell_type": "code",
   "execution_count": 60,
   "metadata": {
    "collapsed": true
   },
   "outputs": [],
   "source": [
    "import qsweepy.save_pkl"
   ]
  },
  {
   "cell_type": "markdown",
   "metadata": {},
   "source": [
    "## visualization of anticrossing"
   ]
  },
  {
   "cell_type": "code",
   "execution_count": 213,
   "metadata": {},
   "outputs": [
    {
     "name": "stdout",
     "output_type": "stream",
     "text": [
      "D:\\data\\2018-09-19\\17-35-56-Sample 1 Coil #NNDAC-0 anticrossings qubit 1/Sample 1 Coil #NNDAC-0 anticrossings qubit 1.pkl\n",
      "D:\\data\\2018-09-19\\17-38-23-Sample 1 Coil #NNDAC-0 anticrossings qubit 2/Sample 1 Coil #NNDAC-0 anticrossings qubit 2.pkl\n",
      "D:\\data\\2018-09-19\\17-43-49-Sample 1 Coil #NNDAC-0 anticrossings qubit 3/Sample 1 Coil #NNDAC-0 anticrossings qubit 3.pkl\n",
      "D:\\data\\2018-09-19\\17-48-29-Sample 1 Coil #NNDAC-2 anticrossings qubit 1/Sample 1 Coil #NNDAC-2 anticrossings qubit 1.pkl\n",
      "D:\\data\\2018-09-19\\17-50-56-Sample 1 Coil #NNDAC-2 anticrossings qubit 2/Sample 1 Coil #NNDAC-2 anticrossings qubit 2.pkl\n",
      "D:\\data\\2018-09-19\\17-56-23-Sample 1 Coil #NNDAC-2 anticrossings qubit 3/Sample 1 Coil #NNDAC-2 anticrossings qubit 3.pkl\n",
      "D:\\data\\2018-09-19\\18-01-03-Sample 1 Coil #NNDAC-4 anticrossings qubit 1/Sample 1 Coil #NNDAC-4 anticrossings qubit 1.pkl\n",
      "D:\\data\\2018-09-19\\18-03-30-Sample 1 Coil #NNDAC-4 anticrossings qubit 2/Sample 1 Coil #NNDAC-4 anticrossings qubit 2.pkl\n",
      "D:\\data\\2018-09-19\\18-08-56-Sample 1 Coil #NNDAC-4 anticrossings qubit 3/Sample 1 Coil #NNDAC-4 anticrossings qubit 3.pkl\n",
      "D:\\data\\2018-09-19\\17-35-56-Sample 1 Coil #NNDAC-0 anticrossings qubit 1/Sample 1 Coil #NNDAC-0 anticrossings qubit 1.pkl\n",
      "D:\\data\\2018-09-19\\17-38-23-Sample 1 Coil #NNDAC-0 anticrossings qubit 2/Sample 1 Coil #NNDAC-0 anticrossings qubit 2.pkl\n",
      "D:\\data\\2018-09-19\\17-43-49-Sample 1 Coil #NNDAC-0 anticrossings qubit 3/Sample 1 Coil #NNDAC-0 anticrossings qubit 3.pkl\n",
      "D:\\data\\2018-09-19\\17-48-29-Sample 1 Coil #NNDAC-2 anticrossings qubit 1/Sample 1 Coil #NNDAC-2 anticrossings qubit 1.pkl\n",
      "D:\\data\\2018-09-19\\17-50-56-Sample 1 Coil #NNDAC-2 anticrossings qubit 2/Sample 1 Coil #NNDAC-2 anticrossings qubit 2.pkl\n",
      "D:\\data\\2018-09-19\\17-56-23-Sample 1 Coil #NNDAC-2 anticrossings qubit 3/Sample 1 Coil #NNDAC-2 anticrossings qubit 3.pkl\n",
      "D:\\data\\2018-09-19\\18-01-03-Sample 1 Coil #NNDAC-4 anticrossings qubit 1/Sample 1 Coil #NNDAC-4 anticrossings qubit 1.pkl\n",
      "D:\\data\\2018-09-19\\18-03-30-Sample 1 Coil #NNDAC-4 anticrossings qubit 2/Sample 1 Coil #NNDAC-4 anticrossings qubit 2.pkl\n",
      "D:\\data\\2018-09-19\\18-08-56-Sample 1 Coil #NNDAC-4 anticrossings qubit 3/Sample 1 Coil #NNDAC-4 anticrossings qubit 3.pkl\n",
      "-5.28201948882e-08\n"
     ]
    }
   ],
   "source": [
    "# plot all anitcrossings on one axes\n",
    "figs, axes = plt.subplots(3,3, figsize=(12,9))\n",
    "locations = [[r'D:\\data\\2018-09-19\\17-35-56-Sample 1 Coil #NNDAC-0 anticrossings qubit 1', \n",
    "              r'D:\\data\\2018-09-19\\17-38-23-Sample 1 Coil #NNDAC-0 anticrossings qubit 2',\n",
    "              r'D:\\data\\2018-09-19\\17-43-49-Sample 1 Coil #NNDAC-0 anticrossings qubit 3'],\n",
    "            [r'D:\\data\\2018-09-19\\17-48-29-Sample 1 Coil #NNDAC-2 anticrossings qubit 1',\n",
    "             r'D:\\data\\2018-09-19\\17-50-56-Sample 1 Coil #NNDAC-2 anticrossings qubit 2',\n",
    "             r'D:\\data\\2018-09-19\\17-56-23-Sample 1 Coil #NNDAC-2 anticrossings qubit 3'],\n",
    "            [r'D:\\data\\2018-09-19\\18-01-03-Sample 1 Coil #NNDAC-4 anticrossings qubit 1',\n",
    "             r'D:\\data\\2018-09-19\\18-03-30-Sample 1 Coil #NNDAC-4 anticrossings qubit 2',\n",
    "             r'D:\\data\\2018-09-19\\18-08-56-Sample 1 Coil #NNDAC-4 anticrossings qubit 3']]\n",
    "files = [['Sample 1 Coil #NNDAC-{0} anticrossings qubit {1}'.format(i,j) for j in ['1', '2', '3'] ] for i in [0,2,4]]\n",
    "delays = []\n",
    "for row_id in range(len(locations)):\n",
    "    for column_id in range(len(locations[0])):\n",
    "        data = qsweepy.save_pkl.load_pkl(files[row_id][column_id],locations[row_id][column_id])[1]['S-parameter']\n",
    "        unwrapped = np.unwrap(np.angle(data[2])).T\n",
    "        delays.append((unwrapped[-1,:]-unwrapped[0,:])/(data[1][1][-1]-data[1][1][0]))\n",
    "delay = np.median(delays)\n",
    "        \n",
    "for row_id in range(len(locations)):\n",
    "    for column_id in range(len(locations[0])):\n",
    "        data = qsweepy.save_pkl.load_pkl(files[row_id][column_id],locations[row_id][column_id])[1]['S-parameter']\n",
    "        #unwrapped = np.unwrap(np.angle(data[2])).T\n",
    "        #phase_diff = unwrapped[-1,:]-unwrapped[0,:]\n",
    "        #data_nodelay = (data[2]*np.exp(-1j*np.linspace(0,np.median(phase_diff),unwrapped.shape[0]))).T\n",
    "        data_nodelay = (data[2]*np.exp(-1j*delay*data[1][1])).T\n",
    "        data_deviation_complex = data_nodelay - np.mean(data_nodelay, axis=0)\n",
    "        #axes[row_id,column_id].pcolormesh(data[1][0], data[1][1], np.angle(data_nodelay), cmap='RdBu')\n",
    "        axes[row_id,column_id].pcolormesh(data[1][0], data[1][1], np.abs(data_deviation_complex), cmap='RdBu')\n",
    "plt.tight_layout()\n",
    "print (delay/2/np.pi)"
   ]
  },
  {
   "cell_type": "markdown",
   "metadata": {},
   "source": [
    "# Nice Q1-Q2 anticrossing for demonstration"
   ]
  },
  {
   "cell_type": "markdown",
   "metadata": {},
   "source": [
    "## Qubit-resonator anticrossings at non-zero bias on second control"
   ]
  },
  {
   "cell_type": "code",
   "execution_count": 111,
   "metadata": {
    "scrolled": true
   },
   "outputs": [
    {
     "data": {
      "application/vnd.jupyter.widget-view+json": {
       "model_id": "cf4a93ff52a64a67854c1679c10f4adf",
       "version_major": 2,
       "version_minor": 0
      },
      "text/plain": [
       "A Jupyter Widget"
      ]
     },
     "metadata": {},
     "output_type": "display_data"
    },
    {
     "name": "stdout",
     "output_type": "stream",
     "text": [
      "Started at:  Sep 20 2018 12:00:30\n",
      "Exiting sweep main thread #{} via return 8744\n",
      "\n",
      "Elapsed time: 0 h 4 m 9.0 s\n"
     ]
    }
   ],
   "source": [
    "#coil = 'z1'\n",
    "#current_max = 1.5e-3\n",
    "voltage_max = 4\n",
    "current_nop = 101\n",
    "nndac_channels = [2]#[21,1,7]\n",
    "#currents=np.linspace(-current_max,current_max,current_nop)\n",
    "voltages=np.linspace(-voltage_max,voltage_max,current_nop)\n",
    "#current_src1.set_status(1)\n",
    "pna.set_nop(501)\n",
    "pna.set_bandwidth(500)\n",
    "pna.set_power(qubits[qubit_id]['r']['P']) \n",
    "coil2_voltage = 1.5\n",
    "for nndac_channel_id in nndac_channels:\n",
    "    for qubit_id in ['2']:\n",
    "        dac.set_voltage(coil2_voltage, channel=0)\n",
    "        coil = 'NNDAC-'+str(nndac_channel_id)\n",
    "        #pna.set_xlim(qubits[qubit_id]['r']['Fr']-50e6,qubits[qubit_id]['r']['Fr']+50e6)\n",
    "        pna.set_nop((qubits[qubit_id]['r']['Fr_max']-qubits[qubit_id]['r']['Fr_min'])/qubits[qubit_id]['r']['dFr']+1)\n",
    "        pna.set_xlim(qubits[qubit_id]['r']['Fr_min'], qubits[qubit_id]['r']['Fr_max'])\n",
    "        result = sweep.sweep(pna, \n",
    "                        (voltages, lambda x: dac.set_voltage(x, channel=nndac_channel_id), 'Coil #{} voltage, qubit{}'.format(coil,qubit_id)), \n",
    "                        filename='1809-001_2 Coil #{} anticrossings qubit {}'.format(coil, qubit_id))\n",
    "        dac.set_voltage(0, channel=nndac_channel_id)"
   ]
  },
  {
   "cell_type": "markdown",
   "metadata": {},
   "source": [
    "## Qubit-resonator anticrossing at abstract control parameter for high-quality anticrossing picture"
   ]
  },
  {
   "cell_type": "code",
   "execution_count": 114,
   "metadata": {
    "scrolled": true
   },
   "outputs": [
    {
     "data": {
      "application/vnd.jupyter.widget-view+json": {
       "model_id": "e7a24feb4c39461d8a020ed4e7d51244",
       "version_major": 2,
       "version_minor": 0
      },
      "text/plain": [
       "A Jupyter Widget"
      ]
     },
     "metadata": {},
     "output_type": "display_data"
    },
    {
     "name": "stdout",
     "output_type": "stream",
     "text": [
      "Started at:  Sep 20 2018 12:16:13\n",
      "Exiting sweep main thread #{} via return 11612\n",
      "\n",
      "Elapsed time: 0 h 4 m 11.24 s\n"
     ]
    }
   ],
   "source": [
    "#coil = 'z1'\n",
    "#current_max = 1.5e-3\n",
    "voltage_max = 2.5\n",
    "current_nop = 101\n",
    "nndac_channels = [2]#[21,1,7]\n",
    "#currents=np.linspace(-current_max,current_max,current_nop)\n",
    "voltages=np.linspace(-voltage_max,voltage_max,current_nop)\n",
    "#current_src1.set_status(1)\n",
    "pna.set_nop(501)\n",
    "pna.set_bandwidth(500)\n",
    "pna.set_power(qubits[qubit_id]['r']['P']) \n",
    "coil2_voltage = 1.5\n",
    "for nndac_channel_id in nndac_channels:\n",
    "    for qubit_id in ['2']:\n",
    "        dac.set_voltage(coil2_voltage, channel=0)\n",
    "        coil = 'NNDAC-'+str(nndac_channel_id)\n",
    "        #pna.set_xlim(qubits[qubit_id]['r']['Fr']-50e6,qubits[qubit_id]['r']['Fr']+50e6)\n",
    "        pna.set_nop((qubits[qubit_id]['r']['Fr_max']-qubits[qubit_id]['r']['Fr_min'])/qubits[qubit_id]['r']['dFr']+1)\n",
    "        pna.set_xlim(qubits[qubit_id]['r']['Fr_min'], qubits[qubit_id]['r']['Fr_max'])\n",
    "        def set_sweep_parameter(V):\n",
    "            dac.set_voltage(1.5-V, channel=0)\n",
    "            dac.set_voltage(1.5+V, channel=2)\n",
    "        result = sweep.sweep(pna, \n",
    "                        (voltages, set_sweep_parameter, 'Abstract voltage-like sweep parameter'.format(coil,qubit_id)), \n",
    "                        filename='1809-001_2 Coil #{} anticrossings qubit {}'.format(coil, qubit_id))\n",
    "        dac.set_voltage(0, channel=nndac_channel_id)"
   ]
  },
  {
   "cell_type": "markdown",
   "metadata": {},
   "source": [
    "## Qubit-qubit anticrossing vs abstract control parameter"
   ]
  },
  {
   "cell_type": "code",
   "execution_count": 116,
   "metadata": {
    "scrolled": true
   },
   "outputs": [
    {
     "data": {
      "application/vnd.jupyter.widget-view+json": {
       "model_id": "0f193398aba647cfb75ff48b03963bba",
       "version_major": 2,
       "version_minor": 0
      },
      "text/plain": [
       "A Jupyter Widget"
      ]
     },
     "metadata": {},
     "output_type": "display_data"
    },
    {
     "name": "stdout",
     "output_type": "stream",
     "text": [
      "Started at:  Sep 20 2018 12:22:45\n",
      "resonator found at 6601250000.0\n",
      "resonator found at 6601000000.0\n",
      "resonator found at 6600800000.0\n",
      "resonator found at 6600700000.0\n",
      "resonator found at 6600500000.0\n",
      "resonator found at 6600400000.0\n",
      "resonator found at 6600200000.0\n",
      "resonator found at 6600100000.0\n",
      "resonator found at 6599950000.0\n",
      "resonator found at 6599850000.0\n",
      "resonator found at 6599750000.0\n",
      "resonator found at 6599700000.0\n",
      "resonator found at 6599650000.0\n",
      "resonator found at 6599550000.0\n",
      "resonator found at 6599450000.0\n",
      "resonator found at 6599350000.0\n",
      "resonator found at 6599450000.0\n",
      "resonator found at 6599300000.0\n",
      "resonator found at 6599300000.0\n",
      "resonator found at 6599250000.0\n",
      "resonator found at 6599250000.0\n",
      "resonator found at 6599250000.0\n",
      "resonator found at 6599250000.0\n",
      "resonator found at 6599100000.0\n",
      "resonator found at 6599300000.0\n",
      "resonator found at 6599250000.0\n",
      "resonator found at 6599200000.0\n",
      "resonator found at 6599200000.0\n",
      "resonator found at 6599200000.0\n",
      "resonator found at 6599350000.0\n",
      "resonator found at 6599300000.0\n",
      "resonator found at 6599350000.0\n",
      "resonator found at 6599400000.0\n",
      "resonator found at 6599400000.0\n",
      "resonator found at 6599500000.0\n",
      "resonator found at 6599550000.0\n",
      "resonator found at 6599450000.0\n",
      "resonator found at 6599700000.0\n",
      "resonator found at 6599700000.0\n",
      "resonator found at 6599950000.0\n",
      "resonator found at 6600000000.0\n",
      "resonator found at 6600050000.0\n",
      "resonator found at 6600200000.0\n",
      "resonator found at 6600400000.0\n",
      "resonator found at 6600500000.0\n",
      "resonator found at 6600700000.0\n",
      "resonator found at 6600900000.0\n",
      "resonator found at 6601100000.0\n",
      "resonator found at 6601300000.0\n",
      "resonator found at 6601600000.0\n",
      "resonator found at 6601900000.0\n",
      "resonator found at 6602100000.0\n",
      "resonator found at 6602500000.0\n",
      "resonator found at 6602900000.0\n",
      "resonator found at 6603300000.0\n",
      "resonator found at 6603700000.0\n",
      "resonator found at 6604200000.0\n",
      "resonator found at 6604800000.0\n",
      "resonator found at 6605600000.0\n",
      "resonator found at 6606400000.0\n",
      "resonator found at 6607450000.0\n",
      "resonator found at 6608650000.0\n",
      "resonator found at 6610250000.0\n",
      "resonator found at 6612350000.0\n",
      "resonator found at 6614950000.0\n",
      "resonator found at 6618600000.0\n",
      "Could not find resonator\n",
      "resonator found at 6613650000.0\n",
      "resonator found at 6590600000.0\n",
      "resonator found at 6579900000.0\n",
      "Could not find resonator\n",
      "Could not find resonator\n",
      "Could not find resonator\n",
      "Could not find resonator\n",
      "resonator found at 6586700000.0\n",
      "Could not find resonator\n",
      "Could not find resonator\n",
      "Could not find resonator\n",
      "resonator found at 6578000000.0\n",
      "resonator found at 6579200000.0\n",
      "resonator found at 6580300000.0\n",
      "resonator found at 6580750000.0\n",
      "resonator found at 6581950000.0\n",
      "resonator found at 6582850000.0\n",
      "resonator found at 6583550000.0\n",
      "resonator found at 6583600000.0\n",
      "resonator found at 6583850000.0\n",
      "resonator found at 6584250000.0\n",
      "resonator found at 6584500000.0\n",
      "resonator found at 6584850000.0\n",
      "resonator found at 6585100000.0\n",
      "resonator found at 6585200000.0\n",
      "resonator found at 6585400000.0\n",
      "resonator found at 6585500000.0\n",
      "resonator found at 6585700000.0\n",
      "resonator found at 6585800000.0\n",
      "resonator found at 6585750000.0\n",
      "resonator found at 6585900000.0\n",
      "resonator found at 6585650000.0\n",
      "resonator found at 6585700000.0\n",
      "resonator found at 6585650000.0\n",
      "Exiting sweep main thread #{} via return 12316\n",
      "\n",
      "Elapsed time: 0 h 57 m 47.37 s\n"
     ]
    },
    {
     "data": {
      "application/vnd.jupyter.widget-view+json": {
       "model_id": "5af41f9a0c7142358f716839ce3d197d",
       "version_major": 2,
       "version_minor": 0
      },
      "text/plain": [
       "A Jupyter Widget"
      ]
     },
     "metadata": {},
     "output_type": "display_data"
    },
    {
     "name": "stdout",
     "output_type": "stream",
     "text": [
      "Started at:  Sep 20 2018 13:20:37\n",
      "resonator found at 6884250000.0\n",
      "resonator found at 6884200000.0\n",
      "resonator found at 6884000000.0\n",
      "resonator found at 6883850000.0\n",
      "resonator found at 6883550000.0\n",
      "resonator found at 6883400000.0\n",
      "resonator found at 6883300000.0\n",
      "resonator found at 6883300000.0\n",
      "resonator found at 6883150000.0\n",
      "resonator found at 6882850000.0\n",
      "resonator found at 6882900000.0\n",
      "resonator found at 6882500000.0\n",
      "resonator found at 6882550000.0\n",
      "resonator found at 6882500000.0\n",
      "resonator found at 6882500000.0\n",
      "resonator found at 6882050000.0\n",
      "resonator found at 6882050000.0\n",
      "resonator found at 6881950000.0\n",
      "resonator found at 6881900000.0\n",
      "resonator found at 6882050000.0\n",
      "resonator found at 6881800000.0\n",
      "resonator found at 6881600000.0\n",
      "resonator found at 6881700000.0\n",
      "resonator found at 6881650000.0\n",
      "resonator found at 6881600000.0\n",
      "resonator found at 6881450000.0\n",
      "resonator found at 6881450000.0\n",
      "resonator found at 6881500000.0\n",
      "resonator found at 6881200000.0\n",
      "resonator found at 6881400000.0\n",
      "resonator found at 6881250000.0\n",
      "resonator found at 6881050000.0\n",
      "resonator found at 6881150000.0\n",
      "resonator found at 6881000000.0\n",
      "resonator found at 6881100000.0\n",
      "resonator found at 6881250000.0\n",
      "resonator found at 6881150000.0\n",
      "resonator found at 6881050000.0\n",
      "resonator found at 6880900000.0\n",
      "resonator found at 6880750000.0\n",
      "resonator found at 6881050000.0\n",
      "resonator found at 6880900000.0\n",
      "resonator found at 6880750000.0\n",
      "resonator found at 6880800000.0\n",
      "resonator found at 6880750000.0\n",
      "resonator found at 6880700000.0\n",
      "resonator found at 6880850000.0\n",
      "resonator found at 6880700000.0\n",
      "resonator found at 6880850000.0\n",
      "resonator found at 6880650000.0\n",
      "resonator found at 6880700000.0\n",
      "resonator found at 6880600000.0\n",
      "resonator found at 6880550000.0\n",
      "resonator found at 6880550000.0\n",
      "resonator found at 6880850000.0\n",
      "resonator found at 6880500000.0\n",
      "resonator found at 6880500000.0\n",
      "resonator found at 6880600000.0\n",
      "resonator found at 6880500000.0\n",
      "resonator found at 6880600000.0\n",
      "resonator found at 6880900000.0\n",
      "resonator found at 6880650000.0\n",
      "resonator found at 6880900000.0\n",
      "resonator found at 6880650000.0\n",
      "resonator found at 6880650000.0\n",
      "resonator found at 6880950000.0\n",
      "resonator found at 6880900000.0\n",
      "resonator found at 6880800000.0\n",
      "resonator found at 6880750000.0\n",
      "resonator found at 6880650000.0\n",
      "resonator found at 6880750000.0\n",
      "resonator found at 6880850000.0\n",
      "resonator found at 6880950000.0\n",
      "resonator found at 6880950000.0\n",
      "resonator found at 6881200000.0\n",
      "resonator found at 6881050000.0\n",
      "resonator found at 6881300000.0\n",
      "resonator found at 6881150000.0\n",
      "resonator found at 6881150000.0\n",
      "resonator found at 6881550000.0\n",
      "resonator found at 6881550000.0\n",
      "resonator found at 6881800000.0\n",
      "resonator found at 6882050000.0\n",
      "resonator found at 6882400000.0\n",
      "resonator found at 6882950000.0\n",
      "resonator found at 6883750000.0\n",
      "resonator found at 6878450000.0\n",
      "resonator found at 6879200000.0\n",
      "resonator found at 6879600000.0\n",
      "resonator found at 6879950000.0\n",
      "resonator found at 6880200000.0\n",
      "resonator found at 6880450000.0\n",
      "resonator found at 6880600000.0\n",
      "resonator found at 6880650000.0\n",
      "resonator found at 6880700000.0\n",
      "resonator found at 6880950000.0\n",
      "resonator found at 6881000000.0\n",
      "resonator found at 6880850000.0\n",
      "resonator found at 6881050000.0\n",
      "resonator found at 6881250000.0\n",
      "resonator found at 6881100000.0\n",
      "Exiting sweep main thread #{} via return 3300\n",
      "\n",
      "Elapsed time: 1 h 0 m 0.53 s\n"
     ]
    }
   ],
   "source": [
    "voltage_max = 4\n",
    "voltage_nop = 101\n",
    "freq_nop = 501\n",
    "nndac_channels = [0]\n",
    "voltages=np.linspace(-1,1,voltage_nop)\n",
    "#voltages=np.linspace(-voltage_max,voltage_max,voltage_nop)\n",
    "freqs= np.linspace(5.4e9,5.9e9,freq_nop)\n",
    "pna.set_nop(1)\n",
    "pna.set_bandwidth(50)\n",
    "lo1.set_power(-10)\n",
    "lo1.set_status(1)\n",
    "delay = 55e-9\n",
    "for nndac_channel_id in nndac_channels:\n",
    "    for qubit_id in ['1', '2']:\n",
    "        pna.set_power(qubits[qubit_id]['r']['P'])\n",
    "        try: \n",
    "            coil = 'NNDAC-'+str(nndac_channel_id)\n",
    "            def set_volt_res(V):\n",
    "                dac.set_voltage(1.5-V, channel=0)\n",
    "                dac.set_voltage(1.5+V, channel=2)\n",
    "                #dac.set_voltage(x, channel=nndac_channel_id)\n",
    "                res_freq = find_resonator(qubit_id, criterion='min_abs', delay=delay, check=1, raise_on_error=False)\n",
    "                pna.set_frequency(res_freq)\n",
    "                pna.set_centerfreq(res_freq)\n",
    "            result = sweep.sweep(pna,\n",
    "                                 (voltages, set_volt_res, 'Abstract voltage-like sweep parameter'.format(coil,qubit_id)),\n",
    "                                 (freqs,lo1.set_frequency, 'Excitation frequency', 'Hz'),\n",
    "                                 filename='Sample 1809-001_2 Coil #{} two-tone qubit{}'.format(coil,qubit_id))\n",
    "            dac.set_voltage(0,nndac_channel_id)\n",
    "        except KeyboardInterrupt:\n",
    "            for nndac_channel in nndac_channels:\n",
    "                dac.set_voltage(0,nndac_channel)\n",
    "            raise\n",
    "        finally:\n",
    "            for nndac_channel in nndac_channels:\n",
    "                dac.set_voltage(0,nndac_channel)\n",
    "                \n"
   ]
  },
  {
   "cell_type": "markdown",
   "metadata": {},
   "source": [
    "## Simple two-tone"
   ]
  },
  {
   "cell_type": "code",
   "execution_count": 18,
   "metadata": {},
   "outputs": [
    {
     "data": {
      "application/vnd.jupyter.widget-view+json": {
       "model_id": "34d452ceed0e432880bef307d07462a0",
       "version_major": 2,
       "version_minor": 0
      },
      "text/plain": [
       "A Jupyter Widget"
      ]
     },
     "metadata": {},
     "output_type": "display_data"
    },
    {
     "name": "stdout",
     "output_type": "stream",
     "text": [
      "Started at:  Sep 19 2018 19:21:26\n",
      "resonator found at 6892100000.0\n",
      "resonator found at 6890600000.0\n",
      "resonator found at 6889300000.0\n",
      "resonator found at 6888000000.0\n",
      "resonator found at 6887000000.0\n",
      "resonator found at 6886300000.0\n",
      "resonator found at 6885500000.0\n",
      "resonator found at 6885100000.0\n",
      "resonator found at 6884600000.0\n",
      "resonator found at 6884000000.0\n",
      "resonator found at 6883500000.0\n",
      "resonator found at 6883100000.0\n",
      "resonator found at 6882900000.0\n",
      "resonator found at 6882500000.0\n",
      "resonator found at 6882300000.0\n",
      "resonator found at 6882200000.0\n",
      "resonator found at 6881800000.0\n",
      "resonator found at 6881800000.0\n",
      "resonator found at 6881700000.0\n",
      "resonator found at 6881400000.0\n",
      "resonator found at 6881600000.0\n",
      "resonator found at 6881200000.0\n",
      "resonator found at 6881200000.0\n",
      "resonator found at 6881100000.0\n",
      "resonator found at 6881100000.0\n",
      "resonator found at 6881200000.0\n",
      "resonator found at 6880900000.0\n",
      "resonator found at 6881000000.0\n",
      "resonator found at 6881400000.0\n",
      "resonator found at 6881300000.0\n",
      "resonator found at 6881100000.0\n",
      "resonator found at 6881500000.0\n",
      "resonator found at 6881700000.0\n",
      "resonator found at 6881700000.0\n",
      "resonator found at 6881600000.0\n",
      "resonator found at 6881900000.0\n",
      "resonator found at 6881900000.0\n",
      "resonator found at 6882300000.0\n",
      "resonator found at 6882700000.0\n",
      "resonator found at 6882800000.0\n",
      "resonator found at 6883100000.0\n",
      "Exiting sweep main thread #{} via return 12052\n",
      "\n",
      "Elapsed time: 0 h 22 m 19.41 s\n"
     ]
    }
   ],
   "source": [
    "voltage_max = 4\n",
    "voltage_nop = 41\n",
    "freq_nop = 401\n",
    "nndac_channels = [2]\n",
    "voltages=np.linspace(1,2.7,voltage_nop)\n",
    "#voltages=np.linspace(-voltage_max,voltage_max,voltage_nop)\n",
    "freqs= np.linspace(5e9,6.2e9,freq_nop)\n",
    "pna.set_nop(1)\n",
    "pna.set_bandwidth(50)\n",
    "lo1.set_power(-0)\n",
    "lo1.set_status(1)\n",
    "delay = 55e-9\n",
    "for nndac_channel_id in nndac_channels:\n",
    "    for qubit_id in ['2']:\n",
    "        pna.set_power(qubits[qubit_id]['r']['P'])\n",
    "        try: \n",
    "            coil = 'NNDAC-'+str(nndac_channel_id)\n",
    "            def set_volt_res(x):\n",
    "                dac.set_voltage(x, channel=nndac_channel_id)\n",
    "                res_freq = find_resonator(qubit_id, criterion='min_abs', delay=delay, check=1, raise_on_error=False)\n",
    "                pna.set_frequency(res_freq)\n",
    "                pna.set_centerfreq(res_freq)\n",
    "            result = sweep.sweep(pna,\n",
    "                                 (voltages, set_volt_res, 'Coil #{} voltage, qubit{}'.format(coil,qubit_id)),\n",
    "                                 (freqs,lo1.set_frequency, 'Excitation frequency', 'Hz'),\n",
    "                                 filename='Sample 809-001_2 Coil #{} two-tone qubit{}'.format(coil,qubit_id))\n",
    "            dac.set_voltage(0,nndac_channel_id)\n",
    "        except KeyboardInterrupt:\n",
    "            for nndac_channel in nndac_channels:\n",
    "                dac.set_voltage(0,nndac_channel)\n",
    "            raise\n",
    "        finally:\n",
    "            for nndac_channel in nndac_channels:\n",
    "                dac.set_voltage(0,nndac_channel)\n",
    "                \n"
   ]
  },
  {
   "cell_type": "markdown",
   "metadata": {},
   "source": [
    "## Кубитная спектроскопия"
   ]
  },
  {
   "cell_type": "markdown",
   "metadata": {},
   "source": [
    "# Импульсы"
   ]
  },
  {
   "cell_type": "markdown",
   "metadata": {},
   "source": [
    "### Загружаем импульсные скрипты всякие"
   ]
  },
  {
   "cell_type": "code",
   "execution_count": 19,
   "metadata": {},
   "outputs": [
    {
     "data": {
      "text/plain": [
       "<module 'qsweepy.sweep' from 'D:\\\\qtlab_replacement\\\\qsweepy\\\\sweep.py'>"
      ]
     },
     "execution_count": 19,
     "metadata": {},
     "output_type": "execute_result"
    }
   ],
   "source": [
    "import imp\n",
    "imp.reload(awg_digital)\n",
    "imp.reload(awg_iq)\n",
    "imp.reload(data_reduce)\n",
    "imp.reload(fitting)\n",
    "imp.reload(plotting)\n",
    "imp.reload(tomography)\n",
    "imp.reload(sweep)"
   ]
  },
  {
   "cell_type": "code",
   "execution_count": 64,
   "metadata": {},
   "outputs": [
    {
     "data": {
      "text/plain": [
       "True"
      ]
     },
     "execution_count": 64,
     "metadata": {},
     "output_type": "execute_result"
    }
   ],
   "source": [
    "# Источник тока - в autorange\n",
    "#current.set_autorange(1)\n",
    "#Мощности гетеродинов, постоянные\n",
    "#Мощность гетеродина для возбуждения 13-16 дБм\n",
    "\n",
    "lo_ex_pow = 14\n",
    "lo_ex.set_status(1)\n",
    "lo_ro_pow = 16\n",
    "lo_ro.set_power(lo_ro_pow)\n",
    "\n",
    "pna.write(\"OUTP ON\")\n",
    "pna.write(\"SOUR1:POW1:MODE ON\")\n",
    "pna.write(\"SOUR1:POW2:MODE OFF\")\n",
    "pna.set_sweep_mode(\"CW\")\n",
    "lo_ex.set_power(lo_ex_pow)\n",
    "\n",
    "marker_length = 100\n",
    "readout_trigger_delay = 185\n",
    "trg_length = 10e-9\n",
    "\n",
    "ex_clock = 1e9\n",
    "ro_clock = 1e9\n",
    "\n",
    "rep_rate = 20e3 # частота повторений эксперимента\n",
    "\n",
    "awg.stop()\n",
    "awg.check_cached=True\n",
    "#awg_tek.set_clock(ex_clock) # клок всех авгшк\n",
    "awg.set_nop(ex_clock/rep_rate) # репрейт нужно задавать по=хорошему только на управляющей,\n",
    "awg.run()\n",
    "# а вот длину сэмплов, которая очевидно то же самое, нужно задавать на всех авгшках.\n",
    "# хорошо, что сейчас она только одна.\n",
    "#this is zashkvar\n",
    "\n",
    "# channel 0 is master and triggers all others\n",
    "# M3202A settings (ignored on AWG5014C)\n",
    "awg.trigger_source_types = [0, 6,6,6]\n",
    "awg.trigger_source_channels = [0, 4000,4000,4000] # pxi trigger 0 \n",
    "awg.trigger_delays = [40, 0,0,0] # master channel should wait 400 ns for others to start\n",
    "awg.trigger_behaviours = [0,4,4,4] #rising edge trigger\n",
    "#for channel in range(0,4): #M3202A\n",
    "for channel in range(1,5): #AWG5014C\n",
    "    awg.set_amplitude(.2, channel=channel)\n",
    "    awg.set_offset(0, channel=channel)\n",
    "    awg.set_output(1, channel=channel)\n",
    "    awg.set_waveform([0]*awg_tek.get_nop(), channel=channel)\n",
    "\n",
    "    \n",
    "#awg.set_marker(length=marker_length, delay=0, channel=0) #M3202A\n",
    "\n",
    "\n",
    "awg_channels =dict()\n",
    "ro_trg = awg_digital.awg_digital(awg_tek, 1)\n",
    "#ro_trg.mode = 'set_delay' #M3202A\n",
    "#ro_trg.delay_setter = lambda x: adc.set_trigger_delay(int(x*adc.get_clock()/iq_ex.get_clock()-readout_trigger_delay)) #M3202A\n",
    "ro_trg.mode = 'waveform' #AWG5014C\n",
    "awg_channels['ro_trg'] = ro_trg\n",
    "# К первому маркере первого канала тектроникса подсоединён триггер оцифровщика.\n",
    "# Надо подавать какой-нибудь триггер, что-ли.\n",
    "# А ещё нужно подавать клок. К сожалению наш оцифровщик не может в 1ГГц клок, ему нужен 500МГц клок.\n",
    "# Будем подавать 500 МГц с цифрового выхода тектроникса.\n",
    "# AWG5014C\n",
    "awg_tek.set_marker1_low(-0.0, channel=1)\n",
    "awg_tek.set_marker2_low(-0.0, channel=1)\n",
    "awg_tek.set_marker1_high(1.0, channel=1)\n",
    "awg_tek.set_marker2_high(1.0, channel=1)\n",
    "awg_tek.set_marker1_low(-0.04, channel=2)\n",
    "awg_tek.set_marker2_low(-0.04, channel=2) \n",
    "awg_tek.set_marker1_high(0.04, channel=2) # с клока хватит и такой амплитуды\n",
    "awg_tek.set_marker2_high(0.04, channel=2) # с клока хватит и такой амплитуды\n",
    "\n",
    "# настройки оцифровщика\n",
    "# Spectrum M3i-3212\n",
    "adc.reset()            \n",
    "adc.set_timeout(10000)\n",
    "adc.set_clock(ro_clock)\n",
    "\n",
    "#adc.set_spc_samplerate(smp_rate)\n",
    "#External trigger\n",
    "adc.set_trigger_ext0_level0(0) # logical 0 value to 200 mV\n",
    "adc.set_trigger_ext0_level1(1300) # logical 1 value to 600 mV\n",
    "adc.trigger_termination_50Ohm()\n",
    "adc.trigger_mode_pos()\n",
    "adc.set_trigger_ext0_pulsewidth(0)\n",
    "adc.disable_trigger_output()\n",
    "adc.select_channel01()\n",
    "adc.set_multi_mode()\n",
    "# #adc.set_segmentsize()\n",
    "adc.set_trigger_ORmask_tmask_ext0()\n",
    "adc.set_trigger_ANDmask_tmask_ext0()\n",
    "adc.set_trigger_ORmask_tmask_NO_ch0()\n",
    "adc.set_trigger_ORmask_tmask_NO_ch1()\n",
    "adc.set_trigger_ANDmask_tmask_NO_ch0()\n",
    "adc.set_trigger_ANDmask_tmask_NO_ch1()\n",
    "# # усилитель на оцифровщике\n",
    "adc.set_input_amp_ch0(50)\n",
    "adc.set_input_amp_ch1(50)\n",
    "adc.set_input_offset_ch0(0)\n",
    "adc.set_input_offset_ch1(0)\n",
    "\n",
    "# #External clock\n",
    "# adc.set_reference_clock(adc.get_clock()) #500 MHz clock\n",
    "adc.set_reference_clock(10e6) #500 MHz clock\n",
    "\n",
    "#adc.set_input(channel=1, input=1)\n",
    "#adc.set_input(channel=2, input=1)\n",
    "#adc.set_trigger_external(channel=1)\n",
    "#adc.set_trigger_external(channel=2)"
   ]
  },
  {
   "cell_type": "markdown",
   "metadata": {},
   "source": [
    "### Калибровка миксеров"
   ]
  },
  {
   "cell_type": "code",
   "execution_count": 21,
   "metadata": {},
   "outputs": [
    {
     "data": {
      "text/plain": [
       "{'F': {'F01_min': 5417000000.0},\n",
       " 'P': {'Fmin_coil_currents': {0: 0, 2: -2.62, 4: 0.0},\n",
       "  'P': None,\n",
       "  'nndac_coil_id': 4}}"
      ]
     },
     "execution_count": 21,
     "metadata": {},
     "output_type": "execute_result"
    }
   ],
   "source": [
    "qubits[qubit_id]['q']\n"
   ]
  },
  {
   "cell_type": "code",
   "execution_count": 50,
   "metadata": {
    "scrolled": true
   },
   "outputs": [
    {
     "name": "stdout",
     "output_type": "stream",
     "text": [
      "271.21 5700000000.0\n",
      "Excitation channel\n",
      "d:\\data/calibrations/iq-dc/ lo_freq-5.7e+09\n",
      "d:\\data/calibrations/iq-rf/ frequency-5.429e+09-if--2.712e+08-sideband_id-     0\n",
      "max() arg is an empty sequence\n",
      "-271210000.0 5428790000.0\n",
      "dc: -9.09e-02-6.84e-02j\tI:  4.00e-01\tQ: 5.00e-01-2.00e-01j\tB: -96.18 G: -69.33, C:0.00\n",
      "[-69.32566071 -97.18389893 -96.18461609]\n",
      "dc: -9.09e-02-6.84e-02j\tI:  4.00e-01\tQ: 5.25e-01-2.00e-01j\tB: -95.94 G: -69.10, C:0.00\n",
      "[-69.09732056 -97.14374542 -95.94151306]\n",
      "dc: -9.09e-02-6.84e-02j\tI:  4.00e-01\tQ: 5.00e-01-2.10e-01j\tB: -95.99 G: -69.31, C:0.00\n",
      "[-69.31044006 -96.3999939  -95.98970795]\n",
      "dc: -9.09e-02-6.84e-02j\tI:  4.00e-01\tQ: 5.25e-01-1.90e-01j\tB: -96.20 G: -69.11, C:0.00\n",
      "[-69.11432648 -96.7519455  -96.20352173]\n",
      "dc: -9.09e-02-6.84e-02j\tI:  4.00e-01\tQ: 5.37e-01-1.80e-01j\tB: -96.26 G: -69.01, C:0.00\n",
      "[-69.01321411 -97.17072296 -96.26013947]\n",
      "dc: -9.09e-02-6.84e-02j\tI:  4.00e-01\tQ: 5.12e-01-1.80e-01j\tB: -96.50 G: -69.24, C:0.00\n",
      "[-69.24263    -97.24534607 -96.50215149]\n",
      "dc: -9.09e-02-6.84e-02j\tI:  4.00e-01\tQ: 5.06e-01-1.70e-01j\tB: -96.81 G: -69.31, C:0.00\n",
      "[-69.30986023 -97.18110657 -96.80651093]\n",
      "dc: -9.09e-02-6.84e-02j\tI:  4.00e-01\tQ: 5.44e-01-1.50e-01j\tB: -96.74 G: -69.00, C:0.00\n",
      "[-68.99842072 -95.71672821 -96.73648071]\n",
      "dc: -9.09e-02-6.84e-02j\tI:  4.00e-01\tQ: 5.66e-01-1.25e-01j\tB: -97.08 G: -68.83, C:0.00\n",
      "[-68.82670593 -96.44962311 -97.07548523]\n",
      "dc: -9.09e-02-6.84e-02j\tI:  4.00e-01\tQ: 5.34e-01-1.15e-01j\tB: -97.53 G: -69.11, C:0.00\n",
      "[-69.11192322 -97.62719727 -97.52711487]\n",
      "dc: -9.09e-02-6.84e-02j\tI:  4.00e-01\tQ: 5.33e-01-8.25e-02j\tB: -98.42 G: -69.15, C:0.00\n",
      "[-69.1463623  -96.86235046 -98.42133331]\n",
      "dc: -9.09e-02-6.84e-02j\tI:  4.00e-01\tQ: 5.92e-01-3.75e-02j\tB: -98.19 G: -68.64, C:0.00\n",
      "[-68.63545227 -96.98153687 -98.18858337]\n",
      "dc: -9.09e-02-6.84e-02j\tI:  4.00e-01\tQ: 6.35e-01+2.87e-02j\tB: -98.40 G: -68.26, C:0.00\n",
      "[-68.26171875 -98.0222702  -98.40039825]\n",
      "dc: -9.09e-02-6.84e-02j\tI:  4.00e-01\tQ: 6.02e-01+7.12e-02j\tB: -99.32 G: -68.51, C:0.00\n",
      "[-68.51169586 -97.399086   -99.32391357]\n",
      "dc: -9.09e-02-6.84e-02j\tI:  4.00e-01\tQ: 6.21e-01+1.69e-01j\tB: -99.23 G: -68.24, C:0.00\n",
      "[-68.24081421 -97.83325958 -99.23001862]\n",
      "dc: -9.09e-02-6.84e-02j\tI:  4.00e-01\tQ: 7.23e-01+2.81e-01j\tB: -96.09 G: -67.28, C:0.00\n",
      "[-67.27955627 -98.0847702  -96.0896225 ]\n",
      "dc: -9.09e-02-6.84e-02j\tI:  4.00e-01\tQ: 5.80e-01+8.28e-03j\tB: -99.02 G: -68.73, C:0.00\n",
      "[-68.73310089 -97.59094238 -99.02139282]\n",
      "dc: -9.09e-02-6.84e-02j\tI:  4.00e-01\tQ: 5.66e-01+1.49e-01j\tB: -100.76 G: -68.73, C:0.00\n",
      "[ -68.72887421  -95.45862579 -100.75746918]\n",
      "dc: -9.09e-02-6.84e-02j\tI:  4.00e-01\tQ: 5.31e-01+2.09e-01j\tB: -101.16 G: -68.91, C:0.00\n",
      "[ -68.91230011  -98.35126495 -101.16499329]\n",
      "dc: -9.09e-02-6.84e-02j\tI:  4.00e-01\tQ: 5.72e-01+3.70e-01j\tB: -97.63 G: -68.16, C:0.00\n",
      "[-68.16177368 -97.97305298 -97.6349411 ]\n",
      "dc: -9.09e-02-6.84e-02j\tI:  4.00e-01\tQ: 5.78e-01+9.87e-02j\tB: -100.25 G: -68.69, C:0.00\n",
      "[ -68.68810272  -97.08940887 -100.24970245]\n",
      "dc: -9.09e-02-6.84e-02j\tI:  4.00e-01\tQ: 4.89e-01+1.38e-01j\tB: -103.10 G: -69.43, C:0.00\n",
      "[ -69.4312439   -96.15120697 -103.09822845]\n",
      "dc: -9.09e-02-6.84e-02j\tI:  4.00e-01\tQ: 4.23e-01+1.23e-01j\tB: -104.28 G: -70.09, C:0.00\n",
      "[ -70.08731079  -97.47679138 -104.28490448]\n",
      "dc: -9.09e-02-6.84e-02j\tI:  4.00e-01\tQ: 3.76e-01+2.33e-01j\tB: -102.98 G: -70.28, C:0.00\n",
      "[ -70.28125     -97.30059052 -102.97686005]\n",
      "dc: -9.09e-02-6.84e-02j\tI:  4.00e-01\tQ: 2.67e-01+1.47e-01j\tB: -102.47 G: -71.72, C:0.00\n",
      "[ -71.7227478   -96.70552063 -102.46794891]\n",
      "dc: -9.09e-02-6.84e-02j\tI:  4.00e-01\tQ: 4.65e-01+1.93e-01j\tB: -103.02 G: -69.54, C:0.00\n",
      "[ -69.53518677  -97.39931488 -103.01882172]\n",
      "dc: -9.09e-02-6.84e-02j\tI:  4.00e-01\tQ: 5.12e-01+8.32e-02j\tB: -101.81 G: -69.29, C:0.00\n",
      "[ -69.28913116  -97.14240265 -101.81382751]\n",
      "dc: -9.09e-02-6.84e-02j\tI:  4.00e-01\tQ: 4.10e-01+1.96e-01j\tB: -103.85 G: -70.05, C:0.00\n",
      "[ -70.05141449  -97.1076355  -103.8498764 ]\n",
      "dc: -9.09e-02-6.84e-02j\tI:  4.00e-01\tQ: 3.67e-01+1.25e-01j\tB: -104.04 G: -70.66, C:0.00\n",
      "[ -70.65802765  -97.29546356 -104.03636169]\n",
      "dc: -9.09e-02-6.84e-02j\tI:  4.00e-01\tQ: 4.41e-01+1.76e-01j\tB: -103.61 G: -69.81, C:0.00\n",
      "[ -69.80621338  -96.79464722 -103.60655975]\n",
      "dc: -9.09e-02-6.84e-02j\tI:  4.00e-01\tQ: 4.54e-01+1.04e-01j\tB: -103.72 G: -69.82, C:0.00\n",
      "[ -69.82141876  -97.38715363 -103.72488403]\n",
      "dc: -9.09e-02-6.84e-02j\tI:  4.00e-01\tQ: 4.36e-01+5.00e-02j\tB: -102.81 G: -70.06, C:0.00\n",
      "[ -70.06127167  -96.47950745 -102.80672455]\n",
      "dc: -9.09e-02-6.84e-02j\tI:  4.00e-01\tQ: 4.40e-01+1.45e-01j\tB: -103.96 G: -69.89, C:0.00\n",
      "[ -69.88969421  -97.74199677 -103.95536804]\n",
      "dc: -9.09e-02-6.84e-02j\tI:  4.00e-01\tQ: 4.09e-01+1.64e-01j\tB: -104.30 G: -70.15, C:0.00\n",
      "[ -70.14736176  -96.66770172 -104.29555511]\n",
      "dc: -9.09e-02-6.84e-02j\tI:  4.00e-01\tQ: 3.92e-01+1.42e-01j\tB: -104.65 G: -70.36, C:0.00\n",
      "[ -70.36432648  -96.9026413  -104.64968872]\n",
      "dc: -9.09e-02-6.84e-02j\tI:  4.00e-01\tQ: 3.68e-01+1.41e-01j\tB: -104.80 G: -70.61, C:0.00\n",
      "[ -70.6113205   -96.34063721 -104.79619598]\n",
      "dc: -9.09e-02-6.84e-02j\tI:  4.00e-01\tQ: 4.06e-01+1.01e-01j\tB: -104.42 G: -70.30, C:0.00\n",
      "[ -70.30130005  -96.79636383 -104.41937256]\n",
      "dc: -9.09e-02-6.84e-02j\tI:  4.00e-01\tQ: 4.08e-01+1.48e-01j\tB: -104.20 G: -70.19, C:0.00\n",
      "[ -70.19135284  -97.55288696 -104.1965332 ]\n",
      "dc: -9.09e-02-6.84e-02j\tI:  4.00e-01\tQ: 4.07e-01+1.32e-01j\tB: -104.40 G: -70.23, C:0.00\n",
      "[ -70.23003387  -96.75038147 -104.40044403]\n",
      "dc: -9.09e-02-6.84e-02j\tI:  4.00e-01\tQ: 4.00e-01+1.53e-01j\tB: -104.23 G: -70.26, C:0.00\n",
      "[ -70.2563858   -97.29370117 -104.22517395]\n",
      "dc: -9.09e-02-6.84e-02j\tI:  4.00e-01\tQ: 3.99e-01+1.21e-01j\tB: -104.60 G: -70.34, C:0.00\n",
      "[ -70.33528137  -96.0137558  -104.60016632]\n",
      "dc: -9.09e-02-6.84e-02j\tI:  4.00e-01\tQ: 3.84e-01+1.31e-01j\tB: -104.76 G: -70.47, C:0.00\n",
      "[ -70.47280884  -97.20143127 -104.7552948 ]\n",
      "dc: -9.09e-02-6.84e-02j\tI:  4.00e-01\tQ: 3.77e-01+1.52e-01j\tB: -104.40 G: -70.50, C:0.00\n",
      "[ -70.50016022  -96.8607254  -104.4041748 ]\n",
      "dc: -9.09e-02-6.84e-02j\tI:  4.00e-01\tQ: 3.93e-01+1.29e-01j\tB: -104.75 G: -70.37, C:0.00\n",
      "[ -70.37484741  -96.00222778 -104.75085449]\n",
      "dc: -9.09e-02-6.84e-02j\tI:  4.00e-01\tQ: 4.02e-01+1.40e-01j\tB: -104.15 G: -70.27, C:0.00\n",
      "[ -70.26789093  -95.36977386 -104.15205383]\n",
      "dc: -9.09e-02-6.84e-02j\tI:  4.00e-01\tQ: 3.88e-01+1.33e-01j\tB: -104.49 G: -70.42, C:0.00\n",
      "[ -70.42350006  -96.96105957 -104.49163055]\n",
      "dc: -9.09e-02-6.84e-02j\tI:  4.00e-01\tQ: 3.93e-01+1.36e-01j\tB: -104.46 G: -70.37, C:0.00\n",
      "[ -70.37253571  -96.69361877 -104.45601654]\n",
      "dc: -9.09e-02-6.84e-02j\tI:  4.00e-01\tQ: 3.88e-01+1.30e-01j\tB: -104.61 G: -70.43, C:0.00\n",
      "[ -70.42913055  -95.78538513 -104.6056366 ]\n",
      "dc: -9.09e-02-6.84e-02j\tI:  4.00e-01\tQ: 3.89e-01+1.24e-01j\tB: -104.62 G: -70.43, C:0.00\n",
      "[ -70.43317413  -96.67612457 -104.61642456]\n",
      "dc: -9.09e-02-6.84e-02j\tI:  4.00e-01\tQ: 3.94e-01+1.23e-01j\tB: -104.39 G: -70.39, C:0.00\n",
      "[ -70.38637543  -95.927948   -104.38526154]\n",
      "dc: -9.09e-02-6.84e-02j\tI:  4.00e-01\tQ: 3.90e-01+1.28e-01j\tB: -104.56 G: -70.42, C:0.00\n",
      "[ -70.41641998  -96.87433624 -104.55527496]\n",
      "dc: -9.09e-02-6.84e-02j\tI:  4.00e-01\tQ: 3.91e-01+1.26e-01j\tB: -104.42 G: -70.41, C:0.00\n",
      "[ -70.40911865  -97.75862885 -104.41832733]\n",
      "dc: -9.09e-02-6.84e-02j\tI:  4.00e-01\tQ: 3.91e-01+1.30e-01j\tB: -104.36 G: -70.40, C:0.00\n",
      "[ -70.40190887  -97.63587189 -104.35553741]\n",
      "dc: -9.09e-02-6.84e-02j\tI:  4.00e-01\tQ: 3.94e-01+1.26e-01j\tB: -104.36 G: -70.38, C:0.00\n",
      "[ -70.37976074  -96.99989319 -104.36122894]\n",
      "dc: -9.09e-02-6.84e-02j\tI:  4.00e-01\tQ: 3.93e-01+1.27e-01j\tB: -104.38 G: -70.40, C:0.00\n",
      "[ -70.39560699  -96.05191803 -104.37670898]\n",
      "dc: -9.09e-02-6.84e-02j\tI:  4.00e-01\tQ: 3.92e-01+1.28e-01j\tB: -104.68 G: -70.39, C:0.00\n",
      "[ -70.39467621  -95.96937561 -104.67801666]\n",
      "dc: -9.09e-02-6.84e-02j\tI:  4.00e-01\tQ: 3.92e-01+1.29e-01j\tB: -104.21 G: -70.40, C:0.00\n",
      "[ -70.39538574  -95.96218872 -104.21363068]\n",
      "dc: -9.09e-02-6.84e-02j\tI:  4.00e-01\tQ: 3.94e-01+1.27e-01j\tB: -104.40 G: -70.38, C:0.00\n",
      "[ -70.38174438  -96.12044525 -104.39810944]\n",
      "dc: -9.09e-02-6.84e-02j\tI:  4.00e-01\tQ: 3.93e-01+1.28e-01j\tB: -104.55 G: -70.38, C:0.00\n",
      "[ -70.38039398  -95.59627533 -104.55307007]\n",
      "dc: -9.09e-02-6.84e-02j\tI:  4.00e-01\tQ: 3.93e-01+1.29e-01j\tB: -104.33 G: -70.38, C:0.00\n",
      "[ -70.38479614  -96.27637482 -104.33441925]\n",
      "dc: -9.09e-02-6.84e-02j\tI:  4.00e-01\tQ: 3.93e-01+1.28e-01j\tB: -104.24 G: -70.38, C:0.00\n",
      "[ -70.38365936  -95.70632172 -104.24078369]\n"
     ]
    },
    {
     "name": "stdout",
     "output_type": "stream",
     "text": [
      "dc: -9.09e-02-6.84e-02j\tI:  4.00e-01\tQ: 3.93e-01+1.28e-01j\tB: -104.60 G: -70.38, C:0.00\n",
      "[ -70.37943268  -96.00559235 -104.59514618]\n",
      "dc: -9.09e-02-6.84e-02j\tI:  4.00e-01\tQ: 3.93e-01+1.28e-01j\tB: -104.23 G: -70.38, C:0.00\n",
      "[ -70.37604523  -96.6436615  -104.22927094]\n",
      "dc: -9.09e-02-6.84e-02j\tI:  4.00e-01\tQ: 3.93e-01+1.29e-01j\tB: -104.25 G: -70.38, C:0.00\n",
      "[ -70.37950897  -96.16246796 -104.24699402]\n",
      "dc: -9.09e-02-6.84e-02j\tI:  4.00e-01\tQ: 3.93e-01+1.29e-01j\tB: -104.35 G: -70.38, C:0.00\n",
      "[ -70.38195801  -96.1102066  -104.35386658]\n",
      "dc: -9.09e-02-6.84e-02j\tI:  4.00e-01\tQ: 3.93e-01+1.29e-01j\tB: -104.25 G: -70.38, C:0.00\n",
      "[ -70.37766266  -95.7060318  -104.25481415]\n",
      "dc: -9.09e-02-6.84e-02j\tI:  4.00e-01\tQ: 3.93e-01+1.29e-01j\tB: -104.56 G: -70.38, C:0.00\n",
      "[ -70.38422394  -97.32244873 -104.56165314]\n",
      "dc: -9.09e-02-6.84e-02j\tI:  4.00e-01\tQ: 3.93e-01+1.29e-01j\tB: -104.57 G: -70.38, C:0.00\n",
      "[ -70.37929535  -96.87620544 -104.57065582]\n",
      "dc: -9.09e-02-6.84e-02j\tI:  4.00e-01\tQ: 3.93e-01+1.29e-01j\tB: -104.13 G: -70.37, C:0.00\n",
      "[ -70.37440491  -95.76106262 -104.12781525]\n",
      "dc: -9.09e-02-6.84e-02j\tI:  4.00e-01\tQ: 3.93e-01+1.29e-01j\tB: -104.58 G: -70.38, C:0.00\n",
      "[ -70.38323975  -95.82436371 -104.58276367]\n",
      "dc: -9.09e-02-6.84e-02j\tI:  4.00e-01\tQ: 3.93e-01+1.29e-01j\tB: -104.33 G: -70.38, C:0.00\n",
      "[ -70.37701416  -97.1402359  -104.3285675 ]\n",
      "dc: -9.09e-02-6.84e-02j\tI:  4.00e-01\tQ: 3.93e-01+1.29e-01j\tB: -104.47 G: -70.38, C:0.00\n",
      "[ -70.37851715  -97.53356171 -104.47428131]\n",
      "dc: -9.09e-02-6.84e-02j\tI:  4.00e-01\tQ: 3.93e-01+1.29e-01j\tB: -104.31 G: -70.37, C:0.00\n",
      "[ -70.37042999  -97.06404114 -104.31092072]\n",
      "dc: -9.09e-02-6.84e-02j\tI:  4.00e-01\tQ: 3.93e-01+1.29e-01j\tB: -104.74 G: -70.38, C:0.00\n",
      "[ -70.37815094  -96.46055603 -104.74015045]\n",
      "dc: -9.09e-02-6.84e-02j\tI:  4.00e-01\tQ: 3.93e-01+1.29e-01j\tB: -104.52 G: -70.38, C:0.00\n",
      "[ -70.38057709  -97.83473969 -104.52297211]\n",
      "dc: -9.09e-02-6.84e-02j\tI:  4.00e-01\tQ: 3.93e-01+1.29e-01j\tB: -104.42 G: -70.38, C:0.00\n",
      "[ -70.38173676  -96.82738495 -104.42340851]\n",
      "dc: -9.09e-02-6.84e-02j\tI:  4.00e-01\tQ: 3.93e-01+1.29e-01j\tB: -104.35 G: -70.37, C:0.00\n",
      "[ -70.37404633  -96.15518951 -104.34651947]\n",
      "dc: -9.09e-02-6.84e-02j\tI:  4.00e-01\tQ: 3.93e-01+1.29e-01j\tB: -104.17 G: -70.38, C:0.00\n",
      "[ -70.37638092  -96.42543793 -104.16898346]\n",
      "dc: -9.09e-02-6.84e-02j\tI:  4.00e-01\tQ: 3.93e-01+1.29e-01j\tB: -104.34 G: -70.38, C:0.00\n",
      "[ -70.3777771   -96.59068298 -104.33724213]\n",
      "dc: -9.09e-02-6.84e-02j\tI:  4.00e-01\tQ: 3.93e-01+1.29e-01j\tB: -104.58 G: -70.38, C:0.00\n",
      "[ -70.37592316  -96.1341629  -104.57714844]\n",
      "dc: -9.09e-02-6.84e-02j\tI:  4.00e-01\tQ: 3.93e-01+1.29e-01j\tB: -104.41 G: -70.38, C:0.00\n",
      "[ -70.37613678  -96.06011963 -104.40781403]\n",
      "dc: -9.09e-02-6.84e-02j\tI:  4.00e-01\tQ: 3.93e-01+1.29e-01j\tB: -104.53 G: -70.37, C:0.00\n",
      "[ -70.37281036  -96.110466   -104.53073883]\n",
      "dc: -9.09e-02-6.84e-02j\tI:  4.00e-01\tQ: 3.93e-01+1.29e-01j\tB: -104.47 G: -70.38, C:0.00\n",
      "[ -70.37670135  -96.198349   -104.46754456]\n",
      "dc: -9.09e-02-6.84e-02j\tI:  4.00e-01\tQ: 3.93e-01+1.29e-01j\tB: -104.91 G: -70.38, C:0.00\n",
      "[ -70.37674713  -96.85916138 -104.91386414]\n",
      "dc: -9.09e-02-6.84e-02j\tI:  4.00e-01\tQ: 3.93e-01+1.29e-01j\tB: -104.55 G: -70.38, C:0.00\n",
      "[ -70.37624359  -96.37140656 -104.55355072]\n",
      "dc: -9.09e-02-6.84e-02j\tI:  4.00e-01\tQ: 3.93e-01+1.29e-01j\tB: -104.54 G: -70.38, C:0.00\n",
      "[ -70.37769318  -96.93090057 -104.53994751]\n",
      "dc: -9.09e-02-6.84e-02j\tI:  4.00e-01\tQ: 3.93e-01+1.29e-01j\tB: -104.49 G: -70.38, C:0.00\n",
      "[ -70.37993622  -96.47672272 -104.48571014]\n",
      "dc: -9.09e-02-6.84e-02j\tI:  4.00e-01\tQ: 3.93e-01+1.29e-01j\tB: -104.59 G: -70.38, C:0.00\n",
      "[ -70.37805939  -97.41706848 -104.59372711]\n",
      "dc: -9.09e-02-6.84e-02j\tI:  4.00e-01\tQ: 3.93e-01+1.29e-01j\tB: -104.73 G: -70.37, C:0.00\n",
      "[ -70.37380981  -97.06591034 -104.72867584]\n",
      "dc: -9.09e-02-6.84e-02j\tI:  4.00e-01\tQ: 3.93e-01+1.29e-01j\tB: -104.12 G: -70.38, C:0.00\n",
      "[ -70.37663269  -97.2743988  -104.12486267]\n",
      "dc: -9.09e-02-6.84e-02j\tI:  4.00e-01\tQ: 3.93e-01+1.29e-01j\tB: -104.33 G: -70.37, C:0.00\n",
      "[ -70.37117767  -96.71802521 -104.33057404]\n",
      "dc: -9.09e-02-6.84e-02j\tI:  4.00e-01\tQ: 3.93e-01+1.29e-01j\tB: -104.48 G: -70.37, C:0.00\n",
      "[ -70.37397003  -96.35755157 -104.48184967]\n",
      "dc: -9.09e-02-6.84e-02j\tI:  4.00e-01\tQ: 3.93e-01+1.29e-01j\tB: -104.33 G: -70.37, C:0.00\n",
      "[ -70.37218475  -97.63352966 -104.32540131]\n",
      "Warning: Maximum number of iterations has been exceeded.\n",
      "dc: -9.09e-02-6.84e-02j\tI:  4.00e-01\tQ: 3.93e-01+1.29e-01j\tB: -85.68 G: -70.38, C:0.00\n",
      "[-105.3039093  -105.76363373 -106.07697296  -70.37702942  -97.59581757\n",
      " -104.31268311 -104.38075256 -105.26752472 -104.86481476]\n",
      "Readout channel\n",
      "d:\\data/calibrations/iq-dc/ lo_freq-6.809e+09\n",
      "d:\\data/calibrations/iq-rf/ frequency-6.734e+09-if--7.5e+07-sideband_id-     0\n"
     ]
    }
   ],
   "source": [
    "ro_if = 75e6\n",
    "lo_freq = 5.7e9\n",
    "\n",
    "imp.reload(awg_iq_multi)\n",
    "# промежуточные частоты для гетеродинной схемы new:\n",
    "lo1.set_frequency(lo_freq)\n",
    "ex_if = lo_freq-qubits[qubit_id]['q']['F']['F01_min']\n",
    "#iq_ex = awg_iq_multi.awg_iq_multi(awg_tek, awg_tek, 0, 1, lo_ex) #M3202A\n",
    "iq_ex = awg_iq_multi.awg_iq_multi(awg_tek, awg_tek, 1, 2, lo_ex) #M3202A\n",
    "for tr,freq in qubits[qubit_id]['q']['F'].items():\n",
    "    iq_ex.carriers[tr] = awg_iq_multi.carrier(iq_ex)\n",
    "    iq_ex.carriers[tr].set_frequency(freq)\n",
    "    awg_channels['iq_ex_'+tr]=iq_ex.carriers[tr]\n",
    "\n",
    "lo_ro.set_frequency(qubits[qubit_id]['r']['Fr']+ro_if)\n",
    "#iq_ro = awg_iq_multi.awg_iq_multi(awg_tek, awg_tek, 2, 3, lo_ro) #M3202A\n",
    "iq_ro = awg_iq_multi.awg_iq_multi(awg_tek, awg_tek, 4, 3, lo_ro) #AWG5014C\n",
    "iq_ro.carriers['iq_ro'] = awg_iq_multi.carrier(iq_ro)\n",
    "iq_ro.carriers['iq_ro'].set_frequency(qubits[qubit_id]['r']['Fr'])\n",
    "awg_channels['iq_ro'] = iq_ro.carriers['iq_ro']\n",
    "readout_channels = {'iq_ro':awg_channels['iq_ro']}\n",
    "\n",
    "pg = pulses.pulses(awg_channels)\n",
    "print(ex_if*1e-6 ,lo_freq)\n",
    "\n",
    "print(\"Excitation channel\", end='\\n')\n",
    "iq_ex.do_calibration(sa)\n",
    "print(\"Readout channel\", end='\\n')\n",
    "iq_ro.do_calibration(sa)"
   ]
  },
  {
   "cell_type": "code",
   "execution_count": 78,
   "metadata": {
    "scrolled": true
   },
   "outputs": [
    {
     "name": "stdout",
     "output_type": "stream",
     "text": [
      "Excitation channel\n",
      "d:\\data/calibrations/iq-dc/ lo_freq-5.7e+09\n",
      "d:\\data/calibrations/iq-rf/ frequency-5.518e+09-if--1.819e+08-sideband_id-     0\n",
      "d:\\data/calibrations/iq-rf/ frequency-5.52e+09-if--1.798e+08-sideband_id-     0\n",
      "d:\\data/calibrations/iq-rf/ frequency-5.429e+09-if--2.712e+08-sideband_id-     0\n",
      "Readout channel\n",
      "d:\\data/calibrations/iq-dc/ lo_freq-6.7e+09\n",
      "d:\\data/calibrations/iq-rf/ frequency-6.599e+09-if--1.007e+08-sideband_id-     0\n",
      "d:\\data/calibrations/iq-rf/ frequency-6.880e+09-if-1.805e+08-sideband_id-     0\n",
      "d:\\data/calibrations/iq-rf/ frequency-6.734e+09-if-3.44e+07-sideband_id-     0\n"
     ]
    }
   ],
   "source": [
    "#ro_if = 75e6\n",
    "lo_freq = 5.7e9\n",
    "lo_ro_freq = 6.7e9\n",
    "    \n",
    "imp.reload(awg_iq_multi)\n",
    "# промежуточные частоты для гетеродинной схемы new:\n",
    "lo1.set_frequency(lo_freq)\n",
    "lo_ro.set_frequency(lo_ro_freq)\n",
    "#iq_ex = awg_iq_multi.awg_iq_multi(awg_tek, awg_tek, 0, 1, lo_ex) #M3202A\n",
    "#iq_ro = awg_iq_multi.awg_iq_multi(awg_tek, awg_tek, 2, 3, lo_ro) #M3202A\n",
    "iq_ex = awg_iq_multi.awg_iq_multi(awg_tek, awg_tek, 1, 2, lo_ex) #M3202A\n",
    "iq_ro = awg_iq_multi.awg_iq_multi(awg_tek, awg_tek, 4, 3, lo_ro) #AWG5014C\n",
    "readout_channels = {}\n",
    "for _qubit_id, qubit in qubits.items():\n",
    "    for tr,freq in qubits[_qubit_id]['q']['F'].items():\n",
    "        iq_ex.carriers['iq_ex_q{}_'.format(_qubit_id)+tr] = awg_iq_multi.carrier(iq_ex)\n",
    "        iq_ex.carriers['iq_ex_q{}_'.format(_qubit_id)+tr].set_frequency(freq)\n",
    "        awg_channels['iq_ex_q{}_'.format(_qubit_id)+tr]=iq_ex.carriers['iq_ex_q{}_'.format(_qubit_id)+tr]\n",
    "        iq_ro.carriers['iq_ro_q{}'.format(_qubit_id)] = awg_iq_multi.carrier(iq_ro)\n",
    "        iq_ro.carriers['iq_ro_q{}'.format(_qubit_id)].set_frequency(qubits[_qubit_id]['r']['Fr'])\n",
    "        awg_channels['iq_ro_q{}'.format(_qubit_id)] = iq_ro.carriers['iq_ro_q{}'.format(_qubit_id)]\n",
    "        readout_channels['iq_ro_q{}'.format(_qubit_id)] = awg_channels['iq_ro_q{}'.format(_qubit_id)]\n",
    "\n",
    "pg = pulses.pulses(awg_channels)\n",
    "#print(ex_if*1e-6 ,lo_freq)\n",
    "\n",
    "print(\"Excitation channel\", end='\\n')\n",
    "iq_ex.do_calibration(sa)\n",
    "print(\"Readout channel\", end='\\n')\n",
    "iq_ro.do_calibration(sa)"
   ]
  },
  {
   "cell_type": "code",
   "execution_count": 79,
   "metadata": {},
   "outputs": [
    {
     "data": {
      "text/plain": [
       "({'iq_ro_q1': <qsweepy.awg_iq_multi.carrier at 0x1fd3af87940>,\n",
       "  'iq_ro_q2': <qsweepy.awg_iq_multi.carrier at 0x1fd3b0d7978>,\n",
       "  'iq_ro_q3': <qsweepy.awg_iq_multi.carrier at 0x1fd3b1274a8>},\n",
       " {'iq_ex_q1_F01_min': <qsweepy.awg_iq_multi.carrier at 0x1fd3b12b080>,\n",
       "  'iq_ex_q2_F01_min': <qsweepy.awg_iq_multi.carrier at 0x1fd3b0d7668>,\n",
       "  'iq_ex_q3_F01_min': <qsweepy.awg_iq_multi.carrier at 0x1fd3b127438>,\n",
       "  'iq_ro_q1': <qsweepy.awg_iq_multi.carrier at 0x1fd3af87940>,\n",
       "  'iq_ro_q2': <qsweepy.awg_iq_multi.carrier at 0x1fd3b0d7978>,\n",
       "  'iq_ro_q3': <qsweepy.awg_iq_multi.carrier at 0x1fd3b1274a8>,\n",
       "  'ro_trg': <qsweepy.awg_digital.awg_digital at 0x1fd3af96dd8>})"
      ]
     },
     "execution_count": 79,
     "metadata": {},
     "output_type": "execute_result"
    }
   ],
   "source": [
    "readout_channels, awg_channels"
   ]
  },
  {
   "cell_type": "markdown",
   "metadata": {},
   "source": [
    "## задержка считывания"
   ]
  },
  {
   "cell_type": "code",
   "execution_count": 63,
   "metadata": {},
   "outputs": [
    {
     "ename": "KeyError",
     "evalue": "'ro_trg'",
     "output_type": "error",
     "traceback": [
      "\u001b[1;31m---------------------------------------------------------------------------\u001b[0m",
      "\u001b[1;31mKeyError\u001b[0m                                  Traceback (most recent call last)",
      "\u001b[1;32m<ipython-input-63-86a78e3a3e77>\u001b[0m in \u001b[0;36m<module>\u001b[1;34m()\u001b[0m\n\u001b[1;32m----> 1\u001b[1;33m \u001b[0mtrigger_readout_seq\u001b[0m \u001b[1;33m=\u001b[0m \u001b[1;33m[\u001b[0m\u001b[0mpg\u001b[0m\u001b[1;33m.\u001b[0m\u001b[0mp\u001b[0m\u001b[1;33m(\u001b[0m\u001b[1;34m'ro_trg'\u001b[0m\u001b[1;33m,\u001b[0m \u001b[1;36m10e-9\u001b[0m\u001b[1;33m,\u001b[0m \u001b[0mpg\u001b[0m\u001b[1;33m.\u001b[0m\u001b[0mrect\u001b[0m\u001b[1;33m,\u001b[0m \u001b[1;36m1\u001b[0m\u001b[1;33m)\u001b[0m\u001b[1;33m]\u001b[0m\u001b[1;33m\u001b[0m\u001b[0m\n\u001b[0m\u001b[0;32m      2\u001b[0m \u001b[1;33m\u001b[0m\u001b[0m\n\u001b[0;32m      3\u001b[0m \u001b[0madc\u001b[0m\u001b[1;33m.\u001b[0m\u001b[0mset_nums\u001b[0m\u001b[1;33m(\u001b[0m\u001b[1;36m50\u001b[0m\u001b[1;33m)\u001b[0m\u001b[1;33m\u001b[0m\u001b[0m\n\u001b[0;32m      4\u001b[0m \u001b[0madc\u001b[0m\u001b[1;33m.\u001b[0m\u001b[0mset_nop\u001b[0m\u001b[1;33m(\u001b[0m\u001b[1;36m32768\u001b[0m\u001b[1;33m)\u001b[0m\u001b[1;33m\u001b[0m\u001b[0m\n\u001b[0;32m      5\u001b[0m \u001b[1;32mif\u001b[0m \u001b[0mhasattr\u001b[0m\u001b[1;33m(\u001b[0m\u001b[0madc\u001b[0m\u001b[1;33m,\u001b[0m \u001b[1;34m'set_post_trigger'\u001b[0m\u001b[1;33m)\u001b[0m\u001b[1;33m:\u001b[0m\u001b[1;33m\u001b[0m\u001b[0m\n",
      "\u001b[1;32mD:\\qtlab_replacement\\qsweepy\\pulses.py\u001b[0m in \u001b[0;36mp\u001b[1;34m(self, channel, length, pulse_type, *params)\u001b[0m\n\u001b[0;32m     56\u001b[0m                 \u001b[0mpulses\u001b[0m \u001b[1;33m=\u001b[0m \u001b[1;33m{\u001b[0m\u001b[0mchannel_name\u001b[0m\u001b[1;33m:\u001b[0m \u001b[0mself\u001b[0m\u001b[1;33m.\u001b[0m\u001b[0mpause\u001b[0m\u001b[1;33m(\u001b[0m\u001b[0mchannel_name\u001b[0m\u001b[1;33m,\u001b[0m \u001b[0mlength\u001b[0m\u001b[1;33m)\u001b[0m \u001b[1;32mfor\u001b[0m \u001b[0mchannel_name\u001b[0m\u001b[1;33m,\u001b[0m \u001b[0mchannel\u001b[0m \u001b[1;32min\u001b[0m \u001b[0mself\u001b[0m\u001b[1;33m.\u001b[0m\u001b[0mchannels\u001b[0m\u001b[1;33m.\u001b[0m\u001b[0mitems\u001b[0m\u001b[1;33m(\u001b[0m\u001b[1;33m)\u001b[0m\u001b[1;33m}\u001b[0m\u001b[1;33m\u001b[0m\u001b[0m\n\u001b[0;32m     57\u001b[0m                 \u001b[1;32mif\u001b[0m \u001b[0mchannel\u001b[0m\u001b[1;33m:\u001b[0m\u001b[1;33m\u001b[0m\u001b[0m\n\u001b[1;32m---> 58\u001b[1;33m                         \u001b[0mpulses\u001b[0m\u001b[1;33m[\u001b[0m\u001b[0mchannel\u001b[0m\u001b[1;33m]\u001b[0m \u001b[1;33m=\u001b[0m \u001b[0mpulse_type\u001b[0m\u001b[1;33m(\u001b[0m\u001b[0mchannel\u001b[0m\u001b[1;33m,\u001b[0m \u001b[0mlength\u001b[0m\u001b[1;33m,\u001b[0m \u001b[1;33m*\u001b[0m\u001b[0mparams\u001b[0m\u001b[1;33m)\u001b[0m\u001b[1;33m\u001b[0m\u001b[0m\n\u001b[0m\u001b[0;32m     59\u001b[0m                 \u001b[1;32mreturn\u001b[0m \u001b[0mpulses\u001b[0m\u001b[1;33m\u001b[0m\u001b[0m\n\u001b[0;32m     60\u001b[0m \u001b[1;33m\u001b[0m\u001b[0m\n",
      "\u001b[1;32mD:\\qtlab_replacement\\qsweepy\\pulses.py\u001b[0m in \u001b[0;36mrect\u001b[1;34m(self, channel, length, amplitude)\u001b[0m\n\u001b[0;32m     48\u001b[0m         \u001b[1;31m## generate waveform of a rectangular pulse\u001b[0m\u001b[1;33m\u001b[0m\u001b[1;33m\u001b[0m\u001b[0m\n\u001b[0;32m     49\u001b[0m         \u001b[1;32mdef\u001b[0m \u001b[0mrect\u001b[0m\u001b[1;33m(\u001b[0m\u001b[0mself\u001b[0m\u001b[1;33m,\u001b[0m \u001b[0mchannel\u001b[0m\u001b[1;33m,\u001b[0m \u001b[0mlength\u001b[0m\u001b[1;33m,\u001b[0m \u001b[0mamplitude\u001b[0m\u001b[1;33m)\u001b[0m\u001b[1;33m:\u001b[0m\u001b[1;33m\u001b[0m\u001b[0m\n\u001b[1;32m---> 50\u001b[1;33m                 \u001b[1;32mreturn\u001b[0m \u001b[0mamplitude\u001b[0m\u001b[1;33m*\u001b[0m\u001b[0mnp\u001b[0m\u001b[1;33m.\u001b[0m\u001b[0mones\u001b[0m\u001b[1;33m(\u001b[0m\u001b[0mint\u001b[0m\u001b[1;33m(\u001b[0m\u001b[0mround\u001b[0m\u001b[1;33m(\u001b[0m\u001b[0mlength\u001b[0m\u001b[1;33m*\u001b[0m\u001b[0mself\u001b[0m\u001b[1;33m.\u001b[0m\u001b[0mchannels\u001b[0m\u001b[1;33m[\u001b[0m\u001b[0mchannel\u001b[0m\u001b[1;33m]\u001b[0m\u001b[1;33m.\u001b[0m\u001b[0mget_clock\u001b[0m\u001b[1;33m(\u001b[0m\u001b[1;33m)\u001b[0m\u001b[1;33m)\u001b[0m\u001b[1;33m)\u001b[0m\u001b[1;33m,\u001b[0m \u001b[0mdtype\u001b[0m\u001b[1;33m=\u001b[0m\u001b[0mnp\u001b[0m\u001b[1;33m.\u001b[0m\u001b[0mcomplex\u001b[0m\u001b[1;33m)\u001b[0m\u001b[1;33m\u001b[0m\u001b[0m\n\u001b[0m\u001b[0;32m     51\u001b[0m \u001b[1;33m\u001b[0m\u001b[0m\n\u001b[0;32m     52\u001b[0m         \u001b[1;32mdef\u001b[0m \u001b[0mpause\u001b[0m\u001b[1;33m(\u001b[0m\u001b[0mself\u001b[0m\u001b[1;33m,\u001b[0m \u001b[0mchannel\u001b[0m\u001b[1;33m,\u001b[0m \u001b[0mlength\u001b[0m\u001b[1;33m)\u001b[0m\u001b[1;33m:\u001b[0m\u001b[1;33m\u001b[0m\u001b[0m\n",
      "\u001b[1;31mKeyError\u001b[0m: 'ro_trg'"
     ]
    }
   ],
   "source": [
    "trigger_readout_seq = [pg.p('ro_trg', 10e-9, pg.rect, 1)]\n",
    "\n",
    "adc.set_nums(50)\n",
    "adc.set_nop(32768)\n",
    "if hasattr(adc, 'set_post_trigger'):\n",
    "    adc.set_post_trigger(adc.get_nop()-64)\n",
    "modem = modem_readout.modem_readout(pg, adc, trigger_readout_seq, axis_mean=0)\n",
    "modem.readout_channels = readout_channels\n",
    "#ro_trg.delay_setter = lambda x: adc.set_trigger_delay(int(x*adc.get_clock()/iq_ex.get_clock()-0)) # M3201A & M3202A\n",
    "ro_trg.delay = 0#Spectrum+AWG5014C\n",
    "readout_trigger_delay = modem.calibrate_delay()[awg_channels['iq_ro']]\n",
    "#readout_trigger_delay_cycles = readout_trigger_delay*adc.get_clock() M3201A\n",
    "readout_trigger_delay_cycles = readout_trigger_delay*ro_trg.get_clock()\n",
    "print (readout_trigger_delay, readout_trigger_delay_cycles)\n",
    "#ro_trg.delay_setter = lambda x: adc.set_trigger_delay(int(x*adc.get_clock()/iq_ex.get_clock()-readout_trigger_delay_cycles)) M3201A\n",
    "ro_trg.delay = int(-readout_trigger_delay_cycles)#Spectrum+AWG5014C\n",
    "readout_trigger_delay_test = modem.calibrate_delay()[awg_channels['iq_ro']]\n",
    "#readout_trigger_delay_cycles_test = readout_trigger_delay_test*adc.get_clock() M3201A\n",
    "readout_trigger_delay_cycles_test = readout_trigger_delay_test*ro_trg.get_clock()\n",
    "print (readout_trigger_delay_test, readout_trigger_delay_cycles_test)\n",
    "\n",
    "modem.calibrate_dc()"
   ]
  },
  {
   "cell_type": "code",
   "execution_count": 92,
   "metadata": {},
   "outputs": [
    {
     "name": "stdout",
     "output_type": "stream",
     "text": [
      "-2.02e-07 -202.0\n",
      "0.0 0.0\n"
     ]
    },
    {
     "data": {
      "text/plain": [
       "{'iq_ro_q1': {'coherent_background': array([-6.00-9.48j, -5.28-9.3j , -5.56-9.6j , ..., -6.04-9.06j,\n",
       "         -6.30-9.66j, -6.66-9.76j]),\n",
       "  'feature': array([ 0.04532986-0.03097175j, -0.00752762+0.04854363j,\n",
       "         -0.04985606+0.06015999j, ...,  0.04731149-0.06530144j,\n",
       "          0.03097389-0.00116901j, -0.02868756+0.06459854j]),\n",
       "  'iq_calibration': array([-0.00766570-0.02657674j,  0.05299557-0.00439501j])},\n",
       " 'iq_ro_q2': {'coherent_background': array([-6.00-9.48j, -5.28-9.3j , -5.56-9.6j , ..., -6.04-9.06j,\n",
       "         -6.30-9.66j, -6.66-9.76j]),\n",
       "  'feature': array([-0.03812466-0.08242681j, -0.05481414+0.11168163j,\n",
       "          0.10853371-0.06102883j, ..., -0.10845765+0.02400722j,\n",
       "          0.05444318+0.06886513j,  0.03852509-0.11246484j]),\n",
       "  'iq_calibration': array([ 0.01925686+0.01051557j, -0.05738153-0.09294239j])},\n",
       " 'iq_ro_q3': {'coherent_background': array([-6.00-9.48j, -5.28-9.3j , -5.56-9.6j , ..., -6.04-9.06j,\n",
       "         -6.30-9.66j, -6.66-9.76j]),\n",
       "  'feature': array([ 0.07110518-0.14166399j,  0.01879143-0.1424655j ,\n",
       "         -0.03697951-0.11705665j, ..., -0.10053486-0.04879526j,\n",
       "         -0.12605143+0.01310246j, -0.12837746+0.07258963j]),\n",
       "  'iq_calibration': array([ 0.01904333-0.01620323j,  0.05206185-0.12546077j])}}"
      ]
     },
     "execution_count": 92,
     "metadata": {},
     "output_type": "execute_result"
    }
   ],
   "source": [
    "trigger_readout_seq = [pg.p('ro_trg', 10e-9, pg.rect, 1)]\n",
    "\n",
    "adc.set_nums(50)\n",
    "adc.set_nop(32768)\n",
    "if hasattr(adc, 'set_post_trigger'):\n",
    "    adc.set_post_trigger(adc.get_nop()-64)\n",
    "modem = modem_readout.modem_readout(pg, adc, trigger_readout_seq, axis_mean=0)\n",
    "modem.readout_channels = readout_channels\n",
    "#ro_trg.delay_setter = lambda x: adc.set_trigger_delay(int(x*adc.get_clock()/iq_ex.get_clock()-0)) # M3201A & M3202A\n",
    "ro_trg.delay = 0#Spectrum+AWG5014C\n",
    "delay_calibration = modem.calibrate_delay()\n",
    "readout_trigger_delay = delay_calibration[awg_channels['iq_ro_q1']]\n",
    "#readout_trigger_delay_cycles = readout_trigger_delay*adc.get_clock() M3201A\n",
    "readout_trigger_delay_cycles = readout_trigger_delay*ro_trg.get_clock()\n",
    "print (readout_trigger_delay, readout_trigger_delay_cycles)\n",
    "#ro_trg.delay_setter = lambda x: adc.set_trigger_delay(int(x*adc.get_clock()/iq_ex.get_clock()-readout_trigger_delay_cycles)) M3201A\n",
    "ro_trg.delay = int(-readout_trigger_delay_cycles)#Spectrum+AWG5014C\n",
    "readout_trigger_delay_test = modem.calibrate_delay()[awg_channels['iq_ro_q1']]\n",
    "#readout_trigger_delay_cycles_test = readout_trigger_delay_test*adc.get_clock() M3201A\n",
    "readout_trigger_delay_cycles_test = readout_trigger_delay_test*ro_trg.get_clock()\n",
    "print (readout_trigger_delay_test, readout_trigger_delay_cycles_test)\n",
    "\n",
    "modem.calibrate_dc()"
   ]
  },
  {
   "cell_type": "markdown",
   "metadata": {},
   "source": [
    "## усреднённое считывание"
   ]
  },
  {
   "cell_type": "code",
   "execution_count": 24,
   "metadata": {
    "collapsed": true
   },
   "outputs": [],
   "source": [
    "modem.filters = modem.calibrated_filters\n",
    "adc_reducer = data_reduce.data_reduce(modem)\n",
    "adc_reducer.filters = {'S21': data_reduce.mean_reducer(modem, 'iq_ro', axis=0)}\n",
    "adc_reducer.extra_opts['scatter'] = True\n",
    "adc_reducer.extra_opts['realimag'] = True"
   ]
  },
  {
   "cell_type": "code",
   "execution_count": 103,
   "metadata": {
    "collapsed": true
   },
   "outputs": [],
   "source": [
    "modem.filters = modem.calibrated_filters\n",
    "adc_reducer = data_reduce.data_reduce(modem)\n",
    "adc_reducer.filters = {'S21_r{}'.format(_qubit_id): \n",
    "            data_reduce.mean_reducer(modem, 'iq_ro_q{}'.format(_qubit_id), axis=0) for _qubit_id in qubits.keys()}\n",
    "adc_reducer.extra_opts['scatter'] = True\n",
    "adc_reducer.extra_opts['realimag'] = True"
   ]
  },
  {
   "cell_type": "markdown",
   "metadata": {},
   "source": [
    "## длительность считывания"
   ]
  },
  {
   "cell_type": "code",
   "execution_count": 104,
   "metadata": {},
   "outputs": [
    {
     "data": {
      "text/plain": [
       "True"
      ]
     },
     "execution_count": 104,
     "metadata": {},
     "output_type": "execute_result"
    }
   ],
   "source": [
    "def set_adc_nop(ro_adc_length):\n",
    "    adc.stop() # Spectrum\n",
    "    signal_size = int(np.ceil(4./3.*(ro_adc_length)*adc.get_clock()))\n",
    "    nop = int( 2**np.ceil(np.log2(signal_size)) )\n",
    "    #print (nop)\n",
    "    adc.set_nop(nop)\n",
    "    adc.set_post_trigger(adc.get_nop()-64)\n",
    "    \n",
    "# \"Измеритель средних прошедших импульсов\"\n",
    "# Просто усредняет всё по номеру сэмпла.\n",
    "    \n",
    "    \n",
    "#ro_adc_length = 0.15e-6        # Вот такой длины считываем (опухоль Фёдорова!!)\n",
    "#ro_amplitude =0.16\n",
    "#ro_dac_length = 0.08e-6\n",
    "ro_adc_length = 1.0e-6\n",
    "ro_dac_length = 0.6e-6\n",
    "#adc.set_nums(1000)\n",
    "#adc.set_software_nums_multi(1)\n",
    "adc.set_nums(100)\n",
    "set_adc_nop(ro_adc_length)\n",
    "adc.set_nums(10000)"
   ]
  },
  {
   "cell_type": "markdown",
   "metadata": {},
   "source": [
    "## измерение среднего прошедшего импульса"
   ]
  },
  {
   "cell_type": "code",
   "execution_count": 105,
   "metadata": {},
   "outputs": [
    {
     "ename": "KeyError",
     "evalue": "'iq_ro'",
     "output_type": "error",
     "traceback": [
      "\u001b[1;31m---------------------------------------------------------------------------\u001b[0m",
      "\u001b[1;31mKeyError\u001b[0m                                  Traceback (most recent call last)",
      "\u001b[1;32m<ipython-input-105-6305bf4aa734>\u001b[0m in \u001b[0;36m<module>\u001b[1;34m()\u001b[0m\n\u001b[0;32m      4\u001b[0m \u001b[1;31m#adc_reducer_old = data_reduce.data_reduce(adc)\u001b[0m\u001b[1;33m\u001b[0m\u001b[1;33m\u001b[0m\u001b[0m\n\u001b[0;32m      5\u001b[0m \u001b[1;31m#adc_reducer_old.filters['Std Voltage (AC)'] = data_reduce.mean_reducer_noavg(adc, 'Voltage std', 0)\u001b[0m\u001b[1;33m\u001b[0m\u001b[1;33m\u001b[0m\u001b[0m\n\u001b[1;32m----> 6\u001b[1;33m \u001b[0mmean_sample\u001b[0m\u001b[1;33m.\u001b[0m\u001b[0mfilters\u001b[0m\u001b[1;33m[\u001b[0m\u001b[1;34m'S21+'\u001b[0m\u001b[1;33m]\u001b[0m \u001b[1;33m=\u001b[0m \u001b[0mdata_reduce\u001b[0m\u001b[1;33m.\u001b[0m\u001b[0mmean_reducer_freq\u001b[0m\u001b[1;33m(\u001b[0m\u001b[0madc\u001b[0m\u001b[1;33m,\u001b[0m \u001b[1;34m'Voltage'\u001b[0m\u001b[1;33m,\u001b[0m \u001b[1;36m0\u001b[0m\u001b[1;33m,\u001b[0m \u001b[0miq_ro\u001b[0m\u001b[1;33m.\u001b[0m\u001b[0mcarriers\u001b[0m\u001b[1;33m[\u001b[0m\u001b[1;34m'iq_ro'\u001b[0m\u001b[1;33m]\u001b[0m\u001b[1;33m.\u001b[0m\u001b[0mget_if\u001b[0m\u001b[1;33m(\u001b[0m\u001b[1;33m)\u001b[0m\u001b[1;33m)\u001b[0m\u001b[1;33m\u001b[0m\u001b[0m\n\u001b[0m\u001b[0;32m      7\u001b[0m \u001b[0mmean_sample\u001b[0m\u001b[1;33m.\u001b[0m\u001b[0mfilters\u001b[0m\u001b[1;33m[\u001b[0m\u001b[1;34m'S21-'\u001b[0m\u001b[1;33m]\u001b[0m \u001b[1;33m=\u001b[0m \u001b[0mdata_reduce\u001b[0m\u001b[1;33m.\u001b[0m\u001b[0mmean_reducer_freq\u001b[0m\u001b[1;33m(\u001b[0m\u001b[0madc\u001b[0m\u001b[1;33m,\u001b[0m \u001b[1;34m'Voltage'\u001b[0m\u001b[1;33m,\u001b[0m \u001b[1;36m0\u001b[0m\u001b[1;33m,\u001b[0m \u001b[1;33m-\u001b[0m\u001b[0miq_ro\u001b[0m\u001b[1;33m.\u001b[0m\u001b[0mcarriers\u001b[0m\u001b[1;33m[\u001b[0m\u001b[1;34m'iq_ro'\u001b[0m\u001b[1;33m]\u001b[0m\u001b[1;33m.\u001b[0m\u001b[0mget_if\u001b[0m\u001b[1;33m(\u001b[0m\u001b[1;33m)\u001b[0m\u001b[1;33m)\u001b[0m\u001b[1;33m\u001b[0m\u001b[0m\n\u001b[0;32m      8\u001b[0m \u001b[1;31m#adc_downsampler = data_reduce.data_reduce(adc)\u001b[0m\u001b[1;33m\u001b[0m\u001b[1;33m\u001b[0m\u001b[0m\n",
      "\u001b[1;31mKeyError\u001b[0m: 'iq_ro'"
     ]
    }
   ],
   "source": [
    "mean_sample = data_reduce.data_reduce(adc)\n",
    "mean_sample.filters['Mean Voltage (AC)'] = data_reduce.mean_reducer_noavg(adc, 'Voltage', 0)\n",
    "\n",
    "#adc_reducer_old = data_reduce.data_reduce(adc)\n",
    "#adc_reducer_old.filters['Std Voltage (AC)'] = data_reduce.mean_reducer_noavg(adc, 'Voltage std', 0)\n",
    "mean_sample.filters['S21+'] = data_reduce.mean_reducer_freq(adc, 'Voltage', 0, iq_ro.carriers['iq_ro'].get_if())\n",
    "mean_sample.filters['S21-'] = data_reduce.mean_reducer_freq(adc, 'Voltage', 0, -iq_ro.carriers['iq_ro'].get_if())\n",
    "#adc_downsampler = data_reduce.data_reduce(adc)\n",
    "#adc_downsampler.filters['Voltage'] = data_reduce.downsample_reducer(adc, 'Voltage', 0, iq_ro.get_if(), 4)\n",
    "# # Этот измеритель мы как правило используем когда точек не слишком много и все результаты его жизнедеятельности как правило \n",
    "# # выглядят как ломаные. Чтобы было красиво, давайте лучше сделаем точки (а кривые потом получим фитованые)\n",
    "mean_sample.extra_opts['scatter'] = True\n",
    "\n",
    "awg.check_cached = True"
   ]
  },
  {
   "cell_type": "markdown",
   "metadata": {},
   "source": [
    "## Прохождение считывающих испульсов разной амплитуды"
   ]
  },
  {
   "cell_type": "code",
   "execution_count": 38,
   "metadata": {
    "scrolled": true
   },
   "outputs": [
    {
     "data": {
      "application/vnd.jupyter.widget-view+json": {
       "model_id": "e27c896377a34ed2a9e8993f84577111",
       "version_major": 2,
       "version_minor": 0
      },
      "text/plain": [
       "A Jupyter Widget"
      ]
     },
     "metadata": {},
     "output_type": "display_data"
    },
    {
     "name": "stdout",
     "output_type": "stream",
     "text": [
      "Started at:  Sep 20 2018 23:51:56\n",
      "Waiting to join deferred threads:\n",
      "Exiting sweep main thread #{} via return 13588\n",
      "\n",
      "Elapsed time: 0 h 1 m 7.49 s\n"
     ]
    }
   ],
   "source": [
    "#%%mprun -f sweep.sweep\n",
    "imp.reload(sweep)\n",
    "imp.reload(plotting)\n",
    "mean_sample.filters['Std Voltage (AC)'] = data_reduce.std_reducer_noavg(adc, 'Voltage', 0, 1)\n",
    "def set_pulse_amplitude(x):\n",
    "    awg_tek.set_nop(awg_tek.get_clock()/rep_rate)\n",
    "    pg.set_seq(trigger_readout_seq+[pg.p('iq_ro', ro_dac_length, pg.rect, x)])\n",
    "    awg_tek.run()\n",
    "measurement = sweep.sweep(mean_sample, (np.linspace(0, 1.0, 21), set_pulse_amplitude, 'Амплитуда считывания'), filename='Прохождение считывающих импульсов образец #{}'.format(qubit_id))\n",
    "del mean_sample.filters['Std Voltage (AC)']"
   ]
  },
  {
   "cell_type": "code",
   "execution_count": 39,
   "metadata": {},
   "outputs": [
    {
     "name": "stdout",
     "output_type": "stream",
     "text": [
      "Readout amplitude: 1.0\n"
     ]
    }
   ],
   "source": [
    "zero_response = measurement['Mean Voltage (AC)'][2][0,:]\n",
    "drive_amplitudes = measurement['Mean Voltage (AC)'][1][0][1:]\n",
    "signal = measurement['Mean Voltage (AC)'][2][1:,:]\n",
    "noise = measurement['Std Voltage (AC)'][2][1:,:]\n",
    "error = noise/np.sqrt(adc.get_nums())\n",
    "signal_overlap = np.sum(np.conj(signal[0,:])*signal[1:,:], axis=1)/drive_amplitudes[1:]\n",
    "signal_overlap_estimate = np.real(signal_overlap[0])\n",
    "signal_overlap_error = 0.5*np.sqrt(np.sum((np.abs(signal[1:,:])*error[0,:])**2, axis=1)+np.sum((np.abs(signal[0,:])*error[1:,:])**2,axis=1))/drive_amplitudes[1:]\n",
    "#signal_overlap_estimate = (np.sum(np.abs(signal[0,:])**2) - np.sum(error[0,:]*np.abs(signal[0,:]))-np.sum(np.abs(error[0,:])**2))/drive_amplitudes[0]\n",
    "#plt.figure()\n",
    "#plt.plot(np.real(signal_overlap))\n",
    "#plt.plot(np.sum(noise**2, axis=1)/adc.get_nums())\n",
    "#plt.plot(signal_overlap_error)\n",
    "compression = 10*np.log10(np.real(signal_overlap)/np.real(signal_overlap_estimate))\n",
    "db_compression_point = np.argmax(10*np.log10(np.real(signal_overlap)/np.real(signal_overlap_estimate))<-1+10*np.log10(1-signal_overlap_error/signal_overlap_estimate))\n",
    "#10*np.log10(np.real(signal_overlap)/np.real(signal_overlap_estimate)),-1+10*np.log10(1-signal_overlap_error/signal_overlap_estimate)\n",
    "#10*np.log10(np.real(signal_overlap)/np.real(signal_overlap_estimate))<-1+10*np.log10(1-signal_overlap_error/signal_overlap_estimate)\n",
    "if np.any(db_compression_point):\n",
    "    ro_amplitude = drive_amplitudes[db_compression_point+1]\n",
    "else:\n",
    "    ro_amplitude = drive_amplitudes[-1]\n",
    "print(\"Readout amplitude:\",ro_amplitude)    "
   ]
  },
  {
   "cell_type": "code",
   "execution_count": 40,
   "metadata": {},
   "outputs": [
    {
     "data": {
      "text/plain": [
       "Text(13.5972,0.5,'Компрессия, дБ')"
      ]
     },
     "execution_count": 40,
     "metadata": {},
     "output_type": "execute_result"
    }
   ],
   "source": [
    "plt.figure('Компрессия считывающего импульса')\n",
    "plt.plot(drive_amplitudes[1:], compression)\n",
    "plt.xlabel('Амплитуда считывания')\n",
    "plt.ylabel('Компрессия, дБ')"
   ]
  },
  {
   "cell_type": "code",
   "execution_count": 41,
   "metadata": {
    "collapsed": true
   },
   "outputs": [],
   "source": [
    "ro_parameters = {\"adc_len\":ro_adc_length,'dac_len': ro_dac_length,'amp': ro_amplitude,'adc nums':adc.nums,\n",
    "                'trg_length':trg_length}\n",
    "qjson.dump(\"setups\",\"readout\",ro_parameters)"
   ]
  },
  {
   "cell_type": "code",
   "execution_count": 42,
   "metadata": {
    "collapsed": true
   },
   "outputs": [],
   "source": [
    "#ro_amplitude = 0.25\n",
    "ro_sequence = trigger_readout_seq+[pg.p('iq_ro', ro_dac_length, pg.rect, ro_amplitude)]"
   ]
  },
  {
   "cell_type": "markdown",
   "metadata": {},
   "source": [
    "## Раби+Рамзи"
   ]
  },
  {
   "cell_type": "code",
   "execution_count": 106,
   "metadata": {
    "collapsed": true
   },
   "outputs": [],
   "source": [
    "import qsweepy.qjson as pqjson\n",
    "import qsweepy.quantum_two_level_dynamics as dyn"
   ]
  },
  {
   "cell_type": "code",
   "execution_count": 107,
   "metadata": {},
   "outputs": [
    {
     "data": {
      "text/plain": [
       "<module 'qsweepy.diff_readout' from 'D:\\\\qtlab_replacement\\\\qsweepy\\\\diff_readout.py'>"
      ]
     },
     "execution_count": 107,
     "metadata": {},
     "output_type": "execute_result"
    }
   ],
   "source": [
    "imp.reload(dyn)\n",
    "imp.reload(qjson)\n",
    "imp.reload(data_reduce)\n",
    "imp.reload(plotting)\n",
    "imp.reload(fitting)\n",
    "imp.reload(sweep)\n",
    "imp.reload(diff_readout)"
   ]
  },
  {
   "cell_type": "code",
   "execution_count": null,
   "metadata": {
    "collapsed": true
   },
   "outputs": [],
   "source": [
    "\n",
    "ex_channels = ['iq_ex_q1_F01_min']\n",
    "\n",
    "ex_amplitudes = {'iq_ex_F01_min':1}\n",
    "\n",
    "rabi_lengths = {'iq_ex_F01_min':np.arange(0., 200e-9, 2e-9)}\n",
    "delaysT2_coherence = {'iq_ex_F01_min':np.arange(0., 5e-6, 50e-9)}\n",
    "ro_par = {'qubit_id':qubit_id,'ex_channels':ex_channels}\n",
    "fitter = lambda x,y: fitting.fit1d(x,y,'S21')\n",
    "ro_par['fitter']=fitter\n",
    "\n",
    "#rabi_lengths = np.arange(0., 2000e-9, 5e-9)\n",
    "delaysT2 = np.arange(0, 200e-9, 2e-9)\n",
    "target_freq_offset = -30e6\n",
    "#delaysT2_coherence = np.arange(0, 5000e-9, 10e-9)\n",
    "target_freq_offset_coherence = -2e6\n",
    "delaysT1 = np.arange(0, 15e-6,0.05e-6)"
   ]
  },
  {
   "cell_type": "code",
   "execution_count": 117,
   "metadata": {},
   "outputs": [],
   "source": [
    "\n",
    "ex_channels =    ['iq_ex_q{}_F01_min'.format(q_id)                                  for q_id, q in qubits.items()]\n",
    "ex_amplitudes =  {'iq_ex_q{}_F01_min'.format(q_id):1                                for q_id, q in qubits.items()}\n",
    "ex_ro_channels = {'iq_ex_q{}_F01_min'.format(q_id):'iq_ro_q{}'.format(q_id)         for q_id, q in qubits.items()}\n",
    "working_points = {'iq_ex_q{}_F01_min'.format(q_id):q['q']['P']['Fmin_coil_currents'] for q_id, q in qubits.items()}\n",
    "ro_amplitudes =  {'iq_ex_q1_F01_min':1.0,'iq_ex_q2_F01_min':0.25,'iq_ex_q3_F01_min':1.0}\n",
    "\n",
    "rabi_lengths =   {'iq_ex_q{}_F01_min'.format(q_id):np.arange(0., 200e-9, 2e-9)      for q_id, q in qubits.items()}\n",
    "delaysT2_coherence = {'iq_ex_q{}_F01_min'.format(q_id):np.arange(0., 5e-6, 50e-9)   for q_id, q in qubits.items()}\n",
    "fitters = {'iq_ex_q{}_F01_min'.format(q_id): (lambda x,y: fitting.fit1d(x,y,'S21_r{}'.format(q_id))) for q_id, q in qubits.items()}\n",
    "\n",
    "#rabi_lengths = np.arange(0., 2000e-9, 5e-9)\n",
    "delaysT2 = np.arange(0, 200e-9, 2e-9)\n",
    "target_freq_offset = -30e6\n",
    "#delaysT2_coherence = np.arange(0, 5000e-9, 10e-9)\n",
    "target_freq_offset_coherence = -2e6\n",
    "delaysT1 = np.arange(0, 15e-6,0.05e-6)"
   ]
  },
  {
   "cell_type": "code",
   "execution_count": 118,
   "metadata": {
    "collapsed": true
   },
   "outputs": [],
   "source": [
    "diff_adc_reducer = diff_readout.diff_readout(adc_reducer)"
   ]
  },
  {
   "cell_type": "code",
   "execution_count": 47,
   "metadata": {},
   "outputs": [
    {
     "name": "stdout",
     "output_type": "stream",
     "text": [
      "d:\\data/calibrations/setups/ readout\n",
      "Failed loading rabi frequency calibration: 'quantum_two_level_dynamics' object has no attribute 'ex_amplitude'\n"
     ]
    }
   ],
   "source": [
    "twos = {ex_channel:dyn.quantum_two_level_dynamics(pg,\n",
    "                                           adc_reducer,\n",
    "                                           ex_channel=ex_channel,\n",
    "                                           ro_channel='iq_ro',\n",
    "                                           ro_sequence=ro_sequence,\n",
    "                                           ex_amplitude=ex_amplitudes[ex_channel],\n",
    "                                           fitter=fitter, \n",
    "                                           #shuffle=True,\n",
    "                                           qubit_id=qubit_id) for ex_channel in ex_channels}"
   ]
  },
  {
   "cell_type": "code",
   "execution_count": 119,
   "metadata": {},
   "outputs": [
    {
     "name": "stdout",
     "output_type": "stream",
     "text": [
      "d:\\data/calibrations/setups/ readout\n",
      "Failed loading rabi frequency calibration: 'quantum_two_level_dynamics' object has no attribute 'ex_amplitude'\n",
      "d:\\data/calibrations/setups/ readout\n",
      "Failed loading rabi frequency calibration: 'quantum_two_level_dynamics' object has no attribute 'ex_amplitude'\n",
      "d:\\data/calibrations/setups/ readout\n",
      "Failed loading rabi frequency calibration: 'quantum_two_level_dynamics' object has no attribute 'ex_amplitude'\n"
     ]
    }
   ],
   "source": [
    "twos = {ex_channel:dyn.quantum_two_level_dynamics(pg,\n",
    "                                           adc_reducer,\n",
    "                                           ex_channel=ex_channel,\n",
    "                                           ro_channel=ex_ro_channels[ex_channel],\n",
    "                                           ro_sequence=(trigger_readout_seq+\\\n",
    "                            [pg.p(ex_ro_channels[ex_channel], ro_dac_length, pg.rect, ro_amplitudes[ex_channel])]),\n",
    "                                           ex_amplitude=ex_amplitudes[ex_channel],\n",
    "                                           fitter=fitters[ex_channel], \n",
    "                                           #shuffle=True,\n",
    "                                           qubit_id=qubit_id) for ex_channel in ex_channels}"
   ]
  },
  {
   "cell_type": "code",
   "execution_count": null,
   "metadata": {},
   "outputs": [],
   "source": [
    "#%%mprun -f two_diffs[0].Rabi_rect -f two_diffs[0].Ramsey -f two_diffs[0].decay -f two_diffs[0].spin_echo -f sweep.sweep -f diff_adc_reducer.measure\n",
    "two_diffs = twos\n",
    "imp.reload(plotting)\n",
    "iters = 1\n",
    "coil = 0\n",
    "voltages = 1.775+np.linspace(-0.01, +0.01, 21)\n",
    "\n",
    "for _iter in range(iters):\n",
    "    for ex_channel, two_diff in two_diffs.items():\n",
    "        #two_diff.Rabi_rect(rabi_lengths[ex_channel])\n",
    "        #two_diff.Ramsey(delaysT2, target_freq_offset, \n",
    "        #               (voltages, lambda x: dac.set_voltage(x, channel=coil), 'Coil #{} voltage'.format(coil)))\n",
    "        two_diff.Ramsey(delaysT2_coherence[ex_channel],target_freq_offset_coherence, \n",
    "                       (voltages, lambda x: dac.set_voltage(x, channel=coil), 'Coil #{} voltage'.format(coil)))\n",
    "        #two_diff.decay(delaysT1)\n",
    "        #two_diff.spin_echo(delaysT2_coherence,target_freq_offset_coherence)"
   ]
  },
  {
   "cell_type": "code",
   "execution_count": null,
   "metadata": {},
   "outputs": [],
   "source": [
    "import qsweepy.save_pkl\n",
    "measurement = qsweepy.save_pkl.load_pkl('Ramsey (target offset -2.00 MHz), excitation channel iq_ex_F01_min', r'D:\\data\\2018-09-20\\19-49-01-Ramsey (target offset -2.00 MHz), excitation channel iq_ex_F01_min')[1]\n",
    "import pandas as pd"
   ]
  },
  {
   "cell_type": "code",
   "execution_count": null,
   "metadata": {},
   "outputs": [],
   "source": [
    "summary = pd.DataFrame([dict(fitting.exp_sin_fit(measurement['S21'][1][0], \n",
    "                     [np.real(measurement['S21'][2][:,dc_id]),\n",
    "                      np.imag(measurement['S21'][2][:,dc_id])])[-1], **{'dc':dc}) \n",
    "                         for dc_id, dc in enumerate(measurement['S21'][1][1])])\n",
    "plt.figure()\n",
    "plt.plot(np.asarray(summary['dc']), np.asarray(summary['freq'])/1e6)\n",
    "plt.grid()\n",
    "plt.xlabel('Control voltage, V')\n",
    "plt.ylabel('Ramsey frequency, MHz')\n",
    "plt.tight_layout()\n",
    "plt.figure()\n",
    "plt.plot(np.asarray(summary['dc']), np.asarray(summary['decay'])*1e6)\n",
    "plt.grid()\n",
    "plt.xlabel('Control voltage, V')\n",
    "plt.ylabel('Ramsey decay, $\\\\mu$s')\n",
    "plt.tight_layout()"
   ]
  },
  {
   "cell_type": "code",
   "execution_count": null,
   "metadata": {},
   "outputs": [
    {
     "data": {
      "application/vnd.jupyter.widget-view+json": {
       "model_id": "56a89e8b603d4adebdb33b8a94d4d6cd",
       "version_major": 2,
       "version_minor": 0
      },
      "text/plain": [
       "A Jupyter Widget"
      ]
     },
     "metadata": {},
     "output_type": "display_data"
    },
    {
     "name": "stdout",
     "output_type": "stream",
     "text": [
      "Started at:  Sep 21 2018 01:04:59\n"
     ]
    }
   ],
   "source": [
    "#%%mprun -f two_diffs[0].Rabi_rect -f two_diffs[0].Ramsey -f two_diffs[0].decay -f two_diffs[0].spin_echo -f sweep.sweep -f diff_adc_reducer.measure\n",
    "#dac.set_voltage(1.772, channel=0)\n",
    "two_diffs = twos\n",
    "imp.reload(plotting)\n",
    "iters = 1\n",
    "for _iter in range(iters):\n",
    "    for ex_channel, two_diff in two_diffs.items():\n",
    "        for nndac_channel_id, channel_voltage in working_points[ex_channel].items():\n",
    "            dac.set_voltage(channel_voltage, channel=nndac_channel_id)\n",
    "        two_diff.Rabi_rect(rabi_lengths[ex_channel])\n",
    "        #two_diff.Ramsey(delaysT2, target_freq_offset)\n",
    "        #two_diff.Ramsey(delaysT2_coherence[ex_channel],target_freq_offset_coherence)\n",
    "        #two_diff.decay(delaysT1)\n",
    "        #two_diff.spin_echo(delaysT2_coherence[ex_channel],target_freq_offset_coherence)"
   ]
  },
  {
   "cell_type": "code",
   "execution_count": null,
   "metadata": {
    "collapsed": true
   },
   "outputs": [],
   "source": []
  }
 ],
 "metadata": {
  "kernelspec": {
   "display_name": "Python 3",
   "language": "python",
   "name": "python3"
  },
  "language_info": {
   "codemirror_mode": {
    "name": "ipython",
    "version": 3
   },
   "file_extension": ".py",
   "mimetype": "text/x-python",
   "name": "python",
   "nbconvert_exporter": "python",
   "pygments_lexer": "ipython3",
   "version": "3.6.5"
  },
  "toc": {
   "base_numbering": 1,
   "nav_menu": {
    "height": "511px",
    "width": "457px"
   },
   "number_sections": true,
   "sideBar": true,
   "skip_h1_title": false,
   "title_cell": "Table of Contents",
   "title_sidebar": "Contents",
   "toc_cell": false,
   "toc_position": {
    "height": "calc(100% - 180px)",
    "left": "10px",
    "top": "150px",
    "width": "284px"
   },
   "toc_section_display": true,
   "toc_window_display": true
  }
 },
 "nbformat": 4,
 "nbformat_minor": 1
}
