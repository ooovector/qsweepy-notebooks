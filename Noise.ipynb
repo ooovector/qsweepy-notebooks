{
 "cells": [
  {
   "cell_type": "markdown",
   "metadata": {},
   "source": [
    "### Запуск QtLab"
   ]
  },
  {
   "cell_type": "code",
   "execution_count": 1,
   "metadata": {
    "scrolled": true
   },
   "outputs": [
    {
     "name": "stdout",
     "output_type": "stream",
     "text": [
      "Failed loading module Signal_Hound_SA:  [WinError 126] The specified module could not be found\n"
     ]
    }
   ],
   "source": [
    "%run D:\\qtlab_replacement\\init.py\n",
    "%matplotlib qt5\n",
    "import setup_logging\n",
    "import matplotlib.pyplot as plt\n",
    "from instruments import *\n",
    "import numpy as np\n",
    "import sweep\n",
    "from save_pkl import *\n",
    "from matplotlib import interactive\n",
    "interactive(True)\n",
    "import os\n",
    "import matplotlib.patches as plm"
   ]
  },
  {
   "cell_type": "markdown",
   "metadata": {},
   "source": [
    "# Спектроскопия"
   ]
  },
  {
   "cell_type": "code",
   "execution_count": 3,
   "metadata": {
    "collapsed": true
   },
   "outputs": [],
   "source": [
    "lo2 = Labbrick('lo2',serial=15248)"
   ]
  },
  {
   "cell_type": "code",
   "execution_count": 2,
   "metadata": {
    "collapsed": true
   },
   "outputs": [],
   "source": [
    "lo_amp = Agilent_E8257D('lo1', address = 'GEN1')"
   ]
  },
  {
   "cell_type": "code",
   "execution_count": 3,
   "metadata": {
    "collapsed": true
   },
   "outputs": [],
   "source": [
    "pna = Agilent_N5242A('pna', address = 'PNA')\n",
    "lo1 = Agilent_E8257D('lo1', address = 'GEN2')"
   ]
  },
  {
   "cell_type": "code",
   "execution_count": 4,
   "metadata": {
    "collapsed": true
   },
   "outputs": [],
   "source": [
    "current_src1 = Yokogawa_GS210(address = 'GPIB0::1::INSTR')\n",
    "current_src2 = Yokogawa_GS210(address = 'GPIB0::2::INSTR')"
   ]
  },
  {
   "cell_type": "code",
   "execution_count": 5,
   "metadata": {},
   "outputs": [
    {
     "data": {
      "text/plain": [
       "True"
      ]
     },
     "execution_count": 5,
     "metadata": {},
     "output_type": "execute_result"
    }
   ],
   "source": [
    "# векторный анализатор в режим линейного свипа\n",
    "pna.set_sweep_mode(\"LIN\")\n"
   ]
  },
  {
   "cell_type": "code",
   "execution_count": 18,
   "metadata": {},
   "outputs": [
    {
     "name": "stderr",
     "output_type": "stream",
     "text": [
      "root: WARNING  Tektronix_AWG5014 : get all not yet fully functional\n"
     ]
    },
    {
     "data": {
      "text/plain": [
       "True"
      ]
     },
     "execution_count": 18,
     "metadata": {},
     "output_type": "execute_result"
    }
   ],
   "source": [
    "# AWG для того чтобы открыть смесители\n",
    "awg_tek = Tektronix_AWG5014('awg_tek', address = 'TCPIP0::10.20.61.186::inst0::INSTR')\n",
    "Vdc_q = 0.2\n",
    "Vdc_r = 0.2\n",
    "# Задаём постояннmtые смещения на каналы 1 и 3\n",
    "lo1.set_power(0)\n",
    "pna.set_power(0)\n",
    "awg_tek.clear_waveforms()\n",
    "awg_tek.set_waveform([0]*awg_tek.get_nop(), channel=1)\n",
    "awg_tek.set_waveform([0]*awg_tek.get_nop(), channel=2)\n",
    "awg_tek.set_waveform([0]*awg_tek.get_nop(), channel=3)\n",
    "awg_tek.set_waveform([0]*awg_tek.get_nop(), channel=4)\n",
    "awg_tek.set_offset(Vdc_q, channel=1)\n",
    "awg_tek.set_offset(Vdc_q, channel=2)\n",
    "awg_tek.set_offset(Vdc_r, channel=3)\n",
    "awg_tek.set_offset(Vdc_r, channel=4)\n",
    "awg_tek.set_output(1, channel=1)\n",
    "awg_tek.set_output(1, channel=2)\n",
    "awg_tek.set_output(1, channel=3)\n",
    "awg_tek.set_output(0, channel=4)"
   ]
  },
  {
   "cell_type": "markdown",
   "metadata": {},
   "source": [
    "## Резонаторная спектроскопия"
   ]
  },
  {
   "cell_type": "markdown",
   "metadata": {},
   "source": [
    "### Одномерный скан при фиксированном токе "
   ]
  },
  {
   "cell_type": "code",
   "execution_count": 20,
   "metadata": {},
   "outputs": [
    {
     "data": {
      "text/plain": [
       "[<matplotlib.lines.Line2D at 0x11aa4d98748>]"
      ]
     },
     "execution_count": 20,
     "metadata": {},
     "output_type": "execute_result"
    }
   ],
   "source": [
    "pna.set_nop(2001)\n",
    "pna.set_xlim(6e9,7e9)\n",
    "pna.set_power(-40)\n",
    "pna.set_bandwidth(100)\n",
    "s21=pna.get_tracedata()\n",
    "fr=pna.get_freqpoints()\n",
    "#plt.plot(fr[:len(fr)-1],np.unwrap(np.diff(s21[1])))\n",
    "plt.plot(fr[:len(fr)-1],np.diff( np.unwrap(s21[1])))"
   ]
  },
  {
   "cell_type": "code",
   "execution_count": 7,
   "metadata": {
    "collapsed": true
   },
   "outputs": [],
   "source": [
    "qubit_params = {1: {'Fr': 6.676e9,\n",
    "                    'F01_max': 8.1755e9, \n",
    "                    'Iw':750e-9,\n",
    "                    'paramp_bias':0.165e-3, \n",
    "                    'paramp_pump_freq':13.146e9, \n",
    "                    'paramp_pump_power':13.76},\n",
    "                2: {'Fr': 6.3903e9,  \n",
    "                    'F01_max': 8.0392e9,   \n",
    "                    'Iw':500e-9,\n",
    "                    'paramp_bias':0.1657e-3, \n",
    "                    'paramp_pump_freq':13.146e9, \n",
    "                    'paramp_pump_power':13.76},\n",
    "                3: {'Fr': 6.57884e9,\n",
    "                    'F01_max': 8.008e9, \n",
    "                    'Iw':100e-9, \n",
    "                    'paramp_bias':0.177e-3, \n",
    "                    'paramp_pump_freq':13.14e9, \n",
    "                    'paramp_pump_power':12.84},\n",
    "                'test_1':{'Fr': 6.7661e9}}\n",
    "qubit_id=3"
   ]
  },
  {
   "cell_type": "code",
   "execution_count": 14,
   "metadata": {},
   "outputs": [
    {
     "name": "stdout",
     "output_type": "stream",
     "text": [
      "6437400000.0\n"
     ]
    }
   ],
   "source": [
    "curr(750e-9)"
   ]
  },
  {
   "cell_type": "code",
   "execution_count": 32,
   "metadata": {},
   "outputs": [
    {
     "name": "stdout",
     "output_type": "stream",
     "text": [
      "(101, 801)\n"
     ]
    },
    {
     "data": {
      "text/plain": [
       "<matplotlib.colorbar.Colorbar at 0x244d676a518>"
      ]
     },
     "execution_count": 32,
     "metadata": {},
     "output_type": "execute_result"
    }
   ],
   "source": [
    "plt.figure()\n",
    "print(result['S-parameter'][2].shape)\n",
    "#plt.pcolormesh(result['S-parameter'][1][0], result['S-parameter'][1][1], np.diff(np.unwrap(np.angle(result['S-parameter'][2]).T), axis=1))\n",
    "#plt.pcolormesh(result['S-parameter'][1][0], result['S-parameter'][1][1], 20*np.log10(np.abs(np.diff(result['S-parameter'][2].T, axis=0))))\n",
    "#plt.pcolormesh(result['S-parameter'][1][0], result['S-parameter'][1][1], np.abs(result['S-parameter'][2].T-np.mean(result['S-parameter'][2], axis=1)))\n",
    "plt.pcolormesh(result['S-parameter'][1][0], result['S-parameter'][1][1], np.log10(np.abs(result['S-parameter'][2]-np.mean(result['S-parameter'][2], axis=0)).T))\n",
    "plt.colorbar()"
   ]
  },
  {
   "cell_type": "code",
   "execution_count": 32,
   "metadata": {},
   "outputs": [
    {
     "data": {
      "text/plain": [
       "True"
      ]
     },
     "execution_count": 32,
     "metadata": {},
     "output_type": "execute_result"
    }
   ],
   "source": [
    "lo2.set_status(0)"
   ]
  },
  {
   "cell_type": "code",
   "execution_count": 34,
   "metadata": {},
   "outputs": [
    {
     "data": {
      "text/plain": [
       "7000000000.0"
      ]
     },
     "execution_count": 34,
     "metadata": {},
     "output_type": "execute_result"
    }
   ],
   "source": [
    "lo2.get_frequency()"
   ]
  },
  {
   "cell_type": "code",
   "execution_count": 33,
   "metadata": {},
   "outputs": [
    {
     "data": {
      "text/plain": [
       "True"
      ]
     },
     "execution_count": 33,
     "metadata": {},
     "output_type": "execute_result"
    }
   ],
   "source": [
    "lo2.set_frequency(7e9)"
   ]
  },
  {
   "cell_type": "code",
   "execution_count": 26,
   "metadata": {
    "scrolled": true
   },
   "outputs": [
    {
     "data": {
      "application/vnd.jupyter.widget-view+json": {
       "model_id": "7be7aa53a0e044669839f5fd6e4187d9",
       "version_major": 2,
       "version_minor": 0
      },
      "text/plain": [
       "A Jupyter Widget"
      ]
     },
     "metadata": {},
     "output_type": "display_data"
    },
    {
     "name": "stdout",
     "output_type": "stream",
     "text": [
      "Started at:  Mar 08 2018 17:25:48\n",
      "\n",
      "Elapsed time: 0 h 5 m 31.58 s\n"
     ]
    },
    {
     "data": {
      "application/vnd.jupyter.widget-view+json": {
       "model_id": "5a49deaf87724b9d99a1acb7556a1b2d",
       "version_major": 2,
       "version_minor": 0
      },
      "text/plain": [
       "A Jupyter Widget"
      ]
     },
     "metadata": {},
     "output_type": "display_data"
    },
    {
     "name": "stdout",
     "output_type": "stream",
     "text": [
      "Started at:  Mar 08 2018 17:31:21\n",
      "\n",
      "Elapsed time: 0 h 5 m 29.92 s\n"
     ]
    },
    {
     "data": {
      "application/vnd.jupyter.widget-view+json": {
       "model_id": "31bee4a0ce86458ba79d4c3aac5c5077",
       "version_major": 2,
       "version_minor": 0
      },
      "text/plain": [
       "A Jupyter Widget"
      ]
     },
     "metadata": {},
     "output_type": "display_data"
    },
    {
     "name": "stdout",
     "output_type": "stream",
     "text": [
      "Started at:  Mar 08 2018 17:36:52\n",
      "\n",
      "Elapsed time: 0 h 5 m 27.47 s\n"
     ]
    },
    {
     "data": {
      "application/vnd.jupyter.widget-view+json": {
       "model_id": "4d9dd54c9f8245e1903dd9f34ec4f83f",
       "version_major": 2,
       "version_minor": 0
      },
      "text/plain": [
       "A Jupyter Widget"
      ]
     },
     "metadata": {},
     "output_type": "display_data"
    },
    {
     "name": "stdout",
     "output_type": "stream",
     "text": [
      "Started at:  Mar 08 2018 17:42:21\n",
      "\n",
      "Elapsed time: 0 h 5 m 25.68 s\n"
     ]
    },
    {
     "data": {
      "application/vnd.jupyter.widget-view+json": {
       "model_id": "6c9661bf36eb402a989d4d8004262a80",
       "version_major": 2,
       "version_minor": 0
      },
      "text/plain": [
       "A Jupyter Widget"
      ]
     },
     "metadata": {},
     "output_type": "display_data"
    },
    {
     "name": "stdout",
     "output_type": "stream",
     "text": [
      "Started at:  Mar 08 2018 17:47:48\n",
      "\n",
      "Elapsed time: 0 h 5 m 22.35 s\n"
     ]
    },
    {
     "data": {
      "application/vnd.jupyter.widget-view+json": {
       "model_id": "0ba7624f14034a7daf9aa93da8a8cdc7",
       "version_major": 2,
       "version_minor": 0
      },
      "text/plain": [
       "A Jupyter Widget"
      ]
     },
     "metadata": {},
     "output_type": "display_data"
    },
    {
     "name": "stdout",
     "output_type": "stream",
     "text": [
      "Started at:  Mar 08 2018 17:53:12\n",
      "\n",
      "Elapsed time: 0 h 5 m 22.23 s\n"
     ]
    },
    {
     "data": {
      "application/vnd.jupyter.widget-view+json": {
       "model_id": "b48a9d634f6340b3b92ebfca658451f1",
       "version_major": 2,
       "version_minor": 0
      },
      "text/plain": [
       "A Jupyter Widget"
      ]
     },
     "metadata": {},
     "output_type": "display_data"
    },
    {
     "name": "stdout",
     "output_type": "stream",
     "text": [
      "Started at:  Mar 08 2018 17:58:36\n",
      "\n",
      "Elapsed time: 0 h 5 m 22.18 s\n"
     ]
    },
    {
     "data": {
      "application/vnd.jupyter.widget-view+json": {
       "model_id": "8783db553f684870ac63521b7c0079a4",
       "version_major": 2,
       "version_minor": 0
      },
      "text/plain": [
       "A Jupyter Widget"
      ]
     },
     "metadata": {},
     "output_type": "display_data"
    },
    {
     "name": "stdout",
     "output_type": "stream",
     "text": [
      "Started at:  Mar 08 2018 18:03:59\n",
      "\n",
      "Elapsed time: 0 h 5 m 22.27 s\n"
     ]
    }
   ],
   "source": [
    "current_src1.set_status(1)\n",
    "lo1.set_status(0)\n",
    "lo2.set_status(0)\n",
    "pna.set_power(-30)\n",
    "pna.set_nop(301)\n",
    "pna.set_bandwidth(200)\n",
    "current_max=5e-5\n",
    "current_nop=201\n",
    "currents=np.linspace(-5e-5,5e-5,current_nop)\n",
    "for res in res_fr:\n",
    "    pna.set_xlim(res-25e6,res+25e6)\n",
    "    result = sweep.sweep(pna, (currents, current_src1.set_current, 'Coil current'), filename='anticrossings Rev_{0}_{1}'.format(\"%.2f\" % (res/1e9),pna.get_power()))"
   ]
  },
  {
   "cell_type": "markdown",
   "metadata": {},
   "source": [
    "## Кубитная спектроскопия"
   ]
  },
  {
   "cell_type": "code",
   "execution_count": 8,
   "metadata": {
    "collapsed": true
   },
   "outputs": [],
   "source": [
    "qubit_id = 3\n",
    "nop=301\n",
    "resolution_bw=10\n",
    "tone1_power=-20\n",
    "cur_nop=101\n",
    "tone2_power=-5"
   ]
  },
  {
   "cell_type": "code",
   "execution_count": 9,
   "metadata": {
    "collapsed": true
   },
   "outputs": [],
   "source": [
    "def curr(current):\n",
    "    lo1.set_status(0)\n",
    "    pna.set_average(0)\n",
    "    pna.set_power(-10)\n",
    "    pna.set_nop(1001)\n",
    "    dfr=0.05e9\n",
    "    pna.set_xlim(qubit_params[qubit_id]['Fr']-dfr,  qubit_params[qubit_id]['Fr']+dfr)\n",
    "    pna.set_bandwidth(200)\n",
    "    current_src1.set_current(current)\n",
    "    S21   = pna.get_tracedata()\n",
    "    freqs = pna.get_freqpoints()\n",
    "    pna.set_bandwidth(resolution_bw)\n",
    "    pna.set_power(tone1_power)\n",
    "    pna.set_nop(1)\n",
    "    pna.set_xlim(freqs[np.argmin(S21[0])]-0.2e6,freqs[np.argmin(S21[0])]-0.2e6)\n",
    "    lo1.set_status(1)\n",
    "    print (freqs[np.argmin(S21[0])])"
   ]
  },
  {
   "cell_type": "code",
   "execution_count": 15,
   "metadata": {},
   "outputs": [
    {
     "name": "stdout",
     "output_type": "stream",
     "text": [
      "6390300000.0\n"
     ]
    }
   ],
   "source": [
    "curr(500e-9)"
   ]
  },
  {
   "cell_type": "code",
   "execution_count": 19,
   "metadata": {
    "scrolled": true
   },
   "outputs": [
    {
     "data": {
      "application/vnd.jupyter.widget-view+json": {
       "model_id": "9bd3d3dfc4c04c99b13aacf1b656abc3",
       "version_major": 2,
       "version_minor": 0
      },
      "text/plain": [
       "A Jupyter Widget"
      ]
     },
     "metadata": {},
     "output_type": "display_data"
    },
    {
     "name": "stdout",
     "output_type": "stream",
     "text": [
      "Started at:  Mar 15 2018 14:47:49\n",
      "\n",
      "Elapsed time: 0 h 5 m 30.73 s\n"
     ]
    }
   ],
   "source": [
    "current_src1.set_status(1)\n",
    "lo1.set_status(0)\n",
    "#lo2.set_status(0)\n",
    "pna.set_power(-10)\n",
    "pna.set_nop(301)\n",
    "pna.set_bandwidth(200)\n",
    "current_max=5e-5\n",
    "current_nop=201\n",
    "currents=np.linspace(-current_max,current_max,current_nop)\n",
    "pna.set_xlim(qubit_params[qubit_id]['Fr']-25e6,qubit_params[qubit_id]['Fr']+25e6)\n",
    "result = sweep.sweep(pna, (currents, current_src1.set_current, 'Coil current'), filename='anticrossings qubit {}'.format(qubit_id))"
   ]
  },
  {
   "cell_type": "markdown",
   "metadata": {},
   "source": [
    "# Импульсы"
   ]
  },
  {
   "cell_type": "markdown",
   "metadata": {},
   "source": [
    "### Создаём девайсы"
   ]
  },
  {
   "cell_type": "code",
   "execution_count": 10,
   "metadata": {},
   "outputs": [
    {
     "name": "stderr",
     "output_type": "stream",
     "text": [
      "root: WARNING  Tektronix_AWG5014 : get all not yet fully functional\n"
     ]
    }
   ],
   "source": [
    "#if not ('pna' in locals()): pna = Agilent_N5242A('pna', address = 'PNA')\n",
    "#if not ('lo1' in locals()): lo1 = Agilent_E8257D('lo1', address = 'PSG1')\n",
    "sa = Agilent_N9030A('pxa', address = 'TCPIP0::10.20.61.56::inst0::INSTR')\n",
    "#sa = Signal_Hound_SA(name='SA124', serial=61660066)\n",
    "#lo_ex = Labbrick(name='lo_ex', serial=15249)\n",
    "lo_ex = lo1\n",
    "lo_ro = pna\n",
    "#lo_ro = Labbrick(name='lo_ro', serial=15257)\n",
    "awg_tek = Tektronix_AWG5014('awg_tek', address = 'TCPIP0::10.20.61.186::inst0::INSTR')\n",
    "adc = Spectrum_M3i2132('adc')"
   ]
  },
  {
   "cell_type": "markdown",
   "metadata": {},
   "source": [
    "### Загружаем импульсные скрипты всякие"
   ]
  },
  {
   "cell_type": "code",
   "execution_count": 11,
   "metadata": {},
   "outputs": [
    {
     "data": {
      "text/plain": [
       "<module 'sweep' from 'D:\\\\qtlab_replacement\\\\scripts\\\\sweep.py'>"
      ]
     },
     "execution_count": 11,
     "metadata": {},
     "output_type": "execute_result"
    }
   ],
   "source": [
    "import awg_digital\n",
    "import awg_iq\n",
    "import data_reduce\n",
    "import imp\n",
    "import fitting\n",
    "import plotting\n",
    "import save_pkl\n",
    "import tomography as tomography_new\n",
    "import tomography_legacy as tomography\n",
    "import sweep\n",
    "imp.reload(awg_digital)\n",
    "imp.reload(awg_iq)\n",
    "imp.reload(data_reduce)\n",
    "imp.reload(fitting)\n",
    "imp.reload(plotting)\n",
    "imp.reload(save_pkl)\n",
    "imp.reload(tomography)\n",
    "imp.reload(tomography_new)\n",
    "imp.reload(sweep)"
   ]
  },
  {
   "cell_type": "markdown",
   "metadata": {},
   "source": [
    "### Осцилляторы"
   ]
  },
  {
   "cell_type": "code",
   "execution_count": 12,
   "metadata": {},
   "outputs": [
    {
     "data": {
      "text/plain": [
       "True"
      ]
     },
     "execution_count": 12,
     "metadata": {},
     "output_type": "execute_result"
    }
   ],
   "source": [
    "# Источник тока - в autorange\n",
    "#current.set_autorange(1)\n",
    "#Мощности гетеродинов, постоянные\n",
    "#Мощность гетеродина для возбуждения 13-16 дБм\n",
    "#lo_ex_pow = 14\n",
    "#lo_ex_pow = 14\n",
    "lo_ex_pow = 14\n",
    "#lo_ex = lo1\n",
    "lo_ex.set_status(1)\n",
    "#lo_ex.set_power(lo_ex_pow)\n",
    "#pna как lo2 (excitation)\n",
    "#Port1 - выход\n",
    "#Мощность гетеродина для считывания 10-13 дБм, с учётом разветвителя 13-16 dBm\n",
    "#lo_ro_pow = 16\n",
    "lo_ro_pow = 16\n",
    "lo_ro.set_power(lo_ro_pow)\n",
    "\n",
    "#lo_ex = pna\n",
    "pna.write(\"OUTP ON\")\n",
    "pna.write(\"SOUR1:POW1:MODE ON\")\n",
    "pna.write(\"SOUR1:POW2:MODE OFF\")\n",
    "pna.set_sweep_mode(\"CW\")\n",
    "lo_ex.set_power(lo_ex_pow)"
   ]
  },
  {
   "cell_type": "markdown",
   "metadata": {},
   "source": [
    "### AWGшки"
   ]
  },
  {
   "cell_type": "code",
   "execution_count": 13,
   "metadata": {},
   "outputs": [
    {
     "name": "stderr",
     "output_type": "stream",
     "text": [
      "root: WARNING  Tektronix_AWG5014 : Clock set to 1000000000.0. This is not fully functional yet. To avoid problems, it is better not to change the clock during operation\n"
     ]
    },
    {
     "data": {
      "text/plain": [
       "True"
      ]
     },
     "execution_count": 13,
     "metadata": {},
     "output_type": "execute_result"
    }
   ],
   "source": [
    "# промежуточные частоты для гетеродинной схемы:\n",
    "ex_if = 250e6\n",
    "ro_if = 75e6\n",
    "# клоки генератора и оцифровщика\n",
    "ex_clock = 1e9\n",
    "ro_clock = 1e9\n",
    "\n",
    "rep_rate = 20e3 # частота повторений эксперимента\n",
    "\n",
    "awg_tek.stop()\n",
    "awg_tek.set_clock(ex_clock) # клок всех авгшк\n",
    "awg_tek.set_nop(ex_clock/rep_rate) # репрейт нужно задавать по=хорошему только на управляющей,\n",
    "awg_tek.run()\n",
    "# а вот длину сэмплов, которая очевидно то же самое, нужно задавать на всех авгшках.\n",
    "# хорошо, что сейчас она только одна.\n",
    "\n",
    "# миксеры подключены к AWG5014 через 6 дБ аттенюаторы. Ставим амплитуду 2В.\n",
    "for channel in range(1,5):\n",
    "    awg_tek.set_amplitude(.2, channel=channel)\n",
    "    awg_tek.set_offset(0, channel=channel)\n",
    "    awg_tek.set_output(1, channel=channel)\n",
    "# Выходы 1, 2 тектроникс: возбуждение (кубитный тон) через 6 дБ аттенюатор\n",
    "# Выходы 3, 4 тектроникс: считывание (резонаторный тон) через 6 дБ аттенюатор\n",
    "iq_ex = awg_iq.awg_iq(awg_tek, awg_tek, 2, 1, lo_ex)\n",
    "iq_ro = awg_iq.awg_iq(awg_tek, awg_tek, 3, 4, lo_ro)\n",
    "iq_ex.set_if(ex_if)\n",
    "iq_ro.set_if(ro_if)\n",
    "iq_ex.set_sideband_id(-1)\n",
    "iq_ro.set_sideband_id(-1)\n",
    "iq_ex.set_frequency(qubit_params[qubit_id]['F01_max'])\n",
    "iq_ro.set_frequency(qubit_params[qubit_id]['Fr'])\n",
    "\n",
    "# К первому маркере первого канала тектроникса подсоединён триггер оцифровщика.\n",
    "# Надо подавать какой-нибудь триггер, что-ли.\n",
    "# А ещё нужно подавать клок. К сожалению наш оцифровщик не может в 1ГГц клок, ему нужен 500МГц клок.\n",
    "# Будем подавать 500 МГц с цифрового выхода тектроникса.\n",
    "awg_tek.set_marker1_low(-0.0, channel=1)\n",
    "awg_tek.set_marker2_low(-0.0, channel=1)\n",
    "awg_tek.set_marker1_high(1.0, channel=1)\n",
    "awg_tek.set_marker2_high(1.0, channel=1)\n",
    "awg_tek.set_marker1_low(-0.04, channel=2)\n",
    "awg_tek.set_marker2_low(-0.04, channel=2) \n",
    "awg_tek.set_marker1_high(0.04, channel=2) # с клока хватит и такой амплитуды\n",
    "awg_tek.set_marker2_high(0.04, channel=2) # с клока хватит и такой амплитуды\n",
    "ro_trg = awg_digital.awg_digital(awg_tek, 1)\n",
    "osc_trg = awg_digital.awg_digital(awg_tek, 5)\n",
    "ro_adc_clock = awg_digital.awg_digital(awg_tek, 2) #\n",
    "osc_adc_clock = awg_digital.awg_digital(awg_tek, 6) #\n",
    "\n",
    "# тупо клок\n",
    "ro_adc_clock.set_waveform(np.asarray([0,1]*int(ro_adc_clock.get_nop()/2), dtype=int))\n",
    "osc_adc_clock.set_waveform(np.asarray([0,1]*int(ro_adc_clock.get_nop()/2), dtype=int))\n",
    "awg_channels = {'iq_ex':iq_ex, 'iq_ro':iq_ro, 'ro_trg':ro_trg, 'osc_trg':osc_trg}\n",
    "trg_length = 4e-9\n",
    "pg = tomography_new.pulses(awg_channels)\n",
    "awg_tek.set_nop(awg_tek.get_clock()/rep_rate)"
   ]
  },
  {
   "cell_type": "markdown",
   "metadata": {},
   "source": [
    "### Оцифровщик"
   ]
  },
  {
   "cell_type": "code",
   "execution_count": 14,
   "metadata": {
    "collapsed": true
   },
   "outputs": [],
   "source": [
    "# настройки оцифровщика\n",
    "adc.set_clock(ro_clock)\n",
    "adc.reset()            \n",
    "adc.set_timeout(10000)\n",
    "\n",
    "\n",
    "#adc.set_spc_samplerate(smp_rate)\n",
    "#External trigger\n",
    "adc.set_trigger_ext0_level0(400) # logical 0 value to 200 mV\n",
    "adc.set_trigger_ext0_level1(600) # logical 1 value to 600 mV\n",
    "adc.trigger_termination_50Ohm()\n",
    "adc.trigger_mode_pos()\n",
    "adc.set_trigger_ext0_pulsewidth(0)\n",
    "adc.disable_trigger_output()\n",
    "adc.select_channel01()\n",
    "adc.set_multi_mode()\n",
    "#adc.set_segmentsize()\n",
    "adc.set_trigger_ORmask_tmask_ext0()\n",
    "adc.set_trigger_ANDmask_tmask_ext0()\n",
    "adc.set_trigger_ORmask_tmask_NO_ch0()\n",
    "adc.set_trigger_ORmask_tmask_NO_ch1()\n",
    "adc.set_trigger_ANDmask_tmask_NO_ch0()\n",
    "adc.set_trigger_ANDmask_tmask_NO_ch1()\n",
    "# усилитель на оцифровщике\n",
    "adc.set_input_amp_ch0(50)\n",
    "adc.set_input_amp_ch1(50)\n",
    "adc.set_input_offset_ch0(0)\n",
    "adc.set_input_offset_ch1(0)\n",
    "\n",
    "#External clock\n",
    "adc.set_reference_clock(adc.get_clock())\n",
    "\n",
    "# \"Измеритель средних прошедших импульсов\"\n",
    "# Просто усредняет всё по номеру сэмпла.\n",
    "adc_reducer = data_reduce.data_reduce(adc)\n",
    "adc_reducer.filters['Mean Voltage (AC)'] = data_reduce.mean_reducer_noavg(adc, 'Voltage', 0)\n",
    "adc_reducer.filters['S21+'] = data_reduce.mean_reducer_freq(adc, 'Voltage', 0, iq_ro.get_if())\n",
    "adc_reducer.filters['S21-'] = data_reduce.mean_reducer_freq(adc, 'Voltage', 0, -iq_ro.get_if())"
   ]
  },
  {
   "cell_type": "markdown",
   "metadata": {},
   "source": [
    "### Калибровка миксеров"
   ]
  },
  {
   "cell_type": "code",
   "execution_count": 15,
   "metadata": {
    "scrolled": true
   },
   "outputs": [
    {
     "name": "stdout",
     "output_type": "stream",
     "text": [
      "d:\\qtlab\\ReiData\\data/calibrations//IQ-if2.5e+08-rf8e+09-sb--1.pkl\n",
      "d:\\qtlab\\ReiData\\data/calibrations//IQ-if7.5e+07-rf6.6e+09-sb--1.pkl\n"
     ]
    },
    {
     "data": {
      "text/plain": [
       "{'I': (0.2942936141554241+0.62898166594305627j),\n",
       " 'Q': (0.63717694260991631+0.45895135595010528j),\n",
       " 'dc': (0.13903536603831612+0.079891191807958201j),\n",
       " 'num_sidebands': 7,\n",
       " 'score': -7.798854210373575}"
      ]
     },
     "execution_count": 15,
     "metadata": {},
     "output_type": "execute_result"
    }
   ],
   "source": [
    "#sa.set_ref(0)\n",
    "iq_ex.get_calibration(sa)\n",
    "iq_ro.get_calibration(sa)"
   ]
  },
  {
   "cell_type": "markdown",
   "metadata": {},
   "source": [
    "### Длительность и амплитуда считывающих импульсов"
   ]
  },
  {
   "cell_type": "code",
   "execution_count": 16,
   "metadata": {
    "collapsed": true
   },
   "outputs": [],
   "source": [
    "def set_adc_nop(ro_adc_length):\n",
    "    adc.stop()\n",
    "    signal_size = int(np.ceil(4./3.*(ro_adc_length)*adc.get_clock()))\n",
    "    nop = int( 2**np.ceil(np.log2(signal_size)) )\n",
    "    posttrigger = nop*15/16\n",
    "    \n",
    "    print (nop)\n",
    "    adc.set_nop(nop)\n",
    "    adc.set_post_trigger(posttrigger)"
   ]
  },
  {
   "cell_type": "code",
   "execution_count": 17,
   "metadata": {},
   "outputs": [
    {
     "name": "stdout",
     "output_type": "stream",
     "text": [
      "1024\n"
     ]
    }
   ],
   "source": [
    "ro_adc_length = 0.9e-6        # Вот такой длины считываем (опухоль Фёдорова!!)\n",
    "ro_amplitude = 0.8\n",
    "#ro_adc_length = 0.3e-6\n",
    "#ro_amplitude = 0.5\n",
    "#ro_amplitude = 1.0\n",
    "ro_dac_length = 0.3e-6\n",
    "adc.set_nums(10000)\n",
    "#adc.set_nums(1000)\n",
    "#adc.set_software_nums_multi(1)\n",
    "set_adc_nop(ro_adc_length)"
   ]
  },
  {
   "cell_type": "code",
   "execution_count": 60,
   "metadata": {},
   "outputs": [
    {
     "data": {
      "text/plain": [
       "[<matplotlib.lines.Line2D at 0x23d8c32b0b8>]"
      ]
     },
     "execution_count": 60,
     "metadata": {},
     "output_type": "execute_result"
    }
   ],
   "source": [
    "#tomography.set_sequence([tomography.ro_rect(ro_amplitude, ro_dac_length, awg_channels)], awg_channels)\n",
    "plt.plot(np.mean(np.real(adc.measure()['Voltage']), axis=0))"
   ]
  },
  {
   "cell_type": "code",
   "execution_count": 38,
   "metadata": {},
   "outputs": [
    {
     "data": {
      "text/plain": [
       "<matplotlib.colorbar.Colorbar at 0x22c86b02128>"
      ]
     },
     "execution_count": 38,
     "metadata": {},
     "output_type": "execute_result"
    }
   ],
   "source": [
    "plt.pcolormesh(np.imag(adc.measure()['Voltage']));\n",
    "plt.colorbar()"
   ]
  },
  {
   "cell_type": "code",
   "execution_count": 25,
   "metadata": {
    "collapsed": true
   },
   "outputs": [],
   "source": [
    "adc.stop()"
   ]
  },
  {
   "cell_type": "code",
   "execution_count": 51,
   "metadata": {},
   "outputs": [
    {
     "data": {
      "text/plain": [
       "6750200000.0"
      ]
     },
     "execution_count": 51,
     "metadata": {},
     "output_type": "execute_result"
    }
   ],
   "source": [
    "sa.set_xlim(qubit_params[qubit_id]['Fr']-200e6, qubit_params[qubit_id]['Fr']+200e6)\n",
    "plt.plot(sa.get_tracedata()[0], sa.get_tracedata()[1])\n",
    "pna.get_frequency()"
   ]
  },
  {
   "cell_type": "code",
   "execution_count": 28,
   "metadata": {},
   "outputs": [
    {
     "data": {
      "text/plain": [
       "True"
      ]
     },
     "execution_count": 28,
     "metadata": {},
     "output_type": "execute_result"
    }
   ],
   "source": [
    "lo_amp.set_status(0)"
   ]
  },
  {
   "cell_type": "markdown",
   "metadata": {},
   "source": [
    "### Прохождение считывающих испульсов разной амплитуды"
   ]
  },
  {
   "cell_type": "code",
   "execution_count": 29,
   "metadata": {},
   "outputs": [
    {
     "data": {
      "application/vnd.jupyter.widget-view+json": {
       "model_id": "3887312a500c491e91117cfce03718f9",
       "version_major": 2,
       "version_minor": 0
      },
      "text/plain": [
       "A Jupyter Widget"
      ]
     },
     "metadata": {},
     "output_type": "display_data"
    },
    {
     "name": "stdout",
     "output_type": "stream",
     "text": [
      "Started at:  Mar 14 2018 22:38:56\n"
     ]
    },
    {
     "name": "stderr",
     "output_type": "stream",
     "text": [
      "D:\\qtlab_replacement\\instruments\\Tektronix_AWG5014.py:648: ComplexWarning: Casting complex values to real discards the imaginary part\n",
      "  m1[:] = marker[:len(m1)]\n"
     ]
    },
    {
     "name": "stdout",
     "output_type": "stream",
     "text": [
      "\n",
      "Elapsed time: 0 h 2 m 30.35 s\n"
     ]
    },
    {
     "name": "stderr",
     "output_type": "stream",
     "text": [
      "C:\\ProgramData\\Anaconda3\\lib\\site-packages\\matplotlib\\cbook\\deprecation.py:106: MatplotlibDeprecationWarning: Adding an axes using the same arguments as a previous axes currently reuses the earlier instance.  In a future version, a new instance will always be created and returned.  Meanwhile, this warning can be suppressed, and the future behavior ensured, by passing a unique label to each axes instance.\n",
      "  warnings.warn(message, mplDeprecation, stacklevel=1)\n"
     ]
    }
   ],
   "source": [
    "def set_pulse_amplitude(x):\n",
    "    awg_tek.set_nop(awg_tek.get_clock()/rep_rate)\n",
    "    pg.set_seq([pg.p('ro_trg', trg_length, pg.rect, 1), pg.p('iq_ro', ro_dac_length, pg.rect, x)])\n",
    "    awg_tek.run()\n",
    "measurement = sweep.sweep(adc_reducer, (np.linspace(0, 1, 51), set_pulse_amplitude, 'Readout amplitude'), filename='Readout pulse passthrough')"
   ]
  },
  {
   "cell_type": "code",
   "execution_count": 17,
   "metadata": {
    "scrolled": true
   },
   "outputs": [
    {
     "data": {
      "application/vnd.jupyter.widget-view+json": {
       "model_id": "f0bc5781252943b889ceaafea7e76635",
       "version_major": 2,
       "version_minor": 0
      },
      "text/plain": [
       "A Jupyter Widget"
      ]
     },
     "metadata": {},
     "output_type": "display_data"
    },
    {
     "name": "stdout",
     "output_type": "stream",
     "text": [
      "Started at:  Mar 12 2018 23:36:54\n"
     ]
    },
    {
     "name": "stderr",
     "output_type": "stream",
     "text": [
      "D:\\qtlab_replacement\\instruments\\Tektronix_AWG5014.py:648: ComplexWarning: Casting complex values to real discards the imaginary part\n",
      "  m1[:] = marker[:len(m1)]\n",
      "C:\\ProgramData\\Anaconda3\\lib\\site-packages\\matplotlib\\cbook\\deprecation.py:106: MatplotlibDeprecationWarning: Adding an axes using the same arguments as a previous axes currently reuses the earlier instance.  In a future version, a new instance will always be created and returned.  Meanwhile, this warning can be suppressed, and the future behavior ensured, by passing a unique label to each axes instance.\n",
      "  warnings.warn(message, mplDeprecation, stacklevel=1)\n"
     ]
    },
    {
     "ename": "KeyError",
     "evalue": "'plot'",
     "output_type": "error",
     "traceback": [
      "\u001b[1;31m---------------------------------------------------------------------------\u001b[0m",
      "\u001b[1;31mKeyError\u001b[0m                                  Traceback (most recent call last)",
      "\u001b[1;32m<ipython-input-17-76c8be3c9af7>\u001b[0m in \u001b[0;36m<module>\u001b[1;34m()\u001b[0m\n\u001b[0;32m      3\u001b[0m     \u001b[0mpg\u001b[0m\u001b[1;33m.\u001b[0m\u001b[0mset_seq\u001b[0m\u001b[1;33m(\u001b[0m\u001b[1;33m[\u001b[0m\u001b[0mpg\u001b[0m\u001b[1;33m.\u001b[0m\u001b[0mp\u001b[0m\u001b[1;33m(\u001b[0m\u001b[1;34m'ro_trg'\u001b[0m\u001b[1;33m,\u001b[0m \u001b[0mtrg_length\u001b[0m\u001b[1;33m,\u001b[0m \u001b[0mpg\u001b[0m\u001b[1;33m.\u001b[0m\u001b[0mrect\u001b[0m\u001b[1;33m,\u001b[0m \u001b[1;36m1\u001b[0m\u001b[1;33m)\u001b[0m\u001b[1;33m,\u001b[0m \u001b[0mpg\u001b[0m\u001b[1;33m.\u001b[0m\u001b[0mp\u001b[0m\u001b[1;33m(\u001b[0m\u001b[1;34m'iq_ro'\u001b[0m\u001b[1;33m,\u001b[0m \u001b[0mro_dac_length\u001b[0m\u001b[1;33m,\u001b[0m \u001b[0mpg\u001b[0m\u001b[1;33m.\u001b[0m\u001b[0mrect\u001b[0m\u001b[1;33m,\u001b[0m \u001b[0mx\u001b[0m\u001b[1;33m)\u001b[0m\u001b[1;33m]\u001b[0m\u001b[1;33m)\u001b[0m\u001b[1;33m\u001b[0m\u001b[0m\n\u001b[0;32m      4\u001b[0m     \u001b[0mawg_tek\u001b[0m\u001b[1;33m.\u001b[0m\u001b[0mrun\u001b[0m\u001b[1;33m(\u001b[0m\u001b[1;33m)\u001b[0m\u001b[1;33m\u001b[0m\u001b[0m\n\u001b[1;32m----> 5\u001b[1;33m \u001b[0mmeasurement\u001b[0m \u001b[1;33m=\u001b[0m \u001b[0msweep\u001b[0m\u001b[1;33m.\u001b[0m\u001b[0msweep\u001b[0m\u001b[1;33m(\u001b[0m\u001b[0madc_reducer\u001b[0m\u001b[1;33m,\u001b[0m \u001b[1;33m(\u001b[0m\u001b[0mnp\u001b[0m\u001b[1;33m.\u001b[0m\u001b[0mlinspace\u001b[0m\u001b[1;33m(\u001b[0m\u001b[1;36m0\u001b[0m\u001b[1;33m,\u001b[0m \u001b[1;36m1\u001b[0m\u001b[1;33m,\u001b[0m \u001b[1;36m1\u001b[0m\u001b[1;33m)\u001b[0m\u001b[1;33m,\u001b[0m \u001b[0mset_pulse_amplitude\u001b[0m\u001b[1;33m,\u001b[0m \u001b[1;34m'Readout amplitude'\u001b[0m\u001b[1;33m)\u001b[0m\u001b[1;33m,\u001b[0m \u001b[0mfilename\u001b[0m\u001b[1;33m=\u001b[0m\u001b[1;34m'Readout pulse passthrough'\u001b[0m\u001b[1;33m)\u001b[0m\u001b[1;33m\u001b[0m\u001b[0m\n\u001b[0m",
      "\u001b[1;32mD:\\qtlab_replacement\\scripts\\sweep.py\u001b[0m in \u001b[0;36msweep\u001b[1;34m(measurer, filename, root_dir, plot, header, output, save, time_war_label, cycle_save_mode, *params)\u001b[0m\n\u001b[0;32m    182\u001b[0m                         \u001b[1;32mif\u001b[0m \u001b[0mplot\u001b[0m\u001b[1;33m:\u001b[0m\u001b[1;33m\u001b[0m\u001b[0m\n\u001b[0;32m    183\u001b[0m                                 \u001b[1;32mif\u001b[0m \u001b[0mplot_update_start\u001b[0m \u001b[1;33m-\u001b[0m \u001b[0mlast_plot_update\u001b[0m \u001b[1;33m>\u001b[0m \u001b[1;36m10\u001b[0m\u001b[1;33m*\u001b[0m\u001b[0mplot_update_time\u001b[0m\u001b[1;33m:\u001b[0m\u001b[1;33m\u001b[0m\u001b[0m\n\u001b[1;32m--> 184\u001b[1;33m                                         \u001b[0mplotting\u001b[0m\u001b[1;33m.\u001b[0m\u001b[0mupdate_plot_measurement\u001b[0m\u001b[1;33m(\u001b[0m\u001b[0mmk_measurement\u001b[0m\u001b[1;33m(\u001b[0m\u001b[1;36m0\u001b[0m\u001b[1;33m)\u001b[0m\u001b[1;33m,\u001b[0m \u001b[0mplot_axes\u001b[0m\u001b[1;33m)\u001b[0m\u001b[1;33m\u001b[0m\u001b[0m\n\u001b[0m\u001b[0;32m    185\u001b[0m \t\t\t'''\n\u001b[0;32m    186\u001b[0m                                 \u001b[1;32mif\u001b[0m \u001b[0mplot_windows\u001b[0m\u001b[1;33m[\u001b[0m\u001b[0mmname\u001b[0m\u001b[1;33m]\u001b[0m\u001b[1;33m:\u001b[0m\u001b[1;33m\u001b[0m\u001b[0m\n",
      "\u001b[1;32mD:\\qtlab_replacement\\scripts\\plotting.py\u001b[0m in \u001b[0;36mupdate_plot_measurement\u001b[1;34m(measurement, axes)\u001b[0m\n\u001b[0;32m    136\u001b[0m                 \u001b[1;32mfor\u001b[0m \u001b[0mplot_name\u001b[0m\u001b[1;33m,\u001b[0m \u001b[0mplot\u001b[0m \u001b[1;32min\u001b[0m \u001b[0max\u001b[0m\u001b[1;33m[\u001b[0m\u001b[1;34m'plots'\u001b[0m\u001b[1;33m]\u001b[0m\u001b[1;33m.\u001b[0m\u001b[0mitems\u001b[0m\u001b[1;33m(\u001b[0m\u001b[1;33m)\u001b[0m\u001b[1;33m:\u001b[0m\u001b[1;33m\u001b[0m\u001b[0m\n\u001b[0;32m    137\u001b[0m                         \u001b[0mmeas\u001b[0m\u001b[1;33m[\u001b[0m\u001b[0mplot_name\u001b[0m\u001b[1;33m]\u001b[0m \u001b[1;33m=\u001b[0m \u001b[1;33m(\u001b[0m\u001b[0mmeasurement\u001b[0m\u001b[1;33m[\u001b[0m\u001b[0mplot\u001b[0m\u001b[1;33m[\u001b[0m\u001b[1;34m'mname'\u001b[0m\u001b[1;33m]\u001b[0m\u001b[1;33m]\u001b[0m\u001b[1;33m[\u001b[0m\u001b[1;36m0\u001b[0m\u001b[1;33m]\u001b[0m\u001b[1;33m,\u001b[0m \u001b[0mmeasurement\u001b[0m\u001b[1;33m[\u001b[0m\u001b[0mplot\u001b[0m\u001b[1;33m[\u001b[0m\u001b[1;34m'mname'\u001b[0m\u001b[1;33m]\u001b[0m\u001b[1;33m]\u001b[0m\u001b[1;33m[\u001b[0m\u001b[1;36m1\u001b[0m\u001b[1;33m]\u001b[0m\u001b[1;33m,\u001b[0m \u001b[0mplot\u001b[0m\u001b[1;33m[\u001b[0m\u001b[1;34m'filter'\u001b[0m\u001b[1;33m]\u001b[0m\u001b[1;33m(\u001b[0m\u001b[0mmeasurement\u001b[0m\u001b[1;33m[\u001b[0m\u001b[0mplot\u001b[0m\u001b[1;33m[\u001b[0m\u001b[1;34m'mname'\u001b[0m\u001b[1;33m]\u001b[0m\u001b[1;33m]\u001b[0m\u001b[1;33m[\u001b[0m\u001b[1;36m2\u001b[0m\u001b[1;33m]\u001b[0m\u001b[1;33m)\u001b[0m\u001b[1;33m)\u001b[0m\u001b[1;33m\u001b[0m\u001b[0m\n\u001b[1;32m--> 138\u001b[1;33m                 \u001b[0mplots\u001b[0m \u001b[1;33m=\u001b[0m \u001b[0mupdate_plot_measurement_sa\u001b[0m\u001b[1;33m(\u001b[0m\u001b[0mmeas\u001b[0m\u001b[1;33m,\u001b[0m \u001b[0max\u001b[0m\u001b[1;33m)\u001b[0m\u001b[1;33m\u001b[0m\u001b[0m\n\u001b[0m\u001b[0;32m    139\u001b[0m \u001b[1;33m\u001b[0m\u001b[0m\n\u001b[0;32m    140\u001b[0m \u001b[1;31m# Plots all data on a single axis with given annotations.\u001b[0m\u001b[1;33m\u001b[0m\u001b[1;33m\u001b[0m\u001b[0m\n",
      "\u001b[1;32mD:\\qtlab_replacement\\scripts\\plotting.py\u001b[0m in \u001b[0;36mupdate_plot_measurement_sa\u001b[1;34m(measurement, plots)\u001b[0m\n\u001b[0;32m    230\u001b[0m                 \u001b[0mdata\u001b[0m \u001b[1;33m=\u001b[0m \u001b[0mmeas\u001b[0m\u001b[1;33m[\u001b[0m\u001b[1;36m2\u001b[0m\u001b[1;33m]\u001b[0m\u001b[1;33m\u001b[0m\u001b[0m\n\u001b[0;32m    231\u001b[0m \u001b[1;33m\u001b[0m\u001b[0m\n\u001b[1;32m--> 232\u001b[1;33m                 \u001b[0mplot\u001b[0m \u001b[1;33m=\u001b[0m \u001b[0mplots\u001b[0m\u001b[1;33m[\u001b[0m\u001b[1;34m'plots'\u001b[0m\u001b[1;33m]\u001b[0m\u001b[1;33m[\u001b[0m\u001b[0mmname\u001b[0m\u001b[1;33m]\u001b[0m\u001b[1;33m[\u001b[0m\u001b[1;34m'plot'\u001b[0m\u001b[1;33m]\u001b[0m\u001b[1;33m\u001b[0m\u001b[0m\n\u001b[0m\u001b[0;32m    233\u001b[0m                 \u001b[0mfig\u001b[0m \u001b[1;33m=\u001b[0m \u001b[0mplot\u001b[0m\u001b[1;33m.\u001b[0m\u001b[0maxes\u001b[0m\u001b[1;33m.\u001b[0m\u001b[0mget_figure\u001b[0m\u001b[1;33m(\u001b[0m\u001b[1;33m)\u001b[0m\u001b[1;33m\u001b[0m\u001b[0m\n\u001b[0;32m    234\u001b[0m                 \u001b[0mplt\u001b[0m\u001b[1;33m.\u001b[0m\u001b[0mfigure\u001b[0m\u001b[1;33m(\u001b[0m\u001b[0mfig\u001b[0m\u001b[1;33m.\u001b[0m\u001b[0mcanvas\u001b[0m\u001b[1;33m.\u001b[0m\u001b[0mget_window_title\u001b[0m\u001b[1;33m(\u001b[0m\u001b[1;33m)\u001b[0m\u001b[1;33m)\u001b[0m\u001b[1;33m\u001b[0m\u001b[0m\n",
      "\u001b[1;31mKeyError\u001b[0m: 'plot'"
     ]
    }
   ],
   "source": [
    "def set_pulse_amplitude(x):\n",
    "    awg_tek.set_nop(awg_tek.get_clock()/rep_rate)\n",
    "    pg.set_seq([pg.p('ro_trg', trg_length, pg.rect, 1), pg.p('iq_ro', ro_dac_length, pg.rect, x)])\n",
    "    awg_tek.run()\n",
    "measurement = sweep.sweep(adc_reducer, (np.linspace(0, 1, 1), set_pulse_amplitude, 'Readout amplitude'), filename='Readout pulse passthrough')"
   ]
  },
  {
   "cell_type": "code",
   "execution_count": 32,
   "metadata": {},
   "outputs": [
    {
     "data": {
      "text/plain": [
       "True"
      ]
     },
     "execution_count": 32,
     "metadata": {},
     "output_type": "execute_result"
    }
   ],
   "source": [
    "lo1.set_status(1)"
   ]
  },
  {
   "cell_type": "markdown",
   "metadata": {},
   "source": [
    "### Осцилляции Раби"
   ]
  },
  {
   "cell_type": "code",
   "execution_count": 35,
   "metadata": {},
   "outputs": [
    {
     "data": {
      "text/plain": [
       "[<matplotlib.lines.Line2D at 0x216beb6e4a8>]"
      ]
     },
     "execution_count": 35,
     "metadata": {},
     "output_type": "execute_result"
    }
   ],
   "source": [
    "sa.set_centerfreq(8e9)\n",
    "sa.set_span(200e6)\n",
    "sa.set_nop(201)\n",
    "f, P = sa.get_tracedata()\n",
    "plt.figure()\n",
    "plt.plot(f, P)"
   ]
  },
  {
   "cell_type": "code",
   "execution_count": 39,
   "metadata": {},
   "outputs": [
    {
     "data": {
      "text/plain": [
       "True"
      ]
     },
     "execution_count": 39,
     "metadata": {},
     "output_type": "execute_result"
    }
   ],
   "source": [
    "lo_amp.set_status(1)"
   ]
  },
  {
   "cell_type": "code",
   "execution_count": 62,
   "metadata": {
    "scrolled": true
   },
   "outputs": [
    {
     "data": {
      "application/vnd.jupyter.widget-view+json": {
       "model_id": "6878e95faaed4718b3a9596f7008ffe8",
       "version_major": 2,
       "version_minor": 0
      },
      "text/plain": [
       "A Jupyter Widget"
      ]
     },
     "metadata": {},
     "output_type": "display_data"
    },
    {
     "name": "stdout",
     "output_type": "stream",
     "text": [
      "Started at:  Mar 15 2018 08:27:25\n"
     ]
    },
    {
     "name": "stderr",
     "output_type": "stream",
     "text": [
      "D:\\qtlab_replacement\\instruments\\Tektronix_AWG5014.py:648: ComplexWarning: Casting complex values to real discards the imaginary part\n",
      "  m1[:] = marker[:len(m1)]\n"
     ]
    },
    {
     "name": "stdout",
     "output_type": "stream",
     "text": [
      "\n",
      "Elapsed time: 0 h 5 m 3.7 s\n"
     ]
    },
    {
     "name": "stderr",
     "output_type": "stream",
     "text": [
      "C:\\ProgramData\\Anaconda3\\lib\\site-packages\\matplotlib\\cbook\\deprecation.py:106: MatplotlibDeprecationWarning: Adding an axes using the same arguments as a previous axes currently reuses the earlier instance.  In a future version, a new instance will always be created and returned.  Meanwhile, this warning can be suppressed, and the future behavior ensured, by passing a unique label to each axes instance.\n",
      "  warnings.warn(message, mplDeprecation, stacklevel=1)\n"
     ]
    }
   ],
   "source": [
    "ex_amplitude = 0.2\n",
    "pause_length = 128e-9\n",
    "lengths = np.linspace(0, 0.2e-6, 101)\n",
    "readout_begin = np.max(lengths)\n",
    "def set_ex_length(length):\n",
    "    awg_tek.set_nop(awg_tek.get_clock()/rep_rate)\n",
    "    sequence = [pg.p(None, readout_begin-length), \n",
    "                pg.p('iq_ex', length, pg.rect, ex_amplitude), \n",
    "                pg.p(None, pause_length), \n",
    "                pg.p('ro_trg', trg_length, pg.rect, 1), \n",
    "                pg.p('iq_ro', ro_dac_length, pg.rect, ro_amplitude)]\n",
    "    pg.set_seq(sequence)\n",
    "    awg_tek.run()\n",
    "measurement = sweep.sweep(adc_reducer, (lengths, set_ex_length, 'Rabi pulse length'), filename='Rabi')\n",
    "measurement_fitted, fitted_parameters = fitting.S21pm_fit(measurement, fitting.exp_sin_fit)\n",
    "annotation = 'Phase: {0:4.4g} rad, Freq: {1:4.4g}, Decay: {2:4.4g} s'.format(fitted_parameters['phase'], \n",
    "                                                                             fitted_parameters['freq'], \n",
    "                                                                             fitted_parameters['decay'])\n",
    "save_pkl.save_pkl({'type':'Rabi'}, measurement_fitted,annotation=annotation)"
   ]
  },
  {
   "cell_type": "code",
   "execution_count": 33,
   "metadata": {
    "collapsed": true
   },
   "outputs": [],
   "source": [
    "save_pkl.save_pkl({'type':'Rabi'}, measurement_fitted,annotation=annotation)"
   ]
  },
  {
   "cell_type": "markdown",
   "metadata": {},
   "source": [
    "# CPMG"
   ]
  },
  {
   "cell_type": "code",
   "execution_count": null,
   "metadata": {
    "collapsed": true
   },
   "outputs": [],
   "source": [
    "ex_amplitude = 0.2\n",
    "pi2_pulse = 9e-9\n",
    "pause_length = 16e-9\n",
    "tays = np.linspace(0e-6, 20e-6, 101)\n",
    "target_freq_offset = 10e6\n",
    "readout_begin = np.max(tays)+pi2_pulse*2\n",
    "N = 84\n",
    "pi_pulse = 2*pi2_pulse\n",
    "tayp = N*pi_pulse + 2*pi2_pulse\n",
    "\n",
    "#look whether they are X pi/2 and Y pi pluses!\n",
    "\n",
    "def set_tay(tay):\n",
    "    sequence = []\n",
    "    delay = tay/N\n",
    "    awg_tek.set_nop(awg_tek.get_clock()/rep_rate)\n",
    "    sequence = [pg.p(None, delay/2)]\n",
    "    while (number<N-1):\n",
    "        sequence = sequence + [pg.p('iq_ex', pi2_pulse, pg.rect, ex_amplitude*np.exp(1j*np.pi/2)), pg.p('iq_ex', pi2_pulse, pg.rect, ex_amplitude*np.exp(1j*np.pi/2)),pg.p(None, delay)]\n",
    "    sequence = sequence + [pg.p('iq_ex', pi2_pulse, pg.rect, ex_amplitude*np.exp(1j*np.pi/2)), pg.p('iq_ex', pi2_pulse, pg.rect, ex_amplitude*np.exp(1j*np.pi/2)), pg.p(None, delay/2), \n",
    "                           pg.p('iq_ex', pi2_pulse, pg.rect, ex_amplitude), pg.p(None, delay),  \n",
    "                           pg.p('ro_trg', trg_length, pg.rect, 1), \n",
    "                           pg.p('iq_ro', ro_dac_length, pg.rect, ro_amplitude)]\n",
    "    pg.set_seq(sequence)\n",
    "    awg_tek.run()\n",
    "measurement = sweep.sweep(adc_reducer,(tays, set_tay, 'CPMG'), filename = 'CPMG')\n",
    "measurement2 = measurement\n",
    "measurement2 = measurement2['S21+']/measurement2['S21+'][pi_pulse] #! no\n",
    "measurement2 = measurement2['S21-']/measurement2['S21-'][pi_pulse]  #! find out number\n",
    "measurement_fitted, fitted_parameters = fitting.S21pm_fit(measurement2, fitting.gaussian_CPMG(gamma1, gammap, tayp))\n",
    "plt.plot(1 - measurement_fitted['S21+'], tays )"
   ]
  },
  {
   "cell_type": "code",
   "execution_count": null,
   "metadata": {
    "collapsed": true
   },
   "outputs": [],
   "source": [
    "help_array = measurement2 - fitted_parameters[2] ###!!!!\n",
    "gammap = 1.75e-6\n",
    "gamma1 = 12e-6\n",
    "tayp = N*pi_pulse + 2*pi2_pulse\n",
    "help_array = help_array/np.exp(-gammap*tayp-0.5*gamma1*tays)\n",
    "plt.plot(help_array, tays)"
   ]
  },
  {
   "cell_type": "code",
   "execution_count": null,
   "metadata": {
    "collapsed": true
   },
   "outputs": [],
   "source": [
    "def term(n):\n",
    "    return (-1)^n*np.exp(1j*omega*delta(j)*tay)*np.cos(omega*pi_pulse/2)\n",
    "\n",
    "def g(tay):\n",
    "    omega = N*np.pi/tay\n",
    "    summation = 0\n",
    "    j = 0\n",
    "    while (j<=N):\n",
    "        sumation = summation + term(j)\n",
    "    yN = np.abs(1 + (-1)^(1+N)*np.exp(1j*omega*tay) + 2*summation)\n",
    "    return yN*yN/(omega*tay)^2"
   ]
  },
  {
   "cell_type": "markdown",
   "metadata": {},
   "source": [
    "## PSD"
   ]
  },
  {
   "cell_type": "code",
   "execution_count": null,
   "metadata": {
    "collapsed": true
   },
   "outputs": [],
   "source": [
    "#not reliable\n",
    "gamma_phi = fitted_parameters2[0]\n",
    "PSD = []\n",
    "dw01_dl = \n",
    "dw1 = 2*np.sqrt(np.ln(2))/gammaphi   ###why should they be different? and would be or not?\n",
    "dw2 = 2*np.sqrt(np.ln(2))/gammaphi\n",
    "index = 0\n",
    "PSD[tays[index]] = gamma_phi^2/(dw01_dl^2*g(tay)*dw1)\n",
    "while (index < 100):\n",
    "    index = index + 1\n",
    "    q = np.ln(help_array[0]/help_array[index]\n",
    "    PSD[tays[index]] = (np.ln(q)/(dw01_dl^2+tays[0]^2*PSD[0]*gN(tays[0])*dw1))/(tays[index]^2*gN(tays[index])*dw2^2)\n",
    "plt.plot(PSD, np.pi*N/tays)"
   ]
  },
  {
   "cell_type": "markdown",
   "metadata": {},
   "source": [
    "### Осцилляции Рамзея"
   ]
  },
  {
   "cell_type": "code",
   "execution_count": 61,
   "metadata": {
    "scrolled": false
   },
   "outputs": [
    {
     "data": {
      "application/vnd.jupyter.widget-view+json": {
       "model_id": "36e6342f580946bf8aef9092c6db246b",
       "version_major": 2,
       "version_minor": 0
      },
      "text/plain": [
       "A Jupyter Widget"
      ]
     },
     "metadata": {},
     "output_type": "display_data"
    },
    {
     "name": "stdout",
     "output_type": "stream",
     "text": [
      "Started at:  Mar 15 2018 08:16:22\n"
     ]
    },
    {
     "name": "stderr",
     "output_type": "stream",
     "text": [
      "D:\\qtlab_replacement\\instruments\\Tektronix_AWG5014.py:648: ComplexWarning: Casting complex values to real discards the imaginary part\n",
      "  m1[:] = marker[:len(m1)]\n"
     ]
    },
    {
     "name": "stdout",
     "output_type": "stream",
     "text": [
      "\n",
      "Elapsed time: 0 h 4 m 58.82 s\n"
     ]
    },
    {
     "name": "stderr",
     "output_type": "stream",
     "text": [
      "C:\\ProgramData\\Anaconda3\\lib\\site-packages\\matplotlib\\cbook\\deprecation.py:106: MatplotlibDeprecationWarning: Adding an axes using the same arguments as a previous axes currently reuses the earlier instance.  In a future version, a new instance will always be created and returned.  Meanwhile, this warning can be suppressed, and the future behavior ensured, by passing a unique label to each axes instance.\n",
      "  warnings.warn(message, mplDeprecation, stacklevel=1)\n"
     ]
    }
   ],
   "source": [
    "ex_amplitude = 0.2\n",
    "#pi2_pulse = 6e-9\n",
    "pi2_pulse = 9e-9\n",
    "pause_length = 16e-9\n",
    "delays = np.linspace(0e-9, 1000e-9, 101)\n",
    "target_freq_offset = 10e6\n",
    "\n",
    "readout_begin = np.max(delays)+pi2_pulse*2\n",
    "\n",
    "def set_delay(delay):\n",
    "    awg_tek.set_nop(awg_tek.get_clock()/rep_rate)\n",
    "    \n",
    "    sequence = [pg.p(None, readout_begin-pi2_pulse),\n",
    "                pg.p('iq_ex', pi2_pulse, pg.rect, ex_amplitude), \n",
    "                pg.p(None, delay), \n",
    "                pg.p('iq_ex', pi2_pulse, pg.rect, ex_amplitude*np.exp(1j*delay*target_freq_offset*2*np.pi)), \n",
    "                pg.p('ro_trg', trg_length, pg.rect, 1), \n",
    "                pg.p('iq_ro', ro_dac_length, pg.rect, ro_amplitude)]\n",
    "    \n",
    "    pg.set_seq(sequence)\n",
    "    awg_tek.run()\n",
    "measurement = sweep.sweep(adc_reducer, (delays, set_delay, 'Ramsey delay'), filename='Ramsey')\n",
    "#measurement = sweep.sweep(adc_sz, (delays, set_delay, 'Ramsey delay'), filename='Ramsey')\n",
    "measurement_fitted, fitted_parameters = fitting.S21pm_fit(measurement, fitting.exp_sin_fit)\n",
    "annotation = 'Phase: {0:4.4g} rad, Freq: {1:4.4g}, Decay: {2:4.4g} s'.format(fitted_parameters['phase'], \n",
    "                                                                             fitted_parameters['freq'], \n",
    "                                                                             fitted_parameters['decay'])\n",
    "save_pkl.save_pkl({'type':'Ramsey', 'name': 'qubit {} paramp {}'.format(qubit_id, 'on' if lo_amp.get_status() else 'off')}, measurement_fitted, annotation=annotation)"
   ]
  },
  {
   "cell_type": "markdown",
   "metadata": {},
   "source": [
    "### Спиновое эхо"
   ]
  },
  {
   "cell_type": "code",
   "execution_count": 71,
   "metadata": {
    "scrolled": false
   },
   "outputs": [
    {
     "data": {
      "application/vnd.jupyter.widget-view+json": {
       "model_id": "49feaafcb88448d6bd57888c9d31ce9f",
       "version_major": 2,
       "version_minor": 0
      },
      "text/plain": [
       "A Jupyter Widget"
      ]
     },
     "metadata": {},
     "output_type": "display_data"
    },
    {
     "name": "stdout",
     "output_type": "stream",
     "text": [
      "Started at:  Mar 15 2018 13:04:14\n"
     ]
    },
    {
     "name": "stderr",
     "output_type": "stream",
     "text": [
      "D:\\qtlab_replacement\\instruments\\Tektronix_AWG5014.py:648: ComplexWarning: Casting complex values to real discards the imaginary part\n",
      "  m1[:] = marker[:len(m1)]\n"
     ]
    },
    {
     "name": "stdout",
     "output_type": "stream",
     "text": [
      "\n",
      "Elapsed time: 0 h 4 m 57.95 s\n"
     ]
    },
    {
     "name": "stderr",
     "output_type": "stream",
     "text": [
      "C:\\ProgramData\\Anaconda3\\lib\\site-packages\\matplotlib\\cbook\\deprecation.py:106: MatplotlibDeprecationWarning: Adding an axes using the same arguments as a previous axes currently reuses the earlier instance.  In a future version, a new instance will always be created and returned.  Meanwhile, this warning can be suppressed, and the future behavior ensured, by passing a unique label to each axes instance.\n",
      "  warnings.warn(message, mplDeprecation, stacklevel=1)\n"
     ]
    }
   ],
   "source": [
    "ex_amplitude = 0.2\n",
    "pi2_pulse = 9e-9\n",
    "pause_length = 16e-9\n",
    "delays = np.linspace(0e-9, 500e-9, 101)\n",
    "target_freq_offset = 10e6\n",
    "\n",
    "readout_begin = np.max(delays)+pi2_pulse*2\n",
    "\n",
    "def set_delay(delay):\n",
    "    awg_tek.set_nop(awg_tek.get_clock()/rep_rate)\n",
    "    \n",
    "    sequence = [pg.p(None, readout_begin-pi2_pulse),\n",
    "                pg.p('iq_ex', pi2_pulse, pg.rect, ex_amplitude), \n",
    "                pg.p(None, delay), \n",
    "                pg.p('iq_ex', pi2_pulse, pg.rect, ex_amplitude), \n",
    "                pg.p('iq_ex', pi2_pulse, pg.rect, ex_amplitude), \n",
    "                pg.p(None, delay), \n",
    "                pg.p('iq_ex', pi2_pulse, pg.rect, ex_amplitude*np.exp(1j*delay*target_freq_offset*2*np.pi)), \n",
    "                pg.p('ro_trg', trg_length, pg.rect, 1), \n",
    "                pg.p('iq_ro', ro_dac_length, pg.rect, ro_amplitude)]\n",
    "    \n",
    "    pg.set_seq(sequence)\n",
    "    awg_tek.run()\n",
    "measurement = sweep.sweep(adc_reducer, (delays*2, set_delay, 'Spin echo full delay'), filename='Spin echo')\n",
    "#measurement = sweep.sweep(adc_sz, (delays, set_delay, 'Ramsey delay'), filename='Ramsey')\n",
    "measurement_fitted, fitted_parameters = fitting.S21pm_fit(measurement, fitting.exp_sin_fit)\n",
    "annotation = 'Phase: {0:4.4g} rad, Freq: {1:4.4g}, Decay: {2:4.4g} s'.format(fitted_parameters['phase'], \n",
    "                                                                             fitted_parameters['freq'], \n",
    "                                                                             fitted_parameters['decay'])\n",
    "save_pkl.save_pkl({'type':'Spin echo', 'name': 'qubit {} paramp {}'.format(qubit_id, 'on' if lo_amp.get_status() else 'off')}, measurement_fitted, annotation=annotation)"
   ]
  },
  {
   "cell_type": "code",
   "execution_count": 90,
   "metadata": {},
   "outputs": [
    {
     "name": "stderr",
     "output_type": "stream",
     "text": [
      "C:\\ProgramData\\Anaconda3\\lib\\site-packages\\matplotlib\\cbook\\deprecation.py:106: MatplotlibDeprecationWarning: Adding an axes using the same arguments as a previous axes currently reuses the earlier instance.  In a future version, a new instance will always be created and returned.  Meanwhile, this warning can be suppressed, and the future behavior ensured, by passing a unique label to each axes instance.\n",
      "  warnings.warn(message, mplDeprecation, stacklevel=1)\n"
     ]
    }
   ],
   "source": [
    "save_pkl.save_pkl({'type':'Ramsey'}, measurement_fitted, annotation=annotation)"
   ]
  },
  {
   "cell_type": "code",
   "execution_count": 23,
   "metadata": {},
   "outputs": [
    {
     "data": {
      "text/plain": [
       "True"
      ]
     },
     "execution_count": 23,
     "metadata": {},
     "output_type": "execute_result"
    }
   ],
   "source": [
    "lo_amp.set_status(0)"
   ]
  },
  {
   "cell_type": "markdown",
   "metadata": {},
   "source": [
    "### Затухание свободной индукции (T1)"
   ]
  },
  {
   "cell_type": "code",
   "execution_count": 65,
   "metadata": {},
   "outputs": [
    {
     "data": {
      "application/vnd.jupyter.widget-view+json": {
       "model_id": "59a990bf3b9b4dfc97989ba3f84a4518",
       "version_major": 2,
       "version_minor": 0
      },
      "text/plain": [
       "A Jupyter Widget"
      ]
     },
     "metadata": {},
     "output_type": "display_data"
    },
    {
     "name": "stdout",
     "output_type": "stream",
     "text": [
      "Started at:  Mar 15 2018 09:44:28\n"
     ]
    },
    {
     "name": "stderr",
     "output_type": "stream",
     "text": [
      "D:\\qtlab_replacement\\instruments\\Tektronix_AWG5014.py:648: ComplexWarning: Casting complex values to real discards the imaginary part\n",
      "  m1[:] = marker[:len(m1)]\n"
     ]
    },
    {
     "name": "stdout",
     "output_type": "stream",
     "text": [
      "\n",
      "Elapsed time: 0 h 2 m 29.29 s\n"
     ]
    },
    {
     "name": "stderr",
     "output_type": "stream",
     "text": [
      "C:\\ProgramData\\Anaconda3\\lib\\site-packages\\matplotlib\\cbook\\deprecation.py:106: MatplotlibDeprecationWarning: Adding an axes using the same arguments as a previous axes currently reuses the earlier instance.  In a future version, a new instance will always be created and returned.  Meanwhile, this warning can be suppressed, and the future behavior ensured, by passing a unique label to each axes instance.\n",
      "  warnings.warn(message, mplDeprecation, stacklevel=1)\n"
     ]
    },
    {
     "name": "stdout",
     "output_type": "stream",
     "text": [
      "[1.3886408309404014e-06, 0.013737160228245199, 0.1396519738231294, 0.038780107723286494, -0.01695100199946216, -0.0006057496326713208, 0.08049581272352799, 0.030787378770489197, -0.028028473587087818]\n"
     ]
    }
   ],
   "source": [
    "ex_amplitude = 0.2\n",
    "pi_pulse = 18e-9\n",
    "pause_length = 16e-9\n",
    "delays = np.linspace(0e-9, 2000e-9, 51)\n",
    "readout_begin = np.max(delays)+pi_pulse\n",
    "def set_delay(delay):\n",
    "    awg_tek.set_nop(awg_tek.get_clock()/rep_rate)\n",
    "    \n",
    "    sequence = [pg.p(None, readout_begin-ro_dac_length),\n",
    "                pg.p('iq_ex', pi_pulse, pg.rect, ex_amplitude), \n",
    "                pg.p(None, delay), \n",
    "                pg.p('ro_trg', trg_length, pg.rect, 1), \n",
    "                pg.p('iq_ro', ro_dac_length, pg.rect, ro_amplitude)]\n",
    "    \n",
    "    pg.set_seq(sequence)\n",
    "    awg_tek.run()\n",
    "measurement = sweep.sweep(adc_reducer, (delays, set_delay, 'delay'), filename='Decay')\n",
    "\n",
    "measurement_fitted, fitted_parameters = fitting.S21pm_fit(measurement, fitting.exp_fit)\n",
    "#save_pkl.save_pkl({'type':'Decay'}, measurement_fitted)\n",
    "annotation = 'Decay: {0:4.6g} s'.format(fitted_parameters['decay'])\n",
    "save_pkl.save_pkl({'type':'Decay', 'name': 'qubit {} paramp {}'.format(qubit_id, 'on' if lo_amp.get_status() else 'off')}, measurement_fitted, annotation=annotation)"
   ]
  },
  {
   "cell_type": "code",
   "execution_count": null,
   "metadata": {
    "collapsed": true
   },
   "outputs": [],
   "source": [
    "annotation = 'Decay: {0:4.6g} s'.format(fitted_parameters['decay'])\n",
    "save_pkl.save_pkl({'type':'Decay'}, measurement_fitted, annotation=annotation)"
   ]
  },
  {
   "cell_type": "markdown",
   "metadata": {},
   "source": [
    "### Rabi amplitude oscillations"
   ]
  },
  {
   "cell_type": "code",
   "execution_count": 66,
   "metadata": {},
   "outputs": [
    {
     "data": {
      "application/vnd.jupyter.widget-view+json": {
       "model_id": "5870bba1b3f84825be8d749af40225a8",
       "version_major": 2,
       "version_minor": 0
      },
      "text/plain": [
       "A Jupyter Widget"
      ]
     },
     "metadata": {},
     "output_type": "display_data"
    },
    {
     "name": "stdout",
     "output_type": "stream",
     "text": [
      "Started at:  Mar 12 2018 22:57:00\n"
     ]
    },
    {
     "name": "stderr",
     "output_type": "stream",
     "text": [
      "C:\\ProgramData\\Anaconda3\\lib\\site-packages\\matplotlib\\cbook\\deprecation.py:106: MatplotlibDeprecationWarning: Adding an axes using the same arguments as a previous axes currently reuses the earlier instance.  In a future version, a new instance will always be created and returned.  Meanwhile, this warning can be suppressed, and the future behavior ensured, by passing a unique label to each axes instance.\n",
      "  warnings.warn(message, mplDeprecation, stacklevel=1)\n",
      "D:\\qtlab_replacement\\instruments\\Tektronix_AWG5014.py:648: ComplexWarning: Casting complex values to real discards the imaginary part\n",
      "  m1[:] = marker[:len(m1)]\n"
     ]
    },
    {
     "name": "stdout",
     "output_type": "stream",
     "text": [
      "\n",
      "Elapsed time: 0 h 1 m 1.35 s\n"
     ]
    }
   ],
   "source": [
    "ex_amps = np.linspace(0.75,1.0,21)\n",
    "pause_length = 32e-9\n",
    "pi2_length = 16e-9\n",
    "sigma = 4e-9\n",
    "num_pulses = 16\n",
    "readout_begin = np.max((pi2_length+pause_length)*num_pulses)\n",
    "def set_ex_amp(amp):\n",
    "    awg_tek.set_nop(awg_tek.get_clock()/rep_rate)\n",
    "    \n",
    "    sequence = [pg.p('iq_ex', pi2_length, pg.gauss_hd,  amp, 0, sigma,0)]*num_pulses+\\\n",
    "               [pg.p('ro_trg', trg_length, pg.rect, 1), \n",
    "                pg.p('iq_ro', ro_dac_length, pg.rect, ro_amplitude)]\n",
    "    #print(sequence)\n",
    "    pg.set_seq(sequence)\n",
    "    \n",
    "    awg_tek.run()\n",
    "measurement = sweep.sweep(adc_reducer, (ex_amps, set_ex_amp, 'Rabi pulse amplitude'), filename='Rabi')"
   ]
  },
  {
   "cell_type": "markdown",
   "metadata": {},
   "source": [
    "### gaussian $\\pi/2$ pulse amplitudes"
   ]
  },
  {
   "cell_type": "code",
   "execution_count": 66,
   "metadata": {
    "collapsed": true
   },
   "outputs": [],
   "source": [
    "#amp_x=0.554\n",
    "#amp_y=0.554\n",
    "#sigma = 2e-9\n",
    "#amp_x=0.29\n",
    "#amp_y=0.29\n",
    "amp_x = 0.90\n",
    "length = 16e-9\n",
    "pause_length = 0e-9\n",
    "sigma = 4e-9\n",
    "amp_x_hd = 0.89\n",
    "length_hd = 16e-9\n",
    "sigma_hd = 4e-9\n",
    "pause_length_hd = 8e-9\n",
    "alpha_hd = -0.92e-9"
   ]
  },
  {
   "cell_type": "markdown",
   "metadata": {},
   "source": [
    "### Ramsey with gauss pulses"
   ]
  },
  {
   "cell_type": "code",
   "execution_count": null,
   "metadata": {
    "collapsed": true,
    "scrolled": true
   },
   "outputs": [],
   "source": [
    "delays = np.linspace(0e-9, 2000e-9, 201)\n",
    "target_freq_offset = 20e6\n",
    "\n",
    "def set_delay(delay):\n",
    "    sequence = [pg.p(None, readout_begin-length),\n",
    "                pg.p('iq_ex', pi2_pulse, pg.gauss_hd, sigma, ex_amplitude, 0), \n",
    "                pg.p(None, delay), \n",
    "                pg.p('iq_ex', pi2_pulse, pg.gauss_hd, sigma, ex_amplitude*np.exp(1j*delay*target_freq_offset*2*np.pi), 0), \n",
    "                pg.p(None, delay), \n",
    "                pg.p('ro_trg', trg_length, pg.rect, 1), \n",
    "                pg.p('iq_ro', ro_dac_length, pg.rect, ro_amplitude)]\n",
    "    \n",
    "    pg.set_seq(sequence)\n",
    "    awg_tek.run()\n",
    "measurement = sweep.sweep(adc_reducer, (delays, set_delay, 'Ramsey delay'), filename='Ramsey')\n",
    "measurement_fitted, fitted_parameters = fitting.S21pm_fit(measurement, fitting.exp_sin_fit)\n",
    "annotation = 'Phase: {0:4.4g} rad, Freq: {1:4.4g}, Decay: {2:4.4g} s'.format(fitted_parameters['phase'], \n",
    "                                                                             fitted_parameters['freq'], \n",
    "                                                                             fitted_parameters['decay'])\n",
    "save_pkl.save_pkl({'type':'Ramsey'}, measurement_fitted, annotation=annotation)"
   ]
  },
  {
   "cell_type": "markdown",
   "metadata": {},
   "source": [
    "# Optimizing readout pulse settings"
   ]
  },
  {
   "cell_type": "code",
   "execution_count": 68,
   "metadata": {
    "collapsed": true,
    "scrolled": true
   },
   "outputs": [],
   "source": [
    "#ex_calib_seq = [pg.p('iq_ex', length, pg.gauss_hd, amp_x, 0, sigma), pg.p(None, pause_length)]*2\n",
    "ex_calib_seq = [pg.p('iq_ex', 18e-9, pg.rect, 0.2), pg.p(None, pause_length)]\n",
    "ro_seq = [pg.p('ro_trg', trg_length, pg.rect, 1), pg.p('iq_ro', ro_dac_length, pg.rect, ro_amplitude)]\n",
    "adc_sz = tomography_new.sz_measurer(adc, ex_calib_seq, ro_seq, pg)\n",
    "adc_sz.save_last_samples = True\n",
    "#adc_sz.dump_measured_samples = True\n",
    "adc.set_software_nums_multi(1)\n",
    "adc_sz.repeat_samples = 3\n",
    "\n",
    "def target_min():\n",
    "    F = 1-adc_sz.measure()['Calibrated ROC AUC']\n",
    "    print ('fidelity: ', 1-F)\n",
    "    return F\n",
    "\n",
    "class ro_pulse_generator:\n",
    "    def __init__(self, adc_sz, ro_amplitude, ro_dac_length):\n",
    "        self.ro_amplitude = ro_amplitude\n",
    "        self.ro_dac_length = ro_dac_length\n",
    "        self.adc_sz = adc_sz\n",
    "    def set_ro_freq(self, ro_freq):\n",
    "        iq_ro.set_uncal_frequency(ro_freq)\n",
    "        self.make_ro_seq()\n",
    "    def set_paramp_pump_freq(self, pump_freq):\n",
    "        lo_amp.set_frequency(pump_freq)\n",
    "    def set_paramp_pump_power(self, pump_power):\n",
    "        lo_amp.set_power(pump_power)\n",
    "    def set_paramp_bias_current(self, paramp_bias):\n",
    "        current_src2.set_current(paramp_bias)\n",
    "    def make_ro_seq(self):\n",
    "        adc_sz.ro_seq = [pg.p('ro_trg', trg_length, pg.rect, 1), pg.p('iq_ro', self.ro_dac_length, pg.rect, self.ro_amplitude)]\n",
    "    def set_ro_length(self, ro_dac_length):\n",
    "        self.ro_dac_length = ro_dac_length\n",
    "        self.make_ro_seq()\n",
    "        adc_sz.measurement_name = 'ro_dac_length {0}ns ro_dac_amiltude {1:4.2f}'.format(int(self.ro_dac_length*1e9), self.ro_amplitude)\n",
    "    def set_ro_amplitude(self, ro_amplitude):\n",
    "        self.ro_amplitude = ro_amplitude\n",
    "        self.make_ro_seq()\n",
    "        adc_sz.measurement_name = 'ro_dac_length {0}ns ro_dac_amiltude {1:4.2f}'.format(int(self.ro_dac_length*1e9), self.ro_amplitude)\n",
    "\n",
    "ro_dac_lengths = np.linspace(0.05e-6,1.0e-6,20)\n",
    "ro_dac_amplitudes = np.linspace(0.05,1.0,20)\n",
    "\n",
    "ro_pulse_generator_inst = ro_pulse_generator(adc_sz, ro_amplitude, ro_dac_length)\n",
    "#solution, score = sweep.optimize(target_min, (ro_pulse_generator_inst.set_ro_length, 3e-8), \n",
    "#                                             (ro_pulse_generator_inst.set_ro_amplitude, 0.9), maxfun=30)\n",
    "#ro_dac_length = solution[0]\n",
    "#ro_dac_amplitude = solution[1]\n",
    "#"
   ]
  },
  {
   "cell_type": "code",
   "execution_count": 69,
   "metadata": {},
   "outputs": [
    {
     "data": {
      "application/vnd.jupyter.widget-view+json": {
       "model_id": "b120ecdbde694ffb83a6c113dfc4f036",
       "version_major": 2,
       "version_minor": 0
      },
      "text/plain": [
       "A Jupyter Widget"
      ]
     },
     "metadata": {},
     "output_type": "display_data"
    },
    {
     "name": "stdout",
     "output_type": "stream",
     "text": [
      "Started at:  Mar 15 2018 10:10:45\n"
     ]
    },
    {
     "name": "stderr",
     "output_type": "stream",
     "text": [
      "D:\\qtlab_replacement\\instruments\\Tektronix_AWG5014.py:648: ComplexWarning: Casting complex values to real discards the imaginary part\n",
      "  m1[:] = marker[:len(m1)]\n",
      "D:\\qtlab_replacement\\scripts\\tomography.py:161: RuntimeWarning: invalid value encountered in true_divide\n",
      "  probabilities = hists/hist_all\n"
     ]
    },
    {
     "name": "stdout",
     "output_type": "stream",
     "text": [
      "\n",
      "Elapsed time: 2 h 0 m 9.45 s\n"
     ]
    },
    {
     "data": {
      "text/plain": [
       "{'Calibrated ROC AUC': (('Readout pulse length', 'Readout pulse amplitude'),\n",
       "  (array([  5.00000000e-08,   1.00000000e-07,   1.50000000e-07,\n",
       "            2.00000000e-07,   2.50000000e-07,   3.00000000e-07,\n",
       "            3.50000000e-07,   4.00000000e-07,   4.50000000e-07,\n",
       "            5.00000000e-07,   5.50000000e-07,   6.00000000e-07,\n",
       "            6.50000000e-07,   7.00000000e-07,   7.50000000e-07,\n",
       "            8.00000000e-07,   8.50000000e-07,   9.00000000e-07,\n",
       "            9.50000000e-07,   1.00000000e-06]),\n",
       "   array([ 0.05,  0.1 ,  0.15,  0.2 ,  0.25,  0.3 ,  0.35,  0.4 ,  0.45,\n",
       "           0.5 ,  0.55,  0.6 ,  0.65,  0.7 ,  0.75,  0.8 ,  0.85,  0.9 ,\n",
       "           0.95,  1.  ])),\n",
       "  array([[ 0.52699311,  0.53452878,  0.53401103,  0.5297891 ,  0.52709771,\n",
       "           0.52730338,  0.53458911,  0.53588833,  0.53606356,  0.52730867,\n",
       "           0.52787118,  0.5275055 ,  0.53628036,  0.53239458,  0.53108679,\n",
       "           0.53369728,  0.5328141 ,  0.53410775,  0.52765889,  0.52730719],\n",
       "         [ 0.53119304,  0.5322049 ,  0.52926794,  0.53445675,  0.52867022,\n",
       "           0.5301029 ,  0.52974468,  0.528788  ,  0.53616197,  0.52828158,\n",
       "           0.52745104,  0.53625507,  0.52990928,  0.53056946,  0.52885903,\n",
       "           0.53054439,  0.52838025,  0.53507201,  0.52948996,  0.53680053],\n",
       "         [ 0.53005064,  0.53230547,  0.53651886,  0.53423621,  0.53042553,\n",
       "           0.53414764,  0.53482483,  0.52485868,  0.53185117,  0.52824646,\n",
       "           0.53499706,  0.53339283,  0.53782778,  0.52894838,  0.52995874,\n",
       "           0.53391894,  0.53323154,  0.52702811,  0.52906458,  0.53349172],\n",
       "         [ 0.537031  ,  0.53544153,  0.53608408,  0.53232543,  0.52935546,\n",
       "           0.53401363,  0.52877706,  0.53241594,  0.53442764,  0.53774935,\n",
       "           0.52599722,  0.53258233,  0.53453956,  0.53430853,  0.52653028,\n",
       "           0.53744121,  0.52710225,  0.53576953,  0.54218071,  0.55551818],\n",
       "         [ 0.53674582,  0.53499919,  0.53182969,  0.53056783,  0.52794615,\n",
       "           0.53573683,  0.53251646,  0.52934922,  0.53432575,  0.53074799,\n",
       "           0.53344643,  0.53575982,  0.53027393,  0.534665  ,  0.52901954,\n",
       "           0.53762115,  0.54970046,  0.5486691 ,  0.55734763,  0.58046339],\n",
       "         [ 0.53333082,  0.53039153,  0.53089344,  0.53419939,  0.53116794,\n",
       "           0.53139721,  0.52944086,  0.53520822,  0.52723711,  0.53413093,\n",
       "           0.53859225,  0.52689321,  0.53427161,  0.53347843,  0.54363442,\n",
       "           0.55678981,  0.55765503,  0.58158017,  0.55994708,  0.57142053],\n",
       "         [ 0.53443378,  0.53396449,  0.52658437,  0.53283742,  0.51925047,\n",
       "           0.52989492,  0.52785599,  0.52958775,  0.53299656,  0.53111592,\n",
       "           0.52786297,  0.53683836,  0.53295099,  0.54629103,  0.55363135,\n",
       "           0.56181707,  0.56830257,  0.57368178,  0.56515258,  0.57132306],\n",
       "         [ 0.53625181,  0.52958432,  0.53452079,  0.53218436,  0.53055272,\n",
       "           0.52848776,  0.52979643,  0.52938235,  0.53179711,  0.52936242,\n",
       "           0.52994367,  0.53432147,  0.53894322,  0.53943136,  0.57187136,\n",
       "           0.57932376,  0.57664831,  0.57968779,  0.57975156,  0.56727625],\n",
       "         [ 0.53718687,  0.53731454,  0.53454489,  0.53016849,  0.53553125,\n",
       "           0.52499864,  0.537152  ,  0.53036549,  0.52842556,  0.52548178,\n",
       "           0.53565433,  0.52396932,  0.54896557,  0.54921425,  0.5848756 ,\n",
       "           0.57929113,  0.56865458,  0.57841692,  0.57526657,  0.560707  ],\n",
       "         [ 0.53045254,  0.53474329,  0.53155611,  0.53445194,  0.53147671,\n",
       "           0.53524096,  0.53377983,  0.52343519,  0.53098387,  0.54354706,\n",
       "           0.52877126,  0.53932147,  0.55919311,  0.56911985,  0.58943578,\n",
       "           0.57539786,  0.56452104,  0.57497656,  0.57745771,  0.56500092],\n",
       "         [ 0.52491047,  0.5295695 ,  0.53402983,  0.54144756,  0.53394925,\n",
       "           0.53218369,  0.52522747,  0.52364385,  0.53789203,  0.52900381,\n",
       "           0.53003614,  0.54086678,  0.56039533,  0.57548001,  0.59536738,\n",
       "           0.57676808,  0.56647806,  0.57326171,  0.57655164,  0.5701744 ],\n",
       "         [ 0.5326601 ,  0.52235714,  0.53620489,  0.53651461,  0.53469608,\n",
       "           0.52744492,  0.53069989,  0.53370206,  0.52830981,  0.52828818,\n",
       "           0.53364332,  0.54564115,  0.56293089,  0.58054685,  0.58760267,\n",
       "           0.57682497,  0.56240729,  0.58397901,  0.57114368,  0.56957657],\n",
       "         [ 0.53370597,  0.53247108,  0.52812786,  0.53211192,  0.52901594,\n",
       "           0.52607767,  0.52870561,  0.53400501,  0.53305867,  0.52953503,\n",
       "           0.53909542,  0.54454832,  0.56496133,  0.58952453,  0.5864576 ,\n",
       "           0.57379586,  0.57023383,  0.573743  ,  0.57457986,  0.55915929],\n",
       "         [ 0.53733526,  0.53598182,  0.52289706,  0.52438768,  0.53668046,\n",
       "           0.52908911,  0.52704506,  0.52530444,  0.5338141 ,  0.53043301,\n",
       "           0.53428757,  0.55304036,  0.58070203,  0.58022733,  0.58555339,\n",
       "           0.55420563,  0.57487508,  0.5795755 ,  0.57035611,  0.56864171],\n",
       "         [ 0.53651244,  0.52818156,  0.53260932,  0.53393268,  0.52433124,\n",
       "           0.53181913,  0.53181512,  0.52645397,  0.53330381,  0.54094068,\n",
       "           0.54365953,  0.55164181,  0.58072089,  0.59082044,  0.5886186 ,\n",
       "           0.57273686,  0.57007658,  0.57428849,  0.56658244,  0.57007242],\n",
       "         [ 0.52755682,  0.53043661,  0.53234831,  0.52611656,  0.52743807,\n",
       "           0.52785911,  0.53615199,  0.52849701,  0.53301928,  0.53035728,\n",
       "           0.53365517,  0.55424897,  0.5713884 ,  0.58877025,  0.59533779,\n",
       "           0.58022988,  0.57027519,  0.57991774,  0.5788634 ,  0.56376197],\n",
       "         [ 0.53755586,  0.52842422,  0.53816944,  0.53601847,  0.53531246,\n",
       "           0.52446058,  0.53699276,  0.53580242,  0.53865217,  0.53859583,\n",
       "           0.53877936,  0.55687994,  0.57319453,  0.59929272,  0.59613317,\n",
       "           0.57682931,  0.56612061,  0.56331956,  0.55804663,  0.55578578],\n",
       "         [ 0.53256085,  0.53397958,  0.52957622,  0.5315304 ,  0.52646772,\n",
       "           0.53131361,  0.52860546,  0.53947451,  0.52877899,  0.52916208,\n",
       "           0.54246393,  0.56261658,  0.58510969,  0.58122714,  0.585526  ,\n",
       "           0.56621278,  0.58769086,  0.57425911,  0.56997675,  0.56693831],\n",
       "         [ 0.5397184 ,  0.52558296,  0.5304694 ,  0.52963603,  0.53393124,\n",
       "           0.53007567,  0.5289715 ,  0.53173897,  0.53448839,  0.53576144,\n",
       "           0.54277776,  0.56837864,  0.58437925,  0.59468276,  0.57653792,\n",
       "           0.57030229,  0.56683479,  0.56495386,  0.57030204,  0.56828078],\n",
       "         [ 0.53380761,  0.52692119,  0.52991003,  0.53452786,  0.53090282,\n",
       "           0.52743054,  0.53150406,  0.52974629,  0.53591536,  0.5376455 ,\n",
       "           0.55203467,  0.5521385 ,  0.58190517,  0.60643536,  0.58106039,\n",
       "           0.57321508,  0.56692071,  0.57419746,  0.56305322,  0.56448922]]),\n",
       "  {'log': False},\n",
       "  ('', '')),\n",
       " 'Calibrated fidelity': (('Readout pulse length', 'Readout pulse amplitude'),\n",
       "  (array([  5.00000000e-08,   1.00000000e-07,   1.50000000e-07,\n",
       "            2.00000000e-07,   2.50000000e-07,   3.00000000e-07,\n",
       "            3.50000000e-07,   4.00000000e-07,   4.50000000e-07,\n",
       "            5.00000000e-07,   5.50000000e-07,   6.00000000e-07,\n",
       "            6.50000000e-07,   7.00000000e-07,   7.50000000e-07,\n",
       "            8.00000000e-07,   8.50000000e-07,   9.00000000e-07,\n",
       "            9.50000000e-07,   1.00000000e-06]),\n",
       "   array([ 0.05,  0.1 ,  0.15,  0.2 ,  0.25,  0.3 ,  0.35,  0.4 ,  0.45,\n",
       "           0.5 ,  0.55,  0.6 ,  0.65,  0.7 ,  0.75,  0.8 ,  0.85,  0.9 ,\n",
       "           0.95,  1.  ])),\n",
       "  array([[ 0.49799913,  0.51499739,  0.51032291,  0.51285048,  0.52212847,\n",
       "           0.5034644 ,  0.4985792 ,  0.47829224,  0.53100481,  0.49861996,\n",
       "           0.4874607 ,  0.50647024,  0.46568355,  0.52528997,  0.52293736,\n",
       "           0.48857365,  0.49166971,  0.51930868,  0.50658029,  0.5015278 ],\n",
       "         [ 0.50258335,  0.51284594,  0.48999262,  0.51232657,  0.52099753,\n",
       "           0.51210554,  0.49546546,  0.5083806 ,  0.51561969,  0.49825067,\n",
       "           0.49173026,  0.47748255,  0.47706016,  0.4868196 ,  0.50495401,\n",
       "           0.51875747,  0.50611062,  0.51117175,  0.51213276,  0.52145845],\n",
       "         [ 0.49749936,  0.49693525,  0.50748278,  0.49897731,  0.49783646,\n",
       "           0.49723081,  0.52122722,  0.49527483,  0.51565712,  0.49343205,\n",
       "           0.50685799,  0.50366689,  0.51995776,  0.49865955,  0.49987966,\n",
       "           0.50969571,  0.53214639,  0.48766941,  0.51410775,  0.53551372],\n",
       "         [ 0.4783418 ,  0.49298355,  0.51945248,  0.51132723,  0.50733063,\n",
       "           0.51440527,  0.53005634,  0.51049451,  0.5069373 ,  0.46616641,\n",
       "           0.51342155,  0.52593482,  0.50307125,  0.50839148,  0.51445649,\n",
       "           0.5133078 ,  0.50608898,  0.48531892,  0.5086392 ,  0.4904981 ],\n",
       "         [ 0.50051999,  0.48381348,  0.49484519,  0.46710508,  0.52284092,\n",
       "           0.48620161,  0.48106952,  0.52155982,  0.5363539 ,  0.51158303,\n",
       "           0.46837622,  0.50557542,  0.47675349,  0.50667079,  0.50219961,\n",
       "           0.47742929,  0.49366636,  0.49568909,  0.51306521,  0.50861477],\n",
       "         [ 0.50207558,  0.50297961,  0.49945027,  0.47255864,  0.5137867 ,\n",
       "           0.50369968,  0.51253614,  0.48137108,  0.50247022,  0.51150438,\n",
       "           0.55243483,  0.50020954,  0.4651104 ,  0.51197396,  0.51946563,\n",
       "           0.49047891,  0.49546585,  0.49888555,  0.50753532,  0.48953502],\n",
       "         [ 0.48343735,  0.49912386,  0.49906225,  0.52957745,  0.49160633,\n",
       "           0.50559955,  0.50276906,  0.51077134,  0.51767301,  0.48313615,\n",
       "           0.49931404,  0.51716305,  0.51292298,  0.48427675,  0.5059707 ,\n",
       "           0.47475036,  0.49197219,  0.50382553,  0.49902408,  0.48657767],\n",
       "         [ 0.53483861,  0.4795198 ,  0.49544853,  0.48828084,  0.50071533,\n",
       "           0.47215146,  0.50736087,  0.46893756,  0.50993346,  0.50350111,\n",
       "           0.50884682,  0.48251095,  0.51302196,  0.48940414,  0.50614848,\n",
       "           0.4940934 ,  0.50356674,  0.50982399,  0.49652111,  0.50528565],\n",
       "         [ 0.50268109,  0.47609584,  0.51080009,  0.47033377,  0.5335723 ,\n",
       "           0.4896711 ,  0.50586612,  0.49198837,  0.50327438,  0.5010366 ,\n",
       "           0.49984604,  0.49296899,  0.498408  ,  0.50007325,  0.47569061,\n",
       "           0.50675068,  0.50898464,  0.52318713,  0.50379587,  0.49827639],\n",
       "         [ 0.52731581,  0.51663337,  0.50637391,  0.53031468,  0.51892486,\n",
       "           0.48698873,  0.49675447,  0.48548184,  0.49992382,  0.47536386,\n",
       "           0.52541792,  0.4986826 ,  0.49257498,  0.48261411,  0.48578454,\n",
       "           0.4894613 ,  0.48316067,  0.49924137,  0.47963048,  0.492339  ],\n",
       "         [ 0.4968052 ,  0.5199414 ,  0.50601584,  0.45634909,  0.49284375,\n",
       "           0.50683756,  0.50998164,  0.49434448,  0.51147074,  0.51319986,\n",
       "           0.45691429,  0.48477185,  0.48312906,  0.49537387,  0.50287515,\n",
       "           0.48855868,  0.50110846,  0.50867017,  0.49922873,  0.49043606],\n",
       "         [ 0.47410262,  0.4839298 ,  0.49108646,  0.53144238,  0.49844531,\n",
       "           0.51641588,  0.51395541,  0.5216049 ,  0.48775658,  0.49933503,\n",
       "           0.48360207,  0.52202428,  0.48359238,  0.48667421,  0.47735077,\n",
       "           0.49305775,  0.51416029,  0.48259511,  0.4909708 ,  0.48015372],\n",
       "         [ 0.4850132 ,  0.50163743,  0.49666689,  0.46515943,  0.48084251,\n",
       "           0.48003097,  0.51577661,  0.52110496,  0.50361377,  0.49096101,\n",
       "           0.49180072,  0.47976976,  0.47998205,  0.49924982,  0.47635063,\n",
       "           0.50340566,  0.49929223,  0.48600385,  0.49811734,  0.47650895],\n",
       "         [ 0.46420111,  0.48572711,  0.50119478,  0.50341533,  0.49272082,\n",
       "           0.49793899,  0.50753012,  0.5164045 ,  0.49582357,  0.51239404,\n",
       "           0.52052103,  0.48140198,  0.48462757,  0.49124569,  0.47530052,\n",
       "           0.50230119,  0.49552879,  0.49433895,  0.48755196,  0.47777217],\n",
       "         [ 0.48890712,  0.50670434,  0.49582642,  0.52005599,  0.49603335,\n",
       "           0.53237094,  0.50684167,  0.51959228,  0.48453368,  0.5079544 ,\n",
       "           0.48309239,  0.48287392,  0.49395779,  0.49490148,  0.5137676 ,\n",
       "           0.49165457,  0.48012884,  0.477473  ,  0.49004957,  0.50816391],\n",
       "         [ 0.48850611,  0.5067207 ,  0.48629669,  0.48468458,  0.50576289,\n",
       "           0.49299867,  0.5059003 ,  0.49813018,  0.50058009,  0.5093635 ,\n",
       "           0.50721777,  0.48132257,  0.50059855,  0.50007363,  0.46684519,\n",
       "           0.48265698,  0.47532437,  0.49965179,  0.50047916,  0.52522962],\n",
       "         [ 0.52143726,  0.49991998,  0.47562695,  0.47033424,  0.47623121,\n",
       "           0.49693395,  0.48437555,  0.45547597,  0.53465152,  0.5085331 ,\n",
       "           0.4997502 ,  0.48682235,  0.47357988,  0.48105262,  0.49591003,\n",
       "           0.48450918,  0.49742049,  0.49601448,  0.49383638,  0.48668533],\n",
       "         [ 0.53030467,  0.5527575 ,  0.5043055 ,  0.49383351,  0.48743122,\n",
       "           0.51451833,  0.51435419,  0.47170437,  0.50966049,  0.51205435,\n",
       "           0.49196058,  0.5003117 ,  0.47435802,  0.48837978,  0.486051  ,\n",
       "           0.48584197,  0.4944501 ,  0.51694205,  0.48934676,  0.50547423],\n",
       "         [ 0.45098475,  0.49784881,  0.49023509,  0.51493091,  0.50928236,\n",
       "           0.4953243 ,  0.4729511 ,  0.4805248 ,  0.49214863,  0.51883124,\n",
       "           0.49452612,  0.48992365,  0.5006999 ,  0.4851911 ,  0.48014781,\n",
       "           0.51126576,  0.50118395,  0.51657823,  0.49537607,  0.49620155],\n",
       "         [ 0.49452334,  0.49243835,  0.44037927,  0.4981355 ,  0.44952945,\n",
       "           0.51783787,  0.53326707,  0.4885221 ,  0.48507469,  0.49899086,\n",
       "           0.47870416,  0.47241903,  0.47082804,  0.47938505,  0.49630053,\n",
       "           0.50071169,  0.49756132,  0.48788713,  0.47481289,  0.4825053 ]]),\n",
       "  {'log': False},\n",
       "  ('', ''))}"
      ]
     },
     "execution_count": 69,
     "metadata": {},
     "output_type": "execute_result"
    }
   ],
   "source": [
    "sweep.sweep(adc_sz, (ro_dac_lengths, ro_pulse_generator_inst.set_ro_length, 'Readout pulse length'), \n",
    "                    (ro_dac_amplitudes, ro_pulse_generator_inst.set_ro_amplitude, 'Readout pulse amplitude'), filename='Readout fidelity with paramp')"
   ]
  },
  {
   "cell_type": "markdown",
   "metadata": {},
   "source": [
    "## Optimizing readout pulse length, amplitude, frequency, paramteric amplifier pump and bias"
   ]
  },
  {
   "cell_type": "code",
   "execution_count": 37,
   "metadata": {},
   "outputs": [
    {
     "name": "stdout",
     "output_type": "stream",
     "text": [
      "[7e-07, 0.5, 6676000000.0, 13148000000.0, 13.72, 0.000154]\n"
     ]
    },
    {
     "name": "stderr",
     "output_type": "stream",
     "text": [
      "D:\\qtlab_replacement\\instruments\\Tektronix_AWG5014.py:648: ComplexWarning: Casting complex values to real discards the imaginary part\n",
      "  m1[:] = marker[:len(m1)]\n"
     ]
    },
    {
     "name": "stdout",
     "output_type": "stream",
     "text": [
      "fidelity:  0.603438763889\n",
      "[  7.00000000e-07   5.00000000e-01   6.67600000e+09   1.31480000e+10\n",
      "   1.37200000e+01   1.54000000e-04] 0.396561236111\n"
     ]
    },
    {
     "name": "stderr",
     "output_type": "stream",
     "text": [
      "D:\\qtlab_replacement\\scripts\\tomography.py:161: RuntimeWarning: invalid value encountered in true_divide\n",
      "  probabilities = hists/hist_all\n"
     ]
    },
    {
     "name": "stdout",
     "output_type": "stream",
     "text": [
      "fidelity:  0.603106472222\n",
      "[  7.50000000e-07   5.00000000e-01   6.67600000e+09   1.31480000e+10\n",
      "   1.37200000e+01   1.54000000e-04] 0.396893527778\n",
      "fidelity:  0.605609833333\n",
      "[  7.00000000e-07   5.50000000e-01   6.67600000e+09   1.31480000e+10\n",
      "   1.37200000e+01   1.54000000e-04] 0.394390166667\n",
      "fidelity:  0.613757319444\n",
      "[  7.00000000e-07   5.00000000e-01   6.67650000e+09   1.31480000e+10\n",
      "   1.37200000e+01   1.54000000e-04] 0.386242680556\n",
      "fidelity:  0.593607722222\n",
      "[  7.00000000e-07   5.00000000e-01   6.67600000e+09   1.31510000e+10\n",
      "   1.37200000e+01   1.54000000e-04] 0.406392277778\n",
      "fidelity:  0.612476111111\n",
      "[  7.00000000e-07   5.00000000e-01   6.67600000e+09   1.31480000e+10\n",
      "   1.37800000e+01   1.54000000e-04] 0.387523888889\n",
      "fidelity:  0.592678569444\n",
      "[  7.00000000e-07   5.00000000e-01   6.67600000e+09   1.31480000e+10\n",
      "   1.37200000e+01   1.84000000e-04] 0.407321430556\n",
      "fidelity:  0.604455277778\n",
      "[  7.16666667e-07   5.16666667e-01   6.67616667e+09   1.31490000e+10\n",
      "   1.37400000e+01   1.24000000e-04] 0.395544722222\n",
      "fidelity:  0.59615925\n",
      "[  7.22222222e-07   5.22222222e-01   6.67622222e+09   1.31453333e+10\n",
      "   1.37466667e+01   1.44000000e-04] 0.40384075\n",
      "fidelity:  0.607538375\n",
      "[  7.16666667e-07   5.16666667e-01   6.67616667e+09   1.31467500e+10\n",
      "   1.37400000e+01   1.46500000e-04] 0.392461625\n",
      "fidelity:  0.614598361111\n",
      "[  6.61111111e-07   5.27777778e-01   6.67627778e+09   1.31479167e+10\n",
      "   1.37533333e+01   1.41500000e-04] 0.385401638889\n",
      "fidelity:  0.615617944444\n",
      "[  6.16666667e-07   5.41666667e-01   6.67641667e+09   1.31478750e+10\n",
      "   1.37700000e+01   1.35250000e-04] 0.384382055556\n",
      "fidelity:  0.613277111111\n",
      "[  6.83333333e-07   5.41666667e-01   6.67641667e+09   1.31478750e+10\n",
      "   1.37700000e+01   1.35250000e-04] 0.386722888889\n",
      "fidelity:  0.613596375\n",
      "[  6.55555556e-07   5.33333333e-01   6.67633333e+09   1.31465000e+10\n",
      "   1.37600000e+01   1.69000000e-04] 0.386403625\n",
      "fidelity:  0.625157972222\n",
      "[  6.57407407e-07   4.94444444e-01   6.67661111e+09   1.31470000e+10\n",
      "   1.37933333e+01   1.44000000e-04] 0.374842027778\n",
      "fidelity:  0.611144236111\n",
      "[  6.36111111e-07   4.66666667e-01   6.67691667e+09   1.31465000e+10\n",
      "   1.38300000e+01   1.39000000e-04] 0.388855763889\n",
      "fidelity:  0.611027236111\n",
      "[  6.20987654e-07   5.20370370e-01   6.67659259e+09   1.31483333e+10\n",
      "   1.37911111e+01   1.50666667e-04] 0.388972763889\n",
      "fidelity:  0.625537486111\n",
      "[  6.44907407e-07   5.19444444e-01   6.67648611e+09   1.31479375e+10\n",
      "   1.37783333e+01   1.49625000e-04] 0.374462513889\n",
      "fidelity:  0.629994180556\n",
      "[  6.19290123e-07   5.43518519e-01   6.67692130e+09   1.31470625e+10\n",
      "   1.37505556e+01   1.41708333e-04] 0.370005819444\n",
      "fidelity:  0.610699236111\n",
      "[  5.78935185e-07   5.65277778e-01   6.67738194e+09   1.31465938e+10\n",
      "   1.37358333e+01   1.35562500e-04] 0.389300763889\n",
      "fidelity:  0.638717555556\n",
      "[  6.14609053e-07   5.02469136e-01   6.67667284e+09   1.31469167e+10\n",
      "   1.37540741e+01   1.62611111e-04] 0.361282444444\n",
      "fidelity:  0.626853541667\n",
      "[  5.80246914e-07   4.82870370e-01   6.67680093e+09   1.31464375e+10\n",
      "   1.37461111e+01   1.76291667e-04] 0.373146458333\n",
      "fidelity:  0.635127722222\n",
      "[  6.28737997e-07   5.00514403e-01   6.67686934e+09   1.31484306e+10\n",
      "   1.37620988e+01   1.26731481e-04] 0.364872277778\n",
      "fidelity:  0.624138708333\n",
      "[  5.60539552e-07   5.34019204e-01   6.67682579e+09   1.31470741e+10\n",
      "   1.38161317e+01   1.32641975e-04] 0.375861291667\n",
      "fidelity:  0.62580375\n",
      "[  6.25163847e-07   4.89803384e-01   6.67704550e+09   1.31469321e+10\n",
      "   1.37815089e+01   1.50522634e-04] 0.37419625\n",
      "fidelity:  0.634748416667\n",
      "[  7.02832393e-07   4.82712239e-01   6.67670961e+09   1.31476857e+10\n",
      "   1.37238363e+01   1.59090878e-04] 0.365251583333\n",
      "fidelity:  0.630843222222\n",
      "[  6.21106200e-07   5.18376264e-01   6.67695712e+09   1.31479883e+10\n",
      "   1.37234690e+01   1.52763146e-04] 0.369156777778\n",
      "fidelity:  0.609670041667\n",
      "[  6.25672464e-07   4.93020204e-01   6.67723912e+09   1.31470678e+10\n",
      "   1.37201809e+01   1.48184194e-04] 0.390329958333\n",
      "fidelity:  0.62512125\n",
      "[  6.40098672e-07   5.12838384e-01   6.67667436e+09   1.31477201e+10\n",
      "   1.37637952e+01   1.49264799e-04] 0.37487875\n",
      "fidelity:  0.631759458333\n",
      "[  6.21673525e-07   5.01491770e-01   6.67677109e+09   1.31476736e+10\n",
      "   1.37580864e+01   1.44671296e-04] 0.368240541667\n",
      "fidelity:  0.625207055556\n",
      "[  6.58720723e-07   4.92590687e-01   6.67669122e+09   1.31473012e+10\n",
      "   1.37389552e+01   1.60850995e-04] 0.374792944444\n",
      "fidelity:  0.635759277778\n",
      "[  6.17857627e-07   5.10422700e-01   6.67681498e+09   1.31474525e+10\n",
      "   1.37387715e+01   1.57687128e-04] 0.364240722222\n",
      "fidelity:  0.628047527778\n",
      "[  6.16949588e-07   5.22993827e-01   6.67679707e+09   1.31469896e+10\n",
      "   1.37523148e+01   1.52159722e-04] 0.371952472222\n",
      "fidelity:  0.636812166667\n",
      "[  6.19886450e-07   4.96136260e-01   6.67685917e+09   1.31469244e+10\n",
      "   1.37677915e+01   1.56566872e-04] 0.363187833333\n",
      "fidelity:  0.613036180556\n",
      "[  6.29758230e-07   5.10956790e-01   6.67657948e+09   1.31474271e+10\n",
      "   1.37662037e+01   1.56118056e-04] 0.386963819444\n",
      "fidelity:  0.630740055556\n",
      "[  6.20140759e-07   4.97744670e-01   6.67695598e+09   1.31469922e+10\n",
      "   1.37371275e+01   1.55397653e-04] 0.369259944444\n",
      "fidelity:  0.631934180556\n",
      "[  5.78318278e-07   5.17828767e-01   6.67693248e+09   1.31470151e+10\n",
      "   1.37637667e+01   1.48846933e-04] 0.368065819444\n",
      "fidelity:  0.623264555556\n",
      "[  6.07212309e-07   4.85703940e-01   6.67687178e+09   1.31473353e+10\n",
      "   1.37542244e+01   1.56433943e-04] 0.376735444444\n",
      "fidelity:  0.643712944444\n",
      "[  6.14515269e-07   5.13671355e-01   6.67681575e+09   1.31470760e+10\n",
      "   1.37527922e+01   1.53228277e-04] 0.356287055556\n",
      "fidelity:  0.644752416667\n",
      "[  6.02145975e-07   5.16261993e-01   6.67666612e+09   1.31473605e+10\n",
      "   1.37746334e+01   1.52472887e-04] 0.355247583333\n",
      "fidelity:  0.616959527778\n",
      "[  5.93148583e-07   5.25520654e-01   6.67652119e+09   1.31475447e+10\n",
      "   1.37933863e+01   1.51010504e-04] 0.383040472222\n",
      "fidelity:  0.645956361111\n",
      "[  5.94104025e-07   5.17438300e-01   6.67681602e+09   1.31465748e+10\n",
      "   1.37591901e+01   1.65799774e-04] 0.354043638889\n",
      "fidelity:  0.619539972222\n",
      "[  5.80319275e-07   5.25411566e-01   6.67683849e+09   1.31460254e+10\n",
      "   1.37597419e+01   1.76364012e-04] 0.380460027778\n",
      "fidelity:  0.630049680556\n",
      "[  6.42721189e-07   5.00971148e-01   6.67661581e+09   1.31470865e+10\n",
      "   1.37519842e+01   1.67275083e-04] 0.369950319444\n",
      "fidelity:  0.641065180556\n",
      "[  5.94419005e-07   5.13614362e-01   6.67685332e+09   1.31470330e+10\n",
      "   1.37608211e+01   1.53453971e-04] 0.358934819444\n",
      "fidelity:  0.634831277778\n",
      "[  5.95368966e-07   5.09441102e-01   6.67674609e+09   1.31465093e+10\n",
      "   1.37843292e+01   1.57023836e-04] 0.365168722222\n",
      "fidelity:  0.636527194444\n",
      "[  6.12235462e-07   5.10177300e-01   6.67679776e+09   1.31472167e+10\n",
      "   1.37501610e+01   1.57521305e-04] 0.363472805556\n",
      "fidelity:  0.631375375\n",
      "[  6.00991131e-07   5.09686502e-01   6.67676331e+09   1.31467451e+10\n",
      "   1.37729398e+01   1.57189659e-04] 0.368624625\n",
      "fidelity:  0.638341513889\n",
      "[  6.09424379e-07   5.10054601e-01   6.67678915e+09   1.31470988e+10\n",
      "   1.37558557e+01   1.57438394e-04] 0.361658486111\n",
      "fidelity:  0.617530611111\n",
      "[  5.89852785e-07   5.28366989e-01   6.67667856e+09   1.31470955e+10\n",
      "   1.37513307e+01   1.58434599e-04] 0.382469388889\n",
      "fidelity:  0.624813111111\n",
      "[  6.12378034e-07   5.04193942e-01   6.67681402e+09   1.31469672e+10\n",
      "   1.37636763e+01   1.57033804e-04] 0.375186888889\n",
      "fidelity:  0.632391861111\n",
      "[  5.98125000e-07   5.16850146e-01   6.67674107e+09   1.31469677e+10\n",
      "   1.37669117e+01   1.59136330e-04] 0.367608138889\n",
      "fidelity:  0.632125166667\n",
      "[  6.04309647e-07   5.15554828e-01   6.67681588e+09   1.31468254e+10\n",
      "   1.37559911e+01   1.59514025e-04] 0.367874833333\n",
      "fidelity:  0.642684055556\n",
      "[  5.94261515e-07   5.15526331e-01   6.67683467e+09   1.31468039e+10\n",
      "   1.37600056e+01   1.59626872e-04] 0.357315944444\n",
      "fidelity:  0.633044763889\n",
      "[  6.04356539e-07   5.09953718e-01   6.67674443e+09   1.31467457e+10\n",
      "   1.37566321e+01   1.64205442e-04] 0.366955236111\n",
      "fidelity:  0.644354555556\n",
      "[  6.01764202e-07   5.13746451e-01   6.67680258e+09   1.31468368e+10\n",
      "   1.37575229e+01   1.61619084e-04] 0.355645444444\n",
      "fidelity:  0.635079291667\n",
      "[  6.06995238e-07   5.06787280e-01   6.67683760e+09   1.31467496e+10\n",
      "   1.37634908e+01   1.61183323e-04] 0.364920708333\n",
      "Warning: Maximum number of function evaluations has been exceeded.\n"
     ]
    },
    {
     "name": "stdout",
     "output_type": "stream",
     "text": [
      "fidelity:  0.638903402778\n",
      "[  5.94104025e-07   5.17438300e-01   6.67681602e+09   1.31465748e+10\n",
      "   1.37591901e+01   1.65799774e-04] 0.361096597222\n"
     ]
    }
   ],
   "source": [
    "p0 = [700e-9, 0.5, iq_ro.get_frequency(), lo_amp.get_frequency(), lo_amp.get_power(), current_src2.get_current()]\n",
    "dp = [50e-9, 0.05, 0.5e6, 3e6, 0.06, 3e-5]\n",
    "\n",
    "initial_simplex = [p0]+[[p0[i]+(dp[i] if i == j else 0) for i in range(len(dp))] for j in range(len(dp))]\n",
    "\n",
    "solution, score = sweep.optimize(target_min, (ro_pulse_generator_inst.set_ro_length, 700e-9), \n",
    "                                             (ro_pulse_generator_inst.set_ro_amplitude, 0.5),\n",
    "                                             (ro_pulse_generator_inst.set_ro_freq, iq_ro.get_frequency()),\n",
    "                                             (ro_pulse_generator_inst.set_paramp_pump_freq, lo_amp.get_frequency()),\n",
    "                                             (ro_pulse_generator_inst.set_paramp_pump_power, lo_amp.get_power()),\n",
    "                                             (ro_pulse_generator_inst.set_paramp_bias_current, current_src2.get_current()),\n",
    "                                             initial_simplex=initial_simplex,\n",
    "                                             maxfun=50)"
   ]
  },
  {
   "cell_type": "markdown",
   "metadata": {},
   "source": [
    "### |0> & |1> readout calibration"
   ]
  },
  {
   "cell_type": "code",
   "execution_count": 64,
   "metadata": {},
   "outputs": [
    {
     "data": {
      "text/plain": [
       "True"
      ]
     },
     "execution_count": 64,
     "metadata": {},
     "output_type": "execute_result"
    }
   ],
   "source": [
    "lo_amp.get_status()"
   ]
  },
  {
   "cell_type": "code",
   "execution_count": 32,
   "metadata": {},
   "outputs": [
    {
     "data": {
      "text/plain": [
       "<module 'save_pkl' from 'D:\\\\qtlab_replacement\\\\scripts\\\\save_pkl.py'>"
      ]
     },
     "execution_count": 32,
     "metadata": {},
     "output_type": "execute_result"
    }
   ],
   "source": [
    "imp.reload(tomography_new)\n",
    "imp.reload(awg_iq)\n",
    "imp.reload(save_pkl)"
   ]
  },
  {
   "cell_type": "code",
   "execution_count": 39,
   "metadata": {
    "scrolled": true
   },
   "outputs": [
    {
     "name": "stderr",
     "output_type": "stream",
     "text": [
      "D:\\qtlab_replacement\\instruments\\Tektronix_AWG5014.py:648: ComplexWarning: Casting complex values to real discards the imaginary part\n",
      "  m1[:] = marker[:len(m1)]\n",
      "C:\\ProgramData\\Anaconda3\\lib\\site-packages\\numpy\\core\\numeric.py:531: ComplexWarning: Casting complex values to real discards the imaginary part\n",
      "  return array(a, dtype, copy=False, order=order)\n"
     ]
    },
    {
     "name": "stdout",
     "output_type": "stream",
     "text": [
      "Measured delay is 206 samples 24495 24908\n",
      "206\n",
      "{'Calibrated ROC AUC': 0.62200124999999995, 'Calibrated fidelity': 0.48002613313145692}\n"
     ]
    },
    {
     "name": "stderr",
     "output_type": "stream",
     "text": [
      "D:\\qtlab_replacement\\scripts\\tomography.py:161: RuntimeWarning: invalid value encountered in true_divide\n",
      "  probabilities = hists/hist_all\n"
     ]
    }
   ],
   "source": [
    "ro_dac_length = 600e-9\n",
    "ro_dac_amplitude = 0.517\n",
    "ro_delay_length = 10e-9\n",
    "ro_delay_amplitude = 1.\n",
    "#ex_calib_seq = [pg.p('iq_ex', length, pg.gauss_hd, amp_x, 0, sigma, alpha_hd), pg.p(None, pause_length)]*2\n",
    "ex_calib_seq = [pg.p('iq_ex', 59e-9, pg.rect, 0.5), pg.p(None, pause_length)]\n",
    "#ex_calib_seq = [pg.p('iq_ex', length, pg.gauss_hd, amp_x, 0, sigma)]*2\n",
    "#ro_seq = [pg.p('ro_trg', trg_length, pg.rect, 1), pg.p('iq_ro', ro_dac_length, pg.rect, ro_amplitude)]\n",
    "ro_seq = [pg.p('ro_trg', trg_length, pg.rect, 1), pg.p('iq_ro', ro_dac_length, pg.rect, ro_dac_amplitude)]\n",
    "ro_delay_seq = [pg.p('ro_trg', trg_length, pg.rect, 1), pg.p('iq_ro', ro_delay_length, pg.rect, ro_delay_amplitude)]\n",
    "adc_sz = tomography_new.sz_measurer(adc, ex_calib_seq, ro_seq, pg, ro_delay_seq = ro_delay_seq)\n",
    "adc_sz.save_last_samples = True\n",
    "adc_sz.repeat_samples = 1\n",
    "#adc.set_software_nums_multi(2)\n",
    "print(adc_sz.measure_delay('iq_ro'))\n",
    "print(adc_sz.measure())\n",
    "#sz_filter = adc_sz.calibrate()\n",
    "#print('ROC AUC:', adc_sz.calib_roc_auc, 'Fidelity:', adc_sz.calib_fidelity)\n",
    "#print('ROC AUC binary:', adc_sz.calib_roc_auc_binary, 'Fidelity binary:', adc_sz.calib_fidelity_binary) "
   ]
  },
  {
   "cell_type": "code",
   "execution_count": 62,
   "metadata": {
    "collapsed": true
   },
   "outputs": [],
   "source": [
    "adc_sz.dump_samples('ro_dac_length {0}ns ro_dac_amiltude {1:4.2f}'.format(int(ro_dac_length*1e9), ro_dac_amplitude))"
   ]
  },
  {
   "cell_type": "code",
   "execution_count": 25,
   "metadata": {
    "collapsed": true
   },
   "outputs": [],
   "source": [
    "adc.stop()"
   ]
  },
  {
   "cell_type": "code",
   "execution_count": 38,
   "metadata": {},
   "outputs": [
    {
     "data": {
      "text/plain": [
       "<matplotlib.colorbar.Colorbar at 0x1d70a00f320>"
      ]
     },
     "execution_count": 38,
     "metadata": {},
     "output_type": "execute_result"
    }
   ],
   "source": [
    "plt.figure()\n",
    "plt.pcolormesh(np.real(adc_sz.samples[0,:,:]), vmin=15, vmax=25); plt.colorbar()\n",
    "plt.figure()\n",
    "plt.pcolormesh(np.real(adc_sz.samples[1,:,:]), vmin=15, vmax=25); plt.colorbar()"
   ]
  },
  {
   "cell_type": "code",
   "execution_count": 40,
   "metadata": {
    "scrolled": true
   },
   "outputs": [
    {
     "data": {
      "text/plain": [
       "([array([   1.,    0.,    6.,   21.,   56.,  146.,  230.,  310.,  346.,\n",
       "          321.,  244.,  150.,   89.,   49.,   19.,    5.,    4.,    3.,\n",
       "            0.,    0.]),\n",
       "  array([   1.,    0.,    4.,   21.,   45.,   85.,  161.,  212.,  274.,\n",
       "          282.,  262.,  212.,  173.,  107.,   68.,   52.,   25.,    8.,\n",
       "            5.,    3.])],\n",
       " array([-8.33532408, -7.43468491, -6.53404574, -5.63340657, -4.73276741,\n",
       "        -3.83212824, -2.93148907, -2.03084991, -1.13021074, -0.22957157,\n",
       "         0.6710676 ,  1.57170676,  2.47234593,  3.3729851 ,  4.27362426,\n",
       "         5.17426343,  6.0749026 ,  6.97554177,  7.87618093,  8.7768201 ,\n",
       "         9.67745927]),\n",
       " <a list of 2 Lists of Patches objects>)"
      ]
     },
     "execution_count": 40,
     "metadata": {},
     "output_type": "execute_result"
    }
   ],
   "source": [
    "plt.hist(adc_sz.calib_pred.T, bins=20)"
   ]
  },
  {
   "cell_type": "code",
   "execution_count": null,
   "metadata": {
    "collapsed": true
   },
   "outputs": [],
   "source": [
    "#plt.scatter(np.real(adc_sz.calib_usl_pred[0,:]), np.imag(adc_sz.calib_usl_pred[0,:]), color='r', s=1)\n",
    "#plt.scatter(np.real(adc_sz.calib_usl_pred[1,:]), np.imag(adc_sz.calib_usl_pred[1,:]), color='b', s=1)\n",
    "#plt.figure()\n",
    "#plt.hist(adc_sz.calib_pred.T, bins=20)\n",
    "plt.figure()\n",
    "#plt.hist(np.real(adc_sz.calib_usl_pred.T), bins=20)\n",
    "plt.plot(np.real(adc_sz.calib_bg-np.mean(adc_sz.calib_bg)))\n",
    "plt.plot(np.imag(adc_sz.calib_bg-np.mean(adc_sz.calib_bg)))\n",
    "plt.plot(np.real(adc_sz.calib_feature))\n",
    "plt.plot(np.imag(adc_sz.calib_feature))"
   ]
  },
  {
   "cell_type": "markdown",
   "metadata": {},
   "source": [
    "### Tomography"
   ]
  },
  {
   "cell_type": "code",
   "execution_count": null,
   "metadata": {
    "collapsed": true
   },
   "outputs": [],
   "source": [
    "observables = { 'X': 0.5*np.asarray([[0, 1],   [1, 0]]),\n",
    "                'Y': 0.5*np.asarray([[0, -1j],   [1j, 0]]),\n",
    "                '-X': 0.5*np.asarray([[0, -1],   [-1, 0]]),\n",
    "                '-Y': 0.5*np.asarray([[0, 1j],   [-1j, 0]]),\n",
    "                'Z': 0.5*np.asarray([[1, 0],   [0, -1]])}\n",
    "proj_seq = {'Xo':{'pulses': [pg.p('iq_ex', length, pg.gauss_hd, 0, -amp_x, sigma, alpha_hd), pg.p(None, pause_length)]+ro_seq, \n",
    "                 'operator': observables['X']},\n",
    "            'Yo':{'pulses': [pg.p('iq_ex', length, pg.gauss_hd, amp_x, 0, sigma, alpha_hd), pg.p(None, pause_length)]+ro_seq,\n",
    "                 'operator': observables['Y']},\n",
    "            '-Xo':{'pulses':[pg.p('iq_ex', length, pg.gauss_hd, 0, amp_x, sigma, alpha_hd), pg.p(None, pause_length)]+ro_seq,\n",
    "                 'operator': observables['-X']},\n",
    "            '-Yo':{'pulses':[pg.p('iq_ex', length, pg.gauss_hd, -amp_x, 0, sigma, alpha_hd), pg.p(None, pause_length)]+ro_seq,\n",
    "                 'operator': observables['-Y']},\n",
    "            'Zo': {'pulses':ro_seq, 'operator':observables['Z']} }\n",
    "reconstruction_basis={'x':{'operator':observables['X']},\n",
    "                      'y':{'operator':observables['Y']},\n",
    "                      'z':{'operator':observables['Z']}}\n",
    "tomo = tomography_new.tomography(adc_sz, pg, proj_seq, reconstruction_basis=reconstruction_basis)"
   ]
  },
  {
   "cell_type": "code",
   "execution_count": null,
   "metadata": {
    "collapsed": true
   },
   "outputs": [],
   "source": [
    "proj_seq = {'Z': {'pulses':ro_seq, 'operator':observables['Z']}}\n",
    "tomoz = tomography_new.tomography(adc_sz, pg, proj_seq)"
   ]
  },
  {
   "cell_type": "code",
   "execution_count": null,
   "metadata": {
    "collapsed": true
   },
   "outputs": [],
   "source": [
    "## tomography of |0> state\n",
    "adc.set_software_nums_multi(20)\n",
    "tomo.set_prepare_seq([])\n",
    "tomo.measure()"
   ]
  },
  {
   "cell_type": "code",
   "execution_count": null,
   "metadata": {
    "collapsed": true
   },
   "outputs": [],
   "source": [
    "## tomography of |1> state\n",
    "tomo.set_prepare_seq([pg.p('iq_ex', length, pg.gauss_hd, 0, -amp_x, sigma, alpha_hd), pg.p(None, pause_length)]*2)\n",
    "tomo.measure()"
   ]
  },
  {
   "cell_type": "code",
   "execution_count": null,
   "metadata": {
    "collapsed": true
   },
   "outputs": [],
   "source": [
    "## tomography of |1> state\n",
    "tomo.set_prepare_seq([pg.p('iq_ex', length, pg.gauss_hd, 0, -amp_x, sigma, alpha_hd), pg.p(None, pause_length)]+\n",
    "                     [pg.p('iq_ex', length, pg.gauss_hd, 0, -amp_x, sigma, alpha_hd), pg.p(None, pause_length),\n",
    "                     pg.p('iq_ex', length, pg.gauss_hd, 0, amp_x, sigma, alpha_hd), pg.p(None, pause_length)]*10)\n",
    "tomo.measure()"
   ]
  },
  {
   "cell_type": "code",
   "execution_count": null,
   "metadata": {
    "collapsed": true
   },
   "outputs": [],
   "source": [
    "## tomography of |1> state\n",
    "tomo.set_prepare_seq([pg.p('iq_ex', length, pg.gauss_hd, 0, -amp_x, sigma, -0.92e-9), pg.p(None, pause_length)]+\n",
    "                     [pg.p('iq_ex', length, pg.gauss_hd, 0, -amp_x, sigma, -0.92e-9), pg.p(None, pause_length),\n",
    "                     pg.p('iq_ex', length, pg.gauss_hd, 0, amp_x, sigma, -0.92e-9), pg.p(None, pause_length)]*10)\n",
    "tomo.measure()"
   ]
  },
  {
   "cell_type": "code",
   "execution_count": null,
   "metadata": {
    "collapsed": true
   },
   "outputs": [],
   "source": [
    "## tomography of |0>+|1> state\n",
    "tomo.set_prepare_seq([pg.p('iq_ex', length, pg.gauss_hd, 0, -amp_x, sigma), pg.p(None, pause_length)])\n",
    "tomo.measure()"
   ]
  },
  {
   "cell_type": "code",
   "execution_count": null,
   "metadata": {
    "collapsed": true
   },
   "outputs": [],
   "source": [
    "## tomography of |0>-|1> state\n",
    "tomo.set_prepare_seq([pg.p('iq_ex', length, pg.gauss_hd, 0, 1j*amp_x, sigma), pg.p(None, pause_length)])\n",
    "tomo.measure()"
   ]
  },
  {
   "cell_type": "code",
   "execution_count": null,
   "metadata": {
    "collapsed": true
   },
   "outputs": [],
   "source": [
    "## tomography of -|0>-|1> state\n",
    "tomo.set_prepare_seq([pg.p('iq_ex', length, pg.gauss_hd, 0, -amp_x, sigma), pg.p(None, pause_length)])\n",
    "tomo.measure()"
   ]
  },
  {
   "cell_type": "code",
   "execution_count": null,
   "metadata": {
    "collapsed": true
   },
   "outputs": [],
   "source": [
    "## tomography of -|0>+|1> state\n",
    "tomo.set_prepare_seq([pg.p('iq_ex', length, pg.gauss_hd, 0, -1j*amp_x, sigma), pg.p(None, pause_length)])\n",
    "tomo.measure()"
   ]
  },
  {
   "cell_type": "markdown",
   "metadata": {},
   "source": [
    "# Randomized benchmarking"
   ]
  },
  {
   "cell_type": "code",
   "execution_count": null,
   "metadata": {
    "collapsed": true
   },
   "outputs": [],
   "source": [
    "import interleaved_benchmarking\n",
    "imp.reload(interleaved_benchmarking)\n",
    "\n",
    "bench = interleaved_benchmarking.interleaved_benchmarking(tomo)\n",
    "\n",
    "unitaries = {0:np.sqrt(0.5)*np.asarray([[1, -1j],  [-1j, 1]]),\\\n",
    "             1:np.sqrt(0.5)*np.asarray([[1, -1],    [1, 1]]),\\\n",
    "             2:np.sqrt(0.5)*np.asarray([[1, 1j],   [1j, 1]]),\\\n",
    "             3:np.sqrt(0.5)*np.asarray([[1, 1],   [-1, 1]])}\n",
    "bench.interleavers = {'X': {'pulses':[pg.p('iq_ex', length, pg.gauss_hd, -amp_x, 0, sigma, alpha_hd), pg.p(None, pause_length)],\n",
    "                            'unitary': np.sqrt(0.5)*np.asarray([[1, -1j],  [-1j, 1]])},\n",
    "                      'Y': {'pulses':[pg.p('iq_ex', length, pg.gauss_hd, 1j*amp_x, 0, sigma, alpha_hd), pg.p(None, pause_length)],\n",
    "                            'unitary': np.sqrt(0.5)*np.asarray([[1, -1],    [1, 1]])},\n",
    "                      '-X':{'pulses':[pg.p('iq_ex', length, pg.gauss_hd, amp_x, 0, sigma, alpha_hd), pg.p(None, pause_length)],\n",
    "                            'unitary': np.sqrt(0.5)*np.asarray([[1, 1j],   [1j, 1]])},\n",
    "                      '-Y':{'pulses':[pg.p('iq_ex', length, pg.gauss_hd, -1j*amp_x, 0, sigma, alpha_hd), pg.p(None, pause_length)],\n",
    "                            'unitary': np.sqrt(0.5)*np.asarray([[1, 1],   [-1, 1]])},\n",
    "                      'I':{'pulses':[], 'unitary':np.asarray([[1, 0], [0,1]])}}\n",
    "bench.sequence_length = 10\n",
    "bench.random_sequence_num = 6\n",
    "bench.prepare_random_interleaving_sequences()\n",
    "#bench.generate_interleaver_sequence_from_names()"
   ]
  },
  {
   "cell_type": "code",
   "execution_count": null,
   "metadata": {
    "collapsed": true
   },
   "outputs": [],
   "source": [
    "seq_lengths = np.arange(101)\n",
    "sweep.sweep(bench, (seq_lengths, bench.set_sequence_length_and_regenerate, 'Gate number'))"
   ]
  },
  {
   "cell_type": "code",
   "execution_count": null,
   "metadata": {
    "collapsed": true
   },
   "outputs": [],
   "source": [
    "bench.target_gate = bench.interleavers['X']['pulses']\n",
    "bench.target_gate_unitary = bench.interleavers['X']['unitary']\n",
    "bench.target_gate_name = 'X (benchmarking)'\n",
    "tfunc = lambda : np.mean(bench.measure()['Euclidean distance'])\n",
    "class hd_pulse_generator:\n",
    "    def __init__(self, pulse_setter, pg, channel):\n",
    "        self.amp_x = -amp_x_hd\n",
    "        self.amp_y = amp_x_hd\n",
    "        self.sigma = sigma_hd\n",
    "        self.length = length_hd\n",
    "        self.pause_length = pause_length_hd\n",
    "        self.alpha = alpha_hd\n",
    "        \n",
    "        self.pg = pg\n",
    "        self.channel = channel\n",
    "        self.pulse = self.pulse_gen()\n",
    "        self.pulse_setter = pulse_setter\n",
    "    def set_real_amplitude(self,x):\n",
    "        self.amp_x = x\n",
    "        self.pulse_setter(self.pulse_gen())\n",
    "    def set_imag_amplitude(self,y):\n",
    "        self.amp_y = y\n",
    "        self.pulse_setter(self.pulse_gen())\n",
    "    def set_sigma(self,s):\n",
    "        self.sigma = s\n",
    "        self.pulse_setter(self.pulse_gen())\n",
    "    def set_length(self,l):\n",
    "        self.length = l\n",
    "        self.pulse_setter(self.pulse_gen())\n",
    "    def set_pause_length(self, p):\n",
    "        self.pause_length = p\n",
    "        self.pulse_setter(self.pulse_gen())\n",
    "    def set_alpha(self, a):\n",
    "        self.alpha = a\n",
    "        self.pulse_setter(self.pulse_gen())\n",
    "    def pulse_gen(self):\n",
    "        return [pg.p(self.channel, self.length, self.pg.gauss_hd, self.amp_x+1j*self.amp_y, 0, self.sigma, self.alpha), pg.p(None, self.pause_length)]\n",
    "    \n",
    "xg = hd_pulse_generator(bench.set_target_pulse, pg, 'iq_ex')"
   ]
  },
  {
   "cell_type": "code",
   "execution_count": null,
   "metadata": {
    "collapsed": true
   },
   "outputs": [],
   "source": [
    "sol, score = sweep.optimize(tfunc,  (xg.set_real_amplitude, xg.amp_x), \n",
    "                                    (xg.set_imag_amplitude, xg.amp_y),\n",
    "                                    (xg.set_alpha, xg.alpha))"
   ]
  },
  {
   "cell_type": "code",
   "execution_count": null,
   "metadata": {
    "collapsed": true
   },
   "outputs": [],
   "source": [
    "amps = np.linspace(0.925, 0.975, 21)\n",
    "alphas = np.linspace(-2e-9, 2e-9, 11)\n",
    "sweep.sweep(bench, (amps, xg.set_real_amplitude, 'Amplitude'), (alphas, xg.set_alpha, 'HD DRAG coeff'), filename='Randomized interleaved benchmarging X-rotation')"
   ]
  },
  {
   "cell_type": "code",
   "execution_count": null,
   "metadata": {
    "collapsed": true
   },
   "outputs": [],
   "source": [
    "data = save_pkl.load_pkl('Euclidean distance Randomized interleaved benchmarging X-rotation', 'D:\\\\qtlab\\\\ReiData\\\\data\\\\2017-07-02\\\\23-03-34')\n",
    "plt.figure()\n",
    "plt.pcolormesh(data[1]['Euclidean distance'][1][1], data[1]['Euclidean distance'][1][0], data[1]['Euclidean distance'][2][:,:,5])\n",
    "plt.colorbar()"
   ]
  },
  {
   "cell_type": "code",
   "execution_count": null,
   "metadata": {
    "collapsed": true
   },
   "outputs": [],
   "source": [
    "data[1]"
   ]
  },
  {
   "cell_type": "code",
   "execution_count": null,
   "metadata": {
    "collapsed": true
   },
   "outputs": [],
   "source": [
    "data[1]['Euclidean distance']"
   ]
  },
  {
   "cell_type": "code",
   "execution_count": null,
   "metadata": {
    "collapsed": true
   },
   "outputs": [],
   "source": [
    "meas = bench.measure()"
   ]
  },
  {
   "cell_type": "code",
   "execution_count": null,
   "metadata": {
    "collapsed": true
   },
   "outputs": [],
   "source": [
    "meas['Xo']"
   ]
  },
  {
   "cell_type": "code",
   "execution_count": null,
   "metadata": {
    "collapsed": true
   },
   "outputs": [],
   "source": [
    "import plotting\n",
    "imp.reload(plotting)\n",
    "plotting.plot_measurement(bench.reference_benchmark_result)"
   ]
  },
  {
   "cell_type": "markdown",
   "metadata": {},
   "source": [
    "# Optimizing Drag"
   ]
  },
  {
   "cell_type": "code",
   "execution_count": null,
   "metadata": {
    "collapsed": true
   },
   "outputs": [],
   "source": [
    "num_interleved_pulses = 2\n",
    "alphas = np.linspace(-1e-8, 1e-8, 201)\n",
    "def set_drag (alpha):\n",
    "    ramsey_half = [pg.p('iq_ex', length_hd, pg.gauss_hd, amp_x_hd, 0, sigma_hd, alpha), \n",
    "                 pg.p(None, pause_length_hd)]\n",
    "    interleaved_identity = [pg.p('iq_ex', length_hd, pg.gauss_hd, -amp_x_hd, 0, sigma_hd, alpha), \n",
    "                           pg.p(None, pause_length_hd),\n",
    "                           pg.p('iq_ex', length_hd, pg.gauss_hd, amp_x_hd, 0, sigma_hd, alpha), \n",
    "                           pg.p(None, pause_length_hd)]\n",
    "    tomo.set_prepare_seq(ramsey_half+interleaved_identity*num_interleved_pulses+ramsey_half)\n",
    "    \n",
    "measurement = sweep.sweep(tomo, (alphas, set_drag, 'delta_freq'), filename='DRAG', output=False)"
   ]
  },
  {
   "cell_type": "markdown",
   "metadata": {},
   "source": [
    "### Randomized Benchmarking"
   ]
  },
  {
   "cell_type": "code",
   "execution_count": null,
   "metadata": {
    "collapsed": true
   },
   "outputs": [],
   "source": [
    "pause_pulse = tomography.pause(pause_length, awg_channels)\n",
    "pulses = {0:tomography.ex_gauss_hd(amp_x_hd, amp_y_hd, length_hd, sigma_hd, awg_channels, -200e6/np.pi),\n",
    "          1:tomography.ex_gauss_hd(amp_y_hd, -amp_x_hd, length_hd, sigma_hd, awg_channels, -200e6/np.pi),\n",
    "          2:tomography.ex_gauss_hd(-amp_x_hd, -amp_y_hd, length_hd, sigma_hd, awg_channels, -200e6/np.pi),\n",
    "          3:tomography.ex_gauss_hd(-amp_y_hd, amp_x_hd, length_hd, sigma_hd, awg_channels, -200e6/np.pi)}\n",
    "\n",
    "unitaries = {0:np.sqrt(0.5)*np.asarray([[1, -1j],  [-1j, 1]]),\\\n",
    "             1:np.sqrt(0.5)*np.asarray([[1, -1],    [1, 1]]),\\\n",
    "             2:np.sqrt(0.5)*np.asarray([[1, 1j],   [1j, 1]]),\\\n",
    "             3:np.sqrt(0.5)*np.asarray([[1, 1],   [-1, 1]])}\n",
    "\n",
    "observables = { 'X': 0.5*np.asarray([[0, 1],   [1, 0]]),\n",
    "                'Y': 0.5*np.asarray([[0, -1j],   [1j, 0]]),\n",
    "                '-X': 0.5*np.asarray([[0, -1],   [-1, 0]]),\n",
    "                '-Y': 0.5*np.asarray([[0, 1j],   [-1j, 0]]),\n",
    "                'Z': 0.5*np.asarray([[1, 0],   [0, -1]])}\n",
    "\n",
    "initial = np.asarray([0, 1]).T\n",
    "random_pulse_ids = np.arange(20)\n",
    "num_gates = np.linspace(0, 100, 11)\n",
    "\n",
    "sequences = []\n",
    "pulse_sequences = []\n",
    "theor_projs = {o:np.zeros((len(num_gates), len(random_pulse_ids))) for o in observables.keys()}\n",
    "rho_t = np.zeros((len(num_gates), len(random_pulse_ids),2,2), dtype=np.complex)\n",
    "psis = np.zeros((len(num_gates), len(random_pulse_ids),2), dtype=np.complex)\n",
    "n=0\n",
    "\n",
    "def set_num_gates(n_new):\n",
    "    global n\n",
    "    n = n_new\n",
    "\n",
    "def set_random_sequence(id):\n",
    "    sequence = np.random.randint (4, size = n).tolist()\n",
    "    sequence_pulses = [j for i in [[pulses[i], pause_pulse] for i in sequence] for j in i]\n",
    "    sequence_unitaries = [unitaries[i] for i in sequence]\n",
    "    psi = initial.copy()\n",
    "    \n",
    "    for U in sequence_unitaries:\n",
    "        psi = np.dot(U, psi)\n",
    "    \n",
    "    rho_t[n,id,:,:] = np.einsum('i,j->ij', np.conj(psi), psi)\n",
    "    psis[n,id,:] = psi\n",
    "    \n",
    "    sequences.append(sequence)\n",
    "    for o in observables.keys():\n",
    "        theor_projs[o][n,id] = np.dot(np.dot(np.conj(psi), observables[o]), psi)\n",
    "    \n",
    "    tomo_hd.set_prepare_seq(sequence_pulses)\n",
    "    pulse_sequences.append(sequence_pulses)\n",
    "    \n",
    "m = sweep.sweep(tomo_hd, (num_gates, set_num_gates, 'gate num'), (random_pulse_ids, set_random_sequence, 'random seq id'), filename='RB', output=False)\n",
    "X = (m['X'][2]-m['-X'][2])/2.\n",
    "Y = (m['Y'][2]-m['-Y'][2])/2.\n",
    "Z = m['Z'][2]\n",
    "rho_m = np.transpose([[0.5+Z, X+1j*Y], [X-1j*Y, 0.5-Z]], [2,3,0,1])\n",
    "fidelities = np.sqrt(np.einsum('nmi,nmji,nmj->nm', np.conj(psis), rho_m, psis))\n",
    "\n",
    "m['Fidelity'] = [d for d in m['X']]\n",
    "m['Fidelity'][2] = np.asarray(fidelities, dtype=np.float)\n",
    "for o,O in observables.items():\n",
    "    m[o+' fit'] = [d for d in m[o]]\n",
    "    m[o+' fit'][2] = np.asarray(theor_projs[o], dtype=np.float)\n",
    "#m['rho_t'] = m['X'].copy()\n",
    "save_pkl.save_pkl({'type':'Randomized benchmark Clifford'}, m)"
   ]
  },
  {
   "cell_type": "code",
   "execution_count": null,
   "metadata": {
    "collapsed": true
   },
   "outputs": [],
   "source": [
    "plt.plot(m['Fidelity'][1]m['Fidelity'])"
   ]
  },
  {
   "cell_type": "code",
   "execution_count": null,
   "metadata": {
    "collapsed": true
   },
   "outputs": [],
   "source": [
    "rho_m"
   ]
  },
  {
   "cell_type": "code",
   "execution_count": null,
   "metadata": {
    "collapsed": true
   },
   "outputs": [],
   "source": [
    "plt.plot(m['Fidelity'][1][0], np.mean(m['Fidelity'][2],axis=1))\n",
    "plt.xlabel('gate num')\n",
    "plt.ylabel('fidelity')\n",
    "plt.grid()"
   ]
  },
  {
   "cell_type": "code",
   "execution_count": null,
   "metadata": {
    "collapsed": true,
    "scrolled": true
   },
   "outputs": [],
   "source": [
    "rho_m = np.transpose([[0.5+Z, X+1j*Y], [X-1j*Y, 0.5-Z]], [2,3,0,1])\n",
    "fidelities = np.sqrt(np.einsum('mni,mnji,mnj->mn', np.conj(psis), rho_m, psis))\n",
    "\n",
    "m['Fidelity'] = [d for d in m['X']]\n",
    "m['Fidelity'][2] = np.asarray(fidelities, dtype=np.float)\n",
    "for o,O in observables.items():\n",
    "    m[o+' fit'] = [d for d in m[o]]\n",
    "    m[o+' fit'][2] = np.asarray(theor_projs[o], dtype=np.float)\n",
    "#m['rho_t'] = m['X'].copy()\n",
    "save_pkl.save_pkl({'type':'Randomized benchmark Clifford'}, m)"
   ]
  },
  {
   "cell_type": "code",
   "execution_count": null,
   "metadata": {
    "collapsed": true
   },
   "outputs": [],
   "source": [
    "m"
   ]
  },
  {
   "cell_type": "code",
   "execution_count": null,
   "metadata": {
    "collapsed": true
   },
   "outputs": [],
   "source": []
  },
  {
   "cell_type": "code",
   "execution_count": null,
   "metadata": {
    "collapsed": true
   },
   "outputs": [],
   "source": [
    "fidelities"
   ]
  },
  {
   "cell_type": "code",
   "execution_count": null,
   "metadata": {
    "collapsed": true
   },
   "outputs": [],
   "source": [
    "psis"
   ]
  },
  {
   "cell_type": "code",
   "execution_count": null,
   "metadata": {
    "collapsed": true
   },
   "outputs": [],
   "source": [
    "rho_m"
   ]
  },
  {
   "cell_type": "code",
   "execution_count": null,
   "metadata": {
    "collapsed": true
   },
   "outputs": [],
   "source": [
    "rho_t"
   ]
  },
  {
   "cell_type": "code",
   "execution_count": null,
   "metadata": {
    "collapsed": true
   },
   "outputs": [],
   "source": [
    "measurement['theory'] = thoer_proj\n",
    "save_pkl.save_pkl({'type':'Randomized benchmark Clifford'}, measurement)"
   ]
  },
  {
   "cell_type": "code",
   "execution_count": null,
   "metadata": {
    "collapsed": true
   },
   "outputs": [],
   "source": [
    "print(theor_projs)\n",
    "print(measurement)\n",
    "print(psis)\n",
    "print (sequences)\n",
    "print (rho_t)\n",
    "print (rho_m)"
   ]
  },
  {
   "cell_type": "code",
   "execution_count": null,
   "metadata": {
    "collapsed": true
   },
   "outputs": [],
   "source": [
    "np.dot(np.conj(psis[1]), np.dot(observables['Y'],psis[1]))"
   ]
  },
  {
   "cell_type": "code",
   "execution_count": null,
   "metadata": {
    "collapsed": true
   },
   "outputs": [],
   "source": [
    "num_pulses = np.round(np.arange(0, 41)).astype(np.int)\n",
    "\n",
    "def set_num_pulses(n):\n",
    "    tomoz.set_prepare_seq([tomography.ex_gauss(amp_x, length, sigma, awg_channels), \n",
    "                          tomography.pause(pause_length, awg_channels)]*n)\n",
    "\n",
    "measurement = sweep.sweep(tomoz, (num_pulses, set_num_pulses, 'SX pi2 pulse num'), filename='Rabi', output=False)"
   ]
  },
  {
   "cell_type": "code",
   "execution_count": null,
   "metadata": {
    "collapsed": true
   },
   "outputs": [],
   "source": [
    "num_pulses = np.round(np.arange(0, 21)).astype(np.int)\n",
    "\n",
    "def set_num_pulses(n):\n",
    "    tomo.set_prepare_seq([tomography.ex_gauss_hd(amp_x_hd, amp_y_hd, length_hd, sigma_hd, awg_channels, -200e6/np.pi), \n",
    "                          tomography.pause(pause_length, awg_channels)]*n)\n",
    "\n",
    "measurement = sweep.sweep(tomo, (num_pulses, set_num_pulses, 'SX pi2 pulse num'), filename='Rabi', output=False)"
   ]
  },
  {
   "cell_type": "code",
   "execution_count": null,
   "metadata": {
    "collapsed": true
   },
   "outputs": [],
   "source": [
    "num_pulses = np.round(np.arange(0, 21)).astype(np.int)\n",
    "\n",
    "def set_num_pulses(n):\n",
    "    tomo.set_prepare_seq([tomography.ex_gauss(amp_x_hd, length_hd, sigma_hd, awg_channels), \n",
    "                          tomography.pause(pause_length, awg_channels)]*n)\n",
    "\n",
    "measurement = sweep.sweep(tomo, (num_pulses, set_num_pulses, 'SX pi2 pulse num'), filename='Rabi', output=False)"
   ]
  },
  {
   "cell_type": "code",
   "execution_count": null,
   "metadata": {
    "collapsed": true
   },
   "outputs": [],
   "source": [
    "ex_amplitude=0.25\n",
    "lengths = np.linspace(0e-9, 200e-9, 51)\n",
    "readout_begin = np.max(lengths)\n",
    "\n",
    "def set_ex_length(length):\n",
    "    tomo.set_prepare_seq([tomography.ex_rect(ex_amplitude, length, awg_channels), tomography.pause(pause_length, awg_channels)])\n",
    "\n",
    "measurement = sweep.sweep(tomo, (lengths, set_ex_length, 'Rabi x-axis pulse length'), filename='Rabi', output=False)"
   ]
  },
  {
   "cell_type": "code",
   "execution_count": null,
   "metadata": {
    "collapsed": true
   },
   "outputs": [],
   "source": [
    "from mpl_toolkits.mplot3d import Axes3D\n",
    "fig = plt.figure()\n",
    "ax = fig.add_subplot(111, projection='3d')\n",
    "ax.plot(measurement ['X'][2], measurement ['Y'][2], measurement ['Z'][2], c='r', marker='o')\n",
    "ax.set_xlabel('X')\n",
    "ax.set_ylabel('Y')\n",
    "ax.set_zlabel('Z')\n",
    "ax.set_xlim([-0.6, 0.6])\n",
    "ax.set_ylim([-0.6, 0.6])\n",
    "ax.set_zlim([-0.6, 0.6])"
   ]
  },
  {
   "cell_type": "code",
   "execution_count": null,
   "metadata": {
    "collapsed": true
   },
   "outputs": [],
   "source": [
    "ex_amplitude = 0.25\n",
    "pause_length = 16e-9\n",
    "lengths = np.linspace(0e-9, 2000e-9, 2001)\n",
    "readout_begin = np.max(lengths)\n",
    "\n",
    "def set_ex_length(length):\n",
    "    tomo.set_prepare_seq([tomography.ex_rect(1j*ex_amplitude, length, awg_channels), tomography.pause(pause_length, awg_channels)])\n",
    "\n",
    "measurement = sweep.sweep(tomo, (lengths, set_ex_length, 'Rabi y-axis pulse length'), filename='Rabi', output=False)"
   ]
  },
  {
   "cell_type": "markdown",
   "metadata": {},
   "source": [
    "### Optimizing phase between x and y pulses"
   ]
  },
  {
   "cell_type": "code",
   "execution_count": null,
   "metadata": {
    "collapsed": true
   },
   "outputs": [],
   "source": [
    "c_phase = 0\n",
    "c_n = 0\n",
    "\n",
    "adc.set_software_averages(1)\n",
    "adc.set_software_nums_multi(3)\n",
    "\n",
    "def set_n(n):\n",
    "    global c_n\n",
    "    global c_phase\n",
    "    c_n = n \n",
    "    y_pulse = [tomography.ex_gauss_hd(amp_x_hd*np.exp(1j*c_phase), amp_y_hd*np.exp(1j*c_phase), length_hd, sigma_hd, awg_channels, -200e6), tomography.pause(pause_length, awg_channels)]\n",
    "    tomo.set_prepare_seq(y_pulse*c_n)\n",
    "\n",
    "def set_y_phase(phase):\n",
    "    global c_n\n",
    "    global c_phase\n",
    "    c_phase = phase\n",
    "    y_pulse = [tomography.ex_gauss_hd(amp_x_hd*np.exp(1j*c_phase), amp_y_hd*np.exp(1j*c_phase), length_hd, sigma_hd, awg_channels, -200e6), tomography.pause(pause_length, awg_channels)]\n",
    "    tomo.set_prepare_seq(y_pulse*c_n)\n",
    "\n",
    "phases = np.linspace(np.pi/2.*0.8, np.pi/2.*1.2, 11, endpoint=False)\n",
    "num_pulses = np.arange(0,5)\n",
    "measurement = sweep.sweep(tomo, (phases, set_y_phase, 'y-pulse phase'), (num_pulses, set_n, 'y pulse num'), filename='y-phase', output=False)"
   ]
  },
  {
   "cell_type": "code",
   "execution_count": null,
   "metadata": {
    "collapsed": true
   },
   "outputs": [],
   "source": [
    "phases[7]"
   ]
  },
  {
   "cell_type": "code",
   "execution_count": null,
   "metadata": {
    "collapsed": true
   },
   "outputs": [],
   "source": [
    "plt.plot(np.asarray(results).T)"
   ]
  },
  {
   "cell_type": "code",
   "execution_count": null,
   "metadata": {
    "collapsed": true
   },
   "outputs": [],
   "source": [
    "adc.stop()"
   ]
  },
  {
   "cell_type": "code",
   "execution_count": null,
   "metadata": {
    "collapsed": true
   },
   "outputs": [],
   "source": [
    "plt.close()"
   ]
  },
  {
   "cell_type": "markdown",
   "metadata": {
    "collapsed": true
   },
   "source": [
    "# load calibration data"
   ]
  },
  {
   "cell_type": "code",
   "execution_count": null,
   "metadata": {
    "collapsed": true
   },
   "outputs": [],
   "source": [
    "import pickle\n",
    "f0 = open('D:\\\\qtlab\\\\ReiData\\\\data\\\\2017-04-26\\\\13-11-46\\\\Voltage ro calibration.pkl', 'rb')\n",
    "f1 = open('D:\\\\qtlab\\\\ReiData\\\\data\\\\2017-04-26\\\\13-11-14\\\\Voltage ro calibration.pkl', 'rb')\n",
    "cal0 = pickle.load(f0)\n",
    "cal1 = pickle.load(f1)"
   ]
  },
  {
   "cell_type": "code",
   "execution_count": null,
   "metadata": {
    "collapsed": true
   },
   "outputs": [],
   "source": [
    "import numpy as np\n",
    "import matplotlib.pyplot as plt\n",
    "%matplotlib qt4\n",
    "cal0_nomean = cal0[1]['Voltage'][2][0,:,:]-np.mean(cal0[1]['Voltage'][2][0,:,:])\n",
    "cal1_nomean = cal0[1]['Voltage'][2][1,:,:]-np.mean(cal0[1]['Voltage'][2][1,:,:])\n",
    "\n",
    "cal0_mean = np.mean(cal0_nomean, axis=0)\n",
    "cal1_mean = np.mean(cal1_nomean, axis=0)"
   ]
  },
  {
   "cell_type": "code",
   "execution_count": null,
   "metadata": {
    "collapsed": true
   },
   "outputs": [],
   "source": [
    "cal_mean = (cal0_mean+cal1_mean)/2.\n",
    "cal_diff = (cal1_mean-cal0_mean)\n",
    "\n",
    "plt.figure('Samples')\n",
    "plt.plot(np.mean(cal0_nomean, axis=0), label='|0>')\n",
    "plt.plot(np.mean(cal1_nomean, axis=0), label='|1>')\n",
    "plt.legend()\n",
    "\n",
    "plt.figure('Offset & feature')\n",
    "plt.plot(cal_mean, label='mean')\n",
    "plt.plot(cal_diff, label='diff')\n",
    "plt.legend()"
   ]
  },
  {
   "cell_type": "code",
   "execution_count": null,
   "metadata": {
    "collapsed": true
   },
   "outputs": [],
   "source": [
    "plt.figure('Fourier domain')\n",
    "plt.plot(np.abs(np.fft.fft(cal0_mean)), label='|0>')\n",
    "plt.plot(np.abs(np.fft.fft(cal1_mean)), label='|1>') \n",
    "plt.plot(np.abs(np.fft.fft(cal_mean)), label='mean')\n",
    "plt.plot(np.abs(np.fft.fft(cal_diff)), label='diff')\n",
    "plt.legend()\n",
    "\n",
    "feature = np.conj(cal_diff/np.sum(np.abs(cal_diff**2)))"
   ]
  },
  {
   "cell_type": "code",
   "execution_count": null,
   "metadata": {
    "collapsed": true
   },
   "outputs": [],
   "source": [
    "coeffs0 = np.dot(cal0_nomean-cal_mean, feature)\n",
    "coeffs1 = np.dot(cal1_nomean-cal_mean, feature)\n",
    "predictions = np.asarray([np.real(coeffs0), np.real(coeffs1)])"
   ]
  },
  {
   "cell_type": "code",
   "execution_count": null,
   "metadata": {
    "collapsed": true
   },
   "outputs": [],
   "source": [
    "hist_all, bins = np.histogram(predictions, bins='auto')\n",
    "proba_points = (bins[1:]+bins[:-1])/2.\n",
    "hists = []\n",
    "for y in range(2):\n",
    "    hists.append(np.histogram(predictions[y,:], bins=bins)[0])\n",
    "\n",
    "hists = np.asarray(hists, dtype=float)\n",
    "probabilities = hists/hist_all\n",
    "naive_probabilities = np.asarray([proba_points<0, proba_points>0], dtype=float)\n",
    "probabilities[np.isnan(probabilities)] = naive_probabilities[np.isnan(probabilities)]\n",
    "predictor = lambda x: np.interp(x, proba_points, probabilities[1,:], left=0., right=1.)\n",
    "calib_proba_points = proba_points\n",
    "calib_proba = probabilities[1,:]\n",
    "calib_hists = hists"
   ]
  },
  {
   "cell_type": "code",
   "execution_count": null,
   "metadata": {
    "collapsed": true
   },
   "outputs": [],
   "source": [
    "from sklearn.metrics import roc_curve, roc_auc_score\n",
    "roc = roc_curve([0]*coeffs0.size+[1]*coeffs0.size, predictor(predictions.ravel()))\n",
    "roc_auc = roc_auc_score([0]*coeffs0.size+[1]*coeffs0.size, predictor(predictions.ravel()))"
   ]
  },
  {
   "cell_type": "code",
   "execution_count": null,
   "metadata": {
    "collapsed": true
   },
   "outputs": [],
   "source": [
    "plt.figure('ROC')\n",
    "plt.plot(roc[0], roc[1])\n",
    "plt.xlabel('True Positive Rate')\n",
    "plt.ylabel('True Negative Rate')\n",
    "roc_auc"
   ]
  },
  {
   "cell_type": "code",
   "execution_count": null,
   "metadata": {
    "collapsed": true
   },
   "outputs": [],
   "source": [
    "plt.figure('probability curve')\n",
    "plt.plot(calib_proba_points, calib_proba)"
   ]
  },
  {
   "cell_type": "code",
   "execution_count": null,
   "metadata": {
    "collapsed": true
   },
   "outputs": [],
   "source": [
    "plt.figure('Readout hists')\n",
    "plt.bar(proba_points-0.25, hists[0], width=0.05, label='|0>')\n",
    "plt.bar(proba_points+0.25, hists[1], width=0.05, label='|1>')\n",
    "plt.legend()"
   ]
  },
  {
   "cell_type": "code",
   "execution_count": null,
   "metadata": {
    "collapsed": true
   },
   "outputs": [],
   "source": [
    "plt.close()"
   ]
  },
  {
   "cell_type": "code",
   "execution_count": null,
   "metadata": {
    "collapsed": true
   },
   "outputs": [],
   "source": [
    "cal0_nomean.shape"
   ]
  },
  {
   "cell_type": "code",
   "execution_count": null,
   "metadata": {
    "collapsed": true
   },
   "outputs": [],
   "source": [
    "plt.figure(figsize=(12,3))\n",
    "plt.imshow(np.sum(np.real(np.reshape(cal0_nomean, (200, 100, 1024))), axis=0), cmap='RdBu')\n",
    "plt.figure(figsize=(12,3))\n",
    "plt.imshow(np.sum(np.real(np.reshape(cal1_nomean, (200, 100, 1024))), axis=0), cmap='RdBu')"
   ]
  },
  {
   "cell_type": "code",
   "execution_count": null,
   "metadata": {
    "collapsed": true
   },
   "outputs": [],
   "source": [
    "plt.plot(np.mean(cal0_nomean, axis=0))\n",
    "plt.plot(np.mean(cal1_nomean, axis=0))"
   ]
  },
  {
   "cell_type": "markdown",
   "metadata": {},
   "source": [
    "### extract samples from scan from their directories and put into a new directory"
   ]
  },
  {
   "cell_type": "code",
   "execution_count": 50,
   "metadata": {
    "collapsed": true
   },
   "outputs": [],
   "source": [
    "import os\n",
    "import glob\n",
    "new_root = 'D:\\\\qtlab\\\\ReiData\\\\data\\\\2018-03-13\\\\Paramp-on-samples\\\\'\n",
    "path = 'D:\\\\qtlab\\\\ReiData\\\\data\\\\2018-03-13\\\\Paramp-on-samples\\\\day2\\\\*\\\\*.pkl'\n",
    "pickles = glob.glob(path)\n",
    "for pickle in pickles:\n",
    "    pickle_name = pickle[(pickle.rfind('\\\\')+1):]\n",
    "    amplitude = 0.05\n",
    "    pickle_renamed = pickle_name.replace('ro_dac_amiltude 1.00', 'ro_dac_amplitude {0:.2f}'.format(amplitude))\n",
    "    i = 0\n",
    "    while(os.path.exists(new_root+pickle_renamed)):\n",
    "        amplitude += 0.05\n",
    "        pickle_renamed = pickle_name.replace('ro_dac_amiltude 1.00', 'ro_dac_amplitude {0:.2f}'.format(amplitude))\n",
    "        i += 1 \n",
    "        if i> 100:\n",
    "            raise(Exception('infinite loop '+pickle_renamed))\n",
    "    #print (pickle_name)\n",
    "    os.rename(pickle, new_root+pickle_renamed)"
   ]
  },
  {
   "cell_type": "markdown",
   "metadata": {},
   "source": [
    "### zip samples"
   ]
  },
  {
   "cell_type": "code",
   "execution_count": 54,
   "metadata": {
    "scrolled": true
   },
   "outputs": [
    {
     "name": "stdout",
     "output_type": "stream",
     "text": [
      "D:\\qtlab\\ReiData\\data\\2018-03-13\\Paramp-on-samples\\Binary classification samples ro_dac_length 1000ns ro_dac_amplitude 0.05.pkl\n"
     ]
    },
    {
     "ename": "KeyboardInterrupt",
     "evalue": "",
     "output_type": "error",
     "traceback": [
      "\u001b[1;31m---------------------------------------------------------------------------\u001b[0m",
      "\u001b[1;31mKeyboardInterrupt\u001b[0m                         Traceback (most recent call last)",
      "\u001b[1;32m<ipython-input-54-4bb6940dc273>\u001b[0m in \u001b[0;36m<module>\u001b[1;34m()\u001b[0m\n\u001b[0;32m      6\u001b[0m     \u001b[0mprint\u001b[0m \u001b[1;33m(\u001b[0m\u001b[0mpickle\u001b[0m\u001b[1;33m)\u001b[0m\u001b[1;33m\u001b[0m\u001b[0m\n\u001b[0;32m      7\u001b[0m     \u001b[0mzout\u001b[0m \u001b[1;33m=\u001b[0m \u001b[0mzipfile\u001b[0m\u001b[1;33m.\u001b[0m\u001b[0mZipFile\u001b[0m\u001b[1;33m(\u001b[0m\u001b[0mpickle\u001b[0m\u001b[1;33m+\u001b[0m\u001b[1;34m'.zip'\u001b[0m\u001b[1;33m,\u001b[0m \u001b[1;34m\"w\"\u001b[0m\u001b[1;33m,\u001b[0m \u001b[0mzipfile\u001b[0m\u001b[1;33m.\u001b[0m\u001b[0mZIP_DEFLATED\u001b[0m\u001b[1;33m)\u001b[0m\u001b[1;33m\u001b[0m\u001b[0m\n\u001b[1;32m----> 8\u001b[1;33m     \u001b[0mzout\u001b[0m\u001b[1;33m.\u001b[0m\u001b[0mwrite\u001b[0m\u001b[1;33m(\u001b[0m\u001b[0mpickle\u001b[0m\u001b[1;33m)\u001b[0m\u001b[1;33m\u001b[0m\u001b[0m\n\u001b[0m\u001b[0;32m      9\u001b[0m     \u001b[0mzout\u001b[0m\u001b[1;33m.\u001b[0m\u001b[0mclose\u001b[0m\u001b[1;33m(\u001b[0m\u001b[1;33m)\u001b[0m\u001b[1;33m\u001b[0m\u001b[0m\n",
      "\u001b[1;32mC:\\ProgramData\\Anaconda3\\lib\\zipfile.py\u001b[0m in \u001b[0;36mwrite\u001b[1;34m(self, filename, arcname, compress_type)\u001b[0m\n\u001b[0;32m   1621\u001b[0m         \u001b[1;32melse\u001b[0m\u001b[1;33m:\u001b[0m\u001b[1;33m\u001b[0m\u001b[0m\n\u001b[0;32m   1622\u001b[0m             \u001b[1;32mwith\u001b[0m \u001b[0mopen\u001b[0m\u001b[1;33m(\u001b[0m\u001b[0mfilename\u001b[0m\u001b[1;33m,\u001b[0m \u001b[1;34m\"rb\"\u001b[0m\u001b[1;33m)\u001b[0m \u001b[1;32mas\u001b[0m \u001b[0msrc\u001b[0m\u001b[1;33m,\u001b[0m \u001b[0mself\u001b[0m\u001b[1;33m.\u001b[0m\u001b[0mopen\u001b[0m\u001b[1;33m(\u001b[0m\u001b[0mzinfo\u001b[0m\u001b[1;33m,\u001b[0m \u001b[1;34m'w'\u001b[0m\u001b[1;33m)\u001b[0m \u001b[1;32mas\u001b[0m \u001b[0mdest\u001b[0m\u001b[1;33m:\u001b[0m\u001b[1;33m\u001b[0m\u001b[0m\n\u001b[1;32m-> 1623\u001b[1;33m                 \u001b[0mshutil\u001b[0m\u001b[1;33m.\u001b[0m\u001b[0mcopyfileobj\u001b[0m\u001b[1;33m(\u001b[0m\u001b[0msrc\u001b[0m\u001b[1;33m,\u001b[0m \u001b[0mdest\u001b[0m\u001b[1;33m,\u001b[0m \u001b[1;36m1024\u001b[0m\u001b[1;33m*\u001b[0m\u001b[1;36m8\u001b[0m\u001b[1;33m)\u001b[0m\u001b[1;33m\u001b[0m\u001b[0m\n\u001b[0m\u001b[0;32m   1624\u001b[0m \u001b[1;33m\u001b[0m\u001b[0m\n\u001b[0;32m   1625\u001b[0m     \u001b[1;32mdef\u001b[0m \u001b[0mwritestr\u001b[0m\u001b[1;33m(\u001b[0m\u001b[0mself\u001b[0m\u001b[1;33m,\u001b[0m \u001b[0mzinfo_or_arcname\u001b[0m\u001b[1;33m,\u001b[0m \u001b[0mdata\u001b[0m\u001b[1;33m,\u001b[0m \u001b[0mcompress_type\u001b[0m\u001b[1;33m=\u001b[0m\u001b[1;32mNone\u001b[0m\u001b[1;33m)\u001b[0m\u001b[1;33m:\u001b[0m\u001b[1;33m\u001b[0m\u001b[0m\n",
      "\u001b[1;32mC:\\ProgramData\\Anaconda3\\lib\\shutil.py\u001b[0m in \u001b[0;36mcopyfileobj\u001b[1;34m(fsrc, fdst, length)\u001b[0m\n\u001b[0;32m     80\u001b[0m         \u001b[1;32mif\u001b[0m \u001b[1;32mnot\u001b[0m \u001b[0mbuf\u001b[0m\u001b[1;33m:\u001b[0m\u001b[1;33m\u001b[0m\u001b[0m\n\u001b[0;32m     81\u001b[0m             \u001b[1;32mbreak\u001b[0m\u001b[1;33m\u001b[0m\u001b[0m\n\u001b[1;32m---> 82\u001b[1;33m         \u001b[0mfdst\u001b[0m\u001b[1;33m.\u001b[0m\u001b[0mwrite\u001b[0m\u001b[1;33m(\u001b[0m\u001b[0mbuf\u001b[0m\u001b[1;33m)\u001b[0m\u001b[1;33m\u001b[0m\u001b[0m\n\u001b[0m\u001b[0;32m     83\u001b[0m \u001b[1;33m\u001b[0m\u001b[0m\n\u001b[0;32m     84\u001b[0m \u001b[1;32mdef\u001b[0m \u001b[0m_samefile\u001b[0m\u001b[1;33m(\u001b[0m\u001b[0msrc\u001b[0m\u001b[1;33m,\u001b[0m \u001b[0mdst\u001b[0m\u001b[1;33m)\u001b[0m\u001b[1;33m:\u001b[0m\u001b[1;33m\u001b[0m\u001b[0m\n",
      "\u001b[1;32mC:\\ProgramData\\Anaconda3\\lib\\zipfile.py\u001b[0m in \u001b[0;36mwrite\u001b[1;34m(self, data)\u001b[0m\n\u001b[0;32m    986\u001b[0m         \u001b[0mnbytes\u001b[0m \u001b[1;33m=\u001b[0m \u001b[0mlen\u001b[0m\u001b[1;33m(\u001b[0m\u001b[0mdata\u001b[0m\u001b[1;33m)\u001b[0m\u001b[1;33m\u001b[0m\u001b[0m\n\u001b[0;32m    987\u001b[0m         \u001b[0mself\u001b[0m\u001b[1;33m.\u001b[0m\u001b[0m_file_size\u001b[0m \u001b[1;33m+=\u001b[0m \u001b[0mnbytes\u001b[0m\u001b[1;33m\u001b[0m\u001b[0m\n\u001b[1;32m--> 988\u001b[1;33m         \u001b[0mself\u001b[0m\u001b[1;33m.\u001b[0m\u001b[0m_crc\u001b[0m \u001b[1;33m=\u001b[0m \u001b[0mcrc32\u001b[0m\u001b[1;33m(\u001b[0m\u001b[0mdata\u001b[0m\u001b[1;33m,\u001b[0m \u001b[0mself\u001b[0m\u001b[1;33m.\u001b[0m\u001b[0m_crc\u001b[0m\u001b[1;33m)\u001b[0m\u001b[1;33m\u001b[0m\u001b[0m\n\u001b[0m\u001b[0;32m    989\u001b[0m         \u001b[1;32mif\u001b[0m \u001b[0mself\u001b[0m\u001b[1;33m.\u001b[0m\u001b[0m_compressor\u001b[0m\u001b[1;33m:\u001b[0m\u001b[1;33m\u001b[0m\u001b[0m\n\u001b[0;32m    990\u001b[0m             \u001b[0mdata\u001b[0m \u001b[1;33m=\u001b[0m \u001b[0mself\u001b[0m\u001b[1;33m.\u001b[0m\u001b[0m_compressor\u001b[0m\u001b[1;33m.\u001b[0m\u001b[0mcompress\u001b[0m\u001b[1;33m(\u001b[0m\u001b[0mdata\u001b[0m\u001b[1;33m)\u001b[0m\u001b[1;33m\u001b[0m\u001b[0m\n",
      "\u001b[1;31mKeyboardInterrupt\u001b[0m: "
     ]
    }
   ],
   "source": [
    "import zipfile\n",
    "sources = 'D:\\\\qtlab\\\\ReiData\\\\data\\\\2018-03-13\\\\Paramp-on-samples\\\\*.pkl'\n",
    "pickles = glob.glob(sources)\n",
    "for pickle in pickles:\n",
    "    #pickle_name = pickle[(pickle.rfind('\\\\')+1):]\n",
    "    print (pickle)\n",
    "    zout = zipfile.ZipFile(pickle+'.zip', \"w\", zipfile.ZIP_DEFLATED)\n",
    "    zout.write(pickle)\n",
    "    zout.close()"
   ]
  },
  {
   "cell_type": "code",
   "execution_count": null,
   "metadata": {
    "collapsed": true
   },
   "outputs": [],
   "source": []
  }
 ],
 "metadata": {
  "kernelspec": {
   "display_name": "Python 3",
   "language": "python",
   "name": "python3"
  },
  "language_info": {
   "codemirror_mode": {
    "name": "ipython",
    "version": 3
   },
   "file_extension": ".py",
   "mimetype": "text/x-python",
   "name": "python",
   "nbconvert_exporter": "python",
   "pygments_lexer": "ipython3",
   "version": "3.6.3"
  }
 },
 "nbformat": 4,
 "nbformat_minor": 1
}
