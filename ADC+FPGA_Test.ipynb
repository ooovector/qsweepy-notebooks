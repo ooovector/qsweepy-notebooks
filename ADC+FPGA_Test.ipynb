{
 "cells": [
  {
   "cell_type": "code",
   "execution_count": 1,
   "metadata": {
    "ExecuteTime": {
     "end_time": "2019-07-12T16:34:07.384166Z",
     "start_time": "2019-07-12T16:34:01.722878Z"
    }
   },
   "outputs": [],
   "source": [
    "from qsweepy import *\n",
    "from qsweepy.instruments import *\n",
    "import numpy as np\n",
    "from matplotlib.pyplot import *\n",
    "%matplotlib qt"
   ]
  },
  {
   "cell_type": "code",
   "execution_count": 2,
   "metadata": {
    "ExecuteTime": {
     "end_time": "2019-07-12T16:34:08.059036Z",
     "start_time": "2019-07-12T16:34:07.510104Z"
    }
   },
   "outputs": [
    {
     "name": "stdout",
     "output_type": "stream",
     "text": [
      "ADS54J40 already programmed\n"
     ]
    }
   ],
   "source": [
    "adc = TSW14J56_evm(fpga_config= True)"
   ]
  },
  {
   "cell_type": "code",
   "execution_count": 3,
   "metadata": {
    "ExecuteTime": {
     "end_time": "2019-07-12T16:34:08.065031Z",
     "start_time": "2019-07-12T16:34:08.061055Z"
    }
   },
   "outputs": [],
   "source": [
    "adc.set_trig_src_period(100*125) # 10 kHz period rate\n",
    "adc.set_trig_src_width(2) # 80 ns trigger length"
   ]
  },
  {
   "cell_type": "code",
   "execution_count": 4,
   "metadata": {
    "ExecuteTime": {
     "end_time": "2019-07-12T16:34:08.079024Z",
     "start_time": "2019-07-12T16:34:08.069066Z"
    }
   },
   "outputs": [],
   "source": [
    "adc_reducer = TSW14J56_evm_reducer(adc)"
   ]
  },
  {
   "cell_type": "code",
   "execution_count": 5,
   "metadata": {
    "ExecuteTime": {
     "end_time": "2019-07-12T16:34:08.091042Z",
     "start_time": "2019-07-12T16:34:08.081042Z"
    }
   },
   "outputs": [],
   "source": [
    "adc.nsamp = 2048\n",
    "adc.nsegm = 1"
   ]
  },
  {
   "cell_type": "code",
   "execution_count": 6,
   "metadata": {
    "ExecuteTime": {
     "end_time": "2019-07-12T16:34:08.106029Z",
     "start_time": "2019-07-12T16:34:08.093016Z"
    }
   },
   "outputs": [],
   "source": [
    "#adc.reset()"
   ]
  },
  {
   "cell_type": "code",
   "execution_count": 7,
   "metadata": {
    "ExecuteTime": {
     "end_time": "2019-07-12T16:34:08.121004Z",
     "start_time": "2019-07-12T16:34:08.108010Z"
    }
   },
   "outputs": [],
   "source": [
    "#plt.plot(np.mean(np.real(adc_reducer.measure()['Voltage']), axis=0))\n",
    "#plt.show()"
   ]
  },
  {
   "cell_type": "code",
   "execution_count": 8,
   "metadata": {
    "ExecuteTime": {
     "end_time": "2019-07-12T16:34:08.134023Z",
     "start_time": "2019-07-12T16:34:08.123003Z"
    }
   },
   "outputs": [],
   "source": [
    "def check_stuff(demod=None):\n",
    "    if demod is not None:\n",
    "        adc.set_ram_data(ncov=0, data=demod)\n",
    "    ramdata = np.asarray(adc.get_data_RAM(ncov=0)).T\n",
    "    avg_cov_before = adc.get_cov_result_avg(ncov=0)\n",
    "    adc.capture(trig='ext',cov=True)\n",
    "    ddrdata = adc.get_data()\n",
    "    avg_cov_after = adc.get_cov_result_avg(ncov=0)\n",
    "    last_cov = adc.get_cov_result(ncov=0)\n",
    "    if demod is not None:\n",
    "        if not (np.sum(np.abs(demod - ramdata))==0):\n",
    "            print (demod, ramdata)\n",
    "        else:\n",
    "            print('Ram data set test passed')\n",
    "    print(ramdata)\n",
    "    if last_cov != (avg_cov_after-avg_cov_before):\n",
    "        print ('Last cov and avg cov test failed')\n",
    "    else:\n",
    "        print ('Last cov and avg cov test passed')\n",
    "    print ('last_cov', last_cov)\n",
    "    print ('Avg_cov_before', avg_cov_before)\n",
    "    print ('Avg_cov_after', avg_cov_after)\n",
    "    print ('diff', avg_cov_after-avg_cov_before)\n",
    "    \n",
    "    pc_cov = np.real(ddrdata)@ramdata[0,:]+np.imag(ddrdata)@ramdata[1,:]\n",
    "    if last_cov != pc_cov[-1]:\n",
    "        print ('Last cov and PC cov test failed')\n",
    "    else:\n",
    "        print ('Last cov and PC cov test passed')\n",
    "    print ('last_cov', last_cov)\n",
    "    print ('pc_cov', pc_cov)\n",
    "    print (np.real(ddrdata))\n",
    "    print (np.imag(ddrdata))\n",
    "\n",
    "    plot(np.real(np.sum(ddrdata, axis=0)))\n",
    "    plot(np.real(np.std(ddrdata, axis=0)))\n",
    "    \n",
    "    #adc.set_ram_data()\n",
    "    #np.asarray(ramdata).T\n",
    "    #ddrdata"
   ]
  },
  {
   "cell_type": "code",
   "execution_count": 9,
   "metadata": {
    "ExecuteTime": {
     "end_time": "2019-07-12T16:34:09.801207Z",
     "start_time": "2019-07-12T16:34:08.135996Z"
    }
   },
   "outputs": [
    {
     "name": "stdout",
     "output_type": "stream",
     "text": [
      "Ram data set test passed\n",
      "[[0 0 0 ... 0 0 0]\n",
      " [0 1 0 ... 0 0 0]]\n",
      "Last cov and avg cov test passed\n",
      "last_cov -503\n",
      "Avg_cov_before -943852610751234\n",
      "Avg_cov_after -943852610751737\n",
      "diff -503\n",
      "Last cov and PC cov test passed\n",
      "last_cov -503\n",
      "pc_cov [-503.]\n",
      "[[-643.   -5. -408. ... -407.  476. -150.]]\n",
      "[[ 516. -503. -147. ...  170.   47.   27.]]\n"
     ]
    },
    {
     "data": {
      "image/png": "[encoded data removed]",
      "text/plain": [
       "<Figure size 432x288 with 1 Axes>"
      ]
     },
     "metadata": {},
     "output_type": "display_data"
    }
   ],
   "source": [
    "demod = np.zeros((2, 2048), dtype=np.int16)\n",
    "demod[1,1] = 1\n",
    "check_stuff(demod)"
   ]
  },
  {
   "cell_type": "code",
   "execution_count": null,
   "metadata": {},
   "outputs": [],
   "source": []
  },
  {
   "cell_type": "code",
   "execution_count": 10,
   "metadata": {
    "ExecuteTime": {
     "end_time": "2019-07-12T12:14:51.172898Z",
     "start_time": "2019-07-12T12:14:51.168900Z"
    }
   },
   "outputs": [],
   "source": [
    "adc.nsegm = 256\n",
    "adc.nsamp = 2048"
   ]
  },
  {
   "cell_type": "code",
   "execution_count": 4,
   "metadata": {
    "scrolled": true
   },
   "outputs": [
    {
     "name": "stdout",
     "output_type": "stream",
     "text": [
      "Write: 0x0 0x30 0x4\n",
      "Write: 0x0 0x10 0x100\n",
      "Write: 0x0 0x0 0x21\n",
      "Read: 0x0 0x0 0x20\n",
      "Done!\n"
     ]
    }
   ],
   "source": [
    "adc.capture(trig=)"
   ]
  },
  {
   "cell_type": "code",
   "execution_count": 7,
   "metadata": {},
   "outputs": [
    {
     "data": {
      "text/plain": [
       "65536"
      ]
     },
     "execution_count": 7,
     "metadata": {},
     "output_type": "execute_result"
    }
   ],
   "source": [
    "32768*2"
   ]
  },
  {
   "cell_type": "code",
   "execution_count": 5,
   "metadata": {},
   "outputs": [
    {
     "name": "stdout",
     "output_type": "stream",
     "text": [
      "Write: 0x4 0x10 0x200\n",
      "Write: 0x4 0x0 0x1\n"
     ]
    }
   ],
   "source": [
    "data = adc.get_data()"
   ]
  },
  {
   "cell_type": "code",
   "execution_count": 6,
   "metadata": {},
   "outputs": [
    {
     "data": {
      "text/plain": [
       "array([[-2.+0.j, -5.+0.j,  1.-3.j, ...,  0.-5.j,  3.+0.j,  1.-1.j],\n",
       "       [-2.+2.j, -3.+0.j,  3.-3.j, ..., -5.+0.j,  2.-3.j, -1.-3.j],\n",
       "       [ 3.-1.j, -3.-2.j,  0.-2.j, ..., -7.+0.j, -3.+3.j,  0.+0.j],\n",
       "       [-2.+1.j,  2.+1.j, -3.-2.j, ...,  0.-2.j,  1.+3.j,  3.-4.j]])"
      ]
     },
     "execution_count": 6,
     "metadata": {},
     "output_type": "execute_result"
    }
   ],
   "source": [
    "data"
   ]
  },
  {
   "cell_type": "code",
   "execution_count": 9,
   "metadata": {},
   "outputs": [
    {
     "data": {
      "text/plain": [
       "array([[ 4, -1, -2, ...,  0,  1,  3],\n",
       "       [ 0,  0, -3, ..., -2,  3, -4]], dtype=int16)"
      ]
     },
     "execution_count": 9,
     "metadata": {},
     "output_type": "execute_result"
    }
   ],
   "source": [
    "np.reshape(data, (2, adc.nsamp*adc.nsegm))"
   ]
  },
  {
   "cell_type": "code",
   "execution_count": 11,
   "metadata": {},
   "outputs": [],
   "source": [
    "dataiq = np.reshape(data, (2, adc.nsamp*adc.nsegm))[0]+ 1j*np.reshape(data, (2, adc.nsamp*adc.nsegm))[1]"
   ]
  },
  {
   "cell_type": "code",
   "execution_count": 15,
   "metadata": {},
   "outputs": [],
   "source": [
    "dataiqsegm = np.reshape(dataiq, (adc.nsegm, int(adc.nsamp)))"
   ]
  },
  {
   "cell_type": "code",
   "execution_count": 19,
   "metadata": {},
   "outputs": [
    {
     "data": {
      "text/plain": [
       "2048"
      ]
     },
     "execution_count": 19,
     "metadata": {},
     "output_type": "execute_result"
    }
   ],
   "source": [
    "len(dataiqsegm[0])"
   ]
  },
  {
   "cell_type": "code",
   "execution_count": 10,
   "metadata": {},
   "outputs": [
    {
     "data": {
      "text/plain": [
       "[<matplotlib.lines.Line2D at 0x21493882748>]"
      ]
     },
     "execution_count": 10,
     "metadata": {},
     "output_type": "execute_result"
    },
    {
     "data": {
      "image/png": "[encoded data removed]",
      "text/plain": [
       "<Figure size 432x288 with 1 Axes>"
      ]
     },
     "metadata": {},
     "output_type": "display_data"
    }
   ],
   "source": [
    "plt.plot(np.reshape(data, (adc.nsamp*adc.nsegm, 2))."
   ]
  },
  {
   "cell_type": "code",
   "execution_count": 16,
   "metadata": {},
   "outputs": [
    {
     "name": "stdout",
     "output_type": "stream",
     "text": [
      "Write: 0x4 0x10 0x80\n",
      "Write: 0x4 0x0 0x1\n",
      "Write: 0x4 0x10 0x80\n",
      "Write: 0x4 0x0 0x1\n"
     ]
    },
    {
     "data": {
      "text/plain": [
       "[<matplotlib.lines.Line2D at 0x1d10236dcf8>]"
      ]
     },
     "execution_count": 16,
     "metadata": {},
     "output_type": "execute_result"
    }
   ],
   "source": [
    "plt.plot(adc.get_data()[0][0])\n",
    "plt.plot(adc.get_data()[1][0])"
   ]
  },
  {
   "cell_type": "code",
   "execution_count": 9,
   "metadata": {},
   "outputs": [
    {
     "name": "stdout",
     "output_type": "stream",
     "text": [
      "Using matplotlib backend: Qt5Agg\n"
     ]
    }
   ],
   "source": [
    "%matplotlib"
   ]
  },
  {
   "cell_type": "code",
   "execution_count": 1,
   "metadata": {},
   "outputs": [],
   "source": [
    "import time"
   ]
  },
  {
   "cell_type": "code",
   "execution_count": null,
   "metadata": {},
   "outputs": [],
   "source": [
    "time.sleep()"
   ]
  }
 ],
 "metadata": {
  "kernelspec": {
   "display_name": "Python 3",
   "language": "python",
   "name": "python3"
  },
  "language_info": {
   "codemirror_mode": {
    "name": "ipython",
    "version": 3
   },
   "file_extension": ".py",
   "mimetype": "text/x-python",
   "name": "python",
   "nbconvert_exporter": "python",
   "pygments_lexer": "ipython3",
   "version": "3.6.5"
  },
  "toc": {
   "base_numbering": 1,
   "nav_menu": {},
   "number_sections": true,
   "sideBar": true,
   "skip_h1_title": false,
   "title_cell": "Table of Contents",
   "title_sidebar": "Contents",
   "toc_cell": false,
   "toc_position": {},
   "toc_section_display": true,
   "toc_window_display": false
  }
 },
 "nbformat": 4,
 "nbformat_minor": 2
}
