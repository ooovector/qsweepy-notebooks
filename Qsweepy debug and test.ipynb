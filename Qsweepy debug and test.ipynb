{
 "cells": [
  {
   "cell_type": "markdown",
   "metadata": {},
   "source": [
    "# Initialize, load modules"
   ]
  },
  {
   "cell_type": "code",
   "execution_count": 1,
   "metadata": {},
   "outputs": [
    {
     "name": "stdout",
     "output_type": "stream",
     "text": [
      "Failed loading module AWG500:  No module named 'ftd2xx'\n",
      "Failed loading module Labbrick:  [WinError 126] The specified module could not be found\n",
      "\n",
      "Failed loading module Signal_Hound_SA:  name 'signal_hound_dll' is not defined\n"
     ]
    },
    {
     "data": {
      "text/plain": [
       "<module 'qsweepy.qjson' from 'C:\\\\Users\\\\demouser\\\\Desktop\\\\Quantum\\\\qsweepy\\\\qjson.py'>"
      ]
     },
     "execution_count": 1,
     "metadata": {},
     "output_type": "execute_result"
    }
   ],
   "source": [
    "from qsweepy import *\n",
    "from qsweepy.instruments import *\n",
    "from qsweepy.save_pkl import save_pkl\n",
    "import matplotlib.pyplot as plt\n",
    "import numpy as np\n",
    "from matplotlib import interactive\n",
    "interactive(True)\n",
    "%matplotlib qt5\n",
    "#import awg_digital\n",
    "#import awg_iq\n",
    "#import data_reduce\n",
    "import imp\n",
    "#import fitting\n",
    "#import plotting\n",
    "import qsweepy.save_pkl\n",
    "#import qsweepy.tomography as tomography_new\n",
    "#import qsweepy.tomography_legacy as tomography\n",
    "#import sweep\n",
    "imp.reload(awg_digital)\n",
    "imp.reload(awg_iq)\n",
    "imp.reload(awg_iq_multi)\n",
    "imp.reload(data_reduce)\n",
    "imp.reload(fitting)\n",
    "imp.reload(plotting)\n",
    "imp.reload(qsweepy.save_pkl)\n",
    "imp.reload(pulses)\n",
    "imp.reload(single_shot_readout)\n",
    "imp.reload(readout_classifier)\n",
    "imp.reload(tomography)\n",
    "imp.reload(config)\n",
    "#imp.reload(tomography_new)\n",
    "imp.reload(sweep)\n",
    "imp.reload(qjson)"
   ]
  },
  {
   "cell_type": "markdown",
   "metadata": {},
   "source": [
    "# some (undesirable?) settings"
   ]
  },
  {
   "cell_type": "code",
   "execution_count": 2,
   "metadata": {},
   "outputs": [],
   "source": [
    "#Параметры кубитов.all keys should be str\n",
    "Qubits = {'2old': {'r':{\n",
    "                    'Fr': 7.29775e9,\n",
    "                     'P': -30 },\n",
    "              'q':{\n",
    "              '00-1-01': 4.25083e+09,\n",
    "              '01-1-02': 4.00871e+09,\n",
    "              '00-2-02': 4.12977e+09,\n",
    "                'P':None}\n",
    "             },\n",
    "          '2-070818':{'r':{'Fr': 7.2988e9,  'P': -30}, 'q':{'00-1-01': 4.25501e9, '00-2-02': 4.1e9, '01-1-02': 3.98e9}},\n",
    "          '2':{'r':{'Fr': 7.2988e9,  'P': -30}, 'q':{'00-1-01': 4.256397e9, '00-2-02': 4.1345e9, '01-1-02': 4.01420e9}},\n",
    "          '1':{'r':{'Fr': 7.2059e9, 'P': -30},'q':{ '00-1-01':4.242190e9+1.76e6, '00-2-02': 4.1e9, '01-1-02': 4.00020e9}}}\n",
    "qubit_params=Qubits\n",
    "qubit_id = '1'\n",
    "switch_to_sample = {'1':4, '2':3}\n",
    "#it should be dumped too\n",
    "qubits_dump = {\"qubits\":qubit_params,'switch':switch_to_sample}\n",
    "qjson.dump('qubits','qubit_params',qubits_dump)"
   ]
  },
  {
   "cell_type": "markdown",
   "metadata": {},
   "source": [
    "# Instruments for current setup"
   ]
  },
  {
   "cell_type": "code",
   "execution_count": 3,
   "metadata": {},
   "outputs": [
    {
     "name": "stdout",
     "output_type": "stream",
     "text": [
      "0\n",
      "0\n",
      "0\n",
      "0\n"
     ]
    }
   ],
   "source": [
    "# RF switch for making sure we know what sample we are measuring\n",
    "pna = Agilent_N5242A('pna', address = 'TCPIP0::10.20.61.48::inst0::INSTR')\n",
    "lo1 = Agilent_E8257D('lo1', address = 'TCPIP0::10.20.61.59::inst0::INSTR')\n",
    "#rf_switch = nn_rf_switch('rf_switch', address='10.20.61.224')\n",
    "\n",
    "CHASSIS = 1\n",
    "SLOT_IN = 11\n",
    "SLOT_OUT = 7\n",
    "awg = Keysight_M3202A_S('awg', CHASSIS, SLOT_OUT)\n",
    "adc = Keysight_M3102A('adc', CHASSIS, SLOT_IN)\n",
    "\n",
    "sa = Agilent_N9030A('pxa', address = 'TCPIP0::10.20.61.56::inst0::INSTR')\n",
    "lo_ex = lo1\n",
    "lo_ro = pna\n",
    "awg_tek=awg"
   ]
  },
  {
   "cell_type": "code",
   "execution_count": 4,
   "metadata": {},
   "outputs": [],
   "source": [
    "for channel in range(0,4):\n",
    "    awg.set_amplitude(.2, channel=channel)\n",
    "    awg.set_offset(0.3, channel=channel)\n",
    "    awg.set_output(1, channel=channel)\n",
    "    awg.set_waveform(waveform=[0], channel=channel)"
   ]
  },
  {
   "cell_type": "markdown",
   "metadata": {},
   "source": [
    "# Settings for current setup"
   ]
  },
  {
   "cell_type": "code",
   "execution_count": 5,
   "metadata": {},
   "outputs": [
    {
     "name": "stdout",
     "output_type": "stream",
     "text": [
      "100 0\n"
     ]
    }
   ],
   "source": [
    "# Источник тока - в autorange\n",
    "#current.set_autorange(1)\n",
    "#Мощности гетеродинов, постоянные\n",
    "#Мощность гетеродина для возбуждения 13-16 дБм\n",
    "\n",
    "lo_ex_pow = 14\n",
    "lo_ex.set_status(1)\n",
    "lo_ro_pow = 16\n",
    "lo_ro.set_power(lo_ro_pow)\n",
    "\n",
    "pna.write(\"OUTP ON\")\n",
    "pna.write(\"SOUR1:POW1:MODE ON\")\n",
    "pna.write(\"SOUR1:POW2:MODE OFF\")\n",
    "pna.set_sweep_mode(\"CW\")\n",
    "lo_ex.set_power(lo_ex_pow)\n",
    "\n",
    "ex_clock = 1e9\n",
    "ro_clock = 1e9\n",
    "\n",
    "rep_rate = 20e3 # частота повторений эксперимента\n",
    "\n",
    "awg.stop()\n",
    "#awg_tek.set_clock(ex_clock) # клок всех авгшк\n",
    "awg.set_nop(ex_clock/rep_rate) # репрейт нужно задавать по=хорошему только на управляющей,\n",
    "awg.run()\n",
    "# а вот длину сэмплов, которая очевидно то же самое, нужно задавать на всех авгшках.\n",
    "# хорошо, что сейчас она только одна.\n",
    "#this is zashkvar\n",
    "\n",
    "awg_tek = awg\n",
    "# channel 0 is master and triggers all others\n",
    "awg.trigger_source_types = [0, 6,6,6]\n",
    "awg.trigger_source_channels = [0, 4000,4000,4000] # pxi trigger 0 \n",
    "awg.trigger_delays = [40, 0,0,0] # master channel should wait 400 ns for others to start\n",
    "awg.trigger_behaviours = [0,4,4,4] #rising edge trigger\n",
    "for channel in range(0,4):\n",
    "    awg.set_amplitude(.2, channel=channel)\n",
    "    awg.set_offset(0, channel=channel)\n",
    "    awg.set_output(1, channel=channel)\n",
    "    awg.set_waveform(waveform=[0]*awg_tek.get_nop(), channel=channel) \n",
    "\n",
    "adc.set_input(channel=1, input=1)\n",
    "adc.set_input(channel=2, input=1)\n",
    "adc.set_trigger_external(channel=1)\n",
    "adc.set_trigger_external(channel=2)\n",
    "\n",
    "marker_length = 100\n",
    "readout_trigger_delay = 185\n",
    "trg_length = 10e-9\n",
    "\n",
    "awg.set_marker(length=marker_length, delay=0, channel=0)\n",
    "awg_channels =dict()\n",
    "ro_trg = awg_digital.awg_digital(awg_tek, 1)\n",
    "ro_trg.mode = 'set_delay'\n",
    "ro_trg.delay_setter = lambda x: adc.set_trigger_delay(int(x*adc.get_clock()/iq_ex.get_clock()-readout_trigger_delay))\n",
    "awg_channels['ro_trg'] = ro_trg\n"
   ]
  },
  {
   "cell_type": "code",
   "execution_count": 6,
   "metadata": {},
   "outputs": [
    {
     "name": "stdout",
     "output_type": "stream",
     "text": [
      "-73.95 4170000000.0\n"
     ]
    }
   ],
   "source": [
    "ro_if = 75e6\n",
    "lo_freq = 4.17e9\n",
    "# промежуточные частоты для гетеродинной схемы new:\n",
    "lo1.set_frequency(lo_freq)\n",
    "pna.set_frequency(qubit_params[qubit_id]['r']['Fr']+ro_if)\n",
    "ex_if = lo_freq-qubit_params[qubit_id]['q']['00-1-01']\n",
    "iq_ex = awg_iq_multi.awg_iq_multi(awg_tek, awg_tek, 0, 1, lo_ex)\n",
    "for tr,freq in qubit_params[qubit_id]['q'].items():\n",
    "    iq_ex.carriers[tr] = awg_iq_multi.carrier(iq_ex)\n",
    "    iq_ex.carriers[tr].set_frequency(freq)\n",
    "    awg_channels['iq_ex_'+tr]=iq_ex.carriers[tr]\n",
    "\n",
    "iq_ro = awg_iq_multi.awg_iq_multi(awg_tek, awg_tek, 2, 3, lo_ro)\n",
    "iq_ro.carriers['iq_ro'] = awg_iq_multi.carrier(iq_ro)\n",
    "iq_ro.carriers['iq_ro'].set_frequency(qubit_params[qubit_id]['r']['Fr'])\n",
    "awg_channels['iq_ro'] = iq_ro.carriers['iq_ro']\n",
    "readout_channels = {'iq_ro':awg_channels['iq_ro']}\n",
    "\n",
    "pg = pulses.pulses(awg_channels)\n",
    "print(ex_if*1e-6 ,lo_freq)"
   ]
  },
  {
   "cell_type": "code",
   "execution_count": 7,
   "metadata": {},
   "outputs": [
    {
     "name": "stdout",
     "output_type": "stream",
     "text": [
      "Excitation channel\n",
      "C:\\Users\\demouser\\Desktop\\Quantum\\data/calibrations/iq-dc/ lo_freq-4.17e+09\n",
      "C:\\Users\\demouser\\Desktop\\Quantum\\data/calibrations/iq-rf/ frequency-4.244e+09-if-7.395e+07-sideband_id-     0\n",
      "C:\\Users\\demouser\\Desktop\\Quantum\\data/calibrations/iq-rf/ frequency-4.1e+09-if--7e+07-sideband_id-     0\n",
      "C:\\Users\\demouser\\Desktop\\Quantum\\data/calibrations/iq-rf/ frequency- 4e+09-if--1.698e+08-sideband_id-     0\n",
      "Readout channel\n",
      "C:\\Users\\demouser\\Desktop\\Quantum\\data/calibrations/iq-dc/ lo_freq-7.281e+09\n",
      "C:\\Users\\demouser\\Desktop\\Quantum\\data/calibrations/iq-rf/ frequency-7.206e+09-if--7.5e+07-sideband_id-     0\n"
     ]
    }
   ],
   "source": [
    "print(\"Excitation channel\", end='\\n')\n",
    "iq_ex.do_calibration(sa)\n",
    "print(\"Readout channel\", end='\\n')\n",
    "iq_ro.do_calibration(sa)"
   ]
  },
  {
   "cell_type": "code",
   "execution_count": 17,
   "metadata": {
    "collapsed": true
   },
   "outputs": [],
   "source": [
    "adc.set_nums(50)\n",
    "adc.set_nop(25000)"
   ]
  },
  {
   "cell_type": "code",
   "execution_count": 18,
   "metadata": {
    "collapsed": true
   },
   "outputs": [],
   "source": [
    "trigger_readout_seq = [pg.p('ro_trg', 10e-9, pg.rect, 1)]"
   ]
  },
  {
   "cell_type": "code",
   "execution_count": 19,
   "metadata": {},
   "outputs": [],
   "source": [
    "from qsweepy import modem_readout\n",
    "imp.reload(pulses)\n",
    "imp.reload(modem_readout)\n",
    "imp.reload(data_reduce)\n",
    "modem = modem_readout.modem_readout(pg, adc, trigger_readout_seq, axis_mean=0)\n",
    "\n",
    "modem.readout_channels = readout_channels"
   ]
  },
  {
   "cell_type": "code",
   "execution_count": 20,
   "metadata": {},
   "outputs": [
    {
     "data": {
      "text/plain": [
       "array([ 1.00000000+0.j        ,  0.58778525-0.80901699j,\n",
       "       -0.30901699-0.95105652j, ..., -0.95105652+0.30901699j,\n",
       "       -0.30901699+0.95105652j,  0.58778525+0.80901699j])"
      ]
     },
     "execution_count": 20,
     "metadata": {},
     "output_type": "execute_result"
    }
   ],
   "source": [
    "modem.demodulation(awg_channels['iq_ro'])"
   ]
  },
  {
   "cell_type": "code",
   "execution_count": 61,
   "metadata": {},
   "outputs": [
    {
     "name": "stdout",
     "output_type": "stream",
     "text": [
      "3.66e-07 183.0\n"
     ]
    }
   ],
   "source": [
    "#plt.figure()\n",
    "ro_trg.delay_setter = lambda x: adc.set_trigger_delay(int(x*adc.get_clock()/iq_ex.get_clock()-0))\n",
    "readout_trigger_delay = modem.calibrate_delay()[awg_channels['iq_ro']]\n",
    "readout_trigger_delay_cycles = readout_trigger_delay*adc.get_clock()\n",
    "print (readout_trigger_delay, readout_trigger_delay_cycles)\n",
    "ro_trg.delay_setter = lambda x: adc.set_trigger_delay(int(x*adc.get_clock()/iq_ex.get_clock()-readout_trigger_delay_cycles))\n",
    "#readout_trigger_delay = modem.calibrate_delay()[awg_channels['iq_ro']]\n",
    "#readout_trigger_delay_cycles = readout_trigger_delay*adc.get_clock()\n",
    "#print (readout_trigger_delay, readout_trigger_delay_cycles)"
   ]
  },
  {
   "cell_type": "code",
   "execution_count": 22,
   "metadata": {},
   "outputs": [
    {
     "data": {
      "text/plain": [
       "{'iq_ro': {'coherent_background': array([-573.34-350.9j , -215.04-356.14j,    3.58-274.j  , ...,\n",
       "         -642.40-536.9j , -245.28-566.78j, -231.06-171.88j]),\n",
       "  'feature': array([  2.98342036e-06 +2.60820053e-06j,\n",
       "           2.18874985e-06 -4.66247403e-06j,\n",
       "          -4.10390592e-07 -8.08926748e-06j, ...,\n",
       "          -3.00360982e-06 -1.14062002e-07j,\n",
       "          -1.43346459e-06 +6.47731090e-06j,   1.31847113e-06 +7.72859764e-06j]),\n",
       "  'iq_calibration': array([  5.32076190e-06 +1.57303118e-06j,  -2.33734154e-06 +1.03516935e-06j])}}"
      ]
     },
     "execution_count": 22,
     "metadata": {},
     "output_type": "execute_result"
    }
   ],
   "source": [
    "modem.calibrate_dc()"
   ]
  },
  {
   "cell_type": "code",
   "execution_count": 23,
   "metadata": {},
   "outputs": [
    {
     "data": {
      "text/plain": [
       "{'iq_ro': {'coherent_background': array([-573.34-350.9j , -215.04-356.14j,    3.58-274.j  , ...,\n",
       "         -642.40-536.9j , -245.28-566.78j, -231.06-171.88j]),\n",
       "  'feature': array([  2.98342036e-06 +2.60820053e-06j,\n",
       "           2.18874985e-06 -4.66247403e-06j,\n",
       "          -4.10390592e-07 -8.08926748e-06j, ...,\n",
       "          -3.00360982e-06 -1.14062002e-07j,\n",
       "          -1.43346459e-06 +6.47731090e-06j,   1.31847113e-06 +7.72859764e-06j]),\n",
       "  'iq_calibration': array([  5.32076190e-06 +1.57303118e-06j,  -2.33734154e-06 +1.03516935e-06j])}}"
      ]
     },
     "execution_count": 23,
     "metadata": {},
     "output_type": "execute_result"
    }
   ],
   "source": [
    "modem.iq_readout_calibrations\n"
   ]
  },
  {
   "cell_type": "code",
   "execution_count": 24,
   "metadata": {},
   "outputs": [],
   "source": [
    "modem.filters = modem.calibrated_filters"
   ]
  },
  {
   "cell_type": "code",
   "execution_count": 62,
   "metadata": {},
   "outputs": [
    {
     "name": "stdout",
     "output_type": "stream",
     "text": [
      "(10000, 1000) 1 (slice(None, None, None), slice(None, 1000, None)) (1, 25000) (1, 1000)\n",
      "(10000, 1000) 1 (slice(None, None, None), slice(None, 1000, None)) (1, 25000) (1, 1000)\n",
      "23267\n"
     ]
    }
   ],
   "source": [
    "adc.set_nop(1000)\n",
    "adc.set_nums(10000)\n",
    "plt.figure('Amplitude -1')\n",
    "pg.set_seq([pg.p('ro_trg', 100e-9, pg.rect, 1), pg.p('iq_ro', 1e-6, pg.rect, 0), pg.p('iq_ro', 1e-6, pg.rect, -1)])\n",
    "I = np.real(modem.measure()['iq_ro'])\n",
    "Q = np.imag(modem.measure()['iq_ro'])\n",
    "plt.hist2d(I, Q)\n",
    "print(adc.trigger_delay)"
   ]
  },
  {
   "cell_type": "code",
   "execution_count": 33,
   "metadata": {
    "scrolled": true
   },
   "outputs": [
    {
     "name": "stdout",
     "output_type": "stream",
     "text": [
      "(10000, 1000) 1 (slice(None, None, None), slice(None, 1000, None)) (1, 25000) (1, 1000)\n",
      "(10000, 1000) 1 (slice(None, None, None), slice(None, 1000, None)) (1, 25000) (1, 1000)\n",
      "\n"
     ]
    }
   ],
   "source": [
    "plt.figure('Amplitude +1')\n",
    "pg.set_seq([pg.p('ro_trg', 100e-9, pg.rect, 1), pg.p('iq_ro', 1e-6, pg.rect, 1)])\n",
    "I = np.real(modem.measure()['iq_ro'])\n",
    "Q = np.imag(modem.measure()['iq_ro'])\n",
    "plt.hist2d(I, Q)\n",
    "print('')"
   ]
  },
  {
   "cell_type": "code",
   "execution_count": 34,
   "metadata": {
    "scrolled": true
   },
   "outputs": [
    {
     "name": "stdout",
     "output_type": "stream",
     "text": [
      "(10000, 1000) 1 (slice(None, None, None), slice(None, 1000, None)) (1, 25000) (1, 1000)\n",
      "(10000, 1000) 1 (slice(None, None, None), slice(None, 1000, None)) (1, 25000) (1, 1000)\n",
      "\n"
     ]
    }
   ],
   "source": [
    "plt.figure('Amplitude 0')\n",
    "pg.set_seq([pg.p('ro_trg', 100e-9, pg.rect, 1), pg.p('iq_ro', 1e-6, pg.rect, 0)])\n",
    "I = np.real(modem.measure()['iq_ro'])\n",
    "Q = np.imag(modem.measure()['iq_ro'])\n",
    "plt.hist2d(I, Q)\n",
    "print('')"
   ]
  },
  {
   "cell_type": "code",
   "execution_count": 86,
   "metadata": {
    "scrolled": true
   },
   "outputs": [
    {
     "name": "stdout",
     "output_type": "stream",
     "text": [
      "(10000, 1000) 1 (slice(None, None, None), slice(None, 1000, None)) (1, 25000) (1, 1000)\n",
      "(10000, 1000) 1 (slice(None, None, None), slice(None, 1000, None)) (1, 25000) (1, 1000)\n",
      "\n"
     ]
    }
   ],
   "source": [
    "plt.figure('Amplitude 1j')\n",
    "pg.set_seq([pg.p('ro_trg', 100e-9, pg.rect, 1), pg.p('iq_ro', 10e-6, pg.rect, 1j)])\n",
    "average_dispersive_shift.measure()\n",
    "plt.hist2d(I, Q)\n",
    "print('')"
   ]
  },
  {
   "cell_type": "code",
   "execution_count": 87,
   "metadata": {},
   "outputs": [
    {
     "name": "stdout",
     "output_type": "stream",
     "text": [
      "(10000, 1000) 1 (slice(None, None, None), slice(None, 1000, None)) (1, 25000) (1, 1000)\n"
     ]
    },
    {
     "data": {
      "text/plain": [
       "{'iq_ro': array([-0.28042025+0.1480687j ,  1.39589171+3.96634243j,\n",
       "        -1.10574160+0.15821745j, ..., -1.36835932+1.55812321j,\n",
       "         1.73517116+1.00666594j, -0.21359576+2.8579418j ])}"
      ]
     },
     "execution_count": 87,
     "metadata": {},
     "output_type": "execute_result"
    }
   ],
   "source": [
    "modem.measure()"
   ]
  },
  {
   "cell_type": "code",
   "execution_count": 88,
   "metadata": {
    "collapsed": true
   },
   "outputs": [],
   "source": [
    "average_dispersive_shift = data_reduce.data_reduce(modem)\n",
    "average_dispersive_shift.filters = {'S21': data_reduce.mean_reducer(modem, 'iq_ro', axis=0)}"
   ]
  },
  {
   "cell_type": "code",
   "execution_count": 63,
   "metadata": {},
   "outputs": [
    {
     "name": "stderr",
     "output_type": "stream",
     "text": [
      "C:\\ProgramData\\Anaconda2\\envs\\py36\\lib\\site-packages\\numpy\\core\\numeric.py:531: ComplexWarning: Casting complex values to real discards the imaginary part\n",
      "  return array(a, dtype, copy=False, order=order)\n"
     ]
    },
    {
     "data": {
      "text/plain": [
       "[<matplotlib.lines.Line2D at 0x1264e2b0>]"
      ]
     },
     "execution_count": 63,
     "metadata": {},
     "output_type": "execute_result"
    }
   ],
   "source": [
    "plt.figure()\n",
    "plt.plot(np.mean(adc.measure()['Voltage'], axis=0))"
   ]
  },
  {
   "cell_type": "code",
   "execution_count": 44,
   "metadata": {},
   "outputs": [
    {
     "name": "stderr",
     "output_type": "stream",
     "text": [
      "C:\\ProgramData\\Anaconda2\\envs\\py36\\lib\\site-packages\\numpy\\core\\numeric.py:531: ComplexWarning: Casting complex values to real discards the imaginary part\n",
      "  return array(a, dtype, copy=False, order=order)\n"
     ]
    },
    {
     "data": {
      "text/plain": [
       "[<matplotlib.lines.Line2D at 0x1460a940>]"
      ]
     },
     "execution_count": 44,
     "metadata": {},
     "output_type": "execute_result"
    }
   ],
   "source": [
    "plt.figure()\n",
    "plt.plot(np.mean(adc.measure()['Voltage']))"
   ]
  },
  {
   "cell_type": "code",
   "execution_count": 41,
   "metadata": {},
   "outputs": [
    {
     "data": {
      "text/plain": [
       "(10000, 1000)"
      ]
     },
     "execution_count": 41,
     "metadata": {},
     "output_type": "execute_result"
    }
   ],
   "source": [
    "adc.measure()['Voltage'].shape"
   ]
  },
  {
   "cell_type": "code",
   "execution_count": null,
   "metadata": {
    "collapsed": true
   },
   "outputs": [],
   "source": []
  }
 ],
 "metadata": {
  "kernelspec": {
   "display_name": "Python 3",
   "language": "python",
   "name": "python3"
  },
  "language_info": {
   "codemirror_mode": {
    "name": "ipython",
    "version": 3
   },
   "file_extension": ".py",
   "mimetype": "text/x-python",
   "name": "python",
   "nbconvert_exporter": "python",
   "pygments_lexer": "ipython3",
   "version": "3.6.5"
  },
  "toc": {
   "base_numbering": 1,
   "nav_menu": {
    "height": "845px",
    "width": "232px"
   },
   "number_sections": true,
   "sideBar": true,
   "skip_h1_title": false,
   "title_cell": "Table of Contents",
   "title_sidebar": "Contents",
   "toc_cell": false,
   "toc_position": {},
   "toc_section_display": true,
   "toc_window_display": true
  }
 },
 "nbformat": 4,
 "nbformat_minor": 2
}
