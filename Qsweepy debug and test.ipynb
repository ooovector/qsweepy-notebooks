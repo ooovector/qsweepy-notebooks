{
 "cells": [
  {
   "cell_type": "markdown",
   "metadata": {},
   "source": [
    "# Initialize, load modules"
   ]
  },
  {
   "cell_type": "code",
   "execution_count": 1,
   "metadata": {},
   "outputs": [
    {
     "name": "stdout",
     "output_type": "stream",
     "text": [
      "Failed loading module AWG500:  No module named 'ftd2xx'\n",
      "Failed loading module Labbrick:  [WinError 126] The specified module could not be found\n",
      "\n",
      "Failed loading module Signal_Hound_SA:  name 'signal_hound_dll' is not defined\n"
     ]
    },
    {
     "data": {
      "text/plain": [
       "<module 'qsweepy.qjson' from 'C:\\\\Users\\\\demouser\\\\Desktop\\\\Quantum\\\\qsweepy\\\\qjson.py'>"
      ]
     },
     "execution_count": 1,
     "metadata": {},
     "output_type": "execute_result"
    }
   ],
   "source": [
    "from qsweepy import *\n",
    "from qsweepy.instruments import *\n",
    "from qsweepy.save_pkl import save_pkl\n",
    "import matplotlib.pyplot as plt\n",
    "import numpy as np\n",
    "from matplotlib import interactive\n",
    "interactive(True)\n",
    "%matplotlib qt5\n",
    "#import awg_digital\n",
    "#import awg_iq\n",
    "#import data_reduce\n",
    "import imp\n",
    "#import fitting\n",
    "#import plotting\n",
    "import qsweepy.save_pkl\n",
    "#import qsweepy.tomography as tomography_new\n",
    "#import qsweepy.tomography_legacy as tomography\n",
    "#import sweep\n",
    "imp.reload(awg_digital)\n",
    "imp.reload(awg_iq)\n",
    "imp.reload(awg_iq_multi)\n",
    "imp.reload(data_reduce)\n",
    "imp.reload(fitting)\n",
    "imp.reload(plotting)\n",
    "imp.reload(qsweepy.save_pkl)\n",
    "imp.reload(pulses)\n",
    "imp.reload(single_shot_readout)\n",
    "imp.reload(readout_classifier)\n",
    "imp.reload(tomography)\n",
    "imp.reload(config)\n",
    "#imp.reload(tomography_new)\n",
    "imp.reload(sweep)\n",
    "imp.reload(qjson)"
   ]
  },
  {
   "cell_type": "markdown",
   "metadata": {},
   "source": [
    "# some (undesirable?) settings"
   ]
  },
  {
   "cell_type": "code",
   "execution_count": 2,
   "metadata": {},
   "outputs": [],
   "source": [
    "#Параметры кубитов.all keys should be str\n",
    "Qubits = {'2old': {'r':{\n",
    "                    'Fr': 7.29775e9,\n",
    "                     'P': -30 },\n",
    "              'q':{\n",
    "              '00-1-01': 4.25083e+09,\n",
    "              '01-1-02': 4.00871e+09,\n",
    "              '00-2-02': 4.12977e+09,\n",
    "                'P':None}\n",
    "             },\n",
    "          '2-070818':{'r':{'Fr': 7.2988e9,  'P': -30}, 'q':{'00-1-01': 4.25501e9, '00-2-02': 4.1e9, '01-1-02': 3.98e9}},\n",
    "          '2':{'r':{'Fr': 7.2988e9,  'P': -30}, 'q':{'00-1-01': 4.256397e9, '00-2-02': 4.1345e9, '01-1-02': 4.01420e9}},\n",
    "          '1':{'r':{'Fr': 7.2059e9, 'P': -30},'q':{ '00-1-01':4.242190e9+1.76e6, '00-2-02': 4.1e9, '01-1-02': 4.00020e9}}}\n",
    "qubit_params=Qubits\n",
    "qubit_id = '1'\n",
    "switch_to_sample = {'1':4, '2':3}\n",
    "#it should be dumped too\n",
    "qubits_dump = {\"qubits\":qubit_params,'switch':switch_to_sample}\n",
    "qjson.dump('qubits','qubit_params',qubits_dump)"
   ]
  },
  {
   "cell_type": "markdown",
   "metadata": {},
   "source": [
    "# Instruments for current setup"
   ]
  },
  {
   "cell_type": "code",
   "execution_count": 3,
   "metadata": {},
   "outputs": [
    {
     "name": "stdout",
     "output_type": "stream",
     "text": [
      "0\n",
      "0\n",
      "0\n",
      "0\n"
     ]
    }
   ],
   "source": [
    "# RF switch for making sure we know what sample we are measuring\n",
    "pna = Agilent_N5242A('pna', address = 'TCPIP0::10.20.61.48::inst0::INSTR')\n",
    "lo1 = Agilent_E8257D('lo1', address = 'TCPIP0::10.20.61.59::inst0::INSTR')\n",
    "#rf_switch = nn_rf_switch('rf_switch', address='10.20.61.224')\n",
    "\n",
    "CHASSIS = 1\n",
    "SLOT_IN = 11\n",
    "SLOT_OUT = 7\n",
    "awg = Keysight_M3202A_S('awg', CHASSIS, SLOT_OUT)\n",
    "adc = Keysight_M3102A('adc', CHASSIS, SLOT_IN)\n",
    "\n",
    "sa = Agilent_N9030A('pxa', address = 'TCPIP0::10.20.61.56::inst0::INSTR')\n",
    "lo_ex = lo1\n",
    "lo_ro = pna\n",
    "awg_tek=awg"
   ]
  },
  {
   "cell_type": "code",
   "execution_count": 4,
   "metadata": {},
   "outputs": [],
   "source": [
    "for channel in range(0,4):\n",
    "    awg.set_amplitude(.2, channel=channel)\n",
    "    awg.set_offset(0.3, channel=channel)\n",
    "    awg.set_output(1, channel=channel)\n",
    "    awg.set_waveform(waveform=[0], channel=channel)"
   ]
  },
  {
   "cell_type": "markdown",
   "metadata": {},
   "source": [
    "# Settings for current setup"
   ]
  },
  {
   "cell_type": "code",
   "execution_count": 5,
   "metadata": {},
   "outputs": [
    {
     "name": "stdout",
     "output_type": "stream",
     "text": [
      "100 0\n"
     ]
    }
   ],
   "source": [
    "# Источник тока - в autorange\n",
    "#current.set_autorange(1)\n",
    "#Мощности гетеродинов, постоянные\n",
    "#Мощность гетеродина для возбуждения 13-16 дБм\n",
    "\n",
    "lo_ex_pow = 14\n",
    "lo_ex.set_status(1)\n",
    "lo_ro_pow = 16\n",
    "lo_ro.set_power(lo_ro_pow)\n",
    "\n",
    "pna.write(\"OUTP ON\")\n",
    "pna.write(\"SOUR1:POW1:MODE ON\")\n",
    "pna.write(\"SOUR1:POW2:MODE OFF\")\n",
    "pna.set_sweep_mode(\"CW\")\n",
    "lo_ex.set_power(lo_ex_pow)\n",
    "\n",
    "ex_clock = 1e9\n",
    "ro_clock = 1e9\n",
    "\n",
    "rep_rate = 20e3 # частота повторений эксперимента\n",
    "\n",
    "awg.stop()\n",
    "#awg_tek.set_clock(ex_clock) # клок всех авгшк\n",
    "awg.set_nop(ex_clock/rep_rate) # репрейт нужно задавать по=хорошему только на управляющей,\n",
    "awg.run()\n",
    "# а вот длину сэмплов, которая очевидно то же самое, нужно задавать на всех авгшках.\n",
    "# хорошо, что сейчас она только одна.\n",
    "#this is zashkvar\n",
    "\n",
    "awg_tek = awg\n",
    "# channel 0 is master and triggers all others\n",
    "awg.trigger_source_types = [0, 6,6,6]\n",
    "awg.trigger_source_channels = [0, 4000,4000,4000] # pxi trigger 0 \n",
    "awg.trigger_delays = [40, 0,0,0] # master channel should wait 400 ns for others to start\n",
    "awg.trigger_behaviours = [0,4,4,4] #rising edge trigger\n",
    "for channel in range(0,4):\n",
    "    awg.set_amplitude(.2, channel=channel)\n",
    "    awg.set_offset(0, channel=channel)\n",
    "    awg.set_output(1, channel=channel)\n",
    "    awg.set_waveform(waveform=[0]*awg_tek.get_nop(), channel=channel)\n",
    "\n",
    "adc.set_input(channel=1, input=1)\n",
    "adc.set_input(channel=2, input=1)\n",
    "adc.set_trigger_external(channel=1)\n",
    "adc.set_trigger_external(channel=2)\n",
    "\n",
    "marker_length = 100\n",
    "readout_trigger_delay = 185\n",
    "trg_length = 10e-9\n",
    "\n",
    "awg.set_marker(length=marker_length, delay=0, channel=0)\n",
    "awg_channels =dict()\n",
    "ro_trg = awg_digital.awg_digital(awg_tek, 1)\n",
    "ro_trg.mode = 'set_delay'\n",
    "ro_trg.delay_setter = lambda x: adc.set_trigger_delay(int(x*adc.get_clock()/iq_ex.get_clock()-readout_trigger_delay))\n",
    "awg_channels['ro_trg'] = ro_trg\n"
   ]
  },
  {
   "cell_type": "code",
   "execution_count": 6,
   "metadata": {},
   "outputs": [
    {
     "name": "stdout",
     "output_type": "stream",
     "text": [
      "-73.95 4170000000.0\n"
     ]
    }
   ],
   "source": [
    "ro_if = 75e6\n",
    "lo_freq = 4.17e9\n",
    "# промежуточные частоты для гетеродинной схемы new:\n",
    "lo1.set_frequency(lo_freq)\n",
    "pna.set_frequency(qubit_params[qubit_id]['r']['Fr']+ro_if)\n",
    "ex_if = lo_freq-qubit_params[qubit_id]['q']['00-1-01']\n",
    "iq_ex = awg_iq_multi.awg_iq_multi(awg_tek, awg_tek, 0, 1, lo_ex)\n",
    "for tr,freq in qubit_params[qubit_id]['q'].items():\n",
    "    iq_ex.carriers[tr] = awg_iq_multi.carrier(iq_ex)\n",
    "    iq_ex.carriers[tr].set_frequency(freq)\n",
    "    awg_channels['iq_ex_'+tr]=iq_ex.carriers[tr]\n",
    "\n",
    "iq_ro = awg_iq_multi.awg_iq_multi(awg_tek, awg_tek, 2, 3, lo_ro)\n",
    "iq_ro.carriers['iq_ro'] = awg_iq_multi.carrier(iq_ro)\n",
    "iq_ro.carriers['iq_ro'].set_frequency(qubit_params[qubit_id]['r']['Fr'])\n",
    "awg_channels['iq_ro'] = iq_ro.carriers['iq_ro']\n",
    "readout_channels = {'iq_ro':awg_channels['iq_ro']}\n",
    "\n",
    "pg = pulses.pulses(awg_channels)\n",
    "print(ex_if*1e-6 ,lo_freq)"
   ]
  },
  {
   "cell_type": "code",
   "execution_count": 7,
   "metadata": {},
   "outputs": [
    {
     "name": "stdout",
     "output_type": "stream",
     "text": [
      "Excitation channel\n",
      "C:\\Users\\demouser\\Desktop\\Quantum\\data/calibrations/iq-dc/ lo_freq-4.17e+09\n",
      "C:\\Users\\demouser\\Desktop\\Quantum\\data/calibrations/iq-rf/ frequency-4.244e+09-if-7.395e+07-sideband_id-     0\n",
      "C:\\Users\\demouser\\Desktop\\Quantum\\data/calibrations/iq-rf/ frequency-4.1e+09-if--7e+07-sideband_id-     0\n",
      "C:\\Users\\demouser\\Desktop\\Quantum\\data/calibrations/iq-rf/ frequency- 4e+09-if--1.698e+08-sideband_id-     0\n",
      "Readout channel\n",
      "C:\\Users\\demouser\\Desktop\\Quantum\\data/calibrations/iq-dc/ lo_freq-7.281e+09\n",
      "C:\\Users\\demouser\\Desktop\\Quantum\\data/calibrations/iq-rf/ frequency-7.206e+09-if--7.5e+07-sideband_id-     0\n"
     ]
    }
   ],
   "source": [
    "print(\"Excitation channel\", end='\\n')\n",
    "iq_ex.do_calibration(sa)\n",
    "print(\"Readout channel\", end='\\n')\n",
    "iq_ro.do_calibration(sa)"
   ]
  },
  {
   "cell_type": "code",
   "execution_count": 8,
   "metadata": {
    "collapsed": true
   },
   "outputs": [],
   "source": [
    "trigger_readout_seq = [pg.p('ro_trg', 100e-9, pg.rect, 1)]"
   ]
  },
  {
   "cell_type": "code",
   "execution_count": 60,
   "metadata": {
    "collapsed": true
   },
   "outputs": [],
   "source": [
    "adc.set_nums(50)\n",
    "adc.set_nop(25000)"
   ]
  },
  {
   "cell_type": "code",
   "execution_count": 61,
   "metadata": {
    "collapsed": true
   },
   "outputs": [],
   "source": [
    "from qsweepy import modem_readout\n",
    "imp.reload(pulses)\n",
    "imp.reload(modem_readout)\n",
    "imp.reload(data_reduce)\n",
    "modem = modem_readout.modem_readout(pg, adc, trigger_readout_seq, axis_mean=0)\n",
    "\n",
    "modem.readout_channels = readout_channels"
   ]
  },
  {
   "cell_type": "code",
   "execution_count": 62,
   "metadata": {},
   "outputs": [
    {
     "data": {
      "text/plain": [
       "array([ 1.00000000+0.j        ,  0.58778525-0.80901699j,\n",
       "       -0.30901699-0.95105652j, ..., -0.95105652+0.30901699j,\n",
       "       -0.30901699+0.95105652j,  0.58778525+0.80901699j])"
      ]
     },
     "execution_count": 62,
     "metadata": {},
     "output_type": "execute_result"
    }
   ],
   "source": [
    "modem.demodulation(awg_channels['iq_ro'])"
   ]
  },
  {
   "cell_type": "code",
   "execution_count": 63,
   "metadata": {},
   "outputs": [
    {
     "name": "stdout",
     "output_type": "stream",
     "text": [
      "2.74e-07 137.0\n",
      "2e-09 1.0\n"
     ]
    }
   ],
   "source": [
    "#plt.figure()\n",
    "ro_trg.delay_setter = lambda x: adc.set_trigger_delay(int(x*adc.get_clock()/iq_ex.get_clock()-0))\n",
    "readout_trigger_delay = modem.calibrate_delay()[awg_channels['iq_ro']]\n",
    "readout_trigger_delay_cycles = readout_trigger_delay*adc.get_clock()\n",
    "print (readout_trigger_delay, readout_trigger_delay_cycles)\n",
    "ro_trg.delay_setter = lambda x: adc.set_trigger_delay(int(x*adc.get_clock()/iq_ex.get_clock()-readout_trigger_delay_cycles))\n",
    "readout_trigger_delay = modem.calibrate_delay()[awg_channels['iq_ro']]\n",
    "readout_trigger_delay_cycles = readout_trigger_delay*adc.get_clock()\n",
    "print (readout_trigger_delay, readout_trigger_delay_cycles)"
   ]
  },
  {
   "cell_type": "code",
   "execution_count": 64,
   "metadata": {},
   "outputs": [
    {
     "data": {
      "text/plain": [
       "{'iq_ro': {'coherent_background': array([-1123.54-727.82j,  -373.24-263.5j ,  -772.74-328.76j, ...,\n",
       "          -391.34+263.2j ,  -701.00 -30.66j, -1057.94+338.j  ]),\n",
       "  'feature': array([  3.58221114e-06 +1.22000280e-05j,\n",
       "           7.79031019e-06 +1.17322303e-05j,\n",
       "           5.57584774e-06 +1.59203586e-06j, ...,\n",
       "          -5.57826245e-06 -1.33451524e-05j,\n",
       "          -7.78977598e-06 -9.13206785e-06j,  -3.57916843e-06 +2.60976281e-06j]),\n",
       "  'iq_calibration': array([ -1.02789192e-06 +9.61337613e-06j,   4.61010306e-06 +2.58665191e-06j])}}"
      ]
     },
     "execution_count": 64,
     "metadata": {},
     "output_type": "execute_result"
    }
   ],
   "source": [
    "modem.calibrate_dc()"
   ]
  },
  {
   "cell_type": "code",
   "execution_count": 65,
   "metadata": {},
   "outputs": [
    {
     "data": {
      "text/plain": [
       "{'iq_ro': {'coherent_background': array([-1123.54-727.82j,  -373.24-263.5j ,  -772.74-328.76j, ...,\n",
       "          -391.34+263.2j ,  -701.00 -30.66j, -1057.94+338.j  ]),\n",
       "  'feature': array([  3.58221114e-06 +1.22000280e-05j,\n",
       "           7.79031019e-06 +1.17322303e-05j,\n",
       "           5.57584774e-06 +1.59203586e-06j, ...,\n",
       "          -5.57826245e-06 -1.33451524e-05j,\n",
       "          -7.78977598e-06 -9.13206785e-06j,  -3.57916843e-06 +2.60976281e-06j]),\n",
       "  'iq_calibration': array([ -1.02789192e-06 +9.61337613e-06j,   4.61010306e-06 +2.58665191e-06j])}}"
      ]
     },
     "execution_count": 65,
     "metadata": {},
     "output_type": "execute_result"
    }
   ],
   "source": [
    "modem.iq_readout_calibrations\n"
   ]
  },
  {
   "cell_type": "code",
   "execution_count": 66,
   "metadata": {},
   "outputs": [],
   "source": [
    "modem.filters = modem.calibrated_filters"
   ]
  },
  {
   "cell_type": "code",
   "execution_count": 83,
   "metadata": {},
   "outputs": [
    {
     "name": "stdout",
     "output_type": "stream",
     "text": [
      "(10000, 1000) 1 (slice(None, None, None), slice(None, 1000, None)) (1, 25000) (1, 1000)\n",
      "(10000, 1000) 1 (slice(None, None, None), slice(None, 1000, None)) (1, 25000) (1, 1000)\n"
     ]
    },
    {
     "data": {
      "text/plain": [
       "(array([[   1.,    0.,    0.,    6.,    6.,    4.,    4.,    1.,    0.,\n",
       "            0.],\n",
       "        [   0.,    2.,    9.,   20.,   37.,   46.,   28.,   10.,    1.,\n",
       "            0.],\n",
       "        [   0.,    5.,   34.,   84.,  221.,  200.,  112.,   28.,    5.,\n",
       "            0.],\n",
       "        [   1.,   13.,   70.,  257.,  489.,  492.,  284.,   95.,   15.,\n",
       "            2.],\n",
       "        [   2.,   23.,  105.,  390.,  747.,  849.,  488.,  166.,   22.,\n",
       "            7.],\n",
       "        [   3.,   16.,  112.,  405.,  690.,  749.,  408.,  124.,   28.,\n",
       "            4.],\n",
       "        [   1.,    8.,   70.,  203.,  406.,  448.,  241.,   67.,   13.,\n",
       "            1.],\n",
       "        [   0.,    3.,   17.,   68.,  150.,  144.,   87.,   21.,    5.,\n",
       "            1.],\n",
       "        [   1.,    0.,    3.,   20.,   33.,   29.,   23.,    5.,    0.,\n",
       "            0.],\n",
       "        [   0.,    0.,    0.,    1.,    1.,    4.,    4.,    1.,    1.,\n",
       "            0.]]),\n",
       " array([-5.70241186, -4.85178144, -4.00115102, -3.1505206 , -2.29989018,\n",
       "        -1.44925976, -0.59862935,  0.25200107,  1.10263149,  1.95326191,\n",
       "         2.80389233]),\n",
       " array([-6.83159978, -5.87067466, -4.90974955, -3.94882444, -2.98789932,\n",
       "        -2.02697421, -1.0660491 , -0.10512399,  0.85580113,  1.81672624,\n",
       "         2.77765135]),\n",
       " <matplotlib.image.AxesImage at 0x1eb084e0>)"
      ]
     },
     "execution_count": 83,
     "metadata": {},
     "output_type": "execute_result"
    }
   ],
   "source": [
    "adc.set_nop(1000)\n",
    "adc.set_nums(10000)\n",
    "plt.figure('Amplitude -1')\n",
    "pg.set_seq([pg.p('ro_trg', 100e-9, pg.rect, 1), pg.p('iq_ro', 10e-6, pg.rect, -1)])\n",
    "I = np.real(modem.measure()['iq_ro'])\n",
    "Q = np.imag(modem.measure()['iq_ro'])\n",
    "plt.hist2d(I, Q)\n",
    "print('')"
   ]
  },
  {
   "cell_type": "code",
   "execution_count": 84,
   "metadata": {
    "scrolled": true
   },
   "outputs": [
    {
     "name": "stdout",
     "output_type": "stream",
     "text": [
      "(10000, 1000) 1 (slice(None, None, None), slice(None, 1000, None)) (1, 25000) (1, 1000)\n",
      "(10000, 1000) 1 (slice(None, None, None), slice(None, 1000, None)) (1, 25000) (1, 1000)\n"
     ]
    },
    {
     "data": {
      "text/plain": [
       "(array([[  0.00000000e+00,   0.00000000e+00,   1.00000000e+00,\n",
       "           1.00000000e+01,   1.30000000e+01,   6.00000000e+00,\n",
       "           5.00000000e+00,   0.00000000e+00,   0.00000000e+00,\n",
       "           0.00000000e+00],\n",
       "        [  0.00000000e+00,   2.00000000e+00,   2.60000000e+01,\n",
       "           6.60000000e+01,   9.20000000e+01,   6.30000000e+01,\n",
       "           2.00000000e+01,   2.00000000e+00,   0.00000000e+00,\n",
       "           0.00000000e+00],\n",
       "        [  2.00000000e+00,   2.00000000e+01,   1.12000000e+02,\n",
       "           2.79000000e+02,   3.85000000e+02,   2.43000000e+02,\n",
       "           6.80000000e+01,   1.10000000e+01,   3.00000000e+00,\n",
       "           0.00000000e+00],\n",
       "        [  6.00000000e+00,   4.20000000e+01,   2.37000000e+02,\n",
       "           6.87000000e+02,   8.76000000e+02,   5.53000000e+02,\n",
       "           1.84000000e+02,   2.90000000e+01,   1.00000000e+00,\n",
       "           0.00000000e+00],\n",
       "        [  6.00000000e+00,   5.50000000e+01,   3.34000000e+02,\n",
       "           8.27000000e+02,   1.03200000e+03,   6.48000000e+02,\n",
       "           2.31000000e+02,   3.30000000e+01,   2.00000000e+00,\n",
       "           0.00000000e+00],\n",
       "        [  4.00000000e+00,   4.40000000e+01,   1.98000000e+02,\n",
       "           4.95000000e+02,   6.53000000e+02,   4.44000000e+02,\n",
       "           1.27000000e+02,   2.40000000e+01,   1.00000000e+00,\n",
       "           0.00000000e+00],\n",
       "        [  1.00000000e+00,   1.10000000e+01,   6.60000000e+01,\n",
       "           1.75000000e+02,   2.11000000e+02,   1.44000000e+02,\n",
       "           5.10000000e+01,   8.00000000e+00,   0.00000000e+00,\n",
       "           1.00000000e+00],\n",
       "        [  0.00000000e+00,   3.00000000e+00,   1.30000000e+01,\n",
       "           3.40000000e+01,   3.20000000e+01,   2.10000000e+01,\n",
       "           5.00000000e+00,   6.00000000e+00,   1.00000000e+00,\n",
       "           0.00000000e+00],\n",
       "        [  0.00000000e+00,   1.00000000e+00,   0.00000000e+00,\n",
       "           1.00000000e+00,   7.00000000e+00,   1.00000000e+00,\n",
       "           2.00000000e+00,   0.00000000e+00,   0.00000000e+00,\n",
       "           0.00000000e+00],\n",
       "        [  0.00000000e+00,   0.00000000e+00,   0.00000000e+00,\n",
       "           0.00000000e+00,   1.00000000e+00,   2.00000000e+00,\n",
       "           0.00000000e+00,   0.00000000e+00,   0.00000000e+00,\n",
       "           0.00000000e+00]]),\n",
       " array([-2.51459406, -1.57150393, -0.62841379,  0.31467634,  1.25776648,\n",
       "         2.20085662,  3.14394675,  4.08703689,  5.03012702,  5.97321716,\n",
       "         6.9163073 ]),\n",
       " array([-2.82345867, -1.77316693, -0.72287519,  0.32741654,  1.37770828,\n",
       "         2.42800002,  3.47829176,  4.5285835 ,  5.57887524,  6.62916698,\n",
       "         7.67945872]),\n",
       " <matplotlib.image.AxesImage at 0x121df6a0>)"
      ]
     },
     "execution_count": 84,
     "metadata": {},
     "output_type": "execute_result"
    }
   ],
   "source": [
    "plt.figure('Amplitude +1')\n",
    "pg.set_seq([pg.p('ro_trg', 100e-9, pg.rect, 1), pg.p('iq_ro', 10e-6, pg.rect, 1)])\n",
    "I = np.real(modem.measure()['iq_ro'])\n",
    "Q = np.imag(modem.measure()['iq_ro'])\n",
    "plt.hist2d(I, Q)\n",
    "print('')"
   ]
  },
  {
   "cell_type": "code",
   "execution_count": 85,
   "metadata": {
    "scrolled": true
   },
   "outputs": [
    {
     "name": "stdout",
     "output_type": "stream",
     "text": [
      "(10000, 1000) 1 (slice(None, None, None), slice(None, 1000, None)) (1, 25000) (1, 1000)\n",
      "(10000, 1000) 1 (slice(None, None, None), slice(None, 1000, None)) (1, 25000) (1, 1000)\n"
     ]
    },
    {
     "data": {
      "text/plain": [
       "(array([[   0.,    0.,    3.,    1.,    5.,    4.,    4.,    1.,    1.,\n",
       "            0.],\n",
       "        [   0.,    5.,   13.,   30.,   40.,   44.,   22.,   10.,    1.,\n",
       "            0.],\n",
       "        [   3.,   11.,   56.,  131.,  243.,  211.,  109.,   36.,    8.,\n",
       "            4.],\n",
       "        [   7.,   26.,  107.,  344.,  548.,  530.,  302.,  102.,   24.,\n",
       "            2.],\n",
       "        [  10.,   44.,  193.,  524.,  797.,  763.,  441.,  139.,   40.,\n",
       "            9.],\n",
       "        [   4.,   34.,  145.,  461.,  662.,  674.,  396.,  126.,   31.,\n",
       "            1.],\n",
       "        [   4.,   24.,   81.,  192.,  305.,  303.,  167.,   60.,   19.,\n",
       "            4.],\n",
       "        [   0.,    4.,   21.,   55.,   92.,   73.,   48.,   14.,    5.,\n",
       "            0.],\n",
       "        [   0.,    0.,    0.,   12.,   14.,   13.,    2.,    1.,    0.,\n",
       "            0.],\n",
       "        [   0.,    0.,    0.,    1.,    1.,    1.,    1.,    1.,    0.,\n",
       "            0.]]),\n",
       " array([-4.25042974, -3.34598376, -2.44153778, -1.53709179, -0.63264581,\n",
       "         0.27180018,  1.17624616,  2.08069215,  2.98513813,  3.88958411,\n",
       "         4.7940301 ]),\n",
       " array([-4.41304053, -3.5346004 , -2.65616028, -1.77772015, -0.89928003,\n",
       "        -0.0208399 ,  0.85760023,  1.73604035,  2.61448048,  3.4929206 ,\n",
       "         4.37136073]),\n",
       " <matplotlib.image.AxesImage at 0x1eaca588>)"
      ]
     },
     "execution_count": 85,
     "metadata": {},
     "output_type": "execute_result"
    }
   ],
   "source": [
    "plt.figure('Amplitude 0')\n",
    "pg.set_seq([pg.p('ro_trg', 100e-9, pg.rect, 1), pg.p('iq_ro', 10e-6, pg.rect, 0)])\n",
    "I = np.real(modem.measure()['iq_ro'])\n",
    "Q = np.imag(modem.measure()['iq_ro'])\n",
    "plt.hist2d(I, Q)\n",
    "print('')"
   ]
  },
  {
   "cell_type": "code",
   "execution_count": 86,
   "metadata": {
    "scrolled": true
   },
   "outputs": [
    {
     "name": "stdout",
     "output_type": "stream",
     "text": [
      "(10000, 1000) 1 (slice(None, None, None), slice(None, 1000, None)) (1, 25000) (1, 1000)\n",
      "(10000, 1000) 1 (slice(None, None, None), slice(None, 1000, None)) (1, 25000) (1, 1000)\n",
      "\n"
     ]
    }
   ],
   "source": [
    "plt.figure('Amplitude 1j')\n",
    "pg.set_seq([pg.p('ro_trg', 100e-9, pg.rect, 1), pg.p('iq_ro', 10e-6, pg.rect, 1j)])\n",
    "I = np.real(modem.measure()['iq_ro'])\n",
    "Q = np.imag(modem.measure()['iq_ro'])\n",
    "plt.hist2d(I, Q)\n",
    "print('')"
   ]
  },
  {
   "cell_type": "code",
   "execution_count": null,
   "metadata": {
    "collapsed": true
   },
   "outputs": [],
   "source": []
  },
  {
   "cell_type": "code",
   "execution_count": null,
   "metadata": {
    "collapsed": true
   },
   "outputs": [],
   "source": [
    "plt.hist"
   ]
  },
  {
   "cell_type": "code",
   "execution_count": 77,
   "metadata": {},
   "outputs": [
    {
     "name": "stderr",
     "output_type": "stream",
     "text": [
      "C:\\ProgramData\\Anaconda2\\envs\\py36\\lib\\site-packages\\numpy\\core\\numeric.py:531: ComplexWarning: Casting complex values to real discards the imaginary part\n",
      "  return array(a, dtype, copy=False, order=order)\n"
     ]
    },
    {
     "data": {
      "text/plain": [
       "[<matplotlib.lines.Line2D at 0x121bf6d8>]"
      ]
     },
     "execution_count": 77,
     "metadata": {},
     "output_type": "execute_result"
    }
   ],
   "source": [
    "plt.plot(np.mean(adc.measure()['Voltage'], axis=0))"
   ]
  },
  {
   "cell_type": "code",
   "execution_count": null,
   "metadata": {
    "collapsed": true
   },
   "outputs": [],
   "source": []
  }
 ],
 "metadata": {
  "kernelspec": {
   "display_name": "Python 3",
   "language": "python",
   "name": "python3"
  },
  "language_info": {
   "codemirror_mode": {
    "name": "ipython",
    "version": 3
   },
   "file_extension": ".py",
   "mimetype": "text/x-python",
   "name": "python",
   "nbconvert_exporter": "python",
   "pygments_lexer": "ipython3",
   "version": "3.6.1"
  },
  "toc": {
   "base_numbering": 1,
   "nav_menu": {
    "height": "845px",
    "width": "232px"
   },
   "number_sections": true,
   "sideBar": true,
   "skip_h1_title": false,
   "title_cell": "Table of Contents",
   "title_sidebar": "Contents",
   "toc_cell": false,
   "toc_position": {},
   "toc_section_display": true,
   "toc_window_display": true
  }
 },
 "nbformat": 4,
 "nbformat_minor": 2
}
