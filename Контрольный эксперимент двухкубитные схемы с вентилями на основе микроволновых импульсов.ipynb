{
 "cells": [
  {
   "cell_type": "markdown",
   "metadata": {},
   "source": [
    "### Запуск QtLab"
   ]
  },
  {
   "cell_type": "markdown",
   "metadata": {},
   "source": [
    "Для начала надо добавить пути со скриптами и драйверами устройств, подключить библиотеки numpy и matplotlib."
   ]
  },
  {
   "cell_type": "code",
   "execution_count": 1,
   "metadata": {
    "scrolled": true
   },
   "outputs": [
    {
     "name": "stdout",
     "output_type": "stream",
     "text": [
      "Failed loading module Keysight_M3102A:  No module named 'keysightSD1'\n",
      "Failed loading module Keysight_M3202A:  No module named 'keysightSD1'\n",
      "\n",
      "Failed loading module Signal_Hound_SA:  name 'signal_hound_dll' is not defined\n"
     ]
    }
   ],
   "source": [
    "%matplotlib qt5\n",
    "from qsweepy import *\n",
    "from qsweepy.instruments import *\n",
    "from qsweepy.save_pkl import save_pkl\n",
    "import matplotlib.pyplot as plt\n",
    "import numpy as np\n",
    "from matplotlib import interactive\n",
    "interactive(True)\n",
    "import imp\n",
    "import qsweepy.save_pkl"
   ]
  },
  {
   "cell_type": "markdown",
   "metadata": {},
   "source": [
    "## Параметры кубитов"
   ]
  },
  {
   "cell_type": "code",
   "execution_count": 70,
   "metadata": {
    "collapsed": true
   },
   "outputs": [],
   "source": [
    "#Параметры кубитов.all keys should be str\n",
    "Qubits = {'1':{'r':{'Fr': 7.278e9, 'P': -3},\n",
    "               'q':{'00-1-01': 4.246158e9, \n",
    "                    '00-2-02': 4.12454e9,\n",
    "                    '00-2-11': 4.09916e9,\n",
    "                    '01-1-02': 4.0030e9, \n",
    "                    '00-1-10': 3.94780e9,\n",
    "                    '00-2-20': 3.82293e9,\n",
    "                    '10-1-20': 3.6990e9}},\n",
    "        '2':{'r':{'Fr': 7.332e9, 'P':-10}, \n",
    "               'q':{'00-1-01': 4.250412e9,#4.24947e9,\n",
    "                    '00-2-02': 4.12927e9,#4.129e9,  \n",
    "                    '00-2-11': 4.09495e9,\n",
    "                    '01-1-02': 4.0147e9, \n",
    "                    '00-1-10': 3.93139e9,#3.9316e9,\n",
    "                    '00-2-20': 3.80671e9,#3.80683e9,\n",
    "                    '10-1-20': 3.6762e9}}}\n",
    "qubit_params=Qubits\n",
    "qubit_id = '2'\n",
    "#it should be dumped too\n",
    "#qubits_dump = {\"qubits\":qubit_params,'switch':switch_to_sample}\n",
    "#qjson.dump('qubits','qubit_params',qubits_dump)"
   ]
  },
  {
   "cell_type": "markdown",
   "metadata": {},
   "source": [
    "## измерительные устройства"
   ]
  },
  {
   "cell_type": "code",
   "execution_count": 5,
   "metadata": {},
   "outputs": [
    {
     "name": "stderr",
     "output_type": "stream",
     "text": [
      "WARNING:root:Tektronix_AWG5014 : get all not yet fully functional\n"
     ]
    }
   ],
   "source": [
    "# RF switch for making sure we know what sample we are measuring\n",
    "pna = Agilent_N5242A('pna', address = 'TCPIP0::10.20.61.48::inst0::INSTR')\n",
    "lo1 = Agilent_E8257D('lo1', address = 'TCPIP0::10.20.61.59::inst0::INSTR')\n",
    "rf_switch = nn_rf_switch('rf_switch', address='10.20.61.224')\n",
    "awg = Tektronix_AWG5014('awg_tek', address = 'TCPIP0::10.20.61.186::inst0::INSTR')\n",
    "adc = Spectrum_M3i2132('adc')\n",
    "sa = Agilent_N9030A('pxa', address = 'TCPIP0::10.20.61.56::inst0::INSTR')\n",
    "lo_ex = lo1\n",
    "lo_ro = pna\n",
    "awg_tek=awg"
   ]
  },
  {
   "cell_type": "markdown",
   "metadata": {},
   "source": [
    "## Спектроскопия"
   ]
  },
  {
   "cell_type": "code",
   "execution_count": 64,
   "metadata": {
    "collapsed": true
   },
   "outputs": [],
   "source": [
    "# векторный анализатор в режим линейного свипа\n",
    "pna.set_sweep_mode(\"LIN\")\n",
    "# Смесители -- в режим пропускания\n",
    "for channel in range(1,5): #AWG5014C\n",
    "#for channel in range(0,4): # M3202A\n",
    "    awg.set_amplitude(.2, channel=channel)\n",
    "    awg.set_offset(0.1, channel=channel)\n",
    "    awg.set_output(1, channel=channel)\n",
    "    awg.set_waveform([0], channel=channel)"
   ]
  },
  {
   "cell_type": "markdown",
   "metadata": {},
   "source": [
    "# Однотоновая спектроскопия резонатора в зависимости от мощности\n"
   ]
  },
  {
   "cell_type": "code",
   "execution_count": 68,
   "metadata": {},
   "outputs": [
    {
     "data": {
      "application/vnd.jupyter.widget-view+json": {
       "model_id": "d74a451fa25a42afa63bc4c2e416bdd5",
       "version_major": 2,
       "version_minor": 0
      },
      "text/plain": [
       "A Jupyter Widget"
      ]
     },
     "metadata": {},
     "output_type": "display_data"
    },
    {
     "name": "stdout",
     "output_type": "stream",
     "text": [
      "Started at:  Aug 29 2018 16:42:44\n",
      "Exiting sweep main thread #{} via return 2932\n",
      "\n",
      "Elapsed time: 0 h 1 m 38.04 s\n"
     ]
    }
   ],
   "source": [
    "lo1.set_status(0)\n",
    "pna.set_status(1)\n",
    "#pna.set_power(-35) #\n",
    "powers = np.linspace(10, -20, 31)\n",
    "pna.set_nop(101)\n",
    "pna.set_xlim(7.25e9, 7.35e9)\n",
    "pna.set_bandwidth(30)\n",
    "#freqs = pna.get_freqpoints()\n",
    "#S21 = pna.get_tracedata()\n",
    "meas = sweep.sweep(pna, (powers, pna.set_power, 'Мощность, дБ'), filename='Однотоновая спектроскопия, образец #{}'.format(qubit_id))"
   ]
  },
  {
   "cell_type": "markdown",
   "metadata": {},
   "source": [
    "## построение графиков задержки"
   ]
  },
  {
   "cell_type": "code",
   "execution_count": 69,
   "metadata": {
    "collapsed": true
   },
   "outputs": [],
   "source": [
    "delay_median = np.median(np.gradient(np.angle(meas['S-parameter'][2]), axis=1))\n",
    "phase_compensator = np.exp(-1j*delay_median*np.arange(meas['S-parameter'][2].shape[1]))\n",
    "meas_delay_compensated = meas['S-parameter'][2]*phase_compensator\n",
    "meas_phase_median = np.median(np.angle(meas['S-parameter'][2]), axis=1)\n",
    "#plt.figure('Однотоновая спектроскопия резонатора в зависимости от мощности')\n",
    "meas_compensated = {'S-parameter':[i for i in meas['S-parameter']]}\n",
    "meas_compensated['S-parameter'][2] = meas['S-parameter'][2]*phase_compensator\n",
    "\n",
    "frequencies = meas_compensated['S-parameter'][1][1]/1e9\n",
    "ang_freq_step = 2*np.pi*(frequencies[1]-frequencies[0])\n",
    "\n",
    "#plotting.plot_measurement(meas_compensated)\n",
    "plt.figure(figsize=(12,6))\n",
    "plt.title('Однотоновая спектроскопия резонатора в зависимости от мощности, образец #{}'.format(qubit_id))\n",
    "plt.pcolormesh(meas_compensated['S-parameter'][1][0], \n",
    "               meas_compensated['S-parameter'][1][1]/1e9, \n",
    "               -np.gradient(np.unwrap(np.angle(meas_compensated['S-parameter'][2])).T)[0]/ang_freq_step, cmap='RdBu')\n",
    "plt.colorbar()\n",
    "#plt.close()\n",
    "plt.xlabel('Мощность, дБ')\n",
    "plt.ylabel('Частота, ГГц')\n",
    "plt.tight_layout()\n",
    "plt.grid(True)\n",
    "plt.savefig('single-tone-spectroscopy.pdf')\n",
    "\n",
    "\n",
    "plt.figure(figsize=(12,6))\n",
    "plt.title('Однотоновая спектроскопия резонатора (-10 дБм), образец #{}'.format(qubit_id))\n",
    "plt.plot(meas_compensated['S-parameter'][1][1]/1e9, \n",
    "               -np.gradient(np.unwrap(np.angle(meas_compensated['S-parameter'][2])).T)[0][:,21]/ang_freq_step)\n",
    "#plt.close()\n",
    "plt.xlabel('Частота, ГГц')\n",
    "plt.ylabel('Задержка, нс')\n",
    "plt.tight_layout()\n",
    "plt.grid(True)\n",
    "plt.savefig('single-tone-spectroscopy-cs.pdf')"
   ]
  },
  {
   "cell_type": "code",
   "execution_count": 38,
   "metadata": {
    "collapsed": true
   },
   "outputs": [],
   "source": [
    "plt.figure(figsize=(12,6))\n",
    "plt.title('Однотоновая спектроскопия резонатора (0 дБм), образец #{}'.format(qubit_id))\n",
    "plt.plot(meas_compensated['S-parameter'][1][1]/1e9, \n",
    "               -np.gradient(np.unwrap(np.angle(meas_compensated['S-parameter'][2])).T)[0][:,17]/ang_freq_step)\n",
    "#plt.close()\n",
    "plt.xlabel('Частота, ГГц')\n",
    "plt.ylabel('Задержка, нс')\n",
    "plt.tight_layout()\n",
    "plt.grid(True)\n",
    "plt.savefig('single-tone-spectroscopy-cs.pdf')"
   ]
  },
  {
   "cell_type": "markdown",
   "metadata": {},
   "source": [
    "# Двухтоновая спектроскопия (определение области частот, отвечающих кубитам)"
   ]
  },
  {
   "cell_type": "code",
   "execution_count": 71,
   "metadata": {},
   "outputs": [
    {
     "data": {
      "application/vnd.jupyter.widget-view+json": {
       "model_id": "8aca43333c3f4005ab0f0f9531dd64eb",
       "version_major": 2,
       "version_minor": 0
      },
      "text/plain": [
       "A Jupyter Widget"
      ]
     },
     "metadata": {},
     "output_type": "display_data"
    },
    {
     "name": "stdout",
     "output_type": "stream",
     "text": [
      "Started at:  Aug 29 2018 16:46:30\n",
      "Exiting sweep main thread #{} via return 11188\n",
      "\n",
      "Elapsed time: 0 h 1 m 29.21 s\n"
     ]
    },
    {
     "data": {
      "text/plain": [
       "True"
      ]
     },
     "execution_count": 71,
     "metadata": {},
     "output_type": "execute_result"
    }
   ],
   "source": [
    "ex_freqs = np.arange(3.0e9, 9.0e9, 5e6)\n",
    "#lo1.set_power(-10) # no mixer\n",
    "lo1.set_power(0) # w/mixer\n",
    "#Измерение\n",
    "lo1.set_status(1)\n",
    "pna.set_nop(1)\n",
    "pna.set_centerfreq(Qubits[qubit_id]['r']['Fr'])\n",
    "pna.set_frequency(Qubits[qubit_id]['r']['Fr'])\n",
    "pna.set_bandwidth(20)\n",
    "pna.set_power(Qubits[qubit_id]['r']['P'])\n",
    "\n",
    "header = '''#Parameter = Ex frequency\n",
    "#Ex power = {:f}'''\n",
    "try:\n",
    "    ex1D = sweep.sweep(pna, (ex_freqs, lo1.set_frequency, 'Second tone freq', 'Hz'), \n",
    "                       filename = \"Двухтоновая спектроскопия образец #{}\".format(qubit_id))\n",
    "except KeyboardInterrupt: pass \n",
    "lo1.set_status(0)"
   ]
  },
  {
   "cell_type": "markdown",
   "metadata": {},
   "source": [
    "# Двухтоновая спектроскопия при различных мощностях второго (возбуждающего) тона"
   ]
  },
  {
   "cell_type": "code",
   "execution_count": 72,
   "metadata": {},
   "outputs": [
    {
     "data": {
      "application/vnd.jupyter.widget-view+json": {
       "model_id": "972d7d45599a4e33aea87f82d1543e3c",
       "version_major": 2,
       "version_minor": 0
      },
      "text/plain": [
       "A Jupyter Widget"
      ]
     },
     "metadata": {},
     "output_type": "display_data"
    },
    {
     "name": "stdout",
     "output_type": "stream",
     "text": [
      "Started at:  Aug 29 2018 16:48:42\n",
      "Exiting sweep main thread #{} via return 9444\n",
      "\n",
      "Elapsed time: 0 h 6 m 15.36 s\n"
     ]
    },
    {
     "data": {
      "text/plain": [
       "True"
      ]
     },
     "execution_count": 72,
     "metadata": {},
     "output_type": "execute_result"
    }
   ],
   "source": [
    "ex_freqs = np.arange(3.4e9, 4.4e9, 4e6)\n",
    "#ex_freqs = np.arange(4.08e9, 4.12e9,0.25e6)\n",
    "ex_powers = np.arange(-20, 14, 1)\n",
    "\n",
    "pna.set_xlim(Qubits[qubit_id]['r']['Fr'], Qubits[qubit_id]['r']['Fr'])\n",
    "pna.set_nop(1)\n",
    "#pna.set_power(Qubits[qubit_id]['r']['P']+10)\n",
    "#pna.set_power(-30)\n",
    "pna.set_power(Qubits[qubit_id]['r']['P'])\n",
    "pna.set_bandwidth(40)\n",
    "#lo1.set_power(-20)\n",
    "\n",
    "header = '''#Parameter =\n",
    "#Ro power = {:f}'''.format( pna.get_power() )\n",
    "\n",
    "lo1.set_status(1)\n",
    "#ps.S21vs2DPar(pna, currents, current.set_current, ex_freqs, lo1.set_frequency, filename = \"#2{:.1f}dBm\".format(lo1.get_power()),\\\n",
    "#           header = header)\n",
    "ex2D = sweep.sweep(pna, (ex_powers, lo1.set_power, 'Мощность второго тона, дБ'), \n",
    "                   (ex_freqs, lo1.set_frequency, 'Частота второго тона, ГГц'), \n",
    "                   filename = \"Двухтоновая спектроскопия при различных мощностях второго (возбуждающего) тона образец #{}\".format(qubit_id),\\\n",
    "           header = header, shuffle=True)\n",
    "lo1.set_status(0)"
   ]
  },
  {
   "cell_type": "markdown",
   "metadata": {},
   "source": [
    "# Точное наблюдение линии 00->11"
   ]
  },
  {
   "cell_type": "code",
   "execution_count": 74,
   "metadata": {},
   "outputs": [
    {
     "data": {
      "application/vnd.jupyter.widget-view+json": {
       "model_id": "ab98897299664131bd2ff8b858b24055",
       "version_major": 2,
       "version_minor": 0
      },
      "text/plain": [
       "A Jupyter Widget"
      ]
     },
     "metadata": {},
     "output_type": "display_data"
    },
    {
     "name": "stdout",
     "output_type": "stream",
     "text": [
      "Started at:  Aug 29 2018 17:01:34\n",
      "Exiting sweep main thread #{} via return 1564\n",
      "\n",
      "Elapsed time: 0 h 4 m 4.22 s\n"
     ]
    },
    {
     "data": {
      "text/plain": [
       "True"
      ]
     },
     "execution_count": 74,
     "metadata": {},
     "output_type": "execute_result"
    }
   ],
   "source": [
    "ex_freqs = np.arange(4.075e9, 4.15e9, 0.1e6)\n",
    "#ex_freqs = np.arange(4.08e9, 4.12e9,0.25e6)\n",
    "ex_powers = np.arange(-20, 10, 1)\n",
    "\n",
    "pna.set_xlim(Qubits[qubit_id]['r']['Fr'], Qubits[qubit_id]['r']['Fr'])\n",
    "pna.set_nop(1)\n",
    "#pna.set_power(Qubits[qubit_id]['r']['P']+10)\n",
    "#pna.set_power(-30)\n",
    "\n",
    "pna.set_bandwidth(3)\n",
    "if qubit_id=='2':\n",
    "    lo1.set_power(5)\n",
    "    pna.set_power(Qubits[qubit_id]['r']['P']-15)\n",
    "if qubit_id=='1':\n",
    "    lo1.set_power(-1.5)\n",
    "    pna.set_power(Qubits[qubit_id]['r']['P']-15)\n",
    "\n",
    "header = '''#Parameter =\n",
    "#Ro power = {:f}'''.format( pna.get_power() )\n",
    "\n",
    "lo1.set_status(1)\n",
    "#ps.S21vs2DPar(pna, currents, current.set_current, ex_freqs, lo1.set_frequency, filename = \"#2{:.1f}dBm\".format(lo1.get_power()),\\\n",
    "#           header = header)\n",
    "#ex2D = sweep.sweep(pna, (ex_powers, lo1.set_power, 'Мощность второго тона, дБ'), \n",
    "#                   (ex_freqs, lo1.set_frequency, 'Частота второго тона, ГГц'), filename = \"Двухтоновая спектроскопия (линия 00-11) #{}\".format(qubit_id),\\\n",
    "#           header = header, shuffle=True)\n",
    "sweep.sweep(pna, (ex_freqs, lo1.set_frequency, 'Частота второго тона, ГГц'), filename = \"Двухтоновая спектроскопия (линия 00-11) #{}\".format(qubit_id),\\\n",
    "           header = header, shuffle=True)\n",
    "lo1.set_status(0)"
   ]
  },
  {
   "cell_type": "markdown",
   "metadata": {},
   "source": [
    "# Измерить зависимость отражённого от резонатора сигнала от амплитуды считывающего импульса. Определить амплитуду насыщения, выставить амплитуду ниже уровня насыщения."
   ]
  },
  {
   "cell_type": "markdown",
   "metadata": {},
   "source": [
    "## Импульсный режим измерений"
   ]
  },
  {
   "cell_type": "code",
   "execution_count": 75,
   "metadata": {},
   "outputs": [
    {
     "data": {
      "text/plain": [
       "True"
      ]
     },
     "execution_count": 75,
     "metadata": {},
     "output_type": "execute_result"
    }
   ],
   "source": [
    "# Источник тока - в autorange\n",
    "#current.set_autorange(1)\n",
    "#Мощности гетеродинов, постоянные\n",
    "#Мощность гетеродина для возбуждения 13-16 дБм\n",
    "\n",
    "lo_ex_pow = 14\n",
    "lo_ex.set_status(1)\n",
    "lo_ro_pow = 16\n",
    "lo_ro.set_power(lo_ro_pow)\n",
    "\n",
    "pna.write(\"OUTP ON\")\n",
    "pna.write(\"SOUR1:POW1:MODE ON\")\n",
    "pna.write(\"SOUR1:POW2:MODE OFF\")\n",
    "pna.set_sweep_mode(\"CW\")\n",
    "lo_ex.set_power(lo_ex_pow)\n",
    "\n",
    "marker_length = 100\n",
    "readout_trigger_delay = 185\n",
    "trg_length = 10e-9\n",
    "\n",
    "ex_clock = 1e9\n",
    "ro_clock = 1e9\n",
    "\n",
    "rep_rate = 20e3 # частота повторений эксперимента\n",
    "\n",
    "awg.stop()\n",
    "awg.check_cached=True\n",
    "#awg_tek.set_clock(ex_clock) # клок всех авгшк\n",
    "awg.set_nop(ex_clock/rep_rate) # репрейт нужно задавать по=хорошему только на управляющей,\n",
    "awg.run()\n",
    "# а вот длину сэмплов, которая очевидно то же самое, нужно задавать на всех авгшках.\n",
    "# хорошо, что сейчас она только одна.\n",
    "#this is zashkvar\n",
    "\n",
    "awg_tek = awg\n",
    "# channel 0 is master and triggers all others\n",
    "# M3202A settings (ignored on AWG5014C)\n",
    "awg.trigger_source_types = [0, 6,6,6]\n",
    "awg.trigger_source_channels = [0, 4000,4000,4000] # pxi trigger 0 \n",
    "awg.trigger_delays = [40, 0,0,0] # master channel should wait 400 ns for others to start\n",
    "awg.trigger_behaviours = [0,4,4,4] #rising edge trigger\n",
    "#for channel in range(0,4): #M3202A\n",
    "for channel in range(1,5): #AWG5014C\n",
    "    awg.set_amplitude(.2, channel=channel)\n",
    "    awg.set_offset(0, channel=channel)\n",
    "    awg.set_output(1, channel=channel)\n",
    "    awg.set_waveform([0]*awg_tek.get_nop(), channel=channel)\n",
    "\n",
    "    \n",
    "#awg.set_marker(length=marker_length, delay=0, channel=0) #M3202A\n",
    "\n",
    "\n",
    "awg_channels =dict()\n",
    "ro_trg = awg_digital.awg_digital(awg_tek, 1)\n",
    "#ro_trg.mode = 'set_delay' #M3202A\n",
    "#ro_trg.delay_setter = lambda x: adc.set_trigger_delay(int(x*adc.get_clock()/iq_ex.get_clock()-readout_trigger_delay)) #M3202A\n",
    "ro_trg.mode = 'waveform' #AWG5014C\n",
    "awg_channels['ro_trg'] = ro_trg\n",
    "# К первому маркере первого канала тектроникса подсоединён триггер оцифровщика.\n",
    "# Надо подавать какой-нибудь триггер, что-ли.\n",
    "# А ещё нужно подавать клок. К сожалению наш оцифровщик не может в 1ГГц клок, ему нужен 500МГц клок.\n",
    "# Будем подавать 500 МГц с цифрового выхода тектроникса.\n",
    "# AWG5014C\n",
    "awg_tek.set_marker1_low(-0.0, channel=1)\n",
    "awg_tek.set_marker2_low(-0.0, channel=1)\n",
    "awg_tek.set_marker1_high(1.0, channel=1)\n",
    "awg_tek.set_marker2_high(1.0, channel=1)\n",
    "awg_tek.set_marker1_low(-0.04, channel=2)\n",
    "awg_tek.set_marker2_low(-0.04, channel=2) \n",
    "awg_tek.set_marker1_high(0.04, channel=2) # с клока хватит и такой амплитуды\n",
    "awg_tek.set_marker2_high(0.04, channel=2) # с клока хватит и такой амплитуды\n",
    "\n",
    "# настройки оцифровщика\n",
    "# Spectrum M3i-3212\n",
    "adc.reset()            \n",
    "adc.set_timeout(10000)\n",
    "adc.set_clock(ro_clock)\n",
    "\n",
    "#adc.set_spc_samplerate(smp_rate)\n",
    "#External trigger\n",
    "adc.set_trigger_ext0_level0(0) # logical 0 value to 200 mV\n",
    "adc.set_trigger_ext0_level1(1300) # logical 1 value to 600 mV\n",
    "adc.trigger_termination_50Ohm()\n",
    "adc.trigger_mode_pos()\n",
    "adc.set_trigger_ext0_pulsewidth(0)\n",
    "adc.disable_trigger_output()\n",
    "adc.select_channel01()\n",
    "adc.set_multi_mode()\n",
    "# #adc.set_segmentsize()\n",
    "adc.set_trigger_ORmask_tmask_ext0()\n",
    "adc.set_trigger_ANDmask_tmask_ext0()\n",
    "adc.set_trigger_ORmask_tmask_NO_ch0()\n",
    "adc.set_trigger_ORmask_tmask_NO_ch1()\n",
    "adc.set_trigger_ANDmask_tmask_NO_ch0()\n",
    "adc.set_trigger_ANDmask_tmask_NO_ch1()\n",
    "# # усилитель на оцифровщике\n",
    "adc.set_input_amp_ch0(50)\n",
    "adc.set_input_amp_ch1(50)\n",
    "adc.set_input_offset_ch0(0)\n",
    "adc.set_input_offset_ch1(0)\n",
    "\n",
    "# #External clock\n",
    "# adc.set_reference_clock(adc.get_clock()) #500 MHz clock\n",
    "adc.set_reference_clock(10e6) #500 MHz clock\n",
    "\n",
    "#adc.set_input(channel=1, input=1)\n",
    "#adc.set_input(channel=2, input=1)\n",
    "#adc.set_trigger_external(channel=1)\n",
    "#adc.set_trigger_external(channel=2)"
   ]
  },
  {
   "cell_type": "markdown",
   "metadata": {},
   "source": [
    "## Настройки смесителей"
   ]
  },
  {
   "cell_type": "code",
   "execution_count": 76,
   "metadata": {
    "scrolled": true
   },
   "outputs": [
    {
     "name": "stdout",
     "output_type": "stream",
     "text": [
      "-200.41199999999998 4050000000.0\n",
      "Excitation channel\n",
      "d:\\data/calibrations/iq-dc/ lo_freq-4.05e+09\n",
      "d:\\data/calibrations/iq-rf/ frequency-4.25e+09-if-2.004e+08-sideband_id-     0\n",
      "d:\\data/calibrations/iq-rf/ frequency-4.129e+09-if-7.927e+07-sideband_id-     0\n",
      "d:\\data/calibrations/iq-rf/ frequency-4.095e+09-if-4.495e+07-sideband_id-     0\n",
      "d:\\data/calibrations/iq-rf/ frequency-4.015e+09-if--3.53e+07-sideband_id-     0\n",
      "d:\\data/calibrations/iq-rf/ frequency-3.931e+09-if--1.186e+08-sideband_id-     0\n",
      "d:\\data/calibrations/iq-rf/ frequency-3.807e+09-if--2.433e+08-sideband_id-     0\n",
      "d:\\data/calibrations/iq-rf/ frequency-3.676e+09-if--3.738e+08-sideband_id-     0\n",
      "Readout channel\n",
      "d:\\data/calibrations/iq-dc/ lo_freq-7.407e+09\n",
      "max() arg is an empty sequence\n",
      "7407000000.0\n",
      "[ 0.3  0.3] -57.0158958435\n",
      "[ 0.315  0.3  ] -56.8946266174\n",
      "[ 0.3    0.315] -56.8003845215\n",
      "[ 0.315  0.285] -57.1278038025\n",
      "[ 0.3225  0.27  ] -57.2783660889\n",
      "[ 0.3075  0.27  ] -57.4132003784\n",
      "[ 0.30375  0.255  ] -57.6812973022\n",
      "[ 0.32625  0.225  ] -57.9419937134\n",
      "[ 0.339375  0.1875  ] -58.3974456787\n",
      "[ 0.320625  0.1725  ] -58.8749198914\n",
      "[ 0.3196875  0.12375  ] -59.7671470642\n",
      "[ 0.3553125  0.05625  ] -60.3981323242\n",
      "[ 0.38109375 -0.043125  ] -61.4059944153\n",
      "[ 0.36140625 -0.106875  ] -62.7727661133\n",
      "[ 0.37242188 -0.2540625 ] -62.8811264038\n",
      "[ 0.43382813 -0.4209375 ] -59.7698249817\n",
      "[ 0.40529297 -0.28476563] -61.7259216309\n",
      "[ 0.39662109 -0.49570313] -59.2850418091\n",
      "[ 0.38497559 -0.15626953] -62.4447631836\n",
      "[ 0.35210449 -0.12556641] -63.2542495728\n",
      "[ 0.32551025 -0.0459668 ] -62.9288520813\n",
      "[ 0.33955078 -0.22335938] -64.0768280029\n",
      "[ 0.31683838 -0.2569043 ] -64.6521377563\n",
      "[ 0.296521  -0.1284082] -65.3246612549\n",
      "[ 0.25857056 -0.06558105] -65.5212478638\n",
      "[ 0.22330444 -0.19691895] -69.8549041748\n",
      "[ 0.15890442 -0.23259521] -73.6799316406\n",
      "[ 0.1006366  -0.04127197] -69.1681900024\n",
      "[ 0.00097046 -0.20828613] -70.6963577271\n",
      "[ 0.05923828 -0.39960938] -64.1269989014\n",
      "[ 0.09028702 -0.13085632] -79.0855560303\n",
      "[ 0.24822098 -0.15516541] -68.0589447021\n",
      "[ 0.06278309 -0.19500595] -78.0286712646\n",
      "[-0.00583431 -0.09326706] -69.5179367065\n",
      "[ 0.11771974 -0.19776318] -82.6516342163\n",
      "[ 0.14522367 -0.13361355] -75.6824264526\n",
      "[ 0.08339323 -0.17965785] -85.2013931274\n",
      "[ 0.11082595 -0.2465647 ] -74.3628845215\n",
      "[ 0.09542175 -0.15978342] -88.4401473999\n",
      "[ 0.06109525 -0.14167809] -77.8915481567\n",
      "[ 0.10356361 -0.18374191] -90.6047973633\n",
      "[ 0.11559213 -0.16386747] -86.6737976074\n",
      "[ 0.10754241 -0.16781507] -92.5947189331\n",
      "[ 0.11568427 -0.19177355] -84.8122253418\n",
      "[ 0.10048738 -0.16778095] -96.3871002197\n",
      "[ 0.10446617 -0.15185411] -84.7973327637\n",
      "[ 0.10378925 -0.17576996] -101.179176331\n",
      "[ 0.09673423 -0.17573584] -96.1221847534\n",
      "[ 0.09943627 -0.17375565] -101.895111084\n",
      "[ 0.10273815 -0.18174465] -92.842880249\n",
      "[ 0.10105007 -0.17127188] -103.08228302\n",
      "[ 0.09669709 -0.16925757] -96.0109405518\n",
      "[ 0.10201621 -0.17414186] -103.16494751\n",
      "[ 0.10363001 -0.17165809] -99.7963180542\n",
      "[ 0.10048471 -0.17323126] -104.583572388\n",
      "[ 0.10145085 -0.17610124] -100.881591797\n",
      "[ 0.10115027 -0.17247922] -104.599021912\n",
      "[ 0.09961876 -0.17156862] -102.119186401\n",
      "[ 0.10141685 -0.17349855] -104.595230103\n",
      "Warning: Maximum number of iterations has been exceeded.\n",
      "d:\\data/calibrations/iq-rf/ frequency-7.332e+09-if--7.5e+07-sideband_id-     0\n",
      "expected str, bytes or os.PathLike object, not NoneType\n",
      "-75000000.0 7332000000.0\n",
      "dc:  1.01e-01-1.72e-01j\tI:  4.00e-01\tQ: 5.00e-01-2.00e-01j\tB: -83.11 G: -71.36, C:0.00\n",
      "[ -71.35845947 -104.20708466  -83.11183167]\n",
      "dc:  1.01e-01-1.72e-01j\tI:  4.00e-01\tQ: 5.25e-01-2.00e-01j\tB: -82.48 G: -71.14, C:0.00\n",
      "[ -71.143013   -104.41312408  -82.47610474]\n",
      "dc:  1.01e-01-1.72e-01j\tI:  4.00e-01\tQ: 5.00e-01-2.10e-01j\tB: -82.75 G: -71.36, C:0.00\n",
      "[ -71.35707855 -104.39801788  -82.74630737]\n",
      "dc:  1.01e-01-1.72e-01j\tI:  4.00e-01\tQ: 4.75e-01-2.10e-01j\tB: -83.28 G: -71.58, C:0.00\n",
      "[ -71.5837326  -104.39220428  -83.27714539]\n",
      "dc:  1.01e-01-1.72e-01j\tI:  4.00e-01\tQ: 4.75e-01-2.00e-01j\tB: -83.75 G: -71.60, C:0.00\n",
      "[ -71.59567261 -103.39222717  -83.74653625]\n",
      "dc:  1.01e-01-1.72e-01j\tI:  4.00e-01\tQ: 4.62e-01-1.95e-01j\tB: -84.23 G: -71.73, C:0.00\n",
      "[ -71.72947693 -104.31806946  -84.23072815]\n",
      "dc:  1.01e-01-1.72e-01j\tI:  4.00e-01\tQ: 4.87e-01-1.85e-01j\tB: -84.06 G: -71.51, C:0.00\n",
      "[ -71.51115417 -104.62304688  -84.05542755]\n",
      "dc:  1.01e-01-1.72e-01j\tI:  4.00e-01\tQ: 4.94e-01-1.72e-01j\tB: -84.41 G: -71.47, C:0.00\n",
      "[ -71.46720123 -104.51537323  -84.41378784]\n",
      "dc:  1.01e-01-1.72e-01j\tI:  4.00e-01\tQ: 4.56e-01-1.67e-01j\tB: -85.71 G: -71.85, C:0.00\n",
      "[ -71.84659576 -104.66931915  -85.71278381]\n",
      "dc:  1.01e-01-1.72e-01j\tI:  4.00e-01\tQ: 4.34e-01-1.51e-01j\tB: -87.27 G: -72.09, C:0.00\n",
      "[ -72.08673859 -104.41335297  -87.26989746]\n",
      "dc:  1.01e-01-1.72e-01j\tI:  4.00e-01\tQ: 4.66e-01-1.29e-01j\tB: -87.67 G: -71.78, C:0.00\n",
      "[ -71.78442383 -104.00653839  -87.67375946]\n",
      "dc:  1.01e-01-1.72e-01j\tI:  4.00e-01\tQ: 4.67e-01-9.56e-02j\tB: -89.60 G: -71.80, C:0.00\n",
      "[ -71.79589844 -104.1256485   -89.59999084]\n",
      "dc:  1.01e-01-1.72e-01j\tI:  4.00e-01\tQ: 4.08e-01-7.44e-02j\tB: -97.00 G: -72.43, C:0.00\n",
      "[ -72.43023682 -104.22754669  -96.99789429]\n",
      "dc:  1.01e-01-1.72e-01j\tI:  4.00e-01\tQ: 3.65e-01-2.53e-02j\tB: -96.97 G: -72.90, C:0.00\n",
      "[ -72.90376282 -103.95613098  -96.96971893]\n",
      "dc:  1.01e-01-1.72e-01j\tI:  4.00e-01\tQ: 4.41e-01-1.87e-02j\tB: -94.55 G: -72.06, C:0.00\n",
      "[ -72.05599976 -103.96129608  -94.55181122]\n",
      "dc:  1.01e-01-1.72e-01j\tI:  4.00e-01\tQ: 3.81e-01+2.50e-03j\tB: -94.92 G: -72.70, C:0.00\n",
      "[ -72.70225525 -104.31459808  -94.92266083]\n",
      "dc:  1.01e-01-1.72e-01j\tI:  4.00e-01\tQ: 4.03e-01-2.20e-02j\tB: -100.53 G: -72.47, C:0.00\n",
      "[ -72.47366333 -104.07922363 -100.53436279]\n",
      "dc:  1.01e-01-1.72e-01j\tI:  4.00e-01\tQ: 3.70e-01-7.77e-02j\tB: -94.92 G: -72.84, C:0.00\n",
      "[ -72.8447113  -104.43457031  -94.9246521 ]\n",
      "dc:  1.01e-01-1.72e-01j\tI:  4.00e-01\tQ: 4.23e-01-3.35e-02j\tB: -98.73 G: -72.26, C:0.00\n",
      "[ -72.26351166 -102.56978607  -98.72582245]\n",
      "dc:  1.01e-01-1.72e-01j\tI:  4.00e-01\tQ: 4.18e-01+1.89e-02j\tB: -92.45 G: -72.28, C:0.00\n",
      "[ -72.27703857 -103.17508698  -92.4492569 ]\n",
      "dc:  1.01e-01-1.72e-01j\tI:  4.00e-01\tQ: 4.10e-01-5.11e-02j\tB: -101.30 G: -72.41, C:0.00\n",
      "[ -72.40977478 -104.00682068 -101.29740143]\n",
      "dc:  1.01e-01-1.72e-01j\tI:  4.00e-01\tQ: 3.90e-01-3.96e-02j\tB: -103.62 G: -72.62, C:0.00\n",
      "[ -72.62133789 -104.13783264 -103.62413025]\n",
      "dc:  1.01e-01-1.72e-01j\tI:  4.00e-01\tQ: 3.74e-01-4.27e-02j\tB: -99.60 G: -72.81, C:0.00\n",
      "[ -72.81105042 -104.66389465  -99.59949493]\n",
      "dc:  1.01e-01-1.72e-01j\tI:  4.00e-01\tQ: 3.98e-01-6.87e-02j\tB: -98.53 G: -72.53, C:0.00\n",
      "[ -72.5329361  -102.99324799  -98.52820587]\n",
      "dc:  1.01e-01-1.72e-01j\tI:  4.00e-01\tQ: 4.01e-01-3.37e-02j\tB: -103.42 G: -72.50, C:0.00\n",
      "[ -72.49974823 -103.36566925 -103.42199707]\n",
      "dc:  1.01e-01-1.72e-01j\tI:  4.00e-01\tQ: 3.81e-01-2.22e-02j\tB: -99.45 G: -72.71, C:0.00\n",
      "[ -72.71028137 -104.11911774  -99.44902802]\n",
      "dc:  1.01e-01-1.72e-01j\tI:  4.00e-01\tQ: 4.03e-01-4.39e-02j\tB: -103.83 G: -72.48, C:0.00\n",
      "[ -72.47853851 -104.50295258 -103.828125  ]\n",
      "dc:  1.01e-01-1.72e-01j\tI:  4.00e-01\tQ: 3.92e-01-4.98e-02j\tB: -102.93 G: -72.60, C:0.00\n",
      "[ -72.60125732 -103.99755859 -102.92788696]\n",
      "dc:  1.01e-01-1.72e-01j\tI:  4.00e-01\tQ: 3.99e-01-3.77e-02j\tB: -104.03 G: -72.52, C:0.00\n",
      "[ -72.5248642  -104.38169098 -104.02911377]\n",
      "dc:  1.01e-01-1.72e-01j\tI:  4.00e-01\tQ: 4.12e-01-4.20e-02j\tB: -102.08 G: -72.38, C:0.00\n",
      "[ -72.38402557 -104.80965424 -102.08068848]\n",
      "dc:  1.01e-01-1.72e-01j\tI:  4.00e-01\tQ: 3.96e-01-4.02e-02j\tB: -104.55 G: -72.56, C:0.00\n",
      "[ -72.56278229 -103.60003662 -104.54944611]\n",
      "dc:  1.01e-01-1.72e-01j\tI:  4.00e-01\tQ: 3.92e-01-3.41e-02j\tB: -103.22 G: -72.60, C:0.00\n",
      "[ -72.59606171 -103.90516663 -103.21924591]\n",
      "dc:  1.01e-01-1.72e-01j\tI:  4.00e-01\tQ: 4.00e-01-4.14e-02j\tB: -104.03 G: -72.52, C:0.00\n",
      "[ -72.51746368 -104.54814148 -104.02983093]\n",
      "dc:  1.01e-01-1.72e-01j\tI:  4.00e-01\tQ: 3.97e-01-4.39e-02j\tB: -104.43 G: -72.55, C:0.00\n",
      "[ -72.54929352 -103.71092224 -104.43082428]\n",
      "dc:  1.01e-01-1.72e-01j\tI:  4.00e-01\tQ: 3.92e-01-4.27e-02j\tB: -104.22 G: -72.59, C:0.00\n",
      "[ -72.58766937 -103.51190948 -104.2170639 ]\n",
      "dc:  1.01e-01-1.72e-01j\tI:  4.00e-01\tQ: 3.94e-01-4.24e-02j\tB: -104.21 G: -72.57, C:0.00\n",
      "[ -72.56507874 -103.78038788 -104.21401215]\n",
      "dc:  1.01e-01-1.72e-01j\tI:  4.00e-01\tQ: 3.98e-01-4.17e-02j\tB: -104.60 G: -72.53, C:0.00\n",
      "[ -72.53051758 -104.45036316 -104.60420227]\n",
      "dc:  1.01e-01-1.72e-01j\tI:  4.00e-01\tQ: 4.00e-01-4.14e-02j\tB: -104.47 G: -72.51, C:0.00\n",
      "[ -72.50641632 -104.56080627 -104.46838379]\n"
     ]
    },
    {
     "name": "stdout",
     "output_type": "stream",
     "text": [
      "dc:  1.01e-01-1.72e-01j\tI:  4.00e-01\tQ: 3.97e-01-3.80e-02j\tB: -104.48 G: -72.54, C:0.00\n",
      "[ -72.5425415  -103.83494568 -104.48247528]\n",
      "dc:  1.01e-01-1.72e-01j\tI:  4.00e-01\tQ: 3.97e-01-3.95e-02j\tB: -104.34 G: -72.55, C:0.00\n",
      "[ -72.54901886 -104.14929962 -104.34441376]\n",
      "dc:  1.01e-01-1.72e-01j\tI:  4.00e-01\tQ: 3.97e-01-4.10e-02j\tB: -104.39 G: -72.54, C:0.00\n",
      "[ -72.54249573 -104.42883301 -104.39070129]\n",
      "dc:  1.01e-01-1.72e-01j\tI:  4.00e-01\tQ: 3.97e-01-4.28e-02j\tB: -104.49 G: -72.53, C:0.00\n",
      "[ -72.53094482 -102.87387085 -104.49234009]\n",
      "dc:  1.01e-01-1.72e-01j\tI:  4.00e-01\tQ: 3.99e-01-4.36e-02j\tB: -104.19 G: -72.52, C:0.00\n",
      "[ -72.52253723 -102.95189667 -104.18798828]\n",
      "dc:  1.01e-01-1.72e-01j\tI:  4.00e-01\tQ: 3.97e-01-4.16e-02j\tB: -104.41 G: -72.52, C:0.00\n",
      "[ -72.5209198  -104.12042999 -104.40844727]\n",
      "dc:  1.01e-01-1.72e-01j\tI:  4.00e-01\tQ: 3.98e-01-4.29e-02j\tB: -104.51 G: -72.53, C:0.00\n",
      "[ -72.53409576 -103.5861969  -104.50875092]\n",
      "dc:  1.01e-01-1.72e-01j\tI:  4.00e-01\tQ: 3.99e-01-4.18e-02j\tB: -104.28 G: -72.54, C:0.00\n",
      "[ -72.53661346 -104.80091095 -104.27789307]\n",
      "dc:  1.01e-01-1.72e-01j\tI:  4.00e-01\tQ: 3.98e-01-4.26e-02j\tB: -104.55 G: -72.54, C:0.00\n",
      "[ -72.54173279 -104.04081726 -104.54774475]\n",
      "dc:  1.01e-01-1.72e-01j\tI:  4.00e-01\tQ: 3.98e-01-4.14e-02j\tB: -104.54 G: -72.53, C:0.00\n",
      "[ -72.53481293 -104.67707825 -104.54360962]\n",
      "dc:  1.01e-01-1.72e-01j\tI:  4.00e-01\tQ: 3.98e-01-4.05e-02j\tB: -104.57 G: -72.54, C:0.00\n",
      "[ -72.53703308 -104.45632935 -104.57299042]\n",
      "dc:  1.01e-01-1.72e-01j\tI:  4.00e-01\tQ: 3.99e-01-4.09e-02j\tB: -104.09 G: -72.53, C:0.00\n",
      "[ -72.52653503 -104.49211121 -104.0851059 ]\n",
      "dc:  1.01e-01-1.72e-01j\tI:  4.00e-01\tQ: 3.98e-01-4.13e-02j\tB: -104.30 G: -72.54, C:0.00\n",
      "[ -72.53551483 -104.71031189 -104.29750061]\n",
      "dc:  1.01e-01-1.72e-01j\tI:  4.00e-01\tQ: 3.98e-01-4.11e-02j\tB: -104.41 G: -72.53, C:0.00\n",
      "[ -72.53110504 -104.49956512 -104.41321564]\n",
      "dc:  1.01e-01-1.72e-01j\tI:  4.00e-01\tQ: 3.98e-01-4.16e-02j\tB: -104.39 G: -72.54, C:0.00\n",
      "[ -72.53916168 -104.61577606 -104.39146423]\n",
      "dc:  1.01e-01-1.72e-01j\tI:  4.00e-01\tQ: 3.98e-01-4.13e-02j\tB: -104.24 G: -72.52, C:0.00\n",
      "[ -72.51974487 -104.31007385 -104.24150848]\n",
      "dc:  1.01e-01-1.72e-01j\tI:  4.00e-01\tQ: 3.98e-01-4.15e-02j\tB: -104.49 G: -72.52, C:0.00\n",
      "[ -72.51847839 -104.82320404 -104.4865799 ]\n",
      "dc:  1.01e-01-1.72e-01j\tI:  4.00e-01\tQ: 3.98e-01-4.21e-02j\tB: -104.36 G: -72.53, C:0.00\n",
      "[ -72.52928162 -104.57458496 -104.35826111]\n",
      "dc:  1.01e-01-1.72e-01j\tI:  4.00e-01\tQ: 3.98e-01-4.14e-02j\tB: -104.19 G: -72.53, C:0.00\n",
      "[ -72.52546692 -104.74700165 -104.19172668]\n",
      "dc:  1.01e-01-1.72e-01j\tI:  4.00e-01\tQ: 3.98e-01-4.16e-02j\tB: -104.45 G: -72.53, C:0.00\n",
      "[ -72.52765656 -104.30257416 -104.45001984]\n",
      "dc:  1.01e-01-1.72e-01j\tI:  4.00e-01\tQ: 3.98e-01-4.14e-02j\tB: -104.33 G: -72.51, C:0.00\n",
      "[ -72.51341248 -104.68413544 -104.32959747]\n",
      "dc:  1.01e-01-1.72e-01j\tI:  4.00e-01\tQ: 3.98e-01-4.19e-02j\tB: -104.58 G: -72.53, C:0.00\n",
      "[ -72.53276825 -104.73223114 -104.57541656]\n",
      "dc:  1.01e-01-1.72e-01j\tI:  4.00e-01\tQ: 3.98e-01-4.20e-02j\tB: -104.53 G: -72.53, C:0.00\n",
      "[ -72.5271759  -104.83276367 -104.52558899]\n",
      "dc:  1.01e-01-1.72e-01j\tI:  4.00e-01\tQ: 3.98e-01-4.19e-02j\tB: -104.40 G: -72.53, C:0.00\n",
      "[ -72.52940369 -104.28614807 -104.39933014]\n",
      "dc:  1.01e-01-1.72e-01j\tI:  4.00e-01\tQ: 3.98e-01-4.18e-02j\tB: -104.53 G: -72.52, C:0.00\n",
      "[ -72.52331543 -104.9356308  -104.5260849 ]\n",
      "dc:  1.01e-01-1.72e-01j\tI:  4.00e-01\tQ: 3.98e-01-4.17e-02j\tB: -104.41 G: -72.53, C:0.00\n",
      "[ -72.53387451 -104.70278168 -104.4107666 ]\n",
      "dc:  1.01e-01-1.72e-01j\tI:  4.00e-01\tQ: 3.98e-01-4.19e-02j\tB: -104.25 G: -72.53, C:0.00\n",
      "[ -72.52670288 -104.53171539 -104.25350189]\n",
      "dc:  1.01e-01-1.72e-01j\tI:  4.00e-01\tQ: 3.98e-01-4.17e-02j\tB: -104.40 G: -72.53, C:0.00\n",
      "[ -72.53242493 -104.68036652 -104.39894867]\n",
      "dc:  1.01e-01-1.72e-01j\tI:  4.00e-01\tQ: 3.98e-01-4.18e-02j\tB: -104.38 G: -72.52, C:0.00\n",
      "[ -72.52251434 -104.59140015 -104.37715912]\n",
      "dc:  1.01e-01-1.72e-01j\tI:  4.00e-01\tQ: 3.98e-01-4.17e-02j\tB: -104.56 G: -72.54, C:0.00\n",
      "[ -72.53964996 -104.90123749 -104.56359863]\n",
      "dc:  1.01e-01-1.72e-01j\tI:  4.00e-01\tQ: 3.98e-01-4.17e-02j\tB: -104.12 G: -72.53, C:0.00\n",
      "[ -72.52605438 -104.55817413 -104.12202454]\n",
      "dc:  1.01e-01-1.72e-01j\tI:  4.00e-01\tQ: 3.98e-01-4.17e-02j\tB: -104.45 G: -72.53, C:0.00\n",
      "[ -72.5271759  -103.96623993 -104.44503021]\n",
      "dc:  1.01e-01-1.72e-01j\tI:  4.00e-01\tQ: 3.98e-01-4.17e-02j\tB: -104.06 G: -72.53, C:0.00\n",
      "[ -72.53314972 -104.54110718 -104.0557251 ]\n",
      "dc:  1.01e-01-1.72e-01j\tI:  4.00e-01\tQ: 3.98e-01-4.17e-02j\tB: -104.46 G: -72.53, C:0.00\n",
      "[ -72.52889252 -104.21431732 -104.4611969 ]\n",
      "dc:  1.01e-01-1.72e-01j\tI:  4.00e-01\tQ: 3.98e-01-4.17e-02j\tB: -104.53 G: -72.52, C:0.00\n",
      "[ -72.51898956 -104.56023407 -104.52668762]\n",
      "dc:  1.01e-01-1.72e-01j\tI:  4.00e-01\tQ: 3.98e-01-4.17e-02j\tB: -104.44 G: -72.53, C:0.00\n",
      "[ -72.532547   -104.42565918 -104.43836975]\n",
      "dc:  1.01e-01-1.72e-01j\tI:  4.00e-01\tQ: 3.98e-01-4.17e-02j\tB: -104.49 G: -72.53, C:0.00\n",
      "[ -72.525177   -104.47327423 -104.49437714]\n",
      "dc:  1.01e-01-1.72e-01j\tI:  4.00e-01\tQ: 3.98e-01-4.17e-02j\tB: -104.67 G: -72.52, C:0.00\n",
      "[ -72.52033234 -103.68247223 -104.66814423]\n",
      "dc:  1.01e-01-1.72e-01j\tI:  4.00e-01\tQ: 3.98e-01-4.17e-02j\tB: -104.51 G: -72.53, C:0.00\n",
      "[ -72.52514648 -104.1884613  -104.51225281]\n",
      "dc:  1.01e-01-1.72e-01j\tI:  4.00e-01\tQ: 3.98e-01-4.17e-02j\tB: -104.56 G: -72.53, C:0.00\n",
      "[ -72.5275116  -103.58154297 -104.55519867]\n",
      "dc:  1.01e-01-1.72e-01j\tI:  4.00e-01\tQ: 3.98e-01-4.17e-02j\tB: -104.29 G: -72.51, C:0.00\n",
      "[ -72.51397705 -104.1395874  -104.28752136]\n",
      "dc:  1.01e-01-1.72e-01j\tI:  4.00e-01\tQ: 3.98e-01-4.17e-02j\tB: -104.23 G: -72.52, C:0.00\n",
      "[ -72.52322388 -103.72837067 -104.22962952]\n",
      "dc:  1.01e-01-1.72e-01j\tI:  4.00e-01\tQ: 3.98e-01-4.17e-02j\tB: -104.91 G: -72.52, C:0.00\n",
      "[ -72.52328491 -104.07952118 -104.90602875]\n",
      "dc:  1.01e-01-1.72e-01j\tI:  4.00e-01\tQ: 3.98e-01-4.17e-02j\tB: -104.43 G: -72.53, C:0.00\n",
      "[ -72.52619171 -102.81375122 -104.4258728 ]\n",
      "dc:  1.01e-01-1.72e-01j\tI:  4.00e-01\tQ: 3.98e-01-4.17e-02j\tB: -104.15 G: -72.53, C:0.00\n",
      "[ -72.52872467 -103.60813141 -104.14952087]\n",
      "dc:  1.01e-01-1.72e-01j\tI:  4.00e-01\tQ: 3.98e-01-4.17e-02j\tB: -104.19 G: -72.53, C:0.00\n",
      "[ -72.52594757 -103.622612   -104.18943787]\n",
      "dc:  1.01e-01-1.72e-01j\tI:  4.00e-01\tQ: 3.98e-01-4.17e-02j\tB: -104.55 G: -72.53, C:0.00\n",
      "[ -72.5324173  -104.23143768 -104.55470276]\n",
      "dc:  1.01e-01-1.72e-01j\tI:  4.00e-01\tQ: 3.98e-01-4.17e-02j\tB: -104.31 G: -72.53, C:0.00\n",
      "[ -72.52852631 -103.88816833 -104.31158447]\n",
      "dc:  1.01e-01-1.72e-01j\tI:  4.00e-01\tQ: 3.98e-01-4.17e-02j\tB: -104.43 G: -72.52, C:0.00\n",
      "[ -72.52172089 -104.50245667 -104.43444061]\n",
      "dc:  1.01e-01-1.72e-01j\tI:  4.00e-01\tQ: 3.98e-01-4.17e-02j\tB: -104.59 G: -72.52, C:0.00\n",
      "[ -72.52267456 -103.60210419 -104.59247589]\n",
      "dc:  1.01e-01-1.72e-01j\tI:  4.00e-01\tQ: 3.98e-01-4.17e-02j\tB: -104.45 G: -72.52, C:0.00\n",
      "[ -72.51909637 -104.59767151 -104.45227814]\n",
      "dc:  1.01e-01-1.72e-01j\tI:  4.00e-01\tQ: 3.98e-01-4.17e-02j\tB: -104.50 G: -72.53, C:0.00\n",
      "[ -72.52755737 -104.18265533 -104.50429535]\n",
      "dc:  1.01e-01-1.72e-01j\tI:  4.00e-01\tQ: 3.98e-01-4.17e-02j\tB: -104.30 G: -72.53, C:0.00\n",
      "[ -72.52999115 -104.25070953 -104.30075836]\n",
      "dc:  1.01e-01-1.72e-01j\tI:  4.00e-01\tQ: 3.98e-01-4.17e-02j\tB: -104.60 G: -72.52, C:0.00\n",
      "[ -72.52152252 -103.27309418 -104.59593201]\n",
      "Warning: Maximum number of iterations has been exceeded.\n",
      "dc:  1.01e-01-1.72e-01j\tI:  4.00e-01\tQ: 3.98e-01-4.17e-02j\tB: -86.48 G: -72.53, C:0.00\n",
      "[-104.83866882 -104.5255661  -104.16705322  -72.52529907 -103.66680908\n",
      " -104.45451355 -104.62438202 -105.12273407 -105.02342224]\n"
     ]
    }
   ],
   "source": [
    "ro_if = 75e6\n",
    "lo_freq = 4.05e9\n",
    "\n",
    "imp.reload(awg_iq_multi)\n",
    "# промежуточные частоты для гетеродинной схемы new:\n",
    "lo1.set_frequency(lo_freq)\n",
    "ex_if = lo_freq-qubit_params[qubit_id]['q']['00-1-01']\n",
    "#iq_ex = awg_iq_multi.awg_iq_multi(awg_tek, awg_tek, 0, 1, lo_ex) #M3202A\n",
    "iq_ex = awg_iq_multi.awg_iq_multi(awg_tek, awg_tek, 1, 2, lo_ex) #M3202A\n",
    "for tr,freq in qubit_params[qubit_id]['q'].items():\n",
    "    iq_ex.carriers[tr] = awg_iq_multi.carrier(iq_ex)\n",
    "    iq_ex.carriers[tr].set_frequency(freq)\n",
    "    awg_channels['iq_ex_'+tr]=iq_ex.carriers[tr]\n",
    "\n",
    "lo_ro.set_frequency(qubit_params[qubit_id]['r']['Fr']+ro_if)\n",
    "#iq_ro = awg_iq_multi.awg_iq_multi(awg_tek, awg_tek, 2, 3, lo_ro) #M3202A\n",
    "iq_ro = awg_iq_multi.awg_iq_multi(awg_tek, awg_tek, 4, 3, lo_ro) #AWG5014C\n",
    "iq_ro.carriers['iq_ro'] = awg_iq_multi.carrier(iq_ro)\n",
    "iq_ro.carriers['iq_ro'].set_frequency(qubit_params[qubit_id]['r']['Fr'])\n",
    "awg_channels['iq_ro'] = iq_ro.carriers['iq_ro']\n",
    "readout_channels = {'iq_ro':awg_channels['iq_ro']}\n",
    "\n",
    "pg = pulses.pulses(awg_channels)\n",
    "print(ex_if*1e-6 ,lo_freq)\n",
    "\n",
    "print(\"Excitation channel\", end='\\n')\n",
    "iq_ex.do_calibration(sa)\n",
    "print(\"Readout channel\", end='\\n')\n",
    "iq_ro.do_calibration(sa)"
   ]
  },
  {
   "cell_type": "markdown",
   "metadata": {},
   "source": [
    "## задержка считывания"
   ]
  },
  {
   "cell_type": "code",
   "execution_count": 77,
   "metadata": {},
   "outputs": [
    {
     "name": "stdout",
     "output_type": "stream",
     "text": [
      "-2.02e-07 -202.0\n",
      "0.0 0.0\n"
     ]
    },
    {
     "data": {
      "text/plain": [
       "{'iq_ro': {'coherent_background': array([-16.00-17.9j , -14.52-16.06j, -13.92-16.8j , ..., -14.54-17.26j,\n",
       "         -13.60-15.78j, -12.00-16.j  ]),\n",
       "  'feature': array([ 0.06207503+0.13757878j, -0.09272088+0.18983483j,\n",
       "         -0.17107496+0.08558544j, ...,  0.15970946-0.13469192j,\n",
       "          0.14409462+0.03213365j,  0.00968392+0.17246729j]),\n",
       "  'iq_calibration': array([-0.03630844-0.01106534j,  0.09838347+0.14864412j])}}"
      ]
     },
     "execution_count": 77,
     "metadata": {},
     "output_type": "execute_result"
    }
   ],
   "source": [
    "trigger_readout_seq = [pg.p('ro_trg', 10e-9, pg.rect, 1)]\n",
    "\n",
    "adc.set_nums(50)\n",
    "adc.set_nop(32768)\n",
    "if hasattr(adc, 'set_post_trigger'):\n",
    "    adc.set_post_trigger(adc.get_nop()-64)\n",
    "modem = modem_readout.modem_readout(pg, adc, trigger_readout_seq, axis_mean=0)\n",
    "modem.readout_channels = readout_channels\n",
    "#ro_trg.delay_setter = lambda x: adc.set_trigger_delay(int(x*adc.get_clock()/iq_ex.get_clock()-0)) # M3201A & M3202A\n",
    "ro_trg.delay = 0#Spectrum+AWG5014C\n",
    "readout_trigger_delay = modem.calibrate_delay()[awg_channels['iq_ro']]\n",
    "#readout_trigger_delay_cycles = readout_trigger_delay*adc.get_clock() M3201A\n",
    "readout_trigger_delay_cycles = readout_trigger_delay*ro_trg.get_clock()\n",
    "print (readout_trigger_delay, readout_trigger_delay_cycles)\n",
    "#ro_trg.delay_setter = lambda x: adc.set_trigger_delay(int(x*adc.get_clock()/iq_ex.get_clock()-readout_trigger_delay_cycles)) M3201A\n",
    "ro_trg.delay = int(-readout_trigger_delay_cycles)#Spectrum+AWG5014C\n",
    "readout_trigger_delay_test = modem.calibrate_delay()[awg_channels['iq_ro']]\n",
    "#readout_trigger_delay_cycles_test = readout_trigger_delay_test*adc.get_clock() M3201A\n",
    "readout_trigger_delay_cycles_test = readout_trigger_delay_test*ro_trg.get_clock()\n",
    "print (readout_trigger_delay_test, readout_trigger_delay_cycles_test)\n",
    "\n",
    "modem.calibrate_dc()"
   ]
  },
  {
   "cell_type": "markdown",
   "metadata": {},
   "source": [
    "## усреднённое считывание"
   ]
  },
  {
   "cell_type": "code",
   "execution_count": 78,
   "metadata": {
    "collapsed": true
   },
   "outputs": [],
   "source": [
    "modem.filters = modem.calibrated_filters\n",
    "adc_reducer = data_reduce.data_reduce(modem)\n",
    "adc_reducer.filters = {'S21': data_reduce.mean_reducer(modem, 'iq_ro', axis=0)}\n",
    "adc_reducer.extra_opts['scatter'] = True\n",
    "adc_reducer.extra_opts['realimag'] = True"
   ]
  },
  {
   "cell_type": "markdown",
   "metadata": {},
   "source": [
    "## длительность считывания"
   ]
  },
  {
   "cell_type": "code",
   "execution_count": 79,
   "metadata": {},
   "outputs": [
    {
     "data": {
      "text/plain": [
       "True"
      ]
     },
     "execution_count": 79,
     "metadata": {},
     "output_type": "execute_result"
    }
   ],
   "source": [
    "def set_adc_nop(ro_adc_length):\n",
    "    adc.stop() # Spectrum\n",
    "    signal_size = int(np.ceil(4./3.*(ro_adc_length)*adc.get_clock()))\n",
    "    nop = int( 2**np.ceil(np.log2(signal_size)) )\n",
    "    #print (nop)\n",
    "    adc.set_nop(nop)\n",
    "    adc.set_post_trigger(adc.get_nop()-64)\n",
    "    \n",
    "# \"Измеритель средних прошедших импульсов\"\n",
    "# Просто усредняет всё по номеру сэмпла.\n",
    "    \n",
    "    \n",
    "#ro_adc_length = 0.15e-6        # Вот такой длины считываем (опухоль Фёдорова!!)\n",
    "#ro_amplitude =0.16\n",
    "#ro_dac_length = 0.08e-6\n",
    "ro_adc_length = 0.1e-6\n",
    "ro_dac_length = 0.08e-6\n",
    "#adc.set_nums(1000)\n",
    "#adc.set_software_nums_multi(1)\n",
    "adc.set_nums(100)\n",
    "set_adc_nop(ro_adc_length)\n",
    "adc.set_nums(10000)"
   ]
  },
  {
   "cell_type": "markdown",
   "metadata": {},
   "source": [
    "## измерение среднего прошедшего импульса"
   ]
  },
  {
   "cell_type": "code",
   "execution_count": 80,
   "metadata": {
    "collapsed": true
   },
   "outputs": [],
   "source": [
    "mean_sample = data_reduce.data_reduce(adc)\n",
    "mean_sample.filters['Mean Voltage (AC)'] = data_reduce.mean_reducer_noavg(adc, 'Voltage', 0)\n",
    "\n",
    "#adc_reducer_old = data_reduce.data_reduce(adc)\n",
    "#adc_reducer_old.filters['Std Voltage (AC)'] = data_reduce.mean_reducer_noavg(adc, 'Voltage std', 0)\n",
    "mean_sample.filters['S21+'] = data_reduce.mean_reducer_freq(adc, 'Voltage', 0, iq_ro.carriers['iq_ro'].get_if())\n",
    "mean_sample.filters['S21-'] = data_reduce.mean_reducer_freq(adc, 'Voltage', 0, -iq_ro.carriers['iq_ro'].get_if())\n",
    "#adc_downsampler = data_reduce.data_reduce(adc)\n",
    "#adc_downsampler.filters['Voltage'] = data_reduce.downsample_reducer(adc, 'Voltage', 0, iq_ro.get_if(), 4)\n",
    "# # Этот измеритель мы как правило используем когда точек не слишком много и все результаты его жизнедеятельности как правило \n",
    "# # выглядят как ломаные. Чтобы было красиво, давайте лучше сделаем точки (а кривые потом получим фитованые)\n",
    "mean_sample.extra_opts['scatter'] = True\n",
    "\n",
    "awg.check_cached = True"
   ]
  },
  {
   "cell_type": "markdown",
   "metadata": {},
   "source": [
    "## Прохождение считывающих импульсов разной амплитуды"
   ]
  },
  {
   "cell_type": "code",
   "execution_count": 81,
   "metadata": {
    "scrolled": false
   },
   "outputs": [
    {
     "data": {
      "application/vnd.jupyter.widget-view+json": {
       "model_id": "982fa41a0c5345b987108b9661683069",
       "version_major": 2,
       "version_minor": 0
      },
      "text/plain": [
       "A Jupyter Widget"
      ]
     },
     "metadata": {},
     "output_type": "display_data"
    },
    {
     "name": "stdout",
     "output_type": "stream",
     "text": [
      "Started at:  Aug 29 2018 17:12:56\n",
      "Waiting to join deferred threads:\n",
      "Exiting sweep main thread #{} via return 332\n",
      "\n",
      "Elapsed time: 0 h 0 m 53.86 s\n"
     ]
    }
   ],
   "source": [
    "#%%mprun -f sweep.sweep\n",
    "imp.reload(sweep)\n",
    "imp.reload(plotting)\n",
    "mean_sample.filters['Std Voltage (AC)'] = data_reduce.std_reducer_noavg(adc, 'Voltage', 0, 1)\n",
    "def set_pulse_amplitude(x):\n",
    "    awg_tek.set_nop(awg_tek.get_clock()/rep_rate)\n",
    "    pg.set_seq(trigger_readout_seq+[pg.p('iq_ro', ro_dac_length, pg.rect, x)])\n",
    "    awg_tek.run()\n",
    "measurement = sweep.sweep(mean_sample, (np.linspace(0, 1.0, 21), set_pulse_amplitude, 'Амплитуда считывания'), filename='Прохождение считывающих импульсов образец #{}'.format(qubit_id))\n",
    "del mean_sample.filters['Std Voltage (AC)']"
   ]
  },
  {
   "cell_type": "code",
   "execution_count": 82,
   "metadata": {},
   "outputs": [
    {
     "name": "stdout",
     "output_type": "stream",
     "text": [
      "Readout amplitude: 1.0\n"
     ]
    }
   ],
   "source": [
    "zero_response = measurement['Mean Voltage (AC)'][2][0,:]\n",
    "drive_amplitudes = measurement['Mean Voltage (AC)'][1][0][1:]\n",
    "signal = measurement['Mean Voltage (AC)'][2][1:,:]\n",
    "noise = measurement['Std Voltage (AC)'][2][1:,:]\n",
    "error = noise/np.sqrt(adc.get_nums())\n",
    "signal_overlap = np.sum(np.conj(signal[0,:])*signal[1:,:], axis=1)/drive_amplitudes[1:]\n",
    "signal_overlap_estimate = np.real(signal_overlap[0])\n",
    "signal_overlap_error = 0.5*np.sqrt(np.sum((np.abs(signal[1:,:])*error[0,:])**2, axis=1)+np.sum((np.abs(signal[0,:])*error[1:,:])**2,axis=1))/drive_amplitudes[1:]\n",
    "#signal_overlap_estimate = (np.sum(np.abs(signal[0,:])**2) - np.sum(error[0,:]*np.abs(signal[0,:]))-np.sum(np.abs(error[0,:])**2))/drive_amplitudes[0]\n",
    "#plt.figure()\n",
    "#plt.plot(np.real(signal_overlap))\n",
    "#plt.plot(np.sum(noise**2, axis=1)/adc.get_nums())\n",
    "#plt.plot(signal_overlap_error)\n",
    "compression = 10*np.log10(np.real(signal_overlap)/np.real(signal_overlap_estimate))\n",
    "db_compression_point = np.argmax(10*np.log10(np.real(signal_overlap)/np.real(signal_overlap_estimate))<-1+10*np.log10(1-signal_overlap_error/signal_overlap_estimate))\n",
    "#10*np.log10(np.real(signal_overlap)/np.real(signal_overlap_estimate)),-1+10*np.log10(1-signal_overlap_error/signal_overlap_estimate)\n",
    "#10*np.log10(np.real(signal_overlap)/np.real(signal_overlap_estimate))<-1+10*np.log10(1-signal_overlap_error/signal_overlap_estimate)\n",
    "if np.any(db_compression_point):\n",
    "    ro_amplitude = drive_amplitudes[db_compression_point+1]\n",
    "else:\n",
    "    ro_amplitude = drive_amplitudes[-1]\n",
    "print(\"Readout amplitude:\",ro_amplitude)    "
   ]
  },
  {
   "cell_type": "code",
   "execution_count": 83,
   "metadata": {},
   "outputs": [
    {
     "data": {
      "text/plain": [
       "Text(38.2222,0.5,'Компрессия, дБ')"
      ]
     },
     "execution_count": 83,
     "metadata": {},
     "output_type": "execute_result"
    }
   ],
   "source": [
    "plt.figure('Компрессия считывающего импульса')\n",
    "plt.plot(drive_amplitudes[1:], compression)\n",
    "plt.xlabel('Амплитуда считывания')\n",
    "plt.ylabel('Компрессия, дБ')"
   ]
  },
  {
   "cell_type": "code",
   "execution_count": null,
   "metadata": {
    "collapsed": true
   },
   "outputs": [],
   "source": [
    "ro_parameters = {\"adc_len\":ro_adc_length,'dac_len': ro_dac_length,'amp': ro_amplitude,'adc nums':adc.nums,\n",
    "                'trg_length':trg_length}\n",
    "qjson.dump(\"setups\",\"readout\",ro_parameters)"
   ]
  },
  {
   "cell_type": "code",
   "execution_count": 56,
   "metadata": {
    "collapsed": true
   },
   "outputs": [],
   "source": [
    "ro_amplitude = 1.0\n",
    "ro_sequence = trigger_readout_seq+[pg.p('iq_ro', ro_dac_length, pg.rect, ro_amplitude)]"
   ]
  },
  {
   "cell_type": "markdown",
   "metadata": {},
   "source": [
    "## Раби+Рамзи"
   ]
  },
  {
   "cell_type": "code",
   "execution_count": 84,
   "metadata": {
    "collapsed": true
   },
   "outputs": [],
   "source": [
    "import qsweepy.qjson as pqjson\n",
    "import qsweepy.quantum_two_level_dynamics as dyn"
   ]
  },
  {
   "cell_type": "code",
   "execution_count": 85,
   "metadata": {},
   "outputs": [
    {
     "data": {
      "text/plain": [
       "<module 'qsweepy.diff_readout' from 'D:\\\\qtlab_replacement\\\\qsweepy\\\\diff_readout.py'>"
      ]
     },
     "execution_count": 85,
     "metadata": {},
     "output_type": "execute_result"
    }
   ],
   "source": [
    "imp.reload(dyn)\n",
    "imp.reload(qjson)\n",
    "imp.reload(data_reduce)\n",
    "imp.reload(plotting)\n",
    "imp.reload(fitting)\n",
    "imp.reload(sweep)\n",
    "imp.reload(diff_readout)"
   ]
  },
  {
   "cell_type": "code",
   "execution_count": 86,
   "metadata": {
    "collapsed": true
   },
   "outputs": [],
   "source": [
    "#ex_channels = ['iq_ex_00-1-01', 'iq_ex_00-1-10', 'iq_ex_01-1-02']#, 'iq_ex_00-2-02']\n",
    "ex_channels = ['iq_ex_00-1-01', \n",
    "               'iq_ex_00-2-02', \n",
    "               #'iq_ex_00-2-11', \n",
    "               'iq_ex_00-1-10', \n",
    "               'iq_ex_00-2-20', \n",
    "              ]\n",
    "\n",
    "ex_amplitudes = {'iq_ex_00-1-01':1, \n",
    "               'iq_ex_00-2-02':1, \n",
    "               #'iq_ex_00-2-11':1, \n",
    "               'iq_ex_00-1-10':1, \n",
    "               'iq_ex_00-2-20':1, \n",
    "                }\n",
    "rabi_lengths = {'iq_ex_00-1-01':np.arange(0., 100e-9, 2e-9), \n",
    "                'iq_ex_00-2-02':np.arange(0., 500e-9, 10e-9), \n",
    "                #'iq_ex_00-2-11':np.arange(0., 10000e-9, 100e-9), \n",
    "                'iq_ex_00-1-10':np.arange(0., 100e-9, 2e-9), \n",
    "                'iq_ex_00-2-20':np.arange(0., 500e-9, 10e-9),\n",
    "                }\n",
    "delaysT2_coherence = {'iq_ex_00-1-01':np.arange(0., 5e-6, 50e-9), \n",
    "                      'iq_ex_00-2-02':np.arange(0., 1e-6, 20e-9), \n",
    "                      #'iq_ex_00-2-11':np.arange(0., 10e-6, 100e-9), \n",
    "                      'iq_ex_00-1-10':np.arange(0., 5e-6, 50e-9), \n",
    "                      'iq_ex_00-2-20':np.arange(0., 1e-6, 20e-9),\n",
    "                     }\n",
    "ro_par = {'qubit_id':qubit_id,'ex_channels':ex_channels}\n",
    "fitter = lambda x,y: fitting.fit1d(x,y,'S21')\n",
    "ro_par['fitter']=fitter\n",
    "\n",
    "#rabi_lengths = np.arange(0., 2000e-9, 5e-9)\n",
    "delaysT2 = np.arange(0, 200e-9, 2e-9)\n",
    "target_freq_offset = -20e6\n",
    "#delaysT2_coherence = np.arange(0, 5000e-9, 10e-9)\n",
    "target_freq_offset_coherence = -2e6\n",
    "delaysT1 = np.arange(0, 15e-6,0.05e-6)"
   ]
  },
  {
   "cell_type": "code",
   "execution_count": 87,
   "metadata": {},
   "outputs": [
    {
     "data": {
      "text/plain": [
       "<module 'qsweepy.plotting' from 'D:\\\\qtlab_replacement\\\\qsweepy\\\\plotting.py'>"
      ]
     },
     "execution_count": 87,
     "metadata": {},
     "output_type": "execute_result"
    }
   ],
   "source": [
    "imp.reload(plotting)"
   ]
  },
  {
   "cell_type": "code",
   "execution_count": 88,
   "metadata": {
    "collapsed": true
   },
   "outputs": [],
   "source": [
    "imp.reload(diff_readout)\n",
    "diff_adc_reducer = diff_readout.diff_readout(adc_reducer)"
   ]
  },
  {
   "cell_type": "code",
   "execution_count": 89,
   "metadata": {},
   "outputs": [
    {
     "name": "stdout",
     "output_type": "stream",
     "text": [
      "d:\\data/calibrations/setups/ readout\n",
      "Failed loading rabi frequency calibration: 'quantum_two_level_dynamics' object has no attribute 'ex_amplitude'\n",
      "d:\\data/calibrations/setups/ readout\n",
      "Failed loading rabi frequency calibration: 'quantum_two_level_dynamics' object has no attribute 'ex_amplitude'\n",
      "d:\\data/calibrations/setups/ readout\n",
      "Failed loading rabi frequency calibration: 'quantum_two_level_dynamics' object has no attribute 'ex_amplitude'\n",
      "d:\\data/calibrations/setups/ readout\n",
      "Failed loading rabi frequency calibration: 'quantum_two_level_dynamics' object has no attribute 'ex_amplitude'\n"
     ]
    }
   ],
   "source": [
    "twos = {ex_channel:dyn.quantum_two_level_dynamics(pg,\n",
    "                                           adc_reducer,\n",
    "                                           ex_channel=ex_channel,\n",
    "                                           ro_channel='iq_ro',\n",
    "                                           ro_sequence=ro_sequence,\n",
    "                                           ex_amplitude=ex_amplitudes[ex_channel],\n",
    "                                           fitter=fitter, \n",
    "                                           shuffle=True,\n",
    "                                           qubit_id=qubit_id) for ex_channel in ex_channels}"
   ]
  },
  {
   "cell_type": "code",
   "execution_count": 91,
   "metadata": {
    "scrolled": true
   },
   "outputs": [
    {
     "data": {
      "application/vnd.jupyter.widget-view+json": {
       "model_id": "77a53819d3094fd28e6faef6b7493459",
       "version_major": 2,
       "version_minor": 0
      },
      "text/plain": [
       "A Jupyter Widget"
      ]
     },
     "metadata": {},
     "output_type": "display_data"
    },
    {
     "name": "stdout",
     "output_type": "stream",
     "text": [
      "Started at:  Aug 29 2018 17:15:42\n",
      "Waiting to join deferred threads:\n",
      "Exiting sweep main thread #{} via return 10104\n",
      "\n",
      "Elapsed time: 0 h 2 m 7.2 s\n"
     ]
    },
    {
     "data": {
      "application/vnd.jupyter.widget-view+json": {
       "model_id": "aca86e05e07946b78e77470859bc420c",
       "version_major": 2,
       "version_minor": 0
      },
      "text/plain": [
       "A Jupyter Widget"
      ]
     },
     "metadata": {},
     "output_type": "display_data"
    },
    {
     "name": "stdout",
     "output_type": "stream",
     "text": [
      "Started at:  Aug 29 2018 17:17:53\n",
      "Waiting to join deferred threads:\n",
      "Exiting sweep main thread #{} via return 9540\n",
      "\n",
      "Elapsed time: 0 h 4 m 17.94 s\n"
     ]
    },
    {
     "data": {
      "application/vnd.jupyter.widget-view+json": {
       "model_id": "019a71b759b54c859f5a7e7f54571305",
       "version_major": 2,
       "version_minor": 0
      },
      "text/plain": [
       "A Jupyter Widget"
      ]
     },
     "metadata": {},
     "output_type": "display_data"
    },
    {
     "name": "stdout",
     "output_type": "stream",
     "text": [
      "Started at:  Aug 29 2018 17:22:14\n",
      "Waiting to join deferred threads:\n",
      "Exiting sweep main thread #{} via return 1468\n",
      "\n",
      "Elapsed time: 0 h 3 m 6.86 s\n"
     ]
    },
    {
     "data": {
      "application/vnd.jupyter.widget-view+json": {
       "model_id": "c99354a5ca5949df8a7bd13b9647d367",
       "version_major": 2,
       "version_minor": 0
      },
      "text/plain": [
       "A Jupyter Widget"
      ]
     },
     "metadata": {},
     "output_type": "display_data"
    },
    {
     "name": "stdout",
     "output_type": "stream",
     "text": [
      "Started at:  Aug 29 2018 17:25:24\n",
      "Waiting to join deferred threads:\n",
      "Exiting sweep main thread #{} via return 2652\n",
      "\n",
      "Elapsed time: 0 h 3 m 11.2 s\n"
     ]
    },
    {
     "data": {
      "application/vnd.jupyter.widget-view+json": {
       "model_id": "82ed837cc9414f738cdd7288a7e62345",
       "version_major": 2,
       "version_minor": 0
      },
      "text/plain": [
       "A Jupyter Widget"
      ]
     },
     "metadata": {},
     "output_type": "display_data"
    },
    {
     "name": "stdout",
     "output_type": "stream",
     "text": [
      "Started at:  Aug 29 2018 17:28:39\n",
      "Waiting to join deferred threads:\n",
      "Exiting sweep main thread #{} via return 1532\n",
      "\n",
      "Elapsed time: 0 h 3 m 7.5 s\n"
     ]
    },
    {
     "data": {
      "application/vnd.jupyter.widget-view+json": {
       "model_id": "36fc48be6fa74bb9810b546f475780e8",
       "version_major": 2,
       "version_minor": 0
      },
      "text/plain": [
       "A Jupyter Widget"
      ]
     },
     "metadata": {},
     "output_type": "display_data"
    },
    {
     "name": "stdout",
     "output_type": "stream",
     "text": [
      "Started at:  Aug 29 2018 17:31:49\n",
      "Waiting to join deferred threads:\n",
      "Exiting sweep main thread #{} via return 3972\n",
      "\n",
      "Elapsed time: 0 h 6 m 22.47 s\n"
     ]
    },
    {
     "data": {
      "application/vnd.jupyter.widget-view+json": {
       "model_id": "ea74890c3716472da05a22bc72db373d",
       "version_major": 2,
       "version_minor": 0
      },
      "text/plain": [
       "A Jupyter Widget"
      ]
     },
     "metadata": {},
     "output_type": "display_data"
    },
    {
     "name": "stdout",
     "output_type": "stream",
     "text": [
      "Started at:  Aug 29 2018 17:38:15\n",
      "Waiting to join deferred threads:\n",
      "Exiting sweep main thread #{} via return 1784\n",
      "\n",
      "Elapsed time: 0 h 3 m 8.19 s\n"
     ]
    },
    {
     "data": {
      "application/vnd.jupyter.widget-view+json": {
       "model_id": "4e2ed02bcf54423d86eec050cecc777c",
       "version_major": 2,
       "version_minor": 0
      },
      "text/plain": [
       "A Jupyter Widget"
      ]
     },
     "metadata": {},
     "output_type": "display_data"
    },
    {
     "name": "stdout",
     "output_type": "stream",
     "text": [
      "Started at:  Aug 29 2018 17:41:27\n",
      "Waiting to join deferred threads:\n",
      "Exiting sweep main thread #{} via return 2232\n",
      "\n",
      "Elapsed time: 0 h 3 m 7.55 s\n"
     ]
    }
   ],
   "source": [
    "#%%mprun -f two_diffs[0].Rabi_rect -f two_diffs[0].Ramsey -f two_diffs[0].decay -f two_diffs[0].spin_echo -f sweep.sweep -f diff_adc_reducer.measure\n",
    "two_diffs = twos\n",
    "imp.reload(plotting)\n",
    "iters = 1\n",
    "\n",
    "for _iter in range(iters):\n",
    "    for ex_channel, two_diff in two_diffs.items():\n",
    "        two_diff.Rabi_rect(rabi_lengths[ex_channel])\n",
    "        #two_diff.Ramsey(delaysT2, target_freq_offset)\n",
    "        two_diff.Ramsey(delaysT2_coherence[ex_channel],target_freq_offset_coherence)\n",
    "        #two_diff.decay(delaysT1)\n",
    "        #two_diff.spin_echo(delaysT2_coherence,target_freq_offset_coherence)"
   ]
  },
  {
   "cell_type": "code",
   "execution_count": null,
   "metadata": {
    "collapsed": true
   },
   "outputs": [],
   "source": []
  }
 ],
 "metadata": {
  "kernelspec": {
   "display_name": "Python 3",
   "language": "python",
   "name": "python3"
  },
  "language_info": {
   "codemirror_mode": {
    "name": "ipython",
    "version": 3
   },
   "file_extension": ".py",
   "mimetype": "text/x-python",
   "name": "python",
   "nbconvert_exporter": "python",
   "pygments_lexer": "ipython3",
   "version": "3.6.5"
  },
  "toc": {
   "base_numbering": 1,
   "nav_menu": {
    "height": "599px",
    "width": "486px"
   },
   "number_sections": true,
   "sideBar": true,
   "skip_h1_title": false,
   "title_cell": "Table of Contents",
   "title_sidebar": "Contents",
   "toc_cell": false,
   "toc_position": {
    "height": "780px",
    "left": "239px",
    "top": "626.133px",
    "width": "384px"
   },
   "toc_section_display": true,
   "toc_window_display": true
  }
 },
 "nbformat": 4,
 "nbformat_minor": 1
}
