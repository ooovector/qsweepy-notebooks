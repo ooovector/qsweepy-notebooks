{
 "cells": [
  {
   "cell_type": "code",
   "execution_count": 1,
   "metadata": {
    "ExecuteTime": {
     "end_time": "2019-11-12T07:29:10.595575Z",
     "start_time": "2019-11-12T07:29:09.615186Z"
    }
   },
   "outputs": [],
   "source": [
    "import qsweepy.save_pkl\n",
    "import pandas as pd\n",
    "import matplotlib.pyplot as plt\n",
    "import qsweepy.fitting as fitting\n",
    "import numpy as np\n",
    "%matplotlib qt5\n"
   ]
  },
  {
   "cell_type": "code",
   "execution_count": 2,
   "metadata": {
    "ExecuteTime": {
     "end_time": "2019-11-12T07:29:13.321889Z",
     "start_time": "2019-11-12T07:29:10.597575Z"
    }
   },
   "outputs": [
    {
     "name": "stdout",
     "output_type": "stream",
     "text": [
      "Failed loading module Keysight_M3102A:  No module named 'keysightSD1'\n",
      "Failed loading module Keysight_M3202A:  No module named 'keysightSD1'\n",
      "[WinError 126] The specified module could not be found\n",
      "Failed loading module Signal_Hound_SA:  name 'signal_hound_dll' is not defined\n"
     ]
    }
   ],
   "source": [
    "from qsweepy import *\n",
    "from qsweepy.ponyfiles import *"
   ]
  },
  {
   "cell_type": "code",
   "execution_count": 3,
   "metadata": {
    "ExecuteTime": {
     "end_time": "2019-11-12T07:29:13.346871Z",
     "start_time": "2019-11-12T07:29:13.340873Z"
    }
   },
   "outputs": [],
   "source": [
    "from qsweepy.ponyfiles.data_structures import *"
   ]
  },
  {
   "cell_type": "code",
   "execution_count": 4,
   "metadata": {
    "ExecuteTime": {
     "end_time": "2019-11-12T07:29:13.630692Z",
     "start_time": "2019-11-12T07:29:13.349869Z"
    }
   },
   "outputs": [],
   "source": [
    "sample_name = '11qubits_021119'\n",
    "db = database.MyDatabase()\n",
    "\n",
    "sweeper = sweep_extras.Sweeper(db, sample_name=sample_name)\n",
    "exdir_db_inst = exdir_db.Exdir_db(db=db, sample_name=sample_name)"
   ]
  },
  {
   "cell_type": "code",
   "execution_count": 5,
   "metadata": {
    "ExecuteTime": {
     "end_time": "2019-11-12T07:29:13.663675Z",
     "start_time": "2019-11-12T07:29:13.632693Z"
    }
   },
   "outputs": [],
   "source": [
    "qubits = {\n",
    "          '1': {'r':{\n",
    "                    'Fr': 6.260e9, # first sample # second sample 7.0848e9,# second sample 7.085e9,#6.59783e9,\n",
    "                    'Fr_min': 6.258e9,#6.575e9,\n",
    "                    'Fr_max': 6.262e9,#7.100e9# down 6.702e9,#7.110e9,##6.62e9,\n",
    "                     'dFr': 0.1e6,#0.1e6, # tolerance of resonator frequency\n",
    "                     'P': -45 },\n",
    "                'q':{\n",
    "                    \"F\":\n",
    "                     {'F01_min': 3.405e9,\n",
    "                      'min_voltage':-3.7,\n",
    "                      'max_voltage':0.8,\n",
    "                     'F01_max': 4.0787e9}, # 4.17799e9#4.1173e9 #4.242e9#4.23819e9#4.159e9},#4.535e9}, #4.622e9 - up},#5.505e9}, # was 5.508e9,last 5.51812\n",
    "                     'P':\n",
    "                     {'nndac_coil_id':20,#0,\n",
    "                      'max_voltage':4,\n",
    "                      'awg_tek_coil_channel':4,\n",
    "                      'coil_device_channel':4,\n",
    "                     'P':None,    \n",
    "                     }\n",
    "                    }},\n",
    "          '2': {'r':{\n",
    "                    'Fr': 6.307e9,#7.4095e9,#7.41e9, #7.413e9,# first sample # second sample 7.8816e9,#'Fr': 6.7335e9,\n",
    "                    'Fr_min': 6.305e9,#7.395e9,#6.72e9,\n",
    "                    'Fr_max': 6.309e9,#7.415e9,#down  8.32e9,#8.84e9,##6.788e9,#6.884e9,#6.92e9,\n",
    "                     'dFr': 0.1e6,#0.1e6, # tolerance of resonator frequency\n",
    "                     'P': -45 },\n",
    "                'q':{\n",
    "                    \"F\":\n",
    "                    {'F01_min':3.330e9,\n",
    "                     'min_voltage':-3.6,\n",
    "                      'max_voltage':0.8,\n",
    "                    'F01_max':3.880e9},#5.8e9#5.010e9 - up},#{'F01_min':5.519e9},#5.52025\n",
    "                    'P':\n",
    "                     {\n",
    "                     'nndac_coil_id':18,#2,!!!!!!!!\n",
    "                         'max_voltage':4,\n",
    "                     'awg_tek_coil_channel':4,\n",
    "                     'coil_device_channel':4,\n",
    "                     'P':None, \n",
    "                     }}},\n",
    "        '3': {'r':{\n",
    "                    'Fr': 6.3623e+09, # first sample # second sample 7.0848e9,# second sample 7.085e9,#6.59783e9,\n",
    "                    'Fr_min': 6.36e+09,#6.575e9,\n",
    "                    'Fr_max': 6.364e+09,#7.100e9# down 6.702e9,#7.110e9,##6.62e9,\n",
    "                     'dFr': 0.1e6,#0.1e6, # tolerance of resonator frequency\n",
    "                     'P': -45 },\n",
    "                'q':{\n",
    "                    \"F\":\n",
    "                     {'F01_min': 3.362e9,\n",
    "                      'min_voltage':-3.6,\n",
    "                      'max_voltage':0.9,\n",
    "                     'F01_max': 4.054e9}, # 4.17799e9#4.1173e9 #4.242e9#4.23819e9#4.159e9},#4.535e9}, #4.622e9 - up},#5.505e9}, # was 5.508e9,last 5.51812\n",
    "                     'P':\n",
    "                     {'nndac_coil_id':16,#0,\n",
    "                      'max_voltage':4,\n",
    "                      'awg_tek_coil_channel':4,\n",
    "                      'coil_device_channel':4,\n",
    "                     'P':None,    \n",
    "                     }}\n",
    "                },\n",
    "          '4': {'r':{\n",
    "                    'Fr': 6.414e+09, # first sample # second sample 7.373e9,# second sample 7.376e9,#6.8791e9,\n",
    "                    'Fr_min': 6.412e+09,#6.734e9,#6.879e9,#6.82e9,\n",
    "                    'Fr_max': 6.416e+09,# down 6.850e9,#7.304e9, ##6.76e9,\n",
    "                     'dFr': 0.1e6,#0.1e6, # tolerance of resonator frequency\n",
    "                     'P': -45 },\n",
    "                'q':{\n",
    "                    \"F\":\n",
    "                    {'F01_min': 3.328e9,\n",
    "                     'min_voltage':-3.6,\n",
    "                      'max_voltage':0.8,\n",
    "                    'F01_max': 3.88e9}, # not sure\n",
    "                    'P':\n",
    "                     {\n",
    "                    'nndac_coil_id':13,#4,!!!!!!\n",
    "                         'max_voltage':4,\n",
    "                    'awg_tek_coil_channel':3,\n",
    "                    'coil_device_channel':3,\n",
    "                     'P':None, \n",
    "                     }\n",
    "                }},\n",
    "          '5': {'r':{\n",
    "                    'Fr': 6.4587e9, # first sample # second sample 7.373e9,# second sample 7.376e9,#6.8791e9,\n",
    "                    'Fr_min': 6.4567e+09,#6.734e9,#6.879e9,#6.82e9,\n",
    "                    'Fr_max': 6.4607e+09,# down 6.850e9,#7.304e9, ##6.76e9,\n",
    "                     'dFr': 0.1e6,#0.1e6, # tolerance of resonator frequency\n",
    "                     'P': -45 },\n",
    "                'q':{\n",
    "                    \"F\":\n",
    "                    {'F01_min': 3.278e9,\n",
    "                      'min_voltage':-3.6,\n",
    "                      'max_voltage':0.9,\n",
    "                     'F01_max': 4.1e9}, \n",
    "                    'P':\n",
    "                     {\n",
    "                    'nndac_coil_id':12,#4,\n",
    "                         'max_voltage':4,\n",
    "                     'P':None, \n",
    "                     }\n",
    "                }},\n",
    "          '6': {'r':{\n",
    "                    'Fr': 6.4984e+09, # first sample # second sample 7.373e9,# second sample 7.376e9,#6.8791e9,\n",
    "                    'Fr_min': 6.4964e+09,#6.734e9,#6.879e9,#6.82e9,\n",
    "                    'Fr_max': 6.5004e+09,# down 6.850e9,#7.304e9, ##6.76e9,\n",
    "                     'dFr': 0.1e6,#0.1e6, # tolerance of resonator frequency\n",
    "                     'P': -45 },\n",
    "                'q':{\n",
    "                    \"F\":\n",
    "                    {'F01_min': 3.286e9,\n",
    "                      'min_voltage':-3.6,\n",
    "                      'max_voltage':0.9,\n",
    "                    'F01_max': 3.806e9}, #4.1923e9# 4.17799e9 #4.467e9#4.464e9#4.203e9},#4.675e9},#4.484e9 -up},#{'F01_min':5.45525e9},#5.45678\n",
    "                    'P':\n",
    "                     {\n",
    "                    'nndac_coil_id':10,#4, !!!!!!!!\n",
    "                         'max_voltage':4,\n",
    "                    'awg_tek_coil_channel':3,\n",
    "                    'coil_device_channel':3,\n",
    "                     'P':None, \n",
    "                     }\n",
    "                }},\n",
    "          '7': {'r':{\n",
    "                    'Fr': 6.555e+09, #8.528e9 first sample # second sample 7.373e9,# second sample 7.376e9,#6.8791e9,\n",
    "                    'Fr_min': 6.553e+09,#6.734e9,#6.879e9,#6.82e9,\n",
    "                    'Fr_max': 6.557e+09,# down 6.850e9,#7.304e9, ##6.76e9,\n",
    "                     'dFr': 0.1e6,#0.1e6, # tolerance of resonator frequency\n",
    "                     'P': -45 },\n",
    "                'q':{\n",
    "                    \"F\":\n",
    "                    {'F01_min': 3.374e9,\n",
    "                      'min_voltage':-4,\n",
    "                      'max_voltage':0.9,\n",
    "                    'F01_max': 4.1e9}, #4.1923e9# 4.17799e9 #4.467e9#4.464e9#4.203e9},#4.675e9},#4.484e9 -up},#{'F01_min':5.45525e9},#5.45678\n",
    "                    'P':\n",
    "                     {\n",
    "                    'nndac_coil_id':8,#4,\n",
    "                         'max_voltage':4,\n",
    "                    'awg_tek_coil_channel':3,\n",
    "                    'coil_device_channel':3,\n",
    "                     'P':None, \n",
    "                     }\n",
    "                }},\n",
    "          '8': {'r':{\n",
    "                    'Fr': 6.606e+09, # first sample # second sample 7.0848e9,# second sample 7.085e9,#6.59783e9,\n",
    "                    'Fr_min': 6.604e+09,#6.575e9,\n",
    "                    'Fr_max': 6.608e+09,#7.100e9# down 6.702e9,#7.110e9,##6.62e9,\n",
    "                     'dFr': 0.1e6,#0.1e6, # tolerance of resonator frequency\n",
    "                     'P': -45 },\n",
    "                'q':{\n",
    "                    \"F\":\n",
    "                     {'F01_min': 3.366e9,\n",
    "                       'min_voltage':-3,\n",
    "                      'max_voltage':0.9,\n",
    "                    'F01_max': 3.914e9}, # 4.17799e9#4.1173e9 #4.242e9#4.23819e9#4.159e9},#4.535e9}, #4.622e9 - up},#5.505e9}, # was 5.508e9,last 5.51812\n",
    "                     'P':\n",
    "                     {'nndac_coil_id':6,#0,\n",
    "                      'max_voltage':3,\n",
    "                      'awg_tek_coil_channel':4,\n",
    "                      'coil_device_channel':4,\n",
    "                     'P':None,    \n",
    "                     }\n",
    "                    }},\n",
    "          '9': {'r':{\n",
    "                    'Fr': 6.658e+09, # first sample # second sample 7.0848e9,# second sample 7.085e9,#6.59783e9,\n",
    "                    'Fr_min': 6.656e+09,#6.575e9,\n",
    "                    'Fr_max': 6.660e+09,#7.100e9# down 6.702e9,#7.110e9,##6.62e9,\n",
    "                     'dFr': 0.1e6,#0.1e6, # tolerance of resonator frequency\n",
    "                     'P': -45 },\n",
    "                'q':{\n",
    "                    \"F\":\n",
    "                     {'F01_min': 3.348e9,\n",
    "                       'min_voltage':-3.6,\n",
    "                      'max_voltage':0.9,\n",
    "                    'F01_max': 4.056e9}, # 4.17799e9#4.1173e9 #4.242e9#4.23819e9#4.159e9},#4.535e9}, #4.622e9 - up},#5.505e9}, # was 5.508e9,last 5.51812\n",
    "                     'P':\n",
    "                     {'nndac_coil_id':4,#0,\n",
    "                      'max_voltage':4,\n",
    "                      'awg_tek_coil_channel':4,\n",
    "                      'coil_device_channel':4,\n",
    "                     'P':None,    \n",
    "                     }\n",
    "                    }},\n",
    "          '10': {'r':{\n",
    "                    'Fr': 6.711e+09, # first sample # second sample 7.0848e9,# second sample 7.085e9,#6.59783e9,\n",
    "                    'Fr_min': 6.709e+09,#6.575e9,\n",
    "                    'Fr_max': 6.713e+09,#7.100e9# down 6.702e9,#7.110e9,##6.62e9,\n",
    "                     'dFr': 0.1e6,#0.1e6, # tolerance of resonator frequency\n",
    "                     'P': -45 },\n",
    "                'q':{\n",
    "                    \"F\":\n",
    "                     {'F01_min': 3.266e9,\n",
    "                       'min_voltage':-3.6,\n",
    "                      'max_voltage':0.9,\n",
    "                    'F01_max': 3.882e9}, # 4.17799e9#4.1173e9 #4.242e9#4.23819e9#4.159e9},#4.535e9}, #4.622e9 - up},#5.505e9}, # was 5.508e9,last 5.51812\n",
    "                     'P':\n",
    "                     {'nndac_coil_id':2,#0,\n",
    "                      'max_voltage':4,\n",
    "                      'awg_tek_coil_channel':4,\n",
    "                      'coil_device_channel':4,\n",
    "                     'P':None,    \n",
    "                     }\n",
    "                    }},\n",
    "          '11': {'r':{\n",
    "                    'Fr': 6.763e+09, # first sample # second sample 7.0848e9,# second sample 7.085e9,#6.59783e9,\n",
    "                    'Fr_min': 6.761e+09,#6.575e9,\n",
    "                    'Fr_max': 6.765e+09,#7.100e9# down 6.702e9,#7.110e9,##6.62e9,\n",
    "                     'dFr': 0.1e6,#0.1e6, # tolerance of resonator frequency\n",
    "                     'P': -45 },\n",
    "                'q':{\n",
    "                    \"F\":\n",
    "                     {'F01_min': 3.720e9,\n",
    "                       'min_voltage':-1.5,\n",
    "                      'max_voltage':0.7,\n",
    "                      'F01_max': 3.976e9}, # 4.17799e9#4.1173e9 #4.242e9#4.23819e9#4.159e9},#4.535e9}, #4.622e9 - up},#5.505e9}, # was 5.508e9,last 5.51812\n",
    "                     'P':\n",
    "                     {'nndac_coil_id':0,#0,\n",
    "                      'max_voltage':1.5,\n",
    "                      'awg_tek_coil_channel':4,\n",
    "                      'coil_device_channel':4,\n",
    "                     'P':None,    \n",
    "                     }\n",
    "                    }},\n",
    "          \n",
    "                }\n",
    "\n",
    "L_mat=np.asarray([[0.76939763, -0.1522447600000001, -0.07305767000000007],\n",
    "  [0.16715004, 0.69026974, -0.56578149],\n",
    "  [-0.22264723999999997, 0.15251167, 0.50282611]])\n",
    "phi0_vec = np.asarray([1.7158459319724217e-05, 0.003311514714469841, -0.001214951726275308])\n",
    "\n",
    " \n",
    "\n",
    "qubit_id = '1'\n",
    "#qubits = {qubit_id: qubit for qubit_id, qubit in qubits.items() if qubit_id == '2'}\n",
    "qubits = {qubit_id: qubit for qubit_id, qubit in qubits.items()}"
   ]
  },
  {
   "cell_type": "code",
   "execution_count": 228,
   "metadata": {
    "ExecuteTime": {
     "end_time": "2019-11-06T22:09:02.420517Z",
     "start_time": "2019-11-06T22:09:02.412033Z"
    }
   },
   "outputs": [],
   "source": [
    "qubit1={'up':4598,'down':4600}\n",
    "qubit2={'up':4618,'down':4617}\n",
    "qubit3={'up':4620,'down':4619}\n",
    "qubit4={'up':4622,'down':4621}\n",
    "qubit5={'up':4624,'down':4623}\n",
    "qubit6={'up':4626,'down':4625}\n",
    "\n",
    "qubit7={'up':4637,'down':4636}\n",
    "\n",
    "qubit8={'up':4630,'down':4629}\n",
    "qubit9={'up':4632,'down':4631}\n",
    "\n",
    "qubit10={'up':4639,'down':4638}\n",
    "qubit11={'up':4576,'down':4576}"
   ]
  },
  {
   "cell_type": "code",
   "execution_count": 8,
   "metadata": {
    "ExecuteTime": {
     "end_time": "2019-11-08T09:33:25.829771Z",
     "start_time": "2019-11-08T09:33:25.680056Z"
    }
   },
   "outputs": [
    {
     "name": "stdout",
     "output_type": "stream",
     "text": [
      "Exdir_db.select_measurement_by_id: trying to load measurement state by id:  d:\\data\\2019-11-07\\004663-Adaptive_two_tone_spectroscopy-11qubits_021119\n"
     ]
    }
   ],
   "source": [
    "qubit1_up=exdir_db_inst.select_measurement_by_id(4663)\n",
    "Z1_up=data_processing(qubit1_up)\n",
    "X=qubit1_up.datasets['S-parameter'].parameters[0].values[:]\n",
    "Y=qubit1_up.datasets['S-parameter'].parameters[1].values[:]\n",
    "#qubit1_down=exdir_db_inst.select_measurement_by_id(qubit8['down'])"
   ]
  },
  {
   "cell_type": "code",
   "execution_count": 7,
   "metadata": {
    "ExecuteTime": {
     "end_time": "2019-11-08T09:33:22.925488Z",
     "start_time": "2019-11-08T09:33:22.920497Z"
    }
   },
   "outputs": [],
   "source": [
    "def data_processing(data):\n",
    "    meas=data.datasets['S-parameter'].data[:,:,0]\n",
    "    for i in range(len(meas)):\n",
    "        meas[i]=meas[i]-np.median(np.real(meas[i]))-1j*np.median(np.imag(meas[i]))\n",
    "    return meas"
   ]
  },
  {
   "cell_type": "code",
   "execution_count": 338,
   "metadata": {
    "ExecuteTime": {
     "end_time": "2019-11-07T12:18:12.539586Z",
     "start_time": "2019-11-07T12:18:12.525614Z"
    }
   },
   "outputs": [],
   "source": [
    "Z1_up=data_processing(qubit1_up)\n",
    "Z1_down=data_processing(qubit1_down)"
   ]
  },
  {
   "cell_type": "code",
   "execution_count": 339,
   "metadata": {
    "ExecuteTime": {
     "end_time": "2019-11-07T12:18:14.152519Z",
     "start_time": "2019-11-07T12:18:14.147528Z"
    }
   },
   "outputs": [],
   "source": [
    "X=qubit1_up.datasets['S-parameter'].parameters[0].values[:]\n",
    "Y=qubit1_up.datasets['S-parameter'].parameters[1].values[:]\n",
    "X_num=range(len(X))"
   ]
  },
  {
   "cell_type": "code",
   "execution_count": 340,
   "metadata": {
    "ExecuteTime": {
     "end_time": "2019-11-07T12:18:15.371701Z",
     "start_time": "2019-11-07T12:18:15.352238Z"
    }
   },
   "outputs": [
    {
     "data": {
      "text/plain": [
       "<matplotlib.collections.PathCollection at 0x2bb81acf2e8>"
      ]
     },
     "execution_count": 340,
     "metadata": {},
     "output_type": "execute_result"
    }
   ],
   "source": [
    "plt.pcolormesh(X,Y,np.abs(Z1_up.T))\n",
    "plt.scatter(X,find_freq_abs(Z1_up,Y))"
   ]
  },
  {
   "cell_type": "code",
   "execution_count": 237,
   "metadata": {
    "ExecuteTime": {
     "end_time": "2019-11-07T08:20:03.527365Z",
     "start_time": "2019-11-07T08:20:03.059754Z"
    }
   },
   "outputs": [
    {
     "data": {
      "text/plain": [
       "<matplotlib.collections.QuadMesh at 0x2bbe8c86d30>"
      ]
     },
     "execution_count": 237,
     "metadata": {},
     "output_type": "execute_result"
    }
   ],
   "source": [
    "plt.figure()\n",
    "plt.pcolormesh(X,Y,np.abs(Z1_up.T))"
   ]
  },
  {
   "cell_type": "code",
   "execution_count": 233,
   "metadata": {
    "ExecuteTime": {
     "end_time": "2019-11-06T22:09:14.614327Z",
     "start_time": "2019-11-06T22:09:14.525995Z"
    }
   },
   "outputs": [],
   "source": [
    "plt.figure()\n",
    "plt.pcolormesh(X_num,Y,np.abs(Z1_up.T))\n",
    "plt.figure()\n",
    "plt.pcolormesh(X_num,Y,np.abs(Z1_down.T))\n",
    "plt.show()"
   ]
  },
  {
   "cell_type": "code",
   "execution_count": 217,
   "metadata": {
    "ExecuteTime": {
     "end_time": "2019-11-06T16:44:06.002976Z",
     "start_time": "2019-11-06T16:44:05.638669Z"
    }
   },
   "outputs": [
    {
     "ename": "ValueError",
     "evalue": "zero-size array to reduction operation minimum which has no identity",
     "output_type": "error",
     "traceback": [
      "\u001b[1;31m---------------------------------------------------------------------------\u001b[0m",
      "\u001b[1;31mValueError\u001b[0m                                Traceback (most recent call last)",
      "\u001b[1;32m<ipython-input-217-f1a232f4b0ff>\u001b[0m in \u001b[0;36m<module>\u001b[1;34m\u001b[0m\n\u001b[0;32m      3\u001b[0m \u001b[0mplt\u001b[0m\u001b[1;33m.\u001b[0m\u001b[0mpcolormesh\u001b[0m\u001b[1;33m(\u001b[0m\u001b[0mX_num\u001b[0m\u001b[1;33m[\u001b[0m\u001b[1;33m:\u001b[0m\u001b[0mleft\u001b[0m\u001b[1;33m+\u001b[0m\u001b[1;36m1\u001b[0m\u001b[1;33m]\u001b[0m\u001b[1;33m,\u001b[0m\u001b[0mY\u001b[0m\u001b[1;33m,\u001b[0m\u001b[0mnp\u001b[0m\u001b[1;33m.\u001b[0m\u001b[0mabs\u001b[0m\u001b[1;33m(\u001b[0m\u001b[0mZ1_up\u001b[0m\u001b[1;33m[\u001b[0m\u001b[1;33m:\u001b[0m\u001b[0mleft\u001b[0m\u001b[1;33m+\u001b[0m\u001b[1;36m1\u001b[0m\u001b[1;33m,\u001b[0m\u001b[1;33m:\u001b[0m\u001b[1;33m]\u001b[0m\u001b[1;33m.\u001b[0m\u001b[0mT\u001b[0m\u001b[1;33m)\u001b[0m\u001b[1;33m)\u001b[0m\u001b[1;33m\u001b[0m\u001b[1;33m\u001b[0m\u001b[0m\n\u001b[0;32m      4\u001b[0m \u001b[0mplt\u001b[0m\u001b[1;33m.\u001b[0m\u001b[0mpcolormesh\u001b[0m\u001b[1;33m(\u001b[0m\u001b[0mX_num\u001b[0m\u001b[1;33m[\u001b[0m\u001b[0mleft\u001b[0m\u001b[1;33m:\u001b[0m\u001b[0mright\u001b[0m\u001b[1;33m]\u001b[0m\u001b[1;33m,\u001b[0m\u001b[0mY\u001b[0m\u001b[1;33m,\u001b[0m\u001b[0mnp\u001b[0m\u001b[1;33m.\u001b[0m\u001b[0mabs\u001b[0m\u001b[1;33m(\u001b[0m\u001b[0mZ1_down\u001b[0m\u001b[1;33m[\u001b[0m\u001b[0mleft\u001b[0m\u001b[1;33m:\u001b[0m\u001b[0mright\u001b[0m\u001b[1;33m,\u001b[0m\u001b[1;33m:\u001b[0m\u001b[1;33m]\u001b[0m\u001b[1;33m.\u001b[0m\u001b[0mT\u001b[0m\u001b[1;33m)\u001b[0m\u001b[1;33m)\u001b[0m\u001b[1;33m\u001b[0m\u001b[1;33m\u001b[0m\u001b[0m\n\u001b[1;32m----> 5\u001b[1;33m \u001b[0mplt\u001b[0m\u001b[1;33m.\u001b[0m\u001b[0mpcolormesh\u001b[0m\u001b[1;33m(\u001b[0m\u001b[0mX_num\u001b[0m\u001b[1;33m[\u001b[0m\u001b[0mright\u001b[0m\u001b[1;33m-\u001b[0m\u001b[1;36m1\u001b[0m\u001b[1;33m:\u001b[0m\u001b[1;33m]\u001b[0m\u001b[1;33m,\u001b[0m\u001b[0mY\u001b[0m\u001b[1;33m,\u001b[0m\u001b[0mnp\u001b[0m\u001b[1;33m.\u001b[0m\u001b[0mabs\u001b[0m\u001b[1;33m(\u001b[0m\u001b[0mZ1_up\u001b[0m\u001b[1;33m[\u001b[0m\u001b[0mright\u001b[0m\u001b[1;33m-\u001b[0m\u001b[1;36m1\u001b[0m\u001b[1;33m:\u001b[0m\u001b[1;33m,\u001b[0m\u001b[1;33m:\u001b[0m\u001b[1;33m]\u001b[0m\u001b[1;33m.\u001b[0m\u001b[0mT\u001b[0m\u001b[1;33m)\u001b[0m\u001b[1;33m)\u001b[0m\u001b[1;33m\u001b[0m\u001b[1;33m\u001b[0m\u001b[0m\n\u001b[0m",
      "\u001b[1;32mC:\\ProgramData\\Anaconda3\\lib\\site-packages\\matplotlib\\pyplot.py\u001b[0m in \u001b[0;36mpcolormesh\u001b[1;34m(alpha, norm, cmap, vmin, vmax, shading, antialiased, data, *args, **kwargs)\u001b[0m\n\u001b[0;32m   2749\u001b[0m         \u001b[1;33m*\u001b[0m\u001b[0margs\u001b[0m\u001b[1;33m,\u001b[0m \u001b[0malpha\u001b[0m\u001b[1;33m=\u001b[0m\u001b[0malpha\u001b[0m\u001b[1;33m,\u001b[0m \u001b[0mnorm\u001b[0m\u001b[1;33m=\u001b[0m\u001b[0mnorm\u001b[0m\u001b[1;33m,\u001b[0m \u001b[0mcmap\u001b[0m\u001b[1;33m=\u001b[0m\u001b[0mcmap\u001b[0m\u001b[1;33m,\u001b[0m \u001b[0mvmin\u001b[0m\u001b[1;33m=\u001b[0m\u001b[0mvmin\u001b[0m\u001b[1;33m,\u001b[0m\u001b[1;33m\u001b[0m\u001b[1;33m\u001b[0m\u001b[0m\n\u001b[0;32m   2750\u001b[0m         \u001b[0mvmax\u001b[0m\u001b[1;33m=\u001b[0m\u001b[0mvmax\u001b[0m\u001b[1;33m,\u001b[0m \u001b[0mshading\u001b[0m\u001b[1;33m=\u001b[0m\u001b[0mshading\u001b[0m\u001b[1;33m,\u001b[0m \u001b[0mantialiased\u001b[0m\u001b[1;33m=\u001b[0m\u001b[0mantialiased\u001b[0m\u001b[1;33m,\u001b[0m\u001b[1;33m\u001b[0m\u001b[1;33m\u001b[0m\u001b[0m\n\u001b[1;32m-> 2751\u001b[1;33m         **({\"data\": data} if data is not None else {}), **kwargs)\n\u001b[0m\u001b[0;32m   2752\u001b[0m     \u001b[0msci\u001b[0m\u001b[1;33m(\u001b[0m\u001b[0m__ret\u001b[0m\u001b[1;33m)\u001b[0m\u001b[1;33m\u001b[0m\u001b[1;33m\u001b[0m\u001b[0m\n\u001b[0;32m   2753\u001b[0m     \u001b[1;32mreturn\u001b[0m \u001b[0m__ret\u001b[0m\u001b[1;33m\u001b[0m\u001b[1;33m\u001b[0m\u001b[0m\n",
      "\u001b[1;32mC:\\ProgramData\\Anaconda3\\lib\\site-packages\\matplotlib\\__init__.py\u001b[0m in \u001b[0;36minner\u001b[1;34m(ax, data, *args, **kwargs)\u001b[0m\n\u001b[0;32m   1587\u001b[0m     \u001b[1;32mdef\u001b[0m \u001b[0minner\u001b[0m\u001b[1;33m(\u001b[0m\u001b[0max\u001b[0m\u001b[1;33m,\u001b[0m \u001b[1;33m*\u001b[0m\u001b[0margs\u001b[0m\u001b[1;33m,\u001b[0m \u001b[0mdata\u001b[0m\u001b[1;33m=\u001b[0m\u001b[1;32mNone\u001b[0m\u001b[1;33m,\u001b[0m \u001b[1;33m**\u001b[0m\u001b[0mkwargs\u001b[0m\u001b[1;33m)\u001b[0m\u001b[1;33m:\u001b[0m\u001b[1;33m\u001b[0m\u001b[1;33m\u001b[0m\u001b[0m\n\u001b[0;32m   1588\u001b[0m         \u001b[1;32mif\u001b[0m \u001b[0mdata\u001b[0m \u001b[1;32mis\u001b[0m \u001b[1;32mNone\u001b[0m\u001b[1;33m:\u001b[0m\u001b[1;33m\u001b[0m\u001b[1;33m\u001b[0m\u001b[0m\n\u001b[1;32m-> 1589\u001b[1;33m             \u001b[1;32mreturn\u001b[0m \u001b[0mfunc\u001b[0m\u001b[1;33m(\u001b[0m\u001b[0max\u001b[0m\u001b[1;33m,\u001b[0m \u001b[1;33m*\u001b[0m\u001b[0mmap\u001b[0m\u001b[1;33m(\u001b[0m\u001b[0msanitize_sequence\u001b[0m\u001b[1;33m,\u001b[0m \u001b[0margs\u001b[0m\u001b[1;33m)\u001b[0m\u001b[1;33m,\u001b[0m \u001b[1;33m**\u001b[0m\u001b[0mkwargs\u001b[0m\u001b[1;33m)\u001b[0m\u001b[1;33m\u001b[0m\u001b[1;33m\u001b[0m\u001b[0m\n\u001b[0m\u001b[0;32m   1590\u001b[0m \u001b[1;33m\u001b[0m\u001b[0m\n\u001b[0;32m   1591\u001b[0m         \u001b[0mbound\u001b[0m \u001b[1;33m=\u001b[0m \u001b[0mnew_sig\u001b[0m\u001b[1;33m.\u001b[0m\u001b[0mbind\u001b[0m\u001b[1;33m(\u001b[0m\u001b[0max\u001b[0m\u001b[1;33m,\u001b[0m \u001b[1;33m*\u001b[0m\u001b[0margs\u001b[0m\u001b[1;33m,\u001b[0m \u001b[1;33m**\u001b[0m\u001b[0mkwargs\u001b[0m\u001b[1;33m)\u001b[0m\u001b[1;33m\u001b[0m\u001b[1;33m\u001b[0m\u001b[0m\n",
      "\u001b[1;32mC:\\ProgramData\\Anaconda3\\lib\\site-packages\\matplotlib\\axes\\_axes.py\u001b[0m in \u001b[0;36mpcolormesh\u001b[1;34m(self, alpha, norm, cmap, vmin, vmax, shading, antialiased, *args, **kwargs)\u001b[0m\n\u001b[0;32m   6183\u001b[0m         \u001b[0mself\u001b[0m\u001b[1;33m.\u001b[0m\u001b[0madd_collection\u001b[0m\u001b[1;33m(\u001b[0m\u001b[0mcollection\u001b[0m\u001b[1;33m,\u001b[0m \u001b[0mautolim\u001b[0m\u001b[1;33m=\u001b[0m\u001b[1;32mFalse\u001b[0m\u001b[1;33m)\u001b[0m\u001b[1;33m\u001b[0m\u001b[1;33m\u001b[0m\u001b[0m\n\u001b[0;32m   6184\u001b[0m \u001b[1;33m\u001b[0m\u001b[0m\n\u001b[1;32m-> 6185\u001b[1;33m         \u001b[0mminx\u001b[0m\u001b[1;33m,\u001b[0m \u001b[0mminy\u001b[0m \u001b[1;33m=\u001b[0m \u001b[0mnp\u001b[0m\u001b[1;33m.\u001b[0m\u001b[0mmin\u001b[0m\u001b[1;33m(\u001b[0m\u001b[0mcoords\u001b[0m\u001b[1;33m,\u001b[0m \u001b[0maxis\u001b[0m\u001b[1;33m=\u001b[0m\u001b[1;36m0\u001b[0m\u001b[1;33m)\u001b[0m\u001b[1;33m\u001b[0m\u001b[1;33m\u001b[0m\u001b[0m\n\u001b[0m\u001b[0;32m   6186\u001b[0m         \u001b[0mmaxx\u001b[0m\u001b[1;33m,\u001b[0m \u001b[0mmaxy\u001b[0m \u001b[1;33m=\u001b[0m \u001b[0mnp\u001b[0m\u001b[1;33m.\u001b[0m\u001b[0mmax\u001b[0m\u001b[1;33m(\u001b[0m\u001b[0mcoords\u001b[0m\u001b[1;33m,\u001b[0m \u001b[0maxis\u001b[0m\u001b[1;33m=\u001b[0m\u001b[1;36m0\u001b[0m\u001b[1;33m)\u001b[0m\u001b[1;33m\u001b[0m\u001b[1;33m\u001b[0m\u001b[0m\n\u001b[0;32m   6187\u001b[0m         \u001b[0mcollection\u001b[0m\u001b[1;33m.\u001b[0m\u001b[0msticky_edges\u001b[0m\u001b[1;33m.\u001b[0m\u001b[0mx\u001b[0m\u001b[1;33m[\u001b[0m\u001b[1;33m:\u001b[0m\u001b[1;33m]\u001b[0m \u001b[1;33m=\u001b[0m \u001b[1;33m[\u001b[0m\u001b[0mminx\u001b[0m\u001b[1;33m,\u001b[0m \u001b[0mmaxx\u001b[0m\u001b[1;33m]\u001b[0m\u001b[1;33m\u001b[0m\u001b[1;33m\u001b[0m\u001b[0m\n",
      "\u001b[1;32mC:\\ProgramData\\Anaconda3\\lib\\site-packages\\numpy\\core\\fromnumeric.py\u001b[0m in \u001b[0;36mamin\u001b[1;34m(a, axis, out, keepdims, initial)\u001b[0m\n\u001b[0;32m   2616\u001b[0m     \"\"\"\n\u001b[0;32m   2617\u001b[0m     return _wrapreduction(a, np.minimum, 'min', axis, None, out, keepdims=keepdims,\n\u001b[1;32m-> 2618\u001b[1;33m                           initial=initial)\n\u001b[0m\u001b[0;32m   2619\u001b[0m \u001b[1;33m\u001b[0m\u001b[0m\n\u001b[0;32m   2620\u001b[0m \u001b[1;33m\u001b[0m\u001b[0m\n",
      "\u001b[1;32mC:\\ProgramData\\Anaconda3\\lib\\site-packages\\numpy\\core\\fromnumeric.py\u001b[0m in \u001b[0;36m_wrapreduction\u001b[1;34m(obj, ufunc, method, axis, dtype, out, **kwargs)\u001b[0m\n\u001b[0;32m     84\u001b[0m                 \u001b[1;32mreturn\u001b[0m \u001b[0mreduction\u001b[0m\u001b[1;33m(\u001b[0m\u001b[0maxis\u001b[0m\u001b[1;33m=\u001b[0m\u001b[0maxis\u001b[0m\u001b[1;33m,\u001b[0m \u001b[0mout\u001b[0m\u001b[1;33m=\u001b[0m\u001b[0mout\u001b[0m\u001b[1;33m,\u001b[0m \u001b[1;33m**\u001b[0m\u001b[0mpasskwargs\u001b[0m\u001b[1;33m)\u001b[0m\u001b[1;33m\u001b[0m\u001b[1;33m\u001b[0m\u001b[0m\n\u001b[0;32m     85\u001b[0m \u001b[1;33m\u001b[0m\u001b[0m\n\u001b[1;32m---> 86\u001b[1;33m     \u001b[1;32mreturn\u001b[0m \u001b[0mufunc\u001b[0m\u001b[1;33m.\u001b[0m\u001b[0mreduce\u001b[0m\u001b[1;33m(\u001b[0m\u001b[0mobj\u001b[0m\u001b[1;33m,\u001b[0m \u001b[0maxis\u001b[0m\u001b[1;33m,\u001b[0m \u001b[0mdtype\u001b[0m\u001b[1;33m,\u001b[0m \u001b[0mout\u001b[0m\u001b[1;33m,\u001b[0m \u001b[1;33m**\u001b[0m\u001b[0mpasskwargs\u001b[0m\u001b[1;33m)\u001b[0m\u001b[1;33m\u001b[0m\u001b[1;33m\u001b[0m\u001b[0m\n\u001b[0m\u001b[0;32m     87\u001b[0m \u001b[1;33m\u001b[0m\u001b[0m\n\u001b[0;32m     88\u001b[0m \u001b[1;33m\u001b[0m\u001b[0m\n",
      "\u001b[1;31mValueError\u001b[0m: zero-size array to reduction operation minimum which has no identity"
     ]
    }
   ],
   "source": [
    "left=12\n",
    "right=41-4\n",
    "plt.pcolormesh(X_num[:left+1],Y,np.abs(Z1_up[:left+1,:].T))\n",
    "plt.pcolormesh(X_num[left:right],Y,np.abs(Z1_down[left:right,:].T))\n",
    "plt.pcolormesh(X_num[right-1:],Y,np.abs(Z1_up[right-1:,:].T))"
   ]
  },
  {
   "cell_type": "code",
   "execution_count": 192,
   "metadata": {
    "ExecuteTime": {
     "end_time": "2019-11-06T15:41:59.900868Z",
     "start_time": "2019-11-06T15:41:59.895379Z"
    }
   },
   "outputs": [],
   "source": [
    "data_join=np.concatenate((Z1_up[:left,:],Z1_down[left:right,:],Z1_up[right:,:]))"
   ]
  },
  {
   "cell_type": "code",
   "execution_count": 177,
   "metadata": {
    "ExecuteTime": {
     "end_time": "2019-11-06T13:52:09.728314Z",
     "start_time": "2019-11-06T13:52:09.723324Z"
    }
   },
   "outputs": [
    {
     "data": {
      "text/plain": [
       "(41, 451)"
      ]
     },
     "execution_count": 177,
     "metadata": {},
     "output_type": "execute_result"
    }
   ],
   "source": [
    "data_join.shape"
   ]
  },
  {
   "cell_type": "code",
   "execution_count": 179,
   "metadata": {
    "ExecuteTime": {
     "end_time": "2019-11-06T13:52:22.285434Z",
     "start_time": "2019-11-06T13:52:22.239023Z"
    }
   },
   "outputs": [
    {
     "data": {
      "text/plain": [
       "<matplotlib.collections.QuadMesh at 0x2bbdba6d2e8>"
      ]
     },
     "execution_count": 179,
     "metadata": {},
     "output_type": "execute_result"
    }
   ],
   "source": [
    "plt.pcolormesh(X,Y,np.abs(data_join.T))"
   ]
  },
  {
   "cell_type": "code",
   "execution_count": 180,
   "metadata": {
    "ExecuteTime": {
     "end_time": "2019-11-06T13:53:09.249125Z",
     "start_time": "2019-11-06T13:53:09.155303Z"
    }
   },
   "outputs": [],
   "source": [
    "meas=qubit1_up\n",
    "X=meas.datasets['S-parameter'].parameters[0].values[:]\n",
    "Y=meas.datasets['S-parameter'].parameters[1].values[:]\n",
    "Z_new=meas.datasets['S-parameter'].data[:,:,0]\n",
    "Z=meas.datasets['S-parameter'].data[:,:,0]\n",
    "plt.figure()\n",
    "plt.pcolormesh(X,Y,(np.real(Z.T)-np.mean(np.real(Z.T),axis=0)))\n",
    "plt.figure()\n",
    "plt.pcolormesh(X,Y,(np.imag(Z.T)-np.mean(np.imag(Z.T),axis=0)))\n",
    "plt.show()"
   ]
  },
  {
   "cell_type": "code",
   "execution_count": 99,
   "metadata": {
    "ExecuteTime": {
     "end_time": "2019-11-05T16:49:13.251260Z",
     "start_time": "2019-11-05T16:49:13.243277Z"
    }
   },
   "outputs": [
    {
     "data": {
      "text/plain": [
       "[<matplotlib.lines.Line2D at 0x24181998ac8>]"
      ]
     },
     "execution_count": 99,
     "metadata": {},
     "output_type": "execute_result"
    }
   ],
   "source": [
    "i=0\n",
    "plt.plot(Y,(np.real(Z.T)-np.mean(np.real(Z.T)))[:,i])"
   ]
  },
  {
   "cell_type": "code",
   "execution_count": 100,
   "metadata": {
    "ExecuteTime": {
     "end_time": "2019-11-05T16:49:14.562267Z",
     "start_time": "2019-11-05T16:49:14.552287Z"
    }
   },
   "outputs": [],
   "source": [
    "for i in range(len(Z_new)):\n",
    "    Z_new[i]=Z_new[i]-np.median(np.real(Z_new[i]), axis=0)-1j*np.median(np.imag(Z_new[i]), axis=0)"
   ]
  },
  {
   "cell_type": "code",
   "execution_count": 102,
   "metadata": {
    "ExecuteTime": {
     "end_time": "2019-11-05T16:49:25.374207Z",
     "start_time": "2019-11-05T16:49:25.328294Z"
    }
   },
   "outputs": [
    {
     "data": {
      "text/plain": [
       "<matplotlib.collections.QuadMesh at 0x2418013b048>"
      ]
     },
     "execution_count": 102,
     "metadata": {},
     "output_type": "execute_result"
    }
   ],
   "source": [
    "plt.figure()\n",
    "plt.pcolormesh(X,Y,(np.abs(Z_new.T)))\n",
    "#plt.scatter(X,fq_coil_new_1qubit(L_fit,X)*1e9)"
   ]
  },
  {
   "cell_type": "code",
   "execution_count": 105,
   "metadata": {
    "ExecuteTime": {
     "end_time": "2019-11-05T16:53:38.209392Z",
     "start_time": "2019-11-05T16:53:38.201906Z"
    }
   },
   "outputs": [],
   "source": [
    "def plot_func(meas,points=None):\n",
    "    X=meas.datasets['S-parameter'].parameters[0].values[:]\n",
    "    Y=meas.datasets['S-parameter'].parameters[1].values[:]\n",
    "    Z=meas.datasets['S-parameter'].data[:,:,0]\n",
    "    plt.figure()\n",
    "    for i in range(len(X)):\n",
    "        Z[i]=Z[i]-np.median(np.real(Z))-1j*np.median(np.imag(Z))\n",
    "    plt.pcolormesh(X,Y,(np.abs(Z.T)))\n",
    "    if points is not None:\n",
    "        plt.scatter(X,points,facecolor='red')\n",
    "    plt.show()"
   ]
  },
  {
   "cell_type": "code",
   "execution_count": 241,
   "metadata": {
    "ExecuteTime": {
     "end_time": "2019-11-07T08:23:51.329156Z",
     "start_time": "2019-11-07T08:23:51.270767Z"
    }
   },
   "outputs": [
    {
     "data": {
      "text/plain": [
       "<matplotlib.collections.PathCollection at 0x2bbebe460f0>"
      ]
     },
     "execution_count": 241,
     "metadata": {},
     "output_type": "execute_result"
    }
   ],
   "source": []
  },
  {
   "cell_type": "code",
   "execution_count": 40,
   "metadata": {
    "ExecuteTime": {
     "end_time": "2019-11-05T16:00:05.158121Z",
     "start_time": "2019-11-05T16:00:05.143648Z"
    }
   },
   "outputs": [],
   "source": [
    "def find_freq(meas,ab=False,r=True,m=True):\n",
    "    X=meas.datasets['S-parameter'].parameters[0].values[:]\n",
    "    Y=meas.datasets['S-parameter'].parameters[1].values[:]\n",
    "    Z=meas.datasets['S-parameter'].data[:,:,0]\n",
    "    if ab==False:\n",
    "        if m==True:\n",
    "            if r==True:\n",
    "                arg=[np.argmax((np.real(Z.T)-np.mean(np.real(Z.T)))[:,i]) for i in range(len(X))]\n",
    "            else:\n",
    "                arg=[np.argmax((np.imag(Z.T)-np.mean(np.imag(Z.T)))[:,i]) for i in range(len(X))]\n",
    "        else:\n",
    "            if r==True:\n",
    "                arg=[np.argmin((np.real(Z.T)-np.mean(np.real(Z.T)))[:,i]) for i in range(len(X))]\n",
    "            else:\n",
    "                arg=[np.argmin((np.imag(Z.T)-np.mean(np.imag(Z.T)))[:,i]) for i in range(len(X))]\n",
    "    else:\n",
    "        for i in range(len(Z)):\n",
    "            Z[i]=Z[i]-np.median(np.real(Z[i]), axis=0)-1j*np.median(np.imag(Z[i]), axis=0)\n",
    "        arg=[np.argmax((np.abs(Z.T)-np.mean(np.imag(Z.T)))[:,i]) for i in range(len(X))]\n",
    "    return arg,Y[arg]"
   ]
  },
  {
   "cell_type": "code",
   "execution_count": 10,
   "metadata": {
    "ExecuteTime": {
     "end_time": "2019-11-08T09:33:40.860691Z",
     "start_time": "2019-11-08T09:33:40.855701Z"
    }
   },
   "outputs": [],
   "source": [
    "def find_freq_abs(data,Y):\n",
    "    arg=[np.argmax((np.abs(data.T)-np.mean(np.imag(data.T)))[:,i]) for i in range(len(data))]\n",
    "    return Y[arg]"
   ]
  },
  {
   "cell_type": "code",
   "execution_count": 106,
   "metadata": {
    "ExecuteTime": {
     "end_time": "2019-11-05T16:53:45.060363Z",
     "start_time": "2019-11-05T16:53:44.973030Z"
    }
   },
   "outputs": [],
   "source": [
    "plot_func(qubit1_up,find_freq(qubit1_up,ab=True)[1])"
   ]
  },
  {
   "cell_type": "code",
   "execution_count": 36,
   "metadata": {
    "ExecuteTime": {
     "end_time": "2019-11-05T10:38:17.966422Z",
     "start_time": "2019-11-05T10:38:17.913523Z"
    }
   },
   "outputs": [],
   "source": [
    "#plot_func(qubit1_down,find_freq(qubit1_down,m=False)[1])"
   ]
  },
  {
   "cell_type": "code",
   "execution_count": null,
   "metadata": {},
   "outputs": [],
   "source": []
  },
  {
   "cell_type": "code",
   "execution_count": null,
   "metadata": {},
   "outputs": [],
   "source": []
  },
  {
   "cell_type": "markdown",
   "metadata": {},
   "source": [
    "# Fiting"
   ]
  },
  {
   "cell_type": "markdown",
   "metadata": {},
   "source": [
    "## Resonator's anticrossings"
   ]
  },
  {
   "cell_type": "markdown",
   "metadata": {},
   "source": [
    "### Load measurements"
   ]
  },
  {
   "cell_type": "code",
   "execution_count": 212,
   "metadata": {
    "ExecuteTime": {
     "end_time": "2019-11-08T15:58:54.562560Z",
     "start_time": "2019-11-08T15:58:54.548588Z"
    }
   },
   "outputs": [],
   "source": [
    "fr  = lambda x, frb, Cc, EJ1, EJ2, EC, phi0, L: (fqb(x, EJ1, EJ2, EC, phi0, L)+frb)*0.5+(((fqb(x, EJ1, EJ2, EC, phi0, L)-frb)*0.5)**2+Cc**2*frb*fqb(x, EJ1, EJ2, EC, phi0, L))**0.5*np.sign(frb-fqb(x, EJ1, EJ2, EC, phi0, L))\n",
    "fqb = lambda x, EJ1, EJ2, EC, phi0, L: (8*EC)**0.5*((EJ1-EJ2)**2*np.sin(np.pi*x*L+phi0*np.pi)**2+(EJ1+EJ2)**2*np.cos(np.pi*x*L+phi0*np.pi)**2)**0.25\n",
    "def find_min(data,Y):\n",
    "    arg=[np.argmin(data[i]) for i in range(len(data))]\n",
    "    return Y[arg]\n",
    "def one_tone_plot(x,y,z,fit=None):\n",
    "    plt.figure()\n",
    "    step=np.abs(x[1]-x[0])/2\n",
    "    for _id in range(len(x)):\n",
    "        x_plot1 = (x[_id]-step)\n",
    "        x_plot2 = (x[_id]+step)\n",
    "        plt.pcolormesh([x_plot1, x_plot2],y,np.abs(z[_id].T).reshape(len(y),1),cmap='RdBu')\n",
    "    if fit is not None:\n",
    "        plt.plot(x,fit,'go')\n",
    "        plt.plot(x,fit,'g')\n",
    "def one_tone_fit_points(x,fit_params):\n",
    "    frb, g, EJ1, EJ2, EC, phi0,L= fit_params\n",
    "    return fr(x,frb, g, EJ1, EJ2, EC, phi0, L)"
   ]
  },
  {
   "cell_type": "code",
   "execution_count": 213,
   "metadata": {
    "ExecuteTime": {
     "end_time": "2019-11-08T15:58:56.355174Z",
     "start_time": "2019-11-08T15:58:55.396502Z"
    }
   },
   "outputs": [],
   "source": [
    "one_tone_fit=[]\n",
    "one_tone_data_z=[]\n",
    "one_tone_data_x=[]\n",
    "one_tone_data_y=[]\n",
    "for _id in qubits.keys():\n",
    "    one_tone_fit.append(exdir_db_inst.select_measurement(measurement_type=\"resonator_anticrossing\", \n",
    "                            metadata={'resonator':_id,'coil':\"NNDAC-\"+str(qubits[_id]['q']['P']['nndac_coil_id'])}))\n",
    "    one_tone_data_z.append(one_tone_fit[int(_id)-1].datasets['S-parameter'].data)\n",
    "    one_tone_data_x.append(one_tone_fit[int(_id)-1].datasets['S-parameter'].parameters[0].values[:])\n",
    "    one_tone_data_y.append(one_tone_fit[int(_id)-1].datasets['S-parameter'].parameters[1].values[:])"
   ]
  },
  {
   "cell_type": "code",
   "execution_count": 214,
   "metadata": {
    "ExecuteTime": {
     "end_time": "2019-11-08T15:58:56.802822Z",
     "start_time": "2019-11-08T15:58:56.357670Z"
    }
   },
   "outputs": [],
   "source": [
    "res_points=[]\n",
    "for i,j in enumerate(qubits.keys()):\n",
    "    plt.figure()\n",
    "    plt.pcolormesh(one_tone_data_x[i],one_tone_data_y[i],np.abs(one_tone_data_z[i].T))\n",
    "    res=find_min(np.abs(one_tone_data_z[i]),one_tone_data_y[i])\n",
    "    res_points.append(res)\n",
    "    plt.plot(one_tone_data_x[i],res,'ro')"
   ]
  },
  {
   "cell_type": "code",
   "execution_count": 215,
   "metadata": {
    "ExecuteTime": {
     "end_time": "2019-11-08T15:59:02.054522Z",
     "start_time": "2019-11-08T15:59:02.043544Z"
    }
   },
   "outputs": [],
   "source": [
    "P0_podgon_onetone=[]\n",
    "P0_podgon_onetone.append([ 6.26000000e+09 , 0.8e-2,  2.04086892e+10 , 3.58060430e+09,\n",
    "  160e6 , 8.22169602e-02 ,-1.10745709e-01])\n",
    "P0_podgon_onetone.append([ 6.30878640e+09 , 0.8e-2 , 1.98308991e+10,  3.20889443e+09,\n",
    "  160e6 , 8.44831600e-02, -1.13388195e-01])\n",
    "P0_podgon_onetone.append([ 6.3623e+09 , 0.8e-2,  2.04086892e+10 , 3.58060430e+09,\n",
    "  160e6 , 8.22169602e-02 ,-1.10745709e-01])\n",
    "P0_podgon_onetone.append([ 6.41257729e+09 , 0.8e-2 , 2.01109883e+10, 3.40089803e+09,\n",
    "  160e6 , 8.64696360e-02, -1.13173875e-01])\n",
    "P0_podgon_onetone.append([ 6.45870000e+09 ,0.8e-2,  1.96576181e+10,  3.47025789e+09,\n",
    "  160e6 , 8.79028568e-02, -1.14572312e-01])\n",
    "P0_podgon_onetone.append([ 6.49840000e+09 , 0.8e-2 , 1.95580647e+10 , 3.13139052e+09,\n",
    "  160e6 , 8.51922623e-02, -1.12260792e-01])\n",
    "P0_podgon_onetone.append([ 6.55513934e+09,  0.8e-2 , 2.00797455e+10 , 3.61077597e+09,\n",
    "  160e6 , 8.12802670e-02, -1.04832111e-01])\n",
    "P0_podgon_onetone.append([ 6.59746532e+09 , 0.8e-2 , 1.98918098e+10 , 3.41137117e+09,\n",
    "  160e6 , 8.06930318e-02 ,-1.14222294e-01])\n",
    "P0_podgon_onetone.append([ 6.64813109e+09 , 0.8e-2 , 1.97393599e+10 , 3.63220203e+09,\n",
    "  160e6 , 7.75346556e-02 ,-1.11135121e-01])\n",
    "P0_podgon_onetone.append([ 6.70352279e+09 , 0.8e-2 , 1.96389134e+10 , 3.53714686e+09,\n",
    "  160e6 , 7.03222854e-02 ,-1.07667672e-01])\n",
    "P0_podgon_onetone.append([ 6.75304036e+09 ,0.8e-2 , 2.16525041e+10 , 3.18878896e+09,\n",
    "  160e6,  8.12703811e-02, -1.15567891e-01])"
   ]
  },
  {
   "cell_type": "code",
   "execution_count": 216,
   "metadata": {
    "ExecuteTime": {
     "end_time": "2019-11-08T15:59:07.150434Z",
     "start_time": "2019-11-08T15:59:02.923481Z"
    }
   },
   "outputs": [
    {
     "name": "stdout",
     "output_type": "stream",
     "text": [
      "[ 6.25901878e+09  6.94117788e-03  1.93323679e+10  2.87781901e+09\n",
      "  1.42430927e+08  7.13653581e-02 -1.00553269e-01]\n",
      "[ 6.30585360e+09  7.83190737e-03  1.72992958e+10  2.72590907e+09\n",
      "  1.37609005e+08  8.28531899e-02 -1.09405896e-01]\n",
      "[ 6.36100768e+09  9.68605722e-03  1.63374403e+10  2.86523686e+09\n",
      "  1.28147606e+08  9.16694802e-02 -1.14674117e-01]\n",
      "[ 6.41276162e+09  9.53428117e-03  1.60889663e+10  2.72084452e+09\n",
      "  1.28432071e+08  8.43230060e-02 -1.10713001e-01]\n",
      "[ 6.45768950e+09  9.06766175e-03  1.57291318e+10  2.77631718e+09\n",
      "  1.28001866e+08  8.45934648e-02 -1.17098256e-01]\n",
      "[ 6.49761276e+09  6.49733246e-03  1.61158998e+10  3.75765589e+09\n",
      "  1.46070957e+08  8.04362899e-02 -1.07726641e-01]\n",
      "[ 6.55383066e+09  9.81243638e-03  1.61874052e+10  2.88865027e+09\n",
      "  1.28000486e+08  7.74621041e-02 -1.02589453e-01]\n",
      "[ 6.60516201e+09  9.57465632e-03  1.59134790e+10  2.72916922e+09\n",
      "  1.28000528e+08  8.75169807e-02 -1.02800065e-01]\n",
      "[ 6.65693917e+09  9.07512792e-03  1.77848943e+10  2.90860190e+09\n",
      "  1.32151897e+08  7.02863515e-02 -1.06918777e-01]\n",
      "[ 6.70997341e+09  7.60010447e-03  1.77998316e+10  2.91079718e+09\n",
      "  1.51095290e+08  6.33722946e-02 -9.86364940e-02]\n",
      "[ 6.76287216e+09  6.22602022e-03  1.73220033e+10  2.55409035e+09\n",
      "  1.28000000e+08  1.05651495e-01 -1.04011102e-01]\n"
     ]
    }
   ],
   "source": [
    "from scipy.optimize import least_squares\n",
    "fitresults_vec=[]\n",
    "for i, qubit_id  in enumerate(qubits.keys()):\n",
    "    data=np.asarray(find_min(np.abs(one_tone_data_z[i]),one_tone_data_y[i]))\n",
    "    current_points=one_tone_data_x[i] \n",
    "    P0=P0_podgon_onetone[i]\n",
    "    initial_guess = {'L':P0[6],\n",
    "                     'phi0':P0[5],\n",
    "                     'frb':P0[0],\n",
    "                     'EC':P0[4],\n",
    "                     'EJ1':P0[2],\n",
    "                     'EJ2':P0[3],\n",
    "                     'Cc':P0[1]}\n",
    "    \n",
    "    def residualsQ(p):\n",
    "        frb, g, EJ1, EJ2, EC, phi0 = p[:6]\n",
    "        L = p[-1]\n",
    "        res = []\n",
    "        for coil_id in range(len(data)):\n",
    "            res.extend([(fr(x[coil_id], frb, g, EJ1, EJ2, EC, phi0, L)/1e9-(data[coil_id])/1e9)*2])\n",
    "        return res\n",
    "        \n",
    "    p0 = (initial_guess['frb'], \n",
    "          initial_guess['Cc'], \n",
    "          initial_guess['EJ1'], \n",
    "          initial_guess['EJ2'], \n",
    "          initial_guess['EC'], \n",
    "          initial_guess['phi0'],\n",
    "          initial_guess['L'])\n",
    "          \n",
    "\n",
    "    bounds = ((p0[0]-20e6,      p0[1]*0.5,\\\n",
    "               p0[2]*0.8,      p0[3]*0.8,\\\n",
    "               p0[4]*0.8, p0[5]*0.8,\\\n",
    "               p0[6]*1.2),\n",
    "              \n",
    "              (p0[0]+20e6, p0[1]*1.5,\\\n",
    "               p0[2]*1.2, p0[3]*1.2,\\\n",
    "               p0[4]*1.2,  p0[5]*1.3,\\\n",
    "               p0[6]*0.9))\n",
    "    \n",
    "    fitresults = least_squares(residualsQ, p0, x_scale=np.abs(p0), bounds=bounds)\n",
    "    \n",
    "    fitresults_vec.append(fitresults)\n",
    "    L_fit=fitresults.x[:]\n",
    "    print(L_fit)"
   ]
  },
  {
   "cell_type": "code",
   "execution_count": 217,
   "metadata": {
    "ExecuteTime": {
     "end_time": "2019-11-08T15:59:10.200140Z",
     "start_time": "2019-11-08T15:59:08.717462Z"
    }
   },
   "outputs": [],
   "source": [
    "# for all one tones\n",
    "for i in range(11):\n",
    "    one_tone_plot(one_tone_data_x[i],one_tone_data_y[i],\n",
    "                 one_tone_data_z[i],one_tone_fit_points(one_tone_data_x[i],fitresults_vec[i].x))"
   ]
  },
  {
   "cell_type": "markdown",
   "metadata": {},
   "source": [
    "### save in database"
   ]
  },
  {
   "cell_type": "code",
   "execution_count": null,
   "metadata": {},
   "outputs": [],
   "source": [
    "parameters = [\n",
    "    MeasurementParameter(name='qubit_id', setter=None, values=[i for i in range(11)]),\n",
    "]\n",
    "data = fitresults_vec\n",
    "dataset = MeasurementDataset(parameters=parameters, data=data)\n",
    "data = MeasurementState(datasets={'data_fit':dataset}, measurement_type='one_tone_fit', sample_name=sample_name)\n",
    "\n",
    "# exdir_db_inst.save_measurement(data)"
   ]
  },
  {
   "cell_type": "markdown",
   "metadata": {},
   "source": [
    "## fit qubits"
   ]
  },
  {
   "cell_type": "code",
   "execution_count": 6,
   "metadata": {
    "ExecuteTime": {
     "end_time": "2019-11-12T07:29:24.449983Z",
     "start_time": "2019-11-12T07:29:24.438992Z"
    }
   },
   "outputs": [],
   "source": [
    "P0_podgon=[]\n",
    "P0_podgon.append([ 6.26000000e+09 , 5.75648278e-11,  2.04086892e+10 , 3.58060430e+09,\n",
    "  8.61301751e+07 , 8.22169602e-02 ,-1.10745709e-01])\n",
    "P0_podgon.append([ 6.30878640e+09 , 4.31268856e-19 , 1.98308991e+10,  3.20889443e+09,\n",
    "  8.33298939e+07 , 8.44831600e-02, -1.13388195e-01])\n",
    "P0_podgon.append([ 6.3623e+09 , 5.75648278e-11,  2.04086892e+10 , 3.58060430e+09,\n",
    "  8.61301751e+07 , 8.22169602e-02 ,-1.10745709e-01])\n",
    "P0_podgon.append([ 6.41257729e+09 , 1.12724259e-19 , 2.01109883e+10, 3.40089803e+09,\n",
    "  8.28268101e+07 , 8.64696360e-02, -1.13173875e-01])\n",
    "P0_podgon.append([ 6.45870000e+09 , 1.62189135e-22,  1.96576181e+10,  3.47025789e+09,\n",
    "  8.29187611e+07 , 8.79028568e-02, -1.14572312e-01])\n",
    "P0_podgon.append([ 6.49840000e+09 , 5.39803282e-30 , 1.95580647e+10 , 3.13139052e+09,\n",
    "  8.21458156e+07 , 8.51922623e-02, -1.12260792e-01])\n",
    "P0_podgon.append([ 6.55513934e+09,  5.86567097e-19 , 2.00797455e+10 , 3.61077597e+09,\n",
    "  8.66113673e+07 , 8.12802670e-02, -1.04832111e-01])\n",
    "P0_podgon.append([ 6.59746532e+09 , 1.10388734e-27 , 1.98918098e+10 , 3.41137117e+09,\n",
    "  8.38459605e+07 , 8.06930318e-02 ,-1.14222294e-01])\n",
    "P0_podgon.append([ 6.64813109e+09 , 9.72855216e-31 , 1.97393599e+10 , 3.63220203e+09,\n",
    "  8.70332630e+07 , 7.75346556e-02 ,-1.11135121e-01])\n",
    "P0_podgon.append([ 6.70352279e+09 , 1.17222256e-30 , 1.96389134e+10 , 3.53714686e+09,\n",
    "  8.34268160e+07 , 7.03222854e-02 ,-1.07667672e-01])\n",
    "P0_podgon.append([ 6.75304036e+09 , 2.72787378e-30 , 2.16525041e+10 , 3.18878896e+09,\n",
    "  7.93986404e+07,  8.12703811e-02, -1.15567891e-01])"
   ]
  },
  {
   "cell_type": "code",
   "execution_count": 7,
   "metadata": {
    "ExecuteTime": {
     "end_time": "2019-11-12T07:29:25.581281Z",
     "start_time": "2019-11-12T07:29:25.551302Z"
    }
   },
   "outputs": [],
   "source": [
    "def two_tone_adaptive_plot(x,y,z,fit_params,fit=None):\n",
    "#     plt.figure()\n",
    "    fr_diag=fq_coil(fit_params,x)\n",
    "    step=np.abs(x[1]-x[0])/2\n",
    "    for _id in range(len(x)):\n",
    "        x_plot1 = (x[_id]-step)\n",
    "        x_plot2 = (x[_id]+step)\n",
    "        plt.pcolormesh([x_plot1, x_plot2], y/1e3+fr_diag[_id],z[_id].reshape(len(y),1))\n",
    "    if fit is not None:\n",
    "        plt.plot(x,fit,'go')\n",
    "#         plt.plot(x,fit,'g')\n",
    "def data_abs(meas):\n",
    "    for i in range(len(meas)):\n",
    "        meas[i]=meas[i]-np.median(np.real(meas[i]))-1j*np.median(np.imag(meas[i]))\n",
    "    return meas\n",
    "def two_tone1_fit_points(x,fit_params):\n",
    "    frb, Cc, EJ1, EJ2, EC, phi0,fqL, CcL, L= fit_params\n",
    "    return fq_q1(x,frb, Cc, EJ1, EJ2, EC, phi0,fqL, CcL,L)\n",
    "def two_tone2_fit_points(x,fit_params):\n",
    "    frb, Cc, EJ1, EJ2, EC, phi0,fqL, CcL, fqR, CcR, L= fit_params\n",
    "    return fq_q2(x,frb, Cc, EJ1, EJ2, EC, phi0,fqL, CcL, fqR, CcR, L)\n",
    "def fq_coil(p,x):\n",
    "    frb, Cc, EJ1, EJ2, EC, phi0 = p[:6]\n",
    "    L = p[-1]\n",
    "    return fq_r(x, frb, Cc, EJ1, EJ2, EC, phi0, L)/1e9\n",
    "def find_freqs_abs(data,Y):\n",
    "    arg=[np.argmax((np.abs(data.T)-np.mean(np.abs(data.T)))[:,i]) for i in range(len(data))]\n",
    "    return Y[arg]\n",
    "def find_freqs_min(data,Y):\n",
    "    arg=[np.argmin(data[i]) for i in range(len(data))]\n",
    "#     print(arg)\n",
    "    return Y[arg]\n",
    "def fq_coil_qubit1(p,x):\n",
    "    frb, Cc, EJ1, EJ2, EC, phi0 ,fqL, CcL= p[:8]\n",
    "    L = p[-1]\n",
    "    return fq_q1(x, frb, Cc, EJ1, EJ2, EC, phi0, fqL, CcL,L)/1e9\n",
    "def fq_coil_qubit2(p,x):\n",
    "    frb, Cc, EJ1, EJ2, EC, phi0 ,fqL, CcL,fqR, CcR,= p[:10]\n",
    "    L = p[-1]\n",
    "    return fq_q2(x, frb, Cc, EJ1, EJ2, EC, phi0, fqL, CcL,fqR, CcR,L)/1e9\n",
    "fq_q2  = lambda x, frb, Cc, EJ1, EJ2, EC, phi0,fqL, CcL, fqR, CcR, L: (fq_q1(x, frb, Cc,EJ1, EJ2, EC, phi0,fqL, CcL, L)+fqR)*0.5-(((fq_q1(x, frb, Cc, EJ1, EJ2, EC, phi0, fqL, CcL, L)-fqR)*0.5)**2+CcR**2*fq_q1(x, frb,Cc, EJ1, EJ2, EC, phi0, fqL, CcL, L)*fqR)**0.5*np.sign(fqR-fq_q1(x, frb, Cc,EJ1, EJ2, EC, phi0, fqL, CcL, L))\n",
    "fq_q1  = lambda x, frb, Cc, EJ1, EJ2, EC, phi0,fqL, CcL, L: (fq_r(x, frb, Cc,EJ1, EJ2, EC, phi0, L)+fqL)*0.5-(((fq_r(x, frb, Cc, EJ1, EJ2, EC, phi0, L)-fqL)*0.5)**2+CcL**2*fq_r(x, frb,Cc, EJ1, EJ2, EC, phi0, L)*fqL)**0.5*np.sign(fqL-fq_r(x, frb, Cc,EJ1, EJ2, EC, phi0, L))\n",
    "fq_r  = lambda x, frb, Cc, EJ1, EJ2, EC, phi0,L: (fqb(x, EJ1, EJ2, EC, phi0, L)+frb)*0.5-(((fqb(x, EJ1, EJ2, EC, phi0, L)-frb)*0.5)**2+Cc**2*fqb(x, EJ1, EJ2, EC, phi0, L)*frb)**0.5*np.sign(frb-fqb(x, EJ1, EJ2, EC, phi0, L))\n",
    "fqb = lambda x, EJ1, EJ2, EC, phi0, L: (8*EC)**0.5*((EJ1-EJ2)**2*np.sin(np.pi*x*L+phi0*np.pi)**2+(EJ1+EJ2)**2*np.cos(np.pi*x*L+phi0*np.pi)**2)**0.25\n"
   ]
  },
  {
   "cell_type": "code",
   "execution_count": 18,
   "metadata": {
    "ExecuteTime": {
     "end_time": "2019-11-12T07:46:11.997083Z",
     "start_time": "2019-11-12T07:46:11.841180Z"
    }
   },
   "outputs": [
    {
     "name": "stdout",
     "output_type": "stream",
     "text": [
      "Exdir_db.select_measurement_by_id: trying to load measurement state by id:  d:\\data\\2019-11-11\\004713-Adaptive_two_tone_spectroscopy_test-11qubits_021119\n"
     ]
    }
   ],
   "source": [
    "data8=exdir_db_inst.select_measurement_by_id(4713)"
   ]
  },
  {
   "cell_type": "code",
   "execution_count": 19,
   "metadata": {
    "ExecuteTime": {
     "end_time": "2019-11-12T07:46:12.813575Z",
     "start_time": "2019-11-12T07:46:12.808579Z"
    }
   },
   "outputs": [],
   "source": [
    "data8z=data8.datasets['S-parameter'].data[:,:,0]\n",
    "data8y=data8.datasets['S-parameter'].parameters[1].values[:]\n",
    "data8x=data8.datasets['S-parameter'].parameters[0].values[:]"
   ]
  },
  {
   "cell_type": "code",
   "execution_count": 26,
   "metadata": {
    "ExecuteTime": {
     "end_time": "2019-11-12T07:49:09.561953Z",
     "start_time": "2019-11-12T07:49:09.495999Z"
    }
   },
   "outputs": [],
   "source": [
    "plt.figure(); plt.pcolormesh(data8x,data8y,np.imag(data8z.T)); plt.colorbar();"
   ]
  },
  {
   "cell_type": "code",
   "execution_count": 23,
   "metadata": {
    "ExecuteTime": {
     "end_time": "2019-11-12T07:46:30.135831Z",
     "start_time": "2019-11-12T07:46:30.129836Z"
    }
   },
   "outputs": [
    {
     "data": {
      "text/plain": [
       "{}"
      ]
     },
     "execution_count": 23,
     "metadata": {},
     "output_type": "execute_result"
    }
   ],
   "source": [
    "data8.references"
   ]
  },
  {
   "cell_type": "code",
   "execution_count": 17,
   "metadata": {
    "ExecuteTime": {
     "end_time": "2019-11-12T07:32:39.332114Z",
     "start_time": "2019-11-12T07:32:39.289142Z"
    }
   },
   "outputs": [
    {
     "data": {
      "text/plain": [
       "[<matplotlib.lines.Line2D at 0x1e532613ba8>]"
      ]
     },
     "execution_count": 17,
     "metadata": {},
     "output_type": "execute_result"
    }
   ],
   "source": [
    "plt.plot(data8y,np.imag(data8z)[2])"
   ]
  },
  {
   "cell_type": "code",
   "execution_count": 355,
   "metadata": {
    "ExecuteTime": {
     "end_time": "2019-11-11T15:25:00.670696Z",
     "start_time": "2019-11-11T15:25:00.665706Z"
    }
   },
   "outputs": [],
   "source": [
    "arg=[np.argmin(np.imag(data8z)[i]) for i in range(len(data8z))]"
   ]
  },
  {
   "cell_type": "code",
   "execution_count": 356,
   "metadata": {
    "ExecuteTime": {
     "end_time": "2019-11-11T15:25:44.533701Z",
     "start_time": "2019-11-11T15:25:44.486790Z"
    }
   },
   "outputs": [
    {
     "data": {
      "text/plain": [
       "[<matplotlib.lines.Line2D at 0x1bb69c91e48>]"
      ]
     },
     "execution_count": 356,
     "metadata": {},
     "output_type": "execute_result"
    }
   ],
   "source": [
    "plt.plot(data8x,data8y[arg])"
   ]
  },
  {
   "cell_type": "code",
   "execution_count": 27,
   "metadata": {
    "ExecuteTime": {
     "end_time": "2019-11-12T07:49:23.580266Z",
     "start_time": "2019-11-12T07:49:23.574263Z"
    }
   },
   "outputs": [],
   "source": [
    "meas=data8z\n",
    "meas=meas-np.median(np.real(meas), axis=0)-1j*np.median(np.imag(meas), axis=0)"
   ]
  },
  {
   "cell_type": "code",
   "execution_count": null,
   "metadata": {},
   "outputs": [],
   "source": []
  },
  {
   "cell_type": "code",
   "execution_count": 28,
   "metadata": {
    "ExecuteTime": {
     "end_time": "2019-11-12T07:49:24.675579Z",
     "start_time": "2019-11-12T07:49:24.658592Z"
    }
   },
   "outputs": [
    {
     "ename": "NameError",
     "evalue": "name 'arg' is not defined",
     "output_type": "error",
     "traceback": [
      "\u001b[1;31m---------------------------------------------------------------------------\u001b[0m",
      "\u001b[1;31mNameError\u001b[0m                                 Traceback (most recent call last)",
      "\u001b[1;32m<ipython-input-28-ca9e9b8b3f2c>\u001b[0m in \u001b[0;36m<module>\u001b[1;34m\u001b[0m\n\u001b[0;32m      1\u001b[0m \u001b[1;31m# plt.pcolormesh(data8x,data8y,np.imag(meas).T)\u001b[0m\u001b[1;33m\u001b[0m\u001b[1;33m\u001b[0m\u001b[1;33m\u001b[0m\u001b[0m\n\u001b[1;32m----> 2\u001b[1;33m \u001b[0mplt\u001b[0m\u001b[1;33m.\u001b[0m\u001b[0mplot\u001b[0m\u001b[1;33m(\u001b[0m\u001b[0mdata8x\u001b[0m\u001b[1;33m,\u001b[0m\u001b[0mdata8y\u001b[0m\u001b[1;33m[\u001b[0m\u001b[0marg\u001b[0m\u001b[1;33m]\u001b[0m\u001b[1;33m/\u001b[0m\u001b[1;36m1e3\u001b[0m\u001b[1;33m+\u001b[0m\u001b[0mfr_diag\u001b[0m\u001b[1;33m,\u001b[0m\u001b[1;34m'ro'\u001b[0m\u001b[1;33m)\u001b[0m\u001b[1;33m\u001b[0m\u001b[1;33m\u001b[0m\u001b[0m\n\u001b[0m",
      "\u001b[1;31mNameError\u001b[0m: name 'arg' is not defined"
     ]
    }
   ],
   "source": [
    "# plt.pcolormesh(data8x,data8y,np.imag(meas).T)\n",
    "plt.plot(data8x,data8y[arg]/1e3+fr_diag,'ro')"
   ]
  },
  {
   "cell_type": "code",
   "execution_count": 361,
   "metadata": {
    "ExecuteTime": {
     "end_time": "2019-11-11T15:30:34.424376Z",
     "start_time": "2019-11-11T15:30:34.003678Z"
    }
   },
   "outputs": [
    {
     "data": {
      "text/plain": [
       "[<matplotlib.lines.Line2D at 0x1bb57ccfc50>]"
      ]
     },
     "execution_count": 361,
     "metadata": {},
     "output_type": "execute_result"
    }
   ],
   "source": [
    "# data8z_pr=data_abs(data8z)\n",
    "fr_diag=fq_coil(P0_podgon[8],data8x)\n",
    "step=np.abs(data8x[1]-data8x[0])/2\n",
    "for _id in range(len(data8x)):\n",
    "    x_plot1 = (data8x[_id]-step)\n",
    "    x_plot2 = (data8x[_id]+step)\n",
    "    plt.pcolormesh([x_plot1, x_plot2], data8y/1e3+fr_diag[_id],np.imag(meas)[_id].reshape((len(data8y),1)))\n",
    "plt.plot(data8x,data8y[arg]/1e3+fr_diag,'ro')"
   ]
  },
  {
   "cell_type": "code",
   "execution_count": 8,
   "metadata": {
    "ExecuteTime": {
     "end_time": "2019-11-12T07:29:34.309867Z",
     "start_time": "2019-11-12T07:29:32.123226Z"
    }
   },
   "outputs": [],
   "source": [
    "two_tone_fit=[]\n",
    "two_tone_data_z=[]\n",
    "two_tone_data_x=[]\n",
    "two_tone_data_y=[]\n",
    "Qubits=qubits.keys()\n",
    "for _id in qubits.keys():\n",
    "    two_tone_fit.append(exdir_db_inst.select_measurement(measurement_type=\"Adaptive_two_tone_spectroscopy\", \n",
    "                            metadata={'resonator_id':_id}))\n",
    "    if _id!='9':\n",
    "        two_tone_data_z.append(data_abs(two_tone_fit[int(_id)-1].datasets['S-parameter'].data[:,:,0]))\n",
    "    if _id=='9':\n",
    "        fit=two_tone_fit[int(_id)-1].datasets['S-parameter'].data[:,:,0]\n",
    "        for i in range(len(fit)):\n",
    "            fit[i]=fit[i]-np.median(np.real(fit[i]))-1j*np.median(np.imag(fit[i]))\n",
    "        two_tone_data_z.append(fit)\n",
    "    two_tone_data_x.append(two_tone_fit[int(_id)-1].datasets['S-parameter'].parameters[0].values[:])\n",
    "    two_tone_data_y.append(two_tone_fit[int(_id)-1].datasets['S-parameter'].parameters[1].values[:])"
   ]
  },
  {
   "cell_type": "code",
   "execution_count": 9,
   "metadata": {
    "ExecuteTime": {
     "end_time": "2019-11-12T07:29:36.502508Z",
     "start_time": "2019-11-12T07:29:35.426178Z"
    }
   },
   "outputs": [
    {
     "ename": "NameError",
     "evalue": "name 'data8x' is not defined",
     "output_type": "error",
     "traceback": [
      "\u001b[1;31m---------------------------------------------------------------------------\u001b[0m",
      "\u001b[1;31mNameError\u001b[0m                                 Traceback (most recent call last)",
      "\u001b[1;32m<ipython-input-9-63117303ddde>\u001b[0m in \u001b[0;36m<module>\u001b[1;34m\u001b[0m\n\u001b[0;32m      4\u001b[0m              np.imag(two_tone_data_z[i]),P0_podgon[i],None)\n\u001b[0;32m      5\u001b[0m \u001b[0mx\u001b[0m\u001b[1;33m=\u001b[0m\u001b[0mnp\u001b[0m\u001b[1;33m.\u001b[0m\u001b[0mlinspace\u001b[0m\u001b[1;33m(\u001b[0m\u001b[1;33m-\u001b[0m\u001b[1;36m4\u001b[0m\u001b[1;33m,\u001b[0m\u001b[1;36m1.5\u001b[0m\u001b[1;33m,\u001b[0m\u001b[1;36m500\u001b[0m\u001b[1;33m)\u001b[0m\u001b[1;33m\u001b[0m\u001b[1;33m\u001b[0m\u001b[0m\n\u001b[1;32m----> 6\u001b[1;33m \u001b[0mfr_diag\u001b[0m\u001b[1;33m=\u001b[0m\u001b[0mfq_coil\u001b[0m\u001b[1;33m(\u001b[0m\u001b[0mP0_podgon\u001b[0m\u001b[1;33m[\u001b[0m\u001b[0mi\u001b[0m\u001b[1;33m]\u001b[0m\u001b[1;33m,\u001b[0m\u001b[0mdata8x\u001b[0m\u001b[1;33m)\u001b[0m\u001b[1;33m\u001b[0m\u001b[1;33m\u001b[0m\u001b[0m\n\u001b[0m\u001b[0;32m      7\u001b[0m \u001b[0mfreqs\u001b[0m\u001b[1;33m=\u001b[0m\u001b[0mfind_freqs_min\u001b[0m\u001b[1;33m(\u001b[0m\u001b[0mnp\u001b[0m\u001b[1;33m.\u001b[0m\u001b[0mimag\u001b[0m\u001b[1;33m(\u001b[0m\u001b[0mtwo_tone_data_z\u001b[0m\u001b[1;33m[\u001b[0m\u001b[0mi\u001b[0m\u001b[1;33m]\u001b[0m\u001b[1;33m)\u001b[0m\u001b[1;33m,\u001b[0m\u001b[0mtwo_tone_data_y\u001b[0m\u001b[1;33m[\u001b[0m\u001b[0mi\u001b[0m\u001b[1;33m]\u001b[0m\u001b[1;33m)\u001b[0m\u001b[1;33m/\u001b[0m\u001b[1;36m1e3\u001b[0m\u001b[1;33m+\u001b[0m\u001b[0mfr_diag\u001b[0m\u001b[1;33m\u001b[0m\u001b[1;33m\u001b[0m\u001b[0m\n\u001b[0;32m      8\u001b[0m \u001b[0md2_abs\u001b[0m \u001b[1;33m=\u001b[0m \u001b[0mnp\u001b[0m\u001b[1;33m.\u001b[0m\u001b[0mabs\u001b[0m\u001b[1;33m(\u001b[0m\u001b[0mnp\u001b[0m\u001b[1;33m.\u001b[0m\u001b[0mgradient\u001b[0m\u001b[1;33m(\u001b[0m\u001b[0mnp\u001b[0m\u001b[1;33m.\u001b[0m\u001b[0mgradient\u001b[0m\u001b[1;33m(\u001b[0m\u001b[0mfreqs\u001b[0m\u001b[1;33m)\u001b[0m\u001b[1;33m)\u001b[0m\u001b[1;33m)\u001b[0m\u001b[1;33m\u001b[0m\u001b[1;33m\u001b[0m\u001b[0m\n",
      "\u001b[1;31mNameError\u001b[0m: name 'data8x' is not defined"
     ]
    },
    {
     "data": {
      "image/png": "[encoded data removed]",
      "text/plain": [
       "<Figure size 432x288 with 1 Axes>"
      ]
     },
     "metadata": {
      "needs_background": "light"
     },
     "output_type": "display_data"
    }
   ],
   "source": [
    "# for all one tones\n",
    "i=8\n",
    "two_tone_adaptive_plot(two_tone_data_x[i],two_tone_data_y[i],\n",
    "             np.imag(two_tone_data_z[i]),P0_podgon[i],None)\n",
    "x=np.linspace(-4,1.5,500)\n",
    "fr_diag=fq_coil(P0_podgon[i],data8x)\n",
    "freqs=find_freqs_min(np.imag(two_tone_data_z[i]),two_tone_data_y[i])/1e3+fr_diag\n",
    "d2_abs = np.abs(np.gradient(np.gradient(freqs)))\n",
    "d2_abs_av = np.median(d2_abs)\n",
    "good_points= d2_abs<d2_abs_av*7\n",
    "plt.plot(two_tone_data_x[i][good_points],freqs[good_points],'wo')\n",
    "plt.plot(x,np.asarray(two_tone2_fit_points(x,P0_podgon_twotone[i])/1e9),\"ro\")"
   ]
  },
  {
   "cell_type": "code",
   "execution_count": null,
   "metadata": {},
   "outputs": [],
   "source": []
  },
  {
   "cell_type": "code",
   "execution_count": 382,
   "metadata": {
    "ExecuteTime": {
     "end_time": "2019-11-08T21:23:38.930195Z",
     "start_time": "2019-11-08T21:23:38.880789Z"
    }
   },
   "outputs": [
    {
     "data": {
      "text/plain": [
       "[<matplotlib.lines.Line2D at 0x24c06cabc88>]"
      ]
     },
     "execution_count": 382,
     "metadata": {},
     "output_type": "execute_result"
    }
   ],
   "source": [
    "x=np.linspace(-4,1.5,500)\n",
    "plt.plot(x,np.asarray(two_tone2_fit_points(x,P0_podgon_twotone[1])/1e9),\"ro\")\n",
    "# plt.plot(x,np.asarray(two_tone2_fit_points(x,L_fit)/1e9),\"ro\")"
   ]
  },
  {
   "cell_type": "code",
   "execution_count": 30,
   "metadata": {
    "ExecuteTime": {
     "end_time": "2019-11-12T09:19:59.470250Z",
     "start_time": "2019-11-12T09:19:59.456262Z"
    }
   },
   "outputs": [],
   "source": [
    "P0_podgon_twotone=[]\n",
    "P0_podgon_twotone.append([ 6.2580e+09 , 0.8e-2, 1.126172185e+10 , 1.968976245e+09,\n",
    " 15.6e7  ,7.96063944e-02 , 3.73827488e+09 , 1.4e-02,\n",
    " -1.11824314e-01])\n",
    "P0_podgon_twotone.append([ 6.30402755e+09, 1.00433465e-01,  1.10791479e+10,  1.81756150e+09,\n",
    "  1.56453522e8 , 8.68666687e-02,  3.49202273e+09,  1.33511318e-02,\n",
    "  3.81e+09,  3.67075470e-03 ,-1.12179379e-01])\n",
    "\n",
    "P0_podgon_twotone.append([ 6.36225166e+09,  8.01428025e-03,  11.1737426e+9  ,1.97694132e+09,\n",
    "  1.54664926e8,  8.27517576e-02 , 3.745e+09,  1.55816528e-02,\n",
    "  3.39515926e+09,  5.5e-03, -1.12493371e-01])\n",
    "\n",
    "P0_podgon_twotone.append([ 6.40841572e+09,  8.22852090e-03 , 10.9700248e+9,  1.81105101e+09,\n",
    "  1.52069379e8,  8.44714542e-02,  3.69504818e+09,  4.23426909e-03,\n",
    "  3.43573031e+09,  1.43409101e-02, -1.13008285e-01])\n",
    "\n",
    "P0_podgon_twotone.append([ 6.45635702e+09,  8.18269462e-03 , 1.06976578e+10,  1.87684245e+09,\n",
    "  1.52115447e8, 8.60741805e-02,  3.69186235e+09,  1.37770096e-02,\n",
    "  3.37736765e9, 4.21426273e-03, -1.11034501e-01])\n",
    "P0_podgon_twotone.append([ 6.51131535e+09 , 7.13322583e-03 , 1.06039210e+10,  1.72205231e+09,\n",
    "  1.50883075e8,  9.18759921e-02 , 3.4027e+09,  0.0137656319,\n",
    "  3.830400000e+09,  2.10714367e-03, -0.10783])\n",
    "P0_podgon_twotone.append([ 6.55548153e+09 , 7.97470585e-03 , 10.819975200e9 , 1.916046630e+09,\n",
    "  1.60569224e8,  7.58569734e-02 , 3.74186235e+09 , 1.41637373e-02,\n",
    "  3.26594545e+09,  4.19698619e-03 ,-0.10364])\n",
    "P0_podgon_twotone.append([ 6.59770969e+09,  7.98155806e-03,  10.6525791e+9,  1.90081752e+09,\n",
    "  1.56086696e8 , 8.15266705e-02 , 3.472328770e+09,  1.27624657e-02,\n",
    "  3.83477214e+09 , 2.20179632e-03, -1.1033062e-01])\n",
    "\n",
    "#bad, for that plot imag instead of abs\n",
    "P0_podgon_twotone.append([ 6.64811198e+09 , 8.25895819e-03 , 1.07552449e+10,  1.97619114e+09,\n",
    "  1.59670032e+08 , 7.57868298e-02 , 3.71588208e+09 , 1.31150042e-02,\n",
    "  3.37385562e+09 , 2.86013948e-03 ,-1.10384262e-01])\n",
    "\n",
    "\n",
    "P0_podgon_twotone.append([ 6.70352279e+09 , 0.8e-2 , 10909921000.00,  1955052310.00,\n",
    "  150e6 , 7.03222854e-02 ,3.442328770e+09,   1.37624657e-02,\n",
    "  3.809e+09 , 4.20179632e-03,\n",
    "                          -1.07667672e-01])\n",
    "P0_podgon_twotone.append([ 6.75304036e+09 ,0.8e-2 ,1.06039210e+10 , 1.72205231e+09,\n",
    "  150e6,  8.12703811e-02, 3.685e+09,  4.20179632e-03 ,\n",
    "                          -1.15567891e-01])"
   ]
  },
  {
   "cell_type": "code",
   "execution_count": 11,
   "metadata": {
    "ExecuteTime": {
     "end_time": "2019-11-12T07:29:44.581496Z",
     "start_time": "2019-11-12T07:29:43.919909Z"
    }
   },
   "outputs": [
    {
     "data": {
      "application/vnd.jupyter.widget-view+json": {
       "model_id": "e19203d6c073457583b64201b82a9fa0",
       "version_major": 2,
       "version_minor": 0
      },
      "text/plain": [
       "interactive(children=(FloatSlider(value=6648111980.0, description='frb', max=6648111980.0, min=6648111980.0), …"
      ]
     },
     "metadata": {},
     "output_type": "display_data"
    }
   ],
   "source": [
    "%matplotlib qt5\n",
    "from ipywidgets import interactive\n",
    "import matplotlib.pyplot as plt\n",
    "import numpy as np\n",
    "\n",
    "a, =plt.plot([],[],'ro')\n",
    "plt.show()\n",
    "plt.ylim(3.2,4.2)\n",
    "plt.xlim(-4,1.5)\n",
    "i=8\n",
    "two_tone_adaptive_plot(two_tone_data_x[i],two_tone_data_y[i],\n",
    "                 np.imag(two_tone_data_z[i]),P0_podgon[i],None)\n",
    "\n",
    "def f(frb, Cc, EJ1, EJ2, EC, phi0,fqL, CcL, fqR, CcR, L):\n",
    "    a.set_data(two_tone_data_x[i],fq_q2(two_tone_data_x[i],\n",
    "                                        frb, Cc, EJ1,\n",
    "                                        EJ2, EC, phi0,fqL,\n",
    "                                        CcL, fqR, CcR, L)/1e9)\n",
    "  \n",
    "    print(frb)\n",
    "    print(Cc)\n",
    "    print(EJ1)\n",
    "    print(EJ2)\n",
    "    print(EC)\n",
    "    print(phi0)\n",
    "    print(fqL)\n",
    "    print(CcL)\n",
    "    print(fqR)\n",
    "    print(CcR)\n",
    "    print(L)\n",
    "    \n",
    "interactive(f, frb=(P0_podgon_twotone[i][0],P0_podgon_twotone[i][0]),\n",
    "            Cc=(P0_podgon_twotone[i][1],P0_podgon_twotone[i][1]),\n",
    "            EJ1=(P0_podgon_twotone[i][2]-700e6,P0_podgon_twotone[i][2]+700e6,1e6),\n",
    "            EJ2=(P0_podgon_twotone[i][3]-400e6,P0_podgon_twotone[i][3]+400e6,1e6),\n",
    "            EC=(P0_podgon_twotone[i][4],P0_podgon_twotone[i][4]),\n",
    "            phi0=(P0_podgon_twotone[i][5],P0_podgon_twotone[i][5]),\n",
    "            fqL=(P0_podgon_twotone[i][6]-100e6, P0_podgon_twotone[i][6]+100e6,1e6),\n",
    "            CcL=(P0_podgon_twotone[i][7]-1e-1,P0_podgon_twotone[i][7]+1e-1,1e-4),\n",
    "            fqR=(P0_podgon_twotone[i][8]-100e6, P0_podgon_twotone[i][8]+100e6,1e6),\n",
    "            CcR=(P0_podgon_twotone[i][9]-1e-2,P0_podgon_twotone[i][9]+1e-2,1e-6),\n",
    "            L=((P0_podgon_twotone[i][10]-1e-1,P0_podgon_twotone[i][10]+1e-1,1e-3)))"
   ]
  },
  {
   "cell_type": "code",
   "execution_count": 40,
   "metadata": {
    "ExecuteTime": {
     "end_time": "2019-11-09T17:59:19.392030Z",
     "start_time": "2019-11-09T17:59:19.083119Z"
    }
   },
   "outputs": [],
   "source": [
    "two_tone_adaptive_plot(two_tone_data_x[i],two_tone_data_y[i],\n",
    "                 two_tone_data_z[i],P0_podgon[i],None)"
   ]
  },
  {
   "cell_type": "code",
   "execution_count": 436,
   "metadata": {
    "ExecuteTime": {
     "end_time": "2019-11-11T18:12:01.310307Z",
     "start_time": "2019-11-11T18:12:01.178558Z"
    }
   },
   "outputs": [
    {
     "data": {
      "text/plain": [
       "[<matplotlib.lines.Line2D at 0x1bb0e7ba438>]"
      ]
     },
     "execution_count": 436,
     "metadata": {},
     "output_type": "execute_result"
    }
   ],
   "source": [
    "i=10\n",
    "two_tone_adaptive_plot(two_tone_data_x[i],two_tone_data_y[i],\n",
    "             np.abs(two_tone_data_z[i]),P0_podgon[i],None)\n",
    "x=np.linspace(-4,1.5,500)\n",
    "# plt.plot(x,np.asarray(two_tone2_fit_points(x,P0_podgon_twotone[i])/1e9),\"ro\")\n",
    "fr_diag=fq_coil(P0_podgon[i],two_tone_data_x[i])\n",
    "plt.plot(two_tone_data_x[i],np.asarray(find_freqs_abs(np.abs(two_tone_data_z[i]),two_tone_data_y[i]))/1e3+fr_diag,'ro')"
   ]
  },
  {
   "cell_type": "markdown",
   "metadata": {},
   "source": [
    "### for qubits with  one neighbour"
   ]
  },
  {
   "cell_type": "code",
   "execution_count": 449,
   "metadata": {
    "ExecuteTime": {
     "end_time": "2019-11-11T18:18:12.487748Z",
     "start_time": "2019-11-11T18:18:12.447326Z"
    }
   },
   "outputs": [
    {
     "ename": "ValueError",
     "evalue": "Each lower bound must be strictly less than each upper bound.",
     "output_type": "error",
     "traceback": [
      "\u001b[1;31m---------------------------------------------------------------------------\u001b[0m",
      "\u001b[1;31mValueError\u001b[0m                                Traceback (most recent call last)",
      "\u001b[1;32m<ipython-input-449-199da3b8d081>\u001b[0m in \u001b[0;36m<module>\u001b[1;34m\u001b[0m\n\u001b[0;32m     48\u001b[0m                p0[6]+10e6,p0[7]*1.1,p0[8]*0.8))\n\u001b[0;32m     49\u001b[0m \u001b[1;33m\u001b[0m\u001b[0m\n\u001b[1;32m---> 50\u001b[1;33m     \u001b[0mfitresults\u001b[0m \u001b[1;33m=\u001b[0m \u001b[0mleast_squares\u001b[0m\u001b[1;33m(\u001b[0m\u001b[0mresidualsQ\u001b[0m\u001b[1;33m,\u001b[0m \u001b[0mp0\u001b[0m\u001b[1;33m,\u001b[0m \u001b[0mx_scale\u001b[0m\u001b[1;33m=\u001b[0m\u001b[0mnp\u001b[0m\u001b[1;33m.\u001b[0m\u001b[0mabs\u001b[0m\u001b[1;33m(\u001b[0m\u001b[0mp0\u001b[0m\u001b[1;33m)\u001b[0m\u001b[1;33m,\u001b[0m \u001b[0mbounds\u001b[0m\u001b[1;33m=\u001b[0m\u001b[0mbounds\u001b[0m\u001b[1;33m,\u001b[0m\u001b[0mverbose\u001b[0m\u001b[1;33m=\u001b[0m\u001b[1;36m2\u001b[0m\u001b[1;33m)\u001b[0m\u001b[1;33m\u001b[0m\u001b[1;33m\u001b[0m\u001b[0m\n\u001b[0m\u001b[0;32m     51\u001b[0m     \u001b[0mfitresults_vec\u001b[0m\u001b[1;33m.\u001b[0m\u001b[0mappend\u001b[0m\u001b[1;33m(\u001b[0m\u001b[0mfitresults\u001b[0m\u001b[1;33m)\u001b[0m\u001b[1;33m\u001b[0m\u001b[1;33m\u001b[0m\u001b[0m\n\u001b[0;32m     52\u001b[0m     \u001b[0mL_fit\u001b[0m\u001b[1;33m=\u001b[0m\u001b[0mfitresults\u001b[0m\u001b[1;33m.\u001b[0m\u001b[0mx\u001b[0m\u001b[1;33m[\u001b[0m\u001b[1;33m:\u001b[0m\u001b[1;33m]\u001b[0m\u001b[1;33m\u001b[0m\u001b[1;33m\u001b[0m\u001b[0m\n",
      "\u001b[1;32mC:\\ProgramData\\Anaconda3\\lib\\site-packages\\scipy\\optimize\\_lsq\\least_squares.py\u001b[0m in \u001b[0;36mleast_squares\u001b[1;34m(fun, x0, jac, bounds, method, ftol, xtol, gtol, x_scale, loss, f_scale, diff_step, tr_solver, tr_options, jac_sparsity, max_nfev, verbose, args, kwargs)\u001b[0m\n\u001b[0;32m    789\u001b[0m \u001b[1;33m\u001b[0m\u001b[0m\n\u001b[0;32m    790\u001b[0m     \u001b[1;32mif\u001b[0m \u001b[0mnp\u001b[0m\u001b[1;33m.\u001b[0m\u001b[0many\u001b[0m\u001b[1;33m(\u001b[0m\u001b[0mlb\u001b[0m \u001b[1;33m>=\u001b[0m \u001b[0mub\u001b[0m\u001b[1;33m)\u001b[0m\u001b[1;33m:\u001b[0m\u001b[1;33m\u001b[0m\u001b[1;33m\u001b[0m\u001b[0m\n\u001b[1;32m--> 791\u001b[1;33m         raise ValueError(\"Each lower bound must be strictly less than each \"\n\u001b[0m\u001b[0;32m    792\u001b[0m                          \"upper bound.\")\n\u001b[0;32m    793\u001b[0m \u001b[1;33m\u001b[0m\u001b[0m\n",
      "\u001b[1;31mValueError\u001b[0m: Each lower bound must be strictly less than each upper bound."
     ]
    }
   ],
   "source": [
    "from scipy.optimize import least_squares\n",
    "fitresults_vec=[]\n",
    "Qubits=['10']\n",
    "# Qubits=qubits.keys()\n",
    "for qubit_id  in Qubits:\n",
    "    \n",
    "    data=np.asarray(find_freqs_abs(np.abs(two_tone_data_z[(int(qubit_id)-1)]),two_tone_data_y[(int(qubit_id)-1)]))\n",
    "    current_points=two_tone_data_x[(int(qubit_id)-1)] \n",
    "    P0=P0_podgon_twotone[(int(qubit_id)-1)]\n",
    "    initial_guess = {'L':P0[8],\n",
    "                     'phi0':P0[5],\n",
    "                     'frb':P0[0],\n",
    "                     'EC':P0[4],\n",
    "                     'EJ1':P0[2],\n",
    "                     'EJ2':P0[3],\n",
    "                     'Cc':P0[1],\n",
    "                     'fqL':P0[6],\n",
    "                     'CcL':P0[7]}\n",
    "    \n",
    "\n",
    "    def residualsQ(p):\n",
    "        frb, Cc, EJ1, EJ2, EC, phi0 ,fqL, CcL = p[:8]\n",
    "        L = p[8:]\n",
    "        res = []\n",
    "        for coil_id in range(len(data)):\n",
    "            res.extend((fq_q1(x[coil_id],frb, Cc, EJ1, EJ2, EC, phi0,fqL, CcL,L)/1e9-(data[coil_id])/1e9)*2)\n",
    "        return res\n",
    "\n",
    "    p0 = (initial_guess['frb'], \n",
    "          initial_guess['Cc'], \n",
    "          initial_guess['EJ1'], \n",
    "          initial_guess['EJ2'], \n",
    "          initial_guess['EC'], \n",
    "          initial_guess['phi0'],\n",
    "          initial_guess['fqL'],\n",
    "          initial_guess['CcL'],\n",
    "          initial_guess['L'])\n",
    "          \n",
    "\n",
    "    bounds = ((p0[0]-1e7,      p0[1]*0.9,\\\n",
    "               p0[2]*0.9,      p0[3]*0.9,\\\n",
    "               p0[4]*0.9, p0[5]*0.8,\\\n",
    "               p0[6]-10e6,p0[7]*0.01,p0[8]*1.6),\n",
    "              \n",
    "              (p0[0]+1e7, p0[1]*1.2,\\\n",
    "               p0[2]*1.2, p0[3]*1.2,\\\n",
    "               p0[4]*1.2,  p0[5]*1.3,\\\n",
    "               p0[6]+10e6,p0[7]*1.1,p0[8]*0.8))\n",
    "    \n",
    "    fitresults = least_squares(residualsQ, p0, x_scale=np.abs(p0), bounds=bounds,verbose=2)\n",
    "    fitresults_vec.append(fitresults)\n",
    "    L_fit=fitresults.x[:]\n",
    "    print(L_fit)"
   ]
  },
  {
   "cell_type": "code",
   "execution_count": 452,
   "metadata": {
    "ExecuteTime": {
     "end_time": "2019-11-11T18:19:45.711293Z",
     "start_time": "2019-11-11T18:19:45.706302Z"
    }
   },
   "outputs": [
    {
     "data": {
      "text/plain": [
       "{'L': 3809000000.0,\n",
       " 'phi0': 0.0703222854,\n",
       " 'frb': 6703522790.0,\n",
       " 'EC': 150000000.0,\n",
       " 'EJ1': 10909921000.0,\n",
       " 'EJ2': 1955052310.0,\n",
       " 'Cc': 0.008,\n",
       " 'fqL': 3442328770.0,\n",
       " 'CcL': 0.0137624657}"
      ]
     },
     "execution_count": 452,
     "metadata": {},
     "output_type": "execute_result"
    }
   ],
   "source": [
    "initial_guess"
   ]
  },
  {
   "cell_type": "code",
   "execution_count": 451,
   "metadata": {
    "ExecuteTime": {
     "end_time": "2019-11-11T18:19:22.412143Z",
     "start_time": "2019-11-11T18:19:22.406654Z"
    }
   },
   "outputs": [
    {
     "data": {
      "text/plain": [
       "(6703522790.0,\n",
       " 0.008,\n",
       " 10909921000.0,\n",
       " 1955052310.0,\n",
       " 150000000.0,\n",
       " 0.0703222854,\n",
       " 3442328770.0,\n",
       " 0.0137624657,\n",
       " 3809000000.0)"
      ]
     },
     "execution_count": 451,
     "metadata": {},
     "output_type": "execute_result"
    }
   ],
   "source": [
    "p0"
   ]
  },
  {
   "cell_type": "code",
   "execution_count": 448,
   "metadata": {
    "ExecuteTime": {
     "end_time": "2019-11-11T18:17:19.885880Z",
     "start_time": "2019-11-11T18:17:19.753134Z"
    }
   },
   "outputs": [
    {
     "data": {
      "text/plain": [
       "[<matplotlib.lines.Line2D at 0x1bb10d414a8>]"
      ]
     },
     "execution_count": 448,
     "metadata": {},
     "output_type": "execute_result"
    }
   ],
   "source": [
    "i=10\n",
    "plt.figure()\n",
    "fr_diag=fq_coil(P0_podgon[i],two_tone_data_x[i])\n",
    "step=np.abs(two_tone_data_x[i][1]-two_tone_data_x[i][0])/2\n",
    "for _id in range(len(two_tone_data_x[i])):\n",
    "    x_plot1 = (two_tone_data_x[i][_id]-step)\n",
    "    x_plot2 = (two_tone_data_x[i][_id]+step)\n",
    "    plt.pcolormesh([x_plot1, x_plot2], two_tone_data_y[i]/1e3+fr_diag[_id],np.abs(two_tone_data_z[i][_id]).reshape(len(two_tone_data_y[i]),1))\n",
    "plt.plot(two_tone_data_x[i],np.asarray(two_tone1_fit_points(two_tone_data_x[i],L_fit))/1e9,\"ro\")"
   ]
  },
  {
   "cell_type": "code",
   "execution_count": 308,
   "metadata": {
    "ExecuteTime": {
     "end_time": "2019-11-08T18:20:21.196861Z",
     "start_time": "2019-11-08T18:20:20.697811Z"
    }
   },
   "outputs": [],
   "source": [
    "i=0\n",
    "two_tone_adaptive_plot(two_tone_data_x[i],two_tone_data_y[i],\n",
    "                 two_tone_data_z[i],P0_podgon[i],two_tone1_fit_points(two_tone_data_x[i],P0_podgon_new[i])/1e9)"
   ]
  },
  {
   "cell_type": "code",
   "execution_count": 302,
   "metadata": {
    "ExecuteTime": {
     "end_time": "2019-11-08T18:12:53.037761Z",
     "start_time": "2019-11-08T18:12:47.610593Z"
    }
   },
   "outputs": [],
   "source": [
    "for i in range(11):\n",
    "    two_tone_adaptive_plot(two_tone_data_x[i],two_tone_data_y[i],\n",
    "                 two_tone_data_z[i],P0_podgon[i],two_tone1_fit_points(two_tone_data_x[i],L_fit)/1e9)"
   ]
  },
  {
   "cell_type": "code",
   "execution_count": 711,
   "metadata": {
    "ExecuteTime": {
     "end_time": "2019-11-09T12:24:55.424693Z",
     "start_time": "2019-11-09T12:24:55.373292Z"
    }
   },
   "outputs": [
    {
     "data": {
      "text/plain": [
       "[<matplotlib.lines.Line2D at 0x24cb337f780>]"
      ]
     },
     "execution_count": 711,
     "metadata": {},
     "output_type": "execute_result"
    }
   ],
   "source": [
    "i=5\n",
    "fr_diag=fq_coil(P0_podgon[i],two_tone_data_x[i])\n",
    "y=np.asarray(find_freqs_abs(np.abs(two_tone_data_z[i]),two_tone_data_y[i]))/1e3\n",
    "plt.plot(two_tone_data_x[i],y/1e3+fr_diag,'ro')\n",
    "# for i in range(len(two_tone_data_x[1])):\n",
    "#     y[i]=y[i]/1e3+fr_diag[_id]"
   ]
  },
  {
   "cell_type": "markdown",
   "metadata": {},
   "source": [
    "### for qubits with two neighbours"
   ]
  },
  {
   "cell_type": "code",
   "execution_count": 426,
   "metadata": {
    "ExecuteTime": {
     "end_time": "2019-11-11T17:01:33.613981Z",
     "start_time": "2019-11-11T17:01:20.051299Z"
    }
   },
   "outputs": [
    {
     "name": "stdout",
     "output_type": "stream",
     "text": [
      "   Iteration     Total nfev        Cost      Cost reduction    Step norm     Optimality   \n",
      "       0              1         3.5440e-01                                    1.17e+01    \n",
      "       1              2         7.5598e-03      3.47e-01       2.73e+08       9.04e-02    \n",
      "       2              3         2.9220e-03      4.64e-03       5.46e+07       1.92e-03    \n",
      "       3              8         2.9066e-03      1.54e-05       1.71e+06       1.08e-03    \n",
      "       4             11         2.9051e-03      1.53e-06       1.87e+05       1.02e-03    \n",
      "       5             13         2.9043e-03      7.50e-07       8.98e+04       9.69e-04    \n",
      "       6             15         2.9039e-03      3.72e-07       4.41e+04       9.43e-04    \n",
      "       7             17         2.9038e-03      1.86e-07       2.18e+04       9.29e-04    \n",
      "       8             18         2.9034e-03      3.70e-07       4.30e+04       9.01e-04    \n",
      "       9             21         2.9033e-03      4.62e-08       5.37e+03       8.97e-04    \n",
      "      10             22         2.9033e-03      9.23e-08       1.07e+04       8.90e-04    \n",
      "      11             25         2.9032e-03      1.15e-08       1.34e+03       8.89e-04    \n",
      "      12             28         2.9032e-03      1.44e-09       1.67e+02       8.89e-04    \n",
      "      13             30         2.9032e-03      7.21e-10       8.35e+01       8.89e-04    \n",
      "`xtol` termination condition is satisfied.\n",
      "Function evaluations 30, initial cost 3.5440e-01, final cost 2.9032e-03, first-order optimality 8.89e-04.\n",
      "[ 6.64811198e+09  8.25895819e-03  1.07552449e+10  1.97619114e+09\n",
      "  1.59670032e+08  7.57868298e-02  3.71588208e+09  1.31150042e-02\n",
      "  3.37385562e+09  2.86013948e-03 -1.10384262e-01]\n"
     ]
    }
   ],
   "source": [
    "from scipy.optimize import least_squares\n",
    "fitresults_vec=[]\n",
    "Qubits=qubits.keys()\n",
    "Qubits=['9']\n",
    "\n",
    "for qubit_id  in Qubits:\n",
    "    \n",
    "    if qubit_id=='9':\n",
    "        fr_diag=fq_coil(P0_podgon[(int(qubit_id)-1)],two_tone_data_x[(int(qubit_id)-1)])\n",
    "        data=find_freqs_min(np.imag(two_tone_data_z[(int(qubit_id)-1)]),two_tone_data_y[(int(qubit_id)-1)])/1e3+fr_diag\n",
    "        d2_abs = np.abs(np.gradient(np.gradient(data)))\n",
    "        d2_abs_av = np.median(d2_abs)\n",
    "        good_points= d2_abs<d2_abs_av*7\n",
    "    else:\n",
    "        fr_diag=fq_coil(P0_podgon[(int(qubit_id)-1)],two_tone_data_x[(int(qubit_id)-1)])\n",
    "        data=np.asarray(find_freqs_abs(np.abs(two_tone_data_z[(int(qubit_id)-1)]),\n",
    "                                   two_tone_data_y[(int(qubit_id)-1)]))/1e3+fr_diag\n",
    "        d2_abs = np.abs(np.gradient(np.gradient(data)))\n",
    "        d2_abs_av = np.median(d2_abs)\n",
    "        good_points = d2_abs<d2_abs_av*6\n",
    "    data=data[good_points]\n",
    "    current_points=two_tone_data_x[int(qubit_id)-1][good_points]\n",
    "    P0=P0_podgon_twotone[int(qubit_id)-1]\n",
    "    initial_guess = {'L':P0[10],\n",
    "                     'phi0':P0[5],\n",
    "                     'frb':P0[0],\n",
    "                     'EC':P0[4],\n",
    "                     'EJ1':P0[2],\n",
    "                     'EJ2':P0[3],\n",
    "                     'Cc':P0[1],\n",
    "                     'fqR':P0[8],\n",
    "                     'CcR':P0[9],\n",
    "                     'fqL':P0[6],\n",
    "                     'CcL':P0[7]}\n",
    "    \n",
    "    def residualsQ(p):\n",
    "        frb, Cc, EJ1, EJ2, EC, phi0 ,fqL, CcL,fqR, CcR = p[:10]\n",
    "        L = p[-1]\n",
    "        res = []\n",
    "        for coil_id in range(len(data)):\n",
    "            res.extend([np.abs(fq_q2(current_points[coil_id],frb, Cc, EJ1, EJ2, EC, phi0,fqL, CcL,fqR, CcR,L)/1e9-\n",
    "                        (data[coil_id]))])\n",
    "        return res\n",
    "        \n",
    "    p0 = (initial_guess['frb'], \n",
    "          initial_guess['Cc'], \n",
    "          initial_guess['EJ1'], \n",
    "          initial_guess['EJ2'], \n",
    "          initial_guess['EC'], \n",
    "          initial_guess['phi0'],\n",
    "          initial_guess['fqL'],\n",
    "          initial_guess['CcL'],\n",
    "          initial_guess['fqR'],\n",
    "          initial_guess['CcR'],\n",
    "          initial_guess['L'])\n",
    "          \n",
    "\n",
    "    bounds = ((p0[0]-1e6,      p0[1]*0.5,\\\n",
    "               p0[2]*0.97,      p0[3]*0.97,\\\n",
    "               p0[4]*0.97, p0[5]*0.5,\\\n",
    "               p0[6]-100e6,p0[7]*0.5,p0[8]-100e6,p0[9]*0.5,p0[10]*1.6),\n",
    "              \n",
    "              (p0[0]+1e6, p0[1]*2,\\\n",
    "               p0[2]*2, p0[3]*2,\\\n",
    "               p0[4]*2,  p0[5]*2,\\\n",
    "               p0[6]+10e6,p0[7]*2,p0[8]+50e6,p0[9]*2,p0[10]*0.8))\n",
    "    \n",
    "    \n",
    "    \n",
    "    fitresults = least_squares(residualsQ, p0, x_scale=np.abs(p0), bounds=bounds,\n",
    "                                max_nfev=100,loss='arctan',verbose=2)\n",
    "    \n",
    "    fitresults_vec.append(fitresults)\n",
    "    L_fit=fitresults.x[:]\n",
    "    print(L_fit)"
   ]
  },
  {
   "cell_type": "code",
   "execution_count": 427,
   "metadata": {
    "ExecuteTime": {
     "end_time": "2019-11-11T18:00:10.567249Z",
     "start_time": "2019-11-11T18:00:10.162022Z"
    }
   },
   "outputs": [],
   "source": [
    "i=8\n",
    "two_tone_adaptive_plot(two_tone_data_x[i],two_tone_data_y[i],\n",
    "                 np.imag(two_tone_data_z[i]),P0_podgon[i],None)\n",
    "x=np.linspace(-4,1.5,500)\n",
    "qubit_id='9'\n",
    "fr_diag=fq_coil(P0_podgon[(int(qubit_id)-1)],two_tone_data_x[(int(qubit_id)-1)])\n",
    "# data=np.asarray(find_freqs_abs(np.abs(two_tone_data_z[(int(qubit_id)-1)]),\n",
    "#                                two_tone_data_y[(int(qubit_id)-1)]))/1e3+fr_diag\n",
    "# plt.plot(two_tone_data_x[2],data,'go')\n",
    "plt.plot(x,np.asarray(two_tone2_fit_points(x,L_fit))/1e9,\"ro\")\n",
    "# plt.plot(x,np.asarray(two_tone2_fit_points(x,P0_podgon_twotone[i])/1e9),\"ro\")\n",
    "# fr_diag=fq_coil(P0_podgon[i],two_tone_data_x[i])\n",
    "# plt.plot(two_tone_data_x[i],np.asarray(find_freqs_abs(np.abs(two_tone_data_z[i]),two_tone_data_y[i]))/1e3+fr_diag,'co')\n",
    "# plt.plot(current_points,data[good_points],'wo')\n",
    "plt.show()"
   ]
  },
  {
   "cell_type": "code",
   "execution_count": null,
   "metadata": {},
   "outputs": [],
   "source": []
  },
  {
   "cell_type": "markdown",
   "metadata": {},
   "source": [
    "# END"
   ]
  },
  {
   "cell_type": "code",
   "execution_count": null,
   "metadata": {},
   "outputs": [],
   "source": []
  },
  {
   "cell_type": "code",
   "execution_count": null,
   "metadata": {},
   "outputs": [],
   "source": []
  },
  {
   "cell_type": "code",
   "execution_count": null,
   "metadata": {},
   "outputs": [],
   "source": []
  },
  {
   "cell_type": "code",
   "execution_count": 15,
   "metadata": {
    "ExecuteTime": {
     "end_time": "2019-11-06T08:29:20.244621Z",
     "start_time": "2019-11-06T08:29:20.227653Z"
    }
   },
   "outputs": [],
   "source": [
    "\n",
    "fq_new  = lambda x, frb, Cc, EJ1, EJ2, EC, phi0, L: (fqb(x, EJ1, EJ2, EC, phi0, L)+frb)*0.5-(((fqb(x, EJ1, EJ2, EC, phi0, L)-frb)*0.5)**2+Cc**2*fqb(x, EJ1, EJ2, EC, phi0, L)*frb)**0.5*np.sign(frb-fqb(x, EJ1, EJ2, EC, phi0, L))\n",
    "\n",
    "fq_new1  = lambda x, frb, Cc, EJ1, EJ2, EC, phi0,fqL, CcL, L: (fq_new(x, frb, EJ1, EJ2, EC, phi0, L)+fqL)*0.5-(((fq_new(x, frb, EJ1, EJ2, EC, phi0, L)-fqL)*0.5)**2+CcL**2*fq_new(x, frb, EJ1, EJ2, EC, phi0, L)*fqL)**0.5*np.sign(fqL-fq_new(x, frb, EJ1, EJ2, EC, phi0, L))\n",
    "\n",
    "fq_new2  = lambda x, fqR, CcR,fqL, CcL,frb, Cc, EJ1, EJ2, EC, phi0, L: (fq_new1(x, fqL, CcL,frb, EJ1, EJ2, EC, phi0, L)+frb)*0.5-(((fq_new1(x, fqL, CcL,frb, EJ1, EJ2, EC, phi0, L)-fqR)*0.5)**2+CcR**2*fq_new1(x, fqL, CcL,frb, EJ1, EJ2, EC, phi0, L)*fqR)**0.5*np.sign(fqR-fq_new1(x, fqL, CcL,frb, EJ1, EJ2, EC, phi0, L))\n",
    "\n"
   ]
  },
  {
   "cell_type": "code",
   "execution_count": 16,
   "metadata": {
    "ExecuteTime": {
     "end_time": "2019-11-06T08:29:22.240326Z",
     "start_time": "2019-11-06T08:29:22.230843Z"
    }
   },
   "outputs": [],
   "source": [
    "def fq_coil_new(p,x):\n",
    "    frb, Cc, EJ1, EJ2, EC, phi0 = p[:6]\n",
    "    L = p[6:]\n",
    "    return fq_new(x, frb, Cc, EJ1, EJ2, EC, phi0, L)/1e9\n"
   ]
  },
  {
   "cell_type": "code",
   "execution_count": 17,
   "metadata": {
    "ExecuteTime": {
     "end_time": "2019-11-06T08:29:22.790280Z",
     "start_time": "2019-11-06T08:29:22.781796Z"
    }
   },
   "outputs": [],
   "source": [
    "def fr_coil(p,x):\n",
    "    frb, g, EJ1, EJ2, EC, phi0 = p[:6]\n",
    "    L = p[6:]\n",
    "    return fr(x, frb, g, EJ1, EJ2, EC, phi0, L)/1e9\n",
    "def residuals(L):\n",
    "    frb, g, EJ1, EJ2, EC, phi0 = p0[:6]\n",
    "    L = L\n",
    "    res = []\n",
    "    for coil_id in range(len(data)):\n",
    "        res.extend((fr(x[coil_id], frb, g, EJ1, EJ2, EC, phi0, L)/1e9-data[coil_id])*3)\n",
    "    return res\n",
    "bounds = ((-0.1),\n",
    "          (0.1))                \n",
    "from scipy.optimize import least_squares"
   ]
  },
  {
   "cell_type": "code",
   "execution_count": 219,
   "metadata": {
    "ExecuteTime": {
     "end_time": "2019-11-06T22:05:52.199758Z",
     "start_time": "2019-11-06T22:05:52.150850Z"
    }
   },
   "outputs": [],
   "source": []
  },
  {
   "cell_type": "code",
   "execution_count": 221,
   "metadata": {
    "ExecuteTime": {
     "end_time": "2019-11-06T22:06:46.598308Z",
     "start_time": "2019-11-06T22:06:46.593318Z"
    }
   },
   "outputs": [],
   "source": [
    "x_test=np.linspace(-4,4,100)"
   ]
  },
  {
   "cell_type": "code",
   "execution_count": 227,
   "metadata": {
    "ExecuteTime": {
     "end_time": "2019-11-06T22:08:45.933371Z",
     "start_time": "2019-11-06T22:08:45.888956Z"
    }
   },
   "outputs": [
    {
     "data": {
      "text/plain": [
       "<matplotlib.collections.PathCollection at 0x2bbe8c06390>"
      ]
     },
     "execution_count": 227,
     "metadata": {},
     "output_type": "execute_result"
    }
   ],
   "source": [
    "plt.scatter(x_test,fq_coil_new(P0_podgon[7],x_test)*1e9)"
   ]
  },
  {
   "cell_type": "code",
   "execution_count": 226,
   "metadata": {
    "ExecuteTime": {
     "end_time": "2019-11-06T22:08:34.572475Z",
     "start_time": "2019-11-06T22:08:34.528559Z"
    }
   },
   "outputs": [],
   "source": [
    "for i in range(7,8):\n",
    "    plt.scatter(x_test,fq_coil_new(P0_podgon[i],x_test)*1e9)"
   ]
  },
  {
   "cell_type": "code",
   "execution_count": 201,
   "metadata": {
    "ExecuteTime": {
     "end_time": "2019-11-06T15:45:57.686175Z",
     "start_time": "2019-11-06T15:45:57.676194Z"
    }
   },
   "outputs": [],
   "source": [
    "P0_podgon=np.asarray(P0_podgon)"
   ]
  },
  {
   "cell_type": "code",
   "execution_count": 158,
   "metadata": {
    "ExecuteTime": {
     "end_time": "2019-11-06T12:13:28.216793Z",
     "start_time": "2019-11-06T12:13:28.212301Z"
    }
   },
   "outputs": [],
   "source": [
    "import pandas as pd"
   ]
  },
  {
   "cell_type": "code",
   "execution_count": 203,
   "metadata": {
    "ExecuteTime": {
     "end_time": "2019-11-06T15:46:14.679358Z",
     "start_time": "2019-11-06T15:46:14.674867Z"
    }
   },
   "outputs": [],
   "source": [
    "L_mats=pd.DataFrame(np.diag(P0_podgon[:,6]))\n",
    "residual_fluxes=pd.DataFrame(np.diag(P0_podgon[:,5]))"
   ]
  },
  {
   "cell_type": "code",
   "execution_count": 198,
   "metadata": {
    "ExecuteTime": {
     "end_time": "2019-11-06T15:44:17.373938Z",
     "start_time": "2019-11-06T15:44:16.560484Z"
    }
   },
   "outputs": [
    {
     "name": "stdout",
     "output_type": "stream",
     "text": [
      "0 1\n",
      "[ 6.70352279e+09  1.17222256e-30  1.96389134e+10  3.53714686e+09\n",
      "  8.34268160e+07  7.03222854e-02 -1.07667672e-01]\n"
     ]
    }
   ],
   "source": [
    "num_resonators = 1#2\n",
    "L_mat =-0.2\n",
    "phi0 = 0.07\n",
    "Q_qubits=['1']\n",
    "fitresults_vec=[]\n",
    "#for resonator_id in range(num_resonators):\n",
    "for _idfit, qubit_id  in enumerate(Q_qubits):\n",
    "    #print(_id)\n",
    "    freq_points=np.asarray(find_freq_abs(data_join,Y))\n",
    "    current_points=np.asarray(X)\n",
    "    _id=_idfit\n",
    "    print(_id,qubit_id)\n",
    "    \n",
    "    P0=P0_podgon[9]\n",
    "    initial_guess = {'L':P0[6],#one_tone_podgon_new[_id][6],#np.identity(num_resonators)*0.3-0.01, # initial guess for inductance matrix\n",
    "                     'phi0':P0[5],#-np.ones(num_resonators)*0.1, # initial guess for residual flux\n",
    "                     'frb':P0[0],\n",
    "                     #'frb':[6.85e9, 7.15e9, 7.00e9],\n",
    "                     'EC':P0[4],\n",
    "                     'EJ1':P0[2],\n",
    "                     'EJ2':P0[3],\n",
    "                     'Cc':P0[1]/np.sqrt(P0[0]*np.sqrt(8*P0[4]*(P0[2]+P0[3])))}\n",
    "    \n",
    "    data = freq_points# [i for i in freq_points] \n",
    "    x = current_points\n",
    "    \n",
    "    def fq_coil_new(p,x):\n",
    "        frb, Cc, EJ1, EJ2, EC, phi0 = p[:6]\n",
    "        L = p[6:]\n",
    "        return fq_new(x, frb, Cc, EJ1, EJ2, EC, phi0, L)/1e9\n",
    "    def residualsQ(p):\n",
    "        frb, Cc, EJ1, EJ2, EC, phi0 = p[:6]\n",
    "        L = p[6:]\n",
    "        res = []\n",
    "        for coil_id in range(len(data)):\n",
    "            res.extend((fq_new(x[coil_id], frb, Cc, EJ1, EJ2, EC, phi0, L)/1e9-(data[coil_id])/1e9)*2)\n",
    "        return res\n",
    "        \n",
    "    from scipy.optimize import least_squares\n",
    "\n",
    "    p0 = (initial_guess['frb'], \n",
    "          initial_guess['Cc'], \n",
    "          initial_guess['EJ1'], \n",
    "          initial_guess['EJ2'], \n",
    "          initial_guess['EC'], \n",
    "          initial_guess['phi0'],\n",
    "          initial_guess['L'])\n",
    "          \n",
    "\n",
    "    bounds = ((p0[0]-1e7,      p0[1]*0.01,\\\n",
    "               p0[2]*0.01,      P0[3]*0.01,\\\n",
    "               p0[4]*0.01, p0[5]*0.8,\\\n",
    "               p0[6]*1.6),\n",
    "              \n",
    "              (p0[0]+1e7, p0[1]*100,\\\n",
    "               p0[2]*10, p0[3]*2,\\\n",
    "               p0[4]*1.2,  p0[5]*1.3,\\\n",
    "               p0[6]*0.8))\n",
    "    \n",
    "    #bounds = ((one_tone_podgon_new[_id][0]-100000,      one_tone_podgon_new[_id][1]*0.9,      0,      0,   0, 0,0),\n",
    "              #(one_tone_podgon_new[_id][0]+100000, one_tone_podgon_new[_id][1]*1.1, np.inf, np.inf,  np.inf,  np.pi, np.inf))\n",
    "    fitresults = least_squares(residualsQ, p0, x_scale=np.abs(p0), bounds=bounds)\n",
    "    fitresults_vec.append(fitresults)\n",
    "    #phi0_vec.append(fitresults.x[5])\n",
    "    L_fit=fitresults.x[:]\n",
    "    print(L_fit)\n",
    "    #print (fitresults.x"
   ]
  },
  {
   "cell_type": "code",
   "execution_count": 199,
   "metadata": {
    "ExecuteTime": {
     "end_time": "2019-11-06T15:44:18.667976Z",
     "start_time": "2019-11-06T15:44:18.390005Z"
    }
   },
   "outputs": [],
   "source": [
    "plt.figure()\n",
    "step=np.abs(X[1]-X[0])/2\n",
    "for _id in range(len(X)):\n",
    "    x_plot1 = (X[_id]-step)\n",
    "    x_plot2 = (X[_id]+step)\n",
    "    #TTz=Z[_id,:].T-np.median(np.real(Z[_id,:].T))-1j*np.median(np.imag(Z[_id,:].T))\n",
    "    plt.pcolormesh([x_plot1, x_plot2],Y,np.abs(data_join[_id].T).reshape(len(Y),1))\n",
    "    plt.scatter(X,fq_coil_new(L_fit,X)*1e9)\n",
    "#     plt.title('Main_Coil #{}, qubit{}'.format(coil,qubit_id))"
   ]
  },
  {
   "cell_type": "code",
   "execution_count": 124,
   "metadata": {
    "ExecuteTime": {
     "end_time": "2019-11-05T17:03:55.263945Z",
     "start_time": "2019-11-05T17:03:55.218533Z"
    }
   },
   "outputs": [
    {
     "data": {
      "text/plain": [
       "<matplotlib.collections.PathCollection at 0x241818289b0>"
      ]
     },
     "execution_count": 124,
     "metadata": {},
     "output_type": "execute_result"
    }
   ],
   "source": [
    "plt.scatter(X,fq_coil_new(L_fit,X)*1e9)"
   ]
  },
  {
   "cell_type": "code",
   "execution_count": 45,
   "metadata": {
    "ExecuteTime": {
     "end_time": "2019-11-06T09:52:20.216256Z",
     "start_time": "2019-11-06T09:52:20.169845Z"
    }
   },
   "outputs": [
    {
     "data": {
      "text/plain": [
       "<matplotlib.collections.PathCollection at 0x2bbbdb460b8>"
      ]
     },
     "execution_count": 45,
     "metadata": {},
     "output_type": "execute_result"
    }
   ],
   "source": [
    "plt.pcolormesh(X,Y,np.abs(data_join.T))\n",
    "plt.scatter(X,fq_coil_new(L_fit,X)*1e9)"
   ]
  },
  {
   "cell_type": "code",
   "execution_count": 168,
   "metadata": {
    "ExecuteTime": {
     "end_time": "2019-11-05T13:19:02.053854Z",
     "start_time": "2019-11-05T13:19:02.008441Z"
    }
   },
   "outputs": [],
   "source": [
    "plot_func(qubit1_up,fq_coil_new(L_fit,X)*1e9)"
   ]
  },
  {
   "cell_type": "code",
   "execution_count": null,
   "metadata": {},
   "outputs": [],
   "source": []
  },
  {
   "cell_type": "code",
   "execution_count": null,
   "metadata": {},
   "outputs": [],
   "source": []
  },
  {
   "cell_type": "code",
   "execution_count": null,
   "metadata": {},
   "outputs": [],
   "source": []
  },
  {
   "cell_type": "code",
   "execution_count": 196,
   "metadata": {
    "ExecuteTime": {
     "end_time": "2019-11-05T14:10:49.215992Z",
     "start_time": "2019-11-05T14:10:49.211003Z"
    }
   },
   "outputs": [
    {
     "ename": "SyntaxError",
     "evalue": "invalid syntax (<ipython-input-196-c69c46d76e63>, line 1)",
     "output_type": "error",
     "traceback": [
      "\u001b[1;36m  File \u001b[1;32m\"<ipython-input-196-c69c46d76e63>\"\u001b[1;36m, line \u001b[1;32m1\u001b[0m\n\u001b[1;33m    [ 6.26000000e+09  8.59294958e-11  2.08312437e+10  3.49489365e+09\u001b[0m\n\u001b[1;37m                                   ^\u001b[0m\n\u001b[1;31mSyntaxError\u001b[0m\u001b[1;31m:\u001b[0m invalid syntax\n"
     ]
    }
   ],
   "source": [
    "Pod=[[ 6.26000000e+09  8.59294958e-11  2.08312437e+10  3.49489365e+09\n",
    "  8.49634423e+07  8.34182048e-02 -1.13172884e-01],]"
   ]
  },
  {
   "cell_type": "code",
   "execution_count": null,
   "metadata": {},
   "outputs": [],
   "source": []
  },
  {
   "cell_type": "code",
   "execution_count": 11,
   "metadata": {
    "ExecuteTime": {
     "end_time": "2019-11-08T09:33:48.248830Z",
     "start_time": "2019-11-08T09:33:48.232862Z"
    }
   },
   "outputs": [],
   "source": [
    "def fq_coil_new_1qubit1111(p,x):\n",
    "    frb, Cc, EJ1, EJ2, EC, phi0 ,fqL, CcL= p[:8]\n",
    "    L = p[8:]\n",
    "    return fq_new1(x, frb, Cc, EJ1, EJ2, EC, phi0, fqL, CcL,L)/1e9\n",
    "\n",
    "fq_new1  = lambda x, frb, Cc, EJ1, EJ2, EC, phi0,fqL, CcL, L: (fq_new(x, frb, Cc,EJ1, EJ2, EC, phi0, L)+fqL)*0.5-(((fq_new(x, frb, Cc, EJ1, EJ2, EC, phi0, L)-fqL)*0.5)**2+CcL**2*fq_new(x, frb,Cc, EJ1, EJ2, EC, phi0, L)*fqL)**0.5*np.sign(fqL-fq_new(x, frb, Cc,EJ1, EJ2, EC, phi0, L))\n",
    "fq_new  = lambda x0, Cc0, EJ10, EJ20, EC0, phi0, L0, L0t, x, Cct, EJ1t, EJ2t, ECt, phit,Lt,: (fqb(x, EJ1, EJ2, EC, phi0, L)+frb)*0.5-(((fqb(x, EJ1, EJ2, EC, phi0, L)-frb)*0.5)**2+Cc**2*fqb(x, EJ1, EJ2, EC, phi0, L)*frb)**0.5*np.sign(frb-fqb(x, EJ1, EJ2, EC, phi0, L))\n",
    "\n",
    "fqb = lambda x, EJ1, EJ2, EC, phi0, Ld,Ln: (8*EC)**0.5*((EJ1-EJ2)**2*np.sin(np.pi*x*Ld+np.pi*x*Ln+phi0*np.pi)**2+(EJ1+EJ2)**2*np.cos(np.pi*x*Ld+np.pi*x*Ln+phi0*np.pi)**2)**0.25\n",
    "ft = lambda x, EJ1, EJ2, EC, phi0, Ld,Ln: (8*EC)**0.5*((EJ1-EJ2)**2*np.sin(np.pi*x*Ld+np.pi*x*Ln+phi0*np.pi)**2+(EJ1+EJ2)**2*np.cos(np.pi*x*Ld+np.pi*x*Ln+phi0*np.pi)**2)**0.25\n"
   ]
  },
  {
   "cell_type": "code",
   "execution_count": 12,
   "metadata": {
    "ExecuteTime": {
     "end_time": "2019-11-08T09:33:50.104974Z",
     "start_time": "2019-11-08T09:33:50.096491Z"
    }
   },
   "outputs": [],
   "source": []
  },
  {
   "cell_type": "code",
   "execution_count": null,
   "metadata": {},
   "outputs": [],
   "source": []
  },
  {
   "cell_type": "code",
   "execution_count": 13,
   "metadata": {
    "ExecuteTime": {
     "end_time": "2019-11-08T09:33:51.236958Z",
     "start_time": "2019-11-08T09:33:51.223984Z"
    }
   },
   "outputs": [],
   "source": [
    "\n",
    "fq_new1  = lambda x, frb, Cc, EJ1, EJ2, EC, phi0,fqL, CcL, L: (fq_new(x, frb, Cc,EJ1, EJ2, EC, phi0, L)+fqL)*0.5-(((fq_new(x, frb, Cc, EJ1, EJ2, EC, phi0, L)-fqL)*0.5)**2+CcL**2*fq_new(x, frb,Cc, EJ1, EJ2, EC, phi0, L)*fqL)**0.5*np.sign(fqL-fq_new(x, frb, Cc,EJ1, EJ2, EC, phi0, L))\n",
    "fq_new  = lambda x, frb, Cc, EJ1, EJ2, EC, phi0,L: (fqb(x, EJ1, EJ2, EC, phi0, L)+frb)*0.5-(((fqb(x, EJ1, EJ2, EC, phi0, L)-frb)*0.5)**2+Cc**2*fqb(x, EJ1, EJ2, EC, phi0, L)*frb)**0.5*np.sign(frb-fqb(x, EJ1, EJ2, EC, phi0, L))\n",
    "fqb = lambda x, EJ1, EJ2, EC, phi0, L: (8*EC)**0.5*((EJ1-EJ2)**2*np.sin(np.pi*x*L+phi0*np.pi)**2+(EJ1+EJ2)**2*np.cos(np.pi*x*L+phi0*np.pi)**2)**0.25\n",
    "\n",
    "#fq_new  = lambda x, frb, Cc, EJ1, EJ2, EC, phi0, L: (fqb(x, EJ1, EJ2, EC, phi0, L)+frb)*0.5-(((fqb(x, EJ1, EJ2, EC, phi0, L)-frb)*0.5)**2+Cc**2*fqb(x, EJ1, EJ2, EC, phi0, L)*frb)**0.5*np.sign(frb-fqb(x, EJ1, EJ2, EC, phi0, L))\n"
   ]
  },
  {
   "cell_type": "code",
   "execution_count": 14,
   "metadata": {
    "ExecuteTime": {
     "end_time": "2019-11-08T09:33:52.273232Z",
     "start_time": "2019-11-08T09:33:52.256266Z"
    }
   },
   "outputs": [],
   "source": []
  },
  {
   "cell_type": "code",
   "execution_count": 313,
   "metadata": {
    "ExecuteTime": {
     "end_time": "2019-11-08T18:30:03.822786Z",
     "start_time": "2019-11-08T18:30:03.817797Z"
    }
   },
   "outputs": [],
   "source": [
    "P0_podgon_new=[]\n",
    "P0_podgon_new.append([ 6.2580e+09 , 0.8e-2,  2.25234437e+10 , 3.93795249e+09,\n",
    "  15.80504920e+07  ,7.96063944e-02 , 3.73827488e+09 , 1.4e-02,\n",
    " -1.11824314e-01])\n",
    "P0_podgon_new.append([ 6.30532690e+09 , 0.8e-2 , 2.19179592e+10 , 3.61237082e+09,\n",
    "  15.54892549e+07 , 7.88501540e-02 , 3.47214778e+09 , 1.38846422e-02,\n",
    "  3.83e+09 , 0.34434126e-02 ,-1.13536265e-01])"
   ]
  },
  {
   "cell_type": "code",
   "execution_count": 16,
   "metadata": {
    "ExecuteTime": {
     "end_time": "2019-11-08T09:33:55.065180Z",
     "start_time": "2019-11-08T09:33:54.688341Z"
    }
   },
   "outputs": [
    {
     "data": {
      "text/plain": [
       "[<matplotlib.lines.Line2D at 0x24c6429fc18>]"
      ]
     },
     "execution_count": 16,
     "metadata": {},
     "output_type": "execute_result"
    }
   ],
   "source": [
    "c=np.linspace(-4,1.5,100)\n",
    "plt.plot(c,fq_coil_new_1qubit2222(P0_podgon_new[1],c),'ro')"
   ]
  },
  {
   "cell_type": "code",
   "execution_count": 501,
   "metadata": {
    "ExecuteTime": {
     "end_time": "2019-11-07T18:55:59.080085Z",
     "start_time": "2019-11-07T18:55:59.072600Z"
    },
    "scrolled": true
   },
   "outputs": [
    {
     "name": "stdout",
     "output_type": "stream",
     "text": [
      "6296292670.0 6306292670.0 6316292670.0\n",
      "0.000153290533 0.0153290533 1.53290533\n",
      "220129202.0 22012920200.0 220129202000.0\n",
      "35245021.4 3524502140.0 7049004280.0\n",
      "750155.26 75015526.0 750155260.0\n",
      "0.06164114432 0.0770514304 0.10016685952\n",
      "3376166160.0 3476166160.0 3486166160.0\n",
      "0.000251237615 0.0251237615 0.251237615\n",
      "3749872480.0 3849872480.0 3859872480.0\n",
      "0.00312241715 0.0062448343 0.062448343\n",
      "-0.18486020160000002 -0.115537626 -0.09243010080000001\n"
     ]
    }
   ],
   "source": [
    "for i in range(len(p0)):\n",
    "    print(bounds[0][i],p0[i],bounds[1][i])"
   ]
  },
  {
   "cell_type": "code",
   "execution_count": 350,
   "metadata": {
    "ExecuteTime": {
     "end_time": "2019-11-07T12:21:25.212682Z",
     "start_time": "2019-11-07T12:21:25.124351Z"
    }
   },
   "outputs": [
    {
     "data": {
      "text/plain": [
       "<matplotlib.collections.PathCollection at 0x2bb83f797f0>"
      ]
     },
     "execution_count": 350,
     "metadata": {},
     "output_type": "execute_result"
    }
   ],
   "source": [
    "x=np.linspace(-4,4,1000)\n",
    "plt.pcolormesh(X,Y,np.abs(Z1_up.T))\n",
    "plt.scatter(X,find_freq_abs(Z1_up,Y),c='y')\n",
    "plt.scatter(x,fq_coil_new_1qubit1111(L_fit,x)*1e9,c='r')"
   ]
  },
  {
   "cell_type": "code",
   "execution_count": 121,
   "metadata": {
    "ExecuteTime": {
     "end_time": "2019-11-08T13:20:01.277371Z",
     "start_time": "2019-11-08T13:20:01.271376Z"
    }
   },
   "outputs": [],
   "source": [
    "fr  = lambda x, frb, g, EJ1, EJ2, EC, phi0, L: (fqb(x, EJ1, EJ2, EC, phi0, L)+frb)*0.5+(((fqb(x, EJ1, EJ2, EC, phi0, L)-frb)*0.5)**2+g**2)**0.5*np.sign(frb-fqb(x, EJ1, EJ2, EC, phi0, L))"
   ]
  },
  {
   "cell_type": "code",
   "execution_count": 401,
   "metadata": {
    "ExecuteTime": {
     "end_time": "2019-11-07T16:14:38.108726Z",
     "start_time": "2019-11-07T16:14:38.103735Z"
    }
   },
   "outputs": [],
   "source": [
    "import scipy.optimize as opt"
   ]
  },
  {
   "cell_type": "code",
   "execution_count": null,
   "metadata": {},
   "outputs": [],
   "source": [
    "x=np.linspace(-4,4,1000)\n",
    "plt.pcolormesh(X,Y,np.abs(Z1_up.T))\n",
    "plt.scatter(X,find_freq_abs(Z1_up,Y),c='y')\n",
    "plt.scatter(x,fq_coil_new_1qubit1111(L_fit,x)*1e9,c='r')"
   ]
  },
  {
   "cell_type": "code",
   "execution_count": 375,
   "metadata": {
    "ExecuteTime": {
     "end_time": "2019-11-07T15:52:11.909751Z",
     "start_time": "2019-11-07T15:52:10.533867Z"
    }
   },
   "outputs": [],
   "source": [
    "plt.figure()\n",
    "step=np.abs(X[1]-X[0])/2   \n",
    "for _id in range(len(X)):\n",
    "    x_plot1 = (X[_id]-step)\n",
    "    x_plot2 = (X[_id]+step)\n",
    "    TTz=Z1_up[_id]\n",
    "    plt.pcolormesh([x_plot1, x_plot2],Y,np.abs(TTz.T).reshape(len(Y),1))\n",
    "    plt.scatter(X,fq_coil_new_1qubit1111(L_fit,X)*1e9,c='r')"
   ]
  },
  {
   "cell_type": "code",
   "execution_count": 31,
   "metadata": {
    "ExecuteTime": {
     "end_time": "2019-11-05T15:41:37.312899Z",
     "start_time": "2019-11-05T15:41:37.307410Z"
    }
   },
   "outputs": [
    {
     "ename": "SyntaxError",
     "evalue": "invalid syntax (<ipython-input-31-84335565e6ea>, line 1)",
     "output_type": "error",
     "traceback": [
      "\u001b[1;36m  File \u001b[1;32m\"<ipython-input-31-84335565e6ea>\"\u001b[1;36m, line \u001b[1;32m1\u001b[0m\n\u001b[1;33m    [ 6.26000000e+09  5.68848301e-11  2.04552302e+10  3.43180921e+09\u001b[0m\n\u001b[1;37m                                   ^\u001b[0m\n\u001b[1;31mSyntaxError\u001b[0m\u001b[1;31m:\u001b[0m invalid syntax\n"
     ]
    }
   ],
   "source": [
    "[ 6.26000000e+09  5.68848301e-11  2.04552302e+10  3.43180921e+09\n",
    "  8.65252628e+07  8.34182049e-02  3.33000000e+09  1.58362465e-12\n",
    " -1.13172884e-01]"
   ]
  },
  {
   "cell_type": "code",
   "execution_count": 18,
   "metadata": {
    "ExecuteTime": {
     "end_time": "2019-11-08T09:34:16.636459Z",
     "start_time": "2019-11-08T09:34:16.631470Z"
    }
   },
   "outputs": [],
   "source": [
    "def fqcoil(p,x):\n",
    "    frb, Cc, EJ1, EJ2, EC, phi0 = p[:6]\n",
    "    L = p[6:]\n",
    "    return fq_new(x, frb, Cc, EJ1, EJ2, EC, phi0, L)/1e9"
   ]
  },
  {
   "cell_type": "code",
   "execution_count": 94,
   "metadata": {
    "ExecuteTime": {
     "end_time": "2019-11-08T12:03:15.194983Z",
     "start_time": "2019-11-08T12:03:15.040776Z"
    }
   },
   "outputs": [
    {
     "name": "stdout",
     "output_type": "stream",
     "text": [
      "Exdir_db.select_measurement_by_id: trying to load measurement state by id:  d:\\data\\2019-11-07\\004663-Adaptive_two_tone_spectroscopy-11qubits_021119\n"
     ]
    }
   ],
   "source": [
    "# 4663 for 1 qubit\n",
    "qubit1_up=exdir_db_inst.select_measurement_by_id(4663)\n",
    "Z1_up=data_processing(qubit1_up)\n",
    "X=qubit1_up.datasets['S-parameter'].parameters[0].values[:]\n",
    "Y=qubit1_up.datasets['S-parameter'].parameters[1].values[:]"
   ]
  },
  {
   "cell_type": "code",
   "execution_count": 95,
   "metadata": {
    "ExecuteTime": {
     "end_time": "2019-11-08T12:03:28.937007Z",
     "start_time": "2019-11-08T12:03:28.593659Z"
    }
   },
   "outputs": [],
   "source": [
    "i=0\n",
    "fr_diag=fqcoil(P0_podgon[i],X)\n",
    "step=np.abs(X[1]-X[0])/2\n",
    "plt.figure()\n",
    "for _id in range(len(X)):\n",
    "    x_plot1 = (X[_id]-step)#*np.pi*p_old[6]+p_old[5]*np.pi\n",
    "    x_plot2 = (X[_id]+step)#*np.pi*p_old[6]+p_old[5]*np.pi\n",
    "    plt.pcolormesh([x_plot1, x_plot2], Y/1e3+fr_diag[_id],np.abs(Z1_up[_id]).reshape(len(Y),1))\n",
    "# plt.scatter(X,fq_coil_new_1qubit2222(L_fit,X),c='r') \n",
    "plt.scatter(X,fq_coil_new_1qubit1111(P0_podgon_new[i],X)/1e9,c='r')\n",
    "# plt.scatter(X,fq_coil_new_1qubit2222(P0_podgon_new[i],X),c='r')"
   ]
  },
  {
   "cell_type": "code",
   "execution_count": 111,
   "metadata": {
    "ExecuteTime": {
     "end_time": "2019-11-08T13:04:16.477554Z",
     "start_time": "2019-11-08T13:04:16.473062Z"
    }
   },
   "outputs": [],
   "source": []
  },
  {
   "cell_type": "code",
   "execution_count": null,
   "metadata": {},
   "outputs": [],
   "source": []
  },
  {
   "cell_type": "markdown",
   "metadata": {},
   "source": [
    "# Fit nondiagonal elements"
   ]
  },
  {
   "cell_type": "code",
   "execution_count": 64,
   "metadata": {
    "ExecuteTime": {
     "end_time": "2019-10-09T11:22:52.084897Z",
     "start_time": "2019-10-09T11:21:50.740639Z"
    }
   },
   "outputs": [
    {
     "name": "stdout",
     "output_type": "stream",
     "text": [
      "1\n",
      "0 0\n",
      "c:\\data\\2019-10-03\\012978-Adapt_two_tone_spectroscopy-1906-003-dodik\n",
      "1 0\n",
      "1 NNDAC-3 NNDAC-21\n",
      "2 0\n",
      "1 NNDAC-17 NNDAC-21\n",
      "3 0\n",
      "1 NNDAC-13 NNDAC-21\n",
      "4 0\n",
      "1 NNDAC-18 NNDAC-21\n",
      "5 0\n",
      "1 NNDAC-4 NNDAC-21\n",
      "6 0\n",
      "1 NNDAC-9 NNDAC-21\n",
      "7 0\n",
      "1 NNDAC-22 NNDAC-21\n",
      "8 0\n",
      "1 NNDAC-8 NNDAC-21\n",
      "9 0\n",
      "1 NNDAC-5 NNDAC-21\n",
      "10 0\n",
      "1 NNDAC-19 NNDAC-21\n",
      "11 0\n",
      "1 NNDAC-12 NNDAC-21\n",
      "12 0\n",
      "1 NNDAC-1 NNDAC-21\n",
      "13 0\n",
      "1 NNDAC-15 NNDAC-21\n",
      "14 0\n",
      "1 NNDAC-16 NNDAC-21\n",
      "15 0\n",
      "1 NNDAC-2 NNDAC-21\n",
      "16 0\n",
      "1 NNDAC-11 NNDAC-21\n",
      "17 0\n",
      "1 NNDAC-20 NNDAC-21\n",
      "18 0\n",
      "1 NNDAC-6 NNDAC-21\n",
      "3\n",
      "0 1\n",
      "3 NNDAC-21 NNDAC-3\n",
      "1 1\n",
      "c:\\data\\2019-10-03\\012979-Adapt_two_tone_spectroscopy-1906-003-dodik\n",
      "2 1\n",
      "3 NNDAC-17 NNDAC-3\n",
      "3 1\n",
      "3 NNDAC-13 NNDAC-3\n",
      "4 1\n",
      "3 NNDAC-18 NNDAC-3\n",
      "5 1\n",
      "3 NNDAC-4 NNDAC-3\n",
      "6 1\n",
      "3 NNDAC-9 NNDAC-3\n",
      "7 1\n",
      "3 NNDAC-22 NNDAC-3\n",
      "8 1\n",
      "3 NNDAC-8 NNDAC-3\n",
      "9 1\n",
      "3 NNDAC-5 NNDAC-3\n",
      "10 1\n",
      "3 NNDAC-19 NNDAC-3\n",
      "11 1\n",
      "3 NNDAC-12 NNDAC-3\n",
      "12 1\n",
      "3 NNDAC-1 NNDAC-3\n",
      "13 1\n",
      "3 NNDAC-15 NNDAC-3\n",
      "14 1\n",
      "3 NNDAC-16 NNDAC-3\n",
      "15 1\n",
      "3 NNDAC-2 NNDAC-3\n",
      "16 1\n",
      "3 NNDAC-11 NNDAC-3\n",
      "17 1\n",
      "3 NNDAC-20 NNDAC-3\n",
      "18 1\n",
      "3 NNDAC-6 NNDAC-3\n",
      "4\n",
      "0 2\n",
      "4 NNDAC-21 NNDAC-17\n",
      "1 2\n",
      "4 NNDAC-3 NNDAC-17\n",
      "2 2\n",
      "c:\\data\\2019-10-02\\012957-Adapt_two_tone_spectroscopy-1906-003-dodik\n",
      "3 2\n",
      "4 NNDAC-13 NNDAC-17\n",
      "4 2\n",
      "4 NNDAC-18 NNDAC-17\n",
      "5 2\n",
      "4 NNDAC-4 NNDAC-17\n",
      "6 2\n",
      "4 NNDAC-9 NNDAC-17\n",
      "7 2\n",
      "4 NNDAC-22 NNDAC-17\n",
      "8 2\n",
      "4 NNDAC-8 NNDAC-17\n",
      "9 2\n",
      "4 NNDAC-5 NNDAC-17\n",
      "10 2\n",
      "4 NNDAC-19 NNDAC-17\n",
      "11 2\n",
      "4 NNDAC-12 NNDAC-17\n",
      "12 2\n",
      "4 NNDAC-1 NNDAC-17\n",
      "13 2\n",
      "4 NNDAC-15 NNDAC-17\n",
      "14 2\n",
      "4 NNDAC-16 NNDAC-17\n",
      "15 2\n",
      "4 NNDAC-2 NNDAC-17\n",
      "16 2\n",
      "4 NNDAC-11 NNDAC-17\n",
      "17 2\n",
      "4 NNDAC-20 NNDAC-17\n",
      "18 2\n",
      "4 NNDAC-6 NNDAC-17\n",
      "5\n",
      "0 3\n",
      "5 NNDAC-21 NNDAC-13\n",
      "1 3\n",
      "5 NNDAC-3 NNDAC-13\n",
      "2 3\n",
      "5 NNDAC-17 NNDAC-13\n",
      "3 3\n",
      "c:\\data\\2019-10-03\\012958-Adapt_two_tone_spectroscopy-1906-003-dodik\n",
      "4 3\n",
      "5 NNDAC-18 NNDAC-13\n",
      "5 3\n",
      "5 NNDAC-4 NNDAC-13\n",
      "6 3\n",
      "5 NNDAC-9 NNDAC-13\n",
      "7 3\n",
      "5 NNDAC-22 NNDAC-13\n",
      "8 3\n",
      "5 NNDAC-8 NNDAC-13\n",
      "9 3\n",
      "5 NNDAC-5 NNDAC-13\n",
      "10 3\n",
      "5 NNDAC-19 NNDAC-13\n",
      "11 3\n",
      "5 NNDAC-12 NNDAC-13\n",
      "12 3\n",
      "5 NNDAC-1 NNDAC-13\n",
      "13 3\n",
      "5 NNDAC-15 NNDAC-13\n",
      "14 3\n",
      "5 NNDAC-16 NNDAC-13\n",
      "15 3\n",
      "5 NNDAC-2 NNDAC-13\n",
      "16 3\n",
      "5 NNDAC-11 NNDAC-13\n",
      "17 3\n",
      "5 NNDAC-20 NNDAC-13\n",
      "18 3\n",
      "5 NNDAC-6 NNDAC-13\n",
      "7\n",
      "0 4\n",
      "7 NNDAC-21 NNDAC-18\n",
      "1 4\n",
      "7 NNDAC-3 NNDAC-18\n",
      "2 4\n",
      "7 NNDAC-17 NNDAC-18\n",
      "3 4\n",
      "7 NNDAC-13 NNDAC-18\n",
      "4 4\n",
      "c:\\data\\2019-10-03\\012959-Adapt_two_tone_spectroscopy-1906-003-dodik\n",
      "5 4\n",
      "7 NNDAC-4 NNDAC-18\n",
      "6 4\n",
      "7 NNDAC-9 NNDAC-18\n",
      "7 4\n",
      "7 NNDAC-22 NNDAC-18\n",
      "8 4\n",
      "7 NNDAC-8 NNDAC-18\n",
      "9 4\n",
      "7 NNDAC-5 NNDAC-18\n",
      "10 4\n",
      "7 NNDAC-19 NNDAC-18\n",
      "11 4\n",
      "7 NNDAC-12 NNDAC-18\n",
      "12 4\n",
      "7 NNDAC-1 NNDAC-18\n",
      "13 4\n",
      "7 NNDAC-15 NNDAC-18\n",
      "14 4\n",
      "7 NNDAC-16 NNDAC-18\n",
      "15 4\n",
      "7 NNDAC-2 NNDAC-18\n",
      "16 4\n",
      "7 NNDAC-11 NNDAC-18\n",
      "17 4\n",
      "7 NNDAC-20 NNDAC-18\n",
      "18 4\n",
      "7 NNDAC-6 NNDAC-18\n",
      "8\n",
      "0 5\n",
      "8 NNDAC-21 NNDAC-4\n",
      "1 5\n",
      "8 NNDAC-3 NNDAC-4\n",
      "2 5\n",
      "8 NNDAC-17 NNDAC-4\n",
      "3 5\n",
      "8 NNDAC-13 NNDAC-4\n",
      "4 5\n",
      "8 NNDAC-18 NNDAC-4\n",
      "5 5\n",
      "c:\\data\\2019-10-03\\012960-Adapt_two_tone_spectroscopy-1906-003-dodik\n",
      "6 5\n",
      "8 NNDAC-9 NNDAC-4\n",
      "7 5\n",
      "8 NNDAC-22 NNDAC-4\n",
      "8 5\n",
      "8 NNDAC-8 NNDAC-4\n",
      "9 5\n",
      "8 NNDAC-5 NNDAC-4\n",
      "10 5\n",
      "8 NNDAC-19 NNDAC-4\n",
      "11 5\n",
      "8 NNDAC-12 NNDAC-4\n",
      "12 5\n",
      "8 NNDAC-1 NNDAC-4\n",
      "13 5\n",
      "8 NNDAC-15 NNDAC-4\n",
      "14 5\n",
      "8 NNDAC-16 NNDAC-4\n",
      "15 5\n",
      "8 NNDAC-2 NNDAC-4\n",
      "16 5\n",
      "8 NNDAC-11 NNDAC-4\n",
      "17 5\n",
      "8 NNDAC-20 NNDAC-4\n",
      "18 5\n",
      "8 NNDAC-6 NNDAC-4\n",
      "9\n",
      "0 6\n",
      "9 NNDAC-21 NNDAC-9\n",
      "1 6\n",
      "9 NNDAC-3 NNDAC-9\n",
      "2 6\n",
      "9 NNDAC-17 NNDAC-9\n",
      "3 6\n",
      "9 NNDAC-13 NNDAC-9\n",
      "4 6\n",
      "9 NNDAC-18 NNDAC-9\n",
      "5 6\n",
      "9 NNDAC-4 NNDAC-9\n",
      "6 6\n",
      "c:\\data\\2019-10-03\\012961-Adapt_two_tone_spectroscopy-1906-003-dodik\n",
      "7 6\n",
      "9 NNDAC-22 NNDAC-9\n",
      "8 6\n",
      "9 NNDAC-8 NNDAC-9\n",
      "9 6\n",
      "9 NNDAC-5 NNDAC-9\n",
      "10 6\n",
      "9 NNDAC-19 NNDAC-9\n",
      "11 6\n",
      "9 NNDAC-12 NNDAC-9\n",
      "12 6\n",
      "9 NNDAC-1 NNDAC-9\n",
      "13 6\n",
      "9 NNDAC-15 NNDAC-9\n",
      "14 6\n",
      "9 NNDAC-16 NNDAC-9\n",
      "15 6\n",
      "9 NNDAC-2 NNDAC-9\n",
      "16 6\n",
      "9 NNDAC-11 NNDAC-9\n",
      "17 6\n",
      "9 NNDAC-20 NNDAC-9\n",
      "18 6\n",
      "9 NNDAC-6 NNDAC-9\n",
      "10\n",
      "0 7\n",
      "10 NNDAC-21 NNDAC-22\n",
      "1 7\n",
      "10 NNDAC-3 NNDAC-22\n",
      "2 7\n",
      "10 NNDAC-17 NNDAC-22\n",
      "3 7\n",
      "10 NNDAC-13 NNDAC-22\n",
      "4 7\n",
      "10 NNDAC-18 NNDAC-22\n",
      "5 7\n",
      "10 NNDAC-4 NNDAC-22\n",
      "6 7\n",
      "10 NNDAC-9 NNDAC-22\n",
      "7 7\n",
      "c:\\data\\2019-10-03\\012962-Adapt_two_tone_spectroscopy-1906-003-dodik\n",
      "8 7\n",
      "10 NNDAC-8 NNDAC-22\n",
      "9 7\n",
      "10 NNDAC-5 NNDAC-22\n",
      "10 7\n",
      "10 NNDAC-19 NNDAC-22\n",
      "11 7\n",
      "10 NNDAC-12 NNDAC-22\n",
      "12 7\n",
      "10 NNDAC-1 NNDAC-22\n",
      "13 7\n",
      "10 NNDAC-15 NNDAC-22\n",
      "14 7\n",
      "10 NNDAC-16 NNDAC-22\n",
      "15 7\n",
      "10 NNDAC-2 NNDAC-22\n",
      "16 7\n",
      "10 NNDAC-11 NNDAC-22\n",
      "17 7\n",
      "10 NNDAC-20 NNDAC-22\n",
      "18 7\n",
      "10 NNDAC-6 NNDAC-22\n",
      "11\n",
      "0 8\n",
      "11 NNDAC-21 NNDAC-8\n",
      "1 8\n",
      "11 NNDAC-3 NNDAC-8\n",
      "2 8\n",
      "11 NNDAC-17 NNDAC-8\n",
      "3 8\n",
      "11 NNDAC-13 NNDAC-8\n",
      "4 8\n",
      "11 NNDAC-18 NNDAC-8\n",
      "5 8\n",
      "11 NNDAC-4 NNDAC-8\n",
      "6 8\n",
      "11 NNDAC-9 NNDAC-8\n",
      "7 8\n",
      "11 NNDAC-22 NNDAC-8\n",
      "8 8\n",
      "c:\\data\\2019-10-03\\012963-Adapt_two_tone_spectroscopy-1906-003-dodik\n",
      "9 8\n",
      "11 NNDAC-5 NNDAC-8\n",
      "10 8\n",
      "11 NNDAC-19 NNDAC-8\n",
      "11 8\n",
      "11 NNDAC-12 NNDAC-8\n",
      "12 8\n",
      "11 NNDAC-1 NNDAC-8\n",
      "13 8\n",
      "11 NNDAC-15 NNDAC-8\n",
      "14 8\n",
      "11 NNDAC-16 NNDAC-8\n",
      "15 8\n",
      "11 NNDAC-2 NNDAC-8\n",
      "16 8\n",
      "11 NNDAC-11 NNDAC-8\n",
      "17 8\n",
      "11 NNDAC-20 NNDAC-8\n",
      "18 8\n",
      "11 NNDAC-6 NNDAC-8\n",
      "12\n",
      "0 9\n",
      "12 NNDAC-21 NNDAC-5\n",
      "1 9\n",
      "12 NNDAC-3 NNDAC-5\n",
      "2 9\n",
      "12 NNDAC-17 NNDAC-5\n",
      "3 9\n",
      "12 NNDAC-13 NNDAC-5\n",
      "4 9\n",
      "12 NNDAC-18 NNDAC-5\n",
      "5 9\n",
      "12 NNDAC-4 NNDAC-5\n",
      "6 9\n",
      "12 NNDAC-9 NNDAC-5\n",
      "7 9\n",
      "12 NNDAC-22 NNDAC-5\n",
      "8 9\n",
      "12 NNDAC-8 NNDAC-5\n",
      "9 9\n",
      "c:\\data\\2019-10-03\\012964-Adapt_two_tone_spectroscopy-1906-003-dodik\n",
      "10 9\n",
      "12 NNDAC-19 NNDAC-5\n",
      "11 9\n",
      "12 NNDAC-12 NNDAC-5\n",
      "12 9\n",
      "12 NNDAC-1 NNDAC-5\n",
      "13 9\n",
      "12 NNDAC-15 NNDAC-5\n",
      "14 9\n",
      "12 NNDAC-16 NNDAC-5\n",
      "15 9\n",
      "12 NNDAC-2 NNDAC-5\n",
      "16 9\n",
      "12 NNDAC-11 NNDAC-5\n",
      "17 9\n",
      "12 NNDAC-20 NNDAC-5\n",
      "18 9\n",
      "12 NNDAC-6 NNDAC-5\n",
      "13\n",
      "0 10\n",
      "13 NNDAC-21 NNDAC-19\n",
      "1 10\n",
      "13 NNDAC-3 NNDAC-19\n",
      "2 10\n",
      "13 NNDAC-17 NNDAC-19\n",
      "3 10\n",
      "13 NNDAC-13 NNDAC-19\n",
      "4 10\n",
      "13 NNDAC-18 NNDAC-19\n",
      "5 10\n",
      "13 NNDAC-4 NNDAC-19\n",
      "6 10\n",
      "13 NNDAC-9 NNDAC-19\n",
      "7 10\n",
      "13 NNDAC-22 NNDAC-19\n",
      "8 10\n",
      "13 NNDAC-8 NNDAC-19\n",
      "9 10\n",
      "13 NNDAC-5 NNDAC-19\n",
      "10 10\n",
      "c:\\data\\2019-10-03\\012965-Adapt_two_tone_spectroscopy-1906-003-dodik\n",
      "11 10\n",
      "13 NNDAC-12 NNDAC-19\n",
      "12 10\n",
      "13 NNDAC-1 NNDAC-19\n",
      "13 10\n",
      "13 NNDAC-15 NNDAC-19\n",
      "14 10\n",
      "13 NNDAC-16 NNDAC-19\n",
      "15 10\n",
      "13 NNDAC-2 NNDAC-19\n",
      "16 10\n",
      "13 NNDAC-11 NNDAC-19\n",
      "17 10\n",
      "13 NNDAC-20 NNDAC-19\n",
      "18 10\n",
      "13 NNDAC-6 NNDAC-19\n",
      "14\n",
      "0 11\n",
      "14 NNDAC-21 NNDAC-12\n",
      "1 11\n",
      "14 NNDAC-3 NNDAC-12\n",
      "2 11\n",
      "14 NNDAC-17 NNDAC-12\n",
      "3 11\n",
      "14 NNDAC-13 NNDAC-12\n",
      "4 11\n",
      "14 NNDAC-18 NNDAC-12\n",
      "5 11\n",
      "14 NNDAC-4 NNDAC-12\n",
      "6 11\n",
      "14 NNDAC-9 NNDAC-12\n",
      "7 11\n",
      "14 NNDAC-22 NNDAC-12\n",
      "8 11\n",
      "14 NNDAC-8 NNDAC-12\n",
      "9 11\n",
      "14 NNDAC-5 NNDAC-12\n",
      "10 11\n",
      "14 NNDAC-19 NNDAC-12\n",
      "11 11\n",
      "c:\\data\\2019-10-03\\012966-Adapt_two_tone_spectroscopy-1906-003-dodik\n",
      "12 11\n",
      "14 NNDAC-1 NNDAC-12\n",
      "13 11\n",
      "14 NNDAC-15 NNDAC-12\n",
      "14 11\n",
      "14 NNDAC-16 NNDAC-12\n",
      "15 11\n",
      "14 NNDAC-2 NNDAC-12\n",
      "16 11\n",
      "14 NNDAC-11 NNDAC-12\n",
      "17 11\n",
      "14 NNDAC-20 NNDAC-12\n",
      "18 11\n",
      "14 NNDAC-6 NNDAC-12\n",
      "15\n",
      "0 12\n",
      "15 NNDAC-21 NNDAC-1\n",
      "1 12\n",
      "15 NNDAC-3 NNDAC-1\n",
      "2 12\n",
      "15 NNDAC-17 NNDAC-1\n",
      "3 12\n",
      "15 NNDAC-13 NNDAC-1\n",
      "4 12\n",
      "15 NNDAC-18 NNDAC-1\n",
      "5 12\n",
      "15 NNDAC-4 NNDAC-1\n",
      "6 12\n",
      "15 NNDAC-9 NNDAC-1\n",
      "7 12\n",
      "15 NNDAC-22 NNDAC-1\n",
      "8 12\n",
      "15 NNDAC-8 NNDAC-1\n",
      "9 12\n",
      "15 NNDAC-5 NNDAC-1\n",
      "10 12\n",
      "15 NNDAC-19 NNDAC-1\n",
      "11 12\n",
      "15 NNDAC-12 NNDAC-1\n",
      "12 12\n",
      "c:\\data\\2019-10-03\\012967-Adapt_two_tone_spectroscopy-1906-003-dodik\n",
      "13 12\n",
      "15 NNDAC-15 NNDAC-1\n",
      "14 12\n",
      "15 NNDAC-16 NNDAC-1\n",
      "15 12\n",
      "15 NNDAC-2 NNDAC-1\n",
      "16 12\n",
      "15 NNDAC-11 NNDAC-1\n",
      "17 12\n",
      "15 NNDAC-20 NNDAC-1\n",
      "18 12\n",
      "15 NNDAC-6 NNDAC-1\n",
      "16\n",
      "0 13\n",
      "16 NNDAC-21 NNDAC-15\n",
      "1 13\n",
      "16 NNDAC-3 NNDAC-15\n",
      "2 13\n",
      "16 NNDAC-17 NNDAC-15\n",
      "3 13\n",
      "16 NNDAC-13 NNDAC-15\n",
      "4 13\n",
      "16 NNDAC-18 NNDAC-15\n",
      "5 13\n",
      "16 NNDAC-4 NNDAC-15\n",
      "6 13\n",
      "16 NNDAC-9 NNDAC-15\n",
      "7 13\n",
      "16 NNDAC-22 NNDAC-15\n"
     ]
    },
    {
     "name": "stderr",
     "output_type": "stream",
     "text": [
      "C:\\ProgramData\\Anaconda3\\lib\\site-packages\\matplotlib\\pyplot.py:514: RuntimeWarning:\n",
      "\n",
      "More than 20 figures have been opened. Figures created through the pyplot interface (`matplotlib.pyplot.figure`) are retained until explicitly closed and may consume too much memory. (To control this warning, see the rcParam `figure.max_open_warning`).\n",
      "\n"
     ]
    },
    {
     "name": "stdout",
     "output_type": "stream",
     "text": [
      "8 13\n",
      "16 NNDAC-8 NNDAC-15\n",
      "9 13\n",
      "16 NNDAC-5 NNDAC-15\n",
      "10 13\n",
      "16 NNDAC-19 NNDAC-15\n",
      "11 13\n",
      "16 NNDAC-12 NNDAC-15\n",
      "12 13\n",
      "16 NNDAC-1 NNDAC-15\n",
      "13 13\n",
      "c:\\data\\2019-10-03\\012968-Adapt_two_tone_spectroscopy-1906-003-dodik\n",
      "14 13\n",
      "16 NNDAC-16 NNDAC-15\n",
      "15 13\n",
      "16 NNDAC-2 NNDAC-15\n",
      "16 13\n",
      "16 NNDAC-11 NNDAC-15\n",
      "17 13\n",
      "16 NNDAC-20 NNDAC-15\n",
      "18 13\n",
      "16 NNDAC-6 NNDAC-15\n",
      "17\n",
      "0 14\n",
      "17 NNDAC-21 NNDAC-16\n",
      "1 14\n",
      "17 NNDAC-3 NNDAC-16\n",
      "2 14\n",
      "17 NNDAC-17 NNDAC-16\n",
      "3 14\n",
      "17 NNDAC-13 NNDAC-16\n",
      "4 14\n",
      "17 NNDAC-18 NNDAC-16\n",
      "5 14\n",
      "17 NNDAC-4 NNDAC-16\n",
      "6 14\n",
      "17 NNDAC-9 NNDAC-16\n",
      "7 14\n",
      "17 NNDAC-22 NNDAC-16\n",
      "8 14\n",
      "17 NNDAC-8 NNDAC-16\n",
      "9 14\n",
      "17 NNDAC-5 NNDAC-16\n",
      "10 14\n",
      "17 NNDAC-19 NNDAC-16\n",
      "11 14\n",
      "17 NNDAC-12 NNDAC-16\n",
      "12 14\n",
      "17 NNDAC-1 NNDAC-16\n",
      "13 14\n",
      "17 NNDAC-15 NNDAC-16\n",
      "14 14\n",
      "c:\\data\\2019-10-03\\012969-Adapt_two_tone_spectroscopy-1906-003-dodik\n",
      "15 14\n",
      "17 NNDAC-2 NNDAC-16\n",
      "16 14\n",
      "17 NNDAC-11 NNDAC-16\n",
      "17 14\n",
      "17 NNDAC-20 NNDAC-16\n",
      "18 14\n",
      "17 NNDAC-6 NNDAC-16\n",
      "18\n",
      "0 15\n",
      "18 NNDAC-21 NNDAC-2\n",
      "1 15\n",
      "18 NNDAC-3 NNDAC-2\n",
      "2 15\n",
      "18 NNDAC-17 NNDAC-2\n",
      "3 15\n",
      "18 NNDAC-13 NNDAC-2\n",
      "4 15\n",
      "18 NNDAC-18 NNDAC-2\n",
      "5 15\n",
      "18 NNDAC-4 NNDAC-2\n",
      "6 15\n",
      "18 NNDAC-9 NNDAC-2\n",
      "7 15\n",
      "18 NNDAC-22 NNDAC-2\n",
      "8 15\n",
      "18 NNDAC-8 NNDAC-2\n",
      "9 15\n",
      "18 NNDAC-5 NNDAC-2\n",
      "10 15\n",
      "18 NNDAC-19 NNDAC-2\n",
      "11 15\n",
      "18 NNDAC-12 NNDAC-2\n",
      "12 15\n",
      "18 NNDAC-1 NNDAC-2\n",
      "13 15\n",
      "18 NNDAC-15 NNDAC-2\n",
      "14 15\n",
      "18 NNDAC-16 NNDAC-2\n",
      "15 15\n",
      "c:\\data\\2019-10-03\\012970-Adapt_two_tone_spectroscopy-1906-003-dodik\n",
      "16 15\n",
      "18 NNDAC-11 NNDAC-2\n",
      "17 15\n",
      "18 NNDAC-20 NNDAC-2\n",
      "18 15\n",
      "18 NNDAC-6 NNDAC-2\n",
      "19\n",
      "0 16\n",
      "19 NNDAC-21 NNDAC-11\n",
      "1 16\n",
      "19 NNDAC-3 NNDAC-11\n",
      "2 16\n",
      "19 NNDAC-17 NNDAC-11\n",
      "3 16\n",
      "19 NNDAC-13 NNDAC-11\n",
      "4 16\n",
      "19 NNDAC-18 NNDAC-11\n",
      "5 16\n",
      "19 NNDAC-4 NNDAC-11\n",
      "6 16\n",
      "19 NNDAC-9 NNDAC-11\n",
      "7 16\n",
      "19 NNDAC-22 NNDAC-11\n",
      "8 16\n",
      "19 NNDAC-8 NNDAC-11\n",
      "9 16\n",
      "19 NNDAC-5 NNDAC-11\n",
      "10 16\n",
      "19 NNDAC-19 NNDAC-11\n",
      "11 16\n",
      "19 NNDAC-12 NNDAC-11\n",
      "12 16\n",
      "19 NNDAC-1 NNDAC-11\n",
      "13 16\n",
      "19 NNDAC-15 NNDAC-11\n",
      "14 16\n",
      "19 NNDAC-16 NNDAC-11\n",
      "15 16\n",
      "19 NNDAC-2 NNDAC-11\n",
      "16 16\n",
      "c:\\data\\2019-10-03\\012971-Adapt_two_tone_spectroscopy-1906-003-dodik\n",
      "17 16\n",
      "19 NNDAC-20 NNDAC-11\n",
      "18 16\n",
      "19 NNDAC-6 NNDAC-11\n",
      "20\n",
      "0 17\n",
      "20 NNDAC-21 NNDAC-20\n",
      "1 17\n",
      "20 NNDAC-3 NNDAC-20\n",
      "2 17\n",
      "20 NNDAC-17 NNDAC-20\n",
      "3 17\n",
      "20 NNDAC-13 NNDAC-20\n",
      "4 17\n",
      "20 NNDAC-18 NNDAC-20\n",
      "5 17\n",
      "20 NNDAC-4 NNDAC-20\n",
      "6 17\n",
      "20 NNDAC-9 NNDAC-20\n",
      "7 17\n",
      "20 NNDAC-22 NNDAC-20\n",
      "8 17\n",
      "20 NNDAC-8 NNDAC-20\n",
      "9 17\n",
      "20 NNDAC-5 NNDAC-20\n",
      "10 17\n",
      "20 NNDAC-19 NNDAC-20\n",
      "11 17\n",
      "20 NNDAC-12 NNDAC-20\n",
      "12 17\n",
      "20 NNDAC-1 NNDAC-20\n",
      "13 17\n",
      "20 NNDAC-15 NNDAC-20\n",
      "14 17\n",
      "20 NNDAC-16 NNDAC-20\n",
      "15 17\n",
      "20 NNDAC-2 NNDAC-20\n",
      "16 17\n",
      "20 NNDAC-11 NNDAC-20\n",
      "17 17\n",
      "c:\\data\\2019-10-03\\012972-Adapt_two_tone_spectroscopy-1906-003-dodik\n",
      "18 17\n",
      "20 NNDAC-6 NNDAC-20\n",
      "21\n",
      "0 18\n",
      "21 NNDAC-21 NNDAC-6\n",
      "1 18\n",
      "21 NNDAC-3 NNDAC-6\n",
      "2 18\n",
      "21 NNDAC-17 NNDAC-6\n",
      "3 18\n",
      "21 NNDAC-13 NNDAC-6\n",
      "4 18\n",
      "21 NNDAC-18 NNDAC-6\n",
      "5 18\n",
      "21 NNDAC-4 NNDAC-6\n",
      "6 18\n",
      "21 NNDAC-9 NNDAC-6\n",
      "7 18\n",
      "21 NNDAC-22 NNDAC-6\n",
      "8 18\n",
      "21 NNDAC-8 NNDAC-6\n",
      "9 18\n",
      "21 NNDAC-5 NNDAC-6\n",
      "10 18\n",
      "21 NNDAC-19 NNDAC-6\n",
      "11 18\n",
      "21 NNDAC-12 NNDAC-6\n",
      "12 18\n",
      "21 NNDAC-1 NNDAC-6\n",
      "13 18\n",
      "21 NNDAC-15 NNDAC-6\n",
      "14 18\n",
      "21 NNDAC-16 NNDAC-6\n",
      "15 18\n",
      "21 NNDAC-2 NNDAC-6\n",
      "16 18\n",
      "21 NNDAC-11 NNDAC-6\n",
      "17 18\n",
      "21 NNDAC-20 NNDAC-6\n",
      "18 18\n",
      "c:\\data\\2019-10-03\\012973-Adapt_two_tone_spectroscopy-1906-003-dodik\n"
     ]
    }
   ],
   "source": [
    "\n",
    "good_qubits=['1','2','3','4','5','7','8','9','10','11','12','13','14','15','16','17','18','19','20','21','23']\n",
    "all_qubits=['1','3','4','5','7','8','9','10','11','12','13','14','15','16','17','18','19','20','21']\n",
    "good_resonators=['1','3','4','5','7','8','9','10','11','12','13','14','15','16','17','18','19','20','21']\n",
    "TT_matrix_full=[]\n",
    "matrix_freq_fit=[]\n",
    "matrix_current_fit=[]\n",
    "\n",
    "    \n",
    "for row_id,qubit_id in enumerate(all_qubits):\n",
    "    print(qubit_id)\n",
    "    nndac_channel_id_diag=qubits[qubit_id]['q']['P']['nndac_coil_id']\n",
    "    main_coil='NNDAC-'+str(nndac_channel_id_diag)\n",
    "    TT_full_row=[]\n",
    "    freq_fit_row=[]\n",
    "    current_fit_row=[]\n",
    "    for colomn_id, resonator_id in enumerate(good_resonators):\n",
    "        nndac_channel_id=qubits[resonator_id]['q']['P']['nndac_coil_id']\n",
    "        coil = 'NNDAC-'+str(nndac_channel_id)\n",
    "        print(colomn_id,row_id)\n",
    "        if colomn_id==row_id:\n",
    "            a3=exdir_db_inst.select_measurement(measurement_type='Adapt_two_tone_spectroscopy', \n",
    "                                        metadata={'resonator_id':qubit_id, 'bw':10.0, 'coil':main_coil,'attenuation': -20,})\n",
    "    \n",
    "            p_old=one_tone_podgon_new[good_qubits.index(qubit_id)]\n",
    "            TWO_z1=a3.datasets['S-parameter'].data\n",
    "            nop=121\n",
    "            current_nop=91\n",
    "            cut=0\n",
    "            if qubit_id in['5','8', '12']:\n",
    "                cut=2\n",
    "            TWO_x1=np.linspace(3,-1.5,91)\n",
    "            TWO_y1=np.linspace(-150,150,nop)\n",
    "           \n",
    "            if qubit_id=='10':\n",
    "                    TWO_z=TWO_z1[cut:,45:80]\n",
    "                    TWO_x=TWO_x1[cut:]\n",
    "                    TWO_y=TWO_y1[45:80]\n",
    "                    nop=35\n",
    "            elif qubit_id=='14':\n",
    "                TWO_z=TWO_z1[cut:,35:65]\n",
    "                TWO_x=TWO_x1[cut:]\n",
    "                TWO_y=TWO_y1[35:65]\n",
    "                nop=30\n",
    "            else:\n",
    "                TWO_z=TWO_z1[cut:,:]\n",
    "                TWO_x=TWO_x1[cut:]\n",
    "                TWO_y=TWO_y1\n",
    "            current_nop=current_nop-cut\n",
    "    \n",
    "            print(a3.filename)\n",
    "    \n",
    "            fr_diag=fq_coil(p_old[2:],TWO_x)\n",
    "            plt.figure()\n",
    "            argmax=0\n",
    "            freq_points=[]\n",
    "            phase_points=[]\n",
    "            for _id in range(current_nop):\n",
    "        \n",
    "                x_plot1 = (TWO_x[_id]-0.025)*np.pi*p_old[6]+p_old[5]*np.pi\n",
    "                x_plot2 = (TWO_x[_id]+0.025)*np.pi*p_old[6]+p_old[5]*np.pi\n",
    "                TTz=TWO_z[_id,:,0].T-np.median(np.real(TWO_z[_id,:,0].T))-1j*np.median(np.imag(TWO_z[_id,:,0].T))\n",
    "                #print(TTz.shape)\n",
    "                plt.pcolormesh([x_plot1, x_plot2], TWO_y/1e3+fr_diag[_id],np.abs(TTz).reshape(nop,1))\n",
    "                if _id==0:\n",
    "                    argmax=np.argmax(np.abs(TTz))\n",
    "                    freq_points.append((TWO_y/1e3+fr_diag[_id])[argmax])\n",
    "                    phase_points.append(((TWO_x[_id])*np.pi*p_old[6]+p_old[5]*np.pi))\n",
    "                else:\n",
    "                    delta=15\n",
    "                    if qubit_id in ['1']: \n",
    "                        delta=10\n",
    "                    argmax=max(argmax-delta,0)+np.argmax(np.abs(TTz[max(argmax-delta,0):min(argmax+delta,nop)]))\n",
    "                    freq_points.append((TWO_y/1e3+fr_diag[_id])[argmax])\n",
    "                    phase_points.append(((TWO_x[_id])*np.pi*p_old[6]+p_old[5]*np.pi))\n",
    "                plt.plot(((TWO_x[_id])*np.pi*p_old[6]+p_old[5]*np.pi),(TWO_y/1e3+fr_diag[_id])[argmax],'ro')\n",
    "                plt.title('Main_Coil #{}, qubit{}'.format(main_coil,qubit_id))\n",
    "            if False:\n",
    "                _id=5\n",
    "                fr_diag[_id]\n",
    "                plt.figure()\n",
    "                TTz=TWO_z[_id,:,0].T-np.median(np.real(TWO_z[_id,:,0].T))-1j*np.median(np.imag(TWO_z[_id,:,0].T))\n",
    "                plt.plot(TWO_y/1e3+fr_diag[_id],np.abs(TTz[:]))\n",
    "                plt.plot((TWO_y/1e3+fr_diag[_id])[np.argmax(np.abs(TWO_z[_id,:,0].T))],np.real(TTz[np.argmax(np.abs(TWO_z[_id,:,0].T))]),'ro')    \n",
    "                plt.show()\n",
    "            \n",
    "            par=a3.datasets['S-parameter'].parameters\n",
    "            _id=a3.id\n",
    "            metadata=a3.metadata\n",
    "            file=a3.filename\n",
    "            TT_full_row.append({'file':file,'id':_id,'parameters':par,\\\n",
    "                                'X':TWO_x1 ,'Y':TWO_y1 ,'Z':TWO_z1,\\\n",
    "                                'correct_plot':p_old,'metadata':metadata})\n",
    "            freq_fit_row.append(freq_points)\n",
    "            current_fit_row.append(TWO_x)\n",
    "        else:\n",
    "            \n",
    "            #load non diag  two tone data\n",
    "            print(qubit_id,coil,main_coil)\n",
    "            a=exdir_db_inst.select_measurement(measurement_type='NonDiag_two_tone_spectroscopy', \n",
    "                                        metadata={'qubit_id':qubit_id, 'bw':10.0, 'coil':coil,'main_coil': main_coil,})\n",
    "            #load main two tone fit\n",
    "            source=exdir_db_inst.select_measurement(measurement_type='diagonal_two_tone_fit', \n",
    "                                        metadata={'qubit_id':qubit_id,'nndac_channel_id':qubits[qubit_id]['q']['P']['nndac_coil_id'] })\n",
    "            p0=[float(source.metadata['frb']),float(source.metadata['Cc']),\\\n",
    "                float(source.metadata['EJ1']),float(source.metadata['EJ2']),\\\n",
    "                float(source.metadata['EC']),float(source.metadata['phi0']),float(source.metadata['L']),] \n",
    "            point=0.25\n",
    "            volt=(point-p0[5])/p0[6]\n",
    "            fr_diag=fq_coil_new(p0[:],np.array([volt,]))\n",
    "            freq_nop=51\n",
    "            freqs= np.linspace(fr_diag[0]*1e9-100e6,fr_diag[0]*1e9+100e6,freq_nop)\n",
    "            TWO_z0=a.datasets['S-parameter'].data\n",
    "            if resonator_id in ['2','4','23']:\n",
    "                current_nop = 16\n",
    "                voltages=np.linspace(-1.2,1.2,current_nop)\n",
    "            else:\n",
    "                current_nop = 31\n",
    "                voltages=np.linspace(-3.0,3.0,current_nop)\n",
    "            \n",
    "            freq_points=[]\n",
    "            phase_points=[]\n",
    "            for _id in range(current_nop):\n",
    "                    argmax=np.argmax(np.real(TWO_z0[_id,:]))\n",
    "                    freq_points.append(freqs[argmax])\n",
    "                    phase_points.append((voltages[_id]*np.pi*p0[6]+p0[5]*np.pi))\n",
    "            if qubit_id=='16':\n",
    "                plt.figure()\n",
    "                #plt.pcolormesh(voltages, freqs,np.abs(TWO_z).T)\n",
    "                #for _id in range(Z.shape[0]):\n",
    "                    #Z[_id,:,0]=Z[_id,:,0]-np.mean(np.real(Z[_id,:,0]))-1j*np.mean(np.real(Z[_id,:,0]))\n",
    "                plt.pcolormesh(voltages, freqs, np.abs(TWO_z0[:,:,0].T), cmap='RdBu_r')\n",
    "                plt.plot(voltages,freq_points,'yellow')\n",
    "                plt.title('Main_Coil #{}, qubit{}, coil{}'.format(main_coil,qubit_id,coil))\n",
    "            par=a.datasets['S-parameter'].parameters\n",
    "            _id=a.id\n",
    "            metadata=a.metadata\n",
    "            file=a.filename\n",
    "            TT_full_row.append({'file':file,'id':_id,'parameters':par,\\\n",
    "                                'X':voltages ,'Y':freqs ,'Z':TWO_z0,\\\n",
    "                                'correct_plot':p_old,'metadata':metadata})\n",
    "            freq_fit_row.append(freq_points)\n",
    "            current_fit_row.append(voltages)\n",
    "       \n",
    "    TT_matrix_full.append(TT_full_row)\n",
    "    matrix_freq_fit.append(freq_fit_row)\n",
    "    matrix_current_fit.append(current_fit_row)         \n",
    "    "
   ]
  },
  {
   "cell_type": "code",
   "execution_count": 82,
   "metadata": {
    "ExecuteTime": {
     "end_time": "2019-10-09T12:13:03.143348Z",
     "start_time": "2019-10-09T12:13:03.133354Z"
    }
   },
   "outputs": [],
   "source": [
    "import copy"
   ]
  },
  {
   "cell_type": "code",
   "execution_count": 68,
   "metadata": {
    "ExecuteTime": {
     "end_time": "2019-10-16T13:54:20.344345Z",
     "start_time": "2019-10-16T13:54:20.311384Z"
    }
   },
   "outputs": [
    {
     "ename": "NameError",
     "evalue": "name 'colomn_id' is not defined",
     "output_type": "error",
     "traceback": [
      "\u001b[1;31m---------------------------------------------------------------------------\u001b[0m",
      "\u001b[1;31mNameError\u001b[0m                                 Traceback (most recent call last)",
      "\u001b[1;32m<ipython-input-68-0a2f4a190707>\u001b[0m in \u001b[0;36m<module>\u001b[1;34m()\u001b[0m\n\u001b[0;32m     13\u001b[0m         \u001b[1;31m#current_fit_row=[]\u001b[0m\u001b[1;33m\u001b[0m\u001b[1;33m\u001b[0m\u001b[0m\n\u001b[0;32m     14\u001b[0m         \u001b[1;31m#colomn_id=12\u001b[0m\u001b[1;33m\u001b[0m\u001b[1;33m\u001b[0m\u001b[0m\n\u001b[1;32m---> 15\u001b[1;33m         \u001b[0mcoil_id\u001b[0m\u001b[1;33m=\u001b[0m\u001b[0mgood_resonators\u001b[0m\u001b[1;33m[\u001b[0m\u001b[0mcolomn_id\u001b[0m\u001b[1;33m]\u001b[0m\u001b[1;33m\u001b[0m\u001b[0m\n\u001b[0m\u001b[0;32m     16\u001b[0m         \u001b[1;32mfor\u001b[0m \u001b[0mcolomn_id\u001b[0m\u001b[1;33m,\u001b[0m \u001b[0mcoil_id\u001b[0m \u001b[1;32min\u001b[0m \u001b[0menumerate\u001b[0m\u001b[1;33m(\u001b[0m\u001b[0mgood_resonators\u001b[0m\u001b[1;33m)\u001b[0m\u001b[1;33m:\u001b[0m\u001b[1;33m\u001b[0m\u001b[0m\n\u001b[0;32m     17\u001b[0m \u001b[1;33m\u001b[0m\u001b[0m\n",
      "\u001b[1;31mNameError\u001b[0m: name 'colomn_id' is not defined"
     ]
    }
   ],
   "source": [
    "#plot row data for one qubit and various coils\n",
    "\n",
    "all_qubits=['1','3','4','5','7','8','9','10','11','12','13','14','15','16','17','18','19','20','21']\n",
    "good_resonators=['1','3','4','5','7','8','9','10','11','12','13','14','15','16','17','18','19','20','21']\n",
    "\n",
    "\n",
    "\n",
    "#matrix_freq_fit=[]\n",
    "#matrix_current_fit=[]\n",
    "for row_id,qubit_id in enumerate(all_qubits):\n",
    "    if row_id==0:\n",
    "        #freq_fit_row=[]\n",
    "        #current_fit_row=[]\n",
    "        #colomn_id=12\n",
    "        coil_id=good_resonators[colomn_id]\n",
    "        for colomn_id, coil_id in enumerate(good_resonators):\n",
    "\n",
    "            plt.figure(figsize=(9,6))\n",
    "\n",
    "            #print(_id)\n",
    "            X=TT_matrix_full[row_id][colomn_id]['X']\n",
    "            Y=TT_matrix_full[row_id][colomn_id]['Y']\n",
    "            Z=TT_matrix_full[row_id][colomn_id]['Z']\n",
    "            _id=TT_matrix_full[row_id][colomn_id]['id']\n",
    "            p_old=TT_matrix_full[row_id][colomn_id]['correct_plot']\n",
    "\n",
    "            #Diagonal two-tone scans\n",
    "            if row_id==colomn_id:\n",
    "                coil=TT_matrix_full[row_id][colomn_id]['metadata']['coil']\n",
    "                fr_diag=fq_coil(p_old[2:],X)\n",
    "                for _id in range(X.shape[0]):\n",
    "                    x_plot1 = (X[_id]-0.025)#*np.pi*p_old[6]+p_old[5]*np.pi\n",
    "                    x_plot2 = (X[_id]+0.025)#*np.pi*p_old[6]+p_old[5]*np.pi\n",
    "                    TTz=Z[_id,:,0].T-np.median(np.real(Z[_id,:,0].T))-1j*np.median(np.imag(Z[_id,:,0].T))\n",
    "                #print(TTz.shape)\n",
    "                    plt.pcolormesh([x_plot1, x_plot2], Y/1e3+fr_diag[_id],np.abs(TTz).reshape(Y.shape[0],1))\n",
    "                qubit_id=TT_matrix_full[row_id][colomn_id]['metadata']['resonator_id']\n",
    "                coil=TT_matrix_full[row_id][colomn_id]['metadata']['coil']\n",
    "            #plt.plot(matrix_current_fit[row_id][colomn_id],matrix_freq_fit[row_id][colomn_id],'ro')\n",
    "                plt.plot(new_current[row_id][colomn_id],new_matrix[row_id][colomn_id],'ro')\n",
    "\n",
    "                plt.title('Main_Coil #{}, qubit{}'.format(coil,qubit_id))\n",
    "                plt.ylabel('Res #'+qubit_id +'frequency, GHz')\n",
    "                plt.xlabel('Coil #{},Voltage, V'.format(coil))\n",
    "    #\n",
    "                #plt.savefig('Res #{}, MainCoil #{}.tif'.format(qubit_id,coil),format='tif')\n",
    "        #NON-Diagonal two-tone scans    \n",
    "            else:\n",
    "\n",
    "                main_coil=TT_matrix_full[row_id][colomn_id]['metadata']['main_coil']\n",
    "                coil=TT_matrix_full[row_id][colomn_id]['metadata']['coil']\n",
    "                for _id in range(Z.shape[0]):\n",
    "                    Z[_id,:,0]=Z[_id,:,0]-np.median(np.real(Z[_id,:,0]))-1j*np.median(np.real(Z[_id,:,0]))\n",
    "                plt.pcolormesh(X, Y, np.imag(Z[:,:,0].T), cmap='RdBu_r')\n",
    "                plt.plot(new_current[row_id][colomn_id],new_matrix[row_id][colomn_id],'yellow')\n",
    "                freq_points=[]\n",
    "                phase_points=[]\n",
    "                for _id in range(X.shape[0]):\n",
    "                    argmax=np.argmax(np.real(Z[_id,15:36]))\n",
    "                    freq_points.append(Y[15+argmax])\n",
    "                    phase_points.append((voltages[_id]*np.pi*p0[6]+p0[5]*np.pi))\n",
    "                plt.plot(X,freq_points,'black')\n",
    "\n",
    "            #freq_points=[]\n",
    "            #phase_points=[]\n",
    "            #for _id in range(Xnew.shape[0]):\n",
    "                #if _id==0:\n",
    "                    #argmax=np.argmax(np.imag(Znew[_id,10:40]))\n",
    "                    #freq_points.append(Y[argmax+10])\n",
    "                    #phase_points.append(((TWO_x[_id])*np.pi*p_old[6]+p_old[5]*np.pi))\n",
    "                #else:\n",
    "                    #delta=15\n",
    "                    #argmax=max(argmax-delta,0)+np.argmax(np.abs(Znew[_id,max(argmax-delta,0):min(argmax+delta,nop)]))\n",
    "                    #freq_points.append(Y[argmax])\n",
    "                    #phase_points.append(((TWO_x[_id])*np.pi*p_old[6]+p_old[5]*np.pi))\n",
    "            #plt.plot(Xnew,freq_points,'red')\n",
    "            plt.title('Main_Coil #{}, qubit{}, coil{},'.format(main_coil,qubit_id,coil))\n",
    "            plt.ylabel('Res #'+qubit_id +'frequency, GHz')\n",
    "            plt.xlabel('Coil #{},Voltage, V'.format(coil))\n",
    "    #\n",
    "            #plt.savefig('Res #{}, MainCoil #{}, Coil #{}.tif'.format(qubit_id,main_coil,coil),format='tif')\n",
    "            #new_freq_fit[row_id][colomn_id]=freq_points\n",
    "            #new_current_fit[row_id][colomn_id]=Xnew\n",
    "            #new_matrix[row_id][colomn_id]=new_freq_fit[row_id][colomn_id]\n",
    "            #new_current[row_id][colomn_id]=new_current_fit[row_id][colomn_id]\n",
    "\n",
    "        plt.ylabel('Res #'+qubit_id +'frequency, GHz')\n",
    "        plt.xlabel('Coil #{},Voltage, V'.format(coil))\n"
   ]
  },
  {
   "cell_type": "code",
   "execution_count": 84,
   "metadata": {
    "ExecuteTime": {
     "end_time": "2019-10-09T12:13:19.271818Z",
     "start_time": "2019-10-09T12:13:19.251847Z"
    }
   },
   "outputs": [],
   "source": [
    "from scipy.optimize import curve_fit"
   ]
  },
  {
   "cell_type": "code",
   "execution_count": 85,
   "metadata": {
    "ExecuteTime": {
     "end_time": "2019-10-09T12:13:19.741796Z",
     "start_time": "2019-10-09T12:13:19.731802Z"
    }
   },
   "outputs": [],
   "source": [
    "def lin_func(x,a,b):\n",
    "    return a*x+b"
   ]
  },
  {
   "cell_type": "code",
   "execution_count": 1003,
   "metadata": {
    "ExecuteTime": {
     "end_time": "2019-10-08T13:10:55.073394Z",
     "start_time": "2019-10-08T13:10:55.053394Z"
    }
   },
   "outputs": [
    {
     "name": "stdout",
     "output_type": "stream",
     "text": [
      "0 12\n"
     ]
    },
    {
     "data": {
      "text/plain": [
       "array([0.00699194, 4.98154851])"
      ]
     },
     "execution_count": 1003,
     "metadata": {},
     "output_type": "execute_result"
    }
   ],
   "source": [
    "print(row_id,colomn_id)\n",
    "p,pcov = curve_fit(lin_func,np.asarray(new_current[row_id][colomn_id]),np.asarray(new_matrix[row_id][colomn_id])/1e9)\n",
    "p"
   ]
  },
  {
   "cell_type": "code",
   "execution_count": 1004,
   "metadata": {
    "ExecuteTime": {
     "end_time": "2019-10-08T13:11:02.142745Z",
     "start_time": "2019-10-08T13:11:02.122742Z"
    }
   },
   "outputs": [
    {
     "data": {
      "text/plain": [
       "[<matplotlib.lines.Line2D at 0x28ac99243c8>]"
      ]
     },
     "execution_count": 1004,
     "metadata": {},
     "output_type": "execute_result"
    }
   ],
   "source": [
    "plt.plot(np.asarray(new_current[row_id][colomn_id]),lin_func(np.asarray(new_current[row_id][colomn_id]),p[0]*1e9,p[1]*1e9))"
   ]
  },
  {
   "cell_type": "markdown",
   "metadata": {},
   "source": [
    "# Qubit frequency setter"
   ]
  },
  {
   "cell_type": "code",
   "execution_count": 20,
   "metadata": {
    "ExecuteTime": {
     "end_time": "2019-10-23T12:31:12.679625Z",
     "start_time": "2019-10-23T12:31:12.670633Z"
    }
   },
   "outputs": [],
   "source": [
    "fqb = lambda x, EJ1, EJ2, EC, phi0, L: (8*EC)**0.5*((EJ1-EJ2)**2*np.sin(np.pi*x*L+phi0*np.pi)**2+(EJ1+EJ2)**2*np.cos(np.pi*x*L+phi0*np.pi)**2)**0.25\n",
    "fq_old  = lambda x, frb, Cc, EJ1, EJ2, EC, phi0, L: (fqb(x, EJ1, EJ2, EC, phi0, L)+frb)*0.5-(((fqb(x, EJ1, EJ2, EC, phi0, L)-frb)*0.5)**2+Cc**2*fqb(x, EJ1, EJ2, EC, phi0, L)*frb)**0.5*np.sign(frb-fqb(x, EJ1, EJ2, EC, phi0, L))\n",
    "\n",
    "fq_new  = lambda x, frb, Cc, EJ1, EJ2, EC, phi0, L: (fqb(x, EJ1, EJ2, EC, phi0, L)+frb)*0.5-(((fqb(x, EJ1, EJ2, EC, phi0, L)-frb)*0.5)**2+Cc**2*fqb(x, EJ1, EJ2, EC, phi0, L)*frb)**0.5*np.sign(frb-fqb(x, EJ1, EJ2, EC, phi0, L))\n",
    "\n",
    "#fq_new  = lambda x, frb, g, EJ1, EJ2, EC, phi0, L: (0.5*(fqb(x, EJ1, EJ2, EC, phi0, L)**2+frb**2+(((fqb(x, EJ1, EJ2, EC, phi0, L)**2-frb**2)**2+frb*fqb(x, EJ1, EJ2, EC, phi0, L)*g**2)**0.5)*np.sign(-frb+fqb(x, EJ1, EJ2, EC, phi0, L))))**0.5\n",
    "def fq_coil_new(p,x):\n",
    "        frb, Cc, EJ1, EJ2, EC, phi0 = p[:6]\n",
    "        L = p[6:]\n",
    "        return fq_new(x, frb, Cc, EJ1, EJ2, EC, phi0, L)/1e9\n",
    "def residualsQ(p):\n",
    "        frb, Cc, EJ1, EJ2, EC, phi0 = p[:6]\n",
    "        L = p[6:]\n",
    "        res = []\n",
    "        for coil_id in range(len(data)):\n",
    "            res.extend((fq_new(x[coil_id], frb, Cc, EJ1, EJ2, EC, phi0, L)/1e9-data[coil_id])*2)\n",
    "        return res"
   ]
  },
  {
   "cell_type": "code",
   "execution_count": 23,
   "metadata": {
    "ExecuteTime": {
     "end_time": "2019-10-24T13:37:14.252950Z",
     "start_time": "2019-10-24T13:37:09.513196Z"
    }
   },
   "outputs": [
    {
     "name": "stdout",
     "output_type": "stream",
     "text": [
      "1 -0.06 5.762999115609369\n",
      "3 -0.08000000000000002 5.1153063212153995\n",
      "4 -0.03890894576849958 5.705616245091984\n",
      "5 -0.03999999999999998 5.681750883808769\n",
      "7 -0.03999999999999998 5.771874270733189\n",
      "8 -0.08000000000000002 5.03864122432198\n",
      "9 -0.03999999999999998 5.742491757033133\n",
      "10 -0.03710373893479244 5.742038960503953\n",
      "11 -0.09999999999999998 5.669825753208826\n",
      "12 -0.03999999999999998 5.7634367338358015\n",
      "13 -0.08000000000000002 5.266646258930126\n",
      "14 -0.10737596972773535 6.771206839170446\n",
      "15 -0.03999999999999997 5.764188152701177\n",
      "16 -0.09999999999999998 5.310782258799694\n",
      "17 -0.08000000000000002 5.0574104517436975\n",
      "18 -0.03999999999999998 5.723763447832414\n",
      "19 -0.08000000000000002 5.178232096839851\n",
      "20 -0.09999999999999998 5.082839393849475\n",
      "21 -0.03999999999999998 5.709178821292288\n",
      "[-0.37706574 -0.42508753 -0.24663422 -0.25271114 -0.25341893 -0.43119999\n",
      " -0.2484771  -0.23382359 -0.53690375 -0.24977019 -0.43167283 -0.5847248\n",
      " -0.24853459 -0.53601453 -0.42322074 -0.24960752 -0.4256812  -0.52711182\n",
      " -0.24979331]\n",
      "[-0.378 -0.426 -0.246 -0.252 -0.254 -0.432 -0.248 -0.234 -0.536 -0.25\n",
      " -0.432 -0.584 -0.248 -0.536 -0.424 -0.25  -0.426 -0.528 -0.25 ]\n",
      "1 -0.060150999999999996 5.763000733641767\n",
      "3 -0.08017219999999999 5.115377038287052\n",
      "4 -0.0388108 5.7055707056417395\n",
      "5 -0.03988680000000001 5.6817300667052555\n",
      "7 -0.040090799999999996 5.7718901707728385\n",
      "8 -0.0801494 5.038700647998455\n",
      "9 -0.039923799999999995 5.74246553947785\n",
      "10 -0.03713100000000001 5.742039401262696\n",
      "11 -0.0998348 5.669787857020851\n",
      "12 -0.0400362 5.763447671737002\n",
      "13 -0.0800606 5.266669380671806\n",
      "14 -0.1072432 6.77120369374734\n",
      "15 -0.039914399999999996 5.76414991810767\n",
      "16 -0.09999600000000002 5.310781993944405\n",
      "17 -0.0801438 5.0574669607250815\n",
      "18 -0.0400618 5.723784267069592\n",
      "19 -0.0800596 5.178254642018745\n",
      "20 -0.1001646 5.0828969732818905\n",
      "21 -0.0400318 5.709189506424841\n"
     ]
    }
   ],
   "source": [
    "#np.linalg.solve(L_mat_pd, []\n",
    "import scipy.optimize\n",
    "target_frequency = 7\n",
    "phi_vector = np.zeros(len(L_mat_pd.index))\n",
    "\n",
    "for qubit_id_, qubit_id in enumerate(L_mat_pd.index):\n",
    "    source=exdir_db_inst.select_measurement(measurement_type='diagonal_two_tone_fit', \n",
    "                                            metadata={'qubit_id':qubit_id,'nndac_channel_id':qubits[qubit_id]['q']['P']['nndac_coil_id'] })\n",
    "    #print(source.metadata)\n",
    "    p0=[float(source.metadata['frb']),float(source.metadata['Cc']),\\\n",
    "            float(source.metadata['EJ1']),float(source.metadata['EJ2']),\\\n",
    "            float(source.metadata['EC']),float(source.metadata['phi0']),float(source.metadata['L']),] \n",
    "    solutions = []\n",
    "    for x0 in np.linspace(-0.5, 0.5, 51)/float(source.metadata['L']):\n",
    "        v = scipy.optimize.root(lambda x: fq_coil_new(p0, np.asarray([x]))[0]-target_frequency, x0)\n",
    "#TWO_x1=np.linspace(3,-1.5,91)\n",
    "#plt.plot(TWO_x1, fq_coil_new(p0,TWO_x1))\n",
    "#fq_coil_new(p0,voltages)\n",
    "    #print (v.x*float(source.metadata['L']))\n",
    "        solutions.append(v.x*float(source.metadata['L']))#/(np.pi)\n",
    "    phi_vector[qubit_id_] = solutions[np.argmin(np.abs(solutions))]\n",
    "    #for i in range(len(phi_vector)):\n",
    "     #   phi_vector[0]\n",
    "    #phi_vector[qubit_id_] -= np.round(phi_vector[qubit_id_])\n",
    "    #phi_vector[qubit_id_] *= 0.5\n",
    "    print (qubit_id, phi_vector[qubit_id_], fq_coil_new(p0, \n",
    "            np.asarray([(phi_vector[qubit_id_])/float(source.metadata['L'])]))[0])\n",
    "#phi_vector[11]=0.25\n",
    "\n",
    "voltage_vector = np.linalg.solve(L_mat_pd, phi_vector)\n",
    "print(voltage_vector)\n",
    "voltage_vector_real=np.round(voltage_vector/2,decimals=3)\n",
    "voltage_vector_real=voltage_vector_real*2\n",
    "phi_vector_real=L_mat_pd@voltage_vector_real\n",
    "print(voltage_vector_real)\n",
    "for qubit_id_, qubit_id in enumerate(L_mat_pd.index):\n",
    "    source=exdir_db_inst.select_measurement(measurement_type='diagonal_two_tone_fit', \n",
    "                                            metadata={'qubit_id':qubit_id,'nndac_channel_id':qubits[qubit_id]['q']['P']['nndac_coil_id'] })\n",
    "    #print(source.metadata)\n",
    "    p0=[float(source.metadata['frb']),float(source.metadata['Cc']),\\\n",
    "            float(source.metadata['EJ1']),float(source.metadata['EJ2']),\\\n",
    "            float(source.metadata['EC']),float(source.metadata['phi0']),float(source.metadata['L']),]\n",
    "    print(qubit_id,phi_vector_real[qubit_id_],fq_coil_new(p0, np.asarray([phi_vector_real[qubit_id_]/float(source.metadata['L'])]))[0])"
   ]
  },
  {
   "cell_type": "code",
   "execution_count": null,
   "metadata": {},
   "outputs": [],
   "source": []
  },
  {
   "cell_type": "code",
   "execution_count": 171,
   "metadata": {
    "ExecuteTime": {
     "end_time": "2019-10-21T16:24:09.538627Z",
     "start_time": "2019-10-21T16:24:09.522622Z"
    }
   },
   "outputs": [],
   "source": [
    "import scipy.optimize\n",
    "target_frequency = 7.0\n",
    "\n",
    "def volt_matrix_anti(freq,control_qubit,const_freq,phi14=0.25):\n",
    "    all_qubits=['1','3','4','5','7','8','9','10','11','12','13','14','15','16','17','18','19','20','21']\n",
    "    phi_vector = np.zeros(len(L_mat_pd.index))\n",
    "    target_freq=const_freq\n",
    "    for _id, qubit_id in enumerate(all_qubits):\n",
    "        if qubit_id in control_qubit:\n",
    "            target_freq=freq\n",
    "        else:\n",
    "            target_freq=const_freq   \n",
    "        source=exdir_db_inst.select_measurement(measurement_type='diagonal_two_tone_fit', \n",
    "                metadata={'qubit_id':qubit_id,'nndac_channel_id':qubits[qubit_id]['q']['P']['nndac_coil_id'] })\n",
    "    #print(source.metadata)\n",
    "        p0=[float(source.metadata['frb']),float(source.metadata['Cc']),\\\n",
    "            float(source.metadata['EJ1']),float(source.metadata['EJ2']),\\\n",
    "            float(source.metadata['EC']),float(source.metadata['phi0']),float(source.metadata['L']),] \n",
    "        solutions = []\n",
    "        for x0 in np.linspace(-0.5, 0.5, 51)/float(source.metadata['L']):\n",
    "            v = scipy.optimize.root(lambda x: fq_coil_new(p0, np.asarray([x]))[0]-target_freq, x0)\n",
    "            solutions.append(v.x*float(source.metadata['L']))#/(np.pi)\n",
    "        phi_vector[_id] = solutions[np.argmin(np.abs(solutions))]\n",
    "\n",
    "        #print (qubit_id, phi_vector[_id], fq_coil_new(p0, \n",
    "            #np.asarray([(phi_vector[_id])/float(source.metadata['L'])]))[0])\n",
    "    #if '14' not in control_qubit:\n",
    "    #phi_vector[11]=phi14\n",
    "    \n",
    "    voltage_vector = np.linalg.solve(L_mat_pd, phi_vector)\n",
    "    print(voltage_vector)\n",
    "    voltage_vector_real=np.round(voltage_vector/2,decimals=3)\n",
    "    voltage_vector_real=voltage_vector_real*2\n",
    "    phi_vector_real=L_mat_pd@voltage_vector_real\n",
    "    print(voltage_vector_real)\n",
    "    for qubit_id_, qubit_id in enumerate(L_mat_pd.index):\n",
    "        source=exdir_db_inst.select_measurement(measurement_type='diagonal_two_tone_fit', \n",
    "                                            metadata={'qubit_id':qubit_id,'nndac_channel_id':qubits[qubit_id]['q']['P']['nndac_coil_id'] })\n",
    "    #print(source.metadata)\n",
    "        p0=[float(source.metadata['frb']),float(source.metadata['Cc']),\\\n",
    "            float(source.metadata['EJ1']),float(source.metadata['EJ2']),\\\n",
    "            float(source.metadata['EC']),float(source.metadata['phi0']),float(source.metadata['L']),]\n",
    "        print(qubit_id,phi_vector_real[qubit_id_],fq_coil_new(p0, np.asarray([phi_vector_real[qubit_id_]/float(source.metadata['L'])]))[0])\n",
    "    return voltage_vector"
   ]
  },
  {
   "cell_type": "code",
   "execution_count": 172,
   "metadata": {
    "ExecuteTime": {
     "end_time": "2019-10-21T16:24:31.775970Z",
     "start_time": "2019-10-21T16:24:27.550994Z"
    }
   },
   "outputs": [
    {
     "name": "stdout",
     "output_type": "stream",
     "text": [
      "[ 1.20156957  0.21785083  1.23230022 -0.25135485 -0.24888935  0.03265735\n",
      " -0.26196296 -0.22640569 -0.57822822 -0.25999629  0.46591195 -0.58581011\n",
      " -0.257132   -0.53811312  0.09052947 -0.25852886  0.33864436  0.06806041\n",
      " -0.25470823]\n",
      "[ 1.202  0.218  1.232 -0.252 -0.248  0.032 -0.262 -0.226 -0.578 -0.26\n",
      "  0.466 -0.586 -0.258 -0.538  0.09  -0.258  0.338  0.068 -0.254]\n",
      "1 0.1956176 4.949604105208364\n",
      "3 0.041469799999999994 4.9499306807092225\n",
      "4 0.19675519999999996 4.950276868780362\n",
      "5 -0.0401024 5.681769477549203\n",
      "7 -0.039859799999999994 5.771849363455231\n",
      "8 0.0065077999999999985 4.950204879888688\n",
      "9 -0.040006799999999995 5.742494090156557\n",
      "10 -0.03706560000000001 5.742038315265664\n",
      "11 -0.1072812 5.670868062011135\n",
      "12 -0.0400016 5.763437217923819\n",
      "13 0.08786540000000001 4.94993581106157\n",
      "14 -0.1079062 6.771215545144792\n",
      "15 -0.040139799999999996 5.764250238241451\n",
      "16 -0.0999764 5.3107806919936245\n",
      "17 0.0154396 4.950185612646622\n",
      "18 -0.039917600000000004 5.7237355485925425\n",
      "19 0.0634184 4.950343671722704\n",
      "20 0.010371000000000002 4.950026805727049\n",
      "21 -0.0398892 5.709141406800627\n"
     ]
    },
    {
     "data": {
      "text/plain": [
       "array([ 1.20156957,  0.21785083,  1.23230022, -0.25135485, -0.24888935,\n",
       "        0.03265735, -0.26196296, -0.22640569, -0.57822822, -0.25999629,\n",
       "        0.46591195, -0.58581011, -0.257132  , -0.53811312,  0.09052947,\n",
       "       -0.25852886,  0.33864436,  0.06806041, -0.25470823])"
      ]
     },
     "execution_count": 172,
     "metadata": {},
     "output_type": "execute_result"
    }
   ],
   "source": [
    "result=volt_matrix_anti(freq=4.95,control_qubit=['1','3','4','8','13','17','19','20'],const_freq=7.03,phi14=0.25)\n",
    "result"
   ]
  },
  {
   "cell_type": "code",
   "execution_count": 280,
   "metadata": {
    "ExecuteTime": {
     "end_time": "2019-10-11T16:07:07.749131Z",
     "start_time": "2019-10-11T16:07:07.019199Z"
    }
   },
   "outputs": [
    {
     "name": "stdout",
     "output_type": "stream",
     "text": [
      "[1.264 0.22  1.278 1.204 1.298 0.044 1.232 1.308 0.696 1.27  0.466 1.376\n",
      " 1.252 0.358 0.086 1.196 0.336 0.054 1.178]\n",
      "1 0.19546219999999997 4.950504272967553\n",
      "3 0.0412912 4.950360744817239\n",
      "4 0.196765 4.950219962796473\n",
      "5 0.1929918 5.0300238319709205\n",
      "7 0.2076338 5.029322669395443\n",
      "8 0.0065474 4.950138330430245\n",
      "9 0.19443899999999997 5.030496414127611\n",
      "10 0.2122482 5.029333965883141\n",
      "11 0.1273022 5.030208681757933\n",
      "12 0.20013279999999997 5.02922530548675\n",
      "13 0.088025 4.949379030805546\n",
      "14 0.2501424 5.578524717571132\n",
      "15 0.1991292 5.029595420370516\n",
      "16 0.07005679999999999 5.029688299420292\n",
      "17 0.015662 4.9497658057832705\n",
      "18 0.1907208 5.0291766846641055\n",
      "19 0.0634944 4.950127125916986\n",
      "20 0.010218599999999998 4.950346710910917\n",
      "21 0.18873779999999998 5.029940603722225\n"
     ]
    }
   ],
   "source": [
    "    voltage_vector_real=np.round(result/2,decimals=3)\n",
    "    voltage_vector_real=voltage_vector_real*2\n",
    "    phi_vector_real=L_mat_pd@voltage_vector_real\n",
    "    print(voltage_vector_real)\n",
    "    for qubit_id_, qubit_id in enumerate(L_mat_pd.index):\n",
    "        source=exdir_db_inst.select_measurement(measurement_type='diagonal_two_tone_fit', \n",
    "                                            metadata={'qubit_id':qubit_id,'nndac_channel_id':qubits[qubit_id]['q']['P']['nndac_coil_id'] })\n",
    "    #print(source.metadata)\n",
    "        p0=[float(source.metadata['frb']),float(source.metadata['Cc']),\\\n",
    "            float(source.metadata['EJ1']),float(source.metadata['EJ2']),\\\n",
    "            float(source.metadata['EC']),float(source.metadata['phi0']),float(source.metadata['L']),]\n",
    "        print(qubit_id,phi_vector_real[qubit_id_],fq_coil_new(p0, np.asarray([phi_vector_real[qubit_id_]/float(source.metadata['L'])]))[0])\n",
    "    "
   ]
  },
  {
   "cell_type": "code",
   "execution_count": 1122,
   "metadata": {
    "ExecuteTime": {
     "end_time": "2019-10-08T15:16:45.629574Z",
     "start_time": "2019-10-08T15:16:44.069722Z"
    }
   },
   "outputs": [
    {
     "name": "stderr",
     "output_type": "stream",
     "text": [
      "C:\\ProgramData\\Anaconda3\\lib\\site-packages\\matplotlib\\pyplot.py:514: RuntimeWarning:\n",
      "\n",
      "More than 20 figures have been opened. Figures created through the pyplot interface (`matplotlib.pyplot.figure`) are retained until explicitly closed and may consume too much memory. (To control this warning, see the rcParam `figure.max_open_warning`).\n",
      "\n"
     ]
    }
   ],
   "source": [
    "for row_id,qubit_id in enumerate(all_qubits):\n",
    "    \n",
    "    if qubit_id=='19':\n",
    "        for colomn_id, coil_id in enumerate(good_resonators):\n",
    "\n",
    "            source=exdir_db_inst.select_measurement(measurement_type='diagonal_two_tone_fit', \n",
    "                                        metadata={'qubit_id':qubit_id,'nndac_channel_id':qubits[qubit_id]['q']['P']['nndac_coil_id'] })\n",
    "        #print(source.metadata)\n",
    "            p0=[float(source.metadata['frb']),float(source.metadata['Cc']),\\\n",
    "                float(source.metadata['EJ1']),float(source.metadata['EJ2']),\\\n",
    "                float(source.metadata['EC']),float(source.metadata['phi0']),float(source.metadata['L']),] \n",
    "            coil_id=good_resonators[colomn_id]\n",
    "            plt.figure(figsize=(9,6))\n",
    "\n",
    "            X=TT_matrix_full[row_id][colomn_id]['X']\n",
    "            Y=TT_matrix_full[row_id][colomn_id]['Y']\n",
    "            Z=TT_matrix_full[row_id][colomn_id]['Z']\n",
    "            _id=TT_matrix_full[row_id][colomn_id]['id']\n",
    "            p_old=TT_matrix_full[row_id][colomn_id]['correct_plot']\n",
    "\n",
    "            #Diagonal two-tone scans\n",
    "            if row_id==colomn_id:\n",
    "                coil=TT_matrix_full[row_id][colomn_id]['metadata']['coil']\n",
    "                fr_diag=fq_coil(p_old[2:],X)\n",
    "                for _id in range(X.shape[0]):\n",
    "                    x_plot1 = (X[_id]-0.025)#*np.pi*p_old[6]+p_old[5]*np.pi\n",
    "                    x_plot2 = (X[_id]+0.025)#*np.pi*p_old[6]+p_old[5]*np.pi\n",
    "                    TTz=Z[_id,:,0].T-np.median(np.real(Z[_id,:,0].T))-1j*np.median(np.imag(Z[_id,:,0].T))\n",
    "                    #print(TTz.shape)\n",
    "                    plt.pcolormesh([x_plot1, x_plot2], Y/1e3+fr_diag[_id],np.abs(TTz).reshape(Y.shape[0],1))\n",
    "                qubit_id=TT_matrix_full[row_id][colomn_id]['metadata']['resonator_id']\n",
    "                coil=TT_matrix_full[row_id][colomn_id]['metadata']['coil']\n",
    "                #plt.plot(matrix_current_fit[row_id][colomn_id],matrix_freq_fit[row_id][colomn_id],'ro')\n",
    "                plt.plot(new_current[row_id][colomn_id], fq_coil_new(p0,new_current[row_id][colomn_id]),'blue',linewidth=3)\n",
    "                plt.plot(new_current[row_id][colomn_id],new_matrix[row_id][colomn_id],'ro')\n",
    "                #a=L_ind_mat_full[row_id][colomn_id]\n",
    "                #b=b_mat_full[row_id][colomn_id]\n",
    "                \n",
    "                plt.title('Main_Coil #{}, qubit{}'.format(coil,qubit_id))\n",
    "            #NON-Diagonal two-tone scans    \n",
    "            else:\n",
    "\n",
    "                main_coil=TT_matrix_full[row_id][colomn_id]['metadata']['main_coil']\n",
    "                coil=TT_matrix_full[row_id][colomn_id]['metadata']['coil']\n",
    "                for _id in range(Z.shape[0]):\n",
    "                    Z[_id,:,0]=Z[_id,:,0]-np.median(np.real(Z[_id,:,0]))-1j*np.median(np.real(Z[_id,:,0]))\n",
    "                plt.pcolormesh(X, Y/1e9, np.imag(Z[:,:,0].T), cmap='RdBu_r')\n",
    "                plt.plot(new_current[row_id][colomn_id],np.asarray(new_matrix[row_id][colomn_id])/1e9,'yellow')\n",
    "                pnew=copy.deepcopy(p0)\n",
    "                pnew[5]=0.25\n",
    "                pnew[6]=L_ind_mat_full[row_id][colomn_id]\n",
    "                plt.plot(new_current[row_id][colomn_id], fq_coil_new(pnew,new_current[row_id][colomn_id]),'blue',linewidth=3)\n",
    "                \n",
    "                plt.title('Main_Coil #{}, qubit{}, coil{},'.format(main_coil,qubit_id,coil))\n",
    "\n",
    "            plt.ylabel('Res #'+qubit_id +'frequency, GHz')\n",
    "            plt.xlabel('Coil #{},Voltage, V'.format(coil))   "
   ]
  },
  {
   "cell_type": "code",
   "execution_count": 186,
   "metadata": {
    "ExecuteTime": {
     "end_time": "2019-10-22T08:11:14.293470Z",
     "start_time": "2019-10-22T08:11:14.141567Z"
    }
   },
   "outputs": [
    {
     "data": {
      "text/plain": [
       "Text(0, 0.5, 'S21')"
      ]
     },
     "execution_count": 186,
     "metadata": {},
     "output_type": "execute_result"
    }
   ],
   "source": [
    "TT=exdir_db_inst.select_measurement(measurement_type='Simple_tone_tone_spectroscopy', \n",
    "                                        metadata={'resonator_id': '1', 'probe_power': '-50.0', 'base_pump_power': '-10.0', 'frequeny_gain': '6.8', 'bw': '10.0', 'fr': '5727550000.0' })\n",
    "\n",
    "\n",
    "Two_z1=TT.datasets['S-parameter'].data[600:]\n",
    "Two_x1=TT.datasets['S-parameter'].parameters[0].values[600:] \n",
    "\n",
    "TTz=Two_z1\n",
    "\n",
    "\n",
    "\n",
    "plt.figure()\n",
    "plt.plot(Two_x1/1e9,(np.abs(TTz[:])))\n",
    "\n",
    "\n",
    "plt.xlabel('Частота, ГГц')\n",
    "plt.ylabel('S21')\n",
    "\n",
    "#plt.savefig('Res #{}.tif'.format('1'),format='tif')\n"
   ]
  },
  {
   "cell_type": "code",
   "execution_count": 178,
   "metadata": {
    "ExecuteTime": {
     "end_time": "2019-10-10T13:28:40.860973Z",
     "start_time": "2019-10-10T13:28:40.700988Z"
    }
   },
   "outputs": [
    {
     "data": {
      "text/plain": [
       "<matplotlib.colorbar.Colorbar at 0x1cb08c5ebe0>"
      ]
     },
     "execution_count": 178,
     "metadata": {},
     "output_type": "execute_result"
    }
   ],
   "source": [
    "qubit_id='11'\n",
    "Q11=exdir_db_inst.select_measurement(measurement_type='Single_two_tone_spectroscopy', \n",
    "                                        metadata={'resonator_id':qubit_id,'probe_power': -51.0,'base_pump_power':-7.0, 'bw':2.0, 'Array_frequency': 5.0 })\n",
    "#qubit_id='3'\n",
    "#Q11=exdir_db_inst.select_measurement(measurement_type='Single_two_tone_spectroscopy', \n",
    "                                        #metadata={'resonator_id':qubit_id,'probe_power': -50.0,'base_pump_power':0.0, 'bw':3.0, 'Array_frequency': 5.0 })\n",
    "    \n",
    "\n",
    "Two_z1=Q11.datasets['S-parameter'].data[:,10:,:]\n",
    "Two_x1=Q11.datasets['S-parameter'].parameters[1].values[10:] \n",
    "Two_y1=Q11.datasets['S-parameter'].parameters[0].values[:]\n",
    "TTz=Two_z1\n",
    "for _id in range(Two_y1.shape[0]):\n",
    "    TTz[_id,:,0]=Two_z1[_id,:,0]-np.median(np.real(Two_z1[_id,:,0]))-1j*np.median(np.imag(Two_z1[_id,:,0]))\n",
    "\n",
    "\n",
    "plt.figure()\n",
    "plt.pcolormesh(Two_x1,Two_y1,(np.abs(TTz[:,:,0])))\n",
    "plt.colorbar()"
   ]
  },
  {
   "cell_type": "code",
   "execution_count": 158,
   "metadata": {
    "ExecuteTime": {
     "end_time": "2019-10-10T12:15:55.860879Z",
     "start_time": "2019-10-10T12:15:55.850900Z"
    }
   },
   "outputs": [
    {
     "data": {
      "text/plain": [
       "(76, 146)"
      ]
     },
     "execution_count": 158,
     "metadata": {},
     "output_type": "execute_result"
    }
   ],
   "source": [
    "Two_z1.shape"
   ]
  },
  {
   "cell_type": "code",
   "execution_count": 179,
   "metadata": {
    "ExecuteTime": {
     "end_time": "2019-10-10T13:30:18.051900Z",
     "start_time": "2019-10-10T13:30:17.891921Z"
    }
   },
   "outputs": [
    {
     "data": {
      "text/plain": [
       "<matplotlib.colorbar.Colorbar at 0x1cb0922c128>"
      ]
     },
     "execution_count": 179,
     "metadata": {},
     "output_type": "execute_result"
    }
   ],
   "source": [
    "qubit_id='11'\n",
    "Q11=exdir_db_inst.select_measurement(measurement_type='Single_two_tone_spectroscopy', \n",
    "                                        metadata={'resonator_id':qubit_id,'probe_power': -45.0,'base_pump_power':-7.0, 'bw':2.0, 'Array_frequency': 5.0 })\n",
    "#qubit_id='3'\n",
    "#Q11=exdir_db_inst.select_measurement(measurement_type='Single_two_tone_spectroscopy', \n",
    "                                        #metadata={'resonator_id':qubit_id,'probe_power': -50.0,'base_pump_power':0.0, 'bw':3.0, 'Array_frequency': 5.0 })\n",
    "    \n",
    "\n",
    "Two_z1=Q11.datasets['S-parameter'].data[:,10:,:]\n",
    "Two_x1=Q11.datasets['S-parameter'].parameters[1].values[10:] \n",
    "Two_y1=Q11.datasets['S-parameter'].parameters[0].values[:]\n",
    "TTz=Two_z1\n",
    "for _id in range(Two_y1.shape[0]):\n",
    "    TTz[_id,:,0]=Two_z1[_id,:,0]-np.median(np.real(Two_z1[_id,:,0]))-1j*np.median(np.imag(Two_z1[_id,:,0]))\n",
    "\n",
    "\n",
    "plt.figure()\n",
    "plt.pcolormesh(Two_x1,Two_y1,(np.angle(TTz[:,:,0])))\n",
    "plt.colorbar()"
   ]
  },
  {
   "cell_type": "code",
   "execution_count": 225,
   "metadata": {
    "ExecuteTime": {
     "end_time": "2019-10-11T13:02:46.258776Z",
     "start_time": "2019-10-11T13:02:45.998816Z"
    }
   },
   "outputs": [
    {
     "data": {
      "text/plain": [
       "<matplotlib.colorbar.Colorbar at 0x1cb0f8e14a8>"
      ]
     },
     "execution_count": 225,
     "metadata": {},
     "output_type": "execute_result"
    }
   ],
   "source": []
  },
  {
   "cell_type": "markdown",
   "metadata": {},
   "source": [
    "# Full chain two-tone fit"
   ]
  },
  {
   "cell_type": "code",
   "execution_count": null,
   "metadata": {},
   "outputs": [],
   "source": []
  },
  {
   "cell_type": "code",
   "execution_count": null,
   "metadata": {},
   "outputs": [],
   "source": [
    "num_resonators = 24#2\n",
    "\n",
    "L_mat =-0.2\n",
    "phi0 = 0.07\n",
    "\n",
    "fitresults_vec=[]\n",
    "#for resonator_id in range(num_resonators):\n",
    "for _id, qubit_id  in enumerate(Q_ids):\n",
    "    initial_guess = {'L':L_mat,#np.identity(num_resonators)*0.3-0.01, # initial guess for inductance matrix\n",
    "                     'phi0':phi0,#-np.ones(num_resonators)*0.1, # initial guess for residual flux\n",
    "                     'frb':np.mean(max_dev_row[_id])*1e9,\n",
    "                     #'frb':[6.85e9, 7.15e9, 7.00e9],\n",
    "                     'EC':0.175e9,\n",
    "                     'EJ1':18.8e9,\n",
    "                     'EJ2':3.6e9,\n",
    "                     'g':40e6}\n",
    "    data = max_dev_row_diag[_id] \n",
    "    x = coil_value_row_diag[_id]\n",
    "    def fr_coil(p,x):\n",
    "        frb, g, EJ1, EJ2, EC, phi0 = p[:6]\n",
    "        L = p[6:]\n",
    "        return fr(x, frb, g, EJ1, EJ2, EC, phi0, L)/1e9\n",
    "    def residuals(p):\n",
    "        frb, g, EJ1, EJ2, EC, phi0 = p[:6]\n",
    "        L = p[6:]\n",
    "        res = []\n",
    "        for coil_id in range(len(data)):\n",
    "            res.extend((fr(x[coil_id], frb, g, EJ1, EJ2, EC, phi0, L)/1e9-data[coil_id])*3)\n",
    "        return res\n",
    "        #res=(fr(x, frb, g, EJ1, EJ2, EC, phi0, L)/1e9-data)*3\n",
    "        #return res\n",
    "    from scipy.optimize import least_squares\n",
    "\n",
    "    p0 = (initial_guess['frb'], \n",
    "          initial_guess['g'], \n",
    "          initial_guess['EJ1'], \n",
    "          initial_guess['EJ2'], \n",
    "          initial_guess['EC'], \n",
    "          initial_guess['phi0'],\n",
    "          initial_guess['L'])\n",
    "          \n",
    "\n",
    "    bounds = ((0,      0,      0,      0,   0, -np.pi,-np.inf),\n",
    "              (np.inf, np.inf, np.inf, np.inf,  np.inf,  np.pi, np.inf))\n",
    "    fitresults = least_squares(residuals, p0, x_scale=np.abs(p0), bounds=bounds)\n",
    "    fitresults_vec.append(fitresults)\n",
    "    #phi0_vec.append(fitresults.x[5])\n",
    "    L_fit=fitresults.x[:]\n",
    "    print(L_fit)\n",
    "    #print (fitresults.x)"
   ]
  },
  {
   "cell_type": "code",
   "execution_count": null,
   "metadata": {},
   "outputs": [],
   "source": []
  },
  {
   "cell_type": "code",
   "execution_count": null,
   "metadata": {},
   "outputs": [],
   "source": []
  },
  {
   "cell_type": "code",
   "execution_count": null,
   "metadata": {},
   "outputs": [],
   "source": []
  },
  {
   "cell_type": "code",
   "execution_count": null,
   "metadata": {},
   "outputs": [],
   "source": []
  },
  {
   "cell_type": "code",
   "execution_count": 236,
   "metadata": {
    "ExecuteTime": {
     "end_time": "2019-10-11T13:08:38.235861Z",
     "start_time": "2019-10-11T13:08:37.925907Z"
    }
   },
   "outputs": [
    {
     "data": {
      "text/plain": [
       "<matplotlib.colorbar.Colorbar at 0x1cb08e74128>"
      ]
     },
     "execution_count": 236,
     "metadata": {},
     "output_type": "execute_result"
    }
   ],
   "source": [
    "qubit_id='3'\n",
    "\n",
    "Q11=exdir_db_inst.select_measurement(measurement_type='Single_two_tone_spectroscopy', \n",
    "                                        metadata={'resonator_id':qubit_id,'probe_power': -55.0,'base_pump_power':-10.0, 'bw':2.0, 'Array_frequency': 5.1 })\n",
    "#qubit_id='3'\n",
    "#Q11=exdir_db_inst.select_measurement(measurement_type='Single_two_tone_spectroscopy', \n",
    "                                        #metadata={'resonator_id':qubit_id,'probe_power': -50.0,'base_pump_power':0.0, 'bw':3.0, 'Array_frequency': 5.0 })\n",
    "    \n",
    "\n",
    "Two_z1=Q11.datasets['S-parameter'].data[:,10:,:]\n",
    "Two_x1=Q11.datasets['S-parameter'].parameters[1].values[10:] \n",
    "Two_y1=Q11.datasets['S-parameter'].parameters[0].values[:]\n",
    "TTz=Two_z1\n",
    "for _id in range(Two_y1.shape[0]):\n",
    "    TTz[_id,:,0]=Two_z1[_id,:,0]-np.median(np.real(Two_z1[_id,:,0]))-1j*np.median(np.imag(Two_z1[_id,:,0]))\n",
    "\n",
    "\n",
    "plt.figure()\n",
    "plt.pcolormesh(Two_x1,Two_y1,(np.abs(TTz[:,:,0])))\n",
    "#plt.colorbar()\n",
    "\n",
    "\n",
    "\n",
    "Q12=exdir_db_inst.select_measurement(measurement_type='Single_two_tone_spectroscopy', \n",
    "                                        metadata={'resonator_id':qubit_id,'probe_power': -55.0,'base_pump_power':-15.0, 'bw':2.0, 'Array_frequency': 5.1 })\n",
    "#qubit_id='3'\n",
    "#Q11=exdir_db_inst.select_measurement(measurement_type='Single_two_tone_spectroscopy', \n",
    "                                        #metadata={'resonator_id':qubit_id,'probe_power': -50.0,'base_pump_power':0.0, 'bw':3.0, 'Array_frequency': 5.0 })\n",
    "    \n",
    "\n",
    "Two_z2=Q12.datasets['S-parameter'].data[:,:,:]\n",
    "Two_x2=Q12.datasets['S-parameter'].parameters[1].values[:] \n",
    "Two_y2=Q12.datasets['S-parameter'].parameters[0].values[:]\n",
    "TTz2=Two_z2\n",
    "for _id in range(Two_y2.shape[0]):\n",
    "    TTz2[_id,:,0]=Two_z2[_id,:,0]-np.median(np.real(Two_z2[_id,:,0]))-1j*np.median(np.imag(Two_z2[_id,:,0]))\n",
    "\n",
    "\n",
    "#plt.figure()\n",
    "plt.pcolormesh(Two_x2,Two_y2,(np.abs(TTz2[:,:,0])))\n",
    "plt.colorbar()"
   ]
  },
  {
   "cell_type": "code",
   "execution_count": 395,
   "metadata": {
    "ExecuteTime": {
     "end_time": "2019-10-14T11:26:35.807870Z",
     "start_time": "2019-10-14T11:26:35.767875Z"
    }
   },
   "outputs": [
    {
     "ename": "IndexError",
     "evalue": "list index out of range",
     "output_type": "error",
     "traceback": [
      "\u001b[1;31m---------------------------------------------------------------------------\u001b[0m",
      "\u001b[1;31mIndexError\u001b[0m                                Traceback (most recent call last)",
      "\u001b[1;32m<ipython-input-395-dd5606bef676>\u001b[0m in \u001b[0;36m<module>\u001b[1;34m()\u001b[0m\n\u001b[0;32m      6\u001b[0m     \u001b[0mbase_pump_power\u001b[0m\u001b[1;33m=\u001b[0m\u001b[1;33m-\u001b[0m\u001b[1;36m5.0\u001b[0m\u001b[1;33m\u001b[0m\u001b[0m\n\u001b[0;32m      7\u001b[0m Q11=exdir_db_inst.select_measurement(measurement_type='Single_two_tone_spectroscopy', \n\u001b[1;32m----> 8\u001b[1;33m                                         metadata={'qubit_id': qubit_id,'resonator_id':resonator_id,'probe_power': -55.0,'base_pump_power':base_pump_power, 'bw':2.0, 'Array_frequency': 5.1 })\n\u001b[0m\u001b[0;32m      9\u001b[0m \u001b[1;31m#qubit_id='3'\u001b[0m\u001b[1;33m\u001b[0m\u001b[1;33m\u001b[0m\u001b[0m\n\u001b[0;32m     10\u001b[0m \u001b[1;31m#Q11=exdir_db_inst.select_measurement(measurement_type='Single_two_tone_spectroscopy',\u001b[0m\u001b[1;33m\u001b[0m\u001b[1;33m\u001b[0m\u001b[0m\n",
      "\u001b[1;32mC:\\qtlab_replacement\\qsweepy\\ponyfiles\\exdir_db.py\u001b[0m in \u001b[0;36mselect_measurement\u001b[1;34m(self, measurement_type, metadata, references_this, references_that, ignore_invalidation)\u001b[0m\n\u001b[0;32m    100\u001b[0m                                                           ignore_invalidation=ignore_invalidation)\n\u001b[0;32m    101\u001b[0m \u001b[1;33m\u001b[0m\u001b[0m\n\u001b[1;32m--> 102\u001b[1;33m         \u001b[0mfile_to_load\u001b[0m \u001b[1;33m=\u001b[0m \u001b[0mlist\u001b[0m\u001b[1;33m(\u001b[0m\u001b[0mmeasurement_db_list\u001b[0m\u001b[1;33m.\u001b[0m\u001b[0morder_by\u001b[0m\u001b[1;33m(\u001b[0m\u001b[1;32mlambda\u001b[0m \u001b[0md\u001b[0m\u001b[1;33m:\u001b[0m \u001b[0mdesc\u001b[0m\u001b[1;33m(\u001b[0m\u001b[0md\u001b[0m\u001b[1;33m.\u001b[0m\u001b[0mid\u001b[0m\u001b[1;33m)\u001b[0m\u001b[1;33m)\u001b[0m\u001b[1;33m.\u001b[0m\u001b[0mlimit\u001b[0m\u001b[1;33m(\u001b[0m\u001b[1;36m1\u001b[0m\u001b[1;33m)\u001b[0m\u001b[1;33m)\u001b[0m\u001b[1;33m[\u001b[0m\u001b[1;36m0\u001b[0m\u001b[1;33m]\u001b[0m\u001b[1;33m.\u001b[0m\u001b[0mfilename\u001b[0m\u001b[1;33m\u001b[0m\u001b[0m\n\u001b[0m\u001b[0;32m    103\u001b[0m         \u001b[1;32mreturn\u001b[0m \u001b[0msave_exdir\u001b[0m\u001b[1;33m.\u001b[0m\u001b[0mload_exdir\u001b[0m\u001b[1;33m(\u001b[0m\u001b[0mfile_to_load\u001b[0m\u001b[1;33m,\u001b[0m \u001b[0mdb\u001b[0m\u001b[1;33m=\u001b[0m\u001b[0mself\u001b[0m\u001b[1;33m.\u001b[0m\u001b[0mdb\u001b[0m\u001b[1;33m)\u001b[0m\u001b[1;33m\u001b[0m\u001b[0m\n\u001b[0;32m    104\u001b[0m \u001b[1;33m\u001b[0m\u001b[0m\n",
      "\u001b[1;31mIndexError\u001b[0m: list index out of range"
     ]
    }
   ],
   "source": [
    "qubit_id='9'\n",
    "resonator_id='22'\n",
    "base_pump_power=-7.0\n",
    "if qubit_id=='3':\n",
    "    resonator_id='3'\n",
    "    base_pump_power=-5.0\n",
    "Q11=exdir_db_inst.select_measurement(measurement_type='Single_two_tone_spectroscopy', \n",
    "                                        metadata={'qubit': qubit_id,'resonator_id':resonator_id,'probe_power': -55.0,'base_pump_power':base_pump_power, 'bw':2.0, 'Array_frequency': 5.1 })\n",
    "#qubit_id='3'\n",
    "#Q11=exdir_db_inst.select_measurement(measurement_type='Single_two_tone_spectroscopy', \n",
    "                                        #metadata={'resonator_id':qubit_id,'probe_power': -50.0,'base_pump_power':0.0, 'bw':3.0, 'Array_frequency': 5.0 })\n",
    "    \n",
    "\n",
    "Two_z1=Q11.datasets['S-parameter'].data[:,:,:]\n",
    "Two_x1=Q11.datasets['S-parameter'].parameters[1].values[:] \n",
    "Two_y1=Q11.datasets['S-parameter'].parameters[0].values[:]\n",
    "TTz=Two_z1\n",
    "for _id in range(Two_y1.shape[0]):\n",
    "    TTz[_id,:,0]=Two_z1[_id,:,0]-np.median(np.real(Two_z1[_id,:,0]))-1j*np.median(np.imag(Two_z1[_id,:,0]))\n",
    "\n",
    "\n",
    "plt.figure()\n",
    "plt.pcolormesh(Two_x1,Two_y1,(np.abs(TTz[:,:,0])))\n",
    "plt.colorbar()"
   ]
  },
  {
   "cell_type": "code",
   "execution_count": null,
   "metadata": {},
   "outputs": [],
   "source": []
  },
  {
   "cell_type": "markdown",
   "metadata": {},
   "source": [
    "# Qubit 14     "
   ]
  },
  {
   "cell_type": "code",
   "execution_count": null,
   "metadata": {},
   "outputs": [],
   "source": [
    "Q11=exdir_db_inst.select_measurement(measurement_type='Single_two_tone_spectroscopy', \n",
    "                                        metadata={'qubit': qubit_id,'In1':'channel_2',})"
   ]
  },
  {
   "cell_type": "code",
   "execution_count": 141,
   "metadata": {
    "ExecuteTime": {
     "end_time": "2019-10-21T15:00:13.883885Z",
     "start_time": "2019-10-21T15:00:13.692999Z"
    }
   },
   "outputs": [
    {
     "data": {
      "text/plain": [
       "<matplotlib.colorbar.Colorbar at 0x1c908a53e80>"
      ]
     },
     "execution_count": 141,
     "metadata": {},
     "output_type": "execute_result"
    }
   ],
   "source": [
    "qubit_id='22'\n",
    "R22=exdir_db_inst.select_measurement(measurement_type='resonator_anticrossing', \n",
    "                                        metadata={'qubit': qubit_id,'In1':'channel_2',})\n",
    "\n",
    "Two_z1=R22.datasets['S-parameter'].data[:,:]\n",
    "Two_x1=R22.datasets['S-parameter'].parameters[1].values[:] \n",
    "Two_y1=R22.datasets['S-parameter'].parameters[0].values[:]\n",
    "TTz=Two_z1\n",
    "for _id in range(Two_y1.shape[0]):\n",
    "    TTz[_id,:]=Two_z1[_id,:]-np.median(np.real(Two_z1[_id,:]))-1j*np.median(np.imag(Two_z1[_id,:]))\n",
    "plt.pcolormesh(Two_y1[:],Two_x1[:],(np.abs(TTz[:,:]).T)) \n",
    "\n",
    "\n",
    "\n",
    "\n",
    "plt.ylabel('Частота, ГГц')\n",
    "plt.xlabel('Напряжение, В')\n",
    "plt.colorbar()\n",
    "#plt.savefig('Res #{}, Coil #{}.tif'.format(qubit_id,coil),format='tif')"
   ]
  },
  {
   "cell_type": "code",
   "execution_count": 169,
   "metadata": {
    "ExecuteTime": {
     "end_time": "2019-10-21T15:56:18.844738Z",
     "start_time": "2019-10-21T15:56:18.581861Z"
    }
   },
   "outputs": [],
   "source": [
    "qubit_id='22'\n",
    "R22=exdir_db_inst.select_measurement(measurement_type='resonator_anticrossing', \n",
    "                                        metadata={'qubit': qubit_id,'pna_power':-50.0,'In1':'channel_2',})\n",
    "\n",
    "Two_z1=R22.datasets['S-parameter'].data[:,:]\n",
    "Two_x1=R22.datasets['S-parameter'].parameters[1].values[:] \n",
    "Two_y1=R22.datasets['S-parameter'].parameters[0].values[:]\n",
    "TTz=Two_z1\n",
    "#for _id in range(Two_y1.shape[0]):\n",
    "    #TTz[_id,:]=Two_z1[_id,:]-np.median(np.real(Two_z1[_id,:]))-1j*np.median(np.imag(Two_z1[_id,:]))\n",
    "plt.pcolormesh(Two_y1[:],Two_x1[:],(np.abs(TTz[:,:]).T)) \n",
    "\n",
    "\n",
    "\n",
    "\n",
    "plt.ylabel('Частота, ГГц')\n",
    "plt.xlabel('Напряжение, В')\n",
    "#plt.colorbar()\n",
    "plt.savefig('Res #{}, Coil #{}.tif'.format(qubit_id,coil),format='tif')"
   ]
  },
  {
   "cell_type": "code",
   "execution_count": null,
   "metadata": {},
   "outputs": [],
   "source": [
    "qubit: '22'\n",
    "pna_power: '-50.0'\n",
    "nndac_channel_id: '12'\n",
    "In1: channel_2"
   ]
  },
  {
   "cell_type": "markdown",
   "metadata": {},
   "source": [
    "# Fit anticrossing main resonator 14 qubit"
   ]
  },
  {
   "cell_type": "code",
   "execution_count": null,
   "metadata": {},
   "outputs": [],
   "source": [
    "\n",
    "def data_abs(meas):\n",
    "    for i in range(len(meas)):\n",
    "        meas[i]=meas[i]-np.median(np.real(meas[i]))-1j*np.median(np.imag(meas[i]))\n",
    "    return meas\n",
    "def two_tone1_fit_points(x,fit_params):\n",
    "    frb, Cc, EJ1, EJ2, EC, phi0,fqL, CcL, L= fit_params\n",
    "    return fq_q1(x,frb, Cc, EJ1, EJ2, EC, phi0,fqL, CcL,L)\n",
    "def two_tone2_fit_points(x,fit_params):\n",
    "    frb, Cc, EJ1, EJ2, EC, phi0,fqL, CcL, fqR, CcR, L= fit_params\n",
    "    return fq_q2(x,frb, Cc, EJ1, EJ2, EC, phi0,fqL, CcL, fqR, CcR, L)\n",
    "def fq_coil(p,x):\n",
    "    frb, Cc, EJ1, EJ2, EC, phi0 = p[:6]\n",
    "    L = p[-1]\n",
    "    return fq_r(x, frb, Cc, EJ1, EJ2, EC, phi0, L)/1e9\n",
    "def find_freqs_abs(data,Y):\n",
    "    arg=[np.argmax((np.abs(data.T)-np.mean(np.abs(data.T)))[:,i]) for i in range(len(data))]\n",
    "    return Y[arg]\n",
    "def find_freqs_min(data,Y):\n",
    "    arg=[np.argmin(data[i]) for i in range(len(data))]\n",
    "#     print(arg)\n",
    "    return Y[arg]\n",
    "def fq_coil_qubit1(p,x):\n",
    "    frb, Cc, EJ1, EJ2, EC, phi0 ,fqL, CcL= p[:8]\n",
    "    L = p[-1]\n",
    "    return fq_q1(x, frb, Cc, EJ1, EJ2, EC, phi0, fqL, CcL,L)/1e9\n",
    "def fq_coil_qubit2(p,x):\n",
    "    frb, Cc, EJ1, EJ2, EC, phi0 ,fqL, CcL,fqR, CcR,= p[:10]\n",
    "    L = p[-1]\n",
    "    return fq_q2(x, frb, Cc, EJ1, EJ2, EC, phi0, fqL, CcL,fqR, CcR,L)/1e9\n",
    "fq_q2  = lambda x, frb, Cc, EJ1, EJ2, EC, phi0,fqL, CcL, fqR, CcR, L: (fq_q1(x, frb, Cc,EJ1, EJ2, EC, phi0,fqL, CcL, L)+fqR)*0.5-(((fq_q1(x, frb, Cc, EJ1, EJ2, EC, phi0, fqL, CcL, L)-fqR)*0.5)**2+CcR**2*fq_q1(x, frb,Cc, EJ1, EJ2, EC, phi0, fqL, CcL, L)*fqR)**0.5*np.sign(fqR-fq_q1(x, frb, Cc,EJ1, EJ2, EC, phi0, fqL, CcL, L))\n",
    "fq_q1  = lambda x, frb, Cc, EJ1, EJ2, EC, phi0,fqL, CcL, L: (fq_r(x, frb, Cc,EJ1, EJ2, EC, phi0, L)+fqL)*0.5-(((fq_r(x, frb, Cc, EJ1, EJ2, EC, phi0, L)-fqL)*0.5)**2+CcL**2*fq_r(x, frb,Cc, EJ1, EJ2, EC, phi0, L)*fqL)**0.5*np.sign(fqL-fq_r(x, frb, Cc,EJ1, EJ2, EC, phi0, L))\n",
    "fq_r  = lambda x, frb, Cc, EJ1, EJ2, EC, phi0,L: (fqb(x, EJ1, EJ2, EC, phi0, L)+frb)*0.5-(((fqb(x, EJ1, EJ2, EC, phi0, L)-frb)*0.5)**2+Cc**2*fqb(x, EJ1, EJ2, EC, phi0, L)*frb)**0.5*np.sign(frb-fqb(x, EJ1, EJ2, EC, phi0, L))\n",
    "fqb = lambda x, EJ1, EJ2, EC, phi0, L: (8*EC)**0.5*((EJ1-EJ2)**2*np.sin(np.pi*x*L+phi0*np.pi)**2+(EJ1+EJ2)**2*np.cos(np.pi*x*L+phi0*np.pi)**2)**0.25\n"
   ]
  },
  {
   "cell_type": "code",
   "execution_count": null,
   "metadata": {},
   "outputs": [],
   "source": [
    "flux=lambda xVec,LVec,phi0: np.pi*np.sum(xVec*LVec)+np.pi*phi0\n",
    "\n",
    "Fq_q2  = lambda xVec, frb, Cc, EJ1, EJ2, EC, phi0,fqL, CcL, fqR, CcR, LVec: (fq_q1(x, frb, Cc,EJ1, EJ2, EC, phi0,fqL, CcL, L)+fqR)*0.5-(((fq_q1(x, frb, Cc, EJ1, EJ2, EC, phi0, fqL, CcL, L)-fqR)*0.5)**2+CcR**2*fq_q1(x, frb,Cc, EJ1, EJ2, EC, phi0, fqL, CcL, L)*fqR)**0.5*np.sign(fqR-fq_q1(x, frb, Cc,EJ1, EJ2, EC, phi0, fqL, CcL, L))\n",
    "Fq_q1  = lambda xVec, frb, Cc, EJ1, EJ2, EC, phi0,fqL, CcL, LVec: (fq_r(x, frb, Cc,EJ1, EJ2, EC, phi0, L)+fqL)*0.5-(((fq_r(x, frb, Cc, EJ1, EJ2, EC, phi0, L)-fqL)*0.5)**2+CcL**2*fq_r(x, frb,Cc, EJ1, EJ2, EC, phi0, L)*fqL)**0.5*np.sign(fqL-fq_r(x, frb, Cc,EJ1, EJ2, EC, phi0, L))\n",
    "Fq_r  = lambda xVec, frb, Cc, EJ1, EJ2, EC, phi0,LVec: (fqb(x, EJ1, EJ2, EC, phi0, L)+frb)*0.5-(((fqb(x, EJ1, EJ2, EC, phi0, L)-frb)*0.5)**2+Cc**2*fqb(x, EJ1, EJ2, EC, phi0, L)*frb)**0.5*np.sign(frb-fqb(x, EJ1, EJ2, EC, phi0, L))\n",
    "Fqb = lambda xVec, EJ1, EJ2, EC, phi0, LVec: (8*EC)**0.5*((EJ1-EJ2)**2*np.sin(flux(xVec,LVec,phi0))**2+(EJ1+EJ2)**2*np.cos(flux(xVec,LVec,phi0))**2)**0.25\n"
   ]
  },
  {
   "cell_type": "code",
   "execution_count": null,
   "metadata": {},
   "outputs": [],
   "source": [
    "Fq_q1  = lambda xVec,EJ1, EJ2, EC, phi0, LVec,  CcL, EJ1L, EJ2L, ECL, phi0L, LVecL, : (fqb(x, EJ1, EJ2, EC, phi0, LVec)+fqbL)*0.5-(((fqb(x, EJ1, EJ2, EC, phi0, L)-fqL)*0.5)**2+CcL**2*fqb(x, EJ1, EJ2, EC, phi0, L)*fqL)**0.5*np.sign(fqL(xVecL, EJ1L, EJ2L, ECL, phi0L, LVec)-fqb(x, EJ1, EJ2, EC, phi0, L))\n",
    "Fqb = lambda xVec, EJ1, EJ2, EC, phi0, LVec: (8*EC)**0.5*((EJ1-EJ2)**2*np.sin(flux(xVec,LVec,phi0))**2+(EJ1+EJ2)**2*np.cos(flux(xVec,LVec,phi0))**2)**0.25\n",
    "FqbL = lambda xVec, EJ1, EJ2, EC, phi0, LVec: (8*EC)**0.5*((EJ1-EJ2)**2*np.sin(flux(xVec,LVec,phi0))**2+(EJ1+EJ2)**2*np.cos(flux(xVec,LVec,phi0))**2)**0.25\n"
   ]
  },
  {
   "cell_type": "code",
   "execution_count": 53,
   "metadata": {
    "ExecuteTime": {
     "end_time": "2019-11-12T09:53:25.484081Z",
     "start_time": "2019-11-12T09:53:25.475086Z"
    }
   },
   "outputs": [
    {
     "data": {
      "text/plain": [
       "(1.0, 3.2)"
      ]
     },
     "execution_count": 53,
     "metadata": {},
     "output_type": "execute_result"
    }
   ],
   "source": [
    "Lmat=np.array([[1,0.1,0],[0.1,1,0.1],[0,0.1,1]])\n",
    "xVec=np.array([2,3,0])\n",
    "Lmat.shape,xVec.shape\n",
    "\n",
    "Lmat[0,0],np.matmul(xVec,Lmat[1,:].T)"
   ]
  },
  {
   "cell_type": "code",
   "execution_count": 55,
   "metadata": {
    "ExecuteTime": {
     "end_time": "2019-11-12T09:53:59.038269Z",
     "start_time": "2019-11-12T09:53:59.032274Z"
    }
   },
   "outputs": [
    {
     "data": {
      "text/plain": [
       "3.2"
      ]
     },
     "execution_count": 55,
     "metadata": {},
     "output_type": "execute_result"
    }
   ],
   "source": [
    "L_mat = np.asarray([[1, 0.1, 0, 0, 0, 0, 0, 0, 0, 0, 0],\n",
    "                    [0.1, 1, 0.1, 0, 0, 0, 0, 0, 0, 0, 0],\n",
    "                    [0, 0.1, 1, 0.1, 0, 0, 0, 0, 0, 0, 0],\n",
    "                    [0, 0, 0.1, 1, 0.1, 0, 0, 0, 0, 0, 0],\n",
    "                    [0, 0, 0, 0.1, 1, 0.1, 0, 0, 0, 0, 0],\n",
    "                    [0, 0, 0, 0, 0.1, 1, 0.1, 0, 0, 0, 0],\n",
    "                    [0, 0, 0, 0, 0, 0.1, 1, 0.1, 0, 0, 0],\n",
    "                    [0, 0, 0, 0, 0, 0, 0.1, 1, 0.1, 0, 0],\n",
    "                    [0, 0, 0, 0, 0, 0, 0, 0.1, 1, 0.1, 0],\n",
    "                    [0, 0, 0, 0, 0, 0, 0, 0, 0.1, 1, 0.1],\n",
    "                    [0, 0, 0, 0, 0, 0, 0, 0, 0, 0.1, 1]])\n",
    "phi0 = np.asarray([0.08, 0.08, 0.08, 0.08, 0.08, 0.08, 0.08, 0.08, 0.08, 0.08, 0.08])\n",
    "Cr\n",
    "Cq1\n",
    "Cq12\n",
    "Cq\n",
    "Cqq1\n",
    "Cqq2\n",
    "Cq11\n",
    "Cq1011\n"
   ]
  },
  {
   "cell_type": "code",
   "execution_count": null,
   "metadata": {},
   "outputs": [],
   "source": []
  },
  {
   "cell_type": "code",
   "execution_count": null,
   "metadata": {},
   "outputs": [],
   "source": []
  },
  {
   "cell_type": "code",
   "execution_count": null,
   "metadata": {},
   "outputs": [],
   "source": []
  },
  {
   "cell_type": "code",
   "execution_count": null,
   "metadata": {},
   "outputs": [],
   "source": [
    "num_resonators = 5#2\n",
    "\n",
    "L_mat = np.asarray([[-0.2, 0.1, -0.8, -0.1, 0.1],\n",
    "                    [0.15, 0.2, 0.6, -0.05, -0.05],\n",
    "                    [-0.1, -0.1, -0.5, 0.1, 0.2],\n",
    "                    [-0.1, -0.1, -0.57, -0.1, 0.01],\n",
    "                    [-0.1, 0.2, 0.5, 0.01, 0.2]])\n",
    "phi0 = np.asarray([0.07, 0.01, 0.5, 0.01, 0.01])\n",
    "\n",
    "initial_guess = {'L':L_mat,#np.identity(num_resonators)*0.3-0.01, # initial guess for inductance matrix\n",
    "                     'phi0':phi0,#-np.ones(num_resonators)*0.1, # initial guess for residual flux\n",
    "                     'frb':np.mean(max_dev_matrix, axis=(0,2))*1e9,\n",
    "                     #'frb':[6.85e9, 7.15e9, 7.00e9],\n",
    "                     'EC':0.175e9,\n",
    "                     'EJ1':18.8e9,\n",
    "                     'EJ2':3.6e9,\n",
    "                     'g':40e6}\n",
    "\n",
    "phi0_vec = []\n",
    "L_mat = []\n",
    "fitresults_vec = []\n",
    "for resonator_id in range(num_resonators):\n",
    "    data = [max_dev_matrix[i][resonator_id] for i in range(num_resonators)]\n",
    "    x = [coil_value_matrix[i][resonator_id] for i in range(num_resonators)]\n",
    "    def fr_coil(p, coil_id):\n",
    "        frb, g, EJ1, EJ2, EC, phi0 = p[:6]\n",
    "        L = p[6:]\n",
    "        return fr(x[coil_id], frb, g, EJ1, EJ2, EC, phi0, L[coil_id])/1e9\n",
    "    def residuals(p):\n",
    "        frb, g, EJ1, EJ2, EC, phi0 = p[:6]\n",
    "        L = p[6:]\n",
    "        res = []\n",
    "        for coil_id in range(len(data)):\n",
    "            \n",
    "            res.extend((fr(x[coil_id], frb, g, EJ1, EJ2, EC, phi0, L[coil_id])/1e9-data[coil_id])*(3 if coil_id == resonator_id else 1))\n",
    "        return res\n",
    "    from scipy.optimize import least_squares\n",
    "\n",
    "    p0 = (initial_guess['frb'][resonator_id], \n",
    "          initial_guess['g'], \n",
    "          initial_guess['EJ1'], \n",
    "          initial_guess['EJ2'], \n",
    "          initial_guess['EC'], \n",
    "          initial_guess['phi0'][resonator_id])+\\\n",
    "          tuple(initial_guess['L'][resonator_id,:])\n",
    "\n",
    "    bounds = ((0,      0,      0,      0,      0,      -np.pi)+tuple([-np.inf]*num_resonators),\n",
    "              (np.inf, np.inf, np.inf, np.inf, np.inf,  np.pi)+tuple([ np.inf]*num_resonators))\n",
    "    fitresults = least_squares(residuals, p0, x_scale=np.abs(p0), bounds=bounds)\n",
    "    fitresults_vec.append(fitresults)\n",
    "    phi0_vec.append(fitresults.x[5])\n",
    "    L_mat.append(fitresults.x[6:])\n",
    "    #print (fitresults.x)"
   ]
  },
  {
   "cell_type": "code",
   "execution_count": null,
   "metadata": {},
   "outputs": [],
   "source": []
  }
 ],
 "metadata": {
  "kernelspec": {
   "display_name": "Python 3",
   "language": "python",
   "name": "python3"
  },
  "language_info": {
   "codemirror_mode": {
    "name": "ipython",
    "version": 3
   },
   "file_extension": ".py",
   "mimetype": "text/x-python",
   "name": "python",
   "nbconvert_exporter": "python",
   "pygments_lexer": "ipython3",
   "version": "3.6.9"
  },
  "toc": {
   "base_numbering": 1,
   "nav_menu": {
    "height": "252px",
    "width": "297px"
   },
   "number_sections": true,
   "sideBar": true,
   "skip_h1_title": false,
   "title_cell": "Table of Contents",
   "title_sidebar": "Contents",
   "toc_cell": false,
   "toc_position": {},
   "toc_section_display": true,
   "toc_window_display": false
  }
 },
 "nbformat": 4,
 "nbformat_minor": 2
}
