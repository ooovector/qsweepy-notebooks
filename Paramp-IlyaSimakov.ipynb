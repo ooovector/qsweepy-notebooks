{
 "cells": [
  {
   "cell_type": "code",
   "execution_count": 1,
   "metadata": {},
   "outputs": [],
   "source": [
    "%matplotlib qt5\n",
    "from qsweepy import *\n",
    "from qsweepy.instruments import *\n",
    "from qsweepy.save_pkl import save_pkl\n",
    "import matplotlib.pyplot as plt\n",
    "import numpy as np\n",
    "from matplotlib import interactive\n",
    "interactive(True)\n",
    "import imp\n",
    "import qsweepy.save_pkl"
   ]
  },
  {
   "cell_type": "code",
   "execution_count": 10,
   "metadata": {},
   "outputs": [],
   "source": [
    "db = database.database()\n",
    "sweeper = sweep_extras.sweeper(db)\n",
    "sample_name='19031883JPA_IS'"
   ]
  },
  {
   "cell_type": "code",
   "execution_count": 3,
   "metadata": {},
   "outputs": [
    {
     "name": "stderr",
     "output_type": "stream",
     "text": [
      "C:\\ProgramData\\Anaconda3\\lib\\site-packages\\pyvisa\\resources\\messagebased.py:573: FutureWarning:\n",
      "\n",
      "ask is deprecated and will be removed in 1.10, use query instead.\n",
      "\n"
     ]
    }
   ],
   "source": [
    "pna = Agilent_N5242A('pna', address = 'TCPIP0::10.20.61.48::inst0::INSTR')\n",
    "current_src = Yokogawa_GS210(address = 'GPIB1::1::INSTR')"
   ]
  },
  {
   "cell_type": "code",
   "execution_count": 14,
   "metadata": {},
   "outputs": [
    {
     "name": "stdout",
     "output_type": "stream",
     "text": [
      "{}\n"
     ]
    },
    {
     "name": "stderr",
     "output_type": "stream",
     "text": [
      "C:\\ProgramData\\Anaconda3\\lib\\site-packages\\pyvisa\\resources\\messagebased.py:573: FutureWarning:\n",
      "\n",
      "ask is deprecated and will be removed in 1.10, use query instead.\n",
      "\n"
     ]
    },
    {
     "name": "stdout",
     "output_type": "stream",
     "text": [
      "load_exdir: file open time:  0.0009987354278564453\n",
      "load_exdir: file open time:  0.0010018348693847656\n",
      "load_exdir: file open time:  0.0020227432250976562\n",
      "load time:  0.041959285736083984\n",
      "pre_trace_time:  0.0019936561584472656\n",
      "trace 0 time:  0.026989221572875977\n",
      "trace 1 time:  0.05097818374633789\n",
      "trace 2 time:  0.07996201515197754\n",
      "trace 3 time:  0.11692619323730469\n"
     ]
    },
    {
     "name": "stderr",
     "output_type": "stream",
     "text": [
      "C:\\ProgramData\\Anaconda3\\lib\\site-packages\\numpy\\core\\memmap.py:335: FutureWarning:\n",
      "\n",
      "Using a non-tuple sequence for multidimensional indexing is deprecated; use `arr[tuple(seq)]` instead of `arr[seq]`. In the future this will be interpreted as an array index, `arr[np.array(seq)]`, which will result either in an error or a different result.\n",
      "\n"
     ]
    },
    {
     "data": {
      "text/plain": [
       "start: 2019-05-16 08:52:23.386267, started/done/total sweeps: 0/301/301, \n",
       "Measured data: \n",
       "'S-parameter': parameters: Bias current (A),:[-0.003, 0.003] (301 points) with setter\n",
       "Frequency (Hz),:[6000000000.0, 12700000000.0] (1000 points) without setter\n",
       "data: [[-0.05736447-0.29655254j -0.03611564+0.29808685j  0.144017  -0.25810385j\n",
       "  ...  0.05120553-0.08076381j -0.08073395+0.06800647j\n",
       "   0.10069799-0.03497947j]\n",
       " [-0.09721571-0.27422753j -0.00731139+0.28751245j  0.09662336-0.26998186j\n",
       "  ...  0.05547673-0.0844411j  -0.0789622 +0.05395908j\n",
       "   0.10556394-0.03515892j]\n",
       " [-0.10868607-0.27010968j -0.00598197+0.29822871j  0.08590176-0.26418945j\n",
       "  ...  0.06418378-0.07765224j -0.08907697+0.06727779j\n",
       "   0.09143353-0.04093203j]\n",
       " ...\n",
       " [-0.07035197-0.29528123j -0.03919165+0.2887246j   0.12646988-0.25479084j\n",
       "  ...  0.04647502-0.07959434j -0.08221445+0.06394619j\n",
       "   0.09784649-0.04066721j]\n",
       " [-0.0627412 -0.29702395j -0.04009446+0.28801137j  0.12807043-0.25157166j\n",
       "  ...  0.05244387-0.08362734j -0.07903297+0.06368507j\n",
       "   0.09832849-0.04993758j]\n",
       " [-0.06002361-0.29801908j -0.04133664+0.3009575j   0.12712379-0.25422639j\n",
       "  ...  0.06401455-0.07403088j -0.08114141+0.06300507j\n",
       "   0.08791842-0.04975437j]]"
      ]
     },
     "execution_count": 14,
     "metadata": {},
     "output_type": "execute_result"
    }
   ],
   "source": [
    "currents = np.linspace(-3e-3, 3e-3, 301)\n",
    "sweeper.sweep(pna, \n",
    "                (currents, current_src.set_current, 'Bias current', 'A'), \n",
    "                measurement_type='single-tone-spectroscopy',\n",
    "                sample_name=sample_name,\n",
    "                metadata={'power':pna.get_power()})"
   ]
  },
  {
   "cell_type": "code",
   "execution_count": null,
   "metadata": {},
   "outputs": [],
   "source": []
  }
 ],
 "metadata": {
  "kernelspec": {
   "display_name": "Python 3",
   "language": "python",
   "name": "python3"
  },
  "language_info": {
   "codemirror_mode": {
    "name": "ipython",
    "version": 3
   },
   "file_extension": ".py",
   "mimetype": "text/x-python",
   "name": "python",
   "nbconvert_exporter": "python",
   "pygments_lexer": "ipython3",
   "version": "3.6.5"
  },
  "toc": {
   "base_numbering": 1,
   "nav_menu": {},
   "number_sections": true,
   "sideBar": true,
   "skip_h1_title": false,
   "title_cell": "Table of Contents",
   "title_sidebar": "Contents",
   "toc_cell": false,
   "toc_position": {},
   "toc_section_display": true,
   "toc_window_display": false
  }
 },
 "nbformat": 4,
 "nbformat_minor": 2
}
