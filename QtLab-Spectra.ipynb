{
 "cells": [
  {
   "cell_type": "markdown",
   "metadata": {},
   "source": [
    "### Запуск QtLab"
   ]
  },
  {
   "cell_type": "code",
   "execution_count": 1,
   "metadata": {
    "scrolled": true
   },
   "outputs": [
    {
     "name": "stdout",
     "output_type": "stream",
     "text": [
      "Starting QT Lab environment...\n",
      "Executing C:\\qtlab\\qtlab-15a460b_with config and 3rdparty\\init/00_lockfile.py...\n",
      "QTlab already running, start with '-f' to force start.\n",
      "Press s<enter> to start anyway or just <enter> to quit.\n",
      "s\n",
      "Executing C:\\qtlab\\qtlab-15a460b_with config and 3rdparty\\init/01_logging.py...\n",
      "Executing C:\\qtlab\\qtlab-15a460b_with config and 3rdparty\\init/02_qtlab_start.py...\n",
      "Adding 127.0.0.1\n",
      "Adding 172.22.197.*\n",
      "Adding 10.22.197.*\n",
      "Executing C:\\qtlab\\qtlab-15a460b_with config and 3rdparty\\init/30_network_server.py...\n",
      "Executing C:\\qtlab\\qtlab-15a460b_with config and 3rdparty\\init/31_addons.py...\n",
      "Executing C:\\qtlab\\qtlab-15a460b_with config and 3rdparty\\init/80_create_instruments.py...\n",
      "Executing C:\\qtlab\\qtlab-15a460b_with config and 3rdparty\\init/98_started.py...\n",
      "Executing C:\\qtlab\\qtlab-15a460b_with config and 3rdparty\\init/99_init_user.py...\n",
      "Executing (user startscript): c:\\qtlab\\ReiData\\0_create_instruments_ka.py\n",
      "<class 'Agilent_PNAX.Agilent_PNAX'>\n",
      "<class 'Agilent_E8257D.Agilent_E8257D'>\n"
     ]
    }
   ],
   "source": [
    "%run \"C:/qtlab/qtlab-15a460b_with config and 3rdparty/source/qtlab_shell.py\""
   ]
  },
  {
   "cell_type": "code",
   "execution_count": 2,
   "metadata": {
    "collapsed": true
   },
   "outputs": [],
   "source": [
    "import numpy as np\n",
    "import imp\n",
    "from matplotlib import pyplot as plt"
   ]
  },
  {
   "cell_type": "code",
   "execution_count": 3,
   "metadata": {},
   "outputs": [],
   "source": [
    "from measurements import plotting as pl\n",
    "from measurements import ResonatorDetector as RD\n",
    "from measurements import data_management as dm"
   ]
  },
  {
   "cell_type": "code",
   "execution_count": 4,
   "metadata": {},
   "outputs": [],
   "source": [
    "execfile(\"save_pkl.py\")\n",
    "#execfile(\"resonators_fitting.py\")"
   ]
  },
  {
   "cell_type": "code",
   "execution_count": 5,
   "metadata": {},
   "outputs": [],
   "source": [
    "%matplotlib qt4"
   ]
  },
  {
   "cell_type": "code",
   "execution_count": 6,
   "metadata": {},
   "outputs": [
    {
     "name": "stdout",
     "output_type": "stream",
     "text": [
      "\u001b[1;31m---------------------------------------------------------------------------\u001b[0m\n",
      "\u001b[1;31mNameError\u001b[0m                                 Traceback (most recent call last)\n",
      "\u001b[1;32m<ipython-input-6-2d2a257afd27>\u001b[0m in \u001b[0;36m<module>\u001b[1;34m()\u001b[0m\n",
      "\u001b[1;32m----> 1\u001b[1;33m \u001b[0mcurrent\u001b[0m\u001b[1;33m.\u001b[0m\u001b[0mset_compliance\u001b[0m\u001b[1;33m(\u001b[0m\u001b[1;36m1\u001b[0m\u001b[1;33m)\u001b[0m\u001b[1;33m\u001b[0m\u001b[0m\n",
      "\u001b[0m\n",
      "\u001b[1;31mNameError\u001b[0m: name 'current' is not defined\n"
     ]
    }
   ],
   "source": [
    "current.set_compliance(1)"
   ]
  },
  {
   "cell_type": "code",
   "execution_count": 7,
   "metadata": {},
   "outputs": [
    {
     "data": {
      "text/plain": [
       "True"
      ]
     },
     "execution_count": 7,
     "metadata": {},
     "output_type": "execute_result"
    }
   ],
   "source": [
    "current.set_status(1)"
   ]
  },
  {
   "cell_type": "code",
   "execution_count": 36,
   "metadata": {},
   "outputs": [
    {
     "data": {
      "text/plain": [
       "True"
      ]
     },
     "execution_count": 36,
     "metadata": {},
     "output_type": "execute_result"
    }
   ],
   "source": [
    "current.set_current(0e-6)\n"
   ]
  },
  {
   "cell_type": "code",
   "execution_count": 28,
   "metadata": {},
   "outputs": [
    {
     "data": {
      "text/plain": [
       "True"
      ]
     },
     "execution_count": 28,
     "metadata": {},
     "output_type": "execute_result"
    }
   ],
   "source": [
    "pna.set_xlim(9.4e9, 9.6e9) \n",
    "pna.set_bandwidth(200)\n",
    "pna.set_average(1)\n",
    "pna.set_averages(3)\n",
    "pna.set_nop(1001)\n",
    "pna.set_power(10)"
   ]
  },
  {
   "cell_type": "code",
   "execution_count": 17,
   "metadata": {
    "collapsed": true
   },
   "outputs": [],
   "source": [
    "pna.set_autoscale()"
   ]
  },
  {
   "cell_type": "code",
   "execution_count": null,
   "metadata": {
    "collapsed": true
   },
   "outputs": [],
   "source": []
  },
  {
   "cell_type": "code",
   "execution_count": 37,
   "metadata": {},
   "outputs": [
    {
     "data": {
      "text/plain": [
       "True"
      ]
     },
     "execution_count": 37,
     "metadata": {},
     "output_type": "execute_result"
    }
   ],
   "source": [
    "pna.set_xlim(3e9, 16e9) \n",
    "pna.set_bandwidth(200)\n",
    "pna.set_average(1)\n",
    "pna.set_averages(1)\n",
    "pna.set_nop(2001)\n",
    "pna.set_power(-15)"
   ]
  },
  {
   "cell_type": "code",
   "execution_count": 26,
   "metadata": {},
   "outputs": [
    {
     "data": {
      "text/plain": [
       "True"
      ]
     },
     "execution_count": 26,
     "metadata": {},
     "output_type": "execute_result"
    }
   ],
   "source": [
    "pna.set_power(0)"
   ]
  },
  {
   "cell_type": "code",
   "execution_count": 27,
   "metadata": {},
   "outputs": [
    {
     "data": {
      "text/plain": [
       "True"
      ]
     },
     "execution_count": 27,
     "metadata": {},
     "output_type": "execute_result"
    }
   ],
   "source": [
    "current.set_current(1000e-6)"
   ]
  },
  {
   "cell_type": "code",
   "execution_count": 39,
   "metadata": {},
   "outputs": [
    {
     "data": {
      "text/plain": [
       "[<matplotlib.lines.Line2D at 0xf081690>]"
      ]
     },
     "execution_count": 39,
     "metadata": {},
     "output_type": "execute_result"
    }
   ],
   "source": [
    "plt.plot(pna.get_freqpoints(), 20*log10(pna.get_tracedata()[0]))"
   ]
  },
  {
   "cell_type": "code",
   "execution_count": 42,
   "metadata": {},
   "outputs": [
    {
     "data": {
      "text/plain": [
       "(9410000000.0, 9420000000.0)"
      ]
     },
     "execution_count": 42,
     "metadata": {},
     "output_type": "execute_result"
    }
   ],
   "source": [
    "pna.get_xlim()"
   ]
  },
  {
   "cell_type": "code",
   "execution_count": 5,
   "metadata": {},
   "outputs": [
    {
     "data": {
      "text/plain": [
       "True"
      ]
     },
     "execution_count": 5,
     "metadata": {},
     "output_type": "execute_result"
    }
   ],
   "source": [
    "lo1.set_frequency(100e6)"
   ]
  },
  {
   "cell_type": "code",
   "execution_count": 14,
   "metadata": {},
   "outputs": [
    {
     "data": {
      "text/plain": [
       "True"
      ]
     },
     "execution_count": 14,
     "metadata": {},
     "output_type": "execute_result"
    }
   ],
   "source": [
    "pna.set_xlim(9.46575e9, 9.46975e9) \n",
    "pna.set_bandwidth(100)\n",
    "pna.set_average(1)\n",
    "pna.set_averages(10)\n",
    "pna.set_nop(201)\n",
    "pna.set_power(-45)"
   ]
  },
  {
   "cell_type": "code",
   "execution_count": 17,
   "metadata": {},
   "outputs": [
    {
     "data": {
      "text/plain": [
       "True"
      ]
     },
     "execution_count": 17,
     "metadata": {},
     "output_type": "execute_result"
    }
   ],
   "source": [
    "pna.set_power(-30)"
   ]
  },
  {
   "cell_type": "code",
   "execution_count": 9,
   "metadata": {},
   "outputs": [
    {
     "data": {
      "text/plain": [
       "True"
      ]
     },
     "execution_count": 9,
     "metadata": {},
     "output_type": "execute_result"
    }
   ],
   "source": [
    "pna.set_centerfreq(7.66705e9)\n",
    "pna.set_span(10e6)"
   ]
  },
  {
   "cell_type": "code",
   "execution_count": 5,
   "metadata": {},
   "outputs": [
    {
     "data": {
      "text/plain": [
       "True"
      ]
     },
     "execution_count": 5,
     "metadata": {},
     "output_type": "execute_result"
    }
   ],
   "source": [
    "current.set_compliance(1)"
   ]
  },
  {
   "cell_type": "markdown",
   "metadata": {},
   "source": [
    "# Измерение"
   ]
  },
  {
   "cell_type": "code",
   "execution_count": 10,
   "metadata": {},
   "outputs": [
    {
     "name": "stdout",
     "output_type": "stream",
     "text": [
      "\u001b[1;31m---------------------------------------------------------------------------\u001b[0m\n",
      "\u001b[1;31mNameError\u001b[0m                                 Traceback (most recent call last)\n",
      "\u001b[1;32m<ipython-input-10-2904decca93f>\u001b[0m in \u001b[0;36m<module>\u001b[1;34m()\u001b[0m\n",
      "\u001b[1;32m----> 1\u001b[1;33m \u001b[0mexecfile\u001b[0m\u001b[1;33m(\u001b[0m\u001b[1;34m\"measurements/script_twin.py\"\u001b[0m\u001b[1;33m)\u001b[0m\u001b[1;31m# Запуск скрипта. Данные сохраняются в объект measurement\u001b[0m\u001b[1;33m\u001b[0m\u001b[0m\n",
      "\u001b[0m\n",
      "\u001b[1;32mc:\\qtlab\\ReiData\\qtlab_addons\\scripts\\measurements\\script_twin.py\u001b[0m in \u001b[0;36m<module>\u001b[1;34m()\u001b[0m\n",
      "\u001b[0;32m     35\u001b[0m \u001b[1;33m\u001b[0m\u001b[0m\n",
      "\u001b[0;32m     36\u001b[0m \u001b[1;32mfinally\u001b[0m\u001b[1;33m:\u001b[0m\u001b[1;33m\u001b[0m\u001b[0m\n",
      "\u001b[1;32m---> 37\u001b[1;33m         \u001b[0mcurrent\u001b[0m\u001b[1;33m.\u001b[0m\u001b[0mset_current\u001b[0m\u001b[1;33m(\u001b[0m\u001b[1;36m0\u001b[0m\u001b[1;33m)\u001b[0m\u001b[1;33m\u001b[0m\u001b[0m\n",
      "\u001b[0m\u001b[0;32m     38\u001b[0m         \u001b[0mcurrent\u001b[0m\u001b[1;33m.\u001b[0m\u001b[0mset_status\u001b[0m\u001b[1;33m(\u001b[0m\u001b[1;36m0\u001b[0m\u001b[1;33m)\u001b[0m\u001b[1;33m\u001b[0m\u001b[0m\n",
      "\u001b[0;32m     39\u001b[0m         \u001b[0mpna\u001b[0m\u001b[1;33m.\u001b[0m\u001b[0mset_power\u001b[0m\u001b[1;33m(\u001b[0m\u001b[1;33m-\u001b[0m\u001b[1;36m60\u001b[0m\u001b[1;33m)\u001b[0m\u001b[1;33m\u001b[0m\u001b[0m\n",
      "\n",
      "\u001b[1;31mNameError\u001b[0m: name 'current' is not defined\n"
     ]
    }
   ],
   "source": [
    "execfile(\"measurements/script_twin.py\")# Запуск скрипта. Данные сохраняются в объект measurement"
   ]
  },
  {
   "cell_type": "code",
   "execution_count": null,
   "metadata": {
    "scrolled": false
   },
   "outputs": [
    {
     "name": "stdout",
     "output_type": "stream",
     "text": [
      "Started at:  Feb 23 2017 23:06:01\n",
      "Averages: 2, bandwidth: 1000.0, power: -40.0\n",
      "Sweeping total: 201 sweeps, each of 5001 point(s)\n",
      "Sweep-only time: 9.22204404 s\n",
      "Time left: 0 h 35 m 48.66 s, parameter value: -9.400e-04, average cycle time: 11.08 s          "
     ]
    }
   ],
   "source": [
    "execfile(\"measurements/script_anticrossings.py\")# Запуск скрипта. Данные сохраняются в объект measurement"
   ]
  },
  {
   "cell_type": "code",
   "execution_count": 17,
   "metadata": {},
   "outputs": [
    {
     "name": "stdout",
     "output_type": "stream",
     "text": [
      "Started at:  Feb 23 2017 23:00:38\n",
      "Averages: 100, bandwidth: 10.0, power: -60.0\n",
      "Sweeping total: 51 sweeps, each of 151 point(s)\n",
      "Sweep-only time: 1336.34094 s\n",
      "First sweep..."
     ]
    },
    {
     "ename": "MemoryError",
     "evalue": "",
     "output_type": "error",
     "traceback": [
      "\u001b[1;31m---------------------------------------------------------------------------\u001b[0m",
      "\u001b[1;31mMemoryError\u001b[0m                               Traceback (most recent call last)",
      "\u001b[1;32mC:\\Python27\\Lib\\site-packages\\matplotlib\\backends\\backend_qt5.pyc\u001b[0m in \u001b[0;36mresizeEvent\u001b[1;34m(self, event)\u001b[0m\n\u001b[0;32m    336\u001b[0m         \u001b[0mself\u001b[0m\u001b[1;33m.\u001b[0m\u001b[0mfigure\u001b[0m\u001b[1;33m.\u001b[0m\u001b[0mset_size_inches\u001b[0m\u001b[1;33m(\u001b[0m\u001b[0mwinch\u001b[0m\u001b[1;33m,\u001b[0m \u001b[0mhinch\u001b[0m\u001b[1;33m)\u001b[0m\u001b[1;33m\u001b[0m\u001b[0m\n\u001b[0;32m    337\u001b[0m         \u001b[0mFigureCanvasBase\u001b[0m\u001b[1;33m.\u001b[0m\u001b[0mresize_event\u001b[0m\u001b[1;33m(\u001b[0m\u001b[0mself\u001b[0m\u001b[1;33m)\u001b[0m\u001b[1;33m\u001b[0m\u001b[0m\n\u001b[1;32m--> 338\u001b[1;33m         \u001b[0mself\u001b[0m\u001b[1;33m.\u001b[0m\u001b[0mdraw\u001b[0m\u001b[1;33m(\u001b[0m\u001b[1;33m)\u001b[0m\u001b[1;33m\u001b[0m\u001b[0m\n\u001b[0m\u001b[0;32m    339\u001b[0m         \u001b[0mself\u001b[0m\u001b[1;33m.\u001b[0m\u001b[0mupdate\u001b[0m\u001b[1;33m(\u001b[0m\u001b[1;33m)\u001b[0m\u001b[1;33m\u001b[0m\u001b[0m\n\u001b[0;32m    340\u001b[0m         \u001b[0mQtWidgets\u001b[0m\u001b[1;33m.\u001b[0m\u001b[0mQWidget\u001b[0m\u001b[1;33m.\u001b[0m\u001b[0mresizeEvent\u001b[0m\u001b[1;33m(\u001b[0m\u001b[0mself\u001b[0m\u001b[1;33m,\u001b[0m \u001b[0mevent\u001b[0m\u001b[1;33m)\u001b[0m\u001b[1;33m\u001b[0m\u001b[0m\n",
      "\u001b[1;32mC:\\Python27\\Lib\\site-packages\\matplotlib\\backends\\backend_qt5agg.pyc\u001b[0m in \u001b[0;36mdraw\u001b[1;34m(self)\u001b[0m\n\u001b[0;32m    146\u001b[0m         \u001b[1;31m# causes problems with code that uses the result of the\u001b[0m\u001b[1;33m\u001b[0m\u001b[1;33m\u001b[0m\u001b[0m\n\u001b[0;32m    147\u001b[0m         \u001b[1;31m# draw() to update plot elements.\u001b[0m\u001b[1;33m\u001b[0m\u001b[1;33m\u001b[0m\u001b[0m\n\u001b[1;32m--> 148\u001b[1;33m         \u001b[0mFigureCanvasAgg\u001b[0m\u001b[1;33m.\u001b[0m\u001b[0mdraw\u001b[0m\u001b[1;33m(\u001b[0m\u001b[0mself\u001b[0m\u001b[1;33m)\u001b[0m\u001b[1;33m\u001b[0m\u001b[0m\n\u001b[0m\u001b[0;32m    149\u001b[0m         \u001b[0mself\u001b[0m\u001b[1;33m.\u001b[0m\u001b[0m_priv_update\u001b[0m\u001b[1;33m(\u001b[0m\u001b[1;33m)\u001b[0m\u001b[1;33m\u001b[0m\u001b[0m\n\u001b[0;32m    150\u001b[0m \u001b[1;33m\u001b[0m\u001b[0m\n",
      "\u001b[1;32mC:\\Python27\\Lib\\site-packages\\matplotlib\\backends\\backend_agg.pyc\u001b[0m in \u001b[0;36mdraw\u001b[1;34m(self)\u001b[0m\n\u001b[0;32m    467\u001b[0m \u001b[1;33m\u001b[0m\u001b[0m\n\u001b[0;32m    468\u001b[0m         \u001b[1;32mtry\u001b[0m\u001b[1;33m:\u001b[0m\u001b[1;33m\u001b[0m\u001b[0m\n\u001b[1;32m--> 469\u001b[1;33m             \u001b[0mself\u001b[0m\u001b[1;33m.\u001b[0m\u001b[0mfigure\u001b[0m\u001b[1;33m.\u001b[0m\u001b[0mdraw\u001b[0m\u001b[1;33m(\u001b[0m\u001b[0mself\u001b[0m\u001b[1;33m.\u001b[0m\u001b[0mrenderer\u001b[0m\u001b[1;33m)\u001b[0m\u001b[1;33m\u001b[0m\u001b[0m\n\u001b[0m\u001b[0;32m    470\u001b[0m         \u001b[1;32mfinally\u001b[0m\u001b[1;33m:\u001b[0m\u001b[1;33m\u001b[0m\u001b[0m\n\u001b[0;32m    471\u001b[0m             \u001b[0mRendererAgg\u001b[0m\u001b[1;33m.\u001b[0m\u001b[0mlock\u001b[0m\u001b[1;33m.\u001b[0m\u001b[0mrelease\u001b[0m\u001b[1;33m(\u001b[0m\u001b[1;33m)\u001b[0m\u001b[1;33m\u001b[0m\u001b[0m\n",
      "\u001b[1;32mC:\\Python27\\Lib\\site-packages\\matplotlib\\artist.pyc\u001b[0m in \u001b[0;36mdraw_wrapper\u001b[1;34m(artist, renderer, *args, **kwargs)\u001b[0m\n\u001b[0;32m     57\u001b[0m     \u001b[1;32mdef\u001b[0m \u001b[0mdraw_wrapper\u001b[0m\u001b[1;33m(\u001b[0m\u001b[0martist\u001b[0m\u001b[1;33m,\u001b[0m \u001b[0mrenderer\u001b[0m\u001b[1;33m,\u001b[0m \u001b[1;33m*\u001b[0m\u001b[0margs\u001b[0m\u001b[1;33m,\u001b[0m \u001b[1;33m**\u001b[0m\u001b[0mkwargs\u001b[0m\u001b[1;33m)\u001b[0m\u001b[1;33m:\u001b[0m\u001b[1;33m\u001b[0m\u001b[0m\n\u001b[0;32m     58\u001b[0m         \u001b[0mbefore\u001b[0m\u001b[1;33m(\u001b[0m\u001b[0martist\u001b[0m\u001b[1;33m,\u001b[0m \u001b[0mrenderer\u001b[0m\u001b[1;33m)\u001b[0m\u001b[1;33m\u001b[0m\u001b[0m\n\u001b[1;32m---> 59\u001b[1;33m         \u001b[0mdraw\u001b[0m\u001b[1;33m(\u001b[0m\u001b[0martist\u001b[0m\u001b[1;33m,\u001b[0m \u001b[0mrenderer\u001b[0m\u001b[1;33m,\u001b[0m \u001b[1;33m*\u001b[0m\u001b[0margs\u001b[0m\u001b[1;33m,\u001b[0m \u001b[1;33m**\u001b[0m\u001b[0mkwargs\u001b[0m\u001b[1;33m)\u001b[0m\u001b[1;33m\u001b[0m\u001b[0m\n\u001b[0m\u001b[0;32m     60\u001b[0m         \u001b[0mafter\u001b[0m\u001b[1;33m(\u001b[0m\u001b[0martist\u001b[0m\u001b[1;33m,\u001b[0m \u001b[0mrenderer\u001b[0m\u001b[1;33m)\u001b[0m\u001b[1;33m\u001b[0m\u001b[0m\n\u001b[0;32m     61\u001b[0m \u001b[1;33m\u001b[0m\u001b[0m\n",
      "\u001b[1;32mC:\\Python27\\Lib\\site-packages\\matplotlib\\figure.pyc\u001b[0m in \u001b[0;36mdraw\u001b[1;34m(self, renderer)\u001b[0m\n\u001b[0;32m   1083\u001b[0m         \u001b[0mdsu\u001b[0m\u001b[1;33m.\u001b[0m\u001b[0msort\u001b[0m\u001b[1;33m(\u001b[0m\u001b[0mkey\u001b[0m\u001b[1;33m=\u001b[0m\u001b[0mitemgetter\u001b[0m\u001b[1;33m(\u001b[0m\u001b[1;36m0\u001b[0m\u001b[1;33m)\u001b[0m\u001b[1;33m)\u001b[0m\u001b[1;33m\u001b[0m\u001b[0m\n\u001b[0;32m   1084\u001b[0m         \u001b[1;32mfor\u001b[0m \u001b[0mzorder\u001b[0m\u001b[1;33m,\u001b[0m \u001b[0ma\u001b[0m\u001b[1;33m,\u001b[0m \u001b[0mfunc\u001b[0m\u001b[1;33m,\u001b[0m \u001b[0margs\u001b[0m \u001b[1;32min\u001b[0m \u001b[0mdsu\u001b[0m\u001b[1;33m:\u001b[0m\u001b[1;33m\u001b[0m\u001b[0m\n\u001b[1;32m-> 1085\u001b[1;33m             \u001b[0mfunc\u001b[0m\u001b[1;33m(\u001b[0m\u001b[1;33m*\u001b[0m\u001b[0margs\u001b[0m\u001b[1;33m)\u001b[0m\u001b[1;33m\u001b[0m\u001b[0m\n\u001b[0m\u001b[0;32m   1086\u001b[0m \u001b[1;33m\u001b[0m\u001b[0m\n\u001b[0;32m   1087\u001b[0m         \u001b[0mrenderer\u001b[0m\u001b[1;33m.\u001b[0m\u001b[0mclose_group\u001b[0m\u001b[1;33m(\u001b[0m\u001b[1;34m'figure'\u001b[0m\u001b[1;33m)\u001b[0m\u001b[1;33m\u001b[0m\u001b[0m\n",
      "\u001b[1;32mC:\\Python27\\Lib\\site-packages\\matplotlib\\artist.pyc\u001b[0m in \u001b[0;36mdraw_wrapper\u001b[1;34m(artist, renderer, *args, **kwargs)\u001b[0m\n\u001b[0;32m     57\u001b[0m     \u001b[1;32mdef\u001b[0m \u001b[0mdraw_wrapper\u001b[0m\u001b[1;33m(\u001b[0m\u001b[0martist\u001b[0m\u001b[1;33m,\u001b[0m \u001b[0mrenderer\u001b[0m\u001b[1;33m,\u001b[0m \u001b[1;33m*\u001b[0m\u001b[0margs\u001b[0m\u001b[1;33m,\u001b[0m \u001b[1;33m**\u001b[0m\u001b[0mkwargs\u001b[0m\u001b[1;33m)\u001b[0m\u001b[1;33m:\u001b[0m\u001b[1;33m\u001b[0m\u001b[0m\n\u001b[0;32m     58\u001b[0m         \u001b[0mbefore\u001b[0m\u001b[1;33m(\u001b[0m\u001b[0martist\u001b[0m\u001b[1;33m,\u001b[0m \u001b[0mrenderer\u001b[0m\u001b[1;33m)\u001b[0m\u001b[1;33m\u001b[0m\u001b[0m\n\u001b[1;32m---> 59\u001b[1;33m         \u001b[0mdraw\u001b[0m\u001b[1;33m(\u001b[0m\u001b[0martist\u001b[0m\u001b[1;33m,\u001b[0m \u001b[0mrenderer\u001b[0m\u001b[1;33m,\u001b[0m \u001b[1;33m*\u001b[0m\u001b[0margs\u001b[0m\u001b[1;33m,\u001b[0m \u001b[1;33m**\u001b[0m\u001b[0mkwargs\u001b[0m\u001b[1;33m)\u001b[0m\u001b[1;33m\u001b[0m\u001b[0m\n\u001b[0m\u001b[0;32m     60\u001b[0m         \u001b[0mafter\u001b[0m\u001b[1;33m(\u001b[0m\u001b[0martist\u001b[0m\u001b[1;33m,\u001b[0m \u001b[0mrenderer\u001b[0m\u001b[1;33m)\u001b[0m\u001b[1;33m\u001b[0m\u001b[0m\n\u001b[0;32m     61\u001b[0m \u001b[1;33m\u001b[0m\u001b[0m\n",
      "\u001b[1;32mC:\\Python27\\Lib\\site-packages\\matplotlib\\axes\\_base.pyc\u001b[0m in \u001b[0;36mdraw\u001b[1;34m(self, renderer, inframe)\u001b[0m\n\u001b[0;32m   2108\u001b[0m \u001b[1;33m\u001b[0m\u001b[0m\n\u001b[0;32m   2109\u001b[0m         \u001b[1;32mfor\u001b[0m \u001b[0mzorder\u001b[0m\u001b[1;33m,\u001b[0m \u001b[0ma\u001b[0m \u001b[1;32min\u001b[0m \u001b[0mdsu\u001b[0m\u001b[1;33m:\u001b[0m\u001b[1;33m\u001b[0m\u001b[0m\n\u001b[1;32m-> 2110\u001b[1;33m             \u001b[0ma\u001b[0m\u001b[1;33m.\u001b[0m\u001b[0mdraw\u001b[0m\u001b[1;33m(\u001b[0m\u001b[0mrenderer\u001b[0m\u001b[1;33m)\u001b[0m\u001b[1;33m\u001b[0m\u001b[0m\n\u001b[0m\u001b[0;32m   2111\u001b[0m \u001b[1;33m\u001b[0m\u001b[0m\n\u001b[0;32m   2112\u001b[0m         \u001b[0mrenderer\u001b[0m\u001b[1;33m.\u001b[0m\u001b[0mclose_group\u001b[0m\u001b[1;33m(\u001b[0m\u001b[1;34m'axes'\u001b[0m\u001b[1;33m)\u001b[0m\u001b[1;33m\u001b[0m\u001b[0m\n",
      "\u001b[1;32mC:\\Python27\\Lib\\site-packages\\matplotlib\\artist.pyc\u001b[0m in \u001b[0;36mdraw_wrapper\u001b[1;34m(artist, renderer, *args, **kwargs)\u001b[0m\n\u001b[0;32m     57\u001b[0m     \u001b[1;32mdef\u001b[0m \u001b[0mdraw_wrapper\u001b[0m\u001b[1;33m(\u001b[0m\u001b[0martist\u001b[0m\u001b[1;33m,\u001b[0m \u001b[0mrenderer\u001b[0m\u001b[1;33m,\u001b[0m \u001b[1;33m*\u001b[0m\u001b[0margs\u001b[0m\u001b[1;33m,\u001b[0m \u001b[1;33m**\u001b[0m\u001b[0mkwargs\u001b[0m\u001b[1;33m)\u001b[0m\u001b[1;33m:\u001b[0m\u001b[1;33m\u001b[0m\u001b[0m\n\u001b[0;32m     58\u001b[0m         \u001b[0mbefore\u001b[0m\u001b[1;33m(\u001b[0m\u001b[0martist\u001b[0m\u001b[1;33m,\u001b[0m \u001b[0mrenderer\u001b[0m\u001b[1;33m)\u001b[0m\u001b[1;33m\u001b[0m\u001b[0m\n\u001b[1;32m---> 59\u001b[1;33m         \u001b[0mdraw\u001b[0m\u001b[1;33m(\u001b[0m\u001b[0martist\u001b[0m\u001b[1;33m,\u001b[0m \u001b[0mrenderer\u001b[0m\u001b[1;33m,\u001b[0m \u001b[1;33m*\u001b[0m\u001b[0margs\u001b[0m\u001b[1;33m,\u001b[0m \u001b[1;33m**\u001b[0m\u001b[0mkwargs\u001b[0m\u001b[1;33m)\u001b[0m\u001b[1;33m\u001b[0m\u001b[0m\n\u001b[0m\u001b[0;32m     60\u001b[0m         \u001b[0mafter\u001b[0m\u001b[1;33m(\u001b[0m\u001b[0martist\u001b[0m\u001b[1;33m,\u001b[0m \u001b[0mrenderer\u001b[0m\u001b[1;33m)\u001b[0m\u001b[1;33m\u001b[0m\u001b[0m\n\u001b[0;32m     61\u001b[0m \u001b[1;33m\u001b[0m\u001b[0m\n",
      "\u001b[1;32mC:\\Python27\\Lib\\site-packages\\matplotlib\\collections.pyc\u001b[0m in \u001b[0;36mdraw\u001b[1;34m(self, renderer)\u001b[0m\n\u001b[0;32m   1795\u001b[0m         \u001b[0moffsets\u001b[0m\u001b[1;33m.\u001b[0m\u001b[0mshape\u001b[0m \u001b[1;33m=\u001b[0m \u001b[1;33m(\u001b[0m\u001b[1;33m-\u001b[0m\u001b[1;36m1\u001b[0m\u001b[1;33m,\u001b[0m \u001b[1;36m2\u001b[0m\u001b[1;33m)\u001b[0m                 \u001b[1;31m# Make it Nx2\u001b[0m\u001b[1;33m\u001b[0m\u001b[0m\n\u001b[0;32m   1796\u001b[0m \u001b[1;33m\u001b[0m\u001b[0m\n\u001b[1;32m-> 1797\u001b[1;33m         \u001b[0mself\u001b[0m\u001b[1;33m.\u001b[0m\u001b[0mupdate_scalarmappable\u001b[0m\u001b[1;33m(\u001b[0m\u001b[1;33m)\u001b[0m\u001b[1;33m\u001b[0m\u001b[0m\n\u001b[0m\u001b[0;32m   1798\u001b[0m \u001b[1;33m\u001b[0m\u001b[0m\n\u001b[0;32m   1799\u001b[0m         \u001b[1;32mif\u001b[0m \u001b[1;32mnot\u001b[0m \u001b[0mtransform\u001b[0m\u001b[1;33m.\u001b[0m\u001b[0mis_affine\u001b[0m\u001b[1;33m:\u001b[0m\u001b[1;33m\u001b[0m\u001b[0m\n",
      "\u001b[1;32mC:\\Python27\\Lib\\site-packages\\matplotlib\\collections.pyc\u001b[0m in \u001b[0;36mupdate_scalarmappable\u001b[1;34m(self)\u001b[0m\n\u001b[0;32m    674\u001b[0m             \u001b[1;32mreturn\u001b[0m\u001b[1;33m\u001b[0m\u001b[0m\n\u001b[0;32m    675\u001b[0m         \u001b[1;32mif\u001b[0m \u001b[0mself\u001b[0m\u001b[1;33m.\u001b[0m\u001b[0m_is_filled\u001b[0m\u001b[1;33m:\u001b[0m\u001b[1;33m\u001b[0m\u001b[0m\n\u001b[1;32m--> 676\u001b[1;33m             \u001b[0mself\u001b[0m\u001b[1;33m.\u001b[0m\u001b[0m_facecolors\u001b[0m \u001b[1;33m=\u001b[0m \u001b[0mself\u001b[0m\u001b[1;33m.\u001b[0m\u001b[0mto_rgba\u001b[0m\u001b[1;33m(\u001b[0m\u001b[0mself\u001b[0m\u001b[1;33m.\u001b[0m\u001b[0m_A\u001b[0m\u001b[1;33m,\u001b[0m \u001b[0mself\u001b[0m\u001b[1;33m.\u001b[0m\u001b[0m_alpha\u001b[0m\u001b[1;33m)\u001b[0m\u001b[1;33m\u001b[0m\u001b[0m\n\u001b[0m\u001b[0;32m    677\u001b[0m         \u001b[1;32melif\u001b[0m \u001b[0mself\u001b[0m\u001b[1;33m.\u001b[0m\u001b[0m_is_stroked\u001b[0m\u001b[1;33m:\u001b[0m\u001b[1;33m\u001b[0m\u001b[0m\n\u001b[0;32m    678\u001b[0m             \u001b[0mself\u001b[0m\u001b[1;33m.\u001b[0m\u001b[0m_edgecolors\u001b[0m \u001b[1;33m=\u001b[0m \u001b[0mself\u001b[0m\u001b[1;33m.\u001b[0m\u001b[0mto_rgba\u001b[0m\u001b[1;33m(\u001b[0m\u001b[0mself\u001b[0m\u001b[1;33m.\u001b[0m\u001b[0m_A\u001b[0m\u001b[1;33m,\u001b[0m \u001b[0mself\u001b[0m\u001b[1;33m.\u001b[0m\u001b[0m_alpha\u001b[0m\u001b[1;33m)\u001b[0m\u001b[1;33m\u001b[0m\u001b[0m\n",
      "\u001b[1;32mC:\\Python27\\Lib\\site-packages\\matplotlib\\cm.pyc\u001b[0m in \u001b[0;36mto_rgba\u001b[1;34m(self, x, alpha, bytes)\u001b[0m\n\u001b[0;32m    260\u001b[0m         \u001b[1;31m# This is the normal case, mapping a scalar array:\u001b[0m\u001b[1;33m\u001b[0m\u001b[1;33m\u001b[0m\u001b[0m\n\u001b[0;32m    261\u001b[0m         \u001b[0mx\u001b[0m \u001b[1;33m=\u001b[0m \u001b[0mma\u001b[0m\u001b[1;33m.\u001b[0m\u001b[0masarray\u001b[0m\u001b[1;33m(\u001b[0m\u001b[0mx\u001b[0m\u001b[1;33m)\u001b[0m\u001b[1;33m\u001b[0m\u001b[0m\n\u001b[1;32m--> 262\u001b[1;33m         \u001b[0mx\u001b[0m \u001b[1;33m=\u001b[0m \u001b[0mself\u001b[0m\u001b[1;33m.\u001b[0m\u001b[0mnorm\u001b[0m\u001b[1;33m(\u001b[0m\u001b[0mx\u001b[0m\u001b[1;33m)\u001b[0m\u001b[1;33m\u001b[0m\u001b[0m\n\u001b[0m\u001b[0;32m    263\u001b[0m         \u001b[0mx\u001b[0m \u001b[1;33m=\u001b[0m \u001b[0mself\u001b[0m\u001b[1;33m.\u001b[0m\u001b[0mcmap\u001b[0m\u001b[1;33m(\u001b[0m\u001b[0mx\u001b[0m\u001b[1;33m,\u001b[0m \u001b[0malpha\u001b[0m\u001b[1;33m=\u001b[0m\u001b[0malpha\u001b[0m\u001b[1;33m,\u001b[0m \u001b[0mbytes\u001b[0m\u001b[1;33m=\u001b[0m\u001b[0mbytes\u001b[0m\u001b[1;33m)\u001b[0m\u001b[1;33m\u001b[0m\u001b[0m\n\u001b[0;32m    264\u001b[0m         \u001b[1;32mreturn\u001b[0m \u001b[0mx\u001b[0m\u001b[1;33m\u001b[0m\u001b[0m\n",
      "\u001b[1;32mC:\\Python27\\Lib\\site-packages\\matplotlib\\colors.pyc\u001b[0m in \u001b[0;36m__call__\u001b[1;34m(self, value, clip)\u001b[0m\n\u001b[0;32m    906\u001b[0m             \u001b[0mclip\u001b[0m \u001b[1;33m=\u001b[0m \u001b[0mself\u001b[0m\u001b[1;33m.\u001b[0m\u001b[0mclip\u001b[0m\u001b[1;33m\u001b[0m\u001b[0m\n\u001b[0;32m    907\u001b[0m \u001b[1;33m\u001b[0m\u001b[0m\n\u001b[1;32m--> 908\u001b[1;33m         \u001b[0mresult\u001b[0m\u001b[1;33m,\u001b[0m \u001b[0mis_scalar\u001b[0m \u001b[1;33m=\u001b[0m \u001b[0mself\u001b[0m\u001b[1;33m.\u001b[0m\u001b[0mprocess_value\u001b[0m\u001b[1;33m(\u001b[0m\u001b[0mvalue\u001b[0m\u001b[1;33m)\u001b[0m\u001b[1;33m\u001b[0m\u001b[0m\n\u001b[0m\u001b[0;32m    909\u001b[0m \u001b[1;33m\u001b[0m\u001b[0m\n\u001b[0;32m    910\u001b[0m         \u001b[0mself\u001b[0m\u001b[1;33m.\u001b[0m\u001b[0mautoscale_None\u001b[0m\u001b[1;33m(\u001b[0m\u001b[0mresult\u001b[0m\u001b[1;33m)\u001b[0m\u001b[1;33m\u001b[0m\u001b[0m\n",
      "\u001b[1;32mC:\\Python27\\Lib\\site-packages\\matplotlib\\colors.pyc\u001b[0m in \u001b[0;36mprocess_value\u001b[1;34m(value)\u001b[0m\n\u001b[0;32m    892\u001b[0m             \u001b[1;32mif\u001b[0m \u001b[0mresult\u001b[0m\u001b[1;33m.\u001b[0m\u001b[0mdtype\u001b[0m\u001b[1;33m.\u001b[0m\u001b[0mkind\u001b[0m \u001b[1;33m==\u001b[0m \u001b[1;34m'f'\u001b[0m\u001b[1;33m:\u001b[0m\u001b[1;33m\u001b[0m\u001b[0m\n\u001b[0;32m    893\u001b[0m                 \u001b[1;32mif\u001b[0m \u001b[0misinstance\u001b[0m\u001b[1;33m(\u001b[0m\u001b[0mvalue\u001b[0m\u001b[1;33m,\u001b[0m \u001b[0mnp\u001b[0m\u001b[1;33m.\u001b[0m\u001b[0mndarray\u001b[0m\u001b[1;33m)\u001b[0m\u001b[1;33m:\u001b[0m\u001b[1;33m\u001b[0m\u001b[0m\n\u001b[1;32m--> 894\u001b[1;33m                     \u001b[0mresult\u001b[0m \u001b[1;33m=\u001b[0m \u001b[0mresult\u001b[0m\u001b[1;33m.\u001b[0m\u001b[0mcopy\u001b[0m\u001b[1;33m(\u001b[0m\u001b[1;33m)\u001b[0m\u001b[1;33m\u001b[0m\u001b[0m\n\u001b[0m\u001b[0;32m    895\u001b[0m             \u001b[1;32melif\u001b[0m \u001b[0mresult\u001b[0m\u001b[1;33m.\u001b[0m\u001b[0mdtype\u001b[0m\u001b[1;33m.\u001b[0m\u001b[0mitemsize\u001b[0m \u001b[1;33m>\u001b[0m \u001b[1;36m2\u001b[0m\u001b[1;33m:\u001b[0m\u001b[1;33m\u001b[0m\u001b[0m\n\u001b[0;32m    896\u001b[0m                 \u001b[0mresult\u001b[0m \u001b[1;33m=\u001b[0m \u001b[0mresult\u001b[0m\u001b[1;33m.\u001b[0m\u001b[0mastype\u001b[0m\u001b[1;33m(\u001b[0m\u001b[0mnp\u001b[0m\u001b[1;33m.\u001b[0m\u001b[0mfloat\u001b[0m\u001b[1;33m)\u001b[0m\u001b[1;33m\u001b[0m\u001b[0m\n",
      "\u001b[1;32mC:\\Python27\\Lib\\site-packages\\numpy\\ma\\core.pyc\u001b[0m in \u001b[0;36mwrapped_method\u001b[1;34m(self, *args, **params)\u001b[0m\n\u001b[0;32m   2507\u001b[0m     \"\"\"\n\u001b[0;32m   2508\u001b[0m     \u001b[1;32mdef\u001b[0m \u001b[0mwrapped_method\u001b[0m\u001b[1;33m(\u001b[0m\u001b[0mself\u001b[0m\u001b[1;33m,\u001b[0m \u001b[1;33m*\u001b[0m\u001b[0margs\u001b[0m\u001b[1;33m,\u001b[0m \u001b[1;33m**\u001b[0m\u001b[0mparams\u001b[0m\u001b[1;33m)\u001b[0m\u001b[1;33m:\u001b[0m\u001b[1;33m\u001b[0m\u001b[0m\n\u001b[1;32m-> 2509\u001b[1;33m         \u001b[0mresult\u001b[0m \u001b[1;33m=\u001b[0m \u001b[0mgetattr\u001b[0m\u001b[1;33m(\u001b[0m\u001b[0mself\u001b[0m\u001b[1;33m.\u001b[0m\u001b[0m_data\u001b[0m\u001b[1;33m,\u001b[0m \u001b[0mfuncname\u001b[0m\u001b[1;33m)\u001b[0m\u001b[1;33m(\u001b[0m\u001b[1;33m*\u001b[0m\u001b[0margs\u001b[0m\u001b[1;33m,\u001b[0m \u001b[1;33m**\u001b[0m\u001b[0mparams\u001b[0m\u001b[1;33m)\u001b[0m\u001b[1;33m\u001b[0m\u001b[0m\n\u001b[0m\u001b[0;32m   2510\u001b[0m         \u001b[0mresult\u001b[0m \u001b[1;33m=\u001b[0m \u001b[0mresult\u001b[0m\u001b[1;33m.\u001b[0m\u001b[0mview\u001b[0m\u001b[1;33m(\u001b[0m\u001b[0mtype\u001b[0m\u001b[1;33m(\u001b[0m\u001b[0mself\u001b[0m\u001b[1;33m)\u001b[0m\u001b[1;33m)\u001b[0m\u001b[1;33m\u001b[0m\u001b[0m\n\u001b[0;32m   2511\u001b[0m         \u001b[0mresult\u001b[0m\u001b[1;33m.\u001b[0m\u001b[0m_update_from\u001b[0m\u001b[1;33m(\u001b[0m\u001b[0mself\u001b[0m\u001b[1;33m)\u001b[0m\u001b[1;33m\u001b[0m\u001b[0m\n",
      "\u001b[1;31mMemoryError\u001b[0m: "
     ]
    },
    {
     "name": "stdout",
     "output_type": "stream",
     "text": [
      "Time left: 0 h 0 m 16.88 s, parameter value: -3.900e+01, average cycle time: 1.53 s          "
     ]
    },
    {
     "ename": "KeyboardInterrupt",
     "evalue": "",
     "output_type": "error",
     "traceback": [
      "\u001b[1;31m---------------------------------------------------------------------------\u001b[0m",
      "\u001b[1;31mKeyboardInterrupt\u001b[0m                         Traceback (most recent call last)",
      "\u001b[1;32m<ipython-input-17-55fc482e3be3>\u001b[0m in \u001b[0;36m<module>\u001b[1;34m()\u001b[0m\n\u001b[1;32m----> 1\u001b[1;33m \u001b[0mexecfile\u001b[0m\u001b[1;33m(\u001b[0m\u001b[1;34m\"measurements/script_power_sweep.py\"\u001b[0m\u001b[1;33m)\u001b[0m\u001b[1;31m# Запуск скрипта. Данные сохраняются в объект measurement\u001b[0m\u001b[1;33m\u001b[0m\u001b[0m\n\u001b[0m",
      "\u001b[1;32mc:\\qtlab\\ReiData\\qtlab_addons\\scripts\\measurements\\script_power_sweep.py\u001b[0m in \u001b[0;36m<module>\u001b[1;34m()\u001b[0m\n\u001b[0;32m     22\u001b[0m     \u001b[0mpna\u001b[0m\u001b[1;33m.\u001b[0m\u001b[0mavg_clear\u001b[0m\u001b[1;33m(\u001b[0m\u001b[1;33m)\u001b[0m\u001b[1;33m\u001b[0m\u001b[0m\n\u001b[0;32m     23\u001b[0m     measurement = ps.sweep1D(pna, [powers, bandwidths] , [pna.set_power, pna.set_bandwidth],\\\n\u001b[1;32m---> 24\u001b[1;33m         filename='Fliegenklatsche one-tone spectrum at 0 dBm power')\n\u001b[0m\u001b[0;32m     25\u001b[0m \u001b[1;33m\u001b[0m\u001b[0m\n\u001b[0;32m     26\u001b[0m \u001b[1;32mfinally\u001b[0m\u001b[1;33m:\u001b[0m\u001b[1;33m\u001b[0m\u001b[0m\n",
      "\u001b[1;32mc:\\qtlab\\ReiData\\qtlab_addons\\scripts\\measurements\\parametric_sweep.pyc\u001b[0m in \u001b[0;36msweep1D\u001b[1;34m(pna, param_vals, param_setter, filename)\u001b[0m\n\u001b[0;32m     81\u001b[0m \u001b[1;33m\u001b[0m\u001b[0m\n\u001b[0;32m     82\u001b[0m \u001b[1;32mdef\u001b[0m \u001b[0msweep1D\u001b[0m\u001b[1;33m(\u001b[0m\u001b[0mpna\u001b[0m\u001b[1;33m,\u001b[0m \u001b[0mparam_vals\u001b[0m\u001b[1;33m,\u001b[0m \u001b[0mparam_setter\u001b[0m\u001b[1;33m,\u001b[0m \u001b[0mfilename\u001b[0m\u001b[1;33m=\u001b[0m\u001b[0mNone\u001b[0m\u001b[1;33m)\u001b[0m\u001b[1;33m:\u001b[0m\u001b[1;33m\u001b[0m\u001b[0m\n\u001b[1;32m---> 83\u001b[1;33m         \u001b[1;32mreturn\u001b[0m \u001b[0mS21vsPar\u001b[0m\u001b[1;33m(\u001b[0m\u001b[0mpna\u001b[0m\u001b[1;33m,\u001b[0m \u001b[0mparam_vals\u001b[0m\u001b[1;33m,\u001b[0m \u001b[0mparam_setter\u001b[0m\u001b[1;33m,\u001b[0m \u001b[0mfilename\u001b[0m \u001b[1;33m=\u001b[0m \u001b[0mfilename\u001b[0m\u001b[1;33m)\u001b[0m\u001b[1;33m\u001b[0m\u001b[0m\n\u001b[0m\u001b[0;32m     84\u001b[0m '''\t\n\u001b[0;32m     85\u001b[0m         \u001b[1;32mprint\u001b[0m \u001b[1;34m\"Started at: \"\u001b[0m\u001b[1;33m,\u001b[0m \u001b[0mtime\u001b[0m\u001b[1;33m.\u001b[0m\u001b[0mstrftime\u001b[0m\u001b[1;33m(\u001b[0m\u001b[1;34m\"%b %d %Y %H:%M:%S\"\u001b[0m\u001b[1;33m,\u001b[0m \u001b[0mtime\u001b[0m\u001b[1;33m.\u001b[0m\u001b[0mlocaltime\u001b[0m\u001b[1;33m(\u001b[0m\u001b[1;33m)\u001b[0m\u001b[1;33m)\u001b[0m\u001b[1;33m\u001b[0m\u001b[0m\n",
      "\u001b[1;32mc:\\qtlab\\ReiData\\qtlab_addons\\scripts\\measurements\\parametric_sweep.pyc\u001b[0m in \u001b[0;36mS21vsPar\u001b[1;34m(pna, param_vals, param_setter, filename, root_dir, plot, header, output)\u001b[0m\n\u001b[0;32m    276\u001b[0m                         \u001b[1;32mwhile\u001b[0m \u001b[0mint\u001b[0m\u001b[1;33m(\u001b[0m\u001b[0mpna\u001b[0m\u001b[1;33m.\u001b[0m\u001b[0mask\u001b[0m\u001b[1;33m(\u001b[0m\u001b[1;34m\"*ESR?\"\u001b[0m\u001b[1;33m)\u001b[0m\u001b[1;33m)\u001b[0m\u001b[1;33m==\u001b[0m\u001b[1;36m0\u001b[0m\u001b[1;33m:\u001b[0m\u001b[1;33m\u001b[0m\u001b[0m\n\u001b[0;32m    277\u001b[0m                                 \u001b[0mplt\u001b[0m\u001b[1;33m.\u001b[0m\u001b[0mpause\u001b[0m\u001b[1;33m(\u001b[0m\u001b[1;36m0.01\u001b[0m\u001b[1;33m)\u001b[0m\u001b[1;33m\u001b[0m\u001b[0m\n\u001b[1;32m--> 278\u001b[1;33m                                 \u001b[0mtime\u001b[0m\u001b[1;33m.\u001b[0m\u001b[0msleep\u001b[0m\u001b[1;33m(\u001b[0m\u001b[1;36m0.1\u001b[0m\u001b[1;33m)\u001b[0m\u001b[1;33m\u001b[0m\u001b[0m\n\u001b[0m\u001b[0;32m    279\u001b[0m \u001b[1;33m\u001b[0m\u001b[0m\n\u001b[0;32m    280\u001b[0m                         \u001b[1;31m#Get data when ready\u001b[0m\u001b[1;33m\u001b[0m\u001b[1;33m\u001b[0m\u001b[0m\n",
      "\u001b[1;31mKeyboardInterrupt\u001b[0m: "
     ]
    }
   ],
   "source": [
    "execfile(\"measurements/script_power_sweep.py\")# Запуск скрипта. Данные сохраняются в объект measurement"
   ]
  },
  {
   "cell_type": "code",
   "execution_count": null,
   "metadata": {
    "scrolled": true
   },
   "outputs": [],
   "source": [
    "execfile(\"measurements/script_qubit_2tone.py\")# Запуск скрипта. Данные сохраняются в объект measurement"
   ]
  },
  {
   "cell_type": "code",
   "execution_count": 13,
   "metadata": {
    "scrolled": true
   },
   "outputs": [
    {
     "name": "stdout",
     "output_type": "stream",
     "text": [
      "Started at:  Mar 09 2017 18:37:50\n",
      "Averages: 1, bandwidth: 10.0, power: 0.0\n",
      "Sweeping total: 201 sweeps, each of 1 point(s)\n",
      "Sweep-only time: 0.0884994 s\n",
      "Time left: 0 h 0 m 0.0 s, parameter value: 1.000e+10, average cycle time: 0.17 s          \n",
      "Elapsed time: 0 h 0 m 34.99 s\n"
     ]
    }
   ],
   "source": [
    "execfile(\"measurements/script_qubit_2tone_Fly_annihilator.py\")# Запуск скрипта. Данные сохраняются в объект measurement"
   ]
  },
  {
   "cell_type": "code",
   "execution_count": 9,
   "metadata": {},
   "outputs": [
    {
     "data": {
      "text/plain": [
       "[<matplotlib.lines.Line2D at 0xd236b10>]"
      ]
     },
     "execution_count": 9,
     "metadata": {},
     "output_type": "execute_result"
    }
   ],
   "source": [
    "plt.figure()\n",
    "plt.plot(measurement.get_data()[0], measurement.get_data()[2])\n",
    "plt.figure()\n",
    "plt.plot(measurement.get_data()[0], measurement.get_data()[3])"
   ]
  },
  {
   "cell_type": "code",
   "execution_count": 30,
   "metadata": {},
   "outputs": [
    {
     "name": "stdout",
     "output_type": "stream",
     "text": [
      "\u001b[1;31m---------------------------------------------------------------------------\u001b[0m\n",
      "\u001b[1;31mIOError\u001b[0m                                   Traceback (most recent call last)\n",
      "\u001b[1;32m<ipython-input-30-e7d97463955e>\u001b[0m in \u001b[0;36m<module>\u001b[1;34m()\u001b[0m\n",
      "\u001b[0;32m     16\u001b[0m \u001b[1;33m\u001b[0m\u001b[0m\n",
      "\u001b[0;32m     17\u001b[0m \u001b[0mplt\u001b[0m\u001b[1;33m.\u001b[0m\u001b[0mgcf\u001b[0m\u001b[1;33m(\u001b[0m\u001b[1;33m)\u001b[0m\u001b[1;33m.\u001b[0m\u001b[0mset_size_inches\u001b[0m\u001b[1;33m(\u001b[0m\u001b[1;36m20\u001b[0m\u001b[1;33m,\u001b[0m\u001b[1;36m10\u001b[0m\u001b[1;33m)\u001b[0m\u001b[1;33m\u001b[0m\u001b[0m\n",
      "\u001b[1;32m---> 18\u001b[1;33m \u001b[0mplt\u001b[0m\u001b[1;33m.\u001b[0m\u001b[0msavefig\u001b[0m\u001b[1;33m(\u001b[0m\u001b[1;34m\"C:/qtlab/ReiData/data/Mar 09 2016/2tone_18dB_ex_-15dB_readout.pdf\"\u001b[0m\u001b[1;33m,\u001b[0m \u001b[0mbbox_inches\u001b[0m\u001b[1;33m=\u001b[0m\u001b[1;34m\"tight\"\u001b[0m\u001b[1;33m)\u001b[0m\u001b[1;33m\u001b[0m\u001b[0m\n",
      "\u001b[0m\n",
      "\u001b[1;32mC:\\Python27\\Lib\\site-packages\\matplotlib\\pyplot.pyc\u001b[0m in \u001b[0;36msavefig\u001b[1;34m(*args, **kwargs)\u001b[0m\n",
      "\u001b[0;32m    575\u001b[0m \u001b[1;32mdef\u001b[0m \u001b[0msavefig\u001b[0m\u001b[1;33m(\u001b[0m\u001b[1;33m*\u001b[0m\u001b[0margs\u001b[0m\u001b[1;33m,\u001b[0m \u001b[1;33m**\u001b[0m\u001b[0mkwargs\u001b[0m\u001b[1;33m)\u001b[0m\u001b[1;33m:\u001b[0m\u001b[1;33m\u001b[0m\u001b[0m\n",
      "\u001b[0;32m    576\u001b[0m     \u001b[0mfig\u001b[0m \u001b[1;33m=\u001b[0m \u001b[0mgcf\u001b[0m\u001b[1;33m(\u001b[0m\u001b[1;33m)\u001b[0m\u001b[1;33m\u001b[0m\u001b[0m\n",
      "\u001b[1;32m--> 577\u001b[1;33m     \u001b[0mres\u001b[0m \u001b[1;33m=\u001b[0m \u001b[0mfig\u001b[0m\u001b[1;33m.\u001b[0m\u001b[0msavefig\u001b[0m\u001b[1;33m(\u001b[0m\u001b[1;33m*\u001b[0m\u001b[0margs\u001b[0m\u001b[1;33m,\u001b[0m \u001b[1;33m**\u001b[0m\u001b[0mkwargs\u001b[0m\u001b[1;33m)\u001b[0m\u001b[1;33m\u001b[0m\u001b[0m\n",
      "\u001b[0m\u001b[0;32m    578\u001b[0m     \u001b[0mdraw\u001b[0m\u001b[1;33m(\u001b[0m\u001b[1;33m)\u001b[0m   \u001b[1;31m# need this if 'transparent=True' to reset colors\u001b[0m\u001b[1;33m\u001b[0m\u001b[0m\n",
      "\u001b[0;32m    579\u001b[0m     \u001b[1;32mreturn\u001b[0m \u001b[0mres\u001b[0m\u001b[1;33m\u001b[0m\u001b[0m\n",
      "\n",
      "\u001b[1;32mC:\\Python27\\Lib\\site-packages\\matplotlib\\figure.pyc\u001b[0m in \u001b[0;36msavefig\u001b[1;34m(self, *args, **kwargs)\u001b[0m\n",
      "\u001b[0;32m   1474\u001b[0m             \u001b[0mself\u001b[0m\u001b[1;33m.\u001b[0m\u001b[0mset_frameon\u001b[0m\u001b[1;33m(\u001b[0m\u001b[0mframeon\u001b[0m\u001b[1;33m)\u001b[0m\u001b[1;33m\u001b[0m\u001b[0m\n",
      "\u001b[0;32m   1475\u001b[0m \u001b[1;33m\u001b[0m\u001b[0m\n",
      "\u001b[1;32m-> 1476\u001b[1;33m         \u001b[0mself\u001b[0m\u001b[1;33m.\u001b[0m\u001b[0mcanvas\u001b[0m\u001b[1;33m.\u001b[0m\u001b[0mprint_figure\u001b[0m\u001b[1;33m(\u001b[0m\u001b[1;33m*\u001b[0m\u001b[0margs\u001b[0m\u001b[1;33m,\u001b[0m \u001b[1;33m**\u001b[0m\u001b[0mkwargs\u001b[0m\u001b[1;33m)\u001b[0m\u001b[1;33m\u001b[0m\u001b[0m\n",
      "\u001b[0m\u001b[0;32m   1477\u001b[0m \u001b[1;33m\u001b[0m\u001b[0m\n",
      "\u001b[0;32m   1478\u001b[0m         \u001b[1;32mif\u001b[0m \u001b[0mframeon\u001b[0m\u001b[1;33m:\u001b[0m\u001b[1;33m\u001b[0m\u001b[0m\n",
      "\n",
      "\u001b[1;32mC:\\Python27\\Lib\\site-packages\\matplotlib\\backends\\backend_qt5agg.pyc\u001b[0m in \u001b[0;36mprint_figure\u001b[1;34m(self, *args, **kwargs)\u001b[0m\n",
      "\u001b[0;32m    159\u001b[0m \u001b[1;33m\u001b[0m\u001b[0m\n",
      "\u001b[0;32m    160\u001b[0m     \u001b[1;32mdef\u001b[0m \u001b[0mprint_figure\u001b[0m\u001b[1;33m(\u001b[0m\u001b[0mself\u001b[0m\u001b[1;33m,\u001b[0m \u001b[1;33m*\u001b[0m\u001b[0margs\u001b[0m\u001b[1;33m,\u001b[0m \u001b[1;33m**\u001b[0m\u001b[0mkwargs\u001b[0m\u001b[1;33m)\u001b[0m\u001b[1;33m:\u001b[0m\u001b[1;33m\u001b[0m\u001b[0m\n",
      "\u001b[1;32m--> 161\u001b[1;33m         \u001b[0mFigureCanvasAgg\u001b[0m\u001b[1;33m.\u001b[0m\u001b[0mprint_figure\u001b[0m\u001b[1;33m(\u001b[0m\u001b[0mself\u001b[0m\u001b[1;33m,\u001b[0m \u001b[1;33m*\u001b[0m\u001b[0margs\u001b[0m\u001b[1;33m,\u001b[0m \u001b[1;33m**\u001b[0m\u001b[0mkwargs\u001b[0m\u001b[1;33m)\u001b[0m\u001b[1;33m\u001b[0m\u001b[0m\n",
      "\u001b[0m\u001b[0;32m    162\u001b[0m         \u001b[0mself\u001b[0m\u001b[1;33m.\u001b[0m\u001b[0mdraw\u001b[0m\u001b[1;33m(\u001b[0m\u001b[1;33m)\u001b[0m\u001b[1;33m\u001b[0m\u001b[0m\n",
      "\u001b[0;32m    163\u001b[0m \u001b[1;33m\u001b[0m\u001b[0m\n",
      "\n",
      "\u001b[1;32mC:\\Python27\\Lib\\site-packages\\matplotlib\\backend_bases.pyc\u001b[0m in \u001b[0;36mprint_figure\u001b[1;34m(self, filename, dpi, facecolor, edgecolor, orientation, format, **kwargs)\u001b[0m\n",
      "\u001b[0;32m   2209\u001b[0m                 \u001b[0morientation\u001b[0m\u001b[1;33m=\u001b[0m\u001b[0morientation\u001b[0m\u001b[1;33m,\u001b[0m\u001b[1;33m\u001b[0m\u001b[0m\n",
      "\u001b[0;32m   2210\u001b[0m                 \u001b[0mbbox_inches_restore\u001b[0m\u001b[1;33m=\u001b[0m\u001b[0m_bbox_inches_restore\u001b[0m\u001b[1;33m,\u001b[0m\u001b[1;33m\u001b[0m\u001b[0m\n",
      "\u001b[1;32m-> 2211\u001b[1;33m                 **kwargs)\n",
      "\u001b[0m\u001b[0;32m   2212\u001b[0m         \u001b[1;32mfinally\u001b[0m\u001b[1;33m:\u001b[0m\u001b[1;33m\u001b[0m\u001b[0m\n",
      "\u001b[0;32m   2213\u001b[0m             \u001b[1;32mif\u001b[0m \u001b[0mbbox_inches\u001b[0m \u001b[1;32mand\u001b[0m \u001b[0mrestore_bbox\u001b[0m\u001b[1;33m:\u001b[0m\u001b[1;33m\u001b[0m\u001b[0m\n",
      "\n",
      "\u001b[1;32mC:\\Python27\\Lib\\site-packages\\matplotlib\\backends\\backend_pdf.pyc\u001b[0m in \u001b[0;36mprint_pdf\u001b[1;34m(self, filename, **kwargs)\u001b[0m\n",
      "\u001b[0;32m   2475\u001b[0m             \u001b[0mfile\u001b[0m \u001b[1;33m=\u001b[0m \u001b[0mfilename\u001b[0m\u001b[1;33m.\u001b[0m\u001b[0m_file\u001b[0m\u001b[1;33m\u001b[0m\u001b[0m\n",
      "\u001b[0;32m   2476\u001b[0m         \u001b[1;32melse\u001b[0m\u001b[1;33m:\u001b[0m\u001b[1;33m\u001b[0m\u001b[0m\n",
      "\u001b[1;32m-> 2477\u001b[1;33m             \u001b[0mfile\u001b[0m \u001b[1;33m=\u001b[0m \u001b[0mPdfFile\u001b[0m\u001b[1;33m(\u001b[0m\u001b[0mfilename\u001b[0m\u001b[1;33m)\u001b[0m\u001b[1;33m\u001b[0m\u001b[0m\n",
      "\u001b[0m\u001b[0;32m   2478\u001b[0m         \u001b[1;32mtry\u001b[0m\u001b[1;33m:\u001b[0m\u001b[1;33m\u001b[0m\u001b[0m\n",
      "\u001b[0;32m   2479\u001b[0m             \u001b[0mfile\u001b[0m\u001b[1;33m.\u001b[0m\u001b[0mnewPage\u001b[0m\u001b[1;33m(\u001b[0m\u001b[0mwidth\u001b[0m\u001b[1;33m,\u001b[0m \u001b[0mheight\u001b[0m\u001b[1;33m)\u001b[0m\u001b[1;33m\u001b[0m\u001b[0m\n",
      "\n",
      "\u001b[1;32mC:\\Python27\\Lib\\site-packages\\matplotlib\\backends\\backend_pdf.pyc\u001b[0m in \u001b[0;36m__init__\u001b[1;34m(self, filename)\u001b[0m\n",
      "\u001b[0;32m    416\u001b[0m         \u001b[0mself\u001b[0m\u001b[1;33m.\u001b[0m\u001b[0mtell_base\u001b[0m \u001b[1;33m=\u001b[0m \u001b[1;36m0\u001b[0m\u001b[1;33m\u001b[0m\u001b[0m\n",
      "\u001b[0;32m    417\u001b[0m         \u001b[1;32mif\u001b[0m \u001b[0mis_string_like\u001b[0m\u001b[1;33m(\u001b[0m\u001b[0mfilename\u001b[0m\u001b[1;33m)\u001b[0m\u001b[1;33m:\u001b[0m\u001b[1;33m\u001b[0m\u001b[0m\n",
      "\u001b[1;32m--> 418\u001b[1;33m             \u001b[0mfh\u001b[0m \u001b[1;33m=\u001b[0m \u001b[0mopen\u001b[0m\u001b[1;33m(\u001b[0m\u001b[0mfilename\u001b[0m\u001b[1;33m,\u001b[0m \u001b[1;34m'wb'\u001b[0m\u001b[1;33m)\u001b[0m\u001b[1;33m\u001b[0m\u001b[0m\n",
      "\u001b[0m\u001b[0;32m    419\u001b[0m         \u001b[1;32melif\u001b[0m \u001b[0mis_writable_file_like\u001b[0m\u001b[1;33m(\u001b[0m\u001b[0mfilename\u001b[0m\u001b[1;33m)\u001b[0m\u001b[1;33m:\u001b[0m\u001b[1;33m\u001b[0m\u001b[0m\n",
      "\u001b[0;32m    420\u001b[0m             \u001b[1;32mtry\u001b[0m\u001b[1;33m:\u001b[0m\u001b[1;33m\u001b[0m\u001b[0m\n",
      "\n",
      "\u001b[1;31mIOError\u001b[0m: [Errno 2] No such file or directory: 'C:/qtlab/ReiData/data/Mar 09 2016/2tone_18dB_ex_-15dB_readout.pdf'\n"
     ]
    }
   ],
   "source": [
    "fig, axes = plt.subplots(2,1,figsize=(20, 10))\n",
    "\n",
    "#plt.plot(measurement.get_data()[0], measurement.get_data()[2])\n",
    "p = axes[0].plot(measurement.get_data()[0]/1e9, measurement.get_data()[2])\n",
    "#axes.axis('tight')\n",
    "#axes[0].set_xlabel(r'Exitqtion frequency (GHz)', fontsize=20)\n",
    "axes[0].set_ylabel(r'Phase (Rad)', fontsize=20)\n",
    "\n",
    "#plt.plot(measurement.get_data()[0], measurement.get_data()[2])\n",
    "p = axes[1].plot(measurement.get_data()[0]/1e9, measurement.get_data()[3])\n",
    "#axes.axis('tight')\n",
    "axes[1].set_xlabel(r'Exitation frequency (GHz)', fontsize=20)\n",
    "axes[1].set_ylabel(r'Phase (Rad)', fontsize=20)\n",
    "\n",
    "#axes.text(15, 6.08,'0-1', fontsize=24, verticalalignment='center')\n",
    "\n",
    "plt.gcf().set_size_inches(20,10)\n",
    "plt.savefig(\"C:/qtlab/ReiData/data/Mar 09 2016/2tone_18dB_ex_-15dB_readout.pdf\", bbox_inches=\"tight\")"
   ]
  },
  {
   "cell_type": "code",
   "execution_count": 89,
   "metadata": {
    "collapsed": true
   },
   "outputs": [],
   "source": [
    "import matplotlib.pyplot as plt\n",
    "from mpl_toolkits.mplot3d import Axes3D"
   ]
  },
  {
   "cell_type": "code",
   "execution_count": 90,
   "metadata": {},
   "outputs": [
    {
     "name": "stdout",
     "output_type": "stream",
     "text": [
      "\u001b[1;31m---------------------------------------------------------------------------\u001b[0m\n",
      "\u001b[1;31mTypeError\u001b[0m                                 Traceback (most recent call last)\n",
      "\u001b[1;32m<ipython-input-90-b399d75b672f>\u001b[0m in \u001b[0;36m<module>\u001b[1;34m()\u001b[0m\n",
      "\u001b[1;32m----> 1\u001b[1;33m \u001b[0mAxes3D\u001b[0m\u001b[1;33m.\u001b[0m\u001b[0mplot_surface\u001b[0m\u001b[1;33m(\u001b[0m\u001b[0mmeasurement\u001b[0m\u001b[1;33m.\u001b[0m\u001b[0mget_data\u001b[0m\u001b[1;33m(\u001b[0m\u001b[1;33m)\u001b[0m\u001b[1;33m[\u001b[0m\u001b[1;36m1\u001b[0m\u001b[1;33m]\u001b[0m\u001b[1;33m,\u001b[0m\u001b[0mmeasurement\u001b[0m\u001b[1;33m.\u001b[0m\u001b[0mget_data\u001b[0m\u001b[1;33m(\u001b[0m\u001b[1;33m)\u001b[0m\u001b[1;33m[\u001b[0m\u001b[1;36m2\u001b[0m\u001b[1;33m]\u001b[0m\u001b[1;33m,\u001b[0m\u001b[0mmeasurement\u001b[0m\u001b[1;33m.\u001b[0m\u001b[0mget_data\u001b[0m\u001b[1;33m(\u001b[0m\u001b[1;33m)\u001b[0m\u001b[1;33m[\u001b[0m\u001b[1;36m4\u001b[0m\u001b[1;33m]\u001b[0m\u001b[1;33m[\u001b[0m\u001b[1;36m0\u001b[0m\u001b[1;33m,\u001b[0m\u001b[1;33m:\u001b[0m\u001b[1;33m]\u001b[0m\u001b[1;33m)\u001b[0m\u001b[1;33m\u001b[0m\u001b[0m\n",
      "\u001b[0m\n",
      "\u001b[1;31mTypeError\u001b[0m: unbound method plot_surface() must be called with Axes3D instance as first argument (got ndarray instance instead)\n"
     ]
    }
   ],
   "source": [
    "Axes3D.plot_surface(measurement.get_data()[1],measurement.get_data()[2],measurement.get_data()[4][0,:])"
   ]
  },
  {
   "cell_type": "code",
   "execution_count": 79,
   "metadata": {},
   "outputs": [
    {
     "data": {
      "text/plain": [
       "[<matplotlib.lines.Line2D at 0x101fda30>]"
      ]
     },
     "execution_count": 79,
     "metadata": {},
     "output_type": "execute_result"
    }
   ],
   "source": [
    "plt.figure()\n",
    "plt.plot(measurement.get_data()[1], (measurement.get_data()[3]-np.mean(measurement.get_data()[3], axis=0)).T)\n",
    "plt.figure()\n",
    "plt.plot(measurement.get_data()[1], (measurement.get_data()[4]-np.mean(measurement.get_data()[4], axis=0)).T)"
   ]
  },
  {
   "cell_type": "markdown",
   "metadata": {},
   "source": [
    "# Просто спектры"
   ]
  },
  {
   "cell_type": "code",
   "execution_count": 21,
   "metadata": {},
   "outputs": [],
   "source": [
    "resonator_freqs = [7.517e9, 7.202e9, 12.18e9]\n",
    "spans = [300e6, 300e6, 100e6]\n",
    "data = measure_resonances(pna, resonator_freqs, spans, nop=101, measurement_time=600)\n",
    "for r_id, r in enumerate(data):\n",
    "    save_pkl({'type':'resonator S21', 'name': '{0:7.4g}'.format(resonator_freqs[r_id])}, \n",
    "             (r[0], np.log10(r[1][0])*10, r[1][1]))"
   ]
  },
  {
   "cell_type": "code",
   "execution_count": 32,
   "metadata": {},
   "outputs": [
    {
     "data": {
      "text/plain": [
       "[<matplotlib.lines.Line2D at 0x16373c90>]"
      ]
     },
     "execution_count": 32,
     "metadata": {},
     "output_type": "execute_result"
    }
   ],
   "source": [
    "import pickle\n",
    "with open('C:/qtlab/ReiData/data/Jun 10 2016/20-29-09/resonator S21 7.517e+09.pkl') as f:\n",
    "    data = pickle.load(f)\n",
    "freqs = data[1][0]\n",
    "S21s = 10**(data[1][1]/10)*np.exp(1j*data[1][2])\n",
    "plt.plot(freqs, np.log10(np.abs(S21s))*10)"
   ]
  },
  {
   "cell_type": "markdown",
   "metadata": {},
   "source": [
    "# Спектры в зависимости от мощности"
   ]
  },
  {
   "cell_type": "code",
   "execution_count": 6,
   "metadata": {},
   "outputs": [],
   "source": [
    "resonator_freqs = [7.517e9, 7.202e9, 12.18e9]\n",
    "spans = [50e6, 50e6, 50e6]\n",
    "powers = np.linspace(-60, 0, 13)\n",
    "data = []\n",
    "for power_id, power in enumerate(powers):\n",
    "    data.append(measure_resonances(pna, resonator_freqs, spans, nop=201, measurement_time=30))\n",
    "for r_id, freq in enumerate(resonator_freqs):\n",
    "    freqs = data[0][r_id][0]\n",
    "    S21 = [np.reshape([r[r_id][1][x] for r in data], (powers.size, data[0][0][0].size)).T for x in range(2)]\n",
    "    save_pkl({'type':'resonator S21', 'name': '{0:7.4g}'.format(freq)}, \n",
    "             (freqs, powers, np.log10(S21[0])*10, S21[1]))"
   ]
  },
  {
   "cell_type": "code",
   "execution_count": 7,
   "metadata": {},
   "outputs": [],
   "source": [
    "for r_id, freq in enumerate(resonator_freqs):\n",
    "    freqs = data[0][r_id][0]\n",
    "    S21 = [np.reshape([r[r_id][1][x] for r in data], (powers.size, data[0][0][0].size)).T for x in range(2)]\n",
    "    save_pkl({'type':'resonator S21', 'name': '{0:7.4g}'.format(freq)}, \n",
    "             (freqs, powers, np.log10(S21[0])*10, S21[1]))"
   ]
  },
  {
   "cell_type": "markdown",
   "metadata": {},
   "source": [
    "# Спектры в зависимости от поля"
   ]
  },
  {
   "cell_type": "code",
   "execution_count": null,
   "metadata": {
    "collapsed": true
   },
   "outputs": [],
   "source": [
    "pna.set_power(-20)\n",
    "pna.set_xlim(3e9, 12e9)\n"
   ]
  },
  {
   "cell_type": "markdown",
   "metadata": {},
   "source": [
    "# Фитинг резонатора"
   ]
  },
  {
   "cell_type": "code",
   "execution_count": 60,
   "metadata": {},
   "outputs": [],
   "source": [
    "from measurements import resonator_quality_factor_fit\n",
    "execfile(\"measurements/resonator_quality_factor_fit.py\")"
   ]
  },
  {
   "cell_type": "code",
   "execution_count": 61,
   "metadata": {
    "collapsed": true
   },
   "outputs": [
    {
     "name": "stdout",
     "output_type": "stream",
     "text": [
      "agebraic r0: 0.812347499445\n",
      "iterative r0: 0.81210412587\n",
      "agebraic r0: 0.814537994174\n",
      "iterative r0: 0.814310569544\n",
      "agebraic r0: 0.815726121788\n",
      "iterative r0: 0.815426741855\n",
      "agebraic r0: 0.814854774605\n",
      "iterative r0: 0.814449554057\n",
      "agebraic r0: 0.815422485559\n",
      "iterative r0: 0.814944472309\n",
      "agebraic r0: 0.814600983275\n",
      "iterative r0: 0.813956156356\n",
      "agebraic r0: 0.815940445843\n",
      "iterative r0: 0.815180112496\n",
      "agebraic r0: 0.817746034702\n",
      "iterative r0: 0.816776251543\n",
      "agebraic r0: 0.81661052273\n",
      "iterative r0: 0.815256649864\n",
      "agebraic r0: 0.812271905306\n",
      "iterative r0: 0.810621423654\n",
      "agebraic r0: 0.816713527098\n",
      "iterative r0: 0.814910253546\n",
      "agebraic r0: 0.814502119502\n",
      "iterative r0: 0.812336078226\n",
      "agebraic r0: 0.816240589906\n",
      "iterative r0: 0.812961061539\n",
      "agebraic r0: 0.811075673819\n",
      "iterative r0: 0.809202266714\n",
      "agebraic r0: 0.815259921478\n",
      "iterative r0: 0.813158726313\n",
      "agebraic r0: 0.812798739235\n",
      "iterative r0: 0.810885910765\n",
      "agebraic r0: 0.820747453777\n",
      "iterative r0: 0.818976450211\n",
      "agebraic r0: 0.815561838361\n",
      "iterative r0: 0.813599496822\n",
      "agebraic r0: 0.812208998974\n",
      "iterative r0: 0.810296423409\n",
      "agebraic r0: 0.820335304491\n",
      "iterative r0: 0.818218956386\n",
      "agebraic r0: 0.816340725492\n",
      "iterative r0: 0.814513158311\n",
      "agebraic r0: 0.810836501963\n",
      "iterative r0: 0.808410224267\n",
      "agebraic r0: 0.808101763692\n",
      "iterative r0: 0.806011465381\n",
      "agebraic r0: 0.805717115969\n",
      "iterative r0: 0.803045058366\n",
      "agebraic r0: 0.8095957844\n",
      "iterative r0: 0.807096634309\n",
      "agebraic r0: 0.811574115651\n",
      "iterative r0: 0.808613646074\n",
      "agebraic r0: 0.796842156453\n",
      "iterative r0: 0.794785760939\n",
      "agebraic r0: 0.799568460428\n",
      "iterative r0: 0.797985085953\n",
      "agebraic r0: 0.800372838818\n",
      "iterative r0: 0.797818388636\n",
      "agebraic r0: 0.802025872123\n",
      "iterative r0: 0.79918525419\n",
      "agebraic r0: 0.800410682605\n",
      "iterative r0: 0.799293552056\n",
      "agebraic r0: 0.793958927023\n",
      "iterative r0: 0.791887037353\n",
      "agebraic r0: 0.792157830848\n",
      "iterative r0: 0.790804188718\n",
      "agebraic r0: 0.790204295296\n",
      "iterative r0: 0.788475424927\n",
      "agebraic r0: 0.790788285\n",
      "iterative r0: 0.78883816427\n",
      "agebraic r0: 0.799588394221\n",
      "iterative r0: 0.797525485205\n",
      "agebraic r0: 0.795112374412\n",
      "iterative r0: 0.793422226911\n",
      "agebraic r0: 0.795517211231\n",
      "iterative r0: 0.794110314575\n",
      "agebraic r0: 0.795008317663\n",
      "iterative r0: 0.793176080706\n",
      "agebraic r0: 0.788636743054\n",
      "iterative r0: 0.786559010764\n",
      "agebraic r0: 0.79616555789\n",
      "iterative r0: 0.794796507977\n",
      "agebraic r0: 0.789437907243\n",
      "iterative r0: 0.787880173963\n",
      "agebraic r0: 0.784302935134\n",
      "iterative r0: 0.782540930516\n",
      "agebraic r0: 0.790289472956\n",
      "iterative r0: 0.788390889001\n",
      "agebraic r0: 0.78979151817\n",
      "iterative r0: 0.787492104781\n",
      "agebraic r0: 0.796207055806\n",
      "iterative r0: 0.794081320115\n",
      "agebraic r0: 0.80372143798\n",
      "iterative r0: 0.802036385521\n",
      "agebraic r0: 0.804433871384\n",
      "iterative r0: 0.80268320018\n",
      "agebraic r0: 0.802309961493\n",
      "iterative r0: 0.800122499734\n",
      "agebraic r0: 0.807850258086\n",
      "iterative r0: 0.80616710906\n",
      "agebraic r0: 0.805799586328\n",
      "iterative r0: 0.804566093783\n"
     ]
    }
   ],
   "source": [
    "resonator_fit_results = resonator_quality_factor_fit(measurement, measurement.get_data()[0])\n",
    "resonator_fit_results['powers'] = measurement.get_data()[0]"
   ]
  },
  {
   "cell_type": "code",
   "execution_count": 62,
   "metadata": {
    "scrolled": true
   },
   "outputs": [
    {
     "data": {
      "text/html": [
       "<div>\n",
       "<table border=\"1\" class=\"dataframe\">\n",
       "  <thead>\n",
       "    <tr style=\"text-align: right;\">\n",
       "      <th></th>\n",
       "      <th>Qc_dia_corr</th>\n",
       "      <th>Qi_dia_corr</th>\n",
       "      <th>Qi_dia_corr_err</th>\n",
       "      <th>Qi_no_corr</th>\n",
       "      <th>Qi_no_corr_err</th>\n",
       "      <th>Ql</th>\n",
       "      <th>Ql_err</th>\n",
       "      <th>absQc</th>\n",
       "      <th>absQc_err</th>\n",
       "      <th>chi_square</th>\n",
       "      <th>fr</th>\n",
       "      <th>fr_err</th>\n",
       "      <th>phi0</th>\n",
       "      <th>phi0_err</th>\n",
       "      <th>power</th>\n",
       "      <th>theta0</th>\n",
       "      <th>powers</th>\n",
       "    </tr>\n",
       "  </thead>\n",
       "  <tbody>\n",
       "    <tr>\n",
       "      <th>0</th>\n",
       "      <td>23151.458116</td>\n",
       "      <td>-60241.906080</td>\n",
       "      <td>383.421823</td>\n",
       "      <td>-60240.070202</td>\n",
       "      <td>383.295594</td>\n",
       "      <td>37602.348906</td>\n",
       "      <td>175.028751</td>\n",
       "      <td>23151.186965</td>\n",
       "      <td>67.477374</td>\n",
       "      <td>0.000207</td>\n",
       "      <td>9.467746e+09</td>\n",
       "      <td>543.546279</td>\n",
       "      <td>0.004840</td>\n",
       "      <td>0.003612</td>\n",
       "      <td>0.0</td>\n",
       "      <td>-3.136754</td>\n",
       "      <td>0.0</td>\n",
       "    </tr>\n",
       "    <tr>\n",
       "      <th>1</th>\n",
       "      <td>23171.083499</td>\n",
       "      <td>-60032.442044</td>\n",
       "      <td>367.770515</td>\n",
       "      <td>-60030.510126</td>\n",
       "      <td>367.735099</td>\n",
       "      <td>37736.447656</td>\n",
       "      <td>169.665757</td>\n",
       "      <td>23170.795681</td>\n",
       "      <td>68.966814</td>\n",
       "      <td>0.000210</td>\n",
       "      <td>9.467746e+09</td>\n",
       "      <td>544.508112</td>\n",
       "      <td>0.004984</td>\n",
       "      <td>0.003473</td>\n",
       "      <td>-1.0</td>\n",
       "      <td>-3.134181</td>\n",
       "      <td>-1.0</td>\n",
       "    </tr>\n",
       "    <tr>\n",
       "      <th>2</th>\n",
       "      <td>23216.309509</td>\n",
       "      <td>-60018.489453</td>\n",
       "      <td>361.588414</td>\n",
       "      <td>-60017.264317</td>\n",
       "      <td>361.192550</td>\n",
       "      <td>37862.100277</td>\n",
       "      <td>178.065994</td>\n",
       "      <td>23216.126191</td>\n",
       "      <td>71.703334</td>\n",
       "      <td>0.000242</td>\n",
       "      <td>9.467746e+09</td>\n",
       "      <td>594.264589</td>\n",
       "      <td>0.003974</td>\n",
       "      <td>0.003995</td>\n",
       "      <td>-2.0</td>\n",
       "      <td>-3.134805</td>\n",
       "      <td>-2.0</td>\n",
       "    </tr>\n",
       "    <tr>\n",
       "      <th>3</th>\n",
       "      <td>23204.915348</td>\n",
       "      <td>-60103.124100</td>\n",
       "      <td>396.058747</td>\n",
       "      <td>-60102.255840</td>\n",
       "      <td>395.944507</td>\n",
       "      <td>37798.255093</td>\n",
       "      <td>192.421604</td>\n",
       "      <td>23204.785923</td>\n",
       "      <td>79.132952</td>\n",
       "      <td>0.000256</td>\n",
       "      <td>9.467746e+09</td>\n",
       "      <td>585.208268</td>\n",
       "      <td>0.003340</td>\n",
       "      <td>0.003681</td>\n",
       "      <td>-3.0</td>\n",
       "      <td>-3.132758</td>\n",
       "      <td>-3.0</td>\n",
       "    </tr>\n",
       "    <tr>\n",
       "      <th>4</th>\n",
       "      <td>23190.035443</td>\n",
       "      <td>-60006.164380</td>\n",
       "      <td>469.909930</td>\n",
       "      <td>-60006.068229</td>\n",
       "      <td>469.876589</td>\n",
       "      <td>37797.158987</td>\n",
       "      <td>238.914602</td>\n",
       "      <td>23190.021082</td>\n",
       "      <td>91.795086</td>\n",
       "      <td>0.000372</td>\n",
       "      <td>9.467747e+09</td>\n",
       "      <td>697.740465</td>\n",
       "      <td>0.001113</td>\n",
       "      <td>0.004645</td>\n",
       "      <td>-4.0</td>\n",
       "      <td>-3.138526</td>\n",
       "      <td>-4.0</td>\n",
       "    </tr>\n",
       "    <tr>\n",
       "      <th>5</th>\n",
       "      <td>23219.668146</td>\n",
       "      <td>-60201.032816</td>\n",
       "      <td>461.630410</td>\n",
       "      <td>-60197.439399</td>\n",
       "      <td>461.119504</td>\n",
       "      <td>37798.713392</td>\n",
       "      <td>207.875641</td>\n",
       "      <td>23219.133547</td>\n",
       "      <td>96.946123</td>\n",
       "      <td>0.000384</td>\n",
       "      <td>9.467745e+09</td>\n",
       "      <td>764.746041</td>\n",
       "      <td>0.006786</td>\n",
       "      <td>0.004521</td>\n",
       "      <td>-5.0</td>\n",
       "      <td>-3.128957</td>\n",
       "      <td>-5.0</td>\n",
       "    </tr>\n",
       "    <tr>\n",
       "      <th>6</th>\n",
       "      <td>23248.367737</td>\n",
       "      <td>-60133.148379</td>\n",
       "      <td>455.698414</td>\n",
       "      <td>-60127.120019</td>\n",
       "      <td>455.440625</td>\n",
       "      <td>37901.744903</td>\n",
       "      <td>250.250739</td>\n",
       "      <td>23247.466617</td>\n",
       "      <td>108.277157</td>\n",
       "      <td>0.000467</td>\n",
       "      <td>9.467746e+09</td>\n",
       "      <td>770.509318</td>\n",
       "      <td>0.008805</td>\n",
       "      <td>0.004951</td>\n",
       "      <td>-6.0</td>\n",
       "      <td>-3.130921</td>\n",
       "      <td>-6.0</td>\n",
       "    </tr>\n",
       "    <tr>\n",
       "      <th>7</th>\n",
       "      <td>23018.743983</td>\n",
       "      <td>-59352.163271</td>\n",
       "      <td>566.024144</td>\n",
       "      <td>-59351.171231</td>\n",
       "      <td>565.728201</td>\n",
       "      <td>37602.083094</td>\n",
       "      <td>274.577724</td>\n",
       "      <td>23018.594764</td>\n",
       "      <td>121.930725</td>\n",
       "      <td>0.000584</td>\n",
       "      <td>9.467746e+09</td>\n",
       "      <td>896.763493</td>\n",
       "      <td>0.003601</td>\n",
       "      <td>0.005386</td>\n",
       "      <td>-7.0</td>\n",
       "      <td>-3.135228</td>\n",
       "      <td>-7.0</td>\n",
       "    </tr>\n",
       "    <tr>\n",
       "      <th>8</th>\n",
       "      <td>23153.524053</td>\n",
       "      <td>-59876.336604</td>\n",
       "      <td>582.228303</td>\n",
       "      <td>-59874.532461</td>\n",
       "      <td>582.513062</td>\n",
       "      <td>37751.689032</td>\n",
       "      <td>287.500774</td>\n",
       "      <td>23153.254278</td>\n",
       "      <td>132.208623</td>\n",
       "      <td>0.000714</td>\n",
       "      <td>9.467745e+09</td>\n",
       "      <td>1040.182945</td>\n",
       "      <td>0.004827</td>\n",
       "      <td>0.006074</td>\n",
       "      <td>-8.0</td>\n",
       "      <td>-3.132738</td>\n",
       "      <td>-8.0</td>\n",
       "    </tr>\n",
       "    <tr>\n",
       "      <th>9</th>\n",
       "      <td>23253.269877</td>\n",
       "      <td>-60683.576538</td>\n",
       "      <td>670.039534</td>\n",
       "      <td>-60683.471086</td>\n",
       "      <td>670.044084</td>\n",
       "      <td>37699.172362</td>\n",
       "      <td>359.496055</td>\n",
       "      <td>23253.254393</td>\n",
       "      <td>144.320951</td>\n",
       "      <td>0.000812</td>\n",
       "      <td>9.467747e+09</td>\n",
       "      <td>976.352949</td>\n",
       "      <td>0.001154</td>\n",
       "      <td>0.006526</td>\n",
       "      <td>-9.0</td>\n",
       "      <td>-3.138116</td>\n",
       "      <td>-9.0</td>\n",
       "    </tr>\n",
       "    <tr>\n",
       "      <th>10</th>\n",
       "      <td>23280.771825</td>\n",
       "      <td>-60248.110414</td>\n",
       "      <td>736.165724</td>\n",
       "      <td>-60242.893387</td>\n",
       "      <td>736.577269</td>\n",
       "      <td>37942.209662</td>\n",
       "      <td>349.049958</td>\n",
       "      <td>23279.992795</td>\n",
       "      <td>163.069997</td>\n",
       "      <td>0.001021</td>\n",
       "      <td>9.467745e+09</td>\n",
       "      <td>1210.160354</td>\n",
       "      <td>0.008181</td>\n",
       "      <td>0.007097</td>\n",
       "      <td>-10.0</td>\n",
       "      <td>-3.128321</td>\n",
       "      <td>-10.0</td>\n",
       "    </tr>\n",
       "    <tr>\n",
       "      <th>11</th>\n",
       "      <td>23391.178075</td>\n",
       "      <td>-61695.954366</td>\n",
       "      <td>161833.027404</td>\n",
       "      <td>-60311.996210</td>\n",
       "      <td>159969.337445</td>\n",
       "      <td>37675.224733</td>\n",
       "      <td>66829.083551</td>\n",
       "      <td>23189.432147</td>\n",
       "      <td>16186.638380</td>\n",
       "      <td>0.367307</td>\n",
       "      <td>9.467746e+09</td>\n",
       "      <td>217697.690258</td>\n",
       "      <td>0.131433</td>\n",
       "      <td>1.653830</td>\n",
       "      <td>-11.0</td>\n",
       "      <td>-3.752705</td>\n",
       "      <td>-11.0</td>\n",
       "    </tr>\n",
       "    <tr>\n",
       "      <th>12</th>\n",
       "      <td>23552.635942</td>\n",
       "      <td>-62019.788397</td>\n",
       "      <td>132744.162758</td>\n",
       "      <td>-60667.969358</td>\n",
       "      <td>135776.136580</td>\n",
       "      <td>37973.424183</td>\n",
       "      <td>51399.601115</td>\n",
       "      <td>23355.007995</td>\n",
       "      <td>13885.655728</td>\n",
       "      <td>0.371803</td>\n",
       "      <td>9.467747e+09</td>\n",
       "      <td>189461.624128</td>\n",
       "      <td>0.129635</td>\n",
       "      <td>1.391599</td>\n",
       "      <td>-12.0</td>\n",
       "      <td>-3.756954</td>\n",
       "      <td>-12.0</td>\n",
       "    </tr>\n",
       "    <tr>\n",
       "      <th>13</th>\n",
       "      <td>23550.237528</td>\n",
       "      <td>-62552.795202</td>\n",
       "      <td>144334.656833</td>\n",
       "      <td>-61076.797967</td>\n",
       "      <td>141645.914149</td>\n",
       "      <td>37770.168750</td>\n",
       "      <td>61054.916245</td>\n",
       "      <td>23337.903454</td>\n",
       "      <td>15898.462300</td>\n",
       "      <td>0.355785</td>\n",
       "      <td>9.467745e+09</td>\n",
       "      <td>204210.252733</td>\n",
       "      <td>0.134386</td>\n",
       "      <td>1.604068</td>\n",
       "      <td>-13.0</td>\n",
       "      <td>-3.740043</td>\n",
       "      <td>-13.0</td>\n",
       "    </tr>\n",
       "    <tr>\n",
       "      <th>14</th>\n",
       "      <td>23417.325031</td>\n",
       "      <td>-61679.326102</td>\n",
       "      <td>165023.322057</td>\n",
       "      <td>-60271.876197</td>\n",
       "      <td>164419.719729</td>\n",
       "      <td>37749.327965</td>\n",
       "      <td>66932.420584</td>\n",
       "      <td>23211.537147</td>\n",
       "      <td>16366.417730</td>\n",
       "      <td>0.360817</td>\n",
       "      <td>9.467746e+09</td>\n",
       "      <td>227172.042421</td>\n",
       "      <td>0.132671</td>\n",
       "      <td>1.706726</td>\n",
       "      <td>-14.0</td>\n",
       "      <td>-3.744531</td>\n",
       "      <td>-14.0</td>\n",
       "    </tr>\n",
       "    <tr>\n",
       "      <th>15</th>\n",
       "      <td>23282.125226</td>\n",
       "      <td>-61612.759189</td>\n",
       "      <td>140586.631321</td>\n",
       "      <td>-60188.877035</td>\n",
       "      <td>144761.316884</td>\n",
       "      <td>37423.747710</td>\n",
       "      <td>56620.119491</td>\n",
       "      <td>23075.840394</td>\n",
       "      <td>16939.083652</td>\n",
       "      <td>0.359389</td>\n",
       "      <td>9.467745e+09</td>\n",
       "      <td>232181.782268</td>\n",
       "      <td>0.133217</td>\n",
       "      <td>1.739243</td>\n",
       "      <td>-15.0</td>\n",
       "      <td>-3.744533</td>\n",
       "      <td>-15.0</td>\n",
       "    </tr>\n",
       "    <tr>\n",
       "      <th>16</th>\n",
       "      <td>23362.859057</td>\n",
       "      <td>-60128.181658</td>\n",
       "      <td>35597.726620</td>\n",
       "      <td>-59893.137216</td>\n",
       "      <td>35925.021687</td>\n",
       "      <td>38209.000602</td>\n",
       "      <td>14237.634729</td>\n",
       "      <td>23327.288955</td>\n",
       "      <td>1453.729366</td>\n",
       "      <td>0.051382</td>\n",
       "      <td>9.467746e+09</td>\n",
       "      <td>46844.439303</td>\n",
       "      <td>0.055189</td>\n",
       "      <td>0.367081</td>\n",
       "      <td>-16.0</td>\n",
       "      <td>-3.356955</td>\n",
       "      <td>-16.0</td>\n",
       "    </tr>\n",
       "    <tr>\n",
       "      <th>17</th>\n",
       "      <td>23153.815804</td>\n",
       "      <td>-60193.638719</td>\n",
       "      <td>31521.786594</td>\n",
       "      <td>-59992.770286</td>\n",
       "      <td>31558.647422</td>\n",
       "      <td>37627.405149</td>\n",
       "      <td>12378.022291</td>\n",
       "      <td>23124.034182</td>\n",
       "      <td>1476.767842</td>\n",
       "      <td>0.050866</td>\n",
       "      <td>9.467747e+09</td>\n",
       "      <td>46941.884574</td>\n",
       "      <td>0.050725</td>\n",
       "      <td>0.367548</td>\n",
       "      <td>-17.0</td>\n",
       "      <td>-3.362246</td>\n",
       "      <td>-17.0</td>\n",
       "    </tr>\n",
       "    <tr>\n",
       "      <th>18</th>\n",
       "      <td>23376.691415</td>\n",
       "      <td>-61197.856380</td>\n",
       "      <td>31323.564555</td>\n",
       "      <td>-60950.544085</td>\n",
       "      <td>31343.401585</td>\n",
       "      <td>37825.471669</td>\n",
       "      <td>12034.422212</td>\n",
       "      <td>23340.515012</td>\n",
       "      <td>1438.946989</td>\n",
       "      <td>0.050199</td>\n",
       "      <td>9.467745e+09</td>\n",
       "      <td>45365.665800</td>\n",
       "      <td>0.055641</td>\n",
       "      <td>0.357292</td>\n",
       "      <td>-18.0</td>\n",
       "      <td>-3.355684</td>\n",
       "      <td>-18.0</td>\n",
       "    </tr>\n",
       "    <tr>\n",
       "      <th>19</th>\n",
       "      <td>23177.611207</td>\n",
       "      <td>-59737.792886</td>\n",
       "      <td>30645.569058</td>\n",
       "      <td>-59504.999837</td>\n",
       "      <td>30072.255616</td>\n",
       "      <td>37871.237896</td>\n",
       "      <td>12660.239524</td>\n",
       "      <td>23142.483806</td>\n",
       "      <td>1440.203853</td>\n",
       "      <td>0.052568</td>\n",
       "      <td>9.467746e+09</td>\n",
       "      <td>44689.595179</td>\n",
       "      <td>0.055063</td>\n",
       "      <td>0.358033</td>\n",
       "      <td>-19.0</td>\n",
       "      <td>-3.360885</td>\n",
       "      <td>-19.0</td>\n",
       "    </tr>\n",
       "    <tr>\n",
       "      <th>20</th>\n",
       "      <td>23267.733431</td>\n",
       "      <td>-60394.090756</td>\n",
       "      <td>31678.816577</td>\n",
       "      <td>-60172.405178</td>\n",
       "      <td>32071.033466</td>\n",
       "      <td>37850.026391</td>\n",
       "      <td>12216.073636</td>\n",
       "      <td>23234.754408</td>\n",
       "      <td>1577.723905</td>\n",
       "      <td>0.051676</td>\n",
       "      <td>9.467746e+09</td>\n",
       "      <td>47660.859481</td>\n",
       "      <td>0.053249</td>\n",
       "      <td>0.371415</td>\n",
       "      <td>-20.0</td>\n",
       "      <td>-3.361103</td>\n",
       "      <td>-20.0</td>\n",
       "    </tr>\n",
       "    <tr>\n",
       "      <th>21</th>\n",
       "      <td>23779.691782</td>\n",
       "      <td>-63862.322448</td>\n",
       "      <td>185072.033894</td>\n",
       "      <td>-61423.696616</td>\n",
       "      <td>202408.601771</td>\n",
       "      <td>37887.392097</td>\n",
       "      <td>63170.812723</td>\n",
       "      <td>23433.271228</td>\n",
       "      <td>27179.617146</td>\n",
       "      <td>0.658324</td>\n",
       "      <td>9.467745e+09</td>\n",
       "      <td>291440.684200</td>\n",
       "      <td>0.170900</td>\n",
       "      <td>1.934170</td>\n",
       "      <td>-21.0</td>\n",
       "      <td>-3.978587</td>\n",
       "      <td>-21.0</td>\n",
       "    </tr>\n",
       "    <tr>\n",
       "      <th>22</th>\n",
       "      <td>23617.574281</td>\n",
       "      <td>-63963.116947</td>\n",
       "      <td>209608.193084</td>\n",
       "      <td>-61178.898488</td>\n",
       "      <td>212856.022410</td>\n",
       "      <td>37442.888753</td>\n",
       "      <td>76302.910362</td>\n",
       "      <td>23227.268073</td>\n",
       "      <td>24909.184597</td>\n",
       "      <td>0.662412</td>\n",
       "      <td>9.467744e+09</td>\n",
       "      <td>272216.730607</td>\n",
       "      <td>0.182054</td>\n",
       "      <td>1.780934</td>\n",
       "      <td>-22.0</td>\n",
       "      <td>-3.974191</td>\n",
       "      <td>-22.0</td>\n",
       "    </tr>\n",
       "    <tr>\n",
       "      <th>23</th>\n",
       "      <td>23694.132530</td>\n",
       "      <td>-64526.435547</td>\n",
       "      <td>175215.607821</td>\n",
       "      <td>-61778.507314</td>\n",
       "      <td>188707.256450</td>\n",
       "      <td>37443.342710</td>\n",
       "      <td>65204.895909</td>\n",
       "      <td>23313.351050</td>\n",
       "      <td>27763.745702</td>\n",
       "      <td>0.664023</td>\n",
       "      <td>9.467745e+09</td>\n",
       "      <td>282428.128624</td>\n",
       "      <td>0.179521</td>\n",
       "      <td>1.950604</td>\n",
       "      <td>-23.0</td>\n",
       "      <td>-3.983341</td>\n",
       "      <td>-23.0</td>\n",
       "    </tr>\n",
       "    <tr>\n",
       "      <th>24</th>\n",
       "      <td>23723.116294</td>\n",
       "      <td>-63938.635389</td>\n",
       "      <td>186030.434112</td>\n",
       "      <td>-61409.614297</td>\n",
       "      <td>195585.067652</td>\n",
       "      <td>37717.371730</td>\n",
       "      <td>67103.117431</td>\n",
       "      <td>23366.081660</td>\n",
       "      <td>24900.283166</td>\n",
       "      <td>0.662107</td>\n",
       "      <td>9.467745e+09</td>\n",
       "      <td>264498.677978</td>\n",
       "      <td>0.173712</td>\n",
       "      <td>1.762491</td>\n",
       "      <td>-24.0</td>\n",
       "      <td>-3.979418</td>\n",
       "      <td>-24.0</td>\n",
       "    </tr>\n",
       "    <tr>\n",
       "      <th>25</th>\n",
       "      <td>23703.549547</td>\n",
       "      <td>-63682.518027</td>\n",
       "      <td>187678.867199</td>\n",
       "      <td>-61172.595410</td>\n",
       "      <td>193007.880045</td>\n",
       "      <td>37757.395419</td>\n",
       "      <td>72615.324644</td>\n",
       "      <td>23346.993711</td>\n",
       "      <td>25368.954716</td>\n",
       "      <td>0.663926</td>\n",
       "      <td>9.467744e+09</td>\n",
       "      <td>263157.664545</td>\n",
       "      <td>0.173667</td>\n",
       "      <td>1.809377</td>\n",
       "      <td>-25.0</td>\n",
       "      <td>-3.978775</td>\n",
       "      <td>-25.0</td>\n",
       "    </tr>\n",
       "    <tr>\n",
       "      <th>26</th>\n",
       "      <td>23984.056537</td>\n",
       "      <td>-64738.862544</td>\n",
       "      <td>12357.515633</td>\n",
       "      <td>-64620.806815</td>\n",
       "      <td>12667.511362</td>\n",
       "      <td>38098.587419</td>\n",
       "      <td>4087.543534</td>\n",
       "      <td>23967.834661</td>\n",
       "      <td>830.412219</td>\n",
       "      <td>0.023073</td>\n",
       "      <td>9.467745e+09</td>\n",
       "      <td>17078.562609</td>\n",
       "      <td>0.036781</td>\n",
       "      <td>0.137557</td>\n",
       "      <td>-26.0</td>\n",
       "      <td>-3.283915</td>\n",
       "      <td>-26.0</td>\n",
       "    </tr>\n",
       "    <tr>\n",
       "      <th>27</th>\n",
       "      <td>23894.500994</td>\n",
       "      <td>-64064.972881</td>\n",
       "      <td>15312.548844</td>\n",
       "      <td>-63942.138147</td>\n",
       "      <td>15493.839085</td>\n",
       "      <td>38107.607063</td>\n",
       "      <td>5155.703630</td>\n",
       "      <td>23877.393033</td>\n",
       "      <td>772.050456</td>\n",
       "      <td>0.022876</td>\n",
       "      <td>9.467745e+09</td>\n",
       "      <td>17466.958935</td>\n",
       "      <td>0.037843</td>\n",
       "      <td>0.137485</td>\n",
       "      <td>-27.0</td>\n",
       "      <td>-3.282609</td>\n",
       "      <td>-27.0</td>\n",
       "    </tr>\n",
       "    <tr>\n",
       "      <th>28</th>\n",
       "      <td>23698.874665</td>\n",
       "      <td>-63562.029657</td>\n",
       "      <td>10637.385193</td>\n",
       "      <td>-63441.334131</td>\n",
       "      <td>10887.637179</td>\n",
       "      <td>37787.991808</td>\n",
       "      <td>3580.997612</td>\n",
       "      <td>23682.076238</td>\n",
       "      <td>715.666693</td>\n",
       "      <td>0.021865</td>\n",
       "      <td>9.467744e+09</td>\n",
       "      <td>15112.845006</td>\n",
       "      <td>0.037654</td>\n",
       "      <td>0.118980</td>\n",
       "      <td>-28.0</td>\n",
       "      <td>-3.277165</td>\n",
       "      <td>-28.0</td>\n",
       "    </tr>\n",
       "    <tr>\n",
       "      <th>29</th>\n",
       "      <td>24160.397759</td>\n",
       "      <td>-64593.293218</td>\n",
       "      <td>11041.920143</td>\n",
       "      <td>-64503.975765</td>\n",
       "      <td>11307.337578</td>\n",
       "      <td>38597.276771</td>\n",
       "      <td>3674.092224</td>\n",
       "      <td>24147.890973</td>\n",
       "      <td>790.122867</td>\n",
       "      <td>0.023823</td>\n",
       "      <td>9.467746e+09</td>\n",
       "      <td>14618.976789</td>\n",
       "      <td>0.032178</td>\n",
       "      <td>0.118379</td>\n",
       "      <td>-29.0</td>\n",
       "      <td>-3.288713</td>\n",
       "      <td>-29.0</td>\n",
       "    </tr>\n",
       "    <tr>\n",
       "      <th>30</th>\n",
       "      <td>23859.544767</td>\n",
       "      <td>-63807.402356</td>\n",
       "      <td>17710.542031</td>\n",
       "      <td>-63666.704202</td>\n",
       "      <td>17830.675710</td>\n",
       "      <td>38110.068096</td>\n",
       "      <td>6373.638240</td>\n",
       "      <td>23839.844572</td>\n",
       "      <td>823.897294</td>\n",
       "      <td>0.022303</td>\n",
       "      <td>9.467744e+09</td>\n",
       "      <td>20399.177894</td>\n",
       "      <td>0.040640</td>\n",
       "      <td>0.163960</td>\n",
       "      <td>-30.0</td>\n",
       "      <td>-3.278644</td>\n",
       "      <td>-30.0</td>\n",
       "    </tr>\n",
       "    <tr>\n",
       "      <th>31</th>\n",
       "      <td>24230.206563</td>\n",
       "      <td>-67120.598291</td>\n",
       "      <td>164237.481527</td>\n",
       "      <td>-64954.331674</td>\n",
       "      <td>170018.368506</td>\n",
       "      <td>37918.654871</td>\n",
       "      <td>55662.664850</td>\n",
       "      <td>23941.959574</td>\n",
       "      <td>19208.104753</td>\n",
       "      <td>0.530327</td>\n",
       "      <td>9.467745e+09</td>\n",
       "      <td>206232.092765</td>\n",
       "      <td>0.154401</td>\n",
       "      <td>1.458212</td>\n",
       "      <td>-31.0</td>\n",
       "      <td>-3.900089</td>\n",
       "      <td>-31.0</td>\n",
       "    </tr>\n",
       "    <tr>\n",
       "      <th>32</th>\n",
       "      <td>24403.496707</td>\n",
       "      <td>-67850.104081</td>\n",
       "      <td>178060.435450</td>\n",
       "      <td>-65526.361755</td>\n",
       "      <td>185033.374623</td>\n",
       "      <td>38110.680940</td>\n",
       "      <td>57871.136152</td>\n",
       "      <td>24096.155207</td>\n",
       "      <td>19952.279193</td>\n",
       "      <td>0.531980</td>\n",
       "      <td>9.467743e+09</td>\n",
       "      <td>216120.797656</td>\n",
       "      <td>0.158875</td>\n",
       "      <td>1.503967</td>\n",
       "      <td>-32.0</td>\n",
       "      <td>-3.898428</td>\n",
       "      <td>-32.0</td>\n",
       "    </tr>\n",
       "    <tr>\n",
       "      <th>33</th>\n",
       "      <td>24165.486148</td>\n",
       "      <td>-67658.589398</td>\n",
       "      <td>154320.495795</td>\n",
       "      <td>-65156.727275</td>\n",
       "      <td>159244.318123</td>\n",
       "      <td>37592.229175</td>\n",
       "      <td>54019.146000</td>\n",
       "      <td>23838.554752</td>\n",
       "      <td>19865.087671</td>\n",
       "      <td>0.531198</td>\n",
       "      <td>9.467746e+09</td>\n",
       "      <td>206568.169342</td>\n",
       "      <td>0.164678</td>\n",
       "      <td>1.502115</td>\n",
       "      <td>-33.0</td>\n",
       "      <td>-3.893778</td>\n",
       "      <td>-33.0</td>\n",
       "    </tr>\n",
       "    <tr>\n",
       "      <th>34</th>\n",
       "      <td>24345.560454</td>\n",
       "      <td>-68008.118591</td>\n",
       "      <td>192637.941358</td>\n",
       "      <td>-65642.753282</td>\n",
       "      <td>199427.568858</td>\n",
       "      <td>37920.264711</td>\n",
       "      <td>60452.165109</td>\n",
       "      <td>24035.516047</td>\n",
       "      <td>20502.905583</td>\n",
       "      <td>0.536997</td>\n",
       "      <td>9.467747e+09</td>\n",
       "      <td>227835.524254</td>\n",
       "      <td>0.159764</td>\n",
       "      <td>1.547943</td>\n",
       "      <td>-34.0</td>\n",
       "      <td>-3.904865</td>\n",
       "      <td>-34.0</td>\n",
       "    </tr>\n",
       "    <tr>\n",
       "      <th>35</th>\n",
       "      <td>24164.630860</td>\n",
       "      <td>-66128.490816</td>\n",
       "      <td>164522.888853</td>\n",
       "      <td>-63993.988628</td>\n",
       "      <td>168807.629686</td>\n",
       "      <td>38079.685034</td>\n",
       "      <td>58737.523308</td>\n",
       "      <td>23873.647764</td>\n",
       "      <td>19249.301842</td>\n",
       "      <td>0.536717</td>\n",
       "      <td>9.467746e+09</td>\n",
       "      <td>206759.962103</td>\n",
       "      <td>0.155344</td>\n",
       "      <td>1.475548</td>\n",
       "      <td>-35.0</td>\n",
       "      <td>-3.897667</td>\n",
       "      <td>-35.0</td>\n",
       "    </tr>\n",
       "    <tr>\n",
       "      <th>36</th>\n",
       "      <td>23910.506834</td>\n",
       "      <td>-65110.979902</td>\n",
       "      <td>93446.431023</td>\n",
       "      <td>-64389.908247</td>\n",
       "      <td>94198.036051</td>\n",
       "      <td>37786.860537</td>\n",
       "      <td>31172.009548</td>\n",
       "      <td>23812.580021</td>\n",
       "      <td>4834.798849</td>\n",
       "      <td>0.143590</td>\n",
       "      <td>9.467744e+09</td>\n",
       "      <td>92872.110331</td>\n",
       "      <td>0.090536</td>\n",
       "      <td>0.701403</td>\n",
       "      <td>-36.0</td>\n",
       "      <td>-3.517390</td>\n",
       "      <td>-36.0</td>\n",
       "    </tr>\n",
       "    <tr>\n",
       "      <th>37</th>\n",
       "      <td>23994.923114</td>\n",
       "      <td>-65264.081716</td>\n",
       "      <td>72030.760596</td>\n",
       "      <td>-64510.101997</td>\n",
       "      <td>73295.249839</td>\n",
       "      <td>37946.172783</td>\n",
       "      <td>24851.085686</td>\n",
       "      <td>23892.255324</td>\n",
       "      <td>5299.212838</td>\n",
       "      <td>0.142939</td>\n",
       "      <td>9.467744e+09</td>\n",
       "      <td>96174.326752</td>\n",
       "      <td>0.092540</td>\n",
       "      <td>0.751242</td>\n",
       "      <td>-37.0</td>\n",
       "      <td>-3.513601</td>\n",
       "      <td>-37.0</td>\n",
       "    </tr>\n",
       "    <tr>\n",
       "      <th>38</th>\n",
       "      <td>23995.379560</td>\n",
       "      <td>-65369.303705</td>\n",
       "      <td>73849.839974</td>\n",
       "      <td>-64657.102532</td>\n",
       "      <td>74260.838765</td>\n",
       "      <td>37911.831820</td>\n",
       "      <td>25676.778406</td>\n",
       "      <td>23898.748804</td>\n",
       "      <td>4828.379899</td>\n",
       "      <td>0.143200</td>\n",
       "      <td>9.467744e+09</td>\n",
       "      <td>86852.684907</td>\n",
       "      <td>0.089775</td>\n",
       "      <td>0.680405</td>\n",
       "      <td>-38.0</td>\n",
       "      <td>-3.517271</td>\n",
       "      <td>-38.0</td>\n",
       "    </tr>\n",
       "    <tr>\n",
       "      <th>39</th>\n",
       "      <td>24026.736800</td>\n",
       "      <td>-66480.671015</td>\n",
       "      <td>86920.178810</td>\n",
       "      <td>-65649.009467</td>\n",
       "      <td>89995.260941</td>\n",
       "      <td>37624.630421</td>\n",
       "      <td>26336.640894</td>\n",
       "      <td>23917.233104</td>\n",
       "      <td>4986.946923</td>\n",
       "      <td>0.144986</td>\n",
       "      <td>9.467746e+09</td>\n",
       "      <td>94802.564248</td>\n",
       "      <td>0.095510</td>\n",
       "      <td>0.701642</td>\n",
       "      <td>-39.0</td>\n",
       "      <td>-3.517234</td>\n",
       "      <td>-39.0</td>\n",
       "    </tr>\n",
       "    <tr>\n",
       "      <th>40</th>\n",
       "      <td>24167.644691</td>\n",
       "      <td>-65622.708780</td>\n",
       "      <td>69185.929160</td>\n",
       "      <td>-64887.129086</td>\n",
       "      <td>71967.217715</td>\n",
       "      <td>38256.998134</td>\n",
       "      <td>23311.963881</td>\n",
       "      <td>24067.165463</td>\n",
       "      <td>5736.742248</td>\n",
       "      <td>0.143143</td>\n",
       "      <td>9.467745e+09</td>\n",
       "      <td>101512.587583</td>\n",
       "      <td>0.091219</td>\n",
       "      <td>0.794426</td>\n",
       "      <td>-40.0</td>\n",
       "      <td>-3.514341</td>\n",
       "      <td>-40.0</td>\n",
       "    </tr>\n",
       "    <tr>\n",
       "      <th>41</th>\n",
       "      <td>24636.022943</td>\n",
       "      <td>-69633.863002</td>\n",
       "      <td>212613.354291</td>\n",
       "      <td>-66215.195974</td>\n",
       "      <td>223629.903261</td>\n",
       "      <td>38124.084272</td>\n",
       "      <td>64844.452857</td>\n",
       "      <td>24194.087840</td>\n",
       "      <td>28164.671520</td>\n",
       "      <td>0.867502</td>\n",
       "      <td>9.467747e+09</td>\n",
       "      <td>254644.200215</td>\n",
       "      <td>0.189697</td>\n",
       "      <td>1.569390</td>\n",
       "      <td>-41.0</td>\n",
       "      <td>-4.138381</td>\n",
       "      <td>-41.0</td>\n",
       "    </tr>\n",
       "    <tr>\n",
       "      <th>42</th>\n",
       "      <td>24505.140350</td>\n",
       "      <td>-70413.418002</td>\n",
       "      <td>201677.474924</td>\n",
       "      <td>-66513.569344</td>\n",
       "      <td>208567.360533</td>\n",
       "      <td>37585.611549</td>\n",
       "      <td>64820.489426</td>\n",
       "      <td>24015.109040</td>\n",
       "      <td>27966.715578</td>\n",
       "      <td>0.865498</td>\n",
       "      <td>9.467747e+09</td>\n",
       "      <td>241147.906487</td>\n",
       "      <td>0.200320</td>\n",
       "      <td>1.544116</td>\n",
       "      <td>-42.0</td>\n",
       "      <td>-4.134886</td>\n",
       "      <td>-42.0</td>\n",
       "    </tr>\n",
       "    <tr>\n",
       "      <th>43</th>\n",
       "      <td>24443.012982</td>\n",
       "      <td>-69088.545884</td>\n",
       "      <td>195439.296192</td>\n",
       "      <td>-65579.975167</td>\n",
       "      <td>206518.773249</td>\n",
       "      <td>37825.334678</td>\n",
       "      <td>64033.467623</td>\n",
       "      <td>23988.947111</td>\n",
       "      <td>28533.094416</td>\n",
       "      <td>0.865379</td>\n",
       "      <td>9.467747e+09</td>\n",
       "      <td>248791.328829</td>\n",
       "      <td>0.193051</td>\n",
       "      <td>1.599719</td>\n",
       "      <td>-43.0</td>\n",
       "      <td>-4.133052</td>\n",
       "      <td>-43.0</td>\n",
       "    </tr>\n",
       "    <tr>\n",
       "      <th>44</th>\n",
       "      <td>24533.426265</td>\n",
       "      <td>-69437.527710</td>\n",
       "      <td>190604.922669</td>\n",
       "      <td>-65979.728763</td>\n",
       "      <td>200560.270562</td>\n",
       "      <td>37937.302190</td>\n",
       "      <td>62985.998926</td>\n",
       "      <td>24087.417486</td>\n",
       "      <td>27639.554271</td>\n",
       "      <td>0.858177</td>\n",
       "      <td>9.467745e+09</td>\n",
       "      <td>238081.173344</td>\n",
       "      <td>0.190971</td>\n",
       "      <td>1.547706</td>\n",
       "      <td>-44.0</td>\n",
       "      <td>-4.129554</td>\n",
       "      <td>-44.0</td>\n",
       "    </tr>\n",
       "    <tr>\n",
       "      <th>45</th>\n",
       "      <td>24520.803929</td>\n",
       "      <td>-68058.653278</td>\n",
       "      <td>187053.540525</td>\n",
       "      <td>-65170.889509</td>\n",
       "      <td>199772.602190</td>\n",
       "      <td>38331.082440</td>\n",
       "      <td>67696.605233</td>\n",
       "      <td>24135.489319</td>\n",
       "      <td>30052.189090</td>\n",
       "      <td>0.857444</td>\n",
       "      <td>9.467747e+09</td>\n",
       "      <td>250953.425149</td>\n",
       "      <td>0.177511</td>\n",
       "      <td>1.697994</td>\n",
       "      <td>-45.0</td>\n",
       "      <td>-4.136482</td>\n",
       "      <td>-45.0</td>\n",
       "    </tr>\n",
       "    <tr>\n",
       "      <th>46</th>\n",
       "      <td>23695.657629</td>\n",
       "      <td>-63062.976294</td>\n",
       "      <td>18433.924670</td>\n",
       "      <td>-62837.389442</td>\n",
       "      <td>18640.977089</td>\n",
       "      <td>37958.355965</td>\n",
       "      <td>6814.722187</td>\n",
       "      <td>23663.736864</td>\n",
       "      <td>976.015121</td>\n",
       "      <td>0.028730</td>\n",
       "      <td>9.467744e+09</td>\n",
       "      <td>25748.121858</td>\n",
       "      <td>0.051912</td>\n",
       "      <td>0.206436</td>\n",
       "      <td>-46.0</td>\n",
       "      <td>-3.292618</td>\n",
       "      <td>-46.0</td>\n",
       "    </tr>\n",
       "    <tr>\n",
       "      <th>47</th>\n",
       "      <td>23725.343550</td>\n",
       "      <td>-63018.552412</td>\n",
       "      <td>18643.635718</td>\n",
       "      <td>-62855.765998</td>\n",
       "      <td>18883.056106</td>\n",
       "      <td>38050.768804</td>\n",
       "      <td>6699.378736</td>\n",
       "      <td>23702.233207</td>\n",
       "      <td>958.314230</td>\n",
       "      <td>0.029144</td>\n",
       "      <td>9.467745e+09</td>\n",
       "      <td>23888.306341</td>\n",
       "      <td>0.044142</td>\n",
       "      <td>0.189489</td>\n",
       "      <td>-47.0</td>\n",
       "      <td>-3.302988</td>\n",
       "      <td>-47.0</td>\n",
       "    </tr>\n",
       "    <tr>\n",
       "      <th>48</th>\n",
       "      <td>23627.055035</td>\n",
       "      <td>-63096.103011</td>\n",
       "      <td>17658.797081</td>\n",
       "      <td>-62925.536648</td>\n",
       "      <td>17896.765230</td>\n",
       "      <td>37770.738712</td>\n",
       "      <td>6224.165928</td>\n",
       "      <td>23603.097478</td>\n",
       "      <td>889.259605</td>\n",
       "      <td>0.029075</td>\n",
       "      <td>9.467745e+09</td>\n",
       "      <td>25149.992056</td>\n",
       "      <td>0.045037</td>\n",
       "      <td>0.196844</td>\n",
       "      <td>-48.0</td>\n",
       "      <td>-3.301503</td>\n",
       "      <td>-48.0</td>\n",
       "    </tr>\n",
       "    <tr>\n",
       "      <th>49</th>\n",
       "      <td>23516.236088</td>\n",
       "      <td>-62005.237879</td>\n",
       "      <td>19499.867881</td>\n",
       "      <td>-61868.703131</td>\n",
       "      <td>19724.843618</td>\n",
       "      <td>37884.323958</td>\n",
       "      <td>7139.303408</td>\n",
       "      <td>23496.570086</td>\n",
       "      <td>851.294661</td>\n",
       "      <td>0.028369</td>\n",
       "      <td>9.467746e+09</td>\n",
       "      <td>24478.201905</td>\n",
       "      <td>0.040900</td>\n",
       "      <td>0.191970</td>\n",
       "      <td>-49.0</td>\n",
       "      <td>-3.301707</td>\n",
       "      <td>-49.0</td>\n",
       "    </tr>\n",
       "    <tr>\n",
       "      <th>50</th>\n",
       "      <td>23493.788420</td>\n",
       "      <td>-62165.686390</td>\n",
       "      <td>20790.815112</td>\n",
       "      <td>-62000.722481</td>\n",
       "      <td>21073.958544</td>\n",
       "      <td>37766.635716</td>\n",
       "      <td>7607.512912</td>\n",
       "      <td>23470.188470</td>\n",
       "      <td>920.850881</td>\n",
       "      <td>0.027582</td>\n",
       "      <td>9.467745e+09</td>\n",
       "      <td>26899.230976</td>\n",
       "      <td>0.044826</td>\n",
       "      <td>0.212339</td>\n",
       "      <td>-50.0</td>\n",
       "      <td>-3.295756</td>\n",
       "      <td>-50.0</td>\n",
       "    </tr>\n",
       "  </tbody>\n",
       "</table>\n",
       "</div>"
      ],
      "text/plain": [
       "     Qc_dia_corr   Qi_dia_corr  Qi_dia_corr_err    Qi_no_corr  Qi_no_corr_err  \\\n",
       "0   23151.458116 -60241.906080       383.421823 -60240.070202      383.295594   \n",
       "1   23171.083499 -60032.442044       367.770515 -60030.510126      367.735099   \n",
       "2   23216.309509 -60018.489453       361.588414 -60017.264317      361.192550   \n",
       "3   23204.915348 -60103.124100       396.058747 -60102.255840      395.944507   \n",
       "4   23190.035443 -60006.164380       469.909930 -60006.068229      469.876589   \n",
       "5   23219.668146 -60201.032816       461.630410 -60197.439399      461.119504   \n",
       "6   23248.367737 -60133.148379       455.698414 -60127.120019      455.440625   \n",
       "7   23018.743983 -59352.163271       566.024144 -59351.171231      565.728201   \n",
       "8   23153.524053 -59876.336604       582.228303 -59874.532461      582.513062   \n",
       "9   23253.269877 -60683.576538       670.039534 -60683.471086      670.044084   \n",
       "10  23280.771825 -60248.110414       736.165724 -60242.893387      736.577269   \n",
       "11  23391.178075 -61695.954366    161833.027404 -60311.996210   159969.337445   \n",
       "12  23552.635942 -62019.788397    132744.162758 -60667.969358   135776.136580   \n",
       "13  23550.237528 -62552.795202    144334.656833 -61076.797967   141645.914149   \n",
       "14  23417.325031 -61679.326102    165023.322057 -60271.876197   164419.719729   \n",
       "15  23282.125226 -61612.759189    140586.631321 -60188.877035   144761.316884   \n",
       "16  23362.859057 -60128.181658     35597.726620 -59893.137216    35925.021687   \n",
       "17  23153.815804 -60193.638719     31521.786594 -59992.770286    31558.647422   \n",
       "18  23376.691415 -61197.856380     31323.564555 -60950.544085    31343.401585   \n",
       "19  23177.611207 -59737.792886     30645.569058 -59504.999837    30072.255616   \n",
       "20  23267.733431 -60394.090756     31678.816577 -60172.405178    32071.033466   \n",
       "21  23779.691782 -63862.322448    185072.033894 -61423.696616   202408.601771   \n",
       "22  23617.574281 -63963.116947    209608.193084 -61178.898488   212856.022410   \n",
       "23  23694.132530 -64526.435547    175215.607821 -61778.507314   188707.256450   \n",
       "24  23723.116294 -63938.635389    186030.434112 -61409.614297   195585.067652   \n",
       "25  23703.549547 -63682.518027    187678.867199 -61172.595410   193007.880045   \n",
       "26  23984.056537 -64738.862544     12357.515633 -64620.806815    12667.511362   \n",
       "27  23894.500994 -64064.972881     15312.548844 -63942.138147    15493.839085   \n",
       "28  23698.874665 -63562.029657     10637.385193 -63441.334131    10887.637179   \n",
       "29  24160.397759 -64593.293218     11041.920143 -64503.975765    11307.337578   \n",
       "30  23859.544767 -63807.402356     17710.542031 -63666.704202    17830.675710   \n",
       "31  24230.206563 -67120.598291    164237.481527 -64954.331674   170018.368506   \n",
       "32  24403.496707 -67850.104081    178060.435450 -65526.361755   185033.374623   \n",
       "33  24165.486148 -67658.589398    154320.495795 -65156.727275   159244.318123   \n",
       "34  24345.560454 -68008.118591    192637.941358 -65642.753282   199427.568858   \n",
       "35  24164.630860 -66128.490816    164522.888853 -63993.988628   168807.629686   \n",
       "36  23910.506834 -65110.979902     93446.431023 -64389.908247    94198.036051   \n",
       "37  23994.923114 -65264.081716     72030.760596 -64510.101997    73295.249839   \n",
       "38  23995.379560 -65369.303705     73849.839974 -64657.102532    74260.838765   \n",
       "39  24026.736800 -66480.671015     86920.178810 -65649.009467    89995.260941   \n",
       "40  24167.644691 -65622.708780     69185.929160 -64887.129086    71967.217715   \n",
       "41  24636.022943 -69633.863002    212613.354291 -66215.195974   223629.903261   \n",
       "42  24505.140350 -70413.418002    201677.474924 -66513.569344   208567.360533   \n",
       "43  24443.012982 -69088.545884    195439.296192 -65579.975167   206518.773249   \n",
       "44  24533.426265 -69437.527710    190604.922669 -65979.728763   200560.270562   \n",
       "45  24520.803929 -68058.653278    187053.540525 -65170.889509   199772.602190   \n",
       "46  23695.657629 -63062.976294     18433.924670 -62837.389442    18640.977089   \n",
       "47  23725.343550 -63018.552412     18643.635718 -62855.765998    18883.056106   \n",
       "48  23627.055035 -63096.103011     17658.797081 -62925.536648    17896.765230   \n",
       "49  23516.236088 -62005.237879     19499.867881 -61868.703131    19724.843618   \n",
       "50  23493.788420 -62165.686390     20790.815112 -62000.722481    21073.958544   \n",
       "\n",
       "              Ql        Ql_err         absQc     absQc_err  chi_square  \\\n",
       "0   37602.348906    175.028751  23151.186965     67.477374    0.000207   \n",
       "1   37736.447656    169.665757  23170.795681     68.966814    0.000210   \n",
       "2   37862.100277    178.065994  23216.126191     71.703334    0.000242   \n",
       "3   37798.255093    192.421604  23204.785923     79.132952    0.000256   \n",
       "4   37797.158987    238.914602  23190.021082     91.795086    0.000372   \n",
       "5   37798.713392    207.875641  23219.133547     96.946123    0.000384   \n",
       "6   37901.744903    250.250739  23247.466617    108.277157    0.000467   \n",
       "7   37602.083094    274.577724  23018.594764    121.930725    0.000584   \n",
       "8   37751.689032    287.500774  23153.254278    132.208623    0.000714   \n",
       "9   37699.172362    359.496055  23253.254393    144.320951    0.000812   \n",
       "10  37942.209662    349.049958  23279.992795    163.069997    0.001021   \n",
       "11  37675.224733  66829.083551  23189.432147  16186.638380    0.367307   \n",
       "12  37973.424183  51399.601115  23355.007995  13885.655728    0.371803   \n",
       "13  37770.168750  61054.916245  23337.903454  15898.462300    0.355785   \n",
       "14  37749.327965  66932.420584  23211.537147  16366.417730    0.360817   \n",
       "15  37423.747710  56620.119491  23075.840394  16939.083652    0.359389   \n",
       "16  38209.000602  14237.634729  23327.288955   1453.729366    0.051382   \n",
       "17  37627.405149  12378.022291  23124.034182   1476.767842    0.050866   \n",
       "18  37825.471669  12034.422212  23340.515012   1438.946989    0.050199   \n",
       "19  37871.237896  12660.239524  23142.483806   1440.203853    0.052568   \n",
       "20  37850.026391  12216.073636  23234.754408   1577.723905    0.051676   \n",
       "21  37887.392097  63170.812723  23433.271228  27179.617146    0.658324   \n",
       "22  37442.888753  76302.910362  23227.268073  24909.184597    0.662412   \n",
       "23  37443.342710  65204.895909  23313.351050  27763.745702    0.664023   \n",
       "24  37717.371730  67103.117431  23366.081660  24900.283166    0.662107   \n",
       "25  37757.395419  72615.324644  23346.993711  25368.954716    0.663926   \n",
       "26  38098.587419   4087.543534  23967.834661    830.412219    0.023073   \n",
       "27  38107.607063   5155.703630  23877.393033    772.050456    0.022876   \n",
       "28  37787.991808   3580.997612  23682.076238    715.666693    0.021865   \n",
       "29  38597.276771   3674.092224  24147.890973    790.122867    0.023823   \n",
       "30  38110.068096   6373.638240  23839.844572    823.897294    0.022303   \n",
       "31  37918.654871  55662.664850  23941.959574  19208.104753    0.530327   \n",
       "32  38110.680940  57871.136152  24096.155207  19952.279193    0.531980   \n",
       "33  37592.229175  54019.146000  23838.554752  19865.087671    0.531198   \n",
       "34  37920.264711  60452.165109  24035.516047  20502.905583    0.536997   \n",
       "35  38079.685034  58737.523308  23873.647764  19249.301842    0.536717   \n",
       "36  37786.860537  31172.009548  23812.580021   4834.798849    0.143590   \n",
       "37  37946.172783  24851.085686  23892.255324   5299.212838    0.142939   \n",
       "38  37911.831820  25676.778406  23898.748804   4828.379899    0.143200   \n",
       "39  37624.630421  26336.640894  23917.233104   4986.946923    0.144986   \n",
       "40  38256.998134  23311.963881  24067.165463   5736.742248    0.143143   \n",
       "41  38124.084272  64844.452857  24194.087840  28164.671520    0.867502   \n",
       "42  37585.611549  64820.489426  24015.109040  27966.715578    0.865498   \n",
       "43  37825.334678  64033.467623  23988.947111  28533.094416    0.865379   \n",
       "44  37937.302190  62985.998926  24087.417486  27639.554271    0.858177   \n",
       "45  38331.082440  67696.605233  24135.489319  30052.189090    0.857444   \n",
       "46  37958.355965   6814.722187  23663.736864    976.015121    0.028730   \n",
       "47  38050.768804   6699.378736  23702.233207    958.314230    0.029144   \n",
       "48  37770.738712   6224.165928  23603.097478    889.259605    0.029075   \n",
       "49  37884.323958   7139.303408  23496.570086    851.294661    0.028369   \n",
       "50  37766.635716   7607.512912  23470.188470    920.850881    0.027582   \n",
       "\n",
       "              fr         fr_err      phi0  phi0_err  power    theta0  powers  \n",
       "0   9.467746e+09     543.546279  0.004840  0.003612    0.0 -3.136754     0.0  \n",
       "1   9.467746e+09     544.508112  0.004984  0.003473   -1.0 -3.134181    -1.0  \n",
       "2   9.467746e+09     594.264589  0.003974  0.003995   -2.0 -3.134805    -2.0  \n",
       "3   9.467746e+09     585.208268  0.003340  0.003681   -3.0 -3.132758    -3.0  \n",
       "4   9.467747e+09     697.740465  0.001113  0.004645   -4.0 -3.138526    -4.0  \n",
       "5   9.467745e+09     764.746041  0.006786  0.004521   -5.0 -3.128957    -5.0  \n",
       "6   9.467746e+09     770.509318  0.008805  0.004951   -6.0 -3.130921    -6.0  \n",
       "7   9.467746e+09     896.763493  0.003601  0.005386   -7.0 -3.135228    -7.0  \n",
       "8   9.467745e+09    1040.182945  0.004827  0.006074   -8.0 -3.132738    -8.0  \n",
       "9   9.467747e+09     976.352949  0.001154  0.006526   -9.0 -3.138116    -9.0  \n",
       "10  9.467745e+09    1210.160354  0.008181  0.007097  -10.0 -3.128321   -10.0  \n",
       "11  9.467746e+09  217697.690258  0.131433  1.653830  -11.0 -3.752705   -11.0  \n",
       "12  9.467747e+09  189461.624128  0.129635  1.391599  -12.0 -3.756954   -12.0  \n",
       "13  9.467745e+09  204210.252733  0.134386  1.604068  -13.0 -3.740043   -13.0  \n",
       "14  9.467746e+09  227172.042421  0.132671  1.706726  -14.0 -3.744531   -14.0  \n",
       "15  9.467745e+09  232181.782268  0.133217  1.739243  -15.0 -3.744533   -15.0  \n",
       "16  9.467746e+09   46844.439303  0.055189  0.367081  -16.0 -3.356955   -16.0  \n",
       "17  9.467747e+09   46941.884574  0.050725  0.367548  -17.0 -3.362246   -17.0  \n",
       "18  9.467745e+09   45365.665800  0.055641  0.357292  -18.0 -3.355684   -18.0  \n",
       "19  9.467746e+09   44689.595179  0.055063  0.358033  -19.0 -3.360885   -19.0  \n",
       "20  9.467746e+09   47660.859481  0.053249  0.371415  -20.0 -3.361103   -20.0  \n",
       "21  9.467745e+09  291440.684200  0.170900  1.934170  -21.0 -3.978587   -21.0  \n",
       "22  9.467744e+09  272216.730607  0.182054  1.780934  -22.0 -3.974191   -22.0  \n",
       "23  9.467745e+09  282428.128624  0.179521  1.950604  -23.0 -3.983341   -23.0  \n",
       "24  9.467745e+09  264498.677978  0.173712  1.762491  -24.0 -3.979418   -24.0  \n",
       "25  9.467744e+09  263157.664545  0.173667  1.809377  -25.0 -3.978775   -25.0  \n",
       "26  9.467745e+09   17078.562609  0.036781  0.137557  -26.0 -3.283915   -26.0  \n",
       "27  9.467745e+09   17466.958935  0.037843  0.137485  -27.0 -3.282609   -27.0  \n",
       "28  9.467744e+09   15112.845006  0.037654  0.118980  -28.0 -3.277165   -28.0  \n",
       "29  9.467746e+09   14618.976789  0.032178  0.118379  -29.0 -3.288713   -29.0  \n",
       "30  9.467744e+09   20399.177894  0.040640  0.163960  -30.0 -3.278644   -30.0  \n",
       "31  9.467745e+09  206232.092765  0.154401  1.458212  -31.0 -3.900089   -31.0  \n",
       "32  9.467743e+09  216120.797656  0.158875  1.503967  -32.0 -3.898428   -32.0  \n",
       "33  9.467746e+09  206568.169342  0.164678  1.502115  -33.0 -3.893778   -33.0  \n",
       "34  9.467747e+09  227835.524254  0.159764  1.547943  -34.0 -3.904865   -34.0  \n",
       "35  9.467746e+09  206759.962103  0.155344  1.475548  -35.0 -3.897667   -35.0  \n",
       "36  9.467744e+09   92872.110331  0.090536  0.701403  -36.0 -3.517390   -36.0  \n",
       "37  9.467744e+09   96174.326752  0.092540  0.751242  -37.0 -3.513601   -37.0  \n",
       "38  9.467744e+09   86852.684907  0.089775  0.680405  -38.0 -3.517271   -38.0  \n",
       "39  9.467746e+09   94802.564248  0.095510  0.701642  -39.0 -3.517234   -39.0  \n",
       "40  9.467745e+09  101512.587583  0.091219  0.794426  -40.0 -3.514341   -40.0  \n",
       "41  9.467747e+09  254644.200215  0.189697  1.569390  -41.0 -4.138381   -41.0  \n",
       "42  9.467747e+09  241147.906487  0.200320  1.544116  -42.0 -4.134886   -42.0  \n",
       "43  9.467747e+09  248791.328829  0.193051  1.599719  -43.0 -4.133052   -43.0  \n",
       "44  9.467745e+09  238081.173344  0.190971  1.547706  -44.0 -4.129554   -44.0  \n",
       "45  9.467747e+09  250953.425149  0.177511  1.697994  -45.0 -4.136482   -45.0  \n",
       "46  9.467744e+09   25748.121858  0.051912  0.206436  -46.0 -3.292618   -46.0  \n",
       "47  9.467745e+09   23888.306341  0.044142  0.189489  -47.0 -3.302988   -47.0  \n",
       "48  9.467745e+09   25149.992056  0.045037  0.196844  -48.0 -3.301503   -48.0  \n",
       "49  9.467746e+09   24478.201905  0.040900  0.191970  -49.0 -3.301707   -49.0  \n",
       "50  9.467745e+09   26899.230976  0.044826  0.212339  -50.0 -3.295756   -50.0  "
      ]
     },
     "execution_count": 62,
     "metadata": {},
     "output_type": "execute_result"
    }
   ],
   "source": [
    "resonator_fit_results"
   ]
  },
  {
   "cell_type": "code",
   "execution_count": 58,
   "metadata": {},
   "outputs": [],
   "source": [
    "good_points = resonator_fit_results.chi_square<0.02\n",
    "plt.figure()\n",
    "#plt.plot(resonator_fit_results.where(good_points).current, resonator_fit_results.where(good_points).fr)\n",
    "plt.plot(resonator_fit_results.where(good_points).power, resonator_fit_results.where(good_points).Ql)\n",
    "plt.plot(resonator_fit_results.where(good_points).power, resonator_fit_results.where(good_points).Qi_dia_corr)\n",
    "plt.plot(resonator_fit_results.where(good_points).power, resonator_fit_results.where(good_points).absQc)\n",
    "f_ax = plt.gca().twinx()\n",
    "f = f_ax.errorbar(resonator_fit_results.where(good_points).power, resonator_fit_results.where(good_points).fr/1e6, color='orange', linestyle='--', label='$f$, MHz')#, yerr=fitdata['fr_err'])"
   ]
  },
  {
   "cell_type": "markdown",
   "metadata": {},
   "source": [
    "# Операции с данными"
   ]
  },
  {
   "cell_type": "markdown",
   "metadata": {},
   "source": [
    "### Автоплот"
   ]
  },
  {
   "cell_type": "code",
   "execution_count": 43,
   "metadata": {},
   "outputs": [
    {
     "data": {
      "text/plain": [
       "(<matplotlib.figure.Figure at 0x2c14fcd0>,\n",
       " <matplotlib.figure.Figure at 0x2c1581f0>)"
      ]
     },
     "execution_count": 43,
     "metadata": {},
     "output_type": "execute_result"
    }
   ],
   "source": [
    "pl.plot_measurement(meas)"
   ]
  },
  {
   "cell_type": "code",
   "execution_count": 97,
   "metadata": {
    "scrolled": true
   },
   "outputs": [
    {
     "data": {
      "text/plain": [
       "(<matplotlib.figure.Figure at 0x19b5c6d0>,\n",
       " <matplotlib.figure.Figure at 0x109e7310>)"
      ]
     },
     "execution_count": 97,
     "metadata": {},
     "output_type": "execute_result"
    }
   ],
   "source": [
    "pl.plot_measurement(measurement)"
   ]
  },
  {
   "cell_type": "code",
   "execution_count": 32,
   "metadata": {},
   "outputs": [
    {
     "data": {
      "text/plain": [
       "<matplotlib.collections.QuadMesh at 0xe968270>"
      ]
     },
     "execution_count": 32,
     "metadata": {},
     "output_type": "execute_result"
    }
   ],
   "source": [
    "data=measurement.remove_background(25,1).get_data()\n",
    "plt.pcolormesh(data[0], data[1], data[2].T, cmap=\"RdBu_r\")"
   ]
  },
  {
   "cell_type": "code",
   "execution_count": 103,
   "metadata": {},
   "outputs": [
    {
     "data": {
      "text/plain": [
       "(<matplotlib.figure.Figure at 0x1a4fd2b0>,\n",
       " <matplotlib.figure.Figure at 0x1a4fd470>)"
      ]
     },
     "execution_count": 103,
     "metadata": {},
     "output_type": "execute_result"
    }
   ],
   "source": [
    "pl.plot_measurement(measurement.remove_background(1,25))"
   ]
  },
  {
   "cell_type": "code",
   "execution_count": 13,
   "metadata": {},
   "outputs": [
    {
     "name": "stdout",
     "output_type": "stream",
     "text": [
      "(7,)\n",
      "(10001,)\n",
      "(7, 10001)\n",
      "(7, 10001)\n"
     ]
    },
    {
     "data": {
      "text/plain": [
       "[<matplotlib.lines.Line2D at 0x2baea6d0>,\n",
       " <matplotlib.lines.Line2D at 0x2baea830>,\n",
       " <matplotlib.lines.Line2D at 0x2baea950>,\n",
       " <matplotlib.lines.Line2D at 0x2baeaa30>,\n",
       " <matplotlib.lines.Line2D at 0x2baeab10>,\n",
       " <matplotlib.lines.Line2D at 0x2baeabf0>,\n",
       " <matplotlib.lines.Line2D at 0x2baeacd0>]"
      ]
     },
     "execution_count": 13,
     "metadata": {},
     "output_type": "execute_result"
    }
   ],
   "source": [
    "tmeas = measurement\n",
    "#tref = reference5\n",
    "xx,yy = np.meshgrid(tmeas.get_data()[1], tmeas.get_data()[0])\n",
    "plot_data = np.asarray(tmeas.get_data())\n",
    "axes_data = np.asarray(tmeas.get_data())\n",
    "#plot_data = np.asarray(tmeas.get_data()) - np.asarray(tref.get_data())\n",
    "#plot_data[3] = mean(plot_data[3], 1)\n",
    "#plot_data[2] = mean(plot_data[2], 1)\n",
    "#plt.pcolor(xx,yy,meas.get_data()[4])\n",
    "#plt.colorbar()\n",
    "print plot_data[0].shape\n",
    "print plot_data[1].shape\n",
    "print plot_data[2].shape\n",
    "print plot_data[3].shape\n",
    "plt.figure()\n",
    "plt.plot(axes_data[1], plot_data[2].T)\n",
    "#plt.plot(meas.get_data()[0])"
   ]
  },
  {
   "cell_type": "markdown",
   "metadata": {},
   "source": [
    "### Сохраняшки и загружашки"
   ]
  },
  {
   "cell_type": "code",
   "execution_count": 9,
   "metadata": {},
   "outputs": [],
   "source": [
    "meas = dm.load_measurement('C:/qtlab/ReiData/data/Sep 03 2016/14-00-06/Gleb Xmons second half')"
   ]
  },
  {
   "cell_type": "code",
   "execution_count": 61,
   "metadata": {
    "scrolled": true
   },
   "outputs": [
    {
     "data": {
      "text/plain": [
       "'..\\\\..\\\\data\\\\Dec 26 2016\\\\10-30-04\\\\'"
      ]
     },
     "execution_count": 61,
     "metadata": {},
     "output_type": "execute_result"
    }
   ],
   "source": [
    "dm.save_measurement(measurement, \"Fliegenklatsch two-tone +18 excitation weak readout\")"
   ]
  },
  {
   "cell_type": "code",
   "execution_count": 86,
   "metadata": {},
   "outputs": [
    {
     "data": {
      "text/plain": [
       "'..\\\\..\\\\data\\\\Mar 16 2016\\\\18-56-50\\\\'"
      ]
     },
     "execution_count": 86,
     "metadata": {},
     "output_type": "execute_result"
    }
   ],
   "source": [
    "dm.save_measurement(measurement, \"Ping 2016 transmons, two-tone spectroscopy, readout -40dBm 6.60719GHz, current 2500 -30dB attenuator for excitation\")"
   ]
  },
  {
   "cell_type": "code",
   "execution_count": 26,
   "metadata": {},
   "outputs": [
    {
     "data": {
      "text/plain": [
       "<measurements.measurement.Measurement instance at 0x0A3A0A58>"
      ]
     },
     "execution_count": 26,
     "metadata": {},
     "output_type": "execute_result"
    }
   ],
   "source": [
    "measurement"
   ]
  },
  {
   "cell_type": "markdown",
   "metadata": {},
   "source": [
    "# Обработка изображений"
   ]
  },
  {
   "cell_type": "code",
   "execution_count": null,
   "metadata": {
    "collapsed": true
   },
   "outputs": [],
   "source": [
    "import pylab\n",
    "from mpl_toolkits.mplot3d import Axes3D\n",
    "from matplotlib.colors import LinearSegmentedColormap\n",
    "import numpy\n",
    "\n",
    "import matplotlib.pyplot as plt\n",
    "import matplotlib.cm as cm\n",
    "import pickle"
   ]
  },
  {
   "cell_type": "code",
   "execution_count": 95,
   "metadata": {},
   "outputs": [],
   "source": [
    "y = []\n",
    "for i in arange (0, size(x[2])/2, 1):\n",
    "    y.append(x[2][i][0])"
   ]
  },
  {
   "cell_type": "code",
   "execution_count": 96,
   "metadata": {
    "collapsed": true
   },
   "outputs": [
    {
     "name": "stdout",
     "output_type": "stream",
     "text": [
      "\u001b[1;31m---------------------------------------------------------------------------\u001b[0m\n",
      "\u001b[1;31mValueError\u001b[0m                                Traceback (most recent call last)\n",
      "\u001b[1;32m<ipython-input-96-28ddb67ea448>\u001b[0m in \u001b[0;36m<module>\u001b[1;34m()\u001b[0m\n",
      "\u001b[1;32m----> 1\u001b[1;33m \u001b[0mplt\u001b[0m\u001b[1;33m.\u001b[0m\u001b[0mplot\u001b[0m\u001b[1;33m(\u001b[0m\u001b[0mx\u001b[0m\u001b[1;33m[\u001b[0m\u001b[1;36m0\u001b[0m\u001b[1;33m]\u001b[0m\u001b[1;33m,\u001b[0m \u001b[0my\u001b[0m\u001b[1;33m)\u001b[0m\u001b[1;33m\u001b[0m\u001b[0m\n",
      "\u001b[0m\u001b[0;32m      2\u001b[0m \u001b[0mplt\u001b[0m\u001b[1;33m.\u001b[0m\u001b[0mxlabel\u001b[0m\u001b[1;33m(\u001b[0m\u001b[1;34mr'$Second tone frequency(GHz)$'\u001b[0m\u001b[1;33m,\u001b[0m \u001b[0mfontsize\u001b[0m\u001b[1;33m=\u001b[0m\u001b[1;36m16\u001b[0m\u001b[1;33m)\u001b[0m\u001b[1;33m\u001b[0m\u001b[0m\n",
      "\u001b[0;32m      3\u001b[0m \u001b[0mplt\u001b[0m\u001b[1;33m.\u001b[0m\u001b[0mylabel\u001b[0m\u001b[1;33m(\u001b[0m\u001b[1;34mr'$S21 change(dB)$'\u001b[0m\u001b[1;33m,\u001b[0m \u001b[0mfontsize\u001b[0m\u001b[1;33m=\u001b[0m\u001b[1;36m16\u001b[0m\u001b[1;33m)\u001b[0m\u001b[1;33m\u001b[0m\u001b[0m\n",
      "\u001b[0;32m      4\u001b[0m \u001b[1;31m#plt.title('Change of S21 due to additional tone...')\u001b[0m\u001b[1;33m\u001b[0m\u001b[1;33m\u001b[0m\u001b[0m\n",
      "\n",
      "\u001b[1;32mC:\\Python27\\Lib\\site-packages\\matplotlib\\pyplot.pyc\u001b[0m in \u001b[0;36mplot\u001b[1;34m(*args, **kwargs)\u001b[0m\n",
      "\u001b[0;32m   3097\u001b[0m         \u001b[0max\u001b[0m\u001b[1;33m.\u001b[0m\u001b[0mhold\u001b[0m\u001b[1;33m(\u001b[0m\u001b[0mhold\u001b[0m\u001b[1;33m)\u001b[0m\u001b[1;33m\u001b[0m\u001b[0m\n",
      "\u001b[0;32m   3098\u001b[0m     \u001b[1;32mtry\u001b[0m\u001b[1;33m:\u001b[0m\u001b[1;33m\u001b[0m\u001b[0m\n",
      "\u001b[1;32m-> 3099\u001b[1;33m         \u001b[0mret\u001b[0m \u001b[1;33m=\u001b[0m \u001b[0max\u001b[0m\u001b[1;33m.\u001b[0m\u001b[0mplot\u001b[0m\u001b[1;33m(\u001b[0m\u001b[1;33m*\u001b[0m\u001b[0margs\u001b[0m\u001b[1;33m,\u001b[0m \u001b[1;33m**\u001b[0m\u001b[0mkwargs\u001b[0m\u001b[1;33m)\u001b[0m\u001b[1;33m\u001b[0m\u001b[0m\n",
      "\u001b[0m\u001b[0;32m   3100\u001b[0m         \u001b[0mdraw_if_interactive\u001b[0m\u001b[1;33m(\u001b[0m\u001b[1;33m)\u001b[0m\u001b[1;33m\u001b[0m\u001b[0m\n",
      "\u001b[0;32m   3101\u001b[0m     \u001b[1;32mfinally\u001b[0m\u001b[1;33m:\u001b[0m\u001b[1;33m\u001b[0m\u001b[0m\n",
      "\n",
      "\u001b[1;32mC:\\Python27\\Lib\\site-packages\\matplotlib\\axes\\_axes.pyc\u001b[0m in \u001b[0;36mplot\u001b[1;34m(self, *args, **kwargs)\u001b[0m\n",
      "\u001b[0;32m   1371\u001b[0m         \u001b[0mlines\u001b[0m \u001b[1;33m=\u001b[0m \u001b[1;33m[\u001b[0m\u001b[1;33m]\u001b[0m\u001b[1;33m\u001b[0m\u001b[0m\n",
      "\u001b[0;32m   1372\u001b[0m \u001b[1;33m\u001b[0m\u001b[0m\n",
      "\u001b[1;32m-> 1373\u001b[1;33m         \u001b[1;32mfor\u001b[0m \u001b[0mline\u001b[0m \u001b[1;32min\u001b[0m \u001b[0mself\u001b[0m\u001b[1;33m.\u001b[0m\u001b[0m_get_lines\u001b[0m\u001b[1;33m(\u001b[0m\u001b[1;33m*\u001b[0m\u001b[0margs\u001b[0m\u001b[1;33m,\u001b[0m \u001b[1;33m**\u001b[0m\u001b[0mkwargs\u001b[0m\u001b[1;33m)\u001b[0m\u001b[1;33m:\u001b[0m\u001b[1;33m\u001b[0m\u001b[0m\n",
      "\u001b[0m\u001b[0;32m   1374\u001b[0m             \u001b[0mself\u001b[0m\u001b[1;33m.\u001b[0m\u001b[0madd_line\u001b[0m\u001b[1;33m(\u001b[0m\u001b[0mline\u001b[0m\u001b[1;33m)\u001b[0m\u001b[1;33m\u001b[0m\u001b[0m\n",
      "\u001b[0;32m   1375\u001b[0m             \u001b[0mlines\u001b[0m\u001b[1;33m.\u001b[0m\u001b[0mappend\u001b[0m\u001b[1;33m(\u001b[0m\u001b[0mline\u001b[0m\u001b[1;33m)\u001b[0m\u001b[1;33m\u001b[0m\u001b[0m\n",
      "\n",
      "\u001b[1;32mC:\\Python27\\Lib\\site-packages\\matplotlib\\axes\\_base.pyc\u001b[0m in \u001b[0;36m_grab_next_args\u001b[1;34m(self, *args, **kwargs)\u001b[0m\n",
      "\u001b[0;32m    302\u001b[0m                 \u001b[1;32mreturn\u001b[0m\u001b[1;33m\u001b[0m\u001b[0m\n",
      "\u001b[0;32m    303\u001b[0m             \u001b[1;32mif\u001b[0m \u001b[0mlen\u001b[0m\u001b[1;33m(\u001b[0m\u001b[0mremaining\u001b[0m\u001b[1;33m)\u001b[0m \u001b[1;33m<=\u001b[0m \u001b[1;36m3\u001b[0m\u001b[1;33m:\u001b[0m\u001b[1;33m\u001b[0m\u001b[0m\n",
      "\u001b[1;32m--> 304\u001b[1;33m                 \u001b[1;32mfor\u001b[0m \u001b[0mseg\u001b[0m \u001b[1;32min\u001b[0m \u001b[0mself\u001b[0m\u001b[1;33m.\u001b[0m\u001b[0m_plot_args\u001b[0m\u001b[1;33m(\u001b[0m\u001b[0mremaining\u001b[0m\u001b[1;33m,\u001b[0m \u001b[0mkwargs\u001b[0m\u001b[1;33m)\u001b[0m\u001b[1;33m:\u001b[0m\u001b[1;33m\u001b[0m\u001b[0m\n",
      "\u001b[0m\u001b[0;32m    305\u001b[0m                     \u001b[1;32myield\u001b[0m \u001b[0mseg\u001b[0m\u001b[1;33m\u001b[0m\u001b[0m\n",
      "\u001b[0;32m    306\u001b[0m                 \u001b[1;32mreturn\u001b[0m\u001b[1;33m\u001b[0m\u001b[0m\n",
      "\n",
      "\u001b[1;32mC:\\Python27\\Lib\\site-packages\\matplotlib\\axes\\_base.pyc\u001b[0m in \u001b[0;36m_plot_args\u001b[1;34m(self, tup, kwargs)\u001b[0m\n",
      "\u001b[0;32m    280\u001b[0m             \u001b[0mx\u001b[0m \u001b[1;33m=\u001b[0m \u001b[0mnp\u001b[0m\u001b[1;33m.\u001b[0m\u001b[0marange\u001b[0m\u001b[1;33m(\u001b[0m\u001b[0my\u001b[0m\u001b[1;33m.\u001b[0m\u001b[0mshape\u001b[0m\u001b[1;33m[\u001b[0m\u001b[1;36m0\u001b[0m\u001b[1;33m]\u001b[0m\u001b[1;33m,\u001b[0m \u001b[0mdtype\u001b[0m\u001b[1;33m=\u001b[0m\u001b[0mfloat\u001b[0m\u001b[1;33m)\u001b[0m\u001b[1;33m\u001b[0m\u001b[0m\n",
      "\u001b[0;32m    281\u001b[0m \u001b[1;33m\u001b[0m\u001b[0m\n",
      "\u001b[1;32m--> 282\u001b[1;33m         \u001b[0mx\u001b[0m\u001b[1;33m,\u001b[0m \u001b[0my\u001b[0m \u001b[1;33m=\u001b[0m \u001b[0mself\u001b[0m\u001b[1;33m.\u001b[0m\u001b[0m_xy_from_xy\u001b[0m\u001b[1;33m(\u001b[0m\u001b[0mx\u001b[0m\u001b[1;33m,\u001b[0m \u001b[0my\u001b[0m\u001b[1;33m)\u001b[0m\u001b[1;33m\u001b[0m\u001b[0m\n",
      "\u001b[0m\u001b[0;32m    283\u001b[0m \u001b[1;33m\u001b[0m\u001b[0m\n",
      "\u001b[0;32m    284\u001b[0m         \u001b[1;32mif\u001b[0m \u001b[0mself\u001b[0m\u001b[1;33m.\u001b[0m\u001b[0mcommand\u001b[0m \u001b[1;33m==\u001b[0m \u001b[1;34m'plot'\u001b[0m\u001b[1;33m:\u001b[0m\u001b[1;33m\u001b[0m\u001b[0m\n",
      "\n",
      "\u001b[1;32mC:\\Python27\\Lib\\site-packages\\matplotlib\\axes\\_base.pyc\u001b[0m in \u001b[0;36m_xy_from_xy\u001b[1;34m(self, x, y)\u001b[0m\n",
      "\u001b[0;32m    221\u001b[0m         \u001b[0my\u001b[0m \u001b[1;33m=\u001b[0m \u001b[0mnp\u001b[0m\u001b[1;33m.\u001b[0m\u001b[0matleast_1d\u001b[0m\u001b[1;33m(\u001b[0m\u001b[0my\u001b[0m\u001b[1;33m)\u001b[0m\u001b[1;33m\u001b[0m\u001b[0m\n",
      "\u001b[0;32m    222\u001b[0m         \u001b[1;32mif\u001b[0m \u001b[0mx\u001b[0m\u001b[1;33m.\u001b[0m\u001b[0mshape\u001b[0m\u001b[1;33m[\u001b[0m\u001b[1;36m0\u001b[0m\u001b[1;33m]\u001b[0m \u001b[1;33m!=\u001b[0m \u001b[0my\u001b[0m\u001b[1;33m.\u001b[0m\u001b[0mshape\u001b[0m\u001b[1;33m[\u001b[0m\u001b[1;36m0\u001b[0m\u001b[1;33m]\u001b[0m\u001b[1;33m:\u001b[0m\u001b[1;33m\u001b[0m\u001b[0m\n",
      "\u001b[1;32m--> 223\u001b[1;33m             \u001b[1;32mraise\u001b[0m \u001b[0mValueError\u001b[0m\u001b[1;33m(\u001b[0m\u001b[1;34m\"x and y must have same first dimension\"\u001b[0m\u001b[1;33m)\u001b[0m\u001b[1;33m\u001b[0m\u001b[0m\n",
      "\u001b[0m\u001b[0;32m    224\u001b[0m         \u001b[1;32mif\u001b[0m \u001b[0mx\u001b[0m\u001b[1;33m.\u001b[0m\u001b[0mndim\u001b[0m \u001b[1;33m>\u001b[0m \u001b[1;36m2\u001b[0m \u001b[1;32mor\u001b[0m \u001b[0my\u001b[0m\u001b[1;33m.\u001b[0m\u001b[0mndim\u001b[0m \u001b[1;33m>\u001b[0m \u001b[1;36m2\u001b[0m\u001b[1;33m:\u001b[0m\u001b[1;33m\u001b[0m\u001b[0m\n",
      "\u001b[0;32m    225\u001b[0m             \u001b[1;32mraise\u001b[0m \u001b[0mValueError\u001b[0m\u001b[1;33m(\u001b[0m\u001b[1;34m\"x and y can be no greater than 2-D\"\u001b[0m\u001b[1;33m)\u001b[0m\u001b[1;33m\u001b[0m\u001b[0m\n",
      "\n",
      "\u001b[1;31mValueError\u001b[0m: x and y must have same first dimension\n"
     ]
    }
   ],
   "source": [
    "plt.plot(x[0], y)\n",
    "plt.xlabel(r'$Second tone frequency(GHz)$', fontsize=16)\n",
    "plt.ylabel(r'$S21 change(dB)$', fontsize=16)\n",
    "#plt.title('Change of S21 due to additional tone...')"
   ]
  },
  {
   "cell_type": "markdown",
   "metadata": {},
   "source": [
    "# 3D plot"
   ]
  },
  {
   "cell_type": "code",
   "execution_count": 8,
   "metadata": {},
   "outputs": [
    {
     "name": "stdout",
     "output_type": "stream",
     "text": [
      "Populating the interactive namespace from numpy and matplotlib\n"
     ]
    },
    {
     "name": "stderr",
     "output_type": "stream",
     "text": [
      "WARNING: pylab import has clobbered these variables: ['plot', 'test']\n",
      "`%matplotlib` prevents importing * from pylab and numpy\n"
     ]
    }
   ],
   "source": [
    "%pylab inline"
   ]
  },
  {
   "cell_type": "code",
   "execution_count": 15,
   "metadata": {},
   "outputs": [],
   "source": [
    "x=measurement.get_data()"
   ]
  },
  {
   "cell_type": "code",
   "execution_count": 9,
   "metadata": {},
   "outputs": [
    {
     "name": "stdout",
     "output_type": "stream",
     "text": [
      "\u001b[1;31m---------------------------------------------------------------------------\u001b[0m\n",
      "\u001b[1;31mNameError\u001b[0m                                 Traceback (most recent call last)\n",
      "\u001b[1;32m<ipython-input-9-1260712a8829>\u001b[0m in \u001b[0;36m<module>\u001b[1;34m()\u001b[0m\n",
      "\u001b[0;32m      1\u001b[0m \u001b[1;31m# Создаем двумерную матрицу-сетку\u001b[0m\u001b[1;33m\u001b[0m\u001b[1;33m\u001b[0m\u001b[0m\n",
      "\u001b[1;32m----> 2\u001b[1;33m \u001b[0mxgrid\u001b[0m\u001b[1;33m,\u001b[0m \u001b[0mygrid\u001b[0m \u001b[1;33m=\u001b[0m \u001b[0mmeshgrid\u001b[0m\u001b[1;33m(\u001b[0m\u001b[0mx\u001b[0m\u001b[1;33m[\u001b[0m\u001b[1;36m1\u001b[0m\u001b[1;33m]\u001b[0m\u001b[1;33m,\u001b[0m\u001b[0mx\u001b[0m\u001b[1;33m[\u001b[0m\u001b[1;36m0\u001b[0m\u001b[1;33m]\u001b[0m\u001b[1;33m)\u001b[0m\u001b[1;33m\u001b[0m\u001b[0m\n",
      "\u001b[0m\u001b[0;32m      3\u001b[0m \u001b[1;33m\u001b[0m\u001b[0m\n",
      "\u001b[0;32m      4\u001b[0m \u001b[1;31m# В узлах рассчитываем значение функции\u001b[0m\u001b[1;33m\u001b[0m\u001b[1;33m\u001b[0m\u001b[0m\n",
      "\u001b[0;32m      5\u001b[0m \u001b[0mzgrid\u001b[0m \u001b[1;33m=\u001b[0m \u001b[0mxgrid\u001b[0m\u001b[1;33m+\u001b[0m\u001b[0mygrid\u001b[0m\u001b[1;33m\u001b[0m\u001b[0m\n",
      "\n",
      "\u001b[1;31mNameError\u001b[0m: name 'x' is not defined\n"
     ]
    }
   ],
   "source": [
    "# Создаем двумерную матрицу-сетку\n",
    "xgrid, ygrid = meshgrid(x[1],x[0])\n",
    "\n",
    "# В узлах рассчитываем значение функции\n",
    "zgrid = xgrid+ygrid\n",
    "zpgrid = xgrid+ygrid\n",
    "\n",
    "y = []\n",
    "\n",
    "for i in arange (0, size(x[1])-1, 1):      # 600\n",
    "    for j in arange (0, size(x[0])-1, 1):     # 1000\n",
    "        #print i\n",
    "        zgrid[j][i]=x[3][j][i]-x[3][0][i]\n",
    "        zpgrid[j][i]=x[4][j][i]-x[4][0][i]"
   ]
  },
  {
   "cell_type": "code",
   "execution_count": 17,
   "metadata": {},
   "outputs": [
    {
     "data": {
      "text/plain": [
       "array([[  0.00000000e+00,   0.00000000e+00,   0.00000000e+00, ...,\n",
       "          0.00000000e+00,   0.00000000e+00,   9.46825001e+09],\n",
       "       [ -6.00691640e-02,   4.63608212e-01,   2.92443138e-01, ...,\n",
       "         -1.94507338e-01,  -2.20980553e-01,   9.46825001e+09],\n",
       "       [  3.26868347e-02,   6.15998552e-02,  -1.41693314e-01, ...,\n",
       "          1.03521926e-01,  -3.16007005e-01,   9.46825001e+09],\n",
       "       ..., \n",
       "       [ -4.30741649e-01,   8.96595925e-01,  -1.61035649e+00, ...,\n",
       "          3.78250876e-01,  -4.72680753e-01,   9.46825002e+09],\n",
       "       [ -1.44823237e-01,  -1.09694944e-01,   1.23226196e+00, ...,\n",
       "          1.46922673e-01,  -2.49064417e-01,   9.46825002e+09],\n",
       "       [  9.46725002e+09,   9.46725335e+09,   9.46725668e+09, ...,\n",
       "          9.46824335e+09,   9.46824668e+09,   9.46825002e+09]])"
      ]
     },
     "execution_count": 17,
     "metadata": {},
     "output_type": "execute_result"
    }
   ],
   "source": [
    "zgrid"
   ]
  },
  {
   "cell_type": "code",
   "execution_count": 20,
   "metadata": {},
   "outputs": [],
   "source": [
    "fig, axes = plt.subplots(1,2,figsize=(18, 7))\n",
    "#p = axes[0].pcolor(ygrid, xgrid/1e6, zgrid, cmap=cm.RdBu)\n",
    "p = axes[0].pcolor(ygrid, xgrid/1e6, zgrid)\n",
    "cb = fig.colorbar(p, ax=axes[0])\n",
    "axes[0].axis('tight')\n",
    "axes[0].set_xlabel(r'Exitation Power(A)', fontsize=16)\n",
    "axes[0].set_ylabel(r'Frequency(Hz)', fontsize=16)\n",
    "axes[0].set_title('Dressed states')\n",
    "\n",
    "p = axes[1].pcolor(ygrid, xgrid/1e6, zpgrid)\n",
    "cb = fig.colorbar(p, ax=axes[1])\n",
    "axes[1].axis('tight')\n",
    "axes[1].set_xlabel(r'Exitation Power(A)', fontsize=16)\n",
    "axes[1].set_ylabel(r'Frequency(Hz)', fontsize=16)\n",
    "axes[1].set_title('Dressed states')\n",
    "\n",
    "plt.gcf().set_size_inches(18,7)\n",
    "plt.savefig(\"C:/qtlab/ReiData/data/Dec 27 2016/dressed states_power_sweep.pdf\", bbox_inches=\"tight\")"
   ]
  },
  {
   "cell_type": "code",
   "execution_count": 10,
   "metadata": {
    "collapsed": true
   },
   "outputs": [],
   "source": [
    "plt.close('all')"
   ]
  },
  {
   "cell_type": "code",
   "execution_count": 76,
   "metadata": {},
   "outputs": [
    {
     "data": {
      "text/plain": [
       "131074L"
      ]
     },
     "execution_count": 76,
     "metadata": {},
     "output_type": "execute_result"
    }
   ],
   "source": [
    "awg.set_channel5_voltage(2500)"
   ]
  },
  {
   "cell_type": "code",
   "execution_count": 72,
   "metadata": {},
   "outputs": [
    {
     "data": {
      "text/plain": [
       "[<matplotlib.lines.Line2D at 0x167224d0>]"
      ]
     },
     "execution_count": 72,
     "metadata": {},
     "output_type": "execute_result"
    }
   ],
   "source": [
    "pna.set_xlim(6.406e9, 6.806e9)\n",
    "freqs = np.linspace(6.506e9, 6.709e9, 1001)\n",
    "pna.set_nop(1001)\n",
    "pna.set_power(-40)\n",
    "plt.plot(freqs, np.abs(pna.get_tracedata()[0]))"
   ]
  },
  {
   "cell_type": "code",
   "execution_count": 21,
   "metadata": {},
   "outputs": [
    {
     "data": {
      "text/plain": [
       "2"
      ]
     },
     "execution_count": 21,
     "metadata": {},
     "output_type": "execute_result"
    }
   ],
   "source": []
  },
  {
   "cell_type": "code",
   "execution_count": 17,
   "metadata": {},
   "outputs": [
    {
     "data": {
      "text/plain": [
       "True"
      ]
     },
     "execution_count": 17,
     "metadata": {},
     "output_type": "execute_result"
    }
   ],
   "source": []
  },
  {
   "cell_type": "code",
   "execution_count": 23,
   "metadata": {},
   "outputs": [],
   "source": []
  },
  {
   "cell_type": "code",
   "execution_count": null,
   "metadata": {
    "collapsed": true
   },
   "outputs": [],
   "source": [
    "pna."
   ]
  }
 ],
 "metadata": {
  "kernelspec": {
   "display_name": "Python 3",
   "language": "python",
   "name": "python3"
  },
  "language_info": {
   "codemirror_mode": {
    "name": "ipython",
    "version": 3
   },
   "file_extension": ".py",
   "mimetype": "text/x-python",
   "name": "python",
   "nbconvert_exporter": "python",
   "pygments_lexer": "ipython3",
   "version": "3.6.5"
  },
  "toc": {
   "base_numbering": 1,
   "nav_menu": {},
   "number_sections": true,
   "sideBar": true,
   "skip_h1_title": false,
   "title_cell": "Table of Contents",
   "title_sidebar": "Contents",
   "toc_cell": false,
   "toc_position": {},
   "toc_section_display": true,
   "toc_window_display": false
  }
 },
 "nbformat": 4,
 "nbformat_minor": 1
}
