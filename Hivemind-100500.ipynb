{
 "cells": [
  {
   "cell_type": "code",
   "execution_count": 1,
   "metadata": {},
   "outputs": [
    {
     "name": "stdout",
     "output_type": "stream",
     "text": [
      "Failed loading module Signal_Hound_SA:  [WinError 126] The specified module could not be found\n"
     ]
    }
   ],
   "source": [
    "%run D:\\qtlab_replacement\\init.py\n",
    "import matplotlib.pyplot as plt\n",
    "from instruments import *\n",
    "import numpy as np\n",
    "import sweep\n",
    "from save_pkl import *\n",
    "%matplotlib qt5\n",
    "from matplotlib import interactive\n",
    "interactive(True)"
   ]
  },
  {
   "cell_type": "code",
   "execution_count": 2,
   "metadata": {
    "collapsed": true
   },
   "outputs": [],
   "source": [
    "current_src1 = Yokogawa_GS210(address='GPIB::1::INSTR')\n",
    "current_src2 = Yokogawa_GS210(address='GPIB::2::INSTR')\n",
    "\n",
    "#current_src = Yokogawa_GS210(address='USB0::0x0B21::0x0039::91T112494::INSTR')\n",
    "#current_src2 = Yokogawa_GS210(address='USB0::0x0B21::0x0039::91T112492::INSTR')"
   ]
  },
  {
   "cell_type": "code",
   "execution_count": 3,
   "metadata": {
    "scrolled": true
   },
   "outputs": [
    {
     "name": "stdout",
     "output_type": "stream",
     "text": [
      "None\n"
     ]
    },
    {
     "ename": "DeviceError",
     "evalue": "DEVICE_NOT_FOUND",
     "output_type": "error",
     "traceback": [
      "\u001b[1;31m---------------------------------------------------------------------------\u001b[0m",
      "\u001b[1;31mDeviceError\u001b[0m                               Traceback (most recent call last)",
      "\u001b[1;32m<ipython-input-3-4f82af0a1bfd>\u001b[0m in \u001b[0;36m<module>\u001b[1;34m()\u001b[0m\n\u001b[0;32m      1\u001b[0m \u001b[1;32mimport\u001b[0m \u001b[0mftd2xx\u001b[0m\u001b[1;33m\u001b[0m\u001b[0m\n\u001b[0;32m      2\u001b[0m \u001b[0mprint\u001b[0m\u001b[1;33m(\u001b[0m\u001b[0mftd2xx\u001b[0m\u001b[1;33m.\u001b[0m\u001b[0mlistDevices\u001b[0m\u001b[1;33m(\u001b[0m\u001b[1;33m)\u001b[0m\u001b[1;33m)\u001b[0m\u001b[1;33m\u001b[0m\u001b[0m\n\u001b[1;32m----> 3\u001b[1;33m \u001b[0mawg_sema0\u001b[0m \u001b[1;33m=\u001b[0m \u001b[0mAWG500\u001b[0m\u001b[1;33m(\u001b[0m\u001b[1;34m'awg'\u001b[0m\u001b[1;33m,\u001b[0m\u001b[0maddress\u001b[0m\u001b[1;33m=\u001b[0m\u001b[1;36m0\u001b[0m\u001b[1;33m,\u001b[0m \u001b[0mver\u001b[0m\u001b[1;33m=\u001b[0m\u001b[1;36m2\u001b[0m\u001b[1;33m)\u001b[0m\u001b[1;33m\u001b[0m\u001b[0m\n\u001b[0m",
      "\u001b[1;32mD:\\qtlab_replacement\\instruments\\AWG500.py\u001b[0m in \u001b[0;36m__init__\u001b[1;34m(self, name, address, ver, use_internal_trigger, mode)\u001b[0m\n\u001b[0;32m    374\u001b[0m                 \u001b[0mInstrument\u001b[0m\u001b[1;33m.\u001b[0m\u001b[0m__init__\u001b[0m\u001b[1;33m(\u001b[0m\u001b[0mself\u001b[0m\u001b[1;33m,\u001b[0m \u001b[0mname\u001b[0m\u001b[1;33m,\u001b[0m \u001b[0mtags\u001b[0m\u001b[1;33m=\u001b[0m\u001b[1;33m[\u001b[0m\u001b[1;34m'measure'\u001b[0m\u001b[1;33m]\u001b[0m\u001b[1;33m)\u001b[0m\u001b[1;33m\u001b[0m\u001b[0m\n\u001b[0;32m    375\u001b[0m                 \u001b[1;31m# Opening ftd2xx connection (USB-COM dongle)\u001b[0m\u001b[1;33m\u001b[0m\u001b[1;33m\u001b[0m\u001b[0m\n\u001b[1;32m--> 376\u001b[1;33m                 \u001b[0mself\u001b[0m\u001b[1;33m.\u001b[0m\u001b[0mh\u001b[0m \u001b[1;33m=\u001b[0m \u001b[0mftd2xx\u001b[0m\u001b[1;33m.\u001b[0m\u001b[0mopen\u001b[0m\u001b[1;33m(\u001b[0m\u001b[0maddress\u001b[0m\u001b[1;33m)\u001b[0m\u001b[1;33m\u001b[0m\u001b[0m\n\u001b[0m\u001b[0;32m    377\u001b[0m \u001b[1;33m\u001b[0m\u001b[0m\n\u001b[0;32m    378\u001b[0m                 \u001b[1;31m# QTLab stuff\u001b[0m\u001b[1;33m\u001b[0m\u001b[1;33m\u001b[0m\u001b[0m\n",
      "\u001b[1;32mC:\\ProgramData\\Anaconda3\\lib\\site-packages\\ftd2xx\\ftd2xx.py\u001b[0m in \u001b[0;36mopen\u001b[1;34m(dev)\u001b[0m\n\u001b[0;32m     95\u001b[0m     it\"\"\"\n\u001b[0;32m     96\u001b[0m     \u001b[0mh\u001b[0m \u001b[1;33m=\u001b[0m \u001b[0m_ft\u001b[0m\u001b[1;33m.\u001b[0m\u001b[0mFT_HANDLE\u001b[0m\u001b[1;33m(\u001b[0m\u001b[1;33m)\u001b[0m\u001b[1;33m\u001b[0m\u001b[0m\n\u001b[1;32m---> 97\u001b[1;33m     \u001b[0mcall_ft\u001b[0m\u001b[1;33m(\u001b[0m\u001b[0m_ft\u001b[0m\u001b[1;33m.\u001b[0m\u001b[0mFT_Open\u001b[0m\u001b[1;33m,\u001b[0m \u001b[0mdev\u001b[0m\u001b[1;33m,\u001b[0m \u001b[0mc\u001b[0m\u001b[1;33m.\u001b[0m\u001b[0mbyref\u001b[0m\u001b[1;33m(\u001b[0m\u001b[0mh\u001b[0m\u001b[1;33m)\u001b[0m\u001b[1;33m)\u001b[0m\u001b[1;33m\u001b[0m\u001b[0m\n\u001b[0m\u001b[0;32m     98\u001b[0m     \u001b[1;32mreturn\u001b[0m \u001b[0mFTD2XX\u001b[0m\u001b[1;33m(\u001b[0m\u001b[0mh\u001b[0m\u001b[1;33m)\u001b[0m\u001b[1;33m\u001b[0m\u001b[0m\n\u001b[0;32m     99\u001b[0m \u001b[1;33m\u001b[0m\u001b[0m\n",
      "\u001b[1;32mC:\\ProgramData\\Anaconda3\\lib\\site-packages\\ftd2xx\\ftd2xx.py\u001b[0m in \u001b[0;36mcall_ft\u001b[1;34m(function, *args)\u001b[0m\n\u001b[0;32m     39\u001b[0m     \u001b[0mstatus\u001b[0m \u001b[1;33m=\u001b[0m \u001b[0mfunction\u001b[0m\u001b[1;33m(\u001b[0m\u001b[1;33m*\u001b[0m\u001b[0margs\u001b[0m\u001b[1;33m)\u001b[0m\u001b[1;33m\u001b[0m\u001b[0m\n\u001b[0;32m     40\u001b[0m     \u001b[1;32mif\u001b[0m \u001b[0mstatus\u001b[0m \u001b[1;33m!=\u001b[0m \u001b[0m_ft\u001b[0m\u001b[1;33m.\u001b[0m\u001b[0mFT_OK\u001b[0m\u001b[1;33m:\u001b[0m\u001b[1;33m\u001b[0m\u001b[0m\n\u001b[1;32m---> 41\u001b[1;33m         \u001b[1;32mraise\u001b[0m \u001b[0mDeviceError\u001b[0m\u001b[1;33m(\u001b[0m\u001b[0mstatus\u001b[0m\u001b[1;33m)\u001b[0m\u001b[1;33m\u001b[0m\u001b[0m\n\u001b[0m\u001b[0;32m     42\u001b[0m \u001b[1;33m\u001b[0m\u001b[0m\n\u001b[0;32m     43\u001b[0m \u001b[1;32mdef\u001b[0m \u001b[0mlistDevices\u001b[0m\u001b[1;33m(\u001b[0m\u001b[0mflags\u001b[0m\u001b[1;33m=\u001b[0m\u001b[1;36m0\u001b[0m\u001b[1;33m)\u001b[0m\u001b[1;33m:\u001b[0m\u001b[1;33m\u001b[0m\u001b[0m\n",
      "\u001b[1;31mDeviceError\u001b[0m: DEVICE_NOT_FOUND"
     ]
    }
   ],
   "source": [
    "import ftd2xx \n",
    "print(ftd2xx.listDevices())\n",
    "awg_sema0 = AWG500('awg',address=0, ver=2)"
   ]
  },
  {
   "cell_type": "code",
   "execution_count": 3,
   "metadata": {},
   "outputs": [
    {
     "data": {
      "text/plain": [
       "True"
      ]
     },
     "execution_count": 3,
     "metadata": {},
     "output_type": "execute_result"
    }
   ],
   "source": [
    "#current_src = Yokogawa_GS210(address='gs210')\n",
    "pna = Agilent_N5242A('pna', address = 'TCPIP0::A-N5242A-22023::inst0::INSTR')\n",
    "lo1 = Agilent_E8257D('lo1', address = 'TCPIP0::10.20.61.59::inst0::INSTR')\n",
    "#pxa = Agilent_N9030A('pxa', address = 'PXA')\n",
    "#awg_tek = Tektronix_AWG5014('awg_tek', address = 'TCPIP0::10.20.61.186::inst0::INSTR')\n",
    "adc = Spectrum_M3i2132('adc')\n",
    "sa = Agilent_N9030A('pxa', address = 'TCPIP0::10.20.61.56::inst0::INSTR')\n",
    "#adc = Spectrum_M3i2132('adc')\n",
    "# векторный анализатор в режим линейного свипа\n",
    "pna.set_sweep_mode(\"LIN\")\n",
    "#dac=nndac()"
   ]
  },
  {
   "cell_type": "code",
   "execution_count": 4,
   "metadata": {
    "collapsed": true
   },
   "outputs": [],
   "source": [
    "dac=nndac()"
   ]
  },
  {
   "cell_type": "code",
   "execution_count": 5,
   "metadata": {
    "collapsed": true
   },
   "outputs": [],
   "source": [
    "def set_res_z_voltage(dc):\n",
    "    #if dc<-1.0:\n",
    "    #    dc=-1.0\n",
    "    #if dc>1.0:\n",
    "    #    dc=1.0\n",
    "    #waveform = np.ones(awg_sema0.get_nop()+200)*dc\n",
    "    #print(dc)\n",
    "    awg_tek.set_offset(dc, channel=2)\n",
    "    #awg_sema0.set_waveform(waveform, channel=0)\n",
    "    #awg_tek.set_status(1, channel=4)\n",
    "    #awg_sema0.run()"
   ]
  },
  {
   "cell_type": "code",
   "execution_count": 11,
   "metadata": {},
   "outputs": [
    {
     "data": {
      "text/plain": [
       "True"
      ]
     },
     "execution_count": 11,
     "metadata": {},
     "output_type": "execute_result"
    }
   ],
   "source": [
    "awg_sema0.set_repetition_period(20e-6)"
   ]
  },
  {
   "cell_type": "markdown",
   "metadata": {},
   "source": [
    "# Spectroscopy with passthrough mixers"
   ]
  },
  {
   "cell_type": "code",
   "execution_count": 95,
   "metadata": {},
   "outputs": [
    {
     "name": "stderr",
     "output_type": "stream",
     "text": [
      "root: WARNING  Tektronix_AWG5014 : get all not yet fully functional\n"
     ]
    }
   ],
   "source": [
    "# AWG для того чтобы открыть смесители\n",
    "pna.set_sweep_mode(\"LIN\")\n",
    "awg_tek = Tektronix_AWG5014('awg_tek', address = 'TCPIP0::10.20.61.186::inst0::INSTR')\n",
    "Vdc_q = 0.1\n",
    "Vdc_r = 0.1\n",
    "# Задаём постояннmtые смещения на каналы 1 и 3\n",
    "awg_tek.set_waveform([0]*awg_tek.get_nop(), channel=1)\n",
    "awg_tek.set_waveform([0]*awg_tek.get_nop(), channel=2)\n",
    "awg_tek.set_waveform([0]*awg_tek.get_nop(), channel=3)\n",
    "awg_tek.set_waveform([0]*awg_tek.get_nop(), channel=4)\n",
    "awg_tek.set_offset(Vdc_q, channel=1)\n",
    "awg_tek.set_offset(Vdc_q, channel=2)\n",
    "awg_tek.set_offset(Vdc_r, channel=3)\n",
    "awg_tek.set_offset(Vdc_r, channel=4)\n",
    "\n",
    "# Сами импульсы надо при этом выключить! Будет меньше шуметь (но то не точно).\n",
    "awg_tek.stop()"
   ]
  },
  {
   "cell_type": "markdown",
   "metadata": {},
   "source": [
    "# Resonator tunability spectorscopy"
   ]
  },
  {
   "cell_type": "code",
   "execution_count": 5,
   "metadata": {
    "collapsed": true
   },
   "outputs": [],
   "source": [
    "import time\n",
    "class zero_device:\n",
    "    def get_points(self):\n",
    "        return {'dummy':[('dummy', [0])]}\n",
    "    def get_dtype(self):\n",
    "        return {'dummy':np.float}\n",
    "    def get_opts(self):\n",
    "        return {'dummy': {'log': None}}\n",
    "    def measure(self):\n",
    "        time.sleep(100)\n",
    "        return {'dummy':[0.0]}\n",
    "zd = zero_device()"
   ]
  },
  {
   "cell_type": "code",
   "execution_count": 9,
   "metadata": {},
   "outputs": [
    {
     "ename": "NameError",
     "evalue": "name 'dac' is not defined",
     "output_type": "error",
     "traceback": [
      "\u001b[1;31m---------------------------------------------------------------------------\u001b[0m",
      "\u001b[1;31mNameError\u001b[0m                                 Traceback (most recent call last)",
      "\u001b[1;32m<ipython-input-9-e7a8e4bda778>\u001b[0m in \u001b[0;36m<module>\u001b[1;34m()\u001b[0m\n\u001b[0;32m      3\u001b[0m \u001b[1;32mfor\u001b[0m \u001b[0mchannel_id\u001b[0m \u001b[1;32min\u001b[0m \u001b[0mchannel_ids\u001b[0m\u001b[1;33m:\u001b[0m\u001b[1;33m\u001b[0m\u001b[0m\n\u001b[0;32m      4\u001b[0m     \u001b[1;32mfor\u001b[0m \u001b[0mv\u001b[0m \u001b[1;32min\u001b[0m \u001b[0mvoltages\u001b[0m\u001b[1;33m:\u001b[0m\u001b[1;33m\u001b[0m\u001b[0m\n\u001b[1;32m----> 5\u001b[1;33m         \u001b[0mdac\u001b[0m\u001b[1;33m.\u001b[0m\u001b[0mset_voltage\u001b[0m\u001b[1;33m(\u001b[0m\u001b[0mchannel_id\u001b[0m\u001b[1;33m,\u001b[0m\u001b[0mv\u001b[0m\u001b[1;33m)\u001b[0m\u001b[1;33m\u001b[0m\u001b[0m\n\u001b[0m\u001b[0;32m      6\u001b[0m         \u001b[0mtime\u001b[0m\u001b[1;33m.\u001b[0m\u001b[0msleep\u001b[0m\u001b[1;33m(\u001b[0m\u001b[1;36m10.\u001b[0m\u001b[1;33m)\u001b[0m\u001b[1;33m\u001b[0m\u001b[0m\n\u001b[0;32m      7\u001b[0m     \u001b[0mdac\u001b[0m\u001b[1;33m.\u001b[0m\u001b[0mset_voltage\u001b[0m\u001b[1;33m(\u001b[0m\u001b[0mchannel_id\u001b[0m\u001b[1;33m,\u001b[0m\u001b[1;36m0.\u001b[0m\u001b[1;33m)\u001b[0m\u001b[1;33m\u001b[0m\u001b[0m\n",
      "\u001b[1;31mNameError\u001b[0m: name 'dac' is not defined"
     ]
    }
   ],
   "source": [
    "voltages = np.linspace(-2.5, +2.5, 51)\n",
    "channel_ids = range(0,24)\n",
    "for channel_id in channel_ids:\n",
    "    for v in voltages:\n",
    "        dac.set_voltage(channel_id,v)\n",
    "        time.sleep(10.)\n",
    "    dac.set_voltage(channel_id,0.)"
   ]
  },
  {
   "cell_type": "code",
   "execution_count": 10,
   "metadata": {},
   "outputs": [
    {
     "ename": "NameError",
     "evalue": "name 'dac' is not defined",
     "output_type": "error",
     "traceback": [
      "\u001b[1;31m---------------------------------------------------------------------------\u001b[0m",
      "\u001b[1;31mNameError\u001b[0m                                 Traceback (most recent call last)",
      "\u001b[1;32m<ipython-input-10-8669f3cf5c0c>\u001b[0m in \u001b[0;36m<module>\u001b[1;34m()\u001b[0m\n\u001b[1;32m----> 1\u001b[1;33m \u001b[0mdac\u001b[0m\u001b[1;33m.\u001b[0m\u001b[0mclose\u001b[0m\u001b[1;33m(\u001b[0m\u001b[1;33m)\u001b[0m\u001b[1;33m\u001b[0m\u001b[0m\n\u001b[0m",
      "\u001b[1;31mNameError\u001b[0m: name 'dac' is not defined"
     ]
    }
   ],
   "source": [
    "dac.close()"
   ]
  },
  {
   "cell_type": "code",
   "execution_count": 12,
   "metadata": {
    "scrolled": true
   },
   "outputs": [
    {
     "ename": "VisaIOError",
     "evalue": "VI_ERROR_TMO (-1073807339): Timeout expired before operation completed.",
     "output_type": "error",
     "traceback": [
      "\u001b[1;31m---------------------------------------------------------------------------\u001b[0m",
      "\u001b[1;31mVisaIOError\u001b[0m                               Traceback (most recent call last)",
      "\u001b[1;32m<ipython-input-12-a819ffdf739e>\u001b[0m in \u001b[0;36m<module>\u001b[1;34m()\u001b[0m\n\u001b[0;32m      1\u001b[0m \u001b[0mchannel_ids\u001b[0m \u001b[1;33m=\u001b[0m \u001b[0mrange\u001b[0m\u001b[1;33m(\u001b[0m\u001b[1;36m0\u001b[0m\u001b[1;33m,\u001b[0m\u001b[1;36m24\u001b[0m\u001b[1;33m)\u001b[0m\u001b[1;33m\u001b[0m\u001b[0m\n\u001b[0;32m      2\u001b[0m \u001b[1;32mfor\u001b[0m \u001b[0mchannel_id\u001b[0m \u001b[1;32min\u001b[0m \u001b[0mchannel_ids\u001b[0m\u001b[1;33m:\u001b[0m\u001b[1;33m\u001b[0m\u001b[0m\n\u001b[1;32m----> 3\u001b[1;33m     \u001b[0mprint\u001b[0m \u001b[1;33m(\u001b[0m\u001b[0mdac\u001b[0m\u001b[1;33m.\u001b[0m\u001b[0mget_voltage\u001b[0m\u001b[1;33m(\u001b[0m\u001b[0mchannel_id\u001b[0m\u001b[1;33m)\u001b[0m\u001b[1;33m)\u001b[0m\u001b[1;33m\u001b[0m\u001b[0m\n\u001b[0m",
      "\u001b[1;32mD:\\qtlab_replacement\\instruments\\nndac.py\u001b[0m in \u001b[0;36mget_voltage\u001b[1;34m(self, channel_number)\u001b[0m\n\u001b[0;32m     15\u001b[0m                 \u001b[0mself\u001b[0m\u001b[1;33m.\u001b[0m\u001b[0m_visainstrument\u001b[0m\u001b[1;33m.\u001b[0m\u001b[0mask\u001b[0m\u001b[1;33m(\u001b[0m\u001b[1;34m'VOLT {:d},{:f}'\u001b[0m\u001b[1;33m.\u001b[0m\u001b[0mformat\u001b[0m\u001b[1;33m(\u001b[0m\u001b[0mchannel_number\u001b[0m\u001b[1;33m,\u001b[0m\u001b[0mvalue\u001b[0m\u001b[1;33m)\u001b[0m\u001b[1;33m)\u001b[0m\u001b[1;33m\u001b[0m\u001b[0m\n\u001b[0;32m     16\u001b[0m         \u001b[1;32mdef\u001b[0m \u001b[0mget_voltage\u001b[0m\u001b[1;33m(\u001b[0m\u001b[0mself\u001b[0m\u001b[1;33m,\u001b[0m\u001b[0mchannel_number\u001b[0m\u001b[1;33m)\u001b[0m\u001b[1;33m:\u001b[0m\u001b[1;33m\u001b[0m\u001b[0m\n\u001b[1;32m---> 17\u001b[1;33m                 \u001b[1;32mreturn\u001b[0m\u001b[1;33m(\u001b[0m\u001b[0mself\u001b[0m\u001b[1;33m.\u001b[0m\u001b[0m_visainstrument\u001b[0m\u001b[1;33m.\u001b[0m\u001b[0mask\u001b[0m\u001b[1;33m(\u001b[0m\u001b[1;34m'VOLT {:d}?'\u001b[0m\u001b[1;33m.\u001b[0m\u001b[0mformat\u001b[0m\u001b[1;33m(\u001b[0m\u001b[0mchannel_number\u001b[0m\u001b[1;33m)\u001b[0m\u001b[1;33m)\u001b[0m\u001b[1;33m)\u001b[0m\u001b[1;33m\u001b[0m\u001b[0m\n\u001b[0m\u001b[0;32m     18\u001b[0m \u001b[1;33m\u001b[0m\u001b[0m\n\u001b[0;32m     19\u001b[0m \u001b[1;33m\u001b[0m\u001b[0m\n",
      "\u001b[1;32mc:\\python36\\lib\\site-packages\\pyvisa\\resources\\messagebased.py\u001b[0m in \u001b[0;36mquery\u001b[1;34m(self, message, delay)\u001b[0m\n\u001b[0;32m    405\u001b[0m         \u001b[1;32mif\u001b[0m \u001b[0mdelay\u001b[0m \u001b[1;33m>\u001b[0m \u001b[1;36m0.0\u001b[0m\u001b[1;33m:\u001b[0m\u001b[1;33m\u001b[0m\u001b[0m\n\u001b[0;32m    406\u001b[0m             \u001b[0mtime\u001b[0m\u001b[1;33m.\u001b[0m\u001b[0msleep\u001b[0m\u001b[1;33m(\u001b[0m\u001b[0mdelay\u001b[0m\u001b[1;33m)\u001b[0m\u001b[1;33m\u001b[0m\u001b[0m\n\u001b[1;32m--> 407\u001b[1;33m         \u001b[1;32mreturn\u001b[0m \u001b[0mself\u001b[0m\u001b[1;33m.\u001b[0m\u001b[0mread\u001b[0m\u001b[1;33m(\u001b[0m\u001b[1;33m)\u001b[0m\u001b[1;33m\u001b[0m\u001b[0m\n\u001b[0m\u001b[0;32m    408\u001b[0m \u001b[1;33m\u001b[0m\u001b[0m\n\u001b[0;32m    409\u001b[0m     \u001b[1;31m# Kept for backwards compatibility.\u001b[0m\u001b[1;33m\u001b[0m\u001b[1;33m\u001b[0m\u001b[0m\n",
      "\u001b[1;32mc:\\python36\\lib\\site-packages\\pyvisa\\resources\\messagebased.py\u001b[0m in \u001b[0;36mread\u001b[1;34m(self, termination, encoding)\u001b[0m\n\u001b[0;32m    330\u001b[0m         \u001b[1;32mif\u001b[0m \u001b[0mtermination\u001b[0m \u001b[1;32mis\u001b[0m \u001b[1;32mNone\u001b[0m\u001b[1;33m:\u001b[0m\u001b[1;33m\u001b[0m\u001b[0m\n\u001b[0;32m    331\u001b[0m             \u001b[0mtermination\u001b[0m \u001b[1;33m=\u001b[0m \u001b[0mself\u001b[0m\u001b[1;33m.\u001b[0m\u001b[0m_read_termination\u001b[0m\u001b[1;33m\u001b[0m\u001b[0m\n\u001b[1;32m--> 332\u001b[1;33m             \u001b[0mmessage\u001b[0m \u001b[1;33m=\u001b[0m \u001b[0mself\u001b[0m\u001b[1;33m.\u001b[0m\u001b[0mread_raw\u001b[0m\u001b[1;33m(\u001b[0m\u001b[1;33m)\u001b[0m\u001b[1;33m.\u001b[0m\u001b[0mdecode\u001b[0m\u001b[1;33m(\u001b[0m\u001b[0menco\u001b[0m\u001b[1;33m)\u001b[0m\u001b[1;33m\u001b[0m\u001b[0m\n\u001b[0m\u001b[0;32m    333\u001b[0m         \u001b[1;32melse\u001b[0m\u001b[1;33m:\u001b[0m\u001b[1;33m\u001b[0m\u001b[0m\n\u001b[0;32m    334\u001b[0m             \u001b[1;32mwith\u001b[0m \u001b[0mself\u001b[0m\u001b[1;33m.\u001b[0m\u001b[0mread_termination_context\u001b[0m\u001b[1;33m(\u001b[0m\u001b[0mtermination\u001b[0m\u001b[1;33m)\u001b[0m\u001b[1;33m:\u001b[0m\u001b[1;33m\u001b[0m\u001b[0m\n",
      "\u001b[1;32mc:\\python36\\lib\\site-packages\\pyvisa\\resources\\messagebased.py\u001b[0m in \u001b[0;36mread_raw\u001b[1;34m(self, size)\u001b[0m\n\u001b[0;32m    304\u001b[0m                     logger.debug('%s - reading %d bytes (last status %r)',\n\u001b[0;32m    305\u001b[0m                                  self._resource_name, size, status)\n\u001b[1;32m--> 306\u001b[1;33m                     \u001b[0mchunk\u001b[0m\u001b[1;33m,\u001b[0m \u001b[0mstatus\u001b[0m \u001b[1;33m=\u001b[0m \u001b[0mself\u001b[0m\u001b[1;33m.\u001b[0m\u001b[0mvisalib\u001b[0m\u001b[1;33m.\u001b[0m\u001b[0mread\u001b[0m\u001b[1;33m(\u001b[0m\u001b[0mself\u001b[0m\u001b[1;33m.\u001b[0m\u001b[0msession\u001b[0m\u001b[1;33m,\u001b[0m \u001b[0msize\u001b[0m\u001b[1;33m)\u001b[0m\u001b[1;33m\u001b[0m\u001b[0m\n\u001b[0m\u001b[0;32m    307\u001b[0m                     \u001b[0mret\u001b[0m \u001b[1;33m+=\u001b[0m \u001b[0mchunk\u001b[0m\u001b[1;33m\u001b[0m\u001b[0m\n\u001b[0;32m    308\u001b[0m             \u001b[1;32mexcept\u001b[0m \u001b[0merrors\u001b[0m\u001b[1;33m.\u001b[0m\u001b[0mVisaIOError\u001b[0m \u001b[1;32mas\u001b[0m \u001b[0me\u001b[0m\u001b[1;33m:\u001b[0m\u001b[1;33m\u001b[0m\u001b[0m\n",
      "\u001b[1;32mc:\\python36\\lib\\site-packages\\pyvisa\\ctwrapper\\functions.py\u001b[0m in \u001b[0;36mread\u001b[1;34m(library, session, count)\u001b[0m\n\u001b[0;32m   1580\u001b[0m     \u001b[0mbuffer\u001b[0m \u001b[1;33m=\u001b[0m \u001b[0mcreate_string_buffer\u001b[0m\u001b[1;33m(\u001b[0m\u001b[0mcount\u001b[0m\u001b[1;33m)\u001b[0m\u001b[1;33m\u001b[0m\u001b[0m\n\u001b[0;32m   1581\u001b[0m     \u001b[0mreturn_count\u001b[0m \u001b[1;33m=\u001b[0m \u001b[0mViUInt32\u001b[0m\u001b[1;33m(\u001b[0m\u001b[1;33m)\u001b[0m\u001b[1;33m\u001b[0m\u001b[0m\n\u001b[1;32m-> 1582\u001b[1;33m     \u001b[0mret\u001b[0m \u001b[1;33m=\u001b[0m \u001b[0mlibrary\u001b[0m\u001b[1;33m.\u001b[0m\u001b[0mviRead\u001b[0m\u001b[1;33m(\u001b[0m\u001b[0msession\u001b[0m\u001b[1;33m,\u001b[0m \u001b[0mbuffer\u001b[0m\u001b[1;33m,\u001b[0m \u001b[0mcount\u001b[0m\u001b[1;33m,\u001b[0m \u001b[0mbyref\u001b[0m\u001b[1;33m(\u001b[0m\u001b[0mreturn_count\u001b[0m\u001b[1;33m)\u001b[0m\u001b[1;33m)\u001b[0m\u001b[1;33m\u001b[0m\u001b[0m\n\u001b[0m\u001b[0;32m   1583\u001b[0m     \u001b[1;32mreturn\u001b[0m \u001b[0mbuffer\u001b[0m\u001b[1;33m.\u001b[0m\u001b[0mraw\u001b[0m\u001b[1;33m[\u001b[0m\u001b[1;33m:\u001b[0m\u001b[0mreturn_count\u001b[0m\u001b[1;33m.\u001b[0m\u001b[0mvalue\u001b[0m\u001b[1;33m]\u001b[0m\u001b[1;33m,\u001b[0m \u001b[0mret\u001b[0m\u001b[1;33m\u001b[0m\u001b[0m\n\u001b[0;32m   1584\u001b[0m \u001b[1;33m\u001b[0m\u001b[0m\n",
      "\u001b[1;32mc:\\python36\\lib\\site-packages\\pyvisa\\ctwrapper\\highlevel.py\u001b[0m in \u001b[0;36m_return_handler\u001b[1;34m(self, ret_value, func, arguments)\u001b[0m\n\u001b[0;32m    186\u001b[0m \u001b[1;33m\u001b[0m\u001b[0m\n\u001b[0;32m    187\u001b[0m         \u001b[1;32mif\u001b[0m \u001b[0mret_value\u001b[0m \u001b[1;33m<\u001b[0m \u001b[1;36m0\u001b[0m\u001b[1;33m:\u001b[0m\u001b[1;33m\u001b[0m\u001b[0m\n\u001b[1;32m--> 188\u001b[1;33m             \u001b[1;32mraise\u001b[0m \u001b[0merrors\u001b[0m\u001b[1;33m.\u001b[0m\u001b[0mVisaIOError\u001b[0m\u001b[1;33m(\u001b[0m\u001b[0mret_value\u001b[0m\u001b[1;33m)\u001b[0m\u001b[1;33m\u001b[0m\u001b[0m\n\u001b[0m\u001b[0;32m    189\u001b[0m \u001b[1;33m\u001b[0m\u001b[0m\n\u001b[0;32m    190\u001b[0m         \u001b[1;32mif\u001b[0m \u001b[0mret_value\u001b[0m \u001b[1;32min\u001b[0m \u001b[0mself\u001b[0m\u001b[1;33m.\u001b[0m\u001b[0missue_warning_on\u001b[0m\u001b[1;33m:\u001b[0m\u001b[1;33m\u001b[0m\u001b[0m\n",
      "\u001b[1;31mVisaIOError\u001b[0m: VI_ERROR_TMO (-1073807339): Timeout expired before operation completed."
     ]
    }
   ],
   "source": [
    "channel_ids = range(0,24)\n",
    "for channel_id in channel_ids:\n",
    "    print (dac.get_voltage(channel_id))"
   ]
  },
  {
   "cell_type": "code",
   "execution_count": 8,
   "metadata": {
    "collapsed": true
   },
   "outputs": [],
   "source": [
    "#Включаем всё что надо и выключаем всё что не надо\n",
    "awg_ch_on = [0]\n",
    "awg_ch_off = [ch_id for ch_id in range(7) if ch_id not in awg_ch_on]\n",
    "\n",
    "for ch_id in awg_ch_off:\n",
    "    ch_settings = awg_sema0.get_channel_settings(ch_id)\n",
    "    ch_settings['on'] = False\n",
    "    awg_sema0.set_channel_settings(ch_id, ch_settings)\n",
    "\n",
    "for ch_id in awg_ch_on:\n",
    "    ch_settings = awg_sema0.get_channel_settings(ch_id)\n",
    "    ch_settings['on'] = True\n",
    "    ch_settings['slow'] = 0\n",
    "    ch_settings['mode'] = 'ram'\n",
    "    ch_settings['delay'] = 0\n",
    "    awg_sema0.set_channel_settings(ch_id, ch_settings)\n",
    "#хз что\n",
    "awg_sema0.ProgTimer(awg_sema0.intToBytes([0xfc, 0]))\n",
    "#1 триггер на один период сигнала\n",
    "awg_sema0.set_trigger_repeats(1)\n",
    "#Выход триггера\n",
    "awg_sema0.set_trigger_pulse(\"SYNC0\", awg_sema0.create_delayed_trigger_pulse(100.e-9) )\n",
    "awg_sema0.set_trigger_pulse(\"SYNC3\", awg_sema0.create_delayed_trigger_pulse(100.e-9) )\n",
    "\n",
    "awg_sema0.set_nop(128)"
   ]
  },
  {
   "cell_type": "code",
   "execution_count": 13,
   "metadata": {},
   "outputs": [
    {
     "data": {
      "text/plain": [
       "True"
      ]
     },
     "execution_count": 13,
     "metadata": {},
     "output_type": "execute_result"
    }
   ],
   "source": [
    "pna.set_power(-55)\n",
    "pna.set_bandwidth(1)"
   ]
  },
  {
   "cell_type": "code",
   "execution_count": 7,
   "metadata": {},
   "outputs": [
    {
     "name": "stdout",
     "output_type": "stream",
     "text": [
      "Power: -35.0 dBm\n",
      "BW: 1000.0 Hz\n",
      "Frequency limits [7000000000.0, 10000000000.0] Hz, number of points: 2001\n"
     ]
    },
    {
     "data": {
      "text/plain": [
       "[<matplotlib.lines.Line2D at 0xc34c5f8>]"
      ]
     },
     "execution_count": 7,
     "metadata": {},
     "output_type": "execute_result"
    }
   ],
   "source": [
    "print('Power: {0} dBm'.format(pna.get_power()))\n",
    "print('BW: {0} Hz'.format(pna.get_bandwidth()))\n",
    "print('Frequency limits [{0}, {1}] Hz, number of points: {2}'.format(pna.get_xlim()[0], pna.get_xlim()[1], pna.get_nop()))\n",
    "plt.plot(pna.get_freqpoints(), pna.get_tracedata()[0])"
   ]
  },
  {
   "cell_type": "code",
   "execution_count": null,
   "metadata": {
    "collapsed": true
   },
   "outputs": [],
   "source": [
    "voltages = np.linspace(-2.5, +2.5, 51)\n",
    "channel_ids = range(0,24)\n",
    "for channel_id in channel_ids:\n",
    "    set_channel_voltage = lambda x: dac.set_voltage(channel_id,x)\n",
    "    sweep.sweep(zd, (voltages,\n",
    "                      set_channel_voltage, \n",
    "                      'Channel {0} voltage'.format(channel_id)), \n",
    "                filename='Zeros NNDAC channel {0}'.format(channel_id), output=False)\n",
    "    dac.set_voltage(channel_id,0.)"
   ]
  },
  {
   "cell_type": "code",
   "execution_count": null,
   "metadata": {
    "collapsed": true
   },
   "outputs": [],
   "source": [
    "voltages = np.linspace(-2.5, +2.5, 51)\n",
    "channel_ids = range(0,24,3)\n",
    "for channel_id in channel_ids:\n",
    "    set_channel_voltage = lambda x: dac.set_voltage(channel_id,x)\n",
    "    sweep.sweep(pna, (voltages,\n",
    "                      set_channel_voltage, \n",
    "                      'Channel {0} voltage'.format(channel_id)), \n",
    "                filename='Hivemind NNDAC channel {0}'.format(channel_id))\n",
    "    dac.set_voltage(channel_id,0.)"
   ]
  },
  {
   "cell_type": "code",
   "execution_count": 5,
   "metadata": {},
   "outputs": [
    {
     "data": {
      "text/plain": [
       "('0.000', '0.000', '0.000')"
      ]
     },
     "execution_count": 5,
     "metadata": {},
     "output_type": "execute_result"
    }
   ],
   "source": [
    "for channel_id in range(24):\n",
    "    dac.set_voltage(channel_id, 0)\n",
    "dac.get_voltage(0), dac.get_voltage(1), dac.get_voltage(2)"
   ]
  },
  {
   "cell_type": "code",
   "execution_count": null,
   "metadata": {
    "scrolled": true
   },
   "outputs": [
    {
     "data": {
      "application/vnd.jupyter.widget-view+json": {
       "model_id": "ee4c9d4b49724bb38b3ea2b7f38dd4cf",
       "version_major": 2,
       "version_minor": 0
      },
      "text/plain": [
       "A Jupyter Widget"
      ]
     },
     "metadata": {},
     "output_type": "display_data"
    },
    {
     "name": "stdout",
     "output_type": "stream",
     "text": [
      "Started at:  May 10 2018 19:59:25\n"
     ]
    },
    {
     "ename": "KeyboardInterrupt",
     "evalue": "",
     "output_type": "error",
     "traceback": [
      "\u001b[1;31m---------------------------------------------------------------------------\u001b[0m",
      "\u001b[1;31mKeyboardInterrupt\u001b[0m                         Traceback (most recent call last)",
      "\u001b[1;32mD:\\qtlab_replacement\\scripts\\sweep.py\u001b[0m in \u001b[0;36msweep\u001b[1;34m(measurer, filename, root_dir, plot, header, output, save, time_war_label, cycle_save_mode, *params)\u001b[0m\n\u001b[0;32m    162\u001b[0m                         \u001b[1;31m#measuring\u001b[0m\u001b[1;33m\u001b[0m\u001b[1;33m\u001b[0m\u001b[0m\n\u001b[1;32m--> 163\u001b[1;33m                         \u001b[0mmpoint\u001b[0m \u001b[1;33m=\u001b[0m \u001b[0mmeasurer\u001b[0m\u001b[1;33m.\u001b[0m\u001b[0mmeasure\u001b[0m\u001b[1;33m(\u001b[0m\u001b[1;33m)\u001b[0m\u001b[1;33m\u001b[0m\u001b[0m\n\u001b[0m\u001b[0;32m    164\u001b[0m                         \u001b[1;31m#saving data to containers\u001b[0m\u001b[1;33m\u001b[0m\u001b[1;33m\u001b[0m\u001b[0m\n",
      "\u001b[1;32mD:\\qtlab_replacement\\instruments\\Agilent_N5242A.py\u001b[0m in \u001b[0;36mmeasure\u001b[1;34m(self)\u001b[0m\n\u001b[0;32m    522\u001b[0m         \u001b[1;32mdef\u001b[0m \u001b[0mmeasure\u001b[0m\u001b[1;33m(\u001b[0m\u001b[0mself\u001b[0m\u001b[1;33m)\u001b[0m\u001b[1;33m:\u001b[0m\u001b[1;33m\u001b[0m\u001b[0m\n\u001b[1;32m--> 523\u001b[1;33m                 \u001b[0mdata\u001b[0m \u001b[1;33m=\u001b[0m \u001b[0mself\u001b[0m\u001b[1;33m.\u001b[0m\u001b[0mget_tracedata\u001b[0m\u001b[1;33m(\u001b[0m\u001b[0mformat\u001b[0m\u001b[1;33m=\u001b[0m\u001b[1;34m'realimag'\u001b[0m\u001b[1;33m)\u001b[0m\u001b[1;33m\u001b[0m\u001b[0m\n\u001b[0m\u001b[0;32m    524\u001b[0m                 \u001b[1;32mreturn\u001b[0m \u001b[1;33m{\u001b[0m\u001b[1;34m'S-parameter'\u001b[0m\u001b[1;33m:\u001b[0m\u001b[1;33m(\u001b[0m\u001b[0mdata\u001b[0m\u001b[1;33m[\u001b[0m\u001b[1;36m0\u001b[0m\u001b[1;33m]\u001b[0m\u001b[1;33m+\u001b[0m\u001b[1;36m1j\u001b[0m\u001b[1;33m*\u001b[0m\u001b[0mdata\u001b[0m\u001b[1;33m[\u001b[0m\u001b[1;36m1\u001b[0m\u001b[1;33m]\u001b[0m\u001b[1;33m)\u001b[0m\u001b[1;33m}\u001b[0m\u001b[1;33m\u001b[0m\u001b[0m\n",
      "\u001b[1;32mD:\\qtlab_replacement\\instruments\\Agilent_N5242A.py\u001b[0m in \u001b[0;36mget_tracedata\u001b[1;34m(self, format)\u001b[0m\n\u001b[0;32m    311\u001b[0m                         \u001b[1;32mwhile\u001b[0m \u001b[0mint\u001b[0m\u001b[1;33m(\u001b[0m\u001b[0mself\u001b[0m\u001b[1;33m.\u001b[0m\u001b[0mask\u001b[0m\u001b[1;33m(\u001b[0m\u001b[1;34m\"*ESR?\"\u001b[0m\u001b[1;33m)\u001b[0m\u001b[1;33m)\u001b[0m\u001b[1;33m==\u001b[0m\u001b[1;36m0\u001b[0m\u001b[1;33m:\u001b[0m\u001b[1;33m\u001b[0m\u001b[0m\n\u001b[1;32m--> 312\u001b[1;33m                                 \u001b[0mplt\u001b[0m\u001b[1;33m.\u001b[0m\u001b[0mpause\u001b[0m\u001b[1;33m(\u001b[0m\u001b[1;36m0.05\u001b[0m\u001b[1;33m)\u001b[0m\u001b[1;33m\u001b[0m\u001b[0m\n\u001b[0m\u001b[0;32m    313\u001b[0m \u001b[1;33m\u001b[0m\u001b[0m\n",
      "\u001b[1;32mC:\\ProgramData\\Anaconda3\\lib\\site-packages\\matplotlib\\pyplot.py\u001b[0m in \u001b[0;36mpause\u001b[1;34m(interval)\u001b[0m\n\u001b[0;32m    296\u001b[0m         \u001b[0mshow\u001b[0m\u001b[1;33m(\u001b[0m\u001b[0mblock\u001b[0m\u001b[1;33m=\u001b[0m\u001b[1;32mFalse\u001b[0m\u001b[1;33m)\u001b[0m\u001b[1;33m\u001b[0m\u001b[0m\n\u001b[1;32m--> 297\u001b[1;33m         \u001b[0mcanvas\u001b[0m\u001b[1;33m.\u001b[0m\u001b[0mstart_event_loop\u001b[0m\u001b[1;33m(\u001b[0m\u001b[0minterval\u001b[0m\u001b[1;33m)\u001b[0m\u001b[1;33m\u001b[0m\u001b[0m\n\u001b[0m\u001b[0;32m    298\u001b[0m     \u001b[1;32melse\u001b[0m\u001b[1;33m:\u001b[0m\u001b[1;33m\u001b[0m\u001b[0m\n",
      "\u001b[1;32mC:\\ProgramData\\Anaconda3\\lib\\site-packages\\matplotlib\\backends\\backend_qt5.py\u001b[0m in \u001b[0;36mstart_event_loop\u001b[1;34m(self, timeout)\u001b[0m\n\u001b[0;32m    439\u001b[0m             \u001b[0mtimer\u001b[0m \u001b[1;33m=\u001b[0m \u001b[0mQtCore\u001b[0m\u001b[1;33m.\u001b[0m\u001b[0mQTimer\u001b[0m\u001b[1;33m.\u001b[0m\u001b[0msingleShot\u001b[0m\u001b[1;33m(\u001b[0m\u001b[0mtimeout\u001b[0m \u001b[1;33m*\u001b[0m \u001b[1;36m1000\u001b[0m\u001b[1;33m,\u001b[0m \u001b[0mevent_loop\u001b[0m\u001b[1;33m.\u001b[0m\u001b[0mquit\u001b[0m\u001b[1;33m)\u001b[0m\u001b[1;33m\u001b[0m\u001b[0m\n\u001b[1;32m--> 440\u001b[1;33m         \u001b[0mevent_loop\u001b[0m\u001b[1;33m.\u001b[0m\u001b[0mexec_\u001b[0m\u001b[1;33m(\u001b[0m\u001b[1;33m)\u001b[0m\u001b[1;33m\u001b[0m\u001b[0m\n\u001b[0m\u001b[0;32m    441\u001b[0m \u001b[1;33m\u001b[0m\u001b[0m\n",
      "\u001b[1;31mKeyboardInterrupt\u001b[0m: ",
      "\nDuring handling of the above exception, another exception occurred:\n",
      "\u001b[1;31mKeyboardInterrupt\u001b[0m                         Traceback (most recent call last)",
      "\u001b[1;32m<ipython-input-5-f64ab027e8d0>\u001b[0m in \u001b[0;36m<module>\u001b[1;34m()\u001b[0m\n\u001b[0;32m      3\u001b[0m \u001b[0mcurrent_src1\u001b[0m\u001b[1;33m.\u001b[0m\u001b[0mset_status\u001b[0m\u001b[1;33m(\u001b[0m\u001b[1;36m1\u001b[0m\u001b[1;33m)\u001b[0m\u001b[1;33m\u001b[0m\u001b[0m\n\u001b[0;32m      4\u001b[0m \u001b[1;31m#sweep.sweep(pna, (currents, dac.set_voltage, 'Coil current'), filename='Hivemind coil 1')\u001b[0m\u001b[1;33m\u001b[0m\u001b[1;33m\u001b[0m\u001b[0m\n\u001b[1;32m----> 5\u001b[1;33m \u001b[0msweep\u001b[0m\u001b[1;33m.\u001b[0m\u001b[0msweep\u001b[0m\u001b[1;33m(\u001b[0m\u001b[0mpna\u001b[0m\u001b[1;33m,\u001b[0m \u001b[1;33m(\u001b[0m\u001b[0mcurrents\u001b[0m\u001b[1;33m,\u001b[0m \u001b[0mcurrent_src1\u001b[0m\u001b[1;33m.\u001b[0m\u001b[0mset_current\u001b[0m\u001b[1;33m,\u001b[0m \u001b[1;34m'Coil current'\u001b[0m\u001b[1;33m)\u001b[0m\u001b[1;33m,\u001b[0m \u001b[0mfilename\u001b[0m\u001b[1;33m=\u001b[0m\u001b[1;34m'Hivemind coil res-z'\u001b[0m\u001b[1;33m)\u001b[0m\u001b[1;33m\u001b[0m\u001b[0m\n\u001b[0m",
      "\u001b[1;32mD:\\qtlab_replacement\\scripts\\sweep.py\u001b[0m in \u001b[0;36msweep\u001b[1;34m(measurer, filename, root_dir, plot, header, output, save, time_war_label, cycle_save_mode, *params)\u001b[0m\n\u001b[0;32m    213\u001b[0m                         \u001b[1;31m#save_pkl.save_pkl(header, data_pkl, location = data_dir)\u001b[0m\u001b[1;33m\u001b[0m\u001b[1;33m\u001b[0m\u001b[0m\n\u001b[0;32m    214\u001b[0m                         \u001b[1;32mif\u001b[0m \u001b[1;33m(\u001b[0m\u001b[0msave\u001b[0m\u001b[1;33m)\u001b[0m\u001b[1;33m:\u001b[0m\u001b[1;33m\u001b[0m\u001b[0m\n\u001b[1;32m--> 215\u001b[1;33m                                 \u001b[0msave_pkl\u001b[0m\u001b[1;33m.\u001b[0m\u001b[0msave_pkl\u001b[0m\u001b[1;33m(\u001b[0m\u001b[0mheader\u001b[0m\u001b[1;33m,\u001b[0m \u001b[0mmk_measurement\u001b[0m\u001b[1;33m(\u001b[0m\u001b[1;36m0\u001b[0m\u001b[1;33m)\u001b[0m\u001b[1;33m,\u001b[0m \u001b[0mlocation\u001b[0m \u001b[1;33m=\u001b[0m \u001b[0mdata_dir\u001b[0m\u001b[1;33m)\u001b[0m\u001b[1;33m\u001b[0m\u001b[0m\n\u001b[0m\u001b[0;32m    216\u001b[0m \u001b[1;33m\u001b[0m\u001b[0m\n\u001b[0;32m    217\u001b[0m                         \u001b[1;32mif\u001b[0m \u001b[0mascii_files\u001b[0m\u001b[1;33m[\u001b[0m\u001b[0mmname\u001b[0m\u001b[1;33m]\u001b[0m\u001b[1;33m:\u001b[0m\u001b[1;33m\u001b[0m\u001b[0m\n",
      "\u001b[1;32mD:\\qtlab_replacement\\scripts\\save_pkl.py\u001b[0m in \u001b[0;36msave_pkl\u001b[1;34m(header, data, plot, curve_fit, annotation, location, time, filename, matlab, gzip)\u001b[0m\n\u001b[0;32m     66\u001b[0m         \u001b[0mf\u001b[0m\u001b[1;33m.\u001b[0m\u001b[0mclose\u001b[0m\u001b[1;33m(\u001b[0m\u001b[1;33m)\u001b[0m\u001b[1;33m\u001b[0m\u001b[0m\n\u001b[0;32m     67\u001b[0m         \u001b[1;32mif\u001b[0m \u001b[0mplot\u001b[0m\u001b[1;33m:\u001b[0m\u001b[1;33m\u001b[0m\u001b[0m\n\u001b[1;32m---> 68\u001b[1;33m                 \u001b[0mplotting\u001b[0m\u001b[1;33m.\u001b[0m\u001b[0mplot_measurement\u001b[0m\u001b[1;33m(\u001b[0m\u001b[0mdata\u001b[0m\u001b[1;33m,\u001b[0m \u001b[0mfilename\u001b[0m\u001b[1;33m,\u001b[0m \u001b[0msave\u001b[0m\u001b[1;33m=\u001b[0m\u001b[0mlocation\u001b[0m\u001b[1;33m,\u001b[0m \u001b[0mannotation\u001b[0m\u001b[1;33m=\u001b[0m\u001b[0mannotation\u001b[0m\u001b[1;33m)\u001b[0m\u001b[1;33m\u001b[0m\u001b[0m\n\u001b[0m\u001b[0;32m     69\u001b[0m \u001b[1;33m\u001b[0m\u001b[0m\n\u001b[0;32m     70\u001b[0m         \u001b[1;32mif\u001b[0m \u001b[0mmatlab\u001b[0m\u001b[1;33m:\u001b[0m\u001b[1;33m\u001b[0m\u001b[0m\n",
      "\u001b[1;32mD:\\qtlab_replacement\\scripts\\plotting.py\u001b[0m in \u001b[0;36mplot_measurement\u001b[1;34m(measurement, name, save, annotation)\u001b[0m\n\u001b[0;32m    116\u001b[0m                                                                 \u001b[0mplot\u001b[0m\u001b[1;33m[\u001b[0m\u001b[1;34m'filter'\u001b[0m\u001b[1;33m]\u001b[0m\u001b[1;33m(\u001b[0m\u001b[0mmeasurement\u001b[0m\u001b[1;33m[\u001b[0m\u001b[0mplot\u001b[0m\u001b[1;33m[\u001b[0m\u001b[1;34m'mname'\u001b[0m\u001b[1;33m]\u001b[0m\u001b[1;33m]\u001b[0m\u001b[1;33m[\u001b[0m\u001b[1;36m2\u001b[0m\u001b[1;33m]\u001b[0m\u001b[1;33m)\u001b[0m\u001b[1;33m,\u001b[0m\u001b[1;33m\u001b[0m\u001b[0m\n\u001b[0;32m    117\u001b[0m \t\t\t\t\t\t\t\t*measurement[plot['mname']][3:])\n\u001b[1;32m--> 118\u001b[1;33m                 \u001b[0mplots\u001b[0m \u001b[1;33m=\u001b[0m \u001b[0mplot_measurement_sa\u001b[0m\u001b[1;33m(\u001b[0m\u001b[0mmeas\u001b[0m\u001b[1;33m,\u001b[0m \u001b[0max\u001b[0m\u001b[1;33m[\u001b[0m\u001b[1;34m'axes'\u001b[0m\u001b[1;33m]\u001b[0m\u001b[1;33m)\u001b[0m\u001b[1;33m\u001b[0m\u001b[0m\n\u001b[0m\u001b[0;32m    119\u001b[0m                 \u001b[1;32mfor\u001b[0m \u001b[0mplot\u001b[0m \u001b[1;32min\u001b[0m \u001b[0mplots\u001b[0m\u001b[1;33m.\u001b[0m\u001b[0mkeys\u001b[0m\u001b[1;33m(\u001b[0m\u001b[1;33m)\u001b[0m\u001b[1;33m:\u001b[0m\u001b[1;33m\u001b[0m\u001b[0m\n\u001b[0;32m    120\u001b[0m                         \u001b[0max\u001b[0m\u001b[1;33m[\u001b[0m\u001b[1;34m'plots'\u001b[0m\u001b[1;33m]\u001b[0m\u001b[1;33m[\u001b[0m\u001b[0mplot\u001b[0m\u001b[1;33m]\u001b[0m\u001b[1;33m[\u001b[0m\u001b[1;34m'plot'\u001b[0m\u001b[1;33m]\u001b[0m \u001b[1;33m=\u001b[0m \u001b[0mplots\u001b[0m\u001b[1;33m[\u001b[0m\u001b[0mplot\u001b[0m\u001b[1;33m]\u001b[0m\u001b[1;33m\u001b[0m\u001b[0m\n",
      "\u001b[1;32mD:\\qtlab_replacement\\scripts\\plotting.py\u001b[0m in \u001b[0;36mplot_measurement_sa\u001b[1;34m(measurement, axes)\u001b[0m\n\u001b[0;32m    197\u001b[0m                                         \u001b[0mplot\u001b[0m\u001b[1;33m.\u001b[0m\u001b[0mT\u001b[0m \u001b[1;33m=\u001b[0m \u001b[1;32mTrue\u001b[0m\u001b[1;33m\u001b[0m\u001b[0m\n\u001b[0;32m    198\u001b[0m                         \u001b[1;32mif\u001b[0m \u001b[0mdata_dim\u001b[0m \u001b[1;33m==\u001b[0m \u001b[1;36m2\u001b[0m\u001b[1;33m:\u001b[0m\u001b[1;33m\u001b[0m\u001b[0m\n\u001b[1;32m--> 199\u001b[1;33m                                 \u001b[0mplt\u001b[0m\u001b[1;33m.\u001b[0m\u001b[0mclf\u001b[0m\u001b[1;33m(\u001b[0m\u001b[1;33m)\u001b[0m\u001b[1;33m\u001b[0m\u001b[0m\n\u001b[0m\u001b[0;32m    200\u001b[0m                                 \u001b[1;32mif\u001b[0m \u001b[0maxes_indeces\u001b[0m\u001b[1;33m[\u001b[0m\u001b[1;36m0\u001b[0m\u001b[1;33m]\u001b[0m \u001b[1;33m==\u001b[0m \u001b[1;36m0\u001b[0m\u001b[1;33m:\u001b[0m\u001b[1;33m\u001b[0m\u001b[0m\n\u001b[0;32m    201\u001b[0m                                         \u001b[0mxformatter\u001b[0m \u001b[1;33m=\u001b[0m \u001b[0mEngFormatter\u001b[0m\u001b[1;33m(\u001b[0m\u001b[0munit\u001b[0m\u001b[1;33m=\u001b[0m\u001b[0mpunits\u001b[0m\u001b[1;33m[\u001b[0m\u001b[1;36m0\u001b[0m\u001b[1;33m]\u001b[0m\u001b[1;33m)\u001b[0m\u001b[1;33m\u001b[0m\u001b[0m\n",
      "\u001b[1;32mC:\\ProgramData\\Anaconda3\\lib\\site-packages\\matplotlib\\pyplot.py\u001b[0m in \u001b[0;36mclf\u001b[1;34m()\u001b[0m\n\u001b[0;32m    675\u001b[0m     \u001b[0mClear\u001b[0m \u001b[0mthe\u001b[0m \u001b[0mcurrent\u001b[0m \u001b[0mfigure\u001b[0m\u001b[1;33m.\u001b[0m\u001b[1;33m\u001b[0m\u001b[0m\n\u001b[0;32m    676\u001b[0m     \"\"\"\n\u001b[1;32m--> 677\u001b[1;33m     \u001b[0mgcf\u001b[0m\u001b[1;33m(\u001b[0m\u001b[1;33m)\u001b[0m\u001b[1;33m.\u001b[0m\u001b[0mclf\u001b[0m\u001b[1;33m(\u001b[0m\u001b[1;33m)\u001b[0m\u001b[1;33m\u001b[0m\u001b[0m\n\u001b[0m\u001b[0;32m    678\u001b[0m \u001b[1;33m\u001b[0m\u001b[0m\n\u001b[0;32m    679\u001b[0m \u001b[1;33m\u001b[0m\u001b[0m\n",
      "\u001b[1;32mC:\\ProgramData\\Anaconda3\\lib\\site-packages\\matplotlib\\figure.py\u001b[0m in \u001b[0;36mclf\u001b[1;34m(self, keep_observers)\u001b[0m\n\u001b[0;32m   1242\u001b[0m \u001b[1;33m\u001b[0m\u001b[0m\n\u001b[0;32m   1243\u001b[0m         \u001b[1;32mfor\u001b[0m \u001b[0max\u001b[0m \u001b[1;32min\u001b[0m \u001b[0mtuple\u001b[0m\u001b[1;33m(\u001b[0m\u001b[0mself\u001b[0m\u001b[1;33m.\u001b[0m\u001b[0maxes\u001b[0m\u001b[1;33m)\u001b[0m\u001b[1;33m:\u001b[0m  \u001b[1;31m# Iterate over the copy.\u001b[0m\u001b[1;33m\u001b[0m\u001b[0m\n\u001b[1;32m-> 1244\u001b[1;33m             \u001b[0max\u001b[0m\u001b[1;33m.\u001b[0m\u001b[0mcla\u001b[0m\u001b[1;33m(\u001b[0m\u001b[1;33m)\u001b[0m\u001b[1;33m\u001b[0m\u001b[0m\n\u001b[0m\u001b[0;32m   1245\u001b[0m             \u001b[0mself\u001b[0m\u001b[1;33m.\u001b[0m\u001b[0mdelaxes\u001b[0m\u001b[1;33m(\u001b[0m\u001b[0max\u001b[0m\u001b[1;33m)\u001b[0m         \u001b[1;31m# removes ax from self._axstack\u001b[0m\u001b[1;33m\u001b[0m\u001b[0m\n\u001b[0;32m   1246\u001b[0m \u001b[1;33m\u001b[0m\u001b[0m\n",
      "\u001b[1;32mC:\\ProgramData\\Anaconda3\\lib\\site-packages\\matplotlib\\axes\\_base.py\u001b[0m in \u001b[0;36mcla\u001b[1;34m(self)\u001b[0m\n\u001b[0;32m    980\u001b[0m         \u001b[0mself\u001b[0m\u001b[1;33m.\u001b[0m\u001b[0myaxis\u001b[0m\u001b[1;33m.\u001b[0m\u001b[0mcla\u001b[0m\u001b[1;33m(\u001b[0m\u001b[1;33m)\u001b[0m\u001b[1;33m\u001b[0m\u001b[0m\n\u001b[0;32m    981\u001b[0m         \u001b[1;32mfor\u001b[0m \u001b[0mname\u001b[0m\u001b[1;33m,\u001b[0m \u001b[0mspine\u001b[0m \u001b[1;32min\u001b[0m \u001b[0msix\u001b[0m\u001b[1;33m.\u001b[0m\u001b[0miteritems\u001b[0m\u001b[1;33m(\u001b[0m\u001b[0mself\u001b[0m\u001b[1;33m.\u001b[0m\u001b[0mspines\u001b[0m\u001b[1;33m)\u001b[0m\u001b[1;33m:\u001b[0m\u001b[1;33m\u001b[0m\u001b[0m\n\u001b[1;32m--> 982\u001b[1;33m             \u001b[0mspine\u001b[0m\u001b[1;33m.\u001b[0m\u001b[0mcla\u001b[0m\u001b[1;33m(\u001b[0m\u001b[1;33m)\u001b[0m\u001b[1;33m\u001b[0m\u001b[0m\n\u001b[0m\u001b[0;32m    983\u001b[0m \u001b[1;33m\u001b[0m\u001b[0m\n\u001b[0;32m    984\u001b[0m         \u001b[0mself\u001b[0m\u001b[1;33m.\u001b[0m\u001b[0mignore_existing_data_limits\u001b[0m \u001b[1;33m=\u001b[0m \u001b[1;32mTrue\u001b[0m\u001b[1;33m\u001b[0m\u001b[0m\n",
      "\u001b[1;32mC:\\ProgramData\\Anaconda3\\lib\\site-packages\\matplotlib\\spines.py\u001b[0m in \u001b[0;36mcla\u001b[1;34m(self)\u001b[0m\n\u001b[0;32m    181\u001b[0m         \u001b[0mself\u001b[0m\u001b[1;33m.\u001b[0m\u001b[0m_position\u001b[0m \u001b[1;33m=\u001b[0m \u001b[1;32mNone\u001b[0m  \u001b[1;31m# clear position\u001b[0m\u001b[1;33m\u001b[0m\u001b[0m\n\u001b[0;32m    182\u001b[0m         \u001b[1;32mif\u001b[0m \u001b[0mself\u001b[0m\u001b[1;33m.\u001b[0m\u001b[0maxis\u001b[0m \u001b[1;32mis\u001b[0m \u001b[1;32mnot\u001b[0m \u001b[1;32mNone\u001b[0m\u001b[1;33m:\u001b[0m\u001b[1;33m\u001b[0m\u001b[0m\n\u001b[1;32m--> 183\u001b[1;33m             \u001b[0mself\u001b[0m\u001b[1;33m.\u001b[0m\u001b[0maxis\u001b[0m\u001b[1;33m.\u001b[0m\u001b[0mcla\u001b[0m\u001b[1;33m(\u001b[0m\u001b[1;33m)\u001b[0m\u001b[1;33m\u001b[0m\u001b[0m\n\u001b[0m\u001b[0;32m    184\u001b[0m \u001b[1;33m\u001b[0m\u001b[0m\n\u001b[0;32m    185\u001b[0m     \u001b[1;32mdef\u001b[0m \u001b[0mis_frame_like\u001b[0m\u001b[1;33m(\u001b[0m\u001b[0mself\u001b[0m\u001b[1;33m)\u001b[0m\u001b[1;33m:\u001b[0m\u001b[1;33m\u001b[0m\u001b[0m\n",
      "\u001b[1;32mC:\\ProgramData\\Anaconda3\\lib\\site-packages\\matplotlib\\axis.py\u001b[0m in \u001b[0;36mcla\u001b[1;34m(self)\u001b[0m\n\u001b[0;32m    771\u001b[0m         \u001b[0mself\u001b[0m\u001b[1;33m.\u001b[0m\u001b[0m_set_artist_props\u001b[0m\u001b[1;33m(\u001b[0m\u001b[0mself\u001b[0m\u001b[1;33m.\u001b[0m\u001b[0mlabel\u001b[0m\u001b[1;33m)\u001b[0m\u001b[1;33m\u001b[0m\u001b[0m\n\u001b[0;32m    772\u001b[0m \u001b[1;33m\u001b[0m\u001b[0m\n\u001b[1;32m--> 773\u001b[1;33m         \u001b[0mself\u001b[0m\u001b[1;33m.\u001b[0m\u001b[0mreset_ticks\u001b[0m\u001b[1;33m(\u001b[0m\u001b[1;33m)\u001b[0m\u001b[1;33m\u001b[0m\u001b[0m\n\u001b[0m\u001b[0;32m    774\u001b[0m \u001b[1;33m\u001b[0m\u001b[0m\n\u001b[0;32m    775\u001b[0m         \u001b[0mself\u001b[0m\u001b[1;33m.\u001b[0m\u001b[0mconverter\u001b[0m \u001b[1;33m=\u001b[0m \u001b[1;32mNone\u001b[0m\u001b[1;33m\u001b[0m\u001b[0m\n",
      "\u001b[1;32mC:\\ProgramData\\Anaconda3\\lib\\site-packages\\matplotlib\\axis.py\u001b[0m in \u001b[0;36mreset_ticks\u001b[1;34m(self)\u001b[0m\n\u001b[0;32m    785\u001b[0m         \u001b[1;32mdel\u001b[0m \u001b[0mself\u001b[0m\u001b[1;33m.\u001b[0m\u001b[0mminorTicks\u001b[0m\u001b[1;33m[\u001b[0m\u001b[1;33m:\u001b[0m\u001b[1;33m]\u001b[0m\u001b[1;33m\u001b[0m\u001b[0m\n\u001b[0;32m    786\u001b[0m \u001b[1;33m\u001b[0m\u001b[0m\n\u001b[1;32m--> 787\u001b[1;33m         \u001b[0mself\u001b[0m\u001b[1;33m.\u001b[0m\u001b[0mmajorTicks\u001b[0m\u001b[1;33m.\u001b[0m\u001b[0mextend\u001b[0m\u001b[1;33m(\u001b[0m\u001b[1;33m[\u001b[0m\u001b[0mself\u001b[0m\u001b[1;33m.\u001b[0m\u001b[0m_get_tick\u001b[0m\u001b[1;33m(\u001b[0m\u001b[0mmajor\u001b[0m\u001b[1;33m=\u001b[0m\u001b[1;32mTrue\u001b[0m\u001b[1;33m)\u001b[0m\u001b[1;33m]\u001b[0m\u001b[1;33m)\u001b[0m\u001b[1;33m\u001b[0m\u001b[0m\n\u001b[0m\u001b[0;32m    788\u001b[0m         \u001b[0mself\u001b[0m\u001b[1;33m.\u001b[0m\u001b[0mminorTicks\u001b[0m\u001b[1;33m.\u001b[0m\u001b[0mextend\u001b[0m\u001b[1;33m(\u001b[0m\u001b[1;33m[\u001b[0m\u001b[0mself\u001b[0m\u001b[1;33m.\u001b[0m\u001b[0m_get_tick\u001b[0m\u001b[1;33m(\u001b[0m\u001b[0mmajor\u001b[0m\u001b[1;33m=\u001b[0m\u001b[1;32mFalse\u001b[0m\u001b[1;33m)\u001b[0m\u001b[1;33m]\u001b[0m\u001b[1;33m)\u001b[0m\u001b[1;33m\u001b[0m\u001b[0m\n\u001b[0;32m    789\u001b[0m         \u001b[0mself\u001b[0m\u001b[1;33m.\u001b[0m\u001b[0m_lastNumMajorTicks\u001b[0m \u001b[1;33m=\u001b[0m \u001b[1;36m1\u001b[0m\u001b[1;33m\u001b[0m\u001b[0m\n",
      "\u001b[1;32mC:\\ProgramData\\Anaconda3\\lib\\site-packages\\matplotlib\\axis.py\u001b[0m in \u001b[0;36m_get_tick\u001b[1;34m(self, major)\u001b[0m\n\u001b[0;32m   2095\u001b[0m         \u001b[1;32melse\u001b[0m\u001b[1;33m:\u001b[0m\u001b[1;33m\u001b[0m\u001b[0m\n\u001b[0;32m   2096\u001b[0m             \u001b[0mtick_kw\u001b[0m \u001b[1;33m=\u001b[0m \u001b[0mself\u001b[0m\u001b[1;33m.\u001b[0m\u001b[0m_minor_tick_kw\u001b[0m\u001b[1;33m\u001b[0m\u001b[0m\n\u001b[1;32m-> 2097\u001b[1;33m         \u001b[1;32mreturn\u001b[0m \u001b[0mYTick\u001b[0m\u001b[1;33m(\u001b[0m\u001b[0mself\u001b[0m\u001b[1;33m.\u001b[0m\u001b[0maxes\u001b[0m\u001b[1;33m,\u001b[0m \u001b[1;36m0\u001b[0m\u001b[1;33m,\u001b[0m \u001b[1;34m''\u001b[0m\u001b[1;33m,\u001b[0m \u001b[0mmajor\u001b[0m\u001b[1;33m=\u001b[0m\u001b[0mmajor\u001b[0m\u001b[1;33m,\u001b[0m \u001b[1;33m**\u001b[0m\u001b[0mtick_kw\u001b[0m\u001b[1;33m)\u001b[0m\u001b[1;33m\u001b[0m\u001b[0m\n\u001b[0m\u001b[0;32m   2098\u001b[0m \u001b[1;33m\u001b[0m\u001b[0m\n\u001b[0;32m   2099\u001b[0m     \u001b[1;32mdef\u001b[0m \u001b[0m_get_label\u001b[0m\u001b[1;33m(\u001b[0m\u001b[0mself\u001b[0m\u001b[1;33m)\u001b[0m\u001b[1;33m:\u001b[0m\u001b[1;33m\u001b[0m\u001b[0m\n",
      "\u001b[1;32mC:\\ProgramData\\Anaconda3\\lib\\site-packages\\matplotlib\\axis.py\u001b[0m in \u001b[0;36m__init__\u001b[1;34m(self, axes, loc, label, size, width, color, tickdir, pad, labelsize, labelcolor, zorder, gridOn, tick1On, tick2On, label1On, label2On, major, labelrotation)\u001b[0m\n\u001b[0;32m    152\u001b[0m         \u001b[0mself\u001b[0m\u001b[1;33m.\u001b[0m\u001b[0mapply_tickdir\u001b[0m\u001b[1;33m(\u001b[0m\u001b[0mtickdir\u001b[0m\u001b[1;33m)\u001b[0m\u001b[1;33m\u001b[0m\u001b[0m\n\u001b[0;32m    153\u001b[0m \u001b[1;33m\u001b[0m\u001b[0m\n\u001b[1;32m--> 154\u001b[1;33m         \u001b[0mself\u001b[0m\u001b[1;33m.\u001b[0m\u001b[0mtick1line\u001b[0m \u001b[1;33m=\u001b[0m \u001b[0mself\u001b[0m\u001b[1;33m.\u001b[0m\u001b[0m_get_tick1line\u001b[0m\u001b[1;33m(\u001b[0m\u001b[1;33m)\u001b[0m\u001b[1;33m\u001b[0m\u001b[0m\n\u001b[0m\u001b[0;32m    155\u001b[0m         \u001b[0mself\u001b[0m\u001b[1;33m.\u001b[0m\u001b[0mtick2line\u001b[0m \u001b[1;33m=\u001b[0m \u001b[0mself\u001b[0m\u001b[1;33m.\u001b[0m\u001b[0m_get_tick2line\u001b[0m\u001b[1;33m(\u001b[0m\u001b[1;33m)\u001b[0m\u001b[1;33m\u001b[0m\u001b[0m\n\u001b[0;32m    156\u001b[0m         \u001b[0mself\u001b[0m\u001b[1;33m.\u001b[0m\u001b[0mgridline\u001b[0m \u001b[1;33m=\u001b[0m \u001b[0mself\u001b[0m\u001b[1;33m.\u001b[0m\u001b[0m_get_gridline\u001b[0m\u001b[1;33m(\u001b[0m\u001b[1;33m)\u001b[0m\u001b[1;33m\u001b[0m\u001b[0m\n",
      "\u001b[1;32mC:\\ProgramData\\Anaconda3\\lib\\site-packages\\matplotlib\\axis.py\u001b[0m in \u001b[0;36m_get_tick1line\u001b[1;34m(self)\u001b[0m\n\u001b[0;32m    566\u001b[0m                           \u001b[0mmarkersize\u001b[0m\u001b[1;33m=\u001b[0m\u001b[0mself\u001b[0m\u001b[1;33m.\u001b[0m\u001b[0m_size\u001b[0m\u001b[1;33m,\u001b[0m\u001b[1;33m\u001b[0m\u001b[0m\n\u001b[0;32m    567\u001b[0m                           \u001b[0mmarkeredgewidth\u001b[0m\u001b[1;33m=\u001b[0m\u001b[0mself\u001b[0m\u001b[1;33m.\u001b[0m\u001b[0m_width\u001b[0m\u001b[1;33m,\u001b[0m\u001b[1;33m\u001b[0m\u001b[0m\n\u001b[1;32m--> 568\u001b[1;33m                           zorder=self._zorder)\n\u001b[0m\u001b[0;32m    569\u001b[0m         \u001b[0ml\u001b[0m\u001b[1;33m.\u001b[0m\u001b[0mset_transform\u001b[0m\u001b[1;33m(\u001b[0m\u001b[0mself\u001b[0m\u001b[1;33m.\u001b[0m\u001b[0maxes\u001b[0m\u001b[1;33m.\u001b[0m\u001b[0mget_yaxis_transform\u001b[0m\u001b[1;33m(\u001b[0m\u001b[0mwhich\u001b[0m\u001b[1;33m=\u001b[0m\u001b[1;34m'tick1'\u001b[0m\u001b[1;33m)\u001b[0m\u001b[1;33m)\u001b[0m\u001b[1;33m\u001b[0m\u001b[0m\n\u001b[0;32m    570\u001b[0m         \u001b[0mself\u001b[0m\u001b[1;33m.\u001b[0m\u001b[0m_set_artist_props\u001b[0m\u001b[1;33m(\u001b[0m\u001b[0ml\u001b[0m\u001b[1;33m)\u001b[0m\u001b[1;33m\u001b[0m\u001b[0m\n",
      "\u001b[1;32mC:\\ProgramData\\Anaconda3\\lib\\site-packages\\matplotlib\\lines.py\u001b[0m in \u001b[0;36m__init__\u001b[1;34m(self, xdata, ydata, linewidth, linestyle, color, marker, markersize, markeredgewidth, markeredgecolor, markerfacecolor, markerfacecoloralt, fillstyle, antialiased, dash_capstyle, solid_capstyle, dash_joinstyle, solid_joinstyle, pickradius, drawstyle, markevery, **kwargs)\u001b[0m\n\u001b[0;32m    400\u001b[0m         \u001b[0mself\u001b[0m\u001b[1;33m.\u001b[0m\u001b[0m_color\u001b[0m \u001b[1;33m=\u001b[0m \u001b[1;32mNone\u001b[0m\u001b[1;33m\u001b[0m\u001b[0m\n\u001b[0;32m    401\u001b[0m         \u001b[0mself\u001b[0m\u001b[1;33m.\u001b[0m\u001b[0mset_color\u001b[0m\u001b[1;33m(\u001b[0m\u001b[0mcolor\u001b[0m\u001b[1;33m)\u001b[0m\u001b[1;33m\u001b[0m\u001b[0m\n\u001b[1;32m--> 402\u001b[1;33m         \u001b[0mself\u001b[0m\u001b[1;33m.\u001b[0m\u001b[0m_marker\u001b[0m \u001b[1;33m=\u001b[0m \u001b[0mMarkerStyle\u001b[0m\u001b[1;33m(\u001b[0m\u001b[0mmarker\u001b[0m\u001b[1;33m,\u001b[0m \u001b[0mfillstyle\u001b[0m\u001b[1;33m)\u001b[0m\u001b[1;33m\u001b[0m\u001b[0m\n\u001b[0m\u001b[0;32m    403\u001b[0m \u001b[1;33m\u001b[0m\u001b[0m\n\u001b[0;32m    404\u001b[0m         \u001b[0mself\u001b[0m\u001b[1;33m.\u001b[0m\u001b[0m_markevery\u001b[0m \u001b[1;33m=\u001b[0m \u001b[1;32mNone\u001b[0m\u001b[1;33m\u001b[0m\u001b[0m\n",
      "\u001b[1;32mC:\\ProgramData\\Anaconda3\\lib\\site-packages\\matplotlib\\markers.py\u001b[0m in \u001b[0;36m__init__\u001b[1;34m(self, marker, fillstyle)\u001b[0m\n\u001b[0;32m    187\u001b[0m         \u001b[0mself\u001b[0m\u001b[1;33m.\u001b[0m\u001b[0m_marker_function\u001b[0m \u001b[1;33m=\u001b[0m \u001b[1;32mNone\u001b[0m\u001b[1;33m\u001b[0m\u001b[0m\n\u001b[0;32m    188\u001b[0m         \u001b[0mself\u001b[0m\u001b[1;33m.\u001b[0m\u001b[0mset_fillstyle\u001b[0m\u001b[1;33m(\u001b[0m\u001b[0mfillstyle\u001b[0m\u001b[1;33m)\u001b[0m\u001b[1;33m\u001b[0m\u001b[0m\n\u001b[1;32m--> 189\u001b[1;33m         \u001b[0mself\u001b[0m\u001b[1;33m.\u001b[0m\u001b[0mset_marker\u001b[0m\u001b[1;33m(\u001b[0m\u001b[0mmarker\u001b[0m\u001b[1;33m)\u001b[0m\u001b[1;33m\u001b[0m\u001b[0m\n\u001b[0m\u001b[0;32m    190\u001b[0m \u001b[1;33m\u001b[0m\u001b[0m\n\u001b[0;32m    191\u001b[0m     \u001b[1;32mdef\u001b[0m \u001b[0m__getstate__\u001b[0m\u001b[1;33m(\u001b[0m\u001b[0mself\u001b[0m\u001b[1;33m)\u001b[0m\u001b[1;33m:\u001b[0m\u001b[1;33m\u001b[0m\u001b[0m\n",
      "\u001b[1;32mC:\\ProgramData\\Anaconda3\\lib\\site-packages\\matplotlib\\markers.py\u001b[0m in \u001b[0;36mset_marker\u001b[1;34m(self, marker)\u001b[0m\n\u001b[0;32m    273\u001b[0m \u001b[1;33m\u001b[0m\u001b[0m\n\u001b[0;32m    274\u001b[0m         \u001b[0mself\u001b[0m\u001b[1;33m.\u001b[0m\u001b[0m_marker\u001b[0m \u001b[1;33m=\u001b[0m \u001b[0mmarker\u001b[0m\u001b[1;33m\u001b[0m\u001b[0m\n\u001b[1;32m--> 275\u001b[1;33m         \u001b[0mself\u001b[0m\u001b[1;33m.\u001b[0m\u001b[0m_recache\u001b[0m\u001b[1;33m(\u001b[0m\u001b[1;33m)\u001b[0m\u001b[1;33m\u001b[0m\u001b[0m\n\u001b[0m\u001b[0;32m    276\u001b[0m \u001b[1;33m\u001b[0m\u001b[0m\n\u001b[0;32m    277\u001b[0m     \u001b[1;32mdef\u001b[0m \u001b[0mget_path\u001b[0m\u001b[1;33m(\u001b[0m\u001b[0mself\u001b[0m\u001b[1;33m)\u001b[0m\u001b[1;33m:\u001b[0m\u001b[1;33m\u001b[0m\u001b[0m\n",
      "\u001b[1;32mC:\\ProgramData\\Anaconda3\\lib\\site-packages\\matplotlib\\markers.py\u001b[0m in \u001b[0;36m_recache\u001b[1;34m(self)\u001b[0m\n\u001b[0;32m    209\u001b[0m         \u001b[0mself\u001b[0m\u001b[1;33m.\u001b[0m\u001b[0m_capstyle\u001b[0m \u001b[1;33m=\u001b[0m \u001b[1;34m'butt'\u001b[0m\u001b[1;33m\u001b[0m\u001b[0m\n\u001b[0;32m    210\u001b[0m         \u001b[0mself\u001b[0m\u001b[1;33m.\u001b[0m\u001b[0m_filled\u001b[0m \u001b[1;33m=\u001b[0m \u001b[1;32mTrue\u001b[0m\u001b[1;33m\u001b[0m\u001b[0m\n\u001b[1;32m--> 211\u001b[1;33m         \u001b[0mself\u001b[0m\u001b[1;33m.\u001b[0m\u001b[0m_marker_function\u001b[0m\u001b[1;33m(\u001b[0m\u001b[1;33m)\u001b[0m\u001b[1;33m\u001b[0m\u001b[0m\n\u001b[0m\u001b[0;32m    212\u001b[0m \u001b[1;33m\u001b[0m\u001b[0m\n\u001b[0;32m    213\u001b[0m     \u001b[1;32mif\u001b[0m \u001b[0msix\u001b[0m\u001b[1;33m.\u001b[0m\u001b[0mPY3\u001b[0m\u001b[1;33m:\u001b[0m\u001b[1;33m\u001b[0m\u001b[0m\n",
      "\u001b[1;32mC:\\ProgramData\\Anaconda3\\lib\\site-packages\\matplotlib\\markers.py\u001b[0m in \u001b[0;36m_set_tickleft\u001b[1;34m(self)\u001b[0m\n\u001b[0;32m    701\u001b[0m \u001b[1;33m\u001b[0m\u001b[0m\n\u001b[0;32m    702\u001b[0m     \u001b[1;32mdef\u001b[0m \u001b[0m_set_tickleft\u001b[0m\u001b[1;33m(\u001b[0m\u001b[0mself\u001b[0m\u001b[1;33m)\u001b[0m\u001b[1;33m:\u001b[0m\u001b[1;33m\u001b[0m\u001b[0m\n\u001b[1;32m--> 703\u001b[1;33m         \u001b[0mself\u001b[0m\u001b[1;33m.\u001b[0m\u001b[0m_transform\u001b[0m \u001b[1;33m=\u001b[0m \u001b[0mAffine2D\u001b[0m\u001b[1;33m(\u001b[0m\u001b[1;33m)\u001b[0m\u001b[1;33m.\u001b[0m\u001b[0mscale\u001b[0m\u001b[1;33m(\u001b[0m\u001b[1;33m-\u001b[0m\u001b[1;36m1.0\u001b[0m\u001b[1;33m,\u001b[0m \u001b[1;36m1.0\u001b[0m\u001b[1;33m)\u001b[0m\u001b[1;33m\u001b[0m\u001b[0m\n\u001b[0m\u001b[0;32m    704\u001b[0m         \u001b[0mself\u001b[0m\u001b[1;33m.\u001b[0m\u001b[0m_snap_threshold\u001b[0m \u001b[1;33m=\u001b[0m \u001b[1;36m1.0\u001b[0m\u001b[1;33m\u001b[0m\u001b[0m\n\u001b[0;32m    705\u001b[0m         \u001b[0mself\u001b[0m\u001b[1;33m.\u001b[0m\u001b[0m_filled\u001b[0m \u001b[1;33m=\u001b[0m \u001b[1;32mFalse\u001b[0m\u001b[1;33m\u001b[0m\u001b[0m\n",
      "\u001b[1;32mC:\\ProgramData\\Anaconda3\\lib\\site-packages\\matplotlib\\transforms.py\u001b[0m in \u001b[0;36mscale\u001b[1;34m(self, sx, sy)\u001b[0m\n\u001b[0;32m   2071\u001b[0m         scale_mtx = np.array(\n\u001b[0;32m   2072\u001b[0m             [[sx, 0.0, 0.0], [0.0, sy, 0.0], [0.0, 0.0, 1.0]], float)\n\u001b[1;32m-> 2073\u001b[1;33m         \u001b[0mself\u001b[0m\u001b[1;33m.\u001b[0m\u001b[0m_mtx\u001b[0m \u001b[1;33m=\u001b[0m \u001b[0mnp\u001b[0m\u001b[1;33m.\u001b[0m\u001b[0mdot\u001b[0m\u001b[1;33m(\u001b[0m\u001b[0mscale_mtx\u001b[0m\u001b[1;33m,\u001b[0m \u001b[0mself\u001b[0m\u001b[1;33m.\u001b[0m\u001b[0m_mtx\u001b[0m\u001b[1;33m)\u001b[0m\u001b[1;33m\u001b[0m\u001b[0m\n\u001b[0m\u001b[0;32m   2074\u001b[0m         \u001b[0mself\u001b[0m\u001b[1;33m.\u001b[0m\u001b[0minvalidate\u001b[0m\u001b[1;33m(\u001b[0m\u001b[1;33m)\u001b[0m\u001b[1;33m\u001b[0m\u001b[0m\n\u001b[0;32m   2075\u001b[0m         \u001b[1;32mreturn\u001b[0m \u001b[0mself\u001b[0m\u001b[1;33m\u001b[0m\u001b[0m\n",
      "\u001b[1;31mKeyboardInterrupt\u001b[0m: "
     ]
    },
    {
     "name": "stderr",
     "output_type": "stream",
     "text": [
      "tornado.general: ERROR    Uncaught exception, closing connection.\n",
      "Traceback (most recent call last):\n",
      "  File \"C:\\ProgramData\\Anaconda3\\lib\\site-packages\\zmq\\eventloop\\zmqstream.py\", line 414, in _run_callback\n",
      "    callback(*args, **kwargs)\n",
      "  File \"C:\\ProgramData\\Anaconda3\\lib\\site-packages\\tornado\\stack_context.py\", line 277, in null_wrapper\n",
      "    return fn(*args, **kwargs)\n",
      "  File \"C:\\ProgramData\\Anaconda3\\lib\\site-packages\\ipykernel\\kernelbase.py\", line 283, in dispatcher\n",
      "    return self.dispatch_shell(stream, msg)\n",
      "  File \"C:\\ProgramData\\Anaconda3\\lib\\site-packages\\ipykernel\\kernelbase.py\", line 235, in dispatch_shell\n",
      "    handler(stream, idents, msg)\n",
      "  File \"C:\\ProgramData\\Anaconda3\\lib\\site-packages\\ipykernel\\kernelbase.py\", line 421, in execute_request\n",
      "    self._abort_queues()\n",
      "  File \"C:\\ProgramData\\Anaconda3\\lib\\site-packages\\ipykernel\\kernelbase.py\", line 637, in _abort_queues\n",
      "    self._abort_queue(stream)\n",
      "  File \"C:\\ProgramData\\Anaconda3\\lib\\site-packages\\ipykernel\\kernelbase.py\", line 662, in _abort_queue\n",
      "    poller.poll(50)\n",
      "  File \"C:\\ProgramData\\Anaconda3\\lib\\site-packages\\zmq\\sugar\\poll.py\", line 99, in poll\n",
      "    return zmq_poll(self.sockets, timeout=timeout)\n",
      "  File \"zmq/backend/cython/_poll.pyx\", line 116, in zmq.backend.cython._poll.zmq_poll (zmq\\backend\\cython\\_poll.c:2036)\n",
      "  File \"zmq/backend/cython/checkrc.pxd\", line 12, in zmq.backend.cython.checkrc._check_rc (zmq\\backend\\cython\\_poll.c:2418)\n",
      "KeyboardInterrupt\n"
     ]
    }
   ],
   "source": [
    "currents = np.linspace(-0.12, 0.12, 601)\n",
    "#current_src.set_status(0)\n",
    "current_src1.set_status(1)\n",
    "#sweep.sweep(pna, (currents, dac.set_voltage, 'Coil current'), filename='Hivemind coil 1')\n",
    "sweep.sweep(pna, (currents, current_src1.set_current, 'Coil current'), filename='Hivemind coil res-z')"
   ]
  },
  {
   "cell_type": "code",
   "execution_count": 10,
   "metadata": {},
   "outputs": [
    {
     "data": {
      "text/plain": [
       "8.0"
      ]
     },
     "execution_count": 10,
     "metadata": {},
     "output_type": "execute_result"
    }
   ],
   "source": [
    "current_src.get_voltage_compliance()"
   ]
  },
  {
   "cell_type": "code",
   "execution_count": 5,
   "metadata": {
    "scrolled": true
   },
   "outputs": [
    {
     "data": {
      "application/vnd.jupyter.widget-view+json": {
       "model_id": "92ad10fa2a5d400d84e90f9a711f0665",
       "version_major": 2,
       "version_minor": 0
      },
      "text/plain": [
       "A Jupyter Widget"
      ]
     },
     "metadata": {},
     "output_type": "display_data"
    },
    {
     "name": "stdout",
     "output_type": "stream",
     "text": [
      "Started at:  May 10 2018 11:01:14\n",
      "\n",
      "Elapsed time: 0 h 1 m 13.7 s\n"
     ]
    },
    {
     "data": {
      "text/plain": [
       "{'S-parameter': (('Coil current', 'Frequency'),\n",
       "  (array([ -2.00000000e-03,  -1.96000000e-03,  -1.92000000e-03,\n",
       "           -1.88000000e-03,  -1.84000000e-03,  -1.80000000e-03,\n",
       "           -1.76000000e-03,  -1.72000000e-03,  -1.68000000e-03,\n",
       "           -1.64000000e-03,  -1.60000000e-03,  -1.56000000e-03,\n",
       "           -1.52000000e-03,  -1.48000000e-03,  -1.44000000e-03,\n",
       "           -1.40000000e-03,  -1.36000000e-03,  -1.32000000e-03,\n",
       "           -1.28000000e-03,  -1.24000000e-03,  -1.20000000e-03,\n",
       "           -1.16000000e-03,  -1.12000000e-03,  -1.08000000e-03,\n",
       "           -1.04000000e-03,  -1.00000000e-03,  -9.60000000e-04,\n",
       "           -9.20000000e-04,  -8.80000000e-04,  -8.40000000e-04,\n",
       "           -8.00000000e-04,  -7.60000000e-04,  -7.20000000e-04,\n",
       "           -6.80000000e-04,  -6.40000000e-04,  -6.00000000e-04,\n",
       "           -5.60000000e-04,  -5.20000000e-04,  -4.80000000e-04,\n",
       "           -4.40000000e-04,  -4.00000000e-04,  -3.60000000e-04,\n",
       "           -3.20000000e-04,  -2.80000000e-04,  -2.40000000e-04,\n",
       "           -2.00000000e-04,  -1.60000000e-04,  -1.20000000e-04,\n",
       "           -8.00000000e-05,  -4.00000000e-05,   0.00000000e+00,\n",
       "            4.00000000e-05,   8.00000000e-05,   1.20000000e-04,\n",
       "            1.60000000e-04,   2.00000000e-04,   2.40000000e-04,\n",
       "            2.80000000e-04,   3.20000000e-04,   3.60000000e-04,\n",
       "            4.00000000e-04,   4.40000000e-04,   4.80000000e-04,\n",
       "            5.20000000e-04,   5.60000000e-04,   6.00000000e-04,\n",
       "            6.40000000e-04,   6.80000000e-04,   7.20000000e-04,\n",
       "            7.60000000e-04,   8.00000000e-04,   8.40000000e-04,\n",
       "            8.80000000e-04,   9.20000000e-04,   9.60000000e-04,\n",
       "            1.00000000e-03,   1.04000000e-03,   1.08000000e-03,\n",
       "            1.12000000e-03,   1.16000000e-03,   1.20000000e-03,\n",
       "            1.24000000e-03,   1.28000000e-03,   1.32000000e-03,\n",
       "            1.36000000e-03,   1.40000000e-03,   1.44000000e-03,\n",
       "            1.48000000e-03,   1.52000000e-03,   1.56000000e-03,\n",
       "            1.60000000e-03,   1.64000000e-03,   1.68000000e-03,\n",
       "            1.72000000e-03,   1.76000000e-03,   1.80000000e-03,\n",
       "            1.84000000e-03,   1.88000000e-03,   1.92000000e-03,\n",
       "            1.96000000e-03,   2.00000000e-03]),\n",
       "   array([  6.00000000e+09,   6.01000000e+09,   6.02000000e+09,\n",
       "            6.03000000e+09,   6.04000000e+09,   6.05000000e+09,\n",
       "            6.06000000e+09,   6.07000000e+09,   6.08000000e+09,\n",
       "            6.09000000e+09,   6.10000000e+09,   6.11000000e+09,\n",
       "            6.12000000e+09,   6.13000000e+09,   6.14000000e+09,\n",
       "            6.15000000e+09,   6.16000000e+09,   6.17000000e+09,\n",
       "            6.18000000e+09,   6.19000000e+09,   6.20000000e+09,\n",
       "            6.21000000e+09,   6.22000000e+09,   6.23000000e+09,\n",
       "            6.24000000e+09,   6.25000000e+09,   6.26000000e+09,\n",
       "            6.27000000e+09,   6.28000000e+09,   6.29000000e+09,\n",
       "            6.30000000e+09,   6.31000000e+09,   6.32000000e+09,\n",
       "            6.33000000e+09,   6.34000000e+09,   6.35000000e+09,\n",
       "            6.36000000e+09,   6.37000000e+09,   6.38000000e+09,\n",
       "            6.39000000e+09,   6.40000000e+09,   6.41000000e+09,\n",
       "            6.42000000e+09,   6.43000000e+09,   6.44000000e+09,\n",
       "            6.45000000e+09,   6.46000000e+09,   6.47000000e+09,\n",
       "            6.48000000e+09,   6.49000000e+09,   6.50000000e+09,\n",
       "            6.51000000e+09,   6.52000000e+09,   6.53000000e+09,\n",
       "            6.54000000e+09,   6.55000000e+09,   6.56000000e+09,\n",
       "            6.57000000e+09,   6.58000000e+09,   6.59000000e+09,\n",
       "            6.60000000e+09,   6.61000000e+09,   6.62000000e+09,\n",
       "            6.63000000e+09,   6.64000000e+09,   6.65000000e+09,\n",
       "            6.66000000e+09,   6.67000000e+09,   6.68000000e+09,\n",
       "            6.69000000e+09,   6.70000000e+09,   6.71000000e+09,\n",
       "            6.72000000e+09,   6.73000000e+09,   6.74000000e+09,\n",
       "            6.75000000e+09,   6.76000000e+09,   6.77000000e+09,\n",
       "            6.78000000e+09,   6.79000000e+09,   6.80000000e+09,\n",
       "            6.81000000e+09,   6.82000000e+09,   6.83000000e+09,\n",
       "            6.84000000e+09,   6.85000000e+09,   6.86000000e+09,\n",
       "            6.87000000e+09,   6.88000000e+09,   6.89000000e+09,\n",
       "            6.90000000e+09,   6.91000000e+09,   6.92000000e+09,\n",
       "            6.93000000e+09,   6.94000000e+09,   6.95000000e+09,\n",
       "            6.96000000e+09,   6.97000000e+09,   6.98000000e+09,\n",
       "            6.99000000e+09,   7.00000000e+09,   7.01000000e+09,\n",
       "            7.02000000e+09,   7.03000000e+09,   7.04000000e+09,\n",
       "            7.05000000e+09,   7.06000000e+09,   7.07000000e+09,\n",
       "            7.08000000e+09,   7.09000000e+09,   7.10000000e+09,\n",
       "            7.11000000e+09,   7.12000000e+09,   7.13000000e+09,\n",
       "            7.14000000e+09,   7.15000000e+09,   7.16000000e+09,\n",
       "            7.17000000e+09,   7.18000000e+09,   7.19000000e+09,\n",
       "            7.20000000e+09,   7.21000000e+09,   7.22000000e+09,\n",
       "            7.23000000e+09,   7.24000000e+09,   7.25000000e+09,\n",
       "            7.26000000e+09,   7.27000000e+09,   7.28000000e+09,\n",
       "            7.29000000e+09,   7.30000000e+09,   7.31000000e+09,\n",
       "            7.32000000e+09,   7.33000000e+09,   7.34000000e+09,\n",
       "            7.35000000e+09,   7.36000000e+09,   7.37000000e+09,\n",
       "            7.38000000e+09,   7.39000000e+09,   7.40000000e+09,\n",
       "            7.41000000e+09,   7.42000000e+09,   7.43000000e+09,\n",
       "            7.44000000e+09,   7.45000000e+09,   7.46000000e+09,\n",
       "            7.47000000e+09,   7.48000000e+09,   7.49000000e+09,\n",
       "            7.50000000e+09,   7.51000000e+09,   7.52000000e+09,\n",
       "            7.53000000e+09,   7.54000000e+09,   7.55000000e+09,\n",
       "            7.56000000e+09,   7.57000000e+09,   7.58000000e+09,\n",
       "            7.59000000e+09,   7.60000000e+09,   7.61000000e+09,\n",
       "            7.62000000e+09,   7.63000000e+09,   7.64000000e+09,\n",
       "            7.65000000e+09,   7.66000000e+09,   7.67000000e+09,\n",
       "            7.68000000e+09,   7.69000000e+09,   7.70000000e+09,\n",
       "            7.71000000e+09,   7.72000000e+09,   7.73000000e+09,\n",
       "            7.74000000e+09,   7.75000000e+09,   7.76000000e+09,\n",
       "            7.77000000e+09,   7.78000000e+09,   7.79000000e+09,\n",
       "            7.80000000e+09,   7.81000000e+09,   7.82000000e+09,\n",
       "            7.83000000e+09,   7.84000000e+09,   7.85000000e+09,\n",
       "            7.86000000e+09,   7.87000000e+09,   7.88000000e+09,\n",
       "            7.89000000e+09,   7.90000000e+09,   7.91000000e+09,\n",
       "            7.92000000e+09,   7.93000000e+09,   7.94000000e+09,\n",
       "            7.95000000e+09,   7.96000000e+09,   7.97000000e+09,\n",
       "            7.98000000e+09,   7.99000000e+09,   8.00000000e+09,\n",
       "            8.01000000e+09,   8.02000000e+09,   8.03000000e+09,\n",
       "            8.04000000e+09,   8.05000000e+09,   8.06000000e+09,\n",
       "            8.07000000e+09,   8.08000000e+09,   8.09000000e+09,\n",
       "            8.10000000e+09,   8.11000000e+09,   8.12000000e+09,\n",
       "            8.13000000e+09,   8.14000000e+09,   8.15000000e+09,\n",
       "            8.16000000e+09,   8.17000000e+09,   8.18000000e+09,\n",
       "            8.19000000e+09,   8.20000000e+09,   8.21000000e+09,\n",
       "            8.22000000e+09,   8.23000000e+09,   8.24000000e+09,\n",
       "            8.25000000e+09,   8.26000000e+09,   8.27000000e+09,\n",
       "            8.28000000e+09,   8.29000000e+09,   8.30000000e+09,\n",
       "            8.31000000e+09,   8.32000000e+09,   8.33000000e+09,\n",
       "            8.34000000e+09,   8.35000000e+09,   8.36000000e+09,\n",
       "            8.37000000e+09,   8.38000000e+09,   8.39000000e+09,\n",
       "            8.40000000e+09,   8.41000000e+09,   8.42000000e+09,\n",
       "            8.43000000e+09,   8.44000000e+09,   8.45000000e+09,\n",
       "            8.46000000e+09,   8.47000000e+09,   8.48000000e+09,\n",
       "            8.49000000e+09,   8.50000000e+09,   8.51000000e+09,\n",
       "            8.52000000e+09,   8.53000000e+09,   8.54000000e+09,\n",
       "            8.55000000e+09,   8.56000000e+09,   8.57000000e+09,\n",
       "            8.58000000e+09,   8.59000000e+09,   8.60000000e+09,\n",
       "            8.61000000e+09,   8.62000000e+09,   8.63000000e+09,\n",
       "            8.64000000e+09,   8.65000000e+09,   8.66000000e+09,\n",
       "            8.67000000e+09,   8.68000000e+09,   8.69000000e+09,\n",
       "            8.70000000e+09,   8.71000000e+09,   8.72000000e+09,\n",
       "            8.73000000e+09,   8.74000000e+09,   8.75000000e+09,\n",
       "            8.76000000e+09,   8.77000000e+09,   8.78000000e+09,\n",
       "            8.79000000e+09,   8.80000000e+09,   8.81000000e+09,\n",
       "            8.82000000e+09,   8.83000000e+09,   8.84000000e+09,\n",
       "            8.85000000e+09,   8.86000000e+09,   8.87000000e+09,\n",
       "            8.88000000e+09,   8.89000000e+09,   8.90000000e+09,\n",
       "            8.91000000e+09,   8.92000000e+09,   8.93000000e+09,\n",
       "            8.94000000e+09,   8.95000000e+09,   8.96000000e+09,\n",
       "            8.97000000e+09,   8.98000000e+09,   8.99000000e+09,\n",
       "            9.00000000e+09,   9.01000000e+09,   9.02000000e+09,\n",
       "            9.03000000e+09,   9.04000000e+09,   9.05000000e+09,\n",
       "            9.06000000e+09,   9.07000000e+09,   9.08000000e+09,\n",
       "            9.09000000e+09,   9.10000000e+09,   9.11000000e+09,\n",
       "            9.12000000e+09,   9.13000000e+09,   9.14000000e+09,\n",
       "            9.15000000e+09,   9.16000000e+09,   9.17000000e+09,\n",
       "            9.18000000e+09,   9.19000000e+09,   9.20000000e+09,\n",
       "            9.21000000e+09,   9.22000000e+09,   9.23000000e+09,\n",
       "            9.24000000e+09,   9.25000000e+09,   9.26000000e+09,\n",
       "            9.27000000e+09,   9.28000000e+09,   9.29000000e+09,\n",
       "            9.30000000e+09,   9.31000000e+09,   9.32000000e+09,\n",
       "            9.33000000e+09,   9.34000000e+09,   9.35000000e+09,\n",
       "            9.36000000e+09,   9.37000000e+09,   9.38000000e+09,\n",
       "            9.39000000e+09,   9.40000000e+09,   9.41000000e+09,\n",
       "            9.42000000e+09,   9.43000000e+09,   9.44000000e+09,\n",
       "            9.45000000e+09,   9.46000000e+09,   9.47000000e+09,\n",
       "            9.48000000e+09,   9.49000000e+09,   9.50000000e+09,\n",
       "            9.51000000e+09,   9.52000000e+09,   9.53000000e+09,\n",
       "            9.54000000e+09,   9.55000000e+09,   9.56000000e+09,\n",
       "            9.57000000e+09,   9.58000000e+09,   9.59000000e+09,\n",
       "            9.60000000e+09,   9.61000000e+09,   9.62000000e+09,\n",
       "            9.63000000e+09,   9.64000000e+09,   9.65000000e+09,\n",
       "            9.66000000e+09,   9.67000000e+09,   9.68000000e+09,\n",
       "            9.69000000e+09,   9.70000000e+09,   9.71000000e+09,\n",
       "            9.72000000e+09,   9.73000000e+09,   9.74000000e+09,\n",
       "            9.75000000e+09,   9.76000000e+09,   9.77000000e+09,\n",
       "            9.78000000e+09,   9.79000000e+09,   9.80000000e+09,\n",
       "            9.81000000e+09,   9.82000000e+09,   9.83000000e+09,\n",
       "            9.84000000e+09,   9.85000000e+09,   9.86000000e+09,\n",
       "            9.87000000e+09,   9.88000000e+09,   9.89000000e+09,\n",
       "            9.90000000e+09,   9.91000000e+09,   9.92000000e+09,\n",
       "            9.93000000e+09,   9.94000000e+09,   9.95000000e+09,\n",
       "            9.96000000e+09,   9.97000000e+09,   9.98000000e+09,\n",
       "            9.99000000e+09,   1.00000000e+10])),\n",
       "  array([[ -5.67224284e-04 +5.31630707e-04j,\n",
       "            1.25932405e-04 -2.70865159e-04j,\n",
       "            6.05662499e-05 +4.15152725e-04j, ...,\n",
       "            1.85268014e-04 -4.80928429e-04j,\n",
       "           -4.24499776e-05 -2.98932137e-04j,\n",
       "           -2.62057118e-04 -5.86770533e-04j],\n",
       "         [ -7.26434577e-04 +2.49102741e-04j,\n",
       "           -4.84730845e-04 -5.13585866e-04j,\n",
       "            5.25123731e-04 +7.75961438e-04j, ...,\n",
       "           -3.46622604e-04 -1.09201658e-03j,\n",
       "            1.75192166e-04 +5.93375007e-04j,\n",
       "           -2.35123836e-04 +4.71363979e-04j],\n",
       "         [ -3.04802001e-04 +5.88555878e-04j,\n",
       "           -2.45000498e-04 -3.50444840e-04j,\n",
       "            1.77361973e-04 +4.63283795e-04j, ...,\n",
       "            9.15749813e-04 +3.16466787e-04j,\n",
       "            5.00533381e-04 +1.05444407e-04j,\n",
       "           -5.45812421e-04 -9.36204277e-04j],\n",
       "         ..., \n",
       "         [ -1.22645637e-04 +5.46739320e-04j,\n",
       "            3.36691417e-04 -5.75628437e-05j,\n",
       "            6.63676998e-04 +6.85024075e-04j, ...,\n",
       "            6.72246315e-05 -7.08333449e-04j,\n",
       "            1.74999019e-04 +1.34634742e-04j,\n",
       "           -3.10451333e-06 -7.15733448e-04j],\n",
       "         [ -3.75277159e-04 +7.17560411e-04j,\n",
       "            2.19969923e-04 -1.41561162e-04j,\n",
       "            3.66206485e-04 +4.95500164e-04j, ...,\n",
       "            3.84294166e-04 +1.30199551e-04j,\n",
       "           -2.49238132e-04 -2.09733262e-04j,\n",
       "           -2.53796548e-04 +4.13596208e-05j],\n",
       "         [ -3.63948784e-04 +4.36974689e-04j,\n",
       "           -2.73827871e-04 -7.02170015e-04j,\n",
       "            3.80879355e-04 +1.00572339e-04j, ...,\n",
       "            4.48350998e-04 -4.29277221e-04j,\n",
       "            8.40027315e-06 +2.91954260e-04j,\n",
       "            2.40385183e-04 +3.38932499e-04j]]),\n",
       "  {'log': 20},\n",
       "  ('', 'Hz'))}"
      ]
     },
     "execution_count": 5,
     "metadata": {},
     "output_type": "execute_result"
    }
   ],
   "source": [
    "pna.set_xlim(6e9, 10e9)\n",
    "pna.set_nop(401)\n",
    "pna.set_power(-35)\n",
    "pna.set_bandwidth(1000)\n",
    "#lo1.set_power(-15)\n",
    "#freqs = np.linspace(6e9, 6.7e9, 601)\n",
    "currents = np.linspace(-2e-3, 2e-3, 101)\n",
    "lo1.set_status(0)\n",
    "current_src1.set_status(1)\n",
    "sweep.sweep(pna, (currents, current_src1.set_current, 'Coil current'), filename='Hivemind #2 single-tone antenna')"
   ]
  },
  {
   "cell_type": "code",
   "execution_count": 145,
   "metadata": {},
   "outputs": [
    {
     "name": "stdout",
     "output_type": "stream",
     "text": [
      "0\n"
     ]
    }
   ],
   "source": [
    "set_res_z_voltage(-0)"
   ]
  },
  {
   "cell_type": "code",
   "execution_count": 17,
   "metadata": {},
   "outputs": [
    {
     "data": {
      "application/vnd.jupyter.widget-view+json": {
       "model_id": "bf8c1d28ecc14f449d3922f48bea4469"
      }
     },
     "metadata": {},
     "output_type": "display_data"
    },
    {
     "name": "stdout",
     "output_type": "stream",
     "text": [
      "Started at:  Jan 24 2018 08:32:30\n",
      "\n",
      "Elapsed time: 1 h 8 m 29.23 s\n"
     ]
    },
    {
     "data": {
      "text/plain": [
       "{'S-parameter': (('Second tone frequency',),\n",
       "  (array([  3.00000000e+09,   3.00100000e+09,   3.00200000e+09, ...,\n",
       "            1.19980000e+10,   1.19990000e+10,   1.20000000e+10]),),\n",
       "  array([-0.01623961-0.01522938j, -0.01630909-0.01537232j,\n",
       "         -0.01621177-0.01546274j, ..., -0.01496260-0.01713449j,\n",
       "         -0.01497149-0.01715337j, -0.01483067-0.01691502j]),\n",
       "  {'log': 20},\n",
       "  ('',))}"
      ]
     },
     "execution_count": 17,
     "metadata": {},
     "output_type": "execute_result"
    }
   ],
   "source": [
    "lo1.set_status(1)\n",
    "#lo1_powers = np.linspace(-20, 0, 21)\n",
    "lo1.set_power(0)\n",
    "lo1_freqs = np.linspace(3e9, 12e9, 9001)\n",
    "pna.set_power(-30)\n",
    "pna.set_xlim(10.06e9, 10.06e9)\n",
    "pna.set_nop(1)\n",
    "sweep.sweep(pna, (lo1_freqs, lo1.set_frequency, 'Second tone frequency'), filename='Hivemind two-tone (x)')"
   ]
  },
  {
   "cell_type": "code",
   "execution_count": 13,
   "metadata": {
    "scrolled": true
   },
   "outputs": [
    {
     "data": {
      "application/vnd.jupyter.widget-view+json": {
       "model_id": "97b0ae0bfc4445a69edf879c15050270"
      }
     },
     "metadata": {},
     "output_type": "display_data"
    },
    {
     "name": "stdout",
     "output_type": "stream",
     "text": [
      "Started at:  Jan 24 2018 04:51:13\n",
      "\n",
      "Elapsed time: 0 h 0 m 46.23 s\n"
     ]
    },
    {
     "data": {
      "text/plain": [
       "{'S-parameter': (('Power', 'Frequency'),\n",
       "  (array([-50., -49., -48., -47., -46., -45., -44., -43., -42., -41., -40.,\n",
       "          -39., -38., -37., -36., -35., -34., -33., -32., -31., -30., -29.,\n",
       "          -28., -27., -26., -25., -24., -23., -22., -21., -20., -19., -18.,\n",
       "          -17., -16., -15., -14., -13., -12., -11., -10.,  -9.,  -8.,  -7.,\n",
       "           -6.,  -5.,  -4.,  -3.,  -2.,  -1.,   0.]),\n",
       "   array([  1.00000000e+10,   1.00010000e+10,   1.00020000e+10,\n",
       "            1.00030000e+10,   1.00040000e+10,   1.00050000e+10,\n",
       "            1.00060000e+10,   1.00070000e+10,   1.00080000e+10,\n",
       "            1.00090000e+10,   1.00100000e+10,   1.00110000e+10,\n",
       "            1.00120000e+10,   1.00130000e+10,   1.00140000e+10,\n",
       "            1.00150000e+10,   1.00160000e+10,   1.00170000e+10,\n",
       "            1.00180000e+10,   1.00190000e+10,   1.00200000e+10,\n",
       "            1.00210000e+10,   1.00220000e+10,   1.00230000e+10,\n",
       "            1.00240000e+10,   1.00250000e+10,   1.00260000e+10,\n",
       "            1.00270000e+10,   1.00280000e+10,   1.00290000e+10,\n",
       "            1.00300000e+10,   1.00310000e+10,   1.00320000e+10,\n",
       "            1.00330000e+10,   1.00340000e+10,   1.00350000e+10,\n",
       "            1.00360000e+10,   1.00370000e+10,   1.00380000e+10,\n",
       "            1.00390000e+10,   1.00400000e+10,   1.00410000e+10,\n",
       "            1.00420000e+10,   1.00430000e+10,   1.00440000e+10,\n",
       "            1.00450000e+10,   1.00460000e+10,   1.00470000e+10,\n",
       "            1.00480000e+10,   1.00490000e+10,   1.00500000e+10,\n",
       "            1.00510000e+10,   1.00520000e+10,   1.00530000e+10,\n",
       "            1.00540000e+10,   1.00550000e+10,   1.00560000e+10,\n",
       "            1.00570000e+10,   1.00580000e+10,   1.00590000e+10,\n",
       "            1.00600000e+10,   1.00610000e+10,   1.00620000e+10,\n",
       "            1.00630000e+10,   1.00640000e+10,   1.00650000e+10,\n",
       "            1.00660000e+10,   1.00670000e+10,   1.00680000e+10,\n",
       "            1.00690000e+10,   1.00700000e+10,   1.00710000e+10,\n",
       "            1.00720000e+10,   1.00730000e+10,   1.00740000e+10,\n",
       "            1.00750000e+10,   1.00760000e+10,   1.00770000e+10,\n",
       "            1.00780000e+10,   1.00790000e+10,   1.00800000e+10,\n",
       "            1.00810000e+10,   1.00820000e+10,   1.00830000e+10,\n",
       "            1.00840000e+10,   1.00850000e+10,   1.00860000e+10,\n",
       "            1.00870000e+10,   1.00880000e+10,   1.00890000e+10,\n",
       "            1.00900000e+10,   1.00910000e+10,   1.00920000e+10,\n",
       "            1.00930000e+10,   1.00940000e+10,   1.00950000e+10,\n",
       "            1.00960000e+10,   1.00970000e+10,   1.00980000e+10,\n",
       "            1.00990000e+10,   1.01000000e+10])),\n",
       "  array([[ 0.02667610-0.0236935j ,  0.01845718-0.03144186j,\n",
       "           0.00583343-0.03630476j, ..., -0.02666070-0.01912592j,\n",
       "          -0.03065083-0.00979849j, -0.03229519+0.00089937j],\n",
       "         [ 0.02868632-0.0235126j ,  0.01791472-0.03173636j,\n",
       "           0.00390810-0.03517608j, ..., -0.02450925-0.02068537j,\n",
       "          -0.03190834-0.01064467j, -0.03271356+0.0015252j ],\n",
       "         [ 0.02844298-0.02300932j,  0.01844558-0.03154781j,\n",
       "           0.00451618-0.03579917j, ..., -0.02572069-0.02046103j,\n",
       "          -0.03157856-0.00941882j, -0.03316142+0.00128719j],\n",
       "         ..., \n",
       "         [ 0.03130085-0.01389856j,  0.02435896-0.02371001j,\n",
       "           0.01449195-0.03033954j, ..., -0.02372238-0.02683093j,\n",
       "          -0.03175715-0.01755009j, -0.03626399-0.00588184j],\n",
       "         [ 0.03137995-0.0139905j ,  0.02439716-0.02381913j,\n",
       "           0.01448765-0.03047036j, ..., -0.02382226-0.02688182j,\n",
       "          -0.03186049-0.01755805j, -0.03633869-0.00585665j],\n",
       "         [ 0.03144787-0.01408253j,  0.02443391-0.0239302j ,\n",
       "           0.01449577-0.03058572j, ..., -0.02389446-0.02690321j,\n",
       "          -0.03194540-0.01757091j, -0.03645108-0.00584088j]]),\n",
       "  {'log': 20},\n",
       "  ('', 'Hz'))}"
      ]
     },
     "execution_count": 13,
     "metadata": {},
     "output_type": "execute_result"
    }
   ],
   "source": [
    "pna.set_xlim(10e9, 10.1e9)\n",
    "pna.set_nop(101)\n",
    "powers = np.linspace(-50, 0, 51)\n",
    "sweep.sweep(pna, (powers, pna.set_power, 'Power'), filename='Hivemind power spectrum (x)')"
   ]
  },
  {
   "cell_type": "code",
   "execution_count": 6,
   "metadata": {},
   "outputs": [
    {
     "data": {
      "application/vnd.jupyter.widget-view+json": {
       "model_id": "ae5b7e0057db458f9fd0f01ad2399701",
       "version_major": 2,
       "version_minor": 0
      },
      "text/plain": [
       "A Jupyter Widget"
      ]
     },
     "metadata": {},
     "output_type": "display_data"
    },
    {
     "name": "stdout",
     "output_type": "stream",
     "text": [
      "Started at:  Jan 31 2018 15:59:24\n"
     ]
    },
    {
     "name": "stderr",
     "output_type": "stream",
     "text": [
      "Traceback (most recent call last):\n",
      "  File \"C:\\ProgramData\\Anaconda3\\lib\\site-packages\\matplotlib\\backends\\backend_qt5agg.py\", line 149, in __draw_idle_agg\n",
      "    self.draw()\n",
      "  File \"C:\\ProgramData\\Anaconda3\\lib\\site-packages\\matplotlib\\backends\\backend_qt5agg.py\", line 127, in draw\n",
      "    super(FigureCanvasQTAggBase, self).draw()\n",
      "  File \"C:\\ProgramData\\Anaconda3\\lib\\site-packages\\matplotlib\\backends\\backend_agg.py\", line 430, in draw\n",
      "    self.figure.draw(self.renderer)\n",
      "  File \"C:\\ProgramData\\Anaconda3\\lib\\site-packages\\matplotlib\\artist.py\", line 55, in draw_wrapper\n",
      "    return draw(artist, renderer, *args, **kwargs)\n",
      "  File \"C:\\ProgramData\\Anaconda3\\lib\\site-packages\\matplotlib\\figure.py\", line 1295, in draw\n",
      "    renderer, self, artists, self.suppressComposite)\n",
      "  File \"C:\\ProgramData\\Anaconda3\\lib\\site-packages\\matplotlib\\image.py\", line 138, in _draw_list_compositing_images\n",
      "    a.draw(renderer)\n",
      "  File \"C:\\ProgramData\\Anaconda3\\lib\\site-packages\\matplotlib\\artist.py\", line 55, in draw_wrapper\n",
      "    return draw(artist, renderer, *args, **kwargs)\n",
      "  File \"C:\\ProgramData\\Anaconda3\\lib\\site-packages\\matplotlib\\axes\\_base.py\", line 2399, in draw\n",
      "    mimage._draw_list_compositing_images(renderer, self, artists)\n",
      "  File \"C:\\ProgramData\\Anaconda3\\lib\\site-packages\\matplotlib\\image.py\", line 138, in _draw_list_compositing_images\n",
      "    a.draw(renderer)\n",
      "  File \"C:\\ProgramData\\Anaconda3\\lib\\site-packages\\matplotlib\\artist.py\", line 55, in draw_wrapper\n",
      "    return draw(artist, renderer, *args, **kwargs)\n",
      "  File \"C:\\ProgramData\\Anaconda3\\lib\\site-packages\\matplotlib\\image.py\", line 548, in draw\n",
      "    renderer, renderer.get_image_magnification())\n",
      "  File \"C:\\ProgramData\\Anaconda3\\lib\\site-packages\\matplotlib\\image.py\", line 774, in make_image\n",
      "    unsampled=unsampled)\n",
      "  File \"C:\\ProgramData\\Anaconda3\\lib\\site-packages\\matplotlib\\image.py\", line 370, in _make_image\n",
      "    a_min = np.ma.min(A).astype(scaled_dtype)\n",
      "  File \"C:\\ProgramData\\Anaconda3\\lib\\site-packages\\numpy\\ma\\core.py\", line 3205, in astype\n",
      "    if self._fill_value is not None:\n",
      "AttributeError: 'MaskedConstant' object has no attribute '_fill_value'\n",
      "Traceback (most recent call last):\n",
      "  File \"C:\\ProgramData\\Anaconda3\\lib\\site-packages\\matplotlib\\backends\\backend_qt5agg.py\", line 149, in __draw_idle_agg\n",
      "    self.draw()\n",
      "  File \"C:\\ProgramData\\Anaconda3\\lib\\site-packages\\matplotlib\\backends\\backend_qt5agg.py\", line 127, in draw\n",
      "    super(FigureCanvasQTAggBase, self).draw()\n",
      "  File \"C:\\ProgramData\\Anaconda3\\lib\\site-packages\\matplotlib\\backends\\backend_agg.py\", line 430, in draw\n",
      "    self.figure.draw(self.renderer)\n",
      "  File \"C:\\ProgramData\\Anaconda3\\lib\\site-packages\\matplotlib\\artist.py\", line 55, in draw_wrapper\n",
      "    return draw(artist, renderer, *args, **kwargs)\n",
      "  File \"C:\\ProgramData\\Anaconda3\\lib\\site-packages\\matplotlib\\figure.py\", line 1295, in draw\n",
      "    renderer, self, artists, self.suppressComposite)\n",
      "  File \"C:\\ProgramData\\Anaconda3\\lib\\site-packages\\matplotlib\\image.py\", line 138, in _draw_list_compositing_images\n",
      "    a.draw(renderer)\n",
      "  File \"C:\\ProgramData\\Anaconda3\\lib\\site-packages\\matplotlib\\artist.py\", line 55, in draw_wrapper\n",
      "    return draw(artist, renderer, *args, **kwargs)\n",
      "  File \"C:\\ProgramData\\Anaconda3\\lib\\site-packages\\matplotlib\\axes\\_base.py\", line 2399, in draw\n",
      "    mimage._draw_list_compositing_images(renderer, self, artists)\n",
      "  File \"C:\\ProgramData\\Anaconda3\\lib\\site-packages\\matplotlib\\image.py\", line 138, in _draw_list_compositing_images\n",
      "    a.draw(renderer)\n",
      "  File \"C:\\ProgramData\\Anaconda3\\lib\\site-packages\\matplotlib\\artist.py\", line 55, in draw_wrapper\n",
      "    return draw(artist, renderer, *args, **kwargs)\n",
      "  File \"C:\\ProgramData\\Anaconda3\\lib\\site-packages\\matplotlib\\image.py\", line 548, in draw\n",
      "    renderer, renderer.get_image_magnification())\n",
      "  File \"C:\\ProgramData\\Anaconda3\\lib\\site-packages\\matplotlib\\image.py\", line 774, in make_image\n",
      "    unsampled=unsampled)\n",
      "  File \"C:\\ProgramData\\Anaconda3\\lib\\site-packages\\matplotlib\\image.py\", line 370, in _make_image\n",
      "    a_min = np.ma.min(A).astype(scaled_dtype)\n",
      "  File \"C:\\ProgramData\\Anaconda3\\lib\\site-packages\\numpy\\ma\\core.py\", line 3205, in astype\n",
      "    if self._fill_value is not None:\n",
      "AttributeError: 'MaskedConstant' object has no attribute '_fill_value'\n"
     ]
    },
    {
     "name": "stdout",
     "output_type": "stream",
     "text": [
      "\n",
      "Elapsed time: 1 h 50 m 24.33 s\n"
     ]
    },
    {
     "data": {
      "text/plain": [
       "{'S-parameter': (('Control current', 'Second tone frequncy'),\n",
       "  (array([ -1.00000000e-03,  -9.80000000e-04,  -9.60000000e-04,\n",
       "           -9.40000000e-04,  -9.20000000e-04,  -9.00000000e-04,\n",
       "           -8.80000000e-04,  -8.60000000e-04,  -8.40000000e-04,\n",
       "           -8.20000000e-04,  -8.00000000e-04,  -7.80000000e-04,\n",
       "           -7.60000000e-04,  -7.40000000e-04,  -7.20000000e-04,\n",
       "           -7.00000000e-04,  -6.80000000e-04,  -6.60000000e-04,\n",
       "           -6.40000000e-04,  -6.20000000e-04,  -6.00000000e-04,\n",
       "           -5.80000000e-04,  -5.60000000e-04,  -5.40000000e-04,\n",
       "           -5.20000000e-04,  -5.00000000e-04,  -4.80000000e-04,\n",
       "           -4.60000000e-04,  -4.40000000e-04,  -4.20000000e-04,\n",
       "           -4.00000000e-04,  -3.80000000e-04,  -3.60000000e-04,\n",
       "           -3.40000000e-04,  -3.20000000e-04,  -3.00000000e-04,\n",
       "           -2.80000000e-04,  -2.60000000e-04,  -2.40000000e-04,\n",
       "           -2.20000000e-04,  -2.00000000e-04,  -1.80000000e-04,\n",
       "           -1.60000000e-04,  -1.40000000e-04,  -1.20000000e-04,\n",
       "           -1.00000000e-04,  -8.00000000e-05,  -6.00000000e-05,\n",
       "           -4.00000000e-05,  -2.00000000e-05,   0.00000000e+00,\n",
       "            2.00000000e-05,   4.00000000e-05,   6.00000000e-05,\n",
       "            8.00000000e-05,   1.00000000e-04,   1.20000000e-04,\n",
       "            1.40000000e-04,   1.60000000e-04,   1.80000000e-04,\n",
       "            2.00000000e-04,   2.20000000e-04,   2.40000000e-04,\n",
       "            2.60000000e-04,   2.80000000e-04,   3.00000000e-04,\n",
       "            3.20000000e-04,   3.40000000e-04,   3.60000000e-04,\n",
       "            3.80000000e-04,   4.00000000e-04,   4.20000000e-04,\n",
       "            4.40000000e-04,   4.60000000e-04,   4.80000000e-04,\n",
       "            5.00000000e-04,   5.20000000e-04,   5.40000000e-04,\n",
       "            5.60000000e-04,   5.80000000e-04,   6.00000000e-04,\n",
       "            6.20000000e-04,   6.40000000e-04,   6.60000000e-04,\n",
       "            6.80000000e-04,   7.00000000e-04,   7.20000000e-04,\n",
       "            7.40000000e-04,   7.60000000e-04,   7.80000000e-04,\n",
       "            8.00000000e-04,   8.20000000e-04,   8.40000000e-04,\n",
       "            8.60000000e-04,   8.80000000e-04,   9.00000000e-04,\n",
       "            9.20000000e-04,   9.40000000e-04,   9.60000000e-04,\n",
       "            9.80000000e-04,   1.00000000e-03]),\n",
       "   array([  6.10000000e+09,   6.10200000e+09,   6.10400000e+09,\n",
       "            6.10600000e+09,   6.10800000e+09,   6.11000000e+09,\n",
       "            6.11200000e+09,   6.11400000e+09,   6.11600000e+09,\n",
       "            6.11800000e+09,   6.12000000e+09,   6.12200000e+09,\n",
       "            6.12400000e+09,   6.12600000e+09,   6.12800000e+09,\n",
       "            6.13000000e+09,   6.13200000e+09,   6.13400000e+09,\n",
       "            6.13600000e+09,   6.13800000e+09,   6.14000000e+09,\n",
       "            6.14200000e+09,   6.14400000e+09,   6.14600000e+09,\n",
       "            6.14800000e+09,   6.15000000e+09,   6.15200000e+09,\n",
       "            6.15400000e+09,   6.15600000e+09,   6.15800000e+09,\n",
       "            6.16000000e+09,   6.16200000e+09,   6.16400000e+09,\n",
       "            6.16600000e+09,   6.16800000e+09,   6.17000000e+09,\n",
       "            6.17200000e+09,   6.17400000e+09,   6.17600000e+09,\n",
       "            6.17800000e+09,   6.18000000e+09,   6.18200000e+09,\n",
       "            6.18400000e+09,   6.18600000e+09,   6.18800000e+09,\n",
       "            6.19000000e+09,   6.19200000e+09,   6.19400000e+09,\n",
       "            6.19600000e+09,   6.19800000e+09,   6.20000000e+09,\n",
       "            6.20200000e+09,   6.20400000e+09,   6.20600000e+09,\n",
       "            6.20800000e+09,   6.21000000e+09,   6.21200000e+09,\n",
       "            6.21400000e+09,   6.21600000e+09,   6.21800000e+09,\n",
       "            6.22000000e+09,   6.22200000e+09,   6.22400000e+09,\n",
       "            6.22600000e+09,   6.22800000e+09,   6.23000000e+09,\n",
       "            6.23200000e+09,   6.23400000e+09,   6.23600000e+09,\n",
       "            6.23800000e+09,   6.24000000e+09,   6.24200000e+09,\n",
       "            6.24400000e+09,   6.24600000e+09,   6.24800000e+09,\n",
       "            6.25000000e+09,   6.25200000e+09,   6.25400000e+09,\n",
       "            6.25600000e+09,   6.25800000e+09,   6.26000000e+09,\n",
       "            6.26200000e+09,   6.26400000e+09,   6.26600000e+09,\n",
       "            6.26800000e+09,   6.27000000e+09,   6.27200000e+09,\n",
       "            6.27400000e+09,   6.27600000e+09,   6.27800000e+09,\n",
       "            6.28000000e+09,   6.28200000e+09,   6.28400000e+09,\n",
       "            6.28600000e+09,   6.28800000e+09,   6.29000000e+09,\n",
       "            6.29200000e+09,   6.29400000e+09,   6.29600000e+09,\n",
       "            6.29800000e+09,   6.30000000e+09,   6.30200000e+09,\n",
       "            6.30400000e+09,   6.30600000e+09,   6.30800000e+09,\n",
       "            6.31000000e+09,   6.31200000e+09,   6.31400000e+09,\n",
       "            6.31600000e+09,   6.31800000e+09,   6.32000000e+09,\n",
       "            6.32200000e+09,   6.32400000e+09,   6.32600000e+09,\n",
       "            6.32800000e+09,   6.33000000e+09,   6.33200000e+09,\n",
       "            6.33400000e+09,   6.33600000e+09,   6.33800000e+09,\n",
       "            6.34000000e+09,   6.34200000e+09,   6.34400000e+09,\n",
       "            6.34600000e+09,   6.34800000e+09,   6.35000000e+09,\n",
       "            6.35200000e+09,   6.35400000e+09,   6.35600000e+09,\n",
       "            6.35800000e+09,   6.36000000e+09,   6.36200000e+09,\n",
       "            6.36400000e+09,   6.36600000e+09,   6.36800000e+09,\n",
       "            6.37000000e+09,   6.37200000e+09,   6.37400000e+09,\n",
       "            6.37600000e+09,   6.37800000e+09,   6.38000000e+09,\n",
       "            6.38200000e+09,   6.38400000e+09,   6.38600000e+09,\n",
       "            6.38800000e+09,   6.39000000e+09,   6.39200000e+09,\n",
       "            6.39400000e+09,   6.39600000e+09,   6.39800000e+09,\n",
       "            6.40000000e+09,   6.40200000e+09,   6.40400000e+09,\n",
       "            6.40600000e+09,   6.40800000e+09,   6.41000000e+09,\n",
       "            6.41200000e+09,   6.41400000e+09,   6.41600000e+09,\n",
       "            6.41800000e+09,   6.42000000e+09,   6.42200000e+09,\n",
       "            6.42400000e+09,   6.42600000e+09,   6.42800000e+09,\n",
       "            6.43000000e+09,   6.43200000e+09,   6.43400000e+09,\n",
       "            6.43600000e+09,   6.43800000e+09,   6.44000000e+09,\n",
       "            6.44200000e+09,   6.44400000e+09,   6.44600000e+09,\n",
       "            6.44800000e+09,   6.45000000e+09,   6.45200000e+09,\n",
       "            6.45400000e+09,   6.45600000e+09,   6.45800000e+09,\n",
       "            6.46000000e+09,   6.46200000e+09,   6.46400000e+09,\n",
       "            6.46600000e+09,   6.46800000e+09,   6.47000000e+09,\n",
       "            6.47200000e+09,   6.47400000e+09,   6.47600000e+09,\n",
       "            6.47800000e+09,   6.48000000e+09,   6.48200000e+09,\n",
       "            6.48400000e+09,   6.48600000e+09,   6.48800000e+09,\n",
       "            6.49000000e+09,   6.49200000e+09,   6.49400000e+09,\n",
       "            6.49600000e+09,   6.49800000e+09,   6.50000000e+09])),\n",
       "  array([[ 0.00916557+0.00981419j,  0.01101904+0.00312444j,\n",
       "           0.01110239+0.00324609j, ...,  0.00958248+0.0069256j ,\n",
       "           0.00928336+0.00681221j,  0.00928736+0.00668342j],\n",
       "         [ 0.01093472+0.00304097j,  0.01098151+0.00337097j,\n",
       "           0.01113169+0.00301108j, ...,  0.00920647+0.00705658j,\n",
       "           0.00915362+0.00673224j,  0.00921387+0.00688871j],\n",
       "         [ 0.01105886+0.00315723j,  0.01066718+0.0037662j ,\n",
       "           0.01075039+0.0034037j , ...,  0.00939878+0.00628069j,\n",
       "           0.00946010+0.00603154j,  0.00949370+0.00580409j],\n",
       "         ..., \n",
       "         [ 0.00897281+0.01535217j,  0.00879953+0.01544548j,\n",
       "           0.00877694+0.01577033j, ...,  0.00895955+0.01668489j,\n",
       "           0.00911009+0.01722254j,  0.00909017+0.0169463j ],\n",
       "         [ 0.00880923+0.01607323j,  0.00886701+0.01592688j,\n",
       "           0.00859159+0.01637949j, ...,  0.00907530+0.01683927j,\n",
       "           0.00852333+0.01682973j,  0.00897729+0.01728357j],\n",
       "         [ 0.00816180+0.01593892j,  0.00712329+0.01495497j,\n",
       "           0.00708896+0.01521308j, ...,  0.00712662+0.01592951j,\n",
       "           0.00742086+0.01578062j,  0.00731644+0.01585712j]]),\n",
       "  {'log': 20},\n",
       "  ('', ''))}"
      ]
     },
     "execution_count": 6,
     "metadata": {},
     "output_type": "execute_result"
    }
   ],
   "source": [
    "pna.set_xlim(9.465e9, 9.465e9)\n",
    "pna.set_nop(1)\n",
    "pna.set_power(-50)\n",
    "pna.set_bandwidth(10)\n",
    "lo1.set_power(0)\n",
    "freqs = np.linspace(6.1e9, 6.5e9, 201)\n",
    "currents = np.linspace(-1e-3, 1e-3, 101)\n",
    "sweep.sweep(pna, (currents, current_src.set_current, 'Control current'), \n",
    "            (freqs, lo1.set_frequency, 'Second tone frequncy'), \n",
    "            filename='Hivemind two-tone korenkov')"
   ]
  },
  {
   "cell_type": "code",
   "execution_count": 20,
   "metadata": {
    "scrolled": true
   },
   "outputs": [
    {
     "data": {
      "application/vnd.jupyter.widget-view+json": {
       "model_id": "481a2a5eed8143318aa6b4d7c1bf1937"
      }
     },
     "metadata": {},
     "output_type": "display_data"
    },
    {
     "name": "stdout",
     "output_type": "stream",
     "text": [
      "Started at:  Jan 22 2018 12:48:18\n",
      "\n",
      "Elapsed time: 2 h 31 m 43.0 s\n"
     ]
    },
    {
     "data": {
      "text/plain": [
       "{'S-parameter': (('Control voltage', 'Second tone frequncy'),\n",
       "  (array([ 0.   ,  0.001,  0.002,  0.003,  0.004,  0.005,  0.006,  0.007,\n",
       "           0.008,  0.009,  0.01 ,  0.011,  0.012,  0.013,  0.014,  0.015,\n",
       "           0.016,  0.017,  0.018,  0.019,  0.02 ]),\n",
       "   array([  3.00000000e+09,   3.01000000e+09,   3.02000000e+09,\n",
       "            3.03000000e+09,   3.04000000e+09,   3.05000000e+09,\n",
       "            3.06000000e+09,   3.07000000e+09,   3.08000000e+09,\n",
       "            3.09000000e+09,   3.10000000e+09,   3.11000000e+09,\n",
       "            3.12000000e+09,   3.13000000e+09,   3.14000000e+09,\n",
       "            3.15000000e+09,   3.16000000e+09,   3.17000000e+09,\n",
       "            3.18000000e+09,   3.19000000e+09,   3.20000000e+09,\n",
       "            3.21000000e+09,   3.22000000e+09,   3.23000000e+09,\n",
       "            3.24000000e+09,   3.25000000e+09,   3.26000000e+09,\n",
       "            3.27000000e+09,   3.28000000e+09,   3.29000000e+09,\n",
       "            3.30000000e+09,   3.31000000e+09,   3.32000000e+09,\n",
       "            3.33000000e+09,   3.34000000e+09,   3.35000000e+09,\n",
       "            3.36000000e+09,   3.37000000e+09,   3.38000000e+09,\n",
       "            3.39000000e+09,   3.40000000e+09,   3.41000000e+09,\n",
       "            3.42000000e+09,   3.43000000e+09,   3.44000000e+09,\n",
       "            3.45000000e+09,   3.46000000e+09,   3.47000000e+09,\n",
       "            3.48000000e+09,   3.49000000e+09,   3.50000000e+09,\n",
       "            3.51000000e+09,   3.52000000e+09,   3.53000000e+09,\n",
       "            3.54000000e+09,   3.55000000e+09,   3.56000000e+09,\n",
       "            3.57000000e+09,   3.58000000e+09,   3.59000000e+09,\n",
       "            3.60000000e+09,   3.61000000e+09,   3.62000000e+09,\n",
       "            3.63000000e+09,   3.64000000e+09,   3.65000000e+09,\n",
       "            3.66000000e+09,   3.67000000e+09,   3.68000000e+09,\n",
       "            3.69000000e+09,   3.70000000e+09,   3.71000000e+09,\n",
       "            3.72000000e+09,   3.73000000e+09,   3.74000000e+09,\n",
       "            3.75000000e+09,   3.76000000e+09,   3.77000000e+09,\n",
       "            3.78000000e+09,   3.79000000e+09,   3.80000000e+09,\n",
       "            3.81000000e+09,   3.82000000e+09,   3.83000000e+09,\n",
       "            3.84000000e+09,   3.85000000e+09,   3.86000000e+09,\n",
       "            3.87000000e+09,   3.88000000e+09,   3.89000000e+09,\n",
       "            3.90000000e+09,   3.91000000e+09,   3.92000000e+09,\n",
       "            3.93000000e+09,   3.94000000e+09,   3.95000000e+09,\n",
       "            3.96000000e+09,   3.97000000e+09,   3.98000000e+09,\n",
       "            3.99000000e+09,   4.00000000e+09,   4.01000000e+09,\n",
       "            4.02000000e+09,   4.03000000e+09,   4.04000000e+09,\n",
       "            4.05000000e+09,   4.06000000e+09,   4.07000000e+09,\n",
       "            4.08000000e+09,   4.09000000e+09,   4.10000000e+09,\n",
       "            4.11000000e+09,   4.12000000e+09,   4.13000000e+09,\n",
       "            4.14000000e+09,   4.15000000e+09,   4.16000000e+09,\n",
       "            4.17000000e+09,   4.18000000e+09,   4.19000000e+09,\n",
       "            4.20000000e+09,   4.21000000e+09,   4.22000000e+09,\n",
       "            4.23000000e+09,   4.24000000e+09,   4.25000000e+09,\n",
       "            4.26000000e+09,   4.27000000e+09,   4.28000000e+09,\n",
       "            4.29000000e+09,   4.30000000e+09,   4.31000000e+09,\n",
       "            4.32000000e+09,   4.33000000e+09,   4.34000000e+09,\n",
       "            4.35000000e+09,   4.36000000e+09,   4.37000000e+09,\n",
       "            4.38000000e+09,   4.39000000e+09,   4.40000000e+09,\n",
       "            4.41000000e+09,   4.42000000e+09,   4.43000000e+09,\n",
       "            4.44000000e+09,   4.45000000e+09,   4.46000000e+09,\n",
       "            4.47000000e+09,   4.48000000e+09,   4.49000000e+09,\n",
       "            4.50000000e+09,   4.51000000e+09,   4.52000000e+09,\n",
       "            4.53000000e+09,   4.54000000e+09,   4.55000000e+09,\n",
       "            4.56000000e+09,   4.57000000e+09,   4.58000000e+09,\n",
       "            4.59000000e+09,   4.60000000e+09,   4.61000000e+09,\n",
       "            4.62000000e+09,   4.63000000e+09,   4.64000000e+09,\n",
       "            4.65000000e+09,   4.66000000e+09,   4.67000000e+09,\n",
       "            4.68000000e+09,   4.69000000e+09,   4.70000000e+09,\n",
       "            4.71000000e+09,   4.72000000e+09,   4.73000000e+09,\n",
       "            4.74000000e+09,   4.75000000e+09,   4.76000000e+09,\n",
       "            4.77000000e+09,   4.78000000e+09,   4.79000000e+09,\n",
       "            4.80000000e+09,   4.81000000e+09,   4.82000000e+09,\n",
       "            4.83000000e+09,   4.84000000e+09,   4.85000000e+09,\n",
       "            4.86000000e+09,   4.87000000e+09,   4.88000000e+09,\n",
       "            4.89000000e+09,   4.90000000e+09,   4.91000000e+09,\n",
       "            4.92000000e+09,   4.93000000e+09,   4.94000000e+09,\n",
       "            4.95000000e+09,   4.96000000e+09,   4.97000000e+09,\n",
       "            4.98000000e+09,   4.99000000e+09,   5.00000000e+09,\n",
       "            5.01000000e+09,   5.02000000e+09,   5.03000000e+09,\n",
       "            5.04000000e+09,   5.05000000e+09,   5.06000000e+09,\n",
       "            5.07000000e+09,   5.08000000e+09,   5.09000000e+09,\n",
       "            5.10000000e+09,   5.11000000e+09,   5.12000000e+09,\n",
       "            5.13000000e+09,   5.14000000e+09,   5.15000000e+09,\n",
       "            5.16000000e+09,   5.17000000e+09,   5.18000000e+09,\n",
       "            5.19000000e+09,   5.20000000e+09,   5.21000000e+09,\n",
       "            5.22000000e+09,   5.23000000e+09,   5.24000000e+09,\n",
       "            5.25000000e+09,   5.26000000e+09,   5.27000000e+09,\n",
       "            5.28000000e+09,   5.29000000e+09,   5.30000000e+09,\n",
       "            5.31000000e+09,   5.32000000e+09,   5.33000000e+09,\n",
       "            5.34000000e+09,   5.35000000e+09,   5.36000000e+09,\n",
       "            5.37000000e+09,   5.38000000e+09,   5.39000000e+09,\n",
       "            5.40000000e+09,   5.41000000e+09,   5.42000000e+09,\n",
       "            5.43000000e+09,   5.44000000e+09,   5.45000000e+09,\n",
       "            5.46000000e+09,   5.47000000e+09,   5.48000000e+09,\n",
       "            5.49000000e+09,   5.50000000e+09,   5.51000000e+09,\n",
       "            5.52000000e+09,   5.53000000e+09,   5.54000000e+09,\n",
       "            5.55000000e+09,   5.56000000e+09,   5.57000000e+09,\n",
       "            5.58000000e+09,   5.59000000e+09,   5.60000000e+09,\n",
       "            5.61000000e+09,   5.62000000e+09,   5.63000000e+09,\n",
       "            5.64000000e+09,   5.65000000e+09,   5.66000000e+09,\n",
       "            5.67000000e+09,   5.68000000e+09,   5.69000000e+09,\n",
       "            5.70000000e+09,   5.71000000e+09,   5.72000000e+09,\n",
       "            5.73000000e+09,   5.74000000e+09,   5.75000000e+09,\n",
       "            5.76000000e+09,   5.77000000e+09,   5.78000000e+09,\n",
       "            5.79000000e+09,   5.80000000e+09,   5.81000000e+09,\n",
       "            5.82000000e+09,   5.83000000e+09,   5.84000000e+09,\n",
       "            5.85000000e+09,   5.86000000e+09,   5.87000000e+09,\n",
       "            5.88000000e+09,   5.89000000e+09,   5.90000000e+09,\n",
       "            5.91000000e+09,   5.92000000e+09,   5.93000000e+09,\n",
       "            5.94000000e+09,   5.95000000e+09,   5.96000000e+09,\n",
       "            5.97000000e+09,   5.98000000e+09,   5.99000000e+09,\n",
       "            6.00000000e+09,   6.01000000e+09,   6.02000000e+09,\n",
       "            6.03000000e+09,   6.04000000e+09,   6.05000000e+09,\n",
       "            6.06000000e+09,   6.07000000e+09,   6.08000000e+09,\n",
       "            6.09000000e+09,   6.10000000e+09,   6.11000000e+09,\n",
       "            6.12000000e+09,   6.13000000e+09,   6.14000000e+09,\n",
       "            6.15000000e+09,   6.16000000e+09,   6.17000000e+09,\n",
       "            6.18000000e+09,   6.19000000e+09,   6.20000000e+09,\n",
       "            6.21000000e+09,   6.22000000e+09,   6.23000000e+09,\n",
       "            6.24000000e+09,   6.25000000e+09,   6.26000000e+09,\n",
       "            6.27000000e+09,   6.28000000e+09,   6.29000000e+09,\n",
       "            6.30000000e+09,   6.31000000e+09,   6.32000000e+09,\n",
       "            6.33000000e+09,   6.34000000e+09,   6.35000000e+09,\n",
       "            6.36000000e+09,   6.37000000e+09,   6.38000000e+09,\n",
       "            6.39000000e+09,   6.40000000e+09,   6.41000000e+09,\n",
       "            6.42000000e+09,   6.43000000e+09,   6.44000000e+09,\n",
       "            6.45000000e+09,   6.46000000e+09,   6.47000000e+09,\n",
       "            6.48000000e+09,   6.49000000e+09,   6.50000000e+09,\n",
       "            6.51000000e+09,   6.52000000e+09,   6.53000000e+09,\n",
       "            6.54000000e+09,   6.55000000e+09,   6.56000000e+09,\n",
       "            6.57000000e+09,   6.58000000e+09,   6.59000000e+09,\n",
       "            6.60000000e+09,   6.61000000e+09,   6.62000000e+09,\n",
       "            6.63000000e+09,   6.64000000e+09,   6.65000000e+09,\n",
       "            6.66000000e+09,   6.67000000e+09,   6.68000000e+09,\n",
       "            6.69000000e+09,   6.70000000e+09,   6.71000000e+09,\n",
       "            6.72000000e+09,   6.73000000e+09,   6.74000000e+09,\n",
       "            6.75000000e+09,   6.76000000e+09,   6.77000000e+09,\n",
       "            6.78000000e+09,   6.79000000e+09,   6.80000000e+09,\n",
       "            6.81000000e+09,   6.82000000e+09,   6.83000000e+09,\n",
       "            6.84000000e+09,   6.85000000e+09,   6.86000000e+09,\n",
       "            6.87000000e+09,   6.88000000e+09,   6.89000000e+09,\n",
       "            6.90000000e+09,   6.91000000e+09,   6.92000000e+09,\n",
       "            6.93000000e+09,   6.94000000e+09,   6.95000000e+09,\n",
       "            6.96000000e+09,   6.97000000e+09,   6.98000000e+09,\n",
       "            6.99000000e+09,   7.00000000e+09,   7.01000000e+09,\n",
       "            7.02000000e+09,   7.03000000e+09,   7.04000000e+09,\n",
       "            7.05000000e+09,   7.06000000e+09,   7.07000000e+09,\n",
       "            7.08000000e+09,   7.09000000e+09,   7.10000000e+09,\n",
       "            7.11000000e+09,   7.12000000e+09,   7.13000000e+09,\n",
       "            7.14000000e+09,   7.15000000e+09,   7.16000000e+09,\n",
       "            7.17000000e+09,   7.18000000e+09,   7.19000000e+09,\n",
       "            7.20000000e+09,   7.21000000e+09,   7.22000000e+09,\n",
       "            7.23000000e+09,   7.24000000e+09,   7.25000000e+09,\n",
       "            7.26000000e+09,   7.27000000e+09,   7.28000000e+09,\n",
       "            7.29000000e+09,   7.30000000e+09,   7.31000000e+09,\n",
       "            7.32000000e+09,   7.33000000e+09,   7.34000000e+09,\n",
       "            7.35000000e+09,   7.36000000e+09,   7.37000000e+09,\n",
       "            7.38000000e+09,   7.39000000e+09,   7.40000000e+09,\n",
       "            7.41000000e+09,   7.42000000e+09,   7.43000000e+09,\n",
       "            7.44000000e+09,   7.45000000e+09,   7.46000000e+09,\n",
       "            7.47000000e+09,   7.48000000e+09,   7.49000000e+09,\n",
       "            7.50000000e+09,   7.51000000e+09,   7.52000000e+09,\n",
       "            7.53000000e+09,   7.54000000e+09,   7.55000000e+09,\n",
       "            7.56000000e+09,   7.57000000e+09,   7.58000000e+09,\n",
       "            7.59000000e+09,   7.60000000e+09,   7.61000000e+09,\n",
       "            7.62000000e+09,   7.63000000e+09,   7.64000000e+09,\n",
       "            7.65000000e+09,   7.66000000e+09,   7.67000000e+09,\n",
       "            7.68000000e+09,   7.69000000e+09,   7.70000000e+09,\n",
       "            7.71000000e+09,   7.72000000e+09,   7.73000000e+09,\n",
       "            7.74000000e+09,   7.75000000e+09,   7.76000000e+09,\n",
       "            7.77000000e+09,   7.78000000e+09,   7.79000000e+09,\n",
       "            7.80000000e+09,   7.81000000e+09,   7.82000000e+09,\n",
       "            7.83000000e+09,   7.84000000e+09,   7.85000000e+09,\n",
       "            7.86000000e+09,   7.87000000e+09,   7.88000000e+09,\n",
       "            7.89000000e+09,   7.90000000e+09,   7.91000000e+09,\n",
       "            7.92000000e+09,   7.93000000e+09,   7.94000000e+09,\n",
       "            7.95000000e+09,   7.96000000e+09,   7.97000000e+09,\n",
       "            7.98000000e+09,   7.99000000e+09,   8.00000000e+09,\n",
       "            8.01000000e+09,   8.02000000e+09,   8.03000000e+09,\n",
       "            8.04000000e+09,   8.05000000e+09,   8.06000000e+09,\n",
       "            8.07000000e+09,   8.08000000e+09,   8.09000000e+09,\n",
       "            8.10000000e+09,   8.11000000e+09,   8.12000000e+09,\n",
       "            8.13000000e+09,   8.14000000e+09,   8.15000000e+09,\n",
       "            8.16000000e+09,   8.17000000e+09,   8.18000000e+09,\n",
       "            8.19000000e+09,   8.20000000e+09,   8.21000000e+09,\n",
       "            8.22000000e+09,   8.23000000e+09,   8.24000000e+09,\n",
       "            8.25000000e+09,   8.26000000e+09,   8.27000000e+09,\n",
       "            8.28000000e+09,   8.29000000e+09,   8.30000000e+09,\n",
       "            8.31000000e+09,   8.32000000e+09,   8.33000000e+09,\n",
       "            8.34000000e+09,   8.35000000e+09,   8.36000000e+09,\n",
       "            8.37000000e+09,   8.38000000e+09,   8.39000000e+09,\n",
       "            8.40000000e+09,   8.41000000e+09,   8.42000000e+09,\n",
       "            8.43000000e+09,   8.44000000e+09,   8.45000000e+09,\n",
       "            8.46000000e+09,   8.47000000e+09,   8.48000000e+09,\n",
       "            8.49000000e+09,   8.50000000e+09,   8.51000000e+09,\n",
       "            8.52000000e+09,   8.53000000e+09,   8.54000000e+09,\n",
       "            8.55000000e+09,   8.56000000e+09,   8.57000000e+09,\n",
       "            8.58000000e+09,   8.59000000e+09,   8.60000000e+09,\n",
       "            8.61000000e+09,   8.62000000e+09,   8.63000000e+09,\n",
       "            8.64000000e+09,   8.65000000e+09,   8.66000000e+09,\n",
       "            8.67000000e+09,   8.68000000e+09,   8.69000000e+09,\n",
       "            8.70000000e+09,   8.71000000e+09,   8.72000000e+09,\n",
       "            8.73000000e+09,   8.74000000e+09,   8.75000000e+09,\n",
       "            8.76000000e+09,   8.77000000e+09,   8.78000000e+09,\n",
       "            8.79000000e+09,   8.80000000e+09,   8.81000000e+09,\n",
       "            8.82000000e+09,   8.83000000e+09,   8.84000000e+09,\n",
       "            8.85000000e+09,   8.86000000e+09,   8.87000000e+09,\n",
       "            8.88000000e+09,   8.89000000e+09,   8.90000000e+09,\n",
       "            8.91000000e+09,   8.92000000e+09,   8.93000000e+09,\n",
       "            8.94000000e+09,   8.95000000e+09,   8.96000000e+09,\n",
       "            8.97000000e+09,   8.98000000e+09,   8.99000000e+09,\n",
       "            9.00000000e+09])),\n",
       "  array([[-0.00434199-0.02227751j, -0.00410604-0.02222339j,\n",
       "          -0.00420424-0.02227408j, ..., -0.00361371-0.02231733j,\n",
       "          -0.00370892-0.02236477j, -0.00372448-0.0221476j ],\n",
       "         [-0.00410087-0.02220463j, -0.00411471-0.02230242j,\n",
       "          -0.00397100-0.02215793j, ..., -0.00383239-0.02223411j,\n",
       "          -0.00407481-0.02221874j, -0.00402021-0.02227286j],\n",
       "         [-0.00430675-0.02222368j, -0.00429226-0.02218026j,\n",
       "          -0.00456544-0.02231477j, ..., -0.00375480-0.02224237j,\n",
       "          -0.00398936-0.02228642j, -0.00381959-0.02220516j],\n",
       "         ..., \n",
       "         [-0.00225292-0.02242271j, -0.00253015-0.02242482j,\n",
       "          -0.00216458-0.02254j   , ..., -0.00144306-0.02264608j,\n",
       "          -0.00168490-0.02252127j, -0.00162828-0.02253845j],\n",
       "         [-0.00209705-0.02230814j, -0.00220959-0.02232754j,\n",
       "          -0.00220893-0.0223576j , ..., -0.00140123-0.02250801j,\n",
       "          -0.00173088-0.02254855j, -0.00175722-0.02258825j],\n",
       "         [-0.00212847-0.02241758j, -0.00204747-0.02233592j,\n",
       "          -0.00201472-0.02234635j, ..., -0.00117802-0.02237671j,\n",
       "          -0.00162259-0.02261153j, -0.00161351-0.02252029j]]),\n",
       "  {'log': 20},\n",
       "  ('', ''))}"
      ]
     },
     "execution_count": 20,
     "metadata": {},
     "output_type": "execute_result"
    }
   ],
   "source": [
    "pna.set_xlim(7.69e9, 7.69e9)\n",
    "pna.set_nop(1)\n",
    "pna.set_power(-45)\n",
    "pna.set_bandwidth(10)\n",
    "lo1.set_power(-15)\n",
    "freqs = np.linspace(6e9, 6.7e9, 601)\n",
    "currents = np.linspace(-0.00, 0.020, 21)\n",
    "sweep.sweep(pna, (currents, set_res_z_voltage, 'Control voltage'), \n",
    "            (freqs, lo1.set_frequency, 'Second tone frequncy'), \n",
    "            filename='Hivemind two-tone res1')"
   ]
  },
  {
   "cell_type": "code",
   "execution_count": 8,
   "metadata": {
    "collapsed": true
   },
   "outputs": [],
   "source": [
    "plt.figure('Diff 2')\n",
    "plt.pcolormesh(measurement['S-parameter'][1][0], measurement['S-parameter'][1][1], np.abs(measurement['S-parameter'][2]-np.mean(measurement['S-parameter'][2], axis=0)).T)\n",
    "plt.grid(True)"
   ]
  },
  {
   "cell_type": "code",
   "execution_count": 55,
   "metadata": {
    "scrolled": true
   },
   "outputs": [
    {
     "data": {
      "application/vnd.jupyter.widget-view+json": {
       "model_id": "be24970ec0194b9198df21b483888af8"
      }
     },
     "metadata": {},
     "output_type": "display_data"
    },
    {
     "name": "stdout",
     "output_type": "stream",
     "text": [
      "Started at:  Jan 23 2018 14:37:22\n",
      "\n",
      "Elapsed time: 1 h 20 m 34.04 s\n"
     ]
    },
    {
     "data": {
      "application/vnd.jupyter.widget-view+json": {
       "model_id": "59ff9dc670c7408182f1aaee139aa191"
      }
     },
     "metadata": {},
     "output_type": "display_data"
    },
    {
     "name": "stdout",
     "output_type": "stream",
     "text": [
      "Started at:  Jan 23 2018 15:57:58\n",
      "\n",
      "Elapsed time: 1 h 23 m 30.08 s\n"
     ]
    },
    {
     "data": {
      "application/vnd.jupyter.widget-view+json": {
       "model_id": "a809a9aa63034e09b011184b44e34f03"
      }
     },
     "metadata": {},
     "output_type": "display_data"
    },
    {
     "name": "stdout",
     "output_type": "stream",
     "text": [
      "Started at:  Jan 23 2018 17:21:30\n",
      "\n",
      "Elapsed time: 1 h 21 m 17.98 s\n"
     ]
    },
    {
     "data": {
      "application/vnd.jupyter.widget-view+json": {
       "model_id": "526274febd3749e3a1d5452b77b1aa13"
      }
     },
     "metadata": {},
     "output_type": "display_data"
    },
    {
     "name": "stdout",
     "output_type": "stream",
     "text": [
      "Started at:  Jan 23 2018 18:42:50\n",
      "\n",
      "Elapsed time: 1 h 17 m 1.55 s\n"
     ]
    },
    {
     "data": {
      "application/vnd.jupyter.widget-view+json": {
       "model_id": "e44a70eea2534ff9b044d16ce7b2fa45"
      }
     },
     "metadata": {},
     "output_type": "display_data"
    },
    {
     "name": "stdout",
     "output_type": "stream",
     "text": [
      "Started at:  Jan 23 2018 19:59:53\n",
      "\n",
      "Elapsed time: 1 h 22 m 55.85 s\n"
     ]
    },
    {
     "data": {
      "application/vnd.jupyter.widget-view+json": {
       "model_id": "37efa66943794182827f7a274c5af7e8"
      }
     },
     "metadata": {},
     "output_type": "display_data"
    },
    {
     "name": "stdout",
     "output_type": "stream",
     "text": [
      "Started at:  Jan 23 2018 21:22:51\n",
      "\n",
      "Elapsed time: 1 h 19 m 49.2 s\n"
     ]
    },
    {
     "data": {
      "application/vnd.jupyter.widget-view+json": {
       "model_id": "fa8ce2408285433396a451f654b31100"
      }
     },
     "metadata": {},
     "output_type": "display_data"
    },
    {
     "name": "stdout",
     "output_type": "stream",
     "text": [
      "Started at:  Jan 23 2018 22:42:42\n",
      "\n",
      "Elapsed time: 1 h 19 m 40.98 s\n"
     ]
    },
    {
     "data": {
      "application/vnd.jupyter.widget-view+json": {
       "model_id": "15c80d0de6ec4f41ae87983432e9dfd1"
      }
     },
     "metadata": {},
     "output_type": "display_data"
    },
    {
     "name": "stdout",
     "output_type": "stream",
     "text": [
      "Started at:  Jan 24 2018 00:02:25\n",
      "\n",
      "Elapsed time: 1 h 19 m 40.3 s\n"
     ]
    },
    {
     "data": {
      "application/vnd.jupyter.widget-view+json": {
       "model_id": "af8a8d5be6564dd49543d9d2a76db3f3"
      }
     },
     "metadata": {},
     "output_type": "display_data"
    },
    {
     "name": "stdout",
     "output_type": "stream",
     "text": [
      "Started at:  Jan 24 2018 01:22:07\n",
      "\n",
      "Elapsed time: 1 h 20 m 0.54 s\n"
     ]
    },
    {
     "data": {
      "application/vnd.jupyter.widget-view+json": {
       "model_id": "88a6d83666c9438f89ad37d561fc62fa"
      }
     },
     "metadata": {},
     "output_type": "display_data"
    },
    {
     "name": "stdout",
     "output_type": "stream",
     "text": [
      "Started at:  Jan 24 2018 02:42:09\n",
      "\n",
      "Elapsed time: 1 h 19 m 22.06 s\n"
     ]
    },
    {
     "data": {
      "application/vnd.jupyter.widget-view+json": {
       "model_id": "e622be0601a6477195314b43eeafed2b"
      }
     },
     "metadata": {},
     "output_type": "display_data"
    },
    {
     "name": "stdout",
     "output_type": "stream",
     "text": [
      "Started at:  Jan 24 2018 04:01:33\n"
     ]
    },
    {
     "ename": "KeyboardInterrupt",
     "evalue": "",
     "output_type": "error",
     "traceback": [
      "\u001b[1;31m---------------------------------------------------------------------------\u001b[0m",
      "\u001b[1;31mKeyboardInterrupt\u001b[0m                         Traceback (most recent call last)",
      "\u001b[1;32mc:\\python36\\lib\\site-packages\\matplotlib\\backends\\backend_qt5agg.py\u001b[0m in \u001b[0;36m__draw_idle_agg\u001b[1;34m(self, *args)\u001b[0m\n\u001b[0;32m    195\u001b[0m             \u001b[1;32mreturn\u001b[0m\u001b[1;33m\u001b[0m\u001b[0m\n\u001b[0;32m    196\u001b[0m         \u001b[1;32mtry\u001b[0m\u001b[1;33m:\u001b[0m\u001b[1;33m\u001b[0m\u001b[0m\n\u001b[1;32m--> 197\u001b[1;33m             \u001b[0mFigureCanvasAgg\u001b[0m\u001b[1;33m.\u001b[0m\u001b[0mdraw\u001b[0m\u001b[1;33m(\u001b[0m\u001b[0mself\u001b[0m\u001b[1;33m)\u001b[0m\u001b[1;33m\u001b[0m\u001b[0m\n\u001b[0m\u001b[0;32m    198\u001b[0m             \u001b[0mself\u001b[0m\u001b[1;33m.\u001b[0m\u001b[0mupdate\u001b[0m\u001b[1;33m(\u001b[0m\u001b[1;33m)\u001b[0m\u001b[1;33m\u001b[0m\u001b[0m\n\u001b[0;32m    199\u001b[0m         \u001b[1;32mexcept\u001b[0m \u001b[0mException\u001b[0m\u001b[1;33m:\u001b[0m\u001b[1;33m\u001b[0m\u001b[0m\n",
      "\u001b[1;32mc:\\python36\\lib\\site-packages\\matplotlib\\backends\\backend_agg.py\u001b[0m in \u001b[0;36mdraw\u001b[1;34m(self)\u001b[0m\n\u001b[0;32m    462\u001b[0m \u001b[1;33m\u001b[0m\u001b[0m\n\u001b[0;32m    463\u001b[0m         \u001b[1;32mtry\u001b[0m\u001b[1;33m:\u001b[0m\u001b[1;33m\u001b[0m\u001b[0m\n\u001b[1;32m--> 464\u001b[1;33m             \u001b[0mself\u001b[0m\u001b[1;33m.\u001b[0m\u001b[0mfigure\u001b[0m\u001b[1;33m.\u001b[0m\u001b[0mdraw\u001b[0m\u001b[1;33m(\u001b[0m\u001b[0mself\u001b[0m\u001b[1;33m.\u001b[0m\u001b[0mrenderer\u001b[0m\u001b[1;33m)\u001b[0m\u001b[1;33m\u001b[0m\u001b[0m\n\u001b[0m\u001b[0;32m    465\u001b[0m         \u001b[1;32mfinally\u001b[0m\u001b[1;33m:\u001b[0m\u001b[1;33m\u001b[0m\u001b[0m\n\u001b[0;32m    466\u001b[0m             \u001b[0mRendererAgg\u001b[0m\u001b[1;33m.\u001b[0m\u001b[0mlock\u001b[0m\u001b[1;33m.\u001b[0m\u001b[0mrelease\u001b[0m\u001b[1;33m(\u001b[0m\u001b[1;33m)\u001b[0m\u001b[1;33m\u001b[0m\u001b[0m\n",
      "\u001b[1;32mc:\\python36\\lib\\site-packages\\matplotlib\\artist.py\u001b[0m in \u001b[0;36mdraw_wrapper\u001b[1;34m(artist, renderer, *args, **kwargs)\u001b[0m\n\u001b[0;32m     61\u001b[0m     \u001b[1;32mdef\u001b[0m \u001b[0mdraw_wrapper\u001b[0m\u001b[1;33m(\u001b[0m\u001b[0martist\u001b[0m\u001b[1;33m,\u001b[0m \u001b[0mrenderer\u001b[0m\u001b[1;33m,\u001b[0m \u001b[1;33m*\u001b[0m\u001b[0margs\u001b[0m\u001b[1;33m,\u001b[0m \u001b[1;33m**\u001b[0m\u001b[0mkwargs\u001b[0m\u001b[1;33m)\u001b[0m\u001b[1;33m:\u001b[0m\u001b[1;33m\u001b[0m\u001b[0m\n\u001b[0;32m     62\u001b[0m         \u001b[0mbefore\u001b[0m\u001b[1;33m(\u001b[0m\u001b[0martist\u001b[0m\u001b[1;33m,\u001b[0m \u001b[0mrenderer\u001b[0m\u001b[1;33m)\u001b[0m\u001b[1;33m\u001b[0m\u001b[0m\n\u001b[1;32m---> 63\u001b[1;33m         \u001b[0mdraw\u001b[0m\u001b[1;33m(\u001b[0m\u001b[0martist\u001b[0m\u001b[1;33m,\u001b[0m \u001b[0mrenderer\u001b[0m\u001b[1;33m,\u001b[0m \u001b[1;33m*\u001b[0m\u001b[0margs\u001b[0m\u001b[1;33m,\u001b[0m \u001b[1;33m**\u001b[0m\u001b[0mkwargs\u001b[0m\u001b[1;33m)\u001b[0m\u001b[1;33m\u001b[0m\u001b[0m\n\u001b[0m\u001b[0;32m     64\u001b[0m         \u001b[0mafter\u001b[0m\u001b[1;33m(\u001b[0m\u001b[0martist\u001b[0m\u001b[1;33m,\u001b[0m \u001b[0mrenderer\u001b[0m\u001b[1;33m)\u001b[0m\u001b[1;33m\u001b[0m\u001b[0m\n\u001b[0;32m     65\u001b[0m \u001b[1;33m\u001b[0m\u001b[0m\n",
      "\u001b[1;32mc:\\python36\\lib\\site-packages\\matplotlib\\figure.py\u001b[0m in \u001b[0;36mdraw\u001b[1;34m(self, renderer)\u001b[0m\n\u001b[0;32m   1141\u001b[0m \u001b[1;33m\u001b[0m\u001b[0m\n\u001b[0;32m   1142\u001b[0m             mimage._draw_list_compositing_images(\n\u001b[1;32m-> 1143\u001b[1;33m                 renderer, self, dsu, self.suppressComposite)\n\u001b[0m\u001b[0;32m   1144\u001b[0m \u001b[1;33m\u001b[0m\u001b[0m\n\u001b[0;32m   1145\u001b[0m             \u001b[0mrenderer\u001b[0m\u001b[1;33m.\u001b[0m\u001b[0mclose_group\u001b[0m\u001b[1;33m(\u001b[0m\u001b[1;34m'figure'\u001b[0m\u001b[1;33m)\u001b[0m\u001b[1;33m\u001b[0m\u001b[0m\n",
      "\u001b[1;32mc:\\python36\\lib\\site-packages\\matplotlib\\image.py\u001b[0m in \u001b[0;36m_draw_list_compositing_images\u001b[1;34m(renderer, parent, dsu, suppress_composite)\u001b[0m\n\u001b[0;32m    137\u001b[0m     \u001b[1;32mif\u001b[0m \u001b[0mnot_composite\u001b[0m \u001b[1;32mor\u001b[0m \u001b[1;32mnot\u001b[0m \u001b[0mhas_images\u001b[0m\u001b[1;33m:\u001b[0m\u001b[1;33m\u001b[0m\u001b[0m\n\u001b[0;32m    138\u001b[0m         \u001b[1;32mfor\u001b[0m \u001b[0mzorder\u001b[0m\u001b[1;33m,\u001b[0m \u001b[0ma\u001b[0m \u001b[1;32min\u001b[0m \u001b[0mdsu\u001b[0m\u001b[1;33m:\u001b[0m\u001b[1;33m\u001b[0m\u001b[0m\n\u001b[1;32m--> 139\u001b[1;33m             \u001b[0ma\u001b[0m\u001b[1;33m.\u001b[0m\u001b[0mdraw\u001b[0m\u001b[1;33m(\u001b[0m\u001b[0mrenderer\u001b[0m\u001b[1;33m)\u001b[0m\u001b[1;33m\u001b[0m\u001b[0m\n\u001b[0m\u001b[0;32m    140\u001b[0m     \u001b[1;32melse\u001b[0m\u001b[1;33m:\u001b[0m\u001b[1;33m\u001b[0m\u001b[0m\n\u001b[0;32m    141\u001b[0m         \u001b[1;31m# Composite any adjacent images together\u001b[0m\u001b[1;33m\u001b[0m\u001b[1;33m\u001b[0m\u001b[0m\n",
      "\u001b[1;32mc:\\python36\\lib\\site-packages\\matplotlib\\artist.py\u001b[0m in \u001b[0;36mdraw_wrapper\u001b[1;34m(artist, renderer, *args, **kwargs)\u001b[0m\n\u001b[0;32m     61\u001b[0m     \u001b[1;32mdef\u001b[0m \u001b[0mdraw_wrapper\u001b[0m\u001b[1;33m(\u001b[0m\u001b[0martist\u001b[0m\u001b[1;33m,\u001b[0m \u001b[0mrenderer\u001b[0m\u001b[1;33m,\u001b[0m \u001b[1;33m*\u001b[0m\u001b[0margs\u001b[0m\u001b[1;33m,\u001b[0m \u001b[1;33m**\u001b[0m\u001b[0mkwargs\u001b[0m\u001b[1;33m)\u001b[0m\u001b[1;33m:\u001b[0m\u001b[1;33m\u001b[0m\u001b[0m\n\u001b[0;32m     62\u001b[0m         \u001b[0mbefore\u001b[0m\u001b[1;33m(\u001b[0m\u001b[0martist\u001b[0m\u001b[1;33m,\u001b[0m \u001b[0mrenderer\u001b[0m\u001b[1;33m)\u001b[0m\u001b[1;33m\u001b[0m\u001b[0m\n\u001b[1;32m---> 63\u001b[1;33m         \u001b[0mdraw\u001b[0m\u001b[1;33m(\u001b[0m\u001b[0martist\u001b[0m\u001b[1;33m,\u001b[0m \u001b[0mrenderer\u001b[0m\u001b[1;33m,\u001b[0m \u001b[1;33m*\u001b[0m\u001b[0margs\u001b[0m\u001b[1;33m,\u001b[0m \u001b[1;33m**\u001b[0m\u001b[0mkwargs\u001b[0m\u001b[1;33m)\u001b[0m\u001b[1;33m\u001b[0m\u001b[0m\n\u001b[0m\u001b[0;32m     64\u001b[0m         \u001b[0mafter\u001b[0m\u001b[1;33m(\u001b[0m\u001b[0martist\u001b[0m\u001b[1;33m,\u001b[0m \u001b[0mrenderer\u001b[0m\u001b[1;33m)\u001b[0m\u001b[1;33m\u001b[0m\u001b[0m\n\u001b[0;32m     65\u001b[0m \u001b[1;33m\u001b[0m\u001b[0m\n",
      "\u001b[1;32mc:\\python36\\lib\\site-packages\\matplotlib\\axes\\_base.py\u001b[0m in \u001b[0;36mdraw\u001b[1;34m(self, renderer, inframe)\u001b[0m\n\u001b[0;32m   2407\u001b[0m             \u001b[0mrenderer\u001b[0m\u001b[1;33m.\u001b[0m\u001b[0mstop_rasterizing\u001b[0m\u001b[1;33m(\u001b[0m\u001b[1;33m)\u001b[0m\u001b[1;33m\u001b[0m\u001b[0m\n\u001b[0;32m   2408\u001b[0m \u001b[1;33m\u001b[0m\u001b[0m\n\u001b[1;32m-> 2409\u001b[1;33m         \u001b[0mmimage\u001b[0m\u001b[1;33m.\u001b[0m\u001b[0m_draw_list_compositing_images\u001b[0m\u001b[1;33m(\u001b[0m\u001b[0mrenderer\u001b[0m\u001b[1;33m,\u001b[0m \u001b[0mself\u001b[0m\u001b[1;33m,\u001b[0m \u001b[0mdsu\u001b[0m\u001b[1;33m)\u001b[0m\u001b[1;33m\u001b[0m\u001b[0m\n\u001b[0m\u001b[0;32m   2410\u001b[0m \u001b[1;33m\u001b[0m\u001b[0m\n\u001b[0;32m   2411\u001b[0m         \u001b[0mrenderer\u001b[0m\u001b[1;33m.\u001b[0m\u001b[0mclose_group\u001b[0m\u001b[1;33m(\u001b[0m\u001b[1;34m'axes'\u001b[0m\u001b[1;33m)\u001b[0m\u001b[1;33m\u001b[0m\u001b[0m\n",
      "\u001b[1;32mc:\\python36\\lib\\site-packages\\matplotlib\\image.py\u001b[0m in \u001b[0;36m_draw_list_compositing_images\u001b[1;34m(renderer, parent, dsu, suppress_composite)\u001b[0m\n\u001b[0;32m    137\u001b[0m     \u001b[1;32mif\u001b[0m \u001b[0mnot_composite\u001b[0m \u001b[1;32mor\u001b[0m \u001b[1;32mnot\u001b[0m \u001b[0mhas_images\u001b[0m\u001b[1;33m:\u001b[0m\u001b[1;33m\u001b[0m\u001b[0m\n\u001b[0;32m    138\u001b[0m         \u001b[1;32mfor\u001b[0m \u001b[0mzorder\u001b[0m\u001b[1;33m,\u001b[0m \u001b[0ma\u001b[0m \u001b[1;32min\u001b[0m \u001b[0mdsu\u001b[0m\u001b[1;33m:\u001b[0m\u001b[1;33m\u001b[0m\u001b[0m\n\u001b[1;32m--> 139\u001b[1;33m             \u001b[0ma\u001b[0m\u001b[1;33m.\u001b[0m\u001b[0mdraw\u001b[0m\u001b[1;33m(\u001b[0m\u001b[0mrenderer\u001b[0m\u001b[1;33m)\u001b[0m\u001b[1;33m\u001b[0m\u001b[0m\n\u001b[0m\u001b[0;32m    140\u001b[0m     \u001b[1;32melse\u001b[0m\u001b[1;33m:\u001b[0m\u001b[1;33m\u001b[0m\u001b[0m\n\u001b[0;32m    141\u001b[0m         \u001b[1;31m# Composite any adjacent images together\u001b[0m\u001b[1;33m\u001b[0m\u001b[1;33m\u001b[0m\u001b[0m\n",
      "\u001b[1;32mc:\\python36\\lib\\site-packages\\matplotlib\\artist.py\u001b[0m in \u001b[0;36mdraw_wrapper\u001b[1;34m(artist, renderer, *args, **kwargs)\u001b[0m\n\u001b[0;32m     61\u001b[0m     \u001b[1;32mdef\u001b[0m \u001b[0mdraw_wrapper\u001b[0m\u001b[1;33m(\u001b[0m\u001b[0martist\u001b[0m\u001b[1;33m,\u001b[0m \u001b[0mrenderer\u001b[0m\u001b[1;33m,\u001b[0m \u001b[1;33m*\u001b[0m\u001b[0margs\u001b[0m\u001b[1;33m,\u001b[0m \u001b[1;33m**\u001b[0m\u001b[0mkwargs\u001b[0m\u001b[1;33m)\u001b[0m\u001b[1;33m:\u001b[0m\u001b[1;33m\u001b[0m\u001b[0m\n\u001b[0;32m     62\u001b[0m         \u001b[0mbefore\u001b[0m\u001b[1;33m(\u001b[0m\u001b[0martist\u001b[0m\u001b[1;33m,\u001b[0m \u001b[0mrenderer\u001b[0m\u001b[1;33m)\u001b[0m\u001b[1;33m\u001b[0m\u001b[0m\n\u001b[1;32m---> 63\u001b[1;33m         \u001b[0mdraw\u001b[0m\u001b[1;33m(\u001b[0m\u001b[0martist\u001b[0m\u001b[1;33m,\u001b[0m \u001b[0mrenderer\u001b[0m\u001b[1;33m,\u001b[0m \u001b[1;33m*\u001b[0m\u001b[0margs\u001b[0m\u001b[1;33m,\u001b[0m \u001b[1;33m**\u001b[0m\u001b[0mkwargs\u001b[0m\u001b[1;33m)\u001b[0m\u001b[1;33m\u001b[0m\u001b[0m\n\u001b[0m\u001b[0;32m     64\u001b[0m         \u001b[0mafter\u001b[0m\u001b[1;33m(\u001b[0m\u001b[0martist\u001b[0m\u001b[1;33m,\u001b[0m \u001b[0mrenderer\u001b[0m\u001b[1;33m)\u001b[0m\u001b[1;33m\u001b[0m\u001b[0m\n\u001b[0;32m     65\u001b[0m \u001b[1;33m\u001b[0m\u001b[0m\n",
      "\u001b[1;32mc:\\python36\\lib\\site-packages\\matplotlib\\image.py\u001b[0m in \u001b[0;36mdraw\u001b[1;34m(self, renderer, *args, **kwargs)\u001b[0m\n\u001b[0;32m    493\u001b[0m         \u001b[1;32melse\u001b[0m\u001b[1;33m:\u001b[0m\u001b[1;33m\u001b[0m\u001b[0m\n\u001b[0;32m    494\u001b[0m             im, l, b, trans = self.make_image(\n\u001b[1;32m--> 495\u001b[1;33m                 renderer, renderer.get_image_magnification())\n\u001b[0m\u001b[0;32m    496\u001b[0m             \u001b[1;32mif\u001b[0m \u001b[0mim\u001b[0m \u001b[1;32mis\u001b[0m \u001b[1;32mnot\u001b[0m \u001b[1;32mNone\u001b[0m\u001b[1;33m:\u001b[0m\u001b[1;33m\u001b[0m\u001b[0m\n\u001b[0;32m    497\u001b[0m                 \u001b[0mrenderer\u001b[0m\u001b[1;33m.\u001b[0m\u001b[0mdraw_image\u001b[0m\u001b[1;33m(\u001b[0m\u001b[0mgc\u001b[0m\u001b[1;33m,\u001b[0m \u001b[0ml\u001b[0m\u001b[1;33m,\u001b[0m \u001b[0mb\u001b[0m\u001b[1;33m,\u001b[0m \u001b[0mim\u001b[0m\u001b[1;33m)\u001b[0m\u001b[1;33m\u001b[0m\u001b[0m\n",
      "\u001b[1;32mc:\\python36\\lib\\site-packages\\matplotlib\\image.py\u001b[0m in \u001b[0;36mmake_image\u001b[1;34m(self, renderer, magnification, unsampled)\u001b[0m\n\u001b[0;32m    717\u001b[0m         return self._make_image(\n\u001b[0;32m    718\u001b[0m             \u001b[0mself\u001b[0m\u001b[1;33m.\u001b[0m\u001b[0m_A\u001b[0m\u001b[1;33m,\u001b[0m \u001b[0mbbox\u001b[0m\u001b[1;33m,\u001b[0m \u001b[0mtransformed_bbox\u001b[0m\u001b[1;33m,\u001b[0m \u001b[0mself\u001b[0m\u001b[1;33m.\u001b[0m\u001b[0maxes\u001b[0m\u001b[1;33m.\u001b[0m\u001b[0mbbox\u001b[0m\u001b[1;33m,\u001b[0m \u001b[0mmagnification\u001b[0m\u001b[1;33m,\u001b[0m\u001b[1;33m\u001b[0m\u001b[0m\n\u001b[1;32m--> 719\u001b[1;33m             unsampled=unsampled)\n\u001b[0m\u001b[0;32m    720\u001b[0m \u001b[1;33m\u001b[0m\u001b[0m\n\u001b[0;32m    721\u001b[0m     \u001b[1;32mdef\u001b[0m \u001b[0m_check_unsampled_image\u001b[0m\u001b[1;33m(\u001b[0m\u001b[0mself\u001b[0m\u001b[1;33m,\u001b[0m \u001b[0mrenderer\u001b[0m\u001b[1;33m)\u001b[0m\u001b[1;33m:\u001b[0m\u001b[1;33m\u001b[0m\u001b[0m\n",
      "\u001b[1;32mc:\\python36\\lib\\site-packages\\matplotlib\\image.py\u001b[0m in \u001b[0;36m_make_image\u001b[1;34m(self, A, in_bbox, out_bbox, clip_bbox, magnification, unsampled, round_to_pixel_border)\u001b[0m\n\u001b[0;32m    409\u001b[0m                 \u001b[0mA\u001b[0m\u001b[1;33m,\u001b[0m \u001b[0moutput\u001b[0m\u001b[1;33m,\u001b[0m \u001b[0mt\u001b[0m\u001b[1;33m,\u001b[0m \u001b[0m_interpd_\u001b[0m\u001b[1;33m[\u001b[0m\u001b[0mself\u001b[0m\u001b[1;33m.\u001b[0m\u001b[0mget_interpolation\u001b[0m\u001b[1;33m(\u001b[0m\u001b[1;33m)\u001b[0m\u001b[1;33m]\u001b[0m\u001b[1;33m,\u001b[0m\u001b[1;33m\u001b[0m\u001b[0m\n\u001b[0;32m    410\u001b[0m                 \u001b[0mself\u001b[0m\u001b[1;33m.\u001b[0m\u001b[0mget_resample\u001b[0m\u001b[1;33m(\u001b[0m\u001b[1;33m)\u001b[0m\u001b[1;33m,\u001b[0m \u001b[0malpha\u001b[0m\u001b[1;33m,\u001b[0m\u001b[1;33m\u001b[0m\u001b[0m\n\u001b[1;32m--> 411\u001b[1;33m                 self.get_filternorm() or 0.0, self.get_filterrad() or 0.0)\n\u001b[0m\u001b[0;32m    412\u001b[0m \u001b[1;33m\u001b[0m\u001b[0m\n\u001b[0;32m    413\u001b[0m             \u001b[1;32mif\u001b[0m \u001b[0mcreated_rgba_mask\u001b[0m\u001b[1;33m:\u001b[0m\u001b[1;33m\u001b[0m\u001b[0m\n",
      "\u001b[1;31mKeyboardInterrupt\u001b[0m: "
     ]
    },
    {
     "ename": "KeyboardInterrupt",
     "evalue": "",
     "output_type": "error",
     "traceback": [
      "\u001b[1;31m---------------------------------------------------------------------------\u001b[0m",
      "\u001b[1;31mKeyboardInterrupt\u001b[0m                         Traceback (most recent call last)",
      "\u001b[1;32mc:\\python36\\lib\\site-packages\\matplotlib\\backends\\backend_qt5agg.py\u001b[0m in \u001b[0;36m__draw_idle_agg\u001b[1;34m(self, *args)\u001b[0m\n\u001b[0;32m    195\u001b[0m             \u001b[1;32mreturn\u001b[0m\u001b[1;33m\u001b[0m\u001b[0m\n\u001b[0;32m    196\u001b[0m         \u001b[1;32mtry\u001b[0m\u001b[1;33m:\u001b[0m\u001b[1;33m\u001b[0m\u001b[0m\n\u001b[1;32m--> 197\u001b[1;33m             \u001b[0mFigureCanvasAgg\u001b[0m\u001b[1;33m.\u001b[0m\u001b[0mdraw\u001b[0m\u001b[1;33m(\u001b[0m\u001b[0mself\u001b[0m\u001b[1;33m)\u001b[0m\u001b[1;33m\u001b[0m\u001b[0m\n\u001b[0m\u001b[0;32m    198\u001b[0m             \u001b[0mself\u001b[0m\u001b[1;33m.\u001b[0m\u001b[0mupdate\u001b[0m\u001b[1;33m(\u001b[0m\u001b[1;33m)\u001b[0m\u001b[1;33m\u001b[0m\u001b[0m\n\u001b[0;32m    199\u001b[0m         \u001b[1;32mexcept\u001b[0m \u001b[0mException\u001b[0m\u001b[1;33m:\u001b[0m\u001b[1;33m\u001b[0m\u001b[0m\n",
      "\u001b[1;32mc:\\python36\\lib\\site-packages\\matplotlib\\backends\\backend_agg.py\u001b[0m in \u001b[0;36mdraw\u001b[1;34m(self)\u001b[0m\n\u001b[0;32m    462\u001b[0m \u001b[1;33m\u001b[0m\u001b[0m\n\u001b[0;32m    463\u001b[0m         \u001b[1;32mtry\u001b[0m\u001b[1;33m:\u001b[0m\u001b[1;33m\u001b[0m\u001b[0m\n\u001b[1;32m--> 464\u001b[1;33m             \u001b[0mself\u001b[0m\u001b[1;33m.\u001b[0m\u001b[0mfigure\u001b[0m\u001b[1;33m.\u001b[0m\u001b[0mdraw\u001b[0m\u001b[1;33m(\u001b[0m\u001b[0mself\u001b[0m\u001b[1;33m.\u001b[0m\u001b[0mrenderer\u001b[0m\u001b[1;33m)\u001b[0m\u001b[1;33m\u001b[0m\u001b[0m\n\u001b[0m\u001b[0;32m    465\u001b[0m         \u001b[1;32mfinally\u001b[0m\u001b[1;33m:\u001b[0m\u001b[1;33m\u001b[0m\u001b[0m\n\u001b[0;32m    466\u001b[0m             \u001b[0mRendererAgg\u001b[0m\u001b[1;33m.\u001b[0m\u001b[0mlock\u001b[0m\u001b[1;33m.\u001b[0m\u001b[0mrelease\u001b[0m\u001b[1;33m(\u001b[0m\u001b[1;33m)\u001b[0m\u001b[1;33m\u001b[0m\u001b[0m\n",
      "\u001b[1;32mc:\\python36\\lib\\site-packages\\matplotlib\\artist.py\u001b[0m in \u001b[0;36mdraw_wrapper\u001b[1;34m(artist, renderer, *args, **kwargs)\u001b[0m\n\u001b[0;32m     61\u001b[0m     \u001b[1;32mdef\u001b[0m \u001b[0mdraw_wrapper\u001b[0m\u001b[1;33m(\u001b[0m\u001b[0martist\u001b[0m\u001b[1;33m,\u001b[0m \u001b[0mrenderer\u001b[0m\u001b[1;33m,\u001b[0m \u001b[1;33m*\u001b[0m\u001b[0margs\u001b[0m\u001b[1;33m,\u001b[0m \u001b[1;33m**\u001b[0m\u001b[0mkwargs\u001b[0m\u001b[1;33m)\u001b[0m\u001b[1;33m:\u001b[0m\u001b[1;33m\u001b[0m\u001b[0m\n\u001b[0;32m     62\u001b[0m         \u001b[0mbefore\u001b[0m\u001b[1;33m(\u001b[0m\u001b[0martist\u001b[0m\u001b[1;33m,\u001b[0m \u001b[0mrenderer\u001b[0m\u001b[1;33m)\u001b[0m\u001b[1;33m\u001b[0m\u001b[0m\n\u001b[1;32m---> 63\u001b[1;33m         \u001b[0mdraw\u001b[0m\u001b[1;33m(\u001b[0m\u001b[0martist\u001b[0m\u001b[1;33m,\u001b[0m \u001b[0mrenderer\u001b[0m\u001b[1;33m,\u001b[0m \u001b[1;33m*\u001b[0m\u001b[0margs\u001b[0m\u001b[1;33m,\u001b[0m \u001b[1;33m**\u001b[0m\u001b[0mkwargs\u001b[0m\u001b[1;33m)\u001b[0m\u001b[1;33m\u001b[0m\u001b[0m\n\u001b[0m\u001b[0;32m     64\u001b[0m         \u001b[0mafter\u001b[0m\u001b[1;33m(\u001b[0m\u001b[0martist\u001b[0m\u001b[1;33m,\u001b[0m \u001b[0mrenderer\u001b[0m\u001b[1;33m)\u001b[0m\u001b[1;33m\u001b[0m\u001b[0m\n\u001b[0;32m     65\u001b[0m \u001b[1;33m\u001b[0m\u001b[0m\n",
      "\u001b[1;32mc:\\python36\\lib\\site-packages\\matplotlib\\figure.py\u001b[0m in \u001b[0;36mdraw\u001b[1;34m(self, renderer)\u001b[0m\n\u001b[0;32m   1141\u001b[0m \u001b[1;33m\u001b[0m\u001b[0m\n\u001b[0;32m   1142\u001b[0m             mimage._draw_list_compositing_images(\n\u001b[1;32m-> 1143\u001b[1;33m                 renderer, self, dsu, self.suppressComposite)\n\u001b[0m\u001b[0;32m   1144\u001b[0m \u001b[1;33m\u001b[0m\u001b[0m\n\u001b[0;32m   1145\u001b[0m             \u001b[0mrenderer\u001b[0m\u001b[1;33m.\u001b[0m\u001b[0mclose_group\u001b[0m\u001b[1;33m(\u001b[0m\u001b[1;34m'figure'\u001b[0m\u001b[1;33m)\u001b[0m\u001b[1;33m\u001b[0m\u001b[0m\n",
      "\u001b[1;32mc:\\python36\\lib\\site-packages\\matplotlib\\image.py\u001b[0m in \u001b[0;36m_draw_list_compositing_images\u001b[1;34m(renderer, parent, dsu, suppress_composite)\u001b[0m\n\u001b[0;32m    137\u001b[0m     \u001b[1;32mif\u001b[0m \u001b[0mnot_composite\u001b[0m \u001b[1;32mor\u001b[0m \u001b[1;32mnot\u001b[0m \u001b[0mhas_images\u001b[0m\u001b[1;33m:\u001b[0m\u001b[1;33m\u001b[0m\u001b[0m\n\u001b[0;32m    138\u001b[0m         \u001b[1;32mfor\u001b[0m \u001b[0mzorder\u001b[0m\u001b[1;33m,\u001b[0m \u001b[0ma\u001b[0m \u001b[1;32min\u001b[0m \u001b[0mdsu\u001b[0m\u001b[1;33m:\u001b[0m\u001b[1;33m\u001b[0m\u001b[0m\n\u001b[1;32m--> 139\u001b[1;33m             \u001b[0ma\u001b[0m\u001b[1;33m.\u001b[0m\u001b[0mdraw\u001b[0m\u001b[1;33m(\u001b[0m\u001b[0mrenderer\u001b[0m\u001b[1;33m)\u001b[0m\u001b[1;33m\u001b[0m\u001b[0m\n\u001b[0m\u001b[0;32m    140\u001b[0m     \u001b[1;32melse\u001b[0m\u001b[1;33m:\u001b[0m\u001b[1;33m\u001b[0m\u001b[0m\n\u001b[0;32m    141\u001b[0m         \u001b[1;31m# Composite any adjacent images together\u001b[0m\u001b[1;33m\u001b[0m\u001b[1;33m\u001b[0m\u001b[0m\n",
      "\u001b[1;32mc:\\python36\\lib\\site-packages\\matplotlib\\artist.py\u001b[0m in \u001b[0;36mdraw_wrapper\u001b[1;34m(artist, renderer, *args, **kwargs)\u001b[0m\n\u001b[0;32m     61\u001b[0m     \u001b[1;32mdef\u001b[0m \u001b[0mdraw_wrapper\u001b[0m\u001b[1;33m(\u001b[0m\u001b[0martist\u001b[0m\u001b[1;33m,\u001b[0m \u001b[0mrenderer\u001b[0m\u001b[1;33m,\u001b[0m \u001b[1;33m*\u001b[0m\u001b[0margs\u001b[0m\u001b[1;33m,\u001b[0m \u001b[1;33m**\u001b[0m\u001b[0mkwargs\u001b[0m\u001b[1;33m)\u001b[0m\u001b[1;33m:\u001b[0m\u001b[1;33m\u001b[0m\u001b[0m\n\u001b[0;32m     62\u001b[0m         \u001b[0mbefore\u001b[0m\u001b[1;33m(\u001b[0m\u001b[0martist\u001b[0m\u001b[1;33m,\u001b[0m \u001b[0mrenderer\u001b[0m\u001b[1;33m)\u001b[0m\u001b[1;33m\u001b[0m\u001b[0m\n\u001b[1;32m---> 63\u001b[1;33m         \u001b[0mdraw\u001b[0m\u001b[1;33m(\u001b[0m\u001b[0martist\u001b[0m\u001b[1;33m,\u001b[0m \u001b[0mrenderer\u001b[0m\u001b[1;33m,\u001b[0m \u001b[1;33m*\u001b[0m\u001b[0margs\u001b[0m\u001b[1;33m,\u001b[0m \u001b[1;33m**\u001b[0m\u001b[0mkwargs\u001b[0m\u001b[1;33m)\u001b[0m\u001b[1;33m\u001b[0m\u001b[0m\n\u001b[0m\u001b[0;32m     64\u001b[0m         \u001b[0mafter\u001b[0m\u001b[1;33m(\u001b[0m\u001b[0martist\u001b[0m\u001b[1;33m,\u001b[0m \u001b[0mrenderer\u001b[0m\u001b[1;33m)\u001b[0m\u001b[1;33m\u001b[0m\u001b[0m\n\u001b[0;32m     65\u001b[0m \u001b[1;33m\u001b[0m\u001b[0m\n",
      "\u001b[1;32mc:\\python36\\lib\\site-packages\\matplotlib\\axes\\_base.py\u001b[0m in \u001b[0;36mdraw\u001b[1;34m(self, renderer, inframe)\u001b[0m\n\u001b[0;32m   2407\u001b[0m             \u001b[0mrenderer\u001b[0m\u001b[1;33m.\u001b[0m\u001b[0mstop_rasterizing\u001b[0m\u001b[1;33m(\u001b[0m\u001b[1;33m)\u001b[0m\u001b[1;33m\u001b[0m\u001b[0m\n\u001b[0;32m   2408\u001b[0m \u001b[1;33m\u001b[0m\u001b[0m\n\u001b[1;32m-> 2409\u001b[1;33m         \u001b[0mmimage\u001b[0m\u001b[1;33m.\u001b[0m\u001b[0m_draw_list_compositing_images\u001b[0m\u001b[1;33m(\u001b[0m\u001b[0mrenderer\u001b[0m\u001b[1;33m,\u001b[0m \u001b[0mself\u001b[0m\u001b[1;33m,\u001b[0m \u001b[0mdsu\u001b[0m\u001b[1;33m)\u001b[0m\u001b[1;33m\u001b[0m\u001b[0m\n\u001b[0m\u001b[0;32m   2410\u001b[0m \u001b[1;33m\u001b[0m\u001b[0m\n\u001b[0;32m   2411\u001b[0m         \u001b[0mrenderer\u001b[0m\u001b[1;33m.\u001b[0m\u001b[0mclose_group\u001b[0m\u001b[1;33m(\u001b[0m\u001b[1;34m'axes'\u001b[0m\u001b[1;33m)\u001b[0m\u001b[1;33m\u001b[0m\u001b[0m\n",
      "\u001b[1;32mc:\\python36\\lib\\site-packages\\matplotlib\\image.py\u001b[0m in \u001b[0;36m_draw_list_compositing_images\u001b[1;34m(renderer, parent, dsu, suppress_composite)\u001b[0m\n\u001b[0;32m    137\u001b[0m     \u001b[1;32mif\u001b[0m \u001b[0mnot_composite\u001b[0m \u001b[1;32mor\u001b[0m \u001b[1;32mnot\u001b[0m \u001b[0mhas_images\u001b[0m\u001b[1;33m:\u001b[0m\u001b[1;33m\u001b[0m\u001b[0m\n\u001b[0;32m    138\u001b[0m         \u001b[1;32mfor\u001b[0m \u001b[0mzorder\u001b[0m\u001b[1;33m,\u001b[0m \u001b[0ma\u001b[0m \u001b[1;32min\u001b[0m \u001b[0mdsu\u001b[0m\u001b[1;33m:\u001b[0m\u001b[1;33m\u001b[0m\u001b[0m\n\u001b[1;32m--> 139\u001b[1;33m             \u001b[0ma\u001b[0m\u001b[1;33m.\u001b[0m\u001b[0mdraw\u001b[0m\u001b[1;33m(\u001b[0m\u001b[0mrenderer\u001b[0m\u001b[1;33m)\u001b[0m\u001b[1;33m\u001b[0m\u001b[0m\n\u001b[0m\u001b[0;32m    140\u001b[0m     \u001b[1;32melse\u001b[0m\u001b[1;33m:\u001b[0m\u001b[1;33m\u001b[0m\u001b[0m\n\u001b[0;32m    141\u001b[0m         \u001b[1;31m# Composite any adjacent images together\u001b[0m\u001b[1;33m\u001b[0m\u001b[1;33m\u001b[0m\u001b[0m\n",
      "\u001b[1;32mc:\\python36\\lib\\site-packages\\matplotlib\\artist.py\u001b[0m in \u001b[0;36mdraw_wrapper\u001b[1;34m(artist, renderer, *args, **kwargs)\u001b[0m\n\u001b[0;32m     61\u001b[0m     \u001b[1;32mdef\u001b[0m \u001b[0mdraw_wrapper\u001b[0m\u001b[1;33m(\u001b[0m\u001b[0martist\u001b[0m\u001b[1;33m,\u001b[0m \u001b[0mrenderer\u001b[0m\u001b[1;33m,\u001b[0m \u001b[1;33m*\u001b[0m\u001b[0margs\u001b[0m\u001b[1;33m,\u001b[0m \u001b[1;33m**\u001b[0m\u001b[0mkwargs\u001b[0m\u001b[1;33m)\u001b[0m\u001b[1;33m:\u001b[0m\u001b[1;33m\u001b[0m\u001b[0m\n\u001b[0;32m     62\u001b[0m         \u001b[0mbefore\u001b[0m\u001b[1;33m(\u001b[0m\u001b[0martist\u001b[0m\u001b[1;33m,\u001b[0m \u001b[0mrenderer\u001b[0m\u001b[1;33m)\u001b[0m\u001b[1;33m\u001b[0m\u001b[0m\n\u001b[1;32m---> 63\u001b[1;33m         \u001b[0mdraw\u001b[0m\u001b[1;33m(\u001b[0m\u001b[0martist\u001b[0m\u001b[1;33m,\u001b[0m \u001b[0mrenderer\u001b[0m\u001b[1;33m,\u001b[0m \u001b[1;33m*\u001b[0m\u001b[0margs\u001b[0m\u001b[1;33m,\u001b[0m \u001b[1;33m**\u001b[0m\u001b[0mkwargs\u001b[0m\u001b[1;33m)\u001b[0m\u001b[1;33m\u001b[0m\u001b[0m\n\u001b[0m\u001b[0;32m     64\u001b[0m         \u001b[0mafter\u001b[0m\u001b[1;33m(\u001b[0m\u001b[0martist\u001b[0m\u001b[1;33m,\u001b[0m \u001b[0mrenderer\u001b[0m\u001b[1;33m)\u001b[0m\u001b[1;33m\u001b[0m\u001b[0m\n\u001b[0;32m     65\u001b[0m \u001b[1;33m\u001b[0m\u001b[0m\n",
      "\u001b[1;32mc:\\python36\\lib\\site-packages\\matplotlib\\axis.py\u001b[0m in \u001b[0;36mdraw\u001b[1;34m(self, renderer, *args, **kwargs)\u001b[0m\n\u001b[0;32m   1134\u001b[0m         \u001b[0mrenderer\u001b[0m\u001b[1;33m.\u001b[0m\u001b[0mopen_group\u001b[0m\u001b[1;33m(\u001b[0m\u001b[0m__name__\u001b[0m\u001b[1;33m)\u001b[0m\u001b[1;33m\u001b[0m\u001b[0m\n\u001b[0;32m   1135\u001b[0m \u001b[1;33m\u001b[0m\u001b[0m\n\u001b[1;32m-> 1136\u001b[1;33m         \u001b[0mticks_to_draw\u001b[0m \u001b[1;33m=\u001b[0m \u001b[0mself\u001b[0m\u001b[1;33m.\u001b[0m\u001b[0m_update_ticks\u001b[0m\u001b[1;33m(\u001b[0m\u001b[0mrenderer\u001b[0m\u001b[1;33m)\u001b[0m\u001b[1;33m\u001b[0m\u001b[0m\n\u001b[0m\u001b[0;32m   1137\u001b[0m         ticklabelBoxes, ticklabelBoxes2 = self._get_tick_bboxes(ticks_to_draw,\n\u001b[0;32m   1138\u001b[0m                                                                 renderer)\n",
      "\u001b[1;32mc:\\python36\\lib\\site-packages\\matplotlib\\axis.py\u001b[0m in \u001b[0;36m_update_ticks\u001b[1;34m(self, renderer)\u001b[0m\n\u001b[0;32m    967\u001b[0m \u001b[1;33m\u001b[0m\u001b[0m\n\u001b[0;32m    968\u001b[0m         \u001b[0minterval\u001b[0m \u001b[1;33m=\u001b[0m \u001b[0mself\u001b[0m\u001b[1;33m.\u001b[0m\u001b[0mget_view_interval\u001b[0m\u001b[1;33m(\u001b[0m\u001b[1;33m)\u001b[0m\u001b[1;33m\u001b[0m\u001b[0m\n\u001b[1;32m--> 969\u001b[1;33m         \u001b[0mtick_tups\u001b[0m \u001b[1;33m=\u001b[0m \u001b[1;33m[\u001b[0m\u001b[0mt\u001b[0m \u001b[1;32mfor\u001b[0m \u001b[0mt\u001b[0m \u001b[1;32min\u001b[0m \u001b[0mself\u001b[0m\u001b[1;33m.\u001b[0m\u001b[0miter_ticks\u001b[0m\u001b[1;33m(\u001b[0m\u001b[1;33m)\u001b[0m\u001b[1;33m]\u001b[0m\u001b[1;33m\u001b[0m\u001b[0m\n\u001b[0m\u001b[0;32m    970\u001b[0m         \u001b[1;32mif\u001b[0m \u001b[0mself\u001b[0m\u001b[1;33m.\u001b[0m\u001b[0m_smart_bounds\u001b[0m\u001b[1;33m:\u001b[0m\u001b[1;33m\u001b[0m\u001b[0m\n\u001b[0;32m    971\u001b[0m             \u001b[1;31m# handle inverted limits\u001b[0m\u001b[1;33m\u001b[0m\u001b[1;33m\u001b[0m\u001b[0m\n",
      "\u001b[1;32mc:\\python36\\lib\\site-packages\\matplotlib\\axis.py\u001b[0m in \u001b[0;36m<listcomp>\u001b[1;34m(.0)\u001b[0m\n\u001b[0;32m    967\u001b[0m \u001b[1;33m\u001b[0m\u001b[0m\n\u001b[0;32m    968\u001b[0m         \u001b[0minterval\u001b[0m \u001b[1;33m=\u001b[0m \u001b[0mself\u001b[0m\u001b[1;33m.\u001b[0m\u001b[0mget_view_interval\u001b[0m\u001b[1;33m(\u001b[0m\u001b[1;33m)\u001b[0m\u001b[1;33m\u001b[0m\u001b[0m\n\u001b[1;32m--> 969\u001b[1;33m         \u001b[0mtick_tups\u001b[0m \u001b[1;33m=\u001b[0m \u001b[1;33m[\u001b[0m\u001b[0mt\u001b[0m \u001b[1;32mfor\u001b[0m \u001b[0mt\u001b[0m \u001b[1;32min\u001b[0m \u001b[0mself\u001b[0m\u001b[1;33m.\u001b[0m\u001b[0miter_ticks\u001b[0m\u001b[1;33m(\u001b[0m\u001b[1;33m)\u001b[0m\u001b[1;33m]\u001b[0m\u001b[1;33m\u001b[0m\u001b[0m\n\u001b[0m\u001b[0;32m    970\u001b[0m         \u001b[1;32mif\u001b[0m \u001b[0mself\u001b[0m\u001b[1;33m.\u001b[0m\u001b[0m_smart_bounds\u001b[0m\u001b[1;33m:\u001b[0m\u001b[1;33m\u001b[0m\u001b[0m\n\u001b[0;32m    971\u001b[0m             \u001b[1;31m# handle inverted limits\u001b[0m\u001b[1;33m\u001b[0m\u001b[1;33m\u001b[0m\u001b[0m\n",
      "\u001b[1;32mc:\\python36\\lib\\site-packages\\matplotlib\\axis.py\u001b[0m in \u001b[0;36miter_ticks\u001b[1;34m(self)\u001b[0m\n\u001b[0;32m    910\u001b[0m         \u001b[0mIterate\u001b[0m \u001b[0mthrough\u001b[0m \u001b[0mall\u001b[0m \u001b[0mof\u001b[0m \u001b[0mthe\u001b[0m \u001b[0mmajor\u001b[0m \u001b[1;32mand\u001b[0m \u001b[0mminor\u001b[0m \u001b[0mticks\u001b[0m\u001b[1;33m.\u001b[0m\u001b[1;33m\u001b[0m\u001b[0m\n\u001b[0;32m    911\u001b[0m         \"\"\"\n\u001b[1;32m--> 912\u001b[1;33m         \u001b[0mmajorLocs\u001b[0m \u001b[1;33m=\u001b[0m \u001b[0mself\u001b[0m\u001b[1;33m.\u001b[0m\u001b[0mmajor\u001b[0m\u001b[1;33m.\u001b[0m\u001b[0mlocator\u001b[0m\u001b[1;33m(\u001b[0m\u001b[1;33m)\u001b[0m\u001b[1;33m\u001b[0m\u001b[0m\n\u001b[0m\u001b[0;32m    913\u001b[0m         \u001b[0mmajorTicks\u001b[0m \u001b[1;33m=\u001b[0m \u001b[0mself\u001b[0m\u001b[1;33m.\u001b[0m\u001b[0mget_major_ticks\u001b[0m\u001b[1;33m(\u001b[0m\u001b[0mlen\u001b[0m\u001b[1;33m(\u001b[0m\u001b[0mmajorLocs\u001b[0m\u001b[1;33m)\u001b[0m\u001b[1;33m)\u001b[0m\u001b[1;33m\u001b[0m\u001b[0m\n\u001b[0;32m    914\u001b[0m         \u001b[0mself\u001b[0m\u001b[1;33m.\u001b[0m\u001b[0mmajor\u001b[0m\u001b[1;33m.\u001b[0m\u001b[0mformatter\u001b[0m\u001b[1;33m.\u001b[0m\u001b[0mset_locs\u001b[0m\u001b[1;33m(\u001b[0m\u001b[0mmajorLocs\u001b[0m\u001b[1;33m)\u001b[0m\u001b[1;33m\u001b[0m\u001b[0m\n",
      "\u001b[1;32mc:\\python36\\lib\\site-packages\\matplotlib\\ticker.py\u001b[0m in \u001b[0;36m__call__\u001b[1;34m(self)\u001b[0m\n\u001b[0;32m   1792\u001b[0m     \u001b[1;32mdef\u001b[0m \u001b[0m__call__\u001b[0m\u001b[1;33m(\u001b[0m\u001b[0mself\u001b[0m\u001b[1;33m)\u001b[0m\u001b[1;33m:\u001b[0m\u001b[1;33m\u001b[0m\u001b[0m\n\u001b[0;32m   1793\u001b[0m         \u001b[0mvmin\u001b[0m\u001b[1;33m,\u001b[0m \u001b[0mvmax\u001b[0m \u001b[1;33m=\u001b[0m \u001b[0mself\u001b[0m\u001b[1;33m.\u001b[0m\u001b[0maxis\u001b[0m\u001b[1;33m.\u001b[0m\u001b[0mget_view_interval\u001b[0m\u001b[1;33m(\u001b[0m\u001b[1;33m)\u001b[0m\u001b[1;33m\u001b[0m\u001b[0m\n\u001b[1;32m-> 1794\u001b[1;33m         \u001b[1;32mreturn\u001b[0m \u001b[0mself\u001b[0m\u001b[1;33m.\u001b[0m\u001b[0mtick_values\u001b[0m\u001b[1;33m(\u001b[0m\u001b[0mvmin\u001b[0m\u001b[1;33m,\u001b[0m \u001b[0mvmax\u001b[0m\u001b[1;33m)\u001b[0m\u001b[1;33m\u001b[0m\u001b[0m\n\u001b[0m\u001b[0;32m   1795\u001b[0m \u001b[1;33m\u001b[0m\u001b[0m\n\u001b[0;32m   1796\u001b[0m     \u001b[1;32mdef\u001b[0m \u001b[0mtick_values\u001b[0m\u001b[1;33m(\u001b[0m\u001b[0mself\u001b[0m\u001b[1;33m,\u001b[0m \u001b[0mvmin\u001b[0m\u001b[1;33m,\u001b[0m \u001b[0mvmax\u001b[0m\u001b[1;33m)\u001b[0m\u001b[1;33m:\u001b[0m\u001b[1;33m\u001b[0m\u001b[0m\n",
      "\u001b[1;32mc:\\python36\\lib\\site-packages\\matplotlib\\ticker.py\u001b[0m in \u001b[0;36mtick_values\u001b[1;34m(self, vmin, vmax)\u001b[0m\n\u001b[0;32m   1800\u001b[0m         vmin, vmax = mtransforms.nonsingular(\n\u001b[0;32m   1801\u001b[0m             vmin, vmax, expander=1e-13, tiny=1e-14)\n\u001b[1;32m-> 1802\u001b[1;33m         \u001b[0mlocs\u001b[0m \u001b[1;33m=\u001b[0m \u001b[0mself\u001b[0m\u001b[1;33m.\u001b[0m\u001b[0m_raw_ticks\u001b[0m\u001b[1;33m(\u001b[0m\u001b[0mvmin\u001b[0m\u001b[1;33m,\u001b[0m \u001b[0mvmax\u001b[0m\u001b[1;33m)\u001b[0m\u001b[1;33m\u001b[0m\u001b[0m\n\u001b[0m\u001b[0;32m   1803\u001b[0m \u001b[1;33m\u001b[0m\u001b[0m\n\u001b[0;32m   1804\u001b[0m         \u001b[0mprune\u001b[0m \u001b[1;33m=\u001b[0m \u001b[0mself\u001b[0m\u001b[1;33m.\u001b[0m\u001b[0m_prune\u001b[0m\u001b[1;33m\u001b[0m\u001b[0m\n",
      "\u001b[1;32mc:\\python36\\lib\\site-packages\\matplotlib\\ticker.py\u001b[0m in \u001b[0;36m_raw_ticks\u001b[1;34m(self, vmin, vmax)\u001b[0m\n\u001b[0;32m   1742\u001b[0m         \u001b[1;32mif\u001b[0m \u001b[0mself\u001b[0m\u001b[1;33m.\u001b[0m\u001b[0m_nbins\u001b[0m \u001b[1;33m==\u001b[0m \u001b[1;34m'auto'\u001b[0m\u001b[1;33m:\u001b[0m\u001b[1;33m\u001b[0m\u001b[0m\n\u001b[0;32m   1743\u001b[0m             \u001b[1;32mif\u001b[0m \u001b[0mself\u001b[0m\u001b[1;33m.\u001b[0m\u001b[0maxis\u001b[0m \u001b[1;32mis\u001b[0m \u001b[1;32mnot\u001b[0m \u001b[1;32mNone\u001b[0m\u001b[1;33m:\u001b[0m\u001b[1;33m\u001b[0m\u001b[0m\n\u001b[1;32m-> 1744\u001b[1;33m                 nbins = max(min(self.axis.get_tick_space(), 9),\n\u001b[0m\u001b[0;32m   1745\u001b[0m                             max(1, self._min_n_ticks - 1))\n\u001b[0;32m   1746\u001b[0m             \u001b[1;32melse\u001b[0m\u001b[1;33m:\u001b[0m\u001b[1;33m\u001b[0m\u001b[0m\n",
      "\u001b[1;32mc:\\python36\\lib\\site-packages\\matplotlib\\axis.py\u001b[0m in \u001b[0;36mget_tick_space\u001b[1;34m(self)\u001b[0m\n\u001b[0;32m   2352\u001b[0m         \u001b[0mends\u001b[0m \u001b[1;33m=\u001b[0m \u001b[0mself\u001b[0m\u001b[1;33m.\u001b[0m\u001b[0maxes\u001b[0m\u001b[1;33m.\u001b[0m\u001b[0mtransAxes\u001b[0m\u001b[1;33m.\u001b[0m\u001b[0mtransform\u001b[0m\u001b[1;33m(\u001b[0m\u001b[1;33m[\u001b[0m\u001b[1;33m[\u001b[0m\u001b[1;36m0\u001b[0m\u001b[1;33m,\u001b[0m \u001b[1;36m0\u001b[0m\u001b[1;33m]\u001b[0m\u001b[1;33m,\u001b[0m \u001b[1;33m[\u001b[0m\u001b[1;36m0\u001b[0m\u001b[1;33m,\u001b[0m \u001b[1;36m1\u001b[0m\u001b[1;33m]\u001b[0m\u001b[1;33m]\u001b[0m\u001b[1;33m)\u001b[0m\u001b[1;33m\u001b[0m\u001b[0m\n\u001b[0;32m   2353\u001b[0m         \u001b[0mlength\u001b[0m \u001b[1;33m=\u001b[0m \u001b[1;33m(\u001b[0m\u001b[1;33m(\u001b[0m\u001b[0mends\u001b[0m\u001b[1;33m[\u001b[0m\u001b[1;36m1\u001b[0m\u001b[1;33m]\u001b[0m\u001b[1;33m[\u001b[0m\u001b[1;36m1\u001b[0m\u001b[1;33m]\u001b[0m \u001b[1;33m-\u001b[0m \u001b[0mends\u001b[0m\u001b[1;33m[\u001b[0m\u001b[1;36m0\u001b[0m\u001b[1;33m]\u001b[0m\u001b[1;33m[\u001b[0m\u001b[1;36m1\u001b[0m\u001b[1;33m]\u001b[0m\u001b[1;33m)\u001b[0m \u001b[1;33m/\u001b[0m \u001b[0mself\u001b[0m\u001b[1;33m.\u001b[0m\u001b[0maxes\u001b[0m\u001b[1;33m.\u001b[0m\u001b[0mfigure\u001b[0m\u001b[1;33m.\u001b[0m\u001b[0mdpi\u001b[0m\u001b[1;33m)\u001b[0m \u001b[1;33m*\u001b[0m \u001b[1;36m72.0\u001b[0m\u001b[1;33m\u001b[0m\u001b[0m\n\u001b[1;32m-> 2354\u001b[1;33m         \u001b[0mtick\u001b[0m \u001b[1;33m=\u001b[0m \u001b[0mself\u001b[0m\u001b[1;33m.\u001b[0m\u001b[0m_get_tick\u001b[0m\u001b[1;33m(\u001b[0m\u001b[1;32mTrue\u001b[0m\u001b[1;33m)\u001b[0m\u001b[1;33m\u001b[0m\u001b[0m\n\u001b[0m\u001b[0;32m   2355\u001b[0m         \u001b[1;31m# Having a spacing of at least 2 just looks good.\u001b[0m\u001b[1;33m\u001b[0m\u001b[1;33m\u001b[0m\u001b[0m\n\u001b[0;32m   2356\u001b[0m         \u001b[0msize\u001b[0m \u001b[1;33m=\u001b[0m \u001b[0mtick\u001b[0m\u001b[1;33m.\u001b[0m\u001b[0mlabel1\u001b[0m\u001b[1;33m.\u001b[0m\u001b[0mget_size\u001b[0m\u001b[1;33m(\u001b[0m\u001b[1;33m)\u001b[0m \u001b[1;33m*\u001b[0m \u001b[1;36m2.0\u001b[0m\u001b[1;33m\u001b[0m\u001b[0m\n",
      "\u001b[1;32mc:\\python36\\lib\\site-packages\\matplotlib\\axis.py\u001b[0m in \u001b[0;36m_get_tick\u001b[1;34m(self, major)\u001b[0m\n\u001b[0;32m   2055\u001b[0m         \u001b[1;32melse\u001b[0m\u001b[1;33m:\u001b[0m\u001b[1;33m\u001b[0m\u001b[0m\n\u001b[0;32m   2056\u001b[0m             \u001b[0mtick_kw\u001b[0m \u001b[1;33m=\u001b[0m \u001b[0mself\u001b[0m\u001b[1;33m.\u001b[0m\u001b[0m_minor_tick_kw\u001b[0m\u001b[1;33m\u001b[0m\u001b[0m\n\u001b[1;32m-> 2057\u001b[1;33m         \u001b[1;32mreturn\u001b[0m \u001b[0mYTick\u001b[0m\u001b[1;33m(\u001b[0m\u001b[0mself\u001b[0m\u001b[1;33m.\u001b[0m\u001b[0maxes\u001b[0m\u001b[1;33m,\u001b[0m \u001b[1;36m0\u001b[0m\u001b[1;33m,\u001b[0m \u001b[1;34m''\u001b[0m\u001b[1;33m,\u001b[0m \u001b[0mmajor\u001b[0m\u001b[1;33m=\u001b[0m\u001b[0mmajor\u001b[0m\u001b[1;33m,\u001b[0m \u001b[1;33m**\u001b[0m\u001b[0mtick_kw\u001b[0m\u001b[1;33m)\u001b[0m\u001b[1;33m\u001b[0m\u001b[0m\n\u001b[0m\u001b[0;32m   2058\u001b[0m \u001b[1;33m\u001b[0m\u001b[0m\n\u001b[0;32m   2059\u001b[0m     \u001b[1;32mdef\u001b[0m \u001b[0m_get_label\u001b[0m\u001b[1;33m(\u001b[0m\u001b[0mself\u001b[0m\u001b[1;33m)\u001b[0m\u001b[1;33m:\u001b[0m\u001b[1;33m\u001b[0m\u001b[0m\n",
      "\u001b[1;32mc:\\python36\\lib\\site-packages\\matplotlib\\axis.py\u001b[0m in \u001b[0;36m__init__\u001b[1;34m(self, axes, loc, label, size, width, color, tickdir, pad, labelsize, labelcolor, zorder, gridOn, tick1On, tick2On, label1On, label2On, major)\u001b[0m\n\u001b[0;32m    149\u001b[0m \u001b[1;33m\u001b[0m\u001b[0m\n\u001b[0;32m    150\u001b[0m         \u001b[0mself\u001b[0m\u001b[1;33m.\u001b[0m\u001b[0mtick1line\u001b[0m \u001b[1;33m=\u001b[0m \u001b[0mself\u001b[0m\u001b[1;33m.\u001b[0m\u001b[0m_get_tick1line\u001b[0m\u001b[1;33m(\u001b[0m\u001b[1;33m)\u001b[0m\u001b[1;33m\u001b[0m\u001b[0m\n\u001b[1;32m--> 151\u001b[1;33m         \u001b[0mself\u001b[0m\u001b[1;33m.\u001b[0m\u001b[0mtick2line\u001b[0m \u001b[1;33m=\u001b[0m \u001b[0mself\u001b[0m\u001b[1;33m.\u001b[0m\u001b[0m_get_tick2line\u001b[0m\u001b[1;33m(\u001b[0m\u001b[1;33m)\u001b[0m\u001b[1;33m\u001b[0m\u001b[0m\n\u001b[0m\u001b[0;32m    152\u001b[0m         \u001b[0mself\u001b[0m\u001b[1;33m.\u001b[0m\u001b[0mgridline\u001b[0m \u001b[1;33m=\u001b[0m \u001b[0mself\u001b[0m\u001b[1;33m.\u001b[0m\u001b[0m_get_gridline\u001b[0m\u001b[1;33m(\u001b[0m\u001b[1;33m)\u001b[0m\u001b[1;33m\u001b[0m\u001b[0m\n\u001b[0;32m    153\u001b[0m \u001b[1;33m\u001b[0m\u001b[0m\n",
      "\u001b[1;32mc:\\python36\\lib\\site-packages\\matplotlib\\axis.py\u001b[0m in \u001b[0;36m_get_tick2line\u001b[1;34m(self)\u001b[0m\n\u001b[0;32m    568\u001b[0m                           \u001b[0mmarkersize\u001b[0m\u001b[1;33m=\u001b[0m\u001b[0mself\u001b[0m\u001b[1;33m.\u001b[0m\u001b[0m_size\u001b[0m\u001b[1;33m,\u001b[0m\u001b[1;33m\u001b[0m\u001b[0m\n\u001b[0;32m    569\u001b[0m                           \u001b[0mmarkeredgewidth\u001b[0m\u001b[1;33m=\u001b[0m\u001b[0mself\u001b[0m\u001b[1;33m.\u001b[0m\u001b[0m_width\u001b[0m\u001b[1;33m,\u001b[0m\u001b[1;33m\u001b[0m\u001b[0m\n\u001b[1;32m--> 570\u001b[1;33m                           zorder=self._zorder)\n\u001b[0m\u001b[0;32m    571\u001b[0m         \u001b[0ml\u001b[0m\u001b[1;33m.\u001b[0m\u001b[0mset_transform\u001b[0m\u001b[1;33m(\u001b[0m\u001b[0mself\u001b[0m\u001b[1;33m.\u001b[0m\u001b[0maxes\u001b[0m\u001b[1;33m.\u001b[0m\u001b[0mget_yaxis_transform\u001b[0m\u001b[1;33m(\u001b[0m\u001b[0mwhich\u001b[0m\u001b[1;33m=\u001b[0m\u001b[1;34m'tick2'\u001b[0m\u001b[1;33m)\u001b[0m\u001b[1;33m)\u001b[0m\u001b[1;33m\u001b[0m\u001b[0m\n\u001b[0;32m    572\u001b[0m         \u001b[0mself\u001b[0m\u001b[1;33m.\u001b[0m\u001b[0m_set_artist_props\u001b[0m\u001b[1;33m(\u001b[0m\u001b[0ml\u001b[0m\u001b[1;33m)\u001b[0m\u001b[1;33m\u001b[0m\u001b[0m\n",
      "\u001b[1;32mc:\\python36\\lib\\site-packages\\matplotlib\\lines.py\u001b[0m in \u001b[0;36m__init__\u001b[1;34m(self, xdata, ydata, linewidth, linestyle, color, marker, markersize, markeredgewidth, markeredgecolor, markerfacecolor, markerfacecoloralt, fillstyle, antialiased, dash_capstyle, solid_capstyle, dash_joinstyle, solid_joinstyle, pickradius, drawstyle, markevery, **kwargs)\u001b[0m\n\u001b[0;32m    403\u001b[0m         \u001b[0mself\u001b[0m\u001b[1;33m.\u001b[0m\u001b[0mset_color\u001b[0m\u001b[1;33m(\u001b[0m\u001b[0mcolor\u001b[0m\u001b[1;33m)\u001b[0m\u001b[1;33m\u001b[0m\u001b[0m\n\u001b[0;32m    404\u001b[0m         \u001b[0mself\u001b[0m\u001b[1;33m.\u001b[0m\u001b[0m_marker\u001b[0m \u001b[1;33m=\u001b[0m \u001b[0mMarkerStyle\u001b[0m\u001b[1;33m(\u001b[0m\u001b[1;33m)\u001b[0m\u001b[1;33m\u001b[0m\u001b[0m\n\u001b[1;32m--> 405\u001b[1;33m         \u001b[0mself\u001b[0m\u001b[1;33m.\u001b[0m\u001b[0mset_marker\u001b[0m\u001b[1;33m(\u001b[0m\u001b[0mmarker\u001b[0m\u001b[1;33m)\u001b[0m\u001b[1;33m\u001b[0m\u001b[0m\n\u001b[0m\u001b[0;32m    406\u001b[0m \u001b[1;33m\u001b[0m\u001b[0m\n\u001b[0;32m    407\u001b[0m         \u001b[0mself\u001b[0m\u001b[1;33m.\u001b[0m\u001b[0m_markevery\u001b[0m \u001b[1;33m=\u001b[0m \u001b[1;32mNone\u001b[0m\u001b[1;33m\u001b[0m\u001b[0m\n",
      "\u001b[1;32mc:\\python36\\lib\\site-packages\\matplotlib\\lines.py\u001b[0m in \u001b[0;36mset_marker\u001b[1;34m(self, marker)\u001b[0m\n\u001b[0;32m   1169\u001b[0m \u001b[1;33m\u001b[0m\u001b[0m\n\u001b[0;32m   1170\u001b[0m         \"\"\"\n\u001b[1;32m-> 1171\u001b[1;33m         \u001b[0mself\u001b[0m\u001b[1;33m.\u001b[0m\u001b[0m_marker\u001b[0m\u001b[1;33m.\u001b[0m\u001b[0mset_marker\u001b[0m\u001b[1;33m(\u001b[0m\u001b[0mmarker\u001b[0m\u001b[1;33m)\u001b[0m\u001b[1;33m\u001b[0m\u001b[0m\n\u001b[0m\u001b[0;32m   1172\u001b[0m         \u001b[0mself\u001b[0m\u001b[1;33m.\u001b[0m\u001b[0mstale\u001b[0m \u001b[1;33m=\u001b[0m \u001b[1;32mTrue\u001b[0m\u001b[1;33m\u001b[0m\u001b[0m\n\u001b[0;32m   1173\u001b[0m \u001b[1;33m\u001b[0m\u001b[0m\n",
      "\u001b[1;32mc:\\python36\\lib\\site-packages\\matplotlib\\markers.py\u001b[0m in \u001b[0;36mset_marker\u001b[1;34m(self, marker)\u001b[0m\n\u001b[0;32m    268\u001b[0m \u001b[1;33m\u001b[0m\u001b[0m\n\u001b[0;32m    269\u001b[0m         \u001b[0mself\u001b[0m\u001b[1;33m.\u001b[0m\u001b[0m_marker\u001b[0m \u001b[1;33m=\u001b[0m \u001b[0mmarker\u001b[0m\u001b[1;33m\u001b[0m\u001b[0m\n\u001b[1;32m--> 270\u001b[1;33m         \u001b[0mself\u001b[0m\u001b[1;33m.\u001b[0m\u001b[0m_recache\u001b[0m\u001b[1;33m(\u001b[0m\u001b[1;33m)\u001b[0m\u001b[1;33m\u001b[0m\u001b[0m\n\u001b[0m\u001b[0;32m    271\u001b[0m \u001b[1;33m\u001b[0m\u001b[0m\n\u001b[0;32m    272\u001b[0m     \u001b[1;32mdef\u001b[0m \u001b[0mget_path\u001b[0m\u001b[1;33m(\u001b[0m\u001b[0mself\u001b[0m\u001b[1;33m)\u001b[0m\u001b[1;33m:\u001b[0m\u001b[1;33m\u001b[0m\u001b[0m\n",
      "\u001b[1;32mc:\\python36\\lib\\site-packages\\matplotlib\\markers.py\u001b[0m in \u001b[0;36m_recache\u001b[1;34m(self)\u001b[0m\n\u001b[0;32m    206\u001b[0m         \u001b[0mself\u001b[0m\u001b[1;33m.\u001b[0m\u001b[0m_capstyle\u001b[0m \u001b[1;33m=\u001b[0m \u001b[1;34m'butt'\u001b[0m\u001b[1;33m\u001b[0m\u001b[0m\n\u001b[0;32m    207\u001b[0m         \u001b[0mself\u001b[0m\u001b[1;33m.\u001b[0m\u001b[0m_filled\u001b[0m \u001b[1;33m=\u001b[0m \u001b[1;32mTrue\u001b[0m\u001b[1;33m\u001b[0m\u001b[0m\n\u001b[1;32m--> 208\u001b[1;33m         \u001b[0mself\u001b[0m\u001b[1;33m.\u001b[0m\u001b[0m_marker_function\u001b[0m\u001b[1;33m(\u001b[0m\u001b[1;33m)\u001b[0m\u001b[1;33m\u001b[0m\u001b[0m\n\u001b[0m\u001b[0;32m    209\u001b[0m \u001b[1;33m\u001b[0m\u001b[0m\n\u001b[0;32m    210\u001b[0m     \u001b[1;32mif\u001b[0m \u001b[0msix\u001b[0m\u001b[1;33m.\u001b[0m\u001b[0mPY3\u001b[0m\u001b[1;33m:\u001b[0m\u001b[1;33m\u001b[0m\u001b[0m\n",
      "\u001b[1;32mc:\\python36\\lib\\site-packages\\matplotlib\\markers.py\u001b[0m in \u001b[0;36m_set_tickright\u001b[1;34m(self)\u001b[0m\n\u001b[0;32m    704\u001b[0m \u001b[1;33m\u001b[0m\u001b[0m\n\u001b[0;32m    705\u001b[0m     \u001b[1;32mdef\u001b[0m \u001b[0m_set_tickright\u001b[0m\u001b[1;33m(\u001b[0m\u001b[0mself\u001b[0m\u001b[1;33m)\u001b[0m\u001b[1;33m:\u001b[0m\u001b[1;33m\u001b[0m\u001b[0m\n\u001b[1;32m--> 706\u001b[1;33m         \u001b[0mself\u001b[0m\u001b[1;33m.\u001b[0m\u001b[0m_transform\u001b[0m \u001b[1;33m=\u001b[0m \u001b[0mAffine2D\u001b[0m\u001b[1;33m(\u001b[0m\u001b[1;33m)\u001b[0m\u001b[1;33m.\u001b[0m\u001b[0mscale\u001b[0m\u001b[1;33m(\u001b[0m\u001b[1;36m1.0\u001b[0m\u001b[1;33m,\u001b[0m \u001b[1;36m1.0\u001b[0m\u001b[1;33m)\u001b[0m\u001b[1;33m\u001b[0m\u001b[0m\n\u001b[0m\u001b[0;32m    707\u001b[0m         \u001b[0mself\u001b[0m\u001b[1;33m.\u001b[0m\u001b[0m_snap_threshold\u001b[0m \u001b[1;33m=\u001b[0m \u001b[1;36m1.0\u001b[0m\u001b[1;33m\u001b[0m\u001b[0m\n\u001b[0;32m    708\u001b[0m         \u001b[0mself\u001b[0m\u001b[1;33m.\u001b[0m\u001b[0m_filled\u001b[0m \u001b[1;33m=\u001b[0m \u001b[1;32mFalse\u001b[0m\u001b[1;33m\u001b[0m\u001b[0m\n",
      "\u001b[1;32mc:\\python36\\lib\\site-packages\\matplotlib\\transforms.py\u001b[0m in \u001b[0;36mscale\u001b[1;34m(self, sx, sy)\u001b[0m\n\u001b[0;32m   1986\u001b[0m             \u001b[1;33m[\u001b[0m\u001b[1;33m[\u001b[0m\u001b[0msx\u001b[0m\u001b[1;33m,\u001b[0m \u001b[1;36m0.0\u001b[0m\u001b[1;33m,\u001b[0m \u001b[1;36m0.0\u001b[0m\u001b[1;33m]\u001b[0m\u001b[1;33m,\u001b[0m \u001b[1;33m[\u001b[0m\u001b[1;36m0.0\u001b[0m\u001b[1;33m,\u001b[0m \u001b[0msy\u001b[0m\u001b[1;33m,\u001b[0m \u001b[1;36m0.0\u001b[0m\u001b[1;33m]\u001b[0m\u001b[1;33m,\u001b[0m \u001b[1;33m[\u001b[0m\u001b[1;36m0.0\u001b[0m\u001b[1;33m,\u001b[0m \u001b[1;36m0.0\u001b[0m\u001b[1;33m,\u001b[0m \u001b[1;36m1.0\u001b[0m\u001b[1;33m]\u001b[0m\u001b[1;33m]\u001b[0m\u001b[1;33m,\u001b[0m\u001b[1;33m\u001b[0m\u001b[0m\n\u001b[0;32m   1987\u001b[0m             np.float_)\n\u001b[1;32m-> 1988\u001b[1;33m         \u001b[0mself\u001b[0m\u001b[1;33m.\u001b[0m\u001b[0m_mtx\u001b[0m \u001b[1;33m=\u001b[0m \u001b[0mnp\u001b[0m\u001b[1;33m.\u001b[0m\u001b[0mdot\u001b[0m\u001b[1;33m(\u001b[0m\u001b[0mscale_mtx\u001b[0m\u001b[1;33m,\u001b[0m \u001b[0mself\u001b[0m\u001b[1;33m.\u001b[0m\u001b[0m_mtx\u001b[0m\u001b[1;33m)\u001b[0m\u001b[1;33m\u001b[0m\u001b[0m\n\u001b[0m\u001b[0;32m   1989\u001b[0m         \u001b[0mself\u001b[0m\u001b[1;33m.\u001b[0m\u001b[0minvalidate\u001b[0m\u001b[1;33m(\u001b[0m\u001b[1;33m)\u001b[0m\u001b[1;33m\u001b[0m\u001b[0m\n\u001b[0;32m   1990\u001b[0m         \u001b[1;32mreturn\u001b[0m \u001b[0mself\u001b[0m\u001b[1;33m\u001b[0m\u001b[0m\n",
      "\u001b[1;31mKeyboardInterrupt\u001b[0m: "
     ]
    },
    {
     "ename": "RuntimeError",
     "evalue": "You must first define an image, e.g., with imshow",
     "output_type": "error",
     "traceback": [
      "\u001b[1;31m---------------------------------------------------------------------------\u001b[0m",
      "\u001b[1;31mRuntimeError\u001b[0m                              Traceback (most recent call last)",
      "\u001b[1;32m<ipython-input-55-552c0a07f205>\u001b[0m in \u001b[0;36m<module>\u001b[1;34m()\u001b[0m\n\u001b[0;32m     11\u001b[0m             \u001b[1;33m(\u001b[0m\u001b[0mvoltages\u001b[0m\u001b[1;33m,\u001b[0m \u001b[0mvoltage_setter\u001b[0m\u001b[1;33m,\u001b[0m \u001b[1;34m'Coil dac voltage #{0}'\u001b[0m\u001b[1;33m.\u001b[0m\u001b[0mformat\u001b[0m\u001b[1;33m(\u001b[0m\u001b[0mchannel_id\u001b[0m\u001b[1;33m)\u001b[0m\u001b[1;33m)\u001b[0m\u001b[1;33m,\u001b[0m\u001b[1;33m\u001b[0m\u001b[0m\n\u001b[0;32m     12\u001b[0m             \u001b[1;33m(\u001b[0m\u001b[0mfreqs\u001b[0m\u001b[1;33m,\u001b[0m \u001b[0mlo1\u001b[0m\u001b[1;33m.\u001b[0m\u001b[0mset_frequency\u001b[0m\u001b[1;33m,\u001b[0m \u001b[1;34m'Second tone frequncy'\u001b[0m\u001b[1;33m)\u001b[0m\u001b[1;33m,\u001b[0m\u001b[1;33m\u001b[0m\u001b[0m\n\u001b[1;32m---> 13\u001b[1;33m             filename='Hivemind two-tone res2 coil #{0}'.format(channel_id))\n\u001b[0m\u001b[0;32m     14\u001b[0m     \u001b[0mdac\u001b[0m\u001b[1;33m.\u001b[0m\u001b[0mset_voltage\u001b[0m\u001b[1;33m(\u001b[0m\u001b[0mchannel_id\u001b[0m\u001b[1;33m,\u001b[0m \u001b[1;36m0.\u001b[0m\u001b[1;33m)\u001b[0m\u001b[1;33m\u001b[0m\u001b[0m\n",
      "\u001b[1;32mD:\\qtlab_replacement\\scripts\\sweep.py\u001b[0m in \u001b[0;36msweep\u001b[1;34m(measurer, filename, root_dir, plot, header, output, save, time_war_label, cycle_save_mode, *params)\u001b[0m\n\u001b[0;32m    172\u001b[0m                         \u001b[1;32mif\u001b[0m \u001b[0mplot\u001b[0m\u001b[1;33m:\u001b[0m\u001b[1;33m\u001b[0m\u001b[0m\n\u001b[0;32m    173\u001b[0m                                 \u001b[1;32mif\u001b[0m \u001b[0mplot_update_start\u001b[0m \u001b[1;33m-\u001b[0m \u001b[0mlast_plot_update\u001b[0m \u001b[1;33m>\u001b[0m \u001b[1;36m10\u001b[0m\u001b[1;33m*\u001b[0m\u001b[0mplot_update_time\u001b[0m\u001b[1;33m:\u001b[0m\u001b[1;33m\u001b[0m\u001b[0m\n\u001b[1;32m--> 174\u001b[1;33m                                         \u001b[0mplotting\u001b[0m\u001b[1;33m.\u001b[0m\u001b[0mupdate_plot_measurement\u001b[0m\u001b[1;33m(\u001b[0m\u001b[0mmk_measurement\u001b[0m\u001b[1;33m(\u001b[0m\u001b[1;36m0\u001b[0m\u001b[1;33m)\u001b[0m\u001b[1;33m,\u001b[0m \u001b[0mplot_axes\u001b[0m\u001b[1;33m)\u001b[0m\u001b[1;33m\u001b[0m\u001b[0m\n\u001b[0m\u001b[0;32m    175\u001b[0m \t\t\t'''\n\u001b[0;32m    176\u001b[0m                                 \u001b[1;32mif\u001b[0m \u001b[0mplot_windows\u001b[0m\u001b[1;33m[\u001b[0m\u001b[0mmname\u001b[0m\u001b[1;33m]\u001b[0m\u001b[1;33m:\u001b[0m\u001b[1;33m\u001b[0m\u001b[0m\n",
      "\u001b[1;32mD:\\qtlab_replacement\\scripts\\plotting.py\u001b[0m in \u001b[0;36mupdate_plot_measurement\u001b[1;34m(measurement, axes)\u001b[0m\n\u001b[0;32m    136\u001b[0m                 \u001b[1;32mfor\u001b[0m \u001b[0mplot_name\u001b[0m\u001b[1;33m,\u001b[0m \u001b[0mplot\u001b[0m \u001b[1;32min\u001b[0m \u001b[0max\u001b[0m\u001b[1;33m[\u001b[0m\u001b[1;34m'plots'\u001b[0m\u001b[1;33m]\u001b[0m\u001b[1;33m.\u001b[0m\u001b[0mitems\u001b[0m\u001b[1;33m(\u001b[0m\u001b[1;33m)\u001b[0m\u001b[1;33m:\u001b[0m\u001b[1;33m\u001b[0m\u001b[0m\n\u001b[0;32m    137\u001b[0m                         \u001b[0mmeas\u001b[0m\u001b[1;33m[\u001b[0m\u001b[0mplot_name\u001b[0m\u001b[1;33m]\u001b[0m \u001b[1;33m=\u001b[0m \u001b[1;33m(\u001b[0m\u001b[0mmeasurement\u001b[0m\u001b[1;33m[\u001b[0m\u001b[0mplot\u001b[0m\u001b[1;33m[\u001b[0m\u001b[1;34m'mname'\u001b[0m\u001b[1;33m]\u001b[0m\u001b[1;33m]\u001b[0m\u001b[1;33m[\u001b[0m\u001b[1;36m0\u001b[0m\u001b[1;33m]\u001b[0m\u001b[1;33m,\u001b[0m \u001b[0mmeasurement\u001b[0m\u001b[1;33m[\u001b[0m\u001b[0mplot\u001b[0m\u001b[1;33m[\u001b[0m\u001b[1;34m'mname'\u001b[0m\u001b[1;33m]\u001b[0m\u001b[1;33m]\u001b[0m\u001b[1;33m[\u001b[0m\u001b[1;36m1\u001b[0m\u001b[1;33m]\u001b[0m\u001b[1;33m,\u001b[0m \u001b[0mplot\u001b[0m\u001b[1;33m[\u001b[0m\u001b[1;34m'filter'\u001b[0m\u001b[1;33m]\u001b[0m\u001b[1;33m(\u001b[0m\u001b[0mmeasurement\u001b[0m\u001b[1;33m[\u001b[0m\u001b[0mplot\u001b[0m\u001b[1;33m[\u001b[0m\u001b[1;34m'mname'\u001b[0m\u001b[1;33m]\u001b[0m\u001b[1;33m]\u001b[0m\u001b[1;33m[\u001b[0m\u001b[1;36m2\u001b[0m\u001b[1;33m]\u001b[0m\u001b[1;33m)\u001b[0m\u001b[1;33m)\u001b[0m\u001b[1;33m\u001b[0m\u001b[0m\n\u001b[1;32m--> 138\u001b[1;33m                 \u001b[0mplots\u001b[0m \u001b[1;33m=\u001b[0m \u001b[0mupdate_plot_measurement_sa\u001b[0m\u001b[1;33m(\u001b[0m\u001b[0mmeas\u001b[0m\u001b[1;33m,\u001b[0m \u001b[0max\u001b[0m\u001b[1;33m)\u001b[0m\u001b[1;33m\u001b[0m\u001b[0m\n\u001b[0m\u001b[0;32m    139\u001b[0m \u001b[1;33m\u001b[0m\u001b[0m\n\u001b[0;32m    140\u001b[0m \u001b[1;31m# Plots all data on a single axis with given annotations.\u001b[0m\u001b[1;33m\u001b[0m\u001b[1;33m\u001b[0m\u001b[0m\n",
      "\u001b[1;32mD:\\qtlab_replacement\\scripts\\plotting.py\u001b[0m in \u001b[0;36mupdate_plot_measurement_sa\u001b[1;34m(measurement, plots)\u001b[0m\n\u001b[0;32m    245\u001b[0m                                 \u001b[0mdata\u001b[0m \u001b[1;33m=\u001b[0m \u001b[0mdata\u001b[0m\u001b[1;33m.\u001b[0m\u001b[0mT\u001b[0m\u001b[1;33m\u001b[0m\u001b[0m\n\u001b[0;32m    246\u001b[0m                         \u001b[0mplot\u001b[0m\u001b[1;33m.\u001b[0m\u001b[0mset_data\u001b[0m\u001b[1;33m(\u001b[0m\u001b[0mdata\u001b[0m\u001b[1;33m)\u001b[0m\u001b[1;33m\u001b[0m\u001b[0m\n\u001b[1;32m--> 247\u001b[1;33m                         \u001b[0mplt\u001b[0m\u001b[1;33m.\u001b[0m\u001b[0mclim\u001b[0m\u001b[1;33m(\u001b[0m\u001b[0mnp\u001b[0m\u001b[1;33m.\u001b[0m\u001b[0mnanmin\u001b[0m\u001b[1;33m(\u001b[0m\u001b[0mdata\u001b[0m\u001b[1;33m)\u001b[0m\u001b[1;33m,\u001b[0m \u001b[0mnp\u001b[0m\u001b[1;33m.\u001b[0m\u001b[0mnanmax\u001b[0m\u001b[1;33m(\u001b[0m\u001b[0mdata\u001b[0m\u001b[1;33m)\u001b[0m\u001b[1;33m)\u001b[0m\u001b[1;33m\u001b[0m\u001b[0m\n\u001b[0m\u001b[0;32m    248\u001b[0m                 \u001b[0mplt\u001b[0m\u001b[1;33m.\u001b[0m\u001b[0mdraw\u001b[0m\u001b[1;33m(\u001b[0m\u001b[1;33m)\u001b[0m\u001b[1;33m\u001b[0m\u001b[0m\n\u001b[0;32m    249\u001b[0m         \u001b[0mplt\u001b[0m\u001b[1;33m.\u001b[0m\u001b[0mpause\u001b[0m\u001b[1;33m(\u001b[0m\u001b[1;36m0.05\u001b[0m\u001b[1;33m)\u001b[0m\u001b[1;33m\u001b[0m\u001b[0m\n",
      "\u001b[1;32mc:\\python36\\lib\\site-packages\\matplotlib\\pyplot.py\u001b[0m in \u001b[0;36mclim\u001b[1;34m(vmin, vmax)\u001b[0m\n\u001b[0;32m   2285\u001b[0m     \u001b[0mim\u001b[0m \u001b[1;33m=\u001b[0m \u001b[0mgci\u001b[0m\u001b[1;33m(\u001b[0m\u001b[1;33m)\u001b[0m\u001b[1;33m\u001b[0m\u001b[0m\n\u001b[0;32m   2286\u001b[0m     \u001b[1;32mif\u001b[0m \u001b[0mim\u001b[0m \u001b[1;32mis\u001b[0m \u001b[1;32mNone\u001b[0m\u001b[1;33m:\u001b[0m\u001b[1;33m\u001b[0m\u001b[0m\n\u001b[1;32m-> 2287\u001b[1;33m         \u001b[1;32mraise\u001b[0m \u001b[0mRuntimeError\u001b[0m\u001b[1;33m(\u001b[0m\u001b[1;34m'You must first define an image, e.g., with imshow'\u001b[0m\u001b[1;33m)\u001b[0m\u001b[1;33m\u001b[0m\u001b[0m\n\u001b[0m\u001b[0;32m   2288\u001b[0m \u001b[1;33m\u001b[0m\u001b[0m\n\u001b[0;32m   2289\u001b[0m     \u001b[0mim\u001b[0m\u001b[1;33m.\u001b[0m\u001b[0mset_clim\u001b[0m\u001b[1;33m(\u001b[0m\u001b[0mvmin\u001b[0m\u001b[1;33m,\u001b[0m \u001b[0mvmax\u001b[0m\u001b[1;33m)\u001b[0m\u001b[1;33m\u001b[0m\u001b[0m\n",
      "\u001b[1;31mRuntimeError\u001b[0m: You must first define an image, e.g., with imshow"
     ]
    }
   ],
   "source": [
    "#pna.set_xlim(9.479e9, 9.479e9)\n",
    "#pna.set_nop(1)\n",
    "pna.set_power(-45)\n",
    "pna.set_bandwidth(10)\n",
    "#lo1.set_power(5)\n",
    "#freqs = np.linspace(6.5e9, 9e9, 251)\n",
    "voltages = np.linspace(-4, 4, 101)\n",
    "for channel_id in [0,1,2,3,4,5,6,7,8,9,10,11,12,13,15,16,17,18,19,20,21,22,23,24]:\n",
    "    voltage_setter = lambda x: dac.set_voltage(channel_id, x);\n",
    "    sweep.sweep(pna, \n",
    "            (voltages, voltage_setter, 'Coil dac voltage #{0}'.format(channel_id)),\n",
    "            (freqs, lo1.set_frequency, 'Second tone frequncy'), \n",
    "            filename='Hivemind two-tone res2 coil #{0}'.format(channel_id))\n",
    "    dac.set_voltage(channel_id, 0.)"
   ]
  },
  {
   "cell_type": "code",
   "execution_count": 44,
   "metadata": {},
   "outputs": [
    {
     "data": {
      "text/plain": [
       "0"
      ]
     },
     "execution_count": 44,
     "metadata": {},
     "output_type": "execute_result"
    }
   ],
   "source": [
    "current_src.get_status()"
   ]
  },
  {
   "cell_type": "code",
   "execution_count": 8,
   "metadata": {
    "scrolled": true
   },
   "outputs": [
    {
     "data": {
      "application/vnd.jupyter.widget-view+json": {
       "model_id": "5b7294ff22764153b334eb45925fbac2"
      }
     },
     "metadata": {},
     "output_type": "display_data"
    },
    {
     "name": "stdout",
     "output_type": "stream",
     "text": [
      "Started at:  Jan 22 2018 12:11:59\n",
      "\n",
      "Elapsed time: 0 h 1 m 7.71 s\n"
     ]
    },
    {
     "data": {
      "text/plain": [
       "{'S-parameter': (('Control voltage', 'Frequency'),\n",
       "  (array([ 0.    ,  0.0005,  0.001 ,  0.0015,  0.002 ,  0.0025,  0.003 ,\n",
       "           0.0035,  0.004 ,  0.0045,  0.005 ,  0.0055,  0.006 ,  0.0065,\n",
       "           0.007 ,  0.0075,  0.008 ,  0.0085,  0.009 ,  0.0095,  0.01  ,\n",
       "           0.0105,  0.011 ,  0.0115,  0.012 ,  0.0125,  0.013 ,  0.0135,\n",
       "           0.014 ,  0.0145,  0.015 ,  0.0155,  0.016 ,  0.0165,  0.017 ,\n",
       "           0.0175,  0.018 ,  0.0185,  0.019 ,  0.0195,  0.02  ]),\n",
       "   array([  7.00000000e+09,   7.00500000e+09,   7.01000000e+09,\n",
       "            7.01500000e+09,   7.02000000e+09,   7.02500000e+09,\n",
       "            7.03000000e+09,   7.03500000e+09,   7.04000000e+09,\n",
       "            7.04500000e+09,   7.05000000e+09,   7.05500000e+09,\n",
       "            7.06000000e+09,   7.06500000e+09,   7.07000000e+09,\n",
       "            7.07500000e+09,   7.08000000e+09,   7.08500000e+09,\n",
       "            7.09000000e+09,   7.09500000e+09,   7.10000000e+09,\n",
       "            7.10500000e+09,   7.11000000e+09,   7.11500000e+09,\n",
       "            7.12000000e+09,   7.12500000e+09,   7.13000000e+09,\n",
       "            7.13500000e+09,   7.14000000e+09,   7.14500000e+09,\n",
       "            7.15000000e+09,   7.15500000e+09,   7.16000000e+09,\n",
       "            7.16500000e+09,   7.17000000e+09,   7.17500000e+09,\n",
       "            7.18000000e+09,   7.18500000e+09,   7.19000000e+09,\n",
       "            7.19500000e+09,   7.20000000e+09,   7.20500000e+09,\n",
       "            7.21000000e+09,   7.21500000e+09,   7.22000000e+09,\n",
       "            7.22500000e+09,   7.23000000e+09,   7.23500000e+09,\n",
       "            7.24000000e+09,   7.24500000e+09,   7.25000000e+09,\n",
       "            7.25500000e+09,   7.26000000e+09,   7.26500000e+09,\n",
       "            7.27000000e+09,   7.27500000e+09,   7.28000000e+09,\n",
       "            7.28500000e+09,   7.29000000e+09,   7.29500000e+09,\n",
       "            7.30000000e+09,   7.30500000e+09,   7.31000000e+09,\n",
       "            7.31500000e+09,   7.32000000e+09,   7.32500000e+09,\n",
       "            7.33000000e+09,   7.33500000e+09,   7.34000000e+09,\n",
       "            7.34500000e+09,   7.35000000e+09,   7.35500000e+09,\n",
       "            7.36000000e+09,   7.36500000e+09,   7.37000000e+09,\n",
       "            7.37500000e+09,   7.38000000e+09,   7.38500000e+09,\n",
       "            7.39000000e+09,   7.39500000e+09,   7.40000000e+09,\n",
       "            7.40500000e+09,   7.41000000e+09,   7.41500000e+09,\n",
       "            7.42000000e+09,   7.42500000e+09,   7.43000000e+09,\n",
       "            7.43500000e+09,   7.44000000e+09,   7.44500000e+09,\n",
       "            7.45000000e+09,   7.45500000e+09,   7.46000000e+09,\n",
       "            7.46500000e+09,   7.47000000e+09,   7.47500000e+09,\n",
       "            7.48000000e+09,   7.48500000e+09,   7.49000000e+09,\n",
       "            7.49500000e+09,   7.50000000e+09,   7.50500000e+09,\n",
       "            7.51000000e+09,   7.51500000e+09,   7.52000000e+09,\n",
       "            7.52500000e+09,   7.53000000e+09,   7.53500000e+09,\n",
       "            7.54000000e+09,   7.54500000e+09,   7.55000000e+09,\n",
       "            7.55500000e+09,   7.56000000e+09,   7.56500000e+09,\n",
       "            7.57000000e+09,   7.57500000e+09,   7.58000000e+09,\n",
       "            7.58500000e+09,   7.59000000e+09,   7.59500000e+09,\n",
       "            7.60000000e+09,   7.60500000e+09,   7.61000000e+09,\n",
       "            7.61500000e+09,   7.62000000e+09,   7.62500000e+09,\n",
       "            7.63000000e+09,   7.63500000e+09,   7.64000000e+09,\n",
       "            7.64500000e+09,   7.65000000e+09,   7.65500000e+09,\n",
       "            7.66000000e+09,   7.66500000e+09,   7.67000000e+09,\n",
       "            7.67500000e+09,   7.68000000e+09,   7.68500000e+09,\n",
       "            7.69000000e+09,   7.69500000e+09,   7.70000000e+09,\n",
       "            7.70500000e+09,   7.71000000e+09,   7.71500000e+09,\n",
       "            7.72000000e+09,   7.72500000e+09,   7.73000000e+09,\n",
       "            7.73500000e+09,   7.74000000e+09,   7.74500000e+09,\n",
       "            7.75000000e+09,   7.75500000e+09,   7.76000000e+09,\n",
       "            7.76500000e+09,   7.77000000e+09,   7.77500000e+09,\n",
       "            7.78000000e+09,   7.78500000e+09,   7.79000000e+09,\n",
       "            7.79500000e+09,   7.80000000e+09,   7.80500000e+09,\n",
       "            7.81000000e+09,   7.81500000e+09,   7.82000000e+09,\n",
       "            7.82500000e+09,   7.83000000e+09,   7.83500000e+09,\n",
       "            7.84000000e+09,   7.84500000e+09,   7.85000000e+09,\n",
       "            7.85500000e+09,   7.86000000e+09,   7.86500000e+09,\n",
       "            7.87000000e+09,   7.87500000e+09,   7.88000000e+09,\n",
       "            7.88500000e+09,   7.89000000e+09,   7.89500000e+09,\n",
       "            7.90000000e+09,   7.90500000e+09,   7.91000000e+09,\n",
       "            7.91500000e+09,   7.92000000e+09,   7.92500000e+09,\n",
       "            7.93000000e+09,   7.93500000e+09,   7.94000000e+09,\n",
       "            7.94500000e+09,   7.95000000e+09,   7.95500000e+09,\n",
       "            7.96000000e+09,   7.96500000e+09,   7.97000000e+09,\n",
       "            7.97500000e+09,   7.98000000e+09,   7.98500000e+09,\n",
       "            7.99000000e+09,   7.99500000e+09,   8.00000000e+09,\n",
       "            8.00500000e+09,   8.01000000e+09,   8.01500000e+09,\n",
       "            8.02000000e+09,   8.02500000e+09,   8.03000000e+09,\n",
       "            8.03500000e+09,   8.04000000e+09,   8.04500000e+09,\n",
       "            8.05000000e+09,   8.05500000e+09,   8.06000000e+09,\n",
       "            8.06500000e+09,   8.07000000e+09,   8.07500000e+09,\n",
       "            8.08000000e+09,   8.08500000e+09,   8.09000000e+09,\n",
       "            8.09500000e+09,   8.10000000e+09,   8.10500000e+09,\n",
       "            8.11000000e+09,   8.11500000e+09,   8.12000000e+09,\n",
       "            8.12500000e+09,   8.13000000e+09,   8.13500000e+09,\n",
       "            8.14000000e+09,   8.14500000e+09,   8.15000000e+09,\n",
       "            8.15500000e+09,   8.16000000e+09,   8.16500000e+09,\n",
       "            8.17000000e+09,   8.17500000e+09,   8.18000000e+09,\n",
       "            8.18500000e+09,   8.19000000e+09,   8.19500000e+09,\n",
       "            8.20000000e+09,   8.20500000e+09,   8.21000000e+09,\n",
       "            8.21500000e+09,   8.22000000e+09,   8.22500000e+09,\n",
       "            8.23000000e+09,   8.23500000e+09,   8.24000000e+09,\n",
       "            8.24500000e+09,   8.25000000e+09,   8.25500000e+09,\n",
       "            8.26000000e+09,   8.26500000e+09,   8.27000000e+09,\n",
       "            8.27500000e+09,   8.28000000e+09,   8.28500000e+09,\n",
       "            8.29000000e+09,   8.29500000e+09,   8.30000000e+09,\n",
       "            8.30500000e+09,   8.31000000e+09,   8.31500000e+09,\n",
       "            8.32000000e+09,   8.32500000e+09,   8.33000000e+09,\n",
       "            8.33500000e+09,   8.34000000e+09,   8.34500000e+09,\n",
       "            8.35000000e+09,   8.35500000e+09,   8.36000000e+09,\n",
       "            8.36500000e+09,   8.37000000e+09,   8.37500000e+09,\n",
       "            8.38000000e+09,   8.38500000e+09,   8.39000000e+09,\n",
       "            8.39500000e+09,   8.40000000e+09,   8.40500000e+09,\n",
       "            8.41000000e+09,   8.41500000e+09,   8.42000000e+09,\n",
       "            8.42500000e+09,   8.43000000e+09,   8.43500000e+09,\n",
       "            8.44000000e+09,   8.44500000e+09,   8.45000000e+09,\n",
       "            8.45500000e+09,   8.46000000e+09,   8.46500000e+09,\n",
       "            8.47000000e+09,   8.47500000e+09,   8.48000000e+09,\n",
       "            8.48500000e+09,   8.49000000e+09,   8.49500000e+09,\n",
       "            8.50000000e+09,   8.50500000e+09,   8.51000000e+09,\n",
       "            8.51500000e+09,   8.52000000e+09,   8.52500000e+09,\n",
       "            8.53000000e+09,   8.53500000e+09,   8.54000000e+09,\n",
       "            8.54500000e+09,   8.55000000e+09,   8.55500000e+09,\n",
       "            8.56000000e+09,   8.56500000e+09,   8.57000000e+09,\n",
       "            8.57500000e+09,   8.58000000e+09,   8.58500000e+09,\n",
       "            8.59000000e+09,   8.59500000e+09,   8.60000000e+09,\n",
       "            8.60500000e+09,   8.61000000e+09,   8.61500000e+09,\n",
       "            8.62000000e+09,   8.62500000e+09,   8.63000000e+09,\n",
       "            8.63500000e+09,   8.64000000e+09,   8.64500000e+09,\n",
       "            8.65000000e+09,   8.65500000e+09,   8.66000000e+09,\n",
       "            8.66500000e+09,   8.67000000e+09,   8.67500000e+09,\n",
       "            8.68000000e+09,   8.68500000e+09,   8.69000000e+09,\n",
       "            8.69500000e+09,   8.70000000e+09,   8.70500000e+09,\n",
       "            8.71000000e+09,   8.71500000e+09,   8.72000000e+09,\n",
       "            8.72500000e+09,   8.73000000e+09,   8.73500000e+09,\n",
       "            8.74000000e+09,   8.74500000e+09,   8.75000000e+09,\n",
       "            8.75500000e+09,   8.76000000e+09,   8.76500000e+09,\n",
       "            8.77000000e+09,   8.77500000e+09,   8.78000000e+09,\n",
       "            8.78500000e+09,   8.79000000e+09,   8.79500000e+09,\n",
       "            8.80000000e+09,   8.80500000e+09,   8.81000000e+09,\n",
       "            8.81500000e+09,   8.82000000e+09,   8.82500000e+09,\n",
       "            8.83000000e+09,   8.83500000e+09,   8.84000000e+09,\n",
       "            8.84500000e+09,   8.85000000e+09,   8.85500000e+09,\n",
       "            8.86000000e+09,   8.86500000e+09,   8.87000000e+09,\n",
       "            8.87500000e+09,   8.88000000e+09,   8.88500000e+09,\n",
       "            8.89000000e+09,   8.89500000e+09,   8.90000000e+09,\n",
       "            8.90500000e+09,   8.91000000e+09,   8.91500000e+09,\n",
       "            8.92000000e+09,   8.92500000e+09,   8.93000000e+09,\n",
       "            8.93500000e+09,   8.94000000e+09,   8.94500000e+09,\n",
       "            8.95000000e+09,   8.95500000e+09,   8.96000000e+09,\n",
       "            8.96500000e+09,   8.97000000e+09,   8.97500000e+09,\n",
       "            8.98000000e+09,   8.98500000e+09,   8.99000000e+09,\n",
       "            8.99500000e+09,   9.00000000e+09,   9.00500000e+09,\n",
       "            9.01000000e+09,   9.01500000e+09,   9.02000000e+09,\n",
       "            9.02500000e+09,   9.03000000e+09,   9.03500000e+09,\n",
       "            9.04000000e+09,   9.04500000e+09,   9.05000000e+09,\n",
       "            9.05500000e+09,   9.06000000e+09,   9.06500000e+09,\n",
       "            9.07000000e+09,   9.07500000e+09,   9.08000000e+09,\n",
       "            9.08500000e+09,   9.09000000e+09,   9.09500000e+09,\n",
       "            9.10000000e+09,   9.10500000e+09,   9.11000000e+09,\n",
       "            9.11500000e+09,   9.12000000e+09,   9.12500000e+09,\n",
       "            9.13000000e+09,   9.13500000e+09,   9.14000000e+09,\n",
       "            9.14500000e+09,   9.15000000e+09,   9.15500000e+09,\n",
       "            9.16000000e+09,   9.16500000e+09,   9.17000000e+09,\n",
       "            9.17500000e+09,   9.18000000e+09,   9.18500000e+09,\n",
       "            9.19000000e+09,   9.19500000e+09,   9.20000000e+09,\n",
       "            9.20500000e+09,   9.21000000e+09,   9.21500000e+09,\n",
       "            9.22000000e+09,   9.22500000e+09,   9.23000000e+09,\n",
       "            9.23500000e+09,   9.24000000e+09,   9.24500000e+09,\n",
       "            9.25000000e+09,   9.25500000e+09,   9.26000000e+09,\n",
       "            9.26500000e+09,   9.27000000e+09,   9.27500000e+09,\n",
       "            9.28000000e+09,   9.28500000e+09,   9.29000000e+09,\n",
       "            9.29500000e+09,   9.30000000e+09,   9.30500000e+09,\n",
       "            9.31000000e+09,   9.31500000e+09,   9.32000000e+09,\n",
       "            9.32500000e+09,   9.33000000e+09,   9.33500000e+09,\n",
       "            9.34000000e+09,   9.34500000e+09,   9.35000000e+09,\n",
       "            9.35500000e+09,   9.36000000e+09,   9.36500000e+09,\n",
       "            9.37000000e+09,   9.37500000e+09,   9.38000000e+09,\n",
       "            9.38500000e+09,   9.39000000e+09,   9.39500000e+09,\n",
       "            9.40000000e+09,   9.40500000e+09,   9.41000000e+09,\n",
       "            9.41500000e+09,   9.42000000e+09,   9.42500000e+09,\n",
       "            9.43000000e+09,   9.43500000e+09,   9.44000000e+09,\n",
       "            9.44500000e+09,   9.45000000e+09,   9.45500000e+09,\n",
       "            9.46000000e+09,   9.46500000e+09,   9.47000000e+09,\n",
       "            9.47500000e+09,   9.48000000e+09,   9.48500000e+09,\n",
       "            9.49000000e+09,   9.49500000e+09,   9.50000000e+09,\n",
       "            9.50500000e+09,   9.51000000e+09,   9.51500000e+09,\n",
       "            9.52000000e+09,   9.52500000e+09,   9.53000000e+09,\n",
       "            9.53500000e+09,   9.54000000e+09,   9.54500000e+09,\n",
       "            9.55000000e+09,   9.55500000e+09,   9.56000000e+09,\n",
       "            9.56500000e+09,   9.57000000e+09,   9.57500000e+09,\n",
       "            9.58000000e+09,   9.58500000e+09,   9.59000000e+09,\n",
       "            9.59500000e+09,   9.60000000e+09,   9.60500000e+09,\n",
       "            9.61000000e+09,   9.61500000e+09,   9.62000000e+09,\n",
       "            9.62500000e+09,   9.63000000e+09,   9.63500000e+09,\n",
       "            9.64000000e+09,   9.64500000e+09,   9.65000000e+09,\n",
       "            9.65500000e+09,   9.66000000e+09,   9.66500000e+09,\n",
       "            9.67000000e+09,   9.67500000e+09,   9.68000000e+09,\n",
       "            9.68500000e+09,   9.69000000e+09,   9.69500000e+09,\n",
       "            9.70000000e+09,   9.70500000e+09,   9.71000000e+09,\n",
       "            9.71500000e+09,   9.72000000e+09,   9.72500000e+09,\n",
       "            9.73000000e+09,   9.73500000e+09,   9.74000000e+09,\n",
       "            9.74500000e+09,   9.75000000e+09,   9.75500000e+09,\n",
       "            9.76000000e+09,   9.76500000e+09,   9.77000000e+09,\n",
       "            9.77500000e+09,   9.78000000e+09,   9.78500000e+09,\n",
       "            9.79000000e+09,   9.79500000e+09,   9.80000000e+09,\n",
       "            9.80500000e+09,   9.81000000e+09,   9.81500000e+09,\n",
       "            9.82000000e+09,   9.82500000e+09,   9.83000000e+09,\n",
       "            9.83500000e+09,   9.84000000e+09,   9.84500000e+09,\n",
       "            9.85000000e+09,   9.85500000e+09,   9.86000000e+09,\n",
       "            9.86500000e+09,   9.87000000e+09,   9.87500000e+09,\n",
       "            9.88000000e+09,   9.88500000e+09,   9.89000000e+09,\n",
       "            9.89500000e+09,   9.90000000e+09,   9.90500000e+09,\n",
       "            9.91000000e+09,   9.91500000e+09,   9.92000000e+09,\n",
       "            9.92500000e+09,   9.93000000e+09,   9.93500000e+09,\n",
       "            9.94000000e+09,   9.94500000e+09,   9.95000000e+09,\n",
       "            9.95500000e+09,   9.96000000e+09,   9.96500000e+09,\n",
       "            9.97000000e+09,   9.97500000e+09,   9.98000000e+09,\n",
       "            9.98500000e+09,   9.99000000e+09,   9.99500000e+09,\n",
       "            1.00000000e+10])),\n",
       "  array([[ 0.03015967-0.11352073j, -0.11593517-0.03736577j,\n",
       "          -0.04289456+0.11661661j, ..., -0.05629381+0.01935723j,\n",
       "           0.02044706+0.05552702j,  0.05610503-0.0203149j ],\n",
       "         [ 0.02962177-0.11331358j, -0.11556091-0.03661102j,\n",
       "          -0.04281465+0.11754198j, ..., -0.05607409+0.01971438j,\n",
       "           0.02040122+0.05653169j,  0.05610630-0.02046932j],\n",
       "         [ 0.03091767-0.11315686j, -0.11617740-0.03614493j,\n",
       "          -0.04233569+0.11621772j, ..., -0.05613280+0.01840247j,\n",
       "           0.01981497+0.0560712j ,  0.05564030-0.02081446j],\n",
       "         ..., \n",
       "         [ 0.02983940-0.11234393j, -0.11570834-0.03672458j,\n",
       "          -0.04255467+0.11722582j, ..., -0.05532894+0.01964531j,\n",
       "           0.02017681+0.05555742j,  0.05554260-0.02030455j],\n",
       "         [ 0.02955408-0.11385984j, -0.11680245-0.03742401j,\n",
       "          -0.04221362+0.11614352j, ..., -0.05541383+0.01869082j,\n",
       "           0.01975413+0.05635122j,  0.05466174-0.02126241j],\n",
       "         [ 0.03025088-0.11227016j, -0.11582128-0.03673678j,\n",
       "          -0.04264158+0.11749265j, ..., -0.05674716+0.01885713j,\n",
       "           0.01978433+0.05652886j,  0.05564563-0.02110324j]]),\n",
       "  {'log': 20},\n",
       "  ('', 'Hz'))}"
      ]
     },
     "execution_count": 8,
     "metadata": {},
     "output_type": "execute_result"
    }
   ],
   "source": [
    "awg_tek.set_amplitude(0.5, channel=1)\n",
    "voltages = np.linspace(-0.00, 0.020, 41)\n",
    "pna.set_xlim(7.0e9,10e9)\n",
    "pna.set_nop(601)\n",
    "pna.set_bandwidth(500)\n",
    "pna.set_power(-40)\n",
    "sweep.sweep(pna, (voltages, set_res_z_voltage, 'Control voltage'), filename='Hivemind spectrum res-z_Run1')"
   ]
  },
  {
   "cell_type": "code",
   "execution_count": 64,
   "metadata": {
    "collapsed": true
   },
   "outputs": [],
   "source": [
    "def set_current_compensated(current_value):\n",
    "    import time\n",
    "    #set_res_z_voltage(-10*current_value-0.12)\n",
    "    \n",
    "    #current_phase = 1/(4.7e-3/4)*current_value # 4.8 half-periods in a 2mA frame => 1.2mA per period \n",
    "    #phase_delta = (current_phase+0.5)%1-0.50\n",
    "    #voltage_phase = -1.95*phase_delta/0.715 # 1V per half-period => 2V per period\n",
    "    \n",
    "    #voltage_phase = -1.95*phase_delta/0.71 # 1V per half-period => 2V per period\n",
    "    print('I1 = '+str(current_value))\n",
    "    print('I2 = '+str(current_value*(-31.775)))\n",
    "    #print('phase delta = '+str(phase_delta))\n",
    "    #print('voltage phase = '+str(voltage_phase))\n",
    "    #set_res_z_voltage(voltage_phase)\n",
    "    current_src.set_current(current_value-0.00025)\n",
    "    current_src2.set_current((current_value)*(-31.775))\n",
    "    time.sleep(0.1)"
   ]
  },
  {
   "cell_type": "markdown",
   "metadata": {},
   "source": [
    "# Inductance matrix assembly"
   ]
  },
  {
   "cell_type": "markdown",
   "metadata": {},
   "source": [
    "## measure reference spectrum"
   ]
  },
  {
   "cell_type": "code",
   "execution_count": 20,
   "metadata": {
    "scrolled": true
   },
   "outputs": [
    {
     "data": {
      "application/vnd.jupyter.widget-view+json": {
       "model_id": "70ca6d894e8a4e3ab6e91c494ecf8e12",
       "version_major": 2,
       "version_minor": 0
      },
      "text/plain": [
       "A Jupyter Widget"
      ]
     },
     "metadata": {},
     "output_type": "display_data"
    },
    {
     "name": "stdout",
     "output_type": "stream",
     "text": [
      "Started at:  May 21 2018 14:58:21\n",
      "\n",
      "Elapsed time: 0 h 1 m 27.16 s\n"
     ]
    },
    {
     "data": {
      "text/plain": [
       "True"
      ]
     },
     "execution_count": 20,
     "metadata": {},
     "output_type": "execute_result"
    }
   ],
   "source": [
    "pna.set_xlim(5.5e9, 10.5e9)\n",
    "pna.set_nop(501)\n",
    "pna.set_power(-20)\n",
    "pna.set_bandwidth(1000)\n",
    "#lo1.set_power(-15)\n",
    "#freqs = np.linspace(6e9, 6.7e9, 601)\n",
    "currents = np.linspace(-3e-3, 7e-3, 101)\n",
    "current_src1.set_status(1)\n",
    "resonator_reference_spectrum = sweep.sweep(pna, (currents, current_src1.set_current, 'Reference current', 'A'), \n",
    "            filename='Hivemind #2 single-tone resonator-z-spectrum Input thru res-z power {}'.format(int(pna.get_power())))\n",
    "#plt.plot(np.angle(measurement['S-parameter'][2]))\n",
    "#set_res_z_voltage(0)\n",
    "current_src1.set_current(0)\n",
    "current_src1.set_status(0)"
   ]
  },
  {
   "cell_type": "code",
   "execution_count": 442,
   "metadata": {
    "scrolled": true
   },
   "outputs": [
    {
     "data": {
      "application/vnd.jupyter.widget-view+json": {
       "model_id": "b1177965416c4dddb9b971caa28f90de",
       "version_major": 2,
       "version_minor": 0
      },
      "text/plain": [
       "A Jupyter Widget"
      ]
     },
     "metadata": {},
     "output_type": "display_data"
    },
    {
     "name": "stdout",
     "output_type": "stream",
     "text": [
      "Started at:  May 16 2018 20:20:00\n",
      "\n",
      "Elapsed time: 0 h 6 m 57.87 s\n"
     ]
    },
    {
     "data": {
      "text/plain": [
       "True"
      ]
     },
     "execution_count": 442,
     "metadata": {},
     "output_type": "execute_result"
    }
   ],
   "source": [
    "pna.set_xlim(5e9, 7e9)\n",
    "pna.set_nop(201)\n",
    "pna.set_power(-50)\n",
    "pna.set_bandwidth(100)\n",
    "#lo1.set_power(-15)\n",
    "#freqs = np.linspace(6e9, 6.7e9, 601)\n",
    "currents = np.linspace(0.005, 0.015, 201)\n",
    "current_src1.set_status(1)\n",
    "resonator_reference_spectrum = sweep.sweep(pna, (currents, current_src1.set_current, 'Reference current', 'A'), \n",
    "            filename='Hivemind #2 single-tone resonator-z-spectrum Input thru res-z power {}'.format(int(pna.get_power())))\n",
    "#plt.plot(np.angle(measurement['S-parameter'][2]))\n",
    "#set_res_z_voltage(0)\n",
    "current_src1.set_current(0)\n",
    "current_src1.set_status(0)"
   ]
  },
  {
   "cell_type": "code",
   "execution_count": 160,
   "metadata": {},
   "outputs": [
    {
     "data": {
      "text/plain": [
       "True"
      ]
     },
     "execution_count": 160,
     "metadata": {},
     "output_type": "execute_result"
    }
   ],
   "source": [
    "lo1.set_status(0)"
   ]
  },
  {
   "cell_type": "markdown",
   "metadata": {},
   "source": [
    "### load reference spectrum"
   ]
  },
  {
   "cell_type": "code",
   "execution_count": 7,
   "metadata": {},
   "outputs": [
    {
     "name": "stdout",
     "output_type": "stream",
     "text": [
      "D:\\qtlab\\ReiData\\data\\2018-05-21/20-09-28-Hivemind #2 single-tone resonator-z-spectrum Input res-x power --40\\S-parameter Hivemind #2 single-tone resonator-z-spectrum Input res-x power --40.pkl\n"
     ]
    }
   ],
   "source": [
    "resonator_reference_spectrum = load_pkl('20-09-28-Hivemind #2 single-tone resonator-z-spectrum Input res-x power --40\\\\S-parameter Hivemind #2 single-tone resonator-z-spectrum Input res-x power --40', \n",
    "                                        location='D:\\\\qtlab\\\\ReiData\\\\data\\\\2018-05-21')[1]"
   ]
  },
  {
   "cell_type": "markdown",
   "metadata": {},
   "source": [
    "## spectrum image preprocessing"
   ]
  },
  {
   "cell_type": "code",
   "execution_count": 8,
   "metadata": {
    "collapsed": true
   },
   "outputs": [],
   "source": [
    "from scipy.signal import medfilt2d\n",
    "\n",
    "ref_S21u = np.unwrap(np.angle(np.mean(resonator_reference_spectrum['S-parameter'][2], axis=0)))\n",
    "phase_min = ref_S21u[0]\n",
    "phase_max = ref_S21u[-1]\n",
    "def resonator_spectrum_preprocessing(x):\n",
    "    S21d = x*np.exp(-np.reshape(np.linspace(phase_min,phase_max,ref_S21u.shape[0]), (1,-1))*1j)\n",
    "    S21d = np.gradient(S21d)[1]\n",
    "    return S21d\n",
    "    #inp = S21d-medfilt2d(np.real(S21d),3)-1j*medfilt2d(np.imag(S21d),3)\n",
    "    \n",
    "    return inp"
   ]
  },
  {
   "cell_type": "markdown",
   "metadata": {},
   "source": [
    "## find centre&period of spectrum"
   ]
  },
  {
   "cell_type": "code",
   "execution_count": 11,
   "metadata": {},
   "outputs": [
    {
     "name": "stdout",
     "output_type": "stream",
     "text": [
      "(0.0010699999999999998,) 0.00672\n"
     ]
    }
   ],
   "source": [
    "reference_preprocessed = resonator_spectrum_preprocessing(resonator_reference_spectrum['S-parameter'][2])\n",
    "centre_reference_pixels, period_reference_pixels = fitting.xcorr_centre_period(reference_preprocessed, axis=1)\n",
    "\n",
    "centre_reference = resonator_reference_spectrum['S-parameter'][1][0][int(centre_reference_pixels)], \n",
    "period_reference = (resonator_reference_spectrum['S-parameter'][1][0][1]-resonator_reference_spectrum['S-parameter'][1][0][0])*period_reference_pixels\n",
    "print (centre_reference, period_reference)"
   ]
  },
  {
   "cell_type": "markdown",
   "metadata": {},
   "source": [
    "## measure spectra for other controls"
   ]
  },
  {
   "cell_type": "code",
   "execution_count": 10,
   "metadata": {},
   "outputs": [
    {
     "data": {
      "text/plain": [
       "True"
      ]
     },
     "execution_count": 10,
     "metadata": {},
     "output_type": "execute_result"
    }
   ],
   "source": [
    "import fitting\n",
    "import imp\n",
    "import instruments.nndac\n",
    "imp.reload(instruments.nndac)\n",
    "imp.reload(fitting)\n",
    "dac = instruments.nndac.nndac()\n",
    "pna.set_bandwidth(1000)"
   ]
  },
  {
   "cell_type": "code",
   "execution_count": 12,
   "metadata": {
    "scrolled": true
   },
   "outputs": [
    {
     "data": {
      "application/vnd.jupyter.widget-view+json": {
       "model_id": "354f214e76dc4febb1db7ae1326c913f",
       "version_major": 2,
       "version_minor": 0
      },
      "text/plain": [
       "A Jupyter Widget"
      ]
     },
     "metadata": {},
     "output_type": "display_data"
    },
    {
     "name": "stdout",
     "output_type": "stream",
     "text": [
      "Started at:  May 21 2018 20:21:26\n",
      "\n",
      "Elapsed time: 0 h 1 m 28.8 s\n"
     ]
    },
    {
     "data": {
      "application/vnd.jupyter.widget-view+json": {
       "model_id": "fa0da7b0480841ce92cec025c77d61c7",
       "version_major": 2,
       "version_minor": 0
      },
      "text/plain": [
       "A Jupyter Widget"
      ]
     },
     "metadata": {},
     "output_type": "display_data"
    },
    {
     "name": "stdout",
     "output_type": "stream",
     "text": [
      "Started at:  May 21 2018 20:22:57\n",
      "\n",
      "Elapsed time: 0 h 1 m 27.05 s\n"
     ]
    },
    {
     "data": {
      "application/vnd.jupyter.widget-view+json": {
       "model_id": "9719f5a92d1044bcb6e60243bfd39381",
       "version_major": 2,
       "version_minor": 0
      },
      "text/plain": [
       "A Jupyter Widget"
      ]
     },
     "metadata": {},
     "output_type": "display_data"
    },
    {
     "name": "stdout",
     "output_type": "stream",
     "text": [
      "Started at:  May 21 2018 20:24:25\n",
      "\n",
      "Elapsed time: 0 h 1 m 26.35 s\n"
     ]
    },
    {
     "data": {
      "application/vnd.jupyter.widget-view+json": {
       "model_id": "2df093ceaecc48fe9389b30a13a2aac7",
       "version_major": 2,
       "version_minor": 0
      },
      "text/plain": [
       "A Jupyter Widget"
      ]
     },
     "metadata": {},
     "output_type": "display_data"
    },
    {
     "name": "stdout",
     "output_type": "stream",
     "text": [
      "Started at:  May 21 2018 20:25:53\n"
     ]
    },
    {
     "ename": "KeyboardInterrupt",
     "evalue": "",
     "output_type": "error",
     "traceback": [
      "\u001b[1;31m---------------------------------------------------------------------------\u001b[0m",
      "\u001b[1;31mKeyboardInterrupt\u001b[0m                         Traceback (most recent call last)",
      "\u001b[1;32m<ipython-input-12-f68bd01aeca0>\u001b[0m in \u001b[0;36m<module>\u001b[1;34m()\u001b[0m\n\u001b[0;32m     16\u001b[0m     hivemind_qubit_controls[channel_id] = {'resonator_spectrum':sweep.sweep(pna, \n\u001b[0;32m     17\u001b[0m             \u001b[1;33m(\u001b[0m\u001b[0mvoltages\u001b[0m\u001b[1;33m,\u001b[0m \u001b[0mvoltage_setter\u001b[0m\u001b[1;33m,\u001b[0m \u001b[1;34m'Coil dac voltage #{0}'\u001b[0m\u001b[1;33m.\u001b[0m\u001b[0mformat\u001b[0m\u001b[1;33m(\u001b[0m\u001b[0mchannel_id\u001b[0m\u001b[1;33m)\u001b[0m\u001b[1;33m)\u001b[0m\u001b[1;33m,\u001b[0m\u001b[1;33m\u001b[0m\u001b[0m\n\u001b[1;32m---> 18\u001b[1;33m             filename='Hivemind #2 single-tone res2 coil #{0}'.format(channel_id))}\n\u001b[0m\u001b[0;32m     19\u001b[0m     \u001b[1;31m#hivemind_qubit_controls[channel_id]['preprocessed_spectrum'] = \\\u001b[0m\u001b[1;33m\u001b[0m\u001b[1;33m\u001b[0m\u001b[0m\n\u001b[0;32m     20\u001b[0m     \u001b[1;31m#    resonator_spectrum_preprocessing(hivemind_qubit_controls[channel_id]['resonator_spectrum']['S-parameter'][2])\u001b[0m\u001b[1;33m\u001b[0m\u001b[1;33m\u001b[0m\u001b[0m\n",
      "\u001b[1;32mD:\\qtlab_replacement\\scripts\\sweep.py\u001b[0m in \u001b[0;36msweep\u001b[1;34m(measurer, filename, root_dir, plot, header, output, save, time_war_label, cycle_save_mode, *params)\u001b[0m\n\u001b[0;32m    137\u001b[0m         \u001b[1;32mif\u001b[0m \u001b[0mplot\u001b[0m\u001b[1;33m:\u001b[0m\u001b[1;33m\u001b[0m\u001b[0m\n\u001b[0;32m    138\u001b[0m                 \u001b[0mplot_update_start\u001b[0m \u001b[1;33m=\u001b[0m \u001b[0mtime\u001b[0m\u001b[1;33m.\u001b[0m\u001b[0mtime\u001b[0m\u001b[1;33m(\u001b[0m\u001b[1;33m)\u001b[0m\u001b[1;33m\u001b[0m\u001b[0m\n\u001b[1;32m--> 139\u001b[1;33m                 \u001b[0mplot_axes\u001b[0m \u001b[1;33m=\u001b[0m \u001b[0mplotting\u001b[0m\u001b[1;33m.\u001b[0m\u001b[0mplot_measurement\u001b[0m\u001b[1;33m(\u001b[0m\u001b[0mmk_measurement\u001b[0m\u001b[1;33m(\u001b[0m\u001b[1;36m0\u001b[0m\u001b[1;33m)\u001b[0m\u001b[1;33m)\u001b[0m\u001b[1;33m\u001b[0m\u001b[0m\n\u001b[0m\u001b[0;32m    140\u001b[0m                 \u001b[0mlast_plot_update\u001b[0m \u001b[1;33m=\u001b[0m \u001b[0mtime\u001b[0m\u001b[1;33m.\u001b[0m\u001b[0mtime\u001b[0m\u001b[1;33m(\u001b[0m\u001b[1;33m)\u001b[0m\u001b[1;33m\u001b[0m\u001b[0m\n\u001b[0;32m    141\u001b[0m                 \u001b[0mplot_update_time\u001b[0m \u001b[1;33m=\u001b[0m \u001b[0mplot_update_start\u001b[0m \u001b[1;33m-\u001b[0m \u001b[0mlast_plot_update\u001b[0m\u001b[1;33m\u001b[0m\u001b[0m\n",
      "\u001b[1;32mD:\\qtlab_replacement\\scripts\\plotting.py\u001b[0m in \u001b[0;36mplot_measurement\u001b[1;34m(measurement, name, save, annotation)\u001b[0m\n\u001b[0;32m    116\u001b[0m                                                                 \u001b[0mplot\u001b[0m\u001b[1;33m[\u001b[0m\u001b[1;34m'filter'\u001b[0m\u001b[1;33m]\u001b[0m\u001b[1;33m(\u001b[0m\u001b[0mmeasurement\u001b[0m\u001b[1;33m[\u001b[0m\u001b[0mplot\u001b[0m\u001b[1;33m[\u001b[0m\u001b[1;34m'mname'\u001b[0m\u001b[1;33m]\u001b[0m\u001b[1;33m]\u001b[0m\u001b[1;33m[\u001b[0m\u001b[1;36m2\u001b[0m\u001b[1;33m]\u001b[0m\u001b[1;33m)\u001b[0m\u001b[1;33m,\u001b[0m\u001b[1;33m\u001b[0m\u001b[0m\n\u001b[0;32m    117\u001b[0m \t\t\t\t\t\t\t\t*measurement[plot['mname']][3:])\n\u001b[1;32m--> 118\u001b[1;33m                 \u001b[0mplots\u001b[0m \u001b[1;33m=\u001b[0m \u001b[0mplot_measurement_sa\u001b[0m\u001b[1;33m(\u001b[0m\u001b[0mmeas\u001b[0m\u001b[1;33m,\u001b[0m \u001b[0max\u001b[0m\u001b[1;33m[\u001b[0m\u001b[1;34m'axes'\u001b[0m\u001b[1;33m]\u001b[0m\u001b[1;33m)\u001b[0m\u001b[1;33m\u001b[0m\u001b[0m\n\u001b[0m\u001b[0;32m    119\u001b[0m                 \u001b[1;32mfor\u001b[0m \u001b[0mplot\u001b[0m \u001b[1;32min\u001b[0m \u001b[0mplots\u001b[0m\u001b[1;33m.\u001b[0m\u001b[0mkeys\u001b[0m\u001b[1;33m(\u001b[0m\u001b[1;33m)\u001b[0m\u001b[1;33m:\u001b[0m\u001b[1;33m\u001b[0m\u001b[0m\n\u001b[0;32m    120\u001b[0m                         \u001b[0max\u001b[0m\u001b[1;33m[\u001b[0m\u001b[1;34m'plots'\u001b[0m\u001b[1;33m]\u001b[0m\u001b[1;33m[\u001b[0m\u001b[0mplot\u001b[0m\u001b[1;33m]\u001b[0m\u001b[1;33m[\u001b[0m\u001b[1;34m'plot'\u001b[0m\u001b[1;33m]\u001b[0m \u001b[1;33m=\u001b[0m \u001b[0mplots\u001b[0m\u001b[1;33m[\u001b[0m\u001b[0mplot\u001b[0m\u001b[1;33m]\u001b[0m\u001b[1;33m\u001b[0m\u001b[0m\n",
      "\u001b[1;32mD:\\qtlab_replacement\\scripts\\plotting.py\u001b[0m in \u001b[0;36mplot_measurement_sa\u001b[1;34m(measurement, axes)\u001b[0m\n\u001b[0;32m    221\u001b[0m                 \u001b[1;32mif\u001b[0m \u001b[0mlen\u001b[0m\u001b[1;33m(\u001b[0m\u001b[0maxes_names\u001b[0m\u001b[1;33m)\u001b[0m \u001b[1;33m>=\u001b[0m \u001b[1;36m2\u001b[0m\u001b[1;33m:\u001b[0m\u001b[1;33m\u001b[0m\u001b[0m\n\u001b[0;32m    222\u001b[0m                         \u001b[0mplt\u001b[0m\u001b[1;33m.\u001b[0m\u001b[0mylabel\u001b[0m\u001b[1;33m(\u001b[0m\u001b[0maxes_names\u001b[0m\u001b[1;33m[\u001b[0m\u001b[1;36m1\u001b[0m\u001b[1;33m]\u001b[0m\u001b[1;33m)\u001b[0m\u001b[1;33m\u001b[0m\u001b[0m\n\u001b[1;32m--> 223\u001b[1;33m         \u001b[0mplt\u001b[0m\u001b[1;33m.\u001b[0m\u001b[0mpause\u001b[0m\u001b[1;33m(\u001b[0m\u001b[1;36m0.05\u001b[0m\u001b[1;33m)\u001b[0m\u001b[1;33m\u001b[0m\u001b[0m\n\u001b[0m\u001b[0;32m    224\u001b[0m         \u001b[1;32mreturn\u001b[0m \u001b[0mplots\u001b[0m\u001b[1;33m\u001b[0m\u001b[0m\n\u001b[0;32m    225\u001b[0m \u001b[1;33m\u001b[0m\u001b[0m\n",
      "\u001b[1;32mC:\\ProgramData\\Anaconda3\\lib\\site-packages\\matplotlib\\pyplot.py\u001b[0m in \u001b[0;36mpause\u001b[1;34m(interval)\u001b[0m\n\u001b[0;32m    295\u001b[0m             \u001b[0mcanvas\u001b[0m\u001b[1;33m.\u001b[0m\u001b[0mdraw_idle\u001b[0m\u001b[1;33m(\u001b[0m\u001b[1;33m)\u001b[0m\u001b[1;33m\u001b[0m\u001b[0m\n\u001b[0;32m    296\u001b[0m         \u001b[0mshow\u001b[0m\u001b[1;33m(\u001b[0m\u001b[0mblock\u001b[0m\u001b[1;33m=\u001b[0m\u001b[1;32mFalse\u001b[0m\u001b[1;33m)\u001b[0m\u001b[1;33m\u001b[0m\u001b[0m\n\u001b[1;32m--> 297\u001b[1;33m         \u001b[0mcanvas\u001b[0m\u001b[1;33m.\u001b[0m\u001b[0mstart_event_loop\u001b[0m\u001b[1;33m(\u001b[0m\u001b[0minterval\u001b[0m\u001b[1;33m)\u001b[0m\u001b[1;33m\u001b[0m\u001b[0m\n\u001b[0m\u001b[0;32m    298\u001b[0m     \u001b[1;32melse\u001b[0m\u001b[1;33m:\u001b[0m\u001b[1;33m\u001b[0m\u001b[0m\n\u001b[0;32m    299\u001b[0m         \u001b[0mtime\u001b[0m\u001b[1;33m.\u001b[0m\u001b[0msleep\u001b[0m\u001b[1;33m(\u001b[0m\u001b[0minterval\u001b[0m\u001b[1;33m)\u001b[0m\u001b[1;33m\u001b[0m\u001b[0m\n",
      "\u001b[1;32mC:\\ProgramData\\Anaconda3\\lib\\site-packages\\matplotlib\\backends\\backend_qt5.py\u001b[0m in \u001b[0;36mstart_event_loop\u001b[1;34m(self, timeout)\u001b[0m\n\u001b[0;32m    438\u001b[0m         \u001b[1;32mif\u001b[0m \u001b[0mtimeout\u001b[0m\u001b[1;33m:\u001b[0m\u001b[1;33m\u001b[0m\u001b[0m\n\u001b[0;32m    439\u001b[0m             \u001b[0mtimer\u001b[0m \u001b[1;33m=\u001b[0m \u001b[0mQtCore\u001b[0m\u001b[1;33m.\u001b[0m\u001b[0mQTimer\u001b[0m\u001b[1;33m.\u001b[0m\u001b[0msingleShot\u001b[0m\u001b[1;33m(\u001b[0m\u001b[0mtimeout\u001b[0m \u001b[1;33m*\u001b[0m \u001b[1;36m1000\u001b[0m\u001b[1;33m,\u001b[0m \u001b[0mevent_loop\u001b[0m\u001b[1;33m.\u001b[0m\u001b[0mquit\u001b[0m\u001b[1;33m)\u001b[0m\u001b[1;33m\u001b[0m\u001b[0m\n\u001b[1;32m--> 440\u001b[1;33m         \u001b[0mevent_loop\u001b[0m\u001b[1;33m.\u001b[0m\u001b[0mexec_\u001b[0m\u001b[1;33m(\u001b[0m\u001b[1;33m)\u001b[0m\u001b[1;33m\u001b[0m\u001b[0m\n\u001b[0m\u001b[0;32m    441\u001b[0m \u001b[1;33m\u001b[0m\u001b[0m\n\u001b[0;32m    442\u001b[0m     \u001b[1;32mdef\u001b[0m \u001b[0mstop_event_loop\u001b[0m\u001b[1;33m(\u001b[0m\u001b[0mself\u001b[0m\u001b[1;33m,\u001b[0m \u001b[0mevent\u001b[0m\u001b[1;33m=\u001b[0m\u001b[1;32mNone\u001b[0m\u001b[1;33m)\u001b[0m\u001b[1;33m:\u001b[0m\u001b[1;33m\u001b[0m\u001b[0m\n",
      "\u001b[1;31mKeyboardInterrupt\u001b[0m: "
     ]
    }
   ],
   "source": [
    "#pna.set_xlim(9.479e9, 9.479e9)\n",
    "#pna.set_nop(1)\n",
    "#pna.set_power(-55)\n",
    "#pna.set_bandwidth(100)\n",
    "#lo1.set_power(5)\n",
    "#freqs = np.linspace(6.5e9, 9e9, 251)\n",
    "voltages = np.linspace(-4, 4, 101)\n",
    "hivemind_qubit_controls = {}\n",
    "current_src1.set_status(1)\n",
    "#current_src1.set_current(centre_reference[0])\n",
    "current_src1.set_current(0)\n",
    "for channel_id in [0,1,2,3,4,5,6,7,8,9,10,11,12,13,14,15,16,17,18,19,20,21,22,23]:\n",
    "#for channel_id in [11,12,13,15,16,17,18,21,22,23]:\n",
    "#for channel_id in [4]:\n",
    "    voltage_setter = lambda x: dac.set_voltage(channel_id, x);\n",
    "    hivemind_qubit_controls[channel_id] = {'resonator_spectrum':sweep.sweep(pna, \n",
    "            (voltages, voltage_setter, 'Coil dac voltage #{0}'.format(channel_id)),\n",
    "            filename='Hivemind #2 single-tone res2 coil #{0}'.format(channel_id))}\n",
    "    #hivemind_qubit_controls[channel_id]['preprocessed_spectrum'] = \\\n",
    "    #    resonator_spectrum_preprocessing(hivemind_qubit_controls[channel_id]['resonator_spectrum']['S-parameter'][2])\n",
    "    dac.set_voltage(channel_id, 0.)\n",
    "    \n",
    "save_pkl({'type': 'Crosstalk DC', 'name': '100500 resonator-qubit controls'}, \n",
    "                      hivemind_qubit_controls, \n",
    "                      location='D:\\\\qtlab\\\\ReiData\\\\data\\\\calibrations', \n",
    "                      time=False, \n",
    "                      plot=False, \n",
    "                      matlab=False)"
   ]
  },
  {
   "cell_type": "code",
   "execution_count": 17,
   "metadata": {
    "collapsed": true
   },
   "outputs": [],
   "source": [
    "dac = nndac()"
   ]
  },
  {
   "cell_type": "markdown",
   "metadata": {},
   "source": [
    "### load spectra for other controls"
   ]
  },
  {
   "cell_type": "code",
   "execution_count": 230,
   "metadata": {},
   "outputs": [
    {
     "name": "stdout",
     "output_type": "stream",
     "text": [
      "D:\\qtlab\\ReiData\\data\\calibrations/Crosstalk DC 100500 resonator-qubit controls.pkl\n"
     ]
    }
   ],
   "source": [
    "hivemind_qubit_controls = load_pkl('Crosstalk DC 100500 resonator-qubit controls', \n",
    "                      location='D:\\\\qtlab\\\\ReiData\\\\data\\\\calibrations')[1]"
   ]
  },
  {
   "cell_type": "code",
   "execution_count": 13,
   "metadata": {
    "collapsed": true
   },
   "outputs": [],
   "source": [
    "for spectrum_id in hivemind_qubit_controls.keys():\n",
    "    preprocessed_spectrum = resonator_spectrum_preprocessing(hivemind_qubit_controls[spectrum_id]['resonator_spectrum']['S-parameter'][2])\n",
    "    hivemind_qubit_controls[spectrum_id]['preprocessed_spectrum'] = preprocessed_spectrum"
   ]
  },
  {
   "cell_type": "code",
   "execution_count": 256,
   "metadata": {},
   "outputs": [
    {
     "data": {
      "text/plain": [
       "<matplotlib.colorbar.Colorbar at 0x1f4005fb550>"
      ]
     },
     "execution_count": 256,
     "metadata": {},
     "output_type": "execute_result"
    }
   ],
   "source": [
    "hivemind_qubit_controls[0],hivemind_qubit_controls[23]\n",
    "plt.figure()\n",
    "plt.pcolormesh(np.real(hivemind_qubit_controls[0]['preprocessed_spectrum']))\n",
    "plt.colorbar()\n",
    "plt.figure()\n",
    "plt.pcolormesh(np.real(hivemind_qubit_controls[23]['preprocessed_spectrum']))\n",
    "plt.colorbar()"
   ]
  },
  {
   "cell_type": "markdown",
   "metadata": {},
   "source": [
    "## correlate spectra for reference & other controls"
   ]
  },
  {
   "cell_type": "code",
   "execution_count": 14,
   "metadata": {},
   "outputs": [
    {
     "data": {
      "text/plain": [
       "<module 'fitting' from 'D:\\\\qtlab_replacement\\\\scripts\\\\fitting.py'>"
      ]
     },
     "execution_count": 14,
     "metadata": {},
     "output_type": "execute_result"
    }
   ],
   "source": [
    "import fitting\n",
    "import imp\n",
    "imp.reload(fitting)"
   ]
  },
  {
   "cell_type": "code",
   "execution_count": 15,
   "metadata": {},
   "outputs": [
    {
     "name": "stdout",
     "output_type": "stream",
     "text": [
      "control_id:  0.0115039679774 -0.0515377765389 -1.42032865611\n",
      "control_id:  0.0189241368829 -0.0847801332354 -3.80105180269\n",
      "control_id:  -0.0245989409905 0.110203255637 -4.82235444578\n"
     ]
    }
   ],
   "source": [
    "for control_id in [i for i in hivemind_qubit_controls.keys()]:\n",
    "    reference_scale_raw, max_d  = fitting.xcorr_scale(reference_preprocessed, \n",
    "                                          hivemind_qubit_controls[control_id]['preprocessed_spectrum'], \n",
    "                                          thresh=0.995,\n",
    "                                          centre_reference_pixels = 0.0,\n",
    "                                          max_scale = 1.)\n",
    "    range_reference = (resonator_reference_spectrum['S-parameter'][1][0][-1]-resonator_reference_spectrum['S-parameter'][1][0][0])\n",
    "    range_qubit_control = (hivemind_qubit_controls[control_id]['resonator_spectrum']['S-parameter'][1][0][-1]-\\\n",
    "                       hivemind_qubit_controls[control_id]['resonator_spectrum']['S-parameter'][1][0][0])\n",
    "    Lr = -reference_scale_raw*range_reference/range_qubit_control/period_reference\n",
    "    hivemind_qubit_controls[control_id]['Lr'] = Lr\n",
    "    print('control_id: ', Lr, reference_scale_raw, max_d)"
   ]
  },
  {
   "cell_type": "markdown",
   "metadata": {},
   "source": [
    "## Optimizing iductance via some resonance"
   ]
  },
  {
   "cell_type": "code",
   "execution_count": 332,
   "metadata": {
    "collapsed": true
   },
   "outputs": [],
   "source": [
    "import data_reduce"
   ]
  },
  {
   "cell_type": "code",
   "execution_count": null,
   "metadata": {
    "collapsed": true
   },
   "outputs": [],
   "source": [
    "reference_measurer = pna\n",
    "reference_measurement_name = 'S-parameter'\n",
    "# now we measure the same thing and make sure it doesn't walk away\n",
    "initial_offset = 0.01\n",
    "final_offset = 4.0\n",
    "initial_step = scale_initial*2\n",
    "scale_scan_steps = 31\n",
    "\n",
    "def set_control_compensated(x, target, compensator, scale):\n",
    "    compensation = -x*scale\n",
    "    target(x)\n",
    "    compensator(compensation)\n",
    "    #print (x, scale, compensation)\n",
    "\n",
    "control = lambda y: dac.set_voltage(channel_id, y)\n",
    "compensator = current_src1.set_current\n",
    "scale_initial = hivemind_qubit_controls[channel_id]['Lr']*period_reference\n",
    "    \n",
    "set_control_compensated(0, control, compensator, scale_initial)\n",
    "reference = pna.measure()[reference_measurement_name]\n",
    "reference = reference-np.mean(reference)\n",
    "pna_reducer = data_reduce.data_reduce(pna)\n",
    "pna_reducer.filters['Reference feature'] = data_reduce.feature_reducer(reference_measurer, \n",
    "                                                     reference_measurement_name, \n",
    "                                                     0, \n",
    "                                                     np.zeros(reference.shape), \n",
    "                                                     np.conj(reference))\n",
    "pna_reducer.filters['Reference feature']['get_opts'] = lambda: {}\n",
    "#lambda: reference-pna.measure()[reference_measurement_name][2]\n",
    "#sweep.optimize(target, )\n",
    "num_offsets = int(np.log2(final_offset/initial_offset))\n",
    "offsets = np.logspace(initial_offset, final_offset, num_offsets)\n",
    "print (offsets)\n",
    "\n",
    "step = initial_step\n",
    "best_scale = scale_initial\n",
    "for offset in offsets:\n",
    "    set_new_scale = lambda x: set_control_compensated(offset, control, compensator, x)\n",
    "    scales = np.linspace(best_scale-step, best_scale+step, scale_scan_steps)\n",
    "    measurement = sweep.sweep(pna_reducer, (scales, set_new_scale, 'Compensator scale'), save=False, output=False)\n",
    "    measurement1 = sweep.sweep(pna, (scales, set_new_scale, 'Compensator scale'), save=False, output=False)\n",
    "    print (np.argmax(measurement['Reference feature'][2]), measurement['Reference feature'][1][0][np.argmax(measurement['Reference feature'][2])])\n",
    "    best_scale = measurement['Reference feature'][1][0][np.argmax(np.real(measurement['Reference feature'][2]))]\n",
    "    step = step/np.sqrt(2)"
   ]
  },
  {
   "cell_type": "code",
   "execution_count": 345,
   "metadata": {},
   "outputs": [
    {
     "data": {
      "text/plain": [
       "array([ 0.22675345-0.03241033j,  0.22434938-0.06446877j,\n",
       "        0.28845743-0.09264065j,  0.36287219-0.03521849j,\n",
       "        0.34172259+0.04679589j,  0.27899263+0.07926115j,\n",
       "        0.22736187+0.06821513j])"
      ]
     },
     "execution_count": 345,
     "metadata": {},
     "output_type": "execute_result"
    }
   ],
   "source": [
    "measurement['Reference feature'][2]"
   ]
  },
  {
   "cell_type": "code",
   "execution_count": 328,
   "metadata": {
    "collapsed": true
   },
   "outputs": [],
   "source": [
    "sweep.optimize?"
   ]
  },
  {
   "cell_type": "code",
   "execution_count": 326,
   "metadata": {},
   "outputs": [
    {
     "data": {
      "text/plain": [
       "0.0021195033308848495"
      ]
     },
     "execution_count": 326,
     "metadata": {},
     "output_type": "execute_result"
    }
   ],
   "source": [
    "hivemind_qubit_controls[channel_id]['Lr']*period_reference"
   ]
  },
  {
   "cell_type": "markdown",
   "metadata": {},
   "source": [
    "## Compensated spectrum"
   ]
  },
  {
   "cell_type": "code",
   "execution_count": 61,
   "metadata": {
    "collapsed": true
   },
   "outputs": [],
   "source": [
    "dac = nndac()"
   ]
  },
  {
   "cell_type": "code",
   "execution_count": 401,
   "metadata": {
    "scrolled": true
   },
   "outputs": [
    {
     "data": {
      "application/vnd.jupyter.widget-view+json": {
       "model_id": "dfe58ee11926480c89ad4ab717e7b381",
       "version_major": 2,
       "version_minor": 0
      },
      "text/plain": [
       "A Jupyter Widget"
      ]
     },
     "metadata": {},
     "output_type": "display_data"
    },
    {
     "name": "stdout",
     "output_type": "stream",
     "text": [
      "Started at:  May 16 2018 15:10:57\n"
     ]
    },
    {
     "name": "stderr",
     "output_type": "stream",
     "text": [
      "C:\\ProgramData\\Anaconda3\\lib\\site-packages\\matplotlib\\cbook\\deprecation.py:106: MatplotlibDeprecationWarning: Adding an axes using the same arguments as a previous axes currently reuses the earlier instance.  In a future version, a new instance will always be created and returned.  Meanwhile, this warning can be suppressed, and the future behavior ensured, by passing a unique label to each axes instance.\n",
      "  warnings.warn(message, mplDeprecation, stacklevel=1)\n"
     ]
    },
    {
     "ename": "KeyboardInterrupt",
     "evalue": "",
     "output_type": "error",
     "traceback": [
      "\u001b[1;31m---------------------------------------------------------------------------\u001b[0m",
      "\u001b[1;31mKeyboardInterrupt\u001b[0m                         Traceback (most recent call last)",
      "\u001b[1;32mC:\\ProgramData\\Anaconda3\\lib\\site-packages\\matplotlib\\backends\\backend_qt5agg.py\u001b[0m in \u001b[0;36mpaintEvent\u001b[1;34m(self, e)\u001b[0m\n\u001b[0;32m     52\u001b[0m         \u001b[1;32mreturn\u001b[0m \u001b[0mself\u001b[0m\u001b[1;33m.\u001b[0m\u001b[0m_bbox_queue\u001b[0m\u001b[1;33m\u001b[0m\u001b[0m\n\u001b[0;32m     53\u001b[0m \u001b[1;33m\u001b[0m\u001b[0m\n\u001b[1;32m---> 54\u001b[1;33m     \u001b[1;32mdef\u001b[0m \u001b[0mpaintEvent\u001b[0m\u001b[1;33m(\u001b[0m\u001b[0mself\u001b[0m\u001b[1;33m,\u001b[0m \u001b[0me\u001b[0m\u001b[1;33m)\u001b[0m\u001b[1;33m:\u001b[0m\u001b[1;33m\u001b[0m\u001b[0m\n\u001b[0m\u001b[0;32m     55\u001b[0m         \"\"\"Copy the image from the Agg canvas to the qt.drawable.\n\u001b[0;32m     56\u001b[0m \u001b[1;33m\u001b[0m\u001b[0m\n",
      "\u001b[1;31mKeyboardInterrupt\u001b[0m: "
     ]
    },
    {
     "ename": "KeyboardInterrupt",
     "evalue": "",
     "output_type": "error",
     "traceback": [
      "\u001b[1;31m---------------------------------------------------------------------------\u001b[0m",
      "\u001b[1;31mKeyboardInterrupt\u001b[0m                         Traceback (most recent call last)",
      "\u001b[1;32mD:\\qtlab_replacement\\scripts\\sweep.py\u001b[0m in \u001b[0;36msweep\u001b[1;34m(measurer, filename, root_dir, plot, header, output, save, time_war_label, cycle_save_mode, *params)\u001b[0m\n\u001b[0;32m    162\u001b[0m                         \u001b[1;31m#measuring\u001b[0m\u001b[1;33m\u001b[0m\u001b[1;33m\u001b[0m\u001b[0m\n\u001b[1;32m--> 163\u001b[1;33m                         \u001b[0mmpoint\u001b[0m \u001b[1;33m=\u001b[0m \u001b[0mmeasurer\u001b[0m\u001b[1;33m.\u001b[0m\u001b[0mmeasure\u001b[0m\u001b[1;33m(\u001b[0m\u001b[1;33m)\u001b[0m\u001b[1;33m\u001b[0m\u001b[0m\n\u001b[0m\u001b[0;32m    164\u001b[0m                         \u001b[1;31m#saving data to containers\u001b[0m\u001b[1;33m\u001b[0m\u001b[1;33m\u001b[0m\u001b[0m\n",
      "\u001b[1;32mD:\\qtlab_replacement\\instruments\\Agilent_N5242A.py\u001b[0m in \u001b[0;36mmeasure\u001b[1;34m(self)\u001b[0m\n\u001b[0;32m    522\u001b[0m         \u001b[1;32mdef\u001b[0m \u001b[0mmeasure\u001b[0m\u001b[1;33m(\u001b[0m\u001b[0mself\u001b[0m\u001b[1;33m)\u001b[0m\u001b[1;33m:\u001b[0m\u001b[1;33m\u001b[0m\u001b[0m\n\u001b[1;32m--> 523\u001b[1;33m                 \u001b[0mdata\u001b[0m \u001b[1;33m=\u001b[0m \u001b[0mself\u001b[0m\u001b[1;33m.\u001b[0m\u001b[0mget_tracedata\u001b[0m\u001b[1;33m(\u001b[0m\u001b[0mformat\u001b[0m\u001b[1;33m=\u001b[0m\u001b[1;34m'realimag'\u001b[0m\u001b[1;33m)\u001b[0m\u001b[1;33m\u001b[0m\u001b[0m\n\u001b[0m\u001b[0;32m    524\u001b[0m                 \u001b[1;32mreturn\u001b[0m \u001b[1;33m{\u001b[0m\u001b[1;34m'S-parameter'\u001b[0m\u001b[1;33m:\u001b[0m\u001b[1;33m(\u001b[0m\u001b[0mdata\u001b[0m\u001b[1;33m[\u001b[0m\u001b[1;36m0\u001b[0m\u001b[1;33m]\u001b[0m\u001b[1;33m+\u001b[0m\u001b[1;36m1j\u001b[0m\u001b[1;33m*\u001b[0m\u001b[0mdata\u001b[0m\u001b[1;33m[\u001b[0m\u001b[1;36m1\u001b[0m\u001b[1;33m]\u001b[0m\u001b[1;33m)\u001b[0m\u001b[1;33m}\u001b[0m\u001b[1;33m\u001b[0m\u001b[0m\n",
      "\u001b[1;32mD:\\qtlab_replacement\\instruments\\Agilent_N5242A.py\u001b[0m in \u001b[0;36mget_tracedata\u001b[1;34m(self, format)\u001b[0m\n\u001b[0;32m    311\u001b[0m                         \u001b[1;32mwhile\u001b[0m \u001b[0mint\u001b[0m\u001b[1;33m(\u001b[0m\u001b[0mself\u001b[0m\u001b[1;33m.\u001b[0m\u001b[0mask\u001b[0m\u001b[1;33m(\u001b[0m\u001b[1;34m\"*ESR?\"\u001b[0m\u001b[1;33m)\u001b[0m\u001b[1;33m)\u001b[0m\u001b[1;33m==\u001b[0m\u001b[1;36m0\u001b[0m\u001b[1;33m:\u001b[0m\u001b[1;33m\u001b[0m\u001b[0m\n\u001b[1;32m--> 312\u001b[1;33m                                 \u001b[0mplt\u001b[0m\u001b[1;33m.\u001b[0m\u001b[0mpause\u001b[0m\u001b[1;33m(\u001b[0m\u001b[1;36m0.05\u001b[0m\u001b[1;33m)\u001b[0m\u001b[1;33m\u001b[0m\u001b[0m\n\u001b[0m\u001b[0;32m    313\u001b[0m \u001b[1;33m\u001b[0m\u001b[0m\n",
      "\u001b[1;32mC:\\ProgramData\\Anaconda3\\lib\\site-packages\\matplotlib\\pyplot.py\u001b[0m in \u001b[0;36mpause\u001b[1;34m(interval)\u001b[0m\n\u001b[0;32m    296\u001b[0m         \u001b[0mshow\u001b[0m\u001b[1;33m(\u001b[0m\u001b[0mblock\u001b[0m\u001b[1;33m=\u001b[0m\u001b[1;32mFalse\u001b[0m\u001b[1;33m)\u001b[0m\u001b[1;33m\u001b[0m\u001b[0m\n\u001b[1;32m--> 297\u001b[1;33m         \u001b[0mcanvas\u001b[0m\u001b[1;33m.\u001b[0m\u001b[0mstart_event_loop\u001b[0m\u001b[1;33m(\u001b[0m\u001b[0minterval\u001b[0m\u001b[1;33m)\u001b[0m\u001b[1;33m\u001b[0m\u001b[0m\n\u001b[0m\u001b[0;32m    298\u001b[0m     \u001b[1;32melse\u001b[0m\u001b[1;33m:\u001b[0m\u001b[1;33m\u001b[0m\u001b[0m\n",
      "\u001b[1;32mC:\\ProgramData\\Anaconda3\\lib\\site-packages\\matplotlib\\backends\\backend_qt5.py\u001b[0m in \u001b[0;36mstart_event_loop\u001b[1;34m(self, timeout)\u001b[0m\n\u001b[0;32m    439\u001b[0m             \u001b[0mtimer\u001b[0m \u001b[1;33m=\u001b[0m \u001b[0mQtCore\u001b[0m\u001b[1;33m.\u001b[0m\u001b[0mQTimer\u001b[0m\u001b[1;33m.\u001b[0m\u001b[0msingleShot\u001b[0m\u001b[1;33m(\u001b[0m\u001b[0mtimeout\u001b[0m \u001b[1;33m*\u001b[0m \u001b[1;36m1000\u001b[0m\u001b[1;33m,\u001b[0m \u001b[0mevent_loop\u001b[0m\u001b[1;33m.\u001b[0m\u001b[0mquit\u001b[0m\u001b[1;33m)\u001b[0m\u001b[1;33m\u001b[0m\u001b[0m\n\u001b[1;32m--> 440\u001b[1;33m         \u001b[0mevent_loop\u001b[0m\u001b[1;33m.\u001b[0m\u001b[0mexec_\u001b[0m\u001b[1;33m(\u001b[0m\u001b[1;33m)\u001b[0m\u001b[1;33m\u001b[0m\u001b[0m\n\u001b[0m\u001b[0;32m    441\u001b[0m \u001b[1;33m\u001b[0m\u001b[0m\n",
      "\u001b[1;31mKeyboardInterrupt\u001b[0m: ",
      "\nDuring handling of the above exception, another exception occurred:\n",
      "\u001b[1;31mKeyboardInterrupt\u001b[0m                         Traceback (most recent call last)",
      "\u001b[1;32m<ipython-input-401-07a9e455fcca>\u001b[0m in \u001b[0;36m<module>\u001b[1;34m()\u001b[0m\n\u001b[0;32m     15\u001b[0m     sweep.sweep(pna, \n\u001b[0;32m     16\u001b[0m            \u001b[1;33m(\u001b[0m\u001b[0mvoltages\u001b[0m\u001b[1;33m,\u001b[0m \u001b[0mcompensated_setter\u001b[0m\u001b[1;33m,\u001b[0m \u001b[1;34m'Compensated voltage'\u001b[0m\u001b[1;33m)\u001b[0m\u001b[1;33m,\u001b[0m\u001b[1;33m\u001b[0m\u001b[0m\n\u001b[1;32m---> 17\u001b[1;33m             filename='Hivemind #2 compensation test channel #{}'.format(channel_id))\n\u001b[0m\u001b[0;32m     18\u001b[0m     \u001b[0mcompensated_setter\u001b[0m\u001b[1;33m(\u001b[0m\u001b[1;36m0\u001b[0m\u001b[1;33m)\u001b[0m\u001b[1;33m\u001b[0m\u001b[0m\n",
      "\u001b[1;32mD:\\qtlab_replacement\\scripts\\sweep.py\u001b[0m in \u001b[0;36msweep\u001b[1;34m(measurer, filename, root_dir, plot, header, output, save, time_war_label, cycle_save_mode, *params)\u001b[0m\n\u001b[0;32m    213\u001b[0m                         \u001b[1;31m#save_pkl.save_pkl(header, data_pkl, location = data_dir)\u001b[0m\u001b[1;33m\u001b[0m\u001b[1;33m\u001b[0m\u001b[0m\n\u001b[0;32m    214\u001b[0m                         \u001b[1;32mif\u001b[0m \u001b[1;33m(\u001b[0m\u001b[0msave\u001b[0m\u001b[1;33m)\u001b[0m\u001b[1;33m:\u001b[0m\u001b[1;33m\u001b[0m\u001b[0m\n\u001b[1;32m--> 215\u001b[1;33m                                 \u001b[0msave_pkl\u001b[0m\u001b[1;33m.\u001b[0m\u001b[0msave_pkl\u001b[0m\u001b[1;33m(\u001b[0m\u001b[0mheader\u001b[0m\u001b[1;33m,\u001b[0m \u001b[0mmk_measurement\u001b[0m\u001b[1;33m(\u001b[0m\u001b[1;36m0\u001b[0m\u001b[1;33m)\u001b[0m\u001b[1;33m,\u001b[0m \u001b[0mlocation\u001b[0m \u001b[1;33m=\u001b[0m \u001b[0mdata_dir\u001b[0m\u001b[1;33m)\u001b[0m\u001b[1;33m\u001b[0m\u001b[0m\n\u001b[0m\u001b[0;32m    216\u001b[0m \u001b[1;33m\u001b[0m\u001b[0m\n\u001b[0;32m    217\u001b[0m                         \u001b[1;32mif\u001b[0m \u001b[0mascii_files\u001b[0m\u001b[1;33m[\u001b[0m\u001b[0mmname\u001b[0m\u001b[1;33m]\u001b[0m\u001b[1;33m:\u001b[0m\u001b[1;33m\u001b[0m\u001b[0m\n",
      "\u001b[1;32mD:\\qtlab_replacement\\scripts\\save_pkl.py\u001b[0m in \u001b[0;36msave_pkl\u001b[1;34m(header, data, plot, curve_fit, annotation, location, time, filename, matlab, gzip)\u001b[0m\n\u001b[0;32m     66\u001b[0m         \u001b[0mf\u001b[0m\u001b[1;33m.\u001b[0m\u001b[0mclose\u001b[0m\u001b[1;33m(\u001b[0m\u001b[1;33m)\u001b[0m\u001b[1;33m\u001b[0m\u001b[0m\n\u001b[0;32m     67\u001b[0m         \u001b[1;32mif\u001b[0m \u001b[0mplot\u001b[0m\u001b[1;33m:\u001b[0m\u001b[1;33m\u001b[0m\u001b[0m\n\u001b[1;32m---> 68\u001b[1;33m                 \u001b[0mplotting\u001b[0m\u001b[1;33m.\u001b[0m\u001b[0mplot_measurement\u001b[0m\u001b[1;33m(\u001b[0m\u001b[0mdata\u001b[0m\u001b[1;33m,\u001b[0m \u001b[0mfilename\u001b[0m\u001b[1;33m,\u001b[0m \u001b[0msave\u001b[0m\u001b[1;33m=\u001b[0m\u001b[0mlocation\u001b[0m\u001b[1;33m,\u001b[0m \u001b[0mannotation\u001b[0m\u001b[1;33m=\u001b[0m\u001b[0mannotation\u001b[0m\u001b[1;33m)\u001b[0m\u001b[1;33m\u001b[0m\u001b[0m\n\u001b[0m\u001b[0;32m     69\u001b[0m \u001b[1;33m\u001b[0m\u001b[0m\n\u001b[0;32m     70\u001b[0m         \u001b[1;32mif\u001b[0m \u001b[0mmatlab\u001b[0m\u001b[1;33m:\u001b[0m\u001b[1;33m\u001b[0m\u001b[0m\n",
      "\u001b[1;32mD:\\qtlab_replacement\\scripts\\plotting.py\u001b[0m in \u001b[0;36mplot_measurement\u001b[1;34m(measurement, name, save, annotation)\u001b[0m\n\u001b[0;32m    116\u001b[0m                                                                 \u001b[0mplot\u001b[0m\u001b[1;33m[\u001b[0m\u001b[1;34m'filter'\u001b[0m\u001b[1;33m]\u001b[0m\u001b[1;33m(\u001b[0m\u001b[0mmeasurement\u001b[0m\u001b[1;33m[\u001b[0m\u001b[0mplot\u001b[0m\u001b[1;33m[\u001b[0m\u001b[1;34m'mname'\u001b[0m\u001b[1;33m]\u001b[0m\u001b[1;33m]\u001b[0m\u001b[1;33m[\u001b[0m\u001b[1;36m2\u001b[0m\u001b[1;33m]\u001b[0m\u001b[1;33m)\u001b[0m\u001b[1;33m,\u001b[0m\u001b[1;33m\u001b[0m\u001b[0m\n\u001b[0;32m    117\u001b[0m \t\t\t\t\t\t\t\t*measurement[plot['mname']][3:])\n\u001b[1;32m--> 118\u001b[1;33m                 \u001b[0mplots\u001b[0m \u001b[1;33m=\u001b[0m \u001b[0mplot_measurement_sa\u001b[0m\u001b[1;33m(\u001b[0m\u001b[0mmeas\u001b[0m\u001b[1;33m,\u001b[0m \u001b[0max\u001b[0m\u001b[1;33m[\u001b[0m\u001b[1;34m'axes'\u001b[0m\u001b[1;33m]\u001b[0m\u001b[1;33m)\u001b[0m\u001b[1;33m\u001b[0m\u001b[0m\n\u001b[0m\u001b[0;32m    119\u001b[0m                 \u001b[1;32mfor\u001b[0m \u001b[0mplot\u001b[0m \u001b[1;32min\u001b[0m \u001b[0mplots\u001b[0m\u001b[1;33m.\u001b[0m\u001b[0mkeys\u001b[0m\u001b[1;33m(\u001b[0m\u001b[1;33m)\u001b[0m\u001b[1;33m:\u001b[0m\u001b[1;33m\u001b[0m\u001b[0m\n\u001b[0;32m    120\u001b[0m                         \u001b[0max\u001b[0m\u001b[1;33m[\u001b[0m\u001b[1;34m'plots'\u001b[0m\u001b[1;33m]\u001b[0m\u001b[1;33m[\u001b[0m\u001b[0mplot\u001b[0m\u001b[1;33m]\u001b[0m\u001b[1;33m[\u001b[0m\u001b[1;34m'plot'\u001b[0m\u001b[1;33m]\u001b[0m \u001b[1;33m=\u001b[0m \u001b[0mplots\u001b[0m\u001b[1;33m[\u001b[0m\u001b[0mplot\u001b[0m\u001b[1;33m]\u001b[0m\u001b[1;33m\u001b[0m\u001b[0m\n",
      "\u001b[1;32mD:\\qtlab_replacement\\scripts\\plotting.py\u001b[0m in \u001b[0;36mplot_measurement_sa\u001b[1;34m(measurement, axes)\u001b[0m\n\u001b[0;32m    197\u001b[0m                                         \u001b[0mplot\u001b[0m\u001b[1;33m.\u001b[0m\u001b[0mT\u001b[0m \u001b[1;33m=\u001b[0m \u001b[1;32mTrue\u001b[0m\u001b[1;33m\u001b[0m\u001b[0m\n\u001b[0;32m    198\u001b[0m                         \u001b[1;32mif\u001b[0m \u001b[0mdata_dim\u001b[0m \u001b[1;33m==\u001b[0m \u001b[1;36m2\u001b[0m\u001b[1;33m:\u001b[0m\u001b[1;33m\u001b[0m\u001b[0m\n\u001b[1;32m--> 199\u001b[1;33m                                 \u001b[0mplt\u001b[0m\u001b[1;33m.\u001b[0m\u001b[0mclf\u001b[0m\u001b[1;33m(\u001b[0m\u001b[1;33m)\u001b[0m\u001b[1;33m\u001b[0m\u001b[0m\n\u001b[0m\u001b[0;32m    200\u001b[0m                                 \u001b[1;32mif\u001b[0m \u001b[0maxes_indeces\u001b[0m\u001b[1;33m[\u001b[0m\u001b[1;36m0\u001b[0m\u001b[1;33m]\u001b[0m \u001b[1;33m==\u001b[0m \u001b[1;36m0\u001b[0m\u001b[1;33m:\u001b[0m\u001b[1;33m\u001b[0m\u001b[0m\n\u001b[0;32m    201\u001b[0m                                         \u001b[0mxformatter\u001b[0m \u001b[1;33m=\u001b[0m \u001b[0mEngFormatter\u001b[0m\u001b[1;33m(\u001b[0m\u001b[0munit\u001b[0m\u001b[1;33m=\u001b[0m\u001b[0mpunits\u001b[0m\u001b[1;33m[\u001b[0m\u001b[1;36m0\u001b[0m\u001b[1;33m]\u001b[0m\u001b[1;33m)\u001b[0m\u001b[1;33m\u001b[0m\u001b[0m\n",
      "\u001b[1;32mC:\\ProgramData\\Anaconda3\\lib\\site-packages\\matplotlib\\pyplot.py\u001b[0m in \u001b[0;36mclf\u001b[1;34m()\u001b[0m\n\u001b[0;32m    675\u001b[0m     \u001b[0mClear\u001b[0m \u001b[0mthe\u001b[0m \u001b[0mcurrent\u001b[0m \u001b[0mfigure\u001b[0m\u001b[1;33m.\u001b[0m\u001b[1;33m\u001b[0m\u001b[0m\n\u001b[0;32m    676\u001b[0m     \"\"\"\n\u001b[1;32m--> 677\u001b[1;33m     \u001b[0mgcf\u001b[0m\u001b[1;33m(\u001b[0m\u001b[1;33m)\u001b[0m\u001b[1;33m.\u001b[0m\u001b[0mclf\u001b[0m\u001b[1;33m(\u001b[0m\u001b[1;33m)\u001b[0m\u001b[1;33m\u001b[0m\u001b[0m\n\u001b[0m\u001b[0;32m    678\u001b[0m \u001b[1;33m\u001b[0m\u001b[0m\n\u001b[0;32m    679\u001b[0m \u001b[1;33m\u001b[0m\u001b[0m\n",
      "\u001b[1;32mC:\\ProgramData\\Anaconda3\\lib\\site-packages\\matplotlib\\figure.py\u001b[0m in \u001b[0;36mclf\u001b[1;34m(self, keep_observers)\u001b[0m\n\u001b[0;32m   1242\u001b[0m \u001b[1;33m\u001b[0m\u001b[0m\n\u001b[0;32m   1243\u001b[0m         \u001b[1;32mfor\u001b[0m \u001b[0max\u001b[0m \u001b[1;32min\u001b[0m \u001b[0mtuple\u001b[0m\u001b[1;33m(\u001b[0m\u001b[0mself\u001b[0m\u001b[1;33m.\u001b[0m\u001b[0maxes\u001b[0m\u001b[1;33m)\u001b[0m\u001b[1;33m:\u001b[0m  \u001b[1;31m# Iterate over the copy.\u001b[0m\u001b[1;33m\u001b[0m\u001b[0m\n\u001b[1;32m-> 1244\u001b[1;33m             \u001b[0max\u001b[0m\u001b[1;33m.\u001b[0m\u001b[0mcla\u001b[0m\u001b[1;33m(\u001b[0m\u001b[1;33m)\u001b[0m\u001b[1;33m\u001b[0m\u001b[0m\n\u001b[0m\u001b[0;32m   1245\u001b[0m             \u001b[0mself\u001b[0m\u001b[1;33m.\u001b[0m\u001b[0mdelaxes\u001b[0m\u001b[1;33m(\u001b[0m\u001b[0max\u001b[0m\u001b[1;33m)\u001b[0m         \u001b[1;31m# removes ax from self._axstack\u001b[0m\u001b[1;33m\u001b[0m\u001b[0m\n\u001b[0;32m   1246\u001b[0m \u001b[1;33m\u001b[0m\u001b[0m\n",
      "\u001b[1;32mC:\\ProgramData\\Anaconda3\\lib\\site-packages\\matplotlib\\axes\\_base.py\u001b[0m in \u001b[0;36mcla\u001b[1;34m(self)\u001b[0m\n\u001b[0;32m    980\u001b[0m         \u001b[0mself\u001b[0m\u001b[1;33m.\u001b[0m\u001b[0myaxis\u001b[0m\u001b[1;33m.\u001b[0m\u001b[0mcla\u001b[0m\u001b[1;33m(\u001b[0m\u001b[1;33m)\u001b[0m\u001b[1;33m\u001b[0m\u001b[0m\n\u001b[0;32m    981\u001b[0m         \u001b[1;32mfor\u001b[0m \u001b[0mname\u001b[0m\u001b[1;33m,\u001b[0m \u001b[0mspine\u001b[0m \u001b[1;32min\u001b[0m \u001b[0msix\u001b[0m\u001b[1;33m.\u001b[0m\u001b[0miteritems\u001b[0m\u001b[1;33m(\u001b[0m\u001b[0mself\u001b[0m\u001b[1;33m.\u001b[0m\u001b[0mspines\u001b[0m\u001b[1;33m)\u001b[0m\u001b[1;33m:\u001b[0m\u001b[1;33m\u001b[0m\u001b[0m\n\u001b[1;32m--> 982\u001b[1;33m             \u001b[0mspine\u001b[0m\u001b[1;33m.\u001b[0m\u001b[0mcla\u001b[0m\u001b[1;33m(\u001b[0m\u001b[1;33m)\u001b[0m\u001b[1;33m\u001b[0m\u001b[0m\n\u001b[0m\u001b[0;32m    983\u001b[0m \u001b[1;33m\u001b[0m\u001b[0m\n\u001b[0;32m    984\u001b[0m         \u001b[0mself\u001b[0m\u001b[1;33m.\u001b[0m\u001b[0mignore_existing_data_limits\u001b[0m \u001b[1;33m=\u001b[0m \u001b[1;32mTrue\u001b[0m\u001b[1;33m\u001b[0m\u001b[0m\n",
      "\u001b[1;32mC:\\ProgramData\\Anaconda3\\lib\\site-packages\\matplotlib\\spines.py\u001b[0m in \u001b[0;36mcla\u001b[1;34m(self)\u001b[0m\n\u001b[0;32m    181\u001b[0m         \u001b[0mself\u001b[0m\u001b[1;33m.\u001b[0m\u001b[0m_position\u001b[0m \u001b[1;33m=\u001b[0m \u001b[1;32mNone\u001b[0m  \u001b[1;31m# clear position\u001b[0m\u001b[1;33m\u001b[0m\u001b[0m\n\u001b[0;32m    182\u001b[0m         \u001b[1;32mif\u001b[0m \u001b[0mself\u001b[0m\u001b[1;33m.\u001b[0m\u001b[0maxis\u001b[0m \u001b[1;32mis\u001b[0m \u001b[1;32mnot\u001b[0m \u001b[1;32mNone\u001b[0m\u001b[1;33m:\u001b[0m\u001b[1;33m\u001b[0m\u001b[0m\n\u001b[1;32m--> 183\u001b[1;33m             \u001b[0mself\u001b[0m\u001b[1;33m.\u001b[0m\u001b[0maxis\u001b[0m\u001b[1;33m.\u001b[0m\u001b[0mcla\u001b[0m\u001b[1;33m(\u001b[0m\u001b[1;33m)\u001b[0m\u001b[1;33m\u001b[0m\u001b[0m\n\u001b[0m\u001b[0;32m    184\u001b[0m \u001b[1;33m\u001b[0m\u001b[0m\n\u001b[0;32m    185\u001b[0m     \u001b[1;32mdef\u001b[0m \u001b[0mis_frame_like\u001b[0m\u001b[1;33m(\u001b[0m\u001b[0mself\u001b[0m\u001b[1;33m)\u001b[0m\u001b[1;33m:\u001b[0m\u001b[1;33m\u001b[0m\u001b[0m\n",
      "\u001b[1;32mC:\\ProgramData\\Anaconda3\\lib\\site-packages\\matplotlib\\axis.py\u001b[0m in \u001b[0;36mcla\u001b[1;34m(self)\u001b[0m\n\u001b[0;32m    771\u001b[0m         \u001b[0mself\u001b[0m\u001b[1;33m.\u001b[0m\u001b[0m_set_artist_props\u001b[0m\u001b[1;33m(\u001b[0m\u001b[0mself\u001b[0m\u001b[1;33m.\u001b[0m\u001b[0mlabel\u001b[0m\u001b[1;33m)\u001b[0m\u001b[1;33m\u001b[0m\u001b[0m\n\u001b[0;32m    772\u001b[0m \u001b[1;33m\u001b[0m\u001b[0m\n\u001b[1;32m--> 773\u001b[1;33m         \u001b[0mself\u001b[0m\u001b[1;33m.\u001b[0m\u001b[0mreset_ticks\u001b[0m\u001b[1;33m(\u001b[0m\u001b[1;33m)\u001b[0m\u001b[1;33m\u001b[0m\u001b[0m\n\u001b[0m\u001b[0;32m    774\u001b[0m \u001b[1;33m\u001b[0m\u001b[0m\n\u001b[0;32m    775\u001b[0m         \u001b[0mself\u001b[0m\u001b[1;33m.\u001b[0m\u001b[0mconverter\u001b[0m \u001b[1;33m=\u001b[0m \u001b[1;32mNone\u001b[0m\u001b[1;33m\u001b[0m\u001b[0m\n",
      "\u001b[1;32mC:\\ProgramData\\Anaconda3\\lib\\site-packages\\matplotlib\\axis.py\u001b[0m in \u001b[0;36mreset_ticks\u001b[1;34m(self)\u001b[0m\n\u001b[0;32m    785\u001b[0m         \u001b[1;32mdel\u001b[0m \u001b[0mself\u001b[0m\u001b[1;33m.\u001b[0m\u001b[0mminorTicks\u001b[0m\u001b[1;33m[\u001b[0m\u001b[1;33m:\u001b[0m\u001b[1;33m]\u001b[0m\u001b[1;33m\u001b[0m\u001b[0m\n\u001b[0;32m    786\u001b[0m \u001b[1;33m\u001b[0m\u001b[0m\n\u001b[1;32m--> 787\u001b[1;33m         \u001b[0mself\u001b[0m\u001b[1;33m.\u001b[0m\u001b[0mmajorTicks\u001b[0m\u001b[1;33m.\u001b[0m\u001b[0mextend\u001b[0m\u001b[1;33m(\u001b[0m\u001b[1;33m[\u001b[0m\u001b[0mself\u001b[0m\u001b[1;33m.\u001b[0m\u001b[0m_get_tick\u001b[0m\u001b[1;33m(\u001b[0m\u001b[0mmajor\u001b[0m\u001b[1;33m=\u001b[0m\u001b[1;32mTrue\u001b[0m\u001b[1;33m)\u001b[0m\u001b[1;33m]\u001b[0m\u001b[1;33m)\u001b[0m\u001b[1;33m\u001b[0m\u001b[0m\n\u001b[0m\u001b[0;32m    788\u001b[0m         \u001b[0mself\u001b[0m\u001b[1;33m.\u001b[0m\u001b[0mminorTicks\u001b[0m\u001b[1;33m.\u001b[0m\u001b[0mextend\u001b[0m\u001b[1;33m(\u001b[0m\u001b[1;33m[\u001b[0m\u001b[0mself\u001b[0m\u001b[1;33m.\u001b[0m\u001b[0m_get_tick\u001b[0m\u001b[1;33m(\u001b[0m\u001b[0mmajor\u001b[0m\u001b[1;33m=\u001b[0m\u001b[1;32mFalse\u001b[0m\u001b[1;33m)\u001b[0m\u001b[1;33m]\u001b[0m\u001b[1;33m)\u001b[0m\u001b[1;33m\u001b[0m\u001b[0m\n\u001b[0;32m    789\u001b[0m         \u001b[0mself\u001b[0m\u001b[1;33m.\u001b[0m\u001b[0m_lastNumMajorTicks\u001b[0m \u001b[1;33m=\u001b[0m \u001b[1;36m1\u001b[0m\u001b[1;33m\u001b[0m\u001b[0m\n",
      "\u001b[1;32mC:\\ProgramData\\Anaconda3\\lib\\site-packages\\matplotlib\\axis.py\u001b[0m in \u001b[0;36m_get_tick\u001b[1;34m(self, major)\u001b[0m\n\u001b[0;32m   2095\u001b[0m         \u001b[1;32melse\u001b[0m\u001b[1;33m:\u001b[0m\u001b[1;33m\u001b[0m\u001b[0m\n\u001b[0;32m   2096\u001b[0m             \u001b[0mtick_kw\u001b[0m \u001b[1;33m=\u001b[0m \u001b[0mself\u001b[0m\u001b[1;33m.\u001b[0m\u001b[0m_minor_tick_kw\u001b[0m\u001b[1;33m\u001b[0m\u001b[0m\n\u001b[1;32m-> 2097\u001b[1;33m         \u001b[1;32mreturn\u001b[0m \u001b[0mYTick\u001b[0m\u001b[1;33m(\u001b[0m\u001b[0mself\u001b[0m\u001b[1;33m.\u001b[0m\u001b[0maxes\u001b[0m\u001b[1;33m,\u001b[0m \u001b[1;36m0\u001b[0m\u001b[1;33m,\u001b[0m \u001b[1;34m''\u001b[0m\u001b[1;33m,\u001b[0m \u001b[0mmajor\u001b[0m\u001b[1;33m=\u001b[0m\u001b[0mmajor\u001b[0m\u001b[1;33m,\u001b[0m \u001b[1;33m**\u001b[0m\u001b[0mtick_kw\u001b[0m\u001b[1;33m)\u001b[0m\u001b[1;33m\u001b[0m\u001b[0m\n\u001b[0m\u001b[0;32m   2098\u001b[0m \u001b[1;33m\u001b[0m\u001b[0m\n\u001b[0;32m   2099\u001b[0m     \u001b[1;32mdef\u001b[0m \u001b[0m_get_label\u001b[0m\u001b[1;33m(\u001b[0m\u001b[0mself\u001b[0m\u001b[1;33m)\u001b[0m\u001b[1;33m:\u001b[0m\u001b[1;33m\u001b[0m\u001b[0m\n",
      "\u001b[1;32mC:\\ProgramData\\Anaconda3\\lib\\site-packages\\matplotlib\\axis.py\u001b[0m in \u001b[0;36m__init__\u001b[1;34m(self, axes, loc, label, size, width, color, tickdir, pad, labelsize, labelcolor, zorder, gridOn, tick1On, tick2On, label1On, label2On, major, labelrotation)\u001b[0m\n\u001b[0;32m    153\u001b[0m \u001b[1;33m\u001b[0m\u001b[0m\n\u001b[0;32m    154\u001b[0m         \u001b[0mself\u001b[0m\u001b[1;33m.\u001b[0m\u001b[0mtick1line\u001b[0m \u001b[1;33m=\u001b[0m \u001b[0mself\u001b[0m\u001b[1;33m.\u001b[0m\u001b[0m_get_tick1line\u001b[0m\u001b[1;33m(\u001b[0m\u001b[1;33m)\u001b[0m\u001b[1;33m\u001b[0m\u001b[0m\n\u001b[1;32m--> 155\u001b[1;33m         \u001b[0mself\u001b[0m\u001b[1;33m.\u001b[0m\u001b[0mtick2line\u001b[0m \u001b[1;33m=\u001b[0m \u001b[0mself\u001b[0m\u001b[1;33m.\u001b[0m\u001b[0m_get_tick2line\u001b[0m\u001b[1;33m(\u001b[0m\u001b[1;33m)\u001b[0m\u001b[1;33m\u001b[0m\u001b[0m\n\u001b[0m\u001b[0;32m    156\u001b[0m         \u001b[0mself\u001b[0m\u001b[1;33m.\u001b[0m\u001b[0mgridline\u001b[0m \u001b[1;33m=\u001b[0m \u001b[0mself\u001b[0m\u001b[1;33m.\u001b[0m\u001b[0m_get_gridline\u001b[0m\u001b[1;33m(\u001b[0m\u001b[1;33m)\u001b[0m\u001b[1;33m\u001b[0m\u001b[0m\n\u001b[0;32m    157\u001b[0m \u001b[1;33m\u001b[0m\u001b[0m\n",
      "\u001b[1;32mC:\\ProgramData\\Anaconda3\\lib\\site-packages\\matplotlib\\axis.py\u001b[0m in \u001b[0;36m_get_tick2line\u001b[1;34m(self)\u001b[0m\n\u001b[0;32m    580\u001b[0m                           \u001b[0mmarkersize\u001b[0m\u001b[1;33m=\u001b[0m\u001b[0mself\u001b[0m\u001b[1;33m.\u001b[0m\u001b[0m_size\u001b[0m\u001b[1;33m,\u001b[0m\u001b[1;33m\u001b[0m\u001b[0m\n\u001b[0;32m    581\u001b[0m                           \u001b[0mmarkeredgewidth\u001b[0m\u001b[1;33m=\u001b[0m\u001b[0mself\u001b[0m\u001b[1;33m.\u001b[0m\u001b[0m_width\u001b[0m\u001b[1;33m,\u001b[0m\u001b[1;33m\u001b[0m\u001b[0m\n\u001b[1;32m--> 582\u001b[1;33m                           zorder=self._zorder)\n\u001b[0m\u001b[0;32m    583\u001b[0m         \u001b[0ml\u001b[0m\u001b[1;33m.\u001b[0m\u001b[0mset_transform\u001b[0m\u001b[1;33m(\u001b[0m\u001b[0mself\u001b[0m\u001b[1;33m.\u001b[0m\u001b[0maxes\u001b[0m\u001b[1;33m.\u001b[0m\u001b[0mget_yaxis_transform\u001b[0m\u001b[1;33m(\u001b[0m\u001b[0mwhich\u001b[0m\u001b[1;33m=\u001b[0m\u001b[1;34m'tick2'\u001b[0m\u001b[1;33m)\u001b[0m\u001b[1;33m)\u001b[0m\u001b[1;33m\u001b[0m\u001b[0m\n\u001b[0;32m    584\u001b[0m         \u001b[0mself\u001b[0m\u001b[1;33m.\u001b[0m\u001b[0m_set_artist_props\u001b[0m\u001b[1;33m(\u001b[0m\u001b[0ml\u001b[0m\u001b[1;33m)\u001b[0m\u001b[1;33m\u001b[0m\u001b[0m\n",
      "\u001b[1;32mC:\\ProgramData\\Anaconda3\\lib\\site-packages\\matplotlib\\lines.py\u001b[0m in \u001b[0;36m__init__\u001b[1;34m(self, xdata, ydata, linewidth, linestyle, color, marker, markersize, markeredgewidth, markeredgecolor, markerfacecolor, markerfacecoloralt, fillstyle, antialiased, dash_capstyle, solid_capstyle, dash_joinstyle, solid_joinstyle, pickradius, drawstyle, markevery, **kwargs)\u001b[0m\n\u001b[0;32m    400\u001b[0m         \u001b[0mself\u001b[0m\u001b[1;33m.\u001b[0m\u001b[0m_color\u001b[0m \u001b[1;33m=\u001b[0m \u001b[1;32mNone\u001b[0m\u001b[1;33m\u001b[0m\u001b[0m\n\u001b[0;32m    401\u001b[0m         \u001b[0mself\u001b[0m\u001b[1;33m.\u001b[0m\u001b[0mset_color\u001b[0m\u001b[1;33m(\u001b[0m\u001b[0mcolor\u001b[0m\u001b[1;33m)\u001b[0m\u001b[1;33m\u001b[0m\u001b[0m\n\u001b[1;32m--> 402\u001b[1;33m         \u001b[0mself\u001b[0m\u001b[1;33m.\u001b[0m\u001b[0m_marker\u001b[0m \u001b[1;33m=\u001b[0m \u001b[0mMarkerStyle\u001b[0m\u001b[1;33m(\u001b[0m\u001b[0mmarker\u001b[0m\u001b[1;33m,\u001b[0m \u001b[0mfillstyle\u001b[0m\u001b[1;33m)\u001b[0m\u001b[1;33m\u001b[0m\u001b[0m\n\u001b[0m\u001b[0;32m    403\u001b[0m \u001b[1;33m\u001b[0m\u001b[0m\n\u001b[0;32m    404\u001b[0m         \u001b[0mself\u001b[0m\u001b[1;33m.\u001b[0m\u001b[0m_markevery\u001b[0m \u001b[1;33m=\u001b[0m \u001b[1;32mNone\u001b[0m\u001b[1;33m\u001b[0m\u001b[0m\n",
      "\u001b[1;32mC:\\ProgramData\\Anaconda3\\lib\\site-packages\\matplotlib\\markers.py\u001b[0m in \u001b[0;36m__init__\u001b[1;34m(self, marker, fillstyle)\u001b[0m\n\u001b[0;32m    187\u001b[0m         \u001b[0mself\u001b[0m\u001b[1;33m.\u001b[0m\u001b[0m_marker_function\u001b[0m \u001b[1;33m=\u001b[0m \u001b[1;32mNone\u001b[0m\u001b[1;33m\u001b[0m\u001b[0m\n\u001b[0;32m    188\u001b[0m         \u001b[0mself\u001b[0m\u001b[1;33m.\u001b[0m\u001b[0mset_fillstyle\u001b[0m\u001b[1;33m(\u001b[0m\u001b[0mfillstyle\u001b[0m\u001b[1;33m)\u001b[0m\u001b[1;33m\u001b[0m\u001b[0m\n\u001b[1;32m--> 189\u001b[1;33m         \u001b[0mself\u001b[0m\u001b[1;33m.\u001b[0m\u001b[0mset_marker\u001b[0m\u001b[1;33m(\u001b[0m\u001b[0mmarker\u001b[0m\u001b[1;33m)\u001b[0m\u001b[1;33m\u001b[0m\u001b[0m\n\u001b[0m\u001b[0;32m    190\u001b[0m \u001b[1;33m\u001b[0m\u001b[0m\n\u001b[0;32m    191\u001b[0m     \u001b[1;32mdef\u001b[0m \u001b[0m__getstate__\u001b[0m\u001b[1;33m(\u001b[0m\u001b[0mself\u001b[0m\u001b[1;33m)\u001b[0m\u001b[1;33m:\u001b[0m\u001b[1;33m\u001b[0m\u001b[0m\n",
      "\u001b[1;32mC:\\ProgramData\\Anaconda3\\lib\\site-packages\\matplotlib\\markers.py\u001b[0m in \u001b[0;36mset_marker\u001b[1;34m(self, marker)\u001b[0m\n\u001b[0;32m    273\u001b[0m \u001b[1;33m\u001b[0m\u001b[0m\n\u001b[0;32m    274\u001b[0m         \u001b[0mself\u001b[0m\u001b[1;33m.\u001b[0m\u001b[0m_marker\u001b[0m \u001b[1;33m=\u001b[0m \u001b[0mmarker\u001b[0m\u001b[1;33m\u001b[0m\u001b[0m\n\u001b[1;32m--> 275\u001b[1;33m         \u001b[0mself\u001b[0m\u001b[1;33m.\u001b[0m\u001b[0m_recache\u001b[0m\u001b[1;33m(\u001b[0m\u001b[1;33m)\u001b[0m\u001b[1;33m\u001b[0m\u001b[0m\n\u001b[0m\u001b[0;32m    276\u001b[0m \u001b[1;33m\u001b[0m\u001b[0m\n\u001b[0;32m    277\u001b[0m     \u001b[1;32mdef\u001b[0m \u001b[0mget_path\u001b[0m\u001b[1;33m(\u001b[0m\u001b[0mself\u001b[0m\u001b[1;33m)\u001b[0m\u001b[1;33m:\u001b[0m\u001b[1;33m\u001b[0m\u001b[0m\n",
      "\u001b[1;32mC:\\ProgramData\\Anaconda3\\lib\\site-packages\\matplotlib\\markers.py\u001b[0m in \u001b[0;36m_recache\u001b[1;34m(self)\u001b[0m\n\u001b[0;32m    209\u001b[0m         \u001b[0mself\u001b[0m\u001b[1;33m.\u001b[0m\u001b[0m_capstyle\u001b[0m \u001b[1;33m=\u001b[0m \u001b[1;34m'butt'\u001b[0m\u001b[1;33m\u001b[0m\u001b[0m\n\u001b[0;32m    210\u001b[0m         \u001b[0mself\u001b[0m\u001b[1;33m.\u001b[0m\u001b[0m_filled\u001b[0m \u001b[1;33m=\u001b[0m \u001b[1;32mTrue\u001b[0m\u001b[1;33m\u001b[0m\u001b[0m\n\u001b[1;32m--> 211\u001b[1;33m         \u001b[0mself\u001b[0m\u001b[1;33m.\u001b[0m\u001b[0m_marker_function\u001b[0m\u001b[1;33m(\u001b[0m\u001b[1;33m)\u001b[0m\u001b[1;33m\u001b[0m\u001b[0m\n\u001b[0m\u001b[0;32m    212\u001b[0m \u001b[1;33m\u001b[0m\u001b[0m\n\u001b[0;32m    213\u001b[0m     \u001b[1;32mif\u001b[0m \u001b[0msix\u001b[0m\u001b[1;33m.\u001b[0m\u001b[0mPY3\u001b[0m\u001b[1;33m:\u001b[0m\u001b[1;33m\u001b[0m\u001b[0m\n",
      "\u001b[1;32mC:\\ProgramData\\Anaconda3\\lib\\site-packages\\matplotlib\\markers.py\u001b[0m in \u001b[0;36m_set_tickright\u001b[1;34m(self)\u001b[0m\n\u001b[0;32m    707\u001b[0m \u001b[1;33m\u001b[0m\u001b[0m\n\u001b[0;32m    708\u001b[0m     \u001b[1;32mdef\u001b[0m \u001b[0m_set_tickright\u001b[0m\u001b[1;33m(\u001b[0m\u001b[0mself\u001b[0m\u001b[1;33m)\u001b[0m\u001b[1;33m:\u001b[0m\u001b[1;33m\u001b[0m\u001b[0m\n\u001b[1;32m--> 709\u001b[1;33m         \u001b[0mself\u001b[0m\u001b[1;33m.\u001b[0m\u001b[0m_transform\u001b[0m \u001b[1;33m=\u001b[0m \u001b[0mAffine2D\u001b[0m\u001b[1;33m(\u001b[0m\u001b[1;33m)\u001b[0m\u001b[1;33m.\u001b[0m\u001b[0mscale\u001b[0m\u001b[1;33m(\u001b[0m\u001b[1;36m1.0\u001b[0m\u001b[1;33m,\u001b[0m \u001b[1;36m1.0\u001b[0m\u001b[1;33m)\u001b[0m\u001b[1;33m\u001b[0m\u001b[0m\n\u001b[0m\u001b[0;32m    710\u001b[0m         \u001b[0mself\u001b[0m\u001b[1;33m.\u001b[0m\u001b[0m_snap_threshold\u001b[0m \u001b[1;33m=\u001b[0m \u001b[1;36m1.0\u001b[0m\u001b[1;33m\u001b[0m\u001b[0m\n\u001b[0;32m    711\u001b[0m         \u001b[0mself\u001b[0m\u001b[1;33m.\u001b[0m\u001b[0m_filled\u001b[0m \u001b[1;33m=\u001b[0m \u001b[1;32mFalse\u001b[0m\u001b[1;33m\u001b[0m\u001b[0m\n",
      "\u001b[1;32mC:\\ProgramData\\Anaconda3\\lib\\site-packages\\matplotlib\\transforms.py\u001b[0m in \u001b[0;36mscale\u001b[1;34m(self, sx, sy)\u001b[0m\n\u001b[0;32m   2071\u001b[0m         scale_mtx = np.array(\n\u001b[0;32m   2072\u001b[0m             [[sx, 0.0, 0.0], [0.0, sy, 0.0], [0.0, 0.0, 1.0]], float)\n\u001b[1;32m-> 2073\u001b[1;33m         \u001b[0mself\u001b[0m\u001b[1;33m.\u001b[0m\u001b[0m_mtx\u001b[0m \u001b[1;33m=\u001b[0m \u001b[0mnp\u001b[0m\u001b[1;33m.\u001b[0m\u001b[0mdot\u001b[0m\u001b[1;33m(\u001b[0m\u001b[0mscale_mtx\u001b[0m\u001b[1;33m,\u001b[0m \u001b[0mself\u001b[0m\u001b[1;33m.\u001b[0m\u001b[0m_mtx\u001b[0m\u001b[1;33m)\u001b[0m\u001b[1;33m\u001b[0m\u001b[0m\n\u001b[0m\u001b[0;32m   2074\u001b[0m         \u001b[0mself\u001b[0m\u001b[1;33m.\u001b[0m\u001b[0minvalidate\u001b[0m\u001b[1;33m(\u001b[0m\u001b[1;33m)\u001b[0m\u001b[1;33m\u001b[0m\u001b[0m\n\u001b[0;32m   2075\u001b[0m         \u001b[1;32mreturn\u001b[0m \u001b[0mself\u001b[0m\u001b[1;33m\u001b[0m\u001b[0m\n",
      "\u001b[1;31mKeyboardInterrupt\u001b[0m: "
     ]
    }
   ],
   "source": [
    "def set_control_compensated(x, target, compensator, scale):\n",
    "    compensation = -x*scale\n",
    "    target(x)\n",
    "    compensator(compensation)\n",
    "    #print (x, scale, compensation)\n",
    "\n",
    "current_src1.set_status(1)\n",
    "pna.set_bandwidth(500)\n",
    "for control_id in [i for i in hivemind_qubit_controls.keys()]:\n",
    "    channel_id = control_id\n",
    "    compensated_setter = lambda x: set_control_compensated(x,  \n",
    "                                                       lambda y:dac.set_voltage(channel_id, y),\n",
    "                                                       current_src1.set_current,\n",
    "                                                       hivemind_qubit_controls[channel_id]['Lr']*period_reference)\n",
    "    sweep.sweep(pna, \n",
    "           (voltages, compensated_setter, 'Compensated voltage'), \n",
    "            filename='Hivemind #2 compensation test channel #{}'.format(channel_id))\n",
    "    compensated_setter(0)"
   ]
  },
  {
   "cell_type": "markdown",
   "metadata": {},
   "source": [
    "## Two-tone in resonator degeneracy point test"
   ]
  },
  {
   "cell_type": "code",
   "execution_count": 16,
   "metadata": {
    "collapsed": true
   },
   "outputs": [],
   "source": [
    "import pandas"
   ]
  },
  {
   "cell_type": "code",
   "execution_count": 16,
   "metadata": {
    "collapsed": true
   },
   "outputs": [],
   "source": [
    "dac=nndac()"
   ]
  },
  {
   "cell_type": "code",
   "execution_count": 17,
   "metadata": {
    "collapsed": true
   },
   "outputs": [],
   "source": [
    "## assembling indutance matrix for linear resonator drift compensation\n",
    "LM0 = {25:{channel_id:hivemind_qubit_controls[channel_id]['Lr'] for channel_id in hivemind_qubit_controls.keys()}}\n",
    "LM0.update({channel_id1:{channel_id2:1.0 if channel_id1==channel_id2 else 0.0 for channel_id2 in [25]+list(hivemind_qubit_controls.keys())} \\\n",
    "       for channel_id1 in hivemind_qubit_controls.keys()})\n",
    "LM0[25][25]=1/period_reference\n",
    "\n",
    "LM0_df = pandas.DataFrame(LM0)\n",
    "LM0_inv = np.linalg.inv(np.asarray(LM0_df))\n",
    "LM0_inv_df = LM0_df.copy()\n",
    "LM0_inv_df.iloc[:,:] = LM0_inv.T\n",
    "#LM0_inv_df"
   ]
  },
  {
   "cell_type": "code",
   "execution_count": 18,
   "metadata": {
    "collapsed": true
   },
   "outputs": [],
   "source": [
    "def set_control_resonator_max(cval, control_id, resonator_val=1/2.):\n",
    "    target_vec = {_control_id:cval if _control_id == control_id else 0.0 for _control_id in hivemind_qubit_controls.keys()}\n",
    "    target_vec[25] = centre_reference/period_reference+resonator_val # go to maximum\n",
    "    target_fluxes = pandas.Series(target_vec)\n",
    "    control_vec = np.asarray(np.dot(np.asarray(LM0_inv_df), np.asarray(target_fluxes))).ravel().tolist()\n",
    "    column_names = [i for i in pandas.DataFrame(target_vec).columns]\n",
    "    control_vec_df = pandas.DataFrame({n:v for n,v in zip(column_names, control_vec)})\n",
    "    #return control_vec_df\n",
    "    for channel_id in control_vec_df.keys():\n",
    "        if channel_id<23:\n",
    "            #print(type(control_vec_df[channel_id][0]), type(channel_id))\n",
    "            dac.set_voltage(value=control_vec_df[channel_id][0], channel_number=channel_id)\n",
    "        elif channel_id==25:\n",
    "            current_src1.set_current(control_vec_df[channel_id])"
   ]
  },
  {
   "cell_type": "code",
   "execution_count": 20,
   "metadata": {
    "collapsed": true
   },
   "outputs": [],
   "source": [
    "set_control_resonator_max(-0.0, 0,-1/2)"
   ]
  },
  {
   "cell_type": "code",
   "execution_count": 413,
   "metadata": {},
   "outputs": [
    {
     "data": {
      "text/plain": [
       "True"
      ]
     },
     "execution_count": 413,
     "metadata": {},
     "output_type": "execute_result"
    }
   ],
   "source": [
    "pna.set_nop(101)\n",
    "pna.set_xlim(9.9e9, 10.1e9)\n",
    "pna.set_power(-50)\n",
    "pna.set_bandwidth(1000)"
   ]
  },
  {
   "cell_type": "code",
   "execution_count": 183,
   "metadata": {
    "collapsed": true
   },
   "outputs": [],
   "source": [
    "dac = nndac()"
   ]
  },
  {
   "cell_type": "code",
   "execution_count": 21,
   "metadata": {
    "scrolled": true
   },
   "outputs": [
    {
     "data": {
      "application/vnd.jupyter.widget-view+json": {
       "model_id": "eaef354e0ed6455a9e08efc1492080df",
       "version_major": 2,
       "version_minor": 0
      },
      "text/plain": [
       "A Jupyter Widget"
      ]
     },
     "metadata": {},
     "output_type": "display_data"
    },
    {
     "name": "stdout",
     "output_type": "stream",
     "text": [
      "Started at:  May 21 2018 20:34:59\n",
      "\n",
      "Elapsed time: 0 h 1 m 25.82 s\n"
     ]
    },
    {
     "data": {
      "application/vnd.jupyter.widget-view+json": {
       "model_id": "565dbcf5152e4147aa2747b5aa988579",
       "version_major": 2,
       "version_minor": 0
      },
      "text/plain": [
       "A Jupyter Widget"
      ]
     },
     "metadata": {},
     "output_type": "display_data"
    },
    {
     "name": "stdout",
     "output_type": "stream",
     "text": [
      "Started at:  May 21 2018 20:36:26\n",
      "\n",
      "Elapsed time: 0 h 1 m 25.1 s\n"
     ]
    },
    {
     "data": {
      "application/vnd.jupyter.widget-view+json": {
       "model_id": "b638c070c6894ee197fa5f48a3ee2453",
       "version_major": 2,
       "version_minor": 0
      },
      "text/plain": [
       "A Jupyter Widget"
      ]
     },
     "metadata": {},
     "output_type": "display_data"
    },
    {
     "name": "stdout",
     "output_type": "stream",
     "text": [
      "Started at:  May 21 2018 20:37:53\n",
      "\n",
      "Elapsed time: 0 h 1 m 25.46 s\n"
     ]
    }
   ],
   "source": [
    "lo1.set_status(0)\n",
    "current_src1.set_status(1)\n",
    "#pna.set_bandwidth(500)\n",
    "voltages_highres = np.linspace(-4, 4, 101)\n",
    "for control_id in [i for i in hivemind_qubit_controls.keys() if i<3]:\n",
    "#for control_id in [2]:\n",
    "    channel_id = control_id\n",
    "    compensated_setter = lambda x: set_control_resonator_max(x, control_id, resonator_val=-1/2)\n",
    "    pna.set_power(-15)\n",
    "    pna.set_bandwidth(1000)\n",
    "    sweep.sweep(pna, \n",
    "           (voltages_highres, compensated_setter, 'Compensated voltage #{}'.format(channel_id)), \n",
    "            filename='Hivemind #2 compensation test channel #{}'.format(channel_id))\n",
    "    compensated_setter(0)"
   ]
  },
  {
   "cell_type": "markdown",
   "metadata": {},
   "source": [
    "## Tone-tone 1d Scan (testing two-tone)"
   ]
  },
  {
   "cell_type": "code",
   "execution_count": 34,
   "metadata": {},
   "outputs": [
    {
     "data": {
      "text/plain": [
       "True"
      ]
     },
     "execution_count": 34,
     "metadata": {},
     "output_type": "execute_result"
    }
   ],
   "source": [
    "lo1.set_status(0)"
   ]
  },
  {
   "cell_type": "code",
   "execution_count": 20,
   "metadata": {},
   "outputs": [
    {
     "data": {
      "application/vnd.jupyter.widget-view+json": {
       "model_id": "ca514ce5034b45eab8d1b75c63a6b72f",
       "version_major": 2,
       "version_minor": 0
      },
      "text/plain": [
       "A Jupyter Widget"
      ]
     },
     "metadata": {},
     "output_type": "display_data"
    },
    {
     "name": "stdout",
     "output_type": "stream",
     "text": [
      "Started at:  May 21 2018 13:00:06\n"
     ]
    },
    {
     "name": "stderr",
     "output_type": "stream",
     "text": [
      "C:\\ProgramData\\Anaconda3\\lib\\site-packages\\matplotlib\\cbook\\deprecation.py:106: MatplotlibDeprecationWarning: Adding an axes using the same arguments as a previous axes currently reuses the earlier instance.  In a future version, a new instance will always be created and returned.  Meanwhile, this warning can be suppressed, and the future behavior ensured, by passing a unique label to each axes instance.\n",
      "  warnings.warn(message, mplDeprecation, stacklevel=1)\n"
     ]
    },
    {
     "name": "stdout",
     "output_type": "stream",
     "text": [
      "\n",
      "Elapsed time: 0 h 6 m 53.24 s\n"
     ]
    },
    {
     "data": {
      "text/plain": [
       "{'S-parameter': (('Second tone frequency',),\n",
       "  (array([  3.00000000e+09,   3.00500000e+09,   3.01000000e+09, ...,\n",
       "            7.99000000e+09,   7.99500000e+09,   8.00000000e+09]),),\n",
       "  array([-0.00085865-0.0011788j , -0.00085080-0.00118373j,\n",
       "         -0.00087402-0.00118511j, ..., -0.00091554-0.00114945j,\n",
       "         -0.00090378-0.00115605j, -0.00093635-0.00114289j]),\n",
       "  {'log': 20},\n",
       "  ('',))}"
      ]
     },
     "execution_count": 20,
     "metadata": {},
     "output_type": "execute_result"
    }
   ],
   "source": [
    "pna.set_centerfreq(10.02e9)\n",
    "pna.set_span(0)\n",
    "pna.set_nop(1)\n",
    "pna.set_bandwidth(5)\n",
    "tone2_freqs = np.linspace(3e9, 8e9, 1001)\n",
    "#tone2_powers = np.linspace(0, 18, 19)\n",
    "lo1.set_power(10)\n",
    "sweep.sweep(pna, \n",
    "            (tone2_freqs, lo1.set_frequency, 'Second tone frequency'), \n",
    "            filename='Two-tone frequency test scan power ex res-x ro res-z {}dBm'.format(int(lo1.get_power())))"
   ]
  },
  {
   "cell_type": "code",
   "execution_count": 21,
   "metadata": {
    "scrolled": true
   },
   "outputs": [
    {
     "data": {
      "application/vnd.jupyter.widget-view+json": {
       "model_id": "29b633e33803451b866639065b18e023",
       "version_major": 2,
       "version_minor": 0
      },
      "text/plain": [
       "A Jupyter Widget"
      ]
     },
     "metadata": {},
     "output_type": "display_data"
    },
    {
     "name": "stdout",
     "output_type": "stream",
     "text": [
      "Started at:  May 21 2018 13:12:26\n"
     ]
    },
    {
     "name": "stderr",
     "output_type": "stream",
     "text": [
      "C:\\ProgramData\\Anaconda3\\lib\\site-packages\\matplotlib\\cbook\\deprecation.py:106: MatplotlibDeprecationWarning: Adding an axes using the same arguments as a previous axes currently reuses the earlier instance.  In a future version, a new instance will always be created and returned.  Meanwhile, this warning can be suppressed, and the future behavior ensured, by passing a unique label to each axes instance.\n",
      "  warnings.warn(message, mplDeprecation, stacklevel=1)\n"
     ]
    },
    {
     "name": "stdout",
     "output_type": "stream",
     "text": [
      "\n",
      "Elapsed time: 0 h 10 m 42.18 s\n"
     ]
    },
    {
     "data": {
      "text/plain": [
       "{'S-parameter': (('Second tone frequency', 'Second tone power'),\n",
       "  (array([  5.90000000e+09,   5.90200000e+09,   5.90400000e+09,\n",
       "            5.90600000e+09,   5.90800000e+09,   5.91000000e+09,\n",
       "            5.91200000e+09,   5.91400000e+09,   5.91600000e+09,\n",
       "            5.91800000e+09,   5.92000000e+09,   5.92200000e+09,\n",
       "            5.92400000e+09,   5.92600000e+09,   5.92800000e+09,\n",
       "            5.93000000e+09,   5.93200000e+09,   5.93400000e+09,\n",
       "            5.93600000e+09,   5.93800000e+09,   5.94000000e+09,\n",
       "            5.94200000e+09,   5.94400000e+09,   5.94600000e+09,\n",
       "            5.94800000e+09,   5.95000000e+09,   5.95200000e+09,\n",
       "            5.95400000e+09,   5.95600000e+09,   5.95800000e+09,\n",
       "            5.96000000e+09,   5.96200000e+09,   5.96400000e+09,\n",
       "            5.96600000e+09,   5.96800000e+09,   5.97000000e+09,\n",
       "            5.97200000e+09,   5.97400000e+09,   5.97600000e+09,\n",
       "            5.97800000e+09,   5.98000000e+09,   5.98200000e+09,\n",
       "            5.98400000e+09,   5.98600000e+09,   5.98800000e+09,\n",
       "            5.99000000e+09,   5.99200000e+09,   5.99400000e+09,\n",
       "            5.99600000e+09,   5.99800000e+09,   6.00000000e+09,\n",
       "            6.00200000e+09,   6.00400000e+09,   6.00600000e+09,\n",
       "            6.00800000e+09,   6.01000000e+09,   6.01200000e+09,\n",
       "            6.01400000e+09,   6.01600000e+09,   6.01800000e+09,\n",
       "            6.02000000e+09,   6.02200000e+09,   6.02400000e+09,\n",
       "            6.02600000e+09,   6.02800000e+09,   6.03000000e+09,\n",
       "            6.03200000e+09,   6.03400000e+09,   6.03600000e+09,\n",
       "            6.03800000e+09,   6.04000000e+09,   6.04200000e+09,\n",
       "            6.04400000e+09,   6.04600000e+09,   6.04800000e+09,\n",
       "            6.05000000e+09,   6.05200000e+09,   6.05400000e+09,\n",
       "            6.05600000e+09,   6.05800000e+09,   6.06000000e+09,\n",
       "            6.06200000e+09,   6.06400000e+09,   6.06600000e+09,\n",
       "            6.06800000e+09,   6.07000000e+09,   6.07200000e+09,\n",
       "            6.07400000e+09,   6.07600000e+09,   6.07800000e+09,\n",
       "            6.08000000e+09,   6.08200000e+09,   6.08400000e+09,\n",
       "            6.08600000e+09,   6.08800000e+09,   6.09000000e+09,\n",
       "            6.09200000e+09,   6.09400000e+09,   6.09600000e+09,\n",
       "            6.09800000e+09,   6.10000000e+09,   6.10200000e+09,\n",
       "            6.10400000e+09,   6.10600000e+09,   6.10800000e+09,\n",
       "            6.11000000e+09,   6.11200000e+09,   6.11400000e+09,\n",
       "            6.11600000e+09,   6.11800000e+09,   6.12000000e+09,\n",
       "            6.12200000e+09,   6.12400000e+09,   6.12600000e+09,\n",
       "            6.12800000e+09,   6.13000000e+09,   6.13200000e+09,\n",
       "            6.13400000e+09,   6.13600000e+09,   6.13800000e+09,\n",
       "            6.14000000e+09,   6.14200000e+09,   6.14400000e+09,\n",
       "            6.14600000e+09,   6.14800000e+09,   6.15000000e+09,\n",
       "            6.15200000e+09,   6.15400000e+09,   6.15600000e+09,\n",
       "            6.15800000e+09,   6.16000000e+09,   6.16200000e+09,\n",
       "            6.16400000e+09,   6.16600000e+09,   6.16800000e+09,\n",
       "            6.17000000e+09,   6.17200000e+09,   6.17400000e+09,\n",
       "            6.17600000e+09,   6.17800000e+09,   6.18000000e+09,\n",
       "            6.18200000e+09,   6.18400000e+09,   6.18600000e+09,\n",
       "            6.18800000e+09,   6.19000000e+09,   6.19200000e+09,\n",
       "            6.19400000e+09,   6.19600000e+09,   6.19800000e+09,\n",
       "            6.20000000e+09,   6.20200000e+09,   6.20400000e+09,\n",
       "            6.20600000e+09,   6.20800000e+09,   6.21000000e+09,\n",
       "            6.21200000e+09,   6.21400000e+09,   6.21600000e+09,\n",
       "            6.21800000e+09,   6.22000000e+09,   6.22200000e+09,\n",
       "            6.22400000e+09,   6.22600000e+09,   6.22800000e+09,\n",
       "            6.23000000e+09,   6.23200000e+09,   6.23400000e+09,\n",
       "            6.23600000e+09,   6.23800000e+09,   6.24000000e+09,\n",
       "            6.24200000e+09,   6.24400000e+09,   6.24600000e+09,\n",
       "            6.24800000e+09,   6.25000000e+09,   6.25200000e+09,\n",
       "            6.25400000e+09,   6.25600000e+09,   6.25800000e+09,\n",
       "            6.26000000e+09,   6.26200000e+09,   6.26400000e+09,\n",
       "            6.26600000e+09,   6.26800000e+09,   6.27000000e+09,\n",
       "            6.27200000e+09,   6.27400000e+09,   6.27600000e+09,\n",
       "            6.27800000e+09,   6.28000000e+09,   6.28200000e+09,\n",
       "            6.28400000e+09,   6.28600000e+09,   6.28800000e+09,\n",
       "            6.29000000e+09,   6.29200000e+09,   6.29400000e+09,\n",
       "            6.29600000e+09,   6.29800000e+09,   6.30000000e+09]),\n",
       "   array([  0.,   3.,   6.,   9.,  12.,  15.,  18.])),\n",
       "  array([[ -8.15933818e-05-0.00148437j,  -5.24472234e-05-0.00150549j,\n",
       "           -7.31773180e-05-0.00149099j, ...,  -1.78490227e-04-0.00148194j,\n",
       "           -3.29112838e-04-0.00151908j,  -4.43092256e-04-0.00148376j],\n",
       "         [ -1.07657310e-04-0.00148032j,  -1.28418877e-04-0.00149378j,\n",
       "           -1.05869760e-04-0.00150524j, ...,  -1.97759058e-04-0.00152272j,\n",
       "           -2.79105123e-04-0.00151439j,  -4.44571837e-04-0.00147285j],\n",
       "         [ -9.56844378e-05-0.00148866j,  -7.28542145e-05-0.00149039j,\n",
       "           -1.30282322e-04-0.00148655j, ...,  -1.79016992e-04-0.00152442j,\n",
       "           -3.17193393e-04-0.00150948j,  -4.92931867e-04-0.00145482j],\n",
       "         ..., \n",
       "         [ -5.51808989e-05-0.00150179j,  -8.75630358e-05-0.00152469j,\n",
       "           -1.24808750e-04-0.00148113j, ...,  -4.20568249e-04-0.00147708j,\n",
       "           -6.00355968e-04-0.00141278j,  -7.40576244e-04-0.00139988j],\n",
       "         [ -5.59242362e-05-0.00147157j,  -5.51626072e-05-0.0014832j ,\n",
       "           -1.20228702e-04-0.00151014j, ...,  -4.50723077e-04-0.00148775j,\n",
       "           -5.97447739e-04-0.00142127j,  -7.79932132e-04-0.00135366j],\n",
       "         [ -4.26508013e-05-0.00147735j,  -5.84399822e-05-0.00147165j,\n",
       "           -1.33935173e-04-0.00148408j, ...,  -4.25181410e-04-0.00147292j,\n",
       "           -6.32060401e-04-0.00142008j,  -7.57217407e-04-0.00138924j]]),\n",
       "  {'log': 20},\n",
       "  ('', ''))}"
      ]
     },
     "execution_count": 21,
     "metadata": {},
     "output_type": "execute_result"
    }
   ],
   "source": [
    "pna.set_centerfreq(10.02e9)\n",
    "pna.set_span(0)\n",
    "pna.set_nop(1)\n",
    "pna.set_bandwidth(5)\n",
    "tone2_freqs = np.linspace(5.9e9, 6.3e9, 201)\n",
    "tone2_powers = np.linspace(0, 18, 7)\n",
    "#lo1.set_power(10)\n",
    "sweep.sweep(pna, \n",
    "            (tone2_freqs, lo1.set_frequency, 'Second tone frequency'), \n",
    "            (tone2_powers, lo1.set_power, 'Second tone power'), \n",
    "            filename='Two-tone frequency test scan power ex antenna')"
   ]
  },
  {
   "cell_type": "code",
   "execution_count": 155,
   "metadata": {},
   "outputs": [
    {
     "data": {
      "text/plain": [
       "True"
      ]
     },
     "execution_count": 155,
     "metadata": {},
     "output_type": "execute_result"
    }
   ],
   "source": [
    "pna.set_xlim(6.5e9, 6.5e9)\n",
    "pna.set_nop(1)"
   ]
  },
  {
   "cell_type": "code",
   "execution_count": 155,
   "metadata": {},
   "outputs": [
    {
     "data": {
      "application/vnd.jupyter.widget-view+json": {
       "model_id": "edfceb6f9cd840f7871c45e5fd46d22f",
       "version_major": 2,
       "version_minor": 0
      },
      "text/plain": [
       "A Jupyter Widget"
      ]
     },
     "metadata": {},
     "output_type": "display_data"
    },
    {
     "name": "stdout",
     "output_type": "stream",
     "text": [
      "Started at:  May 11 2018 22:57:44\n",
      "\n",
      "Elapsed time: 0 h 0 m 12.17 s\n"
     ]
    },
    {
     "data": {
      "text/plain": [
       "{'S-parameter': (('Second tone power', 'Frequency'),\n",
       "  (array([-20., -18., -16., -14., -12., -10.,  -8.,  -6.,  -4.,  -2.,   0.]),\n",
       "   array([  6.50000000e+09,   6.51000000e+09,   6.52000000e+09,\n",
       "            6.53000000e+09,   6.54000000e+09,   6.55000000e+09,\n",
       "            6.56000000e+09,   6.57000000e+09,   6.58000000e+09,\n",
       "            6.59000000e+09,   6.60000000e+09,   6.61000000e+09,\n",
       "            6.62000000e+09,   6.63000000e+09,   6.64000000e+09,\n",
       "            6.65000000e+09,   6.66000000e+09,   6.67000000e+09,\n",
       "            6.68000000e+09,   6.69000000e+09,   6.70000000e+09,\n",
       "            6.71000000e+09,   6.72000000e+09,   6.73000000e+09,\n",
       "            6.74000000e+09,   6.75000000e+09,   6.76000000e+09,\n",
       "            6.77000000e+09,   6.78000000e+09,   6.79000000e+09,\n",
       "            6.80000000e+09,   6.81000000e+09,   6.82000000e+09,\n",
       "            6.83000000e+09,   6.84000000e+09,   6.85000000e+09,\n",
       "            6.86000000e+09,   6.87000000e+09,   6.88000000e+09,\n",
       "            6.89000000e+09,   6.90000000e+09,   6.91000000e+09,\n",
       "            6.92000000e+09,   6.93000000e+09,   6.94000000e+09,\n",
       "            6.95000000e+09,   6.96000000e+09,   6.97000000e+09,\n",
       "            6.98000000e+09,   6.99000000e+09,   7.00000000e+09,\n",
       "            7.01000000e+09,   7.02000000e+09,   7.03000000e+09,\n",
       "            7.04000000e+09,   7.05000000e+09,   7.06000000e+09,\n",
       "            7.07000000e+09,   7.08000000e+09,   7.09000000e+09,\n",
       "            7.10000000e+09,   7.11000000e+09,   7.12000000e+09,\n",
       "            7.13000000e+09,   7.14000000e+09,   7.15000000e+09,\n",
       "            7.16000000e+09,   7.17000000e+09,   7.18000000e+09,\n",
       "            7.19000000e+09,   7.20000000e+09,   7.21000000e+09,\n",
       "            7.22000000e+09,   7.23000000e+09,   7.24000000e+09,\n",
       "            7.25000000e+09,   7.26000000e+09,   7.27000000e+09,\n",
       "            7.28000000e+09,   7.29000000e+09,   7.30000000e+09,\n",
       "            7.31000000e+09,   7.32000000e+09,   7.33000000e+09,\n",
       "            7.34000000e+09,   7.35000000e+09,   7.36000000e+09,\n",
       "            7.37000000e+09,   7.38000000e+09,   7.39000000e+09,\n",
       "            7.40000000e+09,   7.41000000e+09,   7.42000000e+09,\n",
       "            7.43000000e+09,   7.44000000e+09,   7.45000000e+09,\n",
       "            7.46000000e+09,   7.47000000e+09,   7.48000000e+09,\n",
       "            7.49000000e+09,   7.50000000e+09,   7.51000000e+09,\n",
       "            7.52000000e+09,   7.53000000e+09,   7.54000000e+09,\n",
       "            7.55000000e+09,   7.56000000e+09,   7.57000000e+09,\n",
       "            7.58000000e+09,   7.59000000e+09,   7.60000000e+09,\n",
       "            7.61000000e+09,   7.62000000e+09,   7.63000000e+09,\n",
       "            7.64000000e+09,   7.65000000e+09,   7.66000000e+09,\n",
       "            7.67000000e+09,   7.68000000e+09,   7.69000000e+09,\n",
       "            7.70000000e+09,   7.71000000e+09,   7.72000000e+09,\n",
       "            7.73000000e+09,   7.74000000e+09,   7.75000000e+09,\n",
       "            7.76000000e+09,   7.77000000e+09,   7.78000000e+09,\n",
       "            7.79000000e+09,   7.80000000e+09,   7.81000000e+09,\n",
       "            7.82000000e+09,   7.83000000e+09,   7.84000000e+09,\n",
       "            7.85000000e+09,   7.86000000e+09,   7.87000000e+09,\n",
       "            7.88000000e+09,   7.89000000e+09,   7.90000000e+09,\n",
       "            7.91000000e+09,   7.92000000e+09,   7.93000000e+09,\n",
       "            7.94000000e+09,   7.95000000e+09,   7.96000000e+09,\n",
       "            7.97000000e+09,   7.98000000e+09,   7.99000000e+09,\n",
       "            8.00000000e+09,   8.01000000e+09,   8.02000000e+09,\n",
       "            8.03000000e+09,   8.04000000e+09,   8.05000000e+09,\n",
       "            8.06000000e+09,   8.07000000e+09,   8.08000000e+09,\n",
       "            8.09000000e+09,   8.10000000e+09,   8.11000000e+09,\n",
       "            8.12000000e+09,   8.13000000e+09,   8.14000000e+09,\n",
       "            8.15000000e+09,   8.16000000e+09,   8.17000000e+09,\n",
       "            8.18000000e+09,   8.19000000e+09,   8.20000000e+09,\n",
       "            8.21000000e+09,   8.22000000e+09,   8.23000000e+09,\n",
       "            8.24000000e+09,   8.25000000e+09,   8.26000000e+09,\n",
       "            8.27000000e+09,   8.28000000e+09,   8.29000000e+09,\n",
       "            8.30000000e+09,   8.31000000e+09,   8.32000000e+09,\n",
       "            8.33000000e+09,   8.34000000e+09,   8.35000000e+09,\n",
       "            8.36000000e+09,   8.37000000e+09,   8.38000000e+09,\n",
       "            8.39000000e+09,   8.40000000e+09,   8.41000000e+09,\n",
       "            8.42000000e+09,   8.43000000e+09,   8.44000000e+09,\n",
       "            8.45000000e+09,   8.46000000e+09,   8.47000000e+09,\n",
       "            8.48000000e+09,   8.49000000e+09,   8.50000000e+09,\n",
       "            8.51000000e+09,   8.52000000e+09,   8.53000000e+09,\n",
       "            8.54000000e+09,   8.55000000e+09,   8.56000000e+09,\n",
       "            8.57000000e+09,   8.58000000e+09,   8.59000000e+09,\n",
       "            8.60000000e+09,   8.61000000e+09,   8.62000000e+09,\n",
       "            8.63000000e+09,   8.64000000e+09,   8.65000000e+09,\n",
       "            8.66000000e+09,   8.67000000e+09,   8.68000000e+09,\n",
       "            8.69000000e+09,   8.70000000e+09,   8.71000000e+09,\n",
       "            8.72000000e+09,   8.73000000e+09,   8.74000000e+09,\n",
       "            8.75000000e+09,   8.76000000e+09,   8.77000000e+09,\n",
       "            8.78000000e+09,   8.79000000e+09,   8.80000000e+09,\n",
       "            8.81000000e+09,   8.82000000e+09,   8.83000000e+09,\n",
       "            8.84000000e+09,   8.85000000e+09,   8.86000000e+09,\n",
       "            8.87000000e+09,   8.88000000e+09,   8.89000000e+09,\n",
       "            8.90000000e+09,   8.91000000e+09,   8.92000000e+09,\n",
       "            8.93000000e+09,   8.94000000e+09,   8.95000000e+09,\n",
       "            8.96000000e+09,   8.97000000e+09,   8.98000000e+09,\n",
       "            8.99000000e+09,   9.00000000e+09,   9.01000000e+09,\n",
       "            9.02000000e+09,   9.03000000e+09,   9.04000000e+09,\n",
       "            9.05000000e+09,   9.06000000e+09,   9.07000000e+09,\n",
       "            9.08000000e+09,   9.09000000e+09,   9.10000000e+09,\n",
       "            9.11000000e+09,   9.12000000e+09,   9.13000000e+09,\n",
       "            9.14000000e+09,   9.15000000e+09,   9.16000000e+09,\n",
       "            9.17000000e+09,   9.18000000e+09,   9.19000000e+09,\n",
       "            9.20000000e+09,   9.21000000e+09,   9.22000000e+09,\n",
       "            9.23000000e+09,   9.24000000e+09,   9.25000000e+09,\n",
       "            9.26000000e+09,   9.27000000e+09,   9.28000000e+09,\n",
       "            9.29000000e+09,   9.30000000e+09,   9.31000000e+09,\n",
       "            9.32000000e+09,   9.33000000e+09,   9.34000000e+09,\n",
       "            9.35000000e+09,   9.36000000e+09,   9.37000000e+09,\n",
       "            9.38000000e+09,   9.39000000e+09,   9.40000000e+09,\n",
       "            9.41000000e+09,   9.42000000e+09,   9.43000000e+09,\n",
       "            9.44000000e+09,   9.45000000e+09,   9.46000000e+09,\n",
       "            9.47000000e+09,   9.48000000e+09,   9.49000000e+09,\n",
       "            9.50000000e+09,   9.51000000e+09,   9.52000000e+09,\n",
       "            9.53000000e+09,   9.54000000e+09,   9.55000000e+09,\n",
       "            9.56000000e+09,   9.57000000e+09,   9.58000000e+09,\n",
       "            9.59000000e+09,   9.60000000e+09,   9.61000000e+09,\n",
       "            9.62000000e+09,   9.63000000e+09,   9.64000000e+09,\n",
       "            9.65000000e+09,   9.66000000e+09,   9.67000000e+09,\n",
       "            9.68000000e+09,   9.69000000e+09,   9.70000000e+09,\n",
       "            9.71000000e+09,   9.72000000e+09,   9.73000000e+09,\n",
       "            9.74000000e+09,   9.75000000e+09,   9.76000000e+09,\n",
       "            9.77000000e+09,   9.78000000e+09,   9.79000000e+09,\n",
       "            9.80000000e+09,   9.81000000e+09,   9.82000000e+09,\n",
       "            9.83000000e+09,   9.84000000e+09,   9.85000000e+09,\n",
       "            9.86000000e+09,   9.87000000e+09,   9.88000000e+09,\n",
       "            9.89000000e+09,   9.90000000e+09,   9.91000000e+09,\n",
       "            9.92000000e+09,   9.93000000e+09,   9.94000000e+09,\n",
       "            9.95000000e+09,   9.96000000e+09,   9.97000000e+09,\n",
       "            9.98000000e+09,   9.99000000e+09,   1.00000000e+10,\n",
       "            1.00100000e+10,   1.00200000e+10,   1.00300000e+10,\n",
       "            1.00400000e+10,   1.00500000e+10,   1.00600000e+10,\n",
       "            1.00700000e+10,   1.00800000e+10,   1.00900000e+10,\n",
       "            1.01000000e+10,   1.01100000e+10,   1.01200000e+10,\n",
       "            1.01300000e+10,   1.01400000e+10,   1.01500000e+10,\n",
       "            1.01600000e+10,   1.01700000e+10,   1.01800000e+10,\n",
       "            1.01900000e+10,   1.02000000e+10,   1.02100000e+10,\n",
       "            1.02200000e+10,   1.02300000e+10,   1.02400000e+10,\n",
       "            1.02500000e+10,   1.02600000e+10,   1.02700000e+10,\n",
       "            1.02800000e+10,   1.02900000e+10,   1.03000000e+10,\n",
       "            1.03100000e+10,   1.03200000e+10,   1.03300000e+10,\n",
       "            1.03400000e+10,   1.03500000e+10,   1.03600000e+10,\n",
       "            1.03700000e+10,   1.03800000e+10,   1.03900000e+10,\n",
       "            1.04000000e+10,   1.04100000e+10,   1.04200000e+10,\n",
       "            1.04300000e+10,   1.04400000e+10,   1.04500000e+10,\n",
       "            1.04600000e+10,   1.04700000e+10,   1.04800000e+10,\n",
       "            1.04900000e+10,   1.05000000e+10])),\n",
       "  array([[ 0.00238712+0.00436546j, -0.00494832-0.00244624j,\n",
       "           0.00473604+0.00128872j, ...,  0.02226329-0.00093215j,\n",
       "          -0.02217455+0.00536311j,  0.01848510-0.01222743j],\n",
       "         [ 0.00435753+0.00367252j, -0.00461836-0.00075697j,\n",
       "           0.00613232+0.00228912j, ...,  0.02230893+0.00303053j,\n",
       "          -0.02081240+0.00449607j,  0.02178558-0.01242331j],\n",
       "         [ 0.00345946+0.00344758j, -0.00298077-0.00300666j,\n",
       "           0.00399081+0.0009836j , ...,  0.02277517+0.00066638j,\n",
       "          -0.02023266+0.00566197j,  0.02145800-0.01261141j],\n",
       "         ..., \n",
       "         [ 0.00338503+0.00256958j, -0.00595688-0.00226541j,\n",
       "           0.00429139+0.00055013j, ...,  0.02087839+0.00237602j,\n",
       "          -0.02322870+0.00508534j,  0.01985660-0.01173815j],\n",
       "         [ 0.00444472+0.00515099j, -0.00318904-0.00358466j,\n",
       "           0.00503539+0.00135459j, ...,  0.02096965+0.00116149j,\n",
       "          -0.02149139+0.00541385j,  0.01807761-0.0095033j ],\n",
       "         [ 0.00299486+0.00229514j, -0.00246336-0.00305611j,\n",
       "           0.00454054+0.00235246j, ...,  0.02122735+0.00475514j,\n",
       "          -0.02197005+0.00549947j,  0.02354227-0.01061874j]]),\n",
       "  {'log': 20},\n",
       "  ('', 'Hz'))}"
      ]
     },
     "execution_count": 155,
     "metadata": {},
     "output_type": "execute_result"
    }
   ],
   "source": [
    "\n",
    "lo1.set_frequency(10e9)\n",
    "lo1.set_status(1)\n",
    "powers = np.linspace(-20, 18, 19)\n",
    "sweep.sweep(pna, (powers, lo1.set_power, 'Second tone power'), filename='Check two-tone response presence on resonator freq')"
   ]
  },
  {
   "cell_type": "markdown",
   "metadata": {},
   "source": [
    "## Two-tone current-frequency spectra"
   ]
  },
  {
   "cell_type": "code",
   "execution_count": 429,
   "metadata": {},
   "outputs": [
    {
     "data": {
      "text/plain": [
       "[<matplotlib.lines.Line2D at 0x1f401706c88>]"
      ]
     },
     "execution_count": 429,
     "metadata": {},
     "output_type": "execute_result"
    }
   ],
   "source": [
    "pna.set_centerfreq(9.975e9)\n",
    "pna.set_nop(101)\n",
    "pna.set_bandwidth(100)\n",
    "pna.set_span(100e6)\n",
    "plt.plot(pna.get_freqpoints(), pna.get_tracedata()[0])"
   ]
  },
  {
   "cell_type": "code",
   "execution_count": 427,
   "metadata": {},
   "outputs": [
    {
     "data": {
      "text/plain": [
       "True"
      ]
     },
     "execution_count": 427,
     "metadata": {},
     "output_type": "execute_result"
    }
   ],
   "source": [
    "lo1.set_status(1)\n",
    "lo1.set_power(5)"
   ]
  },
  {
   "cell_type": "code",
   "execution_count": 152,
   "metadata": {
    "collapsed": true
   },
   "outputs": [],
   "source": [
    "set_control_resonator_max(-0.0, 0)"
   ]
  },
  {
   "cell_type": "code",
   "execution_count": 25,
   "metadata": {
    "scrolled": true
   },
   "outputs": [
    {
     "data": {
      "application/vnd.jupyter.widget-view+json": {
       "model_id": "0a784ef3598d40c1b868fecb4c706e80",
       "version_major": 2,
       "version_minor": 0
      },
      "text/plain": [
       "A Jupyter Widget"
      ]
     },
     "metadata": {},
     "output_type": "display_data"
    },
    {
     "name": "stdout",
     "output_type": "stream",
     "text": [
      "Started at:  May 21 2018 21:00:42\n",
      "\n",
      "Elapsed time: 0 h 3 m 16.52 s\n"
     ]
    },
    {
     "data": {
      "application/vnd.jupyter.widget-view+json": {
       "model_id": "e5669602394849cabf3acfd1932a8e7a",
       "version_major": 2,
       "version_minor": 0
      },
      "text/plain": [
       "A Jupyter Widget"
      ]
     },
     "metadata": {},
     "output_type": "display_data"
    },
    {
     "name": "stdout",
     "output_type": "stream",
     "text": [
      "Started at:  May 21 2018 21:04:00\n",
      "\n",
      "Elapsed time: 0 h 3 m 14.91 s\n"
     ]
    },
    {
     "data": {
      "application/vnd.jupyter.widget-view+json": {
       "model_id": "d84bef8e684c44e191ae77c943e69cb8",
       "version_major": 2,
       "version_minor": 0
      },
      "text/plain": [
       "A Jupyter Widget"
      ]
     },
     "metadata": {},
     "output_type": "display_data"
    },
    {
     "name": "stdout",
     "output_type": "stream",
     "text": [
      "Started at:  May 21 2018 21:07:17\n"
     ]
    },
    {
     "ename": "KeyboardInterrupt",
     "evalue": "",
     "output_type": "error",
     "traceback": [
      "\u001b[1;31m---------------------------------------------------------------------------\u001b[0m",
      "\u001b[1;31mKeyboardInterrupt\u001b[0m                         Traceback (most recent call last)",
      "\u001b[1;32mD:\\qtlab_replacement\\scripts\\sweep.py\u001b[0m in \u001b[0;36msweep\u001b[1;34m(measurer, filename, root_dir, plot, header, output, save, time_war_label, cycle_save_mode, *params)\u001b[0m\n\u001b[0;32m    162\u001b[0m                         \u001b[1;31m#measuring\u001b[0m\u001b[1;33m\u001b[0m\u001b[1;33m\u001b[0m\u001b[0m\n\u001b[1;32m--> 163\u001b[1;33m                         \u001b[0mmpoint\u001b[0m \u001b[1;33m=\u001b[0m \u001b[0mmeasurer\u001b[0m\u001b[1;33m.\u001b[0m\u001b[0mmeasure\u001b[0m\u001b[1;33m(\u001b[0m\u001b[1;33m)\u001b[0m\u001b[1;33m\u001b[0m\u001b[0m\n\u001b[0m\u001b[0;32m    164\u001b[0m                         \u001b[1;31m#saving data to containers\u001b[0m\u001b[1;33m\u001b[0m\u001b[1;33m\u001b[0m\u001b[0m\n",
      "\u001b[1;32mD:\\qtlab_replacement\\instruments\\Agilent_N5242A.py\u001b[0m in \u001b[0;36mmeasure\u001b[1;34m(self)\u001b[0m\n\u001b[0;32m    522\u001b[0m         \u001b[1;32mdef\u001b[0m \u001b[0mmeasure\u001b[0m\u001b[1;33m(\u001b[0m\u001b[0mself\u001b[0m\u001b[1;33m)\u001b[0m\u001b[1;33m:\u001b[0m\u001b[1;33m\u001b[0m\u001b[0m\n\u001b[1;32m--> 523\u001b[1;33m                 \u001b[0mdata\u001b[0m \u001b[1;33m=\u001b[0m \u001b[0mself\u001b[0m\u001b[1;33m.\u001b[0m\u001b[0mget_tracedata\u001b[0m\u001b[1;33m(\u001b[0m\u001b[0mformat\u001b[0m\u001b[1;33m=\u001b[0m\u001b[1;34m'realimag'\u001b[0m\u001b[1;33m)\u001b[0m\u001b[1;33m\u001b[0m\u001b[0m\n\u001b[0m\u001b[0;32m    524\u001b[0m                 \u001b[1;32mreturn\u001b[0m \u001b[1;33m{\u001b[0m\u001b[1;34m'S-parameter'\u001b[0m\u001b[1;33m:\u001b[0m\u001b[1;33m(\u001b[0m\u001b[0mdata\u001b[0m\u001b[1;33m[\u001b[0m\u001b[1;36m0\u001b[0m\u001b[1;33m]\u001b[0m\u001b[1;33m+\u001b[0m\u001b[1;36m1j\u001b[0m\u001b[1;33m*\u001b[0m\u001b[0mdata\u001b[0m\u001b[1;33m[\u001b[0m\u001b[1;36m1\u001b[0m\u001b[1;33m]\u001b[0m\u001b[1;33m)\u001b[0m\u001b[1;33m}\u001b[0m\u001b[1;33m\u001b[0m\u001b[0m\n",
      "\u001b[1;32mD:\\qtlab_replacement\\instruments\\Agilent_N5242A.py\u001b[0m in \u001b[0;36mget_tracedata\u001b[1;34m(self, format)\u001b[0m\n\u001b[0;32m    310\u001b[0m                         \u001b[1;31m#Wait until ready and let plots to handle events (mouse drag and so on)\u001b[0m\u001b[1;33m\u001b[0m\u001b[1;33m\u001b[0m\u001b[0m\n\u001b[1;32m--> 311\u001b[1;33m                         \u001b[1;32mwhile\u001b[0m \u001b[0mint\u001b[0m\u001b[1;33m(\u001b[0m\u001b[0mself\u001b[0m\u001b[1;33m.\u001b[0m\u001b[0mask\u001b[0m\u001b[1;33m(\u001b[0m\u001b[1;34m\"*ESR?\"\u001b[0m\u001b[1;33m)\u001b[0m\u001b[1;33m)\u001b[0m\u001b[1;33m==\u001b[0m\u001b[1;36m0\u001b[0m\u001b[1;33m:\u001b[0m\u001b[1;33m\u001b[0m\u001b[0m\n\u001b[0m\u001b[0;32m    312\u001b[0m                                 \u001b[0mplt\u001b[0m\u001b[1;33m.\u001b[0m\u001b[0mpause\u001b[0m\u001b[1;33m(\u001b[0m\u001b[1;36m0.05\u001b[0m\u001b[1;33m)\u001b[0m\u001b[1;33m\u001b[0m\u001b[0m\n",
      "\u001b[1;32mD:\\qtlab_replacement\\instruments\\Agilent_N5242A.py\u001b[0m in \u001b[0;36mask\u001b[1;34m(self, msg)\u001b[0m\n\u001b[0;32m    863\u001b[0m         \u001b[1;32mdef\u001b[0m \u001b[0mask\u001b[0m\u001b[1;33m(\u001b[0m\u001b[0mself\u001b[0m\u001b[1;33m,\u001b[0m\u001b[0mmsg\u001b[0m\u001b[1;33m)\u001b[0m\u001b[1;33m:\u001b[0m\u001b[1;33m\u001b[0m\u001b[0m\n\u001b[1;32m--> 864\u001b[1;33m                 \u001b[1;32mreturn\u001b[0m \u001b[0mself\u001b[0m\u001b[1;33m.\u001b[0m\u001b[0m_visainstrument\u001b[0m\u001b[1;33m.\u001b[0m\u001b[0mask\u001b[0m\u001b[1;33m(\u001b[0m\u001b[0mmsg\u001b[0m\u001b[1;33m)\u001b[0m\u001b[1;33m\u001b[0m\u001b[0m\n\u001b[0m",
      "\u001b[1;32mC:\\ProgramData\\Anaconda3\\lib\\site-packages\\pyvisa\\resources\\messagebased.py\u001b[0m in \u001b[0;36mquery\u001b[1;34m(self, message, delay)\u001b[0m\n\u001b[0;32m    406\u001b[0m             \u001b[0mtime\u001b[0m\u001b[1;33m.\u001b[0m\u001b[0msleep\u001b[0m\u001b[1;33m(\u001b[0m\u001b[0mdelay\u001b[0m\u001b[1;33m)\u001b[0m\u001b[1;33m\u001b[0m\u001b[0m\n\u001b[1;32m--> 407\u001b[1;33m         \u001b[1;32mreturn\u001b[0m \u001b[0mself\u001b[0m\u001b[1;33m.\u001b[0m\u001b[0mread\u001b[0m\u001b[1;33m(\u001b[0m\u001b[1;33m)\u001b[0m\u001b[1;33m\u001b[0m\u001b[0m\n\u001b[0m\u001b[0;32m    408\u001b[0m \u001b[1;33m\u001b[0m\u001b[0m\n",
      "\u001b[1;32mC:\\ProgramData\\Anaconda3\\lib\\site-packages\\pyvisa\\resources\\messagebased.py\u001b[0m in \u001b[0;36mread\u001b[1;34m(self, termination, encoding)\u001b[0m\n\u001b[0;32m    331\u001b[0m             \u001b[0mtermination\u001b[0m \u001b[1;33m=\u001b[0m \u001b[0mself\u001b[0m\u001b[1;33m.\u001b[0m\u001b[0m_read_termination\u001b[0m\u001b[1;33m\u001b[0m\u001b[0m\n\u001b[1;32m--> 332\u001b[1;33m             \u001b[0mmessage\u001b[0m \u001b[1;33m=\u001b[0m \u001b[0mself\u001b[0m\u001b[1;33m.\u001b[0m\u001b[0mread_raw\u001b[0m\u001b[1;33m(\u001b[0m\u001b[1;33m)\u001b[0m\u001b[1;33m.\u001b[0m\u001b[0mdecode\u001b[0m\u001b[1;33m(\u001b[0m\u001b[0menco\u001b[0m\u001b[1;33m)\u001b[0m\u001b[1;33m\u001b[0m\u001b[0m\n\u001b[0m\u001b[0;32m    333\u001b[0m         \u001b[1;32melse\u001b[0m\u001b[1;33m:\u001b[0m\u001b[1;33m\u001b[0m\u001b[0m\n",
      "\u001b[1;32mC:\\ProgramData\\Anaconda3\\lib\\site-packages\\pyvisa\\resources\\messagebased.py\u001b[0m in \u001b[0;36mread_raw\u001b[1;34m(self, size)\u001b[0m\n\u001b[0;32m    305\u001b[0m                                  self._resource_name, size, status)\n\u001b[1;32m--> 306\u001b[1;33m                     \u001b[0mchunk\u001b[0m\u001b[1;33m,\u001b[0m \u001b[0mstatus\u001b[0m \u001b[1;33m=\u001b[0m \u001b[0mself\u001b[0m\u001b[1;33m.\u001b[0m\u001b[0mvisalib\u001b[0m\u001b[1;33m.\u001b[0m\u001b[0mread\u001b[0m\u001b[1;33m(\u001b[0m\u001b[0mself\u001b[0m\u001b[1;33m.\u001b[0m\u001b[0msession\u001b[0m\u001b[1;33m,\u001b[0m \u001b[0msize\u001b[0m\u001b[1;33m)\u001b[0m\u001b[1;33m\u001b[0m\u001b[0m\n\u001b[0m\u001b[0;32m    307\u001b[0m                     \u001b[0mret\u001b[0m \u001b[1;33m+=\u001b[0m \u001b[0mchunk\u001b[0m\u001b[1;33m\u001b[0m\u001b[0m\n",
      "\u001b[1;32mC:\\ProgramData\\Anaconda3\\lib\\site-packages\\pyvisa\\ctwrapper\\functions.py\u001b[0m in \u001b[0;36mread\u001b[1;34m(library, session, count)\u001b[0m\n\u001b[0;32m   1581\u001b[0m     \u001b[0mreturn_count\u001b[0m \u001b[1;33m=\u001b[0m \u001b[0mViUInt32\u001b[0m\u001b[1;33m(\u001b[0m\u001b[1;33m)\u001b[0m\u001b[1;33m\u001b[0m\u001b[0m\n\u001b[1;32m-> 1582\u001b[1;33m     \u001b[0mret\u001b[0m \u001b[1;33m=\u001b[0m \u001b[0mlibrary\u001b[0m\u001b[1;33m.\u001b[0m\u001b[0mviRead\u001b[0m\u001b[1;33m(\u001b[0m\u001b[0msession\u001b[0m\u001b[1;33m,\u001b[0m \u001b[0mbuffer\u001b[0m\u001b[1;33m,\u001b[0m \u001b[0mcount\u001b[0m\u001b[1;33m,\u001b[0m \u001b[0mbyref\u001b[0m\u001b[1;33m(\u001b[0m\u001b[0mreturn_count\u001b[0m\u001b[1;33m)\u001b[0m\u001b[1;33m)\u001b[0m\u001b[1;33m\u001b[0m\u001b[0m\n\u001b[0m\u001b[0;32m   1583\u001b[0m     \u001b[1;32mreturn\u001b[0m \u001b[0mbuffer\u001b[0m\u001b[1;33m.\u001b[0m\u001b[0mraw\u001b[0m\u001b[1;33m[\u001b[0m\u001b[1;33m:\u001b[0m\u001b[0mreturn_count\u001b[0m\u001b[1;33m.\u001b[0m\u001b[0mvalue\u001b[0m\u001b[1;33m]\u001b[0m\u001b[1;33m,\u001b[0m \u001b[0mret\u001b[0m\u001b[1;33m\u001b[0m\u001b[0m\n",
      "\u001b[1;32mC:\\ProgramData\\Anaconda3\\lib\\site-packages\\pyvisa\\ctwrapper\\highlevel.py\u001b[0m in \u001b[0;36m_return_handler\u001b[1;34m(self, ret_value, func, arguments)\u001b[0m\n\u001b[0;32m    148\u001b[0m \u001b[1;33m\u001b[0m\u001b[0m\n\u001b[1;32m--> 149\u001b[1;33m     \u001b[1;32mdef\u001b[0m \u001b[0m_return_handler\u001b[0m\u001b[1;33m(\u001b[0m\u001b[0mself\u001b[0m\u001b[1;33m,\u001b[0m \u001b[0mret_value\u001b[0m\u001b[1;33m,\u001b[0m \u001b[0mfunc\u001b[0m\u001b[1;33m,\u001b[0m \u001b[0marguments\u001b[0m\u001b[1;33m)\u001b[0m\u001b[1;33m:\u001b[0m\u001b[1;33m\u001b[0m\u001b[0m\n\u001b[0m\u001b[0;32m    150\u001b[0m         \"\"\"Check return values for errors and warnings.\n",
      "\u001b[1;31mKeyboardInterrupt\u001b[0m: ",
      "\nDuring handling of the above exception, another exception occurred:\n",
      "\u001b[1;31mKeyboardInterrupt\u001b[0m                         Traceback (most recent call last)",
      "\u001b[1;32m<ipython-input-25-f7803a6ce45f>\u001b[0m in \u001b[0;36m<module>\u001b[1;34m()\u001b[0m\n\u001b[0;32m     15\u001b[0m             \u001b[1;33m(\u001b[0m\u001b[0mvoltages\u001b[0m\u001b[1;33m,\u001b[0m \u001b[0mvoltage_setter\u001b[0m\u001b[1;33m,\u001b[0m \u001b[1;34m'Compensated dac voltage #{0}'\u001b[0m\u001b[1;33m.\u001b[0m\u001b[0mformat\u001b[0m\u001b[1;33m(\u001b[0m\u001b[0mchannel_id\u001b[0m\u001b[1;33m)\u001b[0m\u001b[1;33m)\u001b[0m\u001b[1;33m,\u001b[0m\u001b[1;33m\u001b[0m\u001b[0m\n\u001b[0;32m     16\u001b[0m             \u001b[1;33m(\u001b[0m\u001b[0mfreqs\u001b[0m\u001b[1;33m,\u001b[0m \u001b[0mlo1\u001b[0m\u001b[1;33m.\u001b[0m\u001b[0mset_frequency\u001b[0m\u001b[1;33m,\u001b[0m \u001b[1;34m'Second tone frequncy'\u001b[0m\u001b[1;33m)\u001b[0m\u001b[1;33m,\u001b[0m\u001b[1;33m\u001b[0m\u001b[0m\n\u001b[1;32m---> 17\u001b[1;33m             filename='Hivemind two-tone res2 res-x ex, re-z ro -50 dbm #{0}'.format(channel_id))\n\u001b[0m\u001b[0;32m     18\u001b[0m \u001b[1;32mfinally\u001b[0m\u001b[1;33m:\u001b[0m\u001b[1;33m\u001b[0m\u001b[0m\n\u001b[0;32m     19\u001b[0m     \u001b[0mset_control_resonator_max\u001b[0m\u001b[1;33m(\u001b[0m\u001b[1;33m-\u001b[0m\u001b[1;36m0.0\u001b[0m\u001b[1;33m,\u001b[0m \u001b[1;36m0\u001b[0m\u001b[1;33m)\u001b[0m\u001b[1;33m\u001b[0m\u001b[0m\n",
      "\u001b[1;32mD:\\qtlab_replacement\\scripts\\sweep.py\u001b[0m in \u001b[0;36msweep\u001b[1;34m(measurer, filename, root_dir, plot, header, output, save, time_war_label, cycle_save_mode, *params)\u001b[0m\n\u001b[0;32m    213\u001b[0m                         \u001b[1;31m#save_pkl.save_pkl(header, data_pkl, location = data_dir)\u001b[0m\u001b[1;33m\u001b[0m\u001b[1;33m\u001b[0m\u001b[0m\n\u001b[0;32m    214\u001b[0m                         \u001b[1;32mif\u001b[0m \u001b[1;33m(\u001b[0m\u001b[0msave\u001b[0m\u001b[1;33m)\u001b[0m\u001b[1;33m:\u001b[0m\u001b[1;33m\u001b[0m\u001b[0m\n\u001b[1;32m--> 215\u001b[1;33m                                 \u001b[0msave_pkl\u001b[0m\u001b[1;33m.\u001b[0m\u001b[0msave_pkl\u001b[0m\u001b[1;33m(\u001b[0m\u001b[0mheader\u001b[0m\u001b[1;33m,\u001b[0m \u001b[0mmk_measurement\u001b[0m\u001b[1;33m(\u001b[0m\u001b[1;36m0\u001b[0m\u001b[1;33m)\u001b[0m\u001b[1;33m,\u001b[0m \u001b[0mlocation\u001b[0m \u001b[1;33m=\u001b[0m \u001b[0mdata_dir\u001b[0m\u001b[1;33m)\u001b[0m\u001b[1;33m\u001b[0m\u001b[0m\n\u001b[0m\u001b[0;32m    216\u001b[0m \u001b[1;33m\u001b[0m\u001b[0m\n\u001b[0;32m    217\u001b[0m                         \u001b[1;32mif\u001b[0m \u001b[0mascii_files\u001b[0m\u001b[1;33m[\u001b[0m\u001b[0mmname\u001b[0m\u001b[1;33m]\u001b[0m\u001b[1;33m:\u001b[0m\u001b[1;33m\u001b[0m\u001b[0m\n",
      "\u001b[1;32mD:\\qtlab_replacement\\scripts\\save_pkl.py\u001b[0m in \u001b[0;36msave_pkl\u001b[1;34m(header, data, plot, curve_fit, annotation, location, time, filename, matlab, gzip)\u001b[0m\n\u001b[0;32m     66\u001b[0m         \u001b[0mf\u001b[0m\u001b[1;33m.\u001b[0m\u001b[0mclose\u001b[0m\u001b[1;33m(\u001b[0m\u001b[1;33m)\u001b[0m\u001b[1;33m\u001b[0m\u001b[0m\n\u001b[0;32m     67\u001b[0m         \u001b[1;32mif\u001b[0m \u001b[0mplot\u001b[0m\u001b[1;33m:\u001b[0m\u001b[1;33m\u001b[0m\u001b[0m\n\u001b[1;32m---> 68\u001b[1;33m                 \u001b[0mplotting\u001b[0m\u001b[1;33m.\u001b[0m\u001b[0mplot_measurement\u001b[0m\u001b[1;33m(\u001b[0m\u001b[0mdata\u001b[0m\u001b[1;33m,\u001b[0m \u001b[0mfilename\u001b[0m\u001b[1;33m,\u001b[0m \u001b[0msave\u001b[0m\u001b[1;33m=\u001b[0m\u001b[0mlocation\u001b[0m\u001b[1;33m,\u001b[0m \u001b[0mannotation\u001b[0m\u001b[1;33m=\u001b[0m\u001b[0mannotation\u001b[0m\u001b[1;33m)\u001b[0m\u001b[1;33m\u001b[0m\u001b[0m\n\u001b[0m\u001b[0;32m     69\u001b[0m \u001b[1;33m\u001b[0m\u001b[0m\n\u001b[0;32m     70\u001b[0m         \u001b[1;32mif\u001b[0m \u001b[0mmatlab\u001b[0m\u001b[1;33m:\u001b[0m\u001b[1;33m\u001b[0m\u001b[0m\n",
      "\u001b[1;32mD:\\qtlab_replacement\\scripts\\plotting.py\u001b[0m in \u001b[0;36mplot_measurement\u001b[1;34m(measurement, name, save, annotation)\u001b[0m\n\u001b[0;32m    116\u001b[0m                                                                 \u001b[0mplot\u001b[0m\u001b[1;33m[\u001b[0m\u001b[1;34m'filter'\u001b[0m\u001b[1;33m]\u001b[0m\u001b[1;33m(\u001b[0m\u001b[0mmeasurement\u001b[0m\u001b[1;33m[\u001b[0m\u001b[0mplot\u001b[0m\u001b[1;33m[\u001b[0m\u001b[1;34m'mname'\u001b[0m\u001b[1;33m]\u001b[0m\u001b[1;33m]\u001b[0m\u001b[1;33m[\u001b[0m\u001b[1;36m2\u001b[0m\u001b[1;33m]\u001b[0m\u001b[1;33m)\u001b[0m\u001b[1;33m,\u001b[0m\u001b[1;33m\u001b[0m\u001b[0m\n\u001b[0;32m    117\u001b[0m \t\t\t\t\t\t\t\t*measurement[plot['mname']][3:])\n\u001b[1;32m--> 118\u001b[1;33m                 \u001b[0mplots\u001b[0m \u001b[1;33m=\u001b[0m \u001b[0mplot_measurement_sa\u001b[0m\u001b[1;33m(\u001b[0m\u001b[0mmeas\u001b[0m\u001b[1;33m,\u001b[0m \u001b[0max\u001b[0m\u001b[1;33m[\u001b[0m\u001b[1;34m'axes'\u001b[0m\u001b[1;33m]\u001b[0m\u001b[1;33m)\u001b[0m\u001b[1;33m\u001b[0m\u001b[0m\n\u001b[0m\u001b[0;32m    119\u001b[0m                 \u001b[1;32mfor\u001b[0m \u001b[0mplot\u001b[0m \u001b[1;32min\u001b[0m \u001b[0mplots\u001b[0m\u001b[1;33m.\u001b[0m\u001b[0mkeys\u001b[0m\u001b[1;33m(\u001b[0m\u001b[1;33m)\u001b[0m\u001b[1;33m:\u001b[0m\u001b[1;33m\u001b[0m\u001b[0m\n\u001b[0;32m    120\u001b[0m                         \u001b[0max\u001b[0m\u001b[1;33m[\u001b[0m\u001b[1;34m'plots'\u001b[0m\u001b[1;33m]\u001b[0m\u001b[1;33m[\u001b[0m\u001b[0mplot\u001b[0m\u001b[1;33m]\u001b[0m\u001b[1;33m[\u001b[0m\u001b[1;34m'plot'\u001b[0m\u001b[1;33m]\u001b[0m \u001b[1;33m=\u001b[0m \u001b[0mplots\u001b[0m\u001b[1;33m[\u001b[0m\u001b[0mplot\u001b[0m\u001b[1;33m]\u001b[0m\u001b[1;33m\u001b[0m\u001b[0m\n",
      "\u001b[1;32mD:\\qtlab_replacement\\scripts\\plotting.py\u001b[0m in \u001b[0;36mplot_measurement_sa\u001b[1;34m(measurement, axes)\u001b[0m\n\u001b[0;32m    204\u001b[0m                                         \u001b[0maxes\u001b[0m\u001b[1;33m.\u001b[0m\u001b[0myaxis\u001b[0m\u001b[1;33m.\u001b[0m\u001b[0mset_major_formatter\u001b[0m\u001b[1;33m(\u001b[0m\u001b[0myformatter\u001b[0m\u001b[1;33m)\u001b[0m\u001b[1;33m\u001b[0m\u001b[0m\n\u001b[0;32m    205\u001b[0m \t\t\t\t\tplot = plt.imshow(vals.T, aspect = 'auto', origin='lower', \n\u001b[1;32m--> 206\u001b[1;33m \t\t\t\t\t\textent = [pvals[0][0], pvals[0][-1], pvals[1][0], pvals[1][-1] ], interpolation = \"none\", cmap='RdBu_r')\n\u001b[0m\u001b[0;32m    207\u001b[0m                                         \u001b[0mplot\u001b[0m\u001b[1;33m.\u001b[0m\u001b[0mT\u001b[0m \u001b[1;33m=\u001b[0m \u001b[1;32mTrue\u001b[0m\u001b[1;33m\u001b[0m\u001b[0m\n\u001b[0;32m    208\u001b[0m                                 \u001b[1;32melse\u001b[0m\u001b[1;33m:\u001b[0m\u001b[1;33m\u001b[0m\u001b[0m\n",
      "\u001b[1;32mC:\\ProgramData\\Anaconda3\\lib\\site-packages\\matplotlib\\pyplot.py\u001b[0m in \u001b[0;36mimshow\u001b[1;34m(X, cmap, norm, aspect, interpolation, alpha, vmin, vmax, origin, extent, shape, filternorm, filterrad, imlim, resample, url, hold, data, **kwargs)\u001b[0m\n\u001b[0;32m   3083\u001b[0m            \u001b[0mfilternorm\u001b[0m\u001b[1;33m=\u001b[0m\u001b[1;36m1\u001b[0m\u001b[1;33m,\u001b[0m \u001b[0mfilterrad\u001b[0m\u001b[1;33m=\u001b[0m\u001b[1;36m4.0\u001b[0m\u001b[1;33m,\u001b[0m \u001b[0mimlim\u001b[0m\u001b[1;33m=\u001b[0m\u001b[1;32mNone\u001b[0m\u001b[1;33m,\u001b[0m \u001b[0mresample\u001b[0m\u001b[1;33m=\u001b[0m\u001b[1;32mNone\u001b[0m\u001b[1;33m,\u001b[0m \u001b[0murl\u001b[0m\u001b[1;33m=\u001b[0m\u001b[1;32mNone\u001b[0m\u001b[1;33m,\u001b[0m\u001b[1;33m\u001b[0m\u001b[0m\n\u001b[0;32m   3084\u001b[0m            hold=None, data=None, **kwargs):\n\u001b[1;32m-> 3085\u001b[1;33m     \u001b[0max\u001b[0m \u001b[1;33m=\u001b[0m \u001b[0mgca\u001b[0m\u001b[1;33m(\u001b[0m\u001b[1;33m)\u001b[0m\u001b[1;33m\u001b[0m\u001b[0m\n\u001b[0m\u001b[0;32m   3086\u001b[0m     \u001b[1;31m# Deprecated: allow callers to override the hold state\u001b[0m\u001b[1;33m\u001b[0m\u001b[1;33m\u001b[0m\u001b[0m\n\u001b[0;32m   3087\u001b[0m     \u001b[1;31m# by passing hold=True|False\u001b[0m\u001b[1;33m\u001b[0m\u001b[1;33m\u001b[0m\u001b[0m\n",
      "\u001b[1;32mC:\\ProgramData\\Anaconda3\\lib\\site-packages\\matplotlib\\pyplot.py\u001b[0m in \u001b[0;36mgca\u001b[1;34m(**kwargs)\u001b[0m\n\u001b[0;32m    960\u001b[0m     \u001b[0mmatplotlib\u001b[0m\u001b[1;33m.\u001b[0m\u001b[0mfigure\u001b[0m\u001b[1;33m.\u001b[0m\u001b[0mFigure\u001b[0m\u001b[1;33m.\u001b[0m\u001b[0mgca\u001b[0m \u001b[1;33m:\u001b[0m \u001b[0mThe\u001b[0m \u001b[0mfigure\u001b[0m\u001b[0;31m'\u001b[0m\u001b[0ms\u001b[0m \u001b[0mgca\u001b[0m \u001b[0mmethod\u001b[0m\u001b[1;33m.\u001b[0m\u001b[1;33m\u001b[0m\u001b[0m\n\u001b[0;32m    961\u001b[0m     \"\"\"\n\u001b[1;32m--> 962\u001b[1;33m     \u001b[1;32mreturn\u001b[0m \u001b[0mgcf\u001b[0m\u001b[1;33m(\u001b[0m\u001b[1;33m)\u001b[0m\u001b[1;33m.\u001b[0m\u001b[0mgca\u001b[0m\u001b[1;33m(\u001b[0m\u001b[1;33m**\u001b[0m\u001b[0mkwargs\u001b[0m\u001b[1;33m)\u001b[0m\u001b[1;33m\u001b[0m\u001b[0m\n\u001b[0m\u001b[0;32m    963\u001b[0m \u001b[1;33m\u001b[0m\u001b[0m\n\u001b[0;32m    964\u001b[0m \u001b[1;31m# More ways of creating axes:\u001b[0m\u001b[1;33m\u001b[0m\u001b[1;33m\u001b[0m\u001b[0m\n",
      "\u001b[1;32mC:\\ProgramData\\Anaconda3\\lib\\site-packages\\matplotlib\\figure.py\u001b[0m in \u001b[0;36mgca\u001b[1;34m(self, **kwargs)\u001b[0m\n\u001b[0;32m   1624\u001b[0m \u001b[1;33m\u001b[0m\u001b[0m\n\u001b[0;32m   1625\u001b[0m         \u001b[1;31m# no axes found, so create one which spans the figure\u001b[0m\u001b[1;33m\u001b[0m\u001b[1;33m\u001b[0m\u001b[0m\n\u001b[1;32m-> 1626\u001b[1;33m         \u001b[1;32mreturn\u001b[0m \u001b[0mself\u001b[0m\u001b[1;33m.\u001b[0m\u001b[0madd_subplot\u001b[0m\u001b[1;33m(\u001b[0m\u001b[1;36m1\u001b[0m\u001b[1;33m,\u001b[0m \u001b[1;36m1\u001b[0m\u001b[1;33m,\u001b[0m \u001b[1;36m1\u001b[0m\u001b[1;33m,\u001b[0m \u001b[1;33m**\u001b[0m\u001b[0mkwargs\u001b[0m\u001b[1;33m)\u001b[0m\u001b[1;33m\u001b[0m\u001b[0m\n\u001b[0m\u001b[0;32m   1627\u001b[0m \u001b[1;33m\u001b[0m\u001b[0m\n\u001b[0;32m   1628\u001b[0m     \u001b[1;32mdef\u001b[0m \u001b[0msca\u001b[0m\u001b[1;33m(\u001b[0m\u001b[0mself\u001b[0m\u001b[1;33m,\u001b[0m \u001b[0ma\u001b[0m\u001b[1;33m)\u001b[0m\u001b[1;33m:\u001b[0m\u001b[1;33m\u001b[0m\u001b[0m\n",
      "\u001b[1;32mC:\\ProgramData\\Anaconda3\\lib\\site-packages\\matplotlib\\figure.py\u001b[0m in \u001b[0;36madd_subplot\u001b[1;34m(self, *args, **kwargs)\u001b[0m\n\u001b[0;32m   1072\u001b[0m                     \u001b[0mself\u001b[0m\u001b[1;33m.\u001b[0m\u001b[0m_axstack\u001b[0m\u001b[1;33m.\u001b[0m\u001b[0mremove\u001b[0m\u001b[1;33m(\u001b[0m\u001b[0max\u001b[0m\u001b[1;33m)\u001b[0m\u001b[1;33m\u001b[0m\u001b[0m\n\u001b[0;32m   1073\u001b[0m \u001b[1;33m\u001b[0m\u001b[0m\n\u001b[1;32m-> 1074\u001b[1;33m             \u001b[0ma\u001b[0m \u001b[1;33m=\u001b[0m \u001b[0msubplot_class_factory\u001b[0m\u001b[1;33m(\u001b[0m\u001b[0mprojection_class\u001b[0m\u001b[1;33m)\u001b[0m\u001b[1;33m(\u001b[0m\u001b[0mself\u001b[0m\u001b[1;33m,\u001b[0m \u001b[1;33m*\u001b[0m\u001b[0margs\u001b[0m\u001b[1;33m,\u001b[0m \u001b[1;33m**\u001b[0m\u001b[0mkwargs\u001b[0m\u001b[1;33m)\u001b[0m\u001b[1;33m\u001b[0m\u001b[0m\n\u001b[0m\u001b[0;32m   1075\u001b[0m \u001b[1;33m\u001b[0m\u001b[0m\n\u001b[0;32m   1076\u001b[0m         \u001b[0mself\u001b[0m\u001b[1;33m.\u001b[0m\u001b[0m_axstack\u001b[0m\u001b[1;33m.\u001b[0m\u001b[0madd\u001b[0m\u001b[1;33m(\u001b[0m\u001b[0mkey\u001b[0m\u001b[1;33m,\u001b[0m \u001b[0ma\u001b[0m\u001b[1;33m)\u001b[0m\u001b[1;33m\u001b[0m\u001b[0m\n",
      "\u001b[1;32mC:\\ProgramData\\Anaconda3\\lib\\site-packages\\matplotlib\\axes\\_subplots.py\u001b[0m in \u001b[0;36m__init__\u001b[1;34m(self, fig, *args, **kwargs)\u001b[0m\n\u001b[0;32m     71\u001b[0m \u001b[1;33m\u001b[0m\u001b[0m\n\u001b[0;32m     72\u001b[0m         \u001b[1;31m# _axes_class is set in the subplot_class_factory\u001b[0m\u001b[1;33m\u001b[0m\u001b[1;33m\u001b[0m\u001b[0m\n\u001b[1;32m---> 73\u001b[1;33m         \u001b[0mself\u001b[0m\u001b[1;33m.\u001b[0m\u001b[0m_axes_class\u001b[0m\u001b[1;33m.\u001b[0m\u001b[0m__init__\u001b[0m\u001b[1;33m(\u001b[0m\u001b[0mself\u001b[0m\u001b[1;33m,\u001b[0m \u001b[0mfig\u001b[0m\u001b[1;33m,\u001b[0m \u001b[0mself\u001b[0m\u001b[1;33m.\u001b[0m\u001b[0mfigbox\u001b[0m\u001b[1;33m,\u001b[0m \u001b[1;33m**\u001b[0m\u001b[0mkwargs\u001b[0m\u001b[1;33m)\u001b[0m\u001b[1;33m\u001b[0m\u001b[0m\n\u001b[0m\u001b[0;32m     74\u001b[0m \u001b[1;33m\u001b[0m\u001b[0m\n\u001b[0;32m     75\u001b[0m     \u001b[1;32mdef\u001b[0m \u001b[0m__reduce__\u001b[0m\u001b[1;33m(\u001b[0m\u001b[0mself\u001b[0m\u001b[1;33m)\u001b[0m\u001b[1;33m:\u001b[0m\u001b[1;33m\u001b[0m\u001b[0m\n",
      "\u001b[1;32mC:\\ProgramData\\Anaconda3\\lib\\site-packages\\matplotlib\\axes\\_base.py\u001b[0m in \u001b[0;36m__init__\u001b[1;34m(self, fig, rect, facecolor, frameon, sharex, sharey, label, xscale, yscale, axisbg, **kwargs)\u001b[0m\n\u001b[0;32m    517\u001b[0m \u001b[1;33m\u001b[0m\u001b[0m\n\u001b[0;32m    518\u001b[0m         \u001b[1;31m# this call may differ for non-sep axes, e.g., polar\u001b[0m\u001b[1;33m\u001b[0m\u001b[1;33m\u001b[0m\u001b[0m\n\u001b[1;32m--> 519\u001b[1;33m         \u001b[0mself\u001b[0m\u001b[1;33m.\u001b[0m\u001b[0m_init_axis\u001b[0m\u001b[1;33m(\u001b[0m\u001b[1;33m)\u001b[0m\u001b[1;33m\u001b[0m\u001b[0m\n\u001b[0m\u001b[0;32m    520\u001b[0m         \u001b[1;32mif\u001b[0m \u001b[0maxisbg\u001b[0m \u001b[1;32mis\u001b[0m \u001b[1;32mnot\u001b[0m \u001b[1;32mNone\u001b[0m \u001b[1;32mand\u001b[0m \u001b[0mfacecolor\u001b[0m \u001b[1;32mis\u001b[0m \u001b[1;32mnot\u001b[0m \u001b[1;32mNone\u001b[0m\u001b[1;33m:\u001b[0m\u001b[1;33m\u001b[0m\u001b[0m\n\u001b[0;32m    521\u001b[0m             raise TypeError('Both axisbg and facecolor are not None. '\n",
      "\u001b[1;32mC:\\ProgramData\\Anaconda3\\lib\\site-packages\\matplotlib\\axes\\_base.py\u001b[0m in \u001b[0;36m_init_axis\u001b[1;34m(self)\u001b[0m\n\u001b[0;32m    608\u001b[0m     \u001b[1;32mdef\u001b[0m \u001b[0m_init_axis\u001b[0m\u001b[1;33m(\u001b[0m\u001b[0mself\u001b[0m\u001b[1;33m)\u001b[0m\u001b[1;33m:\u001b[0m\u001b[1;33m\u001b[0m\u001b[0m\n\u001b[0;32m    609\u001b[0m         \u001b[1;34m\"move this out of __init__ because non-separable axes don't use it\"\u001b[0m\u001b[1;33m\u001b[0m\u001b[0m\n\u001b[1;32m--> 610\u001b[1;33m         \u001b[0mself\u001b[0m\u001b[1;33m.\u001b[0m\u001b[0mxaxis\u001b[0m \u001b[1;33m=\u001b[0m \u001b[0mmaxis\u001b[0m\u001b[1;33m.\u001b[0m\u001b[0mXAxis\u001b[0m\u001b[1;33m(\u001b[0m\u001b[0mself\u001b[0m\u001b[1;33m)\u001b[0m\u001b[1;33m\u001b[0m\u001b[0m\n\u001b[0m\u001b[0;32m    611\u001b[0m         \u001b[0mself\u001b[0m\u001b[1;33m.\u001b[0m\u001b[0mspines\u001b[0m\u001b[1;33m[\u001b[0m\u001b[1;34m'bottom'\u001b[0m\u001b[1;33m]\u001b[0m\u001b[1;33m.\u001b[0m\u001b[0mregister_axis\u001b[0m\u001b[1;33m(\u001b[0m\u001b[0mself\u001b[0m\u001b[1;33m.\u001b[0m\u001b[0mxaxis\u001b[0m\u001b[1;33m)\u001b[0m\u001b[1;33m\u001b[0m\u001b[0m\n\u001b[0;32m    612\u001b[0m         \u001b[0mself\u001b[0m\u001b[1;33m.\u001b[0m\u001b[0mspines\u001b[0m\u001b[1;33m[\u001b[0m\u001b[1;34m'top'\u001b[0m\u001b[1;33m]\u001b[0m\u001b[1;33m.\u001b[0m\u001b[0mregister_axis\u001b[0m\u001b[1;33m(\u001b[0m\u001b[0mself\u001b[0m\u001b[1;33m.\u001b[0m\u001b[0mxaxis\u001b[0m\u001b[1;33m)\u001b[0m\u001b[1;33m\u001b[0m\u001b[0m\n",
      "\u001b[1;32mC:\\ProgramData\\Anaconda3\\lib\\site-packages\\matplotlib\\axis.py\u001b[0m in \u001b[0;36m__init__\u001b[1;34m(self, axes, pickradius)\u001b[0m\n\u001b[0;32m    676\u001b[0m         \u001b[0mself\u001b[0m\u001b[1;33m.\u001b[0m\u001b[0m_minor_tick_kw\u001b[0m \u001b[1;33m=\u001b[0m \u001b[0mdict\u001b[0m\u001b[1;33m(\u001b[0m\u001b[1;33m)\u001b[0m\u001b[1;33m\u001b[0m\u001b[0m\n\u001b[0;32m    677\u001b[0m \u001b[1;33m\u001b[0m\u001b[0m\n\u001b[1;32m--> 678\u001b[1;33m         \u001b[0mself\u001b[0m\u001b[1;33m.\u001b[0m\u001b[0mcla\u001b[0m\u001b[1;33m(\u001b[0m\u001b[1;33m)\u001b[0m\u001b[1;33m\u001b[0m\u001b[0m\n\u001b[0m\u001b[0;32m    679\u001b[0m         \u001b[0mself\u001b[0m\u001b[1;33m.\u001b[0m\u001b[0m_set_scale\u001b[0m\u001b[1;33m(\u001b[0m\u001b[1;34m'linear'\u001b[0m\u001b[1;33m)\u001b[0m\u001b[1;33m\u001b[0m\u001b[0m\n\u001b[0;32m    680\u001b[0m \u001b[1;33m\u001b[0m\u001b[0m\n",
      "\u001b[1;32mC:\\ProgramData\\Anaconda3\\lib\\site-packages\\matplotlib\\axis.py\u001b[0m in \u001b[0;36mcla\u001b[1;34m(self)\u001b[0m\n\u001b[0;32m    742\u001b[0m     \u001b[1;32mdef\u001b[0m \u001b[0mcla\u001b[0m\u001b[1;33m(\u001b[0m\u001b[0mself\u001b[0m\u001b[1;33m)\u001b[0m\u001b[1;33m:\u001b[0m\u001b[1;33m\u001b[0m\u001b[0m\n\u001b[0;32m    743\u001b[0m         \u001b[1;34m'clear the current axis'\u001b[0m\u001b[1;33m\u001b[0m\u001b[0m\n\u001b[1;32m--> 744\u001b[1;33m         \u001b[0mself\u001b[0m\u001b[1;33m.\u001b[0m\u001b[0mset_major_locator\u001b[0m\u001b[1;33m(\u001b[0m\u001b[0mmticker\u001b[0m\u001b[1;33m.\u001b[0m\u001b[0mAutoLocator\u001b[0m\u001b[1;33m(\u001b[0m\u001b[1;33m)\u001b[0m\u001b[1;33m)\u001b[0m\u001b[1;33m\u001b[0m\u001b[0m\n\u001b[0m\u001b[0;32m    745\u001b[0m         \u001b[0mself\u001b[0m\u001b[1;33m.\u001b[0m\u001b[0mset_major_formatter\u001b[0m\u001b[1;33m(\u001b[0m\u001b[0mmticker\u001b[0m\u001b[1;33m.\u001b[0m\u001b[0mScalarFormatter\u001b[0m\u001b[1;33m(\u001b[0m\u001b[1;33m)\u001b[0m\u001b[1;33m)\u001b[0m\u001b[1;33m\u001b[0m\u001b[0m\n\u001b[0;32m    746\u001b[0m         \u001b[0mself\u001b[0m\u001b[1;33m.\u001b[0m\u001b[0mset_minor_locator\u001b[0m\u001b[1;33m(\u001b[0m\u001b[0mmticker\u001b[0m\u001b[1;33m.\u001b[0m\u001b[0mNullLocator\u001b[0m\u001b[1;33m(\u001b[0m\u001b[1;33m)\u001b[0m\u001b[1;33m)\u001b[0m\u001b[1;33m\u001b[0m\u001b[0m\n",
      "\u001b[1;32mC:\\ProgramData\\Anaconda3\\lib\\site-packages\\matplotlib\\ticker.py\u001b[0m in \u001b[0;36m__init__\u001b[1;34m(self)\u001b[0m\n\u001b[0;32m   2489\u001b[0m             \u001b[0mnbins\u001b[0m \u001b[1;33m=\u001b[0m \u001b[1;34m'auto'\u001b[0m\u001b[1;33m\u001b[0m\u001b[0m\n\u001b[0;32m   2490\u001b[0m             \u001b[0msteps\u001b[0m \u001b[1;33m=\u001b[0m \u001b[1;33m[\u001b[0m\u001b[1;36m1\u001b[0m\u001b[1;33m,\u001b[0m \u001b[1;36m2\u001b[0m\u001b[1;33m,\u001b[0m \u001b[1;36m2.5\u001b[0m\u001b[1;33m,\u001b[0m \u001b[1;36m5\u001b[0m\u001b[1;33m,\u001b[0m \u001b[1;36m10\u001b[0m\u001b[1;33m]\u001b[0m\u001b[1;33m\u001b[0m\u001b[0m\n\u001b[1;32m-> 2491\u001b[1;33m         \u001b[0mMaxNLocator\u001b[0m\u001b[1;33m.\u001b[0m\u001b[0m__init__\u001b[0m\u001b[1;33m(\u001b[0m\u001b[0mself\u001b[0m\u001b[1;33m,\u001b[0m \u001b[0mnbins\u001b[0m\u001b[1;33m=\u001b[0m\u001b[0mnbins\u001b[0m\u001b[1;33m,\u001b[0m \u001b[0msteps\u001b[0m\u001b[1;33m=\u001b[0m\u001b[0msteps\u001b[0m\u001b[1;33m)\u001b[0m\u001b[1;33m\u001b[0m\u001b[0m\n\u001b[0m\u001b[0;32m   2492\u001b[0m \u001b[1;33m\u001b[0m\u001b[0m\n\u001b[0;32m   2493\u001b[0m \u001b[1;33m\u001b[0m\u001b[0m\n",
      "\u001b[1;32mC:\\ProgramData\\Anaconda3\\lib\\site-packages\\matplotlib\\ticker.py\u001b[0m in \u001b[0;36m__init__\u001b[1;34m(self, *args, **kwargs)\u001b[0m\n\u001b[0;32m   1839\u001b[0m                     \"Keywords are required for all arguments except 'nbins'\")\n\u001b[0;32m   1840\u001b[0m         \u001b[0mself\u001b[0m\u001b[1;33m.\u001b[0m\u001b[0mset_params\u001b[0m\u001b[1;33m(\u001b[0m\u001b[1;33m**\u001b[0m\u001b[0mself\u001b[0m\u001b[1;33m.\u001b[0m\u001b[0mdefault_params\u001b[0m\u001b[1;33m)\u001b[0m\u001b[1;33m\u001b[0m\u001b[0m\n\u001b[1;32m-> 1841\u001b[1;33m         \u001b[0mself\u001b[0m\u001b[1;33m.\u001b[0m\u001b[0mset_params\u001b[0m\u001b[1;33m(\u001b[0m\u001b[1;33m**\u001b[0m\u001b[0mkwargs\u001b[0m\u001b[1;33m)\u001b[0m\u001b[1;33m\u001b[0m\u001b[0m\n\u001b[0m\u001b[0;32m   1842\u001b[0m \u001b[1;33m\u001b[0m\u001b[0m\n\u001b[0;32m   1843\u001b[0m     \u001b[1;33m@\u001b[0m\u001b[0mstaticmethod\u001b[0m\u001b[1;33m\u001b[0m\u001b[0m\n",
      "\u001b[1;32mC:\\ProgramData\\Anaconda3\\lib\\site-packages\\matplotlib\\ticker.py\u001b[0m in \u001b[0;36mset_params\u001b[1;34m(self, **kwargs)\u001b[0m\n\u001b[0;32m   1894\u001b[0m             \u001b[1;32melse\u001b[0m\u001b[1;33m:\u001b[0m\u001b[1;33m\u001b[0m\u001b[0m\n\u001b[0;32m   1895\u001b[0m                 \u001b[0mself\u001b[0m\u001b[1;33m.\u001b[0m\u001b[0m_steps\u001b[0m \u001b[1;33m=\u001b[0m \u001b[0mself\u001b[0m\u001b[1;33m.\u001b[0m\u001b[0m_validate_steps\u001b[0m\u001b[1;33m(\u001b[0m\u001b[0msteps\u001b[0m\u001b[1;33m)\u001b[0m\u001b[1;33m\u001b[0m\u001b[0m\n\u001b[1;32m-> 1896\u001b[1;33m             \u001b[0mself\u001b[0m\u001b[1;33m.\u001b[0m\u001b[0m_extended_steps\u001b[0m \u001b[1;33m=\u001b[0m \u001b[0mself\u001b[0m\u001b[1;33m.\u001b[0m\u001b[0m_staircase\u001b[0m\u001b[1;33m(\u001b[0m\u001b[0mself\u001b[0m\u001b[1;33m.\u001b[0m\u001b[0m_steps\u001b[0m\u001b[1;33m)\u001b[0m\u001b[1;33m\u001b[0m\u001b[0m\n\u001b[0m\u001b[0;32m   1897\u001b[0m         \u001b[1;32mif\u001b[0m \u001b[1;34m'integer'\u001b[0m \u001b[1;32min\u001b[0m \u001b[0mkwargs\u001b[0m\u001b[1;33m:\u001b[0m\u001b[1;33m\u001b[0m\u001b[0m\n\u001b[0;32m   1898\u001b[0m             \u001b[0mself\u001b[0m\u001b[1;33m.\u001b[0m\u001b[0m_integer\u001b[0m \u001b[1;33m=\u001b[0m \u001b[0mkwargs\u001b[0m\u001b[1;33m[\u001b[0m\u001b[1;34m'integer'\u001b[0m\u001b[1;33m]\u001b[0m\u001b[1;33m\u001b[0m\u001b[0m\n",
      "\u001b[1;32mC:\\ProgramData\\Anaconda3\\lib\\site-packages\\matplotlib\\ticker.py\u001b[0m in \u001b[0;36m_staircase\u001b[1;34m(steps)\u001b[0m\n\u001b[0;32m   1866\u001b[0m         \u001b[1;31m# than necessary.\u001b[0m\u001b[1;33m\u001b[0m\u001b[1;33m\u001b[0m\u001b[0m\n\u001b[0;32m   1867\u001b[0m         \u001b[0mflights\u001b[0m \u001b[1;33m=\u001b[0m \u001b[1;33m(\u001b[0m\u001b[1;36m0.1\u001b[0m \u001b[1;33m*\u001b[0m \u001b[0msteps\u001b[0m\u001b[1;33m[\u001b[0m\u001b[1;33m:\u001b[0m\u001b[1;33m-\u001b[0m\u001b[1;36m1\u001b[0m\u001b[1;33m]\u001b[0m\u001b[1;33m,\u001b[0m \u001b[0msteps\u001b[0m\u001b[1;33m,\u001b[0m \u001b[1;36m10\u001b[0m \u001b[1;33m*\u001b[0m \u001b[0msteps\u001b[0m\u001b[1;33m[\u001b[0m\u001b[1;36m1\u001b[0m\u001b[1;33m]\u001b[0m\u001b[1;33m)\u001b[0m\u001b[1;33m\u001b[0m\u001b[0m\n\u001b[1;32m-> 1868\u001b[1;33m         \u001b[1;32mreturn\u001b[0m \u001b[0mnp\u001b[0m\u001b[1;33m.\u001b[0m\u001b[0mhstack\u001b[0m\u001b[1;33m(\u001b[0m\u001b[0mflights\u001b[0m\u001b[1;33m)\u001b[0m\u001b[1;33m\u001b[0m\u001b[0m\n\u001b[0m\u001b[0;32m   1869\u001b[0m \u001b[1;33m\u001b[0m\u001b[0m\n\u001b[0;32m   1870\u001b[0m     \u001b[1;32mdef\u001b[0m \u001b[0mset_params\u001b[0m\u001b[1;33m(\u001b[0m\u001b[0mself\u001b[0m\u001b[1;33m,\u001b[0m \u001b[1;33m**\u001b[0m\u001b[0mkwargs\u001b[0m\u001b[1;33m)\u001b[0m\u001b[1;33m:\u001b[0m\u001b[1;33m\u001b[0m\u001b[0m\n",
      "\u001b[1;32mC:\\ProgramData\\Anaconda3\\lib\\site-packages\\numpy\\core\\shape_base.py\u001b[0m in \u001b[0;36mhstack\u001b[1;34m(tup)\u001b[0m\n\u001b[0;32m    289\u001b[0m     \u001b[1;31m# As a special case, dimension 0 of 1-dimensional arrays is \"horizontal\"\u001b[0m\u001b[1;33m\u001b[0m\u001b[1;33m\u001b[0m\u001b[0m\n\u001b[0;32m    290\u001b[0m     \u001b[1;32mif\u001b[0m \u001b[0marrs\u001b[0m \u001b[1;32mand\u001b[0m \u001b[0marrs\u001b[0m\u001b[1;33m[\u001b[0m\u001b[1;36m0\u001b[0m\u001b[1;33m]\u001b[0m\u001b[1;33m.\u001b[0m\u001b[0mndim\u001b[0m \u001b[1;33m==\u001b[0m \u001b[1;36m1\u001b[0m\u001b[1;33m:\u001b[0m\u001b[1;33m\u001b[0m\u001b[0m\n\u001b[1;32m--> 291\u001b[1;33m         \u001b[1;32mreturn\u001b[0m \u001b[0m_nx\u001b[0m\u001b[1;33m.\u001b[0m\u001b[0mconcatenate\u001b[0m\u001b[1;33m(\u001b[0m\u001b[0marrs\u001b[0m\u001b[1;33m,\u001b[0m \u001b[1;36m0\u001b[0m\u001b[1;33m)\u001b[0m\u001b[1;33m\u001b[0m\u001b[0m\n\u001b[0m\u001b[0;32m    292\u001b[0m     \u001b[1;32melse\u001b[0m\u001b[1;33m:\u001b[0m\u001b[1;33m\u001b[0m\u001b[0m\n\u001b[0;32m    293\u001b[0m         \u001b[1;32mreturn\u001b[0m \u001b[0m_nx\u001b[0m\u001b[1;33m.\u001b[0m\u001b[0mconcatenate\u001b[0m\u001b[1;33m(\u001b[0m\u001b[0marrs\u001b[0m\u001b[1;33m,\u001b[0m \u001b[1;36m1\u001b[0m\u001b[1;33m)\u001b[0m\u001b[1;33m\u001b[0m\u001b[0m\n",
      "\u001b[1;31mKeyboardInterrupt\u001b[0m: "
     ]
    }
   ],
   "source": [
    "#pna.set_xlim(9.479e9, 9.479e9)\n",
    "#pna.set_nop(1)\n",
    "#pna.set_power(-50)\n",
    "#lo1.set_power(5)\n",
    "freqs = np.linspace(5.3e9, 6.3e9, 51)\n",
    "voltages = np.linspace(-4, 4, 9)\n",
    "pna.set_centerfreq(9.669e9)\n",
    "pna.set_span(0)\n",
    "pna.set_nop(1)\n",
    "pna.set_bandwidth(5)\n",
    "try:\n",
    "    for channel_id in [i for i in hivemind_qubit_controls.keys() if i<3]:\n",
    "        voltage_setter = lambda x: set_control_resonator_max(x, channel_id, resonator_val=-0.5);\n",
    "        sweep.sweep(pna, \n",
    "            (voltages, voltage_setter, 'Compensated dac voltage #{0}'.format(channel_id)),\n",
    "            (freqs, lo1.set_frequency, 'Second tone frequncy'), \n",
    "            filename='Hivemind two-tone res2 res-x ex, re-z ro -50 dbm #{0}'.format(channel_id))\n",
    "finally:\n",
    "    set_control_resonator_max(-0.0, 0)"
   ]
  },
  {
   "cell_type": "code",
   "execution_count": 434,
   "metadata": {
    "scrolled": true
   },
   "outputs": [
    {
     "data": {
      "application/vnd.jupyter.widget-view+json": {
       "model_id": "02b068bceac54e5e9ce9e294e8cc3172",
       "version_major": 2,
       "version_minor": 0
      },
      "text/plain": [
       "A Jupyter Widget"
      ]
     },
     "metadata": {},
     "output_type": "display_data"
    },
    {
     "name": "stdout",
     "output_type": "stream",
     "text": [
      "Started at:  May 16 2018 19:44:11\n"
     ]
    },
    {
     "ename": "KeyboardInterrupt",
     "evalue": "",
     "output_type": "error",
     "traceback": [
      "\u001b[1;31m---------------------------------------------------------------------------\u001b[0m",
      "\u001b[1;31mKeyboardInterrupt\u001b[0m                         Traceback (most recent call last)",
      "\u001b[1;32mC:\\ProgramData\\Anaconda3\\lib\\site-packages\\matplotlib\\backends\\backend_qt5agg.py\u001b[0m in \u001b[0;36mpaintEvent\u001b[1;34m(self, e)\u001b[0m\n\u001b[0;32m     52\u001b[0m         \u001b[1;32mreturn\u001b[0m \u001b[0mself\u001b[0m\u001b[1;33m.\u001b[0m\u001b[0m_bbox_queue\u001b[0m\u001b[1;33m\u001b[0m\u001b[0m\n\u001b[0;32m     53\u001b[0m \u001b[1;33m\u001b[0m\u001b[0m\n\u001b[1;32m---> 54\u001b[1;33m     \u001b[1;32mdef\u001b[0m \u001b[0mpaintEvent\u001b[0m\u001b[1;33m(\u001b[0m\u001b[0mself\u001b[0m\u001b[1;33m,\u001b[0m \u001b[0me\u001b[0m\u001b[1;33m)\u001b[0m\u001b[1;33m:\u001b[0m\u001b[1;33m\u001b[0m\u001b[0m\n\u001b[0m\u001b[0;32m     55\u001b[0m         \"\"\"Copy the image from the Agg canvas to the qt.drawable.\n\u001b[0;32m     56\u001b[0m \u001b[1;33m\u001b[0m\u001b[0m\n",
      "\u001b[1;31mKeyboardInterrupt\u001b[0m: "
     ]
    },
    {
     "ename": "KeyboardInterrupt",
     "evalue": "",
     "output_type": "error",
     "traceback": [
      "\u001b[1;31m---------------------------------------------------------------------------\u001b[0m",
      "\u001b[1;31mKeyboardInterrupt\u001b[0m                         Traceback (most recent call last)",
      "\u001b[1;32m<ipython-input-434-970307eea76d>\u001b[0m in \u001b[0;36m<module>\u001b[1;34m()\u001b[0m\n\u001b[0;32m     15\u001b[0m             \u001b[1;33m(\u001b[0m\u001b[0mvoltages\u001b[0m\u001b[1;33m,\u001b[0m \u001b[0mvoltage_setter\u001b[0m\u001b[1;33m,\u001b[0m \u001b[1;34m'Compensated dac voltage #{0}'\u001b[0m\u001b[1;33m.\u001b[0m\u001b[0mformat\u001b[0m\u001b[1;33m(\u001b[0m\u001b[0mchannel_id\u001b[0m\u001b[1;33m)\u001b[0m\u001b[1;33m)\u001b[0m\u001b[1;33m,\u001b[0m\u001b[1;33m\u001b[0m\u001b[0m\n\u001b[0;32m     16\u001b[0m             \u001b[1;33m(\u001b[0m\u001b[0mfreqs\u001b[0m\u001b[1;33m,\u001b[0m \u001b[0mlo1\u001b[0m\u001b[1;33m.\u001b[0m\u001b[0mset_frequency\u001b[0m\u001b[1;33m,\u001b[0m \u001b[1;34m'Second tone frequncy'\u001b[0m\u001b[1;33m)\u001b[0m\u001b[1;33m,\u001b[0m\u001b[1;33m\u001b[0m\u001b[0m\n\u001b[1;32m---> 17\u001b[1;33m             filename='Hivemind two-tone res2 res-x ex, re-z ro -50 dbm #{0}'.format(channel_id))\n\u001b[0m\u001b[0;32m     18\u001b[0m \u001b[1;32mfinally\u001b[0m\u001b[1;33m:\u001b[0m\u001b[1;33m\u001b[0m\u001b[0m\n\u001b[0;32m     19\u001b[0m     \u001b[0mset_control_resonator_max\u001b[0m\u001b[1;33m(\u001b[0m\u001b[1;33m-\u001b[0m\u001b[1;36m0.0\u001b[0m\u001b[1;33m,\u001b[0m \u001b[1;36m0\u001b[0m\u001b[1;33m)\u001b[0m\u001b[1;33m\u001b[0m\u001b[0m\n",
      "\u001b[1;32mD:\\qtlab_replacement\\scripts\\sweep.py\u001b[0m in \u001b[0;36msweep\u001b[1;34m(measurer, filename, root_dir, plot, header, output, save, time_war_label, cycle_save_mode, *params)\u001b[0m\n\u001b[0;32m    161\u001b[0m                                         \u001b[0msetter\u001b[0m\u001b[1;33m(\u001b[0m\u001b[0mval\u001b[0m\u001b[1;33m)\u001b[0m\u001b[1;33m\u001b[0m\u001b[0m\n\u001b[0;32m    162\u001b[0m                         \u001b[1;31m#measuring\u001b[0m\u001b[1;33m\u001b[0m\u001b[1;33m\u001b[0m\u001b[0m\n\u001b[1;32m--> 163\u001b[1;33m                         \u001b[0mmpoint\u001b[0m \u001b[1;33m=\u001b[0m \u001b[0mmeasurer\u001b[0m\u001b[1;33m.\u001b[0m\u001b[0mmeasure\u001b[0m\u001b[1;33m(\u001b[0m\u001b[1;33m)\u001b[0m\u001b[1;33m\u001b[0m\u001b[0m\n\u001b[0m\u001b[0;32m    164\u001b[0m                         \u001b[1;31m#saving data to containers\u001b[0m\u001b[1;33m\u001b[0m\u001b[1;33m\u001b[0m\u001b[0m\n\u001b[0;32m    165\u001b[0m                         \u001b[1;32mfor\u001b[0m \u001b[0mmname\u001b[0m \u001b[1;32min\u001b[0m \u001b[0mpoints\u001b[0m\u001b[1;33m.\u001b[0m\u001b[0mkeys\u001b[0m\u001b[1;33m(\u001b[0m\u001b[1;33m)\u001b[0m\u001b[1;33m:\u001b[0m\u001b[1;33m\u001b[0m\u001b[0m\n",
      "\u001b[1;32mD:\\qtlab_replacement\\instruments\\Agilent_N5242A.py\u001b[0m in \u001b[0;36mmeasure\u001b[1;34m(self)\u001b[0m\n\u001b[0;32m    521\u001b[0m \u001b[1;33m\u001b[0m\u001b[0m\n\u001b[0;32m    522\u001b[0m         \u001b[1;32mdef\u001b[0m \u001b[0mmeasure\u001b[0m\u001b[1;33m(\u001b[0m\u001b[0mself\u001b[0m\u001b[1;33m)\u001b[0m\u001b[1;33m:\u001b[0m\u001b[1;33m\u001b[0m\u001b[0m\n\u001b[1;32m--> 523\u001b[1;33m                 \u001b[0mdata\u001b[0m \u001b[1;33m=\u001b[0m \u001b[0mself\u001b[0m\u001b[1;33m.\u001b[0m\u001b[0mget_tracedata\u001b[0m\u001b[1;33m(\u001b[0m\u001b[0mformat\u001b[0m\u001b[1;33m=\u001b[0m\u001b[1;34m'realimag'\u001b[0m\u001b[1;33m)\u001b[0m\u001b[1;33m\u001b[0m\u001b[0m\n\u001b[0m\u001b[0;32m    524\u001b[0m                 \u001b[1;32mreturn\u001b[0m \u001b[1;33m{\u001b[0m\u001b[1;34m'S-parameter'\u001b[0m\u001b[1;33m:\u001b[0m\u001b[1;33m(\u001b[0m\u001b[0mdata\u001b[0m\u001b[1;33m[\u001b[0m\u001b[1;36m0\u001b[0m\u001b[1;33m]\u001b[0m\u001b[1;33m+\u001b[0m\u001b[1;36m1j\u001b[0m\u001b[1;33m*\u001b[0m\u001b[0mdata\u001b[0m\u001b[1;33m[\u001b[0m\u001b[1;36m1\u001b[0m\u001b[1;33m]\u001b[0m\u001b[1;33m)\u001b[0m\u001b[1;33m}\u001b[0m\u001b[1;33m\u001b[0m\u001b[0m\n\u001b[0;32m    525\u001b[0m \u001b[1;33m\u001b[0m\u001b[0m\n",
      "\u001b[1;32mD:\\qtlab_replacement\\instruments\\Agilent_N5242A.py\u001b[0m in \u001b[0;36mget_tracedata\u001b[1;34m(self, format)\u001b[0m\n\u001b[0;32m    310\u001b[0m                         \u001b[1;31m#Wait until ready and let plots to handle events (mouse drag and so on)\u001b[0m\u001b[1;33m\u001b[0m\u001b[1;33m\u001b[0m\u001b[0m\n\u001b[0;32m    311\u001b[0m                         \u001b[1;32mwhile\u001b[0m \u001b[0mint\u001b[0m\u001b[1;33m(\u001b[0m\u001b[0mself\u001b[0m\u001b[1;33m.\u001b[0m\u001b[0mask\u001b[0m\u001b[1;33m(\u001b[0m\u001b[1;34m\"*ESR?\"\u001b[0m\u001b[1;33m)\u001b[0m\u001b[1;33m)\u001b[0m\u001b[1;33m==\u001b[0m\u001b[1;36m0\u001b[0m\u001b[1;33m:\u001b[0m\u001b[1;33m\u001b[0m\u001b[0m\n\u001b[1;32m--> 312\u001b[1;33m                                 \u001b[0mplt\u001b[0m\u001b[1;33m.\u001b[0m\u001b[0mpause\u001b[0m\u001b[1;33m(\u001b[0m\u001b[1;36m0.05\u001b[0m\u001b[1;33m)\u001b[0m\u001b[1;33m\u001b[0m\u001b[0m\n\u001b[0m\u001b[0;32m    313\u001b[0m \u001b[1;33m\u001b[0m\u001b[0m\n\u001b[0;32m    314\u001b[0m                         \u001b[0mself\u001b[0m\u001b[1;33m.\u001b[0m\u001b[0m_visainstrument\u001b[0m\u001b[1;33m.\u001b[0m\u001b[0mwrite\u001b[0m\u001b[1;33m(\u001b[0m\u001b[1;34m':FORMAT REAL,32; FORMat:BORDer SWAP;'\u001b[0m\u001b[1;33m)\u001b[0m\u001b[1;33m\u001b[0m\u001b[0m\n",
      "\u001b[1;32mC:\\ProgramData\\Anaconda3\\lib\\site-packages\\matplotlib\\pyplot.py\u001b[0m in \u001b[0;36mpause\u001b[1;34m(interval)\u001b[0m\n\u001b[0;32m    295\u001b[0m             \u001b[0mcanvas\u001b[0m\u001b[1;33m.\u001b[0m\u001b[0mdraw_idle\u001b[0m\u001b[1;33m(\u001b[0m\u001b[1;33m)\u001b[0m\u001b[1;33m\u001b[0m\u001b[0m\n\u001b[0;32m    296\u001b[0m         \u001b[0mshow\u001b[0m\u001b[1;33m(\u001b[0m\u001b[0mblock\u001b[0m\u001b[1;33m=\u001b[0m\u001b[1;32mFalse\u001b[0m\u001b[1;33m)\u001b[0m\u001b[1;33m\u001b[0m\u001b[0m\n\u001b[1;32m--> 297\u001b[1;33m         \u001b[0mcanvas\u001b[0m\u001b[1;33m.\u001b[0m\u001b[0mstart_event_loop\u001b[0m\u001b[1;33m(\u001b[0m\u001b[0minterval\u001b[0m\u001b[1;33m)\u001b[0m\u001b[1;33m\u001b[0m\u001b[0m\n\u001b[0m\u001b[0;32m    298\u001b[0m     \u001b[1;32melse\u001b[0m\u001b[1;33m:\u001b[0m\u001b[1;33m\u001b[0m\u001b[0m\n\u001b[0;32m    299\u001b[0m         \u001b[0mtime\u001b[0m\u001b[1;33m.\u001b[0m\u001b[0msleep\u001b[0m\u001b[1;33m(\u001b[0m\u001b[0minterval\u001b[0m\u001b[1;33m)\u001b[0m\u001b[1;33m\u001b[0m\u001b[0m\n",
      "\u001b[1;32mC:\\ProgramData\\Anaconda3\\lib\\site-packages\\matplotlib\\backends\\backend_qt5.py\u001b[0m in \u001b[0;36mstart_event_loop\u001b[1;34m(self, timeout)\u001b[0m\n\u001b[0;32m    438\u001b[0m         \u001b[1;32mif\u001b[0m \u001b[0mtimeout\u001b[0m\u001b[1;33m:\u001b[0m\u001b[1;33m\u001b[0m\u001b[0m\n\u001b[0;32m    439\u001b[0m             \u001b[0mtimer\u001b[0m \u001b[1;33m=\u001b[0m \u001b[0mQtCore\u001b[0m\u001b[1;33m.\u001b[0m\u001b[0mQTimer\u001b[0m\u001b[1;33m.\u001b[0m\u001b[0msingleShot\u001b[0m\u001b[1;33m(\u001b[0m\u001b[0mtimeout\u001b[0m \u001b[1;33m*\u001b[0m \u001b[1;36m1000\u001b[0m\u001b[1;33m,\u001b[0m \u001b[0mevent_loop\u001b[0m\u001b[1;33m.\u001b[0m\u001b[0mquit\u001b[0m\u001b[1;33m)\u001b[0m\u001b[1;33m\u001b[0m\u001b[0m\n\u001b[1;32m--> 440\u001b[1;33m         \u001b[0mevent_loop\u001b[0m\u001b[1;33m.\u001b[0m\u001b[0mexec_\u001b[0m\u001b[1;33m(\u001b[0m\u001b[1;33m)\u001b[0m\u001b[1;33m\u001b[0m\u001b[0m\n\u001b[0m\u001b[0;32m    441\u001b[0m \u001b[1;33m\u001b[0m\u001b[0m\n\u001b[0;32m    442\u001b[0m     \u001b[1;32mdef\u001b[0m \u001b[0mstop_event_loop\u001b[0m\u001b[1;33m(\u001b[0m\u001b[0mself\u001b[0m\u001b[1;33m,\u001b[0m \u001b[0mevent\u001b[0m\u001b[1;33m=\u001b[0m\u001b[1;32mNone\u001b[0m\u001b[1;33m)\u001b[0m\u001b[1;33m:\u001b[0m\u001b[1;33m\u001b[0m\u001b[0m\n",
      "\u001b[1;31mKeyboardInterrupt\u001b[0m: "
     ]
    }
   ],
   "source": [
    "#pna.set_xlim(9.479e9, 9.479e9)\n",
    "#pna.set_nop(1)\n",
    "#pna.set_power(-50)\n",
    "#lo1.set_power(5)\n",
    "freqs = np.linspace(5e9, 8e9, 301)\n",
    "voltages = np.linspace(-4, 4, 21)\n",
    "pna.set_centerfreq(9.669e9)\n",
    "pna.set_span(0)\n",
    "pna.set_nop(1)\n",
    "pna.set_bandwidth(5)\n",
    "try:\n",
    "    for channel_id in [i for i in hivemind_qubit_controls.keys() if i<3]:\n",
    "        voltage_setter = lambda x: set_control_resonator_max(x, channel_id, resonator_val=0.5);\n",
    "        sweep.sweep(pna, \n",
    "            (voltages, voltage_setter, 'Compensated dac voltage #{0}'.format(channel_id)),\n",
    "            (freqs, lo1.set_frequency, 'Second tone frequncy'), \n",
    "            filename='Hivemind two-tone res2 res-x ex, re-z ro -50 dbm #{0}'.format(channel_id))\n",
    "finally:\n",
    "    set_control_resonator_max(-0.0, 0)"
   ]
  },
  {
   "cell_type": "code",
   "execution_count": 24,
   "metadata": {
    "scrolled": true
   },
   "outputs": [
    {
     "data": {
      "application/vnd.jupyter.widget-view+json": {
       "model_id": "0c2ec335e1d9420fa2c0600820725166",
       "version_major": 2,
       "version_minor": 0
      },
      "text/plain": [
       "A Jupyter Widget"
      ]
     },
     "metadata": {},
     "output_type": "display_data"
    },
    {
     "name": "stdout",
     "output_type": "stream",
     "text": [
      "Started at:  May 21 2018 13:27:09\n",
      "\n",
      "Elapsed time: 0 h 7 m 51.24 s\n"
     ]
    },
    {
     "data": {
      "application/vnd.jupyter.widget-view+json": {
       "model_id": "e12b86d2ced34c208f6feb1525d9816d",
       "version_major": 2,
       "version_minor": 0
      },
      "text/plain": [
       "A Jupyter Widget"
      ]
     },
     "metadata": {},
     "output_type": "display_data"
    },
    {
     "name": "stdout",
     "output_type": "stream",
     "text": [
      "Started at:  May 21 2018 13:35:01\n"
     ]
    },
    {
     "ename": "KeyboardInterrupt",
     "evalue": "",
     "output_type": "error",
     "traceback": [
      "\u001b[1;31m---------------------------------------------------------------------------\u001b[0m",
      "\u001b[1;31mKeyboardInterrupt\u001b[0m                         Traceback (most recent call last)",
      "\u001b[1;32m<ipython-input-24-5e1b26f81491>\u001b[0m in \u001b[0;36m<module>\u001b[1;34m()\u001b[0m\n\u001b[0;32m     15\u001b[0m             \u001b[1;33m(\u001b[0m\u001b[0mvoltages\u001b[0m\u001b[1;33m,\u001b[0m \u001b[0mvoltage_setter\u001b[0m\u001b[1;33m,\u001b[0m \u001b[1;34m'Compensated dac voltage #{0}'\u001b[0m\u001b[1;33m.\u001b[0m\u001b[0mformat\u001b[0m\u001b[1;33m(\u001b[0m\u001b[0mchannel_id\u001b[0m\u001b[1;33m)\u001b[0m\u001b[1;33m)\u001b[0m\u001b[1;33m,\u001b[0m\u001b[1;33m\u001b[0m\u001b[0m\n\u001b[0;32m     16\u001b[0m             \u001b[1;33m(\u001b[0m\u001b[0mfreqs\u001b[0m\u001b[1;33m,\u001b[0m \u001b[0mlo1\u001b[0m\u001b[1;33m.\u001b[0m\u001b[0mset_frequency\u001b[0m\u001b[1;33m,\u001b[0m \u001b[1;34m'Second tone frequncy'\u001b[0m\u001b[1;33m)\u001b[0m\u001b[1;33m,\u001b[0m\u001b[1;33m\u001b[0m\u001b[0m\n\u001b[1;32m---> 17\u001b[1;33m             filename='Hivemind two-tone res2 res-x ex, re-z ro -50 dbm #{0}'.format(channel_id))\n\u001b[0m\u001b[0;32m     18\u001b[0m \u001b[1;31m#finally:\u001b[0m\u001b[1;33m\u001b[0m\u001b[1;33m\u001b[0m\u001b[0m\n\u001b[0;32m     19\u001b[0m \u001b[1;31m#    pass\u001b[0m\u001b[1;33m\u001b[0m\u001b[1;33m\u001b[0m\u001b[0m\n",
      "\u001b[1;32mD:\\qtlab_replacement\\scripts\\sweep.py\u001b[0m in \u001b[0;36msweep\u001b[1;34m(measurer, filename, root_dir, plot, header, output, save, time_war_label, cycle_save_mode, *params)\u001b[0m\n\u001b[0;32m    161\u001b[0m                                         \u001b[0msetter\u001b[0m\u001b[1;33m(\u001b[0m\u001b[0mval\u001b[0m\u001b[1;33m)\u001b[0m\u001b[1;33m\u001b[0m\u001b[0m\n\u001b[0;32m    162\u001b[0m                         \u001b[1;31m#measuring\u001b[0m\u001b[1;33m\u001b[0m\u001b[1;33m\u001b[0m\u001b[0m\n\u001b[1;32m--> 163\u001b[1;33m                         \u001b[0mmpoint\u001b[0m \u001b[1;33m=\u001b[0m \u001b[0mmeasurer\u001b[0m\u001b[1;33m.\u001b[0m\u001b[0mmeasure\u001b[0m\u001b[1;33m(\u001b[0m\u001b[1;33m)\u001b[0m\u001b[1;33m\u001b[0m\u001b[0m\n\u001b[0m\u001b[0;32m    164\u001b[0m                         \u001b[1;31m#saving data to containers\u001b[0m\u001b[1;33m\u001b[0m\u001b[1;33m\u001b[0m\u001b[0m\n\u001b[0;32m    165\u001b[0m                         \u001b[1;32mfor\u001b[0m \u001b[0mmname\u001b[0m \u001b[1;32min\u001b[0m \u001b[0mpoints\u001b[0m\u001b[1;33m.\u001b[0m\u001b[0mkeys\u001b[0m\u001b[1;33m(\u001b[0m\u001b[1;33m)\u001b[0m\u001b[1;33m:\u001b[0m\u001b[1;33m\u001b[0m\u001b[0m\n",
      "\u001b[1;32mD:\\qtlab_replacement\\instruments\\Agilent_N5242A.py\u001b[0m in \u001b[0;36mmeasure\u001b[1;34m(self)\u001b[0m\n\u001b[0;32m    521\u001b[0m \u001b[1;33m\u001b[0m\u001b[0m\n\u001b[0;32m    522\u001b[0m         \u001b[1;32mdef\u001b[0m \u001b[0mmeasure\u001b[0m\u001b[1;33m(\u001b[0m\u001b[0mself\u001b[0m\u001b[1;33m)\u001b[0m\u001b[1;33m:\u001b[0m\u001b[1;33m\u001b[0m\u001b[0m\n\u001b[1;32m--> 523\u001b[1;33m                 \u001b[0mdata\u001b[0m \u001b[1;33m=\u001b[0m \u001b[0mself\u001b[0m\u001b[1;33m.\u001b[0m\u001b[0mget_tracedata\u001b[0m\u001b[1;33m(\u001b[0m\u001b[0mformat\u001b[0m\u001b[1;33m=\u001b[0m\u001b[1;34m'realimag'\u001b[0m\u001b[1;33m)\u001b[0m\u001b[1;33m\u001b[0m\u001b[0m\n\u001b[0m\u001b[0;32m    524\u001b[0m                 \u001b[1;32mreturn\u001b[0m \u001b[1;33m{\u001b[0m\u001b[1;34m'S-parameter'\u001b[0m\u001b[1;33m:\u001b[0m\u001b[1;33m(\u001b[0m\u001b[0mdata\u001b[0m\u001b[1;33m[\u001b[0m\u001b[1;36m0\u001b[0m\u001b[1;33m]\u001b[0m\u001b[1;33m+\u001b[0m\u001b[1;36m1j\u001b[0m\u001b[1;33m*\u001b[0m\u001b[0mdata\u001b[0m\u001b[1;33m[\u001b[0m\u001b[1;36m1\u001b[0m\u001b[1;33m]\u001b[0m\u001b[1;33m)\u001b[0m\u001b[1;33m}\u001b[0m\u001b[1;33m\u001b[0m\u001b[0m\n\u001b[0;32m    525\u001b[0m \u001b[1;33m\u001b[0m\u001b[0m\n",
      "\u001b[1;32mD:\\qtlab_replacement\\instruments\\Agilent_N5242A.py\u001b[0m in \u001b[0;36mget_tracedata\u001b[1;34m(self, format)\u001b[0m\n\u001b[0;32m    310\u001b[0m                         \u001b[1;31m#Wait until ready and let plots to handle events (mouse drag and so on)\u001b[0m\u001b[1;33m\u001b[0m\u001b[1;33m\u001b[0m\u001b[0m\n\u001b[0;32m    311\u001b[0m                         \u001b[1;32mwhile\u001b[0m \u001b[0mint\u001b[0m\u001b[1;33m(\u001b[0m\u001b[0mself\u001b[0m\u001b[1;33m.\u001b[0m\u001b[0mask\u001b[0m\u001b[1;33m(\u001b[0m\u001b[1;34m\"*ESR?\"\u001b[0m\u001b[1;33m)\u001b[0m\u001b[1;33m)\u001b[0m\u001b[1;33m==\u001b[0m\u001b[1;36m0\u001b[0m\u001b[1;33m:\u001b[0m\u001b[1;33m\u001b[0m\u001b[0m\n\u001b[1;32m--> 312\u001b[1;33m                                 \u001b[0mplt\u001b[0m\u001b[1;33m.\u001b[0m\u001b[0mpause\u001b[0m\u001b[1;33m(\u001b[0m\u001b[1;36m0.05\u001b[0m\u001b[1;33m)\u001b[0m\u001b[1;33m\u001b[0m\u001b[0m\n\u001b[0m\u001b[0;32m    313\u001b[0m \u001b[1;33m\u001b[0m\u001b[0m\n\u001b[0;32m    314\u001b[0m                         \u001b[0mself\u001b[0m\u001b[1;33m.\u001b[0m\u001b[0m_visainstrument\u001b[0m\u001b[1;33m.\u001b[0m\u001b[0mwrite\u001b[0m\u001b[1;33m(\u001b[0m\u001b[1;34m':FORMAT REAL,32; FORMat:BORDer SWAP;'\u001b[0m\u001b[1;33m)\u001b[0m\u001b[1;33m\u001b[0m\u001b[0m\n",
      "\u001b[1;32mC:\\ProgramData\\Anaconda3\\lib\\site-packages\\matplotlib\\pyplot.py\u001b[0m in \u001b[0;36mpause\u001b[1;34m(interval)\u001b[0m\n\u001b[0;32m    295\u001b[0m             \u001b[0mcanvas\u001b[0m\u001b[1;33m.\u001b[0m\u001b[0mdraw_idle\u001b[0m\u001b[1;33m(\u001b[0m\u001b[1;33m)\u001b[0m\u001b[1;33m\u001b[0m\u001b[0m\n\u001b[0;32m    296\u001b[0m         \u001b[0mshow\u001b[0m\u001b[1;33m(\u001b[0m\u001b[0mblock\u001b[0m\u001b[1;33m=\u001b[0m\u001b[1;32mFalse\u001b[0m\u001b[1;33m)\u001b[0m\u001b[1;33m\u001b[0m\u001b[0m\n\u001b[1;32m--> 297\u001b[1;33m         \u001b[0mcanvas\u001b[0m\u001b[1;33m.\u001b[0m\u001b[0mstart_event_loop\u001b[0m\u001b[1;33m(\u001b[0m\u001b[0minterval\u001b[0m\u001b[1;33m)\u001b[0m\u001b[1;33m\u001b[0m\u001b[0m\n\u001b[0m\u001b[0;32m    298\u001b[0m     \u001b[1;32melse\u001b[0m\u001b[1;33m:\u001b[0m\u001b[1;33m\u001b[0m\u001b[0m\n\u001b[0;32m    299\u001b[0m         \u001b[0mtime\u001b[0m\u001b[1;33m.\u001b[0m\u001b[0msleep\u001b[0m\u001b[1;33m(\u001b[0m\u001b[0minterval\u001b[0m\u001b[1;33m)\u001b[0m\u001b[1;33m\u001b[0m\u001b[0m\n",
      "\u001b[1;32mC:\\ProgramData\\Anaconda3\\lib\\site-packages\\matplotlib\\backends\\backend_qt5.py\u001b[0m in \u001b[0;36mstart_event_loop\u001b[1;34m(self, timeout)\u001b[0m\n\u001b[0;32m    438\u001b[0m         \u001b[1;32mif\u001b[0m \u001b[0mtimeout\u001b[0m\u001b[1;33m:\u001b[0m\u001b[1;33m\u001b[0m\u001b[0m\n\u001b[0;32m    439\u001b[0m             \u001b[0mtimer\u001b[0m \u001b[1;33m=\u001b[0m \u001b[0mQtCore\u001b[0m\u001b[1;33m.\u001b[0m\u001b[0mQTimer\u001b[0m\u001b[1;33m.\u001b[0m\u001b[0msingleShot\u001b[0m\u001b[1;33m(\u001b[0m\u001b[0mtimeout\u001b[0m \u001b[1;33m*\u001b[0m \u001b[1;36m1000\u001b[0m\u001b[1;33m,\u001b[0m \u001b[0mevent_loop\u001b[0m\u001b[1;33m.\u001b[0m\u001b[0mquit\u001b[0m\u001b[1;33m)\u001b[0m\u001b[1;33m\u001b[0m\u001b[0m\n\u001b[1;32m--> 440\u001b[1;33m         \u001b[0mevent_loop\u001b[0m\u001b[1;33m.\u001b[0m\u001b[0mexec_\u001b[0m\u001b[1;33m(\u001b[0m\u001b[1;33m)\u001b[0m\u001b[1;33m\u001b[0m\u001b[0m\n\u001b[0m\u001b[0;32m    441\u001b[0m \u001b[1;33m\u001b[0m\u001b[0m\n\u001b[0;32m    442\u001b[0m     \u001b[1;32mdef\u001b[0m \u001b[0mstop_event_loop\u001b[0m\u001b[1;33m(\u001b[0m\u001b[0mself\u001b[0m\u001b[1;33m,\u001b[0m \u001b[0mevent\u001b[0m\u001b[1;33m=\u001b[0m\u001b[1;32mNone\u001b[0m\u001b[1;33m)\u001b[0m\u001b[1;33m:\u001b[0m\u001b[1;33m\u001b[0m\u001b[0m\n",
      "\u001b[1;31mKeyboardInterrupt\u001b[0m: "
     ]
    }
   ],
   "source": [
    "#pna.set_xlim(9.479e9, 9.479e9)\n",
    "#pna.set_nop(1)\n",
    "#pna.set_power(-50)\n",
    "lo1.set_power(10)\n",
    "freqs = np.linspace(6.15e9, 6.25e9, 51)\n",
    "voltages = np.linspace(-4, 4, 21)\n",
    "pna.set_centerfreq(10.02e9)\n",
    "pna.set_span(0)\n",
    "pna.set_nop(1)\n",
    "pna.set_bandwidth(5)\n",
    "#try:\n",
    "for channel_id in [12,13,14,15,16,17,18,19,20,21,22,23]:\n",
    "    voltage_setter = lambda x: dac.set_voltage(channel_id, x);\n",
    "    sweep.sweep(pna, \n",
    "            (voltages, voltage_setter, 'Compensated dac voltage #{0}'.format(channel_id)),\n",
    "            (freqs, lo1.set_frequency, 'Second tone frequncy'), \n",
    "            filename='Hivemind two-tone res2 res-x ex, re-z ro -50 dbm #{0}'.format(channel_id))\n",
    "#finally:\n",
    "#    pass\n",
    "    dac.set_voltage(channel_id, 0.0);"
   ]
  },
  {
   "cell_type": "code",
   "execution_count": null,
   "metadata": {
    "collapsed": true
   },
   "outputs": [],
   "source": [
    "inv\n",
    "def set_control_with_mutual(x, target, compensator, scale):\n",
    "    compensation = -x*scale\n",
    "    target(x)\n",
    "    compensator(compensation)\n",
    "    #print (x, scale, compensation)"
   ]
  },
  {
   "cell_type": "code",
   "execution_count": 187,
   "metadata": {},
   "outputs": [
    {
     "data": {
      "text/plain": [
       "<matplotlib.colorbar.Colorbar at 0x218f0635748>"
      ]
     },
     "execution_count": 187,
     "metadata": {},
     "output_type": "execute_result"
    }
   ],
   "source": [
    "plt.figure('S21d')\n",
    "plt.pcolormesh(np.unwrap(np.angle(S21d)))\n",
    "plt.colorbar()\n",
    "plt.figure('S21u')\n",
    "plt.pcolormesh(np.real(inp))\n",
    "plt.colorbar()\n",
    "plt.figure('S21dr')\n",
    "plt.pcolormesh(np.real(S21d))\n",
    "plt.colorbar()"
   ]
  },
  {
   "cell_type": "code",
   "execution_count": 166,
   "metadata": {},
   "outputs": [
    {
     "data": {
      "text/plain": [
       "[<matplotlib.lines.Line2D at 0x27d8e2676a0>]"
      ]
     },
     "execution_count": 166,
     "metadata": {},
     "output_type": "execute_result"
    }
   ],
   "source": [
    "plt.figure()\n",
    "plt.plot(np.arange(401), f)\n",
    "plt.plot(np.arange(401)-period, f)"
   ]
  },
  {
   "cell_type": "code",
   "execution_count": 130,
   "metadata": {
    "collapsed": true
   },
   "outputs": [],
   "source": [
    "np.rollaxis?"
   ]
  },
  {
   "cell_type": "code",
   "execution_count": 51,
   "metadata": {},
   "outputs": [
    {
     "data": {
      "text/plain": [
       "[<matplotlib.lines.Line2D at 0x218f0840978>]"
      ]
     },
     "execution_count": 51,
     "metadata": {},
     "output_type": "execute_result"
    }
   ],
   "source": [
    "f[np.isnan(f)]=0\n",
    "plt.figure()\n",
    "plt.plot(np.correlate(f-np.mean(f), f-np.mean(f), mode='full'))"
   ]
  },
  {
   "cell_type": "code",
   "execution_count": 7,
   "metadata": {},
   "outputs": [
    {
     "name": "stdout",
     "output_type": "stream",
     "text": [
      "d:\\qtlab\\ReiData\\data/2018-05-10/15-15-07-Hivemind coil res-z\\S-parameter Hivemind coil res-z.pkl\n"
     ]
    }
   ],
   "source": []
  },
  {
   "cell_type": "code",
   "execution_count": 9,
   "metadata": {},
   "outputs": [
    {
     "data": {
      "text/plain": [
       "[<matplotlib.lines.Line2D at 0x218ecc7f9b0>]"
      ]
     },
     "execution_count": 9,
     "metadata": {},
     "output_type": "execute_result"
    }
   ],
   "source": [
    "f = diff_resonance_finder(meas['S-parameter'], threshold=0, diff_axis=0, reduce_axis=1, diff_type='diff', min_separation=1)\n",
    "plt.plot(meas['S-parameter'][1][0], f)"
   ]
  },
  {
   "cell_type": "code",
   "execution_count": 11,
   "metadata": {
    "scrolled": true
   },
   "outputs": [
    {
     "data": {
      "text/plain": [
       "{'S-parameter amplitude': {'axes': <matplotlib.axes._axes.Axes at 0x218ef9789e8>,\n",
       "  'plots': {'S-parameter': {'filter': <function plotting.plot_measurement.<locals>.<lambda>>,\n",
       "    'mname': 'S-parameter',\n",
       "    'plot': <matplotlib.image.AxesImage at 0x218ed7ca400>}}},\n",
       " 'S-parameter diff avg amplitude': {'axes': <matplotlib.axes._axes.Axes at 0x218ed5e5978>,\n",
       "  'plots': {'S-parameter diff avg': {'filter': <function plotting.plot_measurement.<locals>.<lambda>>,\n",
       "    'mname': 'S-parameter diff avg',\n",
       "    'plot': <matplotlib.image.AxesImage at 0x218ee0bcfd0>}}},\n",
       " 'S-parameter diff avg phase': {'axes': <matplotlib.axes._axes.Axes at 0x218ef98f668>,\n",
       "  'plots': {'S-parameter diff avg': {'filter': <function numpy.lib.function_base.angle>,\n",
       "    'mname': 'S-parameter diff avg',\n",
       "    'plot': <matplotlib.image.AxesImage at 0x218effebe48>}}},\n",
       " 'S-parameter phase': {'axes': <matplotlib.axes._axes.Axes at 0x218ed5af940>,\n",
       "  'plots': {'S-parameter': {'filter': <function numpy.lib.function_base.angle>,\n",
       "    'mname': 'S-parameter',\n",
       "    'plot': <matplotlib.image.AxesImage at 0x218efcaa2b0>}}}}"
      ]
     },
     "execution_count": 11,
     "metadata": {},
     "output_type": "execute_result"
    }
   ],
   "source": [
    "mdiff = diff_avg(meas, diff_axis=0)\n",
    "plotting.plot_measurement(mdiff)#['S-parameter diff avg']"
   ]
  },
  {
   "cell_type": "code",
   "execution_count": 14,
   "metadata": {},
   "outputs": [
    {
     "name": "stdout",
     "output_type": "stream",
     "text": [
      "I = 0.0004\n",
      "phase delta = 0.34042553191489366\n",
      "voltage phase = -0.934971531315553\n",
      "-0.934971531315553\n"
     ]
    }
   ],
   "source": [
    "set_current_compensated(0.4e-3)"
   ]
  },
  {
   "cell_type": "code",
   "execution_count": 66,
   "metadata": {
    "scrolled": true
   },
   "outputs": [
    {
     "data": {
      "application/vnd.jupyter.widget-view+json": {
       "model_id": "0af1d82990fd415694e9b246e7a67125",
       "version_major": 2,
       "version_minor": 0
      },
      "text/plain": [
       "A Jupyter Widget"
      ]
     },
     "metadata": {},
     "output_type": "display_data"
    },
    {
     "name": "stdout",
     "output_type": "stream",
     "text": [
      "Started at:  Feb 07 2018 18:19:12\n",
      "I1 = 0.0004\n",
      "I2 = -0.01271\n",
      "I1 = 0.00038\n",
      "I2 = -0.0120745\n",
      "I1 = 0.00036\n",
      "I2 = -0.011439\n",
      "I1 = 0.00034\n",
      "I2 = -0.0108035\n",
      "I1 = 0.00032\n",
      "I2 = -0.010168\n",
      "I1 = 0.0003\n",
      "I2 = -0.0095325\n",
      "I1 = 0.00028\n",
      "I2 = -0.008897\n",
      "I1 = 0.00026\n",
      "I2 = -0.0082615\n",
      "I1 = 0.00024\n",
      "I2 = -0.007626\n",
      "I1 = 0.00022\n",
      "I2 = -0.0069905\n",
      "I1 = 0.0002\n",
      "I2 = -0.006355\n",
      "I1 = 0.00018\n",
      "I2 = -0.0057195\n",
      "I1 = 0.00016\n",
      "I2 = -0.005084\n",
      "I1 = 0.00014\n",
      "I2 = -0.0044485\n",
      "I1 = 0.00012\n",
      "I2 = -0.003813\n",
      "I1 = 0.0001\n",
      "I2 = -0.0031775\n",
      "I1 = 8e-05\n",
      "I2 = -0.002542\n",
      "I1 = 6e-05\n",
      "I2 = -0.0019065\n",
      "I1 = 4e-05\n",
      "I2 = -0.001271\n",
      "I1 = 2e-05\n",
      "I2 = -0.0006355\n",
      "I1 = 0.0\n",
      "I2 = -0.0\n",
      "I1 = -2e-05\n",
      "I2 = 0.0006355\n",
      "I1 = -4e-05\n",
      "I2 = 0.001271\n",
      "I1 = -6e-05\n",
      "I2 = 0.0019065\n",
      "I1 = -8e-05\n",
      "I2 = 0.002542\n",
      "I1 = -0.0001\n",
      "I2 = 0.0031775\n",
      "I1 = -0.00012\n",
      "I2 = 0.003813\n",
      "I1 = -0.00014\n",
      "I2 = 0.0044485\n",
      "I1 = -0.00016\n",
      "I2 = 0.005084\n",
      "I1 = -0.00018\n",
      "I2 = 0.0057195\n",
      "I1 = -0.0002\n",
      "I2 = 0.006355\n",
      "I1 = -0.00022\n",
      "I2 = 0.0069905\n",
      "I1 = -0.00024\n",
      "I2 = 0.007626\n",
      "I1 = -0.00026\n",
      "I2 = 0.0082615\n",
      "I1 = -0.00028\n",
      "I2 = 0.008897\n",
      "I1 = -0.0003\n",
      "I2 = 0.0095325\n",
      "I1 = -0.00032\n",
      "I2 = 0.010168\n",
      "I1 = -0.00034\n",
      "I2 = 0.0108035\n",
      "I1 = -0.00036\n",
      "I2 = 0.011439\n",
      "I1 = -0.00038\n",
      "I2 = 0.0120745\n",
      "I1 = -0.0004\n",
      "I2 = 0.01271\n",
      "\n",
      "Elapsed time: 0 h 0 m 49.95 s\n"
     ]
    },
    {
     "data": {
      "text/plain": [
       "{'S-parameter': (('Coil current', 'Frequency'),\n",
       "  (array([  4.00000000e-04,   3.80000000e-04,   3.60000000e-04,\n",
       "            3.40000000e-04,   3.20000000e-04,   3.00000000e-04,\n",
       "            2.80000000e-04,   2.60000000e-04,   2.40000000e-04,\n",
       "            2.20000000e-04,   2.00000000e-04,   1.80000000e-04,\n",
       "            1.60000000e-04,   1.40000000e-04,   1.20000000e-04,\n",
       "            1.00000000e-04,   8.00000000e-05,   6.00000000e-05,\n",
       "            4.00000000e-05,   2.00000000e-05,   0.00000000e+00,\n",
       "           -2.00000000e-05,  -4.00000000e-05,  -6.00000000e-05,\n",
       "           -8.00000000e-05,  -1.00000000e-04,  -1.20000000e-04,\n",
       "           -1.40000000e-04,  -1.60000000e-04,  -1.80000000e-04,\n",
       "           -2.00000000e-04,  -2.20000000e-04,  -2.40000000e-04,\n",
       "           -2.60000000e-04,  -2.80000000e-04,  -3.00000000e-04,\n",
       "           -3.20000000e-04,  -3.40000000e-04,  -3.60000000e-04,\n",
       "           -3.80000000e-04,  -4.00000000e-04]),\n",
       "   array([  1.00400000e+10,   1.00401000e+10,   1.00402000e+10,\n",
       "            1.00403000e+10,   1.00404000e+10,   1.00405000e+10,\n",
       "            1.00406000e+10,   1.00407000e+10,   1.00408000e+10,\n",
       "            1.00409000e+10,   1.00410000e+10,   1.00411000e+10,\n",
       "            1.00412000e+10,   1.00413000e+10,   1.00414000e+10,\n",
       "            1.00415000e+10,   1.00416000e+10,   1.00417000e+10,\n",
       "            1.00418000e+10,   1.00419000e+10,   1.00420000e+10,\n",
       "            1.00421000e+10,   1.00422000e+10,   1.00423000e+10,\n",
       "            1.00424000e+10,   1.00425000e+10,   1.00426000e+10,\n",
       "            1.00427000e+10,   1.00428000e+10,   1.00429000e+10,\n",
       "            1.00430000e+10,   1.00431000e+10,   1.00432000e+10,\n",
       "            1.00433000e+10,   1.00434000e+10,   1.00435000e+10,\n",
       "            1.00436000e+10,   1.00437000e+10,   1.00438000e+10,\n",
       "            1.00439000e+10,   1.00440000e+10,   1.00441000e+10,\n",
       "            1.00442000e+10,   1.00443000e+10,   1.00444000e+10,\n",
       "            1.00445000e+10,   1.00446000e+10,   1.00447000e+10,\n",
       "            1.00448000e+10,   1.00449000e+10,   1.00450000e+10,\n",
       "            1.00451000e+10,   1.00452000e+10,   1.00453000e+10,\n",
       "            1.00454000e+10,   1.00455000e+10,   1.00456000e+10,\n",
       "            1.00457000e+10,   1.00458000e+10,   1.00459000e+10,\n",
       "            1.00460000e+10,   1.00461000e+10,   1.00462000e+10,\n",
       "            1.00463000e+10,   1.00464000e+10,   1.00465000e+10,\n",
       "            1.00466000e+10,   1.00467000e+10,   1.00468000e+10,\n",
       "            1.00469000e+10,   1.00470000e+10,   1.00471000e+10,\n",
       "            1.00472000e+10,   1.00473000e+10,   1.00474000e+10,\n",
       "            1.00475000e+10,   1.00476000e+10,   1.00477000e+10,\n",
       "            1.00478000e+10,   1.00479000e+10,   1.00480000e+10,\n",
       "            1.00481000e+10,   1.00482000e+10,   1.00483000e+10,\n",
       "            1.00484000e+10,   1.00485000e+10,   1.00486000e+10,\n",
       "            1.00487000e+10,   1.00488000e+10,   1.00489000e+10,\n",
       "            1.00490000e+10,   1.00491000e+10,   1.00492000e+10,\n",
       "            1.00493000e+10,   1.00494000e+10,   1.00495000e+10,\n",
       "            1.00496000e+10,   1.00497000e+10,   1.00498000e+10,\n",
       "            1.00499000e+10,   1.00500000e+10])),\n",
       "  array([[-0.00218411-0.00810637j,  0.01928445+0.00450341j,\n",
       "           0.02316858+0.01941295j, ...,  0.01520632-0.03435509j,\n",
       "           0.01193652-0.0355509j ,  0.01046070-0.03531361j],\n",
       "         [ 0.01431819+0.034296j  ,  0.01616125+0.03260534j,\n",
       "           0.01614919+0.03239996j, ...,  0.01454276-0.03253813j,\n",
       "           0.01231180-0.03403933j,  0.01005893-0.03634315j],\n",
       "         [ 0.01277193+0.03492445j,  0.01515473+0.03392031j,\n",
       "           0.01636497+0.03331096j, ...,  0.01479562-0.03298074j,\n",
       "           0.01414537-0.03309121j,  0.00827425-0.03597343j],\n",
       "         ..., \n",
       "         [ 0.02080458+0.00497908j,  0.01899467+0.00731672j,\n",
       "           0.01992139+0.00384353j, ...,  0.00801524-0.03959107j,\n",
       "           0.00429567-0.0384752j ,  0.00280309-0.04100142j],\n",
       "         [ 0.01622852+0.0047993j ,  0.01680513+0.0032384j ,\n",
       "           0.01687300+0.00187956j, ...,  0.00521245-0.039798j  ,\n",
       "           0.00416170-0.0399649j ,  0.00312213-0.03874144j],\n",
       "         [ 0.01594511+0.00714265j,  0.01688490+0.00148722j,\n",
       "           0.01529453+0.00124142j, ...,  0.00737819-0.03663419j,\n",
       "           0.00368353-0.03897871j,  0.00156820-0.0410694j ]]),\n",
       "  {'log': 20},\n",
       "  ('', 'Hz'))}"
      ]
     },
     "execution_count": 66,
     "metadata": {},
     "output_type": "execute_result"
    }
   ],
   "source": [
    "currents = np.linspace(0.4e-3, -0.4e-3, 41)\n",
    "current_src.set_status(1)\n",
    "current_src2.set_status(1)\n",
    "lo1.set_status(0)\n",
    "pna.set_nop(101)\n",
    "#pna.set_xlim(10.035e9,10.045e9)\n",
    "pna.set_xlim(10.040e9, 10.050e9)\n",
    "\n",
    "pna.set_bandwidth(100)\n",
    "pna.set_power(-40)\n",
    "sweep.sweep(pna, (currents, set_current_compensated, 'Coil current'), filename='Hivemind spectrum coil compensated')"
   ]
  },
  {
   "cell_type": "code",
   "execution_count": 102,
   "metadata": {
    "collapsed": true
   },
   "outputs": [],
   "source": [
    "def set_current_and_min_S21(x):\n",
    "    set_current_compensated(x)\n",
    "    lo1.set_status(0)\n",
    "    pna.set_nop(121)\n",
    "    pna.set_xlim(10.035e9, 10.05e9)\n",
    "    pna.set_power(-45)\n",
    "    pna.set_bandwidth(5)\n",
    "    centerfreq = pna.get_freqpoints()[np.argmin(pna.get_tracedata()[0])]\n",
    "    pna.set_xlim(centerfreq, centerfreq)\n",
    "    pna.set_nop(1)\n",
    "    pna.set_bandwidth(2)\n",
    "    lo1.set_status(1)\n",
    "    print ('Current:', x, ' frequency:', centerfreq)"
   ]
  },
  {
   "cell_type": "code",
   "execution_count": 113,
   "metadata": {
    "scrolled": true
   },
   "outputs": [
    {
     "data": {
      "application/vnd.jupyter.widget-view+json": {
       "model_id": "eae76082fba1459b8a1f52d54bbba7ab",
       "version_major": 2,
       "version_minor": 0
      },
      "text/plain": [
       "A Jupyter Widget"
      ]
     },
     "metadata": {},
     "output_type": "display_data"
    },
    {
     "name": "stdout",
     "output_type": "stream",
     "text": [
      "Started at:  Feb 09 2018 14:06:13\n"
     ]
    },
    {
     "name": "stderr",
     "output_type": "stream",
     "text": [
      "C:\\ProgramData\\Anaconda3\\lib\\site-packages\\matplotlib\\cbook\\deprecation.py:106: MatplotlibDeprecationWarning: Adding an axes using the same arguments as a previous axes currently reuses the earlier instance.  In a future version, a new instance will always be created and returned.  Meanwhile, this warning can be suppressed, and the future behavior ensured, by passing a unique label to each axes instance.\n",
      "  warnings.warn(message, mplDeprecation, stacklevel=1)\n"
     ]
    },
    {
     "name": "stdout",
     "output_type": "stream",
     "text": [
      "I1 = -0.0003\n",
      "I2 = 0.0095325\n",
      "Current: -0.0003  frequency: 10042875000.0\n",
      "I1 = -0.000295\n",
      "I2 = 0.009373625\n",
      "Current: -0.000295  frequency: 10042625000.0\n",
      "I1 = -0.00029\n",
      "I2 = 0.00921475\n",
      "Current: -0.00029  frequency: 10042625000.0\n",
      "I1 = -0.000285\n",
      "I2 = 0.009055875\n",
      "Current: -0.000285  frequency: 10042875000.0\n",
      "I1 = -0.00028\n",
      "I2 = 0.008897\n",
      "Current: -0.00028  frequency: 10042375000.0\n",
      "I1 = -0.000275\n",
      "I2 = 0.008738125\n",
      "Current: -0.000275  frequency: 10042625000.0\n",
      "I1 = -0.00027\n",
      "I2 = 0.00857925\n",
      "Current: -0.00027  frequency: 10042500000.0\n",
      "I1 = -0.000265\n",
      "I2 = 0.008420375\n",
      "Current: -0.000265  frequency: 10042875000.0\n",
      "I1 = -0.00026\n",
      "I2 = 0.0082615\n",
      "Current: -0.00026  frequency: 10042625000.0\n",
      "I1 = -0.000255\n",
      "I2 = 0.008102625\n",
      "Current: -0.000255  frequency: 10042625000.0\n",
      "I1 = -0.00025\n",
      "I2 = 0.00794375\n",
      "Current: -0.00025  frequency: 10042625000.0\n",
      "I1 = -0.000245\n",
      "I2 = 0.007784875\n",
      "Current: -0.000245  frequency: 10043000000.0\n",
      "I1 = -0.00024\n",
      "I2 = 0.007626\n",
      "Current: -0.00024  frequency: 10042875000.0\n",
      "I1 = -0.000235\n",
      "I2 = 0.007467125\n",
      "Current: -0.000235  frequency: 10042875000.0\n",
      "I1 = -0.00023\n",
      "I2 = 0.00730825\n",
      "Current: -0.00023  frequency: 10042625000.0\n",
      "I1 = -0.000225\n",
      "I2 = 0.007149375\n",
      "Current: -0.000225  frequency: 10042750000.0\n",
      "I1 = -0.00022\n",
      "I2 = 0.0069905\n",
      "Current: -0.00022  frequency: 10042625000.0\n",
      "I1 = -0.000215\n",
      "I2 = 0.006831625\n",
      "Current: -0.000215  frequency: 10043125000.0\n",
      "I1 = -0.00021\n",
      "I2 = 0.00667275\n",
      "Current: -0.00021  frequency: 10043000000.0\n",
      "I1 = -0.000205\n",
      "I2 = 0.006513875\n",
      "Current: -0.000205  frequency: 10042750000.0\n",
      "I1 = -0.0002\n",
      "I2 = 0.006355\n",
      "Current: -0.0002  frequency: 10042875000.0\n",
      "I1 = -0.000195\n",
      "I2 = 0.006196125\n",
      "Current: -0.000195  frequency: 10043125000.0\n",
      "I1 = -0.00019\n",
      "I2 = 0.00603725\n",
      "Current: -0.00019  frequency: 10042750000.0\n",
      "I1 = -0.000185\n",
      "I2 = 0.005878375\n",
      "Current: -0.000185  frequency: 10042750000.0\n",
      "I1 = -0.00018\n",
      "I2 = 0.0057195\n",
      "Current: -0.00018  frequency: 10042875000.0\n",
      "I1 = -0.000175\n",
      "I2 = 0.005560625\n",
      "Current: -0.000175  frequency: 10042875000.0\n",
      "I1 = -0.00017\n",
      "I2 = 0.00540175\n",
      "Current: -0.00017  frequency: 10042875000.0\n",
      "I1 = -0.000165\n",
      "I2 = 0.005242875\n",
      "Current: -0.000165  frequency: 10043000000.0\n",
      "I1 = -0.00016\n",
      "I2 = 0.005084\n",
      "Current: -0.00016  frequency: 10042750000.0\n",
      "I1 = -0.000155\n",
      "I2 = 0.004925125\n",
      "Current: -0.000155  frequency: 10043000000.0\n",
      "I1 = -0.00015\n",
      "I2 = 0.00476625\n",
      "Current: -0.00015  frequency: 10042875000.0\n",
      "\n",
      "Elapsed time: 2 h 20 m 0.71 s\n"
     ]
    },
    {
     "data": {
      "text/plain": [
       "{'S-parameter': (('Coil current', 'Second tone frequncy'),\n",
       "  (array([-0.0003  , -0.000295, -0.00029 , -0.000285, -0.00028 , -0.000275,\n",
       "          -0.00027 , -0.000265, -0.00026 , -0.000255, -0.00025 , -0.000245,\n",
       "          -0.00024 , -0.000235, -0.00023 , -0.000225, -0.00022 , -0.000215,\n",
       "          -0.00021 , -0.000205, -0.0002  , -0.000195, -0.00019 , -0.000185,\n",
       "          -0.00018 , -0.000175, -0.00017 , -0.000165, -0.00016 , -0.000155,\n",
       "          -0.00015 ]),\n",
       "   array([  6.50000000e+09,   6.51000000e+09,   6.52000000e+09,\n",
       "            6.53000000e+09,   6.54000000e+09,   6.55000000e+09,\n",
       "            6.56000000e+09,   6.57000000e+09,   6.58000000e+09,\n",
       "            6.59000000e+09,   6.60000000e+09,   6.61000000e+09,\n",
       "            6.62000000e+09,   6.63000000e+09,   6.64000000e+09,\n",
       "            6.65000000e+09,   6.66000000e+09,   6.67000000e+09,\n",
       "            6.68000000e+09,   6.69000000e+09,   6.70000000e+09,\n",
       "            6.71000000e+09,   6.72000000e+09,   6.73000000e+09,\n",
       "            6.74000000e+09,   6.75000000e+09,   6.76000000e+09,\n",
       "            6.77000000e+09,   6.78000000e+09,   6.79000000e+09,\n",
       "            6.80000000e+09,   6.81000000e+09,   6.82000000e+09,\n",
       "            6.83000000e+09,   6.84000000e+09,   6.85000000e+09,\n",
       "            6.86000000e+09,   6.87000000e+09,   6.88000000e+09,\n",
       "            6.89000000e+09,   6.90000000e+09,   6.91000000e+09,\n",
       "            6.92000000e+09,   6.93000000e+09,   6.94000000e+09,\n",
       "            6.95000000e+09,   6.96000000e+09,   6.97000000e+09,\n",
       "            6.98000000e+09,   6.99000000e+09,   7.00000000e+09,\n",
       "            7.01000000e+09,   7.02000000e+09,   7.03000000e+09,\n",
       "            7.04000000e+09,   7.05000000e+09,   7.06000000e+09,\n",
       "            7.07000000e+09,   7.08000000e+09,   7.09000000e+09,\n",
       "            7.10000000e+09,   7.11000000e+09,   7.12000000e+09,\n",
       "            7.13000000e+09,   7.14000000e+09,   7.15000000e+09,\n",
       "            7.16000000e+09,   7.17000000e+09,   7.18000000e+09,\n",
       "            7.19000000e+09,   7.20000000e+09,   7.21000000e+09,\n",
       "            7.22000000e+09,   7.23000000e+09,   7.24000000e+09,\n",
       "            7.25000000e+09,   7.26000000e+09,   7.27000000e+09,\n",
       "            7.28000000e+09,   7.29000000e+09,   7.30000000e+09,\n",
       "            7.31000000e+09,   7.32000000e+09,   7.33000000e+09,\n",
       "            7.34000000e+09,   7.35000000e+09,   7.36000000e+09,\n",
       "            7.37000000e+09,   7.38000000e+09,   7.39000000e+09,\n",
       "            7.40000000e+09,   7.41000000e+09,   7.42000000e+09,\n",
       "            7.43000000e+09,   7.44000000e+09,   7.45000000e+09,\n",
       "            7.46000000e+09,   7.47000000e+09,   7.48000000e+09,\n",
       "            7.49000000e+09,   7.50000000e+09,   7.51000000e+09,\n",
       "            7.52000000e+09,   7.53000000e+09,   7.54000000e+09,\n",
       "            7.55000000e+09,   7.56000000e+09,   7.57000000e+09,\n",
       "            7.58000000e+09,   7.59000000e+09,   7.60000000e+09,\n",
       "            7.61000000e+09,   7.62000000e+09,   7.63000000e+09,\n",
       "            7.64000000e+09,   7.65000000e+09,   7.66000000e+09,\n",
       "            7.67000000e+09,   7.68000000e+09,   7.69000000e+09,\n",
       "            7.70000000e+09,   7.71000000e+09,   7.72000000e+09,\n",
       "            7.73000000e+09,   7.74000000e+09,   7.75000000e+09,\n",
       "            7.76000000e+09,   7.77000000e+09,   7.78000000e+09,\n",
       "            7.79000000e+09,   7.80000000e+09,   7.81000000e+09,\n",
       "            7.82000000e+09,   7.83000000e+09,   7.84000000e+09,\n",
       "            7.85000000e+09,   7.86000000e+09,   7.87000000e+09,\n",
       "            7.88000000e+09,   7.89000000e+09,   7.90000000e+09,\n",
       "            7.91000000e+09,   7.92000000e+09,   7.93000000e+09,\n",
       "            7.94000000e+09,   7.95000000e+09,   7.96000000e+09,\n",
       "            7.97000000e+09,   7.98000000e+09,   7.99000000e+09,\n",
       "            8.00000000e+09,   8.01000000e+09,   8.02000000e+09,\n",
       "            8.03000000e+09,   8.04000000e+09,   8.05000000e+09,\n",
       "            8.06000000e+09,   8.07000000e+09,   8.08000000e+09,\n",
       "            8.09000000e+09,   8.10000000e+09,   8.11000000e+09,\n",
       "            8.12000000e+09,   8.13000000e+09,   8.14000000e+09,\n",
       "            8.15000000e+09,   8.16000000e+09,   8.17000000e+09,\n",
       "            8.18000000e+09,   8.19000000e+09,   8.20000000e+09,\n",
       "            8.21000000e+09,   8.22000000e+09,   8.23000000e+09,\n",
       "            8.24000000e+09,   8.25000000e+09,   8.26000000e+09,\n",
       "            8.27000000e+09,   8.28000000e+09,   8.29000000e+09,\n",
       "            8.30000000e+09,   8.31000000e+09,   8.32000000e+09,\n",
       "            8.33000000e+09,   8.34000000e+09,   8.35000000e+09,\n",
       "            8.36000000e+09,   8.37000000e+09,   8.38000000e+09,\n",
       "            8.39000000e+09,   8.40000000e+09,   8.41000000e+09,\n",
       "            8.42000000e+09,   8.43000000e+09,   8.44000000e+09,\n",
       "            8.45000000e+09,   8.46000000e+09,   8.47000000e+09,\n",
       "            8.48000000e+09,   8.49000000e+09,   8.50000000e+09])),\n",
       "  array([[ -2.20985641e-03-0.00023241j,  -2.28319247e-03-0.00057425j,\n",
       "           -1.86430337e-03-0.00054982j, ...,  -1.43718836e-03-0.00094129j,\n",
       "           -1.35825411e-03-0.00078374j,  -1.43922330e-03-0.00052611j],\n",
       "         [ -1.52865122e-03-0.00068404j,  -1.60943612e-03-0.00119668j,\n",
       "           -9.09851165e-04-0.00092543j, ...,  -4.90921899e-04-0.00159109j,\n",
       "           -7.84431119e-04-0.00107781j,  -9.03024687e-04-0.00108887j],\n",
       "         [ -1.69335911e-03-0.00085431j,  -1.32737425e-03-0.00068408j,\n",
       "           -1.15683035e-03-0.00100408j, ...,  -6.89273002e-04-0.00149452j,\n",
       "           -7.33750639e-04-0.0009798j ,  -5.07147459e-04-0.00123623j],\n",
       "         ..., \n",
       "         [ -5.87728864e-04-0.00162813j,   9.16939171e-05-0.00167951j,\n",
       "            2.57731910e-04-0.00203763j, ...,   5.41282876e-04-0.00151259j,\n",
       "            5.22326911e-04-0.00213614j,   4.54017791e-05-0.00173308j],\n",
       "         [ -1.59972068e-03-0.00091173j,  -1.52159377e-03-0.0012371j ,\n",
       "           -1.42751657e-03-0.0010069j , ...,  -7.18121475e-04-0.00166681j,\n",
       "           -5.14028943e-04-0.00163185j,  -1.12029363e-03-0.00155276j],\n",
       "         [ -1.09614932e-03-0.00155115j,  -8.17125954e-04-0.00138451j,\n",
       "           -5.63641486e-04-0.00188154j, ...,  -2.54453218e-04-0.00206874j,\n",
       "           -1.60389580e-04-0.00162122j,  -5.00907423e-04-0.00163197j]]),\n",
       "  {'log': 20},\n",
       "  ('', ''))}"
      ]
     },
     "execution_count": 113,
     "metadata": {},
     "output_type": "execute_result"
    }
   ],
   "source": [
    "#pna.set_xlim(9.479e9, 9.479e9)\n",
    "pna.set_xlim(10.042e9, 10.042e9)\n",
    "pna.set_nop(1)\n",
    "pna.set_power(-45)\n",
    "pna.set_bandwidth(1)\n",
    "pna.set_average(1)\n",
    "pna.set_averages(2)\n",
    "lo1.set_status(1)\n",
    "lo1.set_power(2)\n",
    "#freqs = np.linspace(4e9, 8e9, 1601)\n",
    "freqs = np.linspace(6.5e9, 8.5e9, 201)\n",
    "#voltages = np.linspace(-4, 4, 41)\n",
    "currents = np.linspace(-0.3e-3, -0.15e-3, 31)\n",
    "sweep.sweep(pna, \n",
    "           (currents, set_current_and_min_S21, 'Coil current'), \n",
    "             (freqs, lo1.set_frequency, 'Second tone frequncy'), \n",
    "            filename='Hivemind two-tone coil-compensated passthrough')"
   ]
  },
  {
   "cell_type": "code",
   "execution_count": 109,
   "metadata": {
    "scrolled": true
   },
   "outputs": [
    {
     "name": "stdout",
     "output_type": "stream",
     "text": [
      "I1 = -0.00022\n",
      "I2 = 0.0069905\n",
      "Current: -0.00022  frequency: 10042875000.0\n"
     ]
    },
    {
     "data": {
      "application/vnd.jupyter.widget-view+json": {
       "model_id": "e784954af2ce400391b85f85853f2a4d",
       "version_major": 2,
       "version_minor": 0
      },
      "text/plain": [
       "A Jupyter Widget"
      ]
     },
     "metadata": {},
     "output_type": "display_data"
    },
    {
     "name": "stdout",
     "output_type": "stream",
     "text": [
      "Started at:  Feb 09 2018 12:14:48\n",
      "\n",
      "Elapsed time: 0 h 4 m 11.65 s\n"
     ]
    },
    {
     "data": {
      "text/plain": [
       "{'S-parameter': (('Second tone power', 'Second tone frequency'),\n",
       "  (array([-10.,  -7.,  -4.,  -1.,   2.,   5.]),\n",
       "   array([  6.99000000e+09,   6.99050000e+09,   6.99100000e+09,\n",
       "            6.99150000e+09,   6.99200000e+09,   6.99250000e+09,\n",
       "            6.99300000e+09,   6.99350000e+09,   6.99400000e+09,\n",
       "            6.99450000e+09,   6.99500000e+09,   6.99550000e+09,\n",
       "            6.99600000e+09,   6.99650000e+09,   6.99700000e+09,\n",
       "            6.99750000e+09,   6.99800000e+09,   6.99850000e+09,\n",
       "            6.99900000e+09,   6.99950000e+09,   7.00000000e+09])),\n",
       "  array([[-0.00136337 -1.44381518e-03j, -0.00118964 -1.40381046e-03j,\n",
       "          -0.00099313 -1.47522823e-03j, -0.00099067 -1.34860841e-03j,\n",
       "          -0.00138008 -1.27515104e-03j, -0.00128266 -1.41071435e-03j,\n",
       "          -0.00103088 -1.29502150e-03j, -0.00120649 -1.27388840e-03j,\n",
       "          -0.00140977 -1.19330816e-03j, -0.00121635 -1.14414864e-03j,\n",
       "          -0.00132171 -1.34252897e-03j, -0.00114833 -1.14019995e-03j,\n",
       "          -0.00135949 -1.25558488e-03j, -0.00089208 -1.37915253e-03j,\n",
       "          -0.00120837 -1.38969254e-03j, -0.00114419 -1.40988431e-03j,\n",
       "          -0.00107534 -1.37485110e-03j, -0.00118473 -1.19364285e-03j,\n",
       "          -0.00115539 -1.12240983e-03j, -0.00101867 -1.20546203e-03j,\n",
       "          -0.00134867 -1.48356147e-03j],\n",
       "         [-0.00123644 -1.15902047e-03j, -0.00127019 -1.31238950e-03j,\n",
       "          -0.00115254 -1.21262076e-03j, -0.00098187 -1.26331171e-03j,\n",
       "          -0.00121220 -1.53714139e-03j, -0.00106832 -1.26794854e-03j,\n",
       "          -0.00141096 -1.37412583e-03j, -0.00119139 -9.93364607e-04j,\n",
       "          -0.00144688 -1.25348021e-03j, -0.00127684 -1.09788089e-03j,\n",
       "          -0.00128273 -1.19908922e-03j, -0.00131156 -1.05087273e-03j,\n",
       "          -0.00124580 -1.32818928e-03j, -0.00116142 -1.11247366e-03j,\n",
       "          -0.00121652 -9.81688965e-04j, -0.00105205 -9.23887594e-04j,\n",
       "          -0.00144359 -1.20143930e-03j, -0.00104681 -1.43398612e-03j,\n",
       "          -0.00161172 -1.22612226e-03j, -0.00098764 -1.15852524e-03j,\n",
       "          -0.00120906 -1.37232919e-03j],\n",
       "         [-0.00158739 -1.12438493e-03j, -0.00124441 -1.19972997e-03j,\n",
       "          -0.00104533 -1.15170027e-03j, -0.00134324 -1.41309784e-03j,\n",
       "          -0.00121404 -1.02376565e-03j, -0.00121336 -1.17239414e-03j,\n",
       "          -0.00139745 -1.04691728e-03j, -0.00123921 -1.09951920e-03j,\n",
       "          -0.00152933 -6.87107502e-04j, -0.00173130 -9.07388632e-04j,\n",
       "          -0.00142675 -9.12464573e-04j, -0.00149783 -7.67980819e-04j,\n",
       "          -0.00129492 -9.29264934e-04j, -0.00148643 -1.11827615e-03j,\n",
       "          -0.00118356 -9.38237237e-04j, -0.00136925 -1.21090596e-03j,\n",
       "          -0.00121793 -7.74880173e-04j, -0.00125188 -1.16862473e-03j,\n",
       "          -0.00099865 -1.12832687e-03j, -0.00146069 -7.93483516e-04j,\n",
       "          -0.00123943 -1.02510804e-03j],\n",
       "         [-0.00133829 -1.26519043e-03j, -0.00116487 -1.15418155e-03j,\n",
       "          -0.00134391 -1.01246254e-03j, -0.00115189 -9.54962918e-04j,\n",
       "          -0.00138799 -9.88041284e-04j, -0.00148557 -9.24416236e-04j,\n",
       "          -0.00162026 -7.57749018e-04j, -0.00180345 -8.97484308e-04j,\n",
       "          -0.00138915 -6.62912615e-04j, -0.00192235 -3.16723075e-04j,\n",
       "          -0.00206619 -1.95781700e-04j, -0.00165049 -5.82956127e-04j,\n",
       "          -0.00155770 -6.64259656e-04j, -0.00140868 -1.10019767e-03j,\n",
       "          -0.00130077 -8.68895266e-04j, -0.00143236 -5.97985403e-04j,\n",
       "          -0.00140635 -9.48177476e-04j, -0.00149296 -7.56393012e-04j,\n",
       "          -0.00119225 -1.03850360e-03j, -0.00108072 -8.65586509e-04j,\n",
       "          -0.00129824 -8.46414943e-04j],\n",
       "         [-0.00124766 -9.43685649e-04j, -0.00098738 -5.08265570e-04j,\n",
       "          -0.00131322 -4.58564784e-04j, -0.00143328 -6.84703002e-04j,\n",
       "          -0.00129491 -6.20070670e-04j, -0.00155866 -3.89272056e-04j,\n",
       "          -0.00163811 -3.04659712e-04j, -0.00189825 -4.52780805e-04j,\n",
       "          -0.00191261 +1.01104815e-05j, -0.00212933 +1.05761748e-04j,\n",
       "          -0.00196168 +2.18205634e-04j, -0.00198114 +1.52746507e-04j,\n",
       "          -0.00182518 -1.36899253e-05j, -0.00186483 -2.89661286e-04j,\n",
       "          -0.00164328 -4.23994556e-04j, -0.00160454 -2.74780439e-04j,\n",
       "          -0.00182532 -2.28706485e-04j, -0.00156839 -1.60065669e-04j,\n",
       "          -0.00159841 -3.25463072e-04j, -0.00180911 -2.73236132e-04j,\n",
       "          -0.00162794 -2.03776232e-04j],\n",
       "         [-0.00150977 -2.59186665e-04j, -0.00168445 -1.17164491e-04j,\n",
       "          -0.00157304 -6.99119701e-05j, -0.00155876 +2.28006538e-05j,\n",
       "          -0.00169418 +3.92451475e-04j, -0.00185994 +3.68666137e-04j,\n",
       "          -0.00193261 +4.06766019e-04j, -0.00220004 +9.07609588e-04j,\n",
       "          -0.00226958 +2.92563578e-03j, -0.00214536 +4.17189160e-03j,\n",
       "          -0.00235796 +3.15702800e-03j, -0.00226975 +2.12861318e-03j,\n",
       "          -0.00203428 +1.55324955e-03j, -0.00221709 +1.06372673e-03j,\n",
       "          -0.00186995 +9.19026439e-04j, -0.00179359 +7.78754475e-04j,\n",
       "          -0.00202675 +6.65961648e-04j, -0.00184478 +8.43790011e-04j,\n",
       "          -0.00190846 +5.13902458e-04j, -0.00194800 +8.52821744e-04j,\n",
       "          -0.00155726 +6.71118032e-04j]]),\n",
       "  {'log': 20},\n",
       "  ('', ''))}"
      ]
     },
     "execution_count": 109,
     "metadata": {},
     "output_type": "execute_result"
    }
   ],
   "source": [
    "#pna.set_xlim(9.479e9, 9.479e9)\n",
    "pna.set_xlim(10.042e9, 10.042e9)\n",
    "pna.set_nop(1)\n",
    "pna.set_power(-45)\n",
    "pna.set_average(1)\n",
    "pna.set_averages(4)\n",
    "pna.set_bandwidth(1)\n",
    "lo1.set_status(1)\n",
    "lo1.set_power(0)\n",
    "#freqs = np.linspace(4e9, 8e9, 1601)\n",
    "set_current_and_min_S21(-0.22e-3)\n",
    "freqs = np.linspace(6.99e9, 7.00e9, 21)\n",
    "powers = np.linspace(-10, 5, 6)\n",
    "#voltages = np.linspace(-4, 4, 41)\n",
    "#currents = np.linspace(-0.1e-3, 0.35e-3, 46)\n",
    "sweep.sweep(pna, \n",
    "           (powers, lo1.set_power, 'Second tone power'), \n",
    "             (freqs, lo1.set_frequency, 'Second tone frequency'), \n",
    "            filename='Two-tone power scan')"
   ]
  },
  {
   "cell_type": "code",
   "execution_count": 33,
   "metadata": {},
   "outputs": [
    {
     "data": {
      "text/plain": [
       "<module 'sweep' from 'D:\\\\qtlab_replacement\\\\scripts\\\\sweep.py'>"
      ]
     },
     "execution_count": 33,
     "metadata": {},
     "output_type": "execute_result"
    }
   ],
   "source": [
    "import imp\n",
    "imp.reload(sweep)"
   ]
  },
  {
   "cell_type": "code",
   "execution_count": 120,
   "metadata": {},
   "outputs": [
    {
     "name": "stdout",
     "output_type": "stream",
     "text": [
      "I1 = -0.00019\n",
      "I2 = 0.00603725\n",
      "Current: -0.00019  frequency: 10042875000.0\n"
     ]
    },
    {
     "data": {
      "application/vnd.jupyter.widget-view+json": {
       "model_id": "9d372edf71174649bfc2392e3378bb01",
       "version_major": 2,
       "version_minor": 0
      },
      "text/plain": [
       "A Jupyter Widget"
      ]
     },
     "metadata": {},
     "output_type": "display_data"
    },
    {
     "name": "stdout",
     "output_type": "stream",
     "text": [
      "Started at:  Feb 09 2018 18:26:07\n"
     ]
    },
    {
     "name": "stderr",
     "output_type": "stream",
     "text": [
      "C:\\ProgramData\\Anaconda3\\lib\\site-packages\\matplotlib\\cbook\\deprecation.py:106: MatplotlibDeprecationWarning: Adding an axes using the same arguments as a previous axes currently reuses the earlier instance.  In a future version, a new instance will always be created and returned.  Meanwhile, this warning can be suppressed, and the future behavior ensured, by passing a unique label to each axes instance.\n",
      "  warnings.warn(message, mplDeprecation, stacklevel=1)\n"
     ]
    },
    {
     "ename": "KeyboardInterrupt",
     "evalue": "",
     "output_type": "error",
     "traceback": [
      "\u001b[1;31m---------------------------------------------------------------------------\u001b[0m",
      "\u001b[1;31mKeyboardInterrupt\u001b[0m                         Traceback (most recent call last)",
      "\u001b[1;32mD:\\qtlab_replacement\\scripts\\sweep.py\u001b[0m in \u001b[0;36msweep\u001b[1;34m(measurer, filename, root_dir, plot, header, output, save, time_war_label, cycle_save_mode, *params)\u001b[0m\n\u001b[0;32m    162\u001b[0m                         \u001b[1;31m#measuring\u001b[0m\u001b[1;33m\u001b[0m\u001b[1;33m\u001b[0m\u001b[0m\n\u001b[1;32m--> 163\u001b[1;33m                         \u001b[0mmpoint\u001b[0m \u001b[1;33m=\u001b[0m \u001b[0mmeasurer\u001b[0m\u001b[1;33m.\u001b[0m\u001b[0mmeasure\u001b[0m\u001b[1;33m(\u001b[0m\u001b[1;33m)\u001b[0m\u001b[1;33m\u001b[0m\u001b[0m\n\u001b[0m\u001b[0;32m    164\u001b[0m                         \u001b[1;31m#saving data to containers\u001b[0m\u001b[1;33m\u001b[0m\u001b[1;33m\u001b[0m\u001b[0m\n",
      "\u001b[1;32mD:\\qtlab_replacement\\instruments\\Agilent_N5242A.py\u001b[0m in \u001b[0;36mmeasure\u001b[1;34m(self)\u001b[0m\n\u001b[0;32m    522\u001b[0m         \u001b[1;32mdef\u001b[0m \u001b[0mmeasure\u001b[0m\u001b[1;33m(\u001b[0m\u001b[0mself\u001b[0m\u001b[1;33m)\u001b[0m\u001b[1;33m:\u001b[0m\u001b[1;33m\u001b[0m\u001b[0m\n\u001b[1;32m--> 523\u001b[1;33m                 \u001b[0mdata\u001b[0m \u001b[1;33m=\u001b[0m \u001b[0mself\u001b[0m\u001b[1;33m.\u001b[0m\u001b[0mget_tracedata\u001b[0m\u001b[1;33m(\u001b[0m\u001b[0mformat\u001b[0m\u001b[1;33m=\u001b[0m\u001b[1;34m'realimag'\u001b[0m\u001b[1;33m)\u001b[0m\u001b[1;33m\u001b[0m\u001b[0m\n\u001b[0m\u001b[0;32m    524\u001b[0m                 \u001b[1;32mreturn\u001b[0m \u001b[1;33m{\u001b[0m\u001b[1;34m'S-parameter'\u001b[0m\u001b[1;33m:\u001b[0m\u001b[1;33m(\u001b[0m\u001b[0mdata\u001b[0m\u001b[1;33m[\u001b[0m\u001b[1;36m0\u001b[0m\u001b[1;33m]\u001b[0m\u001b[1;33m+\u001b[0m\u001b[1;36m1j\u001b[0m\u001b[1;33m*\u001b[0m\u001b[0mdata\u001b[0m\u001b[1;33m[\u001b[0m\u001b[1;36m1\u001b[0m\u001b[1;33m]\u001b[0m\u001b[1;33m)\u001b[0m\u001b[1;33m}\u001b[0m\u001b[1;33m\u001b[0m\u001b[0m\n",
      "\u001b[1;32mD:\\qtlab_replacement\\instruments\\Agilent_N5242A.py\u001b[0m in \u001b[0;36mget_tracedata\u001b[1;34m(self, format)\u001b[0m\n\u001b[0;32m    311\u001b[0m                         \u001b[1;32mwhile\u001b[0m \u001b[0mint\u001b[0m\u001b[1;33m(\u001b[0m\u001b[0mself\u001b[0m\u001b[1;33m.\u001b[0m\u001b[0mask\u001b[0m\u001b[1;33m(\u001b[0m\u001b[1;34m\"*ESR?\"\u001b[0m\u001b[1;33m)\u001b[0m\u001b[1;33m)\u001b[0m\u001b[1;33m==\u001b[0m\u001b[1;36m0\u001b[0m\u001b[1;33m:\u001b[0m\u001b[1;33m\u001b[0m\u001b[0m\n\u001b[1;32m--> 312\u001b[1;33m                                 \u001b[0mplt\u001b[0m\u001b[1;33m.\u001b[0m\u001b[0mpause\u001b[0m\u001b[1;33m(\u001b[0m\u001b[1;36m0.05\u001b[0m\u001b[1;33m)\u001b[0m\u001b[1;33m\u001b[0m\u001b[0m\n\u001b[0m\u001b[0;32m    313\u001b[0m \u001b[1;33m\u001b[0m\u001b[0m\n",
      "\u001b[1;32mC:\\ProgramData\\Anaconda3\\lib\\site-packages\\matplotlib\\pyplot.py\u001b[0m in \u001b[0;36mpause\u001b[1;34m(interval)\u001b[0m\n\u001b[0;32m    296\u001b[0m         \u001b[0mshow\u001b[0m\u001b[1;33m(\u001b[0m\u001b[0mblock\u001b[0m\u001b[1;33m=\u001b[0m\u001b[1;32mFalse\u001b[0m\u001b[1;33m)\u001b[0m\u001b[1;33m\u001b[0m\u001b[0m\n\u001b[1;32m--> 297\u001b[1;33m         \u001b[0mcanvas\u001b[0m\u001b[1;33m.\u001b[0m\u001b[0mstart_event_loop\u001b[0m\u001b[1;33m(\u001b[0m\u001b[0minterval\u001b[0m\u001b[1;33m)\u001b[0m\u001b[1;33m\u001b[0m\u001b[0m\n\u001b[0m\u001b[0;32m    298\u001b[0m     \u001b[1;32melse\u001b[0m\u001b[1;33m:\u001b[0m\u001b[1;33m\u001b[0m\u001b[0m\n",
      "\u001b[1;32mC:\\ProgramData\\Anaconda3\\lib\\site-packages\\matplotlib\\backends\\backend_qt5.py\u001b[0m in \u001b[0;36mstart_event_loop\u001b[1;34m(self, timeout)\u001b[0m\n\u001b[0;32m    439\u001b[0m             \u001b[0mtimer\u001b[0m \u001b[1;33m=\u001b[0m \u001b[0mQtCore\u001b[0m\u001b[1;33m.\u001b[0m\u001b[0mQTimer\u001b[0m\u001b[1;33m.\u001b[0m\u001b[0msingleShot\u001b[0m\u001b[1;33m(\u001b[0m\u001b[0mtimeout\u001b[0m \u001b[1;33m*\u001b[0m \u001b[1;36m1000\u001b[0m\u001b[1;33m,\u001b[0m \u001b[0mevent_loop\u001b[0m\u001b[1;33m.\u001b[0m\u001b[0mquit\u001b[0m\u001b[1;33m)\u001b[0m\u001b[1;33m\u001b[0m\u001b[0m\n\u001b[1;32m--> 440\u001b[1;33m         \u001b[0mevent_loop\u001b[0m\u001b[1;33m.\u001b[0m\u001b[0mexec_\u001b[0m\u001b[1;33m(\u001b[0m\u001b[1;33m)\u001b[0m\u001b[1;33m\u001b[0m\u001b[0m\n\u001b[0m\u001b[0;32m    441\u001b[0m \u001b[1;33m\u001b[0m\u001b[0m\n",
      "\u001b[1;31mKeyboardInterrupt\u001b[0m: ",
      "\nDuring handling of the above exception, another exception occurred:\n",
      "\u001b[1;31mKeyboardInterrupt\u001b[0m                         Traceback (most recent call last)",
      "\u001b[1;32m<ipython-input-120-fa52c9282b40>\u001b[0m in \u001b[0;36m<module>\u001b[1;34m()\u001b[0m\n\u001b[0;32m     18\u001b[0m     sweep.sweep(pna, \n\u001b[0;32m     19\u001b[0m              \u001b[1;33m(\u001b[0m\u001b[0mfreqs\u001b[0m\u001b[1;33m,\u001b[0m \u001b[0mlo1\u001b[0m\u001b[1;33m.\u001b[0m\u001b[0mset_frequency\u001b[0m\u001b[1;33m,\u001b[0m \u001b[1;34m'Second tone frequncy'\u001b[0m\u001b[1;33m)\u001b[0m\u001b[1;33m,\u001b[0m\u001b[1;33m\u001b[0m\u001b[0m\n\u001b[1;32m---> 20\u001b[1;33m             filename='Hivemind two-tone coil-compensated power 0 dBm current'.format(current))\n\u001b[0m",
      "\u001b[1;32mD:\\qtlab_replacement\\scripts\\sweep.py\u001b[0m in \u001b[0;36msweep\u001b[1;34m(measurer, filename, root_dir, plot, header, output, save, time_war_label, cycle_save_mode, *params)\u001b[0m\n\u001b[0;32m    213\u001b[0m                         \u001b[1;31m#save_pkl.save_pkl(header, data_pkl, location = data_dir)\u001b[0m\u001b[1;33m\u001b[0m\u001b[1;33m\u001b[0m\u001b[0m\n\u001b[0;32m    214\u001b[0m                         \u001b[1;32mif\u001b[0m \u001b[1;33m(\u001b[0m\u001b[0msave\u001b[0m\u001b[1;33m)\u001b[0m\u001b[1;33m:\u001b[0m\u001b[1;33m\u001b[0m\u001b[0m\n\u001b[1;32m--> 215\u001b[1;33m                                 \u001b[0msave_pkl\u001b[0m\u001b[1;33m.\u001b[0m\u001b[0msave_pkl\u001b[0m\u001b[1;33m(\u001b[0m\u001b[0mheader\u001b[0m\u001b[1;33m,\u001b[0m \u001b[0mmk_measurement\u001b[0m\u001b[1;33m(\u001b[0m\u001b[1;36m0\u001b[0m\u001b[1;33m)\u001b[0m\u001b[1;33m,\u001b[0m \u001b[0mlocation\u001b[0m \u001b[1;33m=\u001b[0m \u001b[0mdata_dir\u001b[0m\u001b[1;33m)\u001b[0m\u001b[1;33m\u001b[0m\u001b[0m\n\u001b[0m\u001b[0;32m    216\u001b[0m \u001b[1;33m\u001b[0m\u001b[0m\n\u001b[0;32m    217\u001b[0m                         \u001b[1;32mif\u001b[0m \u001b[0mascii_files\u001b[0m\u001b[1;33m[\u001b[0m\u001b[0mmname\u001b[0m\u001b[1;33m]\u001b[0m\u001b[1;33m:\u001b[0m\u001b[1;33m\u001b[0m\u001b[0m\n",
      "\u001b[1;32mD:\\qtlab_replacement\\scripts\\save_pkl.py\u001b[0m in \u001b[0;36msave_pkl\u001b[1;34m(header, data, plot, curve_fit, annotation, location, time, filename, matlab)\u001b[0m\n\u001b[0;32m     65\u001b[0m         \u001b[0mf\u001b[0m\u001b[1;33m.\u001b[0m\u001b[0mclose\u001b[0m\u001b[1;33m(\u001b[0m\u001b[1;33m)\u001b[0m\u001b[1;33m\u001b[0m\u001b[0m\n\u001b[0;32m     66\u001b[0m         \u001b[1;32mif\u001b[0m \u001b[0mplot\u001b[0m\u001b[1;33m:\u001b[0m\u001b[1;33m\u001b[0m\u001b[0m\n\u001b[1;32m---> 67\u001b[1;33m                 \u001b[0mplotting\u001b[0m\u001b[1;33m.\u001b[0m\u001b[0mplot_measurement\u001b[0m\u001b[1;33m(\u001b[0m\u001b[0mdata\u001b[0m\u001b[1;33m,\u001b[0m \u001b[0mfilename\u001b[0m\u001b[1;33m,\u001b[0m \u001b[0msave\u001b[0m\u001b[1;33m=\u001b[0m\u001b[0mlocation\u001b[0m\u001b[1;33m,\u001b[0m \u001b[0mannotation\u001b[0m\u001b[1;33m=\u001b[0m\u001b[0mannotation\u001b[0m\u001b[1;33m)\u001b[0m\u001b[1;33m\u001b[0m\u001b[0m\n\u001b[0m\u001b[0;32m     68\u001b[0m \u001b[1;33m\u001b[0m\u001b[0m\n\u001b[0;32m     69\u001b[0m         \u001b[1;32mif\u001b[0m \u001b[0mmatlab\u001b[0m\u001b[1;33m:\u001b[0m\u001b[1;33m\u001b[0m\u001b[0m\n",
      "\u001b[1;32mD:\\qtlab_replacement\\scripts\\plotting.py\u001b[0m in \u001b[0;36mplot_measurement\u001b[1;34m(measurement, name, save, annotation)\u001b[0m\n\u001b[0;32m    125\u001b[0m                 \u001b[1;32mif\u001b[0m \u001b[0msave\u001b[0m\u001b[1;33m:\u001b[0m\u001b[1;33m\u001b[0m\u001b[0m\n\u001b[0;32m    126\u001b[0m                         \u001b[0mplt\u001b[0m\u001b[1;33m.\u001b[0m\u001b[0mgrid\u001b[0m\u001b[1;33m(\u001b[0m\u001b[1;33m)\u001b[0m\u001b[1;33m\u001b[0m\u001b[0m\n\u001b[1;32m--> 127\u001b[1;33m                         \u001b[0mplt\u001b[0m\u001b[1;33m.\u001b[0m\u001b[0msavefig\u001b[0m\u001b[1;33m(\u001b[0m\u001b[1;34m'{0}/{1}.png'\u001b[0m\u001b[1;33m.\u001b[0m\u001b[0mformat\u001b[0m\u001b[1;33m(\u001b[0m\u001b[0msave\u001b[0m\u001b[1;33m,\u001b[0m \u001b[0max_name\u001b[0m\u001b[1;33m)\u001b[0m\u001b[1;33m)\u001b[0m\u001b[1;33m\u001b[0m\u001b[0m\n\u001b[0m\u001b[0;32m    128\u001b[0m \u001b[1;33m\u001b[0m\u001b[0m\n\u001b[0;32m    129\u001b[0m         \u001b[1;31m# return all the axes, filters & plotting instructions for updates\u001b[0m\u001b[1;33m\u001b[0m\u001b[1;33m\u001b[0m\u001b[0m\n",
      "\u001b[1;32mC:\\ProgramData\\Anaconda3\\lib\\site-packages\\matplotlib\\pyplot.py\u001b[0m in \u001b[0;36msavefig\u001b[1;34m(*args, **kwargs)\u001b[0m\n\u001b[0;32m    699\u001b[0m \u001b[1;32mdef\u001b[0m \u001b[0msavefig\u001b[0m\u001b[1;33m(\u001b[0m\u001b[1;33m*\u001b[0m\u001b[0margs\u001b[0m\u001b[1;33m,\u001b[0m \u001b[1;33m**\u001b[0m\u001b[0mkwargs\u001b[0m\u001b[1;33m)\u001b[0m\u001b[1;33m:\u001b[0m\u001b[1;33m\u001b[0m\u001b[0m\n\u001b[0;32m    700\u001b[0m     \u001b[0mfig\u001b[0m \u001b[1;33m=\u001b[0m \u001b[0mgcf\u001b[0m\u001b[1;33m(\u001b[0m\u001b[1;33m)\u001b[0m\u001b[1;33m\u001b[0m\u001b[0m\n\u001b[1;32m--> 701\u001b[1;33m     \u001b[0mres\u001b[0m \u001b[1;33m=\u001b[0m \u001b[0mfig\u001b[0m\u001b[1;33m.\u001b[0m\u001b[0msavefig\u001b[0m\u001b[1;33m(\u001b[0m\u001b[1;33m*\u001b[0m\u001b[0margs\u001b[0m\u001b[1;33m,\u001b[0m \u001b[1;33m**\u001b[0m\u001b[0mkwargs\u001b[0m\u001b[1;33m)\u001b[0m\u001b[1;33m\u001b[0m\u001b[0m\n\u001b[0m\u001b[0;32m    702\u001b[0m     \u001b[0mfig\u001b[0m\u001b[1;33m.\u001b[0m\u001b[0mcanvas\u001b[0m\u001b[1;33m.\u001b[0m\u001b[0mdraw_idle\u001b[0m\u001b[1;33m(\u001b[0m\u001b[1;33m)\u001b[0m   \u001b[1;31m# need this if 'transparent=True' to reset colors\u001b[0m\u001b[1;33m\u001b[0m\u001b[0m\n\u001b[0;32m    703\u001b[0m     \u001b[1;32mreturn\u001b[0m \u001b[0mres\u001b[0m\u001b[1;33m\u001b[0m\u001b[0m\n",
      "\u001b[1;32mC:\\ProgramData\\Anaconda3\\lib\\site-packages\\matplotlib\\figure.py\u001b[0m in \u001b[0;36msavefig\u001b[1;34m(self, fname, **kwargs)\u001b[0m\n\u001b[0;32m   1832\u001b[0m             \u001b[0mself\u001b[0m\u001b[1;33m.\u001b[0m\u001b[0mset_frameon\u001b[0m\u001b[1;33m(\u001b[0m\u001b[0mframeon\u001b[0m\u001b[1;33m)\u001b[0m\u001b[1;33m\u001b[0m\u001b[0m\n\u001b[0;32m   1833\u001b[0m \u001b[1;33m\u001b[0m\u001b[0m\n\u001b[1;32m-> 1834\u001b[1;33m         \u001b[0mself\u001b[0m\u001b[1;33m.\u001b[0m\u001b[0mcanvas\u001b[0m\u001b[1;33m.\u001b[0m\u001b[0mprint_figure\u001b[0m\u001b[1;33m(\u001b[0m\u001b[0mfname\u001b[0m\u001b[1;33m,\u001b[0m \u001b[1;33m**\u001b[0m\u001b[0mkwargs\u001b[0m\u001b[1;33m)\u001b[0m\u001b[1;33m\u001b[0m\u001b[0m\n\u001b[0m\u001b[0;32m   1835\u001b[0m \u001b[1;33m\u001b[0m\u001b[0m\n\u001b[0;32m   1836\u001b[0m         \u001b[1;32mif\u001b[0m \u001b[0mframeon\u001b[0m\u001b[1;33m:\u001b[0m\u001b[1;33m\u001b[0m\u001b[0m\n",
      "\u001b[1;32mC:\\ProgramData\\Anaconda3\\lib\\site-packages\\matplotlib\\backends\\backend_qt5agg.py\u001b[0m in \u001b[0;36mprint_figure\u001b[1;34m(self, *args, **kwargs)\u001b[0m\n\u001b[0;32m    183\u001b[0m \u001b[1;33m\u001b[0m\u001b[0m\n\u001b[0;32m    184\u001b[0m     \u001b[1;32mdef\u001b[0m \u001b[0mprint_figure\u001b[0m\u001b[1;33m(\u001b[0m\u001b[0mself\u001b[0m\u001b[1;33m,\u001b[0m \u001b[1;33m*\u001b[0m\u001b[0margs\u001b[0m\u001b[1;33m,\u001b[0m \u001b[1;33m**\u001b[0m\u001b[0mkwargs\u001b[0m\u001b[1;33m)\u001b[0m\u001b[1;33m:\u001b[0m\u001b[1;33m\u001b[0m\u001b[0m\n\u001b[1;32m--> 185\u001b[1;33m         \u001b[0msuper\u001b[0m\u001b[1;33m(\u001b[0m\u001b[0mFigureCanvasQTAggBase\u001b[0m\u001b[1;33m,\u001b[0m \u001b[0mself\u001b[0m\u001b[1;33m)\u001b[0m\u001b[1;33m.\u001b[0m\u001b[0mprint_figure\u001b[0m\u001b[1;33m(\u001b[0m\u001b[1;33m*\u001b[0m\u001b[0margs\u001b[0m\u001b[1;33m,\u001b[0m \u001b[1;33m**\u001b[0m\u001b[0mkwargs\u001b[0m\u001b[1;33m)\u001b[0m\u001b[1;33m\u001b[0m\u001b[0m\n\u001b[0m\u001b[0;32m    186\u001b[0m         \u001b[0mself\u001b[0m\u001b[1;33m.\u001b[0m\u001b[0mdraw\u001b[0m\u001b[1;33m(\u001b[0m\u001b[1;33m)\u001b[0m\u001b[1;33m\u001b[0m\u001b[0m\n\u001b[0;32m    187\u001b[0m \u001b[1;33m\u001b[0m\u001b[0m\n",
      "\u001b[1;32mC:\\ProgramData\\Anaconda3\\lib\\site-packages\\matplotlib\\backend_bases.py\u001b[0m in \u001b[0;36mprint_figure\u001b[1;34m(self, filename, dpi, facecolor, edgecolor, orientation, format, **kwargs)\u001b[0m\n\u001b[0;32m   2265\u001b[0m                 \u001b[0morientation\u001b[0m\u001b[1;33m=\u001b[0m\u001b[0morientation\u001b[0m\u001b[1;33m,\u001b[0m\u001b[1;33m\u001b[0m\u001b[0m\n\u001b[0;32m   2266\u001b[0m                 \u001b[0mbbox_inches_restore\u001b[0m\u001b[1;33m=\u001b[0m\u001b[0m_bbox_inches_restore\u001b[0m\u001b[1;33m,\u001b[0m\u001b[1;33m\u001b[0m\u001b[0m\n\u001b[1;32m-> 2267\u001b[1;33m                 **kwargs)\n\u001b[0m\u001b[0;32m   2268\u001b[0m         \u001b[1;32mfinally\u001b[0m\u001b[1;33m:\u001b[0m\u001b[1;33m\u001b[0m\u001b[0m\n\u001b[0;32m   2269\u001b[0m             \u001b[1;32mif\u001b[0m \u001b[0mbbox_inches\u001b[0m \u001b[1;32mand\u001b[0m \u001b[0mrestore_bbox\u001b[0m\u001b[1;33m:\u001b[0m\u001b[1;33m\u001b[0m\u001b[0m\n",
      "\u001b[1;32mC:\\ProgramData\\Anaconda3\\lib\\site-packages\\matplotlib\\backends\\backend_agg.py\u001b[0m in \u001b[0;36mprint_png\u001b[1;34m(self, filename_or_obj, *args, **kwargs)\u001b[0m\n\u001b[0;32m    505\u001b[0m \u001b[1;33m\u001b[0m\u001b[0m\n\u001b[0;32m    506\u001b[0m     \u001b[1;32mdef\u001b[0m \u001b[0mprint_png\u001b[0m\u001b[1;33m(\u001b[0m\u001b[0mself\u001b[0m\u001b[1;33m,\u001b[0m \u001b[0mfilename_or_obj\u001b[0m\u001b[1;33m,\u001b[0m \u001b[1;33m*\u001b[0m\u001b[0margs\u001b[0m\u001b[1;33m,\u001b[0m \u001b[1;33m**\u001b[0m\u001b[0mkwargs\u001b[0m\u001b[1;33m)\u001b[0m\u001b[1;33m:\u001b[0m\u001b[1;33m\u001b[0m\u001b[0m\n\u001b[1;32m--> 507\u001b[1;33m         \u001b[0mFigureCanvasAgg\u001b[0m\u001b[1;33m.\u001b[0m\u001b[0mdraw\u001b[0m\u001b[1;33m(\u001b[0m\u001b[0mself\u001b[0m\u001b[1;33m)\u001b[0m\u001b[1;33m\u001b[0m\u001b[0m\n\u001b[0m\u001b[0;32m    508\u001b[0m         \u001b[0mrenderer\u001b[0m \u001b[1;33m=\u001b[0m \u001b[0mself\u001b[0m\u001b[1;33m.\u001b[0m\u001b[0mget_renderer\u001b[0m\u001b[1;33m(\u001b[0m\u001b[1;33m)\u001b[0m\u001b[1;33m\u001b[0m\u001b[0m\n\u001b[0;32m    509\u001b[0m         \u001b[0moriginal_dpi\u001b[0m \u001b[1;33m=\u001b[0m \u001b[0mrenderer\u001b[0m\u001b[1;33m.\u001b[0m\u001b[0mdpi\u001b[0m\u001b[1;33m\u001b[0m\u001b[0m\n",
      "\u001b[1;32mC:\\ProgramData\\Anaconda3\\lib\\site-packages\\matplotlib\\backends\\backend_agg.py\u001b[0m in \u001b[0;36mdraw\u001b[1;34m(self)\u001b[0m\n\u001b[0;32m    428\u001b[0m             \u001b[1;31m# if toolbar:\u001b[0m\u001b[1;33m\u001b[0m\u001b[1;33m\u001b[0m\u001b[0m\n\u001b[0;32m    429\u001b[0m             \u001b[1;31m#     toolbar.set_cursor(cursors.WAIT)\u001b[0m\u001b[1;33m\u001b[0m\u001b[1;33m\u001b[0m\u001b[0m\n\u001b[1;32m--> 430\u001b[1;33m             \u001b[0mself\u001b[0m\u001b[1;33m.\u001b[0m\u001b[0mfigure\u001b[0m\u001b[1;33m.\u001b[0m\u001b[0mdraw\u001b[0m\u001b[1;33m(\u001b[0m\u001b[0mself\u001b[0m\u001b[1;33m.\u001b[0m\u001b[0mrenderer\u001b[0m\u001b[1;33m)\u001b[0m\u001b[1;33m\u001b[0m\u001b[0m\n\u001b[0m\u001b[0;32m    431\u001b[0m         \u001b[1;32mfinally\u001b[0m\u001b[1;33m:\u001b[0m\u001b[1;33m\u001b[0m\u001b[0m\n\u001b[0;32m    432\u001b[0m             \u001b[1;31m# if toolbar:\u001b[0m\u001b[1;33m\u001b[0m\u001b[1;33m\u001b[0m\u001b[0m\n",
      "\u001b[1;32mC:\\ProgramData\\Anaconda3\\lib\\site-packages\\matplotlib\\artist.py\u001b[0m in \u001b[0;36mdraw_wrapper\u001b[1;34m(artist, renderer, *args, **kwargs)\u001b[0m\n\u001b[0;32m     53\u001b[0m                 \u001b[0mrenderer\u001b[0m\u001b[1;33m.\u001b[0m\u001b[0mstart_filter\u001b[0m\u001b[1;33m(\u001b[0m\u001b[1;33m)\u001b[0m\u001b[1;33m\u001b[0m\u001b[0m\n\u001b[0;32m     54\u001b[0m \u001b[1;33m\u001b[0m\u001b[0m\n\u001b[1;32m---> 55\u001b[1;33m             \u001b[1;32mreturn\u001b[0m \u001b[0mdraw\u001b[0m\u001b[1;33m(\u001b[0m\u001b[0martist\u001b[0m\u001b[1;33m,\u001b[0m \u001b[0mrenderer\u001b[0m\u001b[1;33m,\u001b[0m \u001b[1;33m*\u001b[0m\u001b[0margs\u001b[0m\u001b[1;33m,\u001b[0m \u001b[1;33m**\u001b[0m\u001b[0mkwargs\u001b[0m\u001b[1;33m)\u001b[0m\u001b[1;33m\u001b[0m\u001b[0m\n\u001b[0m\u001b[0;32m     56\u001b[0m         \u001b[1;32mfinally\u001b[0m\u001b[1;33m:\u001b[0m\u001b[1;33m\u001b[0m\u001b[0m\n\u001b[0;32m     57\u001b[0m             \u001b[1;32mif\u001b[0m \u001b[0martist\u001b[0m\u001b[1;33m.\u001b[0m\u001b[0mget_agg_filter\u001b[0m\u001b[1;33m(\u001b[0m\u001b[1;33m)\u001b[0m \u001b[1;32mis\u001b[0m \u001b[1;32mnot\u001b[0m \u001b[1;32mNone\u001b[0m\u001b[1;33m:\u001b[0m\u001b[1;33m\u001b[0m\u001b[0m\n",
      "\u001b[1;32mC:\\ProgramData\\Anaconda3\\lib\\site-packages\\matplotlib\\figure.py\u001b[0m in \u001b[0;36mdraw\u001b[1;34m(self, renderer)\u001b[0m\n\u001b[0;32m   1297\u001b[0m \u001b[1;33m\u001b[0m\u001b[0m\n\u001b[0;32m   1298\u001b[0m             mimage._draw_list_compositing_images(\n\u001b[1;32m-> 1299\u001b[1;33m                 renderer, self, artists, self.suppressComposite)\n\u001b[0m\u001b[0;32m   1300\u001b[0m \u001b[1;33m\u001b[0m\u001b[0m\n\u001b[0;32m   1301\u001b[0m             \u001b[0mrenderer\u001b[0m\u001b[1;33m.\u001b[0m\u001b[0mclose_group\u001b[0m\u001b[1;33m(\u001b[0m\u001b[1;34m'figure'\u001b[0m\u001b[1;33m)\u001b[0m\u001b[1;33m\u001b[0m\u001b[0m\n",
      "\u001b[1;32mC:\\ProgramData\\Anaconda3\\lib\\site-packages\\matplotlib\\image.py\u001b[0m in \u001b[0;36m_draw_list_compositing_images\u001b[1;34m(renderer, parent, artists, suppress_composite)\u001b[0m\n\u001b[0;32m    136\u001b[0m     \u001b[1;32mif\u001b[0m \u001b[0mnot_composite\u001b[0m \u001b[1;32mor\u001b[0m \u001b[1;32mnot\u001b[0m \u001b[0mhas_images\u001b[0m\u001b[1;33m:\u001b[0m\u001b[1;33m\u001b[0m\u001b[0m\n\u001b[0;32m    137\u001b[0m         \u001b[1;32mfor\u001b[0m \u001b[0ma\u001b[0m \u001b[1;32min\u001b[0m \u001b[0martists\u001b[0m\u001b[1;33m:\u001b[0m\u001b[1;33m\u001b[0m\u001b[0m\n\u001b[1;32m--> 138\u001b[1;33m             \u001b[0ma\u001b[0m\u001b[1;33m.\u001b[0m\u001b[0mdraw\u001b[0m\u001b[1;33m(\u001b[0m\u001b[0mrenderer\u001b[0m\u001b[1;33m)\u001b[0m\u001b[1;33m\u001b[0m\u001b[0m\n\u001b[0m\u001b[0;32m    139\u001b[0m     \u001b[1;32melse\u001b[0m\u001b[1;33m:\u001b[0m\u001b[1;33m\u001b[0m\u001b[0m\n\u001b[0;32m    140\u001b[0m         \u001b[1;31m# Composite any adjacent images together\u001b[0m\u001b[1;33m\u001b[0m\u001b[1;33m\u001b[0m\u001b[0m\n",
      "\u001b[1;32mC:\\ProgramData\\Anaconda3\\lib\\site-packages\\matplotlib\\artist.py\u001b[0m in \u001b[0;36mdraw_wrapper\u001b[1;34m(artist, renderer, *args, **kwargs)\u001b[0m\n\u001b[0;32m     53\u001b[0m                 \u001b[0mrenderer\u001b[0m\u001b[1;33m.\u001b[0m\u001b[0mstart_filter\u001b[0m\u001b[1;33m(\u001b[0m\u001b[1;33m)\u001b[0m\u001b[1;33m\u001b[0m\u001b[0m\n\u001b[0;32m     54\u001b[0m \u001b[1;33m\u001b[0m\u001b[0m\n\u001b[1;32m---> 55\u001b[1;33m             \u001b[1;32mreturn\u001b[0m \u001b[0mdraw\u001b[0m\u001b[1;33m(\u001b[0m\u001b[0martist\u001b[0m\u001b[1;33m,\u001b[0m \u001b[0mrenderer\u001b[0m\u001b[1;33m,\u001b[0m \u001b[1;33m*\u001b[0m\u001b[0margs\u001b[0m\u001b[1;33m,\u001b[0m \u001b[1;33m**\u001b[0m\u001b[0mkwargs\u001b[0m\u001b[1;33m)\u001b[0m\u001b[1;33m\u001b[0m\u001b[0m\n\u001b[0m\u001b[0;32m     56\u001b[0m         \u001b[1;32mfinally\u001b[0m\u001b[1;33m:\u001b[0m\u001b[1;33m\u001b[0m\u001b[0m\n\u001b[0;32m     57\u001b[0m             \u001b[1;32mif\u001b[0m \u001b[0martist\u001b[0m\u001b[1;33m.\u001b[0m\u001b[0mget_agg_filter\u001b[0m\u001b[1;33m(\u001b[0m\u001b[1;33m)\u001b[0m \u001b[1;32mis\u001b[0m \u001b[1;32mnot\u001b[0m \u001b[1;32mNone\u001b[0m\u001b[1;33m:\u001b[0m\u001b[1;33m\u001b[0m\u001b[0m\n",
      "\u001b[1;32mC:\\ProgramData\\Anaconda3\\lib\\site-packages\\matplotlib\\axes\\_base.py\u001b[0m in \u001b[0;36mdraw\u001b[1;34m(self, renderer, inframe)\u001b[0m\n\u001b[0;32m   2435\u001b[0m             \u001b[0mrenderer\u001b[0m\u001b[1;33m.\u001b[0m\u001b[0mstop_rasterizing\u001b[0m\u001b[1;33m(\u001b[0m\u001b[1;33m)\u001b[0m\u001b[1;33m\u001b[0m\u001b[0m\n\u001b[0;32m   2436\u001b[0m \u001b[1;33m\u001b[0m\u001b[0m\n\u001b[1;32m-> 2437\u001b[1;33m         \u001b[0mmimage\u001b[0m\u001b[1;33m.\u001b[0m\u001b[0m_draw_list_compositing_images\u001b[0m\u001b[1;33m(\u001b[0m\u001b[0mrenderer\u001b[0m\u001b[1;33m,\u001b[0m \u001b[0mself\u001b[0m\u001b[1;33m,\u001b[0m \u001b[0martists\u001b[0m\u001b[1;33m)\u001b[0m\u001b[1;33m\u001b[0m\u001b[0m\n\u001b[0m\u001b[0;32m   2438\u001b[0m \u001b[1;33m\u001b[0m\u001b[0m\n\u001b[0;32m   2439\u001b[0m         \u001b[0mrenderer\u001b[0m\u001b[1;33m.\u001b[0m\u001b[0mclose_group\u001b[0m\u001b[1;33m(\u001b[0m\u001b[1;34m'axes'\u001b[0m\u001b[1;33m)\u001b[0m\u001b[1;33m\u001b[0m\u001b[0m\n",
      "\u001b[1;32mC:\\ProgramData\\Anaconda3\\lib\\site-packages\\matplotlib\\image.py\u001b[0m in \u001b[0;36m_draw_list_compositing_images\u001b[1;34m(renderer, parent, artists, suppress_composite)\u001b[0m\n\u001b[0;32m    136\u001b[0m     \u001b[1;32mif\u001b[0m \u001b[0mnot_composite\u001b[0m \u001b[1;32mor\u001b[0m \u001b[1;32mnot\u001b[0m \u001b[0mhas_images\u001b[0m\u001b[1;33m:\u001b[0m\u001b[1;33m\u001b[0m\u001b[0m\n\u001b[0;32m    137\u001b[0m         \u001b[1;32mfor\u001b[0m \u001b[0ma\u001b[0m \u001b[1;32min\u001b[0m \u001b[0martists\u001b[0m\u001b[1;33m:\u001b[0m\u001b[1;33m\u001b[0m\u001b[0m\n\u001b[1;32m--> 138\u001b[1;33m             \u001b[0ma\u001b[0m\u001b[1;33m.\u001b[0m\u001b[0mdraw\u001b[0m\u001b[1;33m(\u001b[0m\u001b[0mrenderer\u001b[0m\u001b[1;33m)\u001b[0m\u001b[1;33m\u001b[0m\u001b[0m\n\u001b[0m\u001b[0;32m    139\u001b[0m     \u001b[1;32melse\u001b[0m\u001b[1;33m:\u001b[0m\u001b[1;33m\u001b[0m\u001b[0m\n\u001b[0;32m    140\u001b[0m         \u001b[1;31m# Composite any adjacent images together\u001b[0m\u001b[1;33m\u001b[0m\u001b[1;33m\u001b[0m\u001b[0m\n",
      "\u001b[1;32mC:\\ProgramData\\Anaconda3\\lib\\site-packages\\matplotlib\\artist.py\u001b[0m in \u001b[0;36mdraw_wrapper\u001b[1;34m(artist, renderer, *args, **kwargs)\u001b[0m\n\u001b[0;32m     53\u001b[0m                 \u001b[0mrenderer\u001b[0m\u001b[1;33m.\u001b[0m\u001b[0mstart_filter\u001b[0m\u001b[1;33m(\u001b[0m\u001b[1;33m)\u001b[0m\u001b[1;33m\u001b[0m\u001b[0m\n\u001b[0;32m     54\u001b[0m \u001b[1;33m\u001b[0m\u001b[0m\n\u001b[1;32m---> 55\u001b[1;33m             \u001b[1;32mreturn\u001b[0m \u001b[0mdraw\u001b[0m\u001b[1;33m(\u001b[0m\u001b[0martist\u001b[0m\u001b[1;33m,\u001b[0m \u001b[0mrenderer\u001b[0m\u001b[1;33m,\u001b[0m \u001b[1;33m*\u001b[0m\u001b[0margs\u001b[0m\u001b[1;33m,\u001b[0m \u001b[1;33m**\u001b[0m\u001b[0mkwargs\u001b[0m\u001b[1;33m)\u001b[0m\u001b[1;33m\u001b[0m\u001b[0m\n\u001b[0m\u001b[0;32m     56\u001b[0m         \u001b[1;32mfinally\u001b[0m\u001b[1;33m:\u001b[0m\u001b[1;33m\u001b[0m\u001b[0m\n\u001b[0;32m     57\u001b[0m             \u001b[1;32mif\u001b[0m \u001b[0martist\u001b[0m\u001b[1;33m.\u001b[0m\u001b[0mget_agg_filter\u001b[0m\u001b[1;33m(\u001b[0m\u001b[1;33m)\u001b[0m \u001b[1;32mis\u001b[0m \u001b[1;32mnot\u001b[0m \u001b[1;32mNone\u001b[0m\u001b[1;33m:\u001b[0m\u001b[1;33m\u001b[0m\u001b[0m\n",
      "\u001b[1;32mC:\\ProgramData\\Anaconda3\\lib\\site-packages\\matplotlib\\axis.py\u001b[0m in \u001b[0;36mdraw\u001b[1;34m(self, renderer, *args, **kwargs)\u001b[0m\n\u001b[0;32m   1143\u001b[0m         \u001b[1;31m# the actual bbox\u001b[0m\u001b[1;33m\u001b[0m\u001b[1;33m\u001b[0m\u001b[0m\n\u001b[0;32m   1144\u001b[0m \u001b[1;33m\u001b[0m\u001b[0m\n\u001b[1;32m-> 1145\u001b[1;33m         \u001b[0mself\u001b[0m\u001b[1;33m.\u001b[0m\u001b[0m_update_label_position\u001b[0m\u001b[1;33m(\u001b[0m\u001b[0mticklabelBoxes\u001b[0m\u001b[1;33m,\u001b[0m \u001b[0mticklabelBoxes2\u001b[0m\u001b[1;33m)\u001b[0m\u001b[1;33m\u001b[0m\u001b[0m\n\u001b[0m\u001b[0;32m   1146\u001b[0m \u001b[1;33m\u001b[0m\u001b[0m\n\u001b[0;32m   1147\u001b[0m         \u001b[0mself\u001b[0m\u001b[1;33m.\u001b[0m\u001b[0mlabel\u001b[0m\u001b[1;33m.\u001b[0m\u001b[0mdraw\u001b[0m\u001b[1;33m(\u001b[0m\u001b[0mrenderer\u001b[0m\u001b[1;33m)\u001b[0m\u001b[1;33m\u001b[0m\u001b[0m\n",
      "\u001b[1;32mC:\\ProgramData\\Anaconda3\\lib\\site-packages\\matplotlib\\axis.py\u001b[0m in \u001b[0;36m_update_label_position\u001b[1;34m(self, bboxes, bboxes2)\u001b[0m\n\u001b[0;32m   2190\u001b[0m                 \u001b[0mspine\u001b[0m \u001b[1;33m=\u001b[0m \u001b[0mself\u001b[0m\u001b[1;33m.\u001b[0m\u001b[0maxes\u001b[0m\u001b[1;33m.\u001b[0m\u001b[0mspines\u001b[0m\u001b[1;33m[\u001b[0m\u001b[1;34m'left'\u001b[0m\u001b[1;33m]\u001b[0m\u001b[1;33m\u001b[0m\u001b[0m\n\u001b[0;32m   2191\u001b[0m                 spinebbox = spine.get_transform().transform_path(\n\u001b[1;32m-> 2192\u001b[1;33m                     spine.get_path()).get_extents()\n\u001b[0m\u001b[0;32m   2193\u001b[0m             \u001b[1;32mexcept\u001b[0m \u001b[0mKeyError\u001b[0m\u001b[1;33m:\u001b[0m\u001b[1;33m\u001b[0m\u001b[0m\n\u001b[0;32m   2194\u001b[0m                 \u001b[1;31m# use axes if spine doesn't exist\u001b[0m\u001b[1;33m\u001b[0m\u001b[1;33m\u001b[0m\u001b[0m\n",
      "\u001b[1;32mC:\\ProgramData\\Anaconda3\\lib\\site-packages\\matplotlib\\path.py\u001b[0m in \u001b[0;36mget_extents\u001b[1;34m(self, transform)\u001b[0m\n\u001b[0;32m    541\u001b[0m                 \u001b[0mpath\u001b[0m \u001b[1;33m=\u001b[0m \u001b[0mself\u001b[0m\u001b[1;33m.\u001b[0m\u001b[0mtransformed\u001b[0m\u001b[1;33m(\u001b[0m\u001b[0mtransform\u001b[0m\u001b[1;33m)\u001b[0m\u001b[1;33m\u001b[0m\u001b[0m\n\u001b[0;32m    542\u001b[0m                 \u001b[0mtransform\u001b[0m \u001b[1;33m=\u001b[0m \u001b[1;32mNone\u001b[0m\u001b[1;33m\u001b[0m\u001b[0m\n\u001b[1;32m--> 543\u001b[1;33m         \u001b[1;32mreturn\u001b[0m \u001b[0mBbox\u001b[0m\u001b[1;33m(\u001b[0m\u001b[0m_path\u001b[0m\u001b[1;33m.\u001b[0m\u001b[0mget_path_extents\u001b[0m\u001b[1;33m(\u001b[0m\u001b[0mpath\u001b[0m\u001b[1;33m,\u001b[0m \u001b[0mtransform\u001b[0m\u001b[1;33m)\u001b[0m\u001b[1;33m)\u001b[0m\u001b[1;33m\u001b[0m\u001b[0m\n\u001b[0m\u001b[0;32m    544\u001b[0m \u001b[1;33m\u001b[0m\u001b[0m\n\u001b[0;32m    545\u001b[0m     \u001b[1;32mdef\u001b[0m \u001b[0mintersects_path\u001b[0m\u001b[1;33m(\u001b[0m\u001b[0mself\u001b[0m\u001b[1;33m,\u001b[0m \u001b[0mother\u001b[0m\u001b[1;33m,\u001b[0m \u001b[0mfilled\u001b[0m\u001b[1;33m=\u001b[0m\u001b[1;32mTrue\u001b[0m\u001b[1;33m)\u001b[0m\u001b[1;33m:\u001b[0m\u001b[1;33m\u001b[0m\u001b[0m\n",
      "\u001b[1;32mC:\\ProgramData\\Anaconda3\\lib\\site-packages\\matplotlib\\transforms.py\u001b[0m in \u001b[0;36m__init__\u001b[1;34m(self, points, **kwargs)\u001b[0m\n\u001b[0;32m    766\u001b[0m         \u001b[1;31m# default or has been mutated; we store the orig points to\u001b[0m\u001b[1;33m\u001b[0m\u001b[1;33m\u001b[0m\u001b[0m\n\u001b[0;32m    767\u001b[0m         \u001b[1;31m# support the mutated methods\u001b[0m\u001b[1;33m\u001b[0m\u001b[1;33m\u001b[0m\u001b[0m\n\u001b[1;32m--> 768\u001b[1;33m         \u001b[0mself\u001b[0m\u001b[1;33m.\u001b[0m\u001b[0m_points_orig\u001b[0m \u001b[1;33m=\u001b[0m \u001b[0mself\u001b[0m\u001b[1;33m.\u001b[0m\u001b[0m_points\u001b[0m\u001b[1;33m.\u001b[0m\u001b[0mcopy\u001b[0m\u001b[1;33m(\u001b[0m\u001b[1;33m)\u001b[0m\u001b[1;33m\u001b[0m\u001b[0m\n\u001b[0m\u001b[0;32m    769\u001b[0m     \u001b[1;32mif\u001b[0m \u001b[0mDEBUG\u001b[0m\u001b[1;33m:\u001b[0m\u001b[1;33m\u001b[0m\u001b[0m\n\u001b[0;32m    770\u001b[0m         \u001b[0m___init__\u001b[0m \u001b[1;33m=\u001b[0m \u001b[0m__init__\u001b[0m\u001b[1;33m\u001b[0m\u001b[0m\n",
      "\u001b[1;31mKeyboardInterrupt\u001b[0m: "
     ]
    }
   ],
   "source": [
    "#pna.set_xlim(9.479e9, 9.479e9)\n",
    "pna.set_xlim(10.04e9, 10.04e9)\n",
    "pna.set_nop(1)\n",
    "pna.set_power(-35)\n",
    "pna.set_average(0)\n",
    "pna.set_averages(1)\n",
    "pna.set_bandwidth(3)\n",
    "lo1.set_status(1)\n",
    "lo1.set_power(5)\n",
    "freqs = np.linspace(6.5e9, 8e9,751)\n",
    "#voltages = np.linspace(-4, 4, 41)\n",
    "currents = np.linspace(-0.19e-3, -0.19e-3, 1)\n",
    "#current = 0.05e-3\n",
    "#set_current_and_min_S21(-0.22e-3)\n",
    "for current in currents:\n",
    "    #lo1.set_power(power)\n",
    "    set_current_and_min_S21(current)\n",
    "    sweep.sweep(pna, \n",
    "             (freqs, lo1.set_frequency, 'Second tone frequncy'), \n",
    "            filename='Hivemind two-tone coil-compensated power 0 dBm current'.format(current))"
   ]
  },
  {
   "cell_type": "code",
   "execution_count": 9,
   "metadata": {},
   "outputs": [
    {
     "data": {
      "text/plain": [
       "True"
      ]
     },
     "execution_count": 9,
     "metadata": {},
     "output_type": "execute_result"
    }
   ],
   "source": [
    "set_res_z_voltage(-0)\n",
    "current_src.set_current(0e-3)\n",
    "current_src2.set_current(0)"
   ]
  },
  {
   "cell_type": "markdown",
   "metadata": {},
   "source": [
    "### loading two-tone spectrum"
   ]
  },
  {
   "cell_type": "code",
   "execution_count": 117,
   "metadata": {},
   "outputs": [
    {
     "name": "stdout",
     "output_type": "stream",
     "text": [
      "D:\\qtlab\\ReiData\\data\\2018-02-09\\14-06-13-Hivemind two-tone coil-compensated passthrough/S-parameter Hivemind two-tone coil-compensated passthrough.pkl\n"
     ]
    },
    {
     "data": {
      "text/plain": [
       "<matplotlib.colorbar.Colorbar at 0x1238f3d80f0>"
      ]
     },
     "execution_count": 117,
     "metadata": {},
     "output_type": "execute_result"
    }
   ],
   "source": [
    "filename = 'S-parameter Hivemind two-tone coil-compensated passthrough'\n",
    "#location = 'D:\\\\qtlab\\\\ReiData\\\\data\\\\2018-02-02\\\\15-43-49-Hivemind two-tone coil-compensated'\n",
    "#location = 'D:\\\\qtlab\\\\ReiData\\\\data\\\\2018-02-08\\\\11-05-12-Hivemind two-tone coil-compensated passthrough'\n",
    "#location = 'D:\\\\qtlab\\\\ReiData\\\\data\\\\2017-05-24\\\\11-33-10'\n",
    "location = 'D:\\\\qtlab\\\\ReiData\\\\data\\\\2018-02-09\\\\14-06-13-Hivemind two-tone coil-compensated passthrough'\n",
    "data = load_pkl(filename, location=location)[1]\n",
    "#D:\\qtlab\\ReiData\\data\\2018-02-02\\15-43-49-Hivemind two-tone coil-compensated\n",
    "plt.figure('Two-tone normalized weak', figsize=(18,6))\n",
    "plt.subplot(1,2,1)\n",
    "plt.pcolormesh(data['S-parameter'][1][0], \n",
    "               data['S-parameter'][1][1], \n",
    "               np.real(data['S-parameter'][2].T-np.mean(data['S-parameter'][2], axis=1)), cmap='RdBu_r')\n",
    "plt.colorbar()\n",
    "plt.subplot(1,2,2)\n",
    "plt.pcolormesh(data['S-parameter'][1][0], \n",
    "               data['S-parameter'][1][1], \n",
    "               np.imag(data['S-parameter'][2].T-np.mean(data['S-parameter'][2], axis=1)), cmap='RdBu_r')\n",
    "plt.colorbar()"
   ]
  },
  {
   "cell_type": "code",
   "execution_count": 53,
   "metadata": {
    "collapsed": true
   },
   "outputs": [],
   "source": [
    "import fitting"
   ]
  },
  {
   "cell_type": "markdown",
   "metadata": {},
   "source": [
    "### loading data for resonator frequency on coil current and fitting"
   ]
  },
  {
   "cell_type": "code",
   "execution_count": 44,
   "metadata": {
    "scrolled": true
   },
   "outputs": [
    {
     "name": "stdout",
     "output_type": "stream",
     "text": [
      "D:\\qtlab\\ReiData\\data\\2018-02-05\\11-30-51-Hivemind #2 single-tone/S-parameter Hivemind #2 single-tone.pkl\n"
     ]
    },
    {
     "name": "stderr",
     "output_type": "stream",
     "text": [
      "C:\\ProgramData\\Anaconda3\\lib\\site-packages\\numpy\\core\\fromnumeric.py:2909: RuntimeWarning: Mean of empty slice.\n",
      "  out=out, **kwargs)\n",
      "C:\\ProgramData\\Anaconda3\\lib\\site-packages\\numpy\\core\\_methods.py:80: RuntimeWarning: invalid value encountered in double_scalars\n",
      "  ret = ret.dtype.type(ret / rcount)\n",
      "C:\\ProgramData\\Anaconda3\\lib\\site-packages\\scipy\\optimize\\minpack.py:779: OptimizeWarning: Covariance of the parameters could not be estimated\n",
      "  category=OptimizeWarning)\n",
      "C:\\ProgramData\\Anaconda3\\lib\\site-packages\\scipy\\optimize\\minpack.py:427: RuntimeWarning: Number of calls to function has reached maxfev = 600.\n",
      "  warnings.warn(errors[info][0], RuntimeWarning)\n",
      "C:\\ProgramData\\Anaconda3\\lib\\site-packages\\scipy\\optimize\\minpack.py:427: RuntimeWarning: Number of calls to function has reached maxfev = 800.\n",
      "  warnings.warn(errors[info][0], RuntimeWarning)\n",
      "D:\\qtlab_replacement\\scripts\\fitting.py:272: RuntimeWarning: invalid value encountered in greater\n",
      "  fit_Qc[fit_Qc>1e5]=np.nan\n",
      "D:\\qtlab_replacement\\scripts\\fitting.py:273: RuntimeWarning: invalid value encountered in less\n",
      "  fit_Qc[fit_Qc<0]=np.nan\n"
     ]
    }
   ],
   "source": [
    "filename = 'S-parameter Hivemind #2 single-tone'\n",
    "#location = 'D:\\\\qtlab\\\\ReiData\\\\data\\\\2018-02-04\\\\11-57-19-Hivemind #2 single-tone'\n",
    "#location = 'D:\\\\qtlab\\\\ReiData\\\\data\\\\2018-02-05\\\\10-44-59-Hivemind #2 single-tone'\n",
    "#location = 'D:\\\\qtlab\\\\ReiData\\\\data\\\\2018-02-05\\\\10-52-24-Hivemind #2 single-tone'\n",
    "location = 'D:\\\\qtlab\\\\ReiData\\\\data\\\\2018-02-05\\\\11-30-51-Hivemind #2 single-tone'\n",
    "#location = 'D:\\\\qtlab\\\\ReiData\\\\data\\\\2017-05-24\\\\11-33-10'\n",
    "data = load_pkl(filename, location=location)[1]\n",
    "\n",
    "fitresults = fitting.dc_squid_fit_S21(data, noise_sigma=3)\n",
    "L_res_coil = fitresults['fitresults']['L']\n",
    "I0_coil = fitresults['fitresults']['I0']"
   ]
  },
  {
   "cell_type": "code",
   "execution_count": 28,
   "metadata": {},
   "outputs": [
    {
     "name": "stdout",
     "output_type": "stream",
     "text": [
      "{'fitresults': {'fp': nan, 'I0': nan, 'L': nan, 'a': nan, 'b': nan}, 'evaluator': <function dc_squid_fit_S21.<locals>.<lambda> at 0x000001D049A28598>, 'fp_est': array([  9.98300000e+09,   9.99100000e+09,   9.31700000e+09,\n",
      "         1.00050000e+10,   1.00110000e+10,   1.00240000e+10,\n",
      "         1.00270000e+10,   1.00310000e+10,   1.00340000e+10,\n",
      "         1.00360000e+10,   1.00390000e+10,   1.00410000e+10,\n",
      "         1.00420000e+10,   1.00430000e+10,   1.00440000e+10,\n",
      "         1.00440000e+10,   1.00440000e+10,   9.31700000e+09,\n",
      "         1.00420000e+10,   9.31700000e+09,   1.00380000e+10,\n",
      "         1.00360000e+10,   1.00330000e+10,   1.00300000e+10,\n",
      "         1.00260000e+10,   1.00230000e+10,   1.00100000e+10,\n",
      "         9.31700000e+09,   9.31700000e+09,   9.31700000e+09,\n",
      "         9.31700000e+09,   9.31700000e+09,   9.31700000e+09,\n",
      "         9.85700000e+09,   9.85700000e+09,   9.85700000e+09,\n",
      "         9.85600000e+09,   9.85600000e+09,   9.85400000e+09,\n",
      "         9.85100000e+09,   9.87000000e+09,   9.86500000e+09,\n",
      "         9.86300000e+09,   9.79000000e+09,   9.31600000e+09,\n",
      "         9.73500000e+09,   9.70800000e+09,   9.68000000e+09,\n",
      "         9.64800000e+09,   9.61500000e+09,   9.57800000e+09,\n",
      "         9.54000000e+09,   9.49800000e+09,   9.46700000e+09,\n",
      "         9.31200000e+09,   9.35100000e+09,   9.32100000e+09,\n",
      "         9.32000000e+09,   9.31900000e+09,   9.31800000e+09,\n",
      "         9.31800000e+09,   9.31800000e+09,   9.31800000e+09,\n",
      "         9.31800000e+09,   9.32900000e+09,   9.32900000e+09,\n",
      "         9.31700000e+09,   9.31700000e+09,   9.31700000e+09,\n",
      "         9.31700000e+09,   9.31700000e+09,   9.31700000e+09,\n",
      "         9.31700000e+09,   9.31700000e+09,   9.32900000e+09,\n",
      "         9.32900000e+09,   9.31800000e+09,   9.31800000e+09,\n",
      "         9.31800000e+09,   9.31800000e+09,   9.31800000e+09,\n",
      "         9.31900000e+09,   9.33200000e+09,   9.34200000e+09,\n",
      "         9.31100000e+09,   9.31400000e+09,   9.48900000e+09,\n",
      "         9.52800000e+09,   9.56700000e+09,   9.60300000e+09,\n",
      "         9.63700000e+09,   9.67000000e+09,   9.31600000e+09,\n",
      "         9.31600000e+09,   9.31600000e+09,   9.31600000e+09,\n",
      "         9.31600000e+09,   9.31600000e+09,   9.31600000e+09,\n",
      "         9.31600000e+09,   9.31600000e+09]), 'fp_est_xpoints': array([ -2.00000000e-04,  -1.96000000e-04,  -1.92000000e-04,\n",
      "        -1.88000000e-04,  -1.84000000e-04,  -1.80000000e-04,\n",
      "        -1.76000000e-04,  -1.72000000e-04,  -1.68000000e-04,\n",
      "        -1.64000000e-04,  -1.60000000e-04,  -1.56000000e-04,\n",
      "        -1.52000000e-04,  -1.48000000e-04,  -1.44000000e-04,\n",
      "        -1.40000000e-04,  -1.36000000e-04,  -1.32000000e-04,\n",
      "        -1.28000000e-04,  -1.24000000e-04,  -1.20000000e-04,\n",
      "        -1.16000000e-04,  -1.12000000e-04,  -1.08000000e-04,\n",
      "        -1.04000000e-04,  -1.00000000e-04,  -9.60000000e-05,\n",
      "        -9.20000000e-05,  -8.80000000e-05,  -8.40000000e-05,\n",
      "        -8.00000000e-05,  -7.60000000e-05,  -7.20000000e-05,\n",
      "        -6.80000000e-05,  -6.40000000e-05,  -6.00000000e-05,\n",
      "        -5.60000000e-05,  -5.20000000e-05,  -4.80000000e-05,\n",
      "        -4.40000000e-05,  -4.00000000e-05,  -3.60000000e-05,\n",
      "        -3.20000000e-05,  -2.80000000e-05,  -2.40000000e-05,\n",
      "        -2.00000000e-05,  -1.60000000e-05,  -1.20000000e-05,\n",
      "        -8.00000000e-06,  -4.00000000e-06,  -2.71050543e-20,\n",
      "         4.00000000e-06,   8.00000000e-06,   1.20000000e-05,\n",
      "         1.60000000e-05,   2.00000000e-05,   2.40000000e-05,\n",
      "         2.80000000e-05,   3.20000000e-05,   3.60000000e-05,\n",
      "         4.00000000e-05,   4.40000000e-05,   4.80000000e-05,\n",
      "         5.20000000e-05,   5.60000000e-05,   6.00000000e-05,\n",
      "         6.40000000e-05,   6.80000000e-05,   7.20000000e-05,\n",
      "         7.60000000e-05,   8.00000000e-05,   8.40000000e-05,\n",
      "         8.80000000e-05,   9.20000000e-05,   9.60000000e-05,\n",
      "         1.00000000e-04,   1.04000000e-04,   1.08000000e-04,\n",
      "         1.12000000e-04,   1.16000000e-04,   1.20000000e-04,\n",
      "         1.24000000e-04,   1.28000000e-04,   1.32000000e-04,\n",
      "         1.36000000e-04,   1.40000000e-04,   1.44000000e-04,\n",
      "         1.48000000e-04,   1.52000000e-04,   1.56000000e-04,\n",
      "         1.60000000e-04,   1.64000000e-04,   1.68000000e-04,\n",
      "         1.72000000e-04,   1.76000000e-04,   1.80000000e-04,\n",
      "         1.84000000e-04,   1.88000000e-04,   1.92000000e-04,\n",
      "         1.96000000e-04,   2.00000000e-04]), 'fit_fr': array([             nan,   9.99191814e+09,   9.32181041e+09,\n",
      "         1.00016899e+10,   1.00017777e+10,   1.00293313e+10,\n",
      "         1.00238788e+10,   1.00361296e+10,   1.00331426e+10,\n",
      "         1.00440041e+10,              nan,   1.00350140e+10,\n",
      "         1.00460288e+10,   1.00393013e+10,   1.00429676e+10,\n",
      "         1.00519582e+10,   1.00520036e+10,   9.32180288e+09,\n",
      "         1.00339340e+10,   9.32182772e+09,   1.00320838e+10,\n",
      "         1.00446912e+10,   1.00367893e+10,   1.00289999e+10,\n",
      "         1.00231867e+10,   1.00286076e+10,   1.00109183e+10,\n",
      "         9.32191184e+09,   9.32192951e+09,   9.32190987e+09,\n",
      "         9.32194307e+09,   9.32189338e+09,   9.32186769e+09,\n",
      "         9.85363772e+09,   9.85392378e+09,   9.85504636e+09,\n",
      "         9.85314114e+09,   9.85733299e+09,   9.85256674e+09,\n",
      "                    nan,   9.86858837e+09,   9.86386354e+09,\n",
      "         9.86165110e+09,              nan,   9.32226072e+09,\n",
      "         9.73305619e+09,   9.70788250e+09,   9.68028847e+09,\n",
      "         9.64341810e+09,   9.61868117e+09,   9.58102223e+09,\n",
      "         9.54353099e+09,   9.49152073e+09,   9.46079707e+09,\n",
      "         9.31513519e+09,              nan,   9.32546895e+09,\n",
      "                    nan,   9.31193951e+09,   9.32275600e+09,\n",
      "         9.32291986e+09,   9.32294083e+09,              nan,\n",
      "         9.32297144e+09,   9.32509290e+09,   9.33353153e+09,\n",
      "         9.32166304e+09,   9.32172346e+09,   9.32181360e+09,\n",
      "         9.32179250e+09,   9.32185843e+09,   9.32183515e+09,\n",
      "         9.32172676e+09,   9.31978485e+09,              nan,\n",
      "         9.32199972e+09,   9.32297463e+09,   9.32296868e+09,\n",
      "         9.32296539e+09,   9.32293848e+09,              nan,\n",
      "                    nan,              nan,   9.33781562e+09,\n",
      "         9.31445294e+09,   9.31820448e+09,   9.49641135e+09,\n",
      "         9.53069018e+09,   9.57103145e+09,   9.59757364e+09,\n",
      "         9.63195492e+09,   9.66283551e+09,   9.32062614e+09,\n",
      "         9.32060119e+09,   9.32050840e+09,   9.32040866e+09,\n",
      "         9.32041433e+09,   9.32040246e+09,   9.32030754e+09,\n",
      "         9.31856469e+09,   9.32051566e+09]), 'fit_Qi': array([             nan,   4.09389151e+03,   5.76945696e+03,\n",
      "         9.34117699e+03,   2.08120690e+03,   5.10354270e+03,\n",
      "         7.10679555e+03,   1.05041902e+04,   1.07752940e+05,\n",
      "         1.41557163e+04,              nan,   9.89619839e+03,\n",
      "         1.37585338e+04,   1.18220073e+04,   6.30336874e+05,\n",
      "         1.43763354e+04,   1.39549490e+04,   5.82942929e+03,\n",
      "         1.35535311e+04,   5.83961021e+03,   8.55961468e+03,\n",
      "         1.58233058e+04,   1.11048267e+04,   2.52934304e+08,\n",
      "         6.31063805e+03,   4.73889533e+03,   1.21787697e+04,\n",
      "         5.86412608e+03,   5.76658456e+03,   5.82591549e+03,\n",
      "         5.87523094e+03,   5.84925782e+03,   5.86969395e+03,\n",
      "         8.25931855e+03,   7.76015020e+03,   6.85638247e+03,\n",
      "         8.01243178e+03,   7.26302344e+03,   8.62335181e+03,\n",
      "                    nan,   2.52723646e+03,   2.19555518e+03,\n",
      "         2.13074374e+03,              nan,   8.51429978e+03,\n",
      "         5.52444944e+03,   6.85745652e+03,   1.60736136e+13,\n",
      "         4.98228459e+03,   6.00229430e+03,   4.76770843e+03,\n",
      "         4.03419745e+03,   4.60267737e+03,   2.69668284e+03,\n",
      "         4.99544485e+03,              nan,   9.79411426e+03,\n",
      "                    nan,   4.88245041e+03,   7.12215556e+03,\n",
      "         7.04788709e+03,   7.01763382e+03,              nan,\n",
      "         6.96478218e+03,   2.86757473e+04,   2.07278254e+04,\n",
      "         6.10307716e+03,   5.95344613e+03,   5.96140035e+03,\n",
      "         6.07370728e+03,   6.00437918e+03,   5.99894984e+03,\n",
      "         6.00214543e+03,   6.61894083e+03,              nan,\n",
      "         5.60074025e+08,   6.89607093e+03,   6.95514334e+03,\n",
      "         6.93736637e+03,   7.09351172e+03,              nan,\n",
      "                    nan,              nan,   4.86404185e+03,\n",
      "         5.06281054e+03,   5.28244396e+03,   4.69639601e+03,\n",
      "         3.23481945e+03,   4.46548126e+03,   4.73581704e+03,\n",
      "         5.15547385e+03,   9.71355316e+03,   5.57543346e+03,\n",
      "         5.59703378e+03,   5.58551525e+03,   5.67367738e+03,\n",
      "         5.59511968e+03,   5.67716545e+03,   5.58366139e+03,\n",
      "         6.02812075e+03,   5.54860416e+03]), 'fit_Qc': array([            nan,   1687.90447741,   1642.71426698,   1055.8963413 ,\n",
      "         1945.69618   ,   1786.07336114,   1969.5034914 ,   2488.03044058,\n",
      "        22818.55405668,   2719.52657666,             nan,   1490.94196288,\n",
      "         2590.34566257,   2158.84954694,             nan,   2717.7953518 ,\n",
      "         2664.8399423 ,   1660.91259727,   2606.34623736,   1684.01119111,\n",
      "         1341.95665215,   3251.37725553,   2330.1386051 ,             nan,\n",
      "         1794.9810239 ,   1915.53228558,   9259.5724462 ,   1698.10361416,\n",
      "         1673.88888351,   1703.13257077,   1688.98614334,   1686.8474555 ,\n",
      "         1710.02320732,   2142.85556093,   2071.7784253 ,   1803.60222728,\n",
      "         2097.03319186,   1882.28907666,   2032.23930906,             nan,\n",
      "          929.21487368,   1003.87713038,   1125.570486  ,             nan,\n",
      "         2503.34834401,   1801.38234022,   1736.0227802 ,             nan,\n",
      "         1820.9834676 ,   2035.38439142,   1770.04610574,   1780.52594585,\n",
      "         2282.69993711,   1320.9700933 ,   1341.64758001,             nan,\n",
      "         1655.78221771,             nan,   1323.96678416,   1870.70070342,\n",
      "         1936.740569  ,   1955.05042551,             nan,   2012.82886981,\n",
      "         3720.9384964 ,   1180.24500415,   1676.07062003,   1675.01518149,\n",
      "         1682.71668216,   1716.77640465,   1700.95631406,   1688.69479914,\n",
      "         1676.94009804,   1813.61744732,             nan,             nan,\n",
      "         1985.58485028,   1986.94051276,   1967.99971094,   1895.98830009,\n",
      "                   nan,             nan,             nan,   1741.15354035,\n",
      "         1349.92211234,   1526.55648917,   2399.47100036,   1475.69244168,\n",
      "         1892.54191909,   1925.46185892,   1867.65131245,   2814.7556691 ,\n",
      "         1626.61835268,   1632.58368075,   1612.62823684,   1615.63268851,\n",
      "         1607.76625446,   1622.85528029,   1587.56895713,   1743.56112672,\n",
      "         1589.81443333]), 'fit_Ql': array([             nan,   1.19514729e+03,   1.27864953e+03,\n",
      "         9.48662599e+02,   1.00558574e+03,   1.32304929e+03,\n",
      "         1.54213282e+03,   2.01156874e+03,   1.88308046e+04,\n",
      "         2.28126179e+03,              nan,   1.29572983e+03,\n",
      "         2.17992667e+03,   1.82549148e+03,   1.01487853e+05,\n",
      "         2.28569315e+03,   2.23755582e+03,   1.29262091e+03,\n",
      "         2.18598162e+03,   1.30707919e+03,   1.16008172e+03,\n",
      "         2.69716338e+03,   1.92600314e+03,   4.94649379e+07,\n",
      "         1.39748432e+03,   1.36413040e+03,   5.26021086e+03,\n",
      "         1.31679334e+03,   1.29731285e+03,   1.31786998e+03,\n",
      "         1.31185865e+03,   1.30927121e+03,   1.32423317e+03,\n",
      "         1.70142573e+03,   1.63521445e+03,   1.42796865e+03,\n",
      "         1.66204002e+03,   1.49487616e+03,   1.64464968e+03,\n",
      "                    nan,   6.79409452e+02,   6.88893347e+02,\n",
      "         7.36508242e+02,              nan,   1.93455609e+03,\n",
      "         1.35843218e+03,   1.38531790e+03,   3.81155313e+12,\n",
      "         1.33357348e+03,   1.51996324e+03,   1.29081991e+03,\n",
      "         1.23531125e+03,   1.52591948e+03,   8.86646369e+02,\n",
      "         1.05760277e+03,              nan,   1.41633772e+03,\n",
      "                    nan,   1.04153523e+03,   1.48155614e+03,\n",
      "         1.51925370e+03,   1.52906618e+03,              nan,\n",
      "         1.56154177e+03,   3.29356814e+03,   1.11666212e+03,\n",
      "         1.31494974e+03,   1.30722465e+03,   1.31229647e+03,\n",
      "         1.33845314e+03,   1.32546943e+03,   1.31775022e+03,\n",
      "         1.31073398e+03,   1.42355691e+03,              nan,\n",
      "         6.41260087e+07,   1.54168708e+03,   1.54544022e+03,\n",
      "         1.53309082e+03,   1.49610270e+03,              nan,\n",
      "                    nan,              nan,   1.28217913e+03,\n",
      "         1.06575469e+03,   1.18430732e+03,   1.58808867e+03,\n",
      "         1.01339275e+03,   1.32920410e+03,   1.36890156e+03,\n",
      "         1.37098902e+03,   2.18235990e+03,   1.25923870e+03,\n",
      "         1.26391556e+03,   1.25134483e+03,   1.25753721e+03,\n",
      "         1.24889450e+03,   1.26208106e+03,   1.23611250e+03,\n",
      "         1.35239671e+03,   1.23574302e+03])}\n"
     ]
    },
    {
     "data": {
      "text/plain": [
       "(10.0, 1000000.0)"
      ]
     },
     "execution_count": 28,
     "metadata": {},
     "output_type": "execute_result"
    }
   ],
   "source": [
    "plt.figure('fQl')\n",
    "print(fitresults)\n",
    "plt.scatter(fitresults['fit_fr'],fitresults['fit_Ql'], marker='o', linewidth=0, label='Ql')\n",
    "plt.scatter(fitresults['fit_fr'],fitresults['fit_Qc'], marker='o', linewidth=0, label='Qc')\n",
    "plt.scatter(fitresults['fit_fr'],fitresults['fit_Qi'], marker='o', linewidth=0, label='Qi')\n",
    "plt.gca().set_yscale('log')\n",
    "plt.xlabel('f, Hz')\n",
    "plt.ylabel('Q')\n",
    "plt.legend()\n",
    "plt.ylim(1e1, 1e6)"
   ]
  },
  {
   "cell_type": "code",
   "execution_count": 29,
   "metadata": {},
   "outputs": [
    {
     "data": {
      "text/plain": [
       "[<matplotlib.lines.Line2D at 0x1d04a0da710>]"
      ]
     },
     "execution_count": 29,
     "metadata": {},
     "output_type": "execute_result"
    }
   ],
   "source": [
    "plt.pcolormesh(data['S-parameter'][1][0], \n",
    "               data['S-parameter'][1][1], \n",
    "               np.imag(data['S-parameter'][2].T-np.mean(data['S-parameter'][2], axis=1)), cmap='RdBu_r')\n",
    "plt.plot(fitresults['fp_est_xpoints'], fitresults['fp_est'])"
   ]
  },
  {
   "cell_type": "code",
   "execution_count": 46,
   "metadata": {
    "collapsed": true
   },
   "outputs": [],
   "source": [
    "plt.figure()\n",
    "plt.pcolormesh(data['S-parameter'][1][0], \n",
    "               data['S-parameter'][1][1], \n",
    "               np.abs(data['S-parameter'][2]-np.mean(data['S-parameter'][2], axis=0)).T, cmap='RdBu_r')\n",
    "plt.grid()"
   ]
  },
  {
   "cell_type": "code",
   "execution_count": 23,
   "metadata": {},
   "outputs": [
    {
     "name": "stdout",
     "output_type": "stream",
     "text": [
      "D:\\qtlab\\ReiData\\data\\2017-05-24\\20-47-06/S-parameter Hivemind spectrum res-z.pkl\n"
     ]
    },
    {
     "name": "stderr",
     "output_type": "stream",
     "text": [
      "C:\\ProgramData\\Anaconda3\\lib\\site-packages\\numpy\\core\\fromnumeric.py:2909: RuntimeWarning: Mean of empty slice.\n",
      "  out=out, **kwargs)\n",
      "C:\\ProgramData\\Anaconda3\\lib\\site-packages\\numpy\\core\\_methods.py:80: RuntimeWarning: invalid value encountered in double_scalars\n",
      "  ret = ret.dtype.type(ret / rcount)\n",
      "C:\\ProgramData\\Anaconda3\\lib\\site-packages\\scipy\\optimize\\minpack.py:427: RuntimeWarning: Number of calls to function has reached maxfev = 600.\n",
      "  warnings.warn(errors[info][0], RuntimeWarning)\n",
      "C:\\ProgramData\\Anaconda3\\lib\\site-packages\\resonator_tools-0.1-py3.6.egg\\resonator_tools\\circuit.py:132: RuntimeWarning: invalid value encountered in sqrt\n",
      "C:\\ProgramData\\Anaconda3\\lib\\site-packages\\resonator_tools-0.1-py3.6.egg\\resonator_tools\\circuit.py:137: RuntimeWarning: invalid value encountered in sqrt\n",
      "C:\\ProgramData\\Anaconda3\\lib\\site-packages\\scipy\\optimize\\minpack.py:779: OptimizeWarning: Covariance of the parameters could not be estimated\n",
      "  category=OptimizeWarning)\n",
      "D:\\qtlab_replacement\\scripts\\fitting.py:272: RuntimeWarning: invalid value encountered in greater\n",
      "  fit_Qc[fit_Qc>1e5]=np.nan\n",
      "D:\\qtlab_replacement\\scripts\\fitting.py:273: RuntimeWarning: invalid value encountered in less\n",
      "  fit_Qc[fit_Qc<0]=np.nan\n"
     ]
    }
   ],
   "source": [
    "filename = 'S-parameter Hivemind spectrum res-z'\n",
    "location = 'D:\\\\qtlab\\\\ReiData\\\\data\\\\2017-05-24\\\\20-47-06'\n",
    "data = load_pkl(filename, location=location)[1]\n",
    "\n",
    "fitresults = fitting.dc_squid_fit_S21(data, noise_sigma=3)\n",
    "L_res_z = fitresults['fitresults']['L']"
   ]
  },
  {
   "cell_type": "markdown",
   "metadata": {},
   "source": [
    "### getting resonance frequency dependence on coil current"
   ]
  },
  {
   "cell_type": "code",
   "execution_count": 50,
   "metadata": {},
   "outputs": [
    {
     "name": "stderr",
     "output_type": "stream",
     "text": [
      "D:\\qtlab_replacement\\scripts\\fitting.py:125: RuntimeWarning: invalid value encountered in sqrt\n",
      "  ft = lambda I,fp,I0,L,a,b: np.real(fp*(1+b)*(1/(1/np.sqrt((1-a)*np.abs(np.cos((I-I0)*L).astype(np.complex))+a)+b)))\n"
     ]
    },
    {
     "data": {
      "text/plain": [
       "{'I0': -0.32358758108292035,\n",
       " 'L': 2.8544584239999415,\n",
       " 'a': -0.11171427474883659,\n",
       " 'b': 4.8703036587757254,\n",
       " 'fp': 9722002636.158638}"
      ]
     },
     "execution_count": 50,
     "metadata": {},
     "output_type": "execute_result"
    }
   ],
   "source": [
    "plt.figure('S21')\n",
    "plt.pcolormesh(data['S-parameter'][1][0], data['S-parameter'][1][1], np.abs(data['S-parameter'][2].T))\n",
    "plt.plot(fitresults['fp_est_xpoints'], fitresults['fp_est'])\n",
    "#plt.plot(fitresults['fp_est_xpoints'], fitresults['fp_est'])\n",
    "plt.plot(data['S-parameter'][1][0], fitresults['evaluator'](data['S-parameter'][1][0]))\n",
    "plt.ylim([np.min(data['S-parameter'][1][1]), np.max(data['S-parameter'][1][1])])\n",
    "fitresults['fitresults']"
   ]
  },
  {
   "cell_type": "code",
   "execution_count": 30,
   "metadata": {},
   "outputs": [
    {
     "ename": "NameError",
     "evalue": "name 'L_res_z' is not defined",
     "output_type": "error",
     "traceback": [
      "\u001b[1;31m---------------------------------------------------------------------------\u001b[0m",
      "\u001b[1;31mNameError\u001b[0m                                 Traceback (most recent call last)",
      "\u001b[1;32m<ipython-input-30-24a573cbc4b4>\u001b[0m in \u001b[0;36m<module>\u001b[1;34m()\u001b[0m\n\u001b[1;32m----> 1\u001b[1;33m \u001b[0mLM\u001b[0m \u001b[1;33m=\u001b[0m \u001b[0mnp\u001b[0m\u001b[1;33m.\u001b[0m\u001b[0masarray\u001b[0m\u001b[1;33m(\u001b[0m\u001b[1;33m[\u001b[0m\u001b[1;33m[\u001b[0m\u001b[0mL_res_z\u001b[0m\u001b[1;33m,\u001b[0m \u001b[0mL_res_coil\u001b[0m\u001b[1;33m]\u001b[0m\u001b[1;33m]\u001b[0m\u001b[1;33m)\u001b[0m\u001b[1;33m\u001b[0m\u001b[0m\n\u001b[0m\u001b[0;32m      2\u001b[0m \u001b[0mres_z_compensation\u001b[0m \u001b[1;33m=\u001b[0m \u001b[1;32mlambda\u001b[0m \u001b[0mI_coil\u001b[0m\u001b[1;33m:\u001b[0m \u001b[1;33m-\u001b[0m\u001b[1;36m2\u001b[0m\u001b[1;33m*\u001b[0m\u001b[0mnp\u001b[0m\u001b[1;33m.\u001b[0m\u001b[0mpi\u001b[0m\u001b[1;33m*\u001b[0m\u001b[1;33m(\u001b[0m\u001b[1;33m(\u001b[0m\u001b[1;33m(\u001b[0m\u001b[0mI_coil\u001b[0m\u001b[1;33m*\u001b[0m\u001b[0mLM\u001b[0m\u001b[1;33m[\u001b[0m\u001b[1;36m0\u001b[0m\u001b[1;33m,\u001b[0m\u001b[1;36m1\u001b[0m\u001b[1;33m]\u001b[0m\u001b[1;33m/\u001b[0m\u001b[1;33m(\u001b[0m\u001b[1;36m2\u001b[0m\u001b[1;33m*\u001b[0m\u001b[0mnp\u001b[0m\u001b[1;33m.\u001b[0m\u001b[0mpi\u001b[0m\u001b[1;33m)\u001b[0m\u001b[1;33m+\u001b[0m\u001b[1;36m0.5\u001b[0m\u001b[1;33m)\u001b[0m\u001b[1;33m%\u001b[0m\u001b[1;36m1.\u001b[0m\u001b[1;33m)\u001b[0m\u001b[1;33m-\u001b[0m\u001b[1;36m0.5\u001b[0m\u001b[1;33m)\u001b[0m\u001b[1;33m/\u001b[0m\u001b[0mLM\u001b[0m\u001b[1;33m[\u001b[0m\u001b[1;36m0\u001b[0m\u001b[1;33m,\u001b[0m\u001b[1;36m0\u001b[0m\u001b[1;33m]\u001b[0m\u001b[1;33m*\u001b[0m\u001b[1;36m2.5\u001b[0m\u001b[1;33m\u001b[0m\u001b[0m\n\u001b[0;32m      3\u001b[0m \u001b[1;31m#res_z_compensation = lambda I_coil: np.pi*(((I_coil*LM[0,1]/(np.pi)+0.5)%1.)-0.5)/LM[0,0]\u001b[0m\u001b[1;33m\u001b[0m\u001b[1;33m\u001b[0m\u001b[0m\n\u001b[0;32m      4\u001b[0m \u001b[0moffset_coil_current\u001b[0m \u001b[1;33m=\u001b[0m \u001b[1;36m0\u001b[0m\u001b[1;33m\u001b[0m\u001b[0m\n\u001b[0;32m      5\u001b[0m \u001b[1;32mdef\u001b[0m \u001b[0mset_coil_current_compensated\u001b[0m\u001b[1;33m(\u001b[0m\u001b[0mcurrent_value\u001b[0m\u001b[1;33m)\u001b[0m\u001b[1;33m:\u001b[0m\u001b[1;33m\u001b[0m\u001b[0m\n",
      "\u001b[1;31mNameError\u001b[0m: name 'L_res_z' is not defined"
     ]
    }
   ],
   "source": [
    "LM = np.asarray([[L_res_z, L_res_coil]])\n",
    "res_z_compensation = lambda I_coil: -2*np.pi*(((I_coil*LM[0,1]/(2*np.pi)+0.5)%1.)-0.5)/LM[0,0]*2.5\n",
    "#res_z_compensation = lambda I_coil: np.pi*(((I_coil*LM[0,1]/(np.pi)+0.5)%1.)-0.5)/LM[0,0]\n",
    "offset_coil_current = 0\n",
    "def set_coil_current_compensated(current_value):\n",
    "    set_res_z_voltage(res_z_compensation(current_value))\n",
    "    current_src.set_current(current_value+offset_coil_current)\n",
    "    F = current_value*LM[0,1]/(2*np.pi)\n",
    "    Fc = res_z_compensation(current_value)*LM[0,0]/(2*np.pi)\n",
    "    #print ('coil current: {0},\\n res-z current: {1},\\n fluxoid num: {2},\\n compensation fluxoid num: {3}'.format(current_value, res_z_compensation(current_value), F, Fc))\n",
    "    \n",
    "currents = np.linspace(-0.3e-4, 0.3e-4, 31)\n",
    "pna.set_startfreq(9.66e9)\n",
    "pna.set_stopfreq(9.74e9)\n",
    "pna.set_bandwidth(30)\n",
    "pna.set_nop(41)\n",
    "pna.set_power(-65)\n",
    "sweep.sweep(pna, \\\n",
    "            (currents, set_coil_current_compensated, 'Resonator shift compensated coil current'), \\\n",
    "            filename='Hivemind spectrum res-z')"
   ]
  },
  {
   "cell_type": "code",
   "execution_count": 133,
   "metadata": {
    "collapsed": true
   },
   "outputs": [],
   "source": [
    "set_coil_current_compensated(0)"
   ]
  },
  {
   "cell_type": "code",
   "execution_count": null,
   "metadata": {
    "collapsed": true
   },
   "outputs": [],
   "source": []
  },
  {
   "cell_type": "markdown",
   "metadata": {},
   "source": [
    "# Two-tone spectroscopy at 0 resonator control current"
   ]
  },
  {
   "cell_type": "code",
   "execution_count": 10,
   "metadata": {},
   "outputs": [
    {
     "name": "stdout",
     "output_type": "stream",
     "text": [
      "Started at:  May 25 2017 18:54:05\n"
     ]
    },
    {
     "name": "stderr",
     "output_type": "stream",
     "text": [
      "c:\\python36\\lib\\site-packages\\matplotlib\\backend_bases.py:2445: MatplotlibDeprecationWarning: Using default event loop until function specific to this GUI is implemented\n",
      "  warnings.warn(str, mplDeprecation)\n"
     ]
    },
    {
     "name": "stdout",
     "output_type": "stream",
     "text": [
      "Time left: 0 h 8 m 3.37 s,\tparameter values: Qubit control 1 current: 1.5e-05,\tExcitation frequency: 7.578e+09,\taverage cycle time: 0.61s\t\t\t\ts\t"
     ]
    },
    {
     "ename": "KeyboardInterrupt",
     "evalue": "",
     "output_type": "error",
     "traceback": [
      "\u001b[1;31m---------------------------------------------------------------------------\u001b[0m",
      "\u001b[1;31mKeyboardInterrupt\u001b[0m                         Traceback (most recent call last)",
      "\u001b[1;32mc:\\python36\\lib\\site-packages\\matplotlib\\backends\\backend_qt5agg.py\u001b[0m in \u001b[0;36m__draw_idle_agg\u001b[1;34m(self, *args)\u001b[0m\n\u001b[0;32m    195\u001b[0m             \u001b[1;32mreturn\u001b[0m\u001b[1;33m\u001b[0m\u001b[0m\n\u001b[0;32m    196\u001b[0m         \u001b[1;32mtry\u001b[0m\u001b[1;33m:\u001b[0m\u001b[1;33m\u001b[0m\u001b[0m\n\u001b[1;32m--> 197\u001b[1;33m             \u001b[0mFigureCanvasAgg\u001b[0m\u001b[1;33m.\u001b[0m\u001b[0mdraw\u001b[0m\u001b[1;33m(\u001b[0m\u001b[0mself\u001b[0m\u001b[1;33m)\u001b[0m\u001b[1;33m\u001b[0m\u001b[0m\n\u001b[0m\u001b[0;32m    198\u001b[0m             \u001b[0mself\u001b[0m\u001b[1;33m.\u001b[0m\u001b[0mupdate\u001b[0m\u001b[1;33m(\u001b[0m\u001b[1;33m)\u001b[0m\u001b[1;33m\u001b[0m\u001b[0m\n\u001b[0;32m    199\u001b[0m         \u001b[1;32mexcept\u001b[0m \u001b[0mException\u001b[0m\u001b[1;33m:\u001b[0m\u001b[1;33m\u001b[0m\u001b[0m\n",
      "\u001b[1;32mc:\\python36\\lib\\site-packages\\matplotlib\\backends\\backend_agg.py\u001b[0m in \u001b[0;36mdraw\u001b[1;34m(self)\u001b[0m\n\u001b[0;32m    462\u001b[0m \u001b[1;33m\u001b[0m\u001b[0m\n\u001b[0;32m    463\u001b[0m         \u001b[1;32mtry\u001b[0m\u001b[1;33m:\u001b[0m\u001b[1;33m\u001b[0m\u001b[0m\n\u001b[1;32m--> 464\u001b[1;33m             \u001b[0mself\u001b[0m\u001b[1;33m.\u001b[0m\u001b[0mfigure\u001b[0m\u001b[1;33m.\u001b[0m\u001b[0mdraw\u001b[0m\u001b[1;33m(\u001b[0m\u001b[0mself\u001b[0m\u001b[1;33m.\u001b[0m\u001b[0mrenderer\u001b[0m\u001b[1;33m)\u001b[0m\u001b[1;33m\u001b[0m\u001b[0m\n\u001b[0m\u001b[0;32m    465\u001b[0m         \u001b[1;32mfinally\u001b[0m\u001b[1;33m:\u001b[0m\u001b[1;33m\u001b[0m\u001b[0m\n\u001b[0;32m    466\u001b[0m             \u001b[0mRendererAgg\u001b[0m\u001b[1;33m.\u001b[0m\u001b[0mlock\u001b[0m\u001b[1;33m.\u001b[0m\u001b[0mrelease\u001b[0m\u001b[1;33m(\u001b[0m\u001b[1;33m)\u001b[0m\u001b[1;33m\u001b[0m\u001b[0m\n",
      "\u001b[1;32mc:\\python36\\lib\\site-packages\\matplotlib\\artist.py\u001b[0m in \u001b[0;36mdraw_wrapper\u001b[1;34m(artist, renderer, *args, **kwargs)\u001b[0m\n\u001b[0;32m     61\u001b[0m     \u001b[1;32mdef\u001b[0m \u001b[0mdraw_wrapper\u001b[0m\u001b[1;33m(\u001b[0m\u001b[0martist\u001b[0m\u001b[1;33m,\u001b[0m \u001b[0mrenderer\u001b[0m\u001b[1;33m,\u001b[0m \u001b[1;33m*\u001b[0m\u001b[0margs\u001b[0m\u001b[1;33m,\u001b[0m \u001b[1;33m**\u001b[0m\u001b[0mkwargs\u001b[0m\u001b[1;33m)\u001b[0m\u001b[1;33m:\u001b[0m\u001b[1;33m\u001b[0m\u001b[0m\n\u001b[0;32m     62\u001b[0m         \u001b[0mbefore\u001b[0m\u001b[1;33m(\u001b[0m\u001b[0martist\u001b[0m\u001b[1;33m,\u001b[0m \u001b[0mrenderer\u001b[0m\u001b[1;33m)\u001b[0m\u001b[1;33m\u001b[0m\u001b[0m\n\u001b[1;32m---> 63\u001b[1;33m         \u001b[0mdraw\u001b[0m\u001b[1;33m(\u001b[0m\u001b[0martist\u001b[0m\u001b[1;33m,\u001b[0m \u001b[0mrenderer\u001b[0m\u001b[1;33m,\u001b[0m \u001b[1;33m*\u001b[0m\u001b[0margs\u001b[0m\u001b[1;33m,\u001b[0m \u001b[1;33m**\u001b[0m\u001b[0mkwargs\u001b[0m\u001b[1;33m)\u001b[0m\u001b[1;33m\u001b[0m\u001b[0m\n\u001b[0m\u001b[0;32m     64\u001b[0m         \u001b[0mafter\u001b[0m\u001b[1;33m(\u001b[0m\u001b[0martist\u001b[0m\u001b[1;33m,\u001b[0m \u001b[0mrenderer\u001b[0m\u001b[1;33m)\u001b[0m\u001b[1;33m\u001b[0m\u001b[0m\n\u001b[0;32m     65\u001b[0m \u001b[1;33m\u001b[0m\u001b[0m\n",
      "\u001b[1;32mc:\\python36\\lib\\site-packages\\matplotlib\\figure.py\u001b[0m in \u001b[0;36mdraw\u001b[1;34m(self, renderer)\u001b[0m\n\u001b[0;32m   1141\u001b[0m \u001b[1;33m\u001b[0m\u001b[0m\n\u001b[0;32m   1142\u001b[0m             mimage._draw_list_compositing_images(\n\u001b[1;32m-> 1143\u001b[1;33m                 renderer, self, dsu, self.suppressComposite)\n\u001b[0m\u001b[0;32m   1144\u001b[0m \u001b[1;33m\u001b[0m\u001b[0m\n\u001b[0;32m   1145\u001b[0m             \u001b[0mrenderer\u001b[0m\u001b[1;33m.\u001b[0m\u001b[0mclose_group\u001b[0m\u001b[1;33m(\u001b[0m\u001b[1;34m'figure'\u001b[0m\u001b[1;33m)\u001b[0m\u001b[1;33m\u001b[0m\u001b[0m\n",
      "\u001b[1;32mc:\\python36\\lib\\site-packages\\matplotlib\\image.py\u001b[0m in \u001b[0;36m_draw_list_compositing_images\u001b[1;34m(renderer, parent, dsu, suppress_composite)\u001b[0m\n\u001b[0;32m    137\u001b[0m     \u001b[1;32mif\u001b[0m \u001b[0mnot_composite\u001b[0m \u001b[1;32mor\u001b[0m \u001b[1;32mnot\u001b[0m \u001b[0mhas_images\u001b[0m\u001b[1;33m:\u001b[0m\u001b[1;33m\u001b[0m\u001b[0m\n\u001b[0;32m    138\u001b[0m         \u001b[1;32mfor\u001b[0m \u001b[0mzorder\u001b[0m\u001b[1;33m,\u001b[0m \u001b[0ma\u001b[0m \u001b[1;32min\u001b[0m \u001b[0mdsu\u001b[0m\u001b[1;33m:\u001b[0m\u001b[1;33m\u001b[0m\u001b[0m\n\u001b[1;32m--> 139\u001b[1;33m             \u001b[0ma\u001b[0m\u001b[1;33m.\u001b[0m\u001b[0mdraw\u001b[0m\u001b[1;33m(\u001b[0m\u001b[0mrenderer\u001b[0m\u001b[1;33m)\u001b[0m\u001b[1;33m\u001b[0m\u001b[0m\n\u001b[0m\u001b[0;32m    140\u001b[0m     \u001b[1;32melse\u001b[0m\u001b[1;33m:\u001b[0m\u001b[1;33m\u001b[0m\u001b[0m\n\u001b[0;32m    141\u001b[0m         \u001b[1;31m# Composite any adjacent images together\u001b[0m\u001b[1;33m\u001b[0m\u001b[1;33m\u001b[0m\u001b[0m\n",
      "\u001b[1;32mc:\\python36\\lib\\site-packages\\matplotlib\\artist.py\u001b[0m in \u001b[0;36mdraw_wrapper\u001b[1;34m(artist, renderer, *args, **kwargs)\u001b[0m\n\u001b[0;32m     61\u001b[0m     \u001b[1;32mdef\u001b[0m \u001b[0mdraw_wrapper\u001b[0m\u001b[1;33m(\u001b[0m\u001b[0martist\u001b[0m\u001b[1;33m,\u001b[0m \u001b[0mrenderer\u001b[0m\u001b[1;33m,\u001b[0m \u001b[1;33m*\u001b[0m\u001b[0margs\u001b[0m\u001b[1;33m,\u001b[0m \u001b[1;33m**\u001b[0m\u001b[0mkwargs\u001b[0m\u001b[1;33m)\u001b[0m\u001b[1;33m:\u001b[0m\u001b[1;33m\u001b[0m\u001b[0m\n\u001b[0;32m     62\u001b[0m         \u001b[0mbefore\u001b[0m\u001b[1;33m(\u001b[0m\u001b[0martist\u001b[0m\u001b[1;33m,\u001b[0m \u001b[0mrenderer\u001b[0m\u001b[1;33m)\u001b[0m\u001b[1;33m\u001b[0m\u001b[0m\n\u001b[1;32m---> 63\u001b[1;33m         \u001b[0mdraw\u001b[0m\u001b[1;33m(\u001b[0m\u001b[0martist\u001b[0m\u001b[1;33m,\u001b[0m \u001b[0mrenderer\u001b[0m\u001b[1;33m,\u001b[0m \u001b[1;33m*\u001b[0m\u001b[0margs\u001b[0m\u001b[1;33m,\u001b[0m \u001b[1;33m**\u001b[0m\u001b[0mkwargs\u001b[0m\u001b[1;33m)\u001b[0m\u001b[1;33m\u001b[0m\u001b[0m\n\u001b[0m\u001b[0;32m     64\u001b[0m         \u001b[0mafter\u001b[0m\u001b[1;33m(\u001b[0m\u001b[0martist\u001b[0m\u001b[1;33m,\u001b[0m \u001b[0mrenderer\u001b[0m\u001b[1;33m)\u001b[0m\u001b[1;33m\u001b[0m\u001b[0m\n\u001b[0;32m     65\u001b[0m \u001b[1;33m\u001b[0m\u001b[0m\n",
      "\u001b[1;32mc:\\python36\\lib\\site-packages\\matplotlib\\axes\\_base.py\u001b[0m in \u001b[0;36mdraw\u001b[1;34m(self, renderer, inframe)\u001b[0m\n\u001b[0;32m   2407\u001b[0m             \u001b[0mrenderer\u001b[0m\u001b[1;33m.\u001b[0m\u001b[0mstop_rasterizing\u001b[0m\u001b[1;33m(\u001b[0m\u001b[1;33m)\u001b[0m\u001b[1;33m\u001b[0m\u001b[0m\n\u001b[0;32m   2408\u001b[0m \u001b[1;33m\u001b[0m\u001b[0m\n\u001b[1;32m-> 2409\u001b[1;33m         \u001b[0mmimage\u001b[0m\u001b[1;33m.\u001b[0m\u001b[0m_draw_list_compositing_images\u001b[0m\u001b[1;33m(\u001b[0m\u001b[0mrenderer\u001b[0m\u001b[1;33m,\u001b[0m \u001b[0mself\u001b[0m\u001b[1;33m,\u001b[0m \u001b[0mdsu\u001b[0m\u001b[1;33m)\u001b[0m\u001b[1;33m\u001b[0m\u001b[0m\n\u001b[0m\u001b[0;32m   2410\u001b[0m \u001b[1;33m\u001b[0m\u001b[0m\n\u001b[0;32m   2411\u001b[0m         \u001b[0mrenderer\u001b[0m\u001b[1;33m.\u001b[0m\u001b[0mclose_group\u001b[0m\u001b[1;33m(\u001b[0m\u001b[1;34m'axes'\u001b[0m\u001b[1;33m)\u001b[0m\u001b[1;33m\u001b[0m\u001b[0m\n",
      "\u001b[1;32mc:\\python36\\lib\\site-packages\\matplotlib\\image.py\u001b[0m in \u001b[0;36m_draw_list_compositing_images\u001b[1;34m(renderer, parent, dsu, suppress_composite)\u001b[0m\n\u001b[0;32m    137\u001b[0m     \u001b[1;32mif\u001b[0m \u001b[0mnot_composite\u001b[0m \u001b[1;32mor\u001b[0m \u001b[1;32mnot\u001b[0m \u001b[0mhas_images\u001b[0m\u001b[1;33m:\u001b[0m\u001b[1;33m\u001b[0m\u001b[0m\n\u001b[0;32m    138\u001b[0m         \u001b[1;32mfor\u001b[0m \u001b[0mzorder\u001b[0m\u001b[1;33m,\u001b[0m \u001b[0ma\u001b[0m \u001b[1;32min\u001b[0m \u001b[0mdsu\u001b[0m\u001b[1;33m:\u001b[0m\u001b[1;33m\u001b[0m\u001b[0m\n\u001b[1;32m--> 139\u001b[1;33m             \u001b[0ma\u001b[0m\u001b[1;33m.\u001b[0m\u001b[0mdraw\u001b[0m\u001b[1;33m(\u001b[0m\u001b[0mrenderer\u001b[0m\u001b[1;33m)\u001b[0m\u001b[1;33m\u001b[0m\u001b[0m\n\u001b[0m\u001b[0;32m    140\u001b[0m     \u001b[1;32melse\u001b[0m\u001b[1;33m:\u001b[0m\u001b[1;33m\u001b[0m\u001b[0m\n\u001b[0;32m    141\u001b[0m         \u001b[1;31m# Composite any adjacent images together\u001b[0m\u001b[1;33m\u001b[0m\u001b[1;33m\u001b[0m\u001b[0m\n",
      "\u001b[1;32mc:\\python36\\lib\\site-packages\\matplotlib\\artist.py\u001b[0m in \u001b[0;36mdraw_wrapper\u001b[1;34m(artist, renderer, *args, **kwargs)\u001b[0m\n\u001b[0;32m     61\u001b[0m     \u001b[1;32mdef\u001b[0m \u001b[0mdraw_wrapper\u001b[0m\u001b[1;33m(\u001b[0m\u001b[0martist\u001b[0m\u001b[1;33m,\u001b[0m \u001b[0mrenderer\u001b[0m\u001b[1;33m,\u001b[0m \u001b[1;33m*\u001b[0m\u001b[0margs\u001b[0m\u001b[1;33m,\u001b[0m \u001b[1;33m**\u001b[0m\u001b[0mkwargs\u001b[0m\u001b[1;33m)\u001b[0m\u001b[1;33m:\u001b[0m\u001b[1;33m\u001b[0m\u001b[0m\n\u001b[0;32m     62\u001b[0m         \u001b[0mbefore\u001b[0m\u001b[1;33m(\u001b[0m\u001b[0martist\u001b[0m\u001b[1;33m,\u001b[0m \u001b[0mrenderer\u001b[0m\u001b[1;33m)\u001b[0m\u001b[1;33m\u001b[0m\u001b[0m\n\u001b[1;32m---> 63\u001b[1;33m         \u001b[0mdraw\u001b[0m\u001b[1;33m(\u001b[0m\u001b[0martist\u001b[0m\u001b[1;33m,\u001b[0m \u001b[0mrenderer\u001b[0m\u001b[1;33m,\u001b[0m \u001b[1;33m*\u001b[0m\u001b[0margs\u001b[0m\u001b[1;33m,\u001b[0m \u001b[1;33m**\u001b[0m\u001b[0mkwargs\u001b[0m\u001b[1;33m)\u001b[0m\u001b[1;33m\u001b[0m\u001b[0m\n\u001b[0m\u001b[0;32m     64\u001b[0m         \u001b[0mafter\u001b[0m\u001b[1;33m(\u001b[0m\u001b[0martist\u001b[0m\u001b[1;33m,\u001b[0m \u001b[0mrenderer\u001b[0m\u001b[1;33m)\u001b[0m\u001b[1;33m\u001b[0m\u001b[0m\n\u001b[0;32m     65\u001b[0m \u001b[1;33m\u001b[0m\u001b[0m\n",
      "\u001b[1;32mc:\\python36\\lib\\site-packages\\matplotlib\\axis.py\u001b[0m in \u001b[0;36mdraw\u001b[1;34m(self, renderer, *args, **kwargs)\u001b[0m\n\u001b[0;32m   1134\u001b[0m         \u001b[0mrenderer\u001b[0m\u001b[1;33m.\u001b[0m\u001b[0mopen_group\u001b[0m\u001b[1;33m(\u001b[0m\u001b[0m__name__\u001b[0m\u001b[1;33m)\u001b[0m\u001b[1;33m\u001b[0m\u001b[0m\n\u001b[0;32m   1135\u001b[0m \u001b[1;33m\u001b[0m\u001b[0m\n\u001b[1;32m-> 1136\u001b[1;33m         \u001b[0mticks_to_draw\u001b[0m \u001b[1;33m=\u001b[0m \u001b[0mself\u001b[0m\u001b[1;33m.\u001b[0m\u001b[0m_update_ticks\u001b[0m\u001b[1;33m(\u001b[0m\u001b[0mrenderer\u001b[0m\u001b[1;33m)\u001b[0m\u001b[1;33m\u001b[0m\u001b[0m\n\u001b[0m\u001b[0;32m   1137\u001b[0m         ticklabelBoxes, ticklabelBoxes2 = self._get_tick_bboxes(ticks_to_draw,\n\u001b[0;32m   1138\u001b[0m                                                                 renderer)\n",
      "\u001b[1;32mc:\\python36\\lib\\site-packages\\matplotlib\\axis.py\u001b[0m in \u001b[0;36m_update_ticks\u001b[1;34m(self, renderer)\u001b[0m\n\u001b[0;32m    967\u001b[0m \u001b[1;33m\u001b[0m\u001b[0m\n\u001b[0;32m    968\u001b[0m         \u001b[0minterval\u001b[0m \u001b[1;33m=\u001b[0m \u001b[0mself\u001b[0m\u001b[1;33m.\u001b[0m\u001b[0mget_view_interval\u001b[0m\u001b[1;33m(\u001b[0m\u001b[1;33m)\u001b[0m\u001b[1;33m\u001b[0m\u001b[0m\n\u001b[1;32m--> 969\u001b[1;33m         \u001b[0mtick_tups\u001b[0m \u001b[1;33m=\u001b[0m \u001b[1;33m[\u001b[0m\u001b[0mt\u001b[0m \u001b[1;32mfor\u001b[0m \u001b[0mt\u001b[0m \u001b[1;32min\u001b[0m \u001b[0mself\u001b[0m\u001b[1;33m.\u001b[0m\u001b[0miter_ticks\u001b[0m\u001b[1;33m(\u001b[0m\u001b[1;33m)\u001b[0m\u001b[1;33m]\u001b[0m\u001b[1;33m\u001b[0m\u001b[0m\n\u001b[0m\u001b[0;32m    970\u001b[0m         \u001b[1;32mif\u001b[0m \u001b[0mself\u001b[0m\u001b[1;33m.\u001b[0m\u001b[0m_smart_bounds\u001b[0m\u001b[1;33m:\u001b[0m\u001b[1;33m\u001b[0m\u001b[0m\n\u001b[0;32m    971\u001b[0m             \u001b[1;31m# handle inverted limits\u001b[0m\u001b[1;33m\u001b[0m\u001b[1;33m\u001b[0m\u001b[0m\n",
      "\u001b[1;32mc:\\python36\\lib\\site-packages\\matplotlib\\axis.py\u001b[0m in \u001b[0;36m<listcomp>\u001b[1;34m(.0)\u001b[0m\n\u001b[0;32m    967\u001b[0m \u001b[1;33m\u001b[0m\u001b[0m\n\u001b[0;32m    968\u001b[0m         \u001b[0minterval\u001b[0m \u001b[1;33m=\u001b[0m \u001b[0mself\u001b[0m\u001b[1;33m.\u001b[0m\u001b[0mget_view_interval\u001b[0m\u001b[1;33m(\u001b[0m\u001b[1;33m)\u001b[0m\u001b[1;33m\u001b[0m\u001b[0m\n\u001b[1;32m--> 969\u001b[1;33m         \u001b[0mtick_tups\u001b[0m \u001b[1;33m=\u001b[0m \u001b[1;33m[\u001b[0m\u001b[0mt\u001b[0m \u001b[1;32mfor\u001b[0m \u001b[0mt\u001b[0m \u001b[1;32min\u001b[0m \u001b[0mself\u001b[0m\u001b[1;33m.\u001b[0m\u001b[0miter_ticks\u001b[0m\u001b[1;33m(\u001b[0m\u001b[1;33m)\u001b[0m\u001b[1;33m]\u001b[0m\u001b[1;33m\u001b[0m\u001b[0m\n\u001b[0m\u001b[0;32m    970\u001b[0m         \u001b[1;32mif\u001b[0m \u001b[0mself\u001b[0m\u001b[1;33m.\u001b[0m\u001b[0m_smart_bounds\u001b[0m\u001b[1;33m:\u001b[0m\u001b[1;33m\u001b[0m\u001b[0m\n\u001b[0;32m    971\u001b[0m             \u001b[1;31m# handle inverted limits\u001b[0m\u001b[1;33m\u001b[0m\u001b[1;33m\u001b[0m\u001b[0m\n",
      "\u001b[1;32mc:\\python36\\lib\\site-packages\\matplotlib\\axis.py\u001b[0m in \u001b[0;36miter_ticks\u001b[1;34m(self)\u001b[0m\n\u001b[0;32m    910\u001b[0m         \u001b[0mIterate\u001b[0m \u001b[0mthrough\u001b[0m \u001b[0mall\u001b[0m \u001b[0mof\u001b[0m \u001b[0mthe\u001b[0m \u001b[0mmajor\u001b[0m \u001b[1;32mand\u001b[0m \u001b[0mminor\u001b[0m \u001b[0mticks\u001b[0m\u001b[1;33m.\u001b[0m\u001b[1;33m\u001b[0m\u001b[0m\n\u001b[0;32m    911\u001b[0m         \"\"\"\n\u001b[1;32m--> 912\u001b[1;33m         \u001b[0mmajorLocs\u001b[0m \u001b[1;33m=\u001b[0m \u001b[0mself\u001b[0m\u001b[1;33m.\u001b[0m\u001b[0mmajor\u001b[0m\u001b[1;33m.\u001b[0m\u001b[0mlocator\u001b[0m\u001b[1;33m(\u001b[0m\u001b[1;33m)\u001b[0m\u001b[1;33m\u001b[0m\u001b[0m\n\u001b[0m\u001b[0;32m    913\u001b[0m         \u001b[0mmajorTicks\u001b[0m \u001b[1;33m=\u001b[0m \u001b[0mself\u001b[0m\u001b[1;33m.\u001b[0m\u001b[0mget_major_ticks\u001b[0m\u001b[1;33m(\u001b[0m\u001b[0mlen\u001b[0m\u001b[1;33m(\u001b[0m\u001b[0mmajorLocs\u001b[0m\u001b[1;33m)\u001b[0m\u001b[1;33m)\u001b[0m\u001b[1;33m\u001b[0m\u001b[0m\n\u001b[0;32m    914\u001b[0m         \u001b[0mself\u001b[0m\u001b[1;33m.\u001b[0m\u001b[0mmajor\u001b[0m\u001b[1;33m.\u001b[0m\u001b[0mformatter\u001b[0m\u001b[1;33m.\u001b[0m\u001b[0mset_locs\u001b[0m\u001b[1;33m(\u001b[0m\u001b[0mmajorLocs\u001b[0m\u001b[1;33m)\u001b[0m\u001b[1;33m\u001b[0m\u001b[0m\n",
      "\u001b[1;32mc:\\python36\\lib\\site-packages\\matplotlib\\ticker.py\u001b[0m in \u001b[0;36m__call__\u001b[1;34m(self)\u001b[0m\n\u001b[0;32m   1792\u001b[0m     \u001b[1;32mdef\u001b[0m \u001b[0m__call__\u001b[0m\u001b[1;33m(\u001b[0m\u001b[0mself\u001b[0m\u001b[1;33m)\u001b[0m\u001b[1;33m:\u001b[0m\u001b[1;33m\u001b[0m\u001b[0m\n\u001b[0;32m   1793\u001b[0m         \u001b[0mvmin\u001b[0m\u001b[1;33m,\u001b[0m \u001b[0mvmax\u001b[0m \u001b[1;33m=\u001b[0m \u001b[0mself\u001b[0m\u001b[1;33m.\u001b[0m\u001b[0maxis\u001b[0m\u001b[1;33m.\u001b[0m\u001b[0mget_view_interval\u001b[0m\u001b[1;33m(\u001b[0m\u001b[1;33m)\u001b[0m\u001b[1;33m\u001b[0m\u001b[0m\n\u001b[1;32m-> 1794\u001b[1;33m         \u001b[1;32mreturn\u001b[0m \u001b[0mself\u001b[0m\u001b[1;33m.\u001b[0m\u001b[0mtick_values\u001b[0m\u001b[1;33m(\u001b[0m\u001b[0mvmin\u001b[0m\u001b[1;33m,\u001b[0m \u001b[0mvmax\u001b[0m\u001b[1;33m)\u001b[0m\u001b[1;33m\u001b[0m\u001b[0m\n\u001b[0m\u001b[0;32m   1795\u001b[0m \u001b[1;33m\u001b[0m\u001b[0m\n\u001b[0;32m   1796\u001b[0m     \u001b[1;32mdef\u001b[0m \u001b[0mtick_values\u001b[0m\u001b[1;33m(\u001b[0m\u001b[0mself\u001b[0m\u001b[1;33m,\u001b[0m \u001b[0mvmin\u001b[0m\u001b[1;33m,\u001b[0m \u001b[0mvmax\u001b[0m\u001b[1;33m)\u001b[0m\u001b[1;33m:\u001b[0m\u001b[1;33m\u001b[0m\u001b[0m\n",
      "\u001b[1;32mc:\\python36\\lib\\site-packages\\matplotlib\\ticker.py\u001b[0m in \u001b[0;36mtick_values\u001b[1;34m(self, vmin, vmax)\u001b[0m\n\u001b[0;32m   1800\u001b[0m         vmin, vmax = mtransforms.nonsingular(\n\u001b[0;32m   1801\u001b[0m             vmin, vmax, expander=1e-13, tiny=1e-14)\n\u001b[1;32m-> 1802\u001b[1;33m         \u001b[0mlocs\u001b[0m \u001b[1;33m=\u001b[0m \u001b[0mself\u001b[0m\u001b[1;33m.\u001b[0m\u001b[0m_raw_ticks\u001b[0m\u001b[1;33m(\u001b[0m\u001b[0mvmin\u001b[0m\u001b[1;33m,\u001b[0m \u001b[0mvmax\u001b[0m\u001b[1;33m)\u001b[0m\u001b[1;33m\u001b[0m\u001b[0m\n\u001b[0m\u001b[0;32m   1803\u001b[0m \u001b[1;33m\u001b[0m\u001b[0m\n\u001b[0;32m   1804\u001b[0m         \u001b[0mprune\u001b[0m \u001b[1;33m=\u001b[0m \u001b[0mself\u001b[0m\u001b[1;33m.\u001b[0m\u001b[0m_prune\u001b[0m\u001b[1;33m\u001b[0m\u001b[0m\n",
      "\u001b[1;32mc:\\python36\\lib\\site-packages\\matplotlib\\ticker.py\u001b[0m in \u001b[0;36m_raw_ticks\u001b[1;34m(self, vmin, vmax)\u001b[0m\n\u001b[0;32m   1742\u001b[0m         \u001b[1;32mif\u001b[0m \u001b[0mself\u001b[0m\u001b[1;33m.\u001b[0m\u001b[0m_nbins\u001b[0m \u001b[1;33m==\u001b[0m \u001b[1;34m'auto'\u001b[0m\u001b[1;33m:\u001b[0m\u001b[1;33m\u001b[0m\u001b[0m\n\u001b[0;32m   1743\u001b[0m             \u001b[1;32mif\u001b[0m \u001b[0mself\u001b[0m\u001b[1;33m.\u001b[0m\u001b[0maxis\u001b[0m \u001b[1;32mis\u001b[0m \u001b[1;32mnot\u001b[0m \u001b[1;32mNone\u001b[0m\u001b[1;33m:\u001b[0m\u001b[1;33m\u001b[0m\u001b[0m\n\u001b[1;32m-> 1744\u001b[1;33m                 nbins = max(min(self.axis.get_tick_space(), 9),\n\u001b[0m\u001b[0;32m   1745\u001b[0m                             max(1, self._min_n_ticks - 1))\n\u001b[0;32m   1746\u001b[0m             \u001b[1;32melse\u001b[0m\u001b[1;33m:\u001b[0m\u001b[1;33m\u001b[0m\u001b[0m\n",
      "\u001b[1;32mc:\\python36\\lib\\site-packages\\matplotlib\\axis.py\u001b[0m in \u001b[0;36mget_tick_space\u001b[1;34m(self)\u001b[0m\n\u001b[0;32m   2018\u001b[0m         \u001b[0mends\u001b[0m \u001b[1;33m=\u001b[0m \u001b[0mself\u001b[0m\u001b[1;33m.\u001b[0m\u001b[0maxes\u001b[0m\u001b[1;33m.\u001b[0m\u001b[0mtransAxes\u001b[0m\u001b[1;33m.\u001b[0m\u001b[0mtransform\u001b[0m\u001b[1;33m(\u001b[0m\u001b[1;33m[\u001b[0m\u001b[1;33m[\u001b[0m\u001b[1;36m0\u001b[0m\u001b[1;33m,\u001b[0m \u001b[1;36m0\u001b[0m\u001b[1;33m]\u001b[0m\u001b[1;33m,\u001b[0m \u001b[1;33m[\u001b[0m\u001b[1;36m1\u001b[0m\u001b[1;33m,\u001b[0m \u001b[1;36m0\u001b[0m\u001b[1;33m]\u001b[0m\u001b[1;33m]\u001b[0m\u001b[1;33m)\u001b[0m\u001b[1;33m\u001b[0m\u001b[0m\n\u001b[0;32m   2019\u001b[0m         \u001b[0mlength\u001b[0m \u001b[1;33m=\u001b[0m \u001b[1;33m(\u001b[0m\u001b[1;33m(\u001b[0m\u001b[0mends\u001b[0m\u001b[1;33m[\u001b[0m\u001b[1;36m1\u001b[0m\u001b[1;33m]\u001b[0m\u001b[1;33m[\u001b[0m\u001b[1;36m0\u001b[0m\u001b[1;33m]\u001b[0m \u001b[1;33m-\u001b[0m \u001b[0mends\u001b[0m\u001b[1;33m[\u001b[0m\u001b[1;36m0\u001b[0m\u001b[1;33m]\u001b[0m\u001b[1;33m[\u001b[0m\u001b[1;36m0\u001b[0m\u001b[1;33m]\u001b[0m\u001b[1;33m)\u001b[0m \u001b[1;33m/\u001b[0m \u001b[0mself\u001b[0m\u001b[1;33m.\u001b[0m\u001b[0maxes\u001b[0m\u001b[1;33m.\u001b[0m\u001b[0mfigure\u001b[0m\u001b[1;33m.\u001b[0m\u001b[0mdpi\u001b[0m\u001b[1;33m)\u001b[0m \u001b[1;33m*\u001b[0m \u001b[1;36m72.0\u001b[0m\u001b[1;33m\u001b[0m\u001b[0m\n\u001b[1;32m-> 2020\u001b[1;33m         \u001b[0mtick\u001b[0m \u001b[1;33m=\u001b[0m \u001b[0mself\u001b[0m\u001b[1;33m.\u001b[0m\u001b[0m_get_tick\u001b[0m\u001b[1;33m(\u001b[0m\u001b[1;32mTrue\u001b[0m\u001b[1;33m)\u001b[0m\u001b[1;33m\u001b[0m\u001b[0m\n\u001b[0m\u001b[0;32m   2021\u001b[0m         \u001b[1;31m# There is a heuristic here that the aspect ratio of tick text\u001b[0m\u001b[1;33m\u001b[0m\u001b[1;33m\u001b[0m\u001b[0m\n\u001b[0;32m   2022\u001b[0m         \u001b[1;31m# is no more than 3:1\u001b[0m\u001b[1;33m\u001b[0m\u001b[1;33m\u001b[0m\u001b[0m\n",
      "\u001b[1;32mc:\\python36\\lib\\site-packages\\matplotlib\\axis.py\u001b[0m in \u001b[0;36m_get_tick\u001b[1;34m(self, major)\u001b[0m\n\u001b[0;32m   1727\u001b[0m         \u001b[1;32melse\u001b[0m\u001b[1;33m:\u001b[0m\u001b[1;33m\u001b[0m\u001b[0m\n\u001b[0;32m   1728\u001b[0m             \u001b[0mtick_kw\u001b[0m \u001b[1;33m=\u001b[0m \u001b[0mself\u001b[0m\u001b[1;33m.\u001b[0m\u001b[0m_minor_tick_kw\u001b[0m\u001b[1;33m\u001b[0m\u001b[0m\n\u001b[1;32m-> 1729\u001b[1;33m         \u001b[1;32mreturn\u001b[0m \u001b[0mXTick\u001b[0m\u001b[1;33m(\u001b[0m\u001b[0mself\u001b[0m\u001b[1;33m.\u001b[0m\u001b[0maxes\u001b[0m\u001b[1;33m,\u001b[0m \u001b[1;36m0\u001b[0m\u001b[1;33m,\u001b[0m \u001b[1;34m''\u001b[0m\u001b[1;33m,\u001b[0m \u001b[0mmajor\u001b[0m\u001b[1;33m=\u001b[0m\u001b[0mmajor\u001b[0m\u001b[1;33m,\u001b[0m \u001b[1;33m**\u001b[0m\u001b[0mtick_kw\u001b[0m\u001b[1;33m)\u001b[0m\u001b[1;33m\u001b[0m\u001b[0m\n\u001b[0m\u001b[0;32m   1730\u001b[0m \u001b[1;33m\u001b[0m\u001b[0m\n\u001b[0;32m   1731\u001b[0m     \u001b[1;32mdef\u001b[0m \u001b[0m_get_label\u001b[0m\u001b[1;33m(\u001b[0m\u001b[0mself\u001b[0m\u001b[1;33m)\u001b[0m\u001b[1;33m:\u001b[0m\u001b[1;33m\u001b[0m\u001b[0m\n",
      "\u001b[1;32mc:\\python36\\lib\\site-packages\\matplotlib\\axis.py\u001b[0m in \u001b[0;36m__init__\u001b[1;34m(self, axes, loc, label, size, width, color, tickdir, pad, labelsize, labelcolor, zorder, gridOn, tick1On, tick2On, label1On, label2On, major)\u001b[0m\n\u001b[0;32m    148\u001b[0m         \u001b[0mself\u001b[0m\u001b[1;33m.\u001b[0m\u001b[0mapply_tickdir\u001b[0m\u001b[1;33m(\u001b[0m\u001b[0mtickdir\u001b[0m\u001b[1;33m)\u001b[0m\u001b[1;33m\u001b[0m\u001b[0m\n\u001b[0;32m    149\u001b[0m \u001b[1;33m\u001b[0m\u001b[0m\n\u001b[1;32m--> 150\u001b[1;33m         \u001b[0mself\u001b[0m\u001b[1;33m.\u001b[0m\u001b[0mtick1line\u001b[0m \u001b[1;33m=\u001b[0m \u001b[0mself\u001b[0m\u001b[1;33m.\u001b[0m\u001b[0m_get_tick1line\u001b[0m\u001b[1;33m(\u001b[0m\u001b[1;33m)\u001b[0m\u001b[1;33m\u001b[0m\u001b[0m\n\u001b[0m\u001b[0;32m    151\u001b[0m         \u001b[0mself\u001b[0m\u001b[1;33m.\u001b[0m\u001b[0mtick2line\u001b[0m \u001b[1;33m=\u001b[0m \u001b[0mself\u001b[0m\u001b[1;33m.\u001b[0m\u001b[0m_get_tick2line\u001b[0m\u001b[1;33m(\u001b[0m\u001b[1;33m)\u001b[0m\u001b[1;33m\u001b[0m\u001b[0m\n\u001b[0;32m    152\u001b[0m         \u001b[0mself\u001b[0m\u001b[1;33m.\u001b[0m\u001b[0mgridline\u001b[0m \u001b[1;33m=\u001b[0m \u001b[0mself\u001b[0m\u001b[1;33m.\u001b[0m\u001b[0m_get_gridline\u001b[0m\u001b[1;33m(\u001b[0m\u001b[1;33m)\u001b[0m\u001b[1;33m\u001b[0m\u001b[0m\n",
      "\u001b[1;32mc:\\python36\\lib\\site-packages\\matplotlib\\axis.py\u001b[0m in \u001b[0;36m_get_tick1line\u001b[1;34m(self)\u001b[0m\n\u001b[0;32m    418\u001b[0m                           \u001b[0mlinestyle\u001b[0m\u001b[1;33m=\u001b[0m\u001b[1;34m'None'\u001b[0m\u001b[1;33m,\u001b[0m \u001b[0mmarker\u001b[0m\u001b[1;33m=\u001b[0m\u001b[0mself\u001b[0m\u001b[1;33m.\u001b[0m\u001b[0m_tickmarkers\u001b[0m\u001b[1;33m[\u001b[0m\u001b[1;36m0\u001b[0m\u001b[1;33m]\u001b[0m\u001b[1;33m,\u001b[0m\u001b[1;33m\u001b[0m\u001b[0m\n\u001b[0;32m    419\u001b[0m                           \u001b[0mmarkersize\u001b[0m\u001b[1;33m=\u001b[0m\u001b[0mself\u001b[0m\u001b[1;33m.\u001b[0m\u001b[0m_size\u001b[0m\u001b[1;33m,\u001b[0m\u001b[1;33m\u001b[0m\u001b[0m\n\u001b[1;32m--> 420\u001b[1;33m                           markeredgewidth=self._width, zorder=self._zorder)\n\u001b[0m\u001b[0;32m    421\u001b[0m         \u001b[0ml\u001b[0m\u001b[1;33m.\u001b[0m\u001b[0mset_transform\u001b[0m\u001b[1;33m(\u001b[0m\u001b[0mself\u001b[0m\u001b[1;33m.\u001b[0m\u001b[0maxes\u001b[0m\u001b[1;33m.\u001b[0m\u001b[0mget_xaxis_transform\u001b[0m\u001b[1;33m(\u001b[0m\u001b[0mwhich\u001b[0m\u001b[1;33m=\u001b[0m\u001b[1;34m'tick1'\u001b[0m\u001b[1;33m)\u001b[0m\u001b[1;33m)\u001b[0m\u001b[1;33m\u001b[0m\u001b[0m\n\u001b[0;32m    422\u001b[0m         \u001b[0mself\u001b[0m\u001b[1;33m.\u001b[0m\u001b[0m_set_artist_props\u001b[0m\u001b[1;33m(\u001b[0m\u001b[0ml\u001b[0m\u001b[1;33m)\u001b[0m\u001b[1;33m\u001b[0m\u001b[0m\n",
      "\u001b[1;32mc:\\python36\\lib\\site-packages\\matplotlib\\lines.py\u001b[0m in \u001b[0;36m__init__\u001b[1;34m(self, xdata, ydata, linewidth, linestyle, color, marker, markersize, markeredgewidth, markeredgecolor, markerfacecolor, markerfacecoloralt, fillstyle, antialiased, dash_capstyle, solid_capstyle, dash_joinstyle, solid_joinstyle, pickradius, drawstyle, markevery, **kwargs)\u001b[0m\n\u001b[0;32m    403\u001b[0m         \u001b[0mself\u001b[0m\u001b[1;33m.\u001b[0m\u001b[0mset_color\u001b[0m\u001b[1;33m(\u001b[0m\u001b[0mcolor\u001b[0m\u001b[1;33m)\u001b[0m\u001b[1;33m\u001b[0m\u001b[0m\n\u001b[0;32m    404\u001b[0m         \u001b[0mself\u001b[0m\u001b[1;33m.\u001b[0m\u001b[0m_marker\u001b[0m \u001b[1;33m=\u001b[0m \u001b[0mMarkerStyle\u001b[0m\u001b[1;33m(\u001b[0m\u001b[1;33m)\u001b[0m\u001b[1;33m\u001b[0m\u001b[0m\n\u001b[1;32m--> 405\u001b[1;33m         \u001b[0mself\u001b[0m\u001b[1;33m.\u001b[0m\u001b[0mset_marker\u001b[0m\u001b[1;33m(\u001b[0m\u001b[0mmarker\u001b[0m\u001b[1;33m)\u001b[0m\u001b[1;33m\u001b[0m\u001b[0m\n\u001b[0m\u001b[0;32m    406\u001b[0m \u001b[1;33m\u001b[0m\u001b[0m\n\u001b[0;32m    407\u001b[0m         \u001b[0mself\u001b[0m\u001b[1;33m.\u001b[0m\u001b[0m_markevery\u001b[0m \u001b[1;33m=\u001b[0m \u001b[1;32mNone\u001b[0m\u001b[1;33m\u001b[0m\u001b[0m\n",
      "\u001b[1;32mc:\\python36\\lib\\site-packages\\matplotlib\\lines.py\u001b[0m in \u001b[0;36mset_marker\u001b[1;34m(self, marker)\u001b[0m\n\u001b[0;32m   1169\u001b[0m \u001b[1;33m\u001b[0m\u001b[0m\n\u001b[0;32m   1170\u001b[0m         \"\"\"\n\u001b[1;32m-> 1171\u001b[1;33m         \u001b[0mself\u001b[0m\u001b[1;33m.\u001b[0m\u001b[0m_marker\u001b[0m\u001b[1;33m.\u001b[0m\u001b[0mset_marker\u001b[0m\u001b[1;33m(\u001b[0m\u001b[0mmarker\u001b[0m\u001b[1;33m)\u001b[0m\u001b[1;33m\u001b[0m\u001b[0m\n\u001b[0m\u001b[0;32m   1172\u001b[0m         \u001b[0mself\u001b[0m\u001b[1;33m.\u001b[0m\u001b[0mstale\u001b[0m \u001b[1;33m=\u001b[0m \u001b[1;32mTrue\u001b[0m\u001b[1;33m\u001b[0m\u001b[0m\n\u001b[0;32m   1173\u001b[0m \u001b[1;33m\u001b[0m\u001b[0m\n",
      "\u001b[1;32mc:\\python36\\lib\\site-packages\\matplotlib\\markers.py\u001b[0m in \u001b[0;36mset_marker\u001b[1;34m(self, marker)\u001b[0m\n\u001b[0;32m    268\u001b[0m \u001b[1;33m\u001b[0m\u001b[0m\n\u001b[0;32m    269\u001b[0m         \u001b[0mself\u001b[0m\u001b[1;33m.\u001b[0m\u001b[0m_marker\u001b[0m \u001b[1;33m=\u001b[0m \u001b[0mmarker\u001b[0m\u001b[1;33m\u001b[0m\u001b[0m\n\u001b[1;32m--> 270\u001b[1;33m         \u001b[0mself\u001b[0m\u001b[1;33m.\u001b[0m\u001b[0m_recache\u001b[0m\u001b[1;33m(\u001b[0m\u001b[1;33m)\u001b[0m\u001b[1;33m\u001b[0m\u001b[0m\n\u001b[0m\u001b[0;32m    271\u001b[0m \u001b[1;33m\u001b[0m\u001b[0m\n\u001b[0;32m    272\u001b[0m     \u001b[1;32mdef\u001b[0m \u001b[0mget_path\u001b[0m\u001b[1;33m(\u001b[0m\u001b[0mself\u001b[0m\u001b[1;33m)\u001b[0m\u001b[1;33m:\u001b[0m\u001b[1;33m\u001b[0m\u001b[0m\n",
      "\u001b[1;32mc:\\python36\\lib\\site-packages\\matplotlib\\markers.py\u001b[0m in \u001b[0;36m_recache\u001b[1;34m(self)\u001b[0m\n\u001b[0;32m    206\u001b[0m         \u001b[0mself\u001b[0m\u001b[1;33m.\u001b[0m\u001b[0m_capstyle\u001b[0m \u001b[1;33m=\u001b[0m \u001b[1;34m'butt'\u001b[0m\u001b[1;33m\u001b[0m\u001b[0m\n\u001b[0;32m    207\u001b[0m         \u001b[0mself\u001b[0m\u001b[1;33m.\u001b[0m\u001b[0m_filled\u001b[0m \u001b[1;33m=\u001b[0m \u001b[1;32mTrue\u001b[0m\u001b[1;33m\u001b[0m\u001b[0m\n\u001b[1;32m--> 208\u001b[1;33m         \u001b[0mself\u001b[0m\u001b[1;33m.\u001b[0m\u001b[0m_marker_function\u001b[0m\u001b[1;33m(\u001b[0m\u001b[1;33m)\u001b[0m\u001b[1;33m\u001b[0m\u001b[0m\n\u001b[0m\u001b[0;32m    209\u001b[0m \u001b[1;33m\u001b[0m\u001b[0m\n\u001b[0;32m    210\u001b[0m     \u001b[1;32mif\u001b[0m \u001b[0msix\u001b[0m\u001b[1;33m.\u001b[0m\u001b[0mPY3\u001b[0m\u001b[1;33m:\u001b[0m\u001b[1;33m\u001b[0m\u001b[0m\n",
      "\u001b[1;32mc:\\python36\\lib\\site-packages\\matplotlib\\markers.py\u001b[0m in \u001b[0;36m_set_tickdown\u001b[1;34m(self)\u001b[0m\n\u001b[0;32m    718\u001b[0m \u001b[1;33m\u001b[0m\u001b[0m\n\u001b[0;32m    719\u001b[0m     \u001b[1;32mdef\u001b[0m \u001b[0m_set_tickdown\u001b[0m\u001b[1;33m(\u001b[0m\u001b[0mself\u001b[0m\u001b[1;33m)\u001b[0m\u001b[1;33m:\u001b[0m\u001b[1;33m\u001b[0m\u001b[0m\n\u001b[1;32m--> 720\u001b[1;33m         \u001b[0mself\u001b[0m\u001b[1;33m.\u001b[0m\u001b[0m_transform\u001b[0m \u001b[1;33m=\u001b[0m \u001b[0mAffine2D\u001b[0m\u001b[1;33m(\u001b[0m\u001b[1;33m)\u001b[0m\u001b[1;33m.\u001b[0m\u001b[0mscale\u001b[0m\u001b[1;33m(\u001b[0m\u001b[1;36m1.0\u001b[0m\u001b[1;33m,\u001b[0m \u001b[1;33m-\u001b[0m\u001b[1;36m1.0\u001b[0m\u001b[1;33m)\u001b[0m\u001b[1;33m\u001b[0m\u001b[0m\n\u001b[0m\u001b[0;32m    721\u001b[0m         \u001b[0mself\u001b[0m\u001b[1;33m.\u001b[0m\u001b[0m_snap_threshold\u001b[0m \u001b[1;33m=\u001b[0m \u001b[1;36m1.0\u001b[0m\u001b[1;33m\u001b[0m\u001b[0m\n\u001b[0;32m    722\u001b[0m         \u001b[0mself\u001b[0m\u001b[1;33m.\u001b[0m\u001b[0m_filled\u001b[0m \u001b[1;33m=\u001b[0m \u001b[1;32mFalse\u001b[0m\u001b[1;33m\u001b[0m\u001b[0m\n",
      "\u001b[1;32mc:\\python36\\lib\\site-packages\\matplotlib\\transforms.py\u001b[0m in \u001b[0;36mscale\u001b[1;34m(self, sx, sy)\u001b[0m\n\u001b[0;32m   1986\u001b[0m             \u001b[1;33m[\u001b[0m\u001b[1;33m[\u001b[0m\u001b[0msx\u001b[0m\u001b[1;33m,\u001b[0m \u001b[1;36m0.0\u001b[0m\u001b[1;33m,\u001b[0m \u001b[1;36m0.0\u001b[0m\u001b[1;33m]\u001b[0m\u001b[1;33m,\u001b[0m \u001b[1;33m[\u001b[0m\u001b[1;36m0.0\u001b[0m\u001b[1;33m,\u001b[0m \u001b[0msy\u001b[0m\u001b[1;33m,\u001b[0m \u001b[1;36m0.0\u001b[0m\u001b[1;33m]\u001b[0m\u001b[1;33m,\u001b[0m \u001b[1;33m[\u001b[0m\u001b[1;36m0.0\u001b[0m\u001b[1;33m,\u001b[0m \u001b[1;36m0.0\u001b[0m\u001b[1;33m,\u001b[0m \u001b[1;36m1.0\u001b[0m\u001b[1;33m]\u001b[0m\u001b[1;33m]\u001b[0m\u001b[1;33m,\u001b[0m\u001b[1;33m\u001b[0m\u001b[0m\n\u001b[0;32m   1987\u001b[0m             np.float_)\n\u001b[1;32m-> 1988\u001b[1;33m         \u001b[0mself\u001b[0m\u001b[1;33m.\u001b[0m\u001b[0m_mtx\u001b[0m \u001b[1;33m=\u001b[0m \u001b[0mnp\u001b[0m\u001b[1;33m.\u001b[0m\u001b[0mdot\u001b[0m\u001b[1;33m(\u001b[0m\u001b[0mscale_mtx\u001b[0m\u001b[1;33m,\u001b[0m \u001b[0mself\u001b[0m\u001b[1;33m.\u001b[0m\u001b[0m_mtx\u001b[0m\u001b[1;33m)\u001b[0m\u001b[1;33m\u001b[0m\u001b[0m\n\u001b[0m\u001b[0;32m   1989\u001b[0m         \u001b[0mself\u001b[0m\u001b[1;33m.\u001b[0m\u001b[0minvalidate\u001b[0m\u001b[1;33m(\u001b[0m\u001b[1;33m)\u001b[0m\u001b[1;33m\u001b[0m\u001b[0m\n\u001b[0;32m   1990\u001b[0m         \u001b[1;32mreturn\u001b[0m \u001b[0mself\u001b[0m\u001b[1;33m\u001b[0m\u001b[0m\n",
      "\u001b[1;31mKeyboardInterrupt\u001b[0m: "
     ]
    },
    {
     "name": "stdout",
     "output_type": "stream",
     "text": [
      "Time left: 0 h 7 m 15.08 s,\tparameter values: Qubit control 1 current: 1.7e-05,\tExcitation frequency: 7.558e+09,\taverage cycle time: 0.62s\t"
     ]
    },
    {
     "ename": "KeyboardInterrupt",
     "evalue": "",
     "output_type": "error",
     "traceback": [
      "\u001b[1;31m---------------------------------------------------------------------------\u001b[0m",
      "\u001b[1;31mKeyboardInterrupt\u001b[0m                         Traceback (most recent call last)",
      "\u001b[1;32m<ipython-input-10-3ca09825ace9>\u001b[0m in \u001b[0;36m<module>\u001b[1;34m()\u001b[0m\n\u001b[0;32m      9\u001b[0m \u001b[0mex_freqs\u001b[0m \u001b[1;33m=\u001b[0m \u001b[0mnp\u001b[0m\u001b[1;33m.\u001b[0m\u001b[0mlinspace\u001b[0m\u001b[1;33m(\u001b[0m\u001b[1;36m7.55e9\u001b[0m\u001b[1;33m,\u001b[0m \u001b[1;36m7.6e9\u001b[0m\u001b[1;33m,\u001b[0m \u001b[1;36m51\u001b[0m\u001b[1;33m)\u001b[0m\u001b[1;33m\u001b[0m\u001b[0m\n\u001b[0;32m     10\u001b[0m \u001b[0mcurrents\u001b[0m \u001b[1;33m=\u001b[0m \u001b[0mnp\u001b[0m\u001b[1;33m.\u001b[0m\u001b[0mlinspace\u001b[0m\u001b[1;33m(\u001b[0m\u001b[1;33m-\u001b[0m\u001b[1;36m3e-5\u001b[0m\u001b[1;33m,\u001b[0m \u001b[1;36m3e-5\u001b[0m\u001b[1;33m,\u001b[0m \u001b[1;36m61\u001b[0m\u001b[1;33m)\u001b[0m\u001b[1;33m\u001b[0m\u001b[0m\n\u001b[1;32m---> 11\u001b[1;33m \u001b[0msweep\u001b[0m\u001b[1;33m.\u001b[0m\u001b[0msweep\u001b[0m\u001b[1;33m(\u001b[0m\u001b[0mpna\u001b[0m\u001b[1;33m,\u001b[0m \u001b[1;33m(\u001b[0m\u001b[0mcurrents\u001b[0m\u001b[1;33m,\u001b[0m \u001b[0mset_coil_current_compensated\u001b[0m\u001b[1;33m,\u001b[0m \u001b[1;34m'Qubit control 1 current'\u001b[0m\u001b[1;33m)\u001b[0m\u001b[1;33m,\u001b[0m                 \u001b[1;33m(\u001b[0m\u001b[0mex_freqs\u001b[0m\u001b[1;33m,\u001b[0m \u001b[0mlo1\u001b[0m\u001b[1;33m.\u001b[0m\u001b[0mset_frequency\u001b[0m\u001b[1;33m,\u001b[0m \u001b[1;34m'Excitation frequency'\u001b[0m\u001b[1;33m)\u001b[0m\u001b[1;33m,\u001b[0m                \u001b[0mfilename\u001b[0m\u001b[1;33m=\u001b[0m\u001b[1;34m'Hivemind 2T spectrum Q1'\u001b[0m\u001b[1;33m)\u001b[0m\u001b[1;33m\u001b[0m\u001b[0m\n\u001b[0m",
      "\u001b[1;32mD:\\qtlab_replacement\\scripts\\sweep.py\u001b[0m in \u001b[0;36msweep\u001b[1;34m(measurer, filename, root_dir, plot, header, output, *params)\u001b[0m\n\u001b[0;32m    126\u001b[0m                         \u001b[1;32mif\u001b[0m \u001b[0mplot\u001b[0m\u001b[1;33m:\u001b[0m\u001b[1;33m\u001b[0m\u001b[0m\n\u001b[0;32m    127\u001b[0m                                 \u001b[1;32mif\u001b[0m \u001b[0mplot_update_start\u001b[0m \u001b[1;33m-\u001b[0m \u001b[0mlast_plot_update\u001b[0m \u001b[1;33m>\u001b[0m \u001b[1;36m10\u001b[0m\u001b[1;33m*\u001b[0m\u001b[0mplot_update_time\u001b[0m\u001b[1;33m:\u001b[0m\u001b[1;33m\u001b[0m\u001b[0m\n\u001b[1;32m--> 128\u001b[1;33m                                         \u001b[0mplotting\u001b[0m\u001b[1;33m.\u001b[0m\u001b[0mupdate_plot_measurement\u001b[0m\u001b[1;33m(\u001b[0m\u001b[0mmk_measurement\u001b[0m\u001b[1;33m(\u001b[0m\u001b[1;36m0\u001b[0m\u001b[1;33m)\u001b[0m\u001b[1;33m,\u001b[0m \u001b[0mplot_axes\u001b[0m\u001b[1;33m)\u001b[0m\u001b[1;33m\u001b[0m\u001b[0m\n\u001b[0m\u001b[0;32m    129\u001b[0m \t\t\t'''\n\u001b[0;32m    130\u001b[0m                                 \u001b[1;32mif\u001b[0m \u001b[0mplot_windows\u001b[0m\u001b[1;33m[\u001b[0m\u001b[0mmname\u001b[0m\u001b[1;33m]\u001b[0m\u001b[1;33m:\u001b[0m\u001b[1;33m\u001b[0m\u001b[0m\n",
      "\u001b[1;32mD:\\qtlab_replacement\\scripts\\plotting.py\u001b[0m in \u001b[0;36mupdate_plot_measurement\u001b[1;34m(measurement, axes)\u001b[0m\n\u001b[0;32m    106\u001b[0m                 \u001b[1;32mfor\u001b[0m \u001b[0mplot_name\u001b[0m\u001b[1;33m,\u001b[0m \u001b[0mplot\u001b[0m \u001b[1;32min\u001b[0m \u001b[0max\u001b[0m\u001b[1;33m[\u001b[0m\u001b[1;34m'plots'\u001b[0m\u001b[1;33m]\u001b[0m\u001b[1;33m.\u001b[0m\u001b[0mitems\u001b[0m\u001b[1;33m(\u001b[0m\u001b[1;33m)\u001b[0m\u001b[1;33m:\u001b[0m\u001b[1;33m\u001b[0m\u001b[0m\n\u001b[0;32m    107\u001b[0m                         \u001b[0mmeas\u001b[0m\u001b[1;33m[\u001b[0m\u001b[0mplot_name\u001b[0m\u001b[1;33m]\u001b[0m \u001b[1;33m=\u001b[0m \u001b[1;33m(\u001b[0m\u001b[0mmeasurement\u001b[0m\u001b[1;33m[\u001b[0m\u001b[0mplot\u001b[0m\u001b[1;33m[\u001b[0m\u001b[1;34m'mname'\u001b[0m\u001b[1;33m]\u001b[0m\u001b[1;33m]\u001b[0m\u001b[1;33m[\u001b[0m\u001b[1;36m0\u001b[0m\u001b[1;33m]\u001b[0m\u001b[1;33m,\u001b[0m \u001b[0mmeasurement\u001b[0m\u001b[1;33m[\u001b[0m\u001b[0mplot\u001b[0m\u001b[1;33m[\u001b[0m\u001b[1;34m'mname'\u001b[0m\u001b[1;33m]\u001b[0m\u001b[1;33m]\u001b[0m\u001b[1;33m[\u001b[0m\u001b[1;36m1\u001b[0m\u001b[1;33m]\u001b[0m\u001b[1;33m,\u001b[0m \u001b[0mplot\u001b[0m\u001b[1;33m[\u001b[0m\u001b[1;34m'filter'\u001b[0m\u001b[1;33m]\u001b[0m\u001b[1;33m(\u001b[0m\u001b[0mmeasurement\u001b[0m\u001b[1;33m[\u001b[0m\u001b[0mplot\u001b[0m\u001b[1;33m[\u001b[0m\u001b[1;34m'mname'\u001b[0m\u001b[1;33m]\u001b[0m\u001b[1;33m]\u001b[0m\u001b[1;33m[\u001b[0m\u001b[1;36m2\u001b[0m\u001b[1;33m]\u001b[0m\u001b[1;33m)\u001b[0m\u001b[1;33m)\u001b[0m\u001b[1;33m\u001b[0m\u001b[0m\n\u001b[1;32m--> 108\u001b[1;33m                 \u001b[0mplots\u001b[0m \u001b[1;33m=\u001b[0m \u001b[0mupdate_plot_measurement_sa\u001b[0m\u001b[1;33m(\u001b[0m\u001b[0mmeas\u001b[0m\u001b[1;33m,\u001b[0m \u001b[0max\u001b[0m\u001b[1;33m)\u001b[0m\u001b[1;33m\u001b[0m\u001b[0m\n\u001b[0m\u001b[0;32m    109\u001b[0m \u001b[1;33m\u001b[0m\u001b[0m\n\u001b[0;32m    110\u001b[0m \u001b[1;31m# Plots all data on a single axis with given annotations.\u001b[0m\u001b[1;33m\u001b[0m\u001b[1;33m\u001b[0m\u001b[0m\n",
      "\u001b[1;32mD:\\qtlab_replacement\\scripts\\plotting.py\u001b[0m in \u001b[0;36mupdate_plot_measurement_sa\u001b[1;34m(measurement, plots)\u001b[0m\n\u001b[0;32m    190\u001b[0m                         \u001b[0mplt\u001b[0m\u001b[1;33m.\u001b[0m\u001b[0mclim\u001b[0m\u001b[1;33m(\u001b[0m\u001b[0mnp\u001b[0m\u001b[1;33m.\u001b[0m\u001b[0mnanmin\u001b[0m\u001b[1;33m(\u001b[0m\u001b[0mdata\u001b[0m\u001b[1;33m)\u001b[0m\u001b[1;33m,\u001b[0m \u001b[0mnp\u001b[0m\u001b[1;33m.\u001b[0m\u001b[0mnanmax\u001b[0m\u001b[1;33m(\u001b[0m\u001b[0mdata\u001b[0m\u001b[1;33m)\u001b[0m\u001b[1;33m)\u001b[0m\u001b[1;33m\u001b[0m\u001b[0m\n\u001b[0;32m    191\u001b[0m                 \u001b[0mplt\u001b[0m\u001b[1;33m.\u001b[0m\u001b[0mdraw\u001b[0m\u001b[1;33m(\u001b[0m\u001b[1;33m)\u001b[0m\u001b[1;33m\u001b[0m\u001b[0m\n\u001b[1;32m--> 192\u001b[1;33m         \u001b[0mplt\u001b[0m\u001b[1;33m.\u001b[0m\u001b[0mpause\u001b[0m\u001b[1;33m(\u001b[0m\u001b[1;36m0.05\u001b[0m\u001b[1;33m)\u001b[0m\u001b[1;33m\u001b[0m\u001b[0m\n\u001b[0m",
      "\u001b[1;32mc:\\python36\\lib\\site-packages\\matplotlib\\pyplot.py\u001b[0m in \u001b[0;36mpause\u001b[1;34m(interval)\u001b[0m\n\u001b[0;32m    296\u001b[0m             \u001b[0mcanvas\u001b[0m \u001b[1;33m=\u001b[0m \u001b[0mfigManager\u001b[0m\u001b[1;33m.\u001b[0m\u001b[0mcanvas\u001b[0m\u001b[1;33m\u001b[0m\u001b[0m\n\u001b[0;32m    297\u001b[0m             \u001b[1;32mif\u001b[0m \u001b[0mcanvas\u001b[0m\u001b[1;33m.\u001b[0m\u001b[0mfigure\u001b[0m\u001b[1;33m.\u001b[0m\u001b[0mstale\u001b[0m\u001b[1;33m:\u001b[0m\u001b[1;33m\u001b[0m\u001b[0m\n\u001b[1;32m--> 298\u001b[1;33m                 \u001b[0mcanvas\u001b[0m\u001b[1;33m.\u001b[0m\u001b[0mdraw\u001b[0m\u001b[1;33m(\u001b[0m\u001b[1;33m)\u001b[0m\u001b[1;33m\u001b[0m\u001b[0m\n\u001b[0m\u001b[0;32m    299\u001b[0m             \u001b[0mshow\u001b[0m\u001b[1;33m(\u001b[0m\u001b[0mblock\u001b[0m\u001b[1;33m=\u001b[0m\u001b[1;32mFalse\u001b[0m\u001b[1;33m)\u001b[0m\u001b[1;33m\u001b[0m\u001b[0m\n\u001b[0;32m    300\u001b[0m             \u001b[0mcanvas\u001b[0m\u001b[1;33m.\u001b[0m\u001b[0mstart_event_loop\u001b[0m\u001b[1;33m(\u001b[0m\u001b[0minterval\u001b[0m\u001b[1;33m)\u001b[0m\u001b[1;33m\u001b[0m\u001b[0m\n",
      "\u001b[1;32mc:\\python36\\lib\\site-packages\\matplotlib\\backends\\backend_qt5agg.py\u001b[0m in \u001b[0;36mdraw\u001b[1;34m(self)\u001b[0m\n\u001b[0;32m    174\u001b[0m         \u001b[1;31m# The Agg draw is done here; delaying causes problems with code that\u001b[0m\u001b[1;33m\u001b[0m\u001b[1;33m\u001b[0m\u001b[0m\n\u001b[0;32m    175\u001b[0m         \u001b[1;31m# uses the result of the draw() to update plot elements.\u001b[0m\u001b[1;33m\u001b[0m\u001b[1;33m\u001b[0m\u001b[0m\n\u001b[1;32m--> 176\u001b[1;33m         \u001b[0mFigureCanvasAgg\u001b[0m\u001b[1;33m.\u001b[0m\u001b[0mdraw\u001b[0m\u001b[1;33m(\u001b[0m\u001b[0mself\u001b[0m\u001b[1;33m)\u001b[0m\u001b[1;33m\u001b[0m\u001b[0m\n\u001b[0m\u001b[0;32m    177\u001b[0m         \u001b[0mself\u001b[0m\u001b[1;33m.\u001b[0m\u001b[0mupdate\u001b[0m\u001b[1;33m(\u001b[0m\u001b[1;33m)\u001b[0m\u001b[1;33m\u001b[0m\u001b[0m\n\u001b[0;32m    178\u001b[0m \u001b[1;33m\u001b[0m\u001b[0m\n",
      "\u001b[1;32mc:\\python36\\lib\\site-packages\\matplotlib\\backends\\backend_agg.py\u001b[0m in \u001b[0;36mdraw\u001b[1;34m(self)\u001b[0m\n\u001b[0;32m    462\u001b[0m \u001b[1;33m\u001b[0m\u001b[0m\n\u001b[0;32m    463\u001b[0m         \u001b[1;32mtry\u001b[0m\u001b[1;33m:\u001b[0m\u001b[1;33m\u001b[0m\u001b[0m\n\u001b[1;32m--> 464\u001b[1;33m             \u001b[0mself\u001b[0m\u001b[1;33m.\u001b[0m\u001b[0mfigure\u001b[0m\u001b[1;33m.\u001b[0m\u001b[0mdraw\u001b[0m\u001b[1;33m(\u001b[0m\u001b[0mself\u001b[0m\u001b[1;33m.\u001b[0m\u001b[0mrenderer\u001b[0m\u001b[1;33m)\u001b[0m\u001b[1;33m\u001b[0m\u001b[0m\n\u001b[0m\u001b[0;32m    465\u001b[0m         \u001b[1;32mfinally\u001b[0m\u001b[1;33m:\u001b[0m\u001b[1;33m\u001b[0m\u001b[0m\n\u001b[0;32m    466\u001b[0m             \u001b[0mRendererAgg\u001b[0m\u001b[1;33m.\u001b[0m\u001b[0mlock\u001b[0m\u001b[1;33m.\u001b[0m\u001b[0mrelease\u001b[0m\u001b[1;33m(\u001b[0m\u001b[1;33m)\u001b[0m\u001b[1;33m\u001b[0m\u001b[0m\n",
      "\u001b[1;32mc:\\python36\\lib\\site-packages\\matplotlib\\artist.py\u001b[0m in \u001b[0;36mdraw_wrapper\u001b[1;34m(artist, renderer, *args, **kwargs)\u001b[0m\n\u001b[0;32m     61\u001b[0m     \u001b[1;32mdef\u001b[0m \u001b[0mdraw_wrapper\u001b[0m\u001b[1;33m(\u001b[0m\u001b[0martist\u001b[0m\u001b[1;33m,\u001b[0m \u001b[0mrenderer\u001b[0m\u001b[1;33m,\u001b[0m \u001b[1;33m*\u001b[0m\u001b[0margs\u001b[0m\u001b[1;33m,\u001b[0m \u001b[1;33m**\u001b[0m\u001b[0mkwargs\u001b[0m\u001b[1;33m)\u001b[0m\u001b[1;33m:\u001b[0m\u001b[1;33m\u001b[0m\u001b[0m\n\u001b[0;32m     62\u001b[0m         \u001b[0mbefore\u001b[0m\u001b[1;33m(\u001b[0m\u001b[0martist\u001b[0m\u001b[1;33m,\u001b[0m \u001b[0mrenderer\u001b[0m\u001b[1;33m)\u001b[0m\u001b[1;33m\u001b[0m\u001b[0m\n\u001b[1;32m---> 63\u001b[1;33m         \u001b[0mdraw\u001b[0m\u001b[1;33m(\u001b[0m\u001b[0martist\u001b[0m\u001b[1;33m,\u001b[0m \u001b[0mrenderer\u001b[0m\u001b[1;33m,\u001b[0m \u001b[1;33m*\u001b[0m\u001b[0margs\u001b[0m\u001b[1;33m,\u001b[0m \u001b[1;33m**\u001b[0m\u001b[0mkwargs\u001b[0m\u001b[1;33m)\u001b[0m\u001b[1;33m\u001b[0m\u001b[0m\n\u001b[0m\u001b[0;32m     64\u001b[0m         \u001b[0mafter\u001b[0m\u001b[1;33m(\u001b[0m\u001b[0martist\u001b[0m\u001b[1;33m,\u001b[0m \u001b[0mrenderer\u001b[0m\u001b[1;33m)\u001b[0m\u001b[1;33m\u001b[0m\u001b[0m\n\u001b[0;32m     65\u001b[0m \u001b[1;33m\u001b[0m\u001b[0m\n",
      "\u001b[1;32mc:\\python36\\lib\\site-packages\\matplotlib\\figure.py\u001b[0m in \u001b[0;36mdraw\u001b[1;34m(self, renderer)\u001b[0m\n\u001b[0;32m   1141\u001b[0m \u001b[1;33m\u001b[0m\u001b[0m\n\u001b[0;32m   1142\u001b[0m             mimage._draw_list_compositing_images(\n\u001b[1;32m-> 1143\u001b[1;33m                 renderer, self, dsu, self.suppressComposite)\n\u001b[0m\u001b[0;32m   1144\u001b[0m \u001b[1;33m\u001b[0m\u001b[0m\n\u001b[0;32m   1145\u001b[0m             \u001b[0mrenderer\u001b[0m\u001b[1;33m.\u001b[0m\u001b[0mclose_group\u001b[0m\u001b[1;33m(\u001b[0m\u001b[1;34m'figure'\u001b[0m\u001b[1;33m)\u001b[0m\u001b[1;33m\u001b[0m\u001b[0m\n",
      "\u001b[1;32mc:\\python36\\lib\\site-packages\\matplotlib\\image.py\u001b[0m in \u001b[0;36m_draw_list_compositing_images\u001b[1;34m(renderer, parent, dsu, suppress_composite)\u001b[0m\n\u001b[0;32m    137\u001b[0m     \u001b[1;32mif\u001b[0m \u001b[0mnot_composite\u001b[0m \u001b[1;32mor\u001b[0m \u001b[1;32mnot\u001b[0m \u001b[0mhas_images\u001b[0m\u001b[1;33m:\u001b[0m\u001b[1;33m\u001b[0m\u001b[0m\n\u001b[0;32m    138\u001b[0m         \u001b[1;32mfor\u001b[0m \u001b[0mzorder\u001b[0m\u001b[1;33m,\u001b[0m \u001b[0ma\u001b[0m \u001b[1;32min\u001b[0m \u001b[0mdsu\u001b[0m\u001b[1;33m:\u001b[0m\u001b[1;33m\u001b[0m\u001b[0m\n\u001b[1;32m--> 139\u001b[1;33m             \u001b[0ma\u001b[0m\u001b[1;33m.\u001b[0m\u001b[0mdraw\u001b[0m\u001b[1;33m(\u001b[0m\u001b[0mrenderer\u001b[0m\u001b[1;33m)\u001b[0m\u001b[1;33m\u001b[0m\u001b[0m\n\u001b[0m\u001b[0;32m    140\u001b[0m     \u001b[1;32melse\u001b[0m\u001b[1;33m:\u001b[0m\u001b[1;33m\u001b[0m\u001b[0m\n\u001b[0;32m    141\u001b[0m         \u001b[1;31m# Composite any adjacent images together\u001b[0m\u001b[1;33m\u001b[0m\u001b[1;33m\u001b[0m\u001b[0m\n",
      "\u001b[1;32mc:\\python36\\lib\\site-packages\\matplotlib\\artist.py\u001b[0m in \u001b[0;36mdraw_wrapper\u001b[1;34m(artist, renderer, *args, **kwargs)\u001b[0m\n\u001b[0;32m     61\u001b[0m     \u001b[1;32mdef\u001b[0m \u001b[0mdraw_wrapper\u001b[0m\u001b[1;33m(\u001b[0m\u001b[0martist\u001b[0m\u001b[1;33m,\u001b[0m \u001b[0mrenderer\u001b[0m\u001b[1;33m,\u001b[0m \u001b[1;33m*\u001b[0m\u001b[0margs\u001b[0m\u001b[1;33m,\u001b[0m \u001b[1;33m**\u001b[0m\u001b[0mkwargs\u001b[0m\u001b[1;33m)\u001b[0m\u001b[1;33m:\u001b[0m\u001b[1;33m\u001b[0m\u001b[0m\n\u001b[0;32m     62\u001b[0m         \u001b[0mbefore\u001b[0m\u001b[1;33m(\u001b[0m\u001b[0martist\u001b[0m\u001b[1;33m,\u001b[0m \u001b[0mrenderer\u001b[0m\u001b[1;33m)\u001b[0m\u001b[1;33m\u001b[0m\u001b[0m\n\u001b[1;32m---> 63\u001b[1;33m         \u001b[0mdraw\u001b[0m\u001b[1;33m(\u001b[0m\u001b[0martist\u001b[0m\u001b[1;33m,\u001b[0m \u001b[0mrenderer\u001b[0m\u001b[1;33m,\u001b[0m \u001b[1;33m*\u001b[0m\u001b[0margs\u001b[0m\u001b[1;33m,\u001b[0m \u001b[1;33m**\u001b[0m\u001b[0mkwargs\u001b[0m\u001b[1;33m)\u001b[0m\u001b[1;33m\u001b[0m\u001b[0m\n\u001b[0m\u001b[0;32m     64\u001b[0m         \u001b[0mafter\u001b[0m\u001b[1;33m(\u001b[0m\u001b[0martist\u001b[0m\u001b[1;33m,\u001b[0m \u001b[0mrenderer\u001b[0m\u001b[1;33m)\u001b[0m\u001b[1;33m\u001b[0m\u001b[0m\n\u001b[0;32m     65\u001b[0m \u001b[1;33m\u001b[0m\u001b[0m\n",
      "\u001b[1;32mc:\\python36\\lib\\site-packages\\matplotlib\\axes\\_base.py\u001b[0m in \u001b[0;36mdraw\u001b[1;34m(self, renderer, inframe)\u001b[0m\n\u001b[0;32m   2407\u001b[0m             \u001b[0mrenderer\u001b[0m\u001b[1;33m.\u001b[0m\u001b[0mstop_rasterizing\u001b[0m\u001b[1;33m(\u001b[0m\u001b[1;33m)\u001b[0m\u001b[1;33m\u001b[0m\u001b[0m\n\u001b[0;32m   2408\u001b[0m \u001b[1;33m\u001b[0m\u001b[0m\n\u001b[1;32m-> 2409\u001b[1;33m         \u001b[0mmimage\u001b[0m\u001b[1;33m.\u001b[0m\u001b[0m_draw_list_compositing_images\u001b[0m\u001b[1;33m(\u001b[0m\u001b[0mrenderer\u001b[0m\u001b[1;33m,\u001b[0m \u001b[0mself\u001b[0m\u001b[1;33m,\u001b[0m \u001b[0mdsu\u001b[0m\u001b[1;33m)\u001b[0m\u001b[1;33m\u001b[0m\u001b[0m\n\u001b[0m\u001b[0;32m   2410\u001b[0m \u001b[1;33m\u001b[0m\u001b[0m\n\u001b[0;32m   2411\u001b[0m         \u001b[0mrenderer\u001b[0m\u001b[1;33m.\u001b[0m\u001b[0mclose_group\u001b[0m\u001b[1;33m(\u001b[0m\u001b[1;34m'axes'\u001b[0m\u001b[1;33m)\u001b[0m\u001b[1;33m\u001b[0m\u001b[0m\n",
      "\u001b[1;32mc:\\python36\\lib\\site-packages\\matplotlib\\image.py\u001b[0m in \u001b[0;36m_draw_list_compositing_images\u001b[1;34m(renderer, parent, dsu, suppress_composite)\u001b[0m\n\u001b[0;32m    137\u001b[0m     \u001b[1;32mif\u001b[0m \u001b[0mnot_composite\u001b[0m \u001b[1;32mor\u001b[0m \u001b[1;32mnot\u001b[0m \u001b[0mhas_images\u001b[0m\u001b[1;33m:\u001b[0m\u001b[1;33m\u001b[0m\u001b[0m\n\u001b[0;32m    138\u001b[0m         \u001b[1;32mfor\u001b[0m \u001b[0mzorder\u001b[0m\u001b[1;33m,\u001b[0m \u001b[0ma\u001b[0m \u001b[1;32min\u001b[0m \u001b[0mdsu\u001b[0m\u001b[1;33m:\u001b[0m\u001b[1;33m\u001b[0m\u001b[0m\n\u001b[1;32m--> 139\u001b[1;33m             \u001b[0ma\u001b[0m\u001b[1;33m.\u001b[0m\u001b[0mdraw\u001b[0m\u001b[1;33m(\u001b[0m\u001b[0mrenderer\u001b[0m\u001b[1;33m)\u001b[0m\u001b[1;33m\u001b[0m\u001b[0m\n\u001b[0m\u001b[0;32m    140\u001b[0m     \u001b[1;32melse\u001b[0m\u001b[1;33m:\u001b[0m\u001b[1;33m\u001b[0m\u001b[0m\n\u001b[0;32m    141\u001b[0m         \u001b[1;31m# Composite any adjacent images together\u001b[0m\u001b[1;33m\u001b[0m\u001b[1;33m\u001b[0m\u001b[0m\n",
      "\u001b[1;32mc:\\python36\\lib\\site-packages\\matplotlib\\artist.py\u001b[0m in \u001b[0;36mdraw_wrapper\u001b[1;34m(artist, renderer, *args, **kwargs)\u001b[0m\n\u001b[0;32m     61\u001b[0m     \u001b[1;32mdef\u001b[0m \u001b[0mdraw_wrapper\u001b[0m\u001b[1;33m(\u001b[0m\u001b[0martist\u001b[0m\u001b[1;33m,\u001b[0m \u001b[0mrenderer\u001b[0m\u001b[1;33m,\u001b[0m \u001b[1;33m*\u001b[0m\u001b[0margs\u001b[0m\u001b[1;33m,\u001b[0m \u001b[1;33m**\u001b[0m\u001b[0mkwargs\u001b[0m\u001b[1;33m)\u001b[0m\u001b[1;33m:\u001b[0m\u001b[1;33m\u001b[0m\u001b[0m\n\u001b[0;32m     62\u001b[0m         \u001b[0mbefore\u001b[0m\u001b[1;33m(\u001b[0m\u001b[0martist\u001b[0m\u001b[1;33m,\u001b[0m \u001b[0mrenderer\u001b[0m\u001b[1;33m)\u001b[0m\u001b[1;33m\u001b[0m\u001b[0m\n\u001b[1;32m---> 63\u001b[1;33m         \u001b[0mdraw\u001b[0m\u001b[1;33m(\u001b[0m\u001b[0martist\u001b[0m\u001b[1;33m,\u001b[0m \u001b[0mrenderer\u001b[0m\u001b[1;33m,\u001b[0m \u001b[1;33m*\u001b[0m\u001b[0margs\u001b[0m\u001b[1;33m,\u001b[0m \u001b[1;33m**\u001b[0m\u001b[0mkwargs\u001b[0m\u001b[1;33m)\u001b[0m\u001b[1;33m\u001b[0m\u001b[0m\n\u001b[0m\u001b[0;32m     64\u001b[0m         \u001b[0mafter\u001b[0m\u001b[1;33m(\u001b[0m\u001b[0martist\u001b[0m\u001b[1;33m,\u001b[0m \u001b[0mrenderer\u001b[0m\u001b[1;33m)\u001b[0m\u001b[1;33m\u001b[0m\u001b[0m\n\u001b[0;32m     65\u001b[0m \u001b[1;33m\u001b[0m\u001b[0m\n",
      "\u001b[1;32mc:\\python36\\lib\\site-packages\\matplotlib\\image.py\u001b[0m in \u001b[0;36mdraw\u001b[1;34m(self, renderer, *args, **kwargs)\u001b[0m\n\u001b[0;32m    493\u001b[0m         \u001b[1;32melse\u001b[0m\u001b[1;33m:\u001b[0m\u001b[1;33m\u001b[0m\u001b[0m\n\u001b[0;32m    494\u001b[0m             im, l, b, trans = self.make_image(\n\u001b[1;32m--> 495\u001b[1;33m                 renderer, renderer.get_image_magnification())\n\u001b[0m\u001b[0;32m    496\u001b[0m             \u001b[1;32mif\u001b[0m \u001b[0mim\u001b[0m \u001b[1;32mis\u001b[0m \u001b[1;32mnot\u001b[0m \u001b[1;32mNone\u001b[0m\u001b[1;33m:\u001b[0m\u001b[1;33m\u001b[0m\u001b[0m\n\u001b[0;32m    497\u001b[0m                 \u001b[0mrenderer\u001b[0m\u001b[1;33m.\u001b[0m\u001b[0mdraw_image\u001b[0m\u001b[1;33m(\u001b[0m\u001b[0mgc\u001b[0m\u001b[1;33m,\u001b[0m \u001b[0ml\u001b[0m\u001b[1;33m,\u001b[0m \u001b[0mb\u001b[0m\u001b[1;33m,\u001b[0m \u001b[0mim\u001b[0m\u001b[1;33m)\u001b[0m\u001b[1;33m\u001b[0m\u001b[0m\n",
      "\u001b[1;32mc:\\python36\\lib\\site-packages\\matplotlib\\image.py\u001b[0m in \u001b[0;36mmake_image\u001b[1;34m(self, renderer, magnification, unsampled)\u001b[0m\n\u001b[0;32m    717\u001b[0m         return self._make_image(\n\u001b[0;32m    718\u001b[0m             \u001b[0mself\u001b[0m\u001b[1;33m.\u001b[0m\u001b[0m_A\u001b[0m\u001b[1;33m,\u001b[0m \u001b[0mbbox\u001b[0m\u001b[1;33m,\u001b[0m \u001b[0mtransformed_bbox\u001b[0m\u001b[1;33m,\u001b[0m \u001b[0mself\u001b[0m\u001b[1;33m.\u001b[0m\u001b[0maxes\u001b[0m\u001b[1;33m.\u001b[0m\u001b[0mbbox\u001b[0m\u001b[1;33m,\u001b[0m \u001b[0mmagnification\u001b[0m\u001b[1;33m,\u001b[0m\u001b[1;33m\u001b[0m\u001b[0m\n\u001b[1;32m--> 719\u001b[1;33m             unsampled=unsampled)\n\u001b[0m\u001b[0;32m    720\u001b[0m \u001b[1;33m\u001b[0m\u001b[0m\n\u001b[0;32m    721\u001b[0m     \u001b[1;32mdef\u001b[0m \u001b[0m_check_unsampled_image\u001b[0m\u001b[1;33m(\u001b[0m\u001b[0mself\u001b[0m\u001b[1;33m,\u001b[0m \u001b[0mrenderer\u001b[0m\u001b[1;33m)\u001b[0m\u001b[1;33m:\u001b[0m\u001b[1;33m\u001b[0m\u001b[0m\n",
      "\u001b[1;32mc:\\python36\\lib\\site-packages\\matplotlib\\image.py\u001b[0m in \u001b[0;36m_make_image\u001b[1;34m(self, A, in_bbox, out_bbox, clip_bbox, magnification, unsampled, round_to_pixel_border)\u001b[0m\n\u001b[0;32m    409\u001b[0m                 \u001b[0mA\u001b[0m\u001b[1;33m,\u001b[0m \u001b[0moutput\u001b[0m\u001b[1;33m,\u001b[0m \u001b[0mt\u001b[0m\u001b[1;33m,\u001b[0m \u001b[0m_interpd_\u001b[0m\u001b[1;33m[\u001b[0m\u001b[0mself\u001b[0m\u001b[1;33m.\u001b[0m\u001b[0mget_interpolation\u001b[0m\u001b[1;33m(\u001b[0m\u001b[1;33m)\u001b[0m\u001b[1;33m]\u001b[0m\u001b[1;33m,\u001b[0m\u001b[1;33m\u001b[0m\u001b[0m\n\u001b[0;32m    410\u001b[0m                 \u001b[0mself\u001b[0m\u001b[1;33m.\u001b[0m\u001b[0mget_resample\u001b[0m\u001b[1;33m(\u001b[0m\u001b[1;33m)\u001b[0m\u001b[1;33m,\u001b[0m \u001b[0malpha\u001b[0m\u001b[1;33m,\u001b[0m\u001b[1;33m\u001b[0m\u001b[0m\n\u001b[1;32m--> 411\u001b[1;33m                 self.get_filternorm() or 0.0, self.get_filterrad() or 0.0)\n\u001b[0m\u001b[0;32m    412\u001b[0m \u001b[1;33m\u001b[0m\u001b[0m\n\u001b[0;32m    413\u001b[0m             \u001b[1;32mif\u001b[0m \u001b[0mcreated_rgba_mask\u001b[0m\u001b[1;33m:\u001b[0m\u001b[1;33m\u001b[0m\u001b[0m\n",
      "\u001b[1;31mKeyboardInterrupt\u001b[0m: "
     ]
    }
   ],
   "source": [
    "pna.set_xlim(9.723e9, 9.723e9)\n",
    "pna.set_bandwidth(10)\n",
    "pna.set_averages(1)\n",
    "pna.set_nop(1)\n",
    "pna.set_power(-60)\n",
    "lo1.set_power(-10)\n",
    "lo1.set_status(1)\n",
    "\n",
    "ex_freqs = np.linspace(7.55e9, 7.6e9, 51)\n",
    "currents = np.linspace(-3e-5, 3e-5, 61)\n",
    "sweep.sweep(pna, (currents, set_coil_current_compensated, 'Qubit control 1 current'),\\\n",
    "                 (ex_freqs, lo1.set_frequency, 'Excitation frequency'),\\\n",
    "                filename='Hivemind 2T spectrum Q1')"
   ]
  },
  {
   "cell_type": "code",
   "execution_count": 15,
   "metadata": {},
   "outputs": [
    {
     "name": "stdout",
     "output_type": "stream",
     "text": [
      "Started at:  May 26 2017 09:47:17\n"
     ]
    },
    {
     "name": "stderr",
     "output_type": "stream",
     "text": [
      "c:\\python36\\lib\\site-packages\\matplotlib\\backend_bases.py:2445: MatplotlibDeprecationWarning: Using default event loop until function specific to this GUI is implemented\n",
      "  warnings.warn(str, mplDeprecation)\n"
     ]
    },
    {
     "name": "stdout",
     "output_type": "stream",
     "text": [
      "Time left: 0 h 0 m 0.0 s,\tparameter values: Excitation power:     -5,\tExcitation frequency: 7.75e+09,\taverage cycle time: 0.92s\ts\t\t\t\n",
      "Elapsed time: 1 h 59 m 31.68 s\n"
     ]
    },
    {
     "data": {
      "text/plain": [
       "{'S-parameter': (('Excitation power', 'Excitation frequency'),\n",
       "  (array([-20. , -19.5, -19. , -18.5, -18. , -17.5, -17. , -16.5, -16. ,\n",
       "          -15.5, -15. , -14.5, -14. , -13.5, -13. , -12.5, -12. , -11.5,\n",
       "          -11. , -10.5, -10. ,  -9.5,  -9. ,  -8.5,  -8. ,  -7.5,  -7. ,\n",
       "           -6.5,  -6. ,  -5.5,  -5. ]),\n",
       "   array([  7.00000000e+09,   7.00300000e+09,   7.00600000e+09,\n",
       "            7.00900000e+09,   7.01200000e+09,   7.01500000e+09,\n",
       "            7.01800000e+09,   7.02100000e+09,   7.02400000e+09,\n",
       "            7.02700000e+09,   7.03000000e+09,   7.03300000e+09,\n",
       "            7.03600000e+09,   7.03900000e+09,   7.04200000e+09,\n",
       "            7.04500000e+09,   7.04800000e+09,   7.05100000e+09,\n",
       "            7.05400000e+09,   7.05700000e+09,   7.06000000e+09,\n",
       "            7.06300000e+09,   7.06600000e+09,   7.06900000e+09,\n",
       "            7.07200000e+09,   7.07500000e+09,   7.07800000e+09,\n",
       "            7.08100000e+09,   7.08400000e+09,   7.08700000e+09,\n",
       "            7.09000000e+09,   7.09300000e+09,   7.09600000e+09,\n",
       "            7.09900000e+09,   7.10200000e+09,   7.10500000e+09,\n",
       "            7.10800000e+09,   7.11100000e+09,   7.11400000e+09,\n",
       "            7.11700000e+09,   7.12000000e+09,   7.12300000e+09,\n",
       "            7.12600000e+09,   7.12900000e+09,   7.13200000e+09,\n",
       "            7.13500000e+09,   7.13800000e+09,   7.14100000e+09,\n",
       "            7.14400000e+09,   7.14700000e+09,   7.15000000e+09,\n",
       "            7.15300000e+09,   7.15600000e+09,   7.15900000e+09,\n",
       "            7.16200000e+09,   7.16500000e+09,   7.16800000e+09,\n",
       "            7.17100000e+09,   7.17400000e+09,   7.17700000e+09,\n",
       "            7.18000000e+09,   7.18300000e+09,   7.18600000e+09,\n",
       "            7.18900000e+09,   7.19200000e+09,   7.19500000e+09,\n",
       "            7.19800000e+09,   7.20100000e+09,   7.20400000e+09,\n",
       "            7.20700000e+09,   7.21000000e+09,   7.21300000e+09,\n",
       "            7.21600000e+09,   7.21900000e+09,   7.22200000e+09,\n",
       "            7.22500000e+09,   7.22800000e+09,   7.23100000e+09,\n",
       "            7.23400000e+09,   7.23700000e+09,   7.24000000e+09,\n",
       "            7.24300000e+09,   7.24600000e+09,   7.24900000e+09,\n",
       "            7.25200000e+09,   7.25500000e+09,   7.25800000e+09,\n",
       "            7.26100000e+09,   7.26400000e+09,   7.26700000e+09,\n",
       "            7.27000000e+09,   7.27300000e+09,   7.27600000e+09,\n",
       "            7.27900000e+09,   7.28200000e+09,   7.28500000e+09,\n",
       "            7.28800000e+09,   7.29100000e+09,   7.29400000e+09,\n",
       "            7.29700000e+09,   7.30000000e+09,   7.30300000e+09,\n",
       "            7.30600000e+09,   7.30900000e+09,   7.31200000e+09,\n",
       "            7.31500000e+09,   7.31800000e+09,   7.32100000e+09,\n",
       "            7.32400000e+09,   7.32700000e+09,   7.33000000e+09,\n",
       "            7.33300000e+09,   7.33600000e+09,   7.33900000e+09,\n",
       "            7.34200000e+09,   7.34500000e+09,   7.34800000e+09,\n",
       "            7.35100000e+09,   7.35400000e+09,   7.35700000e+09,\n",
       "            7.36000000e+09,   7.36300000e+09,   7.36600000e+09,\n",
       "            7.36900000e+09,   7.37200000e+09,   7.37500000e+09,\n",
       "            7.37800000e+09,   7.38100000e+09,   7.38400000e+09,\n",
       "            7.38700000e+09,   7.39000000e+09,   7.39300000e+09,\n",
       "            7.39600000e+09,   7.39900000e+09,   7.40200000e+09,\n",
       "            7.40500000e+09,   7.40800000e+09,   7.41100000e+09,\n",
       "            7.41400000e+09,   7.41700000e+09,   7.42000000e+09,\n",
       "            7.42300000e+09,   7.42600000e+09,   7.42900000e+09,\n",
       "            7.43200000e+09,   7.43500000e+09,   7.43800000e+09,\n",
       "            7.44100000e+09,   7.44400000e+09,   7.44700000e+09,\n",
       "            7.45000000e+09,   7.45300000e+09,   7.45600000e+09,\n",
       "            7.45900000e+09,   7.46200000e+09,   7.46500000e+09,\n",
       "            7.46800000e+09,   7.47100000e+09,   7.47400000e+09,\n",
       "            7.47700000e+09,   7.48000000e+09,   7.48300000e+09,\n",
       "            7.48600000e+09,   7.48900000e+09,   7.49200000e+09,\n",
       "            7.49500000e+09,   7.49800000e+09,   7.50100000e+09,\n",
       "            7.50400000e+09,   7.50700000e+09,   7.51000000e+09,\n",
       "            7.51300000e+09,   7.51600000e+09,   7.51900000e+09,\n",
       "            7.52200000e+09,   7.52500000e+09,   7.52800000e+09,\n",
       "            7.53100000e+09,   7.53400000e+09,   7.53700000e+09,\n",
       "            7.54000000e+09,   7.54300000e+09,   7.54600000e+09,\n",
       "            7.54900000e+09,   7.55200000e+09,   7.55500000e+09,\n",
       "            7.55800000e+09,   7.56100000e+09,   7.56400000e+09,\n",
       "            7.56700000e+09,   7.57000000e+09,   7.57300000e+09,\n",
       "            7.57600000e+09,   7.57900000e+09,   7.58200000e+09,\n",
       "            7.58500000e+09,   7.58800000e+09,   7.59100000e+09,\n",
       "            7.59400000e+09,   7.59700000e+09,   7.60000000e+09,\n",
       "            7.60300000e+09,   7.60600000e+09,   7.60900000e+09,\n",
       "            7.61200000e+09,   7.61500000e+09,   7.61800000e+09,\n",
       "            7.62100000e+09,   7.62400000e+09,   7.62700000e+09,\n",
       "            7.63000000e+09,   7.63300000e+09,   7.63600000e+09,\n",
       "            7.63900000e+09,   7.64200000e+09,   7.64500000e+09,\n",
       "            7.64800000e+09,   7.65100000e+09,   7.65400000e+09,\n",
       "            7.65700000e+09,   7.66000000e+09,   7.66300000e+09,\n",
       "            7.66600000e+09,   7.66900000e+09,   7.67200000e+09,\n",
       "            7.67500000e+09,   7.67800000e+09,   7.68100000e+09,\n",
       "            7.68400000e+09,   7.68700000e+09,   7.69000000e+09,\n",
       "            7.69300000e+09,   7.69600000e+09,   7.69900000e+09,\n",
       "            7.70200000e+09,   7.70500000e+09,   7.70800000e+09,\n",
       "            7.71100000e+09,   7.71400000e+09,   7.71700000e+09,\n",
       "            7.72000000e+09,   7.72300000e+09,   7.72600000e+09,\n",
       "            7.72900000e+09,   7.73200000e+09,   7.73500000e+09,\n",
       "            7.73800000e+09,   7.74100000e+09,   7.74400000e+09,\n",
       "            7.74700000e+09,   7.75000000e+09])),\n",
       "  array([[ 0.06429868+0.04816178j,  0.06181727+0.05045702j,\n",
       "           0.06531475+0.05012691j, ...,  0.06060019+0.05155784j,\n",
       "           0.06210371+0.04980175j,  0.06121477+0.05149662j],\n",
       "         [ 0.05983596+0.05221818j,  0.06045171+0.05323414j,\n",
       "           0.06208272+0.05249904j, ...,  0.06255587+0.05039132j,\n",
       "           0.06199159+0.05085922j,  0.06363711+0.04915972j],\n",
       "         [ 0.06338642+0.04967831j,  0.06192095+0.04894796j,\n",
       "           0.06218519+0.0496928j , ...,  0.06076525+0.05129549j,\n",
       "           0.06107657+0.05078376j,  0.06153855+0.05160157j],\n",
       "         ..., \n",
       "         [ 0.08809904+0.01864101j,  0.08676151+0.01971026j,\n",
       "           0.08543795+0.02114622j, ...,  0.09508500+0.00595337j,\n",
       "           0.09360988+0.00901616j,  0.09492666+0.00954441j],\n",
       "         [ 0.09361047+0.01244289j,  0.09013359+0.01643763j,\n",
       "           0.08965519+0.01724973j, ...,  0.09570653+0.00428069j,\n",
       "           0.09482983+0.0076089j ,  0.09380047+0.00884957j],\n",
       "         [ 0.09163547+0.0125409j ,  0.09196651+0.0147278j ,\n",
       "           0.08989976+0.01610628j, ...,  0.09819373-0.00413164j,\n",
       "           0.09898987-0.00132615j,  0.09769904+0.00085126j]]),\n",
       "  {'log': 20})}"
      ]
     },
     "execution_count": 15,
     "metadata": {},
     "output_type": "execute_result"
    }
   ],
   "source": [
    "pna.set_xlim(9.723e9, 9.723e9)\n",
    "pna.set_bandwidth(2)\n",
    "pna.set_averages(1)\n",
    "pna.set_nop(1)\n",
    "pna.set_power(-60)\n",
    "lo1.set_power(-10)\n",
    "lo1.set_status(1)\n",
    "ex_powers = np.linspace(-20,-5, 31)\n",
    "\n",
    "#ex_freqs = np.linspace(6e9, 8e9, 201)\n",
    "ex_freqs = np.linspace(7.00e9, 7.750e9, 251)\n",
    "set_coil_current_compensated(0)\n",
    "sweep.sweep(pna, (ex_powers, lo1.set_power, 'Excitation power'),\\\n",
    "                 (ex_freqs, lo1.set_frequency, 'Excitation frequency'),\\\n",
    "                filename='Hivemind 2T power sweep')"
   ]
  },
  {
   "cell_type": "code",
   "execution_count": 19,
   "metadata": {},
   "outputs": [
    {
     "name": "stdout",
     "output_type": "stream",
     "text": [
      "Started at:  May 26 2017 19:37:21\n",
      "First sweep..."
     ]
    },
    {
     "name": "stderr",
     "output_type": "stream",
     "text": [
      "c:\\python36\\lib\\site-packages\\matplotlib\\backend_bases.py:2445: MatplotlibDeprecationWarning: Using default event loop until function specific to this GUI is implemented\n",
      "  warnings.warn(str, mplDeprecation)\n"
     ]
    },
    {
     "name": "stdout",
     "output_type": "stream",
     "text": [
      "Time left: 0 h 0 m 0.0 s,\tparameter values: Excitation frequency: 7.75e+09,\taverage cycle time:  1.2s\ts\t\t\t\n",
      "Elapsed time: 0 h 15 m 24.45 s\n"
     ]
    },
    {
     "data": {
      "text/plain": [
       "{'S-parameter': (('Excitation frequency',),\n",
       "  (array([  7.00000000e+09,   7.00100000e+09,   7.00200000e+09,\n",
       "            7.00300000e+09,   7.00400000e+09,   7.00500000e+09,\n",
       "            7.00600000e+09,   7.00700000e+09,   7.00800000e+09,\n",
       "            7.00900000e+09,   7.01000000e+09,   7.01100000e+09,\n",
       "            7.01200000e+09,   7.01300000e+09,   7.01400000e+09,\n",
       "            7.01500000e+09,   7.01600000e+09,   7.01700000e+09,\n",
       "            7.01800000e+09,   7.01900000e+09,   7.02000000e+09,\n",
       "            7.02100000e+09,   7.02200000e+09,   7.02300000e+09,\n",
       "            7.02400000e+09,   7.02500000e+09,   7.02600000e+09,\n",
       "            7.02700000e+09,   7.02800000e+09,   7.02900000e+09,\n",
       "            7.03000000e+09,   7.03100000e+09,   7.03200000e+09,\n",
       "            7.03300000e+09,   7.03400000e+09,   7.03500000e+09,\n",
       "            7.03600000e+09,   7.03700000e+09,   7.03800000e+09,\n",
       "            7.03900000e+09,   7.04000000e+09,   7.04100000e+09,\n",
       "            7.04200000e+09,   7.04300000e+09,   7.04400000e+09,\n",
       "            7.04500000e+09,   7.04600000e+09,   7.04700000e+09,\n",
       "            7.04800000e+09,   7.04900000e+09,   7.05000000e+09,\n",
       "            7.05100000e+09,   7.05200000e+09,   7.05300000e+09,\n",
       "            7.05400000e+09,   7.05500000e+09,   7.05600000e+09,\n",
       "            7.05700000e+09,   7.05800000e+09,   7.05900000e+09,\n",
       "            7.06000000e+09,   7.06100000e+09,   7.06200000e+09,\n",
       "            7.06300000e+09,   7.06400000e+09,   7.06500000e+09,\n",
       "            7.06600000e+09,   7.06700000e+09,   7.06800000e+09,\n",
       "            7.06900000e+09,   7.07000000e+09,   7.07100000e+09,\n",
       "            7.07200000e+09,   7.07300000e+09,   7.07400000e+09,\n",
       "            7.07500000e+09,   7.07600000e+09,   7.07700000e+09,\n",
       "            7.07800000e+09,   7.07900000e+09,   7.08000000e+09,\n",
       "            7.08100000e+09,   7.08200000e+09,   7.08300000e+09,\n",
       "            7.08400000e+09,   7.08500000e+09,   7.08600000e+09,\n",
       "            7.08700000e+09,   7.08800000e+09,   7.08900000e+09,\n",
       "            7.09000000e+09,   7.09100000e+09,   7.09200000e+09,\n",
       "            7.09300000e+09,   7.09400000e+09,   7.09500000e+09,\n",
       "            7.09600000e+09,   7.09700000e+09,   7.09800000e+09,\n",
       "            7.09900000e+09,   7.10000000e+09,   7.10100000e+09,\n",
       "            7.10200000e+09,   7.10300000e+09,   7.10400000e+09,\n",
       "            7.10500000e+09,   7.10600000e+09,   7.10700000e+09,\n",
       "            7.10800000e+09,   7.10900000e+09,   7.11000000e+09,\n",
       "            7.11100000e+09,   7.11200000e+09,   7.11300000e+09,\n",
       "            7.11400000e+09,   7.11500000e+09,   7.11600000e+09,\n",
       "            7.11700000e+09,   7.11800000e+09,   7.11900000e+09,\n",
       "            7.12000000e+09,   7.12100000e+09,   7.12200000e+09,\n",
       "            7.12300000e+09,   7.12400000e+09,   7.12500000e+09,\n",
       "            7.12600000e+09,   7.12700000e+09,   7.12800000e+09,\n",
       "            7.12900000e+09,   7.13000000e+09,   7.13100000e+09,\n",
       "            7.13200000e+09,   7.13300000e+09,   7.13400000e+09,\n",
       "            7.13500000e+09,   7.13600000e+09,   7.13700000e+09,\n",
       "            7.13800000e+09,   7.13900000e+09,   7.14000000e+09,\n",
       "            7.14100000e+09,   7.14200000e+09,   7.14300000e+09,\n",
       "            7.14400000e+09,   7.14500000e+09,   7.14600000e+09,\n",
       "            7.14700000e+09,   7.14800000e+09,   7.14900000e+09,\n",
       "            7.15000000e+09,   7.15100000e+09,   7.15200000e+09,\n",
       "            7.15300000e+09,   7.15400000e+09,   7.15500000e+09,\n",
       "            7.15600000e+09,   7.15700000e+09,   7.15800000e+09,\n",
       "            7.15900000e+09,   7.16000000e+09,   7.16100000e+09,\n",
       "            7.16200000e+09,   7.16300000e+09,   7.16400000e+09,\n",
       "            7.16500000e+09,   7.16600000e+09,   7.16700000e+09,\n",
       "            7.16800000e+09,   7.16900000e+09,   7.17000000e+09,\n",
       "            7.17100000e+09,   7.17200000e+09,   7.17300000e+09,\n",
       "            7.17400000e+09,   7.17500000e+09,   7.17600000e+09,\n",
       "            7.17700000e+09,   7.17800000e+09,   7.17900000e+09,\n",
       "            7.18000000e+09,   7.18100000e+09,   7.18200000e+09,\n",
       "            7.18300000e+09,   7.18400000e+09,   7.18500000e+09,\n",
       "            7.18600000e+09,   7.18700000e+09,   7.18800000e+09,\n",
       "            7.18900000e+09,   7.19000000e+09,   7.19100000e+09,\n",
       "            7.19200000e+09,   7.19300000e+09,   7.19400000e+09,\n",
       "            7.19500000e+09,   7.19600000e+09,   7.19700000e+09,\n",
       "            7.19800000e+09,   7.19900000e+09,   7.20000000e+09,\n",
       "            7.20100000e+09,   7.20200000e+09,   7.20300000e+09,\n",
       "            7.20400000e+09,   7.20500000e+09,   7.20600000e+09,\n",
       "            7.20700000e+09,   7.20800000e+09,   7.20900000e+09,\n",
       "            7.21000000e+09,   7.21100000e+09,   7.21200000e+09,\n",
       "            7.21300000e+09,   7.21400000e+09,   7.21500000e+09,\n",
       "            7.21600000e+09,   7.21700000e+09,   7.21800000e+09,\n",
       "            7.21900000e+09,   7.22000000e+09,   7.22100000e+09,\n",
       "            7.22200000e+09,   7.22300000e+09,   7.22400000e+09,\n",
       "            7.22500000e+09,   7.22600000e+09,   7.22700000e+09,\n",
       "            7.22800000e+09,   7.22900000e+09,   7.23000000e+09,\n",
       "            7.23100000e+09,   7.23200000e+09,   7.23300000e+09,\n",
       "            7.23400000e+09,   7.23500000e+09,   7.23600000e+09,\n",
       "            7.23700000e+09,   7.23800000e+09,   7.23900000e+09,\n",
       "            7.24000000e+09,   7.24100000e+09,   7.24200000e+09,\n",
       "            7.24300000e+09,   7.24400000e+09,   7.24500000e+09,\n",
       "            7.24600000e+09,   7.24700000e+09,   7.24800000e+09,\n",
       "            7.24900000e+09,   7.25000000e+09,   7.25100000e+09,\n",
       "            7.25200000e+09,   7.25300000e+09,   7.25400000e+09,\n",
       "            7.25500000e+09,   7.25600000e+09,   7.25700000e+09,\n",
       "            7.25800000e+09,   7.25900000e+09,   7.26000000e+09,\n",
       "            7.26100000e+09,   7.26200000e+09,   7.26300000e+09,\n",
       "            7.26400000e+09,   7.26500000e+09,   7.26600000e+09,\n",
       "            7.26700000e+09,   7.26800000e+09,   7.26900000e+09,\n",
       "            7.27000000e+09,   7.27100000e+09,   7.27200000e+09,\n",
       "            7.27300000e+09,   7.27400000e+09,   7.27500000e+09,\n",
       "            7.27600000e+09,   7.27700000e+09,   7.27800000e+09,\n",
       "            7.27900000e+09,   7.28000000e+09,   7.28100000e+09,\n",
       "            7.28200000e+09,   7.28300000e+09,   7.28400000e+09,\n",
       "            7.28500000e+09,   7.28600000e+09,   7.28700000e+09,\n",
       "            7.28800000e+09,   7.28900000e+09,   7.29000000e+09,\n",
       "            7.29100000e+09,   7.29200000e+09,   7.29300000e+09,\n",
       "            7.29400000e+09,   7.29500000e+09,   7.29600000e+09,\n",
       "            7.29700000e+09,   7.29800000e+09,   7.29900000e+09,\n",
       "            7.30000000e+09,   7.30100000e+09,   7.30200000e+09,\n",
       "            7.30300000e+09,   7.30400000e+09,   7.30500000e+09,\n",
       "            7.30600000e+09,   7.30700000e+09,   7.30800000e+09,\n",
       "            7.30900000e+09,   7.31000000e+09,   7.31100000e+09,\n",
       "            7.31200000e+09,   7.31300000e+09,   7.31400000e+09,\n",
       "            7.31500000e+09,   7.31600000e+09,   7.31700000e+09,\n",
       "            7.31800000e+09,   7.31900000e+09,   7.32000000e+09,\n",
       "            7.32100000e+09,   7.32200000e+09,   7.32300000e+09,\n",
       "            7.32400000e+09,   7.32500000e+09,   7.32600000e+09,\n",
       "            7.32700000e+09,   7.32800000e+09,   7.32900000e+09,\n",
       "            7.33000000e+09,   7.33100000e+09,   7.33200000e+09,\n",
       "            7.33300000e+09,   7.33400000e+09,   7.33500000e+09,\n",
       "            7.33600000e+09,   7.33700000e+09,   7.33800000e+09,\n",
       "            7.33900000e+09,   7.34000000e+09,   7.34100000e+09,\n",
       "            7.34200000e+09,   7.34300000e+09,   7.34400000e+09,\n",
       "            7.34500000e+09,   7.34600000e+09,   7.34700000e+09,\n",
       "            7.34800000e+09,   7.34900000e+09,   7.35000000e+09,\n",
       "            7.35100000e+09,   7.35200000e+09,   7.35300000e+09,\n",
       "            7.35400000e+09,   7.35500000e+09,   7.35600000e+09,\n",
       "            7.35700000e+09,   7.35800000e+09,   7.35900000e+09,\n",
       "            7.36000000e+09,   7.36100000e+09,   7.36200000e+09,\n",
       "            7.36300000e+09,   7.36400000e+09,   7.36500000e+09,\n",
       "            7.36600000e+09,   7.36700000e+09,   7.36800000e+09,\n",
       "            7.36900000e+09,   7.37000000e+09,   7.37100000e+09,\n",
       "            7.37200000e+09,   7.37300000e+09,   7.37400000e+09,\n",
       "            7.37500000e+09,   7.37600000e+09,   7.37700000e+09,\n",
       "            7.37800000e+09,   7.37900000e+09,   7.38000000e+09,\n",
       "            7.38100000e+09,   7.38200000e+09,   7.38300000e+09,\n",
       "            7.38400000e+09,   7.38500000e+09,   7.38600000e+09,\n",
       "            7.38700000e+09,   7.38800000e+09,   7.38900000e+09,\n",
       "            7.39000000e+09,   7.39100000e+09,   7.39200000e+09,\n",
       "            7.39300000e+09,   7.39400000e+09,   7.39500000e+09,\n",
       "            7.39600000e+09,   7.39700000e+09,   7.39800000e+09,\n",
       "            7.39900000e+09,   7.40000000e+09,   7.40100000e+09,\n",
       "            7.40200000e+09,   7.40300000e+09,   7.40400000e+09,\n",
       "            7.40500000e+09,   7.40600000e+09,   7.40700000e+09,\n",
       "            7.40800000e+09,   7.40900000e+09,   7.41000000e+09,\n",
       "            7.41100000e+09,   7.41200000e+09,   7.41300000e+09,\n",
       "            7.41400000e+09,   7.41500000e+09,   7.41600000e+09,\n",
       "            7.41700000e+09,   7.41800000e+09,   7.41900000e+09,\n",
       "            7.42000000e+09,   7.42100000e+09,   7.42200000e+09,\n",
       "            7.42300000e+09,   7.42400000e+09,   7.42500000e+09,\n",
       "            7.42600000e+09,   7.42700000e+09,   7.42800000e+09,\n",
       "            7.42900000e+09,   7.43000000e+09,   7.43100000e+09,\n",
       "            7.43200000e+09,   7.43300000e+09,   7.43400000e+09,\n",
       "            7.43500000e+09,   7.43600000e+09,   7.43700000e+09,\n",
       "            7.43800000e+09,   7.43900000e+09,   7.44000000e+09,\n",
       "            7.44100000e+09,   7.44200000e+09,   7.44300000e+09,\n",
       "            7.44400000e+09,   7.44500000e+09,   7.44600000e+09,\n",
       "            7.44700000e+09,   7.44800000e+09,   7.44900000e+09,\n",
       "            7.45000000e+09,   7.45100000e+09,   7.45200000e+09,\n",
       "            7.45300000e+09,   7.45400000e+09,   7.45500000e+09,\n",
       "            7.45600000e+09,   7.45700000e+09,   7.45800000e+09,\n",
       "            7.45900000e+09,   7.46000000e+09,   7.46100000e+09,\n",
       "            7.46200000e+09,   7.46300000e+09,   7.46400000e+09,\n",
       "            7.46500000e+09,   7.46600000e+09,   7.46700000e+09,\n",
       "            7.46800000e+09,   7.46900000e+09,   7.47000000e+09,\n",
       "            7.47100000e+09,   7.47200000e+09,   7.47300000e+09,\n",
       "            7.47400000e+09,   7.47500000e+09,   7.47600000e+09,\n",
       "            7.47700000e+09,   7.47800000e+09,   7.47900000e+09,\n",
       "            7.48000000e+09,   7.48100000e+09,   7.48200000e+09,\n",
       "            7.48300000e+09,   7.48400000e+09,   7.48500000e+09,\n",
       "            7.48600000e+09,   7.48700000e+09,   7.48800000e+09,\n",
       "            7.48900000e+09,   7.49000000e+09,   7.49100000e+09,\n",
       "            7.49200000e+09,   7.49300000e+09,   7.49400000e+09,\n",
       "            7.49500000e+09,   7.49600000e+09,   7.49700000e+09,\n",
       "            7.49800000e+09,   7.49900000e+09,   7.50000000e+09,\n",
       "            7.50100000e+09,   7.50200000e+09,   7.50300000e+09,\n",
       "            7.50400000e+09,   7.50500000e+09,   7.50600000e+09,\n",
       "            7.50700000e+09,   7.50800000e+09,   7.50900000e+09,\n",
       "            7.51000000e+09,   7.51100000e+09,   7.51200000e+09,\n",
       "            7.51300000e+09,   7.51400000e+09,   7.51500000e+09,\n",
       "            7.51600000e+09,   7.51700000e+09,   7.51800000e+09,\n",
       "            7.51900000e+09,   7.52000000e+09,   7.52100000e+09,\n",
       "            7.52200000e+09,   7.52300000e+09,   7.52400000e+09,\n",
       "            7.52500000e+09,   7.52600000e+09,   7.52700000e+09,\n",
       "            7.52800000e+09,   7.52900000e+09,   7.53000000e+09,\n",
       "            7.53100000e+09,   7.53200000e+09,   7.53300000e+09,\n",
       "            7.53400000e+09,   7.53500000e+09,   7.53600000e+09,\n",
       "            7.53700000e+09,   7.53800000e+09,   7.53900000e+09,\n",
       "            7.54000000e+09,   7.54100000e+09,   7.54200000e+09,\n",
       "            7.54300000e+09,   7.54400000e+09,   7.54500000e+09,\n",
       "            7.54600000e+09,   7.54700000e+09,   7.54800000e+09,\n",
       "            7.54900000e+09,   7.55000000e+09,   7.55100000e+09,\n",
       "            7.55200000e+09,   7.55300000e+09,   7.55400000e+09,\n",
       "            7.55500000e+09,   7.55600000e+09,   7.55700000e+09,\n",
       "            7.55800000e+09,   7.55900000e+09,   7.56000000e+09,\n",
       "            7.56100000e+09,   7.56200000e+09,   7.56300000e+09,\n",
       "            7.56400000e+09,   7.56500000e+09,   7.56600000e+09,\n",
       "            7.56700000e+09,   7.56800000e+09,   7.56900000e+09,\n",
       "            7.57000000e+09,   7.57100000e+09,   7.57200000e+09,\n",
       "            7.57300000e+09,   7.57400000e+09,   7.57500000e+09,\n",
       "            7.57600000e+09,   7.57700000e+09,   7.57800000e+09,\n",
       "            7.57900000e+09,   7.58000000e+09,   7.58100000e+09,\n",
       "            7.58200000e+09,   7.58300000e+09,   7.58400000e+09,\n",
       "            7.58500000e+09,   7.58600000e+09,   7.58700000e+09,\n",
       "            7.58800000e+09,   7.58900000e+09,   7.59000000e+09,\n",
       "            7.59100000e+09,   7.59200000e+09,   7.59300000e+09,\n",
       "            7.59400000e+09,   7.59500000e+09,   7.59600000e+09,\n",
       "            7.59700000e+09,   7.59800000e+09,   7.59900000e+09,\n",
       "            7.60000000e+09,   7.60100000e+09,   7.60200000e+09,\n",
       "            7.60300000e+09,   7.60400000e+09,   7.60500000e+09,\n",
       "            7.60600000e+09,   7.60700000e+09,   7.60800000e+09,\n",
       "            7.60900000e+09,   7.61000000e+09,   7.61100000e+09,\n",
       "            7.61200000e+09,   7.61300000e+09,   7.61400000e+09,\n",
       "            7.61500000e+09,   7.61600000e+09,   7.61700000e+09,\n",
       "            7.61800000e+09,   7.61900000e+09,   7.62000000e+09,\n",
       "            7.62100000e+09,   7.62200000e+09,   7.62300000e+09,\n",
       "            7.62400000e+09,   7.62500000e+09,   7.62600000e+09,\n",
       "            7.62700000e+09,   7.62800000e+09,   7.62900000e+09,\n",
       "            7.63000000e+09,   7.63100000e+09,   7.63200000e+09,\n",
       "            7.63300000e+09,   7.63400000e+09,   7.63500000e+09,\n",
       "            7.63600000e+09,   7.63700000e+09,   7.63800000e+09,\n",
       "            7.63900000e+09,   7.64000000e+09,   7.64100000e+09,\n",
       "            7.64200000e+09,   7.64300000e+09,   7.64400000e+09,\n",
       "            7.64500000e+09,   7.64600000e+09,   7.64700000e+09,\n",
       "            7.64800000e+09,   7.64900000e+09,   7.65000000e+09,\n",
       "            7.65100000e+09,   7.65200000e+09,   7.65300000e+09,\n",
       "            7.65400000e+09,   7.65500000e+09,   7.65600000e+09,\n",
       "            7.65700000e+09,   7.65800000e+09,   7.65900000e+09,\n",
       "            7.66000000e+09,   7.66100000e+09,   7.66200000e+09,\n",
       "            7.66300000e+09,   7.66400000e+09,   7.66500000e+09,\n",
       "            7.66600000e+09,   7.66700000e+09,   7.66800000e+09,\n",
       "            7.66900000e+09,   7.67000000e+09,   7.67100000e+09,\n",
       "            7.67200000e+09,   7.67300000e+09,   7.67400000e+09,\n",
       "            7.67500000e+09,   7.67600000e+09,   7.67700000e+09,\n",
       "            7.67800000e+09,   7.67900000e+09,   7.68000000e+09,\n",
       "            7.68100000e+09,   7.68200000e+09,   7.68300000e+09,\n",
       "            7.68400000e+09,   7.68500000e+09,   7.68600000e+09,\n",
       "            7.68700000e+09,   7.68800000e+09,   7.68900000e+09,\n",
       "            7.69000000e+09,   7.69100000e+09,   7.69200000e+09,\n",
       "            7.69300000e+09,   7.69400000e+09,   7.69500000e+09,\n",
       "            7.69600000e+09,   7.69700000e+09,   7.69800000e+09,\n",
       "            7.69900000e+09,   7.70000000e+09,   7.70100000e+09,\n",
       "            7.70200000e+09,   7.70300000e+09,   7.70400000e+09,\n",
       "            7.70500000e+09,   7.70600000e+09,   7.70700000e+09,\n",
       "            7.70800000e+09,   7.70900000e+09,   7.71000000e+09,\n",
       "            7.71100000e+09,   7.71200000e+09,   7.71300000e+09,\n",
       "            7.71400000e+09,   7.71500000e+09,   7.71600000e+09,\n",
       "            7.71700000e+09,   7.71800000e+09,   7.71900000e+09,\n",
       "            7.72000000e+09,   7.72100000e+09,   7.72200000e+09,\n",
       "            7.72300000e+09,   7.72400000e+09,   7.72500000e+09,\n",
       "            7.72600000e+09,   7.72700000e+09,   7.72800000e+09,\n",
       "            7.72900000e+09,   7.73000000e+09,   7.73100000e+09,\n",
       "            7.73200000e+09,   7.73300000e+09,   7.73400000e+09,\n",
       "            7.73500000e+09,   7.73600000e+09,   7.73700000e+09,\n",
       "            7.73800000e+09,   7.73900000e+09,   7.74000000e+09,\n",
       "            7.74100000e+09,   7.74200000e+09,   7.74300000e+09,\n",
       "            7.74400000e+09,   7.74500000e+09,   7.74600000e+09,\n",
       "            7.74700000e+09,   7.74800000e+09,   7.74900000e+09,\n",
       "            7.75000000e+09]),),\n",
       "  array([ 0.06306973+0.04990447j,  0.06195392+0.05062127j,\n",
       "          0.06259838+0.05035893j,  0.06261547+0.05024965j,\n",
       "          0.06379113+0.05044781j,  0.06200160+0.05103845j,\n",
       "          0.06232571+0.05036929j,  0.06299857+0.0503496j ,\n",
       "          0.06325214+0.05039364j,  0.06400716+0.05014905j,\n",
       "          0.06342249+0.04923724j,  0.06458636+0.04904649j,\n",
       "          0.06405954+0.04979086j,  0.06241021+0.04966208j,\n",
       "          0.06281193+0.05016486j,  0.06338632+0.05005808j,\n",
       "          0.06338734+0.04972846j,  0.06339995+0.04962069j,\n",
       "          0.06387972+0.04942359j,  0.06388890+0.04978039j,\n",
       "          0.06316011+0.05009877j,  0.06265416+0.04987196j,\n",
       "          0.06388438+0.04972167j,  0.06297684+0.04937071j,\n",
       "          0.06281240+0.05028576j,  0.06319898+0.04952145j,\n",
       "          0.06249738+0.04930976j,  0.06324896+0.04986766j,\n",
       "          0.06270215+0.05048193j,  0.06474720+0.04978299j,\n",
       "          0.06359003+0.05038821j,  0.06331749+0.04962803j,\n",
       "          0.06418034+0.04929672j,  0.06306769+0.04991804j,\n",
       "          0.06511683+0.04854462j,  0.06432942+0.04891485j,\n",
       "          0.06429859+0.04908289j,  0.06354793+0.04909889j,\n",
       "          0.06421621+0.04841463j,  0.06405216+0.04895468j,\n",
       "          0.06371577+0.04891153j,  0.06422239+0.04867688j,\n",
       "          0.06502313+0.04875458j,  0.06482904+0.04874213j,\n",
       "          0.06251248+0.05044959j,  0.06507937+0.04844118j,\n",
       "          0.06584901+0.04747482j,  0.06547953+0.04694128j,\n",
       "          0.06516965+0.04697982j,  0.06642619+0.04751064j,\n",
       "          0.06642693+0.04725696j,  0.06500709+0.04825046j,\n",
       "          0.06568220+0.04766094j,  0.06664666+0.0463864j ,\n",
       "          0.06618630+0.04653901j,  0.06589274+0.04784154j,\n",
       "          0.06607874+0.04696357j,  0.06625348+0.04825413j,\n",
       "          0.06499177+0.04689747j,  0.06475999+0.04839498j,\n",
       "          0.06539018+0.04762582j,  0.06487483+0.04816101j,\n",
       "          0.06399801+0.04785782j,  0.06549520+0.0486648j ,\n",
       "          0.06492253+0.04827852j,  0.06535615+0.04830237j,\n",
       "          0.06493270+0.0475808j ,  0.06479312+0.04740288j,\n",
       "          0.06629901+0.04701033j,  0.06466956+0.04843031j,\n",
       "          0.06510478+0.04829527j,  0.06507961+0.04767364j,\n",
       "          0.06516617+0.04783573j,  0.06271826+0.05014503j,\n",
       "          0.06312308+0.04955833j,  0.06306142+0.04954204j,\n",
       "          0.06345977+0.04863304j,  0.06490918+0.04957421j,\n",
       "          0.06338298+0.04934616j,  0.06465033+0.04801637j,\n",
       "          0.06504451+0.04863601j,  0.06541821+0.04811814j,\n",
       "          0.06378067+0.04891213j,  0.06285781+0.05063672j,\n",
       "          0.06281155+0.05072874j,  0.06209546+0.05128891j,\n",
       "          0.06280603+0.05041203j,  0.06262864+0.05141443j,\n",
       "          0.06213060+0.05054295j,  0.06196067+0.05168847j,\n",
       "          0.06052843+0.05176802j,  0.06072817+0.05259708j,\n",
       "          0.06092172+0.05216668j,  0.06078071+0.05045419j,\n",
       "          0.06080519+0.05138417j,  0.06078855+0.05249909j,\n",
       "          0.05928341+0.05197861j,  0.06105496+0.0526481j ,\n",
       "          0.06002508+0.05220801j,  0.06114303+0.05244301j,\n",
       "          0.06065590+0.05231464j,  0.06031135+0.05294084j,\n",
       "          0.05920950+0.05306184j,  0.05910965+0.05365491j,\n",
       "          0.05995983+0.05350867j,  0.05999094+0.05209082j,\n",
       "          0.06058707+0.05085046j,  0.06183808+0.05145179j,\n",
       "          0.06183914+0.05186858j,  0.06072471+0.05223445j,\n",
       "          0.06065830+0.05263144j,  0.05972795+0.05280207j,\n",
       "          0.06082095+0.0517189j ,  0.06192578+0.05108711j,\n",
       "          0.06251778+0.05201061j,  0.06249217+0.05054269j,\n",
       "          0.06220688+0.050719j  ,  0.06248596+0.0506812j ,\n",
       "          0.06234615+0.05065295j,  0.06183783+0.05139247j,\n",
       "          0.06215772+0.05055782j,  0.06190111+0.05113882j,\n",
       "          0.06200795+0.05216883j,  0.06166573+0.05178058j,\n",
       "          0.06074969+0.05229881j,  0.06031179+0.05223467j,\n",
       "          0.06107681+0.05247381j,  0.06034348+0.05278938j,\n",
       "          0.05952112+0.05280077j,  0.05938615+0.05197358j,\n",
       "          0.06044171+0.05283009j,  0.06073914+0.05205872j,\n",
       "          0.06039496+0.05157232j,  0.05999392+0.05219199j,\n",
       "          0.06028317+0.05324099j,  0.05964342+0.05274428j,\n",
       "          0.06086755+0.05225477j,  0.06054889+0.0515357j ,\n",
       "          0.06266263+0.05090338j,  0.06258442+0.0501757j ,\n",
       "          0.06208489+0.05020579j,  0.06294805+0.0503218j ,\n",
       "          0.06243657+0.05023367j,  0.06357888+0.04925155j,\n",
       "          0.06353313+0.04978346j,  0.06369254+0.04997541j,\n",
       "          0.06353527+0.0496986j ,  0.06369587+0.04921322j,\n",
       "          0.06300618+0.04907249j,  0.06363505+0.04904101j,\n",
       "          0.06546968+0.04897957j,  0.06411108+0.04873333j,\n",
       "          0.06422313+0.04855531j,  0.06402958+0.04883105j,\n",
       "          0.06464716+0.04836923j,  0.06549485+0.04780306j,\n",
       "          0.06478975+0.04709638j,  0.06449784+0.04751168j,\n",
       "          0.06487317+0.04829973j,  0.06609454+0.04752385j,\n",
       "          0.06607835+0.04782132j,  0.06516539+0.04816898j,\n",
       "          0.06519989+0.0475696j ,  0.06536435+0.04764174j,\n",
       "          0.06633957+0.04676537j,  0.06553946+0.04747608j,\n",
       "          0.06683364+0.04697558j,  0.06680021+0.04666302j,\n",
       "          0.06568055+0.04750273j,  0.06534907+0.04669594j,\n",
       "          0.06435668+0.04744216j,  0.06438209+0.04819654j,\n",
       "          0.06501011+0.0474329j ,  0.06413183+0.04913276j,\n",
       "          0.06511249+0.04684089j,  0.06545261+0.04709013j,\n",
       "          0.06567951+0.04677889j,  0.06575542+0.04726222j,\n",
       "          0.06539195+0.0470967j ,  0.06453548+0.0483911j ,\n",
       "          0.06527815+0.0487611j ,  0.06479557+0.04805994j,\n",
       "          0.06517128+0.04808353j,  0.06432425+0.04752271j,\n",
       "          0.06535312+0.04912737j,  0.06359707+0.0485944j ,\n",
       "          0.06465290+0.04940782j,  0.06535855+0.04831725j,\n",
       "          0.06520528+0.04724233j,  0.06466570+0.04754447j,\n",
       "          0.06449872+0.04763024j,  0.06493779+0.04820646j,\n",
       "          0.06416112+0.04836261j,  0.06409379+0.04938335j,\n",
       "          0.06402487+0.04912034j,  0.06388719+0.04921994j,\n",
       "          0.06457671+0.04882034j,  0.06501384+0.04900471j,\n",
       "          0.06386295+0.04797527j,  0.06498988+0.04849118j,\n",
       "          0.06511051+0.0481565j ,  0.06557526+0.04787125j,\n",
       "          0.06588360+0.04672331j,  0.06705565+0.04659925j,\n",
       "          0.06661107+0.04611639j,  0.06703547+0.04596777j,\n",
       "          0.06704669+0.0473755j ,  0.06728939+0.04616246j,\n",
       "          0.06712601+0.04588756j,  0.06665000+0.04582442j,\n",
       "          0.06656227+0.04644519j,  0.06614040+0.04628067j,\n",
       "          0.06644750+0.04617684j,  0.06706461+0.0464057j ,\n",
       "          0.06749927+0.04547177j,  0.06855397+0.04547235j,\n",
       "          0.06784055+0.04632424j,  0.06669548+0.04683233j,\n",
       "          0.06739084+0.04710015j,  0.06687288+0.04673084j,\n",
       "          0.06619416+0.04718821j,  0.06516521+0.0473836j ,\n",
       "          0.06486855+0.04796684j,  0.06631903+0.04793724j,\n",
       "          0.06489333+0.0482003j ,  0.06505358+0.04714038j,\n",
       "          0.06527584+0.04793359j,  0.06551120+0.04874548j,\n",
       "          0.06608354+0.04749734j,  0.06488558+0.04787868j,\n",
       "          0.06552624+0.04839477j,  0.06611441+0.04841376j,\n",
       "          0.06510273+0.04846613j,  0.06487649+0.04814797j,\n",
       "          0.06509987+0.04847314j,  0.06387860+0.04801865j,\n",
       "          0.06362866+0.04819028j,  0.06277373+0.04877798j,\n",
       "          0.06336886+0.04935231j,  0.06424460+0.04950408j,\n",
       "          0.06532307+0.04847979j,  0.06332586+0.04907871j,\n",
       "          0.06523831+0.0489425j ,  0.06515015+0.04775812j,\n",
       "          0.06534763+0.04779315j,  0.06465334+0.04842191j,\n",
       "          0.06370005+0.04837595j,  0.06462026+0.04835158j,\n",
       "          0.06452555+0.04917131j,  0.06423192+0.04855509j,\n",
       "          0.06385399+0.04981613j,  0.06412780+0.04904196j,\n",
       "          0.06306197+0.04881547j,  0.06408025+0.04825089j,\n",
       "          0.06349605+0.048567j  ,  0.06304100+0.04978602j,\n",
       "          0.06300537+0.04997626j,  0.06272174+0.04983177j,\n",
       "          0.06215311+0.05007205j,  0.06207209+0.04990692j,\n",
       "          0.06220644+0.04975012j,  0.06194838+0.05121107j,\n",
       "          0.06157804+0.05042063j,  0.06242105+0.05026519j,\n",
       "          0.06136429+0.05013637j,  0.06130610+0.05098486j,\n",
       "          0.06040566+0.05103916j,  0.06076203+0.05084179j,\n",
       "          0.06145761+0.05050823j,  0.05967600+0.05227274j,\n",
       "          0.06032034+0.05080552j,  0.06027396+0.05206416j,\n",
       "          0.05978534+0.05258695j,  0.05976746+0.05219731j,\n",
       "          0.06046096+0.05146371j,  0.05982273+0.05244989j,\n",
       "          0.06079916+0.05202809j,  0.06014030+0.05125826j,\n",
       "          0.06122678+0.05195649j,  0.06163268+0.05206865j,\n",
       "          0.06130053+0.05081699j,  0.06172726+0.05090571j,\n",
       "          0.06188668+0.05026811j,  0.06267311+0.0508397j ,\n",
       "          0.06240135+0.05043317j,  0.06283178+0.05009681j,\n",
       "          0.06212829+0.05031486j,  0.06282950+0.04987808j,\n",
       "          0.06256002+0.04967516j,  0.06245399+0.05059239j,\n",
       "          0.06248169+0.04927857j,  0.06163598+0.0507598j ,\n",
       "          0.06266291+0.05156296j,  0.06206945+0.05154253j,\n",
       "          0.06250454+0.05041073j,  0.06129217+0.05111085j,\n",
       "          0.06214707+0.05092054j,  0.06167646+0.05016649j,\n",
       "          0.06264935+0.05064359j,  0.06250858+0.05039864j,\n",
       "          0.06237672+0.05111655j,  0.06139416+0.05069168j,\n",
       "          0.06056710+0.05148939j,  0.06212273+0.05099367j,\n",
       "          0.06372866+0.04943003j,  0.06383573+0.04909057j,\n",
       "          0.06480803+0.04842677j,  0.06432597+0.04900724j,\n",
       "          0.06524041+0.04890158j,  0.06451740+0.04803905j,\n",
       "          0.06627262+0.04775838j,  0.06566437+0.04747121j,\n",
       "          0.06684974+0.04711969j,  0.06715195+0.04714233j,\n",
       "          0.06570515+0.04708855j,  0.06551155+0.04635891j,\n",
       "          0.06656747+0.04668466j,  0.06529012+0.0477591j ,\n",
       "          0.06461235+0.04743205j,  0.06503478+0.04773878j,\n",
       "          0.06477457+0.04780871j,  0.06469166+0.04824086j,\n",
       "          0.06605883+0.04846343j,  0.06437258+0.04803178j,\n",
       "          0.06565880+0.04745192j,  0.06593367+0.04663433j,\n",
       "          0.06693640+0.04774642j,  0.06594183+0.04834097j,\n",
       "          0.06534205+0.04803436j,  0.06605744+0.04751908j,\n",
       "          0.06579304+0.04766734j,  0.06462981+0.0480398j ,\n",
       "          0.06547888+0.04911685j,  0.06434808+0.0488041j ,\n",
       "          0.06394173+0.04915901j,  0.06472145+0.04907622j,\n",
       "          0.06406596+0.04994695j,  0.06461503+0.0489051j ,\n",
       "          0.06446455+0.04878661j,  0.06450435+0.04954789j,\n",
       "          0.06316063+0.04998727j,  0.06428912+0.05094505j,\n",
       "          0.06354585+0.05041959j,  0.06345202+0.05080618j,\n",
       "          0.06340656+0.04960061j,  0.06384397+0.05109493j,\n",
       "          0.06308036+0.05069229j,  0.06247379+0.05122064j,\n",
       "          0.06179867+0.05156739j,  0.06197817+0.05156163j,\n",
       "          0.06214480+0.05140257j,  0.06150900+0.05083807j,\n",
       "          0.06173772+0.05108174j,  0.06134580+0.05135299j,\n",
       "          0.06082297+0.05155542j,  0.06090456+0.05226974j,\n",
       "          0.06124451+0.05184008j,  0.06162938+0.05254311j,\n",
       "          0.06102134+0.05123452j,  0.06141289+0.05147418j,\n",
       "          0.06169482+0.05228747j,  0.06139699+0.05220077j,\n",
       "          0.06174022+0.05221926j,  0.06071842+0.05218521j,\n",
       "          0.06128823+0.05158782j,  0.06016616+0.0523955j ,\n",
       "          0.06069512+0.0523341j ,  0.06080627+0.05201699j,\n",
       "          0.05991795+0.05236677j,  0.06013507+0.05231405j,\n",
       "          0.06187197+0.05212556j,  0.06028432+0.05287841j,\n",
       "          0.05980146+0.05246403j,  0.06018581+0.05257716j,\n",
       "          0.05943553+0.05292393j,  0.05974340+0.05317721j,\n",
       "          0.05974488+0.05323985j,  0.06067433+0.05306555j,\n",
       "          0.05971327+0.05174967j,  0.05970588+0.05364523j,\n",
       "          0.06033284+0.05274158j,  0.06037399+0.05255232j,\n",
       "          0.05989470+0.05274395j,  0.06005558+0.05243685j,\n",
       "          0.05961528+0.05288176j,  0.05978025+0.05282317j,\n",
       "          0.05918823+0.05339649j,  0.05915258+0.05353978j,\n",
       "          0.06054138+0.05317421j,  0.05889987+0.05374639j,\n",
       "          0.05830652+0.05379881j,  0.06072382+0.05177646j,\n",
       "          0.06089641+0.05186575j,  0.06051295+0.05205998j,\n",
       "          0.06174779+0.05295112j,  0.06139375+0.05177344j,\n",
       "          0.06276656+0.05214468j,  0.06038059+0.05148563j,\n",
       "          0.06110215+0.05181781j,  0.06086084+0.05227129j,\n",
       "          0.06100073+0.05193327j,  0.06108024+0.05207303j,\n",
       "          0.06060582+0.05230994j,  0.05994023+0.05311838j,\n",
       "          0.05922963+0.05324795j,  0.06050545+0.05321014j,\n",
       "          0.06041062+0.05301306j,  0.06003893+0.05266296j,\n",
       "          0.06099532+0.0521377j ,  0.06127846+0.05218267j,\n",
       "          0.06082995+0.05204106j,  0.06081324+0.05264232j,\n",
       "          0.06141051+0.05189708j,  0.06250810+0.05052837j,\n",
       "          0.06174871+0.05023559j,  0.06282117+0.05089357j,\n",
       "          0.06186448+0.05077197j,  0.06275181+0.05073769j,\n",
       "          0.06263515+0.05079414j,  0.06251036+0.05025617j,\n",
       "          0.06396534+0.04945187j,  0.06383138+0.04886194j,\n",
       "          0.06390698+0.0500588j ,  0.06328132+0.04968983j,\n",
       "          0.06340826+0.04954598j,  0.06285621+0.05020728j,\n",
       "          0.06384040+0.04963476j,  0.06330505+0.04962669j,\n",
       "          0.06324799+0.05111473j,  0.06414378+0.04929896j,\n",
       "          0.06353242+0.04969819j,  0.06472904+0.04955415j,\n",
       "          0.06469092+0.04904301j,  0.06295592+0.04948936j,\n",
       "          0.06361628+0.04970105j,  0.06220204+0.05104337j,\n",
       "          0.06304543+0.05016967j,  0.06234991+0.05099901j,\n",
       "          0.06331227+0.0506435j ,  0.06146330+0.05187587j,\n",
       "          0.06033603+0.05155666j,  0.06025721+0.05188905j,\n",
       "          0.06055356+0.05212243j,  0.06040164+0.05189111j,\n",
       "          0.05993500+0.05304039j,  0.06109930+0.05181329j,\n",
       "          0.06102395+0.05243898j,  0.06166868+0.05170394j,\n",
       "          0.06087547+0.05160335j,  0.06007795+0.05268388j,\n",
       "          0.06111994+0.05136651j,  0.06019415+0.05281697j,\n",
       "          0.06086047+0.05201501j,  0.05989648+0.05293529j,\n",
       "          0.06022465+0.05248036j,  0.06045788+0.05198401j,\n",
       "          0.06031384+0.05310716j,  0.05974932+0.05284233j,\n",
       "          0.06048378+0.05254143j,  0.06058944+0.05274758j,\n",
       "          0.05951616+0.05289683j,  0.06053551+0.05327128j,\n",
       "          0.06203764+0.05241764j,  0.06194092+0.05135351j,\n",
       "          0.06237368+0.05179469j,  0.06177648+0.05022128j,\n",
       "          0.06260872+0.05118153j,  0.06316449+0.05020263j,\n",
       "          0.06181819+0.05048611j,  0.06207256+0.05134747j,\n",
       "          0.06218158+0.05091763j,  0.06193347+0.05121877j,\n",
       "          0.06214797+0.05195724j,  0.06220203+0.05144095j,\n",
       "          0.06114664+0.0518961j ,  0.06111942+0.05238178j,\n",
       "          0.06113961+0.05195448j,  0.06064270+0.05194192j,\n",
       "          0.06142401+0.05094736j,  0.06199812+0.05157205j,\n",
       "          0.06248581+0.05050402j,  0.06287516+0.05043124j,\n",
       "          0.06266326+0.05072638j,  0.06107064+0.0511723j ,\n",
       "          0.06281160+0.0499978j ,  0.06166179+0.05126989j,\n",
       "          0.06207016+0.05215298j,  0.06213034+0.05149271j,\n",
       "          0.06201483+0.05076764j,  0.06157127+0.05076565j,\n",
       "          0.06281829+0.05099913j,  0.06168315+0.05012725j,\n",
       "          0.06126156+0.0514697j ,  0.06257231+0.05014648j,\n",
       "          0.06229112+0.0504512j ,  0.06332642+0.0501116j ,\n",
       "          0.06316780+0.05001353j,  0.06170239+0.05044498j,\n",
       "          0.06286617+0.04988625j,  0.06354658+0.05008141j,\n",
       "          0.06150212+0.05142605j,  0.06100533+0.05121104j,\n",
       "          0.06152231+0.05172087j,  0.06118913+0.05163452j,\n",
       "          0.06264788+0.05118643j,  0.06220067+0.05033775j,\n",
       "          0.06178436+0.05138341j,  0.06175438+0.05174142j,\n",
       "          0.06204030+0.05134266j,  0.06163037+0.05153524j,\n",
       "          0.06207584+0.05138401j,  0.06206624+0.04942355j,\n",
       "          0.06426589+0.05012042j,  0.06438553+0.04901678j,\n",
       "          0.06419361+0.04953365j,  0.06360319+0.04890611j,\n",
       "          0.06270198+0.04936665j,  0.06413008+0.04996033j,\n",
       "          0.06343828+0.04883972j,  0.06401901+0.04900071j,\n",
       "          0.06505832+0.04887099j,  0.06387115+0.04959821j,\n",
       "          0.06379361+0.04938576j,  0.06468634+0.04888893j,\n",
       "          0.06456041+0.04881191j,  0.06424609+0.04884905j,\n",
       "          0.06387614+0.04916849j,  0.06443736+0.04956801j,\n",
       "          0.06370717+0.05000637j,  0.06359281+0.04997906j,\n",
       "          0.06376986+0.04867501j,  0.06368490+0.04912306j,\n",
       "          0.06406039+0.04942108j,  0.06404322+0.04884117j,\n",
       "          0.06356943+0.04922477j,  0.06425521+0.0494053j ,\n",
       "          0.06298184+0.04918435j,  0.06293836+0.04934699j,\n",
       "          0.06340469+0.04986769j,  0.06315292+0.04992877j,\n",
       "          0.06387963+0.05037061j,  0.06298462+0.0503859j ,\n",
       "          0.06316655+0.04998344j,  0.06348842+0.05056258j,\n",
       "          0.06430071+0.049791j  ,  0.06332380+0.04911966j,\n",
       "          0.06332454+0.04938735j,  0.06430229+0.04972642j,\n",
       "          0.06449047+0.04974267j,  0.06298526+0.04970435j,\n",
       "          0.06303220+0.0498633j ,  0.06331529+0.05024527j,\n",
       "          0.06176674+0.05074599j,  0.06311997+0.05000396j,\n",
       "          0.06272857+0.04979502j,  0.06305853+0.05003204j,\n",
       "          0.06421740+0.04905887j,  0.06509218+0.0468035j ,\n",
       "          0.06486729+0.04865135j,  0.06548488+0.04717217j,\n",
       "          0.06563777+0.04746562j,  0.06539483+0.04739722j,\n",
       "          0.06668817+0.04763773j,  0.06591967+0.04757591j,\n",
       "          0.06661733+0.04789114j,  0.06531228+0.04683614j,\n",
       "          0.06711692+0.04690005j,  0.06632593+0.04679447j,\n",
       "          0.06694070+0.04692553j,  0.06723128+0.04671593j,\n",
       "          0.06579282+0.0471655j ,  0.06722549+0.04650868j,\n",
       "          0.06595469+0.04597776j,  0.06780338+0.04644388j,\n",
       "          0.06723397+0.0468155j ,  0.06671716+0.04673794j,\n",
       "          0.06709789+0.04578617j,  0.06747131+0.04353659j,\n",
       "          0.06871129+0.04472202j,  0.06823575+0.04518716j,\n",
       "          0.06690945+0.04684959j,  0.06759574+0.04669311j,\n",
       "          0.06783076+0.04639149j,  0.06737632+0.0461062j ,\n",
       "          0.06803956+0.04557432j,  0.06759965+0.04634872j,\n",
       "          0.06649636+0.04748871j,  0.06621400+0.04750016j,\n",
       "          0.06608135+0.04771407j,  0.06597919+0.0480146j ,\n",
       "          0.06525098+0.04880767j,  0.06628305+0.04677131j,\n",
       "          0.06499934+0.04789259j,  0.06431888+0.04877228j,\n",
       "          0.06377576+0.04903555j,  0.06392625+0.0500694j ,\n",
       "          0.06430691+0.04948327j,  0.06409334+0.04876397j,\n",
       "          0.06448472+0.0487082j ,  0.06449498+0.0484505j ,\n",
       "          0.06505625+0.0488046j ,  0.06419881+0.04756056j,\n",
       "          0.06559837+0.0479085j ,  0.06399283+0.04863295j,\n",
       "          0.06416675+0.048164j  ,  0.06416486+0.04900045j,\n",
       "          0.06463212+0.04833579j,  0.06416097+0.04923566j,\n",
       "          0.06370362+0.04985437j,  0.06387304+0.04925852j,\n",
       "          0.06310990+0.04909028j,  0.06371716+0.05022556j,\n",
       "          0.06466239+0.04873275j,  0.06477140+0.04772092j,\n",
       "          0.06432204+0.05001653j,  0.06466131+0.04943305j,\n",
       "          0.06394359+0.05033341j,  0.06392241+0.04836498j,\n",
       "          0.06383707+0.04895911j,  0.06345110+0.04920978j,\n",
       "          0.06383174+0.04984155j,  0.06402754+0.0506183j ,\n",
       "          0.06276242+0.05000083j,  0.06254510+0.05065736j,\n",
       "          0.06354701+0.05048743j,  0.06308573+0.05000576j,\n",
       "          0.06304530+0.04997813j,  0.06344265+0.05001004j,\n",
       "          0.06208612+0.04968757j,  0.06191786+0.05123744j,\n",
       "          0.06300543+0.04996525j,  0.06241145+0.0497095j ,\n",
       "          0.06271888+0.05008932j,  0.06338631+0.04997224j,\n",
       "          0.06232302+0.05006171j,  0.06191788+0.05125979j,\n",
       "          0.06250656+0.05045488j,  0.06270484+0.0499677j ,\n",
       "          0.06339651+0.05038297j,  0.06233181+0.05014556j,\n",
       "          0.06191942+0.05058782j,  0.06223781+0.05066233j,\n",
       "          0.06365342+0.05048906j,  0.06371169+0.05133077j,\n",
       "          0.06247961+0.04986815j,  0.06308936+0.05084314j,\n",
       "          0.06317860+0.05131925j,  0.06340188+0.05024897j,\n",
       "          0.06317274+0.04974559j,  0.06284189+0.05040144j,\n",
       "          0.06369866+0.04974316j,  0.06399387+0.04901906j,\n",
       "          0.06369984+0.04957203j,  0.06400397+0.04969595j,\n",
       "          0.06293838+0.04968473j,  0.06299890+0.0506129j ,\n",
       "          0.06277245+0.04893399j,  0.06293109+0.05018134j,\n",
       "          0.06331228+0.04977177j,  0.06267259+0.04938408j,\n",
       "          0.06337541+0.0496918j ,  0.06372286+0.0488335j ,\n",
       "          0.06419452+0.04943085j,  0.06361543+0.04933561j,\n",
       "          0.06358822+0.0490988j ,  0.06393617+0.04875642j,\n",
       "          0.06570856+0.04831224j,  0.06555837+0.04823768j,\n",
       "          0.06499773+0.0483513j ,  0.06526273+0.04769602j,\n",
       "          0.06682296+0.04623758j,  0.06613475+0.04625599j,\n",
       "          0.06608670+0.04665085j,  0.06597327+0.04732886j,\n",
       "          0.06641204+0.04785539j,  0.06588559+0.04782112j,\n",
       "          0.06598970+0.04805635j,  0.06523643+0.0476924j ,\n",
       "          0.06561200+0.04779205j,  0.06556318+0.04750093j,\n",
       "          0.06542709+0.04791215j,  0.06506020+0.04796206j,\n",
       "          0.06594457+0.0474494j ,  0.06589023+0.0467663j ,\n",
       "          0.06601249+0.04818185j,  0.06590451+0.04861707j,\n",
       "          0.06612458+0.04774591j,  0.06673530+0.04736426j,\n",
       "          0.06635136+0.04741187j,  0.06555374+0.04801698j,\n",
       "          0.06539463+0.0490952j ,  0.06466747+0.0472915j ,\n",
       "          0.06457566+0.04850474j,  0.06523120+0.04934276j,\n",
       "          0.06413203+0.048898j  ,  0.06483484+0.0490522j ,\n",
       "          0.06533143+0.04861728j,  0.06663902+0.04707825j,\n",
       "          0.06602791+0.04795608j,  0.06625716+0.04734519j,\n",
       "          0.06605327+0.04689208j,  0.06675442+0.04627205j,\n",
       "          0.06617483+0.04715518j,  0.06710665+0.04741909j,\n",
       "          0.06582097+0.04769729j,  0.06545030+0.04808199j,\n",
       "          0.06561214+0.04778008j,  0.06586146+0.04868659j,\n",
       "          0.06473976+0.04804637j,  0.06565049+0.04851066j,\n",
       "          0.06537362+0.04839946j,  0.06543285+0.04864969j,\n",
       "          0.06449226+0.04850734j,  0.06481612+0.0467879j ,\n",
       "          0.06507996+0.04843791j,  0.06480993+0.04825234j,\n",
       "          0.06502061+0.04907757j,  0.06416199+0.04811339j,\n",
       "          0.06420414+0.04839646j,  0.06439082+0.04919109j,\n",
       "          0.06469785+0.04948892j,  0.06508699+0.04802785j,\n",
       "          0.06390847+0.04887069j,  0.06453724+0.04874408j,\n",
       "          0.06432453+0.0485965j ,  0.06367658+0.04967967j,\n",
       "          0.06472384+0.04925609j,  0.06487209+0.04988785j,\n",
       "          0.06389231+0.04946437j,  0.06365231+0.04899145j,\n",
       "          0.06425226+0.0487073j ,  0.06414666+0.04950133j,\n",
       "          0.06403714+0.04935722j,  0.06401217+0.04934524j,\n",
       "          0.06427898+0.0499553j ,  0.06444017+0.04956456j,\n",
       "          0.06384184+0.04922261j,  0.06462443+0.04848657j,\n",
       "          0.06500933+0.04814165j,  0.06490728+0.04768642j,\n",
       "          0.06512208+0.04899941j,  0.06600932+0.04729819j,\n",
       "          0.06488635+0.0482146j ,  0.06448251+0.0479006j ,\n",
       "          0.06441354+0.04874415j,  0.06384351+0.04932674j,\n",
       "          0.06408175+0.04841233j,  0.06479847+0.04859608j,\n",
       "          0.06431559+0.04908269j,  0.06432076+0.04904908j,\n",
       "          0.06444649+0.04895728j]),\n",
       "  {'log': 20})}"
      ]
     },
     "execution_count": 19,
     "metadata": {},
     "output_type": "execute_result"
    }
   ],
   "source": [
    "pna.set_xlim(9.723e9, 9.723e9)\n",
    "pna.set_bandwidth(1)\n",
    "pna.set_averages(1)\n",
    "pna.set_nop(1)\n",
    "pna.set_power(-60)\n",
    "lo1.set_power(-15)\n",
    "lo1.set_status(1)\n",
    "\n",
    "#ex_freqs = np.linspace(6e9, 8e9, 201)\n",
    "ex_freqs = np.linspace(7.00e9, 7.750e9, 751)\n",
    "set_coil_current_compensated(0)\n",
    "sweep.sweep(pna, (ex_freqs, lo1.set_frequency, 'Excitation frequency'),\\\n",
    "                filename='Hivemind 2T power sweep')"
   ]
  },
  {
   "cell_type": "markdown",
   "metadata": {
    "collapsed": true
   },
   "source": [
    "# Pulsed measurements"
   ]
  },
  {
   "cell_type": "code",
   "execution_count": 11,
   "metadata": {
    "collapsed": true
   },
   "outputs": [],
   "source": [
    "#Параметры кубитов.\n",
    "Qubits = {1: {'Fr': 10.04e9,'F01': 6.817e9, 'I0': -0.94e-3, 'Vr': -0.14, 'Ispan': 0.,'P': 0,'Pex': -2,'Span': 200e6}}\n",
    "qubit_id = 1"
   ]
  },
  {
   "cell_type": "code",
   "execution_count": 12,
   "metadata": {},
   "outputs": [
    {
     "name": "stdout",
     "output_type": "stream",
     "text": [
      "-0.14\n"
     ]
    }
   ],
   "source": [
    "current_src.set_current(Qubits[qubit_id]['I0'])\n",
    "set_res_z_voltage(Qubits[qubit_id]['Vr'])"
   ]
  },
  {
   "cell_type": "code",
   "execution_count": 13,
   "metadata": {},
   "outputs": [
    {
     "data": {
      "text/plain": [
       "<module 'sweep' from 'D:\\\\qtlab_replacement\\\\scripts\\\\sweep.py'>"
      ]
     },
     "execution_count": 13,
     "metadata": {},
     "output_type": "execute_result"
    }
   ],
   "source": [
    "import awg_digital\n",
    "import awg_iq\n",
    "import data_reduce\n",
    "import imp\n",
    "import fitting\n",
    "import plotting\n",
    "import save_pkl\n",
    "import tomography as tomography_new\n",
    "import tomography_legacy as tomography\n",
    "import sweep\n",
    "imp.reload(awg_digital)\n",
    "imp.reload(awg_iq)\n",
    "imp.reload(data_reduce)\n",
    "imp.reload(fitting)\n",
    "imp.reload(plotting)\n",
    "imp.reload(save_pkl)\n",
    "imp.reload(tomography)\n",
    "imp.reload(tomography_new)\n",
    "imp.reload(sweep)"
   ]
  },
  {
   "cell_type": "code",
   "execution_count": 14,
   "metadata": {},
   "outputs": [
    {
     "data": {
      "text/plain": [
       "True"
      ]
     },
     "execution_count": 14,
     "metadata": {},
     "output_type": "execute_result"
    }
   ],
   "source": [
    "# Источник тока - в autorange\n",
    "#current.set_autorange(1)\n",
    "#Мощности гетеродинов, постоянные\n",
    "#Мощность гетеродина для возбуждения 13-16 дБм\n",
    "#lo_ex_pow = 14\n",
    "#lo_ex_pow = 14\n",
    "lo_ex = lo1\n",
    "lo_ro = pna\n",
    "lo_ex_pow = 10\n",
    "#lo_ex = lo1\n",
    "lo_ex.set_status(1)\n",
    "#lo_ex.set_power(lo_ex_pow)\n",
    "#pna как lo2 (excitation)\n",
    "#Port1 - выход\n",
    "#Мощность гетеродина для считывания 10-13 дБм, с учётом разветвителя 13-16 dBm\n",
    "#lo_ro_pow = 16\n",
    "lo_ro_pow = 16\n",
    "lo_ro.set_power(lo_ro_pow)\n",
    "\n",
    "#lo_ex = pna\n",
    "pna.write(\"OUTP ON\")\n",
    "pna.write(\"SOUR1:POW1:MODE ON\")\n",
    "pna.write(\"SOUR1:POW2:MODE OFF\")\n",
    "pna.set_sweep_mode(\"CW\")\n",
    "lo_ex.set_power(lo_ex_pow)"
   ]
  },
  {
   "cell_type": "code",
   "execution_count": 15,
   "metadata": {},
   "outputs": [
    {
     "name": "stderr",
     "output_type": "stream",
     "text": [
      "root: WARNING  Tektronix_AWG5014 : Clock set to 1000000000.0. This is not fully functional yet. To avoid problems, it is better not to change the clock during operation\n"
     ]
    }
   ],
   "source": [
    "# промежуточные частоты для гетеродинной схемы:\n",
    "#ex_if = 125e6\n",
    "ex_if = 97.076e6\n",
    "ro_if = 75e6\n",
    "# клоки генератора и оцифровщика\n",
    "ex_clock = 1e9\n",
    "ro_clock = 1e9\n",
    "\n",
    "rep_rate = 20e3 # частота повторений эксперимента\n",
    "\n",
    "awg_tek.stop()\n",
    "awg_tek.set_clock(ex_clock) # клок всех авгшк\n",
    "awg_tek.set_nop(ex_clock/rep_rate) # репрейт нужно задавать по=хорошему только на управляющей,\n",
    "awg_tek.run()\n",
    "# а вот длину сэмплов, которая очевидно то же самое, нужно задавать на всех авгшках.\n",
    "# хорошо, что сейчас она только одна.\n",
    "\n",
    "# миксеры подключены к AWG5014 через 6 дБ аттенюаторы. Ставим амплитуду 0.7 В на считывание, 0.4 В на возбуждение.\n",
    "for channel in range(3,5):\n",
    "    awg_tek.set_amplitude(0.2, channel=channel)\n",
    "    awg_tek.set_offset(0.0, channel=channel)\n",
    "for channel in range(1,3):\n",
    "    awg_tek.set_amplitude(0.2, channel=channel)\n",
    "    awg_tek.set_offset(0.0, channel=channel)\n",
    "# Выходы 1, 2 тектроникс: возбуждение (кубитный тон) через 6 дБ аттенюатор\n",
    "# Выходы 3, 4 тектроникс: считывание (резонаторный тон) через 6 дБ аттенюатор\n",
    "iq_ex = awg_iq.awg_iq(awg_tek, awg_tek, 1, 2, lo_ex)\n",
    "iq_ro = awg_iq.awg_iq(awg_tek, awg_tek, 3, 4, lo_ro)\n",
    "iq_ex.set_if(ex_if)\n",
    "iq_ro.set_if(ro_if)\n",
    "iq_ex.set_sideband_id(-1)\n",
    "iq_ro.set_sideband_id(-1)\n",
    "iq_ex.set_frequency(Qubits[qubit_id]['F01'])\n",
    "iq_ro.set_frequency(Qubits[qubit_id]['Fr'])\n",
    "\n",
    "# К первому маркере первого канала тектроникса подсоединён триггер оцифровщика.\n",
    "# Надо подавать какой-нибудь триггер, что-ли.\n",
    "# А ещё нужно подавать клок. К сожалению наш оцифровщик не может в 1ГГц клок, ему нужен 500МГц клок.\n",
    "# Будем подавать 500 МГц с цифрового выхода тектроникса.\n",
    "awg_tek.set_marker1_low(-1, channel=1)\n",
    "awg_tek.set_marker2_low(-1, channel=1)\n",
    "awg_tek.set_marker1_high(2, channel=1)\n",
    "awg_tek.set_marker2_high(2, channel=1)\n",
    "awg_tek.set_marker1_low(-0.1, channel=2)\n",
    "awg_tek.set_marker2_low(-0.1, channel=2) \n",
    "awg_tek.set_marker1_high(0.1, channel=2) # с клока хватит и такой амплитуды\n",
    "awg_tek.set_marker2_high(0.1, channel=2) # с клока хватит и такой амплитуды\n",
    "\n",
    "ro_trg = awg_digital.awg_digital(awg_tek, 1)\n",
    "osc_trg = awg_digital.awg_digital(awg_tek, 5)\n",
    "ro_adc_clock = awg_digital.awg_digital(awg_tek, 2) #\n",
    "osc_adc_clock = awg_digital.awg_digital(awg_tek, 6) #\n",
    "\n",
    "# тупо клок\n",
    "ro_adc_clock.set_waveform(np.asarray([0,1]*int(ro_adc_clock.get_nop()/2), dtype=int))\n",
    "osc_adc_clock.set_waveform(np.asarray([0,1]*int(ro_adc_clock.get_nop()/2), dtype=int))\n",
    "awg_channels = {'iq_ex':iq_ex, 'iq_ro':iq_ro, 'ro_trg':ro_trg, 'osc_trg':osc_trg}\n",
    "trg_length = 4e-9\n",
    "pg = tomography_new.pulses(awg_channels)"
   ]
  },
  {
   "cell_type": "code",
   "execution_count": 16,
   "metadata": {
    "collapsed": true
   },
   "outputs": [],
   "source": [
    "# настройки оцифровщика\n",
    "adc.reset()            \n",
    "adc.set_timeout(10000)\n",
    "adc.set_clock(ro_clock)\n",
    "\n",
    "#adc.set_spc_samplerate(smp_rate)\n",
    "#External trigger\n",
    "adc.set_trigger_ext0_level0(0) # logical 0 value to 200 mV\n",
    "adc.set_trigger_ext0_level1(1300) # logical 1 value to 600 mV\n",
    "adc.trigger_termination_50Ohm()\n",
    "adc.trigger_mode_pos()\n",
    "adc.set_trigger_ext0_pulsewidth(0)\n",
    "adc.disable_trigger_output()\n",
    "adc.select_channel01()\n",
    "adc.set_multi_mode()\n",
    "#adc.set_segmentsize()\n",
    "adc.set_trigger_ORmask_tmask_ext0()\n",
    "adc.set_trigger_ANDmask_tmask_ext0()\n",
    "adc.set_trigger_ORmask_tmask_NO_ch0()\n",
    "adc.set_trigger_ORmask_tmask_NO_ch1()\n",
    "adc.set_trigger_ANDmask_tmask_NO_ch0()\n",
    "adc.set_trigger_ANDmask_tmask_NO_ch1()\n",
    "# усилитель на оцифровщике\n",
    "adc.set_input_amp_ch0(100)\n",
    "adc.set_input_amp_ch1(100)\n",
    "adc.set_input_offset_ch0(0)\n",
    "adc.set_input_offset_ch1(0)\n",
    "\n",
    "#External clock\n",
    "adc.set_reference_clock(adc.get_clock())\n",
    "\n",
    "# \"Измеритель средних прошедших импульсов\"\n",
    "# Просто усредняет всё по номеру сэмпла.\n",
    "adc_reducer = data_reduce.data_reduce(adc)\n",
    "adc_reducer.filters['Mean Voltage (AC)'] = data_reduce.mean_reducer_noavg(adc, 'Voltage', 0)\n",
    "adc_reducer.filters['S21+'] = data_reduce.mean_reducer_freq(adc, 'Voltage', 0, iq_ro.get_if())\n",
    "adc_reducer.filters['S21-'] = data_reduce.mean_reducer_freq(adc, 'Voltage', 0, -iq_ro.get_if())\n",
    "# Этот измеритель мы как правило используем когда точек не слишком много и все результаты его жизнедеятельности как правило \n",
    "# выглядят как ломаные. Чтобы было красиво, давайте лучше сделаем точки (а кривые потом получим фитованые)\n",
    "adc_reducer.extra_opts['scatter'] = True"
   ]
  },
  {
   "cell_type": "code",
   "execution_count": 17,
   "metadata": {},
   "outputs": [
    {
     "name": "stdout",
     "output_type": "stream",
     "text": [
      "D:/qtlab/ReiData/data/calibrations//IQ-if9.7e+07-rf6.8e+09-sb--1.pkl\n",
      "D:/qtlab/ReiData/data/calibrations//IQ-if7.5e+07-rf1e+10-sb--1.pkl\n"
     ]
    },
    {
     "data": {
      "text/plain": [
       "{'I': (0.24815696162357001+0.58801948760299316j),\n",
       " 'Q': (0.61533943731723295+0.45854018255237844j),\n",
       " 'dc': (0.13744921750395528-0.18661081811660854j),\n",
       " 'num_sidebands': 7,\n",
       " 'score': -60.106520981841484}"
      ]
     },
     "execution_count": 17,
     "metadata": {},
     "output_type": "execute_result"
    }
   ],
   "source": [
    "#sa.set_ref(0)\n",
    "iq_ex.get_calibration(sa)\n",
    "iq_ro.get_calibration(sa)"
   ]
  },
  {
   "cell_type": "code",
   "execution_count": 18,
   "metadata": {
    "collapsed": true
   },
   "outputs": [],
   "source": [
    "def set_adc_nop(ro_adc_length):\n",
    "    adc.stop()\n",
    "    signal_size = int(np.ceil(8./7.*(ro_adc_length)*adc.get_clock()))\n",
    "    nop = int( 2**np.ceil(np.log2(signal_size)) )\n",
    "    posttrigger = nop*7/8\n",
    "    print (nop)\n",
    "    adc.set_nop(nop)\n",
    "    adc.set_post_trigger(posttrigger)"
   ]
  },
  {
   "cell_type": "code",
   "execution_count": 65,
   "metadata": {},
   "outputs": [
    {
     "name": "stdout",
     "output_type": "stream",
     "text": [
      "512\n"
     ]
    },
    {
     "data": {
      "text/plain": [
       "True"
      ]
     },
     "execution_count": 65,
     "metadata": {},
     "output_type": "execute_result"
    }
   ],
   "source": [
    " \n",
    "# ro_amplitude = 0.5 Qubit #2 preliminary\n",
    "# ro_amplitude = 0.3 Qubit #3 preliminary\n",
    "ro_dac_amplitude = 0.2\n",
    "ro_dac_length = 0.3e-6 # вообще считывающие импульсы такой длины? тогда что такое adc \n",
    "# Ответ: ro_dac_length - это длительность генерируемого прямоугольного импульса\n",
    "# ro_adc_length - это минимальное время, в течении которого мы считываем этот импульс, когда он прошёл через криостат.\n",
    "# В криостате импульс деформируется и становится длинее. Сколько времени хотите его интегрировать, столько и ставьте.\n",
    "# Наверное, имеет смысл сюда поставить на 1-2 времени затухания фотона в резонатор больше, чем ro_dac_length\n",
    "#ro_adc_length = ro_dac_length*3\n",
    "#ro_adc_length=0.8e-6 use it for bench in the end\n",
    "ro_adc_length=0.8e-6 #\n",
    "#adc.set_nums(30000)\n",
    "#adc.set_software_nums_multi(1)\n",
    "adc.set_nums(20000)\n",
    "set_adc_nop(ro_adc_length)\n",
    "adc.set_nums(100000)\n",
    "#ro_adc_length\n",
    "#adc.set_nums"
   ]
  },
  {
   "cell_type": "code",
   "execution_count": 62,
   "metadata": {},
   "outputs": [
    {
     "data": {
      "text/plain": [
       "[<matplotlib.lines.Line2D at 0x231874d7390>]"
      ]
     },
     "execution_count": 62,
     "metadata": {},
     "output_type": "execute_result"
    }
   ],
   "source": [
    "plt.figure()\n",
    "sa.set_xlim(10.0e9, 10.1e9)\n",
    "plt.plot(*sa.get_tracedata())"
   ]
  },
  {
   "cell_type": "code",
   "execution_count": 57,
   "metadata": {
    "collapsed": true
   },
   "outputs": [],
   "source": [
    "adc.stop()"
   ]
  },
  {
   "cell_type": "code",
   "execution_count": 20,
   "metadata": {},
   "outputs": [
    {
     "data": {
      "application/vnd.jupyter.widget-view+json": {
       "model_id": "6a68619e15d5443b85128d54ba1327a5",
       "version_major": 2,
       "version_minor": 0
      },
      "text/plain": [
       "A Jupyter Widget"
      ]
     },
     "metadata": {},
     "output_type": "display_data"
    },
    {
     "name": "stdout",
     "output_type": "stream",
     "text": [
      "Started at:  Feb 06 2018 15:05:30\n"
     ]
    },
    {
     "ename": "KeyboardInterrupt",
     "evalue": "",
     "output_type": "error",
     "traceback": [
      "\u001b[1;31m---------------------------------------------------------------------------\u001b[0m",
      "\u001b[1;31mKeyboardInterrupt\u001b[0m                         Traceback (most recent call last)",
      "\u001b[1;32mC:\\ProgramData\\Anaconda3\\lib\\site-packages\\matplotlib\\backends\\backend_qt5agg.py\u001b[0m in \u001b[0;36m__draw_idle_agg\u001b[1;34m(self, *args)\u001b[0m\n\u001b[0;32m    162\u001b[0m         \u001b[1;32mtry\u001b[0m\u001b[1;33m:\u001b[0m\u001b[1;33m\u001b[0m\u001b[0m\n\u001b[0;32m    163\u001b[0m             \u001b[1;31m# actually do the drawing\u001b[0m\u001b[1;33m\u001b[0m\u001b[1;33m\u001b[0m\u001b[0m\n\u001b[1;32m--> 164\u001b[1;33m             \u001b[0mself\u001b[0m\u001b[1;33m.\u001b[0m\u001b[0mdraw\u001b[0m\u001b[1;33m(\u001b[0m\u001b[1;33m)\u001b[0m\u001b[1;33m\u001b[0m\u001b[0m\n\u001b[0m\u001b[0;32m    165\u001b[0m         \u001b[1;32mexcept\u001b[0m \u001b[0mException\u001b[0m\u001b[1;33m:\u001b[0m\u001b[1;33m\u001b[0m\u001b[0m\n\u001b[0;32m    166\u001b[0m             \u001b[1;31m# Uncaught exceptions are fatal for PyQt5, so catch them instead.\u001b[0m\u001b[1;33m\u001b[0m\u001b[1;33m\u001b[0m\u001b[0m\n",
      "\u001b[1;32mC:\\ProgramData\\Anaconda3\\lib\\site-packages\\matplotlib\\backends\\backend_qt5agg.py\u001b[0m in \u001b[0;36mdraw\u001b[1;34m(self)\u001b[0m\n\u001b[0;32m    131\u001b[0m         \u001b[0mself\u001b[0m\u001b[1;33m.\u001b[0m\u001b[0m_agg_is_drawing\u001b[0m \u001b[1;33m=\u001b[0m \u001b[1;32mTrue\u001b[0m\u001b[1;33m\u001b[0m\u001b[0m\n\u001b[0;32m    132\u001b[0m         \u001b[1;32mtry\u001b[0m\u001b[1;33m:\u001b[0m\u001b[1;33m\u001b[0m\u001b[0m\n\u001b[1;32m--> 133\u001b[1;33m             \u001b[0msuper\u001b[0m\u001b[1;33m(\u001b[0m\u001b[0mFigureCanvasQTAggBase\u001b[0m\u001b[1;33m,\u001b[0m \u001b[0mself\u001b[0m\u001b[1;33m)\u001b[0m\u001b[1;33m.\u001b[0m\u001b[0mdraw\u001b[0m\u001b[1;33m(\u001b[0m\u001b[1;33m)\u001b[0m\u001b[1;33m\u001b[0m\u001b[0m\n\u001b[0m\u001b[0;32m    134\u001b[0m         \u001b[1;32mfinally\u001b[0m\u001b[1;33m:\u001b[0m\u001b[1;33m\u001b[0m\u001b[0m\n\u001b[0;32m    135\u001b[0m             \u001b[0mself\u001b[0m\u001b[1;33m.\u001b[0m\u001b[0m_agg_is_drawing\u001b[0m \u001b[1;33m=\u001b[0m \u001b[1;32mFalse\u001b[0m\u001b[1;33m\u001b[0m\u001b[0m\n",
      "\u001b[1;32mC:\\ProgramData\\Anaconda3\\lib\\site-packages\\matplotlib\\backends\\backend_agg.py\u001b[0m in \u001b[0;36mdraw\u001b[1;34m(self)\u001b[0m\n\u001b[0;32m    428\u001b[0m             \u001b[1;31m# if toolbar:\u001b[0m\u001b[1;33m\u001b[0m\u001b[1;33m\u001b[0m\u001b[0m\n\u001b[0;32m    429\u001b[0m             \u001b[1;31m#     toolbar.set_cursor(cursors.WAIT)\u001b[0m\u001b[1;33m\u001b[0m\u001b[1;33m\u001b[0m\u001b[0m\n\u001b[1;32m--> 430\u001b[1;33m             \u001b[0mself\u001b[0m\u001b[1;33m.\u001b[0m\u001b[0mfigure\u001b[0m\u001b[1;33m.\u001b[0m\u001b[0mdraw\u001b[0m\u001b[1;33m(\u001b[0m\u001b[0mself\u001b[0m\u001b[1;33m.\u001b[0m\u001b[0mrenderer\u001b[0m\u001b[1;33m)\u001b[0m\u001b[1;33m\u001b[0m\u001b[0m\n\u001b[0m\u001b[0;32m    431\u001b[0m         \u001b[1;32mfinally\u001b[0m\u001b[1;33m:\u001b[0m\u001b[1;33m\u001b[0m\u001b[0m\n\u001b[0;32m    432\u001b[0m             \u001b[1;31m# if toolbar:\u001b[0m\u001b[1;33m\u001b[0m\u001b[1;33m\u001b[0m\u001b[0m\n",
      "\u001b[1;32mC:\\ProgramData\\Anaconda3\\lib\\site-packages\\matplotlib\\artist.py\u001b[0m in \u001b[0;36mdraw_wrapper\u001b[1;34m(artist, renderer, *args, **kwargs)\u001b[0m\n\u001b[0;32m     53\u001b[0m                 \u001b[0mrenderer\u001b[0m\u001b[1;33m.\u001b[0m\u001b[0mstart_filter\u001b[0m\u001b[1;33m(\u001b[0m\u001b[1;33m)\u001b[0m\u001b[1;33m\u001b[0m\u001b[0m\n\u001b[0;32m     54\u001b[0m \u001b[1;33m\u001b[0m\u001b[0m\n\u001b[1;32m---> 55\u001b[1;33m             \u001b[1;32mreturn\u001b[0m \u001b[0mdraw\u001b[0m\u001b[1;33m(\u001b[0m\u001b[0martist\u001b[0m\u001b[1;33m,\u001b[0m \u001b[0mrenderer\u001b[0m\u001b[1;33m,\u001b[0m \u001b[1;33m*\u001b[0m\u001b[0margs\u001b[0m\u001b[1;33m,\u001b[0m \u001b[1;33m**\u001b[0m\u001b[0mkwargs\u001b[0m\u001b[1;33m)\u001b[0m\u001b[1;33m\u001b[0m\u001b[0m\n\u001b[0m\u001b[0;32m     56\u001b[0m         \u001b[1;32mfinally\u001b[0m\u001b[1;33m:\u001b[0m\u001b[1;33m\u001b[0m\u001b[0m\n\u001b[0;32m     57\u001b[0m             \u001b[1;32mif\u001b[0m \u001b[0martist\u001b[0m\u001b[1;33m.\u001b[0m\u001b[0mget_agg_filter\u001b[0m\u001b[1;33m(\u001b[0m\u001b[1;33m)\u001b[0m \u001b[1;32mis\u001b[0m \u001b[1;32mnot\u001b[0m \u001b[1;32mNone\u001b[0m\u001b[1;33m:\u001b[0m\u001b[1;33m\u001b[0m\u001b[0m\n",
      "\u001b[1;32mC:\\ProgramData\\Anaconda3\\lib\\site-packages\\matplotlib\\figure.py\u001b[0m in \u001b[0;36mdraw\u001b[1;34m(self, renderer)\u001b[0m\n\u001b[0;32m   1297\u001b[0m \u001b[1;33m\u001b[0m\u001b[0m\n\u001b[0;32m   1298\u001b[0m             mimage._draw_list_compositing_images(\n\u001b[1;32m-> 1299\u001b[1;33m                 renderer, self, artists, self.suppressComposite)\n\u001b[0m\u001b[0;32m   1300\u001b[0m \u001b[1;33m\u001b[0m\u001b[0m\n\u001b[0;32m   1301\u001b[0m             \u001b[0mrenderer\u001b[0m\u001b[1;33m.\u001b[0m\u001b[0mclose_group\u001b[0m\u001b[1;33m(\u001b[0m\u001b[1;34m'figure'\u001b[0m\u001b[1;33m)\u001b[0m\u001b[1;33m\u001b[0m\u001b[0m\n",
      "\u001b[1;32mC:\\ProgramData\\Anaconda3\\lib\\site-packages\\matplotlib\\image.py\u001b[0m in \u001b[0;36m_draw_list_compositing_images\u001b[1;34m(renderer, parent, artists, suppress_composite)\u001b[0m\n\u001b[0;32m    136\u001b[0m     \u001b[1;32mif\u001b[0m \u001b[0mnot_composite\u001b[0m \u001b[1;32mor\u001b[0m \u001b[1;32mnot\u001b[0m \u001b[0mhas_images\u001b[0m\u001b[1;33m:\u001b[0m\u001b[1;33m\u001b[0m\u001b[0m\n\u001b[0;32m    137\u001b[0m         \u001b[1;32mfor\u001b[0m \u001b[0ma\u001b[0m \u001b[1;32min\u001b[0m \u001b[0martists\u001b[0m\u001b[1;33m:\u001b[0m\u001b[1;33m\u001b[0m\u001b[0m\n\u001b[1;32m--> 138\u001b[1;33m             \u001b[0ma\u001b[0m\u001b[1;33m.\u001b[0m\u001b[0mdraw\u001b[0m\u001b[1;33m(\u001b[0m\u001b[0mrenderer\u001b[0m\u001b[1;33m)\u001b[0m\u001b[1;33m\u001b[0m\u001b[0m\n\u001b[0m\u001b[0;32m    139\u001b[0m     \u001b[1;32melse\u001b[0m\u001b[1;33m:\u001b[0m\u001b[1;33m\u001b[0m\u001b[0m\n\u001b[0;32m    140\u001b[0m         \u001b[1;31m# Composite any adjacent images together\u001b[0m\u001b[1;33m\u001b[0m\u001b[1;33m\u001b[0m\u001b[0m\n",
      "\u001b[1;32mC:\\ProgramData\\Anaconda3\\lib\\site-packages\\matplotlib\\artist.py\u001b[0m in \u001b[0;36mdraw_wrapper\u001b[1;34m(artist, renderer, *args, **kwargs)\u001b[0m\n\u001b[0;32m     53\u001b[0m                 \u001b[0mrenderer\u001b[0m\u001b[1;33m.\u001b[0m\u001b[0mstart_filter\u001b[0m\u001b[1;33m(\u001b[0m\u001b[1;33m)\u001b[0m\u001b[1;33m\u001b[0m\u001b[0m\n\u001b[0;32m     54\u001b[0m \u001b[1;33m\u001b[0m\u001b[0m\n\u001b[1;32m---> 55\u001b[1;33m             \u001b[1;32mreturn\u001b[0m \u001b[0mdraw\u001b[0m\u001b[1;33m(\u001b[0m\u001b[0martist\u001b[0m\u001b[1;33m,\u001b[0m \u001b[0mrenderer\u001b[0m\u001b[1;33m,\u001b[0m \u001b[1;33m*\u001b[0m\u001b[0margs\u001b[0m\u001b[1;33m,\u001b[0m \u001b[1;33m**\u001b[0m\u001b[0mkwargs\u001b[0m\u001b[1;33m)\u001b[0m\u001b[1;33m\u001b[0m\u001b[0m\n\u001b[0m\u001b[0;32m     56\u001b[0m         \u001b[1;32mfinally\u001b[0m\u001b[1;33m:\u001b[0m\u001b[1;33m\u001b[0m\u001b[0m\n\u001b[0;32m     57\u001b[0m             \u001b[1;32mif\u001b[0m \u001b[0martist\u001b[0m\u001b[1;33m.\u001b[0m\u001b[0mget_agg_filter\u001b[0m\u001b[1;33m(\u001b[0m\u001b[1;33m)\u001b[0m \u001b[1;32mis\u001b[0m \u001b[1;32mnot\u001b[0m \u001b[1;32mNone\u001b[0m\u001b[1;33m:\u001b[0m\u001b[1;33m\u001b[0m\u001b[0m\n",
      "\u001b[1;32mC:\\ProgramData\\Anaconda3\\lib\\site-packages\\matplotlib\\axes\\_base.py\u001b[0m in \u001b[0;36mdraw\u001b[1;34m(self, renderer, inframe)\u001b[0m\n\u001b[0;32m   2435\u001b[0m             \u001b[0mrenderer\u001b[0m\u001b[1;33m.\u001b[0m\u001b[0mstop_rasterizing\u001b[0m\u001b[1;33m(\u001b[0m\u001b[1;33m)\u001b[0m\u001b[1;33m\u001b[0m\u001b[0m\n\u001b[0;32m   2436\u001b[0m \u001b[1;33m\u001b[0m\u001b[0m\n\u001b[1;32m-> 2437\u001b[1;33m         \u001b[0mmimage\u001b[0m\u001b[1;33m.\u001b[0m\u001b[0m_draw_list_compositing_images\u001b[0m\u001b[1;33m(\u001b[0m\u001b[0mrenderer\u001b[0m\u001b[1;33m,\u001b[0m \u001b[0mself\u001b[0m\u001b[1;33m,\u001b[0m \u001b[0martists\u001b[0m\u001b[1;33m)\u001b[0m\u001b[1;33m\u001b[0m\u001b[0m\n\u001b[0m\u001b[0;32m   2438\u001b[0m \u001b[1;33m\u001b[0m\u001b[0m\n\u001b[0;32m   2439\u001b[0m         \u001b[0mrenderer\u001b[0m\u001b[1;33m.\u001b[0m\u001b[0mclose_group\u001b[0m\u001b[1;33m(\u001b[0m\u001b[1;34m'axes'\u001b[0m\u001b[1;33m)\u001b[0m\u001b[1;33m\u001b[0m\u001b[0m\n",
      "\u001b[1;32mC:\\ProgramData\\Anaconda3\\lib\\site-packages\\matplotlib\\image.py\u001b[0m in \u001b[0;36m_draw_list_compositing_images\u001b[1;34m(renderer, parent, artists, suppress_composite)\u001b[0m\n\u001b[0;32m    136\u001b[0m     \u001b[1;32mif\u001b[0m \u001b[0mnot_composite\u001b[0m \u001b[1;32mor\u001b[0m \u001b[1;32mnot\u001b[0m \u001b[0mhas_images\u001b[0m\u001b[1;33m:\u001b[0m\u001b[1;33m\u001b[0m\u001b[0m\n\u001b[0;32m    137\u001b[0m         \u001b[1;32mfor\u001b[0m \u001b[0ma\u001b[0m \u001b[1;32min\u001b[0m \u001b[0martists\u001b[0m\u001b[1;33m:\u001b[0m\u001b[1;33m\u001b[0m\u001b[0m\n\u001b[1;32m--> 138\u001b[1;33m             \u001b[0ma\u001b[0m\u001b[1;33m.\u001b[0m\u001b[0mdraw\u001b[0m\u001b[1;33m(\u001b[0m\u001b[0mrenderer\u001b[0m\u001b[1;33m)\u001b[0m\u001b[1;33m\u001b[0m\u001b[0m\n\u001b[0m\u001b[0;32m    139\u001b[0m     \u001b[1;32melse\u001b[0m\u001b[1;33m:\u001b[0m\u001b[1;33m\u001b[0m\u001b[0m\n\u001b[0;32m    140\u001b[0m         \u001b[1;31m# Composite any adjacent images together\u001b[0m\u001b[1;33m\u001b[0m\u001b[1;33m\u001b[0m\u001b[0m\n",
      "\u001b[1;32mC:\\ProgramData\\Anaconda3\\lib\\site-packages\\matplotlib\\artist.py\u001b[0m in \u001b[0;36mdraw_wrapper\u001b[1;34m(artist, renderer, *args, **kwargs)\u001b[0m\n\u001b[0;32m     53\u001b[0m                 \u001b[0mrenderer\u001b[0m\u001b[1;33m.\u001b[0m\u001b[0mstart_filter\u001b[0m\u001b[1;33m(\u001b[0m\u001b[1;33m)\u001b[0m\u001b[1;33m\u001b[0m\u001b[0m\n\u001b[0;32m     54\u001b[0m \u001b[1;33m\u001b[0m\u001b[0m\n\u001b[1;32m---> 55\u001b[1;33m             \u001b[1;32mreturn\u001b[0m \u001b[0mdraw\u001b[0m\u001b[1;33m(\u001b[0m\u001b[0martist\u001b[0m\u001b[1;33m,\u001b[0m \u001b[0mrenderer\u001b[0m\u001b[1;33m,\u001b[0m \u001b[1;33m*\u001b[0m\u001b[0margs\u001b[0m\u001b[1;33m,\u001b[0m \u001b[1;33m**\u001b[0m\u001b[0mkwargs\u001b[0m\u001b[1;33m)\u001b[0m\u001b[1;33m\u001b[0m\u001b[0m\n\u001b[0m\u001b[0;32m     56\u001b[0m         \u001b[1;32mfinally\u001b[0m\u001b[1;33m:\u001b[0m\u001b[1;33m\u001b[0m\u001b[0m\n\u001b[0;32m     57\u001b[0m             \u001b[1;32mif\u001b[0m \u001b[0martist\u001b[0m\u001b[1;33m.\u001b[0m\u001b[0mget_agg_filter\u001b[0m\u001b[1;33m(\u001b[0m\u001b[1;33m)\u001b[0m \u001b[1;32mis\u001b[0m \u001b[1;32mnot\u001b[0m \u001b[1;32mNone\u001b[0m\u001b[1;33m:\u001b[0m\u001b[1;33m\u001b[0m\u001b[0m\n",
      "\u001b[1;32mC:\\ProgramData\\Anaconda3\\lib\\site-packages\\matplotlib\\axis.py\u001b[0m in \u001b[0;36mdraw\u001b[1;34m(self, renderer, *args, **kwargs)\u001b[0m\n\u001b[0;32m   1136\u001b[0m \u001b[1;33m\u001b[0m\u001b[0m\n\u001b[0;32m   1137\u001b[0m         \u001b[1;32mfor\u001b[0m \u001b[0mtick\u001b[0m \u001b[1;32min\u001b[0m \u001b[0mticks_to_draw\u001b[0m\u001b[1;33m:\u001b[0m\u001b[1;33m\u001b[0m\u001b[0m\n\u001b[1;32m-> 1138\u001b[1;33m             \u001b[0mtick\u001b[0m\u001b[1;33m.\u001b[0m\u001b[0mdraw\u001b[0m\u001b[1;33m(\u001b[0m\u001b[0mrenderer\u001b[0m\u001b[1;33m)\u001b[0m\u001b[1;33m\u001b[0m\u001b[0m\n\u001b[0m\u001b[0;32m   1139\u001b[0m \u001b[1;33m\u001b[0m\u001b[0m\n\u001b[0;32m   1140\u001b[0m         \u001b[1;31m# scale up the axis label box to also find the neighbors, not\u001b[0m\u001b[1;33m\u001b[0m\u001b[1;33m\u001b[0m\u001b[0m\n",
      "\u001b[1;32mC:\\ProgramData\\Anaconda3\\lib\\site-packages\\matplotlib\\artist.py\u001b[0m in \u001b[0;36mdraw_wrapper\u001b[1;34m(artist, renderer, *args, **kwargs)\u001b[0m\n\u001b[0;32m     53\u001b[0m                 \u001b[0mrenderer\u001b[0m\u001b[1;33m.\u001b[0m\u001b[0mstart_filter\u001b[0m\u001b[1;33m(\u001b[0m\u001b[1;33m)\u001b[0m\u001b[1;33m\u001b[0m\u001b[0m\n\u001b[0;32m     54\u001b[0m \u001b[1;33m\u001b[0m\u001b[0m\n\u001b[1;32m---> 55\u001b[1;33m             \u001b[1;32mreturn\u001b[0m \u001b[0mdraw\u001b[0m\u001b[1;33m(\u001b[0m\u001b[0martist\u001b[0m\u001b[1;33m,\u001b[0m \u001b[0mrenderer\u001b[0m\u001b[1;33m,\u001b[0m \u001b[1;33m*\u001b[0m\u001b[0margs\u001b[0m\u001b[1;33m,\u001b[0m \u001b[1;33m**\u001b[0m\u001b[0mkwargs\u001b[0m\u001b[1;33m)\u001b[0m\u001b[1;33m\u001b[0m\u001b[0m\n\u001b[0m\u001b[0;32m     56\u001b[0m         \u001b[1;32mfinally\u001b[0m\u001b[1;33m:\u001b[0m\u001b[1;33m\u001b[0m\u001b[0m\n\u001b[0;32m     57\u001b[0m             \u001b[1;32mif\u001b[0m \u001b[0martist\u001b[0m\u001b[1;33m.\u001b[0m\u001b[0mget_agg_filter\u001b[0m\u001b[1;33m(\u001b[0m\u001b[1;33m)\u001b[0m \u001b[1;32mis\u001b[0m \u001b[1;32mnot\u001b[0m \u001b[1;32mNone\u001b[0m\u001b[1;33m:\u001b[0m\u001b[1;33m\u001b[0m\u001b[0m\n",
      "\u001b[1;32mC:\\ProgramData\\Anaconda3\\lib\\site-packages\\matplotlib\\axis.py\u001b[0m in \u001b[0;36mdraw\u001b[1;34m(self, renderer)\u001b[0m\n\u001b[0;32m    275\u001b[0m             \u001b[0mself\u001b[0m\u001b[1;33m.\u001b[0m\u001b[0mgridline\u001b[0m\u001b[1;33m.\u001b[0m\u001b[0mdraw\u001b[0m\u001b[1;33m(\u001b[0m\u001b[0mrenderer\u001b[0m\u001b[1;33m)\u001b[0m\u001b[1;33m\u001b[0m\u001b[0m\n\u001b[0;32m    276\u001b[0m         \u001b[1;32mif\u001b[0m \u001b[0mself\u001b[0m\u001b[1;33m.\u001b[0m\u001b[0mtick1On\u001b[0m\u001b[1;33m:\u001b[0m\u001b[1;33m\u001b[0m\u001b[0m\n\u001b[1;32m--> 277\u001b[1;33m             \u001b[0mself\u001b[0m\u001b[1;33m.\u001b[0m\u001b[0mtick1line\u001b[0m\u001b[1;33m.\u001b[0m\u001b[0mdraw\u001b[0m\u001b[1;33m(\u001b[0m\u001b[0mrenderer\u001b[0m\u001b[1;33m)\u001b[0m\u001b[1;33m\u001b[0m\u001b[0m\n\u001b[0m\u001b[0;32m    278\u001b[0m         \u001b[1;32mif\u001b[0m \u001b[0mself\u001b[0m\u001b[1;33m.\u001b[0m\u001b[0mtick2On\u001b[0m\u001b[1;33m:\u001b[0m\u001b[1;33m\u001b[0m\u001b[0m\n\u001b[0;32m    279\u001b[0m             \u001b[0mself\u001b[0m\u001b[1;33m.\u001b[0m\u001b[0mtick2line\u001b[0m\u001b[1;33m.\u001b[0m\u001b[0mdraw\u001b[0m\u001b[1;33m(\u001b[0m\u001b[0mrenderer\u001b[0m\u001b[1;33m)\u001b[0m\u001b[1;33m\u001b[0m\u001b[0m\n",
      "\u001b[1;32mC:\\ProgramData\\Anaconda3\\lib\\site-packages\\matplotlib\\artist.py\u001b[0m in \u001b[0;36mdraw_wrapper\u001b[1;34m(artist, renderer, *args, **kwargs)\u001b[0m\n\u001b[0;32m     53\u001b[0m                 \u001b[0mrenderer\u001b[0m\u001b[1;33m.\u001b[0m\u001b[0mstart_filter\u001b[0m\u001b[1;33m(\u001b[0m\u001b[1;33m)\u001b[0m\u001b[1;33m\u001b[0m\u001b[0m\n\u001b[0;32m     54\u001b[0m \u001b[1;33m\u001b[0m\u001b[0m\n\u001b[1;32m---> 55\u001b[1;33m             \u001b[1;32mreturn\u001b[0m \u001b[0mdraw\u001b[0m\u001b[1;33m(\u001b[0m\u001b[0martist\u001b[0m\u001b[1;33m,\u001b[0m \u001b[0mrenderer\u001b[0m\u001b[1;33m,\u001b[0m \u001b[1;33m*\u001b[0m\u001b[0margs\u001b[0m\u001b[1;33m,\u001b[0m \u001b[1;33m**\u001b[0m\u001b[0mkwargs\u001b[0m\u001b[1;33m)\u001b[0m\u001b[1;33m\u001b[0m\u001b[0m\n\u001b[0m\u001b[0;32m     56\u001b[0m         \u001b[1;32mfinally\u001b[0m\u001b[1;33m:\u001b[0m\u001b[1;33m\u001b[0m\u001b[0m\n\u001b[0;32m     57\u001b[0m             \u001b[1;32mif\u001b[0m \u001b[0martist\u001b[0m\u001b[1;33m.\u001b[0m\u001b[0mget_agg_filter\u001b[0m\u001b[1;33m(\u001b[0m\u001b[1;33m)\u001b[0m \u001b[1;32mis\u001b[0m \u001b[1;32mnot\u001b[0m \u001b[1;32mNone\u001b[0m\u001b[1;33m:\u001b[0m\u001b[1;33m\u001b[0m\u001b[0m\n",
      "\u001b[1;32mC:\\ProgramData\\Anaconda3\\lib\\site-packages\\matplotlib\\lines.py\u001b[0m in \u001b[0;36mdraw\u001b[1;34m(self, renderer)\u001b[0m\n\u001b[0;32m    834\u001b[0m                 \u001b[1;32melse\u001b[0m\u001b[1;33m:\u001b[0m\u001b[1;33m\u001b[0m\u001b[0m\n\u001b[0;32m    835\u001b[0m                     \u001b[1;31m# Don't scale for pixels, and don't stroke them\u001b[0m\u001b[1;33m\u001b[0m\u001b[1;33m\u001b[0m\u001b[0m\n\u001b[1;32m--> 836\u001b[1;33m                     \u001b[0mmarker_trans\u001b[0m \u001b[1;33m=\u001b[0m \u001b[0mmarker_trans\u001b[0m\u001b[1;33m.\u001b[0m\u001b[0mscale\u001b[0m\u001b[1;33m(\u001b[0m\u001b[0mw\u001b[0m\u001b[1;33m)\u001b[0m\u001b[1;33m\u001b[0m\u001b[0m\n\u001b[0m\u001b[0;32m    837\u001b[0m \u001b[1;33m\u001b[0m\u001b[0m\n\u001b[0;32m    838\u001b[0m                 renderer.draw_markers(gc, marker_path, marker_trans,\n",
      "\u001b[1;32mC:\\ProgramData\\Anaconda3\\lib\\site-packages\\matplotlib\\transforms.py\u001b[0m in \u001b[0;36mscale\u001b[1;34m(self, sx, sy)\u001b[0m\n\u001b[0;32m   2071\u001b[0m         scale_mtx = np.array(\n\u001b[0;32m   2072\u001b[0m             [[sx, 0.0, 0.0], [0.0, sy, 0.0], [0.0, 0.0, 1.0]], float)\n\u001b[1;32m-> 2073\u001b[1;33m         \u001b[0mself\u001b[0m\u001b[1;33m.\u001b[0m\u001b[0m_mtx\u001b[0m \u001b[1;33m=\u001b[0m \u001b[0mnp\u001b[0m\u001b[1;33m.\u001b[0m\u001b[0mdot\u001b[0m\u001b[1;33m(\u001b[0m\u001b[0mscale_mtx\u001b[0m\u001b[1;33m,\u001b[0m \u001b[0mself\u001b[0m\u001b[1;33m.\u001b[0m\u001b[0m_mtx\u001b[0m\u001b[1;33m)\u001b[0m\u001b[1;33m\u001b[0m\u001b[0m\n\u001b[0m\u001b[0;32m   2074\u001b[0m         \u001b[0mself\u001b[0m\u001b[1;33m.\u001b[0m\u001b[0minvalidate\u001b[0m\u001b[1;33m(\u001b[0m\u001b[1;33m)\u001b[0m\u001b[1;33m\u001b[0m\u001b[0m\n\u001b[0;32m   2075\u001b[0m         \u001b[1;32mreturn\u001b[0m \u001b[0mself\u001b[0m\u001b[1;33m\u001b[0m\u001b[0m\n",
      "\u001b[1;31mKeyboardInterrupt\u001b[0m: "
     ]
    },
    {
     "ename": "KeyboardInterrupt",
     "evalue": "",
     "output_type": "error",
     "traceback": [
      "\u001b[1;31m---------------------------------------------------------------------------\u001b[0m",
      "\u001b[1;31mKeyboardInterrupt\u001b[0m                         Traceback (most recent call last)",
      "\u001b[1;32mC:\\ProgramData\\Anaconda3\\lib\\site-packages\\matplotlib\\backends\\backend_qt5agg.py\u001b[0m in \u001b[0;36m__draw_idle_agg\u001b[1;34m(self, *args)\u001b[0m\n\u001b[0;32m    162\u001b[0m         \u001b[1;32mtry\u001b[0m\u001b[1;33m:\u001b[0m\u001b[1;33m\u001b[0m\u001b[0m\n\u001b[0;32m    163\u001b[0m             \u001b[1;31m# actually do the drawing\u001b[0m\u001b[1;33m\u001b[0m\u001b[1;33m\u001b[0m\u001b[0m\n\u001b[1;32m--> 164\u001b[1;33m             \u001b[0mself\u001b[0m\u001b[1;33m.\u001b[0m\u001b[0mdraw\u001b[0m\u001b[1;33m(\u001b[0m\u001b[1;33m)\u001b[0m\u001b[1;33m\u001b[0m\u001b[0m\n\u001b[0m\u001b[0;32m    165\u001b[0m         \u001b[1;32mexcept\u001b[0m \u001b[0mException\u001b[0m\u001b[1;33m:\u001b[0m\u001b[1;33m\u001b[0m\u001b[0m\n\u001b[0;32m    166\u001b[0m             \u001b[1;31m# Uncaught exceptions are fatal for PyQt5, so catch them instead.\u001b[0m\u001b[1;33m\u001b[0m\u001b[1;33m\u001b[0m\u001b[0m\n",
      "\u001b[1;32mC:\\ProgramData\\Anaconda3\\lib\\site-packages\\matplotlib\\backends\\backend_qt5agg.py\u001b[0m in \u001b[0;36mdraw\u001b[1;34m(self)\u001b[0m\n\u001b[0;32m    131\u001b[0m         \u001b[0mself\u001b[0m\u001b[1;33m.\u001b[0m\u001b[0m_agg_is_drawing\u001b[0m \u001b[1;33m=\u001b[0m \u001b[1;32mTrue\u001b[0m\u001b[1;33m\u001b[0m\u001b[0m\n\u001b[0;32m    132\u001b[0m         \u001b[1;32mtry\u001b[0m\u001b[1;33m:\u001b[0m\u001b[1;33m\u001b[0m\u001b[0m\n\u001b[1;32m--> 133\u001b[1;33m             \u001b[0msuper\u001b[0m\u001b[1;33m(\u001b[0m\u001b[0mFigureCanvasQTAggBase\u001b[0m\u001b[1;33m,\u001b[0m \u001b[0mself\u001b[0m\u001b[1;33m)\u001b[0m\u001b[1;33m.\u001b[0m\u001b[0mdraw\u001b[0m\u001b[1;33m(\u001b[0m\u001b[1;33m)\u001b[0m\u001b[1;33m\u001b[0m\u001b[0m\n\u001b[0m\u001b[0;32m    134\u001b[0m         \u001b[1;32mfinally\u001b[0m\u001b[1;33m:\u001b[0m\u001b[1;33m\u001b[0m\u001b[0m\n\u001b[0;32m    135\u001b[0m             \u001b[0mself\u001b[0m\u001b[1;33m.\u001b[0m\u001b[0m_agg_is_drawing\u001b[0m \u001b[1;33m=\u001b[0m \u001b[1;32mFalse\u001b[0m\u001b[1;33m\u001b[0m\u001b[0m\n",
      "\u001b[1;32mC:\\ProgramData\\Anaconda3\\lib\\site-packages\\matplotlib\\backends\\backend_agg.py\u001b[0m in \u001b[0;36mdraw\u001b[1;34m(self)\u001b[0m\n\u001b[0;32m    428\u001b[0m             \u001b[1;31m# if toolbar:\u001b[0m\u001b[1;33m\u001b[0m\u001b[1;33m\u001b[0m\u001b[0m\n\u001b[0;32m    429\u001b[0m             \u001b[1;31m#     toolbar.set_cursor(cursors.WAIT)\u001b[0m\u001b[1;33m\u001b[0m\u001b[1;33m\u001b[0m\u001b[0m\n\u001b[1;32m--> 430\u001b[1;33m             \u001b[0mself\u001b[0m\u001b[1;33m.\u001b[0m\u001b[0mfigure\u001b[0m\u001b[1;33m.\u001b[0m\u001b[0mdraw\u001b[0m\u001b[1;33m(\u001b[0m\u001b[0mself\u001b[0m\u001b[1;33m.\u001b[0m\u001b[0mrenderer\u001b[0m\u001b[1;33m)\u001b[0m\u001b[1;33m\u001b[0m\u001b[0m\n\u001b[0m\u001b[0;32m    431\u001b[0m         \u001b[1;32mfinally\u001b[0m\u001b[1;33m:\u001b[0m\u001b[1;33m\u001b[0m\u001b[0m\n\u001b[0;32m    432\u001b[0m             \u001b[1;31m# if toolbar:\u001b[0m\u001b[1;33m\u001b[0m\u001b[1;33m\u001b[0m\u001b[0m\n",
      "\u001b[1;32mC:\\ProgramData\\Anaconda3\\lib\\site-packages\\matplotlib\\artist.py\u001b[0m in \u001b[0;36mdraw_wrapper\u001b[1;34m(artist, renderer, *args, **kwargs)\u001b[0m\n\u001b[0;32m     53\u001b[0m                 \u001b[0mrenderer\u001b[0m\u001b[1;33m.\u001b[0m\u001b[0mstart_filter\u001b[0m\u001b[1;33m(\u001b[0m\u001b[1;33m)\u001b[0m\u001b[1;33m\u001b[0m\u001b[0m\n\u001b[0;32m     54\u001b[0m \u001b[1;33m\u001b[0m\u001b[0m\n\u001b[1;32m---> 55\u001b[1;33m             \u001b[1;32mreturn\u001b[0m \u001b[0mdraw\u001b[0m\u001b[1;33m(\u001b[0m\u001b[0martist\u001b[0m\u001b[1;33m,\u001b[0m \u001b[0mrenderer\u001b[0m\u001b[1;33m,\u001b[0m \u001b[1;33m*\u001b[0m\u001b[0margs\u001b[0m\u001b[1;33m,\u001b[0m \u001b[1;33m**\u001b[0m\u001b[0mkwargs\u001b[0m\u001b[1;33m)\u001b[0m\u001b[1;33m\u001b[0m\u001b[0m\n\u001b[0m\u001b[0;32m     56\u001b[0m         \u001b[1;32mfinally\u001b[0m\u001b[1;33m:\u001b[0m\u001b[1;33m\u001b[0m\u001b[0m\n\u001b[0;32m     57\u001b[0m             \u001b[1;32mif\u001b[0m \u001b[0martist\u001b[0m\u001b[1;33m.\u001b[0m\u001b[0mget_agg_filter\u001b[0m\u001b[1;33m(\u001b[0m\u001b[1;33m)\u001b[0m \u001b[1;32mis\u001b[0m \u001b[1;32mnot\u001b[0m \u001b[1;32mNone\u001b[0m\u001b[1;33m:\u001b[0m\u001b[1;33m\u001b[0m\u001b[0m\n",
      "\u001b[1;32mC:\\ProgramData\\Anaconda3\\lib\\site-packages\\matplotlib\\figure.py\u001b[0m in \u001b[0;36mdraw\u001b[1;34m(self, renderer)\u001b[0m\n\u001b[0;32m   1297\u001b[0m \u001b[1;33m\u001b[0m\u001b[0m\n\u001b[0;32m   1298\u001b[0m             mimage._draw_list_compositing_images(\n\u001b[1;32m-> 1299\u001b[1;33m                 renderer, self, artists, self.suppressComposite)\n\u001b[0m\u001b[0;32m   1300\u001b[0m \u001b[1;33m\u001b[0m\u001b[0m\n\u001b[0;32m   1301\u001b[0m             \u001b[0mrenderer\u001b[0m\u001b[1;33m.\u001b[0m\u001b[0mclose_group\u001b[0m\u001b[1;33m(\u001b[0m\u001b[1;34m'figure'\u001b[0m\u001b[1;33m)\u001b[0m\u001b[1;33m\u001b[0m\u001b[0m\n",
      "\u001b[1;32mC:\\ProgramData\\Anaconda3\\lib\\site-packages\\matplotlib\\image.py\u001b[0m in \u001b[0;36m_draw_list_compositing_images\u001b[1;34m(renderer, parent, artists, suppress_composite)\u001b[0m\n\u001b[0;32m    136\u001b[0m     \u001b[1;32mif\u001b[0m \u001b[0mnot_composite\u001b[0m \u001b[1;32mor\u001b[0m \u001b[1;32mnot\u001b[0m \u001b[0mhas_images\u001b[0m\u001b[1;33m:\u001b[0m\u001b[1;33m\u001b[0m\u001b[0m\n\u001b[0;32m    137\u001b[0m         \u001b[1;32mfor\u001b[0m \u001b[0ma\u001b[0m \u001b[1;32min\u001b[0m \u001b[0martists\u001b[0m\u001b[1;33m:\u001b[0m\u001b[1;33m\u001b[0m\u001b[0m\n\u001b[1;32m--> 138\u001b[1;33m             \u001b[0ma\u001b[0m\u001b[1;33m.\u001b[0m\u001b[0mdraw\u001b[0m\u001b[1;33m(\u001b[0m\u001b[0mrenderer\u001b[0m\u001b[1;33m)\u001b[0m\u001b[1;33m\u001b[0m\u001b[0m\n\u001b[0m\u001b[0;32m    139\u001b[0m     \u001b[1;32melse\u001b[0m\u001b[1;33m:\u001b[0m\u001b[1;33m\u001b[0m\u001b[0m\n\u001b[0;32m    140\u001b[0m         \u001b[1;31m# Composite any adjacent images together\u001b[0m\u001b[1;33m\u001b[0m\u001b[1;33m\u001b[0m\u001b[0m\n",
      "\u001b[1;32mC:\\ProgramData\\Anaconda3\\lib\\site-packages\\matplotlib\\artist.py\u001b[0m in \u001b[0;36mdraw_wrapper\u001b[1;34m(artist, renderer, *args, **kwargs)\u001b[0m\n\u001b[0;32m     53\u001b[0m                 \u001b[0mrenderer\u001b[0m\u001b[1;33m.\u001b[0m\u001b[0mstart_filter\u001b[0m\u001b[1;33m(\u001b[0m\u001b[1;33m)\u001b[0m\u001b[1;33m\u001b[0m\u001b[0m\n\u001b[0;32m     54\u001b[0m \u001b[1;33m\u001b[0m\u001b[0m\n\u001b[1;32m---> 55\u001b[1;33m             \u001b[1;32mreturn\u001b[0m \u001b[0mdraw\u001b[0m\u001b[1;33m(\u001b[0m\u001b[0martist\u001b[0m\u001b[1;33m,\u001b[0m \u001b[0mrenderer\u001b[0m\u001b[1;33m,\u001b[0m \u001b[1;33m*\u001b[0m\u001b[0margs\u001b[0m\u001b[1;33m,\u001b[0m \u001b[1;33m**\u001b[0m\u001b[0mkwargs\u001b[0m\u001b[1;33m)\u001b[0m\u001b[1;33m\u001b[0m\u001b[0m\n\u001b[0m\u001b[0;32m     56\u001b[0m         \u001b[1;32mfinally\u001b[0m\u001b[1;33m:\u001b[0m\u001b[1;33m\u001b[0m\u001b[0m\n\u001b[0;32m     57\u001b[0m             \u001b[1;32mif\u001b[0m \u001b[0martist\u001b[0m\u001b[1;33m.\u001b[0m\u001b[0mget_agg_filter\u001b[0m\u001b[1;33m(\u001b[0m\u001b[1;33m)\u001b[0m \u001b[1;32mis\u001b[0m \u001b[1;32mnot\u001b[0m \u001b[1;32mNone\u001b[0m\u001b[1;33m:\u001b[0m\u001b[1;33m\u001b[0m\u001b[0m\n",
      "\u001b[1;32mC:\\ProgramData\\Anaconda3\\lib\\site-packages\\matplotlib\\axes\\_base.py\u001b[0m in \u001b[0;36mdraw\u001b[1;34m(self, renderer, inframe)\u001b[0m\n\u001b[0;32m   2435\u001b[0m             \u001b[0mrenderer\u001b[0m\u001b[1;33m.\u001b[0m\u001b[0mstop_rasterizing\u001b[0m\u001b[1;33m(\u001b[0m\u001b[1;33m)\u001b[0m\u001b[1;33m\u001b[0m\u001b[0m\n\u001b[0;32m   2436\u001b[0m \u001b[1;33m\u001b[0m\u001b[0m\n\u001b[1;32m-> 2437\u001b[1;33m         \u001b[0mmimage\u001b[0m\u001b[1;33m.\u001b[0m\u001b[0m_draw_list_compositing_images\u001b[0m\u001b[1;33m(\u001b[0m\u001b[0mrenderer\u001b[0m\u001b[1;33m,\u001b[0m \u001b[0mself\u001b[0m\u001b[1;33m,\u001b[0m \u001b[0martists\u001b[0m\u001b[1;33m)\u001b[0m\u001b[1;33m\u001b[0m\u001b[0m\n\u001b[0m\u001b[0;32m   2438\u001b[0m \u001b[1;33m\u001b[0m\u001b[0m\n\u001b[0;32m   2439\u001b[0m         \u001b[0mrenderer\u001b[0m\u001b[1;33m.\u001b[0m\u001b[0mclose_group\u001b[0m\u001b[1;33m(\u001b[0m\u001b[1;34m'axes'\u001b[0m\u001b[1;33m)\u001b[0m\u001b[1;33m\u001b[0m\u001b[0m\n",
      "\u001b[1;32mC:\\ProgramData\\Anaconda3\\lib\\site-packages\\matplotlib\\image.py\u001b[0m in \u001b[0;36m_draw_list_compositing_images\u001b[1;34m(renderer, parent, artists, suppress_composite)\u001b[0m\n\u001b[0;32m    136\u001b[0m     \u001b[1;32mif\u001b[0m \u001b[0mnot_composite\u001b[0m \u001b[1;32mor\u001b[0m \u001b[1;32mnot\u001b[0m \u001b[0mhas_images\u001b[0m\u001b[1;33m:\u001b[0m\u001b[1;33m\u001b[0m\u001b[0m\n\u001b[0;32m    137\u001b[0m         \u001b[1;32mfor\u001b[0m \u001b[0ma\u001b[0m \u001b[1;32min\u001b[0m \u001b[0martists\u001b[0m\u001b[1;33m:\u001b[0m\u001b[1;33m\u001b[0m\u001b[0m\n\u001b[1;32m--> 138\u001b[1;33m             \u001b[0ma\u001b[0m\u001b[1;33m.\u001b[0m\u001b[0mdraw\u001b[0m\u001b[1;33m(\u001b[0m\u001b[0mrenderer\u001b[0m\u001b[1;33m)\u001b[0m\u001b[1;33m\u001b[0m\u001b[0m\n\u001b[0m\u001b[0;32m    139\u001b[0m     \u001b[1;32melse\u001b[0m\u001b[1;33m:\u001b[0m\u001b[1;33m\u001b[0m\u001b[0m\n\u001b[0;32m    140\u001b[0m         \u001b[1;31m# Composite any adjacent images together\u001b[0m\u001b[1;33m\u001b[0m\u001b[1;33m\u001b[0m\u001b[0m\n",
      "\u001b[1;32mC:\\ProgramData\\Anaconda3\\lib\\site-packages\\matplotlib\\artist.py\u001b[0m in \u001b[0;36mdraw_wrapper\u001b[1;34m(artist, renderer, *args, **kwargs)\u001b[0m\n\u001b[0;32m     53\u001b[0m                 \u001b[0mrenderer\u001b[0m\u001b[1;33m.\u001b[0m\u001b[0mstart_filter\u001b[0m\u001b[1;33m(\u001b[0m\u001b[1;33m)\u001b[0m\u001b[1;33m\u001b[0m\u001b[0m\n\u001b[0;32m     54\u001b[0m \u001b[1;33m\u001b[0m\u001b[0m\n\u001b[1;32m---> 55\u001b[1;33m             \u001b[1;32mreturn\u001b[0m \u001b[0mdraw\u001b[0m\u001b[1;33m(\u001b[0m\u001b[0martist\u001b[0m\u001b[1;33m,\u001b[0m \u001b[0mrenderer\u001b[0m\u001b[1;33m,\u001b[0m \u001b[1;33m*\u001b[0m\u001b[0margs\u001b[0m\u001b[1;33m,\u001b[0m \u001b[1;33m**\u001b[0m\u001b[0mkwargs\u001b[0m\u001b[1;33m)\u001b[0m\u001b[1;33m\u001b[0m\u001b[0m\n\u001b[0m\u001b[0;32m     56\u001b[0m         \u001b[1;32mfinally\u001b[0m\u001b[1;33m:\u001b[0m\u001b[1;33m\u001b[0m\u001b[0m\n\u001b[0;32m     57\u001b[0m             \u001b[1;32mif\u001b[0m \u001b[0martist\u001b[0m\u001b[1;33m.\u001b[0m\u001b[0mget_agg_filter\u001b[0m\u001b[1;33m(\u001b[0m\u001b[1;33m)\u001b[0m \u001b[1;32mis\u001b[0m \u001b[1;32mnot\u001b[0m \u001b[1;32mNone\u001b[0m\u001b[1;33m:\u001b[0m\u001b[1;33m\u001b[0m\u001b[0m\n",
      "\u001b[1;32mC:\\ProgramData\\Anaconda3\\lib\\site-packages\\matplotlib\\axis.py\u001b[0m in \u001b[0;36mdraw\u001b[1;34m(self, renderer, *args, **kwargs)\u001b[0m\n\u001b[0;32m   1133\u001b[0m         \u001b[0mticks_to_draw\u001b[0m \u001b[1;33m=\u001b[0m \u001b[0mself\u001b[0m\u001b[1;33m.\u001b[0m\u001b[0m_update_ticks\u001b[0m\u001b[1;33m(\u001b[0m\u001b[0mrenderer\u001b[0m\u001b[1;33m)\u001b[0m\u001b[1;33m\u001b[0m\u001b[0m\n\u001b[0;32m   1134\u001b[0m         ticklabelBoxes, ticklabelBoxes2 = self._get_tick_bboxes(ticks_to_draw,\n\u001b[1;32m-> 1135\u001b[1;33m                                                                 renderer)\n\u001b[0m\u001b[0;32m   1136\u001b[0m \u001b[1;33m\u001b[0m\u001b[0m\n\u001b[0;32m   1137\u001b[0m         \u001b[1;32mfor\u001b[0m \u001b[0mtick\u001b[0m \u001b[1;32min\u001b[0m \u001b[0mticks_to_draw\u001b[0m\u001b[1;33m:\u001b[0m\u001b[1;33m\u001b[0m\u001b[0m\n",
      "\u001b[1;32mC:\\ProgramData\\Anaconda3\\lib\\site-packages\\matplotlib\\axis.py\u001b[0m in \u001b[0;36m_get_tick_bboxes\u001b[1;34m(self, ticks, renderer)\u001b[0m\n\u001b[0;32m   1073\u001b[0m         \u001b[1;32mfor\u001b[0m \u001b[0mtick\u001b[0m \u001b[1;32min\u001b[0m \u001b[0mticks\u001b[0m\u001b[1;33m:\u001b[0m\u001b[1;33m\u001b[0m\u001b[0m\n\u001b[0;32m   1074\u001b[0m             \u001b[1;32mif\u001b[0m \u001b[0mtick\u001b[0m\u001b[1;33m.\u001b[0m\u001b[0mlabel1On\u001b[0m \u001b[1;32mand\u001b[0m \u001b[0mtick\u001b[0m\u001b[1;33m.\u001b[0m\u001b[0mlabel1\u001b[0m\u001b[1;33m.\u001b[0m\u001b[0mget_visible\u001b[0m\u001b[1;33m(\u001b[0m\u001b[1;33m)\u001b[0m\u001b[1;33m:\u001b[0m\u001b[1;33m\u001b[0m\u001b[0m\n\u001b[1;32m-> 1075\u001b[1;33m                 \u001b[0mextent\u001b[0m \u001b[1;33m=\u001b[0m \u001b[0mtick\u001b[0m\u001b[1;33m.\u001b[0m\u001b[0mlabel1\u001b[0m\u001b[1;33m.\u001b[0m\u001b[0mget_window_extent\u001b[0m\u001b[1;33m(\u001b[0m\u001b[0mrenderer\u001b[0m\u001b[1;33m)\u001b[0m\u001b[1;33m\u001b[0m\u001b[0m\n\u001b[0m\u001b[0;32m   1076\u001b[0m                 \u001b[0mticklabelBoxes\u001b[0m\u001b[1;33m.\u001b[0m\u001b[0mappend\u001b[0m\u001b[1;33m(\u001b[0m\u001b[0mextent\u001b[0m\u001b[1;33m)\u001b[0m\u001b[1;33m\u001b[0m\u001b[0m\n\u001b[0;32m   1077\u001b[0m             \u001b[1;32mif\u001b[0m \u001b[0mtick\u001b[0m\u001b[1;33m.\u001b[0m\u001b[0mlabel2On\u001b[0m \u001b[1;32mand\u001b[0m \u001b[0mtick\u001b[0m\u001b[1;33m.\u001b[0m\u001b[0mlabel2\u001b[0m\u001b[1;33m.\u001b[0m\u001b[0mget_visible\u001b[0m\u001b[1;33m(\u001b[0m\u001b[1;33m)\u001b[0m\u001b[1;33m:\u001b[0m\u001b[1;33m\u001b[0m\u001b[0m\n",
      "\u001b[1;32mC:\\ProgramData\\Anaconda3\\lib\\site-packages\\matplotlib\\text.py\u001b[0m in \u001b[0;36mget_window_extent\u001b[1;34m(self, renderer, dpi)\u001b[0m\n\u001b[0;32m    931\u001b[0m             \u001b[1;32mraise\u001b[0m \u001b[0mRuntimeError\u001b[0m\u001b[1;33m(\u001b[0m\u001b[1;34m'Cannot get window extent w/o renderer'\u001b[0m\u001b[1;33m)\u001b[0m\u001b[1;33m\u001b[0m\u001b[0m\n\u001b[0;32m    932\u001b[0m \u001b[1;33m\u001b[0m\u001b[0m\n\u001b[1;32m--> 933\u001b[1;33m         \u001b[0mbbox\u001b[0m\u001b[1;33m,\u001b[0m \u001b[0minfo\u001b[0m\u001b[1;33m,\u001b[0m \u001b[0mdescent\u001b[0m \u001b[1;33m=\u001b[0m \u001b[0mself\u001b[0m\u001b[1;33m.\u001b[0m\u001b[0m_get_layout\u001b[0m\u001b[1;33m(\u001b[0m\u001b[0mself\u001b[0m\u001b[1;33m.\u001b[0m\u001b[0m_renderer\u001b[0m\u001b[1;33m)\u001b[0m\u001b[1;33m\u001b[0m\u001b[0m\n\u001b[0m\u001b[0;32m    934\u001b[0m         \u001b[0mx\u001b[0m\u001b[1;33m,\u001b[0m \u001b[0my\u001b[0m \u001b[1;33m=\u001b[0m \u001b[0mself\u001b[0m\u001b[1;33m.\u001b[0m\u001b[0mget_unitless_position\u001b[0m\u001b[1;33m(\u001b[0m\u001b[1;33m)\u001b[0m\u001b[1;33m\u001b[0m\u001b[0m\n\u001b[0;32m    935\u001b[0m         \u001b[0mx\u001b[0m\u001b[1;33m,\u001b[0m \u001b[0my\u001b[0m \u001b[1;33m=\u001b[0m \u001b[0mself\u001b[0m\u001b[1;33m.\u001b[0m\u001b[0mget_transform\u001b[0m\u001b[1;33m(\u001b[0m\u001b[1;33m)\u001b[0m\u001b[1;33m.\u001b[0m\u001b[0mtransform_point\u001b[0m\u001b[1;33m(\u001b[0m\u001b[1;33m(\u001b[0m\u001b[0mx\u001b[0m\u001b[1;33m,\u001b[0m \u001b[0my\u001b[0m\u001b[1;33m)\u001b[0m\u001b[1;33m)\u001b[0m\u001b[1;33m\u001b[0m\u001b[0m\n",
      "\u001b[1;32mC:\\ProgramData\\Anaconda3\\lib\\site-packages\\matplotlib\\text.py\u001b[0m in \u001b[0;36m_get_layout\u001b[1;34m(self, renderer)\u001b[0m\n\u001b[0;32m    341\u001b[0m \u001b[1;33m\u001b[0m\u001b[0m\n\u001b[0;32m    342\u001b[0m         \u001b[1;31m# get the rotation matrix\u001b[0m\u001b[1;33m\u001b[0m\u001b[1;33m\u001b[0m\u001b[0m\n\u001b[1;32m--> 343\u001b[1;33m         \u001b[0mM\u001b[0m \u001b[1;33m=\u001b[0m \u001b[0mAffine2D\u001b[0m\u001b[1;33m(\u001b[0m\u001b[1;33m)\u001b[0m\u001b[1;33m.\u001b[0m\u001b[0mrotate_deg\u001b[0m\u001b[1;33m(\u001b[0m\u001b[0mself\u001b[0m\u001b[1;33m.\u001b[0m\u001b[0mget_rotation\u001b[0m\u001b[1;33m(\u001b[0m\u001b[1;33m)\u001b[0m\u001b[1;33m)\u001b[0m\u001b[1;33m\u001b[0m\u001b[0m\n\u001b[0m\u001b[0;32m    344\u001b[0m \u001b[1;33m\u001b[0m\u001b[0m\n\u001b[0;32m    345\u001b[0m         \u001b[0moffsetLayout\u001b[0m \u001b[1;33m=\u001b[0m \u001b[0mnp\u001b[0m\u001b[1;33m.\u001b[0m\u001b[0mzeros\u001b[0m\u001b[1;33m(\u001b[0m\u001b[1;33m(\u001b[0m\u001b[0mlen\u001b[0m\u001b[1;33m(\u001b[0m\u001b[0mlines\u001b[0m\u001b[1;33m)\u001b[0m\u001b[1;33m,\u001b[0m \u001b[1;36m2\u001b[0m\u001b[1;33m)\u001b[0m\u001b[1;33m)\u001b[0m\u001b[1;33m\u001b[0m\u001b[0m\n",
      "\u001b[1;32mC:\\ProgramData\\Anaconda3\\lib\\site-packages\\matplotlib\\transforms.py\u001b[0m in \u001b[0;36mrotate_deg\u001b[1;34m(self, degrees)\u001b[0m\n\u001b[0;32m   2018\u001b[0m         \u001b[1;32mand\u001b[0m \u001b[1;33m:\u001b[0m\u001b[0mmeth\u001b[0m\u001b[1;33m:\u001b[0m\u001b[0;31m`\u001b[0m\u001b[0mscale\u001b[0m\u001b[0;31m`\u001b[0m\u001b[1;33m.\u001b[0m\u001b[1;33m\u001b[0m\u001b[0m\n\u001b[0;32m   2019\u001b[0m         \"\"\"\n\u001b[1;32m-> 2020\u001b[1;33m         \u001b[1;32mreturn\u001b[0m \u001b[0mself\u001b[0m\u001b[1;33m.\u001b[0m\u001b[0mrotate\u001b[0m\u001b[1;33m(\u001b[0m\u001b[0mdegrees\u001b[0m \u001b[1;33m*\u001b[0m \u001b[0mnp\u001b[0m\u001b[1;33m.\u001b[0m\u001b[0mpi\u001b[0m \u001b[1;33m/\u001b[0m \u001b[1;36m180.\u001b[0m\u001b[1;33m)\u001b[0m\u001b[1;33m\u001b[0m\u001b[0m\n\u001b[0m\u001b[0;32m   2021\u001b[0m \u001b[1;33m\u001b[0m\u001b[0m\n\u001b[0;32m   2022\u001b[0m     \u001b[1;32mdef\u001b[0m \u001b[0mrotate_around\u001b[0m\u001b[1;33m(\u001b[0m\u001b[0mself\u001b[0m\u001b[1;33m,\u001b[0m \u001b[0mx\u001b[0m\u001b[1;33m,\u001b[0m \u001b[0my\u001b[0m\u001b[1;33m,\u001b[0m \u001b[0mtheta\u001b[0m\u001b[1;33m)\u001b[0m\u001b[1;33m:\u001b[0m\u001b[1;33m\u001b[0m\u001b[0m\n",
      "\u001b[1;32mC:\\ProgramData\\Anaconda3\\lib\\site-packages\\matplotlib\\transforms.py\u001b[0m in \u001b[0;36mrotate\u001b[1;34m(self, theta)\u001b[0m\n\u001b[0;32m   2006\u001b[0m         rotate_mtx = np.array([[a, -b, 0.0], [b, a, 0.0], [0.0, 0.0, 1.0]],\n\u001b[0;32m   2007\u001b[0m                               float)\n\u001b[1;32m-> 2008\u001b[1;33m         \u001b[0mself\u001b[0m\u001b[1;33m.\u001b[0m\u001b[0m_mtx\u001b[0m \u001b[1;33m=\u001b[0m \u001b[0mnp\u001b[0m\u001b[1;33m.\u001b[0m\u001b[0mdot\u001b[0m\u001b[1;33m(\u001b[0m\u001b[0mrotate_mtx\u001b[0m\u001b[1;33m,\u001b[0m \u001b[0mself\u001b[0m\u001b[1;33m.\u001b[0m\u001b[0m_mtx\u001b[0m\u001b[1;33m)\u001b[0m\u001b[1;33m\u001b[0m\u001b[0m\n\u001b[0m\u001b[0;32m   2009\u001b[0m         \u001b[0mself\u001b[0m\u001b[1;33m.\u001b[0m\u001b[0minvalidate\u001b[0m\u001b[1;33m(\u001b[0m\u001b[1;33m)\u001b[0m\u001b[1;33m\u001b[0m\u001b[0m\n\u001b[0;32m   2010\u001b[0m         \u001b[1;32mreturn\u001b[0m \u001b[0mself\u001b[0m\u001b[1;33m\u001b[0m\u001b[0m\n",
      "\u001b[1;31mKeyboardInterrupt\u001b[0m: "
     ]
    },
    {
     "name": "stderr",
     "output_type": "stream",
     "text": [
      "C:\\ProgramData\\Anaconda3\\lib\\site-packages\\matplotlib\\cbook\\deprecation.py:106: MatplotlibDeprecationWarning: Adding an axes using the same arguments as a previous axes currently reuses the earlier instance.  In a future version, a new instance will always be created and returned.  Meanwhile, this warning can be suppressed, and the future behavior ensured, by passing a unique label to each axes instance.\n",
      "  warnings.warn(message, mplDeprecation, stacklevel=1)\n"
     ]
    },
    {
     "ename": "KeyboardInterrupt",
     "evalue": "",
     "output_type": "error",
     "traceback": [
      "\u001b[1;31m---------------------------------------------------------------------------\u001b[0m",
      "\u001b[1;31mKeyboardInterrupt\u001b[0m                         Traceback (most recent call last)",
      "\u001b[1;32m<ipython-input-20-fd62aa615aa9>\u001b[0m in \u001b[0;36m<module>\u001b[1;34m()\u001b[0m\n\u001b[0;32m      4\u001b[0m sweep.sweep(adc_reducer, \n\u001b[0;32m      5\u001b[0m             \u001b[1;33m(\u001b[0m\u001b[0mnp\u001b[0m\u001b[1;33m.\u001b[0m\u001b[0mlinspace\u001b[0m\u001b[1;33m(\u001b[0m\u001b[1;36m10.03e9\u001b[0m\u001b[1;33m,\u001b[0m \u001b[1;36m10.05e9\u001b[0m\u001b[1;33m,\u001b[0m \u001b[1;36m41\u001b[0m\u001b[1;33m)\u001b[0m\u001b[1;33m,\u001b[0m \u001b[0miq_ro\u001b[0m\u001b[1;33m.\u001b[0m\u001b[0mset_uncal_frequency\u001b[0m\u001b[1;33m,\u001b[0m \u001b[1;34m'First tone'\u001b[0m\u001b[1;33m)\u001b[0m\u001b[1;33m,\u001b[0m\u001b[1;33m\u001b[0m\u001b[0m\n\u001b[1;32m----> 6\u001b[1;33m             filename='Single  tone spectrocopy with IQ')\n\u001b[0m\u001b[0;32m      7\u001b[0m \u001b[0mlo1\u001b[0m\u001b[1;33m.\u001b[0m\u001b[0mset_status\u001b[0m\u001b[1;33m(\u001b[0m\u001b[1;36m1\u001b[0m\u001b[1;33m)\u001b[0m\u001b[1;33m\u001b[0m\u001b[0m\n",
      "\u001b[1;32mD:\\qtlab_replacement\\scripts\\sweep.py\u001b[0m in \u001b[0;36msweep\u001b[1;34m(measurer, filename, root_dir, plot, header, output, save, time_war_label, cycle_save_mode, *params)\u001b[0m\n\u001b[0;32m    161\u001b[0m                                         \u001b[0msetter\u001b[0m\u001b[1;33m(\u001b[0m\u001b[0mval\u001b[0m\u001b[1;33m)\u001b[0m\u001b[1;33m\u001b[0m\u001b[0m\n\u001b[0;32m    162\u001b[0m                         \u001b[1;31m#measuring\u001b[0m\u001b[1;33m\u001b[0m\u001b[1;33m\u001b[0m\u001b[0m\n\u001b[1;32m--> 163\u001b[1;33m                         \u001b[0mmpoint\u001b[0m \u001b[1;33m=\u001b[0m \u001b[0mmeasurer\u001b[0m\u001b[1;33m.\u001b[0m\u001b[0mmeasure\u001b[0m\u001b[1;33m(\u001b[0m\u001b[1;33m)\u001b[0m\u001b[1;33m\u001b[0m\u001b[0m\n\u001b[0m\u001b[0;32m    164\u001b[0m                         \u001b[1;31m#saving data to containers\u001b[0m\u001b[1;33m\u001b[0m\u001b[1;33m\u001b[0m\u001b[0m\n\u001b[0;32m    165\u001b[0m                         \u001b[1;32mfor\u001b[0m \u001b[0mmname\u001b[0m \u001b[1;32min\u001b[0m \u001b[0mpoints\u001b[0m\u001b[1;33m.\u001b[0m\u001b[0mkeys\u001b[0m\u001b[1;33m(\u001b[0m\u001b[1;33m)\u001b[0m\u001b[1;33m:\u001b[0m\u001b[1;33m\u001b[0m\u001b[0m\n",
      "\u001b[1;32mD:\\qtlab_replacement\\scripts\\data_reduce.py\u001b[0m in \u001b[0;36mmeasure\u001b[1;34m(self)\u001b[0m\n\u001b[0;32m     18\u001b[0m \u001b[1;33m\u001b[0m\u001b[0m\n\u001b[0;32m     19\u001b[0m         \u001b[1;32mdef\u001b[0m \u001b[0mmeasure\u001b[0m\u001b[1;33m(\u001b[0m\u001b[0mself\u001b[0m\u001b[1;33m)\u001b[0m\u001b[1;33m:\u001b[0m\u001b[1;33m\u001b[0m\u001b[0m\n\u001b[1;32m---> 20\u001b[1;33m                 \u001b[0mdata\u001b[0m \u001b[1;33m=\u001b[0m \u001b[0mself\u001b[0m\u001b[1;33m.\u001b[0m\u001b[0msource\u001b[0m\u001b[1;33m.\u001b[0m\u001b[0mmeasure\u001b[0m\u001b[1;33m(\u001b[0m\u001b[1;33m)\u001b[0m\u001b[1;33m\u001b[0m\u001b[0m\n\u001b[0m\u001b[0;32m     21\u001b[0m                 \u001b[1;32mreturn\u001b[0m \u001b[1;33m{\u001b[0m \u001b[0mfilter_name\u001b[0m\u001b[1;33m:\u001b[0m\u001b[0mfilter\u001b[0m\u001b[1;33m[\u001b[0m\u001b[1;34m'filter'\u001b[0m\u001b[1;33m]\u001b[0m\u001b[1;33m(\u001b[0m\u001b[0mdata\u001b[0m\u001b[1;33m)\u001b[0m \u001b[1;32mfor\u001b[0m \u001b[0mfilter_name\u001b[0m\u001b[1;33m,\u001b[0m \u001b[0mfilter\u001b[0m \u001b[1;32min\u001b[0m \u001b[0mself\u001b[0m\u001b[1;33m.\u001b[0m\u001b[0mfilters\u001b[0m\u001b[1;33m.\u001b[0m\u001b[0mitems\u001b[0m\u001b[1;33m(\u001b[0m\u001b[1;33m)\u001b[0m\u001b[1;33m}\u001b[0m\u001b[1;33m\u001b[0m\u001b[0m\n\u001b[0;32m     22\u001b[0m \u001b[1;33m\u001b[0m\u001b[0m\n",
      "\u001b[1;32mD:\\qtlab_replacement\\instruments\\Spectrum_M3i2132.py\u001b[0m in \u001b[0;36mmeasure\u001b[1;34m(self)\u001b[0m\n\u001b[0;32m   1496\u001b[0m                 \u001b[1;32mfor\u001b[0m \u001b[0mi\u001b[0m \u001b[1;32min\u001b[0m \u001b[0mrange\u001b[0m\u001b[1;33m(\u001b[0m\u001b[0mself\u001b[0m\u001b[1;33m.\u001b[0m\u001b[0msoftware_averages\u001b[0m\u001b[1;33m)\u001b[0m\u001b[1;33m:\u001b[0m\u001b[1;33m\u001b[0m\u001b[0m\n\u001b[0;32m   1497\u001b[0m                         \u001b[1;32mfor\u001b[0m \u001b[0mj\u001b[0m \u001b[1;32min\u001b[0m \u001b[0mrange\u001b[0m\u001b[1;33m(\u001b[0m\u001b[0mself\u001b[0m\u001b[1;33m.\u001b[0m\u001b[0msoftware_nums_multi\u001b[0m\u001b[1;33m)\u001b[0m\u001b[1;33m:\u001b[0m\u001b[1;33m\u001b[0m\u001b[0m\n\u001b[1;32m-> 1498\u001b[1;33m                                 \u001b[0mself\u001b[0m\u001b[1;33m.\u001b[0m\u001b[0mstart_with_trigger_and_waitready\u001b[0m\u001b[1;33m(\u001b[0m\u001b[1;33m)\u001b[0m\u001b[1;33m\u001b[0m\u001b[0m\n\u001b[0m\u001b[0;32m   1499\u001b[0m                                 \u001b[0mdata\u001b[0m\u001b[1;33m[\u001b[0m\u001b[1;33m:\u001b[0m\u001b[1;33m,\u001b[0m\u001b[0mj\u001b[0m\u001b[1;33m*\u001b[0m\u001b[0mlnumber_of_segments\u001b[0m\u001b[1;33m:\u001b[0m\u001b[1;33m(\u001b[0m\u001b[0mj\u001b[0m\u001b[1;33m+\u001b[0m\u001b[1;36m1\u001b[0m\u001b[1;33m)\u001b[0m\u001b[1;33m*\u001b[0m\u001b[0mlnumber_of_segments\u001b[0m\u001b[1;33m,\u001b[0m\u001b[1;33m:\u001b[0m\u001b[1;33m]\u001b[0m \u001b[1;33m=\u001b[0m\u001b[0;31m \u001b[0m\u001b[0;31m\\\u001b[0m\u001b[1;33m\u001b[0m\u001b[0m\n\u001b[0;32m   1500\u001b[0m                                                 \u001b[0mself\u001b[0m\u001b[1;33m.\u001b[0m\u001b[0mreadout_doublechannel_multimode_bin\u001b[0m\u001b[1;33m(\u001b[0m\u001b[1;33m)\u001b[0m\u001b[1;33m/\u001b[0m\u001b[0mfloat\u001b[0m\u001b[1;33m(\u001b[0m\u001b[0mself\u001b[0m\u001b[1;33m.\u001b[0m\u001b[0msoftware_averages\u001b[0m\u001b[1;33m)\u001b[0m\u001b[1;33m\u001b[0m\u001b[0m\n",
      "\u001b[1;32mD:\\qtlab_replacement\\instruments\\Spectrum_M3i2132.py\u001b[0m in \u001b[0;36mstart_with_trigger_and_waitready\u001b[1;34m(self)\u001b[0m\n\u001b[0;32m    787\u001b[0m                 \u001b[0mself\u001b[0m\u001b[1;33m.\u001b[0m\u001b[0m_buffer_setup\u001b[0m\u001b[1;33m(\u001b[0m\u001b[1;33m)\u001b[0m\u001b[1;33m\u001b[0m\u001b[0m\n\u001b[0;32m    788\u001b[0m \t\tself._set_param(_spcm_regs.SPC_M2CMD,\n\u001b[1;32m--> 789\u001b[1;33m \t\t\t_spcm_regs.M2CMD_CARD_START | _spcm_regs.M2CMD_CARD_ENABLETRIGGER | _spcm_regs.M2CMD_CARD_WAITREADY | _spcm_regs.M2CMD_DATA_WAITDMA)\n\u001b[0m\u001b[0;32m    790\u001b[0m \u001b[1;33m\u001b[0m\u001b[0m\n\u001b[0;32m    791\u001b[0m         \u001b[1;32mdef\u001b[0m \u001b[0mforce_trigger\u001b[0m\u001b[1;33m(\u001b[0m\u001b[0mself\u001b[0m\u001b[1;33m)\u001b[0m\u001b[1;33m:\u001b[0m\u001b[1;33m\u001b[0m\u001b[0m\n",
      "\u001b[1;32mD:\\qtlab_replacement\\instruments\\Spectrum_M3i2132.py\u001b[0m in \u001b[0;36m_set_param\u001b[1;34m(self, regnum, regval)\u001b[0m\n\u001b[0;32m    320\u001b[0m \t\t'''\n\u001b[0;32m    321\u001b[0m                 \u001b[0mlogging\u001b[0m\u001b[1;33m.\u001b[0m\u001b[0mdebug\u001b[0m\u001b[1;33m(\u001b[0m\u001b[0m__name__\u001b[0m \u001b[1;33m+\u001b[0m \u001b[1;34m' : Set reg %s to %s'\u001b[0m \u001b[1;33m%\u001b[0m\u001b[1;33m(\u001b[0m\u001b[0mregnum\u001b[0m\u001b[1;33m,\u001b[0m \u001b[0mregval\u001b[0m\u001b[1;33m)\u001b[0m\u001b[1;33m)\u001b[0m\u001b[1;33m\u001b[0m\u001b[0m\n\u001b[1;32m--> 322\u001b[1;33m                 \u001b[0merr\u001b[0m \u001b[1;33m=\u001b[0m \u001b[0mself\u001b[0m\u001b[1;33m.\u001b[0m\u001b[0m_spcm_win32\u001b[0m\u001b[1;33m.\u001b[0m\u001b[0mSetParam32\u001b[0m\u001b[1;33m(\u001b[0m\u001b[0mself\u001b[0m\u001b[1;33m.\u001b[0m\u001b[0m_spcm_win32\u001b[0m\u001b[1;33m.\u001b[0m\u001b[0mhandel\u001b[0m\u001b[1;33m,\u001b[0m \u001b[0mregnum\u001b[0m\u001b[1;33m,\u001b[0m \u001b[0mregval\u001b[0m\u001b[1;33m)\u001b[0m\u001b[1;33m\u001b[0m\u001b[0m\n\u001b[0m\u001b[0;32m    323\u001b[0m                 \u001b[1;32mif\u001b[0m \u001b[1;33m(\u001b[0m\u001b[0merr\u001b[0m\u001b[1;33m==\u001b[0m\u001b[1;36m0\u001b[0m\u001b[1;33m)\u001b[0m\u001b[1;33m:\u001b[0m\u001b[1;33m\u001b[0m\u001b[0m\n\u001b[0;32m    324\u001b[0m                         \u001b[1;32mreturn\u001b[0m \u001b[1;36m0\u001b[0m\u001b[1;33m\u001b[0m\u001b[0m\n",
      "\u001b[1;31mKeyboardInterrupt\u001b[0m: "
     ]
    }
   ],
   "source": [
    "lo1.set_status(0)\n",
    "iq_ro.set_waveform(np.ones(iq_ex.get_nop())*0.04)\n",
    "iq_ex.set_waveform(np.ones(iq_ex.get_nop())*0.00)\n",
    "sweep.sweep(adc_reducer, \n",
    "            (np.linspace(10.03e9, 10.05e9, 41), iq_ro.set_uncal_frequency, 'First tone'), \n",
    "            filename='Single  tone spectrocopy with IQ')\n",
    "lo1.set_status(1)"
   ]
  },
  {
   "cell_type": "code",
   "execution_count": 66,
   "metadata": {
    "scrolled": true
   },
   "outputs": [
    {
     "name": "stdout",
     "output_type": "stream",
     "text": [
      "0.2\n"
     ]
    },
    {
     "name": "stderr",
     "output_type": "stream",
     "text": [
      "D:\\qtlab_replacement\\instruments\\Tektronix_AWG5014.py:647: ComplexWarning: Casting complex values to real discards the imaginary part\n",
      "  m1[:] = marker[:len(m1)]\n"
     ]
    },
    {
     "data": {
      "application/vnd.jupyter.widget-view+json": {
       "model_id": "ffeafea605c04b74bfa7feb2846474ed",
       "version_major": 2,
       "version_minor": 0
      },
      "text/plain": [
       "A Jupyter Widget"
      ]
     },
     "metadata": {},
     "output_type": "display_data"
    },
    {
     "name": "stdout",
     "output_type": "stream",
     "text": [
      "Started at:  Feb 07 2018 11:51:57\n"
     ]
    },
    {
     "name": "stderr",
     "output_type": "stream",
     "text": [
      "C:\\ProgramData\\Anaconda3\\lib\\site-packages\\matplotlib\\cbook\\deprecation.py:106: MatplotlibDeprecationWarning: Adding an axes using the same arguments as a previous axes currently reuses the earlier instance.  In a future version, a new instance will always be created and returned.  Meanwhile, this warning can be suppressed, and the future behavior ensured, by passing a unique label to each axes instance.\n",
      "  warnings.warn(message, mplDeprecation, stacklevel=1)\n"
     ]
    },
    {
     "name": "stdout",
     "output_type": "stream",
     "text": [
      "I = 6e-05\n",
      "phase delta = 0.0510638297872\n",
      "voltage phase = -0.140245729697\n",
      "-0.140245729697\n",
      "\n",
      "Elapsed time: 0 h 12 m 29.04 s\n"
     ]
    },
    {
     "data": {
      "text/plain": [
       "True"
      ]
     },
     "execution_count": 66,
     "metadata": {},
     "output_type": "execute_result"
    }
   ],
   "source": [
    "lo1.set_status(1)\n",
    "lo1.set_power(14)\n",
    "#iq_ro.set_waveform(np.ones(iq_ex.get_nop())*0.1)\n",
    "print (ro_dac_amplitude)\n",
    "sequence = [ pg.p(None, 10e-6), \n",
    "                pg.p('ro_trg', trg_length, pg.rect, 1),\n",
    "                pg.p('iq_ro', ro_dac_length, pg.rect, ro_dac_amplitude)]\n",
    "pg.set_seq(sequence)\n",
    "iq_ex.set_waveform(np.ones(iq_ex.get_nop())*1)\n",
    "iq_ro.set_frequency(Qubits[qubit_id]['Fr'])\n",
    "sweep.sweep(adc_reducer, \n",
    "            (np.linspace(6.5e9, 7.0e9, 101), iq_ex.set_uncal_frequency, 'Second tone'), \n",
    "            (np.linspace(0.06e-3, 0.06e-3, 1), set_current_compensated, 'Compensated coil current'), \n",
    "            filename='Two tone spectrocopy with IQ')\n",
    "lo1.set_status(1)"
   ]
  },
  {
   "cell_type": "code",
   "execution_count": 69,
   "metadata": {},
   "outputs": [
    {
     "name": "stdout",
     "output_type": "stream",
     "text": [
      "I = 0.0\n",
      "phase delta = 0.0\n",
      "voltage phase = -0.0\n",
      "-0.0\n"
     ]
    },
    {
     "data": {
      "application/vnd.jupyter.widget-view+json": {
       "model_id": "3972e3a8f9c0483690e062239479ae29",
       "version_major": 2,
       "version_minor": 0
      },
      "text/plain": [
       "A Jupyter Widget"
      ]
     },
     "metadata": {},
     "output_type": "display_data"
    },
    {
     "name": "stdout",
     "output_type": "stream",
     "text": [
      "Started at:  Feb 07 2018 12:40:55\n"
     ]
    },
    {
     "name": "stderr",
     "output_type": "stream",
     "text": [
      "C:\\ProgramData\\Anaconda3\\lib\\site-packages\\matplotlib\\cbook\\deprecation.py:106: MatplotlibDeprecationWarning: Adding an axes using the same arguments as a previous axes currently reuses the earlier instance.  In a future version, a new instance will always be created and returned.  Meanwhile, this warning can be suppressed, and the future behavior ensured, by passing a unique label to each axes instance.\n",
      "  warnings.warn(message, mplDeprecation, stacklevel=1)\n"
     ]
    },
    {
     "name": "stdout",
     "output_type": "stream",
     "text": [
      "\n",
      "Elapsed time: 0 h 12 m 24.88 s\n"
     ]
    },
    {
     "data": {
      "text/plain": [
       "True"
      ]
     },
     "execution_count": 69,
     "metadata": {},
     "output_type": "execute_result"
    }
   ],
   "source": [
    "lo1.set_status(1)\n",
    "iq_ro.set_waveform(np.ones(iq_ex.get_nop())*0.1)\n",
    "iq_ex.set_waveform(np.ones(iq_ex.get_nop())*0.5)\n",
    "set_current_compensated(0.0)\n",
    "sweep.sweep(adc_reducer, \n",
    "            (np.linspace(6.5e9, 7.0e9, 101), iq_ex.set_uncal_frequency, 'Second tone'), \n",
    "            filename='Two tone spectrocopy with IQ')\n",
    "lo1.set_status(1)"
   ]
  },
  {
   "cell_type": "code",
   "execution_count": 31,
   "metadata": {
    "scrolled": true
   },
   "outputs": [
    {
     "data": {
      "application/vnd.jupyter.widget-view+json": {
       "model_id": "d441c26a6caa40a299e7e40baed966a0",
       "version_major": 2,
       "version_minor": 0
      },
      "text/plain": [
       "A Jupyter Widget"
      ]
     },
     "metadata": {},
     "output_type": "display_data"
    },
    {
     "name": "stdout",
     "output_type": "stream",
     "text": [
      "Started at:  Feb 06 2018 15:08:44\n"
     ]
    },
    {
     "name": "stderr",
     "output_type": "stream",
     "text": [
      "D:\\qtlab_replacement\\instruments\\Tektronix_AWG5014.py:647: ComplexWarning: Casting complex values to real discards the imaginary part\n",
      "  m1[:] = marker[:len(m1)]\n"
     ]
    },
    {
     "name": "stdout",
     "output_type": "stream",
     "text": [
      "\n",
      "Elapsed time: 0 h 3 m 2.88 s\n"
     ]
    },
    {
     "name": "stderr",
     "output_type": "stream",
     "text": [
      "C:\\ProgramData\\Anaconda3\\lib\\site-packages\\matplotlib\\cbook\\deprecation.py:106: MatplotlibDeprecationWarning: Adding an axes using the same arguments as a previous axes currently reuses the earlier instance.  In a future version, a new instance will always be created and returned.  Meanwhile, this warning can be suppressed, and the future behavior ensured, by passing a unique label to each axes instance.\n",
      "  warnings.warn(message, mplDeprecation, stacklevel=1)\n"
     ]
    }
   ],
   "source": [
    "def set_pulse_amplitude(x):\n",
    "    awg_tek.set_nop(awg_tek.get_clock()/rep_rate)\n",
    "    pg.set_seq([pg.p('ro_trg', trg_length, pg.rect, 1), pg.p('iq_ro', ro_dac_length, pg.rect, x)])\n",
    "    awg_tek.run()\n",
    "measurement = sweep.sweep(adc_reducer, (np.linspace(0.0, 0.06, 21), set_pulse_amplitude, 'Readout amplitude'), filename='Readout pulse passthrough')"
   ]
  },
  {
   "cell_type": "code",
   "execution_count": 34,
   "metadata": {},
   "outputs": [
    {
     "data": {
      "application/vnd.jupyter.widget-view+json": {
       "model_id": "e747192884ab458d8547f496c7d00692",
       "version_major": 2,
       "version_minor": 0
      },
      "text/plain": [
       "A Jupyter Widget"
      ]
     },
     "metadata": {},
     "output_type": "display_data"
    },
    {
     "name": "stdout",
     "output_type": "stream",
     "text": [
      "Started at:  Feb 05 2018 22:33:36\n"
     ]
    },
    {
     "name": "stderr",
     "output_type": "stream",
     "text": [
      "D:\\qtlab_replacement\\instruments\\Tektronix_AWG5014.py:647: ComplexWarning: Casting complex values to real discards the imaginary part\n",
      "  m1[:] = marker[:len(m1)]\n"
     ]
    },
    {
     "name": "stdout",
     "output_type": "stream",
     "text": [
      "\n",
      "Elapsed time: 1 h 12 m 55.59 s\n"
     ]
    },
    {
     "name": "stderr",
     "output_type": "stream",
     "text": [
      "C:\\ProgramData\\Anaconda3\\lib\\site-packages\\matplotlib\\cbook\\deprecation.py:106: MatplotlibDeprecationWarning: Adding an axes using the same arguments as a previous axes currently reuses the earlier instance.  In a future version, a new instance will always be created and returned.  Meanwhile, this warning can be suppressed, and the future behavior ensured, by passing a unique label to each axes instance.\n",
      "  warnings.warn(message, mplDeprecation, stacklevel=1)\n"
     ]
    },
    {
     "ename": "IndexError",
     "evalue": "index 501 is out of bounds for axis 1 with size 501",
     "output_type": "error",
     "traceback": [
      "\u001b[1;31m---------------------------------------------------------------------------\u001b[0m",
      "\u001b[1;31mIndexError\u001b[0m                                Traceback (most recent call last)",
      "\u001b[1;32m<ipython-input-34-0f7cd70e43fc>\u001b[0m in \u001b[0;36m<module>\u001b[1;34m()\u001b[0m\n\u001b[0;32m     14\u001b[0m     \u001b[0mawg_tek\u001b[0m\u001b[1;33m.\u001b[0m\u001b[0mrun\u001b[0m\u001b[1;33m(\u001b[0m\u001b[1;33m)\u001b[0m\u001b[1;33m\u001b[0m\u001b[0m\n\u001b[0;32m     15\u001b[0m \u001b[0mmeasurement\u001b[0m \u001b[1;33m=\u001b[0m \u001b[0msweep\u001b[0m\u001b[1;33m.\u001b[0m\u001b[0msweep\u001b[0m\u001b[1;33m(\u001b[0m\u001b[0madc_reducer\u001b[0m\u001b[1;33m,\u001b[0m \u001b[1;33m(\u001b[0m\u001b[0mlengths\u001b[0m\u001b[1;33m,\u001b[0m \u001b[0mset_ex_length\u001b[0m\u001b[1;33m,\u001b[0m \u001b[1;34m'Rabi pulse length'\u001b[0m\u001b[1;33m,\u001b[0m \u001b[1;34m's'\u001b[0m\u001b[1;33m)\u001b[0m\u001b[1;33m,\u001b[0m \u001b[0mfilename\u001b[0m\u001b[1;33m=\u001b[0m\u001b[1;34m'Rabi'\u001b[0m\u001b[1;33m)\u001b[0m\u001b[1;33m\u001b[0m\u001b[0m\n\u001b[1;32m---> 16\u001b[1;33m \u001b[0mmeasurement_fitted\u001b[0m\u001b[1;33m,\u001b[0m \u001b[0mfitted_parameters_rabi\u001b[0m \u001b[1;33m=\u001b[0m \u001b[0mfitting\u001b[0m\u001b[1;33m.\u001b[0m\u001b[0mS21pm_fit\u001b[0m\u001b[1;33m(\u001b[0m\u001b[0mmeasurement\u001b[0m\u001b[1;33m,\u001b[0m \u001b[0mfitting\u001b[0m\u001b[1;33m.\u001b[0m\u001b[0mexp_sin_fit\u001b[0m\u001b[1;33m)\u001b[0m\u001b[1;33m\u001b[0m\u001b[0m\n\u001b[0m\u001b[0;32m     17\u001b[0m annotation = 'Phase: {0:4.4g} rad, Freq: {1:4.4g}, Decay: {2:4.4g} s'.format(fitted_parameters_rabi['phase'], \n\u001b[0;32m     18\u001b[0m                                                                              \u001b[0mfitted_parameters_rabi\u001b[0m\u001b[1;33m[\u001b[0m\u001b[1;34m'freq'\u001b[0m\u001b[1;33m]\u001b[0m\u001b[1;33m,\u001b[0m\u001b[1;33m\u001b[0m\u001b[0m\n",
      "\u001b[1;32mD:\\qtlab_replacement\\scripts\\fitting.py\u001b[0m in \u001b[0;36mS21pm_fit\u001b[1;34m(measurement, fitter)\u001b[0m\n\u001b[0;32m    130\u001b[0m                                 \u001b[0mnp\u001b[0m\u001b[1;33m.\u001b[0m\u001b[0mreal\u001b[0m\u001b[1;33m(\u001b[0m\u001b[0mmeasurement\u001b[0m\u001b[1;33m[\u001b[0m\u001b[1;34m'S21-'\u001b[0m\u001b[1;33m]\u001b[0m\u001b[1;33m[\u001b[0m\u001b[1;36m2\u001b[0m\u001b[1;33m]\u001b[0m\u001b[1;33m)\u001b[0m\u001b[1;33m,\u001b[0m\u001b[1;33m\u001b[0m\u001b[0m\n\u001b[0;32m    131\u001b[0m \t\t\t\tnp.imag(measurement['S21-'][2])]\n\u001b[1;32m--> 132\u001b[1;33m         \u001b[0mparameters\u001b[0m\u001b[1;33m,\u001b[0m \u001b[0mfitted_curve\u001b[0m \u001b[1;33m=\u001b[0m \u001b[0mfitter\u001b[0m\u001b[1;33m(\u001b[0m\u001b[0mt\u001b[0m\u001b[1;33m,\u001b[0m \u001b[0mfitdata\u001b[0m\u001b[1;33m)\u001b[0m\u001b[1;33m\u001b[0m\u001b[0m\n\u001b[0m\u001b[0;32m    133\u001b[0m         \u001b[1;32mif\u001b[0m \u001b[0mfitter\u001b[0m \u001b[1;32mis\u001b[0m \u001b[0mexp_sin_fit\u001b[0m\u001b[1;33m:\u001b[0m\u001b[1;33m\u001b[0m\u001b[0m\n\u001b[0;32m    134\u001b[0m                 \u001b[0mparameters\u001b[0m \u001b[1;33m=\u001b[0m \u001b[1;33m{\u001b[0m\u001b[1;34m'phase'\u001b[0m\u001b[1;33m:\u001b[0m\u001b[0mparameters\u001b[0m\u001b[1;33m[\u001b[0m\u001b[1;36m0\u001b[0m\u001b[1;33m]\u001b[0m\u001b[1;33m,\u001b[0m \u001b[1;34m'freq'\u001b[0m\u001b[1;33m:\u001b[0m\u001b[0mparameters\u001b[0m\u001b[1;33m[\u001b[0m\u001b[1;36m1\u001b[0m\u001b[1;33m]\u001b[0m\u001b[1;33m,\u001b[0m \u001b[1;34m'decay'\u001b[0m\u001b[1;33m:\u001b[0m \u001b[0mparameters\u001b[0m\u001b[1;33m[\u001b[0m\u001b[1;36m2\u001b[0m\u001b[1;33m]\u001b[0m\u001b[1;33m,\u001b[0m \u001b[1;34m'amplitudes'\u001b[0m\u001b[1;33m:\u001b[0m\u001b[0mparameters\u001b[0m\u001b[1;33m[\u001b[0m\u001b[1;36m3\u001b[0m\u001b[1;33m:\u001b[0m\u001b[1;33m]\u001b[0m\u001b[1;33m}\u001b[0m\u001b[1;33m\u001b[0m\u001b[0m\n",
      "\u001b[1;32mD:\\qtlab_replacement\\scripts\\fitting.py\u001b[0m in \u001b[0;36mexp_sin_fit\u001b[1;34m(x, y)\u001b[0m\n\u001b[0;32m    102\u001b[0m         \u001b[0ms\u001b[0m \u001b[1;33m=\u001b[0m \u001b[0mnp\u001b[0m\u001b[1;33m.\u001b[0m\u001b[0mimag\u001b[0m\u001b[1;33m(\u001b[0m\u001b[0mnp\u001b[0m\u001b[1;33m.\u001b[0m\u001b[0msum\u001b[0m\u001b[1;33m(\u001b[0m\u001b[0mft\u001b[0m\u001b[1;33m[\u001b[0m\u001b[1;33m:\u001b[0m\u001b[1;33m,\u001b[0m\u001b[0mfR_id\u001b[0m\u001b[1;33m]\u001b[0m\u001b[1;33m,\u001b[0m \u001b[0maxis\u001b[0m\u001b[1;33m=\u001b[0m\u001b[1;36m0\u001b[0m\u001b[1;33m)\u001b[0m\u001b[1;33m)\u001b[0m\u001b[1;33m\u001b[0m\u001b[0m\n\u001b[0;32m    103\u001b[0m         \u001b[0mphase\u001b[0m \u001b[1;33m=\u001b[0m \u001b[0mnp\u001b[0m\u001b[1;33m.\u001b[0m\u001b[0mpi\u001b[0m\u001b[1;33m+\u001b[0m\u001b[0mnp\u001b[0m\u001b[1;33m.\u001b[0m\u001b[0marctan2\u001b[0m\u001b[1;33m(\u001b[0m\u001b[0mc\u001b[0m\u001b[1;33m,\u001b[0m \u001b[0ms\u001b[0m\u001b[1;33m)\u001b[0m\u001b[1;33m\u001b[0m\u001b[0m\n\u001b[1;32m--> 104\u001b[1;33m         \u001b[0mx0\u001b[0m \u001b[1;33m=\u001b[0m \u001b[0mnp\u001b[0m\u001b[1;33m.\u001b[0m\u001b[0msqrt\u001b[0m\u001b[1;33m(\u001b[0m\u001b[0mnp\u001b[0m\u001b[1;33m.\u001b[0m\u001b[0mmean\u001b[0m\u001b[1;33m(\u001b[0m\u001b[0mnp\u001b[0m\u001b[1;33m.\u001b[0m\u001b[0mabs\u001b[0m\u001b[1;33m(\u001b[0m\u001b[0mft\u001b[0m\u001b[1;33m[\u001b[0m\u001b[1;33m:\u001b[0m\u001b[1;33m,\u001b[0m\u001b[0mfR_id\u001b[0m\u001b[1;33m]\u001b[0m\u001b[1;33m)\u001b[0m\u001b[1;33m**\u001b[0m\u001b[1;36m2\u001b[0m\u001b[1;33m)\u001b[0m\u001b[1;33m/\u001b[0m\u001b[0mnp\u001b[0m\u001b[1;33m.\u001b[0m\u001b[0mmean\u001b[0m\u001b[1;33m(\u001b[0m\u001b[0mnp\u001b[0m\u001b[1;33m.\u001b[0m\u001b[0mabs\u001b[0m\u001b[1;33m(\u001b[0m\u001b[1;33m(\u001b[0m\u001b[0mft\u001b[0m\u001b[1;33m[\u001b[0m\u001b[1;33m:\u001b[0m\u001b[1;33m,\u001b[0m\u001b[0mfR_id\u001b[0m\u001b[1;33m-\u001b[0m\u001b[1;36m1\u001b[0m\u001b[1;33m]\u001b[0m\u001b[1;33m+\u001b[0m\u001b[0mft\u001b[0m\u001b[1;33m[\u001b[0m\u001b[1;33m:\u001b[0m\u001b[1;33m,\u001b[0m\u001b[0mfR_id\u001b[0m\u001b[1;33m+\u001b[0m\u001b[1;36m1\u001b[0m\u001b[1;33m]\u001b[0m\u001b[1;33m)\u001b[0m\u001b[1;33m/\u001b[0m\u001b[1;36m2\u001b[0m\u001b[1;33m)\u001b[0m\u001b[1;33m**\u001b[0m\u001b[1;36m2\u001b[0m\u001b[1;33m)\u001b[0m\u001b[1;33m-\u001b[0m\u001b[1;36m1\u001b[0m\u001b[1;33m)\u001b[0m\u001b[1;33m/\u001b[0m\u001b[0mdomega\u001b[0m\u001b[1;33m/\u001b[0m\u001b[1;36m2\u001b[0m\u001b[1;33m\u001b[0m\u001b[0m\n\u001b[0m\u001b[0;32m    105\u001b[0m \u001b[1;33m\u001b[0m\u001b[0m\n\u001b[0;32m    106\u001b[0m         \u001b[1;31m#print (x0, np.abs(ft[:,fR_id])**2, np.abs((ft[:,fR_id-1]+ft[:,fR_id+1])/2)**2)\u001b[0m\u001b[1;33m\u001b[0m\u001b[1;33m\u001b[0m\u001b[0m\n",
      "\u001b[1;31mIndexError\u001b[0m: index 501 is out of bounds for axis 1 with size 501"
     ]
    }
   ],
   "source": [
    "ex_amplitude = 1.0#смотрим на график в S21-phase ?? как жить что частота от этого зависит\n",
    "pause_length = 16e-9#пауза между возб.импульсом и считывающим\n",
    "lengths = np.linspace(0.0e-6, 1.0e-6,501)#время наблюдения осцилляций,для фитования частоты достатоно пары периодов\n",
    "readout_begin = np.max(lengths)\n",
    "lo1.set_status(True)\n",
    "def set_ex_length(length):\n",
    "    awg_tek.set_nop(awg_tek.get_clock()/rep_rate)\n",
    "    sequence = [pg.p(None, readout_begin-length), \n",
    "                pg.p('iq_ex', length, pg.rect, ex_amplitude), \n",
    "                pg.p(None, pause_length), \n",
    "                pg.p('ro_trg', trg_length, pg.rect, 1), \n",
    "                pg.p('iq_ro', ro_dac_length, pg.rect, ro_dac_amplitude)]\n",
    "    pg.set_seq(sequence)\n",
    "    awg_tek.run()\n",
    "measurement = sweep.sweep(adc_reducer, (lengths, set_ex_length, 'Rabi pulse length', 's'), filename='Rabi')\n",
    "measurement_fitted, fitted_parameters_rabi = fitting.S21pm_fit(measurement, fitting.exp_sin_fit)\n",
    "annotation = 'Phase: {0:4.4g} rad, Freq: {1:4.4g}, Decay: {2:4.4g} s'.format(fitted_parameters_rabi['phase'], \n",
    "                                                                             fitted_parameters_rabi['freq'], \n",
    "                                                                             fitted_parameters_rabi['decay'])\n",
    "save_pkl.save_pkl({'type':'Rabi'}, measurement_fitted,annotation=annotation)"
   ]
  },
  {
   "cell_type": "code",
   "execution_count": 54,
   "metadata": {},
   "outputs": [
    {
     "data": {
      "application/vnd.jupyter.widget-view+json": {
       "model_id": "0c5e3a5f9b5e47918bb3c7e49b4875a4",
       "version_major": 2,
       "version_minor": 0
      },
      "text/plain": [
       "A Jupyter Widget"
      ]
     },
     "metadata": {},
     "output_type": "display_data"
    },
    {
     "name": "stdout",
     "output_type": "stream",
     "text": [
      "Started at:  Feb 07 2018 08:44:11\n"
     ]
    },
    {
     "name": "stderr",
     "output_type": "stream",
     "text": [
      "D:\\qtlab_replacement\\instruments\\Tektronix_AWG5014.py:647: ComplexWarning: Casting complex values to real discards the imaginary part\n",
      "  m1[:] = marker[:len(m1)]\n"
     ]
    },
    {
     "name": "stdout",
     "output_type": "stream",
     "text": [
      "\n",
      "Elapsed time: 0 h 7 m 33.85 s\n"
     ]
    },
    {
     "name": "stderr",
     "output_type": "stream",
     "text": [
      "C:\\ProgramData\\Anaconda3\\lib\\site-packages\\matplotlib\\cbook\\deprecation.py:106: MatplotlibDeprecationWarning: Adding an axes using the same arguments as a previous axes currently reuses the earlier instance.  In a future version, a new instance will always be created and returned.  Meanwhile, this warning can be suppressed, and the future behavior ensured, by passing a unique label to each axes instance.\n",
      "  warnings.warn(message, mplDeprecation, stacklevel=1)\n"
     ]
    },
    {
     "name": "stdout",
     "output_type": "stream",
     "text": [
      "[5.0877050954502784e-06, -0.015348072949736568, -0.021264953524001345, 0.029394994080049107, -0.0019874236005549273, -0.015338968560182964, -0.02127525910765183, 0.02939247361225982, -0.001961495538446413]\n"
     ]
    }
   ],
   "source": [
    "ex_amplitude = 1.0\n",
    "pi_pulse = 10e-6\n",
    "pause_length = 16e-9\n",
    "\n",
    "delays = np.linspace(0e-6, 5e-6, 51)#серия задержек после возбуждения перед считыванием состояния\n",
    "readout_begin = np.max(delays)+pi_pulse#зачем он тут прибавляет, а потом в коде вычитает? \n",
    "# раньше смысл был в том, чтобы менять длительность возбуждающей последовательности, не сдвигая считывание. То есть\n",
    "# дополнительные импульсы приделываются до считывания (котороене двигается), а не считывание приделывается к концу.\n",
    "# Сейчас это ещё раз реализовано в коде, которые делает последовательности импульсов (pg.set_seq). Если вдруг у нас будет\n",
    "# много считываний, то там тоже надо будет мутить какую-нибудь синхронизацию.\n",
    "def set_delay(delay):\n",
    "    #awg_tek.set_nop(awg_tek.get_clock()/rep_rate)\n",
    "    \n",
    "    sequence = [pg.p(None, readout_begin-pi_pulse),\n",
    "                pg.p('iq_ex', pi_pulse, pg.rect, ex_amplitude), \n",
    "                pg.p(None, delay), \n",
    "                pg.p('ro_trg', trg_length, pg.rect, 1), \n",
    "                \n",
    "                pg.p('iq_ro', ro_dac_length, pg.rect, ro_dac_amplitude)]\n",
    "    \n",
    "    pg.set_seq(sequence)\n",
    "    awg_tek.run()\n",
    "measurement = sweep.sweep(adc_reducer, (delays, set_delay, 'delay'), filename='Decay')\n",
    "\n",
    "measurement_fitted, fitted_parameters = fitting.S21pm_fit(measurement, fitting.exp_fit)\n",
    "#save_pkl.save_pkl({'type':'Decay'}, measurement_fitted)\n",
    "annotation = 'Decay: {0:4.6g} s'.format(fitted_parameters['decay'])\n",
    "save_pkl.save_pkl({'type':'Decay'}, measurement_fitted, annotation=annotation)"
   ]
  },
  {
   "cell_type": "code",
   "execution_count": null,
   "metadata": {
    "collapsed": true
   },
   "outputs": [],
   "source": []
  }
 ],
 "metadata": {
  "kernelspec": {
   "display_name": "Python 3",
   "language": "python",
   "name": "python3"
  },
  "language_info": {
   "codemirror_mode": {
    "name": "ipython",
    "version": 3
   },
   "file_extension": ".py",
   "mimetype": "text/x-python",
   "name": "python",
   "nbconvert_exporter": "python",
   "pygments_lexer": "ipython3",
   "version": "3.6.5"
  },
  "toc": {
   "base_numbering": 1,
   "nav_menu": {},
   "number_sections": true,
   "sideBar": true,
   "skip_h1_title": false,
   "title_cell": "Table of Contents",
   "title_sidebar": "Contents",
   "toc_cell": false,
   "toc_position": {},
   "toc_section_display": true,
   "toc_window_display": false
  }
 },
 "nbformat": 4,
 "nbformat_minor": 2
}
