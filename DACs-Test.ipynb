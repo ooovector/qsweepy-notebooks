{
 "cells": [
  {
   "cell_type": "code",
   "execution_count": 1,
   "metadata": {},
   "outputs": [
    {
     "name": "stdout",
     "output_type": "stream",
     "text": [
      "Failed loading module AWG500:  No module named 'ftd2xx'\n",
      "Failed loading module Labbrick:  [WinError 126] The specified module could not be found\n",
      "\n",
      "Failed loading module Signal_Hound_SA:  name 'signal_hound_dll' is not defined\n"
     ]
    }
   ],
   "source": [
    "from qsweepy import *\n",
    "from qsweepy.instruments import *\n",
    "import matplotlib.pyplot as plt\n",
    "import numpy as np"
   ]
  },
  {
   "cell_type": "code",
   "execution_count": 2,
   "metadata": {},
   "outputs": [],
   "source": [
    "CHASSIS = 0\n",
    "SLOT_AWG1 = 4\n",
    "SLOT_AWG2 = 5\n",
    "awg1 = Keysight_M3202A_S('awg1', CHASSIS, SLOT_AWG1)\n",
    "awg2 = Keysight_M3202A_S('awg2', CHASSIS, SLOT_AWG2)"
   ]
  },
  {
   "cell_type": "code",
   "execution_count": 3,
   "metadata": {},
   "outputs": [],
   "source": [
    "# channel 0 is master and triggers all others\n",
    "awg1.trigger_source_types = [6, 6,6,6] #Trigger source (soft,hard etc) 6  external per cycle, 0 -soft (from PC)\n",
    "awg1.trigger_source_channels = [4000, 4000,4000,4000] #External trigger source. 0 means PXI trigger, 4000+\n",
    "awg1.trigger_delays = [0, 0,0,0] # master channel should wait 400 ns for others to start\n",
    "awg1.trigger_behaviours = [4,4,4,4] #Rising/Falling edge etc 4 - Falling"
   ]
  },
  {
   "cell_type": "code",
   "execution_count": 4,
   "metadata": {},
   "outputs": [],
   "source": [
    "wf = np.sin(np.linspace(-np.pi,np.pi,awg1.get_nop(), endpoint=False)*100)\n",
    "wf_d= np.asarray(wf).tolist()\n",
    "awg2.trigger_source_types = [0,6,6,6]\n",
    "awg2.trigger_source_channels = [0, 4000,4000,4000]\n",
    "awg2.trigger_delays = [40, 0,0,0]\n",
    "awg2.trigger_behaviours = [0,4,4,4]\n",
    "awg2.set_trigger_mode(2)\n",
    "for channel in range(0,4):\n",
    "    awg2.set_amplitude(0.2, channel=channel)\n",
    "    awg2.set_offset(0.0,channel=channel)\n",
    "    awg2.set_output(1, channel=channel)\n",
    "    awg2.set_waveform(waveform = wf_d, channel=channel)\n",
    "for channel in range(0,4):\n",
    "    awg1.set_amplitude(0.2, channel=channel)\n",
    "    awg1.set_offset(0.0,channel=channel)\n",
    "    awg1.set_output(1, channel=channel)\n",
    "    awg1.set_waveform(waveform = wf_d, channel=channel)\n",
    "awg2.run()\n",
    "awg1.run()"
   ]
  },
  {
   "cell_type": "code",
   "execution_count": 5,
   "metadata": {},
   "outputs": [],
   "source": [
    "awg2.set_marker(length=10, delay=0, channel=0)\n",
    "awg2.run()"
   ]
  },
  {
   "cell_type": "code",
   "execution_count": null,
   "metadata": {},
   "outputs": [],
   "source": []
  }
 ],
 "metadata": {
  "kernelspec": {
   "display_name": "Python 3",
   "language": "python",
   "name": "python3"
  },
  "language_info": {
   "codemirror_mode": {
    "name": "ipython",
    "version": 3
   },
   "file_extension": ".py",
   "mimetype": "text/x-python",
   "name": "python",
   "nbconvert_exporter": "python",
   "pygments_lexer": "ipython3",
   "version": "3.6.5"
  }
 },
 "nbformat": 4,
 "nbformat_minor": 2
}
