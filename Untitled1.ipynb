{
 "cells": [
  {
   "cell_type": "code",
   "execution_count": 5,
   "metadata": {
    "ExecuteTime": {
     "end_time": "2019-07-22T15:09:11.984930Z",
     "start_time": "2019-07-22T15:09:11.978893Z"
    }
   },
   "outputs": [
    {
     "data": {
      "text/plain": [
       "'C:\\\\qtlab_replacement'"
      ]
     },
     "execution_count": 5,
     "metadata": {},
     "output_type": "execute_result"
    }
   ],
   "source": [
    "pwd"
   ]
  },
  {
   "cell_type": "code",
   "execution_count": 6,
   "metadata": {
    "ExecuteTime": {
     "end_time": "2019-07-22T15:09:48.853327Z",
     "start_time": "2019-07-22T15:09:48.315587Z"
    }
   },
   "outputs": [],
   "source": [
    "import numpy as np\n",
    "import zhinst\n",
    "import textwrap\n",
    "from qsweepy.instrument_drivers import HDAWG_1808_new"
   ]
  },
  {
   "cell_type": "code",
   "execution_count": 7,
   "metadata": {
    "ExecuteTime": {
     "end_time": "2019-07-22T15:09:53.870924Z",
     "start_time": "2019-07-22T15:09:53.866903Z"
    }
   },
   "outputs": [],
   "source": [
    "from matplotlib.pyplot import *\n",
    "import os"
   ]
  },
  {
   "cell_type": "code",
   "execution_count": 8,
   "metadata": {
    "ExecuteTime": {
     "end_time": "2019-07-22T15:09:57.725079Z",
     "start_time": "2019-07-22T15:09:54.867450Z"
    }
   },
   "outputs": [
    {
     "name": "stdout",
     "output_type": "stream",
     "text": [
      "Discovered device `dev8108`: HDAWG8 with options MF.\n",
      "Creating an API session for device `dev8108` on `127.0.0.1`, `8004` with apilevel `6`.\n",
      "Trigger output is assigned to AWG Trigger 1, controlled by AWG sequencer commands.\n",
      "Trigger output is assigned to AWG Trigger 1, controlled by AWG sequencer commands.\n",
      "Trigger output is assigned to AWG Trigger 1, controlled by AWG sequencer commands.\n",
      "Trigger output is assigned to AWG Trigger 1, controlled by AWG sequencer commands.\n",
      "Trigger output is assigned to AWG Trigger 1, controlled by AWG sequencer commands.\n",
      "Trigger output is assigned to AWG Trigger 1, controlled by AWG sequencer commands.\n",
      "Trigger output is assigned to AWG Trigger 1, controlled by AWG sequencer commands.\n",
      "Trigger output is assigned to AWG Trigger 1, controlled by AWG sequencer commands.\n"
     ]
    }
   ],
   "source": [
    "awg=HDAWG_1808_new.Zurich_HDAWG1808(\"hdawg-dev8108\")"
   ]
  },
  {
   "cell_type": "code",
   "execution_count": 12,
   "metadata": {
    "ExecuteTime": {
     "end_time": "2019-07-22T15:17:52.493417Z",
     "start_time": "2019-07-22T15:17:52.490394Z"
    }
   },
   "outputs": [],
   "source": [
    "import time"
   ]
  },
  {
   "cell_type": "code",
   "execution_count": 88,
   "metadata": {
    "ExecuteTime": {
     "end_time": "2019-07-24T09:38:27.053180Z",
     "start_time": "2019-07-24T09:38:27.015179Z"
    }
   },
   "outputs": [],
   "source": [
    "AWG_N=10000\n",
    "waveform_3 = np.sinc(np.linspace(-4*np.pi, 4*np.pi, AWG_N))\n",
    "waveform_4 = np.sinc(np.linspace(-6*np.pi, 6*np.pi, AWG_N))\n",
    "#vector = np.asarray(np.transpose([waveform_3, waveform_4]).ravel())"
   ]
  },
  {
   "cell_type": "code",
   "execution_count": 36,
   "metadata": {
    "collapsed": true
   },
   "outputs": [],
   "source": [
    "ch1 = np.asarray(waveform_3*(2**13), dtype=np.int16)\n",
    "ch2 = np.asarray(waveform_4*(2**13), dtype=np.int16)\n",
    "#m1 = np.asarray(([0]+[2**16-1])*(AWG_N//2), dtype=np.uint16)\n",
    "#m2 = np.asarray(([0, 0]+[2**16-1, 2**16-1])*(AWG_N//4), dtype=np.uint16)\n",
    "m1 = np.asarray((150*[1]+50*[0])*(AWG_N//200), dtype=np.uint16)\n",
    "m2 = np.asarray((50*[0, 0]+50*[1, 1])*(AWG_N//200), dtype=np.uint16)\n",
    "vector = np.asarray(np.transpose([ch1,ch2]).ravel())\n",
    "markers = np.asarray(np.transpose([m1,m2]).ravel())\n",
    "vector = (vector<<2 | markers).astype('int16')"
   ]
  },
  {
   "cell_type": "code",
   "execution_count": 20,
   "metadata": {
    "ExecuteTime": {
     "end_time": "2019-07-22T15:21:17.689389Z",
     "start_time": "2019-07-22T15:21:17.473472Z"
    }
   },
   "outputs": [
    {
     "name": "stdout",
     "output_type": "stream",
     "text": [
      "0.21089792251586914\n"
     ]
    }
   ],
   "source": [
    "t1=time.time()\n",
    "awg.set_waveform(channel=3, waveform=waveform_4, index=0)\n",
    "t2=time.time()-t1\n",
    "print(t2) "
   ]
  },
  {
   "cell_type": "code",
   "execution_count": 14,
   "metadata": {},
   "outputs": [
    {
     "data": {
      "text/plain": [
       "(50000,)"
      ]
     },
     "execution_count": 14,
     "metadata": {},
     "output_type": "execute_result"
    }
   ],
   "source": [
    "awg.set"
   ]
  },
  {
   "cell_type": "code",
   "execution_count": 15,
   "metadata": {
    "ExecuteTime": {
     "end_time": "2019-07-22T15:18:20.761876Z",
     "start_time": "2019-07-22T15:18:20.755853Z"
    }
   },
   "outputs": [],
   "source": [
    "mark1 = np.asarray((150*[1]+50*[0])*(AWG_N//200), dtype=np.int)\n",
    "mark2 = np.asarray((50*[0, 0]+50*[1, 1])*(AWG_N//200), dtype=np.int)"
   ]
  },
  {
   "cell_type": "code",
   "execution_count": 46,
   "metadata": {
    "ExecuteTime": {
     "end_time": "2019-07-24T08:14:29.953357Z",
     "start_time": "2019-07-24T08:14:29.927371Z"
    }
   },
   "outputs": [],
   "source": [
    "mark1 = np.asarray((150*[1]+9850*[0]), dtype=np.int)\n",
    "mark2 = np.asarray((50*[0, 0]+50*[1, 1])*(AWG_N//200), dtype=np.int)"
   ]
  },
  {
   "cell_type": "code",
   "execution_count": 24,
   "metadata": {
    "ExecuteTime": {
     "end_time": "2019-07-22T15:27:56.274150Z",
     "start_time": "2019-07-22T15:27:56.113207Z"
    }
   },
   "outputs": [
    {
     "name": "stdout",
     "output_type": "stream",
     "text": [
      "0.1569526195526123\n"
     ]
    }
   ],
   "source": [
    "t1=time.time()\n",
    "awg.set_digital(channel=2, marker=mark1, index=0)\n",
    "t2=time.time()-t1\n",
    "print(t2)"
   ]
  },
  {
   "cell_type": "code",
   "execution_count": null,
   "metadata": {
    "collapsed": true
   },
   "outputs": [],
   "source": [
    "awg.daq.setInt(String.Format(\"/{0}/awgs/0/userregs/0\", dev), 0);\n",
    "awg.daq.setInt('/' + awg.device + '/awgs/0/userregs/0', index);"
   ]
  },
  {
   "cell_type": "code",
   "execution_count": 45,
   "metadata": {
    "ExecuteTime": {
     "end_time": "2019-07-24T08:03:20.510619Z",
     "start_time": "2019-07-24T08:03:20.502640Z"
    }
   },
   "outputs": [
    {
     "name": "stdout",
     "output_type": "stream",
     "text": [
      "0.004021644592285156\n"
     ]
    }
   ],
   "source": [
    "t1=time.time()\n",
    "awg.daq.setInt('/' + awg.device + '/awgs/0/userregs/0', 1000);\n",
    "t2=time.time()-t1\n",
    "print(t2)"
   ]
  },
  {
   "cell_type": "code",
   "execution_count": 98,
   "metadata": {
    "ExecuteTime": {
     "end_time": "2019-07-24T09:46:05.618145Z",
     "start_time": "2019-07-24T09:46:05.611124Z"
    }
   },
   "outputs": [
    {
     "name": "stdout",
     "output_type": "stream",
     "text": [
      "100 9999\n",
      "[1 1 1 ... 1 1 1]\n"
     ]
    }
   ],
   "source": [
    "index1=np.nonzero(mark2)[0][0]\n",
    "index2=np.nonzero(mark2)[0][len(np.nonzero(mark2)[0])-1]\n",
    "print(index1, index2)\n",
    "print(mark2[index1:index2])"
   ]
  },
  {
   "cell_type": "code",
   "execution_count": 126,
   "metadata": {
    "ExecuteTime": {
     "end_time": "2019-07-24T11:03:31.671861Z",
     "start_time": "2019-07-24T11:03:31.665864Z"
    }
   },
   "outputs": [
    {
     "data": {
      "text/plain": [
       "[0, 1, 0, 1, 2, 2, 0, 0, 0, 0]"
      ]
     },
     "execution_count": 126,
     "metadata": {},
     "output_type": "execute_result"
    }
   ],
   "source": [
    "a=[0,1,0,1,2,2,0,0,0,0,]\n",
    "a"
   ]
  },
  {
   "cell_type": "code",
   "execution_count": 125,
   "metadata": {
    "ExecuteTime": {
     "end_time": "2019-07-24T11:03:23.924551Z",
     "start_time": "2019-07-24T11:03:23.920554Z"
    }
   },
   "outputs": [
    {
     "data": {
      "text/plain": [
       "(array([1, 3, 4, 5], dtype=int64),)"
      ]
     },
     "execution_count": 125,
     "metadata": {},
     "output_type": "execute_result"
    }
   ],
   "source": [
    "np.nonzero(a)"
   ]
  },
  {
   "cell_type": "code",
   "execution_count": 130,
   "metadata": {
    "ExecuteTime": {
     "end_time": "2019-07-24T11:04:01.317636Z",
     "start_time": "2019-07-24T11:04:01.312662Z"
    }
   },
   "outputs": [
    {
     "data": {
      "text/plain": [
       "array([0], dtype=int64)"
      ]
     },
     "execution_count": 130,
     "metadata": {},
     "output_type": "execute_result"
    }
   ],
   "source": [
    "result=np.where(a!=0)\n",
    "result[0]"
   ]
  },
  {
   "cell_type": "code",
   "execution_count": 104,
   "metadata": {
    "ExecuteTime": {
     "end_time": "2019-07-24T09:47:53.056716Z",
     "start_time": "2019-07-24T09:47:53.051720Z"
    }
   },
   "outputs": [
    {
     "data": {
      "text/plain": [
       "(array([ 100,  101,  102, ..., 9997, 9998, 9999], dtype=int64),)"
      ]
     },
     "execution_count": 104,
     "metadata": {},
     "output_type": "execute_result"
    }
   ],
   "source": [
    "np.nonzero(mark2)"
   ]
  },
  {
   "cell_type": "code",
   "execution_count": 109,
   "metadata": {
    "ExecuteTime": {
     "end_time": "2019-07-24T10:57:29.485063Z",
     "start_time": "2019-07-24T10:57:29.479095Z"
    }
   },
   "outputs": [
    {
     "data": {
      "text/plain": [
       "array([0, 0, 0, ..., 1, 1, 1])"
      ]
     },
     "execution_count": 109,
     "metadata": {},
     "output_type": "execute_result"
    }
   ],
   "source": [
    "mark2.reshape(len(mark2))"
   ]
  },
  {
   "cell_type": "code",
   "execution_count": 90,
   "metadata": {
    "ExecuteTime": {
     "end_time": "2019-07-24T09:38:43.411333Z",
     "start_time": "2019-07-24T09:38:43.404338Z"
    }
   },
   "outputs": [
    {
     "name": "stdout",
     "output_type": "stream",
     "text": [
      "0\n"
     ]
    }
   ],
   "source": [
    "index1=np.nonzero(waveform_3)[0][0]\n",
    "print(index1)"
   ]
  },
  {
   "cell_type": "code",
   "execution_count": 76,
   "metadata": {
    "ExecuteTime": {
     "end_time": "2019-07-24T08:38:48.917744Z",
     "start_time": "2019-07-24T08:38:48.913746Z"
    }
   },
   "outputs": [
    {
     "data": {
      "text/plain": [
       "0"
      ]
     },
     "execution_count": 76,
     "metadata": {},
     "output_type": "execute_result"
    }
   ],
   "source": [
    "len(mark2)-1-np.nonzero(mark2)[0][len(np.nonzero(mark2)[0]) - 1]"
   ]
  },
  {
   "cell_type": "code",
   "execution_count": 65,
   "metadata": {
    "ExecuteTime": {
     "end_time": "2019-07-24T08:30:00.249899Z",
     "start_time": "2019-07-24T08:30:00.244923Z"
    }
   },
   "outputs": [
    {
     "data": {
      "text/plain": [
       "5000"
      ]
     },
     "execution_count": 65,
     "metadata": {},
     "output_type": "execute_result"
    }
   ],
   "source": [
    "len(np.nonzero(mark2)[0])"
   ]
  },
  {
   "cell_type": "code",
   "execution_count": 54,
   "metadata": {
    "ExecuteTime": {
     "end_time": "2019-07-24T08:19:38.437588Z",
     "start_time": "2019-07-24T08:19:38.431584Z"
    }
   },
   "outputs": [
    {
     "data": {
      "text/plain": [
       "array([0.02478166, 0.02482725, 0.02487132, ..., 0.02487132, 0.02482725,\n",
       "       0.02478166])"
      ]
     },
     "execution_count": 54,
     "metadata": {},
     "output_type": "execute_result"
    }
   ],
   "source": [
    "a1"
   ]
  },
  {
   "cell_type": "code",
   "execution_count": 53,
   "metadata": {
    "ExecuteTime": {
     "end_time": "2019-07-24T08:19:26.089516Z",
     "start_time": "2019-07-24T08:19:25.641722Z"
    }
   },
   "outputs": [
    {
     "data": {
      "image/png": "[encoded data removed]",
      "text/plain": [
       "<Figure size 432x288 with 1 Axes>"
      ]
     },
     "metadata": {},
     "output_type": "display_data"
    }
   ],
   "source": [
    "a1=awg.get_waveform(channel=0)\n",
    "a2=awg.get_waveform(channel=1)\n",
    "b1=awg.get_digital(channel=0)\n",
    "#print(a)\n",
    "figure()\n",
    "plot(a1)\n",
    "plot(a2)\n",
    "plot(b1)\n",
    "show()"
   ]
  },
  {
   "cell_type": "code",
   "execution_count": 14,
   "metadata": {
    "collapsed": true
   },
   "outputs": [],
   "source": [
    "awg.initial_param_values.update([['nop',50000]])\n",
    "awg.set_cur_prog(awg.initial_param_values)"
   ]
  },
  {
   "cell_type": "code",
   "execution_count": 11,
   "metadata": {},
   "outputs": [
    {
     "name": "stdout",
     "output_type": "stream",
     "text": [
      "Compilation successful with no warnings, will upload the program to the instrument.\n",
      "0 awgModule/progress: 0.00\n",
      "1 awgModule/progress: 1.00\n",
      "Upload to the instrument successful.\n",
      "Time:  0.6955864136459861\n",
      "0.7130410671234131\n"
     ]
    }
   ],
   "source": [
    "t1=time.time()\n",
    "awg.set_awg_program(1,awg.current_program)\n",
    "t2=time.time()-t1\n",
    "print(t2)"
   ]
  },
  {
   "cell_type": "code",
   "execution_count": 63,
   "metadata": {},
   "outputs": [
    {
     "ename": "NameError",
     "evalue": "name 'self' is not defined",
     "output_type": "error",
     "traceback": [
      "\u001b[1;31m---------------------------------------------------------------------------\u001b[0m",
      "\u001b[1;31mNameError\u001b[0m                                 Traceback (most recent call last)",
      "\u001b[1;32m<ipython-input-63-28934a0fc53b>\u001b[0m in \u001b[0;36m<module>\u001b[1;34m()\u001b[0m\n\u001b[1;32m----> 1\u001b[1;33m \u001b[0mawg\u001b[0m\u001b[1;33m.\u001b[0m\u001b[0msend_waveform\u001b[0m\u001b[1;33m(\u001b[0m\u001b[0mself\u001b[0m\u001b[1;33m,\u001b[0m \u001b[0msequencer\u001b[0m\u001b[1;33m,\u001b[0m \u001b[0mindex\u001b[0m\u001b[1;33m,\u001b[0m \u001b[0mfilename\u001b[0m\u001b[1;33m,\u001b[0m \u001b[0mwave1\u001b[0m\u001b[1;33m,\u001b[0m \u001b[0mwave2\u001b[0m\u001b[1;33m,\u001b[0m \u001b[0mmarker1\u001b[0m\u001b[1;33m,\u001b[0m \u001b[0mmarker2\u001b[0m\u001b[1;33m)\u001b[0m\u001b[1;33m\u001b[0m\u001b[0m\n\u001b[0m\u001b[0;32m      2\u001b[0m \u001b[1;33m\u001b[0m\u001b[0m\n",
      "\u001b[1;31mNameError\u001b[0m: name 'self' is not defined"
     ]
    }
   ],
   "source": [
    "awg.send_waveform(self, sequencer, index, filename, wave1, wave2, marker1, marker2)\n",
    "\n"
   ]
  },
  {
   "cell_type": "code",
   "execution_count": 22,
   "metadata": {},
   "outputs": [
    {
     "ename": "ArgumentError",
     "evalue": "Python argument types in\n    ziDAQServer.getInt(ziDAQServer, list)\ndid not match C++ signature:\n    getInt(class zhinst::pyDAQServer {lvalue}, class std::basic_string<char,struct std::char_traits<char>,class std::allocator<char> >)",
     "output_type": "error",
     "traceback": [
      "\u001b[1;31m---------------------------------------------------------------------------\u001b[0m",
      "\u001b[1;31mArgumentError\u001b[0m                             Traceback (most recent call last)",
      "\u001b[1;32m<ipython-input-22-da1770db9b38>\u001b[0m in \u001b[0;36m<module>\u001b[1;34m()\u001b[0m\n\u001b[1;32m----> 1\u001b[1;33m \u001b[0mawg\u001b[0m\u001b[1;33m.\u001b[0m\u001b[0mdaq\u001b[0m\u001b[1;33m.\u001b[0m\u001b[0mgetInt\u001b[0m\u001b[1;33m(\u001b[0m\u001b[1;33m[\u001b[0m\u001b[1;33m[\u001b[0m\u001b[1;34m'/'\u001b[0m \u001b[1;33m+\u001b[0m \u001b[0mawg\u001b[0m\u001b[1;33m.\u001b[0m\u001b[0mdevice\u001b[0m \u001b[1;33m+\u001b[0m \u001b[1;34m'/SIGOUTS/%d/ON'\u001b[0m \u001b[1;33m%\u001b[0m \u001b[1;36m0\u001b[0m\u001b[1;33m]\u001b[0m\u001b[1;33m]\u001b[0m\u001b[1;33m)\u001b[0m\u001b[1;33m\u001b[0m\u001b[0m\n\u001b[0m",
      "\u001b[1;31mArgumentError\u001b[0m: Python argument types in\n    ziDAQServer.getInt(ziDAQServer, list)\ndid not match C++ signature:\n    getInt(class zhinst::pyDAQServer {lvalue}, class std::basic_string<char,struct std::char_traits<char>,class std::allocator<char> >)"
     ]
    }
   ],
   "source": [
    "awg.daq.getInt([['/' + awg.device + '/SIGOUTS/%d/ON' % 0]])"
   ]
  },
  {
   "cell_type": "code",
   "execution_count": 23,
   "metadata": {
    "collapsed": true
   },
   "outputs": [],
   "source": [
    "awg.set_all_outs()"
   ]
  },
  {
   "cell_type": "code",
   "execution_count": 28,
   "metadata": {
    "ExecuteTime": {
     "end_time": "2019-07-22T16:38:38.763506Z",
     "start_time": "2019-07-22T16:38:38.757526Z"
    }
   },
   "outputs": [],
   "source": [
    "awg.daq.setInt('/' + awg.device + '/awgs/%d/single'%1, 1)"
   ]
  },
  {
   "cell_type": "code",
   "execution_count": 13,
   "metadata": {
    "collapsed": true
   },
   "outputs": [],
   "source": [
    "awg.stop()"
   ]
  },
  {
   "cell_type": "code",
   "execution_count": 29,
   "metadata": {
    "ExecuteTime": {
     "end_time": "2019-07-22T16:43:27.214791Z",
     "start_time": "2019-07-22T16:43:26.709012Z"
    }
   },
   "outputs": [],
   "source": [
    "from qsweepy import awg_iq_multi"
   ]
  },
  {
   "cell_type": "code",
   "execution_count": 33,
   "metadata": {
    "ExecuteTime": {
     "end_time": "2019-07-22T16:46:44.204729Z",
     "start_time": "2019-07-22T16:46:44.201711Z"
    }
   },
   "outputs": [],
   "source": [
    "from qsweepy.ponyfiles.exdir_db import Exdir_db\n",
    "from qsweepy.ponyfiles import database"
   ]
  },
  {
   "cell_type": "code",
   "execution_count": 35,
   "metadata": {
    "ExecuteTime": {
     "end_time": "2019-07-22T16:47:06.170205Z",
     "start_time": "2019-07-22T16:47:06.011261Z"
    }
   },
   "outputs": [],
   "source": [
    "db = database.MyDatabase()\n",
    "exdir_db_inst = Exdir_db(db=db, sample_name=\"XUY\")"
   ]
  },
  {
   "cell_type": "code",
   "execution_count": 38,
   "metadata": {
    "ExecuteTime": {
     "end_time": "2019-07-22T16:47:38.084939Z",
     "start_time": "2019-07-22T16:47:38.081906Z"
    }
   },
   "outputs": [],
   "source": [
    "iq_awg = awg_iq_multi.Awg_iq_multi(awg, awg, 0, 1, None, exdir_db_inst)"
   ]
  },
  {
   "cell_type": "code",
   "execution_count": 40,
   "metadata": {
    "ExecuteTime": {
     "end_time": "2019-07-22T16:48:43.916577Z",
     "start_time": "2019-07-22T16:48:43.906604Z"
    }
   },
   "outputs": [
    {
     "ename": "AttributeError",
     "evalue": "'Awg_iq_multi' object has no attribute 'waveform'",
     "output_type": "error",
     "traceback": [
      "\u001b[1;31m---------------------------------------------------------------------------\u001b[0m",
      "\u001b[1;31mAttributeError\u001b[0m                            Traceback (most recent call last)",
      "\u001b[1;32m<ipython-input-40-20d17c197d73>\u001b[0m in \u001b[0;36m<module>\u001b[1;34m()\u001b[0m\n\u001b[1;32m----> 1\u001b[1;33m \u001b[0miq_awg\u001b[0m\u001b[1;33m.\u001b[0m\u001b[0mget_waveform\u001b[0m\u001b[1;33m(\u001b[0m\u001b[1;33m)\u001b[0m\u001b[1;33m\u001b[0m\u001b[0m\n\u001b[0m",
      "\u001b[1;32mC:\\qtlab_replacement\\qsweepy\\awg_iq_multi.py\u001b[0m in \u001b[0;36mget_waveform\u001b[1;34m(self)\u001b[0m\n\u001b[0;32m    246\u001b[0m \u001b[1;33m\u001b[0m\u001b[0m\n\u001b[0;32m    247\u001b[0m         \u001b[1;32mdef\u001b[0m \u001b[0mget_waveform\u001b[0m\u001b[1;33m(\u001b[0m\u001b[0mself\u001b[0m\u001b[1;33m)\u001b[0m\u001b[1;33m:\u001b[0m\u001b[1;33m\u001b[0m\u001b[0m\n\u001b[1;32m--> 248\u001b[1;33m                 \u001b[1;32mreturn\u001b[0m \u001b[0mself\u001b[0m\u001b[1;33m.\u001b[0m\u001b[0mwaveform\u001b[0m\u001b[1;33m\u001b[0m\u001b[0m\n\u001b[0m\u001b[0;32m    249\u001b[0m \u001b[1;33m\u001b[0m\u001b[0m\n\u001b[0;32m    250\u001b[0m         \u001b[1;32mdef\u001b[0m \u001b[0mset_trigger_mode\u001b[0m\u001b[1;33m(\u001b[0m\u001b[0mself\u001b[0m\u001b[1;33m,\u001b[0m \u001b[0mmode\u001b[0m\u001b[1;33m)\u001b[0m\u001b[1;33m:\u001b[0m\u001b[1;33m\u001b[0m\u001b[0m\n",
      "\u001b[1;31mAttributeError\u001b[0m: 'Awg_iq_multi' object has no attribute 'waveform'"
     ]
    }
   ],
   "source": [
    "iq_awg."
   ]
  },
  {
   "cell_type": "code",
   "execution_count": 10,
   "metadata": {
    "ExecuteTime": {
     "end_time": "2019-07-22T15:17:41.580524Z",
     "start_time": "2019-07-22T15:17:32.859686Z"
    }
   },
   "outputs": [
    {
     "name": "stdout",
     "output_type": "stream",
     "text": [
      "Compilation successful with no warnings, will upload the program to the instrument.\n",
      "0 awgModule/progress: 0.26\n",
      "1 awgModule/progress: 0.98\n",
      "2 awgModule/progress: 0.98\n",
      "3 awgModule/progress: 1.00\n",
      "Upload to the instrument successful.\n",
      "Time:  0.8842186675759081\n",
      "Output is assigned to Output 1 Marker 1.\n",
      "Output is assigned to Output 2 Marker 2.\n",
      "Compilation successful with no warnings, will upload the program to the instrument.\n",
      "0 awgModule/progress: 0.00\n",
      "1 awgModule/progress: 1.00\n",
      "Upload to the instrument successful.\n",
      "Time:  0.7305085290386728\n",
      "Output is assigned to Output 1 Marker 1.\n",
      "Output is assigned to Output 2 Marker 2.\n",
      "Compilation successful with no warnings, will upload the program to the instrument.\n",
      "0 awgModule/progress: 0.00\n",
      "1 awgModule/progress: 1.00\n",
      "Upload to the instrument successful.\n",
      "Time:  0.6994275890816652\n",
      "Output is assigned to Output 1 Marker 1.\n",
      "Output is assigned to Output 2 Marker 2.\n",
      "Compilation successful with no warnings, will upload the program to the instrument.\n",
      "0 awgModule/progress: 0.00\n",
      "1 awgModule/progress: 1.00\n",
      "Upload to the instrument successful.\n",
      "Time:  0.6737427355225805\n",
      "Output is assigned to Output 1 Marker 1.\n",
      "Output is assigned to Output 2 Marker 2.\n"
     ]
    }
   ],
   "source": [
    "awg.stop()\n",
    "awg.set_trigger_impedance_1e3()\n",
    "awg.set_dig_trig1_source([0,0,0,0])\n",
    "#awg.set_dig_trig2_source([1,1,1,1])\n",
    "awg.set_dig_trig1_slope([1,1,1,1]) # 0 - Level sensitive trigger, 1 - Rising edge trigger, 2 - Falling edge trigger, 3 - Rising or falling edge trigger \n",
    "#awg.set_dig_trig2_slope([1,1,1,1]) # 0 - Level sensitive trigger, 1 - Rising edge trigger, 2 - Falling edge trigger, 3 - Rising or falling edge trigger \n",
    "awg.set_trig_level(0.6)\n",
    "\n",
    "\n",
    "marker_length = 100\n",
    "#readout_trigger_delay = 185\n",
    "readout_trigger_delay = 0\n",
    "trg_length = 10e-9\n",
    "\n",
    "ex_clock = 1000e6\n",
    "#ro_clock = 1250e6\n",
    "ro_clock = 1000e6\n",
    "\n",
    "rep_rate = 10e3 # частота повторений эксперимента\n",
    "global_num_points = 100000-500\n",
    "\n",
    "#awg.set_clock(1e9)\n",
    "#awg.set_nop(ex_clock/rep_rate-500) # репрейт нужно задавать по=хорошему только на управляющей_t\n",
    "awg.set_nop(numpts=10000)\n",
    "\n",
    "for sequencer in range(4):\n",
    "    awg.set_awg_program(sequencer=sequencer, text_program=awg.current_program)\n",
    "    awg.set_marker_out(channel=np.int(2*sequencer),source=4) #set marker 1 to awg mark out 1 for sequencer\n",
    "    awg.set_marker_out(channel=np.int(2*sequencer+1),source=7) #set marker 2 to awg mark out 2 for sequencer\n",
    "for channel in range(8):    \n",
    "    awg.set_amplitude(channel=channel, amplitude=1.0)\n",
    "    awg.set_offset(channel=channel, offset=0*1.0)\n",
    "awg.set_all_outs()\n",
    "#for channel in range(8):      \n",
    "    \n",
    "    #awg_tek.set_waveform([0]*global_num_points, channel=channel)\n",
    "\n",
    "#awg.run() \n",
    "\n",
    "\n",
    "\n",
    "\n",
    "\n",
    "\n",
    "\n"
   ]
  },
  {
   "cell_type": "code",
   "execution_count": 6,
   "metadata": {
    "collapsed": true
   },
   "outputs": [],
   "source": [
    "awg.run()"
   ]
  },
  {
   "cell_type": "code",
   "execution_count": 7,
   "metadata": {
    "collapsed": true
   },
   "outputs": [],
   "source": [
    "awg.stop()"
   ]
  },
  {
   "cell_type": "code",
   "execution_count": 88,
   "metadata": {
    "collapsed": true
   },
   "outputs": [],
   "source": [
    "ch1 = np.asarray(waveform_3*(2**15), dtype=np.int16)\n",
    "ch2 = np.asarray(waveform_4*(2**15), dtype=np.int16)\n",
    "m1 = np.asarray(([0]+[2**16-1])*(AWG_N//2), dtype=np.uint16)\n",
    "m2 = np.asarray(([0, 0]+[2**16-1, 2**16-1])*(AWG_N//4), dtype=np.uint16)\n",
    "vector = np.asarray(np.transpose([waveform_3, waveform_4]).ravel())"
   ]
  },
  {
   "cell_type": "code",
   "execution_count": 220,
   "metadata": {
    "collapsed": true
   },
   "outputs": [],
   "source": [
    "ch1 = np.asarray(waveform_3*(2**15), dtype=np.int32)\n",
    "ch2 = np.asarray(waveform_4*(2**15), dtype=np.int32)\n",
    "m1 = np.asarray(([0]+[2**16-1])*(AWG_N//2), dtype=np.uint16)\n",
    "m2 = np.asarray(([0, 0]+[2**16-1, 2**16-1])*(AWG_N//4), dtype=np.uint16)\n",
    "vector = np.asarray(np.transpose([waveform_3, waveform_4]).ravel())"
   ]
  },
  {
   "cell_type": "code",
   "execution_count": 207,
   "metadata": {
    "collapsed": true
   },
   "outputs": [],
   "source": [
    "ch1 = np.asarray(waveform_3*(2**15), dtype=np.int32)\n",
    "ch2 = np.asarray(waveform_4*(2**15), dtype=np.int32)\n",
    "#m1 = np.asarray(([0]+[2**16-1])*(AWG_N//2), dtype=np.uint16)\n",
    "#m2 = np.asarray(([0, 0]+[2**16-1, 2**16-1])*(AWG_N//4), dtype=np.uint16)\n",
    "#m1 = np.asarray((100*[1]+100*[0])*(AWG_N//200), dtype=np.uint16)\n",
    "#m2 = np.asarray(([0, 0]+[2, 2])*(AWG_N//4), dtype=np.uint16)\n",
    "m1 = np.ones((AWG_N), dtype=np.uint16)\n",
    "m2 = np.zeros((AWG_N), dtype=np.uint16)\n",
    "vector = np.asarray(np.transpose([ch1,ch2]).ravel())\n",
    "markers = np.asarray(np.transpose([m1,m2]).ravel())"
   ]
  },
  {
   "cell_type": "code",
   "execution_count": 34,
   "metadata": {
    "collapsed": true
   },
   "outputs": [],
   "source": [
    "awg.stop()"
   ]
  },
  {
   "cell_type": "code",
   "execution_count": 56,
   "metadata": {
    "collapsed": true
   },
   "outputs": [],
   "source": [
    "AWG_N=10000\n",
    "#AWG_N=100\n",
    "waveform_3 = np.sinc(np.linspace(-4*np.pi, 4*np.pi, AWG_N))\n",
    "waveform_4 = np.sinc(np.linspace(-6*np.pi, 6*np.pi, AWG_N))\n",
    "#vector = np.asarray(np.transpose([waveform_3, waveform_4]).ravel())"
   ]
  },
  {
   "cell_type": "markdown",
   "metadata": {},
   "source": [
    "## ЭТО РАБОТАЕТ"
   ]
  },
  {
   "cell_type": "code",
   "execution_count": 59,
   "metadata": {},
   "outputs": [],
   "source": [
    "ch1 = np.asarray(waveform_3*(2**13), dtype=np.int16)\n",
    "ch2 = np.asarray(waveform_4*(2**13), dtype=np.int16)\n",
    "#m1 = np.asarray(([0]+[2**16-1])*(AWG_N//2), dtype=np.uint16)\n",
    "#m2 = np.asarray(([0, 0]+[2**16-1, 2**16-1])*(AWG_N//4), dtype=np.uint16)\n",
    "m1 = np.asarray((150*[1]+50*[0])*(AWG_N//200), dtype=np.uint16)\n",
    "m2 = np.asarray((50*[1, 1]+50*[0, 0])*(AWG_N//200), dtype=np.uint16)\n",
    "vector = np.asarray(np.transpose([ch1,ch2]).ravel())\n",
    "markers = np.asarray(np.transpose([m1,m2]).ravel())\n",
    "vector = (vector<<2 | markers).astype('int16')"
   ]
  },
  {
   "cell_type": "code",
   "execution_count": 60,
   "metadata": {},
   "outputs": [
    {
     "name": "stdout",
     "output_type": "stream",
     "text": [
      "0.14000797271728516\n"
     ]
    }
   ],
   "source": [
    "t1=time.time()\n",
    "awg.send_waveform(sequencer=0, index=0, filename='1', wave1=waveform_3, wave2=waveform_4, marker1=m1, marker2=m2)\n",
    "t2=time.time()-t1\n",
    "print(t2)\n"
   ]
  },
  {
   "cell_type": "code",
   "execution_count": 41,
   "metadata": {
    "collapsed": true
   },
   "outputs": [],
   "source": [
    "awg.stop()"
   ]
  },
  {
   "cell_type": "code",
   "execution_count": 19,
   "metadata": {},
   "outputs": [
    {
     "data": {
      "image/png": "[encoded data removed]",
      "text/plain": [
       "<matplotlib.figure.Figure at 0x8dfe160>"
      ]
     },
     "metadata": {},
     "output_type": "display_data"
    },
    {
     "data": {
      "image/png": "[encoded data removed]",
      "text/plain": [
       "<matplotlib.figure.Figure at 0x8dfe048>"
      ]
     },
     "metadata": {},
     "output_type": "display_data"
    },
    {
     "data": {
      "text/plain": [
       "numpy.ndarray"
      ]
     },
     "execution_count": 19,
     "metadata": {},
     "output_type": "execute_result"
    }
   ],
   "source": [
    "plot(vector)\n",
    "figure(\"markers\")\n",
    "plot(m2)\n",
    "show()\n",
    "type(vector[0])\n",
    "type(vector)"
   ]
  },
  {
   "cell_type": "code",
   "execution_count": 22,
   "metadata": {
    "collapsed": true
   },
   "outputs": [],
   "source": [
    "index = 0\n",
    "awg.daq.setInt('/' + awg.device + '/awgs/0/waveform/index', index)\n",
    "awg.daq.sync()\n",
    "\n",
    "awg.daq.vectorWrite('/' + awg.device + '/awgs/0/waveform/data', vector)\n",
    "awg.daq.sync()"
   ]
  },
  {
   "cell_type": "code",
   "execution_count": 510,
   "metadata": {},
   "outputs": [
    {
     "data": {
      "text/plain": [
       "32768"
      ]
     },
     "execution_count": 510,
     "metadata": {},
     "output_type": "execute_result"
    }
   ],
   "source": [
    "2**15"
   ]
  },
  {
   "cell_type": "code",
   "execution_count": 39,
   "metadata": {
    "collapsed": true
   },
   "outputs": [],
   "source": [
    "ch1 = np.asarray(waveform_3*(2**13), dtype=np.int16)\n",
    "ch2 = np.asarray(waveform_4*(2**13), dtype=np.int16)\n",
    "#m1 = np.asarray(([0]+[2**16-1])*(AWG_N//2), dtype=np.uint16)\n",
    "#m2 = np.asarray(([0, 0]+[2**16-1, 2**16-1])*(AWG_N//4), dtype=np.uint16)\n",
    "m1 = np.asarray((150*[0]+50*[1])*(AWG_N//200), dtype=np.uint16)\n",
    "m2 = np.asarray((50*[0, 0]+50*[0, 0])*(AWG_N//200), dtype=np.uint16)\n",
    "vector = np.asarray(np.transpose([ch1,ch2]).ravel())\n",
    "markers = np.asarray(np.transpose([m1,m2]).ravel())\n",
    "vector = (vector<<2 | markers).astype('int16')"
   ]
  },
  {
   "cell_type": "code",
   "execution_count": 517,
   "metadata": {},
   "outputs": [
    {
     "data": {
      "text/plain": [
       "32748"
      ]
     },
     "execution_count": 517,
     "metadata": {},
     "output_type": "execute_result"
    }
   ],
   "source": [
    "vector[999]"
   ]
  },
  {
   "cell_type": "code",
   "execution_count": 41,
   "metadata": {},
   "outputs": [
    {
     "data": {
      "image/png": "[encoded data removed]",
      "text/plain": [
       "<matplotlib.figure.Figure at 0x9c316d8>"
      ]
     },
     "metadata": {},
     "output_type": "display_data"
    },
    {
     "data": {
      "image/png": "[encoded data removed]",
      "text/plain": [
       "<matplotlib.figure.Figure at 0xc66f390>"
      ]
     },
     "metadata": {},
     "output_type": "display_data"
    },
    {
     "data": {
      "text/plain": [
       "numpy.ndarray"
      ]
     },
     "execution_count": 41,
     "metadata": {},
     "output_type": "execute_result"
    }
   ],
   "source": [
    "plot(vector)\n",
    "#plot(waveform_3)\n",
    "#plot(waveform_4)\n",
    "figure(\"markers\")\n",
    "plot(m1)\n",
    "show()\n",
    "type(vector[0])\n",
    "type(vector)"
   ]
  },
  {
   "cell_type": "code",
   "execution_count": 28,
   "metadata": {
    "collapsed": true
   },
   "outputs": [],
   "source": [
    "awg.stop()"
   ]
  },
  {
   "cell_type": "code",
   "execution_count": 59,
   "metadata": {
    "collapsed": true
   },
   "outputs": [],
   "source": [
    "awg.awgModule.clear()"
   ]
  },
  {
   "cell_type": "code",
   "execution_count": 47,
   "metadata": {},
   "outputs": [
    {
     "name": "stdout",
     "output_type": "stream",
     "text": [
      "0.0630037784576416\n"
     ]
    }
   ],
   "source": [
    "index = 0\n",
    "t1=time.time()\n",
    "awg.daq.setInt('/' + awg.device + '/awgs/0/waveform/index', index)\n",
    "awg.daq.sync()\n",
    "\n",
    "awg.daq.vectorWrite('/' + awg.device + '/awgs/0/waveform/data', vector)\n",
    "awg.daq.sync()\n",
    "t2=time.time()-t1\n",
    "print(t2)"
   ]
  },
  {
   "cell_type": "code",
   "execution_count": 33,
   "metadata": {},
   "outputs": [
    {
     "name": "stdout",
     "output_type": "stream",
     "text": [
      "\n",
      "/DEV8108/AWGS/0/WAVEFORM/DATA\n",
      "Allows to write (using vectorWrite) or read (using getAsEvent) the selected\n",
      "waveform data at the selected index.\n",
      "Properties: Read, Write\n",
      "Type: ZIVectorData\n",
      "Unit: None\n",
      "\n"
     ]
    }
   ],
   "source": [
    "index = 0\n",
    "awg.daq.setInt('/' + awg.device + '/awgs/0/waveform/index', index)\n",
    "awg.daq.help('/' + awg.device + '/awgs/0/waveform/DATA')"
   ]
  },
  {
   "cell_type": "code",
   "execution_count": 47,
   "metadata": {
    "collapsed": true
   },
   "outputs": [],
   "source": [
    "    \n",
    "index = 0\n",
    "awg.daq.setInt('/' + awg.device + '/awgs/0/waveform/index', index)\n",
    "awg.daq.sync()\n",
    "    \n",
    "awg.daq.vectorWrite('/' + awg.device + '/awgs/0/waveform/data', waveform_4)\n",
    "awg.daq.sync()"
   ]
  },
  {
   "cell_type": "code",
   "execution_count": null,
   "metadata": {
    "collapsed": true
   },
   "outputs": [],
   "source": [
    "awg.daq.('/' + awg.device + '/awgs/0/waveform/data', waveform_4)"
   ]
  },
  {
   "cell_type": "code",
   "execution_count": 144,
   "metadata": {},
   "outputs": [
    {
     "name": "stdout",
     "output_type": "stream",
     "text": [
      "{}\n"
     ]
    }
   ],
   "source": [
    "awg.daq.setInt('/' + awg.device + '/awgs/0/waveform/index', index)\n",
    "awg.daq.sync()\n",
    "    \n",
    "s=awg.daq.get('/' + awg.device + '/awgs/0/waveform/data')\n",
    "print(s)"
   ]
  },
  {
   "cell_type": "code",
   "execution_count": 5,
   "metadata": {
    "collapsed": true
   },
   "outputs": [],
   "source": [
    "awg.stop()"
   ]
  },
  {
   "cell_type": "code",
   "execution_count": 155,
   "metadata": {},
   "outputs": [
    {
     "name": "stdout",
     "output_type": "stream",
     "text": [
      "None\n"
     ]
    }
   ],
   "source": [
    "awg.daq.setInt('/' + awg.device + '/awgs/0/waveform/index', index)\n",
    "awg.daq.sync()\n",
    "s=awg.daq.getAsEvent('/' + awg.device + '/awgs/0/waveform/data')\n",
    "print(s)"
   ]
  },
  {
   "cell_type": "code",
   "execution_count": 2,
   "metadata": {
    "collapsed": true
   },
   "outputs": [],
   "source": [
    "sampling_rate = 2e9\n",
    "clock_rate = sampling_rate/8\n",
    "parameter_values = {'pulse_length':80, \n",
    "                    'phase_discretization':512, \n",
    "                    'frequency_offset': 8e6,\n",
    "                   }\n",
    "parameter_values['phase_discretization_log'] = int(np.round(np.log2(parameter_values['phase_discretization'])))\n",
    "parameter_values['frequency_offset_log'] = int(np.round(np.log2(parameter_values['frequency_offset']/sampling_rate)))\n",
    "parameter_values['phase_id_bitmask'] = parameter_values['phase_discretization']-1\n",
    "\n",
    "waveforms_I = np.asarray([np.real(np.ones(parameter_values['pulse_length'])*\\\n",
    "    np.exp(1j*i/parameter_values['phase_discretization']*2*np.pi)) for i in range(parameter_values['phase_discretization'])]).ravel()\n",
    "waveforms_Q = np.asarray([np.imag(np.ones(parameter_values['pulse_length'])*\\\n",
    "    np.exp(1j*i/parameter_values['phase_discretization']*2*np.pi)) for i in range(parameter_values['phase_discretization'])]).ravel()\n",
    " \n",
    "awg_program = textwrap.dedent(\"\"\"\n",
    "wave rect_I=ones({phase_discretization}*{pulse_length});\n",
    "wave rect_Q=ones({phase_discretization}*{pulse_length});\n",
    "var delay = 0;\n",
    "var phase_id = 0;\n",
    "while(1) {{\n",
    "    playWaveIndexed(rect_I, rect_Q, 0, {pulse_length});\n",
    "\n",
    "    //phase_id = (delay<<({frequency_offset_log}+{phase_discretization_log}))&{phase_id_bitmask};\n",
    "    \n",
    "    //wait(delay);\n",
    "    //playWaveIndexed(rect_I, rect_Q, phase_id*{phase_discretization}, {pulse_length});\n",
    "    //delay+=1;\n",
    "    //if (delay>1000) {{\n",
    "    //    delay = 0;\n",
    "    //}}\n",
    "    \n",
    "}}\n",
    "\"\"\".format(**parameter_values))"
   ]
  },
  {
   "cell_type": "code",
   "execution_count": 182,
   "metadata": {},
   "outputs": [
    {
     "ename": "ArgumentError",
     "evalue": "Python argument types in\n    ziDAQServer.flush(ziDAQServer, int)\ndid not match C++ signature:\n    flush(class zhinst::pyDAQServer {lvalue})",
     "output_type": "error",
     "traceback": [
      "\u001b[1;31m---------------------------------------------------------------------------\u001b[0m",
      "\u001b[1;31mArgumentError\u001b[0m                             Traceback (most recent call last)",
      "\u001b[1;32m<ipython-input-182-29e3ab779306>\u001b[0m in \u001b[0;36m<module>\u001b[1;34m()\u001b[0m\n\u001b[1;32m----> 1\u001b[1;33m \u001b[0mawg\u001b[0m\u001b[1;33m.\u001b[0m\u001b[0mdaq\u001b[0m\u001b[1;33m.\u001b[0m\u001b[0mflush\u001b[0m\u001b[1;33m(\u001b[0m\u001b[1;36m0\u001b[0m\u001b[1;33m)\u001b[0m\u001b[1;33m\u001b[0m\u001b[0m\n\u001b[0m",
      "\u001b[1;31mArgumentError\u001b[0m: Python argument types in\n    ziDAQServer.flush(ziDAQServer, int)\ndid not match C++ signature:\n    flush(class zhinst::pyDAQServer {lvalue})"
     ]
    }
   ],
   "source": [
    "awg.daq.flush(0)"
   ]
  },
  {
   "cell_type": "code",
   "execution_count": 30,
   "metadata": {
    "collapsed": true
   },
   "outputs": [],
   "source": [
    "awg_program = textwrap.dedent(\"\"\"\n",
    "wave rect_I=rect({phase_discretization}*{pulse_length},1);\n",
    "wave rect_Q=rect({phase_discretization}*{pulse_length},1);\n",
    "var delay = 0;\n",
    "var phase_id = 0;\n",
    "while(true) {{\n",
    "    waitDigTrigger(1);\n",
    "    playWave(rect_I);\n",
    "    playWave(0.5*rect_Q);\n",
    "}}\n",
    "\"\"\".format(**parameter_values))"
   ]
  },
  {
   "cell_type": "code",
   "execution_count": 6,
   "metadata": {
    "collapsed": true
   },
   "outputs": [],
   "source": [
    "awg.awgModule.set('awgModule/index', 0)\n",
    "awg.awgModule.set('awgModule/compiler/sourcestring', awg.current_program)\n",
    "awg.daq.sync()\n"
   ]
  },
  {
   "cell_type": "code",
   "execution_count": 538,
   "metadata": {},
   "outputs": [
    {
     "name": "stdout",
     "output_type": "stream",
     "text": [
      "const n_nop=1000;\n",
      "const wait_time1=0;\n",
      "const wait_time2=0; \t\t\n",
      "const marker_start_I = 0;\n",
      "const marker_length_I = 0;\n",
      "const marker_start_Q = 0;\n",
      "const marker_length_Q = 0;\n",
      "wave w_rect_I = zeros(n_nop);\n",
      "wave w_rect_Q = zeros(n_nop);\n",
      "wave w_left_I = marker(marker_start_I, 0);\n",
      "wave w_center_I = marker(marker_length_I, 1);\n",
      "wave w_right_I = marker(n_nop-marker_start_I-marker_length_I, 0);\n",
      "wave w_marker_I = join(w_left_I,w_center_I, w_right_I);\n",
      "wave w_rect_marker_I = w_rect_I + w_marker_I;\n",
      "wave w_left_Q = marker(marker_start_Q, 0);\n",
      "wave w_center_Q = marker(marker_length_Q, 2);\n",
      "wave w_right_Q = marker(n_nop-marker_start_Q-marker_length_Q, 0);\n",
      "wave w_marker_Q = join(w_left_Q,w_center_Q, w_right_Q);\n",
      "wave w_rect_marker_Q = w_rect_Q + w_marker_Q;\n",
      "\n",
      "repeat(10000) {\n",
      "waitDigTrigger(1);\n",
      "wait(wait_time1);\n",
      "playWave(w_rect_marker_I,w_rect_marker_Q);\n",
      "wait(wait_time2);\n",
      "\n",
      "}\n",
      "\n",
      "\n"
     ]
    }
   ],
   "source": [
    "print(awg.current_program)"
   ]
  },
  {
   "cell_type": "code",
   "execution_count": 25,
   "metadata": {
    "collapsed": true
   },
   "outputs": [],
   "source": [
    "awg.awgModule.set('awgModule/index', 2)"
   ]
  },
  {
   "cell_type": "code",
   "execution_count": 32,
   "metadata": {},
   "outputs": [
    {
     "name": "stdout",
     "output_type": "stream",
     "text": [
      "\n"
     ]
    }
   ],
   "source": [
    "a=awg.awgModule.get('awgModule/compiler/sourcestring')\n",
    "awg.daq.sync()\n",
    "b=a.get('compiler').get('sourcestring')\n",
    "\n",
    "print(b[0])"
   ]
  },
  {
   "cell_type": "code",
   "execution_count": 49,
   "metadata": {},
   "outputs": [
    {
     "ename": "AttributeError",
     "evalue": "'NoneType' object has no attribute 'get'",
     "output_type": "error",
     "traceback": [
      "\u001b[1;31m---------------------------------------------------------------------------\u001b[0m",
      "\u001b[1;31mAttributeError\u001b[0m                            Traceback (most recent call last)",
      "\u001b[1;32m<ipython-input-49-2e1c2e2a319e>\u001b[0m in \u001b[0;36m<module>\u001b[1;34m()\u001b[0m\n\u001b[0;32m      3\u001b[0m \u001b[0ma\u001b[0m\u001b[1;33m=\u001b[0m\u001b[0mawg\u001b[0m\u001b[1;33m.\u001b[0m\u001b[0mawgModule\u001b[0m\u001b[1;33m.\u001b[0m\u001b[0mget\u001b[0m\u001b[1;33m(\u001b[0m\u001b[1;34m'awgModule/compiler'\u001b[0m\u001b[1;33m)\u001b[0m\u001b[1;33m\u001b[0m\u001b[0m\n\u001b[0;32m      4\u001b[0m \u001b[0mawg\u001b[0m\u001b[1;33m.\u001b[0m\u001b[0mdaq\u001b[0m\u001b[1;33m.\u001b[0m\u001b[0msync\u001b[0m\u001b[1;33m(\u001b[0m\u001b[1;33m)\u001b[0m\u001b[1;33m\u001b[0m\u001b[0m\n\u001b[1;32m----> 5\u001b[1;33m \u001b[0mb\u001b[0m\u001b[1;33m=\u001b[0m\u001b[0ma\u001b[0m\u001b[1;33m.\u001b[0m\u001b[0mget\u001b[0m\u001b[1;33m(\u001b[0m\u001b[1;34m'compiler'\u001b[0m\u001b[1;33m)\u001b[0m\u001b[1;33m.\u001b[0m\u001b[0mget\u001b[0m\u001b[1;33m(\u001b[0m\u001b[1;34m'sourcestring'\u001b[0m\u001b[1;33m)\u001b[0m\u001b[1;33m\u001b[0m\u001b[0m\n\u001b[0m\u001b[0;32m      6\u001b[0m \u001b[1;31m#a.get('0')\u001b[0m\u001b[1;33m\u001b[0m\u001b[1;33m\u001b[0m\u001b[0m\n\u001b[0;32m      7\u001b[0m \u001b[0mprint\u001b[0m\u001b[1;33m(\u001b[0m\u001b[0mb\u001b[0m\u001b[1;33m)\u001b[0m\u001b[1;33m\u001b[0m\u001b[0m\n",
      "\u001b[1;31mAttributeError\u001b[0m: 'NoneType' object has no attribute 'get'"
     ]
    }
   ],
   "source": [
    "awg.awgModule.set('awgModule/index', 0)\n",
    "awg.daq.sync()\n",
    "a=awg.awgModule.getString('awgModule/compiler')\n",
    "awg.daq.sync()\n",
    "b=a.get('compiler').get('sourcestring')\n",
    "#a.get('0')\n",
    "print(b)"
   ]
  },
  {
   "cell_type": "code",
   "execution_count": 15,
   "metadata": {},
   "outputs": [
    {
     "name": "stdout",
     "output_type": "stream",
     "text": [
      "const n_nop=1000;\n",
      "const wait_time1=0;\n",
      "const wait_time2=0; \t\t\n",
      "const marker_start_I = 0;\n",
      "const marker_length_I = 0;\n",
      "const marker_start_Q = 0;\n",
      "const marker_length_Q = 0;\n",
      "wave w_rect_I = zeros(n_nop);\n",
      "wave w_rect_Q = zeros(n_nop);\n",
      "wave w_left_I = marker(marker_start_I, 0);\n",
      "wave w_center_I = marker(marker_length_I, 1);\n",
      "wave w_right_I = marker(n_nop-marker_start_I-marker_length_I, 0);\n",
      "wave w_marker_I = join(w_left_I,w_center_I, w_right_I);\n",
      "wave w_rect_marker_I = w_rect_I + w_marker_I;\n",
      "wave w_left_Q = marker(marker_start_Q, 0);\n",
      "wave w_center_Q = marker(marker_length_Q, 2);\n",
      "wave w_right_Q = marker(n_nop-marker_start_Q-marker_length_Q, 0);\n",
      "wave w_marker_Q = join(w_left_Q,w_center_Q, w_right_Q);\n",
      "wave w_rect_marker_Q = w_rect_Q + w_marker_Q;\n",
      "\n",
      "repeat(10000) {\n",
      "waitDigTrigger(1);\n",
      "wait(wait_time1);\n",
      "playWave(w_rect_marker_I,w_rect_marker_Q);\n",
      "waitWave();\n",
      "wait(wait_time2);\n",
      "\n",
      "}\n",
      "\n",
      "\n"
     ]
    }
   ],
   "source": [
    "print(awg.known_programs.get('awg2'))"
   ]
  },
  {
   "cell_type": "code",
   "execution_count": 69,
   "metadata": {
    "collapsed": true
   },
   "outputs": [],
   "source": [
    "_values={}\n",
    "_values['files']={}\n",
    "_values['files']['w']=ch1\n",
    "_values['files']['m1']=m1\n",
    "_values['files']['m2']=m2\n",
    "_values['files']['clock']=1000\n",
    "_values['files']['nop']=2"
   ]
  },
  {
   "cell_type": "code",
   "execution_count": 70,
   "metadata": {},
   "outputs": [
    {
     "data": {
      "text/plain": [
       "{'files': {'clock': 1000,\n",
       "  'm1': array([1, 1, 1, 1, 1, 1, 1, 1, 1, 1, 1, 1, 1, 1, 1, 1, 1, 1, 1, 1, 1, 1, 1,\n",
       "         1, 1, 1, 1, 1, 1, 1, 1, 1, 1, 1, 1, 1, 1, 1, 1, 1, 1, 1, 1, 1, 1, 1,\n",
       "         1, 1, 1, 1, 1, 1, 1, 1, 1, 1, 1, 1, 1, 1, 1, 1, 1, 1, 1, 1, 1, 1, 1,\n",
       "         1, 1, 1, 1, 1, 1, 1, 1, 1, 1, 1, 1, 1, 1, 1, 1, 1, 1, 1, 1, 1, 1, 1,\n",
       "         1, 1, 1, 1, 1, 1, 1, 1, 1, 1, 1, 1, 1, 1, 1, 1, 1, 1, 1, 1, 1, 1, 1,\n",
       "         1, 1, 1, 1, 1, 1, 1, 1, 1, 1, 1, 1, 1, 1, 1, 1, 1, 1, 1, 1, 1, 1, 1,\n",
       "         1, 1, 1, 1, 1, 1, 1, 1, 1, 1, 1, 1, 0, 0, 0, 0, 0, 0, 0, 0, 0, 0, 0,\n",
       "         0, 0, 0, 0, 0, 0, 0, 0, 0, 0, 0, 0, 0, 0, 0, 0, 0, 0, 0, 0, 0, 0, 0,\n",
       "         0, 0, 0, 0, 0, 0, 0, 0, 0, 0, 0, 0, 0, 0, 0, 0, 1, 1, 1, 1, 1, 1, 1,\n",
       "         1, 1, 1, 1, 1, 1, 1, 1, 1, 1, 1, 1, 1, 1, 1, 1, 1, 1, 1, 1, 1, 1, 1,\n",
       "         1, 1, 1, 1, 1, 1, 1, 1, 1, 1, 1, 1, 1, 1, 1, 1, 1, 1, 1, 1, 1, 1, 1,\n",
       "         1, 1, 1, 1, 1, 1, 1, 1, 1, 1, 1, 1, 1, 1, 1, 1, 1, 1, 1, 1, 1, 1, 1,\n",
       "         1, 1, 1, 1, 1, 1, 1, 1, 1, 1, 1, 1, 1, 1, 1, 1, 1, 1, 1, 1, 1, 1, 1,\n",
       "         1, 1, 1, 1, 1, 1, 1, 1, 1, 1, 1, 1, 1, 1, 1, 1, 1, 1, 1, 1, 1, 1, 1,\n",
       "         1, 1, 1, 1, 1, 1, 1, 1, 1, 1, 1, 1, 1, 1, 1, 1, 1, 1, 1, 1, 1, 1, 1,\n",
       "         1, 1, 1, 1, 1, 0, 0, 0, 0, 0, 0, 0, 0, 0, 0, 0, 0, 0, 0, 0, 0, 0, 0,\n",
       "         0, 0, 0, 0, 0, 0, 0, 0, 0, 0, 0, 0, 0, 0, 0, 0, 0, 0, 0, 0, 0, 0, 0,\n",
       "         0, 0, 0, 0, 0, 0, 0, 0, 0, 1, 1, 1, 1, 1, 1, 1, 1, 1, 1, 1, 1, 1, 1,\n",
       "         1, 1, 1, 1, 1, 1, 1, 1, 1, 1, 1, 1, 1, 1, 1, 1, 1, 1, 1, 1, 1, 1, 1,\n",
       "         1, 1, 1, 1, 1, 1, 1, 1, 1, 1, 1, 1, 1, 1, 1, 1, 1, 1, 1, 1, 1, 1, 1,\n",
       "         1, 1, 1, 1, 1, 1, 1, 1, 1, 1, 1, 1, 1, 1, 1, 1, 1, 1, 1, 1, 1, 1, 1,\n",
       "         1, 1, 1, 1, 1, 1, 1, 1, 1, 1, 1, 1, 1, 1, 1, 1, 1, 1, 1, 1, 1, 1, 1,\n",
       "         1, 1, 1, 1, 1, 1, 1, 1, 1, 1, 1, 1, 1, 1, 1, 1, 1, 1, 1, 1, 1, 1, 1,\n",
       "         1, 1, 1, 1, 1, 1, 1, 1, 1, 1, 1, 1, 1, 1, 1, 1, 1, 1, 1, 1, 1, 0, 0,\n",
       "         0, 0, 0, 0, 0, 0, 0, 0, 0, 0, 0, 0, 0, 0, 0, 0, 0, 0, 0, 0, 0, 0, 0,\n",
       "         0, 0, 0, 0, 0, 0, 0, 0, 0, 0, 0, 0, 0, 0, 0, 0, 0, 0, 0, 0, 0, 0, 0,\n",
       "         0, 0, 1, 1, 1, 1, 1, 1, 1, 1, 1, 1, 1, 1, 1, 1, 1, 1, 1, 1, 1, 1, 1,\n",
       "         1, 1, 1, 1, 1, 1, 1, 1, 1, 1, 1, 1, 1, 1, 1, 1, 1, 1, 1, 1, 1, 1, 1,\n",
       "         1, 1, 1, 1, 1, 1, 1, 1, 1, 1, 1, 1, 1, 1, 1, 1, 1, 1, 1, 1, 1, 1, 1,\n",
       "         1, 1, 1, 1, 1, 1, 1, 1, 1, 1, 1, 1, 1, 1, 1, 1, 1, 1, 1, 1, 1, 1, 1,\n",
       "         1, 1, 1, 1, 1, 1, 1, 1, 1, 1, 1, 1, 1, 1, 1, 1, 1, 1, 1, 1, 1, 1, 1,\n",
       "         1, 1, 1, 1, 1, 1, 1, 1, 1, 1, 1, 1, 1, 1, 1, 1, 1, 1, 1, 1, 1, 1, 1,\n",
       "         1, 1, 1, 1, 1, 1, 1, 1, 1, 1, 1, 1, 1, 1, 0, 0, 0, 0, 0, 0, 0, 0, 0,\n",
       "         0, 0, 0, 0, 0, 0, 0, 0, 0, 0, 0, 0, 0, 0, 0, 0, 0, 0, 0, 0, 0, 0, 0,\n",
       "         0, 0, 0, 0, 0, 0, 0, 0, 0, 0, 0, 0, 0, 0, 0, 0, 0, 0, 1, 1, 1, 1, 1,\n",
       "         1, 1, 1, 1, 1, 1, 1, 1, 1, 1, 1, 1, 1, 1, 1, 1, 1, 1, 1, 1, 1, 1, 1,\n",
       "         1, 1, 1, 1, 1, 1, 1, 1, 1, 1, 1, 1, 1, 1, 1, 1, 1, 1, 1, 1, 1, 1, 1,\n",
       "         1, 1, 1, 1, 1, 1, 1, 1, 1, 1, 1, 1, 1, 1, 1, 1, 1, 1, 1, 1, 1, 1, 1,\n",
       "         1, 1, 1, 1, 1, 1, 1, 1, 1, 1, 1, 1, 1, 1, 1, 1, 1, 1, 1, 1, 1, 1, 1,\n",
       "         1, 1, 1, 1, 1, 1, 1, 1, 1, 1, 1, 1, 1, 1, 1, 1, 1, 1, 1, 1, 1, 1, 1,\n",
       "         1, 1, 1, 1, 1, 1, 1, 1, 1, 1, 1, 1, 1, 1, 1, 1, 1, 1, 1, 1, 1, 1, 1,\n",
       "         1, 1, 1, 1, 1, 1, 1, 0, 0, 0, 0, 0, 0, 0, 0, 0, 0, 0, 0, 0, 0, 0, 0,\n",
       "         0, 0, 0, 0, 0, 0, 0, 0, 0, 0, 0, 0, 0, 0, 0, 0, 0, 0, 0, 0, 0, 0, 0,\n",
       "         0, 0, 0, 0, 0, 0, 0, 0, 0, 0, 0], dtype=uint16),\n",
       "  'm2': array([0, 0, 0, 0, 0, 0, 0, 0, 0, 0, 0, 0, 0, 0, 0, 0, 0, 0, 0, 0, 0, 0, 0,\n",
       "         0, 0, 0, 0, 0, 0, 0, 0, 0, 0, 0, 0, 0, 0, 0, 0, 0, 0, 0, 0, 0, 0, 0,\n",
       "         0, 0, 0, 0, 0, 0, 0, 0, 0, 0, 0, 0, 0, 0, 0, 0, 0, 0, 0, 0, 0, 0, 0,\n",
       "         0, 0, 0, 0, 0, 0, 0, 0, 0, 0, 0, 0, 0, 0, 0, 0, 0, 0, 0, 0, 0, 0, 0,\n",
       "         0, 0, 0, 0, 0, 0, 0, 0, 2, 2, 2, 2, 2, 2, 2, 2, 2, 2, 2, 2, 2, 2, 2,\n",
       "         2, 2, 2, 2, 2, 2, 2, 2, 2, 2, 2, 2, 2, 2, 2, 2, 2, 2, 2, 2, 2, 2, 2,\n",
       "         2, 2, 2, 2, 2, 2, 2, 2, 2, 2, 2, 2, 2, 2, 2, 2, 2, 2, 2, 2, 2, 2, 2,\n",
       "         2, 2, 2, 2, 2, 2, 2, 2, 2, 2, 2, 2, 2, 2, 2, 2, 2, 2, 2, 2, 2, 2, 2,\n",
       "         2, 2, 2, 2, 2, 2, 2, 2, 2, 2, 2, 2, 2, 2, 2, 2, 0, 0, 0, 0, 0, 0, 0,\n",
       "         0, 0, 0, 0, 0, 0, 0, 0, 0, 0, 0, 0, 0, 0, 0, 0, 0, 0, 0, 0, 0, 0, 0,\n",
       "         0, 0, 0, 0, 0, 0, 0, 0, 0, 0, 0, 0, 0, 0, 0, 0, 0, 0, 0, 0, 0, 0, 0,\n",
       "         0, 0, 0, 0, 0, 0, 0, 0, 0, 0, 0, 0, 0, 0, 0, 0, 0, 0, 0, 0, 0, 0, 0,\n",
       "         0, 0, 0, 0, 0, 0, 0, 0, 0, 0, 0, 0, 0, 0, 0, 0, 0, 0, 0, 0, 0, 0, 0,\n",
       "         0, 2, 2, 2, 2, 2, 2, 2, 2, 2, 2, 2, 2, 2, 2, 2, 2, 2, 2, 2, 2, 2, 2,\n",
       "         2, 2, 2, 2, 2, 2, 2, 2, 2, 2, 2, 2, 2, 2, 2, 2, 2, 2, 2, 2, 2, 2, 2,\n",
       "         2, 2, 2, 2, 2, 2, 2, 2, 2, 2, 2, 2, 2, 2, 2, 2, 2, 2, 2, 2, 2, 2, 2,\n",
       "         2, 2, 2, 2, 2, 2, 2, 2, 2, 2, 2, 2, 2, 2, 2, 2, 2, 2, 2, 2, 2, 2, 2,\n",
       "         2, 2, 2, 2, 2, 2, 2, 2, 2, 0, 0, 0, 0, 0, 0, 0, 0, 0, 0, 0, 0, 0, 0,\n",
       "         0, 0, 0, 0, 0, 0, 0, 0, 0, 0, 0, 0, 0, 0, 0, 0, 0, 0, 0, 0, 0, 0, 0,\n",
       "         0, 0, 0, 0, 0, 0, 0, 0, 0, 0, 0, 0, 0, 0, 0, 0, 0, 0, 0, 0, 0, 0, 0,\n",
       "         0, 0, 0, 0, 0, 0, 0, 0, 0, 0, 0, 0, 0, 0, 0, 0, 0, 0, 0, 0, 0, 0, 0,\n",
       "         0, 0, 0, 0, 0, 0, 0, 0, 0, 0, 0, 0, 0, 0, 0, 0, 0, 2, 2, 2, 2, 2, 2,\n",
       "         2, 2, 2, 2, 2, 2, 2, 2, 2, 2, 2, 2, 2, 2, 2, 2, 2, 2, 2, 2, 2, 2, 2,\n",
       "         2, 2, 2, 2, 2, 2, 2, 2, 2, 2, 2, 2, 2, 2, 2, 2, 2, 2, 2, 2, 2, 2, 2,\n",
       "         2, 2, 2, 2, 2, 2, 2, 2, 2, 2, 2, 2, 2, 2, 2, 2, 2, 2, 2, 2, 2, 2, 2,\n",
       "         2, 2, 2, 2, 2, 2, 2, 2, 2, 2, 2, 2, 2, 2, 2, 2, 2, 2, 2, 2, 2, 2, 2,\n",
       "         2, 2, 0, 0, 0, 0, 0, 0, 0, 0, 0, 0, 0, 0, 0, 0, 0, 0, 0, 0, 0, 0, 0,\n",
       "         0, 0, 0, 0, 0, 0, 0, 0, 0, 0, 0, 0, 0, 0, 0, 0, 0, 0, 0, 0, 0, 0, 0,\n",
       "         0, 0, 0, 0, 0, 0, 0, 0, 0, 0, 0, 0, 0, 0, 0, 0, 0, 0, 0, 0, 0, 0, 0,\n",
       "         0, 0, 0, 0, 0, 0, 0, 0, 0, 0, 0, 0, 0, 0, 0, 0, 0, 0, 0, 0, 0, 0, 0,\n",
       "         0, 0, 0, 0, 0, 0, 0, 0, 0, 0, 2, 2, 2, 2, 2, 2, 2, 2, 2, 2, 2, 2, 2,\n",
       "         2, 2, 2, 2, 2, 2, 2, 2, 2, 2, 2, 2, 2, 2, 2, 2, 2, 2, 2, 2, 2, 2, 2,\n",
       "         2, 2, 2, 2, 2, 2, 2, 2, 2, 2, 2, 2, 2, 2, 2, 2, 2, 2, 2, 2, 2, 2, 2,\n",
       "         2, 2, 2, 2, 2, 2, 2, 2, 2, 2, 2, 2, 2, 2, 2, 2, 2, 2, 2, 2, 2, 2, 2,\n",
       "         2, 2, 2, 2, 2, 2, 2, 2, 2, 2, 2, 2, 2, 2, 2, 2, 2, 2, 0, 0, 0, 0, 0,\n",
       "         0, 0, 0, 0, 0, 0, 0, 0, 0, 0, 0, 0, 0, 0, 0, 0, 0, 0, 0, 0, 0, 0, 0,\n",
       "         0, 0, 0, 0, 0, 0, 0, 0, 0, 0, 0, 0, 0, 0, 0, 0, 0, 0, 0, 0, 0, 0, 0,\n",
       "         0, 0, 0, 0, 0, 0, 0, 0, 0, 0, 0, 0, 0, 0, 0, 0, 0, 0, 0, 0, 0, 0, 0,\n",
       "         0, 0, 0, 0, 0, 0, 0, 0, 0, 0, 0, 0, 0, 0, 0, 0, 0, 0, 0, 0, 0, 0, 0,\n",
       "         0, 0, 0, 2, 2, 2, 2, 2, 2, 2, 2, 2, 2, 2, 2, 2, 2, 2, 2, 2, 2, 2, 2,\n",
       "         2, 2, 2, 2, 2, 2, 2, 2, 2, 2, 2, 2, 2, 2, 2, 2, 2, 2, 2, 2, 2, 2, 2,\n",
       "         2, 2, 2, 2, 2, 2, 2, 2, 2, 2, 2, 2, 2, 2, 2, 2, 2, 2, 2, 2, 2, 2, 2,\n",
       "         2, 2, 2, 2, 2, 2, 2, 2, 2, 2, 2, 2, 2, 2, 2, 2, 2, 2, 2, 2, 2, 2, 2,\n",
       "         2, 2, 2, 2, 2, 2, 2, 2, 2, 2, 2], dtype=uint16),\n",
       "  'nop': 2,\n",
       "  'w': array([  203,   206,   208,   208,   207,   205,   202,   198,   192,\n",
       "           185,   176,   167,   157,   145,   133,   119,   105,    90,\n",
       "            75,    59,    42,    25,     8,    -8,   -25,   -42,   -59,\n",
       "           -76,   -92,  -108,  -123,  -137,  -151,  -163,  -175,  -186,\n",
       "          -195,  -204,  -211,  -217,  -221,  -224,  -226,  -226,  -225,\n",
       "          -223,  -219,  -214,  -207,  -199,  -190,  -179,  -167,  -155,\n",
       "          -141,  -126,  -110,   -94,   -77,   -59,   -41,   -23,    -4,\n",
       "            13,    32,    51,    69,    87,   105,   122,   138,   154,\n",
       "           168,   182,   194,   206,   216,   225,   232,   238,   243,\n",
       "           246,   248,   248,   246,   243,   239,   232,   225,   216,\n",
       "           205,   193,   180,   166,   151,   134,   117,    99,    80,\n",
       "            60,    41,    20,     0,   -20,   -41,   -61,   -81,  -101,\n",
       "          -120,  -139,  -157,  -174,  -189,  -204,  -218,  -230,  -241,\n",
       "          -251,  -258,  -265,  -270,  -273,  -274,  -274,  -272,  -268,\n",
       "          -262,  -255,  -247,  -236,  -224,  -211,  -196,  -180,  -163,\n",
       "          -144,  -125,  -105,   -83,   -62,   -39,   -17,     5,    28,\n",
       "            51,    74,    96,   118,   139,   160,   179,   198,   215,\n",
       "           232,   247,   260,   272,   282,   291,   297,   302,   305,\n",
       "           306,   306,   303,   298,   292,   284,   273,   261,   248,\n",
       "           232,   216,   197,   178,   157,   135,   112,    88,    63,\n",
       "            38,    13,   -12,   -38,   -64,   -89,  -114,  -139,  -163,\n",
       "          -186,  -208,  -229,  -248,  -266,  -283,  -297,  -311,  -322,\n",
       "          -331,  -338,  -344,  -347,  -347,  -346,  -343,  -337,  -329,\n",
       "          -320,  -308,  -294,  -278,  -260,  -240,  -219,  -197,  -172,\n",
       "          -147,  -121,   -93,   -65,   -36,    -7,    21,    51,    80,\n",
       "           110,   138,   166,   193,   220,   245,   268,   290,   311,\n",
       "           329,   346,   361,   373,   384,   392,   397,   400,   401,\n",
       "           399,   395,   388,   378,   367,   352,   336,   317,   296,\n",
       "           273,   248,   222,   193,   164,   133,   101,    68,    34,\n",
       "             0,   -34,   -68,  -103,  -137,  -170,  -203,  -235,  -265,\n",
       "          -294,  -322,  -347,  -371,  -393,  -412,  -429,  -444,  -455,\n",
       "          -464,  -471,  -474,  -474,  -472,  -466,  -457,  -446,  -431,\n",
       "          -414,  -394,  -371,  -346,  -318,  -288,  -256,  -222,  -186,\n",
       "          -149,  -111,   -71,   -30,    10,    51,    93,   134,   175,\n",
       "           215,   255,   293,   329,   365,   398,   429,   457,   483,\n",
       "           507,   527,   544,   558,   569,   576,   580,   580,   576,\n",
       "           569,   558,   544,   526,   504,   479,   451,   419,   385,\n",
       "           347,   307,   265,   220,   174,   126,    76,    25,   -25,\n",
       "           -77,  -129,  -181,  -233,  -284,  -333,  -382,  -428,  -472,\n",
       "          -514,  -554,  -590,  -623,  -653,  -679,  -701,  -719,  -733,\n",
       "          -742,  -747,  -747,  -743,  -733,  -719,  -701,  -677,  -649,\n",
       "          -616,  -579,  -538,  -493,  -444,  -391,  -335,  -276,  -215,\n",
       "          -151,   -85,   -17,    51,   121,   191,   261,   331,   400,\n",
       "           468,   534,   598,   659,   717,   771,   822,   869,   911,\n",
       "           948,   980,  1006,  1027,  1041,  1049,  1051,  1046,  1034,\n",
       "          1016,   991,   959,   920,   875,   823,   764,   700,   629,\n",
       "           553,   472,   386,   295,   200,   101,     0,  -104,  -210,\n",
       "          -318,  -426,  -535,  -643,  -751,  -856,  -959, -1059, -1155,\n",
       "         -1247, -1334, -1414, -1489, -1556, -1615, -1666, -1709, -1741,\n",
       "         -1764, -1777, -1778, -1769, -1748, -1714, -1669, -1611, -1541,\n",
       "         -1458, -1363, -1254, -1133, -1000,  -854,  -696,  -526,  -344,\n",
       "          -151,    51,   265,   488,   721,   962,  1210,  1466,  1728,\n",
       "          1996,  2268,  2544,  2823,  3105,  3387,  3669,  3951,  4230,\n",
       "          4507,  4781,  5049,  5313,  5569,  5818,  6059,  6291,  6512,\n",
       "          6723,  6922,  7109,  7283,  7443,  7589,  7720,  7836,  7936,\n",
       "          8020,  8087,  8138,  8172,  8189,  8189,  8172,  8138,  8087,\n",
       "          8020,  7936,  7836,  7720,  7589,  7443,  7283,  7109,  6922,\n",
       "          6723,  6512,  6291,  6059,  5818,  5569,  5313,  5049,  4781,\n",
       "          4507,  4230,  3951,  3669,  3387,  3105,  2823,  2544,  2268,\n",
       "          1996,  1728,  1466,  1210,   962,   721,   488,   265,    51,\n",
       "          -151,  -344,  -526,  -696,  -854, -1000, -1133, -1254, -1363,\n",
       "         -1458, -1541, -1611, -1669, -1714, -1748, -1769, -1778, -1777,\n",
       "         -1764, -1741, -1709, -1666, -1615, -1556, -1489, -1414, -1334,\n",
       "         -1247, -1155, -1059,  -959,  -856,  -751,  -643,  -535,  -426,\n",
       "          -318,  -210,  -104,     0,   101,   200,   295,   386,   472,\n",
       "           553,   629,   700,   764,   823,   875,   920,   959,   991,\n",
       "          1016,  1034,  1046,  1051,  1049,  1041,  1027,  1006,   980,\n",
       "           948,   911,   869,   822,   771,   717,   659,   598,   534,\n",
       "           468,   400,   331,   261,   191,   121,    51,   -17,   -85,\n",
       "          -151,  -215,  -276,  -335,  -391,  -444,  -493,  -538,  -579,\n",
       "          -616,  -649,  -677,  -701,  -719,  -733,  -743,  -747,  -747,\n",
       "          -742,  -733,  -719,  -701,  -679,  -653,  -623,  -590,  -554,\n",
       "          -514,  -472,  -428,  -382,  -333,  -284,  -233,  -181,  -129,\n",
       "           -77,   -25,    25,    76,   126,   174,   220,   265,   307,\n",
       "           347,   385,   419,   451,   479,   504,   526,   544,   558,\n",
       "           569,   576,   580,   580,   576,   569,   558,   544,   527,\n",
       "           507,   483,   457,   429,   398,   365,   329,   293,   255,\n",
       "           215,   175,   134,    93,    51,    10,   -30,   -71,  -111,\n",
       "          -149,  -186,  -222,  -256,  -288,  -318,  -346,  -371,  -394,\n",
       "          -414,  -431,  -446,  -457,  -466,  -472,  -474,  -474,  -471,\n",
       "          -464,  -455,  -444,  -429,  -412,  -393,  -371,  -347,  -322,\n",
       "          -294,  -265,  -235,  -203,  -170,  -137,  -103,   -68,   -34,\n",
       "             0,    34,    68,   101,   133,   164,   193,   222,   248,\n",
       "           273,   296,   317,   336,   352,   367,   378,   388,   395,\n",
       "           399,   401,   400,   397,   392,   384,   373,   361,   346,\n",
       "           329,   311,   290,   268,   245,   220,   193,   166,   138,\n",
       "           110,    80,    51,    21,    -7,   -36,   -65,   -93,  -121,\n",
       "          -147,  -172,  -197,  -219,  -240,  -260,  -278,  -294,  -308,\n",
       "          -320,  -329,  -337,  -343,  -346,  -347,  -347,  -344,  -338,\n",
       "          -331,  -322,  -311,  -297,  -283,  -266,  -248,  -229,  -208,\n",
       "          -186,  -163,  -139,  -114,   -89,   -64,   -38,   -12,    13,\n",
       "            38,    63,    88,   112,   135,   157,   178,   197,   216,\n",
       "           232,   248,   261,   273,   284,   292,   298,   303,   306,\n",
       "           306,   305,   302,   297,   291,   282,   272,   260,   247,\n",
       "           232,   215,   198,   179,   160,   139,   118,    96,    74,\n",
       "            51,    28,     5,   -17,   -39,   -62,   -83,  -105,  -125,\n",
       "          -144,  -163,  -180,  -196,  -211,  -224,  -236,  -247,  -255,\n",
       "          -262,  -268,  -272,  -274,  -274,  -273,  -270,  -265,  -258,\n",
       "          -251,  -241,  -230,  -218,  -204,  -189,  -174,  -157,  -139,\n",
       "          -120,  -101,   -81,   -61,   -41,   -20,     0,    20,    41,\n",
       "            60,    80,    99,   117,   134,   151,   166,   180,   193,\n",
       "           205,   216,   225,   232,   239,   243,   246,   248,   248,\n",
       "           246,   243,   238,   232,   225,   216,   206,   194,   182,\n",
       "           168,   154,   138,   122,   105,    87,    69,    51,    32,\n",
       "            13,    -4,   -23,   -41,   -59,   -77,   -94,  -110,  -126,\n",
       "          -141,  -155,  -167,  -179,  -190,  -199,  -207,  -214,  -219,\n",
       "          -223,  -225,  -226,  -226,  -224,  -221,  -217,  -211,  -204,\n",
       "          -195,  -186,  -175,  -163,  -151,  -137,  -123,  -108,   -92,\n",
       "           -76,   -59,   -42,   -25,    -8,     8,    25,    42,    59,\n",
       "            75,    90,   105,   119,   133,   145,   157,   167,   176,\n",
       "           185,   192,   198,   202,   205,   207,   208,   208,   206,   203], dtype=int16)}}"
      ]
     },
     "execution_count": 70,
     "metadata": {},
     "output_type": "execute_result"
    }
   ],
   "source": [
    "_values"
   ]
  },
  {
   "cell_type": "code",
   "execution_count": 171,
   "metadata": {},
   "outputs": [
    {
     "data": {
      "text/plain": [
       "''"
      ]
     },
     "execution_count": 171,
     "metadata": {},
     "output_type": "execute_result"
    }
   ],
   "source": [
    "awg.awgModule.set('awgModule/index', 0)\n",
    "awg.awgModule.getString('awgModule/compiler/waveforms')"
   ]
  },
  {
   "cell_type": "code",
   "execution_count": 165,
   "metadata": {},
   "outputs": [
    {
     "name": "stdout",
     "output_type": "stream",
     "text": [
      "\n"
     ]
    }
   ],
   "source": [
    "awg.awgModule.set('awgModule/index', 0)\n",
    "a=awg.awgModule.getString('awgModule/compiler/sourcestring')\n",
    "print(a)"
   ]
  },
  {
   "cell_type": "code",
   "execution_count": 97,
   "metadata": {},
   "outputs": [
    {
     "data": {
      "text/plain": [
       "{}"
      ]
     },
     "execution_count": 97,
     "metadata": {},
     "output_type": "execute_result"
    }
   ],
   "source": [
    "awg.awgModule.get('awgModule/0/WAVEFORM/DATA')"
   ]
  },
  {
   "cell_type": "code",
   "execution_count": 113,
   "metadata": {
    "collapsed": true
   },
   "outputs": [],
   "source": [
    "awg.daq.setInt('/' + awg.device + '/awgs/%d/WAVEFORM/index'%0,1)\n",
    "awg.daq.sync()"
   ]
  },
  {
   "cell_type": "code",
   "execution_count": null,
   "metadata": {
    "collapsed": true
   },
   "outputs": [],
   "source": [
    "awg.daq.getAsEvent('/' + awg.device + '/awgs/%d/WAVEFORM/DESCRIPTORS'%0)\n"
   ]
  },
  {
   "cell_type": "code",
   "execution_count": 114,
   "metadata": {},
   "outputs": [
    {
     "name": "stdout",
     "output_type": "stream",
     "text": [
      "None\n"
     ]
    }
   ],
   "source": [
    "\n",
    "a=awg.daq.getAsEvent('/' + awg.device + '/awgs/%d/WAVEFORM/DESCRIPTORS'%0)\n",
    "print(a)"
   ]
  },
  {
   "cell_type": "code",
   "execution_count": 9,
   "metadata": {
    "collapsed": true
   },
   "outputs": [],
   "source": [
    "awg.daq.setInt('/' + awg.device + '/awgs/%d/WAVEFORM/index'%0,0)\n",
    "awg.daq.sync()\n",
    "awg.daq.vectorWrite('/' + awg.device + '/awgs/%d/waveform/data'%0, waveform_4)\n",
    "awg.daq.sync()"
   ]
  },
  {
   "cell_type": "code",
   "execution_count": 124,
   "metadata": {
    "collapsed": true
   },
   "outputs": [],
   "source": [
    "awg.daq.setInt('/' + awg.device + '/awgs/%d/WAVEFORM/index'%0,1)\n",
    "awg.daq.sync()\n",
    "awg.daq.vectorWrite('/' + awg.device + '/awgs/%d/waveform/data'%0, waveforms_I)"
   ]
  },
  {
   "cell_type": "code",
   "execution_count": null,
   "metadata": {
    "collapsed": true
   },
   "outputs": [],
   "source": [
    "/DESCRIPTORS"
   ]
  },
  {
   "cell_type": "code",
   "execution_count": 19,
   "metadata": {},
   "outputs": [
    {
     "name": "stdout",
     "output_type": "stream",
     "text": [
      "None\n"
     ]
    }
   ],
   "source": [
    "awg.daq.setInt('/' + awg.device + '/awgs/%d/WAVEFORM/index'%0,0)\n",
    "awg.daq.sync()\n",
    "a=awg.daq.getAsEvent('/' + awg.device + '/awgs/%d/WAVEFORM/DATA'%0)\n",
    "print(a)"
   ]
  },
  {
   "cell_type": "code",
   "execution_count": 8,
   "metadata": {},
   "outputs": [
    {
     "name": "stdout",
     "output_type": "stream",
     "text": [
      "Compilation successful with no warnings, will upload the program to the instrument.\n",
      "0 awgModule/progress: 0.00\n",
      "1 awgModule/progress: 1.00\n",
      "Upload to the instrument successful.\n",
      "Time:  0.8833548520778329\n"
     ]
    },
    {
     "data": {
      "text/plain": [
       "True"
      ]
     },
     "execution_count": 8,
     "metadata": {},
     "output_type": "execute_result"
    }
   ],
   "source": [
    "awg.send_program(1,2, awg_program)"
   ]
  },
  {
   "cell_type": "code",
   "execution_count": 24,
   "metadata": {
    "collapsed": true
   },
   "outputs": [],
   "source": [
    "awg.daq.setInt('/' + awg.device + '/awgs/%d/enable'%1, 0)"
   ]
  },
  {
   "cell_type": "code",
   "execution_count": 7,
   "metadata": {},
   "outputs": [
    {
     "ename": "ArgumentError",
     "evalue": "Python argument types in\n    ziDAQServer.setInt(ziDAQServer, list)\ndid not match C++ signature:\n    setInt(class zhinst::pyDAQServer {lvalue}, class std::basic_string<char,struct std::char_traits<char>,class std::allocator<char> >, __int64)",
     "output_type": "error",
     "traceback": [
      "\u001b[1;31m---------------------------------------------------------------------------\u001b[0m",
      "\u001b[1;31mArgumentError\u001b[0m                             Traceback (most recent call last)",
      "\u001b[1;32m<ipython-input-7-57e549f70257>\u001b[0m in \u001b[0;36m<module>\u001b[1;34m()\u001b[0m\n\u001b[0;32m      1\u001b[0m \u001b[0mexp\u001b[0m\u001b[1;33m=\u001b[0m\u001b[1;33m[\u001b[0m\u001b[1;34m'/'\u001b[0m \u001b[1;33m+\u001b[0m \u001b[0mawg\u001b[0m\u001b[1;33m.\u001b[0m\u001b[0mdevice\u001b[0m \u001b[1;33m+\u001b[0m \u001b[1;34m'/awgs/%d/WAVEFORM/INDEX'\u001b[0m\u001b[1;33m%\u001b[0m\u001b[1;36m0\u001b[0m\u001b[1;33m,\u001b[0m \u001b[1;36m0\u001b[0m\u001b[1;33m]\u001b[0m\u001b[1;33m\u001b[0m\u001b[0m\n\u001b[1;32m----> 2\u001b[1;33m \u001b[0mawg\u001b[0m\u001b[1;33m.\u001b[0m\u001b[0mdaq\u001b[0m\u001b[1;33m.\u001b[0m\u001b[0msetInt\u001b[0m\u001b[1;33m(\u001b[0m\u001b[1;33m[\u001b[0m\u001b[0mexp\u001b[0m\u001b[1;33m]\u001b[0m\u001b[1;33m)\u001b[0m\u001b[1;33m\u001b[0m\u001b[0m\n\u001b[0m\u001b[0;32m      3\u001b[0m \u001b[1;31m#awg.daq.vectorWrite('/' + awg.device + '/awgs/%d/waveform/data'%0, waveforms_I)\u001b[0m\u001b[1;33m\u001b[0m\u001b[1;33m\u001b[0m\u001b[0m\n",
      "\u001b[1;31mArgumentError\u001b[0m: Python argument types in\n    ziDAQServer.setInt(ziDAQServer, list)\ndid not match C++ signature:\n    setInt(class zhinst::pyDAQServer {lvalue}, class std::basic_string<char,struct std::char_traits<char>,class std::allocator<char> >, __int64)"
     ]
    }
   ],
   "source": [
    "#awg.daq.vectorWrite('/' + awg.device + '/awgs/%d/waveform/data'%0, waveforms_I)"
   ]
  },
  {
   "cell_type": "code",
   "execution_count": 38,
   "metadata": {
    "collapsed": true
   },
   "outputs": [],
   "source": [
    "awg.daq.vectorWrite('/' + awg.device + '/awgs/%d/waveform/data'%0, waveforms_I)"
   ]
  },
  {
   "cell_type": "code",
   "execution_count": 65,
   "metadata": {
    "collapsed": true
   },
   "outputs": [],
   "source": [
    "awg.daq.\n",
    "#waveform = np.sinc(np.linspace(-6*np.pi, 6*np.pi, 500))"
   ]
  },
  {
   "cell_type": "code",
   "execution_count": 71,
   "metadata": {
    "collapsed": true
   },
   "outputs": [],
   "source": [
    "awg.daq.setInt('/' + awg.device + '/awgs/%d/WAVEFORM/INDEX'%0, 0)\n",
    "awg.daq.vectorWrite('/' + awg.device + '/awgs/%d/waveform/data'%0, waveforms_I)\n",
    "#awg.daq.setInt('/' + awg.device + '/awgs/%d/WAVEFORM/INDEX'%0, 1)\n",
    "#awg.daq.vectorWrite('/' + awg.device + '/awgs/%d/waveform/data'%0, waveforms_Q)\n",
    "awg.daq.setInt('/' + awg.device + '/awgs/%d/enable'%0, 1)\n",
    "awg.daq.setInt('/' + awg.device + '/awgs/%d/WAVEFORM/INDEX'%1, 0)\n",
    "awg.daq.vectorWrite('/' + awg.device + '/awgs/%d/waveform/data'%1, waveforms_Q)\n",
    "#awg.daq.setInt('/' + awg.device + '/awgs/%d/WAVEFORM/INDEX'%1, 1)\n",
    "#awg.daq.vectorWrite('/' + awg.device + '/awgs/%d/waveform/data'%1, waveforms_Q)\n",
    "awg.daq.setInt('/' + awg.device + '/awgs/%d/enable'%1, 1)"
   ]
  },
  {
   "cell_type": "code",
   "execution_count": 2,
   "metadata": {},
   "outputs": [
    {
     "name": "stdout",
     "output_type": "stream",
     "text": [
      "source= 1  is not allowed\n"
     ]
    }
   ],
   "source": []
  },
  {
   "cell_type": "code",
   "execution_count": 229,
   "metadata": {
    "collapsed": true
   },
   "outputs": [],
   "source": [
    "import pulses"
   ]
  },
  {
   "cell_type": "code",
   "execution_count": 51,
   "metadata": {
    "collapsed": true
   },
   "outputs": [],
   "source": [
    "exp_setting = [\n",
    "    ['/'+awg.device+'/sigouts/%d/on'%0, 1],\n",
    "    ['/'+awg.device+'/sigouts/%d/on'%1, 1],\n",
    "    ['/'+awg.device+'/sigouts/%d/on'%2, 1],\n",
    "    ['/'+awg.device+'/sigouts/%d/on'%3, 1],\n",
    "    ['/'+awg.device+'/sigouts/%d/on'%4, 1],\n",
    "    ['/'+awg.device+'/sigouts/%d/on'%5, 1],\n",
    "    ['/'+awg.device+'/sigouts/%d/on'%6, 1],\n",
    "    ['/'+awg.device+'/sigouts/%d/on'%7, 1],\n",
    "    ]\n",
    "awg.daq.set(exp_setting)\n",
    "awg.daq.sync()\n",
    "exp_setting1 = [\n",
    "    ['/' + awg.device + '/awgs/%d/enable'%0, 1],\n",
    "    ['/' + awg.device + '/awgs/%d/enable'%1, 1],\n",
    "    ['/' + awg.device + '/awgs/%d/enable'%2, 1],\n",
    "    ['/' + awg.device + '/awgs/%d/enable'%3, 1],\n",
    "    ]\n",
    "\n",
    "awg.daq.set(exp_setting1)\n",
    "awg.daq.sync()\n",
    "#awg.daq.syncSetInt('/' + awg.device + '/awgs/%d/enable'%0, 1)\n",
    "#awg.daq.syncSetInt('/' + awg.device + '/awgs/%d/enable'%1, 1)\n",
    "#awg.daq.syncSetInt('/' + awg.device + '/awgs/%d/enable'%2, 1)\n",
    "#awg.daq.syncSetInt('/' + awg.device + '/awgs/%d/enable'%3, 1)"
   ]
  },
  {
   "cell_type": "code",
   "execution_count": 52,
   "metadata": {
    "collapsed": true
   },
   "outputs": [],
   "source": [
    "awg.stop()"
   ]
  },
  {
   "cell_type": "code",
   "execution_count": 76,
   "metadata": {
    "collapsed": true
   },
   "outputs": [],
   "source": [
    "channels={1: 2, 2: 4, 3: 9}"
   ]
  },
  {
   "cell_type": "code",
   "execution_count": 96,
   "metadata": {
    "collapsed": true
   },
   "outputs": [],
   "source": [
    "offsets = {k:0 for k in channels.keys()}"
   ]
  },
  {
   "cell_type": "code",
   "execution_count": 168,
   "metadata": {},
   "outputs": [
    {
     "data": {
      "text/plain": [
       "({1: 0, 2: 0, 3: 0}, {1: 2, 2: 4, 3: 9})"
      ]
     },
     "execution_count": 168,
     "metadata": {},
     "output_type": "execute_result"
    }
   ],
   "source": [
    "offsets, channels"
   ]
  },
  {
   "cell_type": "code",
   "execution_count": 169,
   "metadata": {
    "collapsed": true
   },
   "outputs": [],
   "source": [
    "pulse_shape = {k:[] for k in channels.keys()}"
   ]
  },
  {
   "cell_type": "code",
   "execution_count": 170,
   "metadata": {},
   "outputs": [
    {
     "data": {
      "text/plain": [
       "{1: [], 2: [], 3: []}"
      ]
     },
     "execution_count": 170,
     "metadata": {},
     "output_type": "execute_result"
    }
   ],
   "source": [
    "pulse_shape"
   ]
  },
  {
   "cell_type": "code",
   "execution_count": 174,
   "metadata": {},
   "outputs": [
    {
     "data": {
      "text/plain": [
       "dict_items([(1, 2), (2, 4), (3, 9)])"
      ]
     },
     "execution_count": 174,
     "metadata": {},
     "output_type": "execute_result"
    }
   ],
   "source": [
    "channels.items()"
   ]
  },
  {
   "cell_type": "code",
   "execution_count": 190,
   "metadata": {
    "collapsed": true
   },
   "outputs": [],
   "source": [
    "\n",
    "def rect(channel, length, amplitude):\n",
    "    return amplitude*np.ones(int(round(length*5)), dtype=np.complex)\n",
    "def pause(channel, length):\n",
    "    return rect(channel, length, 0)\n",
    "\n",
    "def p(channel, length, pulse_type=None, *params):\n",
    "        pulses = {channel_name: pause(channel_name, length) for channel_name, channel in channels.items()}\n",
    "        if channel:\n",
    "            pulses[channel] = pulse_type(channel, length, *params)\n",
    "        return pulses"
   ]
  },
  {
   "cell_type": "code",
   "execution_count": 191,
   "metadata": {},
   "outputs": [
    {
     "ename": "TypeError",
     "evalue": "unsupported operand type(s) for +: 'dict' and 'float'",
     "output_type": "error",
     "traceback": [
      "\u001b[1;31m---------------------------------------------------------------------------\u001b[0m",
      "\u001b[1;31mTypeError\u001b[0m                                 Traceback (most recent call last)",
      "\u001b[1;32m<ipython-input-191-90a1ab0f87ec>\u001b[0m in \u001b[0;36m<module>\u001b[1;34m()\u001b[0m\n\u001b[0;32m      2\u001b[0m \u001b[0minitial_delay\u001b[0m \u001b[1;33m=\u001b[0m \u001b[1;36m1e-6\u001b[0m\u001b[1;33m\u001b[0m\u001b[0m\n\u001b[0;32m      3\u001b[0m \u001b[0mfinal_delay\u001b[0m \u001b[1;33m=\u001b[0m \u001b[1;36m1e-6\u001b[0m\u001b[1;33m\u001b[0m\u001b[0m\n\u001b[1;32m----> 4\u001b[1;33m \u001b[0mpulse_seq_padded\u001b[0m \u001b[1;33m=\u001b[0m \u001b[1;33m[\u001b[0m\u001b[0mp\u001b[0m\u001b[1;33m(\u001b[0m\u001b[1;32mNone\u001b[0m\u001b[1;33m,\u001b[0m \u001b[0minitial_delay\u001b[0m\u001b[1;33m,\u001b[0m \u001b[1;32mNone\u001b[0m\u001b[1;33m)\u001b[0m\u001b[1;33m]\u001b[0m\u001b[1;33m+\u001b[0m\u001b[0mwaveforms_I\u001b[0m\u001b[1;33m+\u001b[0m\u001b[1;33m[\u001b[0m\u001b[0mp\u001b[0m\u001b[1;33m(\u001b[0m\u001b[1;32mNone\u001b[0m\u001b[1;33m,\u001b[0m \u001b[0mfinal_delay\u001b[0m\u001b[1;33m,\u001b[0m \u001b[1;32mNone\u001b[0m\u001b[1;33m)\u001b[0m\u001b[1;33m]\u001b[0m\u001b[1;33m\u001b[0m\u001b[0m\n\u001b[0m\u001b[0;32m      5\u001b[0m \u001b[1;33m\u001b[0m\u001b[0m\n",
      "\u001b[1;31mTypeError\u001b[0m: unsupported operand type(s) for +: 'dict' and 'float'"
     ]
    }
   ],
   "source": [
    "from time import time\n",
    "initial_delay = 1e-6\n",
    "final_delay = 1e-6\n",
    "pulse_seq_padded = [p(None, initial_delay, None)]+waveforms_I+[p(None, final_delay, None)]\n",
    "\n"
   ]
  },
  {
   "cell_type": "code",
   "execution_count": 200,
   "metadata": {},
   "outputs": [
    {
     "data": {
      "text/plain": [
       "{1: array([], dtype=complex128),\n",
       " 2: array([], dtype=complex128),\n",
       " 3: array([], dtype=complex128)}"
      ]
     },
     "execution_count": 200,
     "metadata": {},
     "output_type": "execute_result"
    }
   ],
   "source": [
    "a=[p(None, initial_delay, None)]+[waveforms_I,waveforms_I,waveforms_I]+[p(None, final_delay, None)]\n",
    "for pulse in a:\n",
    "    "
   ]
  },
  {
   "cell_type": "code",
   "execution_count": 217,
   "metadata": {},
   "outputs": [
    {
     "data": {
      "text/plain": [
       "dict_keys([1, 2, 3])"
      ]
     },
     "execution_count": 217,
     "metadata": {},
     "output_type": "execute_result"
    }
   ],
   "source": [
    "a=[p(None, initial_delay, None)]+[p(None, final_delay, None)]\n",
    "a[0].keys()"
   ]
  },
  {
   "cell_type": "code",
   "execution_count": 228,
   "metadata": {},
   "outputs": [
    {
     "data": {
      "text/plain": [
       "array([], dtype=complex128)"
      ]
     },
     "execution_count": 228,
     "metadata": {},
     "output_type": "execute_result"
    }
   ],
   "source": [
    "a[0].get(1)"
   ]
  },
  {
   "cell_type": "code",
   "execution_count": 220,
   "metadata": {},
   "outputs": [
    {
     "ename": "TypeError",
     "evalue": "values() takes no arguments (1 given)",
     "output_type": "error",
     "traceback": [
      "\u001b[1;31m---------------------------------------------------------------------------\u001b[0m",
      "\u001b[1;31mTypeError\u001b[0m                                 Traceback (most recent call last)",
      "\u001b[1;32m<ipython-input-220-ecff4a5131cf>\u001b[0m in \u001b[0;36m<module>\u001b[1;34m()\u001b[0m\n\u001b[1;32m----> 1\u001b[1;33m \u001b[0ma\u001b[0m\u001b[1;33m[\u001b[0m\u001b[1;36m0\u001b[0m\u001b[1;33m]\u001b[0m\u001b[1;33m.\u001b[0m\u001b[0mvalues\u001b[0m\u001b[1;33m(\u001b[0m\u001b[1;34m'1'\u001b[0m\u001b[1;33m)\u001b[0m\u001b[1;33m\u001b[0m\u001b[0m\n\u001b[0m",
      "\u001b[1;31mTypeError\u001b[0m: values() takes no arguments (1 given)"
     ]
    }
   ],
   "source": [
    "a[0].values()"
   ]
  },
  {
   "cell_type": "code",
   "execution_count": 13,
   "metadata": {},
   "outputs": [
    {
     "data": {
      "text/plain": [
       "3.2"
      ]
     },
     "execution_count": 13,
     "metadata": {},
     "output_type": "execute_result"
    }
   ],
   "source": []
  },
  {
   "cell_type": "code",
   "execution_count": 189,
   "metadata": {},
   "outputs": [
    {
     "ename": "AttributeError",
     "evalue": "'int' object has no attribute 'get_clock'",
     "output_type": "error",
     "traceback": [
      "\u001b[1;31m---------------------------------------------------------------------------\u001b[0m",
      "\u001b[1;31mAttributeError\u001b[0m                            Traceback (most recent call last)",
      "\u001b[1;32m<ipython-input-189-06dd6e8a02d3>\u001b[0m in \u001b[0;36m<module>\u001b[1;34m()\u001b[0m\n\u001b[0;32m      1\u001b[0m \u001b[0mlength\u001b[0m\u001b[1;33m=\u001b[0m\u001b[0minitial_delay\u001b[0m\u001b[1;33m\u001b[0m\u001b[0m\n\u001b[1;32m----> 2\u001b[1;33m \u001b[0mpulses\u001b[0m \u001b[1;33m=\u001b[0m \u001b[1;33m{\u001b[0m\u001b[0mchannel_name\u001b[0m\u001b[1;33m:\u001b[0m \u001b[0mpause\u001b[0m\u001b[1;33m(\u001b[0m\u001b[0mchannel_name\u001b[0m\u001b[1;33m,\u001b[0m \u001b[0minitial_delay\u001b[0m\u001b[1;33m)\u001b[0m \u001b[1;32mfor\u001b[0m \u001b[0mchannel_name\u001b[0m\u001b[1;33m,\u001b[0m \u001b[0mchannel\u001b[0m \u001b[1;32min\u001b[0m \u001b[0mchannels\u001b[0m\u001b[1;33m.\u001b[0m\u001b[0mitems\u001b[0m\u001b[1;33m(\u001b[0m\u001b[1;33m)\u001b[0m\u001b[1;33m}\u001b[0m\u001b[1;33m\u001b[0m\u001b[0m\n\u001b[0m",
      "\u001b[1;32m<ipython-input-189-06dd6e8a02d3>\u001b[0m in \u001b[0;36m<dictcomp>\u001b[1;34m(.0)\u001b[0m\n\u001b[0;32m      1\u001b[0m \u001b[0mlength\u001b[0m\u001b[1;33m=\u001b[0m\u001b[0minitial_delay\u001b[0m\u001b[1;33m\u001b[0m\u001b[0m\n\u001b[1;32m----> 2\u001b[1;33m \u001b[0mpulses\u001b[0m \u001b[1;33m=\u001b[0m \u001b[1;33m{\u001b[0m\u001b[0mchannel_name\u001b[0m\u001b[1;33m:\u001b[0m \u001b[0mpause\u001b[0m\u001b[1;33m(\u001b[0m\u001b[0mchannel_name\u001b[0m\u001b[1;33m,\u001b[0m \u001b[0minitial_delay\u001b[0m\u001b[1;33m)\u001b[0m \u001b[1;32mfor\u001b[0m \u001b[0mchannel_name\u001b[0m\u001b[1;33m,\u001b[0m \u001b[0mchannel\u001b[0m \u001b[1;32min\u001b[0m \u001b[0mchannels\u001b[0m\u001b[1;33m.\u001b[0m\u001b[0mitems\u001b[0m\u001b[1;33m(\u001b[0m\u001b[1;33m)\u001b[0m\u001b[1;33m}\u001b[0m\u001b[1;33m\u001b[0m\u001b[0m\n\u001b[0m",
      "\u001b[1;32m<ipython-input-187-03c77871c6b7>\u001b[0m in \u001b[0;36mpause\u001b[1;34m(channel, length)\u001b[0m\n\u001b[0;32m      3\u001b[0m     \u001b[1;32mreturn\u001b[0m \u001b[0mamplitude\u001b[0m\u001b[1;33m*\u001b[0m\u001b[0mnp\u001b[0m\u001b[1;33m.\u001b[0m\u001b[0mones\u001b[0m\u001b[1;33m(\u001b[0m\u001b[0mint\u001b[0m\u001b[1;33m(\u001b[0m\u001b[0mround\u001b[0m\u001b[1;33m(\u001b[0m\u001b[0mlength\u001b[0m\u001b[1;33m*\u001b[0m\u001b[0mchannels\u001b[0m\u001b[1;33m[\u001b[0m\u001b[0mchannel\u001b[0m\u001b[1;33m]\u001b[0m\u001b[1;33m.\u001b[0m\u001b[0mget_clock\u001b[0m\u001b[1;33m(\u001b[0m\u001b[1;33m)\u001b[0m\u001b[1;33m)\u001b[0m\u001b[1;33m)\u001b[0m\u001b[1;33m,\u001b[0m \u001b[0mdtype\u001b[0m\u001b[1;33m=\u001b[0m\u001b[0mnp\u001b[0m\u001b[1;33m.\u001b[0m\u001b[0mcomplex\u001b[0m\u001b[1;33m)\u001b[0m\u001b[1;33m\u001b[0m\u001b[0m\n\u001b[0;32m      4\u001b[0m \u001b[1;32mdef\u001b[0m \u001b[0mpause\u001b[0m\u001b[1;33m(\u001b[0m\u001b[0mchannel\u001b[0m\u001b[1;33m,\u001b[0m \u001b[0mlength\u001b[0m\u001b[1;33m)\u001b[0m\u001b[1;33m:\u001b[0m\u001b[1;33m\u001b[0m\u001b[0m\n\u001b[1;32m----> 5\u001b[1;33m     \u001b[1;32mreturn\u001b[0m \u001b[0mrect\u001b[0m\u001b[1;33m(\u001b[0m\u001b[0mchannel\u001b[0m\u001b[1;33m,\u001b[0m \u001b[0mlength\u001b[0m\u001b[1;33m,\u001b[0m \u001b[1;36m0\u001b[0m\u001b[1;33m)\u001b[0m\u001b[1;33m\u001b[0m\u001b[0m\n\u001b[0m\u001b[0;32m      6\u001b[0m \u001b[1;33m\u001b[0m\u001b[0m\n\u001b[0;32m      7\u001b[0m \u001b[1;32mdef\u001b[0m \u001b[0mp\u001b[0m\u001b[1;33m(\u001b[0m\u001b[0mchannel\u001b[0m\u001b[1;33m,\u001b[0m \u001b[0mlength\u001b[0m\u001b[1;33m,\u001b[0m \u001b[0mpulse_type\u001b[0m\u001b[1;33m=\u001b[0m\u001b[1;32mNone\u001b[0m\u001b[1;33m,\u001b[0m \u001b[1;33m*\u001b[0m\u001b[0mparams\u001b[0m\u001b[1;33m)\u001b[0m\u001b[1;33m:\u001b[0m\u001b[1;33m\u001b[0m\u001b[0m\n",
      "\u001b[1;32m<ipython-input-187-03c77871c6b7>\u001b[0m in \u001b[0;36mrect\u001b[1;34m(channel, length, amplitude)\u001b[0m\n\u001b[0;32m      1\u001b[0m \u001b[1;33m\u001b[0m\u001b[0m\n\u001b[0;32m      2\u001b[0m \u001b[1;32mdef\u001b[0m \u001b[0mrect\u001b[0m\u001b[1;33m(\u001b[0m\u001b[0mchannel\u001b[0m\u001b[1;33m,\u001b[0m \u001b[0mlength\u001b[0m\u001b[1;33m,\u001b[0m \u001b[0mamplitude\u001b[0m\u001b[1;33m)\u001b[0m\u001b[1;33m:\u001b[0m\u001b[1;33m\u001b[0m\u001b[0m\n\u001b[1;32m----> 3\u001b[1;33m     \u001b[1;32mreturn\u001b[0m \u001b[0mamplitude\u001b[0m\u001b[1;33m*\u001b[0m\u001b[0mnp\u001b[0m\u001b[1;33m.\u001b[0m\u001b[0mones\u001b[0m\u001b[1;33m(\u001b[0m\u001b[0mint\u001b[0m\u001b[1;33m(\u001b[0m\u001b[0mround\u001b[0m\u001b[1;33m(\u001b[0m\u001b[0mlength\u001b[0m\u001b[1;33m*\u001b[0m\u001b[0mchannels\u001b[0m\u001b[1;33m[\u001b[0m\u001b[0mchannel\u001b[0m\u001b[1;33m]\u001b[0m\u001b[1;33m.\u001b[0m\u001b[0mget_clock\u001b[0m\u001b[1;33m(\u001b[0m\u001b[1;33m)\u001b[0m\u001b[1;33m)\u001b[0m\u001b[1;33m)\u001b[0m\u001b[1;33m,\u001b[0m \u001b[0mdtype\u001b[0m\u001b[1;33m=\u001b[0m\u001b[0mnp\u001b[0m\u001b[1;33m.\u001b[0m\u001b[0mcomplex\u001b[0m\u001b[1;33m)\u001b[0m\u001b[1;33m\u001b[0m\u001b[0m\n\u001b[0m\u001b[0;32m      4\u001b[0m \u001b[1;32mdef\u001b[0m \u001b[0mpause\u001b[0m\u001b[1;33m(\u001b[0m\u001b[0mchannel\u001b[0m\u001b[1;33m,\u001b[0m \u001b[0mlength\u001b[0m\u001b[1;33m)\u001b[0m\u001b[1;33m:\u001b[0m\u001b[1;33m\u001b[0m\u001b[0m\n\u001b[0;32m      5\u001b[0m     \u001b[1;32mreturn\u001b[0m \u001b[0mrect\u001b[0m\u001b[1;33m(\u001b[0m\u001b[0mchannel\u001b[0m\u001b[1;33m,\u001b[0m \u001b[0mlength\u001b[0m\u001b[1;33m,\u001b[0m \u001b[1;36m0\u001b[0m\u001b[1;33m)\u001b[0m\u001b[1;33m\u001b[0m\u001b[0m\n",
      "\u001b[1;31mAttributeError\u001b[0m: 'int' object has no attribute 'get_clock'"
     ]
    }
   ],
   "source": [
    "length=initial_delay\n",
    "pulses = {channel_name: pause(channel_name, initial_delay) for channel_name, channel in channels.items()}"
   ]
  },
  {
   "cell_type": "code",
   "execution_count": 186,
   "metadata": {
    "scrolled": true
   },
   "outputs": [
    {
     "ename": "NameError",
     "evalue": "name 'self' is not defined",
     "output_type": "error",
     "traceback": [
      "\u001b[1;31m---------------------------------------------------------------------------\u001b[0m",
      "\u001b[1;31mNameError\u001b[0m                                 Traceback (most recent call last)",
      "\u001b[1;32m<ipython-input-186-5c81de19d03c>\u001b[0m in \u001b[0;36m<module>\u001b[1;34m()\u001b[0m\n\u001b[1;32m----> 1\u001b[1;33m \u001b[0mself\u001b[0m\u001b[1;33m.\u001b[0m\u001b[0mpause\u001b[0m\u001b[1;33m(\u001b[0m\u001b[0mchannel\u001b[0m\u001b[1;33m=\u001b[0m\u001b[1;34m'1'\u001b[0m\u001b[1;33m,\u001b[0m \u001b[0mlength\u001b[0m\u001b[1;33m=\u001b[0m\u001b[0minitial_delay\u001b[0m\u001b[1;33m)\u001b[0m\u001b[1;33m\u001b[0m\u001b[0m\n\u001b[0m",
      "\u001b[1;31mNameError\u001b[0m: name 'self' is not defined"
     ]
    }
   ],
   "source": [
    "pause(channel='1', length=initial_delay)"
   ]
  },
  {
   "cell_type": "code",
   "execution_count": null,
   "metadata": {
    "collapsed": true
   },
   "outputs": [],
   "source": []
  },
  {
   "cell_type": "code",
   "execution_count": null,
   "metadata": {
    "collapsed": true
   },
   "outputs": [],
   "source": []
  },
  {
   "cell_type": "code",
   "execution_count": null,
   "metadata": {
    "collapsed": true
   },
   "outputs": [],
   "source": []
  }
 ],
 "metadata": {
  "kernelspec": {
   "display_name": "Python 3",
   "language": "python",
   "name": "python3"
  },
  "language_info": {
   "codemirror_mode": {
    "name": "ipython",
    "version": 3
   },
   "file_extension": ".py",
   "mimetype": "text/x-python",
   "name": "python",
   "nbconvert_exporter": "python",
   "pygments_lexer": "ipython3",
   "version": "3.6.5"
  },
  "toc": {
   "base_numbering": 1,
   "nav_menu": {},
   "number_sections": true,
   "sideBar": true,
   "skip_h1_title": false,
   "title_cell": "Table of Contents",
   "title_sidebar": "Contents",
   "toc_cell": false,
   "toc_position": {},
   "toc_section_display": true,
   "toc_window_display": false
  }
 },
 "nbformat": 4,
 "nbformat_minor": 2
}
