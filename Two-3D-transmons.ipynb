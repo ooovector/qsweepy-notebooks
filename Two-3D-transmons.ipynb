{
 "cells": [
  {
   "cell_type": "markdown",
   "metadata": {},
   "source": [
    "### Запуск QtLab"
   ]
  },
  {
   "cell_type": "markdown",
   "metadata": {},
   "source": [
    "Для начала надо добавить пути со скриптами и драйверами устройств, подключить библиотеки numpy и matplotlib."
   ]
  },
  {
   "cell_type": "code",
   "execution_count": 1,
   "metadata": {
    "scrolled": true
   },
   "outputs": [
    {
     "name": "stdout",
     "output_type": "stream",
     "text": [
      "Failed loading module AWG500:  No module named 'ftd2xx'\n",
      "Failed loading module Labbrick:  [WinError 126] The specified module could not be found\n",
      "\n",
      "Failed loading module Signal_Hound_SA:  name 'signal_hound_dll' is not defined\n"
     ]
    }
   ],
   "source": [
    "%matplotlib qt5\n",
    "from qsweepy import *\n",
    "from qsweepy.instruments import *\n",
    "from qsweepy.save_pkl import save_pkl\n",
    "import matplotlib.pyplot as plt\n",
    "import numpy as np\n",
    "from matplotlib import interactive\n",
    "interactive(True)"
   ]
  },
  {
   "cell_type": "code",
   "execution_count": 2,
   "metadata": {},
   "outputs": [
    {
     "data": {
      "text/plain": [
       "<module 'qsweepy.qjson' from 'C:\\\\Users\\\\demouser\\\\Desktop\\\\Quantum\\\\qsweepy\\\\qjson.py'>"
      ]
     },
     "execution_count": 2,
     "metadata": {},
     "output_type": "execute_result"
    }
   ],
   "source": [
    "#import awg_digital\n",
    "#import awg_iq\n",
    "#import data_reduce\n",
    "import imp\n",
    "#import fitting\n",
    "#import plotting\n",
    "import qsweepy.save_pkl\n",
    "#import qsweepy.tomography as tomography_new\n",
    "#import qsweepy.tomography_legacy as tomography\n",
    "#import sweep\n",
    "imp.reload(awg_digital)\n",
    "imp.reload(awg_iq)\n",
    "imp.reload(awg_iq_multi)\n",
    "imp.reload(data_reduce)\n",
    "imp.reload(fitting)\n",
    "imp.reload(plotting)\n",
    "imp.reload(qsweepy.save_pkl)\n",
    "imp.reload(pulses)\n",
    "imp.reload(single_shot_readout)\n",
    "imp.reload(readout_classifier)\n",
    "imp.reload(tomography)\n",
    "imp.reload(config)\n",
    "#imp.reload(tomography_new)\n",
    "imp.reload(sweep)\n",
    "imp.reload(qjson)"
   ]
  },
  {
   "cell_type": "markdown",
   "metadata": {},
   "source": [
    "# Qubit parameters: this stuff should go to calibration folder"
   ]
  },
  {
   "cell_type": "code",
   "execution_count": 18,
   "metadata": {},
   "outputs": [],
   "source": [
    "#Параметры кубитов.all keys should be str\n",
    "Qubits = {'2-070818': {'r':{\n",
    "                    'Fr': 7.29775e9,\n",
    "                     'P': -30 },\n",
    "              'q':{\n",
    "              '00-1-01': 4.25083e+09,\n",
    "              '01-1-02': 4.00871e+09,\n",
    "              '00-2-02': 4.12977e+09,\n",
    "                'P':None}\n",
    "             },\n",
    "          '2-070818':{'r':{'Fr': 7.2988e9,  'P': -30}, 'q':{'00-1-01': 4.25501e9, '00-2-02': 4.1e9, '01-1-02': 3.98e9}},\n",
    "          '2-080818':{'r':{'Fr': 7.2988e9,  'P': -30}, 'q':{'00-1-01': 4.256397e9, '00-2-02': 4.1345e9, '01-1-02': 4.01420e9}},\n",
    "          '1-080818':{'r':{'Fr': 7.2059e9, 'P': -30},'q':{ '00-1-01':4.242190e9+1.76e6, '00-2-02': 4.1e9, '01-1-02': 4.00020e9}},\n",
    "          '2-100818':{'r':{'Fr': 7.1011e9, 'P': -30}, 'q':{'0-1-1': 3.8199e9}},\n",
    "          '1-100818':{'r':{'Fr': 7.0765e9, 'P': -30},'q': {'00-1-01': 3.92173e9, '00-1-10': 3.9406e9}},\n",
    "          #'2':{'r':{'Fr': 7.332e9, 'P': -30}, 'q':{'0-1-1': 3.8199e9}},\n",
    "          #'1':{'r':{'Fr': 7.2798e9, 'P': -30},'q': {'00-1-01': 3.92173e9, '00-1-10': 3.9406e9}},\n",
    "          #'2':{'r':{'Fr': 7.332e9, 'P': -50}, 'q':{'00-1-01': 4.2568e9, '01-1-02': 4.0147e9, '00-1-10': 3.9297e9}},\n",
    "          #'1':{'r':{'Fr': 7.278e9, 'P': -50},'q': {'00-1-01': 4.2446e9, '01-1-02': 4.002e9, '00-1-10': 3.9470e9}},\n",
    "          '2':{'r':{'Fr': 7.335e9, 'P': -50}, \n",
    "               'q':{'00-1-01': 4.2568e9, \n",
    "                    '01-1-02': 4.0147e9, \n",
    "                    '00-1-10': 3.9297e9}},\n",
    "          '1':{'r':{'Fr': 7.278e9, 'P': -50},\n",
    "               'q':{'00-1-01': 4.246158e9, #4.24607e9, #4.2446e9\n",
    "                    '00-2-02': 4.12454e9,#4.1233e9,\n",
    "                    '00-2-11': 4.09916e9,\n",
    "                    '01-1-02': 4.0030e9, \n",
    "                    '00-1-10': 3.94780e9,#3.9480e9,\n",
    "                    '01-2-03': 3.8630e9,\n",
    "                    '00-2-20': 3.82293e9,\n",
    "                    '10-1-20': 3.6990e9}},}\n",
    "qubit_params=Qubits\n",
    "qubit_id = '2'\n",
    "switch_to_sample = {'1':4, '2':3}\n",
    "#it should be dumped too\n",
    "qubits_dump = {\"qubits\":qubit_params,'switch':switch_to_sample}\n",
    "qjson.dump('qubits','qubit_params',qubits_dump)"
   ]
  },
  {
   "cell_type": "markdown",
   "metadata": {},
   "source": [
    "# Instrument class initialization"
   ]
  },
  {
   "cell_type": "markdown",
   "metadata": {},
   "source": [
    "## Spectroscopy instruments"
   ]
  },
  {
   "cell_type": "markdown",
   "metadata": {},
   "source": [
    "### MW instruments"
   ]
  },
  {
   "cell_type": "code",
   "execution_count": 4,
   "metadata": {
    "collapsed": true
   },
   "outputs": [],
   "source": [
    "# RF switch for making sure we know what sample we are measuring\n",
    "pna = Agilent_N5242A('pna', address = 'TCPIP0::10.20.61.48::inst0::INSTR')\n",
    "lo1 = Agilent_E8257D('lo1', address = 'TCPIP0::10.20.61.59::inst0::INSTR')\n",
    "rf_switch = nn_rf_switch('rf_switch', address='10.20.61.224')"
   ]
  },
  {
   "cell_type": "markdown",
   "metadata": {},
   "source": [
    "### DC instruments"
   ]
  },
  {
   "cell_type": "markdown",
   "metadata": {},
   "source": [
    "## spectroscopy through mixers"
   ]
  },
  {
   "cell_type": "code",
   "execution_count": 5,
   "metadata": {},
   "outputs": [
    {
     "name": "stdout",
     "output_type": "stream",
     "text": [
      "0\n",
      "0\n",
      "0\n",
      "0\n"
     ]
    }
   ],
   "source": [
    "CHASSIS = 1\n",
    "SLOT_IN = 11\n",
    "SLOT_OUT = 7\n",
    "awg = Keysight_M3202A_S('awg', CHASSIS, SLOT_OUT)\n",
    "adc = Keysight_M3102A('adc', CHASSIS, SLOT_IN)"
   ]
  },
  {
   "cell_type": "code",
   "execution_count": 6,
   "metadata": {
    "collapsed": true
   },
   "outputs": [],
   "source": [
    "#awg = Tektronix_AWG5014('awg_tek', address = 'TCPIP0::10.20.61.186::inst0::INSTR')"
   ]
  },
  {
   "cell_type": "markdown",
   "metadata": {},
   "source": [
    "## Time-domain measurements"
   ]
  },
  {
   "cell_type": "code",
   "execution_count": 7,
   "metadata": {
    "collapsed": true
   },
   "outputs": [],
   "source": [
    "sa = Agilent_N9030A('pxa', address = 'TCPIP0::10.20.61.56::inst0::INSTR')\n",
    "lo_ex = lo1\n",
    "lo_ro = pna\n",
    "awg_tek=awg"
   ]
  },
  {
   "cell_type": "markdown",
   "metadata": {},
   "source": [
    "# Settings for different experiments and setups"
   ]
  },
  {
   "cell_type": "markdown",
   "metadata": {},
   "source": [
    "## Spectroscopy instrument settings"
   ]
  },
  {
   "cell_type": "code",
   "execution_count": 8,
   "metadata": {},
   "outputs": [
    {
     "data": {
      "text/plain": [
       "True"
      ]
     },
     "execution_count": 8,
     "metadata": {},
     "output_type": "execute_result"
    }
   ],
   "source": [
    "# векторный анализатор в режим линейного свипа\n",
    "pna.set_sweep_mode(\"LIN\")"
   ]
  },
  {
   "cell_type": "code",
   "execution_count": 9,
   "metadata": {
    "collapsed": true
   },
   "outputs": [],
   "source": [
    "setup_params = {'qubit_id':qubit_id}"
   ]
  },
  {
   "cell_type": "code",
   "execution_count": null,
   "metadata": {},
   "outputs": [],
   "source": [
    "setups = inst_loading(pna,lo1,awg,adc,**setup_params)"
   ]
  },
  {
   "cell_type": "code",
   "execution_count": null,
   "metadata": {},
   "outputs": [],
   "source": [
    "awg = setups.awg\n",
    "adc = setups.adc\n",
    "pg = setups.pg"
   ]
  },
  {
   "cell_type": "markdown",
   "metadata": {},
   "source": [
    "## Спектроскопия через смесители #### ЖМИ МИНЯ\n",
    "\n",
    "\n",
    "Если подключена импульсная схема, а хочется сделать спектроскопию - то нет проблем! Единственное что нужно сделать, это, во-первых, открыть смесители (подав на них, скажем, 0.3В), и во-вторых, обратить внимание на мощность на выходе. Она будет ниже чем если делать спектроскопию нормально. Ну и шумов тоже получится больше - лучше всего не подавать какие-то сигналы с AWG, а задать оффсеты. Тогда вроде бы шумов меньше получается.\n",
    "\n",
    "Что тут хорошо: можно переключаться между режимами не выходя из офиса (или из вообще не вставая на кровати). Этот режим очень популярен при измерениях в Черноголовке среди людей, которые не любят в эту самую Черноголовку ездить.\n",
    "Тем не менее иногда полезно заходить в лабу и посмотреть что же на самом деле там происходит."
   ]
  },
  {
   "cell_type": "code",
   "execution_count": 15,
   "metadata": {
    "scrolled": true
   },
   "outputs": [],
   "source": [
    "for channel in range(0,4):\n",
    "    awg.set_amplitude(.2, channel=channel)\n",
    "    awg.set_offset(0.05, channel=channel)\n",
    "    awg.set_output(1, channel=channel)\n",
    "    awg.set_waveform(waveform=[0], channel=channel)"
   ]
  },
  {
   "cell_type": "markdown",
   "metadata": {},
   "source": [
    "# Spectroscopy"
   ]
  },
  {
   "cell_type": "markdown",
   "metadata": {},
   "source": [
    "## Резонаторная спектроскопия #### НЕЖМИ МИНЯ\n"
   ]
  },
  {
   "cell_type": "code",
   "execution_count": 12,
   "metadata": {
    "collapsed": true
   },
   "outputs": [],
   "source": [
    "lo1.set_status(0)\n",
    "pna.set_status(1)\n",
    "pna.set_power(-50) # \n",
    "pna.set_nop(201)\n",
    "pna.set_xlim(7.0e9, 7.4e9)\n",
    "pna.set_bandwidth(100)\n",
    "freqs = pna.get_freqpoints()\n",
    "S21 = pna.get_tracedata()"
   ]
  },
  {
   "cell_type": "code",
   "execution_count": 13,
   "metadata": {},
   "outputs": [
    {
     "data": {
      "application/vnd.jupyter.widget-view+json": {
       "model_id": "7141b7cc9cad4023ab083b70b0477235"
      }
     },
     "metadata": {},
     "output_type": "display_data"
    },
    {
     "name": "stdout",
     "output_type": "stream",
     "text": [
      "Started at:  Aug 21 2018 09:42:52\n"
     ]
    },
    {
     "name": "stderr",
     "output_type": "stream",
     "text": [
      "C:\\ProgramData\\Anaconda2\\envs\\py36\\lib\\site-packages\\numpy\\lib\\function_base.py:2006: RuntimeWarning: invalid value encountered in remainder\n",
      "  ddmod = mod(dd + pi, 2*pi) - pi\n",
      "C:\\ProgramData\\Anaconda2\\envs\\py36\\lib\\site-packages\\numpy\\lib\\function_base.py:2007: RuntimeWarning: invalid value encountered in greater\n",
      "  _nx.copyto(ddmod, pi, where=(ddmod == -pi) & (dd > 0))\n",
      "C:\\ProgramData\\Anaconda2\\envs\\py36\\lib\\site-packages\\numpy\\lib\\function_base.py:2009: RuntimeWarning: invalid value encountered in less\n",
      "  _nx.copyto(ph_correct, 0, where=abs(dd) < discont)\n"
     ]
    },
    {
     "name": "stdout",
     "output_type": "stream",
     "text": [
      "Exiting sweep main thread #{} via return 8008\n",
      "\n",
      "Elapsed time: 0 h 0 m 4.12 s\n"
     ]
    }
   ],
   "source": [
    "meas = sweep.sweep(pna, ([0], lambda x: None, 'None'), filename='Single Tone spectroscopy #{}'.format(qubit_id))"
   ]
  },
  {
   "cell_type": "code",
   "execution_count": 12,
   "metadata": {},
   "outputs": [
    {
     "data": {
      "application/vnd.jupyter.widget-view+json": {
       "model_id": "0c260144dad34c0fba0cdf0bb6220f6a"
      }
     },
     "metadata": {},
     "output_type": "display_data"
    },
    {
     "name": "stdout",
     "output_type": "stream",
     "text": [
      "Started at:  Aug 16 2018 09:12:27\n"
     ]
    },
    {
     "name": "stderr",
     "output_type": "stream",
     "text": [
      "C:\\ProgramData\\Anaconda2\\envs\\py36\\lib\\site-packages\\numpy\\lib\\function_base.py:2006: RuntimeWarning: invalid value encountered in remainder\n",
      "  ddmod = mod(dd + pi, 2*pi) - pi\n",
      "C:\\ProgramData\\Anaconda2\\envs\\py36\\lib\\site-packages\\numpy\\lib\\function_base.py:2007: RuntimeWarning: invalid value encountered in greater\n",
      "  _nx.copyto(ddmod, pi, where=(ddmod == -pi) & (dd > 0))\n",
      "C:\\ProgramData\\Anaconda2\\envs\\py36\\lib\\site-packages\\numpy\\lib\\function_base.py:2009: RuntimeWarning: invalid value encountered in less\n",
      "  _nx.copyto(ph_correct, 0, where=abs(dd) < discont)\n"
     ]
    },
    {
     "name": "stdout",
     "output_type": "stream",
     "text": [
      "\n",
      "Elapsed time: 0 h 2 m 59.23 s\n"
     ]
    },
    {
     "data": {
      "application/vnd.jupyter.widget-view+json": {
       "model_id": "f7af139ce3c64c438bcb6d56aed46c44"
      }
     },
     "metadata": {},
     "output_type": "display_data"
    },
    {
     "name": "stdout",
     "output_type": "stream",
     "text": [
      "Started at:  Aug 16 2018 09:15:29\n"
     ]
    },
    {
     "name": "stderr",
     "output_type": "stream",
     "text": [
      "C:\\ProgramData\\Anaconda2\\envs\\py36\\lib\\site-packages\\numpy\\lib\\function_base.py:2006: RuntimeWarning: invalid value encountered in remainder\n",
      "  ddmod = mod(dd + pi, 2*pi) - pi\n",
      "C:\\ProgramData\\Anaconda2\\envs\\py36\\lib\\site-packages\\numpy\\lib\\function_base.py:2007: RuntimeWarning: invalid value encountered in greater\n",
      "  _nx.copyto(ddmod, pi, where=(ddmod == -pi) & (dd > 0))\n",
      "C:\\ProgramData\\Anaconda2\\envs\\py36\\lib\\site-packages\\numpy\\lib\\function_base.py:2009: RuntimeWarning: invalid value encountered in less\n",
      "  _nx.copyto(ph_correct, 0, where=abs(dd) < discont)\n"
     ]
    },
    {
     "name": "stdout",
     "output_type": "stream",
     "text": [
      "\n",
      "Elapsed time: 0 h 2 m 58.97 s\n"
     ]
    }
   ],
   "source": [
    "pna.set_frequency(Qubits['1']['r']['Fr'])\n",
    "pna.set_bandwidth(1)\n",
    "pna.set_average(0)\n",
    "pna.set_averages(1)\n",
    "pna.set_power(-40)\n",
    "pna.set_span(1e3)\n",
    "pna.set_nop(201)\n",
    "meas_offres = sweep.sweep(pna, ([0], lambda x: None, 'None'), filename='On res S21 time dep #{}'.format(qubit_id))\n",
    "meas_offres2 = sweep.sweep(pna, ([0], lambda x: None, 'None'), filename='On res S21 time dep #{}'.format(qubit_id))"
   ]
  },
  {
   "cell_type": "code",
   "execution_count": 91,
   "metadata": {},
   "outputs": [
    {
     "data": {
      "application/vnd.jupyter.widget-view+json": {
       "model_id": "6a3dd22eb0034ddbbf55ecfee4a7035b"
      }
     },
     "metadata": {},
     "output_type": "display_data"
    },
    {
     "name": "stdout",
     "output_type": "stream",
     "text": [
      "Started at:  Aug 15 2018 23:45:55\n",
      "\n",
      "Elapsed time: 0 h 7 m 28.48 s\n"
     ]
    }
   ],
   "source": [
    "lo1.set_status(1)\n",
    "lo1.set_power(-6)\n",
    "lo1.set_frequency(qubit_params[qubit_id]['q']['01-1-02'])\n",
    "#lo1.set_frequency(3e9)\n",
    "pna.set_nop(200)\n",
    "pna.set_centerfreq(Qubits[qubit_id]['r']['Fr'])\n",
    "pna.set_span(110e6)\n",
    "meas_offres = sweep.sweep(pna, (np.array(range(50))*pna.get_sweep_time()*1e-3,\n",
    "                                lambda x: None, 'None'), filename='On res S21 time dep #{}'.format(qubit_id))"
   ]
  },
  {
   "cell_type": "code",
   "execution_count": 16,
   "metadata": {},
   "outputs": [
    {
     "data": {
      "text/plain": [
       "[<matplotlib.lines.Line2D at 0xe8d5908>]"
      ]
     },
     "execution_count": 16,
     "metadata": {},
     "output_type": "execute_result"
    }
   ],
   "source": [
    "plt.figure()\n",
    "plt.plot(np.angle(meas_offres['S-parameter'][2]))\n",
    "plt.plot(np.angle(meas_offres2['S-parameter'][2]))"
   ]
  },
  {
   "cell_type": "code",
   "execution_count": 21,
   "metadata": {},
   "outputs": [
    {
     "data": {
      "text/plain": [
       "[<matplotlib.lines.Line2D at 0xe33c208>]"
      ]
     },
     "execution_count": 21,
     "metadata": {},
     "output_type": "execute_result"
    }
   ],
   "source": [
    "plt.figure()\n",
    "plt.plot(meas['S-parameter'][1][0], np.gradient(np.unwrap(np.angle(meas['S-parameter'][2]))))"
   ]
  },
  {
   "cell_type": "markdown",
   "metadata": {},
   "source": [
    "## Резонаторная спектроскопия second tone on #### НЕЖМИ МИНЯ "
   ]
  },
  {
   "cell_type": "code",
   "execution_count": 16,
   "metadata": {},
   "outputs": [
    {
     "data": {
      "application/vnd.jupyter.widget-view+json": {
       "model_id": "ab1bbe1227cc47ea8347a1a23d674edf"
      }
     },
     "metadata": {},
     "output_type": "display_data"
    },
    {
     "name": "stdout",
     "output_type": "stream",
     "text": [
      "Started at:  Jul 31 2018 22:32:20\n",
      "\n",
      "Elapsed time: 0 h 0 m 19.14 s\n"
     ]
    }
   ],
   "source": [
    "lo1.set_status(1)\n",
    "lo1.set_frequency(qubit_params[qubit_id]['01-1-02'])\n",
    "lo1.set_power(14)\n",
    "pna.set_status(1)\n",
    "pna.set_power(-50) # \n",
    "pna.set_nop(51)\n",
    "pna.set_centerfreq(qubit_params[qubit_id]['Fr'])\n",
    "pna.set_span(50e6)\n",
    "pna.set_bandwidth(100)\n",
    "first_tone_powers = np.arange(-35, 0, 1)\n",
    "meas = sweep.sweep(pna, (first_tone_powers, pna.set_power, 'Readout power'), filename='Single Tone power sweep lo on strong'.format(lo1.get_status()))"
   ]
  },
  {
   "cell_type": "markdown",
   "metadata": {},
   "source": [
    "## Резонатор от мощности (проверка нелинейности резонатора) #### НЕЖМИ МИНЯ\n"
   ]
  },
  {
   "cell_type": "code",
   "execution_count": 34,
   "metadata": {},
   "outputs": [
    {
     "data": {
      "text/plain": [
       "True"
      ]
     },
     "execution_count": 34,
     "metadata": {},
     "output_type": "execute_result"
    }
   ],
   "source": [
    "pna.set_power(-10) # \n",
    "pna.set_nop(201) \n",
    "#pna.set_xlim(9.8e9, 9.81e9)\n",
    "pna.set_xlim(7.05e9, 7.15e9)\n",
    "pna.set_bandwidth(100)\n",
    "freqs = pna.get_freqpoints()\n",
    "S21 = pna.get_tracedata()\n",
    "lo1.set_status(0)"
   ]
  },
  {
   "cell_type": "code",
   "execution_count": 36,
   "metadata": {
    "scrolled": true
   },
   "outputs": [
    {
     "data": {
      "application/vnd.jupyter.widget-view+json": {
       "model_id": "437bd359affe4be58e2c503b91bdeebe"
      }
     },
     "metadata": {},
     "output_type": "display_data"
    },
    {
     "name": "stdout",
     "output_type": "stream",
     "text": [
      "Started at:  Aug 10 2018 18:21:02\n",
      "\n",
      "Elapsed time: 0 h 0 m 58.32 s\n"
     ]
    }
   ],
   "source": [
    "resonator_powers = np.arange(10, -50, -2)\n",
    "meas = sweep.sweep(pna, (resonator_powers, pna.set_power, 'Power, dBm'), filename='Single Tone spectroscopy power dependent #{}'.format(qubit_id))"
   ]
  },
  {
   "cell_type": "markdown",
   "metadata": {},
   "source": [
    "## Фитуем добротность резонатора #### НЕЖМИ МИНЯ\n"
   ]
  },
  {
   "cell_type": "code",
   "execution_count": null,
   "metadata": {
    "collapsed": true
   },
   "outputs": [],
   "source": [
    "from resonator_tools import circuit\n",
    "#plt.plot(freqs, scipy.signal.detrend(np.unwrap(S21[1])))\n",
    "fitter =circuit.reflection_port(f_data=freqs, z_data_raw=S21[0]*np.exp(1j*S21[1]))\n",
    "fitter.autofit()\n",
    "fitter.plotall()"
   ]
  },
  {
   "cell_type": "code",
   "execution_count": null,
   "metadata": {
    "collapsed": true
   },
   "outputs": [],
   "source": [
    "fitter.fitresults['Qc_err']"
   ]
  },
  {
   "cell_type": "code",
   "execution_count": null,
   "metadata": {
    "collapsed": true,
    "scrolled": true
   },
   "outputs": [],
   "source": [
    "plt.plot(freqs, np.abs(np.gradient(S21[0]*np.exp(1j*S21[1]))))"
   ]
  },
  {
   "cell_type": "code",
   "execution_count": null,
   "metadata": {
    "collapsed": true
   },
   "outputs": [],
   "source": [
    "powers = np.linspace(-65, 5, 15)\n",
    "sweep.sweep(pna, (powers, pna.set_power, 'readout power'), filename='Resonator power spectroscopy')"
   ]
  },
  {
   "cell_type": "markdown",
   "metadata": {},
   "source": [
    "### Spectroscopy при фиксированной мощности"
   ]
  },
  {
   "cell_type": "code",
   "execution_count": null,
   "metadata": {
    "scrolled": true
   },
   "outputs": [
    {
     "data": {
      "application/vnd.jupyter.widget-view+json": {
       "model_id": "bae70583c2ba4865bed8ec3743c7a402"
      }
     },
     "metadata": {},
     "output_type": "display_data"
    },
    {
     "name": "stdout",
     "output_type": "stream",
     "text": [
      "Started at:  Aug 21 2018 13:13:22\n"
     ]
    },
    {
     "name": "stderr",
     "output_type": "stream",
     "text": [
      "C:\\ProgramData\\Anaconda2\\envs\\py36\\lib\\site-packages\\numpy\\lib\\function_base.py:2006: RuntimeWarning: invalid value encountered in remainder\n",
      "  ddmod = mod(dd + pi, 2*pi) - pi\n",
      "C:\\ProgramData\\Anaconda2\\envs\\py36\\lib\\site-packages\\numpy\\lib\\function_base.py:2007: RuntimeWarning: invalid value encountered in greater\n",
      "  _nx.copyto(ddmod, pi, where=(ddmod == -pi) & (dd > 0))\n",
      "C:\\ProgramData\\Anaconda2\\envs\\py36\\lib\\site-packages\\numpy\\lib\\function_base.py:2009: RuntimeWarning: invalid value encountered in less\n",
      "  _nx.copyto(ph_correct, 0, where=abs(dd) < discont)\n"
     ]
    }
   ],
   "source": [
    "#### НЕЖМИ МИНЯ\n",
    "#qubit_id='2'\n",
    "ex_freqs = np.arange(3.5e9, 4.4e9, 0.2e6)\n",
    "#ex_freqs = np.concatenate((np.arange(3.98e9,4.02e9,0.3e6),  np.arange(4.2e9,4.28e9,0.3e6)))\n",
    "#ex_freqs = np.arange(2e9,4.4e9,2e6)\n",
    "lo1.set_power(-10)\n",
    "#Измерение\n",
    "lo1.set_status(1)\n",
    "pna.set_nop(1)\n",
    "pna.set_centerfreq(Qubits[qubit_id]['r']['Fr'])\n",
    "pna.set_bandwidth(20)\n",
    "pna.set_power(-20)\n",
    "#pna.set_average_mode('POINT')\n",
    "#pna.set_average(1)\n",
    "#pna.set_averages(8)\n",
    "#pna.set_power (-52)\n",
    "#pna.set_power(Qubits[qubit_id]['r']['P']-1)\n",
    "#current_src.set_current(-2.5e-3)\n",
    "\n",
    "header = '''#Parameter = Ex frequency\n",
    "#Ex power = {:f}'''\n",
    "try:\n",
    "    ex1D = sweep.sweep(pna, (ex_freqs, lo1.set_frequency, 'Second tone freq', 'Hz'), filename = \"#{}\".format(qubit_id))\n",
    "except KeyboardInterrupt: pass \n",
    "lo1.set_status(0)"
   ]
  },
  {
   "cell_type": "code",
   "execution_count": null,
   "metadata": {
    "collapsed": true,
    "scrolled": true
   },
   "outputs": [],
   "source": [
    "#### НЕЖМИ МИНЯ\n",
    "\n",
    "#Измерение\n",
    "lo1.set_status(1)\n",
    "ex_freqs = np.arange(5.9e9, 6.0e9, 2e6)\n",
    "\n",
    "pna.set_xlim(9.45e9, 9.75e9)\n",
    "pna.set_nop(1)\n",
    "pna.set_bandwidth(51)\n",
    "#pna.set_average_mode('POINT')\n",
    "pna.set_average(1)\n",
    "pna.set_averages(1)\n",
    "pna.set_power (-15)\n",
    "lo1.set_power (0)\n",
    "#current_src.set_current(-2.5e-3)\n",
    "\n",
    "header = '''#Parameter = Ex frequency\n",
    "#Ex power = {:f}'''\n",
    "try:\n",
    "    ex1D = sweep.sweep(pna, (ex_freqs, lo1.set_frequency, 'Second tone freq'), filename = \"ex_{:.1f}dBm #4\".format(lo1.get_power()))\n",
    "except KeyboardInterrupt: pass "
   ]
  },
  {
   "cell_type": "code",
   "execution_count": 27,
   "metadata": {},
   "outputs": [
    {
     "data": {
      "text/plain": [
       "True"
      ]
     },
     "execution_count": 27,
     "metadata": {},
     "output_type": "execute_result"
    }
   ],
   "source": [
    "pna.set_average(1)"
   ]
  },
  {
   "cell_type": "markdown",
   "metadata": {},
   "source": [
    "##### 2D скан (мощность второго тона, частота второго тона)"
   ]
  },
  {
   "cell_type": "code",
   "execution_count": 16,
   "metadata": {},
   "outputs": [
    {
     "data": {
      "application/vnd.jupyter.widget-view+json": {
       "model_id": "46ec4855a5514272bdc4548080f6faa1"
      }
     },
     "metadata": {},
     "output_type": "display_data"
    },
    {
     "name": "stdout",
     "output_type": "stream",
     "text": [
      "Started at:  Aug 21 2018 09:44:35\n"
     ]
    },
    {
     "name": "stderr",
     "output_type": "stream",
     "text": [
      "Exception in thread Thread-8:\n",
      "Traceback (most recent call last):\n",
      "  File \"C:\\ProgramData\\Anaconda2\\envs\\py36\\lib\\threading.py\", line 916, in _bootstrap_inner\n",
      "    self.run()\n",
      "  File \"C:\\ProgramData\\Anaconda2\\envs\\py36\\lib\\threading.py\", line 864, in run\n",
      "    self._target(*self._args, **self._kwargs)\n",
      "  File \"C:\\Users\\demouser\\Desktop\\Quantum\\qsweepy\\sweep.py\", line 279, in main_sweep_loop\n",
      "    set_single_measurement_result(mpoint, indeces)\n",
      "  File \"C:\\Users\\demouser\\Desktop\\Quantum\\qsweepy\\sweep.py\", line 223, in set_single_measurement_result\n",
      "    ascii_file.write(data_to_str(fmt(mpoint_m_flat))+'\\n')\n",
      "ValueError: I/O operation on closed file.\n",
      "\n"
     ]
    },
    {
     "ename": "KeyboardInterrupt",
     "evalue": "",
     "output_type": "error",
     "traceback": [
      "\u001b[1;31m---------------------------------------------------------------------------\u001b[0m",
      "\u001b[1;31mKeyboardInterrupt\u001b[0m                         Traceback (most recent call last)",
      "\u001b[1;32m<ipython-input-16-e77f5961c3a4>\u001b[0m in \u001b[0;36m<module>\u001b[1;34m()\u001b[0m\n\u001b[0;32m     17\u001b[0m ex2D = sweep.sweep(pna, (ex_powers, lo1.set_power, 'Second tone power'), \n\u001b[0;32m     18\u001b[0m                    \u001b[1;33m(\u001b[0m\u001b[0mex_freqs\u001b[0m\u001b[1;33m,\u001b[0m \u001b[0mlo1\u001b[0m\u001b[1;33m.\u001b[0m\u001b[0mset_frequency\u001b[0m\u001b[1;33m,\u001b[0m \u001b[1;34m'Second tone freq'\u001b[0m\u001b[1;33m)\u001b[0m\u001b[1;33m,\u001b[0m \u001b[0mfilename\u001b[0m \u001b[1;33m=\u001b[0m \u001b[1;34m\"Two-tone resonator #{} powerscan no mixer\"\u001b[0m\u001b[1;33m.\u001b[0m\u001b[0mformat\u001b[0m\u001b[1;33m(\u001b[0m\u001b[0mqubit_id\u001b[0m\u001b[1;33m)\u001b[0m\u001b[1;33m,\u001b[0m\u001b[0;31m\\\u001b[0m\u001b[1;33m\u001b[0m\u001b[0m\n\u001b[1;32m---> 19\u001b[1;33m            header = header)\n\u001b[0m\u001b[0;32m     20\u001b[0m \u001b[0mlo1\u001b[0m\u001b[1;33m.\u001b[0m\u001b[0mset_status\u001b[0m\u001b[1;33m(\u001b[0m\u001b[1;36m0\u001b[0m\u001b[1;33m)\u001b[0m\u001b[1;33m\u001b[0m\u001b[0m\n",
      "\u001b[1;32mC:\\Users\\demouser\\Desktop\\Quantum\\qsweepy\\sweep.py\u001b[0m in \u001b[0;36msweep\u001b[1;34m(measurer, filename, root_dir, plot, plot_separate_thread, header, output, save, time_war_label, shuffle, bot, use_deferred, *params)\u001b[0m\n\u001b[0;32m    329\u001b[0m                         \u001b[0macq_thread\u001b[0m \u001b[1;33m=\u001b[0m \u001b[0mthreading\u001b[0m\u001b[1;33m.\u001b[0m\u001b[0mThread\u001b[0m\u001b[1;33m(\u001b[0m\u001b[0mtarget\u001b[0m\u001b[1;33m=\u001b[0m\u001b[0mmain_sweep_loop\u001b[0m\u001b[1;33m)\u001b[0m\u001b[1;33m\u001b[0m\u001b[0m\n\u001b[0;32m    330\u001b[0m                         \u001b[0macq_thread\u001b[0m\u001b[1;33m.\u001b[0m\u001b[0mstart\u001b[0m\u001b[1;33m(\u001b[0m\u001b[1;33m)\u001b[0m\u001b[1;33m\u001b[0m\u001b[0m\n\u001b[1;32m--> 331\u001b[1;33m                         \u001b[0mplot_thread\u001b[0m\u001b[1;33m(\u001b[0m\u001b[1;33m)\u001b[0m\u001b[1;33m\u001b[0m\u001b[0m\n\u001b[0m\u001b[0;32m    332\u001b[0m \u001b[1;33m\u001b[0m\u001b[0m\n\u001b[0;32m    333\u001b[0m                 \u001b[1;32mif\u001b[0m \u001b[1;33m(\u001b[0m\u001b[0mtime_war_label\u001b[0m\u001b[1;33m)\u001b[0m\u001b[1;33m:\u001b[0m\u001b[1;33m\u001b[0m\u001b[0m\n",
      "\u001b[1;32mC:\\Users\\demouser\\Desktop\\Quantum\\qsweepy\\sweep.py\u001b[0m in \u001b[0;36mplot_thread\u001b[1;34m()\u001b[0m\n\u001b[0;32m    317\u001b[0m                                                 \u001b[1;32mraise\u001b[0m \u001b[0mKeyboardInterrupt\u001b[0m\u001b[1;33m\u001b[0m\u001b[0m\n\u001b[0;32m    318\u001b[0m                                         \u001b[1;32mif\u001b[0m \u001b[0mplot_thread_point_id\u001b[0m \u001b[1;33m<\u001b[0m \u001b[0mdone_sweeps\u001b[0m\u001b[1;33m:\u001b[0m\u001b[1;33m\u001b[0m\u001b[0m\n\u001b[1;32m--> 319\u001b[1;33m                                                 \u001b[0mplotting\u001b[0m\u001b[1;33m.\u001b[0m\u001b[0mupdate_plot_measurement\u001b[0m\u001b[1;33m(\u001b[0m\u001b[0mmk_measurement\u001b[0m\u001b[1;33m(\u001b[0m\u001b[1;33m)\u001b[0m\u001b[1;33m,\u001b[0m \u001b[0mplot_axes\u001b[0m\u001b[1;33m)\u001b[0m\u001b[1;33m\u001b[0m\u001b[0m\n\u001b[0m\u001b[0;32m    320\u001b[0m                                                 \u001b[0mplot_thread_point_id\u001b[0m \u001b[1;33m=\u001b[0m \u001b[0mdone_sweeps\u001b[0m\u001b[1;33m\u001b[0m\u001b[0m\n\u001b[0;32m    321\u001b[0m                                         \u001b[1;32mif\u001b[0m \u001b[0mplot_thread_point_id\u001b[0m \u001b[1;33m>=\u001b[0m \u001b[0mnp\u001b[0m\u001b[1;33m.\u001b[0m\u001b[0mprod\u001b[0m\u001b[1;33m(\u001b[0m\u001b[0msweep_dim\u001b[0m\u001b[1;33m)\u001b[0m\u001b[1;33m:\u001b[0m\u001b[1;33m\u001b[0m\u001b[0m\n",
      "\u001b[1;32mC:\\Users\\demouser\\Desktop\\Quantum\\qsweepy\\plotting.py\u001b[0m in \u001b[0;36mupdate_plot_measurement\u001b[1;34m(measurement, axes)\u001b[0m\n\u001b[0;32m    240\u001b[0m                 \u001b[1;32mfor\u001b[0m \u001b[0mplot_name\u001b[0m\u001b[1;33m,\u001b[0m \u001b[0mplot\u001b[0m \u001b[1;32min\u001b[0m \u001b[0max\u001b[0m\u001b[1;33m[\u001b[0m\u001b[1;34m'plots'\u001b[0m\u001b[1;33m]\u001b[0m\u001b[1;33m.\u001b[0m\u001b[0mitems\u001b[0m\u001b[1;33m(\u001b[0m\u001b[1;33m)\u001b[0m\u001b[1;33m:\u001b[0m\u001b[1;33m\u001b[0m\u001b[0m\n\u001b[0;32m    241\u001b[0m                         \u001b[0mmeas\u001b[0m\u001b[1;33m[\u001b[0m\u001b[0mplot_name\u001b[0m\u001b[1;33m]\u001b[0m \u001b[1;33m=\u001b[0m \u001b[1;33m(\u001b[0m\u001b[0mmeasurement\u001b[0m\u001b[1;33m[\u001b[0m\u001b[0mplot\u001b[0m\u001b[1;33m[\u001b[0m\u001b[1;34m'mname'\u001b[0m\u001b[1;33m]\u001b[0m\u001b[1;33m]\u001b[0m\u001b[1;33m[\u001b[0m\u001b[1;36m0\u001b[0m\u001b[1;33m]\u001b[0m\u001b[1;33m,\u001b[0m \u001b[0mmeasurement\u001b[0m\u001b[1;33m[\u001b[0m\u001b[0mplot\u001b[0m\u001b[1;33m[\u001b[0m\u001b[1;34m'mname'\u001b[0m\u001b[1;33m]\u001b[0m\u001b[1;33m]\u001b[0m\u001b[1;33m[\u001b[0m\u001b[1;36m1\u001b[0m\u001b[1;33m]\u001b[0m\u001b[1;33m,\u001b[0m \u001b[0mplot\u001b[0m\u001b[1;33m[\u001b[0m\u001b[1;34m'filter'\u001b[0m\u001b[1;33m]\u001b[0m\u001b[1;33m(\u001b[0m\u001b[0mmeasurement\u001b[0m\u001b[1;33m[\u001b[0m\u001b[0mplot\u001b[0m\u001b[1;33m[\u001b[0m\u001b[1;34m'mname'\u001b[0m\u001b[1;33m]\u001b[0m\u001b[1;33m]\u001b[0m\u001b[1;33m[\u001b[0m\u001b[1;36m2\u001b[0m\u001b[1;33m]\u001b[0m\u001b[1;33m)\u001b[0m\u001b[1;33m)\u001b[0m\u001b[1;33m\u001b[0m\u001b[0m\n\u001b[1;32m--> 242\u001b[1;33m                 \u001b[0mplots\u001b[0m \u001b[1;33m=\u001b[0m \u001b[0mupdate_plot_measurement_sa\u001b[0m\u001b[1;33m(\u001b[0m\u001b[0mmeas\u001b[0m\u001b[1;33m,\u001b[0m \u001b[0max\u001b[0m\u001b[1;33m)\u001b[0m\u001b[1;33m\u001b[0m\u001b[0m\n\u001b[0m\u001b[0;32m    243\u001b[0m \u001b[1;33m\u001b[0m\u001b[0m\n\u001b[0;32m    244\u001b[0m         \u001b[0mplt\u001b[0m\u001b[1;33m.\u001b[0m\u001b[0mdraw\u001b[0m\u001b[1;33m(\u001b[0m\u001b[1;33m)\u001b[0m\u001b[1;33m\u001b[0m\u001b[0m\n",
      "\u001b[1;32mC:\\Users\\demouser\\Desktop\\Quantum\\qsweepy\\plotting.py\u001b[0m in \u001b[0;36mupdate_plot_measurement_sa\u001b[1;34m(measurement, plots)\u001b[0m\n\u001b[0;32m    359\u001b[0m                         \u001b[0mplot\u001b[0m\u001b[1;33m.\u001b[0m\u001b[0mset_data\u001b[0m\u001b[1;33m(\u001b[0m\u001b[0mdata\u001b[0m\u001b[1;33m)\u001b[0m\u001b[1;33m\u001b[0m\u001b[0m\n\u001b[0;32m    360\u001b[0m                         \u001b[0mplot\u001b[0m\u001b[1;33m.\u001b[0m\u001b[0mset_clim\u001b[0m\u001b[1;33m(\u001b[0m\u001b[0mnp\u001b[0m\u001b[1;33m.\u001b[0m\u001b[0mnanmin\u001b[0m\u001b[1;33m(\u001b[0m\u001b[0mdata\u001b[0m\u001b[1;33m)\u001b[0m\u001b[1;33m,\u001b[0m \u001b[0mnp\u001b[0m\u001b[1;33m.\u001b[0m\u001b[0mnanmax\u001b[0m\u001b[1;33m(\u001b[0m\u001b[0mdata\u001b[0m\u001b[1;33m)\u001b[0m\u001b[1;33m)\u001b[0m\u001b[1;33m\u001b[0m\u001b[0m\n\u001b[1;32m--> 361\u001b[1;33m                 \u001b[0mplt\u001b[0m\u001b[1;33m.\u001b[0m\u001b[0mgcf\u001b[0m\u001b[1;33m(\u001b[0m\u001b[1;33m)\u001b[0m\u001b[1;33m.\u001b[0m\u001b[0mcanvas\u001b[0m\u001b[1;33m.\u001b[0m\u001b[0mstart_event_loop\u001b[0m\u001b[1;33m(\u001b[0m\u001b[1;36m1.0\u001b[0m\u001b[1;33m)\u001b[0m\u001b[1;33m\u001b[0m\u001b[0m\n\u001b[0m\u001b[0;32m    362\u001b[0m \u001b[1;33m\u001b[0m\u001b[0m\n",
      "\u001b[1;32mC:\\ProgramData\\Anaconda2\\envs\\py36\\lib\\site-packages\\matplotlib\\backends\\backend_qt5.py\u001b[0m in \u001b[0;36mstart_event_loop\u001b[1;34m(self, timeout)\u001b[0m\n\u001b[0;32m    479\u001b[0m         \u001b[1;32mif\u001b[0m \u001b[0mtimeout\u001b[0m\u001b[1;33m:\u001b[0m\u001b[1;33m\u001b[0m\u001b[0m\n\u001b[0;32m    480\u001b[0m             \u001b[0mtimer\u001b[0m \u001b[1;33m=\u001b[0m \u001b[0mQtCore\u001b[0m\u001b[1;33m.\u001b[0m\u001b[0mQTimer\u001b[0m\u001b[1;33m.\u001b[0m\u001b[0msingleShot\u001b[0m\u001b[1;33m(\u001b[0m\u001b[0mtimeout\u001b[0m \u001b[1;33m*\u001b[0m \u001b[1;36m1000\u001b[0m\u001b[1;33m,\u001b[0m \u001b[0mevent_loop\u001b[0m\u001b[1;33m.\u001b[0m\u001b[0mquit\u001b[0m\u001b[1;33m)\u001b[0m\u001b[1;33m\u001b[0m\u001b[0m\n\u001b[1;32m--> 481\u001b[1;33m         \u001b[0mevent_loop\u001b[0m\u001b[1;33m.\u001b[0m\u001b[0mexec_\u001b[0m\u001b[1;33m(\u001b[0m\u001b[1;33m)\u001b[0m\u001b[1;33m\u001b[0m\u001b[0m\n\u001b[0m\u001b[0;32m    482\u001b[0m \u001b[1;33m\u001b[0m\u001b[0m\n\u001b[0;32m    483\u001b[0m     \u001b[1;32mdef\u001b[0m \u001b[0mstop_event_loop\u001b[0m\u001b[1;33m(\u001b[0m\u001b[0mself\u001b[0m\u001b[1;33m,\u001b[0m \u001b[0mevent\u001b[0m\u001b[1;33m=\u001b[0m\u001b[1;32mNone\u001b[0m\u001b[1;33m)\u001b[0m\u001b[1;33m:\u001b[0m\u001b[1;33m\u001b[0m\u001b[0m\n",
      "\u001b[1;31mKeyboardInterrupt\u001b[0m: "
     ]
    }
   ],
   "source": [
    "#### НЕЖМИ МИНЯ\n",
    "ex_freqs = np.arange(3.5e9, 4.4e9, 0.5e6)\n",
    "ex_powers = np.arange(-20, 14, 1)\n",
    "\n",
    "pna.set_xlim(Qubits[qubit_id]['r']['Fr'], Qubits[qubit_id]['r']['Fr'])\n",
    "pna.set_nop(1)\n",
    "pna.set_power(Qubits[qubit_id]['r']['P']+10)\n",
    "pna.set_bandwidth(20)\n",
    "#lo1.set_power(-20)\n",
    "\n",
    "header = '''#Parameter =\n",
    "#Ro power = {:f}'''.format( pna.get_power() )\n",
    "\n",
    "lo1.set_status(1)\n",
    "#ps.S21vs2DPar(pna, currents, current.set_current, ex_freqs, lo1.set_frequency, filename = \"#2{:.1f}dBm\".format(lo1.get_power()),\\\n",
    "#           header = header)\n",
    "ex2D = sweep.sweep(pna, (ex_powers, lo1.set_power, 'Second tone power'), \n",
    "                   (ex_freqs, lo1.set_frequency, 'Second tone freq'), filename = \"Two-tone resonator #{} powerscan no mixer\".format(qubit_id),\\\n",
    "           header = header)\n",
    "lo1.set_status(0)"
   ]
  },
  {
   "cell_type": "markdown",
   "metadata": {},
   "source": [
    "# Settings for time-domain measurements"
   ]
  },
  {
   "cell_type": "markdown",
   "metadata": {},
   "source": [
    "## Set up device modes"
   ]
  },
  {
   "cell_type": "markdown",
   "metadata": {},
   "source": [
    "### Осцилляторы"
   ]
  },
  {
   "cell_type": "markdown",
   "metadata": {},
   "source": [
    "Генераторы опорных волн для смесителей.\n",
    "На вход надо подавать около 13 дБ (точка децибельной компрессии).\n",
    "В качестве источника можно использовать agilent или labbrick. У labbrick фазовые шумы, лучше использвать agilent.\n",
    "Векторный анализатор можно включить в режим постоянной волны, тогда его тоже можно использовать."
   ]
  },
  {
   "cell_type": "code",
   "execution_count": 118,
   "metadata": {},
   "outputs": [
    {
     "data": {
      "text/plain": [
       "True"
      ]
     },
     "execution_count": 118,
     "metadata": {},
     "output_type": "execute_result"
    }
   ],
   "source": [
    "# Источник тока - в autorange\n",
    "#current.set_autorange(1)\n",
    "#Мощности гетеродинов, постоянные\n",
    "#Мощность гетеродина для возбуждения 13-16 дБм\n",
    "\n",
    "lo_ex_pow = 14\n",
    "lo_ex.set_status(1)\n",
    "lo_ro_pow = 16\n",
    "lo_ro.set_power(lo_ro_pow)\n",
    "\n",
    "pna.write(\"OUTP ON\")\n",
    "pna.write(\"SOUR1:POW1:MODE ON\")\n",
    "pna.write(\"SOUR1:POW2:MODE OFF\")\n",
    "pna.set_sweep_mode(\"CW\")\n",
    "lo_ex.set_power(lo_ex_pow)"
   ]
  },
  {
   "cell_type": "markdown",
   "metadata": {},
   "source": [
    "### sync channel settings (save to config)"
   ]
  },
  {
   "cell_type": "code",
   "execution_count": 119,
   "metadata": {
    "collapsed": true
   },
   "outputs": [],
   "source": [
    "marker_length = 100\n",
    "readout_trigger_delay = 185\n",
    "trg_length = 10e-9"
   ]
  },
  {
   "cell_type": "markdown",
   "metadata": {},
   "source": [
    "### AWGшки"
   ]
  },
  {
   "cell_type": "code",
   "execution_count": 120,
   "metadata": {
    "collapsed": true
   },
   "outputs": [],
   "source": [
    "ex_clock = 1e9\n",
    "ro_clock = 1e9\n",
    "\n",
    "rep_rate = 20e3 # частота повторений эксперимента\n",
    "\n",
    "awg.stop()\n",
    "#awg_tek.set_clock(ex_clock) # клок всех авгшк\n",
    "awg.set_nop(ex_clock/rep_rate) # репрейт нужно задавать по=хорошему только на управляющей,\n",
    "awg.run()\n",
    "# а вот длину сэмплов, которая очевидно то же самое, нужно задавать на всех авгшках.\n",
    "# хорошо, что сейчас она только одна.\n",
    "#this is zashkvar\n",
    "\n",
    "awg_tek = awg\n",
    "# channel 0 is master and triggers all others\n",
    "awg.trigger_source_types = [0, 6,6,6]\n",
    "awg.trigger_source_channels = [0, 4000,4000,4000] # pxi trigger 0 \n",
    "awg.trigger_delays = [40, 0,0,0] # master channel should wait 400 ns for others to start\n",
    "awg.trigger_behaviours = [0,4,4,4] #rising edge trigger\n",
    "for channel in range(0,4):\n",
    "#for channel in range(1,5):\n",
    "    awg.set_amplitude(.2, channel=channel)\n",
    "    awg.set_offset(0, channel=channel)\n",
    "    awg.set_output(1, channel=channel)\n",
    "    awg.set_waveform(waveform=[0]*awg_tek.get_nop(), channel=channel)\n",
    "\n",
    "    \n",
    "awg.set_marker(length=marker_length, delay=0, channel=0)\n",
    "awg_channels =dict()\n",
    "ro_trg = awg_digital.awg_digital(awg_tek, 1)\n",
    "ro_trg.mode = 'set_delay'\n",
    "ro_trg.delay_setter = lambda x: adc.set_trigger_delay(int(x*adc.get_clock()/iq_ex.get_clock()-readout_trigger_delay))\n",
    "awg_channels['ro_trg'] = ro_trg\n",
    "# К первому маркере первого канала тектроникса подсоединён триггер оцифровщика.\n",
    "# Надо подавать какой-нибудь триггер, что-ли.\n",
    "# А ещё нужно подавать клок. К сожалению наш оцифровщик не может в 1ГГц клок, ему нужен 500МГц клок.\n",
    "# Будем подавать 500 МГц с цифрового выхода тектроникса.\n",
    "#awg_tek.set_marker1_low(-0.0, channel=1)\n",
    "#awg_tek.set_marker2_low(-0.0, channel=1)\n",
    "#awg_tek.set_marker1_high(1.0, channel=1)\n",
    "#awg_tek.set_marker2_high(1.0, channel=1)\n",
    "#awg_tek.set_marker1_low(-0.04, channel=2)\n",
    "#awg_tek.set_marker2_low(-0.04, channel=2) \n",
    "#awg_tek.set_marker1_high(0.04, channel=2) # с клока хватит и такой амплитуды\n",
    "#awg_tek.set_marker2_high(0.04, channel=2) # с клока хватит и такой амплитуды"
   ]
  },
  {
   "cell_type": "markdown",
   "metadata": {},
   "source": [
    "### ADC"
   ]
  },
  {
   "cell_type": "code",
   "execution_count": 121,
   "metadata": {
    "collapsed": true
   },
   "outputs": [],
   "source": [
    "# настройки оцифровщика\n",
    "#adc.reset()            \n",
    "#adc.set_timeout(10000)\n",
    "#adc.set_clock(ro_clock)\n",
    "\n",
    "#adc.set_spc_samplerate(smp_rate)\n",
    "#External trigger\n",
    "# adc.set_trigger_ext0_level0(0) # logical 0 value to 200 mV\n",
    "# adc.set_trigger_ext0_level1(1300) # logical 1 value to 600 mV\n",
    "# adc.trigger_termination_50Ohm()\n",
    "# adc.trigger_mode_pos()\n",
    "# adc.set_trigger_ext0_pulsewidth(0)\n",
    "# adc.disable_trigger_output()\n",
    "# adc.select_channel01()\n",
    "# adc.set_multi_mode()\n",
    "# #adc.set_segmentsize()\n",
    "# adc.set_trigger_ORmask_tmask_ext0()\n",
    "# adc.set_trigger_ANDmask_tmask_ext0()\n",
    "# adc.set_trigger_ORmask_tmask_NO_ch0()\n",
    "# adc.set_trigger_ORmask_tmask_NO_ch1()\n",
    "# adc.set_trigger_ANDmask_tmask_NO_ch0()\n",
    "# adc.set_trigger_ANDmask_tmask_NO_ch1()\n",
    "# # усилитель на оцифровщике\n",
    "# adc.set_input_amp_ch0(50)\n",
    "# adc.set_input_amp_ch1(50)\n",
    "# adc.set_input_offset_ch0(0)\n",
    "# adc.set_input_offset_ch1(0)\n",
    "\n",
    "# #External clock\n",
    "# adc.set_reference_clock(adc.get_clock())\n",
    "adc.set_input(channel=1, input=1)\n",
    "adc.set_input(channel=2, input=1)\n",
    "adc.set_trigger_external(channel=1)\n",
    "adc.set_trigger_external(channel=2)"
   ]
  },
  {
   "cell_type": "markdown",
   "metadata": {},
   "source": [
    "## Setting up \"virtual devices\" (awg_iq) and so on"
   ]
  },
  {
   "cell_type": "markdown",
   "metadata": {},
   "source": [
    "### intermediate frequencies and so on (this should go into config)"
   ]
  },
  {
   "cell_type": "code",
   "execution_count": 122,
   "metadata": {
    "collapsed": true
   },
   "outputs": [],
   "source": [
    "ro_if = 75e6\n",
    "lo_freq = 4.05e9"
   ]
  },
  {
   "cell_type": "code",
   "execution_count": 123,
   "metadata": {
    "collapsed": true
   },
   "outputs": [],
   "source": [
    "qubit_id='1'"
   ]
  },
  {
   "cell_type": "code",
   "execution_count": 124,
   "metadata": {
    "collapsed": true
   },
   "outputs": [],
   "source": [
    "#%load_ext memory_profiler"
   ]
  },
  {
   "cell_type": "code",
   "execution_count": 125,
   "metadata": {},
   "outputs": [
    {
     "name": "stdout",
     "output_type": "stream",
     "text": [
      "-196.158 4050000000.0\n"
     ]
    }
   ],
   "source": [
    "imp.reload(awg_iq_multi)\n",
    "# промежуточные частоты для гетеродинной схемы new:\n",
    "lo1.set_frequency(lo_freq)\n",
    "ex_if = lo_freq-qubit_params[qubit_id]['q']['00-1-01']\n",
    "iq_ex = awg_iq_multi.awg_iq_multi(awg_tek, awg_tek, 0, 1, lo_ex)\n",
    "for tr,freq in qubit_params[qubit_id]['q'].items():\n",
    "    iq_ex.carriers[tr] = awg_iq_multi.carrier(iq_ex)\n",
    "    iq_ex.carriers[tr].set_frequency(freq)\n",
    "    awg_channels['iq_ex_'+tr]=iq_ex.carriers[tr]\n",
    "\n",
    "#iq_ro = awg_iq.awg_iq(awg_tek, awg_tek, 2, 3, lo_ro)\n",
    "#iq_ro.set_if(ro_if)\n",
    "#iq_ro.set_sideband_id(-1)\n",
    "#iq_ro.set_frequency(qubit_params[qubit_id]['r']['Fr'])\n",
    "#awg_channels['iq_ro'] = iq_ro\n",
    "\n",
    "lo_ro.set_frequency(qubit_params[qubit_id]['r']['Fr']+ro_if)\n",
    "iq_ro = awg_iq_multi.awg_iq_multi(awg_tek, awg_tek, 2, 3, lo_ro)\n",
    "iq_ro.carriers['iq_ro'] = awg_iq_multi.carrier(iq_ro)\n",
    "iq_ro.carriers['iq_ro'].set_frequency(qubit_params[qubit_id]['r']['Fr'])\n",
    "awg_channels['iq_ro'] = iq_ro.carriers['iq_ro']\n",
    "readout_channels = {'iq_ro':awg_channels['iq_ro']}\n",
    "\n",
    "pg = pulses.pulses(awg_channels)\n",
    "print(ex_if*1e-6 ,lo_freq)"
   ]
  },
  {
   "cell_type": "code",
   "execution_count": 126,
   "metadata": {
    "collapsed": true
   },
   "outputs": [],
   "source": [
    "#qjson.invalidate_calibrations()\n",
    "#imp.reload(awg_iq_multi)"
   ]
  },
  {
   "cell_type": "markdown",
   "metadata": {},
   "source": [
    "### Калибровка миксеров"
   ]
  },
  {
   "cell_type": "code",
   "execution_count": 127,
   "metadata": {
    "scrolled": true
   },
   "outputs": [
    {
     "name": "stdout",
     "output_type": "stream",
     "text": [
      "Excitation channel\n",
      "C:\\Users\\demouser\\Desktop\\Quantum\\data/calibrations/iq-dc/ lo_freq-4.05e+09\n",
      "C:\\Users\\demouser\\Desktop\\Quantum\\data/calibrations/iq-rf/ frequency-4.246e+09-if-1.962e+08-sideband_id-     0\n",
      "C:\\Users\\demouser\\Desktop\\Quantum\\data/calibrations/iq-rf/ frequency-4.125e+09-if-7.454e+07-sideband_id-     0\n",
      "C:\\Users\\demouser\\Desktop\\Quantum\\data/calibrations/iq-rf/ frequency-4.099e+09-if-4.916e+07-sideband_id-     0\n",
      "max() arg is an empty sequence\n",
      "49160000.0 4099160000.0\n",
      "dc: -7.15e-02-1.78e-01j\tI:  4.00e-01\tQ:-5.00e-01+2.00e-01j\tB: -79.94 G: -65.32, C:0.00\n",
      "[-79.93809509 -95.99104309 -65.31538391]\n",
      "dc: -7.15e-02-1.78e-01j\tI:  4.00e-01\tQ:-5.25e-01+2.00e-01j\tB: -79.00 G: -65.08, C:0.00\n",
      "[-79.00230408 -95.80249786 -65.08196259]\n",
      "dc: -7.15e-02-1.78e-01j\tI:  4.00e-01\tQ:-5.00e-01+2.10e-01j\tB: -79.56 G: -65.30, C:0.00\n",
      "[-79.56384277 -95.84672546 -65.30037689]\n",
      "dc: -7.15e-02-1.78e-01j\tI:  4.00e-01\tQ:-4.75e-01+2.10e-01j\tB: -80.40 G: -65.55, C:0.00\n",
      "[-80.40001678 -95.61740112 -65.54824829]\n",
      "dc: -7.15e-02-1.78e-01j\tI:  4.00e-01\tQ:-4.50e-01+2.15e-01j\tB: -80.85 G: -65.79, C:0.00\n",
      "[-80.85010529 -95.85172272 -65.78704071]\n",
      "dc: -7.15e-02-1.78e-01j\tI:  4.00e-01\tQ:-4.50e-01+2.05e-01j\tB: -81.44 G: -65.81, C:0.00\n",
      "[-81.44200897 -95.78436279 -65.80758667]\n",
      "dc: -7.15e-02-1.78e-01j\tI:  4.00e-01\tQ:-4.25e-01+2.02e-01j\tB: -82.14 G: -66.06, C:0.00\n",
      "[-82.14440918 -95.69870758 -66.06219482]\n",
      "dc: -7.15e-02-1.78e-01j\tI:  4.00e-01\tQ:-3.75e-01+2.17e-01j\tB: -81.26 G: -66.57, C:0.00\n",
      "[-81.25856018 -95.592659   -66.56863403]\n",
      "dc: -7.15e-02-1.78e-01j\tI:  4.00e-01\tQ:-4.06e-01+2.13e-01j\tB: -81.63 G: -66.24, C:0.00\n",
      "[-81.63174438 -95.85371399 -66.23648834]\n",
      "dc: -7.15e-02-1.78e-01j\tI:  4.00e-01\tQ:-3.81e-01+2.01e-01j\tB: -82.49 G: -66.53, C:0.00\n",
      "[-82.4921875  -95.90292358 -66.52767944]\n",
      "dc: -7.15e-02-1.78e-01j\tI:  4.00e-01\tQ:-4.00e-01+1.90e-01j\tB: -83.38 G: -66.34, C:0.00\n",
      "[-83.37634277 -95.68201447 -66.34046173]\n",
      "dc: -7.15e-02-1.78e-01j\tI:  4.00e-01\tQ:-3.97e-01+1.78e-01j\tB: -84.45 G: -66.39, C:0.00\n",
      "[-84.44621277 -95.73692322 -66.39203644]\n",
      "dc: -7.15e-02-1.78e-01j\tI:  4.00e-01\tQ:-4.41e-01+1.80e-01j\tB: -83.34 G: -65.94, C:0.00\n",
      "[-83.33662415 -95.77038574 -65.93527985]\n",
      "dc: -7.15e-02-1.78e-01j\tI:  4.00e-01\tQ:-4.12e-01+1.56e-01j\tB: -86.51 G: -66.25, C:0.00\n",
      "[-86.51296997 -95.69497681 -66.24584961]\n",
      "dc: -7.15e-02-1.78e-01j\tI:  4.00e-01\tQ:-4.06e-01+1.33e-01j\tB: -89.93 G: -66.34, C:0.00\n",
      "[-89.93464661 -95.59146118 -66.3371048 ]\n",
      "dc: -7.15e-02-1.78e-01j\tI:  4.00e-01\tQ:-3.62e-01+1.31e-01j\tB: -88.75 G: -66.83, C:0.00\n",
      "[-88.75078583 -95.53207397 -66.8289566 ]\n",
      "dc: -7.15e-02-1.78e-01j\tI:  4.00e-01\tQ:-3.72e-01+8.59e-02j\tB: -95.85 G: -66.73, C:0.00\n",
      "[-95.84828949 -95.44965363 -66.72648621]\n",
      "dc: -7.15e-02-1.78e-01j\tI:  4.00e-01\tQ:-3.59e-01+3.97e-02j\tB: -88.35 G: -66.86, C:0.00\n",
      "[-88.34802246 -95.31182861 -66.86243439]\n",
      "dc: -7.15e-02-1.78e-01j\tI:  4.00e-01\tQ:-4.16e-01+8.78e-02j\tB: -96.70 G: -66.25, C:0.00\n",
      "[-96.69566345 -95.56811523 -66.25111389]\n",
      "dc: -7.15e-02-1.78e-01j\tI:  4.00e-01\tQ:-4.42e-01+6.61e-02j\tB: -89.38 G: -65.97, C:0.00\n",
      "[-89.37909698 -95.5019455  -65.96540833]\n",
      "dc: -7.15e-02-1.78e-01j\tI:  4.00e-01\tQ:-3.81e-01+4.06e-02j\tB: -90.14 G: -66.62, C:0.00\n",
      "[-90.1364212  -95.40562439 -66.62077332]\n",
      "dc: -7.15e-02-1.78e-01j\tI:  4.00e-01\tQ:-4.00e-01+1.10e-01j\tB: -95.47 G: -66.41, C:0.00\n",
      "[-95.46903992 -95.40628052 -66.4127121 ]\n",
      "dc: -7.15e-02-1.78e-01j\tI:  4.00e-01\tQ:-3.87e-01+6.38e-02j\tB: -95.78 G: -66.56, C:0.00\n",
      "[-95.78337097 -95.51721954 -66.55508423]\n",
      "dc: -7.15e-02-1.78e-01j\tI:  4.00e-01\tQ:-4.31e-01+6.56e-02j\tB: -91.06 G: -66.08, C:0.00\n",
      "[-91.06235504 -95.43735504 -66.08480072]\n",
      "dc: -7.15e-02-1.78e-01j\tI:  4.00e-01\tQ:-3.87e-01+8.09e-02j\tB: -101.23 G: -66.56, C:0.00\n",
      "[-101.2275238   -95.62301636  -66.56276703]\n",
      "dc: -7.15e-02-1.78e-01j\tI:  4.00e-01\tQ:-4.15e-01+1.05e-01j\tB: -94.55 G: -66.26, C:0.00\n",
      "[-94.55278015 -95.7301178  -66.25604248]\n",
      "dc: -7.15e-02-1.78e-01j\tI:  4.00e-01\tQ:-3.94e-01+7.40e-02j\tB: -100.05 G: -66.48, C:0.00\n",
      "[-100.04986572  -95.54276276  -66.48464203]\n",
      "dc: -7.15e-02-1.78e-01j\tI:  4.00e-01\tQ:-3.65e-01+6.71e-02j\tB: -92.67 G: -66.80, C:0.00\n",
      "[-92.66859436 -95.47333527 -66.80285645]\n",
      "dc: -7.15e-02-1.78e-01j\tI:  4.00e-01\tQ:-4.03e-01+8.26e-02j\tB: -101.65 G: -66.39, C:0.00\n",
      "[-101.65405273  -95.57283783  -66.38896179]\n",
      "dc: -7.15e-02-1.78e-01j\tI:  4.00e-01\tQ:-3.95e-01+8.94e-02j\tB: -104.00 G: -66.47, C:0.00\n",
      "[-104.00265503  -95.55767059  -66.46856689]\n",
      "dc: -7.15e-02-1.78e-01j\tI:  4.00e-01\tQ:-3.96e-01+9.72e-02j\tB: -100.68 G: -66.46, C:0.00\n",
      "[-100.67565155  -95.50293732  -66.46499634]\n",
      "dc: -7.15e-02-1.78e-01j\tI:  4.00e-01\tQ:-4.12e-01+9.12e-02j\tB: -97.63 G: -66.29, C:0.00\n",
      "[-97.62879944 -95.63080597 -66.29308319]\n",
      "dc: -7.15e-02-1.78e-01j\tI:  4.00e-01\tQ:-3.93e-01+8.34e-02j\tB: -104.41 G: -66.50, C:0.00\n",
      "[-104.4078598   -95.55448151  -66.49757385]\n",
      "dc: -7.15e-02-1.78e-01j\tI:  4.00e-01\tQ:-3.85e-01+9.03e-02j\tB: -100.95 G: -66.58, C:0.00\n",
      "[-100.94737244  -95.52758026  -66.58489227]\n",
      "dc: -7.15e-02-1.78e-01j\tI:  4.00e-01\tQ:-3.99e-01+8.45e-02j\tB: -103.78 G: -66.44, C:0.00\n",
      "[-103.77875519  -95.64246368  -66.43828583]\n",
      "dc: -7.15e-02-1.78e-01j\tI:  4.00e-01\tQ:-3.90e-01+8.84e-02j\tB: -103.35 G: -66.53, C:0.00\n",
      "[-103.35468292  -95.66149902  -66.53444672]\n",
      "dc: -7.15e-02-1.78e-01j\tI:  4.00e-01\tQ:-3.96e-01+8.55e-02j\tB: -104.72 G: -66.46, C:0.00\n",
      "[-104.72383118  -95.49914551  -66.45605469]\n",
      "dc: -7.15e-02-1.78e-01j\tI:  4.00e-01\tQ:-3.94e-01+7.95e-02j\tB: -102.75 G: -66.49, C:0.00\n",
      "[-102.75448608  -95.78041077  -66.48791504]\n",
      "dc: -7.15e-02-1.78e-01j\tI:  4.00e-01\tQ:-3.95e-01+8.70e-02j\tB: -104.41 G: -66.48, C:0.00\n",
      "[-104.41116333  -95.58977509  -66.47692871]\n",
      "dc: -7.15e-02-1.78e-01j\tI:  4.00e-01\tQ:-3.99e-01+8.90e-02j\tB: -103.38 G: -66.44, C:0.00\n",
      "[-103.37721252  -95.51953888  -66.44004822]\n",
      "dc: -7.15e-02-1.78e-01j\tI:  4.00e-01\tQ:-3.94e-01+8.48e-02j\tB: -104.59 G: -66.48, C:0.00\n",
      "[-104.59152985  -95.56394196  -66.47901917]\n",
      "dc: -7.15e-02-1.78e-01j\tI:  4.00e-01\tQ:-3.96e-01+8.34e-02j\tB: -104.56 G: -66.46, C:0.00\n",
      "[-104.55904388  -95.71176147  -66.46329498]\n",
      "dc: -7.15e-02-1.78e-01j\tI:  4.00e-01\tQ:-3.96e-01+8.43e-02j\tB: -104.80 G: -66.47, C:0.00\n",
      "[-104.8020401   -95.64344025  -66.46637726]\n",
      "dc: -7.15e-02-1.78e-01j\tI:  4.00e-01\tQ:-3.98e-01+8.49e-02j\tB: -104.16 G: -66.45, C:0.00\n",
      "[-104.16053009  -95.64000702  -66.45169067]\n",
      "dc: -7.15e-02-1.78e-01j\tI:  4.00e-01\tQ:-3.95e-01+8.49e-02j\tB: -104.46 G: -66.47, C:0.00\n",
      "[-104.45875549  -95.73642731  -66.46916199]\n",
      "dc: -7.15e-02-1.78e-01j\tI:  4.00e-01\tQ:-3.96e-01+8.49e-02j\tB: -104.57 G: -66.47, C:0.00\n",
      "[-104.57046509  -95.53625488  -66.47058105]\n",
      "dc: -7.15e-02-1.78e-01j\tI:  4.00e-01\tQ:-3.95e-01+8.46e-02j\tB: -104.45 G: -66.47, C:0.00\n",
      "[-104.45121765  -95.93618011  -66.47436523]\n",
      "dc: -7.15e-02-1.78e-01j\tI:  4.00e-01\tQ:-3.97e-01+8.46e-02j\tB: -104.30 G: -66.46, C:0.00\n",
      "[-104.29927826  -95.52523041  -66.45816803]\n",
      "dc: -7.15e-02-1.78e-01j\tI:  4.00e-01\tQ:-3.95e-01+8.46e-02j\tB: -104.73 G: -66.47, C:0.00\n",
      "[-104.72865295  -95.77571869  -66.47353363]\n",
      "dc: -7.15e-02-1.78e-01j\tI:  4.00e-01\tQ:-3.95e-01+8.40e-02j\tB: -104.66 G: -66.48, C:0.00\n",
      "[-104.65625     -95.63721466  -66.48046875]\n",
      "dc: -7.15e-02-1.78e-01j\tI:  4.00e-01\tQ:-3.95e-01+8.42e-02j\tB: -104.58 G: -66.48, C:0.00\n",
      "[-104.58472443  -95.56529999  -66.47819519]\n",
      "dc: -7.15e-02-1.78e-01j\tI:  4.00e-01\tQ:-3.95e-01+8.44e-02j\tB: -104.52 G: -66.47, C:0.00\n",
      "[-104.52157593  -95.81967163  -66.46936798]\n",
      "dc: -7.15e-02-1.78e-01j\tI:  4.00e-01\tQ:-3.96e-01+8.46e-02j\tB: -104.59 G: -66.47, C:0.00\n",
      "[-104.59402466  -95.57736969  -66.47091675]\n",
      "dc: -7.15e-02-1.78e-01j\tI:  4.00e-01\tQ:-3.96e-01+8.44e-02j\tB: -104.58 G: -66.47, C:0.00\n",
      "[-104.58013916  -95.61575317  -66.46809387]\n",
      "dc: -7.15e-02-1.78e-01j\tI:  4.00e-01\tQ:-3.96e-01+8.44e-02j\tB: -104.41 G: -66.46, C:0.00\n",
      "[-104.4124527   -95.7745285   -66.46451569]\n",
      "dc: -7.15e-02-1.78e-01j\tI:  4.00e-01\tQ:-3.96e-01+8.44e-02j\tB: -104.55 G: -66.48, C:0.00\n",
      "[-104.55274963  -95.58521271  -66.47785187]\n",
      "dc: -7.15e-02-1.78e-01j\tI:  4.00e-01\tQ:-3.96e-01+8.43e-02j\tB: -104.24 G: -66.48, C:0.00\n",
      "[-104.23551178  -95.69940186  -66.47576141]\n",
      "dc: -7.15e-02-1.78e-01j\tI:  4.00e-01\tQ:-3.96e-01+8.43e-02j\tB: -104.48 G: -66.47, C:0.00\n",
      "[-104.47581482  -95.74316406  -66.46530151]\n",
      "dc: -7.15e-02-1.78e-01j\tI:  4.00e-01\tQ:-3.96e-01+8.43e-02j\tB: -104.12 G: -66.47, C:0.00\n",
      "[-104.12214661  -95.67059326  -66.47013855]\n",
      "dc: -7.15e-02-1.78e-01j\tI:  4.00e-01\tQ:-3.96e-01+8.43e-02j\tB: -104.50 G: -66.48, C:0.00\n",
      "[-104.50041962  -95.56350708  -66.47570801]\n"
     ]
    },
    {
     "name": "stdout",
     "output_type": "stream",
     "text": [
      "dc: -7.15e-02-1.78e-01j\tI:  4.00e-01\tQ:-3.96e-01+8.43e-02j\tB: -104.45 G: -66.48, C:0.00\n",
      "[-104.45158386  -95.67020416  -66.47702026]\n",
      "dc: -7.15e-02-1.78e-01j\tI:  4.00e-01\tQ:-3.96e-01+8.43e-02j\tB: -104.40 G: -66.48, C:0.00\n",
      "[-104.39571381  -95.61222839  -66.47616577]\n",
      "dc: -7.15e-02-1.78e-01j\tI:  4.00e-01\tQ:-3.96e-01+8.43e-02j\tB: -104.54 G: -66.47, C:0.00\n",
      "[-104.54065704  -95.6661911   -66.47022247]\n",
      "dc: -7.15e-02-1.78e-01j\tI:  4.00e-01\tQ:-3.96e-01+8.42e-02j\tB: -104.62 G: -66.48, C:0.00\n",
      "[-104.61591339  -95.63444519  -66.47888947]\n",
      "dc: -7.15e-02-1.78e-01j\tI:  4.00e-01\tQ:-3.96e-01+8.42e-02j\tB: -104.48 G: -66.47, C:0.00\n",
      "[-104.47529602  -95.95330048  -66.46753693]\n",
      "dc: -7.15e-02-1.78e-01j\tI:  4.00e-01\tQ:-3.96e-01+8.43e-02j\tB: -104.40 G: -66.48, C:0.00\n",
      "[-104.39868164  -95.54917145  -66.47836304]\n",
      "dc: -7.15e-02-1.78e-01j\tI:  4.00e-01\tQ:-3.96e-01+8.43e-02j\tB: -104.45 G: -66.47, C:0.00\n",
      "[-104.45037079  -95.94176483  -66.46931458]\n",
      "dc: -7.15e-02-1.78e-01j\tI:  4.00e-01\tQ:-3.96e-01+8.43e-02j\tB: -104.30 G: -66.48, C:0.00\n",
      "[-104.29714203  -95.78876495  -66.47586823]\n",
      "dc: -7.15e-02-1.78e-01j\tI:  4.00e-01\tQ:-3.96e-01+8.42e-02j\tB: -104.35 G: -66.48, C:0.00\n",
      "[-104.34731293  -95.69677734  -66.47554016]\n",
      "dc: -7.15e-02-1.78e-01j\tI:  4.00e-01\tQ:-3.96e-01+8.42e-02j\tB: -104.38 G: -66.47, C:0.00\n",
      "[-104.37825012  -95.73043823  -66.46617126]\n",
      "dc: -7.15e-02-1.78e-01j\tI:  4.00e-01\tQ:-3.96e-01+8.43e-02j\tB: -104.26 G: -66.47, C:0.00\n",
      "[-104.25619507  -95.77455139  -66.46892548]\n",
      "dc: -7.15e-02-1.78e-01j\tI:  4.00e-01\tQ:-3.96e-01+8.43e-02j\tB: -104.18 G: -66.48, C:0.00\n",
      "[-104.17884064  -95.66117859  -66.47779083]\n",
      "dc: -7.15e-02-1.78e-01j\tI:  4.00e-01\tQ:-3.96e-01+8.43e-02j\tB: -104.54 G: -66.48, C:0.00\n",
      "[-104.53859711  -95.80034637  -66.47782135]\n",
      "dc: -7.15e-02-1.78e-01j\tI:  4.00e-01\tQ:-3.96e-01+8.43e-02j\tB: -104.61 G: -66.48, C:0.00\n",
      "[-104.60918427  -95.89040375  -66.47692108]\n",
      "dc: -7.15e-02-1.78e-01j\tI:  4.00e-01\tQ:-3.96e-01+8.43e-02j\tB: -104.51 G: -66.48, C:0.00\n",
      "[-104.50548553  -95.62005615  -66.47607422]\n",
      "dc: -7.15e-02-1.78e-01j\tI:  4.00e-01\tQ:-3.96e-01+8.43e-02j\tB: -104.50 G: -66.48, C:0.00\n",
      "[-104.50170898  -95.77613068  -66.48041534]\n",
      "dc: -7.15e-02-1.78e-01j\tI:  4.00e-01\tQ:-3.96e-01+8.43e-02j\tB: -104.14 G: -66.48, C:0.00\n",
      "[-104.14096832  -95.83913422  -66.48042297]\n",
      "dc: -7.15e-02-1.78e-01j\tI:  4.00e-01\tQ:-3.96e-01+8.43e-02j\tB: -104.59 G: -66.48, C:0.00\n",
      "[-104.5922699   -95.75795746  -66.47994232]\n",
      "dc: -7.15e-02-1.78e-01j\tI:  4.00e-01\tQ:-3.96e-01+8.43e-02j\tB: -104.34 G: -66.47, C:0.00\n",
      "[-104.33776093  -95.93738556  -66.47055054]\n",
      "dc: -7.15e-02-1.78e-01j\tI:  4.00e-01\tQ:-3.96e-01+8.43e-02j\tB: -104.36 G: -66.47, C:0.00\n",
      "[-104.36162567  -95.80202484  -66.46871185]\n",
      "dc: -7.15e-02-1.78e-01j\tI:  4.00e-01\tQ:-3.96e-01+8.43e-02j\tB: -104.36 G: -66.47, C:0.00\n",
      "[-104.35823822  -95.87600708  -66.47111511]\n",
      "dc: -7.15e-02-1.78e-01j\tI:  4.00e-01\tQ:-3.96e-01+8.43e-02j\tB: -104.55 G: -66.47, C:0.00\n",
      "[-104.54663849  -95.86385345  -66.47431183]\n",
      "dc: -7.15e-02-1.78e-01j\tI:  4.00e-01\tQ:-3.96e-01+8.43e-02j\tB: -104.25 G: -66.48, C:0.00\n",
      "[-104.24565887  -95.68505859  -66.47854614]\n",
      "dc: -7.15e-02-1.78e-01j\tI:  4.00e-01\tQ:-3.96e-01+8.43e-02j\tB: -104.24 G: -66.48, C:0.00\n",
      "[-104.24302673  -95.79515076  -66.48273468]\n",
      "dc: -7.15e-02-1.78e-01j\tI:  4.00e-01\tQ:-3.96e-01+8.43e-02j\tB: -104.26 G: -66.48, C:0.00\n",
      "[-104.2613678   -95.72729492  -66.48004913]\n",
      "dc: -7.15e-02-1.78e-01j\tI:  4.00e-01\tQ:-3.96e-01+8.43e-02j\tB: -104.49 G: -66.48, C:0.00\n",
      "[-104.4851532   -95.93826294  -66.47977448]\n",
      "dc: -7.15e-02-1.78e-01j\tI:  4.00e-01\tQ:-3.96e-01+8.43e-02j\tB: -104.27 G: -66.47, C:0.00\n",
      "[-104.26742554  -95.91893768  -66.46762085]\n",
      "dc: -7.15e-02-1.78e-01j\tI:  4.00e-01\tQ:-3.96e-01+8.43e-02j\tB: -104.42 G: -66.48, C:0.00\n",
      "[-104.41574097  -95.92301941  -66.47923279]\n",
      "dc: -7.15e-02-1.78e-01j\tI:  4.00e-01\tQ:-3.96e-01+8.43e-02j\tB: -104.49 G: -66.47, C:0.00\n",
      "[-104.48548889  -95.9989624   -66.4708786 ]\n",
      "dc: -7.15e-02-1.78e-01j\tI:  4.00e-01\tQ:-3.96e-01+8.43e-02j\tB: -104.35 G: -66.48, C:0.00\n",
      "[-104.34829712  -95.99586487  -66.48130035]\n",
      "dc: -7.15e-02-1.78e-01j\tI:  4.00e-01\tQ:-3.96e-01+8.43e-02j\tB: -104.72 G: -66.48, C:0.00\n",
      "[-104.72173309  -95.94017792  -66.48149109]\n",
      "Warning: Maximum number of iterations has been exceeded.\n"
     ]
    },
    {
     "name": "stderr",
     "output_type": "stream",
     "text": [
      "WARNING:root:json-tricks: numpy scalar serialization is experimental and may work differently in future versions\n",
      "root: WARNING  json-tricks: numpy scalar serialization is experimental and may work differently in future versions\n"
     ]
    },
    {
     "name": "stdout",
     "output_type": "stream",
     "text": [
      "dc: -7.15e-02-1.78e-01j\tI:  4.00e-01\tQ:-3.96e-01+8.43e-02j\tB: -85.27 G: -66.48, C:0.00\r\n",
      "[-105.01357269 -104.94257355 -104.23255157 -104.51861572  -96.00230408\n",
      "  -66.47945404 -105.37136841 -106.21430206 -105.92629242]\n",
      "C:\\Users\\demouser\\Desktop\\Quantum\\data/calibrations/iq-rf/ frequency-4.003e+09-if--4.7e+07-sideband_id-     0\n",
      "C:\\Users\\demouser\\Desktop\\Quantum\\data/calibrations/iq-rf/ frequency-3.948e+09-if--1.022e+08-sideband_id-     0\n",
      "C:\\Users\\demouser\\Desktop\\Quantum\\data/calibrations/iq-rf/ frequency-3.863e+09-if--1.87e+08-sideband_id-     0\n",
      "C:\\Users\\demouser\\Desktop\\Quantum\\data/calibrations/iq-rf/ frequency-3.823e+09-if--2.271e+08-sideband_id-     0\n",
      "C:\\Users\\demouser\\Desktop\\Quantum\\data/calibrations/iq-rf/ frequency-3.699e+09-if--3.51e+08-sideband_id-     0\n",
      "Readout channel\n",
      "C:\\Users\\demouser\\Desktop\\Quantum\\data/calibrations/iq-dc/ lo_freq-7.353e+09\n",
      "C:\\Users\\demouser\\Desktop\\Quantum\\data/calibrations/iq-rf/ frequency-7.278e+09-if--7.5e+07-sideband_id-     0\n"
     ]
    }
   ],
   "source": [
    "print(\"Excitation channel\", end='\\n')\n",
    "iq_ex.do_calibration(sa)\n",
    "print(\"Readout channel\", end='\\n')\n",
    "iq_ro.do_calibration(sa)"
   ]
  },
  {
   "cell_type": "markdown",
   "metadata": {},
   "source": [
    "### Setting up readout modem"
   ]
  },
  {
   "cell_type": "markdown",
   "metadata": {},
   "source": [
    "#### Define readout trigger waveform"
   ]
  },
  {
   "cell_type": "code",
   "execution_count": 128,
   "metadata": {
    "collapsed": true
   },
   "outputs": [],
   "source": [
    "trigger_readout_seq = [pg.p('ro_trg', 10e-9, pg.rect, 1)]"
   ]
  },
  {
   "cell_type": "code",
   "execution_count": 129,
   "metadata": {},
   "outputs": [
    {
     "data": {
      "text/plain": [
       "<module 'qsweepy.modem_readout' from 'C:\\\\Users\\\\demouser\\\\Desktop\\\\Quantum\\\\qsweepy\\\\modem_readout.py'>"
      ]
     },
     "execution_count": 129,
     "metadata": {},
     "output_type": "execute_result"
    }
   ],
   "source": [
    "imp.reload(modem_readout)"
   ]
  },
  {
   "cell_type": "markdown",
   "metadata": {},
   "source": [
    "#### Readout delay calibration"
   ]
  },
  {
   "cell_type": "code",
   "execution_count": 130,
   "metadata": {},
   "outputs": [
    {
     "name": "stdout",
     "output_type": "stream",
     "text": [
      "3.66e-07 183.0\n",
      "0.0 183.0\n"
     ]
    }
   ],
   "source": [
    "adc.set_nums(50)\n",
    "adc.set_nop(20000)\n",
    "modem = modem_readout.modem_readout(pg, adc, trigger_readout_seq, axis_mean=0)\n",
    "modem.readout_channels = readout_channels\n",
    "ro_trg.delay_setter = lambda x: adc.set_trigger_delay(int(x*adc.get_clock()/iq_ex.get_clock()-0))\n",
    "readout_trigger_delay = modem.calibrate_delay()[awg_channels['iq_ro']]\n",
    "readout_trigger_delay_cycles = readout_trigger_delay*adc.get_clock()\n",
    "print (readout_trigger_delay, readout_trigger_delay_cycles)\n",
    "ro_trg.delay_setter = lambda x: adc.set_trigger_delay(int(x*adc.get_clock()/iq_ex.get_clock()-readout_trigger_delay_cycles))\n",
    "readout_trigger_delay_test = modem.calibrate_delay()[awg_channels['iq_ro']]\n",
    "readout_trigger_delay_cycles_test = readout_trigger_delay*adc.get_clock()\n",
    "print (readout_trigger_delay_test, readout_trigger_delay_cycles_test)"
   ]
  },
  {
   "cell_type": "markdown",
   "metadata": {},
   "source": [
    "#### Readout mixer sideband calibration"
   ]
  },
  {
   "cell_type": "code",
   "execution_count": 131,
   "metadata": {},
   "outputs": [
    {
     "data": {
      "text/plain": [
       "{'iq_ro': {'coherent_background': array([-583.68-376.62j, -565.32-378.6j , -453.66-329.96j, ...,\n",
       "         -309.36-298.16j, -415.18-220.26j, -392.36-394.7j ]),\n",
       "  'feature': array([ -7.00428120e-05 +3.48428440e-05j,\n",
       "          -2.55286482e-05 +7.36597823e-05j,\n",
       "           4.00320861e-05 +5.17494235e-05j, ...,\n",
       "           6.06401576e-05 -5.34503412e-05j,\n",
       "           3.25675233e-06 -7.32834853e-05j,  -5.68116156e-05 -3.26995626e-05j]),\n",
       "  'iq_calibration': array([ -6.78882511e-05 +2.70883906e-05j,  -2.15456089e-06 +7.75445343e-06j])}}"
      ]
     },
     "execution_count": 131,
     "metadata": {},
     "output_type": "execute_result"
    }
   ],
   "source": [
    "modem.calibrate_dc()"
   ]
  },
  {
   "cell_type": "markdown",
   "metadata": {},
   "source": [
    "#### Average S21 readout instrument"
   ]
  },
  {
   "cell_type": "code",
   "execution_count": 132,
   "metadata": {
    "collapsed": true
   },
   "outputs": [],
   "source": [
    "modem.filters = modem.calibrated_filters\n",
    "adc_reducer = data_reduce.data_reduce(modem)\n",
    "adc_reducer.filters = {'S21': data_reduce.mean_reducer(modem, 'iq_ro', axis=0)}\n",
    "adc_reducer.extra_opts['scatter'] = True\n",
    "adc_reducer.extra_opts['realimag'] = True"
   ]
  },
  {
   "cell_type": "markdown",
   "metadata": {},
   "source": [
    "### Setting up adc_sz (for compression point measurement)"
   ]
  },
  {
   "cell_type": "code",
   "execution_count": 133,
   "metadata": {
    "collapsed": true
   },
   "outputs": [],
   "source": [
    "def set_adc_nop(ro_adc_length):\n",
    "    #adc.stop()\n",
    "    signal_size = int(np.ceil(4./3.*(ro_adc_length)*adc.get_clock()))\n",
    "    nop = int( 2**np.ceil(np.log2(signal_size)) )\n",
    "    posttrigger = nop*15/16\n",
    "    adc.set_nop(nop)"
   ]
  },
  {
   "cell_type": "code",
   "execution_count": 134,
   "metadata": {
    "collapsed": true
   },
   "outputs": [],
   "source": [
    "# \"Измеритель средних прошедших импульсов\"\n",
    "# Просто усредняет всё по номеру сэмпла.\n",
    "    \n",
    "    \n",
    "#ro_adc_length = 0.15e-6        # Вот такой длины считываем (опухоль Фёдорова!!)\n",
    "#ro_amplitude =0.16\n",
    "#ro_dac_length = 0.08e-6\n",
    "ro_adc_length = 0.1e-6\n",
    "ro_dac_length = 0.08e-6\n",
    "#adc.set_nums(1000)\n",
    "#adc.set_software_nums_multi(1)\n",
    "set_adc_nop(ro_adc_length)\n",
    "adc.set_nums(10000)\n",
    "\n",
    "mean_sample = data_reduce.data_reduce(adc)\n",
    "mean_sample.filters['Mean Voltage (AC)'] = data_reduce.mean_reducer_noavg(adc, 'Voltage', 0)\n",
    "\n",
    "#adc_reducer_old = data_reduce.data_reduce(adc)\n",
    "#adc_reducer_old.filters['Std Voltage (AC)'] = data_reduce.mean_reducer_noavg(adc, 'Voltage std', 0)\n",
    "mean_sample.filters['S21+'] = data_reduce.mean_reducer_freq(adc, 'Voltage', 0, iq_ro.carriers['iq_ro'].get_if())\n",
    "mean_sample.filters['S21-'] = data_reduce.mean_reducer_freq(adc, 'Voltage', 0, -iq_ro.carriers['iq_ro'].get_if())\n",
    "#adc_downsampler = data_reduce.data_reduce(adc)\n",
    "#adc_downsampler.filters['Voltage'] = data_reduce.downsample_reducer(adc, 'Voltage', 0, iq_ro.get_if(), 4)\n",
    "# # Этот измеритель мы как правило используем когда точек не слишком много и все результаты его жизнедеятельности как правило \n",
    "# # выглядят как ломаные. Чтобы было красиво, давайте лучше сделаем точки (а кривые потом получим фитованые)\n",
    "mean_sample.extra_opts['scatter'] = True"
   ]
  },
  {
   "cell_type": "code",
   "execution_count": 135,
   "metadata": {},
   "outputs": [
    {
     "data": {
      "text/plain": [
       "-75000000.0"
      ]
     },
     "execution_count": 135,
     "metadata": {},
     "output_type": "execute_result"
    }
   ],
   "source": [
    "iq_ro.carriers['iq_ro'].get_if()"
   ]
  },
  {
   "cell_type": "markdown",
   "metadata": {},
   "source": [
    "### setting trigger settings (now in 5.1.1)"
   ]
  },
  {
   "cell_type": "code",
   "execution_count": 136,
   "metadata": {
    "collapsed": true
   },
   "outputs": [],
   "source": [
    "#awg.set_marker(length=marker_length, delay=0, channel=0)\n",
    "#awg_channels =dict()\n",
    "#ro_trg = awg_digital.awg_digital(awg_tek, 1)\n",
    "#ro_trg.mode = 'set_delay'\n",
    "#ro_trg.delay_setter = lambda x: adc.set_trigger_delay(int(x*adc.get_clock()/iq_ex.get_clock()-readout_trigger_delay))\n",
    "#awg_channels['ro_trg'] = ro_trg\n",
    "##awg_trg = awg_digital.awg_digital(awg_tek, 0)\n",
    "##osc_trg = awg_digital.awg_digital(awg_tek, 5)\n",
    "##ro_adc_clock = awg_digital.awg_digital(awg_tek, 2) #\n",
    "##osc_adc_clock = awg_digital.awg_digital(awg_tek, 6) #\n",
    "\n",
    "## тупо клок\n",
    "##ro_adc_clock.set_waveform(np.asarray([0,1]*int(ro_adc_clock.get_nop()/2), dtype=int))\n",
    "##osc_adc_clock.set_waveform(np.asarray([0,1]*int(ro_adc_clock.get_nop()/2), dtype=int))"
   ]
  },
  {
   "cell_type": "markdown",
   "metadata": {},
   "source": [
    "### Прохождение считывающих импульсов разной амплитуды"
   ]
  },
  {
   "cell_type": "code",
   "execution_count": 138,
   "metadata": {
    "scrolled": false
   },
   "outputs": [
    {
     "data": {
      "application/vnd.jupyter.widget-view+json": {
       "model_id": "d7cd9cc394894f6f803bd4da939a47f8"
      }
     },
     "metadata": {},
     "output_type": "display_data"
    },
    {
     "name": "stdout",
     "output_type": "stream",
     "text": [
      "Started at:  Aug 20 2018 23:07:27\n"
     ]
    },
    {
     "ename": "ValueError",
     "evalue": "left cannot be >= right",
     "output_type": "error",
     "traceback": [
      "\u001b[1;31m---------------------------------------------------------------------------\u001b[0m",
      "\u001b[1;31mValueError\u001b[0m                                Traceback (most recent call last)",
      "\u001b[1;32m<ipython-input-138-04dbbd5d0a59>\u001b[0m in \u001b[0;36m<module>\u001b[1;34m()\u001b[0m\n\u001b[0;32m      7\u001b[0m     \u001b[0mpg\u001b[0m\u001b[1;33m.\u001b[0m\u001b[0mset_seq\u001b[0m\u001b[1;33m(\u001b[0m\u001b[0mtrigger_readout_seq\u001b[0m\u001b[1;33m+\u001b[0m\u001b[1;33m[\u001b[0m\u001b[0mpg\u001b[0m\u001b[1;33m.\u001b[0m\u001b[0mp\u001b[0m\u001b[1;33m(\u001b[0m\u001b[1;34m'iq_ro'\u001b[0m\u001b[1;33m,\u001b[0m \u001b[0mro_dac_length\u001b[0m\u001b[1;33m,\u001b[0m \u001b[0mpg\u001b[0m\u001b[1;33m.\u001b[0m\u001b[0mrect\u001b[0m\u001b[1;33m,\u001b[0m \u001b[0mx\u001b[0m\u001b[1;33m)\u001b[0m\u001b[1;33m]\u001b[0m\u001b[1;33m)\u001b[0m\u001b[1;33m\u001b[0m\u001b[0m\n\u001b[0;32m      8\u001b[0m     \u001b[0mawg_tek\u001b[0m\u001b[1;33m.\u001b[0m\u001b[0mrun\u001b[0m\u001b[1;33m(\u001b[0m\u001b[1;33m)\u001b[0m\u001b[1;33m\u001b[0m\u001b[0m\n\u001b[1;32m----> 9\u001b[1;33m \u001b[0mmeasurement\u001b[0m \u001b[1;33m=\u001b[0m \u001b[0msweep\u001b[0m\u001b[1;33m.\u001b[0m\u001b[0msweep\u001b[0m\u001b[1;33m(\u001b[0m\u001b[0mmean_sample\u001b[0m\u001b[1;33m,\u001b[0m \u001b[1;33m(\u001b[0m\u001b[0mnp\u001b[0m\u001b[1;33m.\u001b[0m\u001b[0mlinspace\u001b[0m\u001b[1;33m(\u001b[0m\u001b[1;36m0\u001b[0m\u001b[1;33m,\u001b[0m \u001b[1;36m.05\u001b[0m\u001b[1;33m,\u001b[0m \u001b[1;36m21\u001b[0m\u001b[1;33m)\u001b[0m\u001b[1;33m,\u001b[0m \u001b[0mset_pulse_amplitude\u001b[0m\u001b[1;33m,\u001b[0m \u001b[1;34m'Readout amplitude'\u001b[0m\u001b[1;33m)\u001b[0m\u001b[1;33m,\u001b[0m \u001b[0mfilename\u001b[0m\u001b[1;33m=\u001b[0m\u001b[1;34m'Readout pulse passthrough qubit#{}'\u001b[0m\u001b[1;33m.\u001b[0m\u001b[0mformat\u001b[0m\u001b[1;33m(\u001b[0m\u001b[0mqubit_id\u001b[0m\u001b[1;33m)\u001b[0m\u001b[1;33m)\u001b[0m\u001b[1;33m\u001b[0m\u001b[0m\n\u001b[0m\u001b[0;32m     10\u001b[0m \u001b[1;32mdel\u001b[0m \u001b[0mmean_sample\u001b[0m\u001b[1;33m.\u001b[0m\u001b[0mfilters\u001b[0m\u001b[1;33m[\u001b[0m\u001b[1;34m'Std Voltage (AC)'\u001b[0m\u001b[1;33m]\u001b[0m\u001b[1;33m\u001b[0m\u001b[0m\n",
      "\u001b[1;32mC:\\Users\\demouser\\Desktop\\Quantum\\qsweepy\\sweep.py\u001b[0m in \u001b[0;36msweep\u001b[1;34m(measurer, filename, root_dir, plot, plot_separate_thread, header, output, save, time_war_label, shuffle, bot, use_deferred, *params)\u001b[0m\n\u001b[0;32m    178\u001b[0m         \u001b[1;32mif\u001b[0m \u001b[0mplot\u001b[0m\u001b[1;33m:\u001b[0m\u001b[1;33m\u001b[0m\u001b[0m\n\u001b[0;32m    179\u001b[0m                 \u001b[0mplot_update_start\u001b[0m \u001b[1;33m=\u001b[0m \u001b[0mtime\u001b[0m\u001b[1;33m.\u001b[0m\u001b[0mtime\u001b[0m\u001b[1;33m(\u001b[0m\u001b[1;33m)\u001b[0m\u001b[1;33m\u001b[0m\u001b[0m\n\u001b[1;32m--> 180\u001b[1;33m                 \u001b[0mplot_axes\u001b[0m \u001b[1;33m=\u001b[0m \u001b[0mplotting\u001b[0m\u001b[1;33m.\u001b[0m\u001b[0mplot_measurement\u001b[0m\u001b[1;33m(\u001b[0m\u001b[0mmk_measurement\u001b[0m\u001b[1;33m(\u001b[0m\u001b[1;33m)\u001b[0m\u001b[1;33m,\u001b[0m \u001b[0mname\u001b[0m\u001b[1;33m=\u001b[0m\u001b[0mfilename\u001b[0m\u001b[1;33m)\u001b[0m\u001b[1;33m\u001b[0m\u001b[0m\n\u001b[0m\u001b[0;32m    181\u001b[0m                 \u001b[0mlast_plot_update\u001b[0m \u001b[1;33m=\u001b[0m \u001b[0mtime\u001b[0m\u001b[1;33m.\u001b[0m\u001b[0mtime\u001b[0m\u001b[1;33m(\u001b[0m\u001b[1;33m)\u001b[0m\u001b[1;33m\u001b[0m\u001b[0m\n\u001b[0;32m    182\u001b[0m                 \u001b[0mplot_update_time\u001b[0m \u001b[1;33m=\u001b[0m \u001b[0mlast_plot_update\u001b[0m \u001b[1;33m-\u001b[0m \u001b[0mplot_update_start\u001b[0m\u001b[1;33m\u001b[0m\u001b[0m\n",
      "\u001b[1;32mC:\\Users\\demouser\\Desktop\\Quantum\\qsweepy\\plotting.py\u001b[0m in \u001b[0;36mplot_measurement\u001b[1;34m(measurement, name, save, annotation, subplots)\u001b[0m\n\u001b[0;32m    214\u001b[0m         \u001b[1;32melse\u001b[0m\u001b[1;33m:\u001b[0m\u001b[1;33m\u001b[0m\u001b[0m\n\u001b[0;32m    215\u001b[0m                 \u001b[0mplot_add_annotation\u001b[0m\u001b[1;33m(\u001b[0m\u001b[0maxes\u001b[0m\u001b[1;33m,\u001b[0m \u001b[0mannotation\u001b[0m\u001b[1;33m)\u001b[0m\u001b[1;33m\u001b[0m\u001b[0m\n\u001b[1;32m--> 216\u001b[1;33m         \u001b[0mplt\u001b[0m\u001b[1;33m.\u001b[0m\u001b[0mfigure\u001b[0m\u001b[1;33m(\u001b[0m\u001b[0mnum\u001b[0m\u001b[1;33m=\u001b[0m\u001b[0mname\u001b[0m\u001b[1;33m)\u001b[0m\u001b[1;33m.\u001b[0m\u001b[0mtight_layout\u001b[0m\u001b[1;33m(\u001b[0m\u001b[0mrect\u001b[0m\u001b[1;33m=\u001b[0m\u001b[1;33m[\u001b[0m\u001b[1;36m0.0\u001b[0m\u001b[1;33m,\u001b[0m \u001b[1;36m0.03\u001b[0m\u001b[1;33m,\u001b[0m \u001b[1;36m1\u001b[0m\u001b[1;33m,\u001b[0m \u001b[1;36m0.95\u001b[0m\u001b[1;33m]\u001b[0m\u001b[1;33m)\u001b[0m\u001b[1;33m\u001b[0m\u001b[0m\n\u001b[0m\u001b[0;32m    217\u001b[0m         \u001b[0mplot_save\u001b[0m\u001b[1;33m(\u001b[0m\u001b[0maxes\u001b[0m\u001b[1;33m,\u001b[0m \u001b[0msave\u001b[0m\u001b[1;33m)\u001b[0m\u001b[1;33m\u001b[0m\u001b[0m\n\u001b[0;32m    218\u001b[0m         \u001b[1;31m# return all the axes, filters & plotting instructions for updates\u001b[0m\u001b[1;33m\u001b[0m\u001b[1;33m\u001b[0m\u001b[0m\n",
      "\u001b[1;32mC:\\ProgramData\\Anaconda2\\envs\\py36\\lib\\site-packages\\matplotlib\\figure.py\u001b[0m in \u001b[0;36mtight_layout\u001b[1;34m(self, renderer, pad, h_pad, w_pad, rect)\u001b[0m\n\u001b[0;32m   2274\u001b[0m             \u001b[0mself\u001b[0m\u001b[1;33m,\u001b[0m \u001b[0mself\u001b[0m\u001b[1;33m.\u001b[0m\u001b[0maxes\u001b[0m\u001b[1;33m,\u001b[0m \u001b[0msubplotspec_list\u001b[0m\u001b[1;33m,\u001b[0m \u001b[0mrenderer\u001b[0m\u001b[1;33m,\u001b[0m\u001b[1;33m\u001b[0m\u001b[0m\n\u001b[0;32m   2275\u001b[0m             pad=pad, h_pad=h_pad, w_pad=w_pad, rect=rect)\n\u001b[1;32m-> 2276\u001b[1;33m         \u001b[0mself\u001b[0m\u001b[1;33m.\u001b[0m\u001b[0msubplots_adjust\u001b[0m\u001b[1;33m(\u001b[0m\u001b[1;33m**\u001b[0m\u001b[0mkwargs\u001b[0m\u001b[1;33m)\u001b[0m\u001b[1;33m\u001b[0m\u001b[0m\n\u001b[0m\u001b[0;32m   2277\u001b[0m \u001b[1;33m\u001b[0m\u001b[0m\n\u001b[0;32m   2278\u001b[0m     \u001b[1;32mdef\u001b[0m \u001b[0malign_xlabels\u001b[0m\u001b[1;33m(\u001b[0m\u001b[0mself\u001b[0m\u001b[1;33m,\u001b[0m \u001b[0maxs\u001b[0m\u001b[1;33m=\u001b[0m\u001b[1;32mNone\u001b[0m\u001b[1;33m)\u001b[0m\u001b[1;33m:\u001b[0m\u001b[1;33m\u001b[0m\u001b[0m\n",
      "\u001b[1;32mC:\\ProgramData\\Anaconda2\\envs\\py36\\lib\\site-packages\\matplotlib\\figure.py\u001b[0m in \u001b[0;36msubplots_adjust\u001b[1;34m(self, *args, **kwargs)\u001b[0m\n\u001b[0;32m   2097\u001b[0m                     \u001b[0max\u001b[0m\u001b[1;33m.\u001b[0m\u001b[0mset_position\u001b[0m\u001b[1;33m(\u001b[0m\u001b[0max\u001b[0m\u001b[1;33m.\u001b[0m\u001b[0m_sharey\u001b[0m\u001b[1;33m.\u001b[0m\u001b[0mfigbox\u001b[0m\u001b[1;33m)\u001b[0m\u001b[1;33m\u001b[0m\u001b[0m\n\u001b[0;32m   2098\u001b[0m             \u001b[1;32melse\u001b[0m\u001b[1;33m:\u001b[0m\u001b[1;33m\u001b[0m\u001b[0m\n\u001b[1;32m-> 2099\u001b[1;33m                 \u001b[0max\u001b[0m\u001b[1;33m.\u001b[0m\u001b[0mupdate_params\u001b[0m\u001b[1;33m(\u001b[0m\u001b[1;33m)\u001b[0m\u001b[1;33m\u001b[0m\u001b[0m\n\u001b[0m\u001b[0;32m   2100\u001b[0m                 \u001b[0max\u001b[0m\u001b[1;33m.\u001b[0m\u001b[0mset_position\u001b[0m\u001b[1;33m(\u001b[0m\u001b[0max\u001b[0m\u001b[1;33m.\u001b[0m\u001b[0mfigbox\u001b[0m\u001b[1;33m)\u001b[0m\u001b[1;33m\u001b[0m\u001b[0m\n\u001b[0;32m   2101\u001b[0m         \u001b[0mself\u001b[0m\u001b[1;33m.\u001b[0m\u001b[0mstale\u001b[0m \u001b[1;33m=\u001b[0m \u001b[1;32mTrue\u001b[0m\u001b[1;33m\u001b[0m\u001b[0m\n",
      "\u001b[1;32mC:\\ProgramData\\Anaconda2\\envs\\py36\\lib\\site-packages\\matplotlib\\axes\\_subplots.py\u001b[0m in \u001b[0;36mupdate_params\u001b[1;34m(self)\u001b[0m\n\u001b[0;32m    134\u001b[0m         \u001b[0mself\u001b[0m\u001b[1;33m.\u001b[0m\u001b[0mfigbox\u001b[0m\u001b[1;33m,\u001b[0m \u001b[0mself\u001b[0m\u001b[1;33m.\u001b[0m\u001b[0mrowNum\u001b[0m\u001b[1;33m,\u001b[0m \u001b[0mself\u001b[0m\u001b[1;33m.\u001b[0m\u001b[0mcolNum\u001b[0m\u001b[1;33m,\u001b[0m \u001b[0mself\u001b[0m\u001b[1;33m.\u001b[0m\u001b[0mnumRows\u001b[0m\u001b[1;33m,\u001b[0m \u001b[0mself\u001b[0m\u001b[1;33m.\u001b[0m\u001b[0mnumCols\u001b[0m \u001b[1;33m=\u001b[0m\u001b[0;31m \u001b[0m\u001b[0;31m\\\u001b[0m\u001b[1;33m\u001b[0m\u001b[0m\n\u001b[0;32m    135\u001b[0m             self.get_subplotspec().get_position(self.figure,\n\u001b[1;32m--> 136\u001b[1;33m                                                 return_all=True)\n\u001b[0m\u001b[0;32m    137\u001b[0m \u001b[1;33m\u001b[0m\u001b[0m\n\u001b[0;32m    138\u001b[0m     \u001b[1;32mdef\u001b[0m \u001b[0mis_first_col\u001b[0m\u001b[1;33m(\u001b[0m\u001b[0mself\u001b[0m\u001b[1;33m)\u001b[0m\u001b[1;33m:\u001b[0m\u001b[1;33m\u001b[0m\u001b[0m\n",
      "\u001b[1;32mC:\\ProgramData\\Anaconda2\\envs\\py36\\lib\\site-packages\\matplotlib\\gridspec.py\u001b[0m in \u001b[0;36mget_position\u001b[1;34m(self, figure, return_all)\u001b[0m\n\u001b[0;32m    463\u001b[0m             (nrows, ncols))\n\u001b[0;32m    464\u001b[0m         \u001b[0mfig_bottoms\u001b[0m\u001b[1;33m,\u001b[0m \u001b[0mfig_tops\u001b[0m\u001b[1;33m,\u001b[0m \u001b[0mfig_lefts\u001b[0m\u001b[1;33m,\u001b[0m \u001b[0mfig_rights\u001b[0m \u001b[1;33m=\u001b[0m\u001b[0;31m \u001b[0m\u001b[0;31m\\\u001b[0m\u001b[1;33m\u001b[0m\u001b[0m\n\u001b[1;32m--> 465\u001b[1;33m             \u001b[0mgridspec\u001b[0m\u001b[1;33m.\u001b[0m\u001b[0mget_grid_positions\u001b[0m\u001b[1;33m(\u001b[0m\u001b[0mfigure\u001b[0m\u001b[1;33m)\u001b[0m\u001b[1;33m\u001b[0m\u001b[0m\n\u001b[0m\u001b[0;32m    466\u001b[0m \u001b[1;33m\u001b[0m\u001b[0m\n\u001b[0;32m    467\u001b[0m         \u001b[0mfig_bottom\u001b[0m \u001b[1;33m=\u001b[0m \u001b[0mfig_bottoms\u001b[0m\u001b[1;33m[\u001b[0m\u001b[0mrows\u001b[0m\u001b[1;33m]\u001b[0m\u001b[1;33m.\u001b[0m\u001b[0mmin\u001b[0m\u001b[1;33m(\u001b[0m\u001b[1;33m)\u001b[0m\u001b[1;33m\u001b[0m\u001b[0m\n",
      "\u001b[1;32mC:\\ProgramData\\Anaconda2\\envs\\py36\\lib\\site-packages\\matplotlib\\gridspec.py\u001b[0m in \u001b[0;36mget_grid_positions\u001b[1;34m(self, fig, raw)\u001b[0m\n\u001b[0;32m    100\u001b[0m             \u001b[0mhspace\u001b[0m \u001b[1;33m=\u001b[0m \u001b[1;36m0.\u001b[0m\u001b[1;33m\u001b[0m\u001b[0m\n\u001b[0;32m    101\u001b[0m         \u001b[1;32melse\u001b[0m\u001b[1;33m:\u001b[0m\u001b[1;33m\u001b[0m\u001b[0m\n\u001b[1;32m--> 102\u001b[1;33m             \u001b[0msubplot_params\u001b[0m \u001b[1;33m=\u001b[0m \u001b[0mself\u001b[0m\u001b[1;33m.\u001b[0m\u001b[0mget_subplot_params\u001b[0m\u001b[1;33m(\u001b[0m\u001b[0mfig\u001b[0m\u001b[1;33m)\u001b[0m\u001b[1;33m\u001b[0m\u001b[0m\n\u001b[0m\u001b[0;32m    103\u001b[0m             \u001b[0mleft\u001b[0m \u001b[1;33m=\u001b[0m \u001b[0msubplot_params\u001b[0m\u001b[1;33m.\u001b[0m\u001b[0mleft\u001b[0m\u001b[1;33m\u001b[0m\u001b[0m\n\u001b[0;32m    104\u001b[0m             \u001b[0mright\u001b[0m \u001b[1;33m=\u001b[0m \u001b[0msubplot_params\u001b[0m\u001b[1;33m.\u001b[0m\u001b[0mright\u001b[0m\u001b[1;33m\u001b[0m\u001b[0m\n",
      "\u001b[1;32mC:\\ProgramData\\Anaconda2\\envs\\py36\\lib\\site-packages\\matplotlib\\gridspec.py\u001b[0m in \u001b[0;36mget_subplot_params\u001b[1;34m(self, figure, fig)\u001b[0m\n\u001b[0;32m    378\u001b[0m         return mpl.figure.SubplotParams(left=left, right=right,\n\u001b[0;32m    379\u001b[0m                                         \u001b[0mbottom\u001b[0m\u001b[1;33m=\u001b[0m\u001b[0mbottom\u001b[0m\u001b[1;33m,\u001b[0m \u001b[0mtop\u001b[0m\u001b[1;33m=\u001b[0m\u001b[0mtop\u001b[0m\u001b[1;33m,\u001b[0m\u001b[1;33m\u001b[0m\u001b[0m\n\u001b[1;32m--> 380\u001b[1;33m                                         wspace=wspace, hspace=hspace)\n\u001b[0m\u001b[0;32m    381\u001b[0m \u001b[1;33m\u001b[0m\u001b[0m\n\u001b[0;32m    382\u001b[0m     \u001b[1;32mdef\u001b[0m \u001b[0mget_topmost_subplotspec\u001b[0m\u001b[1;33m(\u001b[0m\u001b[0mself\u001b[0m\u001b[1;33m)\u001b[0m\u001b[1;33m:\u001b[0m\u001b[1;33m\u001b[0m\u001b[0m\n",
      "\u001b[1;32mC:\\ProgramData\\Anaconda2\\envs\\py36\\lib\\site-packages\\matplotlib\\figure.py\u001b[0m in \u001b[0;36m__init__\u001b[1;34m(self, left, bottom, right, top, wspace, hspace)\u001b[0m\n\u001b[0;32m    204\u001b[0m \u001b[1;33m\u001b[0m\u001b[0m\n\u001b[0;32m    205\u001b[0m         \u001b[0mself\u001b[0m\u001b[1;33m.\u001b[0m\u001b[0mvalidate\u001b[0m \u001b[1;33m=\u001b[0m \u001b[1;32mTrue\u001b[0m\u001b[1;33m\u001b[0m\u001b[0m\n\u001b[1;32m--> 206\u001b[1;33m         \u001b[0mself\u001b[0m\u001b[1;33m.\u001b[0m\u001b[0mupdate\u001b[0m\u001b[1;33m(\u001b[0m\u001b[0mleft\u001b[0m\u001b[1;33m,\u001b[0m \u001b[0mbottom\u001b[0m\u001b[1;33m,\u001b[0m \u001b[0mright\u001b[0m\u001b[1;33m,\u001b[0m \u001b[0mtop\u001b[0m\u001b[1;33m,\u001b[0m \u001b[0mwspace\u001b[0m\u001b[1;33m,\u001b[0m \u001b[0mhspace\u001b[0m\u001b[1;33m)\u001b[0m\u001b[1;33m\u001b[0m\u001b[0m\n\u001b[0m\u001b[0;32m    207\u001b[0m \u001b[1;33m\u001b[0m\u001b[0m\n\u001b[0;32m    208\u001b[0m     def update(self, left=None, bottom=None, right=None, top=None,\n",
      "\u001b[1;32mC:\\ProgramData\\Anaconda2\\envs\\py36\\lib\\site-packages\\matplotlib\\figure.py\u001b[0m in \u001b[0;36mupdate\u001b[1;34m(self, left, bottom, right, top, wspace, hspace)\u001b[0m\n\u001b[0;32m    239\u001b[0m             \u001b[1;32mif\u001b[0m \u001b[0mself\u001b[0m\u001b[1;33m.\u001b[0m\u001b[0mleft\u001b[0m \u001b[1;33m>=\u001b[0m \u001b[0mself\u001b[0m\u001b[1;33m.\u001b[0m\u001b[0mright\u001b[0m\u001b[1;33m:\u001b[0m\u001b[1;33m\u001b[0m\u001b[0m\n\u001b[0;32m    240\u001b[0m                 \u001b[0mreset\u001b[0m\u001b[1;33m(\u001b[0m\u001b[1;33m)\u001b[0m\u001b[1;33m\u001b[0m\u001b[0m\n\u001b[1;32m--> 241\u001b[1;33m                 \u001b[1;32mraise\u001b[0m \u001b[0mValueError\u001b[0m\u001b[1;33m(\u001b[0m\u001b[1;34m'left cannot be >= right'\u001b[0m\u001b[1;33m)\u001b[0m\u001b[1;33m\u001b[0m\u001b[0m\n\u001b[0m\u001b[0;32m    242\u001b[0m \u001b[1;33m\u001b[0m\u001b[0m\n\u001b[0;32m    243\u001b[0m             \u001b[1;32mif\u001b[0m \u001b[0mself\u001b[0m\u001b[1;33m.\u001b[0m\u001b[0mbottom\u001b[0m \u001b[1;33m>=\u001b[0m \u001b[0mself\u001b[0m\u001b[1;33m.\u001b[0m\u001b[0mtop\u001b[0m\u001b[1;33m:\u001b[0m\u001b[1;33m\u001b[0m\u001b[0m\n",
      "\u001b[1;31mValueError\u001b[0m: left cannot be >= right"
     ]
    }
   ],
   "source": [
    "#%%mprun -f sweep.sweep\n",
    "imp.reload(sweep)\n",
    "imp.reload(plotting)\n",
    "mean_sample.filters['Std Voltage (AC)'] = data_reduce.std_reducer_noavg(adc, 'Voltage', 0, 1)\n",
    "def set_pulse_amplitude(x):\n",
    "    awg_tek.set_nop(awg_tek.get_clock()/rep_rate)\n",
    "    pg.set_seq(trigger_readout_seq+[pg.p('iq_ro', ro_dac_length, pg.rect, x)])\n",
    "    awg_tek.run()\n",
    "measurement = sweep.sweep(mean_sample, (np.linspace(0, .05, 21), set_pulse_amplitude, 'Readout amplitude'), filename='Readout pulse passthrough qubit#{}'.format(qubit_id))\n",
    "del mean_sample.filters['Std Voltage (AC)']"
   ]
  },
  {
   "cell_type": "code",
   "execution_count": null,
   "metadata": {},
   "outputs": [],
   "source": [
    "zero_response = measurement['Mean Voltage (AC)'][2][0,:]\n",
    "drive_amplitudes = measurement['Mean Voltage (AC)'][1][0][1:]\n",
    "signal = measurement['Mean Voltage (AC)'][2][1:,:]\n",
    "noise = measurement['Std Voltage (AC)'][2][1:,:]\n",
    "error = noise/np.sqrt(adc.get_nums())\n",
    "signal_overlap = np.sum(np.conj(signal[0,:])*signal[1:,:], axis=1)/drive_amplitudes[1:]\n",
    "signal_overlap_estimate = np.real(signal_overlap[0])\n",
    "signal_overlap_error = 0.5*np.sqrt(np.sum((np.abs(signal[1:,:])*error[0,:])**2, axis=1)+np.sum((np.abs(signal[0,:])*error[1:,:])**2,axis=1))/drive_amplitudes[1:]\n",
    "#signal_overlap_estimate = (np.sum(np.abs(signal[0,:])**2) - np.sum(error[0,:]*np.abs(signal[0,:]))-np.sum(np.abs(error[0,:])**2))/drive_amplitudes[0]\n",
    "#plt.figure()\n",
    "#plt.plot(np.real(signal_overlap))\n",
    "#plt.plot(np.sum(noise**2, axis=1)/adc.get_nums())\n",
    "#plt.plot(signal_overlap_error)\n",
    "compression = 10*np.log10(np.real(signal_overlap)/np.real(signal_overlap_estimate))\n",
    "db_compression_point = np.argmax(10*np.log10(np.real(signal_overlap)/np.real(signal_overlap_estimate))<-1+10*np.log10(1-signal_overlap_error/signal_overlap_estimate))\n",
    "#10*np.log10(np.real(signal_overlap)/np.real(signal_overlap_estimate)),-1+10*np.log10(1-signal_overlap_error/signal_overlap_estimate)\n",
    "#10*np.log10(np.real(signal_overlap)/np.real(signal_overlap_estimate))<-1+10*np.log10(1-signal_overlap_error/signal_overlap_estimate)\n",
    "if np.any(db_compression_point):\n",
    "    ro_amplitude = drive_amplitudes[db_compression_point+1]\n",
    "else:\n",
    "    ro_amplitude = drive_amplitudes[-1]\n",
    "print(\"Readout amplitude:\",ro_amplitude)    "
   ]
  },
  {
   "cell_type": "code",
   "execution_count": null,
   "metadata": {},
   "outputs": [],
   "source": [
    "plt.figure('Readout tone compression')\n",
    "plt.plot(drive_amplitudes[1:], compression)"
   ]
  },
  {
   "cell_type": "code",
   "execution_count": 30,
   "metadata": {
    "collapsed": true
   },
   "outputs": [],
   "source": [
    "ro_parameters = {\"adc_len\":ro_adc_length,'dac_len': ro_dac_length,'amp': ro_amplitude,'adc nums':adc.nums,\n",
    "                'trg_length':trg_length}\n",
    "qjson.dump(\"setups\",\"readout\",ro_parameters)"
   ]
  },
  {
   "cell_type": "code",
   "execution_count": 139,
   "metadata": {
    "collapsed": true
   },
   "outputs": [],
   "source": [
    "ro_amplitude = 0.03"
   ]
  },
  {
   "cell_type": "markdown",
   "metadata": {},
   "source": [
    "## Raby+Ramsey+T1+echo in one bottle"
   ]
  },
  {
   "cell_type": "code",
   "execution_count": 140,
   "metadata": {
    "collapsed": true
   },
   "outputs": [],
   "source": [
    "import qsweepy.qjson as pqjson\n",
    "import qsweepy.quantum_two_level_dynamics as dyn"
   ]
  },
  {
   "cell_type": "code",
   "execution_count": 141,
   "metadata": {},
   "outputs": [
    {
     "data": {
      "text/plain": [
       "<module 'qsweepy.diff_readout' from 'C:\\\\Users\\\\demouser\\\\Desktop\\\\Quantum\\\\qsweepy\\\\diff_readout.py'>"
      ]
     },
     "execution_count": 141,
     "metadata": {},
     "output_type": "execute_result"
    }
   ],
   "source": [
    "imp.reload(dyn)\n",
    "imp.reload(qjson)\n",
    "imp.reload(data_reduce)\n",
    "imp.reload(plotting)\n",
    "imp.reload(fitting)\n",
    "imp.reload(sweep)\n",
    "imp.reload(diff_readout)"
   ]
  },
  {
   "cell_type": "code",
   "execution_count": 164,
   "metadata": {
    "collapsed": true
   },
   "outputs": [],
   "source": [
    "#ex_channels = ['iq_ex_00-1-01', 'iq_ex_00-1-10', 'iq_ex_01-1-02']#, 'iq_ex_00-2-02']\n",
    "ex_channels = ['iq_ex_00-1-01', \n",
    "               'iq_ex_00-2-02', \n",
    "               'iq_ex_00-2-11', \n",
    "               #'iq_ex_01-1-02', \n",
    "               'iq_ex_00-1-10', \n",
    "               #'iq_ex_01-2-03', \n",
    "               'iq_ex_00-2-20', \n",
    "               #'iq_ex_10-1-20'\n",
    "              ]\n",
    "#ex_channels = ['iq_ex_0-1-1']\n",
    "ex_amplitudes = {'iq_ex_00-1-01':0.5, \n",
    "               'iq_ex_00-2-02':0.5, \n",
    "               'iq_ex_00-2-11':0.5, \n",
    "               #'iq_ex_01-1-02', \n",
    "               'iq_ex_00-1-10':0.5, \n",
    "               #'iq_ex_01-2-03', \n",
    "               'iq_ex_00-2-20':0.5, \n",
    "               #'iq_ex_10-1-20'0.5\n",
    "                }\n",
    "qubit_id=1\n",
    "ro_par = {'qubit_id':qubit_id,'ex_channels':ex_channels}\n",
    "fitter = lambda x,y: fitting.fit1d(x,y,'S21')\n",
    "ro_par['fitter']=fitter"
   ]
  },
  {
   "cell_type": "code",
   "execution_count": 165,
   "metadata": {
    "collapsed": true
   },
   "outputs": [],
   "source": [
    "rabi_lengths = np.arange(0.,1000e-9, 2e-9)\n",
    "delaysT2 = np.arange(0, 200e-9, 2e-9)\n",
    "target_freq_offset = -20e6\n",
    "delaysT2_coherence = np.arange(0, 3000e-9, 5e-9)\n",
    "target_freq_offset_coherence = -2e6\n",
    "delaysT1 = np.arange(0, 15e-6,0.05e-6)"
   ]
  },
  {
   "cell_type": "code",
   "execution_count": 166,
   "metadata": {},
   "outputs": [
    {
     "data": {
      "text/plain": [
       "<module 'qsweepy.plotting' from 'C:\\\\Users\\\\demouser\\\\Desktop\\\\Quantum\\\\qsweepy\\\\plotting.py'>"
      ]
     },
     "execution_count": 166,
     "metadata": {},
     "output_type": "execute_result"
    }
   ],
   "source": [
    "imp.reload(plotting)"
   ]
  },
  {
   "cell_type": "code",
   "execution_count": 167,
   "metadata": {
    "collapsed": true
   },
   "outputs": [],
   "source": [
    "imp.reload(diff_readout)\n",
    "diff_adc_reducer = diff_readout.diff_readout(adc_reducer)"
   ]
  },
  {
   "cell_type": "code",
   "execution_count": 168,
   "metadata": {
    "scrolled": true
   },
   "outputs": [
    {
     "name": "stdout",
     "output_type": "stream",
     "text": [
      "C:\\Users\\demouser\\Desktop\\Quantum\\data/calibrations/setups/ readout\n",
      "Failed loading rabi frequency calibration: 'quantum_two_level_dynamics' object has no attribute 'ex_amplitude'\n",
      "C:\\Users\\demouser\\Desktop\\Quantum\\data/calibrations/setups/ readout\n",
      "Failed loading rabi frequency calibration: 'quantum_two_level_dynamics' object has no attribute 'ex_amplitude'\n",
      "C:\\Users\\demouser\\Desktop\\Quantum\\data/calibrations/setups/ readout\n",
      "Failed loading rabi frequency calibration: 'quantum_two_level_dynamics' object has no attribute 'ex_amplitude'\n",
      "C:\\Users\\demouser\\Desktop\\Quantum\\data/calibrations/setups/ readout\n",
      "Failed loading rabi frequency calibration: 'quantum_two_level_dynamics' object has no attribute 'ex_amplitude'\n",
      "C:\\Users\\demouser\\Desktop\\Quantum\\data/calibrations/setups/ readout\n",
      "Failed loading rabi frequency calibration: 'quantum_two_level_dynamics' object has no attribute 'ex_amplitude'\n"
     ]
    }
   ],
   "source": [
    "#two = dyn.quantum_two_level_dynamics(pg,adc_reducer,**ro_par)\n",
    "#two_ = dyn.quantum_two_level_dynamics(pg,mean_sample,**ro_par)\n",
    "ro_sequence = trigger_readout_seq+[pg.p('iq_ro', ro_dac_length, pg.rect, ro_amplitude)]\n",
    "two_diffs = [dyn.quantum_two_level_dynamics(pg,\n",
    "                                           diff_adc_reducer,\n",
    "                                           ex_channel=ex_channel,\n",
    "                                           ro_channel='iq_ro',\n",
    "                                           ro_sequence=ro_sequence,\n",
    "                                           ex_amplitude=ex_amplitudes[ex_channel],\n",
    "                                           fitter=fitter, \n",
    "                                           shuffle=True,\n",
    "                                           qubit_id=qubit_id) for ex_channel in ex_channels]"
   ]
  },
  {
   "cell_type": "code",
   "execution_count": 169,
   "metadata": {},
   "outputs": [
    {
     "name": "stdout",
     "output_type": "stream",
     "text": [
      "The line_profiler extension is already loaded. To reload it, use:\n",
      "  %reload_ext line_profiler\n"
     ]
    }
   ],
   "source": [
    "%load_ext line_profiler"
   ]
  },
  {
   "cell_type": "code",
   "execution_count": 163,
   "metadata": {
    "scrolled": false
   },
   "outputs": [
    {
     "data": {
      "application/vnd.jupyter.widget-view+json": {
       "model_id": "d40bb30cb3a0431f970ba976a644808a"
      }
     },
     "metadata": {},
     "output_type": "display_data"
    },
    {
     "name": "stdout",
     "output_type": "stream",
     "text": [
      "Started at:  Aug 20 2018 23:19:02\n",
      "Exiting sweep main thread #{} via return 6872\n",
      "\n",
      "Elapsed time: 0 h 3 m 49.42 s\n"
     ]
    }
   ],
   "source": [
    "imp.reload(sweep)\n",
    "#rabi_lengths = np.arange(0.,2500e-9, 25e-9)\n",
    "rabi_lengths = [10e-6]\n",
    "carrier_frequencies = np.arange(4.0985e9, 4.0995e9, 0.02e6)\n",
    "two_diffs[2].Rabi_2d_rect(rabi_lengths, carrier_frequencies)"
   ]
  },
  {
   "cell_type": "code",
   "execution_count": 82,
   "metadata": {
    "scrolled": true
   },
   "outputs": [
    {
     "data": {
      "application/vnd.jupyter.widget-view+json": {
       "model_id": "0aa88754b850476083103e4a3747a2e3"
      }
     },
     "metadata": {},
     "output_type": "display_data"
    },
    {
     "name": "stdout",
     "output_type": "stream",
     "text": [
      "Started at:  Aug 18 2018 23:49:02\n",
      "Exiting thread #{} via return 7104\n",
      "\n",
      "Elapsed time: 0 h 37 m 49.75 s\n"
     ]
    },
    {
     "data": {
      "application/vnd.jupyter.widget-view+json": {
       "model_id": "b5fa660513d54a92a67ca53230fa90ec"
      }
     },
     "metadata": {},
     "output_type": "display_data"
    },
    {
     "name": "stdout",
     "output_type": "stream",
     "text": [
      "Started at:  Aug 19 2018 00:26:56\n",
      "Exiting thread #{} via return 5384\n",
      "\n",
      "Elapsed time: 0 h 7 m 41.25 s\n"
     ]
    },
    {
     "data": {
      "application/vnd.jupyter.widget-view+json": {
       "model_id": "4f77f9ba92ae4451b151029972f30c55"
      }
     },
     "metadata": {},
     "output_type": "display_data"
    },
    {
     "name": "stdout",
     "output_type": "stream",
     "text": [
      "Started at:  Aug 19 2018 00:34:40\n",
      "Exiting thread #{} via return 6280\n",
      "\n",
      "Elapsed time: 1 h 46 m 23.67 s\n"
     ]
    },
    {
     "data": {
      "application/vnd.jupyter.widget-view+json": {
       "model_id": "9cb419da7fa841999b355bcca166e6e6"
      }
     },
     "metadata": {},
     "output_type": "display_data"
    },
    {
     "name": "stdout",
     "output_type": "stream",
     "text": [
      "Started at:  Aug 19 2018 02:21:08\n",
      "Exiting thread #{} via return 5720\n",
      "\n",
      "Elapsed time: 0 h 23 m 28.51 s\n",
      "[4.6333712881904566e-06, -0.13345346451632262, -0.3032834460172409, -0.04071784834539727, 0.015560441454185447]\n"
     ]
    },
    {
     "data": {
      "application/vnd.jupyter.widget-view+json": {
       "model_id": "c9c64135f57541d5978e4bcb02c4fa24"
      }
     },
     "metadata": {},
     "output_type": "display_data"
    },
    {
     "name": "stdout",
     "output_type": "stream",
     "text": [
      "Started at:  Aug 19 2018 02:44:40\n",
      "Exiting thread #{} via return 6784\n",
      "\n",
      "Elapsed time: 0 h 47 m 10.59 s\n"
     ]
    },
    {
     "data": {
      "application/vnd.jupyter.widget-view+json": {
       "model_id": "a8fd0b7b72164cd48165e12c542879b0"
      }
     },
     "metadata": {},
     "output_type": "display_data"
    },
    {
     "name": "stdout",
     "output_type": "stream",
     "text": [
      "Started at:  Aug 19 2018 03:31:55\n",
      "Exiting thread #{} via return 620\n",
      "\n",
      "Elapsed time: 0 h 39 m 24.07 s\n"
     ]
    },
    {
     "data": {
      "application/vnd.jupyter.widget-view+json": {
       "model_id": "03d5c5261db44ce0bb58eb9060eff0d3"
      }
     },
     "metadata": {},
     "output_type": "display_data"
    },
    {
     "name": "stdout",
     "output_type": "stream",
     "text": [
      "Started at:  Aug 19 2018 04:11:23\n",
      "Exiting thread #{} via return 5760\n",
      "\n",
      "Elapsed time: 0 h 7 m 55.3 s\n"
     ]
    },
    {
     "data": {
      "application/vnd.jupyter.widget-view+json": {
       "model_id": "c24080e9ab514488bc3d48ab574d5ce8"
      }
     },
     "metadata": {},
     "output_type": "display_data"
    },
    {
     "name": "stdout",
     "output_type": "stream",
     "text": [
      "Started at:  Aug 19 2018 04:19:22\n",
      "Exiting thread #{} via return 2740\n",
      "\n",
      "Elapsed time: 0 h 47 m 27.98 s\n"
     ]
    },
    {
     "data": {
      "application/vnd.jupyter.widget-view+json": {
       "model_id": "1352ae3d8d094371bce31944900f825d"
      }
     },
     "metadata": {},
     "output_type": "display_data"
    },
    {
     "name": "stdout",
     "output_type": "stream",
     "text": [
      "Started at:  Aug 19 2018 05:06:54\n",
      "Exiting thread #{} via return 304\n",
      "\n",
      "Elapsed time: 0 h 23 m 45.08 s\n",
      "[4.4787086410432803e-06, 0.014559886224836616, -0.6083593266060703, -0.05271506844858387, 0.000728671449331697]\n"
     ]
    },
    {
     "data": {
      "application/vnd.jupyter.widget-view+json": {
       "model_id": "f62c88dfd1eb4609ac9550f6c751c3fe"
      }
     },
     "metadata": {},
     "output_type": "display_data"
    },
    {
     "name": "stdout",
     "output_type": "stream",
     "text": [
      "Started at:  Aug 19 2018 05:30:43\n",
      "Exiting thread #{} via return 4148\n",
      "\n",
      "Elapsed time: 0 h 47 m 16.5 s\n"
     ]
    },
    {
     "data": {
      "application/vnd.jupyter.widget-view+json": {
       "model_id": "811521bd7422415baafa956f42e77cd8"
      }
     },
     "metadata": {},
     "output_type": "display_data"
    },
    {
     "name": "stdout",
     "output_type": "stream",
     "text": [
      "Started at:  Aug 19 2018 06:18:03\n",
      "Exiting thread #{} via return 6120\n",
      "\n",
      "Elapsed time: 0 h 39 m 30.19 s\n"
     ]
    },
    {
     "data": {
      "application/vnd.jupyter.widget-view+json": {
       "model_id": "74d47da661424cbaa8539336bc731b42"
      }
     },
     "metadata": {},
     "output_type": "display_data"
    },
    {
     "name": "stdout",
     "output_type": "stream",
     "text": [
      "Started at:  Aug 19 2018 06:57:37\n",
      "Exiting thread #{} via return 1916\n",
      "\n",
      "Elapsed time: 0 h 8 m 0.4 s\n"
     ]
    },
    {
     "data": {
      "application/vnd.jupyter.widget-view+json": {
       "model_id": "1d61751e8a2948229dae276a9b79d224"
      }
     },
     "metadata": {},
     "output_type": "display_data"
    },
    {
     "name": "stdout",
     "output_type": "stream",
     "text": [
      "Started at:  Aug 19 2018 07:05:42\n",
      "Exiting thread #{} via return 1652\n",
      "\n",
      "Elapsed time: 0 h 48 m 11.85 s\n"
     ]
    },
    {
     "data": {
      "application/vnd.jupyter.widget-view+json": {
       "model_id": "7c195c39b61546f4a124be6cf3eae4fc"
      }
     },
     "metadata": {},
     "output_type": "display_data"
    },
    {
     "name": "stdout",
     "output_type": "stream",
     "text": [
      "Started at:  Aug 19 2018 07:53:58\n",
      "Exiting thread #{} via return 6020\n",
      "\n",
      "Elapsed time: 0 h 24 m 22.36 s\n",
      "[3.1973794613572408e-06, -0.013161105982052279, -0.35289851888933155, -0.036282277604050284, -0.0030191853062702667]\n"
     ]
    },
    {
     "data": {
      "application/vnd.jupyter.widget-view+json": {
       "model_id": "75e89905937e4a91a05a1882688a6b83"
      }
     },
     "metadata": {},
     "output_type": "display_data"
    },
    {
     "name": "stdout",
     "output_type": "stream",
     "text": [
      "Started at:  Aug 19 2018 08:18:25\n",
      "Exiting thread #{} via return 5312\n",
      "\n",
      "Elapsed time: 0 h 49 m 7.0 s\n"
     ]
    },
    {
     "data": {
      "application/vnd.jupyter.widget-view+json": {
       "model_id": "8444de8f506243baab8c50e277f31a71"
      }
     },
     "metadata": {},
     "output_type": "display_data"
    },
    {
     "name": "stdout",
     "output_type": "stream",
     "text": [
      "Started at:  Aug 19 2018 09:07:37\n",
      "Exiting thread #{} via return 6748\n",
      "\n",
      "Elapsed time: 0 h 41 m 6.46 s\n"
     ]
    },
    {
     "data": {
      "application/vnd.jupyter.widget-view+json": {
       "model_id": "83cae995ffa440bc9e015aba94b41ef4"
      }
     },
     "metadata": {},
     "output_type": "display_data"
    },
    {
     "name": "stdout",
     "output_type": "stream",
     "text": [
      "Started at:  Aug 19 2018 09:48:48\n",
      "Exiting thread #{} via return 4700\n",
      "\n",
      "Elapsed time: 0 h 8 m 22.15 s\n"
     ]
    },
    {
     "data": {
      "application/vnd.jupyter.widget-view+json": {
       "model_id": "065b80a680ea4d8d80c9cd82e7e41270"
      }
     },
     "metadata": {},
     "output_type": "display_data"
    },
    {
     "name": "stdout",
     "output_type": "stream",
     "text": [
      "Started at:  Aug 19 2018 09:57:15\n",
      "Exiting thread #{} via return 1604\n",
      "\n",
      "Elapsed time: 0 h 50 m 22.03 s\n"
     ]
    },
    {
     "data": {
      "application/vnd.jupyter.widget-view+json": {
       "model_id": "c86bd7c1f76b42cc894fb0c83be76a52"
      }
     },
     "metadata": {},
     "output_type": "display_data"
    },
    {
     "name": "stdout",
     "output_type": "stream",
     "text": [
      "Started at:  Aug 19 2018 10:47:42\n",
      "Exiting thread #{} via return 5292\n",
      "\n",
      "Elapsed time: 0 h 23 m 42.94 s\n",
      "[4.6318092105839712e-06, -0.0957055384330362, -0.18907053811537372, -0.029157221239972164, 0.02245385170490033]\n"
     ]
    },
    {
     "data": {
      "application/vnd.jupyter.widget-view+json": {
       "model_id": "96c2d42c13534902884f38e2cc3b170c"
      }
     },
     "metadata": {},
     "output_type": "display_data"
    },
    {
     "name": "stdout",
     "output_type": "stream",
     "text": [
      "Started at:  Aug 19 2018 11:11:29\n",
      "Exiting thread #{} via return 6236\n",
      "\n",
      "Elapsed time: 0 h 46 m 6.16 s\n"
     ]
    },
    {
     "data": {
      "application/vnd.jupyter.widget-view+json": {
       "model_id": "9e39a16737a94260b2fb0c299e5b2505"
      }
     },
     "metadata": {},
     "output_type": "display_data"
    },
    {
     "name": "stdout",
     "output_type": "stream",
     "text": [
      "Started at:  Aug 19 2018 11:57:40\n",
      "Exiting thread #{} via return 5384\n",
      "\n",
      "Elapsed time: 0 h 38 m 21.74 s\n"
     ]
    },
    {
     "data": {
      "application/vnd.jupyter.widget-view+json": {
       "model_id": "4e4c38b3cce048aebd78ffcbee2fda93"
      }
     },
     "metadata": {},
     "output_type": "display_data"
    },
    {
     "name": "stdout",
     "output_type": "stream",
     "text": [
      "Started at:  Aug 19 2018 12:36:05\n",
      "Exiting thread #{} via return 5224\n",
      "\n",
      "Elapsed time: 0 h 7 m 43.9 s\n"
     ]
    },
    {
     "data": {
      "application/vnd.jupyter.widget-view+json": {
       "model_id": "c170a780748348a6905c8902757dde60"
      }
     },
     "metadata": {},
     "output_type": "display_data"
    },
    {
     "name": "stdout",
     "output_type": "stream",
     "text": [
      "Started at:  Aug 19 2018 12:43:53\n",
      "Exiting thread #{} via return 6252\n",
      "\n",
      "Elapsed time: 0 h 46 m 38.42 s\n"
     ]
    },
    {
     "data": {
      "application/vnd.jupyter.widget-view+json": {
       "model_id": "627a1ab55f1e44bd858b1abaf83592a7"
      }
     },
     "metadata": {},
     "output_type": "display_data"
    },
    {
     "name": "stdout",
     "output_type": "stream",
     "text": [
      "Started at:  Aug 19 2018 13:30:35\n",
      "Exiting thread #{} via return 2040\n",
      "\n",
      "Elapsed time: 0 h 23 m 34.36 s\n",
      "[3.8519644631127783e-06, -0.05195277335193943, -0.4846293172502233, -0.03896749963537871, -0.014720221274775597]\n"
     ]
    },
    {
     "data": {
      "application/vnd.jupyter.widget-view+json": {
       "model_id": "7739ecb69c4c4555b5ee7889f22b41f9"
      }
     },
     "metadata": {},
     "output_type": "display_data"
    },
    {
     "name": "stdout",
     "output_type": "stream",
     "text": [
      "Started at:  Aug 19 2018 13:54:13\n",
      "Exiting thread #{} via return 6152\n",
      "\n",
      "Elapsed time: 0 h 44 m 35.54 s\n"
     ]
    }
   ],
   "source": [
    "#%%mprun -f two_diffs[0].Rabi_rect -f two_diffs[0].Ramsey -f two_diffs[0].decay -f two_diffs[0].spin_echo -f sweep.sweep -f diff_adc_reducer.measure\n",
    "iters = 1\n",
    "for _iter in range(iters):\n",
    "    for two_diff in two_diffs:\n",
    "        two_diff.Rabi_rect(rabi_lengths)\n",
    "        two_diff.Ramsey(delaysT2, target_freq_offset)\n",
    "        two_diff.Ramsey(delaysT2_coherence,target_freq_offset_coherence)\n",
    "        two_diff.decay(delaysT1)\n",
    "        two_diff.spin_echo(delaysT2_coherence,target_freq_offset_coherence)"
   ]
  },
  {
   "cell_type": "code",
   "execution_count": 42,
   "metadata": {},
   "outputs": [
    {
     "data": {
      "text/plain": [
       "<module 'qsweepy.sweep' from 'C:\\\\Users\\\\demouser\\\\Desktop\\\\Quantum\\\\qsweepy\\\\sweep.py'>"
      ]
     },
     "execution_count": 42,
     "metadata": {},
     "output_type": "execute_result"
    }
   ],
   "source": [
    "imp.reload(sweep)"
   ]
  },
  {
   "cell_type": "code",
   "execution_count": 172,
   "metadata": {},
   "outputs": [
    {
     "data": {
      "text/plain": [
       "4099160000.0"
      ]
     },
     "execution_count": 172,
     "metadata": {},
     "output_type": "execute_result"
    }
   ],
   "source": [
    "pg.channels['iq_ex_00-2-11'].get_frequency()"
   ]
  },
  {
   "cell_type": "code",
   "execution_count": 174,
   "metadata": {},
   "outputs": [
    {
     "data": {
      "application/vnd.jupyter.widget-view+json": {
       "model_id": "221bec594a0e4f859fddba3f3d8cefac"
      }
     },
     "metadata": {},
     "output_type": "display_data"
    },
    {
     "name": "stdout",
     "output_type": "stream",
     "text": [
      "Started at:  Aug 20 2018 23:34:22\n",
      "Exiting sweep main thread #{} via return 2544\n",
      "\n",
      "Elapsed time: 1 h 9 m 10.77 s\n"
     ]
    },
    {
     "data": {
      "text/plain": [
       "{'qubit_id': 1,\n",
       " 'rabi_carrier': 4099160000.0,\n",
       " 'rabi_ex_amplitude': 0.5,\n",
       " 'rabi_rect_decay': 1.7542021164209382e-05,\n",
       " 'rabi_rect_freq': 93114.213246679603,\n",
       " 'rabi_ro_freq': 7278000000.0}"
      ]
     },
     "execution_count": 174,
     "metadata": {},
     "output_type": "execute_result"
    }
   ],
   "source": [
    "two_diffs[2].Rabi_rect(np.linspace(0, 5000e-9, 1001))"
   ]
  },
  {
   "cell_type": "code",
   "execution_count": 175,
   "metadata": {},
   "outputs": [
    {
     "data": {
      "application/vnd.jupyter.widget-view+json": {
       "model_id": "2d47304bb0e94c3ba7671f4c09210a8b"
      }
     },
     "metadata": {},
     "output_type": "display_data"
    },
    {
     "name": "stdout",
     "output_type": "stream",
     "text": [
      "Started at:  Aug 21 2018 09:01:33\n"
     ]
    },
    {
     "ename": "Error",
     "evalue": "Cannot move a directory 'C:\\Users\\demouser\\Desktop\\Quantum\\data/2018-08-21/09-01-33-Ramsey (target offset -2.00 MHz), excitation channel iq_ex_00-2-11/' into itself 'C:\\Users\\demouser\\Desktop\\Quantum\\data/2018-08-21/09-01-33-Ramsey (target offset -2.00 MHz), excitation channel iq_ex_00-2-11/unfinished/'.",
     "output_type": "error",
     "traceback": [
      "\u001b[1;31m---------------------------------------------------------------------------\u001b[0m",
      "\u001b[1;31mKeyboardInterrupt\u001b[0m                         Traceback (most recent call last)",
      "\u001b[1;32mC:\\Users\\demouser\\Desktop\\Quantum\\qsweepy\\sweep.py\u001b[0m in \u001b[0;36msweep\u001b[1;34m(measurer, filename, root_dir, plot, plot_separate_thread, header, output, save, time_war_label, shuffle, bot, use_deferred, *params)\u001b[0m\n\u001b[0;32m    330\u001b[0m                         \u001b[0macq_thread\u001b[0m\u001b[1;33m.\u001b[0m\u001b[0mstart\u001b[0m\u001b[1;33m(\u001b[0m\u001b[1;33m)\u001b[0m\u001b[1;33m\u001b[0m\u001b[0m\n\u001b[1;32m--> 331\u001b[1;33m                         \u001b[0mplot_thread\u001b[0m\u001b[1;33m(\u001b[0m\u001b[1;33m)\u001b[0m\u001b[1;33m\u001b[0m\u001b[0m\n\u001b[0m\u001b[0;32m    332\u001b[0m \u001b[1;33m\u001b[0m\u001b[0m\n",
      "\u001b[1;32mC:\\Users\\demouser\\Desktop\\Quantum\\qsweepy\\sweep.py\u001b[0m in \u001b[0;36mplot_thread\u001b[1;34m()\u001b[0m\n\u001b[0;32m    323\u001b[0m                                         \u001b[1;31m#print(plot_thread_point_id, done_sweeps)\u001b[0m\u001b[1;33m\u001b[0m\u001b[1;33m\u001b[0m\u001b[0m\n\u001b[1;32m--> 324\u001b[1;33m                                         \u001b[0mplt\u001b[0m\u001b[1;33m.\u001b[0m\u001b[0mgcf\u001b[0m\u001b[1;33m(\u001b[0m\u001b[1;33m)\u001b[0m\u001b[1;33m.\u001b[0m\u001b[0mcanvas\u001b[0m\u001b[1;33m.\u001b[0m\u001b[0mstart_event_loop\u001b[0m\u001b[1;33m(\u001b[0m\u001b[1;36m2.0\u001b[0m\u001b[1;33m)\u001b[0m\u001b[1;33m\u001b[0m\u001b[0m\n\u001b[0m\u001b[0;32m    325\u001b[0m                                 \u001b[1;31m#for i in range(100):\u001b[0m\u001b[1;33m\u001b[0m\u001b[1;33m\u001b[0m\u001b[0m\n",
      "\u001b[1;32mC:\\ProgramData\\Anaconda2\\envs\\py36\\lib\\site-packages\\matplotlib\\backends\\backend_qt5.py\u001b[0m in \u001b[0;36mstart_event_loop\u001b[1;34m(self, timeout)\u001b[0m\n\u001b[0;32m    480\u001b[0m             \u001b[0mtimer\u001b[0m \u001b[1;33m=\u001b[0m \u001b[0mQtCore\u001b[0m\u001b[1;33m.\u001b[0m\u001b[0mQTimer\u001b[0m\u001b[1;33m.\u001b[0m\u001b[0msingleShot\u001b[0m\u001b[1;33m(\u001b[0m\u001b[0mtimeout\u001b[0m \u001b[1;33m*\u001b[0m \u001b[1;36m1000\u001b[0m\u001b[1;33m,\u001b[0m \u001b[0mevent_loop\u001b[0m\u001b[1;33m.\u001b[0m\u001b[0mquit\u001b[0m\u001b[1;33m)\u001b[0m\u001b[1;33m\u001b[0m\u001b[0m\n\u001b[1;32m--> 481\u001b[1;33m         \u001b[0mevent_loop\u001b[0m\u001b[1;33m.\u001b[0m\u001b[0mexec_\u001b[0m\u001b[1;33m(\u001b[0m\u001b[1;33m)\u001b[0m\u001b[1;33m\u001b[0m\u001b[0m\n\u001b[0m\u001b[0;32m    482\u001b[0m \u001b[1;33m\u001b[0m\u001b[0m\n",
      "\u001b[1;31mKeyboardInterrupt\u001b[0m: ",
      "\nDuring handling of the above exception, another exception occurred:\n",
      "\u001b[1;31mPermissionError\u001b[0m                           Traceback (most recent call last)",
      "\u001b[1;32mC:\\ProgramData\\Anaconda2\\envs\\py36\\lib\\shutil.py\u001b[0m in \u001b[0;36mmove\u001b[1;34m(src, dst, copy_function)\u001b[0m\n\u001b[0;32m    543\u001b[0m     \u001b[1;32mtry\u001b[0m\u001b[1;33m:\u001b[0m\u001b[1;33m\u001b[0m\u001b[0m\n\u001b[1;32m--> 544\u001b[1;33m         \u001b[0mos\u001b[0m\u001b[1;33m.\u001b[0m\u001b[0mrename\u001b[0m\u001b[1;33m(\u001b[0m\u001b[0msrc\u001b[0m\u001b[1;33m,\u001b[0m \u001b[0mreal_dst\u001b[0m\u001b[1;33m)\u001b[0m\u001b[1;33m\u001b[0m\u001b[0m\n\u001b[0m\u001b[0;32m    545\u001b[0m     \u001b[1;32mexcept\u001b[0m \u001b[0mOSError\u001b[0m\u001b[1;33m:\u001b[0m\u001b[1;33m\u001b[0m\u001b[0m\n",
      "\u001b[1;31mPermissionError\u001b[0m: [WinError 32] The process cannot access the file because it is being used by another process: 'C:\\\\Users\\\\demouser\\\\Desktop\\\\Quantum\\\\data/2018-08-21/09-01-33-Ramsey (target offset -2.00 MHz), excitation channel iq_ex_00-2-11/' -> 'C:\\\\Users\\\\demouser\\\\Desktop\\\\Quantum\\\\data/2018-08-21/09-01-33-Ramsey (target offset -2.00 MHz), excitation channel iq_ex_00-2-11/unfinished/'",
      "\nDuring handling of the above exception, another exception occurred:\n",
      "\u001b[1;31mError\u001b[0m                                     Traceback (most recent call last)",
      "\u001b[1;32m<ipython-input-175-2adafff3f1ed>\u001b[0m in \u001b[0;36m<module>\u001b[1;34m()\u001b[0m\n\u001b[1;32m----> 1\u001b[1;33m \u001b[0mtwo_diffs\u001b[0m\u001b[1;33m[\u001b[0m\u001b[1;36m2\u001b[0m\u001b[1;33m]\u001b[0m\u001b[1;33m.\u001b[0m\u001b[0mRamsey\u001b[0m\u001b[1;33m(\u001b[0m\u001b[0mdelaysT2_coherence\u001b[0m\u001b[1;33m,\u001b[0m\u001b[0mtarget_freq_offset_coherence\u001b[0m\u001b[1;33m)\u001b[0m\u001b[1;33m\u001b[0m\u001b[0m\n\u001b[0m",
      "\u001b[1;32mC:\\Users\\demouser\\Desktop\\Quantum\\qsweepy\\quantum_two_level_dynamics.py\u001b[0m in \u001b[0;36mRamsey\u001b[1;34m(self, delays, target_freq_offset)\u001b[0m\n\u001b[0;32m    168\u001b[0m \t\tmeasurement = sweep.sweep(self.readout_device, (delays, set_delay, 'Ramsey delay', 's'), filename=measurement_name, shuffle=self.shuffle, root_dir = root_dir,\n\u001b[0;32m    169\u001b[0m                                                                   \u001b[0mplot_separate_thread\u001b[0m\u001b[1;33m=\u001b[0m \u001b[0mself\u001b[0m\u001b[1;33m.\u001b[0m\u001b[0mplot_separate_thread\u001b[0m\u001b[1;33m,\u001b[0m\u001b[1;33m\u001b[0m\u001b[0m\n\u001b[1;32m--> 170\u001b[1;33m \t\t\t\t\t\t\t\t  plot=self.plot)\n\u001b[0m\u001b[0;32m    171\u001b[0m                 \u001b[0mmeasurement_fitted\u001b[0m\u001b[1;33m,\u001b[0m \u001b[0mfitted_parameters\u001b[0m \u001b[1;33m=\u001b[0m \u001b[0mself\u001b[0m\u001b[1;33m.\u001b[0m\u001b[0mfitter\u001b[0m\u001b[1;33m(\u001b[0m\u001b[0mmeasurement\u001b[0m\u001b[1;33m,\u001b[0m \u001b[0mfitting\u001b[0m\u001b[1;33m.\u001b[0m\u001b[0mexp_sin_fit\u001b[0m\u001b[1;33m)\u001b[0m\u001b[1;33m\u001b[0m\u001b[0m\n\u001b[0;32m    172\u001b[0m                 \u001b[0mself\u001b[0m\u001b[1;33m.\u001b[0m\u001b[0mRamsey_result\u001b[0m \u001b[1;33m=\u001b[0m \u001b[1;33m{\u001b[0m\u001b[1;33m}\u001b[0m\u001b[1;33m\u001b[0m\u001b[0m\n",
      "\u001b[1;32mC:\\Users\\demouser\\Desktop\\Quantum\\qsweepy\\sweep.py\u001b[0m in \u001b[0;36msweep\u001b[1;34m(measurer, filename, root_dir, plot, plot_separate_thread, header, output, save, time_war_label, shuffle, bot, use_deferred, *params)\u001b[0m\n\u001b[0;32m    345\u001b[0m                 \u001b[0mstop_acq\u001b[0m \u001b[1;33m=\u001b[0m \u001b[1;32mTrue\u001b[0m\u001b[1;33m\u001b[0m\u001b[0m\n\u001b[0;32m    346\u001b[0m                 \u001b[0mpathlib\u001b[0m\u001b[1;33m.\u001b[0m\u001b[0mPath\u001b[0m\u001b[1;33m(\u001b[0m\u001b[0mdirectory_to\u001b[0m\u001b[1;33m)\u001b[0m\u001b[1;33m.\u001b[0m\u001b[0mparent\u001b[0m\u001b[1;33m.\u001b[0m\u001b[0mmkdir\u001b[0m\u001b[1;33m(\u001b[0m\u001b[0mparents\u001b[0m\u001b[1;33m=\u001b[0m\u001b[1;32mTrue\u001b[0m\u001b[1;33m,\u001b[0m \u001b[0mexist_ok\u001b[0m\u001b[1;33m=\u001b[0m\u001b[1;32mTrue\u001b[0m\u001b[1;33m)\u001b[0m \u001b[1;31m# create top-level directory for moving\u001b[0m\u001b[1;33m\u001b[0m\u001b[0m\n\u001b[1;32m--> 347\u001b[1;33m                 \u001b[0mdirectory_to\u001b[0m \u001b[1;33m=\u001b[0m \u001b[0msh\u001b[0m\u001b[1;33m.\u001b[0m\u001b[0mmove\u001b[0m\u001b[1;33m(\u001b[0m\u001b[0mdata_dir\u001b[0m\u001b[1;33m,\u001b[0m\u001b[0mdirectory_to\u001b[0m\u001b[1;33m)\u001b[0m\u001b[1;33m\u001b[0m\u001b[0m\n\u001b[0m\u001b[0;32m    348\u001b[0m                 \u001b[0mdata_dir\u001b[0m \u001b[1;33m=\u001b[0m \u001b[0mdirectory_to\u001b[0m\u001b[1;33m\u001b[0m\u001b[0m\n\u001b[0;32m    349\u001b[0m                 \u001b[1;32mraise\u001b[0m \u001b[1;31m# after finally\u001b[0m\u001b[1;33m\u001b[0m\u001b[0m\n",
      "\u001b[1;32mC:\\ProgramData\\Anaconda2\\envs\\py36\\lib\\shutil.py\u001b[0m in \u001b[0;36mmove\u001b[1;34m(src, dst, copy_function)\u001b[0m\n\u001b[0;32m    551\u001b[0m             \u001b[1;32mif\u001b[0m \u001b[0m_destinsrc\u001b[0m\u001b[1;33m(\u001b[0m\u001b[0msrc\u001b[0m\u001b[1;33m,\u001b[0m \u001b[0mdst\u001b[0m\u001b[1;33m)\u001b[0m\u001b[1;33m:\u001b[0m\u001b[1;33m\u001b[0m\u001b[0m\n\u001b[0;32m    552\u001b[0m                 raise Error(\"Cannot move a directory '%s' into itself\"\n\u001b[1;32m--> 553\u001b[1;33m                             \" '%s'.\" % (src, dst))\n\u001b[0m\u001b[0;32m    554\u001b[0m             copytree(src, real_dst, copy_function=copy_function,\n\u001b[0;32m    555\u001b[0m                      symlinks=True)\n",
      "\u001b[1;31mError\u001b[0m: Cannot move a directory 'C:\\Users\\demouser\\Desktop\\Quantum\\data/2018-08-21/09-01-33-Ramsey (target offset -2.00 MHz), excitation channel iq_ex_00-2-11/' into itself 'C:\\Users\\demouser\\Desktop\\Quantum\\data/2018-08-21/09-01-33-Ramsey (target offset -2.00 MHz), excitation channel iq_ex_00-2-11/unfinished/'."
     ]
    },
    {
     "name": "stderr",
     "output_type": "stream",
     "text": [
      "Exception in thread Thread-661:\n",
      "Traceback (most recent call last):\n",
      "  File \"C:\\ProgramData\\Anaconda2\\envs\\py36\\lib\\threading.py\", line 916, in _bootstrap_inner\n",
      "    self.run()\n",
      "  File \"C:\\ProgramData\\Anaconda2\\envs\\py36\\lib\\threading.py\", line 864, in run\n",
      "    self._target(*self._args, **self._kwargs)\n",
      "  File \"C:\\Users\\demouser\\Desktop\\Quantum\\qsweepy\\sweep.py\", line 279, in main_sweep_loop\n",
      "    set_single_measurement_result(mpoint, indeces)\n",
      "  File \"C:\\Users\\demouser\\Desktop\\Quantum\\qsweepy\\sweep.py\", line 223, in set_single_measurement_result\n",
      "    ascii_file.write(data_to_str(fmt(mpoint_m_flat))+'\\n')\n",
      "ValueError: I/O operation on closed file.\n",
      "\n"
     ]
    }
   ],
   "source": [
    "two_diffs[2].Ramsey(delaysT2_coherence,target_freq_offset_coherence)"
   ]
  },
  {
   "cell_type": "code",
   "execution_count": 43,
   "metadata": {},
   "outputs": [
    {
     "data": {
      "application/vnd.jupyter.widget-view+json": {
       "model_id": "ca0087323e47410989424a6b030b6e24"
      }
     },
     "metadata": {},
     "output_type": "display_data"
    },
    {
     "name": "stdout",
     "output_type": "stream",
     "text": [
      "Started at:  Aug 20 2018 18:59:32\n",
      "Exiting sweep main thread #{} via return 7512\n",
      "\n",
      "Elapsed time: 0 h 7 m 33.57 s\n"
     ]
    },
    {
     "data": {
      "text/plain": [
       "{'qubit_id': 1,\n",
       " 'rabi_carrier': 4124540000.0,\n",
       " 'rabi_ex_amplitude': 1.0,\n",
       " 'rabi_rect_decay': 3.8923574907939237e-08,\n",
       " 'rabi_rect_freq': 28847686.763304252,\n",
       " 'rabi_ro_freq': 7278000000.0}"
      ]
     },
     "execution_count": 43,
     "metadata": {},
     "output_type": "execute_result"
    }
   ],
   "source": [
    "two_diffs[1].Rabi_rect(np.linspace(0, 100e-9, 101))"
   ]
  },
  {
   "cell_type": "code",
   "execution_count": 63,
   "metadata": {},
   "outputs": [
    {
     "data": {
      "application/vnd.jupyter.widget-view+json": {
       "model_id": "c4b02c1f4d664e1a9d27ef1d73439a31"
      }
     },
     "metadata": {},
     "output_type": "display_data"
    },
    {
     "name": "stdout",
     "output_type": "stream",
     "text": [
      "Started at:  Aug 17 2018 08:54:04\n"
     ]
    },
    {
     "name": "stderr",
     "output_type": "stream",
     "text": [
      "Exception in thread Thread-9:\n",
      "Traceback (most recent call last):\n",
      "  File \"C:\\ProgramData\\Anaconda2\\envs\\py36\\lib\\threading.py\", line 916, in _bootstrap_inner\n",
      "    self.run()\n",
      "  File \"C:\\ProgramData\\Anaconda2\\envs\\py36\\lib\\threading.py\", line 864, in run\n",
      "    self._target(*self._args, **self._kwargs)\n",
      "  File \"C:\\Users\\demouser\\Desktop\\Quantum\\qsweepy\\sweep.py\", line 206, in main_sweep_loop\n",
      "    ascii_file.write(data_to_str(fmt(mpoint_m_flat))+'\\n')\n",
      "ValueError: I/O operation on closed file.\n",
      "\n"
     ]
    },
    {
     "ename": "Error",
     "evalue": "Cannot move a directory 'C:\\Users\\demouser\\Desktop\\Quantum\\data/2018-08-17/08-54-04-Rabi rectangular channel iq_ex_00-1-01/' into itself 'C:\\Users\\demouser\\Desktop\\Quantum\\data/2018-08-17/08-54-04-Rabi rectangular channel iq_ex_00-1-01/unfinished/'.",
     "output_type": "error",
     "traceback": [
      "\u001b[1;31m---------------------------------------------------------------------------\u001b[0m",
      "\u001b[1;31mKeyboardInterrupt\u001b[0m                         Traceback (most recent call last)",
      "\u001b[1;32mC:\\Users\\demouser\\Desktop\\Quantum\\qsweepy\\sweep.py\u001b[0m in \u001b[0;36msweep\u001b[1;34m(measurer, filename, root_dir, plot, plot_separate_thread, header, output, save, time_war_label, shuffle, bot, *params)\u001b[0m\n\u001b[0;32m    266\u001b[0m                         \u001b[0macq_thread\u001b[0m\u001b[1;33m.\u001b[0m\u001b[0mstart\u001b[0m\u001b[1;33m(\u001b[0m\u001b[1;33m)\u001b[0m\u001b[1;33m\u001b[0m\u001b[0m\n\u001b[1;32m--> 267\u001b[1;33m                         \u001b[0mplot_thread\u001b[0m\u001b[1;33m(\u001b[0m\u001b[1;33m)\u001b[0m\u001b[1;33m\u001b[0m\u001b[0m\n\u001b[0m\u001b[0;32m    268\u001b[0m \u001b[1;33m\u001b[0m\u001b[0m\n",
      "\u001b[1;32mC:\\Users\\demouser\\Desktop\\Quantum\\qsweepy\\sweep.py\u001b[0m in \u001b[0;36mplot_thread\u001b[1;34m()\u001b[0m\n\u001b[0;32m    260\u001b[0m                                                 \u001b[1;32mreturn\u001b[0m\u001b[1;33m\u001b[0m\u001b[0m\n\u001b[1;32m--> 261\u001b[1;33m                                         \u001b[0mplt\u001b[0m\u001b[1;33m.\u001b[0m\u001b[0mpause\u001b[0m\u001b[1;33m(\u001b[0m\u001b[1;36m1.0\u001b[0m\u001b[1;33m)\u001b[0m\u001b[1;33m\u001b[0m\u001b[0m\n\u001b[0m\u001b[0;32m    262\u001b[0m                                         \u001b[1;31m#print(plot_thread_point_id, done_sweeps)\u001b[0m\u001b[1;33m\u001b[0m\u001b[1;33m\u001b[0m\u001b[0m\n",
      "\u001b[1;32mC:\\ProgramData\\Anaconda2\\envs\\py36\\lib\\site-packages\\matplotlib\\pyplot.py\u001b[0m in \u001b[0;36mpause\u001b[1;34m(interval)\u001b[0m\n\u001b[0;32m    299\u001b[0m             \u001b[0mshow\u001b[0m\u001b[1;33m(\u001b[0m\u001b[0mblock\u001b[0m\u001b[1;33m=\u001b[0m\u001b[1;32mFalse\u001b[0m\u001b[1;33m)\u001b[0m\u001b[1;33m\u001b[0m\u001b[0m\n\u001b[1;32m--> 300\u001b[1;33m             \u001b[0mcanvas\u001b[0m\u001b[1;33m.\u001b[0m\u001b[0mstart_event_loop\u001b[0m\u001b[1;33m(\u001b[0m\u001b[0minterval\u001b[0m\u001b[1;33m)\u001b[0m\u001b[1;33m\u001b[0m\u001b[0m\n\u001b[0m\u001b[0;32m    301\u001b[0m             \u001b[1;32mreturn\u001b[0m\u001b[1;33m\u001b[0m\u001b[0m\n",
      "\u001b[1;32mC:\\ProgramData\\Anaconda2\\envs\\py36\\lib\\site-packages\\matplotlib\\backends\\backend_qt5.py\u001b[0m in \u001b[0;36mstart_event_loop\u001b[1;34m(self, timeout)\u001b[0m\n\u001b[0;32m    428\u001b[0m     \u001b[1;32mdef\u001b[0m \u001b[0mstart_event_loop\u001b[0m\u001b[1;33m(\u001b[0m\u001b[0mself\u001b[0m\u001b[1;33m,\u001b[0m \u001b[0mtimeout\u001b[0m\u001b[1;33m)\u001b[0m\u001b[1;33m:\u001b[0m\u001b[1;33m\u001b[0m\u001b[0m\n\u001b[1;32m--> 429\u001b[1;33m         \u001b[0mFigureCanvasBase\u001b[0m\u001b[1;33m.\u001b[0m\u001b[0mstart_event_loop_default\u001b[0m\u001b[1;33m(\u001b[0m\u001b[0mself\u001b[0m\u001b[1;33m,\u001b[0m \u001b[0mtimeout\u001b[0m\u001b[1;33m)\u001b[0m\u001b[1;33m\u001b[0m\u001b[0m\n\u001b[0m\u001b[0;32m    430\u001b[0m \u001b[1;33m\u001b[0m\u001b[0m\n",
      "\u001b[1;32mC:\\ProgramData\\Anaconda2\\envs\\py36\\lib\\site-packages\\matplotlib\\backend_bases.py\u001b[0m in \u001b[0;36mstart_event_loop_default\u001b[1;34m(self, timeout)\u001b[0m\n\u001b[0;32m   2461\u001b[0m             \u001b[0mself\u001b[0m\u001b[1;33m.\u001b[0m\u001b[0mflush_events\u001b[0m\u001b[1;33m(\u001b[0m\u001b[1;33m)\u001b[0m\u001b[1;33m\u001b[0m\u001b[0m\n\u001b[1;32m-> 2462\u001b[1;33m             \u001b[0mtime\u001b[0m\u001b[1;33m.\u001b[0m\u001b[0msleep\u001b[0m\u001b[1;33m(\u001b[0m\u001b[0mtimestep\u001b[0m\u001b[1;33m)\u001b[0m\u001b[1;33m\u001b[0m\u001b[0m\n\u001b[0m\u001b[0;32m   2463\u001b[0m             \u001b[0mcounter\u001b[0m \u001b[1;33m+=\u001b[0m \u001b[1;36m1\u001b[0m\u001b[1;33m\u001b[0m\u001b[0m\n",
      "\u001b[1;31mKeyboardInterrupt\u001b[0m: ",
      "\nDuring handling of the above exception, another exception occurred:\n",
      "\u001b[1;31mPermissionError\u001b[0m                           Traceback (most recent call last)",
      "\u001b[1;32mC:\\ProgramData\\Anaconda2\\envs\\py36\\lib\\shutil.py\u001b[0m in \u001b[0;36mmove\u001b[1;34m(src, dst, copy_function)\u001b[0m\n\u001b[0;32m    543\u001b[0m     \u001b[1;32mtry\u001b[0m\u001b[1;33m:\u001b[0m\u001b[1;33m\u001b[0m\u001b[0m\n\u001b[1;32m--> 544\u001b[1;33m         \u001b[0mos\u001b[0m\u001b[1;33m.\u001b[0m\u001b[0mrename\u001b[0m\u001b[1;33m(\u001b[0m\u001b[0msrc\u001b[0m\u001b[1;33m,\u001b[0m \u001b[0mreal_dst\u001b[0m\u001b[1;33m)\u001b[0m\u001b[1;33m\u001b[0m\u001b[0m\n\u001b[0m\u001b[0;32m    545\u001b[0m     \u001b[1;32mexcept\u001b[0m \u001b[0mOSError\u001b[0m\u001b[1;33m:\u001b[0m\u001b[1;33m\u001b[0m\u001b[0m\n",
      "\u001b[1;31mPermissionError\u001b[0m: [WinError 32] The process cannot access the file because it is being used by another process: 'C:\\\\Users\\\\demouser\\\\Desktop\\\\Quantum\\\\data/2018-08-17/08-54-04-Rabi rectangular channel iq_ex_00-1-01/' -> 'C:\\\\Users\\\\demouser\\\\Desktop\\\\Quantum\\\\data/2018-08-17/08-54-04-Rabi rectangular channel iq_ex_00-1-01/unfinished/'",
      "\nDuring handling of the above exception, another exception occurred:\n",
      "\u001b[1;31mError\u001b[0m                                     Traceback (most recent call last)",
      "\u001b[1;32m<ipython-input-63-9a3c5b7dc795>\u001b[0m in \u001b[0;36m<module>\u001b[1;34m()\u001b[0m\n\u001b[0;32m      1\u001b[0m \u001b[1;32mfor\u001b[0m \u001b[0mtwo_diff\u001b[0m \u001b[1;32min\u001b[0m \u001b[0mtwo_diffs\u001b[0m\u001b[1;33m:\u001b[0m\u001b[1;33m\u001b[0m\u001b[0m\n\u001b[1;32m----> 2\u001b[1;33m     \u001b[0mtwo_diff\u001b[0m\u001b[1;33m.\u001b[0m\u001b[0mRabi_rect\u001b[0m\u001b[1;33m(\u001b[0m\u001b[0mrabi_lengths\u001b[0m\u001b[1;33m)\u001b[0m\u001b[1;33m\u001b[0m\u001b[0m\n\u001b[0m",
      "\u001b[1;32mC:\\Users\\demouser\\Desktop\\Quantum\\qsweepy\\quantum_two_level_dynamics.py\u001b[0m in \u001b[0;36mRabi_rect\u001b[1;34m(self, lengths)\u001b[0m\n\u001b[0;32m     64\u001b[0m                 \u001b[0mroot_dir\u001b[0m\u001b[1;33m,\u001b[0m \u001b[0mday_folder_name\u001b[0m\u001b[1;33m,\u001b[0m \u001b[0mtime_folder_name\u001b[0m \u001b[1;33m=\u001b[0m \u001b[0msave_pkl\u001b[0m\u001b[1;33m.\u001b[0m\u001b[0mget_location\u001b[0m\u001b[1;33m(\u001b[0m\u001b[1;33m)\u001b[0m\u001b[1;33m\u001b[0m\u001b[0m\n\u001b[0;32m     65\u001b[0m                 \u001b[0mroot_dir\u001b[0m \u001b[1;33m=\u001b[0m \u001b[1;34m'{}/{}/{}-{}'\u001b[0m\u001b[1;33m.\u001b[0m\u001b[0mformat\u001b[0m\u001b[1;33m(\u001b[0m\u001b[0mroot_dir\u001b[0m\u001b[1;33m,\u001b[0m \u001b[0mday_folder_name\u001b[0m\u001b[1;33m,\u001b[0m \u001b[0mtime_folder_name\u001b[0m\u001b[1;33m,\u001b[0m \u001b[0mmeasurement_name\u001b[0m\u001b[1;33m)\u001b[0m\u001b[1;33m\u001b[0m\u001b[0m\n\u001b[1;32m---> 66\u001b[1;33m                 \u001b[0mmeasurement\u001b[0m \u001b[1;33m=\u001b[0m \u001b[0msweep\u001b[0m\u001b[1;33m.\u001b[0m\u001b[0msweep\u001b[0m\u001b[1;33m(\u001b[0m\u001b[0mself\u001b[0m\u001b[1;33m.\u001b[0m\u001b[0mreadout_device\u001b[0m\u001b[1;33m,\u001b[0m \u001b[1;33m(\u001b[0m\u001b[0mlengths\u001b[0m\u001b[1;33m,\u001b[0m \u001b[0mset_ex_length\u001b[0m\u001b[1;33m,\u001b[0m \u001b[1;34m'Rabi pulse length'\u001b[0m\u001b[1;33m,\u001b[0m \u001b[1;34m's'\u001b[0m\u001b[1;33m)\u001b[0m\u001b[1;33m,\u001b[0m \u001b[0mfilename\u001b[0m\u001b[1;33m=\u001b[0m\u001b[0mmeasurement_name\u001b[0m\u001b[1;33m,\u001b[0m \u001b[0mshuffle\u001b[0m\u001b[1;33m=\u001b[0m\u001b[0mself\u001b[0m\u001b[1;33m.\u001b[0m\u001b[0mshuffle\u001b[0m\u001b[1;33m,\u001b[0m \u001b[0mroot_dir\u001b[0m\u001b[1;33m=\u001b[0m\u001b[0mroot_dir\u001b[0m\u001b[1;33m)\u001b[0m\u001b[1;33m\u001b[0m\u001b[0m\n\u001b[0m\u001b[0;32m     67\u001b[0m                 \u001b[0mmeasurement_fitted\u001b[0m\u001b[1;33m,\u001b[0m \u001b[0mfitted_parameters\u001b[0m \u001b[1;33m=\u001b[0m \u001b[0mself\u001b[0m\u001b[1;33m.\u001b[0m\u001b[0mfitter\u001b[0m\u001b[1;33m(\u001b[0m\u001b[0mmeasurement\u001b[0m\u001b[1;33m,\u001b[0m \u001b[0mfitting\u001b[0m\u001b[1;33m.\u001b[0m\u001b[0mexp_sin_fit\u001b[0m\u001b[1;33m)\u001b[0m\u001b[1;33m\u001b[0m\u001b[0m\n\u001b[0;32m     68\u001b[0m                 \u001b[0mself\u001b[0m\u001b[1;33m.\u001b[0m\u001b[0mRabi_rect_result\u001b[0m \u001b[1;33m=\u001b[0m \u001b[1;33m{\u001b[0m\u001b[1;33m}\u001b[0m\u001b[1;33m\u001b[0m\u001b[0m\n",
      "\u001b[1;32mC:\\Users\\demouser\\Desktop\\Quantum\\qsweepy\\sweep.py\u001b[0m in \u001b[0;36msweep\u001b[1;34m(measurer, filename, root_dir, plot, plot_separate_thread, header, output, save, time_war_label, shuffle, bot, *params)\u001b[0m\n\u001b[0;32m    281\u001b[0m                 \u001b[0mstop_acq\u001b[0m \u001b[1;33m=\u001b[0m \u001b[1;32mTrue\u001b[0m\u001b[1;33m\u001b[0m\u001b[0m\n\u001b[0;32m    282\u001b[0m                 \u001b[0mpathlib\u001b[0m\u001b[1;33m.\u001b[0m\u001b[0mPath\u001b[0m\u001b[1;33m(\u001b[0m\u001b[0mdirectory_to\u001b[0m\u001b[1;33m)\u001b[0m\u001b[1;33m.\u001b[0m\u001b[0mparent\u001b[0m\u001b[1;33m.\u001b[0m\u001b[0mmkdir\u001b[0m\u001b[1;33m(\u001b[0m\u001b[0mparents\u001b[0m\u001b[1;33m=\u001b[0m\u001b[1;32mTrue\u001b[0m\u001b[1;33m,\u001b[0m \u001b[0mexist_ok\u001b[0m\u001b[1;33m=\u001b[0m\u001b[1;32mTrue\u001b[0m\u001b[1;33m)\u001b[0m \u001b[1;31m# create top-level directory for moving\u001b[0m\u001b[1;33m\u001b[0m\u001b[0m\n\u001b[1;32m--> 283\u001b[1;33m                 \u001b[0mdirectory_to\u001b[0m \u001b[1;33m=\u001b[0m \u001b[0msh\u001b[0m\u001b[1;33m.\u001b[0m\u001b[0mmove\u001b[0m\u001b[1;33m(\u001b[0m\u001b[0mdata_dir\u001b[0m\u001b[1;33m,\u001b[0m\u001b[0mdirectory_to\u001b[0m\u001b[1;33m)\u001b[0m\u001b[1;33m\u001b[0m\u001b[0m\n\u001b[0m\u001b[0;32m    284\u001b[0m                 \u001b[0mdata_dir\u001b[0m \u001b[1;33m=\u001b[0m \u001b[0mdirectory_to\u001b[0m\u001b[1;33m\u001b[0m\u001b[0m\n\u001b[0;32m    285\u001b[0m                 \u001b[1;32mraise\u001b[0m \u001b[1;31m# after finally\u001b[0m\u001b[1;33m\u001b[0m\u001b[0m\n",
      "\u001b[1;32mC:\\ProgramData\\Anaconda2\\envs\\py36\\lib\\shutil.py\u001b[0m in \u001b[0;36mmove\u001b[1;34m(src, dst, copy_function)\u001b[0m\n\u001b[0;32m    551\u001b[0m             \u001b[1;32mif\u001b[0m \u001b[0m_destinsrc\u001b[0m\u001b[1;33m(\u001b[0m\u001b[0msrc\u001b[0m\u001b[1;33m,\u001b[0m \u001b[0mdst\u001b[0m\u001b[1;33m)\u001b[0m\u001b[1;33m:\u001b[0m\u001b[1;33m\u001b[0m\u001b[0m\n\u001b[0;32m    552\u001b[0m                 raise Error(\"Cannot move a directory '%s' into itself\"\n\u001b[1;32m--> 553\u001b[1;33m                             \" '%s'.\" % (src, dst))\n\u001b[0m\u001b[0;32m    554\u001b[0m             copytree(src, real_dst, copy_function=copy_function,\n\u001b[0;32m    555\u001b[0m                      symlinks=True)\n",
      "\u001b[1;31mError\u001b[0m: Cannot move a directory 'C:\\Users\\demouser\\Desktop\\Quantum\\data/2018-08-17/08-54-04-Rabi rectangular channel iq_ex_00-1-01/' into itself 'C:\\Users\\demouser\\Desktop\\Quantum\\data/2018-08-17/08-54-04-Rabi rectangular channel iq_ex_00-1-01/unfinished/'."
     ]
    }
   ],
   "source": [
    "for two_diff in two_diffs:\n",
    "    two_diff.Rabi_rect(rabi_lengths)"
   ]
  },
  {
   "cell_type": "code",
   "execution_count": 41,
   "metadata": {},
   "outputs": [
    {
     "data": {
      "application/vnd.jupyter.widget-view+json": {
       "model_id": "5cba4e3679f84f1e89fb706b9b261916"
      }
     },
     "metadata": {},
     "output_type": "display_data"
    },
    {
     "name": "stdout",
     "output_type": "stream",
     "text": [
      "Started at:  Aug 16 2018 14:01:24\n",
      "\n",
      "Elapsed time: 0 h 7 m 22.67 s\n"
     ]
    },
    {
     "data": {
      "application/vnd.jupyter.widget-view+json": {
       "model_id": "d037a78d39c9437289024e68eef04fbd"
      }
     },
     "metadata": {},
     "output_type": "display_data"
    },
    {
     "name": "stdout",
     "output_type": "stream",
     "text": [
      "Started at:  Aug 16 2018 14:08:49\n",
      "\n",
      "Elapsed time: 0 h 8 m 16.09 s\n"
     ]
    },
    {
     "data": {
      "application/vnd.jupyter.widget-view+json": {
       "model_id": "04f059e0781e45a6b00c734b116d30fc"
      }
     },
     "metadata": {},
     "output_type": "display_data"
    },
    {
     "name": "stdout",
     "output_type": "stream",
     "text": [
      "Started at:  Aug 16 2018 14:17:08\n",
      "\n",
      "Elapsed time: 0 h 8 m 15.35 s\n"
     ]
    },
    {
     "data": {
      "application/vnd.jupyter.widget-view+json": {
       "model_id": "98ebfdf5b26d4d54a8afe6ac8a9af82a"
      }
     },
     "metadata": {},
     "output_type": "display_data"
    },
    {
     "name": "stdout",
     "output_type": "stream",
     "text": [
      "Started at:  Aug 16 2018 14:25:26\n",
      "\n",
      "Elapsed time: 0 h 8 m 11.95 s\n"
     ]
    },
    {
     "data": {
      "application/vnd.jupyter.widget-view+json": {
       "model_id": "784ce101dba44375b1be29c0bfa879d1"
      }
     },
     "metadata": {},
     "output_type": "display_data"
    },
    {
     "name": "stdout",
     "output_type": "stream",
     "text": [
      "Started at:  Aug 16 2018 14:33:41\n",
      "\n",
      "Elapsed time: 0 h 8 m 9.4 s\n"
     ]
    },
    {
     "data": {
      "application/vnd.jupyter.widget-view+json": {
       "model_id": "48b1bc08826c4a53a0ff48c63374027c"
      }
     },
     "metadata": {},
     "output_type": "display_data"
    },
    {
     "name": "stdout",
     "output_type": "stream",
     "text": [
      "Started at:  Aug 16 2018 14:41:54\n",
      "\n",
      "Elapsed time: 0 h 8 m 11.82 s\n"
     ]
    },
    {
     "data": {
      "application/vnd.jupyter.widget-view+json": {
       "model_id": "316ce90ec79a441b8fec063032c035b3"
      }
     },
     "metadata": {},
     "output_type": "display_data"
    },
    {
     "name": "stdout",
     "output_type": "stream",
     "text": [
      "Started at:  Aug 16 2018 14:50:09\n",
      "\n",
      "Elapsed time: 0 h 8 m 9.73 s\n"
     ]
    },
    {
     "data": {
      "application/vnd.jupyter.widget-view+json": {
       "model_id": "772278bd14c44aecbe8b1df77de295c6"
      }
     },
     "metadata": {},
     "output_type": "display_data"
    },
    {
     "name": "stdout",
     "output_type": "stream",
     "text": [
      "Started at:  Aug 16 2018 14:58:21\n",
      "\n",
      "Elapsed time: 0 h 8 m 12.86 s\n"
     ]
    }
   ],
   "source": [
    "ramsey = two_diff.Ramsey(delaysT2, target_freq_offset)"
   ]
  },
  {
   "cell_type": "code",
   "execution_count": 45,
   "metadata": {},
   "outputs": [
    {
     "data": {
      "application/vnd.jupyter.widget-view+json": {
       "model_id": "bb87d841744e441b916395a0e4620cb0"
      }
     },
     "metadata": {},
     "output_type": "display_data"
    },
    {
     "name": "stdout",
     "output_type": "stream",
     "text": [
      "Started at:  Aug 13 2018 15:31:33\n",
      "\n",
      "Elapsed time: 0 h 2 m 35.22 s\n"
     ]
    },
    {
     "data": {
      "application/vnd.jupyter.widget-view+json": {
       "model_id": "2abbd9be111a42be86d5eb89bd075857"
      }
     },
     "metadata": {},
     "output_type": "display_data"
    },
    {
     "name": "stdout",
     "output_type": "stream",
     "text": [
      "Started at:  Aug 13 2018 15:34:12\n",
      "\n",
      "Elapsed time: 0 h 2 m 35.39 s\n"
     ]
    },
    {
     "data": {
      "application/vnd.jupyter.widget-view+json": {
       "model_id": "da99b31107ec4ba4bf921b6c091da380"
      }
     },
     "metadata": {},
     "output_type": "display_data"
    },
    {
     "name": "stdout",
     "output_type": "stream",
     "text": [
      "Started at:  Aug 13 2018 15:36:51\n",
      "\n",
      "Elapsed time: 0 h 2 m 35.39 s\n"
     ]
    }
   ],
   "source": [
    "ramsey_coherence = two.Ramsey(delaysT2_coherence,target_freq_offset_coherence)"
   ]
  },
  {
   "cell_type": "code",
   "execution_count": null,
   "metadata": {},
   "outputs": [
    {
     "data": {
      "application/vnd.jupyter.widget-view+json": {
       "model_id": "19fc9fe4d9a644c5ad11aa94eb3690da"
      }
     },
     "metadata": {},
     "output_type": "display_data"
    },
    {
     "name": "stdout",
     "output_type": "stream",
     "text": [
      "Started at:  Aug 13 2018 15:39:29\n",
      "\n",
      "Elapsed time: 0 h 6 m 24.15 s\n"
     ]
    },
    {
     "data": {
      "application/vnd.jupyter.widget-view+json": {
       "model_id": "cf037c5ded2f4a528ea018895b15fa59"
      }
     },
     "metadata": {},
     "output_type": "display_data"
    },
    {
     "name": "stdout",
     "output_type": "stream",
     "text": [
      "Started at:  Aug 13 2018 15:45:56\n",
      "\n",
      "Elapsed time: 0 h 6 m 24.47 s\n"
     ]
    },
    {
     "data": {
      "application/vnd.jupyter.widget-view+json": {
       "model_id": "69ac266dcbe943d28727ee299c5b9501"
      }
     },
     "metadata": {},
     "output_type": "display_data"
    },
    {
     "name": "stdout",
     "output_type": "stream",
     "text": [
      "Started at:  Aug 13 2018 15:52:24\n",
      "\n",
      "Elapsed time: 0 h 6 m 25.12 s\n"
     ]
    },
    {
     "data": {
      "application/vnd.jupyter.widget-view+json": {
       "model_id": "4bc74212d69f485189f6432077826d3f"
      }
     },
     "metadata": {},
     "output_type": "display_data"
    },
    {
     "name": "stdout",
     "output_type": "stream",
     "text": [
      "Started at:  Aug 13 2018 15:58:52\n",
      "\n",
      "Elapsed time: 0 h 9 m 32.74 s\n",
      "[1.3794692981824419e-05, 24.60641839180165, -2.716570158387844, 22.071946660809864, -0.6655228218390573]\n"
     ]
    },
    {
     "data": {
      "application/vnd.jupyter.widget-view+json": {
       "model_id": "b75993245316400e8ff87e2d0b7d6da7"
      }
     },
     "metadata": {},
     "output_type": "display_data"
    },
    {
     "name": "stdout",
     "output_type": "stream",
     "text": [
      "Started at:  Aug 13 2018 16:08:28\n",
      "\n",
      "Elapsed time: 0 h 9 m 35.04 s\n",
      "[1.4164030560766766e-05, 22.928180295259235, 2.7613523669700633, 21.6787645579611, -0.07578201907346543]\n"
     ]
    },
    {
     "data": {
      "application/vnd.jupyter.widget-view+json": {
       "model_id": "7adadb8b278642e1b9d7a1cd827720fc"
      }
     },
     "metadata": {},
     "output_type": "display_data"
    },
    {
     "name": "stdout",
     "output_type": "stream",
     "text": [
      "Started at:  Aug 13 2018 16:18:06\n"
     ]
    }
   ],
   "source": [
    "adc.set_nums(30000)\n",
    "ramsey_coherence = two.Ramsey(delaysT2_coherence,target_freq_offset_coherence)\n",
    "decay = two.Decay(delaysT1)\n",
    "spinecho = two.SpinEcho(delaysT2_coherence,target_freq_offset_coherence)\n",
    "#spinecho = two.SpinEcho(delaysT2,target_freq_offset)"
   ]
  },
  {
   "cell_type": "code",
   "execution_count": null,
   "metadata": {
    "collapsed": true
   },
   "outputs": [],
   "source": [
    "two.rabi_fr"
   ]
  },
  {
   "cell_type": "code",
   "execution_count": null,
   "metadata": {
    "collapsed": true
   },
   "outputs": [],
   "source": [
    "adc.set_nums(30000)"
   ]
  },
  {
   "cell_type": "code",
   "execution_count": null,
   "metadata": {
    "collapsed": true
   },
   "outputs": [],
   "source": [
    "## Assesing qubit temparature\n",
    "#'iq_ex_00-1-01','iq_ex_01-1-02'\n",
    "max_length = 4/two.rabi_fr['iq_ex_01-1-02'] # four rabi periods\n",
    "lengths = np.linspace(0, max_length, 51)\n",
    "ex_amplitude = two.rabi_fr['amplitude']\n",
    "pi_pulse = 0.5/two.rabi_fr['iq_ex_00-1-01']\n",
    "\n",
    "\n",
    "readout_begin = np.max(lengths)+pi_pulse*2\n",
    "pg = two.params['pg']\n",
    "ro_channel = 'iq_ro'\n",
    "def set_ex_length(length, pi):\n",
    "    sequence = [pg.p(None, readout_begin-length-pi_pulse-pi_pulse*(1-pi)),\n",
    "               pg.p('iq_ex_00-1-01', pi_pulse, pg.rect, ex_amplitude*pi),\n",
    "               pg.p('iq_ex_01-1-02', length, pg.rect, ex_amplitude), \n",
    "               pg.p('ro_trg', two.readout['trg_length'], pg.rect, 1), \n",
    "               pg.p('iq_ro', two.readout['dac_len'], pg.rect, two.readout['amp'])]\n",
    "    pg.set_seq(sequence)\n",
    "    two.pulse_sequencer.run()\n",
    "    \n",
    "set_ex_length_zero = lambda length: set_ex_length(length, False)\n",
    "set_ex_length_one = lambda length: set_ex_length(length, True)\n",
    "\n",
    "measurement_name = 'Rabi 1-2 without 0-1 pi qubit #{}'.format(qubit_id)\n",
    "measurement_zero = sweep.sweep(two.readout_device, (lengths, set_ex_length_zero, 'Rabi 1-2 pulse length', 's'), filename=measurement_name)\n",
    "measurement_zero_fitted, fitted_parameters_zero = fitting.fit1d(measurement_zero, fitting.exp_sin_fit)\n",
    "\n",
    "measurement_name = 'Rabi 1-2 with 0-1 pi qubit #{}'.format(qubit_id)\n",
    "measurement_one = sweep.sweep(two.readout_device, (lengths, set_ex_length_one, 'Rabi 1-2 pulse length', 's'), filename=measurement_name)\n",
    "measurement_one_fitted, fitted_parameters_one = fitting.fit1d(measurement_one, fitting.exp_sin_fit)\n",
    "#rabi_freqs[ex_channel]=fitted_parameters['freq']\n",
    "#rabi_freqs[ex_channel+'_pi_pulse,1e-9'] = 0.5/fitted_parameters['freq']*1e9\n",
    "#annotation = 'Phase: {0:4.4g} rad, Freq: {1:4.4g}, Decay: {2:4.4g} s, \\n Excitation carrier frequency: {3:7.5g}, Readout carrier frequency: {4:7.5g}'.format(fitted_parameters['phase'], \n",
    "#                                                                             fitted_parameters['freq'], \n",
    "#                                                                             fitted_parameters['decay'],\n",
    "#                                                                             pg.channels[ex_channel].get_frequency(),\n",
    "#                                                                             pg.channels[ro_channel].get_frequency())\n",
    "#    save_pkl.save_pkl({'type':'Rabi','name': 'qubit{}'.format(self.params['qubit_id'])}, measurement_fitted, annotation=annotation, filename=measurement_name)\n",
    "#rabi_freqs['amplitude'] = self.ex_amplitude\n",
    "#if self.params['qubit_id']:\n",
    "#    rabi_freqs['qubit_id'] = self.params['qubit_id']\n",
    "#self.rabi_fr = rabi_freqs\n",
    "#qjson.dump(type='two-level',name = 'rabi', params=rabi_freqs)\t\n"
   ]
  },
  {
   "cell_type": "code",
   "execution_count": 69,
   "metadata": {},
   "outputs": [
    {
     "data": {
      "text/plain": [
       "({'amplitudes': array([ 0.35860345, -0.03318447]),\n",
       "  'decay': 1.2054137342913969e-06,\n",
       "  'freq': 4638642.0563159566,\n",
       "  'phase': 6.0692232655529388},\n",
       " {'amplitudes': array([ 1.72760246, -0.11694076]),\n",
       "  'decay': -0.013152470209205408,\n",
       "  'freq': 4629427.7797235586,\n",
       "  'phase': 6.2588210413552385})"
      ]
     },
     "execution_count": 69,
     "metadata": {},
     "output_type": "execute_result"
    }
   ],
   "source": [
    "#attempt 1\n",
    "fitted_parameters_zero, fitted_parameters_one"
   ]
  },
  {
   "cell_type": "code",
   "execution_count": 70,
   "metadata": {},
   "outputs": [
    {
     "name": "stdout",
     "output_type": "stream",
     "text": [
      "[ 0.2075729   0.28377166]\n"
     ]
    },
    {
     "data": {
      "text/plain": [
       "0.20798382479365637"
      ]
     },
     "execution_count": 70,
     "metadata": {},
     "output_type": "execute_result"
    }
   ],
   "source": [
    "#attempt 1\n",
    "print(fitted_parameters_zero['amplitudes']/fitted_parameters_one['amplitudes'])\n",
    "np.sqrt(np.sum(fitted_parameters_zero['amplitudes']**2)/np.sum(fitted_parameters_one['amplitudes']**2))"
   ]
  },
  {
   "cell_type": "code",
   "execution_count": null,
   "metadata": {
    "collapsed": true
   },
   "outputs": [],
   "source": [
    "decay = two.Decay(delaysT1)"
   ]
  },
  {
   "cell_type": "code",
   "execution_count": null,
   "metadata": {
    "collapsed": true
   },
   "outputs": [],
   "source": [
    "spinecho = two.SpinEcho(delaysT2_coherence,target_freq_offset_coherence)"
   ]
  },
  {
   "cell_type": "code",
   "execution_count": 127,
   "metadata": {},
   "outputs": [
    {
     "name": "stdout",
     "output_type": "stream",
     "text": [
      "C:\\Users\\demouser\\Desktop\\Quantum\\data/calibrations/two-level/ rabi\n"
     ]
    },
    {
     "data": {
      "text/plain": [
       "OrderedDict([('iq_ex_00-1-01', 24631945.694401607),\n",
       "             ('amplutude', 1.0),\n",
       "             ('qubit_id', 2)])"
      ]
     },
     "execution_count": 127,
     "metadata": {},
     "output_type": "execute_result"
    }
   ],
   "source": [
    "qjson.load('two-level','rabi')"
   ]
  },
  {
   "cell_type": "code",
   "execution_count": 42,
   "metadata": {
    "collapsed": true
   },
   "outputs": [],
   "source": [
    "rabi_f,t2,t1,t2_echo=None,None,None,None"
   ]
  },
  {
   "cell_type": "code",
   "execution_count": 53,
   "metadata": {},
   "outputs": [
    {
     "data": {
      "application/vnd.jupyter.widget-view+json": {
       "model_id": "28062271a9124b62a29379ab391b09f5"
      }
     },
     "metadata": {},
     "output_type": "display_data"
    },
    {
     "name": "stdout",
     "output_type": "stream",
     "text": [
      "Started at:  Aug 05 2018 13:08:43\n"
     ]
    },
    {
     "name": "stderr",
     "output_type": "stream",
     "text": [
      "C:\\ProgramData\\Anaconda2\\envs\\py36\\lib\\site-packages\\numpy\\lib\\function_base.py:2006: RuntimeWarning: invalid value encountered in remainder\n",
      "  ddmod = mod(dd + pi, 2*pi) - pi\n",
      "C:\\ProgramData\\Anaconda2\\envs\\py36\\lib\\site-packages\\numpy\\lib\\function_base.py:2007: RuntimeWarning: invalid value encountered in greater\n",
      "  _nx.copyto(ddmod, pi, where=(ddmod == -pi) & (dd > 0))\n",
      "C:\\ProgramData\\Anaconda2\\envs\\py36\\lib\\site-packages\\numpy\\lib\\function_base.py:2009: RuntimeWarning: invalid value encountered in less\n",
      "  _nx.copyto(ph_correct, 0, where=abs(dd) < discont)\n"
     ]
    },
    {
     "name": "stdout",
     "output_type": "stream",
     "text": [
      "\n",
      "Elapsed time: 0 h 0 m 18.87 s\n"
     ]
    },
    {
     "data": {
      "text/plain": [
       "{'amplutude': 1.0, 'iq_ex_00-1-01': 24631945.694401607, 'qubit_id': 2}"
      ]
     },
     "execution_count": 53,
     "metadata": {},
     "output_type": "execute_result"
    }
   ],
   "source": [
    "rabi_f=tm.Rabi(ex_channels,ex_amplitude,rabi_lengths,ro_par, qubit_id=qubit_id)\n",
    "rabi_f"
   ]
  },
  {
   "cell_type": "code",
   "execution_count": 61,
   "metadata": {},
   "outputs": [
    {
     "data": {
      "text/plain": [
       "4250830000.0"
      ]
     },
     "execution_count": 61,
     "metadata": {},
     "output_type": "execute_result"
    }
   ],
   "source": [
    "iq_ex.carriers['00-1-01'].get_frequency()"
   ]
  },
  {
   "cell_type": "code",
   "execution_count": 54,
   "metadata": {},
   "outputs": [
    {
     "name": "stdout",
     "output_type": "stream",
     "text": [
      "C:\\Users\\demouser\\Desktop\\Quantum\\data/calibrations/two-level/ rabi\n"
     ]
    },
    {
     "data": {
      "text/plain": [
       "OrderedDict([('iq_ex_00-1-01', 24631945.694401607),\n",
       "             ('amplutude', 1.0),\n",
       "             ('qubit_id', 2)])"
      ]
     },
     "execution_count": 54,
     "metadata": {},
     "output_type": "execute_result"
    }
   ],
   "source": [
    "qjson.load(type='two-level',name = 'rabi')"
   ]
  },
  {
   "cell_type": "code",
   "execution_count": null,
   "metadata": {
    "collapsed": true
   },
   "outputs": [],
   "source": [
    "qjson.load(type='two-level',name = 'rabi')"
   ]
  },
  {
   "cell_type": "code",
   "execution_count": 264,
   "metadata": {},
   "outputs": [
    {
     "data": {
      "application/vnd.jupyter.widget-view+json": {
       "model_id": "e1cadba880634f1cbdf7ce06f0c6944f"
      }
     },
     "metadata": {},
     "output_type": "display_data"
    },
    {
     "name": "stdout",
     "output_type": "stream",
     "text": [
      "Started at:  Aug 04 2018 00:20:22\n",
      "\n",
      "Elapsed time: 0 h 5 m 33.79 s\n"
     ]
    },
    {
     "data": {
      "text/plain": [
       "([20040796.833774608], [2.9188384588154897e-06])"
      ]
     },
     "execution_count": 264,
     "metadata": {},
     "output_type": "execute_result"
    }
   ],
   "source": [
    "ramsey_f,t2 = tm.Ramsey(ex_channels,ex_amplitude,delaysT2,target_freq_offset,rabi_f,ro_par)\n",
    "ramsey_f,t2"
   ]
  },
  {
   "cell_type": "code",
   "execution_count": 265,
   "metadata": {},
   "outputs": [
    {
     "name": "stdout",
     "output_type": "stream",
     "text": [
      "Transition: 00-1-01, frequency : 4.25087e+09\n",
      "Has been correctly set\n"
     ]
    }
   ],
   "source": [
    "offset=[freq+target_freq_offset for freq in ramsey_f]\n",
    "qubit_freqs=[iq_ex.carriers[num.split(\"_\")[-1]].get_frequency() for num in ex_channels]\n",
    "for num,freq in enumerate(qubit_freqs):\n",
    "    print(\"Transition: {0}, frequency : {1:4.6g}\".format(ex_channels[num].split(\"_\")[-1],freq+offset[num]))\n",
    "    if abs(offset[num])<0.5e6:\n",
    "        print(\"Has been correctly set\")"
   ]
  },
  {
   "cell_type": "code",
   "execution_count": 266,
   "metadata": {},
   "outputs": [
    {
     "data": {
      "application/vnd.jupyter.widget-view+json": {
       "model_id": "ac05626366e9482ead574cbe8d6205df"
      }
     },
     "metadata": {},
     "output_type": "display_data"
    },
    {
     "name": "stdout",
     "output_type": "stream",
     "text": [
      "Started at:  Aug 04 2018 00:26:13\n",
      "\n",
      "Elapsed time: 0 h 5 m 38.01 s\n"
     ]
    },
    {
     "data": {
      "text/plain": [
       "([3026385.0833507152], [3.0735294534033142e-06])"
      ]
     },
     "execution_count": 266,
     "metadata": {},
     "output_type": "execute_result"
    }
   ],
   "source": [
    "_,t2 = tm.Ramsey(ex_channels,ex_amplitude,delaysT2_coherence,target_freq_offset_coherence,rabi_f,ro_par)\n",
    "_,t2"
   ]
  },
  {
   "cell_type": "code",
   "execution_count": 267,
   "metadata": {},
   "outputs": [
    {
     "data": {
      "application/vnd.jupyter.widget-view+json": {
       "model_id": "c0e78405c4664427ae33c6d39337b87e"
      }
     },
     "metadata": {},
     "output_type": "display_data"
    },
    {
     "name": "stdout",
     "output_type": "stream",
     "text": [
      "Started at:  Aug 04 2018 00:32:06\n",
      "\n",
      "Elapsed time: 0 h 5 m 13.58 s\n",
      "[7.0841054115822614e-06, 3.00667106412929, 11.382825714324557, 78.08390999972121, 87.78325429637911, -5.651952917535551, 10.39947297552097, 73.20209980911905, 22.57685421469607]\n"
     ]
    },
    {
     "data": {
      "text/plain": [
       "[2.7522970075386288e-06]"
      ]
     },
     "execution_count": 267,
     "metadata": {},
     "output_type": "execute_result"
    }
   ],
   "source": [
    "t1 = tm.T1(ex_channels,ex_amplitude,delaysT1,rabi_f,ro_par)\n",
    "t1"
   ]
  },
  {
   "cell_type": "code",
   "execution_count": 268,
   "metadata": {},
   "outputs": [
    {
     "data": {
      "application/vnd.jupyter.widget-view+json": {
       "model_id": "0cb7cdcf4fde4879b6bed7df841df717"
      }
     },
     "metadata": {},
     "output_type": "display_data"
    },
    {
     "name": "stdout",
     "output_type": "stream",
     "text": [
      "Started at:  Aug 04 2018 00:37:33\n",
      "\n",
      "Elapsed time: 0 h 5 m 12.22 s\n"
     ]
    }
   ],
   "source": [
    "spin_echo_f,t2_echo = tm.SpinEcho(ex_channels,ex_amplitude,delaysT2_coherence,target_freq_offset_coherence,rabi_f,ro_par)"
   ]
  },
  {
   "cell_type": "code",
   "execution_count": null,
   "metadata": {
    "collapsed": true
   },
   "outputs": [],
   "source": [
    "time_mes_params = {\"Transition\":ex_channels,\"Rabi\":rabi_f,\"T_2_ramsey\":t2,\"T_2_echo\":t2_echo,\"T_1\":t1}"
   ]
  },
  {
   "cell_type": "code",
   "execution_count": 37,
   "metadata": {},
   "outputs": [
    {
     "name": "stdout",
     "output_type": "stream",
     "text": [
      "['iq_ex_01-1-02']\n",
      "[18699878.984630775]\n"
     ]
    }
   ],
   "source": [
    "for name,value in time_mes_params.items():\n",
    "    if value:\n",
    "        print(time_mes_params[name])"
   ]
  },
  {
   "cell_type": "code",
   "execution_count": null,
   "metadata": {
    "collapsed": true
   },
   "outputs": [],
   "source": [
    "to_json.dump('time_domain',(time_mes_params,))"
   ]
  },
  {
   "cell_type": "markdown",
   "metadata": {},
   "source": [
    "## Readout fidelity maximization"
   ]
  },
  {
   "cell_type": "code",
   "execution_count": 2,
   "metadata": {
    "collapsed": true
   },
   "outputs": [],
   "source": [
    "#rabi_freq = 14.68e6\n",
    "#pi_pulse = 0.5/rabi_freq\n",
    "rabi_f=[19.9e6]"
   ]
  },
  {
   "cell_type": "code",
   "execution_count": 270,
   "metadata": {
    "collapsed": true
   },
   "outputs": [],
   "source": [
    "imp.reload(pulses)\n",
    "imp.reload(single_shot_readout)\n",
    "imp.reload(readout_classifier)\n",
    "imp.reload(tomography)\n",
    "from sklearn.svm import LinearSVC\n",
    "from sklearn.calibration import CalibratedClassifierCV"
   ]
  },
  {
   "cell_type": "code",
   "execution_count": 271,
   "metadata": {
    "collapsed": true
   },
   "outputs": [],
   "source": [
    "#ex_calib_seq = [pg.p('iq_ex', length, pg.gauss_hd, amp_x, 0, sigma), pg.p(None, pause_length)]*2\n",
    "ex_calib_seq = [[],\n",
    "                [pg.p('iq_ex_00-1-01', 0.5/rabi_f[0], pg.rect, 1.0)]]\n",
    "                #[pg.p('iq_ex_00-2-02', 0.5/rabi_f[1], pg.rect, 1.0)]]#, pg.p(None, pause_length)]\n",
    "ro_seq = [pg.p('ro_trg', trg_length, pg.rect, 1), \n",
    "          pg.p('iq_ro', ro_dac_length, pg.rect, ro_amplitude)]\n",
    "#clf = CalibratedClassifierCV(base_estimator=LinearSVC())\n",
    "clf=readout_classifier.linear_classifier(cov_mode='equal')\n",
    "adc_downsampler = data_reduce.data_reduce(adc)\n",
    "adc_downsampler.filters['Voltage'] = data_reduce.downsample_reducer(adc, 'Voltage', 1, iq_ro.get_if(), 16, iq_axis=-1)\n",
    "adc_sz = single_shot_readout.single_shot_readout(adc_downsampler, ex_calib_seq, ro_seq, pg, _readout_classifier = clf)\n",
    "#adc_sz = single_shot_readout.single_shot_readout(adc, ex_calib_seq, ro_seq, pg, _readout_classifier = clf)\n",
    "adc_sz.save_last_samples = True\n",
    "#adc_sz.dump_measured_samples = True\n",
    "#adc.set_software_nums_multi(1)\n",
    "adc_sz.repeat_samples = 3\n",
    "\n",
    "def target_min():\n",
    "    F = 1-adc_sz.measure()['Calibrated ROC AUC']\n",
    "    print ('fidelity: ', 1-F)\n",
    "    return F\n",
    "\n",
    "class ro_pulse_generator:\n",
    "    def __init__(self, adc_sz, ro_amplitude, ro_dac_length):\n",
    "        self.ro_amplitude = ro_amplitude\n",
    "        self.ro_dac_length = ro_dac_length\n",
    "        self.adc_sz = adc_sz\n",
    "    def set_ro_freq(self, ro_freq):\n",
    "        iq_ro.set_uncal_frequency(ro_freq)\n",
    "        self.make_ro_seq()\n",
    "    def set_paramp_pump_freq(self, pump_freq):\n",
    "        lo_amp.set_frequency(pump_freq)\n",
    "    def set_paramp_pump_power(self, pump_power):\n",
    "        lo_amp.set_power(pump_power)\n",
    "    def set_paramp_bias_current(self, paramp_bias):\n",
    "        current_src2.set_current(paramp_bias)\n",
    "    def make_ro_seq(self):\n",
    "        adc_sz.ro_seq = [pg.p('ro_trg', trg_length, pg.rect, 1), pg.p('iq_ro', self.ro_dac_length, pg.rect, self.ro_amplitude)]\n",
    "        \n",
    "    def set_ro_length(self, ro_dac_length):\n",
    "        self.ro_dac_length = ro_dac_length\n",
    "        self.make_ro_seq()\n",
    "        adc_sz.measurement_name = 'ro_dac_length {0}ns ro_dac_amiltude {1:4.2f}'.format(int(self.ro_dac_length*1e9), self.ro_amplitude)\n",
    "    def set_ro_amplitude(self, ro_amplitude):\n",
    "        self.ro_amplitude = ro_amplitude\n",
    "        self.make_ro_seq()\n",
    "        adc_sz.measurement_name = 'ro_dac_length {0}ns ro_dac_amiltude {1:4.2f}'.format(int(self.ro_dac_length*1e9), self.ro_amplitude)\n",
    "\n",
    "ro_dac_lengths = np.linspace(0.025e-6,0.3e-6,30)\n",
    "ro_dac_amplitudes = np.linspace(0.02,0.3,30)\n",
    "\n",
    "ro_pulse_generator_inst = ro_pulse_generator(adc_sz, ro_amplitude, ro_dac_length)"
   ]
  },
  {
   "cell_type": "code",
   "execution_count": 272,
   "metadata": {
    "collapsed": true
   },
   "outputs": [],
   "source": [
    "ro_pulse_generator_inst.set_ro_length(0.06e-6)\n",
    "ro_pulse_generator_inst.set_ro_amplitude(0.2)"
   ]
  },
  {
   "cell_type": "code",
   "execution_count": 72,
   "metadata": {},
   "outputs": [
    {
     "data": {
      "text/plain": [
       "<matplotlib.legend.Legend at 0xfa95710>"
      ]
     },
     "execution_count": 72,
     "metadata": {},
     "output_type": "execute_result"
    }
   ],
   "source": [
    "plt.figure('Averaged samples')\n",
    "for _class_id in adc_sz.readout_classifier.class_averages.keys():\n",
    "    plt.plot(np.real(adc_sz.readout_classifier.class_averages[_class_id]), label='Re cls #'+str(_class_id))\n",
    "    plt.plot(np.imag(adc_sz.readout_classifier.class_averages[_class_id]), label='Im cls #'+str(_class_id))\n",
    "plt.legend()"
   ]
  },
  {
   "cell_type": "code",
   "execution_count": 164,
   "metadata": {},
   "outputs": [
    {
     "data": {
      "text/plain": [
       "(1.99920668157356e-09+0j)"
      ]
     },
     "execution_count": 164,
     "metadata": {},
     "output_type": "execute_result"
    }
   ],
   "source": [
    "adc_sz.readout_classifier.cov_inv"
   ]
  },
  {
   "cell_type": "code",
   "execution_count": 199,
   "metadata": {},
   "outputs": [
    {
     "data": {
      "text/plain": [
       "array([[ 0.00700183,  0.01098182,  0.01180221, ...,  0.00699728,\n",
       "         0.00893301,  0.01233556],\n",
       "       [ 0.00693094,  0.01123003,  0.01185499, ...,  0.00700142,\n",
       "         0.00902294,  0.01243899],\n",
       "       [ 0.00775351,  0.01124018,  0.0124809 , ...,  0.01026286,\n",
       "         0.00888636,  0.01473866]])"
      ]
     },
     "execution_count": 199,
     "metadata": {},
     "output_type": "execute_result"
    }
   ],
   "source": [
    "predictions = np.asarray(adc_sz.readout_classifier.dimreduce(adc_sz.calib_X))\n",
    "predictions\n",
    "#predictions = np.asarray(predictions - predictions[-1, :])[:-1, :]"
   ]
  },
  {
   "cell_type": "code",
   "execution_count": 166,
   "metadata": {},
   "outputs": [
    {
     "data": {
      "text/plain": [
       "<matplotlib.legend.Legend at 0x437442b0>"
      ]
     },
     "execution_count": 166,
     "metadata": {},
     "output_type": "execute_result"
    }
   ],
   "source": [
    "plt.figure('Features')\n",
    "for _class_id in adc_sz.readout_classifier.class_averages.keys():\n",
    "    plt.plot(np.real(adc_sz.readout_classifier.class_features[_class_id]), label='Re cls #'+str(_class_id))\n",
    "    plt.plot(np.imag(adc_sz.readout_classifier.class_features[_class_id]), label='Im cls #'+str(_class_id))\n",
    "plt.legend()"
   ]
  },
  {
   "cell_type": "code",
   "execution_count": 167,
   "metadata": {
    "collapsed": true
   },
   "outputs": [],
   "source": [
    "features = [adc_sz.readout_classifier.class_features[_class_id] for _class_id in [0,1,2]]"
   ]
  },
  {
   "cell_type": "code",
   "execution_count": 168,
   "metadata": {},
   "outputs": [
    {
     "data": {
      "text/plain": [
       "(array([[  1.50202876e-11,   1.49582377e-11,   1.19099910e-11],\n",
       "        [  1.49582377e-11,   1.70092715e-11,   1.48652421e-11],\n",
       "        [  1.19099910e-11,   1.48652421e-11,   1.55919074e-11]]),\n",
       " array([  3.87560158e-06,   4.12422981e-06,   3.94865894e-06]),\n",
       " array([[ 1.        ,  0.9358332 ,  0.77825637],\n",
       "        [ 0.9358332 ,  1.        ,  0.91280815],\n",
       "        [ 0.77825637,  0.91280815,  1.        ]]))"
      ]
     },
     "execution_count": 168,
     "metadata": {},
     "output_type": "execute_result"
    }
   ],
   "source": [
    "feature_similarity = np.real(np.dot(features, np.conj(features).T))\n",
    "feature_abs = np.sqrt([np.sum(np.abs(adc_sz.readout_classifier.class_features[_class_id])**2) for _class_id in [0,1,2]])\n",
    "feature_cosine_dist = feature_similarity/(np.reshape(feature_abs, (1, 3))*np.reshape(feature_abs, (3,1)))\n",
    "feature_similarity, feature_abs, feature_cosine_dist"
   ]
  },
  {
   "cell_type": "code",
   "execution_count": 169,
   "metadata": {},
   "outputs": [
    {
     "data": {
      "text/plain": [
       "<matplotlib.legend.Legend at 0x3f76d208>"
      ]
     },
     "execution_count": 169,
     "metadata": {},
     "output_type": "execute_result"
    }
   ],
   "source": [
    "plt.figure('Feature diff')\n",
    "for _class_id in [0,1]:\n",
    "    plt.plot(np.real(adc_sz.readout_classifier.class_features[_class_id]-adc_sz.readout_classifier.class_features[2]), label='Re cls #'+str(_class_id))\n",
    "    plt.plot(np.imag(adc_sz.readout_classifier.class_features[_class_id]-adc_sz.readout_classifier.class_features[2]), label='Im cls #'+str(_class_id))\n",
    "plt.legend()"
   ]
  },
  {
   "cell_type": "code",
   "execution_count": 171,
   "metadata": {},
   "outputs": [
    {
     "data": {
      "text/plain": [
       "(array([[  0.00000000e+00,   0.00000000e+00,   0.00000000e+00,\n",
       "           0.00000000e+00,   0.00000000e+00,   0.00000000e+00,\n",
       "           0.00000000e+00,   0.00000000e+00,   0.00000000e+00,\n",
       "           0.00000000e+00,   1.00000000e+00,   0.00000000e+00,\n",
       "           1.00000000e+00,   1.00000000e+00,   0.00000000e+00,\n",
       "           0.00000000e+00,   0.00000000e+00,   0.00000000e+00,\n",
       "           0.00000000e+00,   0.00000000e+00],\n",
       "        [  0.00000000e+00,   0.00000000e+00,   0.00000000e+00,\n",
       "           0.00000000e+00,   0.00000000e+00,   0.00000000e+00,\n",
       "           0.00000000e+00,   0.00000000e+00,   0.00000000e+00,\n",
       "           1.00000000e+00,   0.00000000e+00,   2.00000000e+00,\n",
       "           1.00000000e+00,   2.00000000e+00,   0.00000000e+00,\n",
       "           1.00000000e+00,   0.00000000e+00,   0.00000000e+00,\n",
       "           0.00000000e+00,   0.00000000e+00],\n",
       "        [  0.00000000e+00,   0.00000000e+00,   0.00000000e+00,\n",
       "           0.00000000e+00,   0.00000000e+00,   1.00000000e+00,\n",
       "           0.00000000e+00,   0.00000000e+00,   1.00000000e+00,\n",
       "           0.00000000e+00,   4.00000000e+00,   4.00000000e+00,\n",
       "           3.00000000e+00,   8.00000000e+00,   7.00000000e+00,\n",
       "           3.00000000e+00,   4.00000000e+00,   3.00000000e+00,\n",
       "           0.00000000e+00,   0.00000000e+00],\n",
       "        [  0.00000000e+00,   0.00000000e+00,   0.00000000e+00,\n",
       "           0.00000000e+00,   0.00000000e+00,   0.00000000e+00,\n",
       "           1.00000000e+00,   2.00000000e+00,   7.00000000e+00,\n",
       "           1.00000000e+01,   1.70000000e+01,   1.80000000e+01,\n",
       "           1.70000000e+01,   2.70000000e+01,   2.30000000e+01,\n",
       "           1.00000000e+01,   4.00000000e+00,   0.00000000e+00,\n",
       "           5.00000000e+00,   0.00000000e+00],\n",
       "        [  0.00000000e+00,   0.00000000e+00,   0.00000000e+00,\n",
       "           0.00000000e+00,   0.00000000e+00,   2.00000000e+00,\n",
       "           7.00000000e+00,   1.60000000e+01,   2.10000000e+01,\n",
       "           4.80000000e+01,   6.40000000e+01,   7.10000000e+01,\n",
       "           8.30000000e+01,   7.10000000e+01,   5.30000000e+01,\n",
       "           3.90000000e+01,   1.40000000e+01,   0.00000000e+00,\n",
       "           1.00000000e+00,   0.00000000e+00],\n",
       "        [  0.00000000e+00,   0.00000000e+00,   0.00000000e+00,\n",
       "           1.00000000e+00,   2.00000000e+00,   6.00000000e+00,\n",
       "           1.90000000e+01,   3.50000000e+01,   9.40000000e+01,\n",
       "           1.21000000e+02,   1.98000000e+02,   1.98000000e+02,\n",
       "           2.22000000e+02,   1.80000000e+02,   1.23000000e+02,\n",
       "           7.10000000e+01,   2.90000000e+01,   1.00000000e+01,\n",
       "           2.00000000e+00,   1.00000000e+00],\n",
       "        [  0.00000000e+00,   1.00000000e+00,   0.00000000e+00,\n",
       "           4.00000000e+00,   9.00000000e+00,   1.90000000e+01,\n",
       "           6.10000000e+01,   1.39000000e+02,   2.36000000e+02,\n",
       "           3.73000000e+02,   4.43000000e+02,   5.31000000e+02,\n",
       "           4.68000000e+02,   3.54000000e+02,   2.48000000e+02,\n",
       "           1.27000000e+02,   4.60000000e+01,   1.80000000e+01,\n",
       "           2.00000000e+00,   1.00000000e+00],\n",
       "        [  0.00000000e+00,   1.00000000e+00,   7.00000000e+00,\n",
       "           6.00000000e+00,   3.90000000e+01,   9.00000000e+01,\n",
       "           1.43000000e+02,   3.36000000e+02,   5.37000000e+02,\n",
       "           8.21000000e+02,   9.80000000e+02,   9.86000000e+02,\n",
       "           8.38000000e+02,   6.53000000e+02,   3.46000000e+02,\n",
       "           1.82000000e+02,   7.10000000e+01,   1.40000000e+01,\n",
       "           1.10000000e+01,   0.00000000e+00],\n",
       "        [  1.00000000e+00,   1.00000000e+00,   4.00000000e+00,\n",
       "           1.30000000e+01,   6.50000000e+01,   1.72000000e+02,\n",
       "           3.55000000e+02,   7.39000000e+02,   1.14500000e+03,\n",
       "           1.47600000e+03,   1.62000000e+03,   1.53300000e+03,\n",
       "           1.21300000e+03,   8.03000000e+02,   4.53000000e+02,\n",
       "           2.11000000e+02,   6.50000000e+01,   1.90000000e+01,\n",
       "           4.00000000e+00,   0.00000000e+00],\n",
       "        [  1.00000000e+00,   0.00000000e+00,   7.00000000e+00,\n",
       "           4.00000000e+01,   1.17000000e+02,   3.32000000e+02,\n",
       "           6.30000000e+02,   1.11700000e+03,   1.75100000e+03,\n",
       "           2.23100000e+03,   2.28800000e+03,   1.96100000e+03,\n",
       "           1.43400000e+03,   8.77000000e+02,   4.41000000e+02,\n",
       "           1.86000000e+02,   5.70000000e+01,   9.00000000e+00,\n",
       "           2.00000000e+00,   0.00000000e+00],\n",
       "        [  0.00000000e+00,   3.00000000e+00,   1.80000000e+01,\n",
       "           6.50000000e+01,   1.90000000e+02,   4.50000000e+02,\n",
       "           9.87000000e+02,   1.62700000e+03,   2.18600000e+03,\n",
       "           2.53100000e+03,   2.45400000e+03,   1.96800000e+03,\n",
       "           1.32500000e+03,   6.94000000e+02,   3.43000000e+02,\n",
       "           1.03000000e+02,   4.20000000e+01,   8.00000000e+00,\n",
       "           3.00000000e+00,   0.00000000e+00],\n",
       "        [  0.00000000e+00,   4.00000000e+00,   4.10000000e+01,\n",
       "           1.03000000e+02,   2.35000000e+02,   5.71000000e+02,\n",
       "           1.14700000e+03,   1.77700000e+03,   2.27400000e+03,\n",
       "           2.50100000e+03,   2.15300000e+03,   1.76100000e+03,\n",
       "           1.00500000e+03,   5.42000000e+02,   2.11000000e+02,\n",
       "           7.40000000e+01,   2.10000000e+01,   2.00000000e+00,\n",
       "           0.00000000e+00,   0.00000000e+00],\n",
       "        [  1.00000000e+00,   5.00000000e+00,   4.00000000e+01,\n",
       "           8.90000000e+01,   2.87000000e+02,   5.75000000e+02,\n",
       "           1.07400000e+03,   1.60000000e+03,   1.93300000e+03,\n",
       "           1.90900000e+03,   1.63700000e+03,   1.16800000e+03,\n",
       "           6.37000000e+02,   2.98000000e+02,   1.28000000e+02,\n",
       "           3.70000000e+01,   1.30000000e+01,   0.00000000e+00,\n",
       "           0.00000000e+00,   0.00000000e+00],\n",
       "        [  1.00000000e+00,   8.00000000e+00,   3.10000000e+01,\n",
       "           1.16000000e+02,   2.21000000e+02,   4.77000000e+02,\n",
       "           8.55000000e+02,   1.08700000e+03,   1.31900000e+03,\n",
       "           1.23000000e+03,   9.74000000e+02,   6.32000000e+02,\n",
       "           3.40000000e+02,   1.47000000e+02,   6.80000000e+01,\n",
       "           1.40000000e+01,   2.00000000e+00,   1.00000000e+00,\n",
       "           0.00000000e+00,   0.00000000e+00],\n",
       "        [  1.00000000e+00,   1.10000000e+01,   3.70000000e+01,\n",
       "           8.80000000e+01,   1.93000000e+02,   3.22000000e+02,\n",
       "           5.04000000e+02,   6.75000000e+02,   6.80000000e+02,\n",
       "           6.89000000e+02,   5.14000000e+02,   2.85000000e+02,\n",
       "           1.28000000e+02,   5.40000000e+01,   2.20000000e+01,\n",
       "           3.00000000e+00,   0.00000000e+00,   0.00000000e+00,\n",
       "           0.00000000e+00,   0.00000000e+00],\n",
       "        [  1.00000000e+00,   7.00000000e+00,   1.50000000e+01,\n",
       "           4.20000000e+01,   1.07000000e+02,   1.92000000e+02,\n",
       "           2.75000000e+02,   3.23000000e+02,   3.20000000e+02,\n",
       "           2.97000000e+02,   1.83000000e+02,   9.60000000e+01,\n",
       "           5.70000000e+01,   1.30000000e+01,   4.00000000e+00,\n",
       "           0.00000000e+00,   0.00000000e+00,   0.00000000e+00,\n",
       "           0.00000000e+00,   0.00000000e+00],\n",
       "        [  2.00000000e+00,   4.00000000e+00,   9.00000000e+00,\n",
       "           2.10000000e+01,   4.80000000e+01,   7.10000000e+01,\n",
       "           1.03000000e+02,   1.22000000e+02,   1.15000000e+02,\n",
       "           9.40000000e+01,   5.70000000e+01,   3.90000000e+01,\n",
       "           1.10000000e+01,   3.00000000e+00,   0.00000000e+00,\n",
       "           0.00000000e+00,   0.00000000e+00,   0.00000000e+00,\n",
       "           0.00000000e+00,   0.00000000e+00],\n",
       "        [  0.00000000e+00,   1.00000000e+00,   5.00000000e+00,\n",
       "           1.10000000e+01,   9.00000000e+00,   3.30000000e+01,\n",
       "           3.30000000e+01,   4.30000000e+01,   3.30000000e+01,\n",
       "           1.70000000e+01,   1.40000000e+01,   1.00000000e+01,\n",
       "           2.00000000e+00,   0.00000000e+00,   0.00000000e+00,\n",
       "           0.00000000e+00,   0.00000000e+00,   0.00000000e+00,\n",
       "           0.00000000e+00,   0.00000000e+00],\n",
       "        [  0.00000000e+00,   0.00000000e+00,   3.00000000e+00,\n",
       "           3.00000000e+00,   7.00000000e+00,   9.00000000e+00,\n",
       "           1.40000000e+01,   9.00000000e+00,   7.00000000e+00,\n",
       "           4.00000000e+00,   3.00000000e+00,   1.00000000e+00,\n",
       "           0.00000000e+00,   0.00000000e+00,   0.00000000e+00,\n",
       "           0.00000000e+00,   0.00000000e+00,   0.00000000e+00,\n",
       "           0.00000000e+00,   0.00000000e+00],\n",
       "        [  0.00000000e+00,   0.00000000e+00,   1.00000000e+00,\n",
       "           1.00000000e+00,   0.00000000e+00,   4.00000000e+00,\n",
       "           2.00000000e+00,   3.00000000e+00,   1.00000000e+00,\n",
       "           0.00000000e+00,   1.00000000e+00,   1.00000000e+00,\n",
       "           0.00000000e+00,   0.00000000e+00,   0.00000000e+00,\n",
       "           0.00000000e+00,   0.00000000e+00,   0.00000000e+00,\n",
       "           0.00000000e+00,   0.00000000e+00]]),\n",
       " array([ -3.02079911e-03,  -2.68960459e-03,  -2.35841008e-03,\n",
       "         -2.02721557e-03,  -1.69602106e-03,  -1.36482655e-03,\n",
       "         -1.03363204e-03,  -7.02437525e-04,  -3.71243013e-04,\n",
       "         -4.00485018e-05,   2.91146010e-04,   6.22340521e-04,\n",
       "          9.53535033e-04,   1.28472954e-03,   1.61592406e-03,\n",
       "          1.94711857e-03,   2.27831308e-03,   2.60950759e-03,\n",
       "          2.94070210e-03,   3.27189661e-03,   3.60309112e-03]),\n",
       " array([ -8.17937111e-03,  -7.36426103e-03,  -6.54915095e-03,\n",
       "         -5.73404087e-03,  -4.91893079e-03,  -4.10382071e-03,\n",
       "         -3.28871063e-03,  -2.47360055e-03,  -1.65849047e-03,\n",
       "         -8.43380390e-04,  -2.82703098e-05,   7.86839771e-04,\n",
       "          1.60194985e-03,   2.41705993e-03,   3.23217001e-03,\n",
       "          4.04728009e-03,   4.86239017e-03,   5.67750025e-03,\n",
       "          6.49261033e-03,   7.30772041e-03,   8.12283049e-03]),\n",
       " <matplotlib.image.AxesImage at 0x119c7ac8>)"
      ]
     },
     "execution_count": 171,
     "metadata": {},
     "output_type": "execute_result"
    }
   ],
   "source": [
    "plt.figure()\n",
    "plt.hist2d(*tuple(np.asarray(predictions - np.mean(predictions, axis=0))[1:, :].tolist()), bins=20)"
   ]
  },
  {
   "cell_type": "code",
   "execution_count": 308,
   "metadata": {},
   "outputs": [
    {
     "name": "stdout",
     "output_type": "stream",
     "text": [
      "(20, 20) (2, 277) (2, 123) (277,)\n"
     ]
    }
   ],
   "source": [
    "adc_sz.readout_classifier.naive_bayes(adc_sz.calib_X, adc_sz.calib_y)"
   ]
  },
  {
   "cell_type": "code",
   "execution_count": 311,
   "metadata": {},
   "outputs": [
    {
     "data": {
      "text/plain": [
       "<matplotlib.colorbar.Colorbar at 0x106eb0b8>"
      ]
     },
     "execution_count": 311,
     "metadata": {},
     "output_type": "execute_result"
    }
   ],
   "source": [
    "plt.figure(0)\n",
    "plt.pcolormesh(adc_sz.readout_classifier.probabilities[0,:])\n",
    "plt.colorbar()\n",
    "plt.figure(1)\n",
    "plt.pcolormesh(adc_sz.readout_classifier.probabilities[1,:])\n",
    "plt.colorbar()\n",
    "plt.figure(2)\n",
    "plt.pcolormesh(adc_sz.readout_classifier.probabilities[2,:])\n",
    "plt.colorbar()"
   ]
  },
  {
   "cell_type": "code",
   "execution_count": 61,
   "metadata": {},
   "outputs": [
    {
     "data": {
      "text/plain": [
       "<module 'qsweepy.sweep' from 'C:\\\\Users\\\\demouser\\\\Desktop\\\\Quantum\\\\qsweepy\\\\sweep.py'>"
      ]
     },
     "execution_count": 61,
     "metadata": {},
     "output_type": "execute_result"
    }
   ],
   "source": [
    "imp.reload(sweep)"
   ]
  },
  {
   "cell_type": "code",
   "execution_count": 179,
   "metadata": {
    "scrolled": true
   },
   "outputs": [
    {
     "name": "stdout",
     "output_type": "stream",
     "text": [
      "\n"
     ]
    },
    {
     "data": {
      "application/vnd.jupyter.widget-view+json": {
       "model_id": "257b0b62338d48db8da2ae1bcc54d3f5"
      }
     },
     "metadata": {},
     "output_type": "display_data"
    },
    {
     "name": "stdout",
     "output_type": "stream",
     "text": [
      "Started at:  Jul 28 2018 01:34:24\n",
      "predict clled, returned shape: (30000,)\n",
      "[[ 0.33485815  0.33289105  0.33225081]\n",
      " [ 0.33358589  0.33334573  0.33306838]\n",
      " [ 0.33308886  0.33351189  0.33339925]]\n",
      "predict clled, returned shape: (60000,)\n",
      "[[ 0.33741261  0.33159197  0.33099542]\n",
      " [ 0.33159197  0.33596389  0.33244414]\n",
      " [ 0.33099542  0.33244414  0.33656044]]\n",
      "predict clled, returned shape: (30000,)\n",
      "[[ 0.33332552  0.33299384  0.33368063]\n",
      " [ 0.332924    0.333634    0.33344201]\n",
      " [ 0.33331988  0.33271864  0.33396148]]\n",
      "predict clled, returned shape: (60000,)\n",
      "[[ 0.33633654  0.3317837   0.33187977]\n",
      " [ 0.3317837   0.33608317  0.33213313]\n",
      " [ 0.33187977  0.33213313  0.3359871 ]]\n",
      "predict clled, returned shape: (30000,)\n",
      "[[ 0.33338466  0.3334784   0.33313695]\n",
      " [ 0.33321439  0.33329072  0.3334949 ]\n",
      " [ 0.33306325  0.33282875  0.334108  ]]\n",
      "predict clled, returned shape: (60000,)\n",
      "[[ 0.33644567  0.3324405   0.33111384]\n",
      " [ 0.3324405   0.33548214  0.33207737]\n",
      " [ 0.33111384  0.33207737  0.3368088 ]]\n",
      "predict clled, returned shape: (30000,)\n",
      "[[ 0.34031801  0.33341849  0.3262635 ]\n",
      " [ 0.33266894  0.33408645  0.33324461]\n",
      " [ 0.32681294  0.33294982  0.34023724]]\n",
      "predict clled, returned shape: (60000,)\n",
      "[[ 0.34330623  0.332203    0.32449077]\n",
      " [ 0.332203    0.33617141  0.33162559]\n",
      " [ 0.32449077  0.33162559  0.34388364]]\n",
      "predict clled, returned shape: (30000,)\n",
      "[[ 0.33677352  0.33300959  0.33021689]\n",
      " [ 0.33250777  0.33337259  0.33411964]\n",
      " [ 0.32966933  0.33413766  0.33619301]]\n",
      "predict clled, returned shape: (60000,)\n",
      "[[ 0.33901321  0.3318505   0.32913629]\n",
      " [ 0.3318505   0.33558035  0.33256915]\n",
      " [ 0.32913629  0.33256915  0.33829455]]\n",
      "predict clled, returned shape: (30000,)\n",
      "[[ 0.33626496  0.3337421   0.32999294]\n",
      " [ 0.33357241  0.33331687  0.33311072]\n",
      " [ 0.33107161  0.33209297  0.33683543]]\n",
      "predict clled, returned shape: (60000,)\n",
      "[[ 0.33865854  0.33231679  0.32902468]\n",
      " [ 0.33231679  0.33639612  0.33128709]\n",
      " [ 0.32902468  0.33128709  0.33968823]]\n",
      "predict clled, returned shape: (30000,)\n",
      "[[ 0.3349066   0.33335586  0.33173754]\n",
      " [ 0.33375459  0.33345914  0.33278627]\n",
      " [ 0.33202239  0.33333693  0.33464068]]\n",
      "predict clled, returned shape: (60000,)\n",
      "[[ 0.33752511  0.33229325  0.33018164]\n",
      " [ 0.33229325  0.33567066  0.33203609]\n",
      " [ 0.33018164  0.33203609  0.33778226]]\n",
      "predict clled, returned shape: (30000,)\n",
      "[[ 0.33509572  0.33279837  0.33210591]\n",
      " [ 0.33338632  0.33336604  0.33324764]\n",
      " [ 0.3320286   0.33365833  0.33431307]]\n",
      "predict clled, returned shape: (60000,)\n",
      "[[ 0.33671058  0.33185334  0.33143608]\n",
      " [ 0.33185334  0.33601971  0.33212695]\n",
      " [ 0.33143608  0.33212695  0.33643697]]\n",
      "predict clled, returned shape: (30000,)\n",
      "[[ 0.34173636  0.33305432  0.32520931]\n",
      " [ 0.33242778  0.33322318  0.33434903]\n",
      " [ 0.32563725  0.33302175  0.34134099]]\n",
      "predict clled, returned shape: (60000,)\n",
      "[[ 0.34387098  0.33165259  0.32447643]\n",
      " [ 0.33165259  0.33602462  0.33232279]\n",
      " [ 0.32447643  0.33232279  0.34320077]]\n",
      "predict clled, returned shape: (30000,)\n",
      "[[ 0.3348587   0.33262002  0.33252128]\n",
      " [ 0.33312555  0.33322675  0.3336477 ]\n",
      " [ 0.33229246  0.3330498   0.33465774]]\n",
      "predict clled, returned shape: (60000,)\n",
      "[[ 0.33661328  0.33173069  0.33165603]\n",
      " [ 0.33173069  0.33593798  0.33233133]\n",
      " [ 0.33165603  0.33233133  0.33601264]]\n",
      "predict clled, returned shape: (30000,)\n",
      "[[ 0.33418048  0.33305688  0.33276264]\n",
      " [ 0.3334999   0.33364856  0.33285154]\n",
      " [ 0.33243342  0.3336874   0.33387919]]\n",
      "predict clled, returned shape: (60000,)\n",
      "[[ 0.33647463  0.3320987   0.33142667]\n",
      " [ 0.3320987   0.33610613  0.33179517]\n",
      " [ 0.33142667  0.33179517  0.33677817]]\n",
      "predict clled, returned shape: (30000,)\n",
      "[[ 0.33356553  0.33401041  0.33242406]\n",
      " [ 0.33268389  0.33447647  0.33283963]\n",
      " [ 0.33270798  0.33377831  0.33351371]]\n",
      "predict clled, returned shape: (60000,)\n",
      "[[ 0.33635514  0.33233348  0.33131138]\n",
      " [ 0.33233348  0.33631524  0.33135128]\n",
      " [ 0.33131138  0.33135128  0.33733733]]\n",
      "predict clled, returned shape: (30000,)\n",
      "[[ 0.34163507  0.33428059  0.32408433]\n",
      " [ 0.33433484  0.33387075  0.33179441]\n",
      " [ 0.32346702  0.33160486  0.34492813]]\n",
      "predict clled, returned shape: (60000,)\n",
      "[[ 0.34415265  0.33255448  0.32329287]\n",
      " [ 0.33255448  0.33669587  0.33074965]\n",
      " [ 0.32329287  0.33074965  0.34595748]]\n",
      "predict clled, returned shape: (30000,)\n",
      "[[ 0.36818572  0.33415094  0.29766334]\n",
      " [ 0.33374819  0.33672973  0.32952208]\n",
      " [ 0.29783149  0.33049269  0.37167582]]\n",
      "predict clled, returned shape: (60000,)\n",
      "[[ 0.37078995  0.3320502   0.29715985]\n",
      " [ 0.3320502   0.34011091  0.32783888]\n",
      " [ 0.29715985  0.32783888  0.37500127]]\n",
      "predict clled, returned shape: (30000,)\n",
      "[[ 0.35425508  0.33350662  0.3122383 ]\n",
      " [ 0.33495978  0.33374302  0.3312972 ]\n",
      " [ 0.31287359  0.33302026  0.35410614]]\n",
      "predict clled, returned shape: (60000,)\n",
      "[[ 0.35618508  0.3323405   0.31147442]\n",
      " [ 0.3323405   0.33671809  0.33094141]\n",
      " [ 0.31147442  0.33094141  0.35758417]]\n",
      "predict clled, returned shape: (30000,)\n",
      "[[ 0.33911831  0.33151826  0.32936343]\n",
      " [ 0.33159773  0.33446498  0.33393728]\n",
      " [ 0.33000664  0.3340955   0.33589786]]\n",
      "predict clled, returned shape: (60000,)\n",
      "[[ 0.34105249  0.33075113  0.32819638]\n",
      " [ 0.33075113  0.33609553  0.33315335]\n",
      " [ 0.32819638  0.33315335  0.33865027]]\n",
      "predict clled, returned shape: (30000,)\n",
      "[[ 0.35190992  0.33453044  0.31355964]\n",
      " [ 0.33311232  0.3341661   0.33272159]\n",
      " [ 0.31485513  0.33220379  0.35294108]]\n",
      "predict clled, returned shape: (60000,)\n",
      "[[ 0.35642021  0.3324692   0.31111059]\n",
      " [ 0.3324692   0.33703578  0.33049502]\n",
      " [ 0.31111059  0.33049502  0.35839438]]\n",
      "predict clled, returned shape: (30000,)\n",
      "[[ 0.345183    0.33567431  0.31914269]\n",
      " [ 0.33339286  0.33495183  0.3316553 ]\n",
      " [ 0.31954592  0.32839338  0.35206069]]\n",
      "predict clled, returned shape: (60000,)\n",
      "[[ 0.34682329  0.33396455  0.31921216]\n",
      " [ 0.33396455  0.33830376  0.32773169]\n",
      " [ 0.31921216  0.32773169  0.35305615]]\n",
      "predict clled, returned shape: (30000,)\n",
      "[[ 0.35490381  0.33217718  0.31291902]\n",
      " [ 0.33368209  0.33456801  0.33174991]\n",
      " [ 0.31721915  0.33367865  0.34910219]]\n",
      "predict clled, returned shape: (60000,)\n",
      "[[ 0.35594413  0.33088567  0.3131702 ]\n",
      " [ 0.33088567  0.33714676  0.33196758]\n",
      " [ 0.3131702   0.33196758  0.35486222]]\n",
      "predict clled, returned shape: (30000,)\n",
      "[[ 0.34414988  0.33206408  0.32378604]\n",
      " [ 0.33147368  0.3345484   0.33397791]\n",
      " [ 0.32288017  0.33468838  0.34243145]]\n",
      "predict clled, returned shape: (60000,)\n",
      "[[ 0.34779497  0.33051397  0.32169105]\n",
      " [ 0.33051397  0.33650618  0.33297985]\n",
      " [ 0.32169105  0.33297985  0.3453291 ]]\n",
      "predict clled, returned shape: (30000,)\n",
      "[[ 0.36594779  0.33348931  0.3005629 ]\n",
      " [ 0.33118385  0.33575023  0.33306591]\n",
      " [ 0.29937632  0.33123327  0.36939041]]\n",
      "predict clled, returned shape: (60000,)\n",
      "[[ 0.36814725  0.33188895  0.2999638 ]\n",
      " [ 0.33188895  0.33871036  0.32940069]\n",
      " [ 0.2999638   0.32940069  0.3706355 ]]\n",
      "predict clled, returned shape: (30000,)\n",
      "[[ 0.36751582  0.33472721  0.29775698]\n",
      " [ 0.33319651  0.34344021  0.32336328]\n",
      " [ 0.29590782  0.32050363  0.38358854]]\n",
      "predict clled, returned shape: (60000,)\n",
      "[[ 0.37102248  0.33359154  0.29538599]\n",
      " [ 0.33359154  0.34668139  0.31972707]\n",
      " [ 0.29538599  0.31972707  0.38488694]]\n",
      "predict clled, returned shape: (30000,)\n",
      "[[ 0.37704374  0.33417996  0.2887763 ]\n",
      " [ 0.33501512  0.33975679  0.32522809]\n",
      " [ 0.28873558  0.32558955  0.38567487]]\n",
      "predict clled, returned shape: (60000,)\n",
      "[[ 0.38039344  0.33260102  0.28700554]\n",
      " [ 0.33260102  0.3417749   0.32562408]\n",
      " [ 0.28700554  0.32562408  0.38737038]]\n",
      "predict clled, returned shape: (30000,)\n",
      "[[ 0.35369474  0.33305408  0.31325118]\n",
      " [ 0.33158841  0.33515879  0.3332528 ]\n",
      " [ 0.31322556  0.33286674  0.35390771]]\n",
      "predict clled, returned shape: (60000,)\n",
      "[[ 0.35745844  0.33151407  0.31102749]\n",
      " [ 0.33151407  0.33761396  0.33087197]\n",
      " [ 0.31102749  0.33087197  0.35810054]]\n",
      "predict clled, returned shape: (30000,)\n",
      "[[ 0.37087022  0.33877367  0.29035611]\n",
      " [ 0.33618682  0.34169784  0.32211534]\n",
      " [ 0.29076682  0.31915699  0.39007619]]\n",
      "predict clled, returned shape: (60000,)\n",
      "[[ 0.37250662  0.33678683  0.29070655]\n",
      " [ 0.33678683  0.34494792  0.31826524]\n",
      " [ 0.29070655  0.31826524  0.39102821]]\n",
      "predict clled, returned shape: (30000,)\n",
      "[[ 0.35259406  0.33521897  0.31218697]\n",
      " [ 0.33688724  0.3354967   0.32761606]\n",
      " [ 0.31305587  0.33030296  0.35664116]]\n",
      "predict clled, returned shape: (60000,)\n",
      "[[ 0.35414006  0.33422495  0.31163499]\n",
      " [ 0.33422495  0.33703669  0.32873835]\n",
      " [ 0.31163499  0.32873835  0.35962666]]\n",
      "predict clled, returned shape: (30000,)\n",
      "[[ 0.33616656  0.33454405  0.32928939]\n",
      " [ 0.33420796  0.33284558  0.33294646]\n",
      " [ 0.32928269  0.33238154  0.33833578]]\n",
      "predict clled, returned shape: (60000,)\n",
      "[[ 0.33885258  0.33260168  0.32854574]\n",
      " [ 0.33260168  0.33643344  0.33096488]\n",
      " [ 0.32854574  0.33096488  0.34048938]]\n",
      "predict clled, returned shape: (30000,)\n",
      "[[ 0.35284607  0.33784134  0.3093126 ]\n",
      " [ 0.33696691  0.33918888  0.32384421]\n",
      " [ 0.31063205  0.32329408  0.36607387]]\n",
      "predict clled, returned shape: (60000,)\n",
      "[[ 0.35550805  0.3361745   0.30831745]\n",
      " [ 0.3361745   0.34199643  0.32182906]\n",
      " [ 0.30831745  0.32182906  0.36985349]]\n",
      "predict clled, returned shape: (30000,)\n",
      "[[ 0.3560212   0.3381797   0.3057991 ]\n",
      " [ 0.3387833   0.34431007  0.31690663]\n",
      " [ 0.30186159  0.31457739  0.38356102]]\n",
      "predict clled, returned shape: (60000,)\n",
      "[[ 0.36071151  0.3359707   0.30331778]\n",
      " [ 0.3359707   0.34848202  0.31554728]\n",
      " [ 0.30331778  0.31554728  0.38113494]]\n",
      "predict clled, returned shape: (30000,)\n",
      "[[ 0.3457977   0.33037424  0.32382806]\n",
      " [ 0.33137668  0.33438445  0.33423887]\n",
      " [ 0.32541456  0.33533429  0.33925115]]\n",
      "predict clled, returned shape: (60000,)\n",
      "[[ 0.34844577  0.32897658  0.32257766]\n",
      " [ 0.32897658  0.33672095  0.33430248]\n",
      " [ 0.32257766  0.33430248  0.34311987]]\n",
      "predict clled, returned shape: (30000,)\n",
      "[[ 0.36448957  0.33196438  0.30354605]\n",
      " [ 0.33227184  0.34694534  0.32078282]\n",
      " [ 0.30511433  0.31973321  0.37515246]]\n",
      "predict clled, returned shape: (60000,)\n",
      "[[ 0.36614264  0.33123861  0.30261874]\n",
      " [ 0.33123861  0.35072166  0.31803973]\n",
      " [ 0.30261874  0.31803973  0.37934153]]\n",
      "predict clled, returned shape: (30000,)\n",
      "[[ 0.34593512  0.33744588  0.316619  ]\n",
      " [ 0.33709105  0.33660157  0.32630738]\n",
      " [ 0.31728895  0.32627391  0.35643714]]\n",
      "predict clled, returned shape: (60000,)\n",
      "[[ 0.34831687  0.33599097  0.31569216]\n",
      " [ 0.33599097  0.33936143  0.32464759]\n",
      " [ 0.31569216  0.32464759  0.35966025]]\n",
      "predict clled, returned shape: (30000,)\n",
      "[[ 0.33738008  0.33517868  0.32744124]\n",
      " [ 0.33451706  0.33448707  0.33099587]\n",
      " [ 0.32859601  0.32936552  0.34203847]]\n",
      "predict clled, returned shape: (60000,)\n",
      "[[ 0.33932365  0.33306961  0.32760674]\n",
      " [ 0.33306961  0.3381397   0.32879069]\n",
      " [ 0.32760674  0.32879069  0.34360257]]\n",
      "predict clled, returned shape: (30000,)\n",
      "[[ 0.34065663  0.33404413  0.32529923]\n",
      " [ 0.3339693   0.33446688  0.33156383]\n",
      " [ 0.32606611  0.33158039  0.3423535 ]]\n",
      "predict clled, returned shape: (60000,)\n",
      "[[ 0.34205682  0.33264278  0.3253004 ]\n",
      " [ 0.33264278  0.33649193  0.33086529]\n",
      " [ 0.3253004   0.33086529  0.34383431]]\n",
      "predict clled, returned shape: (30000,)\n",
      "[[ 0.34582775  0.33557754  0.31859471]\n",
      " [ 0.33499733  0.339159    0.32584367]\n",
      " [ 0.31801427  0.32547699  0.35650874]]\n",
      "predict clled, returned shape: (60000,)\n",
      "[[ 0.34927229  0.33396255  0.31676517]\n",
      " [ 0.33396255  0.34272318  0.32331427]\n",
      " [ 0.31676517  0.32331427  0.35992056]]\n",
      "predict clled, returned shape: (30000,)\n",
      "[[ 0.34119344  0.33610458  0.32270198]\n",
      " [ 0.33561092  0.33767819  0.32671089]\n",
      " [ 0.32296873  0.32634516  0.35068611]]\n",
      "predict clled, returned shape: (60000,)\n",
      "[[ 0.34231505  0.33512242  0.32256253]\n",
      " [ 0.33512242  0.3394295   0.32544808]\n",
      " [ 0.32256253  0.32544808  0.35198939]]\n",
      "predict clled, returned shape: (30000,)\n",
      "[[ 0.37556594  0.33456588  0.28986818]\n",
      " [ 0.33617563  0.34561815  0.31820622]\n",
      " [ 0.28781657  0.3200846   0.39209883]]\n",
      "predict clled, returned shape: (60000,)\n",
      "[[ 0.37984145  0.33259752  0.28756102]\n",
      " [ 0.33259752  0.34805406  0.31934842]\n",
      " [ 0.28756102  0.31934842  0.39309056]]\n",
      "predict clled, returned shape: (30000,)\n",
      "[[ 0.35575836  0.33430308  0.30993856]\n",
      " [ 0.33323038  0.33835372  0.32841591]\n",
      " [ 0.30869745  0.328162    0.36314055]]\n",
      "predict clled, returned shape: (60000,)\n",
      "[[ 0.35900312  0.33273015  0.30826673]\n",
      " [ 0.33273015  0.34011803  0.32715183]\n",
      " [ 0.30826673  0.32715183  0.36458144]]\n",
      "predict clled, returned shape: (30000,)\n",
      "[[ 0.35650723  0.33549579  0.30799699]\n",
      " [ 0.33450388  0.33504605  0.33045007]\n",
      " [ 0.30857187  0.32796182  0.36346631]]\n",
      "predict clled, returned shape: (60000,)\n",
      "[[ 0.35797087  0.33517507  0.30685406]\n",
      " [ 0.33517507  0.33874679  0.32607814]\n",
      " [ 0.30685406  0.32607814  0.3670678 ]]\n",
      "predict clled, returned shape: (30000,)\n",
      "[[ 0.34854283  0.33375918  0.317698  ]\n",
      " [ 0.33430823  0.33385813  0.33183364]\n",
      " [ 0.31629873  0.33241697  0.3512843 ]]\n",
      "predict clled, returned shape: (60000,)\n",
      "[[ 0.35038252  0.332204    0.31741348]\n",
      " [ 0.332204    0.33678403  0.33101197]\n",
      " [ 0.31741348  0.33101197  0.35157455]]\n",
      "predict clled, returned shape: (30000,)\n",
      "[[ 0.3637041   0.33433483  0.30196107]\n",
      " [ 0.33383909  0.33755248  0.32860842]\n",
      " [ 0.30115775  0.32736371  0.37147854]]\n",
      "predict clled, returned shape: (60000,)\n",
      "[[ 0.36736263  0.33338893  0.29924844]\n",
      " [ 0.33338893  0.34099395  0.32561712]\n",
      " [ 0.29924844  0.32561712  0.37513444]]\n",
      "predict clled, returned shape: (30000,)\n",
      "[[ 0.34100388  0.3339748   0.32502132]\n",
      " [ 0.33315336  0.33399768  0.33284896]\n",
      " [ 0.32818203  0.33133021  0.34048776]]\n",
      "predict clled, returned shape: (60000,)\n",
      "[[ 0.34298615  0.33263581  0.32437803]\n",
      " [ 0.33263581  0.33766331  0.32970087]\n",
      " [ 0.32437803  0.32970087  0.3459211 ]]\n",
      "predict clled, returned shape: (30000,)\n",
      "[[ 0.33471841  0.33332106  0.33196053]\n",
      " [ 0.33375224  0.33431842  0.33192934]\n",
      " [ 0.33165485  0.330986    0.33735916]]\n",
      "predict clled, returned shape: (60000,)\n",
      "[[ 0.3382565   0.33212831  0.3296152 ]\n",
      " [ 0.33212831  0.3375811   0.3302906 ]\n",
      " [ 0.3296152   0.3302906   0.3400942 ]]\n",
      "predict clled, returned shape: (30000,)\n",
      "[[ 0.34981671  0.33698754  0.31319575]\n",
      " [ 0.33686423  0.33659015  0.32654562]\n",
      " [ 0.31307496  0.32597507  0.36094996]]\n",
      "predict clled, returned shape: (60000,)\n",
      "[[ 0.3539674   0.3351674   0.3108652 ]\n",
      " [ 0.3351674   0.34019321  0.32463939]\n",
      " [ 0.3108652   0.32463939  0.36449541]]\n",
      "predict clled, returned shape: (30000,)\n",
      "[[ 0.37577764  0.33251035  0.29171201]\n",
      " [ 0.33343752  0.34045988  0.3261026 ]\n",
      " [ 0.2905708   0.32867965  0.38074955]]\n",
      "predict clled, returned shape: (60000,)\n",
      "[[ 0.37886404  0.33104671  0.29008925]\n",
      " [ 0.33104671  0.34234533  0.32660797]\n",
      " [ 0.29008925  0.32660797  0.38330278]]\n",
      "predict clled, returned shape: (30000,)\n",
      "[[ 0.337889    0.33332322  0.32878778]\n",
      " [ 0.33381961  0.33372486  0.33245553]\n",
      " [ 0.32912846  0.33213396  0.33873758]]\n",
      "predict clled, returned shape: (60000,)\n",
      "[[ 0.34066657  0.33242657  0.32690687]\n",
      " [ 0.33242657  0.33597874  0.33159469]\n",
      " [ 0.32690687  0.33159469  0.34149844]]\n",
      "predict clled, returned shape: (30000,)\n",
      "[[ 0.33785124  0.33171872  0.33043004]\n",
      " [ 0.33132023  0.33453288  0.33414688]\n",
      " [ 0.33164139  0.33414713  0.33421148]]\n",
      "predict clled, returned shape: (60000,)\n",
      "[[ 0.34009368  0.3302478   0.32965852]\n",
      " [ 0.3302478   0.3369686   0.33278361]\n",
      " [ 0.32965852  0.33278361  0.33755787]]\n",
      "predict clled, returned shape: (30000,)\n",
      "[[ 0.36763888  0.33047726  0.30188386]\n",
      " [ 0.33165761  0.34007087  0.32827152]\n",
      " [ 0.29927362  0.33080248  0.36992389]]\n",
      "predict clled, returned shape: (60000,)\n",
      "[[ 0.37057232  0.3290722   0.30035548]\n",
      " [ 0.3290722   0.34157051  0.32935729]\n",
      " [ 0.30035548  0.32935729  0.37028723]]\n",
      "predict clled, returned shape: (30000,)\n",
      "[[ 0.37640728  0.32918166  0.29441105]\n",
      " [ 0.32898124  0.33641981  0.33459895]\n",
      " [ 0.29823911  0.33344036  0.36832053]]\n",
      "predict clled, returned shape: (60000,)\n",
      "[[ 0.37693764  0.32822938  0.29483298]\n",
      " [ 0.32822938  0.33946326  0.33230736]\n",
      " [ 0.29483298  0.33230736  0.37285966]]\n",
      "predict clled, returned shape: (30000,)\n",
      "[[ 0.36020944  0.32933139  0.31045918]\n",
      " [ 0.33111601  0.33640667  0.33247733]\n",
      " [ 0.3111685   0.33316552  0.35566597]]\n",
      "predict clled, returned shape: (60000,)\n",
      "[[ 0.36240475  0.32800358  0.30959167]\n",
      " [ 0.32800358  0.33997218  0.33202423]\n",
      " [ 0.30959167  0.33202423  0.3583841 ]]\n",
      "predict clled, returned shape: (30000,)\n",
      "[[ 0.34345071  0.33093687  0.32561242]\n",
      " [ 0.33170453  0.3338289   0.33446657]\n",
      " [ 0.32553608  0.33490975  0.33955417]]\n",
      "predict clled, returned shape: (60000,)\n",
      "[[ 0.34647378  0.33006423  0.32346198]\n",
      " [ 0.33006423  0.33612681  0.33380896]\n",
      " [ 0.32346198  0.33380896  0.34272905]]\n"
     ]
    },
    {
     "ename": "KeyboardInterrupt",
     "evalue": "",
     "output_type": "error",
     "traceback": [
      "\u001b[1;31m---------------------------------------------------------------------------\u001b[0m",
      "\u001b[1;31mKeyboardInterrupt\u001b[0m                         Traceback (most recent call last)",
      "\u001b[1;32m<ipython-input-179-efd91d0e53e2>\u001b[0m in \u001b[0;36m<module>\u001b[1;34m()\u001b[0m\n\u001b[1;32m----> 1\u001b[1;33m \u001b[0msweep\u001b[0m\u001b[1;33m.\u001b[0m\u001b[0msweep\u001b[0m\u001b[1;33m(\u001b[0m\u001b[0madc_sz\u001b[0m\u001b[1;33m,\u001b[0m \u001b[1;33m(\u001b[0m\u001b[0mro_dac_amplitudes\u001b[0m\u001b[1;33m,\u001b[0m \u001b[0mro_pulse_generator_inst\u001b[0m\u001b[1;33m.\u001b[0m\u001b[0mset_ro_amplitude\u001b[0m\u001b[1;33m,\u001b[0m \u001b[1;34m'Readout pulse amplitude'\u001b[0m\u001b[1;33m)\u001b[0m\u001b[1;33m,\u001b[0m \u001b[0mfilename\u001b[0m\u001b[1;33m=\u001b[0m\u001b[1;34m'Readout fidelity'\u001b[0m\u001b[1;33m)\u001b[0m\u001b[1;33m\u001b[0m\u001b[0m\n\u001b[0m",
      "\u001b[1;32mC:\\Users\\demouser\\Desktop\\Quantum\\qsweepy\\sweep.py\u001b[0m in \u001b[0;36msweep\u001b[1;34m(measurer, filename, root_dir, plot, plot_separate_thread, header, output, save, time_war_label, bot, *params)\u001b[0m\n\u001b[0;32m    261\u001b[0m                         \u001b[0macq_thread\u001b[0m \u001b[1;33m=\u001b[0m \u001b[0mthreading\u001b[0m\u001b[1;33m.\u001b[0m\u001b[0mThread\u001b[0m\u001b[1;33m(\u001b[0m\u001b[0mtarget\u001b[0m\u001b[1;33m=\u001b[0m\u001b[0mmain_sweep_loop\u001b[0m\u001b[1;33m)\u001b[0m\u001b[1;33m\u001b[0m\u001b[0m\n\u001b[0;32m    262\u001b[0m                         \u001b[0macq_thread\u001b[0m\u001b[1;33m.\u001b[0m\u001b[0mstart\u001b[0m\u001b[1;33m(\u001b[0m\u001b[1;33m)\u001b[0m\u001b[1;33m\u001b[0m\u001b[0m\n\u001b[1;32m--> 263\u001b[1;33m                         \u001b[0mplot_thread\u001b[0m\u001b[1;33m(\u001b[0m\u001b[1;33m)\u001b[0m\u001b[1;33m\u001b[0m\u001b[0m\n\u001b[0m\u001b[0;32m    264\u001b[0m \u001b[1;33m\u001b[0m\u001b[0m\n\u001b[0;32m    265\u001b[0m                 \u001b[1;32mif\u001b[0m \u001b[1;33m(\u001b[0m\u001b[0mtime_war_label\u001b[0m\u001b[1;33m)\u001b[0m\u001b[1;33m:\u001b[0m\u001b[1;33m\u001b[0m\u001b[0m\n",
      "\u001b[1;32mC:\\Users\\demouser\\Desktop\\Quantum\\qsweepy\\sweep.py\u001b[0m in \u001b[0;36mplot_thread\u001b[1;34m()\u001b[0m\n\u001b[0;32m    255\u001b[0m                                         \u001b[1;32mif\u001b[0m \u001b[0mplot_thread_point_id\u001b[0m \u001b[1;33m>=\u001b[0m \u001b[0mnp\u001b[0m\u001b[1;33m.\u001b[0m\u001b[0mprod\u001b[0m\u001b[1;33m(\u001b[0m\u001b[0msweep_dim\u001b[0m\u001b[1;33m)\u001b[0m\u001b[1;33m:\u001b[0m\u001b[1;33m\u001b[0m\u001b[0m\n\u001b[0;32m    256\u001b[0m                                                 \u001b[1;32mreturn\u001b[0m\u001b[1;33m\u001b[0m\u001b[0m\n\u001b[1;32m--> 257\u001b[1;33m                                         \u001b[0mplt\u001b[0m\u001b[1;33m.\u001b[0m\u001b[0mpause\u001b[0m\u001b[1;33m(\u001b[0m\u001b[1;36m1.0\u001b[0m\u001b[1;33m)\u001b[0m\u001b[1;33m\u001b[0m\u001b[0m\n\u001b[0m\u001b[0;32m    258\u001b[0m                                         \u001b[1;31m#print(plot_thread_point_id, done_sweeps)\u001b[0m\u001b[1;33m\u001b[0m\u001b[1;33m\u001b[0m\u001b[0m\n\u001b[0;32m    259\u001b[0m \u001b[1;33m\u001b[0m\u001b[0m\n",
      "\u001b[1;32mC:\\ProgramData\\Anaconda2\\envs\\py36\\lib\\site-packages\\matplotlib\\pyplot.py\u001b[0m in \u001b[0;36mpause\u001b[1;34m(interval)\u001b[0m\n\u001b[0;32m    298\u001b[0m                 \u001b[0mcanvas\u001b[0m\u001b[1;33m.\u001b[0m\u001b[0mdraw\u001b[0m\u001b[1;33m(\u001b[0m\u001b[1;33m)\u001b[0m\u001b[1;33m\u001b[0m\u001b[0m\n\u001b[0;32m    299\u001b[0m             \u001b[0mshow\u001b[0m\u001b[1;33m(\u001b[0m\u001b[0mblock\u001b[0m\u001b[1;33m=\u001b[0m\u001b[1;32mFalse\u001b[0m\u001b[1;33m)\u001b[0m\u001b[1;33m\u001b[0m\u001b[0m\n\u001b[1;32m--> 300\u001b[1;33m             \u001b[0mcanvas\u001b[0m\u001b[1;33m.\u001b[0m\u001b[0mstart_event_loop\u001b[0m\u001b[1;33m(\u001b[0m\u001b[0minterval\u001b[0m\u001b[1;33m)\u001b[0m\u001b[1;33m\u001b[0m\u001b[0m\n\u001b[0m\u001b[0;32m    301\u001b[0m             \u001b[1;32mreturn\u001b[0m\u001b[1;33m\u001b[0m\u001b[0m\n\u001b[0;32m    302\u001b[0m \u001b[1;33m\u001b[0m\u001b[0m\n",
      "\u001b[1;32mC:\\ProgramData\\Anaconda2\\envs\\py36\\lib\\site-packages\\matplotlib\\backends\\backend_qt5.py\u001b[0m in \u001b[0;36mstart_event_loop\u001b[1;34m(self, timeout)\u001b[0m\n\u001b[0;32m    427\u001b[0m \u001b[1;33m\u001b[0m\u001b[0m\n\u001b[0;32m    428\u001b[0m     \u001b[1;32mdef\u001b[0m \u001b[0mstart_event_loop\u001b[0m\u001b[1;33m(\u001b[0m\u001b[0mself\u001b[0m\u001b[1;33m,\u001b[0m \u001b[0mtimeout\u001b[0m\u001b[1;33m)\u001b[0m\u001b[1;33m:\u001b[0m\u001b[1;33m\u001b[0m\u001b[0m\n\u001b[1;32m--> 429\u001b[1;33m         \u001b[0mFigureCanvasBase\u001b[0m\u001b[1;33m.\u001b[0m\u001b[0mstart_event_loop_default\u001b[0m\u001b[1;33m(\u001b[0m\u001b[0mself\u001b[0m\u001b[1;33m,\u001b[0m \u001b[0mtimeout\u001b[0m\u001b[1;33m)\u001b[0m\u001b[1;33m\u001b[0m\u001b[0m\n\u001b[0m\u001b[0;32m    430\u001b[0m \u001b[1;33m\u001b[0m\u001b[0m\n\u001b[0;32m    431\u001b[0m     \u001b[0mstart_event_loop\u001b[0m\u001b[1;33m.\u001b[0m\u001b[0m__doc__\u001b[0m \u001b[1;33m=\u001b[0m\u001b[0;31m \u001b[0m\u001b[0;31m\\\u001b[0m\u001b[1;33m\u001b[0m\u001b[0m\n",
      "\u001b[1;32mC:\\ProgramData\\Anaconda2\\envs\\py36\\lib\\site-packages\\matplotlib\\backend_bases.py\u001b[0m in \u001b[0;36mstart_event_loop_default\u001b[1;34m(self, timeout)\u001b[0m\n\u001b[0;32m   2460\u001b[0m         \u001b[1;32mwhile\u001b[0m \u001b[0mself\u001b[0m\u001b[1;33m.\u001b[0m\u001b[0m_looping\u001b[0m \u001b[1;32mand\u001b[0m \u001b[0mcounter\u001b[0m \u001b[1;33m*\u001b[0m \u001b[0mtimestep\u001b[0m \u001b[1;33m<\u001b[0m \u001b[0mtimeout\u001b[0m\u001b[1;33m:\u001b[0m\u001b[1;33m\u001b[0m\u001b[0m\n\u001b[0;32m   2461\u001b[0m             \u001b[0mself\u001b[0m\u001b[1;33m.\u001b[0m\u001b[0mflush_events\u001b[0m\u001b[1;33m(\u001b[0m\u001b[1;33m)\u001b[0m\u001b[1;33m\u001b[0m\u001b[0m\n\u001b[1;32m-> 2462\u001b[1;33m             \u001b[0mtime\u001b[0m\u001b[1;33m.\u001b[0m\u001b[0msleep\u001b[0m\u001b[1;33m(\u001b[0m\u001b[0mtimestep\u001b[0m\u001b[1;33m)\u001b[0m\u001b[1;33m\u001b[0m\u001b[0m\n\u001b[0m\u001b[0;32m   2463\u001b[0m             \u001b[0mcounter\u001b[0m \u001b[1;33m+=\u001b[0m \u001b[1;36m1\u001b[0m\u001b[1;33m\u001b[0m\u001b[0m\n\u001b[0;32m   2464\u001b[0m \u001b[1;33m\u001b[0m\u001b[0m\n",
      "\u001b[1;31mKeyboardInterrupt\u001b[0m: "
     ]
    }
   ],
   "source": [
    "sweep.sweep(adc_sz, (ro_dac_amplitudes, ro_pulse_generator_inst.set_ro_amplitude, 'Readout pulse amplitude'), filename='Readout fidelity')"
   ]
  },
  {
   "cell_type": "code",
   "execution_count": 273,
   "metadata": {
    "scrolled": true
   },
   "outputs": [
    {
     "data": {
      "application/vnd.jupyter.widget-view+json": {
       "model_id": "91c1b6f7fe724d249894b6e944abfc1f"
      }
     },
     "metadata": {},
     "output_type": "display_data"
    },
    {
     "name": "stdout",
     "output_type": "stream",
     "text": [
      "Started at:  Aug 04 2018 00:42:58\n"
     ]
    },
    {
     "name": "stderr",
     "output_type": "stream",
     "text": [
      "Exception in thread Thread-50:\n",
      "Traceback (most recent call last):\n",
      "  File \"C:\\ProgramData\\Anaconda2\\envs\\py36\\lib\\threading.py\", line 916, in _bootstrap_inner\n",
      "    self.run()\n",
      "  File \"C:\\ProgramData\\Anaconda2\\envs\\py36\\lib\\threading.py\", line 864, in run\n",
      "    self._target(*self._args, **self._kwargs)\n",
      "  File \"C:\\Users\\demouser\\Desktop\\Quantum\\qsweepy\\sweep.py\", line 190, in main_sweep_loop\n",
      "    mpoint = measurer.measure()\n",
      "  File \"C:\\Users\\demouser\\Desktop\\Quantum\\qsweepy\\single_shot_readout.py\", line 86, in measure\n",
      "    self.calibrate()\n",
      "  File \"C:\\Users\\demouser\\Desktop\\Quantum\\qsweepy\\single_shot_readout.py\", line 65, in calibrate\n",
      "    measurement = self.adc.measure()\n",
      "  File \"C:\\Users\\demouser\\Desktop\\Quantum\\qsweepy\\data_reduce.py\", line 24, in measure\n",
      "    data = self.source.measure()\n",
      "  File \"C:\\Users\\demouser\\Desktop\\Quantum\\qsweepy\\instrument_drivers\\Keysight_M3102A.py\", line 122, in measure\n",
      "    return {'Voltage':(data[0,:,:]+1j*data[1,:,:])}\n",
      "MemoryError\n",
      "\n"
     ]
    },
    {
     "ename": "KeyboardInterrupt",
     "evalue": "",
     "output_type": "error",
     "traceback": [
      "\u001b[1;31m---------------------------------------------------------------------------\u001b[0m",
      "\u001b[1;31mKeyboardInterrupt\u001b[0m                         Traceback (most recent call last)",
      "\u001b[1;32m<ipython-input-273-25270a451e97>\u001b[0m in \u001b[0;36m<module>\u001b[1;34m()\u001b[0m\n\u001b[0;32m      1\u001b[0m sweep.sweep(adc_sz, (ro_dac_lengths, ro_pulse_generator_inst.set_ro_length, 'Readout pulse length'), \n\u001b[1;32m----> 2\u001b[1;33m                     (ro_dac_amplitudes, ro_pulse_generator_inst.set_ro_amplitude, 'Readout pulse amplitude'), filename='Readout fidelity')\n\u001b[0m",
      "\u001b[1;32mC:\\Users\\demouser\\Desktop\\Quantum\\qsweepy\\sweep.py\u001b[0m in \u001b[0;36msweep\u001b[1;34m(measurer, filename, root_dir, plot, plot_separate_thread, header, output, save, time_war_label, bot, *params)\u001b[0m\n\u001b[0;32m    261\u001b[0m                         \u001b[0macq_thread\u001b[0m \u001b[1;33m=\u001b[0m \u001b[0mthreading\u001b[0m\u001b[1;33m.\u001b[0m\u001b[0mThread\u001b[0m\u001b[1;33m(\u001b[0m\u001b[0mtarget\u001b[0m\u001b[1;33m=\u001b[0m\u001b[0mmain_sweep_loop\u001b[0m\u001b[1;33m)\u001b[0m\u001b[1;33m\u001b[0m\u001b[0m\n\u001b[0;32m    262\u001b[0m                         \u001b[0macq_thread\u001b[0m\u001b[1;33m.\u001b[0m\u001b[0mstart\u001b[0m\u001b[1;33m(\u001b[0m\u001b[1;33m)\u001b[0m\u001b[1;33m\u001b[0m\u001b[0m\n\u001b[1;32m--> 263\u001b[1;33m                         \u001b[0mplot_thread\u001b[0m\u001b[1;33m(\u001b[0m\u001b[1;33m)\u001b[0m\u001b[1;33m\u001b[0m\u001b[0m\n\u001b[0m\u001b[0;32m    264\u001b[0m \u001b[1;33m\u001b[0m\u001b[0m\n\u001b[0;32m    265\u001b[0m                 \u001b[1;32mif\u001b[0m \u001b[1;33m(\u001b[0m\u001b[0mtime_war_label\u001b[0m\u001b[1;33m)\u001b[0m\u001b[1;33m:\u001b[0m\u001b[1;33m\u001b[0m\u001b[0m\n",
      "\u001b[1;32mC:\\Users\\demouser\\Desktop\\Quantum\\qsweepy\\sweep.py\u001b[0m in \u001b[0;36mplot_thread\u001b[1;34m()\u001b[0m\n\u001b[0;32m    249\u001b[0m                                 \u001b[1;32mwhile\u001b[0m \u001b[1;32mTrue\u001b[0m\u001b[1;33m:\u001b[0m\u001b[1;33m\u001b[0m\u001b[0m\n\u001b[0;32m    250\u001b[0m                                         \u001b[1;32mif\u001b[0m \u001b[0msweep_error\u001b[0m\u001b[1;33m:\u001b[0m\u001b[1;33m\u001b[0m\u001b[0m\n\u001b[1;32m--> 251\u001b[1;33m                                                 \u001b[1;32mraise\u001b[0m \u001b[0mKeyboardInterrupt\u001b[0m\u001b[1;33m\u001b[0m\u001b[0m\n\u001b[0m\u001b[0;32m    252\u001b[0m                                         \u001b[1;32mif\u001b[0m \u001b[0mplot_thread_point_id\u001b[0m \u001b[1;33m<\u001b[0m \u001b[0mdone_sweeps\u001b[0m\u001b[1;33m:\u001b[0m\u001b[1;33m\u001b[0m\u001b[0m\n\u001b[0;32m    253\u001b[0m                                                 \u001b[0mplotting\u001b[0m\u001b[1;33m.\u001b[0m\u001b[0mupdate_plot_measurement\u001b[0m\u001b[1;33m(\u001b[0m\u001b[0mmk_measurement\u001b[0m\u001b[1;33m(\u001b[0m\u001b[1;36m0\u001b[0m\u001b[1;33m)\u001b[0m\u001b[1;33m,\u001b[0m \u001b[0mplot_axes\u001b[0m\u001b[1;33m)\u001b[0m\u001b[1;33m\u001b[0m\u001b[0m\n",
      "\u001b[1;31mKeyboardInterrupt\u001b[0m: "
     ]
    }
   ],
   "source": [
    "sweep.sweep(adc_sz, (ro_dac_lengths, ro_pulse_generator_inst.set_ro_length, 'Readout pulse length'), \n",
    "                    (ro_dac_amplitudes, ro_pulse_generator_inst.set_ro_amplitude, 'Readout pulse amplitude'), filename='Readout fidelity')"
   ]
  },
  {
   "cell_type": "markdown",
   "metadata": {},
   "source": [
    "# Double readout"
   ]
  },
  {
   "cell_type": "code",
   "execution_count": 105,
   "metadata": {},
   "outputs": [
    {
     "data": {
      "text/plain": [
       "<module 'qsweepy.plotting' from 'C:\\\\Users\\\\demouser\\\\Desktop\\\\Quantum\\\\qsweepy\\\\plotting.py'>"
      ]
     },
     "execution_count": 105,
     "metadata": {},
     "output_type": "execute_result"
    }
   ],
   "source": [
    "imp.reload(plotting)"
   ]
  },
  {
   "cell_type": "code",
   "execution_count": null,
   "metadata": {
    "collapsed": true
   },
   "outputs": [],
   "source": [
    "ex_amplitude = 0.2\n",
    "#pi_pulse = 20e-9\n",
    "pause_length = 16e-9"
   ]
  },
  {
   "cell_type": "code",
   "execution_count": null,
   "metadata": {
    "collapsed": true
   },
   "outputs": [],
   "source": [
    "adc.stop()"
   ]
  },
  {
   "cell_type": "code",
   "execution_count": null,
   "metadata": {
    "collapsed": true
   },
   "outputs": [],
   "source": [
    "adc.set_nums(10000)\n",
    "\n",
    "sweep_number=5\n",
    "result=[]\n",
    "for swp in range(sweep_number):\n",
    "    awg_tek.set_nop(awg_tek.get_clock()/rep_rate)\n",
    "    \n",
    "    sequence = [pg.p('ro_trg', trg_length, pg.rect, 1),\n",
    "                pg.p('iq_ro', ro_dac_length, pg.rect, ro_dac_amplitude)]\n",
    "    pg.set_seq(sequence)\n",
    "    awg_tek.run()\n",
    "    measurement=adc.measure()\n",
    "    #result.append(measurement)\n",
    "    with open('data.pickle{0}'.format(swp), 'wb') as f:\n",
    "        pickle.dump(measurement, f)\n",
    "   # measurement.clear()\n",
    "    print('{0} done'.format(swp))\n",
    "    \n",
    "\n"
   ]
  },
  {
   "cell_type": "code",
   "execution_count": null,
   "metadata": {
    "collapsed": true
   },
   "outputs": [],
   "source": [
    "#ex_amplitude = 0.2\n",
    "#pi_pulse = 20e-9\n",
    "#pause_length = 16e-9\n",
    "#pi_pulse=20e-9\n",
    "adc.set_nums(10000)\n",
    "\n",
    "\n",
    "sweep_number=5\n",
    "result=[]\n",
    "for swp in range(sweep_number):\n",
    "    awg_tek.set_nop(awg_tek.get_clock()/rep_rate)\n",
    "    \n",
    "    sequence = [pg.p('iq_ex', length, pg.gauss_hd, 0, amp, sigma, alpha),\n",
    "                pg.p('iq_ex', length, pg.gauss_hd, 0, amp, sigma, alpha),\n",
    "                pg.p(None,pause_length),\n",
    "                pg.p('ro_trg', trg_length, pg.rect, 1),\n",
    "                pg.p('iq_ro', ro_dac_length, pg.rect, ro_dac_amplitude)]\n",
    "    pg.set_seq(sequence)\n",
    "    awg_tek.run()\n",
    "    measurement=adc.measure()\n",
    "   # result.append(measurement)\n",
    "    with open('data1gaus.pickle{0}'.format(swp), 'wb') as f:\n",
    "        pickle.dump(measurement, f)\n",
    "    measurement.clear()\n",
    "    print('{0} done'.format(swp))\n",
    "    "
   ]
  },
  {
   "cell_type": "code",
   "execution_count": null,
   "metadata": {
    "collapsed": true
   },
   "outputs": [],
   "source": [
    "imp.reload(sweep)\n",
    "imp.reload(save_pkl)\n",
    "sweep_number=100\n",
    "adc.set_nums(500)\n",
    "measurment_data_pre=[]\n",
    "for swp in range(sweep_number):\n",
    "    delays = np.linspace(0e-6, 10e-6, 51)\n",
    "    def set_delay(delay):\n",
    "        awg_tek.set_nop(awg_tek.get_clock()/rep_rate)\n",
    "    \n",
    "        sequence = [pg.p('ro_trg', trg_length, pg.rect, 1),\n",
    "                    pg.p('iq_ro', ro_dac_length, pg.rect, ro_dac_amplitude),\n",
    "                    pg.p(None, delay),\n",
    "                    pg.p('iq_ro', ro_dac_length, pg.rect, ro_dac_amplitude)\n",
    "                   ]\n",
    "        pg.set_seq(sequence)\n",
    "        awg_tek.run()\n",
    "    measurement_pre = sweep.sweep(adc, (delays, set_delay, 'delay'), filename='Decay{0}'.format(swp),time_war_label=False)\n",
    "    measurement_pre.clear()\n",
    "   \n",
    "    \n",
    " \n"
   ]
  },
  {
   "cell_type": "code",
   "execution_count": null,
   "metadata": {
    "collapsed": true
   },
   "outputs": [],
   "source": [
    "for file_name in range (swp):\n",
    "    if (file_name==0):\n",
    "        with open(r'D:\\qtlab\\ReiData\\data\\2017-11-03\\Voltage Decay{0}.pkl'.format(file_name),'rb') as f:\n",
    "            data=pkl.load(f,encoding='latin1')\n",
    "        Voltage_avg=[[np.mean(data[1]['Voltage'][2][i][j]) for i in range(len(data[1]['Voltage'][2][0][1]))]\\\n",
    "                     for j in range(len(data[1]['Voltage'][2][0]))]\n",
    "        print (Voltage_avg_amp[0])\n",
    "        print (file_name)\n",
    "    else:\n",
    "        with open(r'D:\\qtlab\\ReiData\\data\\2017-11-03\\Voltage Decay{0}.pkl'.format(file_name),'rb') as f:\n",
    "            data_r=pkl.load(f,encoding='latin1')\n",
    "        Voltage_avg=[(np.real(data_r[1]['Voltage'][2][vnum])+np.real(Voltage_avg[vnum]))/2+\\\n",
    "                      (np.imag(data_r[1]['Voltage'][2][vnum])+np.imag(Voltage_avg[vnum]))/2 for vnum \\\n",
    "                      in range(len(data_r[1]['Voltage'][2]))]\n",
    "        print (data_r[1]['Voltage'][2])\n",
    "        print (Voltage_avg[0])\n",
    "        print (file_name)\n",
    "                      "
   ]
  },
  {
   "cell_type": "code",
   "execution_count": null,
   "metadata": {
    "collapsed": true,
    "scrolled": true
   },
   "outputs": [],
   "source": [
    "sweep_num=80\n",
    "adc.set_nums(500)\n",
    "delays = np.linspace(0e-6, 10e-6, 51)\n",
    "def set_delay(delay):\n",
    "    awg_tek.set_nop(awg_tek.get_clock()/rep_rate)\n",
    "    \n",
    "    sequence = [pg.p(None, delay)\n",
    "                pg.p('iq_ex', pi_pulse, pg.rect, ex_amplitude),\n",
    "                pg.p('ro_trg', trg_length, pg.rect, 1),\n",
    "                pg.p('iq_ro', ro_dac_length, pg.rect, ro_dac_amplitude)]\n",
    "    pg.set_seq(sequence)\n",
    "    awg_tek.run()\n",
    "measurement_pre = sweep.sweep(adc, (delays, set_delay, 'delay'), filename='Decay')\n",
    "voltage_amp_pre_ONES=[np.sqrt(np.real(measurement_pre['Voltage'][2][1][i])**2+np.imag(measurement_pre['Voltage'][2][1][i])**2) for i in \\\n",
    "             range(len(measurement_pre['Voltage'][2][1]))]\n",
    "voltage_phase_pre_ONES=[np.arctan(np.real(measurement_pre['Voltage'][2][1][i])/np.imag(measurement_pre['Voltage'][2][1][i])) for i in \\\n",
    "             range(len(measurement_pre['Voltage'][2][1]))] \n",
    "plt.plot(voltage_amp_pre_ONES)\n",
    "plt.show()"
   ]
  },
  {
   "cell_type": "code",
   "execution_count": null,
   "metadata": {
    "collapsed": true
   },
   "outputs": [],
   "source": [
    "import matplotlib.patches as mpatches"
   ]
  },
  {
   "cell_type": "code",
   "execution_count": null,
   "metadata": {
    "collapsed": true
   },
   "outputs": [],
   "source": [
    "non_avg_ones=[[voltage_amp_pre_ONES[i][j] for i in range(len(voltage_amp_pre_ONES))]\\\n",
    "              for j in range (len(voltage_amp_pre_ONES[0]))]\n",
    "avg_ones=[np.mean(ones) for ones in non_avg_ones ]\n",
    "non_avg_zeros=[[voltage_amp_pre_ZEROS[i][j] for i in range(len(voltage_amp_pre_ZEROS))]\\\n",
    "              for j in range (len(voltage_amp_pre_ZEROS[0]))]\n",
    "avg_zeros=[np.mean(zeros) for zeros in non_avg_zeros ]\n",
    "avg_ones_n=[np.mean(ones)-np.mean(avg_ones) for ones in non_avg_ones ]\n",
    "avg_zeros_n=[np.mean(zeros)-np.mean(avg_zeros) for zeros in non_avg_zeros ]\n",
    "plt.plot(avg_ones_n)\n",
    "plt.plot(avg_zeros_n)\n",
    "blue_patch = mpatches.Patch(color='blue', label='|1>')\n",
    "red_patch = mpatches.Patch(color='orange', label='|0>')\n",
    "plt.legend(handles=[blue_patch,red_patch])\n",
    "plt.show()"
   ]
  },
  {
   "cell_type": "code",
   "execution_count": null,
   "metadata": {
    "collapsed": true
   },
   "outputs": [],
   "source": [
    "delays = np.linspace(0e-6, 1.5e-6, 51)\n",
    "def set_delay(delay):\n",
    "    awg_tek.set_nop(awg_tek.get_clock()/rep_rate)\n",
    "    \n",
    "    sequence = [pg.p('ro_trg', trg_length, pg.rect, 1),\n",
    "                pg.p('iq_ro', ro_dac_length, pg.rect, ro_dac_amplitude),\n",
    "                pg.p(None, delay), \n",
    "                pg.p('ro_trg', trg_length, pg.rect, 1),\n",
    "                pg.p('iq_ro', ro_dac_length, pg.rect, ro_dac_amplitude) ]\n",
    "    pg.set_seq(sequence)\n",
    "    awg_tek.run()\n",
    "measurement_post = sweep.sweep(adc_reducer, (delays, set_delay, 'delay'), filename='Decay')"
   ]
  },
  {
   "cell_type": "code",
   "execution_count": null,
   "metadata": {
    "collapsed": true
   },
   "outputs": [],
   "source": [
    "voltage_amp_post=[np.sqrt(np.real(measurement_post['Voltage'][2][1][i])**2+np.imag(measurement_post['Voltage'][2][1][i])**2) for i in \\\n",
    "             range(len(measurement_post['Voltage'][2][1]))]\n",
    "voltage_phase_post=[np.arctan(np.real(measurement_post['Voltage'][2][1][i])/np.imag(measurement_post['Voltage'][2][1][i])) for i in \\\n",
    "             range(len(measurement_post['Voltage'][2][1]))]"
   ]
  },
  {
   "cell_type": "code",
   "execution_count": 58,
   "metadata": {},
   "outputs": [
    {
     "data": {
      "text/plain": [
       "{'Mean Voltage (AC)': (('Rabi pulse length', 'Time'),\n",
       "  (array([  0.00000000e+00,   5.00000000e-09,   1.00000000e-08,\n",
       "            1.50000000e-08,   2.00000000e-08,   2.50000000e-08,\n",
       "            3.00000000e-08,   3.50000000e-08,   4.00000000e-08,\n",
       "            4.50000000e-08,   5.00000000e-08,   5.50000000e-08,\n",
       "            6.00000000e-08,   6.50000000e-08,   7.00000000e-08,\n",
       "            7.50000000e-08,   8.00000000e-08,   8.50000000e-08,\n",
       "            9.00000000e-08,   9.50000000e-08,   1.00000000e-07]),\n",
       "   array([  0.00000000e+00,   2.00000000e-09,   4.00000000e-09, ...,\n",
       "            4.09000000e-06,   4.09200000e-06,   4.09400000e-06])),\n",
       "  array([[-0.00560815-0.00160566j, -0.00740815-0.00180566j,\n",
       "          -0.00700815-0.00020566j, ...,  0.00469185+0.00689434j,\n",
       "          -0.00570815+0.00129434j,  0.00559185-0.00610566j],\n",
       "         [ 0.00694570-0.01156499j,  0.00444570+0.00583501j,\n",
       "          -0.01035430+0.00333501j, ...,  0.00584570+0.00763501j,\n",
       "           0.00484570-0.00056499j, -0.00485430+0.00383501j],\n",
       "         [ 0.00123145+0.00069336j,  0.00413145-0.00740664j,\n",
       "          -0.01926855-0.00670664j, ..., -0.00256855+0.00509336j,\n",
       "          -0.00476855+0.00279336j,  0.00173145+0.00309336j],\n",
       "         ..., \n",
       "         [ 0.01177793+0.01815913j, -0.00032207-0.02594087j,\n",
       "           0.00287793+0.02285913j, ..., -0.02662207-0.04254087j,\n",
       "          -0.00222207+0.02375913j, -0.00562207+0.02705913j],\n",
       "         [-0.00384546-0.02564248j, -0.01054546+0.00055752j,\n",
       "          -0.00044546+0.01185752j, ...,  0.00215454+0.01165752j,\n",
       "           0.00875454+0.00685752j,  0.01045454+0.00435752j],\n",
       "         [-0.00555190-0.00284536j, -0.02105190-0.00854536j,\n",
       "          -0.00395190-0.00404536j, ...,  0.00784810-0.00774536j,\n",
       "           0.00794810+0.00305464j,  0.00254810+0.00255464j]]),\n",
       "  {'log': None, 'scatter': True},\n",
       "  ('s', 's')),\n",
       " 'S21+': (('Rabi pulse length',),\n",
       "  (array([  0.00000000e+00,   5.00000000e-09,   1.00000000e-08,\n",
       "            1.50000000e-08,   2.00000000e-08,   2.50000000e-08,\n",
       "            3.00000000e-08,   3.50000000e-08,   4.00000000e-08,\n",
       "            4.50000000e-08,   5.00000000e-08,   5.50000000e-08,\n",
       "            6.00000000e-08,   6.50000000e-08,   7.00000000e-08,\n",
       "            7.50000000e-08,   8.00000000e-08,   8.50000000e-08,\n",
       "            9.00000000e-08,   9.50000000e-08,   1.00000000e-07]),),\n",
       "  array([-0.03364498+0.04270586j, -0.03319619+0.04278461j,\n",
       "         -0.03328990+0.04284148j, -0.03355589+0.04237028j,\n",
       "         -0.03355765+0.04239986j, -0.03379443+0.04236995j,\n",
       "         -0.03405605+0.04196385j, -0.03442303+0.04144681j,\n",
       "         -0.03454184+0.04167657j, -0.03408393+0.04193804j,\n",
       "         -0.03412462+0.04245846j, -0.03310524+0.04227201j,\n",
       "         -0.03322882+0.04265996j, -0.03412185+0.04188004j,\n",
       "         -0.03564812+0.04011937j, -0.03490612+0.04159434j,\n",
       "         -0.03299965+0.04329827j, -0.03272712+0.04368025j,\n",
       "         -0.03565372+0.04141656j, -0.03430327+0.04175162j,\n",
       "         -0.03338913+0.04282528j]),\n",
       "  {'log': None, 'scatter': True},\n",
       "  ('s',)),\n",
       " 'S21+ fit': (('Rabi pulse length',),\n",
       "  (array([  0.00000000e+00,   5.00000000e-09,   1.00000000e-08,\n",
       "            1.50000000e-08,   2.00000000e-08,   2.50000000e-08,\n",
       "            3.00000000e-08,   3.50000000e-08,   4.00000000e-08,\n",
       "            4.50000000e-08,   5.00000000e-08,   5.50000000e-08,\n",
       "            6.00000000e-08,   6.50000000e-08,   7.00000000e-08,\n",
       "            7.50000000e-08,   8.00000000e-08,   8.50000000e-08,\n",
       "            9.00000000e-08,   9.50000000e-08,   1.00000000e-07]),),\n",
       "  array([-0.03355509+0.04260256j, -0.03318366+0.0429984j ,\n",
       "         -0.03378789+0.04235447j, -0.03456878+0.04152226j,\n",
       "         -0.03449376+0.04160221j, -0.03366205+0.04248857j,\n",
       "         -0.03317344+0.04300929j, -0.03367400+0.04247584j,\n",
       "         -0.03450182+0.04159362j, -0.03456226+0.0415292j ,\n",
       "         -0.03377543+0.04236774j, -0.03318177+0.04300042j,\n",
       "         -0.03356627+0.04259065j, -0.03442048+0.0416803j ,\n",
       "         -0.03461487+0.04147313j, -0.03389242+0.04224307j,\n",
       "         -0.03320844+0.04297199j, -0.03346736+0.04269606j,\n",
       "         -0.03432678+0.04178016j, -0.03465028+0.0414354j ,\n",
       "         -0.03401011+0.04211764j]),\n",
       "  {'log': None},\n",
       "  ('s',)),\n",
       " 'S21-': (('Rabi pulse length',),\n",
       "  (array([  0.00000000e+00,   5.00000000e-09,   1.00000000e-08,\n",
       "            1.50000000e-08,   2.00000000e-08,   2.50000000e-08,\n",
       "            3.00000000e-08,   3.50000000e-08,   4.00000000e-08,\n",
       "            4.50000000e-08,   5.00000000e-08,   5.50000000e-08,\n",
       "            6.00000000e-08,   6.50000000e-08,   7.00000000e-08,\n",
       "            7.50000000e-08,   8.00000000e-08,   8.50000000e-08,\n",
       "            9.00000000e-08,   9.50000000e-08,   1.00000000e-07]),),\n",
       "  array([  3.70062287e-04+0.01839464j,   1.49348840e-04+0.01826671j,\n",
       "           3.38022855e-04+0.01868543j,   1.47916886e-04+0.01779787j,\n",
       "           1.78517672e-04+0.01786014j,   7.59192240e-05+0.01830842j,\n",
       "           7.20159876e-05+0.01800109j,   2.30081698e-04+0.01812456j,\n",
       "           1.87173387e-04+0.01789665j,   4.04532826e-04+0.01796644j,\n",
       "           4.26061820e-04+0.01858498j,   4.91411124e-04+0.01848937j,\n",
       "           2.42503674e-04+0.01845477j,   5.16748564e-04+0.01834399j,\n",
       "           7.76614730e-04+0.01814231j,   3.84706739e-04+0.01828507j,\n",
       "           3.82925783e-04+0.01848132j,   3.72133041e-04+0.01851608j,\n",
       "           8.13866002e-04+0.0185892j ,   3.86034094e-04+0.01835102j,\n",
       "           6.87598278e-04+0.01836834j]),\n",
       "  {'log': None, 'scatter': True},\n",
       "  ('s',)),\n",
       " 'S21- fit': (('Rabi pulse length',),\n",
       "  (array([  0.00000000e+00,   5.00000000e-09,   1.00000000e-08,\n",
       "            1.50000000e-08,   2.00000000e-08,   2.50000000e-08,\n",
       "            3.00000000e-08,   3.50000000e-08,   4.00000000e-08,\n",
       "            4.50000000e-08,   5.00000000e-08,   5.50000000e-08,\n",
       "            6.00000000e-08,   6.50000000e-08,   7.00000000e-08,\n",
       "            7.50000000e-08,   8.00000000e-08,   8.50000000e-08,\n",
       "            9.00000000e-08,   9.50000000e-08,   1.00000000e-07]),),\n",
       "  array([ 0.00030727+0.01834475j,  0.00025024+0.01840901j,\n",
       "          0.00034302+0.01830447j,  0.00046292+0.01816937j,\n",
       "          0.00045140+0.01818235j,  0.00032369+0.01832624j,\n",
       "          0.00024867+0.01841077j,  0.00032553+0.01832417j,\n",
       "          0.00045264+0.01818095j,  0.00046192+0.0181705j ,\n",
       "          0.00034110+0.01830662j,  0.00024994+0.01840933j,\n",
       "          0.00030899+0.01834281j,  0.00044015+0.01819503j,\n",
       "          0.00047000+0.01816139j,  0.00035907+0.01828638j,\n",
       "          0.00025404+0.01840472j,  0.00029380+0.01835992j,\n",
       "          0.00042577+0.01821124j,  0.00047544+0.01815527j,\n",
       "          0.00037714+0.01826602j]),\n",
       "  {'log': None},\n",
       "  ('s',))}"
      ]
     },
     "execution_count": 58,
     "metadata": {},
     "output_type": "execute_result"
    }
   ],
   "source": [
    "measurement"
   ]
  },
  {
   "cell_type": "code",
   "execution_count": 59,
   "metadata": {},
   "outputs": [
    {
     "data": {
      "text/plain": [
       "21"
      ]
     },
     "execution_count": 59,
     "metadata": {},
     "output_type": "execute_result"
    }
   ],
   "source": [
    "measurement['S21-'][1][0]\n",
    "S21_pre=measurement['S21-'][1][0][::2]\n",
    "S21_post=measurement['S21-'][1][0][1::2]\n",
    "len(measurement['S21-'][1][0])"
   ]
  },
  {
   "cell_type": "code",
   "execution_count": 81,
   "metadata": {},
   "outputs": [
    {
     "data": {
      "text/plain": [
       "1.0964973968539368e-08"
      ]
     },
     "execution_count": 81,
     "metadata": {},
     "output_type": "execute_result"
    }
   ],
   "source": [
    "1/rabi_freqs[0]/4"
   ]
  },
  {
   "cell_type": "code",
   "execution_count": 83,
   "metadata": {},
   "outputs": [
    {
     "data": {
      "application/vnd.jupyter.widget-view+json": {
       "model_id": "54faa7b5837a4fb1a18e2798cc091897"
      }
     },
     "metadata": {},
     "output_type": "display_data"
    },
    {
     "name": "stdout",
     "output_type": "stream",
     "text": [
      "Started at:  Jul 23 2018 01:46:37\n",
      "6\n"
     ]
    },
    {
     "name": "stderr",
     "output_type": "stream",
     "text": [
      "C:\\ProgramData\\Anaconda2\\envs\\py36\\lib\\site-packages\\numpy\\lib\\function_base.py:2006: RuntimeWarning: invalid value encountered in remainder\n",
      "  ddmod = mod(dd + pi, 2*pi) - pi\n",
      "C:\\ProgramData\\Anaconda2\\envs\\py36\\lib\\site-packages\\numpy\\lib\\function_base.py:2007: RuntimeWarning: invalid value encountered in greater\n",
      "  _nx.copyto(ddmod, pi, where=(ddmod == -pi) & (dd > 0))\n",
      "C:\\ProgramData\\Anaconda2\\envs\\py36\\lib\\site-packages\\numpy\\lib\\function_base.py:2009: RuntimeWarning: invalid value encountered in less\n",
      "  _nx.copyto(ph_correct, 0, where=abs(dd) < discont)\n",
      "Exception in thread Thread-43:\n",
      "Traceback (most recent call last):\n",
      "  File \"C:\\ProgramData\\Anaconda2\\envs\\py36\\lib\\threading.py\", line 916, in _bootstrap_inner\n",
      "    self.run()\n",
      "  File \"C:\\ProgramData\\Anaconda2\\envs\\py36\\lib\\threading.py\", line 864, in run\n",
      "    self._target(*self._args, **self._kwargs)\n",
      "  File \"C:\\Users\\demouser\\Desktop\\Quantum\\qsweepy\\sweep.py\", line 188, in main_sweep_loop\n",
      "    setter(val)\n",
      "  File \"<ipython-input-83-88226541e76a>\", line 11, in set_ex_amp\n",
      "    sequence = [pg.p(ex_channel, pi2_length, pg.gauss_hd,  amp, 0, sigma,0)]*num_pulses+               [pg.p('ro_trg', trg_length, pg.rect, 1),\n",
      "  File \"C:\\Users\\demouser\\Desktop\\Quantum\\qsweepy\\tomography.py\", line 60, in p\n",
      "    pulses[channel] = pulse_type(channel, length, *params)\n",
      "TypeError: gauss_hd() takes from 5 to 6 positional arguments but 7 were given\n",
      "\n",
      "C:\\Users\\demouser\\Desktop\\Quantum\\qsweepy\\plotting.py:343: RuntimeWarning: All-NaN axis encountered\n",
      "  plot.set_clim(np.nanmin(data), np.nanmax(data))\n",
      "C:\\Users\\demouser\\Desktop\\Quantum\\qsweepy\\plotting.py:343: RuntimeWarning: All-NaN slice encountered\n",
      "  plot.set_clim(np.nanmin(data), np.nanmax(data))\n"
     ]
    },
    {
     "ename": "FileNotFoundError",
     "evalue": "[Errno 2] No such file or directory: 'C:\\\\Users\\\\demouser\\\\Desktop\\\\Quantum\\\\data/2018-07-23/01-46-37-Rabi/'",
     "output_type": "error",
     "traceback": [
      "\u001b[1;31m---------------------------------------------------------------------------\u001b[0m",
      "\u001b[1;31mKeyboardInterrupt\u001b[0m                         Traceback (most recent call last)",
      "\u001b[1;32mC:\\Users\\demouser\\Desktop\\Quantum\\qsweepy\\sweep.py\u001b[0m in \u001b[0;36msweep\u001b[1;34m(measurer, filename, root_dir, plot, plot_separate_thread, header, output, save, time_war_label, bot, *params)\u001b[0m\n\u001b[0;32m    263\u001b[0m                         \u001b[0macq_thread\u001b[0m\u001b[1;33m.\u001b[0m\u001b[0mstart\u001b[0m\u001b[1;33m(\u001b[0m\u001b[1;33m)\u001b[0m\u001b[1;33m\u001b[0m\u001b[0m\n\u001b[1;32m--> 264\u001b[1;33m                         \u001b[0mplot_thread\u001b[0m\u001b[1;33m(\u001b[0m\u001b[1;33m)\u001b[0m\u001b[1;33m\u001b[0m\u001b[0m\n\u001b[0m\u001b[0;32m    265\u001b[0m \u001b[1;33m\u001b[0m\u001b[0m\n",
      "\u001b[1;32mC:\\Users\\demouser\\Desktop\\Quantum\\qsweepy\\sweep.py\u001b[0m in \u001b[0;36mplot_thread\u001b[1;34m()\u001b[0m\n\u001b[0;32m    251\u001b[0m                                         \u001b[1;32mif\u001b[0m \u001b[0msweep_error\u001b[0m\u001b[1;33m:\u001b[0m\u001b[1;33m\u001b[0m\u001b[0m\n\u001b[1;32m--> 252\u001b[1;33m                                                 \u001b[1;32mraise\u001b[0m \u001b[0mKeyboardInterrupt\u001b[0m\u001b[1;33m\u001b[0m\u001b[0m\n\u001b[0m\u001b[0;32m    253\u001b[0m                                         \u001b[1;32mif\u001b[0m \u001b[0mplot_thread_point_id\u001b[0m \u001b[1;33m<\u001b[0m \u001b[0mdone_sweeps\u001b[0m\u001b[1;33m:\u001b[0m\u001b[1;33m\u001b[0m\u001b[0m\n",
      "\u001b[1;31mKeyboardInterrupt\u001b[0m: ",
      "\nDuring handling of the above exception, another exception occurred:\n",
      "\u001b[1;31mFileNotFoundError\u001b[0m                         Traceback (most recent call last)",
      "\u001b[1;32mC:\\ProgramData\\Anaconda2\\envs\\py36\\lib\\shutil.py\u001b[0m in \u001b[0;36mmove\u001b[1;34m(src, dst, copy_function)\u001b[0m\n\u001b[0;32m    543\u001b[0m     \u001b[1;32mtry\u001b[0m\u001b[1;33m:\u001b[0m\u001b[1;33m\u001b[0m\u001b[0m\n\u001b[1;32m--> 544\u001b[1;33m         \u001b[0mos\u001b[0m\u001b[1;33m.\u001b[0m\u001b[0mrename\u001b[0m\u001b[1;33m(\u001b[0m\u001b[0msrc\u001b[0m\u001b[1;33m,\u001b[0m \u001b[0mreal_dst\u001b[0m\u001b[1;33m)\u001b[0m\u001b[1;33m\u001b[0m\u001b[0m\n\u001b[0m\u001b[0;32m    545\u001b[0m     \u001b[1;32mexcept\u001b[0m \u001b[0mOSError\u001b[0m\u001b[1;33m:\u001b[0m\u001b[1;33m\u001b[0m\u001b[0m\n",
      "\u001b[1;31mFileNotFoundError\u001b[0m: [WinError 2] The system cannot find the file specified: 'C:\\\\Users\\\\demouser\\\\Desktop\\\\Quantum\\\\data/2018-07-23/01-46-37-Rabi/' -> 'C:\\\\Users\\\\demouser\\\\Desktop\\\\Quantum\\\\data/unfinished/2018-07-23/01-46-37-Rabi\\\\01-46-37-Rabi'",
      "\nDuring handling of the above exception, another exception occurred:\n",
      "\u001b[1;31mFileNotFoundError\u001b[0m                         Traceback (most recent call last)",
      "\u001b[1;32m<ipython-input-83-88226541e76a>\u001b[0m in \u001b[0;36m<module>\u001b[1;34m()\u001b[0m\n\u001b[0;32m     15\u001b[0m \u001b[1;33m\u001b[0m\u001b[0m\n\u001b[0;32m     16\u001b[0m     \u001b[0mawg_tek\u001b[0m\u001b[1;33m.\u001b[0m\u001b[0mrun\u001b[0m\u001b[1;33m(\u001b[0m\u001b[1;33m)\u001b[0m\u001b[1;33m\u001b[0m\u001b[0m\n\u001b[1;32m---> 17\u001b[1;33m \u001b[0mmeasurement\u001b[0m \u001b[1;33m=\u001b[0m \u001b[0msweep\u001b[0m\u001b[1;33m.\u001b[0m\u001b[0msweep\u001b[0m\u001b[1;33m(\u001b[0m\u001b[0madc_reducer\u001b[0m\u001b[1;33m,\u001b[0m \u001b[1;33m(\u001b[0m\u001b[0mex_amps\u001b[0m\u001b[1;33m,\u001b[0m \u001b[0mset_ex_amp\u001b[0m\u001b[1;33m,\u001b[0m \u001b[1;34m'Rabi pulse amplitude'\u001b[0m\u001b[1;33m)\u001b[0m\u001b[1;33m,\u001b[0m \u001b[0mfilename\u001b[0m\u001b[1;33m=\u001b[0m\u001b[1;34m'Rabi'\u001b[0m\u001b[1;33m)\u001b[0m\u001b[1;33m\u001b[0m\u001b[0m\n\u001b[0m",
      "\u001b[1;32mC:\\Users\\demouser\\Desktop\\Quantum\\qsweepy\\sweep.py\u001b[0m in \u001b[0;36msweep\u001b[1;34m(measurer, filename, root_dir, plot, plot_separate_thread, header, output, save, time_war_label, bot, *params)\u001b[0m\n\u001b[0;32m    279\u001b[0m                 \u001b[0mpathlib\u001b[0m\u001b[1;33m.\u001b[0m\u001b[0mPath\u001b[0m\u001b[1;33m(\u001b[0m\u001b[0mdirectory_to\u001b[0m\u001b[1;33m)\u001b[0m\u001b[1;33m.\u001b[0m\u001b[0mparent\u001b[0m\u001b[1;33m.\u001b[0m\u001b[0mmkdir\u001b[0m\u001b[1;33m(\u001b[0m\u001b[0mparents\u001b[0m\u001b[1;33m=\u001b[0m\u001b[1;32mTrue\u001b[0m\u001b[1;33m,\u001b[0m \u001b[0mexist_ok\u001b[0m\u001b[1;33m=\u001b[0m\u001b[1;32mTrue\u001b[0m\u001b[1;33m)\u001b[0m \u001b[1;31m# create top-level directory for moving\u001b[0m\u001b[1;33m\u001b[0m\u001b[0m\n\u001b[0;32m    280\u001b[0m                 \u001b[0msh\u001b[0m\u001b[1;33m.\u001b[0m\u001b[0mmove\u001b[0m\u001b[1;33m(\u001b[0m\u001b[0mdata_dir\u001b[0m\u001b[1;33m,\u001b[0m\u001b[0mdirectory_to\u001b[0m\u001b[1;33m)\u001b[0m\u001b[1;33m\u001b[0m\u001b[0m\n\u001b[1;32m--> 281\u001b[1;33m                 \u001b[0mdirectory_to\u001b[0m \u001b[1;33m=\u001b[0m \u001b[0msh\u001b[0m\u001b[1;33m.\u001b[0m\u001b[0mmove\u001b[0m\u001b[1;33m(\u001b[0m\u001b[0mdata_dir\u001b[0m\u001b[1;33m,\u001b[0m\u001b[0mdirectory_to\u001b[0m\u001b[1;33m)\u001b[0m\u001b[1;33m\u001b[0m\u001b[0m\n\u001b[0m\u001b[0;32m    282\u001b[0m                 \u001b[0mdata_dir\u001b[0m \u001b[1;33m=\u001b[0m \u001b[0mdirectory_to\u001b[0m\u001b[1;33m\u001b[0m\u001b[0m\n\u001b[0;32m    283\u001b[0m         \u001b[1;32mfinally\u001b[0m\u001b[1;33m:\u001b[0m\u001b[1;33m\u001b[0m\u001b[0m\n",
      "\u001b[1;32mC:\\ProgramData\\Anaconda2\\envs\\py36\\lib\\shutil.py\u001b[0m in \u001b[0;36mmove\u001b[1;34m(src, dst, copy_function)\u001b[0m\n\u001b[0;32m    556\u001b[0m             \u001b[0mrmtree\u001b[0m\u001b[1;33m(\u001b[0m\u001b[0msrc\u001b[0m\u001b[1;33m)\u001b[0m\u001b[1;33m\u001b[0m\u001b[0m\n\u001b[0;32m    557\u001b[0m         \u001b[1;32melse\u001b[0m\u001b[1;33m:\u001b[0m\u001b[1;33m\u001b[0m\u001b[0m\n\u001b[1;32m--> 558\u001b[1;33m             \u001b[0mcopy_function\u001b[0m\u001b[1;33m(\u001b[0m\u001b[0msrc\u001b[0m\u001b[1;33m,\u001b[0m \u001b[0mreal_dst\u001b[0m\u001b[1;33m)\u001b[0m\u001b[1;33m\u001b[0m\u001b[0m\n\u001b[0m\u001b[0;32m    559\u001b[0m             \u001b[0mos\u001b[0m\u001b[1;33m.\u001b[0m\u001b[0munlink\u001b[0m\u001b[1;33m(\u001b[0m\u001b[0msrc\u001b[0m\u001b[1;33m)\u001b[0m\u001b[1;33m\u001b[0m\u001b[0m\n\u001b[0;32m    560\u001b[0m     \u001b[1;32mreturn\u001b[0m \u001b[0mreal_dst\u001b[0m\u001b[1;33m\u001b[0m\u001b[0m\n",
      "\u001b[1;32mC:\\ProgramData\\Anaconda2\\envs\\py36\\lib\\shutil.py\u001b[0m in \u001b[0;36mcopy2\u001b[1;34m(src, dst, follow_symlinks)\u001b[0m\n\u001b[0;32m    255\u001b[0m     \u001b[1;32mif\u001b[0m \u001b[0mos\u001b[0m\u001b[1;33m.\u001b[0m\u001b[0mpath\u001b[0m\u001b[1;33m.\u001b[0m\u001b[0misdir\u001b[0m\u001b[1;33m(\u001b[0m\u001b[0mdst\u001b[0m\u001b[1;33m)\u001b[0m\u001b[1;33m:\u001b[0m\u001b[1;33m\u001b[0m\u001b[0m\n\u001b[0;32m    256\u001b[0m         \u001b[0mdst\u001b[0m \u001b[1;33m=\u001b[0m \u001b[0mos\u001b[0m\u001b[1;33m.\u001b[0m\u001b[0mpath\u001b[0m\u001b[1;33m.\u001b[0m\u001b[0mjoin\u001b[0m\u001b[1;33m(\u001b[0m\u001b[0mdst\u001b[0m\u001b[1;33m,\u001b[0m \u001b[0mos\u001b[0m\u001b[1;33m.\u001b[0m\u001b[0mpath\u001b[0m\u001b[1;33m.\u001b[0m\u001b[0mbasename\u001b[0m\u001b[1;33m(\u001b[0m\u001b[0msrc\u001b[0m\u001b[1;33m)\u001b[0m\u001b[1;33m)\u001b[0m\u001b[1;33m\u001b[0m\u001b[0m\n\u001b[1;32m--> 257\u001b[1;33m     \u001b[0mcopyfile\u001b[0m\u001b[1;33m(\u001b[0m\u001b[0msrc\u001b[0m\u001b[1;33m,\u001b[0m \u001b[0mdst\u001b[0m\u001b[1;33m,\u001b[0m \u001b[0mfollow_symlinks\u001b[0m\u001b[1;33m=\u001b[0m\u001b[0mfollow_symlinks\u001b[0m\u001b[1;33m)\u001b[0m\u001b[1;33m\u001b[0m\u001b[0m\n\u001b[0m\u001b[0;32m    258\u001b[0m     \u001b[0mcopystat\u001b[0m\u001b[1;33m(\u001b[0m\u001b[0msrc\u001b[0m\u001b[1;33m,\u001b[0m \u001b[0mdst\u001b[0m\u001b[1;33m,\u001b[0m \u001b[0mfollow_symlinks\u001b[0m\u001b[1;33m=\u001b[0m\u001b[0mfollow_symlinks\u001b[0m\u001b[1;33m)\u001b[0m\u001b[1;33m\u001b[0m\u001b[0m\n\u001b[0;32m    259\u001b[0m     \u001b[1;32mreturn\u001b[0m \u001b[0mdst\u001b[0m\u001b[1;33m\u001b[0m\u001b[0m\n",
      "\u001b[1;32mC:\\ProgramData\\Anaconda2\\envs\\py36\\lib\\shutil.py\u001b[0m in \u001b[0;36mcopyfile\u001b[1;34m(src, dst, follow_symlinks)\u001b[0m\n\u001b[0;32m    118\u001b[0m         \u001b[0mos\u001b[0m\u001b[1;33m.\u001b[0m\u001b[0msymlink\u001b[0m\u001b[1;33m(\u001b[0m\u001b[0mos\u001b[0m\u001b[1;33m.\u001b[0m\u001b[0mreadlink\u001b[0m\u001b[1;33m(\u001b[0m\u001b[0msrc\u001b[0m\u001b[1;33m)\u001b[0m\u001b[1;33m,\u001b[0m \u001b[0mdst\u001b[0m\u001b[1;33m)\u001b[0m\u001b[1;33m\u001b[0m\u001b[0m\n\u001b[0;32m    119\u001b[0m     \u001b[1;32melse\u001b[0m\u001b[1;33m:\u001b[0m\u001b[1;33m\u001b[0m\u001b[0m\n\u001b[1;32m--> 120\u001b[1;33m         \u001b[1;32mwith\u001b[0m \u001b[0mopen\u001b[0m\u001b[1;33m(\u001b[0m\u001b[0msrc\u001b[0m\u001b[1;33m,\u001b[0m \u001b[1;34m'rb'\u001b[0m\u001b[1;33m)\u001b[0m \u001b[1;32mas\u001b[0m \u001b[0mfsrc\u001b[0m\u001b[1;33m:\u001b[0m\u001b[1;33m\u001b[0m\u001b[0m\n\u001b[0m\u001b[0;32m    121\u001b[0m             \u001b[1;32mwith\u001b[0m \u001b[0mopen\u001b[0m\u001b[1;33m(\u001b[0m\u001b[0mdst\u001b[0m\u001b[1;33m,\u001b[0m \u001b[1;34m'wb'\u001b[0m\u001b[1;33m)\u001b[0m \u001b[1;32mas\u001b[0m \u001b[0mfdst\u001b[0m\u001b[1;33m:\u001b[0m\u001b[1;33m\u001b[0m\u001b[0m\n\u001b[0;32m    122\u001b[0m                 \u001b[0mcopyfileobj\u001b[0m\u001b[1;33m(\u001b[0m\u001b[0mfsrc\u001b[0m\u001b[1;33m,\u001b[0m \u001b[0mfdst\u001b[0m\u001b[1;33m)\u001b[0m\u001b[1;33m\u001b[0m\u001b[0m\n",
      "\u001b[1;31mFileNotFoundError\u001b[0m: [Errno 2] No such file or directory: 'C:\\\\Users\\\\demouser\\\\Desktop\\\\Quantum\\\\data/2018-07-23/01-46-37-Rabi/'"
     ]
    }
   ],
   "source": [
    "ex_amps = np.linspace(0.75,1.0,21)\n",
    "#pause_length = 32e-9\n",
    "pi2_length = 11e-9\n",
    "sigma = 4e-9\n",
    "num_pulses = 16\n",
    "ex_channel = 'iq_ex_00-1-01'\n",
    "readout_begin = np.max((pi2_length+pause_length)*num_pulses)\n",
    "def set_ex_amp(amp):\n",
    "    awg_tek.set_nop(awg_tek.get_clock()/rep_rate)\n",
    "    \n",
    "    sequence = [pg.p(ex_channel, pi2_length, pg.gauss_hd,  amp, 0, sigma,0)]*num_pulses+\\\n",
    "               [pg.p('ro_trg', trg_length, pg.rect, 1), \n",
    "                pg.p('iq_ro', ro_dac_length, pg.rect, ro_amplitude)]\n",
    "    #print(sequence)\n",
    "    pg.set_seq(sequence)\n",
    "    \n",
    "    awg_tek.run()\n",
    "measurement = sweep.sweep(adc_reducer, (ex_amps, set_ex_amp, 'Rabi pulse amplitude'), filename='Rabi')"
   ]
  },
  {
   "cell_type": "markdown",
   "metadata": {},
   "source": [
    "# Optimizing readout pulse settings"
   ]
  },
  {
   "cell_type": "code",
   "execution_count": 94,
   "metadata": {
    "collapsed": true
   },
   "outputs": [],
   "source": [
    "#+ \n",
    "#amp_x=0.554\n",
    "#amp_y=0.554\n",
    "#sigma = 2e-9\n",
    "#amp_x=0.29\n",
    "#amp_y=0.29\n",
    "# Кубит #4, импульсы 8 нс\n",
    "#pause_length = 2e-9\n",
    "#length = 10e-9 # Длительность импульса \n",
    "#sigma = 2.5e-9 # Срез импульса (в сигмах) = Длительност/сигма\n",
    "#amp=0.893\n",
    "#amp_y=0.880\n",
    "#anharmonicity = -200e6\n",
    "#alpha_dimensionless = 0.724\n",
    "# Кубит #4, импульсы 16 нс\n",
    "#pause_length = 0e-9\n",
    "#length = 16e-9 # Длительность импульса \n",
    "#sigma = 3e-9 # Срез импульса (в сигмах) = Длительност/сигма\n",
    "#amp=0.322\n",
    "#anharmonicity = -200e6\n",
    "#alpha_dimensionless = 0.909#553\n",
    "#alpha = -alpha_dimensionless/(anharmonicity*2*np.pi)\n",
    "#xy_acorr = 0.003\n",
    "#amp_y_raw=0.322#\n",
    "amp=0.3245\n",
    "amp2=0.655\n",
    "length=16e-9\n",
    "sigma=3e-9\n",
    "anharmonicity=-227e6\n",
    "pause_length=0\n",
    "alpha_dimensionless =1.035\n",
    "# alpha_dimensionless =1.1\n",
    "alpha = -alpha_dimensionless/(anharmonicity*2*np.pi)\n",
    "xy_acorr =0.0\n",
    "amp_y_raw=0.3245\n",
    "amp_y=amp_y_raw*np.exp(1j*xy_acorr)"
   ]
  },
  {
   "cell_type": "code",
   "execution_count": 95,
   "metadata": {
    "collapsed": true
   },
   "outputs": [],
   "source": [
    "#parametres\n",
    "#ampx_pi_half\n",
    "#ampx_pi\n",
    "#ampy_pi_half\n",
    "#ampy_pi\n",
    "ength=16e-9\n",
    "sigma=3e-9\n",
    "anharmonicity=-227e6\n",
    "alpha_dimensionless =1.035\n",
    "alpha = -alpha_dimensionless/(anharmonicity*2*np.pi)"
   ]
  },
  {
   "cell_type": "code",
   "execution_count": 96,
   "metadata": {
    "collapsed": true
   },
   "outputs": [],
   "source": [
    "pi2_pulse= 16e-9\n",
    "ex_amplitude = 0.8\n",
    "#ro_dac_amplitude =0.42\n",
    "#ro_dac_length = 670e-9\n",
    "pause_length = 0e-9\n",
    "ro_seq_osc = 10\n",
    "rel_amp = 0.5\n",
    "pi2_tukey = 100e-9\n",
    "amp_tukey = 0.845\n",
    "pi2_hann = 62e-9\n",
    "amp_hann = 0.63\n",
    "pi2_gauss = 32e-9\n",
    "sigma_gauss=8e-9\n",
    "amp_gauss = 0.887\n",
    "anharmonicity=-200e6\n",
    "alpha_gauss_dimensionless = -0.630\n",
    "alpha_gauss = alpha_gauss_dimensionless/(2*np.pi*anharmonicity)\n",
    "\n",
    "ro_dac_amplitude = 0.1\n",
    "ro_dac_length = 800e-9\n",
    "ro_seq_osc = 10\n",
    "\n",
    "length = pi2_gauss\n",
    "pulse_type = pg.gauss_hd\n",
    "transition_length = sigma_gauss\n",
    "amp = amp_gauss\n",
    "alpha = alpha_gauss"
   ]
  },
  {
   "cell_type": "code",
   "execution_count": 97,
   "metadata": {},
   "outputs": [
    {
     "data": {
      "text/plain": [
       "<module 'qsweepy.data_reduce' from 'C:\\\\Users\\\\demouser\\\\Desktop\\\\Quantum\\\\qsweepy\\\\data_reduce.py'>"
      ]
     },
     "execution_count": 97,
     "metadata": {},
     "output_type": "execute_result"
    }
   ],
   "source": [
    "imp.reload(tomography_new)\n",
    "imp.reload(awg_iq)\n",
    "imp.reload(data_reduce)\n",
    "#import readout_classifier\n",
    "#imp.reload(readout_classifier)"
   ]
  },
  {
   "cell_type": "code",
   "execution_count": 98,
   "metadata": {},
   "outputs": [
    {
     "ename": "AttributeError",
     "evalue": "'Keysight_M3102A' object has no attribute 'stop'",
     "output_type": "error",
     "traceback": [
      "\u001b[1;31m---------------------------------------------------------------------------\u001b[0m",
      "\u001b[1;31mAttributeError\u001b[0m                            Traceback (most recent call last)",
      "\u001b[1;32m<ipython-input-98-87e8175c1c91>\u001b[0m in \u001b[0;36m<module>\u001b[1;34m()\u001b[0m\n\u001b[1;32m----> 1\u001b[1;33m \u001b[0madc\u001b[0m\u001b[1;33m.\u001b[0m\u001b[0mstop\u001b[0m\u001b[1;33m(\u001b[0m\u001b[1;33m)\u001b[0m\u001b[1;33m\u001b[0m\u001b[0m\n\u001b[0m",
      "\u001b[1;31mAttributeError\u001b[0m: 'Keysight_M3102A' object has no attribute 'stop'"
     ]
    }
   ],
   "source": [
    "adc.stop()"
   ]
  },
  {
   "cell_type": "code",
   "execution_count": 102,
   "metadata": {
    "collapsed": true
   },
   "outputs": [],
   "source": [
    "# To calibrate we need a pi-pulse. Two choices are available, either we use a rectangular pulse or a gaussian pulse.\n",
    "# The pulse is used to excite the qubit with high probability.\n",
    "ex_calib_seq = [pg.p('iq_ex_00-1-01', length, pulse_type, amp, transition_length, alpha), pg.p(None, pause_length),\\\n",
    "                pg.p('iq_ex_00-1-01', length, pulse_type, amp, transition_length, alpha), pg.p(None, pause_length)] # gaussian pulse\n",
    "ex_calib_seq_zero = [pg.p('iq_ex_00-1-01', length, pulse_type,  amp, transition_length, alpha), pg.p(None, pause_length),\\\n",
    "                     pg.p('iq_ex_00-1-01', length, pulse_type, -amp, transition_length, alpha), pg.p(None, pause_length)] # gaussian pulse\n",
    "\n",
    "#ex_calib_seq = [pg.p('iq_ex', length, pulse_type, amp, transition_length), pg.p(None, pause_length)]*2 # gaussian pulse\n",
    "#ex_calib_seq_zero = [pg.p('iq_ex', length, pulse_type, amp, transition_length), pg.p(None, pause_length),\n",
    "#                     pg.p('iq_ex', length, pulse_type, -amp, transition_length), pg.p(None, pause_length),] # gaussian pulse\n",
    "ro_seq = [pg.p('ro_trg', trg_length, pg.rect, 1), \n",
    "                pg.p('iq_ro', ro_dac_length/3., pg.rect, ro_dac_amplitude), \n",
    "                pg.p('iq_ro', ro_dac_length/3., pg.rect, -2*ro_dac_amplitude), \n",
    "                pg.p('iq_ro', ro_dac_length/3., pg.rect, 2*ro_dac_amplitude) ]\n",
    "downsampled_adc = data_reduce.data_reduce(adc)\n",
    "downsampled_adc.filters['Voltage'] = data_reduce.downsample_reducer(adc, 'Voltage', 1, 62.5e6, iq=True, downsample=8)\n",
    "adc_sz = tomography_new.sz_measurer(downsampled_adc, ex_calib_seq, ro_seq, pg, ex_seq_zero=ex_calib_seq_zero)\n",
    "adc_sz.cutoff_start = 0\n",
    "#adc.set_software_nums_multi(1)\n",
    "adc_sz.repeat_samples = 1\n",
    "adc_sz.prepare_seqs = [ex_calib_seq_zero, ex_calib_seq]\n",
    "\n",
    "target_min = lambda: 1-adc_sz.measure()['Calibrated fidelity binary']\n",
    "\n",
    "class ro_pulse_generator:\n",
    "    def __init__(self, adc_sz, ro_dac_amplitude, ro_dac_length, ro_seq_osc=1):\n",
    "        self.ro_dac_amplitude = ro_dac_amplitude\n",
    "        self.ro_dac_length = ro_dac_length\n",
    "        self.adc_sz = adc_sz\n",
    "        self.ro_seq_osc = ro_seq_osc\n",
    "        self.initial_pulse_rel_amplitude = 0.5\n",
    "    def set_ro_seq_osc(self, ro_seq_osc):\n",
    "        self.ro_seq_osc = ro_seq_osc\n",
    "        self.make_ro_seq()\n",
    "    def set_initial_pulse_rel_amplitude(self, rel_amp):\n",
    "        self.initial_pulse_rel_amplitude = rel_amp\n",
    "        self.make_ro_seq()\n",
    "    def make_ro_seq(self):\n",
    "        pl = self.ro_dac_length/(self.ro_seq_osc)\n",
    "        adc_sz.ro_seq = [pg.p(None, 2e-09),\n",
    "            pg.p('ro_trg', trg_length, pg.rect, 1), \n",
    "                pg.p('iq_ro', pl, pg.rect, self.ro_dac_amplitude*self.initial_pulse_rel_amplitude)]+\\\n",
    "               [pg.p('iq_ro', pl, pg.rect, (-(-1)**i)*self.ro_dac_amplitude) for i in range(self.ro_seq_osc-1)]\n",
    "    def set_ro_length(self, ro_dac_length):\n",
    "        self.ro_dac_length = ro_dac_length\n",
    "        self.make_ro_seq()\n",
    "    def set_ro_amplitude(self, ro_amplitude):\n",
    "        self.ro_dac_amplitude = ro_dac_amplitude\n",
    "        self.make_ro_seq()\n",
    "\n",
    "ro_dac_lengths = np.linspace(0.0e-6, 1.0e-6, 21)\n",
    "ro_dac_amplitudes = np.linspace(0.0,0.5, 21)\n",
    "rel_amps = np.linspace(0.4, 0.6, 21)\n",
    "#ro_dac_length = 300e-9\n",
    "\n",
    "ro_pulse_generator_inst = ro_pulse_generator(adc_sz, ro_dac_amplitude, ro_dac_length, 1)\n",
    "#solution, score = sweep.optimize(target_min, (ro_pulse_generator_inst.set_ro_length, 3e-8), \n",
    "#                                             (ro_pulse_generator_inst.set_ro_amplitude, 0.9), maxfun=30)\n",
    "\n",
    "#ro_dac_length = solution[0]\n",
    "#ro_dac_amplitude = solution[1]"
   ]
  },
  {
   "cell_type": "code",
   "execution_count": 44,
   "metadata": {
    "collapsed": true
   },
   "outputs": [],
   "source": [
    "adc.stop()"
   ]
  },
  {
   "cell_type": "code",
   "execution_count": 103,
   "metadata": {
    "scrolled": true
   },
   "outputs": [
    {
     "data": {
      "application/vnd.jupyter.widget-view+json": {
       "model_id": "1a997cf622bb4a0b8509005c6802cd9e"
      }
     },
     "metadata": {},
     "output_type": "display_data"
    },
    {
     "name": "stdout",
     "output_type": "stream",
     "text": [
      "Started at:  Jul 23 2018 02:10:40\n"
     ]
    },
    {
     "name": "stderr",
     "output_type": "stream",
     "text": [
      "C:\\Users\\demouser\\Desktop\\Quantum\\qsweepy\\plotting.py:64: RuntimeWarning: invalid value encountered in sqrt\n",
      "  num_cols = int(np.ceil(np.sqrt(num_axes*(4/3))))\n"
     ]
    },
    {
     "ename": "ValueError",
     "evalue": "cannot convert float NaN to integer",
     "output_type": "error",
     "traceback": [
      "\u001b[1;31m---------------------------------------------------------------------------\u001b[0m",
      "\u001b[1;31mValueError\u001b[0m                                Traceback (most recent call last)",
      "\u001b[1;32m<ipython-input-103-ea929fc2da77>\u001b[0m in \u001b[0;36m<module>\u001b[1;34m()\u001b[0m\n\u001b[0;32m      6\u001b[0m                                  \u001b[1;31m#(rel_amps, ro_pulse_generator_inst.set_initial_pulse_rel_amplitude, 'initial pulse amplitude'),\u001b[0m\u001b[1;33m\u001b[0m\u001b[1;33m\u001b[0m\u001b[0m\n\u001b[0;32m      7\u001b[0m                                 \u001b[1;31m#(np.arange(1, 10), ro_pulse_generator_inst.set_ro_seq_osc, 'Readout pulse oscillation num'),\u001b[0m\u001b[1;33m\u001b[0m\u001b[1;33m\u001b[0m\u001b[0m\n\u001b[1;32m----> 8\u001b[1;33m                                  \u001b[1;33m(\u001b[0m\u001b[0mro_dac_lengths\u001b[0m\u001b[1;33m,\u001b[0m \u001b[0mro_pulse_generator_inst\u001b[0m\u001b[1;33m.\u001b[0m\u001b[0mset_ro_length\u001b[0m\u001b[1;33m,\u001b[0m \u001b[1;34m'Readout pulse length'\u001b[0m\u001b[1;33m)\u001b[0m\u001b[1;33m\u001b[0m\u001b[0m\n\u001b[0m\u001b[0;32m      9\u001b[0m                     \u001b[1;31m#(ro_dac_amplitudes, ro_pulse_generator_inst.set_ro_amplitude, 'Readout pulse amplitude')\u001b[0m\u001b[1;33m\u001b[0m\u001b[1;33m\u001b[0m\u001b[0m\n\u001b[0;32m     10\u001b[0m                                 )\n",
      "\u001b[1;32mC:\\Users\\demouser\\Desktop\\Quantum\\qsweepy\\sweep.py\u001b[0m in \u001b[0;36msweep\u001b[1;34m(measurer, filename, root_dir, plot, plot_separate_thread, header, output, save, time_war_label, bot, *params)\u001b[0m\n\u001b[0;32m    138\u001b[0m         \u001b[1;32mif\u001b[0m \u001b[0mplot\u001b[0m\u001b[1;33m:\u001b[0m\u001b[1;33m\u001b[0m\u001b[0m\n\u001b[0;32m    139\u001b[0m                 \u001b[0mplot_update_start\u001b[0m \u001b[1;33m=\u001b[0m \u001b[0mtime\u001b[0m\u001b[1;33m.\u001b[0m\u001b[0mtime\u001b[0m\u001b[1;33m(\u001b[0m\u001b[1;33m)\u001b[0m\u001b[1;33m\u001b[0m\u001b[0m\n\u001b[1;32m--> 140\u001b[1;33m                 \u001b[0mplot_axes\u001b[0m \u001b[1;33m=\u001b[0m \u001b[0mplotting\u001b[0m\u001b[1;33m.\u001b[0m\u001b[0mplot_measurement\u001b[0m\u001b[1;33m(\u001b[0m\u001b[0mmk_measurement\u001b[0m\u001b[1;33m(\u001b[0m\u001b[1;36m0\u001b[0m\u001b[1;33m)\u001b[0m\u001b[1;33m,\u001b[0m \u001b[0mname\u001b[0m\u001b[1;33m=\u001b[0m\u001b[0mfilename\u001b[0m\u001b[1;33m)\u001b[0m\u001b[1;33m\u001b[0m\u001b[0m\n\u001b[0m\u001b[0;32m    141\u001b[0m                 \u001b[0mlast_plot_update\u001b[0m \u001b[1;33m=\u001b[0m \u001b[0mtime\u001b[0m\u001b[1;33m.\u001b[0m\u001b[0mtime\u001b[0m\u001b[1;33m(\u001b[0m\u001b[1;33m)\u001b[0m\u001b[1;33m\u001b[0m\u001b[0m\n\u001b[0;32m    142\u001b[0m                 \u001b[0mplot_update_time\u001b[0m \u001b[1;33m=\u001b[0m \u001b[0mlast_plot_update\u001b[0m \u001b[1;33m-\u001b[0m \u001b[0mplot_update_start\u001b[0m\u001b[1;33m\u001b[0m\u001b[0m\n",
      "\u001b[1;32mC:\\Users\\demouser\\Desktop\\Quantum\\qsweepy\\plotting.py\u001b[0m in \u001b[0;36mplot_measurement\u001b[1;34m(measurement, name, save, annotation, subplots)\u001b[0m\n\u001b[0;32m     62\u001b[0m \u001b[1;33m\u001b[0m\u001b[0m\n\u001b[0;32m     63\u001b[0m                 \u001b[1;31m#num_rows = np.sqrt(num_axes*(3/4))\u001b[0m\u001b[1;33m\u001b[0m\u001b[1;33m\u001b[0m\u001b[0m\n\u001b[1;32m---> 64\u001b[1;33m                 \u001b[0mnum_cols\u001b[0m \u001b[1;33m=\u001b[0m \u001b[0mint\u001b[0m\u001b[1;33m(\u001b[0m\u001b[0mnp\u001b[0m\u001b[1;33m.\u001b[0m\u001b[0mceil\u001b[0m\u001b[1;33m(\u001b[0m\u001b[0mnp\u001b[0m\u001b[1;33m.\u001b[0m\u001b[0msqrt\u001b[0m\u001b[1;33m(\u001b[0m\u001b[0mnum_axes\u001b[0m\u001b[1;33m*\u001b[0m\u001b[1;33m(\u001b[0m\u001b[1;36m4\u001b[0m\u001b[1;33m/\u001b[0m\u001b[1;36m3\u001b[0m\u001b[1;33m)\u001b[0m\u001b[1;33m)\u001b[0m\u001b[1;33m)\u001b[0m\u001b[1;33m)\u001b[0m\u001b[1;33m\u001b[0m\u001b[0m\n\u001b[0m\u001b[0;32m     65\u001b[0m                 \u001b[0mnum_rows\u001b[0m \u001b[1;33m=\u001b[0m \u001b[0mint\u001b[0m\u001b[1;33m(\u001b[0m\u001b[0mnp\u001b[0m\u001b[1;33m.\u001b[0m\u001b[0mceil\u001b[0m\u001b[1;33m(\u001b[0m\u001b[0mnum_axes\u001b[0m\u001b[1;33m/\u001b[0m\u001b[0mnum_cols\u001b[0m\u001b[1;33m)\u001b[0m\u001b[1;33m)\u001b[0m\u001b[1;33m\u001b[0m\u001b[0m\n\u001b[0;32m     66\u001b[0m \u001b[1;33m\u001b[0m\u001b[0m\n",
      "\u001b[1;31mValueError\u001b[0m: cannot convert float NaN to integer"
     ]
    }
   ],
   "source": [
    "ro_pulse_generator_inst.set_ro_amplitude(ro_dac_amplitude)\n",
    "ro_pulse_generator_inst.set_ro_length(ro_dac_length)\n",
    "ro_pulse_generator_inst.set_ro_seq_osc(ro_seq_osc)\n",
    "ro_pulse_generator_inst.set_initial_pulse_rel_amplitude(rel_amp)\n",
    "ro_amplitude_calib = sweep.sweep(adc_sz,\n",
    "                                 #(rel_amps, ro_pulse_generator_inst.set_initial_pulse_rel_amplitude, 'initial pulse amplitude'),\n",
    "                                #(np.arange(1, 10), ro_pulse_generator_inst.set_ro_seq_osc, 'Readout pulse oscillation num'),\n",
    "                                 (ro_dac_lengths, ro_pulse_generator_inst.set_ro_length, 'Readout pulse length')\n",
    "                    #(ro_dac_amplitudes, ro_pulse_generator_inst.set_ro_amplitude, 'Readout pulse amplitude')\n",
    "                                )\n",
    "#ro_dac_length = ro_amplitude_calib['Calibrated fidelity'][1][0][np.argmax(ro_amplitude_calib['Calibrated fidelity'][2])]\n",
    "\n",
    "adc.set_software_nums_multi(1)"
   ]
  },
  {
   "cell_type": "code",
   "execution_count": null,
   "metadata": {
    "collapsed": true
   },
   "outputs": [],
   "source": [
    "plt.figure('hists')\n",
    "plt.plot(adc_sz.predictor_class.proba_points, np.asarray(adc_sz.predictor_class.hists).T)"
   ]
  },
  {
   "cell_type": "code",
   "execution_count": 42,
   "metadata": {},
   "outputs": [
    {
     "name": "stdout",
     "output_type": "stream",
     "text": [
      "Calibrated optimal readout amplitude:  0.1 8e-07\n"
     ]
    },
    {
     "name": "stderr",
     "output_type": "stream",
     "text": [
      "D:\\qtlab_replacement\\instruments\\Tektronix_AWG5014.py:648: ComplexWarning: Casting complex values to real discards the imaginary part\n",
      "  m1[:] = marker[:len(m1)]\n"
     ]
    },
    {
     "ename": "ValueError",
     "evalue": "cannot reshape array of size 20480000 into shape (15000,256,8)",
     "output_type": "error",
     "traceback": [
      "\u001b[1;31m---------------------------------------------------------------------------\u001b[0m",
      "\u001b[1;31mValueError\u001b[0m                                Traceback (most recent call last)",
      "\u001b[1;32m<ipython-input-42-9c55029ad3cc>\u001b[0m in \u001b[0;36m<module>\u001b[1;34m()\u001b[0m\n\u001b[0;32m      4\u001b[0m \u001b[0mro_pulse_generator_inst\u001b[0m\u001b[1;33m.\u001b[0m\u001b[0mset_ro_length\u001b[0m\u001b[1;33m(\u001b[0m\u001b[0mro_dac_length\u001b[0m\u001b[1;33m)\u001b[0m\u001b[1;33m\u001b[0m\u001b[0m\n\u001b[0;32m      5\u001b[0m \u001b[0mro_pulse_generator_inst\u001b[0m\u001b[1;33m.\u001b[0m\u001b[0mset_ro_seq_osc\u001b[0m\u001b[1;33m(\u001b[0m\u001b[0mro_seq_osc\u001b[0m\u001b[1;33m)\u001b[0m\u001b[1;33m\u001b[0m\u001b[0m\n\u001b[1;32m----> 6\u001b[1;33m \u001b[0mcalib_meas\u001b[0m \u001b[1;33m=\u001b[0m \u001b[0madc_sz\u001b[0m\u001b[1;33m.\u001b[0m\u001b[0mmeasure\u001b[0m\u001b[1;33m(\u001b[0m\u001b[1;33m)\u001b[0m\u001b[1;33m\u001b[0m\u001b[0m\n\u001b[0m\u001b[0;32m      7\u001b[0m \u001b[0mplt\u001b[0m\u001b[1;33m.\u001b[0m\u001b[0mfigure\u001b[0m\u001b[1;33m(\u001b[0m\u001b[1;34m'hists'\u001b[0m\u001b[1;33m)\u001b[0m\u001b[1;33m\u001b[0m\u001b[0m\n\u001b[0;32m      8\u001b[0m \u001b[0mplt\u001b[0m\u001b[1;33m.\u001b[0m\u001b[0mplot\u001b[0m\u001b[1;33m(\u001b[0m\u001b[0madc_sz\u001b[0m\u001b[1;33m.\u001b[0m\u001b[0mcalib_proba_points\u001b[0m\u001b[1;33m,\u001b[0m \u001b[0madc_sz\u001b[0m\u001b[1;33m.\u001b[0m\u001b[0mcalib_hists\u001b[0m\u001b[1;33m.\u001b[0m\u001b[0mT\u001b[0m\u001b[1;33m)\u001b[0m\u001b[1;33m\u001b[0m\u001b[0m\n",
      "\u001b[1;32mD:\\qtlab_replacement\\scripts\\tomography.py\u001b[0m in \u001b[0;36mmeasure\u001b[1;34m(self)\u001b[0m\n\u001b[0;32m    304\u001b[0m \u001b[1;33m\u001b[0m\u001b[0m\n\u001b[0;32m    305\u001b[0m         \u001b[1;32mdef\u001b[0m \u001b[0mmeasure\u001b[0m\u001b[1;33m(\u001b[0m\u001b[0mself\u001b[0m\u001b[1;33m)\u001b[0m\u001b[1;33m:\u001b[0m\u001b[1;33m\u001b[0m\u001b[0m\n\u001b[1;32m--> 306\u001b[1;33m                 \u001b[0mself\u001b[0m\u001b[1;33m.\u001b[0m\u001b[0mcalibrate\u001b[0m\u001b[1;33m(\u001b[0m\u001b[1;33m)\u001b[0m\u001b[1;33m\u001b[0m\u001b[0m\n\u001b[0m\u001b[0;32m    307\u001b[0m \t\tmeas = {#'Calibrated ROC AUC binary': self.calib_roc_auc_binary,\n\u001b[0;32m    308\u001b[0m                                 \u001b[1;34m'Calibrated ROC AUC'\u001b[0m\u001b[1;33m:\u001b[0m \u001b[0mself\u001b[0m\u001b[1;33m.\u001b[0m\u001b[0mcalib_roc_auc\u001b[0m\u001b[1;33m,\u001b[0m\u001b[1;33m\u001b[0m\u001b[0m\n",
      "\u001b[1;32mD:\\qtlab_replacement\\scripts\\tomography.py\u001b[0m in \u001b[0;36mcalibrate\u001b[1;34m(self)\u001b[0m\n\u001b[0;32m    160\u001b[0m                 \u001b[1;32mfor\u001b[0m \u001b[0mi\u001b[0m \u001b[1;32min\u001b[0m \u001b[0mrange\u001b[0m\u001b[1;33m(\u001b[0m\u001b[0mself\u001b[0m\u001b[1;33m.\u001b[0m\u001b[0mrepeat_samples\u001b[0m\u001b[1;33m)\u001b[0m\u001b[1;33m:\u001b[0m\u001b[1;33m\u001b[0m\u001b[0m\n\u001b[0;32m    161\u001b[0m                         \u001b[0mself\u001b[0m\u001b[1;33m.\u001b[0m\u001b[0mpulse_generator\u001b[0m\u001b[1;33m.\u001b[0m\u001b[0mset_seq\u001b[0m\u001b[1;33m(\u001b[0m\u001b[0mself\u001b[0m\u001b[1;33m.\u001b[0m\u001b[0mex_seq_zero\u001b[0m\u001b[1;33m+\u001b[0m\u001b[0mself\u001b[0m\u001b[1;33m.\u001b[0m\u001b[0mro_seq\u001b[0m\u001b[1;33m)\u001b[0m\u001b[1;33m\u001b[0m\u001b[0m\n\u001b[1;32m--> 162\u001b[1;33m                         \u001b[0msamples_zero\u001b[0m\u001b[1;33m.\u001b[0m\u001b[0mappend\u001b[0m\u001b[1;33m(\u001b[0m\u001b[0mself\u001b[0m\u001b[1;33m.\u001b[0m\u001b[0madc\u001b[0m\u001b[1;33m.\u001b[0m\u001b[0mmeasure\u001b[0m\u001b[1;33m(\u001b[0m\u001b[1;33m)\u001b[0m\u001b[1;33m[\u001b[0m\u001b[1;34m'Voltage'\u001b[0m\u001b[1;33m]\u001b[0m\u001b[1;33m)\u001b[0m\u001b[1;33m\u001b[0m\u001b[0m\n\u001b[0m\u001b[0;32m    163\u001b[0m                         \u001b[1;31m# pi pulse sequence\u001b[0m\u001b[1;33m\u001b[0m\u001b[1;33m\u001b[0m\u001b[0m\n\u001b[0;32m    164\u001b[0m                         \u001b[0mself\u001b[0m\u001b[1;33m.\u001b[0m\u001b[0mpulse_generator\u001b[0m\u001b[1;33m.\u001b[0m\u001b[0mset_seq\u001b[0m\u001b[1;33m(\u001b[0m\u001b[0mself\u001b[0m\u001b[1;33m.\u001b[0m\u001b[0mex_seq\u001b[0m\u001b[1;33m+\u001b[0m\u001b[0mself\u001b[0m\u001b[1;33m.\u001b[0m\u001b[0mro_seq\u001b[0m\u001b[1;33m)\u001b[0m\u001b[1;33m\u001b[0m\u001b[0m\n",
      "\u001b[1;32mD:\\qtlab_replacement\\scripts\\data_reduce.py\u001b[0m in \u001b[0;36mmeasure\u001b[1;34m(self)\u001b[0m\n\u001b[0;32m     19\u001b[0m         \u001b[1;32mdef\u001b[0m \u001b[0mmeasure\u001b[0m\u001b[1;33m(\u001b[0m\u001b[0mself\u001b[0m\u001b[1;33m)\u001b[0m\u001b[1;33m:\u001b[0m\u001b[1;33m\u001b[0m\u001b[0m\n\u001b[0;32m     20\u001b[0m                 \u001b[0mdata\u001b[0m \u001b[1;33m=\u001b[0m \u001b[0mself\u001b[0m\u001b[1;33m.\u001b[0m\u001b[0msource\u001b[0m\u001b[1;33m.\u001b[0m\u001b[0mmeasure\u001b[0m\u001b[1;33m(\u001b[0m\u001b[1;33m)\u001b[0m\u001b[1;33m\u001b[0m\u001b[0m\n\u001b[1;32m---> 21\u001b[1;33m                 \u001b[1;32mreturn\u001b[0m \u001b[1;33m{\u001b[0m \u001b[0mfilter_name\u001b[0m\u001b[1;33m:\u001b[0m\u001b[0mfilter\u001b[0m\u001b[1;33m[\u001b[0m\u001b[1;34m'filter'\u001b[0m\u001b[1;33m]\u001b[0m\u001b[1;33m(\u001b[0m\u001b[0mdata\u001b[0m\u001b[1;33m)\u001b[0m \u001b[1;32mfor\u001b[0m \u001b[0mfilter_name\u001b[0m\u001b[1;33m,\u001b[0m \u001b[0mfilter\u001b[0m \u001b[1;32min\u001b[0m \u001b[0mself\u001b[0m\u001b[1;33m.\u001b[0m\u001b[0mfilters\u001b[0m\u001b[1;33m.\u001b[0m\u001b[0mitems\u001b[0m\u001b[1;33m(\u001b[0m\u001b[1;33m)\u001b[0m\u001b[1;33m}\u001b[0m\u001b[1;33m\u001b[0m\u001b[0m\n\u001b[0m\u001b[0;32m     22\u001b[0m \u001b[1;33m\u001b[0m\u001b[0m\n\u001b[0;32m     23\u001b[0m         \u001b[1;32mdef\u001b[0m \u001b[0mget_opts\u001b[0m\u001b[1;33m(\u001b[0m\u001b[0mself\u001b[0m\u001b[1;33m)\u001b[0m\u001b[1;33m:\u001b[0m\u001b[1;33m\u001b[0m\u001b[0m\n",
      "\u001b[1;32mD:\\qtlab_replacement\\scripts\\data_reduce.py\u001b[0m in \u001b[0;36m<dictcomp>\u001b[1;34m(.0)\u001b[0m\n\u001b[0;32m     19\u001b[0m         \u001b[1;32mdef\u001b[0m \u001b[0mmeasure\u001b[0m\u001b[1;33m(\u001b[0m\u001b[0mself\u001b[0m\u001b[1;33m)\u001b[0m\u001b[1;33m:\u001b[0m\u001b[1;33m\u001b[0m\u001b[0m\n\u001b[0;32m     20\u001b[0m                 \u001b[0mdata\u001b[0m \u001b[1;33m=\u001b[0m \u001b[0mself\u001b[0m\u001b[1;33m.\u001b[0m\u001b[0msource\u001b[0m\u001b[1;33m.\u001b[0m\u001b[0mmeasure\u001b[0m\u001b[1;33m(\u001b[0m\u001b[1;33m)\u001b[0m\u001b[1;33m\u001b[0m\u001b[0m\n\u001b[1;32m---> 21\u001b[1;33m                 \u001b[1;32mreturn\u001b[0m \u001b[1;33m{\u001b[0m \u001b[0mfilter_name\u001b[0m\u001b[1;33m:\u001b[0m\u001b[0mfilter\u001b[0m\u001b[1;33m[\u001b[0m\u001b[1;34m'filter'\u001b[0m\u001b[1;33m]\u001b[0m\u001b[1;33m(\u001b[0m\u001b[0mdata\u001b[0m\u001b[1;33m)\u001b[0m \u001b[1;32mfor\u001b[0m \u001b[0mfilter_name\u001b[0m\u001b[1;33m,\u001b[0m \u001b[0mfilter\u001b[0m \u001b[1;32min\u001b[0m \u001b[0mself\u001b[0m\u001b[1;33m.\u001b[0m\u001b[0mfilters\u001b[0m\u001b[1;33m.\u001b[0m\u001b[0mitems\u001b[0m\u001b[1;33m(\u001b[0m\u001b[1;33m)\u001b[0m\u001b[1;33m}\u001b[0m\u001b[1;33m\u001b[0m\u001b[0m\n\u001b[0m\u001b[0;32m     22\u001b[0m \u001b[1;33m\u001b[0m\u001b[0m\n\u001b[0;32m     23\u001b[0m         \u001b[1;32mdef\u001b[0m \u001b[0mget_opts\u001b[0m\u001b[1;33m(\u001b[0m\u001b[0mself\u001b[0m\u001b[1;33m)\u001b[0m\u001b[1;33m:\u001b[0m\u001b[1;33m\u001b[0m\u001b[0m\n",
      "\u001b[1;32mD:\\qtlab_replacement\\scripts\\data_reduce.py\u001b[0m in \u001b[0;36m<lambda>\u001b[1;34m(x)\u001b[0m\n\u001b[0;32m     35\u001b[0m         \u001b[0mfilter_func\u001b[0m \u001b[1;33m=\u001b[0m \u001b[1;32mlambda\u001b[0m \u001b[0mx\u001b[0m\u001b[1;33m,\u001b[0m\u001b[0ms\u001b[0m\u001b[1;33m:\u001b[0m\u001b[0mnp\u001b[0m\u001b[1;33m.\u001b[0m\u001b[0mmean\u001b[0m\u001b[1;33m(\u001b[0m\u001b[0mnp\u001b[0m\u001b[1;33m.\u001b[0m\u001b[0mreshape\u001b[0m\u001b[1;33m(\u001b[0m\u001b[0mnp\u001b[0m\u001b[1;33m.\u001b[0m\u001b[0mexp\u001b[0m\u001b[1;33m(\u001b[0m\u001b[0ms\u001b[0m\u001b[1;33m*\u001b[0m\u001b[1;36m2\u001b[0m\u001b[1;33m*\u001b[0m\u001b[0mnp\u001b[0m\u001b[1;33m.\u001b[0m\u001b[0mpi\u001b[0m\u001b[1;33m*\u001b[0m\u001b[1;36m1j\u001b[0m\u001b[1;33m*\u001b[0m\u001b[0msource\u001b[0m\u001b[1;33m.\u001b[0m\u001b[0mget_points\u001b[0m\u001b[1;33m(\u001b[0m\u001b[1;33m)\u001b[0m\u001b[1;33m[\u001b[0m\u001b[0msrc_meas\u001b[0m\u001b[1;33m]\u001b[0m\u001b[1;33m[\u001b[0m\u001b[0maxis\u001b[0m\u001b[1;33m]\u001b[0m\u001b[1;33m[\u001b[0m\u001b[1;36m1\u001b[0m\u001b[1;33m]\u001b[0m\u001b[1;33m*\u001b[0m\u001b[0mcarrier\u001b[0m\u001b[1;33m)\u001b[0m\u001b[1;33m*\u001b[0m\u001b[0mx\u001b[0m\u001b[1;33m[\u001b[0m\u001b[0msrc_meas\u001b[0m\u001b[1;33m]\u001b[0m\u001b[1;33m,\u001b[0m \u001b[0mintermediate_axes\u001b[0m\u001b[1;33m)\u001b[0m\u001b[1;33m,\u001b[0m \u001b[0maxis\u001b[0m\u001b[1;33m=\u001b[0m\u001b[0maxis\u001b[0m\u001b[1;33m+\u001b[0m\u001b[1;36m1\u001b[0m\u001b[1;33m)\u001b[0m\u001b[1;33m\u001b[0m\u001b[0m\n\u001b[0;32m     36\u001b[0m \u001b[1;33m\u001b[0m\u001b[0m\n\u001b[1;32m---> 37\u001b[1;33m \tfilter = {'filter': lambda x:filter_func(x,1) if not iq else np.concatenate([filter_func(x,1), filter_func(x,-1)], axis=iq_axis),\n\u001b[0m\u001b[0;32m     38\u001b[0m                           \u001b[1;34m'get_points'\u001b[0m\u001b[1;33m:\u001b[0m \u001b[0mget_points\u001b[0m\u001b[1;33m,\u001b[0m\u001b[1;33m\u001b[0m\u001b[0m\n\u001b[0;32m     39\u001b[0m                           \u001b[1;34m'get_dtype'\u001b[0m\u001b[1;33m:\u001b[0m \u001b[1;33m(\u001b[0m\u001b[1;32mlambda\u001b[0m \u001b[1;33m:\u001b[0m \u001b[0mcomplex\u001b[0m \u001b[1;32mif\u001b[0m \u001b[0msource\u001b[0m\u001b[1;33m.\u001b[0m\u001b[0mget_dtype\u001b[0m\u001b[1;33m(\u001b[0m\u001b[1;33m)\u001b[0m\u001b[1;33m[\u001b[0m\u001b[0msrc_meas\u001b[0m\u001b[1;33m]\u001b[0m \u001b[1;32mis\u001b[0m \u001b[0mcomplex\u001b[0m \u001b[1;32melse\u001b[0m \u001b[0mfloat\u001b[0m\u001b[1;33m)\u001b[0m\u001b[1;33m,\u001b[0m\u001b[1;33m\u001b[0m\u001b[0m\n",
      "\u001b[1;32mD:\\qtlab_replacement\\scripts\\data_reduce.py\u001b[0m in \u001b[0;36m<lambda>\u001b[1;34m(x, s)\u001b[0m\n\u001b[0;32m     33\u001b[0m                 \u001b[1;32mreturn\u001b[0m \u001b[0mnew_axes\u001b[0m\u001b[1;33m\u001b[0m\u001b[0m\n\u001b[0;32m     34\u001b[0m         \u001b[0mintermediate_axes\u001b[0m \u001b[1;33m=\u001b[0m \u001b[1;33m[\u001b[0m\u001b[0mlen\u001b[0m\u001b[1;33m(\u001b[0m\u001b[0ma\u001b[0m\u001b[1;33m[\u001b[0m\u001b[1;36m1\u001b[0m\u001b[1;33m]\u001b[0m\u001b[1;33m)\u001b[0m \u001b[1;32mfor\u001b[0m \u001b[0ma\u001b[0m \u001b[1;32min\u001b[0m \u001b[0msource\u001b[0m\u001b[1;33m.\u001b[0m\u001b[0mget_points\u001b[0m\u001b[1;33m(\u001b[0m\u001b[1;33m)\u001b[0m\u001b[1;33m[\u001b[0m\u001b[0msrc_meas\u001b[0m\u001b[1;33m]\u001b[0m\u001b[1;33m[\u001b[0m\u001b[1;33m:\u001b[0m\u001b[0maxis\u001b[0m\u001b[1;33m]\u001b[0m\u001b[1;33m]\u001b[0m\u001b[1;33m+\u001b[0m\u001b[1;33m[\u001b[0m\u001b[0mlen\u001b[0m\u001b[1;33m(\u001b[0m\u001b[0msource\u001b[0m\u001b[1;33m.\u001b[0m\u001b[0mget_points\u001b[0m\u001b[1;33m(\u001b[0m\u001b[1;33m)\u001b[0m\u001b[1;33m[\u001b[0m\u001b[0msrc_meas\u001b[0m\u001b[1;33m]\u001b[0m\u001b[1;33m[\u001b[0m\u001b[0maxis\u001b[0m\u001b[1;33m]\u001b[0m\u001b[1;33m[\u001b[0m\u001b[1;36m1\u001b[0m\u001b[1;33m]\u001b[0m\u001b[1;33m[\u001b[0m\u001b[1;33m:\u001b[0m\u001b[1;33m:\u001b[0m\u001b[0mdownsample\u001b[0m\u001b[1;33m]\u001b[0m\u001b[1;33m)\u001b[0m\u001b[1;33m,\u001b[0m \u001b[0mdownsample\u001b[0m\u001b[1;33m]\u001b[0m\u001b[1;33m+\u001b[0m\u001b[1;33m[\u001b[0m\u001b[0mlen\u001b[0m\u001b[1;33m(\u001b[0m\u001b[0ma\u001b[0m\u001b[1;33m[\u001b[0m\u001b[1;36m1\u001b[0m\u001b[1;33m]\u001b[0m\u001b[1;33m)\u001b[0m \u001b[1;32mfor\u001b[0m \u001b[0ma\u001b[0m \u001b[1;32min\u001b[0m \u001b[0msource\u001b[0m\u001b[1;33m.\u001b[0m\u001b[0mget_points\u001b[0m\u001b[1;33m(\u001b[0m\u001b[1;33m)\u001b[0m\u001b[1;33m[\u001b[0m\u001b[0msrc_meas\u001b[0m\u001b[1;33m]\u001b[0m\u001b[1;33m[\u001b[0m\u001b[0maxis\u001b[0m\u001b[1;33m+\u001b[0m\u001b[1;36m1\u001b[0m\u001b[1;33m:\u001b[0m\u001b[1;33m]\u001b[0m\u001b[1;33m]\u001b[0m\u001b[1;33m\u001b[0m\u001b[0m\n\u001b[1;32m---> 35\u001b[1;33m         \u001b[0mfilter_func\u001b[0m \u001b[1;33m=\u001b[0m \u001b[1;32mlambda\u001b[0m \u001b[0mx\u001b[0m\u001b[1;33m,\u001b[0m\u001b[0ms\u001b[0m\u001b[1;33m:\u001b[0m\u001b[0mnp\u001b[0m\u001b[1;33m.\u001b[0m\u001b[0mmean\u001b[0m\u001b[1;33m(\u001b[0m\u001b[0mnp\u001b[0m\u001b[1;33m.\u001b[0m\u001b[0mreshape\u001b[0m\u001b[1;33m(\u001b[0m\u001b[0mnp\u001b[0m\u001b[1;33m.\u001b[0m\u001b[0mexp\u001b[0m\u001b[1;33m(\u001b[0m\u001b[0ms\u001b[0m\u001b[1;33m*\u001b[0m\u001b[1;36m2\u001b[0m\u001b[1;33m*\u001b[0m\u001b[0mnp\u001b[0m\u001b[1;33m.\u001b[0m\u001b[0mpi\u001b[0m\u001b[1;33m*\u001b[0m\u001b[1;36m1j\u001b[0m\u001b[1;33m*\u001b[0m\u001b[0msource\u001b[0m\u001b[1;33m.\u001b[0m\u001b[0mget_points\u001b[0m\u001b[1;33m(\u001b[0m\u001b[1;33m)\u001b[0m\u001b[1;33m[\u001b[0m\u001b[0msrc_meas\u001b[0m\u001b[1;33m]\u001b[0m\u001b[1;33m[\u001b[0m\u001b[0maxis\u001b[0m\u001b[1;33m]\u001b[0m\u001b[1;33m[\u001b[0m\u001b[1;36m1\u001b[0m\u001b[1;33m]\u001b[0m\u001b[1;33m*\u001b[0m\u001b[0mcarrier\u001b[0m\u001b[1;33m)\u001b[0m\u001b[1;33m*\u001b[0m\u001b[0mx\u001b[0m\u001b[1;33m[\u001b[0m\u001b[0msrc_meas\u001b[0m\u001b[1;33m]\u001b[0m\u001b[1;33m,\u001b[0m \u001b[0mintermediate_axes\u001b[0m\u001b[1;33m)\u001b[0m\u001b[1;33m,\u001b[0m \u001b[0maxis\u001b[0m\u001b[1;33m=\u001b[0m\u001b[0maxis\u001b[0m\u001b[1;33m+\u001b[0m\u001b[1;36m1\u001b[0m\u001b[1;33m)\u001b[0m\u001b[1;33m\u001b[0m\u001b[0m\n\u001b[0m\u001b[0;32m     36\u001b[0m \u001b[1;33m\u001b[0m\u001b[0m\n\u001b[0;32m     37\u001b[0m \tfilter = {'filter': lambda x:filter_func(x,1) if not iq else np.concatenate([filter_func(x,1), filter_func(x,-1)], axis=iq_axis),\n",
      "\u001b[1;32mC:\\ProgramData\\Anaconda3\\lib\\site-packages\\numpy\\core\\fromnumeric.py\u001b[0m in \u001b[0;36mreshape\u001b[1;34m(a, newshape, order)\u001b[0m\n\u001b[0;32m    230\u001b[0m            [5, 6]])\n\u001b[0;32m    231\u001b[0m     \"\"\"\n\u001b[1;32m--> 232\u001b[1;33m     \u001b[1;32mreturn\u001b[0m \u001b[0m_wrapfunc\u001b[0m\u001b[1;33m(\u001b[0m\u001b[0ma\u001b[0m\u001b[1;33m,\u001b[0m \u001b[1;34m'reshape'\u001b[0m\u001b[1;33m,\u001b[0m \u001b[0mnewshape\u001b[0m\u001b[1;33m,\u001b[0m \u001b[0morder\u001b[0m\u001b[1;33m=\u001b[0m\u001b[0morder\u001b[0m\u001b[1;33m)\u001b[0m\u001b[1;33m\u001b[0m\u001b[0m\n\u001b[0m\u001b[0;32m    233\u001b[0m \u001b[1;33m\u001b[0m\u001b[0m\n\u001b[0;32m    234\u001b[0m \u001b[1;33m\u001b[0m\u001b[0m\n",
      "\u001b[1;32mC:\\ProgramData\\Anaconda3\\lib\\site-packages\\numpy\\core\\fromnumeric.py\u001b[0m in \u001b[0;36m_wrapfunc\u001b[1;34m(obj, method, *args, **kwds)\u001b[0m\n\u001b[0;32m     55\u001b[0m \u001b[1;32mdef\u001b[0m \u001b[0m_wrapfunc\u001b[0m\u001b[1;33m(\u001b[0m\u001b[0mobj\u001b[0m\u001b[1;33m,\u001b[0m \u001b[0mmethod\u001b[0m\u001b[1;33m,\u001b[0m \u001b[1;33m*\u001b[0m\u001b[0margs\u001b[0m\u001b[1;33m,\u001b[0m \u001b[1;33m**\u001b[0m\u001b[0mkwds\u001b[0m\u001b[1;33m)\u001b[0m\u001b[1;33m:\u001b[0m\u001b[1;33m\u001b[0m\u001b[0m\n\u001b[0;32m     56\u001b[0m     \u001b[1;32mtry\u001b[0m\u001b[1;33m:\u001b[0m\u001b[1;33m\u001b[0m\u001b[0m\n\u001b[1;32m---> 57\u001b[1;33m         \u001b[1;32mreturn\u001b[0m \u001b[0mgetattr\u001b[0m\u001b[1;33m(\u001b[0m\u001b[0mobj\u001b[0m\u001b[1;33m,\u001b[0m \u001b[0mmethod\u001b[0m\u001b[1;33m)\u001b[0m\u001b[1;33m(\u001b[0m\u001b[1;33m*\u001b[0m\u001b[0margs\u001b[0m\u001b[1;33m,\u001b[0m \u001b[1;33m**\u001b[0m\u001b[0mkwds\u001b[0m\u001b[1;33m)\u001b[0m\u001b[1;33m\u001b[0m\u001b[0m\n\u001b[0m\u001b[0;32m     58\u001b[0m \u001b[1;33m\u001b[0m\u001b[0m\n\u001b[0;32m     59\u001b[0m     \u001b[1;31m# An AttributeError occurs if the object does not have\u001b[0m\u001b[1;33m\u001b[0m\u001b[1;33m\u001b[0m\u001b[0m\n",
      "\u001b[1;31mValueError\u001b[0m: cannot reshape array of size 20480000 into shape (15000,256,8)"
     ]
    }
   ],
   "source": [
    "#setting optimal settings \n",
    "print ('Calibrated optimal readout amplitude: ', ro_dac_amplitude, ro_dac_length)\n",
    "ro_pulse_generator_inst.set_ro_amplitude(ro_dac_amplitude)\n",
    "ro_pulse_generator_inst.set_ro_length(ro_dac_length)\n",
    "ro_pulse_generator_inst.set_ro_seq_osc(ro_seq_osc)\n",
    "calib_meas = adc_sz.measure()\n",
    "plt.figure('hists')\n",
    "plt.plot(adc_sz.calib_proba_points, adc_sz.calib_hists.T)\n",
    "adc_calibrated_reducer = data_reduce.data_reduce(adc_sz.measurer)\n",
    "#adc_calibrated_reducer = data_reduce.data_reduce(adc)\n",
    "#adc_calibrated_reducer.filters['sz'] = adc_sz.filter_mean\n",
    "#adc_calibrated_reducer.filters['sz sh'] = adc_sz.filter\n",
    "adc_calibrated_reducer.filters['sz'] = adc_sz.filter_binary_mean\n",
    "print (calib_meas)\n",
    "adc_calibrated_reducer.measure()"
   ]
  },
  {
   "cell_type": "code",
   "execution_count": 43,
   "metadata": {},
   "outputs": [
    {
     "ename": "AttributeError",
     "evalue": "'sz_measurer' object has no attribute 'filter_binary'",
     "output_type": "error",
     "traceback": [
      "\u001b[1;31m---------------------------------------------------------------------------\u001b[0m",
      "\u001b[1;31mAttributeError\u001b[0m                            Traceback (most recent call last)",
      "\u001b[1;32m<ipython-input-43-9fb7f86e0d80>\u001b[0m in \u001b[0;36m<module>\u001b[1;34m()\u001b[0m\n\u001b[0;32m      2\u001b[0m \u001b[0mproj_seq\u001b[0m \u001b[1;33m=\u001b[0m \u001b[1;33m{\u001b[0m\u001b[1;34m'Zo'\u001b[0m\u001b[1;33m:\u001b[0m \u001b[1;33m{\u001b[0m\u001b[1;34m'pulses'\u001b[0m\u001b[1;33m:\u001b[0m\u001b[0madc_sz\u001b[0m\u001b[1;33m.\u001b[0m\u001b[0mro_seq\u001b[0m\u001b[1;33m,\u001b[0m \u001b[1;34m'operator'\u001b[0m\u001b[1;33m:\u001b[0m\u001b[0mobservables\u001b[0m\u001b[1;33m[\u001b[0m\u001b[1;34m'Z'\u001b[0m\u001b[1;33m]\u001b[0m\u001b[1;33m}\u001b[0m \u001b[1;33m}\u001b[0m\u001b[1;33m\u001b[0m\u001b[0m\n\u001b[0;32m      3\u001b[0m \u001b[0mreconstruction_basis\u001b[0m\u001b[1;33m=\u001b[0m\u001b[1;33m{\u001b[0m\u001b[1;34m'z'\u001b[0m\u001b[1;33m:\u001b[0m\u001b[1;33m{\u001b[0m\u001b[1;34m'operator'\u001b[0m\u001b[1;33m:\u001b[0m\u001b[0mobservables\u001b[0m\u001b[1;33m[\u001b[0m\u001b[1;34m'Z'\u001b[0m\u001b[1;33m]\u001b[0m\u001b[1;33m}\u001b[0m\u001b[1;33m}\u001b[0m\u001b[1;33m\u001b[0m\u001b[0m\n\u001b[1;32m----> 4\u001b[1;33m \u001b[0mtomoz\u001b[0m \u001b[1;33m=\u001b[0m \u001b[0mtomography_new\u001b[0m\u001b[1;33m.\u001b[0m\u001b[0mtomography\u001b[0m\u001b[1;33m(\u001b[0m\u001b[0madc_sz\u001b[0m\u001b[1;33m,\u001b[0m \u001b[0mpg\u001b[0m\u001b[1;33m,\u001b[0m \u001b[0mproj_seq\u001b[0m\u001b[1;33m,\u001b[0m \u001b[0mreconstruction_basis\u001b[0m\u001b[1;33m=\u001b[0m\u001b[0mreconstruction_basis\u001b[0m\u001b[1;33m)\u001b[0m\u001b[1;33m\u001b[0m\u001b[0m\n\u001b[0m",
      "\u001b[1;32mD:\\qtlab_replacement\\scripts\\tomography.py\u001b[0m in \u001b[0;36m__init__\u001b[1;34m(self, sz_measurer, pulse_generator, proj_seq, reconstruction_basis)\u001b[0m\n\u001b[0;32m    342\u001b[0m \u001b[1;33m\u001b[0m\u001b[0m\n\u001b[0;32m    343\u001b[0m                 \u001b[0mself\u001b[0m\u001b[1;33m.\u001b[0m\u001b[0madc_reducer\u001b[0m \u001b[1;33m=\u001b[0m \u001b[0mdata_reduce\u001b[0m\u001b[1;33m.\u001b[0m\u001b[0mdata_reduce\u001b[0m\u001b[1;33m(\u001b[0m\u001b[0mself\u001b[0m\u001b[1;33m.\u001b[0m\u001b[0msz_measurer\u001b[0m\u001b[1;33m.\u001b[0m\u001b[0madc\u001b[0m\u001b[1;33m)\u001b[0m\u001b[1;33m\u001b[0m\u001b[0m\n\u001b[1;32m--> 344\u001b[1;33m                 \u001b[0mself\u001b[0m\u001b[1;33m.\u001b[0m\u001b[0madc_reducer\u001b[0m\u001b[1;33m.\u001b[0m\u001b[0mfilters\u001b[0m\u001b[1;33m[\u001b[0m\u001b[1;34m'SZ'\u001b[0m\u001b[1;33m]\u001b[0m \u001b[1;33m=\u001b[0m \u001b[0mself\u001b[0m\u001b[1;33m.\u001b[0m\u001b[0msz_measurer\u001b[0m\u001b[1;33m.\u001b[0m\u001b[0mfilter_binary\u001b[0m\u001b[1;33m\u001b[0m\u001b[0m\n\u001b[0m\u001b[0;32m    345\u001b[0m \u001b[1;33m\u001b[0m\u001b[0m\n\u001b[0;32m    346\u001b[0m         \u001b[1;32mdef\u001b[0m \u001b[0mget_points\u001b[0m\u001b[1;33m(\u001b[0m\u001b[0mself\u001b[0m\u001b[1;33m)\u001b[0m\u001b[1;33m:\u001b[0m\u001b[1;33m\u001b[0m\u001b[0m\n",
      "\u001b[1;31mAttributeError\u001b[0m: 'sz_measurer' object has no attribute 'filter_binary'"
     ]
    }
   ],
   "source": [
    "observables = { 'Z': 0.5*np.asarray([[1, 0],   [0, -1]])}\n",
    "proj_seq = {'Zo': {'pulses':adc_sz.ro_seq, 'operator':observables['Z']} }\n",
    "reconstruction_basis={'z':{'operator':observables['Z']}}\n",
    "tomoz = tomography_new.tomography(adc_sz, pg, proj_seq, reconstruction_basis=reconstruction_basis)"
   ]
  },
  {
   "cell_type": "code",
   "execution_count": null,
   "metadata": {
    "collapsed": true
   },
   "outputs": [],
   "source": [
    "adc_sz.new_calibrate()"
   ]
  },
  {
   "cell_type": "code",
   "execution_count": null,
   "metadata": {
    "collapsed": true
   },
   "outputs": [],
   "source": [
    "plt.figure()\n",
    "plt.plot(np.real(adc_sz.calib_feature))\n",
    "plt.plot(np.imag(adc_sz.calib_feature))"
   ]
  },
  {
   "cell_type": "code",
   "execution_count": null,
   "metadata": {
    "collapsed": true
   },
   "outputs": [],
   "source": [
    "plt.figure('old avg')\n",
    "plt.plot(np.real(adc_sz.calib_bg))\n",
    "plt.plot(np.imag(adc_sz.calib_bg))"
   ]
  },
  {
   "cell_type": "code",
   "execution_count": null,
   "metadata": {
    "collapsed": true
   },
   "outputs": [],
   "source": [
    "plt.figure('new feature')\n",
    "plt.plot(np.real(adc_sz.predictor_class.diff))\n",
    "plt.plot(np.imag(adc_sz.predictor_class.diff))"
   ]
  },
  {
   "cell_type": "code",
   "execution_count": null,
   "metadata": {
    "collapsed": true
   },
   "outputs": [],
   "source": [
    "adc.stop()"
   ]
  },
  {
   "cell_type": "code",
   "execution_count": 66,
   "metadata": {
    "collapsed": true
   },
   "outputs": [],
   "source": [
    "import awg_digital\n",
    "import awg_iq\n",
    "import data_reduce\n",
    "import imp\n",
    "import fitting\n",
    "import plotting\n",
    "import save_pkl\n",
    "import tomography as tomography_new\n",
    "import tomography_legacy as tomography\n",
    "import sweep\n",
    "imp.reload(awg_digital)\n",
    "imp.reload(awg_iq)\n",
    "imp.reload(data_reduce)\n",
    "imp.reload(fitting)\n",
    "imp.reload(plotting)\n",
    "imp.reload(save_pkl)\n",
    "imp.reload(tomography)\n",
    "imp.reload(tomography_new)\n",
    "imp.reload(sweep)\n",
    "pg = tomography_new.pulses(awg_channels)"
   ]
  },
  {
   "cell_type": "code",
   "execution_count": null,
   "metadata": {
    "collapsed": true
   },
   "outputs": [],
   "source": [
    "adc.stop()"
   ]
  },
  {
   "cell_type": "code",
   "execution_count": null,
   "metadata": {
    "collapsed": true
   },
   "outputs": [],
   "source": [
    "transition_length\n",
    "pause_length = 0"
   ]
  },
  {
   "cell_type": "code",
   "execution_count": null,
   "metadata": {
    "collapsed": true
   },
   "outputs": [],
   "source": [
    "num_pulses = np.arange(0, 45, 1)\n",
    "y_sign = '-'\n",
    "y_sign_mul = 1 if y_sign == '-' else -1\n",
    "pulse_type = pg.gauss_hd\n",
    "amp = amp_gauss\n",
    "par1 = 0\n",
    "length = pi2_gauss\n",
    "pause_length = 32e-09\n",
    "\n",
    "def set_ape_length(num_pulses):\n",
    "#    sequence = [pg.p('iq_ex', length, pulse_type , amp, par1, par2, alpha), pg.p(None, pause_length)]+\\\n",
    "#               [pg.p('iq_ex', length, pulse_type , amp, par1, par2, alpha), pg.p(None, pause_length),\n",
    "#                pg.p('iq_ex', length, pulse_type , -amp, par1, par2, alpha), pg.p(None, pause_length)]*num_pulses+\\\n",
    "#               [pg.p('iq_ex', length, pulse_type , 1j*y_sign_mul*amp, par1, par2, alpha), pg.p(None, pause_length)]\n",
    "    sequence = [pg.p('iq_ex', length, pulse_type, amp, transition_length), pg.p(None, pause_length)]+\\\n",
    "               [pg.p('iq_ex', length, pulse_type, amp, transition_length), pg.p(None, pause_length),\n",
    "                pg.p('iq_ex', length, pulse_type, -amp, transition_length), pg.p(None, pause_length)]*int(np.round(num_pulses))+\\\n",
    "               [pg.p('iq_ex', length, pulse_type, y_sign_mul*1j*amp, transition_length), pg.p(None, 0e-09)]\n",
    "\n",
    "    tomoz.set_prepare_seq(sequence)\n",
    "    \n",
    "    awg_tek.run()\n",
    "measurement = sweep.sweep(tomoz, (num_pulses, set_ape_length, 'APE identity pulse num'), filename='APE Y'+y_sign)"
   ]
  },
  {
   "cell_type": "code",
   "execution_count": null,
   "metadata": {
    "collapsed": true
   },
   "outputs": [],
   "source": [
    "num_pulses = np.arange(0, 45, 1)\n",
    "y_sign = '-'\n",
    "y_sign_mul = 1 if y_sign == '-' else -1\n",
    "pulse_type = pg.gauss_hd\n",
    "amp = amp_gauss\n",
    "par1 = 0\n",
    "length = pi2_gauss\n",
    "pause_length = 32e-09\n",
    "\n",
    "def set_ape_length(num_pulses):\n",
    "#    sequence = [pg.p('iq_ex', length, pulse_type , amp, par1, par2, alpha), pg.p(None, pause_length)]+\\\n",
    "#               [pg.p('iq_ex', length, pulse_type , amp, par1, par2, alpha), pg.p(None, pause_length),\n",
    "#                pg.p('iq_ex', length, pulse_type , -amp, par1, par2, alpha), pg.p(None, pause_length)]*num_pulses+\\\n",
    "#               [pg.p('iq_ex', length, pulse_type , 1j*y_sign_mul*amp, par1, par2, alpha), pg.p(None, pause_length)]\n",
    "    sequence = [pg.p('iq_ex', length, pulse_type, amp, transition_length), pg.p(None, pause_length)]+\\\n",
    "               [pg.p('iq_ex', length, pulse_type, amp, transition_length), pg.p(None, pause_length),\n",
    "                pg.p('iq_ex', length, pulse_type, -amp, transition_length), pg.p(None, pause_length)]*int(np.round(num_pulses))+\\\n",
    "               [pg.p('iq_ex', length, pulse_type, y_sign_mul*1j*amp, transition_length), pg.p(None, 0e-09)]\n",
    "\n",
    "    tomoz.set_prepare_seq(sequence)\n",
    "    \n",
    "    awg_tek.run()\n",
    "measurement = sweep.sweep(tomoz, (num_pulses, set_ape_length, 'APE identity pulse num'), filename='APE Y'+y_sign)"
   ]
  },
  {
   "cell_type": "code",
   "execution_count": null,
   "metadata": {
    "collapsed": true
   },
   "outputs": [],
   "source": [
    "num_pulses = 80\n",
    "y_sign = '+'\n",
    "y_sign_mul = 1 if y_sign == '+' else -1\n",
    "#anharmonicity = -223e6\n",
    "#alphas = np.linspace(-1.0, 1.0, 21)/(200e6*2*np.pi)\n",
    "alphas = np.linspace(0.75, 1.2, 21)\n",
    "\n",
    "def set_alpha(alpha_dimensionless):\n",
    "    alpha = -alpha_dimensionless/(anharmonicity*2*np.pi)\n",
    "    sequence = [pg.p('iq_ex', length, pg.gauss_hd, amp, alpha), pg.p(None, pause_length)]+\\\n",
    "               [pg.p('iq_ex', length, pg.gauss_hd, amp, alpha), pg.p(None, pause_length),\n",
    "                pg.p('iq_ex', length, pg.gauss_hd, -amp, alpha), pg.p(None, pause_length)]*num_pulses+\\\n",
    "               [pg.p('iq_ex', length, pg.gauss_hd, y_sign_mul*amp, alpha), \n",
    "                #pg.p(None, pause_length),\n",
    "                #pg.p('ro_trg', trg_length, pg.rect, 1), \n",
    "                #pg.p('iq_ro', ro_dac_length/4., pg.rect, ro_dac_amplitude), \n",
    "                #pg.p('iq_ro', ro_dac_length/4., pg.rect, -2*ro_dac_amplitude), \n",
    "                #pg.p('iq_ro', ro_dac_length/4., pg.rect, 2*ro_dac_amplitude),\n",
    "                #pg.p('iq_ro', ro_dac_length/4., pg.rect, -2*ro_dac_amplitude)]\n",
    "    tomoz.set_prepare_seq(sequence)\n",
    "    #pg.set_seq(sequence)\n",
    "    \n",
    "    awg_tek.run()\n",
    "#measurement = sweep.sweep(adc_reducer, (alphas, set_alpha, 'HD DRAG alpha'), filename='APE Y'+y_sign+' dependence on HD DRAG alpha')\n",
    "measurement = sweep.sweep(tomoz, (alphas, set_alpha, 'HD DRAG alpha'), filename='APE Y'+y_sign+' dependence on HD DRAG alpha')"
   ]
  },
  {
   "cell_type": "markdown",
   "metadata": {},
   "source": [
    "# CPMG"
   ]
  },
  {
   "cell_type": "code",
   "execution_count": 68,
   "metadata": {},
   "outputs": [
    {
     "ename": "NameError",
     "evalue": "name 'adc_calibrated_reducer' is not defined",
     "output_type": "error",
     "traceback": [
      "\u001b[1;31m---------------------------------------------------------------------------\u001b[0m",
      "\u001b[1;31mNameError\u001b[0m                                 Traceback (most recent call last)",
      "\u001b[1;32m<ipython-input-68-0ee194bf3745>\u001b[0m in \u001b[0;36m<module>\u001b[1;34m()\u001b[0m\n\u001b[0;32m     24\u001b[0m     \u001b[0mpg\u001b[0m\u001b[1;33m.\u001b[0m\u001b[0mset_seq\u001b[0m\u001b[1;33m(\u001b[0m\u001b[0msequence\u001b[0m\u001b[1;33m)\u001b[0m\u001b[1;33m\u001b[0m\u001b[0m\n\u001b[0;32m     25\u001b[0m     \u001b[0mawg_tek\u001b[0m\u001b[1;33m.\u001b[0m\u001b[0mrun\u001b[0m\u001b[1;33m(\u001b[0m\u001b[1;33m)\u001b[0m\u001b[1;33m\u001b[0m\u001b[0m\n\u001b[1;32m---> 26\u001b[1;33m \u001b[0mmeasurement\u001b[0m \u001b[1;33m=\u001b[0m \u001b[0msweep\u001b[0m\u001b[1;33m.\u001b[0m\u001b[0msweep\u001b[0m\u001b[1;33m(\u001b[0m\u001b[0madc_calibrated_reducer\u001b[0m\u001b[1;33m,\u001b[0m\u001b[1;33m(\u001b[0m\u001b[0mtays\u001b[0m\u001b[1;33m,\u001b[0m \u001b[0mset_tay\u001b[0m\u001b[1;33m,\u001b[0m \u001b[1;34m'CPMG'\u001b[0m\u001b[1;33m)\u001b[0m\u001b[1;33m,\u001b[0m \u001b[0mfilename\u001b[0m \u001b[1;33m=\u001b[0m \u001b[1;34m'CPMG N={}'\u001b[0m\u001b[1;33m.\u001b[0m\u001b[0mformat\u001b[0m\u001b[1;33m(\u001b[0m\u001b[0mN\u001b[0m\u001b[1;33m)\u001b[0m\u001b[1;33m)\u001b[0m\u001b[1;33m\u001b[0m\u001b[0m\n\u001b[0m",
      "\u001b[1;31mNameError\u001b[0m: name 'adc_calibrated_reducer' is not defined"
     ]
    }
   ],
   "source": [
    "ex_amplitude = 0.79\n",
    "pi2_pulse = 56e-9\n",
    "pause_length = 16e-9\n",
    "N = 1\n",
    "tays = np.linspace(pi2_pulse*2*N, 10e-6, 21)\n",
    "tayp = N*pi2_pulse + 2*pi2_pulse\n",
    "readout_begin = np.max(tays)+pi2_pulse*2\n",
    "def set_tay(tay):\n",
    "    sequence = []\n",
    "    delay = tay/(N*2)-pi2_pulse\n",
    "    awg_tek.set_nop(awg_tek.get_clock()/rep_rate)\n",
    "    sequence =  [pg.p('iq_ex', pi2_pulse, pg.rect, ex_amplitude)]\n",
    "    sequence += [pg.p(None, delay),\n",
    "                 pg.p('iq_ex', pi2_pulse*2, pg.rect, ex_amplitude*np.exp(1j*np.pi/2)), \n",
    "                 #pg.p('iq_ex', pi2_pulse, pg.rect, ex_amplitude*np.exp(1j*np.pi/2)),\n",
    "                 pg.p(None, delay)]*N\n",
    "    sequence += [pg.p('iq_ex', pi2_pulse, pg.rect, ex_amplitude),\n",
    "                 pg.p(None, pause_length), \n",
    "                 pg.p('ro_trg', trg_length, pg.rect, 1), \n",
    "                 pg.p('iq_ro', ro_dac_length/4., pg.rect, ro_dac_amplitude), \n",
    "                 pg.p('iq_ro', ro_dac_length/4., pg.rect, -2*ro_dac_amplitude), \n",
    "                 pg.p('iq_ro', ro_dac_length/4., pg.rect, 2*ro_dac_amplitude),\n",
    "                 pg.p('iq_ro', ro_dac_length/4., pg.rect, -2*ro_dac_amplitude)]\n",
    "    pg.set_seq(sequence)\n",
    "    awg_tek.run()\n",
    "measurement = sweep.sweep(adc_calibrated_reducer,(tays, set_tay, 'CPMG'), filename = 'CPMG N={}'.format(N))"
   ]
  },
  {
   "cell_type": "code",
   "execution_count": null,
   "metadata": {
    "collapsed": true
   },
   "outputs": [],
   "source": [
    "adc.stop()"
   ]
  },
  {
   "cell_type": "markdown",
   "metadata": {},
   "source": [
    "### CPMG from thesis"
   ]
  },
  {
   "cell_type": "code",
   "execution_count": null,
   "metadata": {
    "collapsed": true
   },
   "outputs": [],
   "source": [
    "#ex_amplitude = 0.79\n",
    "#pi2_pulse = 70e-9\n",
    "#pause_length = 16e-9\n",
    "#N = 5\n",
    "taymax = 10e-06\n",
    "number_of_pulses = [0, 1, 3, 5, 7, 10, 15, 20, 25, 30]\n",
    "#number_of_pulses = [0, 1, 3, 5, 7]\n",
    "#delaymax = taymax - N*2*pi2_pulse\n",
    "#tays = np.linspace(0, taymax, 21)\n",
    "#delay = (taymax - N*2*pi_pulse)/(2*N)\n",
    "#readout_begin = np.max(tays)+pi2_pulse*2\n",
    "def set_delay(tay):\n",
    "    sequence = []\n",
    "    if (N==0):\n",
    "        delay = tay\n",
    "    else:\n",
    "        delay = (tay - N*2*pi2_gauss)/(2*N)\n",
    "    awg_tek.set_nop(awg_tek.get_clock()/rep_rate)\n",
    "    sequence =  [pg.p('iq_ex', pi2_gauss, pg.gauss_hd, amp_gauss, sigma_gauss, alpha_gauss)]\n",
    "    sequence += [pg.p(None, delay),\n",
    "                 pg.p('iq_ex', pi2_gauss, pg.gauss_hd, amp_gauss*np.exp(1j*np.pi/2), sigma_gauss, alpha_gauss), \n",
    "                 pg.p('iq_ex', pi2_gauss, pg.gauss_hd, amp_gauss*np.exp(1j*np.pi/2), sigma_gauss, alpha_gauss), \n",
    "                 pg.p(None, delay)]*N\n",
    "    if (N==0):\n",
    "        sequence += [pg.p(None, delay)]\n",
    "    sequence += [pg.p('iq_ex', pi2_gauss, pg.gauss_hd, amp_gauss, sigma_gauss, alpha_gauss),\n",
    "                 pg.p(None, pause_length)]\n",
    "                # pg.p('ro_trg', trg_length, pg.rect, 1), \n",
    "                # pg.p('iq_ro', ro_dac_length/4., pg.rect, 0.5*ro_dac_amplitude), \n",
    "                # pg.p('iq_ro', ro_dac_length/4., pg.rect, -ro_dac_amplitude), \n",
    "                # pg.p('iq_ro', ro_dac_length/4., pg.rect, ro_dac_amplitude),\n",
    "                # pg.p('iq_ro', ro_dac_length/4., pg.rect, -ro_dac_amplitude)]\n",
    "    #pg.set_seq(sequence)\n",
    "    tomoz.set_prepare_seq(sequence)\n",
    "    awg_tek.run()\n",
    "for i in number_of_pulses:\n",
    "    N = i\n",
    "    tays = np.asarray((np.linspace(N*2*pi2_gauss, N*4*pi2_gauss, 11)).tolist() + (np.linspace(N*4*pi2_gauss, taymax/2, 51)).tolist() + (np.linspace(taymax/2, taymax, 31)).tolist())\n",
    "    measurement = sweep.sweep(tomoz,(tays, set_delay, 'CPMG'), filename = 'CPMG Thesis N={}'.format(N))"
   ]
  },
  {
   "cell_type": "code",
   "execution_count": null,
   "metadata": {
    "collapsed": true
   },
   "outputs": [],
   "source": [
    "taymax = 10e-06\n",
    "number_of_pulses = [0, 1, 3, 5, 7, 10, 15, 20, 25, 30]\n",
    "def set_delay(tay):\n",
    "    sequence = []\n",
    "    if (N==0):\n",
    "        delay = tay\n",
    "    else:\n",
    "        delay = tay/(2*N)\n",
    "    awg_tek.set_nop(awg_tek.get_clock()/rep_rate)\n",
    "    sequence =  [pg.p('iq_ex', pi2_gauss, pg.gauss_hd, amp_gauss, sigma_gauss, alpha_gauss)]\n",
    "    sequence += [pg.p(None, delay),\n",
    "                 pg.p('iq_ex', pi2_gauss, pg.gauss_hd, amp_gauss*np.exp(1j*np.pi/2), sigma_gauss, alpha_gauss), \n",
    "                 pg.p('iq_ex', pi2_gauss, pg.gauss_hd, amp_gauss*np.exp(1j*np.pi/2), sigma_gauss, alpha_gauss), \n",
    "                 pg.p(None, delay)]*N\n",
    "    if (N==0):\n",
    "        sequence += [pg.p(None, delay)]\n",
    "    sequence += [pg.p('iq_ex', pi2_gauss, pg.gauss_hd, amp_gauss, sigma_gauss, alpha_gauss),\n",
    "                 pg.p(None, pause_length)]\n",
    "                # pg.p('ro_trg', trg_length, pg.rect, 1), \n",
    "                # pg.p('iq_ro', ro_dac_length/4., pg.rect, 0.5*ro_dac_amplitude), \n",
    "                # pg.p('iq_ro', ro_dac_length/4., pg.rect, -ro_dac_amplitude), \n",
    "                # pg.p('iq_ro', ro_dac_length/4., pg.rect, ro_dac_amplitude),\n",
    "                # pg.p('iq_ro', ro_dac_length/4., pg.rect, -ro_dac_amplitude)]\n",
    "    #pg.set_seq(sequence)\n",
    "    tomoz.set_prepare_seq(sequence)\n",
    "    awg_tek.run()\n",
    "for i in number_of_pulses:\n",
    "    N = i\n",
    "    tays = np.asarray((np.linspace(0, N*4*pi2_gauss, 21)).tolist() + (np.linspace(N*4*pi2_gauss, taymax/2, 51)).tolist() + (np.linspace(taymax/2, taymax, 31)).tolist())\n",
    "    measurement = sweep.sweep(tomoz,(tays, set_delay, 'CPMG'), filename = 'CPMG Thesis N={}'.format(N))"
   ]
  },
  {
   "cell_type": "markdown",
   "metadata": {},
   "source": [
    "## Double readout "
   ]
  },
  {
   "cell_type": "code",
   "execution_count": 33,
   "metadata": {
    "collapsed": true
   },
   "outputs": [],
   "source": [
    "adc.stop()"
   ]
  },
  {
   "cell_type": "code",
   "execution_count": 34,
   "metadata": {},
   "outputs": [
    {
     "name": "stdout",
     "output_type": "stream",
     "text": [
      "2048 <class 'int'>\n"
     ]
    },
    {
     "data": {
      "application/vnd.jupyter.widget-view+json": {
       "model_id": "c91fdb0f984d44389fd8ab12c146d4cd",
       "version_major": 2,
       "version_minor": 0
      },
      "text/plain": [
       "A Jupyter Widget"
      ]
     },
     "metadata": {},
     "output_type": "display_data"
    },
    {
     "name": "stdout",
     "output_type": "stream",
     "text": [
      "Started at:  Apr 20 2018 15:49:25\n"
     ]
    },
    {
     "name": "stderr",
     "output_type": "stream",
     "text": [
      "D:\\qtlab_replacement\\instruments\\Tektronix_AWG5014.py:648: ComplexWarning: Casting complex values to real discards the imaginary part\n",
      "  m1[:] = marker[:len(m1)]\n"
     ]
    },
    {
     "name": "stdout",
     "output_type": "stream",
     "text": [
      "\n",
      "Elapsed time: 0 h 0 m 34.65 s\n"
     ]
    }
   ],
   "source": [
    "delays = np.linspace(0.0e-6,1.5e-6,10)\n",
    "pause_length = 1e-6\n",
    "ro_dac_length = 0.8e-6\n",
    "ro_adc_length = 3.5e-6\n",
    "adc.set_nums(1000)\n",
    "set_adc_nop(ro_adc_length)\n",
    "adc.set_nums(10000)\n",
    "def set_delays (delay):\n",
    "    awg_tek.set_nop(awg_tek.get_clock()/rep_rate)\n",
    "    sequence = [    pg.p('ro_trg', trg_length, pg.rect, 1), \n",
    "                    pg.p('iq_ro', ro_dac_length/4., pg.rect, ro_dac_amplitude), \n",
    "                    pg.p('iq_ro', ro_dac_length/4., pg.rect, -2*ro_dac_amplitude), \n",
    "                    pg.p('iq_ro', ro_dac_length/4., pg.rect, 2*ro_dac_amplitude),\n",
    "                    pg.p('iq_ro', ro_dac_length/4., pg.rect, -2*ro_dac_amplitude),\n",
    "                    pg.p(None, delay),\n",
    "                    pg.p('iq_ro', ro_dac_length/4., pg.rect, ro_dac_amplitude), \n",
    "                    pg.p('iq_ro', ro_dac_length/4., pg.rect, -2*ro_dac_amplitude), \n",
    "                    pg.p('iq_ro', ro_dac_length/4., pg.rect, 2*ro_dac_amplitude),\n",
    "                    pg.p('iq_ro', ro_dac_length/4., pg.rect, -2*ro_dac_amplitude), \n",
    "                    pg.p(None, pause_length)]\n",
    "    pg.set_seq(sequence)\n",
    "    awg_tek.run()\n",
    "measurement = sweep.sweep(adc, (delays, set_delays, 'Delay', 's'), filename = r'Double(0)')\n",
    "    "
   ]
  },
  {
   "cell_type": "code",
   "execution_count": null,
   "metadata": {
    "collapsed": true
   },
   "outputs": [],
   "source": [
    "from scipy import fft, ifft\n",
    "plt.plot(measurement['Mean Voltage (AC)'][2][3])\n"
   ]
  },
  {
   "cell_type": "code",
   "execution_count": null,
   "metadata": {
    "collapsed": true
   },
   "outputs": [],
   "source": [
    "measurement "
   ]
  },
  {
   "cell_type": "code",
   "execution_count": null,
   "metadata": {
    "collapsed": true
   },
   "outputs": [],
   "source": [
    "delays"
   ]
  },
  {
   "cell_type": "code",
   "execution_count": null,
   "metadata": {
    "collapsed": true
   },
   "outputs": [],
   "source": [
    "import awg_digital\n",
    "import awg_iq\n",
    "import data_reduce\n",
    "import imp\n",
    "import fitting\n",
    "import plotting\n",
    "import save_pkl\n",
    "import tomography as tomography_new\n",
    "import tomography_legacy as tomography\n",
    "import sweep\n",
    "imp.reload(awg_digital)\n",
    "imp.reload(awg_iq)\n",
    "imp.reload(data_reduce)\n",
    "imp.reload(fitting)\n",
    "imp.reload(plotting)\n",
    "imp.reload(save_pkl)\n",
    "imp.reload(tomography)\n",
    "imp.reload(tomography_new)\n",
    "imp.reload(sweep)\n",
    "pg = tomography_new.pulses(awg_channels)"
   ]
  },
  {
   "cell_type": "code",
   "execution_count": null,
   "metadata": {
    "collapsed": true
   },
   "outputs": [],
   "source": [
    "adc.stop()"
   ]
  },
  {
   "cell_type": "code",
   "execution_count": null,
   "metadata": {
    "collapsed": true,
    "scrolled": true
   },
   "outputs": [],
   "source": [
    "ex_amplitude = 1.0#смотрим на график в S21-phase ?? как жить что частота от этого зависит\n",
    "pause_length = 16e-9#пауза между возб.импульсом и считывающим\n",
    "length_tail = 1e-08\n",
    "lengths = np.linspace(0e-8 + 2*length_tail, 1e-6,61)#время наблюдения осцилляций,для фитования частоты достатоно пары периодов\n",
    "readout_begin = np.max(lengths)\n",
    "lo1.set_status(True)\n",
    "def set_ex_length(length):\n",
    "    awg_tek.set_nop(awg_tek.get_clock()/rep_rate)\n",
    "    sequence = [pg.p(None, readout_begin-length), \n",
    "                pg.p('iq_ex', length, pg.rect_cos, ex_amplitude, length_tail), \n",
    "                pg.p(None, pause_length),\n",
    "                pg.p('ro_trg', trg_length, pg.rect, 1), \n",
    "                pg.p('iq_ro', ro_dac_length/5., pg.rect, 0.5*ro_dac_amplitude), \n",
    "                pg.p('iq_ro', ro_dac_length/5., pg.rect, -ro_dac_amplitude), \n",
    "                pg.p('iq_ro', ro_dac_length/5., pg.rect, ro_dac_amplitude),\n",
    "                pg.p('iq_ro', ro_dac_length/5., pg.rect, -ro_dac_amplitude),\n",
    "                pg.p('iq_ro', ro_dac_length/5., pg.rect, ro_dac_amplitude)]\n",
    "    awg_tek.run()\n",
    "measurement = sweep.sweep(adc_calibrated_reducer, (lengths, set_ex_length, 'Rabi pulse length', 's'), filename='Rabi')\n",
    "measurement_fitted, fitted_parameters = fitting.fit1d(measurement, fitting.exp_sin_fit, 'sz')\n",
    "annotation = 'Phase: {0:4.4g} rad, Freq: {1:4.4g}, Decay: {2:4.4g} s'.format(fitted_parameters['phase'], \n",
    "                                                                             fitted_parameters['freq'], \n",
    "                                                                             fitted_parameters['decay'])\n",
    "save_pkl.save_pkl({'type':'Rabi'}, measurement_fitted, annotation=annotation)"
   ]
  },
  {
   "cell_type": "markdown",
   "metadata": {},
   "source": [
    "### Rabi amplitude oscillations"
   ]
  },
  {
   "cell_type": "code",
   "execution_count": null,
   "metadata": {
    "collapsed": true,
    "scrolled": true
   },
   "outputs": [],
   "source": [
    "#ex_amps = np.linspace(0.3225,0.3325,21)\n",
    "#num_pulses = 50\n",
    "ex_amps = np.linspace(0.88, 0.9, 21)\n",
    "num_pulses = 256\n",
    "#pi2_tukey = 88e-9\n",
    "#length_tail = 12e-9\n",
    "pause_length = 0e-9\n",
    "# ro_dac_length=0.2e-6\n",
    "#readout_begin = np.max((length+pause_length)*num_pulses)\n",
    "pulse_type = pg.gauss_hd\n",
    "alpha_tukey = -0.0/(2*np.pi*anharmonicity)\n",
    "length = pi2_gauss\n",
    "#sigma = 3e-9\n",
    "length_transition = sigma_gauss\n",
    "alpha = 0.\n",
    "def set_ex_amp(amp):\n",
    "    awg_tek.set_nop(awg_tek.get_clock()/rep_rate)\n",
    "    \n",
    "    #sequence = [pg.p('iq_ex', pi2_tuker, pg.rect, amp), \n",
    "    #            pg.p(None, pause_length)]*num_pulses+\\\n",
    "    #            [pg.p('ro_trg', trg_length, pg.rect, 1), \n",
    "    #             pg.p('iq_ro', ro_dac_length/5., pg.rect, 0.5*ro_dac_amplitude), \n",
    "    #             pg.p('iq_ro', ro_dac_length/5., pg.rect, -ro_dac_amplitude), \n",
    "    #             pg.p('iq_ro', ro_dac_length/5., pg.rect, ro_dac_amplitude),\n",
    "    #             pg.p('iq_ro', ro_dac_length/5., pg.rect, -ro_dac_amplitude),\n",
    "    #             pg.p('iq_ro', ro_dac_length/5., pg.rect, ro_dac_amplitude)]\n",
    "    sequence = [pg.p('iq_ex', length, pulse_type, amp, length_transition, alpha), \n",
    "                pg.p(None, pause_length)]*num_pulses\n",
    "    \n",
    "    tomoz.set_prepare_seq(sequence)\n",
    "    \n",
    "    awg_tek.run()\n",
    "measurement = sweep.sweep(tomoz, (ex_amps, set_ex_amp, 'Rabi pulse amplitude'), filename='Rabi')"
   ]
  },
  {
   "cell_type": "code",
   "execution_count": null,
   "metadata": {
    "collapsed": true,
    "scrolled": false
   },
   "outputs": [],
   "source": [
    "#ex_amps = np.linspace(0.3225,0.3325,21)\n",
    "#num_pulses = 50\n",
    "#ex_amps = np.linspace(0.8,1.0,21)\n",
    "num_pulses = np.arange(0,25)\n",
    "#pi2_tukey = 88e-9\n",
    "length_tail = 12e-9\n",
    "# ro_dac_length=0.2e-6\n",
    "#readout_begin = np.max((length+pause_length)*num_pulses)\n",
    "alpha_gauss = -0.0/(2*np.pi*anharmonicity)\n",
    "pause_length = 0e-9\n",
    "length = pi2_gauss\n",
    "def set_num_pulses(num_pulses):\n",
    "    awg_tek.set_nop(awg_tek.get_clock()/rep_rate)\n",
    "    \n",
    "    #sequence = [pg.p('iq_ex', pi2_tuker, pg.rect, amp), \n",
    "    #            pg.p(None, pause_length)]*num_pulses+\\\n",
    "    #            [pg.p('ro_trg', trg_length, pg.rect, 1), \n",
    "    #             pg.p('iq_ro', ro_dac_length/5., pg.rect, 0.5*ro_dac_amplitude), \n",
    "    #             pg.p('iq_ro', ro_dac_length/5., pg.rect, -ro_dac_amplitude), \n",
    "    #             pg.p('iq_ro', ro_dac_length/5., pg.rect, ro_dac_amplitude),\n",
    "    #             pg.p('iq_ro', ro_dac_length/5., pg.rect, -ro_dac_amplitude),\n",
    "    #             pg.p('iq_ro', ro_dac_length/5., pg.rect, ro_dac_amplitude)]\n",
    "    sequence = [pg.p('iq_ex', length, pg.gauss_hd, amp_gauss, alpha_gauss), \n",
    "                pg.p(None, pause_length)]*num_pulses\n",
    "    \n",
    "    tomoz.set_prepare_seq(sequence)\n",
    "    \n",
    "    awg_tek.run()\n",
    "measurement = sweep.sweep(tomoz, (num_pulses, set_num_pulses, 'Pi half pulse num'), filename='Rabi')"
   ]
  },
  {
   "cell_type": "code",
   "execution_count": null,
   "metadata": {
    "collapsed": true
   },
   "outputs": [],
   "source": [
    "plt.figure()\n",
    "plt.plot(np.real(awg_tek.get_waveform(channel=2)))\n",
    "plt.plot(np.imag(awg_tek.get_waveform(channel=1)))\n",
    "plt.plot(np.real(awg_tek.get_waveform(channel=3)))\n",
    "plt.plot(np.imag(awg_tek.get_waveform(channel=4)))"
   ]
  },
  {
   "cell_type": "code",
   "execution_count": null,
   "metadata": {
    "collapsed": true
   },
   "outputs": [],
   "source": [
    "from scipy.signal import tukey\n",
    "adc.stop()"
   ]
  },
  {
   "cell_type": "code",
   "execution_count": null,
   "metadata": {
    "collapsed": true
   },
   "outputs": [],
   "source": [
    "plt.plot(np.real(pg.p('iq_ex', pi2_tuker, pg.rect_cos, 1)))"
   ]
  },
  {
   "cell_type": "code",
   "execution_count": null,
   "metadata": {
    "collapsed": true,
    "scrolled": true
   },
   "outputs": [],
   "source": [
    "#ex_amps = np.linspace(0.3225,0.3325,21)\n",
    "#num_pulses = 50\n",
    "ex_amps = np.linspace(0.1,0.7,41)\n",
    "num_pulses = 4\n",
    "# ro_dac_length=0.2e-6\n",
    "#readout_begin = np.max((length+pause_length)*num_pulses)\n",
    "def set_ex_amp(amp):\n",
    "    awg_tek.set_nop(awg_tek.get_clock()/rep_rate)\n",
    "    \n",
    "    sequence = [pg.p('iq_ex', length, pg.gauss_hd, amp, 0, sigma, alpha), \n",
    "                pg.p(None, pause_length)]*num_pulses+\\\n",
    "                [pg.p('ro_trg', trg_length, pg.rect, 1), \n",
    "                pg.p('iq_ro', ro_dac_length, pg.rect, ro_dac_amplitude)]\n",
    "    \n",
    "    pg.set_seq(sequence)\n",
    "    \n",
    "    awg_tek.run()\n",
    "measurement = sweep.sweep(adc_reducer, (ex_amps, set_ex_amp, 'Rabi pulse amplitude'), filename='Rabi')"
   ]
  },
  {
   "cell_type": "markdown",
   "metadata": {},
   "source": [
    "## Rabi amplitude oscillations pi + pi/2 pulses"
   ]
  },
  {
   "cell_type": "code",
   "execution_count": null,
   "metadata": {
    "collapsed": true,
    "scrolled": true
   },
   "outputs": [],
   "source": [
    "from numpy import pi\n",
    "def set_ex_amp(amp):\n",
    "    awg_tek.set_nop(awg_tek.get_clock()/rep_rate)    \n",
    "    sequence = [pg.p('iq_ex', length, pg.gauss_hd, amp, 0, sigma, alpha), \n",
    "                pg.p(None, pause_length)]*num_pulses+\\\n",
    "               [pg.p('ro_trg', trg_length, pg.rect, 1), \n",
    "                pg.p('iq_ro', ro_dac_length, pg.rect, ro_dac_amplitude)]\n",
    "    pg.set_seq(sequence)\n",
    "    awg_tek.run()\n",
    "#measurement = sweep.sweep(adc_reducer, (ex_amps, set_ex_amp, 'Rabi pulse amplitude'), filename='Rabi')\n",
    "#measurement_fitted, fitted_parameters_rabi = fitting.S21pm_fit(measurement, fitting.exp_sin_fit)\n",
    "#def find_ampl(impulse):\n",
    "    #i=0\n",
    "    #derivative1, derivative2 =0,0\n",
    "    #count=0\n",
    "    #while (0.5*count<impulse/(0.5*pi)):\n",
    "        #i=i+1;\n",
    "        #derivative1=derivative2;\n",
    "        #derivative2=(3*measurement['Mean Voltage (AC)'][i]-4*measurement[i-1]+measurement[i-2])/(2*(0.7/21)\n",
    "        #if ((derivative1*derivative2)<0) :\n",
    "            #count=count+1\n",
    "    #return measurement[i]\n",
    "\n",
    "#def Rabi_ampl(impulse):\n",
    "\n",
    "# В таком сиде как оно написано здесь эта процедура не имеет никакого смысла =(\n",
    "# Если утверждение amp*2=amp_pi верно, то это не нужно. Если нет, то таким обрзом вы это не увидите.\n",
    "\n",
    "ex_amps = np.linspace(0,0.7,41)\n",
    "num_pulses=4\n",
    "measurement = sweep.sweep(adc_reducer, (ex_amps, set_ex_amp, 'Rabi pulse amplitude'), filename='Rabi')\n",
    "measurement_fitted, fitted_parameters_rabi = fitting.S21pm_fit(measurement, fitting.exp_sin_fit)\n",
    "print(fitted_parameters_rabi)\n",
    "      # return find_ampl(impulse)\n",
    "#ampl_half_pi=Rabi_ampl(pi/2)   \n",
    "amp=(3*pi-fitted_parameters_rabi['phase'])/(2*pi*fitted_parameters_rabi['freq'])\n",
    "amp_pi=(pi*5-fitted_parameters_rabi['phase'])/(2*pi*fitted_parameters_rabi['freq'])\n",
    "amp, amp_pi"
   ]
  },
  {
   "cell_type": "code",
   "execution_count": null,
   "metadata": {
    "collapsed": true
   },
   "outputs": [],
   "source": [
    "adc.stop()"
   ]
  },
  {
   "cell_type": "markdown",
   "metadata": {},
   "source": [
    "### Rabi Y-amplitude oscillations"
   ]
  },
  {
   "cell_type": "code",
   "execution_count": null,
   "metadata": {
    "collapsed": true,
    "scrolled": true
   },
   "outputs": [],
   "source": [
    "ex_amps = np.linspace(0.1,0.7, 101)\n",
    "num_pulses = 5\n",
    "#readout_begin = np.max((length+pause_length)*num_pulses)\n",
    "def set_ex_amp(amp):\n",
    "    awg_tek.set_nop(awg_tek.get_clock()/rep_rate)\n",
    "    \n",
    "    sequence = [pg.p('iq_ex', length, pg.gauss_hd, 0, amp, sigma, alpha), \n",
    "                pg.p(None, pause_length)]*num_pulses+\\\n",
    "               [pg.p('ro_trg', trg_length, pg.rect, 1), \n",
    "                pg.p('iq_ro', ro_dac_length, pg.rect, ro_dac_amplitude)]\n",
    "    \n",
    "    pg.set_seq(sequence)\n",
    "    \n",
    "    awg_tek.run()\n",
    "measurement = sweep.sweep(adc_reducer, (ex_amps, set_ex_amp, 'Rabi Y-pulse amplitude'), filename='Rabi Y-amplitude')"
   ]
  },
  {
   "cell_type": "markdown",
   "metadata": {},
   "source": [
    "## Amplification of phase errors"
   ]
  },
  {
   "cell_type": "code",
   "execution_count": null,
   "metadata": {
    "collapsed": true
   },
   "outputs": [],
   "source": [
    "imp.reload(plotting)\n",
    "adc.stop()"
   ]
  },
  {
   "cell_type": "code",
   "execution_count": null,
   "metadata": {
    "collapsed": true
   },
   "outputs": [],
   "source": [
    "plt.figure()\n",
    "plt.plot(np.real(iq_ex.waveform))\n",
    "plt.plot(np.imag(iq_ex.waveform))"
   ]
  },
  {
   "cell_type": "code",
   "execution_count": null,
   "metadata": {
    "collapsed": true
   },
   "outputs": [],
   "source": []
  },
  {
   "cell_type": "code",
   "execution_count": null,
   "metadata": {
    "collapsed": true
   },
   "outputs": [],
   "source": [
    "num_pulses = np.arange(0, 50, 1)\n",
    "y_sign = '-'\n",
    "y_sign_mul = 1 if y_sign == '-' else -1\n",
    "\n",
    "pulse_type = pg.gauss_hd\n",
    "amp = amp_gauss\n",
    "length_transition = sigma_gauss # 0\n",
    "alpha_dimensionless = alpha_gauss_dimensionless\n",
    "alpha = alpha_dimensionless/(anharmonicity*2*np.pi)\n",
    "length = pi2_gauss\n",
    "pause_length = 0e-9\n",
    "\n",
    "def set_ape_length(num_pulses):\n",
    "#    sequence = [pg.p('iq_ex', length, pulse_type , amp, par1, par2, alpha), pg.p(None, pause_length)]+\\\n",
    "#               [pg.p('iq_ex', length, pulse_type , amp, par1, par2, alpha), pg.p(None, pause_length),\n",
    "#                pg.p('iq_ex', length, pulse_type , -amp, par1, par2, alpha), pg.p(None, pause_length)]*num_pulses+\\\n",
    "#               [pg.p('iq_ex', length, pulse_type , 1j*y_sign_mul*amp, par1, par2, alpha), pg.p(None, pause_length)]\n",
    "    sequence = [pg.p('iq_ex', length, pulse_type, amp, length_transition, alpha), pg.p(None, pause_length)]+\\\n",
    "               [pg.p('iq_ex', length, pulse_type , amp, length_transition,  alpha), pg.p(None, pause_length),\n",
    "                pg.p('iq_ex', length, pulse_type , -amp, length_transition,  alpha), pg.p(None, pause_length)]*int(np.round(num_pulses))+\\\n",
    "               [pg.p('iq_ex', length, pulse_type , 1j*y_sign_mul*amp, length_transition, alpha), pg.p(None, pause_length)]\n",
    "\n",
    "    tomoz.set_prepare_seq(sequence)\n",
    "    \n",
    "    awg_tek.run()\n",
    "measurement = sweep.sweep(tomoz, (num_pulses, set_ape_length, 'APE identity pulse num'), filename='APE Y'+y_sign)"
   ]
  },
  {
   "cell_type": "markdown",
   "metadata": {},
   "source": [
    "# Scanning over alpha and looking at phase error"
   ]
  },
  {
   "cell_type": "code",
   "execution_count": null,
   "metadata": {
    "collapsed": true
   },
   "outputs": [],
   "source": [
    "num_pulses = 12\n",
    "y_sign = '-'\n",
    "y_sign_mul = 1 if y_sign == '-' else -1\n",
    "#anharmonicity = -223e6\n",
    "#alphas = np.linspace(-1.0, 1.0, 21)/(200e6*2*np.pi)\n",
    "alphas = np.linspace(-2.0, 2.0, 21)\n",
    "pulse_type = pg.gauss_hd\n",
    "amp = amp_gauss\n",
    "length_transition = sigma_gauss # 0\n",
    "alpha = alpha_dimensionless/(anharmonicity*2*np.pi)\n",
    "length = pi2_gauss\n",
    "pause_length = 8e-9\n",
    "\n",
    "def set_alpha(alpha_dimensionless):\n",
    "    alpha = alpha_dimensionless/(anharmonicity*2*np.pi)\n",
    "#    sequence = [pg.p('iq_ex', length, pg.gauss_hd, amp, 0, sigma, alpha), pg.p(None, pause_length)]+\\\n",
    "#               [pg.p('iq_ex', length, pg.gauss_hd, amp, 0, sigma, alpha), pg.p(None, pause_length),\n",
    "#                pg.p('iq_ex', length, pg.gauss_hd, -amp, 0, sigma, alpha), pg.p(None, pause_length)]*num_pulses+\\\n",
    "#               [pg.p('iq_ex', length, pg.gauss_hd, 0, y_sign_mul*amp, sigma, alpha), pg.p(None, pause_length)]\n",
    "\n",
    "    sequence = [pg.p('iq_ex', length, pulse_type, amp, length_transition, alpha), pg.p(None, pause_length)]+\\\n",
    "               [pg.p('iq_ex', length, pulse_type , amp, length_transition,  alpha), pg.p(None, pause_length),\n",
    "                pg.p('iq_ex', length, pulse_type , -amp, length_transition,  alpha), pg.p(None, pause_length)]*int(np.round(num_pulses))+\\\n",
    "               [pg.p('iq_ex', length, pulse_type , 1j*y_sign_mul*amp, length_transition, alpha), pg.p(None, pause_length)]\n",
    "\n",
    "    tomoz.set_prepare_seq(sequence)\n",
    "    \n",
    "    awg_tek.run()\n",
    "measurement = sweep.sweep(tomoz, (alphas, set_alpha, 'HD DRAG alpha'), filename='APE Y'+y_sign+' dependence on HD DRAG alpha')"
   ]
  },
  {
   "cell_type": "markdown",
   "metadata": {},
   "source": [
    "### X-Y axes angle error"
   ]
  },
  {
   "cell_type": "code",
   "execution_count": null,
   "metadata": {
    "collapsed": true
   },
   "outputs": [],
   "source": [
    "num_pulses = np.arange(0, 21, 1)\n",
    "y_sign = '-'\n",
    "y_sign_mul = 1 if y_sign == '-' else -1\n",
    "\n",
    "def set_xyea_length(num_pulses):\n",
    "    sequence = [pg.p('iq_ex', length, pg.gauss_hd, amp, 0, sigma, alpha), pg.p(None, pause_length)]+\\\n",
    "               [pg.p('iq_ex', length, pg.gauss_hd, 0, amp_y_raw, sigma, alpha), pg.p(None, pause_length),\n",
    "                pg.p('iq_ex', length, pg.gauss_hd, 0, amp_y_raw, sigma, alpha), pg.p(None, pause_length),\n",
    "                pg.p('iq_ex', length, pg.gauss_hd, amp, 0, sigma, alpha), pg.p(None, pause_length),\n",
    "                pg.p('iq_ex', length, pg.gauss_hd, amp, 0, sigma, alpha), pg.p(None, pause_length),]*(2*num_pulses)+\\\n",
    "               [pg.p('iq_ex', length, pg.gauss_hd, 0, y_sign_mul*amp_y_raw, sigma, alpha), pg.p(None, pause_length),\n",
    "                pg.p('ro_trg', trg_length, pg.rect, 1), \n",
    "                pg.p('iq_ro', ro_dac_length, pg.rect, ro_dac_amplitude)]\n",
    "\n",
    "    pg.set_seq(sequence)\n",
    "    \n",
    "    awg_tek.run()\n",
    "measurement = sweep.sweep(adc_reducer, (num_pulses, set_xyea_length, 'X-Y axes angle error pulse num'), filename='XY angle error witness'+y_sign)"
   ]
  },
  {
   "cell_type": "markdown",
   "metadata": {},
   "source": [
    "### Optimizing X-Y axes angle "
   ]
  },
  {
   "cell_type": "code",
   "execution_count": null,
   "metadata": {
    "collapsed": true
   },
   "outputs": [],
   "source": [
    "#angle_corrs = np.linspace(-np.pi/40, np.pi/40, 21)\n",
    "angle_corrs = np.linspace(-0.03, 0.03, 21)\n",
    "num_pulses = 20\n",
    "\n",
    "for signs in ['++++', '+++-', '++-+', '++--', '+-++', '+-+-', '+--+', '+---', \n",
    "              '-+++', '-++-', '-+-+', '-+--', '--++', '--+-', '---+', '----']:\n",
    "    sign_muls = [1 if s == '-' else -1 for s in signs]\n",
    "\n",
    "    def set_xyea_angle_corr(angle_corr):\n",
    "        sequence = [pg.p('iq_ex', length, pg.gauss_hd, sign_muls[0]*amp, 0, sigma, alpha), pg.p(None, pause_length)]+\\\n",
    "                   [pg.p('iq_ex', length, pg.gauss_hd, 0, sign_muls[1]*amp_y_raw*np.exp(1j*angle_corr), sigma, alpha), pg.p(None, pause_length),\n",
    "                    pg.p('iq_ex', length, pg.gauss_hd, 0, sign_muls[1]*amp_y_raw*np.exp(1j*angle_corr), sigma, alpha), pg.p(None, pause_length),\n",
    "                    pg.p('iq_ex', length, pg.gauss_hd, sign_muls[2]*amp, 0, sigma, alpha), pg.p(None, pause_length),\n",
    "                    pg.p('iq_ex', length, pg.gauss_hd, sign_muls[2]*amp, 0, sigma, alpha), pg.p(None, pause_length),]*(2*num_pulses)+\\\n",
    "                   [pg.p('iq_ex', length, pg.gauss_hd, 0, sign_muls[3]*amp_y_raw*np.exp(1j*angle_corr), sigma, alpha), pg.p(None, pause_length),\n",
    "                    pg.p('ro_trg', trg_length, pg.rect, 1), \n",
    "                    pg.p('iq_ro', ro_dac_length, pg.rect, ro_dac_amplitude)]\n",
    "\n",
    "        pg.set_seq(sequence)\n",
    "        awg_tek.run()\n",
    "    measurement = sweep.sweep(adc_reducer, (angle_corrs, set_xyea_angle_corr, 'X-Y axes angle detuning (radians)'), filename='XY angle error optimization'+signs)"
   ]
  },
  {
   "cell_type": "markdown",
   "metadata": {},
   "source": [
    "## Characterizing readout of |0>, |1>, |+>, |->, |i+>, |i-> states"
   ]
  },
  {
   "cell_type": "code",
   "execution_count": null,
   "metadata": {
    "collapsed": true
   },
   "outputs": [],
   "source": [
    "ex_amplitude, pi2_pulse"
   ]
  },
  {
   "cell_type": "code",
   "execution_count": null,
   "metadata": {
    "collapsed": true
   },
   "outputs": [],
   "source": [
    "state_prep_seqs = {'|0>': [pg.p('iq_ex', pi2_pulse, pg.rect, ex_amplitude), pg.p(None, pause_length),\\\n",
    "                           pg.p('iq_ex', pi2_pulse, pg.rect, ex_amplitude), pg.p(None, pause_length),\n",
    "                           pg.p('iq_ex', pi2_pulse, pg.rect, -ex_amplitude), pg.p(None, pause_length),\\\n",
    "                           pg.p('iq_ex', pi2_pulse, pg.rect, -ex_amplitude), pg.p(None, pause_length)],\n",
    "                   '|+>': [pg.p('iq_ex', pi2_pulse, pg.rect, ex_amplitude), pg.p(None, pause_length),\\\n",
    "                           pg.p('iq_ex', pi2_pulse, pg.rect, ex_amplitude), pg.p(None, pause_length),\\\n",
    "                           pg.p('iq_ex', pi2_pulse, pg.rect, -ex_amplitude), pg.p(None, pause_length),\\\n",
    "                           pg.p('iq_ex', pi2_pulse, pg.rect, 1j*ex_amplitude), pg.p(None, pause_length)],\n",
    "                   '|1>': [pg.p('iq_ex', pi2_pulse, pg.rect, ex_amplitude), pg.p(None, pause_length),\\\n",
    "                           pg.p('iq_ex', pi2_pulse, pg.rect, 1j*ex_amplitude), pg.p(None, pause_length),\n",
    "                           pg.p('iq_ex', pi2_pulse, pg.rect, 1j*ex_amplitude), pg.p(None, pause_length),\\\n",
    "                           pg.p('iq_ex', pi2_pulse, pg.rect, ex_amplitude), pg.p(None, pause_length)],\n",
    "                   '|->': [pg.p('iq_ex', pi2_pulse, pg.rect, -ex_amplitude), pg.p(None, pause_length),\\\n",
    "                           pg.p('iq_ex', pi2_pulse, pg.rect, -ex_amplitude), pg.p(None, pause_length),\\\n",
    "                           pg.p('iq_ex', pi2_pulse, pg.rect, ex_amplitude), pg.p(None, pause_length),\\\n",
    "                           pg.p('iq_ex', pi2_pulse, pg.rect, 1j*ex_amplitude), pg.p(None, pause_length)],\n",
    "                   '|i+>': [pg.p('iq_ex', pi2_pulse, pg.rect, 1j*ex_amplitude), pg.p(None, pause_length),\\\n",
    "                           pg.p('iq_ex', pi2_pulse, pg.rect, 1j*ex_amplitude), pg.p(None, pause_length),\\\n",
    "                           pg.p('iq_ex', pi2_pulse, pg.rect, -1j*ex_amplitude), pg.p(None, pause_length),\\\n",
    "                           pg.p('iq_ex', pi2_pulse, pg.rect, -ex_amplitude), pg.p(None, pause_length)],\n",
    "                   '|i->': [pg.p('iq_ex', pi2_pulse, pg.rect, -1j*ex_amplitude), pg.p(None, pause_length),\\\n",
    "                           pg.p('iq_ex', pi2_pulse, pg.rect, -1j*ex_amplitude), pg.p(None, pause_length),\\\n",
    "                           pg.p('iq_ex', pi2_pulse, pg.rect, 1j*ex_amplitude), pg.p(None, pause_length),\\\n",
    "                           pg.p('iq_ex', pi2_pulse, pg.rect, ex_amplitude), pg.p(None, pause_length)],}\n",
    "\n",
    "plt.figure('State readout histograms gaussian')\n",
    "sz_meas = {}\n",
    "for state_name, state_prep_seq in state_prep_seqs.items():\n",
    "    pg.set_seq(state_prep_seq+adc_sz.ro_seq)\n",
    "    sz_meas[state_name] = np.real(adc_calibrated_reducer.measure()['sz'])\n",
    "    hist, bin_edges = np.histogram(sz_meas[state_name], bins=adc_sz.calib_proba_points)\n",
    "    proba_points = (bin_edges[1:]+bin_edges[:-1])/2\n",
    "    plt.plot(proba_points, hist,label=state_name)\n",
    "    print ('{0} state sz mean: {1}, std: {2}'.format(state_name, np.mean(sz_meas[state_name]), np.std(sz_meas[state_name])))\n",
    "    \n",
    "plt.legend()"
   ]
  },
  {
   "cell_type": "code",
   "execution_count": null,
   "metadata": {
    "collapsed": true
   },
   "outputs": [],
   "source": [
    "transition_length=sigma_gauss"
   ]
  },
  {
   "cell_type": "code",
   "execution_count": null,
   "metadata": {
    "collapsed": true
   },
   "outputs": [],
   "source": [
    "\n",
    "state_prep_seqs = {'|0>': [],\n",
    "                   '|+>': [pg.p('iq_ex', length, pulse_type, amp, transition_length), pg.p(None, pause_length)],\n",
    "                   '|1>': [pg.p('iq_ex', length, pulse_type, amp, transition_length), pg.p(None, pause_length),\\\n",
    "                           pg.p('iq_ex', length, pulse_type, amp, transition_length), pg.p(None, pause_length)],\n",
    "                   '|->': [pg.p('iq_ex', length, pulse_type, -amp, transition_length), pg.p(None, pause_length)],\n",
    "                   '|i+>': [pg.p('iq_ex', length, pulse_type, 1j*amp, transition_length), pg.p(None, pause_length)],\n",
    "                   '|i->': [pg.p('iq_ex', length, pulse_type, -1j*amp, transition_length), pg.p(None, pause_length)],}\n",
    "\n",
    "plt.figure('State readout histograms gaussian')\n",
    "sz_meas = {}\n",
    "for state_name, state_prep_seq in state_prep_seqs.items():\n",
    "    pg.set_seq(state_prep_seq+adc_sz.ro_seq)\n",
    "    sz_meas[state_name] = np.real(adc_sz.measurer.measure()['sz binary'])\n",
    "    hist, bin_edges = np.histogram(sz_meas[state_name], bins=adc_sz.calib_proba_points)\n",
    "    proba_points = (bin_edges[1:]+bin_edges[:-1])/2\n",
    "    plt.plot(proba_points, hist,label=state_name)\n",
    "    print ('{0} state sz mean: {1}, std: {2}'.format(state_name, np.mean(sz_meas[state_name]), np.std(sz_meas[state_name])))\n",
    "    \n",
    "plt.legend()"
   ]
  },
  {
   "cell_type": "code",
   "execution_count": null,
   "metadata": {
    "collapsed": true,
    "scrolled": true
   },
   "outputs": [],
   "source": [
    "# random number generator\n",
    "n1 = ''.join(['0' if i>0 else '1' for i in sz_meas['|+>'] ])[0::2]\n",
    "n2 = ''.join(['0' if i>0 else '1' for i in sz_meas['|+>'] ])[1::2]\n",
    "randoms_raw = ['0' if i>0 else '1' for i in sz_meas['|+>'] ]\n",
    "randoms = []\n",
    "for i1,i2 in zip(n1,n2):\n",
    "    if i1 == '0' and i2 == '1':\n",
    "        randoms.append('0')\n",
    "    if i1 == '1' and i2 == '0':\n",
    "        randoms.append('1')\n",
    "print ('raw (length {}):'.format(len(randoms_raw)), ''.join(randoms_raw), '\\nrandoms (length {}):'.format(len(randoms)), ''.join(randoms))"
   ]
  },
  {
   "cell_type": "code",
   "execution_count": 38,
   "metadata": {},
   "outputs": [
    {
     "ename": "TypeError",
     "evalue": "gauss_hd() takes from 5 to 6 positional arguments but 7 were given",
     "output_type": "error",
     "traceback": [
      "\u001b[1;31m---------------------------------------------------------------------------\u001b[0m",
      "\u001b[1;31mTypeError\u001b[0m                                 Traceback (most recent call last)",
      "\u001b[1;32m<ipython-input-38-d2f7b3ba345c>\u001b[0m in \u001b[0;36m<module>\u001b[1;34m()\u001b[0m\n\u001b[0;32m      1\u001b[0m state_prep_seqs = {'|0>': [],\n\u001b[1;32m----> 2\u001b[1;33m                    \u001b[1;34m'|+>'\u001b[0m\u001b[1;33m:\u001b[0m \u001b[1;33m[\u001b[0m\u001b[0mpg\u001b[0m\u001b[1;33m.\u001b[0m\u001b[0mp\u001b[0m\u001b[1;33m(\u001b[0m\u001b[1;34m'iq_ex'\u001b[0m\u001b[1;33m,\u001b[0m \u001b[0mlength\u001b[0m\u001b[1;33m,\u001b[0m \u001b[0mpg\u001b[0m\u001b[1;33m.\u001b[0m\u001b[0mgauss_hd\u001b[0m\u001b[1;33m,\u001b[0m \u001b[0mamp\u001b[0m\u001b[1;33m,\u001b[0m \u001b[1;36m0\u001b[0m\u001b[1;33m,\u001b[0m \u001b[0msigma\u001b[0m\u001b[1;33m,\u001b[0m \u001b[0malpha\u001b[0m\u001b[1;33m)\u001b[0m\u001b[1;33m,\u001b[0m \u001b[0mpg\u001b[0m\u001b[1;33m.\u001b[0m\u001b[0mp\u001b[0m\u001b[1;33m(\u001b[0m\u001b[1;32mNone\u001b[0m\u001b[1;33m,\u001b[0m \u001b[0mpause_length\u001b[0m\u001b[1;33m)\u001b[0m\u001b[1;33m]\u001b[0m\u001b[1;33m,\u001b[0m\u001b[1;33m\u001b[0m\u001b[0m\n\u001b[0m\u001b[0;32m      3\u001b[0m                    '|1>': [pg.p('iq_ex', length, pg.gauss_hd, amp, 0, sigma, alpha), pg.p(None, pause_length),\\\n\u001b[0;32m      4\u001b[0m                            pg.p('iq_ex', length, pg.gauss_hd, amp, 0, sigma, alpha), pg.p(None, pause_length)],\n\u001b[0;32m      5\u001b[0m                    \u001b[1;34m'|->'\u001b[0m\u001b[1;33m:\u001b[0m \u001b[1;33m[\u001b[0m\u001b[0mpg\u001b[0m\u001b[1;33m.\u001b[0m\u001b[0mp\u001b[0m\u001b[1;33m(\u001b[0m\u001b[1;34m'iq_ex'\u001b[0m\u001b[1;33m,\u001b[0m \u001b[0mlength\u001b[0m\u001b[1;33m,\u001b[0m \u001b[0mpg\u001b[0m\u001b[1;33m.\u001b[0m\u001b[0mgauss_hd\u001b[0m\u001b[1;33m,\u001b[0m \u001b[1;33m-\u001b[0m\u001b[0mamp\u001b[0m\u001b[1;33m,\u001b[0m \u001b[1;36m0\u001b[0m\u001b[1;33m,\u001b[0m \u001b[0msigma\u001b[0m\u001b[1;33m,\u001b[0m \u001b[0malpha\u001b[0m\u001b[1;33m)\u001b[0m\u001b[1;33m,\u001b[0m \u001b[0mpg\u001b[0m\u001b[1;33m.\u001b[0m\u001b[0mp\u001b[0m\u001b[1;33m(\u001b[0m\u001b[1;32mNone\u001b[0m\u001b[1;33m,\u001b[0m \u001b[0mpause_length\u001b[0m\u001b[1;33m)\u001b[0m\u001b[1;33m]\u001b[0m\u001b[1;33m,\u001b[0m\u001b[1;33m\u001b[0m\u001b[0m\n",
      "\u001b[1;32mD:\\qtlab_replacement\\scripts\\tomography.py\u001b[0m in \u001b[0;36mp\u001b[1;34m(self, channel, length, pulse_type, *params)\u001b[0m\n\u001b[0;32m     58\u001b[0m                 \u001b[0mpulses\u001b[0m \u001b[1;33m=\u001b[0m \u001b[1;33m{\u001b[0m\u001b[0mchannel_name\u001b[0m\u001b[1;33m:\u001b[0m \u001b[0mself\u001b[0m\u001b[1;33m.\u001b[0m\u001b[0mpause\u001b[0m\u001b[1;33m(\u001b[0m\u001b[0mchannel_name\u001b[0m\u001b[1;33m,\u001b[0m \u001b[0mlength\u001b[0m\u001b[1;33m)\u001b[0m \u001b[1;32mfor\u001b[0m \u001b[0mchannel_name\u001b[0m\u001b[1;33m,\u001b[0m \u001b[0mchannel\u001b[0m \u001b[1;32min\u001b[0m \u001b[0mself\u001b[0m\u001b[1;33m.\u001b[0m\u001b[0mchannels\u001b[0m\u001b[1;33m.\u001b[0m\u001b[0mitems\u001b[0m\u001b[1;33m(\u001b[0m\u001b[1;33m)\u001b[0m\u001b[1;33m}\u001b[0m\u001b[1;33m\u001b[0m\u001b[0m\n\u001b[0;32m     59\u001b[0m                 \u001b[1;32mif\u001b[0m \u001b[0mchannel\u001b[0m\u001b[1;33m:\u001b[0m\u001b[1;33m\u001b[0m\u001b[0m\n\u001b[1;32m---> 60\u001b[1;33m                         \u001b[0mpulses\u001b[0m\u001b[1;33m[\u001b[0m\u001b[0mchannel\u001b[0m\u001b[1;33m]\u001b[0m \u001b[1;33m=\u001b[0m \u001b[0mpulse_type\u001b[0m\u001b[1;33m(\u001b[0m\u001b[0mchannel\u001b[0m\u001b[1;33m,\u001b[0m \u001b[0mlength\u001b[0m\u001b[1;33m,\u001b[0m \u001b[1;33m*\u001b[0m\u001b[0mparams\u001b[0m\u001b[1;33m)\u001b[0m\u001b[1;33m\u001b[0m\u001b[0m\n\u001b[0m\u001b[0;32m     61\u001b[0m                 \u001b[1;32mreturn\u001b[0m \u001b[0mpulses\u001b[0m\u001b[1;33m\u001b[0m\u001b[0m\n\u001b[0;32m     62\u001b[0m \u001b[1;33m\u001b[0m\u001b[0m\n",
      "\u001b[1;31mTypeError\u001b[0m: gauss_hd() takes from 5 to 6 positional arguments but 7 were given"
     ]
    }
   ],
   "source": [
    "state_prep_seqs = {'|0>': [],\n",
    "                   '|+>': [pg.p('iq_ex', length, pg.gauss_hd, amp, 0, sigma, alpha), pg.p(None, pause_length)],\n",
    "                   '|1>': [pg.p('iq_ex', length, pg.gauss_hd, amp, 0, sigma, alpha), pg.p(None, pause_length),\\\n",
    "                           pg.p('iq_ex', length, pg.gauss_hd, amp, 0, sigma, alpha), pg.p(None, pause_length)],\n",
    "                   '|->': [pg.p('iq_ex', length, pg.gauss_hd, -amp, 0, sigma, alpha), pg.p(None, pause_length)],\n",
    "                   '|i+>': [pg.p('iq_ex', length, pg.gauss_hd, 0, amp_y, sigma, alpha), pg.p(None, pause_length)],\n",
    "                   '|i->': [pg.p('iq_ex', length, pg.gauss_hd, 0, -amp_y,sigma, alpha), pg.p(None, pause_length)]}\n",
    "\n",
    "plt.figure('State readout histograms gaussian')\n",
    "sz_meas = {}\n",
    "for state_name, state_prep_seq in state_prep_seqs.items():\n",
    "    pg.set_seq(state_prep_seq+adc_sz.ro_seq)\n",
    "    sz_meas[state_name] = np.real(adc_calibrated_reducer.measure()['sz'])\n",
    "    hist, bin_edges = np.histogram(sz_meas[state_name], bins=adc_sz.calib_proba_points)\n",
    "    proba_points = (bin_edges[1:]+bin_edges[:-1])/2\n",
    "    plt.plot(proba_points, hist,label=state_name)\n",
    "    print ('{0} state sz mean: {1}, std: {2}'.format(state_name, np.mean(sz_meas[state_name]), np.std(sz_meas[state_name])))\n",
    "    \n",
    "plt.legend()"
   ]
  },
  {
   "cell_type": "code",
   "execution_count": null,
   "metadata": {
    "collapsed": true
   },
   "outputs": [],
   "source": [
    "adc.stop()"
   ]
  },
  {
   "cell_type": "markdown",
   "metadata": {},
   "source": [
    "### Tomography"
   ]
  },
  {
   "cell_type": "code",
   "execution_count": null,
   "metadata": {
    "collapsed": true
   },
   "outputs": [],
   "source": [
    "#+ \n",
    "amp=0.327\n",
    "amp2=0.657\n",
    "observables = { 'X': 0.5*np.asarray([[0, 1],   [1, 0]]),\n",
    "                'Y': 0.5*np.asarray([[0, -1j],   [1j, 0]]),\n",
    "                '-X': 0.5*np.asarray([[0, -1],   [-1, 0]]),\n",
    "                '-Y': 0.5*np.asarray([[0, 1j],   [-1j, 0]]),\n",
    "                'Z': 0.5*np.asarray([[1, 0],   [0, -1]])}\n",
    "proj_seq = {'Xo':{'pulses': [pg.p('iq_ex', length, pg.gauss_hd, 0, -amp_y, sigma, alpha), pg.p(None, pause_length)]+ro_seq, \n",
    "                 'operator': observables['X']},\n",
    "            'Yo':{'pulses': [pg.p('iq_ex', length, pg.gauss_hd, amp, 0, sigma, alpha), pg.p(None, pause_length)]+ro_seq,\n",
    "                 'operator': observables['Y']},\n",
    "            '-Xo':{'pulses':[pg.p('iq_ex', length, pg.gauss_hd, 0, amp_y, sigma, alpha), pg.p(None, pause_length)]+ro_seq,\n",
    "                 'operator': observables['-X']},\n",
    "            '-Yo':{'pulses':[pg.p('iq_ex', length, pg.gauss_hd, -amp, 0, sigma, alpha), pg.p(None, pause_length)]+ro_seq,\n",
    "                 'operator': observables['-Y']},\n",
    "            'Zo': {'pulses':ro_seq, 'operator':observables['Z']} }\n",
    "reconstruction_basis={'x':{'operator':observables['X']},\n",
    "                      'y':{'operator':observables['Y']},\n",
    "                      'z':{'operator':observables['Z']}}\n",
    "tomo = tomography_new.tomography(adc_sz, pg, proj_seq, reconstruction_basis=reconstruction_basis)"
   ]
  },
  {
   "cell_type": "code",
   "execution_count": null,
   "metadata": {
    "collapsed": true
   },
   "outputs": [],
   "source": [
    "#+Gh\n",
    "proj_seq = {'Z': {'pulses':ro_seq, 'operator':observables['Z']}}\n",
    "reconstruction_basis={'z':{'operator':observables['Z']}}\n",
    "tomoz = tomography_new.tomography(adc_sz, pg, proj_seq, reconstruction_basis=reconstruction_basis)"
   ]
  },
  {
   "cell_type": "code",
   "execution_count": null,
   "metadata": {
    "collapsed": true
   },
   "outputs": [],
   "source": [
    "## tomography of |0> state\n",
    "#adc.set_software_nums_multi(20)\n",
    "tomo.set_prepare_seq([])\n",
    "tomo.measure()"
   ]
  },
  {
   "cell_type": "code",
   "execution_count": null,
   "metadata": {
    "collapsed": true
   },
   "outputs": [],
   "source": [
    "pause_length = 20e-09"
   ]
  },
  {
   "cell_type": "markdown",
   "metadata": {},
   "source": [
    "# Clifford group"
   ]
  },
  {
   "cell_type": "code",
   "execution_count": null,
   "metadata": {
    "collapsed": true,
    "scrolled": true
   },
   "outputs": [],
   "source": [
    "#+ в оптимальных параметрах амплитуду на 2 умножили и получили пи импульсы))))))000)))\n",
    "import clifford\n",
    "imp.reload(clifford)\n",
    "\n",
    "pulse_type = pg.gauss_hd\n",
    "amp = amp_gauss\n",
    "par1 = 0#tail_length # 0\n",
    "par2 = 0 #sigma\n",
    "#alpha_dimensionless = 0.0\n",
    "#alpha = alpha_dimensionless/(anharmonicity*2*np.pi)\n",
    "length = pi2_gauss\n",
    "\n",
    "pi2 = {'X/2': {'pulses': [pg.p('iq_ex', length, pulse_type, amp, length_transition, alpha), pg.p(None, pause_length)],\n",
    "               'unitary': np.sqrt(0.5)*np.asarray([[1, -1j],  [-1j, 1]])},\n",
    "       'Y/2': {'pulses': [pg.p('iq_ex', length, pulse_type, 1j*amp, length_transition, alpha), pg.p(None, pause_length)],\n",
    "               'unitary': np.sqrt(0.5)*np.asarray([[1, -1],    [1, 1]])},\n",
    "       '-X/2':{'pulses':[pg.p('iq_ex', length, pulse_type, -amp, length_transition, alpha), pg.p(None, pause_length)],\n",
    "               'unitary': np.sqrt(0.5)*np.asarray([[1, 1j],   [1j, 1]])},\n",
    "       '-Υ/2':{'pulses':[pg.p('iq_ex', length, pulse_type, -1j*amp, length_transition, alpha), pg.p(None, pause_length)],\n",
    "               'unitary': np.sqrt(0.5)*np.asarray([[1, 1],   [-1, 1]])},\n",
    "       'I':   {'pulses':[], 'unitary':np.asarray([[1, 0], [0,1]])}}\n",
    "#       'X': {'pulses':[pg.p('iq_ex', length, pg.gauss_hd, -amp2, par1, alpha), pg.p(None, pause_length)],\n",
    "#               'unitary': np.asarray([[0, 1],  [1, 0]])},\n",
    "#       'Y': {'pulses':[pg.p('iq_ex', length, pg.gauss_hd, 0, amp2, sigma, alpha), pg.p(None, pause_length)],\n",
    "#               'unitary': 1j*np.asarray([[0, -1],  [1, 0]])}}\n",
    "clifford_group = clifford.generate_group(pi2)#тут меняем наш словарь\n",
    "print(clifford_group.keys(), len(clifford_group))"
   ]
  },
  {
   "cell_type": "code",
   "execution_count": null,
   "metadata": {
    "collapsed": true
   },
   "outputs": [],
   "source": [
    "import qutip as qt\n",
    "qt.sigmay()"
   ]
  },
  {
   "cell_type": "markdown",
   "metadata": {},
   "source": [
    "# Randomized benchmarking"
   ]
  },
  {
   "cell_type": "code",
   "execution_count": null,
   "metadata": {
    "collapsed": true
   },
   "outputs": [],
   "source": [
    "#+\n",
    "import interleaved_benchmarking\n",
    "imp.reload(interleaved_benchmarking)\n",
    "imp.reload(sweep)\n",
    "\n",
    "bench = interleaved_benchmarking.interleaved_benchmarking(tomoz)\n",
    "\n",
    "#unitaries = {0:np.sqrt(0.5)*np.asarray([[1, -1j],  [-1j, 1]]),\\\n",
    "#             1:np.sqrt(0.5)*np.asarray([[1, -1],    [1, 1]]),\\\n",
    "#             2:np.sqrt(0.5)*np.asarray([[1, 1j],   [1j, 1]]),\\\n",
    "#             3:np.sqrt(0.5)*np.asarray([[1, 1],   [-1, 1]])}\n",
    "bench.interleavers = clifford_group\n",
    "#bench.sequence_length = 10\n",
    "bench.random_sequence_num = 20\n",
    "#bench.prepare_random_interleaving_sequences()\n",
    "#bench.get_points()\n",
    "#bench.generate_interleaver_sequence_from_names()"
   ]
  },
  {
   "cell_type": "code",
   "execution_count": null,
   "metadata": {
    "collapsed": true
   },
   "outputs": [],
   "source": [
    "adc.stop()"
   ]
  },
  {
   "cell_type": "code",
   "execution_count": null,
   "metadata": {
    "collapsed": true
   },
   "outputs": [],
   "source": [
    "#+\n",
    "#ro_adc_length=0.2e-6 #ВНИМАНИЕ! я это удалю (закомментирую) тут, т.к. оно всё равно здесь ничего не делает, только мозги выносит\n",
    "seq_lengths = np.arange(0,21, 1)\n",
    "#seq_lengths = np.arange(0, 100, 10)\n",
    "random_sequence_ids = np.arange(bench.random_sequence_num)\n",
    "bench.prepare_random_interleaving_sequences()\n",
    "clifford_bench = sweep.sweep(bench,\n",
    "                             (seq_lengths, bench.set_sequence_length_and_regenerate, 'Gate number', ''), \n",
    "                             (random_sequence_ids, bench.set_interleaved_sequence, 'Random sequence id', ''))"
   ]
  },
  {
   "cell_type": "code",
   "execution_count": null,
   "metadata": {
    "collapsed": true
   },
   "outputs": [],
   "source": [
    "#+\n",
    "imp.reload(fitting)\n",
    "plt.plot(clifford_bench['distance'][1][0], \n",
    "         1-clifford_bench['distance'][2], \n",
    "         marker='o', \n",
    "         color='black', \n",
    "         linestyle='')\n",
    "#plt.plot(clifford_bench['distance'][1][0], np.mean(1-clifford_bench['distance'][2], axis=1))\n",
    "clifford_fitresults, clifford_expfit = fitting.exp_fit1d(clifford_bench['distance'][1][0], \n",
    "                                                        np.reshape(np.mean(1-clifford_bench['distance'][2], axis=1), \n",
    "                                                                   (1, len(clifford_bench['distance'][1][0]))))\n",
    "\n",
    "plt.plot(clifford_bench['distance'][1][0],\n",
    "         clifford_expfit[0],\n",
    "         label='Clifford set')\n",
    "plt.grid()\n",
    "plt.xlabel('Number of gates')\n",
    "plt.ylabel('Fidelity')\n",
    "plt.legend()\n",
    "print('Clifford fidelity: {0:6.3f}'.format(np.exp(-1/clifford_fitresults[0])))"
   ]
  },
  {
   "cell_type": "code",
   "execution_count": 389,
   "metadata": {},
   "outputs": [
    {
     "data": {
      "text/plain": [
       "3.2e-08"
      ]
     },
     "execution_count": 389,
     "metadata": {},
     "output_type": "execute_result"
    }
   ],
   "source": [
    "pi2_gauss"
   ]
  },
  {
   "cell_type": "code",
   "execution_count": 729,
   "metadata": {},
   "outputs": [
    {
     "data": {
      "text/plain": [
       "[array([  3.22350000e-01,   3.23750000e-01,   3.19870000e-01,\n",
       "          3.21480000e-01,   3.22210000e-01,   3.23760000e-01,\n",
       "          3.23630000e-01,   3.25720000e-01,   3.22880000e-01,\n",
       "          3.22780000e-01,   3.24500000e-01,   3.21520000e-01,\n",
       "          2.93690000e-01,   2.68570000e-01,   2.49700000e-01,\n",
       "          2.32260000e-01,   2.17430000e-01,   1.97500000e-01,\n",
       "          1.83570000e-01,   1.68940000e-01,   1.55950000e-01,\n",
       "          1.44690000e-01,   1.33860000e-01,   1.22090000e-01,\n",
       "          1.16170000e-01,   1.01980000e-01,   9.41900000e-02,\n",
       "          8.75200000e-02,   7.68300000e-02,   7.52900000e-02,\n",
       "          6.52000000e-02,   6.26700000e-02,   5.11600000e-02,\n",
       "          4.71700000e-02,   4.09400000e-02,   3.50000000e-02,\n",
       "          3.38100000e-02,   2.66900000e-02,   2.62600000e-02,\n",
       "          2.26400000e-02,   2.24800000e-02,   1.59800000e-02,\n",
       "          1.02500000e-02,   1.14500000e-02,   6.71000000e-03,\n",
       "          2.26000000e-03,   4.72000000e-03,   9.70000000e-04,\n",
       "         -2.40000000e-04,  -2.84000000e-03,  -1.65000000e-03,\n",
       "         -4.82000000e-03,  -8.54000000e-03,  -9.26000000e-03,\n",
       "         -1.32600000e-02,  -1.06900000e-02,  -1.41800000e-02,\n",
       "         -1.42500000e-02,  -1.91100000e-02,  -1.56400000e-02,\n",
       "         -1.79500000e-02,  -1.64100000e-02,  -1.63900000e-02,\n",
       "         -1.75700000e-02,  -1.95900000e-02,  -2.33500000e-02,\n",
       "         -2.12600000e-02,  -2.13300000e-02,  -2.39500000e-02,\n",
       "         -2.47500000e-02,  -2.49600000e-02,  -2.76200000e-02,\n",
       "         -2.95600000e-02,  -2.63500000e-02,  -2.94000000e-02,\n",
       "         -2.67300000e-02,  -2.76500000e-02,  -2.62800000e-02,\n",
       "         -2.54300000e-02,  -2.61900000e-02,  -2.62700000e-02,\n",
       "         -3.00800000e-02,  -2.99100000e-02,  -2.92500000e-02,\n",
       "         -2.86900000e-02,  -2.73400000e-02,  -2.84000000e-02,\n",
       "         -2.96100000e-02,  -2.86600000e-02,  -2.73000000e-02,\n",
       "         -2.97700000e-02,  -2.83200000e-02,  -2.83700000e-02]),\n",
       " array([  3.18490000e-01,   3.16670000e-01,   3.19330000e-01,\n",
       "          3.16960000e-01,   3.16780000e-01,   3.15890000e-01,\n",
       "          3.15040000e-01,   3.16590000e-01,   3.16390000e-01,\n",
       "          3.14670000e-01,   3.13170000e-01,   3.11160000e-01,\n",
       "          2.93360000e-01,   2.72120000e-01,   2.49560000e-01,\n",
       "          2.34640000e-01,   2.10580000e-01,   1.96240000e-01,\n",
       "          1.82410000e-01,   1.65890000e-01,   1.57080000e-01,\n",
       "          1.48490000e-01,   1.37860000e-01,   1.27140000e-01,\n",
       "          1.15780000e-01,   1.14490000e-01,   1.05190000e-01,\n",
       "          9.28400000e-02,   8.57700000e-02,   8.08900000e-02,\n",
       "          7.35400000e-02,   6.82400000e-02,   6.35000000e-02,\n",
       "          5.99300000e-02,   5.17200000e-02,   5.10100000e-02,\n",
       "          4.35500000e-02,   4.29000000e-02,   3.70200000e-02,\n",
       "          3.33600000e-02,   3.00100000e-02,   2.66700000e-02,\n",
       "          2.51100000e-02,   2.22200000e-02,   2.12600000e-02,\n",
       "          1.90600000e-02,   1.50300000e-02,   1.41800000e-02,\n",
       "          9.70000000e-03,   6.70000000e-03,   7.57000000e-03,\n",
       "          5.00000000e-03,   4.74000000e-03,   4.12000000e-03,\n",
       "         -3.00000000e-04,   7.10000000e-04,  -2.19000000e-03,\n",
       "         -2.80000000e-03,  -3.66000000e-03,  -6.52000000e-03,\n",
       "         -4.27000000e-03,  -6.06000000e-03,  -7.35000000e-03,\n",
       "         -1.11700000e-02,  -1.06800000e-02,  -1.06800000e-02,\n",
       "         -8.52000000e-03,  -1.45800000e-02,  -1.35500000e-02,\n",
       "         -1.33000000e-02,  -1.76200000e-02,  -1.60400000e-02,\n",
       "         -1.43500000e-02,  -1.73800000e-02,  -1.70600000e-02,\n",
       "         -1.51100000e-02,  -1.93400000e-02,  -2.15700000e-02,\n",
       "         -2.05100000e-02,  -1.94900000e-02,  -1.88200000e-02,\n",
       "         -2.10400000e-02,  -2.15300000e-02,  -2.06500000e-02,\n",
       "         -2.14700000e-02,  -2.24300000e-02,  -2.14700000e-02,\n",
       "         -2.35400000e-02,  -2.22400000e-02,  -2.09400000e-02,\n",
       "         -2.43100000e-02,  -2.17900000e-02,  -2.42500000e-02]),\n",
       " array([ 0.29534,  0.28572,  0.28317,  0.28408,  0.28235,  0.28118,\n",
       "         0.27467,  0.2707 ,  0.26832,  0.26629,  0.26262,  0.25891,\n",
       "         0.24694,  0.23862,  0.2287 ,  0.2156 ,  0.20035,  0.19008,\n",
       "         0.17954,  0.16865,  0.15381,  0.14162,  0.13273,  0.1201 ,\n",
       "         0.11269,  0.10573,  0.10007,  0.08853,  0.08044,  0.07444,\n",
       "         0.06746,  0.06499,  0.06032,  0.05453,  0.04571,  0.04926,\n",
       "         0.04058,  0.03853,  0.0344 ,  0.03101,  0.03085,  0.02745,\n",
       "         0.02432,  0.0245 ,  0.01878,  0.02071,  0.01818,  0.01224,\n",
       "         0.01381,  0.00805,  0.00855,  0.00762,  0.00344,  0.00404,\n",
       "         0.00071,  0.0024 ,  0.00063, -0.00062, -0.00405, -0.00118,\n",
       "        -0.00347, -0.00267, -0.0052 , -0.00811, -0.0055 , -0.00688,\n",
       "        -0.00971, -0.0086 , -0.00973, -0.01123, -0.00961, -0.01217,\n",
       "        -0.01219, -0.01505, -0.01433, -0.01368, -0.01496, -0.0162 ,\n",
       "        -0.01835, -0.01594, -0.01828, -0.01574, -0.01574, -0.01512,\n",
       "        -0.01693, -0.01582, -0.01513, -0.01794, -0.01824, -0.0148 ,\n",
       "        -0.01619, -0.01431, -0.01507]),\n",
       " array([  2.64880000e-01,   2.62370000e-01,   2.59520000e-01,\n",
       "          2.53740000e-01,   2.43040000e-01,   2.36820000e-01,\n",
       "          2.33450000e-01,   2.28440000e-01,   2.24520000e-01,\n",
       "          2.19330000e-01,   2.11800000e-01,   2.13870000e-01,\n",
       "          2.05050000e-01,   1.98410000e-01,   1.92970000e-01,\n",
       "          1.83010000e-01,   1.76890000e-01,   1.69490000e-01,\n",
       "          1.60680000e-01,   1.52080000e-01,   1.47020000e-01,\n",
       "          1.39370000e-01,   1.26890000e-01,   1.20210000e-01,\n",
       "          1.15420000e-01,   1.05780000e-01,   1.00570000e-01,\n",
       "          9.64700000e-02,   9.06100000e-02,   8.87200000e-02,\n",
       "          8.11300000e-02,   7.61500000e-02,   7.24600000e-02,\n",
       "          6.43000000e-02,   5.86800000e-02,   5.61000000e-02,\n",
       "          5.13400000e-02,   4.71100000e-02,   4.09300000e-02,\n",
       "          3.77500000e-02,   3.27600000e-02,   3.02000000e-02,\n",
       "          3.16700000e-02,   2.59600000e-02,   2.53400000e-02,\n",
       "          2.48900000e-02,   1.91000000e-02,   1.82600000e-02,\n",
       "          1.25100000e-02,   1.25200000e-02,   1.01900000e-02,\n",
       "          1.03800000e-02,   8.51000000e-03,   2.83000000e-03,\n",
       "          2.67000000e-03,   3.52000000e-03,  -9.90000000e-04,\n",
       "          1.16000000e-03,  -1.91000000e-03,  -2.40000000e-03,\n",
       "         -3.47000000e-03,  -1.00000000e-05,  -4.74000000e-03,\n",
       "         -2.46000000e-03,  -6.99000000e-03,  -5.17000000e-03,\n",
       "         -8.30000000e-03,  -1.08400000e-02,  -1.03600000e-02,\n",
       "         -1.18600000e-02,  -1.26400000e-02,  -1.27100000e-02,\n",
       "         -1.24700000e-02,  -1.42900000e-02,  -1.49700000e-02,\n",
       "         -1.38800000e-02,  -1.55300000e-02,  -1.55500000e-02,\n",
       "         -1.59900000e-02,  -1.38500000e-02,  -1.77700000e-02,\n",
       "         -1.65000000e-02,  -1.68700000e-02,  -1.61600000e-02,\n",
       "         -1.73500000e-02,  -1.57400000e-02,  -1.58300000e-02,\n",
       "         -1.92000000e-02,  -1.70100000e-02,  -1.80600000e-02,\n",
       "         -1.99000000e-02,  -2.15400000e-02,  -1.61600000e-02]),\n",
       " array([ 0.23448,  0.22595,  0.21511,  0.20495,  0.19473,  0.18057,\n",
       "         0.1734 ,  0.16659,  0.15505,  0.14852,  0.14483,  0.14671,\n",
       "         0.13725,  0.13654,  0.13689,  0.1313 ,  0.12764,  0.11885,\n",
       "         0.11419,  0.10815,  0.10741,  0.10723,  0.10185,  0.09904,\n",
       "         0.09717,  0.09553,  0.09002,  0.08822,  0.08542,  0.08403,\n",
       "         0.07904,  0.07689,  0.0762 ,  0.06648,  0.072  ,  0.071  ,\n",
       "         0.06036,  0.05991,  0.06504,  0.05683,  0.05439,  0.05607,\n",
       "         0.0513 ,  0.05171,  0.04583,  0.04754,  0.04081,  0.04251,\n",
       "         0.04215,  0.04291,  0.03439,  0.03737,  0.02985,  0.0286 ,\n",
       "         0.02711,  0.03112,  0.02851,  0.02883,  0.0267 ,  0.02279,\n",
       "         0.02293,  0.02302,  0.02549,  0.01708,  0.01258,  0.00569,\n",
       "         0.00983,  0.00371,  0.00296,  0.00342,  0.00233, -0.00464,\n",
       "        -0.00212, -0.00769, -0.00765, -0.00776, -0.00754, -0.01274,\n",
       "        -0.0098 , -0.00753, -0.01268, -0.01358, -0.01064, -0.01234,\n",
       "        -0.01302, -0.01297, -0.01323, -0.01236, -0.01695, -0.0158 ,\n",
       "        -0.01453, -0.01548, -0.01646]),\n",
       " array([  2.04640000e-01,   2.00010000e-01,   1.89270000e-01,\n",
       "          1.58420000e-01,   1.65520000e-01,   1.26800000e-01,\n",
       "          1.21790000e-01,   1.14570000e-01,   1.13270000e-01,\n",
       "          9.22100000e-02,   8.52200000e-02,   8.51000000e-02,\n",
       "          8.77400000e-02,   8.64200000e-02,   9.24200000e-02,\n",
       "          7.86200000e-02,   8.24400000e-02,   9.25400000e-02,\n",
       "          7.88100000e-02,   8.12900000e-02,   9.34800000e-02,\n",
       "          8.96600000e-02,   8.28400000e-02,   8.31400000e-02,\n",
       "          6.76900000e-02,   8.71600000e-02,   7.93700000e-02,\n",
       "          7.43400000e-02,   6.00200000e-02,   6.65800000e-02,\n",
       "          7.68800000e-02,   7.23900000e-02,   7.79000000e-02,\n",
       "          6.51500000e-02,   7.09000000e-02,   7.26000000e-02,\n",
       "          6.66300000e-02,   6.30400000e-02,   7.06700000e-02,\n",
       "          6.15000000e-02,   5.63700000e-02,   6.03800000e-02,\n",
       "          6.10300000e-02,   5.52500000e-02,   6.68700000e-02,\n",
       "          5.44500000e-02,   1.29400000e-02,   3.98000000e-03,\n",
       "          3.51000000e-03,   3.79100000e-02,   3.40400000e-02,\n",
       "         -4.17000000e-03,   2.43700000e-02,  -4.96000000e-03,\n",
       "          1.22800000e-02,   4.04600000e-02,   6.84000000e-03,\n",
       "         -3.00000000e-05,   2.28300000e-02,  -2.14500000e-02,\n",
       "          2.50100000e-02,   1.29600000e-02,   3.70200000e-02,\n",
       "         -9.52000000e-03,   1.07700000e-02,  -4.52000000e-03,\n",
       "         -1.69400000e-02,  -1.62000000e-02,  -1.14400000e-02,\n",
       "         -1.60100000e-02,  -2.27900000e-02,   5.31000000e-03,\n",
       "         -1.69100000e-02,  -1.72900000e-02,  -3.83700000e-02,\n",
       "         -2.77900000e-02,  -3.81500000e-02,  -2.67200000e-02,\n",
       "         -2.68100000e-02,  -3.99800000e-02,  -3.15000000e-02,\n",
       "         -2.28800000e-02,  -2.73800000e-02,  -3.16100000e-02,\n",
       "         -3.06500000e-02,  -1.74600000e-02,  -3.37700000e-02,\n",
       "         -3.26100000e-02,  -3.61000000e-02,  -7.68000000e-03,\n",
       "         -1.50500000e-02,  -2.28600000e-02,  -1.45600000e-02])]"
      ]
     },
     "execution_count": 729,
     "metadata": {},
     "output_type": "execute_result"
    }
   ],
   "source": [
    "data"
   ]
  },
  {
   "cell_type": "code",
   "execution_count": 487,
   "metadata": {},
   "outputs": [
    {
     "data": {
      "text/plain": [
       "array([[  0.00000000e+00,   1.92000000e-07,   3.84000000e-07,\n",
       "          5.76000000e-07,   7.68000000e-07,   9.60000000e-07,\n",
       "          1.15200000e-06,   1.34400000e-06,   1.53600000e-06,\n",
       "          1.72800000e-06,   1.92000000e-06,   1.92000000e-06,\n",
       "          1.94320000e-06,   1.96640000e-06,   1.98960000e-06,\n",
       "          2.01280000e-06,   2.03600000e-06,   2.05920000e-06,\n",
       "          2.08240000e-06,   2.10560000e-06,   2.12880000e-06,\n",
       "          2.15200000e-06,   2.17520000e-06,   2.19840000e-06,\n",
       "          2.22160000e-06,   2.24480000e-06,   2.26800000e-06,\n",
       "          2.29120000e-06,   2.31440000e-06,   2.33760000e-06,\n",
       "          2.36080000e-06,   2.38400000e-06,   2.40720000e-06,\n",
       "          2.43040000e-06,   2.45360000e-06,   2.47680000e-06,\n",
       "          2.50000000e-06,   2.52320000e-06,   2.54640000e-06,\n",
       "          2.56960000e-06,   2.59280000e-06,   2.61600000e-06,\n",
       "          2.63920000e-06,   2.66240000e-06,   2.68560000e-06,\n",
       "          2.70880000e-06,   2.73200000e-06,   2.75520000e-06,\n",
       "          2.77840000e-06,   2.80160000e-06,   2.82480000e-06,\n",
       "          2.84800000e-06,   2.87120000e-06,   2.89440000e-06,\n",
       "          2.91760000e-06,   2.94080000e-06,   2.96400000e-06,\n",
       "          2.98720000e-06,   3.01040000e-06,   3.03360000e-06,\n",
       "          3.05680000e-06,   3.08000000e-06,   3.08000000e-06,\n",
       "          3.24666667e-06,   3.41333333e-06,   3.58000000e-06,\n",
       "          3.74666667e-06,   3.91333333e-06,   4.08000000e-06,\n",
       "          4.24666667e-06,   4.41333333e-06,   4.58000000e-06,\n",
       "          4.74666667e-06,   4.91333333e-06,   5.08000000e-06,\n",
       "          5.24666667e-06,   5.41333333e-06,   5.58000000e-06,\n",
       "          5.74666667e-06,   5.91333333e-06,   6.08000000e-06,\n",
       "          6.24666667e-06,   6.41333333e-06,   6.58000000e-06,\n",
       "          6.74666667e-06,   6.91333333e-06,   7.08000000e-06,\n",
       "          7.24666667e-06,   7.41333333e-06,   7.58000000e-06,\n",
       "          7.74666667e-06,   7.91333333e-06,   8.08000000e-06]])"
      ]
     },
     "execution_count": 487,
     "metadata": {},
     "output_type": "execute_result"
    }
   ],
   "source": [
    "np.asarray(data[1]['z'][1]) - 60*pi2_gauss"
   ]
  },
  {
   "cell_type": "code",
   "execution_count": 380,
   "metadata": {
    "collapsed": true
   },
   "outputs": [],
   "source": [
    "time = np.asarray((np.asarray(data2[1]['z'][1][0])-3*2*pi2_gauss).tolist() + (data[1]['z'][1][0]).tolist())\n",
    "meas = np.asarray(data[1]['z'][2].tolist() + data2[1]['z'][2].tolist())"
   ]
  },
  {
   "cell_type": "code",
   "execution_count": 296,
   "metadata": {
    "collapsed": true
   },
   "outputs": [],
   "source": [
    "import fitting_CPMG\n",
    "from fitting_CPMG import gaussian_CPMG"
   ]
  },
  {
   "cell_type": "code",
   "execution_count": 728,
   "metadata": {},
   "outputs": [
    {
     "data": {
      "text/plain": [
       "<matplotlib.legend.Legend at 0x28cdbb2d2e8>"
      ]
     },
     "execution_count": 728,
     "metadata": {},
     "output_type": "execute_result"
    }
   ],
   "source": [
    "imp.reload(fitting_CPMG)\n",
    "from fitting_CPMG import gaussian_CPMG\n",
    "from fitting_CPMG import fit_CPMG_new\n",
    "import matplotlib.patches as plm\n",
    "gamma1 = (10**6)/2.8\n",
    "gammap = 0\n",
    "indexes = [0, 1, 5, 10, 20, 30]\n",
    "adresses = ['19-02-27', '19-18-23', '19-50-37', '20-22-52', '20-55-06', '21-27-03']\n",
    "time = []\n",
    "data = []\n",
    "fitted_data = []\n",
    "fitted_param = []\n",
    "p = []\n",
    "for i in range(6):\n",
    "    meas = []\n",
    "    param = []\n",
    "    with open('D:\\qtlab\\ReiData\\\\data\\\\2018-04-19\\\\{}-CPMG Thesis N={}\\\\z CPMG Thesis N={}.pkl'.format(adresses[i], indexes[i], indexes[i]), 'rb') as f:\n",
    "        time.append(pickle.load(f)[1]['z'][1][0])\n",
    "    with open('D:\\qtlab\\ReiData\\\\data\\\\2018-04-19\\\\{}-CPMG Thesis N={}\\\\z CPMG Thesis N={}.pkl'.format(adresses[i], indexes[i], indexes[i]), 'rb') as f:\n",
    "        data.append(pickle.load(f)[1]['z'][2])\n",
    "    if (i==0) or (i==1):\n",
    "        param, meas = fitting_CPMG.gaussian_CPMG_exp(time[i], data[i])\n",
    "        #print(i, indexes[i])\n",
    "        #meas, param = [], []\n",
    "    else:\n",
    "        meas, param = fitting_CPMG.fit_CPMG_new(indexes[i], pi2_gauss, gamma1, gammap, tayp, time[i], data[i], gaussian_CPMG)\n",
    "    meas += 0.5\n",
    "    fitted_data.append(meas)\n",
    "    fitted_param.append(param[0])\n",
    "    p.append(plt.plot(time[i]*1e06, data[i]+0.5, marker = 'o', markersize = 1, linestyle = ''))#, time[i], fitted_data[i])\n",
    "    #plt.legend('N = {}'.format(indexes[i]))\n",
    "\n",
    "for i in range(6):\n",
    "    plt.plot(time[i]*1e06, fitted_data[i], color = '{}'.format(p[i][0].get_color()))\n",
    "    #p.append(plt.plot(time[i], fitted_data[i]))\n",
    "#type(p[0][0])\n",
    "#p[0][0].get_color()\n",
    "Handels = []\n",
    "for i in range(6):\n",
    "    Handels.append(plm.Patch(color = p[i][0].get_color(), label = 'N = {}'.format(indexes[i])))\n",
    "plt.legend(handles = Handels)"
   ]
  },
  {
   "cell_type": "code",
   "execution_count": 731,
   "metadata": {},
   "outputs": [
    {
     "data": {
      "text/plain": [
       "(2,\n",
       " {'Zo': (('CPMG',),\n",
       "   (array([  3.20000000e-07,   3.52000000e-07,   3.84000000e-07,\n",
       "             4.16000000e-07,   4.48000000e-07,   4.80000000e-07,\n",
       "             5.12000000e-07,   5.44000000e-07,   5.76000000e-07,\n",
       "             6.08000000e-07,   6.40000000e-07,   6.40000000e-07,\n",
       "             7.27200000e-07,   8.14400000e-07,   9.01600000e-07,\n",
       "             9.88800000e-07,   1.07600000e-06,   1.16320000e-06,\n",
       "             1.25040000e-06,   1.33760000e-06,   1.42480000e-06,\n",
       "             1.51200000e-06,   1.59920000e-06,   1.68640000e-06,\n",
       "             1.77360000e-06,   1.86080000e-06,   1.94800000e-06,\n",
       "             2.03520000e-06,   2.12240000e-06,   2.20960000e-06,\n",
       "             2.29680000e-06,   2.38400000e-06,   2.47120000e-06,\n",
       "             2.55840000e-06,   2.64560000e-06,   2.73280000e-06,\n",
       "             2.82000000e-06,   2.90720000e-06,   2.99440000e-06,\n",
       "             3.08160000e-06,   3.16880000e-06,   3.25600000e-06,\n",
       "             3.34320000e-06,   3.43040000e-06,   3.51760000e-06,\n",
       "             3.60480000e-06,   3.69200000e-06,   3.77920000e-06,\n",
       "             3.86640000e-06,   3.95360000e-06,   4.04080000e-06,\n",
       "             4.12800000e-06,   4.21520000e-06,   4.30240000e-06,\n",
       "             4.38960000e-06,   4.47680000e-06,   4.56400000e-06,\n",
       "             4.65120000e-06,   4.73840000e-06,   4.82560000e-06,\n",
       "             4.91280000e-06,   5.00000000e-06,   5.00000000e-06,\n",
       "             5.16666667e-06,   5.33333333e-06,   5.50000000e-06,\n",
       "             5.66666667e-06,   5.83333333e-06,   6.00000000e-06,\n",
       "             6.16666667e-06,   6.33333333e-06,   6.50000000e-06,\n",
       "             6.66666667e-06,   6.83333333e-06,   7.00000000e-06,\n",
       "             7.16666667e-06,   7.33333333e-06,   7.50000000e-06,\n",
       "             7.66666667e-06,   7.83333333e-06,   8.00000000e-06,\n",
       "             8.16666667e-06,   8.33333333e-06,   8.50000000e-06,\n",
       "             8.66666667e-06,   8.83333333e-06,   9.00000000e-06,\n",
       "             9.16666667e-06,   9.33333333e-06,   9.50000000e-06,\n",
       "             9.66666667e-06,   9.83333333e-06,   1.00000000e-05]),),\n",
       "   array([ 0.29534,  0.28572,  0.28317,  0.28408,  0.28235,  0.28118,\n",
       "           0.27467,  0.2707 ,  0.26832,  0.26629,  0.26262,  0.25891,\n",
       "           0.24694,  0.23862,  0.2287 ,  0.2156 ,  0.20035,  0.19008,\n",
       "           0.17954,  0.16865,  0.15381,  0.14162,  0.13273,  0.1201 ,\n",
       "           0.11269,  0.10573,  0.10007,  0.08853,  0.08044,  0.07444,\n",
       "           0.06746,  0.06499,  0.06032,  0.05453,  0.04571,  0.04926,\n",
       "           0.04058,  0.03853,  0.0344 ,  0.03101,  0.03085,  0.02745,\n",
       "           0.02432,  0.0245 ,  0.01878,  0.02071,  0.01818,  0.01224,\n",
       "           0.01381,  0.00805,  0.00855,  0.00762,  0.00344,  0.00404,\n",
       "           0.00071,  0.0024 ,  0.00063, -0.00062, -0.00405, -0.00118,\n",
       "          -0.00347, -0.00267, -0.0052 , -0.00811, -0.0055 , -0.00688,\n",
       "          -0.00971, -0.0086 , -0.00973, -0.01123, -0.00961, -0.01217,\n",
       "          -0.01219, -0.01505, -0.01433, -0.01368, -0.01496, -0.0162 ,\n",
       "          -0.01835, -0.01594, -0.01828, -0.01574, -0.01574, -0.01512,\n",
       "          -0.01693, -0.01582, -0.01513, -0.01794, -0.01824, -0.0148 ,\n",
       "          -0.01619, -0.01431, -0.01507]),\n",
       "   {},\n",
       "   ('',)),\n",
       "  'z': (('CPMG',),\n",
       "   (array([  3.20000000e-07,   3.52000000e-07,   3.84000000e-07,\n",
       "             4.16000000e-07,   4.48000000e-07,   4.80000000e-07,\n",
       "             5.12000000e-07,   5.44000000e-07,   5.76000000e-07,\n",
       "             6.08000000e-07,   6.40000000e-07,   6.40000000e-07,\n",
       "             7.27200000e-07,   8.14400000e-07,   9.01600000e-07,\n",
       "             9.88800000e-07,   1.07600000e-06,   1.16320000e-06,\n",
       "             1.25040000e-06,   1.33760000e-06,   1.42480000e-06,\n",
       "             1.51200000e-06,   1.59920000e-06,   1.68640000e-06,\n",
       "             1.77360000e-06,   1.86080000e-06,   1.94800000e-06,\n",
       "             2.03520000e-06,   2.12240000e-06,   2.20960000e-06,\n",
       "             2.29680000e-06,   2.38400000e-06,   2.47120000e-06,\n",
       "             2.55840000e-06,   2.64560000e-06,   2.73280000e-06,\n",
       "             2.82000000e-06,   2.90720000e-06,   2.99440000e-06,\n",
       "             3.08160000e-06,   3.16880000e-06,   3.25600000e-06,\n",
       "             3.34320000e-06,   3.43040000e-06,   3.51760000e-06,\n",
       "             3.60480000e-06,   3.69200000e-06,   3.77920000e-06,\n",
       "             3.86640000e-06,   3.95360000e-06,   4.04080000e-06,\n",
       "             4.12800000e-06,   4.21520000e-06,   4.30240000e-06,\n",
       "             4.38960000e-06,   4.47680000e-06,   4.56400000e-06,\n",
       "             4.65120000e-06,   4.73840000e-06,   4.82560000e-06,\n",
       "             4.91280000e-06,   5.00000000e-06,   5.00000000e-06,\n",
       "             5.16666667e-06,   5.33333333e-06,   5.50000000e-06,\n",
       "             5.66666667e-06,   5.83333333e-06,   6.00000000e-06,\n",
       "             6.16666667e-06,   6.33333333e-06,   6.50000000e-06,\n",
       "             6.66666667e-06,   6.83333333e-06,   7.00000000e-06,\n",
       "             7.16666667e-06,   7.33333333e-06,   7.50000000e-06,\n",
       "             7.66666667e-06,   7.83333333e-06,   8.00000000e-06,\n",
       "             8.16666667e-06,   8.33333333e-06,   8.50000000e-06,\n",
       "             8.66666667e-06,   8.83333333e-06,   9.00000000e-06,\n",
       "             9.16666667e-06,   9.33333333e-06,   9.50000000e-06,\n",
       "             9.66666667e-06,   9.83333333e-06,   1.00000000e-05]),),\n",
       "   array([ 0.29534,  0.28572,  0.28317,  0.28408,  0.28235,  0.28118,\n",
       "           0.27467,  0.2707 ,  0.26832,  0.26629,  0.26262,  0.25891,\n",
       "           0.24694,  0.23862,  0.2287 ,  0.2156 ,  0.20035,  0.19008,\n",
       "           0.17954,  0.16865,  0.15381,  0.14162,  0.13273,  0.1201 ,\n",
       "           0.11269,  0.10573,  0.10007,  0.08853,  0.08044,  0.07444,\n",
       "           0.06746,  0.06499,  0.06032,  0.05453,  0.04571,  0.04926,\n",
       "           0.04058,  0.03853,  0.0344 ,  0.03101,  0.03085,  0.02745,\n",
       "           0.02432,  0.0245 ,  0.01878,  0.02071,  0.01818,  0.01224,\n",
       "           0.01381,  0.00805,  0.00855,  0.00762,  0.00344,  0.00404,\n",
       "           0.00071,  0.0024 ,  0.00063, -0.00062, -0.00405, -0.00118,\n",
       "          -0.00347, -0.00267, -0.0052 , -0.00811, -0.0055 , -0.00688,\n",
       "          -0.00971, -0.0086 , -0.00973, -0.01123, -0.00961, -0.01217,\n",
       "          -0.01219, -0.01505, -0.01433, -0.01368, -0.01496, -0.0162 ,\n",
       "          -0.01835, -0.01594, -0.01828, -0.01574, -0.01574, -0.01512,\n",
       "          -0.01693, -0.01582, -0.01513, -0.01794, -0.01824, -0.0148 ,\n",
       "          -0.01619, -0.01431, -0.01507]),\n",
       "   {},\n",
       "   ('',))},\n",
       " {'name': 'CPMG Thesis N=5', 'params': ('CPMG',), 'type': 'z'})"
      ]
     },
     "execution_count": 731,
     "metadata": {},
     "output_type": "execute_result"
    }
   ],
   "source": [
    "data"
   ]
  },
  {
   "cell_type": "code",
   "execution_count": 730,
   "metadata": {
    "scrolled": true
   },
   "outputs": [
    {
     "data": {
      "text/plain": [
       "array([  0.00000000e+00,   3.20000000e-08,   6.40000000e-08,\n",
       "         9.60000000e-08,   1.28000000e-07,   1.60000000e-07,\n",
       "         1.92000000e-07,   2.24000000e-07,   2.56000000e-07,\n",
       "         2.88000000e-07,   3.20000000e-07,   3.20000000e-07,\n",
       "         4.07200000e-07,   4.94400000e-07,   5.81600000e-07,\n",
       "         6.68800000e-07,   7.56000000e-07,   8.43200000e-07,\n",
       "         9.30400000e-07,   1.01760000e-06,   1.10480000e-06,\n",
       "         1.19200000e-06,   1.27920000e-06,   1.36640000e-06,\n",
       "         1.45360000e-06,   1.54080000e-06,   1.62800000e-06,\n",
       "         1.71520000e-06,   1.80240000e-06,   1.88960000e-06,\n",
       "         1.97680000e-06,   2.06400000e-06,   2.15120000e-06,\n",
       "         2.23840000e-06,   2.32560000e-06,   2.41280000e-06,\n",
       "         2.50000000e-06,   2.58720000e-06,   2.67440000e-06,\n",
       "         2.76160000e-06,   2.84880000e-06,   2.93600000e-06,\n",
       "         3.02320000e-06,   3.11040000e-06,   3.19760000e-06,\n",
       "         3.28480000e-06,   3.37200000e-06,   3.45920000e-06,\n",
       "         3.54640000e-06,   3.63360000e-06,   3.72080000e-06,\n",
       "         3.80800000e-06,   3.89520000e-06,   3.98240000e-06,\n",
       "         4.06960000e-06,   4.15680000e-06,   4.24400000e-06,\n",
       "         4.33120000e-06,   4.41840000e-06,   4.50560000e-06,\n",
       "         4.59280000e-06,   4.68000000e-06,   4.68000000e-06,\n",
       "         4.84666667e-06,   5.01333333e-06,   5.18000000e-06,\n",
       "         5.34666667e-06,   5.51333333e-06,   5.68000000e-06,\n",
       "         5.84666667e-06,   6.01333333e-06,   6.18000000e-06,\n",
       "         6.34666667e-06,   6.51333333e-06,   6.68000000e-06,\n",
       "         6.84666667e-06,   7.01333333e-06,   7.18000000e-06,\n",
       "         7.34666667e-06,   7.51333333e-06,   7.68000000e-06,\n",
       "         7.84666667e-06,   8.01333333e-06,   8.18000000e-06,\n",
       "         8.34666667e-06,   8.51333333e-06,   8.68000000e-06,\n",
       "         8.84666667e-06,   9.01333333e-06,   9.18000000e-06,\n",
       "         9.34666667e-06,   9.51333333e-06,   9.68000000e-06])"
      ]
     },
     "execution_count": 730,
     "metadata": {},
     "output_type": "execute_result"
    }
   ],
   "source": [
    "import pickle\n",
    "N = 5\n",
    "with open('D:\\qtlab\\ReiData\\\\data\\\\2018-04-19\\\\19-50-37-CPMG Thesis N=5\\\\z CPMG Thesis N=5.pkl', 'rb') as f:\n",
    "    data = pickle.load(f)\n",
    "data[1]['z'][1][0] - N*2*pi2_gauss"
   ]
  },
  {
   "cell_type": "code",
   "execution_count": 570,
   "metadata": {
    "collapsed": true
   },
   "outputs": [],
   "source": [
    "imp.reload(fitting_CPMG)\n",
    "from fitting_CPMG import gaussian_CPMG\n",
    "from fitting_CPMG import fit_CPMG_new\n",
    "gamma1 = (10**6)/2.8\n",
    "gammap = 0#(10^6)/1.75"
   ]
  },
  {
   "cell_type": "code",
   "execution_count": 594,
   "metadata": {
    "scrolled": true
   },
   "outputs": [
    {
     "data": {
      "text/plain": [
       "array([  0.00000000e+00,   3.20000000e-08,   6.40000000e-08,\n",
       "         9.60000000e-08,   1.28000000e-07,   1.60000000e-07,\n",
       "         1.92000000e-07,   2.24000000e-07,   2.56000000e-07,\n",
       "         2.88000000e-07,   3.20000000e-07,   3.20000000e-07,\n",
       "         4.07200000e-07,   4.94400000e-07,   5.81600000e-07,\n",
       "         6.68800000e-07,   7.56000000e-07,   8.43200000e-07,\n",
       "         9.30400000e-07,   1.01760000e-06,   1.10480000e-06,\n",
       "         1.19200000e-06,   1.27920000e-06,   1.36640000e-06,\n",
       "         1.45360000e-06,   1.54080000e-06,   1.62800000e-06,\n",
       "         1.71520000e-06,   1.80240000e-06,   1.88960000e-06,\n",
       "         1.97680000e-06,   2.06400000e-06,   2.15120000e-06,\n",
       "         2.23840000e-06,   2.32560000e-06,   2.41280000e-06,\n",
       "         2.50000000e-06,   2.58720000e-06,   2.67440000e-06,\n",
       "         2.76160000e-06,   2.84880000e-06,   2.93600000e-06,\n",
       "         3.02320000e-06,   3.11040000e-06,   3.19760000e-06,\n",
       "         3.28480000e-06,   3.37200000e-06,   3.45920000e-06,\n",
       "         3.54640000e-06,   3.63360000e-06,   3.72080000e-06,\n",
       "         3.80800000e-06,   3.89520000e-06,   3.98240000e-06,\n",
       "         4.06960000e-06,   4.15680000e-06,   4.24400000e-06,\n",
       "         4.33120000e-06,   4.41840000e-06,   4.50560000e-06,\n",
       "         4.59280000e-06,   4.68000000e-06,   4.68000000e-06,\n",
       "         4.84666667e-06,   5.01333333e-06,   5.18000000e-06,\n",
       "         5.34666667e-06,   5.51333333e-06,   5.68000000e-06,\n",
       "         5.84666667e-06,   6.01333333e-06,   6.18000000e-06,\n",
       "         6.34666667e-06,   6.51333333e-06,   6.68000000e-06,\n",
       "         6.84666667e-06,   7.01333333e-06,   7.18000000e-06,\n",
       "         7.34666667e-06,   7.51333333e-06,   7.68000000e-06,\n",
       "         7.84666667e-06,   8.01333333e-06,   8.18000000e-06,\n",
       "         8.34666667e-06,   8.51333333e-06,   8.68000000e-06,\n",
       "         8.84666667e-06,   9.01333333e-06,   9.18000000e-06,\n",
       "         9.34666667e-06,   9.51333333e-06,   9.68000000e-06])"
      ]
     },
     "execution_count": 594,
     "metadata": {},
     "output_type": "execute_result"
    }
   ],
   "source": [
    "time = np.asarray(data[1]['z'][1][0])-N*2*pi2_gauss\n",
    "measurement_fitted5, fitted_parameters5 = fitting_CPMG.fit_CPMG_new(N, pi2_gauss, gamma1, gammap, tayp, time, data[1]['z'][2], gaussian_CPMG)\n",
    "time"
   ]
  },
  {
   "cell_type": "code",
   "execution_count": 573,
   "metadata": {
    "collapsed": true
   },
   "outputs": [],
   "source": [
    "fitted_parameters0, measurement_fitted0 = fitting_CPMG.gaussian_CPMG_exp(time, data[1]['z'][2])"
   ]
  },
  {
   "cell_type": "code",
   "execution_count": 596,
   "metadata": {
    "collapsed": true
   },
   "outputs": [],
   "source": [
    "time5 = time"
   ]
  },
  {
   "cell_type": "code",
   "execution_count": 575,
   "metadata": {
    "scrolled": true
   },
   "outputs": [
    {
     "data": {
      "text/plain": [
       "(array([  1.38142807e+06,   3.61027182e-01,  -3.01382164e-02]),\n",
       " array([ 0.33088897,  0.32929654,  0.32771114,  0.32613274,  0.32456129,\n",
       "         0.32299678,  0.32143917,  0.31988842,  0.31834452,  0.31680743,\n",
       "         0.31527712,  0.31527712,  0.29279462,  0.27177548,  0.25212444,\n",
       "         0.23375244,  0.21657625,  0.20051803,  0.18550501,  0.17146917,\n",
       "         0.15834689,  0.14607871,  0.13460906,  0.12388594,  0.11386077,\n",
       "         0.10448812,  0.09572553,  0.08753327,  0.07987424,  0.07271372,\n",
       "         0.06601926,  0.05976053,  0.05390918,  0.04843868,  0.04332424,\n",
       "         0.0385427 ,  0.03407237,  0.02989302,  0.02598569,  0.02233268,\n",
       "         0.01891744,  0.01572449,  0.01273937,  0.00994854,  0.00733936,\n",
       "         0.00490001,  0.00261943,  0.00048729, -0.00150607, -0.00336969,\n",
       "        -0.00511201, -0.00674092, -0.00826381, -0.00968758, -0.01101867,\n",
       "        -0.01226313, -0.01342659, -0.01451432, -0.01553125, -0.016482  ,\n",
       "        -0.01737086, -0.01820186, -0.01820186, -0.01949982, -0.02065664,\n",
       "        -0.02168766, -0.02260658, -0.02342557, -0.0241555 , -0.02480606,\n",
       "        -0.02538588, -0.02590265, -0.02636322, -0.02677372, -0.02713957,\n",
       "        -0.02746564, -0.02775626, -0.02801527, -0.02824612, -0.02845187,\n",
       "        -0.02863524, -0.02879867, -0.02894434, -0.02907416, -0.02918986,\n",
       "        -0.02929299, -0.0293849 , -0.02946681, -0.02953982, -0.02960489,\n",
       "        -0.02966289, -0.02971457, -0.02976064]))"
      ]
     },
     "execution_count": 575,
     "metadata": {},
     "output_type": "execute_result"
    }
   ],
   "source": [
    "fitted_parameters0,measurement_fitted0"
   ]
  },
  {
   "cell_type": "code",
   "execution_count": 597,
   "metadata": {},
   "outputs": [
    {
     "name": "stdout",
     "output_type": "stream",
     "text": [
      "[  4.96295516e+05   2.85688543e-01  -6.04324674e-03]\n"
     ]
    }
   ],
   "source": [
    "plt.plot(time5, measurement_fitted5)\n",
    "plt.plot(time5, data[1]['z'][2], marker = 'o', markersize = 1, linestyle = '')\n",
    "#plt.legend('N = 10')\n",
    "print(fitted_parameters5)"
   ]
  },
  {
   "cell_type": "code",
   "execution_count": 581,
   "metadata": {},
   "outputs": [
    {
     "name": "stdout",
     "output_type": "stream",
     "text": [
      "[  4.05634810e+05   2.71951386e-01  -1.27497213e-02]\n"
     ]
    }
   ],
   "source": [
    "print(fitted_parameters10)"
   ]
  },
  {
   "cell_type": "code",
   "execution_count": null,
   "metadata": {
    "collapsed": true
   },
   "outputs": [],
   "source": [
    "clifford_location='D:\\\\qtlab\\\\ReiData\\\\data\\\\2017-11-02\\\\21-07-16'\n",
    "name='distance None'\n",
    "clifford_bench = {}\n",
    "clifford_bench = save_pkl.load_pkl(name, clifford_location)[1]\n",
    "#clifford_bench['distance']\n",
    "clifford_bench['Pulse sequence']"
   ]
  },
  {
   "cell_type": "code",
   "execution_count": null,
   "metadata": {
    "collapsed": true
   },
   "outputs": [],
   "source": [
    "print([clifford_bench['Pulse sequence'][2][1][i][::2] for i in range(len(clifford_bench['Pulse sequence'][2][1]))])\n",
    "print([clifford_bench['Pulse sequence'][2][1][i][::2] for i in range(len(clifford_bench['Pulse sequence'][2][1]))])"
   ]
  },
  {
   "cell_type": "code",
   "execution_count": null,
   "metadata": {
    "collapsed": true
   },
   "outputs": [],
   "source": [
    "clifford_bench['distance'][2][1,:]"
   ]
  },
  {
   "cell_type": "code",
   "execution_count": null,
   "metadata": {
    "collapsed": true
   },
   "outputs": [],
   "source": [
    "not_location='D:\\\\qtlab\\\\ReiData\\\\data\\\\2017-11-02\\\\22-14-16'\n",
    "name='distance None'\n",
    "not_bench = {}\n",
    "not_bench = save_pkl.load_pkl(name, not_location)[1]\n",
    "#clifford_bench['distance']\n",
    "pass"
   ]
  },
  {
   "cell_type": "code",
   "execution_count": null,
   "metadata": {
    "collapsed": true
   },
   "outputs": [],
   "source": [
    "hadamard_location='D:\\\\qtlab\\\\ReiData\\\\data\\\\2017-11-02\\\\21-40-30'\n",
    "name='distance None'\n",
    "hadamard_bench = {}\n",
    "hadamard_bench = save_pkl.load_pkl(name, hadamard_location)[1]\n",
    "#clifford_bench['distance']\n",
    "pass"
   ]
  },
  {
   "cell_type": "markdown",
   "metadata": {},
   "source": [
    "## interleaved benchmarking of H gate and NOT"
   ]
  },
  {
   "cell_type": "code",
   "execution_count": null,
   "metadata": {
    "collapsed": true
   },
   "outputs": [],
   "source": [
    "import interleaved_benchmarking\n",
    "imp.reload(interleaved_benchmarking)\n",
    "\n",
    "bench = interleaved_benchmarking.interleaved_benchmarking(tomoz)\n",
    "\n",
    "bench.interleavers = clifford_group\n",
    "bench.random_sequence_num = 10\n",
    "bench.target_gate = clifford_group['Y/2 X/2 X/2']['pulses'] # NOT\n",
    "bench.target_gate_name = 'Hadamard'\n",
    "bench.target_gate_unitary = clifford_group['Y/2 X/2 X/2']['unitary']\n"
   ]
  },
  {
   "cell_type": "code",
   "execution_count": null,
   "metadata": {
    "collapsed": true,
    "scrolled": true
   },
   "outputs": [],
   "source": [
    "seq_lengths = np.arange(0, 51, 5)\n",
    "random_sequence_ids = np.arange(bench.random_sequence_num)\n",
    "bench.prepare_random_interleaving_sequences()\n",
    "hadamard_bench = sweep.sweep(bench,\n",
    "                             (seq_lengths, bench.set_sequence_length_and_regenerate, 'Gate number', ''), \n",
    "                             (random_sequence_ids, bench.set_interleaved_sequence, 'Random sequence id', ''))"
   ]
  },
  {
   "cell_type": "code",
   "execution_count": null,
   "metadata": {
    "collapsed": true
   },
   "outputs": [],
   "source": [
    "imp.reload(fitting)\n",
    "plt.plot(clifford_bench['distance'][1][0], 1-clifford_bench['distance'][2], marker='o', color='black', linestyle='')\n",
    "#plt.plot(clifford_bench['distance'][1][0], np.mean(1-clifford_bench['distance'][2], axis=1), label='Cliffords (average)')\n",
    "plt.plot(hadamard_bench['distance'][1][0], 1-hadamard_bench['distance'][2], marker='o', color='blue', linestyle='')\n",
    "#plt.plot(hadamard_bench['distance'][1][0], np.mean(1-hadamard_bench['distance'][2], axis=1), label='Hadamard interleaved (average)')\n",
    "clifford_fitresults, clifford_expfit = fitting.exp_fit1d(clifford_bench['distance'][1][0], \n",
    "                                                        np.reshape(np.mean(1-clifford_bench['distance'][2], axis=1), \n",
    "                                                                   (1, len(clifford_bench['distance'][1][0]))))\n",
    "hadamard_fitresults, hadamard_expfit = fitting.exp_fit1d(hadamard_bench['distance'][1][0], \n",
    "                                                        np.reshape(np.mean(1-hadamard_bench['distance'][2], axis=1), \n",
    "                                                                   (1, len(hadamard_bench['distance'][1][0]))))\n",
    "plt.plot(clifford_bench['distance'][1][0],clifford_expfit[0], label='Cliffords (fit)')\n",
    "plt.plot(hadamard_bench['distance'][1][0],hadamard_expfit[0], label='Hadamard (fit)')#, linestyle='-', marker='')\n",
    "print('''Clifford fidelity: {0:6.3f}\n",
    "Hadamard+Clifford fidelity: {1:6.3f}\n",
    "Hadamard error rate: {2:6.3f}'''.format(np.exp(-1/clifford_fitresults[0]), \n",
    "                                        np.exp(-1/hadamard_fitresults[0]),\n",
    "                                       1-np.exp(-1/hadamard_fitresults[0])/np.exp(-1/clifford_fitresults[0])))\n",
    "plt.xlabel(clifford_bench['distance'][0][0])\n",
    "plt.ylabel('Fidelity')\n",
    "plt.legend()\n",
    "plt.grid()"
   ]
  },
  {
   "cell_type": "code",
   "execution_count": null,
   "metadata": {
    "collapsed": true
   },
   "outputs": [],
   "source": [
    "import interleaved_benchmarking\n",
    "imp.reload(interleaved_benchmarking)\n",
    "\n",
    "bench = interleaved_benchmarking.interleaved_benchmarking(tomoz)\n",
    "\n",
    "bench.interleavers = clifford_group\n",
    "bench.random_sequence_num = 10\n",
    "bench.target_gate = clifford_group['X/2 X/2']['pulses'] # NOT\n",
    "bench.target_gate_name = 'NOT'\n",
    "bench.target_gate_unitary = clifford_group['X/2 X/2']['unitary']\n"
   ]
  },
  {
   "cell_type": "code",
   "execution_count": null,
   "metadata": {
    "collapsed": true,
    "scrolled": true
   },
   "outputs": [],
   "source": [
    "seq_lengths = np.arange(0, 51, 5)\n",
    "random_sequence_ids = np.arange(bench.random_sequence_num)\n",
    "bench.prepare_random_interleaving_sequences()\n",
    "not_bench = sweep.sweep(bench,\n",
    "                             (seq_lengths, bench.set_sequence_length_and_regenerate, 'Gate number', ''), \n",
    "                             (random_sequence_ids, bench.set_interleaved_sequence, 'Random sequence id', ''))"
   ]
  },
  {
   "cell_type": "code",
   "execution_count": null,
   "metadata": {
    "collapsed": true
   },
   "outputs": [],
   "source": [
    "imp.reload(fitting)\n",
    "plt.plot(clifford_bench['distance'][1][0], 1-clifford_bench['distance'][2], marker='o', color='black', linestyle='')\n",
    "#plt.plot(clifford_bench['distance'][1][0], np.mean(1-clifford_bench['distance'][2], axis=1), label='Cliffords (mean)')\n",
    "plt.plot(hadamard_bench['distance'][1][0], 1-hadamard_bench['distance'][2], marker='o', color='blue', linestyle='')\n",
    "#plt.plot(hadamard_bench['distance'][1][0], np.mean(1-hadamard_bench['distance'][2], axis=1), label='H interleaved (mean)')\n",
    "plt.plot(not_bench['distance'][1][0], 1-not_bench['distance'][2], marker='o', color='red', linestyle='')\n",
    "#plt.plot(not_bench['distance'][1][0], np.mean(1-not_bench['distance'][2], axis=1), label='NOT interleaved (mean)')\n",
    "clifford_fitresults, clifford_expfit = fitting.exp_fit1d(clifford_bench['distance'][1][0], \n",
    "                                                        np.reshape(np.mean(1-clifford_bench['distance'][2], axis=1), \n",
    "                                                                   (1, len(clifford_bench['distance'][1][0]))))\n",
    "hadamard_fitresults, hadamard_expfit = fitting.exp_fit1d(hadamard_bench['distance'][1][0], \n",
    "                                                        np.reshape(np.mean(1-hadamard_bench['distance'][2], axis=1), \n",
    "                                                                   (1, len(hadamard_bench['distance'][1][0]))))\n",
    "not_fitresults, not_expfit = fitting.exp_fit1d(not_bench['distance'][1][0], \n",
    "                                                        np.reshape(np.mean(1-not_bench['distance'][2], axis=1), \n",
    "                                                                   (1, len(not_bench['distance'][1][0]))))\n",
    "plt.plot(clifford_bench['distance'][1][0],clifford_expfit[0], label='Cliffords (fit)')\n",
    "plt.plot(hadamard_bench['distance'][1][0],hadamard_expfit[0], label='Hadamard (fit)')#, linestyle='-', marker='')\n",
    "plt.plot(not_bench['distance'][1][0],not_expfit[0], label='NOT (fit)')\n",
    "print('''Clifford fidelity: {0:6.3f}\n",
    "Hadamard+Clifford fidelity: {1:6.3f}\n",
    "NOT+Clifford fidelity: {3:6.3f}\n",
    "Hadamard error rate: {2:6.3f}\n",
    "NOT error rate: {4:6.3f}'''.format(np.exp(-1/clifford_fitresults[0]), \n",
    "                                        np.exp(-1/hadamard_fitresults[0]),\n",
    "                                       1-np.exp(-1/hadamard_fitresults[0])/np.exp(-1/clifford_fitresults[0]), \n",
    "                                        np.exp(-1/not_fitresults[0]),\n",
    "                                       1-np.exp(-1/not_fitresults[0])/np.exp(-1/clifford_fitresults[0])))\n",
    "plt.xlabel(clifford_bench['distance'][0][0])\n",
    "plt.ylabel('Fidelity')\n",
    "plt.legend()\n",
    "plt.grid()"
   ]
  },
  {
   "cell_type": "code",
   "execution_count": null,
   "metadata": {
    "collapsed": true
   },
   "outputs": [],
   "source": [
    "bench.target_gate = bench.interleavers['X']['pulses']\n",
    "bench.target_gate_unitary = bench.interleavers['X']['unitary']\n",
    "bench.target_gate_name = 'X (benchmarking)'\n",
    "tfunc = lambda : np.mean(bench.measure()['Euclidean distance'])\n",
    "class hd_pulse_generator:\n",
    "    def __init__(self, pulse_setter, pg, channel):\n",
    "        self.amp_x = -amp_x_hd\n",
    "        self.amp_y = amp_x_hd\n",
    "        self.sigma = sigma_hd\n",
    "        self.length = length_hd\n",
    "        self.pause_length = pause_length_hd\n",
    "        self.alpha = alpha_hd\n",
    "        \n",
    "        self.pg = pg\n",
    "        self.channel = channel\n",
    "        self.pulse = self.pulse_gen()\n",
    "        self.pulse_setter = pulse_setter\n",
    "    def set_real_amplitude(self,x):\n",
    "        self.amp_x = x\n",
    "        self.pulse_setter(self.pulse_gen())\n",
    "    def set_imag_amplitude(self,y):\n",
    "        self.amp_y = y\n",
    "        self.pulse_setter(self.pulse_gen())\n",
    "    def set_sigma(self,s):\n",
    "        self.sigma = s\n",
    "        self.pulse_setter(self.pulse_gen())\n",
    "    def set_length(self,l):\n",
    "        self.length = l\n",
    "        self.pulse_setter(self.pulse_gen())\n",
    "    def set_pause_length(self, p):\n",
    "        self.pause_length = p\n",
    "        self.pulse_setter(self.pulse_gen())\n",
    "    def set_alpha(self, a):\n",
    "        self.alpha = a\n",
    "        self.pulse_setter(self.pulse_gen())\n",
    "    def pulse_gen(self):\n",
    "        return [pg.p(self.channel, self.length, self.pg.gauss_hd, self.amp_x+1j*self.amp_y, 0, self.sigma, self.alpha), pg.p(None, self.pause_length)]\n",
    "    \n",
    "xg = hd_pulse_generator(bench.set_target_pulse, pg, 'iq_ex')"
   ]
  },
  {
   "cell_type": "code",
   "execution_count": null,
   "metadata": {
    "collapsed": true
   },
   "outputs": [],
   "source": [
    "sol, score = sweep.optimize(tfunc,  (xg.set_real_amplitude, xg.amp_x), \n",
    "                                    (xg.set_imag_amplitude, xg.amp_y),\n",
    "                                    (xg.set_alpha, xg.alpha))"
   ]
  },
  {
   "cell_type": "code",
   "execution_count": null,
   "metadata": {
    "collapsed": true
   },
   "outputs": [],
   "source": [
    "amps = np.linspace(0.925, 0.975, 21)\n",
    "alphas = np.linspace(-2e-9, 2e-9, 11)\n",
    "sweep.sweep(bench, (amps, xg.set_real_amplitude, 'Amplitude'), (alphas, xg.set_alpha, 'HD DRAG coeff'), filename='Randomized interleaved benchmarging X-rotation')"
   ]
  },
  {
   "cell_type": "code",
   "execution_count": null,
   "metadata": {
    "collapsed": true
   },
   "outputs": [],
   "source": [
    "data = save_pkl.load_pkl('Euclidean distance Randomized interleaved benchmarging X-rotation', 'D:\\\\qtlab\\\\ReiData\\\\data\\\\2017-07-02\\\\23-03-34')\n",
    "plt.figure()\n",
    "plt.pcolormesh(data[1]['Euclidean distance'][1][1], data[1]['Euclidean distance'][1][0], data[1]['Euclidean distance'][2][:,:,5])\n",
    "plt.colorbar()"
   ]
  },
  {
   "cell_type": "code",
   "execution_count": null,
   "metadata": {
    "collapsed": true
   },
   "outputs": [],
   "source": [
    "data[1]"
   ]
  },
  {
   "cell_type": "code",
   "execution_count": null,
   "metadata": {
    "collapsed": true
   },
   "outputs": [],
   "source": [
    "data[1]['Euclidean distance']"
   ]
  },
  {
   "cell_type": "code",
   "execution_count": null,
   "metadata": {
    "collapsed": true
   },
   "outputs": [],
   "source": [
    "meas = bench.measure()"
   ]
  },
  {
   "cell_type": "code",
   "execution_count": null,
   "metadata": {
    "collapsed": true
   },
   "outputs": [],
   "source": [
    "meas['Xo']"
   ]
  },
  {
   "cell_type": "code",
   "execution_count": null,
   "metadata": {
    "collapsed": true
   },
   "outputs": [],
   "source": [
    "import plotting\n",
    "imp.reload(plotting)\n",
    "plotting.plot_measurement(bench.reference_benchmark_result)"
   ]
  },
  {
   "cell_type": "markdown",
   "metadata": {},
   "source": [
    "# Optimizing Drag"
   ]
  },
  {
   "cell_type": "code",
   "execution_count": null,
   "metadata": {
    "collapsed": true
   },
   "outputs": [],
   "source": [
    "num_interleved_pulses = 2\n",
    "alphas = np.linspace(-1e-8, 1e-8, 201)\n",
    "def set_drag (alpha):\n",
    "    ramsey_half = [pg.p('iq_ex', length_hd, pg.gauss_hd, amp_x_hd, 0, sigma_hd, alpha), \n",
    "                 pg.p(None, pause_length_hd)]\n",
    "    interleaved_identity = [pg.p('iq_ex', length_hd, pg.gauss_hd, -amp_x_hd, 0, sigma_hd, alpha), \n",
    "                           pg.p(None, pause_length_hd),\n",
    "                           pg.p('iq_ex', length_hd, pg.gauss_hd, amp_x_hd, 0, sigma_hd, alpha), \n",
    "                           pg.p(None, pause_length_hd)]\n",
    "    tomo.set_prepare_seq(ramsey_half+interleaved_identity*num_interleved_pulses+ramsey_half)\n",
    "    \n",
    "measurement = sweep.sweep(tomo, (alphas, set_drag, 'delta_freq'), filename='DRAG', output=False)"
   ]
  },
  {
   "cell_type": "markdown",
   "metadata": {},
   "source": [
    "### Randomized Benchmarking"
   ]
  },
  {
   "cell_type": "code",
   "execution_count": null,
   "metadata": {
    "collapsed": true
   },
   "outputs": [],
   "source": [
    "pause_pulse = tomography.pause(pause_length, awg_channels)\n",
    "pulses = {0:tomography.ex_gauss_hd(amp_x_hd, amp_y_hd, length_hd, sigma_hd, awg_channels, -200e6/np.pi),\n",
    "          1:tomography.ex_gauss_hd(amp_y_hd, -amp_x_hd, length_hd, sigma_hd, awg_channels, -200e6/np.pi),\n",
    "          2:tomography.ex_gauss_hd(-amp_x_hd, -amp_y_hd, length_hd, sigma_hd, awg_channels, -200e6/np.pi),\n",
    "          3:tomography.ex_gauss_hd(-amp_y_hd, amp_x_hd, length_hd, sigma_hd, awg_channels, -200e6/np.pi)}\n",
    "\n",
    "unitaries = {0:np.sqrt(0.5)*np.asarray([[1, -1j],  [-1j, 1]]),\\\n",
    "             1:np.sqrt(0.5)*np.asarray([[1, -1],    [1, 1]]),\\\n",
    "             2:np.sqrt(0.5)*np.asarray([[1, 1j],   [1j, 1]]),\\\n",
    "             3:np.sqrt(0.5)*np.asarray([[1, 1],   [-1, 1]])}\n",
    "\n",
    "observables = { 'X': 0.5*np.asarray([[0, 1],   [1, 0]]),\n",
    "                'Y': 0.5*np.asarray([[0, -1j],   [1j, 0]]),\n",
    "                '-X': 0.5*np.asarray([[0, -1],   [-1, 0]]),\n",
    "                '-Y': 0.5*np.asarray([[0, 1j],   [-1j, 0]]),\n",
    "                'Z': 0.5*np.asarray([[1, 0],   [0, -1]])}\n",
    "\n",
    "initial = np.asarray([0, 1]).T\n",
    "random_pulse_ids = np.arange(20)\n",
    "num_gates = np.linspace(0, 100, 11)\n",
    "\n",
    "sequences = []\n",
    "pulse_sequences = []\n",
    "theor_projs = {o:np.zeros((len(num_gates), len(random_pulse_ids))) for o in observables.keys()}\n",
    "rho_t = np.zeros((len(num_gates), len(random_pulse_ids),2,2), dtype=np.complex)\n",
    "psis = np.zeros((len(num_gates), len(random_pulse_ids),2), dtype=np.complex)\n",
    "n=0\n",
    "\n",
    "def set_num_gates(n_new):\n",
    "    global n\n",
    "    n = n_new\n",
    "\n",
    "def set_random_sequence(id):\n",
    "    sequence = np.random.randint (4, size = n).tolist()\n",
    "    sequence_pulses = [j for i in [[pulses[i], pause_pulse] for i in sequence] for j in i]\n",
    "    sequence_unitaries = [unitaries[i] for i in sequence]\n",
    "    psi = initial.copy()\n",
    "    \n",
    "    for U in sequence_unitaries:\n",
    "        psi = np.dot(U, psi)\n",
    "    \n",
    "    rho_t[n,id,:,:] = np.einsum('i,j->ij', np.conj(psi), psi)\n",
    "    psis[n,id,:] = psi\n",
    "    \n",
    "    sequences.append(sequence)\n",
    "    for o in observables.keys():\n",
    "        theor_projs[o][n,id] = np.dot(np.dot(np.conj(psi), observables[o]), psi)\n",
    "    \n",
    "    tomo_hd.set_prepare_seq(sequence_pulses)\n",
    "    pulse_sequences.append(sequence_pulses)\n",
    "    \n",
    "m = sweep.sweep(tomo_hd, (num_gates, set_num_gates, 'gate num'), (random_pulse_ids, set_random_sequence, 'random seq id'), filename='RB', output=False)\n",
    "X = (m['X'][2]-m['-X'][2])/2.\n",
    "Y = (m['Y'][2]-m['-Y'][2])/2.\n",
    "Z = m['Z'][2]\n",
    "rho_m = np.transpose([[0.5+Z, X+1j*Y], [X-1j*Y, 0.5-Z]], [2,3,0,1])\n",
    "fidelities = np.sqrt(np.einsum('nmi,nmji,nmj->nm', np.conj(psis), rho_m, psis))\n",
    "\n",
    "m['Fidelity'] = [d for d in m['X']]\n",
    "m['Fidelity'][2] = np.asarray(fidelities, dtype=np.float)\n",
    "for o,O in observables.items():\n",
    "    m[o+' fit'] = [d for d in m[o]]\n",
    "    m[o+' fit'][2] = np.asarray(theor_projs[o], dtype=np.float)\n",
    "#m['rho_t'] = m['X'].copy()\n",
    "save_pkl.save_pkl({'type':'Randomized benchmark Clifford'}, m)"
   ]
  },
  {
   "cell_type": "code",
   "execution_count": null,
   "metadata": {
    "collapsed": true
   },
   "outputs": [],
   "source": [
    "plt.plot(m['Fidelity'][1]m['Fidelity'])"
   ]
  },
  {
   "cell_type": "code",
   "execution_count": null,
   "metadata": {
    "collapsed": true
   },
   "outputs": [],
   "source": [
    "rho_m"
   ]
  },
  {
   "cell_type": "code",
   "execution_count": null,
   "metadata": {
    "collapsed": true
   },
   "outputs": [],
   "source": [
    "plt.plot(m['Fidelity'][1][0], np.mean(m['Fidelity'][2],axis=1))\n",
    "plt.xlabel('gate num')\n",
    "plt.ylabel('fidelity')\n",
    "plt.grid()"
   ]
  },
  {
   "cell_type": "code",
   "execution_count": null,
   "metadata": {
    "collapsed": true,
    "scrolled": true
   },
   "outputs": [],
   "source": [
    "rho_m = np.transpose([[0.5+Z, X+1j*Y], [X-1j*Y, 0.5-Z]], [2,3,0,1])\n",
    "fidelities = np.sqrt(np.einsum('mni,mnji,mnj->mn', np.conj(psis), rho_m, psis))\n",
    "\n",
    "m['Fidelity'] = [d for d in m['X']]\n",
    "m['Fidelity'][2] = np.asarray(fidelities, dtype=np.float)\n",
    "for o,O in observables.items():\n",
    "    m[o+' fit'] = [d for d in m[o]]\n",
    "    m[o+' fit'][2] = np.asarray(theor_projs[o], dtype=np.float)\n",
    "#m['rho_t'] = m['X'].copy()\n",
    "save_pkl.save_pkl({'type':'Randomized benchmark Clifford'}, m)"
   ]
  },
  {
   "cell_type": "code",
   "execution_count": null,
   "metadata": {
    "collapsed": true
   },
   "outputs": [],
   "source": [
    "m"
   ]
  },
  {
   "cell_type": "code",
   "execution_count": null,
   "metadata": {
    "collapsed": true
   },
   "outputs": [],
   "source": []
  },
  {
   "cell_type": "code",
   "execution_count": null,
   "metadata": {
    "collapsed": true
   },
   "outputs": [],
   "source": [
    "fidelities"
   ]
  },
  {
   "cell_type": "code",
   "execution_count": null,
   "metadata": {
    "collapsed": true
   },
   "outputs": [],
   "source": [
    "psis"
   ]
  },
  {
   "cell_type": "code",
   "execution_count": null,
   "metadata": {
    "collapsed": true
   },
   "outputs": [],
   "source": [
    "rho_m"
   ]
  },
  {
   "cell_type": "code",
   "execution_count": null,
   "metadata": {
    "collapsed": true
   },
   "outputs": [],
   "source": [
    "rho_t"
   ]
  },
  {
   "cell_type": "code",
   "execution_count": null,
   "metadata": {
    "collapsed": true
   },
   "outputs": [],
   "source": [
    "measurement['theory'] = thoer_proj\n",
    "save_pkl.save_pkl({'type':'Randomized benchmark Clifford'}, measurement)"
   ]
  },
  {
   "cell_type": "code",
   "execution_count": null,
   "metadata": {
    "collapsed": true
   },
   "outputs": [],
   "source": [
    "print(theor_projs)\n",
    "print(measurement)\n",
    "print(psis)\n",
    "print (sequences)\n",
    "print (rho_t)\n",
    "print (rho_m)"
   ]
  },
  {
   "cell_type": "code",
   "execution_count": null,
   "metadata": {
    "collapsed": true
   },
   "outputs": [],
   "source": [
    "np.dot(np.conj(psis[1]), np.dot(observables['Y'],psis[1]))"
   ]
  },
  {
   "cell_type": "code",
   "execution_count": null,
   "metadata": {
    "collapsed": true
   },
   "outputs": [],
   "source": [
    "num_pulses = np.round(np.arange(0, 41)).astype(np.int)\n",
    "\n",
    "def set_num_pulses(n):\n",
    "    tomoz.set_prepare_seq([tomography.ex_gauss(amp_x, length, sigma, awg_channels), \n",
    "                          tomography.pause(pause_length, awg_channels)]*n)\n",
    "\n",
    "measurement = sweep.sweep(tomoz, (num_pulses, set_num_pulses, 'SX pi2 pulse num'), filename='Rabi', output=False)"
   ]
  },
  {
   "cell_type": "code",
   "execution_count": null,
   "metadata": {
    "collapsed": true
   },
   "outputs": [],
   "source": [
    "num_pulses = np.round(np.arange(0, 21)).astype(np.int)\n",
    "\n",
    "def set_num_pulses(n):\n",
    "    tomo.set_prepare_seq([tomography.ex_gauss_hd(amp_x_hd, amp_y_hd, length_hd, sigma_hd, awg_channels, -200e6/np.pi), \n",
    "                          tomography.pause(pause_length, awg_channels)]*n)\n",
    "\n",
    "measurement = sweep.sweep(tomo, (num_pulses, set_num_pulses, 'SX pi2 pulse num'), filename='Rabi', output=False)"
   ]
  },
  {
   "cell_type": "code",
   "execution_count": null,
   "metadata": {
    "collapsed": true
   },
   "outputs": [],
   "source": [
    "num_pulses = np.round(np.arange(0, 21)).astype(np.int)\n",
    "\n",
    "def set_num_pulses(n):\n",
    "    tomo.set_prepare_seq([tomography.ex_gauss(amp_x_hd, length_hd, sigma_hd, awg_channels), \n",
    "                          tomography.pause(pause_length, awg_channels)]*n)\n",
    "\n",
    "measurement = sweep.sweep(tomo, (num_pulses, set_num_pulses, 'SX pi2 pulse num'), filename='Rabi', output=False)"
   ]
  },
  {
   "cell_type": "code",
   "execution_count": null,
   "metadata": {
    "collapsed": true
   },
   "outputs": [],
   "source": [
    "ex_amplitude=0.25\n",
    "lengths = np.linspace(0e-9, 200e-9, 51)\n",
    "readout_begin = np.max(lengths)\n",
    "\n",
    "def set_ex_length(length):\n",
    "    tomo.set_prepare_seq([tomography.ex_rect(ex_amplitude, length, awg_channels), tomography.pause(pause_length, awg_channels)])\n",
    "\n",
    "measurement = sweep.sweep(tomo, (lengths, set_ex_length, 'Rabi x-axis pulse length'), filename='Rabi', output=False)"
   ]
  },
  {
   "cell_type": "code",
   "execution_count": null,
   "metadata": {
    "collapsed": true
   },
   "outputs": [],
   "source": [
    "from mpl_toolkits.mplot3d import Axes3D\n",
    "fig = plt.figure()\n",
    "ax = fig.add_subplot(111, projection='3d')\n",
    "ax.plot(measurement ['X'][2], measurement ['Y'][2], measurement ['Z'][2], c='r', marker='o')\n",
    "ax.set_xlabel('X')\n",
    "ax.set_ylabel('Y')\n",
    "ax.set_zlabel('Z')\n",
    "ax.set_xlim([-0.6, 0.6])\n",
    "ax.set_ylim([-0.6, 0.6])\n",
    "ax.set_zlim([-0.6, 0.6])"
   ]
  },
  {
   "cell_type": "code",
   "execution_count": null,
   "metadata": {
    "collapsed": true
   },
   "outputs": [],
   "source": [
    "ex_amplitude = 0.25\n",
    "pause_length = 16e-9\n",
    "lengths = np.linspace(0e-9, 2000e-9, 2001)\n",
    "readout_begin = np.max(lengths)\n",
    "\n",
    "def set_ex_length(length):\n",
    "    tomo.set_prepare_seq([tomography.ex_rect(1j*ex_amplitude, length, awg_channels), tomography.pause(pause_length, awg_channels)])\n",
    "\n",
    "measurement = sweep.sweep(tomo, (lengths, set_ex_length, 'Rabi y-axis pulse length'), filename='Rabi', output=False)"
   ]
  },
  {
   "cell_type": "markdown",
   "metadata": {},
   "source": [
    "### Optimizing phase between x and y pulses"
   ]
  },
  {
   "cell_type": "code",
   "execution_count": null,
   "metadata": {
    "collapsed": true
   },
   "outputs": [],
   "source": [
    "c_phase = 0\n",
    "c_n = 0\n",
    "\n",
    "adc.set_software_averages(1)\n",
    "adc.set_software_nums_multi(3)\n",
    "\n",
    "def set_n(n):\n",
    "    global c_n\n",
    "    global c_phase\n",
    "    c_n = n \n",
    "    y_pulse = [tomography.ex_gauss_hd(amp_x_hd*np.exp(1j*c_phase), amp_y_hd*np.exp(1j*c_phase), length_hd, sigma_hd, awg_channels, -200e6), tomography.pause(pause_length, awg_channels)]\n",
    "    tomo.set_prepare_seq(y_pulse*c_n)\n",
    "\n",
    "def set_y_phase(phase):\n",
    "    global c_n\n",
    "    global c_phase\n",
    "    c_phase = phase\n",
    "    y_pulse = [tomography.ex_gauss_hd(amp_x_hd*np.exp(1j*c_phase), amp_y_hd*np.exp(1j*c_phase), length_hd, sigma_hd, awg_channels, -200e6), tomography.pause(pause_length, awg_channels)]\n",
    "    tomo.set_prepare_seq(y_pulse*c_n)\n",
    "\n",
    "phases = np.linspace(np.pi/2.*0.8, np.pi/2.*1.2, 11, endpoint=False)\n",
    "num_pulses = np.arange(0,5)\n",
    "measurement = sweep.sweep(tomo, (phases, set_y_phase, 'y-pulse phase'), (num_pulses, set_n, 'y pulse num'), filename='y-phase', output=False)"
   ]
  },
  {
   "cell_type": "code",
   "execution_count": null,
   "metadata": {
    "collapsed": true
   },
   "outputs": [],
   "source": [
    "phases[7]"
   ]
  },
  {
   "cell_type": "code",
   "execution_count": null,
   "metadata": {
    "collapsed": true
   },
   "outputs": [],
   "source": [
    "plt.plot(np.asarray(results).T)"
   ]
  },
  {
   "cell_type": "code",
   "execution_count": null,
   "metadata": {
    "collapsed": true
   },
   "outputs": [],
   "source": [
    "adc.stop()"
   ]
  },
  {
   "cell_type": "code",
   "execution_count": null,
   "metadata": {
    "collapsed": true
   },
   "outputs": [],
   "source": [
    "plt.close()"
   ]
  },
  {
   "cell_type": "markdown",
   "metadata": {
    "collapsed": true
   },
   "source": [
    "# load calibration data"
   ]
  },
  {
   "cell_type": "code",
   "execution_count": null,
   "metadata": {
    "collapsed": true
   },
   "outputs": [],
   "source": [
    "import pickle\n",
    "f0 = open('D:\\\\qtlab\\\\ReiData\\\\data\\\\2017-04-26\\\\13-11-46\\\\Voltage ro calibration.pkl', 'rb')\n",
    "f1 = open('D:\\\\qtlab\\\\ReiData\\\\data\\\\2017-04-26\\\\13-11-14\\\\Voltage ro calibration.pkl', 'rb')\n",
    "cal0 = pickle.load(f0)\n",
    "cal1 = pickle.load(f1)"
   ]
  },
  {
   "cell_type": "code",
   "execution_count": null,
   "metadata": {
    "collapsed": true
   },
   "outputs": [],
   "source": [
    "import numpy as np\n",
    "import matplotlib.pyplot as plt\n",
    "%matplotlib qt4\n",
    "cal0_nomean = cal0[1]['Voltage'][2][0,:,:]-np.mean(cal0[1]['Voltage'][2][0,:,:])\n",
    "cal1_nomean = cal0[1]['Voltage'][2][1,:,:]-np.mean(cal0[1]['Voltage'][2][1,:,:])\n",
    "\n",
    "cal0_mean = np.mean(cal0_nomean, axis=0)\n",
    "cal1_mean = np.mean(cal1_nomean, axis=0)"
   ]
  },
  {
   "cell_type": "code",
   "execution_count": null,
   "metadata": {
    "collapsed": true
   },
   "outputs": [],
   "source": [
    "cal_mean = (cal0_mean+cal1_mean)/2.\n",
    "cal_diff = (cal1_mean-cal0_mean)\n",
    "\n",
    "plt.figure('Samples')\n",
    "plt.plot(np.mean(cal0_nomean, axis=0), label='|0>')\n",
    "plt.plot(np.mean(cal1_nomean, axis=0), label='|1>')\n",
    "plt.legend()\n",
    "\n",
    "plt.figure('Offset & feature')\n",
    "plt.plot(cal_mean, label='mean')\n",
    "plt.plot(cal_diff, label='diff')\n",
    "plt.legend()"
   ]
  },
  {
   "cell_type": "code",
   "execution_count": null,
   "metadata": {
    "collapsed": true
   },
   "outputs": [],
   "source": [
    "plt.figure('Fourier domain')\n",
    "plt.plot(np.abs(np.fft.fft(cal0_mean)), label='|0>')\n",
    "plt.plot(np.abs(np.fft.fft(cal1_mean)), label='|1>') \n",
    "plt.plot(np.abs(np.fft.fft(cal_mean)), label='mean')\n",
    "plt.plot(np.abs(np.fft.fft(cal_diff)), label='diff')\n",
    "plt.legend()\n",
    "\n",
    "feature = np.conj(cal_diff/np.sum(np.abs(cal_diff**2)))"
   ]
  },
  {
   "cell_type": "code",
   "execution_count": null,
   "metadata": {
    "collapsed": true
   },
   "outputs": [],
   "source": [
    "coeffs0 = np.dot(cal0_nomean-cal_mean, feature)\n",
    "coeffs1 = np.dot(cal1_nomean-cal_mean, feature)\n",
    "predictions = np.asarray([np.real(coeffs0), np.real(coeffs1)])"
   ]
  },
  {
   "cell_type": "code",
   "execution_count": null,
   "metadata": {
    "collapsed": true
   },
   "outputs": [],
   "source": [
    "hist_all, bins = np.histogram(predictions, bins='auto')\n",
    "proba_points = (bins[1:]+bins[:-1])/2.\n",
    "hists = []\n",
    "for y in range(2):\n",
    "    hists.append(np.histogram(predictions[y,:], bins=bins)[0])\n",
    "\n",
    "hists = np.asarray(hists, dtype=float)\n",
    "probabilities = hists/hist_all\n",
    "naive_probabilities = np.asarray([proba_points<0, proba_points>0], dtype=float)\n",
    "probabilities[np.isnan(probabilities)] = naive_probabilities[np.isnan(probabilities)]\n",
    "predictor = lambda x: np.interp(x, proba_points, probabilities[1,:], left=0., right=1.)\n",
    "calib_proba_points = proba_points\n",
    "calib_proba = probabilities[1,:]\n",
    "calib_hists = hists"
   ]
  },
  {
   "cell_type": "code",
   "execution_count": null,
   "metadata": {
    "collapsed": true
   },
   "outputs": [],
   "source": [
    "from sklearn.metrics import roc_curve, roc_auc_score\n",
    "roc = roc_curve([0]*coeffs0.size+[1]*coeffs0.size, predictor(predictions.ravel()))\n",
    "roc_auc = roc_auc_score([0]*coeffs0.size+[1]*coeffs0.size, predictor(predictions.ravel()))"
   ]
  },
  {
   "cell_type": "code",
   "execution_count": null,
   "metadata": {
    "collapsed": true
   },
   "outputs": [],
   "source": [
    "plt.figure('ROC')\n",
    "plt.plot(roc[0], roc[1])\n",
    "plt.xlabel('True Positive Rate')\n",
    "plt.ylabel('True Negative Rate')\n",
    "roc_auc"
   ]
  },
  {
   "cell_type": "code",
   "execution_count": null,
   "metadata": {
    "collapsed": true
   },
   "outputs": [],
   "source": [
    "plt.figure('probability curve')\n",
    "plt.plot(calib_proba_points, calib_proba)"
   ]
  },
  {
   "cell_type": "code",
   "execution_count": null,
   "metadata": {
    "collapsed": true
   },
   "outputs": [],
   "source": [
    "plt.figure('Readout hists')\n",
    "plt.bar(proba_points-0.25, hists[0], width=0.05, label='|0>')\n",
    "plt.bar(proba_points+0.25, hists[1], width=0.05, label='|1>')\n",
    "plt.legend()"
   ]
  },
  {
   "cell_type": "code",
   "execution_count": null,
   "metadata": {
    "collapsed": true
   },
   "outputs": [],
   "source": [
    "plt.close()"
   ]
  },
  {
   "cell_type": "code",
   "execution_count": null,
   "metadata": {
    "collapsed": true
   },
   "outputs": [],
   "source": [
    "cal0_nomean.shape"
   ]
  },
  {
   "cell_type": "code",
   "execution_count": null,
   "metadata": {
    "collapsed": true
   },
   "outputs": [],
   "source": [
    "plt.figure(figsize=(12,3))\n",
    "plt.imshow(np.sum(np.real(np.reshape(cal0_nomean, (200, 100, 1024))), axis=0), cmap='RdBu')\n",
    "plt.figure(figsize=(12,3))\n",
    "plt.imshow(np.sum(np.real(np.reshape(cal1_nomean, (200, 100, 1024))), axis=0), cmap='RdBu')"
   ]
  },
  {
   "cell_type": "code",
   "execution_count": null,
   "metadata": {
    "collapsed": true
   },
   "outputs": [],
   "source": [
    "plt.plot(np.mean(cal0_nomean, axis=0))\n",
    "plt.plot(np.mean(cal1_nomean, axis=0))"
   ]
  },
  {
   "cell_type": "code",
   "execution_count": null,
   "metadata": {
    "collapsed": true
   },
   "outputs": [],
   "source": []
  }
 ],
 "metadata": {
  "kernelspec": {
   "display_name": "Python 3",
   "language": "python",
   "name": "python3"
  },
  "language_info": {
   "codemirror_mode": {
    "name": "ipython",
    "version": 3
   },
   "file_extension": ".py",
   "mimetype": "text/x-python",
   "name": "python",
   "nbconvert_exporter": "python",
   "pygments_lexer": "ipython3",
   "version": "3.6.5"
  },
  "toc": {
   "base_numbering": 1,
   "nav_menu": {
    "height": "599px",
    "width": "486px"
   },
   "number_sections": true,
   "sideBar": true,
   "skip_h1_title": false,
   "title_cell": "Table of Contents",
   "title_sidebar": "Contents",
   "toc_cell": false,
   "toc_position": {
    "height": "780px",
    "left": "239px",
    "top": "626.133px",
    "width": "384px"
   },
   "toc_section_display": true,
   "toc_window_display": true
  }
 },
 "nbformat": 4,
 "nbformat_minor": 1
}
