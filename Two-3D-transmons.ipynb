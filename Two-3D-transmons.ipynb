{
 "cells": [
  {
   "cell_type": "markdown",
   "metadata": {},
   "source": [
    "### Запуск QtLab"
   ]
  },
  {
   "cell_type": "markdown",
   "metadata": {},
   "source": [
    "Для начала надо добавить пути со скриптами и драйверами устройств, подключить библиотеки numpy и matplotlib."
   ]
  },
  {
   "cell_type": "code",
   "execution_count": 1,
   "metadata": {
    "scrolled": true
   },
   "outputs": [
    {
     "name": "stdout",
     "output_type": "stream",
     "text": [
      "Failed loading module Keysight_M3102A:  No module named 'keysightSD1'\n",
      "Failed loading module Keysight_M3202A:  No module named 'keysightSD1'\n",
      "\n",
      "Failed loading module Signal_Hound_SA:  name 'signal_hound_dll' is not defined\n"
     ]
    }
   ],
   "source": [
    "%matplotlib qt5\n",
    "from qsweepy import *\n",
    "from qsweepy.instruments import *\n",
    "from qsweepy.save_pkl import save_pkl\n",
    "import matplotlib.pyplot as plt\n",
    "import numpy as np\n",
    "from matplotlib import interactive\n",
    "interactive(True)"
   ]
  },
  {
   "cell_type": "code",
   "execution_count": 2,
   "metadata": {},
   "outputs": [
    {
     "data": {
      "text/plain": [
       "<module 'qsweepy.qjson' from 'D:\\\\qtlab_replacement\\\\qsweepy\\\\qjson.py'>"
      ]
     },
     "execution_count": 2,
     "metadata": {},
     "output_type": "execute_result"
    }
   ],
   "source": [
    "#import awg_digital\n",
    "#import awg_iq\n",
    "#import data_reduce\n",
    "import imp\n",
    "#import fitting\n",
    "#import plotting\n",
    "import qsweepy.save_pkl\n",
    "#import qsweepy.tomography as tomography_new\n",
    "#import qsweepy.tomography_legacy as tomography\n",
    "#import sweep\n",
    "imp.reload(awg_digital)\n",
    "imp.reload(awg_iq)\n",
    "imp.reload(awg_iq_multi)\n",
    "imp.reload(data_reduce)\n",
    "imp.reload(fitting)\n",
    "imp.reload(plotting)\n",
    "imp.reload(qsweepy.save_pkl)\n",
    "imp.reload(pulses)\n",
    "imp.reload(single_shot_readout)\n",
    "imp.reload(readout_classifier)\n",
    "imp.reload(tomography)\n",
    "imp.reload(config)\n",
    "#imp.reload(tomography_new)\n",
    "imp.reload(sweep)\n",
    "imp.reload(qjson)"
   ]
  },
  {
   "cell_type": "markdown",
   "metadata": {},
   "source": [
    "# Qubit parameters: this stuff should go to calibration folder"
   ]
  },
  {
   "cell_type": "code",
   "execution_count": 3,
   "metadata": {
    "collapsed": true
   },
   "outputs": [],
   "source": [
    "#Параметры кубитов.all keys should be str\n",
    "Qubits = {'2-070818': {'r':{\n",
    "                    'Fr': 7.29775e9,\n",
    "                     'P': -30 },\n",
    "              'q':{\n",
    "              '00-1-01': 4.25083e+09,\n",
    "              '01-1-02': 4.00871e+09,\n",
    "              '00-2-02': 4.12977e+09,\n",
    "                'P':None}\n",
    "             },\n",
    "          '2-070818':{'r':{'Fr': 7.2988e9,  'P': -30}, 'q':{'00-1-01': 4.25501e9, '00-2-02': 4.1e9, '01-1-02': 3.98e9}},\n",
    "          '2-080818':{'r':{'Fr': 7.2988e9,  'P': -30}, 'q':{'00-1-01': 4.256397e9, '00-2-02': 4.1345e9, '01-1-02': 4.01420e9}},\n",
    "          '1-080818':{'r':{'Fr': 7.2059e9, 'P': -30},'q':{ '00-1-01':4.242190e9+1.76e6, '00-2-02': 4.1e9, '01-1-02': 4.00020e9}},\n",
    "          '2-100818':{'r':{'Fr': 7.1011e9, 'P': -30}, 'q':{'0-1-1': 3.8199e9}},\n",
    "          '1-100818':{'r':{'Fr': 7.0765e9, 'P': -30},'q': {'00-1-01': 3.92173e9, '00-1-10': 3.9406e9}},\n",
    "          #'2':{'r':{'Fr': 7.332e9, 'P': -30}, 'q':{'0-1-1': 3.8199e9}},\n",
    "          #'1':{'r':{'Fr': 7.2798e9, 'P': -30},'q': {'00-1-01': 3.92173e9, '00-1-10': 3.9406e9}},\n",
    "          #'2':{'r':{'Fr': 7.332e9, 'P': -50}, 'q':{'00-1-01': 4.2568e9, '01-1-02': 4.0147e9, '00-1-10': 3.9297e9}},\n",
    "          #'1':{'r':{'Fr': 7.278e9, 'P': -50},'q': {'00-1-01': 4.2446e9, '01-1-02': 4.002e9, '00-1-10': 3.9470e9}},\n",
    "          '2':{'r':{'Fr': 7.334e9, 'P': -50}, \n",
    "               'q':{'00-1-01': 4.24947e9,#4.24098e9,#4.26452e9,#4.2568e9, \n",
    "                    '00-2-02': 4.129e9, #4.124e9 \n",
    "                    '00-2-11': 4.090655e9,\n",
    "                    '01-1-02': 4.0147e9, \n",
    "                    '00-1-10': 3.9316e9,#3.9297e9,\n",
    "                    '00-2-20': 3.80683e9,\n",
    "                    '02-1-03': 3.7249e9,\n",
    "                    '10-1-20': 3.6762e9,\n",
    "                    '10-2-30': 3.5300e9,}},\n",
    "          '1':{'r':{'Fr': 7.278e9, 'P': -50},\n",
    "               'q':{'00-1-01': 4.246158e9, #4.24607e9, #4.2446e9\n",
    "                    '00-2-02': 4.12454e9,#4.1233e9,\n",
    "                    '00-2-11': 4.09916e9,\n",
    "                    '01-1-02': 4.0030e9, \n",
    "                    '00-1-10': 3.94780e9,#3.9480e9,\n",
    "                    '01-2-03': 3.8630e9,\n",
    "                    '00-2-20': 3.82293e9,\n",
    "                    '10-1-20': 3.6990e9}},}\n",
    "qubit_params=Qubits\n",
    "qubit_id = '2'\n",
    "switch_to_sample = {'1':4, '2':3}\n",
    "#it should be dumped too\n",
    "qubits_dump = {\"qubits\":qubit_params,'switch':switch_to_sample}\n",
    "qjson.dump('qubits','qubit_params',qubits_dump)"
   ]
  },
  {
   "cell_type": "markdown",
   "metadata": {},
   "source": [
    "# Instrument class initialization"
   ]
  },
  {
   "cell_type": "markdown",
   "metadata": {},
   "source": [
    "## Spectroscopy instruments"
   ]
  },
  {
   "cell_type": "markdown",
   "metadata": {},
   "source": [
    "### MW instruments"
   ]
  },
  {
   "cell_type": "code",
   "execution_count": 4,
   "metadata": {
    "collapsed": true
   },
   "outputs": [],
   "source": [
    "# RF switch for making sure we know what sample we are measuring\n",
    "pna = Agilent_N5242A('pna', address = 'TCPIP0::10.20.61.48::inst0::INSTR')\n",
    "lo1 = Agilent_E8257D('lo1', address = 'TCPIP0::10.20.61.59::inst0::INSTR')\n",
    "rf_switch = nn_rf_switch('rf_switch', address='10.20.61.224')"
   ]
  },
  {
   "cell_type": "markdown",
   "metadata": {},
   "source": [
    "### DC instruments"
   ]
  },
  {
   "cell_type": "markdown",
   "metadata": {},
   "source": [
    "## spectroscopy through mixers"
   ]
  },
  {
   "cell_type": "code",
   "execution_count": 5,
   "metadata": {},
   "outputs": [
    {
     "name": "stderr",
     "output_type": "stream",
     "text": [
      "WARNING:root:Tektronix_AWG5014 : get all not yet fully functional\n",
      "root: WARNING  Tektronix_AWG5014 : get all not yet fully functional\n"
     ]
    }
   ],
   "source": [
    "#CHASSIS = 1\n",
    "#SLOT_IN = 11\n",
    "#SLOT_OUT = 7\n",
    "#awg = Keysight_M3202A_S('awg', CHASSIS, SLOT_OUT)\n",
    "#adc = Keysight_M3102A('adc', CHASSIS, SLOT_IN)\n",
    "awg = Tektronix_AWG5014('awg_tek', address = 'TCPIP0::10.20.61.186::inst0::INSTR')\n",
    "adc = Spectrum_M3i2132('adc')"
   ]
  },
  {
   "cell_type": "markdown",
   "metadata": {},
   "source": [
    "## Time-domain measurements"
   ]
  },
  {
   "cell_type": "code",
   "execution_count": 6,
   "metadata": {
    "collapsed": true
   },
   "outputs": [],
   "source": [
    "sa = Agilent_N9030A('pxa', address = 'TCPIP0::10.20.61.56::inst0::INSTR')\n",
    "lo_ex = lo1\n",
    "lo_ro = pna\n",
    "awg_tek=awg"
   ]
  },
  {
   "cell_type": "markdown",
   "metadata": {},
   "source": [
    "# Settings for different experiments and setups"
   ]
  },
  {
   "cell_type": "markdown",
   "metadata": {},
   "source": [
    "## Spectroscopy instrument settings"
   ]
  },
  {
   "cell_type": "code",
   "execution_count": 7,
   "metadata": {},
   "outputs": [
    {
     "data": {
      "text/plain": [
       "True"
      ]
     },
     "execution_count": 7,
     "metadata": {},
     "output_type": "execute_result"
    }
   ],
   "source": [
    "# векторный анализатор в режим линейного свипа\n",
    "pna.set_sweep_mode(\"LIN\")"
   ]
  },
  {
   "cell_type": "code",
   "execution_count": 8,
   "metadata": {
    "collapsed": true
   },
   "outputs": [],
   "source": [
    "setup_params = {'qubit_id':qubit_id}"
   ]
  },
  {
   "cell_type": "code",
   "execution_count": 9,
   "metadata": {},
   "outputs": [
    {
     "ename": "TypeError",
     "evalue": "'module' object is not callable",
     "output_type": "error",
     "traceback": [
      "\u001b[1;31m---------------------------------------------------------------------------\u001b[0m",
      "\u001b[1;31mTypeError\u001b[0m                                 Traceback (most recent call last)",
      "\u001b[1;32m<ipython-input-9-9c22f86161ec>\u001b[0m in \u001b[0;36m<module>\u001b[1;34m()\u001b[0m\n\u001b[1;32m----> 1\u001b[1;33m \u001b[0msetups\u001b[0m \u001b[1;33m=\u001b[0m \u001b[0minst_loading\u001b[0m\u001b[1;33m(\u001b[0m\u001b[0mpna\u001b[0m\u001b[1;33m,\u001b[0m\u001b[0mlo1\u001b[0m\u001b[1;33m,\u001b[0m\u001b[0mawg\u001b[0m\u001b[1;33m,\u001b[0m\u001b[0madc\u001b[0m\u001b[1;33m,\u001b[0m\u001b[1;33m**\u001b[0m\u001b[0msetup_params\u001b[0m\u001b[1;33m)\u001b[0m\u001b[1;33m\u001b[0m\u001b[0m\n\u001b[0m",
      "\u001b[1;31mTypeError\u001b[0m: 'module' object is not callable"
     ]
    }
   ],
   "source": [
    "setups = inst_loading(pna,lo1,awg,adc,**setup_params)"
   ]
  },
  {
   "cell_type": "code",
   "execution_count": 10,
   "metadata": {},
   "outputs": [
    {
     "ename": "NameError",
     "evalue": "name 'setups' is not defined",
     "output_type": "error",
     "traceback": [
      "\u001b[1;31m---------------------------------------------------------------------------\u001b[0m",
      "\u001b[1;31mNameError\u001b[0m                                 Traceback (most recent call last)",
      "\u001b[1;32m<ipython-input-10-529276e90165>\u001b[0m in \u001b[0;36m<module>\u001b[1;34m()\u001b[0m\n\u001b[1;32m----> 1\u001b[1;33m \u001b[0mawg\u001b[0m \u001b[1;33m=\u001b[0m \u001b[0msetups\u001b[0m\u001b[1;33m.\u001b[0m\u001b[0mawg\u001b[0m\u001b[1;33m\u001b[0m\u001b[0m\n\u001b[0m\u001b[0;32m      2\u001b[0m \u001b[0madc\u001b[0m \u001b[1;33m=\u001b[0m \u001b[0msetups\u001b[0m\u001b[1;33m.\u001b[0m\u001b[0madc\u001b[0m\u001b[1;33m\u001b[0m\u001b[0m\n\u001b[0;32m      3\u001b[0m \u001b[0mpg\u001b[0m \u001b[1;33m=\u001b[0m \u001b[0msetups\u001b[0m\u001b[1;33m.\u001b[0m\u001b[0mpg\u001b[0m\u001b[1;33m\u001b[0m\u001b[0m\n",
      "\u001b[1;31mNameError\u001b[0m: name 'setups' is not defined"
     ]
    }
   ],
   "source": [
    "awg = setups.awg\n",
    "adc = setups.adc\n",
    "pg = setups.pg"
   ]
  },
  {
   "cell_type": "markdown",
   "metadata": {},
   "source": [
    "## Спектроскопия через смесители #### ЖМИ МИНЯ\n",
    "\n",
    "\n",
    "Если подключена импульсная схема, а хочется сделать спектроскопию - то нет проблем! Единственное что нужно сделать, это, во-первых, открыть смесители (подав на них, скажем, 0.3В), и во-вторых, обратить внимание на мощность на выходе. Она будет ниже чем если делать спектроскопию нормально. Ну и шумов тоже получится больше - лучше всего не подавать какие-то сигналы с AWG, а задать оффсеты. Тогда вроде бы шумов меньше получается.\n",
    "\n",
    "Что тут хорошо: можно переключаться между режимами не выходя из офиса (или из вообще не вставая на кровати). Этот режим очень популярен при измерениях в Черноголовке среди людей, которые не любят в эту самую Черноголовку ездить.\n",
    "Тем не менее иногда полезно заходить в лабу и посмотреть что же на самом деле там происходит."
   ]
  },
  {
   "cell_type": "code",
   "execution_count": 49,
   "metadata": {
    "collapsed": true,
    "scrolled": true
   },
   "outputs": [],
   "source": [
    "for channel in range(1,5): #AWG5014C\n",
    "#for channel in range(0,4): # M3202A\n",
    "    awg.set_amplitude(.2, channel=channel)\n",
    "    awg.set_offset(0.2, channel=channel)\n",
    "    awg.set_output(1, channel=channel)\n",
    "    awg.set_waveform([0], channel=channel)"
   ]
  },
  {
   "cell_type": "markdown",
   "metadata": {},
   "source": [
    "# Spectroscopy"
   ]
  },
  {
   "cell_type": "markdown",
   "metadata": {},
   "source": [
    "## Резонаторная спектроскопия #### НЕЖМИ МИНЯ\n"
   ]
  },
  {
   "cell_type": "code",
   "execution_count": 20,
   "metadata": {
    "collapsed": true
   },
   "outputs": [],
   "source": [
    "lo1.set_status(0)\n",
    "pna.set_status(1)\n",
    "pna.set_power(-35) # \n",
    "pna.set_nop(201)\n",
    "pna.set_xlim(7.0e9, 7.4e9)\n",
    "pna.set_bandwidth(100)\n",
    "freqs = pna.get_freqpoints()\n",
    "S21 = pna.get_tracedata()"
   ]
  },
  {
   "cell_type": "code",
   "execution_count": 21,
   "metadata": {},
   "outputs": [
    {
     "data": {
      "application/vnd.jupyter.widget-view+json": {
       "model_id": "8bbd1fd5e3784e4aaf4fff157f9432f0",
       "version_major": 2,
       "version_minor": 0
      },
      "text/plain": [
       "A Jupyter Widget"
      ]
     },
     "metadata": {},
     "output_type": "display_data"
    },
    {
     "name": "stdout",
     "output_type": "stream",
     "text": [
      "Started at:  Aug 28 2018 13:56:13\n"
     ]
    },
    {
     "name": "stderr",
     "output_type": "stream",
     "text": [
      "C:\\ProgramData\\Anaconda3\\lib\\site-packages\\numpy\\lib\\function_base.py:2169: RuntimeWarning: invalid value encountered in remainder\n",
      "  ddmod = mod(dd + pi, 2*pi) - pi\n",
      "C:\\ProgramData\\Anaconda3\\lib\\site-packages\\numpy\\lib\\function_base.py:2170: RuntimeWarning: invalid value encountered in greater\n",
      "  _nx.copyto(ddmod, pi, where=(ddmod == -pi) & (dd > 0))\n",
      "C:\\ProgramData\\Anaconda3\\lib\\site-packages\\numpy\\lib\\function_base.py:2172: RuntimeWarning: invalid value encountered in less\n",
      "  _nx.copyto(ph_correct, 0, where=abs(dd) < discont)\n"
     ]
    },
    {
     "name": "stdout",
     "output_type": "stream",
     "text": [
      "Exiting sweep main thread #{} via return 9304\n",
      "\n",
      "Elapsed time: 0 h 0 m 4.07 s\n"
     ]
    },
    {
     "data": {
      "text/plain": [
       "[<matplotlib.lines.Line2D at 0x178db061710>]"
      ]
     },
     "execution_count": 21,
     "metadata": {},
     "output_type": "execute_result"
    }
   ],
   "source": [
    "meas = sweep.sweep(pna, ([0], lambda x: None, 'None'), filename='Single Tone spectroscopy #{}'.format(qubit_id))\n",
    "delay = np.gradient(np.unwrap(np.angle(meas['S-parameter'][2])))/(meas['S-parameter'][1][0][1]-meas['S-parameter'][1][0][0])\n",
    "plt.figure('Delay')\n",
    "plt.plot(meas['S-parameter'][1][0], delay)"
   ]
  },
  {
   "cell_type": "code",
   "execution_count": 12,
   "metadata": {},
   "outputs": [
    {
     "data": {
      "application/vnd.jupyter.widget-view+json": {
       "model_id": "0c260144dad34c0fba0cdf0bb6220f6a"
      }
     },
     "metadata": {},
     "output_type": "display_data"
    },
    {
     "name": "stdout",
     "output_type": "stream",
     "text": [
      "Started at:  Aug 16 2018 09:12:27\n"
     ]
    },
    {
     "name": "stderr",
     "output_type": "stream",
     "text": [
      "C:\\ProgramData\\Anaconda2\\envs\\py36\\lib\\site-packages\\numpy\\lib\\function_base.py:2006: RuntimeWarning: invalid value encountered in remainder\n",
      "  ddmod = mod(dd + pi, 2*pi) - pi\n",
      "C:\\ProgramData\\Anaconda2\\envs\\py36\\lib\\site-packages\\numpy\\lib\\function_base.py:2007: RuntimeWarning: invalid value encountered in greater\n",
      "  _nx.copyto(ddmod, pi, where=(ddmod == -pi) & (dd > 0))\n",
      "C:\\ProgramData\\Anaconda2\\envs\\py36\\lib\\site-packages\\numpy\\lib\\function_base.py:2009: RuntimeWarning: invalid value encountered in less\n",
      "  _nx.copyto(ph_correct, 0, where=abs(dd) < discont)\n"
     ]
    },
    {
     "name": "stdout",
     "output_type": "stream",
     "text": [
      "\n",
      "Elapsed time: 0 h 2 m 59.23 s\n"
     ]
    },
    {
     "data": {
      "application/vnd.jupyter.widget-view+json": {
       "model_id": "f7af139ce3c64c438bcb6d56aed46c44"
      }
     },
     "metadata": {},
     "output_type": "display_data"
    },
    {
     "name": "stdout",
     "output_type": "stream",
     "text": [
      "Started at:  Aug 16 2018 09:15:29\n"
     ]
    },
    {
     "name": "stderr",
     "output_type": "stream",
     "text": [
      "C:\\ProgramData\\Anaconda2\\envs\\py36\\lib\\site-packages\\numpy\\lib\\function_base.py:2006: RuntimeWarning: invalid value encountered in remainder\n",
      "  ddmod = mod(dd + pi, 2*pi) - pi\n",
      "C:\\ProgramData\\Anaconda2\\envs\\py36\\lib\\site-packages\\numpy\\lib\\function_base.py:2007: RuntimeWarning: invalid value encountered in greater\n",
      "  _nx.copyto(ddmod, pi, where=(ddmod == -pi) & (dd > 0))\n",
      "C:\\ProgramData\\Anaconda2\\envs\\py36\\lib\\site-packages\\numpy\\lib\\function_base.py:2009: RuntimeWarning: invalid value encountered in less\n",
      "  _nx.copyto(ph_correct, 0, where=abs(dd) < discont)\n"
     ]
    },
    {
     "name": "stdout",
     "output_type": "stream",
     "text": [
      "\n",
      "Elapsed time: 0 h 2 m 58.97 s\n"
     ]
    }
   ],
   "source": [
    "pna.set_frequency(Qubits['1']['r']['Fr'])\n",
    "pna.set_bandwidth(1)\n",
    "pna.set_average(0)\n",
    "pna.set_averages(1)\n",
    "pna.set_power(-40)\n",
    "pna.set_span(1e3)\n",
    "pna.set_nop(201)\n",
    "meas_offres = sweep.sweep(pna, ([0], lambda x: None, 'None'), filename='On res S21 time dep #{}'.format(qubit_id))\n",
    "meas_offres2 = sweep.sweep(pna, ([0], lambda x: None, 'None'), filename='On res S21 time dep #{}'.format(qubit_id))"
   ]
  },
  {
   "cell_type": "code",
   "execution_count": 91,
   "metadata": {},
   "outputs": [
    {
     "data": {
      "application/vnd.jupyter.widget-view+json": {
       "model_id": "6a3dd22eb0034ddbbf55ecfee4a7035b"
      }
     },
     "metadata": {},
     "output_type": "display_data"
    },
    {
     "name": "stdout",
     "output_type": "stream",
     "text": [
      "Started at:  Aug 15 2018 23:45:55\n",
      "\n",
      "Elapsed time: 0 h 7 m 28.48 s\n"
     ]
    }
   ],
   "source": [
    "lo1.set_status(1)\n",
    "lo1.set_power(-6)\n",
    "lo1.set_frequency(qubit_params[qubit_id]['q']['01-1-02'])\n",
    "#lo1.set_frequency(3e9)\n",
    "pna.set_nop(200)\n",
    "pna.set_centerfreq(Qubits[qubit_id]['r']['Fr'])\n",
    "pna.set_span(110e6)\n",
    "meas_offres = sweep.sweep(pna, (np.array(range(50))*pna.get_sweep_time()*1e-3,\n",
    "                                lambda x: None, 'None'), filename='On res S21 time dep #{}'.format(qubit_id))"
   ]
  },
  {
   "cell_type": "code",
   "execution_count": 16,
   "metadata": {},
   "outputs": [
    {
     "data": {
      "text/plain": [
       "[<matplotlib.lines.Line2D at 0xe8d5908>]"
      ]
     },
     "execution_count": 16,
     "metadata": {},
     "output_type": "execute_result"
    }
   ],
   "source": [
    "plt.figure()\n",
    "plt.plot(np.angle(meas_offres['S-parameter'][2]))\n",
    "plt.plot(np.angle(meas_offres2['S-parameter'][2]))"
   ]
  },
  {
   "cell_type": "code",
   "execution_count": 21,
   "metadata": {},
   "outputs": [
    {
     "data": {
      "text/plain": [
       "[<matplotlib.lines.Line2D at 0xe33c208>]"
      ]
     },
     "execution_count": 21,
     "metadata": {},
     "output_type": "execute_result"
    }
   ],
   "source": [
    "plt.figure()\n",
    "plt.plot(meas['S-parameter'][1][0], np.gradient(np.unwrap(np.angle(meas['S-parameter'][2]))))"
   ]
  },
  {
   "cell_type": "markdown",
   "metadata": {},
   "source": [
    "## Резонаторная спектроскопия second tone on #### НЕЖМИ МИНЯ "
   ]
  },
  {
   "cell_type": "code",
   "execution_count": 16,
   "metadata": {},
   "outputs": [
    {
     "data": {
      "application/vnd.jupyter.widget-view+json": {
       "model_id": "ab1bbe1227cc47ea8347a1a23d674edf"
      }
     },
     "metadata": {},
     "output_type": "display_data"
    },
    {
     "name": "stdout",
     "output_type": "stream",
     "text": [
      "Started at:  Jul 31 2018 22:32:20\n",
      "\n",
      "Elapsed time: 0 h 0 m 19.14 s\n"
     ]
    }
   ],
   "source": [
    "lo1.set_status(1)\n",
    "lo1.set_frequency(qubit_params[qubit_id]['01-1-02'])\n",
    "lo1.set_power(14)\n",
    "pna.set_status(1)\n",
    "pna.set_power(-50) # \n",
    "pna.set_nop(51)\n",
    "pna.set_centerfreq(qubit_params[qubit_id]['Fr'])\n",
    "pna.set_span(50e6)\n",
    "pna.set_bandwidth(100)\n",
    "first_tone_powers = np.arange(-35, 0, 1)\n",
    "meas = sweep.sweep(pna, (first_tone_powers, pna.set_power, 'Readout power'), filename='Single Tone power sweep lo on strong'.format(lo1.get_status()))"
   ]
  },
  {
   "cell_type": "markdown",
   "metadata": {},
   "source": [
    "## Резонатор от мощности (проверка нелинейности резонатора) #### НЕЖМИ МИНЯ\n"
   ]
  },
  {
   "cell_type": "code",
   "execution_count": 34,
   "metadata": {},
   "outputs": [
    {
     "data": {
      "text/plain": [
       "True"
      ]
     },
     "execution_count": 34,
     "metadata": {},
     "output_type": "execute_result"
    }
   ],
   "source": [
    "pna.set_power(-10) # \n",
    "pna.set_nop(201) \n",
    "#pna.set_xlim(9.8e9, 9.81e9)\n",
    "pna.set_xlim(7.05e9, 7.15e9)\n",
    "pna.set_bandwidth(100)\n",
    "freqs = pna.get_freqpoints()\n",
    "S21 = pna.get_tracedata()\n",
    "lo1.set_status(0)"
   ]
  },
  {
   "cell_type": "code",
   "execution_count": 36,
   "metadata": {
    "scrolled": true
   },
   "outputs": [
    {
     "data": {
      "application/vnd.jupyter.widget-view+json": {
       "model_id": "437bd359affe4be58e2c503b91bdeebe"
      }
     },
     "metadata": {},
     "output_type": "display_data"
    },
    {
     "name": "stdout",
     "output_type": "stream",
     "text": [
      "Started at:  Aug 10 2018 18:21:02\n",
      "\n",
      "Elapsed time: 0 h 0 m 58.32 s\n"
     ]
    }
   ],
   "source": [
    "resonator_powers = np.arange(10, -50, -2)\n",
    "meas = sweep.sweep(pna, (resonator_powers, pna.set_power, 'Power, dBm'), filename='Single Tone spectroscopy power dependent #{}'.format(qubit_id))"
   ]
  },
  {
   "cell_type": "markdown",
   "metadata": {},
   "source": [
    "## Фитуем добротность резонатора #### НЕЖМИ МИНЯ\n"
   ]
  },
  {
   "cell_type": "code",
   "execution_count": null,
   "metadata": {
    "collapsed": true
   },
   "outputs": [],
   "source": [
    "from resonator_tools import circuit\n",
    "#plt.plot(freqs, scipy.signal.detrend(np.unwrap(S21[1])))\n",
    "fitter =circuit.reflection_port(f_data=freqs, z_data_raw=S21[0]*np.exp(1j*S21[1]))\n",
    "fitter.autofit()\n",
    "fitter.plotall()"
   ]
  },
  {
   "cell_type": "code",
   "execution_count": null,
   "metadata": {
    "collapsed": true
   },
   "outputs": [],
   "source": [
    "fitter.fitresults['Qc_err']"
   ]
  },
  {
   "cell_type": "code",
   "execution_count": null,
   "metadata": {
    "collapsed": true,
    "scrolled": true
   },
   "outputs": [],
   "source": [
    "plt.plot(freqs, np.abs(np.gradient(S21[0]*np.exp(1j*S21[1]))))"
   ]
  },
  {
   "cell_type": "code",
   "execution_count": null,
   "metadata": {
    "collapsed": true
   },
   "outputs": [],
   "source": [
    "powers = np.linspace(-65, 5, 15)\n",
    "sweep.sweep(pna, (powers, pna.set_power, 'readout power'), filename='Resonator power spectroscopy')"
   ]
  },
  {
   "cell_type": "markdown",
   "metadata": {},
   "source": [
    "### Spectroscopy при фиксированной мощности"
   ]
  },
  {
   "cell_type": "code",
   "execution_count": 45,
   "metadata": {
    "scrolled": true
   },
   "outputs": [
    {
     "data": {
      "application/vnd.jupyter.widget-view+json": {
       "model_id": "42bc16f2bd6a4543bb81d5d5af7042c6",
       "version_major": 2,
       "version_minor": 0
      },
      "text/plain": [
       "A Jupyter Widget"
      ]
     },
     "metadata": {},
     "output_type": "display_data"
    },
    {
     "name": "stdout",
     "output_type": "stream",
     "text": [
      "Started at:  Aug 28 2018 15:39:06\n"
     ]
    },
    {
     "name": "stderr",
     "output_type": "stream",
     "text": [
      "C:\\ProgramData\\Anaconda3\\lib\\site-packages\\numpy\\lib\\function_base.py:2169: RuntimeWarning: invalid value encountered in remainder\n",
      "  ddmod = mod(dd + pi, 2*pi) - pi\n",
      "C:\\ProgramData\\Anaconda3\\lib\\site-packages\\numpy\\lib\\function_base.py:2170: RuntimeWarning: invalid value encountered in greater\n",
      "  _nx.copyto(ddmod, pi, where=(ddmod == -pi) & (dd > 0))\n",
      "C:\\ProgramData\\Anaconda3\\lib\\site-packages\\numpy\\lib\\function_base.py:2172: RuntimeWarning: invalid value encountered in less\n",
      "  _nx.copyto(ph_correct, 0, where=abs(dd) < discont)\n"
     ]
    },
    {
     "name": "stdout",
     "output_type": "stream",
     "text": [
      "Exiting sweep main thread #{} via return 10004\n",
      "\n",
      "Elapsed time: 0 h 1 m 38.13 s\n"
     ]
    },
    {
     "data": {
      "text/plain": [
       "True"
      ]
     },
     "execution_count": 45,
     "metadata": {},
     "output_type": "execute_result"
    }
   ],
   "source": [
    "#### НЕЖМИ МИНЯ\n",
    "#qubit_id='2'\n",
    "ex_freqs = np.arange(3.5e9, 4.3e9, 1e6)\n",
    "#ex_freqs = np.concatenate((np.arange(3.98e9,4.02e9,0.3e6),  np.arange(4.2e9,4.28e9,0.3e6)))\n",
    "#ex_freqs = np.arange(2e9,4.4e9,2e6)\n",
    "lo1.set_power(-8.5) # no mixer\n",
    "lo1.set_power(2) # w/mixer\n",
    "#Измерение\n",
    "lo1.set_status(1)\n",
    "pna.set_nop(1)\n",
    "pna.set_centerfreq(Qubits[qubit_id]['r']['Fr'])\n",
    "pna.set_frequency(Qubits[qubit_id]['r']['Fr'])\n",
    "pna.set_bandwidth(10)\n",
    "#pna.set_power(-25)\n",
    "pna.set_power(-35)\n",
    "#pna.set_average_mode('POINT')\n",
    "#pna.set_average(1)\n",
    "#pna.set_averages(8)\n",
    "#pna.set_power (-52)\n",
    "#pna.set_power(Qubits[qubit_id]['r']['P']-1)\n",
    "#current_src.set_current(-2.5e-3)\n",
    "\n",
    "header = '''#Parameter = Ex frequency\n",
    "#Ex power = {:f}'''\n",
    "try:\n",
    "    ex1D = sweep.sweep(pna, (ex_freqs, lo1.set_frequency, 'Second tone freq', 'Hz'), filename = \"#{}\".format(qubit_id))\n",
    "except KeyboardInterrupt: pass \n",
    "lo1.set_status(0)"
   ]
  },
  {
   "cell_type": "code",
   "execution_count": 34,
   "metadata": {
    "scrolled": true
   },
   "outputs": [
    {
     "data": {
      "application/vnd.jupyter.widget-view+json": {
       "model_id": "e1cca5ca4d424bb8a571349c3216f7f4",
       "version_major": 2,
       "version_minor": 0
      },
      "text/plain": [
       "A Jupyter Widget"
      ]
     },
     "metadata": {},
     "output_type": "display_data"
    },
    {
     "name": "stdout",
     "output_type": "stream",
     "text": [
      "Started at:  Aug 28 2018 15:16:10\n"
     ]
    },
    {
     "name": "stderr",
     "output_type": "stream",
     "text": [
      "C:\\ProgramData\\Anaconda3\\lib\\site-packages\\numpy\\lib\\function_base.py:2169: RuntimeWarning: invalid value encountered in remainder\n",
      "  ddmod = mod(dd + pi, 2*pi) - pi\n",
      "C:\\ProgramData\\Anaconda3\\lib\\site-packages\\numpy\\lib\\function_base.py:2170: RuntimeWarning: invalid value encountered in greater\n",
      "  _nx.copyto(ddmod, pi, where=(ddmod == -pi) & (dd > 0))\n",
      "C:\\ProgramData\\Anaconda3\\lib\\site-packages\\numpy\\lib\\function_base.py:2172: RuntimeWarning: invalid value encountered in less\n",
      "  _nx.copyto(ph_correct, 0, where=abs(dd) < discont)\n"
     ]
    },
    {
     "name": "stdout",
     "output_type": "stream",
     "text": [
      "Exiting sweep main thread #{} via return 10788\n",
      "\n",
      "Elapsed time: 0 h 0 m 4.06 s\n"
     ]
    }
   ],
   "source": [
    "#### НЕЖМИ МИНЯ\n",
    "\n",
    "#Измерение\n",
    "lo1.set_status(1)\n",
    "ex_freqs = np.arange(5.9e9, 6.0e9, 2e6)\n",
    "\n",
    "pna.set_xlim(9.45e9, 9.75e9)\n",
    "pna.set_nop(1)\n",
    "pna.set_bandwidth(51)\n",
    "#pna.set_average_mode('POINT')\n",
    "pna.set_average(1)\n",
    "pna.set_averages(1)\n",
    "pna.set_power (-15)\n",
    "lo1.set_power (0)\n",
    "#current_src.set_current(-2.5e-3)\n",
    "\n",
    "header = '''#Parameter = Ex frequency\n",
    "#Ex power = {:f}'''\n",
    "try:\n",
    "    ex1D = sweep.sweep(pna, (ex_freqs, lo1.set_frequency, 'Second tone freq'), filename = \"ex_{:.1f}dBm #4\".format(lo1.get_power()))\n",
    "except KeyboardInterrupt: pass "
   ]
  },
  {
   "cell_type": "code",
   "execution_count": 27,
   "metadata": {},
   "outputs": [
    {
     "data": {
      "text/plain": [
       "True"
      ]
     },
     "execution_count": 27,
     "metadata": {},
     "output_type": "execute_result"
    }
   ],
   "source": [
    "pna.set_average(1)"
   ]
  },
  {
   "cell_type": "markdown",
   "metadata": {},
   "source": [
    "##### 2D скан (мощность второго тона, частота второго тона)"
   ]
  },
  {
   "cell_type": "code",
   "execution_count": 53,
   "metadata": {},
   "outputs": [
    {
     "data": {
      "application/vnd.jupyter.widget-view+json": {
       "model_id": "07ef49948c864d12899e1e689c89182f",
       "version_major": 2,
       "version_minor": 0
      },
      "text/plain": [
       "A Jupyter Widget"
      ]
     },
     "metadata": {},
     "output_type": "display_data"
    },
    {
     "name": "stdout",
     "output_type": "stream",
     "text": [
      "Started at:  Aug 28 2018 16:59:04\n",
      "Exiting sweep main thread #{} via return 7996\n",
      "\n",
      "Elapsed time: 0 h 5 m 21.74 s\n"
     ]
    },
    {
     "data": {
      "text/plain": [
       "True"
      ]
     },
     "execution_count": 53,
     "metadata": {},
     "output_type": "execute_result"
    }
   ],
   "source": [
    "#### НЕЖМИ МИНЯ\n",
    "#ex_freqs = np.arange(3.5e9, 4.4e9, 1e6)\n",
    "ex_freqs = np.arange(4.090e9, 4.095e9,0.25e6)\n",
    "ex_powers = np.arange(-20, 14, 1)\n",
    "\n",
    "pna.set_xlim(Qubits[qubit_id]['r']['Fr'], Qubits[qubit_id]['r']['Fr'])\n",
    "pna.set_nop(1)\n",
    "#pna.set_power(Qubits[qubit_id]['r']['P']+10)\n",
    "#pna.set_power(-30)\n",
    "pna.set_power(-35)\n",
    "pna.set_bandwidth(2)\n",
    "#lo1.set_power(-20)\n",
    "\n",
    "header = '''#Parameter =\n",
    "#Ro power = {:f}'''.format( pna.get_power() )\n",
    "\n",
    "lo1.set_status(1)\n",
    "#ps.S21vs2DPar(pna, currents, current.set_current, ex_freqs, lo1.set_frequency, filename = \"#2{:.1f}dBm\".format(lo1.get_power()),\\\n",
    "#           header = header)\n",
    "ex2D = sweep.sweep(pna, (ex_powers, lo1.set_power, 'Second tone power'), \n",
    "                   (ex_freqs, lo1.set_frequency, 'Second tone freq'), filename = \"Two-tone resonator #{} powerscan no mixer\".format(qubit_id),\\\n",
    "           header = header)\n",
    "lo1.set_status(0)"
   ]
  },
  {
   "cell_type": "markdown",
   "metadata": {},
   "source": [
    "# Settings for time-domain measurements"
   ]
  },
  {
   "cell_type": "markdown",
   "metadata": {},
   "source": [
    "## Set up device modes"
   ]
  },
  {
   "cell_type": "markdown",
   "metadata": {},
   "source": [
    "### Осцилляторы"
   ]
  },
  {
   "cell_type": "markdown",
   "metadata": {},
   "source": [
    "Генераторы опорных волн для смесителей.\n",
    "На вход надо подавать около 13 дБ (точка децибельной компрессии).\n",
    "В качестве источника можно использовать agilent или labbrick. У labbrick фазовые шумы, лучше использвать agilent.\n",
    "Векторный анализатор можно включить в режим постоянной волны, тогда его тоже можно использовать."
   ]
  },
  {
   "cell_type": "code",
   "execution_count": 37,
   "metadata": {},
   "outputs": [
    {
     "data": {
      "text/plain": [
       "True"
      ]
     },
     "execution_count": 37,
     "metadata": {},
     "output_type": "execute_result"
    }
   ],
   "source": [
    "# Источник тока - в autorange\n",
    "#current.set_autorange(1)\n",
    "#Мощности гетеродинов, постоянные\n",
    "#Мощность гетеродина для возбуждения 13-16 дБм\n",
    "\n",
    "lo_ex_pow = 14\n",
    "lo_ex.set_status(1)\n",
    "lo_ro_pow = 16\n",
    "lo_ro.set_power(lo_ro_pow)\n",
    "\n",
    "pna.write(\"OUTP ON\")\n",
    "pna.write(\"SOUR1:POW1:MODE ON\")\n",
    "pna.write(\"SOUR1:POW2:MODE OFF\")\n",
    "pna.set_sweep_mode(\"CW\")\n",
    "lo_ex.set_power(lo_ex_pow)"
   ]
  },
  {
   "cell_type": "markdown",
   "metadata": {},
   "source": [
    "### sync channel settings (save to config)"
   ]
  },
  {
   "cell_type": "code",
   "execution_count": 38,
   "metadata": {
    "collapsed": true
   },
   "outputs": [],
   "source": [
    "marker_length = 100\n",
    "readout_trigger_delay = 185\n",
    "trg_length = 10e-9"
   ]
  },
  {
   "cell_type": "markdown",
   "metadata": {},
   "source": [
    "### AWGшки"
   ]
  },
  {
   "cell_type": "code",
   "execution_count": 39,
   "metadata": {},
   "outputs": [
    {
     "data": {
      "text/plain": [
       "True"
      ]
     },
     "execution_count": 39,
     "metadata": {},
     "output_type": "execute_result"
    }
   ],
   "source": [
    "ex_clock = 1e9\n",
    "ro_clock = 1e9\n",
    "\n",
    "rep_rate = 20e3 # частота повторений эксперимента\n",
    "\n",
    "awg.stop()\n",
    "awg.check_cached=True\n",
    "#awg_tek.set_clock(ex_clock) # клок всех авгшк\n",
    "awg.set_nop(ex_clock/rep_rate) # репрейт нужно задавать по=хорошему только на управляющей,\n",
    "awg.run()\n",
    "# а вот длину сэмплов, которая очевидно то же самое, нужно задавать на всех авгшках.\n",
    "# хорошо, что сейчас она только одна.\n",
    "#this is zashkvar\n",
    "\n",
    "awg_tek = awg\n",
    "# channel 0 is master and triggers all others\n",
    "# M3202A settings (ignored on AWG5014C)\n",
    "awg.trigger_source_types = [0, 6,6,6]\n",
    "awg.trigger_source_channels = [0, 4000,4000,4000] # pxi trigger 0 \n",
    "awg.trigger_delays = [40, 0,0,0] # master channel should wait 400 ns for others to start\n",
    "awg.trigger_behaviours = [0,4,4,4] #rising edge trigger\n",
    "#for channel in range(0,4): #M3202A\n",
    "for channel in range(1,5): #AWG5014C\n",
    "    awg.set_amplitude(.2, channel=channel)\n",
    "    awg.set_offset(0, channel=channel)\n",
    "    awg.set_output(1, channel=channel)\n",
    "    awg.set_waveform([0]*awg_tek.get_nop(), channel=channel)\n",
    "\n",
    "    \n",
    "#awg.set_marker(length=marker_length, delay=0, channel=0) #M3202A\n",
    "\n",
    "\n",
    "awg_channels =dict()\n",
    "ro_trg = awg_digital.awg_digital(awg_tek, 1)\n",
    "#ro_trg.mode = 'set_delay' #M3202A\n",
    "#ro_trg.delay_setter = lambda x: adc.set_trigger_delay(int(x*adc.get_clock()/iq_ex.get_clock()-readout_trigger_delay)) #M3202A\n",
    "ro_trg.mode = 'waveform' #AWG5014C\n",
    "awg_channels['ro_trg'] = ro_trg\n",
    "# К первому маркере первого канала тектроникса подсоединён триггер оцифровщика.\n",
    "# Надо подавать какой-нибудь триггер, что-ли.\n",
    "# А ещё нужно подавать клок. К сожалению наш оцифровщик не может в 1ГГц клок, ему нужен 500МГц клок.\n",
    "# Будем подавать 500 МГц с цифрового выхода тектроникса.\n",
    "# AWG5014C\n",
    "awg_tek.set_marker1_low(-0.0, channel=1)\n",
    "awg_tek.set_marker2_low(-0.0, channel=1)\n",
    "awg_tek.set_marker1_high(1.0, channel=1)\n",
    "awg_tek.set_marker2_high(1.0, channel=1)\n",
    "awg_tek.set_marker1_low(-0.04, channel=2)\n",
    "awg_tek.set_marker2_low(-0.04, channel=2) \n",
    "awg_tek.set_marker1_high(0.04, channel=2) # с клока хватит и такой амплитуды\n",
    "awg_tek.set_marker2_high(0.04, channel=2) # с клока хватит и такой амплитуды"
   ]
  },
  {
   "cell_type": "markdown",
   "metadata": {},
   "source": [
    "### ADC"
   ]
  },
  {
   "cell_type": "code",
   "execution_count": 40,
   "metadata": {},
   "outputs": [
    {
     "data": {
      "text/plain": [
       "True"
      ]
     },
     "execution_count": 40,
     "metadata": {},
     "output_type": "execute_result"
    }
   ],
   "source": [
    "# настройки оцифровщика\n",
    "# Spectrum M3i-3212\n",
    "adc.reset()            \n",
    "adc.set_timeout(10000)\n",
    "adc.set_clock(ro_clock)\n",
    "\n",
    "#adc.set_spc_samplerate(smp_rate)\n",
    "#External trigger\n",
    "adc.set_trigger_ext0_level0(0) # logical 0 value to 200 mV\n",
    "adc.set_trigger_ext0_level1(1300) # logical 1 value to 600 mV\n",
    "adc.trigger_termination_50Ohm()\n",
    "adc.trigger_mode_pos()\n",
    "adc.set_trigger_ext0_pulsewidth(0)\n",
    "adc.disable_trigger_output()\n",
    "adc.select_channel01()\n",
    "adc.set_multi_mode()\n",
    "# #adc.set_segmentsize()\n",
    "adc.set_trigger_ORmask_tmask_ext0()\n",
    "adc.set_trigger_ANDmask_tmask_ext0()\n",
    "adc.set_trigger_ORmask_tmask_NO_ch0()\n",
    "adc.set_trigger_ORmask_tmask_NO_ch1()\n",
    "adc.set_trigger_ANDmask_tmask_NO_ch0()\n",
    "adc.set_trigger_ANDmask_tmask_NO_ch1()\n",
    "# # усилитель на оцифровщике\n",
    "adc.set_input_amp_ch0(50)\n",
    "adc.set_input_amp_ch1(50)\n",
    "adc.set_input_offset_ch0(0)\n",
    "adc.set_input_offset_ch1(0)\n",
    "\n",
    "# #External clock\n",
    "# adc.set_reference_clock(adc.get_clock()) #500 MHz clock\n",
    "adc.set_reference_clock(10e6) #500 MHz clock\n",
    "\n",
    "#adc.set_input(channel=1, input=1)\n",
    "#adc.set_input(channel=2, input=1)\n",
    "#adc.set_trigger_external(channel=1)\n",
    "#adc.set_trigger_external(channel=2)"
   ]
  },
  {
   "cell_type": "markdown",
   "metadata": {},
   "source": [
    "## Setting up \"virtual devices\" (awg_iq) and so on"
   ]
  },
  {
   "cell_type": "markdown",
   "metadata": {},
   "source": [
    "### intermediate frequencies and so on (this should go into config)"
   ]
  },
  {
   "cell_type": "code",
   "execution_count": 41,
   "metadata": {
    "collapsed": true
   },
   "outputs": [],
   "source": [
    "ro_if = 75e6\n",
    "lo_freq = 4.05e9"
   ]
  },
  {
   "cell_type": "code",
   "execution_count": 42,
   "metadata": {},
   "outputs": [
    {
     "name": "stdout",
     "output_type": "stream",
     "text": [
      "-199.47 4050000000.0\n"
     ]
    }
   ],
   "source": [
    "imp.reload(awg_iq_multi)\n",
    "# промежуточные частоты для гетеродинной схемы new:\n",
    "lo1.set_frequency(lo_freq)\n",
    "ex_if = lo_freq-qubit_params[qubit_id]['q']['00-1-01']\n",
    "#iq_ex = awg_iq_multi.awg_iq_multi(awg_tek, awg_tek, 0, 1, lo_ex) #M3202A\n",
    "iq_ex = awg_iq_multi.awg_iq_multi(awg_tek, awg_tek, 1, 2, lo_ex) #M3202A\n",
    "for tr,freq in qubit_params[qubit_id]['q'].items():\n",
    "    iq_ex.carriers[tr] = awg_iq_multi.carrier(iq_ex)\n",
    "    iq_ex.carriers[tr].set_frequency(freq)\n",
    "    awg_channels['iq_ex_'+tr]=iq_ex.carriers[tr]\n",
    "\n",
    "#iq_ro = awg_iq.awg_iq(awg_tek, awg_tek, 2, 3, lo_ro)\n",
    "#iq_ro.set_if(ro_if)\n",
    "#iq_ro.set_sideband_id(-1)\n",
    "#iq_ro.set_frequency(qubit_params[qubit_id]['r']['Fr'])\n",
    "#awg_channels['iq_ro'] = iq_ro\n",
    "\n",
    "lo_ro.set_frequency(qubit_params[qubit_id]['r']['Fr']+ro_if)\n",
    "#iq_ro = awg_iq_multi.awg_iq_multi(awg_tek, awg_tek, 2, 3, lo_ro) #M3202A\n",
    "iq_ro = awg_iq_multi.awg_iq_multi(awg_tek, awg_tek, 4, 3, lo_ro) #AWG5014C\n",
    "iq_ro.carriers['iq_ro'] = awg_iq_multi.carrier(iq_ro)\n",
    "iq_ro.carriers['iq_ro'].set_frequency(qubit_params[qubit_id]['r']['Fr'])\n",
    "awg_channels['iq_ro'] = iq_ro.carriers['iq_ro']\n",
    "readout_channels = {'iq_ro':awg_channels['iq_ro']}\n",
    "\n",
    "pg = pulses.pulses(awg_channels)\n",
    "print(ex_if*1e-6 ,lo_freq)"
   ]
  },
  {
   "cell_type": "code",
   "execution_count": 43,
   "metadata": {
    "collapsed": true
   },
   "outputs": [],
   "source": [
    "#qjson.invalidate_calibrations()\n",
    "#imp.reload(awg_iq_multi)"
   ]
  },
  {
   "cell_type": "markdown",
   "metadata": {},
   "source": [
    "### Калибровка миксеров"
   ]
  },
  {
   "cell_type": "code",
   "execution_count": 44,
   "metadata": {
    "scrolled": true
   },
   "outputs": [
    {
     "name": "stdout",
     "output_type": "stream",
     "text": [
      "Excitation channel\n",
      "d:\\data/calibrations/iq-dc/ lo_freq-4.05e+09\n",
      "expected str, bytes or os.PathLike object, not NoneType\n",
      "4050000000.0\n",
      "[ 0.3  0.3] -27.048412323\n",
      "[ 0.315  0.3  ] -26.9769954681\n",
      "[ 0.3    0.315] -26.881734848\n",
      "[ 0.315  0.285] -27.1697502136\n",
      "[ 0.3225  0.27  ] -27.320684433\n",
      "[ 0.3075  0.27  ] -27.4185180664\n",
      "[ 0.30375  0.255  ] -27.6384162903\n",
      "[ 0.32625  0.225  ] -27.8568172455\n",
      "[ 0.339375  0.1875  ] -28.2058849335\n",
      "[ 0.320625  0.1725  ] -28.5991439819\n",
      "[ 0.3196875  0.12375  ] -29.2561721802\n",
      "[ 0.3553125  0.05625  ] -29.5842533112\n",
      "[ 0.38109375 -0.043125  ] -30.022190094\n",
      "[ 0.36140625 -0.106875  ] -30.7773990631\n",
      "[ 0.37242188 -0.2540625 ] -30.4829273224\n",
      "[ 0.4228125 -0.27375  ] -29.3205070496\n",
      "[ 0.39703125 -0.174375  ] -30.1127853394\n",
      "[ 0.37734375 -0.238125  ] -30.4209308624\n",
      "[ 0.34171875 -0.170625  ] -31.394329071\n",
      "[ 0.3140625 -0.16875  ] -32.0983772278\n",
      "[ 0.298125 -0.0375  ] -31.6404972076\n",
      "[ 0.25078125 -0.099375  ] -33.4716720581\n",
      "[ 0.19546875 -0.095625  ] -35.0224342346\n",
      "[ 0.21140625 -0.226875  ] -35.3842430115\n",
      "[ 0.16804688 -0.3215625 ] -35.867893219\n",
      "[ 0.04945313 -0.2484375 ] -46.5704803467\n",
      "[-0.08285156 -0.28828125] -43.8499183655\n",
      "[ 0.02203125 -0.474375  ] -34.5933265686\n",
      "[ 0.15210938 -0.1903125 ] -38.1099777222\n",
      "[ 0.03351562 -0.1171875 ] -40.6750183105\n",
      "[-0.06914063 -0.1753125 ] -42.7311668396\n",
      "[-0.05320313 -0.3065625 ] -44.7043113708\n",
      "[ 0.06539063 -0.3796875 ] -37.626335144\n",
      "[-0.03550781 -0.22640625] -52.1289215088\n",
      "[ 0.06714844 -0.16828125] -42.781162262\n",
      "[-0.02311523 -0.27199219] -51.3359069824\n",
      "[-0.10807617 -0.24996094] -42.2251663208\n",
      "[ 0.0100708  -0.24881836] -55.2346420288\n",
      "[-0.00232178 -0.20323242] -51.6953086853\n",
      "[-0.00752014 -0.22042236] -57.4055213928\n",
      "[ 0.03805847 -0.24283447] -48.5995903015\n",
      "[-0.01711624 -0.23051331] -60.4734916687\n",
      "[-0.03470718 -0.20211731] -48.5342826843\n",
      "[-0.0011237 -0.2371431] -64.448638916\n",
      "[-0.0107198  -0.24723404] -62.8587608337\n",
      "[ 0.00527275 -0.25386383] -55.0841293335\n",
      "[-0.01151899 -0.23635094] -69.6941680908\n",
      "[-0.00192289 -0.22625999] -60.4913864136\n",
      "[-0.00852057 -0.24199053] -71.3406906128\n",
      "[-0.01891587 -0.24119837] -61.2532196045\n",
      "[-0.00557174 -0.23815691] -72.8913040161\n",
      "[-0.00257331 -0.24379651] -64.8271408081\n",
      "[-0.00928257 -0.23821233] -76.8733520508\n",
      "[-0.00633374 -0.23437872] -71.6419143677\n"
     ]
    },
    {
     "name": "stderr",
     "output_type": "stream",
     "text": [
      "WARNING:root:json-tricks: numpy scalar serialization is experimental and may work differently in future versions\n",
      "root: WARNING  json-tricks: numpy scalar serialization is experimental and may work differently in future versions\n"
     ]
    },
    {
     "name": "stdout",
     "output_type": "stream",
     "text": [
      "[-0.00688045 -0.23628167] -73.8991622925\n",
      "Warning: Maximum number of iterations has been exceeded.\n",
      "d:\\data/calibrations/iq-rf/ frequency-4.249e+09-if-1.995e+08-sideband_id-     0\n",
      "max() arg is an empty sequence\n",
      "199470000.0 4249470000.0\n",
      "dc: -9.28e-03-2.38e-01j\tI:  4.00e-01\tQ:-5.00e-01+2.00e-01j\tB: -62.46 G: -48.09, C:0.00\n",
      "[-62.45689011 -78.67297363 -48.09467316]\n",
      "dc: -9.28e-03-2.38e-01j\tI:  4.00e-01\tQ:-5.25e-01+2.00e-01j\tB: -61.92 G: -47.86, C:0.00\n",
      "[-61.92139816 -78.16303253 -47.85877228]\n",
      "dc: -9.28e-03-2.38e-01j\tI:  4.00e-01\tQ:-5.00e-01+2.10e-01j\tB: -62.08 G: -48.08, C:0.00\n",
      "[-62.08094406 -78.04908752 -48.08414841]\n",
      "dc: -9.28e-03-2.38e-01j\tI:  4.00e-01\tQ:-5.25e-01+1.90e-01j\tB: -62.24 G: -47.87, C:0.00\n",
      "[-62.24322891 -80.16564178 -47.8654213 ]\n",
      "dc: -9.28e-03-2.38e-01j\tI:  4.00e-01\tQ:-5.37e-01+1.80e-01j\tB: -62.25 G: -47.76, C:0.00\n",
      "[-62.25104141 -76.7365799  -47.75603485]\n",
      "dc: -9.28e-03-2.38e-01j\tI:  4.00e-01\tQ:-5.12e-01+1.80e-01j\tB: -62.92 G: -47.99, C:0.00\n",
      "[-62.92118835 -77.38646698 -47.99318314]\n",
      "dc: -9.28e-03-2.38e-01j\tI:  4.00e-01\tQ:-5.06e-01+1.70e-01j\tB: -63.47 G: -48.06, C:0.00\n",
      "[-63.47068405 -75.64129639 -48.05909348]\n",
      "dc: -9.28e-03-2.38e-01j\tI:  4.00e-01\tQ:-5.44e-01+1.50e-01j\tB: -63.00 G: -47.71, C:0.00\n",
      "[-63.00332642 -78.61527252 -47.71425247]\n",
      "dc: -9.28e-03-2.38e-01j\tI:  4.00e-01\tQ:-5.12e-01+1.40e-01j\tB: -64.45 G: -48.01, C:0.00\n",
      "[-64.44718933 -77.41770935 -48.01253891]\n",
      "dc: -9.28e-03-2.38e-01j\tI:  4.00e-01\tQ:-5.00e-01+1.20e-01j\tB: -65.79 G: -48.14, C:0.00\n",
      "[-65.78677368 -81.6918869  -48.13607407]\n",
      "dc: -9.28e-03-2.38e-01j\tI:  4.00e-01\tQ:-4.62e-01+1.40e-01j\tB: -66.15 G: -48.51, C:0.00\n",
      "[-66.14955139 -82.25603485 -48.50507736]\n",
      "dc: -9.28e-03-2.38e-01j\tI:  4.00e-01\tQ:-4.56e-01+9.00e-02j\tB: -69.81 G: -48.57, C:0.00\n",
      "[-69.81254578 -84.05335999 -48.57196045]\n",
      "dc: -9.28e-03-2.38e-01j\tI:  4.00e-01\tQ:-4.31e-01+5.00e-02j\tB: -76.46 G: -48.81, C:0.00\n",
      "[-76.45869446 -76.64311218 -48.80884933]\n",
      "dc: -9.28e-03-2.38e-01j\tI:  4.00e-01\tQ:-4.69e-01+3.00e-02j\tB: -72.12 G: -48.41, C:0.00\n",
      "[-72.11706543 -77.53217316 -48.40831757]\n",
      "dc: -9.28e-03-2.38e-01j\tI:  4.00e-01\tQ:-4.00e-01-4.00e-02j\tB: -72.86 G: -49.01, C:0.00\n",
      "[-72.85744476 -83.57808685 -49.01276016]\n",
      "dc: -9.28e-03-2.38e-01j\tI:  4.00e-01\tQ:-3.62e-01-2.00e-02j\tB: -73.43 G: -49.46, C:0.00\n",
      "[-73.42751312 -83.31746674 -49.45575333]\n",
      "dc: -9.28e-03-2.38e-01j\tI:  4.00e-01\tQ:-3.94e-01+7.00e-02j\tB: -74.75 G: -49.22, C:0.00\n",
      "[-74.74867249 -79.62012482 -49.22069168]\n",
      "dc: -9.28e-03-2.38e-01j\tI:  4.00e-01\tQ:-4.62e-01+1.40e-01j\tB: -66.15 G: -48.50, C:0.00\n",
      "[-66.15344238 -81.09173584 -48.50194931]\n",
      "dc: -9.28e-03-2.38e-01j\tI:  4.00e-01\tQ:-3.87e-01+2.00e-02j\tB: -85.07 G: -49.24, C:0.00\n",
      "[-85.07385254 -81.87096405 -49.24143982]\n",
      "dc: -9.28e-03-2.38e-01j\tI:  4.00e-01\tQ:-4.25e-01+2.08e-16j\tB: -78.76 G: -48.82, C:0.00\n",
      "[-78.75708771 -82.57486725 -48.81600952]\n",
      "dc: -9.28e-03-2.38e-01j\tI:  4.00e-01\tQ:-3.81e-01-3.00e-02j\tB: -73.71 G: -49.23, C:0.00\n",
      "[-73.70892334 -81.55181885 -49.22702026]\n",
      "dc: -9.28e-03-2.38e-01j\tI:  4.00e-01\tQ:-4.19e-01+3.00e-02j\tB: -83.27 G: -48.92, C:0.00\n",
      "[-83.27115631 -81.62902069 -48.91875076]\n",
      "dc: -9.28e-03-2.38e-01j\tI:  4.00e-01\tQ:-3.81e-01+5.00e-02j\tB: -77.57 G: -49.34, C:0.00\n",
      "[-77.57338715 -78.05548859 -49.3420639 ]\n",
      "dc: -9.28e-03-2.38e-01j\tI:  4.00e-01\tQ:-4.14e-01+1.25e-02j\tB: -85.22 G: -48.95, C:0.00\n",
      "[-85.22059631 -78.88332367 -48.94508743]\n",
      "dc: -9.28e-03-2.38e-01j\tI:  4.00e-01\tQ:-3.83e-01+2.50e-03j\tB: -79.91 G: -49.27, C:0.00\n",
      "[-79.91339111 -80.21378326 -49.26780319]\n",
      "dc: -9.28e-03-2.38e-01j\tI:  4.00e-01\tQ:-4.10e-01+2.31e-02j\tB: -90.87 G: -49.00, C:0.00\n",
      "[-90.86859131 -75.86870575 -49.00406265]\n",
      "dc: -9.28e-03-2.38e-01j\tI:  4.00e-01\tQ:-4.36e-01+1.56e-02j\tB: -77.88 G: -48.72, C:0.00\n",
      "[-77.87747955 -76.05921173 -48.71757126]\n",
      "dc: -9.28e-03-2.38e-01j\tI:  4.00e-01\tQ:-4.00e-01+1.89e-02j\tB: -96.39 G: -49.11, C:0.00\n",
      "[-96.3917923  -77.87360382 -49.10594559]\n",
      "dc: -9.28e-03-2.38e-01j\tI:  4.00e-01\tQ:-3.95e-01+2.95e-02j\tB: -87.90 G: -49.17, C:0.00\n",
      "[-87.8975296  -77.90738678 -49.16500854]\n",
      "dc: -9.28e-03-2.38e-01j\tI:  4.00e-01\tQ:-4.00e-01+2.53e-02j\tB: -94.89 G: -49.11, C:0.00\n",
      "[-94.88754272 -78.00689697 -49.11019516]\n",
      "dc: -9.28e-03-2.38e-01j\tI:  4.00e-01\tQ:-3.90e-01+2.11e-02j\tB: -86.62 G: -49.21, C:0.00\n",
      "[-86.6210556  -80.64476013 -49.21404266]\n",
      "dc: -9.28e-03-2.38e-01j\tI:  4.00e-01\tQ:-4.05e-01+2.26e-02j\tB: -98.80 G: -49.06, C:0.00\n",
      "[-98.79599762 -79.0905304  -49.05593491]\n",
      "dc: -9.28e-03-2.38e-01j\tI:  4.00e-01\tQ:-4.04e-01+1.62e-02j\tB: -93.37 G: -49.05, C:0.00\n",
      "[-93.36782074 -77.51889801 -49.05080414]\n",
      "dc: -9.28e-03-2.38e-01j\tI:  4.00e-01\tQ:-4.01e-01+2.30e-02j\tB: -100.24 G: -49.10, C:0.00\n",
      "[-100.24079895  -82.08859253  -49.09576797]\n",
      "dc: -9.28e-03-2.38e-01j\tI:  4.00e-01\tQ:-4.06e-01+2.67e-02j\tB: -92.15 G: -49.04, C:0.00\n",
      "[-92.1452179  -80.42806244 -49.04433441]\n",
      "dc: -9.28e-03-2.38e-01j\tI:  4.00e-01\tQ:-4.01e-01+2.09e-02j\tB: -101.96 G: -49.09, C:0.00\n",
      "[-101.96414185  -82.26255035  -49.0893631 ]\n",
      "dc: -9.28e-03-2.38e-01j\tI:  4.00e-01\tQ:-3.98e-01+2.13e-02j\tB: -94.61 G: -49.13, C:0.00\n",
      "[-94.61380005 -79.30964661 -49.1296463 ]\n",
      "dc: -9.28e-03-2.38e-01j\tI:  4.00e-01\tQ:-4.03e-01+2.23e-02j\tB: -103.00 G: -49.07, C:0.00\n",
      "[-103.00376129  -79.10497284  -49.07316589]\n",
      "dc: -9.28e-03-2.38e-01j\tI:  4.00e-01\tQ:-4.03e-01+2.01e-02j\tB: -101.45 G: -49.07, C:0.00\n",
      "[-101.45204926  -80.50177002  -49.06703949]\n",
      "dc: -9.28e-03-2.38e-01j\tI:  4.00e-01\tQ:-4.03e-01+2.08e-02j\tB: -103.47 G: -49.08, C:0.00\n",
      "[-103.46543884  -79.14823914  -49.07522202]\n",
      "dc: -9.28e-03-2.38e-01j\tI:  4.00e-01\tQ:-4.04e-01+2.23e-02j\tB: -99.77 G: -49.06, C:0.00\n",
      "[-99.77210236 -83.93998718 -49.05678558]\n",
      "dc: -9.28e-03-2.38e-01j\tI:  4.00e-01\tQ:-4.02e-01+2.12e-02j\tB: -103.76 G: -49.08, C:0.00\n",
      "[-103.7599411   -79.60074615  -49.08227158]\n",
      "dc: -9.28e-03-2.38e-01j\tI:  4.00e-01\tQ:-4.02e-01+1.98e-02j\tB: -100.74 G: -49.08, C:0.00\n",
      "[-100.73636627  -81.08652496  -49.08340454]\n",
      "dc: -9.28e-03-2.38e-01j\tI:  4.00e-01\tQ:-4.03e-01+2.16e-02j\tB: -104.16 G: -49.08, C:0.00\n",
      "[-104.15891266  -83.68304443  -49.0753212 ]\n",
      "dc: -9.28e-03-2.38e-01j\tI:  4.00e-01\tQ:-4.02e-01+2.20e-02j\tB: -103.55 G: -49.08, C:0.00\n",
      "[-103.55475616  -83.44515228  -49.0823822 ]\n",
      "dc: -9.28e-03-2.38e-01j\tI:  4.00e-01\tQ:-4.02e-01+2.17e-02j\tB: -104.08 G: -49.08, C:0.00\n",
      "[-104.08109283  -85.10274506  -49.08190918]\n",
      "dc: -9.28e-03-2.38e-01j\tI:  4.00e-01\tQ:-4.03e-01+2.22e-02j\tB: -103.42 G: -49.07, C:0.00\n",
      "[-103.42076874  -80.1272049   -49.07455063]\n",
      "dc: -9.28e-03-2.38e-01j\tI:  4.00e-01\tQ:-4.02e-01+2.14e-02j\tB: -103.91 G: -49.08, C:0.00\n",
      "[-103.90962219  -79.91271973  -49.08037186]\n",
      "dc: -9.28e-03-2.38e-01j\tI:  4.00e-01\tQ:-4.03e-01+2.19e-02j\tB: -103.74 G: -49.08, C:0.00\n",
      "[-103.74079132  -83.23512268  -49.07610321]\n",
      "dc: -9.28e-03-2.38e-01j\tI:  4.00e-01\tQ:-4.02e-01+2.16e-02j\tB: -104.35 G: -49.08, C:0.00\n",
      "[-104.35027313  -79.93084717  -49.07824326]\n",
      "dc: -9.28e-03-2.38e-01j\tI:  4.00e-01\tQ:-4.03e-01+2.15e-02j\tB: -103.64 G: -49.07, C:0.00\n",
      "[-103.64372253  -83.75479889  -49.07270432]\n",
      "dc: -9.28e-03-2.38e-01j\tI:  4.00e-01\tQ:-4.02e-01+2.17e-02j\tB: -103.97 G: -49.08, C:0.00\n",
      "[-103.96692657  -80.68802643  -49.0784874 ]\n",
      "dc: -9.28e-03-2.38e-01j\tI:  4.00e-01\tQ:-4.03e-01+2.16e-02j\tB: -103.99 G: -49.08, C:0.00\n",
      "[-103.98511505  -80.02952576  -49.0790062 ]\n",
      "dc: -9.28e-03-2.38e-01j\tI:  4.00e-01\tQ:-4.02e-01+2.16e-02j\tB: -104.22 G: -49.08, C:0.00\n",
      "[-104.22212219  -85.46548462  -49.07899475]\n",
      "dc: -9.28e-03-2.38e-01j\tI:  4.00e-01\tQ:-4.02e-01+2.16e-02j\tB: -103.72 G: -49.08, C:0.00\n",
      "[-103.71531677  -84.58216095  -49.08089447]\n",
      "dc: -9.28e-03-2.38e-01j\tI:  4.00e-01\tQ:-4.02e-01+2.16e-02j\tB: -104.06 G: -49.08, C:0.00\n",
      "[-104.0550766   -83.35227203  -49.07796097]\n",
      "dc: -9.28e-03-2.38e-01j\tI:  4.00e-01\tQ:-4.02e-01+2.16e-02j\tB: -103.93 G: -49.08, C:0.00\n",
      "[-103.92673492  -85.12395477  -49.07816315]\n",
      "dc: -9.28e-03-2.38e-01j\tI:  4.00e-01\tQ:-4.02e-01+2.16e-02j\tB: -103.92 G: -49.08, C:0.00\n",
      "[-103.92408752  -85.78987122  -49.07781219]\n",
      "dc: -9.28e-03-2.38e-01j\tI:  4.00e-01\tQ:-4.02e-01+2.16e-02j\tB: -104.10 G: -49.08, C:0.00\n",
      "[-104.10358429  -80.43011475  -49.07901382]\n",
      "dc: -9.28e-03-2.38e-01j\tI:  4.00e-01\tQ:-4.02e-01+2.16e-02j\tB: -104.31 G: -49.08, C:0.00\n",
      "[-104.31323242  -81.78344727  -49.07691574]\n",
      "dc: -9.28e-03-2.38e-01j\tI:  4.00e-01\tQ:-4.02e-01+2.15e-02j\tB: -104.29 G: -49.08, C:0.00\n",
      "[-104.2935791   -80.55715942  -49.07529449]\n",
      "dc: -9.28e-03-2.38e-01j\tI:  4.00e-01\tQ:-4.02e-01+2.16e-02j\tB: -104.23 G: -49.07, C:0.00\n",
      "[-104.22948456  -81.06242371  -49.07417679]\n"
     ]
    },
    {
     "name": "stdout",
     "output_type": "stream",
     "text": [
      "dc: -9.28e-03-2.38e-01j\tI:  4.00e-01\tQ:-4.02e-01+2.16e-02j\tB: -103.96 G: -49.07, C:0.00\n",
      "[-103.96362305  -78.75150299  -49.07449722]\n",
      "dc: -9.28e-03-2.38e-01j\tI:  4.00e-01\tQ:-4.02e-01+2.16e-02j\tB: -104.19 G: -49.08, C:0.00\n",
      "[-104.19113922  -80.2896347   -49.07697296]\n",
      "dc: -9.28e-03-2.38e-01j\tI:  4.00e-01\tQ:-4.02e-01+2.16e-02j\tB: -104.17 G: -49.07, C:0.00\n",
      "[-104.16925812  -79.09326172  -49.07359314]\n",
      "dc: -9.28e-03-2.38e-01j\tI:  4.00e-01\tQ:-4.02e-01+2.16e-02j\tB: -104.36 G: -49.07, C:0.00\n",
      "[-104.36333466  -76.30097198  -49.07418442]\n",
      "dc: -9.28e-03-2.38e-01j\tI:  4.00e-01\tQ:-4.02e-01+2.16e-02j\tB: -104.01 G: -49.07, C:0.00\n",
      "[-104.01387024  -81.24116516  -49.07429886]\n",
      "dc: -9.28e-03-2.38e-01j\tI:  4.00e-01\tQ:-4.02e-01+2.16e-02j\tB: -104.16 G: -49.07, C:0.00\n",
      "[-104.15717316  -79.31900024  -49.07424545]\n",
      "dc: -9.28e-03-2.38e-01j\tI:  4.00e-01\tQ:-4.02e-01+2.16e-02j\tB: -103.86 G: -49.07, C:0.00\n",
      "[-103.85850525  -78.5941925   -49.07275772]\n",
      "dc: -9.28e-03-2.38e-01j\tI:  4.00e-01\tQ:-4.02e-01+2.16e-02j\tB: -104.00 G: -49.07, C:0.00\n",
      "[-103.99556732  -79.88529968  -49.07347107]\n",
      "dc: -9.28e-03-2.38e-01j\tI:  4.00e-01\tQ:-4.02e-01+2.16e-02j\tB: -104.00 G: -49.07, C:0.00\n",
      "[-104.00080872  -79.94126892  -49.07266235]\n",
      "dc: -9.28e-03-2.38e-01j\tI:  4.00e-01\tQ:-4.02e-01+2.16e-02j\tB: -103.72 G: -49.07, C:0.00\n",
      "[-103.72250366  -83.25984192  -49.07304382]\n",
      "dc: -9.28e-03-2.38e-01j\tI:  4.00e-01\tQ:-4.02e-01+2.16e-02j\tB: -104.10 G: -49.07, C:0.00\n",
      "[-104.09811401  -85.29784393  -49.07125092]\n",
      "dc: -9.28e-03-2.38e-01j\tI:  4.00e-01\tQ:-4.02e-01+2.16e-02j\tB: -103.80 G: -49.07, C:0.00\n",
      "[-103.80104065  -81.46315765  -49.07003021]\n",
      "dc: -9.28e-03-2.38e-01j\tI:  4.00e-01\tQ:-4.02e-01+2.16e-02j\tB: -104.11 G: -49.07, C:0.00\n",
      "[-104.10675812  -81.2071228   -49.07082748]\n",
      "dc: -9.28e-03-2.38e-01j\tI:  4.00e-01\tQ:-4.02e-01+2.16e-02j\tB: -103.99 G: -49.07, C:0.00\n",
      "[-103.99282837  -85.21068573  -49.07008362]\n",
      "dc: -9.28e-03-2.38e-01j\tI:  4.00e-01\tQ:-4.02e-01+2.16e-02j\tB: -104.21 G: -49.07, C:0.00\n",
      "[-104.20701599  -78.69833374  -49.06945801]\n",
      "dc: -9.28e-03-2.38e-01j\tI:  4.00e-01\tQ:-4.02e-01+2.16e-02j\tB: -104.05 G: -49.07, C:0.00\n",
      "[-104.05342865  -80.0848999   -49.06976318]\n",
      "dc: -9.28e-03-2.38e-01j\tI:  4.00e-01\tQ:-4.02e-01+2.16e-02j\tB: -104.15 G: -49.07, C:0.00\n",
      "[-104.1541214   -84.48776245  -49.06829071]\n",
      "dc: -9.28e-03-2.38e-01j\tI:  4.00e-01\tQ:-4.02e-01+2.16e-02j\tB: -103.90 G: -49.07, C:0.00\n",
      "[-103.90090179  -79.51326752  -49.06794739]\n",
      "dc: -9.28e-03-2.38e-01j\tI:  4.00e-01\tQ:-4.02e-01+2.16e-02j\tB: -104.05 G: -49.07, C:0.00\n",
      "[-104.05214691  -79.32068634  -49.06797409]\n",
      "dc: -9.28e-03-2.38e-01j\tI:  4.00e-01\tQ:-4.02e-01+2.16e-02j\tB: -104.18 G: -49.07, C:0.00\n",
      "[-104.18148041  -77.90280151  -49.06923294]\n",
      "dc: -9.28e-03-2.38e-01j\tI:  4.00e-01\tQ:-4.02e-01+2.16e-02j\tB: -103.75 G: -49.07, C:0.00\n",
      "[-103.75056458  -79.6529007   -49.06871796]\n",
      "Warning: Maximum number of iterations has been exceeded.\n",
      "dc: -9.28e-03-2.38e-01j\tI:  4.00e-01\tQ:-4.02e-01+2.16e-02j\tB: -78.86 G: -49.07, C:0.00\n",
      "[-105.45974731 -105.79586029 -101.80025482 -104.28424835  -82.78834534\n",
      "  -49.06832886 -104.05474091 -104.95310974 -106.32047272]\n",
      "d:\\data/calibrations/iq-rf/ frequency-4.129e+09-if-7.9e+07-sideband_id-     0\n",
      "expected str, bytes or os.PathLike object, not NoneType\n",
      "79000000.0 4129000000.0\n",
      "dc: -9.28e-03-2.38e-01j\tI:  4.00e-01\tQ:-5.00e-01+2.00e-01j\tB: -53.78 G: -40.33, C:0.00\n",
      "[-53.7750206  -77.99828339 -40.33267212]\n",
      "dc: -9.28e-03-2.38e-01j\tI:  4.00e-01\tQ:-5.25e-01+2.00e-01j\tB: -53.01 G: -40.10, C:0.00\n",
      "[-53.01499939 -80.1131897  -40.09693527]\n",
      "dc: -9.28e-03-2.38e-01j\tI:  4.00e-01\tQ:-5.00e-01+2.10e-01j\tB: -53.39 G: -40.32, C:0.00\n",
      "[-53.39008713 -82.59391785 -40.32323837]\n",
      "dc: -9.28e-03-2.38e-01j\tI:  4.00e-01\tQ:-4.75e-01+2.10e-01j\tB: -54.04 G: -40.56, C:0.00\n",
      "[-54.03519058 -81.52933502 -40.56474686]\n",
      "dc: -9.28e-03-2.38e-01j\tI:  4.00e-01\tQ:-4.50e-01+2.15e-01j\tB: -54.33 G: -40.80, C:0.00\n",
      "[-54.3282547  -81.94965363 -40.79752731]\n",
      "dc: -9.28e-03-2.38e-01j\tI:  4.00e-01\tQ:-4.50e-01+2.05e-01j\tB: -54.84 G: -40.82, C:0.00\n",
      "[-54.84364319 -80.21498871 -40.81726456]\n",
      "dc: -9.28e-03-2.38e-01j\tI:  4.00e-01\tQ:-4.25e-01+2.02e-01j\tB: -55.41 G: -41.03, C:0.00\n",
      "[-55.40764236 -77.21875763 -41.02738571]\n",
      "dc: -9.28e-03-2.38e-01j\tI:  4.00e-01\tQ:-3.75e-01+2.17e-01j\tB: -54.58 G: -41.53, C:0.00\n",
      "[-54.58020782 -84.81550598 -41.52891159]\n",
      "dc: -9.28e-03-2.38e-01j\tI:  4.00e-01\tQ:-4.69e-01+2.04e-01j\tB: -54.46 G: -40.63, C:0.00\n",
      "[-54.45529938 -81.93218994 -40.63052368]\n",
      "dc: -9.28e-03-2.38e-01j\tI:  4.00e-01\tQ:-4.44e-01+1.92e-01j\tB: -55.72 G: -40.90, C:0.00\n",
      "[-55.72021103 -84.69262695 -40.89883804]\n",
      "dc: -9.28e-03-2.38e-01j\tI:  4.00e-01\tQ:-4.41e-01+1.80e-01j\tB: -56.51 G: -40.94, C:0.00\n",
      "[-56.50613022 -79.34606934 -40.94118881]\n",
      "dc: -9.28e-03-2.38e-01j\tI:  4.00e-01\tQ:-3.97e-01+1.78e-01j\tB: -57.20 G: -41.41, C:0.00\n",
      "[-57.19558716 -78.82450867 -41.40653229]\n",
      "dc: -9.28e-03-2.38e-01j\tI:  4.00e-01\tQ:-3.61e-01+1.65e-01j\tB: -57.72 G: -41.81, C:0.00\n",
      "[-57.71869278 -81.69503021 -41.80735397]\n",
      "dc: -9.28e-03-2.38e-01j\tI:  4.00e-01\tQ:-3.77e-01+1.43e-01j\tB: -60.07 G: -41.66, C:0.00\n",
      "[-60.06800079 -80.42984772 -41.6601181 ]\n",
      "dc: -9.28e-03-2.38e-01j\tI:  4.00e-01\tQ:-3.52e-01+1.14e-01j\tB: -61.84 G: -41.95, C:0.00\n",
      "[-61.84103775 -81.61335754 -41.95461655]\n",
      "dc: -9.28e-03-2.38e-01j\tI:  4.00e-01\tQ:-2.73e-01+9.88e-02j\tB: -56.23 G: -42.93, C:0.00\n",
      "[-56.22796249 -80.13785553 -42.92773438]\n",
      "dc: -9.28e-03-2.38e-01j\tI:  4.00e-01\tQ:-3.99e-01+1.60e-01j\tB: -58.72 G: -41.36, C:0.00\n",
      "[-58.72090912 -82.33298492 -41.36308289]\n",
      "dc: -9.28e-03-2.38e-01j\tI:  4.00e-01\tQ:-3.90e-01+1.08e-01j\tB: -65.23 G: -41.54, C:0.00\n",
      "[-65.2268219  -77.16117859 -41.54079819]\n",
      "dc: -9.28e-03-2.38e-01j\tI:  4.00e-01\tQ:-4.05e-01+7.95e-02j\tB: -73.17 G: -41.40, C:0.00\n",
      "[-73.17347717 -81.95575714 -41.39575195]\n",
      "dc: -9.28e-03-2.38e-01j\tI:  4.00e-01\tQ:-3.58e-01+3.32e-02j\tB: -64.73 G: -41.88, C:0.00\n",
      "[-64.72808838 -82.01454926 -41.87715912]\n",
      "dc: -9.28e-03-2.38e-01j\tI:  4.00e-01\tQ:-4.11e-01-9.77e-04j\tB: -62.20 G: -41.29, C:0.00\n",
      "[-62.19899368 -81.72491455 -41.28910065]\n",
      "dc: -9.28e-03-2.38e-01j\tI:  4.00e-01\tQ:-3.96e-01+2.77e-02j\tB: -67.57 G: -41.43, C:0.00\n",
      "[-67.57221985 -82.34611511 -41.42556763]\n",
      "dc: -9.28e-03-2.38e-01j\tI:  4.00e-01\tQ:-4.42e-01+7.40e-02j\tB: -65.10 G: -40.99, C:0.00\n",
      "[-65.10137939 -79.96181488 -40.99288177]\n",
      "dc: -9.28e-03-2.38e-01j\tI:  4.00e-01\tQ:-4.21e-01+6.38e-02j\tB: -70.75 G: -41.22, C:0.00\n",
      "[-70.75402832 -79.11717987 -41.21566391]\n",
      "dc: -9.28e-03-2.38e-01j\tI:  4.00e-01\tQ:-4.30e-01+1.16e-01j\tB: -62.59 G: -41.11, C:0.00\n",
      "[-62.59118271 -81.99138641 -41.10910797]\n",
      "dc: -9.28e-03-2.38e-01j\tI:  4.00e-01\tQ:-4.04e-01+4.97e-02j\tB: -74.91 G: -41.40, C:0.00\n",
      "[-74.9093399  -80.91133118 -41.39828873]\n",
      "dc: -9.28e-03-2.38e-01j\tI:  4.00e-01\tQ:-3.88e-01+6.54e-02j\tB: -78.81 G: -41.53, C:0.00\n",
      "[-78.80944824 -76.21468353 -41.52845764]\n",
      "dc: -9.28e-03-2.38e-01j\tI:  4.00e-01\tQ:-3.71e-01+6.62e-02j\tB: -70.10 G: -41.75, C:0.00\n",
      "[-70.09733582 -80.62761688 -41.75220108]\n",
      "dc: -9.28e-03-2.38e-01j\tI:  4.00e-01\tQ:-3.88e-01+3.55e-02j\tB: -69.30 G: -41.57, C:0.00\n",
      "[-69.29589081 -78.92313385 -41.56608963]\n",
      "dc: -9.28e-03-2.38e-01j\tI:  4.00e-01\tQ:-4.00e-01+6.85e-02j\tB: -81.92 G: -41.44, C:0.00\n",
      "[-81.92006683 -77.29264832 -41.44156265]\n",
      "dc: -9.28e-03-2.38e-01j\tI:  4.00e-01\tQ:-3.84e-01+8.42e-02j\tB: -70.41 G: -41.62, C:0.00\n",
      "[-70.40570831 -78.12892151 -41.61791611]\n",
      "dc: -9.28e-03-2.38e-01j\tI:  4.00e-01\tQ:-3.99e-01+5.83e-02j\tB: -84.41 G: -41.40, C:0.00\n",
      "[-84.41204071 -77.6013031  -41.40442276]\n",
      "dc: -9.28e-03-2.38e-01j\tI:  4.00e-01\tQ:-4.12e-01+6.14e-02j\tB: -74.99 G: -41.27, C:0.00\n",
      "[-74.99259949 -77.22658539 -41.27455902]\n",
      "dc: -9.28e-03-2.38e-01j\tI:  4.00e-01\tQ:-3.94e-01+6.44e-02j\tB: -87.24 G: -41.51, C:0.00\n",
      "[-87.23638153 -76.03247833 -41.51111984]\n",
      "dc: -9.28e-03-2.38e-01j\tI:  4.00e-01\tQ:-3.93e-01+5.42e-02j\tB: -78.85 G: -41.47, C:0.00\n",
      "[-78.8469696  -81.8921814  -41.47227097]\n",
      "dc: -9.28e-03-2.38e-01j\tI:  4.00e-01\tQ:-3.98e-01+6.49e-02j\tB: -89.85 G: -41.46, C:0.00\n",
      "[-89.84776306 -80.88329315 -41.46399307]\n",
      "dc: -9.28e-03-2.38e-01j\tI:  4.00e-01\tQ:-3.93e-01+7.10e-02j\tB: -79.19 G: -41.52, C:0.00\n",
      "[-79.18720245 -82.64563751 -41.52251053]\n",
      "dc: -9.28e-03-2.38e-01j\tI:  4.00e-01\tQ:-3.98e-01+6.15e-02j\tB: -94.65 G: -41.47, C:0.00\n",
      "[-94.64900208 -82.72680664 -41.47073746]\n",
      "dc: -9.28e-03-2.38e-01j\tI:  4.00e-01\tQ:-4.02e-01+6.20e-02j\tB: -83.73 G: -41.42, C:0.00\n",
      "[-83.73325348 -80.47358704 -41.41500092]\n"
     ]
    },
    {
     "name": "stdout",
     "output_type": "stream",
     "text": [
      "dc: -9.28e-03-2.38e-01j\tI:  4.00e-01\tQ:-3.96e-01+6.38e-02j\tB: -94.59 G: -41.49, C:0.00\n",
      "[-94.58847809 -77.1442337  -41.49113846]\n",
      "dc: -9.28e-03-2.38e-01j\tI:  4.00e-01\tQ:-3.95e-01+6.03e-02j\tB: -88.78 G: -41.50, C:0.00\n",
      "[-88.78431702 -83.94217682 -41.50196075]\n",
      "dc: -9.28e-03-2.38e-01j\tI:  4.00e-01\tQ:-3.98e-01+6.38e-02j\tB: -95.90 G: -41.48, C:0.00\n",
      "[-95.89532471 -77.90942383 -41.47744751]\n",
      "dc: -9.28e-03-2.38e-01j\tI:  4.00e-01\tQ:-3.99e-01+6.15e-02j\tB: -89.51 G: -41.45, C:0.00\n",
      "[-89.50692749 -79.76428223 -41.45430756]\n",
      "dc: -9.28e-03-2.38e-01j\tI:  4.00e-01\tQ:-3.97e-01+6.32e-02j\tB: -100.79 G: -41.49, C:0.00\n",
      "[-100.7948761   -80.79797363  -41.48806381]\n",
      "dc: -9.28e-03-2.38e-01j\tI:  4.00e-01\tQ:-3.97e-01+6.55e-02j\tB: -89.50 G: -41.44, C:0.00\n",
      "[-89.49632263 -78.50170135 -41.44024658]\n",
      "dc: -9.28e-03-2.38e-01j\tI:  4.00e-01\tQ:-3.97e-01+6.25e-02j\tB: -100.36 G: -41.48, C:0.00\n",
      "[-100.35916901  -79.4622345   -41.48323059]\n",
      "dc: -9.28e-03-2.38e-01j\tI:  4.00e-01\tQ:-3.97e-01+6.19e-02j\tB: -97.91 G: -41.48, C:0.00\n",
      "[-97.90801239 -79.75097656 -41.48477173]\n",
      "dc: -9.28e-03-2.38e-01j\tI:  4.00e-01\tQ:-3.97e-01+6.24e-02j\tB: -101.99 G: -41.48, C:0.00\n",
      "[-101.99058533  -80.11151123  -41.48263931]\n",
      "dc: -9.28e-03-2.38e-01j\tI:  4.00e-01\tQ:-3.96e-01+6.31e-02j\tB: -98.30 G: -41.49, C:0.00\n",
      "[-98.30105591 -78.62850189 -41.4937973 ]\n",
      "dc: -9.28e-03-2.38e-01j\tI:  4.00e-01\tQ:-3.97e-01+6.26e-02j\tB: -102.85 G: -41.44, C:0.00\n",
      "[-102.8459549   -79.84924316  -41.43750381]\n",
      "dc: -9.28e-03-2.38e-01j\tI:  4.00e-01\tQ:-3.97e-01+6.18e-02j\tB: -97.49 G: -41.44, C:0.00\n",
      "[-97.48995972 -78.42459869 -41.43585968]\n",
      "dc: -9.28e-03-2.38e-01j\tI:  4.00e-01\tQ:-3.97e-01+6.29e-02j\tB: -103.23 G: -41.48, C:0.00\n",
      "[-103.23087311  -77.89279175  -41.47924805]\n",
      "dc: -9.28e-03-2.38e-01j\tI:  4.00e-01\tQ:-3.97e-01+6.31e-02j\tB: -101.78 G: -41.48, C:0.00\n",
      "[-101.7766037   -78.58934784  -41.47801208]\n",
      "dc: -9.28e-03-2.38e-01j\tI:  4.00e-01\tQ:-3.97e-01+6.26e-02j\tB: -102.91 G: -41.48, C:0.00\n",
      "[-102.91191101  -78.84210205  -41.47654343]\n",
      "dc: -9.28e-03-2.38e-01j\tI:  4.00e-01\tQ:-3.97e-01+6.28e-02j\tB: -102.37 G: -41.48, C:0.00\n",
      "[-102.36805725  -77.6020813   -41.48088837]\n",
      "dc: -9.28e-03-2.38e-01j\tI:  4.00e-01\tQ:-3.97e-01+6.27e-02j\tB: -103.28 G: -41.43, C:0.00\n",
      "[-103.2800827   -77.17715454  -41.43272018]\n",
      "dc: -9.28e-03-2.38e-01j\tI:  4.00e-01\tQ:-3.97e-01+6.30e-02j\tB: -102.53 G: -41.48, C:0.00\n",
      "[-102.52941132  -77.97688293  -41.48039627]\n",
      "dc: -9.28e-03-2.38e-01j\tI:  4.00e-01\tQ:-3.97e-01+6.27e-02j\tB: -103.42 G: -41.43, C:0.00\n",
      "[-103.42453766  -81.54772186  -41.43341446]\n",
      "dc: -9.28e-03-2.38e-01j\tI:  4.00e-01\tQ:-3.97e-01+6.25e-02j\tB: -102.33 G: -41.48, C:0.00\n",
      "[-102.3328476   -80.99284363  -41.48017502]\n",
      "dc: -9.28e-03-2.38e-01j\tI:  4.00e-01\tQ:-3.97e-01+6.28e-02j\tB: -103.06 G: -41.43, C:0.00\n",
      "[-103.06086731  -82.88039398  -41.43268585]\n",
      "dc: -9.28e-03-2.38e-01j\tI:  4.00e-01\tQ:-3.97e-01+6.27e-02j\tB: -103.02 G: -41.43, C:0.00\n",
      "[-103.01909637  -81.30591583  -41.43453979]\n",
      "dc: -9.28e-03-2.38e-01j\tI:  4.00e-01\tQ:-3.97e-01+6.28e-02j\tB: -103.66 G: -41.48, C:0.00\n",
      "[-103.65982056  -80.34214783  -41.48130798]\n",
      "dc: -9.28e-03-2.38e-01j\tI:  4.00e-01\tQ:-3.97e-01+6.28e-02j\tB: -103.24 G: -41.48, C:0.00\n",
      "[-103.24472046  -83.91310883  -41.48136139]\n",
      "dc: -9.28e-03-2.38e-01j\tI:  4.00e-01\tQ:-3.97e-01+6.27e-02j\tB: -103.32 G: -41.44, C:0.00\n",
      "[-103.31620026  -79.94051361  -41.44182968]\n",
      "dc: -9.28e-03-2.38e-01j\tI:  4.00e-01\tQ:-3.97e-01+6.27e-02j\tB: -103.31 G: -41.45, C:0.00\n",
      "[-103.30667114  -78.97306061  -41.4535141 ]\n",
      "dc: -9.28e-03-2.38e-01j\tI:  4.00e-01\tQ:-3.97e-01+6.27e-02j\tB: -103.08 G: -41.44, C:0.00\n",
      "[-103.08461761  -79.27828217  -41.43558121]\n",
      "dc: -9.28e-03-2.38e-01j\tI:  4.00e-01\tQ:-3.97e-01+6.27e-02j\tB: -103.42 G: -41.48, C:0.00\n",
      "[-103.42388916  -78.01053619  -41.48217773]\n",
      "dc: -9.28e-03-2.38e-01j\tI:  4.00e-01\tQ:-3.97e-01+6.27e-02j\tB: -103.33 G: -41.48, C:0.00\n",
      "[-103.33315277  -79.39057159  -41.48181534]\n",
      "dc: -9.28e-03-2.38e-01j\tI:  4.00e-01\tQ:-3.97e-01+6.27e-02j\tB: -103.35 G: -41.49, C:0.00\n",
      "[-103.35067749  -78.57096863  -41.48532486]\n",
      "dc: -9.28e-03-2.38e-01j\tI:  4.00e-01\tQ:-3.97e-01+6.27e-02j\tB: -103.17 G: -41.44, C:0.00\n",
      "[-103.17247009  -81.08695984  -41.43748093]\n",
      "dc: -9.28e-03-2.38e-01j\tI:  4.00e-01\tQ:-3.97e-01+6.27e-02j\tB: -103.06 G: -41.48, C:0.00\n",
      "[-103.06250763  -81.6207428   -41.48269653]\n",
      "dc: -9.28e-03-2.38e-01j\tI:  4.00e-01\tQ:-3.97e-01+6.28e-02j\tB: -103.40 G: -41.49, C:0.00\n",
      "[-103.39898682  -77.47079468  -41.48532486]\n",
      "dc: -9.28e-03-2.38e-01j\tI:  4.00e-01\tQ:-3.97e-01+6.28e-02j\tB: -103.18 G: -41.48, C:0.00\n",
      "[-103.18462372  -79.48159027  -41.48266602]\n",
      "dc: -9.28e-03-2.38e-01j\tI:  4.00e-01\tQ:-3.97e-01+6.28e-02j\tB: -103.51 G: -41.48, C:0.00\n",
      "[-103.51114655  -81.62133026  -41.48374939]\n",
      "dc: -9.28e-03-2.38e-01j\tI:  4.00e-01\tQ:-3.97e-01+6.28e-02j\tB: -103.00 G: -41.44, C:0.00\n",
      "[-103.00333405  -83.30084229  -41.44093704]\n",
      "dc: -9.28e-03-2.38e-01j\tI:  4.00e-01\tQ:-3.97e-01+6.28e-02j\tB: -103.29 G: -41.44, C:0.00\n",
      "[-103.28886414  -83.48287201  -41.43703842]\n",
      "dc: -9.28e-03-2.38e-01j\tI:  4.00e-01\tQ:-3.97e-01+6.28e-02j\tB: -103.36 G: -41.44, C:0.00\n",
      "[-103.36069489  -79.02012634  -41.43926239]\n",
      "dc: -9.28e-03-2.38e-01j\tI:  4.00e-01\tQ:-3.97e-01+6.28e-02j\tB: -103.45 G: -41.48, C:0.00\n",
      "[-103.4484024   -82.9673233   -41.48308182]\n",
      "dc: -9.28e-03-2.38e-01j\tI:  4.00e-01\tQ:-3.97e-01+6.28e-02j\tB: -103.38 G: -41.48, C:0.00\n",
      "[-103.37712097  -83.43193054  -41.48105621]\n",
      "dc: -9.28e-03-2.38e-01j\tI:  4.00e-01\tQ:-3.97e-01+6.28e-02j\tB: -103.44 G: -41.48, C:0.00\n",
      "[-103.44094086  -82.81630707  -41.48289871]\n",
      "dc: -9.28e-03-2.38e-01j\tI:  4.00e-01\tQ:-3.97e-01+6.28e-02j\tB: -103.55 G: -41.48, C:0.00\n",
      "[-103.54821777  -80.2958374   -41.48107529]\n",
      "dc: -9.28e-03-2.38e-01j\tI:  4.00e-01\tQ:-3.97e-01+6.28e-02j\tB: -103.42 G: -41.48, C:0.00\n",
      "[-103.42461395  -80.59705353  -41.48007584]\n",
      "dc: -9.28e-03-2.38e-01j\tI:  4.00e-01\tQ:-3.97e-01+6.28e-02j\tB: -103.43 G: -41.48, C:0.00\n",
      "[-103.43169403  -79.36856079  -41.47871017]\n",
      "dc: -9.28e-03-2.38e-01j\tI:  4.00e-01\tQ:-3.97e-01+6.28e-02j\tB: -103.59 G: -41.48, C:0.00\n",
      "[-103.59083557  -83.35140991  -41.47953415]\n",
      "dc: -9.28e-03-2.38e-01j\tI:  4.00e-01\tQ:-3.97e-01+6.28e-02j\tB: -103.34 G: -41.43, C:0.00\n",
      "[-103.34475708  -81.28837585  -41.43387222]\n",
      "dc: -9.28e-03-2.38e-01j\tI:  4.00e-01\tQ:-3.97e-01+6.28e-02j\tB: -103.78 G: -41.43, C:0.00\n",
      "[-103.77696228  -82.60780334  -41.43227386]\n",
      "dc: -9.28e-03-2.38e-01j\tI:  4.00e-01\tQ:-3.97e-01+6.28e-02j\tB: -103.54 G: -41.48, C:0.00\n",
      "[-103.537117    -82.32819366  -41.48138046]\n",
      "dc: -9.28e-03-2.38e-01j\tI:  4.00e-01\tQ:-3.97e-01+6.28e-02j\tB: -103.43 G: -41.48, C:0.00\n",
      "[-103.42671967  -80.9039917   -41.47898865]\n",
      "dc: -9.28e-03-2.38e-01j\tI:  4.00e-01\tQ:-3.97e-01+6.28e-02j\tB: -103.00 G: -41.48, C:0.00\n",
      "[-103.00130463  -81.93958282  -41.47769165]\n",
      "dc: -9.28e-03-2.38e-01j\tI:  4.00e-01\tQ:-3.97e-01+6.28e-02j\tB: -103.71 G: -41.48, C:0.00\n",
      "[-103.70966339  -85.36334229  -41.477108  ]\n",
      "dc: -9.28e-03-2.38e-01j\tI:  4.00e-01\tQ:-3.97e-01+6.28e-02j\tB: -103.25 G: -41.48, C:0.00\n",
      "[-103.2530899   -83.96216583  -41.4806366 ]\n",
      "Warning: Maximum number of iterations has been exceeded.\n",
      "dc: -9.28e-03-2.38e-01j\tI:  4.00e-01\tQ:-3.97e-01+6.28e-02j\tB: -78.83 G: -41.48, C:0.00\n",
      "[-102.74780273 -103.29090881 -101.92160797 -103.37036133  -83.42382812\n",
      "  -41.47783661 -104.69886017 -104.31916046 -104.12609863]\n",
      "d:\\data/calibrations/iq-rf/ frequency-4.091e+09-if-4.066e+07-sideband_id-     0\n",
      "max() arg is an empty sequence\n",
      "40655000.0 4090655000.0\n",
      "dc: -9.28e-03-2.38e-01j\tI:  4.00e-01\tQ:-5.00e-01+2.00e-01j\tB: -56.54 G: -42.78, C:0.00\n",
      "[-56.54140091 -86.4620285  -42.78336334]\n",
      "dc: -9.28e-03-2.38e-01j\tI:  4.00e-01\tQ:-5.25e-01+2.00e-01j\tB: -55.73 G: -42.55, C:0.00\n",
      "[-55.7268486  -84.45558167 -42.54971695]\n",
      "dc: -9.28e-03-2.38e-01j\tI:  4.00e-01\tQ:-5.00e-01+2.10e-01j\tB: -56.10 G: -42.77, C:0.00\n",
      "[-56.10089493 -81.58724976 -42.77077866]\n",
      "dc: -9.28e-03-2.38e-01j\tI:  4.00e-01\tQ:-4.75e-01+2.10e-01j\tB: -56.78 G: -43.01, C:0.00\n",
      "[-56.78211594 -83.2871933  -43.00577545]\n",
      "dc: -9.28e-03-2.38e-01j\tI:  4.00e-01\tQ:-4.50e-01+2.15e-01j\tB: -57.03 G: -43.24, C:0.00\n",
      "[-57.02874374 -81.39192963 -43.23772049]\n",
      "dc: -9.28e-03-2.38e-01j\tI:  4.00e-01\tQ:-4.50e-01+2.05e-01j\tB: -57.58 G: -43.25, C:0.00\n",
      "[-57.5822525  -85.07804871 -43.25210571]\n",
      "dc: -9.28e-03-2.38e-01j\tI:  4.00e-01\tQ:-4.25e-01+2.02e-01j\tB: -58.08 G: -43.51, C:0.00\n",
      "[-58.07958984 -83.24298096 -43.50629044]\n",
      "dc: -9.28e-03-2.38e-01j\tI:  4.00e-01\tQ:-3.75e-01+2.17e-01j\tB: -57.08 G: -44.01, C:0.00\n",
      "[-57.0827713  -81.16468048 -44.00590897]\n"
     ]
    },
    {
     "name": "stdout",
     "output_type": "stream",
     "text": [
      "dc: -9.28e-03-2.38e-01j\tI:  4.00e-01\tQ:-4.69e-01+2.04e-01j\tB: -57.21 G: -43.07, C:0.00\n",
      "[-57.21104431 -79.8586731  -43.07290268]\n",
      "dc: -9.28e-03-2.38e-01j\tI:  4.00e-01\tQ:-4.44e-01+1.92e-01j\tB: -58.49 G: -43.33, C:0.00\n",
      "[-58.48590088 -84.25247955 -43.33308792]\n",
      "dc: -9.28e-03-2.38e-01j\tI:  4.00e-01\tQ:-4.41e-01+1.80e-01j\tB: -59.32 G: -43.38, C:0.00\n",
      "[-59.3194313  -83.09520721 -43.38221741]\n",
      "dc: -9.28e-03-2.38e-01j\tI:  4.00e-01\tQ:-3.97e-01+1.78e-01j\tB: -59.85 G: -43.83, C:0.00\n",
      "[-59.850811   -80.39116669 -43.83449173]\n",
      "dc: -9.28e-03-2.38e-01j\tI:  4.00e-01\tQ:-3.61e-01+1.65e-01j\tB: -60.14 G: -44.24, C:0.00\n",
      "[-60.13542557 -82.06525421 -44.24348831]\n",
      "dc: -9.28e-03-2.38e-01j\tI:  4.00e-01\tQ:-4.12e-01+1.56e-01j\tB: -61.78 G: -43.70, C:0.00\n",
      "[-61.77666473 -85.07264709 -43.69576263]\n",
      "dc: -9.28e-03-2.38e-01j\tI:  4.00e-01\tQ:-4.06e-01+1.33e-01j\tB: -64.40 G: -43.78, C:0.00\n",
      "[-64.4030838  -85.66268158 -43.78213882]\n",
      "dc: -9.28e-03-2.38e-01j\tI:  4.00e-01\tQ:-3.62e-01+1.31e-01j\tB: -63.05 G: -44.26, C:0.00\n",
      "[-63.04519272 -83.34506226 -44.26267242]\n",
      "dc: -9.28e-03-2.38e-01j\tI:  4.00e-01\tQ:-3.72e-01+8.59e-02j\tB: -69.12 G: -44.18, C:0.00\n",
      "[-69.1236496  -87.13768768 -44.17909622]\n",
      "dc: -9.28e-03-2.38e-01j\tI:  4.00e-01\tQ:-3.59e-01+3.97e-02j\tB: -66.19 G: -44.31, C:0.00\n",
      "[-66.18865967 -86.39172363 -44.31067276]\n",
      "dc: -9.28e-03-2.38e-01j\tI:  4.00e-01\tQ:-4.16e-01+8.78e-02j\tB: -73.59 G: -43.70, C:0.00\n",
      "[-73.58873749 -80.26685333 -43.70242691]\n",
      "dc: -9.28e-03-2.38e-01j\tI:  4.00e-01\tQ:-4.42e-01+6.61e-02j\tB: -69.44 G: -43.43, C:0.00\n",
      "[-69.44247437 -86.09320068 -43.43117905]\n",
      "dc: -9.28e-03-2.38e-01j\tI:  4.00e-01\tQ:-3.81e-01+4.06e-02j\tB: -69.68 G: -44.07, C:0.00\n",
      "[-69.6772995  -85.61978149 -44.06615448]\n",
      "dc: -9.28e-03-2.38e-01j\tI:  4.00e-01\tQ:-4.25e-01+4.25e-02j\tB: -70.74 G: -43.60, C:0.00\n",
      "[-70.73845673 -82.29171753 -43.59701157]\n",
      "dc: -9.28e-03-2.38e-01j\tI:  4.00e-01\tQ:-4.59e-01+8.97e-02j\tB: -65.43 G: -43.25, C:0.00\n",
      "[-65.43050385 -84.22550964 -43.25204468]\n",
      "dc: -9.28e-03-2.38e-01j\tI:  4.00e-01\tQ:-4.01e-01+5.29e-02j\tB: -77.14 G: -43.86, C:0.00\n",
      "[-77.14251709 -77.1301651  -43.85944748]\n",
      "dc: -9.28e-03-2.38e-01j\tI:  4.00e-01\tQ:-3.91e-01+9.82e-02j\tB: -70.19 G: -43.96, C:0.00\n",
      "[-70.1876297  -85.79619598 -43.96186066]\n",
      "dc: -9.28e-03-2.38e-01j\tI:  4.00e-01\tQ:-4.17e-01+5.64e-02j\tB: -76.85 G: -43.69, C:0.00\n",
      "[-76.84853363 -83.76807404 -43.69029999]\n",
      "dc: -9.28e-03-2.38e-01j\tI:  4.00e-01\tQ:-4.02e-01+2.15e-02j\tB: -67.53 G: -43.83, C:0.00\n",
      "[-67.52818298 -80.21284485 -43.83162308]\n",
      "dc: -9.28e-03-2.38e-01j\tI:  4.00e-01\tQ:-4.12e-01+7.12e-02j\tB: -82.83 G: -43.74, C:0.00\n",
      "[-82.83210754 -80.45523834 -43.74382019]\n",
      "dc: -9.28e-03-2.38e-01j\tI:  4.00e-01\tQ:-3.96e-01+6.77e-02j\tB: -81.69 G: -43.92, C:0.00\n",
      "[-81.68997955 -80.54616547 -43.91545868]\n",
      "dc: -9.28e-03-2.38e-01j\tI:  4.00e-01\tQ:-4.08e-01+8.60e-02j\tB: -75.26 G: -43.79, C:0.00\n",
      "[-75.26348877 -82.06874847 -43.78616333]\n",
      "dc: -9.28e-03-2.38e-01j\tI:  4.00e-01\tQ:-4.03e-01+6.12e-02j\tB: -84.10 G: -43.84, C:0.00\n",
      "[-84.10253143 -82.18068695 -43.84045029]\n",
      "dc: -9.28e-03-2.38e-01j\tI:  4.00e-01\tQ:-4.18e-01+6.47e-02j\tB: -78.31 G: -43.67, C:0.00\n",
      "[-78.3110733  -84.88876343 -43.67167664]\n",
      "dc: -9.28e-03-2.38e-01j\tI:  4.00e-01\tQ:-4.02e-01+6.70e-02j\tB: -89.71 G: -43.85, C:0.00\n",
      "[-89.71001434 -80.0426712  -43.84918594]\n",
      "dc: -9.28e-03-2.38e-01j\tI:  4.00e-01\tQ:-3.92e-01+5.69e-02j\tB: -76.28 G: -43.95, C:0.00\n",
      "[-76.27964783 -85.31839752 -43.95009995]\n",
      "dc: -9.28e-03-2.38e-01j\tI:  4.00e-01\tQ:-4.07e-01+6.77e-02j\tB: -94.52 G: -43.79, C:0.00\n",
      "[-94.52232361 -85.3790741  -43.79150772]\n",
      "dc: -9.28e-03-2.38e-01j\tI:  4.00e-01\tQ:-4.06e-01+7.34e-02j\tB: -84.89 G: -43.80, C:0.00\n",
      "[-84.88951111 -84.59487915 -43.8000412 ]\n",
      "dc: -9.28e-03-2.38e-01j\tI:  4.00e-01\tQ:-4.05e-01+7.04e-02j\tB: -91.06 G: -43.81, C:0.00\n",
      "[-91.06269836 -82.67353058 -43.80860901]\n",
      "dc: -9.28e-03-2.38e-01j\tI:  4.00e-01\tQ:-4.11e-01+7.11e-02j\tB: -84.29 G: -43.76, C:0.00\n",
      "[-84.28796387 -81.46082306 -43.75716782]\n",
      "dc: -9.28e-03-2.38e-01j\tI:  4.00e-01\tQ:-4.04e-01+6.80e-02j\tB: -96.97 G: -43.83, C:0.00\n",
      "[-96.96683502 -80.58576202 -43.82608414]\n",
      "dc: -9.28e-03-2.38e-01j\tI:  4.00e-01\tQ:-4.06e-01+6.53e-02j\tB: -93.65 G: -43.81, C:0.00\n",
      "[-93.65340424 -84.32423401 -43.80652618]\n",
      "dc: -9.28e-03-2.38e-01j\tI:  4.00e-01\tQ:-4.06e-01+6.65e-02j\tB: -99.33 G: -43.81, C:0.00\n",
      "[-99.32693481 -81.31926727 -43.8067627 ]\n",
      "dc: -9.28e-03-2.38e-01j\tI:  4.00e-01\tQ:-4.03e-01+6.69e-02j\tB: -91.64 G: -43.84, C:0.00\n",
      "[-91.63857269 -84.62045288 -43.84494781]\n",
      "dc: -9.28e-03-2.38e-01j\tI:  4.00e-01\tQ:-4.06e-01+6.75e-02j\tB: -100.67 G: -43.80, C:0.00\n",
      "[-100.67228699  -84.59513855  -43.80332565]\n",
      "dc: -9.28e-03-2.38e-01j\tI:  4.00e-01\tQ:-4.08e-01+6.60e-02j\tB: -91.93 G: -43.79, C:0.00\n",
      "[-91.93256378 -85.47335815 -43.79006577]\n",
      "dc: -9.28e-03-2.38e-01j\tI:  4.00e-01\tQ:-4.05e-01+6.75e-02j\tB: -102.39 G: -43.81, C:0.00\n",
      "[-102.39308167  -81.37181854  -43.81368256]\n",
      "dc: -9.28e-03-2.38e-01j\tI:  4.00e-01\tQ:-4.05e-01+6.84e-02j\tB: -98.76 G: -43.81, C:0.00\n",
      "[-98.75588989 -79.2652359  -43.80933762]\n",
      "dc: -9.28e-03-2.38e-01j\tI:  4.00e-01\tQ:-4.06e-01+6.70e-02j\tB: -101.90 G: -43.81, C:0.00\n",
      "[-101.89836884  -80.76150513  -43.80612183]\n",
      "dc: -9.28e-03-2.38e-01j\tI:  4.00e-01\tQ:-4.05e-01+6.70e-02j\tB: -99.69 G: -43.82, C:0.00\n",
      "[-99.69164276 -80.27684784 -43.82002258]\n",
      "dc: -9.28e-03-2.38e-01j\tI:  4.00e-01\tQ:-4.06e-01+6.74e-02j\tB: -102.48 G: -43.81, C:0.00\n",
      "[-102.48161316  -81.81388092  -43.80558014]\n",
      "dc: -9.28e-03-2.38e-01j\tI:  4.00e-01\tQ:-4.05e-01+6.78e-02j\tB: -101.57 G: -43.81, C:0.00\n",
      "[-101.57013702  -84.98662567  -43.81347656]\n",
      "dc: -9.28e-03-2.38e-01j\tI:  4.00e-01\tQ:-4.05e-01+6.72e-02j\tB: -102.97 G: -43.81, C:0.00\n",
      "[-102.97293854  -83.30799866  -43.80710602]\n",
      "dc: -9.28e-03-2.38e-01j\tI:  4.00e-01\tQ:-4.06e-01+6.71e-02j\tB: -99.42 G: -43.80, C:0.00\n",
      "[-99.41660309 -84.83122253 -43.80148315]\n",
      "dc: -9.28e-03-2.38e-01j\tI:  4.00e-01\tQ:-4.05e-01+6.74e-02j\tB: -103.11 G: -43.81, C:0.00\n",
      "[-103.11321259  -85.20597839  -43.80974197]\n",
      "dc: -9.28e-03-2.38e-01j\tI:  4.00e-01\tQ:-4.05e-01+6.72e-02j\tB: -102.70 G: -43.81, C:0.00\n",
      "[-102.70433044  -83.92534637  -43.8126297 ]\n",
      "dc: -9.28e-03-2.38e-01j\tI:  4.00e-01\tQ:-4.05e-01+6.73e-02j\tB: -103.08 G: -43.81, C:0.00\n",
      "[-103.08019257  -86.55149078  -43.80997086]\n",
      "dc: -9.28e-03-2.38e-01j\tI:  4.00e-01\tQ:-4.05e-01+6.74e-02j\tB: -102.73 G: -43.79, C:0.00\n",
      "[-102.73223114  -83.51423645  -43.78500748]\n",
      "dc: -9.28e-03-2.38e-01j\tI:  4.00e-01\tQ:-4.05e-01+6.73e-02j\tB: -103.10 G: -43.81, C:0.00\n",
      "[-103.10450745  -80.40922546  -43.80516434]\n",
      "dc: -9.28e-03-2.38e-01j\tI:  4.00e-01\tQ:-4.05e-01+6.74e-02j\tB: -103.05 G: -43.81, C:0.00\n",
      "[-103.04821014  -84.37577057  -43.80571747]\n",
      "dc: -9.28e-03-2.38e-01j\tI:  4.00e-01\tQ:-4.05e-01+6.73e-02j\tB: -103.35 G: -43.81, C:0.00\n",
      "[-103.3482666   -78.85986328  -43.81288147]\n",
      "dc: -9.28e-03-2.38e-01j\tI:  4.00e-01\tQ:-4.05e-01+6.74e-02j\tB: -103.08 G: -43.81, C:0.00\n",
      "[-103.08397675  -83.73416138  -43.80747604]\n",
      "dc: -9.28e-03-2.38e-01j\tI:  4.00e-01\tQ:-4.05e-01+6.73e-02j\tB: -103.19 G: -43.81, C:0.00\n",
      "[-103.19207001  -79.64580536  -43.80793762]\n",
      "dc: -9.28e-03-2.38e-01j\tI:  4.00e-01\tQ:-4.05e-01+6.72e-02j\tB: -103.07 G: -43.81, C:0.00\n",
      "[-103.07292175  -83.38182831  -43.80665588]\n",
      "dc: -9.28e-03-2.38e-01j\tI:  4.00e-01\tQ:-4.05e-01+6.73e-02j\tB: -103.26 G: -43.81, C:0.00\n",
      "[-103.25514221  -81.06716919  -43.80661011]\n",
      "dc: -9.28e-03-2.38e-01j\tI:  4.00e-01\tQ:-4.05e-01+6.73e-02j\tB: -103.22 G: -43.81, C:0.00\n",
      "[-103.22493744  -78.43190002  -43.80751801]\n",
      "dc: -9.28e-03-2.38e-01j\tI:  4.00e-01\tQ:-4.05e-01+6.73e-02j\tB: -103.00 G: -43.81, C:0.00\n",
      "[-102.9991684   -81.01655579  -43.80786896]\n",
      "dc: -9.28e-03-2.38e-01j\tI:  4.00e-01\tQ:-4.05e-01+6.73e-02j\tB: -103.11 G: -43.81, C:0.00\n",
      "[-103.10959625  -82.60889435  -43.80784225]\n",
      "dc: -9.28e-03-2.38e-01j\tI:  4.00e-01\tQ:-4.05e-01+6.73e-02j\tB: -103.10 G: -43.81, C:0.00\n",
      "[-103.10378265  -81.09401703  -43.80740356]\n",
      "dc: -9.28e-03-2.38e-01j\tI:  4.00e-01\tQ:-4.05e-01+6.73e-02j\tB: -103.43 G: -43.81, C:0.00\n",
      "[-103.42520905  -79.56295013  -43.80833435]\n",
      "dc: -9.28e-03-2.38e-01j\tI:  4.00e-01\tQ:-4.05e-01+6.73e-02j\tB: -103.40 G: -43.81, C:0.00\n",
      "[-103.40454102  -79.53166962  -43.80738449]\n",
      "dc: -9.28e-03-2.38e-01j\tI:  4.00e-01\tQ:-4.05e-01+6.73e-02j\tB: -103.35 G: -43.81, C:0.00\n",
      "[-103.35427094  -84.2753067   -43.80826187]\n",
      "dc: -9.28e-03-2.38e-01j\tI:  4.00e-01\tQ:-4.05e-01+6.73e-02j\tB: -103.36 G: -43.81, C:0.00\n",
      "[-103.35618591  -79.60476685  -43.80922318]\n",
      "dc: -9.28e-03-2.38e-01j\tI:  4.00e-01\tQ:-4.05e-01+6.73e-02j\tB: -103.29 G: -43.81, C:0.00\n",
      "[-103.29026031  -81.51374817  -43.80724335]\n"
     ]
    },
    {
     "name": "stdout",
     "output_type": "stream",
     "text": [
      "dc: -9.28e-03-2.38e-01j\tI:  4.00e-01\tQ:-4.05e-01+6.73e-02j\tB: -103.43 G: -43.81, C:0.00\n",
      "[-103.42755127  -81.81813049  -43.80958176]\n",
      "dc: -9.28e-03-2.38e-01j\tI:  4.00e-01\tQ:-4.05e-01+6.73e-02j\tB: -103.10 G: -43.81, C:0.00\n",
      "[-103.09643555  -85.0017395   -43.8069725 ]\n",
      "dc: -9.28e-03-2.38e-01j\tI:  4.00e-01\tQ:-4.05e-01+6.73e-02j\tB: -103.51 G: -43.81, C:0.00\n",
      "[-103.50693512  -83.82984924  -43.8094368 ]\n",
      "dc: -9.28e-03-2.38e-01j\tI:  4.00e-01\tQ:-4.05e-01+6.73e-02j\tB: -103.10 G: -43.81, C:0.00\n",
      "[-103.10321045  -81.2776947   -43.80863953]\n",
      "dc: -9.28e-03-2.38e-01j\tI:  4.00e-01\tQ:-4.05e-01+6.73e-02j\tB: -103.25 G: -43.81, C:0.00\n",
      "[-103.25392151  -81.93924713  -43.80817032]\n",
      "dc: -9.28e-03-2.38e-01j\tI:  4.00e-01\tQ:-4.05e-01+6.73e-02j\tB: -103.19 G: -43.81, C:0.00\n",
      "[-103.19114685  -81.54927826  -43.80741119]\n",
      "dc: -9.28e-03-2.38e-01j\tI:  4.00e-01\tQ:-4.05e-01+6.73e-02j\tB: -103.31 G: -43.81, C:0.00\n",
      "[-103.30748749  -80.89772034  -43.80981064]\n",
      "Warning: Maximum number of iterations has been exceeded.\n",
      "dc: -9.28e-03-2.38e-01j\tI:  4.00e-01\tQ:-4.05e-01+6.73e-02j\tB: -77.02 G: -43.81, C:0.00\n",
      "[-103.85298157 -103.25919342 -102.6710968  -103.14064789  -80.36632538\n",
      "  -43.80836487 -104.43156433 -104.90319824 -104.78138733]\n",
      "d:\\data/calibrations/iq-rf/ frequency-4.015e+09-if--3.53e+07-sideband_id-     0\n",
      "expected str, bytes or os.PathLike object, not NoneType\n",
      "-35300000.0 4014700000.0\n",
      "dc: -9.28e-03-2.38e-01j\tI:  4.00e-01\tQ: 5.00e-01-2.00e-01j\tB: -50.55 G: -39.31, C:0.00\n",
      "[-39.31317902 -77.81956482 -50.554039  ]\n",
      "dc: -9.28e-03-2.38e-01j\tI:  4.00e-01\tQ: 5.25e-01-2.00e-01j\tB: -50.29 G: -39.12, C:0.00\n",
      "[-39.11960602 -80.05792999 -50.28915787]\n",
      "dc: -9.28e-03-2.38e-01j\tI:  4.00e-01\tQ: 5.00e-01-2.10e-01j\tB: -50.28 G: -39.31, C:0.00\n",
      "[-39.30968475 -79.43382263 -50.28057098]\n",
      "dc: -9.28e-03-2.38e-01j\tI:  4.00e-01\tQ: 5.25e-01-1.90e-01j\tB: -50.55 G: -39.13, C:0.00\n",
      "[-39.13005829 -81.26501465 -50.55252838]\n",
      "dc: -9.28e-03-2.38e-01j\tI:  4.00e-01\tQ: 5.37e-01-1.80e-01j\tB: -50.67 G: -39.06, C:0.00\n",
      "[-39.05856705 -80.12413025 -50.66978073]\n",
      "dc: -9.28e-03-2.38e-01j\tI:  4.00e-01\tQ: 5.12e-01-1.80e-01j\tB: -50.99 G: -39.28, C:0.00\n",
      "[-39.27889633 -81.56713104 -50.99112701]\n",
      "dc: -9.28e-03-2.38e-01j\tI:  4.00e-01\tQ: 5.06e-01-1.70e-01j\tB: -51.36 G: -39.36, C:0.00\n",
      "[-39.35663605 -80.53887177 -51.3564415 ]\n",
      "dc: -9.28e-03-2.38e-01j\tI:  4.00e-01\tQ: 5.44e-01-1.50e-01j\tB: -51.38 G: -39.07, C:0.00\n",
      "[-39.07104492 -80.17077637 -51.38124847]\n",
      "dc: -9.28e-03-2.38e-01j\tI:  4.00e-01\tQ: 5.66e-01-1.25e-01j\tB: -51.64 G: -38.93, C:0.00\n",
      "[-38.92976379 -81.82666779 -51.64101791]\n",
      "dc: -9.28e-03-2.38e-01j\tI:  4.00e-01\tQ: 5.34e-01-1.15e-01j\tB: -52.60 G: -39.22, C:0.00\n",
      "[-39.21504593 -81.99913025 -52.60047913]\n",
      "dc: -9.28e-03-2.38e-01j\tI:  4.00e-01\tQ: 5.33e-01-8.25e-02j\tB: -53.67 G: -39.28, C:0.00\n",
      "[-39.27989197 -80.0553894  -53.67227173]\n",
      "dc: -9.28e-03-2.38e-01j\tI:  4.00e-01\tQ: 5.92e-01-3.75e-02j\tB: -53.05 G: -38.81, C:0.00\n",
      "[-38.81271362 -79.8640976  -53.04585648]\n",
      "dc: -9.28e-03-2.38e-01j\tI:  4.00e-01\tQ: 5.59e-01+5.00e-03j\tB: -55.23 G: -39.13, C:0.00\n",
      "[-39.1319046  -81.66913605 -55.23374176]\n",
      "dc: -9.28e-03-2.38e-01j\tI:  4.00e-01\tQ: 5.56e-01+7.00e-02j\tB: -56.22 G: -39.18, C:0.00\n",
      "[-39.1771698  -83.75684357 -56.22017288]\n",
      "dc: -9.28e-03-2.38e-01j\tI:  4.00e-01\tQ: 4.97e-01+2.50e-02j\tB: -59.39 G: -39.73, C:0.00\n",
      "[-39.72577286 -84.68057251 -59.39328384]\n",
      "dc: -9.28e-03-2.38e-01j\tI:  4.00e-01\tQ: 4.49e-01+5.62e-02j\tB: -66.06 G: -40.21, C:0.00\n",
      "[-40.21205521 -82.76412201 -66.05640411]\n",
      "dc: -9.28e-03-2.38e-01j\tI:  4.00e-01\tQ: 4.73e-01+2.09e-01j\tB: -56.36 G: -39.85, C:0.00\n",
      "[-39.84560776 -83.98547363 -56.36230469]\n",
      "dc: -9.28e-03-2.38e-01j\tI:  4.00e-01\tQ: 4.88e-01+1.36e-01j\tB: -59.60 G: -39.80, C:0.00\n",
      "[-39.80141068 -83.6026001  -59.60030746]\n",
      "dc: -9.28e-03-2.38e-01j\tI:  4.00e-01\tQ: 3.81e-01+1.22e-01j\tB: -65.49 G: -40.90, C:0.00\n",
      "[-40.90154648 -83.89063263 -65.49367523]\n",
      "dc: -9.28e-03-2.38e-01j\tI:  4.00e-01\tQ: 3.42e-01+4.25e-02j\tB: -62.92 G: -41.34, C:0.00\n",
      "[-41.33940887 -84.40045929 -62.92397308]\n",
      "dc: -9.28e-03-2.38e-01j\tI:  4.00e-01\tQ: 3.79e-01+6.59e-02j\tB: -71.11 G: -40.96, C:0.00\n",
      "[-40.96157837 -81.50366974 -71.11010742]\n",
      "dc: -9.28e-03-2.38e-01j\tI:  4.00e-01\tQ: 4.47e-01-7.81e-05j\tB: -61.08 G: -40.21, C:0.00\n",
      "[-40.20674133 -83.98902893 -61.07658005]\n",
      "dc: -9.28e-03-2.38e-01j\tI:  4.00e-01\tQ: 3.97e-01+9.16e-02j\tB: -74.98 G: -40.75, C:0.00\n",
      "[-40.75405884 -81.55762482 -74.97548676]\n",
      "dc: -9.28e-03-2.38e-01j\tI:  4.00e-01\tQ: 3.27e-01+1.01e-01j\tB: -61.62 G: -41.53, C:0.00\n",
      "[-41.53333282 -79.06239319 -61.61638641]\n",
      "dc: -9.28e-03-2.38e-01j\tI:  4.00e-01\tQ: 4.19e-01+6.75e-02j\tB: -75.53 G: -40.51, C:0.00\n",
      "[-40.50725174 -81.00479126 -75.53108978]\n",
      "dc: -9.28e-03-2.38e-01j\tI:  4.00e-01\tQ: 4.37e-01+9.33e-02j\tB: -68.37 G: -40.33, C:0.00\n",
      "[-40.32530594 -81.69576263 -68.37091064]\n",
      "dc: -9.28e-03-2.38e-01j\tI:  4.00e-01\tQ: 3.93e-01+7.27e-02j\tB: -78.81 G: -40.80, C:0.00\n",
      "[-40.80170059 -84.53092957 -78.81059265]\n",
      "dc: -9.28e-03-2.38e-01j\tI:  4.00e-01\tQ: 4.15e-01+4.86e-02j\tB: -70.66 G: -40.57, C:0.00\n",
      "[-40.57413483 -81.74475861 -70.66016388]\n",
      "dc: -9.28e-03-2.38e-01j\tI:  4.00e-01\tQ: 4.02e-01+8.09e-02j\tB: -84.34 G: -40.71, C:0.00\n",
      "[-40.7097168  -82.17446136 -84.33744812]\n",
      "dc: -9.28e-03-2.38e-01j\tI:  4.00e-01\tQ: 3.76e-01+8.61e-02j\tB: -70.36 G: -40.99, C:0.00\n",
      "[-40.98590469 -79.06614685 -70.36376953]\n",
      "dc: -9.28e-03-2.38e-01j\tI:  4.00e-01\tQ: 4.08e-01+7.21e-02j\tB: -85.69 G: -40.65, C:0.00\n",
      "[-40.64589691 -83.80911255 -85.68996429]\n",
      "dc: -9.28e-03-2.38e-01j\tI:  4.00e-01\tQ: 4.16e-01+8.03e-02j\tB: -77.54 G: -40.55, C:0.00\n",
      "[-40.55013275 -76.53510284 -77.5368576 ]\n",
      "dc: -9.28e-03-2.38e-01j\tI:  4.00e-01\tQ: 3.99e-01+7.46e-02j\tB: -85.41 G: -40.74, C:0.00\n",
      "[-40.74098206 -82.85813141 -85.41335297]\n",
      "dc: -9.28e-03-2.38e-01j\tI:  4.00e-01\tQ: 4.05e-01+6.59e-02j\tB: -80.06 G: -40.67, C:0.00\n",
      "[-40.67014313 -84.5759964  -80.05910492]\n",
      "dc: -9.28e-03-2.38e-01j\tI:  4.00e-01\tQ: 4.03e-01+7.71e-02j\tB: -92.20 G: -40.70, C:0.00\n",
      "[-40.69861603 -82.69239807 -92.20254517]\n",
      "dc: -9.28e-03-2.38e-01j\tI:  4.00e-01\tQ: 4.12e-01+7.47e-02j\tB: -82.42 G: -40.60, C:0.00\n",
      "[-40.60113525 -82.81468201 -82.41690826]\n",
      "dc: -9.28e-03-2.38e-01j\tI:  4.00e-01\tQ: 4.02e-01+7.46e-02j\tB: -92.31 G: -40.70, C:0.00\n",
      "[-40.70453262 -85.30406952 -92.31124878]\n",
      "dc: -9.28e-03-2.38e-01j\tI:  4.00e-01\tQ: 3.97e-01+7.96e-02j\tB: -81.21 G: -40.76, C:0.00\n",
      "[-40.76232529 -84.15116119 -81.20783997]\n",
      "dc: -9.28e-03-2.38e-01j\tI:  4.00e-01\tQ: 4.05e-01+7.40e-02j\tB: -94.15 G: -40.67, C:0.00\n",
      "[-40.66893768 -85.33437347 -94.15141296]\n",
      "dc: -9.28e-03-2.38e-01j\tI:  4.00e-01\tQ: 4.05e-01+7.15e-02j\tB: -87.56 G: -40.68, C:0.00\n",
      "[-40.67671204 -81.04174805 -87.56242371]\n",
      "dc: -9.28e-03-2.38e-01j\tI:  4.00e-01\tQ: 4.03e-01+7.57e-02j\tB: -97.44 G: -40.69, C:0.00\n",
      "[-40.69235992 -82.36779022 -97.43621826]\n",
      "dc: -9.28e-03-2.38e-01j\tI:  4.00e-01\tQ: 4.06e-01+7.51e-02j\tB: -93.56 G: -40.66, C:0.00\n",
      "[-40.65649414 -78.59317017 -93.56009674]\n",
      "dc: -9.28e-03-2.38e-01j\tI:  4.00e-01\tQ: 4.05e-01+7.50e-02j\tB: -97.76 G: -40.67, C:0.00\n",
      "[-40.66832352 -78.23412323 -97.76081085]\n",
      "dc: -9.28e-03-2.38e-01j\tI:  4.00e-01\tQ: 4.03e-01+7.67e-02j\tB: -95.01 G: -40.69, C:0.00\n",
      "[-40.68919754 -80.23139954 -95.00997162]\n",
      "dc: -9.28e-03-2.38e-01j\tI:  4.00e-01\tQ: 4.04e-01+7.60e-02j\tB: -99.79 G: -40.68, C:0.00\n",
      "[-40.68450928 -81.46629333 -99.78934479]\n",
      "dc: -9.28e-03-2.38e-01j\tI:  4.00e-01\tQ: 4.06e-01+7.53e-02j\tB: -96.06 G: -40.66, C:0.00\n",
      "[-40.66352844 -81.53520203 -96.05773163]\n",
      "dc: -9.28e-03-2.38e-01j\tI:  4.00e-01\tQ: 4.04e-01+7.56e-02j\tB: -101.57 G: -40.67, C:0.00\n",
      "[ -40.67019653  -83.38609314 -101.57488251]\n",
      "dc: -9.28e-03-2.38e-01j\tI:  4.00e-01\tQ: 4.02e-01+7.66e-02j\tB: -92.31 G: -40.70, C:0.00\n",
      "[-40.70220566 -86.34027863 -92.31172943]\n",
      "dc: -9.28e-03-2.38e-01j\tI:  4.00e-01\tQ: 4.04e-01+7.54e-02j\tB: -102.76 G: -40.67, C:0.00\n",
      "[ -40.674366    -78.02589417 -102.76235199]\n",
      "dc: -9.28e-03-2.38e-01j\tI:  4.00e-01\tQ: 4.05e-01+7.50e-02j\tB: -100.56 G: -40.67, C:0.00\n",
      "[ -40.67424393  -76.34585571 -100.55500031]\n",
      "dc: -9.28e-03-2.38e-01j\tI:  4.00e-01\tQ: 4.04e-01+7.52e-02j\tB: -102.64 G: -40.66, C:0.00\n",
      "[ -40.66168213  -78.35204315 -102.63859558]\n",
      "dc: -9.28e-03-2.38e-01j\tI:  4.00e-01\tQ: 4.05e-01+7.50e-02j\tB: -98.85 G: -40.65, C:0.00\n",
      "[-40.65155029 -78.19580841 -98.85281372]\n",
      "dc: -9.28e-03-2.38e-01j\tI:  4.00e-01\tQ: 4.04e-01+7.55e-02j\tB: -103.25 G: -40.68, C:0.00\n",
      "[ -40.68008423  -77.35311127 -103.24752808]\n",
      "dc: -9.28e-03-2.38e-01j\tI:  4.00e-01\tQ: 4.04e-01+7.56e-02j\tB: -103.23 G: -40.68, C:0.00\n",
      "[ -40.6775856   -75.75538635 -103.23136139]\n"
     ]
    },
    {
     "name": "stdout",
     "output_type": "stream",
     "text": [
      "dc: -9.28e-03-2.38e-01j\tI:  4.00e-01\tQ: 4.04e-01+7.57e-02j\tB: -101.20 G: -40.66, C:0.00\n",
      "[ -40.66125107  -80.4471817  -101.197258  ]\n",
      "dc: -9.28e-03-2.38e-01j\tI:  4.00e-01\tQ: 4.04e-01+7.55e-02j\tB: -103.39 G: -40.68, C:0.00\n",
      "[ -40.67760849  -76.91110229 -103.3940506 ]\n",
      "dc: -9.28e-03-2.38e-01j\tI:  4.00e-01\tQ: 4.04e-01+7.53e-02j\tB: -103.02 G: -40.68, C:0.00\n",
      "[ -40.67873001  -80.0035553  -103.01937103]\n",
      "dc: -9.28e-03-2.38e-01j\tI:  4.00e-01\tQ: 4.04e-01+7.55e-02j\tB: -103.15 G: -40.68, C:0.00\n",
      "[ -40.67880249  -77.8751297  -103.146492  ]\n",
      "dc: -9.28e-03-2.38e-01j\tI:  4.00e-01\tQ: 4.04e-01+7.55e-02j\tB: -103.15 G: -40.66, C:0.00\n",
      "[ -40.6567421   -75.72141266 -103.15383911]\n",
      "dc: -9.28e-03-2.38e-01j\tI:  4.00e-01\tQ: 4.04e-01+7.55e-02j\tB: -103.50 G: -40.68, C:0.00\n",
      "[ -40.6765976   -74.59076691 -103.50348663]\n",
      "dc: -9.28e-03-2.38e-01j\tI:  4.00e-01\tQ: 4.04e-01+7.55e-02j\tB: -103.45 G: -40.68, C:0.00\n",
      "[ -40.67888641  -76.41094971 -103.44685364]\n",
      "dc: -9.28e-03-2.38e-01j\tI:  4.00e-01\tQ: 4.04e-01+7.56e-02j\tB: -103.52 G: -40.68, C:0.00\n",
      "[ -40.67731857  -75.25987244 -103.52196503]\n",
      "dc: -9.28e-03-2.38e-01j\tI:  4.00e-01\tQ: 4.04e-01+7.57e-02j\tB: -103.18 G: -40.68, C:0.00\n",
      "[ -40.67615509  -78.80988312 -103.17886353]\n",
      "dc: -9.28e-03-2.38e-01j\tI:  4.00e-01\tQ: 4.04e-01+7.56e-02j\tB: -103.33 G: -40.68, C:0.00\n",
      "[ -40.67829514  -76.60295105 -103.3338623 ]\n",
      "dc: -9.28e-03-2.38e-01j\tI:  4.00e-01\tQ: 4.04e-01+7.56e-02j\tB: -103.44 G: -40.68, C:0.00\n",
      "[ -40.67605209  -77.60693359 -103.43827057]\n",
      "dc: -9.28e-03-2.38e-01j\tI:  4.00e-01\tQ: 4.04e-01+7.56e-02j\tB: -103.60 G: -40.68, C:0.00\n",
      "[ -40.67643356  -78.5057373  -103.60499573]\n",
      "dc: -9.28e-03-2.38e-01j\tI:  4.00e-01\tQ: 4.04e-01+7.56e-02j\tB: -103.21 G: -40.68, C:0.00\n",
      "[ -40.67560577  -74.81105804 -103.20801544]\n",
      "dc: -9.28e-03-2.38e-01j\tI:  4.00e-01\tQ: 4.04e-01+7.56e-02j\tB: -103.30 G: -40.68, C:0.00\n",
      "[ -40.67689514  -79.77352905 -103.29924774]\n",
      "dc: -9.28e-03-2.38e-01j\tI:  4.00e-01\tQ: 4.04e-01+7.56e-02j\tB: -103.42 G: -40.68, C:0.00\n",
      "[ -40.67705536  -78.5173111  -103.41888428]\n",
      "dc: -9.28e-03-2.38e-01j\tI:  4.00e-01\tQ: 4.04e-01+7.56e-02j\tB: -103.54 G: -40.68, C:0.00\n",
      "[ -40.67719269  -82.92530823 -103.54096222]\n",
      "dc: -9.28e-03-2.38e-01j\tI:  4.00e-01\tQ: 4.04e-01+7.56e-02j\tB: -103.07 G: -40.66, C:0.00\n",
      "[ -40.65564728  -82.88047028 -103.06716156]\n",
      "dc: -9.28e-03-2.38e-01j\tI:  4.00e-01\tQ: 4.04e-01+7.56e-02j\tB: -103.19 G: -40.68, C:0.00\n",
      "[ -40.67770767  -81.14746094 -103.19095612]\n",
      "dc: -9.28e-03-2.38e-01j\tI:  4.00e-01\tQ: 4.04e-01+7.56e-02j\tB: -103.50 G: -40.68, C:0.00\n",
      "[ -40.67810059  -78.80770874 -103.50203705]\n",
      "dc: -9.28e-03-2.38e-01j\tI:  4.00e-01\tQ: 4.04e-01+7.56e-02j\tB: -103.43 G: -40.68, C:0.00\n",
      "[ -40.67615509  -79.02115631 -103.43495941]\n",
      "dc: -9.28e-03-2.38e-01j\tI:  4.00e-01\tQ: 4.04e-01+7.56e-02j\tB: -103.42 G: -40.68, C:0.00\n",
      "[ -40.68018723  -76.79146576 -103.42314911]\n",
      "dc: -9.28e-03-2.38e-01j\tI:  4.00e-01\tQ: 4.04e-01+7.56e-02j\tB: -103.31 G: -40.68, C:0.00\n",
      "[ -40.67782211  -73.94723511 -103.31134796]\n",
      "dc: -9.28e-03-2.38e-01j\tI:  4.00e-01\tQ: 4.04e-01+7.56e-02j\tB: -103.55 G: -40.66, C:0.00\n",
      "[ -40.65654373  -75.98686981 -103.55410004]\n",
      "dc: -9.28e-03-2.38e-01j\tI:  4.00e-01\tQ: 4.04e-01+7.56e-02j\tB: -103.80 G: -40.68, C:0.00\n",
      "[ -40.6765213   -76.93061829 -103.80499268]\n",
      "dc: -9.28e-03-2.38e-01j\tI:  4.00e-01\tQ: 4.04e-01+7.56e-02j\tB: -103.48 G: -40.68, C:0.00\n",
      "[ -40.67703247  -77.20888519 -103.47988892]\n",
      "dc: -9.28e-03-2.38e-01j\tI:  4.00e-01\tQ: 4.04e-01+7.56e-02j\tB: -103.42 G: -40.68, C:0.00\n",
      "[ -40.67722321  -79.75566864 -103.4224472 ]\n",
      "dc: -9.28e-03-2.38e-01j\tI:  4.00e-01\tQ: 4.04e-01+7.56e-02j\tB: -103.48 G: -40.68, C:0.00\n",
      "[ -40.67757416  -83.27677917 -103.47688293]\n",
      "dc: -9.28e-03-2.38e-01j\tI:  4.00e-01\tQ: 4.04e-01+7.56e-02j\tB: -103.42 G: -40.68, C:0.00\n",
      "[ -40.67625046  -79.01772308 -103.42140961]\n",
      "dc: -9.28e-03-2.38e-01j\tI:  4.00e-01\tQ: 4.04e-01+7.56e-02j\tB: -103.48 G: -40.66, C:0.00\n",
      "[ -40.65953064  -81.37807465 -103.47640228]\n",
      "dc: -9.28e-03-2.38e-01j\tI:  4.00e-01\tQ: 4.04e-01+7.56e-02j\tB: -103.29 G: -40.68, C:0.00\n",
      "[ -40.6762886   -79.66969299 -103.29146576]\n",
      "dc: -9.28e-03-2.38e-01j\tI:  4.00e-01\tQ: 4.04e-01+7.56e-02j\tB: -103.56 G: -40.68, C:0.00\n",
      "[ -40.67730713  -79.65942383 -103.56150055]\n",
      "Warning: Maximum number of iterations has been exceeded.\n",
      "dc: -9.28e-03-2.38e-01j\tI:  4.00e-01\tQ: 4.04e-01+7.56e-02j\tB: -75.51 G: -40.68, C:0.00\n",
      "[-103.57463837 -103.22753906 -101.87708282  -40.67931366  -78.38447571\n",
      " -103.30632782 -103.79373932 -103.61958313 -104.8349762 ]\n",
      "d:\\data/calibrations/iq-rf/ frequency-3.932e+09-if--1.184e+08-sideband_id-     0\n",
      "expected str, bytes or os.PathLike object, not NoneType\n",
      "-118400000.0 3931600000.0\n",
      "dc: -9.28e-03-2.38e-01j\tI:  4.00e-01\tQ: 5.00e-01-2.00e-01j\tB: -50.61 G: -39.19, C:0.00\n",
      "[-39.19129944 -76.55281067 -50.61488342]\n",
      "dc: -9.28e-03-2.38e-01j\tI:  4.00e-01\tQ: 5.25e-01-2.00e-01j\tB: -50.37 G: -38.97, C:0.00\n",
      "[-38.97154236 -77.26881409 -50.36627197]\n",
      "dc: -9.28e-03-2.38e-01j\tI:  4.00e-01\tQ: 5.00e-01-2.10e-01j\tB: -50.36 G: -39.17, C:0.00\n",
      "[-39.16638184 -83.41757965 -50.36104584]\n",
      "dc: -9.28e-03-2.38e-01j\tI:  4.00e-01\tQ: 5.25e-01-1.90e-01j\tB: -50.61 G: -38.99, C:0.00\n",
      "[-38.99414062 -80.5725174  -50.61225128]\n",
      "dc: -9.28e-03-2.38e-01j\tI:  4.00e-01\tQ: 5.37e-01-1.80e-01j\tB: -50.71 G: -38.91, C:0.00\n",
      "[-38.90774155 -79.0923996  -50.70897293]\n",
      "dc: -9.28e-03-2.38e-01j\tI:  4.00e-01\tQ: 5.12e-01-1.80e-01j\tB: -51.02 G: -39.13, C:0.00\n",
      "[-39.12805939 -80.43761444 -51.02275467]\n",
      "dc: -9.28e-03-2.38e-01j\tI:  4.00e-01\tQ: 5.06e-01-1.70e-01j\tB: -51.37 G: -39.21, C:0.00\n",
      "[-39.20735931 -77.1854248  -51.37160492]\n",
      "dc: -9.28e-03-2.38e-01j\tI:  4.00e-01\tQ: 5.44e-01-1.50e-01j\tB: -51.40 G: -38.91, C:0.00\n",
      "[-38.9134407  -76.69682312 -51.40097046]\n",
      "dc: -9.28e-03-2.38e-01j\tI:  4.00e-01\tQ: 5.66e-01-1.25e-01j\tB: -51.65 G: -38.77, C:0.00\n",
      "[-38.7683754  -78.50305176 -51.65383148]\n",
      "dc: -9.28e-03-2.38e-01j\tI:  4.00e-01\tQ: 5.34e-01-1.15e-01j\tB: -52.56 G: -39.06, C:0.00\n",
      "[-39.05677032 -75.17977905 -52.55690002]\n",
      "dc: -9.28e-03-2.38e-01j\tI:  4.00e-01\tQ: 5.33e-01-8.25e-02j\tB: -53.57 G: -39.12, C:0.00\n",
      "[-39.1178894  -78.91295624 -53.57131577]\n",
      "dc: -9.28e-03-2.38e-01j\tI:  4.00e-01\tQ: 5.92e-01-3.75e-02j\tB: -53.06 G: -38.64, C:0.00\n",
      "[-38.64006042 -77.10428619 -53.05554962]\n",
      "dc: -9.28e-03-2.38e-01j\tI:  4.00e-01\tQ: 5.59e-01+5.00e-03j\tB: -55.16 G: -38.96, C:0.00\n",
      "[-38.95620346 -74.29273224 -55.15806961]\n",
      "dc: -9.28e-03-2.38e-01j\tI:  4.00e-01\tQ: 5.56e-01+7.00e-02j\tB: -56.31 G: -38.99, C:0.00\n",
      "[-38.99240494 -76.32422638 -56.30854034]\n",
      "dc: -9.28e-03-2.38e-01j\tI:  4.00e-01\tQ: 4.97e-01+2.50e-02j\tB: -58.96 G: -39.55, C:0.00\n",
      "[-39.55036926 -76.10661316 -58.95768738]\n",
      "dc: -9.28e-03-2.38e-01j\tI:  4.00e-01\tQ: 4.49e-01+5.62e-02j\tB: -64.74 G: -40.03, C:0.00\n",
      "[-40.02748108 -78.35899353 -64.73906708]\n",
      "dc: -9.28e-03-2.38e-01j\tI:  4.00e-01\tQ: 4.73e-01+2.09e-01j\tB: -57.32 G: -39.66, C:0.00\n",
      "[-39.65682602 -75.93312836 -57.32213211]\n",
      "dc: -9.28e-03-2.38e-01j\tI:  4.00e-01\tQ: 3.66e-01+1.95e-01j\tB: -59.40 G: -40.78, C:0.00\n",
      "[-40.78139114 -80.03218842 -59.39657974]\n",
      "dc: -9.28e-03-2.38e-01j\tI:  4.00e-01\tQ: 3.42e-01+4.25e-02j\tB: -63.12 G: -41.18, C:0.00\n",
      "[-41.18243027 -79.2713623  -63.11700821]\n",
      "dc: -9.28e-03-2.38e-01j\tI:  4.00e-01\tQ: 4.26e-01-9.63e-02j\tB: -54.90 G: -40.13, C:0.00\n",
      "[-40.13447189 -80.4496994  -54.9038887 ]\n",
      "dc: -9.28e-03-2.38e-01j\tI:  4.00e-01\tQ: 3.81e-01+1.22e-01j\tB: -68.69 G: -40.73, C:0.00\n",
      "[-40.72679138 -79.52094269 -68.68881989]\n",
      "dc: -9.28e-03-2.38e-01j\tI:  4.00e-01\tQ: 4.88e-01+1.36e-01j\tB: -60.22 G: -39.61, C:0.00\n",
      "[-39.60595703 -78.80906677 -60.22432327]\n",
      "dc: -9.28e-03-2.38e-01j\tI:  4.00e-01\tQ: 3.79e-01+6.59e-02j\tB: -70.79 G: -40.78, C:0.00\n",
      "[-40.78056335 -79.56923676 -70.78800964]\n",
      "dc: -9.28e-03-2.38e-01j\tI:  4.00e-01\tQ: 3.10e-01+1.32e-01j\tB: -60.46 G: -41.51, C:0.00\n",
      "[-41.5112381  -82.09819031 -60.45661163]\n",
      "dc: -9.28e-03-2.38e-01j\tI:  4.00e-01\tQ: 4.14e-01+7.51e-02j\tB: -73.95 G: -40.39, C:0.00\n",
      "[-40.38919449 -78.44683838 -73.95083618]\n",
      "dc: -9.28e-03-2.38e-01j\tI:  4.00e-01\tQ: 4.12e-01+1.88e-02j\tB: -63.30 G: -40.41, C:0.00\n",
      "[-40.40718079 -81.31247711 -63.30228043]\n",
      "dc: -9.28e-03-2.38e-01j\tI:  4.00e-01\tQ: 3.89e-01+9.63e-02j\tB: -78.33 G: -40.66, C:0.00\n",
      "[-40.66164398 -81.0663147  -78.32635498]\n",
      "dc: -9.28e-03-2.38e-01j\tI:  4.00e-01\tQ: 4.24e-01+1.06e-01j\tB: -70.44 G: -40.27, C:0.00\n",
      "[-40.26842117 -77.50319672 -70.44300842]\n",
      "dc: -9.28e-03-2.38e-01j\tI:  4.00e-01\tQ: 4.13e-01+9.57e-02j\tB: -76.06 G: -40.40, C:0.00\n",
      "[-40.39548111 -75.17896271 -76.06322479]\n"
     ]
    },
    {
     "name": "stdout",
     "output_type": "stream",
     "text": [
      "dc: -9.28e-03-2.38e-01j\tI:  4.00e-01\tQ: 3.87e-01+1.17e-01j\tB: -70.62 G: -40.66, C:0.00\n",
      "[-40.65971375 -77.14221954 -70.62381744]\n",
      "dc: -9.28e-03-2.38e-01j\tI:  4.00e-01\tQ: 4.08e-01+8.56e-02j\tB: -80.59 G: -40.46, C:0.00\n",
      "[-40.45823288 -77.20899963 -80.58895111]\n",
      "dc: -9.28e-03-2.38e-01j\tI:  4.00e-01\tQ: 3.83e-01+8.62e-02j\tB: -76.65 G: -40.72, C:0.00\n",
      "[-40.72471619 -74.7815094  -76.64508057]\n",
      "dc: -9.28e-03-2.38e-01j\tI:  4.00e-01\tQ: 3.91e-01+8.86e-02j\tB: -82.63 G: -40.64, C:0.00\n",
      "[-40.64115143 -76.45056152 -82.6255188 ]\n",
      "dc: -9.28e-03-2.38e-01j\tI:  4.00e-01\tQ: 4.10e-01+7.78e-02j\tB: -76.50 G: -40.44, C:0.00\n",
      "[-40.4407692  -78.24861908 -76.49821472]\n",
      "dc: -9.28e-03-2.38e-01j\tI:  4.00e-01\tQ: 3.94e-01+9.17e-02j\tB: -85.46 G: -40.60, C:0.00\n",
      "[-40.60409546 -76.39490509 -85.46298218]\n",
      "dc: -9.28e-03-2.38e-01j\tI:  4.00e-01\tQ: 3.77e-01+9.47e-02j\tB: -73.34 G: -40.79, C:0.00\n",
      "[-40.78712082 -76.98088074 -73.34104919]\n",
      "dc: -9.28e-03-2.38e-01j\tI:  4.00e-01\tQ: 4.00e-01+8.79e-02j\tB: -94.96 G: -40.54, C:0.00\n",
      "[-40.54032516 -81.48773956 -94.96398926]\n",
      "dc: -9.28e-03-2.38e-01j\tI:  4.00e-01\tQ: 4.03e-01+9.10e-02j\tB: -85.61 G: -40.50, C:0.00\n",
      "[-40.50455093 -75.59926605 -85.61218262]\n",
      "dc: -9.28e-03-2.38e-01j\tI:  4.00e-01\tQ: 4.09e-01+8.71e-02j\tB: -79.55 G: -40.44, C:0.00\n",
      "[-40.4398613  -80.01360321 -79.54766083]\n",
      "dc: -9.28e-03-2.38e-01j\tI:  4.00e-01\tQ: 3.98e-01+9.06e-02j\tB: -93.14 G: -40.56, C:0.00\n",
      "[-40.56352615 -83.08266449 -93.13798523]\n",
      "dc: -9.28e-03-2.38e-01j\tI:  4.00e-01\tQ: 3.94e-01+8.75e-02j\tB: -88.29 G: -40.60, C:0.00\n",
      "[-40.60028076 -77.79094696 -88.28977203]\n",
      "dc: -9.28e-03-2.38e-01j\tI:  4.00e-01\tQ: 3.97e-01+8.83e-02j\tB: -95.07 G: -40.58, C:0.00\n",
      "[-40.57777786 -78.30767059 -95.06555176]\n",
      "dc: -9.28e-03-2.38e-01j\tI:  4.00e-01\tQ: 3.99e-01+8.56e-02j\tB: -91.03 G: -40.55, C:0.00\n",
      "[-40.55382156 -82.21149445 -91.02813721]\n",
      "dc: -9.28e-03-2.38e-01j\tI:  4.00e-01\tQ: 3.98e-01+8.93e-02j\tB: -99.08 G: -40.56, C:0.00\n",
      "[-40.5611496  -79.24799347 -99.08048248]\n",
      "dc: -9.28e-03-2.38e-01j\tI:  4.00e-01\tQ: 3.95e-01+8.98e-02j\tB: -88.35 G: -40.60, C:0.00\n",
      "[-40.59760666 -80.79582214 -88.35328674]\n",
      "dc: -9.28e-03-2.38e-01j\tI:  4.00e-01\tQ: 3.99e-01+8.83e-02j\tB: -104.35 G: -40.56, C:0.00\n",
      "[ -40.55852127  -77.8136673  -104.35346222]\n",
      "dc: -9.28e-03-2.38e-01j\tI:  4.00e-01\tQ: 4.00e-01+8.93e-02j\tB: -94.54 G: -40.54, C:0.00\n",
      "[-40.54083633 -78.71791077 -94.54109192]\n",
      "dc: -9.28e-03-2.38e-01j\tI:  4.00e-01\tQ: 3.97e-01+8.86e-02j\tB: -99.79 G: -40.57, C:0.00\n",
      "[-40.56758499 -78.24121857 -99.78546906]\n",
      "dc: -9.28e-03-2.38e-01j\tI:  4.00e-01\tQ: 3.98e-01+8.76e-02j\tB: -99.93 G: -40.56, C:0.00\n",
      "[-40.56100082 -80.61353302 -99.92718506]\n",
      "dc: -9.28e-03-2.38e-01j\tI:  4.00e-01\tQ: 3.99e-01+8.74e-02j\tB: -96.67 G: -40.55, C:0.00\n",
      "[-40.54947662 -76.49640656 -96.67272186]\n",
      "dc: -9.28e-03-2.38e-01j\tI:  4.00e-01\tQ: 3.98e-01+8.83e-02j\tB: -102.56 G: -40.56, C:0.00\n",
      "[ -40.56406021  -78.93702698 -102.55695343]\n",
      "dc: -9.28e-03-2.38e-01j\tI:  4.00e-01\tQ: 3.98e-01+8.90e-02j\tB: -101.54 G: -40.56, C:0.00\n",
      "[ -40.55807877  -78.05376434 -101.53823853]\n",
      "dc: -9.28e-03-2.38e-01j\tI:  4.00e-01\tQ: 3.98e-01+8.87e-02j\tB: -104.28 G: -40.56, C:0.00\n",
      "[ -40.56125259  -82.65264893 -104.28027344]\n",
      "dc: -9.28e-03-2.38e-01j\tI:  4.00e-01\tQ: 3.99e-01+8.87e-02j\tB: -100.68 G: -40.55, C:0.00\n",
      "[ -40.5510025   -78.62763214 -100.67595673]\n",
      "dc: -9.28e-03-2.38e-01j\tI:  4.00e-01\tQ: 3.98e-01+8.84e-02j\tB: -104.26 G: -40.56, C:0.00\n",
      "[ -40.56057358  -76.44448853 -104.26110077]\n",
      "dc: -9.28e-03-2.38e-01j\tI:  4.00e-01\tQ: 3.99e-01+8.86e-02j\tB: -102.80 G: -40.55, C:0.00\n",
      "[ -40.55451584  -75.61725616 -102.7963562 ]\n",
      "dc: -9.28e-03-2.38e-01j\tI:  4.00e-01\tQ: 3.98e-01+8.85e-02j\tB: -105.16 G: -40.56, C:0.00\n",
      "[ -40.56231308  -77.30002594 -105.15530396]\n",
      "dc: -9.28e-03-2.38e-01j\tI:  4.00e-01\tQ: 3.99e-01+8.81e-02j\tB: -103.20 G: -40.56, C:0.00\n",
      "[ -40.55699921  -75.99225616 -103.2000351 ]\n",
      "dc: -9.28e-03-2.38e-01j\tI:  4.00e-01\tQ: 3.98e-01+8.85e-02j\tB: -104.72 G: -40.56, C:0.00\n",
      "[ -40.5602684   -74.94192505 -104.72468567]\n",
      "dc: -9.28e-03-2.38e-01j\tI:  4.00e-01\tQ: 3.98e-01+8.86e-02j\tB: -103.82 G: -40.56, C:0.00\n",
      "[ -40.56378174  -75.47071075 -103.82479858]\n",
      "dc: -9.28e-03-2.38e-01j\tI:  4.00e-01\tQ: 3.98e-01+8.84e-02j\tB: -104.90 G: -40.56, C:0.00\n",
      "[ -40.55941772  -74.90684509 -104.9004364 ]\n",
      "dc: -9.28e-03-2.38e-01j\tI:  4.00e-01\tQ: 3.98e-01+8.83e-02j\tB: -104.71 G: -40.56, C:0.00\n",
      "[ -40.55990601  -80.05293274 -104.70980072]\n",
      "dc: -9.28e-03-2.38e-01j\tI:  4.00e-01\tQ: 3.98e-01+8.85e-02j\tB: -104.80 G: -40.56, C:0.00\n",
      "[ -40.55938721  -77.65309143 -104.79601288]\n",
      "dc: -9.28e-03-2.38e-01j\tI:  4.00e-01\tQ: 3.98e-01+8.84e-02j\tB: -104.75 G: -40.56, C:0.00\n",
      "[ -40.55953217  -76.53342438 -104.75460052]\n",
      "dc: -9.28e-03-2.38e-01j\tI:  4.00e-01\tQ: 3.98e-01+8.85e-02j\tB: -104.69 G: -40.56, C:0.00\n",
      "[ -40.55990982  -80.39749908 -104.68772888]\n",
      "dc: -9.28e-03-2.38e-01j\tI:  4.00e-01\tQ: 3.98e-01+8.84e-02j\tB: -104.80 G: -40.56, C:0.00\n",
      "[ -40.55974197  -77.96447754 -104.80491638]\n",
      "dc: -9.28e-03-2.38e-01j\tI:  4.00e-01\tQ: 3.98e-01+8.85e-02j\tB: -105.07 G: -40.56, C:0.00\n",
      "[ -40.56111526  -76.49915314 -105.07460785]\n",
      "dc: -9.28e-03-2.38e-01j\tI:  4.00e-01\tQ: 3.98e-01+8.85e-02j\tB: -104.88 G: -40.56, C:0.00\n",
      "[ -40.56215286  -76.37425232 -104.87898254]\n",
      "dc: -9.28e-03-2.38e-01j\tI:  4.00e-01\tQ: 3.98e-01+8.85e-02j\tB: -104.89 G: -40.56, C:0.00\n",
      "[ -40.56178665  -78.33116913 -104.89074707]\n",
      "dc: -9.28e-03-2.38e-01j\tI:  4.00e-01\tQ: 3.98e-01+8.85e-02j\tB: -104.86 G: -40.56, C:0.00\n",
      "[ -40.56164169  -79.1237793  -104.86341095]\n",
      "dc: -9.28e-03-2.38e-01j\tI:  4.00e-01\tQ: 3.98e-01+8.85e-02j\tB: -105.24 G: -40.56, C:0.00\n",
      "[ -40.56274414  -81.39196014 -105.23803711]\n",
      "dc: -9.28e-03-2.38e-01j\tI:  4.00e-01\tQ: 3.98e-01+8.85e-02j\tB: -104.93 G: -40.56, C:0.00\n",
      "[ -40.56396866  -76.74023438 -104.93248749]\n",
      "dc: -9.28e-03-2.38e-01j\tI:  4.00e-01\tQ: 3.98e-01+8.85e-02j\tB: -104.93 G: -40.56, C:0.00\n",
      "[ -40.56253815  -79.46670532 -104.93441772]\n",
      "dc: -9.28e-03-2.38e-01j\tI:  4.00e-01\tQ: 3.98e-01+8.85e-02j\tB: -104.75 G: -40.56, C:0.00\n",
      "[ -40.56307983  -76.98836517 -104.74673462]\n",
      "dc: -9.28e-03-2.38e-01j\tI:  4.00e-01\tQ: 3.98e-01+8.85e-02j\tB: -104.94 G: -40.56, C:0.00\n",
      "[ -40.56387329  -80.87062836 -104.93674469]\n",
      "dc: -9.28e-03-2.38e-01j\tI:  4.00e-01\tQ: 3.98e-01+8.85e-02j\tB: -104.98 G: -40.56, C:0.00\n",
      "[ -40.5627327   -83.06161499 -104.98159027]\n",
      "dc: -9.28e-03-2.38e-01j\tI:  4.00e-01\tQ: 3.98e-01+8.85e-02j\tB: -104.77 G: -40.56, C:0.00\n",
      "[ -40.56182098  -79.89781189 -104.76885986]\n",
      "dc: -9.28e-03-2.38e-01j\tI:  4.00e-01\tQ: 3.98e-01+8.85e-02j\tB: -104.81 G: -40.56, C:0.00\n",
      "[ -40.56242371  -77.27944946 -104.80503845]\n",
      "dc: -9.28e-03-2.38e-01j\tI:  4.00e-01\tQ: 3.98e-01+8.85e-02j\tB: -104.75 G: -40.56, C:0.00\n",
      "[ -40.56211853  -78.19258881 -104.75392151]\n",
      "dc: -9.28e-03-2.38e-01j\tI:  4.00e-01\tQ: 3.98e-01+8.85e-02j\tB: -104.49 G: -40.56, C:0.00\n",
      "[ -40.56283569  -78.56254578 -104.49463654]\n",
      "Warning: Maximum number of iterations has been exceeded.\n",
      "dc: -9.28e-03-2.38e-01j\tI:  4.00e-01\tQ: 3.98e-01+8.85e-02j\tB: -75.38 G: -40.56, C:0.00\n",
      "[-104.9790802  -101.76221466 -102.10214996  -40.56439972  -78.00479126\n",
      " -104.82788086 -104.26035309 -104.32548523 -106.35271454]\n",
      "d:\\data/calibrations/iq-rf/ frequency-3.807e+09-if--2.432e+08-sideband_id-     0\n",
      "expected str, bytes or os.PathLike object, not NoneType\n",
      "-243170000.0 3806830000.0\n",
      "dc: -9.28e-03-2.38e-01j\tI:  4.00e-01\tQ: 5.00e-01-2.00e-01j\tB: -58.25 G: -49.45, C:0.00\n",
      "[-49.45002365 -79.96360779 -58.24856567]\n",
      "dc: -9.28e-03-2.38e-01j\tI:  4.00e-01\tQ: 5.25e-01-2.00e-01j\tB: -58.05 G: -49.19, C:0.00\n",
      "[-49.18773651 -79.5394516  -58.05476379]\n",
      "dc: -9.28e-03-2.38e-01j\tI:  4.00e-01\tQ: 5.00e-01-2.10e-01j\tB: -58.02 G: -49.39, C:0.00\n",
      "[-49.39234161 -85.35285187 -58.02136612]\n",
      "dc: -9.28e-03-2.38e-01j\tI:  4.00e-01\tQ: 5.25e-01-1.90e-01j\tB: -58.28 G: -49.21, C:0.00\n",
      "[-49.21020126 -82.16720581 -58.2806778 ]\n",
      "dc: -9.28e-03-2.38e-01j\tI:  4.00e-01\tQ: 5.37e-01-1.80e-01j\tB: -58.39 G: -49.15, C:0.00\n",
      "[-49.14610291 -84.35486603 -58.39335632]\n",
      "dc: -9.28e-03-2.38e-01j\tI:  4.00e-01\tQ: 5.62e-01-1.80e-01j\tB: -58.12 G: -48.90, C:0.00\n",
      "[-48.89826202 -79.18667603 -58.12421799]\n",
      "dc: -9.28e-03-2.38e-01j\tI:  4.00e-01\tQ: 5.75e-01-1.60e-01j\tB: -58.41 G: -48.82, C:0.00\n",
      "[-48.81594849 -79.74384308 -58.40744019]\n",
      "dc: -9.28e-03-2.38e-01j\tI:  4.00e-01\tQ: 6.00e-01-1.40e-01j\tB: -58.48 G: -48.63, C:0.00\n",
      "[-48.63328171 -84.19456482 -58.48190689]\n",
      "dc: -9.28e-03-2.38e-01j\tI:  4.00e-01\tQ: 5.75e-01-1.40e-01j\tB: -58.84 G: -48.87, C:0.00\n",
      "[-48.87128448 -74.53526306 -58.84461212]\n"
     ]
    },
    {
     "name": "stdout",
     "output_type": "stream",
     "text": [
      "dc: -9.28e-03-2.38e-01j\tI:  4.00e-01\tQ: 5.81e-01-1.20e-01j\tB: -59.20 G: -48.82, C:0.00\n",
      "[-48.81721497 -76.6000824  -59.19638443]\n",
      "dc: -9.28e-03-2.38e-01j\tI:  4.00e-01\tQ: 6.44e-01-8.00e-02j\tB: -58.87 G: -48.36, C:0.00\n",
      "[-48.35805893 -83.65639496 -58.8691864 ]\n",
      "dc: -9.28e-03-2.38e-01j\tI:  4.00e-01\tQ: 6.97e-01-3.00e-02j\tB: -58.49 G: -47.95, C:0.00\n",
      "[-47.95003128 -80.43151093 -58.49195099]\n",
      "dc: -9.28e-03-2.38e-01j\tI:  4.00e-01\tQ: 6.78e-01-1.00e-02j\tB: -59.18 G: -48.10, C:0.00\n",
      "[-48.09848404 -80.719841   -59.17540359]\n",
      "dc: -9.28e-03-2.38e-01j\tI:  4.00e-01\tQ: 7.17e-01+5.50e-02j\tB: -58.82 G: -47.79, C:0.00\n",
      "[-47.78794479 -79.38503265 -58.81994629]\n",
      "dc: -9.28e-03-2.38e-01j\tI:  4.00e-01\tQ: 7.94e-01+8.00e-02j\tB: -57.16 G: -47.18, C:0.04\n",
      "[-47.17874908 -81.84052277 -57.15865707]\n",
      "dc: -9.28e-03-2.38e-01j\tI:  4.00e-01\tQ: 6.34e-01-7.00e-02j\tB: -59.24 G: -48.46, C:0.00\n",
      "[-48.45658493 -79.1456604  -59.24034119]\n",
      "dc: -9.28e-03-2.38e-01j\tI:  4.00e-01\tQ: 6.16e-01-5.00e-02j\tB: -60.03 G: -48.61, C:0.00\n",
      "[-48.60822678 -82.60204315 -60.02563095]\n",
      "dc: -9.28e-03-2.38e-01j\tI:  4.00e-01\tQ: 5.75e-01-6.00e-02j\tB: -60.73 G: -48.93, C:0.00\n",
      "[-48.92549896 -78.4796524  -60.72681046]\n",
      "dc: -9.28e-03-2.38e-01j\tI:  4.00e-01\tQ: 6.19e-01-4.02e-16j\tB: -60.89 G: -48.56, C:0.00\n",
      "[-48.56494522 -80.25247192 -60.8934288 ]\n",
      "dc: -9.28e-03-2.38e-01j\tI:  4.00e-01\tQ: 6.11e-01+3.50e-02j\tB: -61.72 G: -48.63, C:0.00\n",
      "[-48.62822342 -82.90685272 -61.72232056]\n",
      "dc: -9.28e-03-2.38e-01j\tI:  4.00e-01\tQ: 5.08e-01-1.50e-02j\tB: -63.72 G: -49.56, C:0.00\n",
      "[-49.55710983 -77.29730225 -63.72161865]\n",
      "dc: -9.28e-03-2.38e-01j\tI:  4.00e-01\tQ: 4.23e-01-1.75e-02j\tB: -65.30 G: -50.40, C:0.00\n",
      "[-50.40102768 -80.45226288 -65.2988205 ]\n",
      "dc: -9.28e-03-2.38e-01j\tI:  4.00e-01\tQ: 4.59e-01+7.75e-02j\tB: -70.59 G: -50.05, C:0.00\n",
      "[-50.04983521 -80.67323303 -70.59398651]\n",
      "dc: -9.28e-03-2.38e-01j\tI:  4.00e-01\tQ: 4.00e-01+1.46e-01j\tB: -89.47 G: -50.51, C:0.00\n",
      "[-50.51248932 -78.21908569 -89.46600342]\n",
      "dc: -9.28e-03-2.38e-01j\tI:  4.00e-01\tQ: 2.12e-01+9.37e-02j\tB: -63.57 G: -52.86, C:0.00\n",
      "[-52.8599205  -80.97570801 -63.57481003]\n",
      "dc: -9.28e-03-2.38e-01j\tI:  4.00e-01\tQ: 5.11e-01+4.97e-02j\tB: -66.08 G: -49.55, C:0.00\n",
      "[-49.55139542 -78.42927551 -66.0750351 ]\n",
      "dc: -9.28e-03-2.38e-01j\tI:  4.00e-01\tQ: 4.89e-01+2.13e-01j\tB: -67.68 G: -49.51, C:0.00\n",
      "[-49.51390076 -80.74660492 -67.68204498]\n",
      "dc: -9.28e-03-2.38e-01j\tI:  4.00e-01\tQ: 3.78e-01+3.10e-01j\tB: -64.37 G: -50.28, C:0.00\n",
      "[-50.27859879 -80.41661835 -64.36864471]\n",
      "dc: -9.28e-03-2.38e-01j\tI:  4.00e-01\tQ: 4.78e-01+1.15e-01j\tB: -70.80 G: -49.81, C:0.00\n",
      "[-49.81479645 -80.11070251 -70.80136871]\n",
      "dc: -9.28e-03-2.38e-01j\tI:  4.00e-01\tQ: 3.89e-01+4.76e-02j\tB: -70.12 G: -50.75, C:0.00\n",
      "[-50.75340652 -82.43281555 -70.12234497]\n",
      "dc: -9.28e-03-2.38e-01j\tI:  4.00e-01\tQ: 4.14e-01+8.90e-02j\tB: -75.09 G: -50.45, C:0.00\n",
      "[-50.45109558 -81.12002563 -75.09375   ]\n",
      "dc: -9.28e-03-2.38e-01j\tI:  4.00e-01\tQ: 3.37e-01+1.21e-01j\tB: -73.16 G: -51.30, C:0.00\n",
      "[-51.29791641 -80.27426147 -73.15690613]\n",
      "dc: -9.28e-03-2.38e-01j\tI:  4.00e-01\tQ: 3.72e-01+1.19e-01j\tB: -79.23 G: -50.87, C:0.00\n",
      "[-50.86820602 -82.31285858 -79.22888947]\n",
      "dc: -9.28e-03-2.38e-01j\tI:  4.00e-01\tQ: 3.58e-01+1.76e-01j\tB: -74.23 G: -50.90, C:0.00\n",
      "[-50.90271759 -81.02449799 -74.23171234]\n",
      "dc: -9.28e-03-2.38e-01j\tI:  4.00e-01\tQ: 4.00e-01+1.11e-01j\tB: -80.77 G: -50.57, C:0.00\n",
      "[-50.57004929 -84.48761749 -80.77266693]\n",
      "dc: -9.28e-03-2.38e-01j\tI:  4.00e-01\tQ: 4.29e-01+1.38e-01j\tB: -79.44 G: -50.24, C:0.00\n",
      "[-50.23728561 -80.74298859 -79.4368515 ]\n",
      "dc: -9.28e-03-2.38e-01j\tI:  4.00e-01\tQ: 4.14e-01+1.33e-01j\tB: -84.54 G: -50.39, C:0.00\n",
      "[-50.38854218 -85.16635895 -84.53804016]\n",
      "dc: -9.28e-03-2.38e-01j\tI:  4.00e-01\tQ: 4.15e-01+1.69e-01j\tB: -78.07 G: -50.35, C:0.00\n",
      "[-50.34805679 -79.65192413 -78.07447815]\n",
      "dc: -9.28e-03-2.38e-01j\tI:  4.00e-01\tQ: 4.04e-01+1.25e-01j\tB: -86.87 G: -50.54, C:0.00\n",
      "[-50.54094696 -80.41529846 -86.86907196]\n",
      "dc: -9.28e-03-2.38e-01j\tI:  4.00e-01\tQ: 3.90e-01+1.38e-01j\tB: -90.67 G: -50.65, C:0.00\n",
      "[-50.64705658 -76.97089386 -90.66553497]\n",
      "dc: -9.28e-03-2.38e-01j\tI:  4.00e-01\tQ: 3.77e-01+1.41e-01j\tB: -82.78 G: -50.77, C:0.00\n",
      "[-50.76808548 -78.50106812 -82.78408813]\n",
      "dc: -9.28e-03-2.38e-01j\tI:  4.00e-01\tQ: 3.86e-01+1.59e-01j\tB: -81.16 G: -50.64, C:0.00\n",
      "[-50.6397438  -78.75498199 -81.16078186]\n",
      "dc: -9.28e-03-2.38e-01j\tI:  4.00e-01\tQ: 3.99e-01+1.34e-01j\tB: -97.38 G: -50.55, C:0.00\n",
      "[-50.5482254  -78.48543549 -97.37940216]\n",
      "dc: -9.28e-03-2.38e-01j\tI:  4.00e-01\tQ: 3.89e-01+1.26e-01j\tB: -86.01 G: -50.68, C:0.00\n",
      "[-50.67694092 -79.28844452 -86.00722504]\n",
      "dc: -9.28e-03-2.38e-01j\tI:  4.00e-01\tQ: 3.97e-01+1.41e-01j\tB: -96.00 G: -50.55, C:0.00\n",
      "[-50.55467987 -75.64981079 -96.00339508]\n",
      "dc: -9.28e-03-2.38e-01j\tI:  4.00e-01\tQ: 4.07e-01+1.37e-01j\tB: -89.65 G: -50.46, C:0.00\n",
      "[-50.46457291 -78.51872253 -89.65455627]\n",
      "dc: -9.28e-03-2.38e-01j\tI:  4.00e-01\tQ: 3.94e-01+1.38e-01j\tB: -96.60 G: -50.60, C:0.00\n",
      "[-50.60076904 -80.46138    -96.59650421]\n",
      "dc: -9.28e-03-2.38e-01j\tI:  4.00e-01\tQ: 3.96e-01+1.31e-01j\tB: -92.37 G: -50.59, C:0.00\n",
      "[-50.5904007  -79.54056549 -92.36502075]\n",
      "dc: -9.28e-03-2.38e-01j\tI:  4.00e-01\tQ: 3.97e-01+1.38e-01j\tB: -101.51 G: -50.59, C:0.00\n",
      "[ -50.59446335  -78.09320831 -101.51191711]\n",
      "dc: -9.28e-03-2.38e-01j\tI:  4.00e-01\tQ: 4.02e-01+1.34e-01j\tB: -94.46 G: -50.56, C:0.00\n",
      "[-50.56036758 -82.17871857 -94.45549774]\n",
      "dc: -9.28e-03-2.38e-01j\tI:  4.00e-01\tQ: 3.96e-01+1.37e-01j\tB: -101.34 G: -50.60, C:0.00\n",
      "[ -50.6012001   -80.29676819 -101.34471893]\n",
      "dc: -9.28e-03-2.38e-01j\tI:  4.00e-01\tQ: 3.94e-01+1.42e-01j\tB: -93.04 G: -50.62, C:0.00\n",
      "[-50.617939   -79.54553223 -93.03939056]\n",
      "dc: -9.28e-03-2.38e-01j\tI:  4.00e-01\tQ: 3.98e-01+1.36e-01j\tB: -102.45 G: -50.59, C:0.00\n",
      "[ -50.59064865  -83.67060852 -102.44576263]\n",
      "dc: -9.28e-03-2.38e-01j\tI:  4.00e-01\tQ: 3.99e-01+1.37e-01j\tB: -102.83 G: -50.55, C:0.00\n",
      "[ -50.54857254  -79.88253784 -102.82875824]\n",
      "dc: -9.28e-03-2.38e-01j\tI:  4.00e-01\tQ: 4.00e-01+1.37e-01j\tB: -99.21 G: -50.53, C:0.00\n",
      "[-50.53152847 -80.24921417 -99.21243286]\n",
      "dc: -9.28e-03-2.38e-01j\tI:  4.00e-01\tQ: 4.00e-01+1.35e-01j\tB: -97.97 G: -50.57, C:0.00\n",
      "[-50.57093811 -76.30887604 -97.96659088]\n",
      "dc: -9.28e-03-2.38e-01j\tI:  4.00e-01\tQ: 3.98e-01+1.37e-01j\tB: -103.96 G: -50.56, C:0.00\n",
      "[ -50.55775452  -79.45446777 -103.96287537]\n",
      "dc: -9.28e-03-2.38e-01j\tI:  4.00e-01\tQ: 3.99e-01+1.39e-01j\tB: -100.47 G: -50.54, C:0.00\n",
      "[ -50.5422554   -80.74240875 -100.4732666 ]\n",
      "dc: -9.28e-03-2.38e-01j\tI:  4.00e-01\tQ: 3.98e-01+1.37e-01j\tB: -104.03 G: -50.56, C:0.00\n",
      "[ -50.55799103  -86.13653564 -104.02889252]\n",
      "dc: -9.28e-03-2.38e-01j\tI:  4.00e-01\tQ: 3.97e-01+1.37e-01j\tB: -103.41 G: -50.59, C:0.00\n",
      "[ -50.59396362  -78.71263885 -103.40830994]\n",
      "dc: -9.28e-03-2.38e-01j\tI:  4.00e-01\tQ: 3.98e-01+1.37e-01j\tB: -103.93 G: -50.59, C:0.00\n",
      "[ -50.58789825  -80.21429443 -103.93315887]\n",
      "dc: -9.28e-03-2.38e-01j\tI:  4.00e-01\tQ: 3.99e-01+1.37e-01j\tB: -103.73 G: -50.59, C:0.00\n",
      "[ -50.58710861  -82.62631989 -103.72602081]\n",
      "dc: -9.28e-03-2.38e-01j\tI:  4.00e-01\tQ: 3.98e-01+1.37e-01j\tB: -104.25 G: -50.56, C:0.00\n",
      "[ -50.56179428  -80.15488434 -104.24524689]\n",
      "dc: -9.28e-03-2.38e-01j\tI:  4.00e-01\tQ: 3.98e-01+1.36e-01j\tB: -102.97 G: -50.56, C:0.00\n",
      "[ -50.55917358  -81.68379974 -102.9655838 ]\n",
      "dc: -9.28e-03-2.38e-01j\tI:  4.00e-01\tQ: 3.98e-01+1.37e-01j\tB: -104.19 G: -50.60, C:0.00\n",
      "[ -50.60427475  -79.69436646 -104.18841553]\n",
      "dc: -9.28e-03-2.38e-01j\tI:  4.00e-01\tQ: 3.97e-01+1.38e-01j\tB: -104.09 G: -50.57, C:0.00\n",
      "[ -50.56507111  -80.14834595 -104.09078217]\n",
      "dc: -9.28e-03-2.38e-01j\tI:  4.00e-01\tQ: 3.98e-01+1.37e-01j\tB: -104.14 G: -50.58, C:0.00\n",
      "[ -50.58018112  -79.90853882 -104.13545227]\n",
      "dc: -9.28e-03-2.38e-01j\tI:  4.00e-01\tQ: 3.98e-01+1.37e-01j\tB: -104.31 G: -50.56, C:0.00\n",
      "[ -50.56001663  -75.82054138 -104.31269073]\n",
      "dc: -9.28e-03-2.38e-01j\tI:  4.00e-01\tQ: 3.98e-01+1.37e-01j\tB: -103.83 G: -50.59, C:0.00\n",
      "[ -50.58908844  -78.57643127 -103.82505035]\n",
      "dc: -9.28e-03-2.38e-01j\tI:  4.00e-01\tQ: 3.98e-01+1.37e-01j\tB: -103.95 G: -50.56, C:0.00\n",
      "[ -50.55831528  -79.0620575  -103.95394135]\n",
      "dc: -9.28e-03-2.38e-01j\tI:  4.00e-01\tQ: 3.98e-01+1.37e-01j\tB: -104.30 G: -50.58, C:0.00\n",
      "[ -50.58356094  -82.84651947 -104.29995728]\n",
      "dc: -9.28e-03-2.38e-01j\tI:  4.00e-01\tQ: 3.98e-01+1.37e-01j\tB: -104.48 G: -50.56, C:0.00\n",
      "[ -50.55932617  -82.32574463 -104.47924805]\n",
      "dc: -9.28e-03-2.38e-01j\tI:  4.00e-01\tQ: 3.98e-01+1.37e-01j\tB: -103.98 G: -50.56, C:0.00\n",
      "[ -50.5593338   -80.65937805 -103.97839355]\n"
     ]
    },
    {
     "name": "stdout",
     "output_type": "stream",
     "text": [
      "dc: -9.28e-03-2.38e-01j\tI:  4.00e-01\tQ: 3.98e-01+1.37e-01j\tB: -103.97 G: -50.56, C:0.00\n",
      "[ -50.56106949  -79.03809357 -103.96573639]\n",
      "dc: -9.28e-03-2.38e-01j\tI:  4.00e-01\tQ: 3.98e-01+1.37e-01j\tB: -104.22 G: -50.56, C:0.00\n",
      "[ -50.56024551  -80.23649597 -104.22419739]\n",
      "dc: -9.28e-03-2.38e-01j\tI:  4.00e-01\tQ: 3.98e-01+1.37e-01j\tB: -104.37 G: -50.56, C:0.00\n",
      "[ -50.55827332  -86.09055328 -104.36870575]\n",
      "dc: -9.28e-03-2.38e-01j\tI:  4.00e-01\tQ: 3.98e-01+1.37e-01j\tB: -104.41 G: -50.56, C:0.00\n",
      "[ -50.56006241  -81.64955139 -104.41381073]\n",
      "dc: -9.28e-03-2.38e-01j\tI:  4.00e-01\tQ: 3.98e-01+1.37e-01j\tB: -104.43 G: -50.56, C:0.00\n",
      "[ -50.56176758  -80.96625519 -104.42662048]\n",
      "dc: -9.28e-03-2.38e-01j\tI:  4.00e-01\tQ: 3.98e-01+1.37e-01j\tB: -104.16 G: -50.56, C:0.00\n",
      "[ -50.55800629  -80.40945435 -104.16402435]\n",
      "dc: -9.28e-03-2.38e-01j\tI:  4.00e-01\tQ: 3.98e-01+1.37e-01j\tB: -104.11 G: -50.56, C:0.00\n",
      "[ -50.56081772  -79.73956299 -104.11101532]\n",
      "dc: -9.28e-03-2.38e-01j\tI:  4.00e-01\tQ: 3.98e-01+1.37e-01j\tB: -104.00 G: -50.56, C:0.00\n",
      "[ -50.55871964  -79.48849487 -103.99960327]\n",
      "dc: -9.28e-03-2.38e-01j\tI:  4.00e-01\tQ: 3.98e-01+1.37e-01j\tB: -104.16 G: -50.56, C:0.00\n",
      "[ -50.55904007  -80.39315796 -104.15950012]\n",
      "Warning: Maximum number of iterations has been exceeded.\n",
      "dc: -9.28e-03-2.38e-01j\tI:  4.00e-01\tQ: 3.98e-01+1.37e-01j\tB: -77.00 G: -50.59, C:0.00\n",
      "[-105.25655365 -105.9465332  -103.68231201  -50.58896255  -79.8371582\n",
      " -104.18682098 -105.48967743 -105.98313904 -104.7461853 ]\n",
      "d:\\data/calibrations/iq-rf/ frequency-3.725e+09-if--3.251e+08-sideband_id-     0\n",
      "expected str, bytes or os.PathLike object, not NoneType\n",
      "-325100000.0 3724900000.0\n",
      "dc: -9.28e-03-2.38e-01j\tI:  4.00e-01\tQ: 5.00e-01-2.00e-01j\tB: -53.31 G: -45.20, C:0.00\n",
      "[-45.20249176 -79.36660767 -53.31040192]\n",
      "dc: -9.28e-03-2.38e-01j\tI:  4.00e-01\tQ: 5.25e-01-2.00e-01j\tB: -53.20 G: -44.99, C:0.00\n",
      "[-44.98581314 -81.1001358  -53.1976738 ]\n",
      "dc: -9.28e-03-2.38e-01j\tI:  4.00e-01\tQ: 5.00e-01-2.10e-01j\tB: -53.10 G: -45.19, C:0.00\n",
      "[-45.18570709 -81.92642212 -53.09962082]\n",
      "dc: -9.28e-03-2.38e-01j\tI:  4.00e-01\tQ: 5.25e-01-1.90e-01j\tB: -53.41 G: -45.00, C:0.00\n",
      "[-45.00204849 -83.61706543 -53.41463089]\n",
      "dc: -9.28e-03-2.38e-01j\tI:  4.00e-01\tQ: 5.37e-01-1.80e-01j\tB: -53.56 G: -44.91, C:0.00\n",
      "[-44.9090271  -79.03949738 -53.56137466]\n",
      "dc: -9.28e-03-2.38e-01j\tI:  4.00e-01\tQ: 5.62e-01-1.80e-01j\tB: -53.39 G: -44.70, C:0.00\n",
      "[-44.69565582 -83.03683472 -53.39049911]\n",
      "dc: -9.28e-03-2.38e-01j\tI:  4.00e-01\tQ: 5.94e-01-1.70e-01j\tB: -53.33 G: -44.45, C:0.00\n",
      "[-44.44963455 -82.0175705  -53.33453751]\n",
      "dc: -9.28e-03-2.38e-01j\tI:  4.00e-01\tQ: 6.06e-01-1.50e-01j\tB: -53.62 G: -44.37, C:0.00\n",
      "[-44.36925507 -81.22019196 -53.62042999]\n",
      "dc: -9.28e-03-2.38e-01j\tI:  4.00e-01\tQ: 6.47e-01-1.25e-01j\tB: -53.63 G: -44.07, C:0.00\n",
      "[-44.07358551 -85.48058319 -53.63295364]\n",
      "dc: -9.28e-03-2.38e-01j\tI:  4.00e-01\tQ: 7.03e-01-1.15e-01j\tB: -53.04 G: -43.65, C:0.00\n",
      "[-43.65425873 -81.06987762 -53.04197311]\n",
      "dc: -9.28e-03-2.38e-01j\tI:  4.00e-01\tQ: 7.56e-01-7.00e-02j\tB: -52.87 G: -43.28, C:0.00\n",
      "[-43.27909851 -85.95250702 -52.86517715]\n",
      "dc: -9.28e-03-2.38e-01j\tI:  4.00e-01\tQ: 8.37e-01-2.00e-02j\tB: -52.05 G: -42.74, C:0.08\n",
      "[-42.73802948 -81.82575989 -52.05405045]\n",
      "dc: -9.28e-03-2.38e-01j\tI:  4.00e-01\tQ: 7.00e-01-8.00e-02j\tB: -53.63 G: -43.69, C:0.00\n",
      "[-43.69425964 -87.16886902 -53.63297272]\n",
      "dc: -9.28e-03-2.38e-01j\tI:  4.00e-01\tQ: 6.98e-01-6.25e-02j\tB: -53.96 G: -43.71, C:0.00\n",
      "[-43.71162796 -81.34944153 -53.95545578]\n",
      "dc: -9.28e-03-2.38e-01j\tI:  4.00e-01\tQ: 8.08e-01-7.50e-03j\tB: -52.67 G: -42.93, C:0.05\n",
      "[-42.93286133 -80.14864349 -52.66710281]\n",
      "dc: -9.28e-03-2.38e-01j\tI:  4.00e-01\tQ: 6.87e-01-9.56e-02j\tB: -53.59 G: -43.79, C:0.00\n",
      "[-43.78779602 -85.48339081 -53.58650589]\n",
      "dc: -9.28e-03-2.38e-01j\tI:  4.00e-01\tQ: 6.29e-01-8.81e-02j\tB: -54.63 G: -44.23, C:0.00\n",
      "[-44.23016739 -79.06271362 -54.633564  ]\n",
      "dc: -9.28e-03-2.38e-01j\tI:  4.00e-01\tQ: 5.66e-01-9.72e-02j\tB: -55.29 G: -44.75, C:0.00\n",
      "[-44.7455368  -81.46221161 -55.29344559]\n",
      "dc: -9.28e-03-2.38e-01j\tI:  4.00e-01\tQ: 5.77e-01-6.41e-02j\tB: -56.02 G: -44.67, C:0.00\n",
      "[-44.66594315 -84.1736145  -56.01765823]\n",
      "dc: -9.28e-03-2.38e-01j\tI:  4.00e-01\tQ: 5.22e-01-4.83e-02j\tB: -57.25 G: -45.15, C:0.00\n",
      "[-45.1465416  -84.06574249 -57.246315  ]\n",
      "dc: -9.28e-03-2.38e-01j\tI:  4.00e-01\tQ: 3.90e-01-8.30e-02j\tB: -56.48 G: -46.41, C:0.00\n",
      "[-46.40943146 -81.51819611 -56.47893906]\n",
      "dc: -9.28e-03-2.38e-01j\tI:  4.00e-01\tQ: 6.21e-01-6.76e-02j\tB: -55.22 G: -44.30, C:0.00\n",
      "[-44.30224228 -87.51371765 -55.21663284]\n",
      "dc: -9.28e-03-2.38e-01j\tI:  4.00e-01\tQ: 5.78e-01-1.87e-02j\tB: -57.25 G: -44.67, C:0.00\n",
      "[-44.66769409 -85.71839905 -57.24757004]\n",
      "dc: -9.28e-03-2.38e-01j\tI:  4.00e-01\tQ: 5.83e-01+2.05e-02j\tB: -58.27 G: -44.61, C:0.00\n",
      "[-44.61133194 -85.54975128 -58.26593018]\n",
      "dc: -9.28e-03-2.38e-01j\tI:  4.00e-01\tQ: 4.84e-01+3.99e-02j\tB: -61.52 G: -45.47, C:0.00\n",
      "[-45.47119522 -83.63312531 -61.52228165]\n",
      "dc: -9.28e-03-2.38e-01j\tI:  4.00e-01\tQ: 4.16e-01+9.36e-02j\tB: -65.93 G: -46.08, C:0.00\n",
      "[-46.08130264 -83.62986755 -65.93360901]\n",
      "dc: -9.28e-03-2.38e-01j\tI:  4.00e-01\tQ: 4.77e-01+1.62e-01j\tB: -71.79 G: -45.39, C:0.00\n",
      "[-45.38552094 -84.30719757 -71.78879547]\n",
      "dc: -9.28e-03-2.38e-01j\tI:  4.00e-01\tQ: 4.55e-01+2.68e-01j\tB: -66.17 G: -45.34, C:0.00\n",
      "[-45.34178925 -86.3028183  -66.16667938]\n",
      "dc: -9.28e-03-2.38e-01j\tI:  4.00e-01\tQ: 3.10e-01+2.35e-01j\tB: -62.36 G: -46.82, C:0.00\n",
      "[-46.81946564 -79.90552521 -62.3604393 ]\n",
      "dc: -9.28e-03-2.38e-01j\tI:  4.00e-01\tQ: 3.78e-01+1.82e-01j\tB: -69.92 G: -46.29, C:0.00\n",
      "[-46.28656006 -86.61547852 -69.922966  ]\n",
      "dc: -9.28e-03-2.38e-01j\tI:  4.00e-01\tQ: 4.39e-01+2.51e-01j\tB: -68.30 G: -45.53, C:0.00\n",
      "[-45.52645111 -81.84562683 -68.30149078]\n",
      "dc: -9.28e-03-2.38e-01j\tI:  4.00e-01\tQ: 4.34e-01+2.11e-01j\tB: -75.62 G: -45.69, C:0.00\n",
      "[-45.68532181 -85.46140289 -75.6230545 ]\n",
      "dc: -9.28e-03-2.38e-01j\tI:  4.00e-01\tQ: 5.33e-01+1.92e-01j\tB: -65.26 G: -44.85, C:0.00\n",
      "[-44.85157394 -83.1216507  -65.25857544]\n",
      "dc: -9.28e-03-2.38e-01j\tI:  4.00e-01\tQ: 4.17e-01+1.84e-01j\tB: -79.65 G: -45.91, C:0.00\n",
      "[-45.91119766 -86.53173828 -79.65028381]\n",
      "dc: -9.28e-03-2.38e-01j\tI:  4.00e-01\tQ: 3.73e-01+2.33e-01j\tB: -66.95 G: -46.20, C:0.00\n",
      "[-46.19540787 -85.11254883 -66.94559479]\n",
      "dc: -9.28e-03-2.38e-01j\tI:  4.00e-01\tQ: 4.51e-01+1.80e-01j\tB: -80.88 G: -45.59, C:0.00\n",
      "[-45.59013367 -83.44570923 -80.87792969]\n",
      "dc: -9.28e-03-2.38e-01j\tI:  4.00e-01\tQ: 4.34e-01+1.53e-01j\tB: -75.87 G: -45.80, C:0.00\n",
      "[-45.8049202  -80.94908142 -75.87368011]\n",
      "dc: -9.28e-03-2.38e-01j\tI:  4.00e-01\tQ: 4.34e-01+1.68e-01j\tB: -81.92 G: -45.78, C:0.00\n",
      "[-45.777565   -86.18212128 -81.92262268]\n",
      "dc: -9.28e-03-2.38e-01j\tI:  4.00e-01\tQ: 4.69e-01+1.63e-01j\tB: -73.46 G: -45.46, C:0.00\n",
      "[-45.46307373 -86.19101715 -73.46111298]\n",
      "dc: -9.28e-03-2.38e-01j\tI:  4.00e-01\tQ: 4.30e-01+1.79e-01j\tB: -89.08 G: -45.80, C:0.00\n",
      "[-45.80033112 -86.36239624 -89.08301544]\n",
      "dc: -9.28e-03-2.38e-01j\tI:  4.00e-01\tQ: 4.13e-01+1.67e-01j\tB: -76.36 G: -45.99, C:0.00\n",
      "[-45.98894882 -79.97959137 -76.36416626]\n",
      "dc: -9.28e-03-2.38e-01j\tI:  4.00e-01\tQ: 4.42e-01+1.77e-01j\tB: -86.57 G: -45.69, C:0.00\n",
      "[-45.69038773 -83.35227966 -86.57312775]\n",
      "dc: -9.28e-03-2.38e-01j\tI:  4.00e-01\tQ: 4.37e-01+1.88e-01j\tB: -88.78 G: -45.71, C:0.00\n",
      "[-45.70643616 -83.40578461 -88.77513885]\n",
      "dc: -9.28e-03-2.38e-01j\tI:  4.00e-01\tQ: 4.25e-01+1.91e-01j\tB: -82.65 G: -45.81, C:0.00\n",
      "[-45.8131218  -86.28754425 -82.65333557]\n",
      "dc: -9.28e-03-2.38e-01j\tI:  4.00e-01\tQ: 4.38e-01+1.80e-01j\tB: -95.33 G: -45.72, C:0.00\n",
      "[-45.72131729 -80.98485565 -95.32745361]\n",
      "dc: -9.28e-03-2.38e-01j\tI:  4.00e-01\tQ: 4.30e-01+1.71e-01j\tB: -83.47 G: -45.81, C:0.00\n",
      "[-45.8135376  -83.56316376 -83.46722412]\n",
      "dc: -9.28e-03-2.38e-01j\tI:  4.00e-01\tQ: 4.35e-01+1.84e-01j\tB: -97.79 G: -45.73, C:0.00\n",
      "[-45.73402023 -78.60829926 -97.79249573]\n",
      "dc: -9.28e-03-2.38e-01j\tI:  4.00e-01\tQ: 4.43e-01+1.85e-01j\tB: -86.48 G: -45.66, C:0.00\n",
      "[-45.65781021 -78.33293152 -86.47875214]\n",
      "dc: -9.28e-03-2.38e-01j\tI:  4.00e-01\tQ: 4.33e-01+1.81e-01j\tB: -96.10 G: -45.77, C:0.00\n",
      "[-45.76512909 -78.29991913 -96.10337067]\n",
      "dc: -9.28e-03-2.38e-01j\tI:  4.00e-01\tQ: 4.31e-01+1.84e-01j\tB: -91.07 G: -45.78, C:0.00\n",
      "[-45.77510834 -78.12187958 -91.06898499]\n",
      "dc: -9.28e-03-2.38e-01j\tI:  4.00e-01\tQ: 4.36e-01+1.81e-01j\tB: -102.50 G: -45.73, C:0.00\n",
      "[ -45.73348999  -79.24355316 -102.49806213]\n",
      "dc: -9.28e-03-2.38e-01j\tI:  4.00e-01\tQ: 4.38e-01+1.85e-01j\tB: -92.87 G: -45.71, C:0.00\n",
      "[-45.70713425 -81.59344482 -92.86750031]\n"
     ]
    },
    {
     "name": "stdout",
     "output_type": "stream",
     "text": [
      "dc: -9.28e-03-2.38e-01j\tI:  4.00e-01\tQ: 4.34e-01+1.82e-01j\tB: -101.68 G: -45.75, C:0.00\n",
      "[ -45.74793625  -78.99898529 -101.67518616]\n",
      "dc: -9.28e-03-2.38e-01j\tI:  4.00e-01\tQ: 4.35e-01+1.79e-01j\tB: -94.87 G: -45.75, C:0.00\n",
      "[-45.74974823 -79.72392273 -94.86792755]\n",
      "dc: -9.28e-03-2.38e-01j\tI:  4.00e-01\tQ: 4.35e-01+1.83e-01j\tB: -102.72 G: -45.74, C:0.00\n",
      "[ -45.73810196  -82.82923889 -102.71832275]\n",
      "dc: -9.28e-03-2.38e-01j\tI:  4.00e-01\tQ: 4.37e-01+1.82e-01j\tB: -99.67 G: -45.73, C:0.00\n",
      "[-45.72508621 -81.35562134 -99.67292786]\n",
      "dc: -9.28e-03-2.38e-01j\tI:  4.00e-01\tQ: 4.35e-01+1.82e-01j\tB: -103.38 G: -45.74, C:0.00\n",
      "[ -45.74198914  -81.12524414 -103.38358307]\n",
      "dc: -9.28e-03-2.38e-01j\tI:  4.00e-01\tQ: 4.34e-01+1.83e-01j\tB: -99.09 G: -45.75, C:0.00\n",
      "[-45.74796677 -79.7501297  -99.09298706]\n",
      "dc: -9.28e-03-2.38e-01j\tI:  4.00e-01\tQ: 4.36e-01+1.82e-01j\tB: -103.95 G: -45.74, C:0.00\n",
      "[ -45.73833084  -78.42070007 -103.9548111 ]\n",
      "dc: -9.28e-03-2.38e-01j\tI:  4.00e-01\tQ: 4.35e-01+1.81e-01j\tB: -100.86 G: -45.74, C:0.00\n",
      "[ -45.74338913  -77.829216   -100.86155701]\n",
      "dc: -9.28e-03-2.38e-01j\tI:  4.00e-01\tQ: 4.35e-01+1.82e-01j\tB: -103.89 G: -45.74, C:0.00\n",
      "[ -45.74131775  -77.18404388 -103.89385986]\n",
      "dc: -9.28e-03-2.38e-01j\tI:  4.00e-01\tQ: 4.36e-01+1.82e-01j\tB: -103.29 G: -45.74, C:0.00\n",
      "[ -45.73647308  -80.29234314 -103.29154205]\n",
      "dc: -9.28e-03-2.38e-01j\tI:  4.00e-01\tQ: 4.35e-01+1.82e-01j\tB: -104.19 G: -45.74, C:0.00\n",
      "[ -45.74341583  -81.3012085  -104.18737793]\n",
      "dc: -9.28e-03-2.38e-01j\tI:  4.00e-01\tQ: 4.35e-01+1.81e-01j\tB: -103.09 G: -45.74, C:0.00\n",
      "[ -45.74208069  -84.04467773 -103.09427643]\n",
      "dc: -9.28e-03-2.38e-01j\tI:  4.00e-01\tQ: 4.35e-01+1.82e-01j\tB: -104.14 G: -45.74, C:0.00\n",
      "[ -45.73908997  -82.35053253 -104.13938904]\n",
      "dc: -9.28e-03-2.38e-01j\tI:  4.00e-01\tQ: 4.35e-01+1.82e-01j\tB: -103.34 G: -45.74, C:0.00\n",
      "[ -45.74304962  -80.87969208 -103.34291077]\n",
      "dc: -9.28e-03-2.38e-01j\tI:  4.00e-01\tQ: 4.35e-01+1.82e-01j\tB: -104.13 G: -45.74, C:0.00\n",
      "[ -45.73958969  -76.31636047 -104.13090515]\n",
      "dc: -9.28e-03-2.38e-01j\tI:  4.00e-01\tQ: 4.35e-01+1.82e-01j\tB: -103.91 G: -45.74, C:0.00\n",
      "[ -45.740448    -79.4055481  -103.91403961]\n",
      "dc: -9.28e-03-2.38e-01j\tI:  4.00e-01\tQ: 4.35e-01+1.82e-01j\tB: -103.96 G: -45.74, C:0.00\n",
      "[ -45.73926544  -78.25403595 -103.96120453]\n",
      "dc: -9.28e-03-2.38e-01j\tI:  4.00e-01\tQ: 4.35e-01+1.82e-01j\tB: -104.00 G: -45.74, C:0.00\n",
      "[ -45.74012756  -76.07707977 -103.99590302]\n",
      "dc: -9.28e-03-2.38e-01j\tI:  4.00e-01\tQ: 4.35e-01+1.82e-01j\tB: -104.01 G: -45.74, C:0.00\n",
      "[ -45.73931503  -77.25119019 -104.00728607]\n",
      "dc: -9.28e-03-2.38e-01j\tI:  4.00e-01\tQ: 4.35e-01+1.82e-01j\tB: -103.97 G: -45.74, C:0.00\n",
      "[ -45.74012756  -78.29866028 -103.96664429]\n",
      "dc: -9.28e-03-2.38e-01j\tI:  4.00e-01\tQ: 4.35e-01+1.82e-01j\tB: -104.37 G: -45.74, C:0.00\n",
      "[ -45.73888016  -81.21866608 -104.37051392]\n",
      "dc: -9.28e-03-2.38e-01j\tI:  4.00e-01\tQ: 4.35e-01+1.82e-01j\tB: -103.84 G: -45.74, C:0.00\n",
      "[ -45.73968887  -78.55839539 -103.83563232]\n",
      "dc: -9.28e-03-2.38e-01j\tI:  4.00e-01\tQ: 4.35e-01+1.82e-01j\tB: -103.91 G: -45.74, C:0.00\n",
      "[ -45.73905563  -79.72084045 -103.90647125]\n",
      "dc: -9.28e-03-2.38e-01j\tI:  4.00e-01\tQ: 4.35e-01+1.82e-01j\tB: -104.12 G: -45.74, C:0.00\n",
      "[ -45.74166489  -78.06796265 -104.12014771]\n",
      "dc: -9.28e-03-2.38e-01j\tI:  4.00e-01\tQ: 4.35e-01+1.82e-01j\tB: -103.98 G: -45.74, C:0.00\n",
      "[ -45.74043274  -82.83588409 -103.97777557]\n",
      "dc: -9.28e-03-2.38e-01j\tI:  4.00e-01\tQ: 4.35e-01+1.82e-01j\tB: -104.30 G: -45.74, C:0.00\n",
      "[ -45.74151993  -77.80049133 -104.29528809]\n",
      "dc: -9.28e-03-2.38e-01j\tI:  4.00e-01\tQ: 4.35e-01+1.82e-01j\tB: -103.73 G: -45.74, C:0.00\n",
      "[ -45.74028397  -78.22753906 -103.73316193]\n",
      "dc: -9.28e-03-2.38e-01j\tI:  4.00e-01\tQ: 4.35e-01+1.82e-01j\tB: -104.28 G: -45.74, C:0.00\n",
      "[ -45.74090576  -80.18888855 -104.27789307]\n",
      "dc: -9.28e-03-2.38e-01j\tI:  4.00e-01\tQ: 4.35e-01+1.82e-01j\tB: -104.07 G: -45.74, C:0.00\n",
      "[ -45.7410965   -78.74762726 -104.07272339]\n",
      "dc: -9.28e-03-2.38e-01j\tI:  4.00e-01\tQ: 4.35e-01+1.82e-01j\tB: -103.89 G: -45.74, C:0.00\n",
      "[ -45.73928452  -82.36346436 -103.89084625]\n",
      "dc: -9.28e-03-2.38e-01j\tI:  4.00e-01\tQ: 4.35e-01+1.82e-01j\tB: -103.92 G: -45.74, C:0.00\n",
      "[ -45.74134827  -82.72289276 -103.91907501]\n",
      "dc: -9.28e-03-2.38e-01j\tI:  4.00e-01\tQ: 4.35e-01+1.82e-01j\tB: -104.11 G: -45.74, C:0.00\n",
      "[ -45.73881149  -77.11166382 -104.11181641]\n",
      "Warning: Maximum number of iterations has been exceeded.\n",
      "dc: -9.28e-03-2.38e-01j\tI:  4.00e-01\tQ: 4.35e-01+1.82e-01j\tB: -78.15 G: -45.74, C:0.00\n",
      "[-106.40302277 -105.64463043 -105.54940796  -45.74291992  -81.38258362\n",
      " -104.4232254  -105.02082825 -104.69085693 -104.85324097]\n",
      "d:\\data/calibrations/iq-rf/ frequency-3.676e+09-if--3.738e+08-sideband_id-     0\n",
      "expected str, bytes or os.PathLike object, not NoneType\n",
      "-373800000.0 3676200000.0\n",
      "dc: -9.28e-03-2.38e-01j\tI:  4.00e-01\tQ: 5.00e-01-2.00e-01j\tB: -56.04 G: -47.86, C:0.00\n",
      "[-47.86196518 -81.02139282 -56.04307175]\n",
      "dc: -9.28e-03-2.38e-01j\tI:  4.00e-01\tQ: 5.25e-01-2.00e-01j\tB: -56.10 G: -47.67, C:0.00\n",
      "[-47.67012405 -81.09130859 -56.10492325]\n",
      "dc: -9.28e-03-2.38e-01j\tI:  4.00e-01\tQ: 5.00e-01-2.10e-01j\tB: -55.82 G: -47.85, C:0.00\n",
      "[-47.84705353 -79.59468079 -55.82494354]\n",
      "dc: -9.28e-03-2.38e-01j\tI:  4.00e-01\tQ: 5.25e-01-1.90e-01j\tB: -56.34 G: -47.68, C:0.00\n",
      "[-47.68162537 -79.63072968 -56.33536911]\n",
      "dc: -9.28e-03-2.38e-01j\tI:  4.00e-01\tQ: 5.37e-01-1.80e-01j\tB: -56.57 G: -47.60, C:0.00\n",
      "[-47.5999527  -78.52705383 -56.56816101]\n",
      "dc: -9.28e-03-2.38e-01j\tI:  4.00e-01\tQ: 5.62e-01-1.80e-01j\tB: -56.58 G: -47.42, C:0.00\n",
      "[-47.41913605 -81.8511734  -56.57760239]\n",
      "dc: -9.28e-03-2.38e-01j\tI:  4.00e-01\tQ: 5.94e-01-1.70e-01j\tB: -56.76 G: -47.20, C:0.00\n",
      "[-47.19992065 -78.34745789 -56.75627136]\n",
      "dc: -9.28e-03-2.38e-01j\tI:  4.00e-01\tQ: 6.06e-01-1.50e-01j\tB: -57.20 G: -47.13, C:0.00\n",
      "[-47.12571335 -77.06788635 -57.20217133]\n",
      "dc: -9.28e-03-2.38e-01j\tI:  4.00e-01\tQ: 6.47e-01-1.25e-01j\tB: -57.59 G: -46.85, C:0.00\n",
      "[-46.84870148 -77.23342133 -57.5857811 ]\n",
      "dc: -9.28e-03-2.38e-01j\tI:  4.00e-01\tQ: 7.03e-01-1.15e-01j\tB: -57.28 G: -46.47, C:0.00\n",
      "[-46.46628189 -85.14710999 -57.27940369]\n",
      "dc: -9.28e-03-2.38e-01j\tI:  4.00e-01\tQ: 7.86e-01-8.25e-02j\tB: -56.79 G: -45.93, C:0.03\n",
      "[-45.92513275 -79.13550568 -56.78773117]\n",
      "dc: -9.28e-03-2.38e-01j\tI:  4.00e-01\tQ: 7.56e-01-7.00e-02j\tB: -57.51 G: -46.12, C:0.00\n",
      "[-46.12418365 -81.10223389 -57.51311493]\n",
      "dc: -9.28e-03-2.38e-01j\tI:  4.00e-01\tQ: 8.37e-01-2.00e-02j\tB: -56.93 G: -45.62, C:0.08\n",
      "[-45.62250137 -81.98954773 -56.92708206]\n",
      "dc: -9.28e-03-2.38e-01j\tI:  4.00e-01\tQ: 8.12e-01-6.00e-02j\tB: -56.75 G: -45.77, C:0.05\n",
      "[-45.76546478 -78.16934204 -56.75354767]\n",
      "dc: -9.28e-03-2.38e-01j\tI:  4.00e-01\tQ: 6.88e-01-1.09e-01j\tB: -57.59 G: -46.57, C:0.00\n",
      "[-46.5706749  -82.80736542 -57.59221649]\n",
      "dc: -9.28e-03-2.38e-01j\tI:  4.00e-01\tQ: 7.41e-01-6.38e-02j\tB: -57.89 G: -46.23, C:0.00\n",
      "[-46.22613144 -79.05224609 -57.8890419 ]\n",
      "dc: -9.28e-03-2.38e-01j\tI:  4.00e-01\tQ: 7.61e-01-3.81e-02j\tB: -58.10 G: -46.10, C:0.00\n",
      "[-46.10150909 -77.38288116 -58.09537888]\n",
      "dc: -9.28e-03-2.38e-01j\tI:  4.00e-01\tQ: 8.29e-01+6.25e-04j\tB: -57.40 G: -45.68, C:0.07\n",
      "[-45.67589188 -79.37172699 -57.4041481 ]\n",
      "dc: -9.28e-03-2.38e-01j\tI:  4.00e-01\tQ: 7.23e-01-8.14e-02j\tB: -57.78 G: -46.35, C:0.00\n",
      "[-46.34544754 -82.25215149 -57.7792778 ]\n",
      "dc: -9.28e-03-2.38e-01j\tI:  4.00e-01\tQ: 7.28e-01-4.95e-02j\tB: -58.47 G: -46.33, C:0.00\n",
      "[-46.32543945 -82.9708252  -58.46689987]\n",
      "dc: -9.28e-03-2.38e-01j\tI:  4.00e-01\tQ: 7.13e-01-3.93e-02j\tB: -58.97 G: -46.43, C:0.00\n",
      "[-46.42605972 -82.83307648 -58.96996689]\n",
      "dc: -9.28e-03-2.38e-01j\tI:  4.00e-01\tQ: 7.51e-01+3.98e-03j\tB: -59.21 G: -46.17, C:0.00\n",
      "[-46.17239761 -81.44035339 -59.20878983]\n",
      "dc: -9.28e-03-2.38e-01j\tI:  4.00e-01\tQ: 7.64e-01+4.67e-02j\tB: -59.70 G: -46.07, C:0.00\n",
      "[-46.07442474 -76.15529633 -59.70278931]\n",
      "dc: -9.28e-03-2.38e-01j\tI:  4.00e-01\tQ: 7.17e-01+4.55e-02j\tB: -61.08 G: -46.40, C:0.00\n",
      "[-46.39698792 -76.33498383 -61.07727051]\n",
      "dc: -9.28e-03-2.38e-01j\tI:  4.00e-01\tQ: 6.95e-01+8.73e-02j\tB: -62.97 G: -46.53, C:0.00\n",
      "[-46.52993393 -76.26094055 -62.97177505]\n",
      "dc: -9.28e-03-2.38e-01j\tI:  4.00e-01\tQ: 7.46e-01+1.73e-01j\tB: -62.00 G: -46.12, C:0.00\n",
      "[-46.12195969 -77.0153656  -61.99875259]\n",
      "dc: -9.28e-03-2.38e-01j\tI:  4.00e-01\tQ: 6.77e-01+2.14e-01j\tB: -65.58 G: -46.55, C:0.00\n",
      "[-46.54801941 -86.38050079 -65.58227539]\n",
      "dc: -9.28e-03-2.38e-01j\tI:  4.00e-01\tQ: 6.33e-01+2.98e-01j\tB: -64.96 G: -46.72, C:0.00\n",
      "[-46.72139359 -81.35193634 -64.9556427 ]\n"
     ]
    },
    {
     "name": "stdout",
     "output_type": "stream",
     "text": [
      "dc: -9.28e-03-2.38e-01j\tI:  4.00e-01\tQ: 6.26e-01+1.28e-01j\tB: -68.28 G: -46.99, C:0.00\n",
      "[-46.99303055 -79.85283661 -68.28173065]\n",
      "dc: -9.28e-03-2.38e-01j\tI:  4.00e-01\tQ: 5.66e-01+1.05e-01j\tB: -69.57 G: -47.46, C:0.00\n",
      "[-47.45543289 -79.13324738 -69.57492828]\n",
      "dc: -9.28e-03-2.38e-01j\tI:  4.00e-01\tQ: 5.48e-01+2.32e-01j\tB: -74.47 G: -47.45, C:0.00\n",
      "[-47.44759369 -75.85198975 -74.47000885]\n",
      "dc: -9.28e-03-2.38e-01j\tI:  4.00e-01\tQ: 4.74e-01+3.04e-01j\tB: -64.86 G: -47.85, C:0.00\n",
      "[-47.85255432 -79.24105072 -64.86444855]\n",
      "dc: -9.28e-03-2.38e-01j\tI:  4.00e-01\tQ: 4.37e-01+1.23e-01j\tB: -65.61 G: -48.47, C:0.00\n",
      "[-48.4739151  -83.54025269 -65.61344147]\n",
      "dc: -9.28e-03-2.38e-01j\tI:  4.00e-01\tQ: 6.17e-01+1.91e-01j\tB: -71.36 G: -46.99, C:0.00\n",
      "[-46.99107361 -79.38855743 -71.35857391]\n",
      "dc: -9.28e-03-2.38e-01j\tI:  4.00e-01\tQ: 5.99e-01+3.18e-01j\tB: -64.87 G: -46.92, C:0.00\n",
      "[-46.92258835 -79.66593933 -64.86804962]\n",
      "dc: -9.28e-03-2.38e-01j\tI:  4.00e-01\tQ: 5.74e-01+1.58e-01j\tB: -76.69 G: -47.35, C:0.00\n",
      "[-47.3460083  -79.80853271 -76.693367  ]\n",
      "dc: -9.28e-03-2.38e-01j\tI:  4.00e-01\tQ: 5.05e-01+1.99e-01j\tB: -74.34 G: -47.81, C:0.00\n",
      "[-47.81450272 -81.67259979 -74.34363556]\n",
      "dc: -9.28e-03-2.38e-01j\tI:  4.00e-01\tQ: 5.33e-01+1.97e-01j\tB: -81.45 G: -47.60, C:0.00\n",
      "[-47.6024971  -80.1256485  -81.44594574]\n",
      "dc: -9.28e-03-2.38e-01j\tI:  4.00e-01\tQ: 5.60e-01+1.24e-01j\tB: -71.88 G: -47.49, C:0.00\n",
      "[-47.49059677 -82.35663605 -71.88186646]\n",
      "dc: -9.28e-03-2.38e-01j\tI:  4.00e-01\tQ: 5.51e-01+2.05e-01j\tB: -82.21 G: -47.46, C:0.00\n",
      "[-47.462677   -82.35673523 -82.20676422]\n",
      "dc: -9.28e-03-2.38e-01j\tI:  4.00e-01\tQ: 5.10e-01+2.44e-01j\tB: -70.84 G: -47.71, C:0.00\n",
      "[-47.70575333 -79.44187927 -70.83531189]\n",
      "dc: -9.28e-03-2.38e-01j\tI:  4.00e-01\tQ: 5.58e-01+1.80e-01j\tB: -88.08 G: -47.44, C:0.00\n",
      "[-47.44219208 -81.79540253 -88.08319092]\n",
      "dc: -9.28e-03-2.38e-01j\tI:  4.00e-01\tQ: 5.76e-01+1.87e-01j\tB: -79.68 G: -47.30, C:0.00\n",
      "[-47.30344009 -77.05609131 -79.67798615]\n",
      "dc: -9.28e-03-2.38e-01j\tI:  4.00e-01\tQ: 5.44e-01+1.95e-01j\tB: -86.53 G: -47.53, C:0.00\n",
      "[-47.52906036 -78.56918335 -86.52747345]\n",
      "dc: -9.28e-03-2.38e-01j\tI:  4.00e-01\tQ: 5.51e-01+1.70e-01j\tB: -83.80 G: -47.51, C:0.00\n",
      "[-47.50595856 -80.08515167 -83.79695129]\n",
      "dc: -9.28e-03-2.38e-01j\tI:  4.00e-01\tQ: 5.51e-01+1.78e-01j\tB: -90.32 G: -47.50, C:0.00\n",
      "[-47.49566269 -81.12485504 -90.32015228]\n",
      "dc: -9.28e-03-2.38e-01j\tI:  4.00e-01\tQ: 5.65e-01+1.63e-01j\tB: -79.26 G: -47.41, C:0.00\n",
      "[-47.40522766 -80.04706573 -79.25894928]\n",
      "dc: -9.28e-03-2.38e-01j\tI:  4.00e-01\tQ: 5.49e-01+1.87e-01j\tB: -100.83 G: -47.50, C:0.00\n",
      "[ -47.49575806  -80.68826294 -100.82585907]\n",
      "dc: -9.28e-03-2.38e-01j\tI:  4.00e-01\tQ: 5.42e-01+1.86e-01j\tB: -89.38 G: -47.55, C:0.00\n",
      "[-47.54852676 -80.22071075 -89.37693787]\n",
      "dc: -9.28e-03-2.38e-01j\tI:  4.00e-01\tQ: 5.46e-01+1.84e-01j\tB: -94.23 G: -47.52, C:0.00\n",
      "[-47.5217514  -79.21360779 -94.22761536]\n",
      "dc: -9.28e-03-2.38e-01j\tI:  4.00e-01\tQ: 5.44e-01+1.93e-01j\tB: -88.46 G: -47.53, C:0.00\n",
      "[-47.52524948 -80.40975952 -88.46221161]\n",
      "dc: -9.28e-03-2.38e-01j\tI:  4.00e-01\tQ: 5.49e-01+1.82e-01j\tB: -95.18 G: -47.50, C:0.00\n",
      "[-47.49899673 -85.92785645 -95.17944336]\n",
      "dc: -9.28e-03-2.38e-01j\tI:  4.00e-01\tQ: 5.52e-01+1.85e-01j\tB: -100.03 G: -47.47, C:0.00\n",
      "[ -47.47464371  -83.04725647 -100.03056335]\n",
      "dc: -9.28e-03-2.38e-01j\tI:  4.00e-01\tQ: 5.52e-01+1.90e-01j\tB: -94.77 G: -47.47, C:0.00\n",
      "[-47.46982574 -85.4429245  -94.76526642]\n",
      "dc: -9.28e-03-2.38e-01j\tI:  4.00e-01\tQ: 5.50e-01+1.84e-01j\tB: -100.32 G: -47.49, C:0.00\n",
      "[ -47.49168777  -83.88716888 -100.31982422]\n",
      "dc: -9.28e-03-2.38e-01j\tI:  4.00e-01\tQ: 5.47e-01+1.86e-01j\tB: -95.72 G: -47.51, C:0.00\n",
      "[-47.51257324 -85.59848785 -95.7195282 ]\n",
      "dc: -9.28e-03-2.38e-01j\tI:  4.00e-01\tQ: 5.51e-01+1.85e-01j\tB: -104.50 G: -47.48, C:0.00\n",
      "[ -47.4847641   -83.37879944 -104.49719238]\n",
      "dc: -9.28e-03-2.38e-01j\tI:  4.00e-01\tQ: 5.50e-01+1.88e-01j\tB: -98.20 G: -47.49, C:0.00\n",
      "[-47.48801422 -86.35704041 -98.19854736]\n",
      "dc: -9.28e-03-2.38e-01j\tI:  4.00e-01\tQ: 5.50e-01+1.85e-01j\tB: -104.21 G: -47.49, C:0.00\n",
      "[ -47.49252319  -84.44380188 -104.21246338]\n",
      "dc: -9.28e-03-2.38e-01j\tI:  4.00e-01\tQ: 5.52e-01+1.83e-01j\tB: -98.24 G: -47.48, C:0.00\n",
      "[-47.4814949  -86.12320709 -98.23792267]\n",
      "dc: -9.28e-03-2.38e-01j\tI:  4.00e-01\tQ: 5.50e-01+1.86e-01j\tB: -103.22 G: -47.49, C:0.00\n",
      "[ -47.49194336  -84.18535614 -103.21621704]\n",
      "dc: -9.28e-03-2.38e-01j\tI:  4.00e-01\tQ: 5.51e-01+1.84e-01j\tB: -102.20 G: -47.48, C:0.00\n",
      "[ -47.48456192  -84.30175781 -102.20314026]\n",
      "dc: -9.28e-03-2.38e-01j\tI:  4.00e-01\tQ: 5.50e-01+1.85e-01j\tB: -104.72 G: -47.49, C:0.00\n",
      "[ -47.49097061  -83.21887207 -104.72381592]\n",
      "dc: -9.28e-03-2.38e-01j\tI:  4.00e-01\tQ: 5.51e-01+1.86e-01j\tB: -104.46 G: -47.48, C:0.00\n",
      "[ -47.48308945  -85.55677032 -104.46167755]\n",
      "dc: -9.28e-03-2.38e-01j\tI:  4.00e-01\tQ: 5.51e-01+1.85e-01j\tB: -104.93 G: -47.49, C:0.00\n",
      "[ -47.4864006   -82.9598999  -104.93063354]\n",
      "dc: -9.28e-03-2.38e-01j\tI:  4.00e-01\tQ: 5.50e-01+1.86e-01j\tB: -104.03 G: -47.49, C:0.00\n",
      "[ -47.49175644  -84.94503021 -104.02823639]\n",
      "dc: -9.28e-03-2.38e-01j\tI:  4.00e-01\tQ: 5.51e-01+1.85e-01j\tB: -104.78 G: -47.49, C:0.00\n",
      "[ -47.48696136  -82.56864166 -104.77947998]\n",
      "dc: -9.28e-03-2.38e-01j\tI:  4.00e-01\tQ: 5.52e-01+1.85e-01j\tB: -103.72 G: -47.48, C:0.00\n",
      "[ -47.48308563  -81.73835754 -103.72405243]\n",
      "dc: -9.28e-03-2.38e-01j\tI:  4.00e-01\tQ: 5.51e-01+1.85e-01j\tB: -105.28 G: -47.49, C:0.00\n",
      "[ -47.48948669  -82.64054871 -105.27889252]\n",
      "dc: -9.28e-03-2.38e-01j\tI:  4.00e-01\tQ: 5.51e-01+1.86e-01j\tB: -105.21 G: -47.49, C:0.00\n",
      "[ -47.48553848  -85.16602325 -105.21404266]\n",
      "dc: -9.28e-03-2.38e-01j\tI:  4.00e-01\tQ: 5.50e-01+1.86e-01j\tB: -105.13 G: -47.49, C:0.00\n",
      "[ -47.49104309  -84.71707153 -105.13022614]\n",
      "dc: -9.28e-03-2.38e-01j\tI:  4.00e-01\tQ: 5.50e-01+1.86e-01j\tB: -105.13 G: -47.49, C:0.00\n",
      "[ -47.48781967  -82.79306793 -105.1259613 ]\n",
      "dc: -9.28e-03-2.38e-01j\tI:  4.00e-01\tQ: 5.51e-01+1.85e-01j\tB: -105.26 G: -47.48, C:0.00\n",
      "[ -47.48498535  -78.93717194 -105.25719452]\n",
      "dc: -9.28e-03-2.38e-01j\tI:  4.00e-01\tQ: 5.51e-01+1.85e-01j\tB: -104.93 G: -47.49, C:0.00\n",
      "[ -47.48523331  -84.93515015 -104.92877197]\n",
      "dc: -9.28e-03-2.38e-01j\tI:  4.00e-01\tQ: 5.50e-01+1.85e-01j\tB: -105.10 G: -47.49, C:0.00\n",
      "[ -47.48862076  -83.82376099 -105.10227203]\n",
      "dc: -9.28e-03-2.38e-01j\tI:  4.00e-01\tQ: 5.51e-01+1.85e-01j\tB: -105.16 G: -47.49, C:0.00\n",
      "[ -47.48533249  -82.69019318 -105.15886688]\n",
      "dc: -9.28e-03-2.38e-01j\tI:  4.00e-01\tQ: 5.51e-01+1.85e-01j\tB: -104.97 G: -47.49, C:0.00\n",
      "[ -47.48689651  -84.6252594  -104.97329712]\n",
      "dc: -9.28e-03-2.38e-01j\tI:  4.00e-01\tQ: 5.51e-01+1.85e-01j\tB: -105.18 G: -47.49, C:0.00\n",
      "[ -47.48887253  -80.58376312 -105.17696381]\n",
      "dc: -9.28e-03-2.38e-01j\tI:  4.00e-01\tQ: 5.51e-01+1.85e-01j\tB: -104.88 G: -47.49, C:0.00\n",
      "[ -47.48890686  -82.2888031  -104.87760925]\n",
      "dc: -9.28e-03-2.38e-01j\tI:  4.00e-01\tQ: 5.51e-01+1.85e-01j\tB: -105.26 G: -47.49, C:0.00\n",
      "[ -47.48865509  -80.64813995 -105.26107788]\n",
      "Warning: Maximum number of iterations has been exceeded.\n",
      "dc: -9.28e-03-2.38e-01j\tI:  4.00e-01\tQ: 5.51e-01+1.85e-01j\tB: -77.37 G: -47.49, C:0.00\n",
      "[-105.62812805 -105.92970276 -103.00085449  -47.48788071  -80.35407257\n",
      " -105.06903839 -104.49705505 -106.11741638 -105.10434723]\n",
      "d:\\data/calibrations/iq-rf/ frequency-3.53e+09-if--5.2e+08-sideband_id-     0\n",
      "expected str, bytes or os.PathLike object, not NoneType\n",
      "-520000000.0 3530000000.0\n",
      "dc: -9.28e-03-2.38e-01j\tI:  4.00e-01\tQ: 5.00e-01-2.00e-01j\tB: -64.29 G: -51.99, C:0.00\n",
      "[-51.98707199 -83.93222046 -64.29231262]\n",
      "dc: -9.28e-03-2.38e-01j\tI:  4.00e-01\tQ: 5.25e-01-2.00e-01j\tB: -64.49 G: -51.80, C:0.00\n",
      "[-51.80282211 -85.576828   -64.48906708]\n",
      "dc: -9.28e-03-2.38e-01j\tI:  4.00e-01\tQ: 5.00e-01-2.10e-01j\tB: -64.07 G: -51.97, C:0.00\n",
      "[-51.96970367 -86.48933411 -64.07259369]\n",
      "dc: -9.28e-03-2.38e-01j\tI:  4.00e-01\tQ: 5.25e-01-1.90e-01j\tB: -64.70 G: -51.82, C:0.00\n",
      "[-51.82120514 -82.35486603 -64.69898987]\n",
      "dc: -9.28e-03-2.38e-01j\tI:  4.00e-01\tQ: 5.37e-01-1.80e-01j\tB: -65.03 G: -51.74, C:0.00\n",
      "[-51.74422455 -81.78644562 -65.02507782]\n",
      "dc: -9.28e-03-2.38e-01j\tI:  4.00e-01\tQ: 5.62e-01-1.80e-01j\tB: -65.25 G: -51.57, C:0.00\n",
      "[-51.57115555 -84.59690094 -65.24615479]\n",
      "dc: -9.28e-03-2.38e-01j\tI:  4.00e-01\tQ: 5.94e-01-1.70e-01j\tB: -65.68 G: -51.37, C:0.00\n",
      "[-51.37381363 -83.45638275 -65.67867279]\n",
      "dc: -9.28e-03-2.38e-01j\tI:  4.00e-01\tQ: 6.06e-01-1.50e-01j\tB: -66.25 G: -51.31, C:0.00\n",
      "[-51.31452179 -82.59002686 -66.24823761]\n"
     ]
    },
    {
     "name": "stdout",
     "output_type": "stream",
     "text": [
      "dc: -9.28e-03-2.38e-01j\tI:  4.00e-01\tQ: 6.47e-01-1.25e-01j\tB: -67.13 G: -51.08, C:0.00\n",
      "[-51.07756424 -78.9405899  -67.1329422 ]\n",
      "dc: -9.28e-03-2.38e-01j\tI:  4.00e-01\tQ: 7.03e-01-1.15e-01j\tB: -67.34 G: -50.71, C:0.00\n",
      "[-50.71456528 -77.85366058 -67.3421402 ]\n",
      "dc: -9.28e-03-2.38e-01j\tI:  4.00e-01\tQ: 7.86e-01-8.25e-02j\tB: -67.51 G: -50.23, C:0.03\n",
      "[-50.22669601 -82.47755432 -67.51493835]\n",
      "dc: -9.28e-03-2.38e-01j\tI:  4.00e-01\tQ: 7.56e-01-7.00e-02j\tB: -68.31 G: -50.41, C:0.00\n",
      "[-50.41332626 -83.54347992 -68.30757904]\n",
      "dc: -9.28e-03-2.38e-01j\tI:  4.00e-01\tQ: 8.37e-01-2.00e-02j\tB: -68.23 G: -49.96, C:0.08\n",
      "[-49.95750427 -78.15855408 -68.22902679]\n",
      "dc: -9.28e-03-2.38e-01j\tI:  4.00e-01\tQ: 8.12e-01-6.00e-02j\tB: -67.70 G: -50.09, C:0.05\n",
      "[-50.08547211 -80.27150726 -67.69988251]\n",
      "dc: -9.28e-03-2.38e-01j\tI:  4.00e-01\tQ: 6.88e-01-1.09e-01j\tB: -67.61 G: -50.82, C:0.00\n",
      "[-50.81906128 -79.50012207 -67.60688019]\n",
      "dc: -9.28e-03-2.38e-01j\tI:  4.00e-01\tQ: 7.41e-01-6.38e-02j\tB: -68.71 G: -50.51, C:0.00\n",
      "[-50.50980759 -79.93070984 -68.71031952]\n",
      "dc: -9.28e-03-2.38e-01j\tI:  4.00e-01\tQ: 7.61e-01-3.81e-02j\tB: -69.32 G: -50.40, C:0.00\n",
      "[-50.40208054 -78.42079926 -69.32192993]\n",
      "dc: -9.28e-03-2.38e-01j\tI:  4.00e-01\tQ: 8.29e-01+6.25e-04j\tB: -68.97 G: -50.01, C:0.07\n",
      "[-50.01307678 -77.83494568 -68.96517181]\n",
      "dc: -9.28e-03-2.38e-01j\tI:  4.00e-01\tQ: 7.23e-01-8.14e-02j\tB: -68.30 G: -50.62, C:0.00\n",
      "[-50.6165123  -79.86170197 -68.30226135]\n",
      "dc: -9.28e-03-2.38e-01j\tI:  4.00e-01\tQ: 7.93e-01-2.67e-02j\tB: -69.02 G: -50.21, C:0.03\n",
      "[-50.21197128 -79.50305176 -69.02466583]\n",
      "dc: -9.28e-03-2.38e-01j\tI:  4.00e-01\tQ: 7.41e-01-6.77e-02j\tB: -68.58 G: -50.51, C:0.00\n",
      "[-50.50967026 -82.29878998 -68.57939148]\n",
      "dc: -9.28e-03-2.38e-01j\tI:  4.00e-01\tQ: 7.45e-01-3.59e-02j\tB: -69.67 G: -50.50, C:0.00\n",
      "[-50.50156021 -83.95652771 -69.67067719]\n",
      "dc: -9.28e-03-2.38e-01j\tI:  4.00e-01\tQ: 7.40e-01-1.88e-02j\tB: -70.46 G: -50.54, C:0.00\n",
      "[-50.54159164 -84.37160492 -70.45885468]\n",
      "dc: -9.28e-03-2.38e-01j\tI:  4.00e-01\tQ: 7.59e-01+1.08e-02j\tB: -71.23 G: -50.43, C:0.00\n",
      "[-50.42765808 -81.87319946 -71.23342133]\n",
      "dc: -9.28e-03-2.38e-01j\tI:  4.00e-01\tQ: 7.69e-01+5.01e-02j\tB: -72.53 G: -50.37, C:0.00\n",
      "[-50.37431335 -84.36418152 -72.52779388]\n",
      "dc: -9.28e-03-2.38e-01j\tI:  4.00e-01\tQ: 7.48e-01+6.94e-02j\tB: -74.32 G: -50.50, C:0.00\n",
      "[-50.50315475 -82.2674408  -74.31925964]\n",
      "dc: -9.28e-03-2.38e-01j\tI:  4.00e-01\tQ: 7.41e-01+1.23e-01j\tB: -77.31 G: -50.54, C:0.00\n",
      "[-50.53542328 -84.64331055 -77.31044006]\n",
      "dc: -9.28e-03-2.38e-01j\tI:  4.00e-01\tQ: 7.70e-01+1.92e-01j\tB: -74.94 G: -50.33, C:0.03\n",
      "[-50.32896423 -86.32849884 -74.94123077]\n",
      "dc: -9.28e-03-2.38e-01j\tI:  4.00e-01\tQ: 7.62e-01+1.39e-01j\tB: -75.89 G: -50.40, C:0.01\n",
      "[-50.39594269 -81.13640594 -75.89248657]\n",
      "dc: -9.28e-03-2.38e-01j\tI:  4.00e-01\tQ: 7.35e-01+2.12e-01j\tB: -76.77 G: -50.53, C:0.00\n",
      "[-50.52716064 -80.92630005 -76.77487183]\n",
      "dc: -9.28e-03-2.38e-01j\tI:  4.00e-01\tQ: 7.14e-01+1.96e-01j\tB: -79.66 G: -50.67, C:0.00\n",
      "[-50.67365265 -83.67195892 -79.6601944 ]\n",
      "dc: -9.28e-03-2.38e-01j\tI:  4.00e-01\tQ: 6.89e-01+2.25e-01j\tB: -78.69 G: -50.81, C:0.00\n",
      "[-50.80823135 -85.34047699 -78.69062042]\n",
      "dc: -9.28e-03-2.38e-01j\tI:  4.00e-01\tQ: 7.20e-01+1.07e-01j\tB: -78.39 G: -50.67, C:0.00\n",
      "[-50.67466736 -86.4291153  -78.38715363]\n",
      "dc: -9.28e-03-2.38e-01j\tI:  4.00e-01\tQ: 6.92e-01+1.80e-01j\tB: -84.19 G: -50.82, C:0.00\n",
      "[-50.8211441  -83.80164337 -84.18647766]\n",
      "dc: -9.28e-03-2.38e-01j\tI:  4.00e-01\tQ: 6.68e-01+2.09e-01j\tB: -81.62 G: -50.96, C:0.00\n",
      "[-50.9635582  -77.54963684 -81.62107849]\n",
      "dc: -9.28e-03-2.38e-01j\tI:  4.00e-01\tQ: 6.86e-01+2.69e-01j\tB: -74.82 G: -50.79, C:0.00\n",
      "[-50.78636932 -83.92662811 -74.82294464]\n",
      "dc: -9.28e-03-2.38e-01j\tI:  4.00e-01\tQ: 7.11e-01+1.48e-01j\tB: -81.85 G: -50.72, C:0.00\n",
      "[-50.71577072 -85.73809052 -81.85385895]\n",
      "dc: -9.28e-03-2.38e-01j\tI:  4.00e-01\tQ: 6.90e-01+1.31e-01j\tB: -84.36 G: -50.86, C:0.00\n",
      "[-50.86422729 -83.43783569 -84.36309052]\n",
      "dc: -9.28e-03-2.38e-01j\tI:  4.00e-01\tQ: 6.78e-01+9.91e-02j\tB: -80.55 G: -50.95, C:0.00\n",
      "[-50.94793701 -86.15799713 -80.55339813]\n",
      "dc: -9.28e-03-2.38e-01j\tI:  4.00e-01\tQ: 6.71e-01+1.64e-01j\tB: -93.74 G: -50.97, C:0.00\n",
      "[-50.97272873 -81.58448029 -93.73957825]\n",
      "dc: -9.28e-03-2.38e-01j\tI:  4.00e-01\tQ: 6.51e-01+1.72e-01j\tB: -90.59 G: -51.10, C:0.00\n",
      "[-51.1030426  -83.65141296 -90.59120178]\n",
      "dc: -9.28e-03-2.38e-01j\tI:  4.00e-01\tQ: 6.69e-01+1.15e-01j\tB: -83.66 G: -51.01, C:0.00\n",
      "[-51.00933075 -84.07517242 -83.66397095]\n",
      "dc: -9.28e-03-2.38e-01j\tI:  4.00e-01\tQ: 6.87e-01+1.64e-01j\tB: -87.54 G: -50.87, C:0.00\n",
      "[-50.86906433 -81.64509583 -87.54146576]\n",
      "dc: -9.28e-03-2.38e-01j\tI:  4.00e-01\tQ: 6.68e-01+1.96e-01j\tB: -83.82 G: -50.98, C:0.00\n",
      "[-50.97776794 -85.47131348 -83.81600189]\n",
      "dc: -9.28e-03-2.38e-01j\tI:  4.00e-01\tQ: 6.84e-01+1.48e-01j\tB: -87.95 G: -50.89, C:0.00\n",
      "[-50.893013   -79.39125824 -87.94792938]\n",
      "dc: -9.28e-03-2.38e-01j\tI:  4.00e-01\tQ: 6.69e-01+1.48e-01j\tB: -94.28 G: -51.00, C:0.00\n",
      "[-50.99625397 -78.58405304 -94.28165436]\n",
      "dc: -9.28e-03-2.38e-01j\tI:  4.00e-01\tQ: 6.60e-01+1.40e-01j\tB: -91.41 G: -51.06, C:0.00\n",
      "[-51.05673218 -77.68291473 -91.41230774]\n",
      "dc: -9.28e-03-2.38e-01j\tI:  4.00e-01\tQ: 6.56e-01+1.64e-01j\tB: -96.14 G: -51.08, C:0.00\n",
      "[-51.07735443 -83.25409698 -96.14115143]\n",
      "dc: -9.28e-03-2.38e-01j\tI:  4.00e-01\tQ: 6.41e-01+1.72e-01j\tB: -88.00 G: -51.17, C:0.00\n",
      "[-51.1679306  -79.68051147 -87.99720001]\n",
      "dc: -9.28e-03-2.38e-01j\tI:  4.00e-01\tQ: 6.54e-01+1.48e-01j\tB: -95.04 G: -51.10, C:0.00\n",
      "[-51.09939194 -80.00486755 -95.03533936]\n",
      "dc: -9.28e-03-2.38e-01j\tI:  4.00e-01\tQ: 6.40e-01+1.64e-01j\tB: -89.15 G: -51.18, C:0.00\n",
      "[-51.18042755 -76.42479706 -89.14500427]\n",
      "dc: -9.28e-03-2.38e-01j\tI:  4.00e-01\tQ: 6.62e-01+1.52e-01j\tB: -100.80 G: -51.04, C:0.00\n",
      "[ -51.0410347   -80.54011536 -100.79790497]\n",
      "dc: -9.28e-03-2.38e-01j\tI:  4.00e-01\tQ: 6.64e-01+1.68e-01j\tB: -94.10 G: -51.02, C:0.00\n",
      "[-51.02136612 -77.62082672 -94.09513855]\n",
      "dc: -9.28e-03-2.38e-01j\tI:  4.00e-01\tQ: 6.56e-01+1.53e-01j\tB: -99.62 G: -51.08, C:0.00\n",
      "[-51.08114624 -78.44578552 -99.61914062]\n",
      "dc: -9.28e-03-2.38e-01j\tI:  4.00e-01\tQ: 6.62e-01+1.41e-01j\tB: -91.92 G: -51.04, C:0.00\n",
      "[-51.04373932 -79.4852829  -91.92365265]\n",
      "dc: -9.28e-03-2.38e-01j\tI:  4.00e-01\tQ: 6.57e-01+1.58e-01j\tB: -101.83 G: -51.07, C:0.00\n",
      "[ -51.06794357  -79.03868103 -101.83070374]\n",
      "dc: -9.28e-03-2.38e-01j\tI:  4.00e-01\tQ: 6.63e-01+1.57e-01j\tB: -103.69 G: -51.03, C:0.00\n",
      "[ -51.03272629  -80.26006317 -103.68681335]\n",
      "dc: -9.28e-03-2.38e-01j\tI:  4.00e-01\tQ: 6.66e-01+1.59e-01j\tB: -99.33 G: -51.01, C:0.00\n",
      "[-51.00737762 -78.32543182 -99.32828522]\n",
      "dc: -9.28e-03-2.38e-01j\tI:  4.00e-01\tQ: 6.59e-01+1.64e-01j\tB: -98.29 G: -51.06, C:0.00\n",
      "[-51.05598831 -80.31490326 -98.28935242]\n",
      "dc: -9.28e-03-2.38e-01j\tI:  4.00e-01\tQ: 6.61e-01+1.55e-01j\tB: -103.88 G: -51.05, C:0.00\n",
      "[ -51.04719543  -81.77012634 -103.87775421]\n",
      "dc: -9.28e-03-2.38e-01j\tI:  4.00e-01\tQ: 6.67e-01+1.54e-01j\tB: -99.02 G: -51.01, C:0.00\n",
      "[-51.01024246 -77.93241119 -99.01596832]\n",
      "dc: -9.28e-03-2.38e-01j\tI:  4.00e-01\tQ: 6.60e-01+1.57e-01j\tB: -104.45 G: -51.05, C:0.00\n",
      "[ -51.05250168  -76.65641022 -104.44709015]\n",
      "dc: -9.28e-03-2.38e-01j\tI:  4.00e-01\tQ: 6.58e-01+1.55e-01j\tB: -102.17 G: -51.07, C:0.00\n",
      "[ -51.06781769  -76.81938171 -102.16609192]\n",
      "dc: -9.28e-03-2.38e-01j\tI:  4.00e-01\tQ: 6.62e-01+1.57e-01j\tB: -105.27 G: -51.04, C:0.00\n",
      "[ -51.04148865  -75.59217834 -105.27191162]\n",
      "dc: -9.28e-03-2.38e-01j\tI:  4.00e-01\tQ: 6.60e-01+1.59e-01j\tB: -103.13 G: -51.05, C:0.00\n",
      "[ -51.04977798  -75.62519073 -103.13332367]\n",
      "dc: -9.28e-03-2.38e-01j\tI:  4.00e-01\tQ: 6.61e-01+1.56e-01j\tB: -105.21 G: -51.04, C:0.00\n",
      "[ -51.04323196  -76.80281067 -105.21394348]\n",
      "dc: -9.28e-03-2.38e-01j\tI:  4.00e-01\tQ: 6.63e-01+1.55e-01j\tB: -104.16 G: -51.03, C:0.00\n",
      "[ -51.0317421   -74.97245026 -104.15740204]\n",
      "dc: -9.28e-03-2.38e-01j\tI:  4.00e-01\tQ: 6.61e-01+1.57e-01j\tB: -105.27 G: -51.05, C:0.00\n",
      "[ -51.04827118  -77.86190796 -105.27481079]\n",
      "dc: -9.28e-03-2.38e-01j\tI:  4.00e-01\tQ: 6.61e-01+1.57e-01j\tB: -104.57 G: -51.04, C:0.00\n",
      "[ -51.04255295  -79.64321136 -104.5719223 ]\n",
      "dc: -9.28e-03-2.38e-01j\tI:  4.00e-01\tQ: 6.61e-01+1.56e-01j\tB: -105.43 G: -51.04, C:0.00\n",
      "[ -51.04491806  -76.99755859 -105.43235016]\n",
      "dc: -9.28e-03-2.38e-01j\tI:  4.00e-01\tQ: 6.62e-01+1.56e-01j\tB: -104.92 G: -51.04, C:0.00\n",
      "[ -51.0367775   -81.23416901 -104.91943359]\n",
      "dc: -9.28e-03-2.38e-01j\tI:  4.00e-01\tQ: 6.61e-01+1.57e-01j\tB: -105.45 G: -51.05, C:0.00\n",
      "[ -51.04731369  -83.21470642 -105.44533539]\n"
     ]
    },
    {
     "name": "stdout",
     "output_type": "stream",
     "text": [
      "dc: -9.28e-03-2.38e-01j\tI:  4.00e-01\tQ: 6.60e-01+1.56e-01j\tB: -105.09 G: -51.05, C:0.00\n",
      "[ -51.0512352   -78.43540955 -105.09423065]\n",
      "dc: -9.28e-03-2.38e-01j\tI:  4.00e-01\tQ: 6.61e-01+1.56e-01j\tB: -105.16 G: -51.05, C:0.00\n",
      "[ -51.04568863  -82.57727051 -105.15688324]\n",
      "dc: -9.28e-03-2.38e-01j\tI:  4.00e-01\tQ: 6.61e-01+1.56e-01j\tB: -105.24 G: -51.05, C:0.00\n",
      "[ -51.0460968   -85.41161346 -105.24224854]\n",
      "dc: -9.28e-03-2.38e-01j\tI:  4.00e-01\tQ: 6.61e-01+1.57e-01j\tB: -105.31 G: -51.04, C:0.00\n",
      "[ -51.04355621  -82.64527893 -105.3055191 ]\n",
      "dc: -9.28e-03-2.38e-01j\tI:  4.00e-01\tQ: 6.61e-01+1.57e-01j\tB: -105.26 G: -51.04, C:0.00\n",
      "[ -51.04382706  -82.60530853 -105.25706482]\n",
      "dc: -9.28e-03-2.38e-01j\tI:  4.00e-01\tQ: 6.61e-01+1.57e-01j\tB: -105.11 G: -51.05, C:0.00\n",
      "[ -51.04646301  -80.32181549 -105.10588837]\n",
      "dc: -9.28e-03-2.38e-01j\tI:  4.00e-01\tQ: 6.61e-01+1.57e-01j\tB: -105.51 G: -51.05, C:0.00\n",
      "[ -51.04656601  -80.24313354 -105.51036072]\n",
      "dc: -9.28e-03-2.38e-01j\tI:  4.00e-01\tQ: 6.61e-01+1.56e-01j\tB: -105.41 G: -51.05, C:0.00\n",
      "[ -51.04777908  -81.35539246 -105.4088974 ]\n",
      "dc: -9.28e-03-2.38e-01j\tI:  4.00e-01\tQ: 6.61e-01+1.57e-01j\tB: -105.26 G: -51.04, C:0.00\n",
      "[ -51.0438385   -86.02528381 -105.2628479 ]\n",
      "dc: -9.28e-03-2.38e-01j\tI:  4.00e-01\tQ: 6.61e-01+1.56e-01j\tB: -105.42 G: -51.04, C:0.00\n",
      "[ -51.04470444  -85.06694794 -105.42045593]\n",
      "Warning: Maximum number of iterations has been exceeded.\n",
      "dc: -9.28e-03-2.38e-01j\tI:  4.00e-01\tQ: 6.61e-01+1.57e-01j\tB: -79.07 G: -51.05, C:0.00\n",
      "[-107.5586319  -106.30850983 -105.30817413  -51.04510498  -82.46420288\n",
      " -105.21327972 -106.5171814  -104.8629303  -104.9917984 ]\n",
      "Readout channel\n",
      "d:\\data/calibrations/iq-dc/ lo_freq-7.409e+09\n",
      "expected str, bytes or os.PathLike object, not NoneType\n",
      "7409000000.0\n",
      "[ 0.3  0.3] -56.9780197144\n",
      "[ 0.315  0.3  ] -56.8470878601\n",
      "[ 0.3    0.315] -56.7619171143\n",
      "[ 0.315  0.285] -57.0872268677\n",
      "[ 0.3225  0.27  ] -57.2378005981\n",
      "[ 0.3075  0.27  ] -57.3808784485\n",
      "[ 0.30375  0.255  ] -57.6497077942\n",
      "[ 0.32625  0.225  ] -57.9065284729\n",
      "[ 0.339375  0.1875  ] -58.3557395935\n",
      "[ 0.320625  0.1725  ] -58.8400611877\n",
      "[ 0.3196875  0.12375  ] -59.727973938\n",
      "[ 0.3553125  0.05625  ] -60.3382377625\n",
      "[ 0.38109375 -0.043125  ] -61.3258056641\n",
      "[ 0.36140625 -0.106875  ] -62.6792488098\n",
      "[ 0.37242188 -0.2540625 ] -62.6663513184\n",
      "[ 0.4228125 -0.27375  ] -61.1862602234\n",
      "[ 0.39703125 -0.174375  ] -62.074508667\n",
      "[ 0.37734375 -0.238125  ] -62.6144332886\n",
      "[ 0.34171875 -0.170625  ] -63.8580169678\n",
      "[ 0.3140625 -0.16875  ] -64.8863601685\n",
      "[ 0.298125 -0.0375  ] -63.5206871033\n",
      "[ 0.25078125 -0.099375  ] -66.6979675293\n",
      "[ 0.19546875 -0.095625  ] -69.3785247803\n",
      "[ 0.21140625 -0.226875  ] -69.9544906616\n",
      "[ 0.16804688 -0.3215625 ] -67.3970184326\n",
      "[ 0.0928125 -0.15375  ] -87.2793655396\n",
      "[-0.0178125 -0.14625  ] -70.0372161865\n",
      "[ 0.10875 -0.285  ] -70.2376556396\n",
      "[-0.00984375 -0.211875  ] -69.7110595703\n",
      "[ 0.15609375 -0.223125  ] -74.2322540283\n",
      "[ 0.14015625 -0.091875  ] -72.3260650635\n",
      "[ 0.13230469 -0.14015625] -78.1875457764\n",
      "[ 0.06902344 -0.07078125] -71.4639587402\n",
      "[ 0.13432617 -0.18503906] -80.2746353149\n",
      "[ 0.09483398 -0.19863281] -81.8800430298\n",
      "[ 0.05332031 -0.16734375] -78.0038833618\n",
      "[ 0.11407471 -0.18061523] -86.8870849609\n",
      "[ 0.11205322 -0.13573242] -80.173324585\n",
      "[ 0.09913879 -0.18290771] -88.0552139282\n",
      "[ 0.07787659 -0.15604248] -83.8839035034\n",
      "[ 0.10502518 -0.17447205] -93.802482605\n",
      "[ 0.11135147 -0.20362976] -80.3508834839\n",
      "[ 0.09744724 -0.16621994] -101.805786133\n",
      "[ 0.10333363 -0.15778427] -89.7415161133\n",
      "[ 0.10228492 -0.16406513] -95.5404129028\n",
      "[ 0.09470698 -0.15581303] -89.2357711792\n",
      "[ 0.10244563 -0.16980729] -101.108085632\n",
      "[ 0.09760795 -0.1719621 ] -97.1460189819\n",
      "[ 0.09877719 -0.16998786] -102.377243042\n",
      "[ 0.09377881 -0.16640051] -94.6775436401\n",
      "[ 0.10027892 -0.16895559] -104.092163086\n",
      "[ 0.10160888 -0.17272351] -98.2671585083\n",
      "[ 0.09848765 -0.16784583] -102.396354675\n",
      "[ 0.09998938 -0.16681357] -100.838142395\n",
      "[ 0.09908024 -0.16919429] -104.191596985\n",
      "[ 0.10087151 -0.17030405] -103.389610291\n",
      "[ 0.10027555 -0.16968949] -103.874313354\n",
      "Warning: Maximum number of iterations has been exceeded.\n",
      "d:\\data/calibrations/iq-rf/ frequency-7.334e+09-if--7.5e+07-sideband_id-     0\n",
      "expected str, bytes or os.PathLike object, not NoneType\n",
      "-75000000.0 7334000000.0\n",
      "dc:  9.91e-02-1.69e-01j\tI:  4.00e-01\tQ: 5.00e-01-2.00e-01j\tB: -83.15 G: -71.47, C:0.00\n",
      "[ -71.47206116 -104.66854858  -83.15107727]\n",
      "dc:  9.91e-02-1.69e-01j\tI:  4.00e-01\tQ: 5.25e-01-2.00e-01j\tB: -82.48 G: -71.24, C:0.00\n",
      "[ -71.23960114 -104.32992554  -82.47589874]\n",
      "dc:  9.91e-02-1.69e-01j\tI:  4.00e-01\tQ: 5.00e-01-2.10e-01j\tB: -82.74 G: -71.46, C:0.00\n",
      "[ -71.46469116 -104.49536896  -82.73718262]\n",
      "dc:  9.91e-02-1.69e-01j\tI:  4.00e-01\tQ: 4.75e-01-2.10e-01j\tB: -83.28 G: -71.70, C:0.00\n",
      "[ -71.69699097 -104.72336578  -83.27597046]\n",
      "dc:  9.91e-02-1.69e-01j\tI:  4.00e-01\tQ: 4.75e-01-2.00e-01j\tB: -83.73 G: -71.71, C:0.00\n",
      "[ -71.70875549 -104.05084229  -83.72665405]\n",
      "dc:  9.91e-02-1.69e-01j\tI:  4.00e-01\tQ: 4.62e-01-1.95e-01j\tB: -84.23 G: -71.83, C:0.00\n",
      "[ -71.83312225 -104.47988129  -84.22940063]\n",
      "dc:  9.91e-02-1.69e-01j\tI:  4.00e-01\tQ: 4.87e-01-1.85e-01j\tB: -84.03 G: -71.61, C:0.00\n",
      "[ -71.61192322 -104.44280243  -84.03179932]\n",
      "dc:  9.91e-02-1.69e-01j\tI:  4.00e-01\tQ: 4.94e-01-1.72e-01j\tB: -84.40 G: -71.58, C:0.00\n",
      "[ -71.57585144 -104.81290436  -84.40496826]\n",
      "dc:  9.91e-02-1.69e-01j\tI:  4.00e-01\tQ: 4.56e-01-1.67e-01j\tB: -85.75 G: -71.94, C:0.00\n",
      "[ -71.93862152 -104.42375183  -85.75196075]\n",
      "dc:  9.91e-02-1.69e-01j\tI:  4.00e-01\tQ: 4.34e-01-1.51e-01j\tB: -87.28 G: -72.19, C:0.00\n",
      "[ -72.19421387 -104.62577057  -87.2760849 ]\n",
      "dc:  9.91e-02-1.69e-01j\tI:  4.00e-01\tQ: 4.66e-01-1.29e-01j\tB: -87.67 G: -71.89, C:0.00\n",
      "[ -71.89167786 -104.11632538  -87.66784668]\n",
      "dc:  9.91e-02-1.69e-01j\tI:  4.00e-01\tQ: 4.67e-01-9.56e-02j\tB: -89.57 G: -71.90, C:0.00\n",
      "[ -71.89790344 -104.56604767  -89.56893921]\n",
      "dc:  9.91e-02-1.69e-01j\tI:  4.00e-01\tQ: 4.08e-01-7.44e-02j\tB: -96.88 G: -72.53, C:0.00\n",
      "[ -72.53081512 -104.73915863  -96.88227081]\n",
      "dc:  9.91e-02-1.69e-01j\tI:  4.00e-01\tQ: 3.65e-01-2.53e-02j\tB: -97.09 G: -73.01, C:0.00\n",
      "[ -73.01457214 -104.47455597  -97.09253693]\n",
      "dc:  9.91e-02-1.69e-01j\tI:  4.00e-01\tQ: 4.41e-01-1.87e-02j\tB: -94.44 G: -72.17, C:0.00\n",
      "[ -72.17182922 -104.4150238   -94.44217682]\n",
      "dc:  9.91e-02-1.69e-01j\tI:  4.00e-01\tQ: 3.81e-01+2.50e-03j\tB: -95.07 G: -72.81, C:0.00\n",
      "[ -72.81269073 -104.2853775   -95.07046509]\n",
      "dc:  9.91e-02-1.69e-01j\tI:  4.00e-01\tQ: 4.03e-01-2.20e-02j\tB: -100.62 G: -72.59, C:0.00\n",
      "[ -72.58559418 -104.84500122 -100.6206665 ]\n",
      "dc:  9.91e-02-1.69e-01j\tI:  4.00e-01\tQ: 3.70e-01-7.77e-02j\tB: -95.06 G: -72.95, C:0.00\n",
      "[ -72.95407104 -104.33232117  -95.06395721]\n",
      "dc:  9.91e-02-1.69e-01j\tI:  4.00e-01\tQ: 4.23e-01-3.35e-02j\tB: -98.65 G: -72.36, C:0.00\n",
      "[ -72.36457062 -104.71072388  -98.64756012]\n",
      "dc:  9.91e-02-1.69e-01j\tI:  4.00e-01\tQ: 4.18e-01+1.89e-02j\tB: -92.50 G: -72.38, C:0.00\n",
      "[ -72.38384247 -104.23758698  -92.49795532]\n",
      "dc:  9.91e-02-1.69e-01j\tI:  4.00e-01\tQ: 4.10e-01-5.11e-02j\tB: -101.11 G: -72.51, C:0.00\n",
      "[ -72.50585938 -104.30328369 -101.10799408]\n",
      "dc:  9.91e-02-1.69e-01j\tI:  4.00e-01\tQ: 3.90e-01-3.96e-02j\tB: -104.03 G: -72.73, C:0.00\n",
      "[ -72.73321533 -103.86556244 -104.03391266]\n",
      "dc:  9.91e-02-1.69e-01j\tI:  4.00e-01\tQ: 3.74e-01-4.27e-02j\tB: -99.77 G: -72.91, C:0.00\n",
      "[ -72.90642548 -103.89779663  -99.7657547 ]\n",
      "dc:  9.91e-02-1.69e-01j\tI:  4.00e-01\tQ: 3.98e-01-6.87e-02j\tB: -98.48 G: -72.65, C:0.00\n",
      "[ -72.64676666 -103.21814728  -98.4828186 ]\n",
      "dc:  9.91e-02-1.69e-01j\tI:  4.00e-01\tQ: 4.01e-01-3.37e-02j\tB: -103.17 G: -72.59, C:0.00\n",
      "[ -72.59008789 -104.63539886 -103.1711731 ]\n",
      "dc:  9.91e-02-1.69e-01j\tI:  4.00e-01\tQ: 3.81e-01-2.22e-02j\tB: -99.58 G: -72.83, C:0.00\n",
      "[ -72.8322525  -103.7272644   -99.57826233]\n",
      "dc:  9.91e-02-1.69e-01j\tI:  4.00e-01\tQ: 4.03e-01-4.39e-02j\tB: -103.58 G: -72.58, C:0.00\n",
      "[ -72.58383942 -104.11457825 -103.58495331]\n",
      "dc:  9.91e-02-1.69e-01j\tI:  4.00e-01\tQ: 3.92e-01-4.98e-02j\tB: -102.95 G: -72.71, C:0.00\n",
      "[ -72.70658875 -104.78083038 -102.9503479 ]\n",
      "dc:  9.91e-02-1.69e-01j\tI:  4.00e-01\tQ: 3.99e-01-3.77e-02j\tB: -104.31 G: -72.62, C:0.00\n",
      "[ -72.62290955 -104.12815857 -104.30976868]\n",
      "dc:  9.91e-02-1.69e-01j\tI:  4.00e-01\tQ: 3.86e-01-3.35e-02j\tB: -102.57 G: -72.77, C:0.00\n",
      "[ -72.77300262 -103.24511719 -102.56546783]\n",
      "dc:  9.91e-02-1.69e-01j\tI:  4.00e-01\tQ: 3.99e-01-4.13e-02j\tB: -104.35 G: -72.63, C:0.00\n",
      "[ -72.63269043 -104.33344269 -104.34758759]\n"
     ]
    },
    {
     "name": "stdout",
     "output_type": "stream",
     "text": [
      "dc:  9.91e-02-1.69e-01j\tI:  4.00e-01\tQ: 4.08e-01-3.94e-02j\tB: -102.70 G: -72.53, C:0.00\n",
      "[ -72.5315094  -103.60191345 -102.695961  ]\n",
      "dc:  9.91e-02-1.69e-01j\tI:  4.00e-01\tQ: 3.95e-01-3.96e-02j\tB: -104.50 G: -72.68, C:0.00\n",
      "[ -72.67728424 -104.65448761 -104.49758911]\n",
      "dc:  9.91e-02-1.69e-01j\tI:  4.00e-01\tQ: 3.94e-01-4.31e-02j\tB: -104.31 G: -72.69, C:0.00\n",
      "[ -72.68539429 -104.98025513 -104.31432343]\n",
      "dc:  9.91e-02-1.69e-01j\tI:  4.00e-01\tQ: 3.98e-01-3.91e-02j\tB: -104.18 G: -72.65, C:0.00\n",
      "[ -72.64541626 -104.48316956 -104.18322754]\n",
      "dc:  9.91e-02-1.69e-01j\tI:  4.00e-01\tQ: 3.97e-01-4.04e-02j\tB: -104.54 G: -72.66, C:0.00\n",
      "[ -72.66226959 -103.40906525 -104.54423523]\n",
      "dc:  9.91e-02-1.69e-01j\tI:  4.00e-01\tQ: 3.97e-01-3.86e-02j\tB: -104.38 G: -72.66, C:0.00\n",
      "[ -72.65964508 -104.47983551 -104.38469696]\n",
      "dc:  9.91e-02-1.69e-01j\tI:  4.00e-01\tQ: 3.94e-01-4.13e-02j\tB: -104.35 G: -72.68, C:0.00\n",
      "[ -72.68370819 -104.66648865 -104.35179138]\n",
      "dc:  9.91e-02-1.69e-01j\tI:  4.00e-01\tQ: 3.96e-01-3.93e-02j\tB: -104.28 G: -72.66, C:0.00\n",
      "[ -72.65901184 -104.03236389 -104.27711487]\n",
      "dc:  9.91e-02-1.69e-01j\tI:  4.00e-01\tQ: 3.96e-01-4.00e-02j\tB: -104.37 G: -72.68, C:0.00\n",
      "[ -72.67948151 -104.12744904 -104.37405396]\n",
      "dc:  9.91e-02-1.69e-01j\tI:  4.00e-01\tQ: 3.97e-01-3.95e-02j\tB: -104.10 G: -72.66, C:0.00\n",
      "[ -72.66057587 -104.14142609 -104.09991455]\n",
      "dc:  9.91e-02-1.69e-01j\tI:  4.00e-01\tQ: 3.96e-01-4.09e-02j\tB: -104.42 G: -72.66, C:0.00\n",
      "[ -72.6574173  -104.39996338 -104.41790771]\n",
      "dc:  9.91e-02-1.69e-01j\tI:  4.00e-01\tQ: 3.97e-01-4.13e-02j\tB: -104.21 G: -72.65, C:0.00\n",
      "[ -72.64890289 -103.94828033 -104.21446228]\n",
      "dc:  9.91e-02-1.69e-01j\tI:  4.00e-01\tQ: 3.96e-01-4.03e-02j\tB: -104.55 G: -72.66, C:0.00\n",
      "[ -72.66114807 -104.14674377 -104.54958344]\n",
      "dc:  9.91e-02-1.69e-01j\tI:  4.00e-01\tQ: 3.97e-01-3.98e-02j\tB: -104.60 G: -72.65, C:0.00\n",
      "[ -72.65065765 -104.64907837 -104.59752655]\n",
      "dc:  9.91e-02-1.69e-01j\tI:  4.00e-01\tQ: 3.98e-01-3.93e-02j\tB: -104.45 G: -72.65, C:0.00\n",
      "[ -72.64508057 -104.92320251 -104.45383453]\n",
      "dc:  9.91e-02-1.69e-01j\tI:  4.00e-01\tQ: 3.96e-01-3.98e-02j\tB: -104.25 G: -72.66, C:0.00\n",
      "[ -72.65857697 -104.59474182 -104.25147247]\n",
      "dc:  9.91e-02-1.69e-01j\tI:  4.00e-01\tQ: 3.97e-01-4.02e-02j\tB: -104.43 G: -72.66, C:0.00\n",
      "[ -72.66307831 -104.8109436  -104.42831421]\n",
      "dc:  9.91e-02-1.69e-01j\tI:  4.00e-01\tQ: 3.96e-01-4.01e-02j\tB: -104.37 G: -72.65, C:0.00\n",
      "[ -72.65177155 -103.8708725  -104.37172699]\n",
      "dc:  9.91e-02-1.69e-01j\tI:  4.00e-01\tQ: 3.97e-01-4.01e-02j\tB: -104.26 G: -72.65, C:0.00\n",
      "[ -72.65235901 -104.08568573 -104.26044464]\n",
      "dc:  9.91e-02-1.69e-01j\tI:  4.00e-01\tQ: 3.97e-01-3.98e-02j\tB: -104.45 G: -72.64, C:0.00\n",
      "[ -72.64031219 -104.81003571 -104.45354462]\n",
      "dc:  9.91e-02-1.69e-01j\tI:  4.00e-01\tQ: 3.97e-01-3.96e-02j\tB: -104.09 G: -72.64, C:0.00\n",
      "[ -72.64242554 -103.98405457 -104.09428406]\n",
      "dc:  9.91e-02-1.69e-01j\tI:  4.00e-01\tQ: 3.97e-01-4.00e-02j\tB: -104.22 G: -72.66, C:0.00\n",
      "[ -72.66188049 -104.68039703 -104.21594238]\n",
      "dc:  9.91e-02-1.69e-01j\tI:  4.00e-01\tQ: 3.97e-01-3.98e-02j\tB: -104.44 G: -72.65, C:0.00\n",
      "[ -72.64812469 -104.34679413 -104.43836975]\n",
      "dc:  9.91e-02-1.69e-01j\tI:  4.00e-01\tQ: 3.97e-01-4.00e-02j\tB: -104.58 G: -72.65, C:0.00\n",
      "[ -72.6534729  -104.65747833 -104.58210754]\n",
      "dc:  9.91e-02-1.69e-01j\tI:  4.00e-01\tQ: 3.97e-01-4.00e-02j\tB: -104.53 G: -72.67, C:0.00\n",
      "[ -72.66881561 -104.57808685 -104.52828979]\n",
      "dc:  9.91e-02-1.69e-01j\tI:  4.00e-01\tQ: 3.97e-01-3.99e-02j\tB: -104.53 G: -72.66, C:0.00\n",
      "[ -72.6579895  -104.37684631 -104.53216553]\n",
      "dc:  9.91e-02-1.69e-01j\tI:  4.00e-01\tQ: 3.97e-01-3.99e-02j\tB: -104.23 G: -72.67, C:0.00\n",
      "[ -72.66751862 -104.54679108 -104.22683716]\n",
      "dc:  9.91e-02-1.69e-01j\tI:  4.00e-01\tQ: 3.97e-01-3.99e-02j\tB: -104.46 G: -72.65, C:0.00\n",
      "[ -72.64554596 -104.65386963 -104.46018219]\n",
      "dc:  9.91e-02-1.69e-01j\tI:  4.00e-01\tQ: 3.97e-01-3.99e-02j\tB: -104.50 G: -72.66, C:0.00\n",
      "[ -72.65552521 -104.53302002 -104.50239563]\n",
      "dc:  9.91e-02-1.69e-01j\tI:  4.00e-01\tQ: 3.97e-01-3.99e-02j\tB: -104.18 G: -72.64, C:0.00\n",
      "[ -72.64105988 -104.38182831 -104.17781067]\n",
      "dc:  9.91e-02-1.69e-01j\tI:  4.00e-01\tQ: 3.97e-01-3.99e-02j\tB: -104.36 G: -72.66, C:0.00\n",
      "[ -72.66358185 -104.38002014 -104.36475372]\n",
      "dc:  9.91e-02-1.69e-01j\tI:  4.00e-01\tQ: 3.97e-01-3.99e-02j\tB: -104.57 G: -72.66, C:0.00\n",
      "[ -72.66165161 -104.38336182 -104.57444763]\n",
      "dc:  9.91e-02-1.69e-01j\tI:  4.00e-01\tQ: 3.97e-01-3.98e-02j\tB: -104.56 G: -72.65, C:0.00\n",
      "[ -72.65057373 -104.37282562 -104.55529022]\n",
      "dc:  9.91e-02-1.69e-01j\tI:  4.00e-01\tQ: 3.97e-01-3.98e-02j\tB: -104.19 G: -72.65, C:0.00\n",
      "[ -72.64987946 -104.09648895 -104.1929245 ]\n",
      "dc:  9.91e-02-1.69e-01j\tI:  4.00e-01\tQ: 3.97e-01-3.99e-02j\tB: -104.33 G: -72.65, C:0.00\n",
      "[ -72.65399933 -104.13027954 -104.33070374]\n",
      "dc:  9.91e-02-1.69e-01j\tI:  4.00e-01\tQ: 3.97e-01-3.99e-02j\tB: -104.69 G: -72.66, C:0.00\n",
      "[ -72.66003418 -104.68215179 -104.68724823]\n",
      "dc:  9.91e-02-1.69e-01j\tI:  4.00e-01\tQ: 3.97e-01-3.99e-02j\tB: -104.24 G: -72.64, C:0.00\n",
      "[ -72.63960266 -104.51351929 -104.23731232]\n",
      "dc:  9.91e-02-1.69e-01j\tI:  4.00e-01\tQ: 3.97e-01-3.99e-02j\tB: -104.51 G: -72.65, C:0.00\n",
      "[ -72.64718628 -104.37895966 -104.51192474]\n",
      "dc:  9.91e-02-1.69e-01j\tI:  4.00e-01\tQ: 3.97e-01-3.99e-02j\tB: -104.34 G: -72.66, C:0.00\n",
      "[ -72.65582275 -104.35310364 -104.33971405]\n",
      "dc:  9.91e-02-1.69e-01j\tI:  4.00e-01\tQ: 3.97e-01-3.99e-02j\tB: -103.97 G: -72.64, C:0.00\n",
      "[ -72.64377594 -104.73033142 -103.96966553]\n",
      "dc:  9.91e-02-1.69e-01j\tI:  4.00e-01\tQ: 3.97e-01-3.99e-02j\tB: -104.54 G: -72.64, C:0.00\n",
      "[ -72.63993073 -104.36540222 -104.53807831]\n",
      "dc:  9.91e-02-1.69e-01j\tI:  4.00e-01\tQ: 3.97e-01-3.99e-02j\tB: -104.60 G: -72.65, C:0.00\n",
      "[ -72.65057373 -104.26914215 -104.60111237]\n",
      "dc:  9.91e-02-1.69e-01j\tI:  4.00e-01\tQ: 3.97e-01-3.99e-02j\tB: -104.29 G: -72.66, C:0.00\n",
      "[ -72.6570816  -104.01473236 -104.28608704]\n",
      "dc:  9.91e-02-1.69e-01j\tI:  4.00e-01\tQ: 3.97e-01-3.99e-02j\tB: -104.48 G: -72.66, C:0.00\n",
      "[ -72.65966034 -104.68847656 -104.47867584]\n",
      "dc:  9.91e-02-1.69e-01j\tI:  4.00e-01\tQ: 3.97e-01-3.99e-02j\tB: -104.07 G: -72.65, C:0.00\n",
      "[ -72.64673615 -104.8012085  -104.07234192]\n",
      "dc:  9.91e-02-1.69e-01j\tI:  4.00e-01\tQ: 3.97e-01-3.99e-02j\tB: -104.49 G: -72.64, C:0.00\n",
      "[ -72.64259338 -104.13152313 -104.49419403]\n",
      "dc:  9.91e-02-1.69e-01j\tI:  4.00e-01\tQ: 3.97e-01-3.99e-02j\tB: -104.46 G: -72.65, C:0.00\n",
      "[ -72.65072632 -103.65818787 -104.45574951]\n",
      "dc:  9.91e-02-1.69e-01j\tI:  4.00e-01\tQ: 3.97e-01-3.99e-02j\tB: -104.37 G: -72.66, C:0.00\n",
      "[ -72.65625763 -104.33319092 -104.36908722]\n",
      "dc:  9.91e-02-1.69e-01j\tI:  4.00e-01\tQ: 3.97e-01-3.99e-02j\tB: -104.29 G: -72.66, C:0.00\n",
      "[ -72.65962982 -104.17037964 -104.28953552]\n",
      "dc:  9.91e-02-1.69e-01j\tI:  4.00e-01\tQ: 3.97e-01-3.99e-02j\tB: -104.53 G: -72.64, C:0.00\n",
      "[ -72.64318848 -104.24253845 -104.53437042]\n",
      "dc:  9.91e-02-1.69e-01j\tI:  4.00e-01\tQ: 3.97e-01-3.99e-02j\tB: -104.37 G: -72.65, C:0.00\n",
      "[ -72.65356445 -104.69160461 -104.36967468]\n",
      "dc:  9.91e-02-1.69e-01j\tI:  4.00e-01\tQ: 3.97e-01-3.99e-02j\tB: -104.46 G: -72.64, C:0.00\n",
      "[ -72.637146   -104.31171417 -104.46167755]\n",
      "dc:  9.91e-02-1.69e-01j\tI:  4.00e-01\tQ: 3.97e-01-3.99e-02j\tB: -104.55 G: -72.66, C:0.00\n",
      "[ -72.65763092 -104.41452789 -104.55472565]\n",
      "dc:  9.91e-02-1.69e-01j\tI:  4.00e-01\tQ: 3.97e-01-3.99e-02j\tB: -104.65 G: -72.65, C:0.00\n",
      "[ -72.65232849 -104.64950562 -104.65229034]\n",
      "dc:  9.91e-02-1.69e-01j\tI:  4.00e-01\tQ: 3.97e-01-3.99e-02j\tB: -104.57 G: -72.65, C:0.00\n",
      "[ -72.6518631  -104.10350037 -104.57282257]\n",
      "dc:  9.91e-02-1.69e-01j\tI:  4.00e-01\tQ: 3.97e-01-3.99e-02j\tB: -104.31 G: -72.65, C:0.00\n",
      "[ -72.65418243 -104.60195923 -104.31113434]\n",
      "dc:  9.91e-02-1.69e-01j\tI:  4.00e-01\tQ: 3.97e-01-3.99e-02j\tB: -104.22 G: -72.65, C:0.00\n",
      "[ -72.64878845 -104.30960846 -104.21728516]\n",
      "dc:  9.91e-02-1.69e-01j\tI:  4.00e-01\tQ: 3.97e-01-3.99e-02j\tB: -104.37 G: -72.65, C:0.00\n",
      "[ -72.65372467 -104.86180115 -104.36868286]\n",
      "dc:  9.91e-02-1.69e-01j\tI:  4.00e-01\tQ: 3.97e-01-3.99e-02j\tB: -104.52 G: -72.66, C:0.00\n",
      "[ -72.657341   -104.86804962 -104.52484131]\n",
      "dc:  9.91e-02-1.69e-01j\tI:  4.00e-01\tQ: 3.97e-01-3.99e-02j\tB: -104.62 G: -72.65, C:0.00\n",
      "[ -72.65058899 -103.83366394 -104.61946869]\n",
      "dc:  9.91e-02-1.69e-01j\tI:  4.00e-01\tQ: 3.97e-01-3.99e-02j\tB: -104.34 G: -72.67, C:0.00\n",
      "[ -72.66705322 -104.10809326 -104.33532715]\n",
      "dc:  9.91e-02-1.69e-01j\tI:  4.00e-01\tQ: 3.97e-01-3.99e-02j\tB: -104.51 G: -72.66, C:0.00\n",
      "[ -72.66133118 -104.68496704 -104.50987244]\n",
      "dc:  9.91e-02-1.69e-01j\tI:  4.00e-01\tQ: 3.97e-01-3.99e-02j\tB: -104.65 G: -72.65, C:0.00\n",
      "[ -72.65203094 -104.84188843 -104.65092468]\n"
     ]
    },
    {
     "name": "stdout",
     "output_type": "stream",
     "text": [
      "dc:  9.91e-02-1.69e-01j\tI:  4.00e-01\tQ: 3.97e-01-3.99e-02j\tB: -104.37 G: -72.66, C:0.00\n",
      "[ -72.65982819 -104.18971252 -104.37348175]\n",
      "Warning: Maximum number of iterations has been exceeded.\n",
      "dc:  9.91e-02-1.69e-01j\tI:  4.00e-01\tQ: 3.97e-01-3.99e-02j\tB: -86.71 G: -72.65, C:0.00\n",
      "[-104.98269653 -104.69557953 -104.32859802  -72.65088654 -104.74765015\n",
      " -104.36420441 -104.73632812 -105.41161346 -104.94194794]\n"
     ]
    }
   ],
   "source": [
    "print(\"Excitation channel\", end='\\n')\n",
    "iq_ex.do_calibration(sa)\n",
    "print(\"Readout channel\", end='\\n')\n",
    "iq_ro.do_calibration(sa)"
   ]
  },
  {
   "cell_type": "markdown",
   "metadata": {},
   "source": [
    "### Setting up readout modem"
   ]
  },
  {
   "cell_type": "markdown",
   "metadata": {},
   "source": [
    "#### Define readout trigger waveform"
   ]
  },
  {
   "cell_type": "code",
   "execution_count": 45,
   "metadata": {
    "collapsed": true
   },
   "outputs": [],
   "source": [
    "trigger_readout_seq = [pg.p('ro_trg', 10e-9, pg.rect, 1)]"
   ]
  },
  {
   "cell_type": "markdown",
   "metadata": {},
   "source": [
    "#### Readout delay calibration"
   ]
  },
  {
   "cell_type": "code",
   "execution_count": 46,
   "metadata": {},
   "outputs": [
    {
     "name": "stderr",
     "output_type": "stream",
     "text": [
      "D:\\qtlab_replacement\\qsweepy\\instrument_drivers\\Tektronix_AWG5014.py:644: ComplexWarning: Casting complex values to real discards the imaginary part\n",
      "  m1[:] = marker[:len(m1)]\n"
     ]
    },
    {
     "name": "stdout",
     "output_type": "stream",
     "text": [
      "-2e-07 -200.0\n",
      "-2e-09 -2.0\n"
     ]
    }
   ],
   "source": [
    "adc.set_nums(50)\n",
    "adc.set_nop(32768)\n",
    "if hasattr(adc, 'set_post_trigger'):\n",
    "    adc.set_post_trigger(adc.get_nop()-64)\n",
    "modem = modem_readout.modem_readout(pg, adc, trigger_readout_seq, axis_mean=0)\n",
    "modem.readout_channels = readout_channels\n",
    "#ro_trg.delay_setter = lambda x: adc.set_trigger_delay(int(x*adc.get_clock()/iq_ex.get_clock()-0)) # M3201A & M3202A\n",
    "ro_trg.delay = 0#Spectrum+AWG5014C\n",
    "readout_trigger_delay = modem.calibrate_delay()[awg_channels['iq_ro']]\n",
    "#readout_trigger_delay_cycles = readout_trigger_delay*adc.get_clock() M3201A\n",
    "readout_trigger_delay_cycles = readout_trigger_delay*ro_trg.get_clock()\n",
    "print (readout_trigger_delay, readout_trigger_delay_cycles)\n",
    "#ro_trg.delay_setter = lambda x: adc.set_trigger_delay(int(x*adc.get_clock()/iq_ex.get_clock()-readout_trigger_delay_cycles)) M3201A\n",
    "ro_trg.delay = int(-readout_trigger_delay_cycles)#Spectrum+AWG5014C\n",
    "readout_trigger_delay_test = modem.calibrate_delay()[awg_channels['iq_ro']]\n",
    "#readout_trigger_delay_cycles_test = readout_trigger_delay_test*adc.get_clock() M3201A\n",
    "readout_trigger_delay_cycles_test = readout_trigger_delay_test*ro_trg.get_clock()\n",
    "print (readout_trigger_delay_test, readout_trigger_delay_cycles_test)"
   ]
  },
  {
   "cell_type": "markdown",
   "metadata": {},
   "source": [
    "#### Readout mixer sideband calibration"
   ]
  },
  {
   "cell_type": "code",
   "execution_count": 47,
   "metadata": {},
   "outputs": [
    {
     "name": "stderr",
     "output_type": "stream",
     "text": [
      "D:\\qtlab_replacement\\qsweepy\\instrument_drivers\\Tektronix_AWG5014.py:644: ComplexWarning: Casting complex values to real discards the imaginary part\n",
      "  m1[:] = marker[:len(m1)]\n"
     ]
    },
    {
     "data": {
      "text/plain": [
       "{'iq_ro': {'coherent_background': array([-13.96-15.56j, -13.62-15.94j, -11.78-16.12j, ..., -13.10-13.84j,\n",
       "         -14.26-15.42j, -12.62-15.46j]),\n",
       "  'feature': array([ 0.09958076+0.07252205j, -0.04428094+0.15984598j,\n",
       "         -0.15163612+0.11538817j, ...,  0.12708390-0.14489014j,\n",
       "          0.15526057-0.02649272j,  0.05543584+0.11374608j]),\n",
       "  'iq_calibration': array([-0.02265469-0.02728093j,  0.12223545+0.09980297j])}}"
      ]
     },
     "execution_count": 47,
     "metadata": {},
     "output_type": "execute_result"
    }
   ],
   "source": [
    "modem.calibrate_dc()"
   ]
  },
  {
   "cell_type": "markdown",
   "metadata": {},
   "source": [
    "#### Average S21 readout instrument"
   ]
  },
  {
   "cell_type": "code",
   "execution_count": 48,
   "metadata": {
    "collapsed": true
   },
   "outputs": [],
   "source": [
    "modem.filters = modem.calibrated_filters\n",
    "adc_reducer = data_reduce.data_reduce(modem)\n",
    "adc_reducer.filters = {'S21': data_reduce.mean_reducer(modem, 'iq_ro', axis=0)}\n",
    "adc_reducer.extra_opts['scatter'] = True\n",
    "adc_reducer.extra_opts['realimag'] = True"
   ]
  },
  {
   "cell_type": "markdown",
   "metadata": {},
   "source": [
    "### Setting up adc_sz (for compression point measurement)"
   ]
  },
  {
   "cell_type": "code",
   "execution_count": 49,
   "metadata": {
    "collapsed": true
   },
   "outputs": [],
   "source": [
    "def set_adc_nop(ro_adc_length):\n",
    "    adc.stop() # Spectrum\n",
    "    signal_size = int(np.ceil(4./3.*(ro_adc_length)*adc.get_clock()))\n",
    "    nop = int( 2**np.ceil(np.log2(signal_size)) )\n",
    "    #print (nop)\n",
    "    adc.set_nop(nop)\n",
    "    adc.set_post_trigger(adc.get_nop()-64)"
   ]
  },
  {
   "cell_type": "code",
   "execution_count": 50,
   "metadata": {
    "collapsed": true
   },
   "outputs": [],
   "source": [
    "# \"Измеритель средних прошедших импульсов\"\n",
    "# Просто усредняет всё по номеру сэмпла.\n",
    "    \n",
    "    \n",
    "#ro_adc_length = 0.15e-6        # Вот такой длины считываем (опухоль Фёдорова!!)\n",
    "#ro_amplitude =0.16\n",
    "#ro_dac_length = 0.08e-6\n",
    "ro_adc_length = 0.1e-6\n",
    "ro_dac_length = 0.08e-6\n",
    "#adc.set_nums(1000)\n",
    "#adc.set_software_nums_multi(1)\n",
    "adc.set_nums(100)\n",
    "set_adc_nop(ro_adc_length)\n",
    "adc.set_nums(10000)\n",
    "\n",
    "mean_sample = data_reduce.data_reduce(adc)\n",
    "mean_sample.filters['Mean Voltage (AC)'] = data_reduce.mean_reducer_noavg(adc, 'Voltage', 0)\n",
    "\n",
    "#adc_reducer_old = data_reduce.data_reduce(adc)\n",
    "#adc_reducer_old.filters['Std Voltage (AC)'] = data_reduce.mean_reducer_noavg(adc, 'Voltage std', 0)\n",
    "mean_sample.filters['S21+'] = data_reduce.mean_reducer_freq(adc, 'Voltage', 0, iq_ro.carriers['iq_ro'].get_if())\n",
    "mean_sample.filters['S21-'] = data_reduce.mean_reducer_freq(adc, 'Voltage', 0, -iq_ro.carriers['iq_ro'].get_if())\n",
    "#adc_downsampler = data_reduce.data_reduce(adc)\n",
    "#adc_downsampler.filters['Voltage'] = data_reduce.downsample_reducer(adc, 'Voltage', 0, iq_ro.get_if(), 4)\n",
    "# # Этот измеритель мы как правило используем когда точек не слишком много и все результаты его жизнедеятельности как правило \n",
    "# # выглядят как ломаные. Чтобы было красиво, давайте лучше сделаем точки (а кривые потом получим фитованые)\n",
    "mean_sample.extra_opts['scatter'] = True"
   ]
  },
  {
   "cell_type": "code",
   "execution_count": 51,
   "metadata": {},
   "outputs": [
    {
     "data": {
      "text/plain": [
       "-75000000.0"
      ]
     },
     "execution_count": 51,
     "metadata": {},
     "output_type": "execute_result"
    }
   ],
   "source": [
    "iq_ro.carriers['iq_ro'].get_if()"
   ]
  },
  {
   "cell_type": "markdown",
   "metadata": {},
   "source": [
    "### setting trigger settings (now in 5.1.1)"
   ]
  },
  {
   "cell_type": "code",
   "execution_count": 52,
   "metadata": {
    "collapsed": true
   },
   "outputs": [],
   "source": [
    "#awg.set_marker(length=marker_length, delay=0, channel=0)\n",
    "#awg_channels =dict()\n",
    "#ro_trg = awg_digital.awg_digital(awg_tek, 1)\n",
    "#ro_trg.mode = 'set_delay'\n",
    "#ro_trg.delay_setter = lambda x: adc.set_trigger_delay(int(x*adc.get_clock()/iq_ex.get_clock()-readout_trigger_delay))\n",
    "#awg_channels['ro_trg'] = ro_trg\n",
    "##awg_trg = awg_digital.awg_digital(awg_tek, 0)\n",
    "##osc_trg = awg_digital.awg_digital(awg_tek, 5)\n",
    "##ro_adc_clock = awg_digital.awg_digital(awg_tek, 2) #\n",
    "##osc_adc_clock = awg_digital.awg_digital(awg_tek, 6) #\n",
    "\n",
    "## тупо клок\n",
    "##ro_adc_clock.set_waveform(np.asarray([0,1]*int(ro_adc_clock.get_nop()/2), dtype=int))\n",
    "##osc_adc_clock.set_waveform(np.asarray([0,1]*int(ro_adc_clock.get_nop()/2), dtype=int))"
   ]
  },
  {
   "cell_type": "code",
   "execution_count": 53,
   "metadata": {
    "collapsed": true
   },
   "outputs": [],
   "source": [
    "awg.check_cached = True"
   ]
  },
  {
   "cell_type": "markdown",
   "metadata": {},
   "source": [
    "### Прохождение считывающих импульсов разной амплитуды"
   ]
  },
  {
   "cell_type": "code",
   "execution_count": 54,
   "metadata": {
    "scrolled": false
   },
   "outputs": [
    {
     "data": {
      "application/vnd.jupyter.widget-view+json": {
       "model_id": "b31dc43fafef4caab0908bb9368a69f0",
       "version_major": 2,
       "version_minor": 0
      },
      "text/plain": [
       "A Jupyter Widget"
      ]
     },
     "metadata": {},
     "output_type": "display_data"
    },
    {
     "name": "stdout",
     "output_type": "stream",
     "text": [
      "Started at:  Aug 24 2018 16:07:34\n"
     ]
    },
    {
     "name": "stderr",
     "output_type": "stream",
     "text": [
      "C:\\ProgramData\\Anaconda3\\lib\\site-packages\\numpy\\lib\\function_base.py:2169: RuntimeWarning: invalid value encountered in remainder\n",
      "  ddmod = mod(dd + pi, 2*pi) - pi\n",
      "C:\\ProgramData\\Anaconda3\\lib\\site-packages\\numpy\\lib\\function_base.py:2170: RuntimeWarning: invalid value encountered in greater\n",
      "  _nx.copyto(ddmod, pi, where=(ddmod == -pi) & (dd > 0))\n",
      "C:\\ProgramData\\Anaconda3\\lib\\site-packages\\numpy\\lib\\function_base.py:2172: RuntimeWarning: invalid value encountered in less\n",
      "  _nx.copyto(ph_correct, 0, where=abs(dd) < discont)\n",
      "D:\\qtlab_replacement\\qsweepy\\instrument_drivers\\Tektronix_AWG5014.py:644: ComplexWarning: Casting complex values to real discards the imaginary part\n",
      "  m1[:] = marker[:len(m1)]\n"
     ]
    },
    {
     "name": "stdout",
     "output_type": "stream",
     "text": [
      "Waiting to join deferred threads:\n",
      "Exiting sweep main thread #{} via return 9840\n",
      "\n",
      "Elapsed time: 0 h 1 m 8.48 s\n"
     ]
    }
   ],
   "source": [
    "#%%mprun -f sweep.sweep\n",
    "imp.reload(sweep)\n",
    "imp.reload(plotting)\n",
    "mean_sample.filters['Std Voltage (AC)'] = data_reduce.std_reducer_noavg(adc, 'Voltage', 0, 1)\n",
    "def set_pulse_amplitude(x):\n",
    "    awg_tek.set_nop(awg_tek.get_clock()/rep_rate)\n",
    "    pg.set_seq(trigger_readout_seq+[pg.p('iq_ro', ro_dac_length, pg.rect, x)])\n",
    "    awg_tek.run()\n",
    "measurement = sweep.sweep(mean_sample, (np.linspace(0, 1.0, 21), set_pulse_amplitude, 'Readout amplitude'), filename='Readout pulse passthrough qubit#{}'.format(qubit_id))\n",
    "del mean_sample.filters['Std Voltage (AC)']"
   ]
  },
  {
   "cell_type": "code",
   "execution_count": 55,
   "metadata": {},
   "outputs": [
    {
     "name": "stdout",
     "output_type": "stream",
     "text": [
      "Readout amplitude: 1.0\n"
     ]
    }
   ],
   "source": [
    "zero_response = measurement['Mean Voltage (AC)'][2][0,:]\n",
    "drive_amplitudes = measurement['Mean Voltage (AC)'][1][0][1:]\n",
    "signal = measurement['Mean Voltage (AC)'][2][1:,:]\n",
    "noise = measurement['Std Voltage (AC)'][2][1:,:]\n",
    "error = noise/np.sqrt(adc.get_nums())\n",
    "signal_overlap = np.sum(np.conj(signal[0,:])*signal[1:,:], axis=1)/drive_amplitudes[1:]\n",
    "signal_overlap_estimate = np.real(signal_overlap[0])\n",
    "signal_overlap_error = 0.5*np.sqrt(np.sum((np.abs(signal[1:,:])*error[0,:])**2, axis=1)+np.sum((np.abs(signal[0,:])*error[1:,:])**2,axis=1))/drive_amplitudes[1:]\n",
    "#signal_overlap_estimate = (np.sum(np.abs(signal[0,:])**2) - np.sum(error[0,:]*np.abs(signal[0,:]))-np.sum(np.abs(error[0,:])**2))/drive_amplitudes[0]\n",
    "#plt.figure()\n",
    "#plt.plot(np.real(signal_overlap))\n",
    "#plt.plot(np.sum(noise**2, axis=1)/adc.get_nums())\n",
    "#plt.plot(signal_overlap_error)\n",
    "compression = 10*np.log10(np.real(signal_overlap)/np.real(signal_overlap_estimate))\n",
    "db_compression_point = np.argmax(10*np.log10(np.real(signal_overlap)/np.real(signal_overlap_estimate))<-1+10*np.log10(1-signal_overlap_error/signal_overlap_estimate))\n",
    "#10*np.log10(np.real(signal_overlap)/np.real(signal_overlap_estimate)),-1+10*np.log10(1-signal_overlap_error/signal_overlap_estimate)\n",
    "#10*np.log10(np.real(signal_overlap)/np.real(signal_overlap_estimate))<-1+10*np.log10(1-signal_overlap_error/signal_overlap_estimate)\n",
    "if np.any(db_compression_point):\n",
    "    ro_amplitude = drive_amplitudes[db_compression_point+1]\n",
    "else:\n",
    "    ro_amplitude = drive_amplitudes[-1]\n",
    "print(\"Readout amplitude:\",ro_amplitude)    "
   ]
  },
  {
   "cell_type": "code",
   "execution_count": 56,
   "metadata": {},
   "outputs": [
    {
     "data": {
      "text/plain": [
       "[<matplotlib.lines.Line2D at 0x177c84c2ac8>]"
      ]
     },
     "execution_count": 56,
     "metadata": {},
     "output_type": "execute_result"
    }
   ],
   "source": [
    "plt.figure('Readout tone compression')\n",
    "plt.plot(drive_amplitudes[1:], compression)"
   ]
  },
  {
   "cell_type": "code",
   "execution_count": 57,
   "metadata": {
    "collapsed": true
   },
   "outputs": [],
   "source": [
    "ro_parameters = {\"adc_len\":ro_adc_length,'dac_len': ro_dac_length,'amp': ro_amplitude,'adc nums':adc.nums,\n",
    "                'trg_length':trg_length}\n",
    "qjson.dump(\"setups\",\"readout\",ro_parameters)"
   ]
  },
  {
   "cell_type": "code",
   "execution_count": 58,
   "metadata": {
    "collapsed": true
   },
   "outputs": [],
   "source": [
    "ro_amplitude = 1.0\n",
    "ro_sequence = trigger_readout_seq+[pg.p('iq_ro', ro_dac_length, pg.rect, ro_amplitude)]"
   ]
  },
  {
   "cell_type": "markdown",
   "metadata": {},
   "source": [
    "## Raby+Ramsey+T1+echo in one bottle"
   ]
  },
  {
   "cell_type": "code",
   "execution_count": 59,
   "metadata": {
    "collapsed": true
   },
   "outputs": [],
   "source": [
    "import qsweepy.qjson as pqjson\n",
    "import qsweepy.quantum_two_level_dynamics as dyn"
   ]
  },
  {
   "cell_type": "code",
   "execution_count": 60,
   "metadata": {},
   "outputs": [
    {
     "data": {
      "text/plain": [
       "<module 'qsweepy.diff_readout' from 'D:\\\\qtlab_replacement\\\\qsweepy\\\\diff_readout.py'>"
      ]
     },
     "execution_count": 60,
     "metadata": {},
     "output_type": "execute_result"
    }
   ],
   "source": [
    "imp.reload(dyn)\n",
    "imp.reload(qjson)\n",
    "imp.reload(data_reduce)\n",
    "imp.reload(plotting)\n",
    "imp.reload(fitting)\n",
    "imp.reload(sweep)\n",
    "imp.reload(diff_readout)"
   ]
  },
  {
   "cell_type": "code",
   "execution_count": 74,
   "metadata": {
    "collapsed": true
   },
   "outputs": [],
   "source": [
    "#ex_channels = ['iq_ex_00-1-01', 'iq_ex_00-1-10', 'iq_ex_01-1-02']#, 'iq_ex_00-2-02']\n",
    "ex_channels = [#'iq_ex_00-1-01', \n",
    "               #'iq_ex_00-2-02', \n",
    "               'iq_ex_00-2-11', \n",
    "               #'iq_ex_00-1-10', \n",
    "               #'iq_ex_00-2-20', \n",
    "              ]\n",
    "#ex_channels = ['iq_ex_0-1-1']\n",
    "#ex_amplitudes = {'iq_ex_00-1-01':0.5, \n",
    "#               'iq_ex_00-2-02':0.5, \n",
    "#               'iq_ex_00-2-11':0.5, \n",
    "#               'iq_ex_01-1-02':0.5, \n",
    "#               'iq_ex_00-1-10':0.5, \n",
    "#               'iq_ex_01-2-03':0.5, \n",
    "#               'iq_ex_00-2-20':0.5, \n",
    "#               'iq_ex_10-1-20':0.5\n",
    "#                }\n",
    "ex_amplitudes = {#'iq_ex_00-1-01':1, \n",
    "               #'iq_ex_00-2-02':1, \n",
    "               'iq_ex_00-2-11':1, \n",
    "               #'iq_ex_00-1-10':1, \n",
    "               #'iq_ex_00-2-20':1, \n",
    "                }\n",
    "ro_par = {'qubit_id':qubit_id,'ex_channels':ex_channels}\n",
    "fitter = lambda x,y: fitting.fit1d(x,y,'S21')\n",
    "ro_par['fitter']=fitter"
   ]
  },
  {
   "cell_type": "code",
   "execution_count": 75,
   "metadata": {
    "collapsed": true
   },
   "outputs": [],
   "source": [
    "rabi_lengths = np.arange(0., 1000e-9, 5e-9)\n",
    "delaysT2 = np.arange(0, 200e-9, 2e-9)\n",
    "target_freq_offset = -20e6\n",
    "delaysT2_coherence = np.arange(0, 5000e-9, 10e-9)\n",
    "target_freq_offset_coherence = -2e6\n",
    "delaysT1 = np.arange(0, 15e-6,0.05e-6)"
   ]
  },
  {
   "cell_type": "code",
   "execution_count": 76,
   "metadata": {},
   "outputs": [
    {
     "data": {
      "text/plain": [
       "<module 'qsweepy.plotting' from 'D:\\\\qtlab_replacement\\\\qsweepy\\\\plotting.py'>"
      ]
     },
     "execution_count": 76,
     "metadata": {},
     "output_type": "execute_result"
    }
   ],
   "source": [
    "imp.reload(plotting)"
   ]
  },
  {
   "cell_type": "code",
   "execution_count": 77,
   "metadata": {
    "collapsed": true
   },
   "outputs": [],
   "source": [
    "imp.reload(diff_readout)\n",
    "diff_adc_reducer = diff_readout.diff_readout(adc_reducer)"
   ]
  },
  {
   "cell_type": "code",
   "execution_count": 78,
   "metadata": {
    "scrolled": true
   },
   "outputs": [
    {
     "name": "stdout",
     "output_type": "stream",
     "text": [
      "d:\\data/calibrations/setups/ readout\n",
      "Failed loading rabi frequency calibration: 'quantum_two_level_dynamics' object has no attribute 'ex_amplitude'\n",
      "d:\\data/calibrations/setups/ readout\n",
      "Failed loading rabi frequency calibration: 'quantum_two_level_dynamics' object has no attribute 'ex_amplitude'\n",
      "True True\n"
     ]
    }
   ],
   "source": [
    "twos = [dyn.quantum_two_level_dynamics(pg,\n",
    "                                           adc_reducer,\n",
    "                                           ex_channel=ex_channel,\n",
    "                                           ro_channel='iq_ro',\n",
    "                                           ro_sequence=ro_sequence,\n",
    "                                           ex_amplitude=ex_amplitudes[ex_channel],\n",
    "                                           fitter=fitter, \n",
    "                                           shuffle=True,\n",
    "                                           qubit_id=qubit_id) for ex_channel in ex_channels]\n",
    "#two_ = dyn.quantum_two_level_dynamics(pg,mean_sample,**ro_par)\n",
    "ro_sequence = trigger_readout_seq+[pg.p('iq_ro', ro_dac_length, pg.rect, ro_amplitude)]\n",
    "two_diffs = [dyn.quantum_two_level_dynamics(pg,\n",
    "                                           diff_adc_reducer,\n",
    "                                           ex_channel=ex_channel,\n",
    "                                           ro_channel='iq_ro',\n",
    "                                           ro_sequence=ro_sequence,\n",
    "                                           ex_amplitude=ex_amplitudes[ex_channel],\n",
    "                                           fitter=fitter, \n",
    "                                           shuffle=True,\n",
    "                                           qubit_id=qubit_id) for ex_channel in ex_channels]\n",
    "for td in two_diffs:\n",
    "    print (td.plot, td.plot_separate_thread)"
   ]
  },
  {
   "cell_type": "code",
   "execution_count": 72,
   "metadata": {
    "scrolled": true
   },
   "outputs": [
    {
     "data": {
      "application/vnd.jupyter.widget-view+json": {
       "model_id": "e79ec9b2ea304e4da0c024971e3c3236",
       "version_major": 2,
       "version_minor": 0
      },
      "text/plain": [
       "A Jupyter Widget"
      ]
     },
     "metadata": {},
     "output_type": "display_data"
    },
    {
     "name": "stdout",
     "output_type": "stream",
     "text": [
      "Started at:  Aug 27 2018 22:31:14\n",
      "Waiting to join deferred threads:\n",
      "Exiting sweep main thread #{} via return 3728\n",
      "\n",
      "Elapsed time: 0 h 9 m 24.54 s\n"
     ]
    },
    {
     "data": {
      "application/vnd.jupyter.widget-view+json": {
       "model_id": "c941e0708bfa43659dfeb1d75f1f5822",
       "version_major": 2,
       "version_minor": 0
      },
      "text/plain": [
       "A Jupyter Widget"
      ]
     },
     "metadata": {},
     "output_type": "display_data"
    },
    {
     "name": "stdout",
     "output_type": "stream",
     "text": [
      "Started at:  Aug 27 2018 22:40:43\n",
      "Waiting to join deferred threads:\n",
      "Exiting sweep main thread #{} via return 7612\n",
      "\n",
      "Elapsed time: 0 h 23 m 45.99 s\n"
     ]
    },
    {
     "data": {
      "application/vnd.jupyter.widget-view+json": {
       "model_id": "0072fc690e5f458cbf4a782a4026e109",
       "version_major": 2,
       "version_minor": 0
      },
      "text/plain": [
       "A Jupyter Widget"
      ]
     },
     "metadata": {},
     "output_type": "display_data"
    },
    {
     "name": "stdout",
     "output_type": "stream",
     "text": [
      "Started at:  Aug 27 2018 23:04:33\n",
      "Waiting to join deferred threads:\n",
      "Exiting sweep main thread #{} via return 1580\n",
      "\n",
      "Elapsed time: 0 h 14 m 14.56 s\n",
      "[1.3192820957971493e-05, -6.859846386785803, 8.136701146583219, -9.61191059089731, 0.6952358068170403]\n"
     ]
    },
    {
     "data": {
      "application/vnd.jupyter.widget-view+json": {
       "model_id": "a6bcaca8215b4e6b8fa767f036d5f233",
       "version_major": 2,
       "version_minor": 0
      },
      "text/plain": [
       "A Jupyter Widget"
      ]
     },
     "metadata": {},
     "output_type": "display_data"
    },
    {
     "name": "stdout",
     "output_type": "stream",
     "text": [
      "Started at:  Aug 27 2018 23:18:51\n",
      "Waiting to join deferred threads:\n",
      "Exiting sweep main thread #{} via return 9544\n",
      "\n",
      "Elapsed time: 0 h 23 m 29.91 s\n"
     ]
    },
    {
     "data": {
      "application/vnd.jupyter.widget-view+json": {
       "model_id": "9a229c59ca50487aaf27fd3b1f996ee8",
       "version_major": 2,
       "version_minor": 0
      },
      "text/plain": [
       "A Jupyter Widget"
      ]
     },
     "metadata": {},
     "output_type": "display_data"
    },
    {
     "name": "stdout",
     "output_type": "stream",
     "text": [
      "Started at:  Aug 27 2018 23:42:25\n",
      "Waiting to join deferred threads:\n",
      "Exiting sweep main thread #{} via return 2788\n",
      "\n",
      "Elapsed time: 0 h 13 m 33.96 s\n"
     ]
    },
    {
     "data": {
      "application/vnd.jupyter.widget-view+json": {
       "model_id": "06ea75d5c85a442fa0ee6c142d109c0e",
       "version_major": 2,
       "version_minor": 0
      },
      "text/plain": [
       "A Jupyter Widget"
      ]
     },
     "metadata": {},
     "output_type": "display_data"
    },
    {
     "name": "stdout",
     "output_type": "stream",
     "text": [
      "Started at:  Aug 27 2018 23:56:02\n",
      "Waiting to join deferred threads:\n",
      "Exiting sweep main thread #{} via return 3104\n",
      "\n",
      "Elapsed time: 0 h 34 m 12.58 s\n"
     ]
    },
    {
     "data": {
      "application/vnd.jupyter.widget-view+json": {
       "model_id": "623f4b30330f45ada23aab2a3019491b",
       "version_major": 2,
       "version_minor": 0
      },
      "text/plain": [
       "A Jupyter Widget"
      ]
     },
     "metadata": {},
     "output_type": "display_data"
    },
    {
     "name": "stdout",
     "output_type": "stream",
     "text": [
      "Started at:  Aug 28 2018 00:30:19\n",
      "Waiting to join deferred threads:\n",
      "Exiting sweep main thread #{} via return 1564\n",
      "\n",
      "Elapsed time: 0 h 20 m 44.25 s\n",
      "[1.2318578677645549e-05, -0.42337198467578985, 10.806841852485189, -9.305635936128931, 1.2834155923487314]\n"
     ]
    },
    {
     "data": {
      "application/vnd.jupyter.widget-view+json": {
       "model_id": "b3f9a391b26749b19a23e99259ef2d28",
       "version_major": 2,
       "version_minor": 0
      },
      "text/plain": [
       "A Jupyter Widget"
      ]
     },
     "metadata": {},
     "output_type": "display_data"
    },
    {
     "name": "stdout",
     "output_type": "stream",
     "text": [
      "Started at:  Aug 28 2018 00:51:07\n",
      "Waiting to join deferred threads:\n",
      "Exiting sweep main thread #{} via return 10716\n",
      "\n",
      "Elapsed time: 0 h 34 m 40.61 s\n"
     ]
    },
    {
     "data": {
      "application/vnd.jupyter.widget-view+json": {
       "model_id": "95a5894c2717401ca0a5f7ecc569dd8f",
       "version_major": 2,
       "version_minor": 0
      },
      "text/plain": [
       "A Jupyter Widget"
      ]
     },
     "metadata": {},
     "output_type": "display_data"
    },
    {
     "name": "stdout",
     "output_type": "stream",
     "text": [
      "Started at:  Aug 28 2018 01:25:52\n",
      "Waiting to join deferred threads:\n",
      "Exiting sweep main thread #{} via return 3596\n",
      "\n",
      "Elapsed time: 0 h 13 m 51.86 s\n"
     ]
    },
    {
     "data": {
      "application/vnd.jupyter.widget-view+json": {
       "model_id": "7ca4794ea226427ab0d20fef4dac7323",
       "version_major": 2,
       "version_minor": 0
      },
      "text/plain": [
       "A Jupyter Widget"
      ]
     },
     "metadata": {},
     "output_type": "display_data"
    },
    {
     "name": "stdout",
     "output_type": "stream",
     "text": [
      "Started at:  Aug 28 2018 01:39:47\n",
      "Waiting to join deferred threads:\n",
      "Exiting sweep main thread #{} via return 9664\n",
      "\n",
      "Elapsed time: 0 h 34 m 50.46 s\n"
     ]
    },
    {
     "data": {
      "application/vnd.jupyter.widget-view+json": {
       "model_id": "7f10885e944f4778bd7a9a452c9d09d6",
       "version_major": 2,
       "version_minor": 0
      },
      "text/plain": [
       "A Jupyter Widget"
      ]
     },
     "metadata": {},
     "output_type": "display_data"
    },
    {
     "name": "stdout",
     "output_type": "stream",
     "text": [
      "Started at:  Aug 28 2018 02:14:42\n",
      "Waiting to join deferred threads:\n",
      "Exiting sweep main thread #{} via return 2628\n",
      "\n",
      "Elapsed time: 0 h 20 m 52.58 s\n",
      "[1.3661492971457609e-05, -6.807585157956998, 7.514753015513845, -9.179639793541869, 1.3707400578525124]\n"
     ]
    },
    {
     "data": {
      "application/vnd.jupyter.widget-view+json": {
       "model_id": "b4ea0e881a9a48f0a38b9da507981be0",
       "version_major": 2,
       "version_minor": 0
      },
      "text/plain": [
       "A Jupyter Widget"
      ]
     },
     "metadata": {},
     "output_type": "display_data"
    },
    {
     "name": "stdout",
     "output_type": "stream",
     "text": [
      "Started at:  Aug 28 2018 02:35:38\n",
      "Waiting to join deferred threads:\n",
      "Exiting sweep main thread #{} via return 7772\n",
      "\n",
      "Elapsed time: 0 h 34 m 50.33 s\n"
     ]
    },
    {
     "data": {
      "application/vnd.jupyter.widget-view+json": {
       "model_id": "bd83d87e977e4ec4a0d88f1234eaf435",
       "version_major": 2,
       "version_minor": 0
      },
      "text/plain": [
       "A Jupyter Widget"
      ]
     },
     "metadata": {},
     "output_type": "display_data"
    },
    {
     "name": "stdout",
     "output_type": "stream",
     "text": [
      "Started at:  Aug 28 2018 03:10:32\n",
      "Waiting to join deferred threads:\n",
      "Exiting sweep main thread #{} via return 10756\n",
      "\n",
      "Elapsed time: 0 h 13 m 58.52 s\n"
     ]
    },
    {
     "data": {
      "application/vnd.jupyter.widget-view+json": {
       "model_id": "37776db818f54636bac2be7979e0a00a",
       "version_major": 2,
       "version_minor": 0
      },
      "text/plain": [
       "A Jupyter Widget"
      ]
     },
     "metadata": {},
     "output_type": "display_data"
    },
    {
     "name": "stdout",
     "output_type": "stream",
     "text": [
      "Started at:  Aug 28 2018 03:24:34\n",
      "Waiting to join deferred threads:\n",
      "Exiting sweep main thread #{} via return 10708\n",
      "\n",
      "Elapsed time: 0 h 35 m 1.77 s\n"
     ]
    },
    {
     "data": {
      "application/vnd.jupyter.widget-view+json": {
       "model_id": "9d2ae562045e42dfae18c032ccda9d1d",
       "version_major": 2,
       "version_minor": 0
      },
      "text/plain": [
       "A Jupyter Widget"
      ]
     },
     "metadata": {},
     "output_type": "display_data"
    },
    {
     "name": "stdout",
     "output_type": "stream",
     "text": [
      "Started at:  Aug 28 2018 03:59:40\n",
      "Waiting to join deferred threads:\n",
      "Exiting sweep main thread #{} via return 4648\n",
      "\n",
      "Elapsed time: 0 h 21 m 10.83 s\n",
      "[1.4698511369688787e-05, -2.698763212429403, 8.369619842533469, -9.840517227850471, 0.8714145658191932]\n"
     ]
    },
    {
     "data": {
      "application/vnd.jupyter.widget-view+json": {
       "model_id": "3cbb32a0003348b086e8f9f45edbe8da",
       "version_major": 2,
       "version_minor": 0
      },
      "text/plain": [
       "A Jupyter Widget"
      ]
     },
     "metadata": {},
     "output_type": "display_data"
    },
    {
     "name": "stdout",
     "output_type": "stream",
     "text": [
      "Started at:  Aug 28 2018 04:20:55\n",
      "Waiting to join deferred threads:\n",
      "Exiting sweep main thread #{} via return 6944\n",
      "\n",
      "Elapsed time: 0 h 35 m 16.19 s\n"
     ]
    }
   ],
   "source": [
    "#%%mprun -f two_diffs[0].Rabi_rect -f two_diffs[0].Ramsey -f two_diffs[0].decay -f two_diffs[0].spin_echo -f sweep.sweep -f diff_adc_reducer.measure\n",
    "two_diffs = twos\n",
    "imp.reload(plotting)\n",
    "iters = 1\n",
    "for _iter in range(iters):\n",
    "    for two_diff in two_diffs:\n",
    "        two_diff.Rabi_rect(rabi_lengths)\n",
    "        #two_diff.Ramsey(delaysT2, target_freq_offset)\n",
    "        two_diff.Ramsey(delaysT2_coherence,target_freq_offset_coherence)\n",
    "        two_diff.decay(delaysT1)\n",
    "        two_diff.spin_echo(delaysT2_coherence,target_freq_offset_coherence)"
   ]
  },
  {
   "cell_type": "code",
   "execution_count": 79,
   "metadata": {
    "scrolled": true
   },
   "outputs": [
    {
     "data": {
      "application/vnd.jupyter.widget-view+json": {
       "model_id": "90ddb48a628140d6b293315961741107",
       "version_major": 2,
       "version_minor": 0
      },
      "text/plain": [
       "A Jupyter Widget"
      ]
     },
     "metadata": {},
     "output_type": "display_data"
    },
    {
     "name": "stdout",
     "output_type": "stream",
     "text": [
      "Started at:  Aug 28 2018 12:04:07\n",
      "Exiting sweep main thread #{} via return 8788\n",
      "\n",
      "Elapsed time: 0 h 57 m 8.06 s\n"
     ]
    }
   ],
   "source": [
    "imp.reload(sweep)\n",
    "imp.reload(plotting)\n",
    "#rabi_lengths = np.arange(0.,2500e-9, 25e-9)\n",
    "ex_lengths = [10e-6]\n",
    "carrier_frequencies = np.arange(4.08e9, 4.14e9, 0.1e6)\n",
    "two_diffs[0].Rabi_2d_rect(ex_lengths, carrier_frequencies)"
   ]
  },
  {
   "cell_type": "code",
   "execution_count": 42,
   "metadata": {},
   "outputs": [
    {
     "data": {
      "text/plain": [
       "<module 'qsweepy.sweep' from 'C:\\\\Users\\\\demouser\\\\Desktop\\\\Quantum\\\\qsweepy\\\\sweep.py'>"
      ]
     },
     "execution_count": 42,
     "metadata": {},
     "output_type": "execute_result"
    }
   ],
   "source": [
    "imp.reload(sweep)"
   ]
  },
  {
   "cell_type": "code",
   "execution_count": 172,
   "metadata": {},
   "outputs": [
    {
     "data": {
      "text/plain": [
       "4099160000.0"
      ]
     },
     "execution_count": 172,
     "metadata": {},
     "output_type": "execute_result"
    }
   ],
   "source": [
    "pg.channels['iq_ex_00-2-11'].get_frequency()"
   ]
  },
  {
   "cell_type": "code",
   "execution_count": 174,
   "metadata": {},
   "outputs": [
    {
     "data": {
      "application/vnd.jupyter.widget-view+json": {
       "model_id": "221bec594a0e4f859fddba3f3d8cefac"
      }
     },
     "metadata": {},
     "output_type": "display_data"
    },
    {
     "name": "stdout",
     "output_type": "stream",
     "text": [
      "Started at:  Aug 20 2018 23:34:22\n",
      "Exiting sweep main thread #{} via return 2544\n",
      "\n",
      "Elapsed time: 1 h 9 m 10.77 s\n"
     ]
    },
    {
     "data": {
      "text/plain": [
       "{'qubit_id': 1,\n",
       " 'rabi_carrier': 4099160000.0,\n",
       " 'rabi_ex_amplitude': 0.5,\n",
       " 'rabi_rect_decay': 1.7542021164209382e-05,\n",
       " 'rabi_rect_freq': 93114.213246679603,\n",
       " 'rabi_ro_freq': 7278000000.0}"
      ]
     },
     "execution_count": 174,
     "metadata": {},
     "output_type": "execute_result"
    }
   ],
   "source": [
    "two_diffs[2].Rabi_rect(np.linspace(0, 5000e-9, 1001))"
   ]
  },
  {
   "cell_type": "code",
   "execution_count": 175,
   "metadata": {},
   "outputs": [
    {
     "data": {
      "application/vnd.jupyter.widget-view+json": {
       "model_id": "2d47304bb0e94c3ba7671f4c09210a8b"
      }
     },
     "metadata": {},
     "output_type": "display_data"
    },
    {
     "name": "stdout",
     "output_type": "stream",
     "text": [
      "Started at:  Aug 21 2018 09:01:33\n"
     ]
    },
    {
     "ename": "Error",
     "evalue": "Cannot move a directory 'C:\\Users\\demouser\\Desktop\\Quantum\\data/2018-08-21/09-01-33-Ramsey (target offset -2.00 MHz), excitation channel iq_ex_00-2-11/' into itself 'C:\\Users\\demouser\\Desktop\\Quantum\\data/2018-08-21/09-01-33-Ramsey (target offset -2.00 MHz), excitation channel iq_ex_00-2-11/unfinished/'.",
     "output_type": "error",
     "traceback": [
      "\u001b[1;31m---------------------------------------------------------------------------\u001b[0m",
      "\u001b[1;31mKeyboardInterrupt\u001b[0m                         Traceback (most recent call last)",
      "\u001b[1;32mC:\\Users\\demouser\\Desktop\\Quantum\\qsweepy\\sweep.py\u001b[0m in \u001b[0;36msweep\u001b[1;34m(measurer, filename, root_dir, plot, plot_separate_thread, header, output, save, time_war_label, shuffle, bot, use_deferred, *params)\u001b[0m\n\u001b[0;32m    330\u001b[0m                         \u001b[0macq_thread\u001b[0m\u001b[1;33m.\u001b[0m\u001b[0mstart\u001b[0m\u001b[1;33m(\u001b[0m\u001b[1;33m)\u001b[0m\u001b[1;33m\u001b[0m\u001b[0m\n\u001b[1;32m--> 331\u001b[1;33m                         \u001b[0mplot_thread\u001b[0m\u001b[1;33m(\u001b[0m\u001b[1;33m)\u001b[0m\u001b[1;33m\u001b[0m\u001b[0m\n\u001b[0m\u001b[0;32m    332\u001b[0m \u001b[1;33m\u001b[0m\u001b[0m\n",
      "\u001b[1;32mC:\\Users\\demouser\\Desktop\\Quantum\\qsweepy\\sweep.py\u001b[0m in \u001b[0;36mplot_thread\u001b[1;34m()\u001b[0m\n\u001b[0;32m    323\u001b[0m                                         \u001b[1;31m#print(plot_thread_point_id, done_sweeps)\u001b[0m\u001b[1;33m\u001b[0m\u001b[1;33m\u001b[0m\u001b[0m\n\u001b[1;32m--> 324\u001b[1;33m                                         \u001b[0mplt\u001b[0m\u001b[1;33m.\u001b[0m\u001b[0mgcf\u001b[0m\u001b[1;33m(\u001b[0m\u001b[1;33m)\u001b[0m\u001b[1;33m.\u001b[0m\u001b[0mcanvas\u001b[0m\u001b[1;33m.\u001b[0m\u001b[0mstart_event_loop\u001b[0m\u001b[1;33m(\u001b[0m\u001b[1;36m2.0\u001b[0m\u001b[1;33m)\u001b[0m\u001b[1;33m\u001b[0m\u001b[0m\n\u001b[0m\u001b[0;32m    325\u001b[0m                                 \u001b[1;31m#for i in range(100):\u001b[0m\u001b[1;33m\u001b[0m\u001b[1;33m\u001b[0m\u001b[0m\n",
      "\u001b[1;32mC:\\ProgramData\\Anaconda2\\envs\\py36\\lib\\site-packages\\matplotlib\\backends\\backend_qt5.py\u001b[0m in \u001b[0;36mstart_event_loop\u001b[1;34m(self, timeout)\u001b[0m\n\u001b[0;32m    480\u001b[0m             \u001b[0mtimer\u001b[0m \u001b[1;33m=\u001b[0m \u001b[0mQtCore\u001b[0m\u001b[1;33m.\u001b[0m\u001b[0mQTimer\u001b[0m\u001b[1;33m.\u001b[0m\u001b[0msingleShot\u001b[0m\u001b[1;33m(\u001b[0m\u001b[0mtimeout\u001b[0m \u001b[1;33m*\u001b[0m \u001b[1;36m1000\u001b[0m\u001b[1;33m,\u001b[0m \u001b[0mevent_loop\u001b[0m\u001b[1;33m.\u001b[0m\u001b[0mquit\u001b[0m\u001b[1;33m)\u001b[0m\u001b[1;33m\u001b[0m\u001b[0m\n\u001b[1;32m--> 481\u001b[1;33m         \u001b[0mevent_loop\u001b[0m\u001b[1;33m.\u001b[0m\u001b[0mexec_\u001b[0m\u001b[1;33m(\u001b[0m\u001b[1;33m)\u001b[0m\u001b[1;33m\u001b[0m\u001b[0m\n\u001b[0m\u001b[0;32m    482\u001b[0m \u001b[1;33m\u001b[0m\u001b[0m\n",
      "\u001b[1;31mKeyboardInterrupt\u001b[0m: ",
      "\nDuring handling of the above exception, another exception occurred:\n",
      "\u001b[1;31mPermissionError\u001b[0m                           Traceback (most recent call last)",
      "\u001b[1;32mC:\\ProgramData\\Anaconda2\\envs\\py36\\lib\\shutil.py\u001b[0m in \u001b[0;36mmove\u001b[1;34m(src, dst, copy_function)\u001b[0m\n\u001b[0;32m    543\u001b[0m     \u001b[1;32mtry\u001b[0m\u001b[1;33m:\u001b[0m\u001b[1;33m\u001b[0m\u001b[0m\n\u001b[1;32m--> 544\u001b[1;33m         \u001b[0mos\u001b[0m\u001b[1;33m.\u001b[0m\u001b[0mrename\u001b[0m\u001b[1;33m(\u001b[0m\u001b[0msrc\u001b[0m\u001b[1;33m,\u001b[0m \u001b[0mreal_dst\u001b[0m\u001b[1;33m)\u001b[0m\u001b[1;33m\u001b[0m\u001b[0m\n\u001b[0m\u001b[0;32m    545\u001b[0m     \u001b[1;32mexcept\u001b[0m \u001b[0mOSError\u001b[0m\u001b[1;33m:\u001b[0m\u001b[1;33m\u001b[0m\u001b[0m\n",
      "\u001b[1;31mPermissionError\u001b[0m: [WinError 32] The process cannot access the file because it is being used by another process: 'C:\\\\Users\\\\demouser\\\\Desktop\\\\Quantum\\\\data/2018-08-21/09-01-33-Ramsey (target offset -2.00 MHz), excitation channel iq_ex_00-2-11/' -> 'C:\\\\Users\\\\demouser\\\\Desktop\\\\Quantum\\\\data/2018-08-21/09-01-33-Ramsey (target offset -2.00 MHz), excitation channel iq_ex_00-2-11/unfinished/'",
      "\nDuring handling of the above exception, another exception occurred:\n",
      "\u001b[1;31mError\u001b[0m                                     Traceback (most recent call last)",
      "\u001b[1;32m<ipython-input-175-2adafff3f1ed>\u001b[0m in \u001b[0;36m<module>\u001b[1;34m()\u001b[0m\n\u001b[1;32m----> 1\u001b[1;33m \u001b[0mtwo_diffs\u001b[0m\u001b[1;33m[\u001b[0m\u001b[1;36m2\u001b[0m\u001b[1;33m]\u001b[0m\u001b[1;33m.\u001b[0m\u001b[0mRamsey\u001b[0m\u001b[1;33m(\u001b[0m\u001b[0mdelaysT2_coherence\u001b[0m\u001b[1;33m,\u001b[0m\u001b[0mtarget_freq_offset_coherence\u001b[0m\u001b[1;33m)\u001b[0m\u001b[1;33m\u001b[0m\u001b[0m\n\u001b[0m",
      "\u001b[1;32mC:\\Users\\demouser\\Desktop\\Quantum\\qsweepy\\quantum_two_level_dynamics.py\u001b[0m in \u001b[0;36mRamsey\u001b[1;34m(self, delays, target_freq_offset)\u001b[0m\n\u001b[0;32m    168\u001b[0m \t\tmeasurement = sweep.sweep(self.readout_device, (delays, set_delay, 'Ramsey delay', 's'), filename=measurement_name, shuffle=self.shuffle, root_dir = root_dir,\n\u001b[0;32m    169\u001b[0m                                                                   \u001b[0mplot_separate_thread\u001b[0m\u001b[1;33m=\u001b[0m \u001b[0mself\u001b[0m\u001b[1;33m.\u001b[0m\u001b[0mplot_separate_thread\u001b[0m\u001b[1;33m,\u001b[0m\u001b[1;33m\u001b[0m\u001b[0m\n\u001b[1;32m--> 170\u001b[1;33m \t\t\t\t\t\t\t\t  plot=self.plot)\n\u001b[0m\u001b[0;32m    171\u001b[0m                 \u001b[0mmeasurement_fitted\u001b[0m\u001b[1;33m,\u001b[0m \u001b[0mfitted_parameters\u001b[0m \u001b[1;33m=\u001b[0m \u001b[0mself\u001b[0m\u001b[1;33m.\u001b[0m\u001b[0mfitter\u001b[0m\u001b[1;33m(\u001b[0m\u001b[0mmeasurement\u001b[0m\u001b[1;33m,\u001b[0m \u001b[0mfitting\u001b[0m\u001b[1;33m.\u001b[0m\u001b[0mexp_sin_fit\u001b[0m\u001b[1;33m)\u001b[0m\u001b[1;33m\u001b[0m\u001b[0m\n\u001b[0;32m    172\u001b[0m                 \u001b[0mself\u001b[0m\u001b[1;33m.\u001b[0m\u001b[0mRamsey_result\u001b[0m \u001b[1;33m=\u001b[0m \u001b[1;33m{\u001b[0m\u001b[1;33m}\u001b[0m\u001b[1;33m\u001b[0m\u001b[0m\n",
      "\u001b[1;32mC:\\Users\\demouser\\Desktop\\Quantum\\qsweepy\\sweep.py\u001b[0m in \u001b[0;36msweep\u001b[1;34m(measurer, filename, root_dir, plot, plot_separate_thread, header, output, save, time_war_label, shuffle, bot, use_deferred, *params)\u001b[0m\n\u001b[0;32m    345\u001b[0m                 \u001b[0mstop_acq\u001b[0m \u001b[1;33m=\u001b[0m \u001b[1;32mTrue\u001b[0m\u001b[1;33m\u001b[0m\u001b[0m\n\u001b[0;32m    346\u001b[0m                 \u001b[0mpathlib\u001b[0m\u001b[1;33m.\u001b[0m\u001b[0mPath\u001b[0m\u001b[1;33m(\u001b[0m\u001b[0mdirectory_to\u001b[0m\u001b[1;33m)\u001b[0m\u001b[1;33m.\u001b[0m\u001b[0mparent\u001b[0m\u001b[1;33m.\u001b[0m\u001b[0mmkdir\u001b[0m\u001b[1;33m(\u001b[0m\u001b[0mparents\u001b[0m\u001b[1;33m=\u001b[0m\u001b[1;32mTrue\u001b[0m\u001b[1;33m,\u001b[0m \u001b[0mexist_ok\u001b[0m\u001b[1;33m=\u001b[0m\u001b[1;32mTrue\u001b[0m\u001b[1;33m)\u001b[0m \u001b[1;31m# create top-level directory for moving\u001b[0m\u001b[1;33m\u001b[0m\u001b[0m\n\u001b[1;32m--> 347\u001b[1;33m                 \u001b[0mdirectory_to\u001b[0m \u001b[1;33m=\u001b[0m \u001b[0msh\u001b[0m\u001b[1;33m.\u001b[0m\u001b[0mmove\u001b[0m\u001b[1;33m(\u001b[0m\u001b[0mdata_dir\u001b[0m\u001b[1;33m,\u001b[0m\u001b[0mdirectory_to\u001b[0m\u001b[1;33m)\u001b[0m\u001b[1;33m\u001b[0m\u001b[0m\n\u001b[0m\u001b[0;32m    348\u001b[0m                 \u001b[0mdata_dir\u001b[0m \u001b[1;33m=\u001b[0m \u001b[0mdirectory_to\u001b[0m\u001b[1;33m\u001b[0m\u001b[0m\n\u001b[0;32m    349\u001b[0m                 \u001b[1;32mraise\u001b[0m \u001b[1;31m# after finally\u001b[0m\u001b[1;33m\u001b[0m\u001b[0m\n",
      "\u001b[1;32mC:\\ProgramData\\Anaconda2\\envs\\py36\\lib\\shutil.py\u001b[0m in \u001b[0;36mmove\u001b[1;34m(src, dst, copy_function)\u001b[0m\n\u001b[0;32m    551\u001b[0m             \u001b[1;32mif\u001b[0m \u001b[0m_destinsrc\u001b[0m\u001b[1;33m(\u001b[0m\u001b[0msrc\u001b[0m\u001b[1;33m,\u001b[0m \u001b[0mdst\u001b[0m\u001b[1;33m)\u001b[0m\u001b[1;33m:\u001b[0m\u001b[1;33m\u001b[0m\u001b[0m\n\u001b[0;32m    552\u001b[0m                 raise Error(\"Cannot move a directory '%s' into itself\"\n\u001b[1;32m--> 553\u001b[1;33m                             \" '%s'.\" % (src, dst))\n\u001b[0m\u001b[0;32m    554\u001b[0m             copytree(src, real_dst, copy_function=copy_function,\n\u001b[0;32m    555\u001b[0m                      symlinks=True)\n",
      "\u001b[1;31mError\u001b[0m: Cannot move a directory 'C:\\Users\\demouser\\Desktop\\Quantum\\data/2018-08-21/09-01-33-Ramsey (target offset -2.00 MHz), excitation channel iq_ex_00-2-11/' into itself 'C:\\Users\\demouser\\Desktop\\Quantum\\data/2018-08-21/09-01-33-Ramsey (target offset -2.00 MHz), excitation channel iq_ex_00-2-11/unfinished/'."
     ]
    },
    {
     "name": "stderr",
     "output_type": "stream",
     "text": [
      "Exception in thread Thread-661:\n",
      "Traceback (most recent call last):\n",
      "  File \"C:\\ProgramData\\Anaconda2\\envs\\py36\\lib\\threading.py\", line 916, in _bootstrap_inner\n",
      "    self.run()\n",
      "  File \"C:\\ProgramData\\Anaconda2\\envs\\py36\\lib\\threading.py\", line 864, in run\n",
      "    self._target(*self._args, **self._kwargs)\n",
      "  File \"C:\\Users\\demouser\\Desktop\\Quantum\\qsweepy\\sweep.py\", line 279, in main_sweep_loop\n",
      "    set_single_measurement_result(mpoint, indeces)\n",
      "  File \"C:\\Users\\demouser\\Desktop\\Quantum\\qsweepy\\sweep.py\", line 223, in set_single_measurement_result\n",
      "    ascii_file.write(data_to_str(fmt(mpoint_m_flat))+'\\n')\n",
      "ValueError: I/O operation on closed file.\n",
      "\n"
     ]
    }
   ],
   "source": [
    "two_diffs[2].Ramsey(delaysT2_coherence,target_freq_offset_coherence)"
   ]
  },
  {
   "cell_type": "code",
   "execution_count": 43,
   "metadata": {},
   "outputs": [
    {
     "data": {
      "application/vnd.jupyter.widget-view+json": {
       "model_id": "ca0087323e47410989424a6b030b6e24"
      }
     },
     "metadata": {},
     "output_type": "display_data"
    },
    {
     "name": "stdout",
     "output_type": "stream",
     "text": [
      "Started at:  Aug 20 2018 18:59:32\n",
      "Exiting sweep main thread #{} via return 7512\n",
      "\n",
      "Elapsed time: 0 h 7 m 33.57 s\n"
     ]
    },
    {
     "data": {
      "text/plain": [
       "{'qubit_id': 1,\n",
       " 'rabi_carrier': 4124540000.0,\n",
       " 'rabi_ex_amplitude': 1.0,\n",
       " 'rabi_rect_decay': 3.8923574907939237e-08,\n",
       " 'rabi_rect_freq': 28847686.763304252,\n",
       " 'rabi_ro_freq': 7278000000.0}"
      ]
     },
     "execution_count": 43,
     "metadata": {},
     "output_type": "execute_result"
    }
   ],
   "source": [
    "two_diffs[1].Rabi_rect(np.linspace(0, 100e-9, 101))"
   ]
  },
  {
   "cell_type": "code",
   "execution_count": 63,
   "metadata": {},
   "outputs": [
    {
     "data": {
      "application/vnd.jupyter.widget-view+json": {
       "model_id": "c4b02c1f4d664e1a9d27ef1d73439a31"
      }
     },
     "metadata": {},
     "output_type": "display_data"
    },
    {
     "name": "stdout",
     "output_type": "stream",
     "text": [
      "Started at:  Aug 17 2018 08:54:04\n"
     ]
    },
    {
     "name": "stderr",
     "output_type": "stream",
     "text": [
      "Exception in thread Thread-9:\n",
      "Traceback (most recent call last):\n",
      "  File \"C:\\ProgramData\\Anaconda2\\envs\\py36\\lib\\threading.py\", line 916, in _bootstrap_inner\n",
      "    self.run()\n",
      "  File \"C:\\ProgramData\\Anaconda2\\envs\\py36\\lib\\threading.py\", line 864, in run\n",
      "    self._target(*self._args, **self._kwargs)\n",
      "  File \"C:\\Users\\demouser\\Desktop\\Quantum\\qsweepy\\sweep.py\", line 206, in main_sweep_loop\n",
      "    ascii_file.write(data_to_str(fmt(mpoint_m_flat))+'\\n')\n",
      "ValueError: I/O operation on closed file.\n",
      "\n"
     ]
    },
    {
     "ename": "Error",
     "evalue": "Cannot move a directory 'C:\\Users\\demouser\\Desktop\\Quantum\\data/2018-08-17/08-54-04-Rabi rectangular channel iq_ex_00-1-01/' into itself 'C:\\Users\\demouser\\Desktop\\Quantum\\data/2018-08-17/08-54-04-Rabi rectangular channel iq_ex_00-1-01/unfinished/'.",
     "output_type": "error",
     "traceback": [
      "\u001b[1;31m---------------------------------------------------------------------------\u001b[0m",
      "\u001b[1;31mKeyboardInterrupt\u001b[0m                         Traceback (most recent call last)",
      "\u001b[1;32mC:\\Users\\demouser\\Desktop\\Quantum\\qsweepy\\sweep.py\u001b[0m in \u001b[0;36msweep\u001b[1;34m(measurer, filename, root_dir, plot, plot_separate_thread, header, output, save, time_war_label, shuffle, bot, *params)\u001b[0m\n\u001b[0;32m    266\u001b[0m                         \u001b[0macq_thread\u001b[0m\u001b[1;33m.\u001b[0m\u001b[0mstart\u001b[0m\u001b[1;33m(\u001b[0m\u001b[1;33m)\u001b[0m\u001b[1;33m\u001b[0m\u001b[0m\n\u001b[1;32m--> 267\u001b[1;33m                         \u001b[0mplot_thread\u001b[0m\u001b[1;33m(\u001b[0m\u001b[1;33m)\u001b[0m\u001b[1;33m\u001b[0m\u001b[0m\n\u001b[0m\u001b[0;32m    268\u001b[0m \u001b[1;33m\u001b[0m\u001b[0m\n",
      "\u001b[1;32mC:\\Users\\demouser\\Desktop\\Quantum\\qsweepy\\sweep.py\u001b[0m in \u001b[0;36mplot_thread\u001b[1;34m()\u001b[0m\n\u001b[0;32m    260\u001b[0m                                                 \u001b[1;32mreturn\u001b[0m\u001b[1;33m\u001b[0m\u001b[0m\n\u001b[1;32m--> 261\u001b[1;33m                                         \u001b[0mplt\u001b[0m\u001b[1;33m.\u001b[0m\u001b[0mpause\u001b[0m\u001b[1;33m(\u001b[0m\u001b[1;36m1.0\u001b[0m\u001b[1;33m)\u001b[0m\u001b[1;33m\u001b[0m\u001b[0m\n\u001b[0m\u001b[0;32m    262\u001b[0m                                         \u001b[1;31m#print(plot_thread_point_id, done_sweeps)\u001b[0m\u001b[1;33m\u001b[0m\u001b[1;33m\u001b[0m\u001b[0m\n",
      "\u001b[1;32mC:\\ProgramData\\Anaconda2\\envs\\py36\\lib\\site-packages\\matplotlib\\pyplot.py\u001b[0m in \u001b[0;36mpause\u001b[1;34m(interval)\u001b[0m\n\u001b[0;32m    299\u001b[0m             \u001b[0mshow\u001b[0m\u001b[1;33m(\u001b[0m\u001b[0mblock\u001b[0m\u001b[1;33m=\u001b[0m\u001b[1;32mFalse\u001b[0m\u001b[1;33m)\u001b[0m\u001b[1;33m\u001b[0m\u001b[0m\n\u001b[1;32m--> 300\u001b[1;33m             \u001b[0mcanvas\u001b[0m\u001b[1;33m.\u001b[0m\u001b[0mstart_event_loop\u001b[0m\u001b[1;33m(\u001b[0m\u001b[0minterval\u001b[0m\u001b[1;33m)\u001b[0m\u001b[1;33m\u001b[0m\u001b[0m\n\u001b[0m\u001b[0;32m    301\u001b[0m             \u001b[1;32mreturn\u001b[0m\u001b[1;33m\u001b[0m\u001b[0m\n",
      "\u001b[1;32mC:\\ProgramData\\Anaconda2\\envs\\py36\\lib\\site-packages\\matplotlib\\backends\\backend_qt5.py\u001b[0m in \u001b[0;36mstart_event_loop\u001b[1;34m(self, timeout)\u001b[0m\n\u001b[0;32m    428\u001b[0m     \u001b[1;32mdef\u001b[0m \u001b[0mstart_event_loop\u001b[0m\u001b[1;33m(\u001b[0m\u001b[0mself\u001b[0m\u001b[1;33m,\u001b[0m \u001b[0mtimeout\u001b[0m\u001b[1;33m)\u001b[0m\u001b[1;33m:\u001b[0m\u001b[1;33m\u001b[0m\u001b[0m\n\u001b[1;32m--> 429\u001b[1;33m         \u001b[0mFigureCanvasBase\u001b[0m\u001b[1;33m.\u001b[0m\u001b[0mstart_event_loop_default\u001b[0m\u001b[1;33m(\u001b[0m\u001b[0mself\u001b[0m\u001b[1;33m,\u001b[0m \u001b[0mtimeout\u001b[0m\u001b[1;33m)\u001b[0m\u001b[1;33m\u001b[0m\u001b[0m\n\u001b[0m\u001b[0;32m    430\u001b[0m \u001b[1;33m\u001b[0m\u001b[0m\n",
      "\u001b[1;32mC:\\ProgramData\\Anaconda2\\envs\\py36\\lib\\site-packages\\matplotlib\\backend_bases.py\u001b[0m in \u001b[0;36mstart_event_loop_default\u001b[1;34m(self, timeout)\u001b[0m\n\u001b[0;32m   2461\u001b[0m             \u001b[0mself\u001b[0m\u001b[1;33m.\u001b[0m\u001b[0mflush_events\u001b[0m\u001b[1;33m(\u001b[0m\u001b[1;33m)\u001b[0m\u001b[1;33m\u001b[0m\u001b[0m\n\u001b[1;32m-> 2462\u001b[1;33m             \u001b[0mtime\u001b[0m\u001b[1;33m.\u001b[0m\u001b[0msleep\u001b[0m\u001b[1;33m(\u001b[0m\u001b[0mtimestep\u001b[0m\u001b[1;33m)\u001b[0m\u001b[1;33m\u001b[0m\u001b[0m\n\u001b[0m\u001b[0;32m   2463\u001b[0m             \u001b[0mcounter\u001b[0m \u001b[1;33m+=\u001b[0m \u001b[1;36m1\u001b[0m\u001b[1;33m\u001b[0m\u001b[0m\n",
      "\u001b[1;31mKeyboardInterrupt\u001b[0m: ",
      "\nDuring handling of the above exception, another exception occurred:\n",
      "\u001b[1;31mPermissionError\u001b[0m                           Traceback (most recent call last)",
      "\u001b[1;32mC:\\ProgramData\\Anaconda2\\envs\\py36\\lib\\shutil.py\u001b[0m in \u001b[0;36mmove\u001b[1;34m(src, dst, copy_function)\u001b[0m\n\u001b[0;32m    543\u001b[0m     \u001b[1;32mtry\u001b[0m\u001b[1;33m:\u001b[0m\u001b[1;33m\u001b[0m\u001b[0m\n\u001b[1;32m--> 544\u001b[1;33m         \u001b[0mos\u001b[0m\u001b[1;33m.\u001b[0m\u001b[0mrename\u001b[0m\u001b[1;33m(\u001b[0m\u001b[0msrc\u001b[0m\u001b[1;33m,\u001b[0m \u001b[0mreal_dst\u001b[0m\u001b[1;33m)\u001b[0m\u001b[1;33m\u001b[0m\u001b[0m\n\u001b[0m\u001b[0;32m    545\u001b[0m     \u001b[1;32mexcept\u001b[0m \u001b[0mOSError\u001b[0m\u001b[1;33m:\u001b[0m\u001b[1;33m\u001b[0m\u001b[0m\n",
      "\u001b[1;31mPermissionError\u001b[0m: [WinError 32] The process cannot access the file because it is being used by another process: 'C:\\\\Users\\\\demouser\\\\Desktop\\\\Quantum\\\\data/2018-08-17/08-54-04-Rabi rectangular channel iq_ex_00-1-01/' -> 'C:\\\\Users\\\\demouser\\\\Desktop\\\\Quantum\\\\data/2018-08-17/08-54-04-Rabi rectangular channel iq_ex_00-1-01/unfinished/'",
      "\nDuring handling of the above exception, another exception occurred:\n",
      "\u001b[1;31mError\u001b[0m                                     Traceback (most recent call last)",
      "\u001b[1;32m<ipython-input-63-9a3c5b7dc795>\u001b[0m in \u001b[0;36m<module>\u001b[1;34m()\u001b[0m\n\u001b[0;32m      1\u001b[0m \u001b[1;32mfor\u001b[0m \u001b[0mtwo_diff\u001b[0m \u001b[1;32min\u001b[0m \u001b[0mtwo_diffs\u001b[0m\u001b[1;33m:\u001b[0m\u001b[1;33m\u001b[0m\u001b[0m\n\u001b[1;32m----> 2\u001b[1;33m     \u001b[0mtwo_diff\u001b[0m\u001b[1;33m.\u001b[0m\u001b[0mRabi_rect\u001b[0m\u001b[1;33m(\u001b[0m\u001b[0mrabi_lengths\u001b[0m\u001b[1;33m)\u001b[0m\u001b[1;33m\u001b[0m\u001b[0m\n\u001b[0m",
      "\u001b[1;32mC:\\Users\\demouser\\Desktop\\Quantum\\qsweepy\\quantum_two_level_dynamics.py\u001b[0m in \u001b[0;36mRabi_rect\u001b[1;34m(self, lengths)\u001b[0m\n\u001b[0;32m     64\u001b[0m                 \u001b[0mroot_dir\u001b[0m\u001b[1;33m,\u001b[0m \u001b[0mday_folder_name\u001b[0m\u001b[1;33m,\u001b[0m \u001b[0mtime_folder_name\u001b[0m \u001b[1;33m=\u001b[0m \u001b[0msave_pkl\u001b[0m\u001b[1;33m.\u001b[0m\u001b[0mget_location\u001b[0m\u001b[1;33m(\u001b[0m\u001b[1;33m)\u001b[0m\u001b[1;33m\u001b[0m\u001b[0m\n\u001b[0;32m     65\u001b[0m                 \u001b[0mroot_dir\u001b[0m \u001b[1;33m=\u001b[0m \u001b[1;34m'{}/{}/{}-{}'\u001b[0m\u001b[1;33m.\u001b[0m\u001b[0mformat\u001b[0m\u001b[1;33m(\u001b[0m\u001b[0mroot_dir\u001b[0m\u001b[1;33m,\u001b[0m \u001b[0mday_folder_name\u001b[0m\u001b[1;33m,\u001b[0m \u001b[0mtime_folder_name\u001b[0m\u001b[1;33m,\u001b[0m \u001b[0mmeasurement_name\u001b[0m\u001b[1;33m)\u001b[0m\u001b[1;33m\u001b[0m\u001b[0m\n\u001b[1;32m---> 66\u001b[1;33m                 \u001b[0mmeasurement\u001b[0m \u001b[1;33m=\u001b[0m \u001b[0msweep\u001b[0m\u001b[1;33m.\u001b[0m\u001b[0msweep\u001b[0m\u001b[1;33m(\u001b[0m\u001b[0mself\u001b[0m\u001b[1;33m.\u001b[0m\u001b[0mreadout_device\u001b[0m\u001b[1;33m,\u001b[0m \u001b[1;33m(\u001b[0m\u001b[0mlengths\u001b[0m\u001b[1;33m,\u001b[0m \u001b[0mset_ex_length\u001b[0m\u001b[1;33m,\u001b[0m \u001b[1;34m'Rabi pulse length'\u001b[0m\u001b[1;33m,\u001b[0m \u001b[1;34m's'\u001b[0m\u001b[1;33m)\u001b[0m\u001b[1;33m,\u001b[0m \u001b[0mfilename\u001b[0m\u001b[1;33m=\u001b[0m\u001b[0mmeasurement_name\u001b[0m\u001b[1;33m,\u001b[0m \u001b[0mshuffle\u001b[0m\u001b[1;33m=\u001b[0m\u001b[0mself\u001b[0m\u001b[1;33m.\u001b[0m\u001b[0mshuffle\u001b[0m\u001b[1;33m,\u001b[0m \u001b[0mroot_dir\u001b[0m\u001b[1;33m=\u001b[0m\u001b[0mroot_dir\u001b[0m\u001b[1;33m)\u001b[0m\u001b[1;33m\u001b[0m\u001b[0m\n\u001b[0m\u001b[0;32m     67\u001b[0m                 \u001b[0mmeasurement_fitted\u001b[0m\u001b[1;33m,\u001b[0m \u001b[0mfitted_parameters\u001b[0m \u001b[1;33m=\u001b[0m \u001b[0mself\u001b[0m\u001b[1;33m.\u001b[0m\u001b[0mfitter\u001b[0m\u001b[1;33m(\u001b[0m\u001b[0mmeasurement\u001b[0m\u001b[1;33m,\u001b[0m \u001b[0mfitting\u001b[0m\u001b[1;33m.\u001b[0m\u001b[0mexp_sin_fit\u001b[0m\u001b[1;33m)\u001b[0m\u001b[1;33m\u001b[0m\u001b[0m\n\u001b[0;32m     68\u001b[0m                 \u001b[0mself\u001b[0m\u001b[1;33m.\u001b[0m\u001b[0mRabi_rect_result\u001b[0m \u001b[1;33m=\u001b[0m \u001b[1;33m{\u001b[0m\u001b[1;33m}\u001b[0m\u001b[1;33m\u001b[0m\u001b[0m\n",
      "\u001b[1;32mC:\\Users\\demouser\\Desktop\\Quantum\\qsweepy\\sweep.py\u001b[0m in \u001b[0;36msweep\u001b[1;34m(measurer, filename, root_dir, plot, plot_separate_thread, header, output, save, time_war_label, shuffle, bot, *params)\u001b[0m\n\u001b[0;32m    281\u001b[0m                 \u001b[0mstop_acq\u001b[0m \u001b[1;33m=\u001b[0m \u001b[1;32mTrue\u001b[0m\u001b[1;33m\u001b[0m\u001b[0m\n\u001b[0;32m    282\u001b[0m                 \u001b[0mpathlib\u001b[0m\u001b[1;33m.\u001b[0m\u001b[0mPath\u001b[0m\u001b[1;33m(\u001b[0m\u001b[0mdirectory_to\u001b[0m\u001b[1;33m)\u001b[0m\u001b[1;33m.\u001b[0m\u001b[0mparent\u001b[0m\u001b[1;33m.\u001b[0m\u001b[0mmkdir\u001b[0m\u001b[1;33m(\u001b[0m\u001b[0mparents\u001b[0m\u001b[1;33m=\u001b[0m\u001b[1;32mTrue\u001b[0m\u001b[1;33m,\u001b[0m \u001b[0mexist_ok\u001b[0m\u001b[1;33m=\u001b[0m\u001b[1;32mTrue\u001b[0m\u001b[1;33m)\u001b[0m \u001b[1;31m# create top-level directory for moving\u001b[0m\u001b[1;33m\u001b[0m\u001b[0m\n\u001b[1;32m--> 283\u001b[1;33m                 \u001b[0mdirectory_to\u001b[0m \u001b[1;33m=\u001b[0m \u001b[0msh\u001b[0m\u001b[1;33m.\u001b[0m\u001b[0mmove\u001b[0m\u001b[1;33m(\u001b[0m\u001b[0mdata_dir\u001b[0m\u001b[1;33m,\u001b[0m\u001b[0mdirectory_to\u001b[0m\u001b[1;33m)\u001b[0m\u001b[1;33m\u001b[0m\u001b[0m\n\u001b[0m\u001b[0;32m    284\u001b[0m                 \u001b[0mdata_dir\u001b[0m \u001b[1;33m=\u001b[0m \u001b[0mdirectory_to\u001b[0m\u001b[1;33m\u001b[0m\u001b[0m\n\u001b[0;32m    285\u001b[0m                 \u001b[1;32mraise\u001b[0m \u001b[1;31m# after finally\u001b[0m\u001b[1;33m\u001b[0m\u001b[0m\n",
      "\u001b[1;32mC:\\ProgramData\\Anaconda2\\envs\\py36\\lib\\shutil.py\u001b[0m in \u001b[0;36mmove\u001b[1;34m(src, dst, copy_function)\u001b[0m\n\u001b[0;32m    551\u001b[0m             \u001b[1;32mif\u001b[0m \u001b[0m_destinsrc\u001b[0m\u001b[1;33m(\u001b[0m\u001b[0msrc\u001b[0m\u001b[1;33m,\u001b[0m \u001b[0mdst\u001b[0m\u001b[1;33m)\u001b[0m\u001b[1;33m:\u001b[0m\u001b[1;33m\u001b[0m\u001b[0m\n\u001b[0;32m    552\u001b[0m                 raise Error(\"Cannot move a directory '%s' into itself\"\n\u001b[1;32m--> 553\u001b[1;33m                             \" '%s'.\" % (src, dst))\n\u001b[0m\u001b[0;32m    554\u001b[0m             copytree(src, real_dst, copy_function=copy_function,\n\u001b[0;32m    555\u001b[0m                      symlinks=True)\n",
      "\u001b[1;31mError\u001b[0m: Cannot move a directory 'C:\\Users\\demouser\\Desktop\\Quantum\\data/2018-08-17/08-54-04-Rabi rectangular channel iq_ex_00-1-01/' into itself 'C:\\Users\\demouser\\Desktop\\Quantum\\data/2018-08-17/08-54-04-Rabi rectangular channel iq_ex_00-1-01/unfinished/'."
     ]
    }
   ],
   "source": [
    "for two_diff in two_diffs:\n",
    "    two_diff.Rabi_rect(rabi_lengths)"
   ]
  },
  {
   "cell_type": "code",
   "execution_count": 41,
   "metadata": {},
   "outputs": [
    {
     "data": {
      "application/vnd.jupyter.widget-view+json": {
       "model_id": "5cba4e3679f84f1e89fb706b9b261916"
      }
     },
     "metadata": {},
     "output_type": "display_data"
    },
    {
     "name": "stdout",
     "output_type": "stream",
     "text": [
      "Started at:  Aug 16 2018 14:01:24\n",
      "\n",
      "Elapsed time: 0 h 7 m 22.67 s\n"
     ]
    },
    {
     "data": {
      "application/vnd.jupyter.widget-view+json": {
       "model_id": "d037a78d39c9437289024e68eef04fbd"
      }
     },
     "metadata": {},
     "output_type": "display_data"
    },
    {
     "name": "stdout",
     "output_type": "stream",
     "text": [
      "Started at:  Aug 16 2018 14:08:49\n",
      "\n",
      "Elapsed time: 0 h 8 m 16.09 s\n"
     ]
    },
    {
     "data": {
      "application/vnd.jupyter.widget-view+json": {
       "model_id": "04f059e0781e45a6b00c734b116d30fc"
      }
     },
     "metadata": {},
     "output_type": "display_data"
    },
    {
     "name": "stdout",
     "output_type": "stream",
     "text": [
      "Started at:  Aug 16 2018 14:17:08\n",
      "\n",
      "Elapsed time: 0 h 8 m 15.35 s\n"
     ]
    },
    {
     "data": {
      "application/vnd.jupyter.widget-view+json": {
       "model_id": "98ebfdf5b26d4d54a8afe6ac8a9af82a"
      }
     },
     "metadata": {},
     "output_type": "display_data"
    },
    {
     "name": "stdout",
     "output_type": "stream",
     "text": [
      "Started at:  Aug 16 2018 14:25:26\n",
      "\n",
      "Elapsed time: 0 h 8 m 11.95 s\n"
     ]
    },
    {
     "data": {
      "application/vnd.jupyter.widget-view+json": {
       "model_id": "784ce101dba44375b1be29c0bfa879d1"
      }
     },
     "metadata": {},
     "output_type": "display_data"
    },
    {
     "name": "stdout",
     "output_type": "stream",
     "text": [
      "Started at:  Aug 16 2018 14:33:41\n",
      "\n",
      "Elapsed time: 0 h 8 m 9.4 s\n"
     ]
    },
    {
     "data": {
      "application/vnd.jupyter.widget-view+json": {
       "model_id": "48b1bc08826c4a53a0ff48c63374027c"
      }
     },
     "metadata": {},
     "output_type": "display_data"
    },
    {
     "name": "stdout",
     "output_type": "stream",
     "text": [
      "Started at:  Aug 16 2018 14:41:54\n",
      "\n",
      "Elapsed time: 0 h 8 m 11.82 s\n"
     ]
    },
    {
     "data": {
      "application/vnd.jupyter.widget-view+json": {
       "model_id": "316ce90ec79a441b8fec063032c035b3"
      }
     },
     "metadata": {},
     "output_type": "display_data"
    },
    {
     "name": "stdout",
     "output_type": "stream",
     "text": [
      "Started at:  Aug 16 2018 14:50:09\n",
      "\n",
      "Elapsed time: 0 h 8 m 9.73 s\n"
     ]
    },
    {
     "data": {
      "application/vnd.jupyter.widget-view+json": {
       "model_id": "772278bd14c44aecbe8b1df77de295c6"
      }
     },
     "metadata": {},
     "output_type": "display_data"
    },
    {
     "name": "stdout",
     "output_type": "stream",
     "text": [
      "Started at:  Aug 16 2018 14:58:21\n",
      "\n",
      "Elapsed time: 0 h 8 m 12.86 s\n"
     ]
    }
   ],
   "source": [
    "ramsey = two_diff.Ramsey(delaysT2, target_freq_offset)"
   ]
  },
  {
   "cell_type": "code",
   "execution_count": 45,
   "metadata": {},
   "outputs": [
    {
     "data": {
      "application/vnd.jupyter.widget-view+json": {
       "model_id": "bb87d841744e441b916395a0e4620cb0"
      }
     },
     "metadata": {},
     "output_type": "display_data"
    },
    {
     "name": "stdout",
     "output_type": "stream",
     "text": [
      "Started at:  Aug 13 2018 15:31:33\n",
      "\n",
      "Elapsed time: 0 h 2 m 35.22 s\n"
     ]
    },
    {
     "data": {
      "application/vnd.jupyter.widget-view+json": {
       "model_id": "2abbd9be111a42be86d5eb89bd075857"
      }
     },
     "metadata": {},
     "output_type": "display_data"
    },
    {
     "name": "stdout",
     "output_type": "stream",
     "text": [
      "Started at:  Aug 13 2018 15:34:12\n",
      "\n",
      "Elapsed time: 0 h 2 m 35.39 s\n"
     ]
    },
    {
     "data": {
      "application/vnd.jupyter.widget-view+json": {
       "model_id": "da99b31107ec4ba4bf921b6c091da380"
      }
     },
     "metadata": {},
     "output_type": "display_data"
    },
    {
     "name": "stdout",
     "output_type": "stream",
     "text": [
      "Started at:  Aug 13 2018 15:36:51\n",
      "\n",
      "Elapsed time: 0 h 2 m 35.39 s\n"
     ]
    }
   ],
   "source": [
    "ramsey_coherence = two.Ramsey(delaysT2_coherence,target_freq_offset_coherence)"
   ]
  },
  {
   "cell_type": "code",
   "execution_count": null,
   "metadata": {},
   "outputs": [
    {
     "data": {
      "application/vnd.jupyter.widget-view+json": {
       "model_id": "19fc9fe4d9a644c5ad11aa94eb3690da"
      }
     },
     "metadata": {},
     "output_type": "display_data"
    },
    {
     "name": "stdout",
     "output_type": "stream",
     "text": [
      "Started at:  Aug 13 2018 15:39:29\n",
      "\n",
      "Elapsed time: 0 h 6 m 24.15 s\n"
     ]
    },
    {
     "data": {
      "application/vnd.jupyter.widget-view+json": {
       "model_id": "cf037c5ded2f4a528ea018895b15fa59"
      }
     },
     "metadata": {},
     "output_type": "display_data"
    },
    {
     "name": "stdout",
     "output_type": "stream",
     "text": [
      "Started at:  Aug 13 2018 15:45:56\n",
      "\n",
      "Elapsed time: 0 h 6 m 24.47 s\n"
     ]
    },
    {
     "data": {
      "application/vnd.jupyter.widget-view+json": {
       "model_id": "69ac266dcbe943d28727ee299c5b9501"
      }
     },
     "metadata": {},
     "output_type": "display_data"
    },
    {
     "name": "stdout",
     "output_type": "stream",
     "text": [
      "Started at:  Aug 13 2018 15:52:24\n",
      "\n",
      "Elapsed time: 0 h 6 m 25.12 s\n"
     ]
    },
    {
     "data": {
      "application/vnd.jupyter.widget-view+json": {
       "model_id": "4bc74212d69f485189f6432077826d3f"
      }
     },
     "metadata": {},
     "output_type": "display_data"
    },
    {
     "name": "stdout",
     "output_type": "stream",
     "text": [
      "Started at:  Aug 13 2018 15:58:52\n",
      "\n",
      "Elapsed time: 0 h 9 m 32.74 s\n",
      "[1.3794692981824419e-05, 24.60641839180165, -2.716570158387844, 22.071946660809864, -0.6655228218390573]\n"
     ]
    },
    {
     "data": {
      "application/vnd.jupyter.widget-view+json": {
       "model_id": "b75993245316400e8ff87e2d0b7d6da7"
      }
     },
     "metadata": {},
     "output_type": "display_data"
    },
    {
     "name": "stdout",
     "output_type": "stream",
     "text": [
      "Started at:  Aug 13 2018 16:08:28\n",
      "\n",
      "Elapsed time: 0 h 9 m 35.04 s\n",
      "[1.4164030560766766e-05, 22.928180295259235, 2.7613523669700633, 21.6787645579611, -0.07578201907346543]\n"
     ]
    },
    {
     "data": {
      "application/vnd.jupyter.widget-view+json": {
       "model_id": "7adadb8b278642e1b9d7a1cd827720fc"
      }
     },
     "metadata": {},
     "output_type": "display_data"
    },
    {
     "name": "stdout",
     "output_type": "stream",
     "text": [
      "Started at:  Aug 13 2018 16:18:06\n"
     ]
    }
   ],
   "source": [
    "adc.set_nums(30000)\n",
    "ramsey_coherence = two.Ramsey(delaysT2_coherence,target_freq_offset_coherence)\n",
    "decay = two.Decay(delaysT1)\n",
    "spinecho = two.SpinEcho(delaysT2_coherence,target_freq_offset_coherence)\n",
    "#spinecho = two.SpinEcho(delaysT2,target_freq_offset)"
   ]
  },
  {
   "cell_type": "code",
   "execution_count": null,
   "metadata": {
    "collapsed": true
   },
   "outputs": [],
   "source": [
    "two.rabi_fr"
   ]
  },
  {
   "cell_type": "code",
   "execution_count": null,
   "metadata": {
    "collapsed": true
   },
   "outputs": [],
   "source": [
    "adc.set_nums(30000)"
   ]
  },
  {
   "cell_type": "code",
   "execution_count": null,
   "metadata": {
    "collapsed": true
   },
   "outputs": [],
   "source": [
    "## Assesing qubit temparature\n",
    "#'iq_ex_00-1-01','iq_ex_01-1-02'\n",
    "max_length = 4/two.rabi_fr['iq_ex_01-1-02'] # four rabi periods\n",
    "lengths = np.linspace(0, max_length, 51)\n",
    "ex_amplitude = two.rabi_fr['amplitude']\n",
    "pi_pulse = 0.5/two.rabi_fr['iq_ex_00-1-01']\n",
    "\n",
    "\n",
    "readout_begin = np.max(lengths)+pi_pulse*2\n",
    "pg = two.params['pg']\n",
    "ro_channel = 'iq_ro'\n",
    "def set_ex_length(length, pi):\n",
    "    sequence = [pg.p(None, readout_begin-length-pi_pulse-pi_pulse*(1-pi)),\n",
    "               pg.p('iq_ex_00-1-01', pi_pulse, pg.rect, ex_amplitude*pi),\n",
    "               pg.p('iq_ex_01-1-02', length, pg.rect, ex_amplitude), \n",
    "               pg.p('ro_trg', two.readout['trg_length'], pg.rect, 1), \n",
    "               pg.p('iq_ro', two.readout['dac_len'], pg.rect, two.readout['amp'])]\n",
    "    pg.set_seq(sequence)\n",
    "    two.pulse_sequencer.run()\n",
    "    \n",
    "set_ex_length_zero = lambda length: set_ex_length(length, False)\n",
    "set_ex_length_one = lambda length: set_ex_length(length, True)\n",
    "\n",
    "measurement_name = 'Rabi 1-2 without 0-1 pi qubit #{}'.format(qubit_id)\n",
    "measurement_zero = sweep.sweep(two.readout_device, (lengths, set_ex_length_zero, 'Rabi 1-2 pulse length', 's'), filename=measurement_name)\n",
    "measurement_zero_fitted, fitted_parameters_zero = fitting.fit1d(measurement_zero, fitting.exp_sin_fit)\n",
    "\n",
    "measurement_name = 'Rabi 1-2 with 0-1 pi qubit #{}'.format(qubit_id)\n",
    "measurement_one = sweep.sweep(two.readout_device, (lengths, set_ex_length_one, 'Rabi 1-2 pulse length', 's'), filename=measurement_name)\n",
    "measurement_one_fitted, fitted_parameters_one = fitting.fit1d(measurement_one, fitting.exp_sin_fit)\n",
    "#rabi_freqs[ex_channel]=fitted_parameters['freq']\n",
    "#rabi_freqs[ex_channel+'_pi_pulse,1e-9'] = 0.5/fitted_parameters['freq']*1e9\n",
    "#annotation = 'Phase: {0:4.4g} rad, Freq: {1:4.4g}, Decay: {2:4.4g} s, \\n Excitation carrier frequency: {3:7.5g}, Readout carrier frequency: {4:7.5g}'.format(fitted_parameters['phase'], \n",
    "#                                                                             fitted_parameters['freq'], \n",
    "#                                                                             fitted_parameters['decay'],\n",
    "#                                                                             pg.channels[ex_channel].get_frequency(),\n",
    "#                                                                             pg.channels[ro_channel].get_frequency())\n",
    "#    save_pkl.save_pkl({'type':'Rabi','name': 'qubit{}'.format(self.params['qubit_id'])}, measurement_fitted, annotation=annotation, filename=measurement_name)\n",
    "#rabi_freqs['amplitude'] = self.ex_amplitude\n",
    "#if self.params['qubit_id']:\n",
    "#    rabi_freqs['qubit_id'] = self.params['qubit_id']\n",
    "#self.rabi_fr = rabi_freqs\n",
    "#qjson.dump(type='two-level',name = 'rabi', params=rabi_freqs)\t\n"
   ]
  },
  {
   "cell_type": "code",
   "execution_count": 69,
   "metadata": {},
   "outputs": [
    {
     "data": {
      "text/plain": [
       "({'amplitudes': array([ 0.35860345, -0.03318447]),\n",
       "  'decay': 1.2054137342913969e-06,\n",
       "  'freq': 4638642.0563159566,\n",
       "  'phase': 6.0692232655529388},\n",
       " {'amplitudes': array([ 1.72760246, -0.11694076]),\n",
       "  'decay': -0.013152470209205408,\n",
       "  'freq': 4629427.7797235586,\n",
       "  'phase': 6.2588210413552385})"
      ]
     },
     "execution_count": 69,
     "metadata": {},
     "output_type": "execute_result"
    }
   ],
   "source": [
    "#attempt 1\n",
    "fitted_parameters_zero, fitted_parameters_one"
   ]
  },
  {
   "cell_type": "code",
   "execution_count": 70,
   "metadata": {},
   "outputs": [
    {
     "name": "stdout",
     "output_type": "stream",
     "text": [
      "[ 0.2075729   0.28377166]\n"
     ]
    },
    {
     "data": {
      "text/plain": [
       "0.20798382479365637"
      ]
     },
     "execution_count": 70,
     "metadata": {},
     "output_type": "execute_result"
    }
   ],
   "source": [
    "#attempt 1\n",
    "print(fitted_parameters_zero['amplitudes']/fitted_parameters_one['amplitudes'])\n",
    "np.sqrt(np.sum(fitted_parameters_zero['amplitudes']**2)/np.sum(fitted_parameters_one['amplitudes']**2))"
   ]
  },
  {
   "cell_type": "code",
   "execution_count": null,
   "metadata": {
    "collapsed": true
   },
   "outputs": [],
   "source": [
    "decay = two.Decay(delaysT1)"
   ]
  },
  {
   "cell_type": "code",
   "execution_count": null,
   "metadata": {
    "collapsed": true
   },
   "outputs": [],
   "source": [
    "spinecho = two.SpinEcho(delaysT2_coherence,target_freq_offset_coherence)"
   ]
  },
  {
   "cell_type": "code",
   "execution_count": 127,
   "metadata": {},
   "outputs": [
    {
     "name": "stdout",
     "output_type": "stream",
     "text": [
      "C:\\Users\\demouser\\Desktop\\Quantum\\data/calibrations/two-level/ rabi\n"
     ]
    },
    {
     "data": {
      "text/plain": [
       "OrderedDict([('iq_ex_00-1-01', 24631945.694401607),\n",
       "             ('amplutude', 1.0),\n",
       "             ('qubit_id', 2)])"
      ]
     },
     "execution_count": 127,
     "metadata": {},
     "output_type": "execute_result"
    }
   ],
   "source": [
    "qjson.load('two-level','rabi')"
   ]
  },
  {
   "cell_type": "code",
   "execution_count": 42,
   "metadata": {
    "collapsed": true
   },
   "outputs": [],
   "source": [
    "rabi_f,t2,t1,t2_echo=None,None,None,None"
   ]
  },
  {
   "cell_type": "code",
   "execution_count": 53,
   "metadata": {},
   "outputs": [
    {
     "data": {
      "application/vnd.jupyter.widget-view+json": {
       "model_id": "28062271a9124b62a29379ab391b09f5"
      }
     },
     "metadata": {},
     "output_type": "display_data"
    },
    {
     "name": "stdout",
     "output_type": "stream",
     "text": [
      "Started at:  Aug 05 2018 13:08:43\n"
     ]
    },
    {
     "name": "stderr",
     "output_type": "stream",
     "text": [
      "C:\\ProgramData\\Anaconda2\\envs\\py36\\lib\\site-packages\\numpy\\lib\\function_base.py:2006: RuntimeWarning: invalid value encountered in remainder\n",
      "  ddmod = mod(dd + pi, 2*pi) - pi\n",
      "C:\\ProgramData\\Anaconda2\\envs\\py36\\lib\\site-packages\\numpy\\lib\\function_base.py:2007: RuntimeWarning: invalid value encountered in greater\n",
      "  _nx.copyto(ddmod, pi, where=(ddmod == -pi) & (dd > 0))\n",
      "C:\\ProgramData\\Anaconda2\\envs\\py36\\lib\\site-packages\\numpy\\lib\\function_base.py:2009: RuntimeWarning: invalid value encountered in less\n",
      "  _nx.copyto(ph_correct, 0, where=abs(dd) < discont)\n"
     ]
    },
    {
     "name": "stdout",
     "output_type": "stream",
     "text": [
      "\n",
      "Elapsed time: 0 h 0 m 18.87 s\n"
     ]
    },
    {
     "data": {
      "text/plain": [
       "{'amplutude': 1.0, 'iq_ex_00-1-01': 24631945.694401607, 'qubit_id': 2}"
      ]
     },
     "execution_count": 53,
     "metadata": {},
     "output_type": "execute_result"
    }
   ],
   "source": [
    "rabi_f=tm.Rabi(ex_channels,ex_amplitude,rabi_lengths,ro_par, qubit_id=qubit_id)\n",
    "rabi_f"
   ]
  },
  {
   "cell_type": "code",
   "execution_count": 61,
   "metadata": {},
   "outputs": [
    {
     "data": {
      "text/plain": [
       "4250830000.0"
      ]
     },
     "execution_count": 61,
     "metadata": {},
     "output_type": "execute_result"
    }
   ],
   "source": [
    "iq_ex.carriers['00-1-01'].get_frequency()"
   ]
  },
  {
   "cell_type": "code",
   "execution_count": 54,
   "metadata": {},
   "outputs": [
    {
     "name": "stdout",
     "output_type": "stream",
     "text": [
      "C:\\Users\\demouser\\Desktop\\Quantum\\data/calibrations/two-level/ rabi\n"
     ]
    },
    {
     "data": {
      "text/plain": [
       "OrderedDict([('iq_ex_00-1-01', 24631945.694401607),\n",
       "             ('amplutude', 1.0),\n",
       "             ('qubit_id', 2)])"
      ]
     },
     "execution_count": 54,
     "metadata": {},
     "output_type": "execute_result"
    }
   ],
   "source": [
    "qjson.load(type='two-level',name = 'rabi')"
   ]
  },
  {
   "cell_type": "code",
   "execution_count": null,
   "metadata": {
    "collapsed": true
   },
   "outputs": [],
   "source": [
    "qjson.load(type='two-level',name = 'rabi')"
   ]
  },
  {
   "cell_type": "code",
   "execution_count": 264,
   "metadata": {},
   "outputs": [
    {
     "data": {
      "application/vnd.jupyter.widget-view+json": {
       "model_id": "e1cadba880634f1cbdf7ce06f0c6944f"
      }
     },
     "metadata": {},
     "output_type": "display_data"
    },
    {
     "name": "stdout",
     "output_type": "stream",
     "text": [
      "Started at:  Aug 04 2018 00:20:22\n",
      "\n",
      "Elapsed time: 0 h 5 m 33.79 s\n"
     ]
    },
    {
     "data": {
      "text/plain": [
       "([20040796.833774608], [2.9188384588154897e-06])"
      ]
     },
     "execution_count": 264,
     "metadata": {},
     "output_type": "execute_result"
    }
   ],
   "source": [
    "ramsey_f,t2 = tm.Ramsey(ex_channels,ex_amplitude,delaysT2,target_freq_offset,rabi_f,ro_par)\n",
    "ramsey_f,t2"
   ]
  },
  {
   "cell_type": "code",
   "execution_count": 265,
   "metadata": {},
   "outputs": [
    {
     "name": "stdout",
     "output_type": "stream",
     "text": [
      "Transition: 00-1-01, frequency : 4.25087e+09\n",
      "Has been correctly set\n"
     ]
    }
   ],
   "source": [
    "offset=[freq+target_freq_offset for freq in ramsey_f]\n",
    "qubit_freqs=[iq_ex.carriers[num.split(\"_\")[-1]].get_frequency() for num in ex_channels]\n",
    "for num,freq in enumerate(qubit_freqs):\n",
    "    print(\"Transition: {0}, frequency : {1:4.6g}\".format(ex_channels[num].split(\"_\")[-1],freq+offset[num]))\n",
    "    if abs(offset[num])<0.5e6:\n",
    "        print(\"Has been correctly set\")"
   ]
  },
  {
   "cell_type": "code",
   "execution_count": 266,
   "metadata": {},
   "outputs": [
    {
     "data": {
      "application/vnd.jupyter.widget-view+json": {
       "model_id": "ac05626366e9482ead574cbe8d6205df"
      }
     },
     "metadata": {},
     "output_type": "display_data"
    },
    {
     "name": "stdout",
     "output_type": "stream",
     "text": [
      "Started at:  Aug 04 2018 00:26:13\n",
      "\n",
      "Elapsed time: 0 h 5 m 38.01 s\n"
     ]
    },
    {
     "data": {
      "text/plain": [
       "([3026385.0833507152], [3.0735294534033142e-06])"
      ]
     },
     "execution_count": 266,
     "metadata": {},
     "output_type": "execute_result"
    }
   ],
   "source": [
    "_,t2 = tm.Ramsey(ex_channels,ex_amplitude,delaysT2_coherence,target_freq_offset_coherence,rabi_f,ro_par)\n",
    "_,t2"
   ]
  },
  {
   "cell_type": "code",
   "execution_count": 267,
   "metadata": {},
   "outputs": [
    {
     "data": {
      "application/vnd.jupyter.widget-view+json": {
       "model_id": "c0e78405c4664427ae33c6d39337b87e"
      }
     },
     "metadata": {},
     "output_type": "display_data"
    },
    {
     "name": "stdout",
     "output_type": "stream",
     "text": [
      "Started at:  Aug 04 2018 00:32:06\n",
      "\n",
      "Elapsed time: 0 h 5 m 13.58 s\n",
      "[7.0841054115822614e-06, 3.00667106412929, 11.382825714324557, 78.08390999972121, 87.78325429637911, -5.651952917535551, 10.39947297552097, 73.20209980911905, 22.57685421469607]\n"
     ]
    },
    {
     "data": {
      "text/plain": [
       "[2.7522970075386288e-06]"
      ]
     },
     "execution_count": 267,
     "metadata": {},
     "output_type": "execute_result"
    }
   ],
   "source": [
    "t1 = tm.T1(ex_channels,ex_amplitude,delaysT1,rabi_f,ro_par)\n",
    "t1"
   ]
  },
  {
   "cell_type": "code",
   "execution_count": 268,
   "metadata": {},
   "outputs": [
    {
     "data": {
      "application/vnd.jupyter.widget-view+json": {
       "model_id": "0cb7cdcf4fde4879b6bed7df841df717"
      }
     },
     "metadata": {},
     "output_type": "display_data"
    },
    {
     "name": "stdout",
     "output_type": "stream",
     "text": [
      "Started at:  Aug 04 2018 00:37:33\n",
      "\n",
      "Elapsed time: 0 h 5 m 12.22 s\n"
     ]
    }
   ],
   "source": [
    "spin_echo_f,t2_echo = tm.SpinEcho(ex_channels,ex_amplitude,delaysT2_coherence,target_freq_offset_coherence,rabi_f,ro_par)"
   ]
  },
  {
   "cell_type": "code",
   "execution_count": null,
   "metadata": {
    "collapsed": true
   },
   "outputs": [],
   "source": [
    "time_mes_params = {\"Transition\":ex_channels,\"Rabi\":rabi_f,\"T_2_ramsey\":t2,\"T_2_echo\":t2_echo,\"T_1\":t1}"
   ]
  },
  {
   "cell_type": "code",
   "execution_count": 37,
   "metadata": {},
   "outputs": [
    {
     "name": "stdout",
     "output_type": "stream",
     "text": [
      "['iq_ex_01-1-02']\n",
      "[18699878.984630775]\n"
     ]
    }
   ],
   "source": [
    "for name,value in time_mes_params.items():\n",
    "    if value:\n",
    "        print(time_mes_params[name])"
   ]
  },
  {
   "cell_type": "code",
   "execution_count": null,
   "metadata": {
    "collapsed": true
   },
   "outputs": [],
   "source": [
    "to_json.dump('time_domain',(time_mes_params,))"
   ]
  },
  {
   "cell_type": "markdown",
   "metadata": {},
   "source": [
    "## Readout fidelity maximization"
   ]
  },
  {
   "cell_type": "code",
   "execution_count": 2,
   "metadata": {
    "collapsed": true
   },
   "outputs": [],
   "source": [
    "#rabi_freq = 14.68e6\n",
    "#pi_pulse = 0.5/rabi_freq\n",
    "rabi_f=[19.9e6]"
   ]
  },
  {
   "cell_type": "code",
   "execution_count": 270,
   "metadata": {
    "collapsed": true
   },
   "outputs": [],
   "source": [
    "imp.reload(pulses)\n",
    "imp.reload(single_shot_readout)\n",
    "imp.reload(readout_classifier)\n",
    "imp.reload(tomography)\n",
    "from sklearn.svm import LinearSVC\n",
    "from sklearn.calibration import CalibratedClassifierCV"
   ]
  },
  {
   "cell_type": "code",
   "execution_count": 271,
   "metadata": {
    "collapsed": true
   },
   "outputs": [],
   "source": [
    "#ex_calib_seq = [pg.p('iq_ex', length, pg.gauss_hd, amp_x, 0, sigma), pg.p(None, pause_length)]*2\n",
    "ex_calib_seq = [[],\n",
    "                [pg.p('iq_ex_00-1-01', 0.5/rabi_f[0], pg.rect, 1.0)]]\n",
    "                #[pg.p('iq_ex_00-2-02', 0.5/rabi_f[1], pg.rect, 1.0)]]#, pg.p(None, pause_length)]\n",
    "ro_seq = [pg.p('ro_trg', trg_length, pg.rect, 1), \n",
    "          pg.p('iq_ro', ro_dac_length, pg.rect, ro_amplitude)]\n",
    "#clf = CalibratedClassifierCV(base_estimator=LinearSVC())\n",
    "clf=readout_classifier.linear_classifier(cov_mode='equal')\n",
    "adc_downsampler = data_reduce.data_reduce(adc)\n",
    "adc_downsampler.filters['Voltage'] = data_reduce.downsample_reducer(adc, 'Voltage', 1, iq_ro.get_if(), 16, iq_axis=-1)\n",
    "adc_sz = single_shot_readout.single_shot_readout(adc_downsampler, ex_calib_seq, ro_seq, pg, _readout_classifier = clf)\n",
    "#adc_sz = single_shot_readout.single_shot_readout(adc, ex_calib_seq, ro_seq, pg, _readout_classifier = clf)\n",
    "adc_sz.save_last_samples = True\n",
    "#adc_sz.dump_measured_samples = True\n",
    "#adc.set_software_nums_multi(1)\n",
    "adc_sz.repeat_samples = 3\n",
    "\n",
    "def target_min():\n",
    "    F = 1-adc_sz.measure()['Calibrated ROC AUC']\n",
    "    print ('fidelity: ', 1-F)\n",
    "    return F\n",
    "\n",
    "class ro_pulse_generator:\n",
    "    def __init__(self, adc_sz, ro_amplitude, ro_dac_length):\n",
    "        self.ro_amplitude = ro_amplitude\n",
    "        self.ro_dac_length = ro_dac_length\n",
    "        self.adc_sz = adc_sz\n",
    "    def set_ro_freq(self, ro_freq):\n",
    "        iq_ro.set_uncal_frequency(ro_freq)\n",
    "        self.make_ro_seq()\n",
    "    def set_paramp_pump_freq(self, pump_freq):\n",
    "        lo_amp.set_frequency(pump_freq)\n",
    "    def set_paramp_pump_power(self, pump_power):\n",
    "        lo_amp.set_power(pump_power)\n",
    "    def set_paramp_bias_current(self, paramp_bias):\n",
    "        current_src2.set_current(paramp_bias)\n",
    "    def make_ro_seq(self):\n",
    "        adc_sz.ro_seq = [pg.p('ro_trg', trg_length, pg.rect, 1), pg.p('iq_ro', self.ro_dac_length, pg.rect, self.ro_amplitude)]\n",
    "        \n",
    "    def set_ro_length(self, ro_dac_length):\n",
    "        self.ro_dac_length = ro_dac_length\n",
    "        self.make_ro_seq()\n",
    "        adc_sz.measurement_name = 'ro_dac_length {0}ns ro_dac_amiltude {1:4.2f}'.format(int(self.ro_dac_length*1e9), self.ro_amplitude)\n",
    "    def set_ro_amplitude(self, ro_amplitude):\n",
    "        self.ro_amplitude = ro_amplitude\n",
    "        self.make_ro_seq()\n",
    "        adc_sz.measurement_name = 'ro_dac_length {0}ns ro_dac_amiltude {1:4.2f}'.format(int(self.ro_dac_length*1e9), self.ro_amplitude)\n",
    "\n",
    "ro_dac_lengths = np.linspace(0.025e-6,0.3e-6,30)\n",
    "ro_dac_amplitudes = np.linspace(0.02,0.3,30)\n",
    "\n",
    "ro_pulse_generator_inst = ro_pulse_generator(adc_sz, ro_amplitude, ro_dac_length)"
   ]
  },
  {
   "cell_type": "code",
   "execution_count": 272,
   "metadata": {
    "collapsed": true
   },
   "outputs": [],
   "source": [
    "ro_pulse_generator_inst.set_ro_length(0.06e-6)\n",
    "ro_pulse_generator_inst.set_ro_amplitude(0.2)"
   ]
  },
  {
   "cell_type": "code",
   "execution_count": 72,
   "metadata": {},
   "outputs": [
    {
     "data": {
      "text/plain": [
       "<matplotlib.legend.Legend at 0xfa95710>"
      ]
     },
     "execution_count": 72,
     "metadata": {},
     "output_type": "execute_result"
    }
   ],
   "source": [
    "plt.figure('Averaged samples')\n",
    "for _class_id in adc_sz.readout_classifier.class_averages.keys():\n",
    "    plt.plot(np.real(adc_sz.readout_classifier.class_averages[_class_id]), label='Re cls #'+str(_class_id))\n",
    "    plt.plot(np.imag(adc_sz.readout_classifier.class_averages[_class_id]), label='Im cls #'+str(_class_id))\n",
    "plt.legend()"
   ]
  },
  {
   "cell_type": "code",
   "execution_count": 164,
   "metadata": {},
   "outputs": [
    {
     "data": {
      "text/plain": [
       "(1.99920668157356e-09+0j)"
      ]
     },
     "execution_count": 164,
     "metadata": {},
     "output_type": "execute_result"
    }
   ],
   "source": [
    "adc_sz.readout_classifier.cov_inv"
   ]
  },
  {
   "cell_type": "code",
   "execution_count": 199,
   "metadata": {},
   "outputs": [
    {
     "data": {
      "text/plain": [
       "array([[ 0.00700183,  0.01098182,  0.01180221, ...,  0.00699728,\n",
       "         0.00893301,  0.01233556],\n",
       "       [ 0.00693094,  0.01123003,  0.01185499, ...,  0.00700142,\n",
       "         0.00902294,  0.01243899],\n",
       "       [ 0.00775351,  0.01124018,  0.0124809 , ...,  0.01026286,\n",
       "         0.00888636,  0.01473866]])"
      ]
     },
     "execution_count": 199,
     "metadata": {},
     "output_type": "execute_result"
    }
   ],
   "source": [
    "predictions = np.asarray(adc_sz.readout_classifier.dimreduce(adc_sz.calib_X))\n",
    "predictions\n",
    "#predictions = np.asarray(predictions - predictions[-1, :])[:-1, :]"
   ]
  },
  {
   "cell_type": "code",
   "execution_count": 166,
   "metadata": {},
   "outputs": [
    {
     "data": {
      "text/plain": [
       "<matplotlib.legend.Legend at 0x437442b0>"
      ]
     },
     "execution_count": 166,
     "metadata": {},
     "output_type": "execute_result"
    }
   ],
   "source": [
    "plt.figure('Features')\n",
    "for _class_id in adc_sz.readout_classifier.class_averages.keys():\n",
    "    plt.plot(np.real(adc_sz.readout_classifier.class_features[_class_id]), label='Re cls #'+str(_class_id))\n",
    "    plt.plot(np.imag(adc_sz.readout_classifier.class_features[_class_id]), label='Im cls #'+str(_class_id))\n",
    "plt.legend()"
   ]
  },
  {
   "cell_type": "code",
   "execution_count": 167,
   "metadata": {
    "collapsed": true
   },
   "outputs": [],
   "source": [
    "features = [adc_sz.readout_classifier.class_features[_class_id] for _class_id in [0,1,2]]"
   ]
  },
  {
   "cell_type": "code",
   "execution_count": 168,
   "metadata": {},
   "outputs": [
    {
     "data": {
      "text/plain": [
       "(array([[  1.50202876e-11,   1.49582377e-11,   1.19099910e-11],\n",
       "        [  1.49582377e-11,   1.70092715e-11,   1.48652421e-11],\n",
       "        [  1.19099910e-11,   1.48652421e-11,   1.55919074e-11]]),\n",
       " array([  3.87560158e-06,   4.12422981e-06,   3.94865894e-06]),\n",
       " array([[ 1.        ,  0.9358332 ,  0.77825637],\n",
       "        [ 0.9358332 ,  1.        ,  0.91280815],\n",
       "        [ 0.77825637,  0.91280815,  1.        ]]))"
      ]
     },
     "execution_count": 168,
     "metadata": {},
     "output_type": "execute_result"
    }
   ],
   "source": [
    "feature_similarity = np.real(np.dot(features, np.conj(features).T))\n",
    "feature_abs = np.sqrt([np.sum(np.abs(adc_sz.readout_classifier.class_features[_class_id])**2) for _class_id in [0,1,2]])\n",
    "feature_cosine_dist = feature_similarity/(np.reshape(feature_abs, (1, 3))*np.reshape(feature_abs, (3,1)))\n",
    "feature_similarity, feature_abs, feature_cosine_dist"
   ]
  },
  {
   "cell_type": "code",
   "execution_count": 169,
   "metadata": {},
   "outputs": [
    {
     "data": {
      "text/plain": [
       "<matplotlib.legend.Legend at 0x3f76d208>"
      ]
     },
     "execution_count": 169,
     "metadata": {},
     "output_type": "execute_result"
    }
   ],
   "source": [
    "plt.figure('Feature diff')\n",
    "for _class_id in [0,1]:\n",
    "    plt.plot(np.real(adc_sz.readout_classifier.class_features[_class_id]-adc_sz.readout_classifier.class_features[2]), label='Re cls #'+str(_class_id))\n",
    "    plt.plot(np.imag(adc_sz.readout_classifier.class_features[_class_id]-adc_sz.readout_classifier.class_features[2]), label='Im cls #'+str(_class_id))\n",
    "plt.legend()"
   ]
  },
  {
   "cell_type": "code",
   "execution_count": 171,
   "metadata": {},
   "outputs": [
    {
     "data": {
      "text/plain": [
       "(array([[  0.00000000e+00,   0.00000000e+00,   0.00000000e+00,\n",
       "           0.00000000e+00,   0.00000000e+00,   0.00000000e+00,\n",
       "           0.00000000e+00,   0.00000000e+00,   0.00000000e+00,\n",
       "           0.00000000e+00,   1.00000000e+00,   0.00000000e+00,\n",
       "           1.00000000e+00,   1.00000000e+00,   0.00000000e+00,\n",
       "           0.00000000e+00,   0.00000000e+00,   0.00000000e+00,\n",
       "           0.00000000e+00,   0.00000000e+00],\n",
       "        [  0.00000000e+00,   0.00000000e+00,   0.00000000e+00,\n",
       "           0.00000000e+00,   0.00000000e+00,   0.00000000e+00,\n",
       "           0.00000000e+00,   0.00000000e+00,   0.00000000e+00,\n",
       "           1.00000000e+00,   0.00000000e+00,   2.00000000e+00,\n",
       "           1.00000000e+00,   2.00000000e+00,   0.00000000e+00,\n",
       "           1.00000000e+00,   0.00000000e+00,   0.00000000e+00,\n",
       "           0.00000000e+00,   0.00000000e+00],\n",
       "        [  0.00000000e+00,   0.00000000e+00,   0.00000000e+00,\n",
       "           0.00000000e+00,   0.00000000e+00,   1.00000000e+00,\n",
       "           0.00000000e+00,   0.00000000e+00,   1.00000000e+00,\n",
       "           0.00000000e+00,   4.00000000e+00,   4.00000000e+00,\n",
       "           3.00000000e+00,   8.00000000e+00,   7.00000000e+00,\n",
       "           3.00000000e+00,   4.00000000e+00,   3.00000000e+00,\n",
       "           0.00000000e+00,   0.00000000e+00],\n",
       "        [  0.00000000e+00,   0.00000000e+00,   0.00000000e+00,\n",
       "           0.00000000e+00,   0.00000000e+00,   0.00000000e+00,\n",
       "           1.00000000e+00,   2.00000000e+00,   7.00000000e+00,\n",
       "           1.00000000e+01,   1.70000000e+01,   1.80000000e+01,\n",
       "           1.70000000e+01,   2.70000000e+01,   2.30000000e+01,\n",
       "           1.00000000e+01,   4.00000000e+00,   0.00000000e+00,\n",
       "           5.00000000e+00,   0.00000000e+00],\n",
       "        [  0.00000000e+00,   0.00000000e+00,   0.00000000e+00,\n",
       "           0.00000000e+00,   0.00000000e+00,   2.00000000e+00,\n",
       "           7.00000000e+00,   1.60000000e+01,   2.10000000e+01,\n",
       "           4.80000000e+01,   6.40000000e+01,   7.10000000e+01,\n",
       "           8.30000000e+01,   7.10000000e+01,   5.30000000e+01,\n",
       "           3.90000000e+01,   1.40000000e+01,   0.00000000e+00,\n",
       "           1.00000000e+00,   0.00000000e+00],\n",
       "        [  0.00000000e+00,   0.00000000e+00,   0.00000000e+00,\n",
       "           1.00000000e+00,   2.00000000e+00,   6.00000000e+00,\n",
       "           1.90000000e+01,   3.50000000e+01,   9.40000000e+01,\n",
       "           1.21000000e+02,   1.98000000e+02,   1.98000000e+02,\n",
       "           2.22000000e+02,   1.80000000e+02,   1.23000000e+02,\n",
       "           7.10000000e+01,   2.90000000e+01,   1.00000000e+01,\n",
       "           2.00000000e+00,   1.00000000e+00],\n",
       "        [  0.00000000e+00,   1.00000000e+00,   0.00000000e+00,\n",
       "           4.00000000e+00,   9.00000000e+00,   1.90000000e+01,\n",
       "           6.10000000e+01,   1.39000000e+02,   2.36000000e+02,\n",
       "           3.73000000e+02,   4.43000000e+02,   5.31000000e+02,\n",
       "           4.68000000e+02,   3.54000000e+02,   2.48000000e+02,\n",
       "           1.27000000e+02,   4.60000000e+01,   1.80000000e+01,\n",
       "           2.00000000e+00,   1.00000000e+00],\n",
       "        [  0.00000000e+00,   1.00000000e+00,   7.00000000e+00,\n",
       "           6.00000000e+00,   3.90000000e+01,   9.00000000e+01,\n",
       "           1.43000000e+02,   3.36000000e+02,   5.37000000e+02,\n",
       "           8.21000000e+02,   9.80000000e+02,   9.86000000e+02,\n",
       "           8.38000000e+02,   6.53000000e+02,   3.46000000e+02,\n",
       "           1.82000000e+02,   7.10000000e+01,   1.40000000e+01,\n",
       "           1.10000000e+01,   0.00000000e+00],\n",
       "        [  1.00000000e+00,   1.00000000e+00,   4.00000000e+00,\n",
       "           1.30000000e+01,   6.50000000e+01,   1.72000000e+02,\n",
       "           3.55000000e+02,   7.39000000e+02,   1.14500000e+03,\n",
       "           1.47600000e+03,   1.62000000e+03,   1.53300000e+03,\n",
       "           1.21300000e+03,   8.03000000e+02,   4.53000000e+02,\n",
       "           2.11000000e+02,   6.50000000e+01,   1.90000000e+01,\n",
       "           4.00000000e+00,   0.00000000e+00],\n",
       "        [  1.00000000e+00,   0.00000000e+00,   7.00000000e+00,\n",
       "           4.00000000e+01,   1.17000000e+02,   3.32000000e+02,\n",
       "           6.30000000e+02,   1.11700000e+03,   1.75100000e+03,\n",
       "           2.23100000e+03,   2.28800000e+03,   1.96100000e+03,\n",
       "           1.43400000e+03,   8.77000000e+02,   4.41000000e+02,\n",
       "           1.86000000e+02,   5.70000000e+01,   9.00000000e+00,\n",
       "           2.00000000e+00,   0.00000000e+00],\n",
       "        [  0.00000000e+00,   3.00000000e+00,   1.80000000e+01,\n",
       "           6.50000000e+01,   1.90000000e+02,   4.50000000e+02,\n",
       "           9.87000000e+02,   1.62700000e+03,   2.18600000e+03,\n",
       "           2.53100000e+03,   2.45400000e+03,   1.96800000e+03,\n",
       "           1.32500000e+03,   6.94000000e+02,   3.43000000e+02,\n",
       "           1.03000000e+02,   4.20000000e+01,   8.00000000e+00,\n",
       "           3.00000000e+00,   0.00000000e+00],\n",
       "        [  0.00000000e+00,   4.00000000e+00,   4.10000000e+01,\n",
       "           1.03000000e+02,   2.35000000e+02,   5.71000000e+02,\n",
       "           1.14700000e+03,   1.77700000e+03,   2.27400000e+03,\n",
       "           2.50100000e+03,   2.15300000e+03,   1.76100000e+03,\n",
       "           1.00500000e+03,   5.42000000e+02,   2.11000000e+02,\n",
       "           7.40000000e+01,   2.10000000e+01,   2.00000000e+00,\n",
       "           0.00000000e+00,   0.00000000e+00],\n",
       "        [  1.00000000e+00,   5.00000000e+00,   4.00000000e+01,\n",
       "           8.90000000e+01,   2.87000000e+02,   5.75000000e+02,\n",
       "           1.07400000e+03,   1.60000000e+03,   1.93300000e+03,\n",
       "           1.90900000e+03,   1.63700000e+03,   1.16800000e+03,\n",
       "           6.37000000e+02,   2.98000000e+02,   1.28000000e+02,\n",
       "           3.70000000e+01,   1.30000000e+01,   0.00000000e+00,\n",
       "           0.00000000e+00,   0.00000000e+00],\n",
       "        [  1.00000000e+00,   8.00000000e+00,   3.10000000e+01,\n",
       "           1.16000000e+02,   2.21000000e+02,   4.77000000e+02,\n",
       "           8.55000000e+02,   1.08700000e+03,   1.31900000e+03,\n",
       "           1.23000000e+03,   9.74000000e+02,   6.32000000e+02,\n",
       "           3.40000000e+02,   1.47000000e+02,   6.80000000e+01,\n",
       "           1.40000000e+01,   2.00000000e+00,   1.00000000e+00,\n",
       "           0.00000000e+00,   0.00000000e+00],\n",
       "        [  1.00000000e+00,   1.10000000e+01,   3.70000000e+01,\n",
       "           8.80000000e+01,   1.93000000e+02,   3.22000000e+02,\n",
       "           5.04000000e+02,   6.75000000e+02,   6.80000000e+02,\n",
       "           6.89000000e+02,   5.14000000e+02,   2.85000000e+02,\n",
       "           1.28000000e+02,   5.40000000e+01,   2.20000000e+01,\n",
       "           3.00000000e+00,   0.00000000e+00,   0.00000000e+00,\n",
       "           0.00000000e+00,   0.00000000e+00],\n",
       "        [  1.00000000e+00,   7.00000000e+00,   1.50000000e+01,\n",
       "           4.20000000e+01,   1.07000000e+02,   1.92000000e+02,\n",
       "           2.75000000e+02,   3.23000000e+02,   3.20000000e+02,\n",
       "           2.97000000e+02,   1.83000000e+02,   9.60000000e+01,\n",
       "           5.70000000e+01,   1.30000000e+01,   4.00000000e+00,\n",
       "           0.00000000e+00,   0.00000000e+00,   0.00000000e+00,\n",
       "           0.00000000e+00,   0.00000000e+00],\n",
       "        [  2.00000000e+00,   4.00000000e+00,   9.00000000e+00,\n",
       "           2.10000000e+01,   4.80000000e+01,   7.10000000e+01,\n",
       "           1.03000000e+02,   1.22000000e+02,   1.15000000e+02,\n",
       "           9.40000000e+01,   5.70000000e+01,   3.90000000e+01,\n",
       "           1.10000000e+01,   3.00000000e+00,   0.00000000e+00,\n",
       "           0.00000000e+00,   0.00000000e+00,   0.00000000e+00,\n",
       "           0.00000000e+00,   0.00000000e+00],\n",
       "        [  0.00000000e+00,   1.00000000e+00,   5.00000000e+00,\n",
       "           1.10000000e+01,   9.00000000e+00,   3.30000000e+01,\n",
       "           3.30000000e+01,   4.30000000e+01,   3.30000000e+01,\n",
       "           1.70000000e+01,   1.40000000e+01,   1.00000000e+01,\n",
       "           2.00000000e+00,   0.00000000e+00,   0.00000000e+00,\n",
       "           0.00000000e+00,   0.00000000e+00,   0.00000000e+00,\n",
       "           0.00000000e+00,   0.00000000e+00],\n",
       "        [  0.00000000e+00,   0.00000000e+00,   3.00000000e+00,\n",
       "           3.00000000e+00,   7.00000000e+00,   9.00000000e+00,\n",
       "           1.40000000e+01,   9.00000000e+00,   7.00000000e+00,\n",
       "           4.00000000e+00,   3.00000000e+00,   1.00000000e+00,\n",
       "           0.00000000e+00,   0.00000000e+00,   0.00000000e+00,\n",
       "           0.00000000e+00,   0.00000000e+00,   0.00000000e+00,\n",
       "           0.00000000e+00,   0.00000000e+00],\n",
       "        [  0.00000000e+00,   0.00000000e+00,   1.00000000e+00,\n",
       "           1.00000000e+00,   0.00000000e+00,   4.00000000e+00,\n",
       "           2.00000000e+00,   3.00000000e+00,   1.00000000e+00,\n",
       "           0.00000000e+00,   1.00000000e+00,   1.00000000e+00,\n",
       "           0.00000000e+00,   0.00000000e+00,   0.00000000e+00,\n",
       "           0.00000000e+00,   0.00000000e+00,   0.00000000e+00,\n",
       "           0.00000000e+00,   0.00000000e+00]]),\n",
       " array([ -3.02079911e-03,  -2.68960459e-03,  -2.35841008e-03,\n",
       "         -2.02721557e-03,  -1.69602106e-03,  -1.36482655e-03,\n",
       "         -1.03363204e-03,  -7.02437525e-04,  -3.71243013e-04,\n",
       "         -4.00485018e-05,   2.91146010e-04,   6.22340521e-04,\n",
       "          9.53535033e-04,   1.28472954e-03,   1.61592406e-03,\n",
       "          1.94711857e-03,   2.27831308e-03,   2.60950759e-03,\n",
       "          2.94070210e-03,   3.27189661e-03,   3.60309112e-03]),\n",
       " array([ -8.17937111e-03,  -7.36426103e-03,  -6.54915095e-03,\n",
       "         -5.73404087e-03,  -4.91893079e-03,  -4.10382071e-03,\n",
       "         -3.28871063e-03,  -2.47360055e-03,  -1.65849047e-03,\n",
       "         -8.43380390e-04,  -2.82703098e-05,   7.86839771e-04,\n",
       "          1.60194985e-03,   2.41705993e-03,   3.23217001e-03,\n",
       "          4.04728009e-03,   4.86239017e-03,   5.67750025e-03,\n",
       "          6.49261033e-03,   7.30772041e-03,   8.12283049e-03]),\n",
       " <matplotlib.image.AxesImage at 0x119c7ac8>)"
      ]
     },
     "execution_count": 171,
     "metadata": {},
     "output_type": "execute_result"
    }
   ],
   "source": [
    "plt.figure()\n",
    "plt.hist2d(*tuple(np.asarray(predictions - np.mean(predictions, axis=0))[1:, :].tolist()), bins=20)"
   ]
  },
  {
   "cell_type": "code",
   "execution_count": 308,
   "metadata": {},
   "outputs": [
    {
     "name": "stdout",
     "output_type": "stream",
     "text": [
      "(20, 20) (2, 277) (2, 123) (277,)\n"
     ]
    }
   ],
   "source": [
    "adc_sz.readout_classifier.naive_bayes(adc_sz.calib_X, adc_sz.calib_y)"
   ]
  },
  {
   "cell_type": "code",
   "execution_count": 311,
   "metadata": {},
   "outputs": [
    {
     "data": {
      "text/plain": [
       "<matplotlib.colorbar.Colorbar at 0x106eb0b8>"
      ]
     },
     "execution_count": 311,
     "metadata": {},
     "output_type": "execute_result"
    }
   ],
   "source": [
    "plt.figure(0)\n",
    "plt.pcolormesh(adc_sz.readout_classifier.probabilities[0,:])\n",
    "plt.colorbar()\n",
    "plt.figure(1)\n",
    "plt.pcolormesh(adc_sz.readout_classifier.probabilities[1,:])\n",
    "plt.colorbar()\n",
    "plt.figure(2)\n",
    "plt.pcolormesh(adc_sz.readout_classifier.probabilities[2,:])\n",
    "plt.colorbar()"
   ]
  },
  {
   "cell_type": "code",
   "execution_count": 61,
   "metadata": {},
   "outputs": [
    {
     "data": {
      "text/plain": [
       "<module 'qsweepy.sweep' from 'C:\\\\Users\\\\demouser\\\\Desktop\\\\Quantum\\\\qsweepy\\\\sweep.py'>"
      ]
     },
     "execution_count": 61,
     "metadata": {},
     "output_type": "execute_result"
    }
   ],
   "source": [
    "imp.reload(sweep)"
   ]
  },
  {
   "cell_type": "code",
   "execution_count": 179,
   "metadata": {
    "scrolled": true
   },
   "outputs": [
    {
     "name": "stdout",
     "output_type": "stream",
     "text": [
      "\n"
     ]
    },
    {
     "data": {
      "application/vnd.jupyter.widget-view+json": {
       "model_id": "257b0b62338d48db8da2ae1bcc54d3f5"
      }
     },
     "metadata": {},
     "output_type": "display_data"
    },
    {
     "name": "stdout",
     "output_type": "stream",
     "text": [
      "Started at:  Jul 28 2018 01:34:24\n",
      "predict clled, returned shape: (30000,)\n",
      "[[ 0.33485815  0.33289105  0.33225081]\n",
      " [ 0.33358589  0.33334573  0.33306838]\n",
      " [ 0.33308886  0.33351189  0.33339925]]\n",
      "predict clled, returned shape: (60000,)\n",
      "[[ 0.33741261  0.33159197  0.33099542]\n",
      " [ 0.33159197  0.33596389  0.33244414]\n",
      " [ 0.33099542  0.33244414  0.33656044]]\n",
      "predict clled, returned shape: (30000,)\n",
      "[[ 0.33332552  0.33299384  0.33368063]\n",
      " [ 0.332924    0.333634    0.33344201]\n",
      " [ 0.33331988  0.33271864  0.33396148]]\n",
      "predict clled, returned shape: (60000,)\n",
      "[[ 0.33633654  0.3317837   0.33187977]\n",
      " [ 0.3317837   0.33608317  0.33213313]\n",
      " [ 0.33187977  0.33213313  0.3359871 ]]\n",
      "predict clled, returned shape: (30000,)\n",
      "[[ 0.33338466  0.3334784   0.33313695]\n",
      " [ 0.33321439  0.33329072  0.3334949 ]\n",
      " [ 0.33306325  0.33282875  0.334108  ]]\n",
      "predict clled, returned shape: (60000,)\n",
      "[[ 0.33644567  0.3324405   0.33111384]\n",
      " [ 0.3324405   0.33548214  0.33207737]\n",
      " [ 0.33111384  0.33207737  0.3368088 ]]\n",
      "predict clled, returned shape: (30000,)\n",
      "[[ 0.34031801  0.33341849  0.3262635 ]\n",
      " [ 0.33266894  0.33408645  0.33324461]\n",
      " [ 0.32681294  0.33294982  0.34023724]]\n",
      "predict clled, returned shape: (60000,)\n",
      "[[ 0.34330623  0.332203    0.32449077]\n",
      " [ 0.332203    0.33617141  0.33162559]\n",
      " [ 0.32449077  0.33162559  0.34388364]]\n",
      "predict clled, returned shape: (30000,)\n",
      "[[ 0.33677352  0.33300959  0.33021689]\n",
      " [ 0.33250777  0.33337259  0.33411964]\n",
      " [ 0.32966933  0.33413766  0.33619301]]\n",
      "predict clled, returned shape: (60000,)\n",
      "[[ 0.33901321  0.3318505   0.32913629]\n",
      " [ 0.3318505   0.33558035  0.33256915]\n",
      " [ 0.32913629  0.33256915  0.33829455]]\n",
      "predict clled, returned shape: (30000,)\n",
      "[[ 0.33626496  0.3337421   0.32999294]\n",
      " [ 0.33357241  0.33331687  0.33311072]\n",
      " [ 0.33107161  0.33209297  0.33683543]]\n",
      "predict clled, returned shape: (60000,)\n",
      "[[ 0.33865854  0.33231679  0.32902468]\n",
      " [ 0.33231679  0.33639612  0.33128709]\n",
      " [ 0.32902468  0.33128709  0.33968823]]\n",
      "predict clled, returned shape: (30000,)\n",
      "[[ 0.3349066   0.33335586  0.33173754]\n",
      " [ 0.33375459  0.33345914  0.33278627]\n",
      " [ 0.33202239  0.33333693  0.33464068]]\n",
      "predict clled, returned shape: (60000,)\n",
      "[[ 0.33752511  0.33229325  0.33018164]\n",
      " [ 0.33229325  0.33567066  0.33203609]\n",
      " [ 0.33018164  0.33203609  0.33778226]]\n",
      "predict clled, returned shape: (30000,)\n",
      "[[ 0.33509572  0.33279837  0.33210591]\n",
      " [ 0.33338632  0.33336604  0.33324764]\n",
      " [ 0.3320286   0.33365833  0.33431307]]\n",
      "predict clled, returned shape: (60000,)\n",
      "[[ 0.33671058  0.33185334  0.33143608]\n",
      " [ 0.33185334  0.33601971  0.33212695]\n",
      " [ 0.33143608  0.33212695  0.33643697]]\n",
      "predict clled, returned shape: (30000,)\n",
      "[[ 0.34173636  0.33305432  0.32520931]\n",
      " [ 0.33242778  0.33322318  0.33434903]\n",
      " [ 0.32563725  0.33302175  0.34134099]]\n",
      "predict clled, returned shape: (60000,)\n",
      "[[ 0.34387098  0.33165259  0.32447643]\n",
      " [ 0.33165259  0.33602462  0.33232279]\n",
      " [ 0.32447643  0.33232279  0.34320077]]\n",
      "predict clled, returned shape: (30000,)\n",
      "[[ 0.3348587   0.33262002  0.33252128]\n",
      " [ 0.33312555  0.33322675  0.3336477 ]\n",
      " [ 0.33229246  0.3330498   0.33465774]]\n",
      "predict clled, returned shape: (60000,)\n",
      "[[ 0.33661328  0.33173069  0.33165603]\n",
      " [ 0.33173069  0.33593798  0.33233133]\n",
      " [ 0.33165603  0.33233133  0.33601264]]\n",
      "predict clled, returned shape: (30000,)\n",
      "[[ 0.33418048  0.33305688  0.33276264]\n",
      " [ 0.3334999   0.33364856  0.33285154]\n",
      " [ 0.33243342  0.3336874   0.33387919]]\n",
      "predict clled, returned shape: (60000,)\n",
      "[[ 0.33647463  0.3320987   0.33142667]\n",
      " [ 0.3320987   0.33610613  0.33179517]\n",
      " [ 0.33142667  0.33179517  0.33677817]]\n",
      "predict clled, returned shape: (30000,)\n",
      "[[ 0.33356553  0.33401041  0.33242406]\n",
      " [ 0.33268389  0.33447647  0.33283963]\n",
      " [ 0.33270798  0.33377831  0.33351371]]\n",
      "predict clled, returned shape: (60000,)\n",
      "[[ 0.33635514  0.33233348  0.33131138]\n",
      " [ 0.33233348  0.33631524  0.33135128]\n",
      " [ 0.33131138  0.33135128  0.33733733]]\n",
      "predict clled, returned shape: (30000,)\n",
      "[[ 0.34163507  0.33428059  0.32408433]\n",
      " [ 0.33433484  0.33387075  0.33179441]\n",
      " [ 0.32346702  0.33160486  0.34492813]]\n",
      "predict clled, returned shape: (60000,)\n",
      "[[ 0.34415265  0.33255448  0.32329287]\n",
      " [ 0.33255448  0.33669587  0.33074965]\n",
      " [ 0.32329287  0.33074965  0.34595748]]\n",
      "predict clled, returned shape: (30000,)\n",
      "[[ 0.36818572  0.33415094  0.29766334]\n",
      " [ 0.33374819  0.33672973  0.32952208]\n",
      " [ 0.29783149  0.33049269  0.37167582]]\n",
      "predict clled, returned shape: (60000,)\n",
      "[[ 0.37078995  0.3320502   0.29715985]\n",
      " [ 0.3320502   0.34011091  0.32783888]\n",
      " [ 0.29715985  0.32783888  0.37500127]]\n",
      "predict clled, returned shape: (30000,)\n",
      "[[ 0.35425508  0.33350662  0.3122383 ]\n",
      " [ 0.33495978  0.33374302  0.3312972 ]\n",
      " [ 0.31287359  0.33302026  0.35410614]]\n",
      "predict clled, returned shape: (60000,)\n",
      "[[ 0.35618508  0.3323405   0.31147442]\n",
      " [ 0.3323405   0.33671809  0.33094141]\n",
      " [ 0.31147442  0.33094141  0.35758417]]\n",
      "predict clled, returned shape: (30000,)\n",
      "[[ 0.33911831  0.33151826  0.32936343]\n",
      " [ 0.33159773  0.33446498  0.33393728]\n",
      " [ 0.33000664  0.3340955   0.33589786]]\n",
      "predict clled, returned shape: (60000,)\n",
      "[[ 0.34105249  0.33075113  0.32819638]\n",
      " [ 0.33075113  0.33609553  0.33315335]\n",
      " [ 0.32819638  0.33315335  0.33865027]]\n",
      "predict clled, returned shape: (30000,)\n",
      "[[ 0.35190992  0.33453044  0.31355964]\n",
      " [ 0.33311232  0.3341661   0.33272159]\n",
      " [ 0.31485513  0.33220379  0.35294108]]\n",
      "predict clled, returned shape: (60000,)\n",
      "[[ 0.35642021  0.3324692   0.31111059]\n",
      " [ 0.3324692   0.33703578  0.33049502]\n",
      " [ 0.31111059  0.33049502  0.35839438]]\n",
      "predict clled, returned shape: (30000,)\n",
      "[[ 0.345183    0.33567431  0.31914269]\n",
      " [ 0.33339286  0.33495183  0.3316553 ]\n",
      " [ 0.31954592  0.32839338  0.35206069]]\n",
      "predict clled, returned shape: (60000,)\n",
      "[[ 0.34682329  0.33396455  0.31921216]\n",
      " [ 0.33396455  0.33830376  0.32773169]\n",
      " [ 0.31921216  0.32773169  0.35305615]]\n",
      "predict clled, returned shape: (30000,)\n",
      "[[ 0.35490381  0.33217718  0.31291902]\n",
      " [ 0.33368209  0.33456801  0.33174991]\n",
      " [ 0.31721915  0.33367865  0.34910219]]\n",
      "predict clled, returned shape: (60000,)\n",
      "[[ 0.35594413  0.33088567  0.3131702 ]\n",
      " [ 0.33088567  0.33714676  0.33196758]\n",
      " [ 0.3131702   0.33196758  0.35486222]]\n",
      "predict clled, returned shape: (30000,)\n",
      "[[ 0.34414988  0.33206408  0.32378604]\n",
      " [ 0.33147368  0.3345484   0.33397791]\n",
      " [ 0.32288017  0.33468838  0.34243145]]\n",
      "predict clled, returned shape: (60000,)\n",
      "[[ 0.34779497  0.33051397  0.32169105]\n",
      " [ 0.33051397  0.33650618  0.33297985]\n",
      " [ 0.32169105  0.33297985  0.3453291 ]]\n",
      "predict clled, returned shape: (30000,)\n",
      "[[ 0.36594779  0.33348931  0.3005629 ]\n",
      " [ 0.33118385  0.33575023  0.33306591]\n",
      " [ 0.29937632  0.33123327  0.36939041]]\n",
      "predict clled, returned shape: (60000,)\n",
      "[[ 0.36814725  0.33188895  0.2999638 ]\n",
      " [ 0.33188895  0.33871036  0.32940069]\n",
      " [ 0.2999638   0.32940069  0.3706355 ]]\n",
      "predict clled, returned shape: (30000,)\n",
      "[[ 0.36751582  0.33472721  0.29775698]\n",
      " [ 0.33319651  0.34344021  0.32336328]\n",
      " [ 0.29590782  0.32050363  0.38358854]]\n",
      "predict clled, returned shape: (60000,)\n",
      "[[ 0.37102248  0.33359154  0.29538599]\n",
      " [ 0.33359154  0.34668139  0.31972707]\n",
      " [ 0.29538599  0.31972707  0.38488694]]\n",
      "predict clled, returned shape: (30000,)\n",
      "[[ 0.37704374  0.33417996  0.2887763 ]\n",
      " [ 0.33501512  0.33975679  0.32522809]\n",
      " [ 0.28873558  0.32558955  0.38567487]]\n",
      "predict clled, returned shape: (60000,)\n",
      "[[ 0.38039344  0.33260102  0.28700554]\n",
      " [ 0.33260102  0.3417749   0.32562408]\n",
      " [ 0.28700554  0.32562408  0.38737038]]\n",
      "predict clled, returned shape: (30000,)\n",
      "[[ 0.35369474  0.33305408  0.31325118]\n",
      " [ 0.33158841  0.33515879  0.3332528 ]\n",
      " [ 0.31322556  0.33286674  0.35390771]]\n",
      "predict clled, returned shape: (60000,)\n",
      "[[ 0.35745844  0.33151407  0.31102749]\n",
      " [ 0.33151407  0.33761396  0.33087197]\n",
      " [ 0.31102749  0.33087197  0.35810054]]\n",
      "predict clled, returned shape: (30000,)\n",
      "[[ 0.37087022  0.33877367  0.29035611]\n",
      " [ 0.33618682  0.34169784  0.32211534]\n",
      " [ 0.29076682  0.31915699  0.39007619]]\n",
      "predict clled, returned shape: (60000,)\n",
      "[[ 0.37250662  0.33678683  0.29070655]\n",
      " [ 0.33678683  0.34494792  0.31826524]\n",
      " [ 0.29070655  0.31826524  0.39102821]]\n",
      "predict clled, returned shape: (30000,)\n",
      "[[ 0.35259406  0.33521897  0.31218697]\n",
      " [ 0.33688724  0.3354967   0.32761606]\n",
      " [ 0.31305587  0.33030296  0.35664116]]\n",
      "predict clled, returned shape: (60000,)\n",
      "[[ 0.35414006  0.33422495  0.31163499]\n",
      " [ 0.33422495  0.33703669  0.32873835]\n",
      " [ 0.31163499  0.32873835  0.35962666]]\n",
      "predict clled, returned shape: (30000,)\n",
      "[[ 0.33616656  0.33454405  0.32928939]\n",
      " [ 0.33420796  0.33284558  0.33294646]\n",
      " [ 0.32928269  0.33238154  0.33833578]]\n",
      "predict clled, returned shape: (60000,)\n",
      "[[ 0.33885258  0.33260168  0.32854574]\n",
      " [ 0.33260168  0.33643344  0.33096488]\n",
      " [ 0.32854574  0.33096488  0.34048938]]\n",
      "predict clled, returned shape: (30000,)\n",
      "[[ 0.35284607  0.33784134  0.3093126 ]\n",
      " [ 0.33696691  0.33918888  0.32384421]\n",
      " [ 0.31063205  0.32329408  0.36607387]]\n",
      "predict clled, returned shape: (60000,)\n",
      "[[ 0.35550805  0.3361745   0.30831745]\n",
      " [ 0.3361745   0.34199643  0.32182906]\n",
      " [ 0.30831745  0.32182906  0.36985349]]\n",
      "predict clled, returned shape: (30000,)\n",
      "[[ 0.3560212   0.3381797   0.3057991 ]\n",
      " [ 0.3387833   0.34431007  0.31690663]\n",
      " [ 0.30186159  0.31457739  0.38356102]]\n",
      "predict clled, returned shape: (60000,)\n",
      "[[ 0.36071151  0.3359707   0.30331778]\n",
      " [ 0.3359707   0.34848202  0.31554728]\n",
      " [ 0.30331778  0.31554728  0.38113494]]\n",
      "predict clled, returned shape: (30000,)\n",
      "[[ 0.3457977   0.33037424  0.32382806]\n",
      " [ 0.33137668  0.33438445  0.33423887]\n",
      " [ 0.32541456  0.33533429  0.33925115]]\n",
      "predict clled, returned shape: (60000,)\n",
      "[[ 0.34844577  0.32897658  0.32257766]\n",
      " [ 0.32897658  0.33672095  0.33430248]\n",
      " [ 0.32257766  0.33430248  0.34311987]]\n",
      "predict clled, returned shape: (30000,)\n",
      "[[ 0.36448957  0.33196438  0.30354605]\n",
      " [ 0.33227184  0.34694534  0.32078282]\n",
      " [ 0.30511433  0.31973321  0.37515246]]\n",
      "predict clled, returned shape: (60000,)\n",
      "[[ 0.36614264  0.33123861  0.30261874]\n",
      " [ 0.33123861  0.35072166  0.31803973]\n",
      " [ 0.30261874  0.31803973  0.37934153]]\n",
      "predict clled, returned shape: (30000,)\n",
      "[[ 0.34593512  0.33744588  0.316619  ]\n",
      " [ 0.33709105  0.33660157  0.32630738]\n",
      " [ 0.31728895  0.32627391  0.35643714]]\n",
      "predict clled, returned shape: (60000,)\n",
      "[[ 0.34831687  0.33599097  0.31569216]\n",
      " [ 0.33599097  0.33936143  0.32464759]\n",
      " [ 0.31569216  0.32464759  0.35966025]]\n",
      "predict clled, returned shape: (30000,)\n",
      "[[ 0.33738008  0.33517868  0.32744124]\n",
      " [ 0.33451706  0.33448707  0.33099587]\n",
      " [ 0.32859601  0.32936552  0.34203847]]\n",
      "predict clled, returned shape: (60000,)\n",
      "[[ 0.33932365  0.33306961  0.32760674]\n",
      " [ 0.33306961  0.3381397   0.32879069]\n",
      " [ 0.32760674  0.32879069  0.34360257]]\n",
      "predict clled, returned shape: (30000,)\n",
      "[[ 0.34065663  0.33404413  0.32529923]\n",
      " [ 0.3339693   0.33446688  0.33156383]\n",
      " [ 0.32606611  0.33158039  0.3423535 ]]\n",
      "predict clled, returned shape: (60000,)\n",
      "[[ 0.34205682  0.33264278  0.3253004 ]\n",
      " [ 0.33264278  0.33649193  0.33086529]\n",
      " [ 0.3253004   0.33086529  0.34383431]]\n",
      "predict clled, returned shape: (30000,)\n",
      "[[ 0.34582775  0.33557754  0.31859471]\n",
      " [ 0.33499733  0.339159    0.32584367]\n",
      " [ 0.31801427  0.32547699  0.35650874]]\n",
      "predict clled, returned shape: (60000,)\n",
      "[[ 0.34927229  0.33396255  0.31676517]\n",
      " [ 0.33396255  0.34272318  0.32331427]\n",
      " [ 0.31676517  0.32331427  0.35992056]]\n",
      "predict clled, returned shape: (30000,)\n",
      "[[ 0.34119344  0.33610458  0.32270198]\n",
      " [ 0.33561092  0.33767819  0.32671089]\n",
      " [ 0.32296873  0.32634516  0.35068611]]\n",
      "predict clled, returned shape: (60000,)\n",
      "[[ 0.34231505  0.33512242  0.32256253]\n",
      " [ 0.33512242  0.3394295   0.32544808]\n",
      " [ 0.32256253  0.32544808  0.35198939]]\n",
      "predict clled, returned shape: (30000,)\n",
      "[[ 0.37556594  0.33456588  0.28986818]\n",
      " [ 0.33617563  0.34561815  0.31820622]\n",
      " [ 0.28781657  0.3200846   0.39209883]]\n",
      "predict clled, returned shape: (60000,)\n",
      "[[ 0.37984145  0.33259752  0.28756102]\n",
      " [ 0.33259752  0.34805406  0.31934842]\n",
      " [ 0.28756102  0.31934842  0.39309056]]\n",
      "predict clled, returned shape: (30000,)\n",
      "[[ 0.35575836  0.33430308  0.30993856]\n",
      " [ 0.33323038  0.33835372  0.32841591]\n",
      " [ 0.30869745  0.328162    0.36314055]]\n",
      "predict clled, returned shape: (60000,)\n",
      "[[ 0.35900312  0.33273015  0.30826673]\n",
      " [ 0.33273015  0.34011803  0.32715183]\n",
      " [ 0.30826673  0.32715183  0.36458144]]\n",
      "predict clled, returned shape: (30000,)\n",
      "[[ 0.35650723  0.33549579  0.30799699]\n",
      " [ 0.33450388  0.33504605  0.33045007]\n",
      " [ 0.30857187  0.32796182  0.36346631]]\n",
      "predict clled, returned shape: (60000,)\n",
      "[[ 0.35797087  0.33517507  0.30685406]\n",
      " [ 0.33517507  0.33874679  0.32607814]\n",
      " [ 0.30685406  0.32607814  0.3670678 ]]\n",
      "predict clled, returned shape: (30000,)\n",
      "[[ 0.34854283  0.33375918  0.317698  ]\n",
      " [ 0.33430823  0.33385813  0.33183364]\n",
      " [ 0.31629873  0.33241697  0.3512843 ]]\n",
      "predict clled, returned shape: (60000,)\n",
      "[[ 0.35038252  0.332204    0.31741348]\n",
      " [ 0.332204    0.33678403  0.33101197]\n",
      " [ 0.31741348  0.33101197  0.35157455]]\n",
      "predict clled, returned shape: (30000,)\n",
      "[[ 0.3637041   0.33433483  0.30196107]\n",
      " [ 0.33383909  0.33755248  0.32860842]\n",
      " [ 0.30115775  0.32736371  0.37147854]]\n",
      "predict clled, returned shape: (60000,)\n",
      "[[ 0.36736263  0.33338893  0.29924844]\n",
      " [ 0.33338893  0.34099395  0.32561712]\n",
      " [ 0.29924844  0.32561712  0.37513444]]\n",
      "predict clled, returned shape: (30000,)\n",
      "[[ 0.34100388  0.3339748   0.32502132]\n",
      " [ 0.33315336  0.33399768  0.33284896]\n",
      " [ 0.32818203  0.33133021  0.34048776]]\n",
      "predict clled, returned shape: (60000,)\n",
      "[[ 0.34298615  0.33263581  0.32437803]\n",
      " [ 0.33263581  0.33766331  0.32970087]\n",
      " [ 0.32437803  0.32970087  0.3459211 ]]\n",
      "predict clled, returned shape: (30000,)\n",
      "[[ 0.33471841  0.33332106  0.33196053]\n",
      " [ 0.33375224  0.33431842  0.33192934]\n",
      " [ 0.33165485  0.330986    0.33735916]]\n",
      "predict clled, returned shape: (60000,)\n",
      "[[ 0.3382565   0.33212831  0.3296152 ]\n",
      " [ 0.33212831  0.3375811   0.3302906 ]\n",
      " [ 0.3296152   0.3302906   0.3400942 ]]\n",
      "predict clled, returned shape: (30000,)\n",
      "[[ 0.34981671  0.33698754  0.31319575]\n",
      " [ 0.33686423  0.33659015  0.32654562]\n",
      " [ 0.31307496  0.32597507  0.36094996]]\n",
      "predict clled, returned shape: (60000,)\n",
      "[[ 0.3539674   0.3351674   0.3108652 ]\n",
      " [ 0.3351674   0.34019321  0.32463939]\n",
      " [ 0.3108652   0.32463939  0.36449541]]\n",
      "predict clled, returned shape: (30000,)\n",
      "[[ 0.37577764  0.33251035  0.29171201]\n",
      " [ 0.33343752  0.34045988  0.3261026 ]\n",
      " [ 0.2905708   0.32867965  0.38074955]]\n",
      "predict clled, returned shape: (60000,)\n",
      "[[ 0.37886404  0.33104671  0.29008925]\n",
      " [ 0.33104671  0.34234533  0.32660797]\n",
      " [ 0.29008925  0.32660797  0.38330278]]\n",
      "predict clled, returned shape: (30000,)\n",
      "[[ 0.337889    0.33332322  0.32878778]\n",
      " [ 0.33381961  0.33372486  0.33245553]\n",
      " [ 0.32912846  0.33213396  0.33873758]]\n",
      "predict clled, returned shape: (60000,)\n",
      "[[ 0.34066657  0.33242657  0.32690687]\n",
      " [ 0.33242657  0.33597874  0.33159469]\n",
      " [ 0.32690687  0.33159469  0.34149844]]\n",
      "predict clled, returned shape: (30000,)\n",
      "[[ 0.33785124  0.33171872  0.33043004]\n",
      " [ 0.33132023  0.33453288  0.33414688]\n",
      " [ 0.33164139  0.33414713  0.33421148]]\n",
      "predict clled, returned shape: (60000,)\n",
      "[[ 0.34009368  0.3302478   0.32965852]\n",
      " [ 0.3302478   0.3369686   0.33278361]\n",
      " [ 0.32965852  0.33278361  0.33755787]]\n",
      "predict clled, returned shape: (30000,)\n",
      "[[ 0.36763888  0.33047726  0.30188386]\n",
      " [ 0.33165761  0.34007087  0.32827152]\n",
      " [ 0.29927362  0.33080248  0.36992389]]\n",
      "predict clled, returned shape: (60000,)\n",
      "[[ 0.37057232  0.3290722   0.30035548]\n",
      " [ 0.3290722   0.34157051  0.32935729]\n",
      " [ 0.30035548  0.32935729  0.37028723]]\n",
      "predict clled, returned shape: (30000,)\n",
      "[[ 0.37640728  0.32918166  0.29441105]\n",
      " [ 0.32898124  0.33641981  0.33459895]\n",
      " [ 0.29823911  0.33344036  0.36832053]]\n",
      "predict clled, returned shape: (60000,)\n",
      "[[ 0.37693764  0.32822938  0.29483298]\n",
      " [ 0.32822938  0.33946326  0.33230736]\n",
      " [ 0.29483298  0.33230736  0.37285966]]\n",
      "predict clled, returned shape: (30000,)\n",
      "[[ 0.36020944  0.32933139  0.31045918]\n",
      " [ 0.33111601  0.33640667  0.33247733]\n",
      " [ 0.3111685   0.33316552  0.35566597]]\n",
      "predict clled, returned shape: (60000,)\n",
      "[[ 0.36240475  0.32800358  0.30959167]\n",
      " [ 0.32800358  0.33997218  0.33202423]\n",
      " [ 0.30959167  0.33202423  0.3583841 ]]\n",
      "predict clled, returned shape: (30000,)\n",
      "[[ 0.34345071  0.33093687  0.32561242]\n",
      " [ 0.33170453  0.3338289   0.33446657]\n",
      " [ 0.32553608  0.33490975  0.33955417]]\n",
      "predict clled, returned shape: (60000,)\n",
      "[[ 0.34647378  0.33006423  0.32346198]\n",
      " [ 0.33006423  0.33612681  0.33380896]\n",
      " [ 0.32346198  0.33380896  0.34272905]]\n"
     ]
    },
    {
     "ename": "KeyboardInterrupt",
     "evalue": "",
     "output_type": "error",
     "traceback": [
      "\u001b[1;31m---------------------------------------------------------------------------\u001b[0m",
      "\u001b[1;31mKeyboardInterrupt\u001b[0m                         Traceback (most recent call last)",
      "\u001b[1;32m<ipython-input-179-efd91d0e53e2>\u001b[0m in \u001b[0;36m<module>\u001b[1;34m()\u001b[0m\n\u001b[1;32m----> 1\u001b[1;33m \u001b[0msweep\u001b[0m\u001b[1;33m.\u001b[0m\u001b[0msweep\u001b[0m\u001b[1;33m(\u001b[0m\u001b[0madc_sz\u001b[0m\u001b[1;33m,\u001b[0m \u001b[1;33m(\u001b[0m\u001b[0mro_dac_amplitudes\u001b[0m\u001b[1;33m,\u001b[0m \u001b[0mro_pulse_generator_inst\u001b[0m\u001b[1;33m.\u001b[0m\u001b[0mset_ro_amplitude\u001b[0m\u001b[1;33m,\u001b[0m \u001b[1;34m'Readout pulse amplitude'\u001b[0m\u001b[1;33m)\u001b[0m\u001b[1;33m,\u001b[0m \u001b[0mfilename\u001b[0m\u001b[1;33m=\u001b[0m\u001b[1;34m'Readout fidelity'\u001b[0m\u001b[1;33m)\u001b[0m\u001b[1;33m\u001b[0m\u001b[0m\n\u001b[0m",
      "\u001b[1;32mC:\\Users\\demouser\\Desktop\\Quantum\\qsweepy\\sweep.py\u001b[0m in \u001b[0;36msweep\u001b[1;34m(measurer, filename, root_dir, plot, plot_separate_thread, header, output, save, time_war_label, bot, *params)\u001b[0m\n\u001b[0;32m    261\u001b[0m                         \u001b[0macq_thread\u001b[0m \u001b[1;33m=\u001b[0m \u001b[0mthreading\u001b[0m\u001b[1;33m.\u001b[0m\u001b[0mThread\u001b[0m\u001b[1;33m(\u001b[0m\u001b[0mtarget\u001b[0m\u001b[1;33m=\u001b[0m\u001b[0mmain_sweep_loop\u001b[0m\u001b[1;33m)\u001b[0m\u001b[1;33m\u001b[0m\u001b[0m\n\u001b[0;32m    262\u001b[0m                         \u001b[0macq_thread\u001b[0m\u001b[1;33m.\u001b[0m\u001b[0mstart\u001b[0m\u001b[1;33m(\u001b[0m\u001b[1;33m)\u001b[0m\u001b[1;33m\u001b[0m\u001b[0m\n\u001b[1;32m--> 263\u001b[1;33m                         \u001b[0mplot_thread\u001b[0m\u001b[1;33m(\u001b[0m\u001b[1;33m)\u001b[0m\u001b[1;33m\u001b[0m\u001b[0m\n\u001b[0m\u001b[0;32m    264\u001b[0m \u001b[1;33m\u001b[0m\u001b[0m\n\u001b[0;32m    265\u001b[0m                 \u001b[1;32mif\u001b[0m \u001b[1;33m(\u001b[0m\u001b[0mtime_war_label\u001b[0m\u001b[1;33m)\u001b[0m\u001b[1;33m:\u001b[0m\u001b[1;33m\u001b[0m\u001b[0m\n",
      "\u001b[1;32mC:\\Users\\demouser\\Desktop\\Quantum\\qsweepy\\sweep.py\u001b[0m in \u001b[0;36mplot_thread\u001b[1;34m()\u001b[0m\n\u001b[0;32m    255\u001b[0m                                         \u001b[1;32mif\u001b[0m \u001b[0mplot_thread_point_id\u001b[0m \u001b[1;33m>=\u001b[0m \u001b[0mnp\u001b[0m\u001b[1;33m.\u001b[0m\u001b[0mprod\u001b[0m\u001b[1;33m(\u001b[0m\u001b[0msweep_dim\u001b[0m\u001b[1;33m)\u001b[0m\u001b[1;33m:\u001b[0m\u001b[1;33m\u001b[0m\u001b[0m\n\u001b[0;32m    256\u001b[0m                                                 \u001b[1;32mreturn\u001b[0m\u001b[1;33m\u001b[0m\u001b[0m\n\u001b[1;32m--> 257\u001b[1;33m                                         \u001b[0mplt\u001b[0m\u001b[1;33m.\u001b[0m\u001b[0mpause\u001b[0m\u001b[1;33m(\u001b[0m\u001b[1;36m1.0\u001b[0m\u001b[1;33m)\u001b[0m\u001b[1;33m\u001b[0m\u001b[0m\n\u001b[0m\u001b[0;32m    258\u001b[0m                                         \u001b[1;31m#print(plot_thread_point_id, done_sweeps)\u001b[0m\u001b[1;33m\u001b[0m\u001b[1;33m\u001b[0m\u001b[0m\n\u001b[0;32m    259\u001b[0m \u001b[1;33m\u001b[0m\u001b[0m\n",
      "\u001b[1;32mC:\\ProgramData\\Anaconda2\\envs\\py36\\lib\\site-packages\\matplotlib\\pyplot.py\u001b[0m in \u001b[0;36mpause\u001b[1;34m(interval)\u001b[0m\n\u001b[0;32m    298\u001b[0m                 \u001b[0mcanvas\u001b[0m\u001b[1;33m.\u001b[0m\u001b[0mdraw\u001b[0m\u001b[1;33m(\u001b[0m\u001b[1;33m)\u001b[0m\u001b[1;33m\u001b[0m\u001b[0m\n\u001b[0;32m    299\u001b[0m             \u001b[0mshow\u001b[0m\u001b[1;33m(\u001b[0m\u001b[0mblock\u001b[0m\u001b[1;33m=\u001b[0m\u001b[1;32mFalse\u001b[0m\u001b[1;33m)\u001b[0m\u001b[1;33m\u001b[0m\u001b[0m\n\u001b[1;32m--> 300\u001b[1;33m             \u001b[0mcanvas\u001b[0m\u001b[1;33m.\u001b[0m\u001b[0mstart_event_loop\u001b[0m\u001b[1;33m(\u001b[0m\u001b[0minterval\u001b[0m\u001b[1;33m)\u001b[0m\u001b[1;33m\u001b[0m\u001b[0m\n\u001b[0m\u001b[0;32m    301\u001b[0m             \u001b[1;32mreturn\u001b[0m\u001b[1;33m\u001b[0m\u001b[0m\n\u001b[0;32m    302\u001b[0m \u001b[1;33m\u001b[0m\u001b[0m\n",
      "\u001b[1;32mC:\\ProgramData\\Anaconda2\\envs\\py36\\lib\\site-packages\\matplotlib\\backends\\backend_qt5.py\u001b[0m in \u001b[0;36mstart_event_loop\u001b[1;34m(self, timeout)\u001b[0m\n\u001b[0;32m    427\u001b[0m \u001b[1;33m\u001b[0m\u001b[0m\n\u001b[0;32m    428\u001b[0m     \u001b[1;32mdef\u001b[0m \u001b[0mstart_event_loop\u001b[0m\u001b[1;33m(\u001b[0m\u001b[0mself\u001b[0m\u001b[1;33m,\u001b[0m \u001b[0mtimeout\u001b[0m\u001b[1;33m)\u001b[0m\u001b[1;33m:\u001b[0m\u001b[1;33m\u001b[0m\u001b[0m\n\u001b[1;32m--> 429\u001b[1;33m         \u001b[0mFigureCanvasBase\u001b[0m\u001b[1;33m.\u001b[0m\u001b[0mstart_event_loop_default\u001b[0m\u001b[1;33m(\u001b[0m\u001b[0mself\u001b[0m\u001b[1;33m,\u001b[0m \u001b[0mtimeout\u001b[0m\u001b[1;33m)\u001b[0m\u001b[1;33m\u001b[0m\u001b[0m\n\u001b[0m\u001b[0;32m    430\u001b[0m \u001b[1;33m\u001b[0m\u001b[0m\n\u001b[0;32m    431\u001b[0m     \u001b[0mstart_event_loop\u001b[0m\u001b[1;33m.\u001b[0m\u001b[0m__doc__\u001b[0m \u001b[1;33m=\u001b[0m\u001b[0;31m \u001b[0m\u001b[0;31m\\\u001b[0m\u001b[1;33m\u001b[0m\u001b[0m\n",
      "\u001b[1;32mC:\\ProgramData\\Anaconda2\\envs\\py36\\lib\\site-packages\\matplotlib\\backend_bases.py\u001b[0m in \u001b[0;36mstart_event_loop_default\u001b[1;34m(self, timeout)\u001b[0m\n\u001b[0;32m   2460\u001b[0m         \u001b[1;32mwhile\u001b[0m \u001b[0mself\u001b[0m\u001b[1;33m.\u001b[0m\u001b[0m_looping\u001b[0m \u001b[1;32mand\u001b[0m \u001b[0mcounter\u001b[0m \u001b[1;33m*\u001b[0m \u001b[0mtimestep\u001b[0m \u001b[1;33m<\u001b[0m \u001b[0mtimeout\u001b[0m\u001b[1;33m:\u001b[0m\u001b[1;33m\u001b[0m\u001b[0m\n\u001b[0;32m   2461\u001b[0m             \u001b[0mself\u001b[0m\u001b[1;33m.\u001b[0m\u001b[0mflush_events\u001b[0m\u001b[1;33m(\u001b[0m\u001b[1;33m)\u001b[0m\u001b[1;33m\u001b[0m\u001b[0m\n\u001b[1;32m-> 2462\u001b[1;33m             \u001b[0mtime\u001b[0m\u001b[1;33m.\u001b[0m\u001b[0msleep\u001b[0m\u001b[1;33m(\u001b[0m\u001b[0mtimestep\u001b[0m\u001b[1;33m)\u001b[0m\u001b[1;33m\u001b[0m\u001b[0m\n\u001b[0m\u001b[0;32m   2463\u001b[0m             \u001b[0mcounter\u001b[0m \u001b[1;33m+=\u001b[0m \u001b[1;36m1\u001b[0m\u001b[1;33m\u001b[0m\u001b[0m\n\u001b[0;32m   2464\u001b[0m \u001b[1;33m\u001b[0m\u001b[0m\n",
      "\u001b[1;31mKeyboardInterrupt\u001b[0m: "
     ]
    }
   ],
   "source": [
    "sweep.sweep(adc_sz, (ro_dac_amplitudes, ro_pulse_generator_inst.set_ro_amplitude, 'Readout pulse amplitude'), filename='Readout fidelity')"
   ]
  },
  {
   "cell_type": "code",
   "execution_count": 273,
   "metadata": {
    "scrolled": true
   },
   "outputs": [
    {
     "data": {
      "application/vnd.jupyter.widget-view+json": {
       "model_id": "91c1b6f7fe724d249894b6e944abfc1f"
      }
     },
     "metadata": {},
     "output_type": "display_data"
    },
    {
     "name": "stdout",
     "output_type": "stream",
     "text": [
      "Started at:  Aug 04 2018 00:42:58\n"
     ]
    },
    {
     "name": "stderr",
     "output_type": "stream",
     "text": [
      "Exception in thread Thread-50:\n",
      "Traceback (most recent call last):\n",
      "  File \"C:\\ProgramData\\Anaconda2\\envs\\py36\\lib\\threading.py\", line 916, in _bootstrap_inner\n",
      "    self.run()\n",
      "  File \"C:\\ProgramData\\Anaconda2\\envs\\py36\\lib\\threading.py\", line 864, in run\n",
      "    self._target(*self._args, **self._kwargs)\n",
      "  File \"C:\\Users\\demouser\\Desktop\\Quantum\\qsweepy\\sweep.py\", line 190, in main_sweep_loop\n",
      "    mpoint = measurer.measure()\n",
      "  File \"C:\\Users\\demouser\\Desktop\\Quantum\\qsweepy\\single_shot_readout.py\", line 86, in measure\n",
      "    self.calibrate()\n",
      "  File \"C:\\Users\\demouser\\Desktop\\Quantum\\qsweepy\\single_shot_readout.py\", line 65, in calibrate\n",
      "    measurement = self.adc.measure()\n",
      "  File \"C:\\Users\\demouser\\Desktop\\Quantum\\qsweepy\\data_reduce.py\", line 24, in measure\n",
      "    data = self.source.measure()\n",
      "  File \"C:\\Users\\demouser\\Desktop\\Quantum\\qsweepy\\instrument_drivers\\Keysight_M3102A.py\", line 122, in measure\n",
      "    return {'Voltage':(data[0,:,:]+1j*data[1,:,:])}\n",
      "MemoryError\n",
      "\n"
     ]
    },
    {
     "ename": "KeyboardInterrupt",
     "evalue": "",
     "output_type": "error",
     "traceback": [
      "\u001b[1;31m---------------------------------------------------------------------------\u001b[0m",
      "\u001b[1;31mKeyboardInterrupt\u001b[0m                         Traceback (most recent call last)",
      "\u001b[1;32m<ipython-input-273-25270a451e97>\u001b[0m in \u001b[0;36m<module>\u001b[1;34m()\u001b[0m\n\u001b[0;32m      1\u001b[0m sweep.sweep(adc_sz, (ro_dac_lengths, ro_pulse_generator_inst.set_ro_length, 'Readout pulse length'), \n\u001b[1;32m----> 2\u001b[1;33m                     (ro_dac_amplitudes, ro_pulse_generator_inst.set_ro_amplitude, 'Readout pulse amplitude'), filename='Readout fidelity')\n\u001b[0m",
      "\u001b[1;32mC:\\Users\\demouser\\Desktop\\Quantum\\qsweepy\\sweep.py\u001b[0m in \u001b[0;36msweep\u001b[1;34m(measurer, filename, root_dir, plot, plot_separate_thread, header, output, save, time_war_label, bot, *params)\u001b[0m\n\u001b[0;32m    261\u001b[0m                         \u001b[0macq_thread\u001b[0m \u001b[1;33m=\u001b[0m \u001b[0mthreading\u001b[0m\u001b[1;33m.\u001b[0m\u001b[0mThread\u001b[0m\u001b[1;33m(\u001b[0m\u001b[0mtarget\u001b[0m\u001b[1;33m=\u001b[0m\u001b[0mmain_sweep_loop\u001b[0m\u001b[1;33m)\u001b[0m\u001b[1;33m\u001b[0m\u001b[0m\n\u001b[0;32m    262\u001b[0m                         \u001b[0macq_thread\u001b[0m\u001b[1;33m.\u001b[0m\u001b[0mstart\u001b[0m\u001b[1;33m(\u001b[0m\u001b[1;33m)\u001b[0m\u001b[1;33m\u001b[0m\u001b[0m\n\u001b[1;32m--> 263\u001b[1;33m                         \u001b[0mplot_thread\u001b[0m\u001b[1;33m(\u001b[0m\u001b[1;33m)\u001b[0m\u001b[1;33m\u001b[0m\u001b[0m\n\u001b[0m\u001b[0;32m    264\u001b[0m \u001b[1;33m\u001b[0m\u001b[0m\n\u001b[0;32m    265\u001b[0m                 \u001b[1;32mif\u001b[0m \u001b[1;33m(\u001b[0m\u001b[0mtime_war_label\u001b[0m\u001b[1;33m)\u001b[0m\u001b[1;33m:\u001b[0m\u001b[1;33m\u001b[0m\u001b[0m\n",
      "\u001b[1;32mC:\\Users\\demouser\\Desktop\\Quantum\\qsweepy\\sweep.py\u001b[0m in \u001b[0;36mplot_thread\u001b[1;34m()\u001b[0m\n\u001b[0;32m    249\u001b[0m                                 \u001b[1;32mwhile\u001b[0m \u001b[1;32mTrue\u001b[0m\u001b[1;33m:\u001b[0m\u001b[1;33m\u001b[0m\u001b[0m\n\u001b[0;32m    250\u001b[0m                                         \u001b[1;32mif\u001b[0m \u001b[0msweep_error\u001b[0m\u001b[1;33m:\u001b[0m\u001b[1;33m\u001b[0m\u001b[0m\n\u001b[1;32m--> 251\u001b[1;33m                                                 \u001b[1;32mraise\u001b[0m \u001b[0mKeyboardInterrupt\u001b[0m\u001b[1;33m\u001b[0m\u001b[0m\n\u001b[0m\u001b[0;32m    252\u001b[0m                                         \u001b[1;32mif\u001b[0m \u001b[0mplot_thread_point_id\u001b[0m \u001b[1;33m<\u001b[0m \u001b[0mdone_sweeps\u001b[0m\u001b[1;33m:\u001b[0m\u001b[1;33m\u001b[0m\u001b[0m\n\u001b[0;32m    253\u001b[0m                                                 \u001b[0mplotting\u001b[0m\u001b[1;33m.\u001b[0m\u001b[0mupdate_plot_measurement\u001b[0m\u001b[1;33m(\u001b[0m\u001b[0mmk_measurement\u001b[0m\u001b[1;33m(\u001b[0m\u001b[1;36m0\u001b[0m\u001b[1;33m)\u001b[0m\u001b[1;33m,\u001b[0m \u001b[0mplot_axes\u001b[0m\u001b[1;33m)\u001b[0m\u001b[1;33m\u001b[0m\u001b[0m\n",
      "\u001b[1;31mKeyboardInterrupt\u001b[0m: "
     ]
    }
   ],
   "source": [
    "sweep.sweep(adc_sz, (ro_dac_lengths, ro_pulse_generator_inst.set_ro_length, 'Readout pulse length'), \n",
    "                    (ro_dac_amplitudes, ro_pulse_generator_inst.set_ro_amplitude, 'Readout pulse amplitude'), filename='Readout fidelity')"
   ]
  },
  {
   "cell_type": "markdown",
   "metadata": {},
   "source": [
    "# Double readout"
   ]
  },
  {
   "cell_type": "code",
   "execution_count": 105,
   "metadata": {},
   "outputs": [
    {
     "data": {
      "text/plain": [
       "<module 'qsweepy.plotting' from 'C:\\\\Users\\\\demouser\\\\Desktop\\\\Quantum\\\\qsweepy\\\\plotting.py'>"
      ]
     },
     "execution_count": 105,
     "metadata": {},
     "output_type": "execute_result"
    }
   ],
   "source": [
    "imp.reload(plotting)"
   ]
  },
  {
   "cell_type": "code",
   "execution_count": null,
   "metadata": {
    "collapsed": true
   },
   "outputs": [],
   "source": [
    "ex_amplitude = 0.2\n",
    "#pi_pulse = 20e-9\n",
    "pause_length = 16e-9"
   ]
  },
  {
   "cell_type": "code",
   "execution_count": null,
   "metadata": {
    "collapsed": true
   },
   "outputs": [],
   "source": [
    "adc.stop()"
   ]
  },
  {
   "cell_type": "code",
   "execution_count": null,
   "metadata": {
    "collapsed": true
   },
   "outputs": [],
   "source": [
    "adc.set_nums(10000)\n",
    "\n",
    "sweep_number=5\n",
    "result=[]\n",
    "for swp in range(sweep_number):\n",
    "    awg_tek.set_nop(awg_tek.get_clock()/rep_rate)\n",
    "    \n",
    "    sequence = [pg.p('ro_trg', trg_length, pg.rect, 1),\n",
    "                pg.p('iq_ro', ro_dac_length, pg.rect, ro_dac_amplitude)]\n",
    "    pg.set_seq(sequence)\n",
    "    awg_tek.run()\n",
    "    measurement=adc.measure()\n",
    "    #result.append(measurement)\n",
    "    with open('data.pickle{0}'.format(swp), 'wb') as f:\n",
    "        pickle.dump(measurement, f)\n",
    "   # measurement.clear()\n",
    "    print('{0} done'.format(swp))\n",
    "    \n",
    "\n"
   ]
  },
  {
   "cell_type": "code",
   "execution_count": null,
   "metadata": {
    "collapsed": true
   },
   "outputs": [],
   "source": [
    "#ex_amplitude = 0.2\n",
    "#pi_pulse = 20e-9\n",
    "#pause_length = 16e-9\n",
    "#pi_pulse=20e-9\n",
    "adc.set_nums(10000)\n",
    "\n",
    "\n",
    "sweep_number=5\n",
    "result=[]\n",
    "for swp in range(sweep_number):\n",
    "    awg_tek.set_nop(awg_tek.get_clock()/rep_rate)\n",
    "    \n",
    "    sequence = [pg.p('iq_ex', length, pg.gauss_hd, 0, amp, sigma, alpha),\n",
    "                pg.p('iq_ex', length, pg.gauss_hd, 0, amp, sigma, alpha),\n",
    "                pg.p(None,pause_length),\n",
    "                pg.p('ro_trg', trg_length, pg.rect, 1),\n",
    "                pg.p('iq_ro', ro_dac_length, pg.rect, ro_dac_amplitude)]\n",
    "    pg.set_seq(sequence)\n",
    "    awg_tek.run()\n",
    "    measurement=adc.measure()\n",
    "   # result.append(measurement)\n",
    "    with open('data1gaus.pickle{0}'.format(swp), 'wb') as f:\n",
    "        pickle.dump(measurement, f)\n",
    "    measurement.clear()\n",
    "    print('{0} done'.format(swp))\n",
    "    "
   ]
  },
  {
   "cell_type": "code",
   "execution_count": null,
   "metadata": {
    "collapsed": true
   },
   "outputs": [],
   "source": [
    "imp.reload(sweep)\n",
    "imp.reload(save_pkl)\n",
    "sweep_number=100\n",
    "adc.set_nums(500)\n",
    "measurment_data_pre=[]\n",
    "for swp in range(sweep_number):\n",
    "    delays = np.linspace(0e-6, 10e-6, 51)\n",
    "    def set_delay(delay):\n",
    "        awg_tek.set_nop(awg_tek.get_clock()/rep_rate)\n",
    "    \n",
    "        sequence = [pg.p('ro_trg', trg_length, pg.rect, 1),\n",
    "                    pg.p('iq_ro', ro_dac_length, pg.rect, ro_dac_amplitude),\n",
    "                    pg.p(None, delay),\n",
    "                    pg.p('iq_ro', ro_dac_length, pg.rect, ro_dac_amplitude)\n",
    "                   ]\n",
    "        pg.set_seq(sequence)\n",
    "        awg_tek.run()\n",
    "    measurement_pre = sweep.sweep(adc, (delays, set_delay, 'delay'), filename='Decay{0}'.format(swp),time_war_label=False)\n",
    "    measurement_pre.clear()\n",
    "   \n",
    "    \n",
    " \n"
   ]
  },
  {
   "cell_type": "code",
   "execution_count": null,
   "metadata": {
    "collapsed": true
   },
   "outputs": [],
   "source": [
    "for file_name in range (swp):\n",
    "    if (file_name==0):\n",
    "        with open(r'D:\\qtlab\\ReiData\\data\\2017-11-03\\Voltage Decay{0}.pkl'.format(file_name),'rb') as f:\n",
    "            data=pkl.load(f,encoding='latin1')\n",
    "        Voltage_avg=[[np.mean(data[1]['Voltage'][2][i][j]) for i in range(len(data[1]['Voltage'][2][0][1]))]\\\n",
    "                     for j in range(len(data[1]['Voltage'][2][0]))]\n",
    "        print (Voltage_avg_amp[0])\n",
    "        print (file_name)\n",
    "    else:\n",
    "        with open(r'D:\\qtlab\\ReiData\\data\\2017-11-03\\Voltage Decay{0}.pkl'.format(file_name),'rb') as f:\n",
    "            data_r=pkl.load(f,encoding='latin1')\n",
    "        Voltage_avg=[(np.real(data_r[1]['Voltage'][2][vnum])+np.real(Voltage_avg[vnum]))/2+\\\n",
    "                      (np.imag(data_r[1]['Voltage'][2][vnum])+np.imag(Voltage_avg[vnum]))/2 for vnum \\\n",
    "                      in range(len(data_r[1]['Voltage'][2]))]\n",
    "        print (data_r[1]['Voltage'][2])\n",
    "        print (Voltage_avg[0])\n",
    "        print (file_name)\n",
    "                      "
   ]
  },
  {
   "cell_type": "code",
   "execution_count": null,
   "metadata": {
    "collapsed": true,
    "scrolled": true
   },
   "outputs": [],
   "source": [
    "sweep_num=80\n",
    "adc.set_nums(500)\n",
    "delays = np.linspace(0e-6, 10e-6, 51)\n",
    "def set_delay(delay):\n",
    "    awg_tek.set_nop(awg_tek.get_clock()/rep_rate)\n",
    "    \n",
    "    sequence = [pg.p(None, delay)\n",
    "                pg.p('iq_ex', pi_pulse, pg.rect, ex_amplitude),\n",
    "                pg.p('ro_trg', trg_length, pg.rect, 1),\n",
    "                pg.p('iq_ro', ro_dac_length, pg.rect, ro_dac_amplitude)]\n",
    "    pg.set_seq(sequence)\n",
    "    awg_tek.run()\n",
    "measurement_pre = sweep.sweep(adc, (delays, set_delay, 'delay'), filename='Decay')\n",
    "voltage_amp_pre_ONES=[np.sqrt(np.real(measurement_pre['Voltage'][2][1][i])**2+np.imag(measurement_pre['Voltage'][2][1][i])**2) for i in \\\n",
    "             range(len(measurement_pre['Voltage'][2][1]))]\n",
    "voltage_phase_pre_ONES=[np.arctan(np.real(measurement_pre['Voltage'][2][1][i])/np.imag(measurement_pre['Voltage'][2][1][i])) for i in \\\n",
    "             range(len(measurement_pre['Voltage'][2][1]))] \n",
    "plt.plot(voltage_amp_pre_ONES)\n",
    "plt.show()"
   ]
  },
  {
   "cell_type": "code",
   "execution_count": null,
   "metadata": {
    "collapsed": true
   },
   "outputs": [],
   "source": [
    "import matplotlib.patches as mpatches"
   ]
  },
  {
   "cell_type": "code",
   "execution_count": null,
   "metadata": {
    "collapsed": true
   },
   "outputs": [],
   "source": [
    "non_avg_ones=[[voltage_amp_pre_ONES[i][j] for i in range(len(voltage_amp_pre_ONES))]\\\n",
    "              for j in range (len(voltage_amp_pre_ONES[0]))]\n",
    "avg_ones=[np.mean(ones) for ones in non_avg_ones ]\n",
    "non_avg_zeros=[[voltage_amp_pre_ZEROS[i][j] for i in range(len(voltage_amp_pre_ZEROS))]\\\n",
    "              for j in range (len(voltage_amp_pre_ZEROS[0]))]\n",
    "avg_zeros=[np.mean(zeros) for zeros in non_avg_zeros ]\n",
    "avg_ones_n=[np.mean(ones)-np.mean(avg_ones) for ones in non_avg_ones ]\n",
    "avg_zeros_n=[np.mean(zeros)-np.mean(avg_zeros) for zeros in non_avg_zeros ]\n",
    "plt.plot(avg_ones_n)\n",
    "plt.plot(avg_zeros_n)\n",
    "blue_patch = mpatches.Patch(color='blue', label='|1>')\n",
    "red_patch = mpatches.Patch(color='orange', label='|0>')\n",
    "plt.legend(handles=[blue_patch,red_patch])\n",
    "plt.show()"
   ]
  },
  {
   "cell_type": "code",
   "execution_count": null,
   "metadata": {
    "collapsed": true
   },
   "outputs": [],
   "source": [
    "delays = np.linspace(0e-6, 1.5e-6, 51)\n",
    "def set_delay(delay):\n",
    "    awg_tek.set_nop(awg_tek.get_clock()/rep_rate)\n",
    "    \n",
    "    sequence = [pg.p('ro_trg', trg_length, pg.rect, 1),\n",
    "                pg.p('iq_ro', ro_dac_length, pg.rect, ro_dac_amplitude),\n",
    "                pg.p(None, delay), \n",
    "                pg.p('ro_trg', trg_length, pg.rect, 1),\n",
    "                pg.p('iq_ro', ro_dac_length, pg.rect, ro_dac_amplitude) ]\n",
    "    pg.set_seq(sequence)\n",
    "    awg_tek.run()\n",
    "measurement_post = sweep.sweep(adc_reducer, (delays, set_delay, 'delay'), filename='Decay')"
   ]
  },
  {
   "cell_type": "code",
   "execution_count": null,
   "metadata": {
    "collapsed": true
   },
   "outputs": [],
   "source": [
    "voltage_amp_post=[np.sqrt(np.real(measurement_post['Voltage'][2][1][i])**2+np.imag(measurement_post['Voltage'][2][1][i])**2) for i in \\\n",
    "             range(len(measurement_post['Voltage'][2][1]))]\n",
    "voltage_phase_post=[np.arctan(np.real(measurement_post['Voltage'][2][1][i])/np.imag(measurement_post['Voltage'][2][1][i])) for i in \\\n",
    "             range(len(measurement_post['Voltage'][2][1]))]"
   ]
  },
  {
   "cell_type": "code",
   "execution_count": 58,
   "metadata": {},
   "outputs": [
    {
     "data": {
      "text/plain": [
       "{'Mean Voltage (AC)': (('Rabi pulse length', 'Time'),\n",
       "  (array([  0.00000000e+00,   5.00000000e-09,   1.00000000e-08,\n",
       "            1.50000000e-08,   2.00000000e-08,   2.50000000e-08,\n",
       "            3.00000000e-08,   3.50000000e-08,   4.00000000e-08,\n",
       "            4.50000000e-08,   5.00000000e-08,   5.50000000e-08,\n",
       "            6.00000000e-08,   6.50000000e-08,   7.00000000e-08,\n",
       "            7.50000000e-08,   8.00000000e-08,   8.50000000e-08,\n",
       "            9.00000000e-08,   9.50000000e-08,   1.00000000e-07]),\n",
       "   array([  0.00000000e+00,   2.00000000e-09,   4.00000000e-09, ...,\n",
       "            4.09000000e-06,   4.09200000e-06,   4.09400000e-06])),\n",
       "  array([[-0.00560815-0.00160566j, -0.00740815-0.00180566j,\n",
       "          -0.00700815-0.00020566j, ...,  0.00469185+0.00689434j,\n",
       "          -0.00570815+0.00129434j,  0.00559185-0.00610566j],\n",
       "         [ 0.00694570-0.01156499j,  0.00444570+0.00583501j,\n",
       "          -0.01035430+0.00333501j, ...,  0.00584570+0.00763501j,\n",
       "           0.00484570-0.00056499j, -0.00485430+0.00383501j],\n",
       "         [ 0.00123145+0.00069336j,  0.00413145-0.00740664j,\n",
       "          -0.01926855-0.00670664j, ..., -0.00256855+0.00509336j,\n",
       "          -0.00476855+0.00279336j,  0.00173145+0.00309336j],\n",
       "         ..., \n",
       "         [ 0.01177793+0.01815913j, -0.00032207-0.02594087j,\n",
       "           0.00287793+0.02285913j, ..., -0.02662207-0.04254087j,\n",
       "          -0.00222207+0.02375913j, -0.00562207+0.02705913j],\n",
       "         [-0.00384546-0.02564248j, -0.01054546+0.00055752j,\n",
       "          -0.00044546+0.01185752j, ...,  0.00215454+0.01165752j,\n",
       "           0.00875454+0.00685752j,  0.01045454+0.00435752j],\n",
       "         [-0.00555190-0.00284536j, -0.02105190-0.00854536j,\n",
       "          -0.00395190-0.00404536j, ...,  0.00784810-0.00774536j,\n",
       "           0.00794810+0.00305464j,  0.00254810+0.00255464j]]),\n",
       "  {'log': None, 'scatter': True},\n",
       "  ('s', 's')),\n",
       " 'S21+': (('Rabi pulse length',),\n",
       "  (array([  0.00000000e+00,   5.00000000e-09,   1.00000000e-08,\n",
       "            1.50000000e-08,   2.00000000e-08,   2.50000000e-08,\n",
       "            3.00000000e-08,   3.50000000e-08,   4.00000000e-08,\n",
       "            4.50000000e-08,   5.00000000e-08,   5.50000000e-08,\n",
       "            6.00000000e-08,   6.50000000e-08,   7.00000000e-08,\n",
       "            7.50000000e-08,   8.00000000e-08,   8.50000000e-08,\n",
       "            9.00000000e-08,   9.50000000e-08,   1.00000000e-07]),),\n",
       "  array([-0.03364498+0.04270586j, -0.03319619+0.04278461j,\n",
       "         -0.03328990+0.04284148j, -0.03355589+0.04237028j,\n",
       "         -0.03355765+0.04239986j, -0.03379443+0.04236995j,\n",
       "         -0.03405605+0.04196385j, -0.03442303+0.04144681j,\n",
       "         -0.03454184+0.04167657j, -0.03408393+0.04193804j,\n",
       "         -0.03412462+0.04245846j, -0.03310524+0.04227201j,\n",
       "         -0.03322882+0.04265996j, -0.03412185+0.04188004j,\n",
       "         -0.03564812+0.04011937j, -0.03490612+0.04159434j,\n",
       "         -0.03299965+0.04329827j, -0.03272712+0.04368025j,\n",
       "         -0.03565372+0.04141656j, -0.03430327+0.04175162j,\n",
       "         -0.03338913+0.04282528j]),\n",
       "  {'log': None, 'scatter': True},\n",
       "  ('s',)),\n",
       " 'S21+ fit': (('Rabi pulse length',),\n",
       "  (array([  0.00000000e+00,   5.00000000e-09,   1.00000000e-08,\n",
       "            1.50000000e-08,   2.00000000e-08,   2.50000000e-08,\n",
       "            3.00000000e-08,   3.50000000e-08,   4.00000000e-08,\n",
       "            4.50000000e-08,   5.00000000e-08,   5.50000000e-08,\n",
       "            6.00000000e-08,   6.50000000e-08,   7.00000000e-08,\n",
       "            7.50000000e-08,   8.00000000e-08,   8.50000000e-08,\n",
       "            9.00000000e-08,   9.50000000e-08,   1.00000000e-07]),),\n",
       "  array([-0.03355509+0.04260256j, -0.03318366+0.0429984j ,\n",
       "         -0.03378789+0.04235447j, -0.03456878+0.04152226j,\n",
       "         -0.03449376+0.04160221j, -0.03366205+0.04248857j,\n",
       "         -0.03317344+0.04300929j, -0.03367400+0.04247584j,\n",
       "         -0.03450182+0.04159362j, -0.03456226+0.0415292j ,\n",
       "         -0.03377543+0.04236774j, -0.03318177+0.04300042j,\n",
       "         -0.03356627+0.04259065j, -0.03442048+0.0416803j ,\n",
       "         -0.03461487+0.04147313j, -0.03389242+0.04224307j,\n",
       "         -0.03320844+0.04297199j, -0.03346736+0.04269606j,\n",
       "         -0.03432678+0.04178016j, -0.03465028+0.0414354j ,\n",
       "         -0.03401011+0.04211764j]),\n",
       "  {'log': None},\n",
       "  ('s',)),\n",
       " 'S21-': (('Rabi pulse length',),\n",
       "  (array([  0.00000000e+00,   5.00000000e-09,   1.00000000e-08,\n",
       "            1.50000000e-08,   2.00000000e-08,   2.50000000e-08,\n",
       "            3.00000000e-08,   3.50000000e-08,   4.00000000e-08,\n",
       "            4.50000000e-08,   5.00000000e-08,   5.50000000e-08,\n",
       "            6.00000000e-08,   6.50000000e-08,   7.00000000e-08,\n",
       "            7.50000000e-08,   8.00000000e-08,   8.50000000e-08,\n",
       "            9.00000000e-08,   9.50000000e-08,   1.00000000e-07]),),\n",
       "  array([  3.70062287e-04+0.01839464j,   1.49348840e-04+0.01826671j,\n",
       "           3.38022855e-04+0.01868543j,   1.47916886e-04+0.01779787j,\n",
       "           1.78517672e-04+0.01786014j,   7.59192240e-05+0.01830842j,\n",
       "           7.20159876e-05+0.01800109j,   2.30081698e-04+0.01812456j,\n",
       "           1.87173387e-04+0.01789665j,   4.04532826e-04+0.01796644j,\n",
       "           4.26061820e-04+0.01858498j,   4.91411124e-04+0.01848937j,\n",
       "           2.42503674e-04+0.01845477j,   5.16748564e-04+0.01834399j,\n",
       "           7.76614730e-04+0.01814231j,   3.84706739e-04+0.01828507j,\n",
       "           3.82925783e-04+0.01848132j,   3.72133041e-04+0.01851608j,\n",
       "           8.13866002e-04+0.0185892j ,   3.86034094e-04+0.01835102j,\n",
       "           6.87598278e-04+0.01836834j]),\n",
       "  {'log': None, 'scatter': True},\n",
       "  ('s',)),\n",
       " 'S21- fit': (('Rabi pulse length',),\n",
       "  (array([  0.00000000e+00,   5.00000000e-09,   1.00000000e-08,\n",
       "            1.50000000e-08,   2.00000000e-08,   2.50000000e-08,\n",
       "            3.00000000e-08,   3.50000000e-08,   4.00000000e-08,\n",
       "            4.50000000e-08,   5.00000000e-08,   5.50000000e-08,\n",
       "            6.00000000e-08,   6.50000000e-08,   7.00000000e-08,\n",
       "            7.50000000e-08,   8.00000000e-08,   8.50000000e-08,\n",
       "            9.00000000e-08,   9.50000000e-08,   1.00000000e-07]),),\n",
       "  array([ 0.00030727+0.01834475j,  0.00025024+0.01840901j,\n",
       "          0.00034302+0.01830447j,  0.00046292+0.01816937j,\n",
       "          0.00045140+0.01818235j,  0.00032369+0.01832624j,\n",
       "          0.00024867+0.01841077j,  0.00032553+0.01832417j,\n",
       "          0.00045264+0.01818095j,  0.00046192+0.0181705j ,\n",
       "          0.00034110+0.01830662j,  0.00024994+0.01840933j,\n",
       "          0.00030899+0.01834281j,  0.00044015+0.01819503j,\n",
       "          0.00047000+0.01816139j,  0.00035907+0.01828638j,\n",
       "          0.00025404+0.01840472j,  0.00029380+0.01835992j,\n",
       "          0.00042577+0.01821124j,  0.00047544+0.01815527j,\n",
       "          0.00037714+0.01826602j]),\n",
       "  {'log': None},\n",
       "  ('s',))}"
      ]
     },
     "execution_count": 58,
     "metadata": {},
     "output_type": "execute_result"
    }
   ],
   "source": [
    "measurement"
   ]
  },
  {
   "cell_type": "code",
   "execution_count": 59,
   "metadata": {},
   "outputs": [
    {
     "data": {
      "text/plain": [
       "21"
      ]
     },
     "execution_count": 59,
     "metadata": {},
     "output_type": "execute_result"
    }
   ],
   "source": [
    "measurement['S21-'][1][0]\n",
    "S21_pre=measurement['S21-'][1][0][::2]\n",
    "S21_post=measurement['S21-'][1][0][1::2]\n",
    "len(measurement['S21-'][1][0])"
   ]
  },
  {
   "cell_type": "code",
   "execution_count": 81,
   "metadata": {},
   "outputs": [
    {
     "data": {
      "text/plain": [
       "1.0964973968539368e-08"
      ]
     },
     "execution_count": 81,
     "metadata": {},
     "output_type": "execute_result"
    }
   ],
   "source": [
    "1/rabi_freqs[0]/4"
   ]
  },
  {
   "cell_type": "code",
   "execution_count": 83,
   "metadata": {},
   "outputs": [
    {
     "data": {
      "application/vnd.jupyter.widget-view+json": {
       "model_id": "54faa7b5837a4fb1a18e2798cc091897"
      }
     },
     "metadata": {},
     "output_type": "display_data"
    },
    {
     "name": "stdout",
     "output_type": "stream",
     "text": [
      "Started at:  Jul 23 2018 01:46:37\n",
      "6\n"
     ]
    },
    {
     "name": "stderr",
     "output_type": "stream",
     "text": [
      "C:\\ProgramData\\Anaconda2\\envs\\py36\\lib\\site-packages\\numpy\\lib\\function_base.py:2006: RuntimeWarning: invalid value encountered in remainder\n",
      "  ddmod = mod(dd + pi, 2*pi) - pi\n",
      "C:\\ProgramData\\Anaconda2\\envs\\py36\\lib\\site-packages\\numpy\\lib\\function_base.py:2007: RuntimeWarning: invalid value encountered in greater\n",
      "  _nx.copyto(ddmod, pi, where=(ddmod == -pi) & (dd > 0))\n",
      "C:\\ProgramData\\Anaconda2\\envs\\py36\\lib\\site-packages\\numpy\\lib\\function_base.py:2009: RuntimeWarning: invalid value encountered in less\n",
      "  _nx.copyto(ph_correct, 0, where=abs(dd) < discont)\n",
      "Exception in thread Thread-43:\n",
      "Traceback (most recent call last):\n",
      "  File \"C:\\ProgramData\\Anaconda2\\envs\\py36\\lib\\threading.py\", line 916, in _bootstrap_inner\n",
      "    self.run()\n",
      "  File \"C:\\ProgramData\\Anaconda2\\envs\\py36\\lib\\threading.py\", line 864, in run\n",
      "    self._target(*self._args, **self._kwargs)\n",
      "  File \"C:\\Users\\demouser\\Desktop\\Quantum\\qsweepy\\sweep.py\", line 188, in main_sweep_loop\n",
      "    setter(val)\n",
      "  File \"<ipython-input-83-88226541e76a>\", line 11, in set_ex_amp\n",
      "    sequence = [pg.p(ex_channel, pi2_length, pg.gauss_hd,  amp, 0, sigma,0)]*num_pulses+               [pg.p('ro_trg', trg_length, pg.rect, 1),\n",
      "  File \"C:\\Users\\demouser\\Desktop\\Quantum\\qsweepy\\tomography.py\", line 60, in p\n",
      "    pulses[channel] = pulse_type(channel, length, *params)\n",
      "TypeError: gauss_hd() takes from 5 to 6 positional arguments but 7 were given\n",
      "\n",
      "C:\\Users\\demouser\\Desktop\\Quantum\\qsweepy\\plotting.py:343: RuntimeWarning: All-NaN axis encountered\n",
      "  plot.set_clim(np.nanmin(data), np.nanmax(data))\n",
      "C:\\Users\\demouser\\Desktop\\Quantum\\qsweepy\\plotting.py:343: RuntimeWarning: All-NaN slice encountered\n",
      "  plot.set_clim(np.nanmin(data), np.nanmax(data))\n"
     ]
    },
    {
     "ename": "FileNotFoundError",
     "evalue": "[Errno 2] No such file or directory: 'C:\\\\Users\\\\demouser\\\\Desktop\\\\Quantum\\\\data/2018-07-23/01-46-37-Rabi/'",
     "output_type": "error",
     "traceback": [
      "\u001b[1;31m---------------------------------------------------------------------------\u001b[0m",
      "\u001b[1;31mKeyboardInterrupt\u001b[0m                         Traceback (most recent call last)",
      "\u001b[1;32mC:\\Users\\demouser\\Desktop\\Quantum\\qsweepy\\sweep.py\u001b[0m in \u001b[0;36msweep\u001b[1;34m(measurer, filename, root_dir, plot, plot_separate_thread, header, output, save, time_war_label, bot, *params)\u001b[0m\n\u001b[0;32m    263\u001b[0m                         \u001b[0macq_thread\u001b[0m\u001b[1;33m.\u001b[0m\u001b[0mstart\u001b[0m\u001b[1;33m(\u001b[0m\u001b[1;33m)\u001b[0m\u001b[1;33m\u001b[0m\u001b[0m\n\u001b[1;32m--> 264\u001b[1;33m                         \u001b[0mplot_thread\u001b[0m\u001b[1;33m(\u001b[0m\u001b[1;33m)\u001b[0m\u001b[1;33m\u001b[0m\u001b[0m\n\u001b[0m\u001b[0;32m    265\u001b[0m \u001b[1;33m\u001b[0m\u001b[0m\n",
      "\u001b[1;32mC:\\Users\\demouser\\Desktop\\Quantum\\qsweepy\\sweep.py\u001b[0m in \u001b[0;36mplot_thread\u001b[1;34m()\u001b[0m\n\u001b[0;32m    251\u001b[0m                                         \u001b[1;32mif\u001b[0m \u001b[0msweep_error\u001b[0m\u001b[1;33m:\u001b[0m\u001b[1;33m\u001b[0m\u001b[0m\n\u001b[1;32m--> 252\u001b[1;33m                                                 \u001b[1;32mraise\u001b[0m \u001b[0mKeyboardInterrupt\u001b[0m\u001b[1;33m\u001b[0m\u001b[0m\n\u001b[0m\u001b[0;32m    253\u001b[0m                                         \u001b[1;32mif\u001b[0m \u001b[0mplot_thread_point_id\u001b[0m \u001b[1;33m<\u001b[0m \u001b[0mdone_sweeps\u001b[0m\u001b[1;33m:\u001b[0m\u001b[1;33m\u001b[0m\u001b[0m\n",
      "\u001b[1;31mKeyboardInterrupt\u001b[0m: ",
      "\nDuring handling of the above exception, another exception occurred:\n",
      "\u001b[1;31mFileNotFoundError\u001b[0m                         Traceback (most recent call last)",
      "\u001b[1;32mC:\\ProgramData\\Anaconda2\\envs\\py36\\lib\\shutil.py\u001b[0m in \u001b[0;36mmove\u001b[1;34m(src, dst, copy_function)\u001b[0m\n\u001b[0;32m    543\u001b[0m     \u001b[1;32mtry\u001b[0m\u001b[1;33m:\u001b[0m\u001b[1;33m\u001b[0m\u001b[0m\n\u001b[1;32m--> 544\u001b[1;33m         \u001b[0mos\u001b[0m\u001b[1;33m.\u001b[0m\u001b[0mrename\u001b[0m\u001b[1;33m(\u001b[0m\u001b[0msrc\u001b[0m\u001b[1;33m,\u001b[0m \u001b[0mreal_dst\u001b[0m\u001b[1;33m)\u001b[0m\u001b[1;33m\u001b[0m\u001b[0m\n\u001b[0m\u001b[0;32m    545\u001b[0m     \u001b[1;32mexcept\u001b[0m \u001b[0mOSError\u001b[0m\u001b[1;33m:\u001b[0m\u001b[1;33m\u001b[0m\u001b[0m\n",
      "\u001b[1;31mFileNotFoundError\u001b[0m: [WinError 2] The system cannot find the file specified: 'C:\\\\Users\\\\demouser\\\\Desktop\\\\Quantum\\\\data/2018-07-23/01-46-37-Rabi/' -> 'C:\\\\Users\\\\demouser\\\\Desktop\\\\Quantum\\\\data/unfinished/2018-07-23/01-46-37-Rabi\\\\01-46-37-Rabi'",
      "\nDuring handling of the above exception, another exception occurred:\n",
      "\u001b[1;31mFileNotFoundError\u001b[0m                         Traceback (most recent call last)",
      "\u001b[1;32m<ipython-input-83-88226541e76a>\u001b[0m in \u001b[0;36m<module>\u001b[1;34m()\u001b[0m\n\u001b[0;32m     15\u001b[0m \u001b[1;33m\u001b[0m\u001b[0m\n\u001b[0;32m     16\u001b[0m     \u001b[0mawg_tek\u001b[0m\u001b[1;33m.\u001b[0m\u001b[0mrun\u001b[0m\u001b[1;33m(\u001b[0m\u001b[1;33m)\u001b[0m\u001b[1;33m\u001b[0m\u001b[0m\n\u001b[1;32m---> 17\u001b[1;33m \u001b[0mmeasurement\u001b[0m \u001b[1;33m=\u001b[0m \u001b[0msweep\u001b[0m\u001b[1;33m.\u001b[0m\u001b[0msweep\u001b[0m\u001b[1;33m(\u001b[0m\u001b[0madc_reducer\u001b[0m\u001b[1;33m,\u001b[0m \u001b[1;33m(\u001b[0m\u001b[0mex_amps\u001b[0m\u001b[1;33m,\u001b[0m \u001b[0mset_ex_amp\u001b[0m\u001b[1;33m,\u001b[0m \u001b[1;34m'Rabi pulse amplitude'\u001b[0m\u001b[1;33m)\u001b[0m\u001b[1;33m,\u001b[0m \u001b[0mfilename\u001b[0m\u001b[1;33m=\u001b[0m\u001b[1;34m'Rabi'\u001b[0m\u001b[1;33m)\u001b[0m\u001b[1;33m\u001b[0m\u001b[0m\n\u001b[0m",
      "\u001b[1;32mC:\\Users\\demouser\\Desktop\\Quantum\\qsweepy\\sweep.py\u001b[0m in \u001b[0;36msweep\u001b[1;34m(measurer, filename, root_dir, plot, plot_separate_thread, header, output, save, time_war_label, bot, *params)\u001b[0m\n\u001b[0;32m    279\u001b[0m                 \u001b[0mpathlib\u001b[0m\u001b[1;33m.\u001b[0m\u001b[0mPath\u001b[0m\u001b[1;33m(\u001b[0m\u001b[0mdirectory_to\u001b[0m\u001b[1;33m)\u001b[0m\u001b[1;33m.\u001b[0m\u001b[0mparent\u001b[0m\u001b[1;33m.\u001b[0m\u001b[0mmkdir\u001b[0m\u001b[1;33m(\u001b[0m\u001b[0mparents\u001b[0m\u001b[1;33m=\u001b[0m\u001b[1;32mTrue\u001b[0m\u001b[1;33m,\u001b[0m \u001b[0mexist_ok\u001b[0m\u001b[1;33m=\u001b[0m\u001b[1;32mTrue\u001b[0m\u001b[1;33m)\u001b[0m \u001b[1;31m# create top-level directory for moving\u001b[0m\u001b[1;33m\u001b[0m\u001b[0m\n\u001b[0;32m    280\u001b[0m                 \u001b[0msh\u001b[0m\u001b[1;33m.\u001b[0m\u001b[0mmove\u001b[0m\u001b[1;33m(\u001b[0m\u001b[0mdata_dir\u001b[0m\u001b[1;33m,\u001b[0m\u001b[0mdirectory_to\u001b[0m\u001b[1;33m)\u001b[0m\u001b[1;33m\u001b[0m\u001b[0m\n\u001b[1;32m--> 281\u001b[1;33m                 \u001b[0mdirectory_to\u001b[0m \u001b[1;33m=\u001b[0m \u001b[0msh\u001b[0m\u001b[1;33m.\u001b[0m\u001b[0mmove\u001b[0m\u001b[1;33m(\u001b[0m\u001b[0mdata_dir\u001b[0m\u001b[1;33m,\u001b[0m\u001b[0mdirectory_to\u001b[0m\u001b[1;33m)\u001b[0m\u001b[1;33m\u001b[0m\u001b[0m\n\u001b[0m\u001b[0;32m    282\u001b[0m                 \u001b[0mdata_dir\u001b[0m \u001b[1;33m=\u001b[0m \u001b[0mdirectory_to\u001b[0m\u001b[1;33m\u001b[0m\u001b[0m\n\u001b[0;32m    283\u001b[0m         \u001b[1;32mfinally\u001b[0m\u001b[1;33m:\u001b[0m\u001b[1;33m\u001b[0m\u001b[0m\n",
      "\u001b[1;32mC:\\ProgramData\\Anaconda2\\envs\\py36\\lib\\shutil.py\u001b[0m in \u001b[0;36mmove\u001b[1;34m(src, dst, copy_function)\u001b[0m\n\u001b[0;32m    556\u001b[0m             \u001b[0mrmtree\u001b[0m\u001b[1;33m(\u001b[0m\u001b[0msrc\u001b[0m\u001b[1;33m)\u001b[0m\u001b[1;33m\u001b[0m\u001b[0m\n\u001b[0;32m    557\u001b[0m         \u001b[1;32melse\u001b[0m\u001b[1;33m:\u001b[0m\u001b[1;33m\u001b[0m\u001b[0m\n\u001b[1;32m--> 558\u001b[1;33m             \u001b[0mcopy_function\u001b[0m\u001b[1;33m(\u001b[0m\u001b[0msrc\u001b[0m\u001b[1;33m,\u001b[0m \u001b[0mreal_dst\u001b[0m\u001b[1;33m)\u001b[0m\u001b[1;33m\u001b[0m\u001b[0m\n\u001b[0m\u001b[0;32m    559\u001b[0m             \u001b[0mos\u001b[0m\u001b[1;33m.\u001b[0m\u001b[0munlink\u001b[0m\u001b[1;33m(\u001b[0m\u001b[0msrc\u001b[0m\u001b[1;33m)\u001b[0m\u001b[1;33m\u001b[0m\u001b[0m\n\u001b[0;32m    560\u001b[0m     \u001b[1;32mreturn\u001b[0m \u001b[0mreal_dst\u001b[0m\u001b[1;33m\u001b[0m\u001b[0m\n",
      "\u001b[1;32mC:\\ProgramData\\Anaconda2\\envs\\py36\\lib\\shutil.py\u001b[0m in \u001b[0;36mcopy2\u001b[1;34m(src, dst, follow_symlinks)\u001b[0m\n\u001b[0;32m    255\u001b[0m     \u001b[1;32mif\u001b[0m \u001b[0mos\u001b[0m\u001b[1;33m.\u001b[0m\u001b[0mpath\u001b[0m\u001b[1;33m.\u001b[0m\u001b[0misdir\u001b[0m\u001b[1;33m(\u001b[0m\u001b[0mdst\u001b[0m\u001b[1;33m)\u001b[0m\u001b[1;33m:\u001b[0m\u001b[1;33m\u001b[0m\u001b[0m\n\u001b[0;32m    256\u001b[0m         \u001b[0mdst\u001b[0m \u001b[1;33m=\u001b[0m \u001b[0mos\u001b[0m\u001b[1;33m.\u001b[0m\u001b[0mpath\u001b[0m\u001b[1;33m.\u001b[0m\u001b[0mjoin\u001b[0m\u001b[1;33m(\u001b[0m\u001b[0mdst\u001b[0m\u001b[1;33m,\u001b[0m \u001b[0mos\u001b[0m\u001b[1;33m.\u001b[0m\u001b[0mpath\u001b[0m\u001b[1;33m.\u001b[0m\u001b[0mbasename\u001b[0m\u001b[1;33m(\u001b[0m\u001b[0msrc\u001b[0m\u001b[1;33m)\u001b[0m\u001b[1;33m)\u001b[0m\u001b[1;33m\u001b[0m\u001b[0m\n\u001b[1;32m--> 257\u001b[1;33m     \u001b[0mcopyfile\u001b[0m\u001b[1;33m(\u001b[0m\u001b[0msrc\u001b[0m\u001b[1;33m,\u001b[0m \u001b[0mdst\u001b[0m\u001b[1;33m,\u001b[0m \u001b[0mfollow_symlinks\u001b[0m\u001b[1;33m=\u001b[0m\u001b[0mfollow_symlinks\u001b[0m\u001b[1;33m)\u001b[0m\u001b[1;33m\u001b[0m\u001b[0m\n\u001b[0m\u001b[0;32m    258\u001b[0m     \u001b[0mcopystat\u001b[0m\u001b[1;33m(\u001b[0m\u001b[0msrc\u001b[0m\u001b[1;33m,\u001b[0m \u001b[0mdst\u001b[0m\u001b[1;33m,\u001b[0m \u001b[0mfollow_symlinks\u001b[0m\u001b[1;33m=\u001b[0m\u001b[0mfollow_symlinks\u001b[0m\u001b[1;33m)\u001b[0m\u001b[1;33m\u001b[0m\u001b[0m\n\u001b[0;32m    259\u001b[0m     \u001b[1;32mreturn\u001b[0m \u001b[0mdst\u001b[0m\u001b[1;33m\u001b[0m\u001b[0m\n",
      "\u001b[1;32mC:\\ProgramData\\Anaconda2\\envs\\py36\\lib\\shutil.py\u001b[0m in \u001b[0;36mcopyfile\u001b[1;34m(src, dst, follow_symlinks)\u001b[0m\n\u001b[0;32m    118\u001b[0m         \u001b[0mos\u001b[0m\u001b[1;33m.\u001b[0m\u001b[0msymlink\u001b[0m\u001b[1;33m(\u001b[0m\u001b[0mos\u001b[0m\u001b[1;33m.\u001b[0m\u001b[0mreadlink\u001b[0m\u001b[1;33m(\u001b[0m\u001b[0msrc\u001b[0m\u001b[1;33m)\u001b[0m\u001b[1;33m,\u001b[0m \u001b[0mdst\u001b[0m\u001b[1;33m)\u001b[0m\u001b[1;33m\u001b[0m\u001b[0m\n\u001b[0;32m    119\u001b[0m     \u001b[1;32melse\u001b[0m\u001b[1;33m:\u001b[0m\u001b[1;33m\u001b[0m\u001b[0m\n\u001b[1;32m--> 120\u001b[1;33m         \u001b[1;32mwith\u001b[0m \u001b[0mopen\u001b[0m\u001b[1;33m(\u001b[0m\u001b[0msrc\u001b[0m\u001b[1;33m,\u001b[0m \u001b[1;34m'rb'\u001b[0m\u001b[1;33m)\u001b[0m \u001b[1;32mas\u001b[0m \u001b[0mfsrc\u001b[0m\u001b[1;33m:\u001b[0m\u001b[1;33m\u001b[0m\u001b[0m\n\u001b[0m\u001b[0;32m    121\u001b[0m             \u001b[1;32mwith\u001b[0m \u001b[0mopen\u001b[0m\u001b[1;33m(\u001b[0m\u001b[0mdst\u001b[0m\u001b[1;33m,\u001b[0m \u001b[1;34m'wb'\u001b[0m\u001b[1;33m)\u001b[0m \u001b[1;32mas\u001b[0m \u001b[0mfdst\u001b[0m\u001b[1;33m:\u001b[0m\u001b[1;33m\u001b[0m\u001b[0m\n\u001b[0;32m    122\u001b[0m                 \u001b[0mcopyfileobj\u001b[0m\u001b[1;33m(\u001b[0m\u001b[0mfsrc\u001b[0m\u001b[1;33m,\u001b[0m \u001b[0mfdst\u001b[0m\u001b[1;33m)\u001b[0m\u001b[1;33m\u001b[0m\u001b[0m\n",
      "\u001b[1;31mFileNotFoundError\u001b[0m: [Errno 2] No such file or directory: 'C:\\\\Users\\\\demouser\\\\Desktop\\\\Quantum\\\\data/2018-07-23/01-46-37-Rabi/'"
     ]
    }
   ],
   "source": [
    "ex_amps = np.linspace(0.75,1.0,21)\n",
    "#pause_length = 32e-9\n",
    "pi2_length = 11e-9\n",
    "sigma = 4e-9\n",
    "num_pulses = 16\n",
    "ex_channel = 'iq_ex_00-1-01'\n",
    "readout_begin = np.max((pi2_length+pause_length)*num_pulses)\n",
    "def set_ex_amp(amp):\n",
    "    awg_tek.set_nop(awg_tek.get_clock()/rep_rate)\n",
    "    \n",
    "    sequence = [pg.p(ex_channel, pi2_length, pg.gauss_hd,  amp, 0, sigma,0)]*num_pulses+\\\n",
    "               [pg.p('ro_trg', trg_length, pg.rect, 1), \n",
    "                pg.p('iq_ro', ro_dac_length, pg.rect, ro_amplitude)]\n",
    "    #print(sequence)\n",
    "    pg.set_seq(sequence)\n",
    "    \n",
    "    awg_tek.run()\n",
    "measurement = sweep.sweep(adc_reducer, (ex_amps, set_ex_amp, 'Rabi pulse amplitude'), filename='Rabi')"
   ]
  },
  {
   "cell_type": "markdown",
   "metadata": {},
   "source": [
    "# Optimizing readout pulse settings"
   ]
  },
  {
   "cell_type": "code",
   "execution_count": 94,
   "metadata": {
    "collapsed": true
   },
   "outputs": [],
   "source": [
    "#+ \n",
    "#amp_x=0.554\n",
    "#amp_y=0.554\n",
    "#sigma = 2e-9\n",
    "#amp_x=0.29\n",
    "#amp_y=0.29\n",
    "# Кубит #4, импульсы 8 нс\n",
    "#pause_length = 2e-9\n",
    "#length = 10e-9 # Длительность импульса \n",
    "#sigma = 2.5e-9 # Срез импульса (в сигмах) = Длительност/сигма\n",
    "#amp=0.893\n",
    "#amp_y=0.880\n",
    "#anharmonicity = -200e6\n",
    "#alpha_dimensionless = 0.724\n",
    "# Кубит #4, импульсы 16 нс\n",
    "#pause_length = 0e-9\n",
    "#length = 16e-9 # Длительность импульса \n",
    "#sigma = 3e-9 # Срез импульса (в сигмах) = Длительност/сигма\n",
    "#amp=0.322\n",
    "#anharmonicity = -200e6\n",
    "#alpha_dimensionless = 0.909#553\n",
    "#alpha = -alpha_dimensionless/(anharmonicity*2*np.pi)\n",
    "#xy_acorr = 0.003\n",
    "#amp_y_raw=0.322#\n",
    "amp=0.3245\n",
    "amp2=0.655\n",
    "length=16e-9\n",
    "sigma=3e-9\n",
    "anharmonicity=-227e6\n",
    "pause_length=0\n",
    "alpha_dimensionless =1.035\n",
    "# alpha_dimensionless =1.1\n",
    "alpha = -alpha_dimensionless/(anharmonicity*2*np.pi)\n",
    "xy_acorr =0.0\n",
    "amp_y_raw=0.3245\n",
    "amp_y=amp_y_raw*np.exp(1j*xy_acorr)"
   ]
  },
  {
   "cell_type": "code",
   "execution_count": 95,
   "metadata": {
    "collapsed": true
   },
   "outputs": [],
   "source": [
    "#parametres\n",
    "#ampx_pi_half\n",
    "#ampx_pi\n",
    "#ampy_pi_half\n",
    "#ampy_pi\n",
    "ength=16e-9\n",
    "sigma=3e-9\n",
    "anharmonicity=-227e6\n",
    "alpha_dimensionless =1.035\n",
    "alpha = -alpha_dimensionless/(anharmonicity*2*np.pi)"
   ]
  },
  {
   "cell_type": "code",
   "execution_count": 96,
   "metadata": {
    "collapsed": true
   },
   "outputs": [],
   "source": [
    "pi2_pulse= 16e-9\n",
    "ex_amplitude = 0.8\n",
    "#ro_dac_amplitude =0.42\n",
    "#ro_dac_length = 670e-9\n",
    "pause_length = 0e-9\n",
    "ro_seq_osc = 10\n",
    "rel_amp = 0.5\n",
    "pi2_tukey = 100e-9\n",
    "amp_tukey = 0.845\n",
    "pi2_hann = 62e-9\n",
    "amp_hann = 0.63\n",
    "pi2_gauss = 32e-9\n",
    "sigma_gauss=8e-9\n",
    "amp_gauss = 0.887\n",
    "anharmonicity=-200e6\n",
    "alpha_gauss_dimensionless = -0.630\n",
    "alpha_gauss = alpha_gauss_dimensionless/(2*np.pi*anharmonicity)\n",
    "\n",
    "ro_dac_amplitude = 0.1\n",
    "ro_dac_length = 800e-9\n",
    "ro_seq_osc = 10\n",
    "\n",
    "length = pi2_gauss\n",
    "pulse_type = pg.gauss_hd\n",
    "transition_length = sigma_gauss\n",
    "amp = amp_gauss\n",
    "alpha = alpha_gauss"
   ]
  },
  {
   "cell_type": "code",
   "execution_count": 97,
   "metadata": {},
   "outputs": [
    {
     "data": {
      "text/plain": [
       "<module 'qsweepy.data_reduce' from 'C:\\\\Users\\\\demouser\\\\Desktop\\\\Quantum\\\\qsweepy\\\\data_reduce.py'>"
      ]
     },
     "execution_count": 97,
     "metadata": {},
     "output_type": "execute_result"
    }
   ],
   "source": [
    "imp.reload(tomography_new)\n",
    "imp.reload(awg_iq)\n",
    "imp.reload(data_reduce)\n",
    "#import readout_classifier\n",
    "#imp.reload(readout_classifier)"
   ]
  },
  {
   "cell_type": "code",
   "execution_count": 98,
   "metadata": {},
   "outputs": [
    {
     "ename": "AttributeError",
     "evalue": "'Keysight_M3102A' object has no attribute 'stop'",
     "output_type": "error",
     "traceback": [
      "\u001b[1;31m---------------------------------------------------------------------------\u001b[0m",
      "\u001b[1;31mAttributeError\u001b[0m                            Traceback (most recent call last)",
      "\u001b[1;32m<ipython-input-98-87e8175c1c91>\u001b[0m in \u001b[0;36m<module>\u001b[1;34m()\u001b[0m\n\u001b[1;32m----> 1\u001b[1;33m \u001b[0madc\u001b[0m\u001b[1;33m.\u001b[0m\u001b[0mstop\u001b[0m\u001b[1;33m(\u001b[0m\u001b[1;33m)\u001b[0m\u001b[1;33m\u001b[0m\u001b[0m\n\u001b[0m",
      "\u001b[1;31mAttributeError\u001b[0m: 'Keysight_M3102A' object has no attribute 'stop'"
     ]
    }
   ],
   "source": [
    "adc.stop()"
   ]
  },
  {
   "cell_type": "code",
   "execution_count": 102,
   "metadata": {
    "collapsed": true
   },
   "outputs": [],
   "source": [
    "# To calibrate we need a pi-pulse. Two choices are available, either we use a rectangular pulse or a gaussian pulse.\n",
    "# The pulse is used to excite the qubit with high probability.\n",
    "ex_calib_seq = [pg.p('iq_ex_00-1-01', length, pulse_type, amp, transition_length, alpha), pg.p(None, pause_length),\\\n",
    "                pg.p('iq_ex_00-1-01', length, pulse_type, amp, transition_length, alpha), pg.p(None, pause_length)] # gaussian pulse\n",
    "ex_calib_seq_zero = [pg.p('iq_ex_00-1-01', length, pulse_type,  amp, transition_length, alpha), pg.p(None, pause_length),\\\n",
    "                     pg.p('iq_ex_00-1-01', length, pulse_type, -amp, transition_length, alpha), pg.p(None, pause_length)] # gaussian pulse\n",
    "\n",
    "#ex_calib_seq = [pg.p('iq_ex', length, pulse_type, amp, transition_length), pg.p(None, pause_length)]*2 # gaussian pulse\n",
    "#ex_calib_seq_zero = [pg.p('iq_ex', length, pulse_type, amp, transition_length), pg.p(None, pause_length),\n",
    "#                     pg.p('iq_ex', length, pulse_type, -amp, transition_length), pg.p(None, pause_length),] # gaussian pulse\n",
    "ro_seq = [pg.p('ro_trg', trg_length, pg.rect, 1), \n",
    "                pg.p('iq_ro', ro_dac_length/3., pg.rect, ro_dac_amplitude), \n",
    "                pg.p('iq_ro', ro_dac_length/3., pg.rect, -2*ro_dac_amplitude), \n",
    "                pg.p('iq_ro', ro_dac_length/3., pg.rect, 2*ro_dac_amplitude) ]\n",
    "downsampled_adc = data_reduce.data_reduce(adc)\n",
    "downsampled_adc.filters['Voltage'] = data_reduce.downsample_reducer(adc, 'Voltage', 1, 62.5e6, iq=True, downsample=8)\n",
    "adc_sz = tomography_new.sz_measurer(downsampled_adc, ex_calib_seq, ro_seq, pg, ex_seq_zero=ex_calib_seq_zero)\n",
    "adc_sz.cutoff_start = 0\n",
    "#adc.set_software_nums_multi(1)\n",
    "adc_sz.repeat_samples = 1\n",
    "adc_sz.prepare_seqs = [ex_calib_seq_zero, ex_calib_seq]\n",
    "\n",
    "target_min = lambda: 1-adc_sz.measure()['Calibrated fidelity binary']\n",
    "\n",
    "class ro_pulse_generator:\n",
    "    def __init__(self, adc_sz, ro_dac_amplitude, ro_dac_length, ro_seq_osc=1):\n",
    "        self.ro_dac_amplitude = ro_dac_amplitude\n",
    "        self.ro_dac_length = ro_dac_length\n",
    "        self.adc_sz = adc_sz\n",
    "        self.ro_seq_osc = ro_seq_osc\n",
    "        self.initial_pulse_rel_amplitude = 0.5\n",
    "    def set_ro_seq_osc(self, ro_seq_osc):\n",
    "        self.ro_seq_osc = ro_seq_osc\n",
    "        self.make_ro_seq()\n",
    "    def set_initial_pulse_rel_amplitude(self, rel_amp):\n",
    "        self.initial_pulse_rel_amplitude = rel_amp\n",
    "        self.make_ro_seq()\n",
    "    def make_ro_seq(self):\n",
    "        pl = self.ro_dac_length/(self.ro_seq_osc)\n",
    "        adc_sz.ro_seq = [pg.p(None, 2e-09),\n",
    "            pg.p('ro_trg', trg_length, pg.rect, 1), \n",
    "                pg.p('iq_ro', pl, pg.rect, self.ro_dac_amplitude*self.initial_pulse_rel_amplitude)]+\\\n",
    "               [pg.p('iq_ro', pl, pg.rect, (-(-1)**i)*self.ro_dac_amplitude) for i in range(self.ro_seq_osc-1)]\n",
    "    def set_ro_length(self, ro_dac_length):\n",
    "        self.ro_dac_length = ro_dac_length\n",
    "        self.make_ro_seq()\n",
    "    def set_ro_amplitude(self, ro_amplitude):\n",
    "        self.ro_dac_amplitude = ro_dac_amplitude\n",
    "        self.make_ro_seq()\n",
    "\n",
    "ro_dac_lengths = np.linspace(0.0e-6, 1.0e-6, 21)\n",
    "ro_dac_amplitudes = np.linspace(0.0,0.5, 21)\n",
    "rel_amps = np.linspace(0.4, 0.6, 21)\n",
    "#ro_dac_length = 300e-9\n",
    "\n",
    "ro_pulse_generator_inst = ro_pulse_generator(adc_sz, ro_dac_amplitude, ro_dac_length, 1)\n",
    "#solution, score = sweep.optimize(target_min, (ro_pulse_generator_inst.set_ro_length, 3e-8), \n",
    "#                                             (ro_pulse_generator_inst.set_ro_amplitude, 0.9), maxfun=30)\n",
    "\n",
    "#ro_dac_length = solution[0]\n",
    "#ro_dac_amplitude = solution[1]"
   ]
  },
  {
   "cell_type": "code",
   "execution_count": 44,
   "metadata": {
    "collapsed": true
   },
   "outputs": [],
   "source": [
    "adc.stop()"
   ]
  },
  {
   "cell_type": "code",
   "execution_count": 103,
   "metadata": {
    "scrolled": true
   },
   "outputs": [
    {
     "data": {
      "application/vnd.jupyter.widget-view+json": {
       "model_id": "1a997cf622bb4a0b8509005c6802cd9e"
      }
     },
     "metadata": {},
     "output_type": "display_data"
    },
    {
     "name": "stdout",
     "output_type": "stream",
     "text": [
      "Started at:  Jul 23 2018 02:10:40\n"
     ]
    },
    {
     "name": "stderr",
     "output_type": "stream",
     "text": [
      "C:\\Users\\demouser\\Desktop\\Quantum\\qsweepy\\plotting.py:64: RuntimeWarning: invalid value encountered in sqrt\n",
      "  num_cols = int(np.ceil(np.sqrt(num_axes*(4/3))))\n"
     ]
    },
    {
     "ename": "ValueError",
     "evalue": "cannot convert float NaN to integer",
     "output_type": "error",
     "traceback": [
      "\u001b[1;31m---------------------------------------------------------------------------\u001b[0m",
      "\u001b[1;31mValueError\u001b[0m                                Traceback (most recent call last)",
      "\u001b[1;32m<ipython-input-103-ea929fc2da77>\u001b[0m in \u001b[0;36m<module>\u001b[1;34m()\u001b[0m\n\u001b[0;32m      6\u001b[0m                                  \u001b[1;31m#(rel_amps, ro_pulse_generator_inst.set_initial_pulse_rel_amplitude, 'initial pulse amplitude'),\u001b[0m\u001b[1;33m\u001b[0m\u001b[1;33m\u001b[0m\u001b[0m\n\u001b[0;32m      7\u001b[0m                                 \u001b[1;31m#(np.arange(1, 10), ro_pulse_generator_inst.set_ro_seq_osc, 'Readout pulse oscillation num'),\u001b[0m\u001b[1;33m\u001b[0m\u001b[1;33m\u001b[0m\u001b[0m\n\u001b[1;32m----> 8\u001b[1;33m                                  \u001b[1;33m(\u001b[0m\u001b[0mro_dac_lengths\u001b[0m\u001b[1;33m,\u001b[0m \u001b[0mro_pulse_generator_inst\u001b[0m\u001b[1;33m.\u001b[0m\u001b[0mset_ro_length\u001b[0m\u001b[1;33m,\u001b[0m \u001b[1;34m'Readout pulse length'\u001b[0m\u001b[1;33m)\u001b[0m\u001b[1;33m\u001b[0m\u001b[0m\n\u001b[0m\u001b[0;32m      9\u001b[0m                     \u001b[1;31m#(ro_dac_amplitudes, ro_pulse_generator_inst.set_ro_amplitude, 'Readout pulse amplitude')\u001b[0m\u001b[1;33m\u001b[0m\u001b[1;33m\u001b[0m\u001b[0m\n\u001b[0;32m     10\u001b[0m                                 )\n",
      "\u001b[1;32mC:\\Users\\demouser\\Desktop\\Quantum\\qsweepy\\sweep.py\u001b[0m in \u001b[0;36msweep\u001b[1;34m(measurer, filename, root_dir, plot, plot_separate_thread, header, output, save, time_war_label, bot, *params)\u001b[0m\n\u001b[0;32m    138\u001b[0m         \u001b[1;32mif\u001b[0m \u001b[0mplot\u001b[0m\u001b[1;33m:\u001b[0m\u001b[1;33m\u001b[0m\u001b[0m\n\u001b[0;32m    139\u001b[0m                 \u001b[0mplot_update_start\u001b[0m \u001b[1;33m=\u001b[0m \u001b[0mtime\u001b[0m\u001b[1;33m.\u001b[0m\u001b[0mtime\u001b[0m\u001b[1;33m(\u001b[0m\u001b[1;33m)\u001b[0m\u001b[1;33m\u001b[0m\u001b[0m\n\u001b[1;32m--> 140\u001b[1;33m                 \u001b[0mplot_axes\u001b[0m \u001b[1;33m=\u001b[0m \u001b[0mplotting\u001b[0m\u001b[1;33m.\u001b[0m\u001b[0mplot_measurement\u001b[0m\u001b[1;33m(\u001b[0m\u001b[0mmk_measurement\u001b[0m\u001b[1;33m(\u001b[0m\u001b[1;36m0\u001b[0m\u001b[1;33m)\u001b[0m\u001b[1;33m,\u001b[0m \u001b[0mname\u001b[0m\u001b[1;33m=\u001b[0m\u001b[0mfilename\u001b[0m\u001b[1;33m)\u001b[0m\u001b[1;33m\u001b[0m\u001b[0m\n\u001b[0m\u001b[0;32m    141\u001b[0m                 \u001b[0mlast_plot_update\u001b[0m \u001b[1;33m=\u001b[0m \u001b[0mtime\u001b[0m\u001b[1;33m.\u001b[0m\u001b[0mtime\u001b[0m\u001b[1;33m(\u001b[0m\u001b[1;33m)\u001b[0m\u001b[1;33m\u001b[0m\u001b[0m\n\u001b[0;32m    142\u001b[0m                 \u001b[0mplot_update_time\u001b[0m \u001b[1;33m=\u001b[0m \u001b[0mlast_plot_update\u001b[0m \u001b[1;33m-\u001b[0m \u001b[0mplot_update_start\u001b[0m\u001b[1;33m\u001b[0m\u001b[0m\n",
      "\u001b[1;32mC:\\Users\\demouser\\Desktop\\Quantum\\qsweepy\\plotting.py\u001b[0m in \u001b[0;36mplot_measurement\u001b[1;34m(measurement, name, save, annotation, subplots)\u001b[0m\n\u001b[0;32m     62\u001b[0m \u001b[1;33m\u001b[0m\u001b[0m\n\u001b[0;32m     63\u001b[0m                 \u001b[1;31m#num_rows = np.sqrt(num_axes*(3/4))\u001b[0m\u001b[1;33m\u001b[0m\u001b[1;33m\u001b[0m\u001b[0m\n\u001b[1;32m---> 64\u001b[1;33m                 \u001b[0mnum_cols\u001b[0m \u001b[1;33m=\u001b[0m \u001b[0mint\u001b[0m\u001b[1;33m(\u001b[0m\u001b[0mnp\u001b[0m\u001b[1;33m.\u001b[0m\u001b[0mceil\u001b[0m\u001b[1;33m(\u001b[0m\u001b[0mnp\u001b[0m\u001b[1;33m.\u001b[0m\u001b[0msqrt\u001b[0m\u001b[1;33m(\u001b[0m\u001b[0mnum_axes\u001b[0m\u001b[1;33m*\u001b[0m\u001b[1;33m(\u001b[0m\u001b[1;36m4\u001b[0m\u001b[1;33m/\u001b[0m\u001b[1;36m3\u001b[0m\u001b[1;33m)\u001b[0m\u001b[1;33m)\u001b[0m\u001b[1;33m)\u001b[0m\u001b[1;33m)\u001b[0m\u001b[1;33m\u001b[0m\u001b[0m\n\u001b[0m\u001b[0;32m     65\u001b[0m                 \u001b[0mnum_rows\u001b[0m \u001b[1;33m=\u001b[0m \u001b[0mint\u001b[0m\u001b[1;33m(\u001b[0m\u001b[0mnp\u001b[0m\u001b[1;33m.\u001b[0m\u001b[0mceil\u001b[0m\u001b[1;33m(\u001b[0m\u001b[0mnum_axes\u001b[0m\u001b[1;33m/\u001b[0m\u001b[0mnum_cols\u001b[0m\u001b[1;33m)\u001b[0m\u001b[1;33m)\u001b[0m\u001b[1;33m\u001b[0m\u001b[0m\n\u001b[0;32m     66\u001b[0m \u001b[1;33m\u001b[0m\u001b[0m\n",
      "\u001b[1;31mValueError\u001b[0m: cannot convert float NaN to integer"
     ]
    }
   ],
   "source": [
    "ro_pulse_generator_inst.set_ro_amplitude(ro_dac_amplitude)\n",
    "ro_pulse_generator_inst.set_ro_length(ro_dac_length)\n",
    "ro_pulse_generator_inst.set_ro_seq_osc(ro_seq_osc)\n",
    "ro_pulse_generator_inst.set_initial_pulse_rel_amplitude(rel_amp)\n",
    "ro_amplitude_calib = sweep.sweep(adc_sz,\n",
    "                                 #(rel_amps, ro_pulse_generator_inst.set_initial_pulse_rel_amplitude, 'initial pulse amplitude'),\n",
    "                                #(np.arange(1, 10), ro_pulse_generator_inst.set_ro_seq_osc, 'Readout pulse oscillation num'),\n",
    "                                 (ro_dac_lengths, ro_pulse_generator_inst.set_ro_length, 'Readout pulse length')\n",
    "                    #(ro_dac_amplitudes, ro_pulse_generator_inst.set_ro_amplitude, 'Readout pulse amplitude')\n",
    "                                )\n",
    "#ro_dac_length = ro_amplitude_calib['Calibrated fidelity'][1][0][np.argmax(ro_amplitude_calib['Calibrated fidelity'][2])]\n",
    "\n",
    "adc.set_software_nums_multi(1)"
   ]
  },
  {
   "cell_type": "code",
   "execution_count": null,
   "metadata": {
    "collapsed": true
   },
   "outputs": [],
   "source": [
    "plt.figure('hists')\n",
    "plt.plot(adc_sz.predictor_class.proba_points, np.asarray(adc_sz.predictor_class.hists).T)"
   ]
  },
  {
   "cell_type": "code",
   "execution_count": 42,
   "metadata": {},
   "outputs": [
    {
     "name": "stdout",
     "output_type": "stream",
     "text": [
      "Calibrated optimal readout amplitude:  0.1 8e-07\n"
     ]
    },
    {
     "name": "stderr",
     "output_type": "stream",
     "text": [
      "D:\\qtlab_replacement\\instruments\\Tektronix_AWG5014.py:648: ComplexWarning: Casting complex values to real discards the imaginary part\n",
      "  m1[:] = marker[:len(m1)]\n"
     ]
    },
    {
     "ename": "ValueError",
     "evalue": "cannot reshape array of size 20480000 into shape (15000,256,8)",
     "output_type": "error",
     "traceback": [
      "\u001b[1;31m---------------------------------------------------------------------------\u001b[0m",
      "\u001b[1;31mValueError\u001b[0m                                Traceback (most recent call last)",
      "\u001b[1;32m<ipython-input-42-9c55029ad3cc>\u001b[0m in \u001b[0;36m<module>\u001b[1;34m()\u001b[0m\n\u001b[0;32m      4\u001b[0m \u001b[0mro_pulse_generator_inst\u001b[0m\u001b[1;33m.\u001b[0m\u001b[0mset_ro_length\u001b[0m\u001b[1;33m(\u001b[0m\u001b[0mro_dac_length\u001b[0m\u001b[1;33m)\u001b[0m\u001b[1;33m\u001b[0m\u001b[0m\n\u001b[0;32m      5\u001b[0m \u001b[0mro_pulse_generator_inst\u001b[0m\u001b[1;33m.\u001b[0m\u001b[0mset_ro_seq_osc\u001b[0m\u001b[1;33m(\u001b[0m\u001b[0mro_seq_osc\u001b[0m\u001b[1;33m)\u001b[0m\u001b[1;33m\u001b[0m\u001b[0m\n\u001b[1;32m----> 6\u001b[1;33m \u001b[0mcalib_meas\u001b[0m \u001b[1;33m=\u001b[0m \u001b[0madc_sz\u001b[0m\u001b[1;33m.\u001b[0m\u001b[0mmeasure\u001b[0m\u001b[1;33m(\u001b[0m\u001b[1;33m)\u001b[0m\u001b[1;33m\u001b[0m\u001b[0m\n\u001b[0m\u001b[0;32m      7\u001b[0m \u001b[0mplt\u001b[0m\u001b[1;33m.\u001b[0m\u001b[0mfigure\u001b[0m\u001b[1;33m(\u001b[0m\u001b[1;34m'hists'\u001b[0m\u001b[1;33m)\u001b[0m\u001b[1;33m\u001b[0m\u001b[0m\n\u001b[0;32m      8\u001b[0m \u001b[0mplt\u001b[0m\u001b[1;33m.\u001b[0m\u001b[0mplot\u001b[0m\u001b[1;33m(\u001b[0m\u001b[0madc_sz\u001b[0m\u001b[1;33m.\u001b[0m\u001b[0mcalib_proba_points\u001b[0m\u001b[1;33m,\u001b[0m \u001b[0madc_sz\u001b[0m\u001b[1;33m.\u001b[0m\u001b[0mcalib_hists\u001b[0m\u001b[1;33m.\u001b[0m\u001b[0mT\u001b[0m\u001b[1;33m)\u001b[0m\u001b[1;33m\u001b[0m\u001b[0m\n",
      "\u001b[1;32mD:\\qtlab_replacement\\scripts\\tomography.py\u001b[0m in \u001b[0;36mmeasure\u001b[1;34m(self)\u001b[0m\n\u001b[0;32m    304\u001b[0m \u001b[1;33m\u001b[0m\u001b[0m\n\u001b[0;32m    305\u001b[0m         \u001b[1;32mdef\u001b[0m \u001b[0mmeasure\u001b[0m\u001b[1;33m(\u001b[0m\u001b[0mself\u001b[0m\u001b[1;33m)\u001b[0m\u001b[1;33m:\u001b[0m\u001b[1;33m\u001b[0m\u001b[0m\n\u001b[1;32m--> 306\u001b[1;33m                 \u001b[0mself\u001b[0m\u001b[1;33m.\u001b[0m\u001b[0mcalibrate\u001b[0m\u001b[1;33m(\u001b[0m\u001b[1;33m)\u001b[0m\u001b[1;33m\u001b[0m\u001b[0m\n\u001b[0m\u001b[0;32m    307\u001b[0m \t\tmeas = {#'Calibrated ROC AUC binary': self.calib_roc_auc_binary,\n\u001b[0;32m    308\u001b[0m                                 \u001b[1;34m'Calibrated ROC AUC'\u001b[0m\u001b[1;33m:\u001b[0m \u001b[0mself\u001b[0m\u001b[1;33m.\u001b[0m\u001b[0mcalib_roc_auc\u001b[0m\u001b[1;33m,\u001b[0m\u001b[1;33m\u001b[0m\u001b[0m\n",
      "\u001b[1;32mD:\\qtlab_replacement\\scripts\\tomography.py\u001b[0m in \u001b[0;36mcalibrate\u001b[1;34m(self)\u001b[0m\n\u001b[0;32m    160\u001b[0m                 \u001b[1;32mfor\u001b[0m \u001b[0mi\u001b[0m \u001b[1;32min\u001b[0m \u001b[0mrange\u001b[0m\u001b[1;33m(\u001b[0m\u001b[0mself\u001b[0m\u001b[1;33m.\u001b[0m\u001b[0mrepeat_samples\u001b[0m\u001b[1;33m)\u001b[0m\u001b[1;33m:\u001b[0m\u001b[1;33m\u001b[0m\u001b[0m\n\u001b[0;32m    161\u001b[0m                         \u001b[0mself\u001b[0m\u001b[1;33m.\u001b[0m\u001b[0mpulse_generator\u001b[0m\u001b[1;33m.\u001b[0m\u001b[0mset_seq\u001b[0m\u001b[1;33m(\u001b[0m\u001b[0mself\u001b[0m\u001b[1;33m.\u001b[0m\u001b[0mex_seq_zero\u001b[0m\u001b[1;33m+\u001b[0m\u001b[0mself\u001b[0m\u001b[1;33m.\u001b[0m\u001b[0mro_seq\u001b[0m\u001b[1;33m)\u001b[0m\u001b[1;33m\u001b[0m\u001b[0m\n\u001b[1;32m--> 162\u001b[1;33m                         \u001b[0msamples_zero\u001b[0m\u001b[1;33m.\u001b[0m\u001b[0mappend\u001b[0m\u001b[1;33m(\u001b[0m\u001b[0mself\u001b[0m\u001b[1;33m.\u001b[0m\u001b[0madc\u001b[0m\u001b[1;33m.\u001b[0m\u001b[0mmeasure\u001b[0m\u001b[1;33m(\u001b[0m\u001b[1;33m)\u001b[0m\u001b[1;33m[\u001b[0m\u001b[1;34m'Voltage'\u001b[0m\u001b[1;33m]\u001b[0m\u001b[1;33m)\u001b[0m\u001b[1;33m\u001b[0m\u001b[0m\n\u001b[0m\u001b[0;32m    163\u001b[0m                         \u001b[1;31m# pi pulse sequence\u001b[0m\u001b[1;33m\u001b[0m\u001b[1;33m\u001b[0m\u001b[0m\n\u001b[0;32m    164\u001b[0m                         \u001b[0mself\u001b[0m\u001b[1;33m.\u001b[0m\u001b[0mpulse_generator\u001b[0m\u001b[1;33m.\u001b[0m\u001b[0mset_seq\u001b[0m\u001b[1;33m(\u001b[0m\u001b[0mself\u001b[0m\u001b[1;33m.\u001b[0m\u001b[0mex_seq\u001b[0m\u001b[1;33m+\u001b[0m\u001b[0mself\u001b[0m\u001b[1;33m.\u001b[0m\u001b[0mro_seq\u001b[0m\u001b[1;33m)\u001b[0m\u001b[1;33m\u001b[0m\u001b[0m\n",
      "\u001b[1;32mD:\\qtlab_replacement\\scripts\\data_reduce.py\u001b[0m in \u001b[0;36mmeasure\u001b[1;34m(self)\u001b[0m\n\u001b[0;32m     19\u001b[0m         \u001b[1;32mdef\u001b[0m \u001b[0mmeasure\u001b[0m\u001b[1;33m(\u001b[0m\u001b[0mself\u001b[0m\u001b[1;33m)\u001b[0m\u001b[1;33m:\u001b[0m\u001b[1;33m\u001b[0m\u001b[0m\n\u001b[0;32m     20\u001b[0m                 \u001b[0mdata\u001b[0m \u001b[1;33m=\u001b[0m \u001b[0mself\u001b[0m\u001b[1;33m.\u001b[0m\u001b[0msource\u001b[0m\u001b[1;33m.\u001b[0m\u001b[0mmeasure\u001b[0m\u001b[1;33m(\u001b[0m\u001b[1;33m)\u001b[0m\u001b[1;33m\u001b[0m\u001b[0m\n\u001b[1;32m---> 21\u001b[1;33m                 \u001b[1;32mreturn\u001b[0m \u001b[1;33m{\u001b[0m \u001b[0mfilter_name\u001b[0m\u001b[1;33m:\u001b[0m\u001b[0mfilter\u001b[0m\u001b[1;33m[\u001b[0m\u001b[1;34m'filter'\u001b[0m\u001b[1;33m]\u001b[0m\u001b[1;33m(\u001b[0m\u001b[0mdata\u001b[0m\u001b[1;33m)\u001b[0m \u001b[1;32mfor\u001b[0m \u001b[0mfilter_name\u001b[0m\u001b[1;33m,\u001b[0m \u001b[0mfilter\u001b[0m \u001b[1;32min\u001b[0m \u001b[0mself\u001b[0m\u001b[1;33m.\u001b[0m\u001b[0mfilters\u001b[0m\u001b[1;33m.\u001b[0m\u001b[0mitems\u001b[0m\u001b[1;33m(\u001b[0m\u001b[1;33m)\u001b[0m\u001b[1;33m}\u001b[0m\u001b[1;33m\u001b[0m\u001b[0m\n\u001b[0m\u001b[0;32m     22\u001b[0m \u001b[1;33m\u001b[0m\u001b[0m\n\u001b[0;32m     23\u001b[0m         \u001b[1;32mdef\u001b[0m \u001b[0mget_opts\u001b[0m\u001b[1;33m(\u001b[0m\u001b[0mself\u001b[0m\u001b[1;33m)\u001b[0m\u001b[1;33m:\u001b[0m\u001b[1;33m\u001b[0m\u001b[0m\n",
      "\u001b[1;32mD:\\qtlab_replacement\\scripts\\data_reduce.py\u001b[0m in \u001b[0;36m<dictcomp>\u001b[1;34m(.0)\u001b[0m\n\u001b[0;32m     19\u001b[0m         \u001b[1;32mdef\u001b[0m \u001b[0mmeasure\u001b[0m\u001b[1;33m(\u001b[0m\u001b[0mself\u001b[0m\u001b[1;33m)\u001b[0m\u001b[1;33m:\u001b[0m\u001b[1;33m\u001b[0m\u001b[0m\n\u001b[0;32m     20\u001b[0m                 \u001b[0mdata\u001b[0m \u001b[1;33m=\u001b[0m \u001b[0mself\u001b[0m\u001b[1;33m.\u001b[0m\u001b[0msource\u001b[0m\u001b[1;33m.\u001b[0m\u001b[0mmeasure\u001b[0m\u001b[1;33m(\u001b[0m\u001b[1;33m)\u001b[0m\u001b[1;33m\u001b[0m\u001b[0m\n\u001b[1;32m---> 21\u001b[1;33m                 \u001b[1;32mreturn\u001b[0m \u001b[1;33m{\u001b[0m \u001b[0mfilter_name\u001b[0m\u001b[1;33m:\u001b[0m\u001b[0mfilter\u001b[0m\u001b[1;33m[\u001b[0m\u001b[1;34m'filter'\u001b[0m\u001b[1;33m]\u001b[0m\u001b[1;33m(\u001b[0m\u001b[0mdata\u001b[0m\u001b[1;33m)\u001b[0m \u001b[1;32mfor\u001b[0m \u001b[0mfilter_name\u001b[0m\u001b[1;33m,\u001b[0m \u001b[0mfilter\u001b[0m \u001b[1;32min\u001b[0m \u001b[0mself\u001b[0m\u001b[1;33m.\u001b[0m\u001b[0mfilters\u001b[0m\u001b[1;33m.\u001b[0m\u001b[0mitems\u001b[0m\u001b[1;33m(\u001b[0m\u001b[1;33m)\u001b[0m\u001b[1;33m}\u001b[0m\u001b[1;33m\u001b[0m\u001b[0m\n\u001b[0m\u001b[0;32m     22\u001b[0m \u001b[1;33m\u001b[0m\u001b[0m\n\u001b[0;32m     23\u001b[0m         \u001b[1;32mdef\u001b[0m \u001b[0mget_opts\u001b[0m\u001b[1;33m(\u001b[0m\u001b[0mself\u001b[0m\u001b[1;33m)\u001b[0m\u001b[1;33m:\u001b[0m\u001b[1;33m\u001b[0m\u001b[0m\n",
      "\u001b[1;32mD:\\qtlab_replacement\\scripts\\data_reduce.py\u001b[0m in \u001b[0;36m<lambda>\u001b[1;34m(x)\u001b[0m\n\u001b[0;32m     35\u001b[0m         \u001b[0mfilter_func\u001b[0m \u001b[1;33m=\u001b[0m \u001b[1;32mlambda\u001b[0m \u001b[0mx\u001b[0m\u001b[1;33m,\u001b[0m\u001b[0ms\u001b[0m\u001b[1;33m:\u001b[0m\u001b[0mnp\u001b[0m\u001b[1;33m.\u001b[0m\u001b[0mmean\u001b[0m\u001b[1;33m(\u001b[0m\u001b[0mnp\u001b[0m\u001b[1;33m.\u001b[0m\u001b[0mreshape\u001b[0m\u001b[1;33m(\u001b[0m\u001b[0mnp\u001b[0m\u001b[1;33m.\u001b[0m\u001b[0mexp\u001b[0m\u001b[1;33m(\u001b[0m\u001b[0ms\u001b[0m\u001b[1;33m*\u001b[0m\u001b[1;36m2\u001b[0m\u001b[1;33m*\u001b[0m\u001b[0mnp\u001b[0m\u001b[1;33m.\u001b[0m\u001b[0mpi\u001b[0m\u001b[1;33m*\u001b[0m\u001b[1;36m1j\u001b[0m\u001b[1;33m*\u001b[0m\u001b[0msource\u001b[0m\u001b[1;33m.\u001b[0m\u001b[0mget_points\u001b[0m\u001b[1;33m(\u001b[0m\u001b[1;33m)\u001b[0m\u001b[1;33m[\u001b[0m\u001b[0msrc_meas\u001b[0m\u001b[1;33m]\u001b[0m\u001b[1;33m[\u001b[0m\u001b[0maxis\u001b[0m\u001b[1;33m]\u001b[0m\u001b[1;33m[\u001b[0m\u001b[1;36m1\u001b[0m\u001b[1;33m]\u001b[0m\u001b[1;33m*\u001b[0m\u001b[0mcarrier\u001b[0m\u001b[1;33m)\u001b[0m\u001b[1;33m*\u001b[0m\u001b[0mx\u001b[0m\u001b[1;33m[\u001b[0m\u001b[0msrc_meas\u001b[0m\u001b[1;33m]\u001b[0m\u001b[1;33m,\u001b[0m \u001b[0mintermediate_axes\u001b[0m\u001b[1;33m)\u001b[0m\u001b[1;33m,\u001b[0m \u001b[0maxis\u001b[0m\u001b[1;33m=\u001b[0m\u001b[0maxis\u001b[0m\u001b[1;33m+\u001b[0m\u001b[1;36m1\u001b[0m\u001b[1;33m)\u001b[0m\u001b[1;33m\u001b[0m\u001b[0m\n\u001b[0;32m     36\u001b[0m \u001b[1;33m\u001b[0m\u001b[0m\n\u001b[1;32m---> 37\u001b[1;33m \tfilter = {'filter': lambda x:filter_func(x,1) if not iq else np.concatenate([filter_func(x,1), filter_func(x,-1)], axis=iq_axis),\n\u001b[0m\u001b[0;32m     38\u001b[0m                           \u001b[1;34m'get_points'\u001b[0m\u001b[1;33m:\u001b[0m \u001b[0mget_points\u001b[0m\u001b[1;33m,\u001b[0m\u001b[1;33m\u001b[0m\u001b[0m\n\u001b[0;32m     39\u001b[0m                           \u001b[1;34m'get_dtype'\u001b[0m\u001b[1;33m:\u001b[0m \u001b[1;33m(\u001b[0m\u001b[1;32mlambda\u001b[0m \u001b[1;33m:\u001b[0m \u001b[0mcomplex\u001b[0m \u001b[1;32mif\u001b[0m \u001b[0msource\u001b[0m\u001b[1;33m.\u001b[0m\u001b[0mget_dtype\u001b[0m\u001b[1;33m(\u001b[0m\u001b[1;33m)\u001b[0m\u001b[1;33m[\u001b[0m\u001b[0msrc_meas\u001b[0m\u001b[1;33m]\u001b[0m \u001b[1;32mis\u001b[0m \u001b[0mcomplex\u001b[0m \u001b[1;32melse\u001b[0m \u001b[0mfloat\u001b[0m\u001b[1;33m)\u001b[0m\u001b[1;33m,\u001b[0m\u001b[1;33m\u001b[0m\u001b[0m\n",
      "\u001b[1;32mD:\\qtlab_replacement\\scripts\\data_reduce.py\u001b[0m in \u001b[0;36m<lambda>\u001b[1;34m(x, s)\u001b[0m\n\u001b[0;32m     33\u001b[0m                 \u001b[1;32mreturn\u001b[0m \u001b[0mnew_axes\u001b[0m\u001b[1;33m\u001b[0m\u001b[0m\n\u001b[0;32m     34\u001b[0m         \u001b[0mintermediate_axes\u001b[0m \u001b[1;33m=\u001b[0m \u001b[1;33m[\u001b[0m\u001b[0mlen\u001b[0m\u001b[1;33m(\u001b[0m\u001b[0ma\u001b[0m\u001b[1;33m[\u001b[0m\u001b[1;36m1\u001b[0m\u001b[1;33m]\u001b[0m\u001b[1;33m)\u001b[0m \u001b[1;32mfor\u001b[0m \u001b[0ma\u001b[0m \u001b[1;32min\u001b[0m \u001b[0msource\u001b[0m\u001b[1;33m.\u001b[0m\u001b[0mget_points\u001b[0m\u001b[1;33m(\u001b[0m\u001b[1;33m)\u001b[0m\u001b[1;33m[\u001b[0m\u001b[0msrc_meas\u001b[0m\u001b[1;33m]\u001b[0m\u001b[1;33m[\u001b[0m\u001b[1;33m:\u001b[0m\u001b[0maxis\u001b[0m\u001b[1;33m]\u001b[0m\u001b[1;33m]\u001b[0m\u001b[1;33m+\u001b[0m\u001b[1;33m[\u001b[0m\u001b[0mlen\u001b[0m\u001b[1;33m(\u001b[0m\u001b[0msource\u001b[0m\u001b[1;33m.\u001b[0m\u001b[0mget_points\u001b[0m\u001b[1;33m(\u001b[0m\u001b[1;33m)\u001b[0m\u001b[1;33m[\u001b[0m\u001b[0msrc_meas\u001b[0m\u001b[1;33m]\u001b[0m\u001b[1;33m[\u001b[0m\u001b[0maxis\u001b[0m\u001b[1;33m]\u001b[0m\u001b[1;33m[\u001b[0m\u001b[1;36m1\u001b[0m\u001b[1;33m]\u001b[0m\u001b[1;33m[\u001b[0m\u001b[1;33m:\u001b[0m\u001b[1;33m:\u001b[0m\u001b[0mdownsample\u001b[0m\u001b[1;33m]\u001b[0m\u001b[1;33m)\u001b[0m\u001b[1;33m,\u001b[0m \u001b[0mdownsample\u001b[0m\u001b[1;33m]\u001b[0m\u001b[1;33m+\u001b[0m\u001b[1;33m[\u001b[0m\u001b[0mlen\u001b[0m\u001b[1;33m(\u001b[0m\u001b[0ma\u001b[0m\u001b[1;33m[\u001b[0m\u001b[1;36m1\u001b[0m\u001b[1;33m]\u001b[0m\u001b[1;33m)\u001b[0m \u001b[1;32mfor\u001b[0m \u001b[0ma\u001b[0m \u001b[1;32min\u001b[0m \u001b[0msource\u001b[0m\u001b[1;33m.\u001b[0m\u001b[0mget_points\u001b[0m\u001b[1;33m(\u001b[0m\u001b[1;33m)\u001b[0m\u001b[1;33m[\u001b[0m\u001b[0msrc_meas\u001b[0m\u001b[1;33m]\u001b[0m\u001b[1;33m[\u001b[0m\u001b[0maxis\u001b[0m\u001b[1;33m+\u001b[0m\u001b[1;36m1\u001b[0m\u001b[1;33m:\u001b[0m\u001b[1;33m]\u001b[0m\u001b[1;33m]\u001b[0m\u001b[1;33m\u001b[0m\u001b[0m\n\u001b[1;32m---> 35\u001b[1;33m         \u001b[0mfilter_func\u001b[0m \u001b[1;33m=\u001b[0m \u001b[1;32mlambda\u001b[0m \u001b[0mx\u001b[0m\u001b[1;33m,\u001b[0m\u001b[0ms\u001b[0m\u001b[1;33m:\u001b[0m\u001b[0mnp\u001b[0m\u001b[1;33m.\u001b[0m\u001b[0mmean\u001b[0m\u001b[1;33m(\u001b[0m\u001b[0mnp\u001b[0m\u001b[1;33m.\u001b[0m\u001b[0mreshape\u001b[0m\u001b[1;33m(\u001b[0m\u001b[0mnp\u001b[0m\u001b[1;33m.\u001b[0m\u001b[0mexp\u001b[0m\u001b[1;33m(\u001b[0m\u001b[0ms\u001b[0m\u001b[1;33m*\u001b[0m\u001b[1;36m2\u001b[0m\u001b[1;33m*\u001b[0m\u001b[0mnp\u001b[0m\u001b[1;33m.\u001b[0m\u001b[0mpi\u001b[0m\u001b[1;33m*\u001b[0m\u001b[1;36m1j\u001b[0m\u001b[1;33m*\u001b[0m\u001b[0msource\u001b[0m\u001b[1;33m.\u001b[0m\u001b[0mget_points\u001b[0m\u001b[1;33m(\u001b[0m\u001b[1;33m)\u001b[0m\u001b[1;33m[\u001b[0m\u001b[0msrc_meas\u001b[0m\u001b[1;33m]\u001b[0m\u001b[1;33m[\u001b[0m\u001b[0maxis\u001b[0m\u001b[1;33m]\u001b[0m\u001b[1;33m[\u001b[0m\u001b[1;36m1\u001b[0m\u001b[1;33m]\u001b[0m\u001b[1;33m*\u001b[0m\u001b[0mcarrier\u001b[0m\u001b[1;33m)\u001b[0m\u001b[1;33m*\u001b[0m\u001b[0mx\u001b[0m\u001b[1;33m[\u001b[0m\u001b[0msrc_meas\u001b[0m\u001b[1;33m]\u001b[0m\u001b[1;33m,\u001b[0m \u001b[0mintermediate_axes\u001b[0m\u001b[1;33m)\u001b[0m\u001b[1;33m,\u001b[0m \u001b[0maxis\u001b[0m\u001b[1;33m=\u001b[0m\u001b[0maxis\u001b[0m\u001b[1;33m+\u001b[0m\u001b[1;36m1\u001b[0m\u001b[1;33m)\u001b[0m\u001b[1;33m\u001b[0m\u001b[0m\n\u001b[0m\u001b[0;32m     36\u001b[0m \u001b[1;33m\u001b[0m\u001b[0m\n\u001b[0;32m     37\u001b[0m \tfilter = {'filter': lambda x:filter_func(x,1) if not iq else np.concatenate([filter_func(x,1), filter_func(x,-1)], axis=iq_axis),\n",
      "\u001b[1;32mC:\\ProgramData\\Anaconda3\\lib\\site-packages\\numpy\\core\\fromnumeric.py\u001b[0m in \u001b[0;36mreshape\u001b[1;34m(a, newshape, order)\u001b[0m\n\u001b[0;32m    230\u001b[0m            [5, 6]])\n\u001b[0;32m    231\u001b[0m     \"\"\"\n\u001b[1;32m--> 232\u001b[1;33m     \u001b[1;32mreturn\u001b[0m \u001b[0m_wrapfunc\u001b[0m\u001b[1;33m(\u001b[0m\u001b[0ma\u001b[0m\u001b[1;33m,\u001b[0m \u001b[1;34m'reshape'\u001b[0m\u001b[1;33m,\u001b[0m \u001b[0mnewshape\u001b[0m\u001b[1;33m,\u001b[0m \u001b[0morder\u001b[0m\u001b[1;33m=\u001b[0m\u001b[0morder\u001b[0m\u001b[1;33m)\u001b[0m\u001b[1;33m\u001b[0m\u001b[0m\n\u001b[0m\u001b[0;32m    233\u001b[0m \u001b[1;33m\u001b[0m\u001b[0m\n\u001b[0;32m    234\u001b[0m \u001b[1;33m\u001b[0m\u001b[0m\n",
      "\u001b[1;32mC:\\ProgramData\\Anaconda3\\lib\\site-packages\\numpy\\core\\fromnumeric.py\u001b[0m in \u001b[0;36m_wrapfunc\u001b[1;34m(obj, method, *args, **kwds)\u001b[0m\n\u001b[0;32m     55\u001b[0m \u001b[1;32mdef\u001b[0m \u001b[0m_wrapfunc\u001b[0m\u001b[1;33m(\u001b[0m\u001b[0mobj\u001b[0m\u001b[1;33m,\u001b[0m \u001b[0mmethod\u001b[0m\u001b[1;33m,\u001b[0m \u001b[1;33m*\u001b[0m\u001b[0margs\u001b[0m\u001b[1;33m,\u001b[0m \u001b[1;33m**\u001b[0m\u001b[0mkwds\u001b[0m\u001b[1;33m)\u001b[0m\u001b[1;33m:\u001b[0m\u001b[1;33m\u001b[0m\u001b[0m\n\u001b[0;32m     56\u001b[0m     \u001b[1;32mtry\u001b[0m\u001b[1;33m:\u001b[0m\u001b[1;33m\u001b[0m\u001b[0m\n\u001b[1;32m---> 57\u001b[1;33m         \u001b[1;32mreturn\u001b[0m \u001b[0mgetattr\u001b[0m\u001b[1;33m(\u001b[0m\u001b[0mobj\u001b[0m\u001b[1;33m,\u001b[0m \u001b[0mmethod\u001b[0m\u001b[1;33m)\u001b[0m\u001b[1;33m(\u001b[0m\u001b[1;33m*\u001b[0m\u001b[0margs\u001b[0m\u001b[1;33m,\u001b[0m \u001b[1;33m**\u001b[0m\u001b[0mkwds\u001b[0m\u001b[1;33m)\u001b[0m\u001b[1;33m\u001b[0m\u001b[0m\n\u001b[0m\u001b[0;32m     58\u001b[0m \u001b[1;33m\u001b[0m\u001b[0m\n\u001b[0;32m     59\u001b[0m     \u001b[1;31m# An AttributeError occurs if the object does not have\u001b[0m\u001b[1;33m\u001b[0m\u001b[1;33m\u001b[0m\u001b[0m\n",
      "\u001b[1;31mValueError\u001b[0m: cannot reshape array of size 20480000 into shape (15000,256,8)"
     ]
    }
   ],
   "source": [
    "#setting optimal settings \n",
    "print ('Calibrated optimal readout amplitude: ', ro_dac_amplitude, ro_dac_length)\n",
    "ro_pulse_generator_inst.set_ro_amplitude(ro_dac_amplitude)\n",
    "ro_pulse_generator_inst.set_ro_length(ro_dac_length)\n",
    "ro_pulse_generator_inst.set_ro_seq_osc(ro_seq_osc)\n",
    "calib_meas = adc_sz.measure()\n",
    "plt.figure('hists')\n",
    "plt.plot(adc_sz.calib_proba_points, adc_sz.calib_hists.T)\n",
    "adc_calibrated_reducer = data_reduce.data_reduce(adc_sz.measurer)\n",
    "#adc_calibrated_reducer = data_reduce.data_reduce(adc)\n",
    "#adc_calibrated_reducer.filters['sz'] = adc_sz.filter_mean\n",
    "#adc_calibrated_reducer.filters['sz sh'] = adc_sz.filter\n",
    "adc_calibrated_reducer.filters['sz'] = adc_sz.filter_binary_mean\n",
    "print (calib_meas)\n",
    "adc_calibrated_reducer.measure()"
   ]
  },
  {
   "cell_type": "code",
   "execution_count": 43,
   "metadata": {},
   "outputs": [
    {
     "ename": "AttributeError",
     "evalue": "'sz_measurer' object has no attribute 'filter_binary'",
     "output_type": "error",
     "traceback": [
      "\u001b[1;31m---------------------------------------------------------------------------\u001b[0m",
      "\u001b[1;31mAttributeError\u001b[0m                            Traceback (most recent call last)",
      "\u001b[1;32m<ipython-input-43-9fb7f86e0d80>\u001b[0m in \u001b[0;36m<module>\u001b[1;34m()\u001b[0m\n\u001b[0;32m      2\u001b[0m \u001b[0mproj_seq\u001b[0m \u001b[1;33m=\u001b[0m \u001b[1;33m{\u001b[0m\u001b[1;34m'Zo'\u001b[0m\u001b[1;33m:\u001b[0m \u001b[1;33m{\u001b[0m\u001b[1;34m'pulses'\u001b[0m\u001b[1;33m:\u001b[0m\u001b[0madc_sz\u001b[0m\u001b[1;33m.\u001b[0m\u001b[0mro_seq\u001b[0m\u001b[1;33m,\u001b[0m \u001b[1;34m'operator'\u001b[0m\u001b[1;33m:\u001b[0m\u001b[0mobservables\u001b[0m\u001b[1;33m[\u001b[0m\u001b[1;34m'Z'\u001b[0m\u001b[1;33m]\u001b[0m\u001b[1;33m}\u001b[0m \u001b[1;33m}\u001b[0m\u001b[1;33m\u001b[0m\u001b[0m\n\u001b[0;32m      3\u001b[0m \u001b[0mreconstruction_basis\u001b[0m\u001b[1;33m=\u001b[0m\u001b[1;33m{\u001b[0m\u001b[1;34m'z'\u001b[0m\u001b[1;33m:\u001b[0m\u001b[1;33m{\u001b[0m\u001b[1;34m'operator'\u001b[0m\u001b[1;33m:\u001b[0m\u001b[0mobservables\u001b[0m\u001b[1;33m[\u001b[0m\u001b[1;34m'Z'\u001b[0m\u001b[1;33m]\u001b[0m\u001b[1;33m}\u001b[0m\u001b[1;33m}\u001b[0m\u001b[1;33m\u001b[0m\u001b[0m\n\u001b[1;32m----> 4\u001b[1;33m \u001b[0mtomoz\u001b[0m \u001b[1;33m=\u001b[0m \u001b[0mtomography_new\u001b[0m\u001b[1;33m.\u001b[0m\u001b[0mtomography\u001b[0m\u001b[1;33m(\u001b[0m\u001b[0madc_sz\u001b[0m\u001b[1;33m,\u001b[0m \u001b[0mpg\u001b[0m\u001b[1;33m,\u001b[0m \u001b[0mproj_seq\u001b[0m\u001b[1;33m,\u001b[0m \u001b[0mreconstruction_basis\u001b[0m\u001b[1;33m=\u001b[0m\u001b[0mreconstruction_basis\u001b[0m\u001b[1;33m)\u001b[0m\u001b[1;33m\u001b[0m\u001b[0m\n\u001b[0m",
      "\u001b[1;32mD:\\qtlab_replacement\\scripts\\tomography.py\u001b[0m in \u001b[0;36m__init__\u001b[1;34m(self, sz_measurer, pulse_generator, proj_seq, reconstruction_basis)\u001b[0m\n\u001b[0;32m    342\u001b[0m \u001b[1;33m\u001b[0m\u001b[0m\n\u001b[0;32m    343\u001b[0m                 \u001b[0mself\u001b[0m\u001b[1;33m.\u001b[0m\u001b[0madc_reducer\u001b[0m \u001b[1;33m=\u001b[0m \u001b[0mdata_reduce\u001b[0m\u001b[1;33m.\u001b[0m\u001b[0mdata_reduce\u001b[0m\u001b[1;33m(\u001b[0m\u001b[0mself\u001b[0m\u001b[1;33m.\u001b[0m\u001b[0msz_measurer\u001b[0m\u001b[1;33m.\u001b[0m\u001b[0madc\u001b[0m\u001b[1;33m)\u001b[0m\u001b[1;33m\u001b[0m\u001b[0m\n\u001b[1;32m--> 344\u001b[1;33m                 \u001b[0mself\u001b[0m\u001b[1;33m.\u001b[0m\u001b[0madc_reducer\u001b[0m\u001b[1;33m.\u001b[0m\u001b[0mfilters\u001b[0m\u001b[1;33m[\u001b[0m\u001b[1;34m'SZ'\u001b[0m\u001b[1;33m]\u001b[0m \u001b[1;33m=\u001b[0m \u001b[0mself\u001b[0m\u001b[1;33m.\u001b[0m\u001b[0msz_measurer\u001b[0m\u001b[1;33m.\u001b[0m\u001b[0mfilter_binary\u001b[0m\u001b[1;33m\u001b[0m\u001b[0m\n\u001b[0m\u001b[0;32m    345\u001b[0m \u001b[1;33m\u001b[0m\u001b[0m\n\u001b[0;32m    346\u001b[0m         \u001b[1;32mdef\u001b[0m \u001b[0mget_points\u001b[0m\u001b[1;33m(\u001b[0m\u001b[0mself\u001b[0m\u001b[1;33m)\u001b[0m\u001b[1;33m:\u001b[0m\u001b[1;33m\u001b[0m\u001b[0m\n",
      "\u001b[1;31mAttributeError\u001b[0m: 'sz_measurer' object has no attribute 'filter_binary'"
     ]
    }
   ],
   "source": [
    "observables = { 'Z': 0.5*np.asarray([[1, 0],   [0, -1]])}\n",
    "proj_seq = {'Zo': {'pulses':adc_sz.ro_seq, 'operator':observables['Z']} }\n",
    "reconstruction_basis={'z':{'operator':observables['Z']}}\n",
    "tomoz = tomography_new.tomography(adc_sz, pg, proj_seq, reconstruction_basis=reconstruction_basis)"
   ]
  },
  {
   "cell_type": "code",
   "execution_count": null,
   "metadata": {
    "collapsed": true
   },
   "outputs": [],
   "source": [
    "adc_sz.new_calibrate()"
   ]
  },
  {
   "cell_type": "code",
   "execution_count": null,
   "metadata": {
    "collapsed": true
   },
   "outputs": [],
   "source": [
    "plt.figure()\n",
    "plt.plot(np.real(adc_sz.calib_feature))\n",
    "plt.plot(np.imag(adc_sz.calib_feature))"
   ]
  },
  {
   "cell_type": "code",
   "execution_count": null,
   "metadata": {
    "collapsed": true
   },
   "outputs": [],
   "source": [
    "plt.figure('old avg')\n",
    "plt.plot(np.real(adc_sz.calib_bg))\n",
    "plt.plot(np.imag(adc_sz.calib_bg))"
   ]
  },
  {
   "cell_type": "code",
   "execution_count": null,
   "metadata": {
    "collapsed": true
   },
   "outputs": [],
   "source": [
    "plt.figure('new feature')\n",
    "plt.plot(np.real(adc_sz.predictor_class.diff))\n",
    "plt.plot(np.imag(adc_sz.predictor_class.diff))"
   ]
  },
  {
   "cell_type": "code",
   "execution_count": null,
   "metadata": {
    "collapsed": true
   },
   "outputs": [],
   "source": [
    "adc.stop()"
   ]
  },
  {
   "cell_type": "code",
   "execution_count": 66,
   "metadata": {
    "collapsed": true
   },
   "outputs": [],
   "source": [
    "import awg_digital\n",
    "import awg_iq\n",
    "import data_reduce\n",
    "import imp\n",
    "import fitting\n",
    "import plotting\n",
    "import save_pkl\n",
    "import tomography as tomography_new\n",
    "import tomography_legacy as tomography\n",
    "import sweep\n",
    "imp.reload(awg_digital)\n",
    "imp.reload(awg_iq)\n",
    "imp.reload(data_reduce)\n",
    "imp.reload(fitting)\n",
    "imp.reload(plotting)\n",
    "imp.reload(save_pkl)\n",
    "imp.reload(tomography)\n",
    "imp.reload(tomography_new)\n",
    "imp.reload(sweep)\n",
    "pg = tomography_new.pulses(awg_channels)"
   ]
  },
  {
   "cell_type": "code",
   "execution_count": null,
   "metadata": {
    "collapsed": true
   },
   "outputs": [],
   "source": [
    "adc.stop()"
   ]
  },
  {
   "cell_type": "code",
   "execution_count": null,
   "metadata": {
    "collapsed": true
   },
   "outputs": [],
   "source": [
    "transition_length\n",
    "pause_length = 0"
   ]
  },
  {
   "cell_type": "code",
   "execution_count": null,
   "metadata": {
    "collapsed": true
   },
   "outputs": [],
   "source": [
    "num_pulses = np.arange(0, 45, 1)\n",
    "y_sign = '-'\n",
    "y_sign_mul = 1 if y_sign == '-' else -1\n",
    "pulse_type = pg.gauss_hd\n",
    "amp = amp_gauss\n",
    "par1 = 0\n",
    "length = pi2_gauss\n",
    "pause_length = 32e-09\n",
    "\n",
    "def set_ape_length(num_pulses):\n",
    "#    sequence = [pg.p('iq_ex', length, pulse_type , amp, par1, par2, alpha), pg.p(None, pause_length)]+\\\n",
    "#               [pg.p('iq_ex', length, pulse_type , amp, par1, par2, alpha), pg.p(None, pause_length),\n",
    "#                pg.p('iq_ex', length, pulse_type , -amp, par1, par2, alpha), pg.p(None, pause_length)]*num_pulses+\\\n",
    "#               [pg.p('iq_ex', length, pulse_type , 1j*y_sign_mul*amp, par1, par2, alpha), pg.p(None, pause_length)]\n",
    "    sequence = [pg.p('iq_ex', length, pulse_type, amp, transition_length), pg.p(None, pause_length)]+\\\n",
    "               [pg.p('iq_ex', length, pulse_type, amp, transition_length), pg.p(None, pause_length),\n",
    "                pg.p('iq_ex', length, pulse_type, -amp, transition_length), pg.p(None, pause_length)]*int(np.round(num_pulses))+\\\n",
    "               [pg.p('iq_ex', length, pulse_type, y_sign_mul*1j*amp, transition_length), pg.p(None, 0e-09)]\n",
    "\n",
    "    tomoz.set_prepare_seq(sequence)\n",
    "    \n",
    "    awg_tek.run()\n",
    "measurement = sweep.sweep(tomoz, (num_pulses, set_ape_length, 'APE identity pulse num'), filename='APE Y'+y_sign)"
   ]
  },
  {
   "cell_type": "code",
   "execution_count": null,
   "metadata": {
    "collapsed": true
   },
   "outputs": [],
   "source": [
    "num_pulses = np.arange(0, 45, 1)\n",
    "y_sign = '-'\n",
    "y_sign_mul = 1 if y_sign == '-' else -1\n",
    "pulse_type = pg.gauss_hd\n",
    "amp = amp_gauss\n",
    "par1 = 0\n",
    "length = pi2_gauss\n",
    "pause_length = 32e-09\n",
    "\n",
    "def set_ape_length(num_pulses):\n",
    "#    sequence = [pg.p('iq_ex', length, pulse_type , amp, par1, par2, alpha), pg.p(None, pause_length)]+\\\n",
    "#               [pg.p('iq_ex', length, pulse_type , amp, par1, par2, alpha), pg.p(None, pause_length),\n",
    "#                pg.p('iq_ex', length, pulse_type , -amp, par1, par2, alpha), pg.p(None, pause_length)]*num_pulses+\\\n",
    "#               [pg.p('iq_ex', length, pulse_type , 1j*y_sign_mul*amp, par1, par2, alpha), pg.p(None, pause_length)]\n",
    "    sequence = [pg.p('iq_ex', length, pulse_type, amp, transition_length), pg.p(None, pause_length)]+\\\n",
    "               [pg.p('iq_ex', length, pulse_type, amp, transition_length), pg.p(None, pause_length),\n",
    "                pg.p('iq_ex', length, pulse_type, -amp, transition_length), pg.p(None, pause_length)]*int(np.round(num_pulses))+\\\n",
    "               [pg.p('iq_ex', length, pulse_type, y_sign_mul*1j*amp, transition_length), pg.p(None, 0e-09)]\n",
    "\n",
    "    tomoz.set_prepare_seq(sequence)\n",
    "    \n",
    "    awg_tek.run()\n",
    "measurement = sweep.sweep(tomoz, (num_pulses, set_ape_length, 'APE identity pulse num'), filename='APE Y'+y_sign)"
   ]
  },
  {
   "cell_type": "code",
   "execution_count": null,
   "metadata": {
    "collapsed": true
   },
   "outputs": [],
   "source": [
    "num_pulses = 80\n",
    "y_sign = '+'\n",
    "y_sign_mul = 1 if y_sign == '+' else -1\n",
    "#anharmonicity = -223e6\n",
    "#alphas = np.linspace(-1.0, 1.0, 21)/(200e6*2*np.pi)\n",
    "alphas = np.linspace(0.75, 1.2, 21)\n",
    "\n",
    "def set_alpha(alpha_dimensionless):\n",
    "    alpha = -alpha_dimensionless/(anharmonicity*2*np.pi)\n",
    "    sequence = [pg.p('iq_ex', length, pg.gauss_hd, amp, alpha), pg.p(None, pause_length)]+\\\n",
    "               [pg.p('iq_ex', length, pg.gauss_hd, amp, alpha), pg.p(None, pause_length),\n",
    "                pg.p('iq_ex', length, pg.gauss_hd, -amp, alpha), pg.p(None, pause_length)]*num_pulses+\\\n",
    "               [pg.p('iq_ex', length, pg.gauss_hd, y_sign_mul*amp, alpha), \n",
    "                #pg.p(None, pause_length),\n",
    "                #pg.p('ro_trg', trg_length, pg.rect, 1), \n",
    "                #pg.p('iq_ro', ro_dac_length/4., pg.rect, ro_dac_amplitude), \n",
    "                #pg.p('iq_ro', ro_dac_length/4., pg.rect, -2*ro_dac_amplitude), \n",
    "                #pg.p('iq_ro', ro_dac_length/4., pg.rect, 2*ro_dac_amplitude),\n",
    "                #pg.p('iq_ro', ro_dac_length/4., pg.rect, -2*ro_dac_amplitude)]\n",
    "    tomoz.set_prepare_seq(sequence)\n",
    "    #pg.set_seq(sequence)\n",
    "    \n",
    "    awg_tek.run()\n",
    "#measurement = sweep.sweep(adc_reducer, (alphas, set_alpha, 'HD DRAG alpha'), filename='APE Y'+y_sign+' dependence on HD DRAG alpha')\n",
    "measurement = sweep.sweep(tomoz, (alphas, set_alpha, 'HD DRAG alpha'), filename='APE Y'+y_sign+' dependence on HD DRAG alpha')"
   ]
  },
  {
   "cell_type": "markdown",
   "metadata": {},
   "source": [
    "# CPMG"
   ]
  },
  {
   "cell_type": "code",
   "execution_count": 68,
   "metadata": {},
   "outputs": [
    {
     "ename": "NameError",
     "evalue": "name 'adc_calibrated_reducer' is not defined",
     "output_type": "error",
     "traceback": [
      "\u001b[1;31m---------------------------------------------------------------------------\u001b[0m",
      "\u001b[1;31mNameError\u001b[0m                                 Traceback (most recent call last)",
      "\u001b[1;32m<ipython-input-68-0ee194bf3745>\u001b[0m in \u001b[0;36m<module>\u001b[1;34m()\u001b[0m\n\u001b[0;32m     24\u001b[0m     \u001b[0mpg\u001b[0m\u001b[1;33m.\u001b[0m\u001b[0mset_seq\u001b[0m\u001b[1;33m(\u001b[0m\u001b[0msequence\u001b[0m\u001b[1;33m)\u001b[0m\u001b[1;33m\u001b[0m\u001b[0m\n\u001b[0;32m     25\u001b[0m     \u001b[0mawg_tek\u001b[0m\u001b[1;33m.\u001b[0m\u001b[0mrun\u001b[0m\u001b[1;33m(\u001b[0m\u001b[1;33m)\u001b[0m\u001b[1;33m\u001b[0m\u001b[0m\n\u001b[1;32m---> 26\u001b[1;33m \u001b[0mmeasurement\u001b[0m \u001b[1;33m=\u001b[0m \u001b[0msweep\u001b[0m\u001b[1;33m.\u001b[0m\u001b[0msweep\u001b[0m\u001b[1;33m(\u001b[0m\u001b[0madc_calibrated_reducer\u001b[0m\u001b[1;33m,\u001b[0m\u001b[1;33m(\u001b[0m\u001b[0mtays\u001b[0m\u001b[1;33m,\u001b[0m \u001b[0mset_tay\u001b[0m\u001b[1;33m,\u001b[0m \u001b[1;34m'CPMG'\u001b[0m\u001b[1;33m)\u001b[0m\u001b[1;33m,\u001b[0m \u001b[0mfilename\u001b[0m \u001b[1;33m=\u001b[0m \u001b[1;34m'CPMG N={}'\u001b[0m\u001b[1;33m.\u001b[0m\u001b[0mformat\u001b[0m\u001b[1;33m(\u001b[0m\u001b[0mN\u001b[0m\u001b[1;33m)\u001b[0m\u001b[1;33m)\u001b[0m\u001b[1;33m\u001b[0m\u001b[0m\n\u001b[0m",
      "\u001b[1;31mNameError\u001b[0m: name 'adc_calibrated_reducer' is not defined"
     ]
    }
   ],
   "source": [
    "ex_amplitude = 0.79\n",
    "pi2_pulse = 56e-9\n",
    "pause_length = 16e-9\n",
    "N = 1\n",
    "tays = np.linspace(pi2_pulse*2*N, 10e-6, 21)\n",
    "tayp = N*pi2_pulse + 2*pi2_pulse\n",
    "readout_begin = np.max(tays)+pi2_pulse*2\n",
    "def set_tay(tay):\n",
    "    sequence = []\n",
    "    delay = tay/(N*2)-pi2_pulse\n",
    "    awg_tek.set_nop(awg_tek.get_clock()/rep_rate)\n",
    "    sequence =  [pg.p('iq_ex', pi2_pulse, pg.rect, ex_amplitude)]\n",
    "    sequence += [pg.p(None, delay),\n",
    "                 pg.p('iq_ex', pi2_pulse*2, pg.rect, ex_amplitude*np.exp(1j*np.pi/2)), \n",
    "                 #pg.p('iq_ex', pi2_pulse, pg.rect, ex_amplitude*np.exp(1j*np.pi/2)),\n",
    "                 pg.p(None, delay)]*N\n",
    "    sequence += [pg.p('iq_ex', pi2_pulse, pg.rect, ex_amplitude),\n",
    "                 pg.p(None, pause_length), \n",
    "                 pg.p('ro_trg', trg_length, pg.rect, 1), \n",
    "                 pg.p('iq_ro', ro_dac_length/4., pg.rect, ro_dac_amplitude), \n",
    "                 pg.p('iq_ro', ro_dac_length/4., pg.rect, -2*ro_dac_amplitude), \n",
    "                 pg.p('iq_ro', ro_dac_length/4., pg.rect, 2*ro_dac_amplitude),\n",
    "                 pg.p('iq_ro', ro_dac_length/4., pg.rect, -2*ro_dac_amplitude)]\n",
    "    pg.set_seq(sequence)\n",
    "    awg_tek.run()\n",
    "measurement = sweep.sweep(adc_calibrated_reducer,(tays, set_tay, 'CPMG'), filename = 'CPMG N={}'.format(N))"
   ]
  },
  {
   "cell_type": "code",
   "execution_count": null,
   "metadata": {
    "collapsed": true
   },
   "outputs": [],
   "source": [
    "adc.stop()"
   ]
  },
  {
   "cell_type": "markdown",
   "metadata": {},
   "source": [
    "### CPMG from thesis"
   ]
  },
  {
   "cell_type": "code",
   "execution_count": null,
   "metadata": {
    "collapsed": true
   },
   "outputs": [],
   "source": [
    "#ex_amplitude = 0.79\n",
    "#pi2_pulse = 70e-9\n",
    "#pause_length = 16e-9\n",
    "#N = 5\n",
    "taymax = 10e-06\n",
    "number_of_pulses = [0, 1, 3, 5, 7, 10, 15, 20, 25, 30]\n",
    "#number_of_pulses = [0, 1, 3, 5, 7]\n",
    "#delaymax = taymax - N*2*pi2_pulse\n",
    "#tays = np.linspace(0, taymax, 21)\n",
    "#delay = (taymax - N*2*pi_pulse)/(2*N)\n",
    "#readout_begin = np.max(tays)+pi2_pulse*2\n",
    "def set_delay(tay):\n",
    "    sequence = []\n",
    "    if (N==0):\n",
    "        delay = tay\n",
    "    else:\n",
    "        delay = (tay - N*2*pi2_gauss)/(2*N)\n",
    "    awg_tek.set_nop(awg_tek.get_clock()/rep_rate)\n",
    "    sequence =  [pg.p('iq_ex', pi2_gauss, pg.gauss_hd, amp_gauss, sigma_gauss, alpha_gauss)]\n",
    "    sequence += [pg.p(None, delay),\n",
    "                 pg.p('iq_ex', pi2_gauss, pg.gauss_hd, amp_gauss*np.exp(1j*np.pi/2), sigma_gauss, alpha_gauss), \n",
    "                 pg.p('iq_ex', pi2_gauss, pg.gauss_hd, amp_gauss*np.exp(1j*np.pi/2), sigma_gauss, alpha_gauss), \n",
    "                 pg.p(None, delay)]*N\n",
    "    if (N==0):\n",
    "        sequence += [pg.p(None, delay)]\n",
    "    sequence += [pg.p('iq_ex', pi2_gauss, pg.gauss_hd, amp_gauss, sigma_gauss, alpha_gauss),\n",
    "                 pg.p(None, pause_length)]\n",
    "                # pg.p('ro_trg', trg_length, pg.rect, 1), \n",
    "                # pg.p('iq_ro', ro_dac_length/4., pg.rect, 0.5*ro_dac_amplitude), \n",
    "                # pg.p('iq_ro', ro_dac_length/4., pg.rect, -ro_dac_amplitude), \n",
    "                # pg.p('iq_ro', ro_dac_length/4., pg.rect, ro_dac_amplitude),\n",
    "                # pg.p('iq_ro', ro_dac_length/4., pg.rect, -ro_dac_amplitude)]\n",
    "    #pg.set_seq(sequence)\n",
    "    tomoz.set_prepare_seq(sequence)\n",
    "    awg_tek.run()\n",
    "for i in number_of_pulses:\n",
    "    N = i\n",
    "    tays = np.asarray((np.linspace(N*2*pi2_gauss, N*4*pi2_gauss, 11)).tolist() + (np.linspace(N*4*pi2_gauss, taymax/2, 51)).tolist() + (np.linspace(taymax/2, taymax, 31)).tolist())\n",
    "    measurement = sweep.sweep(tomoz,(tays, set_delay, 'CPMG'), filename = 'CPMG Thesis N={}'.format(N))"
   ]
  },
  {
   "cell_type": "code",
   "execution_count": null,
   "metadata": {
    "collapsed": true
   },
   "outputs": [],
   "source": [
    "taymax = 10e-06\n",
    "number_of_pulses = [0, 1, 3, 5, 7, 10, 15, 20, 25, 30]\n",
    "def set_delay(tay):\n",
    "    sequence = []\n",
    "    if (N==0):\n",
    "        delay = tay\n",
    "    else:\n",
    "        delay = tay/(2*N)\n",
    "    awg_tek.set_nop(awg_tek.get_clock()/rep_rate)\n",
    "    sequence =  [pg.p('iq_ex', pi2_gauss, pg.gauss_hd, amp_gauss, sigma_gauss, alpha_gauss)]\n",
    "    sequence += [pg.p(None, delay),\n",
    "                 pg.p('iq_ex', pi2_gauss, pg.gauss_hd, amp_gauss*np.exp(1j*np.pi/2), sigma_gauss, alpha_gauss), \n",
    "                 pg.p('iq_ex', pi2_gauss, pg.gauss_hd, amp_gauss*np.exp(1j*np.pi/2), sigma_gauss, alpha_gauss), \n",
    "                 pg.p(None, delay)]*N\n",
    "    if (N==0):\n",
    "        sequence += [pg.p(None, delay)]\n",
    "    sequence += [pg.p('iq_ex', pi2_gauss, pg.gauss_hd, amp_gauss, sigma_gauss, alpha_gauss),\n",
    "                 pg.p(None, pause_length)]\n",
    "                # pg.p('ro_trg', trg_length, pg.rect, 1), \n",
    "                # pg.p('iq_ro', ro_dac_length/4., pg.rect, 0.5*ro_dac_amplitude), \n",
    "                # pg.p('iq_ro', ro_dac_length/4., pg.rect, -ro_dac_amplitude), \n",
    "                # pg.p('iq_ro', ro_dac_length/4., pg.rect, ro_dac_amplitude),\n",
    "                # pg.p('iq_ro', ro_dac_length/4., pg.rect, -ro_dac_amplitude)]\n",
    "    #pg.set_seq(sequence)\n",
    "    tomoz.set_prepare_seq(sequence)\n",
    "    awg_tek.run()\n",
    "for i in number_of_pulses:\n",
    "    N = i\n",
    "    tays = np.asarray((np.linspace(0, N*4*pi2_gauss, 21)).tolist() + (np.linspace(N*4*pi2_gauss, taymax/2, 51)).tolist() + (np.linspace(taymax/2, taymax, 31)).tolist())\n",
    "    measurement = sweep.sweep(tomoz,(tays, set_delay, 'CPMG'), filename = 'CPMG Thesis N={}'.format(N))"
   ]
  },
  {
   "cell_type": "markdown",
   "metadata": {},
   "source": [
    "## Double readout "
   ]
  },
  {
   "cell_type": "code",
   "execution_count": 33,
   "metadata": {
    "collapsed": true
   },
   "outputs": [],
   "source": [
    "adc.stop()"
   ]
  },
  {
   "cell_type": "code",
   "execution_count": 34,
   "metadata": {},
   "outputs": [
    {
     "name": "stdout",
     "output_type": "stream",
     "text": [
      "2048 <class 'int'>\n"
     ]
    },
    {
     "data": {
      "application/vnd.jupyter.widget-view+json": {
       "model_id": "c91fdb0f984d44389fd8ab12c146d4cd",
       "version_major": 2,
       "version_minor": 0
      },
      "text/plain": [
       "A Jupyter Widget"
      ]
     },
     "metadata": {},
     "output_type": "display_data"
    },
    {
     "name": "stdout",
     "output_type": "stream",
     "text": [
      "Started at:  Apr 20 2018 15:49:25\n"
     ]
    },
    {
     "name": "stderr",
     "output_type": "stream",
     "text": [
      "D:\\qtlab_replacement\\instruments\\Tektronix_AWG5014.py:648: ComplexWarning: Casting complex values to real discards the imaginary part\n",
      "  m1[:] = marker[:len(m1)]\n"
     ]
    },
    {
     "name": "stdout",
     "output_type": "stream",
     "text": [
      "\n",
      "Elapsed time: 0 h 0 m 34.65 s\n"
     ]
    }
   ],
   "source": [
    "delays = np.linspace(0.0e-6,1.5e-6,10)\n",
    "pause_length = 1e-6\n",
    "ro_dac_length = 0.8e-6\n",
    "ro_adc_length = 3.5e-6\n",
    "adc.set_nums(1000)\n",
    "set_adc_nop(ro_adc_length)\n",
    "adc.set_nums(10000)\n",
    "def set_delays (delay):\n",
    "    awg_tek.set_nop(awg_tek.get_clock()/rep_rate)\n",
    "    sequence = [    pg.p('ro_trg', trg_length, pg.rect, 1), \n",
    "                    pg.p('iq_ro', ro_dac_length/4., pg.rect, ro_dac_amplitude), \n",
    "                    pg.p('iq_ro', ro_dac_length/4., pg.rect, -2*ro_dac_amplitude), \n",
    "                    pg.p('iq_ro', ro_dac_length/4., pg.rect, 2*ro_dac_amplitude),\n",
    "                    pg.p('iq_ro', ro_dac_length/4., pg.rect, -2*ro_dac_amplitude),\n",
    "                    pg.p(None, delay),\n",
    "                    pg.p('iq_ro', ro_dac_length/4., pg.rect, ro_dac_amplitude), \n",
    "                    pg.p('iq_ro', ro_dac_length/4., pg.rect, -2*ro_dac_amplitude), \n",
    "                    pg.p('iq_ro', ro_dac_length/4., pg.rect, 2*ro_dac_amplitude),\n",
    "                    pg.p('iq_ro', ro_dac_length/4., pg.rect, -2*ro_dac_amplitude), \n",
    "                    pg.p(None, pause_length)]\n",
    "    pg.set_seq(sequence)\n",
    "    awg_tek.run()\n",
    "measurement = sweep.sweep(adc, (delays, set_delays, 'Delay', 's'), filename = r'Double(0)')\n",
    "    "
   ]
  },
  {
   "cell_type": "code",
   "execution_count": null,
   "metadata": {
    "collapsed": true
   },
   "outputs": [],
   "source": [
    "from scipy import fft, ifft\n",
    "plt.plot(measurement['Mean Voltage (AC)'][2][3])\n"
   ]
  },
  {
   "cell_type": "code",
   "execution_count": null,
   "metadata": {
    "collapsed": true
   },
   "outputs": [],
   "source": [
    "measurement "
   ]
  },
  {
   "cell_type": "code",
   "execution_count": null,
   "metadata": {
    "collapsed": true
   },
   "outputs": [],
   "source": [
    "delays"
   ]
  },
  {
   "cell_type": "code",
   "execution_count": null,
   "metadata": {
    "collapsed": true
   },
   "outputs": [],
   "source": [
    "import awg_digital\n",
    "import awg_iq\n",
    "import data_reduce\n",
    "import imp\n",
    "import fitting\n",
    "import plotting\n",
    "import save_pkl\n",
    "import tomography as tomography_new\n",
    "import tomography_legacy as tomography\n",
    "import sweep\n",
    "imp.reload(awg_digital)\n",
    "imp.reload(awg_iq)\n",
    "imp.reload(data_reduce)\n",
    "imp.reload(fitting)\n",
    "imp.reload(plotting)\n",
    "imp.reload(save_pkl)\n",
    "imp.reload(tomography)\n",
    "imp.reload(tomography_new)\n",
    "imp.reload(sweep)\n",
    "pg = tomography_new.pulses(awg_channels)"
   ]
  },
  {
   "cell_type": "code",
   "execution_count": null,
   "metadata": {
    "collapsed": true
   },
   "outputs": [],
   "source": [
    "adc.stop()"
   ]
  },
  {
   "cell_type": "code",
   "execution_count": null,
   "metadata": {
    "collapsed": true,
    "scrolled": true
   },
   "outputs": [],
   "source": [
    "ex_amplitude = 1.0#смотрим на график в S21-phase ?? как жить что частота от этого зависит\n",
    "pause_length = 16e-9#пауза между возб.импульсом и считывающим\n",
    "length_tail = 1e-08\n",
    "lengths = np.linspace(0e-8 + 2*length_tail, 1e-6,61)#время наблюдения осцилляций,для фитования частоты достатоно пары периодов\n",
    "readout_begin = np.max(lengths)\n",
    "lo1.set_status(True)\n",
    "def set_ex_length(length):\n",
    "    awg_tek.set_nop(awg_tek.get_clock()/rep_rate)\n",
    "    sequence = [pg.p(None, readout_begin-length), \n",
    "                pg.p('iq_ex', length, pg.rect_cos, ex_amplitude, length_tail), \n",
    "                pg.p(None, pause_length),\n",
    "                pg.p('ro_trg', trg_length, pg.rect, 1), \n",
    "                pg.p('iq_ro', ro_dac_length/5., pg.rect, 0.5*ro_dac_amplitude), \n",
    "                pg.p('iq_ro', ro_dac_length/5., pg.rect, -ro_dac_amplitude), \n",
    "                pg.p('iq_ro', ro_dac_length/5., pg.rect, ro_dac_amplitude),\n",
    "                pg.p('iq_ro', ro_dac_length/5., pg.rect, -ro_dac_amplitude),\n",
    "                pg.p('iq_ro', ro_dac_length/5., pg.rect, ro_dac_amplitude)]\n",
    "    awg_tek.run()\n",
    "measurement = sweep.sweep(adc_calibrated_reducer, (lengths, set_ex_length, 'Rabi pulse length', 's'), filename='Rabi')\n",
    "measurement_fitted, fitted_parameters = fitting.fit1d(measurement, fitting.exp_sin_fit, 'sz')\n",
    "annotation = 'Phase: {0:4.4g} rad, Freq: {1:4.4g}, Decay: {2:4.4g} s'.format(fitted_parameters['phase'], \n",
    "                                                                             fitted_parameters['freq'], \n",
    "                                                                             fitted_parameters['decay'])\n",
    "save_pkl.save_pkl({'type':'Rabi'}, measurement_fitted, annotation=annotation)"
   ]
  },
  {
   "cell_type": "markdown",
   "metadata": {},
   "source": [
    "### Rabi amplitude oscillations"
   ]
  },
  {
   "cell_type": "code",
   "execution_count": null,
   "metadata": {
    "collapsed": true,
    "scrolled": true
   },
   "outputs": [],
   "source": [
    "#ex_amps = np.linspace(0.3225,0.3325,21)\n",
    "#num_pulses = 50\n",
    "ex_amps = np.linspace(0.88, 0.9, 21)\n",
    "num_pulses = 256\n",
    "#pi2_tukey = 88e-9\n",
    "#length_tail = 12e-9\n",
    "pause_length = 0e-9\n",
    "# ro_dac_length=0.2e-6\n",
    "#readout_begin = np.max((length+pause_length)*num_pulses)\n",
    "pulse_type = pg.gauss_hd\n",
    "alpha_tukey = -0.0/(2*np.pi*anharmonicity)\n",
    "length = pi2_gauss\n",
    "#sigma = 3e-9\n",
    "length_transition = sigma_gauss\n",
    "alpha = 0.\n",
    "def set_ex_amp(amp):\n",
    "    awg_tek.set_nop(awg_tek.get_clock()/rep_rate)\n",
    "    \n",
    "    #sequence = [pg.p('iq_ex', pi2_tuker, pg.rect, amp), \n",
    "    #            pg.p(None, pause_length)]*num_pulses+\\\n",
    "    #            [pg.p('ro_trg', trg_length, pg.rect, 1), \n",
    "    #             pg.p('iq_ro', ro_dac_length/5., pg.rect, 0.5*ro_dac_amplitude), \n",
    "    #             pg.p('iq_ro', ro_dac_length/5., pg.rect, -ro_dac_amplitude), \n",
    "    #             pg.p('iq_ro', ro_dac_length/5., pg.rect, ro_dac_amplitude),\n",
    "    #             pg.p('iq_ro', ro_dac_length/5., pg.rect, -ro_dac_amplitude),\n",
    "    #             pg.p('iq_ro', ro_dac_length/5., pg.rect, ro_dac_amplitude)]\n",
    "    sequence = [pg.p('iq_ex', length, pulse_type, amp, length_transition, alpha), \n",
    "                pg.p(None, pause_length)]*num_pulses\n",
    "    \n",
    "    tomoz.set_prepare_seq(sequence)\n",
    "    \n",
    "    awg_tek.run()\n",
    "measurement = sweep.sweep(tomoz, (ex_amps, set_ex_amp, 'Rabi pulse amplitude'), filename='Rabi')"
   ]
  },
  {
   "cell_type": "code",
   "execution_count": null,
   "metadata": {
    "collapsed": true,
    "scrolled": false
   },
   "outputs": [],
   "source": [
    "#ex_amps = np.linspace(0.3225,0.3325,21)\n",
    "#num_pulses = 50\n",
    "#ex_amps = np.linspace(0.8,1.0,21)\n",
    "num_pulses = np.arange(0,25)\n",
    "#pi2_tukey = 88e-9\n",
    "length_tail = 12e-9\n",
    "# ro_dac_length=0.2e-6\n",
    "#readout_begin = np.max((length+pause_length)*num_pulses)\n",
    "alpha_gauss = -0.0/(2*np.pi*anharmonicity)\n",
    "pause_length = 0e-9\n",
    "length = pi2_gauss\n",
    "def set_num_pulses(num_pulses):\n",
    "    awg_tek.set_nop(awg_tek.get_clock()/rep_rate)\n",
    "    \n",
    "    #sequence = [pg.p('iq_ex', pi2_tuker, pg.rect, amp), \n",
    "    #            pg.p(None, pause_length)]*num_pulses+\\\n",
    "    #            [pg.p('ro_trg', trg_length, pg.rect, 1), \n",
    "    #             pg.p('iq_ro', ro_dac_length/5., pg.rect, 0.5*ro_dac_amplitude), \n",
    "    #             pg.p('iq_ro', ro_dac_length/5., pg.rect, -ro_dac_amplitude), \n",
    "    #             pg.p('iq_ro', ro_dac_length/5., pg.rect, ro_dac_amplitude),\n",
    "    #             pg.p('iq_ro', ro_dac_length/5., pg.rect, -ro_dac_amplitude),\n",
    "    #             pg.p('iq_ro', ro_dac_length/5., pg.rect, ro_dac_amplitude)]\n",
    "    sequence = [pg.p('iq_ex', length, pg.gauss_hd, amp_gauss, alpha_gauss), \n",
    "                pg.p(None, pause_length)]*num_pulses\n",
    "    \n",
    "    tomoz.set_prepare_seq(sequence)\n",
    "    \n",
    "    awg_tek.run()\n",
    "measurement = sweep.sweep(tomoz, (num_pulses, set_num_pulses, 'Pi half pulse num'), filename='Rabi')"
   ]
  },
  {
   "cell_type": "code",
   "execution_count": null,
   "metadata": {
    "collapsed": true
   },
   "outputs": [],
   "source": [
    "plt.figure()\n",
    "plt.plot(np.real(awg_tek.get_waveform(channel=2)))\n",
    "plt.plot(np.imag(awg_tek.get_waveform(channel=1)))\n",
    "plt.plot(np.real(awg_tek.get_waveform(channel=3)))\n",
    "plt.plot(np.imag(awg_tek.get_waveform(channel=4)))"
   ]
  },
  {
   "cell_type": "code",
   "execution_count": null,
   "metadata": {
    "collapsed": true
   },
   "outputs": [],
   "source": [
    "from scipy.signal import tukey\n",
    "adc.stop()"
   ]
  },
  {
   "cell_type": "code",
   "execution_count": null,
   "metadata": {
    "collapsed": true
   },
   "outputs": [],
   "source": [
    "plt.plot(np.real(pg.p('iq_ex', pi2_tuker, pg.rect_cos, 1)))"
   ]
  },
  {
   "cell_type": "code",
   "execution_count": null,
   "metadata": {
    "collapsed": true,
    "scrolled": true
   },
   "outputs": [],
   "source": [
    "#ex_amps = np.linspace(0.3225,0.3325,21)\n",
    "#num_pulses = 50\n",
    "ex_amps = np.linspace(0.1,0.7,41)\n",
    "num_pulses = 4\n",
    "# ro_dac_length=0.2e-6\n",
    "#readout_begin = np.max((length+pause_length)*num_pulses)\n",
    "def set_ex_amp(amp):\n",
    "    awg_tek.set_nop(awg_tek.get_clock()/rep_rate)\n",
    "    \n",
    "    sequence = [pg.p('iq_ex', length, pg.gauss_hd, amp, 0, sigma, alpha), \n",
    "                pg.p(None, pause_length)]*num_pulses+\\\n",
    "                [pg.p('ro_trg', trg_length, pg.rect, 1), \n",
    "                pg.p('iq_ro', ro_dac_length, pg.rect, ro_dac_amplitude)]\n",
    "    \n",
    "    pg.set_seq(sequence)\n",
    "    \n",
    "    awg_tek.run()\n",
    "measurement = sweep.sweep(adc_reducer, (ex_amps, set_ex_amp, 'Rabi pulse amplitude'), filename='Rabi')"
   ]
  },
  {
   "cell_type": "markdown",
   "metadata": {},
   "source": [
    "## Rabi amplitude oscillations pi + pi/2 pulses"
   ]
  },
  {
   "cell_type": "code",
   "execution_count": null,
   "metadata": {
    "collapsed": true,
    "scrolled": true
   },
   "outputs": [],
   "source": [
    "from numpy import pi\n",
    "def set_ex_amp(amp):\n",
    "    awg_tek.set_nop(awg_tek.get_clock()/rep_rate)    \n",
    "    sequence = [pg.p('iq_ex', length, pg.gauss_hd, amp, 0, sigma, alpha), \n",
    "                pg.p(None, pause_length)]*num_pulses+\\\n",
    "               [pg.p('ro_trg', trg_length, pg.rect, 1), \n",
    "                pg.p('iq_ro', ro_dac_length, pg.rect, ro_dac_amplitude)]\n",
    "    pg.set_seq(sequence)\n",
    "    awg_tek.run()\n",
    "#measurement = sweep.sweep(adc_reducer, (ex_amps, set_ex_amp, 'Rabi pulse amplitude'), filename='Rabi')\n",
    "#measurement_fitted, fitted_parameters_rabi = fitting.S21pm_fit(measurement, fitting.exp_sin_fit)\n",
    "#def find_ampl(impulse):\n",
    "    #i=0\n",
    "    #derivative1, derivative2 =0,0\n",
    "    #count=0\n",
    "    #while (0.5*count<impulse/(0.5*pi)):\n",
    "        #i=i+1;\n",
    "        #derivative1=derivative2;\n",
    "        #derivative2=(3*measurement['Mean Voltage (AC)'][i]-4*measurement[i-1]+measurement[i-2])/(2*(0.7/21)\n",
    "        #if ((derivative1*derivative2)<0) :\n",
    "            #count=count+1\n",
    "    #return measurement[i]\n",
    "\n",
    "#def Rabi_ampl(impulse):\n",
    "\n",
    "# В таком сиде как оно написано здесь эта процедура не имеет никакого смысла =(\n",
    "# Если утверждение amp*2=amp_pi верно, то это не нужно. Если нет, то таким обрзом вы это не увидите.\n",
    "\n",
    "ex_amps = np.linspace(0,0.7,41)\n",
    "num_pulses=4\n",
    "measurement = sweep.sweep(adc_reducer, (ex_amps, set_ex_amp, 'Rabi pulse amplitude'), filename='Rabi')\n",
    "measurement_fitted, fitted_parameters_rabi = fitting.S21pm_fit(measurement, fitting.exp_sin_fit)\n",
    "print(fitted_parameters_rabi)\n",
    "      # return find_ampl(impulse)\n",
    "#ampl_half_pi=Rabi_ampl(pi/2)   \n",
    "amp=(3*pi-fitted_parameters_rabi['phase'])/(2*pi*fitted_parameters_rabi['freq'])\n",
    "amp_pi=(pi*5-fitted_parameters_rabi['phase'])/(2*pi*fitted_parameters_rabi['freq'])\n",
    "amp, amp_pi"
   ]
  },
  {
   "cell_type": "code",
   "execution_count": null,
   "metadata": {
    "collapsed": true
   },
   "outputs": [],
   "source": [
    "adc.stop()"
   ]
  },
  {
   "cell_type": "markdown",
   "metadata": {},
   "source": [
    "### Rabi Y-amplitude oscillations"
   ]
  },
  {
   "cell_type": "code",
   "execution_count": null,
   "metadata": {
    "collapsed": true,
    "scrolled": true
   },
   "outputs": [],
   "source": [
    "ex_amps = np.linspace(0.1,0.7, 101)\n",
    "num_pulses = 5\n",
    "#readout_begin = np.max((length+pause_length)*num_pulses)\n",
    "def set_ex_amp(amp):\n",
    "    awg_tek.set_nop(awg_tek.get_clock()/rep_rate)\n",
    "    \n",
    "    sequence = [pg.p('iq_ex', length, pg.gauss_hd, 0, amp, sigma, alpha), \n",
    "                pg.p(None, pause_length)]*num_pulses+\\\n",
    "               [pg.p('ro_trg', trg_length, pg.rect, 1), \n",
    "                pg.p('iq_ro', ro_dac_length, pg.rect, ro_dac_amplitude)]\n",
    "    \n",
    "    pg.set_seq(sequence)\n",
    "    \n",
    "    awg_tek.run()\n",
    "measurement = sweep.sweep(adc_reducer, (ex_amps, set_ex_amp, 'Rabi Y-pulse amplitude'), filename='Rabi Y-amplitude')"
   ]
  },
  {
   "cell_type": "markdown",
   "metadata": {},
   "source": [
    "## Amplification of phase errors"
   ]
  },
  {
   "cell_type": "code",
   "execution_count": null,
   "metadata": {
    "collapsed": true
   },
   "outputs": [],
   "source": [
    "imp.reload(plotting)\n",
    "adc.stop()"
   ]
  },
  {
   "cell_type": "code",
   "execution_count": null,
   "metadata": {
    "collapsed": true
   },
   "outputs": [],
   "source": [
    "plt.figure()\n",
    "plt.plot(np.real(iq_ex.waveform))\n",
    "plt.plot(np.imag(iq_ex.waveform))"
   ]
  },
  {
   "cell_type": "code",
   "execution_count": null,
   "metadata": {
    "collapsed": true
   },
   "outputs": [],
   "source": []
  },
  {
   "cell_type": "code",
   "execution_count": null,
   "metadata": {
    "collapsed": true
   },
   "outputs": [],
   "source": [
    "num_pulses = np.arange(0, 50, 1)\n",
    "y_sign = '-'\n",
    "y_sign_mul = 1 if y_sign == '-' else -1\n",
    "\n",
    "pulse_type = pg.gauss_hd\n",
    "amp = amp_gauss\n",
    "length_transition = sigma_gauss # 0\n",
    "alpha_dimensionless = alpha_gauss_dimensionless\n",
    "alpha = alpha_dimensionless/(anharmonicity*2*np.pi)\n",
    "length = pi2_gauss\n",
    "pause_length = 0e-9\n",
    "\n",
    "def set_ape_length(num_pulses):\n",
    "#    sequence = [pg.p('iq_ex', length, pulse_type , amp, par1, par2, alpha), pg.p(None, pause_length)]+\\\n",
    "#               [pg.p('iq_ex', length, pulse_type , amp, par1, par2, alpha), pg.p(None, pause_length),\n",
    "#                pg.p('iq_ex', length, pulse_type , -amp, par1, par2, alpha), pg.p(None, pause_length)]*num_pulses+\\\n",
    "#               [pg.p('iq_ex', length, pulse_type , 1j*y_sign_mul*amp, par1, par2, alpha), pg.p(None, pause_length)]\n",
    "    sequence = [pg.p('iq_ex', length, pulse_type, amp, length_transition, alpha), pg.p(None, pause_length)]+\\\n",
    "               [pg.p('iq_ex', length, pulse_type , amp, length_transition,  alpha), pg.p(None, pause_length),\n",
    "                pg.p('iq_ex', length, pulse_type , -amp, length_transition,  alpha), pg.p(None, pause_length)]*int(np.round(num_pulses))+\\\n",
    "               [pg.p('iq_ex', length, pulse_type , 1j*y_sign_mul*amp, length_transition, alpha), pg.p(None, pause_length)]\n",
    "\n",
    "    tomoz.set_prepare_seq(sequence)\n",
    "    \n",
    "    awg_tek.run()\n",
    "measurement = sweep.sweep(tomoz, (num_pulses, set_ape_length, 'APE identity pulse num'), filename='APE Y'+y_sign)"
   ]
  },
  {
   "cell_type": "markdown",
   "metadata": {},
   "source": [
    "# Scanning over alpha and looking at phase error"
   ]
  },
  {
   "cell_type": "code",
   "execution_count": null,
   "metadata": {
    "collapsed": true
   },
   "outputs": [],
   "source": [
    "num_pulses = 12\n",
    "y_sign = '-'\n",
    "y_sign_mul = 1 if y_sign == '-' else -1\n",
    "#anharmonicity = -223e6\n",
    "#alphas = np.linspace(-1.0, 1.0, 21)/(200e6*2*np.pi)\n",
    "alphas = np.linspace(-2.0, 2.0, 21)\n",
    "pulse_type = pg.gauss_hd\n",
    "amp = amp_gauss\n",
    "length_transition = sigma_gauss # 0\n",
    "alpha = alpha_dimensionless/(anharmonicity*2*np.pi)\n",
    "length = pi2_gauss\n",
    "pause_length = 8e-9\n",
    "\n",
    "def set_alpha(alpha_dimensionless):\n",
    "    alpha = alpha_dimensionless/(anharmonicity*2*np.pi)\n",
    "#    sequence = [pg.p('iq_ex', length, pg.gauss_hd, amp, 0, sigma, alpha), pg.p(None, pause_length)]+\\\n",
    "#               [pg.p('iq_ex', length, pg.gauss_hd, amp, 0, sigma, alpha), pg.p(None, pause_length),\n",
    "#                pg.p('iq_ex', length, pg.gauss_hd, -amp, 0, sigma, alpha), pg.p(None, pause_length)]*num_pulses+\\\n",
    "#               [pg.p('iq_ex', length, pg.gauss_hd, 0, y_sign_mul*amp, sigma, alpha), pg.p(None, pause_length)]\n",
    "\n",
    "    sequence = [pg.p('iq_ex', length, pulse_type, amp, length_transition, alpha), pg.p(None, pause_length)]+\\\n",
    "               [pg.p('iq_ex', length, pulse_type , amp, length_transition,  alpha), pg.p(None, pause_length),\n",
    "                pg.p('iq_ex', length, pulse_type , -amp, length_transition,  alpha), pg.p(None, pause_length)]*int(np.round(num_pulses))+\\\n",
    "               [pg.p('iq_ex', length, pulse_type , 1j*y_sign_mul*amp, length_transition, alpha), pg.p(None, pause_length)]\n",
    "\n",
    "    tomoz.set_prepare_seq(sequence)\n",
    "    \n",
    "    awg_tek.run()\n",
    "measurement = sweep.sweep(tomoz, (alphas, set_alpha, 'HD DRAG alpha'), filename='APE Y'+y_sign+' dependence on HD DRAG alpha')"
   ]
  },
  {
   "cell_type": "markdown",
   "metadata": {},
   "source": [
    "### X-Y axes angle error"
   ]
  },
  {
   "cell_type": "code",
   "execution_count": null,
   "metadata": {
    "collapsed": true
   },
   "outputs": [],
   "source": [
    "num_pulses = np.arange(0, 21, 1)\n",
    "y_sign = '-'\n",
    "y_sign_mul = 1 if y_sign == '-' else -1\n",
    "\n",
    "def set_xyea_length(num_pulses):\n",
    "    sequence = [pg.p('iq_ex', length, pg.gauss_hd, amp, 0, sigma, alpha), pg.p(None, pause_length)]+\\\n",
    "               [pg.p('iq_ex', length, pg.gauss_hd, 0, amp_y_raw, sigma, alpha), pg.p(None, pause_length),\n",
    "                pg.p('iq_ex', length, pg.gauss_hd, 0, amp_y_raw, sigma, alpha), pg.p(None, pause_length),\n",
    "                pg.p('iq_ex', length, pg.gauss_hd, amp, 0, sigma, alpha), pg.p(None, pause_length),\n",
    "                pg.p('iq_ex', length, pg.gauss_hd, amp, 0, sigma, alpha), pg.p(None, pause_length),]*(2*num_pulses)+\\\n",
    "               [pg.p('iq_ex', length, pg.gauss_hd, 0, y_sign_mul*amp_y_raw, sigma, alpha), pg.p(None, pause_length),\n",
    "                pg.p('ro_trg', trg_length, pg.rect, 1), \n",
    "                pg.p('iq_ro', ro_dac_length, pg.rect, ro_dac_amplitude)]\n",
    "\n",
    "    pg.set_seq(sequence)\n",
    "    \n",
    "    awg_tek.run()\n",
    "measurement = sweep.sweep(adc_reducer, (num_pulses, set_xyea_length, 'X-Y axes angle error pulse num'), filename='XY angle error witness'+y_sign)"
   ]
  },
  {
   "cell_type": "markdown",
   "metadata": {},
   "source": [
    "### Optimizing X-Y axes angle "
   ]
  },
  {
   "cell_type": "code",
   "execution_count": null,
   "metadata": {
    "collapsed": true
   },
   "outputs": [],
   "source": [
    "#angle_corrs = np.linspace(-np.pi/40, np.pi/40, 21)\n",
    "angle_corrs = np.linspace(-0.03, 0.03, 21)\n",
    "num_pulses = 20\n",
    "\n",
    "for signs in ['++++', '+++-', '++-+', '++--', '+-++', '+-+-', '+--+', '+---', \n",
    "              '-+++', '-++-', '-+-+', '-+--', '--++', '--+-', '---+', '----']:\n",
    "    sign_muls = [1 if s == '-' else -1 for s in signs]\n",
    "\n",
    "    def set_xyea_angle_corr(angle_corr):\n",
    "        sequence = [pg.p('iq_ex', length, pg.gauss_hd, sign_muls[0]*amp, 0, sigma, alpha), pg.p(None, pause_length)]+\\\n",
    "                   [pg.p('iq_ex', length, pg.gauss_hd, 0, sign_muls[1]*amp_y_raw*np.exp(1j*angle_corr), sigma, alpha), pg.p(None, pause_length),\n",
    "                    pg.p('iq_ex', length, pg.gauss_hd, 0, sign_muls[1]*amp_y_raw*np.exp(1j*angle_corr), sigma, alpha), pg.p(None, pause_length),\n",
    "                    pg.p('iq_ex', length, pg.gauss_hd, sign_muls[2]*amp, 0, sigma, alpha), pg.p(None, pause_length),\n",
    "                    pg.p('iq_ex', length, pg.gauss_hd, sign_muls[2]*amp, 0, sigma, alpha), pg.p(None, pause_length),]*(2*num_pulses)+\\\n",
    "                   [pg.p('iq_ex', length, pg.gauss_hd, 0, sign_muls[3]*amp_y_raw*np.exp(1j*angle_corr), sigma, alpha), pg.p(None, pause_length),\n",
    "                    pg.p('ro_trg', trg_length, pg.rect, 1), \n",
    "                    pg.p('iq_ro', ro_dac_length, pg.rect, ro_dac_amplitude)]\n",
    "\n",
    "        pg.set_seq(sequence)\n",
    "        awg_tek.run()\n",
    "    measurement = sweep.sweep(adc_reducer, (angle_corrs, set_xyea_angle_corr, 'X-Y axes angle detuning (radians)'), filename='XY angle error optimization'+signs)"
   ]
  },
  {
   "cell_type": "markdown",
   "metadata": {},
   "source": [
    "## Characterizing readout of |0>, |1>, |+>, |->, |i+>, |i-> states"
   ]
  },
  {
   "cell_type": "code",
   "execution_count": null,
   "metadata": {
    "collapsed": true
   },
   "outputs": [],
   "source": [
    "ex_amplitude, pi2_pulse"
   ]
  },
  {
   "cell_type": "code",
   "execution_count": null,
   "metadata": {
    "collapsed": true
   },
   "outputs": [],
   "source": [
    "state_prep_seqs = {'|0>': [pg.p('iq_ex', pi2_pulse, pg.rect, ex_amplitude), pg.p(None, pause_length),\\\n",
    "                           pg.p('iq_ex', pi2_pulse, pg.rect, ex_amplitude), pg.p(None, pause_length),\n",
    "                           pg.p('iq_ex', pi2_pulse, pg.rect, -ex_amplitude), pg.p(None, pause_length),\\\n",
    "                           pg.p('iq_ex', pi2_pulse, pg.rect, -ex_amplitude), pg.p(None, pause_length)],\n",
    "                   '|+>': [pg.p('iq_ex', pi2_pulse, pg.rect, ex_amplitude), pg.p(None, pause_length),\\\n",
    "                           pg.p('iq_ex', pi2_pulse, pg.rect, ex_amplitude), pg.p(None, pause_length),\\\n",
    "                           pg.p('iq_ex', pi2_pulse, pg.rect, -ex_amplitude), pg.p(None, pause_length),\\\n",
    "                           pg.p('iq_ex', pi2_pulse, pg.rect, 1j*ex_amplitude), pg.p(None, pause_length)],\n",
    "                   '|1>': [pg.p('iq_ex', pi2_pulse, pg.rect, ex_amplitude), pg.p(None, pause_length),\\\n",
    "                           pg.p('iq_ex', pi2_pulse, pg.rect, 1j*ex_amplitude), pg.p(None, pause_length),\n",
    "                           pg.p('iq_ex', pi2_pulse, pg.rect, 1j*ex_amplitude), pg.p(None, pause_length),\\\n",
    "                           pg.p('iq_ex', pi2_pulse, pg.rect, ex_amplitude), pg.p(None, pause_length)],\n",
    "                   '|->': [pg.p('iq_ex', pi2_pulse, pg.rect, -ex_amplitude), pg.p(None, pause_length),\\\n",
    "                           pg.p('iq_ex', pi2_pulse, pg.rect, -ex_amplitude), pg.p(None, pause_length),\\\n",
    "                           pg.p('iq_ex', pi2_pulse, pg.rect, ex_amplitude), pg.p(None, pause_length),\\\n",
    "                           pg.p('iq_ex', pi2_pulse, pg.rect, 1j*ex_amplitude), pg.p(None, pause_length)],\n",
    "                   '|i+>': [pg.p('iq_ex', pi2_pulse, pg.rect, 1j*ex_amplitude), pg.p(None, pause_length),\\\n",
    "                           pg.p('iq_ex', pi2_pulse, pg.rect, 1j*ex_amplitude), pg.p(None, pause_length),\\\n",
    "                           pg.p('iq_ex', pi2_pulse, pg.rect, -1j*ex_amplitude), pg.p(None, pause_length),\\\n",
    "                           pg.p('iq_ex', pi2_pulse, pg.rect, -ex_amplitude), pg.p(None, pause_length)],\n",
    "                   '|i->': [pg.p('iq_ex', pi2_pulse, pg.rect, -1j*ex_amplitude), pg.p(None, pause_length),\\\n",
    "                           pg.p('iq_ex', pi2_pulse, pg.rect, -1j*ex_amplitude), pg.p(None, pause_length),\\\n",
    "                           pg.p('iq_ex', pi2_pulse, pg.rect, 1j*ex_amplitude), pg.p(None, pause_length),\\\n",
    "                           pg.p('iq_ex', pi2_pulse, pg.rect, ex_amplitude), pg.p(None, pause_length)],}\n",
    "\n",
    "plt.figure('State readout histograms gaussian')\n",
    "sz_meas = {}\n",
    "for state_name, state_prep_seq in state_prep_seqs.items():\n",
    "    pg.set_seq(state_prep_seq+adc_sz.ro_seq)\n",
    "    sz_meas[state_name] = np.real(adc_calibrated_reducer.measure()['sz'])\n",
    "    hist, bin_edges = np.histogram(sz_meas[state_name], bins=adc_sz.calib_proba_points)\n",
    "    proba_points = (bin_edges[1:]+bin_edges[:-1])/2\n",
    "    plt.plot(proba_points, hist,label=state_name)\n",
    "    print ('{0} state sz mean: {1}, std: {2}'.format(state_name, np.mean(sz_meas[state_name]), np.std(sz_meas[state_name])))\n",
    "    \n",
    "plt.legend()"
   ]
  },
  {
   "cell_type": "code",
   "execution_count": null,
   "metadata": {
    "collapsed": true
   },
   "outputs": [],
   "source": [
    "transition_length=sigma_gauss"
   ]
  },
  {
   "cell_type": "code",
   "execution_count": null,
   "metadata": {
    "collapsed": true
   },
   "outputs": [],
   "source": [
    "\n",
    "state_prep_seqs = {'|0>': [],\n",
    "                   '|+>': [pg.p('iq_ex', length, pulse_type, amp, transition_length), pg.p(None, pause_length)],\n",
    "                   '|1>': [pg.p('iq_ex', length, pulse_type, amp, transition_length), pg.p(None, pause_length),\\\n",
    "                           pg.p('iq_ex', length, pulse_type, amp, transition_length), pg.p(None, pause_length)],\n",
    "                   '|->': [pg.p('iq_ex', length, pulse_type, -amp, transition_length), pg.p(None, pause_length)],\n",
    "                   '|i+>': [pg.p('iq_ex', length, pulse_type, 1j*amp, transition_length), pg.p(None, pause_length)],\n",
    "                   '|i->': [pg.p('iq_ex', length, pulse_type, -1j*amp, transition_length), pg.p(None, pause_length)],}\n",
    "\n",
    "plt.figure('State readout histograms gaussian')\n",
    "sz_meas = {}\n",
    "for state_name, state_prep_seq in state_prep_seqs.items():\n",
    "    pg.set_seq(state_prep_seq+adc_sz.ro_seq)\n",
    "    sz_meas[state_name] = np.real(adc_sz.measurer.measure()['sz binary'])\n",
    "    hist, bin_edges = np.histogram(sz_meas[state_name], bins=adc_sz.calib_proba_points)\n",
    "    proba_points = (bin_edges[1:]+bin_edges[:-1])/2\n",
    "    plt.plot(proba_points, hist,label=state_name)\n",
    "    print ('{0} state sz mean: {1}, std: {2}'.format(state_name, np.mean(sz_meas[state_name]), np.std(sz_meas[state_name])))\n",
    "    \n",
    "plt.legend()"
   ]
  },
  {
   "cell_type": "code",
   "execution_count": null,
   "metadata": {
    "collapsed": true,
    "scrolled": true
   },
   "outputs": [],
   "source": [
    "# random number generator\n",
    "n1 = ''.join(['0' if i>0 else '1' for i in sz_meas['|+>'] ])[0::2]\n",
    "n2 = ''.join(['0' if i>0 else '1' for i in sz_meas['|+>'] ])[1::2]\n",
    "randoms_raw = ['0' if i>0 else '1' for i in sz_meas['|+>'] ]\n",
    "randoms = []\n",
    "for i1,i2 in zip(n1,n2):\n",
    "    if i1 == '0' and i2 == '1':\n",
    "        randoms.append('0')\n",
    "    if i1 == '1' and i2 == '0':\n",
    "        randoms.append('1')\n",
    "print ('raw (length {}):'.format(len(randoms_raw)), ''.join(randoms_raw), '\\nrandoms (length {}):'.format(len(randoms)), ''.join(randoms))"
   ]
  },
  {
   "cell_type": "code",
   "execution_count": 38,
   "metadata": {},
   "outputs": [
    {
     "ename": "TypeError",
     "evalue": "gauss_hd() takes from 5 to 6 positional arguments but 7 were given",
     "output_type": "error",
     "traceback": [
      "\u001b[1;31m---------------------------------------------------------------------------\u001b[0m",
      "\u001b[1;31mTypeError\u001b[0m                                 Traceback (most recent call last)",
      "\u001b[1;32m<ipython-input-38-d2f7b3ba345c>\u001b[0m in \u001b[0;36m<module>\u001b[1;34m()\u001b[0m\n\u001b[0;32m      1\u001b[0m state_prep_seqs = {'|0>': [],\n\u001b[1;32m----> 2\u001b[1;33m                    \u001b[1;34m'|+>'\u001b[0m\u001b[1;33m:\u001b[0m \u001b[1;33m[\u001b[0m\u001b[0mpg\u001b[0m\u001b[1;33m.\u001b[0m\u001b[0mp\u001b[0m\u001b[1;33m(\u001b[0m\u001b[1;34m'iq_ex'\u001b[0m\u001b[1;33m,\u001b[0m \u001b[0mlength\u001b[0m\u001b[1;33m,\u001b[0m \u001b[0mpg\u001b[0m\u001b[1;33m.\u001b[0m\u001b[0mgauss_hd\u001b[0m\u001b[1;33m,\u001b[0m \u001b[0mamp\u001b[0m\u001b[1;33m,\u001b[0m \u001b[1;36m0\u001b[0m\u001b[1;33m,\u001b[0m \u001b[0msigma\u001b[0m\u001b[1;33m,\u001b[0m \u001b[0malpha\u001b[0m\u001b[1;33m)\u001b[0m\u001b[1;33m,\u001b[0m \u001b[0mpg\u001b[0m\u001b[1;33m.\u001b[0m\u001b[0mp\u001b[0m\u001b[1;33m(\u001b[0m\u001b[1;32mNone\u001b[0m\u001b[1;33m,\u001b[0m \u001b[0mpause_length\u001b[0m\u001b[1;33m)\u001b[0m\u001b[1;33m]\u001b[0m\u001b[1;33m,\u001b[0m\u001b[1;33m\u001b[0m\u001b[0m\n\u001b[0m\u001b[0;32m      3\u001b[0m                    '|1>': [pg.p('iq_ex', length, pg.gauss_hd, amp, 0, sigma, alpha), pg.p(None, pause_length),\\\n\u001b[0;32m      4\u001b[0m                            pg.p('iq_ex', length, pg.gauss_hd, amp, 0, sigma, alpha), pg.p(None, pause_length)],\n\u001b[0;32m      5\u001b[0m                    \u001b[1;34m'|->'\u001b[0m\u001b[1;33m:\u001b[0m \u001b[1;33m[\u001b[0m\u001b[0mpg\u001b[0m\u001b[1;33m.\u001b[0m\u001b[0mp\u001b[0m\u001b[1;33m(\u001b[0m\u001b[1;34m'iq_ex'\u001b[0m\u001b[1;33m,\u001b[0m \u001b[0mlength\u001b[0m\u001b[1;33m,\u001b[0m \u001b[0mpg\u001b[0m\u001b[1;33m.\u001b[0m\u001b[0mgauss_hd\u001b[0m\u001b[1;33m,\u001b[0m \u001b[1;33m-\u001b[0m\u001b[0mamp\u001b[0m\u001b[1;33m,\u001b[0m \u001b[1;36m0\u001b[0m\u001b[1;33m,\u001b[0m \u001b[0msigma\u001b[0m\u001b[1;33m,\u001b[0m \u001b[0malpha\u001b[0m\u001b[1;33m)\u001b[0m\u001b[1;33m,\u001b[0m \u001b[0mpg\u001b[0m\u001b[1;33m.\u001b[0m\u001b[0mp\u001b[0m\u001b[1;33m(\u001b[0m\u001b[1;32mNone\u001b[0m\u001b[1;33m,\u001b[0m \u001b[0mpause_length\u001b[0m\u001b[1;33m)\u001b[0m\u001b[1;33m]\u001b[0m\u001b[1;33m,\u001b[0m\u001b[1;33m\u001b[0m\u001b[0m\n",
      "\u001b[1;32mD:\\qtlab_replacement\\scripts\\tomography.py\u001b[0m in \u001b[0;36mp\u001b[1;34m(self, channel, length, pulse_type, *params)\u001b[0m\n\u001b[0;32m     58\u001b[0m                 \u001b[0mpulses\u001b[0m \u001b[1;33m=\u001b[0m \u001b[1;33m{\u001b[0m\u001b[0mchannel_name\u001b[0m\u001b[1;33m:\u001b[0m \u001b[0mself\u001b[0m\u001b[1;33m.\u001b[0m\u001b[0mpause\u001b[0m\u001b[1;33m(\u001b[0m\u001b[0mchannel_name\u001b[0m\u001b[1;33m,\u001b[0m \u001b[0mlength\u001b[0m\u001b[1;33m)\u001b[0m \u001b[1;32mfor\u001b[0m \u001b[0mchannel_name\u001b[0m\u001b[1;33m,\u001b[0m \u001b[0mchannel\u001b[0m \u001b[1;32min\u001b[0m \u001b[0mself\u001b[0m\u001b[1;33m.\u001b[0m\u001b[0mchannels\u001b[0m\u001b[1;33m.\u001b[0m\u001b[0mitems\u001b[0m\u001b[1;33m(\u001b[0m\u001b[1;33m)\u001b[0m\u001b[1;33m}\u001b[0m\u001b[1;33m\u001b[0m\u001b[0m\n\u001b[0;32m     59\u001b[0m                 \u001b[1;32mif\u001b[0m \u001b[0mchannel\u001b[0m\u001b[1;33m:\u001b[0m\u001b[1;33m\u001b[0m\u001b[0m\n\u001b[1;32m---> 60\u001b[1;33m                         \u001b[0mpulses\u001b[0m\u001b[1;33m[\u001b[0m\u001b[0mchannel\u001b[0m\u001b[1;33m]\u001b[0m \u001b[1;33m=\u001b[0m \u001b[0mpulse_type\u001b[0m\u001b[1;33m(\u001b[0m\u001b[0mchannel\u001b[0m\u001b[1;33m,\u001b[0m \u001b[0mlength\u001b[0m\u001b[1;33m,\u001b[0m \u001b[1;33m*\u001b[0m\u001b[0mparams\u001b[0m\u001b[1;33m)\u001b[0m\u001b[1;33m\u001b[0m\u001b[0m\n\u001b[0m\u001b[0;32m     61\u001b[0m                 \u001b[1;32mreturn\u001b[0m \u001b[0mpulses\u001b[0m\u001b[1;33m\u001b[0m\u001b[0m\n\u001b[0;32m     62\u001b[0m \u001b[1;33m\u001b[0m\u001b[0m\n",
      "\u001b[1;31mTypeError\u001b[0m: gauss_hd() takes from 5 to 6 positional arguments but 7 were given"
     ]
    }
   ],
   "source": [
    "state_prep_seqs = {'|0>': [],\n",
    "                   '|+>': [pg.p('iq_ex', length, pg.gauss_hd, amp, 0, sigma, alpha), pg.p(None, pause_length)],\n",
    "                   '|1>': [pg.p('iq_ex', length, pg.gauss_hd, amp, 0, sigma, alpha), pg.p(None, pause_length),\\\n",
    "                           pg.p('iq_ex', length, pg.gauss_hd, amp, 0, sigma, alpha), pg.p(None, pause_length)],\n",
    "                   '|->': [pg.p('iq_ex', length, pg.gauss_hd, -amp, 0, sigma, alpha), pg.p(None, pause_length)],\n",
    "                   '|i+>': [pg.p('iq_ex', length, pg.gauss_hd, 0, amp_y, sigma, alpha), pg.p(None, pause_length)],\n",
    "                   '|i->': [pg.p('iq_ex', length, pg.gauss_hd, 0, -amp_y,sigma, alpha), pg.p(None, pause_length)]}\n",
    "\n",
    "plt.figure('State readout histograms gaussian')\n",
    "sz_meas = {}\n",
    "for state_name, state_prep_seq in state_prep_seqs.items():\n",
    "    pg.set_seq(state_prep_seq+adc_sz.ro_seq)\n",
    "    sz_meas[state_name] = np.real(adc_calibrated_reducer.measure()['sz'])\n",
    "    hist, bin_edges = np.histogram(sz_meas[state_name], bins=adc_sz.calib_proba_points)\n",
    "    proba_points = (bin_edges[1:]+bin_edges[:-1])/2\n",
    "    plt.plot(proba_points, hist,label=state_name)\n",
    "    print ('{0} state sz mean: {1}, std: {2}'.format(state_name, np.mean(sz_meas[state_name]), np.std(sz_meas[state_name])))\n",
    "    \n",
    "plt.legend()"
   ]
  },
  {
   "cell_type": "code",
   "execution_count": null,
   "metadata": {
    "collapsed": true
   },
   "outputs": [],
   "source": [
    "adc.stop()"
   ]
  },
  {
   "cell_type": "markdown",
   "metadata": {},
   "source": [
    "### Tomography"
   ]
  },
  {
   "cell_type": "code",
   "execution_count": null,
   "metadata": {
    "collapsed": true
   },
   "outputs": [],
   "source": [
    "#+ \n",
    "amp=0.327\n",
    "amp2=0.657\n",
    "observables = { 'X': 0.5*np.asarray([[0, 1],   [1, 0]]),\n",
    "                'Y': 0.5*np.asarray([[0, -1j],   [1j, 0]]),\n",
    "                '-X': 0.5*np.asarray([[0, -1],   [-1, 0]]),\n",
    "                '-Y': 0.5*np.asarray([[0, 1j],   [-1j, 0]]),\n",
    "                'Z': 0.5*np.asarray([[1, 0],   [0, -1]])}\n",
    "proj_seq = {'Xo':{'pulses': [pg.p('iq_ex', length, pg.gauss_hd, 0, -amp_y, sigma, alpha), pg.p(None, pause_length)]+ro_seq, \n",
    "                 'operator': observables['X']},\n",
    "            'Yo':{'pulses': [pg.p('iq_ex', length, pg.gauss_hd, amp, 0, sigma, alpha), pg.p(None, pause_length)]+ro_seq,\n",
    "                 'operator': observables['Y']},\n",
    "            '-Xo':{'pulses':[pg.p('iq_ex', length, pg.gauss_hd, 0, amp_y, sigma, alpha), pg.p(None, pause_length)]+ro_seq,\n",
    "                 'operator': observables['-X']},\n",
    "            '-Yo':{'pulses':[pg.p('iq_ex', length, pg.gauss_hd, -amp, 0, sigma, alpha), pg.p(None, pause_length)]+ro_seq,\n",
    "                 'operator': observables['-Y']},\n",
    "            'Zo': {'pulses':ro_seq, 'operator':observables['Z']} }\n",
    "reconstruction_basis={'x':{'operator':observables['X']},\n",
    "                      'y':{'operator':observables['Y']},\n",
    "                      'z':{'operator':observables['Z']}}\n",
    "tomo = tomography_new.tomography(adc_sz, pg, proj_seq, reconstruction_basis=reconstruction_basis)"
   ]
  },
  {
   "cell_type": "code",
   "execution_count": null,
   "metadata": {
    "collapsed": true
   },
   "outputs": [],
   "source": [
    "#+Gh\n",
    "proj_seq = {'Z': {'pulses':ro_seq, 'operator':observables['Z']}}\n",
    "reconstruction_basis={'z':{'operator':observables['Z']}}\n",
    "tomoz = tomography_new.tomography(adc_sz, pg, proj_seq, reconstruction_basis=reconstruction_basis)"
   ]
  },
  {
   "cell_type": "code",
   "execution_count": null,
   "metadata": {
    "collapsed": true
   },
   "outputs": [],
   "source": [
    "## tomography of |0> state\n",
    "#adc.set_software_nums_multi(20)\n",
    "tomo.set_prepare_seq([])\n",
    "tomo.measure()"
   ]
  },
  {
   "cell_type": "code",
   "execution_count": null,
   "metadata": {
    "collapsed": true
   },
   "outputs": [],
   "source": [
    "pause_length = 20e-09"
   ]
  },
  {
   "cell_type": "markdown",
   "metadata": {},
   "source": [
    "# Clifford group"
   ]
  },
  {
   "cell_type": "code",
   "execution_count": null,
   "metadata": {
    "collapsed": true,
    "scrolled": true
   },
   "outputs": [],
   "source": [
    "#+ в оптимальных параметрах амплитуду на 2 умножили и получили пи импульсы))))))000)))\n",
    "import clifford\n",
    "imp.reload(clifford)\n",
    "\n",
    "pulse_type = pg.gauss_hd\n",
    "amp = amp_gauss\n",
    "par1 = 0#tail_length # 0\n",
    "par2 = 0 #sigma\n",
    "#alpha_dimensionless = 0.0\n",
    "#alpha = alpha_dimensionless/(anharmonicity*2*np.pi)\n",
    "length = pi2_gauss\n",
    "\n",
    "pi2 = {'X/2': {'pulses': [pg.p('iq_ex', length, pulse_type, amp, length_transition, alpha), pg.p(None, pause_length)],\n",
    "               'unitary': np.sqrt(0.5)*np.asarray([[1, -1j],  [-1j, 1]])},\n",
    "       'Y/2': {'pulses': [pg.p('iq_ex', length, pulse_type, 1j*amp, length_transition, alpha), pg.p(None, pause_length)],\n",
    "               'unitary': np.sqrt(0.5)*np.asarray([[1, -1],    [1, 1]])},\n",
    "       '-X/2':{'pulses':[pg.p('iq_ex', length, pulse_type, -amp, length_transition, alpha), pg.p(None, pause_length)],\n",
    "               'unitary': np.sqrt(0.5)*np.asarray([[1, 1j],   [1j, 1]])},\n",
    "       '-Υ/2':{'pulses':[pg.p('iq_ex', length, pulse_type, -1j*amp, length_transition, alpha), pg.p(None, pause_length)],\n",
    "               'unitary': np.sqrt(0.5)*np.asarray([[1, 1],   [-1, 1]])},\n",
    "       'I':   {'pulses':[], 'unitary':np.asarray([[1, 0], [0,1]])}}\n",
    "#       'X': {'pulses':[pg.p('iq_ex', length, pg.gauss_hd, -amp2, par1, alpha), pg.p(None, pause_length)],\n",
    "#               'unitary': np.asarray([[0, 1],  [1, 0]])},\n",
    "#       'Y': {'pulses':[pg.p('iq_ex', length, pg.gauss_hd, 0, amp2, sigma, alpha), pg.p(None, pause_length)],\n",
    "#               'unitary': 1j*np.asarray([[0, -1],  [1, 0]])}}\n",
    "clifford_group = clifford.generate_group(pi2)#тут меняем наш словарь\n",
    "print(clifford_group.keys(), len(clifford_group))"
   ]
  },
  {
   "cell_type": "code",
   "execution_count": null,
   "metadata": {
    "collapsed": true
   },
   "outputs": [],
   "source": [
    "import qutip as qt\n",
    "qt.sigmay()"
   ]
  },
  {
   "cell_type": "markdown",
   "metadata": {},
   "source": [
    "# Randomized benchmarking"
   ]
  },
  {
   "cell_type": "code",
   "execution_count": null,
   "metadata": {
    "collapsed": true
   },
   "outputs": [],
   "source": [
    "#+\n",
    "import interleaved_benchmarking\n",
    "imp.reload(interleaved_benchmarking)\n",
    "imp.reload(sweep)\n",
    "\n",
    "bench = interleaved_benchmarking.interleaved_benchmarking(tomoz)\n",
    "\n",
    "#unitaries = {0:np.sqrt(0.5)*np.asarray([[1, -1j],  [-1j, 1]]),\\\n",
    "#             1:np.sqrt(0.5)*np.asarray([[1, -1],    [1, 1]]),\\\n",
    "#             2:np.sqrt(0.5)*np.asarray([[1, 1j],   [1j, 1]]),\\\n",
    "#             3:np.sqrt(0.5)*np.asarray([[1, 1],   [-1, 1]])}\n",
    "bench.interleavers = clifford_group\n",
    "#bench.sequence_length = 10\n",
    "bench.random_sequence_num = 20\n",
    "#bench.prepare_random_interleaving_sequences()\n",
    "#bench.get_points()\n",
    "#bench.generate_interleaver_sequence_from_names()"
   ]
  },
  {
   "cell_type": "code",
   "execution_count": null,
   "metadata": {
    "collapsed": true
   },
   "outputs": [],
   "source": [
    "adc.stop()"
   ]
  },
  {
   "cell_type": "code",
   "execution_count": null,
   "metadata": {
    "collapsed": true
   },
   "outputs": [],
   "source": [
    "#+\n",
    "#ro_adc_length=0.2e-6 #ВНИМАНИЕ! я это удалю (закомментирую) тут, т.к. оно всё равно здесь ничего не делает, только мозги выносит\n",
    "seq_lengths = np.arange(0,21, 1)\n",
    "#seq_lengths = np.arange(0, 100, 10)\n",
    "random_sequence_ids = np.arange(bench.random_sequence_num)\n",
    "bench.prepare_random_interleaving_sequences()\n",
    "clifford_bench = sweep.sweep(bench,\n",
    "                             (seq_lengths, bench.set_sequence_length_and_regenerate, 'Gate number', ''), \n",
    "                             (random_sequence_ids, bench.set_interleaved_sequence, 'Random sequence id', ''))"
   ]
  },
  {
   "cell_type": "code",
   "execution_count": null,
   "metadata": {
    "collapsed": true
   },
   "outputs": [],
   "source": [
    "#+\n",
    "imp.reload(fitting)\n",
    "plt.plot(clifford_bench['distance'][1][0], \n",
    "         1-clifford_bench['distance'][2], \n",
    "         marker='o', \n",
    "         color='black', \n",
    "         linestyle='')\n",
    "#plt.plot(clifford_bench['distance'][1][0], np.mean(1-clifford_bench['distance'][2], axis=1))\n",
    "clifford_fitresults, clifford_expfit = fitting.exp_fit1d(clifford_bench['distance'][1][0], \n",
    "                                                        np.reshape(np.mean(1-clifford_bench['distance'][2], axis=1), \n",
    "                                                                   (1, len(clifford_bench['distance'][1][0]))))\n",
    "\n",
    "plt.plot(clifford_bench['distance'][1][0],\n",
    "         clifford_expfit[0],\n",
    "         label='Clifford set')\n",
    "plt.grid()\n",
    "plt.xlabel('Number of gates')\n",
    "plt.ylabel('Fidelity')\n",
    "plt.legend()\n",
    "print('Clifford fidelity: {0:6.3f}'.format(np.exp(-1/clifford_fitresults[0])))"
   ]
  },
  {
   "cell_type": "code",
   "execution_count": 389,
   "metadata": {},
   "outputs": [
    {
     "data": {
      "text/plain": [
       "3.2e-08"
      ]
     },
     "execution_count": 389,
     "metadata": {},
     "output_type": "execute_result"
    }
   ],
   "source": [
    "pi2_gauss"
   ]
  },
  {
   "cell_type": "code",
   "execution_count": 729,
   "metadata": {},
   "outputs": [
    {
     "data": {
      "text/plain": [
       "[array([  3.22350000e-01,   3.23750000e-01,   3.19870000e-01,\n",
       "          3.21480000e-01,   3.22210000e-01,   3.23760000e-01,\n",
       "          3.23630000e-01,   3.25720000e-01,   3.22880000e-01,\n",
       "          3.22780000e-01,   3.24500000e-01,   3.21520000e-01,\n",
       "          2.93690000e-01,   2.68570000e-01,   2.49700000e-01,\n",
       "          2.32260000e-01,   2.17430000e-01,   1.97500000e-01,\n",
       "          1.83570000e-01,   1.68940000e-01,   1.55950000e-01,\n",
       "          1.44690000e-01,   1.33860000e-01,   1.22090000e-01,\n",
       "          1.16170000e-01,   1.01980000e-01,   9.41900000e-02,\n",
       "          8.75200000e-02,   7.68300000e-02,   7.52900000e-02,\n",
       "          6.52000000e-02,   6.26700000e-02,   5.11600000e-02,\n",
       "          4.71700000e-02,   4.09400000e-02,   3.50000000e-02,\n",
       "          3.38100000e-02,   2.66900000e-02,   2.62600000e-02,\n",
       "          2.26400000e-02,   2.24800000e-02,   1.59800000e-02,\n",
       "          1.02500000e-02,   1.14500000e-02,   6.71000000e-03,\n",
       "          2.26000000e-03,   4.72000000e-03,   9.70000000e-04,\n",
       "         -2.40000000e-04,  -2.84000000e-03,  -1.65000000e-03,\n",
       "         -4.82000000e-03,  -8.54000000e-03,  -9.26000000e-03,\n",
       "         -1.32600000e-02,  -1.06900000e-02,  -1.41800000e-02,\n",
       "         -1.42500000e-02,  -1.91100000e-02,  -1.56400000e-02,\n",
       "         -1.79500000e-02,  -1.64100000e-02,  -1.63900000e-02,\n",
       "         -1.75700000e-02,  -1.95900000e-02,  -2.33500000e-02,\n",
       "         -2.12600000e-02,  -2.13300000e-02,  -2.39500000e-02,\n",
       "         -2.47500000e-02,  -2.49600000e-02,  -2.76200000e-02,\n",
       "         -2.95600000e-02,  -2.63500000e-02,  -2.94000000e-02,\n",
       "         -2.67300000e-02,  -2.76500000e-02,  -2.62800000e-02,\n",
       "         -2.54300000e-02,  -2.61900000e-02,  -2.62700000e-02,\n",
       "         -3.00800000e-02,  -2.99100000e-02,  -2.92500000e-02,\n",
       "         -2.86900000e-02,  -2.73400000e-02,  -2.84000000e-02,\n",
       "         -2.96100000e-02,  -2.86600000e-02,  -2.73000000e-02,\n",
       "         -2.97700000e-02,  -2.83200000e-02,  -2.83700000e-02]),\n",
       " array([  3.18490000e-01,   3.16670000e-01,   3.19330000e-01,\n",
       "          3.16960000e-01,   3.16780000e-01,   3.15890000e-01,\n",
       "          3.15040000e-01,   3.16590000e-01,   3.16390000e-01,\n",
       "          3.14670000e-01,   3.13170000e-01,   3.11160000e-01,\n",
       "          2.93360000e-01,   2.72120000e-01,   2.49560000e-01,\n",
       "          2.34640000e-01,   2.10580000e-01,   1.96240000e-01,\n",
       "          1.82410000e-01,   1.65890000e-01,   1.57080000e-01,\n",
       "          1.48490000e-01,   1.37860000e-01,   1.27140000e-01,\n",
       "          1.15780000e-01,   1.14490000e-01,   1.05190000e-01,\n",
       "          9.28400000e-02,   8.57700000e-02,   8.08900000e-02,\n",
       "          7.35400000e-02,   6.82400000e-02,   6.35000000e-02,\n",
       "          5.99300000e-02,   5.17200000e-02,   5.10100000e-02,\n",
       "          4.35500000e-02,   4.29000000e-02,   3.70200000e-02,\n",
       "          3.33600000e-02,   3.00100000e-02,   2.66700000e-02,\n",
       "          2.51100000e-02,   2.22200000e-02,   2.12600000e-02,\n",
       "          1.90600000e-02,   1.50300000e-02,   1.41800000e-02,\n",
       "          9.70000000e-03,   6.70000000e-03,   7.57000000e-03,\n",
       "          5.00000000e-03,   4.74000000e-03,   4.12000000e-03,\n",
       "         -3.00000000e-04,   7.10000000e-04,  -2.19000000e-03,\n",
       "         -2.80000000e-03,  -3.66000000e-03,  -6.52000000e-03,\n",
       "         -4.27000000e-03,  -6.06000000e-03,  -7.35000000e-03,\n",
       "         -1.11700000e-02,  -1.06800000e-02,  -1.06800000e-02,\n",
       "         -8.52000000e-03,  -1.45800000e-02,  -1.35500000e-02,\n",
       "         -1.33000000e-02,  -1.76200000e-02,  -1.60400000e-02,\n",
       "         -1.43500000e-02,  -1.73800000e-02,  -1.70600000e-02,\n",
       "         -1.51100000e-02,  -1.93400000e-02,  -2.15700000e-02,\n",
       "         -2.05100000e-02,  -1.94900000e-02,  -1.88200000e-02,\n",
       "         -2.10400000e-02,  -2.15300000e-02,  -2.06500000e-02,\n",
       "         -2.14700000e-02,  -2.24300000e-02,  -2.14700000e-02,\n",
       "         -2.35400000e-02,  -2.22400000e-02,  -2.09400000e-02,\n",
       "         -2.43100000e-02,  -2.17900000e-02,  -2.42500000e-02]),\n",
       " array([ 0.29534,  0.28572,  0.28317,  0.28408,  0.28235,  0.28118,\n",
       "         0.27467,  0.2707 ,  0.26832,  0.26629,  0.26262,  0.25891,\n",
       "         0.24694,  0.23862,  0.2287 ,  0.2156 ,  0.20035,  0.19008,\n",
       "         0.17954,  0.16865,  0.15381,  0.14162,  0.13273,  0.1201 ,\n",
       "         0.11269,  0.10573,  0.10007,  0.08853,  0.08044,  0.07444,\n",
       "         0.06746,  0.06499,  0.06032,  0.05453,  0.04571,  0.04926,\n",
       "         0.04058,  0.03853,  0.0344 ,  0.03101,  0.03085,  0.02745,\n",
       "         0.02432,  0.0245 ,  0.01878,  0.02071,  0.01818,  0.01224,\n",
       "         0.01381,  0.00805,  0.00855,  0.00762,  0.00344,  0.00404,\n",
       "         0.00071,  0.0024 ,  0.00063, -0.00062, -0.00405, -0.00118,\n",
       "        -0.00347, -0.00267, -0.0052 , -0.00811, -0.0055 , -0.00688,\n",
       "        -0.00971, -0.0086 , -0.00973, -0.01123, -0.00961, -0.01217,\n",
       "        -0.01219, -0.01505, -0.01433, -0.01368, -0.01496, -0.0162 ,\n",
       "        -0.01835, -0.01594, -0.01828, -0.01574, -0.01574, -0.01512,\n",
       "        -0.01693, -0.01582, -0.01513, -0.01794, -0.01824, -0.0148 ,\n",
       "        -0.01619, -0.01431, -0.01507]),\n",
       " array([  2.64880000e-01,   2.62370000e-01,   2.59520000e-01,\n",
       "          2.53740000e-01,   2.43040000e-01,   2.36820000e-01,\n",
       "          2.33450000e-01,   2.28440000e-01,   2.24520000e-01,\n",
       "          2.19330000e-01,   2.11800000e-01,   2.13870000e-01,\n",
       "          2.05050000e-01,   1.98410000e-01,   1.92970000e-01,\n",
       "          1.83010000e-01,   1.76890000e-01,   1.69490000e-01,\n",
       "          1.60680000e-01,   1.52080000e-01,   1.47020000e-01,\n",
       "          1.39370000e-01,   1.26890000e-01,   1.20210000e-01,\n",
       "          1.15420000e-01,   1.05780000e-01,   1.00570000e-01,\n",
       "          9.64700000e-02,   9.06100000e-02,   8.87200000e-02,\n",
       "          8.11300000e-02,   7.61500000e-02,   7.24600000e-02,\n",
       "          6.43000000e-02,   5.86800000e-02,   5.61000000e-02,\n",
       "          5.13400000e-02,   4.71100000e-02,   4.09300000e-02,\n",
       "          3.77500000e-02,   3.27600000e-02,   3.02000000e-02,\n",
       "          3.16700000e-02,   2.59600000e-02,   2.53400000e-02,\n",
       "          2.48900000e-02,   1.91000000e-02,   1.82600000e-02,\n",
       "          1.25100000e-02,   1.25200000e-02,   1.01900000e-02,\n",
       "          1.03800000e-02,   8.51000000e-03,   2.83000000e-03,\n",
       "          2.67000000e-03,   3.52000000e-03,  -9.90000000e-04,\n",
       "          1.16000000e-03,  -1.91000000e-03,  -2.40000000e-03,\n",
       "         -3.47000000e-03,  -1.00000000e-05,  -4.74000000e-03,\n",
       "         -2.46000000e-03,  -6.99000000e-03,  -5.17000000e-03,\n",
       "         -8.30000000e-03,  -1.08400000e-02,  -1.03600000e-02,\n",
       "         -1.18600000e-02,  -1.26400000e-02,  -1.27100000e-02,\n",
       "         -1.24700000e-02,  -1.42900000e-02,  -1.49700000e-02,\n",
       "         -1.38800000e-02,  -1.55300000e-02,  -1.55500000e-02,\n",
       "         -1.59900000e-02,  -1.38500000e-02,  -1.77700000e-02,\n",
       "         -1.65000000e-02,  -1.68700000e-02,  -1.61600000e-02,\n",
       "         -1.73500000e-02,  -1.57400000e-02,  -1.58300000e-02,\n",
       "         -1.92000000e-02,  -1.70100000e-02,  -1.80600000e-02,\n",
       "         -1.99000000e-02,  -2.15400000e-02,  -1.61600000e-02]),\n",
       " array([ 0.23448,  0.22595,  0.21511,  0.20495,  0.19473,  0.18057,\n",
       "         0.1734 ,  0.16659,  0.15505,  0.14852,  0.14483,  0.14671,\n",
       "         0.13725,  0.13654,  0.13689,  0.1313 ,  0.12764,  0.11885,\n",
       "         0.11419,  0.10815,  0.10741,  0.10723,  0.10185,  0.09904,\n",
       "         0.09717,  0.09553,  0.09002,  0.08822,  0.08542,  0.08403,\n",
       "         0.07904,  0.07689,  0.0762 ,  0.06648,  0.072  ,  0.071  ,\n",
       "         0.06036,  0.05991,  0.06504,  0.05683,  0.05439,  0.05607,\n",
       "         0.0513 ,  0.05171,  0.04583,  0.04754,  0.04081,  0.04251,\n",
       "         0.04215,  0.04291,  0.03439,  0.03737,  0.02985,  0.0286 ,\n",
       "         0.02711,  0.03112,  0.02851,  0.02883,  0.0267 ,  0.02279,\n",
       "         0.02293,  0.02302,  0.02549,  0.01708,  0.01258,  0.00569,\n",
       "         0.00983,  0.00371,  0.00296,  0.00342,  0.00233, -0.00464,\n",
       "        -0.00212, -0.00769, -0.00765, -0.00776, -0.00754, -0.01274,\n",
       "        -0.0098 , -0.00753, -0.01268, -0.01358, -0.01064, -0.01234,\n",
       "        -0.01302, -0.01297, -0.01323, -0.01236, -0.01695, -0.0158 ,\n",
       "        -0.01453, -0.01548, -0.01646]),\n",
       " array([  2.04640000e-01,   2.00010000e-01,   1.89270000e-01,\n",
       "          1.58420000e-01,   1.65520000e-01,   1.26800000e-01,\n",
       "          1.21790000e-01,   1.14570000e-01,   1.13270000e-01,\n",
       "          9.22100000e-02,   8.52200000e-02,   8.51000000e-02,\n",
       "          8.77400000e-02,   8.64200000e-02,   9.24200000e-02,\n",
       "          7.86200000e-02,   8.24400000e-02,   9.25400000e-02,\n",
       "          7.88100000e-02,   8.12900000e-02,   9.34800000e-02,\n",
       "          8.96600000e-02,   8.28400000e-02,   8.31400000e-02,\n",
       "          6.76900000e-02,   8.71600000e-02,   7.93700000e-02,\n",
       "          7.43400000e-02,   6.00200000e-02,   6.65800000e-02,\n",
       "          7.68800000e-02,   7.23900000e-02,   7.79000000e-02,\n",
       "          6.51500000e-02,   7.09000000e-02,   7.26000000e-02,\n",
       "          6.66300000e-02,   6.30400000e-02,   7.06700000e-02,\n",
       "          6.15000000e-02,   5.63700000e-02,   6.03800000e-02,\n",
       "          6.10300000e-02,   5.52500000e-02,   6.68700000e-02,\n",
       "          5.44500000e-02,   1.29400000e-02,   3.98000000e-03,\n",
       "          3.51000000e-03,   3.79100000e-02,   3.40400000e-02,\n",
       "         -4.17000000e-03,   2.43700000e-02,  -4.96000000e-03,\n",
       "          1.22800000e-02,   4.04600000e-02,   6.84000000e-03,\n",
       "         -3.00000000e-05,   2.28300000e-02,  -2.14500000e-02,\n",
       "          2.50100000e-02,   1.29600000e-02,   3.70200000e-02,\n",
       "         -9.52000000e-03,   1.07700000e-02,  -4.52000000e-03,\n",
       "         -1.69400000e-02,  -1.62000000e-02,  -1.14400000e-02,\n",
       "         -1.60100000e-02,  -2.27900000e-02,   5.31000000e-03,\n",
       "         -1.69100000e-02,  -1.72900000e-02,  -3.83700000e-02,\n",
       "         -2.77900000e-02,  -3.81500000e-02,  -2.67200000e-02,\n",
       "         -2.68100000e-02,  -3.99800000e-02,  -3.15000000e-02,\n",
       "         -2.28800000e-02,  -2.73800000e-02,  -3.16100000e-02,\n",
       "         -3.06500000e-02,  -1.74600000e-02,  -3.37700000e-02,\n",
       "         -3.26100000e-02,  -3.61000000e-02,  -7.68000000e-03,\n",
       "         -1.50500000e-02,  -2.28600000e-02,  -1.45600000e-02])]"
      ]
     },
     "execution_count": 729,
     "metadata": {},
     "output_type": "execute_result"
    }
   ],
   "source": [
    "data"
   ]
  },
  {
   "cell_type": "code",
   "execution_count": 487,
   "metadata": {},
   "outputs": [
    {
     "data": {
      "text/plain": [
       "array([[  0.00000000e+00,   1.92000000e-07,   3.84000000e-07,\n",
       "          5.76000000e-07,   7.68000000e-07,   9.60000000e-07,\n",
       "          1.15200000e-06,   1.34400000e-06,   1.53600000e-06,\n",
       "          1.72800000e-06,   1.92000000e-06,   1.92000000e-06,\n",
       "          1.94320000e-06,   1.96640000e-06,   1.98960000e-06,\n",
       "          2.01280000e-06,   2.03600000e-06,   2.05920000e-06,\n",
       "          2.08240000e-06,   2.10560000e-06,   2.12880000e-06,\n",
       "          2.15200000e-06,   2.17520000e-06,   2.19840000e-06,\n",
       "          2.22160000e-06,   2.24480000e-06,   2.26800000e-06,\n",
       "          2.29120000e-06,   2.31440000e-06,   2.33760000e-06,\n",
       "          2.36080000e-06,   2.38400000e-06,   2.40720000e-06,\n",
       "          2.43040000e-06,   2.45360000e-06,   2.47680000e-06,\n",
       "          2.50000000e-06,   2.52320000e-06,   2.54640000e-06,\n",
       "          2.56960000e-06,   2.59280000e-06,   2.61600000e-06,\n",
       "          2.63920000e-06,   2.66240000e-06,   2.68560000e-06,\n",
       "          2.70880000e-06,   2.73200000e-06,   2.75520000e-06,\n",
       "          2.77840000e-06,   2.80160000e-06,   2.82480000e-06,\n",
       "          2.84800000e-06,   2.87120000e-06,   2.89440000e-06,\n",
       "          2.91760000e-06,   2.94080000e-06,   2.96400000e-06,\n",
       "          2.98720000e-06,   3.01040000e-06,   3.03360000e-06,\n",
       "          3.05680000e-06,   3.08000000e-06,   3.08000000e-06,\n",
       "          3.24666667e-06,   3.41333333e-06,   3.58000000e-06,\n",
       "          3.74666667e-06,   3.91333333e-06,   4.08000000e-06,\n",
       "          4.24666667e-06,   4.41333333e-06,   4.58000000e-06,\n",
       "          4.74666667e-06,   4.91333333e-06,   5.08000000e-06,\n",
       "          5.24666667e-06,   5.41333333e-06,   5.58000000e-06,\n",
       "          5.74666667e-06,   5.91333333e-06,   6.08000000e-06,\n",
       "          6.24666667e-06,   6.41333333e-06,   6.58000000e-06,\n",
       "          6.74666667e-06,   6.91333333e-06,   7.08000000e-06,\n",
       "          7.24666667e-06,   7.41333333e-06,   7.58000000e-06,\n",
       "          7.74666667e-06,   7.91333333e-06,   8.08000000e-06]])"
      ]
     },
     "execution_count": 487,
     "metadata": {},
     "output_type": "execute_result"
    }
   ],
   "source": [
    "np.asarray(data[1]['z'][1]) - 60*pi2_gauss"
   ]
  },
  {
   "cell_type": "code",
   "execution_count": 380,
   "metadata": {
    "collapsed": true
   },
   "outputs": [],
   "source": [
    "time = np.asarray((np.asarray(data2[1]['z'][1][0])-3*2*pi2_gauss).tolist() + (data[1]['z'][1][0]).tolist())\n",
    "meas = np.asarray(data[1]['z'][2].tolist() + data2[1]['z'][2].tolist())"
   ]
  },
  {
   "cell_type": "code",
   "execution_count": 296,
   "metadata": {
    "collapsed": true
   },
   "outputs": [],
   "source": [
    "import fitting_CPMG\n",
    "from fitting_CPMG import gaussian_CPMG"
   ]
  },
  {
   "cell_type": "code",
   "execution_count": 728,
   "metadata": {},
   "outputs": [
    {
     "data": {
      "text/plain": [
       "<matplotlib.legend.Legend at 0x28cdbb2d2e8>"
      ]
     },
     "execution_count": 728,
     "metadata": {},
     "output_type": "execute_result"
    }
   ],
   "source": [
    "imp.reload(fitting_CPMG)\n",
    "from fitting_CPMG import gaussian_CPMG\n",
    "from fitting_CPMG import fit_CPMG_new\n",
    "import matplotlib.patches as plm\n",
    "gamma1 = (10**6)/2.8\n",
    "gammap = 0\n",
    "indexes = [0, 1, 5, 10, 20, 30]\n",
    "adresses = ['19-02-27', '19-18-23', '19-50-37', '20-22-52', '20-55-06', '21-27-03']\n",
    "time = []\n",
    "data = []\n",
    "fitted_data = []\n",
    "fitted_param = []\n",
    "p = []\n",
    "for i in range(6):\n",
    "    meas = []\n",
    "    param = []\n",
    "    with open('D:\\qtlab\\ReiData\\\\data\\\\2018-04-19\\\\{}-CPMG Thesis N={}\\\\z CPMG Thesis N={}.pkl'.format(adresses[i], indexes[i], indexes[i]), 'rb') as f:\n",
    "        time.append(pickle.load(f)[1]['z'][1][0])\n",
    "    with open('D:\\qtlab\\ReiData\\\\data\\\\2018-04-19\\\\{}-CPMG Thesis N={}\\\\z CPMG Thesis N={}.pkl'.format(adresses[i], indexes[i], indexes[i]), 'rb') as f:\n",
    "        data.append(pickle.load(f)[1]['z'][2])\n",
    "    if (i==0) or (i==1):\n",
    "        param, meas = fitting_CPMG.gaussian_CPMG_exp(time[i], data[i])\n",
    "        #print(i, indexes[i])\n",
    "        #meas, param = [], []\n",
    "    else:\n",
    "        meas, param = fitting_CPMG.fit_CPMG_new(indexes[i], pi2_gauss, gamma1, gammap, tayp, time[i], data[i], gaussian_CPMG)\n",
    "    meas += 0.5\n",
    "    fitted_data.append(meas)\n",
    "    fitted_param.append(param[0])\n",
    "    p.append(plt.plot(time[i]*1e06, data[i]+0.5, marker = 'o', markersize = 1, linestyle = ''))#, time[i], fitted_data[i])\n",
    "    #plt.legend('N = {}'.format(indexes[i]))\n",
    "\n",
    "for i in range(6):\n",
    "    plt.plot(time[i]*1e06, fitted_data[i], color = '{}'.format(p[i][0].get_color()))\n",
    "    #p.append(plt.plot(time[i], fitted_data[i]))\n",
    "#type(p[0][0])\n",
    "#p[0][0].get_color()\n",
    "Handels = []\n",
    "for i in range(6):\n",
    "    Handels.append(plm.Patch(color = p[i][0].get_color(), label = 'N = {}'.format(indexes[i])))\n",
    "plt.legend(handles = Handels)"
   ]
  },
  {
   "cell_type": "code",
   "execution_count": 731,
   "metadata": {},
   "outputs": [
    {
     "data": {
      "text/plain": [
       "(2,\n",
       " {'Zo': (('CPMG',),\n",
       "   (array([  3.20000000e-07,   3.52000000e-07,   3.84000000e-07,\n",
       "             4.16000000e-07,   4.48000000e-07,   4.80000000e-07,\n",
       "             5.12000000e-07,   5.44000000e-07,   5.76000000e-07,\n",
       "             6.08000000e-07,   6.40000000e-07,   6.40000000e-07,\n",
       "             7.27200000e-07,   8.14400000e-07,   9.01600000e-07,\n",
       "             9.88800000e-07,   1.07600000e-06,   1.16320000e-06,\n",
       "             1.25040000e-06,   1.33760000e-06,   1.42480000e-06,\n",
       "             1.51200000e-06,   1.59920000e-06,   1.68640000e-06,\n",
       "             1.77360000e-06,   1.86080000e-06,   1.94800000e-06,\n",
       "             2.03520000e-06,   2.12240000e-06,   2.20960000e-06,\n",
       "             2.29680000e-06,   2.38400000e-06,   2.47120000e-06,\n",
       "             2.55840000e-06,   2.64560000e-06,   2.73280000e-06,\n",
       "             2.82000000e-06,   2.90720000e-06,   2.99440000e-06,\n",
       "             3.08160000e-06,   3.16880000e-06,   3.25600000e-06,\n",
       "             3.34320000e-06,   3.43040000e-06,   3.51760000e-06,\n",
       "             3.60480000e-06,   3.69200000e-06,   3.77920000e-06,\n",
       "             3.86640000e-06,   3.95360000e-06,   4.04080000e-06,\n",
       "             4.12800000e-06,   4.21520000e-06,   4.30240000e-06,\n",
       "             4.38960000e-06,   4.47680000e-06,   4.56400000e-06,\n",
       "             4.65120000e-06,   4.73840000e-06,   4.82560000e-06,\n",
       "             4.91280000e-06,   5.00000000e-06,   5.00000000e-06,\n",
       "             5.16666667e-06,   5.33333333e-06,   5.50000000e-06,\n",
       "             5.66666667e-06,   5.83333333e-06,   6.00000000e-06,\n",
       "             6.16666667e-06,   6.33333333e-06,   6.50000000e-06,\n",
       "             6.66666667e-06,   6.83333333e-06,   7.00000000e-06,\n",
       "             7.16666667e-06,   7.33333333e-06,   7.50000000e-06,\n",
       "             7.66666667e-06,   7.83333333e-06,   8.00000000e-06,\n",
       "             8.16666667e-06,   8.33333333e-06,   8.50000000e-06,\n",
       "             8.66666667e-06,   8.83333333e-06,   9.00000000e-06,\n",
       "             9.16666667e-06,   9.33333333e-06,   9.50000000e-06,\n",
       "             9.66666667e-06,   9.83333333e-06,   1.00000000e-05]),),\n",
       "   array([ 0.29534,  0.28572,  0.28317,  0.28408,  0.28235,  0.28118,\n",
       "           0.27467,  0.2707 ,  0.26832,  0.26629,  0.26262,  0.25891,\n",
       "           0.24694,  0.23862,  0.2287 ,  0.2156 ,  0.20035,  0.19008,\n",
       "           0.17954,  0.16865,  0.15381,  0.14162,  0.13273,  0.1201 ,\n",
       "           0.11269,  0.10573,  0.10007,  0.08853,  0.08044,  0.07444,\n",
       "           0.06746,  0.06499,  0.06032,  0.05453,  0.04571,  0.04926,\n",
       "           0.04058,  0.03853,  0.0344 ,  0.03101,  0.03085,  0.02745,\n",
       "           0.02432,  0.0245 ,  0.01878,  0.02071,  0.01818,  0.01224,\n",
       "           0.01381,  0.00805,  0.00855,  0.00762,  0.00344,  0.00404,\n",
       "           0.00071,  0.0024 ,  0.00063, -0.00062, -0.00405, -0.00118,\n",
       "          -0.00347, -0.00267, -0.0052 , -0.00811, -0.0055 , -0.00688,\n",
       "          -0.00971, -0.0086 , -0.00973, -0.01123, -0.00961, -0.01217,\n",
       "          -0.01219, -0.01505, -0.01433, -0.01368, -0.01496, -0.0162 ,\n",
       "          -0.01835, -0.01594, -0.01828, -0.01574, -0.01574, -0.01512,\n",
       "          -0.01693, -0.01582, -0.01513, -0.01794, -0.01824, -0.0148 ,\n",
       "          -0.01619, -0.01431, -0.01507]),\n",
       "   {},\n",
       "   ('',)),\n",
       "  'z': (('CPMG',),\n",
       "   (array([  3.20000000e-07,   3.52000000e-07,   3.84000000e-07,\n",
       "             4.16000000e-07,   4.48000000e-07,   4.80000000e-07,\n",
       "             5.12000000e-07,   5.44000000e-07,   5.76000000e-07,\n",
       "             6.08000000e-07,   6.40000000e-07,   6.40000000e-07,\n",
       "             7.27200000e-07,   8.14400000e-07,   9.01600000e-07,\n",
       "             9.88800000e-07,   1.07600000e-06,   1.16320000e-06,\n",
       "             1.25040000e-06,   1.33760000e-06,   1.42480000e-06,\n",
       "             1.51200000e-06,   1.59920000e-06,   1.68640000e-06,\n",
       "             1.77360000e-06,   1.86080000e-06,   1.94800000e-06,\n",
       "             2.03520000e-06,   2.12240000e-06,   2.20960000e-06,\n",
       "             2.29680000e-06,   2.38400000e-06,   2.47120000e-06,\n",
       "             2.55840000e-06,   2.64560000e-06,   2.73280000e-06,\n",
       "             2.82000000e-06,   2.90720000e-06,   2.99440000e-06,\n",
       "             3.08160000e-06,   3.16880000e-06,   3.25600000e-06,\n",
       "             3.34320000e-06,   3.43040000e-06,   3.51760000e-06,\n",
       "             3.60480000e-06,   3.69200000e-06,   3.77920000e-06,\n",
       "             3.86640000e-06,   3.95360000e-06,   4.04080000e-06,\n",
       "             4.12800000e-06,   4.21520000e-06,   4.30240000e-06,\n",
       "             4.38960000e-06,   4.47680000e-06,   4.56400000e-06,\n",
       "             4.65120000e-06,   4.73840000e-06,   4.82560000e-06,\n",
       "             4.91280000e-06,   5.00000000e-06,   5.00000000e-06,\n",
       "             5.16666667e-06,   5.33333333e-06,   5.50000000e-06,\n",
       "             5.66666667e-06,   5.83333333e-06,   6.00000000e-06,\n",
       "             6.16666667e-06,   6.33333333e-06,   6.50000000e-06,\n",
       "             6.66666667e-06,   6.83333333e-06,   7.00000000e-06,\n",
       "             7.16666667e-06,   7.33333333e-06,   7.50000000e-06,\n",
       "             7.66666667e-06,   7.83333333e-06,   8.00000000e-06,\n",
       "             8.16666667e-06,   8.33333333e-06,   8.50000000e-06,\n",
       "             8.66666667e-06,   8.83333333e-06,   9.00000000e-06,\n",
       "             9.16666667e-06,   9.33333333e-06,   9.50000000e-06,\n",
       "             9.66666667e-06,   9.83333333e-06,   1.00000000e-05]),),\n",
       "   array([ 0.29534,  0.28572,  0.28317,  0.28408,  0.28235,  0.28118,\n",
       "           0.27467,  0.2707 ,  0.26832,  0.26629,  0.26262,  0.25891,\n",
       "           0.24694,  0.23862,  0.2287 ,  0.2156 ,  0.20035,  0.19008,\n",
       "           0.17954,  0.16865,  0.15381,  0.14162,  0.13273,  0.1201 ,\n",
       "           0.11269,  0.10573,  0.10007,  0.08853,  0.08044,  0.07444,\n",
       "           0.06746,  0.06499,  0.06032,  0.05453,  0.04571,  0.04926,\n",
       "           0.04058,  0.03853,  0.0344 ,  0.03101,  0.03085,  0.02745,\n",
       "           0.02432,  0.0245 ,  0.01878,  0.02071,  0.01818,  0.01224,\n",
       "           0.01381,  0.00805,  0.00855,  0.00762,  0.00344,  0.00404,\n",
       "           0.00071,  0.0024 ,  0.00063, -0.00062, -0.00405, -0.00118,\n",
       "          -0.00347, -0.00267, -0.0052 , -0.00811, -0.0055 , -0.00688,\n",
       "          -0.00971, -0.0086 , -0.00973, -0.01123, -0.00961, -0.01217,\n",
       "          -0.01219, -0.01505, -0.01433, -0.01368, -0.01496, -0.0162 ,\n",
       "          -0.01835, -0.01594, -0.01828, -0.01574, -0.01574, -0.01512,\n",
       "          -0.01693, -0.01582, -0.01513, -0.01794, -0.01824, -0.0148 ,\n",
       "          -0.01619, -0.01431, -0.01507]),\n",
       "   {},\n",
       "   ('',))},\n",
       " {'name': 'CPMG Thesis N=5', 'params': ('CPMG',), 'type': 'z'})"
      ]
     },
     "execution_count": 731,
     "metadata": {},
     "output_type": "execute_result"
    }
   ],
   "source": [
    "data"
   ]
  },
  {
   "cell_type": "code",
   "execution_count": 730,
   "metadata": {
    "scrolled": true
   },
   "outputs": [
    {
     "data": {
      "text/plain": [
       "array([  0.00000000e+00,   3.20000000e-08,   6.40000000e-08,\n",
       "         9.60000000e-08,   1.28000000e-07,   1.60000000e-07,\n",
       "         1.92000000e-07,   2.24000000e-07,   2.56000000e-07,\n",
       "         2.88000000e-07,   3.20000000e-07,   3.20000000e-07,\n",
       "         4.07200000e-07,   4.94400000e-07,   5.81600000e-07,\n",
       "         6.68800000e-07,   7.56000000e-07,   8.43200000e-07,\n",
       "         9.30400000e-07,   1.01760000e-06,   1.10480000e-06,\n",
       "         1.19200000e-06,   1.27920000e-06,   1.36640000e-06,\n",
       "         1.45360000e-06,   1.54080000e-06,   1.62800000e-06,\n",
       "         1.71520000e-06,   1.80240000e-06,   1.88960000e-06,\n",
       "         1.97680000e-06,   2.06400000e-06,   2.15120000e-06,\n",
       "         2.23840000e-06,   2.32560000e-06,   2.41280000e-06,\n",
       "         2.50000000e-06,   2.58720000e-06,   2.67440000e-06,\n",
       "         2.76160000e-06,   2.84880000e-06,   2.93600000e-06,\n",
       "         3.02320000e-06,   3.11040000e-06,   3.19760000e-06,\n",
       "         3.28480000e-06,   3.37200000e-06,   3.45920000e-06,\n",
       "         3.54640000e-06,   3.63360000e-06,   3.72080000e-06,\n",
       "         3.80800000e-06,   3.89520000e-06,   3.98240000e-06,\n",
       "         4.06960000e-06,   4.15680000e-06,   4.24400000e-06,\n",
       "         4.33120000e-06,   4.41840000e-06,   4.50560000e-06,\n",
       "         4.59280000e-06,   4.68000000e-06,   4.68000000e-06,\n",
       "         4.84666667e-06,   5.01333333e-06,   5.18000000e-06,\n",
       "         5.34666667e-06,   5.51333333e-06,   5.68000000e-06,\n",
       "         5.84666667e-06,   6.01333333e-06,   6.18000000e-06,\n",
       "         6.34666667e-06,   6.51333333e-06,   6.68000000e-06,\n",
       "         6.84666667e-06,   7.01333333e-06,   7.18000000e-06,\n",
       "         7.34666667e-06,   7.51333333e-06,   7.68000000e-06,\n",
       "         7.84666667e-06,   8.01333333e-06,   8.18000000e-06,\n",
       "         8.34666667e-06,   8.51333333e-06,   8.68000000e-06,\n",
       "         8.84666667e-06,   9.01333333e-06,   9.18000000e-06,\n",
       "         9.34666667e-06,   9.51333333e-06,   9.68000000e-06])"
      ]
     },
     "execution_count": 730,
     "metadata": {},
     "output_type": "execute_result"
    }
   ],
   "source": [
    "import pickle\n",
    "N = 5\n",
    "with open('D:\\qtlab\\ReiData\\\\data\\\\2018-04-19\\\\19-50-37-CPMG Thesis N=5\\\\z CPMG Thesis N=5.pkl', 'rb') as f:\n",
    "    data = pickle.load(f)\n",
    "data[1]['z'][1][0] - N*2*pi2_gauss"
   ]
  },
  {
   "cell_type": "code",
   "execution_count": 570,
   "metadata": {
    "collapsed": true
   },
   "outputs": [],
   "source": [
    "imp.reload(fitting_CPMG)\n",
    "from fitting_CPMG import gaussian_CPMG\n",
    "from fitting_CPMG import fit_CPMG_new\n",
    "gamma1 = (10**6)/2.8\n",
    "gammap = 0#(10^6)/1.75"
   ]
  },
  {
   "cell_type": "code",
   "execution_count": 594,
   "metadata": {
    "scrolled": true
   },
   "outputs": [
    {
     "data": {
      "text/plain": [
       "array([  0.00000000e+00,   3.20000000e-08,   6.40000000e-08,\n",
       "         9.60000000e-08,   1.28000000e-07,   1.60000000e-07,\n",
       "         1.92000000e-07,   2.24000000e-07,   2.56000000e-07,\n",
       "         2.88000000e-07,   3.20000000e-07,   3.20000000e-07,\n",
       "         4.07200000e-07,   4.94400000e-07,   5.81600000e-07,\n",
       "         6.68800000e-07,   7.56000000e-07,   8.43200000e-07,\n",
       "         9.30400000e-07,   1.01760000e-06,   1.10480000e-06,\n",
       "         1.19200000e-06,   1.27920000e-06,   1.36640000e-06,\n",
       "         1.45360000e-06,   1.54080000e-06,   1.62800000e-06,\n",
       "         1.71520000e-06,   1.80240000e-06,   1.88960000e-06,\n",
       "         1.97680000e-06,   2.06400000e-06,   2.15120000e-06,\n",
       "         2.23840000e-06,   2.32560000e-06,   2.41280000e-06,\n",
       "         2.50000000e-06,   2.58720000e-06,   2.67440000e-06,\n",
       "         2.76160000e-06,   2.84880000e-06,   2.93600000e-06,\n",
       "         3.02320000e-06,   3.11040000e-06,   3.19760000e-06,\n",
       "         3.28480000e-06,   3.37200000e-06,   3.45920000e-06,\n",
       "         3.54640000e-06,   3.63360000e-06,   3.72080000e-06,\n",
       "         3.80800000e-06,   3.89520000e-06,   3.98240000e-06,\n",
       "         4.06960000e-06,   4.15680000e-06,   4.24400000e-06,\n",
       "         4.33120000e-06,   4.41840000e-06,   4.50560000e-06,\n",
       "         4.59280000e-06,   4.68000000e-06,   4.68000000e-06,\n",
       "         4.84666667e-06,   5.01333333e-06,   5.18000000e-06,\n",
       "         5.34666667e-06,   5.51333333e-06,   5.68000000e-06,\n",
       "         5.84666667e-06,   6.01333333e-06,   6.18000000e-06,\n",
       "         6.34666667e-06,   6.51333333e-06,   6.68000000e-06,\n",
       "         6.84666667e-06,   7.01333333e-06,   7.18000000e-06,\n",
       "         7.34666667e-06,   7.51333333e-06,   7.68000000e-06,\n",
       "         7.84666667e-06,   8.01333333e-06,   8.18000000e-06,\n",
       "         8.34666667e-06,   8.51333333e-06,   8.68000000e-06,\n",
       "         8.84666667e-06,   9.01333333e-06,   9.18000000e-06,\n",
       "         9.34666667e-06,   9.51333333e-06,   9.68000000e-06])"
      ]
     },
     "execution_count": 594,
     "metadata": {},
     "output_type": "execute_result"
    }
   ],
   "source": [
    "time = np.asarray(data[1]['z'][1][0])-N*2*pi2_gauss\n",
    "measurement_fitted5, fitted_parameters5 = fitting_CPMG.fit_CPMG_new(N, pi2_gauss, gamma1, gammap, tayp, time, data[1]['z'][2], gaussian_CPMG)\n",
    "time"
   ]
  },
  {
   "cell_type": "code",
   "execution_count": 573,
   "metadata": {
    "collapsed": true
   },
   "outputs": [],
   "source": [
    "fitted_parameters0, measurement_fitted0 = fitting_CPMG.gaussian_CPMG_exp(time, data[1]['z'][2])"
   ]
  },
  {
   "cell_type": "code",
   "execution_count": 596,
   "metadata": {
    "collapsed": true
   },
   "outputs": [],
   "source": [
    "time5 = time"
   ]
  },
  {
   "cell_type": "code",
   "execution_count": 575,
   "metadata": {
    "scrolled": true
   },
   "outputs": [
    {
     "data": {
      "text/plain": [
       "(array([  1.38142807e+06,   3.61027182e-01,  -3.01382164e-02]),\n",
       " array([ 0.33088897,  0.32929654,  0.32771114,  0.32613274,  0.32456129,\n",
       "         0.32299678,  0.32143917,  0.31988842,  0.31834452,  0.31680743,\n",
       "         0.31527712,  0.31527712,  0.29279462,  0.27177548,  0.25212444,\n",
       "         0.23375244,  0.21657625,  0.20051803,  0.18550501,  0.17146917,\n",
       "         0.15834689,  0.14607871,  0.13460906,  0.12388594,  0.11386077,\n",
       "         0.10448812,  0.09572553,  0.08753327,  0.07987424,  0.07271372,\n",
       "         0.06601926,  0.05976053,  0.05390918,  0.04843868,  0.04332424,\n",
       "         0.0385427 ,  0.03407237,  0.02989302,  0.02598569,  0.02233268,\n",
       "         0.01891744,  0.01572449,  0.01273937,  0.00994854,  0.00733936,\n",
       "         0.00490001,  0.00261943,  0.00048729, -0.00150607, -0.00336969,\n",
       "        -0.00511201, -0.00674092, -0.00826381, -0.00968758, -0.01101867,\n",
       "        -0.01226313, -0.01342659, -0.01451432, -0.01553125, -0.016482  ,\n",
       "        -0.01737086, -0.01820186, -0.01820186, -0.01949982, -0.02065664,\n",
       "        -0.02168766, -0.02260658, -0.02342557, -0.0241555 , -0.02480606,\n",
       "        -0.02538588, -0.02590265, -0.02636322, -0.02677372, -0.02713957,\n",
       "        -0.02746564, -0.02775626, -0.02801527, -0.02824612, -0.02845187,\n",
       "        -0.02863524, -0.02879867, -0.02894434, -0.02907416, -0.02918986,\n",
       "        -0.02929299, -0.0293849 , -0.02946681, -0.02953982, -0.02960489,\n",
       "        -0.02966289, -0.02971457, -0.02976064]))"
      ]
     },
     "execution_count": 575,
     "metadata": {},
     "output_type": "execute_result"
    }
   ],
   "source": [
    "fitted_parameters0,measurement_fitted0"
   ]
  },
  {
   "cell_type": "code",
   "execution_count": 597,
   "metadata": {},
   "outputs": [
    {
     "name": "stdout",
     "output_type": "stream",
     "text": [
      "[  4.96295516e+05   2.85688543e-01  -6.04324674e-03]\n"
     ]
    }
   ],
   "source": [
    "plt.plot(time5, measurement_fitted5)\n",
    "plt.plot(time5, data[1]['z'][2], marker = 'o', markersize = 1, linestyle = '')\n",
    "#plt.legend('N = 10')\n",
    "print(fitted_parameters5)"
   ]
  },
  {
   "cell_type": "code",
   "execution_count": 581,
   "metadata": {},
   "outputs": [
    {
     "name": "stdout",
     "output_type": "stream",
     "text": [
      "[  4.05634810e+05   2.71951386e-01  -1.27497213e-02]\n"
     ]
    }
   ],
   "source": [
    "print(fitted_parameters10)"
   ]
  },
  {
   "cell_type": "code",
   "execution_count": null,
   "metadata": {
    "collapsed": true
   },
   "outputs": [],
   "source": [
    "clifford_location='D:\\\\qtlab\\\\ReiData\\\\data\\\\2017-11-02\\\\21-07-16'\n",
    "name='distance None'\n",
    "clifford_bench = {}\n",
    "clifford_bench = save_pkl.load_pkl(name, clifford_location)[1]\n",
    "#clifford_bench['distance']\n",
    "clifford_bench['Pulse sequence']"
   ]
  },
  {
   "cell_type": "code",
   "execution_count": null,
   "metadata": {
    "collapsed": true
   },
   "outputs": [],
   "source": [
    "print([clifford_bench['Pulse sequence'][2][1][i][::2] for i in range(len(clifford_bench['Pulse sequence'][2][1]))])\n",
    "print([clifford_bench['Pulse sequence'][2][1][i][::2] for i in range(len(clifford_bench['Pulse sequence'][2][1]))])"
   ]
  },
  {
   "cell_type": "code",
   "execution_count": null,
   "metadata": {
    "collapsed": true
   },
   "outputs": [],
   "source": [
    "clifford_bench['distance'][2][1,:]"
   ]
  },
  {
   "cell_type": "code",
   "execution_count": null,
   "metadata": {
    "collapsed": true
   },
   "outputs": [],
   "source": [
    "not_location='D:\\\\qtlab\\\\ReiData\\\\data\\\\2017-11-02\\\\22-14-16'\n",
    "name='distance None'\n",
    "not_bench = {}\n",
    "not_bench = save_pkl.load_pkl(name, not_location)[1]\n",
    "#clifford_bench['distance']\n",
    "pass"
   ]
  },
  {
   "cell_type": "code",
   "execution_count": null,
   "metadata": {
    "collapsed": true
   },
   "outputs": [],
   "source": [
    "hadamard_location='D:\\\\qtlab\\\\ReiData\\\\data\\\\2017-11-02\\\\21-40-30'\n",
    "name='distance None'\n",
    "hadamard_bench = {}\n",
    "hadamard_bench = save_pkl.load_pkl(name, hadamard_location)[1]\n",
    "#clifford_bench['distance']\n",
    "pass"
   ]
  },
  {
   "cell_type": "markdown",
   "metadata": {},
   "source": [
    "## interleaved benchmarking of H gate and NOT"
   ]
  },
  {
   "cell_type": "code",
   "execution_count": null,
   "metadata": {
    "collapsed": true
   },
   "outputs": [],
   "source": [
    "import interleaved_benchmarking\n",
    "imp.reload(interleaved_benchmarking)\n",
    "\n",
    "bench = interleaved_benchmarking.interleaved_benchmarking(tomoz)\n",
    "\n",
    "bench.interleavers = clifford_group\n",
    "bench.random_sequence_num = 10\n",
    "bench.target_gate = clifford_group['Y/2 X/2 X/2']['pulses'] # NOT\n",
    "bench.target_gate_name = 'Hadamard'\n",
    "bench.target_gate_unitary = clifford_group['Y/2 X/2 X/2']['unitary']\n"
   ]
  },
  {
   "cell_type": "code",
   "execution_count": null,
   "metadata": {
    "collapsed": true,
    "scrolled": true
   },
   "outputs": [],
   "source": [
    "seq_lengths = np.arange(0, 51, 5)\n",
    "random_sequence_ids = np.arange(bench.random_sequence_num)\n",
    "bench.prepare_random_interleaving_sequences()\n",
    "hadamard_bench = sweep.sweep(bench,\n",
    "                             (seq_lengths, bench.set_sequence_length_and_regenerate, 'Gate number', ''), \n",
    "                             (random_sequence_ids, bench.set_interleaved_sequence, 'Random sequence id', ''))"
   ]
  },
  {
   "cell_type": "code",
   "execution_count": null,
   "metadata": {
    "collapsed": true
   },
   "outputs": [],
   "source": [
    "imp.reload(fitting)\n",
    "plt.plot(clifford_bench['distance'][1][0], 1-clifford_bench['distance'][2], marker='o', color='black', linestyle='')\n",
    "#plt.plot(clifford_bench['distance'][1][0], np.mean(1-clifford_bench['distance'][2], axis=1), label='Cliffords (average)')\n",
    "plt.plot(hadamard_bench['distance'][1][0], 1-hadamard_bench['distance'][2], marker='o', color='blue', linestyle='')\n",
    "#plt.plot(hadamard_bench['distance'][1][0], np.mean(1-hadamard_bench['distance'][2], axis=1), label='Hadamard interleaved (average)')\n",
    "clifford_fitresults, clifford_expfit = fitting.exp_fit1d(clifford_bench['distance'][1][0], \n",
    "                                                        np.reshape(np.mean(1-clifford_bench['distance'][2], axis=1), \n",
    "                                                                   (1, len(clifford_bench['distance'][1][0]))))\n",
    "hadamard_fitresults, hadamard_expfit = fitting.exp_fit1d(hadamard_bench['distance'][1][0], \n",
    "                                                        np.reshape(np.mean(1-hadamard_bench['distance'][2], axis=1), \n",
    "                                                                   (1, len(hadamard_bench['distance'][1][0]))))\n",
    "plt.plot(clifford_bench['distance'][1][0],clifford_expfit[0], label='Cliffords (fit)')\n",
    "plt.plot(hadamard_bench['distance'][1][0],hadamard_expfit[0], label='Hadamard (fit)')#, linestyle='-', marker='')\n",
    "print('''Clifford fidelity: {0:6.3f}\n",
    "Hadamard+Clifford fidelity: {1:6.3f}\n",
    "Hadamard error rate: {2:6.3f}'''.format(np.exp(-1/clifford_fitresults[0]), \n",
    "                                        np.exp(-1/hadamard_fitresults[0]),\n",
    "                                       1-np.exp(-1/hadamard_fitresults[0])/np.exp(-1/clifford_fitresults[0])))\n",
    "plt.xlabel(clifford_bench['distance'][0][0])\n",
    "plt.ylabel('Fidelity')\n",
    "plt.legend()\n",
    "plt.grid()"
   ]
  },
  {
   "cell_type": "code",
   "execution_count": null,
   "metadata": {
    "collapsed": true
   },
   "outputs": [],
   "source": [
    "import interleaved_benchmarking\n",
    "imp.reload(interleaved_benchmarking)\n",
    "\n",
    "bench = interleaved_benchmarking.interleaved_benchmarking(tomoz)\n",
    "\n",
    "bench.interleavers = clifford_group\n",
    "bench.random_sequence_num = 10\n",
    "bench.target_gate = clifford_group['X/2 X/2']['pulses'] # NOT\n",
    "bench.target_gate_name = 'NOT'\n",
    "bench.target_gate_unitary = clifford_group['X/2 X/2']['unitary']\n"
   ]
  },
  {
   "cell_type": "code",
   "execution_count": null,
   "metadata": {
    "collapsed": true,
    "scrolled": true
   },
   "outputs": [],
   "source": [
    "seq_lengths = np.arange(0, 51, 5)\n",
    "random_sequence_ids = np.arange(bench.random_sequence_num)\n",
    "bench.prepare_random_interleaving_sequences()\n",
    "not_bench = sweep.sweep(bench,\n",
    "                             (seq_lengths, bench.set_sequence_length_and_regenerate, 'Gate number', ''), \n",
    "                             (random_sequence_ids, bench.set_interleaved_sequence, 'Random sequence id', ''))"
   ]
  },
  {
   "cell_type": "code",
   "execution_count": null,
   "metadata": {
    "collapsed": true
   },
   "outputs": [],
   "source": [
    "imp.reload(fitting)\n",
    "plt.plot(clifford_bench['distance'][1][0], 1-clifford_bench['distance'][2], marker='o', color='black', linestyle='')\n",
    "#plt.plot(clifford_bench['distance'][1][0], np.mean(1-clifford_bench['distance'][2], axis=1), label='Cliffords (mean)')\n",
    "plt.plot(hadamard_bench['distance'][1][0], 1-hadamard_bench['distance'][2], marker='o', color='blue', linestyle='')\n",
    "#plt.plot(hadamard_bench['distance'][1][0], np.mean(1-hadamard_bench['distance'][2], axis=1), label='H interleaved (mean)')\n",
    "plt.plot(not_bench['distance'][1][0], 1-not_bench['distance'][2], marker='o', color='red', linestyle='')\n",
    "#plt.plot(not_bench['distance'][1][0], np.mean(1-not_bench['distance'][2], axis=1), label='NOT interleaved (mean)')\n",
    "clifford_fitresults, clifford_expfit = fitting.exp_fit1d(clifford_bench['distance'][1][0], \n",
    "                                                        np.reshape(np.mean(1-clifford_bench['distance'][2], axis=1), \n",
    "                                                                   (1, len(clifford_bench['distance'][1][0]))))\n",
    "hadamard_fitresults, hadamard_expfit = fitting.exp_fit1d(hadamard_bench['distance'][1][0], \n",
    "                                                        np.reshape(np.mean(1-hadamard_bench['distance'][2], axis=1), \n",
    "                                                                   (1, len(hadamard_bench['distance'][1][0]))))\n",
    "not_fitresults, not_expfit = fitting.exp_fit1d(not_bench['distance'][1][0], \n",
    "                                                        np.reshape(np.mean(1-not_bench['distance'][2], axis=1), \n",
    "                                                                   (1, len(not_bench['distance'][1][0]))))\n",
    "plt.plot(clifford_bench['distance'][1][0],clifford_expfit[0], label='Cliffords (fit)')\n",
    "plt.plot(hadamard_bench['distance'][1][0],hadamard_expfit[0], label='Hadamard (fit)')#, linestyle='-', marker='')\n",
    "plt.plot(not_bench['distance'][1][0],not_expfit[0], label='NOT (fit)')\n",
    "print('''Clifford fidelity: {0:6.3f}\n",
    "Hadamard+Clifford fidelity: {1:6.3f}\n",
    "NOT+Clifford fidelity: {3:6.3f}\n",
    "Hadamard error rate: {2:6.3f}\n",
    "NOT error rate: {4:6.3f}'''.format(np.exp(-1/clifford_fitresults[0]), \n",
    "                                        np.exp(-1/hadamard_fitresults[0]),\n",
    "                                       1-np.exp(-1/hadamard_fitresults[0])/np.exp(-1/clifford_fitresults[0]), \n",
    "                                        np.exp(-1/not_fitresults[0]),\n",
    "                                       1-np.exp(-1/not_fitresults[0])/np.exp(-1/clifford_fitresults[0])))\n",
    "plt.xlabel(clifford_bench['distance'][0][0])\n",
    "plt.ylabel('Fidelity')\n",
    "plt.legend()\n",
    "plt.grid()"
   ]
  },
  {
   "cell_type": "code",
   "execution_count": null,
   "metadata": {
    "collapsed": true
   },
   "outputs": [],
   "source": [
    "bench.target_gate = bench.interleavers['X']['pulses']\n",
    "bench.target_gate_unitary = bench.interleavers['X']['unitary']\n",
    "bench.target_gate_name = 'X (benchmarking)'\n",
    "tfunc = lambda : np.mean(bench.measure()['Euclidean distance'])\n",
    "class hd_pulse_generator:\n",
    "    def __init__(self, pulse_setter, pg, channel):\n",
    "        self.amp_x = -amp_x_hd\n",
    "        self.amp_y = amp_x_hd\n",
    "        self.sigma = sigma_hd\n",
    "        self.length = length_hd\n",
    "        self.pause_length = pause_length_hd\n",
    "        self.alpha = alpha_hd\n",
    "        \n",
    "        self.pg = pg\n",
    "        self.channel = channel\n",
    "        self.pulse = self.pulse_gen()\n",
    "        self.pulse_setter = pulse_setter\n",
    "    def set_real_amplitude(self,x):\n",
    "        self.amp_x = x\n",
    "        self.pulse_setter(self.pulse_gen())\n",
    "    def set_imag_amplitude(self,y):\n",
    "        self.amp_y = y\n",
    "        self.pulse_setter(self.pulse_gen())\n",
    "    def set_sigma(self,s):\n",
    "        self.sigma = s\n",
    "        self.pulse_setter(self.pulse_gen())\n",
    "    def set_length(self,l):\n",
    "        self.length = l\n",
    "        self.pulse_setter(self.pulse_gen())\n",
    "    def set_pause_length(self, p):\n",
    "        self.pause_length = p\n",
    "        self.pulse_setter(self.pulse_gen())\n",
    "    def set_alpha(self, a):\n",
    "        self.alpha = a\n",
    "        self.pulse_setter(self.pulse_gen())\n",
    "    def pulse_gen(self):\n",
    "        return [pg.p(self.channel, self.length, self.pg.gauss_hd, self.amp_x+1j*self.amp_y, 0, self.sigma, self.alpha), pg.p(None, self.pause_length)]\n",
    "    \n",
    "xg = hd_pulse_generator(bench.set_target_pulse, pg, 'iq_ex')"
   ]
  },
  {
   "cell_type": "code",
   "execution_count": null,
   "metadata": {
    "collapsed": true
   },
   "outputs": [],
   "source": [
    "sol, score = sweep.optimize(tfunc,  (xg.set_real_amplitude, xg.amp_x), \n",
    "                                    (xg.set_imag_amplitude, xg.amp_y),\n",
    "                                    (xg.set_alpha, xg.alpha))"
   ]
  },
  {
   "cell_type": "code",
   "execution_count": null,
   "metadata": {
    "collapsed": true
   },
   "outputs": [],
   "source": [
    "amps = np.linspace(0.925, 0.975, 21)\n",
    "alphas = np.linspace(-2e-9, 2e-9, 11)\n",
    "sweep.sweep(bench, (amps, xg.set_real_amplitude, 'Amplitude'), (alphas, xg.set_alpha, 'HD DRAG coeff'), filename='Randomized interleaved benchmarging X-rotation')"
   ]
  },
  {
   "cell_type": "code",
   "execution_count": null,
   "metadata": {
    "collapsed": true
   },
   "outputs": [],
   "source": [
    "data = save_pkl.load_pkl('Euclidean distance Randomized interleaved benchmarging X-rotation', 'D:\\\\qtlab\\\\ReiData\\\\data\\\\2017-07-02\\\\23-03-34')\n",
    "plt.figure()\n",
    "plt.pcolormesh(data[1]['Euclidean distance'][1][1], data[1]['Euclidean distance'][1][0], data[1]['Euclidean distance'][2][:,:,5])\n",
    "plt.colorbar()"
   ]
  },
  {
   "cell_type": "code",
   "execution_count": null,
   "metadata": {
    "collapsed": true
   },
   "outputs": [],
   "source": [
    "data[1]"
   ]
  },
  {
   "cell_type": "code",
   "execution_count": null,
   "metadata": {
    "collapsed": true
   },
   "outputs": [],
   "source": [
    "data[1]['Euclidean distance']"
   ]
  },
  {
   "cell_type": "code",
   "execution_count": null,
   "metadata": {
    "collapsed": true
   },
   "outputs": [],
   "source": [
    "meas = bench.measure()"
   ]
  },
  {
   "cell_type": "code",
   "execution_count": null,
   "metadata": {
    "collapsed": true
   },
   "outputs": [],
   "source": [
    "meas['Xo']"
   ]
  },
  {
   "cell_type": "code",
   "execution_count": null,
   "metadata": {
    "collapsed": true
   },
   "outputs": [],
   "source": [
    "import plotting\n",
    "imp.reload(plotting)\n",
    "plotting.plot_measurement(bench.reference_benchmark_result)"
   ]
  },
  {
   "cell_type": "markdown",
   "metadata": {},
   "source": [
    "# Optimizing Drag"
   ]
  },
  {
   "cell_type": "code",
   "execution_count": null,
   "metadata": {
    "collapsed": true
   },
   "outputs": [],
   "source": [
    "num_interleved_pulses = 2\n",
    "alphas = np.linspace(-1e-8, 1e-8, 201)\n",
    "def set_drag (alpha):\n",
    "    ramsey_half = [pg.p('iq_ex', length_hd, pg.gauss_hd, amp_x_hd, 0, sigma_hd, alpha), \n",
    "                 pg.p(None, pause_length_hd)]\n",
    "    interleaved_identity = [pg.p('iq_ex', length_hd, pg.gauss_hd, -amp_x_hd, 0, sigma_hd, alpha), \n",
    "                           pg.p(None, pause_length_hd),\n",
    "                           pg.p('iq_ex', length_hd, pg.gauss_hd, amp_x_hd, 0, sigma_hd, alpha), \n",
    "                           pg.p(None, pause_length_hd)]\n",
    "    tomo.set_prepare_seq(ramsey_half+interleaved_identity*num_interleved_pulses+ramsey_half)\n",
    "    \n",
    "measurement = sweep.sweep(tomo, (alphas, set_drag, 'delta_freq'), filename='DRAG', output=False)"
   ]
  },
  {
   "cell_type": "markdown",
   "metadata": {},
   "source": [
    "### Randomized Benchmarking"
   ]
  },
  {
   "cell_type": "code",
   "execution_count": null,
   "metadata": {
    "collapsed": true
   },
   "outputs": [],
   "source": [
    "pause_pulse = tomography.pause(pause_length, awg_channels)\n",
    "pulses = {0:tomography.ex_gauss_hd(amp_x_hd, amp_y_hd, length_hd, sigma_hd, awg_channels, -200e6/np.pi),\n",
    "          1:tomography.ex_gauss_hd(amp_y_hd, -amp_x_hd, length_hd, sigma_hd, awg_channels, -200e6/np.pi),\n",
    "          2:tomography.ex_gauss_hd(-amp_x_hd, -amp_y_hd, length_hd, sigma_hd, awg_channels, -200e6/np.pi),\n",
    "          3:tomography.ex_gauss_hd(-amp_y_hd, amp_x_hd, length_hd, sigma_hd, awg_channels, -200e6/np.pi)}\n",
    "\n",
    "unitaries = {0:np.sqrt(0.5)*np.asarray([[1, -1j],  [-1j, 1]]),\\\n",
    "             1:np.sqrt(0.5)*np.asarray([[1, -1],    [1, 1]]),\\\n",
    "             2:np.sqrt(0.5)*np.asarray([[1, 1j],   [1j, 1]]),\\\n",
    "             3:np.sqrt(0.5)*np.asarray([[1, 1],   [-1, 1]])}\n",
    "\n",
    "observables = { 'X': 0.5*np.asarray([[0, 1],   [1, 0]]),\n",
    "                'Y': 0.5*np.asarray([[0, -1j],   [1j, 0]]),\n",
    "                '-X': 0.5*np.asarray([[0, -1],   [-1, 0]]),\n",
    "                '-Y': 0.5*np.asarray([[0, 1j],   [-1j, 0]]),\n",
    "                'Z': 0.5*np.asarray([[1, 0],   [0, -1]])}\n",
    "\n",
    "initial = np.asarray([0, 1]).T\n",
    "random_pulse_ids = np.arange(20)\n",
    "num_gates = np.linspace(0, 100, 11)\n",
    "\n",
    "sequences = []\n",
    "pulse_sequences = []\n",
    "theor_projs = {o:np.zeros((len(num_gates), len(random_pulse_ids))) for o in observables.keys()}\n",
    "rho_t = np.zeros((len(num_gates), len(random_pulse_ids),2,2), dtype=np.complex)\n",
    "psis = np.zeros((len(num_gates), len(random_pulse_ids),2), dtype=np.complex)\n",
    "n=0\n",
    "\n",
    "def set_num_gates(n_new):\n",
    "    global n\n",
    "    n = n_new\n",
    "\n",
    "def set_random_sequence(id):\n",
    "    sequence = np.random.randint (4, size = n).tolist()\n",
    "    sequence_pulses = [j for i in [[pulses[i], pause_pulse] for i in sequence] for j in i]\n",
    "    sequence_unitaries = [unitaries[i] for i in sequence]\n",
    "    psi = initial.copy()\n",
    "    \n",
    "    for U in sequence_unitaries:\n",
    "        psi = np.dot(U, psi)\n",
    "    \n",
    "    rho_t[n,id,:,:] = np.einsum('i,j->ij', np.conj(psi), psi)\n",
    "    psis[n,id,:] = psi\n",
    "    \n",
    "    sequences.append(sequence)\n",
    "    for o in observables.keys():\n",
    "        theor_projs[o][n,id] = np.dot(np.dot(np.conj(psi), observables[o]), psi)\n",
    "    \n",
    "    tomo_hd.set_prepare_seq(sequence_pulses)\n",
    "    pulse_sequences.append(sequence_pulses)\n",
    "    \n",
    "m = sweep.sweep(tomo_hd, (num_gates, set_num_gates, 'gate num'), (random_pulse_ids, set_random_sequence, 'random seq id'), filename='RB', output=False)\n",
    "X = (m['X'][2]-m['-X'][2])/2.\n",
    "Y = (m['Y'][2]-m['-Y'][2])/2.\n",
    "Z = m['Z'][2]\n",
    "rho_m = np.transpose([[0.5+Z, X+1j*Y], [X-1j*Y, 0.5-Z]], [2,3,0,1])\n",
    "fidelities = np.sqrt(np.einsum('nmi,nmji,nmj->nm', np.conj(psis), rho_m, psis))\n",
    "\n",
    "m['Fidelity'] = [d for d in m['X']]\n",
    "m['Fidelity'][2] = np.asarray(fidelities, dtype=np.float)\n",
    "for o,O in observables.items():\n",
    "    m[o+' fit'] = [d for d in m[o]]\n",
    "    m[o+' fit'][2] = np.asarray(theor_projs[o], dtype=np.float)\n",
    "#m['rho_t'] = m['X'].copy()\n",
    "save_pkl.save_pkl({'type':'Randomized benchmark Clifford'}, m)"
   ]
  },
  {
   "cell_type": "code",
   "execution_count": null,
   "metadata": {
    "collapsed": true
   },
   "outputs": [],
   "source": [
    "plt.plot(m['Fidelity'][1]m['Fidelity'])"
   ]
  },
  {
   "cell_type": "code",
   "execution_count": null,
   "metadata": {
    "collapsed": true
   },
   "outputs": [],
   "source": [
    "rho_m"
   ]
  },
  {
   "cell_type": "code",
   "execution_count": null,
   "metadata": {
    "collapsed": true
   },
   "outputs": [],
   "source": [
    "plt.plot(m['Fidelity'][1][0], np.mean(m['Fidelity'][2],axis=1))\n",
    "plt.xlabel('gate num')\n",
    "plt.ylabel('fidelity')\n",
    "plt.grid()"
   ]
  },
  {
   "cell_type": "code",
   "execution_count": null,
   "metadata": {
    "collapsed": true,
    "scrolled": true
   },
   "outputs": [],
   "source": [
    "rho_m = np.transpose([[0.5+Z, X+1j*Y], [X-1j*Y, 0.5-Z]], [2,3,0,1])\n",
    "fidelities = np.sqrt(np.einsum('mni,mnji,mnj->mn', np.conj(psis), rho_m, psis))\n",
    "\n",
    "m['Fidelity'] = [d for d in m['X']]\n",
    "m['Fidelity'][2] = np.asarray(fidelities, dtype=np.float)\n",
    "for o,O in observables.items():\n",
    "    m[o+' fit'] = [d for d in m[o]]\n",
    "    m[o+' fit'][2] = np.asarray(theor_projs[o], dtype=np.float)\n",
    "#m['rho_t'] = m['X'].copy()\n",
    "save_pkl.save_pkl({'type':'Randomized benchmark Clifford'}, m)"
   ]
  },
  {
   "cell_type": "code",
   "execution_count": null,
   "metadata": {
    "collapsed": true
   },
   "outputs": [],
   "source": [
    "m"
   ]
  },
  {
   "cell_type": "code",
   "execution_count": null,
   "metadata": {
    "collapsed": true
   },
   "outputs": [],
   "source": []
  },
  {
   "cell_type": "code",
   "execution_count": null,
   "metadata": {
    "collapsed": true
   },
   "outputs": [],
   "source": [
    "fidelities"
   ]
  },
  {
   "cell_type": "code",
   "execution_count": null,
   "metadata": {
    "collapsed": true
   },
   "outputs": [],
   "source": [
    "psis"
   ]
  },
  {
   "cell_type": "code",
   "execution_count": null,
   "metadata": {
    "collapsed": true
   },
   "outputs": [],
   "source": [
    "rho_m"
   ]
  },
  {
   "cell_type": "code",
   "execution_count": null,
   "metadata": {
    "collapsed": true
   },
   "outputs": [],
   "source": [
    "rho_t"
   ]
  },
  {
   "cell_type": "code",
   "execution_count": null,
   "metadata": {
    "collapsed": true
   },
   "outputs": [],
   "source": [
    "measurement['theory'] = thoer_proj\n",
    "save_pkl.save_pkl({'type':'Randomized benchmark Clifford'}, measurement)"
   ]
  },
  {
   "cell_type": "code",
   "execution_count": null,
   "metadata": {
    "collapsed": true
   },
   "outputs": [],
   "source": [
    "print(theor_projs)\n",
    "print(measurement)\n",
    "print(psis)\n",
    "print (sequences)\n",
    "print (rho_t)\n",
    "print (rho_m)"
   ]
  },
  {
   "cell_type": "code",
   "execution_count": null,
   "metadata": {
    "collapsed": true
   },
   "outputs": [],
   "source": [
    "np.dot(np.conj(psis[1]), np.dot(observables['Y'],psis[1]))"
   ]
  },
  {
   "cell_type": "code",
   "execution_count": null,
   "metadata": {
    "collapsed": true
   },
   "outputs": [],
   "source": [
    "num_pulses = np.round(np.arange(0, 41)).astype(np.int)\n",
    "\n",
    "def set_num_pulses(n):\n",
    "    tomoz.set_prepare_seq([tomography.ex_gauss(amp_x, length, sigma, awg_channels), \n",
    "                          tomography.pause(pause_length, awg_channels)]*n)\n",
    "\n",
    "measurement = sweep.sweep(tomoz, (num_pulses, set_num_pulses, 'SX pi2 pulse num'), filename='Rabi', output=False)"
   ]
  },
  {
   "cell_type": "code",
   "execution_count": null,
   "metadata": {
    "collapsed": true
   },
   "outputs": [],
   "source": [
    "num_pulses = np.round(np.arange(0, 21)).astype(np.int)\n",
    "\n",
    "def set_num_pulses(n):\n",
    "    tomo.set_prepare_seq([tomography.ex_gauss_hd(amp_x_hd, amp_y_hd, length_hd, sigma_hd, awg_channels, -200e6/np.pi), \n",
    "                          tomography.pause(pause_length, awg_channels)]*n)\n",
    "\n",
    "measurement = sweep.sweep(tomo, (num_pulses, set_num_pulses, 'SX pi2 pulse num'), filename='Rabi', output=False)"
   ]
  },
  {
   "cell_type": "code",
   "execution_count": null,
   "metadata": {
    "collapsed": true
   },
   "outputs": [],
   "source": [
    "num_pulses = np.round(np.arange(0, 21)).astype(np.int)\n",
    "\n",
    "def set_num_pulses(n):\n",
    "    tomo.set_prepare_seq([tomography.ex_gauss(amp_x_hd, length_hd, sigma_hd, awg_channels), \n",
    "                          tomography.pause(pause_length, awg_channels)]*n)\n",
    "\n",
    "measurement = sweep.sweep(tomo, (num_pulses, set_num_pulses, 'SX pi2 pulse num'), filename='Rabi', output=False)"
   ]
  },
  {
   "cell_type": "code",
   "execution_count": null,
   "metadata": {
    "collapsed": true
   },
   "outputs": [],
   "source": [
    "ex_amplitude=0.25\n",
    "lengths = np.linspace(0e-9, 200e-9, 51)\n",
    "readout_begin = np.max(lengths)\n",
    "\n",
    "def set_ex_length(length):\n",
    "    tomo.set_prepare_seq([tomography.ex_rect(ex_amplitude, length, awg_channels), tomography.pause(pause_length, awg_channels)])\n",
    "\n",
    "measurement = sweep.sweep(tomo, (lengths, set_ex_length, 'Rabi x-axis pulse length'), filename='Rabi', output=False)"
   ]
  },
  {
   "cell_type": "code",
   "execution_count": null,
   "metadata": {
    "collapsed": true
   },
   "outputs": [],
   "source": [
    "from mpl_toolkits.mplot3d import Axes3D\n",
    "fig = plt.figure()\n",
    "ax = fig.add_subplot(111, projection='3d')\n",
    "ax.plot(measurement ['X'][2], measurement ['Y'][2], measurement ['Z'][2], c='r', marker='o')\n",
    "ax.set_xlabel('X')\n",
    "ax.set_ylabel('Y')\n",
    "ax.set_zlabel('Z')\n",
    "ax.set_xlim([-0.6, 0.6])\n",
    "ax.set_ylim([-0.6, 0.6])\n",
    "ax.set_zlim([-0.6, 0.6])"
   ]
  },
  {
   "cell_type": "code",
   "execution_count": null,
   "metadata": {
    "collapsed": true
   },
   "outputs": [],
   "source": [
    "ex_amplitude = 0.25\n",
    "pause_length = 16e-9\n",
    "lengths = np.linspace(0e-9, 2000e-9, 2001)\n",
    "readout_begin = np.max(lengths)\n",
    "\n",
    "def set_ex_length(length):\n",
    "    tomo.set_prepare_seq([tomography.ex_rect(1j*ex_amplitude, length, awg_channels), tomography.pause(pause_length, awg_channels)])\n",
    "\n",
    "measurement = sweep.sweep(tomo, (lengths, set_ex_length, 'Rabi y-axis pulse length'), filename='Rabi', output=False)"
   ]
  },
  {
   "cell_type": "markdown",
   "metadata": {},
   "source": [
    "### Optimizing phase between x and y pulses"
   ]
  },
  {
   "cell_type": "code",
   "execution_count": null,
   "metadata": {
    "collapsed": true
   },
   "outputs": [],
   "source": [
    "c_phase = 0\n",
    "c_n = 0\n",
    "\n",
    "adc.set_software_averages(1)\n",
    "adc.set_software_nums_multi(3)\n",
    "\n",
    "def set_n(n):\n",
    "    global c_n\n",
    "    global c_phase\n",
    "    c_n = n \n",
    "    y_pulse = [tomography.ex_gauss_hd(amp_x_hd*np.exp(1j*c_phase), amp_y_hd*np.exp(1j*c_phase), length_hd, sigma_hd, awg_channels, -200e6), tomography.pause(pause_length, awg_channels)]\n",
    "    tomo.set_prepare_seq(y_pulse*c_n)\n",
    "\n",
    "def set_y_phase(phase):\n",
    "    global c_n\n",
    "    global c_phase\n",
    "    c_phase = phase\n",
    "    y_pulse = [tomography.ex_gauss_hd(amp_x_hd*np.exp(1j*c_phase), amp_y_hd*np.exp(1j*c_phase), length_hd, sigma_hd, awg_channels, -200e6), tomography.pause(pause_length, awg_channels)]\n",
    "    tomo.set_prepare_seq(y_pulse*c_n)\n",
    "\n",
    "phases = np.linspace(np.pi/2.*0.8, np.pi/2.*1.2, 11, endpoint=False)\n",
    "num_pulses = np.arange(0,5)\n",
    "measurement = sweep.sweep(tomo, (phases, set_y_phase, 'y-pulse phase'), (num_pulses, set_n, 'y pulse num'), filename='y-phase', output=False)"
   ]
  },
  {
   "cell_type": "code",
   "execution_count": null,
   "metadata": {
    "collapsed": true
   },
   "outputs": [],
   "source": [
    "phases[7]"
   ]
  },
  {
   "cell_type": "code",
   "execution_count": null,
   "metadata": {
    "collapsed": true
   },
   "outputs": [],
   "source": [
    "plt.plot(np.asarray(results).T)"
   ]
  },
  {
   "cell_type": "code",
   "execution_count": null,
   "metadata": {
    "collapsed": true
   },
   "outputs": [],
   "source": [
    "adc.stop()"
   ]
  },
  {
   "cell_type": "code",
   "execution_count": null,
   "metadata": {
    "collapsed": true
   },
   "outputs": [],
   "source": [
    "plt.close()"
   ]
  },
  {
   "cell_type": "markdown",
   "metadata": {
    "collapsed": true
   },
   "source": [
    "# load calibration data"
   ]
  },
  {
   "cell_type": "code",
   "execution_count": null,
   "metadata": {
    "collapsed": true
   },
   "outputs": [],
   "source": [
    "import pickle\n",
    "f0 = open('D:\\\\qtlab\\\\ReiData\\\\data\\\\2017-04-26\\\\13-11-46\\\\Voltage ro calibration.pkl', 'rb')\n",
    "f1 = open('D:\\\\qtlab\\\\ReiData\\\\data\\\\2017-04-26\\\\13-11-14\\\\Voltage ro calibration.pkl', 'rb')\n",
    "cal0 = pickle.load(f0)\n",
    "cal1 = pickle.load(f1)"
   ]
  },
  {
   "cell_type": "code",
   "execution_count": null,
   "metadata": {
    "collapsed": true
   },
   "outputs": [],
   "source": [
    "import numpy as np\n",
    "import matplotlib.pyplot as plt\n",
    "%matplotlib qt4\n",
    "cal0_nomean = cal0[1]['Voltage'][2][0,:,:]-np.mean(cal0[1]['Voltage'][2][0,:,:])\n",
    "cal1_nomean = cal0[1]['Voltage'][2][1,:,:]-np.mean(cal0[1]['Voltage'][2][1,:,:])\n",
    "\n",
    "cal0_mean = np.mean(cal0_nomean, axis=0)\n",
    "cal1_mean = np.mean(cal1_nomean, axis=0)"
   ]
  },
  {
   "cell_type": "code",
   "execution_count": null,
   "metadata": {
    "collapsed": true
   },
   "outputs": [],
   "source": [
    "cal_mean = (cal0_mean+cal1_mean)/2.\n",
    "cal_diff = (cal1_mean-cal0_mean)\n",
    "\n",
    "plt.figure('Samples')\n",
    "plt.plot(np.mean(cal0_nomean, axis=0), label='|0>')\n",
    "plt.plot(np.mean(cal1_nomean, axis=0), label='|1>')\n",
    "plt.legend()\n",
    "\n",
    "plt.figure('Offset & feature')\n",
    "plt.plot(cal_mean, label='mean')\n",
    "plt.plot(cal_diff, label='diff')\n",
    "plt.legend()"
   ]
  },
  {
   "cell_type": "code",
   "execution_count": null,
   "metadata": {
    "collapsed": true
   },
   "outputs": [],
   "source": [
    "plt.figure('Fourier domain')\n",
    "plt.plot(np.abs(np.fft.fft(cal0_mean)), label='|0>')\n",
    "plt.plot(np.abs(np.fft.fft(cal1_mean)), label='|1>') \n",
    "plt.plot(np.abs(np.fft.fft(cal_mean)), label='mean')\n",
    "plt.plot(np.abs(np.fft.fft(cal_diff)), label='diff')\n",
    "plt.legend()\n",
    "\n",
    "feature = np.conj(cal_diff/np.sum(np.abs(cal_diff**2)))"
   ]
  },
  {
   "cell_type": "code",
   "execution_count": null,
   "metadata": {
    "collapsed": true
   },
   "outputs": [],
   "source": [
    "coeffs0 = np.dot(cal0_nomean-cal_mean, feature)\n",
    "coeffs1 = np.dot(cal1_nomean-cal_mean, feature)\n",
    "predictions = np.asarray([np.real(coeffs0), np.real(coeffs1)])"
   ]
  },
  {
   "cell_type": "code",
   "execution_count": null,
   "metadata": {
    "collapsed": true
   },
   "outputs": [],
   "source": [
    "hist_all, bins = np.histogram(predictions, bins='auto')\n",
    "proba_points = (bins[1:]+bins[:-1])/2.\n",
    "hists = []\n",
    "for y in range(2):\n",
    "    hists.append(np.histogram(predictions[y,:], bins=bins)[0])\n",
    "\n",
    "hists = np.asarray(hists, dtype=float)\n",
    "probabilities = hists/hist_all\n",
    "naive_probabilities = np.asarray([proba_points<0, proba_points>0], dtype=float)\n",
    "probabilities[np.isnan(probabilities)] = naive_probabilities[np.isnan(probabilities)]\n",
    "predictor = lambda x: np.interp(x, proba_points, probabilities[1,:], left=0., right=1.)\n",
    "calib_proba_points = proba_points\n",
    "calib_proba = probabilities[1,:]\n",
    "calib_hists = hists"
   ]
  },
  {
   "cell_type": "code",
   "execution_count": null,
   "metadata": {
    "collapsed": true
   },
   "outputs": [],
   "source": [
    "from sklearn.metrics import roc_curve, roc_auc_score\n",
    "roc = roc_curve([0]*coeffs0.size+[1]*coeffs0.size, predictor(predictions.ravel()))\n",
    "roc_auc = roc_auc_score([0]*coeffs0.size+[1]*coeffs0.size, predictor(predictions.ravel()))"
   ]
  },
  {
   "cell_type": "code",
   "execution_count": null,
   "metadata": {
    "collapsed": true
   },
   "outputs": [],
   "source": [
    "plt.figure('ROC')\n",
    "plt.plot(roc[0], roc[1])\n",
    "plt.xlabel('True Positive Rate')\n",
    "plt.ylabel('True Negative Rate')\n",
    "roc_auc"
   ]
  },
  {
   "cell_type": "code",
   "execution_count": null,
   "metadata": {
    "collapsed": true
   },
   "outputs": [],
   "source": [
    "plt.figure('probability curve')\n",
    "plt.plot(calib_proba_points, calib_proba)"
   ]
  },
  {
   "cell_type": "code",
   "execution_count": null,
   "metadata": {
    "collapsed": true
   },
   "outputs": [],
   "source": [
    "plt.figure('Readout hists')\n",
    "plt.bar(proba_points-0.25, hists[0], width=0.05, label='|0>')\n",
    "plt.bar(proba_points+0.25, hists[1], width=0.05, label='|1>')\n",
    "plt.legend()"
   ]
  },
  {
   "cell_type": "code",
   "execution_count": null,
   "metadata": {
    "collapsed": true
   },
   "outputs": [],
   "source": [
    "plt.close()"
   ]
  },
  {
   "cell_type": "code",
   "execution_count": null,
   "metadata": {
    "collapsed": true
   },
   "outputs": [],
   "source": [
    "cal0_nomean.shape"
   ]
  },
  {
   "cell_type": "code",
   "execution_count": null,
   "metadata": {
    "collapsed": true
   },
   "outputs": [],
   "source": [
    "plt.figure(figsize=(12,3))\n",
    "plt.imshow(np.sum(np.real(np.reshape(cal0_nomean, (200, 100, 1024))), axis=0), cmap='RdBu')\n",
    "plt.figure(figsize=(12,3))\n",
    "plt.imshow(np.sum(np.real(np.reshape(cal1_nomean, (200, 100, 1024))), axis=0), cmap='RdBu')"
   ]
  },
  {
   "cell_type": "code",
   "execution_count": null,
   "metadata": {
    "collapsed": true
   },
   "outputs": [],
   "source": [
    "plt.plot(np.mean(cal0_nomean, axis=0))\n",
    "plt.plot(np.mean(cal1_nomean, axis=0))"
   ]
  },
  {
   "cell_type": "code",
   "execution_count": null,
   "metadata": {
    "collapsed": true
   },
   "outputs": [],
   "source": []
  }
 ],
 "metadata": {
  "kernelspec": {
   "display_name": "Python 3",
   "language": "python",
   "name": "python3"
  },
  "language_info": {
   "codemirror_mode": {
    "name": "ipython",
    "version": 3
   },
   "file_extension": ".py",
   "mimetype": "text/x-python",
   "name": "python",
   "nbconvert_exporter": "python",
   "pygments_lexer": "ipython3",
   "version": "3.6.3"
  },
  "toc": {
   "base_numbering": 1,
   "nav_menu": {
    "height": "599px",
    "width": "486px"
   },
   "number_sections": true,
   "sideBar": true,
   "skip_h1_title": false,
   "title_cell": "Table of Contents",
   "title_sidebar": "Contents",
   "toc_cell": false,
   "toc_position": {
    "height": "780px",
    "left": "239px",
    "top": "626.133px",
    "width": "384px"
   },
   "toc_section_display": true,
   "toc_window_display": true
  }
 },
 "nbformat": 4,
 "nbformat_minor": 1
}
