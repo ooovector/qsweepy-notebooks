{
 "cells": [
  {
   "cell_type": "markdown",
   "metadata": {},
   "source": [
    "### Запуск QtLab"
   ]
  },
  {
   "cell_type": "code",
   "execution_count": 2,
   "metadata": {
    "scrolled": true
   },
   "outputs": [
    {
     "name": "stdout",
     "output_type": "stream",
     "text": [
      "Failed loading module Signal_Hound_SA:  [WinError 126] The specified module could not be found\n"
     ]
    }
   ],
   "source": [
    "%run D:\\qtlab_replacement\\init.py\n",
    "%matplotlib qt5\n",
    "import setup_logging\n",
    "import matplotlib.pyplot as plt\n",
    "from instruments import *\n",
    "import numpy as np\n",
    "import sweep\n",
    "from save_pkl import *\n",
    "from matplotlib import interactive\n",
    "interactive(True)\n",
    "import os\n",
    "import matplotlib.patches as plm"
   ]
  },
  {
   "cell_type": "markdown",
   "metadata": {},
   "source": [
    "# Спектроскопия"
   ]
  },
  {
   "cell_type": "code",
   "execution_count": 3,
   "metadata": {
    "collapsed": true
   },
   "outputs": [],
   "source": [
    "pna = Agilent_N5242A('pna', address = 'PNA')\n",
    "lo1 = Agilent_E8257D('lo1', address = 'GEN1')"
   ]
  },
  {
   "cell_type": "code",
   "execution_count": 4,
   "metadata": {
    "collapsed": true
   },
   "outputs": [],
   "source": [
    "current_src1 = Yokogawa_GS210(address = 'GPIB0::1::INSTR')\n",
    "#current_src2 = Yokogawa_GS210(address = 'GPIB0::2::INSTR')"
   ]
  },
  {
   "cell_type": "code",
   "execution_count": 5,
   "metadata": {},
   "outputs": [
    {
     "data": {
      "text/plain": [
       "True"
      ]
     },
     "execution_count": 5,
     "metadata": {},
     "output_type": "execute_result"
    }
   ],
   "source": [
    "# векторный анализатор в режим линейного свипа\n",
    "pna.set_sweep_mode(\"LIN\")\n",
    "#pna.do_set_sweep_mode(\"Log\")"
   ]
  },
  {
   "cell_type": "code",
   "execution_count": 6,
   "metadata": {},
   "outputs": [
    {
     "name": "stderr",
     "output_type": "stream",
     "text": [
      "root: WARNING  Tektronix_AWG5014 : get all not yet fully functional\n"
     ]
    },
    {
     "data": {
      "text/plain": [
       "True"
      ]
     },
     "execution_count": 6,
     "metadata": {},
     "output_type": "execute_result"
    }
   ],
   "source": [
    "# AWG для того чтобы открыть смесители\n",
    "awg_tek = Tektronix_AWG5014('awg_tek', address = 'TCPIP0::10.20.61.186::inst0::INSTR')\n",
    "Vdc_q = 0.2\n",
    "Vdc_r = 0.2\n",
    "# Задаём постояннmtые смещения на каналы 1 и 3\n",
    "lo1.set_power(0)\n",
    "pna.set_power(0)\n",
    "awg_tek.clear_waveforms()\n",
    "awg_tek.set_waveform([0]*awg_tek.get_nop(), channel=1)\n",
    "awg_tek.set_waveform([0]*awg_tek.get_nop(), channel=2)\n",
    "awg_tek.set_waveform([0]*awg_tek.get_nop(), channel=3)\n",
    "awg_tek.set_waveform([0]*awg_tek.get_nop(), channel=4)\n",
    "awg_tek.set_offset(Vdc_q, channel=1)\n",
    "awg_tek.set_offset(Vdc_q, channel=2)\n",
    "awg_tek.set_offset(Vdc_r, channel=3)\n",
    "awg_tek.set_offset(Vdc_r, channel=4)\n",
    "awg_tek.set_output(1, channel=1)\n",
    "awg_tek.set_output(1, channel=2)\n",
    "awg_tek.set_output(1, channel=3)\n",
    "awg_tek.set_output(0, channel=4)"
   ]
  },
  {
   "cell_type": "markdown",
   "metadata": {},
   "source": [
    "## Спектроскопия парампа"
   ]
  },
  {
   "cell_type": "code",
   "execution_count": null,
   "metadata": {
    "collapsed": true
   },
   "outputs": [],
   "source": [
    "current_src1.set_status(0)\n",
    "current_src2.set_status(1)\n",
    "lo1.set_status(0)\n",
    "#lo2.set_status(0)\n",
    "#pna.set_power(-50)\n",
    "pna.set_nop(401)\n",
    "pna.set_bandwidth(500)\n",
    "current_nop=101\n",
    "currents=np.linspace(-2e-3,2e-3,current_nop)\n",
    "pna.set_xlim(6e9,10e9)\n",
    "result = sweep.sweep(pna, (currents, current_src2.set_current, 'Coil current'), filename='paramp spectrum direct')"
   ]
  },
  {
   "cell_type": "markdown",
   "metadata": {},
   "source": [
    "## Резонаторная спектроскопия"
   ]
  },
  {
   "cell_type": "markdown",
   "metadata": {},
   "source": [
    "### Одномерный скан при фиксированном токе "
   ]
  },
  {
   "cell_type": "markdown",
   "metadata": {},
   "source": [
    "6.745,6.61,6,472 тест"
   ]
  },
  {
   "cell_type": "code",
   "execution_count": 137,
   "metadata": {
    "collapsed": true
   },
   "outputs": [],
   "source": [
    "qubit_params = {1: {'Fr': 6.7460e9,\n",
    "                    'F01_max': 8.1755e9, \n",
    "                    'Iw':750e-9,\n",
    "                    'paramp_bias':0.165e-3, \n",
    "                    'paramp_pump_freq':13.146e9, \n",
    "                    'paramp_pump_power':13.76},\n",
    "                2: {'Fr': 6475700000,  \n",
    "                    'F01_max': 8.0392e9,   \n",
    "                    'Iw':500e-9,\n",
    "                    'paramp_bias':0.1657e-3, \n",
    "                    'paramp_pump_freq':13.146e9, \n",
    "                    'paramp_pump_power':13.76},\n",
    "                3: {'Fr': 6611200000,\n",
    "                    'F01_max': 8.008e9, \n",
    "                    'Iw':100e-9, \n",
    "                    'paramp_bias':0.177e-3, \n",
    "                    'paramp_pump_freq':13.14e9, \n",
    "                    'paramp_pump_power':12.84},\n",
    "                }\n",
    "qubit_id=1"
   ]
  },
  {
   "cell_type": "markdown",
   "metadata": {},
   "source": [
    "## CHG"
   ]
  },
  {
   "cell_type": "code",
   "execution_count": 51,
   "metadata": {
    "collapsed": true
   },
   "outputs": [],
   "source": [
    "qubit_params = {1: {'Fr': 6.657e9,\n",
    "                    'F01_max': 8.1755e9, \n",
    "                    'Iw':750e-9,\n",
    "                    'paramp_bias':0.165e-3, \n",
    "                    'paramp_pump_freq':13.146e9, \n",
    "                    'paramp_pump_power':13.76},\n",
    "                2: {'Fr': 6.797e9,  \n",
    "                    'F01_max': 8.0392e9,   \n",
    "                    'Iw':500e-9,\n",
    "                    'paramp_bias':0.1657e-3, \n",
    "                    'paramp_pump_freq':13.146e9, \n",
    "                    'paramp_pump_power':13.76},\n",
    "                3: {'Fr': 6.809e9,\n",
    "                    'F01_max': 8.008e9, \n",
    "                    'Iw':100e-9, \n",
    "                    'paramp_bias':0.177e-3, \n",
    "                    'paramp_pump_freq':13.14e9, \n",
    "                    'paramp_pump_power':12.84},\n",
    "                }\n",
    "qubit_id=1"
   ]
  },
  {
   "cell_type": "markdown",
   "metadata": {},
   "source": [
    "## Кубитная спектроскопия"
   ]
  },
  {
   "cell_type": "markdown",
   "metadata": {},
   "source": [
    "## Single Tone spectroscopy"
   ]
  },
  {
   "cell_type": "markdown",
   "metadata": {},
   "source": [
    "Завимисость резонаторов от потока"
   ]
  },
  {
   "cell_type": "code",
   "execution_count": 191,
   "metadata": {
    "scrolled": true
   },
   "outputs": [
    {
     "data": {
      "application/vnd.jupyter.widget-view+json": {
       "model_id": "a17776ce4fc64dcd8f299dbce6a2138c",
       "version_major": 2,
       "version_minor": 0
      },
      "text/plain": [
       "A Jupyter Widget"
      ]
     },
     "metadata": {},
     "output_type": "display_data"
    },
    {
     "name": "stdout",
     "output_type": "stream",
     "text": [
      "Started at:  May 01 2018 23:00:42\n",
      "\n",
      "Elapsed time: 0 h 3 m 29.45 s\n"
     ]
    }
   ],
   "source": [
    "current_src1.set_status(1)\n",
    "lo1.set_status(0)\n",
    "qubit_id=3\n",
    "#lo2.set_status(0)\n",
    "#pna.set_power(-35)\n",
    "pna.set_nop(101)\n",
    "#pna.set_bandwidth(200)\n",
    "current_max=1e-3\n",
    "current_nop=101\n",
    "pna.set_power(-55)\n",
    "pna.set_bandwidth(50)\n",
    "pna.set_average(0)\n",
    "pna.set_averages(1)\n",
    "dfr=2e6\n",
    "pna.set_xlim(qubit_params[qubit_id]['Fr']-dfr, qubit_params[qubit_id]['Fr']+dfr)\n",
    "currents=np.linspace(-current_max,current_max,current_nop)\n",
    "# pna.set_xlim(6.75e9,7.25e9)\n",
    "result = sweep.sweep(pna, (currents, current_src1.set_current, 'Coil current'), filename='anticrossings Baumanka Vanya-3 #{}'.format(qubit_id))"
   ]
  },
  {
   "cell_type": "code",
   "execution_count": null,
   "metadata": {
    "collapsed": true
   },
   "outputs": [],
   "source": []
  },
  {
   "cell_type": "code",
   "execution_count": 10,
   "metadata": {},
   "outputs": [
    {
     "data": {
      "text/plain": [
       "[<matplotlib.lines.Line2D at 0x20b0f67a978>]"
      ]
     },
     "execution_count": 10,
     "metadata": {},
     "output_type": "execute_result"
    }
   ],
   "source": [
    "import matplotlib.pyplot as plt\n",
    "pna.set_power(-20)\n",
    "pna.set_bandwidth(10)\n",
    "pna.set_nop(1001)\n",
    "pna.set_xlim(6.4e9,7.0e9)\n",
    "fr=pna.get_freqpoints()\n",
    "s21_amp= pna.get_tracedata()[0]\n",
    "plt.plot(fr,s21_amp)"
   ]
  },
  {
   "cell_type": "markdown",
   "metadata": {},
   "source": [
    "Одномерная однотонка"
   ]
  },
  {
   "cell_type": "code",
   "execution_count": 130,
   "metadata": {},
   "outputs": [
    {
     "data": {
      "application/vnd.jupyter.widget-view+json": {
       "model_id": "4b3867296bef44139bd9fcb145b0dc3e",
       "version_major": 2,
       "version_minor": 0
      },
      "text/plain": [
       "A Jupyter Widget"
      ]
     },
     "metadata": {},
     "output_type": "display_data"
    },
    {
     "name": "stdout",
     "output_type": "stream",
     "text": [
      "Started at:  Apr 30 2018 19:18:36\n",
      "\n",
      "Elapsed time: 0 h 0 m 9.36 s\n"
     ]
    },
    {
     "name": "stderr",
     "output_type": "stream",
     "text": [
      "C:\\ProgramData\\Anaconda3\\lib\\site-packages\\matplotlib\\cbook\\deprecation.py:106: MatplotlibDeprecationWarning: Adding an axes using the same arguments as a previous axes currently reuses the earlier instance.  In a future version, a new instance will always be created and returned.  Meanwhile, this warning can be suppressed, and the future behavior ensured, by passing a unique label to each axes instance.\n",
      "  warnings.warn(message, mplDeprecation, stacklevel=1)\n"
     ]
    }
   ],
   "source": [
    "#current_src1.set_status(1)\n",
    "#current_src1.set_current(0)\n",
    "#lo1.set_status(0)\n",
    "pna.set_nop(1001)\n",
    "pna.set_power(-20)\n",
    "pna.set_bandwidth(100)\n",
    "pna.set_average(0)\n",
    "pna.set_averages(1)\n",
    "dfr=50e6\n",
    "qubit_id=3 \n",
    "pna.set_xlim(qubit_params[qubit_id]['Fr']-dfr,  qubit_params[qubit_id]['Fr']+dfr)\n",
    "#pna.set_xlim(6.4e9, 6.8e9)\n",
    "result = sweep.sweep(pna, ([0], lambda x: None, 'None'), filename='Single Tone spectroscopy #2 Baumanka Vanya-3')"
   ]
  },
  {
   "cell_type": "markdown",
   "metadata": {},
   "source": [
    "Plot Delay"
   ]
  },
  {
   "cell_type": "code",
   "execution_count": 131,
   "metadata": {},
   "outputs": [
    {
     "data": {
      "text/plain": [
       "6611200000.0"
      ]
     },
     "execution_count": 131,
     "metadata": {},
     "output_type": "execute_result"
    }
   ],
   "source": [
    "freqs=result[\"S-parameter\"][1][0]\n",
    "S21=result[\"S-parameter\"][2]\n",
    "diff=np.diff(np.unwrap(np.angle(S21)))\n",
    "freqs_diff = (freqs[1:]+freqs[:-1])/2\n",
    "plt.plot(freqs_diff,np.abs(diff))\n",
    "plt.show()\n",
    "center=freqs[np.argmax(np.abs(diff))]\n",
    "center"
   ]
  },
  {
   "cell_type": "code",
   "execution_count": 204,
   "metadata": {
    "collapsed": true
   },
   "outputs": [],
   "source": [
    "def curr(current):\n",
    "    lo1.set_status(0)\n",
    "    pna.set_average(0)\n",
    "    pna.set_nop(1001)\n",
    "    dfr=50e6\n",
    "    pna.set_xlim(qubit_params[qubit_id]['Fr']-dfr,  qubit_params[qubit_id]['Fr']+dfr)\n",
    "    pna.set_bandwidth(10)\n",
    "    current_src1.set_current(current)\n",
    "    S21   = pna.get_tracedata()\n",
    "    freqs = pna.get_freqpoints()\n",
    "    diff=np.diff(np.unwrap(S21[1]))\n",
    "    freqs_diff = (freqs[1:]+freqs[:-1])/2\n",
    "    pna.set_bandwidth(resolution_bw)\n",
    "    pna.set_nop(1)\n",
    "    center=freqs_diff[np.argmax(np.abs(diff))]\n",
    "    pna.set_xlim(center,center)#freqs_diff[np.argmin(S21[0])]-0.2e6,freqs[np.argmin(S21[0])]-0.2e6)\n",
    "    lo1.set_status(1)\n",
    "    plt.plot(freqs_diff, np.abs(diff))"
   ]
  },
  {
   "cell_type": "markdown",
   "metadata": {},
   "source": [
    "Unwrap phase"
   ]
  },
  {
   "cell_type": "code",
   "execution_count": null,
   "metadata": {
    "collapsed": true
   },
   "outputs": [],
   "source": [
    "S21=result['S-parameter'][2]\n",
    "freqs = result['S-parameter'][1][1]\n",
    "curr= result['S-parameter'][1][0]\n",
    "#f=np.arctan(np.real(S21)/np.imag(S21))\n",
    "f = np.angle(S21)\n",
    "f_u = np.unwrap(f)\n",
    "f_u_span = np.median(f_u[:,-1]-f_u[:,0])+2*np.pi*3\n",
    "S21_c = S21*np.exp(-1j*np.linspace(0, f_u_span, len(f[0,:])))\n",
    "plt.figure()\n",
    "plt.pcolormesh(curr,freqs,np.angle(S21_c).T);\n",
    "plt.colorbar()"
   ]
  },
  {
   "cell_type": "markdown",
   "metadata": {},
   "source": [
    "## Two-tone "
   ]
  },
  {
   "cell_type": "code",
   "execution_count": 206,
   "metadata": {
    "collapsed": true
   },
   "outputs": [],
   "source": [
    "pna.set_power (-60)\n",
    "curr(0)"
   ]
  },
  {
   "cell_type": "code",
   "execution_count": 210,
   "metadata": {},
   "outputs": [
    {
     "data": {
      "application/vnd.jupyter.widget-view+json": {
       "model_id": "a9cb87c1274d4a4798c46a110463fc3a",
       "version_major": 2,
       "version_minor": 0
      },
      "text/plain": [
       "A Jupyter Widget"
      ]
     },
     "metadata": {},
     "output_type": "display_data"
    },
    {
     "name": "stdout",
     "output_type": "stream",
     "text": [
      "Started at:  May 02 2018 10:17:41\n"
     ]
    },
    {
     "name": "stderr",
     "output_type": "stream",
     "text": [
      "C:\\ProgramData\\Anaconda3\\lib\\site-packages\\matplotlib\\cbook\\deprecation.py:106: MatplotlibDeprecationWarning: Adding an axes using the same arguments as a previous axes currently reuses the earlier instance.  In a future version, a new instance will always be created and returned.  Meanwhile, this warning can be suppressed, and the future behavior ensured, by passing a unique label to each axes instance.\n",
      "  warnings.warn(message, mplDeprecation, stacklevel=1)\n"
     ]
    },
    {
     "name": "stdout",
     "output_type": "stream",
     "text": [
      "\n",
      "Elapsed time: 0 h 9 m 33.05 s\n"
     ]
    }
   ],
   "source": [
    "#### НЕЖМИ МИНЯ\n",
    "current_src1.set_status(1)\n",
    "#current_src1.set_current(1e-3)\n",
    "#Измерение\n",
    "qubit_id = 2\n",
    "#curr(6e-5)\n",
    "lo1.set_status(1)\n",
    "ex_freqs = np.arange(5.4e9,6.4e9, 2e6)\n",
    "#pna.set_xlim(qubit_params[qubit_id]['Fr'],qubit_params[qubit_id]['Fr'])\n",
    "pna.set_nop(1)\n",
    "pna.set_xlim(qubit_params[qubit_id]['Fr'], qubit_params[qubit_id]['Fr'])\n",
    "pna.set_power (-60)\n",
    "curr(-3e-3)\n",
    "pna.set_bandwidth(1)\n",
    "#pna.set_average(1)\n",
    "pna.set_averages(1)\n",
    "#pna.set_average_mode('POINT')\n",
    "pna.set_average(0)\n",
    "#pna.set_averages(1)\n",
    "#pna.set_power (-40)\n",
    "lo1.set_power (-20)\n",
    "#current_src1.set_current(6e-5)\n",
    "\n",
    "header = '''#Parameter = Ex frequency\n",
    "#Ex power = {:f}'''\n",
    "try:\n",
    "    ex1D = sweep.sweep(pna, (ex_freqs, lo1.set_frequency, 'Second tone freq', 'Hz'), filename = \"ex_{0:.1f}dBm cur{1}#{2}\".format(lo1.get_power(),current_src1.get_current(),\\\n",
    "                                                                                                                                  qubit_id))\n",
    "except KeyboardInterrupt: pass "
   ]
  },
  {
   "cell_type": "code",
   "execution_count": 52,
   "metadata": {},
   "outputs": [
    {
     "data": {
      "text/plain": [
       "True"
      ]
     },
     "execution_count": 52,
     "metadata": {},
     "output_type": "execute_result"
    }
   ],
   "source": [
    "current_src1.set_current(-4e-5)"
   ]
  },
  {
   "cell_type": "code",
   "execution_count": 50,
   "metadata": {},
   "outputs": [
    {
     "data": {
      "application/vnd.jupyter.widget-view+json": {
       "model_id": "4beb3cdd007047bb8c753a86f7b5ba30",
       "version_major": 2,
       "version_minor": 0
      },
      "text/plain": [
       "A Jupyter Widget"
      ]
     },
     "metadata": {},
     "output_type": "display_data"
    },
    {
     "name": "stdout",
     "output_type": "stream",
     "text": [
      "Started at:  Apr 27 2018 20:05:59\n"
     ]
    },
    {
     "name": "stderr",
     "output_type": "stream",
     "text": [
      "C:\\ProgramData\\Anaconda3\\lib\\site-packages\\matplotlib\\cbook\\deprecation.py:106: MatplotlibDeprecationWarning: Adding an axes using the same arguments as a previous axes currently reuses the earlier instance.  In a future version, a new instance will always be created and returned.  Meanwhile, this warning can be suppressed, and the future behavior ensured, by passing a unique label to each axes instance.\n",
      "  warnings.warn(message, mplDeprecation, stacklevel=1)\n"
     ]
    },
    {
     "name": "stdout",
     "output_type": "stream",
     "text": [
      "\n",
      "Elapsed time: 0 h 0 m 1.14 s\n"
     ]
    },
    {
     "data": {
      "text/plain": [
       "{'S-parameter': (('Frequency',),\n",
       "  (array([  6.69900000e+09,   6.70000000e+09,   6.70100000e+09,\n",
       "            6.70200000e+09,   6.70300000e+09,   6.70400000e+09,\n",
       "            6.70500000e+09,   6.70600000e+09,   6.70700000e+09,\n",
       "            6.70800000e+09,   6.70900000e+09,   6.71000000e+09,\n",
       "            6.71100000e+09,   6.71200000e+09,   6.71300000e+09,\n",
       "            6.71400000e+09,   6.71500000e+09,   6.71600000e+09,\n",
       "            6.71700000e+09,   6.71800000e+09,   6.71900000e+09,\n",
       "            6.72000000e+09,   6.72100000e+09,   6.72200000e+09,\n",
       "            6.72300000e+09,   6.72400000e+09,   6.72500000e+09,\n",
       "            6.72600000e+09,   6.72700000e+09,   6.72800000e+09,\n",
       "            6.72900000e+09,   6.73000000e+09,   6.73100000e+09,\n",
       "            6.73200000e+09,   6.73300000e+09,   6.73400000e+09,\n",
       "            6.73500000e+09,   6.73600000e+09,   6.73700000e+09,\n",
       "            6.73800000e+09,   6.73900000e+09,   6.74000000e+09,\n",
       "            6.74100000e+09,   6.74200000e+09,   6.74300000e+09,\n",
       "            6.74400000e+09,   6.74500000e+09,   6.74600000e+09,\n",
       "            6.74700000e+09,   6.74800000e+09,   6.74900000e+09,\n",
       "            6.75000000e+09,   6.75100000e+09,   6.75200000e+09,\n",
       "            6.75300000e+09,   6.75400000e+09,   6.75500000e+09,\n",
       "            6.75600000e+09,   6.75700000e+09,   6.75800000e+09,\n",
       "            6.75900000e+09,   6.76000000e+09,   6.76100000e+09,\n",
       "            6.76200000e+09,   6.76300000e+09,   6.76400000e+09,\n",
       "            6.76500000e+09,   6.76600000e+09,   6.76700000e+09,\n",
       "            6.76800000e+09,   6.76900000e+09,   6.77000000e+09,\n",
       "            6.77100000e+09,   6.77200000e+09,   6.77300000e+09,\n",
       "            6.77400000e+09,   6.77500000e+09,   6.77600000e+09,\n",
       "            6.77700000e+09,   6.77800000e+09,   6.77900000e+09,\n",
       "            6.78000000e+09,   6.78100000e+09,   6.78200000e+09,\n",
       "            6.78300000e+09,   6.78400000e+09,   6.78500000e+09,\n",
       "            6.78600000e+09,   6.78700000e+09,   6.78800000e+09,\n",
       "            6.78900000e+09,   6.79000000e+09,   6.79100000e+09,\n",
       "            6.79200000e+09,   6.79300000e+09,   6.79400000e+09,\n",
       "            6.79500000e+09,   6.79600000e+09,   6.79700000e+09,\n",
       "            6.79800000e+09,   6.79900000e+09,   6.80000000e+09,\n",
       "            6.80100000e+09,   6.80200000e+09,   6.80300000e+09,\n",
       "            6.80400000e+09,   6.80500000e+09,   6.80600000e+09,\n",
       "            6.80700000e+09,   6.80800000e+09,   6.80900000e+09,\n",
       "            6.81000000e+09,   6.81100000e+09,   6.81200000e+09,\n",
       "            6.81300000e+09,   6.81400000e+09,   6.81500000e+09,\n",
       "            6.81600000e+09,   6.81700000e+09,   6.81800000e+09,\n",
       "            6.81900000e+09,   6.82000000e+09,   6.82100000e+09,\n",
       "            6.82200000e+09,   6.82300000e+09,   6.82400000e+09,\n",
       "            6.82500000e+09,   6.82600000e+09,   6.82700000e+09,\n",
       "            6.82800000e+09,   6.82900000e+09,   6.83000000e+09,\n",
       "            6.83100000e+09,   6.83200000e+09,   6.83300000e+09,\n",
       "            6.83400000e+09,   6.83500000e+09,   6.83600000e+09,\n",
       "            6.83700000e+09,   6.83800000e+09,   6.83900000e+09,\n",
       "            6.84000000e+09,   6.84100000e+09,   6.84200000e+09,\n",
       "            6.84300000e+09,   6.84400000e+09,   6.84500000e+09,\n",
       "            6.84600000e+09,   6.84700000e+09,   6.84800000e+09,\n",
       "            6.84900000e+09,   6.85000000e+09,   6.85100000e+09,\n",
       "            6.85200000e+09,   6.85300000e+09,   6.85400000e+09,\n",
       "            6.85500000e+09,   6.85600000e+09,   6.85700000e+09,\n",
       "            6.85800000e+09,   6.85900000e+09,   6.86000000e+09,\n",
       "            6.86100000e+09,   6.86200000e+09,   6.86300000e+09,\n",
       "            6.86400000e+09,   6.86500000e+09,   6.86600000e+09,\n",
       "            6.86700000e+09,   6.86800000e+09,   6.86900000e+09,\n",
       "            6.87000000e+09,   6.87100000e+09,   6.87200000e+09,\n",
       "            6.87300000e+09,   6.87400000e+09,   6.87500000e+09,\n",
       "            6.87600000e+09,   6.87700000e+09,   6.87800000e+09,\n",
       "            6.87900000e+09,   6.88000000e+09,   6.88100000e+09,\n",
       "            6.88200000e+09,   6.88300000e+09,   6.88400000e+09,\n",
       "            6.88500000e+09,   6.88600000e+09,   6.88700000e+09,\n",
       "            6.88800000e+09,   6.88900000e+09,   6.89000000e+09,\n",
       "            6.89100000e+09,   6.89200000e+09,   6.89300000e+09,\n",
       "            6.89400000e+09,   6.89500000e+09,   6.89600000e+09,\n",
       "            6.89700000e+09,   6.89800000e+09,   6.89900000e+09]),),\n",
       "  array([ -3.87349026e-03 +2.01794785e-03j,\n",
       "          -3.02392663e-03 +2.66261352e-03j,\n",
       "          -2.30334746e-03 +3.10305902e-03j,\n",
       "          -1.28777302e-03 +3.97633528e-03j,\n",
       "           2.83841393e-04 +3.80246690e-03j,\n",
       "           1.88806828e-03 +3.72248073e-03j,\n",
       "           2.70232745e-03 +3.29330470e-03j,\n",
       "           3.45539069e-03 +2.15956732e-03j,\n",
       "           3.82850342e-03 +1.02834590e-03j,\n",
       "           4.10800381e-03 -6.30288559e-04j,\n",
       "           3.68345808e-03 -1.47930952e-03j,\n",
       "           3.05471499e-03 -2.42147315e-03j,\n",
       "           2.16933689e-03 -3.87336547e-03j,\n",
       "           7.91822560e-04 -3.72180529e-03j,\n",
       "          -3.47965979e-04 -3.94734368e-03j,\n",
       "          -1.69021485e-03 -3.64373717e-03j,\n",
       "          -2.64850981e-03 -2.95898854e-03j,\n",
       "          -3.09071806e-03 -1.98583095e-03j,\n",
       "          -4.03397065e-03 -1.24318199e-03j,\n",
       "          -3.95966507e-03 +2.32679540e-05j,\n",
       "          -3.66028282e-03 +1.29472557e-03j,\n",
       "          -3.03632696e-03 +2.26682634e-03j,\n",
       "          -2.21166341e-03 +3.11369379e-03j,\n",
       "          -1.16717024e-03 +3.83262360e-03j,\n",
       "           7.82987045e-05 +3.68983974e-03j,\n",
       "           1.68878166e-03 +3.55293578e-03j,\n",
       "           2.73063616e-03 +2.98034376e-03j,\n",
       "           3.20864073e-03 +2.02355627e-03j,\n",
       "           3.74472211e-03 +7.35532667e-04j,\n",
       "           4.08842508e-03 -4.46568098e-04j,\n",
       "           3.48634017e-03 -1.52491825e-03j,\n",
       "           2.84646102e-03 -2.44162651e-03j,\n",
       "           1.79718528e-03 -3.39649874e-03j,\n",
       "           4.92672261e-04 -3.76194203e-03j,\n",
       "          -5.05472068e-04 -3.82306962e-03j,\n",
       "          -1.72092300e-03 -3.50541645e-03j,\n",
       "          -2.77204462e-03 -2.89576664e-03j,\n",
       "          -3.52737121e-03 -1.92049262e-03j,\n",
       "          -3.74315819e-03 -3.49468726e-04j,\n",
       "          -4.08810191e-03 +6.78999058e-04j,\n",
       "          -3.47631052e-03 +1.73104124e-03j,\n",
       "          -3.07659782e-03 +3.01030767e-03j,\n",
       "          -1.92374876e-03 +3.64478142e-03j,\n",
       "          -7.23852834e-04 +3.64195649e-03j,\n",
       "           5.12546161e-04 +4.05915547e-03j,\n",
       "           1.89425959e-03 +4.15034685e-03j,\n",
       "           2.96534621e-03 +3.13994242e-03j,\n",
       "           3.73056065e-03 +2.13872571e-03j,\n",
       "           4.38604830e-03 +6.36463170e-04j,\n",
       "           4.37011011e-03 -8.05059448e-04j,\n",
       "           3.95260053e-03 -2.36719148e-03j,\n",
       "           2.98309699e-03 -3.47910007e-03j,\n",
       "           1.52422744e-03 -4.29161079e-03j,\n",
       "           2.00572613e-04 -5.00152633e-03j,\n",
       "          -1.37117377e-03 -4.83366754e-03j,\n",
       "          -2.76632886e-03 -4.50663595e-03j,\n",
       "          -4.02894709e-03 -3.34835169e-03j,\n",
       "          -5.22024557e-03 -1.98054733e-03j,\n",
       "          -5.67153981e-03 +8.89912826e-07j,\n",
       "          -5.56440186e-03 +1.59921800e-03j,\n",
       "          -4.38887766e-03 +3.59311444e-03j,\n",
       "          -3.16786557e-03 +5.26031246e-03j,\n",
       "          -1.47289992e-03 +6.03409531e-03j,\n",
       "           1.19034771e-03 +6.38781302e-03j,\n",
       "           3.34860105e-03 +5.99552831e-03j,\n",
       "           5.19928336e-03 +4.46261978e-03j,\n",
       "           6.94779959e-03 +2.21944693e-03j,\n",
       "           7.42281275e-03 -3.42225860e-04j,\n",
       "           7.09594693e-03 -2.86686141e-03j,\n",
       "           5.57068316e-03 -5.36071928e-03j,\n",
       "           3.66905541e-03 -7.14886701e-03j,\n",
       "           6.49558147e-04 -8.23255256e-03j,\n",
       "          -2.49417755e-03 -7.90068042e-03j,\n",
       "          -5.54638263e-03 -6.68981299e-03j,\n",
       "          -7.77746690e-03 -4.19665640e-03j,\n",
       "          -8.97411443e-03 -1.00703398e-03j,\n",
       "          -8.75797682e-03 +2.21060519e-03j,\n",
       "          -7.37785781e-03 +5.15768584e-03j,\n",
       "          -4.58518462e-03 +7.76765076e-03j,\n",
       "          -1.22924394e-03 +8.82599782e-03j,\n",
       "           2.49123224e-03 +8.80061090e-03j,\n",
       "           5.53916534e-03 +7.14823464e-03j,\n",
       "           7.65471626e-03 +4.64535318e-03j,\n",
       "           9.24335606e-03 +1.31107320e-03j,\n",
       "           8.59720726e-03 -2.35610129e-03j,\n",
       "           6.81926589e-03 -5.10148425e-03j,\n",
       "           4.41520987e-03 -7.44904345e-03j,\n",
       "           9.60497535e-04 -8.29110760e-03j,\n",
       "          -2.00551865e-03 -7.56083662e-03j,\n",
       "          -4.70722094e-03 -6.25978084e-03j,\n",
       "          -6.60924008e-03 -3.63188796e-03j,\n",
       "          -7.31129013e-03 -6.35938311e-04j,\n",
       "          -6.22172887e-03 +2.13901675e-03j,\n",
       "          -5.01297694e-03 +4.49418835e-03j,\n",
       "          -2.29966315e-03 +5.72193647e-03j,\n",
       "           4.10473353e-04 +5.85045340e-03j,\n",
       "           3.39269009e-03 +4.28581703e-03j,\n",
       "           4.78436891e-03 +1.28532702e-03j,\n",
       "           2.69808504e-03 -4.19982988e-03j,\n",
       "          -7.26655312e-03 -1.98211684e-03j,\n",
       "          -7.69658072e-04 +9.36799217e-03j,\n",
       "           5.86125255e-03 +5.18519385e-03j,\n",
       "           7.12767150e-03 +6.44435582e-04j,\n",
       "           5.76525275e-03 -2.94366828e-03j,\n",
       "           3.38934106e-03 -5.38142957e-03j,\n",
       "           6.50123169e-04 -5.74477250e-03j,\n",
       "          -2.31431564e-03 -5.13059646e-03j,\n",
       "          -4.25731717e-03 -3.10509303e-03j,\n",
       "          -5.09748189e-03 -3.08906638e-05j,\n",
       "          -3.67423077e-03 +3.59686487e-03j,\n",
       "           1.34960399e-03 +6.10067835e-03j,\n",
       "           8.80482048e-03 +1.50053529e-03j,\n",
       "           4.18124394e-03 -9.58231185e-03j,\n",
       "          -5.57390554e-03 -7.74772279e-03j,\n",
       "          -8.17985646e-03 -1.29129249e-03j,\n",
       "          -6.48483168e-03 +3.12303472e-03j,\n",
       "          -4.15436598e-03 +5.39324805e-03j,\n",
       "          -1.54187938e-03 +6.10902952e-03j,\n",
       "           8.91783042e-04 +5.86089166e-03j,\n",
       "           3.33648431e-03 +4.91454545e-03j,\n",
       "           4.58422583e-03 +3.21976840e-03j,\n",
       "           5.11573907e-03 +1.28462992e-03j,\n",
       "           5.04081277e-03 -4.96604887e-04j,\n",
       "           5.02738450e-03 -2.44812178e-03j,\n",
       "           3.69141973e-03 -3.70627572e-03j,\n",
       "           1.85686629e-03 -4.35099751e-03j,\n",
       "           3.77750548e-04 -4.84473910e-03j,\n",
       "          -1.27799041e-03 -4.49618557e-03j,\n",
       "          -2.90013873e-03 -4.18952713e-03j,\n",
       "          -3.92194977e-03 -3.11879767e-03j,\n",
       "          -4.55034664e-03 -1.16654381e-03j,\n",
       "          -4.78020171e-03 -2.16830420e-04j,\n",
       "          -4.37178183e-03 +1.47662114e-03j,\n",
       "          -3.74876289e-03 +2.73937918e-03j,\n",
       "          -2.59850058e-03 +3.86905787e-03j,\n",
       "          -1.18208700e-03 +4.55749407e-03j,\n",
       "           4.91576036e-04 +4.36065393e-03j,\n",
       "           1.77468010e-03 +4.38670628e-03j,\n",
       "           3.42724589e-03 +3.17958067e-03j,\n",
       "           3.82676092e-03 +2.32059718e-03j,\n",
       "           4.66398150e-03 +1.12909905e-03j,\n",
       "           4.49100556e-03 -6.89710374e-04j,\n",
       "           4.34136484e-03 -1.93032424e-03j,\n",
       "           3.41584720e-03 -3.41757759e-03j,\n",
       "           2.32563051e-03 -4.31057997e-03j,\n",
       "           8.42966547e-04 -4.85108607e-03j,\n",
       "          -4.68937622e-04 -4.81390068e-03j,\n",
       "          -2.48266337e-03 -4.24957788e-03j,\n",
       "          -3.64065799e-03 -3.47926305e-03j,\n",
       "          -4.71765734e-03 -2.00708210e-03j,\n",
       "          -5.28811757e-03 -3.97828146e-04j,\n",
       "          -5.07176109e-03 +1.14754331e-03j,\n",
       "          -4.21251031e-03 +2.67795357e-03j,\n",
       "          -3.50952777e-03 +3.91803682e-03j,\n",
       "          -2.03433214e-03 +4.89396462e-03j,\n",
       "          -2.67522817e-04 +5.32218115e-03j,\n",
       "           1.59778888e-03 +5.58532262e-03j,\n",
       "           3.26874061e-03 +4.53845784e-03j,\n",
       "           4.25411342e-03 +2.95647955e-03j,\n",
       "           5.52333426e-03 +1.49794680e-03j,\n",
       "           5.79988118e-03 -5.60424542e-06j,\n",
       "           5.27593354e-03 -1.94456393e-03j,\n",
       "           4.28623939e-03 -3.61951091e-03j,\n",
       "           3.37704178e-03 -4.73575667e-03j,\n",
       "           1.49352755e-03 -5.57710603e-03j,\n",
       "          -2.10307131e-04 -5.81661426e-03j,\n",
       "          -2.20262585e-03 -5.23661915e-03j,\n",
       "          -3.79692484e-03 -4.56577586e-03j,\n",
       "          -4.75369859e-03 -3.25361593e-03j,\n",
       "          -5.77188889e-03 -1.12384337e-03j,\n",
       "          -5.67155331e-03 +3.49047856e-04j,\n",
       "          -5.63954189e-03 +2.45465804e-03j,\n",
       "          -4.51069186e-03 +4.07322170e-03j,\n",
       "          -3.10069509e-03 +5.34021994e-03j,\n",
       "          -1.48074515e-03 +6.11677393e-03j,\n",
       "           3.71877919e-04 +6.57858793e-03j,\n",
       "           2.93036760e-03 +6.25133002e-03j,\n",
       "           4.59861103e-03 +5.25492243e-03j,\n",
       "           6.36201026e-03 +3.53631587e-03j,\n",
       "           6.89511001e-03 +1.45844719e-03j,\n",
       "           7.59130344e-03 -8.78530904e-04j,\n",
       "           7.04295700e-03 -3.32618249e-03j,\n",
       "           5.68555761e-03 -5.56037808e-03j,\n",
       "           3.57634900e-03 -7.42869545e-03j,\n",
       "           1.10259652e-03 -8.16578884e-03j,\n",
       "          -1.32796145e-03 -8.42892844e-03j,\n",
       "          -4.14454751e-03 -7.62326084e-03j,\n",
       "          -7.03037297e-03 -6.25466695e-03j,\n",
       "          -8.79925396e-03 -3.52496048e-03j,\n",
       "          -9.89597384e-03 -6.53878436e-04j,\n",
       "          -9.68983490e-03 +2.72563868e-03j,\n",
       "          -8.55339877e-03 +5.84751321e-03j,\n",
       "          -6.44878950e-03 +8.74551479e-03j,\n",
       "          -3.14124627e-03 +1.02089820e-02j,\n",
       "           7.55296845e-04 +1.10656768e-02j,\n",
       "           4.54218267e-03 +1.08063240e-02j,\n",
       "           8.23238492e-03 +8.49800650e-03j,\n",
       "           1.09551987e-02 +5.08093834e-03j,\n",
       "           1.23703452e-02 +1.34522235e-03j,\n",
       "           1.24819884e-02 -2.75825150e-03j,   1.07030775e-02 -7.05798669e-03j]),\n",
       "  {'log': 20},\n",
       "  ('Hz',))}"
      ]
     },
     "execution_count": 50,
     "metadata": {},
     "output_type": "execute_result"
    }
   ],
   "source": [
    "lo1.set_status(0)\n",
    "pna.set_nop(201)\n",
    "#pna.set_centerfreq(6.656e9)\n",
    "pna.set_centerfreq(6.799e9)\n",
    "pna.set_bandwidth(200)\n",
    "pna.set_span(200e6)\n",
    "sweep.sweep(pna, ([1], lambda x: 0, ''))\n",
    "#S21 = pna.measure()['S-parameter']\n",
    "#plt.figure()\n",
    "#plt.plot(pna.get_freqpoints(), np.abs(S21))\n"
   ]
  },
  {
   "cell_type": "code",
   "execution_count": 196,
   "metadata": {},
   "outputs": [
    {
     "data": {
      "text/plain": [
       "6475700000"
      ]
     },
     "execution_count": 196,
     "metadata": {},
     "output_type": "execute_result"
    }
   ],
   "source": [
    "qubit_params[2]['Fr']"
   ]
  },
  {
   "cell_type": "code",
   "execution_count": 154,
   "metadata": {},
   "outputs": [
    {
     "name": "stdout",
     "output_type": "stream",
     "text": [
      "-0.001 6745950000.0\n"
     ]
    }
   ],
   "source": [
    "curr(-1e-3)"
   ]
  },
  {
   "cell_type": "code",
   "execution_count": 215,
   "metadata": {},
   "outputs": [
    {
     "data": {
      "application/vnd.jupyter.widget-view+json": {
       "model_id": "706e48224fb44b17a15a3ef22cd4de7f",
       "version_major": 2,
       "version_minor": 0
      },
      "text/plain": [
       "A Jupyter Widget"
      ]
     },
     "metadata": {},
     "output_type": "display_data"
    },
    {
     "name": "stdout",
     "output_type": "stream",
     "text": [
      "Started at:  May 03 2018 09:31:19\n",
      "-0.006 6744500000.0\n",
      "-0.00553846153846 6744700000.0\n",
      "-0.00507692307692 6744900000.0\n",
      "-0.00461538461538 6745100000.0\n",
      "-0.00415384615385 6745100000.0\n",
      "-0.00369230769231 6745100000.0\n",
      "-0.00323076923077 6745100000.0\n",
      "-0.00276923076923 6744900000.0\n",
      "-0.00230769230769 6744900000.0\n",
      "-0.00184615384615 6744900000.0\n",
      "-0.00138461538462 6745100000.0\n",
      "-0.000923076923077 6744700000.0\n",
      "-0.000461538461538 6745900000.0\n",
      "0.0 6746100000.0\n",
      "0.000461538461538 6745900000.0\n",
      "0.000923076923077 6745900000.0\n",
      "0.00138461538462 6745700000.0\n",
      "0.00184615384615 6745700000.0\n",
      "0.00230769230769 6745700000.0\n",
      "0.00276923076923 6745100000.0\n",
      "0.00323076923077 6744900000.0\n",
      "0.00369230769231 6744700000.0\n",
      "0.00415384615385 6744700000.0\n",
      "0.00461538461538 6744900000.0\n",
      "0.00507692307692 6744500000.0\n",
      "0.00553846153846 6743100000.0\n",
      "0.006 6742900000.0\n",
      "\n",
      "Elapsed time: 0 h 27 m 17.56 s\n"
     ]
    },
    {
     "data": {
      "application/vnd.jupyter.widget-view+json": {
       "model_id": "c37e2864c28742bab9bc8e3d28ef411e",
       "version_major": 2,
       "version_minor": 0
      },
      "text/plain": [
       "A Jupyter Widget"
      ]
     },
     "metadata": {},
     "output_type": "display_data"
    },
    {
     "name": "stdout",
     "output_type": "stream",
     "text": [
      "Started at:  May 03 2018 09:58:38\n",
      "-0.006 6471800000.0\n",
      "-0.00553846153846 6472200000.0\n",
      "-0.00507692307692 6472400000.0\n",
      "-0.00461538461538 6472400000.0\n",
      "-0.00415384615385 6472600000.0\n",
      "-0.00369230769231 6472600000.0\n",
      "-0.00323076923077 6474800000.0\n",
      "-0.00276923076923 6474800000.0\n",
      "-0.00230769230769 6474800000.0\n",
      "-0.00184615384615 6475000000.0\n",
      "-0.00138461538462 6474800000.0\n",
      "-0.000923076923077 6474600000.0\n",
      "-0.000461538461538 6475200000.0\n",
      "0.0 6474800000.0\n",
      "0.000461538461538 6475400000.0\n",
      "0.000923076923077 6475400000.0\n",
      "0.00138461538462 6475200000.0\n",
      "0.00184615384615 6475000000.0\n",
      "0.00230769230769 6474600000.0\n",
      "0.00276923076923 6474200000.0\n",
      "0.00323076923077 6474000000.0\n",
      "0.00369230769231 6473600000.0\n",
      "0.00415384615385 6473400000.0\n",
      "0.00461538461538 6473000000.0\n",
      "0.00507692307692 6472800000.0\n",
      "0.00553846153846 6471400000.0\n",
      "0.006 6471200000.0\n",
      "\n",
      "Elapsed time: 0 h 27 m 44.23 s\n"
     ]
    },
    {
     "data": {
      "application/vnd.jupyter.widget-view+json": {
       "model_id": "a1f53c02957d43f18c1bf3356176342d",
       "version_major": 2,
       "version_minor": 0
      },
      "text/plain": [
       "A Jupyter Widget"
      ]
     },
     "metadata": {},
     "output_type": "display_data"
    },
    {
     "name": "stdout",
     "output_type": "stream",
     "text": [
      "Started at:  May 03 2018 10:26:23\n",
      "-0.006 6608300000.0\n",
      "-0.00553846153846 6608500000.0\n",
      "-0.00507692307692 6608700000.0\n",
      "-0.00461538461538 6608700000.0\n",
      "-0.00415384615385 6608900000.0\n",
      "-0.00369230769231 6608700000.0\n",
      "-0.00323076923077 6608700000.0\n",
      "-0.00276923076923 6608300000.0\n",
      "-0.00230769230769 6610900000.0\n",
      "-0.00184615384615 6610700000.0\n",
      "-0.00138461538462 6610700000.0\n",
      "-0.000923076923077 6610700000.0\n",
      "-0.000461538461538 6610500000.0\n",
      "0.0 6611100000.0\n",
      "0.000461538461538 6610900000.0\n",
      "0.000923076923077 6611100000.0\n",
      "0.00138461538462 6611100000.0\n",
      "0.00184615384615 6610900000.0\n",
      "0.00230769230769 6610700000.0\n",
      "0.00276923076923 6610100000.0\n",
      "0.00323076923077 6609900000.0\n",
      "0.00369230769231 6609700000.0\n",
      "0.00415384615385 6609900000.0\n",
      "0.00461538461538 6609700000.0\n",
      "0.00507692307692 6607900000.0\n",
      "0.00553846153846 6607700000.0\n",
      "0.006 6607500000.0\n",
      "\n",
      "Elapsed time: 0 h 27 m 35.72 s\n"
     ]
    }
   ],
   "source": [
    "current_src1.set_status(1)\n",
    "#lo1.set_status(1)\n",
    "lo1.set_power(5)\n",
    "pna.set_power(-60)\n",
    "currents =np.linspace(-6e-3,6e-3,27)\n",
    "ex_freqs =np.linspace(3.0e9,4.0e9,101)\n",
    "\n",
    "def curr(current):\n",
    "    lo1.set_status(0)\n",
    "    current_src1.set_current(current)\n",
    "    pna.set_nop(101)\n",
    "    pna.set_bandwidth(10)\n",
    "    pna.set_average(0)\n",
    "    pna.set_averages(1)\n",
    "    dfr=10e6\n",
    "    pna.set_xlim(qubit_params[qubit_id]['Fr']-dfr,  qubit_params[qubit_id]['Fr']+dfr)\n",
    "    S21   = pna.get_tracedata()\n",
    "    freqs = pna.get_freqpoints()\n",
    "    diff=np.diff(np.unwrap(S21[1]))\n",
    "    freqs_diff = (freqs[1:]+freqs[:-1])/2\n",
    "    pna.set_bandwidth(3)\n",
    "    pna.set_nop(1)\n",
    "    center=freqs_diff[np.argmax(np.abs(diff))]\n",
    "    print(current,center)\n",
    "    pna.set_xlim(center,center)#freqs_diff[np.argmin(S21[0])]-0.2e6,freqs[np.argmin(S21[0])]-0.2e6)\n",
    "    lo1.set_status(1)\n",
    "\n",
    "for qubit_id in [1,2,3]:\n",
    "    results=sweep.sweep(pna,(currents,curr,'Current'),\n",
    "                (ex_freqs,lo1.set_frequency,'Second Tone Frequency'),\n",
    "                filename = \"Baumanka Two-tone current-frequency #{}\".format(qubit_id)) #\"2-Tone Power{0} #{1}Baumanka\".format(lo1.get_power(),qubit_id))\n",
    "#sweep.sweep(pna,(currents,curr,'Current'),(ex_freqs,lo1.set_frequency,'Tone-2 Fr'),filename = \"2-Tone Power{0} #{1}CHG\".format(lo1.get_power(),qubit_id))"
   ]
  },
  {
   "cell_type": "code",
   "execution_count": 101,
   "metadata": {},
   "outputs": [
    {
     "ename": "ValueError",
     "evalue": "attempt to get argmax of an empty sequence",
     "output_type": "error",
     "traceback": [
      "\u001b[1;31m---------------------------------------------------------------------------\u001b[0m",
      "\u001b[1;31mValueError\u001b[0m                                Traceback (most recent call last)",
      "\u001b[1;32m<ipython-input-101-21e23aedd816>\u001b[0m in \u001b[0;36m<module>\u001b[1;34m()\u001b[0m\n\u001b[0;32m      3\u001b[0m \u001b[0mdiff\u001b[0m\u001b[1;33m=\u001b[0m\u001b[0mnp\u001b[0m\u001b[1;33m.\u001b[0m\u001b[0mdiff\u001b[0m\u001b[1;33m(\u001b[0m\u001b[0mnp\u001b[0m\u001b[1;33m.\u001b[0m\u001b[0munwrap\u001b[0m\u001b[1;33m(\u001b[0m\u001b[0mS21\u001b[0m\u001b[1;33m[\u001b[0m\u001b[1;36m1\u001b[0m\u001b[1;33m]\u001b[0m\u001b[1;33m)\u001b[0m\u001b[1;33m)\u001b[0m\u001b[1;33m\u001b[0m\u001b[0m\n\u001b[0;32m      4\u001b[0m \u001b[0mfreqs_diff\u001b[0m \u001b[1;33m=\u001b[0m \u001b[1;33m(\u001b[0m\u001b[0mfreqs\u001b[0m\u001b[1;33m[\u001b[0m\u001b[1;36m1\u001b[0m\u001b[1;33m:\u001b[0m\u001b[1;33m]\u001b[0m\u001b[1;33m+\u001b[0m\u001b[0mfreqs\u001b[0m\u001b[1;33m[\u001b[0m\u001b[1;33m:\u001b[0m\u001b[1;33m-\u001b[0m\u001b[1;36m1\u001b[0m\u001b[1;33m]\u001b[0m\u001b[1;33m)\u001b[0m\u001b[1;33m/\u001b[0m\u001b[1;36m2\u001b[0m\u001b[1;33m\u001b[0m\u001b[0m\n\u001b[1;32m----> 5\u001b[1;33m \u001b[0mcenter\u001b[0m\u001b[1;33m=\u001b[0m\u001b[0mfreqs_diff\u001b[0m\u001b[1;33m[\u001b[0m\u001b[0mnp\u001b[0m\u001b[1;33m.\u001b[0m\u001b[0margmax\u001b[0m\u001b[1;33m(\u001b[0m\u001b[0mdiff\u001b[0m\u001b[1;33m)\u001b[0m\u001b[1;33m]\u001b[0m\u001b[1;33m\u001b[0m\u001b[0m\n\u001b[0m\u001b[0;32m      6\u001b[0m \u001b[0mprint\u001b[0m\u001b[1;33m(\u001b[0m\u001b[0mcenter\u001b[0m\u001b[1;33m)\u001b[0m\u001b[1;33m\u001b[0m\u001b[0m\n",
      "\u001b[1;32mC:\\ProgramData\\Anaconda3\\lib\\site-packages\\numpy\\core\\fromnumeric.py\u001b[0m in \u001b[0;36margmax\u001b[1;34m(a, axis, out)\u001b[0m\n\u001b[0;32m    961\u001b[0m \u001b[1;33m\u001b[0m\u001b[0m\n\u001b[0;32m    962\u001b[0m     \"\"\"\n\u001b[1;32m--> 963\u001b[1;33m     \u001b[1;32mreturn\u001b[0m \u001b[0m_wrapfunc\u001b[0m\u001b[1;33m(\u001b[0m\u001b[0ma\u001b[0m\u001b[1;33m,\u001b[0m \u001b[1;34m'argmax'\u001b[0m\u001b[1;33m,\u001b[0m \u001b[0maxis\u001b[0m\u001b[1;33m=\u001b[0m\u001b[0maxis\u001b[0m\u001b[1;33m,\u001b[0m \u001b[0mout\u001b[0m\u001b[1;33m=\u001b[0m\u001b[0mout\u001b[0m\u001b[1;33m)\u001b[0m\u001b[1;33m\u001b[0m\u001b[0m\n\u001b[0m\u001b[0;32m    964\u001b[0m \u001b[1;33m\u001b[0m\u001b[0m\n\u001b[0;32m    965\u001b[0m \u001b[1;33m\u001b[0m\u001b[0m\n",
      "\u001b[1;32mC:\\ProgramData\\Anaconda3\\lib\\site-packages\\numpy\\core\\fromnumeric.py\u001b[0m in \u001b[0;36m_wrapfunc\u001b[1;34m(obj, method, *args, **kwds)\u001b[0m\n\u001b[0;32m     55\u001b[0m \u001b[1;32mdef\u001b[0m \u001b[0m_wrapfunc\u001b[0m\u001b[1;33m(\u001b[0m\u001b[0mobj\u001b[0m\u001b[1;33m,\u001b[0m \u001b[0mmethod\u001b[0m\u001b[1;33m,\u001b[0m \u001b[1;33m*\u001b[0m\u001b[0margs\u001b[0m\u001b[1;33m,\u001b[0m \u001b[1;33m**\u001b[0m\u001b[0mkwds\u001b[0m\u001b[1;33m)\u001b[0m\u001b[1;33m:\u001b[0m\u001b[1;33m\u001b[0m\u001b[0m\n\u001b[0;32m     56\u001b[0m     \u001b[1;32mtry\u001b[0m\u001b[1;33m:\u001b[0m\u001b[1;33m\u001b[0m\u001b[0m\n\u001b[1;32m---> 57\u001b[1;33m         \u001b[1;32mreturn\u001b[0m \u001b[0mgetattr\u001b[0m\u001b[1;33m(\u001b[0m\u001b[0mobj\u001b[0m\u001b[1;33m,\u001b[0m \u001b[0mmethod\u001b[0m\u001b[1;33m)\u001b[0m\u001b[1;33m(\u001b[0m\u001b[1;33m*\u001b[0m\u001b[0margs\u001b[0m\u001b[1;33m,\u001b[0m \u001b[1;33m**\u001b[0m\u001b[0mkwds\u001b[0m\u001b[1;33m)\u001b[0m\u001b[1;33m\u001b[0m\u001b[0m\n\u001b[0m\u001b[0;32m     58\u001b[0m \u001b[1;33m\u001b[0m\u001b[0m\n\u001b[0;32m     59\u001b[0m     \u001b[1;31m# An AttributeError occurs if the object does not have\u001b[0m\u001b[1;33m\u001b[0m\u001b[1;33m\u001b[0m\u001b[0m\n",
      "\u001b[1;31mValueError\u001b[0m: attempt to get argmax of an empty sequence"
     ]
    }
   ],
   "source": [
    "S21  = pna.get_tracedata()\n",
    "freqs = pna.get_freqpoints()\n",
    "diff=np.diff(np.unwrap(S21[1]))\n",
    "freqs_diff = (freqs[1:]+freqs[:-1])/2\n",
    "center=freqs_diff[np.argmax(np.abs(diff))]\n",
    "print(center)"
   ]
  },
  {
   "cell_type": "code",
   "execution_count": 92,
   "metadata": {
    "collapsed": true
   },
   "outputs": [],
   "source": [
    "S21   = pna.get_tracedata()"
   ]
  },
  {
   "cell_type": "code",
   "execution_count": 94,
   "metadata": {},
   "outputs": [
    {
     "data": {
      "text/plain": [
       "array([ 0.15564658])"
      ]
     },
     "execution_count": 94,
     "metadata": {},
     "output_type": "execute_result"
    }
   ],
   "source": [
    "np.unS21[1]"
   ]
  },
  {
   "cell_type": "code",
   "execution_count": 18,
   "metadata": {
    "collapsed": true
   },
   "outputs": [],
   "source": [
    "qubit_id=1"
   ]
  },
  {
   "cell_type": "code",
   "execution_count": 35,
   "metadata": {
    "collapsed": true
   },
   "outputs": [],
   "source": [
    "import pickle as pkl"
   ]
  },
  {
   "cell_type": "code",
   "execution_count": 36,
   "metadata": {
    "collapsed": true
   },
   "outputs": [],
   "source": [
    "with open(r'D:\\qtlab\\ReiData\\data\\2018-04-27\\12-55-50-2-Tone Power15.0 #3CHG\\S-parameter 2-Tone Power15.0 #3CHG.pkl','rb') as f:\n",
    "            data_r=pkl.load(f,encoding='latin1')"
   ]
  },
  {
   "cell_type": "code",
   "execution_count": 41,
   "metadata": {},
   "outputs": [
    {
     "data": {
      "text/plain": [
       "array([[-0.00559385-0.00392395j, -0.00597066-0.00211769j,\n",
       "        -0.00599210-0.00208535j, ..., -0.00599881-0.00193179j,\n",
       "        -0.00595433-0.00197213j, -0.00599618-0.00189985j],\n",
       "       [-0.00567988-0.00226442j, -0.00591274-0.00299845j,\n",
       "        -0.00591286-0.00308009j, ..., -0.00594207-0.00279516j,\n",
       "        -0.00590490-0.0027569j , -0.00593390-0.00283849j],\n",
       "       [-0.00582377-0.00409298j, -0.00582671-0.00416346j,\n",
       "        -0.00589933-0.0041504j , ..., -0.00590423-0.00389612j,\n",
       "        -0.00593536-0.00389928j, -0.00592194-0.00393025j],\n",
       "       ..., \n",
       "       [-0.00561414-0.00436587j, -0.00568742-0.00442881j,\n",
       "        -0.00566091-0.0044215j , ..., -0.00574829-0.00416149j,\n",
       "        -0.00571793-0.00421532j, -0.00574697-0.00420305j],\n",
       "       [-0.00552052-0.00507544j, -0.00548747-0.00511744j,\n",
       "        -0.00544493-0.00509442j, ..., -0.00559078-0.00493088j,\n",
       "        -0.00559082-0.00484655j, -0.00560170-0.00483351j],\n",
       "       [-0.00525024-0.0055186j , -0.00517460-0.00553628j,\n",
       "        -0.00526264-0.00558277j, ..., -0.00537462-0.00531304j,\n",
       "        -0.00537923-0.00530818j, -0.00537605-0.00535577j]])"
      ]
     },
     "execution_count": 41,
     "metadata": {},
     "output_type": "execute_result"
    }
   ],
   "source": [
    "data_r[1]['S-parameter'][2]"
   ]
  },
  {
   "cell_type": "code",
   "execution_count": 42,
   "metadata": {},
   "outputs": [
    {
     "data": {
      "text/plain": [
       "<matplotlib.colorbar.Colorbar at 0x26994415518>"
      ]
     },
     "execution_count": 42,
     "metadata": {},
     "output_type": "execute_result"
    }
   ],
   "source": [
    "S21=data_r[1]['S-parameter'][2]\n",
    "freqs = data_r[1]['S-parameter'][1][1]\n",
    "curr= data_r[1]['S-parameter'][1][0]\n",
    "#f=np.arctan(np.real(S21)/np.imag(S21))\n",
    "f = np.angle(S21)\n",
    "f_u = np.unwrap(f)\n",
    "f_u_span = np.median(f_u[:,-1]-f_u[:,0])+2*np.pi*3\n",
    "S21_c = S21*np.exp(-1j*np.linspace(0, f_u_span, len(f[0,:])))\n",
    "plt.figure()\n",
    "plt.pcolormesh(curr,freqs,np.angle(S21_c).T);\n",
    "plt.colorbar()"
   ]
  },
  {
   "cell_type": "code",
   "execution_count": 43,
   "metadata": {},
   "outputs": [
    {
     "data": {
      "text/plain": [
       "3"
      ]
     },
     "execution_count": 43,
     "metadata": {},
     "output_type": "execute_result"
    }
   ],
   "source": [
    "qubit_id"
   ]
  },
  {
   "cell_type": "code",
   "execution_count": 195,
   "metadata": {},
   "outputs": [
    {
     "data": {
      "application/vnd.jupyter.widget-view+json": {
       "model_id": "d2886da5a9f34ee5ab0e4664b5c7629c",
       "version_major": 2,
       "version_minor": 0
      },
      "text/plain": [
       "A Jupyter Widget"
      ]
     },
     "metadata": {},
     "output_type": "display_data"
    },
    {
     "name": "stdout",
     "output_type": "stream",
     "text": [
      "Started at:  May 01 2018 23:34:01\n",
      "\n",
      "Elapsed time: 1 h 18 m 44.81 s\n"
     ]
    },
    {
     "data": {
      "application/vnd.jupyter.widget-view+json": {
       "model_id": "00222ce819cb4532939cbc428ec316a3",
       "version_major": 2,
       "version_minor": 0
      },
      "text/plain": [
       "A Jupyter Widget"
      ]
     },
     "metadata": {},
     "output_type": "display_data"
    },
    {
     "name": "stdout",
     "output_type": "stream",
     "text": [
      "Started at:  May 02 2018 00:52:47\n",
      "\n",
      "Elapsed time: 1 h 19 m 24.07 s\n"
     ]
    },
    {
     "data": {
      "application/vnd.jupyter.widget-view+json": {
       "model_id": "e6dd0d6c92dd4da99399ef9b2792c581",
       "version_major": 2,
       "version_minor": 0
      },
      "text/plain": [
       "A Jupyter Widget"
      ]
     },
     "metadata": {},
     "output_type": "display_data"
    },
    {
     "name": "stdout",
     "output_type": "stream",
     "text": [
      "Started at:  May 02 2018 02:12:13\n",
      "\n",
      "Elapsed time: 1 h 19 m 37.05 s\n"
     ]
    }
   ],
   "source": [
    "current_src1.set_status(1)\n",
    "lo1.set_status(1)\n",
    "#power = -20\n",
    "#lo1.set_power(power)\n",
    "pna.set_bandwidth(1)\n",
    "pna.set_power(-66)\n",
    "pna.set_nop(1)\n",
    "pna.set_average(0)\n",
    "pna.set_averages(1)\n",
    "#curr(122e-6)\n",
    "current_src1.set_current(0)\n",
    "ex_freqs =np.linspace(5.6e9, 6.6e9, 201)\n",
    "ex_powers = np.linspace(-20, 0, 21)\n",
    "for qubit_id in [1,2,3]:\n",
    "    pna.set_xlim(qubit_params[qubit_id]['Fr'],  qubit_params[qubit_id]['Fr'])\n",
    "    sweep.sweep(pna, \n",
    "            (ex_powers, lo1.set_power, '2nd tone Power'), \n",
    "            (ex_freqs, lo1.set_frequency, '2nd tone frequency'), \n",
    "            filename='Two-tone 2D qubit {} power scan'.format(qubit_id))"
   ]
  },
  {
   "cell_type": "code",
   "execution_count": null,
   "metadata": {
    "collapsed": true
   },
   "outputs": [],
   "source": [
    "current_src1.set_status(1)\n",
    "lo1.set_status(1)\n",
    "#power = -20\n",
    "#lo1.set_power(power)\n",
    "pna.set_bandwidth(1)\n",
    "pna.set_power(-65)\n",
    "pna.set_nop(1)\n",
    "#curr(122e-6)\n",
    "current_src1.set_current(0)\n",
    "ex_freqs \n",
    "ex_freqs =+np.linspace(-400e6, 100e6, 501)\n",
    "pna.set_frequency(qubit_params)\n",
    "sweep.sweep(pna, (ex_freqs, lo1.set_frequency, '2nd tone frequency'), filename='Two-tone 1D qubit {} power {}'.format(qubit_id, int(power)))"
   ]
  },
  {
   "cell_type": "markdown",
   "metadata": {},
   "source": [
    "# Импульсы"
   ]
  },
  {
   "cell_type": "markdown",
   "metadata": {},
   "source": [
    "### Создаём девайсы"
   ]
  },
  {
   "cell_type": "code",
   "execution_count": 7,
   "metadata": {},
   "outputs": [
    {
     "name": "stderr",
     "output_type": "stream",
     "text": [
      "root: WARNING  Tektronix_AWG5014 : get all not yet fully functional\n"
     ]
    }
   ],
   "source": [
    "#if not ('pna' in locals()): pna = Agilent_N5242A('pna', address = 'PNA')\n",
    "#if not ('lo1' in locals()): lo1 = Agilent_E8257D('lo1', address = 'PSG1')\n",
    "sa = Agilent_N9030A('pxa', address = 'TCPIP0::10.20.61.56::inst0::INSTR')\n",
    "#sa = Signal_Hound_SA(name='SA124', serial=61660066)\n",
    "#lo_ex = Labbrick(name='lo_ex', serial=15249)\n",
    "lo_ex = lo1\n",
    "lo_ro = pna\n",
    "#lo_ro = Labbrick(name='lo_ro', serial=15257)\n",
    "awg_tek = Tektronix_AWG5014('awg_tek', address = 'TCPIP0::10.20.61.186::inst0::INSTR')\n",
    "adc = Spectrum_M3i2132('adc')"
   ]
  },
  {
   "cell_type": "markdown",
   "metadata": {},
   "source": [
    "### Загружаем импульсные скрипты всякие"
   ]
  },
  {
   "cell_type": "code",
   "execution_count": 8,
   "metadata": {},
   "outputs": [
    {
     "data": {
      "text/plain": [
       "<module 'sweep' from 'D:\\\\qtlab_replacement\\\\scripts\\\\sweep.py'>"
      ]
     },
     "execution_count": 8,
     "metadata": {},
     "output_type": "execute_result"
    }
   ],
   "source": [
    "import awg_digital\n",
    "import awg_iq\n",
    "import data_reduce\n",
    "import imp\n",
    "import fitting\n",
    "import plotting\n",
    "import save_pkl\n",
    "import tomography as tomography_new\n",
    "import tomography_legacy as tomography\n",
    "import sweep\n",
    "imp.reload(awg_digital)\n",
    "imp.reload(awg_iq)\n",
    "imp.reload(data_reduce)\n",
    "imp.reload(fitting)\n",
    "imp.reload(plotting)\n",
    "imp.reload(save_pkl)\n",
    "imp.reload(tomography)\n",
    "imp.reload(tomography_new)\n",
    "imp.reload(sweep)"
   ]
  },
  {
   "cell_type": "markdown",
   "metadata": {},
   "source": [
    "### Осцилляторы"
   ]
  },
  {
   "cell_type": "code",
   "execution_count": 9,
   "metadata": {},
   "outputs": [
    {
     "data": {
      "text/plain": [
       "True"
      ]
     },
     "execution_count": 9,
     "metadata": {},
     "output_type": "execute_result"
    }
   ],
   "source": [
    "# Источник тока - в autorange\n",
    "#current.set_autorange(1)\n",
    "#Мощности гетеродинов, постоянные\n",
    "#Мощность гетеродина для возбуждения 13-16 дБм\n",
    "#lo_ex_pow = 14\n",
    "#lo_ex_pow = 14\n",
    "lo_ex_pow = 14\n",
    "#lo_ex = lo1\n",
    "lo_ex.set_status(1)\n",
    "#lo_ex.set_power(lo_ex_pow)\n",
    "#pna как lo2 (excitation)\n",
    "#Port1 - выход\n",
    "#Мощность гетеродина для считывания 10-13 дБм, с учётом разветвителя 13-16 dBm\n",
    "#lo_ro_pow = 16\n",
    "lo_ro_pow = 16\n",
    "lo_ro.set_power(lo_ro_pow)\n",
    "\n",
    "#lo_ex = pna\n",
    "pna.write(\"OUTP ON\")\n",
    "pna.write(\"SOUR1:POW1:MODE ON\")\n",
    "pna.write(\"SOUR1:POW2:MODE OFF\")\n",
    "pna.set_sweep_mode(\"CW\")\n",
    "lo_ex.set_power(lo_ex_pow)"
   ]
  },
  {
   "cell_type": "markdown",
   "metadata": {},
   "source": [
    "### AWGшки"
   ]
  },
  {
   "cell_type": "code",
   "execution_count": 10,
   "metadata": {},
   "outputs": [
    {
     "name": "stderr",
     "output_type": "stream",
     "text": [
      "root: WARNING  Tektronix_AWG5014 : Clock set to 1000000000.0. This is not fully functional yet. To avoid problems, it is better not to change the clock during operation\n"
     ]
    }
   ],
   "source": [
    "# промежуточные частоты для гетеродинной схемы:\n",
    "ex_if = 250e6\n",
    "ro_if = 75e6\n",
    "# клоки генератора и оцифровщика\n",
    "ex_clock = 1e9\n",
    "ro_clock = 0.5e9\n",
    "\n",
    "rep_rate = 20e3 # частота повторений эксперимента\n",
    "\n",
    "awg_tek.stop()\n",
    "awg_tek.set_clock(ex_clock) # клок всех авгшк\n",
    "awg_tek.set_nop(ex_clock/rep_rate) # репрейт нужно задавать по=хорошему только на управляющей,\n",
    "awg_tek.run()\n",
    "# а вот длину сэмплов, которая очевидно то же самое, нужно задавать на всех авгшках.\n",
    "# хорошо, что сейчас она только одна.\n",
    "\n",
    "# миксеры подключены к AWG5014 через 6 дБ аттенюаторы. Ставим амплитуду 2В.\n",
    "for channel in range(1,5):\n",
    "    awg_tek.set_amplitude(.2, channel=channel)\n",
    "    awg_tek.set_offset(0, channel=channel)\n",
    "    awg_tek.set_output(1, channel=channel)\n",
    "# Выходы 1, 2 тектроникс: возбуждение (кубитный тон) через 6 дБ аттенюатор\n",
    "# Выходы 3, 4 тектроникс: считывание (резонаторный тон) через 6 дБ аттенюатор\n",
    "iq_ex = awg_iq.awg_iq(awg_tek, awg_tek, 2, 1, lo_ex)\n",
    "iq_ro = awg_iq.awg_iq(awg_tek, awg_tek, 3, 4, lo_ro)\n",
    "iq_ex.set_if(ex_if)\n",
    "iq_ro.set_if(ro_if)\n",
    "iq_ex.set_sideband_id(-1)\n",
    "iq_ro.set_sideband_id(-1)\n",
    "iq_ex.set_frequency(4.8e9)\n",
    "iq_ro.set_frequency(6.8e9)\n",
    "\n",
    "# К первому маркере первого канала тектроникса подсоединён триггер оцифровщика.\n",
    "# Надо подавать какой-нибудь триггер, что-ли.\n",
    "# А ещё нужно подавать клок. К сожалению наш оцифровщик не может в 1ГГц клок, ему нужен 500МГц клок.\n",
    "# Будем подавать 500 МГц с цифрового выхода тектроникса.\n",
    "awg_tek.set_marker1_low(-0.0, channel=1)\n",
    "awg_tek.set_marker2_low(-0.0, channel=1)\n",
    "awg_tek.set_marker1_high(1.0, channel=1)\n",
    "awg_tek.set_marker2_high(1.0, channel=1)\n",
    "awg_tek.set_marker1_low(-0.04, channel=2)\n",
    "awg_tek.set_marker2_low(-0.04, channel=2) \n",
    "awg_tek.set_marker1_high(0.04, channel=2) # с клока хватит и такой амплитуды\n",
    "awg_tek.set_marker2_high(0.04, channel=2) # с клока хватит и такой амплитуды\n",
    "ro_trg = awg_digital.awg_digital(awg_tek, 1)\n",
    "osc_trg = awg_digital.awg_digital(awg_tek, 5)\n",
    "ro_adc_clock = awg_digital.awg_digital(awg_tek, 2) #\n",
    "osc_adc_clock = awg_digital.awg_digital(awg_tek, 6) #\n",
    "\n",
    "# тупо клок\n",
    "ro_adc_clock.set_waveform(np.asarray([0,1]*int(ro_adc_clock.get_nop()/2), dtype=int))\n",
    "osc_adc_clock.set_waveform(np.asarray([0,1]*int(ro_adc_clock.get_nop()/2), dtype=int))\n",
    "awg_channels = {'iq_ex':iq_ex, 'iq_ro':iq_ro, 'ro_trg':ro_trg, 'osc_trg':osc_trg}\n",
    "trg_length = 4e-9\n",
    "pg = tomography_new.pulses(awg_channels)\n",
    "awg_tek.set_nop(awg_tek.get_clock()/rep_rate)\n",
    "awg_tek.run()"
   ]
  },
  {
   "cell_type": "markdown",
   "metadata": {},
   "source": [
    "### Оцифровщик"
   ]
  },
  {
   "cell_type": "code",
   "execution_count": 13,
   "metadata": {
    "collapsed": true
   },
   "outputs": [],
   "source": [
    "# настройки оцифровщика\n",
    "adc.set_clock(ro_clock)\n",
    "adc.reset()            \n",
    "adc.set_timeout(10000)\n",
    "\n",
    "\n",
    "#adc.set_spc_samplerate(smp_rate)\n",
    "#External trigger\n",
    "adc.set_trigger_ext0_level0(400) # logical 0 value to 200 mV\n",
    "adc.set_trigger_ext0_level1(600) # logical 1 value to 600 mV\n",
    "adc.trigger_termination_50Ohm()\n",
    "adc.trigger_mode_pos()\n",
    "adc.set_trigger_ext0_pulsewidth(0)\n",
    "adc.disable_trigger_output()\n",
    "adc.select_channel01()\n",
    "adc.set_multi_mode()\n",
    "#adc.set_segmentsize()\n",
    "adc.set_trigger_ORmask_tmask_ext0()\n",
    "adc.set_trigger_ANDmask_tmask_ext0()\n",
    "adc.set_trigger_ORmask_tmask_NO_ch0()\n",
    "adc.set_trigger_ORmask_tmask_NO_ch1()\n",
    "adc.set_trigger_ANDmask_tmask_NO_ch0()\n",
    "adc.set_trigger_ANDmask_tmask_NO_ch1()\n",
    "# усилитель на оцифровщике\n",
    "adc.set_input_amp_ch0(50)\n",
    "adc.set_input_amp_ch1(50)\n",
    "adc.set_input_offset_ch0(0)\n",
    "adc.set_input_offset_ch1(0)\n",
    "\n",
    "#External clock\n",
    "adc.set_reference_clock(adc.get_clock())\n",
    "\n",
    "# \"Измеритель средних прошедших импульсов\"\n",
    "# Просто усредняет всё по номеру сэмпла.\n",
    "adc_reducer = data_reduce.data_reduce(adc)\n",
    "adc_reducer.filters['Mean Voltage (AC)'] = data_reduce.mean_reducer_noavg(adc, 'Voltage', 0)\n",
    "adc_reducer.filters['S21+'] = data_reduce.mean_reducer_freq(adc, 'Voltage', 0, iq_ro.get_if())\n",
    "adc_reducer.filters['S21-'] = data_reduce.mean_reducer_freq(adc, 'Voltage', 0, -iq_ro.get_if())"
   ]
  },
  {
   "cell_type": "markdown",
   "metadata": {},
   "source": [
    "### Калибровка миксеров"
   ]
  },
  {
   "cell_type": "code",
   "execution_count": 11,
   "metadata": {
    "scrolled": true
   },
   "outputs": [
    {
     "name": "stdout",
     "output_type": "stream",
     "text": [
      "d:\\qtlab\\ReiData\\data/calibrations//IQ-if2.5e+08-rf4.8e+09-sb--1.pkl\n",
      "5050000000.0\n",
      "[ 0.3  0.3] -30.5720176697\n",
      "[ 0.315  0.3  ] -30.3380222321\n",
      "[ 0.3    0.315] -30.2316474915\n",
      "[ 0.315  0.285] -30.6081962585\n",
      "[ 0.3225  0.27  ] -30.800403595\n",
      "[ 0.3075  0.27  ] -31.0404262543\n",
      "[ 0.30375  0.255  ] -31.4691791534\n",
      "[ 0.32625  0.225  ] -31.6222782135\n",
      "[ 0.339375  0.1875  ] -32.0853157043\n",
      "[ 0.320625  0.1725  ] -32.8400039673\n",
      "[ 0.3196875  0.12375  ] -33.8315696716\n",
      "[ 0.3553125  0.05625  ] -33.6105194092\n",
      "[ 0.335625 -0.0075  ] -34.4063072205\n",
      "[ 0.33375 -0.105  ] -33.4871482849\n",
      "[ 0.3   0.06] -35.4825248718\n",
      "[ 0.27234375  0.061875  ] -36.5919799805\n",
      "[ 0.28828125 -0.069375  ] -35.3591804504\n",
      "[  2.25000000e-01  -1.88737914e-15] -39.0803337097\n",
      "[ 0.1696875  0.00375  ] -42.5732765198\n",
      "[ 0.15375  0.135  ] -40.1728591919\n",
      "[ 0.05109375  0.076875  ] -52.2553672791\n",
      "[-0.05953125  0.084375  ] -39.9548072815\n",
      "[ 0.06703125 -0.054375  ] -40.2744522095\n",
      "[ 0.08871094 -0.00703125] -45.6235466003\n",
      "[-0.02988281  0.06609375] -42.1319046021\n",
      "[ 0.11979492  0.01933594] -48.1894416809\n",
      "[ 0.08217773  0.10324219] -47.4339828491\n",
      "[ 0.08381104  0.07567383] -54.2614173889\n",
      "[ 0.01510986  0.13321289] -42.6863899231\n",
      "[ 0.09362366  0.04780518] -58.2464561462\n",
      "[ 0.12634094  0.046604  ] -48.8285217285\n",
      "[ 0.06990555  0.06930725] -57.9245185852\n",
      "[ 0.07971817  0.0414386 ] -59.183052063\n",
      "[ 0.07767174  0.02432098] -51.7668762207\n",
      "[ 0.10343628  0.01993652] -49.788898468\n",
      "[ 0.07828823  0.05696457] -69.5306167603\n",
      "[ 0.06438274  0.05059799] -59.1274452209\n",
      "[ 0.07169297  0.04989979] -63.8702583313\n",
      "[ 0.07026303  0.06542576] -60.2543678284\n",
      "[ 0.07262682  0.05942897] -66.3999557495\n",
      "[ 0.07922208  0.06649375] -60.0200614929\n",
      "[ 0.07357525  0.05404828] -70.682434082\n",
      "[ 0.07923666  0.05158388] -69.3461914063\n",
      "[ 0.0775842   0.05354515] -72.0026016235\n",
      "[ 0.07287122  0.05062886] -65.186958313\n",
      "[ 0.07693398  0.05538064] -79.2632369995\n",
      "[ 0.08094293  0.05487751] -69.3199005127\n",
      "[ 0.07541717  0.05425559] -75.0800247192\n",
      "[ 0.07476695  0.05609108] -71.0503082275\n",
      "[ 0.07687989  0.05418163] -74.4030685425\n",
      "[ 0.07547126  0.0554546 ] -75.2265853882\n",
      "[ 0.07698807  0.05657965] -72.0702514648\n",
      "[ 0.07580989  0.0548366 ] -75.7094116211\n",
      "[ 0.07727261  0.05476265] -78.4542160034\n",
      "[ 0.0783967   0.05530669] -74.1061325073\n",
      "[ 0.07645659  0.05495412] -74.2119216919\n",
      "[ 0.07710329  0.05507165] -78.1833953857\n",
      "[ 0.07637194  0.05510862] -79.1260299683\n",
      "Warning: Maximum number of iterations has been exceeded.\n",
      "dc:  7.69e-02+5.54e-02j\tI:  5.00e-01+5.00e-01j\tQ: 5.00e-01+5.00e-01j\tB: -28.85 G: -44.36, C:0.00\n",
      "[-59.89419937 -84.94363403 -44.36207962 -70.97683716 -29.37573051\n",
      " -86.26609039 -62.98825455]\n",
      "dc:  8.08e-02+5.54e-02j\tI:  5.00e-01+5.00e-01j\tQ: 5.00e-01+5.00e-01j\tB: -28.84 G: -44.39, C:0.00\n",
      "[-59.82656097 -85.1683197  -44.38695526 -68.98500061 -29.38583755\n",
      " -86.89505005 -62.8623085 ]\n",
      "dc:  7.69e-02+5.81e-02j\tI:  5.00e-01+5.00e-01j\tQ: 5.00e-01+5.00e-01j\tB: -28.89 G: -44.38, C:0.00\n",
      "[-59.83744431 -83.43148804 -44.3807373  -73.32008362 -29.40060806\n",
      " -87.05112457 -62.9128418 ]\n",
      "dc:  7.69e-02+5.54e-02j\tI:  5.25e-01+5.00e-01j\tQ: 5.00e-01+5.00e-01j\tB: -28.79 G: -43.99, C:0.00\n",
      "[-59.80323792 -84.40330505 -43.99278641 -74.41706848 -29.29487419\n",
      " -85.33703613 -62.63684845]\n",
      "dc:  7.69e-02+5.54e-02j\tI:  5.00e-01+5.25e-01j\tQ: 5.00e-01+5.00e-01j\tB: -28.80 G: -45.01, C:0.00\n",
      "[-59.6726265  -83.37240601 -45.01202774 -74.72960663 -29.30809212\n",
      " -86.99576569 -62.98903275]\n",
      "dc:  7.69e-02+5.54e-02j\tI:  5.00e-01+5.00e-01j\tQ: 5.25e-01+5.00e-01j\tB: -28.79 G: -44.43, C:0.00\n",
      "[-59.62520218 -84.16384888 -44.42660522 -74.05555725 -29.29953957\n",
      " -86.07932281 -62.97426224]\n",
      "dc:  7.69e-02+5.54e-02j\tI:  5.00e-01+5.00e-01j\tQ: 5.00e-01+5.25e-01j\tB: -28.76 G: -43.50, C:0.00\n",
      "[-59.65785217 -85.15666199 -43.50376892 -72.88548279 -29.28321266\n",
      " -83.97182465 -62.57931519]\n",
      "dc:  7.82e-02+5.63e-02j\tI:  5.08e-01+4.75e-01j\tQ: 5.08e-01+5.08e-01j\tB: -28.88 G: -43.38, C:0.00\n",
      "[-59.85221481 -85.76618195 -43.37704468 -73.17391968 -29.3959446\n",
      " -85.29894257 -62.70370865]\n",
      "dc:  7.89e-02+5.68e-02j\tI:  5.12e-01+4.50e-01j\tQ: 5.12e-01+5.12e-01j\tB: -28.89 G: -42.65, C:0.00\n",
      "[-59.94628906 -84.5650177  -42.64857101 -70.1783905  -29.43870354\n",
      " -85.25384521 -62.48601913]\n",
      "dc:  7.89e-02+5.68e-02j\tI:  5.12e-01+4.83e-01j\tQ: 4.79e-01+5.12e-01j\tB: -28.92 G: -43.28, C:0.00\n",
      "[-59.93695831 -84.0767746  -43.27830887 -71.64544678 -29.46125031\n",
      " -83.74092102 -62.49224091]\n",
      "dc:  7.44e-02+5.72e-02j\tI:  5.17e-01+4.78e-01j\tQ: 4.97e-01+5.17e-01j\tB: -28.84 G: -43.04, C:0.00\n",
      "[-59.90197372 -85.36890411 -43.04351807 -71.86779785 -29.36795616\n",
      " -86.72323608 -62.50468063]\n",
      "dc:  7.74e-02+5.78e-02j\tI:  5.22e-01+4.70e-01j\tQ: 4.96e-01+5.22e-01j\tB: -28.82 G: -42.63, C:0.00\n",
      "[-59.99760056 -84.6987381  -42.62913513 -70.40074158 -29.35162926\n",
      " -86.97590637 -62.45725632]\n",
      "dc:  7.75e-02+5.50e-02j\tI:  5.30e-01+4.60e-01j\tQ: 4.95e-01+5.30e-01j\tB: -28.80 G: -42.17, C:0.00\n",
      "[-59.91519165 -84.6808548  -42.16577148 -73.10861206 -29.31975365\n",
      " -87.18434906 -62.02032471]\n",
      "dc:  7.78e-02+5.34e-02j\tI:  5.44e-01+4.41e-01j\tQ: 4.93e-01+5.44e-01j\tB: -28.72 G: -41.24, C:0.00\n",
      "[-59.85843658 -85.85247803 -41.2398262  -69.53077698 -29.26999664\n",
      " -85.02139282 -61.85006332]\n",
      "dc:  7.78e-02+5.71e-02j\tI:  5.11e-01+4.41e-01j\tQ: 4.93e-01+5.44e-01j\tB: -28.91 G: -41.56, C:0.00\n",
      "[-60.03491974 -86.6960144  -41.55858231 -73.57897186 -29.42393112\n",
      " -86.67658997 -62.1750412 ]\n",
      "dc:  7.81e-02+5.76e-02j\tI:  5.40e-01+4.21e-01j\tQ: 4.90e-01+5.26e-01j\tB: -28.94 G: -41.37, C:0.00\n",
      "[-60.21373367 -86.42312622 -41.36655045 -71.18441772 -29.47524452\n",
      " -85.30360413 -61.99700165]\n",
      "dc:  7.86e-02+5.88e-02j\tI:  5.60e-01+3.81e-01j\tQ: 4.85e-01+5.26e-01j\tB: -28.96 G: -40.47, C:0.00\n",
      "[-60.41042709 -86.45423126 -40.47247696 -67.77684021 -29.53899574\n",
      " -84.4491806  -61.76531982]\n",
      "dc:  7.61e-02+5.69e-02j\tI:  5.43e-01+4.04e-01j\tQ: 5.13e-01+5.43e-01j\tB: -28.78 G: -40.69, C:0.00\n",
      "[-60.08856201 -86.48221588 -40.6870575  -69.48335266 -29.33452415\n",
      " -85.36502075 -61.82674026]\n",
      "dc:  8.11e-02+5.64e-02j\tI:  5.48e-01+3.85e-01j\tQ: 5.00e-01+5.48e-01j\tB: -28.81 G: -40.19, C:0.00\n",
      "[-60.24483109 -86.46666718 -40.19181824 -65.36906433 -29.42160034\n",
      " -84.32634735 -61.56629181]\n",
      "dc:  8.45e-02+5.59e-02j\tI:  5.63e-01+3.38e-01j\tQ: 5.02e-01+5.63e-01j\tB: -28.77 G: -39.05, C:0.00\n",
      "[-60.25804901 -87.97647858 -39.05129242 -62.83068085 -29.43248367\n",
      " -84.55491638 -61.19855881]\n",
      "dc:  8.05e-02+5.51e-02j\tI:  5.56e-01+3.48e-01j\tQ: 5.03e-01+5.56e-01j\tB: -28.88 G: -39.38, C:0.00\n",
      "[-60.3754425  -86.31817627 -39.38093185 -67.15953827 -29.46669197\n",
      " -85.260849   -61.43412781]\n",
      "dc:  7.96e-02+5.56e-02j\tI:  5.80e-01+3.34e-01j\tQ: 4.83e-01+5.80e-01j\tB: -28.83 G: -38.54, C:0.00\n",
      "[-60.47029114 -86.55296326 -38.53662109 -70.40696716 -29.38739204\n",
      " -83.01478577 -60.95676804]\n",
      "dc:  8.00e-02+5.50e-02j\tI:  6.14e-01+2.76e-01j\tQ: 4.69e-01+6.14e-01j\tB: -28.77 G: -37.04, C:0.00\n",
      "[-60.75717163 -86.67424774 -37.04001999 -68.94768524 -29.35085106\n",
      " -83.36074829 -60.27183151]\n",
      "dc:  8.14e-02+5.46e-02j\tI:  6.16e-01+2.89e-01j\tQ: 4.95e-01+5.71e-01j\tB: -28.75 G: -37.88, C:0.00\n",
      "[-60.7633934  -85.86022186 -37.88278198 -66.24369812 -29.35085106\n",
      " -84.25404358 -60.77017975]\n",
      "dc:  8.26e-02+5.87e-02j\tI:  6.06e-01+2.38e-01j\tQ: 4.96e-01+5.80e-01j\tB: -28.84 G: -37.20, C:0.00\n",
      "[-60.88933945 -88.37065125 -37.20484161 -62.36265182 -29.5281105\n",
      " -82.88183594 -60.31303787]\n",
      "dc:  8.65e-02+5.58e-02j\tI:  6.28e-01+2.20e-01j\tQ: 4.71e-01+5.94e-01j\tB: -28.86 G: -36.62, C:0.00\n",
      "[-61.14123535 -88.43319702 -36.6186409  -61.85808563 -29.54754639\n",
      " -82.95957947 -60.27571869]\n",
      "dc:  9.17e-02+5.53e-02j\tI:  6.71e-01+1.28e-01j\tQ: 4.49e-01+6.19e-01j\tB: -28.84 G: -35.15, C:0.00\n",
      "[-61.5867157  -86.76054382 -35.15081024 -58.57334518 -29.63617706\n",
      " -82.16969299 -59.67008591]\n",
      "dc:  8.82e-02+5.28e-02j\tI:  6.49e-01+1.57e-01j\tQ: 4.86e-01+6.41e-01j\tB: -28.64 G: -35.31, C:0.00\n",
      "[-61.19721222 -88.51621246 -35.31018829 -60.61104965 -29.37573051\n",
      " -80.80059814 -59.43684769]\n",
      "dc:  8.89e-02+5.57e-02j\tI:  6.83e-01+1.27e-01j\tQ: 4.63e-01+6.40e-01j\tB: -28.67 G: -34.86, C:0.00\n",
      "[-61.46698761 -88.08838654 -34.85770798 -60.06061172 -29.42004395\n",
      " -81.93412018 -59.23082352]\n",
      "dc:  9.31e-02+5.60e-02j\tI:  7.47e-01+1.70e-02j\tQ: 4.43e-01+6.82e-01j\tB: -28.52 G: -33.25, C:0.00\n",
      "[-61.97000122 -85.76929474 -33.24526978 -57.4771347  -29.36251259\n",
      " -79.85987854 -58.50157166]\n",
      "dc:  8.78e-02+5.49e-02j\tI:  7.37e-01+3.02e-02j\tQ: 4.45e-01+6.72e-01j\tB: -28.67 G: -33.47, C:0.00\n",
      "[-61.97544098 -87.56292725 -33.47306442 -61.17392731 -29.40527344\n",
      " -80.88300323 -58.55443954]\n"
     ]
    },
    {
     "name": "stdout",
     "output_type": "stream",
     "text": [
      "dc:  9.31e-02+5.63e-02j\tI:  7.26e-01-6.55e-03j\tQ: 4.34e-01+6.98e-01j\tB: -28.68 G: -32.99, C:0.00\n",
      "[-62.22344971 -87.8536911  -32.98948669 -57.74613571 -29.52266884\n",
      " -80.86745453 -58.30720901]\n",
      "dc:  9.89e-02+5.71e-02j\tI:  7.81e-01-1.54e-01j\tQ: 4.04e-01+7.62e-01j\tB: -28.57 G: -31.30, C:0.00\n",
      "[-62.96825027 -84.85345459 -31.30474663 -54.6884079  -29.57398033\n",
      " -79.71915436 -57.29652023]\n",
      "dc:  9.73e-02+5.17e-02j\tI:  7.93e-01-8.65e-02j\tQ: 4.02e-01+7.50e-01j\tB: -28.48 G: -31.74, C:0.00\n",
      "[-62.57330322 -84.20661163 -31.73701096 -56.48588181 -29.38350487\n",
      " -79.10263824 -57.56240845]\n",
      "dc:  1.06e-01+5.42e-02j\tI:  8.46e-01-2.46e-01j\tQ: 4.08e-01+7.62e-01j\tB: -28.34 G: -30.60, C:0.00\n",
      "[-63.21781158 -81.61535645 -30.6034832  -53.14982986 -29.42704201\n",
      " -79.34053802 -56.84792709]\n",
      "dc:  1.19e-01+5.38e-02j\tI:  9.62e-01-5.07e-01j\tQ: 3.77e-01+8.36e-01j\tB: -28.40 G: -28.69, C:0.08\n",
      "[-63.99371338 -77.80194855 -28.69405746 -55.75740814 -29.47135735\n",
      " -69.62314606 -55.49826813]\n",
      "dc:  1.03e-01+5.69e-02j\tI:  8.76e-01-2.61e-01j\tQ: 3.64e-01+7.75e-01j\tB: -28.44 G: -30.31, C:0.00\n",
      "[-63.6026535  -81.66044617 -30.30805206 -53.77023697 -29.50478745\n",
      " -79.21537018 -56.72586823]\n",
      "dc:  1.11e-01+5.90e-02j\tI:  9.90e-01-4.70e-01j\tQ: 3.03e-01+8.42e-01j\tB: -28.84 G: -28.70, C:0.10\n",
      "[-64.64987946 -75.58309937 -28.69872284 -62.6868515  -29.73880005\n",
      " -67.89175415 -55.63976669]\n",
      "dc:  1.04e-01+5.50e-02j\tI:  9.23e-01-3.61e-01j\tQ: 3.73e-01+8.49e-01j\tB: -28.28 G: -29.28, C:0.03\n",
      "[-63.53890228 -79.79456329 -29.28414536 -55.89735031 -29.27155113\n",
      " -74.88494873 -55.88544083]\n",
      "dc:  1.13e-01+5.54e-02j\tI:  9.18e-01-3.94e-01j\tQ: 3.53e-01+8.55e-01j\tB: -28.35 G: -29.11, C:0.03\n",
      "[-64.06212616 -80.63498688 -29.10766411 -53.64895248 -29.46980095\n",
      " -73.91313171 -55.86600494]\n",
      "dc:  1.14e-01+5.41e-02j\tI:  9.65e-01-5.18e-01j\tQ: 3.25e-01+9.02e-01j\tB: -28.60 G: -28.24, C:0.08\n",
      "[-64.63355255 -77.65034485 -28.24157906 -57.70803833 -29.61674118\n",
      " -69.38680267 -55.14763641]\n",
      "dc:  9.84e-02+5.55e-02j\tI:  8.02e-01-1.17e-01j\tQ: 4.14e-01+7.37e-01j\tB: -28.46 G: -31.65, C:0.00\n",
      "[-62.61684036 -85.73352814 -31.65071297 -55.53816605 -29.40527344\n",
      " -79.63363647 -57.59039688]\n",
      "dc:  8.95e-02+5.48e-02j\tI:  7.55e-01-1.44e-02j\tQ: 4.35e-01+6.91e-01j\tB: -28.68 G: -32.88, C:0.00\n",
      "[-62.20479202 -87.27319336 -32.88064575 -61.39472198 -29.41848946\n",
      " -80.43907928 -58.21624756]\n",
      "dc:  1.07e-01+5.52e-02j\tI:  8.77e-01-2.99e-01j\tQ: 3.74e-01+8.14e-01j\tB: -28.27 G: -29.85, C:0.00\n",
      "[-63.54045486 -81.12089539 -29.85401917 -52.57762146 -29.41226959\n",
      " -79.30244446 -56.34646988]\n",
      "dc:  9.98e-02+5.52e-02j\tI:  7.36e-01-2.68e-02j\tQ: 4.16e-01+6.84e-01j\tB: -28.72 G: -32.90, C:0.00\n",
      "[-62.5087738  -87.92719269 -32.90241241 -55.18131638 -29.67504883\n",
      " -80.1832962  -58.36551666]\n",
      "dc:  1.03e-01+5.51e-02j\tI:  8.76e-01-2.77e-01j\tQ: 3.83e-01+8.08e-01j\tB: -28.29 G: -30.03, C:0.00\n",
      "[-63.45571518 -81.08979797 -30.03360939 -54.0337944  -29.33296967\n",
      " -78.74189758 -56.48719025]\n",
      "dc:  1.08e-01+5.97e-02j\tI:  8.92e-01-3.65e-01j\tQ: 3.80e-01+8.02e-01j\tB: -28.27 G: -29.60, C:0.00\n",
      "[-63.77369308 -80.74538422 -29.60056877 -51.93000412 -29.45969582\n",
      " -78.90205383 -56.23607254]\n",
      "dc:  1.13e-01+6.38e-02j\tI:  9.42e-01-5.04e-01j\tQ: 3.68e-01+8.28e-01j\tB: -28.44 G: -28.76, C:0.06\n",
      "[-64.2253952  -78.74810791 -28.75936317 -54.11931229 -29.57553482\n",
      " -71.70594025 -55.59311676]\n",
      "dc:  1.10e-01+5.72e-02j\tI:  9.15e-01-4.17e-01j\tQ: 3.57e-01+8.37e-01j\tB: -28.43 G: -29.11, C:0.02\n",
      "[-64.1725235  -79.772789   -29.11310577 -53.84176254 -29.54132843\n",
      " -75.11352539 -55.86056137]\n",
      "dc:  1.07e-01+5.68e-02j\tI:  8.86e-01-3.42e-01j\tQ: 3.71e-01+8.12e-01j\tB: -28.34 G: -29.64, C:0.00\n",
      "[-63.74570465 -80.74383545 -29.64410591 -52.86683655 -29.46980095\n",
      " -79.20292664 -56.26172638]\n",
      "dc:  1.12e-01+5.55e-02j\tI:  9.71e-01-4.43e-01j\tQ: 3.56e-01+8.29e-01j\tB: -28.55 G: -28.98, C:0.08\n",
      "[-64.12899017 -75.98426056 -28.98093796 -60.27907944 -29.46591377\n",
      " -69.298172   -55.76571274]\n",
      "dc:  1.02e-01+5.67e-02j\tI:  8.28e-01-2.26e-01j\tQ: 3.92e-01+7.79e-01j\tB: -28.47 G: -30.61, C:0.00\n",
      "[-63.37097168 -82.16423798 -30.61436844 -54.2522583  -29.50323296\n",
      " -79.3926239  -56.94200134]\n",
      "dc:  1.04e-01+5.93e-02j\tI:  9.00e-01-3.45e-01j\tQ: 3.47e-01+8.35e-01j\tB: -28.43 G: -29.44, C:0.00\n",
      "[-64.01470184 -79.9624939  -29.43574905 -53.80599976 -29.51411629\n",
      " -78.19068146 -56.08135986]\n",
      "dc:  1.09e-01+5.76e-02j\tI:  9.41e-01-4.03e-01j\tQ: 3.48e-01+8.36e-01j\tB: -28.49 G: -29.13, C:0.05\n",
      "[-64.09400177 -78.55529785 -29.13098717 -56.50376511 -29.4946804  -72.186409\n",
      " -55.85434341]\n",
      "dc:  1.04e-01+5.70e-02j\tI:  8.56e-01-2.71e-01j\tQ: 3.81e-01+7.93e-01j\tB: -28.39 G: -30.23, C:0.00\n",
      "[-63.46815109 -82.00641632 -30.22719574 -53.4786911  -29.47602081\n",
      " -78.77921295 -56.64967728]\n",
      "dc:  1.08e-01+5.74e-02j\tI:  8.86e-01-3.72e-01j\tQ: 3.81e-01+8.46e-01j\tB: -28.23 G: -29.33, C:0.00\n",
      "[-63.81723022 -80.15996552 -29.32923698 -52.61105347 -29.37417412\n",
      " -78.46668243 -55.95541   ]\n",
      "dc:  1.10e-01+5.77e-02j\tI:  8.91e-01-4.27e-01j\tQ: 3.90e-01+8.82e-01j\tB: -28.13 G: -28.86, C:0.00\n",
      "[-63.79079437 -80.27891541 -28.85732269 -51.91601181 -29.32286263\n",
      " -79.13140106 -55.61488724]\n",
      "dc:  1.09e-01+5.77e-02j\tI:  9.18e-01-4.15e-01j\tQ: 3.67e-01+8.58e-01j\tB: -28.34 G: -29.02, C:0.03\n",
      "[-63.8032341  -80.33489227 -29.01670074 -54.72805786 -29.40371895\n",
      " -74.94248199 -55.7206192 ]\n",
      "dc:  1.05e-01+5.71e-02j\tI:  8.72e-01-3.07e-01j\tQ: 3.77e-01+8.09e-01j\tB: -28.34 G: -29.87, C:0.00\n",
      "[-63.55678177 -81.00816345 -29.87190056 -53.22057724 -29.43714905\n",
      " -79.57454681 -56.39545059]\n",
      "dc:  1.11e-01+6.02e-02j\tI:  8.97e-01-4.17e-01j\tQ: 3.63e-01+8.43e-01j\tB: -28.30 G: -29.11, C:0.01\n",
      "[-64.10099792 -79.44393158 -29.11310577 -51.63534927 -29.53277588\n",
      " -77.57027435 -55.84268188]\n",
      "dc:  1.09e-01+5.89e-02j\tI:  8.92e-01-3.82e-01j\tQ: 3.68e-01+8.35e-01j\tB: -28.27 G: -29.32, C:0.00\n",
      "[-63.93229294 -80.20349884 -29.32379532 -51.80638885 -29.46824646\n",
      " -79.72926331 -55.97640228]\n",
      "dc:  1.08e-01+6.13e-02j\tI:  9.01e-01-4.24e-01j\tQ: 3.71e-01+8.45e-01j\tB: -28.34 G: -29.07, C:0.01\n",
      "[-64.01781464 -80.19028473 -29.07034492 -53.20735931 -29.47135735\n",
      " -78.27075958 -55.76726913]\n",
      "dc:  1.10e-01+6.08e-02j\tI:  9.16e-01-4.55e-01j\tQ: 3.64e-01+8.61e-01j\tB: -28.30 G: -28.80, C:0.03\n",
      "[-64.32455444 -79.69469452 -28.80021667 -52.58893204 -29.48888588\n",
      " -74.6653595  -55.61997604]\n"
     ]
    },
    {
     "ename": "KeyboardInterrupt",
     "evalue": "",
     "output_type": "error",
     "traceback": [
      "\u001b[1;31m---------------------------------------------------------------------------\u001b[0m",
      "\u001b[1;31mFileNotFoundError\u001b[0m                         Traceback (most recent call last)",
      "\u001b[1;32mD:\\qtlab_replacement\\scripts\\awg_iq.py\u001b[0m in \u001b[0;36mget_calibration\u001b[1;34m(self, sa)\u001b[0m\n\u001b[0;32m    170\u001b[0m                 \u001b[1;32mtry\u001b[0m\u001b[1;33m:\u001b[0m\u001b[1;33m\u001b[0m\u001b[0m\n\u001b[1;32m--> 171\u001b[1;33m                         \u001b[0mself\u001b[0m\u001b[1;33m.\u001b[0m\u001b[0mcalibrations\u001b[0m\u001b[1;33m[\u001b[0m\u001b[0mself\u001b[0m\u001b[1;33m.\u001b[0m\u001b[0mcname\u001b[0m\u001b[1;33m(\u001b[0m\u001b[1;33m)\u001b[0m\u001b[1;33m]\u001b[0m \u001b[1;33m=\u001b[0m \u001b[0mload_pkl\u001b[0m\u001b[1;33m(\u001b[0m\u001b[0mfilename\u001b[0m\u001b[1;33m,\u001b[0m \u001b[0mlocation\u001b[0m\u001b[1;33m=\u001b[0m\u001b[0mcalibration_path\u001b[0m\u001b[1;33m)\u001b[0m\u001b[1;33m\u001b[0m\u001b[0m\n\u001b[0m\u001b[0;32m    172\u001b[0m                 \u001b[1;32mexcept\u001b[0m \u001b[0mException\u001b[0m \u001b[1;32mas\u001b[0m \u001b[0me\u001b[0m\u001b[1;33m:\u001b[0m\u001b[1;33m\u001b[0m\u001b[0m\n",
      "\u001b[1;32mD:\\qtlab_replacement\\scripts\\save_pkl.py\u001b[0m in \u001b[0;36mload_pkl\u001b[1;34m(filename, location)\u001b[0m\n\u001b[0;32m     46\u001b[0m         \u001b[0mprint\u001b[0m \u001b[1;33m(\u001b[0m\u001b[1;34m'{0}/{1}.pkl'\u001b[0m\u001b[1;33m.\u001b[0m\u001b[0mformat\u001b[0m\u001b[1;33m(\u001b[0m\u001b[0mlocation\u001b[0m\u001b[1;33m,\u001b[0m \u001b[0mfilename\u001b[0m\u001b[1;33m)\u001b[0m\u001b[1;33m)\u001b[0m\u001b[1;33m\u001b[0m\u001b[0m\n\u001b[1;32m---> 47\u001b[1;33m         \u001b[0mf\u001b[0m \u001b[1;33m=\u001b[0m \u001b[0mopen\u001b[0m\u001b[1;33m(\u001b[0m\u001b[1;34m'{0}/{1}.pkl'\u001b[0m\u001b[1;33m.\u001b[0m\u001b[0mformat\u001b[0m\u001b[1;33m(\u001b[0m\u001b[0mlocation\u001b[0m\u001b[1;33m,\u001b[0m \u001b[0mfilename\u001b[0m\u001b[1;33m)\u001b[0m\u001b[1;33m,\u001b[0m \u001b[1;34m\"rb\"\u001b[0m\u001b[1;33m)\u001b[0m\u001b[1;33m\u001b[0m\u001b[0m\n\u001b[0m\u001b[0;32m     48\u001b[0m         \u001b[1;32mreturn\u001b[0m \u001b[0mpickle\u001b[0m\u001b[1;33m.\u001b[0m\u001b[0mload\u001b[0m\u001b[1;33m(\u001b[0m\u001b[0mf\u001b[0m\u001b[1;33m)\u001b[0m\u001b[1;33m\u001b[0m\u001b[0m\n",
      "\u001b[1;31mFileNotFoundError\u001b[0m: [Errno 2] No such file or directory: 'd:\\\\qtlab\\\\ReiData\\\\data/calibrations//IQ-if2.5e+08-rf4.8e+09-sb--1.pkl'",
      "\nDuring handling of the above exception, another exception occurred:\n",
      "\u001b[1;31mKeyboardInterrupt\u001b[0m                         Traceback (most recent call last)",
      "\u001b[1;32m<ipython-input-11-8de413946ae7>\u001b[0m in \u001b[0;36m<module>\u001b[1;34m()\u001b[0m\n\u001b[0;32m      1\u001b[0m \u001b[1;31m#sa.set_ref(0)\u001b[0m\u001b[1;33m\u001b[0m\u001b[1;33m\u001b[0m\u001b[0m\n\u001b[1;32m----> 2\u001b[1;33m \u001b[0miq_ex\u001b[0m\u001b[1;33m.\u001b[0m\u001b[0mget_calibration\u001b[0m\u001b[1;33m(\u001b[0m\u001b[0msa\u001b[0m\u001b[1;33m)\u001b[0m\u001b[1;33m\u001b[0m\u001b[0m\n\u001b[0m\u001b[0;32m      3\u001b[0m \u001b[0miq_ro\u001b[0m\u001b[1;33m.\u001b[0m\u001b[0mget_calibration\u001b[0m\u001b[1;33m(\u001b[0m\u001b[0msa\u001b[0m\u001b[1;33m)\u001b[0m\u001b[1;33m\u001b[0m\u001b[0m\n",
      "\u001b[1;32mD:\\qtlab_replacement\\scripts\\awg_iq.py\u001b[0m in \u001b[0;36mget_calibration\u001b[1;34m(self, sa)\u001b[0m\n\u001b[0;32m    174\u001b[0m                                 \u001b[0mlogging\u001b[0m\u001b[1;33m.\u001b[0m\u001b[0merror\u001b[0m\u001b[1;33m(\u001b[0m\u001b[1;34m'No ready calibration found and no spectrum analyzer to calibrate'\u001b[0m\u001b[1;33m)\u001b[0m\u001b[1;33m\u001b[0m\u001b[0m\n\u001b[0;32m    175\u001b[0m                         \u001b[1;32melse\u001b[0m\u001b[1;33m:\u001b[0m\u001b[1;33m\u001b[0m\u001b[0m\n\u001b[1;32m--> 176\u001b[1;33m                                 \u001b[0mself\u001b[0m\u001b[1;33m.\u001b[0m\u001b[0m_calibrate_cw_sa\u001b[0m\u001b[1;33m(\u001b[0m\u001b[0msa\u001b[0m\u001b[1;33m)\u001b[0m\u001b[1;33m\u001b[0m\u001b[0m\n\u001b[0m\u001b[0;32m    177\u001b[0m                                 \u001b[0mself\u001b[0m\u001b[1;33m.\u001b[0m\u001b[0msave_calibration\u001b[0m\u001b[1;33m(\u001b[0m\u001b[1;33m)\u001b[0m\u001b[1;33m\u001b[0m\u001b[0m\n\u001b[0;32m    178\u001b[0m                 \u001b[1;32mreturn\u001b[0m \u001b[0mself\u001b[0m\u001b[1;33m.\u001b[0m\u001b[0mcalibrations\u001b[0m\u001b[1;33m[\u001b[0m\u001b[0mself\u001b[0m\u001b[1;33m.\u001b[0m\u001b[0mcname\u001b[0m\u001b[1;33m(\u001b[0m\u001b[1;33m)\u001b[0m\u001b[1;33m]\u001b[0m\u001b[1;33m\u001b[0m\u001b[0m\n",
      "\u001b[1;32mD:\\qtlab_replacement\\scripts\\awg_iq.py\u001b[0m in \u001b[0;36m_calibrate_cw_sa\u001b[1;34m(self, sa, num_sidebands)\u001b[0m\n\u001b[0;32m    243\u001b[0m                                 \u001b[0mprint\u001b[0m \u001b[1;33m(\u001b[0m\u001b[0mresult\u001b[0m\u001b[1;33m)\u001b[0m\u001b[1;33m\u001b[0m\u001b[0m\n\u001b[0;32m    244\u001b[0m                                 \u001b[1;32mreturn\u001b[0m \u001b[1;33m-\u001b[0m\u001b[0mgood_power\u001b[0m\u001b[1;33m/\u001b[0m\u001b[0mbad_power\u001b[0m\u001b[1;33m+\u001b[0m\u001b[0mnp\u001b[0m\u001b[1;33m.\u001b[0m\u001b[0mabs\u001b[0m\u001b[1;33m(\u001b[0m\u001b[0mgood_power\u001b[0m\u001b[1;33m/\u001b[0m\u001b[0mbad_power\u001b[0m\u001b[1;33m)\u001b[0m\u001b[1;33m*\u001b[0m\u001b[1;36m10\u001b[0m\u001b[1;33m*\u001b[0m\u001b[0mclipping\u001b[0m\u001b[1;33m\u001b[0m\u001b[0m\n\u001b[1;32m--> 245\u001b[1;33m                         \u001b[0msolution\u001b[0m \u001b[1;33m=\u001b[0m \u001b[0mfmin\u001b[0m\u001b[1;33m(\u001b[0m\u001b[0mtfunc\u001b[0m\u001b[1;33m,\u001b[0m \u001b[0msolution\u001b[0m\u001b[1;33m,\u001b[0m \u001b[0mmaxiter\u001b[0m\u001b[1;33m=\u001b[0m\u001b[1;36m75\u001b[0m\u001b[1;33m,\u001b[0m \u001b[0mxtol\u001b[0m\u001b[1;33m=\u001b[0m\u001b[1;36m2\u001b[0m\u001b[1;33m**\u001b[0m\u001b[1;33m(\u001b[0m\u001b[1;33m-\u001b[0m\u001b[1;36m14\u001b[0m\u001b[1;33m)\u001b[0m\u001b[1;33m)\u001b[0m\u001b[1;33m\u001b[0m\u001b[0m\n\u001b[0m\u001b[0;32m    246\u001b[0m                         \u001b[0mscore\u001b[0m \u001b[1;33m=\u001b[0m \u001b[0mtfunc\u001b[0m\u001b[1;33m(\u001b[0m\u001b[0msolution\u001b[0m\u001b[1;33m)\u001b[0m\u001b[1;33m\u001b[0m\u001b[0m\n\u001b[0;32m    247\u001b[0m \u001b[1;33m\u001b[0m\u001b[0m\n",
      "\u001b[1;32mC:\\ProgramData\\Anaconda3\\lib\\site-packages\\scipy\\optimize\\optimize.py\u001b[0m in \u001b[0;36mfmin\u001b[1;34m(func, x0, args, xtol, ftol, maxiter, maxfun, full_output, disp, retall, callback, initial_simplex)\u001b[0m\n\u001b[0;32m    391\u001b[0m             'initial_simplex': initial_simplex}\n\u001b[0;32m    392\u001b[0m \u001b[1;33m\u001b[0m\u001b[0m\n\u001b[1;32m--> 393\u001b[1;33m     \u001b[0mres\u001b[0m \u001b[1;33m=\u001b[0m \u001b[0m_minimize_neldermead\u001b[0m\u001b[1;33m(\u001b[0m\u001b[0mfunc\u001b[0m\u001b[1;33m,\u001b[0m \u001b[0mx0\u001b[0m\u001b[1;33m,\u001b[0m \u001b[0margs\u001b[0m\u001b[1;33m,\u001b[0m \u001b[0mcallback\u001b[0m\u001b[1;33m=\u001b[0m\u001b[0mcallback\u001b[0m\u001b[1;33m,\u001b[0m \u001b[1;33m**\u001b[0m\u001b[0mopts\u001b[0m\u001b[1;33m)\u001b[0m\u001b[1;33m\u001b[0m\u001b[0m\n\u001b[0m\u001b[0;32m    394\u001b[0m     \u001b[1;32mif\u001b[0m \u001b[0mfull_output\u001b[0m\u001b[1;33m:\u001b[0m\u001b[1;33m\u001b[0m\u001b[0m\n\u001b[0;32m    395\u001b[0m         \u001b[0mretlist\u001b[0m \u001b[1;33m=\u001b[0m \u001b[0mres\u001b[0m\u001b[1;33m[\u001b[0m\u001b[1;34m'x'\u001b[0m\u001b[1;33m]\u001b[0m\u001b[1;33m,\u001b[0m \u001b[0mres\u001b[0m\u001b[1;33m[\u001b[0m\u001b[1;34m'fun'\u001b[0m\u001b[1;33m]\u001b[0m\u001b[1;33m,\u001b[0m \u001b[0mres\u001b[0m\u001b[1;33m[\u001b[0m\u001b[1;34m'nit'\u001b[0m\u001b[1;33m]\u001b[0m\u001b[1;33m,\u001b[0m \u001b[0mres\u001b[0m\u001b[1;33m[\u001b[0m\u001b[1;34m'nfev'\u001b[0m\u001b[1;33m]\u001b[0m\u001b[1;33m,\u001b[0m \u001b[0mres\u001b[0m\u001b[1;33m[\u001b[0m\u001b[1;34m'status'\u001b[0m\u001b[1;33m]\u001b[0m\u001b[1;33m\u001b[0m\u001b[0m\n",
      "\u001b[1;32mC:\\ProgramData\\Anaconda3\\lib\\site-packages\\scipy\\optimize\\optimize.py\u001b[0m in \u001b[0;36m_minimize_neldermead\u001b[1;34m(func, x0, args, callback, maxiter, maxfev, disp, return_all, initial_simplex, xatol, fatol, **unknown_options)\u001b[0m\n\u001b[0;32m    562\u001b[0m                     \u001b[1;31m# Perform an inside contraction\u001b[0m\u001b[1;33m\u001b[0m\u001b[1;33m\u001b[0m\u001b[0m\n\u001b[0;32m    563\u001b[0m                     \u001b[0mxcc\u001b[0m \u001b[1;33m=\u001b[0m \u001b[1;33m(\u001b[0m\u001b[1;36m1\u001b[0m \u001b[1;33m-\u001b[0m \u001b[0mpsi\u001b[0m\u001b[1;33m)\u001b[0m \u001b[1;33m*\u001b[0m \u001b[0mxbar\u001b[0m \u001b[1;33m+\u001b[0m \u001b[0mpsi\u001b[0m \u001b[1;33m*\u001b[0m \u001b[0msim\u001b[0m\u001b[1;33m[\u001b[0m\u001b[1;33m-\u001b[0m\u001b[1;36m1\u001b[0m\u001b[1;33m]\u001b[0m\u001b[1;33m\u001b[0m\u001b[0m\n\u001b[1;32m--> 564\u001b[1;33m                     \u001b[0mfxcc\u001b[0m \u001b[1;33m=\u001b[0m \u001b[0mfunc\u001b[0m\u001b[1;33m(\u001b[0m\u001b[0mxcc\u001b[0m\u001b[1;33m)\u001b[0m\u001b[1;33m\u001b[0m\u001b[0m\n\u001b[0m\u001b[0;32m    565\u001b[0m \u001b[1;33m\u001b[0m\u001b[0m\n\u001b[0;32m    566\u001b[0m                     \u001b[1;32mif\u001b[0m \u001b[0mfxcc\u001b[0m \u001b[1;33m<\u001b[0m \u001b[0mfsim\u001b[0m\u001b[1;33m[\u001b[0m\u001b[1;33m-\u001b[0m\u001b[1;36m1\u001b[0m\u001b[1;33m]\u001b[0m\u001b[1;33m:\u001b[0m\u001b[1;33m\u001b[0m\u001b[0m\n",
      "\u001b[1;32mC:\\ProgramData\\Anaconda3\\lib\\site-packages\\scipy\\optimize\\optimize.py\u001b[0m in \u001b[0;36mfunction_wrapper\u001b[1;34m(*wrapper_args)\u001b[0m\n\u001b[0;32m    290\u001b[0m     \u001b[1;32mdef\u001b[0m \u001b[0mfunction_wrapper\u001b[0m\u001b[1;33m(\u001b[0m\u001b[1;33m*\u001b[0m\u001b[0mwrapper_args\u001b[0m\u001b[1;33m)\u001b[0m\u001b[1;33m:\u001b[0m\u001b[1;33m\u001b[0m\u001b[0m\n\u001b[0;32m    291\u001b[0m         \u001b[0mncalls\u001b[0m\u001b[1;33m[\u001b[0m\u001b[1;36m0\u001b[0m\u001b[1;33m]\u001b[0m \u001b[1;33m+=\u001b[0m \u001b[1;36m1\u001b[0m\u001b[1;33m\u001b[0m\u001b[0m\n\u001b[1;32m--> 292\u001b[1;33m         \u001b[1;32mreturn\u001b[0m \u001b[0mfunction\u001b[0m\u001b[1;33m(\u001b[0m\u001b[1;33m*\u001b[0m\u001b[1;33m(\u001b[0m\u001b[0mwrapper_args\u001b[0m \u001b[1;33m+\u001b[0m \u001b[0margs\u001b[0m\u001b[1;33m)\u001b[0m\u001b[1;33m)\u001b[0m\u001b[1;33m\u001b[0m\u001b[0m\n\u001b[0m\u001b[0;32m    293\u001b[0m \u001b[1;33m\u001b[0m\u001b[0m\n\u001b[0;32m    294\u001b[0m     \u001b[1;32mreturn\u001b[0m \u001b[0mncalls\u001b[0m\u001b[1;33m,\u001b[0m \u001b[0mfunction_wrapper\u001b[0m\u001b[1;33m\u001b[0m\u001b[0m\n",
      "\u001b[1;32mD:\\qtlab_replacement\\scripts\\awg_iq.py\u001b[0m in \u001b[0;36mtfunc\u001b[1;34m(x)\u001b[0m\n\u001b[0;32m    216\u001b[0m                                 \u001b[0mI\u001b[0m \u001b[1;33m=\u001b[0m  \u001b[0mx\u001b[0m\u001b[1;33m[\u001b[0m\u001b[1;36m2\u001b[0m\u001b[1;33m]\u001b[0m \u001b[1;33m+\u001b[0m \u001b[0mx\u001b[0m\u001b[1;33m[\u001b[0m\u001b[1;36m3\u001b[0m\u001b[1;33m]\u001b[0m\u001b[1;33m*\u001b[0m\u001b[1;36m1j\u001b[0m\u001b[1;33m\u001b[0m\u001b[0m\n\u001b[0;32m    217\u001b[0m                                 \u001b[0mQ\u001b[0m \u001b[1;33m=\u001b[0m  \u001b[0mx\u001b[0m\u001b[1;33m[\u001b[0m\u001b[1;36m4\u001b[0m\u001b[1;33m]\u001b[0m \u001b[1;33m+\u001b[0m \u001b[0mx\u001b[0m\u001b[1;33m[\u001b[0m\u001b[1;36m5\u001b[0m\u001b[1;33m]\u001b[0m\u001b[1;33m*\u001b[0m\u001b[1;36m1j\u001b[0m\u001b[1;33m\u001b[0m\u001b[0m\n\u001b[1;32m--> 218\u001b[1;33m                                 \u001b[0mmax_amplitude\u001b[0m \u001b[1;33m=\u001b[0m \u001b[0mself\u001b[0m\u001b[1;33m.\u001b[0m\u001b[0m_set_if_cw\u001b[0m\u001b[1;33m(\u001b[0m\u001b[0mdc\u001b[0m\u001b[1;33m,\u001b[0m \u001b[0mI\u001b[0m\u001b[1;33m,\u001b[0m \u001b[0mQ\u001b[0m\u001b[1;33m)\u001b[0m\u001b[1;33m\u001b[0m\u001b[0m\n\u001b[0m\u001b[0;32m    219\u001b[0m                                 \u001b[1;32mif\u001b[0m \u001b[0mmax_amplitude\u001b[0m \u001b[1;33m<\u001b[0m \u001b[1;36m1\u001b[0m\u001b[1;33m:\u001b[0m\u001b[1;33m\u001b[0m\u001b[0m\n\u001b[0;32m    220\u001b[0m                                         \u001b[0mclipping\u001b[0m \u001b[1;33m=\u001b[0m \u001b[1;36m0\u001b[0m\u001b[1;33m\u001b[0m\u001b[0m\n",
      "\u001b[1;32mD:\\qtlab_replacement\\scripts\\awg_iq.py\u001b[0m in \u001b[0;36m_set_if_cw\u001b[1;34m(self, dc, I, Q)\u001b[0m\n\u001b[0;32m    154\u001b[0m                 \u001b[0mwaveform_I\u001b[0m \u001b[1;33m=\u001b[0m \u001b[0mnp\u001b[0m\u001b[1;33m.\u001b[0m\u001b[0mreal\u001b[0m\u001b[1;33m(\u001b[0m\u001b[0mI\u001b[0m\u001b[1;33m*\u001b[0m\u001b[0mnp\u001b[0m\u001b[1;33m.\u001b[0m\u001b[0mexp\u001b[0m\u001b[1;33m(\u001b[0m\u001b[1;36m2\u001b[0m\u001b[1;33m*\u001b[0m\u001b[0mnp\u001b[0m\u001b[1;33m.\u001b[0m\u001b[0mpi\u001b[0m\u001b[1;33m*\u001b[0m\u001b[1;36m1j\u001b[0m\u001b[1;33m*\u001b[0m\u001b[0mt\u001b[0m\u001b[1;33m*\u001b[0m\u001b[0mself\u001b[0m\u001b[1;33m.\u001b[0m\u001b[0mget_if\u001b[0m\u001b[1;33m(\u001b[0m\u001b[1;33m)\u001b[0m\u001b[1;33m)\u001b[0m\u001b[1;33m)\u001b[0m\u001b[1;33m+\u001b[0m\u001b[0mnp\u001b[0m\u001b[1;33m.\u001b[0m\u001b[0mreal\u001b[0m\u001b[1;33m(\u001b[0m\u001b[0mdc\u001b[0m\u001b[1;33m)\u001b[0m\u001b[1;33m\u001b[0m\u001b[0m\n\u001b[0;32m    155\u001b[0m                 \u001b[0mwaveform_Q\u001b[0m \u001b[1;33m=\u001b[0m \u001b[0mnp\u001b[0m\u001b[1;33m.\u001b[0m\u001b[0mimag\u001b[0m\u001b[1;33m(\u001b[0m\u001b[0mQ\u001b[0m\u001b[1;33m*\u001b[0m\u001b[0mnp\u001b[0m\u001b[1;33m.\u001b[0m\u001b[0mexp\u001b[0m\u001b[1;33m(\u001b[0m\u001b[1;36m2\u001b[0m\u001b[1;33m*\u001b[0m\u001b[0mnp\u001b[0m\u001b[1;33m.\u001b[0m\u001b[0mpi\u001b[0m\u001b[1;33m*\u001b[0m\u001b[1;36m1j\u001b[0m\u001b[1;33m*\u001b[0m\u001b[0mt\u001b[0m\u001b[1;33m*\u001b[0m\u001b[0mself\u001b[0m\u001b[1;33m.\u001b[0m\u001b[0mget_if\u001b[0m\u001b[1;33m(\u001b[0m\u001b[1;33m)\u001b[0m\u001b[1;33m)\u001b[0m\u001b[1;33m)\u001b[0m\u001b[1;33m+\u001b[0m\u001b[0mnp\u001b[0m\u001b[1;33m.\u001b[0m\u001b[0mimag\u001b[0m\u001b[1;33m(\u001b[0m\u001b[0mdc\u001b[0m\u001b[1;33m)\u001b[0m\u001b[1;33m\u001b[0m\u001b[0m\n\u001b[1;32m--> 156\u001b[1;33m                 \u001b[0mself\u001b[0m\u001b[1;33m.\u001b[0m\u001b[0m__set_waveform_IQ_cmplx\u001b[0m\u001b[1;33m(\u001b[0m\u001b[0mwaveform_I\u001b[0m\u001b[1;33m+\u001b[0m\u001b[1;36m1j\u001b[0m\u001b[1;33m*\u001b[0m\u001b[0mwaveform_Q\u001b[0m\u001b[1;33m)\u001b[0m\u001b[1;33m\u001b[0m\u001b[0m\n\u001b[0m\u001b[0;32m    157\u001b[0m                 \u001b[1;32mreturn\u001b[0m \u001b[0mnp\u001b[0m\u001b[1;33m.\u001b[0m\u001b[0mmax\u001b[0m\u001b[1;33m(\u001b[0m\u001b[1;33m[\u001b[0m\u001b[0mnp\u001b[0m\u001b[1;33m.\u001b[0m\u001b[0mmax\u001b[0m\u001b[1;33m(\u001b[0m\u001b[0mnp\u001b[0m\u001b[1;33m.\u001b[0m\u001b[0mabs\u001b[0m\u001b[1;33m(\u001b[0m\u001b[0mwaveform_I\u001b[0m\u001b[1;33m)\u001b[0m\u001b[1;33m)\u001b[0m\u001b[1;33m,\u001b[0m \u001b[0mnp\u001b[0m\u001b[1;33m.\u001b[0m\u001b[0mmax\u001b[0m\u001b[1;33m(\u001b[0m\u001b[0mnp\u001b[0m\u001b[1;33m.\u001b[0m\u001b[0mabs\u001b[0m\u001b[1;33m(\u001b[0m\u001b[0mwaveform_Q\u001b[0m\u001b[1;33m)\u001b[0m\u001b[1;33m)\u001b[0m\u001b[1;33m]\u001b[0m\u001b[1;33m)\u001b[0m\u001b[1;33m\u001b[0m\u001b[0m\n\u001b[0;32m    158\u001b[0m \u001b[1;33m\u001b[0m\u001b[0m\n",
      "\u001b[1;32mD:\\qtlab_replacement\\scripts\\awg_iq.py\u001b[0m in \u001b[0;36m__set_waveform_IQ_cmplx\u001b[1;34m(self, waveform_cmplx)\u001b[0m\n\u001b[0;32m     87\u001b[0m                 \u001b[0mwaveform_Q\u001b[0m \u001b[1;33m=\u001b[0m \u001b[0mnp\u001b[0m\u001b[1;33m.\u001b[0m\u001b[0mimag\u001b[0m\u001b[1;33m(\u001b[0m\u001b[0mwaveform_cmplx\u001b[0m\u001b[1;33m)\u001b[0m\u001b[1;33m\u001b[0m\u001b[0m\n\u001b[0;32m     88\u001b[0m \u001b[1;33m\u001b[0m\u001b[0m\n\u001b[1;32m---> 89\u001b[1;33m                 \u001b[0mself\u001b[0m\u001b[1;33m.\u001b[0m\u001b[0mawg_I\u001b[0m\u001b[1;33m.\u001b[0m\u001b[0mset_waveform\u001b[0m\u001b[1;33m(\u001b[0m\u001b[0mwaveform_I\u001b[0m\u001b[1;33m,\u001b[0m \u001b[0mchannel\u001b[0m\u001b[1;33m=\u001b[0m\u001b[0mself\u001b[0m\u001b[1;33m.\u001b[0m\u001b[0mawg_ch_I\u001b[0m\u001b[1;33m)\u001b[0m\u001b[1;33m\u001b[0m\u001b[0m\n\u001b[0m\u001b[0;32m     90\u001b[0m                 \u001b[0mself\u001b[0m\u001b[1;33m.\u001b[0m\u001b[0mawg_Q\u001b[0m\u001b[1;33m.\u001b[0m\u001b[0mset_waveform\u001b[0m\u001b[1;33m(\u001b[0m\u001b[0mwaveform_Q\u001b[0m\u001b[1;33m,\u001b[0m \u001b[0mchannel\u001b[0m\u001b[1;33m=\u001b[0m\u001b[0mself\u001b[0m\u001b[1;33m.\u001b[0m\u001b[0mawg_ch_Q\u001b[0m\u001b[1;33m)\u001b[0m\u001b[1;33m\u001b[0m\u001b[0m\n\u001b[0;32m     91\u001b[0m                 \u001b[1;31m#import matplotlib.pyplot as plt\u001b[0m\u001b[1;33m\u001b[0m\u001b[1;33m\u001b[0m\u001b[0m\n",
      "\u001b[1;32mD:\\qtlab_replacement\\instruments\\instrument.py\u001b[0m in \u001b[0;36m<lambda>\u001b[1;34m(val, **lopts)\u001b[0m\n\u001b[0;32m    197\u001b[0m \u001b[1;33m\u001b[0m\u001b[0m\n\u001b[0;32m    198\u001b[0m         \u001b[1;32mif\u001b[0m \u001b[0moptions\u001b[0m\u001b[1;33m[\u001b[0m\u001b[1;34m'flags'\u001b[0m\u001b[1;33m]\u001b[0m \u001b[1;33m&\u001b[0m \u001b[0mInstrument\u001b[0m\u001b[1;33m.\u001b[0m\u001b[0mFLAG_SET\u001b[0m\u001b[1;33m:\u001b[0m\u001b[1;33m\u001b[0m\u001b[0m\n\u001b[1;32m--> 199\u001b[1;33m             \u001b[0mfunc\u001b[0m \u001b[1;33m=\u001b[0m \u001b[1;32mlambda\u001b[0m \u001b[0mval\u001b[0m\u001b[1;33m,\u001b[0m \u001b[1;33m**\u001b[0m\u001b[0mlopts\u001b[0m\u001b[1;33m:\u001b[0m \u001b[0mself\u001b[0m\u001b[1;33m.\u001b[0m\u001b[0mset\u001b[0m\u001b[1;33m(\u001b[0m\u001b[0mname\u001b[0m\u001b[1;33m,\u001b[0m \u001b[0mval\u001b[0m\u001b[1;33m,\u001b[0m \u001b[1;33m**\u001b[0m\u001b[0mlopts\u001b[0m\u001b[1;33m)\u001b[0m\u001b[1;33m\u001b[0m\u001b[0m\n\u001b[0m\u001b[0;32m    200\u001b[0m \u001b[1;33m\u001b[0m\u001b[0m\n\u001b[0;32m    201\u001b[0m             \u001b[0mfunc\u001b[0m\u001b[1;33m.\u001b[0m\u001b[0m__doc__\u001b[0m \u001b[1;33m=\u001b[0m \u001b[1;34m'Set variable %s'\u001b[0m \u001b[1;33m%\u001b[0m \u001b[0mname\u001b[0m\u001b[1;33m\u001b[0m\u001b[0m\n",
      "\u001b[1;32mD:\\qtlab_replacement\\instruments\\instrument.py\u001b[0m in \u001b[0;36mset\u001b[1;34m(self, name, value, fast, **kwargs)\u001b[0m\n\u001b[0;32m    698\u001b[0m                     \u001b[0mresult\u001b[0m \u001b[1;33m=\u001b[0m \u001b[1;32mFalse\u001b[0m\u001b[1;33m\u001b[0m\u001b[0m\n\u001b[0;32m    699\u001b[0m         \u001b[1;32melse\u001b[0m\u001b[1;33m:\u001b[0m\u001b[1;33m\u001b[0m\u001b[0m\n\u001b[1;32m--> 700\u001b[1;33m             \u001b[0mval\u001b[0m \u001b[1;33m=\u001b[0m \u001b[0mself\u001b[0m\u001b[1;33m.\u001b[0m\u001b[0m_set_value\u001b[0m\u001b[1;33m(\u001b[0m\u001b[0mname\u001b[0m\u001b[1;33m,\u001b[0m \u001b[0mvalue\u001b[0m\u001b[1;33m,\u001b[0m \u001b[1;33m**\u001b[0m\u001b[0mkwargs\u001b[0m\u001b[1;33m)\u001b[0m\u001b[1;33m\u001b[0m\u001b[0m\n\u001b[0m\u001b[0;32m    701\u001b[0m             \u001b[1;32mif\u001b[0m \u001b[0mval\u001b[0m \u001b[1;32mis\u001b[0m \u001b[1;32mnot\u001b[0m \u001b[1;32mNone\u001b[0m\u001b[1;33m:\u001b[0m\u001b[1;33m\u001b[0m\u001b[0m\n\u001b[0;32m    702\u001b[0m                 \u001b[0mchanged\u001b[0m\u001b[1;33m[\u001b[0m\u001b[0mname\u001b[0m\u001b[1;33m]\u001b[0m \u001b[1;33m=\u001b[0m \u001b[0mval\u001b[0m\u001b[1;33m\u001b[0m\u001b[0m\n",
      "\u001b[1;32mD:\\qtlab_replacement\\instruments\\instrument.py\u001b[0m in \u001b[0;36m_set_value\u001b[1;34m(self, name, value, **kwargs)\u001b[0m\n\u001b[0;32m    657\u001b[0m \u001b[1;33m\u001b[0m\u001b[0m\n\u001b[0;32m    658\u001b[0m         \u001b[0mfunc\u001b[0m \u001b[1;33m=\u001b[0m \u001b[0mp\u001b[0m\u001b[1;33m[\u001b[0m\u001b[1;34m'set_func'\u001b[0m\u001b[1;33m]\u001b[0m\u001b[1;33m\u001b[0m\u001b[0m\n\u001b[1;32m--> 659\u001b[1;33m         \u001b[0mret\u001b[0m \u001b[1;33m=\u001b[0m \u001b[0mfunc\u001b[0m\u001b[1;33m(\u001b[0m\u001b[0mvalue\u001b[0m\u001b[1;33m,\u001b[0m \u001b[1;33m**\u001b[0m\u001b[0mkwargs\u001b[0m\u001b[1;33m)\u001b[0m\u001b[1;33m\u001b[0m\u001b[0m\n\u001b[0m\u001b[0;32m    660\u001b[0m \u001b[1;33m\u001b[0m\u001b[0m\n\u001b[0;32m    661\u001b[0m         \u001b[1;32mif\u001b[0m \u001b[0mp\u001b[0m\u001b[1;33m[\u001b[0m\u001b[1;34m'flags'\u001b[0m\u001b[1;33m]\u001b[0m \u001b[1;33m&\u001b[0m \u001b[0mself\u001b[0m\u001b[1;33m.\u001b[0m\u001b[0mFLAG_GET_AFTER_SET\u001b[0m\u001b[1;33m:\u001b[0m\u001b[1;33m\u001b[0m\u001b[0m\n",
      "\u001b[1;32mD:\\qtlab_replacement\\instruments\\Tektronix_AWG5014.py\u001b[0m in \u001b[0;36mdo_set_waveform\u001b[1;34m(self, waveform, channel)\u001b[0m\n\u001b[0;32m    628\u001b[0m                 \u001b[0mself\u001b[0m\u001b[1;33m.\u001b[0m\u001b[0msend_waveform\u001b[0m\u001b[1;33m(\u001b[0m\u001b[0mw\u001b[0m\u001b[1;33m,\u001b[0m\u001b[0mm1\u001b[0m\u001b[1;33m,\u001b[0m\u001b[0mm2\u001b[0m\u001b[1;33m,\u001b[0m\u001b[0mfilename\u001b[0m\u001b[1;33m,\u001b[0m\u001b[0mself\u001b[0m\u001b[1;33m.\u001b[0m\u001b[0mget_clock\u001b[0m\u001b[1;33m(\u001b[0m\u001b[1;33m)\u001b[0m\u001b[1;33m)\u001b[0m\u001b[1;33m\u001b[0m\u001b[0m\n\u001b[0;32m    629\u001b[0m                 \u001b[0mself\u001b[0m\u001b[1;33m.\u001b[0m\u001b[0mdo_set_filename\u001b[0m\u001b[1;33m(\u001b[0m\u001b[0mfilename\u001b[0m\u001b[1;33m,\u001b[0m \u001b[0mchannel\u001b[0m\u001b[1;33m=\u001b[0m\u001b[0mchannel\u001b[0m\u001b[1;33m)\u001b[0m\u001b[1;33m\u001b[0m\u001b[0m\n\u001b[1;32m--> 630\u001b[1;33m                 \u001b[0mself\u001b[0m\u001b[1;33m.\u001b[0m\u001b[0mset_output\u001b[0m \u001b[1;33m(\u001b[0m\u001b[1;36m1\u001b[0m\u001b[1;33m,\u001b[0m \u001b[0mchannel\u001b[0m\u001b[1;33m=\u001b[0m\u001b[0mchannel\u001b[0m\u001b[1;33m)\u001b[0m\u001b[1;33m\u001b[0m\u001b[0m\n\u001b[0m\u001b[0;32m    631\u001b[0m \u001b[1;33m\u001b[0m\u001b[0m\n\u001b[0;32m    632\u001b[0m         \u001b[1;32mdef\u001b[0m \u001b[0mdo_get_waveform\u001b[0m\u001b[1;33m(\u001b[0m\u001b[0mself\u001b[0m\u001b[1;33m,\u001b[0m \u001b[0mchannel\u001b[0m\u001b[1;33m)\u001b[0m\u001b[1;33m:\u001b[0m\u001b[1;33m\u001b[0m\u001b[0m\n",
      "\u001b[1;32mD:\\qtlab_replacement\\instruments\\instrument.py\u001b[0m in \u001b[0;36m<lambda>\u001b[1;34m(val, **lopts)\u001b[0m\n\u001b[0;32m    197\u001b[0m \u001b[1;33m\u001b[0m\u001b[0m\n\u001b[0;32m    198\u001b[0m         \u001b[1;32mif\u001b[0m \u001b[0moptions\u001b[0m\u001b[1;33m[\u001b[0m\u001b[1;34m'flags'\u001b[0m\u001b[1;33m]\u001b[0m \u001b[1;33m&\u001b[0m \u001b[0mInstrument\u001b[0m\u001b[1;33m.\u001b[0m\u001b[0mFLAG_SET\u001b[0m\u001b[1;33m:\u001b[0m\u001b[1;33m\u001b[0m\u001b[0m\n\u001b[1;32m--> 199\u001b[1;33m             \u001b[0mfunc\u001b[0m \u001b[1;33m=\u001b[0m \u001b[1;32mlambda\u001b[0m \u001b[0mval\u001b[0m\u001b[1;33m,\u001b[0m \u001b[1;33m**\u001b[0m\u001b[0mlopts\u001b[0m\u001b[1;33m:\u001b[0m \u001b[0mself\u001b[0m\u001b[1;33m.\u001b[0m\u001b[0mset\u001b[0m\u001b[1;33m(\u001b[0m\u001b[0mname\u001b[0m\u001b[1;33m,\u001b[0m \u001b[0mval\u001b[0m\u001b[1;33m,\u001b[0m \u001b[1;33m**\u001b[0m\u001b[0mlopts\u001b[0m\u001b[1;33m)\u001b[0m\u001b[1;33m\u001b[0m\u001b[0m\n\u001b[0m\u001b[0;32m    200\u001b[0m \u001b[1;33m\u001b[0m\u001b[0m\n\u001b[0;32m    201\u001b[0m             \u001b[0mfunc\u001b[0m\u001b[1;33m.\u001b[0m\u001b[0m__doc__\u001b[0m \u001b[1;33m=\u001b[0m \u001b[1;34m'Set variable %s'\u001b[0m \u001b[1;33m%\u001b[0m \u001b[0mname\u001b[0m\u001b[1;33m\u001b[0m\u001b[0m\n",
      "\u001b[1;32mD:\\qtlab_replacement\\instruments\\instrument.py\u001b[0m in \u001b[0;36mset\u001b[1;34m(self, name, value, fast, **kwargs)\u001b[0m\n\u001b[0;32m    698\u001b[0m                     \u001b[0mresult\u001b[0m \u001b[1;33m=\u001b[0m \u001b[1;32mFalse\u001b[0m\u001b[1;33m\u001b[0m\u001b[0m\n\u001b[0;32m    699\u001b[0m         \u001b[1;32melse\u001b[0m\u001b[1;33m:\u001b[0m\u001b[1;33m\u001b[0m\u001b[0m\n\u001b[1;32m--> 700\u001b[1;33m             \u001b[0mval\u001b[0m \u001b[1;33m=\u001b[0m \u001b[0mself\u001b[0m\u001b[1;33m.\u001b[0m\u001b[0m_set_value\u001b[0m\u001b[1;33m(\u001b[0m\u001b[0mname\u001b[0m\u001b[1;33m,\u001b[0m \u001b[0mvalue\u001b[0m\u001b[1;33m,\u001b[0m \u001b[1;33m**\u001b[0m\u001b[0mkwargs\u001b[0m\u001b[1;33m)\u001b[0m\u001b[1;33m\u001b[0m\u001b[0m\n\u001b[0m\u001b[0;32m    701\u001b[0m             \u001b[1;32mif\u001b[0m \u001b[0mval\u001b[0m \u001b[1;32mis\u001b[0m \u001b[1;32mnot\u001b[0m \u001b[1;32mNone\u001b[0m\u001b[1;33m:\u001b[0m\u001b[1;33m\u001b[0m\u001b[0m\n\u001b[0;32m    702\u001b[0m                 \u001b[0mchanged\u001b[0m\u001b[1;33m[\u001b[0m\u001b[0mname\u001b[0m\u001b[1;33m]\u001b[0m \u001b[1;33m=\u001b[0m \u001b[0mval\u001b[0m\u001b[1;33m\u001b[0m\u001b[0m\n",
      "\u001b[1;32mD:\\qtlab_replacement\\instruments\\instrument.py\u001b[0m in \u001b[0;36m_set_value\u001b[1;34m(self, name, value, **kwargs)\u001b[0m\n\u001b[0;32m    660\u001b[0m \u001b[1;33m\u001b[0m\u001b[0m\n\u001b[0;32m    661\u001b[0m         \u001b[1;32mif\u001b[0m \u001b[0mp\u001b[0m\u001b[1;33m[\u001b[0m\u001b[1;34m'flags'\u001b[0m\u001b[1;33m]\u001b[0m \u001b[1;33m&\u001b[0m \u001b[0mself\u001b[0m\u001b[1;33m.\u001b[0m\u001b[0mFLAG_GET_AFTER_SET\u001b[0m\u001b[1;33m:\u001b[0m\u001b[1;33m\u001b[0m\u001b[0m\n\u001b[1;32m--> 662\u001b[1;33m             \u001b[0mvalue\u001b[0m \u001b[1;33m=\u001b[0m \u001b[0mself\u001b[0m\u001b[1;33m.\u001b[0m\u001b[0m_get_value\u001b[0m\u001b[1;33m(\u001b[0m\u001b[0mname\u001b[0m\u001b[1;33m,\u001b[0m \u001b[1;33m**\u001b[0m\u001b[0mkwargs\u001b[0m\u001b[1;33m)\u001b[0m\u001b[1;33m\u001b[0m\u001b[0m\n\u001b[0m\u001b[0;32m    663\u001b[0m \u001b[1;33m\u001b[0m\u001b[0m\n\u001b[0;32m    664\u001b[0m         \u001b[1;32mif\u001b[0m \u001b[0mp\u001b[0m\u001b[1;33m[\u001b[0m\u001b[1;34m'flags'\u001b[0m\u001b[1;33m]\u001b[0m \u001b[1;33m&\u001b[0m \u001b[0mself\u001b[0m\u001b[1;33m.\u001b[0m\u001b[0mFLAG_PERSIST\u001b[0m\u001b[1;33m:\u001b[0m\u001b[1;33m\u001b[0m\u001b[0m\n",
      "\u001b[1;32mD:\\qtlab_replacement\\instruments\\instrument.py\u001b[0m in \u001b[0;36m_get_value\u001b[1;34m(self, name, query, **kwargs)\u001b[0m\n\u001b[0;32m    465\u001b[0m \u001b[1;33m\u001b[0m\u001b[0m\n\u001b[0;32m    466\u001b[0m         \u001b[0mfunc\u001b[0m \u001b[1;33m=\u001b[0m \u001b[0mp\u001b[0m\u001b[1;33m[\u001b[0m\u001b[1;34m'get_func'\u001b[0m\u001b[1;33m]\u001b[0m\u001b[1;33m\u001b[0m\u001b[0m\n\u001b[1;32m--> 467\u001b[1;33m         \u001b[0mvalue\u001b[0m \u001b[1;33m=\u001b[0m \u001b[0mfunc\u001b[0m\u001b[1;33m(\u001b[0m\u001b[1;33m**\u001b[0m\u001b[0mkwargs\u001b[0m\u001b[1;33m)\u001b[0m\u001b[1;33m\u001b[0m\u001b[0m\n\u001b[0m\u001b[0;32m    468\u001b[0m         \u001b[1;32mif\u001b[0m \u001b[1;34m'type'\u001b[0m \u001b[1;32min\u001b[0m \u001b[0mp\u001b[0m \u001b[1;32mand\u001b[0m \u001b[0mvalue\u001b[0m \u001b[1;32mis\u001b[0m \u001b[1;32mnot\u001b[0m \u001b[1;32mNone\u001b[0m\u001b[1;33m:\u001b[0m\u001b[1;33m\u001b[0m\u001b[0m\n\u001b[0;32m    469\u001b[0m             \u001b[1;32mtry\u001b[0m\u001b[1;33m:\u001b[0m\u001b[1;33m\u001b[0m\u001b[0m\n",
      "\u001b[1;32mD:\\qtlab_replacement\\instruments\\Tektronix_AWG5014.py\u001b[0m in \u001b[0;36mdo_get_output\u001b[1;34m(self, channel)\u001b[0m\n\u001b[0;32m    248\u001b[0m \t\t'''\n\u001b[0;32m    249\u001b[0m                 \u001b[0mlogging\u001b[0m\u001b[1;33m.\u001b[0m\u001b[0mdebug\u001b[0m\u001b[1;33m(\u001b[0m\u001b[0m__name__\u001b[0m \u001b[1;33m+\u001b[0m \u001b[1;34m' : Get channel output state'\u001b[0m\u001b[1;33m)\u001b[0m\u001b[1;33m\u001b[0m\u001b[0m\n\u001b[1;32m--> 250\u001b[1;33m                 \u001b[1;32mreturn\u001b[0m \u001b[0mself\u001b[0m\u001b[1;33m.\u001b[0m\u001b[0m_visainstrument\u001b[0m\u001b[1;33m.\u001b[0m\u001b[0mask\u001b[0m\u001b[1;33m(\u001b[0m\u001b[1;34m'OUTP%s:STAT?'\u001b[0m \u001b[1;33m%\u001b[0m \u001b[0mchannel\u001b[0m\u001b[1;33m)\u001b[0m\u001b[1;33m\u001b[0m\u001b[0m\n\u001b[0m\u001b[0;32m    251\u001b[0m \u001b[1;33m\u001b[0m\u001b[0m\n\u001b[0;32m    252\u001b[0m         \u001b[1;32mdef\u001b[0m \u001b[0mdo_set_file\u001b[0m\u001b[1;33m(\u001b[0m\u001b[0mself\u001b[0m\u001b[1;33m,\u001b[0m \u001b[0mwaveform\u001b[0m\u001b[1;33m,\u001b[0m \u001b[0mchannel\u001b[0m\u001b[1;33m)\u001b[0m\u001b[1;33m:\u001b[0m\u001b[1;33m\u001b[0m\u001b[0m\n",
      "\u001b[1;32mC:\\ProgramData\\Anaconda3\\lib\\site-packages\\pyvisa\\resources\\messagebased.py\u001b[0m in \u001b[0;36mquery\u001b[1;34m(self, message, delay)\u001b[0m\n\u001b[0;32m    405\u001b[0m         \u001b[1;32mif\u001b[0m \u001b[0mdelay\u001b[0m \u001b[1;33m>\u001b[0m \u001b[1;36m0.0\u001b[0m\u001b[1;33m:\u001b[0m\u001b[1;33m\u001b[0m\u001b[0m\n\u001b[0;32m    406\u001b[0m             \u001b[0mtime\u001b[0m\u001b[1;33m.\u001b[0m\u001b[0msleep\u001b[0m\u001b[1;33m(\u001b[0m\u001b[0mdelay\u001b[0m\u001b[1;33m)\u001b[0m\u001b[1;33m\u001b[0m\u001b[0m\n\u001b[1;32m--> 407\u001b[1;33m         \u001b[1;32mreturn\u001b[0m \u001b[0mself\u001b[0m\u001b[1;33m.\u001b[0m\u001b[0mread\u001b[0m\u001b[1;33m(\u001b[0m\u001b[1;33m)\u001b[0m\u001b[1;33m\u001b[0m\u001b[0m\n\u001b[0m\u001b[0;32m    408\u001b[0m \u001b[1;33m\u001b[0m\u001b[0m\n\u001b[0;32m    409\u001b[0m     \u001b[1;31m# Kept for backwards compatibility.\u001b[0m\u001b[1;33m\u001b[0m\u001b[1;33m\u001b[0m\u001b[0m\n",
      "\u001b[1;32mC:\\ProgramData\\Anaconda3\\lib\\site-packages\\pyvisa\\resources\\messagebased.py\u001b[0m in \u001b[0;36mread\u001b[1;34m(self, termination, encoding)\u001b[0m\n\u001b[0;32m    330\u001b[0m         \u001b[1;32mif\u001b[0m \u001b[0mtermination\u001b[0m \u001b[1;32mis\u001b[0m \u001b[1;32mNone\u001b[0m\u001b[1;33m:\u001b[0m\u001b[1;33m\u001b[0m\u001b[0m\n\u001b[0;32m    331\u001b[0m             \u001b[0mtermination\u001b[0m \u001b[1;33m=\u001b[0m \u001b[0mself\u001b[0m\u001b[1;33m.\u001b[0m\u001b[0m_read_termination\u001b[0m\u001b[1;33m\u001b[0m\u001b[0m\n\u001b[1;32m--> 332\u001b[1;33m             \u001b[0mmessage\u001b[0m \u001b[1;33m=\u001b[0m \u001b[0mself\u001b[0m\u001b[1;33m.\u001b[0m\u001b[0mread_raw\u001b[0m\u001b[1;33m(\u001b[0m\u001b[1;33m)\u001b[0m\u001b[1;33m.\u001b[0m\u001b[0mdecode\u001b[0m\u001b[1;33m(\u001b[0m\u001b[0menco\u001b[0m\u001b[1;33m)\u001b[0m\u001b[1;33m\u001b[0m\u001b[0m\n\u001b[0m\u001b[0;32m    333\u001b[0m         \u001b[1;32melse\u001b[0m\u001b[1;33m:\u001b[0m\u001b[1;33m\u001b[0m\u001b[0m\n\u001b[0;32m    334\u001b[0m             \u001b[1;32mwith\u001b[0m \u001b[0mself\u001b[0m\u001b[1;33m.\u001b[0m\u001b[0mread_termination_context\u001b[0m\u001b[1;33m(\u001b[0m\u001b[0mtermination\u001b[0m\u001b[1;33m)\u001b[0m\u001b[1;33m:\u001b[0m\u001b[1;33m\u001b[0m\u001b[0m\n",
      "\u001b[1;32mC:\\ProgramData\\Anaconda3\\lib\\site-packages\\pyvisa\\resources\\messagebased.py\u001b[0m in \u001b[0;36mread_raw\u001b[1;34m(self, size)\u001b[0m\n\u001b[0;32m    304\u001b[0m                     logger.debug('%s - reading %d bytes (last status %r)',\n\u001b[0;32m    305\u001b[0m                                  self._resource_name, size, status)\n\u001b[1;32m--> 306\u001b[1;33m                     \u001b[0mchunk\u001b[0m\u001b[1;33m,\u001b[0m \u001b[0mstatus\u001b[0m \u001b[1;33m=\u001b[0m \u001b[0mself\u001b[0m\u001b[1;33m.\u001b[0m\u001b[0mvisalib\u001b[0m\u001b[1;33m.\u001b[0m\u001b[0mread\u001b[0m\u001b[1;33m(\u001b[0m\u001b[0mself\u001b[0m\u001b[1;33m.\u001b[0m\u001b[0msession\u001b[0m\u001b[1;33m,\u001b[0m \u001b[0msize\u001b[0m\u001b[1;33m)\u001b[0m\u001b[1;33m\u001b[0m\u001b[0m\n\u001b[0m\u001b[0;32m    307\u001b[0m                     \u001b[0mret\u001b[0m \u001b[1;33m+=\u001b[0m \u001b[0mchunk\u001b[0m\u001b[1;33m\u001b[0m\u001b[0m\n\u001b[0;32m    308\u001b[0m             \u001b[1;32mexcept\u001b[0m \u001b[0merrors\u001b[0m\u001b[1;33m.\u001b[0m\u001b[0mVisaIOError\u001b[0m \u001b[1;32mas\u001b[0m \u001b[0me\u001b[0m\u001b[1;33m:\u001b[0m\u001b[1;33m\u001b[0m\u001b[0m\n",
      "\u001b[1;32mC:\\ProgramData\\Anaconda3\\lib\\site-packages\\pyvisa\\ctwrapper\\functions.py\u001b[0m in \u001b[0;36mread\u001b[1;34m(library, session, count)\u001b[0m\n\u001b[0;32m   1580\u001b[0m     \u001b[0mbuffer\u001b[0m \u001b[1;33m=\u001b[0m \u001b[0mcreate_string_buffer\u001b[0m\u001b[1;33m(\u001b[0m\u001b[0mcount\u001b[0m\u001b[1;33m)\u001b[0m\u001b[1;33m\u001b[0m\u001b[0m\n\u001b[0;32m   1581\u001b[0m     \u001b[0mreturn_count\u001b[0m \u001b[1;33m=\u001b[0m \u001b[0mViUInt32\u001b[0m\u001b[1;33m(\u001b[0m\u001b[1;33m)\u001b[0m\u001b[1;33m\u001b[0m\u001b[0m\n\u001b[1;32m-> 1582\u001b[1;33m     \u001b[0mret\u001b[0m \u001b[1;33m=\u001b[0m \u001b[0mlibrary\u001b[0m\u001b[1;33m.\u001b[0m\u001b[0mviRead\u001b[0m\u001b[1;33m(\u001b[0m\u001b[0msession\u001b[0m\u001b[1;33m,\u001b[0m \u001b[0mbuffer\u001b[0m\u001b[1;33m,\u001b[0m \u001b[0mcount\u001b[0m\u001b[1;33m,\u001b[0m \u001b[0mbyref\u001b[0m\u001b[1;33m(\u001b[0m\u001b[0mreturn_count\u001b[0m\u001b[1;33m)\u001b[0m\u001b[1;33m)\u001b[0m\u001b[1;33m\u001b[0m\u001b[0m\n\u001b[0m\u001b[0;32m   1583\u001b[0m     \u001b[1;32mreturn\u001b[0m \u001b[0mbuffer\u001b[0m\u001b[1;33m.\u001b[0m\u001b[0mraw\u001b[0m\u001b[1;33m[\u001b[0m\u001b[1;33m:\u001b[0m\u001b[0mreturn_count\u001b[0m\u001b[1;33m.\u001b[0m\u001b[0mvalue\u001b[0m\u001b[1;33m]\u001b[0m\u001b[1;33m,\u001b[0m \u001b[0mret\u001b[0m\u001b[1;33m\u001b[0m\u001b[0m\n\u001b[0;32m   1584\u001b[0m \u001b[1;33m\u001b[0m\u001b[0m\n",
      "\u001b[1;32mC:\\ProgramData\\Anaconda3\\lib\\site-packages\\pyvisa\\ctwrapper\\highlevel.py\u001b[0m in \u001b[0;36m_return_handler\u001b[1;34m(self, ret_value, func, arguments)\u001b[0m\n\u001b[0;32m    147\u001b[0m             \u001b[0msetattr\u001b[0m\u001b[1;33m(\u001b[0m\u001b[0mself\u001b[0m\u001b[1;33m,\u001b[0m \u001b[0mmethod_name\u001b[0m\u001b[1;33m,\u001b[0m \u001b[0mgetattr\u001b[0m\u001b[1;33m(\u001b[0m\u001b[0mself\u001b[0m\u001b[1;33m.\u001b[0m\u001b[0mlib\u001b[0m\u001b[1;33m,\u001b[0m \u001b[0mmethod_name\u001b[0m\u001b[1;33m)\u001b[0m\u001b[1;33m)\u001b[0m\u001b[1;33m\u001b[0m\u001b[0m\n\u001b[0;32m    148\u001b[0m \u001b[1;33m\u001b[0m\u001b[0m\n\u001b[1;32m--> 149\u001b[1;33m     \u001b[1;32mdef\u001b[0m \u001b[0m_return_handler\u001b[0m\u001b[1;33m(\u001b[0m\u001b[0mself\u001b[0m\u001b[1;33m,\u001b[0m \u001b[0mret_value\u001b[0m\u001b[1;33m,\u001b[0m \u001b[0mfunc\u001b[0m\u001b[1;33m,\u001b[0m \u001b[0marguments\u001b[0m\u001b[1;33m)\u001b[0m\u001b[1;33m:\u001b[0m\u001b[1;33m\u001b[0m\u001b[0m\n\u001b[0m\u001b[0;32m    150\u001b[0m         \"\"\"Check return values for errors and warnings.\n\u001b[0;32m    151\u001b[0m         \"\"\"\n",
      "\u001b[1;31mKeyboardInterrupt\u001b[0m: "
     ]
    }
   ],
   "source": [
    "#sa.set_ref(0)\n",
    "iq_ex.get_calibration(sa)\n",
    "iq_ro.get_calibration(sa)"
   ]
  },
  {
   "cell_type": "markdown",
   "metadata": {},
   "source": [
    "### Длительность и амплитуда считывающих импульсов"
   ]
  },
  {
   "cell_type": "code",
   "execution_count": null,
   "metadata": {
    "collapsed": true
   },
   "outputs": [],
   "source": [
    "def set_adc_nop(ro_adc_length):\n",
    "    adc.stop()\n",
    "    signal_size = int(np.ceil(4./3.*(ro_adc_length)*adc.get_clock()))\n",
    "    nop = int( 2**np.ceil(np.log2(signal_size)) )\n",
    "    posttrigger = nop*15/16\n",
    "    \n",
    "    print (nop)\n",
    "    adc.set_nop(nop)\n",
    "    adc.set_post_trigger(posttrigger)"
   ]
  },
  {
   "cell_type": "code",
   "execution_count": null,
   "metadata": {
    "collapsed": true
   },
   "outputs": [],
   "source": [
    "ro_adc_length = 0.9e-6        # Вот такой длины считываем (опухоль Фёдорова!!)\n",
    "ro_amplitude = 0.8\n",
    "#ro_adc_length = 0.3e-6\n",
    "#ro_amplitude = 0.5\n",
    "#ro_amplitude = 1.0\n",
    "ro_dac_length = 0.3e-6\n",
    "adc.set_nums(10000)\n",
    "#adc.set_nums(1000)\n",
    "#adc.set_software_nums_multi(1)\n",
    "set_adc_nop(ro_adc_length)"
   ]
  },
  {
   "cell_type": "code",
   "execution_count": null,
   "metadata": {
    "collapsed": true
   },
   "outputs": [],
   "source": [
    "#tomography.set_sequence([tomography.ro_rect(ro_amplitude, ro_dac_length, awg_channels)], awg_channels)\n",
    "plt.plot(np.mean(np.real(adc.measure()['Voltage']), axis=0))"
   ]
  },
  {
   "cell_type": "code",
   "execution_count": null,
   "metadata": {
    "collapsed": true
   },
   "outputs": [],
   "source": [
    "plt.pcolormesh(np.imag(adc.measure()['Voltage']));\n",
    "plt.colorbar()"
   ]
  },
  {
   "cell_type": "code",
   "execution_count": null,
   "metadata": {
    "collapsed": true
   },
   "outputs": [],
   "source": [
    "adc.stop()"
   ]
  },
  {
   "cell_type": "code",
   "execution_count": null,
   "metadata": {
    "collapsed": true
   },
   "outputs": [],
   "source": [
    "sa.set_xlim(qubit_params[qubit_id]['Fr']-200e6, qubit_params[qubit_id]['Fr']+200e6)\n",
    "plt.plot(sa.get_tracedata()[0], sa.get_tracedata()[1])\n",
    "pna.get_frequency()"
   ]
  },
  {
   "cell_type": "code",
   "execution_count": null,
   "metadata": {
    "collapsed": true
   },
   "outputs": [],
   "source": [
    "lo_amp.set_status(0)"
   ]
  },
  {
   "cell_type": "markdown",
   "metadata": {},
   "source": [
    "### Прохождение считывающих испульсов разной амплитуды"
   ]
  },
  {
   "cell_type": "code",
   "execution_count": null,
   "metadata": {
    "collapsed": true
   },
   "outputs": [],
   "source": [
    "def set_pulse_amplitude(x):\n",
    "    awg_tek.set_nop(awg_tek.get_clock()/rep_rate)\n",
    "    pg.set_seq([pg.p('ro_trg', trg_length, pg.rect, 1), pg.p('iq_ro', ro_dac_length, pg.rect, x)])\n",
    "    awg_tek.run()\n",
    "measurement = sweep.sweep(adc_reducer, (np.linspace(0, 1, 51), set_pulse_amplitude, 'Readout amplitude'), filename='Readout pulse passthrough')"
   ]
  },
  {
   "cell_type": "code",
   "execution_count": null,
   "metadata": {
    "collapsed": true,
    "scrolled": true
   },
   "outputs": [],
   "source": [
    "def set_pulse_amplitude(x):\n",
    "    awg_tek.set_nop(awg_tek.get_clock()/rep_rate)\n",
    "    pg.set_seq([pg.p('ro_trg', trg_length, pg.rect, 1), pg.p('iq_ro', ro_dac_length, pg.rect, x)])\n",
    "    awg_tek.run()\n",
    "measurement = sweep.sweep(adc_reducer, (np.linspace(0, 1, 1), set_pulse_amplitude, 'Readout amplitude'), filename='Readout pulse passthrough')"
   ]
  },
  {
   "cell_type": "code",
   "execution_count": null,
   "metadata": {
    "collapsed": true
   },
   "outputs": [],
   "source": [
    "lo1.set_status(1)"
   ]
  },
  {
   "cell_type": "markdown",
   "metadata": {},
   "source": [
    "### Осцилляции Раби"
   ]
  },
  {
   "cell_type": "code",
   "execution_count": null,
   "metadata": {
    "collapsed": true
   },
   "outputs": [],
   "source": [
    "sa.set_centerfreq(8e9)\n",
    "sa.set_span(200e6)\n",
    "sa.set_nop(201)\n",
    "f, P = sa.get_tracedata()\n",
    "plt.figure()\n",
    "plt.plot(f, P)"
   ]
  },
  {
   "cell_type": "code",
   "execution_count": null,
   "metadata": {
    "collapsed": true
   },
   "outputs": [],
   "source": [
    "lo_amp.set_status(1)"
   ]
  },
  {
   "cell_type": "code",
   "execution_count": 15,
   "metadata": {
    "scrolled": true
   },
   "outputs": [
    {
     "data": {
      "application/vnd.jupyter.widget-view+json": {
       "model_id": "f1f25713db5b4c638777e2e8c62e3193",
       "version_major": 2,
       "version_minor": 0
      },
      "text/plain": [
       "A Jupyter Widget"
      ]
     },
     "metadata": {},
     "output_type": "display_data"
    },
    {
     "name": "stdout",
     "output_type": "stream",
     "text": [
      "Started at:  Jun 21 2018 17:12:46\n"
     ]
    },
    {
     "name": "stderr",
     "output_type": "stream",
     "text": [
      "C:\\ProgramData\\Anaconda3\\lib\\site-packages\\matplotlib\\cbook\\deprecation.py:106: MatplotlibDeprecationWarning: Adding an axes using the same arguments as a previous axes currently reuses the earlier instance.  In a future version, a new instance will always be created and returned.  Meanwhile, this warning can be suppressed, and the future behavior ensured, by passing a unique label to each axes instance.\n",
      "  warnings.warn(message, mplDeprecation, stacklevel=1)\n"
     ]
    },
    {
     "ename": "NameError",
     "evalue": "name 'ro_dac_length' is not defined",
     "output_type": "error",
     "traceback": [
      "\u001b[1;31m---------------------------------------------------------------------------\u001b[0m",
      "\u001b[1;31mNameError\u001b[0m                                 Traceback (most recent call last)",
      "\u001b[1;32m<ipython-input-15-6d73ce2c0c49>\u001b[0m in \u001b[0;36m<module>\u001b[1;34m()\u001b[0m\n\u001b[0;32m     12\u001b[0m     \u001b[0mpg\u001b[0m\u001b[1;33m.\u001b[0m\u001b[0mset_seq\u001b[0m\u001b[1;33m(\u001b[0m\u001b[0msequence\u001b[0m\u001b[1;33m)\u001b[0m\u001b[1;33m\u001b[0m\u001b[0m\n\u001b[0;32m     13\u001b[0m     \u001b[0mawg_tek\u001b[0m\u001b[1;33m.\u001b[0m\u001b[0mrun\u001b[0m\u001b[1;33m(\u001b[0m\u001b[1;33m)\u001b[0m\u001b[1;33m\u001b[0m\u001b[0m\n\u001b[1;32m---> 14\u001b[1;33m \u001b[0mmeasurement\u001b[0m \u001b[1;33m=\u001b[0m \u001b[0msweep\u001b[0m\u001b[1;33m.\u001b[0m\u001b[0msweep\u001b[0m\u001b[1;33m(\u001b[0m\u001b[0madc_reducer\u001b[0m\u001b[1;33m,\u001b[0m \u001b[1;33m(\u001b[0m\u001b[0mlengths\u001b[0m\u001b[1;33m,\u001b[0m \u001b[0mset_ex_length\u001b[0m\u001b[1;33m,\u001b[0m \u001b[1;34m'Rabi pulse length'\u001b[0m\u001b[1;33m)\u001b[0m\u001b[1;33m,\u001b[0m \u001b[0mfilename\u001b[0m\u001b[1;33m=\u001b[0m\u001b[1;34m'Rabi'\u001b[0m\u001b[1;33m)\u001b[0m\u001b[1;33m\u001b[0m\u001b[0m\n\u001b[0m\u001b[0;32m     15\u001b[0m \u001b[0mmeasurement_fitted\u001b[0m\u001b[1;33m,\u001b[0m \u001b[0mfitted_parameters\u001b[0m \u001b[1;33m=\u001b[0m \u001b[0mfitting\u001b[0m\u001b[1;33m.\u001b[0m\u001b[0mS21pm_fit\u001b[0m\u001b[1;33m(\u001b[0m\u001b[0mmeasurement\u001b[0m\u001b[1;33m,\u001b[0m \u001b[0mfitting\u001b[0m\u001b[1;33m.\u001b[0m\u001b[0mexp_sin_fit\u001b[0m\u001b[1;33m)\u001b[0m\u001b[1;33m\u001b[0m\u001b[0m\n\u001b[0;32m     16\u001b[0m annotation = 'Phase: {0:4.4g} rad, Freq: {1:4.4g}, Decay: {2:4.4g} s'.format(fitted_parameters['phase'], \n",
      "\u001b[1;32mD:\\qtlab_replacement\\scripts\\sweep.py\u001b[0m in \u001b[0;36msweep\u001b[1;34m(measurer, filename, root_dir, plot, header, output, save, time_war_label, bot, *params)\u001b[0m\n\u001b[0;32m    165\u001b[0m                         \u001b[1;32mfor\u001b[0m \u001b[0mval\u001b[0m\u001b[1;33m,\u001b[0m \u001b[0msetter\u001b[0m\u001b[1;33m,\u001b[0m \u001b[0mchanged\u001b[0m \u001b[1;32min\u001b[0m \u001b[0mzip\u001b[0m\u001b[1;33m(\u001b[0m\u001b[0mvals\u001b[0m\u001b[1;33m,\u001b[0m \u001b[0msweep_dim_setters\u001b[0m\u001b[1;33m,\u001b[0m \u001b[0mchanged_vals\u001b[0m\u001b[1;33m)\u001b[0m\u001b[1;33m:\u001b[0m\u001b[1;33m\u001b[0m\u001b[0m\n\u001b[0;32m    166\u001b[0m                                 \u001b[1;32mif\u001b[0m \u001b[0mchanged\u001b[0m\u001b[1;33m:\u001b[0m\u001b[1;33m\u001b[0m\u001b[0m\n\u001b[1;32m--> 167\u001b[1;33m                                         \u001b[0msetter\u001b[0m\u001b[1;33m(\u001b[0m\u001b[0mval\u001b[0m\u001b[1;33m)\u001b[0m\u001b[1;33m\u001b[0m\u001b[0m\n\u001b[0m\u001b[0;32m    168\u001b[0m                         \u001b[1;31m#measuring\u001b[0m\u001b[1;33m\u001b[0m\u001b[1;33m\u001b[0m\u001b[0m\n\u001b[0;32m    169\u001b[0m                         \u001b[0mmpoint\u001b[0m \u001b[1;33m=\u001b[0m \u001b[0mmeasurer\u001b[0m\u001b[1;33m.\u001b[0m\u001b[0mmeasure\u001b[0m\u001b[1;33m(\u001b[0m\u001b[1;33m)\u001b[0m\u001b[1;33m\u001b[0m\u001b[0m\n",
      "\u001b[1;32m<ipython-input-15-6d73ce2c0c49>\u001b[0m in \u001b[0;36mset_ex_length\u001b[1;34m(length)\u001b[0m\n\u001b[0;32m      9\u001b[0m                 \u001b[0mpg\u001b[0m\u001b[1;33m.\u001b[0m\u001b[0mp\u001b[0m\u001b[1;33m(\u001b[0m\u001b[1;32mNone\u001b[0m\u001b[1;33m,\u001b[0m \u001b[0mpause_length\u001b[0m\u001b[1;33m)\u001b[0m\u001b[1;33m,\u001b[0m\u001b[1;33m\u001b[0m\u001b[0m\n\u001b[0;32m     10\u001b[0m                 \u001b[0mpg\u001b[0m\u001b[1;33m.\u001b[0m\u001b[0mp\u001b[0m\u001b[1;33m(\u001b[0m\u001b[1;34m'ro_trg'\u001b[0m\u001b[1;33m,\u001b[0m \u001b[0mtrg_length\u001b[0m\u001b[1;33m,\u001b[0m \u001b[0mpg\u001b[0m\u001b[1;33m.\u001b[0m\u001b[0mrect\u001b[0m\u001b[1;33m,\u001b[0m \u001b[1;36m1\u001b[0m\u001b[1;33m)\u001b[0m\u001b[1;33m,\u001b[0m\u001b[1;33m\u001b[0m\u001b[0m\n\u001b[1;32m---> 11\u001b[1;33m                 pg.p('iq_ro', ro_dac_length, pg.rect, ro_amplitude)]\n\u001b[0m\u001b[0;32m     12\u001b[0m     \u001b[0mpg\u001b[0m\u001b[1;33m.\u001b[0m\u001b[0mset_seq\u001b[0m\u001b[1;33m(\u001b[0m\u001b[0msequence\u001b[0m\u001b[1;33m)\u001b[0m\u001b[1;33m\u001b[0m\u001b[0m\n\u001b[0;32m     13\u001b[0m     \u001b[0mawg_tek\u001b[0m\u001b[1;33m.\u001b[0m\u001b[0mrun\u001b[0m\u001b[1;33m(\u001b[0m\u001b[1;33m)\u001b[0m\u001b[1;33m\u001b[0m\u001b[0m\n",
      "\u001b[1;31mNameError\u001b[0m: name 'ro_dac_length' is not defined"
     ]
    }
   ],
   "source": [
    "ex_amplitude = 0.2\n",
    "pause_length = 128e-9\n",
    "lengths = np.linspace(0, 0.2e-6, 101)\n",
    "readout_begin = np.max(lengths)\n",
    "def set_ex_length(length):\n",
    "    awg_tek.set_nop(awg_tek.get_clock()/rep_rate)\n",
    "    sequence = [pg.p(None, readout_begin-length), \n",
    "                pg.p('iq_ex', length, pg.rect, ex_amplitude), \n",
    "                pg.p(None, pause_length), \n",
    "                pg.p('ro_trg', trg_length, pg.rect, 1), \n",
    "                pg.p('iq_ro', ro_dac_length, pg.rect, ro_amplitude)]\n",
    "    pg.set_seq(sequence)\n",
    "    awg_tek.run()\n",
    "measurement = sweep.sweep(adc_reducer, (lengths, set_ex_length, 'Rabi pulse length'), filename='Rabi')\n",
    "measurement_fitted, fitted_parameters = fitting.S21pm_fit(measurement, fitting.exp_sin_fit)\n",
    "annotation = 'Phase: {0:4.4g} rad, Freq: {1:4.4g}, Decay: {2:4.4g} s'.format(fitted_parameters['phase'], \n",
    "                                                                             fitted_parameters['freq'], \n",
    "                                                                             fitted_parameters['decay'])\n",
    "save_pkl.save_pkl({'type':'Rabi'}, measurement_fitted,annotation=annotation)"
   ]
  },
  {
   "cell_type": "code",
   "execution_count": null,
   "metadata": {
    "collapsed": true
   },
   "outputs": [],
   "source": [
    "save_pkl.save_pkl({'type':'Rabi'}, measurement_fitted,annotation=annotation)"
   ]
  },
  {
   "cell_type": "markdown",
   "metadata": {},
   "source": [
    "### Осцилляции Рамзея"
   ]
  },
  {
   "cell_type": "code",
   "execution_count": null,
   "metadata": {
    "collapsed": true,
    "scrolled": false
   },
   "outputs": [],
   "source": [
    "ex_amplitude = 0.2\n",
    "#pi2_pulse = 6e-9\n",
    "pi2_pulse = 9e-9\n",
    "pause_length = 16e-9\n",
    "delays = np.linspace(0e-9, 1000e-9, 101)\n",
    "target_freq_offset = 10e6\n",
    "\n",
    "readout_begin = np.max(delays)+pi2_pulse*2\n",
    "\n",
    "def set_delay(delay):\n",
    "    awg_tek.set_nop(awg_tek.get_clock()/rep_rate)\n",
    "    \n",
    "    sequence = [pg.p(None, readout_begin-pi2_pulse),\n",
    "                pg.p('iq_ex', pi2_pulse, pg.rect, ex_amplitude), \n",
    "                pg.p(None, delay), \n",
    "                pg.p('iq_ex', pi2_pulse, pg.rect, ex_amplitude*np.exp(1j*delay*target_freq_offset*2*np.pi)), \n",
    "                pg.p('ro_trg', trg_length, pg.rect, 1), \n",
    "                pg.p('iq_ro', ro_dac_length, pg.rect, ro_amplitude)]\n",
    "    \n",
    "    pg.set_seq(sequence)\n",
    "    awg_tek.run()\n",
    "measurement = sweep.sweep(adc_reducer, (delays, set_delay, 'Ramsey delay'), filename='Ramsey')\n",
    "#measurement = sweep.sweep(adc_sz, (delays, set_delay, 'Ramsey delay'), filename='Ramsey')\n",
    "measurement_fitted, fitted_parameters = fitting.S21pm_fit(measurement, fitting.exp_sin_fit)\n",
    "annotation = 'Phase: {0:4.4g} rad, Freq: {1:4.4g}, Decay: {2:4.4g} s'.format(fitted_parameters['phase'], \n",
    "                                                                             fitted_parameters['freq'], \n",
    "                                                                             fitted_parameters['decay'])\n",
    "save_pkl.save_pkl({'type':'Ramsey', 'name': 'qubit {} paramp {}'.format(qubit_id, 'on' if lo_amp.get_status() else 'off')}, measurement_fitted, annotation=annotation)"
   ]
  },
  {
   "cell_type": "markdown",
   "metadata": {},
   "source": [
    "### Спиновое эхо"
   ]
  },
  {
   "cell_type": "code",
   "execution_count": null,
   "metadata": {
    "collapsed": true,
    "scrolled": false
   },
   "outputs": [],
   "source": [
    "ex_amplitude = 0.2\n",
    "pi2_pulse = 9e-9\n",
    "pause_length = 16e-9\n",
    "delays = np.linspace(0e-9, 500e-9, 101)\n",
    "target_freq_offset = 10e6\n",
    "\n",
    "readout_begin = np.max(delays)+pi2_pulse*2\n",
    "\n",
    "def set_delay(delay):\n",
    "    awg_tek.set_nop(awg_tek.get_clock()/rep_rate)\n",
    "    \n",
    "    sequence = [pg.p(None, readout_begin-pi2_pulse),\n",
    "                pg.p('iq_ex', pi2_pulse, pg.rect, ex_amplitude), \n",
    "                pg.p(None, delay), \n",
    "                pg.p('iq_ex', pi2_pulse, pg.rect, ex_amplitude), \n",
    "                pg.p('iq_ex', pi2_pulse, pg.rect, ex_amplitude), \n",
    "                pg.p(None, delay), \n",
    "                pg.p('iq_ex', pi2_pulse, pg.rect, ex_amplitude*np.exp(1j*delay*target_freq_offset*2*np.pi)), \n",
    "                pg.p('ro_trg', trg_length, pg.rect, 1), \n",
    "                pg.p('iq_ro', ro_dac_length, pg.rect, ro_amplitude)]\n",
    "    \n",
    "    pg.set_seq(sequence)\n",
    "    awg_tek.run()\n",
    "measurement = sweep.sweep(adc_reducer, (delays*2, set_delay, 'Spin echo full delay'), filename='Spin echo')\n",
    "#measurement = sweep.sweep(adc_sz, (delays, set_delay, 'Ramsey delay'), filename='Ramsey')\n",
    "measurement_fitted, fitted_parameters = fitting.S21pm_fit(measurement, fitting.exp_sin_fit)\n",
    "annotation = 'Phase: {0:4.4g} rad, Freq: {1:4.4g}, Decay: {2:4.4g} s'.format(fitted_parameters['phase'], \n",
    "                                                                             fitted_parameters['freq'], \n",
    "                                                                             fitted_parameters['decay'])\n",
    "save_pkl.save_pkl({'type':'Spin echo', 'name': 'qubit {} paramp {}'.format(qubit_id, 'on' if lo_amp.get_status() else 'off')}, measurement_fitted, annotation=annotation)"
   ]
  },
  {
   "cell_type": "code",
   "execution_count": null,
   "metadata": {
    "collapsed": true
   },
   "outputs": [],
   "source": [
    "save_pkl.save_pkl({'type':'Ramsey'}, measurement_fitted, annotation=annotation)"
   ]
  },
  {
   "cell_type": "code",
   "execution_count": null,
   "metadata": {
    "collapsed": true
   },
   "outputs": [],
   "source": [
    "lo_amp.set_status(0)"
   ]
  },
  {
   "cell_type": "markdown",
   "metadata": {},
   "source": [
    "### Затухание свободной индукции (T1)"
   ]
  },
  {
   "cell_type": "code",
   "execution_count": null,
   "metadata": {
    "collapsed": true
   },
   "outputs": [],
   "source": [
    "ex_amplitude = 0.2\n",
    "pi_pulse = 18e-9\n",
    "pause_length = 16e-9\n",
    "delays = np.linspace(0e-9, 2000e-9, 51)\n",
    "readout_begin = np.max(delays)+pi_pulse\n",
    "def set_delay(delay):\n",
    "    awg_tek.set_nop(awg_tek.get_clock()/rep_rate)\n",
    "    \n",
    "    sequence = [pg.p(None, readout_begin-ro_dac_length),\n",
    "                pg.p('iq_ex', pi_pulse, pg.rect, ex_amplitude), \n",
    "                pg.p(None, delay), \n",
    "                pg.p('ro_trg', trg_length, pg.rect, 1), \n",
    "                pg.p('iq_ro', ro_dac_length, pg.rect, ro_amplitude)]\n",
    "    \n",
    "    pg.set_seq(sequence)\n",
    "    awg_tek.run()\n",
    "measurement = sweep.sweep(adc_reducer, (delays, set_delay, 'delay'), filename='Decay')\n",
    "\n",
    "measurement_fitted, fitted_parameters = fitting.S21pm_fit(measurement, fitting.exp_fit)\n",
    "#save_pkl.save_pkl({'type':'Decay'}, measurement_fitted)\n",
    "annotation = 'Decay: {0:4.6g} s'.format(fitted_parameters['decay'])\n",
    "save_pkl.save_pkl({'type':'Decay', 'name': 'qubit {} paramp {}'.format(qubit_id, 'on' if lo_amp.get_status() else 'off')}, measurement_fitted, annotation=annotation)"
   ]
  },
  {
   "cell_type": "code",
   "execution_count": null,
   "metadata": {
    "collapsed": true
   },
   "outputs": [],
   "source": [
    "annotation = 'Decay: {0:4.6g} s'.format(fitted_parameters['decay'])\n",
    "save_pkl.save_pkl({'type':'Decay'}, measurement_fitted, annotation=annotation)"
   ]
  },
  {
   "cell_type": "markdown",
   "metadata": {},
   "source": [
    "### Rabi amplitude oscillations"
   ]
  },
  {
   "cell_type": "code",
   "execution_count": null,
   "metadata": {
    "collapsed": true
   },
   "outputs": [],
   "source": [
    "ex_amps = np.linspace(0.75,1.0,21)\n",
    "pause_length = 32e-9\n",
    "pi2_length = 16e-9\n",
    "sigma = 4e-9\n",
    "num_pulses = 16\n",
    "readout_begin = np.max((pi2_length+pause_length)*num_pulses)\n",
    "def set_ex_amp(amp):\n",
    "    awg_tek.set_nop(awg_tek.get_clock()/rep_rate)\n",
    "    \n",
    "    sequence = [pg.p('iq_ex', pi2_length, pg.gauss_hd,  amp, 0, sigma,0)]*num_pulses+\\\n",
    "               [pg.p('ro_trg', trg_length, pg.rect, 1), \n",
    "                pg.p('iq_ro', ro_dac_length, pg.rect, ro_amplitude)]\n",
    "    #print(sequence)\n",
    "    pg.set_seq(sequence)\n",
    "    \n",
    "    awg_tek.run()\n",
    "measurement = sweep.sweep(adc_reducer, (ex_amps, set_ex_amp, 'Rabi pulse amplitude'), filename='Rabi')"
   ]
  },
  {
   "cell_type": "markdown",
   "metadata": {},
   "source": [
    "### gaussian $\\pi/2$ pulse amplitudes"
   ]
  },
  {
   "cell_type": "code",
   "execution_count": null,
   "metadata": {
    "collapsed": true
   },
   "outputs": [],
   "source": [
    "#amp_x=0.554\n",
    "#amp_y=0.554\n",
    "#sigma = 2e-9\n",
    "#amp_x=0.29\n",
    "#amp_y=0.29\n",
    "amp_x = 0.90\n",
    "length = 16e-9\n",
    "pause_length = 0e-9\n",
    "sigma = 4e-9\n",
    "amp_x_hd = 0.89\n",
    "length_hd = 16e-9\n",
    "sigma_hd = 4e-9\n",
    "pause_length_hd = 8e-9\n",
    "alpha_hd = -0.92e-9"
   ]
  },
  {
   "cell_type": "markdown",
   "metadata": {},
   "source": [
    "### Ramsey with gauss pulses"
   ]
  },
  {
   "cell_type": "code",
   "execution_count": null,
   "metadata": {
    "collapsed": true,
    "scrolled": true
   },
   "outputs": [],
   "source": [
    "delays = np.linspace(0e-9, 2000e-9, 201)\n",
    "target_freq_offset = 20e6\n",
    "\n",
    "def set_delay(delay):\n",
    "    sequence = [pg.p(None, readout_begin-length),\n",
    "                pg.p('iq_ex', pi2_pulse, pg.gauss_hd, sigma, ex_amplitude, 0), \n",
    "                pg.p(None, delay), \n",
    "                pg.p('iq_ex', pi2_pulse, pg.gauss_hd, sigma, ex_amplitude*np.exp(1j*delay*target_freq_offset*2*np.pi), 0), \n",
    "                pg.p(None, delay), \n",
    "                pg.p('ro_trg', trg_length, pg.rect, 1), \n",
    "                pg.p('iq_ro', ro_dac_length, pg.rect, ro_amplitude)]\n",
    "    \n",
    "    pg.set_seq(sequence)\n",
    "    awg_tek.run()\n",
    "measurement = sweep.sweep(adc_reducer, (delays, set_delay, 'Ramsey delay'), filename='Ramsey')\n",
    "measurement_fitted, fitted_parameters = fitting.S21pm_fit(measurement, fitting.exp_sin_fit)\n",
    "annotation = 'Phase: {0:4.4g} rad, Freq: {1:4.4g}, Decay: {2:4.4g} s'.format(fitted_parameters['phase'], \n",
    "                                                                             fitted_parameters['freq'], \n",
    "                                                                             fitted_parameters['decay'])\n",
    "save_pkl.save_pkl({'type':'Ramsey'}, measurement_fitted, annotation=annotation)"
   ]
  },
  {
   "cell_type": "markdown",
   "metadata": {},
   "source": [
    "# Optimizing readout pulse settings"
   ]
  },
  {
   "cell_type": "code",
   "execution_count": null,
   "metadata": {
    "collapsed": true,
    "scrolled": true
   },
   "outputs": [],
   "source": [
    "#ex_calib_seq = [pg.p('iq_ex', length, pg.gauss_hd, amp_x, 0, sigma), pg.p(None, pause_length)]*2\n",
    "ex_calib_seq = [pg.p('iq_ex', 18e-9, pg.rect, 0.2), pg.p(None, pause_length)]\n",
    "ro_seq = [pg.p('ro_trg', trg_length, pg.rect, 1), pg.p('iq_ro', ro_dac_length, pg.rect, ro_amplitude)]\n",
    "adc_sz = tomography_new.sz_measurer(adc, ex_calib_seq, ro_seq, pg)\n",
    "adc_sz.save_last_samples = True\n",
    "#adc_sz.dump_measured_samples = True\n",
    "adc.set_software_nums_multi(1)\n",
    "adc_sz.repeat_samples = 3\n",
    "\n",
    "def target_min():\n",
    "    F = 1-adc_sz.measure()['Calibrated ROC AUC']\n",
    "    print ('fidelity: ', 1-F)\n",
    "    return F\n",
    "\n",
    "class ro_pulse_generator:\n",
    "    def __init__(self, adc_sz, ro_amplitude, ro_dac_length):\n",
    "        self.ro_amplitude = ro_amplitude\n",
    "        self.ro_dac_length = ro_dac_length\n",
    "        self.adc_sz = adc_sz\n",
    "    def set_ro_freq(self, ro_freq):\n",
    "        iq_ro.set_uncal_frequency(ro_freq)\n",
    "        self.make_ro_seq()\n",
    "    def set_paramp_pump_freq(self, pump_freq):\n",
    "        lo_amp.set_frequency(pump_freq)\n",
    "    def set_paramp_pump_power(self, pump_power):\n",
    "        lo_amp.set_power(pump_power)\n",
    "    def set_paramp_bias_current(self, paramp_bias):\n",
    "        current_src2.set_current(paramp_bias)\n",
    "    def make_ro_seq(self):\n",
    "        adc_sz.ro_seq = [pg.p('ro_trg', trg_length, pg.rect, 1), pg.p('iq_ro', self.ro_dac_length, pg.rect, self.ro_amplitude)]\n",
    "    def set_ro_length(self, ro_dac_length):\n",
    "        self.ro_dac_length = ro_dac_length\n",
    "        self.make_ro_seq()\n",
    "        adc_sz.measurement_name = 'ro_dac_length {0}ns ro_dac_amiltude {1:4.2f}'.format(int(self.ro_dac_length*1e9), self.ro_amplitude)\n",
    "    def set_ro_amplitude(self, ro_amplitude):\n",
    "        self.ro_amplitude = ro_amplitude\n",
    "        self.make_ro_seq()\n",
    "        adc_sz.measurement_name = 'ro_dac_length {0}ns ro_dac_amiltude {1:4.2f}'.format(int(self.ro_dac_length*1e9), self.ro_amplitude)\n",
    "\n",
    "ro_dac_lengths = np.linspace(0.05e-6,1.0e-6,20)\n",
    "ro_dac_amplitudes = np.linspace(0.05,1.0,20)\n",
    "\n",
    "ro_pulse_generator_inst = ro_pulse_generator(adc_sz, ro_amplitude, ro_dac_length)\n",
    "#solution, score = sweep.optimize(target_min, (ro_pulse_generator_inst.set_ro_length, 3e-8), \n",
    "#                                             (ro_pulse_generator_inst.set_ro_amplitude, 0.9), maxfun=30)\n",
    "#ro_dac_length = solution[0]\n",
    "#ro_dac_amplitude = solution[1]\n",
    "#"
   ]
  },
  {
   "cell_type": "code",
   "execution_count": null,
   "metadata": {
    "collapsed": true
   },
   "outputs": [],
   "source": [
    "sweep.sweep(adc_sz, (ro_dac_lengths, ro_pulse_generator_inst.set_ro_length, 'Readout pulse length'), \n",
    "                    (ro_dac_amplitudes, ro_pulse_generator_inst.set_ro_amplitude, 'Readout pulse amplitude'), filename='Readout fidelity with paramp')"
   ]
  },
  {
   "cell_type": "markdown",
   "metadata": {},
   "source": [
    "## Optimizing readout pulse length, amplitude, frequency, paramteric amplifier pump and bias"
   ]
  },
  {
   "cell_type": "code",
   "execution_count": null,
   "metadata": {
    "collapsed": true
   },
   "outputs": [],
   "source": [
    "p0 = [700e-9, 0.5, iq_ro.get_frequency(), lo_amp.get_frequency(), lo_amp.get_power(), current_src2.get_current()]\n",
    "dp = [50e-9, 0.05, 0.5e6, 3e6, 0.06, 3e-5]\n",
    "\n",
    "initial_simplex = [p0]+[[p0[i]+(dp[i] if i == j else 0) for i in range(len(dp))] for j in range(len(dp))]\n",
    "\n",
    "solution, score = sweep.optimize(target_min, (ro_pulse_generator_inst.set_ro_length, 700e-9), \n",
    "                                             (ro_pulse_generator_inst.set_ro_amplitude, 0.5),\n",
    "                                             (ro_pulse_generator_inst.set_ro_freq, iq_ro.get_frequency()),\n",
    "                                             (ro_pulse_generator_inst.set_paramp_pump_freq, lo_amp.get_frequency()),\n",
    "                                             (ro_pulse_generator_inst.set_paramp_pump_power, lo_amp.get_power()),\n",
    "                                             (ro_pulse_generator_inst.set_paramp_bias_current, current_src2.get_current()),\n",
    "                                             initial_simplex=initial_simplex,\n",
    "                                             maxfun=50)"
   ]
  },
  {
   "cell_type": "markdown",
   "metadata": {},
   "source": [
    "### |0> & |1> readout calibration"
   ]
  },
  {
   "cell_type": "code",
   "execution_count": null,
   "metadata": {
    "collapsed": true
   },
   "outputs": [],
   "source": [
    "lo_amp.get_status()"
   ]
  },
  {
   "cell_type": "code",
   "execution_count": null,
   "metadata": {
    "collapsed": true
   },
   "outputs": [],
   "source": [
    "imp.reload(tomography_new)\n",
    "imp.reload(awg_iq)\n",
    "imp.reload(save_pkl)"
   ]
  },
  {
   "cell_type": "code",
   "execution_count": null,
   "metadata": {
    "collapsed": true,
    "scrolled": true
   },
   "outputs": [],
   "source": [
    "ro_dac_length = 600e-9\n",
    "ro_dac_amplitude = 0.517\n",
    "ro_delay_length = 10e-9\n",
    "ro_delay_amplitude = 1.\n",
    "#ex_calib_seq = [pg.p('iq_ex', length, pg.gauss_hd, amp_x, 0, sigma, alpha_hd), pg.p(None, pause_length)]*2\n",
    "ex_calib_seq = [pg.p('iq_ex', 59e-9, pg.rect, 0.5), pg.p(None, pause_length)]\n",
    "#ex_calib_seq = [pg.p('iq_ex', length, pg.gauss_hd, amp_x, 0, sigma)]*2\n",
    "#ro_seq = [pg.p('ro_trg', trg_length, pg.rect, 1), pg.p('iq_ro', ro_dac_length, pg.rect, ro_amplitude)]\n",
    "ro_seq = [pg.p('ro_trg', trg_length, pg.rect, 1), pg.p('iq_ro', ro_dac_length, pg.rect, ro_dac_amplitude)]\n",
    "ro_delay_seq = [pg.p('ro_trg', trg_length, pg.rect, 1), pg.p('iq_ro', ro_delay_length, pg.rect, ro_delay_amplitude)]\n",
    "adc_sz = tomography_new.sz_measurer(adc, ex_calib_seq, ro_seq, pg, ro_delay_seq = ro_delay_seq)\n",
    "adc_sz.save_last_samples = True\n",
    "adc_sz.repeat_samples = 1\n",
    "#adc.set_software_nums_multi(2)\n",
    "print(adc_sz.measure_delay('iq_ro'))\n",
    "print(adc_sz.measure())\n",
    "#sz_filter = adc_sz.calibrate()\n",
    "#print('ROC AUC:', adc_sz.calib_roc_auc, 'Fidelity:', adc_sz.calib_fidelity)\n",
    "#print('ROC AUC binary:', adc_sz.calib_roc_auc_binary, 'Fidelity binary:', adc_sz.calib_fidelity_binary) "
   ]
  },
  {
   "cell_type": "code",
   "execution_count": null,
   "metadata": {
    "collapsed": true
   },
   "outputs": [],
   "source": [
    "adc_sz.dump_samples('ro_dac_length {0}ns ro_dac_amiltude {1:4.2f}'.format(int(ro_dac_length*1e9), ro_dac_amplitude))"
   ]
  },
  {
   "cell_type": "code",
   "execution_count": null,
   "metadata": {
    "collapsed": true
   },
   "outputs": [],
   "source": [
    "adc.stop()"
   ]
  },
  {
   "cell_type": "code",
   "execution_count": null,
   "metadata": {
    "collapsed": true
   },
   "outputs": [],
   "source": [
    "plt.figure()\n",
    "plt.pcolormesh(np.real(adc_sz.samples[0,:,:]), vmin=15, vmax=25); plt.colorbar()\n",
    "plt.figure()\n",
    "plt.pcolormesh(np.real(adc_sz.samples[1,:,:]), vmin=15, vmax=25); plt.colorbar()"
   ]
  },
  {
   "cell_type": "code",
   "execution_count": null,
   "metadata": {
    "collapsed": true,
    "scrolled": true
   },
   "outputs": [],
   "source": [
    "plt.hist(adc_sz.calib_pred.T, bins=20)"
   ]
  },
  {
   "cell_type": "code",
   "execution_count": null,
   "metadata": {
    "collapsed": true
   },
   "outputs": [],
   "source": [
    "#plt.scatter(np.real(adc_sz.calib_usl_pred[0,:]), np.imag(adc_sz.calib_usl_pred[0,:]), color='r', s=1)\n",
    "#plt.scatter(np.real(adc_sz.calib_usl_pred[1,:]), np.imag(adc_sz.calib_usl_pred[1,:]), color='b', s=1)\n",
    "#plt.figure()\n",
    "#plt.hist(adc_sz.calib_pred.T, bins=20)\n",
    "plt.figure()\n",
    "#plt.hist(np.real(adc_sz.calib_usl_pred.T), bins=20)\n",
    "plt.plot(np.real(adc_sz.calib_bg-np.mean(adc_sz.calib_bg)))\n",
    "plt.plot(np.imag(adc_sz.calib_bg-np.mean(adc_sz.calib_bg)))\n",
    "plt.plot(np.real(adc_sz.calib_feature))\n",
    "plt.plot(np.imag(adc_sz.calib_feature))"
   ]
  },
  {
   "cell_type": "markdown",
   "metadata": {},
   "source": [
    "### Tomography"
   ]
  },
  {
   "cell_type": "code",
   "execution_count": null,
   "metadata": {
    "collapsed": true
   },
   "outputs": [],
   "source": [
    "observables = { 'X': 0.5*np.asarray([[0, 1],   [1, 0]]),\n",
    "                'Y': 0.5*np.asarray([[0, -1j],   [1j, 0]]),\n",
    "                '-X': 0.5*np.asarray([[0, -1],   [-1, 0]]),\n",
    "                '-Y': 0.5*np.asarray([[0, 1j],   [-1j, 0]]),\n",
    "                'Z': 0.5*np.asarray([[1, 0],   [0, -1]])}\n",
    "proj_seq = {'Xo':{'pulses': [pg.p('iq_ex', length, pg.gauss_hd, 0, -amp_x, sigma, alpha_hd), pg.p(None, pause_length)]+ro_seq, \n",
    "                 'operator': observables['X']},\n",
    "            'Yo':{'pulses': [pg.p('iq_ex', length, pg.gauss_hd, amp_x, 0, sigma, alpha_hd), pg.p(None, pause_length)]+ro_seq,\n",
    "                 'operator': observables['Y']},\n",
    "            '-Xo':{'pulses':[pg.p('iq_ex', length, pg.gauss_hd, 0, amp_x, sigma, alpha_hd), pg.p(None, pause_length)]+ro_seq,\n",
    "                 'operator': observables['-X']},\n",
    "            '-Yo':{'pulses':[pg.p('iq_ex', length, pg.gauss_hd, -amp_x, 0, sigma, alpha_hd), pg.p(None, pause_length)]+ro_seq,\n",
    "                 'operator': observables['-Y']},\n",
    "            'Zo': {'pulses':ro_seq, 'operator':observables['Z']} }\n",
    "reconstruction_basis={'x':{'operator':observables['X']},\n",
    "                      'y':{'operator':observables['Y']},\n",
    "                      'z':{'operator':observables['Z']}}\n",
    "tomo = tomography_new.tomography(adc_sz, pg, proj_seq, reconstruction_basis=reconstruction_basis)"
   ]
  },
  {
   "cell_type": "code",
   "execution_count": null,
   "metadata": {
    "collapsed": true
   },
   "outputs": [],
   "source": [
    "proj_seq = {'Z': {'pulses':ro_seq, 'operator':observables['Z']}}\n",
    "tomoz = tomography_new.tomography(adc_sz, pg, proj_seq)"
   ]
  },
  {
   "cell_type": "code",
   "execution_count": null,
   "metadata": {
    "collapsed": true
   },
   "outputs": [],
   "source": [
    "## tomography of |0> state\n",
    "adc.set_software_nums_multi(20)\n",
    "tomo.set_prepare_seq([])\n",
    "tomo.measure()"
   ]
  },
  {
   "cell_type": "code",
   "execution_count": null,
   "metadata": {
    "collapsed": true
   },
   "outputs": [],
   "source": [
    "## tomography of |1> state\n",
    "tomo.set_prepare_seq([pg.p('iq_ex', length, pg.gauss_hd, 0, -amp_x, sigma, alpha_hd), pg.p(None, pause_length)]*2)\n",
    "tomo.measure()"
   ]
  },
  {
   "cell_type": "code",
   "execution_count": null,
   "metadata": {
    "collapsed": true
   },
   "outputs": [],
   "source": [
    "## tomography of |1> state\n",
    "tomo.set_prepare_seq([pg.p('iq_ex', length, pg.gauss_hd, 0, -amp_x, sigma, alpha_hd), pg.p(None, pause_length)]+\n",
    "                     [pg.p('iq_ex', length, pg.gauss_hd, 0, -amp_x, sigma, alpha_hd), pg.p(None, pause_length),\n",
    "                     pg.p('iq_ex', length, pg.gauss_hd, 0, amp_x, sigma, alpha_hd), pg.p(None, pause_length)]*10)\n",
    "tomo.measure()"
   ]
  },
  {
   "cell_type": "code",
   "execution_count": null,
   "metadata": {
    "collapsed": true
   },
   "outputs": [],
   "source": [
    "## tomography of |1> state\n",
    "tomo.set_prepare_seq([pg.p('iq_ex', length, pg.gauss_hd, 0, -amp_x, sigma, -0.92e-9), pg.p(None, pause_length)]+\n",
    "                     [pg.p('iq_ex', length, pg.gauss_hd, 0, -amp_x, sigma, -0.92e-9), pg.p(None, pause_length),\n",
    "                     pg.p('iq_ex', length, pg.gauss_hd, 0, amp_x, sigma, -0.92e-9), pg.p(None, pause_length)]*10)\n",
    "tomo.measure()"
   ]
  },
  {
   "cell_type": "code",
   "execution_count": null,
   "metadata": {
    "collapsed": true
   },
   "outputs": [],
   "source": [
    "## tomography of |0>+|1> state\n",
    "tomo.set_prepare_seq([pg.p('iq_ex', length, pg.gauss_hd, 0, -amp_x, sigma), pg.p(None, pause_length)])\n",
    "tomo.measure()"
   ]
  },
  {
   "cell_type": "code",
   "execution_count": null,
   "metadata": {
    "collapsed": true
   },
   "outputs": [],
   "source": [
    "## tomography of |0>-|1> state\n",
    "tomo.set_prepare_seq([pg.p('iq_ex', length, pg.gauss_hd, 0, 1j*amp_x, sigma), pg.p(None, pause_length)])\n",
    "tomo.measure()"
   ]
  },
  {
   "cell_type": "code",
   "execution_count": null,
   "metadata": {
    "collapsed": true
   },
   "outputs": [],
   "source": [
    "## tomography of -|0>-|1> state\n",
    "tomo.set_prepare_seq([pg.p('iq_ex', length, pg.gauss_hd, 0, -amp_x, sigma), pg.p(None, pause_length)])\n",
    "tomo.measure()"
   ]
  },
  {
   "cell_type": "code",
   "execution_count": null,
   "metadata": {
    "collapsed": true
   },
   "outputs": [],
   "source": [
    "## tomography of -|0>+|1> state\n",
    "tomo.set_prepare_seq([pg.p('iq_ex', length, pg.gauss_hd, 0, -1j*amp_x, sigma), pg.p(None, pause_length)])\n",
    "tomo.measure()"
   ]
  },
  {
   "cell_type": "markdown",
   "metadata": {},
   "source": [
    "# Randomized benchmarking"
   ]
  },
  {
   "cell_type": "code",
   "execution_count": null,
   "metadata": {
    "collapsed": true
   },
   "outputs": [],
   "source": [
    "import interleaved_benchmarking\n",
    "imp.reload(interleaved_benchmarking)\n",
    "\n",
    "bench = interleaved_benchmarking.interleaved_benchmarking(tomo)\n",
    "\n",
    "unitaries = {0:np.sqrt(0.5)*np.asarray([[1, -1j],  [-1j, 1]]),\\\n",
    "             1:np.sqrt(0.5)*np.asarray([[1, -1],    [1, 1]]),\\\n",
    "             2:np.sqrt(0.5)*np.asarray([[1, 1j],   [1j, 1]]),\\\n",
    "             3:np.sqrt(0.5)*np.asarray([[1, 1],   [-1, 1]])}\n",
    "bench.interleavers = {'X': {'pulses':[pg.p('iq_ex', length, pg.gauss_hd, -amp_x, 0, sigma, alpha_hd), pg.p(None, pause_length)],\n",
    "                            'unitary': np.sqrt(0.5)*np.asarray([[1, -1j],  [-1j, 1]])},\n",
    "                      'Y': {'pulses':[pg.p('iq_ex', length, pg.gauss_hd, 1j*amp_x, 0, sigma, alpha_hd), pg.p(None, pause_length)],\n",
    "                            'unitary': np.sqrt(0.5)*np.asarray([[1, -1],    [1, 1]])},\n",
    "                      '-X':{'pulses':[pg.p('iq_ex', length, pg.gauss_hd, amp_x, 0, sigma, alpha_hd), pg.p(None, pause_length)],\n",
    "                            'unitary': np.sqrt(0.5)*np.asarray([[1, 1j],   [1j, 1]])},\n",
    "                      '-Y':{'pulses':[pg.p('iq_ex', length, pg.gauss_hd, -1j*amp_x, 0, sigma, alpha_hd), pg.p(None, pause_length)],\n",
    "                            'unitary': np.sqrt(0.5)*np.asarray([[1, 1],   [-1, 1]])},\n",
    "                      'I':{'pulses':[], 'unitary':np.asarray([[1, 0], [0,1]])}}\n",
    "bench.sequence_length = 10\n",
    "bench.random_sequence_num = 6\n",
    "bench.prepare_random_interleaving_sequences()\n",
    "#bench.generate_interleaver_sequence_from_names()"
   ]
  },
  {
   "cell_type": "code",
   "execution_count": null,
   "metadata": {
    "collapsed": true
   },
   "outputs": [],
   "source": [
    "seq_lengths = np.arange(101)\n",
    "sweep.sweep(bench, (seq_lengths, bench.set_sequence_length_and_regenerate, 'Gate number'))"
   ]
  },
  {
   "cell_type": "code",
   "execution_count": null,
   "metadata": {
    "collapsed": true
   },
   "outputs": [],
   "source": [
    "bench.target_gate = bench.interleavers['X']['pulses']\n",
    "bench.target_gate_unitary = bench.interleavers['X']['unitary']\n",
    "bench.target_gate_name = 'X (benchmarking)'\n",
    "tfunc = lambda : np.mean(bench.measure()['Euclidean distance'])\n",
    "class hd_pulse_generator:\n",
    "    def __init__(self, pulse_setter, pg, channel):\n",
    "        self.amp_x = -amp_x_hd\n",
    "        self.amp_y = amp_x_hd\n",
    "        self.sigma = sigma_hd\n",
    "        self.length = length_hd\n",
    "        self.pause_length = pause_length_hd\n",
    "        self.alpha = alpha_hd\n",
    "        \n",
    "        self.pg = pg\n",
    "        self.channel = channel\n",
    "        self.pulse = self.pulse_gen()\n",
    "        self.pulse_setter = pulse_setter\n",
    "    def set_real_amplitude(self,x):\n",
    "        self.amp_x = x\n",
    "        self.pulse_setter(self.pulse_gen())\n",
    "    def set_imag_amplitude(self,y):\n",
    "        self.amp_y = y\n",
    "        self.pulse_setter(self.pulse_gen())\n",
    "    def set_sigma(self,s):\n",
    "        self.sigma = s\n",
    "        self.pulse_setter(self.pulse_gen())\n",
    "    def set_length(self,l):\n",
    "        self.length = l\n",
    "        self.pulse_setter(self.pulse_gen())\n",
    "    def set_pause_length(self, p):\n",
    "        self.pause_length = p\n",
    "        self.pulse_setter(self.pulse_gen())\n",
    "    def set_alpha(self, a):\n",
    "        self.alpha = a\n",
    "        self.pulse_setter(self.pulse_gen())\n",
    "    def pulse_gen(self):\n",
    "        return [pg.p(self.channel, self.length, self.pg.gauss_hd, self.amp_x+1j*self.amp_y, 0, self.sigma, self.alpha), pg.p(None, self.pause_length)]\n",
    "    \n",
    "xg = hd_pulse_generator(bench.set_target_pulse, pg, 'iq_ex')"
   ]
  },
  {
   "cell_type": "code",
   "execution_count": null,
   "metadata": {
    "collapsed": true
   },
   "outputs": [],
   "source": [
    "sol, score = sweep.optimize(tfunc,  (xg.set_real_amplitude, xg.amp_x), \n",
    "                                    (xg.set_imag_amplitude, xg.amp_y),\n",
    "                                    (xg.set_alpha, xg.alpha))"
   ]
  },
  {
   "cell_type": "code",
   "execution_count": null,
   "metadata": {
    "collapsed": true
   },
   "outputs": [],
   "source": [
    "amps = np.linspace(0.925, 0.975, 21)\n",
    "alphas = np.linspace(-2e-9, 2e-9, 11)\n",
    "sweep.sweep(bench, (amps, xg.set_real_amplitude, 'Amplitude'), (alphas, xg.set_alpha, 'HD DRAG coeff'), filename='Randomized interleaved benchmarging X-rotation')"
   ]
  },
  {
   "cell_type": "code",
   "execution_count": null,
   "metadata": {
    "collapsed": true
   },
   "outputs": [],
   "source": [
    "data = save_pkl.load_pkl('Euclidean distance Randomized interleaved benchmarging X-rotation', 'D:\\\\qtlab\\\\ReiData\\\\data\\\\2017-07-02\\\\23-03-34')\n",
    "plt.figure()\n",
    "plt.pcolormesh(data[1]['Euclidean distance'][1][1], data[1]['Euclidean distance'][1][0], data[1]['Euclidean distance'][2][:,:,5])\n",
    "plt.colorbar()"
   ]
  },
  {
   "cell_type": "code",
   "execution_count": null,
   "metadata": {
    "collapsed": true
   },
   "outputs": [],
   "source": [
    "data[1]"
   ]
  },
  {
   "cell_type": "code",
   "execution_count": null,
   "metadata": {
    "collapsed": true
   },
   "outputs": [],
   "source": [
    "data[1]['Euclidean distance']"
   ]
  },
  {
   "cell_type": "code",
   "execution_count": null,
   "metadata": {
    "collapsed": true
   },
   "outputs": [],
   "source": [
    "meas = bench.measure()"
   ]
  },
  {
   "cell_type": "code",
   "execution_count": null,
   "metadata": {
    "collapsed": true
   },
   "outputs": [],
   "source": [
    "meas['Xo']"
   ]
  },
  {
   "cell_type": "code",
   "execution_count": null,
   "metadata": {
    "collapsed": true
   },
   "outputs": [],
   "source": [
    "import plotting\n",
    "imp.reload(plotting)\n",
    "plotting.plot_measurement(bench.reference_benchmark_result)"
   ]
  },
  {
   "cell_type": "markdown",
   "metadata": {},
   "source": [
    "# Optimizing Drag"
   ]
  },
  {
   "cell_type": "code",
   "execution_count": null,
   "metadata": {
    "collapsed": true
   },
   "outputs": [],
   "source": [
    "num_interleved_pulses = 2\n",
    "alphas = np.linspace(-1e-8, 1e-8, 201)\n",
    "def set_drag (alpha):\n",
    "    ramsey_half = [pg.p('iq_ex', length_hd, pg.gauss_hd, amp_x_hd, 0, sigma_hd, alpha), \n",
    "                 pg.p(None, pause_length_hd)]\n",
    "    interleaved_identity = [pg.p('iq_ex', length_hd, pg.gauss_hd, -amp_x_hd, 0, sigma_hd, alpha), \n",
    "                           pg.p(None, pause_length_hd),\n",
    "                           pg.p('iq_ex', length_hd, pg.gauss_hd, amp_x_hd, 0, sigma_hd, alpha), \n",
    "                           pg.p(None, pause_length_hd)]\n",
    "    tomo.set_prepare_seq(ramsey_half+interleaved_identity*num_interleved_pulses+ramsey_half)\n",
    "    \n",
    "measurement = sweep.sweep(tomo, (alphas, set_drag, 'delta_freq'), filename='DRAG', output=False)"
   ]
  },
  {
   "cell_type": "markdown",
   "metadata": {},
   "source": [
    "### Randomized Benchmarking"
   ]
  },
  {
   "cell_type": "code",
   "execution_count": null,
   "metadata": {
    "collapsed": true
   },
   "outputs": [],
   "source": [
    "pause_pulse = tomography.pause(pause_length, awg_channels)\n",
    "pulses = {0:tomography.ex_gauss_hd(amp_x_hd, amp_y_hd, length_hd, sigma_hd, awg_channels, -200e6/np.pi),\n",
    "          1:tomography.ex_gauss_hd(amp_y_hd, -amp_x_hd, length_hd, sigma_hd, awg_channels, -200e6/np.pi),\n",
    "          2:tomography.ex_gauss_hd(-amp_x_hd, -amp_y_hd, length_hd, sigma_hd, awg_channels, -200e6/np.pi),\n",
    "          3:tomography.ex_gauss_hd(-amp_y_hd, amp_x_hd, length_hd, sigma_hd, awg_channels, -200e6/np.pi)}\n",
    "\n",
    "unitaries = {0:np.sqrt(0.5)*np.asarray([[1, -1j],  [-1j, 1]]),\\\n",
    "             1:np.sqrt(0.5)*np.asarray([[1, -1],    [1, 1]]),\\\n",
    "             2:np.sqrt(0.5)*np.asarray([[1, 1j],   [1j, 1]]),\\\n",
    "             3:np.sqrt(0.5)*np.asarray([[1, 1],   [-1, 1]])}\n",
    "\n",
    "observables = { 'X': 0.5*np.asarray([[0, 1],   [1, 0]]),\n",
    "                'Y': 0.5*np.asarray([[0, -1j],   [1j, 0]]),\n",
    "                '-X': 0.5*np.asarray([[0, -1],   [-1, 0]]),\n",
    "                '-Y': 0.5*np.asarray([[0, 1j],   [-1j, 0]]),\n",
    "                'Z': 0.5*np.asarray([[1, 0],   [0, -1]])}\n",
    "\n",
    "initial = np.asarray([0, 1]).T\n",
    "random_pulse_ids = np.arange(20)\n",
    "num_gates = np.linspace(0, 100, 11)\n",
    "\n",
    "sequences = []\n",
    "pulse_sequences = []\n",
    "theor_projs = {o:np.zeros((len(num_gates), len(random_pulse_ids))) for o in observables.keys()}\n",
    "rho_t = np.zeros((len(num_gates), len(random_pulse_ids),2,2), dtype=np.complex)\n",
    "psis = np.zeros((len(num_gates), len(random_pulse_ids),2), dtype=np.complex)\n",
    "n=0\n",
    "\n",
    "def set_num_gates(n_new):\n",
    "    global n\n",
    "    n = n_new\n",
    "\n",
    "def set_random_sequence(id):\n",
    "    sequence = np.random.randint (4, size = n).tolist()\n",
    "    sequence_pulses = [j for i in [[pulses[i], pause_pulse] for i in sequence] for j in i]\n",
    "    sequence_unitaries = [unitaries[i] for i in sequence]\n",
    "    psi = initial.copy()\n",
    "    \n",
    "    for U in sequence_unitaries:\n",
    "        psi = np.dot(U, psi)\n",
    "    \n",
    "    rho_t[n,id,:,:] = np.einsum('i,j->ij', np.conj(psi), psi)\n",
    "    psis[n,id,:] = psi\n",
    "    \n",
    "    sequences.append(sequence)\n",
    "    for o in observables.keys():\n",
    "        theor_projs[o][n,id] = np.dot(np.dot(np.conj(psi), observables[o]), psi)\n",
    "    \n",
    "    tomo_hd.set_prepare_seq(sequence_pulses)\n",
    "    pulse_sequences.append(sequence_pulses)\n",
    "    \n",
    "m = sweep.sweep(tomo_hd, (num_gates, set_num_gates, 'gate num'), (random_pulse_ids, set_random_sequence, 'random seq id'), filename='RB', output=False)\n",
    "X = (m['X'][2]-m['-X'][2])/2.\n",
    "Y = (m['Y'][2]-m['-Y'][2])/2.\n",
    "Z = m['Z'][2]\n",
    "rho_m = np.transpose([[0.5+Z, X+1j*Y], [X-1j*Y, 0.5-Z]], [2,3,0,1])\n",
    "fidelities = np.sqrt(np.einsum('nmi,nmji,nmj->nm', np.conj(psis), rho_m, psis))\n",
    "\n",
    "m['Fidelity'] = [d for d in m['X']]\n",
    "m['Fidelity'][2] = np.asarray(fidelities, dtype=np.float)\n",
    "for o,O in observables.items():\n",
    "    m[o+' fit'] = [d for d in m[o]]\n",
    "    m[o+' fit'][2] = np.asarray(theor_projs[o], dtype=np.float)\n",
    "#m['rho_t'] = m['X'].copy()\n",
    "save_pkl.save_pkl({'type':'Randomized benchmark Clifford'}, m)"
   ]
  },
  {
   "cell_type": "code",
   "execution_count": null,
   "metadata": {
    "collapsed": true
   },
   "outputs": [],
   "source": [
    "plt.plot(m['Fidelity'][1]m['Fidelity'])"
   ]
  },
  {
   "cell_type": "code",
   "execution_count": null,
   "metadata": {
    "collapsed": true
   },
   "outputs": [],
   "source": [
    "rho_m"
   ]
  },
  {
   "cell_type": "code",
   "execution_count": null,
   "metadata": {
    "collapsed": true
   },
   "outputs": [],
   "source": [
    "plt.plot(m['Fidelity'][1][0], np.mean(m['Fidelity'][2],axis=1))\n",
    "plt.xlabel('gate num')\n",
    "plt.ylabel('fidelity')\n",
    "plt.grid()"
   ]
  },
  {
   "cell_type": "code",
   "execution_count": null,
   "metadata": {
    "collapsed": true,
    "scrolled": true
   },
   "outputs": [],
   "source": [
    "rho_m = np.transpose([[0.5+Z, X+1j*Y], [X-1j*Y, 0.5-Z]], [2,3,0,1])\n",
    "fidelities = np.sqrt(np.einsum('mni,mnji,mnj->mn', np.conj(psis), rho_m, psis))\n",
    "\n",
    "m['Fidelity'] = [d for d in m['X']]\n",
    "m['Fidelity'][2] = np.asarray(fidelities, dtype=np.float)\n",
    "for o,O in observables.items():\n",
    "    m[o+' fit'] = [d for d in m[o]]\n",
    "    m[o+' fit'][2] = np.asarray(theor_projs[o], dtype=np.float)\n",
    "#m['rho_t'] = m['X'].copy()\n",
    "save_pkl.save_pkl({'type':'Randomized benchmark Clifford'}, m)"
   ]
  },
  {
   "cell_type": "code",
   "execution_count": null,
   "metadata": {
    "collapsed": true
   },
   "outputs": [],
   "source": [
    "m"
   ]
  },
  {
   "cell_type": "code",
   "execution_count": null,
   "metadata": {
    "collapsed": true
   },
   "outputs": [],
   "source": []
  },
  {
   "cell_type": "code",
   "execution_count": null,
   "metadata": {
    "collapsed": true
   },
   "outputs": [],
   "source": [
    "fidelities"
   ]
  },
  {
   "cell_type": "code",
   "execution_count": null,
   "metadata": {
    "collapsed": true
   },
   "outputs": [],
   "source": [
    "psis"
   ]
  },
  {
   "cell_type": "code",
   "execution_count": null,
   "metadata": {
    "collapsed": true
   },
   "outputs": [],
   "source": [
    "rho_m"
   ]
  },
  {
   "cell_type": "code",
   "execution_count": null,
   "metadata": {
    "collapsed": true
   },
   "outputs": [],
   "source": [
    "rho_t"
   ]
  },
  {
   "cell_type": "code",
   "execution_count": null,
   "metadata": {
    "collapsed": true
   },
   "outputs": [],
   "source": [
    "measurement['theory'] = thoer_proj\n",
    "save_pkl.save_pkl({'type':'Randomized benchmark Clifford'}, measurement)"
   ]
  },
  {
   "cell_type": "code",
   "execution_count": null,
   "metadata": {
    "collapsed": true
   },
   "outputs": [],
   "source": [
    "print(theor_projs)\n",
    "print(measurement)\n",
    "print(psis)\n",
    "print (sequences)\n",
    "print (rho_t)\n",
    "print (rho_m)"
   ]
  },
  {
   "cell_type": "code",
   "execution_count": null,
   "metadata": {
    "collapsed": true
   },
   "outputs": [],
   "source": [
    "np.dot(np.conj(psis[1]), np.dot(observables['Y'],psis[1]))"
   ]
  },
  {
   "cell_type": "code",
   "execution_count": null,
   "metadata": {
    "collapsed": true
   },
   "outputs": [],
   "source": [
    "num_pulses = np.round(np.arange(0, 41)).astype(np.int)\n",
    "\n",
    "def set_num_pulses(n):\n",
    "    tomoz.set_prepare_seq([tomography.ex_gauss(amp_x, length, sigma, awg_channels), \n",
    "                          tomography.pause(pause_length, awg_channels)]*n)\n",
    "\n",
    "measurement = sweep.sweep(tomoz, (num_pulses, set_num_pulses, 'SX pi2 pulse num'), filename='Rabi', output=False)"
   ]
  },
  {
   "cell_type": "code",
   "execution_count": null,
   "metadata": {
    "collapsed": true
   },
   "outputs": [],
   "source": [
    "num_pulses = np.round(np.arange(0, 21)).astype(np.int)\n",
    "\n",
    "def set_num_pulses(n):\n",
    "    tomo.set_prepare_seq([tomography.ex_gauss_hd(amp_x_hd, amp_y_hd, length_hd, sigma_hd, awg_channels, -200e6/np.pi), \n",
    "                          tomography.pause(pause_length, awg_channels)]*n)\n",
    "\n",
    "measurement = sweep.sweep(tomo, (num_pulses, set_num_pulses, 'SX pi2 pulse num'), filename='Rabi', output=False)"
   ]
  },
  {
   "cell_type": "code",
   "execution_count": null,
   "metadata": {
    "collapsed": true
   },
   "outputs": [],
   "source": [
    "num_pulses = np.round(np.arange(0, 21)).astype(np.int)\n",
    "\n",
    "def set_num_pulses(n):\n",
    "    tomo.set_prepare_seq([tomography.ex_gauss(amp_x_hd, length_hd, sigma_hd, awg_channels), \n",
    "                          tomography.pause(pause_length, awg_channels)]*n)\n",
    "\n",
    "measurement = sweep.sweep(tomo, (num_pulses, set_num_pulses, 'SX pi2 pulse num'), filename='Rabi', output=False)"
   ]
  },
  {
   "cell_type": "code",
   "execution_count": null,
   "metadata": {
    "collapsed": true
   },
   "outputs": [],
   "source": [
    "ex_amplitude=0.25\n",
    "lengths = np.linspace(0e-9, 200e-9, 51)\n",
    "readout_begin = np.max(lengths)\n",
    "\n",
    "def set_ex_length(length):\n",
    "    tomo.set_prepare_seq([tomography.ex_rect(ex_amplitude, length, awg_channels), tomography.pause(pause_length, awg_channels)])\n",
    "\n",
    "measurement = sweep.sweep(tomo, (lengths, set_ex_length, 'Rabi x-axis pulse length'), filename='Rabi', output=False)"
   ]
  },
  {
   "cell_type": "code",
   "execution_count": null,
   "metadata": {
    "collapsed": true
   },
   "outputs": [],
   "source": [
    "from mpl_toolkits.mplot3d import Axes3D\n",
    "fig = plt.figure()\n",
    "ax = fig.add_subplot(111, projection='3d')\n",
    "ax.plot(measurement ['X'][2], measurement ['Y'][2], measurement ['Z'][2], c='r', marker='o')\n",
    "ax.set_xlabel('X')\n",
    "ax.set_ylabel('Y')\n",
    "ax.set_zlabel('Z')\n",
    "ax.set_xlim([-0.6, 0.6])\n",
    "ax.set_ylim([-0.6, 0.6])\n",
    "ax.set_zlim([-0.6, 0.6])"
   ]
  },
  {
   "cell_type": "code",
   "execution_count": null,
   "metadata": {
    "collapsed": true
   },
   "outputs": [],
   "source": [
    "ex_amplitude = 0.25\n",
    "pause_length = 16e-9\n",
    "lengths = np.linspace(0e-9, 2000e-9, 2001)\n",
    "readout_begin = np.max(lengths)\n",
    "\n",
    "def set_ex_length(length):\n",
    "    tomo.set_prepare_seq([tomography.ex_rect(1j*ex_amplitude, length, awg_channels), tomography.pause(pause_length, awg_channels)])\n",
    "\n",
    "measurement = sweep.sweep(tomo, (lengths, set_ex_length, 'Rabi y-axis pulse length'), filename='Rabi', output=False)"
   ]
  },
  {
   "cell_type": "markdown",
   "metadata": {},
   "source": [
    "### Optimizing phase between x and y pulses"
   ]
  },
  {
   "cell_type": "code",
   "execution_count": null,
   "metadata": {
    "collapsed": true
   },
   "outputs": [],
   "source": [
    "c_phase = 0\n",
    "c_n = 0\n",
    "\n",
    "adc.set_software_averages(1)\n",
    "adc.set_software_nums_multi(3)\n",
    "\n",
    "def set_n(n):\n",
    "    global c_n\n",
    "    global c_phase\n",
    "    c_n = n \n",
    "    y_pulse = [tomography.ex_gauss_hd(amp_x_hd*np.exp(1j*c_phase), amp_y_hd*np.exp(1j*c_phase), length_hd, sigma_hd, awg_channels, -200e6), tomography.pause(pause_length, awg_channels)]\n",
    "    tomo.set_prepare_seq(y_pulse*c_n)\n",
    "\n",
    "def set_y_phase(phase):\n",
    "    global c_n\n",
    "    global c_phase\n",
    "    c_phase = phase\n",
    "    y_pulse = [tomography.ex_gauss_hd(amp_x_hd*np.exp(1j*c_phase), amp_y_hd*np.exp(1j*c_phase), length_hd, sigma_hd, awg_channels, -200e6), tomography.pause(pause_length, awg_channels)]\n",
    "    tomo.set_prepare_seq(y_pulse*c_n)\n",
    "\n",
    "phases = np.linspace(np.pi/2.*0.8, np.pi/2.*1.2, 11, endpoint=False)\n",
    "num_pulses = np.arange(0,5)\n",
    "measurement = sweep.sweep(tomo, (phases, set_y_phase, 'y-pulse phase'), (num_pulses, set_n, 'y pulse num'), filename='y-phase', output=False)"
   ]
  },
  {
   "cell_type": "code",
   "execution_count": null,
   "metadata": {
    "collapsed": true
   },
   "outputs": [],
   "source": [
    "phases[7]"
   ]
  },
  {
   "cell_type": "code",
   "execution_count": null,
   "metadata": {
    "collapsed": true
   },
   "outputs": [],
   "source": [
    "plt.plot(np.asarray(results).T)"
   ]
  },
  {
   "cell_type": "code",
   "execution_count": null,
   "metadata": {
    "collapsed": true
   },
   "outputs": [],
   "source": [
    "adc.stop()"
   ]
  },
  {
   "cell_type": "code",
   "execution_count": null,
   "metadata": {
    "collapsed": true
   },
   "outputs": [],
   "source": [
    "plt.close()"
   ]
  },
  {
   "cell_type": "markdown",
   "metadata": {
    "collapsed": true
   },
   "source": [
    "# load calibration data"
   ]
  },
  {
   "cell_type": "code",
   "execution_count": null,
   "metadata": {
    "collapsed": true
   },
   "outputs": [],
   "source": [
    "import pickle\n",
    "f0 = open('D:\\\\qtlab\\\\ReiData\\\\data\\\\2017-04-26\\\\13-11-46\\\\Voltage ro calibration.pkl', 'rb')\n",
    "f1 = open('D:\\\\qtlab\\\\ReiData\\\\data\\\\2017-04-26\\\\13-11-14\\\\Voltage ro calibration.pkl', 'rb')\n",
    "cal0 = pickle.load(f0)\n",
    "cal1 = pickle.load(f1)"
   ]
  },
  {
   "cell_type": "code",
   "execution_count": null,
   "metadata": {
    "collapsed": true
   },
   "outputs": [],
   "source": [
    "import numpy as np\n",
    "import matplotlib.pyplot as plt\n",
    "%matplotlib qt4\n",
    "cal0_nomean = cal0[1]['Voltage'][2][0,:,:]-np.mean(cal0[1]['Voltage'][2][0,:,:])\n",
    "cal1_nomean = cal0[1]['Voltage'][2][1,:,:]-np.mean(cal0[1]['Voltage'][2][1,:,:])\n",
    "\n",
    "cal0_mean = np.mean(cal0_nomean, axis=0)\n",
    "cal1_mean = np.mean(cal1_nomean, axis=0)"
   ]
  },
  {
   "cell_type": "code",
   "execution_count": null,
   "metadata": {
    "collapsed": true
   },
   "outputs": [],
   "source": [
    "cal_mean = (cal0_mean+cal1_mean)/2.\n",
    "cal_diff = (cal1_mean-cal0_mean)\n",
    "\n",
    "plt.figure('Samples')\n",
    "plt.plot(np.mean(cal0_nomean, axis=0), label='|0>')\n",
    "plt.plot(np.mean(cal1_nomean, axis=0), label='|1>')\n",
    "plt.legend()\n",
    "\n",
    "plt.figure('Offset & feature')\n",
    "plt.plot(cal_mean, label='mean')\n",
    "plt.plot(cal_diff, label='diff')\n",
    "plt.legend()"
   ]
  },
  {
   "cell_type": "code",
   "execution_count": null,
   "metadata": {
    "collapsed": true
   },
   "outputs": [],
   "source": [
    "plt.figure('Fourier domain')\n",
    "plt.plot(np.abs(np.fft.fft(cal0_mean)), label='|0>')\n",
    "plt.plot(np.abs(np.fft.fft(cal1_mean)), label='|1>') \n",
    "plt.plot(np.abs(np.fft.fft(cal_mean)), label='mean')\n",
    "plt.plot(np.abs(np.fft.fft(cal_diff)), label='diff')\n",
    "plt.legend()\n",
    "\n",
    "feature = np.conj(cal_diff/np.sum(np.abs(cal_diff**2)))"
   ]
  },
  {
   "cell_type": "code",
   "execution_count": null,
   "metadata": {
    "collapsed": true
   },
   "outputs": [],
   "source": [
    "coeffs0 = np.dot(cal0_nomean-cal_mean, feature)\n",
    "coeffs1 = np.dot(cal1_nomean-cal_mean, feature)\n",
    "predictions = np.asarray([np.real(coeffs0), np.real(coeffs1)])"
   ]
  },
  {
   "cell_type": "code",
   "execution_count": null,
   "metadata": {
    "collapsed": true
   },
   "outputs": [],
   "source": [
    "hist_all, bins = np.histogram(predictions, bins='auto')\n",
    "proba_points = (bins[1:]+bins[:-1])/2.\n",
    "hists = []\n",
    "for y in range(2):\n",
    "    hists.append(np.histogram(predictions[y,:], bins=bins)[0])\n",
    "\n",
    "hists = np.asarray(hists, dtype=float)\n",
    "probabilities = hists/hist_all\n",
    "naive_probabilities = np.asarray([proba_points<0, proba_points>0], dtype=float)\n",
    "probabilities[np.isnan(probabilities)] = naive_probabilities[np.isnan(probabilities)]\n",
    "predictor = lambda x: np.interp(x, proba_points, probabilities[1,:], left=0., right=1.)\n",
    "calib_proba_points = proba_points\n",
    "calib_proba = probabilities[1,:]\n",
    "calib_hists = hists"
   ]
  },
  {
   "cell_type": "code",
   "execution_count": null,
   "metadata": {
    "collapsed": true
   },
   "outputs": [],
   "source": [
    "from sklearn.metrics import roc_curve, roc_auc_score\n",
    "roc = roc_curve([0]*coeffs0.size+[1]*coeffs0.size, predictor(predictions.ravel()))\n",
    "roc_auc = roc_auc_score([0]*coeffs0.size+[1]*coeffs0.size, predictor(predictions.ravel()))"
   ]
  },
  {
   "cell_type": "code",
   "execution_count": null,
   "metadata": {
    "collapsed": true
   },
   "outputs": [],
   "source": [
    "plt.figure('ROC')\n",
    "plt.plot(roc[0], roc[1])\n",
    "plt.xlabel('True Positive Rate')\n",
    "plt.ylabel('True Negative Rate')\n",
    "roc_auc"
   ]
  },
  {
   "cell_type": "code",
   "execution_count": null,
   "metadata": {
    "collapsed": true
   },
   "outputs": [],
   "source": [
    "plt.figure('probability curve')\n",
    "plt.plot(calib_proba_points, calib_proba)"
   ]
  },
  {
   "cell_type": "code",
   "execution_count": null,
   "metadata": {
    "collapsed": true
   },
   "outputs": [],
   "source": [
    "plt.figure('Readout hists')\n",
    "plt.bar(proba_points-0.25, hists[0], width=0.05, label='|0>')\n",
    "plt.bar(proba_points+0.25, hists[1], width=0.05, label='|1>')\n",
    "plt.legend()"
   ]
  },
  {
   "cell_type": "code",
   "execution_count": null,
   "metadata": {
    "collapsed": true
   },
   "outputs": [],
   "source": [
    "plt.close()"
   ]
  },
  {
   "cell_type": "code",
   "execution_count": null,
   "metadata": {
    "collapsed": true
   },
   "outputs": [],
   "source": [
    "cal0_nomean.shape"
   ]
  },
  {
   "cell_type": "code",
   "execution_count": null,
   "metadata": {
    "collapsed": true
   },
   "outputs": [],
   "source": [
    "plt.figure(figsize=(12,3))\n",
    "plt.imshow(np.sum(np.real(np.reshape(cal0_nomean, (200, 100, 1024))), axis=0), cmap='RdBu')\n",
    "plt.figure(figsize=(12,3))\n",
    "plt.imshow(np.sum(np.real(np.reshape(cal1_nomean, (200, 100, 1024))), axis=0), cmap='RdBu')"
   ]
  },
  {
   "cell_type": "code",
   "execution_count": null,
   "metadata": {
    "collapsed": true
   },
   "outputs": [],
   "source": [
    "plt.plot(np.mean(cal0_nomean, axis=0))\n",
    "plt.plot(np.mean(cal1_nomean, axis=0))"
   ]
  },
  {
   "cell_type": "markdown",
   "metadata": {},
   "source": [
    "### extract samples from scan from their directories and put into a new directory"
   ]
  },
  {
   "cell_type": "code",
   "execution_count": null,
   "metadata": {
    "collapsed": true
   },
   "outputs": [],
   "source": [
    "import os\n",
    "import glob\n",
    "new_root = 'D:\\\\qtlab\\\\ReiData\\\\data\\\\2018-03-13\\\\Paramp-on-samples\\\\'\n",
    "path = 'D:\\\\qtlab\\\\ReiData\\\\data\\\\2018-03-13\\\\Paramp-on-samples\\\\day2\\\\*\\\\*.pkl'\n",
    "pickles = glob.glob(path)\n",
    "for pickle in pickles:\n",
    "    pickle_name = pickle[(pickle.rfind('\\\\')+1):]\n",
    "    amplitude = 0.05\n",
    "    pickle_renamed = pickle_name.replace('ro_dac_amiltude 1.00', 'ro_dac_amplitude {0:.2f}'.format(amplitude))\n",
    "    i = 0\n",
    "    while(os.path.exists(new_root+pickle_renamed)):\n",
    "        amplitude += 0.05\n",
    "        pickle_renamed = pickle_name.replace('ro_dac_amiltude 1.00', 'ro_dac_amplitude {0:.2f}'.format(amplitude))\n",
    "        i += 1 \n",
    "        if i> 100:\n",
    "            raise(Exception('infinite loop '+pickle_renamed))\n",
    "    #print (pickle_name)\n",
    "    os.rename(pickle, new_root+pickle_renamed)"
   ]
  },
  {
   "cell_type": "markdown",
   "metadata": {},
   "source": [
    "### zip samples"
   ]
  },
  {
   "cell_type": "code",
   "execution_count": null,
   "metadata": {
    "collapsed": true,
    "scrolled": true
   },
   "outputs": [],
   "source": [
    "import zipfile\n",
    "sources = 'D:\\\\qtlab\\\\ReiData\\\\data\\\\2018-03-13\\\\Paramp-on-samples\\\\*.pkl'\n",
    "pickles = glob.glob(sources)\n",
    "for pickle in pickles:\n",
    "    #pickle_name = pickle[(pickle.rfind('\\\\')+1):]\n",
    "    print (pickle)\n",
    "    zout = zipfile.ZipFile(pickle+'.zip', \"w\", zipfile.ZIP_DEFLATED)\n",
    "    zout.write(pickle)\n",
    "    zout.close()"
   ]
  },
  {
   "cell_type": "code",
   "execution_count": null,
   "metadata": {
    "collapsed": true
   },
   "outputs": [],
   "source": []
  }
 ],
 "metadata": {
  "kernelspec": {
   "display_name": "Python 3",
   "language": "python",
   "name": "python3"
  },
  "language_info": {
   "codemirror_mode": {
    "name": "ipython",
    "version": 3
   },
   "file_extension": ".py",
   "mimetype": "text/x-python",
   "name": "python",
   "nbconvert_exporter": "python",
   "pygments_lexer": "ipython3",
   "version": "3.6.3"
  }
 },
 "nbformat": 4,
 "nbformat_minor": 1
}
