{
 "cells": [
  {
   "cell_type": "code",
   "execution_count": 26,
   "metadata": {},
   "outputs": [],
   "source": [
    "from qsweepy import *\n",
    "from matplotlib.pyplot import * \n"
   ]
  },
  {
   "cell_type": "code",
   "execution_count": 3,
   "metadata": {},
   "outputs": [
    {
     "name": "stdout",
     "output_type": "stream",
     "text": [
      "D:\\qtlab_replacement\\qsweepy\\instrument.py 290 software_averages\n",
      "D:\\qtlab_replacement\\qsweepy\\instrument.py 290 software_nums_multi\n",
      "D:\\qtlab_replacement\\qsweepy\\instrument.py 290 timeout\n",
      "D:\\qtlab_replacement\\qsweepy\\instrument.py 290 trigger_delay\n",
      "D:\\qtlab_replacement\\qsweepy\\instrument.py 290 memsize\n",
      "D:\\qtlab_replacement\\qsweepy\\instrument.py 290 post_trigger\n",
      "D:\\qtlab_replacement\\qsweepy\\instrument.py 290 input_offset_ch0\n",
      "D:\\qtlab_replacement\\qsweepy\\instrument.py 290 input_offset_ch1\n",
      "D:\\qtlab_replacement\\qsweepy\\instrument.py 290 input_amp_ch0\n",
      "D:\\qtlab_replacement\\qsweepy\\instrument.py 290 input_amp_ch1\n",
      "D:\\qtlab_replacement\\qsweepy\\instrument.py 290 input_path_ch0\n",
      "D:\\qtlab_replacement\\qsweepy\\instrument.py 290 input_path_ch1\n",
      "D:\\qtlab_replacement\\qsweepy\\instrument.py 290 clock\n",
      "D:\\qtlab_replacement\\qsweepy\\instrument.py 290 reference_clock\n",
      "D:\\qtlab_replacement\\qsweepy\\instrument.py 290 nop\n",
      "D:\\qtlab_replacement\\qsweepy\\instrument.py 290 nums\n",
      "D:\\qtlab_replacement\\qsweepy\\instrument.py 290 loops\n",
      "D:\\qtlab_replacement\\qsweepy\\instrument.py 290 serial\n",
      "D:\\qtlab_replacement\\qsweepy\\instrument.py 290 ramsize\n",
      "D:\\qtlab_replacement\\qsweepy\\instrument.py 290 card_status\n"
     ]
    }
   ],
   "source": [
    "adc = instruments.Spectrum_M3i2132('adc')"
   ]
  },
  {
   "cell_type": "code",
   "execution_count": 32,
   "metadata": {},
   "outputs": [],
   "source": [
    "#Внутренний clock, без триггера\n",
    "adc.reset()\n",
    "#Установить sample rate\n",
    "adc.set_clock(500e6)\n",
    "#Выбрать канал (оба)\n",
    "adc.select_channel01()\n",
    "#Сегментированный режим\n",
    "#adc.set_multi_mode()\n",
    "#Настроить входнй диапазон в мв\n",
    "adc.set_input_amp_ch0(50)\n",
    "adc.set_input_amp_ch1(50)\n",
    "#adc.init_channel01_multiple_recording()\n",
    "\n",
    "adc.buffer_setup()\n",
    "#Померить\n",
    "adc.start_with_trigger_and_waitready()\n",
    "#Получить данные\n",
    "daq_buf = adc.readout_doublechannel_multimode_bin()\n",
    "adc.stop()"
   ]
  },
  {
   "cell_type": "code",
   "execution_count": 58,
   "metadata": {},
   "outputs": [],
   "source": [
    "#Внешний clock\n",
    "adc.reset()\n",
    "#Выбрать канал (оба)\n",
    "adc.select_channel01()\n",
    "#Установить sample rate\n",
    "adc.set_clock(500e6)\n",
    "#Установить импеданс входа clock\n",
    "adc.set_clock_50Ohm()\n",
    "#Включить внешнее тактирование, частота может отличаться от samplerate\n",
    "adc.set_ext_clock(10e6)\n",
    "#Сегментированный режим\n",
    "#adc.set_multi_mode()\n",
    "#Настроить входнй диапазон в мв\n",
    "adc.set_input_amp_ch0(50)\n",
    "adc.set_input_amp_ch1(50)\n",
    "#adc.init_channel01_multiple_recording()\n",
    "\n",
    "#adc.buffer_setup()\n",
    "#Померить\n",
    "adc.start_with_trigger_and_waitready()\n",
    "#Получить данные\n",
    "daq_buf = adc.readout_doublechannel_multimode_bin()\n",
    "adc.stop()\n"
   ]
  },
  {
   "cell_type": "code",
   "execution_count": 47,
   "metadata": {},
   "outputs": [
    {
     "data": {
      "text/plain": [
       "8192"
      ]
     },
     "execution_count": 47,
     "metadata": {},
     "output_type": "execute_result"
    }
   ],
   "source": [
    "len(daq_buf[0][0])"
   ]
  },
  {
   "cell_type": "code",
   "execution_count": 53,
   "metadata": {},
   "outputs": [
    {
     "data": {
      "image/png": "[encoded data removed]",
      "text/plain": [
       "<matplotlib.figure.Figure at 0x1fdadfe59e8>"
      ]
     },
     "metadata": {},
     "output_type": "display_data"
    }
   ],
   "source": [
    "plot(daq_buf[0][0])\n",
    "show()"
   ]
  },
  {
   "cell_type": "code",
   "execution_count": 49,
   "metadata": {},
   "outputs": [
    {
     "data": {
      "text/plain": [
       "50000000"
      ]
     },
     "execution_count": 49,
     "metadata": {},
     "output_type": "execute_result"
    }
   ],
   "source": [
    "adc.get_reference_clock()"
   ]
  },
  {
   "cell_type": "code",
   "execution_count": null,
   "metadata": {
    "collapsed": true
   },
   "outputs": [],
   "source": []
  }
 ],
 "metadata": {
  "kernelspec": {
   "display_name": "Python 3",
   "language": "python",
   "name": "python3"
  },
  "language_info": {
   "codemirror_mode": {
    "name": "ipython",
    "version": 3
   },
   "file_extension": ".py",
   "mimetype": "text/x-python",
   "name": "python",
   "nbconvert_exporter": "python",
   "pygments_lexer": "ipython3",
   "version": "3.6.3"
  }
 },
 "nbformat": 4,
 "nbformat_minor": 2
}
