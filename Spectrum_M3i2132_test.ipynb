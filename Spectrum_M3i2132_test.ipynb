{
 "cells": [
  {
   "cell_type": "code",
   "execution_count": 1,
   "metadata": {},
   "outputs": [
    {
     "name": "stdout",
     "output_type": "stream",
     "text": [
      "Failed loading module Spectrum_M4i22xx:  No module named 'qsweepy.instrument_drivers._Spectrum_M4i22xx'\n"
     ]
    }
   ],
   "source": [
    "from qsweepy import *\n",
    "from matplotlib.pyplot import * \n"
   ]
  },
  {
   "cell_type": "code",
   "execution_count": 2,
   "metadata": {},
   "outputs": [],
   "source": [
    "adc = instruments.Spectrum_M4i22x1('adc')"
   ]
  },
  {
   "cell_type": "code",
   "execution_count": 4,
   "metadata": {},
   "outputs": [],
   "source": [
    "adc.reset()\n",
    "#Установить sample rate\n",
    "adc.set_clock_mode('pxi')\n",
    "adc.set_clock(500e6)\n",
    "#Выбрать канал (оба)\n",
    "adc.select_channel01()\n",
    "adc.set_multi_mode()\n",
    "adc.buffer_setup()\n",
    "#Померить\n",
    "adc.start_with_trigger()\n",
    "#Получить данные\n",
    "daq_buf = adc.readout_doublechannel_multimode_float()\n",
    "adc.stop()"
   ]
  },
  {
   "cell_type": "code",
   "execution_count": 7,
   "metadata": {},
   "outputs": [
    {
     "data": {
      "text/plain": [
       "(array([[0., 0., 0., ..., 0., 0., 0.]]),\n",
       " array([[1.56862745, 0.        , 0.        , ..., 0.        , 0.        ,\n",
       "         0.        ]]))"
      ]
     },
     "execution_count": 7,
     "metadata": {},
     "output_type": "execute_result"
    }
   ],
   "source": [
    "daq_buf"
   ]
  },
  {
   "cell_type": "code",
   "execution_count": 8,
   "metadata": {},
   "outputs": [
    {
     "ename": "AttributeError",
     "evalue": "'Spectrum_M4i22x1' object has no attribute 'set_input_amp_ch0'",
     "output_type": "error",
     "traceback": [
      "\u001b[1;31m---------------------------------------------------------------------------\u001b[0m",
      "\u001b[1;31mAttributeError\u001b[0m                            Traceback (most recent call last)",
      "\u001b[1;32m<ipython-input-8-799c5a01651e>\u001b[0m in \u001b[0;36m<module>\u001b[1;34m()\u001b[0m\n\u001b[0;32m     13\u001b[0m \u001b[1;31m#adc.set_multi_mode()\u001b[0m\u001b[1;33m\u001b[0m\u001b[1;33m\u001b[0m\u001b[0m\n\u001b[0;32m     14\u001b[0m \u001b[1;31m#Настроить входнй диапазон в мв\u001b[0m\u001b[1;33m\u001b[0m\u001b[1;33m\u001b[0m\u001b[0m\n\u001b[1;32m---> 15\u001b[1;33m \u001b[0madc\u001b[0m\u001b[1;33m.\u001b[0m\u001b[0mset_input_amp_ch0\u001b[0m\u001b[1;33m(\u001b[0m\u001b[1;36m200\u001b[0m\u001b[1;33m)\u001b[0m\u001b[1;33m\u001b[0m\u001b[0m\n\u001b[0m\u001b[0;32m     16\u001b[0m \u001b[0madc\u001b[0m\u001b[1;33m.\u001b[0m\u001b[0mset_input_amp_ch1\u001b[0m\u001b[1;33m(\u001b[0m\u001b[1;36m200\u001b[0m\u001b[1;33m)\u001b[0m\u001b[1;33m\u001b[0m\u001b[0m\n\u001b[0;32m     17\u001b[0m \u001b[1;31m#adc.init_channel01_multiple_recording()\u001b[0m\u001b[1;33m\u001b[0m\u001b[1;33m\u001b[0m\u001b[0m\n",
      "\u001b[1;31mAttributeError\u001b[0m: 'Spectrum_M4i22x1' object has no attribute 'set_input_amp_ch0'"
     ]
    }
   ],
   "source": [
    "#Внешний clock\n",
    "adc.reset()\n",
    "#Выбрать канал (оба)\n",
    "adc.select_channel01()\n",
    "#Установить sample rate\n",
    "adc.set_clock(500e6)\n",
    "adc._set_param(instruments.SPC_CLOCKMODE, instruments.SPC_CM_PXIREFCLOCK)\n",
    "#Установить импеданс входа clock\n",
    "#adc.set_clock_50Ohm()\n",
    "#Включить внешнее тактирование, частота может отличаться от samplerate\n",
    "#adc.set_ext_clock(10e6)\n",
    "#Сегментированный режим\n",
    "#adc.set_multi_mode()\n",
    "#Настроить входнй диапазон в мв\n",
    "adc.set_input_amp_ch0(200)\n",
    "adc.set_input_amp_ch1(200)\n",
    "#adc.init_channel01_multiple_recording()\n",
    "adc.set_trigger_ext0()\n",
    "#adc.buffer_setup()\n",
    "#Померить\n",
    "adc.start_with_trigger_and_waitready()\n",
    "#Получить данные\n",
    "daq_buf = adc.readout_doublechannel_multimode_float()\n",
    "adc.stop()\n"
   ]
  },
  {
   "cell_type": "code",
   "execution_count": null,
   "metadata": {},
   "outputs": [],
   "source": [
    "adc.init_channel01_multiple_recording()"
   ]
  },
  {
   "cell_type": "code",
   "execution_count": 9,
   "metadata": {},
   "outputs": [
    {
     "ename": "AttributeError",
     "evalue": "'Spectrum_M4i22x1' object has no attribute 'start_with_trigger_and_waitready'",
     "output_type": "error",
     "traceback": [
      "\u001b[1;31m---------------------------------------------------------------------------\u001b[0m",
      "\u001b[1;31mAttributeError\u001b[0m                            Traceback (most recent call last)",
      "\u001b[1;32m<ipython-input-9-e5511c44f413>\u001b[0m in \u001b[0;36m<module>\u001b[1;34m()\u001b[0m\n\u001b[1;32m----> 1\u001b[1;33m \u001b[0madc\u001b[0m\u001b[1;33m.\u001b[0m\u001b[0mstart_with_trigger_and_waitready\u001b[0m\u001b[1;33m(\u001b[0m\u001b[1;33m)\u001b[0m\u001b[1;33m\u001b[0m\u001b[0m\n\u001b[0m\u001b[0;32m      2\u001b[0m \u001b[0madc\u001b[0m\u001b[1;33m.\u001b[0m\u001b[0mreadout_doublechannel_multimode_float\u001b[0m\u001b[1;33m(\u001b[0m\u001b[1;33m)\u001b[0m\u001b[1;33m\u001b[0m\u001b[0m\n",
      "\u001b[1;31mAttributeError\u001b[0m: 'Spectrum_M4i22x1' object has no attribute 'start_with_trigger_and_waitready'"
     ]
    }
   ],
   "source": [
    "adc.start_with_trigger_and_waitready()\n",
    "adc.readout_doublechannel_multimode_float()"
   ]
  },
  {
   "cell_type": "code",
   "execution_count": 10,
   "metadata": {},
   "outputs": [
    {
     "name": "stdout",
     "output_type": "stream",
     "text": [
      "Using matplotlib backend: Qt5Agg\n"
     ]
    }
   ],
   "source": [
    "%matplotlib\n",
    "plot(daq_buf[0][0])\n",
    "show()"
   ]
  },
  {
   "cell_type": "code",
   "execution_count": 49,
   "metadata": {},
   "outputs": [
    {
     "data": {
      "text/plain": [
       "50000000"
      ]
     },
     "execution_count": 49,
     "metadata": {},
     "output_type": "execute_result"
    }
   ],
   "source": [
    "adc.get_reference_clock()"
   ]
  },
  {
   "cell_type": "code",
   "execution_count": null,
   "metadata": {
    "collapsed": true
   },
   "outputs": [],
   "source": []
  }
 ],
 "metadata": {
  "kernelspec": {
   "display_name": "Python 3",
   "language": "python",
   "name": "python3"
  },
  "language_info": {
   "codemirror_mode": {
    "name": "ipython",
    "version": 3
   },
   "file_extension": ".py",
   "mimetype": "text/x-python",
   "name": "python",
   "nbconvert_exporter": "python",
   "pygments_lexer": "ipython3",
   "version": "3.6.5"
  },
  "toc": {
   "base_numbering": 1,
   "nav_menu": {},
   "number_sections": true,
   "sideBar": true,
   "skip_h1_title": false,
   "title_cell": "Table of Contents",
   "title_sidebar": "Contents",
   "toc_cell": false,
   "toc_position": {},
   "toc_section_display": true,
   "toc_window_display": false
  }
 },
 "nbformat": 4,
 "nbformat_minor": 2
}
