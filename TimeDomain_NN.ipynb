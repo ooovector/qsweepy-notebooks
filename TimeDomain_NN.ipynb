{
 "cells": [
  {
   "cell_type": "markdown",
   "metadata": {},
   "source": [
    "# Initializing QTLab stuff"
   ]
  },
  {
   "cell_type": "code",
   "execution_count": 1,
   "metadata": {
    "collapsed": true
   },
   "outputs": [],
   "source": [
    "%run D:\\qtlab_replacement\\init.py\n",
    "%matplotlib qt4\n",
    "import matplotlib.pyplot as plt\n",
    "from instruments import *\n",
    "import numpy as np\n",
    "import sweep\n",
    "import pandas as pd\n",
    "from save_pkl import *"
   ]
  },
  {
   "cell_type": "code",
   "execution_count": 2,
   "metadata": {},
   "outputs": [
    {
     "name": "stderr",
     "output_type": "stream",
     "text": [
      "root: WARNING  Tektronix_AWG5014 : get all not yet fully functional\n"
     ]
    }
   ],
   "source": [
    "pna = Agilent_N5242A('pna', address = 'PNA')\n",
    "pxa = Agilent_N9030A('pxa', address = 'PXA')\n",
    "lo1 = Agilent_E8257D('lo1', address = 'PSG1')\n",
    "awg_tek = Tektronix_AWG5014('awg_tek', address = 'TCPIP0::10.20.61.186::inst0::INSTR')"
   ]
  },
  {
   "cell_type": "code",
   "execution_count": 3,
   "metadata": {
    "collapsed": true
   },
   "outputs": [],
   "source": [
    "#DAC Говоркова 14бит, 500MS, 1.5V на 50 ом?\n",
    "#Выдаёт TRIG на SYNC0 и CLK на С3 для daq0\n",
    "#Если виснет наглухо, нажать в USB Tree View \"Restart device\"\n",
    "#Если делает фигню вместо сигнала (бывает часто), то просто перезапустить ядро и всё остальное\n",
    "#Каналы DAC Говоркова\n",
    "awg_ex = awg_tek\n",
    "awg_ex_I_ch = 1\n",
    "awg_ex_Q_ch = 2\n",
    "#Каналы Tektronix\n",
    "awg_ro = awg_tek\n",
    "awg_ro_I_ch = 3\n",
    "awg_ro_Q_ch = 4"
   ]
  },
  {
   "cell_type": "code",
   "execution_count": 96,
   "metadata": {
    "collapsed": true
   },
   "outputs": [],
   "source": [
    "#Включаем всё что надо и выключаем всё что не надо\n",
    "awg_ch_on = [awg_ro_I_ch, awg_ro_Q_ch]\n",
    "awg_ch_off = [ch_id for ch_id in range(7) if ch_id not in awg_ch_on]\n",
    "\n",
    "for ch_id in awg_ch_off:\n",
    "    ch_settings = awg.get_channel_settings(ch_id)\n",
    "    ch_settings['on'] = False\n",
    "    awg.set_channel_settings(ch_id, ch_settings)\n",
    "\n",
    "for ch_id in awg_ch_on:\n",
    "    ch_settings = awg.get_channel_settings(ch_id)\n",
    "    ch_settings['on'] = True\n",
    "    ch_settings['slow'] = 0\n",
    "    ch_settings['mode'] = 'ram'\n",
    "    ch_settings['delay'] = 0\n",
    "    awg.set_channel_settings(ch_id, ch_settings)\n",
    "#хз что\n",
    "awg.ProgTimer(awg.intToBytes([0xfc, 0]))\n",
    "#1 триггер на один период сигнала\n",
    "awg.set_trigger_repeats(1)\n",
    "#Выход триггера\n",
    "awg.set_trigger_pulse(\"SYNC0\", awg.create_delayed_trigger_pulse(1.) )\n",
    "awg.set_trigger_pulse(\"SYNC3\", awg.create_delayed_trigger_pulse(1.) )"
   ]
  },
  {
   "cell_type": "code",
   "execution_count": 97,
   "metadata": {},
   "outputs": [
    {
     "data": {
      "text/plain": [
       "True"
      ]
     },
     "execution_count": 97,
     "metadata": {},
     "output_type": "execute_result"
    }
   ],
   "source": [
    "awg_tek.set_ch1_amplitude(2)\n",
    "awg_tek.set_ch2_amplitude(2)"
   ]
  },
  {
   "cell_type": "code",
   "execution_count": 98,
   "metadata": {},
   "outputs": [
    {
     "data": {
      "text/plain": [
       "True"
      ]
     },
     "execution_count": 98,
     "metadata": {},
     "output_type": "execute_result"
    }
   ],
   "source": [
    "# Источник тока - в autorange\n",
    "#current.set_autorange(1)\n",
    "#Мощности гетеродинов, постоянные\n",
    "#Мощность гетеродина для возбуждения 13-16 дБм\n",
    "lo_ex_pow = 14\n",
    "lo1.set_status(0)\n",
    "lo1.set_power(lo_ex_pow)\n",
    "#pna как lo2 (excitation)\n",
    "#Port1 - выход\n",
    "#Мощность гетеродина для считывания 10-13 дБм, с учётом разветвителя 13-16 dBm\n",
    "lo_ro_pow = 16\n",
    "pna.write(\"OUTP ON\")\n",
    "pna.write(\"SOUR1:POW1:MODE ON\")\n",
    "pna.write(\"SOUR1:POW2:MODE OFF\")\n",
    "pna.set_sweep_mode(\"CW\")\n",
    "pna.set_power(lo_ro_pow)"
   ]
  },
  {
   "cell_type": "code",
   "execution_count": 99,
   "metadata": {
    "collapsed": true
   },
   "outputs": [],
   "source": [
    "#Частоты считывания и возбуждения\n",
    "ex_freq = 6.611e9\n",
    "\n",
    "ro_freq =  9.525e9 #ph\n",
    "#ro_freq = 7.595e9#amp\n",
    "#ro_freq = 7.6009e9\n",
    "#ro_freq = 7.6024e9#cent\n",
    "\n",
    "\n",
    "#Промежуточные частоты, постоянны.\n",
    "ro_if = 62.5e6\n",
    "ex_if = 125e6\n",
    "\n",
    "#Амплитуда I/Q сигналов с awg\n",
    "#Максимальная амплитуда awg 8000, дальше искажения, теоретически 8192\n",
    "#8000 = 750 mV на 50 ом = 10.5 dbm\n",
    "#Смесители имеют 1 дБ компрессию при 5 дБм = 4234, так что больше лучше не ставить\n",
    "awg_amp_ro = 5000\n",
    "awg_amp_ex = 8000\n",
    "#Задержка сигнала *2e-9\n",
    "zero_delay = 38\n",
    "\n",
    "#Чачтоты гетеродина\n",
    "ex_lo_freq = ex_freq + ex_if\n",
    "ro_lo_freq = ro_freq + ro_if"
   ]
  },
  {
   "cell_type": "code",
   "execution_count": 100,
   "metadata": {},
   "outputs": [
    {
     "name": "stderr",
     "output_type": "stream",
     "text": [
      "WARNING:root:Tektronix_AWG5014 : Clock set to 1000000000.0. This is not fully functional yet. To avoid problems, it is better not to change the clock during operation\n",
      "root: WARNING  Tektronix_AWG5014 : Clock set to 1000000000.0. This is not fully functional yet. To avoid problems, it is better not to change the clock during operation\n"
     ]
    },
    {
     "data": {
      "text/plain": [
       "True"
      ]
     },
     "execution_count": 100,
     "metadata": {},
     "output_type": "execute_result"
    }
   ],
   "source": [
    "#DAQ карта Spectrum M3i2132, daq0\n",
    "#Внешний триггер, внешнее тактирование от awg\n",
    "SampleRate_ro = 500e6\n",
    "SampleRate_ex = 1000e6\n",
    "M3i2132_init(daq0, SampleRate_ro)\n",
    "awg_tek.set_clock(SampleRate_ex)"
   ]
  },
  {
   "cell_type": "markdown",
   "metadata": {},
   "source": [
    "#Heterodyne Calibrate IQ mixers"
   ]
  },
  {
   "cell_type": "code",
   "execution_count": 101,
   "metadata": {
    "scrolled": true
   },
   "outputs": [
    {
     "name": "stdout",
     "output_type": "stream",
     "text": [
      "125000000.0\n",
      "{1: {'A': 8000, 'F': 125000000.0, 'O': 0, 'delay': 0, 'P': 0, 'synced': True, 'O0': 0}, 2: {'A': 8000, 'F': 125000000.0, 'O': 0, 'delay': 0, 'P': -1.5707963267948966, 'synced': True, 'O0': 0}}\n",
      "[ 0.08975827  0.09004875  0.08869433]\n",
      "{1: {'A': 8000, 'F': 125000000.0, 'O': 0, 'delay': 0, 'P': 0, 'synced': True, 'O0': 0}, 2: {'A': 8000, 'F': 125000000.0, 'O': 0, 'delay': 0, 'P': -0.52359877559829915, 'synced': True, 'O0': 0}}\n",
      "[ 0.09032169  0.09032125  0.08820986]\n",
      "{1: {'A': 8000, 'F': 125000000.0, 'O': 0, 'delay': 0, 'P': 0, 'synced': True, 'O0': 0}, 2: {'A': 8000, 'F': 125000000.0, 'O': 0, 'delay': 0, 'P': 0.5235987755982987, 'synced': True, 'O0': 0}}\n",
      "[ 0.0908809   0.09021071  0.08935112]\n",
      "{1: {'A': 8000, 'F': 125000000.0, 'O': 0, 'delay': 0, 'P': 0, 'synced': True, 'O0': 0}, 2: {'A': 8000, 'F': 125000000.0, 'O': 0, 'delay': 0, 'P': 1.5707963267948966, 'synced': True, 'O0': 0}}\n",
      "[ 0.09080539  0.0911336   0.08830724]\n",
      "{1: {'A': 8000, 'F': 125000000.0, 'O': 0, 'delay': 0, 'P': 0, 'synced': True, 'O0': 0}, 2: {'A': 8000, 'F': 125000000.0, 'O': 0, 'delay': 0, 'P': 2.617993877991494, 'synced': True, 'O0': 0}}\n",
      "[ 0.09039242  0.08993064  0.08872224]\n",
      "{1: {'A': 8000, 'F': 125000000.0, 'O': 0, 'delay': 0, 'P': 0, 'synced': True, 'O0': 0}, 2: {'A': 8000, 'F': 125000000.0, 'O': 0, 'delay': 0, 'P': 3.6651914291880914, 'synced': True, 'O0': 0}}\n",
      "[ 0.00271639  0.00275152  0.00274569]\n",
      "{1: {'A': 8000, 'F': 125000000.0, 'O': 0, 'delay': 0, 'P': 0, 'synced': True, 'O0': 0}, 2: {'A': 8000, 'F': 125000000.0, 'O': 0, 'delay': 0, 'P': 4.7123889803846897, 'synced': True, 'O0': 0}}\n",
      "[ 0.96251491  0.95602603  0.95348829]\n",
      "{1: {'A': 8000, 'F': 125000000.0, 'O': 0, 'delay': 0, 'P': 0, 'synced': True, 'O0': 0}, 2: {'A': 8000, 'F': 125000000.0, 'O': 0, 'delay': -1e-08, 'P': 4.7123889803846897, 'synced': True, 'O0': 0}}\n",
      "[ 0.96433337  0.95878145  0.9531078 ]\n",
      "{1: {'A': 8000, 'F': 125000000.0, 'O': 0, 'delay': 0, 'P': 0, 'synced': True, 'O0': 0}, 2: {'A': 8000, 'F': 125000000.0, 'O': 0, 'delay': -6.6666666666666668e-09, 'P': 4.7123889803846897, 'synced': True, 'O0': 0}}\n",
      "[ 0.95876108  0.9530288   0.95215136]\n"
     ]
    },
    {
     "ename": "KeyboardInterrupt",
     "evalue": "",
     "output_type": "error",
     "traceback": [
      "\u001b[1;31m---------------------------------------------------------------------------\u001b[0m",
      "\u001b[1;31mKeyboardInterrupt\u001b[0m                         Traceback (most recent call last)",
      "\u001b[1;32m<ipython-input-101-9f9da1681ac0>\u001b[0m in \u001b[0;36m<module>\u001b[1;34m()\u001b[0m\n\u001b[0;32m     21\u001b[0m     \u001b[0mawg_ex\u001b[0m\u001b[1;33m.\u001b[0m\u001b[0mrun\u001b[0m\u001b[1;33m(\u001b[0m\u001b[1;33m)\u001b[0m\u001b[1;33m\u001b[0m\u001b[0m\n\u001b[0;32m     22\u001b[0m     \u001b[1;31m#Функция меняет период повторения AWG. Если чё.\u001b[0m\u001b[1;33m\u001b[0m\u001b[1;33m\u001b[0m\u001b[0m\n\u001b[1;32m---> 23\u001b[1;33m     \u001b[0msettings_ex\u001b[0m\u001b[1;33m,\u001b[0m \u001b[0mD2_estimates\u001b[0m\u001b[1;33m,\u001b[0m \u001b[0msnr_last_ex\u001b[0m \u001b[1;33m=\u001b[0m \u001b[0mIQCalibrate2\u001b[0m\u001b[1;33m(\u001b[0m\u001b[0mpxa\u001b[0m\u001b[1;33m,\u001b[0m \u001b[0mawg_ex\u001b[0m\u001b[1;33m,\u001b[0m \u001b[0mex_lo_freq\u001b[0m\u001b[1;33m,\u001b[0m \u001b[0mawg_amp_ex\u001b[0m\u001b[1;33m,\u001b[0m \u001b[0mex_if\u001b[0m\u001b[1;33m,\u001b[0m \u001b[1;36m1.0e-6\u001b[0m\u001b[1;33m,\u001b[0m                                             \u001b[0mawg_ex_I_ch\u001b[0m\u001b[1;33m,\u001b[0m \u001b[0mawg_ex_Q_ch\u001b[0m\u001b[1;33m,\u001b[0m \u001b[0madaptive\u001b[0m\u001b[1;33m=\u001b[0m\u001b[0mTrue\u001b[0m\u001b[1;33m,\u001b[0m \u001b[0msample_period\u001b[0m \u001b[1;33m=\u001b[0m \u001b[1;36m1.\u001b[0m\u001b[1;33m/\u001b[0m\u001b[0mSampleRate_ex\u001b[0m\u001b[1;33m)\u001b[0m\u001b[1;33m\u001b[0m\u001b[0m\n\u001b[0m\u001b[0;32m     24\u001b[0m     \u001b[0mawg_ex\u001b[0m\u001b[1;33m.\u001b[0m\u001b[0mset_trigger_mode\u001b[0m\u001b[1;33m(\u001b[0m\u001b[1;34m'TRIG'\u001b[0m\u001b[1;33m)\u001b[0m\u001b[1;33m\u001b[0m\u001b[0m\n\u001b[0;32m     25\u001b[0m \u001b[1;32mif\u001b[0m \u001b[0mtarget\u001b[0m \u001b[1;33m==\u001b[0m \u001b[1;34m\"both\"\u001b[0m \u001b[1;32mor\u001b[0m \u001b[0mtarget\u001b[0m \u001b[1;33m==\u001b[0m \u001b[1;34m\"ro\"\u001b[0m\u001b[1;33m:\u001b[0m\u001b[1;33m\u001b[0m\u001b[0m\n",
      "\u001b[1;32mc:\\qtlab\\ReiData\\qtlab_addons\\scripts\\IQCalibrate.py\u001b[0m in \u001b[0;36mIQCalibrate2\u001b[1;34m(pxa, awg, lo_freq, if_amplitude, if_freq, if_length, awg_channel_I, awg_channel_Q, global_it_num, rf_it_num, dc_it_num, adaptive, D2_level, D2_estimates, settings, snr_current, reprate, sample_period)\u001b[0m\n\u001b[0;32m    218\u001b[0m                 \u001b[0msettings\u001b[0m\u001b[1;33m[\u001b[0m\u001b[0mawg_channel_Q\u001b[0m\u001b[1;33m]\u001b[0m\u001b[1;33m[\u001b[0m\u001b[1;34m'synced'\u001b[0m\u001b[1;33m]\u001b[0m \u001b[1;33m=\u001b[0m \u001b[0mFalse\u001b[0m\u001b[1;33m\u001b[0m\u001b[0m\n\u001b[0;32m    219\u001b[0m                 \u001b[0mharmonics\u001b[0m\u001b[1;33m,\u001b[0m \u001b[0mnoise\u001b[0m\u001b[1;33m,\u001b[0m \u001b[0msnr\u001b[0m\u001b[1;33m[\u001b[0m\u001b[0mdelay_id\u001b[0m\u001b[1;33m]\u001b[0m\u001b[1;33m,\u001b[0m \u001b[0msnr_error_estimate\u001b[0m\u001b[1;33m[\u001b[0m\u001b[0mdelay_id\u001b[0m\u001b[1;33m]\u001b[0m \u001b[1;33m=\u001b[0m\u001b[0;31m \u001b[0m\u001b[0;31m\\\u001b[0m\u001b[1;33m\u001b[0m\u001b[0m\n\u001b[1;32m--> 220\u001b[1;33m                     \u001b[0mIQCalibrate_sidebands\u001b[0m\u001b[1;33m(\u001b[0m\u001b[0mpxa\u001b[0m\u001b[1;33m,\u001b[0m \u001b[0mawg\u001b[0m\u001b[1;33m,\u001b[0m \u001b[0msettings\u001b[0m\u001b[1;33m,\u001b[0m \u001b[0mif_length\u001b[0m\u001b[1;33m,\u001b[0m \u001b[0mharmonic_freqs\u001b[0m\u001b[1;33m,\u001b[0m \u001b[0mtarget_harmonic_id\u001b[0m\u001b[1;33m,\u001b[0m \u001b[0mreprate\u001b[0m\u001b[1;33m,\u001b[0m \u001b[0msample_period\u001b[0m\u001b[1;33m=\u001b[0m\u001b[0msample_period\u001b[0m\u001b[1;33m)\u001b[0m\u001b[1;33m\u001b[0m\u001b[0m\n\u001b[0m\u001b[0;32m    221\u001b[0m             \u001b[1;32mif\u001b[0m \u001b[1;33m(\u001b[0m\u001b[0mnp\u001b[0m\u001b[1;33m.\u001b[0m\u001b[0margmax\u001b[0m\u001b[1;33m(\u001b[0m\u001b[0msnr\u001b[0m\u001b[1;33m)\u001b[0m \u001b[1;33m!=\u001b[0m \u001b[1;36m0\u001b[0m \u001b[1;32mand\u001b[0m \u001b[0mnp\u001b[0m\u001b[1;33m.\u001b[0m\u001b[0margmax\u001b[0m\u001b[1;33m(\u001b[0m\u001b[0msnr\u001b[0m\u001b[1;33m)\u001b[0m \u001b[1;33m!=\u001b[0m \u001b[0msnr\u001b[0m\u001b[1;33m.\u001b[0m\u001b[0msize\u001b[0m\u001b[1;33m-\u001b[0m\u001b[1;36m1\u001b[0m\u001b[1;33m)\u001b[0m\u001b[1;33m:\u001b[0m\u001b[1;33m\u001b[0m\u001b[0m\n\u001b[0;32m    222\u001b[0m                 \u001b[1;32mif\u001b[0m \u001b[0mnp\u001b[0m\u001b[1;33m.\u001b[0m\u001b[0mabs\u001b[0m\u001b[1;33m(\u001b[0m\u001b[0mnp\u001b[0m\u001b[1;33m.\u001b[0m\u001b[0mdiff\u001b[0m\u001b[1;33m(\u001b[0m\u001b[0mnp\u001b[0m\u001b[1;33m.\u001b[0m\u001b[0mdiff\u001b[0m\u001b[1;33m(\u001b[0m\u001b[0msnr\u001b[0m\u001b[1;33m)\u001b[0m\u001b[1;33m)\u001b[0m\u001b[1;33m[\u001b[0m\u001b[0mnp\u001b[0m\u001b[1;33m.\u001b[0m\u001b[0margmax\u001b[0m\u001b[1;33m(\u001b[0m\u001b[0msnr\u001b[0m\u001b[1;33m)\u001b[0m\u001b[1;33m-\u001b[0m\u001b[1;36m1\u001b[0m\u001b[1;33m]\u001b[0m\u001b[1;33m)\u001b[0m\u001b[1;33m>\u001b[0m\u001b[1;36m8\u001b[0m\u001b[1;33m*\u001b[0m\u001b[0msnr_error_estimate\u001b[0m\u001b[1;33m[\u001b[0m\u001b[0mnp\u001b[0m\u001b[1;33m.\u001b[0m\u001b[0margmax\u001b[0m\u001b[1;33m(\u001b[0m\u001b[0msnr\u001b[0m\u001b[1;33m)\u001b[0m\u001b[1;33m]\u001b[0m\u001b[1;33m:\u001b[0m\u001b[1;33m\u001b[0m\u001b[0m\n",
      "\u001b[1;32mc:\\qtlab\\ReiData\\qtlab_addons\\scripts\\IQCalibrate.py\u001b[0m in \u001b[0;36mIQCalibrate_sidebands\u001b[1;34m(pxa, awg, settings, if_length, harmonic_freqs, target_harmonic_id, reprate, max_error_snr, delay, sample_period)\u001b[0m\n\u001b[0;32m    120\u001b[0m         \u001b[1;32mfor\u001b[0m \u001b[0mtrail_id\u001b[0m \u001b[1;32min\u001b[0m \u001b[0mrange\u001b[0m\u001b[1;33m(\u001b[0m\u001b[1;36m0\u001b[0m\u001b[1;33m,\u001b[0m\u001b[0mtrial_num\u001b[0m\u001b[1;33m)\u001b[0m\u001b[1;33m:\u001b[0m\u001b[1;33m\u001b[0m\u001b[0m\n\u001b[0;32m    121\u001b[0m             \u001b[0mpxa\u001b[0m\u001b[1;33m.\u001b[0m\u001b[0mset_centerfreq\u001b[0m\u001b[1;33m(\u001b[0m\u001b[0mharmonic_freq\u001b[0m\u001b[1;33m)\u001b[0m\u001b[1;33m\u001b[0m\u001b[0m\n\u001b[1;32m--> 122\u001b[1;33m             \u001b[0mpxadata\u001b[0m \u001b[1;33m=\u001b[0m \u001b[0mpxa\u001b[0m\u001b[1;33m.\u001b[0m\u001b[0mget_tracedata\u001b[0m\u001b[1;33m(\u001b[0m\u001b[1;33m)\u001b[0m\u001b[1;33m\u001b[0m\u001b[0m\n\u001b[0m\u001b[0;32m    123\u001b[0m             \u001b[0mxdata\u001b[0m \u001b[1;33m=\u001b[0m \u001b[0mpxadata\u001b[0m\u001b[1;33m[\u001b[0m\u001b[1;36m0\u001b[0m\u001b[1;33m]\u001b[0m\u001b[1;33m\u001b[0m\u001b[0m\n\u001b[0;32m    124\u001b[0m             \u001b[0mspectrum\u001b[0m \u001b[1;33m=\u001b[0m \u001b[1;36m10\u001b[0m\u001b[1;33m**\u001b[0m\u001b[1;33m(\u001b[0m\u001b[0mnp\u001b[0m\u001b[1;33m.\u001b[0m\u001b[0masarray\u001b[0m\u001b[1;33m(\u001b[0m\u001b[0mpxadata\u001b[0m\u001b[1;33m[\u001b[0m\u001b[1;36m1\u001b[0m\u001b[1;33m]\u001b[0m\u001b[1;33m)\u001b[0m\u001b[1;33m/\u001b[0m\u001b[1;36m10\u001b[0m\u001b[1;33m)\u001b[0m\u001b[1;33m\u001b[0m\u001b[0m\n",
      "\u001b[1;32mC:\\qtlab\\qtlab-15a460b_with config and 3rdparty\\instrument_plugins\\Agilent_N9030A.pyc\u001b[0m in \u001b[0;36mget_tracedata\u001b[1;34m(self, format)\u001b[0m\n\u001b[0;32m    195\u001b[0m         \u001b[1;31m#data = self._visainstrument.ask_for_values('FORM:DATA REAL; FORM:BORD SWAPPED; CALC%i:SEL:DATA:SDAT?'%(self._ci), format = visa.double)\u001b[0m\u001b[1;33m\u001b[0m\u001b[1;33m\u001b[0m\u001b[0m\n\u001b[0;32m    196\u001b[0m         \u001b[1;31m#test\u001b[0m\u001b[1;33m\u001b[0m\u001b[1;33m\u001b[0m\u001b[0m\n\u001b[1;32m--> 197\u001b[1;33m         \u001b[0mdata\u001b[0m \u001b[1;33m=\u001b[0m \u001b[0mself\u001b[0m\u001b[1;33m.\u001b[0m\u001b[0m_visainstrument\u001b[0m\u001b[1;33m.\u001b[0m\u001b[0mask_for_values\u001b[0m\u001b[1;33m(\u001b[0m \u001b[1;34m\"CALCulate:DATA?\"\u001b[0m\u001b[1;33m,\u001b[0m\u001b[0mformat\u001b[0m \u001b[1;33m=\u001b[0m \u001b[0mvisa\u001b[0m\u001b[1;33m.\u001b[0m\u001b[0msingle\u001b[0m\u001b[1;33m)\u001b[0m\u001b[1;33m\u001b[0m\u001b[0m\n\u001b[0m\u001b[0;32m    198\u001b[0m         \u001b[0mdata_size\u001b[0m \u001b[1;33m=\u001b[0m \u001b[0mnumpy\u001b[0m\u001b[1;33m.\u001b[0m\u001b[0msize\u001b[0m\u001b[1;33m(\u001b[0m\u001b[0mdata\u001b[0m\u001b[1;33m)\u001b[0m\u001b[1;33m\u001b[0m\u001b[0m\n\u001b[0;32m    199\u001b[0m         \u001b[0mdatax\u001b[0m \u001b[1;33m=\u001b[0m \u001b[0mnumpy\u001b[0m\u001b[1;33m.\u001b[0m\u001b[0marray\u001b[0m\u001b[1;33m(\u001b[0m\u001b[0mdata\u001b[0m\u001b[1;33m[\u001b[0m\u001b[1;36m0\u001b[0m\u001b[1;33m:\u001b[0m\u001b[0mdata_size\u001b[0m\u001b[1;33m:\u001b[0m\u001b[1;36m2\u001b[0m\u001b[1;33m]\u001b[0m\u001b[1;33m)\u001b[0m\u001b[1;33m\u001b[0m\u001b[0m\n",
      "\u001b[1;32mC:\\Python27\\Lib\\site-packages\\pyvisa\\visa.pyc\u001b[0m in \u001b[0;36mask_for_values\u001b[1;34m(self, message, format)\u001b[0m\n\u001b[0;32m    504\u001b[0m         \u001b[1;34m\"\"\"A combination of write(message) and read_values()\"\"\"\u001b[0m\u001b[1;33m\u001b[0m\u001b[0m\n\u001b[0;32m    505\u001b[0m         \u001b[0mself\u001b[0m\u001b[1;33m.\u001b[0m\u001b[0mwrite\u001b[0m\u001b[1;33m(\u001b[0m\u001b[0mmessage\u001b[0m\u001b[1;33m)\u001b[0m\u001b[1;33m\u001b[0m\u001b[0m\n\u001b[1;32m--> 506\u001b[1;33m         \u001b[1;32mreturn\u001b[0m \u001b[0mself\u001b[0m\u001b[1;33m.\u001b[0m\u001b[0mread_values\u001b[0m\u001b[1;33m(\u001b[0m\u001b[0mformat\u001b[0m\u001b[1;33m)\u001b[0m\u001b[1;33m\u001b[0m\u001b[0m\n\u001b[0m\u001b[0;32m    507\u001b[0m     \u001b[1;32mdef\u001b[0m \u001b[0mclear\u001b[0m\u001b[1;33m(\u001b[0m\u001b[0mself\u001b[0m\u001b[1;33m)\u001b[0m\u001b[1;33m:\u001b[0m\u001b[1;33m\u001b[0m\u001b[0m\n\u001b[0;32m    508\u001b[0m         \u001b[1;34m\"\"\"Resets the device.  This operation is highly bus-dependent.\"\"\"\u001b[0m\u001b[1;33m\u001b[0m\u001b[0m\n",
      "\u001b[1;32mC:\\Python27\\Lib\\site-packages\\pyvisa\\visa.pyc\u001b[0m in \u001b[0;36mread_values\u001b[1;34m(self, format)\u001b[0m\n\u001b[0;32m    456\u001b[0m         \u001b[0mself\u001b[0m\u001b[1;33m.\u001b[0m\u001b[0mterm_chars\u001b[0m \u001b[1;33m=\u001b[0m \u001b[1;34m\"\"\u001b[0m\u001b[1;33m\u001b[0m\u001b[0m\n\u001b[0;32m    457\u001b[0m         \u001b[1;32mtry\u001b[0m\u001b[1;33m:\u001b[0m\u001b[1;33m\u001b[0m\u001b[0m\n\u001b[1;32m--> 458\u001b[1;33m             \u001b[0mdata\u001b[0m \u001b[1;33m=\u001b[0m \u001b[0mself\u001b[0m\u001b[1;33m.\u001b[0m\u001b[0mread_raw\u001b[0m\u001b[1;33m(\u001b[0m\u001b[1;33m)\u001b[0m\u001b[1;33m\u001b[0m\u001b[0m\n\u001b[0m\u001b[0;32m    459\u001b[0m         \u001b[1;32mfinally\u001b[0m\u001b[1;33m:\u001b[0m\u001b[1;33m\u001b[0m\u001b[0m\n\u001b[0;32m    460\u001b[0m             \u001b[0mself\u001b[0m\u001b[1;33m.\u001b[0m\u001b[0mterm_chars\u001b[0m \u001b[1;33m=\u001b[0m \u001b[0moriginal_term_chars\u001b[0m\u001b[1;33m\u001b[0m\u001b[0m\n",
      "\u001b[1;32mC:\\Python27\\Lib\\site-packages\\pyvisa\\visa.pyc\u001b[0m in \u001b[0;36mread_raw\u001b[1;34m(self)\u001b[0m\n\u001b[0;32m    405\u001b[0m         \u001b[1;32mtry\u001b[0m\u001b[1;33m:\u001b[0m\u001b[1;33m\u001b[0m\u001b[0m\n\u001b[0;32m    406\u001b[0m             \u001b[0mbuffer\u001b[0m \u001b[1;33m=\u001b[0m \u001b[1;34m\"\"\u001b[0m\u001b[1;33m\u001b[0m\u001b[0m\n\u001b[1;32m--> 407\u001b[1;33m             \u001b[0mchunk\u001b[0m \u001b[1;33m=\u001b[0m \u001b[0mvpp43\u001b[0m\u001b[1;33m.\u001b[0m\u001b[0mread\u001b[0m\u001b[1;33m(\u001b[0m\u001b[0mself\u001b[0m\u001b[1;33m.\u001b[0m\u001b[0mvi\u001b[0m\u001b[1;33m,\u001b[0m \u001b[0mself\u001b[0m\u001b[1;33m.\u001b[0m\u001b[0mchunk_size\u001b[0m\u001b[1;33m)\u001b[0m\u001b[1;33m\u001b[0m\u001b[0m\n\u001b[0m\u001b[0;32m    408\u001b[0m             \u001b[0mbuffer\u001b[0m \u001b[1;33m+=\u001b[0m \u001b[0mchunk\u001b[0m\u001b[1;33m\u001b[0m\u001b[0m\n\u001b[0;32m    409\u001b[0m             \u001b[1;32mwhile\u001b[0m \u001b[0mvpp43\u001b[0m\u001b[1;33m.\u001b[0m\u001b[0mget_status\u001b[0m\u001b[1;33m(\u001b[0m\u001b[1;33m)\u001b[0m \u001b[1;33m==\u001b[0m \u001b[0mVI_SUCCESS_MAX_CNT\u001b[0m\u001b[1;33m:\u001b[0m\u001b[1;33m\u001b[0m\u001b[0m\n",
      "\u001b[1;32mC:\\Python27\\Lib\\site-packages\\pyvisa\\vpp43.pyc\u001b[0m in \u001b[0;36mread\u001b[1;34m(vi, count)\u001b[0m\n\u001b[0;32m    838\u001b[0m     \u001b[0mbuffer\u001b[0m \u001b[1;33m=\u001b[0m \u001b[0mcreate_string_buffer\u001b[0m\u001b[1;33m(\u001b[0m\u001b[0mcount\u001b[0m\u001b[1;33m)\u001b[0m\u001b[1;33m\u001b[0m\u001b[0m\n\u001b[0;32m    839\u001b[0m     \u001b[0mreturn_count\u001b[0m \u001b[1;33m=\u001b[0m \u001b[0mViUInt32\u001b[0m\u001b[1;33m(\u001b[0m\u001b[1;33m)\u001b[0m\u001b[1;33m\u001b[0m\u001b[0m\n\u001b[1;32m--> 840\u001b[1;33m     \u001b[0mvisa_library\u001b[0m\u001b[1;33m(\u001b[0m\u001b[1;33m)\u001b[0m\u001b[1;33m.\u001b[0m\u001b[0mviRead\u001b[0m\u001b[1;33m(\u001b[0m\u001b[0mvi\u001b[0m\u001b[1;33m,\u001b[0m \u001b[0mbuffer\u001b[0m\u001b[1;33m,\u001b[0m \u001b[0mcount\u001b[0m\u001b[1;33m,\u001b[0m \u001b[0mbyref\u001b[0m\u001b[1;33m(\u001b[0m\u001b[0mreturn_count\u001b[0m\u001b[1;33m)\u001b[0m\u001b[1;33m)\u001b[0m\u001b[1;33m\u001b[0m\u001b[0m\n\u001b[0m\u001b[0;32m    841\u001b[0m     \u001b[1;32mreturn\u001b[0m \u001b[0mbuffer\u001b[0m\u001b[1;33m.\u001b[0m\u001b[0mraw\u001b[0m\u001b[1;33m[\u001b[0m\u001b[1;33m:\u001b[0m\u001b[0mreturn_count\u001b[0m\u001b[1;33m.\u001b[0m\u001b[0mvalue\u001b[0m\u001b[1;33m]\u001b[0m\u001b[1;33m\u001b[0m\u001b[0m\n\u001b[0;32m    842\u001b[0m \u001b[1;33m\u001b[0m\u001b[0m\n",
      "\u001b[1;32mC:\\Python27\\Lib\\site-packages\\pyvisa\\vpp43.pyc\u001b[0m in \u001b[0;36mcheck_status\u001b[1;34m(status)\u001b[0m\n\u001b[0;32m    391\u001b[0m \u001b[1;34m\"\"\"For these completion codes, warnings are issued.\"\"\"\u001b[0m\u001b[1;33m\u001b[0m\u001b[0m\n\u001b[0;32m    392\u001b[0m \u001b[1;33m\u001b[0m\u001b[0m\n\u001b[1;32m--> 393\u001b[1;33m \u001b[1;32mdef\u001b[0m \u001b[0mcheck_status\u001b[0m\u001b[1;33m(\u001b[0m\u001b[0mstatus\u001b[0m\u001b[1;33m)\u001b[0m\u001b[1;33m:\u001b[0m\u001b[1;33m\u001b[0m\u001b[0m\n\u001b[0m\u001b[0;32m    394\u001b[0m     \u001b[1;34m\"\"\"Check return values for errors and warnings.\"\"\"\u001b[0m\u001b[1;33m\u001b[0m\u001b[0m\n\u001b[0;32m    395\u001b[0m     \u001b[1;32mglobal\u001b[0m \u001b[0mvisa_status\u001b[0m\u001b[1;33m\u001b[0m\u001b[0m\n",
      "\u001b[1;31mKeyboardInterrupt\u001b[0m: "
     ]
    }
   ],
   "source": [
    "#Калибровка смесителя\n",
    "\n",
    "#Настройки смесителя\n",
    "#O - offset по амплитуде (находится при калибровке)\n",
    "#P - фазовый offset (находится при калибровке)\n",
    "#F - промежуточная частота \n",
    "#A - амплитуда в разрядах DAC\n",
    "#synced - некая синхронизация, хз\n",
    "execfile('IQCalibrate.py')\n",
    "\n",
    "target = \"both\"\n",
    "\n",
    "awg.set_repetition_period(3e-6)\n",
    "awg_tek.set_repetition_period(2e-6)\n",
    "awg_tek.run()\n",
    "\n",
    "if target == \"both\" or target == \"ex\":\n",
    "    lo1.set_frequency(ex_lo_freq)\n",
    "    lo1.set_status(1)\n",
    "    awg_ex.set_trigger_mode('CONT')\n",
    "    awg_ex.run()\n",
    "    #Функция меняет период повторения AWG. Если чё.\n",
    "    settings_ex, D2_estimates, snr_last_ex = IQCalibrate2(pxa, awg_ex, ex_lo_freq, awg_amp_ex, ex_if, 1.0e-6, \\\n",
    "                                            awg_ex_I_ch, awg_ex_Q_ch, adaptive=True, sample_period = 1./SampleRate_ex)\n",
    "    awg_ex.set_trigger_mode('TRIG')\n",
    "if target == \"both\" or target == \"ro\":\n",
    "    #Калибровка считывания\n",
    "    pna.set_cw_freq(ro_lo_freq)\n",
    "    #Функция меняет период повторения AWG. Если чё.\n",
    "    execfile('IQCalibrate.py')\n",
    "    print (ro_if, ro_lo_freq)\n",
    "    settings_ro, D2_estimates, snr_last_ro = IQCalibrate2(pxa, awg_ro, ro_lo_freq, awg_amp_ro, ro_if, 1.0e-6, \\\n",
    "                                            awg_ro_I_ch, awg_ro_Q_ch, adaptive=True, sample_period = 1./SampleRate_ro)"
   ]
  },
  {
   "cell_type": "code",
   "execution_count": 11,
   "metadata": {},
   "outputs": [
    {
     "name": "stdout",
     "output_type": "stream",
     "text": [
      "{1: {'A': 8000, 'F': 125000000.0, 'O': -188.15390006423186, 'delay': 0, 'P': 0, 'synced': False, 'O0': -261.0}, 2: {'A': 4917.9776324873246, 'F': 125000000.0, 'O': -163.10312113041067, 'delay': 7.497691464625429e-12, 'P': 1.7936870179749409, 'synced': False, 'O0': -211.02661615735582}} 2937.93264862\n",
      "{3: {'A': 3512.8287479208343, 'F': 62500000.0, 'O': 111.34580603835488, 'delay': 0, 'P': 0, 'synced': False, 'O0': 42}, 4: {'A': 5000, 'F': 62500000.0, 'O': 277.19365247151728, 'delay': -6.3405555029086825e-10, 'P': 4.1239368022250344, 'synced': False, 'O0': 208.55474991810465}} 133.339470624\n"
     ]
    }
   ],
   "source": [
    "#print settings_ex\n",
    "print settings_ex, snr_last_ex\n",
    "print settings_ro, snr_last_ro"
   ]
  },
  {
   "cell_type": "code",
   "execution_count": 9,
   "metadata": {
    "collapsed": true
   },
   "outputs": [],
   "source": [
    "#Load settings_excite\n",
    "(ex_lo_freqs, settings) = load_pkl('settings_ex')\n",
    "settings_ex = settings[0]"
   ]
  },
  {
   "cell_type": "code",
   "execution_count": 10,
   "metadata": {
    "collapsed": true
   },
   "outputs": [],
   "source": [
    "#Load settings_ro\n",
    "(ro_lo_freqs, settings) = load_pkl('settings_ro')\n",
    "settings_ro = settings[0]"
   ]
  },
  {
   "cell_type": "code",
   "execution_count": 12,
   "metadata": {
    "collapsed": true
   },
   "outputs": [],
   "source": [
    "#Save settings_excite\n",
    "execfile(\"save_pkl.py\")\n",
    "save_pkl_noplt('settings_ex', ( np.array([ex_lo_freq]) ,np.array([settings_ex]) ) )"
   ]
  },
  {
   "cell_type": "code",
   "execution_count": null,
   "metadata": {
    "collapsed": true
   },
   "outputs": [],
   "source": [
    "#print settings_ro\n",
    "print settings_ro, snr_last_ro"
   ]
  },
  {
   "cell_type": "code",
   "execution_count": 13,
   "metadata": {
    "collapsed": true
   },
   "outputs": [],
   "source": [
    "#Save settings_ro\n",
    "save_pkl_noplt('settings_ro', ( np.array([ro_lo_freq]) ,np.array([settings_ro]) ) )"
   ]
  },
  {
   "cell_type": "markdown",
   "metadata": {},
   "source": [
    "##Input by hands"
   ]
  },
  {
   "cell_type": "code",
   "execution_count": null,
   "metadata": {
    "collapsed": true
   },
   "outputs": [],
   "source": [
    "settings_ex     =  \\\n",
    "{3: {'A': 5000, 'F': 62500000.0, 'O': -382.06005044462881, 'delay': 0, 'P': 0, 'synced': False, 'O0': -423}, \\\n",
    " 4: {'A': 4943.1176879565164, 'F': 62500000.0, 'O': -375.48577298767844, 'delay': 5.9971491857426073e-10, 'P': 4.6867918711326118, 'synced': False, 'O0': -292.13135238498415}} \n",
    "settings_ro = \\\n",
    "{0: {'A': 2057.0411273316768, 'F': 62500000.0, 'O': 144, 'delay': 0, 'P': 0, 'synced': False, 'O0': 174}, \\\n",
    " 5: {'A': 5000, 'F': 62500000.0, 'O': 13, 'delay': -1.1514683006298718e-10, 'P': 1.6149928736604171, 'synced': False, 'O0': 34}} \n",
    "#settings_excite = \\\n",
    "#{3: {'A': 2756.7900590837767, 'F': 62500000.0, 'O': 298, 'delay': 0, 'P': 0, 'synced': False, 'O0': 316.0}, \\\n",
    "# 4: {'A': 3000, 'F': 62500000.0, 'O': 263.0, 'delay': -6.7240040453484868e-11, 'P': 1.4246290879731895, 'synced': False, 'O0': 266.0}}"
   ]
  },
  {
   "cell_type": "markdown",
   "metadata": {},
   "source": [
    "#Finding the resonator"
   ]
  },
  {
   "cell_type": "code",
   "execution_count": 25,
   "metadata": {
    "collapsed": true
   },
   "outputs": [],
   "source": [
    "pulse_length = 20e-6\n",
    "PulsePeriod = 10e-6\n",
    "\n",
    "awg_ex.set_trigger_mode('CONT')\n",
    "exPulseI = [settings_ex[awg_ex_I_ch]['O']]+RectSine(settings_ex[awg_ex_I_ch]['A'], 1./ex_if, pulse_length, \n",
    "                    settings_ex[awg_ex_I_ch]['P'], settings_ex[awg_ex_I_ch]['O'], 0, sample_period = 1./SampleRate_ex)+[settings_ex[awg_ex_I_ch]['O']]\n",
    "\n",
    "exPulseQ = [settings_ex[awg_ex_Q_ch]['O']]+RectSine(settings_ex[awg_ex_Q_ch]['A'], 1./ex_if, pulse_length, \n",
    "                        settings_ex[awg_ex_Q_ch]['P'], settings_ex[awg_ex_Q_ch]['O'], 0, sample_period = 1./SampleRate_ex)+[settings_ex[awg_ex_Q_ch]['O']]\n",
    "\n",
    "lo1.set_frequency(ex_lo_freq)\n",
    "\n",
    "awg_ex.LoadRAM(awg_ex_I_ch, exPulseI)\n",
    "awg_ex.LoadRAM(awg_ex_Q_ch, exPulseQ)"
   ]
  },
  {
   "cell_type": "code",
   "execution_count": null,
   "metadata": {
    "collapsed": true
   },
   "outputs": [],
   "source": [
    "pulse_length = 10e-6\n",
    "PulsePeriod = 20e-6\n",
    "\n",
    "roPulseI = RectSine(settings_ro[awg_ro_I_ch]['A'], 1./ro_if, pulse_length, \n",
    "                    settings_ro[awg_ro_I_ch]['P'], settings_ro[awg_ro_I_ch]['O'], 0, sample_period = 1./SampleRate_ro)\n",
    "\n",
    "roPulseQ = RectSine(settings_ro[awg_ro_Q_ch]['A'], 1./ro_if, pulse_length, \n",
    "                    settings_ro[awg_ro_Q_ch]['P'], settings_ro[awg_ro_Q_ch]['O'], 0, sample_period = 1./SampleRate_ro)\n",
    "\n",
    "plt.plot(roPulseQ)\n",
    "pna.set_cw_freq(ro_lo_freq)\n",
    "\n",
    "#roPulseI = np.ones((32768,),dtype=int)*0\n",
    "#roPulseQ = np.ones((32768,),dtype=int)*1000\n",
    "\n",
    "awg.LoadRAM(awg_ro_I_ch, roPulseI)\n",
    "awg.LoadRAM(awg_ro_Q_ch, roPulseQ)"
   ]
  },
  {
   "cell_type": "code",
   "execution_count": null,
   "metadata": {
    "collapsed": true
   },
   "outputs": [],
   "source": [
    "lo1.set_status(0)"
   ]
  },
  {
   "cell_type": "code",
   "execution_count": null,
   "metadata": {
    "collapsed": true
   },
   "outputs": [],
   "source": [
    "pxa.set_centerfreq(9.5e9)\n",
    "pxa.set_span(2e9)\n",
    "pxa.set_nop(10001)\n",
    "plt.plot(pxa.get_tracedata()[0], pxa.get_tracedata()[1])"
   ]
  },
  {
   "cell_type": "code",
   "execution_count": 66,
   "metadata": {
    "scrolled": true
   },
   "outputs": [
    {
     "name": "stderr",
     "output_type": "stream",
     "text": [
      "C:\\Python27\\Lib\\site-packages\\matplotlib\\axes\\_base.py:2809: UserWarning: Attempting to set identical bottom==top results\n",
      "in singular transformations; automatically expanding.\n",
      "bottom=-2.12426749204, top=-2.12426749204\n",
      "  'bottom=%s, top=%s') % (bottom, top))\n",
      "C:\\Python27\\Lib\\site-packages\\matplotlib\\backend_bases.py:2399: MatplotlibDeprecationWarning: Using default event loop until function specific to this GUI is implemented\n",
      "  warnings.warn(str, mplDeprecation)\n"
     ]
    },
    {
     "name": "stdout",
     "output_type": "stream",
     "text": [
      "4096\n",
      "Execution time:  468.475999832  s\n"
     ]
    }
   ],
   "source": [
    "#Диапазон частот\n",
    "#ro_freqs = np.linspace(7.593e9,7.613e9, 500)\n",
    "ro_freqs = np.linspace(ro_freq-20e6,ro_freq+20e6, 201)\n",
    "#Число усреднений\n",
    "nums = 5000\n",
    "#Длина импульса и период повторения\n",
    "ro_pulse_length =4e-6\n",
    "PulsePeriod = 4e-6\n",
    "#Диапазон DAQ, мВ\n",
    "daq_lenght = ro_pulse_length\n",
    "Range = 50\n",
    "#Скорость DAQ\n",
    "SampleRate = 500e6\n",
    "software_averages = 5\n",
    "\n",
    "#Настраиваем awg\n",
    "awg.set_repetition_period(PulsePeriod)\n",
    "awg.set_trigger_pulse(\"SYNC0\", awg.create_delayed_trigger_pulse(1.) )\n",
    "\n",
    "#AWG500 IQ pulse\n",
    "#roPulseI = RectSine(awg_amp, 1./ro_if, ro_pulse_length, 0, 0, 0)\n",
    "#roPulseQ = RectSine(awg_amp, 1./ro_if, ro_pulse_length, np.pi/2., 0, 0)\n",
    "roPulseI = RectSine(settings_ro[awg_ro_I_ch]['A']/3., 1./ro_if, ro_pulse_length, \n",
    "                    settings_ro[awg_ro_I_ch]['P'], settings_ro[awg_ro_I_ch]['O'], 0, sample_period = 1./SampleRate_ro)\n",
    "\n",
    "roPulseQ = RectSine(settings_ro[awg_ro_Q_ch]['A']/3., 1./ro_if, ro_pulse_length, \n",
    "                        settings_ro[awg_ro_Q_ch]['P'], settings_ro[awg_ro_Q_ch]['O'], 0, sample_period = 1./SampleRate_ro)\n",
    "roPulseI[0]=roPulseI[-1]\n",
    "roPulseQ[0]=roPulseQ[-1]\n",
    "awg_tek.set_numpoints(int(PulsePeriod/2e-9)-1000)\n",
    "awg_ro.LoadRAM(awg_ro_I_ch, roPulseI)\n",
    "awg_ro.LoadRAM(awg_ro_Q_ch, roPulseQ)\n",
    "\n",
    "#Размер выборки DAQ\n",
    "signal_size = int(np.ceil(daq_lenght*SampleRate))\n",
    "segsize = 2*int( 2**np.ceil(np.log2(signal_size)) )\n",
    "print segsize\n",
    "posttrigger = segsize*3/4\n",
    "signal_start = segsize - posttrigger \n",
    "signal_end = segsize - posttrigger + signal_size + zero_delay*2\n",
    "if signal_end>segsize:\n",
    "    signal_end = segsize\n",
    "\n",
    "#Настраиваем DAQ\n",
    "daq0.stop()\n",
    "M3i2132_init(daq0, SampleRate)\n",
    "#daq0.init_channel0_multiple_recording(nums=nums, segsize=segsize, posttrigger=posttrigger, amp=amp, offs=offs)\n",
    "daq0.init_channel01_multiple_recording(rate=SampleRate, nums=nums, segsize=segsize, \n",
    "                                  posttrigger=posttrigger, amp0=Range, amp1=Range)\n",
    "#Предыдущая функция работает через жопу и как-то сбрасывает 50 ом, поэтому включаем заново\n",
    "daq0.trigger_termination_50Ohm()\n",
    "daq0.buffer_setup()\n",
    "segsize = signal_end - signal_start\n",
    "t1=time.time()\n",
    "\n",
    "#Контейнеры для данных\n",
    "measQ = np.zeros((len(ro_freqs), segsize))\n",
    "measI = np.zeros((len(ro_freqs), segsize))\n",
    "Amp = np.zeros( len(ro_freqs) )\n",
    "Ph = np.zeros( len(ro_freqs) )\n",
    "\n",
    "#Функции для демодуляции\n",
    "t = linspace(0.,segsize/SampleRate, segsize, endpoint=False)\n",
    "dm_sin = sin(2.*pi*ro_if*t)\n",
    "dm_cos = cos(2.*pi*ro_if*t)\n",
    "\n",
    "#Графики\n",
    "plt.figure(\"Amplitude\")\n",
    "amp_plot = plt.plot(ro_freqs, Amp)[0]\n",
    "plt.figure(\"Phase\")\n",
    "ph_plot = plt.plot(ro_freqs, Ph)[0]\n",
    "\n",
    "#Долбим квадратный синус с разными частотами и мерием, что проходит\n",
    "try:\n",
    "    for i, freq in enumerate(ro_freqs):\n",
    "        pna.set_cw_freq(ro_lo_freq)\n",
    "        for software_average_id in range(software_averages):\n",
    "            #Мерием по триггеру\n",
    "            daq0.start_with_trigger_and_waitready()\n",
    "            #Усредняем результат\n",
    "            daq_buf = daq0.readout_doublechannel_multimode_bin()\n",
    "            measI[i] = np.sum(daq_buf[0], axis=0)[signal_start:signal_end]\n",
    "            measQ[i] = np.sum(daq_buf[1], axis=0)[signal_start:signal_end]\n",
    "            measI[i] -=np.mean(measI[i])\n",
    "            measQ[i] -=np.mean(measQ[i])\n",
    "            #Делаем преобразованеи до нулевой частоты \n",
    "            I = np.mean(measI[i]*dm_cos - measQ[i]*dm_sin)\n",
    "            Q = np.mean(measQ[i]*dm_cos + measI[i]*dm_sin)\n",
    "            \n",
    "            #Амплитуа\n",
    "            Amp[i] = np.sqrt(I**2 + Q**2)/nums\n",
    "            #Фаза\n",
    "            Ph[i] = np.arctan2(I,Q)\n",
    "            \n",
    "            daq0.stop()\n",
    "        #Рисуем графики\n",
    "        plt.figure(\"Amplitude\")\n",
    "        amp_plot.set_data(ro_freqs[:i+1], Amp[:i+1])\n",
    "        plt.ylim((0., np.max(Amp[:i+1])))\n",
    "        plt.figure(\"Phase\")\n",
    "        ph_plot.set_data(ro_freqs[:i+1], Ph[:i+1])\n",
    "        plt.ylim((np.min(Ph[:i+1]), np.max(Ph[:i+1])))\n",
    "        plt.pause(0.01)\n",
    "        \n",
    "except KeyboardInterrupt:pass\n",
    "finally:pass\n",
    "print \"Execution time: \",time.time()-t1,\" s\""
   ]
  },
  {
   "cell_type": "code",
   "execution_count": null,
   "metadata": {
    "collapsed": true
   },
   "outputs": [],
   "source": [
    "plt.figure(\"measI\")\n",
    "plt.pcolormesh(np.asarray(measI));\n",
    "plt.colorbar()\n",
    "plt.figure(\"measQ\")\n",
    "plt.pcolormesh(np.asarray(measQ))\n",
    "plt.colorbar()\n",
    "plt.figure(\"measabs\")\n",
    "plt.pcolormesh(np.asarray(measQ)**2+np.asarray(measI)**2)\n",
    "plt.colorbar()"
   ]
  },
  {
   "cell_type": "code",
   "execution_count": null,
   "metadata": {
    "collapsed": true
   },
   "outputs": [],
   "source": [
    "plt.figure(\"IQ\")\n",
    "plt.plot(I)\n",
    "plt.plot(Q)"
   ]
  },
  {
   "cell_type": "code",
   "execution_count": null,
   "metadata": {
    "collapsed": true
   },
   "outputs": [],
   "source": [
    "plt.plot(roPulseI)"
   ]
  },
  {
   "cell_type": "code",
   "execution_count": null,
   "metadata": {
    "collapsed": true
   },
   "outputs": [],
   "source": [
    "%matplotlib qt4"
   ]
  },
  {
   "cell_type": "code",
   "execution_count": null,
   "metadata": {
    "collapsed": true
   },
   "outputs": [],
   "source": [
    "plt.figure()\n",
    "plt.plot(np.mean(np.fft.fft(np.asarray(measI)), axis=0))\n",
    "plt.plot(np.mean(np.fft.fft(np.asarray(measQ)), axis=0))"
   ]
  },
  {
   "cell_type": "code",
   "execution_count": null,
   "metadata": {
    "collapsed": true
   },
   "outputs": [],
   "source": [
    "Amp_ref = Amp\n",
    "Ph_ref = Ph"
   ]
  },
  {
   "cell_type": "code",
   "execution_count": null,
   "metadata": {
    "collapsed": true
   },
   "outputs": [],
   "source": [
    "plt.figure()\n",
    "plt.plot(ro_freqs,Amp)\n",
    "plt.figure()\n",
    "plt.plot(ro_freqs,Ph)"
   ]
  },
  {
   "cell_type": "code",
   "execution_count": null,
   "metadata": {
    "collapsed": true
   },
   "outputs": [],
   "source": [
    "#Unwrap phase\n",
    "dPh = np.diff(Ph)\n",
    "for i in range(len(dPh)):\n",
    "    if np.abs(dPh[i]) >= np.pi/2.:\n",
    "        if dPh[i] >0:\n",
    "            dPh[i] = dPh[i] - np.pi\n",
    "        elif dPh[i] <0:\n",
    "            dPh[i] = dPh[i] + np.pi\n",
    "plt.figure()\n",
    "Ph = np.cumsum( np.hstack([Ph[0], dPh]) )"
   ]
  },
  {
   "cell_type": "code",
   "execution_count": null,
   "metadata": {
    "collapsed": true
   },
   "outputs": [],
   "source": [
    "dPh = np.diff(Ph)\n",
    "plt.figure(\"Delay\")\n",
    "plt.plot(ro_freqs [0:-1], dPh)\n",
    "plt.ylim((np.min(dPh), np.max(dPh)))"
   ]
  },
  {
   "cell_type": "code",
   "execution_count": null,
   "metadata": {
    "collapsed": true
   },
   "outputs": [],
   "source": [
    "plt.figure()\n",
    "plt.plot(ro_freqs, Ph)"
   ]
  },
  {
   "cell_type": "code",
   "execution_count": null,
   "metadata": {
    "collapsed": true
   },
   "outputs": [],
   "source": [
    "plt.figure(\"Phase\")\n",
    "ph_plot.set_data(ro_freqs[:i+1], Ph[:i+1])\n",
    "plt.ylim((np.min(Ph[:i+1]), np.max(Ph[:i+1])))\n",
    "plt.pause(0.01)"
   ]
  },
  {
   "cell_type": "code",
   "execution_count": null,
   "metadata": {
    "collapsed": true
   },
   "outputs": [],
   "source": [
    "#Ищет резонатор по минимуму\n",
    "#Но лучше найти точку ручками и написать\n",
    "#Оптимальная точка для считывания не обязательно минимум\n",
    "#new_ro_freq = ro_freqs[np.argmax(np.abs(Amp))]\n",
    "#print 'Old resonator frequency was {0:3.5g}'.format(ro_freq)\n",
    "#print 'New resonator frequency is {0:3.5g}'.format(new_ro_freq)\n",
    "old_ro_freq = ro_freq\n",
    "ro_freq = 9.5253e9\n",
    "print ro_freq\n",
    "ro_lo_freq = ro_freq + ro_if"
   ]
  },
  {
   "cell_type": "code",
   "execution_count": null,
   "metadata": {
    "collapsed": true
   },
   "outputs": [],
   "source": [
    "plt.figure()\n",
    "plt.plot(measI[0])"
   ]
  },
  {
   "cell_type": "code",
   "execution_count": null,
   "metadata": {
    "collapsed": true
   },
   "outputs": [],
   "source": [
    "#Save \n",
    "save_pkl_noplt('search_of_resonator', {\"Amp\": Amp , \"Ph\": Ph, \"ro_freqs\": ro_freqs } )"
   ]
  },
  {
   "cell_type": "code",
   "execution_count": null,
   "metadata": {
    "collapsed": true
   },
   "outputs": [],
   "source": [
    "#Load\n",
    "pkl = load_pkl('resonator_pulse')\n",
    "Amp_res = pkl[\"Amp\"]\n",
    "Ph_res = pkl[\"Ph\"]\n",
    "ro_freqs = pkl[\"ro_freqs\"]"
   ]
  },
  {
   "cell_type": "code",
   "execution_count": null,
   "metadata": {
    "collapsed": true
   },
   "outputs": [],
   "source": [
    "plt.figure()\n",
    "plt.plot(ro_freqs, Amp_res)\n"
   ]
  },
  {
   "cell_type": "markdown",
   "metadata": {},
   "source": [
    "# Finding the qubit"
   ]
  },
  {
   "cell_type": "code",
   "execution_count": 73,
   "metadata": {},
   "outputs": [
    {
     "name": "stdout",
     "output_type": "stream",
     "text": [
      "8192\n",
      "306.474999905\n"
     ]
    },
    {
     "name": "stderr",
     "output_type": "stream",
     "text": [
      "C:\\Python27\\Lib\\site-packages\\matplotlib\\axes\\_base.py:2809: UserWarning: Attempting to set identical bottom==top results\n",
      "in singular transformations; automatically expanding.\n",
      "bottom=-0.216118768688, top=-0.216118768688\n",
      "  'bottom=%s, top=%s') % (bottom, top))\n"
     ]
    }
   ],
   "source": [
    "ex_freqs = arange(ex_freq-50e6, ex_freq+50e6, 0.5e6)\n",
    "\n",
    "nums = 1000\n",
    "Range = 50\n",
    "SampleRate = 500e6\n",
    "\n",
    "ro_pulse_length = 3e-6\n",
    "pulse_length = 9e-6\n",
    "PulsePeriod = 10e-6\n",
    "daq_length = 5e-6\n",
    "\n",
    "software_averages = 20\n",
    "\n",
    "exPulseI = RectSine(settings_ex[awg_ex_I_ch]['A'], 1./ex_if, pulse_length, \n",
    "                    settings_ex[awg_ex_I_ch]['P'], settings_ex[awg_ex_I_ch]['O'], 0, sample_period = 1./SampleRate_ex)\n",
    "\n",
    "exPulseQ = RectSine(settings_ex[awg_ex_Q_ch]['A'], 1./ex_if, pulse_length, \n",
    "                        settings_ex[awg_ex_Q_ch]['P'], settings_ex[awg_ex_Q_ch]['O'], 0, sample_period = 1./SampleRate_ex)\n",
    "\n",
    "roPulseI = RectSine(settings_ro[awg_ro_I_ch]['A'], 1./ro_if, ro_pulse_length, \n",
    "                    settings_ro[awg_ro_I_ch]['P'], settings_ro[awg_ro_I_ch]['O'], 2e-6+500e-9, sample_period = 1./SampleRate_ro)\n",
    "\n",
    "roPulseQ = RectSine(settings_ro[awg_ro_Q_ch]['A'], 1./ro_if, ro_pulse_length, \n",
    "                        settings_ro[awg_ro_Q_ch]['P'], settings_ro[awg_ro_Q_ch]['O'], 2e-6+500e-9, sample_period = 1./SampleRate_ro)\n",
    "exPulseI[0]=exPulseI[-1] \n",
    "exPulseQ[0]=exPulseQ[-1]\n",
    "\n",
    "#Настраиваем awg\n",
    "awg.set_repetition_period(PulsePeriod)\n",
    "awg_tek.set_repetition_period(PulsePeriod-1e-6)\n",
    "awg.set_trigger_pulse(\"SYNC0\", awg.create_delayed_trigger_pulse(0.) )\n",
    "awg.set_trigger_pulse(\"SYNC3\", awg.create_delayed_trigger_pulse(0.) )\n",
    "\n",
    "awg_ex.LoadRAM(awg_ex_I_ch, exPulseI)\n",
    "awg_ex.LoadRAM(awg_ex_Q_ch, exPulseQ)\n",
    "\n",
    "#awg_tek.set_numpoints(int(PulsePeriod/2e-9))\n",
    "awg_ro.LoadRAM(awg_ro_I_ch, roPulseI)\n",
    "awg_ro.LoadRAM(awg_ro_Q_ch, roPulseQ)\n",
    "awg_tek.run()\n",
    "\n",
    "pna.set_cw_freq(ro_lo_freq)\n",
    "\n",
    "#Настраиваем DAQ\n",
    "signal_size = int(np.ceil(daq_length*SampleRate))\n",
    "segsize = 2*int( 2**np.ceil(np.log2(signal_size)) )\n",
    "print segsize\n",
    "posttrigger = segsize*3/4\n",
    "signal_start = segsize - posttrigger \n",
    "signal_end = segsize - posttrigger + signal_size + zero_delay*2\n",
    "\n",
    "daq0.stop()\n",
    "M3i2132_init(daq0, SampleRate)\n",
    "daq0.init_channel01_multiple_recording(rate=SampleRate, nums=nums, segsize=segsize, \n",
    "                                  posttrigger=posttrigger, amp0=Range, amp1=Range)\n",
    "#Предыдущая функция работает через жопу и как-то сбрасывает 50 ом, поэтому включаем заново\n",
    "daq0.trigger_termination_50Ohm()\n",
    "daq0.buffer_setup()\n",
    "\n",
    "lo1.set_status(1)\n",
    "\n",
    "segsize = signal_end-signal_start\n",
    "#Контейнеры для данных\n",
    "measQ = np.zeros((len(ex_freqs), segsize))\n",
    "measI = np.zeros((len(ex_freqs), segsize))\n",
    "\n",
    "Amp = np.zeros( len(ex_freqs) )\n",
    "Ph = np.zeros( len(ex_freqs) )\n",
    "\n",
    "#Функции для демодуляции\n",
    "t = linspace(0.,segsize/SampleRate, segsize, endpoint=False)\n",
    "\n",
    "dm_sin = sin(2.*pi*ro_if*t)\n",
    "dm_cos = cos(2.*pi*ro_if*t)\n",
    "\n",
    "#Графики\n",
    "plt.figure(\"Amplitude\")\n",
    "amp_plot = plt.plot(ex_freqs, Amp)[0]\n",
    "plt.figure(\"Phase\")\n",
    "ph_plot = plt.plot(ex_freqs, Ph)[0]\n",
    "\n",
    "t1=time.time()\n",
    "try:\n",
    "    for i, freq in enumerate(ex_freqs):\n",
    "        lo1.set_frequency(freq - ex_if)\n",
    "        for software_average_id in range(software_averages):\n",
    "            #Мерием по триггеру\n",
    "            daq0.start_with_trigger_and_waitready()\n",
    "            #Усредняем результат\n",
    "            daq_buf = daq0.readout_doublechannel_multimode_bin()\n",
    "            measI[i] += np.sum(daq_buf[0], axis=0)[signal_start:signal_end]\n",
    "            measQ[i] += np.sum(daq_buf[1], axis=0)[signal_start:signal_end]\n",
    "            daq0.stop()\n",
    "            \n",
    "        #Делаем преобразованеи до нулевой частоты \n",
    "        I = np.mean(measI[i]*dm_cos - measQ[i]*dm_sin)\n",
    "        Q = np.mean(measQ[i]*dm_cos + measI[i]*dm_sin)\n",
    "                \n",
    "        #Амплитуа\n",
    "        Amp[i] = np.sqrt(I**2 + Q**2)/nums\n",
    "        #Фаза\n",
    "        Ph[i] = np.arctan(I/Q)\n",
    "        \n",
    "        #Рисуем графики\n",
    "        plt.figure(\"Amplitude\")\n",
    "        amp_plot.set_data(ex_freqs[:i+1], Amp[:i+1])\n",
    "        plt.ylim((0., np.max(Amp[:i+1])))\n",
    "        plt.figure(\"Phase\")\n",
    "        ph_plot.set_data(ex_freqs[:i+1], Ph[:i+1])\n",
    "        plt.ylim((np.min(Ph[:i+1]), np.max(Ph[:i+1])))\n",
    "        plt.pause(0.01)\n",
    "\n",
    "except KeyboardInterrupt:pass\n",
    "print time.time()-t1"
   ]
  },
  {
   "cell_type": "code",
   "execution_count": 89,
   "metadata": {
    "collapsed": true
   },
   "outputs": [],
   "source": [
    "awg.set_trigger_repeats(1)\n",
    "awg.set_trigger_period(0)"
   ]
  },
  {
   "cell_type": "code",
   "execution_count": 41,
   "metadata": {},
   "outputs": [
    {
     "name": "stdout",
     "output_type": "stream",
     "text": [
      "Old excitation frequency was 6.4005e+09\n",
      "New excitation frequency is 6.3945e+09\n"
     ]
    }
   ],
   "source": [
    "new_ex_freq = ex_freqs[np.argmin(Amp)]\n",
    "print 'Old excitation frequency was {0:3.5g}'.format(ex_freq)\n",
    "print 'New excitation frequency is {0:3.5g}'.format(new_ex_freq)\n",
    "old_ex_freq = ex_freq\n",
    "ex_freq = new_ex_freq"
   ]
  },
  {
   "cell_type": "code",
   "execution_count": null,
   "metadata": {
    "collapsed": true
   },
   "outputs": [],
   "source": [
    "#Save \n",
    "save_pkl_noplt('qubit_pulse_1', {\"Amp\": Amp , \"Ph\": Ph, \"ex_freqs\": ex_freqs,\n",
    "                        \"ex_freq\":ex_freq,\"ro_freq\": ro_freq} )"
   ]
  },
  {
   "cell_type": "markdown",
   "metadata": {},
   "source": [
    "# Pulsed measurements"
   ]
  },
  {
   "cell_type": "markdown",
   "metadata": {},
   "source": [
    "## Delay measurement"
   ]
  },
  {
   "cell_type": "code",
   "execution_count": 13,
   "metadata": {},
   "outputs": [
    {
     "name": "stdout",
     "output_type": "stream",
     "text": [
      "2048\n",
      "Pulse delay =  15\n"
     ]
    }
   ],
   "source": [
    "SampleRate = 500e6\n",
    "nums = 10000\n",
    "Range = 50\n",
    "software_averages = 10\n",
    "ro_pulse_length = 1e-6\n",
    "PulsePeriod = 10e-6\n",
    "\n",
    "awg.set_trigger_pulse(\"SYNC0\", awg.create_delayed_trigger_pulse(1.) )\n",
    "\n",
    "roPulseI = RectSine(settings_ro[awg_ro_I_ch]['A'], 1./ro_if, ro_pulse_length, \n",
    "                    settings_ro[awg_ro_I_ch]['P'], settings_ro[awg_ro_I_ch]['O'], 0)\n",
    "\n",
    "roPulseQ = RectSine(settings_ro[awg_ro_Q_ch]['A'], 1./ro_if, ro_pulse_length, \n",
    "                        settings_ro[awg_ro_Q_ch]['P'], settings_ro[awg_ro_Q_ch]['O'], 0)\n",
    "\n",
    "awg.LoadRAM(awg_ro_I_ch, roPulseI)\n",
    "awg.LoadRAM(awg_ro_Q_ch, roPulseQ)\n",
    "awg_ex.set_trigger_mode('TRIG')\n",
    "    \n",
    "pna.set_cw_freq(ro_lo_freq)\n",
    "\n",
    "#Настраиваем DAQ\n",
    "segsize = int(2**np.ceil(np.log(ro_pulse_length*SampleRate)/np.log(2))*2)*2\n",
    "print segsize\n",
    "posttrigger = segsize*3/4\n",
    "\n",
    "measI = np.zeros( segsize )\n",
    "\n",
    "daq0.stop()\n",
    "M3i2132_init(daq0, SampleRate)\n",
    "daq0.init_channel0_multiple_recording(nums=nums, segsize=segsize, posttrigger=posttrigger, amp=Range)\n",
    "#daq0.init_channel01_multiple_recording(rate=SampleRate, nums=nums, segsize=segsize, \n",
    "#                                  posttrigger=posttrigger, amp0=Range, amp1=Range)\n",
    "daq0.trigger_termination_50Ohm()\n",
    "daq0.buffer_setup()\n",
    "\n",
    "lo1.set_status(0)\n",
    "\n",
    "for software_average_id in range(software_averages):\n",
    "    daq0.start_with_trigger_and_waitready()\n",
    "    measI += np.sum(daq0.readout_singlechannel_multimode_bin()[0], axis=0)\n",
    "    #measI = np.sum(daq0.readout_doublechannel_multimode_bin()[0],axis=0)\n",
    "    daq0.stop()\n",
    "\n",
    "measI = measI - np.mean(measI)\n",
    "plt.figure()\n",
    "plt.plot(measI)\n",
    "#plt.plot(roPulseI-np.mean(roPulseI))\n",
    "threshold = np.max(np.abs(measI)[0:10])*2\n",
    "zero_delay = np.argwhere(abs(measI)>threshold)[0][0] - (segsize - posttrigger)\n",
    "print \"Pulse delay = \", zero_delay"
   ]
  },
  {
   "cell_type": "code",
   "execution_count": 33,
   "metadata": {
    "collapsed": true
   },
   "outputs": [],
   "source": [
    "zero_delay = 13"
   ]
  },
  {
   "cell_type": "markdown",
   "metadata": {},
   "source": [
    "# Incoherent decay"
   ]
  },
  {
   "cell_type": "code",
   "execution_count": 66,
   "metadata": {},
   "outputs": [
    {
     "name": "stdout",
     "output_type": "stream",
     "text": [
      "16384 12288 949 7583 9083\n"
     ]
    },
    {
     "name": "stderr",
     "output_type": "stream",
     "text": [
      "C:\\Python27\\Lib\\site-packages\\matplotlib\\axes\\_base.py:2809: UserWarning: Attempting to set identical bottom==top results\n",
      "in singular transformations; automatically expanding.\n",
      "bottom=-0.0111645093609, top=-0.0111645093609\n",
      "  'bottom=%s, top=%s') % (bottom, top))\n",
      "C:\\Python27\\Lib\\site-packages\\matplotlib\\axes\\_base.py:2809: UserWarning: Attempting to set identical bottom==top results\n",
      "in singular transformations; automatically expanding.\n",
      "bottom=0.0113479185633, top=0.0113479185633\n",
      "  'bottom=%s, top=%s') % (bottom, top))\n"
     ]
    }
   ],
   "source": [
    "#Задержка считывания после прекращения возбуждения\n",
    "ro_delays = np.arange(-2e-6, 2e-6, 0.1e-6)\n",
    "\n",
    "ro_pulse_length = 2e-6\n",
    "posttrig_t = 1e-6\n",
    "ex_pulse_length = 5e-6\n",
    "\n",
    "nums = 1000\n",
    "Range = 50\n",
    "SampleRate = 500e6\n",
    "\n",
    "PulsePeriod = 50e-6\n",
    "\n",
    "software_averages = 10\n",
    "\n",
    "#Настраиваем частоты\n",
    "lo1.set_frequency(ex_lo_freq)\n",
    "pna.set_cw_freq(ro_lo_freq)\n",
    "\n",
    "#Настраиваем awg\n",
    "data_len = int(PulsePeriod/2e-9)+1\n",
    "awg.set_repetition_period(PulsePeriod)\n",
    "awg_tek.set_repetition_period(PulsePeriod-1e-6)\n",
    "awg_ex.set_trigger_mode('TRIG')\n",
    "max_ro_delay = np.max(ro_delays)\n",
    "\n",
    "#Инициализация DAQ\n",
    "signal_size = int(np.ceil( (ro_pulse_length+posttrig_t) * SampleRate ))\n",
    "hardware_segsize = 2*int( 2**np.ceil(np.log2(signal_size+int((max_ro_delay+ex_pulse_length)*SampleRate))) )\n",
    "\n",
    "posttrigger = hardware_segsize*3/4\n",
    "signal_start = int((max_ro_delay+ex_pulse_length)*SampleRate) + hardware_segsize - posttrigger + zero_delay\n",
    "signal_end = signal_start + signal_size\n",
    "if signal_end>hardware_segsize:\n",
    "    signal_end = hardware_segsize\n",
    "    \n",
    "daq0.stop()\n",
    "daq0.set_spc_samplerate(SampleRate)\n",
    "daq0.init_channel01_multiple_recording(rate=SampleRate, nums=nums, segsize=hardware_segsize, \n",
    "                                  posttrigger=posttrigger, amp0=Range, amp1=Range)\n",
    "daq0.trigger_termination_50Ohm()\n",
    "daq0.buffer_setup()\n",
    "\n",
    "lo1.set_status(1)\n",
    "segsize = signal_end -  signal_start\n",
    "print hardware_segsize, posttrigger, int(max_ro_delay*SampleRate), signal_start, signal_end\n",
    "#Контейнеры для данных\n",
    "measQ = np.zeros((len(ro_delays), segsize))\n",
    "measI = np.zeros((len(ro_delays), segsize))\n",
    "I = np.zeros( len(ro_delays) )\n",
    "Q = np.zeros( len(ro_delays) )\n",
    "\n",
    "#Функции для демодуляции\n",
    "t = linspace(0.,segsize/SampleRate, segsize, endpoint=False)\n",
    "dm_sin = sin(2.*pi*ro_if*t)\n",
    "dm_cos = cos(2.*pi*ro_if*t)\n",
    "\n",
    "#Графики\n",
    "plt.figure(\"I\")\n",
    "amp_plot = plt.plot(ro_delays, I)[0]\n",
    "plt.figure(\"Q\")\n",
    "ph_plot = plt.plot(ro_delays, Q)[0]\n",
    "\n",
    "roPulseI = RectSine(settings_ro[awg_ro_I_ch]['A'], 1./ro_if, ro_pulse_length, \n",
    "                    settings_ro[awg_ro_I_ch]['P'], settings_ro[awg_ro_I_ch]['O'], \n",
    "                    max_ro_delay + ex_pulse_length, sample_period = 1./SampleRate_ro)\n",
    "    \n",
    "roPulseQ = RectSine(settings_ro[awg_ro_Q_ch]['A'], 1./ro_if, ro_pulse_length, \n",
    "                    settings_ro[awg_ro_Q_ch]['P'], settings_ro[awg_ro_Q_ch]['O'],\n",
    "                    max_ro_delay + ex_pulse_length, sample_period = 1./SampleRate_ro)\n",
    "roPulseI [0] = roPulseI [-1]\n",
    "roPulseQ[0] = roPulseQ [-1]\n",
    "\n",
    "awg_ro.LoadRAM(awg_ro_I_ch, roPulseI)\n",
    "awg_ro.LoadRAM(awg_ro_Q_ch, roPulseQ)\n",
    "\n",
    "# setting trigger to start readout after excitation pulses\n",
    "awg.set_trigger_pulse(\"SYNC0\", awg.create_delayed_trigger_pulse(1.) )\n",
    "awg.set_trigger_pulse(\"SYNC3\", awg.create_delayed_trigger_pulse(1) )\n",
    "\n",
    "for i, ro_delay in enumerate(ro_delays):\n",
    "    exPulseI = RectSine(settings_ex[awg_ex_I_ch]['A'], 1./ex_if, ex_pulse_length,\n",
    "                        settings_ex[awg_ex_I_ch]['P'], settings_ex[awg_ex_I_ch]['O'], \n",
    "                        max_ro_delay - ro_delay, sample_period = 1./SampleRate_ex)\n",
    "    exPulseQ = RectSine(settings_ex[awg_ex_Q_ch]['A'], 1./ex_if, ex_pulse_length, \n",
    "                        settings_ex[awg_ex_Q_ch]['P'], settings_ex[awg_ex_Q_ch]['O'], \n",
    "                        max_ro_delay - ro_delay, sample_period = 1./SampleRate_ex)\n",
    "\n",
    "    #Программируем импульсы в awg\n",
    "    awg_ex.LoadRAM(awg_ex_I_ch, exPulseI[0:data_len])\n",
    "    awg_ex.LoadRAM(awg_ex_Q_ch, exPulseQ[0:data_len])\n",
    "    \n",
    "    for software_average_id in range(software_averages):\n",
    "        #Мерием по триггеру\n",
    "        daq0.start_with_trigger_and_waitready()\n",
    "        #Усредняем результат\n",
    "        measI[i] += np.sum(daq0.readout_doublechannel_multimode_bin()[0],\n",
    "                           axis=0)[signal_start:signal_end]\n",
    "        measQ[i] += np.sum(daq0.readout_doublechannel_multimode_bin()[1],\n",
    "                           axis=0)[signal_start:signal_end]\n",
    "        measI[i] -=np.mean(measI[i]) \n",
    "        measQ[i] -=np.mean(measQ[i])\n",
    "        daq0.stop()\n",
    "        \n",
    "    #Делаем преобразованеи до нулевой частоты \n",
    "    I[i] = np.mean(measI[i]*dm_cos - measQ[i]*dm_sin)/(nums*software_averages)\n",
    "    Q[i] = np.mean(measQ[i]*dm_cos + measI[i]*dm_sin)/(nums*software_averages)\n",
    "                \n",
    "    plt.figure(\"I\")\n",
    "    amp_plot.set_data(ro_delays[:i+1], I[:i+1])\n",
    "    plt.ylim((np.min(I[:i+1]), np.max(I[:i+1])))\n",
    "    \n",
    "    plt.figure(\"Q\")\n",
    "    ph_plot.set_data(ro_delays[:i+1], Q[:i+1])\n",
    "    plt.ylim((np.min(Q[:i+1]), np.max(Q[:i+1])))\n",
    "    plt.pause(0.01)"
   ]
  },
  {
   "cell_type": "code",
   "execution_count": 67,
   "metadata": {},
   "outputs": [
    {
     "data": {
      "text/plain": [
       "<matplotlib.collections.QuadMesh at 0x14f21d90>"
      ]
     },
     "execution_count": 67,
     "metadata": {},
     "output_type": "execute_result"
    }
   ],
   "source": [
    "plt.figure(\"rawI\")\n",
    "plt.pcolormesh(np.asarray(measI).T)\n",
    "plt.figure(\"rawQ\")\n",
    "plt.pcolormesh(np.asarray(measQ).T)"
   ]
  },
  {
   "cell_type": "code",
   "execution_count": 28,
   "metadata": {},
   "outputs": [
    {
     "data": {
      "text/plain": [
       "[<matplotlib.lines.Line2D at 0x191117b0>]"
      ]
     },
     "execution_count": 28,
     "metadata": {},
     "output_type": "execute_result"
    }
   ],
   "source": [
    "I = np.mean((np.asarray(measI)*dm_cos - np.asarray(measQ)*dm_sin)[:, 6681:7200], axis=1)\n",
    "Q = np.mean((np.asarray(measI)*dm_sin + np.asarray(measQ)*dm_cos)[:, 6681:7200], axis=1)\n",
    "plt.figure()\n",
    "plt.plot(I)\n",
    "plt.figure()\n",
    "plt.plot(Q)"
   ]
  },
  {
   "cell_type": "code",
   "execution_count": 44,
   "metadata": {},
   "outputs": [
    {
     "data": {
      "text/plain": [
       "<matplotlib.collections.QuadMesh at 0x1fb3ddd0>"
      ]
     },
     "execution_count": 44,
     "metadata": {},
     "output_type": "execute_result"
    }
   ],
   "source": [
    "plt.figure()\n",
    "plt.pcolormesh(signalI)\n",
    "plt.figure()\n",
    "plt.pcolormesh(signalQ)"
   ]
  },
  {
   "cell_type": "code",
   "execution_count": 59,
   "metadata": {},
   "outputs": [
    {
     "name": "stdout",
     "output_type": "stream",
     "text": [
      "{'I': array([  1.11310912e-01,   6.85639197e-03,   1.68565169e-05]), 'Q': array([  2.05782211e-01,  -7.50012935e-04,   1.96417112e-06]), 'Qerr': array([  4.65941460e-05,   2.21531009e-04,   9.65436202e-07]), 'Ierr': array([  1.04327883e-03,   9.38192762e-04,   4.42283168e-06])}\n"
     ]
    }
   ],
   "source": [
    "fit_range = ro_delays[ro_delays>0]\n",
    "\n",
    "# фитует результаты измерений экспонентой\n",
    "f = lambda x, A0 ,A1, t: A0 + A1*np.exp(-x/t)\n",
    "\n",
    "fit_res={'I':zeros(3),'Q':zeros(3), 'Ierr': zeros(3), 'Qerr': zeros(3)}\n",
    "\n",
    "for dat,id in zip([I,Q],['I','Q']):\n",
    "    A0 = dat[-1]\n",
    "    A1 = dat[0]\n",
    "    t = np.mean(ro_delays)\n",
    "    (res, err) = so.curve_fit(f, ro_delays, dat, p0 = (A0, A1, t))\n",
    "    fit_res[id+'err'] = np.sqrt(np.diag(err))\n",
    "    fit_res[id] = res\n",
    "    plt.figure(id)\n",
    "    plt.plot(ro_delays,  dat, 'o')\n",
    "    plt.plot(ro_delays,  f(ro_delays, *tuple(res) ),\n",
    "         label = \"T1={:.2f}us\".format(res[2]*1e6), lw = 2, color = 'red')\n",
    "    plt.legend()\n",
    "print fit_res "
   ]
  },
  {
   "cell_type": "code",
   "execution_count": 60,
   "metadata": {},
   "outputs": [
    {
     "data": {
      "text/plain": [
       "<matplotlib.legend.Legend at 0x1ad0b670>"
      ]
     },
     "execution_count": 60,
     "metadata": {},
     "output_type": "execute_result"
    }
   ],
   "source": [
    "A0r = I[-1]\n",
    "A0i = Q[-1]\n",
    "A1r = I[0]\n",
    "A1i = Q[0]\n",
    "positive_delays =  ro_delays[ro_delays>=0]\n",
    "positive_delays_S21 = I[ro_delays>=0]+1j*Q[ro_delays>=0]\n",
    "\n",
    "f = lambda x,A0r,Aoi,A1r,A1i,t: (A0r+A0i*1j+((A1r-A0r)+(A1i-A0i)*1j)*np.exp(-x/t))\n",
    "cost = lambda p: np.abs(f(positive_delays,*p)-positive_delays_S21)**2\n",
    "t = np.mean(ro_delays)\n",
    "fitresults = so.leastsq(cost, (A0r,A0i,A1r,A1i,t))\n",
    "plt.plot(ro_delays,  I, 'o', color='blue')\n",
    "plt.plot(ro_delays,  Q, 'o', color='green')\n",
    "plt.plot(ro_delays,  f(ro_delays, *(fitresults[0])).real,\n",
    "    label = \"T1={:.2f}us\".format(fitresults[0][4]*1e6), lw = 2, color = 'blue')\n",
    "plt.plot(ro_delays,  f(ro_delays, *(fitresults[0])).imag, lw = 2, color = 'green')\n",
    "fitted_curve = (positive_delays, np.log10(np.abs(f(positive_delays, *(fitresults[0]))))*10, np.angle(f(positive_delays, *(fitresults[0]))))\n",
    "plt.legend()"
   ]
  },
  {
   "cell_type": "code",
   "execution_count": 61,
   "metadata": {
    "collapsed": true
   },
   "outputs": [],
   "source": [
    "#Save with plot\n",
    "header = {'date':datetime.datetime.now(), 'type': 'Incoherent decay', 'name': 'Decay Fliegenklatsche second cooldown', \\\n",
    "          'ro_pulse_length':ro_pulse_length, 'ex_pulse_length':ex_pulse_length, \\\n",
    "          'ex_freq':ex_freq,'ro_freq': ro_freq}\n",
    "measurement = ((ro_delays, np.asarray([0]), np.log10(np.abs(I+1j*Q))*10, np.angle(I+1j*Q)))\n",
    "annotation='Decay time: $T_1={0:3.2f} \\mu s$'.format(fitresults[0][4]*1e6)\n",
    "save_pkl(header, measurement, annotation=annotation, curve_fit=fitted_curve)"
   ]
  },
  {
   "cell_type": "code",
   "execution_count": 39,
   "metadata": {},
   "outputs": [
    {
     "name": "stdout",
     "output_type": "stream",
     "text": [
      "\u001b[1;31m---------------------------------------------------------------------------\u001b[0m\n",
      "\u001b[1;31mAttributeError\u001b[0m                            Traceback (most recent call last)\n",
      "\u001b[1;32m<ipython-input-39-c52c68ec3570>\u001b[0m in \u001b[0;36m<module>\u001b[1;34m()\u001b[0m\n",
      "\u001b[0;32m      3\u001b[0m save_pkl(header, 'T1_1', {\"I\": I , \"Q\": Q, \"fit_res\": fitresults, \n",
      "\u001b[0;32m      4\u001b[0m                 \u001b[1;34m\"ro_delays\"\u001b[0m\u001b[1;33m:\u001b[0m \u001b[0mro_delays\u001b[0m\u001b[1;33m,\u001b[0m \u001b[1;34m\"fit_func\"\u001b[0m\u001b[1;33m:\u001b[0m \u001b[1;34m\"lambda x, A0 ,A1, t: A0 + A1*np.exp(-x/t)\"\u001b[0m\u001b[1;33m,\u001b[0m\u001b[1;33m\u001b[0m\u001b[0m\n",
      "\u001b[1;32m----> 5\u001b[1;33m                 \"ex_freq\":ex_freq,\"ro_freq\": ro_freq} )\n",
      "\u001b[0m\n",
      "\u001b[1;32mc:\\qtlab\\ReiData\\qtlab_addons\\scripts\\save_pkl.py\u001b[0m in \u001b[0;36msave_pkl\u001b[1;34m(header, data, plot, curve_fit, annotation)\u001b[0m\n",
      "\u001b[0;32m     47\u001b[0m \u001b[1;33m\u001b[0m\u001b[0m\n",
      "\u001b[0;32m     48\u001b[0m         \u001b[1;32mif\u001b[0m \u001b[1;33m(\u001b[0m \u001b[1;33m(\u001b[0m\u001b[0mlen\u001b[0m\u001b[1;33m(\u001b[0m\u001b[0mdata\u001b[0m\u001b[1;33m)\u001b[0m \u001b[1;33m==\u001b[0m \u001b[1;36m4\u001b[0m\u001b[1;33m)\u001b[0m \u001b[1;32mand\u001b[0m \u001b[0mplot\u001b[0m\u001b[1;33m)\u001b[0m\u001b[1;33m:\u001b[0m\u001b[1;33m\u001b[0m\u001b[0m\n",
      "\u001b[1;32m---> 49\u001b[1;33m                 \u001b[1;32mif\u001b[0m \u001b[1;33m(\u001b[0m\u001b[0mlen\u001b[0m\u001b[1;33m(\u001b[0m\u001b[0mdata\u001b[0m\u001b[1;33m[\u001b[0m\u001b[1;36m2\u001b[0m\u001b[1;33m]\u001b[0m\u001b[1;33m.\u001b[0m\u001b[0mshape\u001b[0m\u001b[1;33m)\u001b[0m \u001b[1;33m==\u001b[0m \u001b[1;36m1\u001b[0m\u001b[1;33m)\u001b[0m\u001b[1;33m:\u001b[0m\u001b[1;33m\u001b[0m\u001b[0m\n",
      "\u001b[0m\u001b[0;32m     50\u001b[0m                         \u001b[0mplt\u001b[0m\u001b[1;33m.\u001b[0m\u001b[0mfigure\u001b[0m\u001b[1;33m(\u001b[0m\u001b[1;33m)\u001b[0m\u001b[1;33m\u001b[0m\u001b[0m\n",
      "\u001b[0;32m     51\u001b[0m                         \u001b[0mplt\u001b[0m\u001b[1;33m.\u001b[0m\u001b[0mplot\u001b[0m\u001b[1;33m(\u001b[0m\u001b[0mdata\u001b[0m\u001b[1;33m[\u001b[0m\u001b[1;36m0\u001b[0m\u001b[1;33m]\u001b[0m\u001b[1;33m,\u001b[0m \u001b[0mdata\u001b[0m\u001b[1;33m[\u001b[0m\u001b[1;36m2\u001b[0m\u001b[1;33m]\u001b[0m\u001b[1;33m)\u001b[0m\u001b[1;33m\u001b[0m\u001b[0m\n",
      "\n",
      "\u001b[1;31mAttributeError\u001b[0m: 'str' object has no attribute 'shape'\n"
     ]
    }
   ],
   "source": [
    "#Save \n",
    "save_pkl_noplt('T1_1', {\"I\": I , \"Q\": Q, \"fit_res\": fit_res, \n",
    "                \"ro_delays\": ro_delays, \"fit_func\": \"lambda x, A0 ,A1, t: A0 + A1*np.exp(-x/t)\",\n",
    "                \"ex_freq\":ex_freq,\"ro_freq\": ro_freq} )"
   ]
  },
  {
   "cell_type": "code",
   "execution_count": 161,
   "metadata": {
    "collapsed": true
   },
   "outputs": [],
   "source": [
    "pkl = load_pkl('cernter_freq/inc_dec3')\n",
    "Amp = pkl[\"Amp\"]\n",
    "Ph = pkl[\"Ph\"]\n",
    "ro_delays = pkl[\"ro_delays\"]"
   ]
  },
  {
   "cell_type": "code",
   "execution_count": 147,
   "metadata": {},
   "outputs": [
    {
     "data": {
      "text/plain": [
       "6.000000000000001e-08"
      ]
     },
     "execution_count": 147,
     "metadata": {},
     "output_type": "execute_result"
    }
   ],
   "source": [
    "30.*2e-9"
   ]
  },
  {
   "cell_type": "markdown",
   "metadata": {},
   "source": [
    "# Rabi"
   ]
  },
  {
   "cell_type": "code",
   "execution_count": 15,
   "metadata": {},
   "outputs": [
    {
     "name": "stdout",
     "output_type": "stream",
     "text": [
      "4096\n"
     ]
    },
    {
     "name": "stderr",
     "output_type": "stream",
     "text": [
      "C:\\Python27\\Lib\\site-packages\\matplotlib\\axes\\_base.py:2809: UserWarning: Attempting to set identical bottom==top results\n",
      "in singular transformations; automatically expanding.\n",
      "bottom=0.263702185712, top=0.263702185712\n",
      "  'bottom=%s, top=%s') % (bottom, top))\n",
      "C:\\Python27\\Lib\\site-packages\\matplotlib\\axes\\_base.py:2809: UserWarning: Attempting to set identical bottom==top results\n",
      "in singular transformations; automatically expanding.\n",
      "bottom=-0.0385615930668, top=-0.0385615930668\n",
      "  'bottom=%s, top=%s') % (bottom, top))\n"
     ]
    }
   ],
   "source": [
    "#Длительности возбуждающих импульсов\n",
    "pulse_lengths = np.arange(0., 2e-6, 4e-9)\n",
    "\n",
    "PulsePeriod = 20e-6\n",
    "\n",
    "ro_pulse_length = 1e-6\n",
    "#Длительность выборки DAQ\n",
    "SampleRate = 500e6\n",
    "nums = 1000\n",
    "Range = 50\n",
    "SampleRate_ro = SampleRate\n",
    "SampleRate_ex = SampleRate*2\n",
    "software_averages = 10\n",
    "\n",
    "lo1.set_frequency(ex_lo_freq)\n",
    "pna.set_cw_freq(ro_lo_freq)\n",
    "\n",
    "awg.set_repetition_period(PulsePeriod)\n",
    "awg_tek.set_repetition_period(PulsePeriod-1e-6)\n",
    "\n",
    "#Настраиваем awg\n",
    "data_len_ex = int(PulsePeriod*SampleRate_ex)+1 \n",
    "data_len_ro = int(PulsePeriod*SampleRate_ro)+1 \n",
    "awg.set_repetition_period(PulsePeriod)\n",
    "awg_ex.set_trigger_mode('TRIG')\n",
    "\n",
    "#Инициализация DAQ\n",
    "signal_size = int(np.ceil((np.max(pulse_lengths)+ro_pulse_length)*SampleRate_ro))\n",
    "segsize = 2*int( 2**np.ceil(np.log2(signal_size)) )\n",
    "print segsize\n",
    "posttrigger = segsize*3/4\n",
    "signal_start = segsize - posttrigger \n",
    "signal_end = segsize - posttrigger + signal_size + zero_delay*2\n",
    "if signal_end>segsize:\n",
    "    signal_end = segsize\n",
    "#segsize = 2048\n",
    "#posttrigger = 512*3\n",
    "    \n",
    "daq0.stop()\n",
    "daq0.set_spc_samplerate(SampleRate)\n",
    "daq0.init_channel01_multiple_recording(rate=SampleRate, nums=nums, segsize=segsize, \n",
    "                                  posttrigger=posttrigger, amp0=Range, amp1=Range)\n",
    "daq0.trigger_termination_50Ohm()\n",
    "daq0.buffer_setup()\n",
    "\n",
    "\n",
    "lo1.set_status(1)\n",
    "#segsize = signal_end -  signal_start\n",
    "#Контейнеры для данных\n",
    "measQ = np.zeros((len(pulse_lengths), segsize))\n",
    "measI = np.zeros((len(pulse_lengths), segsize))\n",
    "I_Rabi = np.zeros( len(pulse_lengths) )\n",
    "Q_Rabi = np.zeros( len(pulse_lengths) )\n",
    "\n",
    "#Функции для демодуляции\n",
    "t = linspace(0.,segsize/SampleRate, segsize, endpoint=False)\n",
    "dm_sin = sin(2.*pi*ro_if*t)\n",
    "dm_cos = cos(2.*pi*ro_if*t)\n",
    "\n",
    "#Графики\n",
    "plt.figure(\"I_Rabi\")\n",
    "amp_plot = plt.plot(pulse_lengths, I_Rabi)[0]\n",
    "plt.figure(\"Q_Rabi\")\n",
    "ph_plot = plt.plot(pulse_lengths, Q_Rabi)[0]\n",
    "\n",
    "max_pulse_length = np.max(pulse_lengths)\n",
    "\n",
    "#Считывающий импульс сразу после возбуждающего\n",
    "roPulseI = RectSine(settings_ro[awg_ro_I_ch]['A'], 1./ro_if, ro_pulse_length,\n",
    "                    settings_ro[awg_ro_I_ch]['P'], settings_ro[awg_ro_I_ch]['O'], max_pulse_length+500e-9, sample_period = 1./SampleRate_ro)\n",
    "roPulseQ = RectSine(settings_ro[awg_ro_Q_ch]['A'], 1./ro_if, ro_pulse_length, \n",
    "                    settings_ro[awg_ro_Q_ch]['P'], settings_ro[awg_ro_Q_ch]['O'], max_pulse_length+500e-9, sample_period = 1./SampleRate_ro)\n",
    "awg_ro.LoadRAM(awg_ro_I_ch, roPulseI)\n",
    "awg_ro.LoadRAM(awg_ro_Q_ch, roPulseQ)\n",
    "# setting trigger to start readout immideately after excitation puls\n",
    "# zero_delay надо сначала померить в delay synchronization\n",
    "#triggerPulse = [0, zero_delay+int(max_pulse_length/1e-9), 3, 100, 3, 1, 0, 4]\n",
    "#SyncPulseProg = awg.intToBytes(triggerPulse)\n",
    "#awg.ProgPulse(0, SyncPulseProg)\n",
    "\n",
    "\n",
    "for i, ex_pulse_length in enumerate(pulse_lengths):\n",
    "   \n",
    "    #Возбуждающий импульс переменной длины\n",
    "    exPulseI = RectSine(settings_ex[awg_ex_I_ch]['A'], 1./ex_if, ex_pulse_length, \n",
    "                        settings_ex[awg_ex_I_ch]['P'], \n",
    "                        settings_ex[awg_ex_I_ch]['O'], max_pulse_length - ex_pulse_length, sample_period = 1./SampleRate_ex)\n",
    "    exPulseQ = RectSine(settings_ex[awg_ex_Q_ch]['A'], 1./ex_if,\n",
    "                        ex_pulse_length, settings_ex[awg_ex_Q_ch]['P'], settings_ex[awg_ex_Q_ch]['O'],\n",
    "                        max_pulse_length - ex_pulse_length, sample_period = 1./SampleRate_ex)\n",
    "\n",
    "    awg_tek.run()\n",
    "    exPulseI[0] = settings_ex[awg_ex_I_ch]['O']\n",
    "    exPulseQ[0] = settings_ex[awg_ex_Q_ch]['O']\n",
    "    #Программируем импульсы в awg\n",
    "    awg_ex.LoadRAM(awg_ex_I_ch, exPulseI[0:data_len_ex])\n",
    "    awg_ex.LoadRAM(awg_ex_Q_ch, exPulseQ[0:data_len_ex])\n",
    "    \n",
    "    for software_average_id in range(software_averages):\n",
    "        \n",
    "        #Мерием по триггеру\n",
    "        daq0.start_with_trigger_and_waitready()\n",
    "        #Усредняем результат\n",
    "        measI[i] += np.sum(daq0.readout_doublechannel_multimode_bin()[0],\n",
    "                           axis=0)\n",
    "        measQ[i] += np.sum(daq0.readout_doublechannel_multimode_bin()[1],\n",
    "                           axis=0)\n",
    "        measI[i] -=np.mean(measI[i]) \n",
    "        measQ[i] -=np.mean(measQ[i])\n",
    "        \n",
    "        daq0.stop()\n",
    "     \n",
    "    #Делаем преобразованеи до нулевой частоты \n",
    "    I_Rabi[i] = np.mean(measI[i]*dm_cos - measQ[i]*dm_sin)/(nums*software_averages)\n",
    "    Q_Rabi[i] = np.mean(measQ[i]*dm_cos + measI[i]*dm_sin)/(nums*software_averages)\n",
    "      \n",
    "    #Рисуем графики\n",
    "    plt.figure(\"I_Rabi\")\n",
    "    amp_plot.set_data(pulse_lengths[:i+1], I_Rabi[:i+1])\n",
    "    plt.ylim((np.min(I_Rabi[:i+1]), np.max(I_Rabi[:i+1])))\n",
    "    plt.figure(\"Q_Rabi\")\n",
    "    ph_plot.set_data(pulse_lengths[:i+1], Q_Rabi[:i+1])\n",
    "    plt.ylim((np.min(Q_Rabi[:i+1]), np.max(Q_Rabi[:i+1])))\n",
    "    plt.pause(0.01)   "
   ]
  },
  {
   "cell_type": "code",
   "execution_count": 17,
   "metadata": {},
   "outputs": [
    {
     "name": "stderr",
     "output_type": "stream",
     "text": [
      "C:\\Python27\\Lib\\site-packages\\matplotlib\\collections.py:590: FutureWarning: elementwise comparison failed; returning scalar instead, but in the future will perform elementwise comparison\n",
      "  if self._edgecolors == str('face'):\n"
     ]
    },
    {
     "data": {
      "text/plain": [
       "[<matplotlib.lines.Line2D at 0x153b1510>]"
      ]
     },
     "execution_count": 17,
     "metadata": {},
     "output_type": "execute_result"
    }
   ],
   "source": [
    "plt.plot(pulse_lengths[:i+1], Q_Rabi[:i+1])"
   ]
  },
  {
   "cell_type": "code",
   "execution_count": 18,
   "metadata": {},
   "outputs": [
    {
     "data": {
      "text/plain": [
       "<matplotlib.collections.QuadMesh at 0x14eaab90>"
      ]
     },
     "execution_count": 18,
     "metadata": {},
     "output_type": "execute_result"
    }
   ],
   "source": [
    "plt.pcolormesh(measI)"
   ]
  },
  {
   "cell_type": "markdown",
   "metadata": {},
   "source": [
    "# Rabi with Gaussian-convolved rect pulses"
   ]
  },
  {
   "cell_type": "code",
   "execution_count": 14,
   "metadata": {},
   "outputs": [
    {
     "name": "stdout",
     "output_type": "stream",
     "text": [
      "4096\n"
     ]
    },
    {
     "name": "stderr",
     "output_type": "stream",
     "text": [
      "C:\\Python27\\Lib\\site-packages\\matplotlib\\axes\\_base.py:2809: UserWarning: Attempting to set identical bottom==top results\n",
      "in singular transformations; automatically expanding.\n",
      "bottom=0.000657342342055, top=0.000657342342055\n",
      "  'bottom=%s, top=%s') % (bottom, top))\n",
      "C:\\Python27\\Lib\\site-packages\\matplotlib\\axes\\_base.py:2809: UserWarning: Attempting to set identical bottom==top results\n",
      "in singular transformations; automatically expanding.\n",
      "bottom=-1.78596610408e-05, top=-1.78596610408e-05\n",
      "  'bottom=%s, top=%s') % (bottom, top))\n"
     ]
    }
   ],
   "source": [
    "#Длительности возбуждающих импульсов\n",
    "pulse_lengths = np.arange(0., 10e-6, 4e-9)\n",
    "\n",
    "PulsePeriod = 20e-6\n",
    "\n",
    "ro_pulse_length = 1e-6\n",
    "#Длительность выборки DAQ\n",
    "SampleRate = 500e6\n",
    "nums = 1000\n",
    "Range = 50\n",
    "\n",
    "software_averages = 10\n",
    "\n",
    "lo1.set_frequency(ex_lo_freq)\n",
    "pna.set_cw_freq(ro_lo_freq)\n",
    "\n",
    "#Настраиваем awg\n",
    "data_len = int(PulsePeriod/2e-9)+1 \n",
    "awg.set_repetition_period(PulsePeriod)\n",
    "\n",
    "#Инициализация DAQ\n",
    "signal_size = int(np.ceil(ro_pulse_length*3.*SampleRate))\n",
    "segsize = 2*int( 2**np.ceil(np.log2(signal_size)) )\n",
    "print segsize\n",
    "posttrigger = segsize*3/4\n",
    "signal_start = segsize - posttrigger \n",
    "signal_end = segsize - posttrigger + signal_size + zero_delay*2\n",
    "if signal_end>segsize:\n",
    "    signal_end = segsize\n",
    "segsize = 2048\n",
    "posttrigger = 512*3\n",
    "    \n",
    "daq0.stop()\n",
    "daq0.set_spc_samplerate(SampleRate)\n",
    "daq0.init_channel01_multiple_recording(rate=SampleRate, nums=nums, segsize=segsize, \n",
    "                                  posttrigger=posttrigger, amp0=Range, amp1=Range)\n",
    "daq0.trigger_termination_50Ohm()\n",
    "daq0.buffer_setup()\n",
    "\n",
    "\n",
    "lo1.set_status(1)\n",
    "#segsize = signal_end -  signal_start\n",
    "#Контейнеры для данных\n",
    "measQ = np.zeros((len(pulse_lengths), segsize))\n",
    "measI = np.zeros((len(pulse_lengths), segsize))\n",
    "I_Rabi = np.zeros( len(pulse_lengths) )\n",
    "Q_Rabi = np.zeros( len(pulse_lengths) )\n",
    "\n",
    "#Функции для демодуляции\n",
    "t = linspace(0.,segsize/SampleRate, segsize, endpoint=False)\n",
    "dm_sin = sin(2.*pi*ro_if*t)\n",
    "dm_cos = cos(2.*pi*ro_if*t)\n",
    "\n",
    "#Графики\n",
    "plt.figure(\"I_Rabi\")\n",
    "amp_plot = plt.plot(pulse_lengths, I_Rabi)[0]\n",
    "plt.figure(\"Q_Rabi\")\n",
    "ph_plot = plt.plot(pulse_lengths, Q_Rabi)[0]\n",
    "\n",
    "max_pulse_length = np.max(pulse_lengths)\n",
    "\n",
    "#Считывающий импульс сразу после возбуждающего\n",
    "roPulseI = RectSine(settings_ro[awg_ro_I_ch]['A'], 1./ro_if, ro_pulse_length,\n",
    "                    settings_ro[awg_ro_I_ch]['P'], settings_ro[awg_ro_I_ch]['O'], max_pulse_length+500e-9)\n",
    "roPulseQ = RectSine(settings_ro[awg_ro_Q_ch]['A'], 1./ro_if, ro_pulse_length, \n",
    "                    settings_ro[awg_ro_Q_ch]['P'], settings_ro[awg_ro_Q_ch]['O'], max_pulse_length+500e-9)\n",
    "awg_ro.LoadRAM(awg_ro_I_ch, roPulseI)\n",
    "awg_ro.LoadRAM(awg_ro_Q_ch, roPulseQ)\n",
    "awg_ex.set_trigger_mode('TRIG')\n",
    "# setting trigger to start readout immideately after excitation puls\n",
    "# zero_delay надо сначала померить в delay synchronization\n",
    "#triggerPulse = [0, zero_delay+int(max_pulse_length/1e-9), 3, 100, 3, 1, 0, 4]\n",
    "#SyncPulseProg = awg.intToBytes(triggerPulse)\n",
    "#awg.ProgPulse(0, SyncPulseProg)\n",
    "\n",
    "\n",
    "for i, ex_pulse_length in enumerate(pulse_lengths):\n",
    "   \n",
    "    #Возбуждающий импульс переменной длины\n",
    "    exPulseI = RectSine(settings_ex[awg_ex_I_ch]['A'], 1./ex_if, ex_pulse_length, \n",
    "                        settings_ex[awg_ex_I_ch]['P'], \n",
    "                        settings_ex[awg_ex_I_ch]['O'], max_pulse_length - ex_pulse_length)\n",
    "    exPulseQ = RectSine(settings_ex[awg_ex_Q_ch]['A'], 1./ex_if,\n",
    "                        ex_pulse_length, settings_ex[awg_ex_Q_ch]['P'], settings_ex[awg_ex_Q_ch]['O'],\n",
    "                        max_pulse_length - ex_pulse_length)\n",
    "\n",
    "    awg_tek.run()\n",
    "    exPulseI[0] = settings_ex[awg_ex_I_ch]['O']\n",
    "    exPulseQ[0] = settings_ex[awg_ex_Q_ch]['O']\n",
    "    #Программируем импульсы в awg\n",
    "    awg_ex.LoadRAM(awg_ex_I_ch, exPulseI[0:data_len])\n",
    "    awg_ex.LoadRAM(awg_ex_Q_ch, exPulseQ[0:data_len])\n",
    "    \n",
    "    for software_average_id in range(software_averages):\n",
    "        \n",
    "        #Мерием по триггеру\n",
    "        daq0.start_with_trigger_and_waitready()\n",
    "        #Усредняем результат\n",
    "        measI[i] += np.sum(daq0.readout_doublechannel_multimode_bin()[0],\n",
    "                           axis=0)\n",
    "        measQ[i] += np.sum(daq0.readout_doublechannel_multimode_bin()[1],\n",
    "                           axis=0)\n",
    "        measI[i] -=np.mean(measI[i]) \n",
    "        measQ[i] -=np.mean(measQ[i])\n",
    "        \n",
    "        daq0.stop()\n",
    "     \n",
    "    #Делаем преобразованеи до нулевой частоты \n",
    "    I_Rabi[i] = np.mean(measI[i]*dm_cos - measQ[i]*dm_sin)/(nums*software_averages)\n",
    "    Q_Rabi[i] = np.mean(measQ[i]*dm_cos + measI[i]*dm_sin)/(nums*software_averages)\n",
    "      \n",
    "    #Рисуем графики\n",
    "    plt.figure(\"I_Rabi\")\n",
    "    amp_plot.set_data(pulse_lengths[:i+1], I_Rabi[:i+1])\n",
    "    plt.ylim((np.min(I_Rabi[:i+1]), np.max(I_Rabi[:i+1])))\n",
    "    plt.figure(\"Q_Rabi\")\n",
    "    ph_plot.set_data(pulse_lengths[:i+1], Q_Rabi[:i+1])\n",
    "    plt.ylim((np.min(Q_Rabi[:i+1]), np.max(Q_Rabi[:i+1])))\n",
    "    plt.pause(0.01)   "
   ]
  },
  {
   "cell_type": "code",
   "execution_count": 27,
   "metadata": {},
   "outputs": [
    {
     "data": {
      "text/plain": [
       "[<matplotlib.lines.Line2D at 0x193db730>]"
      ]
     },
     "execution_count": 27,
     "metadata": {},
     "output_type": "execute_result"
    }
   ],
   "source": [
    "I_Rabi = np.mean((np.asarray(measI)*dm_cos - np.asarray(measQ)*dm_sin)[:, 1041:], axis=1)\n",
    "Q_Rabi = np.mean((np.asarray(measI)*dm_cos + np.asarray(measQ)*dm_sin)[:, 1041:], axis=1)\n",
    "plt.figure()\n",
    "plt.plot(I_Rabi)\n",
    "plt.figure()\n",
    "plt.plot(Q_Rabi)"
   ]
  },
  {
   "cell_type": "code",
   "execution_count": 29,
   "metadata": {},
   "outputs": [
    {
     "data": {
      "text/plain": [
       "[<matplotlib.lines.Line2D at 0x1ac974d0>]"
      ]
     },
     "execution_count": 29,
     "metadata": {},
     "output_type": "execute_result"
    }
   ],
   "source": [
    "plt.plot(np.abs(S21))"
   ]
  },
  {
   "cell_type": "code",
   "execution_count": 31,
   "metadata": {
    "collapsed": true
   },
   "outputs": [],
   "source": [
    "# фитует результаты измерений экспонентой\n",
    "S21 = I_Rabi+1j*Q_Rabi\n",
    "f = lambda x,A0r,Aoi,A1r,A1i,t,fR,phi0,eq_pop: (A0r+A0i*1j+(A1r+A1i*1j)*(eq_pop+np.exp(-x/t)*(np.cos(2*np.pi*fR*x+phi0)-eq_pop)))\n",
    "cost = lambda p: np.abs(f(pulse_lengths,*p)-S21)**2\n",
    "# изначальные параметры:\n",
    "Rabi_fft=np.fft.fft(S21-np.mean(S21))\n",
    "frequencies = np.fft.fftfreq(len(pulse_lengths), pulse_lengths[1]-pulse_lengths[0])\n",
    "plt.plot(frequencies, np.abs(Rabi_fft))\n",
    "fR = frequencies[np.argmax(np.abs(Rabi_fft))]\n",
    "A0r =np.mean(S21.real)\n",
    "A0i =np.mean(S21.imag)\n",
    "A1r = np.sqrt(2)*np.std(S21.real)\n",
    "A1i = np.sqrt(2)*np.std(S21.imag)\n",
    "phi0 = 0\n",
    "t = np.mean(pulse_lengths)\n",
    "eq_pop = 0.5\n",
    "from scipy.optimize import leastsq\n",
    "fitresults = leastsq(cost, (A0r,A0i,A1r,A1i,t,fR,phi0,eq_pop))\n",
    "fitted_curve = (pulse_lengths, np.log10(np.abs(f(pulse_lengths, *(fitresults[0]))))*10, np.unwrap(np.angle(f(pulse_lengths, *(fitresults[0])))))"
   ]
  },
  {
   "cell_type": "code",
   "execution_count": 21,
   "metadata": {},
   "outputs": [
    {
     "name": "stdout",
     "output_type": "stream",
     "text": [
      "{'I': array([  1.98760343e-01,   6.08047562e-02,   4.89290358e-09,\n",
      "         3.83571898e+04,  -3.31902629e-02]), 'Q': array([  1.88660844e-01,  -2.27218252e-01,   1.33342517e-10,\n",
      "         1.01908594e+07,   2.48466948e-04]), 'Qerr': array([ inf,  inf,  inf,  inf,  inf]), 'Ierr': array([  7.28098784e-04,   3.06877112e+02,   1.64342324e-06,\n",
      "         1.17465832e+10,   1.93463255e+05])}\n"
     ]
    },
    {
     "name": "stderr",
     "output_type": "stream",
     "text": [
      "C:\\Python27\\Lib\\site-packages\\IPython\\kernel\\__main__.py:3: RuntimeWarning: overflow encountered in exp\n",
      "  app.launch_new_instance()\n"
     ]
    }
   ],
   "source": [
    "# фитует результаты измерений\n",
    "\n",
    "f = lambda x, A0, A1, t, fR, phi: A0 + A1*np.exp(-x/t)*(np.cos(2*np.pi*fR*x + phi))\n",
    "#########################################\n",
    "fit_res={'I':zeros(3),'Q':zeros(3), 'Ierr': zeros(3), 'Qerr': zeros(3)}\n",
    "\n",
    "for dat,id in zip([I_Rabi, Q_Rabi],['I','Q']):\n",
    "    fR = 10e6\n",
    "    A0 =np.mean(dat)\n",
    "    A1 = np.sqrt(2)*np.std(dat)\n",
    "    phi = 0.\n",
    "    t = 0.4e-6\n",
    "    (res, err) = so.curve_fit(f, pulse_lengths, dat, p0 = (A0, A1, t, fR, phi))\n",
    "    fit_res[id] = res\n",
    "    fit_res[id+'err'] = np.sqrt(np.diag(err))\n",
    "    plt.figure(id)\n",
    "    plt.plot(pulse_lengths,  dat, 'o')\n",
    "    plt.plot(pulse_lengths,  f(pulse_lengths, *tuple(res) ),\n",
    "         label = \"T_Rabi={:.2f}us\\nF_Rabi={:.2f}MHz\".format(res[2]*1e6, res[3]*1e-6), lw = 2, color = 'red')\n",
    "    plt.legend()\n",
    "print fit_res "
   ]
  },
  {
   "cell_type": "code",
   "execution_count": 30,
   "metadata": {
    "collapsed": true
   },
   "outputs": [],
   "source": [
    "#Save with plot\n",
    "header = {'date':datetime.datetime.now(), 'type': 'Rabi', 'name': 'Fliegenklatsche', \n",
    "          'ro_pulse_length':ro_pulse_length,  'Rabi frequency, Hz':np.abs(fitresults[0][5]), 'Rabi oscillation decay time, s': np.abs(fitresults[0][4])}\n",
    "annotation = 'Rabi frequency: ${0:2.2f} \\mathrm{{MHz}}$, Decay time: ${1:2.2f} \\mu\\mathrm{{s}}$\\nExcitation freq: {2:1.4} GHz'.format(\\\n",
    "                        np.abs(fitresults[0][5])/1e6, fitresults[0][4]*1e6, ex_freq/1e9)\n",
    "\n",
    "measurement =        ((pulse_lengths, np.asarray([0]), \n",
    "                       np.log10(np.abs(S21))*10, np.unwrap(np.angle(S21))))\n",
    "\n",
    "save_pkl(header, measurement, curve_fit=fitted_curve, annotation=annotation)"
   ]
  },
  {
   "cell_type": "code",
   "execution_count": 173,
   "metadata": {
    "collapsed": true
   },
   "outputs": [],
   "source": [
    "#Save \n",
    "filename = 'rabi_1'\n",
    "save_pkl_noplt(filename, {\"I\": I_Rabi , \"Q\": Q_Rabi, \"fit_res\": fit_res, \"pulse_lenghts\":pulse_lengths,\n",
    "                \"fit_func\": \"lambda x, A0, A1, t, fR, phi: A0 + A1*np.exp(-x/t)*(np.cos(2*np.pi*fR*x + phi))\",\n",
    "                \"ex_freq\":ex_freq,\"ro_freq\": ro_freq} )\n"
   ]
  },
  {
   "cell_type": "code",
   "execution_count": 167,
   "metadata": {},
   "outputs": [
    {
     "data": {
      "text/plain": [
       "1.5603623306426543e-07"
      ]
     },
     "execution_count": 167,
     "metadata": {},
     "output_type": "execute_result"
    }
   ],
   "source": [
    "1./fit_res['I'][3]/2."
   ]
  },
  {
   "cell_type": "code",
   "execution_count": 43,
   "metadata": {
    "collapsed": true
   },
   "outputs": [],
   "source": [
    "#Load\n",
    "pkl = load_pkl('rabi5')\n",
    "Amp = pkl[\"Amp\"]\n",
    "Ph = pkl[\"Ph\"]\n",
    "pulse_lengths = pkl[\"pulse_lenghts\"]"
   ]
  },
  {
   "cell_type": "markdown",
   "metadata": {},
   "source": [
    "# Single-shot readout classifier data acquisition"
   ]
  },
  {
   "cell_type": "code",
   "execution_count": 17,
   "metadata": {},
   "outputs": [
    {
     "name": "stdout",
     "output_type": "stream",
     "text": [
      "\u001b[1;31m---------------------------------------------------------------------------\u001b[0m\n",
      "\u001b[1;31mNameError\u001b[0m                                 Traceback (most recent call last)\n",
      "\u001b[1;32m<ipython-input-17-f2900ce6be99>\u001b[0m in \u001b[0;36m<module>\u001b[1;34m()\u001b[0m\n",
      "\u001b[0;32m     34\u001b[0m                             settings_ex[awg_ex_Q_ch]['P'], settings_ex[awg_ex_Q_ch]['O'], 0, sample_period = 1./SampleRate_ex)\n",
      "\u001b[0;32m     35\u001b[0m roPulseI = RectSine(settings_ro[awg_ro_I_ch]['A'], 1./settings_ro[awg_ro_I_ch]['F'], ro_pulse_length, 0, \n",
      "\u001b[1;32m---> 36\u001b[1;33m                         settings_ro[awg_ro_I_ch]['O'], pulse_length+500e-9, sample_period = 1./SampleRate_ro)\n",
      "\u001b[0m\u001b[0;32m     37\u001b[0m roPulseQ = RectSine(settings_ro[awg_ro_Q_ch]['A'], 1./settings_ro[awg_ro_Q_ch]['F'], ro_pulse_length, \n",
      "\u001b[0;32m     38\u001b[0m                         settings_ro[awg_ro_Q_ch]['P'], settings_ro[awg_ro_Q_ch]['O'], pulse_length+500e-9, sample_period = 1./SampleRate_ro)\n",
      "\n",
      "\u001b[1;31mNameError\u001b[0m: name 'SampleRate_ro' is not defined\n"
     ]
    }
   ],
   "source": [
    "hardware_samplerate = 500e6\n",
    "nums = 5000\n",
    "ro_pulse_length = 2e-6\n",
    "ro_readout_length = 4e-6\n",
    "hardware_segsize = int(2**np.ceil(np.log(ro_readout_length*hardware_samplerate)/np.log(2))*2)\n",
    "posttrigger = 3*hardware_segsize/4\n",
    "amp = 50\n",
    "offs = 0\n",
    "timeout = 20000\n",
    "PulsePeriod = 40e-6\n",
    "reprate = 1/PulsePeriod\n",
    "software_averages = 1\n",
    "software_binning = 1\n",
    "binned_segsize = hardware_segsize/software_binning\n",
    "center_freq_point = int(settings_ro[awg_ro_I_ch]['F']/hardware_samplerate*hardware_segsize)\n",
    "\n",
    "awg_ex.set_repetition_period(PulsePeriod-1e-6)\n",
    "awg_ro.set_repetition_period(PulsePeriod)\n",
    "\n",
    "lo1.set_status(1)\n",
    "lo1.set_frequency(ex_freq-settings_ex[awg_ex_I_ch]['F'])\n",
    "pna.set_cw_freq(ro_freq-settings_ro[awg_ro_I_ch]['F'])\n",
    "pulse = 'on'\n",
    "if pulse == 'on':\n",
    "    pulse_length = 1/(2*17e6)\n",
    "else:\n",
    "    pulse_length = 0\n",
    "samplesI = np.zeros((binned_segsize, software_averages*nums), dtype=np.int8)\n",
    "samplesQ = np.zeros((binned_segsize, software_averages*nums), dtype=np.int8)\n",
    "\n",
    "exPulseI = RectSine(settings_ex[awg_ex_I_ch]['A'], 1./settings_ex[awg_ex_I_ch]['F'], pulse_length, 0, \n",
    "                            settings_ex[awg_ex_I_ch]['O'], 0, sample_period = 1./SampleRate_ex)\n",
    "exPulseQ = RectSine(settings_ex[awg_ex_Q_ch]['A'], 1./settings_ex[awg_ex_Q_ch]['F'], pulse_length, \n",
    "                            settings_ex[awg_ex_Q_ch]['P'], settings_ex[awg_ex_Q_ch]['O'], 0, sample_period = 1./SampleRate_ex)\n",
    "roPulseI = RectSine(settings_ro[awg_ro_I_ch]['A'], 1./settings_ro[awg_ro_I_ch]['F'], ro_pulse_length, 0, \n",
    "                        settings_ro[awg_ro_I_ch]['O'], pulse_length+500e-9, sample_period = 1./SampleRate_ro)\n",
    "roPulseQ = RectSine(settings_ro[awg_ro_Q_ch]['A'], 1./settings_ro[awg_ro_Q_ch]['F'], ro_pulse_length, \n",
    "                        settings_ro[awg_ro_Q_ch]['P'], settings_ro[awg_ro_Q_ch]['O'], pulse_length+500e-9, sample_period = 1./SampleRate_ro)\n",
    "# setting trigger to start readout after excitation pulses\n",
    "#triggerPulse = [0, zero_delay+int(pulse_length/1e-9), 3, 100, 3, 1, 0, 4]\n",
    "#SyncPulseProg = awg.intToBytes(triggerPulse)\n",
    "#awg.ProgPulse(0, SyncPulseProg)\n",
    "\n",
    "\n",
    "roPulseI[0] = settings_ro[awg_ro_I_ch]['O']\n",
    "roPulseQ[0] = settings_ro[awg_ro_Q_ch]['O']\n",
    "exPulseI[0] = settings_ex[awg_ex_I_ch]['O']\n",
    "exPulseQ[0] = settings_ex[awg_ex_Q_ch]['O']\n",
    "\n",
    "awg_ex.LoadRAM(awg_ex_I_ch, exPulseI)\n",
    "awg_ex.LoadRAM(awg_ex_Q_ch, exPulseQ)\n",
    "awg_ro.LoadRAM(awg_ro_I_ch, roPulseI)\n",
    "awg_ro.LoadRAM(awg_ro_Q_ch, roPulseQ)\n",
    "    \n",
    "#plt.plot(exPulseI)\n",
    "#plt.plot(roPulseQ)\n",
    "    \n",
    "daq0.stop()\n",
    "daq0.init_channel01_multiple_recording(rate=SampleRate, nums=nums, segsize=hardware_segsize, \n",
    "                                  posttrigger=posttrigger, amp0=amp, amp1=amp)\n",
    "daq0.buffer_setup()\n",
    "for software_average_id in range(software_averages):\n",
    "    daq0.trigger_termination_50Ohm()\n",
    "    daq0.start_with_trigger_and_waitready()\n",
    "    data = np.sum(np.reshape(daq0.readout_doublechannel_multimode_bin()[0], (nums, binned_segsize, software_binning)), axis=2).T\n",
    "    samplesI[:,software_average_id*nums:(software_average_id+1)*nums] = data\n",
    "    data = np.sum(np.reshape(daq0.readout_doublechannel_multimode_bin()[1], (nums, binned_segsize, software_binning)), axis=2).T\n",
    "    samplesQ[:,software_average_id*nums:(software_average_id+1)*nums] = data\n",
    "    daq0.stop()"
   ]
  },
  {
   "cell_type": "code",
   "execution_count": 20,
   "metadata": {},
   "outputs": [
    {
     "data": {
      "text/plain": [
       "(-0.00016741688807382282, 0.00024374791131208514)"
      ]
     },
     "execution_count": 20,
     "metadata": {},
     "output_type": "execute_result"
    }
   ],
   "source": [
    "plt.figure(\"samples4\")\n",
    "plt.plot(np.mean(samplesI, axis=1))\n",
    "plt.plot(np.mean(samplesQ, axis=1))\n",
    "\n",
    "limit_min = 1310\n",
    "limit_max = 2450\n",
    "\n",
    "t = linspace(0.,hardware_segsize/SampleRate, hardware_segsize, endpoint=False)\n",
    "dm_sin = sin(2.*pi*ro_if*t)\n",
    "dm_cos = cos(2.*pi*ro_if*t)\n",
    "I = np.mean((samplesI.T*dm_cos - samplesQ.T*dm_sin)[:,limit_min:limit_max], axis=1)/(nums*software_averages)\n",
    "Q = np.mean((samplesQ.T*dm_cos + samplesI.T*dm_sin)[:,limit_min:limit_max], axis=1)/(nums*software_averages)\n",
    "plt.figure(\"single-shot3\")\n",
    "if pulse == 'on':\n",
    "    color1 = 'green'\n",
    "    color2 = 'black'\n",
    "else:\n",
    "    color1 = 'red'\n",
    "    color2 = 'blue'\n",
    "plt.scatter(I,Q, color=color1, marker='>',s=1)\n",
    "plt.scatter(np.mean(I), np.mean(Q), color=color2, marker='o',s=30)\n",
    "plt.xlim([np.min(I), np.max(I)])\n",
    "plt.ylim([np.min(Q), np.max(Q)])\n",
    "#plt.axis('equal')"
   ]
  },
  {
   "cell_type": "code",
   "execution_count": 18,
   "metadata": {},
   "outputs": [
    {
     "name": "stdout",
     "output_type": "stream",
     "text": [
      "('I', 'off', ':', -4.1202480949819422e-05, 5.6515861695848651e-05)\n",
      "('Q', 'off', ':', -3.1147263176621912e-05, 4.6948002425219549e-05)\n"
     ]
    }
   ],
   "source": [
    "print ('I', pulse, ':', np.mean(I), np.std(I))\n",
    "print ('Q', pulse, ':', np.mean(Q), np.std(Q))"
   ]
  },
  {
   "cell_type": "code",
   "execution_count": 21,
   "metadata": {},
   "outputs": [
    {
     "name": "stdout",
     "output_type": "stream",
     "text": [
      "('I', 'on', ':', -5.3737044701352243e-05, 4.7444042073860219e-05)\n",
      "('Q', 'on', ':', 2.8335766494632365e-05, 5.7062475438355504e-05)\n"
     ]
    }
   ],
   "source": [
    "print ('I', pulse, ':', np.mean(I), np.std(I))\n",
    "print ('Q', pulse, ':', np.mean(Q), np.std(Q))"
   ]
  },
  {
   "cell_type": "code",
   "execution_count": 16,
   "metadata": {
    "collapsed": true
   },
   "outputs": [],
   "source": [
    "import pickle\n",
    "pickle.dump(samples, open('C:/qtlab/ReiData/data/Nov 13 2016/Single-shot readout samples excite length 0.pkl', 'wb'))"
   ]
  },
  {
   "cell_type": "markdown",
   "metadata": {},
   "source": [
    "# Rabi 2D"
   ]
  },
  {
   "cell_type": "code",
   "execution_count": 19,
   "metadata": {
    "collapsed": true
   },
   "outputs": [],
   "source": [
    "hardware_samplerate = 500e6\n",
    "nums = 1000\n",
    "ro_pulse_length = 2e-6\n",
    "ro_readout_length = 3e-6\n",
    "hardware_segsize = int(2**np.ceil(np.log(ro_readout_length*hardware_samplerate)/np.log(2))*2)\n",
    "amp = 50\n",
    "offs = 0\n",
    "timeout = 20000\n",
    "PulsePeriod= 20e-6\n",
    "reprate = 1/PulsePeriod\n",
    "software_averages = 4\n",
    "#software_averages = 500\n",
    "software_binning = 1\n",
    "binned_segsize = hardware_segsize/software_binning\n",
    "#center_freq_point = int(settings_ro[awg_ro_I_channel]['F']/hardware_samplerate*hardware_segsize)\n",
    "\n",
    "ex_freq_old = ex_freq\n",
    "ex_freqs = ex_freq + np.linspace(-18.5e6, 18.5e6, 71)\n",
    "pulse_lengths = np.linspace(0, 0.7e-6, 71)\n",
    "max_pulse_length = np.max(pulse_lengths)\n",
    "\n",
    "hardware_segsize = int(2**np.ceil(np.log((ro_readout_length+max_pulse_length)*hardware_samplerate)/np.log(2))*2)\n",
    "posttrigger = 3*hardware_segsize/4\n",
    "\n",
    "awg_ex.set_repetition_period(PulsePeriod-1e-6)\n",
    "awg_ro.set_repetition_period(PulsePeriod)\n",
    "\n",
    "lo1.set_status(1)\n",
    "pna.set_cw_freq(ro_freq-settings_ro[awg_ro_I_ch]['F'])\n",
    "#sample = np.zeros((binned_segsize, len(pulse_lengths), len(excite_freqs)))\n",
    "#covariation_matrix = np.zeros((binned_segsize, binned_segsize, len(pulse_lengths), len(excite_freqs)))\n",
    "#S21 = np.zeros((len(pulse_lengths), len(excite_freqs)), dtype=np.complex)\n",
    "#ro_results_output = open('C:/qtlab/ReiData/data/Feb 19 2016/rabi_dump/dump1.pkl', 'w')\n",
    "\n",
    "#Функции для демодуляции\n",
    "signal_start = int(max_pulse_length*SampleRate+(hardware_segsize-posttrigger))\n",
    "signal_end = signal_start+int(ro_readout_length*SampleRate)\n",
    "signal_length = signal_end-signal_start\n",
    "\n",
    "t = linspace(0.,signal_length/SampleRate, signal_length, endpoint=False)\n",
    "dm_sin = sin(2.*pi*ro_if*t)\n",
    "dm_cos = cos(2.*pi*ro_if*t)\n",
    "\n",
    "measQ = np.zeros((len(pulse_lengths), len(ex_freqs), signal_length))\n",
    "measI = np.zeros((len(pulse_lengths), len(ex_freqs), signal_length))\n",
    "I_Rabi = np.zeros( ( len(pulse_lengths), len(ex_freqs) ))\n",
    "Q_Rabi = np.zeros( (len(pulse_lengths), len(ex_freqs) ))\n",
    "\n",
    "daq0.stop()\n",
    "daq0.set_spc_samplerate(SampleRate)\n",
    "daq0.init_channel01_multiple_recording(rate=SampleRate, nums=nums, segsize=hardware_segsize, \n",
    "                                  posttrigger=posttrigger, amp0=amp, amp1=amp)\n",
    "daq0.trigger_termination_50Ohm()\n",
    "daq0.buffer_setup()\n",
    "\n",
    "\n",
    "try:\n",
    "    for j, ex_freq in enumerate(ex_freqs):\n",
    "        lo1.set_frequency(ex_freq-settings_ex[awg_ex_I_ch]['F'])\n",
    "        #Считывающий импульс сразу после возбуждающего\n",
    "        roPulseI = RectSine(settings_ro[awg_ro_I_ch]['A'], 1./ro_if, ro_pulse_length,\n",
    "                    settings_ro[awg_ro_I_ch]['P'], settings_ro[awg_ro_I_ch]['O'], max_pulse_length+500e-9, sample_period = 1./SampleRate_ro)\n",
    "        roPulseQ = RectSine(settings_ro[awg_ro_Q_ch]['A'], 1./ro_if, ro_pulse_length, \n",
    "                    settings_ro[awg_ro_Q_ch]['P'], settings_ro[awg_ro_Q_ch]['O'], max_pulse_length+500e-9, sample_period = 1./SampleRate_ro)\n",
    "        roPulseI[0] = settings_ro[awg_ro_I_ch]['O']\n",
    "        roPulseQ[0] = settings_ro[awg_ro_Q_ch]['O']\n",
    "\n",
    "        awg_ro.LoadRAM(awg_ro_I_ch, roPulseI)\n",
    "        awg_ro.LoadRAM(awg_ro_Q_ch, roPulseQ)\n",
    "\n",
    "        for i, ex_pulse_length in enumerate(pulse_lengths):\n",
    "            #Возбуждающий импульс переменной длины\n",
    "            excite_pulse_length = ex_pulse_length\n",
    "            exPulseI = RectSine(settings_ex[awg_ex_I_ch]['A'], 1./ex_if, ex_pulse_length, \n",
    "                        settings_ex[awg_ex_I_ch]['P'], \n",
    "                        settings_ex[awg_ex_I_ch]['O'], max_pulse_length - ex_pulse_length, sample_period = 1./SampleRate_ex)\n",
    "            exPulseQ = RectSine(settings_ex[awg_ex_Q_ch]['A'], 1./ex_if,\n",
    "                        ex_pulse_length, settings_ex[awg_ex_Q_ch]['P'], settings_ex[awg_ex_Q_ch]['O'],\n",
    "                        max_pulse_length - ex_pulse_length, sample_period = 1./SampleRate_ex)\n",
    "            \n",
    "            exPulseI[0] = settings_ex[awg_ex_I_ch]['O']\n",
    "            exPulseQ[0] = settings_ex[awg_ex_Q_ch]['O']\n",
    "    \n",
    "            #Программируем импульсы в awg\n",
    "            awg_ex.LoadRAM(awg_ex_I_ch, exPulseI)\n",
    "            awg_ex.LoadRAM(awg_ex_Q_ch, exPulseQ)\n",
    "\n",
    "            for software_average_id in range(software_averages):\n",
    "                #Мерием по триггеру\n",
    "                daq0.start_with_trigger_and_waitready()\n",
    "                #Усредняем результат\n",
    "                measI[i,j,:] += np.sum(daq0.readout_doublechannel_multimode_bin()[0],\n",
    "                           axis=0)[signal_start:signal_end]\n",
    "                measQ[i,j,:] += np.sum(daq0.readout_doublechannel_multimode_bin()[1],\n",
    "                            axis=0)[signal_start:signal_end]\n",
    "                #measI[i,j,:] -=np.mean(measI[i,j]) \n",
    "                #measQ[i,j,:] -=np.mean(measQ[i,j])\n",
    "        \n",
    "                daq0.stop()\n",
    "     \n",
    "            #Делаем преобразованеи до нулевой частоты \n",
    "            I_Rabi[i,j] = np.mean(measI[i,j]*dm_cos - measQ[i,j]*dm_sin)/(nums*software_averages)\n",
    "            Q_Rabi[i,j] = np.mean(measQ[i,j]*dm_cos + measI[i,j]*dm_sin)/(nums*software_averages)\n",
    "      \n",
    "        plt.figure(1)\n",
    "        plt.clf()\n",
    "        plt.pcolor(ex_freqs[:j+1], pulse_lengths, I_Rabi[:,:j+1])\n",
    "        plt.colorbar()\n",
    "        plt.figure(2)\n",
    "        plt.clf()\n",
    "        plt.pcolor(ex_freqs[:j+1], pulse_lengths, Q_Rabi[:,:j+1])\n",
    "        plt.colorbar()\n",
    "        plt.pause(0.1)\n",
    "        last_pulse_length_point = i\n",
    "        last_excite_freq_point = j\n",
    "#ro_results_output.close()\n",
    "finally:\n",
    "    ex_freq = ex_freq_old"
   ]
  },
  {
   "cell_type": "code",
   "execution_count": 52,
   "metadata": {},
   "outputs": [
    {
     "data": {
      "text/plain": [
       "<matplotlib.collections.QuadMesh at 0x1b8cd9d0>"
      ]
     },
     "execution_count": 52,
     "metadata": {},
     "output_type": "execute_result"
    }
   ],
   "source": [
    "plt.figure()\n",
    "plt.pcolormesh(measI[:,:])"
   ]
  },
  {
   "cell_type": "code",
   "execution_count": 12,
   "metadata": {},
   "outputs": [
    {
     "data": {
      "text/plain": [
       "(array([  6.61030000e+09]),\n",
       " array([  0.00000000e+00,   1.00000000e-08,   2.00000000e-08,\n",
       "          3.00000000e-08,   4.00000000e-08,   5.00000000e-08,\n",
       "          6.00000000e-08,   7.00000000e-08,   8.00000000e-08,\n",
       "          9.00000000e-08,   1.00000000e-07,   1.10000000e-07,\n",
       "          1.20000000e-07,   1.30000000e-07,   1.40000000e-07,\n",
       "          1.50000000e-07,   1.60000000e-07,   1.70000000e-07,\n",
       "          1.80000000e-07,   1.90000000e-07,   2.00000000e-07]),\n",
       " array([[[  191.,   488.,   383., ...,    70.,   174.,   581.]],\n",
       " \n",
       "        [[ 1132.,   958.,  1220., ...,   905.,  1048.,   847.]],\n",
       " \n",
       "        [[  835.,   797.,  1164., ...,  1110.,  1023.,   889.]],\n",
       " \n",
       "        ..., \n",
       "        [[ 1306.,  1269.,  1296., ...,   809.,   976.,   718.]],\n",
       " \n",
       "        [[  897.,  1215.,  1102., ...,  1286.,  1525.,  1327.]],\n",
       " \n",
       "        [[  815.,  1584.,  1338., ...,   832.,  1443.,   861.]]]))"
      ]
     },
     "execution_count": 12,
     "metadata": {},
     "output_type": "execute_result"
    }
   ],
   "source": [
    "(ex_freqs[:j+1], pulse_lengths, measI[:,:j+1])"
   ]
  },
  {
   "cell_type": "code",
   "execution_count": 20,
   "metadata": {
    "collapsed": true
   },
   "outputs": [],
   "source": [
    "#Save\n",
    "header = {'date':datetime.datetime.now(), 'type': 'Rabi2D', 'name': 'Fliegenklatsche'}\n",
    "save_pkl(header, ex_freqs, pulse_lengths, I_Rabi, Q_Rabi)"
   ]
  },
  {
   "cell_type": "code",
   "execution_count": 25,
   "metadata": {
    "collapsed": true
   },
   "outputs": [],
   "source": [
    "S21 = I_Rabi+1j*Q_Rabi\n",
    "sample = measI + 1j* measQ\n",
    "execfile('save_pkl.py')\n",
    "time_domain_box_setup = {'use_coupler':True, 'excite_lo':'lo1', 'ro_lo':'pna', \n",
    "                         'excite_lo_freq':ex_lo_freq, 'ro_lo_freq':ro_lo_freq, }\n",
    "#dac_setup = {'samplerate': samplerate, 'zero_delay': zero_delay, 'sample_size': binned_segsize, 'posttrigger': posttrigger,\n",
    "#          'amp': amp, 'offs': offs,\n",
    "#          'hardware_averages': nums, 'software_averages': software_averages,}\n",
    "header = {'date':datetime.datetime.now(), 'type': 'Rabi 2D', 'name': '', 'pulse_settings': settings, \n",
    "          'ro_pulse_length':ro_pulse_length}#, 'excite_pulse_length':ex_pulse_length,\n",
    "          #'dac_setup':dac_setup, \n",
    "          #'time_domain_box_setup':time_domain_box_setup}\n",
    "sample_axis = np.linspace((posttrigger-hardware_segsize)/hardware_samplerate, posttrigger/hardware_samplerate, binned_segsize)\n",
    "measurement =        ((pulse_lengths, ex_freqs[:last_excite_freq_point+1],\n",
    "                       np.log10(np.abs(S21[:,:last_excite_freq_point+1]))*10, np.angle(S21[:,:last_excite_freq_point+1])))\n",
    "sample_measurement = ((np.linspace((posttrigger-hardware_segsize)/hardware_samplerate, posttrigger/hardware_samplerate, binned_segsize), \n",
    "                       pulse_lengths, ex_freqs[:last_excite_freq_point+1],\n",
    "                       sample[:,:,:last_excite_freq_point+1], np.zeros(sample[:,:,:last_excite_freq_point+1].shape)))\n",
    "#covariation_matrix_measurement = ((np.linspace((posttrigger-hardware_segsize)/hardware_samplerate, posttrigger/hardware_samplerate, binned_segsize), \n",
    "#                       np.linspace((posttrigger-hardware_segsize)/hardware_samplerate, posttrigger/hardware_samplerate, binned_segsize), \n",
    "#                       pulse_lengths, excite_freqs[:last_excite_freq_point+1],\n",
    "#                       covariation_matrix[:,:,:,:last_excite_freq_point+1], np.zeros(covariation_matrix[:,:,:,:last_excite_freq_point+1].shape)))\n",
    "#extended_covariation_matrix = np.zeros((binned_segsize+1, binned_segsize+1, len(pulse_lengths), last_excite_freq_point+1))\n",
    "#extended_covariation_matrix[0,0,:,:] = software_averages*nums\n",
    "#extended_covariation_matrix[1:,0,:,:] = sample[:,:,:last_excite_freq_point+1]\n",
    "#extended_covariation_matrix[0,1:,:,:] = sample[:,:,:last_excite_freq_point+1]\n",
    "#extended_covariation_matrix[1:,1:,:,:] = covariation_matrix[:,:,:,:last_excite_freq_point+1]\n",
    "#extended_sample_axis = np.append(np.asarray([np.nan]), sample_axis)\n",
    "header['type'] = 'Rabi 2D S21'\n",
    "save_pkl(header, measurement)\n",
    "header['type'] = 'Rabi 2D oscillogram'\n",
    "save_pkl(header, sample_measurement)\n",
    "#header['type'] = 'Rabi 2D covariation matrix'\n",
    "#save_pkl(header, covariation_matrix_measurement)\n",
    "#header['type'] = 'Rabi 2D extended covariation matrix'\n",
    "#save_pkl(header, (extended_sample_axis, extended_sample_axis, pulse_lengths, excite_freqs[:last_excite_freq_point+1], \n",
    "#                  extended_covariation_matrix, np.zeros(extended_covariation_matrix.shape)))"
   ]
  },
  {
   "cell_type": "markdown",
   "metadata": {},
   "source": [
    "# Ramsey fringes"
   ]
  },
  {
   "cell_type": "code",
   "execution_count": 77,
   "metadata": {},
   "outputs": [
    {
     "name": "stdout",
     "output_type": "stream",
     "text": [
      "2048\n"
     ]
    },
    {
     "name": "stderr",
     "output_type": "stream",
     "text": [
      "C:\\Python27\\Lib\\site-packages\\matplotlib\\axes\\_base.py:2809: UserWarning: Attempting to set identical bottom==top results\n",
      "in singular transformations; automatically expanding.\n",
      "bottom=-0.0669658067686, top=-0.0669658067686\n",
      "  'bottom=%s, top=%s') % (bottom, top))\n",
      "C:\\Python27\\Lib\\site-packages\\matplotlib\\axes\\_base.py:2809: UserWarning: Attempting to set identical bottom==top results\n",
      "in singular transformations; automatically expanding.\n",
      "bottom=0.669171716715, top=0.669171716715\n",
      "  'bottom=%s, top=%s') % (bottom, top))\n"
     ]
    }
   ],
   "source": [
    "#Длительности возбуждающих импульсов\n",
    "pulse_lengths = np.arange(0., 4e-6, 12e-9)\n",
    "pulse_length_pi2 = 5e-9\n",
    "\n",
    "PulsePeriod = 20e-6\n",
    "\n",
    "ro_pulse_length = 1e-6\n",
    "#Длительность выборки DAQ\n",
    "SampleRate = 500e6\n",
    "nums = 1000\n",
    "Range = 50\n",
    "SampleRate_ro = SampleRate\n",
    "SampleRate_ex = SampleRate*2\n",
    "software_averages = 10\n",
    "freq_shift = 12e6\n",
    "\n",
    "lo1.set_frequency(ex_lo_freq)\n",
    "pna.set_cw_freq(ro_lo_freq)\n",
    "\n",
    "awg.set_repetition_period(PulsePeriod)\n",
    "awg_tek.set_repetition_period(PulsePeriod-1e-6)\n",
    "\n",
    "#Настраиваем awg\n",
    "data_len_ex = int(PulsePeriod*SampleRate_ex)*2+1 \n",
    "data_len_ro = int(PulsePeriod*SampleRate_ro)+1 \n",
    "awg.set_repetition_period(PulsePeriod)\n",
    "awg_ex.set_trigger_mode('TRIG')\n",
    "\n",
    "#Инициализация DAQ\n",
    "signal_size = int(np.ceil((np.max(pulse_lengths)+ro_pulse_length)*SampleRate_ro))\n",
    "segsize = 2*int( 2**np.ceil(np.log2(signal_size)) )\n",
    "print segsize\n",
    "posttrigger = segsize*3/4\n",
    "signal_start = segsize - posttrigger \n",
    "signal_end = segsize - posttrigger + signal_size + zero_delay*2\n",
    "if signal_end>segsize:\n",
    "    signal_end = segsize\n",
    "#segsize = 2048\n",
    "#posttrigger = 512*3\n",
    "    \n",
    "daq0.stop()\n",
    "daq0.set_spc_samplerate(SampleRate)\n",
    "daq0.init_channel01_multiple_recording(rate=SampleRate, nums=nums, segsize=segsize, \n",
    "                                  posttrigger=posttrigger, amp0=Range, amp1=Range)\n",
    "daq0.trigger_termination_50Ohm()\n",
    "daq0.buffer_setup()\n",
    "\n",
    "\n",
    "lo1.set_status(1)\n",
    "#segsize = signal_end -  signal_start\n",
    "#Контейнеры для данных\n",
    "measQ = np.zeros((len(pulse_lengths), segsize))\n",
    "measI = np.zeros((len(pulse_lengths), segsize))\n",
    "I_Rabi = np.zeros( len(pulse_lengths) )\n",
    "Q_Rabi = np.zeros( len(pulse_lengths) )\n",
    "\n",
    "#Функции для демодуляции\n",
    "t = linspace(0.,segsize/SampleRate, segsize, endpoint=False)\n",
    "dm_sin = sin(2.*pi*ro_if*t)\n",
    "dm_cos = cos(2.*pi*ro_if*t)\n",
    "\n",
    "#Графики\n",
    "plt.figure(\"I_Rabi\")\n",
    "amp_plot = plt.plot(pulse_lengths, I_Rabi)[0]\n",
    "plt.figure(\"Q_Rabi\")\n",
    "ph_plot = plt.plot(pulse_lengths, Q_Rabi)[0]\n",
    "\n",
    "max_pulse_length = np.max(pulse_lengths)+2*pulse_length_pi2\n",
    "\n",
    "#Считывающий импульс сразу после возбуждающего\n",
    "roPulseI = RectSine(settings_ro[awg_ro_I_ch]['A'], 1./ro_if, ro_pulse_length,\n",
    "                    settings_ro[awg_ro_I_ch]['P'], settings_ro[awg_ro_I_ch]['O'], max_pulse_length+500e-9, sample_period = 1./SampleRate_ro)\n",
    "roPulseQ = RectSine(settings_ro[awg_ro_Q_ch]['A'], 1./ro_if, ro_pulse_length, \n",
    "                    settings_ro[awg_ro_Q_ch]['P'], settings_ro[awg_ro_Q_ch]['O'], max_pulse_length+500e-9, sample_period = 1./SampleRate_ro)\n",
    "awg_ro.LoadRAM(awg_ro_I_ch, roPulseI)\n",
    "awg_ro.LoadRAM(awg_ro_Q_ch, roPulseQ)\n",
    "# setting trigger to start readout immideately after excitation puls\n",
    "# zero_delay надо сначала померить в delay synchronization\n",
    "#triggerPulse = [0, zero_delay+int(max_pulse_length/1e-9), 3, 100, 3, 1, 0, 4]\n",
    "#SyncPulseProg = awg.intToBytes(triggerPulse)\n",
    "#awg.ProgPulse(0, SyncPulseProg)\n",
    "\n",
    "\n",
    "for i, ex_pulse_length in enumerate(pulse_lengths):\n",
    "   \n",
    "    #Возбуждающий импульс переменной длины\n",
    "    exPulseI = RectSine(settings_ex[awg_ex_I_ch]['A'], 1./ex_if, pulse_length_pi2, \n",
    "                        settings_ex[awg_ex_I_ch]['P'], \n",
    "                        settings_ex[awg_ex_I_ch]['O']/2., max_pulse_length - ex_pulse_length - pulse_length_pi2*2, \\\n",
    "                        sample_period = 1./SampleRate_ex)\n",
    "    exPulseQ = RectSine(settings_ex[awg_ex_Q_ch]['A'], 1./ex_if,\n",
    "                        pulse_length_pi2, settings_ex[awg_ex_Q_ch]['P'], settings_ex[awg_ex_Q_ch]['O'],\n",
    "                        max_pulse_length - ex_pulse_length - pulse_length_pi2*2, sample_period = 1./SampleRate_ex)\n",
    "\n",
    "    exPulseI += RectSine(settings_ex[awg_ex_I_ch]['A'], 1./ex_if, pulse_length_pi2, \n",
    "                        settings_ex[awg_ex_I_ch]['P']+2*np.pi*(ex_if-freq_shift)*(ex_pulse_length + pulse_length_pi2), \n",
    "                        settings_ex[awg_ex_I_ch]['O']/2., max_pulse_length - pulse_length_pi2, sample_period = 1./SampleRate_ex)\n",
    "    exPulseQ += RectSine(settings_ex[awg_ex_Q_ch]['A'], 1./ex_if,\n",
    "                        pulse_length_pi2, settings_ex[awg_ex_Q_ch]['P']+2*np.pi*(ex_if-freq_shift)*(ex_pulse_length + pulse_length_pi2),\\\n",
    "                        settings_ex[awg_ex_Q_ch]['O'],\n",
    "                        max_pulse_length - pulse_length_pi2, sample_period = 1./SampleRate_ex)\n",
    "    \n",
    "    awg_tek.run()\n",
    "    exPulseI[0] = settings_ex[awg_ex_I_ch]['O']\n",
    "    exPulseQ[0] = settings_ex[awg_ex_Q_ch]['O']\n",
    "    #Программируем импульсы в awg\n",
    "    awg_ex.LoadRAM(awg_ex_I_ch, exPulseI[0:data_len_ex])\n",
    "    awg_ex.LoadRAM(awg_ex_Q_ch, exPulseQ[0:data_len_ex])\n",
    "    \n",
    "    for software_average_id in range(software_averages):\n",
    "        \n",
    "        #Мерием по триггеру\n",
    "        daq0.start_with_trigger_and_waitready()\n",
    "        #Усредняем результат\n",
    "        measI[i] += np.sum(daq0.readout_doublechannel_multimode_bin()[0],\n",
    "                           axis=0)\n",
    "        measQ[i] += np.sum(daq0.readout_doublechannel_multimode_bin()[1],\n",
    "                           axis=0)\n",
    "        measI[i] -=np.mean(measI[i]) \n",
    "        measQ[i] -=np.mean(measQ[i])\n",
    "        \n",
    "        daq0.stop()\n",
    "     \n",
    "    #Делаем преобразованеи до нулевой частоты \n",
    "    I_Rabi[i] = np.mean(measI[i]*dm_cos - measQ[i]*dm_sin)/(nums*software_averages)\n",
    "    Q_Rabi[i] = np.mean(measQ[i]*dm_cos + measI[i]*dm_sin)/(nums*software_averages)\n",
    "      \n",
    "    #Рисуем графики\n",
    "    plt.figure(\"I_Rabi\")\n",
    "    amp_plot.set_data(pulse_lengths[:i+1], I_Rabi[:i+1])\n",
    "    plt.ylim((np.min(I_Rabi[:i+1]), np.max(I_Rabi[:i+1])))\n",
    "    plt.figure(\"Q_Rabi\")\n",
    "    ph_plot.set_data(pulse_lengths[:i+1], Q_Rabi[:i+1])\n",
    "    plt.ylim((np.min(Q_Rabi[:i+1]), np.max(Q_Rabi[:i+1])))\n",
    "    plt.pause(0.01)   "
   ]
  },
  {
   "cell_type": "code",
   "execution_count": 48,
   "metadata": {},
   "outputs": [
    {
     "data": {
      "text/plain": [
       "<matplotlib.collections.QuadMesh at 0x1a92ce10>"
      ]
     },
     "execution_count": 48,
     "metadata": {},
     "output_type": "execute_result"
    }
   ],
   "source": [
    "plt.pcolormesh(measI)"
   ]
  },
  {
   "cell_type": "code",
   "execution_count": 78,
   "metadata": {},
   "outputs": [
    {
     "name": "stdout",
     "output_type": "stream",
     "text": [
      "(array([ -1.27301762e-01,   5.56998453e-01,   6.19060103e-02,\n",
      "         1.16375147e-01,   6.96382359e-07,  -1.76942232e+07,\n",
      "        -1.74791737e-01,  -2.00824712e-01]), 5)\n"
     ]
    }
   ],
   "source": [
    "S21 = I_Rabi+1j*Q_Rabi\n",
    "# фитует результаты измерений экспонентой\n",
    "delays = pulse_lengths\n",
    "f = lambda x,A0r,Aoi,A1r,A1i,t,fR,phi0,eq_pop: (A0r+A0i*1j+(A1r+A1i*1j)*(eq_pop+np.exp(-x/t)*(np.cos(2*np.pi*fR*x+phi0)-eq_pop)))\n",
    "cost = lambda p: np.abs(f(delays,*p)-S21)**2\n",
    "# изначальные параметры:\n",
    "Rabi_fft=np.fft.fft(S21-np.mean(S21))\n",
    "frequencies = np.fft.fftfreq(len(delays), delays[1]-delays[0])\n",
    "plt.plot(frequencies, np.abs(Rabi_fft))\n",
    "fR = frequencies[np.argmax(np.abs(Rabi_fft))]\n",
    "A0r =np.mean(S21.real)\n",
    "A0i =np.mean(S21.imag)\n",
    "A1r = np.sqrt(2)*np.std(S21.real)\n",
    "A1i = np.sqrt(2)*np.std(S21.imag)\n",
    "phi0 = 0\n",
    "t = np.mean(delays)\n",
    "eq_pop = 0.5\n",
    "from scipy.optimize import leastsq\n",
    "fitresults = leastsq(cost, (A0r,A0i,A1r,A1i,t,fR,phi0,eq_pop))\n",
    "fitted_curve = (delays, np.log10(np.abs(f(delays, *(fitresults[0]))))*10, np.angle(f(delays, *(fitresults[0]))))\n",
    "print (fitresults)"
   ]
  },
  {
   "cell_type": "code",
   "execution_count": 79,
   "metadata": {
    "collapsed": true
   },
   "outputs": [],
   "source": [
    "execfile('save_pkl.py')\n",
    "time_domain_box_setup = {'use_coupler':True, 'excite_lo':'lo1', 'ro_lo':'pna', \n",
    "                         'excite_lo_freq':ex_lo_freq, 'ro_lo_freq':ro_lo_freq, }\n",
    "dac_setup = {'samplerate': hardware_samplerate, 'zero_delay': zero_delay, 'sample_size': binned_segsize, 'posttrigger': posttrigger,\n",
    "          'amp': 50, 'offs': 0,\n",
    "          'hardware_averages': nums, 'software_averages': software_averages,}\n",
    "header = {'date':datetime.datetime.now(), 'type': 'Ramsey', 'name': 'Fliegenklatsche Ramsey', \n",
    "          'ro_pulse_length':ro_pulse_length, 'excite_pulse_length':excite_pulse_length,\n",
    "          'dac_setup':dac_setup, 'time_domain_box_setup':time_domain_box_setup, \\\n",
    "          'Ramsey oscillation frequency, Hz':np.abs(fitresults[0][5]), 'Ramsey oscillation decay time, s': np.abs(fitresults[0][4])}\n",
    "annotation = 'Ramsey frequency: {0:2.2f} MHz, Decay time: {1:2.2} μs, \\nExcitation freq: {2:1.5} GHz, offset freq: {3:2.2f} MHz'.format(\\\n",
    "            np.abs(fitresults[0][5])/1e6, fitresults[0][4]*1e6, ex_freq/1e9, frequency_offset/1e6)\n",
    "\n",
    "measurement =        ((delays[:last_point+1], np.asarray([0]), \n",
    "                       np.log10(np.abs(S21[:last_point+1]))*10, np.angle(S21[:last_point+1])))\n",
    "\n",
    "save_pkl(header, measurement, curve_fit=fitted_curve, annotation=annotation)"
   ]
  },
  {
   "cell_type": "markdown",
   "metadata": {},
   "source": [
    "# Hahn Spin echo"
   ]
  },
  {
   "cell_type": "code",
   "execution_count": 9,
   "metadata": {},
   "outputs": [
    {
     "name": "stderr",
     "output_type": "stream",
     "text": [
      "C:\\Python27\\Lib\\site-packages\\matplotlib\\backend_bases.py:2399: MatplotlibDeprecationWarning: Using default event loop until function specific to this GUI is implemented\n",
      "  warnings.warn(str, mplDeprecation)\n"
     ]
    },
    {
     "ename": "KeyboardInterrupt",
     "evalue": "",
     "output_type": "error",
     "traceback": [
      "\u001b[1;31m---------------------------------------------------------------------------\u001b[0m",
      "\u001b[1;31mKeyboardInterrupt\u001b[0m                         Traceback (most recent call last)",
      "\u001b[1;32m<ipython-input-9-07b467781840>\u001b[0m in \u001b[0;36m<module>\u001b[1;34m()\u001b[0m\n\u001b[0;32m     69\u001b[0m     \u001b[1;32mfor\u001b[0m \u001b[0msoftware_average_id\u001b[0m \u001b[1;32min\u001b[0m \u001b[0mrange\u001b[0m\u001b[1;33m(\u001b[0m\u001b[0msoftware_averages\u001b[0m\u001b[1;33m)\u001b[0m\u001b[1;33m:\u001b[0m\u001b[1;33m\u001b[0m\u001b[0m\n\u001b[0;32m     70\u001b[0m         \u001b[0mdaq0\u001b[0m\u001b[1;33m.\u001b[0m\u001b[0mtrigger_termination_50Ohm\u001b[0m\u001b[1;33m(\u001b[0m\u001b[1;33m)\u001b[0m\u001b[1;33m\u001b[0m\u001b[0m\n\u001b[1;32m---> 71\u001b[1;33m         \u001b[0mdaq0\u001b[0m\u001b[1;33m.\u001b[0m\u001b[0mstart_with_trigger_and_waitready\u001b[0m\u001b[1;33m(\u001b[0m\u001b[1;33m)\u001b[0m\u001b[1;33m\u001b[0m\u001b[0m\n\u001b[0m\u001b[0;32m     72\u001b[0m         \u001b[0mdata\u001b[0m \u001b[1;33m=\u001b[0m \u001b[0mnp\u001b[0m\u001b[1;33m.\u001b[0m\u001b[0msum\u001b[0m\u001b[1;33m(\u001b[0m\u001b[0mnp\u001b[0m\u001b[1;33m.\u001b[0m\u001b[0mreshape\u001b[0m\u001b[1;33m(\u001b[0m\u001b[0mdaq0\u001b[0m\u001b[1;33m.\u001b[0m\u001b[0mreadout_singlechannel_multimode_bin\u001b[0m\u001b[1;33m(\u001b[0m\u001b[1;33m)\u001b[0m\u001b[1;33m,\u001b[0m \u001b[1;33m(\u001b[0m\u001b[0mnums\u001b[0m\u001b[1;33m,\u001b[0m \u001b[0mbinned_segsize\u001b[0m\u001b[1;33m,\u001b[0m \u001b[0msoftware_binning\u001b[0m\u001b[1;33m)\u001b[0m\u001b[1;33m)\u001b[0m\u001b[1;33m,\u001b[0m \u001b[0maxis\u001b[0m\u001b[1;33m=\u001b[0m\u001b[1;36m2\u001b[0m\u001b[1;33m)\u001b[0m\u001b[1;33m.\u001b[0m\u001b[0mT\u001b[0m\u001b[1;33m\u001b[0m\u001b[0m\n\u001b[0;32m     73\u001b[0m         \u001b[0mdata_fft\u001b[0m \u001b[1;33m=\u001b[0m \u001b[0mnp\u001b[0m\u001b[1;33m.\u001b[0m\u001b[0mfft\u001b[0m\u001b[1;33m.\u001b[0m\u001b[0mfft\u001b[0m\u001b[1;33m(\u001b[0m\u001b[0mdata\u001b[0m\u001b[1;33m,\u001b[0m \u001b[0maxis\u001b[0m\u001b[1;33m=\u001b[0m\u001b[1;36m0\u001b[0m\u001b[1;33m)\u001b[0m\u001b[1;33m\u001b[0m\u001b[0m\n",
      "\u001b[1;32mc:\\qtlab\\ReiData\\qtlab_addons\\user_instruments\\Spectrum_M3i2132.pyc\u001b[0m in \u001b[0;36mstart_with_trigger_and_waitready\u001b[1;34m(self)\u001b[0m\n\u001b[0;32m    651\u001b[0m         \u001b[0mself\u001b[0m\u001b[1;33m.\u001b[0m\u001b[0m_buffer_setup\u001b[0m\u001b[1;33m(\u001b[0m\u001b[1;33m)\u001b[0m\u001b[1;33m\u001b[0m\u001b[0m\n\u001b[0;32m    652\u001b[0m         self._set_param(_spcm_regs.SPC_M2CMD,\n\u001b[1;32m--> 653\u001b[1;33m             _spcm_regs.M2CMD_CARD_START | _spcm_regs.M2CMD_CARD_ENABLETRIGGER | _spcm_regs.M2CMD_CARD_WAITREADY | _spcm_regs.M2CMD_DATA_WAITDMA)\n\u001b[0m\u001b[0;32m    654\u001b[0m \u001b[1;33m\u001b[0m\u001b[0m\n\u001b[0;32m    655\u001b[0m     \u001b[1;32mdef\u001b[0m \u001b[0mforce_trigger\u001b[0m\u001b[1;33m(\u001b[0m\u001b[0mself\u001b[0m\u001b[1;33m)\u001b[0m\u001b[1;33m:\u001b[0m\u001b[1;33m\u001b[0m\u001b[0m\n",
      "\u001b[1;32mc:\\qtlab\\ReiData\\qtlab_addons\\user_instruments\\Spectrum_M3i2132.pyc\u001b[0m in \u001b[0;36m_set_param\u001b[1;34m(self, regnum, regval)\u001b[0m\n\u001b[0;32m    228\u001b[0m         '''\n\u001b[0;32m    229\u001b[0m         \u001b[0mlogging\u001b[0m\u001b[1;33m.\u001b[0m\u001b[0mdebug\u001b[0m\u001b[1;33m(\u001b[0m\u001b[0m__name__\u001b[0m \u001b[1;33m+\u001b[0m \u001b[1;34m' : Set reg %s to %s'\u001b[0m \u001b[1;33m%\u001b[0m\u001b[1;33m(\u001b[0m\u001b[0mregnum\u001b[0m\u001b[1;33m,\u001b[0m \u001b[0mregval\u001b[0m\u001b[1;33m)\u001b[0m\u001b[1;33m)\u001b[0m\u001b[1;33m\u001b[0m\u001b[0m\n\u001b[1;32m--> 230\u001b[1;33m         \u001b[0merr\u001b[0m \u001b[1;33m=\u001b[0m \u001b[0mself\u001b[0m\u001b[1;33m.\u001b[0m\u001b[0m_spcm_win32\u001b[0m\u001b[1;33m.\u001b[0m\u001b[0mSetParam32\u001b[0m\u001b[1;33m(\u001b[0m\u001b[0mself\u001b[0m\u001b[1;33m.\u001b[0m\u001b[0m_spcm_win32\u001b[0m\u001b[1;33m.\u001b[0m\u001b[0mhandel\u001b[0m\u001b[1;33m,\u001b[0m \u001b[0mregnum\u001b[0m\u001b[1;33m,\u001b[0m \u001b[0mregval\u001b[0m\u001b[1;33m)\u001b[0m\u001b[1;33m\u001b[0m\u001b[0m\n\u001b[0m\u001b[0;32m    231\u001b[0m         \u001b[1;32mif\u001b[0m \u001b[1;33m(\u001b[0m\u001b[0merr\u001b[0m\u001b[1;33m==\u001b[0m\u001b[1;36m0\u001b[0m\u001b[1;33m)\u001b[0m\u001b[1;33m:\u001b[0m\u001b[1;33m\u001b[0m\u001b[0m\n\u001b[0;32m    232\u001b[0m             \u001b[1;32mreturn\u001b[0m \u001b[1;36m0\u001b[0m\u001b[1;33m\u001b[0m\u001b[0m\n",
      "\u001b[1;31mKeyboardInterrupt\u001b[0m: "
     ]
    }
   ],
   "source": [
    "hardware_samplerate = 500e6\n",
    "nums = 5000\n",
    "ro_pulse_length = 1e-6\n",
    "ro_readout_length = 2e-6\n",
    "hardware_segsize = int(2**np.ceil(np.log(ro_readout_length*hardware_samplerate)/np.log(2))*2)\n",
    "posttrigger = 3*hardware_segsize/4\n",
    "amp = 50\n",
    "offs = 0\n",
    "timeout = 20000\n",
    "PulsePeriod = 40e-6\n",
    "reprate = 1/PulsePeriod\n",
    "software_averages = 20\n",
    "software_binning = 1\n",
    "binned_segsize = hardware_segsize/software_binning\n",
    "center_freq_point = int(settings_ro[awg_ro_I_ch]['F']/hardware_samplerate*hardware_segsize)\n",
    "\n",
    "lo1.set_status(1)\n",
    "lo1.set_frequency(ex_freq-settings_ex[awg_ex_I_ch]['F'])\n",
    "pna.set_cw_freq(ro_freq-settings_ro[awg_ro_I_ch]['F'])\n",
    "frequency_offset = 0e6\n",
    "excite_pulse_length = 724e-9/2\n",
    "delays = np.linspace(0, 2.5e-6, 101)\n",
    "max_delay_with_pulses = excite_pulse_length*4+np.max(delays)\n",
    "sample = np.zeros((binned_segsize, len(delays)))\n",
    "#covariation_matrix = np.zeros((binned_segsize, binned_segsize, len(delays)))\n",
    "S21 = np.zeros((len(delays),), dtype=np.complex)\n",
    "#ro_results_output = open('C:/qtlab/ReiData/data/Feb 19 2016/rabi_dump/dump1.pkl', 'w')\n",
    "\n",
    "for delay_id, excite_delay in enumerate(delays):\n",
    "    excitePulseI1 = RectSine(settings_ex[awg_ex_I_ch]['A'], 1./settings_ex[awg_ex_I_ch]['F'], excite_pulse_length, 0, \n",
    "                             settings_ex[awg_ex_I_ch]['O'], \\\n",
    "                             max_delay_with_pulses-excite_delay-excite_pulse_length*4, sample_period = 1./SampleRate_ex)\n",
    "    excitePulseQ1 = RectSine(settings_ex[awg_ex_Q_ch]['A'], 1./settings_ex[awg_ex_Q_ch]['F'], excite_pulse_length, \n",
    "                             settings_ex[awg_ex_Q_ch]['P'], settings_ex[awg_ex_Q_ch]['O'], \\\n",
    "                             max_delay_with_pulses-excite_delay-excite_pulse_length*4, sample_period = 1./SampleRate_ex)\n",
    "    excitePulseI2 = RectSine(settings_ex[awg_ex_I_ch]['A'], 1./settings_ex[awg_ex_I_ch]['F'], excite_pulse_length*2, \\\n",
    "                             2*np.pi*(settings_ex[awg_ex_I_ch]['F'])*(excite_delay/2+excite_pulse_length), \\\n",
    "                             0, \\\n",
    "                             max_delay_with_pulses-excite_delay/2-excite_pulse_length*3, sample_period = 1./SampleRate_ex)\n",
    "    excitePulseQ2 = RectSine(settings_ex[awg_ex_Q_ch]['A'], 1./settings_ex[awg_ex_Q_ch]['F'], excite_pulse_length*2, \n",
    "                             settings_ex[awg_ex_Q_ch]['P']+\\\n",
    "                             2*np.pi*(settings_ex[awg_ex_I_ch]['F'])*(excite_delay/2+excite_pulse_length), \\\n",
    "                             0, \\\n",
    "                             max_delay_with_pulses-excite_delay/2-excite_pulse_length*3, sample_period = 1./SampleRate_ex)\n",
    "    excitePulseI3 = RectSine(settings_ex[awg_ex_I_ch]['A'], 1./settings_ex[awg_ex_I_ch]['F'], excite_pulse_length, \\\n",
    "                             2*np.pi*(settings_ex[awg_ex_I_ch]['F'])*(excite_delay+3*excite_pulse_length), \\\n",
    "                             0, \\\n",
    "                             max_delay_with_pulses-excite_pulse_length, sample_period = 1./SampleRate_ex)\n",
    "    excitePulseQ3 = RectSine(settings_ex[awg_ex_Q_ch]['A'], 1./settings_ex[awg_ex_Q_ch]['F'], excite_pulse_length, \n",
    "                             settings_ex[awg_ex_Q_ch]['P']+\\\n",
    "                             2*np.pi*(settings_ex[awg_ex_I_ch]['F'])*(excite_delay+3*excite_pulse_length), \\\n",
    "                             0, \\\n",
    "                             max_delay_with_pulses-excite_pulse_length, sample_period = 1./SampleRate_ex)\n",
    "    excitePulseI = excitePulseI1 + excitePulseI2 + excitePulseI3\n",
    "    excitePulseQ = excitePulseQ1 + excitePulseQ2 + excitePulseQ3\n",
    "    ROPulseI = RectSine(settings_ro[awg_ro_I_ch]['A'], 1./settings_ro[awg_ro_I_ch]['F'], ro_pulse_length, 0, \n",
    "                        settings_ro[awg_ro_I_ch]['O'], max_delay_with_pulses, sample_period = 1./SampleRate_ro)\n",
    "    ROPulseQ = RectSine(settings_ro[awg_ro_Q_ch]['A'], 1./settings_ro[awg_ro_Q_ch]['F'], ro_pulse_length, \n",
    "                        settings_ro[awg_ro_Q_ch]['P'], settings_ro[awg_ro_Q_ch]['O'], max_delay_with_pulses, sample_period = 1./SampleRate_ro)\n",
    "    # setting trigger to start readout after excitation pulses\n",
    "    triggerPulse = [0, zero_delay+int(max_delay_with_pulses/1e-9), 3, 100, 3, 1, 0, 4]\n",
    "    SyncPulseProg = awg.intToBytes(triggerPulse)\n",
    "    awg.ProgPulse(0, SyncPulseProg)\n",
    "    awg.LoadRAM(awg_ex_I_ch, excitePulseI)\n",
    "    awg.LoadRAM(awg_ex_Q_ch, excitePulseQ)\n",
    "    awg.LoadRAM(awg_ro_I_ch, ROPulseI)\n",
    "    awg.LoadRAM(awg_ro_Q_ch, ROPulseQ)\n",
    "    #plt.figure(3)\n",
    "    #plt.plot(excitePulseI)\n",
    "    #plt.plot(excitePulseQ)\n",
    "    \n",
    "    daq0.stop()\n",
    "    daq0.init_channel0_multiple_recording(nums=nums, segsize=hardware_segsize, posttrigger=posttrigger, amp=amp, offs=offs)\n",
    "    daq0.buffer_setup()\n",
    "    for software_average_id in range(software_averages):\n",
    "        daq0.trigger_termination_50Ohm()\n",
    "        daq0.start_with_trigger_and_waitready()\n",
    "        data = np.sum(np.reshape(daq0.readout_singlechannel_multimode_bin(), (nums, binned_segsize, software_binning)), axis=2).T\n",
    "        data_fft = np.fft.fft(data, axis=0)\n",
    "        sample[:,delay_id] = sample[:,delay_id] + np.sum(data, axis=1)\n",
    "        #covariation_matrix[:,:,delay_id] += np.einsum('ij,kj->ik', data, np.conj(data))\n",
    "        #pickle.dump(data_fft[center_freq_point-8:center_freq_point+8, :], ro_results_output)\n",
    "        S21[delay_id] = S21[delay_id] + np.sum(data_fft, axis=1)[center_freq_point]\n",
    "        #plt.cla()\n",
    "        #plt.plot(sample[:, pulse_length_id])\n",
    "        #plt.pause(0.1)\n",
    "        #print 'acq time: {0:5.3g}, ro time: {1:5.3g}, fft time: {2:5.3g}, mean time: {3:5.3g}, covariation time{4:5.3g}'.format(\n",
    "        #    ro_start-acq_start, fft_start-ro_start, mean_start - fft_start, covariation_start - mean_start, cycle_end-covariation_start)\n",
    "        daq0.stop()\n",
    "    plt.figure(1)\n",
    "    plt.cla()\n",
    "    plt.plot(delays[:delay_id+1], np.abs(np.fft.fft(sample, axis=0)[center_freq_point,:delay_id+1]))\n",
    "    plt.pause(0.1)\n",
    "    plt.figure(2)\n",
    "    plt.cla()\n",
    "    plt.plot(delays[:delay_id+1], np.angle(np.fft.fft(sample, axis=0)[center_freq_point,:delay_id+1]))\n",
    "    plt.pause(0.1)\n",
    "    last_point = delay_id\n",
    "#ro_results_output.close()"
   ]
  },
  {
   "cell_type": "code",
   "execution_count": 46,
   "metadata": {},
   "outputs": [
    {
     "name": "stdout",
     "output_type": "stream",
     "text": [
      "((-119884526.71548374, 180651125.18256304, -133096170.88311888, 179689148.54410118, -9.078917083103382e-08), 5.3563807203267953e+19)\n",
      "(array([  4.03434283e+09,   1.80651125e+08,  -1.17122567e+08,\n",
      "         1.80666835e+08,  -4.05084289e-03]), 251824174.76599681)\n"
     ]
    }
   ],
   "source": [
    "# фитует результаты измерений экспонентой\n",
    "positive_delays =  delays[delays>0]\n",
    "positive_delays_S21 = S21[delays>0]\n",
    "f = lambda x,A0r,Aoi,A1r,A1i,t: (A0r+A0i*1j+((A1r-A0r)+(A1i-A0i)*1j)*np.exp(-x/t))\n",
    "cost = lambda p: np.append((f(positive_delays,*p)-positive_delays_S21).real, (f(positive_delays,*p)-positive_delays_S21).imag)\n",
    "# изначальные параметры:\n",
    "A0r = positive_delays_S21[-1].real\n",
    "A0i = positive_delays_S21[-1].imag\n",
    "A1r = positive_delays_S21[0].real\n",
    "A1i = positive_delays_S21[0].imag\n",
    "d = (A1r-A0r)+1j*(A1i-A0i)\n",
    "S21_PC = d.real*positive_delays_S21.real+d.imag*positive_delays_S21.imag\n",
    "S21_PC=S21_PC-np.mean(S21_PC[-5:])\n",
    "plt.figure()\n",
    "plt.plot(positive_delays, S21_PC)\n",
    "#print(np.sum(S21_PC), np.max(S21_PC), np.mean(np.diff(positive_delays)))\n",
    "t = np.sum(S21_PC)/np.max(S21_PC)*np.mean(np.diff(positive_delays))\n",
    "print((A0r,A0i,A1r,A1i,t), np.sum(np.abs(cost((A0r,A0i,A1r,A1i,t)))))\n",
    "from scipy.optimize import leastsq\n",
    "fitresults = leastsq(cost, (A0r,A0i,A1r,A1i,t))\n",
    "print(fitresults[0], np.sum(np.abs(cost(fitresults[0]))))\n",
    "fitted_curve = (positive_delays, np.log10(np.abs(f(positive_delays, *(fitresults[0]))))*10, np.angle(f(positive_delays, *(fitresults[0]))))\n",
    "#print (fitresults)"
   ]
  },
  {
   "cell_type": "code",
   "execution_count": 61,
   "metadata": {
    "collapsed": true
   },
   "outputs": [],
   "source": [
    "execfile('save_pkl.py')\n",
    "time_domain_box_setup = {'use_coupler':True, 'excite_lo':'lo1', 'ro_lo':'pna', \n",
    "                         'excite_lo_freq':excite_lo_freq, 'ro_lo_freq':ro_lo_freq, }\n",
    "dac_setup = {'samplerate': samplerate, 'zero_delay': zero_delay, 'sample_size': hardware_segsize, 'posttrigger': posttrigger,\n",
    "          'amp': 50, 'offs': 0,\n",
    "          'hardware_averages': nums, 'software_averages': software_averages,}\n",
    "header = {'date':datetime.datetime.now(), 'type': 'Spin echo', 'name': 'first', 'pulse_settings': settings, \n",
    "          'ro_pulse_length':ro_pulse_length, 'excite_pulse_length':excite_pulse_length,\n",
    "          'dac_setup':dac_setup, 'time_domain_box_setup':time_domain_box_setup}\n",
    "annotation='Decay time: T2*={0:3.2f} us'.format(fitresults[0][4]*1e6)\n",
    "measurement = ((delays, np.asarray([0]), np.log10(np.abs(S21))*10, np.angle(S21)))\n",
    "save_pkl(header, measurement, curve_fit=fitted_curve, annotation=annotation)"
   ]
  },
  {
   "cell_type": "markdown",
   "metadata": {
    "collapsed": true
   },
   "source": [
    "# Rabi power dependance"
   ]
  },
  {
   "cell_type": "code",
   "execution_count": 81,
   "metadata": {},
   "outputs": [
    {
     "name": "stdout",
     "output_type": "stream",
     "text": [
      "4096\n"
     ]
    },
    {
     "name": "stderr",
     "output_type": "stream",
     "text": [
      "C:\\Python27\\Lib\\site-packages\\matplotlib\\axes\\_base.py:2809: UserWarning: Attempting to set identical bottom==top results\n",
      "in singular transformations; automatically expanding.\n",
      "bottom=-0.383502744849, top=-0.383502744849\n",
      "  'bottom=%s, top=%s') % (bottom, top))\n",
      "C:\\Python27\\Lib\\site-packages\\matplotlib\\axes\\_base.py:2809: UserWarning: Attempting to set identical bottom==top results\n",
      "in singular transformations; automatically expanding.\n",
      "bottom=0.43912677976, top=0.43912677976\n",
      "  'bottom=%s, top=%s') % (bottom, top))\n"
     ]
    },
    {
     "ename": "KeyboardInterrupt",
     "evalue": "",
     "output_type": "error",
     "traceback": [
      "\u001b[1;31m---------------------------------------------------------------------------\u001b[0m",
      "\u001b[1;31mKeyboardInterrupt\u001b[0m                         Traceback (most recent call last)",
      "\u001b[1;32m<ipython-input-81-e8277fdcd67e>\u001b[0m in \u001b[0;36m<module>\u001b[1;34m()\u001b[0m\n\u001b[0;32m    109\u001b[0m \u001b[1;33m\u001b[0m\u001b[0m\n\u001b[0;32m    110\u001b[0m         \u001b[1;31m#Мерием по триггеру\u001b[0m\u001b[1;33m\u001b[0m\u001b[1;33m\u001b[0m\u001b[0m\n\u001b[1;32m--> 111\u001b[1;33m         \u001b[0mdaq0\u001b[0m\u001b[1;33m.\u001b[0m\u001b[0mstart_with_trigger_and_waitready\u001b[0m\u001b[1;33m(\u001b[0m\u001b[1;33m)\u001b[0m\u001b[1;33m\u001b[0m\u001b[0m\n\u001b[0m\u001b[0;32m    112\u001b[0m         \u001b[1;31m#Усредняем результат\u001b[0m\u001b[1;33m\u001b[0m\u001b[1;33m\u001b[0m\u001b[0m\n\u001b[0;32m    113\u001b[0m         measI[i] += np.sum(daq0.readout_doublechannel_multimode_bin()[0],\n",
      "\u001b[1;32mc:\\qtlab\\ReiData\\qtlab_addons\\user_instruments\\Spectrum_M3i2132.pyc\u001b[0m in \u001b[0;36mstart_with_trigger_and_waitready\u001b[1;34m(self)\u001b[0m\n\u001b[0;32m    651\u001b[0m         \u001b[0mself\u001b[0m\u001b[1;33m.\u001b[0m\u001b[0m_buffer_setup\u001b[0m\u001b[1;33m(\u001b[0m\u001b[1;33m)\u001b[0m\u001b[1;33m\u001b[0m\u001b[0m\n\u001b[0;32m    652\u001b[0m         self._set_param(_spcm_regs.SPC_M2CMD,\n\u001b[1;32m--> 653\u001b[1;33m             _spcm_regs.M2CMD_CARD_START | _spcm_regs.M2CMD_CARD_ENABLETRIGGER | _spcm_regs.M2CMD_CARD_WAITREADY | _spcm_regs.M2CMD_DATA_WAITDMA)\n\u001b[0m\u001b[0;32m    654\u001b[0m \u001b[1;33m\u001b[0m\u001b[0m\n\u001b[0;32m    655\u001b[0m     \u001b[1;32mdef\u001b[0m \u001b[0mforce_trigger\u001b[0m\u001b[1;33m(\u001b[0m\u001b[0mself\u001b[0m\u001b[1;33m)\u001b[0m\u001b[1;33m:\u001b[0m\u001b[1;33m\u001b[0m\u001b[0m\n",
      "\u001b[1;32mc:\\qtlab\\ReiData\\qtlab_addons\\user_instruments\\Spectrum_M3i2132.pyc\u001b[0m in \u001b[0;36m_set_param\u001b[1;34m(self, regnum, regval)\u001b[0m\n\u001b[0;32m    228\u001b[0m         '''\n\u001b[0;32m    229\u001b[0m         \u001b[0mlogging\u001b[0m\u001b[1;33m.\u001b[0m\u001b[0mdebug\u001b[0m\u001b[1;33m(\u001b[0m\u001b[0m__name__\u001b[0m \u001b[1;33m+\u001b[0m \u001b[1;34m' : Set reg %s to %s'\u001b[0m \u001b[1;33m%\u001b[0m\u001b[1;33m(\u001b[0m\u001b[0mregnum\u001b[0m\u001b[1;33m,\u001b[0m \u001b[0mregval\u001b[0m\u001b[1;33m)\u001b[0m\u001b[1;33m)\u001b[0m\u001b[1;33m\u001b[0m\u001b[0m\n\u001b[1;32m--> 230\u001b[1;33m         \u001b[0merr\u001b[0m \u001b[1;33m=\u001b[0m \u001b[0mself\u001b[0m\u001b[1;33m.\u001b[0m\u001b[0m_spcm_win32\u001b[0m\u001b[1;33m.\u001b[0m\u001b[0mSetParam32\u001b[0m\u001b[1;33m(\u001b[0m\u001b[0mself\u001b[0m\u001b[1;33m.\u001b[0m\u001b[0m_spcm_win32\u001b[0m\u001b[1;33m.\u001b[0m\u001b[0mhandel\u001b[0m\u001b[1;33m,\u001b[0m \u001b[0mregnum\u001b[0m\u001b[1;33m,\u001b[0m \u001b[0mregval\u001b[0m\u001b[1;33m)\u001b[0m\u001b[1;33m\u001b[0m\u001b[0m\n\u001b[0m\u001b[0;32m    231\u001b[0m         \u001b[1;32mif\u001b[0m \u001b[1;33m(\u001b[0m\u001b[0merr\u001b[0m\u001b[1;33m==\u001b[0m\u001b[1;36m0\u001b[0m\u001b[1;33m)\u001b[0m\u001b[1;33m:\u001b[0m\u001b[1;33m\u001b[0m\u001b[0m\n\u001b[0;32m    232\u001b[0m             \u001b[1;32mreturn\u001b[0m \u001b[1;36m0\u001b[0m\u001b[1;33m\u001b[0m\u001b[0m\n",
      "\u001b[1;31mKeyboardInterrupt\u001b[0m: "
     ]
    }
   ],
   "source": [
    "#Длительность 1 возбуждающего импульса красивой формы\n",
    "pulse_length = 8e-9\n",
    "# Длительность всего набора импульсов\n",
    "total_pulses_lengths = 240e-9\n",
    "# Число импульсов в таком случае\n",
    "pulse_num = int(total_pulses_lengths / pulse_length)\n",
    "\n",
    "pulse_amplitudes = np.linspace(0, 1, 201)\n",
    "\n",
    "PulsePeriod = 20e-6\n",
    "ro_pulse_length = 2e-6\n",
    "#Длительность выборки DAQ\n",
    "SampleRate = 500e6\n",
    "nums = 5000\n",
    "Range = 50\n",
    "software_averages = 2\n",
    "\n",
    "lo1.set_frequency(ex_lo_freq)\n",
    "pna.set_cw_freq(ro_lo_freq)\n",
    "\n",
    "#Настраиваем awg\n",
    "data_len = int(PulsePeriod/2e-9)+1 \n",
    "awg.set_repetition_period(PulsePeriod)\n",
    "awg_tek.set_repetition_period(PulsePeriod - 1e-6)\n",
    "\n",
    "#Инициализация DAQ\n",
    "signal_size = int(np.ceil(4./3.*(total_pulses_lengths+ro_pulse_length+500e-9)*SampleRate))\n",
    "segsize = 2*int( 2**np.ceil(np.log2(signal_size)) )\n",
    "print segsize\n",
    "posttrigger = segsize*3/4\n",
    "signal_start = segsize - posttrigger \n",
    "signal_end = segsize - posttrigger + signal_size + zero_delay*2\n",
    "if signal_end>segsize:\n",
    "    signal_end = segsize\n",
    "#segsize = 2048\n",
    "#posttrigger = 512*3\n",
    "    \n",
    "daq0.stop()\n",
    "daq0.set_spc_samplerate(SampleRate)\n",
    "daq0.init_channel01_multiple_recording(rate=SampleRate, nums=nums, segsize=segsize, \n",
    "                                  posttrigger=posttrigger, amp0=Range, amp1=Range)\n",
    "daq0.trigger_termination_50Ohm()\n",
    "daq0.buffer_setup()\n",
    "\n",
    "\n",
    "lo1.set_status(1)\n",
    "#segsize = signal_end -  signal_start\n",
    "#Контейнеры для данных\n",
    "measQ = np.zeros((len(pulse_amplitudes), segsize))\n",
    "measI = np.zeros((len(pulse_amplitudes), segsize))\n",
    "I_Rabi = np.zeros( len(pulse_amplitudes) )\n",
    "Q_Rabi = np.zeros( len(pulse_amplitudes) )\n",
    "\n",
    "#Функции для демодуляции\n",
    "t = linspace(0.,segsize/SampleRate, segsize, endpoint=False)\n",
    "dm_sin = sin(2.*pi*ro_if*t)\n",
    "dm_cos = cos(2.*pi*ro_if*t)\n",
    "\n",
    "#Графики\n",
    "plt.figure(\"I_Rabi\")\n",
    "amp_plot = plt.plot(pulse_amplitudes, I_Rabi)[0]\n",
    "plt.figure(\"Q_Rabi\")\n",
    "ph_plot = plt.plot(pulse_amplitudes, Q_Rabi)[0]\n",
    "awg_ex.set_trigger_mode('TRIG')\n",
    "\n",
    "max_pulse_length = pulse_length\n",
    "\n",
    "for i, pulse_amplitude in enumerate(pulse_amplitudes):\n",
    "    #Чтобы хорошо разрешить эффект, давайте бахнем не один импульс, а сразу много! Скажем, штук 100.\n",
    "    pulse_x_I = np.zeros (data_len*2)\n",
    "    pulse_x_Q = np.zeros (data_len*2)\n",
    "    for j in range (pulse_num):\n",
    "        pulse_shape_x_I = gauss_rect_sine(1/ex_if*SampleRate_ex, pulse_length*SampleRate_ex, pulse_length*j*ex_if*2*np.pi, 2, 2)\n",
    "        pulse_shape_x_Q = gauss_rect_sine(1/ex_if*SampleRate_ex, pulse_length*SampleRate_ex, pulse_length*j*ex_if*2*np.pi+settings_ex[awg_ex_Q_ch]['P'], 2, 2)\n",
    "        pulse_x_I[j*pulse_shape_x_I.size+1:(j+1)*pulse_shape_x_I.size+1] = \\\n",
    "                        pulse_amplitude*settings_ex[awg_ex_I_ch]['A']*pulse_shape_x_I + settings_ex[awg_ex_I_ch]['O']\n",
    "        pulse_x_Q[j*pulse_shape_x_Q.size+1:(j+1)*pulse_shape_x_Q.size+1] =\\\n",
    "                        pulse_amplitude*settings_ex[awg_ex_Q_ch]['A']*pulse_shape_x_Q + settings_ex[awg_ex_Q_ch]['O']\n",
    "    pulse_x_I [0] = settings_ex[awg_ex_I_ch]['O']\n",
    "    pulse_x_Q [0] = settings_ex[awg_ex_Q_ch]['O']\n",
    "    pulse_x_I [pulse_num*pulse_shape_x_I.size+1:data_len*2] = settings_ex[awg_ex_I_ch]['O']\n",
    "    pulse_x_Q [pulse_num*pulse_shape_x_Q.size+1:data_len*2] = settings_ex[awg_ex_Q_ch]['O']\n",
    "    #exPulseI = RectSine(settings_ex[awg_ex_I_ch]['A'], 1./ex_if, pulse_length, \n",
    "    #                    settings_ex[awg_ex_I_ch]['P'], \n",
    "    #                    settings_ex[awg_ex_I_ch]['O'], 0)\n",
    "    #exPulseQ = RectSine(settings_ex[awg_ex_Q_ch]['A'], 1./ex_if,\n",
    "    #                    pulse_length, settings_ex[awg_ex_Q_ch]['P'], settings_ex[awg_ex_Q_ch]['O'],\n",
    "    #                    0)\n",
    "\n",
    "\n",
    "    #exPulseI[0] = settings_ex[awg_ex_I_ch]['O']\n",
    "    #exPulseQ[0] = settings_ex[awg_ex_Q_ch]['O']\n",
    "    #Программируем импульсы в awg\n",
    "    awg_ex.LoadRAM(awg_ex_I_ch, pulse_x_I[0:data_len*2])\n",
    "    awg_ex.LoadRAM(awg_ex_Q_ch, pulse_x_Q[0:data_len*2])\n",
    "    awg_tek.run()\n",
    "    #Считывающий импульс сразу после возбуждающего\n",
    "    roPulseI = RectSine(settings_ro[awg_ro_I_ch]['A'], 1./ro_if, ro_pulse_length,\n",
    "                    settings_ro[awg_ro_I_ch]['P'], settings_ro[awg_ro_I_ch]['O'], total_pulses_lengths+500e-9)\n",
    "    roPulseQ = RectSine(settings_ro[awg_ro_Q_ch]['A'], 1./ro_if, ro_pulse_length, \n",
    "                    settings_ro[awg_ro_Q_ch]['P'], settings_ro[awg_ro_Q_ch]['O'], total_pulses_lengths+500e-9)\n",
    "    awg_ro.LoadRAM(awg_ro_I_ch, roPulseI)\n",
    "    awg_ro.LoadRAM(awg_ro_Q_ch, roPulseQ)\n",
    "# setting trigger to start readout immideately after excitation puls\n",
    "# zero_delay надо сначала померить в delay synchronization\n",
    "#triggerPulse = [0, zero_delay+int(max_pulse_length/1e-9), 3, 100, 3, 1, 0, 4]\n",
    "#SyncPulseProg = awg.intToBytes(triggerPulse)\n",
    "#awg.ProgPulse(0, SyncPulseProg)\n",
    "    \n",
    "    for software_average_id in range(software_averages):\n",
    "        \n",
    "        #Мерием по триггеру\n",
    "        daq0.start_with_trigger_and_waitready()\n",
    "        #Усредняем результат\n",
    "        measI[i] += np.sum(daq0.readout_doublechannel_multimode_bin()[0],\n",
    "                           axis=0)\n",
    "        measQ[i] += np.sum(daq0.readout_doublechannel_multimode_bin()[1],\n",
    "                           axis=0)\n",
    "        measI[i] -=np.mean(measI[i]) \n",
    "        measQ[i] -=np.mean(measQ[i])\n",
    "        \n",
    "        daq0.stop()\n",
    "     \n",
    "    #Делаем преобразованеи до нулевой частоты \n",
    "    I_Rabi[i] = np.mean(measI[i]*dm_cos - measQ[i]*dm_sin)/(nums*software_averages)\n",
    "    Q_Rabi[i] = np.mean(measQ[i]*dm_cos + measI[i]*dm_sin)/(nums*software_averages)\n",
    "      \n",
    "    #Рисуем графики\n",
    "    plt.figure(\"I_Rabi\")\n",
    "    amp_plot.set_data(pulse_amplitudes[:i+1], I_Rabi[:i+1])\n",
    "    plt.ylim((np.min(I_Rabi[:i+1]), np.max(I_Rabi[:i+1])))\n",
    "    plt.figure(\"Q_Rabi\")\n",
    "    ph_plot.set_data(pulse_amplitudes[:i+1], Q_Rabi[:i+1])\n",
    "    plt.ylim((np.min(Q_Rabi[:i+1]), np.max(Q_Rabi[:i+1])))\n",
    "    plt.pause(0.01)   \n"
   ]
  },
  {
   "cell_type": "code",
   "execution_count": 69,
   "metadata": {},
   "outputs": [
    {
     "data": {
      "text/plain": [
       "<matplotlib.collections.QuadMesh at 0x19fd4ef0>"
      ]
     },
     "execution_count": 69,
     "metadata": {},
     "output_type": "execute_result"
    }
   ],
   "source": [
    "plt.figure()\n",
    "plt.pcolormesh(measI)\n",
    "plt.figure()\n",
    "plt.pcolormesh(measQ)"
   ]
  },
  {
   "cell_type": "code",
   "execution_count": 83,
   "metadata": {},
   "outputs": [
    {
     "name": "stdout",
     "output_type": "stream",
     "text": [
      "20.7920792079\n"
     ]
    },
    {
     "data": {
      "text/plain": [
       "[<matplotlib.lines.Line2D at 0x1be69530>,\n",
       " <matplotlib.lines.Line2D at 0x1ba42430>]"
      ]
     },
     "execution_count": 83,
     "metadata": {},
     "output_type": "execute_result"
    }
   ],
   "source": [
    "from scipy import optimize\n",
    "\n",
    "S21 = I_Rabi+1j*Q_Rabi\n",
    "Rabi_fft=np.fft.fft(S21-np.mean(S21))\n",
    "frequencies = np.fft.fftfreq(len(pulse_amplitudes), pulse_amplitudes[1]-pulse_amplitudes[0])\n",
    "plt.figure('FFT')\n",
    "plt.plot(frequencies, np.abs(Rabi_fft))\n",
    "fR = frequencies[np.argmax(np.abs(Rabi_fft))]\n",
    "print (fR)\n",
    "\n",
    "fitfunc = lambda p, x: p[0]*np.cos(2*np.pi/p[1]*x+p[2])+p[3]\n",
    "errfunc = lambda p, x, y: fitfunc(p, x) - y \n",
    "p0 = [0.003, 1/fR, 0.,-0.014] \n",
    "p1, success = optimize.leastsq(errfunc, p0[:], args=(pulse_amplitudes, I_Rabi))\n",
    "plt.figure(\"I_Rabi\")\n",
    "amp = np.linspace(pulse_amplitudes.min(), pulse_amplitudes.max(), 100)\n",
    "plt.plot(pulse_amplitudes, I_Rabi, \"bo\", amp, fitfunc(p1, amp), \"g-\") # Plot of the data and the fit"
   ]
  },
  {
   "cell_type": "markdown",
   "metadata": {},
   "source": [
    "# Gaussian pulse amplitude"
   ]
  },
  {
   "cell_type": "code",
   "execution_count": 104,
   "metadata": {},
   "outputs": [
    {
     "name": "stdout",
     "output_type": "stream",
     "text": [
      "0.75258293681\n"
     ]
    }
   ],
   "source": [
    "pulse_amp = np.abs(p1[1]/4*61)\n",
    "print(pulse_amp)"
   ]
  },
  {
   "cell_type": "code",
   "execution_count": 107,
   "metadata": {},
   "outputs": [
    {
     "name": "stdout",
     "output_type": "stream",
     "text": [
      "0.794630339643\n"
     ]
    }
   ],
   "source": [
    "pulse_amp = np.abs(p1[1]/4*61)\n",
    "print(pulse_amp)"
   ]
  },
  {
   "cell_type": "code",
   "execution_count": 110,
   "metadata": {},
   "outputs": [
    {
     "name": "stdout",
     "output_type": "stream",
     "text": [
      "0.732033243184\n"
     ]
    }
   ],
   "source": [
    "pulse_amp = np.abs(p1[1]/4*61)\n",
    "print(pulse_amp)"
   ]
  },
  {
   "cell_type": "code",
   "execution_count": 114,
   "metadata": {},
   "outputs": [
    {
     "name": "stdout",
     "output_type": "stream",
     "text": [
      "0.758177995038\n"
     ]
    }
   ],
   "source": [
    "pulse_amp = np.abs(p1[1]/4*61)\n",
    "print(pulse_amp)"
   ]
  },
  {
   "cell_type": "code",
   "execution_count": 117,
   "metadata": {},
   "outputs": [
    {
     "name": "stdout",
     "output_type": "stream",
     "text": [
      "0.742412590291\n"
     ]
    }
   ],
   "source": [
    "pulse_amp = np.abs(p1[1]/4*61)\n",
    "print(pulse_amp)"
   ]
  },
  {
   "cell_type": "code",
   "execution_count": 120,
   "metadata": {},
   "outputs": [
    {
     "name": "stdout",
     "output_type": "stream",
     "text": [
      "0.746781138021\n"
     ]
    }
   ],
   "source": [
    "pulse_amp = np.abs(p1[1]/4*61)\n",
    "print(pulse_amp)"
   ]
  },
  {
   "cell_type": "code",
   "execution_count": 80,
   "metadata": {
    "collapsed": true
   },
   "outputs": [],
   "source": [
    "# 16/4 gaussian pulses\n",
    "pulse_amp_x = 0.6\n",
    "pulse_amp_y = 0.6\n",
    "pulse_amp_x_hd = 0.985\n",
    "pulse_amp_y_hd = 0.985\n",
    "# 32/6 gaussian pulses\n",
    "#pulse_amp_x = 0.528\n",
    "#pulse_amp_y = 0.498\n",
    "# 24/6 gaussian pulses\n",
    "pulse_amp_x_24 = 1.\n",
    "pulse_amp_y_24 = 1."
   ]
  },
  {
   "cell_type": "code",
   "execution_count": 81,
   "metadata": {
    "collapsed": true
   },
   "outputs": [],
   "source": [
    "PulsePeriod = 20e-6"
   ]
  },
  {
   "cell_type": "code",
   "execution_count": 89,
   "metadata": {
    "collapsed": true
   },
   "outputs": [],
   "source": [
    "from scipy.signal import gaussian, convolve\n",
    "\n",
    "gauss_x =     {'ex': pulse_amp_x*gaussian(16, 3),    'ro': np.zeros(8)}\n",
    "gauss_x_rev = {'ex': (-1)*pulse_amp_x*gaussian(16, 3),    'ro': np.zeros(8)}\n",
    "gauss_y =     {'ex': pulse_amp_y*gaussian(16, 3)*1j, 'ro': np.zeros(8)}\n",
    "gauss_y_rev =     {'ex': (-1)*pulse_amp_y*gaussian(16, 2)*1j, 'ro': np.zeros(8)}\n",
    "gauss_x_24 =     {'ex': np.hstack([np.zeros(3), pulse_amp_x_24*gaussian(18, 4), np.zeros(3)]),    'ro': np.zeros(12)}\n",
    "gauss_x_24_rev = {'ex': (-1)*np.hstack([np.zeros(3), pulse_amp_x_24*gaussian(18, 4), np.zeros(3)]),    'ro': np.zeros(12)}\n",
    "gauss_y_24 =     {'ex': np.hstack([np.zeros(3), pulse_amp_x_24*gaussian(18, 4), np.zeros(3)])*1j, 'ro': np.zeros(12)}\n",
    "gauss_y_24_rev = {'ex': (-1)*np.hstack([np.zeros(3), pulse_amp_x_24*gaussian(18, 4), np.zeros(3)])*1j,    'ro': np.zeros(12)}\n",
    "ro      =     {'ex': np.zeros(2000),               'ro': np.ones(1000)}\n",
    "pause   = lambda t: {'ex':np.zeros(2*t),       'ro': np.zeros(t)}\n",
    "\n",
    "pulse_x = gauss_x_24\n",
    "pulse_y = gauss_y_24\n",
    "pulse_x_rev = gauss_x_24_rev\n",
    "pulse_y_rev = gauss_y_24_rev\n",
    "\n",
    "#gauss_x_h = np.hstack([[0], gauss_x['ex'], [0]])\n",
    "#DRAG HD\n",
    "#gauss_x_hd = np.diff(gauss_x_h)\n",
    "#gauss_x_h1 = gauss_x_hd [1:]\n",
    "#gauss_x_h2 = gauss_x_hd [:-1]\n",
    "#gauss_x_hd = (gauss_x_h1 + gauss_x_h2)/2.*SampleRate_ro\n",
    "#Anharmonicity = 200e6*2*np.pi\n",
    "#gauss_x_HD =  {'ex': (gauss_x['ex']-13*1j*gauss_x_hd/(Anharmonicity*2))*pulse_amp_x_hd,    'ro':gauss_x['ro']}\n",
    "#gauss_x_HD_rev =  {'ex': -(gauss_x['ex']-13*1j*gauss_x_hd/(Anharmonicity*2))*pulse_amp_x_hd,    'ro':gauss_x['ro']}\n",
    "\n",
    "def seq2points(pulse_seq, num_points_ex, num_points_ro):\n",
    "    channels = ['ex', 'ro']\n",
    "    pulse_shape = {'ex':[0, 0]*8, 'ro':[0]*8}\n",
    "    for channel in channels:\n",
    "        for pulse in pulse_seq:\n",
    "            pulse_shape[channel].extend(pulse[channel])\n",
    "        pulse_shape[channel] = np.asarray(pulse_shape[channel])\n",
    "        \n",
    "    l_ex = pulse_shape['ex'].size\n",
    "    l_ro = pulse_shape['ro'].size\n",
    "    points_ex = np.linspace (0, l_ex-1, l_ex)\n",
    "    points_ro = np.linspace (0, l_ro-1, l_ro)\n",
    "    ex_I = settings_ex[awg_ex_I_ch]['O']*np.ones(num_points_ex)\n",
    "    ex_Q = settings_ex[awg_ex_Q_ch]['O']*np.ones(num_points_ex)\n",
    "    ro_I = settings_ro[awg_ro_I_ch]['O']*np.ones(num_points_ro)\n",
    "    ro_Q = settings_ro[awg_ro_Q_ch]['O']*np.ones(num_points_ro)\n",
    "    ex_I[:l_ex] = np.real(pulse_shape['ex']*settings_ex[awg_ex_I_ch]['A']*np.exp (1j*(2*np.pi*ex_if*points_ex/SampleRate_ex+settings_ex[awg_ex_I_ch]['P'])))+settings_ex[awg_ex_I_ch]['O']\n",
    "    ex_Q[:l_ex] = np.real(pulse_shape['ex']*settings_ex[awg_ex_Q_ch]['A']*np.exp (1j*(2*np.pi*ex_if*points_ex/SampleRate_ex+settings_ex[awg_ex_Q_ch]['P'])))+settings_ex[awg_ex_Q_ch]['O']\n",
    "    ro_I[:l_ro] = np.real(pulse_shape['ro']*settings_ro[awg_ro_I_ch]['A']*np.exp (1j*(2*np.pi*ro_if*points_ro/SampleRate_ro+settings_ro[awg_ro_I_ch]['P'])))+settings_ro[awg_ro_I_ch]['O']\n",
    "    ro_Q[:l_ro] = np.real(pulse_shape['ro']*settings_ro[awg_ro_Q_ch]['A']*np.exp (1j*(2*np.pi*ro_if*points_ro/SampleRate_ro+settings_ro[awg_ro_Q_ch]['P'])))+settings_ro[awg_ro_Q_ch]['O']\n",
    "    ro_daq = np.roll(convolve(pulse_shape['ro']>0.5, np.ones(800)/800, mode='full'), -200)>0.25\n",
    "    \n",
    "    last_daq_point = np.max(np.where(ro_daq>0))\n",
    "    points_ro = np.linspace (0, last_daq_point-1, last_daq_point)\n",
    "    \n",
    "    ro_dm = np.exp (1j*(2*np.pi*ro_if*points_ro/SampleRate_ro))\n",
    "    \n",
    "    #plt.figure('ro I, Q, dm, daq')\n",
    "    #plt.plot(ex_I)\n",
    "    #plt.plot(ex_Q)\n",
    "    #plt.plot(ro_dm*8000)\n",
    "    #plt.plot(ro_daq*8000)\n",
    "    \n",
    "    return ex_I, ex_Q, ro_I, ro_Q, ro_daq, ro_dm\n"
   ]
  },
  {
   "cell_type": "code",
   "execution_count": 90,
   "metadata": {
    "collapsed": true
   },
   "outputs": [],
   "source": [
    "def sweep1D_mean_daq (daq, param1_vals, param1_setter, ro_dm, software_averages=1, plot=True):\n",
    "    samples = np.zeros((len(param1_vals), ro_dm.size), dtype=np.complex)\n",
    "    S21 = np.zeros(len(param1_vals), dtype=np.complex)\n",
    "    \n",
    "    #Графики\n",
    "    if plot:\n",
    "        plt.figure(\"I_sweep\")\n",
    "        I_plot = plt.plot(param1_vals, np.real(S21), marker='o')[0]\n",
    "        plt.figure(\"Q_sweep\")\n",
    "        Q_plot = plt.plot(param1_vals, np.imag(S21), marker='o')[0]\n",
    "    \n",
    "    for i, param1_val in enumerate(param1_vals):\n",
    "        param1_setter(param1_val)\n",
    "        for software_average_id in range(software_averages):\n",
    "        #Мерием по триггеру\n",
    "            daq.start_with_trigger_and_waitready()\n",
    "            #Усредняем результат\n",
    "            samples[i,:] +=    np.mean(daq.readout_doublechannel_multimode_bin()[0], axis=0)[:ro_dm.size]/software_averages\n",
    "            samples[i,:] += 1j*np.mean(daq.readout_doublechannel_multimode_bin()[1], axis=0)[:ro_dm.size]/software_averages \n",
    "            daq.stop()    \n",
    "        #Делаем преобразованеи до нулевой частоты \n",
    "        S21[i] = np.mean(samples[i,:] * ro_dm)\n",
    "      \n",
    "        #Рисуем графики\n",
    "        if plot:\n",
    "            plt.figure(\"I_sweep\")\n",
    "            I_plot.set_data(param1_vals[:i+1], np.real(S21)[:i+1])\n",
    "            plt.ylim((np.min(np.real(S21)[:i+1]), np.max(np.real(S21)[:i+1])))\n",
    "            plt.figure(\"Q_sweep\")\n",
    "            Q_plot.set_data(param1_vals[:i+1], np.imag(S21)[:i+1])\n",
    "            plt.ylim((np.min(np.imag(S21)[:i+1]), np.max(np.imag(S21)[:i+1])))\n",
    "            plt.pause(0.01)   \n",
    "\n",
    "    return S21, samples"
   ]
  },
  {
   "cell_type": "code",
   "execution_count": 91,
   "metadata": {
    "collapsed": true
   },
   "outputs": [],
   "source": [
    "def tomography_mean_daq (daq, nums, ro_dm, segsize, software_averages=1, plot_color='red', save_samples=True, classifier=None, plot=True, classifier_args=None):\n",
    "    if save_samples:\n",
    "        samples = np.zeros((nums*software_averages, ro_dm.size), dtype=np.complex)\n",
    "    else:\n",
    "        samples = np.zeros((nums, ro_dm.size), dtype=np.complex)\n",
    "        S21 = np.zeros(nums*software_averages, dtype=np.complex)\n",
    "    for software_average_id in range(software_averages):\n",
    "    #Мерием по триггеру\n",
    "        daq.start_with_trigger_and_waitready()\n",
    "        #Усредняем результат\n",
    "        if save_samples:\n",
    "            samples[software_average_id*nums:(software_average_id+1)*nums,:] += daq.readout_doublechannel_multimode_bin()[0][:,:ro_dm.size]\n",
    "            samples[software_average_id*nums:(software_average_id+1)*nums,:] += 1j*daq.readout_doublechannel_multimode_bin()[1][:,:ro_dm.size]\n",
    "        else:\n",
    "            samples[:,:] = daq.readout_doublechannel_multimode_bin()[0][:,:ro_dm.size]\n",
    "            samples[:,:] += 1j*daq.readout_doublechannel_multimode_bin()[1][:,:ro_dm.size]\n",
    "            if classifier:\n",
    "                S21[software_average_id*nums:(software_average_id+1)*nums] = classifier(samples, **classifier_args)\n",
    "            else:\n",
    "                S21[software_average_id*nums:(software_average_id+1)*nums] = np.mean(samples * ro_dm, axis=1)\n",
    "        daq.stop()    \n",
    "    #Делаем преобразованеи до нулевой частоты \n",
    "    if save_samples:\n",
    "        if classifier:\n",
    "            S21 = classifier(samples, **classifier_args)\n",
    "        else:\n",
    "            S21 = np.mean(samples * ro_dm, axis=1)\n",
    "\n",
    "    #Рисуем графики\n",
    "    if plot:\n",
    "        plt.scatter(np.real(S21),np.imag(S21),color=plot_color,s=1)\n",
    "        plt.scatter(np.real(np.mean(S21)),np.imag(np.mean(S21)),color=plot_color,s=50, marker='^')\n",
    "        plt.pause(0.01)   \n",
    "\n",
    "    return S21, samples"
   ]
  },
  {
   "cell_type": "code",
   "execution_count": 92,
   "metadata": {
    "collapsed": true
   },
   "outputs": [],
   "source": [
    "def tomography_pulse_seq (pulse_seq, pulse_x, pulse_y, pulse_x_rev, pulse_y_rev):\n",
    "#sigma_z\n",
    "    pulse_seq_z = [i for i in pulse_seq]\n",
    "    pulse_seq_z.append(pause(pulse_x['ro'].size))\n",
    "    pulse_seq_z.append(pause(pulse_x['ro'].size))\n",
    "    pulse_seq_z.append(pause(8))\n",
    "    pulse_seq_z.append(pause(250))\n",
    "    pulse_seq_z.append(ro)\n",
    "#sigma_x\n",
    "    pulse_seq_x = [i for i in pulse_seq]\n",
    "    pulse_seq_x.append(pause(pulse_x['ro'].size))\n",
    "    pulse_seq_x.extend ([pulse_y])\n",
    "    pulse_seq_x.append(pause(8))\n",
    "    pulse_seq_x.append(pause(250))\n",
    "    pulse_seq_x.append(ro)\n",
    "#sigma_y\n",
    "    pulse_seq_y = [i for i in pulse_seq]\n",
    "    pulse_seq_y.append(pause(pulse_x['ro'].size))\n",
    "    pulse_seq_y.extend ([pulse_x_rev])\n",
    "    pulse_seq_y.append(pause(8))\n",
    "    pulse_seq_y.append(pause(250))\n",
    "    pulse_seq_y.append(ro)\n",
    "#sigma_x_rev\n",
    "    pulse_seq_x_rev = [i for i in pulse_seq]\n",
    "    pulse_seq_x_rev.append(pause(pulse_x['ro'].size))\n",
    "    pulse_seq_x_rev.extend ([pulse_y_rev])\n",
    "    pulse_seq_x_rev.append(pause(8))\n",
    "    pulse_seq_x_rev.append(pause(250))\n",
    "    pulse_seq_x_rev.append(ro)\n",
    "#sigma_y_rev\n",
    "    pulse_seq_y_rev = [i for i in pulse_seq]\n",
    "    pulse_seq_y_rev.append(pause(pulse_x['ro'].size))\n",
    "    pulse_seq_y_rev.extend ([pulse_x])\n",
    "    pulse_seq_y_rev.append(pause(8))\n",
    "    pulse_seq_y_rev.append(pause(250))\n",
    "    pulse_seq_y_rev.append(ro)   \n",
    "    \n",
    "    return pulse_seq_z, pulse_seq_x, pulse_seq_y, pulse_seq_x_rev, pulse_seq_y_rev"
   ]
  },
  {
   "cell_type": "code",
   "execution_count": 93,
   "metadata": {
    "collapsed": true
   },
   "outputs": [],
   "source": [
    "def classifier(samples,clf_offset=None,clf_vector=None, ro_daq=None, ro_dm=None):\n",
    "    samples_noavg = (samples.T-np.mean(samples,axis=1)).T\n",
    "    samples_noavg = samples_noavg * ro_daq[:ro_dm.size]\n",
    "    return np.mean((samples_noavg - clf_offset)*clf_vector, axis=1)"
   ]
  },
  {
   "cell_type": "code",
   "execution_count": 94,
   "metadata": {
    "collapsed": true
   },
   "outputs": [],
   "source": [
    "#this cell calibrates |0> & |1> states in samples space\n",
    "def create_clf_samples (N,pulse_len):\n",
    "    nums=500\n",
    "    pulse_param = (0,1)\n",
    "    time = (N+4)*pulse_len\n",
    "    pulse_seq = [pause(time)]+[pause(8), pause(250), ro]\n",
    "    ex_I, ex_Q, ro_I, ro_Q, ro_daq, ro_dm = seq2points(pulse_seq, PulsePeriod*SampleRate_ex, PulsePeriod*SampleRate_ro)\n",
    "    awg_ex.set_repetition_period(PulsePeriod)\n",
    "    awg_ro.set_repetition_period(PulsePeriod)\n",
    "\n",
    "    #awg_ro.LoadRAM(awg_ro_I_ch, ro_I.astype(int).tolist())\n",
    "    awg_ro.LoadRAM(awg_ro_Q_ch, ro_Q.astype(int).tolist())\n",
    "\n",
    "    last_daq_point = np.max(np.where(ro_daq>0))\n",
    "    segsize = 2*int( 2**np.ceil(np.log2(last_daq_point*4/3)) )\n",
    "    posttrigger = segsize*3/4\n",
    "    pretrigger = segsize-posttrigger\n",
    "\n",
    "    ro_dm = np.hstack([np.zeros(pretrigger), ro_dm])\n",
    "    ro_daq = np.hstack([np.zeros(pretrigger), ro_daq])\n",
    "\n",
    "    amp = 50\n",
    "\n",
    "    daq0.stop()\n",
    "    daq0.set_spc_samplerate(SampleRate_ro)\n",
    "    daq0.init_channel01_multiple_recording(rate=SampleRate_ro, nums=nums, segsize=segsize, \n",
    "                                      posttrigger=posttrigger, amp0=amp, amp1=amp)\n",
    "    daq0.trigger_termination_50Ohm()\n",
    "    daq0.buffer_setup()\n",
    "\n",
    "    lo1.set_frequency(ex_lo_freq)\n",
    "    pna.set_cw_freq(ro_lo_freq)\n",
    "    lo1.set_status(1)\n",
    "    def set_pulse (param):\n",
    "        pulse_seq = [pause(N*pulse_len)]\n",
    "        if param == 1:\n",
    "            pulse_seq.extend([pulse_x]*2)\n",
    "        else :\n",
    "            pulse_seq.append (pause(pulse_len*2))\n",
    "        pulse_seq_z, pulse_seq_x, pulse_seq_y, pulse_seq_x_rev, pulse_seq_y_rev = tomography_pulse_seq (pulse_seq, pulse_x, pulse_y, pulse_x_rev, pulse_y_rev)\n",
    "        ex_I, ex_Q, ro_I, ro_Q, ne_nujno, toje_ne_nujno= seq2points(pulse_seq_z, PulsePeriod*SampleRate_ex, PulsePeriod*SampleRate_ro)\n",
    "        awg_ex.LoadRAM(awg_ex_I_ch, ex_I.astype(int).tolist())\n",
    "        awg_ex.LoadRAM(awg_ex_Q_ch, ex_Q.astype(int).tolist())\n",
    "        awg_ro.LoadRAM(awg_ro_I_ch, ro_I.astype(int).tolist())\n",
    "        awg_ro.LoadRAM(awg_ro_Q_ch, ro_Q.astype(int).tolist())\n",
    "        awg_ex.run()    \n",
    "\n",
    "    S21, samples = sweep1D_mean_daq (daq0,pulse_param, set_pulse, ro_dm, software_averages=100, plot=True)\n",
    "\n",
    "    samples_noavg = (samples.T-np.mean(samples,axis=1)).T\n",
    "    samples_noavg = samples_noavg * ro_daq[:ro_dm.size]\n",
    "    clf_offset = np.mean(samples_noavg, axis=0)\n",
    "    clf_vector = np.conj(np.diff(samples_noavg, axis=0))\n",
    "    clf_vector = clf_vector/np.mean(np.abs(clf_vector)**2)\n",
    "    proj = np.mean((samples_noavg - clf_offset)*clf_vector, axis=1)\n",
    "    return clf_offset, clf_vector, ro_daq, ro_dm"
   ]
  },
  {
   "cell_type": "code",
   "execution_count": 95,
   "metadata": {},
   "outputs": [
    {
     "name": "stderr",
     "output_type": "stream",
     "text": [
      "C:\\Python27\\Lib\\site-packages\\matplotlib\\axes\\_base.py:2809: UserWarning: Attempting to set identical bottom==top results\n",
      "in singular transformations; automatically expanding.\n",
      "bottom=0.376554934471, top=0.376554934471\n",
      "  'bottom=%s, top=%s') % (bottom, top))\n",
      "C:\\Python27\\Lib\\site-packages\\matplotlib\\axes\\_base.py:2809: UserWarning: Attempting to set identical bottom==top results\n",
      "in singular transformations; automatically expanding.\n",
      "bottom=-0.392346085524, top=-0.392346085524\n",
      "  'bottom=%s, top=%s') % (bottom, top))\n"
     ]
    },
    {
     "ename": "KeyboardInterrupt",
     "evalue": "",
     "output_type": "error",
     "traceback": [
      "\u001b[1;31m---------------------------------------------------------------------------\u001b[0m",
      "\u001b[1;31mKeyboardInterrupt\u001b[0m                         Traceback (most recent call last)",
      "\u001b[1;32m<ipython-input-95-ecd129f31d18>\u001b[0m in \u001b[0;36m<module>\u001b[1;34m()\u001b[0m\n\u001b[0;32m     44\u001b[0m     \u001b[0mawg_ex\u001b[0m\u001b[1;33m.\u001b[0m\u001b[0mrun\u001b[0m\u001b[1;33m(\u001b[0m\u001b[1;33m)\u001b[0m\u001b[1;33m\u001b[0m\u001b[0m\n\u001b[0;32m     45\u001b[0m \u001b[1;33m\u001b[0m\u001b[0m\n\u001b[1;32m---> 46\u001b[1;33m \u001b[0mS21\u001b[0m\u001b[1;33m,\u001b[0m \u001b[0msamples\u001b[0m \u001b[1;33m=\u001b[0m \u001b[0msweep1D_mean_daq\u001b[0m \u001b[1;33m(\u001b[0m\u001b[0mdaq0\u001b[0m\u001b[1;33m,\u001b[0m \u001b[0mnp\u001b[0m\u001b[1;33m.\u001b[0m\u001b[0marange\u001b[0m\u001b[1;33m(\u001b[0m\u001b[1;36m0\u001b[0m\u001b[1;33m,\u001b[0m \u001b[1;36m100\u001b[0m\u001b[1;33m)\u001b[0m\u001b[1;33m,\u001b[0m \u001b[0mset_pulse\u001b[0m\u001b[1;33m,\u001b[0m \u001b[0mro_dm\u001b[0m\u001b[1;33m,\u001b[0m \u001b[0msoftware_averages\u001b[0m\u001b[1;33m=\u001b[0m\u001b[1;36m4\u001b[0m\u001b[1;33m,\u001b[0m \u001b[0mplot\u001b[0m\u001b[1;33m=\u001b[0m\u001b[0mTrue\u001b[0m\u001b[1;33m)\u001b[0m\u001b[1;33m\u001b[0m\u001b[0m\n\u001b[0m",
      "\u001b[1;32m<ipython-input-90-4654c6150195>\u001b[0m in \u001b[0;36msweep1D_mean_daq\u001b[1;34m(daq, param1_vals, param1_setter, ro_dm, software_averages, plot)\u001b[0m\n\u001b[0;32m     14\u001b[0m         \u001b[1;32mfor\u001b[0m \u001b[0msoftware_average_id\u001b[0m \u001b[1;32min\u001b[0m \u001b[0mrange\u001b[0m\u001b[1;33m(\u001b[0m\u001b[0msoftware_averages\u001b[0m\u001b[1;33m)\u001b[0m\u001b[1;33m:\u001b[0m\u001b[1;33m\u001b[0m\u001b[0m\n\u001b[0;32m     15\u001b[0m         \u001b[1;31m#Мерием по триггеру\u001b[0m\u001b[1;33m\u001b[0m\u001b[1;33m\u001b[0m\u001b[0m\n\u001b[1;32m---> 16\u001b[1;33m             \u001b[0mdaq\u001b[0m\u001b[1;33m.\u001b[0m\u001b[0mstart_with_trigger_and_waitready\u001b[0m\u001b[1;33m(\u001b[0m\u001b[1;33m)\u001b[0m\u001b[1;33m\u001b[0m\u001b[0m\n\u001b[0m\u001b[0;32m     17\u001b[0m             \u001b[1;31m#Усредняем результат\u001b[0m\u001b[1;33m\u001b[0m\u001b[1;33m\u001b[0m\u001b[0m\n\u001b[0;32m     18\u001b[0m             \u001b[0msamples\u001b[0m\u001b[1;33m[\u001b[0m\u001b[0mi\u001b[0m\u001b[1;33m,\u001b[0m\u001b[1;33m:\u001b[0m\u001b[1;33m]\u001b[0m \u001b[1;33m+=\u001b[0m    \u001b[0mnp\u001b[0m\u001b[1;33m.\u001b[0m\u001b[0mmean\u001b[0m\u001b[1;33m(\u001b[0m\u001b[0mdaq\u001b[0m\u001b[1;33m.\u001b[0m\u001b[0mreadout_doublechannel_multimode_bin\u001b[0m\u001b[1;33m(\u001b[0m\u001b[1;33m)\u001b[0m\u001b[1;33m[\u001b[0m\u001b[1;36m0\u001b[0m\u001b[1;33m]\u001b[0m\u001b[1;33m,\u001b[0m \u001b[0maxis\u001b[0m\u001b[1;33m=\u001b[0m\u001b[1;36m0\u001b[0m\u001b[1;33m)\u001b[0m\u001b[1;33m[\u001b[0m\u001b[1;33m:\u001b[0m\u001b[0mro_dm\u001b[0m\u001b[1;33m.\u001b[0m\u001b[0msize\u001b[0m\u001b[1;33m]\u001b[0m\u001b[1;33m/\u001b[0m\u001b[0msoftware_averages\u001b[0m\u001b[1;33m\u001b[0m\u001b[0m\n",
      "\u001b[1;32mc:\\qtlab\\ReiData\\qtlab_addons\\user_instruments\\Spectrum_M3i2132.pyc\u001b[0m in \u001b[0;36mstart_with_trigger_and_waitready\u001b[1;34m(self)\u001b[0m\n\u001b[0;32m    649\u001b[0m         '''\n\u001b[0;32m    650\u001b[0m         \u001b[0mlogging\u001b[0m\u001b[1;33m.\u001b[0m\u001b[0mdebug\u001b[0m\u001b[1;33m(\u001b[0m\u001b[0m__name__\u001b[0m \u001b[1;33m+\u001b[0m \u001b[1;34m' : Card started with trigger and waitready'\u001b[0m\u001b[1;33m)\u001b[0m\u001b[1;33m\u001b[0m\u001b[0m\n\u001b[1;32m--> 651\u001b[1;33m         \u001b[0mself\u001b[0m\u001b[1;33m.\u001b[0m\u001b[0m_buffer_setup\u001b[0m\u001b[1;33m(\u001b[0m\u001b[1;33m)\u001b[0m\u001b[1;33m\u001b[0m\u001b[0m\n\u001b[0m\u001b[0;32m    652\u001b[0m         self._set_param(_spcm_regs.SPC_M2CMD,\n\u001b[0;32m    653\u001b[0m             _spcm_regs.M2CMD_CARD_START | _spcm_regs.M2CMD_CARD_ENABLETRIGGER | _spcm_regs.M2CMD_CARD_WAITREADY | _spcm_regs.M2CMD_DATA_WAITDMA)\n",
      "\u001b[1;32mc:\\qtlab\\ReiData\\qtlab_addons\\user_instruments\\Spectrum_M3i2132.pyc\u001b[0m in \u001b[0;36m_buffer_setup\u001b[1;34m(self)\u001b[0m\n\u001b[0;32m   1207\u001b[0m                 \u001b[1;31m# tell card to use buffer\u001b[0m\u001b[1;33m\u001b[0m\u001b[1;33m\u001b[0m\u001b[0m\n\u001b[0;32m   1208\u001b[0m         err = self._spcm_win32.DefTransfer64(self._spcm_win32.handel, _spcm_regs.SPCM_BUF_DATA, 1,\n\u001b[1;32m-> 1209\u001b[1;33m         \t0, p_data, c_int64(0), c_int64(lBufsize))\n\u001b[0m\u001b[0;32m   1210\u001b[0m         \u001b[1;32mif\u001b[0m \u001b[1;33m(\u001b[0m\u001b[0merr\u001b[0m\u001b[1;33m!=\u001b[0m\u001b[1;36m0\u001b[0m\u001b[1;33m)\u001b[0m\u001b[1;33m:\u001b[0m\u001b[1;33m\u001b[0m\u001b[0m\n\u001b[0;32m   1211\u001b[0m                 \u001b[0mlogging\u001b[0m\u001b[1;33m.\u001b[0m\u001b[0merror\u001b[0m\u001b[1;33m(\u001b[0m\u001b[0m__name__\u001b[0m \u001b[1;33m+\u001b[0m \u001b[1;34m' : Error setting up buffer'\u001b[0m\u001b[1;33m)\u001b[0m\u001b[1;33m\u001b[0m\u001b[0m\n",
      "\u001b[1;31mKeyboardInterrupt\u001b[0m: "
     ]
    }
   ],
   "source": [
    "#this cell for Rabi oscillations\n",
    "N_max = 100\n",
    "pulse=gauss_x\n",
    "pulse_len = 8\n",
    "\n",
    "pulse_seq = [pause(N_max*pulse_len)]+[pause(250), ro]\n",
    "ex_I, ex_Q, ro_I, ro_Q, ro_daq, ro_dm = seq2points(pulse_seq, PulsePeriod*SampleRate_ex, PulsePeriod*SampleRate_ro)\n",
    "awg_ro.LoadRAM(awg_ro_I_ch, ro_I.astype(int).tolist())\n",
    "awg_ro.LoadRAM(awg_ro_Q_ch, ro_Q.astype(int).tolist())\n",
    "\n",
    "awg_ex.set_repetition_period(PulsePeriod)\n",
    "awg_ro.set_repetition_period(PulsePeriod)\n",
    "\n",
    "# когда последняя точка которую надо записать?\n",
    "last_daq_point = np.max(np.where(ro_daq>0))\n",
    "segsize = 2*int( 2**np.ceil(np.log2(last_daq_point*4/3)) )\n",
    "posttrigger = segsize*3/4\n",
    "pretrigger = segsize-posttrigger\n",
    "\n",
    "ro_dm = np.hstack([np.zeros(pretrigger), ro_dm])\n",
    "ro_daq = np.hstack([np.zeros(pretrigger), ro_daq])\n",
    "\n",
    "#Инициализация DAQ\n",
    "amp = 50\n",
    "nums = 500\n",
    "\n",
    "daq0.stop()\n",
    "daq0.set_spc_samplerate(SampleRate_ro)\n",
    "daq0.init_channel01_multiple_recording(rate=SampleRate_ro, nums=nums, segsize=segsize, \n",
    "                                  posttrigger=posttrigger, amp0=amp, amp1=amp)\n",
    "daq0.trigger_termination_50Ohm()\n",
    "daq0.buffer_setup()\n",
    "\n",
    "lo1.set_frequency(ex_lo_freq)\n",
    "pna.set_cw_freq(ro_lo_freq)\n",
    "lo1.set_status(1)\n",
    "\n",
    "def set_pulse (N):\n",
    "    pulse_seq = [pause((N_max-N)*pulse_len)]+[pulse]*N+[pause(250), ro]\n",
    "    ex_I, ex_Q, ro_I, ro_Q, ro_daq, ro_dm = seq2points(pulse_seq, PulsePeriod*SampleRate_ex, PulsePeriod*SampleRate_ro)\n",
    "    awg_ex.set_trigger_mode('TRIG')\n",
    "    awg_ex.LoadRAM(awg_ex_I_ch, ex_I.astype(int).tolist())\n",
    "    awg_ex.LoadRAM(awg_ex_Q_ch, ex_Q.astype(int).tolist())\n",
    "    awg_ex.run()    \n",
    "\n",
    "S21, samples = sweep1D_mean_daq (daq0, np.arange(0, 100), set_pulse, ro_dm, software_averages=4, plot=True)"
   ]
  },
  {
   "cell_type": "code",
   "execution_count": 43,
   "metadata": {},
   "outputs": [
    {
     "name": "stderr",
     "output_type": "stream",
     "text": [
      "C:\\Python27\\Lib\\site-packages\\matplotlib\\axes\\_base.py:2809: UserWarning: Attempting to set identical bottom==top results\n",
      "in singular transformations; automatically expanding.\n",
      "bottom=0.16738816253, top=0.16738816253\n",
      "  'bottom=%s, top=%s') % (bottom, top))\n",
      "C:\\Python27\\Lib\\site-packages\\matplotlib\\axes\\_base.py:2809: UserWarning: Attempting to set identical bottom==top results\n",
      "in singular transformations; automatically expanding.\n",
      "bottom=-0.221620553235, top=-0.221620553235\n",
      "  'bottom=%s, top=%s') % (bottom, top))\n"
     ]
    }
   ],
   "source": [
    "#this cell for Rabi oscillations\n",
    "N_max = 100\n",
    "pulse=gauss_x_24\n",
    "pulse_len = 12\n",
    "\n",
    "pulse_seq = [pause(N_max*pulse_len*2)]+[pause(250), ro]\n",
    "ex_I, ex_Q, ro_I, ro_Q, ro_daq, ro_dm = seq2points(pulse_seq, PulsePeriod*SampleRate_ex, PulsePeriod*SampleRate_ro)\n",
    "awg_ro.LoadRAM(awg_ro_I_ch, ro_I.astype(int).tolist())\n",
    "awg_ro.LoadRAM(awg_ro_Q_ch, ro_Q.astype(int).tolist())\n",
    "\n",
    "awg_ex.set_repetition_period(PulsePeriod)\n",
    "awg_ro.set_repetition_period(PulsePeriod)\n",
    "\n",
    "# когда последняя точка которую надо записать?\n",
    "last_daq_point = np.max(np.where(ro_daq>0))\n",
    "segsize = 2*int( 2**np.ceil(np.log2(last_daq_point*4/3)) )\n",
    "posttrigger = segsize*3/4\n",
    "pretrigger = segsize-posttrigger\n",
    "\n",
    "ro_dm = np.hstack([np.zeros(pretrigger), ro_dm])\n",
    "ro_daq = np.hstack([np.zeros(pretrigger), ro_daq])\n",
    "\n",
    "#Инициализация DAQ\n",
    "amp = 50\n",
    "nums = 500\n",
    "\n",
    "daq0.stop()\n",
    "daq0.set_spc_samplerate(SampleRate_ro)\n",
    "daq0.init_channel01_multiple_recording(rate=SampleRate_ro, nums=nums, segsize=segsize, \n",
    "                                  posttrigger=posttrigger, amp0=amp, amp1=amp)\n",
    "daq0.trigger_termination_50Ohm()\n",
    "daq0.buffer_setup()\n",
    "\n",
    "lo1.set_frequency(ex_lo_freq)\n",
    "pna.set_cw_freq(ro_lo_freq)\n",
    "lo1.set_status(1)\n",
    "\n",
    "def set_pulse (N):\n",
    "    pulse_seq = [pause((N_max-N)*pulse_len*2)]+[gauss_x, pause(pulse_len)]*N+[pause(250), ro]\n",
    "    ex_I, ex_Q, ro_I, ro_Q, ro_daq, ro_dm = seq2points(pulse_seq, PulsePeriod*SampleRate_ex, PulsePeriod*SampleRate_ro)\n",
    "    awg_ex.set_trigger_mode('TRIG')\n",
    "    awg_ex.LoadRAM(awg_ex_I_ch, ex_I.astype(int).tolist())\n",
    "    awg_ex.LoadRAM(awg_ex_Q_ch, ex_Q.astype(int).tolist())\n",
    "    awg_ex.run()    \n",
    "\n",
    "S21, samples = sweep1D_mean_daq (daq0, np.arange(0, 100), set_pulse, ro_dm, software_averages=4, plot=True)"
   ]
  },
  {
   "cell_type": "code",
   "execution_count": 108,
   "metadata": {},
   "outputs": [
    {
     "name": "stdout",
     "output_type": "stream",
     "text": [
      "black\n"
     ]
    },
    {
     "ename": "KeyboardInterrupt",
     "evalue": "",
     "output_type": "error",
     "traceback": [
      "\u001b[1;31m---------------------------------------------------------------------------\u001b[0m",
      "\u001b[1;31mKeyboardInterrupt\u001b[0m                         Traceback (most recent call last)",
      "\u001b[1;32m<ipython-input-108-848a7900744f>\u001b[0m in \u001b[0;36m<module>\u001b[1;34m()\u001b[0m\n\u001b[0;32m     60\u001b[0m     \u001b[0mawg_ro\u001b[0m\u001b[1;33m.\u001b[0m\u001b[0mLoadRAM\u001b[0m\u001b[1;33m(\u001b[0m\u001b[0mawg_ro_Q_ch\u001b[0m\u001b[1;33m,\u001b[0m \u001b[0mro_Q\u001b[0m\u001b[1;33m.\u001b[0m\u001b[0mastype\u001b[0m\u001b[1;33m(\u001b[0m\u001b[0mint\u001b[0m\u001b[1;33m)\u001b[0m\u001b[1;33m.\u001b[0m\u001b[0mtolist\u001b[0m\u001b[1;33m(\u001b[0m\u001b[1;33m)\u001b[0m\u001b[1;33m)\u001b[0m\u001b[1;33m\u001b[0m\u001b[0m\n\u001b[0;32m     61\u001b[0m     \u001b[0mawg_ex\u001b[0m\u001b[1;33m.\u001b[0m\u001b[0mrun\u001b[0m\u001b[1;33m(\u001b[0m\u001b[1;33m)\u001b[0m\u001b[1;33m\u001b[0m\u001b[0m\n\u001b[1;32m---> 62\u001b[1;33m     \u001b[0mS21\u001b[0m\u001b[1;33m,\u001b[0m \u001b[0msamples\u001b[0m \u001b[1;33m=\u001b[0m \u001b[0mtomography_mean_daq\u001b[0m \u001b[1;33m(\u001b[0m\u001b[0mdaq0\u001b[0m\u001b[1;33m,\u001b[0m \u001b[0mnums\u001b[0m\u001b[1;33m,\u001b[0m \u001b[0mro_dm\u001b[0m\u001b[1;33m,\u001b[0m \u001b[0msegsize\u001b[0m\u001b[1;33m,\u001b[0m \u001b[0msoftware_averages\u001b[0m\u001b[1;33m=\u001b[0m\u001b[1;36m200\u001b[0m\u001b[1;33m,\u001b[0m\u001b[0mplot_color\u001b[0m\u001b[1;33m=\u001b[0m\u001b[0mplot_color\u001b[0m\u001b[1;33m,\u001b[0m\u001b[0msave_samples\u001b[0m\u001b[1;33m=\u001b[0m\u001b[0mFalse\u001b[0m\u001b[1;33m)\u001b[0m\u001b[1;33m\u001b[0m\u001b[0m\n\u001b[0m\u001b[0;32m     63\u001b[0m     \u001b[0mtomo_proj\u001b[0m\u001b[1;33m.\u001b[0m\u001b[0mappend\u001b[0m\u001b[1;33m(\u001b[0m\u001b[0mclassifier\u001b[0m\u001b[1;33m(\u001b[0m\u001b[0msamples\u001b[0m\u001b[1;33m,\u001b[0m\u001b[0mclf_offset\u001b[0m\u001b[1;33m,\u001b[0m\u001b[0mclf_vector\u001b[0m\u001b[1;33m,\u001b[0m \u001b[0mro_daq\u001b[0m\u001b[1;33m,\u001b[0m \u001b[0mro_dm\u001b[0m\u001b[1;33m)\u001b[0m\u001b[1;33m)\u001b[0m\u001b[1;33m\u001b[0m\u001b[0m\n\u001b[0;32m     64\u001b[0m \u001b[1;33m\u001b[0m\u001b[0m\n",
      "\u001b[1;32m<ipython-input-94-85479ab461f8>\u001b[0m in \u001b[0;36mtomography_mean_daq\u001b[1;34m(daq, nums, ro_dm, segsize, software_averages, plot_color, save_samples, classifier)\u001b[0m\n\u001b[0;32m      7\u001b[0m     \u001b[1;32mfor\u001b[0m \u001b[0msoftware_average_id\u001b[0m \u001b[1;32min\u001b[0m \u001b[0mrange\u001b[0m\u001b[1;33m(\u001b[0m\u001b[0msoftware_averages\u001b[0m\u001b[1;33m)\u001b[0m\u001b[1;33m:\u001b[0m\u001b[1;33m\u001b[0m\u001b[0m\n\u001b[0;32m      8\u001b[0m     \u001b[1;31m#Мерием по триггеру\u001b[0m\u001b[1;33m\u001b[0m\u001b[1;33m\u001b[0m\u001b[0m\n\u001b[1;32m----> 9\u001b[1;33m         \u001b[0mdaq\u001b[0m\u001b[1;33m.\u001b[0m\u001b[0mstart_with_trigger_and_waitready\u001b[0m\u001b[1;33m(\u001b[0m\u001b[1;33m)\u001b[0m\u001b[1;33m\u001b[0m\u001b[0m\n\u001b[0m\u001b[0;32m     10\u001b[0m         \u001b[1;31m#Усредняем результат\u001b[0m\u001b[1;33m\u001b[0m\u001b[1;33m\u001b[0m\u001b[0m\n\u001b[0;32m     11\u001b[0m         \u001b[1;32mif\u001b[0m \u001b[0msave_samples\u001b[0m\u001b[1;33m:\u001b[0m\u001b[1;33m\u001b[0m\u001b[0m\n",
      "\u001b[1;32mc:\\qtlab\\ReiData\\qtlab_addons\\user_instruments\\Spectrum_M3i2132.pyc\u001b[0m in \u001b[0;36mstart_with_trigger_and_waitready\u001b[1;34m(self)\u001b[0m\n\u001b[0;32m    651\u001b[0m         \u001b[0mself\u001b[0m\u001b[1;33m.\u001b[0m\u001b[0m_buffer_setup\u001b[0m\u001b[1;33m(\u001b[0m\u001b[1;33m)\u001b[0m\u001b[1;33m\u001b[0m\u001b[0m\n\u001b[0;32m    652\u001b[0m         self._set_param(_spcm_regs.SPC_M2CMD,\n\u001b[1;32m--> 653\u001b[1;33m             _spcm_regs.M2CMD_CARD_START | _spcm_regs.M2CMD_CARD_ENABLETRIGGER | _spcm_regs.M2CMD_CARD_WAITREADY | _spcm_regs.M2CMD_DATA_WAITDMA)\n\u001b[0m\u001b[0;32m    654\u001b[0m \u001b[1;33m\u001b[0m\u001b[0m\n\u001b[0;32m    655\u001b[0m     \u001b[1;32mdef\u001b[0m \u001b[0mforce_trigger\u001b[0m\u001b[1;33m(\u001b[0m\u001b[0mself\u001b[0m\u001b[1;33m)\u001b[0m\u001b[1;33m:\u001b[0m\u001b[1;33m\u001b[0m\u001b[0m\n",
      "\u001b[1;32mc:\\qtlab\\ReiData\\qtlab_addons\\user_instruments\\Spectrum_M3i2132.pyc\u001b[0m in \u001b[0;36m_set_param\u001b[1;34m(self, regnum, regval)\u001b[0m\n\u001b[0;32m    228\u001b[0m         '''\n\u001b[0;32m    229\u001b[0m         \u001b[0mlogging\u001b[0m\u001b[1;33m.\u001b[0m\u001b[0mdebug\u001b[0m\u001b[1;33m(\u001b[0m\u001b[0m__name__\u001b[0m \u001b[1;33m+\u001b[0m \u001b[1;34m' : Set reg %s to %s'\u001b[0m \u001b[1;33m%\u001b[0m\u001b[1;33m(\u001b[0m\u001b[0mregnum\u001b[0m\u001b[1;33m,\u001b[0m \u001b[0mregval\u001b[0m\u001b[1;33m)\u001b[0m\u001b[1;33m)\u001b[0m\u001b[1;33m\u001b[0m\u001b[0m\n\u001b[1;32m--> 230\u001b[1;33m         \u001b[0merr\u001b[0m \u001b[1;33m=\u001b[0m \u001b[0mself\u001b[0m\u001b[1;33m.\u001b[0m\u001b[0m_spcm_win32\u001b[0m\u001b[1;33m.\u001b[0m\u001b[0mSetParam32\u001b[0m\u001b[1;33m(\u001b[0m\u001b[0mself\u001b[0m\u001b[1;33m.\u001b[0m\u001b[0m_spcm_win32\u001b[0m\u001b[1;33m.\u001b[0m\u001b[0mhandel\u001b[0m\u001b[1;33m,\u001b[0m \u001b[0mregnum\u001b[0m\u001b[1;33m,\u001b[0m \u001b[0mregval\u001b[0m\u001b[1;33m)\u001b[0m\u001b[1;33m\u001b[0m\u001b[0m\n\u001b[0m\u001b[0;32m    231\u001b[0m         \u001b[1;32mif\u001b[0m \u001b[1;33m(\u001b[0m\u001b[0merr\u001b[0m\u001b[1;33m==\u001b[0m\u001b[1;36m0\u001b[0m\u001b[1;33m)\u001b[0m\u001b[1;33m:\u001b[0m\u001b[1;33m\u001b[0m\u001b[0m\n\u001b[0;32m    232\u001b[0m             \u001b[1;32mreturn\u001b[0m \u001b[1;36m0\u001b[0m\u001b[1;33m\u001b[0m\u001b[0m\n",
      "\u001b[1;31mKeyboardInterrupt\u001b[0m: "
     ]
    }
   ],
   "source": [
    "#this cell for tomography\n",
    "pulse_len = 12\n",
    "N = 2\n",
    "time = (N+2)*pulse_len\n",
    "pulse_seq = [pause(time)]+[pause(8), pause(250), ro]\n",
    "ex_I, ex_Q, ro_I, ro_Q, ro_daq, ro_dm = seq2points(pulse_seq, PulsePeriod*SampleRate_ex, PulsePeriod*SampleRate_ro)\n",
    "awg_ex.set_repetition_period(PulsePeriod)\n",
    "awg_ro.set_repetition_period(PulsePeriod)\n",
    "\n",
    "# когда последняя точка которую надо записать?\n",
    "last_daq_point = np.max(np.where(ro_daq>0))\n",
    "segsize = 2*int( 2**np.ceil(np.log2(last_daq_point*4/3)) )\n",
    "posttrigger = segsize*3/4\n",
    "pretrigger = segsize-posttrigger\n",
    "\n",
    "ro_dm = np.hstack([np.zeros(pretrigger), ro_dm])\n",
    "ro_daq = np.hstack([np.zeros(pretrigger), ro_daq])\n",
    "\n",
    "\n",
    "#Инициализация DAQ\n",
    "\n",
    "amp = 50\n",
    "nums = 500\n",
    "    \n",
    "daq0.stop()\n",
    "daq0.set_spc_samplerate(SampleRate_ro)\n",
    "daq0.init_channel01_multiple_recording(rate=SampleRate_ro, nums=nums, segsize=segsize, \n",
    "                                  posttrigger=posttrigger, amp0=amp, amp1=amp)\n",
    "daq0.trigger_termination_50Ohm()\n",
    "daq0.buffer_setup()\n",
    "\n",
    "lo1.set_frequency(ex_lo_freq)\n",
    "pna.set_cw_freq(ro_lo_freq)\n",
    "lo1.set_status(1)\n",
    "\n",
    "pulse_seq = []\n",
    "\n",
    "pulse_seq.extend([pulse_x]*2)\n",
    "#pulse_seq.extend([pulse_x, pause(12)])\n",
    "#pulse_seq.append(pause(48))\n",
    "pulse_seq_z, pulse_seq_x, pulse_seq_y, pulse_seq_x_rev, pulse_seq_y_rev = tomography_pulse_seq (pulse_seq, pulse_x, pulse_y, pulse_x_rev, pulse_y_rev)\n",
    "pulse_SEQ = []\n",
    "pulse_SEQ.append (pulse_seq_z)\n",
    "pulse_SEQ.append (pulse_seq_x)\n",
    "pulse_SEQ.append (pulse_seq_y)\n",
    "pulse_SEQ.append (pulse_seq_x_rev)\n",
    "pulse_SEQ.append (pulse_seq_y_rev)\n",
    "\n",
    "plot_colors = ['black', 'green', 'blue', 'red', 'purple']\n",
    "tomo_proj = []\n",
    "clf_offset,clf_vector, ro_daq, ro_dm = create_clf_samples (N,pulse_len)\n",
    "\n",
    "plt.figure('IQ')\n",
    "for meas_pulse_seq, plot_color in zip(pulse_SEQ, plot_colors):\n",
    "    print (plot_color)\n",
    "    ex_I, ex_Q, ro_I, ro_Q, ne_nujno, toje_ne_nujno= seq2points(meas_pulse_seq, PulsePeriod*SampleRate_ex, PulsePeriod*SampleRate_ro)\n",
    "    awg_ex.LoadRAM(awg_ex_I_ch, ex_I.astype(int).tolist())\n",
    "    awg_ex.LoadRAM(awg_ex_Q_ch, ex_Q.astype(int).tolist())\n",
    "    awg_ro.LoadRAM(awg_ro_I_ch, ro_I.astype(int).tolist())\n",
    "    awg_ro.LoadRAM(awg_ro_Q_ch, ro_Q.astype(int).tolist())\n",
    "    awg_ex.set_trigger_mode('TRIG')\n",
    "    awg_ex.run()    \n",
    "    S21, samples = tomography_mean_daq (daq0, nums, ro_dm, segsize, software_averages=200,plot_color=plot_color,save_samples=False)\n",
    "    tomo_proj.append(classifier(samples,clf_offset,clf_vector, ro_daq, ro_dm))\n",
    "    \n",
    "plt.figure()\n",
    "plt.hist(tomo_proj, color=plot_colors)\n"
   ]
  },
  {
   "cell_type": "code",
   "execution_count": 124,
   "metadata": {},
   "outputs": [
    {
     "data": {
      "text/plain": [
       "[<matplotlib.lines.Line2D at 0x25fb1d50>]"
      ]
     },
     "execution_count": 124,
     "metadata": {},
     "output_type": "execute_result"
    }
   ],
   "source": [
    "plt.plot(ro_daq[:ro_dm.size]*ro_dm)\n",
    "plt.plot(np.mean(samples, axis=0))"
   ]
  },
  {
   "cell_type": "code",
   "execution_count": 289,
   "metadata": {
    "scrolled": true
   },
   "outputs": [
    {
     "name": "stdout",
     "output_type": "stream",
     "text": [
      "black\n",
      "green\n",
      "blue\n",
      "red\n",
      "purple\n",
      "[-0.45930178  0.06071166  0.03250563  0.00557995  0.09101557]"
     ]
    },
    {
     "name": "stderr",
     "output_type": "stream",
     "text": [
      "C:\\Python27\\Lib\\site-packages\\matplotlib\\axes\\_base.py:2809: UserWarning: Attempting to set identical bottom==top results\n",
      "in singular transformations; automatically expanding.\n",
      "bottom=0.381124317352, top=0.381124317352\n",
      "  'bottom=%s, top=%s') % (bottom, top))\n",
      "C:\\Python27\\Lib\\site-packages\\matplotlib\\axes\\_base.py:2809: UserWarning: Attempting to set identical bottom==top results\n",
      "in singular transformations; automatically expanding.\n",
      "bottom=-0.478385688173, top=-0.478385688173\n",
      "  'bottom=%s, top=%s') % (bottom, top))\n",
      "C:\\Python27\\Lib\\site-packages\\matplotlib\\axes\\_base.py:2809: UserWarning: Attempting to set identical bottom==top results\n",
      "in singular transformations; automatically expanding.\n",
      "bottom=0.340548000326, top=0.340548000326\n",
      "  'bottom=%s, top=%s') % (bottom, top))\n"
     ]
    },
    {
     "name": "stdout",
     "output_type": "stream",
     "text": [
      "\n",
      "black\n",
      "green\n",
      "blue\n",
      "red\n",
      "purple\n",
      "[ 0.00995525  0.57080439  0.12386409 -0.46691015  0.03646404]"
     ]
    },
    {
     "name": "stderr",
     "output_type": "stream",
     "text": [
      "C:\\Python27\\Lib\\site-packages\\matplotlib\\axes\\_base.py:2809: UserWarning: Attempting to set identical bottom==top results\n",
      "in singular transformations; automatically expanding.\n",
      "bottom=-0.48197985618, top=-0.48197985618\n",
      "  'bottom=%s, top=%s') % (bottom, top))\n",
      "C:\\Python27\\Lib\\site-packages\\matplotlib\\axes\\_base.py:2809: UserWarning: Attempting to set identical bottom==top results\n",
      "in singular transformations; automatically expanding.\n",
      "bottom=0.379789575452, top=0.379789575452\n",
      "  'bottom=%s, top=%s') % (bottom, top))\n"
     ]
    },
    {
     "name": "stdout",
     "output_type": "stream",
     "text": [
      "\n",
      "black\n",
      "green\n",
      "blue\n",
      "red\n",
      "purple\n",
      "[ 0.20065102  0.09959081  0.47846442  0.03679767 -0.38747811]"
     ]
    },
    {
     "name": "stderr",
     "output_type": "stream",
     "text": [
      "C:\\Python27\\Lib\\site-packages\\matplotlib\\axes\\_base.py:2809: UserWarning: Attempting to set identical bottom==top results\n",
      "in singular transformations; automatically expanding.\n",
      "bottom=-0.477656070171, top=-0.477656070171\n",
      "  'bottom=%s, top=%s') % (bottom, top))\n",
      "C:\\Python27\\Lib\\site-packages\\matplotlib\\axes\\_base.py:2809: UserWarning: Attempting to set identical bottom==top results\n",
      "in singular transformations; automatically expanding.\n",
      "bottom=0.299193055324, top=0.299193055324\n",
      "  'bottom=%s, top=%s') % (bottom, top))\n"
     ]
    },
    {
     "name": "stdout",
     "output_type": "stream",
     "text": [
      "\n",
      "black\n",
      "green\n",
      "blue\n",
      "red\n",
      "purple\n",
      "[-0.25740029 -0.22999975  0.29121388  0.30089902 -0.09882141]"
     ]
    },
    {
     "name": "stderr",
     "output_type": "stream",
     "text": [
      "C:\\Python27\\Lib\\site-packages\\matplotlib\\axes\\_base.py:2809: UserWarning: Attempting to set identical bottom==top results\n",
      "in singular transformations; automatically expanding.\n",
      "bottom=-0.490809038413, top=-0.490809038413\n",
      "  'bottom=%s, top=%s') % (bottom, top))\n",
      "C:\\Python27\\Lib\\site-packages\\matplotlib\\axes\\_base.py:2809: UserWarning: Attempting to set identical bottom==top results\n",
      "in singular transformations; automatically expanding.\n",
      "bottom=0.221656656777, top=0.221656656777\n",
      "  'bottom=%s, top=%s') % (bottom, top))\n"
     ]
    },
    {
     "name": "stdout",
     "output_type": "stream",
     "text": [
      "\n",
      "black\n",
      "green\n",
      "blue\n",
      "red\n",
      "purple\n",
      "[-0.43713806  0.28768317 -0.12009109 -0.41017023  0.01207145]"
     ]
    },
    {
     "name": "stderr",
     "output_type": "stream",
     "text": [
      "C:\\Python27\\Lib\\site-packages\\matplotlib\\axes\\_base.py:2809: UserWarning: Attempting to set identical bottom==top results\n",
      "in singular transformations; automatically expanding.\n",
      "bottom=-0.498350868591, top=-0.498350868591\n",
      "  'bottom=%s, top=%s') % (bottom, top))\n",
      "C:\\Python27\\Lib\\site-packages\\matplotlib\\axes\\_base.py:2809: UserWarning: Attempting to set identical bottom==top results\n",
      "in singular transformations; automatically expanding.\n",
      "bottom=0.27007433647, top=0.27007433647\n",
      "  'bottom=%s, top=%s') % (bottom, top))\n"
     ]
    },
    {
     "name": "stdout",
     "output_type": "stream",
     "text": [
      "\n",
      "black\n",
      "green\n",
      "blue\n",
      "red\n",
      "purple\n",
      "[ 0.18806514  0.35388691  0.20318314 -0.4139233  -0.18093404]"
     ]
    },
    {
     "name": "stderr",
     "output_type": "stream",
     "text": [
      "C:\\Python27\\Lib\\site-packages\\matplotlib\\axes\\_base.py:2809: UserWarning: Attempting to set identical bottom==top results\n",
      "in singular transformations; automatically expanding.\n",
      "bottom=-0.493817135916, top=-0.493817135916\n",
      "  'bottom=%s, top=%s') % (bottom, top))\n",
      "C:\\Python27\\Lib\\site-packages\\matplotlib\\axes\\_base.py:2809: UserWarning: Attempting to set identical bottom==top results\n",
      "in singular transformations; automatically expanding.\n",
      "bottom=0.278732497471, top=0.278732497471\n",
      "  'bottom=%s, top=%s') % (bottom, top))\n"
     ]
    },
    {
     "name": "stdout",
     "output_type": "stream",
     "text": [
      "\n",
      "black\n",
      "green\n",
      "blue\n",
      "red\n",
      "purple\n",
      "[-0.18627439 -0.29904287  0.33976884  0.17330764 -0.46562133]"
     ]
    },
    {
     "name": "stderr",
     "output_type": "stream",
     "text": [
      "C:\\Python27\\Lib\\site-packages\\matplotlib\\axes\\_base.py:2809: UserWarning: Attempting to set identical bottom==top results\n",
      "in singular transformations; automatically expanding.\n",
      "bottom=-0.487156545362, top=-0.487156545362\n",
      "  'bottom=%s, top=%s') % (bottom, top))\n",
      "C:\\Python27\\Lib\\site-packages\\matplotlib\\axes\\_base.py:2809: UserWarning: Attempting to set identical bottom==top results\n",
      "in singular transformations; automatically expanding.\n",
      "bottom=0.30651368597, top=0.30651368597\n",
      "  'bottom=%s, top=%s') % (bottom, top))\n"
     ]
    },
    {
     "name": "stdout",
     "output_type": "stream",
     "text": [
      "\n",
      "black\n",
      "green\n",
      "blue\n",
      "red\n",
      "purple\n",
      "[-0.44817959 -0.04750015 -0.02471697 -0.00845929 -0.15601102]\n"
     ]
    },
    {
     "name": "stderr",
     "output_type": "stream",
     "text": [
      "C:\\Python27\\Lib\\site-packages\\matplotlib\\axes\\_base.py:2809: UserWarning: Attempting to set identical bottom==top results\n",
      "in singular transformations; automatically expanding.\n",
      "bottom=-0.482908108573, top=-0.482908108573\n",
      "  'bottom=%s, top=%s') % (bottom, top))\n"
     ]
    }
   ],
   "source": [
    "#this cell for Rabi oscillations with tomography\n",
    "N_max = 8\n",
    "mean_tomo_proj = np.zeros((5,N_max))\n",
    "\n",
    "pulse_x = gauss_x\n",
    "pulse_y = gauss_y\n",
    "pulse_x_rev = gauss_x_rev\n",
    "pulse_y_rev = gauss_y_rev\n",
    "\n",
    "for N in range (0,N_max):\n",
    "    pulse_len = 8\n",
    "    time = (N*2+4)*pulse_len\n",
    "    pulse_seq = [pause(time)]+[pause(8), pause(250), ro]\n",
    "    ex_I, ex_Q, ro_I, ro_Q, ro_daq, ro_dm = seq2points(pulse_seq, PulsePeriod*SampleRate_ex, PulsePeriod*SampleRate_ro)\n",
    "    awg_ex.set_repetition_period(PulsePeriod)\n",
    "    awg_ro.set_repetition_period(PulsePeriod)\n",
    "\n",
    "    # когда последняя точка которую надо записать?\n",
    "    last_daq_point = np.max(np.where(ro_daq>0))\n",
    "    segsize = 2*int( 2**np.ceil(np.log2(last_daq_point*4/3)) )\n",
    "    posttrigger = segsize*3/4\n",
    "    pretrigger = segsize-posttrigger\n",
    "\n",
    "    ro_dm = np.hstack([np.zeros(pretrigger), ro_dm])\n",
    "    ro_daq = np.hstack([np.zeros(pretrigger), ro_daq])\n",
    "\n",
    "\n",
    "    #Инициализация DAQ\n",
    "\n",
    "    amp = 50\n",
    "    nums = 500\n",
    "\n",
    "    daq0.stop()\n",
    "    daq0.set_spc_samplerate(SampleRate_ro)\n",
    "    daq0.init_channel01_multiple_recording(rate=SampleRate_ro, nums=nums, segsize=segsize, \n",
    "                                      posttrigger=posttrigger, amp0=amp, amp1=amp)\n",
    "    daq0.trigger_termination_50Ohm()\n",
    "    daq0.buffer_setup()\n",
    "\n",
    "    lo1.set_frequency(ex_lo_freq)\n",
    "    pna.set_cw_freq(ro_lo_freq)\n",
    "    lo1.set_status(1)\n",
    "\n",
    "    pulse_seq = [pause(pulse_len*2)]\n",
    "\n",
    "    pulse_seq.extend([pulse_x, pause(pulse_len)]*N)\n",
    "    #pulse_seq.extend([pulse_x, pause(12)])\n",
    "    #pulse_seq.append(pause(48))\n",
    "    pulse_seq_z, pulse_seq_x, pulse_seq_y, pulse_seq_x_rev, pulse_seq_y_rev = tomography_pulse_seq (pulse_seq, pulse_x, pulse_y, pulse_x_rev, pulse_y_rev)\n",
    "    pulse_SEQ = []\n",
    "    pulse_SEQ.append (pulse_seq_z)\n",
    "    pulse_SEQ.append (pulse_seq_x)\n",
    "    pulse_SEQ.append (pulse_seq_y)\n",
    "    pulse_SEQ.append (pulse_seq_x_rev)\n",
    "    pulse_SEQ.append (pulse_seq_y_rev)\n",
    "\n",
    "    plot_colors = ['black', 'green', 'blue', 'red', 'purple']\n",
    "    tomo_proj = []\n",
    "    clf_offset,clf_vector, ro_daq, ro_dm = create_clf_samples (N,pulse_len)\n",
    "    #plt.figure('samples')\n",
    "    #plt.plot(clf_offset, marker='o')\n",
    "    #plt.figure('empty')\n",
    "\n",
    "    #plt.figure('IQ')\n",
    "    for meas_pulse_seq, plot_color in zip(pulse_SEQ, plot_colors):\n",
    "        print (plot_color)\n",
    "        ex_I, ex_Q, ro_I, ro_Q, ne_nujno, toje_ne_nujno= seq2points(meas_pulse_seq, PulsePeriod*SampleRate_ex, PulsePeriod*SampleRate_ro)\n",
    "        awg_ex.LoadRAM(awg_ex_I_ch, ex_I.astype(int).tolist())\n",
    "        awg_ex.LoadRAM(awg_ex_Q_ch, ex_Q.astype(int).tolist())\n",
    "        awg_ro.LoadRAM(awg_ro_I_ch, ro_I.astype(int).tolist())\n",
    "        awg_ro.LoadRAM(awg_ro_Q_ch, ro_Q.astype(int).tolist())\n",
    "        plt.clf()\n",
    "        awg_ex.set_trigger_mode('TRIG')\n",
    "        awg_ex.run()    \n",
    "        S21, samples = tomography_mean_daq (daq0, nums, ro_dm, segsize, software_averages=10,plot_color=plot_color,save_samples=False)\n",
    "        tomo_proj.append(classifier(samples,clf_offset,clf_vector, ro_daq, ro_dm))\n",
    "        #plt.figure('samples')\n",
    "        #plt.plot(np.mean(samples,axis=0))\n",
    "        #plt.figure('empty')\n",
    "   \n",
    "    mean_tomo_proj[:,N] = np.real(np.mean(tomo_proj, axis=1))\n",
    "    print (mean_tomo_proj[:,N])\n"
   ]
  },
  {
   "cell_type": "code",
   "execution_count": 2,
   "metadata": {},
   "outputs": [
    {
     "ename": "NameError",
     "evalue": "name 'mean_tomo_proj' is not defined",
     "output_type": "error",
     "traceback": [
      "\u001b[1;31m---------------------------------------------------------------------------\u001b[0m",
      "\u001b[1;31mNameError\u001b[0m                                 Traceback (most recent call last)",
      "\u001b[1;32m<ipython-input-2-606ff902f1ac>\u001b[0m in \u001b[0;36m<module>\u001b[1;34m()\u001b[0m\n\u001b[0;32m      3\u001b[0m \u001b[0mfig\u001b[0m \u001b[1;33m=\u001b[0m \u001b[0mplt\u001b[0m\u001b[1;33m.\u001b[0m\u001b[0mfigure\u001b[0m\u001b[1;33m(\u001b[0m\u001b[1;33m)\u001b[0m\u001b[1;33m\u001b[0m\u001b[0m\n\u001b[0;32m      4\u001b[0m \u001b[0max\u001b[0m \u001b[1;33m=\u001b[0m \u001b[0mfig\u001b[0m\u001b[1;33m.\u001b[0m\u001b[0madd_subplot\u001b[0m\u001b[1;33m(\u001b[0m\u001b[1;36m111\u001b[0m\u001b[1;33m,\u001b[0m \u001b[0mprojection\u001b[0m\u001b[1;33m=\u001b[0m\u001b[1;34m'3d'\u001b[0m\u001b[1;33m)\u001b[0m\u001b[1;33m\u001b[0m\u001b[0m\n\u001b[1;32m----> 5\u001b[1;33m \u001b[0max\u001b[0m\u001b[1;33m.\u001b[0m\u001b[0mplot\u001b[0m\u001b[1;33m(\u001b[0m\u001b[0mmean_tomo_proj\u001b[0m\u001b[1;33m[\u001b[0m\u001b[1;36m0\u001b[0m\u001b[1;33m,\u001b[0m\u001b[1;33m:\u001b[0m\u001b[1;33m]\u001b[0m\u001b[1;33m,\u001b[0m \u001b[0mmean_tomo_proj\u001b[0m\u001b[1;33m[\u001b[0m\u001b[1;36m1\u001b[0m\u001b[1;33m,\u001b[0m\u001b[1;33m:\u001b[0m\u001b[1;33m]\u001b[0m\u001b[1;33m,\u001b[0m \u001b[0mmean_tomo_proj\u001b[0m\u001b[1;33m[\u001b[0m\u001b[1;36m2\u001b[0m\u001b[1;33m,\u001b[0m\u001b[1;33m:\u001b[0m\u001b[1;33m]\u001b[0m\u001b[1;33m,\u001b[0m \u001b[0mc\u001b[0m\u001b[1;33m=\u001b[0m\u001b[1;34m'r'\u001b[0m\u001b[1;33m,\u001b[0m \u001b[0mmarker\u001b[0m\u001b[1;33m=\u001b[0m\u001b[1;34m'o'\u001b[0m\u001b[1;33m)\u001b[0m\u001b[1;33m\u001b[0m\u001b[0m\n\u001b[0m\u001b[0;32m      6\u001b[0m \u001b[0max\u001b[0m\u001b[1;33m.\u001b[0m\u001b[0mset_xlabel\u001b[0m\u001b[1;33m(\u001b[0m\u001b[1;34m'X'\u001b[0m\u001b[1;33m)\u001b[0m\u001b[1;33m\u001b[0m\u001b[0m\n\u001b[0;32m      7\u001b[0m \u001b[0max\u001b[0m\u001b[1;33m.\u001b[0m\u001b[0mset_ylabel\u001b[0m\u001b[1;33m(\u001b[0m\u001b[1;34m'Y'\u001b[0m\u001b[1;33m)\u001b[0m\u001b[1;33m\u001b[0m\u001b[0m\n",
      "\u001b[1;31mNameError\u001b[0m: name 'mean_tomo_proj' is not defined"
     ]
    }
   ],
   "source": [
    "from mpl_toolkits.mplot3d import Axes3D\n",
    "from matplotlib import pyplot as plt\n",
    "fig = plt.figure()\n",
    "ax = fig.add_subplot(111, projection='3d')\n",
    "ax.plot(mean_tomo_proj[0,:], mean_tomo_proj[1,:], mean_tomo_proj[2,:], c='r', marker='o')\n",
    "ax.set_xlabel('X')\n",
    "ax.set_ylabel('Y')\n",
    "ax.set_zlabel('Z')\n",
    "ax.set_xlim([-0.6, 0.6])\n",
    "ax.set_ylim([-0.6, 0.6])\n",
    "ax.set_zlim([-0.6, 0.6])"
   ]
  },
  {
   "cell_type": "code",
   "execution_count": 141,
   "metadata": {},
   "outputs": [
    {
     "name": "stdout",
     "output_type": "stream",
     "text": [
      "\u001b[1;31m---------------------------------------------------------------------------\u001b[0m\n",
      "\u001b[1;31mValueError\u001b[0m                                Traceback (most recent call last)\n",
      "\u001b[1;32m<ipython-input-141-21bdea10a476>\u001b[0m in \u001b[0;36m<module>\u001b[1;34m()\u001b[0m\n",
      "\u001b[0;32m     52\u001b[0m \u001b[1;33m\u001b[0m\u001b[0m\n",
      "\u001b[0;32m     53\u001b[0m     \u001b[0mplt\u001b[0m\u001b[1;33m.\u001b[0m\u001b[0mfigure\u001b[0m\u001b[1;33m(\u001b[0m\u001b[1;34m'IQ'\u001b[0m\u001b[1;33m)\u001b[0m\u001b[1;33m\u001b[0m\u001b[0m\n",
      "\u001b[1;32m---> 54\u001b[1;33m     \u001b[0mS21\u001b[0m\u001b[1;33m,\u001b[0m \u001b[0msamples\u001b[0m \u001b[1;33m=\u001b[0m \u001b[0mtomography_mean_daq\u001b[0m \u001b[1;33m(\u001b[0m\u001b[0mdaq0\u001b[0m\u001b[1;33m,\u001b[0m \u001b[0mnums\u001b[0m\u001b[1;33m,\u001b[0m \u001b[0mro_dm\u001b[0m\u001b[1;33m,\u001b[0m \u001b[0msegsize\u001b[0m\u001b[1;33m,\u001b[0m \u001b[0mplot_color\u001b[0m\u001b[1;33m=\u001b[0m\u001b[0mplot_color\u001b[0m\u001b[1;33m,\u001b[0m\u001b[0msave_samples\u001b[0m\u001b[1;33m=\u001b[0m\u001b[0mFalse\u001b[0m\u001b[1;33m,\u001b[0m\u001b[0mclassifier\u001b[0m\u001b[1;33m=\u001b[0m\u001b[0mclassifier\u001b[0m\u001b[1;33m,\u001b[0m \u001b[0msoftware_averages\u001b[0m\u001b[1;33m=\u001b[0m\u001b[1;36m100\u001b[0m\u001b[1;33m,\u001b[0m                                         \u001b[0mclassifier_args\u001b[0m\u001b[1;33m=\u001b[0m\u001b[1;33m{\u001b[0m\u001b[1;34m'clf_offset'\u001b[0m\u001b[1;33m:\u001b[0m\u001b[0mclf_offset\u001b[0m\u001b[1;33m,\u001b[0m\u001b[1;34m'clf_vector'\u001b[0m\u001b[1;33m:\u001b[0m\u001b[0mclf_vector\u001b[0m\u001b[1;33m,\u001b[0m \u001b[1;34m'ro_daq'\u001b[0m\u001b[1;33m:\u001b[0m\u001b[0mro_daq\u001b[0m\u001b[1;33m,\u001b[0m \u001b[1;34m'ro_dm'\u001b[0m\u001b[1;33m:\u001b[0m\u001b[0mro_dm\u001b[0m\u001b[1;33m}\u001b[0m\u001b[1;33m)\u001b[0m\u001b[1;33m\u001b[0m\u001b[0m\n",
      "\u001b[0m\u001b[0;32m     55\u001b[0m     \u001b[0mclassifier_results\u001b[0m\u001b[1;33m.\u001b[0m\u001b[0mappend\u001b[0m\u001b[1;33m(\u001b[0m\u001b[0mnp\u001b[0m\u001b[1;33m.\u001b[0m\u001b[0mreal\u001b[0m\u001b[1;33m(\u001b[0m\u001b[0mS21\u001b[0m\u001b[1;33m)\u001b[0m\u001b[1;33m)\u001b[0m\u001b[1;33m\u001b[0m\u001b[0m\n",
      "\u001b[0;32m     56\u001b[0m \u001b[1;33m\u001b[0m\u001b[0m\n",
      "\n",
      "\u001b[1;32m<ipython-input-140-f385cd85f30b>\u001b[0m in \u001b[0;36mtomography_mean_daq\u001b[1;34m(daq, nums, ro_dm, segsize, software_averages, plot_color, save_samples, classifier, plot, classifier_args)\u001b[0m\n",
      "\u001b[0;32m     16\u001b[0m             \u001b[0msamples\u001b[0m\u001b[1;33m[\u001b[0m\u001b[1;33m:\u001b[0m\u001b[1;33m,\u001b[0m\u001b[1;33m:\u001b[0m\u001b[1;33m]\u001b[0m \u001b[1;33m+=\u001b[0m \u001b[1;36m1j\u001b[0m\u001b[1;33m*\u001b[0m\u001b[0mdaq\u001b[0m\u001b[1;33m.\u001b[0m\u001b[0mreadout_doublechannel_multimode_bin\u001b[0m\u001b[1;33m(\u001b[0m\u001b[1;33m)\u001b[0m\u001b[1;33m[\u001b[0m\u001b[1;36m1\u001b[0m\u001b[1;33m]\u001b[0m\u001b[1;33m[\u001b[0m\u001b[1;33m:\u001b[0m\u001b[1;33m,\u001b[0m\u001b[1;33m:\u001b[0m\u001b[0mro_dm\u001b[0m\u001b[1;33m.\u001b[0m\u001b[0msize\u001b[0m\u001b[1;33m]\u001b[0m\u001b[1;33m\u001b[0m\u001b[0m\n",
      "\u001b[0;32m     17\u001b[0m             \u001b[1;32mif\u001b[0m \u001b[0mclassifier\u001b[0m\u001b[1;33m:\u001b[0m\u001b[1;33m\u001b[0m\u001b[0m\n",
      "\u001b[1;32m---> 18\u001b[1;33m                 \u001b[0mS21\u001b[0m\u001b[1;33m[\u001b[0m\u001b[0msoftware_average_id\u001b[0m\u001b[1;33m*\u001b[0m\u001b[0mnums\u001b[0m\u001b[1;33m:\u001b[0m\u001b[1;33m(\u001b[0m\u001b[0msoftware_average_id\u001b[0m\u001b[1;33m+\u001b[0m\u001b[1;36m1\u001b[0m\u001b[1;33m)\u001b[0m\u001b[1;33m*\u001b[0m\u001b[0mnums\u001b[0m\u001b[1;33m]\u001b[0m \u001b[1;33m=\u001b[0m \u001b[0mclassifier\u001b[0m\u001b[1;33m(\u001b[0m\u001b[0msamples\u001b[0m\u001b[1;33m,\u001b[0m \u001b[1;33m**\u001b[0m\u001b[0mclassifier_args\u001b[0m\u001b[1;33m)\u001b[0m\u001b[1;33m\u001b[0m\u001b[0m\n",
      "\u001b[0m\u001b[0;32m     19\u001b[0m             \u001b[1;32melse\u001b[0m\u001b[1;33m:\u001b[0m\u001b[1;33m\u001b[0m\u001b[0m\n",
      "\u001b[0;32m     20\u001b[0m                 \u001b[0mS21\u001b[0m\u001b[1;33m[\u001b[0m\u001b[0msoftware_average_id\u001b[0m\u001b[1;33m*\u001b[0m\u001b[0mnums\u001b[0m\u001b[1;33m:\u001b[0m\u001b[1;33m(\u001b[0m\u001b[0msoftware_average_id\u001b[0m\u001b[1;33m+\u001b[0m\u001b[1;36m1\u001b[0m\u001b[1;33m)\u001b[0m\u001b[1;33m*\u001b[0m\u001b[0mnums\u001b[0m\u001b[1;33m]\u001b[0m \u001b[1;33m=\u001b[0m \u001b[0mnp\u001b[0m\u001b[1;33m.\u001b[0m\u001b[0mmean\u001b[0m\u001b[1;33m(\u001b[0m\u001b[0msamples\u001b[0m \u001b[1;33m*\u001b[0m \u001b[0mro_dm\u001b[0m\u001b[1;33m,\u001b[0m \u001b[0maxis\u001b[0m\u001b[1;33m=\u001b[0m\u001b[1;36m1\u001b[0m\u001b[1;33m)\u001b[0m\u001b[1;33m\u001b[0m\u001b[0m\n",
      "\n",
      "\u001b[1;32m<ipython-input-139-3ee6491b604f>\u001b[0m in \u001b[0;36mclassifier\u001b[1;34m(samples, clf_offset, clf_vector, ro_daq, ro_dm)\u001b[0m\n",
      "\u001b[0;32m      2\u001b[0m     \u001b[0msamples_noavg\u001b[0m \u001b[1;33m=\u001b[0m \u001b[1;33m(\u001b[0m\u001b[0msamples\u001b[0m\u001b[1;33m.\u001b[0m\u001b[0mT\u001b[0m\u001b[1;33m-\u001b[0m\u001b[0mnp\u001b[0m\u001b[1;33m.\u001b[0m\u001b[0mmean\u001b[0m\u001b[1;33m(\u001b[0m\u001b[0msamples\u001b[0m\u001b[1;33m,\u001b[0m\u001b[0maxis\u001b[0m\u001b[1;33m=\u001b[0m\u001b[1;36m1\u001b[0m\u001b[1;33m)\u001b[0m\u001b[1;33m)\u001b[0m\u001b[1;33m.\u001b[0m\u001b[0mT\u001b[0m\u001b[1;33m\u001b[0m\u001b[0m\n",
      "\u001b[0;32m      3\u001b[0m     \u001b[0msamples_noavg\u001b[0m \u001b[1;33m=\u001b[0m \u001b[0msamples_noavg\u001b[0m \u001b[1;33m*\u001b[0m \u001b[0mro_daq\u001b[0m\u001b[1;33m[\u001b[0m\u001b[1;33m:\u001b[0m\u001b[0mro_dm\u001b[0m\u001b[1;33m.\u001b[0m\u001b[0msize\u001b[0m\u001b[1;33m]\u001b[0m\u001b[1;33m\u001b[0m\u001b[0m\n",
      "\u001b[1;32m----> 4\u001b[1;33m     \u001b[1;32mreturn\u001b[0m \u001b[0mnp\u001b[0m\u001b[1;33m.\u001b[0m\u001b[0mmean\u001b[0m\u001b[1;33m(\u001b[0m\u001b[1;33m(\u001b[0m\u001b[0msamples_noavg\u001b[0m \u001b[1;33m-\u001b[0m \u001b[0mclf_offset\u001b[0m\u001b[1;33m)\u001b[0m\u001b[1;33m*\u001b[0m\u001b[0mclf_vector\u001b[0m\u001b[1;33m,\u001b[0m \u001b[0maxis\u001b[0m\u001b[1;33m=\u001b[0m\u001b[1;36m1\u001b[0m\u001b[1;33m)\u001b[0m\u001b[1;33m\u001b[0m\u001b[0m\n",
      "\u001b[0m\n",
      "\u001b[1;31mValueError\u001b[0m: operands could not be broadcast together with shapes (500,3761) (3773,) \n"
     ]
    }
   ],
   "source": [
    "#this cell calibrates |0> & |1> states in samples space\n",
    "pulse_param = (0,1)\n",
    "pulse_len = 12\n",
    "N=4\n",
    "time = N*pulse_len\n",
    "pulse_seq = [pause(time)]+[pause(8), pause(250), ro]\n",
    "ex_I, ex_Q, ro_I, ro_Q, ro_daq, ro_dm = seq2points(pulse_seq, PulsePeriod*SampleRate_ex, PulsePeriod*SampleRate_ro)\n",
    "awg_ex.set_repetition_period(PulsePeriod)\n",
    "awg_ro.set_repetition_period(PulsePeriod)\n",
    "\n",
    "awg_ro.LoadRAM(awg_ro_I_ch, ro_I.astype(int).tolist())\n",
    "awg_ro.LoadRAM(awg_ro_Q_ch, ro_Q.astype(int).tolist())\n",
    "\n",
    "last_daq_point = np.max(np.where(ro_daq>0))\n",
    "segsize = 2*int( 2**np.ceil(np.log2(last_daq_point*4/3)) )\n",
    "posttrigger = segsize*3/4\n",
    "pretrigger = segsize-posttrigger\n",
    "\n",
    "ro_dm = np.hstack([np.zeros(pretrigger), ro_dm])\n",
    "ro_daq = np.hstack([np.zeros(pretrigger), ro_daq])\n",
    "\n",
    "amp = 50\n",
    "nums = 500\n",
    "    \n",
    "daq0.stop()\n",
    "daq0.set_spc_samplerate(SampleRate_ro)\n",
    "daq0.init_channel01_multiple_recording(rate=SampleRate_ro, nums=nums, segsize=segsize, \n",
    "                                  posttrigger=posttrigger, amp0=amp, amp1=amp)\n",
    "daq0.trigger_termination_50Ohm()\n",
    "daq0.buffer_setup()\n",
    "\n",
    "lo1.set_frequency(ex_lo_freq)\n",
    "pna.set_cw_freq(ro_lo_freq)\n",
    "lo1.set_status(1)\n",
    "class_colors = ['black', 'red']\n",
    "classes = [0, 1]\n",
    "\n",
    "\n",
    "for plot_color, param in zip(class_colors, classes):\n",
    "    pulse_seq = []\n",
    "    if param == 1:\n",
    "        pulse_seq.extend([pulse_x]*2)\n",
    "    else :\n",
    "        pulse_seq.append (pause(24))\n",
    "    pulse_seq_z, pulse_seq_x, pulse_seq_y, pulse_seq_x_rev, pulse_seq_y_rev = tomography_pulse_seq (pulse_seq, pulse_x, pulse_y, pulse_x_rev, pulse_y_rev)\n",
    "    ex_I, ex_Q, ro_I, ro_Q, ne_nujno, toje_ne_nujno= seq2points(pulse_seq_z, PulsePeriod*SampleRate_ex, PulsePeriod*SampleRate_ro)\n",
    "    awg_ex.LoadRAM(awg_ex_I_ch, ex_I.astype(int).tolist())\n",
    "    awg_ex.LoadRAM(awg_ex_Q_ch, ex_Q.astype(int).tolist())\n",
    "    awg_ro.LoadRAM(awg_ro_I_ch, ro_I.astype(int).tolist())\n",
    "    awg_ro.LoadRAM(awg_ro_Q_ch, ro_Q.astype(int).tolist())\n",
    "    awg_ex.set_trigger_mode('TRIG')\n",
    "    awg_ex.run()    \n",
    "    \n",
    "    plt.figure('IQ')\n",
    "    S21, samples = tomography_mean_daq (daq0, nums, ro_dm, segsize, plot_color=plot_color,save_samples=False,classifier=classifier, software_averages=100, \\\n",
    "                                        classifier_args={'clf_offset':clf_offset,'clf_vector':clf_vector, 'ro_daq':ro_daq, 'ro_dm':ro_dm})\n",
    "    classifier_results.append(np.real(S21))\n",
    "\n",
    "average_text = 'AVG |0>: {0: 4.2f}, AVG |1>: {1:4.2f}'.format(np.mean(classifier_results[0]), np.mean(classifier_results[1]))\n",
    "std_text = 'STD |0>: {0: 4.2f}, STD |1>: {1:4.2f}'.format(np.std(classifier_results[0]), np.std(classifier_results[1]))\n",
    "q_text = 'q0(0): {0:4.2f}, q1(1): {1:4.2f}'.format(np.sqrt(np.mean(classifier_results[0]<0)), np.sqrt(np.mean(classifier_results[1]>0)))\n",
    "Fidelity = (np.sqrt(np.mean(classifier_results[0]<0))+np.sqrt(np.mean(classifier_results[1]>0)))/2.\n",
    "fidelity_text = 'Fidelity: {0: 4.2f}%'.format(Fidelity*100)\n",
    "annotation = '\\n'.join([average_text, std_text, q_text, fidelity_text])\n",
    "\n",
    "plt.figure('clf')\n",
    "plt.hist(classifier_results, label=classes)\n",
    "plt.annotate(annotation, (0.3, 0.1), xycoords='axes fraction', \\\n",
    "             bbox={'alpha':1.0, 'pad':3, 'edgecolor':'black', 'facecolor':'white'})\n",
    "plt.legend()"
   ]
  },
  {
   "cell_type": "code",
   "execution_count": null,
   "metadata": {
    "collapsed": true
   },
   "outputs": [],
   "source": [
    "num_pulses_range = np.arange(0, 20, 5).astype(int)\n",
    "phi = np.arange(0, 2*np.pi+np.pi/8.,np.pi/8.)\n",
    "pulse_len = 8\n",
    "pulse_seq = [pause(pulse_len)]*(4*np.max(num_pulses_range)+4)+[pause(8), pause(250), ro]\n",
    "ex_I, ex_Q, ro_I, ro_Q, ro_daq, ro_dm = seq2points(pulse_seq, PulsePeriod*SampleRate_ex, PulsePeriod*SampleRate_ro)\n",
    "awg_ro.LoadRAM(awg_ro_I_ch, ro_I.astype(int).tolist())\n",
    "awg_ro.LoadRAM(awg_ro_Q_ch, ro_Q.astype(int).tolist())\n",
    "\n",
    "# когда последняя точка которую надо записать?\n",
    "last_daq_point = np.max(np.where(ro_daq>0))\n",
    "\n",
    "#Инициализация DAQ\n",
    "segsize = 2*int( 2**np.ceil(np.log2(last_daq_point)) )\n",
    "if ro_dm.size>segsize:\n",
    "    ro_dm = ro_dm[:segsize]\n",
    "else:\n",
    "    ro_dm_new = np.zeros(segsize, dtype=np.complex)\n",
    "    ro_dm_new[:ro_dm.size] = ro_dm\n",
    "    ro_dm = ro_dm_new\n",
    "\n",
    "print (segsize, ro_dm.size)\n",
    "posttrigger = segsize*3/4\n",
    "ro_dm = np.roll(ro_dm, -posttrigger)\n",
    "amp = 50\n",
    "nums = 1000\n",
    "    \n",
    "daq0.stop()\n",
    "daq0.set_spc_samplerate(SampleRate_ro)\n",
    "daq0.init_channel01_multiple_recording(rate=SampleRate_ro, nums=nums, segsize=segsize, \n",
    "                                  posttrigger=posttrigger, amp0=amp, amp1=amp)\n",
    "daq0.trigger_termination_50Ohm()\n",
    "daq0.buffer_setup()\n",
    "\n",
    "lo1.set_frequency(ex_lo_freq)\n",
    "pna.set_cw_freq(ro_lo_freq)\n",
    "lo1.set_status(1)\n",
    "\n",
    "def set_phase(phi):\n",
    "    pulse_seq = [gauss_x_HD, pause(pulse_len*(4*np.max(num_pulses_range)-4*num_pulses+1))]\n",
    "    gauss_rotated = gauss_x_HD.copy()\n",
    "    gauss_rotated['ex'] = gauss_rotated['ex']*np.exp(1j*phi)\n",
    "    pulse_seq.extend([gauss_x_HD, pause(pulse_len), gauss_x_HD_rev, pause(pulse_len)]*num_pulses)\n",
    "    pulse_seq.extend([gauss_rotated])\n",
    "    pulse_seq.append(pause(8))\n",
    "    pulse_seq.append(ro)\n",
    "    \n",
    "    ex_I, ex_Q, ro_I, ro_Q, ro_daq, ro_dm = seq2points(pulse_seq, PulsePeriod*SampleRate_ex, PulsePeriod*SampleRate_ro)\n",
    "    awg_ex.LoadRAM(awg_ex_I_ch, ex_I.astype(int).tolist())\n",
    "    awg_ex.LoadRAM(awg_ex_Q_ch, ex_Q.astype(int).tolist())\n",
    "    awg_ex.set_trigger_mode('TRIG')\n",
    "    awg_ex.run()    \n",
    "\n",
    "for num_pulses in num_pulses_range:\n",
    "    S21, samples = sweep1D_mean_daq (daq0, phi, set_phase, ro_dm, software_averages=100)"
   ]
  },
  {
   "cell_type": "code",
   "execution_count": null,
   "metadata": {
    "collapsed": true
   },
   "outputs": [],
   "source": []
  },
  {
   "cell_type": "code",
   "execution_count": null,
   "metadata": {
    "collapsed": true
   },
   "outputs": [],
   "source": [
    "plt.plot(np.real(gauss_x_HD['ex']))\n",
    "plt.plot(np.imag(gauss_x_HD['ex']))"
   ]
  },
  {
   "cell_type": "code",
   "execution_count": null,
   "metadata": {
    "collapsed": true
   },
   "outputs": [],
   "source": [
    "plt.figure()\n",
    "plt.plot(np.real(S21))\n",
    "plt.plot(np.imag(S21))"
   ]
  },
  {
   "cell_type": "code",
   "execution_count": null,
   "metadata": {
    "collapsed": true
   },
   "outputs": [],
   "source": [
    "plt.figure ('samples')\n",
    "plt.pcolormesh (np.real(samples))\n",
    "print S21.size, num_pulses_range.size"
   ]
  },
  {
   "cell_type": "code",
   "execution_count": 34,
   "metadata": {},
   "outputs": [
    {
     "name": "stdout",
     "output_type": "stream",
     "text": [
      "(array([-79.99654388]), array([-103.81034963]))\n",
      "[-38.72156098]\n"
     ]
    }
   ],
   "source": [
    "import mixer_calibration\n",
    "imp.reload(mixer_calibration)\n",
    "sa_added_measurer = mixer_calibration.sa_meas_added(pxa, lo1.set_status, ex_freq, ex_freq, nop=1, res_bw=1e6)\n",
    "sa_added_measurer.set_precision(-110)\n",
    "result = sa_added_measurer.measure_added()\n",
    "print (sa_added_measurer.noise_floor, sa_added_measurer.precision)\n",
    "print (result)"
   ]
  },
  {
   "cell_type": "code",
   "execution_count": null,
   "metadata": {
    "collapsed": true
   },
   "outputs": [],
   "source": [
    "plt.plot(ro_daq)\n"
   ]
  },
  {
   "cell_type": "code",
   "execution_count": null,
   "metadata": {
    "collapsed": true
   },
   "outputs": [],
   "source": [
    "from scipy import optimize\n",
    "\n",
    "fft=np.fft.fft(S21-np.mean(S21))\n",
    "frequencies = np.fft.fftfreq(num_pulses_range.size, num_pulses_range[1]-num_pulses_range[0])\n",
    "plt.figure('FFT')\n",
    "plt.plot(frequencies, np.abs(fft))\n",
    "fR = np.abs(frequencies[np.argmax(np.abs(fft))])\n",
    "print (fR)\n",
    "fitfunc = lambda p, x: p[0] + p[1]*np.exp(-x/p[2])*(np.sin(2*np.pi*fR*x + p[3]))\n",
    "errfunc = lambda p, x, y: fitfunc(p, x) - y \n",
    "p0 = [1500, 1000, 60,0]\n",
    "p1, success = optimize.leastsq(errfunc,p0, args=(num_pulses_range, S21))\n",
    "plt.figure(\"S21\")\n",
    "amp = np.linspace(num_pulses_range.min(), num_pulses_range.max(), 100)\n",
    "plt.plot(num_pulses_range, S21, \"bo\", amp, fitfunc(p1, amp), \"g-\") # Plot of the data and the fit"
   ]
  },
  {
   "cell_type": "code",
   "execution_count": null,
   "metadata": {
    "collapsed": true
   },
   "outputs": [],
   "source": [
    "execfile('save_pkl.py')\n",
    "time_domain_box_setup = {'use_coupler':True, 'excite_lo':'lo1', 'ro_lo':'pna', \n",
    "                         'excite_lo_freq':excite_lo_freq, 'ro_lo_freq':ro_lo_freq, }\n",
    "dac_setup = {'samplerate': samplerate, 'zero_delay': zero_delay, 'sample_size': segsize, 'posttrigger': posttrigger,\n",
    "          'amp': amp, 'offs': offs,\n",
    "          'hardware_averages': nums, 'software_averages': software_averages,}\n",
    "header = {'date':datetime.datetime.now(), 'type': 'Rabi power dependance', 'name': '', 'pulse_settings': settings, \n",
    "          'ro_pulse_length':ro_pulse_length, 'excite_pulse_length':excite_pulse_length,\n",
    "          'dac_setup':dac_setup, 'time_domain_box_setup':time_domain_box_setup}\n",
    "sample_axis = np.linspace((posttrigger-hardware_segsize)/hardware_samplerate, posttrigger/hardware_samplerate, binned_segsize)\n",
    "measurement =        ((pulse_lengths, excite_amplitudes[:last_amplitude_point+1],\n",
    "                       np.log10(np.abs(S21[:,:last_amplitude_point +1]))*10, np.angle(S21[:,:last_amplitude_point +1])))\n",
    "sample_measurement = ((np.linspace((posttrigger-hardware_segsize)/hardware_samplerate, posttrigger/hardware_samplerate, binned_segsize), \n",
    "                       pulse_lengths, excite_amplitudes[:last_amplitude_point +1],\n",
    "                       sample[:,:,:last_amplitude_point+1], np.zeros(sample[:,:,:last_amplitude_point +1].shape)))\n",
    "if compute_covariations:\n",
    "    covariation_matrix_measurement = ((np.linspace((posttrigger-hardware_segsize)/hardware_samplerate, posttrigger/hardware_samplerate, binned_segsize), \n",
    "                       np.linspace((posttrigger-hardware_segsize)/hardware_samplerate, posttrigger/hardware_samplerate, binned_segsize), \n",
    "                       pulse_lengths, excite_amplitudes[:last_amplitude_point+1],\n",
    "                       covariation_matrix[:,:,:,:last_amplitude_point+1], np.zeros(covariation_matrix[:,:,:,:last_amplitude_point+1].shape)))\n",
    "    extended_covariation_matrix = np.zeros((binned_segsize+1, binned_segsize+1, len(pulse_lengths), last_amplitude_point+1))\n",
    "    extended_covariation_matrix[0,0,:,:] = software_averages*nums\n",
    "    extended_covariation_matrix[1:,0,:,:] = sample[:,:,:last_amplitude_point+1]\n",
    "    extended_covariation_matrix[0,1:,:,:] = sample[:,:,:last_amplitude_point+1]\n",
    "    extended_covariation_matrix[1:,1:,:,:] = covariation_matrix[:,:,:,:last_amplitude_point+1]\n",
    "    extended_sample_axis = np.append(np.asarray([np.nan]), sample_axis)\n",
    "header['type'] = 'Rabi 2D S21'\n",
    "save_pkl(header, measurement)\n",
    "header['type'] = 'Rabi 2D oscillogram'\n",
    "save_pkl(header, sample_measurement)\n",
    "if compute_covariations:\n",
    "    header['type'] = 'Rabi 2D covariation matrix'\n",
    "    save_pkl(header, covariation_matrix_measurement)\n",
    "    header['type'] = 'Rabi 2D extended covariation matrix'\n",
    "    save_pkl(header, (extended_sample_axis, extended_sample_axis, pulse_lengths, excite_amplitudes[:last_amplitude_point+1], \n",
    "                  extended_covariation_matrix, np.zeros(extended_covariation_matrix.shape)))"
   ]
  },
  {
   "cell_type": "code",
   "execution_count": null,
   "metadata": {
    "collapsed": true
   },
   "outputs": [],
   "source": []
  },
  {
   "cell_type": "code",
   "execution_count": null,
   "metadata": {
    "collapsed": true
   },
   "outputs": [],
   "source": [
    "plt.plot(np.abs(S21[:,:last_amplitude_point+1]))"
   ]
  },
  {
   "cell_type": "code",
   "execution_count": null,
   "metadata": {
    "collapsed": true
   },
   "outputs": [],
   "source": [
    "pulse_profile = gauss_rect_sine(8, 16, 0, 4, 2)\n",
    "plt.plot(pulse_profile)"
   ]
  },
  {
   "cell_type": "code",
   "execution_count": null,
   "metadata": {
    "collapsed": true
   },
   "outputs": [],
   "source": [
    "pulse_shape_x_I = gauss_rect_sine(8, 16, 0, 4, 2)\n",
    "pulse_shape_x_Q = gauss_rect_sine(8, 16, np.pi/2, 4, 2)\n",
    "pulse_num = 83\n",
    "pulse_x_I = np.zeros ((pulse_shape_x_I.size) * pulse_num +1)\n",
    "pulse_x_Q = np.zeros ((pulse_shape_x_I.size) * pulse_num +1)\n",
    "for i in range (pulse_num):\n",
    "    pulse_x_I[i*pulse_shape_x_I.size+1:(i+1)*pulse_shape_x_I.size+1] = \\\n",
    "                        settings_ex[awg_ex_I_ch]['A']*pulse_shape_x_I + settings_ex[awg_ex_I_ch]['O']\n",
    "    pulse_x_Q[i*pulse_shape_x_Q.size+1:(i+1)*pulse_shape_x_Q.size+1] =\\\n",
    "                        settings_ex[awg_ex_Q_ch]['A']*pulse_shape_x_Q + settings_ex[awg_ex_Q_ch]['O']\n",
    "pulse_x_I [0] = settings_ex[awg_ex_I_ch]['O']\n",
    "pulse_x_Q [0] = settings_ex[awg_ex_Q_ch]['O']\n",
    "plt.plot(pulse_x_I)\n",
    "plt.plot(pulse_x_Q)"
   ]
  },
  {
   "cell_type": "code",
   "execution_count": null,
   "metadata": {
    "collapsed": true
   },
   "outputs": [],
   "source": []
  }
 ],
 "metadata": {
  "kernelspec": {
   "display_name": "Python 3",
   "language": "python",
   "name": "python3"
  },
  "language_info": {
   "codemirror_mode": {
    "name": "ipython",
    "version": 3
   },
   "file_extension": ".py",
   "mimetype": "text/x-python",
   "name": "python",
   "nbconvert_exporter": "python",
   "pygments_lexer": "ipython3",
   "version": "3.6.5"
  },
  "toc": {
   "base_numbering": 1,
   "nav_menu": {},
   "number_sections": true,
   "sideBar": true,
   "skip_h1_title": false,
   "title_cell": "Table of Contents",
   "title_sidebar": "Contents",
   "toc_cell": false,
   "toc_position": {},
   "toc_section_display": true,
   "toc_window_display": false
  }
 },
 "nbformat": 4,
 "nbformat_minor": 1
}
