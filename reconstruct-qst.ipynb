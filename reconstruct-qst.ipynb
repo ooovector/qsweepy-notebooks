{
 "cells": [
  {
   "cell_type": "code",
   "execution_count": 4,
   "metadata": {},
   "outputs": [],
   "source": [
    "import cvxopt\n",
    "import cvxpy\n",
    "import numpy as np\n",
    "from qsweepy import *\n",
    "import json\n",
    "#%matplotlib qt5\n",
    "import matplotlib.pyplot as plt"
   ]
  },
  {
   "cell_type": "code",
   "execution_count": 3,
   "metadata": {},
   "outputs": [],
   "source": [
    "%matplotlib tk"
   ]
  },
  {
   "cell_type": "code",
   "execution_count": 5,
   "metadata": {},
   "outputs": [],
   "source": [
    "measurement_results = {}\n",
    "measurement_results_np = np.zeros((6*6*6*6*4))\n",
    "projection_order = ['+Z', '+X', '+Y', '-Z', '-X', '-Y']\n",
    "measurement_id = 0\n",
    "initials = np.zeros((6*6, 16), dtype=np.complex)\n",
    "measurement_operators = np.zeros((16, 16*16*4), dtype=np.complex)\n",
    "with open(r'C:\\Users\\cryopxi\\Documents\\CNOT\\CX-experiment-20181115.txt', 'r') as f:\n",
    "    for p3_id, p3 in enumerate(projection_order):\n",
    "        for p4_id, p4 in enumerate(projection_order):\n",
    "            for p1_id, p1 in enumerate(projection_order):\n",
    "                for p2_id, p2 in enumerate(projection_order):\n",
    "                    initial_id = \n",
    "                    for ri,rj in itertools.product([0,1], [0,1]):\n",
    "                        projection_id = p1_id*4*6+p2_id*4+ri*2+rj\n",
    "                        \n",
    "                        _matrix = np.zeros((4,4), dtype=complex)\n",
    "                        _matrix[ri*2+rj, ri*2+rj] = 1\n",
    "                        readout_result = str(rj)+str(ri)\n",
    "                        q1_unitary = cube_faces_unitaries[p3]\n",
    "                        q2_unitary = cube_faces_unitaries[p4]\n",
    "                        unitary = np.asarray(np.reshape(np.einsum('ij,kl->ikjl', q1_unitary, q2_unitary), (4,4)), np.complex)\n",
    "                        \n",
    "                        q1_unitary_pre = cube_faces_unitaries[p1]\n",
    "                        q2_unitary_pre = cube_faces_unitaries[p2]\n",
    "                        unitary_pre = np.asarray(np.reshape(np.einsum('ij,kl->ikjl', q1_unitary_pre, q2_unitary_pre), (4,4)), np.complex)\n",
    "                    \n",
    "                        initial = np.dot(unitary_pre, np.dot(initial_state, np.conj(unitary_pre).T)).ravel()\n",
    "                        projection = np.dot(np.conj(unitary.T), np.dot(_matrix, unitary)).T.ravel()\n",
    "    \n",
    "                        initials[]\n",
    "    \n",
    "                        # read data from file\n",
    "                        projection_name = f.readline()\n",
    "                        if len(projection_name)<2:\n",
    "                            projection_name = f.readline()\n",
    "                        uncorrected = f.readline()\n",
    "                        corrected = f.readline()\n",
    "    \n",
    "                        corrected_json = json.loads(corrected[10:].replace('\\'', '\"'))\n",
    "                        measurement_results[p1+p2+p3+p4] = corrected_json\n",
    "                        measurement_results_np[measurement_id] = measurement_results[p1+p2+p3+p4][readout_result]\n",
    "                    \n",
    "                        measurement_id += 1"
   ]
  },
  {
   "cell_type": "code",
   "execution_count": null,
   "metadata": {},
   "outputs": [],
   "source": [
    "chi_dimension =16\n",
    "reconstruction_basis = {}\n",
    "proj_seq = {}\n",
    "import itertools\n",
    "\n",
    "sigma_x = np.asarray([[0,1],  [1,0]])\n",
    "sigma_y = np.asarray([[0,-1j],[1j,0]])\n",
    "sigma_z = np.asarray([[1,0],  [0,-1]])\n",
    "sigma_i = np.asarray([[1,0],  [0,1]])\n",
    "\n",
    "cube_faces = {'+Z':(0.0, 0.0), \n",
    "              '+X':(np.pi/2., -np.pi/2.,),\n",
    "              '+Y':(np.pi/2., 0.0),\n",
    "              '-Z':(np.pi, 0.0),\n",
    "              '-X':(np.pi/2., np.pi/2.),\n",
    "              '-Y':(np.pi/2., np.pi)}\n",
    "\n",
    "#cube_faces = {'+Z':(0.0, 0.0), '-Z':(np.pi, 0.0)}\n",
    "\n",
    "cube_faces_unitaries = {k:    np.cos(v[0]/2)*sigma_i-\\\n",
    "                           1j*np.sin(v[0]/2)*np.cos(v[1])*sigma_x-\\\n",
    "                           1j*np.sin(v[0]/2)*np.sin(v[1])*sigma_y for k,v in cube_faces.items()}\n",
    "\n",
    "initial_state = np.zeros((4,4))\n",
    "initial_state[0,0] = 1.\n",
    "\n",
    "measurement_id = 0\n",
    "for q1_rotation_name, q1_rotation in cube_faces.items():\n",
    "    for q2_rotation_name, q2_rotation in cube_faces.items():\n",
    "        for q1_pre_name, q1_pre in cube_faces.items():\n",
    "            for q2_pre_name, q2_pre in cube_faces.items():\n",
    "                pulses_pre = get_rotation('1', *q1_pre)+get_rotation('3', *q2_pre)\n",
    "                pulses = get_rotation('1', *q1_rotation)+get_rotation('3', *q2_rotation)+ro_seq\n",
    "                operators = {}\n",
    "\n",
    "                for ri,rj in itertools.product([0,1], [0,1]):\n",
    "                    _matrix = np.zeros((4,4), dtype=complex)\n",
    "                    _matrix[ri*2+rj, ri*2+rj] = 1\n",
    "                    readout_result = str(rj)+str(ri)\n",
    "                    q1_unitary = cube_faces_unitaries[q1_rotation_name]\n",
    "                    q2_unitary = cube_faces_unitaries[q2_rotation_name]\n",
    "                    unitary = np.asarray(np.reshape(np.einsum('ij,kl->ikjl', q1_unitary, q2_unitary), (4,4)), np.complex)\n",
    "                    \n",
    "                    q1_unitary_pre = cube_faces_unitaries[q1_pre_name]\n",
    "                    q2_unitary_pre = cube_faces_unitaries[q2_pre_name]\n",
    "                    unitary_pre = np.asarray(np.reshape(np.einsum('ij,kl->ikjl', q1_unitary_pre, q2_unitary_pre), (4,4)), np.complex)\n",
    "                    \n",
    "                    initial = np.dot(unitary_pre, np.dot(initial_state, np.conj(unitary_pre).T)).ravel()\n",
    "                    projection = np.dot(np.conj(unitary.T), np.dot(_matrix, unitary)).T.ravel()\n",
    "                    \n",
    "                    superoperator_projection = np.einsum('i,j->ij', projection, initial)\n",
    "                    \n",
    "                    operators[readout_result] = superoperator_projection\n",
    "                    h[0,1+measurement_id] = measurement_results[p1+p2+p3+p4][rj+ri]\n",
    "                    h[1+measurement_id,0] = measurement_results[p1+p2+p3+p4][rj+ri]\n",
    "                    #h superoperation_projection\n",
    "                    measurement_id +=1\n",
    "                #proj_seq[q1_pre_name+q2_pre_name+q1_rotation_name+q2_rotation_name] = \\\n",
    "                #    {'pre_pulses': pulses_pre, 'pulses':pulses, 'operators':operators}\n",
    "\n",
    "single_qubit_chi_basis = np.arange(16)           \n",
    "for i,j in itertools.product(single_qubit_chi_basis, single_qubit_chi_basis):\n",
    "    _matrix = np.zeros((16,16))\n",
    "    _matrix[i,j]=1.\n",
    "    reconstruction_basis[str(i)+','+str(j)] = {'operator': _matrix}\n",
    "\n",
    "#two_qubit_process_tomography = multiqubit_tomography.multiqubit_tomography(multiqubit_state_probabilities,\n",
    "#                                                                          pg, \n",
    "#                                                                          proj_seq,\n",
    "#                                                                          reconstruction_basis)\n",
    "#two_qubit_process_tomography.readout_names = readout_result_order\n",
    "#two_qubit_process_tomography.confusion_matrix = confusion_matrix_elements"
   ]
  },
  {
   "cell_type": "code",
   "execution_count": 4,
   "metadata": {},
   "outputs": [
    {
     "data": {
      "text/plain": [
       "1296"
      ]
     },
     "execution_count": 4,
     "metadata": {},
     "output_type": "execute_result"
    }
   ],
   "source": [
    "len(measurement_results)"
   ]
  },
  {
   "cell_type": "code",
   "execution_count": 7,
   "metadata": {},
   "outputs": [
    {
     "data": {
      "text/plain": [
       "[<1329x1329 matrix, tc='d'>]"
      ]
     },
     "execution_count": 7,
     "metadata": {},
     "output_type": "execute_result"
    }
   ],
   "source": [
    "\n",
    "constraint_matrix_size = 1+len(measurement_results)+chi_dimension*2\n",
    "\n",
    "h = cvxopt.matrix(np.zeros((constraint_matrix_size,constraint_matrix_size)))\n",
    "h[1:1+len(measurement_results), 1:1+len(measurement_results)]=np.identity(len(measurement_results))\n",
    "h = [h]\n",
    "h"
   ]
  },
  {
   "cell_type": "code",
   "execution_count": 19,
   "metadata": {},
   "outputs": [],
   "source": [
    "G = np.zeros((chi_dimension*chi_dimension+1, constraint_matrix_size*constraint_matrix_size))\n",
    "#G = [cvxopt.matrix(G)]\n",
    "G[0,0]=1.\n",
    "G[\n"
   ]
  },
  {
   "cell_type": "code",
   "execution_count": 20,
   "metadata": {},
   "outputs": [
    {
     "data": {
      "text/plain": [
       "[<257x1723969 matrix, tc='d'>]"
      ]
     },
     "execution_count": 20,
     "metadata": {},
     "output_type": "execute_result"
    }
   ],
   "source": [
    "G"
   ]
  },
  {
   "cell_type": "code",
   "execution_count": null,
   "metadata": {},
   "outputs": [],
   "source": [
    "#generate two (arbitrary) positive hermitian operators\n",
    "P = cvx.matrix([ [1-1j , 2+2j  , 1    ],\n",
    "                 [3j   , -2j   , -1-1j],\n",
    "                 [1+2j, -0.5+1j, 1.5  ]\n",
    "                ])\n",
    "P = P * P.H\n",
    "\n",
    "Q = cvx.matrix([ [-1-2j , 2j   , 1.5   ],\n",
    "                 [1+2j  ,-2j   , 2.-3j ],\n",
    "                 [1+2j  ,-1+1j , 1+4j  ]\n",
    "                ])\n",
    "Q = Q * Q.H\n",
    "\n",
    "n=P.size[0]\n",
    "P = pic.new_param('P',P)\n",
    "Q = pic.new_param('Q',Q)\n",
    "\n",
    "#create the problem in picos\n",
    "\n",
    "F = pic.Problem()\n",
    "Z = F.add_variable('Z',(n,n),'complex')\n",
    "\n",
    "F.set_objective('max','I'|0.5*(Z+Z.H))       #('I' | Z.real) works as well\n",
    "F.add_constraint(((P & Z) // (Z.H & Q))>>0 )\n",
    "\n",
    "print(F)\n",
    "\n",
    "F.solve(verbose = 0, solver = 'cvxopt')\n",
    "\n",
    "print('fidelity: F(P,Q) = {0:.4f}'.format(F.obj_value()))\n",
    "\n",
    "print('optimal matrix Z:')\n",
    "print(Z)"
   ]
  },
  {
   "cell_type": "code",
   "execution_count": 12,
   "metadata": {},
   "outputs": [
    {
     "data": {
      "text/plain": [
       "Variable((16, 16), hermitian=True)"
      ]
     },
     "execution_count": 12,
     "metadata": {},
     "output_type": "execute_result"
    }
   ],
   "source": [
    "x = cvxpy.Variable((chi_dimension,chi_dimension), hermitian=True)\n",
    "x"
   ]
  },
  {
   "cell_type": "code",
   "execution_count": 7,
   "metadata": {},
   "outputs": [],
   "source": [
    "cvxpy.Variable?"
   ]
  },
  {
   "cell_type": "code",
   "execution_count": null,
   "metadata": {},
   "outputs": [],
   "source": [
    "# Entropy maximization.\n",
    "x = cvx.Variable(shape=(chi_dimension,chi_dimension), PSD=True, complex=True, hermitian=True)\n",
    "obj = cvx.Maximize(cvx.sum(cvx.entr(x)))\n",
    "constraints = [A*x == b,\n",
    "               F*x <= g ]\n",
    "prob = cvx.Problem(obj, constraints)\n",
    "prob.solve(solver=cvx.CVXOPT, verbose=True)\n",
    "\n",
    "# Print result.\n",
    "print \"\\nThe optimal value is:\", prob.value\n",
    "print '\\nThe optimal solution is:'\n",
    "print x.value"
   ]
  },
  {
   "cell_type": "code",
   "execution_count": null,
   "metadata": {},
   "outputs": [],
   "source": []
  }
 ],
 "metadata": {
  "kernelspec": {
   "display_name": "Python 3",
   "language": "python",
   "name": "python3"
  },
  "language_info": {
   "codemirror_mode": {
    "name": "ipython",
    "version": 3
   },
   "file_extension": ".py",
   "mimetype": "text/x-python",
   "name": "python",
   "nbconvert_exporter": "python",
   "pygments_lexer": "ipython3",
   "version": "3.6.5"
  },
  "toc": {
   "base_numbering": 1,
   "nav_menu": {},
   "number_sections": true,
   "sideBar": true,
   "skip_h1_title": false,
   "title_cell": "Table of Contents",
   "title_sidebar": "Contents",
   "toc_cell": false,
   "toc_position": {},
   "toc_section_display": true,
   "toc_window_display": false
  }
 },
 "nbformat": 4,
 "nbformat_minor": 2
}
