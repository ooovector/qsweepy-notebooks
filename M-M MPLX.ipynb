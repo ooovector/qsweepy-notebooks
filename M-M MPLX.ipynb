{
 "cells": [
  {
   "cell_type": "markdown",
   "metadata": {},
   "source": [
    "### Запуск QtLab"
   ]
  },
  {
   "cell_type": "code",
   "execution_count": 4,
   "metadata": {
    "collapsed": true,
    "scrolled": true
   },
   "outputs": [],
   "source": [
    "%run D:\\qtlab_replacement\\init.py\n",
    "%matplotlib qt4\n",
    "import matplotlib.pyplot as plt\n",
    "from instruments import *\n",
    "import numpy as np\n",
    "import sweep\n",
    "from save_pkl import *\n",
    "import visa"
   ]
  },
  {
   "cell_type": "code",
   "execution_count": 5,
   "metadata": {
    "collapsed": true
   },
   "outputs": [],
   "source": [
    "from resonator_tools import circuit"
   ]
  },
  {
   "cell_type": "code",
   "execution_count": 6,
   "metadata": {
    "collapsed": true
   },
   "outputs": [],
   "source": [
    "import pylab\n",
    "from mpl_toolkits.mplot3d import Axes3D\n",
    "from matplotlib.colors import LinearSegmentedColormap\n",
    "import numpy as np\n",
    "\n",
    "import matplotlib.pyplot as plt\n",
    "import matplotlib.cm as cm\n",
    "import pickle\n",
    "\n",
    "import numpy as np\n",
    "#%matplotlib inline\n",
    "from matplotlib import pyplot as plt\n",
    "import matplotlib.ticker"
   ]
  },
  {
   "cell_type": "code",
   "execution_count": null,
   "metadata": {
    "collapsed": true
   },
   "outputs": [],
   "source": []
  },
  {
   "cell_type": "markdown",
   "metadata": {},
   "source": [
    "# Спектроскопия"
   ]
  },
  {
   "cell_type": "code",
   "execution_count": 8,
   "metadata": {},
   "outputs": [],
   "source": [
    "current_src = Yokogawa_GS210(address='gs210')\n",
    "#current = Yokogawa_GS210(address='gs210')\n",
    "pna = Agilent_N5242A('pna', address = 'PNA')\n",
    "#lo1 = Agilent_E8257D('lo1', address = 'PSG1')"
   ]
  },
  {
   "cell_type": "code",
   "execution_count": 9,
   "metadata": {},
   "outputs": [
    {
     "data": {
      "text/plain": [
       "True"
      ]
     },
     "execution_count": 9,
     "metadata": {},
     "output_type": "execute_result"
    }
   ],
   "source": [
    "# векторный анализатор в режим линейного свипа\n",
    "pna.set_sweep_mode(\"LIN\")"
   ]
  },
  {
   "cell_type": "markdown",
   "metadata": {},
   "source": [
    "## Резонаторная спектроскопия"
   ]
  },
  {
   "cell_type": "code",
   "execution_count": 28,
   "metadata": {},
   "outputs": [
    {
     "data": {
      "text/plain": [
       "True"
      ]
     },
     "execution_count": 28,
     "metadata": {},
     "output_type": "execute_result"
    }
   ],
   "source": [
    "current_src.set_current(100e-6)\n",
    "pna.set_power(-40)"
   ]
  },
  {
   "cell_type": "code",
   "execution_count": 13,
   "metadata": {},
   "outputs": [
    {
     "data": {
      "text/plain": [
       "True"
      ]
     },
     "execution_count": 13,
     "metadata": {},
     "output_type": "execute_result"
    }
   ],
   "source": [
    "current_src.set_status(1)"
   ]
  },
  {
   "cell_type": "code",
   "execution_count": 14,
   "metadata": {
    "collapsed": true
   },
   "outputs": [],
   "source": [
    "pna.set_autoscale()"
   ]
  },
  {
   "cell_type": "code",
   "execution_count": 56,
   "metadata": {},
   "outputs": [
    {
     "data": {
      "text/plain": [
       "True"
      ]
     },
     "execution_count": 56,
     "metadata": {},
     "output_type": "execute_result"
    }
   ],
   "source": [
    "pna.set_xlim(3.8e9, 12e9)\n",
    "pna.set_bandwidth(100)\n",
    "pna.set_averages(1)\n",
    "pna.set_nop(3001)\n",
    "pna.set_power(-70)"
   ]
  },
  {
   "cell_type": "code",
   "execution_count": null,
   "metadata": {
    "collapsed": true
   },
   "outputs": [],
   "source": []
  },
  {
   "cell_type": "code",
   "execution_count": 57,
   "metadata": {},
   "outputs": [
    {
     "name": "stderr",
     "output_type": "stream",
     "text": [
      "c:\\python36\\lib\\site-packages\\matplotlib\\backend_bases.py:2445: MatplotlibDeprecationWarning: Using default event loop until function specific to this GUI is implemented\n",
      "  warnings.warn(str, mplDeprecation)\n"
     ]
    },
    {
     "data": {
      "text/plain": [
       "[<matplotlib.lines.Line2D at 0xf2e2c50>]"
      ]
     },
     "execution_count": 57,
     "metadata": {},
     "output_type": "execute_result"
    }
   ],
   "source": [
    "res_data = pna.get_tracedata()\n",
    "res_freqs = pna.get_freqpoints()\n",
    "plt.figure(\"S21_amp\")\n",
    "plt.plot(res_freqs, 20*np.log10(res_data[0]))\n",
    "plt.figure(\"S21_ph\")\n",
    "plt.plot(res_freqs, res_data[1])\n",
    "#save_pkl_noplt('res_pna_', {\"Amp\": res_data[0] , \"Ph\": res_data[1], \"freqs\": res_freqs } )"
   ]
  },
  {
   "cell_type": "code",
   "execution_count": 65,
   "metadata": {},
   "outputs": [
    {
     "name": "stdout",
     "output_type": "stream",
     "text": [
      "Started at:  Jul 04 2017 01:48:19\n"
     ]
    },
    {
     "name": "stderr",
     "output_type": "stream",
     "text": [
      "c:\\python36\\lib\\site-packages\\matplotlib\\backend_bases.py:2445: MatplotlibDeprecationWarning: Using default event loop until function specific to this GUI is implemented\n",
      "  warnings.warn(str, mplDeprecation)\n"
     ]
    },
    {
     "name": "stdout",
     "output_type": "stream",
     "text": [
      "Time left: 0 h 0 m 0.0 s,\tparameter values: Bias Coil current: 0.0001,\taverage cycle time:   44s\t 44s\t\t\t\n",
      "Elapsed time: 5 h 31 m 21.56 s\n"
     ]
    },
    {
     "data": {
      "text/plain": [
       "{'S-parameter': (('Bias Coil current', 'Frequency'),\n",
       "  (array([ -7.00000000e-04,  -6.98222222e-04,  -6.96444444e-04,\n",
       "           -6.94666667e-04,  -6.92888889e-04,  -6.91111111e-04,\n",
       "           -6.89333333e-04,  -6.87555556e-04,  -6.85777778e-04,\n",
       "           -6.84000000e-04,  -6.82222222e-04,  -6.80444444e-04,\n",
       "           -6.78666667e-04,  -6.76888889e-04,  -6.75111111e-04,\n",
       "           -6.73333333e-04,  -6.71555556e-04,  -6.69777778e-04,\n",
       "           -6.68000000e-04,  -6.66222222e-04,  -6.64444444e-04,\n",
       "           -6.62666667e-04,  -6.60888889e-04,  -6.59111111e-04,\n",
       "           -6.57333333e-04,  -6.55555556e-04,  -6.53777778e-04,\n",
       "           -6.52000000e-04,  -6.50222222e-04,  -6.48444444e-04,\n",
       "           -6.46666667e-04,  -6.44888889e-04,  -6.43111111e-04,\n",
       "           -6.41333333e-04,  -6.39555556e-04,  -6.37777778e-04,\n",
       "           -6.36000000e-04,  -6.34222222e-04,  -6.32444444e-04,\n",
       "           -6.30666667e-04,  -6.28888889e-04,  -6.27111111e-04,\n",
       "           -6.25333333e-04,  -6.23555556e-04,  -6.21777778e-04,\n",
       "           -6.20000000e-04,  -6.18222222e-04,  -6.16444444e-04,\n",
       "           -6.14666667e-04,  -6.12888889e-04,  -6.11111111e-04,\n",
       "           -6.09333333e-04,  -6.07555556e-04,  -6.05777778e-04,\n",
       "           -6.04000000e-04,  -6.02222222e-04,  -6.00444444e-04,\n",
       "           -5.98666667e-04,  -5.96888889e-04,  -5.95111111e-04,\n",
       "           -5.93333333e-04,  -5.91555556e-04,  -5.89777778e-04,\n",
       "           -5.88000000e-04,  -5.86222222e-04,  -5.84444444e-04,\n",
       "           -5.82666667e-04,  -5.80888889e-04,  -5.79111111e-04,\n",
       "           -5.77333333e-04,  -5.75555556e-04,  -5.73777778e-04,\n",
       "           -5.72000000e-04,  -5.70222222e-04,  -5.68444444e-04,\n",
       "           -5.66666667e-04,  -5.64888889e-04,  -5.63111111e-04,\n",
       "           -5.61333333e-04,  -5.59555556e-04,  -5.57777778e-04,\n",
       "           -5.56000000e-04,  -5.54222222e-04,  -5.52444444e-04,\n",
       "           -5.50666667e-04,  -5.48888889e-04,  -5.47111111e-04,\n",
       "           -5.45333333e-04,  -5.43555556e-04,  -5.41777778e-04,\n",
       "           -5.40000000e-04,  -5.38222222e-04,  -5.36444444e-04,\n",
       "           -5.34666667e-04,  -5.32888889e-04,  -5.31111111e-04,\n",
       "           -5.29333333e-04,  -5.27555556e-04,  -5.25777778e-04,\n",
       "           -5.24000000e-04,  -5.22222222e-04,  -5.20444444e-04,\n",
       "           -5.18666667e-04,  -5.16888889e-04,  -5.15111111e-04,\n",
       "           -5.13333333e-04,  -5.11555556e-04,  -5.09777778e-04,\n",
       "           -5.08000000e-04,  -5.06222222e-04,  -5.04444444e-04,\n",
       "           -5.02666667e-04,  -5.00888889e-04,  -4.99111111e-04,\n",
       "           -4.97333333e-04,  -4.95555556e-04,  -4.93777778e-04,\n",
       "           -4.92000000e-04,  -4.90222222e-04,  -4.88444444e-04,\n",
       "           -4.86666667e-04,  -4.84888889e-04,  -4.83111111e-04,\n",
       "           -4.81333333e-04,  -4.79555556e-04,  -4.77777778e-04,\n",
       "           -4.76000000e-04,  -4.74222222e-04,  -4.72444444e-04,\n",
       "           -4.70666667e-04,  -4.68888889e-04,  -4.67111111e-04,\n",
       "           -4.65333333e-04,  -4.63555556e-04,  -4.61777778e-04,\n",
       "           -4.60000000e-04,  -4.58222222e-04,  -4.56444444e-04,\n",
       "           -4.54666667e-04,  -4.52888889e-04,  -4.51111111e-04,\n",
       "           -4.49333333e-04,  -4.47555556e-04,  -4.45777778e-04,\n",
       "           -4.44000000e-04,  -4.42222222e-04,  -4.40444444e-04,\n",
       "           -4.38666667e-04,  -4.36888889e-04,  -4.35111111e-04,\n",
       "           -4.33333333e-04,  -4.31555556e-04,  -4.29777778e-04,\n",
       "           -4.28000000e-04,  -4.26222222e-04,  -4.24444444e-04,\n",
       "           -4.22666667e-04,  -4.20888889e-04,  -4.19111111e-04,\n",
       "           -4.17333333e-04,  -4.15555556e-04,  -4.13777778e-04,\n",
       "           -4.12000000e-04,  -4.10222222e-04,  -4.08444444e-04,\n",
       "           -4.06666667e-04,  -4.04888889e-04,  -4.03111111e-04,\n",
       "           -4.01333333e-04,  -3.99555556e-04,  -3.97777778e-04,\n",
       "           -3.96000000e-04,  -3.94222222e-04,  -3.92444444e-04,\n",
       "           -3.90666667e-04,  -3.88888889e-04,  -3.87111111e-04,\n",
       "           -3.85333333e-04,  -3.83555556e-04,  -3.81777778e-04,\n",
       "           -3.80000000e-04,  -3.78222222e-04,  -3.76444444e-04,\n",
       "           -3.74666667e-04,  -3.72888889e-04,  -3.71111111e-04,\n",
       "           -3.69333333e-04,  -3.67555556e-04,  -3.65777778e-04,\n",
       "           -3.64000000e-04,  -3.62222222e-04,  -3.60444444e-04,\n",
       "           -3.58666667e-04,  -3.56888889e-04,  -3.55111111e-04,\n",
       "           -3.53333333e-04,  -3.51555556e-04,  -3.49777778e-04,\n",
       "           -3.48000000e-04,  -3.46222222e-04,  -3.44444444e-04,\n",
       "           -3.42666667e-04,  -3.40888889e-04,  -3.39111111e-04,\n",
       "           -3.37333333e-04,  -3.35555556e-04,  -3.33777778e-04,\n",
       "           -3.32000000e-04,  -3.30222222e-04,  -3.28444444e-04,\n",
       "           -3.26666667e-04,  -3.24888889e-04,  -3.23111111e-04,\n",
       "           -3.21333333e-04,  -3.19555556e-04,  -3.17777778e-04,\n",
       "           -3.16000000e-04,  -3.14222222e-04,  -3.12444444e-04,\n",
       "           -3.10666667e-04,  -3.08888889e-04,  -3.07111111e-04,\n",
       "           -3.05333333e-04,  -3.03555556e-04,  -3.01777778e-04,\n",
       "           -3.00000000e-04,  -2.98222222e-04,  -2.96444444e-04,\n",
       "           -2.94666667e-04,  -2.92888889e-04,  -2.91111111e-04,\n",
       "           -2.89333333e-04,  -2.87555556e-04,  -2.85777778e-04,\n",
       "           -2.84000000e-04,  -2.82222222e-04,  -2.80444444e-04,\n",
       "           -2.78666667e-04,  -2.76888889e-04,  -2.75111111e-04,\n",
       "           -2.73333333e-04,  -2.71555556e-04,  -2.69777778e-04,\n",
       "           -2.68000000e-04,  -2.66222222e-04,  -2.64444444e-04,\n",
       "           -2.62666667e-04,  -2.60888889e-04,  -2.59111111e-04,\n",
       "           -2.57333333e-04,  -2.55555556e-04,  -2.53777778e-04,\n",
       "           -2.52000000e-04,  -2.50222222e-04,  -2.48444444e-04,\n",
       "           -2.46666667e-04,  -2.44888889e-04,  -2.43111111e-04,\n",
       "           -2.41333333e-04,  -2.39555556e-04,  -2.37777778e-04,\n",
       "           -2.36000000e-04,  -2.34222222e-04,  -2.32444444e-04,\n",
       "           -2.30666667e-04,  -2.28888889e-04,  -2.27111111e-04,\n",
       "           -2.25333333e-04,  -2.23555556e-04,  -2.21777778e-04,\n",
       "           -2.20000000e-04,  -2.18222222e-04,  -2.16444444e-04,\n",
       "           -2.14666667e-04,  -2.12888889e-04,  -2.11111111e-04,\n",
       "           -2.09333333e-04,  -2.07555556e-04,  -2.05777778e-04,\n",
       "           -2.04000000e-04,  -2.02222222e-04,  -2.00444444e-04,\n",
       "           -1.98666667e-04,  -1.96888889e-04,  -1.95111111e-04,\n",
       "           -1.93333333e-04,  -1.91555556e-04,  -1.89777778e-04,\n",
       "           -1.88000000e-04,  -1.86222222e-04,  -1.84444444e-04,\n",
       "           -1.82666667e-04,  -1.80888889e-04,  -1.79111111e-04,\n",
       "           -1.77333333e-04,  -1.75555556e-04,  -1.73777778e-04,\n",
       "           -1.72000000e-04,  -1.70222222e-04,  -1.68444444e-04,\n",
       "           -1.66666667e-04,  -1.64888889e-04,  -1.63111111e-04,\n",
       "           -1.61333333e-04,  -1.59555556e-04,  -1.57777778e-04,\n",
       "           -1.56000000e-04,  -1.54222222e-04,  -1.52444444e-04,\n",
       "           -1.50666667e-04,  -1.48888889e-04,  -1.47111111e-04,\n",
       "           -1.45333333e-04,  -1.43555556e-04,  -1.41777778e-04,\n",
       "           -1.40000000e-04,  -1.38222222e-04,  -1.36444444e-04,\n",
       "           -1.34666667e-04,  -1.32888889e-04,  -1.31111111e-04,\n",
       "           -1.29333333e-04,  -1.27555556e-04,  -1.25777778e-04,\n",
       "           -1.24000000e-04,  -1.22222222e-04,  -1.20444444e-04,\n",
       "           -1.18666667e-04,  -1.16888889e-04,  -1.15111111e-04,\n",
       "           -1.13333333e-04,  -1.11555556e-04,  -1.09777778e-04,\n",
       "           -1.08000000e-04,  -1.06222222e-04,  -1.04444444e-04,\n",
       "           -1.02666667e-04,  -1.00888889e-04,  -9.91111111e-05,\n",
       "           -9.73333333e-05,  -9.55555556e-05,  -9.37777778e-05,\n",
       "           -9.20000000e-05,  -9.02222222e-05,  -8.84444444e-05,\n",
       "           -8.66666667e-05,  -8.48888889e-05,  -8.31111111e-05,\n",
       "           -8.13333333e-05,  -7.95555556e-05,  -7.77777778e-05,\n",
       "           -7.60000000e-05,  -7.42222222e-05,  -7.24444444e-05,\n",
       "           -7.06666667e-05,  -6.88888889e-05,  -6.71111111e-05,\n",
       "           -6.53333333e-05,  -6.35555556e-05,  -6.17777778e-05,\n",
       "           -6.00000000e-05,  -5.82222222e-05,  -5.64444444e-05,\n",
       "           -5.46666667e-05,  -5.28888889e-05,  -5.11111111e-05,\n",
       "           -4.93333333e-05,  -4.75555556e-05,  -4.57777778e-05,\n",
       "           -4.40000000e-05,  -4.22222222e-05,  -4.04444444e-05,\n",
       "           -3.86666667e-05,  -3.68888889e-05,  -3.51111111e-05,\n",
       "           -3.33333333e-05,  -3.15555556e-05,  -2.97777778e-05,\n",
       "           -2.80000000e-05,  -2.62222222e-05,  -2.44444444e-05,\n",
       "           -2.26666667e-05,  -2.08888889e-05,  -1.91111111e-05,\n",
       "           -1.73333333e-05,  -1.55555556e-05,  -1.37777778e-05,\n",
       "           -1.20000000e-05,  -1.02222222e-05,  -8.44444444e-06,\n",
       "           -6.66666667e-06,  -4.88888889e-06,  -3.11111111e-06,\n",
       "           -1.33333333e-06,   4.44444444e-07,   2.22222222e-06,\n",
       "            4.00000000e-06,   5.77777778e-06,   7.55555556e-06,\n",
       "            9.33333333e-06,   1.11111111e-05,   1.28888889e-05,\n",
       "            1.46666667e-05,   1.64444444e-05,   1.82222222e-05,\n",
       "            2.00000000e-05,   2.17777778e-05,   2.35555556e-05,\n",
       "            2.53333333e-05,   2.71111111e-05,   2.88888889e-05,\n",
       "            3.06666667e-05,   3.24444444e-05,   3.42222222e-05,\n",
       "            3.60000000e-05,   3.77777778e-05,   3.95555556e-05,\n",
       "            4.13333333e-05,   4.31111111e-05,   4.48888889e-05,\n",
       "            4.66666667e-05,   4.84444444e-05,   5.02222222e-05,\n",
       "            5.20000000e-05,   5.37777778e-05,   5.55555556e-05,\n",
       "            5.73333333e-05,   5.91111111e-05,   6.08888889e-05,\n",
       "            6.26666667e-05,   6.44444444e-05,   6.62222222e-05,\n",
       "            6.80000000e-05,   6.97777778e-05,   7.15555556e-05,\n",
       "            7.33333333e-05,   7.51111111e-05,   7.68888889e-05,\n",
       "            7.86666667e-05,   8.04444444e-05,   8.22222222e-05,\n",
       "            8.40000000e-05,   8.57777778e-05,   8.75555556e-05,\n",
       "            8.93333333e-05,   9.11111111e-05,   9.28888889e-05,\n",
       "            9.46666667e-05,   9.64444444e-05,   9.82222222e-05,\n",
       "            1.00000000e-04]),\n",
       "   array([  8.00000000e+09,   8.00200000e+09,   8.00400000e+09, ...,\n",
       "            1.04960000e+10,   1.04980000e+10,   1.05000000e+10])),\n",
       "  array([[-0.21307257-0.1575512j , -0.25881246-0.02062379j,\n",
       "          -0.23784390+0.11659899j, ...,  0.01604449+0.18170957j,\n",
       "           0.10079095+0.15015447j,  0.16533771+0.07408085j],\n",
       "         [-0.21603604-0.15407698j, -0.26080790-0.03834251j,\n",
       "          -0.23728393+0.11986302j, ...,  0.00376248+0.18838035j,\n",
       "           0.11724646+0.15075509j,  0.17459427+0.07077656j],\n",
       "         [-0.21524017-0.15597391j, -0.26028523-0.02701764j,\n",
       "          -0.24053560+0.11147633j, ...,  0.01511941+0.18046339j,\n",
       "           0.11219517+0.15907523j,  0.17174758+0.06895422j],\n",
       "         ..., \n",
       "         [-0.21137476-0.15209708j, -0.26133794-0.01886057j,\n",
       "          -0.23249131+0.11265976j, ...,  0.00696563+0.18543041j,\n",
       "           0.11358914+0.14071788j,  0.17217971+0.07517915j],\n",
       "         [-0.21940172-0.15347134j, -0.26366150-0.02645708j,\n",
       "          -0.23758206+0.11604085j, ...,  0.00783470+0.18762217j,\n",
       "           0.09910853+0.15107204j,  0.17078714+0.08066601j],\n",
       "         [-0.21604373-0.16211087j, -0.25968137-0.02599674j,\n",
       "          -0.22952631+0.11053681j, ...,  0.01129283+0.18528391j,\n",
       "           0.11177209+0.15397617j,  0.16506295+0.08060533j]]),\n",
       "  {'log': 20})}"
      ]
     },
     "execution_count": 65,
     "metadata": {},
     "output_type": "execute_result"
    }
   ],
   "source": [
    "currents = np.linspace(-700e-6, 100e-6, 451)\n",
    "pna.set_xlim(8e9, 10.5e9)\n",
    "pna.set_bandwidth(30)\n",
    "pna.set_averages(2)\n",
    "pna.set_nop(1251)\n",
    "pna.set_power(-70)\n",
    "sweep.sweep(pna, (currents, current_src.set_current, 'Bias Coil current'), filename='M-M MLPX_2 8-10.5GHz_mode_anticross_-70dB')"
   ]
  },
  {
   "cell_type": "code",
   "execution_count": null,
   "metadata": {
    "collapsed": true
   },
   "outputs": [],
   "source": []
  },
  {
   "cell_type": "code",
   "execution_count": null,
   "metadata": {
    "collapsed": true
   },
   "outputs": [],
   "source": []
  },
  {
   "cell_type": "code",
   "execution_count": null,
   "metadata": {
    "collapsed": true
   },
   "outputs": [],
   "source": []
  },
  {
   "cell_type": "markdown",
   "metadata": {},
   "source": [
    "## Кубитная спектроскопия"
   ]
  },
  {
   "cell_type": "code",
   "execution_count": 5,
   "metadata": {},
   "outputs": [
    {
     "ename": "NameError",
     "evalue": "name 'lo1' is not defined",
     "output_type": "error",
     "traceback": [
      "\u001b[1;31m---------------------------------------------------------------------------\u001b[0m",
      "\u001b[1;31mNameError\u001b[0m                                 Traceback (most recent call last)",
      "\u001b[1;32m<ipython-input-5-c541778d87d9>\u001b[0m in \u001b[0;36m<module>\u001b[1;34m()\u001b[0m\n\u001b[0;32m      9\u001b[0m \u001b[0mpna\u001b[0m\u001b[1;33m.\u001b[0m\u001b[0mset_bandwidth\u001b[0m\u001b[1;33m(\u001b[0m\u001b[1;36m5\u001b[0m\u001b[1;33m)\u001b[0m\u001b[1;33m\u001b[0m\u001b[0m\n\u001b[0;32m     10\u001b[0m \u001b[1;33m\u001b[0m\u001b[0m\n\u001b[1;32m---> 11\u001b[1;33m \u001b[0mlo1\u001b[0m\u001b[1;33m.\u001b[0m\u001b[0mset_power\u001b[0m\u001b[1;33m(\u001b[0m\u001b[0mQubits\u001b[0m\u001b[1;33m[\u001b[0m\u001b[0mq_id\u001b[0m\u001b[1;33m]\u001b[0m\u001b[1;33m[\u001b[0m\u001b[1;34m'Pex'\u001b[0m\u001b[1;33m]\u001b[0m\u001b[1;33m)\u001b[0m\u001b[1;33m\u001b[0m\u001b[0m\n\u001b[0m\u001b[0;32m     12\u001b[0m \u001b[0mlo1\u001b[0m\u001b[1;33m.\u001b[0m\u001b[0mset_status\u001b[0m\u001b[1;33m(\u001b[0m\u001b[1;36m1\u001b[0m\u001b[1;33m)\u001b[0m\u001b[1;33m\u001b[0m\u001b[0m\n",
      "\u001b[1;31mNameError\u001b[0m: name 'lo1' is not defined"
     ]
    }
   ],
   "source": [
    "#Кубит\n",
    "q_id = 1\n",
    "\n",
    "pna.set_average(0)\n",
    "pna.set_averages(1)\n",
    "pna.set_power(Qubits[q_id]['P'])\n",
    "pna.set_nop(1)\n",
    "pna.set_centerfreq(Qubits[q_id]['Fr'])\n",
    "pna.set_bandwidth(5)\n",
    "\n",
    "lo1.set_power(Qubits[q_id]['Pex'])\n",
    "lo1.set_status(1)"
   ]
  },
  {
   "cell_type": "markdown",
   "metadata": {},
   "source": [
    "### 1D скан при фиксированной мощности"
   ]
  },
  {
   "cell_type": "code",
   "execution_count": 11,
   "metadata": {
    "scrolled": true
   },
   "outputs": [
    {
     "name": "stdout",
     "output_type": "stream",
     "text": [
      "Started at:  Jun 28 2017 20:13:50\n"
     ]
    },
    {
     "name": "stderr",
     "output_type": "stream",
     "text": [
      "c:\\python36\\lib\\site-packages\\matplotlib\\backend_bases.py:2445: MatplotlibDeprecationWarning: Using default event loop until function specific to this GUI is implemented\n",
      "  warnings.warn(str, mplDeprecation)\n"
     ]
    },
    {
     "name": "stdout",
     "output_type": "stream",
     "text": [
      "Time left: 0 h 0 m 0.0 s,\tparameter values: Second tone freq: 6.999e+09,\taverage cycle time: 0.47s\t\t\t\n",
      "Elapsed time: 0 h 3 m 57.02 s\n"
     ]
    }
   ],
   "source": [
    "#Измерение\n",
    "ex_freqs = np.arange(6.5e9, 7.0e9, 1e6)\n",
    "pna.set_power (-50)\n",
    "\n",
    "header = '''#Parameter = Ex frequency\n",
    "#Ex power = {:f}'''\n",
    "try:\n",
    "    ex1D = sweep.sweep(pna, (ex_freqs, lo1.set_frequency, 'Second tone freq'), filename = \"ex_{:.1f}dBm\".format(lo1.get_power()))\n",
    "except KeyboardInterrupt: pass "
   ]
  },
  {
   "cell_type": "markdown",
   "metadata": {},
   "source": [
    "### 2D скан (мощность второго тона, частота второго тона)"
   ]
  },
  {
   "cell_type": "code",
   "execution_count": 8,
   "metadata": {},
   "outputs": [
    {
     "name": "stdout",
     "output_type": "stream",
     "text": [
      "Started at:  Apr 25 2017 17:16:14\n"
     ]
    },
    {
     "name": "stderr",
     "output_type": "stream",
     "text": [
      "c:\\python36\\lib\\site-packages\\matplotlib\\backend_bases.py:2445: MatplotlibDeprecationWarning: Using default event loop until function specific to this GUI is implemented\n",
      "  warnings.warn(str, mplDeprecation)\n"
     ]
    },
    {
     "name": "stdout",
     "output_type": "stream",
     "text": [
      "Time left: 0 h 0 m 0.0 s,\tparameter values: Second tone power:     14,\tSecond tone freq: 6.99e+09,\taverage cycle time: 0.42s\t\t\t\t\n",
      "Elapsed time: 0 h 37 m 4.85 s\n"
     ]
    },
    {
     "data": {
      "text/plain": [
       "True"
      ]
     },
     "execution_count": 8,
     "metadata": {},
     "output_type": "execute_result"
    }
   ],
   "source": [
    "ex_freqs = np.arange(5.5e9, 7e9, 10e6)\n",
    "ex_powers = np.arange(-20, 15, 1)\n",
    "\n",
    "pna.set_power(-50)\n",
    "pna.set_bandwidth(10)\n",
    "#lo1.set_power(-20)\n",
    "\n",
    "header = '''#Parameter =\n",
    "#Ro power = {:f}'''.format( pna.get_power() )\n",
    "\n",
    "lo1.set_status(1)\n",
    "#ps.S21vs2DPar(pna, currents, current.set_current, ex_freqs, lo1.set_frequency, filename = \"#2{:.1f}dBm\".format(lo1.get_power()),\\\n",
    "#           header = header)\n",
    "ex2D = sweep.sweep(pna, (ex_powers, lo1.set_power, 'Second tone power'), (ex_freqs, lo1.set_frequency, 'Second tone freq'), filename = \"#2{:.1f}dBm\".format(pna.get_power()),\\\n",
    "           header = header)\n",
    "lo1.set_status(0)"
   ]
  },
  {
   "cell_type": "markdown",
   "metadata": {},
   "source": [
    "# Импульсы"
   ]
  },
  {
   "cell_type": "markdown",
   "metadata": {},
   "source": [
    "### Создаём девайсы"
   ]
  },
  {
   "cell_type": "code",
   "execution_count": 6,
   "metadata": {},
   "outputs": [
    {
     "name": "stderr",
     "output_type": "stream",
     "text": [
      "root: WARNING  Tektronix_AWG5014 : get all not yet fully functional\n"
     ]
    }
   ],
   "source": [
    "#if not ('pna' in locals()): pna = Agilent_N5242A('pna', address = 'PNA')\n",
    "#if not ('lo1' in locals()): lo1 = Agilent_E8257D('lo1', address = 'PSG1')\n",
    "sa = Agilent_N9030A('pxa', address = 'PXA')\n",
    "#sa = Signal_Hound_SA(name='SA124', serial=61660066)\n",
    "#lo_ex = Labbrick(name='lo_ex', serial=15249)\n",
    "lo_ex = pna\n",
    "lo_ro = Labbrick(name='lo_ro', serial=15257)\n",
    "awg_tek = Tektronix_AWG5014('awg_tek', address = 'TCPIP0::10.20.61.186::inst0::INSTR')\n",
    "adc = Spectrum_M3i2132('adc')"
   ]
  },
  {
   "cell_type": "markdown",
   "metadata": {},
   "source": [
    "### Загружаем импульсные скрипты всякие"
   ]
  },
  {
   "cell_type": "code",
   "execution_count": 7,
   "metadata": {},
   "outputs": [
    {
     "data": {
      "text/plain": [
       "<module 'sweep' from 'D:\\\\qtlab_replacement\\\\scripts\\\\sweep.py'>"
      ]
     },
     "execution_count": 7,
     "metadata": {},
     "output_type": "execute_result"
    }
   ],
   "source": [
    "import awg_digital\n",
    "import awg_iq\n",
    "import data_reduce\n",
    "import imp\n",
    "import fitting\n",
    "import plotting\n",
    "import save_pkl\n",
    "import tomography as tomography_new\n",
    "import tomography_legacy as tomography\n",
    "import sweep\n",
    "imp.reload(awg_digital)\n",
    "imp.reload(awg_iq)\n",
    "imp.reload(data_reduce)\n",
    "imp.reload(fitting)\n",
    "imp.reload(plotting)\n",
    "imp.reload(save_pkl)\n",
    "imp.reload(tomography)\n",
    "imp.reload(tomography_new)\n",
    "imp.reload(sweep)"
   ]
  },
  {
   "cell_type": "markdown",
   "metadata": {},
   "source": [
    "### Осцилляторы"
   ]
  },
  {
   "cell_type": "code",
   "execution_count": 8,
   "metadata": {},
   "outputs": [
    {
     "data": {
      "text/plain": [
       "True"
      ]
     },
     "execution_count": 8,
     "metadata": {},
     "output_type": "execute_result"
    }
   ],
   "source": [
    "# Источник тока - в autorange\n",
    "#current.set_autorange(1)\n",
    "#Мощности гетеродинов, постоянные\n",
    "#Мощность гетеродина для возбуждения 13-16 дБм\n",
    "#lo_ex_pow = 14\n",
    "lo_ex_pow = 10\n",
    "#lo_ex = lo1\n",
    "#lo_ex.set_status(1)\n",
    "#lo_ex.set_power(lo_ex_pow)\n",
    "#pna как lo2 (excitation)\n",
    "#Port1 - выход\n",
    "#Мощность гетеродина для считывания 10-13 дБм, с учётом разветвителя 13-16 dBm\n",
    "lo_ro_pow = 10\n",
    "lo_ro.set_power(lo_ro_pow)\n",
    "\n",
    "lo_ex_pow = 16\n",
    "lo_ex = pna\n",
    "pna.write(\"OUTP ON\")\n",
    "pna.write(\"SOUR1:POW1:MODE ON\")\n",
    "pna.write(\"SOUR1:POW2:MODE OFF\")\n",
    "pna.set_sweep_mode(\"CW\")\n",
    "lo_ex.set_power(lo_ex_pow)"
   ]
  },
  {
   "cell_type": "markdown",
   "metadata": {},
   "source": [
    "### AWGшки"
   ]
  },
  {
   "cell_type": "code",
   "execution_count": 9,
   "metadata": {},
   "outputs": [
    {
     "name": "stderr",
     "output_type": "stream",
     "text": [
      "root: WARNING  Tektronix_AWG5014 : Clock set to 1000000000.0. This is not fully functional yet. To avoid problems, it is better not to change the clock during operation\n"
     ]
    }
   ],
   "source": [
    "# промежуточные частоты для гетеродинной схемы:\n",
    "ex_if = 125e6\n",
    "ro_if = 75e6\n",
    "# клоки генератора и оцифровщика\n",
    "ex_clock = 1e9\n",
    "ro_clock = 1e9\n",
    "\n",
    "rep_rate = 20e3 # частота повторений эксперимента\n",
    "\n",
    "awg_tek.stop()\n",
    "awg_tek.set_clock(ex_clock) # клок всех авгшк\n",
    "awg_tek.set_nop(ex_clock/rep_rate) # репрейт нужно задавать по=хорошему только на управляющей,\n",
    "awg_tek.run()\n",
    "# а вот длину сэмплов, которая очевидно то же самое, нужно задавать на всех авгшках.\n",
    "# хорошо, что сейчас она только одна.\n",
    "\n",
    "# миксеры подключены к AWG5014 через 6 дБ аттенюаторы. Ставим амплитуду 2В.\n",
    "for channel in range(1,5):\n",
    "    awg_tek.set_amplitude(1., channel=channel)\n",
    "# Выходы 1, 2 тектроникс: возбуждение (кубитный тон) через 6 дБ аттенюатор\n",
    "# Выходы 3, 4 тектроникс: считывание (резонаторный тон) через 6 дБ аттенюатор\n",
    "iq_ex = awg_iq.awg_iq(awg_tek, awg_tek, 1, 2, lo_ex)\n",
    "iq_ro = awg_iq.awg_iq(awg_tek, awg_tek, 3, 4, lo_ro)\n",
    "iq_ex.set_if(ex_if)\n",
    "iq_ro.set_if(ro_if)\n",
    "iq_ex.set_sideband_id(-1)\n",
    "iq_ro.set_sideband_id(-1)\n",
    "iq_ex.set_frequency(Qubits[1]['F01'])\n",
    "iq_ro.set_frequency(Qubits[1]['Fr'])\n",
    "\n",
    "# К первому маркере первого канала тектроникса подсоединён триггер оцифровщика.\n",
    "# Надо подавать какой-нибудь триггер, что-ли.\n",
    "# А ещё нужно подавать клок. К сожалению наш оцифровщик не может в 1ГГц клок, ему нужен 500МГц клок.\n",
    "# Будем подавать 500 МГц с цифрового выхода тектроникса.\n",
    "awg_tek.set_marker1_low(-1, channel=1)\n",
    "awg_tek.set_marker2_low(-1, channel=1)\n",
    "awg_tek.set_marker1_high(2, channel=1)\n",
    "awg_tek.set_marker2_high(2, channel=1)\n",
    "awg_tek.set_marker1_low(-0.1, channel=2)\n",
    "awg_tek.set_marker2_low(-0.1, channel=2) \n",
    "awg_tek.set_marker1_high(0.1, channel=2) # с клока хватит и такой амплитуды\n",
    "awg_tek.set_marker2_high(0.1, channel=2) # с клока хватит и такой амплитуды\n",
    "ro_trg = awg_digital.awg_digital(awg_tek, 1)\n",
    "osc_trg = awg_digital.awg_digital(awg_tek, 5)\n",
    "ro_adc_clock = awg_digital.awg_digital(awg_tek, 2) #\n",
    "osc_adc_clock = awg_digital.awg_digital(awg_tek, 6) #\n",
    "\n",
    "# тупо клок\n",
    "ro_adc_clock.set_waveform(np.asarray([0,1]*int(ro_adc_clock.get_nop()/2), dtype=int))\n",
    "osc_adc_clock.set_waveform(np.asarray([0,1]*int(ro_adc_clock.get_nop()/2), dtype=int))\n",
    "awg_channels = {'iq_ex':iq_ex, 'iq_ro':iq_ro, 'ro_trg':ro_trg, 'osc_trg':osc_trg}\n",
    "trg_length = 4e-9\n",
    "pg = tomography_new.pulses(awg_channels)"
   ]
  },
  {
   "cell_type": "markdown",
   "metadata": {},
   "source": [
    "### Оцифровщик"
   ]
  },
  {
   "cell_type": "code",
   "execution_count": 10,
   "metadata": {
    "collapsed": true
   },
   "outputs": [],
   "source": [
    "# настройки оцифровщика\n",
    "adc.set_clock(ro_clock)\n",
    "adc.reset()            \n",
    "adc.set_timeout(10000)\n",
    "\n",
    "\n",
    "#adc.set_spc_samplerate(smp_rate)\n",
    "#External trigger\n",
    "adc.set_trigger_ext0_level0(0) # logical 0 value to 200 mV\n",
    "adc.set_trigger_ext0_level1(1300) # logical 1 value to 600 mV\n",
    "adc.trigger_termination_50Ohm()\n",
    "adc.trigger_mode_pos()\n",
    "adc.set_trigger_ext0_pulsewidth(0)\n",
    "adc.disable_trigger_output()\n",
    "adc.select_channel01()\n",
    "adc.set_multi_mode()\n",
    "#adc.set_segmentsize()\n",
    "adc.set_trigger_ORmask_tmask_ext0()\n",
    "adc.set_trigger_ANDmask_tmask_ext0()\n",
    "adc.set_trigger_ORmask_tmask_NO_ch0()\n",
    "adc.set_trigger_ORmask_tmask_NO_ch1()\n",
    "adc.set_trigger_ANDmask_tmask_NO_ch0()\n",
    "adc.set_trigger_ANDmask_tmask_NO_ch1()\n",
    "# усилитель на оцифровщике\n",
    "adc.set_input_amp_ch0(50)\n",
    "adc.set_input_amp_ch1(50)\n",
    "adc.set_input_offset_ch0(0)\n",
    "adc.set_input_offset_ch1(0)\n",
    "\n",
    "#External clock\n",
    "adc.set_reference_clock(adc.get_clock())\n",
    "\n",
    "# \"Измеритель средних прошедших импульсов\"\n",
    "# Просто усредняет всё по номеру сэмпла.\n",
    "adc_reducer = data_reduce.data_reduce(adc)\n",
    "adc_reducer.filters['Mean Voltage (AC)'] = data_reduce.mean_reducer_noavg(adc, 'Voltage', 0)\n",
    "adc_reducer.filters['S21+'] = data_reduce.mean_reducer_freq(adc, 'Voltage', 0, iq_ro.get_if())\n",
    "adc_reducer.filters['S21-'] = data_reduce.mean_reducer_freq(adc, 'Voltage', 0, -iq_ro.get_if())"
   ]
  },
  {
   "cell_type": "markdown",
   "metadata": {},
   "source": [
    "### Калибровка миксеров"
   ]
  },
  {
   "cell_type": "code",
   "execution_count": 11,
   "metadata": {
    "scrolled": true
   },
   "outputs": [
    {
     "name": "stdout",
     "output_type": "stream",
     "text": [
      "d:\\qtlab\\ReiData\\data/calibrations//IQ-if1.2e+08-rf6.8e+09-sb--1.pkl\n",
      "d:\\qtlab\\ReiData\\data/calibrations//IQ-if7.5e+07-rf9.5e+09-sb--1.pkl\n"
     ]
    },
    {
     "data": {
      "text/plain": [
       "{'I': (0.14214119709207787+0.56210568750479994j),\n",
       " 'Q': (0.47509376666832875+0.8487834389723673j),\n",
       " 'dc': (0.030911081453283903+0.027587223783327491j),\n",
       " 'num_sidebands': 7,\n",
       " 'score': -5.8391499534830054}"
      ]
     },
     "execution_count": 11,
     "metadata": {},
     "output_type": "execute_result"
    }
   ],
   "source": [
    "#sa.set_ref(0)\n",
    "iq_ex.get_calibration(sa)\n",
    "iq_ro.get_calibration(sa)"
   ]
  },
  {
   "cell_type": "markdown",
   "metadata": {},
   "source": [
    "### Длительность и амплитуда считывающих импульсов"
   ]
  },
  {
   "cell_type": "code",
   "execution_count": 12,
   "metadata": {
    "collapsed": true
   },
   "outputs": [],
   "source": [
    "def set_adc_nop(ro_adc_length):\n",
    "    adc.stop()\n",
    "    signal_size = int(np.ceil(4./3.*(ro_adc_length)*adc.get_clock()))\n",
    "    nop = int( 2**np.ceil(np.log2(signal_size)) )\n",
    "    posttrigger = nop*3/4\n",
    "    \n",
    "    print (nop)\n",
    "    adc.set_nop(nop)\n",
    "    adc.set_post_trigger(posttrigger)"
   ]
  },
  {
   "cell_type": "code",
   "execution_count": 13,
   "metadata": {},
   "outputs": [
    {
     "name": "stdout",
     "output_type": "stream",
     "text": [
      "512\n"
     ]
    }
   ],
   "source": [
    "ro_adc_length = 0.6e-6        # Вот такой длины считываем (опухоль Фёдорова!!)\n",
    "ro_amplitude = 0.21\n",
    "ro_dac_length = 0.11e-6\n",
    "adc.set_nums(1000)\n",
    "#adc.set_software_nums_multi(1)\n",
    "set_adc_nop(ro_adc_length)"
   ]
  },
  {
   "cell_type": "code",
   "execution_count": 14,
   "metadata": {},
   "outputs": [
    {
     "data": {
      "text/plain": [
       "[<matplotlib.lines.Line2D at 0xc0a83c8>]"
      ]
     },
     "execution_count": 14,
     "metadata": {},
     "output_type": "execute_result"
    }
   ],
   "source": [
    "#tomography.set_sequence([tomography.ro_rect(ro_amplitude, ro_dac_length, awg_channels)], awg_channels)\n",
    "plt.plot(np.mean(np.real(adc.measure()['Voltage']), axis=0))"
   ]
  },
  {
   "cell_type": "code",
   "execution_count": 14,
   "metadata": {},
   "outputs": [
    {
     "data": {
      "text/plain": [
       "<matplotlib.colorbar.Colorbar at 0xca69e80>"
      ]
     },
     "execution_count": 14,
     "metadata": {},
     "output_type": "execute_result"
    }
   ],
   "source": [
    "plt.pcolormesh(np.real(adc.measure()['Voltage']));\n",
    "plt.colorbar()"
   ]
  },
  {
   "cell_type": "code",
   "execution_count": 15,
   "metadata": {
    "collapsed": true
   },
   "outputs": [],
   "source": [
    "adc.stop()"
   ]
  },
  {
   "cell_type": "markdown",
   "metadata": {},
   "source": [
    "### Прохождение считывающих испульсов разной амплитуды"
   ]
  },
  {
   "cell_type": "code",
   "execution_count": 16,
   "metadata": {},
   "outputs": [
    {
     "name": "stdout",
     "output_type": "stream",
     "text": [
      "Started at:  Jul 01 2017 12:17:21\n"
     ]
    },
    {
     "name": "stderr",
     "output_type": "stream",
     "text": [
      "c:\\python36\\lib\\site-packages\\matplotlib\\backend_bases.py:2445: MatplotlibDeprecationWarning: Using default event loop until function specific to this GUI is implemented\n",
      "  warnings.warn(str, mplDeprecation)\n"
     ]
    },
    {
     "name": "stdout",
     "output_type": "stream",
     "text": [
      "First sweep..."
     ]
    },
    {
     "name": "stderr",
     "output_type": "stream",
     "text": [
      "D:\\qtlab_replacement\\instruments\\Tektronix_AWG5014.py:637: ComplexWarning: Casting complex values to real discards the imaginary part\n",
      "  m1[:] = marker[:len(m1)]\n"
     ]
    },
    {
     "name": "stdout",
     "output_type": "stream",
     "text": [
      "Time left: 0 h 0 m 0.0 s,\tparameter values: Readout amplitude:      1,\taverage cycle time:  5.4s\t\t\t\n",
      "Elapsed time: 0 h 4 m 33.85 s\n"
     ]
    }
   ],
   "source": [
    "def set_pulse_amplitude(x):\n",
    "    awg_tek.set_nop(awg_tek.get_clock()/rep_rate)\n",
    "    pg.set_seq([pg.p('ro_trg', trg_length, pg.rect, 1), pg.p('iq_ro', ro_dac_length, pg.rect, x)])\n",
    "    awg_tek.run()\n",
    "measurement = sweep.sweep(adc_reducer, (np.linspace(0, 1, 51), set_pulse_amplitude, 'Readout amplitude'), filename='Readout pulse passthrough')"
   ]
  },
  {
   "cell_type": "markdown",
   "metadata": {},
   "source": [
    "### Осцилляции Раби"
   ]
  },
  {
   "cell_type": "code",
   "execution_count": 14,
   "metadata": {},
   "outputs": [
    {
     "name": "stdout",
     "output_type": "stream",
     "text": [
      "Started at:  Jun 30 2017 16:08:00\n"
     ]
    },
    {
     "name": "stderr",
     "output_type": "stream",
     "text": [
      "c:\\python36\\lib\\site-packages\\matplotlib\\backend_bases.py:2445: MatplotlibDeprecationWarning: Using default event loop until function specific to this GUI is implemented\n",
      "  warnings.warn(str, mplDeprecation)\n"
     ]
    },
    {
     "name": "stdout",
     "output_type": "stream",
     "text": [
      "First sweep..."
     ]
    },
    {
     "name": "stderr",
     "output_type": "stream",
     "text": [
      "D:\\qtlab_replacement\\instruments\\Tektronix_AWG5014.py:637: ComplexWarning: Casting complex values to real discards the imaginary part\n",
      "  m1[:] = marker[:len(m1)]\n"
     ]
    },
    {
     "ename": "KeyboardInterrupt",
     "evalue": "",
     "output_type": "error",
     "traceback": [
      "\u001b[1;31m---------------------------------------------------------------------------\u001b[0m",
      "\u001b[1;31mKeyboardInterrupt\u001b[0m                         Traceback (most recent call last)",
      "\u001b[1;32mD:\\qtlab_replacement\\scripts\\sweep.py\u001b[0m in \u001b[0;36msweep\u001b[1;34m(measurer, filename, root_dir, plot, header, output, *params)\u001b[0m\n\u001b[0;32m    127\u001b[0m                                 \u001b[1;32mif\u001b[0m \u001b[0mchanged\u001b[0m\u001b[1;33m:\u001b[0m\u001b[1;33m\u001b[0m\u001b[0m\n\u001b[1;32m--> 128\u001b[1;33m                                         \u001b[0msetter\u001b[0m\u001b[1;33m(\u001b[0m\u001b[0mval\u001b[0m\u001b[1;33m)\u001b[0m\u001b[1;33m\u001b[0m\u001b[0m\n\u001b[0m\u001b[0;32m    129\u001b[0m                         \u001b[1;31m#measuring\u001b[0m\u001b[1;33m\u001b[0m\u001b[1;33m\u001b[0m\u001b[0m\n",
      "\u001b[1;32m<ipython-input-14-2bae8a56953d>\u001b[0m in \u001b[0;36mset_ex_length\u001b[1;34m(length)\u001b[0m\n\u001b[0;32m     11\u001b[0m                 pg.p('iq_ro', ro_dac_length, pg.rect, ro_amplitude)]\n\u001b[1;32m---> 12\u001b[1;33m     \u001b[0mpg\u001b[0m\u001b[1;33m.\u001b[0m\u001b[0mset_seq\u001b[0m\u001b[1;33m(\u001b[0m\u001b[0msequence\u001b[0m\u001b[1;33m)\u001b[0m\u001b[1;33m\u001b[0m\u001b[0m\n\u001b[0m\u001b[0;32m     13\u001b[0m     \u001b[0mawg_tek\u001b[0m\u001b[1;33m.\u001b[0m\u001b[0mrun\u001b[0m\u001b[1;33m(\u001b[0m\u001b[1;33m)\u001b[0m\u001b[1;33m\u001b[0m\u001b[0m\n",
      "\u001b[1;32mD:\\qtlab_replacement\\scripts\\tomography.py\u001b[0m in \u001b[0;36mset_seq\u001b[1;34m(self, seq)\u001b[0m\n\u001b[0;32m     56\u001b[0m \u001b[1;33m\u001b[0m\u001b[0m\n\u001b[1;32m---> 57\u001b[1;33m                         \u001b[0mchannel_device\u001b[0m\u001b[1;33m.\u001b[0m\u001b[0mset_waveform\u001b[0m\u001b[1;33m(\u001b[0m\u001b[0mpulse_shape\u001b[0m\u001b[1;33m[\u001b[0m\u001b[0mchannel\u001b[0m\u001b[1;33m]\u001b[0m\u001b[1;33m)\u001b[0m\u001b[1;33m\u001b[0m\u001b[0m\n\u001b[0m\u001b[0;32m     58\u001b[0m \u001b[1;33m\u001b[0m\u001b[0m\n",
      "\u001b[1;32mD:\\qtlab_replacement\\scripts\\awg_digital.py\u001b[0m in \u001b[0;36mset_waveform\u001b[1;34m(self, waveform)\u001b[0m\n\u001b[0;32m     24\u001b[0m         \u001b[1;32mdef\u001b[0m \u001b[0mset_waveform\u001b[0m\u001b[1;33m(\u001b[0m\u001b[0mself\u001b[0m\u001b[1;33m,\u001b[0m \u001b[0mwaveform\u001b[0m\u001b[1;33m)\u001b[0m\u001b[1;33m:\u001b[0m\u001b[1;33m\u001b[0m\u001b[0m\n\u001b[1;32m---> 25\u001b[1;33m                 \u001b[0mself\u001b[0m\u001b[1;33m.\u001b[0m\u001b[0mawg\u001b[0m\u001b[1;33m.\u001b[0m\u001b[0mset_digital\u001b[0m\u001b[1;33m(\u001b[0m\u001b[0mwaveform\u001b[0m\u001b[1;33m,\u001b[0m \u001b[0mchannel\u001b[0m\u001b[1;33m=\u001b[0m\u001b[0mself\u001b[0m\u001b[1;33m.\u001b[0m\u001b[0mchannel\u001b[0m\u001b[1;33m)\u001b[0m\u001b[1;33m\u001b[0m\u001b[0m\n\u001b[0m",
      "\u001b[1;32mD:\\qtlab_replacement\\instruments\\instrument.py\u001b[0m in \u001b[0;36m<lambda>\u001b[1;34m(val, **lopts)\u001b[0m\n\u001b[0;32m    198\u001b[0m         \u001b[1;32mif\u001b[0m \u001b[0moptions\u001b[0m\u001b[1;33m[\u001b[0m\u001b[1;34m'flags'\u001b[0m\u001b[1;33m]\u001b[0m \u001b[1;33m&\u001b[0m \u001b[0mInstrument\u001b[0m\u001b[1;33m.\u001b[0m\u001b[0mFLAG_SET\u001b[0m\u001b[1;33m:\u001b[0m\u001b[1;33m\u001b[0m\u001b[0m\n\u001b[1;32m--> 199\u001b[1;33m             \u001b[0mfunc\u001b[0m \u001b[1;33m=\u001b[0m \u001b[1;32mlambda\u001b[0m \u001b[0mval\u001b[0m\u001b[1;33m,\u001b[0m \u001b[1;33m**\u001b[0m\u001b[0mlopts\u001b[0m\u001b[1;33m:\u001b[0m \u001b[0mself\u001b[0m\u001b[1;33m.\u001b[0m\u001b[0mset\u001b[0m\u001b[1;33m(\u001b[0m\u001b[0mname\u001b[0m\u001b[1;33m,\u001b[0m \u001b[0mval\u001b[0m\u001b[1;33m,\u001b[0m \u001b[1;33m**\u001b[0m\u001b[0mlopts\u001b[0m\u001b[1;33m)\u001b[0m\u001b[1;33m\u001b[0m\u001b[0m\n\u001b[0m\u001b[0;32m    200\u001b[0m \u001b[1;33m\u001b[0m\u001b[0m\n",
      "\u001b[1;32mD:\\qtlab_replacement\\instruments\\instrument.py\u001b[0m in \u001b[0;36mset\u001b[1;34m(self, name, value, fast, **kwargs)\u001b[0m\n\u001b[0;32m    699\u001b[0m         \u001b[1;32melse\u001b[0m\u001b[1;33m:\u001b[0m\u001b[1;33m\u001b[0m\u001b[0m\n\u001b[1;32m--> 700\u001b[1;33m             \u001b[0mval\u001b[0m \u001b[1;33m=\u001b[0m \u001b[0mself\u001b[0m\u001b[1;33m.\u001b[0m\u001b[0m_set_value\u001b[0m\u001b[1;33m(\u001b[0m\u001b[0mname\u001b[0m\u001b[1;33m,\u001b[0m \u001b[0mvalue\u001b[0m\u001b[1;33m,\u001b[0m \u001b[1;33m**\u001b[0m\u001b[0mkwargs\u001b[0m\u001b[1;33m)\u001b[0m\u001b[1;33m\u001b[0m\u001b[0m\n\u001b[0m\u001b[0;32m    701\u001b[0m             \u001b[1;32mif\u001b[0m \u001b[0mval\u001b[0m \u001b[1;32mis\u001b[0m \u001b[1;32mnot\u001b[0m \u001b[1;32mNone\u001b[0m\u001b[1;33m:\u001b[0m\u001b[1;33m\u001b[0m\u001b[0m\n",
      "\u001b[1;32mD:\\qtlab_replacement\\instruments\\instrument.py\u001b[0m in \u001b[0;36m_set_value\u001b[1;34m(self, name, value, **kwargs)\u001b[0m\n\u001b[0;32m    658\u001b[0m         \u001b[0mfunc\u001b[0m \u001b[1;33m=\u001b[0m \u001b[0mp\u001b[0m\u001b[1;33m[\u001b[0m\u001b[1;34m'set_func'\u001b[0m\u001b[1;33m]\u001b[0m\u001b[1;33m\u001b[0m\u001b[0m\n\u001b[1;32m--> 659\u001b[1;33m         \u001b[0mret\u001b[0m \u001b[1;33m=\u001b[0m \u001b[0mfunc\u001b[0m\u001b[1;33m(\u001b[0m\u001b[0mvalue\u001b[0m\u001b[1;33m,\u001b[0m \u001b[1;33m**\u001b[0m\u001b[0mkwargs\u001b[0m\u001b[1;33m)\u001b[0m\u001b[1;33m\u001b[0m\u001b[0m\n\u001b[0m\u001b[0;32m    660\u001b[0m \u001b[1;33m\u001b[0m\u001b[0m\n",
      "\u001b[1;32mD:\\qtlab_replacement\\instruments\\Tektronix_AWG5014.py\u001b[0m in \u001b[0;36mdo_set_digital\u001b[1;34m(self, marker, channel)\u001b[0m\n\u001b[0;32m    656\u001b[0m                 \u001b[1;32melse\u001b[0m\u001b[1;33m:\u001b[0m\u001b[1;33m\u001b[0m\u001b[0m\n\u001b[1;32m--> 657\u001b[1;33m                         \u001b[0mself\u001b[0m\u001b[1;33m.\u001b[0m\u001b[0msend_waveform\u001b[0m\u001b[1;33m(\u001b[0m\u001b[0mw\u001b[0m\u001b[1;33m,\u001b[0m\u001b[0mm2\u001b[0m\u001b[1;33m,\u001b[0m\u001b[0mm1\u001b[0m\u001b[1;33m,\u001b[0m\u001b[0mfilename\u001b[0m\u001b[1;33m,\u001b[0m\u001b[0mself\u001b[0m\u001b[1;33m.\u001b[0m\u001b[0mget_clock\u001b[0m\u001b[1;33m(\u001b[0m\u001b[1;33m)\u001b[0m\u001b[1;33m)\u001b[0m\u001b[1;33m\u001b[0m\u001b[0m\n\u001b[0m\u001b[0;32m    658\u001b[0m                 \u001b[0mself\u001b[0m\u001b[1;33m.\u001b[0m\u001b[0mdo_set_filename\u001b[0m\u001b[1;33m(\u001b[0m\u001b[0mfilename\u001b[0m\u001b[1;33m,\u001b[0m \u001b[0mchannel\u001b[0m\u001b[1;33m=\u001b[0m\u001b[1;33m(\u001b[0m\u001b[0mchannel\u001b[0m\u001b[1;33m-\u001b[0m\u001b[1;36m1\u001b[0m\u001b[1;33m)\u001b[0m\u001b[1;33m%\u001b[0m\u001b[1;36m4\u001b[0m\u001b[1;33m+\u001b[0m\u001b[1;36m1\u001b[0m\u001b[1;33m)\u001b[0m\u001b[1;33m\u001b[0m\u001b[0m\n",
      "\u001b[1;32mD:\\qtlab_replacement\\instruments\\Tektronix_AWG5014.py\u001b[0m in \u001b[0;36msend_waveform\u001b[1;34m(self, w, m1, m2, filename, clock)\u001b[0m\n\u001b[0;32m    999\u001b[0m                 \u001b[1;32mfor\u001b[0m \u001b[0mi\u001b[0m \u001b[1;32min\u001b[0m \u001b[0mrange\u001b[0m\u001b[1;33m(\u001b[0m\u001b[1;36m0\u001b[0m\u001b[1;33m,\u001b[0m\u001b[0mlen\u001b[0m\u001b[1;33m(\u001b[0m\u001b[0mw\u001b[0m\u001b[1;33m)\u001b[0m\u001b[1;33m)\u001b[0m\u001b[1;33m:\u001b[0m\u001b[1;33m\u001b[0m\u001b[0m\n\u001b[1;32m-> 1000\u001b[1;33m                         \u001b[0mws\u001b[0m \u001b[1;33m=\u001b[0m \u001b[0mws\u001b[0m \u001b[1;33m+\u001b[0m \u001b[0mstruct\u001b[0m\u001b[1;33m.\u001b[0m\u001b[0mpack\u001b[0m\u001b[1;33m(\u001b[0m\u001b[1;34m'<fB'\u001b[0m\u001b[1;33m,\u001b[0m \u001b[0mw\u001b[0m\u001b[1;33m[\u001b[0m\u001b[0mi\u001b[0m\u001b[1;33m]\u001b[0m\u001b[1;33m,\u001b[0m \u001b[0mint\u001b[0m\u001b[1;33m(\u001b[0m\u001b[0mm\u001b[0m\u001b[1;33m[\u001b[0m\u001b[0mi\u001b[0m\u001b[1;33m]\u001b[0m\u001b[1;33m)\u001b[0m\u001b[1;33m)\u001b[0m\u001b[1;33m\u001b[0m\u001b[0m\n\u001b[0m\u001b[0;32m   1001\u001b[0m \u001b[1;33m\u001b[0m\u001b[0m\n",
      "\u001b[1;31mKeyboardInterrupt\u001b[0m: ",
      "\nDuring handling of the above exception, another exception occurred:\n",
      "\u001b[1;31mKeyboardInterrupt\u001b[0m                         Traceback (most recent call last)",
      "\u001b[1;32m<ipython-input-14-2bae8a56953d>\u001b[0m in \u001b[0;36m<module>\u001b[1;34m()\u001b[0m\n\u001b[0;32m     12\u001b[0m     \u001b[0mpg\u001b[0m\u001b[1;33m.\u001b[0m\u001b[0mset_seq\u001b[0m\u001b[1;33m(\u001b[0m\u001b[0msequence\u001b[0m\u001b[1;33m)\u001b[0m\u001b[1;33m\u001b[0m\u001b[0m\n\u001b[0;32m     13\u001b[0m     \u001b[0mawg_tek\u001b[0m\u001b[1;33m.\u001b[0m\u001b[0mrun\u001b[0m\u001b[1;33m(\u001b[0m\u001b[1;33m)\u001b[0m\u001b[1;33m\u001b[0m\u001b[0m\n\u001b[1;32m---> 14\u001b[1;33m \u001b[0mmeasurement\u001b[0m \u001b[1;33m=\u001b[0m \u001b[0msweep\u001b[0m\u001b[1;33m.\u001b[0m\u001b[0msweep\u001b[0m\u001b[1;33m(\u001b[0m\u001b[0madc_reducer\u001b[0m\u001b[1;33m,\u001b[0m \u001b[1;33m(\u001b[0m\u001b[0mlengths\u001b[0m\u001b[1;33m,\u001b[0m \u001b[0mset_ex_length\u001b[0m\u001b[1;33m,\u001b[0m \u001b[1;34m'Rabi pulse length'\u001b[0m\u001b[1;33m)\u001b[0m\u001b[1;33m,\u001b[0m \u001b[0mfilename\u001b[0m\u001b[1;33m=\u001b[0m\u001b[1;34m'Rabi'\u001b[0m\u001b[1;33m)\u001b[0m\u001b[1;33m\u001b[0m\u001b[0m\n\u001b[0m\u001b[0;32m     15\u001b[0m \u001b[0mmeasurement_fitted\u001b[0m\u001b[1;33m,\u001b[0m \u001b[0mfitted_parameters\u001b[0m \u001b[1;33m=\u001b[0m \u001b[0mfitting\u001b[0m\u001b[1;33m.\u001b[0m\u001b[0mS21pm_fit\u001b[0m\u001b[1;33m(\u001b[0m\u001b[0mmeasurement\u001b[0m\u001b[1;33m,\u001b[0m \u001b[0mfitting\u001b[0m\u001b[1;33m.\u001b[0m\u001b[0mexp_sin_fit\u001b[0m\u001b[1;33m)\u001b[0m\u001b[1;33m\u001b[0m\u001b[0m\n\u001b[0;32m     16\u001b[0m annotation = 'Phase: {0:4.4g} rad, Freq: {1:4.4g}, Decay: {2:4.4g} s'.format(fitted_parameters['phase'], \n",
      "\u001b[1;32mD:\\qtlab_replacement\\scripts\\sweep.py\u001b[0m in \u001b[0;36msweep\u001b[1;34m(measurer, filename, root_dir, plot, header, output, *params)\u001b[0m\n\u001b[0;32m    177\u001b[0m \u001b[1;33m\u001b[0m\u001b[0m\n\u001b[0;32m    178\u001b[0m                         \u001b[1;31m#save_pkl.save_pkl(header, data_pkl, location = data_dir)\u001b[0m\u001b[1;33m\u001b[0m\u001b[1;33m\u001b[0m\u001b[0m\n\u001b[1;32m--> 179\u001b[1;33m                         \u001b[0msave_pkl\u001b[0m\u001b[1;33m.\u001b[0m\u001b[0msave_pkl\u001b[0m\u001b[1;33m(\u001b[0m\u001b[0mheader\u001b[0m\u001b[1;33m,\u001b[0m \u001b[0mmk_measurement\u001b[0m\u001b[1;33m(\u001b[0m\u001b[1;36m0\u001b[0m\u001b[1;33m)\u001b[0m\u001b[1;33m,\u001b[0m \u001b[0mlocation\u001b[0m \u001b[1;33m=\u001b[0m \u001b[0mdata_dir\u001b[0m\u001b[1;33m)\u001b[0m\u001b[1;33m\u001b[0m\u001b[0m\n\u001b[0m\u001b[0;32m    180\u001b[0m \u001b[1;33m\u001b[0m\u001b[0m\n\u001b[0;32m    181\u001b[0m                         \u001b[1;32mif\u001b[0m \u001b[0mascii_files\u001b[0m\u001b[1;33m[\u001b[0m\u001b[0mmname\u001b[0m\u001b[1;33m]\u001b[0m\u001b[1;33m:\u001b[0m\u001b[1;33m\u001b[0m\u001b[0m\n",
      "\u001b[1;32mD:\\qtlab_replacement\\scripts\\save_pkl.py\u001b[0m in \u001b[0;36msave_pkl\u001b[1;34m(header, data, plot, curve_fit, annotation, location, time, filename, matlab)\u001b[0m\n\u001b[0;32m     64\u001b[0m         \u001b[0mf\u001b[0m\u001b[1;33m.\u001b[0m\u001b[0mclose\u001b[0m\u001b[1;33m(\u001b[0m\u001b[1;33m)\u001b[0m\u001b[1;33m\u001b[0m\u001b[0m\n\u001b[0;32m     65\u001b[0m         \u001b[1;32mif\u001b[0m \u001b[0mplot\u001b[0m\u001b[1;33m:\u001b[0m\u001b[1;33m\u001b[0m\u001b[0m\n\u001b[1;32m---> 66\u001b[1;33m                 \u001b[0mplotting\u001b[0m\u001b[1;33m.\u001b[0m\u001b[0mplot_measurement\u001b[0m\u001b[1;33m(\u001b[0m\u001b[0mdata\u001b[0m\u001b[1;33m,\u001b[0m \u001b[0mfilename\u001b[0m\u001b[1;33m,\u001b[0m \u001b[0msave\u001b[0m\u001b[1;33m=\u001b[0m\u001b[0mlocation\u001b[0m\u001b[1;33m,\u001b[0m \u001b[0mannotation\u001b[0m\u001b[1;33m=\u001b[0m\u001b[0mannotation\u001b[0m\u001b[1;33m)\u001b[0m\u001b[1;33m\u001b[0m\u001b[0m\n\u001b[0m\u001b[0;32m     67\u001b[0m \u001b[1;33m\u001b[0m\u001b[0m\n\u001b[0;32m     68\u001b[0m         \u001b[1;32mif\u001b[0m \u001b[0mmatlab\u001b[0m\u001b[1;33m:\u001b[0m\u001b[1;33m\u001b[0m\u001b[0m\n",
      "\u001b[1;32mD:\\qtlab_replacement\\scripts\\plotting.py\u001b[0m in \u001b[0;36mplot_measurement\u001b[1;34m(measurement, name, save, annotation)\u001b[0m\n\u001b[0;32m     86\u001b[0m                 \u001b[1;32mfor\u001b[0m \u001b[0mplot_name\u001b[0m\u001b[1;33m,\u001b[0m \u001b[0mplot\u001b[0m \u001b[1;32min\u001b[0m \u001b[0max\u001b[0m\u001b[1;33m[\u001b[0m\u001b[1;34m'plots'\u001b[0m\u001b[1;33m]\u001b[0m\u001b[1;33m.\u001b[0m\u001b[0mitems\u001b[0m\u001b[1;33m(\u001b[0m\u001b[1;33m)\u001b[0m\u001b[1;33m:\u001b[0m\u001b[1;33m\u001b[0m\u001b[0m\n\u001b[0;32m     87\u001b[0m                         \u001b[0mmeas\u001b[0m\u001b[1;33m[\u001b[0m\u001b[0mplot_name\u001b[0m\u001b[1;33m]\u001b[0m \u001b[1;33m=\u001b[0m \u001b[1;33m(\u001b[0m\u001b[0mmeasurement\u001b[0m\u001b[1;33m[\u001b[0m\u001b[0mplot\u001b[0m\u001b[1;33m[\u001b[0m\u001b[1;34m'mname'\u001b[0m\u001b[1;33m]\u001b[0m\u001b[1;33m]\u001b[0m\u001b[1;33m[\u001b[0m\u001b[1;36m0\u001b[0m\u001b[1;33m]\u001b[0m\u001b[1;33m,\u001b[0m \u001b[0mmeasurement\u001b[0m\u001b[1;33m[\u001b[0m\u001b[0mplot\u001b[0m\u001b[1;33m[\u001b[0m\u001b[1;34m'mname'\u001b[0m\u001b[1;33m]\u001b[0m\u001b[1;33m]\u001b[0m\u001b[1;33m[\u001b[0m\u001b[1;36m1\u001b[0m\u001b[1;33m]\u001b[0m\u001b[1;33m,\u001b[0m \u001b[0mplot\u001b[0m\u001b[1;33m[\u001b[0m\u001b[1;34m'filter'\u001b[0m\u001b[1;33m]\u001b[0m\u001b[1;33m(\u001b[0m\u001b[0mmeasurement\u001b[0m\u001b[1;33m[\u001b[0m\u001b[0mplot\u001b[0m\u001b[1;33m[\u001b[0m\u001b[1;34m'mname'\u001b[0m\u001b[1;33m]\u001b[0m\u001b[1;33m]\u001b[0m\u001b[1;33m[\u001b[0m\u001b[1;36m2\u001b[0m\u001b[1;33m]\u001b[0m\u001b[1;33m)\u001b[0m\u001b[1;33m)\u001b[0m\u001b[1;33m\u001b[0m\u001b[0m\n\u001b[1;32m---> 88\u001b[1;33m                 \u001b[0mplots\u001b[0m \u001b[1;33m=\u001b[0m \u001b[0mplot_measurement_sa\u001b[0m\u001b[1;33m(\u001b[0m\u001b[0mmeas\u001b[0m\u001b[1;33m,\u001b[0m \u001b[0max\u001b[0m\u001b[1;33m[\u001b[0m\u001b[1;34m'axes'\u001b[0m\u001b[1;33m]\u001b[0m\u001b[1;33m)\u001b[0m\u001b[1;33m\u001b[0m\u001b[0m\n\u001b[0m\u001b[0;32m     89\u001b[0m                 \u001b[1;32mfor\u001b[0m \u001b[0mplot\u001b[0m \u001b[1;32min\u001b[0m \u001b[0mplots\u001b[0m\u001b[1;33m.\u001b[0m\u001b[0mkeys\u001b[0m\u001b[1;33m(\u001b[0m\u001b[1;33m)\u001b[0m\u001b[1;33m:\u001b[0m\u001b[1;33m\u001b[0m\u001b[0m\n\u001b[0;32m     90\u001b[0m                         \u001b[0max\u001b[0m\u001b[1;33m[\u001b[0m\u001b[1;34m'plots'\u001b[0m\u001b[1;33m]\u001b[0m\u001b[1;33m[\u001b[0m\u001b[0mplot\u001b[0m\u001b[1;33m]\u001b[0m\u001b[1;33m[\u001b[0m\u001b[1;34m'plot'\u001b[0m\u001b[1;33m]\u001b[0m \u001b[1;33m=\u001b[0m \u001b[0mplots\u001b[0m\u001b[1;33m[\u001b[0m\u001b[0mplot\u001b[0m\u001b[1;33m]\u001b[0m\u001b[1;33m\u001b[0m\u001b[0m\n",
      "\u001b[1;32mD:\\qtlab_replacement\\scripts\\plotting.py\u001b[0m in \u001b[0;36mplot_measurement_sa\u001b[1;34m(measurement, axes)\u001b[0m\n\u001b[0;32m    148\u001b[0m                                         \u001b[0mplot\u001b[0m\u001b[1;33m.\u001b[0m\u001b[0mT\u001b[0m \u001b[1;33m=\u001b[0m \u001b[1;32mTrue\u001b[0m\u001b[1;33m\u001b[0m\u001b[0m\n\u001b[0;32m    149\u001b[0m                         \u001b[1;32mif\u001b[0m \u001b[0mdata_dim\u001b[0m \u001b[1;33m==\u001b[0m \u001b[1;36m2\u001b[0m\u001b[1;33m:\u001b[0m\u001b[1;33m\u001b[0m\u001b[0m\n\u001b[1;32m--> 150\u001b[1;33m                                 \u001b[0mplt\u001b[0m\u001b[1;33m.\u001b[0m\u001b[0mclf\u001b[0m\u001b[1;33m(\u001b[0m\u001b[1;33m)\u001b[0m\u001b[1;33m\u001b[0m\u001b[0m\n\u001b[0m\u001b[0;32m    151\u001b[0m                                 \u001b[1;32mif\u001b[0m \u001b[0maxes_indeces\u001b[0m\u001b[1;33m[\u001b[0m\u001b[1;36m0\u001b[0m\u001b[1;33m]\u001b[0m \u001b[1;33m==\u001b[0m \u001b[1;36m0\u001b[0m\u001b[1;33m:\u001b[0m\u001b[1;33m\u001b[0m\u001b[0m\n\u001b[0;32m    152\u001b[0m \t\t\t\t\tplot = plt.imshow(vals.T, aspect = 'auto', origin='lower', \n",
      "\u001b[1;32mc:\\python36\\lib\\site-packages\\matplotlib\\pyplot.py\u001b[0m in \u001b[0;36mclf\u001b[1;34m()\u001b[0m\n\u001b[0;32m    671\u001b[0m     \u001b[0mClear\u001b[0m \u001b[0mthe\u001b[0m \u001b[0mcurrent\u001b[0m \u001b[0mfigure\u001b[0m\u001b[1;33m.\u001b[0m\u001b[1;33m\u001b[0m\u001b[0m\n\u001b[0;32m    672\u001b[0m     \"\"\"\n\u001b[1;32m--> 673\u001b[1;33m     \u001b[0mgcf\u001b[0m\u001b[1;33m(\u001b[0m\u001b[1;33m)\u001b[0m\u001b[1;33m.\u001b[0m\u001b[0mclf\u001b[0m\u001b[1;33m(\u001b[0m\u001b[1;33m)\u001b[0m\u001b[1;33m\u001b[0m\u001b[0m\n\u001b[0m\u001b[0;32m    674\u001b[0m \u001b[1;33m\u001b[0m\u001b[0m\n\u001b[0;32m    675\u001b[0m \u001b[1;33m\u001b[0m\u001b[0m\n",
      "\u001b[1;32mc:\\python36\\lib\\site-packages\\matplotlib\\figure.py\u001b[0m in \u001b[0;36mclf\u001b[1;34m(self, keep_observers)\u001b[0m\n\u001b[0;32m   1064\u001b[0m \u001b[1;33m\u001b[0m\u001b[0m\n\u001b[0;32m   1065\u001b[0m         \u001b[1;32mfor\u001b[0m \u001b[0max\u001b[0m \u001b[1;32min\u001b[0m \u001b[0mtuple\u001b[0m\u001b[1;33m(\u001b[0m\u001b[0mself\u001b[0m\u001b[1;33m.\u001b[0m\u001b[0maxes\u001b[0m\u001b[1;33m)\u001b[0m\u001b[1;33m:\u001b[0m  \u001b[1;31m# Iterate over the copy.\u001b[0m\u001b[1;33m\u001b[0m\u001b[0m\n\u001b[1;32m-> 1066\u001b[1;33m             \u001b[0max\u001b[0m\u001b[1;33m.\u001b[0m\u001b[0mcla\u001b[0m\u001b[1;33m(\u001b[0m\u001b[1;33m)\u001b[0m\u001b[1;33m\u001b[0m\u001b[0m\n\u001b[0m\u001b[0;32m   1067\u001b[0m             \u001b[0mself\u001b[0m\u001b[1;33m.\u001b[0m\u001b[0mdelaxes\u001b[0m\u001b[1;33m(\u001b[0m\u001b[0max\u001b[0m\u001b[1;33m)\u001b[0m         \u001b[1;31m# removes ax from self._axstack\u001b[0m\u001b[1;33m\u001b[0m\u001b[0m\n\u001b[0;32m   1068\u001b[0m \u001b[1;33m\u001b[0m\u001b[0m\n",
      "\u001b[1;32mc:\\python36\\lib\\site-packages\\matplotlib\\axes\\_base.py\u001b[0m in \u001b[0;36mcla\u001b[1;34m(self)\u001b[0m\n\u001b[0;32m    976\u001b[0m         \u001b[0mself\u001b[0m\u001b[1;33m.\u001b[0m\u001b[0myaxis\u001b[0m\u001b[1;33m.\u001b[0m\u001b[0mcla\u001b[0m\u001b[1;33m(\u001b[0m\u001b[1;33m)\u001b[0m\u001b[1;33m\u001b[0m\u001b[0m\n\u001b[0;32m    977\u001b[0m         \u001b[1;32mfor\u001b[0m \u001b[0mname\u001b[0m\u001b[1;33m,\u001b[0m \u001b[0mspine\u001b[0m \u001b[1;32min\u001b[0m \u001b[0msix\u001b[0m\u001b[1;33m.\u001b[0m\u001b[0miteritems\u001b[0m\u001b[1;33m(\u001b[0m\u001b[0mself\u001b[0m\u001b[1;33m.\u001b[0m\u001b[0mspines\u001b[0m\u001b[1;33m)\u001b[0m\u001b[1;33m:\u001b[0m\u001b[1;33m\u001b[0m\u001b[0m\n\u001b[1;32m--> 978\u001b[1;33m             \u001b[0mspine\u001b[0m\u001b[1;33m.\u001b[0m\u001b[0mcla\u001b[0m\u001b[1;33m(\u001b[0m\u001b[1;33m)\u001b[0m\u001b[1;33m\u001b[0m\u001b[0m\n\u001b[0m\u001b[0;32m    979\u001b[0m \u001b[1;33m\u001b[0m\u001b[0m\n\u001b[0;32m    980\u001b[0m         \u001b[0mself\u001b[0m\u001b[1;33m.\u001b[0m\u001b[0mignore_existing_data_limits\u001b[0m \u001b[1;33m=\u001b[0m \u001b[1;32mTrue\u001b[0m\u001b[1;33m\u001b[0m\u001b[0m\n",
      "\u001b[1;32mc:\\python36\\lib\\site-packages\\matplotlib\\spines.py\u001b[0m in \u001b[0;36mcla\u001b[1;34m(self)\u001b[0m\n\u001b[0;32m    168\u001b[0m         \u001b[0mself\u001b[0m\u001b[1;33m.\u001b[0m\u001b[0m_position\u001b[0m \u001b[1;33m=\u001b[0m \u001b[1;32mNone\u001b[0m  \u001b[1;31m# clear position\u001b[0m\u001b[1;33m\u001b[0m\u001b[0m\n\u001b[0;32m    169\u001b[0m         \u001b[1;32mif\u001b[0m \u001b[0mself\u001b[0m\u001b[1;33m.\u001b[0m\u001b[0maxis\u001b[0m \u001b[1;32mis\u001b[0m \u001b[1;32mnot\u001b[0m \u001b[1;32mNone\u001b[0m\u001b[1;33m:\u001b[0m\u001b[1;33m\u001b[0m\u001b[0m\n\u001b[1;32m--> 170\u001b[1;33m             \u001b[0mself\u001b[0m\u001b[1;33m.\u001b[0m\u001b[0maxis\u001b[0m\u001b[1;33m.\u001b[0m\u001b[0mcla\u001b[0m\u001b[1;33m(\u001b[0m\u001b[1;33m)\u001b[0m\u001b[1;33m\u001b[0m\u001b[0m\n\u001b[0m\u001b[0;32m    171\u001b[0m \u001b[1;33m\u001b[0m\u001b[0m\n\u001b[0;32m    172\u001b[0m     \u001b[1;32mdef\u001b[0m \u001b[0mis_frame_like\u001b[0m\u001b[1;33m(\u001b[0m\u001b[0mself\u001b[0m\u001b[1;33m)\u001b[0m\u001b[1;33m:\u001b[0m\u001b[1;33m\u001b[0m\u001b[0m\n",
      "\u001b[1;32mc:\\python36\\lib\\site-packages\\matplotlib\\axis.py\u001b[0m in \u001b[0;36mcla\u001b[1;34m(self)\u001b[0m\n\u001b[0;32m    758\u001b[0m         \u001b[0mself\u001b[0m\u001b[1;33m.\u001b[0m\u001b[0m_set_artist_props\u001b[0m\u001b[1;33m(\u001b[0m\u001b[0mself\u001b[0m\u001b[1;33m.\u001b[0m\u001b[0mlabel\u001b[0m\u001b[1;33m)\u001b[0m\u001b[1;33m\u001b[0m\u001b[0m\n\u001b[0;32m    759\u001b[0m \u001b[1;33m\u001b[0m\u001b[0m\n\u001b[1;32m--> 760\u001b[1;33m         \u001b[0mself\u001b[0m\u001b[1;33m.\u001b[0m\u001b[0mreset_ticks\u001b[0m\u001b[1;33m(\u001b[0m\u001b[1;33m)\u001b[0m\u001b[1;33m\u001b[0m\u001b[0m\n\u001b[0m\u001b[0;32m    761\u001b[0m \u001b[1;33m\u001b[0m\u001b[0m\n\u001b[0;32m    762\u001b[0m         \u001b[0mself\u001b[0m\u001b[1;33m.\u001b[0m\u001b[0mconverter\u001b[0m \u001b[1;33m=\u001b[0m \u001b[1;32mNone\u001b[0m\u001b[1;33m\u001b[0m\u001b[0m\n",
      "\u001b[1;32mc:\\python36\\lib\\site-packages\\matplotlib\\axis.py\u001b[0m in \u001b[0;36mreset_ticks\u001b[1;34m(self)\u001b[0m\n\u001b[0;32m    773\u001b[0m \u001b[1;33m\u001b[0m\u001b[0m\n\u001b[0;32m    774\u001b[0m         \u001b[0mself\u001b[0m\u001b[1;33m.\u001b[0m\u001b[0mmajorTicks\u001b[0m\u001b[1;33m.\u001b[0m\u001b[0mextend\u001b[0m\u001b[1;33m(\u001b[0m\u001b[1;33m[\u001b[0m\u001b[0mself\u001b[0m\u001b[1;33m.\u001b[0m\u001b[0m_get_tick\u001b[0m\u001b[1;33m(\u001b[0m\u001b[0mmajor\u001b[0m\u001b[1;33m=\u001b[0m\u001b[1;32mTrue\u001b[0m\u001b[1;33m)\u001b[0m\u001b[1;33m]\u001b[0m\u001b[1;33m)\u001b[0m\u001b[1;33m\u001b[0m\u001b[0m\n\u001b[1;32m--> 775\u001b[1;33m         \u001b[0mself\u001b[0m\u001b[1;33m.\u001b[0m\u001b[0mminorTicks\u001b[0m\u001b[1;33m.\u001b[0m\u001b[0mextend\u001b[0m\u001b[1;33m(\u001b[0m\u001b[1;33m[\u001b[0m\u001b[0mself\u001b[0m\u001b[1;33m.\u001b[0m\u001b[0m_get_tick\u001b[0m\u001b[1;33m(\u001b[0m\u001b[0mmajor\u001b[0m\u001b[1;33m=\u001b[0m\u001b[1;32mFalse\u001b[0m\u001b[1;33m)\u001b[0m\u001b[1;33m]\u001b[0m\u001b[1;33m)\u001b[0m\u001b[1;33m\u001b[0m\u001b[0m\n\u001b[0m\u001b[0;32m    776\u001b[0m         \u001b[0mself\u001b[0m\u001b[1;33m.\u001b[0m\u001b[0m_lastNumMajorTicks\u001b[0m \u001b[1;33m=\u001b[0m \u001b[1;36m1\u001b[0m\u001b[1;33m\u001b[0m\u001b[0m\n\u001b[0;32m    777\u001b[0m         \u001b[0mself\u001b[0m\u001b[1;33m.\u001b[0m\u001b[0m_lastNumMinorTicks\u001b[0m \u001b[1;33m=\u001b[0m \u001b[1;36m1\u001b[0m\u001b[1;33m\u001b[0m\u001b[0m\n",
      "\u001b[1;32mc:\\python36\\lib\\site-packages\\matplotlib\\axis.py\u001b[0m in \u001b[0;36m_get_tick\u001b[1;34m(self, major)\u001b[0m\n\u001b[0;32m   1727\u001b[0m         \u001b[1;32melse\u001b[0m\u001b[1;33m:\u001b[0m\u001b[1;33m\u001b[0m\u001b[0m\n\u001b[0;32m   1728\u001b[0m             \u001b[0mtick_kw\u001b[0m \u001b[1;33m=\u001b[0m \u001b[0mself\u001b[0m\u001b[1;33m.\u001b[0m\u001b[0m_minor_tick_kw\u001b[0m\u001b[1;33m\u001b[0m\u001b[0m\n\u001b[1;32m-> 1729\u001b[1;33m         \u001b[1;32mreturn\u001b[0m \u001b[0mXTick\u001b[0m\u001b[1;33m(\u001b[0m\u001b[0mself\u001b[0m\u001b[1;33m.\u001b[0m\u001b[0maxes\u001b[0m\u001b[1;33m,\u001b[0m \u001b[1;36m0\u001b[0m\u001b[1;33m,\u001b[0m \u001b[1;34m''\u001b[0m\u001b[1;33m,\u001b[0m \u001b[0mmajor\u001b[0m\u001b[1;33m=\u001b[0m\u001b[0mmajor\u001b[0m\u001b[1;33m,\u001b[0m \u001b[1;33m**\u001b[0m\u001b[0mtick_kw\u001b[0m\u001b[1;33m)\u001b[0m\u001b[1;33m\u001b[0m\u001b[0m\n\u001b[0m\u001b[0;32m   1730\u001b[0m \u001b[1;33m\u001b[0m\u001b[0m\n\u001b[0;32m   1731\u001b[0m     \u001b[1;32mdef\u001b[0m \u001b[0m_get_label\u001b[0m\u001b[1;33m(\u001b[0m\u001b[0mself\u001b[0m\u001b[1;33m)\u001b[0m\u001b[1;33m:\u001b[0m\u001b[1;33m\u001b[0m\u001b[0m\n",
      "\u001b[1;32mc:\\python36\\lib\\site-packages\\matplotlib\\axis.py\u001b[0m in \u001b[0;36m__init__\u001b[1;34m(self, axes, loc, label, size, width, color, tickdir, pad, labelsize, labelcolor, zorder, gridOn, tick1On, tick2On, label1On, label2On, major)\u001b[0m\n\u001b[0;32m    149\u001b[0m \u001b[1;33m\u001b[0m\u001b[0m\n\u001b[0;32m    150\u001b[0m         \u001b[0mself\u001b[0m\u001b[1;33m.\u001b[0m\u001b[0mtick1line\u001b[0m \u001b[1;33m=\u001b[0m \u001b[0mself\u001b[0m\u001b[1;33m.\u001b[0m\u001b[0m_get_tick1line\u001b[0m\u001b[1;33m(\u001b[0m\u001b[1;33m)\u001b[0m\u001b[1;33m\u001b[0m\u001b[0m\n\u001b[1;32m--> 151\u001b[1;33m         \u001b[0mself\u001b[0m\u001b[1;33m.\u001b[0m\u001b[0mtick2line\u001b[0m \u001b[1;33m=\u001b[0m \u001b[0mself\u001b[0m\u001b[1;33m.\u001b[0m\u001b[0m_get_tick2line\u001b[0m\u001b[1;33m(\u001b[0m\u001b[1;33m)\u001b[0m\u001b[1;33m\u001b[0m\u001b[0m\n\u001b[0m\u001b[0;32m    152\u001b[0m         \u001b[0mself\u001b[0m\u001b[1;33m.\u001b[0m\u001b[0mgridline\u001b[0m \u001b[1;33m=\u001b[0m \u001b[0mself\u001b[0m\u001b[1;33m.\u001b[0m\u001b[0m_get_gridline\u001b[0m\u001b[1;33m(\u001b[0m\u001b[1;33m)\u001b[0m\u001b[1;33m\u001b[0m\u001b[0m\n\u001b[0;32m    153\u001b[0m \u001b[1;33m\u001b[0m\u001b[0m\n",
      "\u001b[1;32mc:\\python36\\lib\\site-packages\\matplotlib\\axis.py\u001b[0m in \u001b[0;36m_get_tick2line\u001b[1;34m(self)\u001b[0m\n\u001b[0;32m    432\u001b[0m                           \u001b[0mmarkersize\u001b[0m\u001b[1;33m=\u001b[0m\u001b[0mself\u001b[0m\u001b[1;33m.\u001b[0m\u001b[0m_size\u001b[0m\u001b[1;33m,\u001b[0m\u001b[1;33m\u001b[0m\u001b[0m\n\u001b[0;32m    433\u001b[0m                           \u001b[0mmarkeredgewidth\u001b[0m\u001b[1;33m=\u001b[0m\u001b[0mself\u001b[0m\u001b[1;33m.\u001b[0m\u001b[0m_width\u001b[0m\u001b[1;33m,\u001b[0m\u001b[1;33m\u001b[0m\u001b[0m\n\u001b[1;32m--> 434\u001b[1;33m                           zorder=self._zorder)\n\u001b[0m\u001b[0;32m    435\u001b[0m \u001b[1;33m\u001b[0m\u001b[0m\n\u001b[0;32m    436\u001b[0m         \u001b[0ml\u001b[0m\u001b[1;33m.\u001b[0m\u001b[0mset_transform\u001b[0m\u001b[1;33m(\u001b[0m\u001b[0mself\u001b[0m\u001b[1;33m.\u001b[0m\u001b[0maxes\u001b[0m\u001b[1;33m.\u001b[0m\u001b[0mget_xaxis_transform\u001b[0m\u001b[1;33m(\u001b[0m\u001b[0mwhich\u001b[0m\u001b[1;33m=\u001b[0m\u001b[1;34m'tick2'\u001b[0m\u001b[1;33m)\u001b[0m\u001b[1;33m)\u001b[0m\u001b[1;33m\u001b[0m\u001b[0m\n",
      "\u001b[1;32mc:\\python36\\lib\\site-packages\\matplotlib\\lines.py\u001b[0m in \u001b[0;36m__init__\u001b[1;34m(self, xdata, ydata, linewidth, linestyle, color, marker, markersize, markeredgewidth, markeredgecolor, markerfacecolor, markerfacecoloralt, fillstyle, antialiased, dash_capstyle, solid_capstyle, dash_joinstyle, solid_joinstyle, pickradius, drawstyle, markevery, **kwargs)\u001b[0m\n\u001b[0;32m    403\u001b[0m         \u001b[0mself\u001b[0m\u001b[1;33m.\u001b[0m\u001b[0mset_color\u001b[0m\u001b[1;33m(\u001b[0m\u001b[0mcolor\u001b[0m\u001b[1;33m)\u001b[0m\u001b[1;33m\u001b[0m\u001b[0m\n\u001b[0;32m    404\u001b[0m         \u001b[0mself\u001b[0m\u001b[1;33m.\u001b[0m\u001b[0m_marker\u001b[0m \u001b[1;33m=\u001b[0m \u001b[0mMarkerStyle\u001b[0m\u001b[1;33m(\u001b[0m\u001b[1;33m)\u001b[0m\u001b[1;33m\u001b[0m\u001b[0m\n\u001b[1;32m--> 405\u001b[1;33m         \u001b[0mself\u001b[0m\u001b[1;33m.\u001b[0m\u001b[0mset_marker\u001b[0m\u001b[1;33m(\u001b[0m\u001b[0mmarker\u001b[0m\u001b[1;33m)\u001b[0m\u001b[1;33m\u001b[0m\u001b[0m\n\u001b[0m\u001b[0;32m    406\u001b[0m \u001b[1;33m\u001b[0m\u001b[0m\n\u001b[0;32m    407\u001b[0m         \u001b[0mself\u001b[0m\u001b[1;33m.\u001b[0m\u001b[0m_markevery\u001b[0m \u001b[1;33m=\u001b[0m \u001b[1;32mNone\u001b[0m\u001b[1;33m\u001b[0m\u001b[0m\n",
      "\u001b[1;32mc:\\python36\\lib\\site-packages\\matplotlib\\lines.py\u001b[0m in \u001b[0;36mset_marker\u001b[1;34m(self, marker)\u001b[0m\n\u001b[0;32m   1169\u001b[0m \u001b[1;33m\u001b[0m\u001b[0m\n\u001b[0;32m   1170\u001b[0m         \"\"\"\n\u001b[1;32m-> 1171\u001b[1;33m         \u001b[0mself\u001b[0m\u001b[1;33m.\u001b[0m\u001b[0m_marker\u001b[0m\u001b[1;33m.\u001b[0m\u001b[0mset_marker\u001b[0m\u001b[1;33m(\u001b[0m\u001b[0mmarker\u001b[0m\u001b[1;33m)\u001b[0m\u001b[1;33m\u001b[0m\u001b[0m\n\u001b[0m\u001b[0;32m   1172\u001b[0m         \u001b[0mself\u001b[0m\u001b[1;33m.\u001b[0m\u001b[0mstale\u001b[0m \u001b[1;33m=\u001b[0m \u001b[1;32mTrue\u001b[0m\u001b[1;33m\u001b[0m\u001b[0m\n\u001b[0;32m   1173\u001b[0m \u001b[1;33m\u001b[0m\u001b[0m\n",
      "\u001b[1;32mc:\\python36\\lib\\site-packages\\matplotlib\\markers.py\u001b[0m in \u001b[0;36mset_marker\u001b[1;34m(self, marker)\u001b[0m\n\u001b[0;32m    268\u001b[0m \u001b[1;33m\u001b[0m\u001b[0m\n\u001b[0;32m    269\u001b[0m         \u001b[0mself\u001b[0m\u001b[1;33m.\u001b[0m\u001b[0m_marker\u001b[0m \u001b[1;33m=\u001b[0m \u001b[0mmarker\u001b[0m\u001b[1;33m\u001b[0m\u001b[0m\n\u001b[1;32m--> 270\u001b[1;33m         \u001b[0mself\u001b[0m\u001b[1;33m.\u001b[0m\u001b[0m_recache\u001b[0m\u001b[1;33m(\u001b[0m\u001b[1;33m)\u001b[0m\u001b[1;33m\u001b[0m\u001b[0m\n\u001b[0m\u001b[0;32m    271\u001b[0m \u001b[1;33m\u001b[0m\u001b[0m\n\u001b[0;32m    272\u001b[0m     \u001b[1;32mdef\u001b[0m \u001b[0mget_path\u001b[0m\u001b[1;33m(\u001b[0m\u001b[0mself\u001b[0m\u001b[1;33m)\u001b[0m\u001b[1;33m:\u001b[0m\u001b[1;33m\u001b[0m\u001b[0m\n",
      "\u001b[1;32mc:\\python36\\lib\\site-packages\\matplotlib\\markers.py\u001b[0m in \u001b[0;36m_recache\u001b[1;34m(self)\u001b[0m\n\u001b[0;32m    206\u001b[0m         \u001b[0mself\u001b[0m\u001b[1;33m.\u001b[0m\u001b[0m_capstyle\u001b[0m \u001b[1;33m=\u001b[0m \u001b[1;34m'butt'\u001b[0m\u001b[1;33m\u001b[0m\u001b[0m\n\u001b[0;32m    207\u001b[0m         \u001b[0mself\u001b[0m\u001b[1;33m.\u001b[0m\u001b[0m_filled\u001b[0m \u001b[1;33m=\u001b[0m \u001b[1;32mTrue\u001b[0m\u001b[1;33m\u001b[0m\u001b[0m\n\u001b[1;32m--> 208\u001b[1;33m         \u001b[0mself\u001b[0m\u001b[1;33m.\u001b[0m\u001b[0m_marker_function\u001b[0m\u001b[1;33m(\u001b[0m\u001b[1;33m)\u001b[0m\u001b[1;33m\u001b[0m\u001b[0m\n\u001b[0m\u001b[0;32m    209\u001b[0m \u001b[1;33m\u001b[0m\u001b[0m\n\u001b[0;32m    210\u001b[0m     \u001b[1;32mif\u001b[0m \u001b[0msix\u001b[0m\u001b[1;33m.\u001b[0m\u001b[0mPY3\u001b[0m\u001b[1;33m:\u001b[0m\u001b[1;33m\u001b[0m\u001b[0m\n",
      "\u001b[1;32mc:\\python36\\lib\\site-packages\\matplotlib\\markers.py\u001b[0m in \u001b[0;36m_set_tickup\u001b[1;34m(self)\u001b[0m\n\u001b[0;32m    712\u001b[0m \u001b[1;33m\u001b[0m\u001b[0m\n\u001b[0;32m    713\u001b[0m     \u001b[1;32mdef\u001b[0m \u001b[0m_set_tickup\u001b[0m\u001b[1;33m(\u001b[0m\u001b[0mself\u001b[0m\u001b[1;33m)\u001b[0m\u001b[1;33m:\u001b[0m\u001b[1;33m\u001b[0m\u001b[0m\n\u001b[1;32m--> 714\u001b[1;33m         \u001b[0mself\u001b[0m\u001b[1;33m.\u001b[0m\u001b[0m_transform\u001b[0m \u001b[1;33m=\u001b[0m \u001b[0mAffine2D\u001b[0m\u001b[1;33m(\u001b[0m\u001b[1;33m)\u001b[0m\u001b[1;33m.\u001b[0m\u001b[0mscale\u001b[0m\u001b[1;33m(\u001b[0m\u001b[1;36m1.0\u001b[0m\u001b[1;33m,\u001b[0m \u001b[1;36m1.0\u001b[0m\u001b[1;33m)\u001b[0m\u001b[1;33m\u001b[0m\u001b[0m\n\u001b[0m\u001b[0;32m    715\u001b[0m         \u001b[0mself\u001b[0m\u001b[1;33m.\u001b[0m\u001b[0m_snap_threshold\u001b[0m \u001b[1;33m=\u001b[0m \u001b[1;36m1.0\u001b[0m\u001b[1;33m\u001b[0m\u001b[0m\n\u001b[0;32m    716\u001b[0m         \u001b[0mself\u001b[0m\u001b[1;33m.\u001b[0m\u001b[0m_filled\u001b[0m \u001b[1;33m=\u001b[0m \u001b[1;32mFalse\u001b[0m\u001b[1;33m\u001b[0m\u001b[0m\n",
      "\u001b[1;32mc:\\python36\\lib\\site-packages\\matplotlib\\transforms.py\u001b[0m in \u001b[0;36mscale\u001b[1;34m(self, sx, sy)\u001b[0m\n\u001b[0;32m   1986\u001b[0m             \u001b[1;33m[\u001b[0m\u001b[1;33m[\u001b[0m\u001b[0msx\u001b[0m\u001b[1;33m,\u001b[0m \u001b[1;36m0.0\u001b[0m\u001b[1;33m,\u001b[0m \u001b[1;36m0.0\u001b[0m\u001b[1;33m]\u001b[0m\u001b[1;33m,\u001b[0m \u001b[1;33m[\u001b[0m\u001b[1;36m0.0\u001b[0m\u001b[1;33m,\u001b[0m \u001b[0msy\u001b[0m\u001b[1;33m,\u001b[0m \u001b[1;36m0.0\u001b[0m\u001b[1;33m]\u001b[0m\u001b[1;33m,\u001b[0m \u001b[1;33m[\u001b[0m\u001b[1;36m0.0\u001b[0m\u001b[1;33m,\u001b[0m \u001b[1;36m0.0\u001b[0m\u001b[1;33m,\u001b[0m \u001b[1;36m1.0\u001b[0m\u001b[1;33m]\u001b[0m\u001b[1;33m]\u001b[0m\u001b[1;33m,\u001b[0m\u001b[1;33m\u001b[0m\u001b[0m\n\u001b[0;32m   1987\u001b[0m             np.float_)\n\u001b[1;32m-> 1988\u001b[1;33m         \u001b[0mself\u001b[0m\u001b[1;33m.\u001b[0m\u001b[0m_mtx\u001b[0m \u001b[1;33m=\u001b[0m \u001b[0mnp\u001b[0m\u001b[1;33m.\u001b[0m\u001b[0mdot\u001b[0m\u001b[1;33m(\u001b[0m\u001b[0mscale_mtx\u001b[0m\u001b[1;33m,\u001b[0m \u001b[0mself\u001b[0m\u001b[1;33m.\u001b[0m\u001b[0m_mtx\u001b[0m\u001b[1;33m)\u001b[0m\u001b[1;33m\u001b[0m\u001b[0m\n\u001b[0m\u001b[0;32m   1989\u001b[0m         \u001b[0mself\u001b[0m\u001b[1;33m.\u001b[0m\u001b[0minvalidate\u001b[0m\u001b[1;33m(\u001b[0m\u001b[1;33m)\u001b[0m\u001b[1;33m\u001b[0m\u001b[0m\n\u001b[0;32m   1990\u001b[0m         \u001b[1;32mreturn\u001b[0m \u001b[0mself\u001b[0m\u001b[1;33m\u001b[0m\u001b[0m\n",
      "\u001b[1;31mKeyboardInterrupt\u001b[0m: "
     ]
    }
   ],
   "source": [
    "ex_amplitude = 0.8\n",
    "pause_length = 16e-9\n",
    "lengths = np.linspace(0e-9, 2e-6, 201)\n",
    "readout_begin = np.max(lengths)\n",
    "def set_ex_length(length):\n",
    "    awg_tek.set_nop(awg_tek.get_clock()/rep_rate)\n",
    "    sequence = [pg.p(None, readout_begin-length), \n",
    "                pg.p('iq_ex', length, pg.rect, ex_amplitude), \n",
    "                pg.p(None, pause_length), \n",
    "                pg.p('ro_trg', trg_length, pg.rect, 1), \n",
    "                pg.p('iq_ro', ro_dac_length, pg.rect, ro_amplitude)]\n",
    "    pg.set_seq(sequence)\n",
    "    awg_tek.run()\n",
    "measurement = sweep.sweep(adc_reducer, (lengths, set_ex_length, 'Rabi pulse length'), filename='Rabi')\n",
    "measurement_fitted, fitted_parameters = fitting.S21pm_fit(measurement, fitting.exp_sin_fit)\n",
    "annotation = 'Phase: {0:4.4g} rad, Freq: {1:4.4g}, Decay: {2:4.4g} s'.format(fitted_parameters['phase'], \n",
    "                                                                             fitted_parameters['freq'], \n",
    "                                                                             fitted_parameters['decay'])\n",
    "save_pkl.save_pkl({'type':'Rabi'}, measurement_fitted,annotation=annotation)"
   ]
  },
  {
   "cell_type": "code",
   "execution_count": 52,
   "metadata": {},
   "outputs": [
    {
     "name": "stderr",
     "output_type": "stream",
     "text": [
      "c:\\python36\\lib\\site-packages\\matplotlib\\backend_bases.py:2445: MatplotlibDeprecationWarning: Using default event loop until function specific to this GUI is implemented\n",
      "  warnings.warn(str, mplDeprecation)\n"
     ]
    }
   ],
   "source": [
    "save_pkl.save_pkl({'type':'Rabi'}, measurement_fitted,annotation=annotation)"
   ]
  },
  {
   "cell_type": "markdown",
   "metadata": {},
   "source": [
    "### Осцилляции Рамзея"
   ]
  },
  {
   "cell_type": "code",
   "execution_count": 78,
   "metadata": {
    "scrolled": true
   },
   "outputs": [
    {
     "name": "stdout",
     "output_type": "stream",
     "text": [
      "Started at:  Jul 01 2017 15:04:57\n"
     ]
    },
    {
     "name": "stderr",
     "output_type": "stream",
     "text": [
      "c:\\python36\\lib\\site-packages\\matplotlib\\backend_bases.py:2445: MatplotlibDeprecationWarning: Using default event loop until function specific to this GUI is implemented\n",
      "  warnings.warn(str, mplDeprecation)\n"
     ]
    },
    {
     "name": "stdout",
     "output_type": "stream",
     "text": [
      "First sweep..."
     ]
    },
    {
     "name": "stderr",
     "output_type": "stream",
     "text": [
      "D:\\qtlab_replacement\\instruments\\Tektronix_AWG5014.py:637: ComplexWarning: Casting complex values to real discards the imaginary part\n",
      "  m1[:] = marker[:len(m1)]\n"
     ]
    },
    {
     "name": "stdout",
     "output_type": "stream",
     "text": [
      "Time left: 0 h 0 m 0.0 s,\tparameter values: Ramsey delay:  2e-06,\taverage cycle time:    7s\t7s\t\t\n",
      "Elapsed time: 0 h 11 m 51.29 s\n",
      "9.46878357392e-07 [  3.16715214e-08   8.08724760e-08   1.29024234e-06   1.49382192e-06] [  6.10986903e-09   8.79847498e-11   2.91425779e-08   4.58014318e-08]\n"
     ]
    }
   ],
   "source": [
    "ex_amplitude = 0.8\n",
    "pi2_pulse = 22e-9\n",
    "pause_length = 16e-9\n",
    "delays = np.linspace(0e-9, 2000e-9, 101)\n",
    "target_freq_offset = 17e6\n",
    "\n",
    "readout_begin = np.max(delays)+pi2_pulse*2\n",
    "\n",
    "def set_delay(delay):\n",
    "    awg_tek.set_nop(awg_tek.get_clock()/rep_rate)\n",
    "    \n",
    "    sequence = [pg.p(None, readout_begin-length),\n",
    "                pg.p('iq_ex', pi2_pulse, pg.rect, ex_amplitude), \n",
    "                pg.p(None, delay), \n",
    "                pg.p('iq_ex', pi2_pulse, pg.rect, ex_amplitude*np.exp(1j*delay*target_freq_offset*2*np.pi)), \n",
    "                pg.p(None, delay), \n",
    "                pg.p('ro_trg', trg_length, pg.rect, 1), \n",
    "                pg.p('iq_ro', ro_dac_length, pg.rect, ro_amplitude)]\n",
    "    \n",
    "    pg.set_seq(sequence)\n",
    "    awg_tek.run()\n",
    "measurement = sweep.sweep(adc_reducer, (delays, set_delay, 'Ramsey delay'), filename='Ramsey')\n",
    "#measurement = sweep.sweep(adc_sz, (delays, set_delay, 'Ramsey delay'), filename='Ramsey')\n",
    "measurement_fitted, fitted_parameters = fitting.S21pm_fit(measurement, fitting.exp_sin_fit)\n",
    "annotation = 'Phase: {0:4.4g} rad, Freq: {1:4.4g}, Decay: {2:4.4g} s'.format(fitted_parameters['phase'], \n",
    "                                                                             fitted_parameters['freq'], \n",
    "                                                                             fitted_parameters['decay'])\n",
    "#save_pkl({'type':'Ramsey'}, measurement_fitted, annotation=annotation)"
   ]
  },
  {
   "cell_type": "code",
   "execution_count": 79,
   "metadata": {},
   "outputs": [
    {
     "name": "stderr",
     "output_type": "stream",
     "text": [
      "c:\\python36\\lib\\site-packages\\matplotlib\\backend_bases.py:2445: MatplotlibDeprecationWarning: Using default event loop until function specific to this GUI is implemented\n",
      "  warnings.warn(str, mplDeprecation)\n"
     ]
    }
   ],
   "source": [
    "save_pkl.save_pkl({'type':'Ramsey'}, measurement_fitted, annotation=annotation)"
   ]
  },
  {
   "cell_type": "markdown",
   "metadata": {},
   "source": [
    "### Затухание свободной индукции (T1)"
   ]
  },
  {
   "cell_type": "code",
   "execution_count": 63,
   "metadata": {},
   "outputs": [
    {
     "name": "stdout",
     "output_type": "stream",
     "text": [
      "Started at:  Jun 29 2017 17:16:14\n"
     ]
    },
    {
     "name": "stderr",
     "output_type": "stream",
     "text": [
      "c:\\python36\\lib\\site-packages\\matplotlib\\backend_bases.py:2445: MatplotlibDeprecationWarning: Using default event loop until function specific to this GUI is implemented\n",
      "  warnings.warn(str, mplDeprecation)\n"
     ]
    },
    {
     "name": "stdout",
     "output_type": "stream",
     "text": [
      "Time left: 0 h 0 m 0.0 s,\tparameter values: delay:  1e-05,\taverage cycle time:  4.1s\t1s\t\t\n",
      "Elapsed time: 0 h 2 m 46.87 s\n"
     ]
    }
   ],
   "source": [
    "ex_amplitude = 0.8\n",
    "pi_pulse = 44e-9\n",
    "pause_length = 16e-9\n",
    "delays = np.linspace(0e-9, 10000e-9, 41)\n",
    "readout_begin = np.max(delays)+pi_pulse\n",
    "def set_delay(delay):\n",
    "    awg_tek.set_nop(awg_tek.get_clock()/rep_rate)\n",
    "    \n",
    "    sequence = [pg.p(None, readout_begin-length),\n",
    "                pg.p('iq_ex', pi_pulse, pg.rect, ex_amplitude), \n",
    "                pg.p(None, delay), \n",
    "                pg.p('ro_trg', trg_length, pg.rect, 1), \n",
    "                pg.p('iq_ro', ro_dac_length, pg.rect, ro_amplitude)]\n",
    "    \n",
    "    pg.set_seq(sequence)\n",
    "    awg_tek.run()\n",
    "measurement = sweep.sweep(adc_reducer, (delays, set_delay, 'delay'), filename='Decay')\n",
    "\n",
    "measurement_fitted, fitted_parameters = fitting.S21pm_fit(measurement, fitting.exp_fit)\n",
    "#save_pkl.save_pkl({'type':'Decay'}, measurement_fitted)\n",
    "annotation = 'Decay: {0:4.6g} s'.format(fitted_parameters['decay'])\n",
    "save_pkl.save_pkl({'type':'Decay'}, measurement_fitted, annotation=annotation)"
   ]
  },
  {
   "cell_type": "code",
   "execution_count": 64,
   "metadata": {},
   "outputs": [
    {
     "name": "stderr",
     "output_type": "stream",
     "text": [
      "c:\\python36\\lib\\site-packages\\matplotlib\\backend_bases.py:2445: MatplotlibDeprecationWarning: Using default event loop until function specific to this GUI is implemented\n",
      "  warnings.warn(str, mplDeprecation)\n"
     ]
    }
   ],
   "source": [
    "annotation = 'Decay: {0:4.6g} s'.format(fitted_parameters['decay'])\n",
    "save_pkl.save_pkl({'type':'Decay'}, measurement_fitted, annotation=annotation)"
   ]
  },
  {
   "cell_type": "markdown",
   "metadata": {},
   "source": [
    "### Rabi amplitude oscillations"
   ]
  },
  {
   "cell_type": "code",
   "execution_count": 18,
   "metadata": {},
   "outputs": [
    {
     "name": "stdout",
     "output_type": "stream",
     "text": [
      "Started at:  Jun 29 2017 15:49:20\n"
     ]
    },
    {
     "name": "stderr",
     "output_type": "stream",
     "text": [
      "c:\\python36\\lib\\site-packages\\matplotlib\\backend_bases.py:2445: MatplotlibDeprecationWarning: Using default event loop until function specific to this GUI is implemented\n",
      "  warnings.warn(str, mplDeprecation)\n"
     ]
    },
    {
     "name": "stdout",
     "output_type": "stream",
     "text": [
      "Time left: 0 h 0 m 0.0 s,\tparameter values: Rabi pulse amplitude:      1,\taverage cycle time:  3.4s\t\t\t\n",
      "Elapsed time: 0 h 2 m 53.01 s\n"
     ]
    }
   ],
   "source": [
    "ex_amps = np.linspace(0.,1.0,51)\n",
    "pause_length = 32e-9\n",
    "length = 32e-9\n",
    "sigma = 8e-9\n",
    "num_pulses = 4\n",
    "readout_begin = np.max((length+pause_length)*num_pulses)\n",
    "def set_ex_amp(amp):\n",
    "    awg_tek.set_nop(awg_tek.get_clock()/rep_rate)\n",
    "    \n",
    "    sequence = [pg.p('iq_ex', pi_pulse, pg.gauss_hd, sigma, ex_amplitude, 0), \n",
    "                pg.p(None, readout_begin-length)]*num_pulses+\\ \n",
    "               [pg.p('ro_trg', trg_length, pg.rect, 1), \n",
    "                pg.p('iq_ro', ro_dac_length, pg.rect, ro_amplitude)]\n",
    "    \n",
    "    pg.set_seq(sequence)\n",
    "    \n",
    "    awg_tek.run()\n",
    "measurement = sweep.sweep(adc_reducer, (ex_amps, set_ex_amp, 'Rabi pulse amplitude'), filename='Rabi')"
   ]
  },
  {
   "cell_type": "markdown",
   "metadata": {},
   "source": [
    "### gaussian $\\pi/2$ pulse amplitudes"
   ]
  },
  {
   "cell_type": "code",
   "execution_count": 118,
   "metadata": {
    "collapsed": true
   },
   "outputs": [],
   "source": [
    "#amp_x=0.554\n",
    "#amp_y=0.554\n",
    "#sigma = 2e-9\n",
    "#amp_x=0.29\n",
    "#amp_y=0.29\n",
    "amp_x = 0.925\n",
    "length = 32e-9\n",
    "pause_length = 8e-9\n",
    "sigma = 8e-9\n",
    "amp_x_hd = 0.925\n",
    "length_hd = 32e-9\n",
    "sigma_hd = 8e-9\n",
    "pause_length_hd = 8e-9\n",
    "alpha_hd = -0.92e-9"
   ]
  },
  {
   "cell_type": "markdown",
   "metadata": {},
   "source": [
    "### Ramsey with gauss pulses"
   ]
  },
  {
   "cell_type": "code",
   "execution_count": 14,
   "metadata": {
    "scrolled": true
   },
   "outputs": [
    {
     "name": "stdout",
     "output_type": "stream",
     "text": [
      "Started at:  Jul 01 2017 18:27:49\n"
     ]
    },
    {
     "name": "stderr",
     "output_type": "stream",
     "text": [
      "c:\\python36\\lib\\site-packages\\matplotlib\\backend_bases.py:2445: MatplotlibDeprecationWarning: Using default event loop until function specific to this GUI is implemented\n",
      "  warnings.warn(str, mplDeprecation)\n"
     ]
    },
    {
     "name": "stdout",
     "output_type": "stream",
     "text": [
      "First sweep..."
     ]
    },
    {
     "ename": "KeyboardInterrupt",
     "evalue": "",
     "output_type": "error",
     "traceback": [
      "\u001b[1;31m---------------------------------------------------------------------------\u001b[0m",
      "\u001b[1;31mNameError\u001b[0m                                 Traceback (most recent call last)",
      "\u001b[1;32mD:\\qtlab_replacement\\scripts\\sweep.py\u001b[0m in \u001b[0;36msweep\u001b[1;34m(measurer, filename, root_dir, plot, header, output, *params)\u001b[0m\n\u001b[0;32m    127\u001b[0m                                 \u001b[1;32mif\u001b[0m \u001b[0mchanged\u001b[0m\u001b[1;33m:\u001b[0m\u001b[1;33m\u001b[0m\u001b[0m\n\u001b[1;32m--> 128\u001b[1;33m                                         \u001b[0msetter\u001b[0m\u001b[1;33m(\u001b[0m\u001b[0mval\u001b[0m\u001b[1;33m)\u001b[0m\u001b[1;33m\u001b[0m\u001b[0m\n\u001b[0m\u001b[0;32m    129\u001b[0m                         \u001b[1;31m#measuring\u001b[0m\u001b[1;33m\u001b[0m\u001b[1;33m\u001b[0m\u001b[0m\n",
      "\u001b[1;32m<ipython-input-14-92fcd3af844c>\u001b[0m in \u001b[0;36mset_delay\u001b[1;34m(delay)\u001b[0m\n\u001b[0;32m      4\u001b[0m \u001b[1;32mdef\u001b[0m \u001b[0mset_delay\u001b[0m\u001b[1;33m(\u001b[0m\u001b[0mdelay\u001b[0m\u001b[1;33m)\u001b[0m\u001b[1;33m:\u001b[0m\u001b[1;33m\u001b[0m\u001b[0m\n\u001b[1;32m----> 5\u001b[1;33m     sequence = [pg.p(None, readout_begin-length),\n\u001b[0m\u001b[0;32m      6\u001b[0m                 \u001b[0mpg\u001b[0m\u001b[1;33m.\u001b[0m\u001b[0mp\u001b[0m\u001b[1;33m(\u001b[0m\u001b[1;34m'iq_ex'\u001b[0m\u001b[1;33m,\u001b[0m \u001b[0mpi2_pulse\u001b[0m\u001b[1;33m,\u001b[0m \u001b[0mpg\u001b[0m\u001b[1;33m.\u001b[0m\u001b[0mgauss_hd\u001b[0m\u001b[1;33m,\u001b[0m \u001b[0msigma\u001b[0m\u001b[1;33m,\u001b[0m \u001b[0mex_amplitude\u001b[0m\u001b[1;33m,\u001b[0m \u001b[1;36m0\u001b[0m\u001b[1;33m)\u001b[0m\u001b[1;33m,\u001b[0m\u001b[1;33m\u001b[0m\u001b[0m\n",
      "\u001b[1;31mNameError\u001b[0m: name 'readout_begin' is not defined",
      "\nDuring handling of the above exception, another exception occurred:\n",
      "\u001b[1;31mKeyboardInterrupt\u001b[0m                         Traceback (most recent call last)",
      "\u001b[1;32m<ipython-input-14-92fcd3af844c>\u001b[0m in \u001b[0;36m<module>\u001b[1;34m()\u001b[0m\n\u001b[0;32m     13\u001b[0m     \u001b[0mpg\u001b[0m\u001b[1;33m.\u001b[0m\u001b[0mset_seq\u001b[0m\u001b[1;33m(\u001b[0m\u001b[0msequence\u001b[0m\u001b[1;33m)\u001b[0m\u001b[1;33m\u001b[0m\u001b[0m\n\u001b[0;32m     14\u001b[0m     \u001b[0mawg_tek\u001b[0m\u001b[1;33m.\u001b[0m\u001b[0mrun\u001b[0m\u001b[1;33m(\u001b[0m\u001b[1;33m)\u001b[0m\u001b[1;33m\u001b[0m\u001b[0m\n\u001b[1;32m---> 15\u001b[1;33m \u001b[0mmeasurement\u001b[0m \u001b[1;33m=\u001b[0m \u001b[0msweep\u001b[0m\u001b[1;33m.\u001b[0m\u001b[0msweep\u001b[0m\u001b[1;33m(\u001b[0m\u001b[0madc_reducer\u001b[0m\u001b[1;33m,\u001b[0m \u001b[1;33m(\u001b[0m\u001b[0mdelays\u001b[0m\u001b[1;33m,\u001b[0m \u001b[0mset_delay\u001b[0m\u001b[1;33m,\u001b[0m \u001b[1;34m'Ramsey delay'\u001b[0m\u001b[1;33m)\u001b[0m\u001b[1;33m,\u001b[0m \u001b[0mfilename\u001b[0m\u001b[1;33m=\u001b[0m\u001b[1;34m'Ramsey'\u001b[0m\u001b[1;33m)\u001b[0m\u001b[1;33m\u001b[0m\u001b[0m\n\u001b[0m\u001b[0;32m     16\u001b[0m \u001b[0mmeasurement_fitted\u001b[0m\u001b[1;33m,\u001b[0m \u001b[0mfitted_parameters\u001b[0m \u001b[1;33m=\u001b[0m \u001b[0mfitting\u001b[0m\u001b[1;33m.\u001b[0m\u001b[0mS21pm_fit\u001b[0m\u001b[1;33m(\u001b[0m\u001b[0mmeasurement\u001b[0m\u001b[1;33m,\u001b[0m \u001b[0mfitting\u001b[0m\u001b[1;33m.\u001b[0m\u001b[0mexp_sin_fit\u001b[0m\u001b[1;33m)\u001b[0m\u001b[1;33m\u001b[0m\u001b[0m\n\u001b[0;32m     17\u001b[0m annotation = 'Phase: {0:4.4g} rad, Freq: {1:4.4g}, Decay: {2:4.4g} s'.format(fitted_parameters['phase'], \n",
      "\u001b[1;32mD:\\qtlab_replacement\\scripts\\sweep.py\u001b[0m in \u001b[0;36msweep\u001b[1;34m(measurer, filename, root_dir, plot, header, output, *params)\u001b[0m\n\u001b[0;32m    177\u001b[0m \u001b[1;33m\u001b[0m\u001b[0m\n\u001b[0;32m    178\u001b[0m                         \u001b[1;31m#save_pkl.save_pkl(header, data_pkl, location = data_dir)\u001b[0m\u001b[1;33m\u001b[0m\u001b[1;33m\u001b[0m\u001b[0m\n\u001b[1;32m--> 179\u001b[1;33m                         \u001b[0msave_pkl\u001b[0m\u001b[1;33m.\u001b[0m\u001b[0msave_pkl\u001b[0m\u001b[1;33m(\u001b[0m\u001b[0mheader\u001b[0m\u001b[1;33m,\u001b[0m \u001b[0mmk_measurement\u001b[0m\u001b[1;33m(\u001b[0m\u001b[1;36m0\u001b[0m\u001b[1;33m)\u001b[0m\u001b[1;33m,\u001b[0m \u001b[0mlocation\u001b[0m \u001b[1;33m=\u001b[0m \u001b[0mdata_dir\u001b[0m\u001b[1;33m)\u001b[0m\u001b[1;33m\u001b[0m\u001b[0m\n\u001b[0m\u001b[0;32m    180\u001b[0m \u001b[1;33m\u001b[0m\u001b[0m\n\u001b[0;32m    181\u001b[0m                         \u001b[1;32mif\u001b[0m \u001b[0mascii_files\u001b[0m\u001b[1;33m[\u001b[0m\u001b[0mmname\u001b[0m\u001b[1;33m]\u001b[0m\u001b[1;33m:\u001b[0m\u001b[1;33m\u001b[0m\u001b[0m\n",
      "\u001b[1;32mD:\\qtlab_replacement\\scripts\\save_pkl.py\u001b[0m in \u001b[0;36msave_pkl\u001b[1;34m(header, data, plot, curve_fit, annotation, location, time, filename, matlab)\u001b[0m\n\u001b[0;32m     64\u001b[0m         \u001b[0mf\u001b[0m\u001b[1;33m.\u001b[0m\u001b[0mclose\u001b[0m\u001b[1;33m(\u001b[0m\u001b[1;33m)\u001b[0m\u001b[1;33m\u001b[0m\u001b[0m\n\u001b[0;32m     65\u001b[0m         \u001b[1;32mif\u001b[0m \u001b[0mplot\u001b[0m\u001b[1;33m:\u001b[0m\u001b[1;33m\u001b[0m\u001b[0m\n\u001b[1;32m---> 66\u001b[1;33m                 \u001b[0mplotting\u001b[0m\u001b[1;33m.\u001b[0m\u001b[0mplot_measurement\u001b[0m\u001b[1;33m(\u001b[0m\u001b[0mdata\u001b[0m\u001b[1;33m,\u001b[0m \u001b[0mfilename\u001b[0m\u001b[1;33m,\u001b[0m \u001b[0msave\u001b[0m\u001b[1;33m=\u001b[0m\u001b[0mlocation\u001b[0m\u001b[1;33m,\u001b[0m \u001b[0mannotation\u001b[0m\u001b[1;33m=\u001b[0m\u001b[0mannotation\u001b[0m\u001b[1;33m)\u001b[0m\u001b[1;33m\u001b[0m\u001b[0m\n\u001b[0m\u001b[0;32m     67\u001b[0m \u001b[1;33m\u001b[0m\u001b[0m\n\u001b[0;32m     68\u001b[0m         \u001b[1;32mif\u001b[0m \u001b[0mmatlab\u001b[0m\u001b[1;33m:\u001b[0m\u001b[1;33m\u001b[0m\u001b[0m\n",
      "\u001b[1;32mD:\\qtlab_replacement\\scripts\\plotting.py\u001b[0m in \u001b[0;36mplot_measurement\u001b[1;34m(measurement, name, save, annotation)\u001b[0m\n\u001b[0;32m     98\u001b[0m                 \u001b[1;32mif\u001b[0m \u001b[0msave\u001b[0m\u001b[1;33m:\u001b[0m\u001b[1;33m\u001b[0m\u001b[0m\n\u001b[0;32m     99\u001b[0m                         \u001b[0mplt\u001b[0m\u001b[1;33m.\u001b[0m\u001b[0mgrid\u001b[0m\u001b[1;33m(\u001b[0m\u001b[1;33m)\u001b[0m\u001b[1;33m\u001b[0m\u001b[0m\n\u001b[1;32m--> 100\u001b[1;33m                         \u001b[0mplt\u001b[0m\u001b[1;33m.\u001b[0m\u001b[0msavefig\u001b[0m\u001b[1;33m(\u001b[0m\u001b[1;34m'{0}/{1}.png'\u001b[0m\u001b[1;33m.\u001b[0m\u001b[0mformat\u001b[0m\u001b[1;33m(\u001b[0m\u001b[0msave\u001b[0m\u001b[1;33m,\u001b[0m \u001b[0max_name\u001b[0m\u001b[1;33m)\u001b[0m\u001b[1;33m)\u001b[0m\u001b[1;33m\u001b[0m\u001b[0m\n\u001b[0m\u001b[0;32m    101\u001b[0m \u001b[1;33m\u001b[0m\u001b[0m\n\u001b[0;32m    102\u001b[0m         \u001b[1;31m# return all the axes, filters & plotting instructions for updates\u001b[0m\u001b[1;33m\u001b[0m\u001b[1;33m\u001b[0m\u001b[0m\n",
      "\u001b[1;32mc:\\python36\\lib\\site-packages\\matplotlib\\pyplot.py\u001b[0m in \u001b[0;36msavefig\u001b[1;34m(*args, **kwargs)\u001b[0m\n\u001b[0;32m    695\u001b[0m \u001b[1;32mdef\u001b[0m \u001b[0msavefig\u001b[0m\u001b[1;33m(\u001b[0m\u001b[1;33m*\u001b[0m\u001b[0margs\u001b[0m\u001b[1;33m,\u001b[0m \u001b[1;33m**\u001b[0m\u001b[0mkwargs\u001b[0m\u001b[1;33m)\u001b[0m\u001b[1;33m:\u001b[0m\u001b[1;33m\u001b[0m\u001b[0m\n\u001b[0;32m    696\u001b[0m     \u001b[0mfig\u001b[0m \u001b[1;33m=\u001b[0m \u001b[0mgcf\u001b[0m\u001b[1;33m(\u001b[0m\u001b[1;33m)\u001b[0m\u001b[1;33m\u001b[0m\u001b[0m\n\u001b[1;32m--> 697\u001b[1;33m     \u001b[0mres\u001b[0m \u001b[1;33m=\u001b[0m \u001b[0mfig\u001b[0m\u001b[1;33m.\u001b[0m\u001b[0msavefig\u001b[0m\u001b[1;33m(\u001b[0m\u001b[1;33m*\u001b[0m\u001b[0margs\u001b[0m\u001b[1;33m,\u001b[0m \u001b[1;33m**\u001b[0m\u001b[0mkwargs\u001b[0m\u001b[1;33m)\u001b[0m\u001b[1;33m\u001b[0m\u001b[0m\n\u001b[0m\u001b[0;32m    698\u001b[0m     \u001b[0mfig\u001b[0m\u001b[1;33m.\u001b[0m\u001b[0mcanvas\u001b[0m\u001b[1;33m.\u001b[0m\u001b[0mdraw_idle\u001b[0m\u001b[1;33m(\u001b[0m\u001b[1;33m)\u001b[0m   \u001b[1;31m# need this if 'transparent=True' to reset colors\u001b[0m\u001b[1;33m\u001b[0m\u001b[0m\n\u001b[0;32m    699\u001b[0m     \u001b[1;32mreturn\u001b[0m \u001b[0mres\u001b[0m\u001b[1;33m\u001b[0m\u001b[0m\n",
      "\u001b[1;32mc:\\python36\\lib\\site-packages\\matplotlib\\figure.py\u001b[0m in \u001b[0;36msavefig\u001b[1;34m(self, *args, **kwargs)\u001b[0m\n\u001b[0;32m   1570\u001b[0m             \u001b[0mself\u001b[0m\u001b[1;33m.\u001b[0m\u001b[0mset_frameon\u001b[0m\u001b[1;33m(\u001b[0m\u001b[0mframeon\u001b[0m\u001b[1;33m)\u001b[0m\u001b[1;33m\u001b[0m\u001b[0m\n\u001b[0;32m   1571\u001b[0m \u001b[1;33m\u001b[0m\u001b[0m\n\u001b[1;32m-> 1572\u001b[1;33m         \u001b[0mself\u001b[0m\u001b[1;33m.\u001b[0m\u001b[0mcanvas\u001b[0m\u001b[1;33m.\u001b[0m\u001b[0mprint_figure\u001b[0m\u001b[1;33m(\u001b[0m\u001b[1;33m*\u001b[0m\u001b[0margs\u001b[0m\u001b[1;33m,\u001b[0m \u001b[1;33m**\u001b[0m\u001b[0mkwargs\u001b[0m\u001b[1;33m)\u001b[0m\u001b[1;33m\u001b[0m\u001b[0m\n\u001b[0m\u001b[0;32m   1573\u001b[0m \u001b[1;33m\u001b[0m\u001b[0m\n\u001b[0;32m   1574\u001b[0m         \u001b[1;32mif\u001b[0m \u001b[0mframeon\u001b[0m\u001b[1;33m:\u001b[0m\u001b[1;33m\u001b[0m\u001b[0m\n",
      "\u001b[1;32mc:\\python36\\lib\\site-packages\\matplotlib\\backends\\backend_qt5agg.py\u001b[0m in \u001b[0;36mprint_figure\u001b[1;34m(self, *args, **kwargs)\u001b[0m\n\u001b[0;32m    221\u001b[0m     \u001b[1;32mdef\u001b[0m \u001b[0mprint_figure\u001b[0m\u001b[1;33m(\u001b[0m\u001b[0mself\u001b[0m\u001b[1;33m,\u001b[0m \u001b[1;33m*\u001b[0m\u001b[0margs\u001b[0m\u001b[1;33m,\u001b[0m \u001b[1;33m**\u001b[0m\u001b[0mkwargs\u001b[0m\u001b[1;33m)\u001b[0m\u001b[1;33m:\u001b[0m\u001b[1;33m\u001b[0m\u001b[0m\n\u001b[0;32m    222\u001b[0m         \u001b[0mFigureCanvasAgg\u001b[0m\u001b[1;33m.\u001b[0m\u001b[0mprint_figure\u001b[0m\u001b[1;33m(\u001b[0m\u001b[0mself\u001b[0m\u001b[1;33m,\u001b[0m \u001b[1;33m*\u001b[0m\u001b[0margs\u001b[0m\u001b[1;33m,\u001b[0m \u001b[1;33m**\u001b[0m\u001b[0mkwargs\u001b[0m\u001b[1;33m)\u001b[0m\u001b[1;33m\u001b[0m\u001b[0m\n\u001b[1;32m--> 223\u001b[1;33m         \u001b[0mself\u001b[0m\u001b[1;33m.\u001b[0m\u001b[0mdraw\u001b[0m\u001b[1;33m(\u001b[0m\u001b[1;33m)\u001b[0m\u001b[1;33m\u001b[0m\u001b[0m\n\u001b[0m\u001b[0;32m    224\u001b[0m \u001b[1;33m\u001b[0m\u001b[0m\n\u001b[0;32m    225\u001b[0m \u001b[1;33m\u001b[0m\u001b[0m\n",
      "\u001b[1;32mc:\\python36\\lib\\site-packages\\matplotlib\\backends\\backend_qt5agg.py\u001b[0m in \u001b[0;36mdraw\u001b[1;34m(self)\u001b[0m\n\u001b[0;32m    174\u001b[0m         \u001b[1;31m# The Agg draw is done here; delaying causes problems with code that\u001b[0m\u001b[1;33m\u001b[0m\u001b[1;33m\u001b[0m\u001b[0m\n\u001b[0;32m    175\u001b[0m         \u001b[1;31m# uses the result of the draw() to update plot elements.\u001b[0m\u001b[1;33m\u001b[0m\u001b[1;33m\u001b[0m\u001b[0m\n\u001b[1;32m--> 176\u001b[1;33m         \u001b[0mFigureCanvasAgg\u001b[0m\u001b[1;33m.\u001b[0m\u001b[0mdraw\u001b[0m\u001b[1;33m(\u001b[0m\u001b[0mself\u001b[0m\u001b[1;33m)\u001b[0m\u001b[1;33m\u001b[0m\u001b[0m\n\u001b[0m\u001b[0;32m    177\u001b[0m         \u001b[0mself\u001b[0m\u001b[1;33m.\u001b[0m\u001b[0mupdate\u001b[0m\u001b[1;33m(\u001b[0m\u001b[1;33m)\u001b[0m\u001b[1;33m\u001b[0m\u001b[0m\n\u001b[0;32m    178\u001b[0m \u001b[1;33m\u001b[0m\u001b[0m\n",
      "\u001b[1;32mc:\\python36\\lib\\site-packages\\matplotlib\\backends\\backend_agg.py\u001b[0m in \u001b[0;36mdraw\u001b[1;34m(self)\u001b[0m\n\u001b[0;32m    462\u001b[0m \u001b[1;33m\u001b[0m\u001b[0m\n\u001b[0;32m    463\u001b[0m         \u001b[1;32mtry\u001b[0m\u001b[1;33m:\u001b[0m\u001b[1;33m\u001b[0m\u001b[0m\n\u001b[1;32m--> 464\u001b[1;33m             \u001b[0mself\u001b[0m\u001b[1;33m.\u001b[0m\u001b[0mfigure\u001b[0m\u001b[1;33m.\u001b[0m\u001b[0mdraw\u001b[0m\u001b[1;33m(\u001b[0m\u001b[0mself\u001b[0m\u001b[1;33m.\u001b[0m\u001b[0mrenderer\u001b[0m\u001b[1;33m)\u001b[0m\u001b[1;33m\u001b[0m\u001b[0m\n\u001b[0m\u001b[0;32m    465\u001b[0m         \u001b[1;32mfinally\u001b[0m\u001b[1;33m:\u001b[0m\u001b[1;33m\u001b[0m\u001b[0m\n\u001b[0;32m    466\u001b[0m             \u001b[0mRendererAgg\u001b[0m\u001b[1;33m.\u001b[0m\u001b[0mlock\u001b[0m\u001b[1;33m.\u001b[0m\u001b[0mrelease\u001b[0m\u001b[1;33m(\u001b[0m\u001b[1;33m)\u001b[0m\u001b[1;33m\u001b[0m\u001b[0m\n",
      "\u001b[1;32mc:\\python36\\lib\\site-packages\\matplotlib\\artist.py\u001b[0m in \u001b[0;36mdraw_wrapper\u001b[1;34m(artist, renderer, *args, **kwargs)\u001b[0m\n\u001b[0;32m     61\u001b[0m     \u001b[1;32mdef\u001b[0m \u001b[0mdraw_wrapper\u001b[0m\u001b[1;33m(\u001b[0m\u001b[0martist\u001b[0m\u001b[1;33m,\u001b[0m \u001b[0mrenderer\u001b[0m\u001b[1;33m,\u001b[0m \u001b[1;33m*\u001b[0m\u001b[0margs\u001b[0m\u001b[1;33m,\u001b[0m \u001b[1;33m**\u001b[0m\u001b[0mkwargs\u001b[0m\u001b[1;33m)\u001b[0m\u001b[1;33m:\u001b[0m\u001b[1;33m\u001b[0m\u001b[0m\n\u001b[0;32m     62\u001b[0m         \u001b[0mbefore\u001b[0m\u001b[1;33m(\u001b[0m\u001b[0martist\u001b[0m\u001b[1;33m,\u001b[0m \u001b[0mrenderer\u001b[0m\u001b[1;33m)\u001b[0m\u001b[1;33m\u001b[0m\u001b[0m\n\u001b[1;32m---> 63\u001b[1;33m         \u001b[0mdraw\u001b[0m\u001b[1;33m(\u001b[0m\u001b[0martist\u001b[0m\u001b[1;33m,\u001b[0m \u001b[0mrenderer\u001b[0m\u001b[1;33m,\u001b[0m \u001b[1;33m*\u001b[0m\u001b[0margs\u001b[0m\u001b[1;33m,\u001b[0m \u001b[1;33m**\u001b[0m\u001b[0mkwargs\u001b[0m\u001b[1;33m)\u001b[0m\u001b[1;33m\u001b[0m\u001b[0m\n\u001b[0m\u001b[0;32m     64\u001b[0m         \u001b[0mafter\u001b[0m\u001b[1;33m(\u001b[0m\u001b[0martist\u001b[0m\u001b[1;33m,\u001b[0m \u001b[0mrenderer\u001b[0m\u001b[1;33m)\u001b[0m\u001b[1;33m\u001b[0m\u001b[0m\n\u001b[0;32m     65\u001b[0m \u001b[1;33m\u001b[0m\u001b[0m\n",
      "\u001b[1;32mc:\\python36\\lib\\site-packages\\matplotlib\\figure.py\u001b[0m in \u001b[0;36mdraw\u001b[1;34m(self, renderer)\u001b[0m\n\u001b[0;32m   1141\u001b[0m \u001b[1;33m\u001b[0m\u001b[0m\n\u001b[0;32m   1142\u001b[0m             mimage._draw_list_compositing_images(\n\u001b[1;32m-> 1143\u001b[1;33m                 renderer, self, dsu, self.suppressComposite)\n\u001b[0m\u001b[0;32m   1144\u001b[0m \u001b[1;33m\u001b[0m\u001b[0m\n\u001b[0;32m   1145\u001b[0m             \u001b[0mrenderer\u001b[0m\u001b[1;33m.\u001b[0m\u001b[0mclose_group\u001b[0m\u001b[1;33m(\u001b[0m\u001b[1;34m'figure'\u001b[0m\u001b[1;33m)\u001b[0m\u001b[1;33m\u001b[0m\u001b[0m\n",
      "\u001b[1;32mc:\\python36\\lib\\site-packages\\matplotlib\\image.py\u001b[0m in \u001b[0;36m_draw_list_compositing_images\u001b[1;34m(renderer, parent, dsu, suppress_composite)\u001b[0m\n\u001b[0;32m    137\u001b[0m     \u001b[1;32mif\u001b[0m \u001b[0mnot_composite\u001b[0m \u001b[1;32mor\u001b[0m \u001b[1;32mnot\u001b[0m \u001b[0mhas_images\u001b[0m\u001b[1;33m:\u001b[0m\u001b[1;33m\u001b[0m\u001b[0m\n\u001b[0;32m    138\u001b[0m         \u001b[1;32mfor\u001b[0m \u001b[0mzorder\u001b[0m\u001b[1;33m,\u001b[0m \u001b[0ma\u001b[0m \u001b[1;32min\u001b[0m \u001b[0mdsu\u001b[0m\u001b[1;33m:\u001b[0m\u001b[1;33m\u001b[0m\u001b[0m\n\u001b[1;32m--> 139\u001b[1;33m             \u001b[0ma\u001b[0m\u001b[1;33m.\u001b[0m\u001b[0mdraw\u001b[0m\u001b[1;33m(\u001b[0m\u001b[0mrenderer\u001b[0m\u001b[1;33m)\u001b[0m\u001b[1;33m\u001b[0m\u001b[0m\n\u001b[0m\u001b[0;32m    140\u001b[0m     \u001b[1;32melse\u001b[0m\u001b[1;33m:\u001b[0m\u001b[1;33m\u001b[0m\u001b[0m\n\u001b[0;32m    141\u001b[0m         \u001b[1;31m# Composite any adjacent images together\u001b[0m\u001b[1;33m\u001b[0m\u001b[1;33m\u001b[0m\u001b[0m\n",
      "\u001b[1;32mc:\\python36\\lib\\site-packages\\matplotlib\\artist.py\u001b[0m in \u001b[0;36mdraw_wrapper\u001b[1;34m(artist, renderer, *args, **kwargs)\u001b[0m\n\u001b[0;32m     61\u001b[0m     \u001b[1;32mdef\u001b[0m \u001b[0mdraw_wrapper\u001b[0m\u001b[1;33m(\u001b[0m\u001b[0martist\u001b[0m\u001b[1;33m,\u001b[0m \u001b[0mrenderer\u001b[0m\u001b[1;33m,\u001b[0m \u001b[1;33m*\u001b[0m\u001b[0margs\u001b[0m\u001b[1;33m,\u001b[0m \u001b[1;33m**\u001b[0m\u001b[0mkwargs\u001b[0m\u001b[1;33m)\u001b[0m\u001b[1;33m:\u001b[0m\u001b[1;33m\u001b[0m\u001b[0m\n\u001b[0;32m     62\u001b[0m         \u001b[0mbefore\u001b[0m\u001b[1;33m(\u001b[0m\u001b[0martist\u001b[0m\u001b[1;33m,\u001b[0m \u001b[0mrenderer\u001b[0m\u001b[1;33m)\u001b[0m\u001b[1;33m\u001b[0m\u001b[0m\n\u001b[1;32m---> 63\u001b[1;33m         \u001b[0mdraw\u001b[0m\u001b[1;33m(\u001b[0m\u001b[0martist\u001b[0m\u001b[1;33m,\u001b[0m \u001b[0mrenderer\u001b[0m\u001b[1;33m,\u001b[0m \u001b[1;33m*\u001b[0m\u001b[0margs\u001b[0m\u001b[1;33m,\u001b[0m \u001b[1;33m**\u001b[0m\u001b[0mkwargs\u001b[0m\u001b[1;33m)\u001b[0m\u001b[1;33m\u001b[0m\u001b[0m\n\u001b[0m\u001b[0;32m     64\u001b[0m         \u001b[0mafter\u001b[0m\u001b[1;33m(\u001b[0m\u001b[0martist\u001b[0m\u001b[1;33m,\u001b[0m \u001b[0mrenderer\u001b[0m\u001b[1;33m)\u001b[0m\u001b[1;33m\u001b[0m\u001b[0m\n\u001b[0;32m     65\u001b[0m \u001b[1;33m\u001b[0m\u001b[0m\n",
      "\u001b[1;32mc:\\python36\\lib\\site-packages\\matplotlib\\axes\\_base.py\u001b[0m in \u001b[0;36mdraw\u001b[1;34m(self, renderer, inframe)\u001b[0m\n\u001b[0;32m   2407\u001b[0m             \u001b[0mrenderer\u001b[0m\u001b[1;33m.\u001b[0m\u001b[0mstop_rasterizing\u001b[0m\u001b[1;33m(\u001b[0m\u001b[1;33m)\u001b[0m\u001b[1;33m\u001b[0m\u001b[0m\n\u001b[0;32m   2408\u001b[0m \u001b[1;33m\u001b[0m\u001b[0m\n\u001b[1;32m-> 2409\u001b[1;33m         \u001b[0mmimage\u001b[0m\u001b[1;33m.\u001b[0m\u001b[0m_draw_list_compositing_images\u001b[0m\u001b[1;33m(\u001b[0m\u001b[0mrenderer\u001b[0m\u001b[1;33m,\u001b[0m \u001b[0mself\u001b[0m\u001b[1;33m,\u001b[0m \u001b[0mdsu\u001b[0m\u001b[1;33m)\u001b[0m\u001b[1;33m\u001b[0m\u001b[0m\n\u001b[0m\u001b[0;32m   2410\u001b[0m \u001b[1;33m\u001b[0m\u001b[0m\n\u001b[0;32m   2411\u001b[0m         \u001b[0mrenderer\u001b[0m\u001b[1;33m.\u001b[0m\u001b[0mclose_group\u001b[0m\u001b[1;33m(\u001b[0m\u001b[1;34m'axes'\u001b[0m\u001b[1;33m)\u001b[0m\u001b[1;33m\u001b[0m\u001b[0m\n",
      "\u001b[1;32mc:\\python36\\lib\\site-packages\\matplotlib\\image.py\u001b[0m in \u001b[0;36m_draw_list_compositing_images\u001b[1;34m(renderer, parent, dsu, suppress_composite)\u001b[0m\n\u001b[0;32m    137\u001b[0m     \u001b[1;32mif\u001b[0m \u001b[0mnot_composite\u001b[0m \u001b[1;32mor\u001b[0m \u001b[1;32mnot\u001b[0m \u001b[0mhas_images\u001b[0m\u001b[1;33m:\u001b[0m\u001b[1;33m\u001b[0m\u001b[0m\n\u001b[0;32m    138\u001b[0m         \u001b[1;32mfor\u001b[0m \u001b[0mzorder\u001b[0m\u001b[1;33m,\u001b[0m \u001b[0ma\u001b[0m \u001b[1;32min\u001b[0m \u001b[0mdsu\u001b[0m\u001b[1;33m:\u001b[0m\u001b[1;33m\u001b[0m\u001b[0m\n\u001b[1;32m--> 139\u001b[1;33m             \u001b[0ma\u001b[0m\u001b[1;33m.\u001b[0m\u001b[0mdraw\u001b[0m\u001b[1;33m(\u001b[0m\u001b[0mrenderer\u001b[0m\u001b[1;33m)\u001b[0m\u001b[1;33m\u001b[0m\u001b[0m\n\u001b[0m\u001b[0;32m    140\u001b[0m     \u001b[1;32melse\u001b[0m\u001b[1;33m:\u001b[0m\u001b[1;33m\u001b[0m\u001b[0m\n\u001b[0;32m    141\u001b[0m         \u001b[1;31m# Composite any adjacent images together\u001b[0m\u001b[1;33m\u001b[0m\u001b[1;33m\u001b[0m\u001b[0m\n",
      "\u001b[1;32mc:\\python36\\lib\\site-packages\\matplotlib\\artist.py\u001b[0m in \u001b[0;36mdraw_wrapper\u001b[1;34m(artist, renderer, *args, **kwargs)\u001b[0m\n\u001b[0;32m     61\u001b[0m     \u001b[1;32mdef\u001b[0m \u001b[0mdraw_wrapper\u001b[0m\u001b[1;33m(\u001b[0m\u001b[0martist\u001b[0m\u001b[1;33m,\u001b[0m \u001b[0mrenderer\u001b[0m\u001b[1;33m,\u001b[0m \u001b[1;33m*\u001b[0m\u001b[0margs\u001b[0m\u001b[1;33m,\u001b[0m \u001b[1;33m**\u001b[0m\u001b[0mkwargs\u001b[0m\u001b[1;33m)\u001b[0m\u001b[1;33m:\u001b[0m\u001b[1;33m\u001b[0m\u001b[0m\n\u001b[0;32m     62\u001b[0m         \u001b[0mbefore\u001b[0m\u001b[1;33m(\u001b[0m\u001b[0martist\u001b[0m\u001b[1;33m,\u001b[0m \u001b[0mrenderer\u001b[0m\u001b[1;33m)\u001b[0m\u001b[1;33m\u001b[0m\u001b[0m\n\u001b[1;32m---> 63\u001b[1;33m         \u001b[0mdraw\u001b[0m\u001b[1;33m(\u001b[0m\u001b[0martist\u001b[0m\u001b[1;33m,\u001b[0m \u001b[0mrenderer\u001b[0m\u001b[1;33m,\u001b[0m \u001b[1;33m*\u001b[0m\u001b[0margs\u001b[0m\u001b[1;33m,\u001b[0m \u001b[1;33m**\u001b[0m\u001b[0mkwargs\u001b[0m\u001b[1;33m)\u001b[0m\u001b[1;33m\u001b[0m\u001b[0m\n\u001b[0m\u001b[0;32m     64\u001b[0m         \u001b[0mafter\u001b[0m\u001b[1;33m(\u001b[0m\u001b[0martist\u001b[0m\u001b[1;33m,\u001b[0m \u001b[0mrenderer\u001b[0m\u001b[1;33m)\u001b[0m\u001b[1;33m\u001b[0m\u001b[0m\n\u001b[0;32m     65\u001b[0m \u001b[1;33m\u001b[0m\u001b[0m\n",
      "\u001b[1;32mc:\\python36\\lib\\site-packages\\matplotlib\\image.py\u001b[0m in \u001b[0;36mdraw\u001b[1;34m(self, renderer, *args, **kwargs)\u001b[0m\n\u001b[0;32m    493\u001b[0m         \u001b[1;32melse\u001b[0m\u001b[1;33m:\u001b[0m\u001b[1;33m\u001b[0m\u001b[0m\n\u001b[0;32m    494\u001b[0m             im, l, b, trans = self.make_image(\n\u001b[1;32m--> 495\u001b[1;33m                 renderer, renderer.get_image_magnification())\n\u001b[0m\u001b[0;32m    496\u001b[0m             \u001b[1;32mif\u001b[0m \u001b[0mim\u001b[0m \u001b[1;32mis\u001b[0m \u001b[1;32mnot\u001b[0m \u001b[1;32mNone\u001b[0m\u001b[1;33m:\u001b[0m\u001b[1;33m\u001b[0m\u001b[0m\n\u001b[0;32m    497\u001b[0m                 \u001b[0mrenderer\u001b[0m\u001b[1;33m.\u001b[0m\u001b[0mdraw_image\u001b[0m\u001b[1;33m(\u001b[0m\u001b[0mgc\u001b[0m\u001b[1;33m,\u001b[0m \u001b[0ml\u001b[0m\u001b[1;33m,\u001b[0m \u001b[0mb\u001b[0m\u001b[1;33m,\u001b[0m \u001b[0mim\u001b[0m\u001b[1;33m)\u001b[0m\u001b[1;33m\u001b[0m\u001b[0m\n",
      "\u001b[1;32mc:\\python36\\lib\\site-packages\\matplotlib\\image.py\u001b[0m in \u001b[0;36mmake_image\u001b[1;34m(self, renderer, magnification, unsampled)\u001b[0m\n\u001b[0;32m    717\u001b[0m         return self._make_image(\n\u001b[0;32m    718\u001b[0m             \u001b[0mself\u001b[0m\u001b[1;33m.\u001b[0m\u001b[0m_A\u001b[0m\u001b[1;33m,\u001b[0m \u001b[0mbbox\u001b[0m\u001b[1;33m,\u001b[0m \u001b[0mtransformed_bbox\u001b[0m\u001b[1;33m,\u001b[0m \u001b[0mself\u001b[0m\u001b[1;33m.\u001b[0m\u001b[0maxes\u001b[0m\u001b[1;33m.\u001b[0m\u001b[0mbbox\u001b[0m\u001b[1;33m,\u001b[0m \u001b[0mmagnification\u001b[0m\u001b[1;33m,\u001b[0m\u001b[1;33m\u001b[0m\u001b[0m\n\u001b[1;32m--> 719\u001b[1;33m             unsampled=unsampled)\n\u001b[0m\u001b[0;32m    720\u001b[0m \u001b[1;33m\u001b[0m\u001b[0m\n\u001b[0;32m    721\u001b[0m     \u001b[1;32mdef\u001b[0m \u001b[0m_check_unsampled_image\u001b[0m\u001b[1;33m(\u001b[0m\u001b[0mself\u001b[0m\u001b[1;33m,\u001b[0m \u001b[0mrenderer\u001b[0m\u001b[1;33m)\u001b[0m\u001b[1;33m:\u001b[0m\u001b[1;33m\u001b[0m\u001b[0m\n",
      "\u001b[1;32mc:\\python36\\lib\\site-packages\\matplotlib\\image.py\u001b[0m in \u001b[0;36m_make_image\u001b[1;34m(self, A, in_bbox, out_bbox, clip_bbox, magnification, unsampled, round_to_pixel_border)\u001b[0m\n\u001b[0;32m    422\u001b[0m                 \u001b[0moutput\u001b[0m\u001b[1;33m[\u001b[0m\u001b[0mhid_output\u001b[0m\u001b[1;33m[\u001b[0m\u001b[1;33m...\u001b[0m\u001b[1;33m,\u001b[0m \u001b[1;36m2\u001b[0m\u001b[1;33m]\u001b[0m \u001b[1;33m>\u001b[0m \u001b[1;36m.5\u001b[0m\u001b[1;33m]\u001b[0m \u001b[1;33m=\u001b[0m \u001b[1;36m2\u001b[0m\u001b[1;33m\u001b[0m\u001b[0m\n\u001b[0;32m    423\u001b[0m \u001b[1;33m\u001b[0m\u001b[0m\n\u001b[1;32m--> 424\u001b[1;33m             \u001b[0moutput\u001b[0m \u001b[1;33m=\u001b[0m \u001b[0mself\u001b[0m\u001b[1;33m.\u001b[0m\u001b[0mto_rgba\u001b[0m\u001b[1;33m(\u001b[0m\u001b[0moutput\u001b[0m\u001b[1;33m,\u001b[0m \u001b[0mbytes\u001b[0m\u001b[1;33m=\u001b[0m\u001b[1;32mTrue\u001b[0m\u001b[1;33m,\u001b[0m \u001b[0mnorm\u001b[0m\u001b[1;33m=\u001b[0m\u001b[1;32mFalse\u001b[0m\u001b[1;33m)\u001b[0m\u001b[1;33m\u001b[0m\u001b[0m\n\u001b[0m\u001b[0;32m    425\u001b[0m \u001b[1;33m\u001b[0m\u001b[0m\n\u001b[0;32m    426\u001b[0m             \u001b[1;31m# Apply alpha *after* if the input was greyscale without a mask\u001b[0m\u001b[1;33m\u001b[0m\u001b[1;33m\u001b[0m\u001b[0m\n",
      "\u001b[1;32mc:\\python36\\lib\\site-packages\\matplotlib\\cm.py\u001b[0m in \u001b[0;36mto_rgba\u001b[1;34m(self, x, alpha, bytes, norm)\u001b[0m\n\u001b[0;32m    274\u001b[0m         \u001b[1;32mif\u001b[0m \u001b[0mnorm\u001b[0m\u001b[1;33m:\u001b[0m\u001b[1;33m\u001b[0m\u001b[0m\n\u001b[0;32m    275\u001b[0m             \u001b[0mx\u001b[0m \u001b[1;33m=\u001b[0m \u001b[0mself\u001b[0m\u001b[1;33m.\u001b[0m\u001b[0mnorm\u001b[0m\u001b[1;33m(\u001b[0m\u001b[0mx\u001b[0m\u001b[1;33m)\u001b[0m\u001b[1;33m\u001b[0m\u001b[0m\n\u001b[1;32m--> 276\u001b[1;33m         \u001b[0mrgba\u001b[0m \u001b[1;33m=\u001b[0m \u001b[0mself\u001b[0m\u001b[1;33m.\u001b[0m\u001b[0mcmap\u001b[0m\u001b[1;33m(\u001b[0m\u001b[0mx\u001b[0m\u001b[1;33m,\u001b[0m \u001b[0malpha\u001b[0m\u001b[1;33m=\u001b[0m\u001b[0malpha\u001b[0m\u001b[1;33m,\u001b[0m \u001b[0mbytes\u001b[0m\u001b[1;33m=\u001b[0m\u001b[0mbytes\u001b[0m\u001b[1;33m)\u001b[0m\u001b[1;33m\u001b[0m\u001b[0m\n\u001b[0m\u001b[0;32m    277\u001b[0m         \u001b[1;32mreturn\u001b[0m \u001b[0mrgba\u001b[0m\u001b[1;33m\u001b[0m\u001b[0m\n\u001b[0;32m    278\u001b[0m \u001b[1;33m\u001b[0m\u001b[0m\n",
      "\u001b[1;32mc:\\python36\\lib\\site-packages\\matplotlib\\colors.py\u001b[0m in \u001b[0;36m__call__\u001b[1;34m(self, X, alpha, bytes)\u001b[0m\n\u001b[0;32m    483\u001b[0m             \u001b[0mvals\u001b[0m \u001b[1;33m=\u001b[0m \u001b[0mnp\u001b[0m\u001b[1;33m.\u001b[0m\u001b[0marray\u001b[0m\u001b[1;33m(\u001b[0m\u001b[1;33m[\u001b[0m\u001b[1;36m1\u001b[0m\u001b[1;33m,\u001b[0m \u001b[1;36m0\u001b[0m\u001b[1;33m]\u001b[0m\u001b[1;33m,\u001b[0m \u001b[0mdtype\u001b[0m\u001b[1;33m=\u001b[0m\u001b[0mxa\u001b[0m\u001b[1;33m.\u001b[0m\u001b[0mdtype\u001b[0m\u001b[1;33m)\u001b[0m\u001b[1;33m\u001b[0m\u001b[0m\n\u001b[0;32m    484\u001b[0m             \u001b[0malmost_one\u001b[0m \u001b[1;33m=\u001b[0m \u001b[0mnp\u001b[0m\u001b[1;33m.\u001b[0m\u001b[0mnextafter\u001b[0m\u001b[1;33m(\u001b[0m\u001b[1;33m*\u001b[0m\u001b[0mvals\u001b[0m\u001b[1;33m)\u001b[0m\u001b[1;33m\u001b[0m\u001b[0m\n\u001b[1;32m--> 485\u001b[1;33m             \u001b[0mcbook\u001b[0m\u001b[1;33m.\u001b[0m\u001b[0m_putmask\u001b[0m\u001b[1;33m(\u001b[0m\u001b[0mxa\u001b[0m\u001b[1;33m,\u001b[0m \u001b[0mxa\u001b[0m \u001b[1;33m==\u001b[0m \u001b[1;36m1.0\u001b[0m\u001b[1;33m,\u001b[0m \u001b[0malmost_one\u001b[0m\u001b[1;33m)\u001b[0m\u001b[1;33m\u001b[0m\u001b[0m\n\u001b[0m\u001b[0;32m    486\u001b[0m             \u001b[1;31m# The following clip is fast, and prevents possible\u001b[0m\u001b[1;33m\u001b[0m\u001b[1;33m\u001b[0m\u001b[0m\n\u001b[0;32m    487\u001b[0m             \u001b[1;31m# conversion of large positive values to negative integers.\u001b[0m\u001b[1;33m\u001b[0m\u001b[1;33m\u001b[0m\u001b[0m\n",
      "\u001b[1;31mKeyboardInterrupt\u001b[0m: "
     ]
    }
   ],
   "source": [
    "delays = np.linspace(0e-9, 2000e-9, 201)\n",
    "target_freq_offset = 20e6\n",
    "\n",
    "def set_delay(delay):\n",
    "    sequence = [pg.p(None, readout_begin-length),\n",
    "                pg.p('iq_ex', pi2_pulse, pg.gauss_hd, sigma, ex_amplitude, 0), \n",
    "                pg.p(None, delay), \n",
    "                pg.p('iq_ex', pi2_pulse, pg.gauss_hd, sigma, ex_amplitude*np.exp(1j*delay*target_freq_offset*2*np.pi), 0), \n",
    "                pg.p(None, delay), \n",
    "                pg.p('ro_trg', trg_length, pg.rect, 1), \n",
    "                pg.p('iq_ro', ro_dac_length, pg.rect, ro_amplitude)]\n",
    "    \n",
    "    pg.set_seq(sequence)\n",
    "    awg_tek.run()\n",
    "measurement = sweep.sweep(adc_reducer, (delays, set_delay, 'Ramsey delay'), filename='Ramsey')\n",
    "measurement_fitted, fitted_parameters = fitting.S21pm_fit(measurement, fitting.exp_sin_fit)\n",
    "annotation = 'Phase: {0:4.4g} rad, Freq: {1:4.4g}, Decay: {2:4.4g} s'.format(fitted_parameters['phase'], \n",
    "                                                                             fitted_parameters['freq'], \n",
    "                                                                             fitted_parameters['decay'])\n",
    "save_pkl.save_pkl({'type':'Ramsey'}, measurement_fitted, annotation=annotation)"
   ]
  },
  {
   "cell_type": "markdown",
   "metadata": {},
   "source": [
    "# Optimizing readout pulse settings"
   ]
  },
  {
   "cell_type": "code",
   "execution_count": 28,
   "metadata": {},
   "outputs": [
    {
     "name": "stdout",
     "output_type": "stream",
     "text": [
      "[3e-08, 0.9]\n"
     ]
    },
    {
     "name": "stderr",
     "output_type": "stream",
     "text": [
      "D:\\qtlab_replacement\\instruments\\Tektronix_AWG5014.py:637: ComplexWarning: Casting complex values to real discards the imaginary part\n",
      "  m1[:] = marker[:len(m1)]\n"
     ]
    },
    {
     "name": "stdout",
     "output_type": "stream",
     "text": [
      "[  3.00000000e-08   9.00000000e-01] 0.098758418258\n"
     ]
    },
    {
     "name": "stderr",
     "output_type": "stream",
     "text": [
      "D:\\qtlab_replacement\\scripts\\tomography.py:123: RuntimeWarning: invalid value encountered in true_divide\n",
      "  probabilities = hists/hist_all\n"
     ]
    },
    {
     "name": "stdout",
     "output_type": "stream",
     "text": [
      "[  3.15000000e-08   9.00000000e-01] 0.0979598255237\n",
      "[  3.00000000e-08   9.45000000e-01] 0.0958115507041\n",
      "[  3.15000000e-08   9.45000000e-01] 0.100552258593\n",
      "[  3.03750000e-08   9.11250000e-01] 0.0975540163758\n",
      "[  2.88750000e-08   9.56250000e-01] 0.0983902022521\n",
      "[  3.08437500e-08   9.14062500e-01] 0.0964064125485\n",
      "[  3.04687500e-08   9.47812500e-01] 0.0986554848473\n",
      "[  3.03984375e-08   9.20390625e-01] 0.0979533329261\n",
      "[  3.04218750e-08   9.29531250e-01] 0.0981042440391\n",
      "[  3.01875000e-08   9.28125000e-01] 0.0970716351845\n",
      "[  2.97656250e-08   9.43593750e-01] 0.097596010233\n",
      "[  2.99296875e-08   9.40078125e-01] 0.0999534574901\n",
      "[  3.00937500e-08   9.36562500e-01] 0.098459147376\n",
      "[  3.02109375e-08   9.37265625e-01] 0.097134038348\n",
      "[  3.01171875e-08   9.45703125e-01] 0.0968076206815\n",
      "[  2.99062500e-08   9.53437500e-01] 0.0960191444277\n",
      "[  2.97890625e-08   9.52734375e-01] 0.0932210900474\n",
      "[  2.96250000e-08   9.56250000e-01] 0.0995379208245\n",
      "[  2.98828125e-08   9.44296875e-01] 0.0937737287103\n",
      "[  2.96718750e-08   9.52031250e-01] 0.0978291069262\n",
      "[  2.99179687e-08   9.46757813e-01] 0.0956059652889\n",
      "[  2.97539063e-08   9.50273438e-01] 0.0988293820714\n",
      "[  2.98769531e-08   9.47636719e-01] 0.0960859897612\n",
      "[  2.98359375e-08   9.48515625e-01] 0.098372321798\n",
      "[  2.98535156e-08   9.49746094e-01] 0.0958544446552\n",
      "[  2.98066406e-08   9.53964844e-01] 0.0956313936249\n",
      "[  2.97421875e-08   9.56953125e-01] 0.0948061908002\n",
      "[  2.97246094e-08   9.55722656e-01] 0.0971830707918\n",
      "[  2.97861328e-08   9.54404297e-01] 0.100012388972\n",
      "[  2.97656250e-08   9.54843750e-01] 0.0993904174159\n",
      "[  2.97978516e-08   9.53349609e-01] 0.095740777585\n",
      "Warning: Maximum number of function evaluations has been exceeded.\n",
      "[  2.97890625e-08   9.52734375e-01] 0.0983416417402\n"
     ]
    }
   ],
   "source": [
    "ex_calib_seq = [pg.p('iq_ex', length, pg.gauss_hd, amp_x, 0, sigma), pg.p(None, pause_length)]*2\n",
    "ro_seq = [pg.p('ro_trg', trg_length, pg.rect, 1), pg.p('iq_ro', ro_dac_length, pg.rect, ro_amplitude)]\n",
    "adc_sz = tomography_new.sz_measurer(adc, ex_calib_seq, ro_seq, pg)\n",
    "adc.set_software_nums_multi(20)\n",
    "adc_sz.repeat_samples = 1\n",
    "\n",
    "target_min = lambda: 1-adc_sz.measure()['Calibrated fidelity binary']\n",
    "\n",
    "class ro_pulse_generator:\n",
    "    def __init__(self, adc_sz, ro_amplitude, ro_dac_length):\n",
    "        self.ro_amplitude = ro_amplitude\n",
    "        self.ro_dac_length = ro_dac_length\n",
    "        self.adc_sz = adc_sz\n",
    "    def make_ro_seq(self):\n",
    "        adc_sz.ro_seq = [pg.p('ro_trg', trg_length, pg.rect, 1), pg.p('iq_ro', self.ro_dac_length, pg.rect, self.ro_amplitude)]\n",
    "    def set_ro_length(self, ro_dac_length):\n",
    "        self.ro_dac_length = ro_dac_length\n",
    "        self.make_ro_seq()\n",
    "    def set_ro_amplitude(self, ro_amplitude):\n",
    "        self.ro_amplitude = ro_amplitude\n",
    "        self.make_ro_seq()\n",
    "\n",
    "ro_dac_lengths = np.linspace(0, 0.05e-6, 6)\n",
    "ro_dac_amplitudes = np.linspace(0.8,1.0, 5)\n",
    "\n",
    "ro_pulse_generator_inst = ro_pulse_generator(adc_sz, ro_amplitude, ro_dac_length)\n",
    "solution, score = sweep.optimize(target_min, (ro_pulse_generator_inst.set_ro_length, 3e-8), \n",
    "                                             (ro_pulse_generator_inst.set_ro_amplitude, 0.9), maxfun=30)\n",
    "ro_dac_length = solution[0]\n",
    "ro_dac_amplitude = solution[1]\n",
    "#\n",
    "#sweep.sweep(adc_sz, (ro_dac_lengths, ro_pulse_generator_inst.set_ro_length, 'Readout pulse length'), \n",
    "#                    (ro_dac_amplitudes, ro_pulse_generator_inst.set_ro_amplitude, 'Readout pulse amplitude'))"
   ]
  },
  {
   "cell_type": "markdown",
   "metadata": {},
   "source": [
    "### |0> & |1> readout calibration"
   ]
  },
  {
   "cell_type": "code",
   "execution_count": 119,
   "metadata": {},
   "outputs": [
    {
     "name": "stderr",
     "output_type": "stream",
     "text": [
      "D:\\qtlab_replacement\\instruments\\Tektronix_AWG5014.py:637: ComplexWarning: Casting complex values to real discards the imaginary part\n",
      "  m1[:] = marker[:len(m1)]\n"
     ]
    },
    {
     "name": "stdout",
     "output_type": "stream",
     "text": [
      "{'Calibrated ROC AUC binary': 0.79882500000000001, 'Calibrated ROC AUC': 0.8531451324999999, 'Calibrated fidelity': 0.69208511117086002, 'Calibrated fidelity binary': 0.89376058179234064}\n"
     ]
    },
    {
     "name": "stderr",
     "output_type": "stream",
     "text": [
      "D:\\qtlab_replacement\\scripts\\tomography.py:123: RuntimeWarning: invalid value encountered in true_divide\n",
      "  probabilities = hists/hist_all\n"
     ]
    }
   ],
   "source": [
    "ro_dac_length = 50e-9\n",
    "ro_dac_amplitude = 0.13\n",
    "ex_calib_seq = [pg.p('iq_ex', length, pg.gauss_hd, amp_x, 0, sigma, alpha_hd), pg.p(None, pause_length)]*2\n",
    "#ro_seq = [pg.p('ro_trg', trg_length, pg.rect, 1), pg.p('iq_ro', ro_dac_length, pg.rect, ro_amplitude)]\n",
    "ro_seq = [pg.p('ro_trg', trg_length, pg.rect, 1), pg.p('iq_ro', ro_dac_length, pg.rect, 1.0)]\n",
    "adc_sz = tomography_new.sz_measurer(adc, ex_calib_seq, ro_seq, pg)\n",
    "adc_sz.save_last_samples = True\n",
    "adc_sz.repeat_samples = 1\n",
    "adc.set_software_nums_multi(20)\n",
    "print(adc_sz.measure())\n",
    "#sz_filter = adc_sz.calibrate()\n",
    "#print('ROC AUC:', adc_sz.calib_roc_auc, 'Fidelity:', adc_sz.calib_fidelity)\n",
    "#print('ROC AUC binary:', adc_sz.calib_roc_auc_binary, 'Fidelity binary:', adc_sz.calib_fidelity_binary) "
   ]
  },
  {
   "cell_type": "code",
   "execution_count": 109,
   "metadata": {},
   "outputs": [
    {
     "data": {
      "text/plain": [
       "<matplotlib.colorbar.Colorbar at 0x2c454fd0>"
      ]
     },
     "execution_count": 109,
     "metadata": {},
     "output_type": "execute_result"
    }
   ],
   "source": [
    "plt.figure()\n",
    "plt.pcolormesh(np.real(adc_sz.samples[0,:,:]), vmin=15, vmax=25); plt.colorbar()\n",
    "plt.figure()\n",
    "plt.pcolormesh(np.real(adc_sz.samples[1,:,:]), vmin=15, vmax=25); plt.colorbar()"
   ]
  },
  {
   "cell_type": "code",
   "execution_count": 83,
   "metadata": {},
   "outputs": [
    {
     "data": {
      "text/plain": [
       "([array([  1.00000000e+01,   3.20000000e+01,   1.52000000e+02,\n",
       "           5.35000000e+02,   1.33800000e+03,   2.55200000e+03,\n",
       "           3.62600000e+03,   3.64800000e+03,   3.15300000e+03,\n",
       "           2.06300000e+03,   1.18300000e+03,   7.36000000e+02,\n",
       "           4.68000000e+02,   2.94000000e+02,   1.42000000e+02,\n",
       "           5.20000000e+01,   8.00000000e+00,   7.00000000e+00,\n",
       "           0.00000000e+00,   1.00000000e+00]),\n",
       "  array([  0.00000000e+00,   8.00000000e+00,   2.10000000e+01,\n",
       "           6.80000000e+01,   1.92000000e+02,   3.42000000e+02,\n",
       "           6.31000000e+02,   9.23000000e+02,   1.40400000e+03,\n",
       "           2.16500000e+03,   3.07900000e+03,   3.69000000e+03,\n",
       "           3.34200000e+03,   2.34600000e+03,   1.16700000e+03,\n",
       "           4.60000000e+02,   1.23000000e+02,   3.30000000e+01,\n",
       "           5.00000000e+00,   1.00000000e+00])],\n",
       " array([-2.75677142, -2.46279575, -2.16882008, -1.87484441, -1.58086873,\n",
       "        -1.28689306, -0.99291739, -0.69894172, -0.40496605, -0.11099037,\n",
       "         0.1829853 ,  0.47696097,  0.77093664,  1.06491231,  1.35888799,\n",
       "         1.65286366,  1.94683933,  2.240815  ,  2.53479067,  2.82876634,\n",
       "         3.12274202]),\n",
       " <a list of 2 Lists of Patches objects>)"
      ]
     },
     "execution_count": 83,
     "metadata": {},
     "output_type": "execute_result"
    }
   ],
   "source": [
    "plt.hist(adc_sz.calib_pred.T, bins=20)"
   ]
  },
  {
   "cell_type": "code",
   "execution_count": 28,
   "metadata": {},
   "outputs": [
    {
     "data": {
      "text/plain": [
       "[<matplotlib.lines.Line2D at 0xde0dfd0>]"
      ]
     },
     "execution_count": 28,
     "metadata": {},
     "output_type": "execute_result"
    }
   ],
   "source": [
    "#plt.scatter(np.real(adc_sz.calib_usl_pred[0,:]), np.imag(adc_sz.calib_usl_pred[0,:]), color='r', s=1)\n",
    "#plt.scatter(np.real(adc_sz.calib_usl_pred[1,:]), np.imag(adc_sz.calib_usl_pred[1,:]), color='b', s=1)\n",
    "#plt.figure()\n",
    "#plt.hist(adc_sz.calib_pred.T, bins=20)\n",
    "plt.figure()\n",
    "#plt.hist(np.real(adc_sz.calib_usl_pred.T), bins=20)\n",
    "plt.plot(np.real(adc_sz.calib_bg-np.mean(adc_sz.calib_bg)))\n",
    "plt.plot(np.imag(adc_sz.calib_bg-np.mean(adc_sz.calib_bg)))\n",
    "plt.plot(np.real(adc_sz.calib_feature))\n",
    "plt.plot(np.imag(adc_sz.calib_feature))"
   ]
  },
  {
   "cell_type": "markdown",
   "metadata": {},
   "source": [
    "### Tomography"
   ]
  },
  {
   "cell_type": "code",
   "execution_count": 120,
   "metadata": {
    "collapsed": true
   },
   "outputs": [],
   "source": [
    "observables = { 'X': 0.5*np.asarray([[0, 1],   [1, 0]]),\n",
    "                'Y': 0.5*np.asarray([[0, -1j],   [1j, 0]]),\n",
    "                '-X': 0.5*np.asarray([[0, -1],   [-1, 0]]),\n",
    "                '-Y': 0.5*np.asarray([[0, 1j],   [-1j, 0]]),\n",
    "                'Z': 0.5*np.asarray([[1, 0],   [0, -1]])}\n",
    "proj_seq = {'Xo':{'pulses': [pg.p('iq_ex', length, pg.gauss_hd, 0, -amp_x, sigma, alpha_hd), pg.p(None, pause_length)]+ro_seq, \n",
    "                 'operator': observables['X']},\n",
    "            'Yo':{'pulses': [pg.p('iq_ex', length, pg.gauss_hd, amp_x, 0, sigma, alpha_hd), pg.p(None, pause_length)]+ro_seq,\n",
    "                 'operator': observables['Y']},\n",
    "            '-Xo':{'pulses':[pg.p('iq_ex', length, pg.gauss_hd, 0, amp_x, sigma, alpha_hd), pg.p(None, pause_length)]+ro_seq,\n",
    "                 'operator': observables['-X']},\n",
    "            '-Yo':{'pulses':[pg.p('iq_ex', length, pg.gauss_hd, -amp_x, 0, sigma, alpha_hd), pg.p(None, pause_length)]+ro_seq,\n",
    "                 'operator': observables['-Y']},\n",
    "            'Zo': {'pulses':ro_seq, 'operator':observables['Z']} }\n",
    "reconstruction_basis={'x':{'operator':observables['X']},\n",
    "                      'y':{'operator':observables['Y']},\n",
    "                      'z':{'operator':observables['Z']}}\n",
    "tomo = tomography_new.tomography(adc_sz, pg, proj_seq, reconstruction_basis=reconstruction_basis)"
   ]
  },
  {
   "cell_type": "code",
   "execution_count": 121,
   "metadata": {
    "collapsed": true
   },
   "outputs": [],
   "source": [
    "proj_seq = {'Z': {'pulses':ro_seq, 'operator':observables['Z']}}\n",
    "tomoz = tomography_new.tomography(adc_sz, pg, proj_seq)"
   ]
  },
  {
   "cell_type": "code",
   "execution_count": 122,
   "metadata": {},
   "outputs": [
    {
     "name": "stderr",
     "output_type": "stream",
     "text": [
      "D:\\qtlab_replacement\\instruments\\Tektronix_AWG5014.py:637: ComplexWarning: Casting complex values to real discards the imaginary part\n",
      "  m1[:] = marker[:len(m1)]\n"
     ]
    },
    {
     "data": {
      "text/plain": [
       "{'-Xo': array(0.00175),\n",
       " '-Yo': array(0.00205),\n",
       " 'Xo': array(-0.001),\n",
       " 'Yo': array(-0.00145),\n",
       " 'Zo': array(-0.29305),\n",
       " 'x': -0.0013749999999999999,\n",
       " 'y': -0.0017500000000000003,\n",
       " 'z': -0.29305000000000003}"
      ]
     },
     "execution_count": 122,
     "metadata": {},
     "output_type": "execute_result"
    }
   ],
   "source": [
    "## tomography of |0> state\n",
    "adc.set_software_nums_multi(20)\n",
    "tomo.set_prepare_seq([])\n",
    "tomo.measure()"
   ]
  },
  {
   "cell_type": "code",
   "execution_count": 123,
   "metadata": {},
   "outputs": [
    {
     "name": "stderr",
     "output_type": "stream",
     "text": [
      "D:\\qtlab_replacement\\instruments\\Tektronix_AWG5014.py:637: ComplexWarning: Casting complex values to real discards the imaginary part\n",
      "  m1[:] = marker[:len(m1)]\n"
     ]
    },
    {
     "data": {
      "text/plain": [
       "{'-Xo': array(-0.00845),\n",
       " '-Yo': array(-0.00925),\n",
       " 'Xo': array(-0.01045),\n",
       " 'Yo': array(-0.01145),\n",
       " 'Zo': array(0.278),\n",
       " 'x': -0.00099999999999999894,\n",
       " 'y': -0.0010999999999999979,\n",
       " 'z': 0.27800000000000008}"
      ]
     },
     "execution_count": 123,
     "metadata": {},
     "output_type": "execute_result"
    }
   ],
   "source": [
    "## tomography of |1> state\n",
    "tomo.set_prepare_seq([pg.p('iq_ex', length, pg.gauss_hd, 0, -amp_x, sigma, alpha_hd), pg.p(None, pause_length)]*2)\n",
    "tomo.measure()"
   ]
  },
  {
   "cell_type": "code",
   "execution_count": 114,
   "metadata": {},
   "outputs": [
    {
     "name": "stderr",
     "output_type": "stream",
     "text": [
      "D:\\qtlab_replacement\\instruments\\Tektronix_AWG5014.py:637: ComplexWarning: Casting complex values to real discards the imaginary part\n",
      "  m1[:] = marker[:len(m1)]\n"
     ]
    },
    {
     "data": {
      "text/plain": [
       "{'-Xo': array(-0.16495),\n",
       " '-Yo': array(0.0142),\n",
       " 'Xo': array(0.16615),\n",
       " 'Yo': array(-0.0108),\n",
       " 'Zo': array(-0.0291),\n",
       " 'x': 0.16554999999999997,\n",
       " 'y': -0.012499999999999997,\n",
       " 'z': -0.029100000000000008}"
      ]
     },
     "execution_count": 114,
     "metadata": {},
     "output_type": "execute_result"
    }
   ],
   "source": [
    "## tomography of |1> state\n",
    "tomo.set_prepare_seq([pg.p('iq_ex', length, pg.gauss_hd, 0, -amp_x, sigma, alpha_hd), pg.p(None, pause_length)]+\n",
    "                     [pg.p('iq_ex', length, pg.gauss_hd, 0, -amp_x, sigma, alpha_hd), pg.p(None, pause_length),\n",
    "                     pg.p('iq_ex', length, pg.gauss_hd, 0, amp_x, sigma, alpha_hd), pg.p(None, pause_length)]*10)\n",
    "tomo.measure()"
   ]
  },
  {
   "cell_type": "code",
   "execution_count": 117,
   "metadata": {},
   "outputs": [
    {
     "name": "stderr",
     "output_type": "stream",
     "text": [
      "D:\\qtlab_replacement\\instruments\\Tektronix_AWG5014.py:637: ComplexWarning: Casting complex values to real discards the imaginary part\n",
      "  m1[:] = marker[:len(m1)]\n"
     ]
    },
    {
     "data": {
      "text/plain": [
       "{'-Xo': array(-0.1645),\n",
       " '-Yo': array(-0.0024),\n",
       " 'Xo': array(0.16585),\n",
       " 'Yo': array(-0.0056),\n",
       " 'Zo': array(-0.02615),\n",
       " 'x': 0.16517499999999999,\n",
       " 'y': -0.0015999999999999994,\n",
       " 'z': -0.026150000000000007}"
      ]
     },
     "execution_count": 117,
     "metadata": {},
     "output_type": "execute_result"
    }
   ],
   "source": [
    "## tomography of |1> state\n",
    "tomo.set_prepare_seq([pg.p('iq_ex', length, pg.gauss_hd, 0, -amp_x, sigma, -0.92e-9), pg.p(None, pause_length)]+\n",
    "                     [pg.p('iq_ex', length, pg.gauss_hd, 0, -amp_x, sigma, -0.92e-9), pg.p(None, pause_length),\n",
    "                     pg.p('iq_ex', length, pg.gauss_hd, 0, amp_x, sigma, -0.92e-9), pg.p(None, pause_length)]*10)\n",
    "tomo.measure()"
   ]
  },
  {
   "cell_type": "code",
   "execution_count": 43,
   "metadata": {},
   "outputs": [
    {
     "name": "stderr",
     "output_type": "stream",
     "text": [
      "D:\\qtlab_replacement\\instruments\\Tektronix_AWG5014.py:637: ComplexWarning: Casting complex values to real discards the imaginary part\n",
      "  m1[:] = marker[:len(m1)]\n"
     ]
    },
    {
     "data": {
      "text/plain": [
       "{'-Xo': array(-0.3375),\n",
       " '-Yo': array(-0.09515),\n",
       " 'Xo': array(0.2783),\n",
       " 'Yo': array(0.02285),\n",
       " 'Zo': array(-0.03185),\n",
       " 'x': 0.30789999999999995,\n",
       " 'y': 0.059000000000000004,\n",
       " 'z': -0.03185000000000001}"
      ]
     },
     "execution_count": 43,
     "metadata": {},
     "output_type": "execute_result"
    }
   ],
   "source": [
    "## tomography of |0>+|1> state\n",
    "tomo.set_prepare_seq([pg.p('iq_ex', length, pg.gauss_hd, 0, -amp_x, sigma), pg.p(None, pause_length)])\n",
    "tomo.measure()"
   ]
  },
  {
   "cell_type": "code",
   "execution_count": 52,
   "metadata": {},
   "outputs": [
    {
     "name": "stderr",
     "output_type": "stream",
     "text": [
      "D:\\qtlab_replacement\\instruments\\Tektronix_AWG5014.py:637: ComplexWarning: Casting complex values to real discards the imaginary part\n",
      "  m1[:] = marker[:len(m1)]\n"
     ]
    },
    {
     "data": {
      "text/plain": [
       "{'-X': array(-0.05568),\n",
       " '-Y': array(0.30536),\n",
       " 'X': array(0.02668),\n",
       " 'Y': array(-0.32728),\n",
       " 'Z': array(-0.02364)}"
      ]
     },
     "execution_count": 52,
     "metadata": {},
     "output_type": "execute_result"
    }
   ],
   "source": [
    "## tomography of |0>-|1> state\n",
    "tomo.set_prepare_seq([pg.p('iq_ex', length, pg.gauss_hd, 0, 1j*amp_x, sigma), pg.p(None, pause_length)])\n",
    "tomo.measure()"
   ]
  },
  {
   "cell_type": "code",
   "execution_count": 53,
   "metadata": {},
   "outputs": [
    {
     "name": "stderr",
     "output_type": "stream",
     "text": [
      "D:\\qtlab_replacement\\instruments\\Tektronix_AWG5014.py:637: ComplexWarning: Casting complex values to real discards the imaginary part\n",
      "  m1[:] = marker[:len(m1)]\n"
     ]
    },
    {
     "data": {
      "text/plain": [
       "{'-X': array(-0.32804),\n",
       " '-Y': array(-0.05428),\n",
       " 'X': array(0.30984),\n",
       " 'Y': array(0.02416),\n",
       " 'Z': array(-0.018)}"
      ]
     },
     "execution_count": 53,
     "metadata": {},
     "output_type": "execute_result"
    }
   ],
   "source": [
    "## tomography of -|0>-|1> state\n",
    "tomo.set_prepare_seq([pg.p('iq_ex', length, pg.gauss_hd, 0, -amp_x, sigma), pg.p(None, pause_length)])\n",
    "tomo.measure()"
   ]
  },
  {
   "cell_type": "code",
   "execution_count": 54,
   "metadata": {},
   "outputs": [
    {
     "name": "stderr",
     "output_type": "stream",
     "text": [
      "D:\\qtlab_replacement\\instruments\\Tektronix_AWG5014.py:637: ComplexWarning: Casting complex values to real discards the imaginary part\n",
      "  m1[:] = marker[:len(m1)]\n"
     ]
    },
    {
     "data": {
      "text/plain": [
       "{'-X': array(0.0272),\n",
       " '-Y': array(-0.32916),\n",
       " 'X': array(-0.05404),\n",
       " 'Y': array(0.30652),\n",
       " 'Z': array(-0.01412)}"
      ]
     },
     "execution_count": 54,
     "metadata": {},
     "output_type": "execute_result"
    }
   ],
   "source": [
    "## tomography of -|0>+|1> state\n",
    "tomo.set_prepare_seq([pg.p('iq_ex', length, pg.gauss_hd, 0, -1j*amp_x, sigma), pg.p(None, pause_length)])\n",
    "tomo.measure()"
   ]
  },
  {
   "cell_type": "markdown",
   "metadata": {},
   "source": [
    "# Randomized benchmarking"
   ]
  },
  {
   "cell_type": "code",
   "execution_count": 127,
   "metadata": {
    "collapsed": true
   },
   "outputs": [],
   "source": [
    "import interleaved_benchmarking\n",
    "imp.reload(interleaved_benchmarking)\n",
    "\n",
    "bench = interleaved_benchmarking.interleaved_benchmarking(tomo)\n",
    "\n",
    "unitaries = {0:np.sqrt(0.5)*np.asarray([[1, -1j],  [-1j, 1]]),\\\n",
    "             1:np.sqrt(0.5)*np.asarray([[1, -1],    [1, 1]]),\\\n",
    "             2:np.sqrt(0.5)*np.asarray([[1, 1j],   [1j, 1]]),\\\n",
    "             3:np.sqrt(0.5)*np.asarray([[1, 1],   [-1, 1]])}\n",
    "bench.interleavers = {'X': {'pulses':[pg.p('iq_ex', length, pg.gauss_hd, -amp_x, 0, sigma, alpha_hd), pg.p(None, pause_length)],\n",
    "                            'unitary': np.sqrt(0.5)*np.asarray([[1, -1j],  [-1j, 1]])},\n",
    "                      'Y': {'pulses':[pg.p('iq_ex', length, pg.gauss_hd, 1j*amp_x, 0, sigma, alpha_hd), pg.p(None, pause_length)],\n",
    "                            'unitary': np.sqrt(0.5)*np.asarray([[1, -1],    [1, 1]])},\n",
    "                      '-X':{'pulses':[pg.p('iq_ex', length, pg.gauss_hd, amp_x, 0, sigma, alpha_hd), pg.p(None, pause_length)],\n",
    "                            'unitary': np.sqrt(0.5)*np.asarray([[1, 1j],   [1j, 1]])},\n",
    "                      '-Y':{'pulses':[pg.p('iq_ex', length, pg.gauss_hd, -1j*amp_x, 0, sigma, alpha_hd), pg.p(None, pause_length)],\n",
    "                            'unitary': np.sqrt(0.5)*np.asarray([[1, 1],   [-1, 1]])},\n",
    "                      'I':{'pulses':[], 'unitary':np.asarray([[1, 0], [0,1]])}}\n",
    "bench.sequence_length = 10\n",
    "bench.random_sequence_num = 6\n",
    "bench.prepare_random_interleaving_sequences()\n",
    "#bench.generate_interleaver_sequence_from_names()"
   ]
  },
  {
   "cell_type": "code",
   "execution_count": 128,
   "metadata": {},
   "outputs": [
    {
     "name": "stdout",
     "output_type": "stream",
     "text": [
      "Started at:  Jul 03 2017 19:26:04\n"
     ]
    },
    {
     "name": "stderr",
     "output_type": "stream",
     "text": [
      "c:\\python36\\lib\\site-packages\\matplotlib\\backend_bases.py:2445: MatplotlibDeprecationWarning: Using default event loop until function specific to this GUI is implemented\n",
      "  warnings.warn(str, mplDeprecation)\n"
     ]
    },
    {
     "name": "stdout",
     "output_type": "stream",
     "text": [
      "First sweep...Started at:  Jul 03 2017 19:26:23\n",
      "First sweep..."
     ]
    },
    {
     "name": "stderr",
     "output_type": "stream",
     "text": [
      "D:\\qtlab_replacement\\instruments\\Tektronix_AWG5014.py:637: ComplexWarning: Casting complex values to real discards the imaginary part\n",
      "  m1[:] = marker[:len(m1)]\n"
     ]
    },
    {
     "name": "stdout",
     "output_type": "stream",
     "text": [
      "Time left: 0 h 0 m 0.0 s,\tparameter values: Interleaving sequence id:      5,\taverage cycle time:   31s\ts\t\n",
      "Elapsed time: 0 h 3 m 6.67 s\n"
     ]
    },
    {
     "ename": "ValueError",
     "evalue": "could not broadcast input array from shape (6,0) into shape (6,20)",
     "output_type": "error",
     "traceback": [
      "\u001b[1;31m---------------------------------------------------------------------------\u001b[0m",
      "\u001b[1;31mValueError\u001b[0m                                Traceback (most recent call last)",
      "\u001b[1;32m<ipython-input-128-5feba546f523>\u001b[0m in \u001b[0;36m<module>\u001b[1;34m()\u001b[0m\n\u001b[0;32m      1\u001b[0m \u001b[0mseq_lengths\u001b[0m \u001b[1;33m=\u001b[0m \u001b[0mnp\u001b[0m\u001b[1;33m.\u001b[0m\u001b[0marange\u001b[0m\u001b[1;33m(\u001b[0m\u001b[1;36m101\u001b[0m\u001b[1;33m)\u001b[0m\u001b[1;33m\u001b[0m\u001b[0m\n\u001b[1;32m----> 2\u001b[1;33m \u001b[0msweep\u001b[0m\u001b[1;33m.\u001b[0m\u001b[0msweep\u001b[0m\u001b[1;33m(\u001b[0m\u001b[0mbench\u001b[0m\u001b[1;33m,\u001b[0m \u001b[1;33m(\u001b[0m\u001b[0mseq_lengths\u001b[0m\u001b[1;33m,\u001b[0m \u001b[0mbench\u001b[0m\u001b[1;33m.\u001b[0m\u001b[0mset_sequence_length_and_regenerate\u001b[0m\u001b[1;33m,\u001b[0m \u001b[1;34m'Gate number'\u001b[0m\u001b[1;33m)\u001b[0m\u001b[1;33m)\u001b[0m\u001b[1;33m\u001b[0m\u001b[0m\n\u001b[0m",
      "\u001b[1;32mD:\\qtlab_replacement\\scripts\\sweep.py\u001b[0m in \u001b[0;36msweep\u001b[1;34m(measurer, filename, root_dir, plot, header, output, *params)\u001b[0m\n\u001b[0;32m    132\u001b[0m                         \u001b[1;32mfor\u001b[0m \u001b[0mmname\u001b[0m \u001b[1;32min\u001b[0m \u001b[0mpoints\u001b[0m\u001b[1;33m.\u001b[0m\u001b[0mkeys\u001b[0m\u001b[1;33m(\u001b[0m\u001b[1;33m)\u001b[0m\u001b[1;33m:\u001b[0m\u001b[1;33m\u001b[0m\u001b[0m\n\u001b[0;32m    133\u001b[0m                                 \u001b[0mmpoint_m\u001b[0m \u001b[1;33m=\u001b[0m \u001b[0mmpoint\u001b[0m\u001b[1;33m[\u001b[0m\u001b[0mmname\u001b[0m\u001b[1;33m]\u001b[0m\u001b[1;33m\u001b[0m\u001b[0m\n\u001b[1;32m--> 134\u001b[1;33m                                 \u001b[0mdata\u001b[0m\u001b[1;33m[\u001b[0m\u001b[0mmname\u001b[0m\u001b[1;33m]\u001b[0m\u001b[1;33m[\u001b[0m\u001b[1;33m[\u001b[0m\u001b[1;33m(\u001b[0m\u001b[0mi\u001b[0m\u001b[1;33m)\u001b[0m \u001b[1;32mfor\u001b[0m \u001b[0mi\u001b[0m \u001b[1;32min\u001b[0m \u001b[0mindeces\u001b[0m\u001b[1;33m]\u001b[0m\u001b[1;33m+\u001b[0m\u001b[1;33m[\u001b[0m\u001b[1;33m...\u001b[0m\u001b[1;33m]\u001b[0m\u001b[1;33m]\u001b[0m \u001b[1;33m=\u001b[0m \u001b[0mmpoint_m\u001b[0m\u001b[1;33m\u001b[0m\u001b[0m\n\u001b[0m\u001b[0;32m    135\u001b[0m                                 \u001b[0mdata_flat\u001b[0m \u001b[1;33m=\u001b[0m \u001b[0mnp\u001b[0m\u001b[1;33m.\u001b[0m\u001b[0mreshape\u001b[0m\u001b[1;33m(\u001b[0m\u001b[0mdata\u001b[0m\u001b[1;33m[\u001b[0m\u001b[0mmname\u001b[0m\u001b[1;33m]\u001b[0m\u001b[1;33m,\u001b[0m \u001b[0mnon_unity_dims\u001b[0m\u001b[1;33m(\u001b[0m\u001b[0mmname\u001b[0m\u001b[1;33m)\u001b[0m\u001b[1;33m)\u001b[0m\u001b[1;33m\u001b[0m\u001b[0m\n\u001b[0;32m    136\u001b[0m                                 \u001b[0mmpoint_m_flat\u001b[0m \u001b[1;33m=\u001b[0m \u001b[0mnp\u001b[0m\u001b[1;33m.\u001b[0m\u001b[0mreshape\u001b[0m\u001b[1;33m(\u001b[0m\u001b[0mmpoint_m\u001b[0m\u001b[1;33m,\u001b[0m \u001b[0mtuple\u001b[0m\u001b[1;33m(\u001b[0m\u001b[0mdim\u001b[0m \u001b[1;32mfor\u001b[0m \u001b[0mdim\u001b[0m \u001b[1;32min\u001b[0m \u001b[0mpoint_dim\u001b[0m\u001b[1;33m[\u001b[0m\u001b[0mmname\u001b[0m\u001b[1;33m]\u001b[0m \u001b[1;32mif\u001b[0m \u001b[0mdim\u001b[0m \u001b[1;33m>\u001b[0m \u001b[1;36m1\u001b[0m\u001b[1;33m)\u001b[0m\u001b[1;33m)\u001b[0m\u001b[1;33m\u001b[0m\u001b[0m\n",
      "\u001b[1;31mValueError\u001b[0m: could not broadcast input array from shape (6,0) into shape (6,20)"
     ]
    }
   ],
   "source": [
    "seq_lengths = np.arange(101)\n",
    "sweep.sweep(bench, (seq_lengths, bench.set_sequence_length_and_regenerate, 'Gate number'))"
   ]
  },
  {
   "cell_type": "code",
   "execution_count": 22,
   "metadata": {
    "collapsed": true
   },
   "outputs": [],
   "source": [
    "bench.target_gate = bench.interleavers['X']['pulses']\n",
    "bench.target_gate_unitary = bench.interleavers['X']['unitary']\n",
    "bench.target_gate_name = 'X (benchmarking)'\n",
    "tfunc = lambda : np.mean(bench.measure()['Euclidean distance'])\n",
    "class hd_pulse_generator:\n",
    "    def __init__(self, pulse_setter, pg, channel):\n",
    "        self.amp_x = -amp_x_hd\n",
    "        self.amp_y = amp_x_hd\n",
    "        self.sigma = sigma_hd\n",
    "        self.length = length_hd\n",
    "        self.pause_length = pause_length_hd\n",
    "        self.alpha = alpha_hd\n",
    "        \n",
    "        self.pg = pg\n",
    "        self.channel = channel\n",
    "        self.pulse = self.pulse_gen()\n",
    "        self.pulse_setter = pulse_setter\n",
    "    def set_real_amplitude(self,x):\n",
    "        self.amp_x = x\n",
    "        self.pulse_setter(self.pulse_gen())\n",
    "    def set_imag_amplitude(self,y):\n",
    "        self.amp_y = y\n",
    "        self.pulse_setter(self.pulse_gen())\n",
    "    def set_sigma(self,s):\n",
    "        self.sigma = s\n",
    "        self.pulse_setter(self.pulse_gen())\n",
    "    def set_length(self,l):\n",
    "        self.length = l\n",
    "        self.pulse_setter(self.pulse_gen())\n",
    "    def set_pause_length(self, p):\n",
    "        self.pause_length = p\n",
    "        self.pulse_setter(self.pulse_gen())\n",
    "    def set_alpha(self, a):\n",
    "        self.alpha = a\n",
    "        self.pulse_setter(self.pulse_gen())\n",
    "    def pulse_gen(self):\n",
    "        return [pg.p(self.channel, self.length, self.pg.gauss_hd, self.amp_x+1j*self.amp_y, 0, self.sigma, self.alpha), pg.p(None, self.pause_length)]\n",
    "    \n",
    "xg = hd_pulse_generator(bench.set_target_pulse, pg, 'iq_ex')"
   ]
  },
  {
   "cell_type": "code",
   "execution_count": null,
   "metadata": {
    "collapsed": true
   },
   "outputs": [],
   "source": [
    "sol, score = sweep.optimize(tfunc,  (xg.set_real_amplitude, xg.amp_x), \n",
    "                                    (xg.set_imag_amplitude, xg.amp_y),\n",
    "                                    (xg.set_alpha, xg.alpha))"
   ]
  },
  {
   "cell_type": "code",
   "execution_count": 23,
   "metadata": {},
   "outputs": [
    {
     "name": "stdout",
     "output_type": "stream",
     "text": [
      "Started at:  Jul 02 2017 23:03:34\n"
     ]
    },
    {
     "name": "stderr",
     "output_type": "stream",
     "text": [
      "c:\\python36\\lib\\site-packages\\matplotlib\\backend_bases.py:2445: MatplotlibDeprecationWarning: Using default event loop until function specific to this GUI is implemented\n",
      "  warnings.warn(str, mplDeprecation)\n"
     ]
    },
    {
     "name": "stdout",
     "output_type": "stream",
     "text": [
      "First sweep...Started at:  Jul 02 2017 23:03:35\n",
      "First sweep..."
     ]
    },
    {
     "name": "stderr",
     "output_type": "stream",
     "text": [
      "D:\\qtlab_replacement\\instruments\\Tektronix_AWG5014.py:637: ComplexWarning: Casting complex values to real discards the imaginary part\n",
      "  m1[:] = marker[:len(m1)]\n"
     ]
    },
    {
     "name": "stdout",
     "output_type": "stream",
     "text": [
      "Time left: 0 h 0 m 0.0 s,\tparameter values: Interleaving sequence id:      5,\taverage cycle time:   31s\ts\t\n",
      "Elapsed time: 0 h 3 m 4.35 s\n",
      "Time left: 12 h 56 m 8.95 s,\tparameter values: Amplitude:  0.925,\tHD DRAG coeff: -2e-09,\taverage cycle time: 2e+02s\tStarted at:  Jul 02 2017 23:06:57\n",
      "Time left: 0 h 0 m 0.0 s,\tparameter values: Interleaving sequence id:      5,\taverage cycle time:   31s\ts\t\n",
      "Elapsed time: 0 h 3 m 6.03 s\n",
      "Time left: 12 h 53 m 44.37 s,\tparameter values: Amplitude:  0.925,\tHD DRAG coeff: -1.6e-09,\taverage cycle time: 2e+02s\tStarted at:  Jul 02 2017 23:10:20\n",
      "Time left: 0 h 0 m 0.0 s,\tparameter values: Interleaving sequence id:      5,\taverage cycle time:   31s\ts\t\n",
      "Elapsed time: 0 h 3 m 6.96 s\n",
      "Time left: 12 h 52 m 28.56 s,\tparameter values: Amplitude:  0.925,\tHD DRAG coeff: -1.2e-09,\taverage cycle time: 2e+02s\tStarted at:  Jul 02 2017 23:13:45\n",
      "Time left: 0 h 0 m 0.0 s,\tparameter values: Interleaving sequence id:      5,\taverage cycle time:   29s\ts\t\n",
      "Elapsed time: 0 h 2 m 56.35 s\n",
      "Time left: 12 h 39 m 37.77 s,\tparameter values: Amplitude:  0.925,\tHD DRAG coeff: -8e-10,\taverage cycle time: 2e+02s\tStarted at:  Jul 02 2017 23:16:58\n",
      "Time left: 0 h 0 m 0.0 s,\tparameter values: Interleaving sequence id:      5,\taverage cycle time:   28s\ts\t\n",
      "Elapsed time: 0 h 2 m 49.45 s\n",
      "Time left: 12 h 26 m 7.22 s,\tparameter values: Amplitude:  0.925,\tHD DRAG coeff: -4e-10,\taverage cycle time: 2e+02s\tStarted at:  Jul 02 2017 23:20:05\n",
      "Time left: 0 h 0 m 0.0 s,\tparameter values: Interleaving sequence id:      5,\taverage cycle time:   28s\ts\t\n",
      "Elapsed time: 0 h 2 m 50.19 s\n",
      "Time left: 12 h 17 m 28.4 s,\tparameter values: Amplitude:  0.925,\tHD DRAG coeff:      0,\taverage cycle time: 2e+02s\tStarted at:  Jul 02 2017 23:23:15\n",
      "Time left: 0 h 0 m 0.0 s,\tparameter values: Interleaving sequence id:      5,\taverage cycle time:   28s\ts\t\n",
      "Elapsed time: 0 h 2 m 49.89 s\n",
      "Time left: 12 h 10 m 7.27 s,\tparameter values: Amplitude:  0.925,\tHD DRAG coeff:  4e-10,\taverage cycle time: 2e+02s\tStarted at:  Jul 02 2017 23:26:24\n",
      "Time left: 0 h 0 m 0.0 s,\tparameter values: Interleaving sequence id:      5,\taverage cycle time:   28s\t\t\t\n",
      "Elapsed time: 0 h 2 m 49.71 s\n",
      "Time left: 12 h 4 m 4.12 s,\tparameter values: Amplitude:  0.925,\tHD DRAG coeff:  8e-10,\taverage cycle time: 1.9e+02s\tStarted at:  Jul 02 2017 23:29:34\n",
      "Time left: 0 h 0 m 0.0 s,\tparameter values: Interleaving sequence id:      5,\taverage cycle time:   28s\t\t\t\n",
      "Elapsed time: 0 h 2 m 49.77 s\n",
      "Time left: 11 h 58 m 55.06 s,\tparameter values: Amplitude:  0.925,\tHD DRAG coeff: 1.2e-09,\taverage cycle time: 1.9e+02s\tStarted at:  Jul 02 2017 23:32:44\n",
      "Time left: 0 h 0 m 0.0 s,\tparameter values: Interleaving sequence id:      5,\taverage cycle time:   28s\ts\t\n",
      "Elapsed time: 0 h 2 m 49.47 s\n",
      "Time left: 11 h 54 m 21.24 s,\tparameter values: Amplitude:  0.925,\tHD DRAG coeff: 1.6e-09,\taverage cycle time: 1.9e+02s\tStarted at:  Jul 02 2017 23:35:54\n",
      "Time left: 0 h 0 m 0.0 s,\tparameter values: Interleaving sequence id:      5,\taverage cycle time:   28s\ts\t\n",
      "Elapsed time: 0 h 2 m 50.05 s\n",
      "Time left: 11 h 50 m 36.82 s,\tparameter values: Amplitude:  0.925,\tHD DRAG coeff:  2e-09,\taverage cycle time: 1.9e+02s\tStarted at:  Jul 02 2017 23:39:07\n",
      "Time left: 0 h 0 m 0.0 s,\tparameter values: Interleaving sequence id:      5,\taverage cycle time:   28s\ts\t\n",
      "Elapsed time: 0 h 2 m 48.75 s\n",
      "Time left: 11 h 46 m 44.46 s,\tparameter values: Amplitude: 0.9275,\tHD DRAG coeff: -2e-09,\taverage cycle time: 1.9e+02s\tStarted at:  Jul 02 2017 23:42:19\n",
      "Time left: 0 h 0 m 0.0 s,\tparameter values: Interleaving sequence id:      5,\taverage cycle time:   28s\ts\t\n",
      "Elapsed time: 0 h 2 m 48.96 s\n",
      "Time left: 11 h 43 m 10.31 s,\tparameter values: Amplitude: 0.9275,\tHD DRAG coeff: -1.6e-09,\taverage cycle time: 1.9e+02s\tStarted at:  Jul 02 2017 23:45:31\n",
      "Time left: 0 h 0 m 0.0 s,\tparameter values: Interleaving sequence id:      5,\taverage cycle time:   28s\ts\t\n",
      "Elapsed time: 0 h 2 m 49.01 s\n",
      "Time left: 11 h 39 m 57.67 s,\tparameter values: Amplitude: 0.9275,\tHD DRAG coeff: -1.2e-09,\taverage cycle time: 1.9e+02s\tStarted at:  Jul 02 2017 23:48:45\n",
      "Time left: 0 h 0 m 0.0 s,\tparameter values: Interleaving sequence id:      5,\taverage cycle time:   28s\ts\t\n",
      "Elapsed time: 0 h 2 m 49.05 s\n",
      "Time left: 11 h 36 m 51.89 s,\tparameter values: Amplitude: 0.9275,\tHD DRAG coeff: -8e-10,\taverage cycle time: 1.9e+02s\tStarted at:  Jul 02 2017 23:51:59\n",
      "Time left: 0 h 0 m 0.0 s,\tparameter values: Interleaving sequence id:      5,\taverage cycle time:   28s\ts\t\n",
      "Elapsed time: 0 h 2 m 48.76 s\n",
      "Time left: 11 h 33 m 52.83 s,\tparameter values: Amplitude: 0.9275,\tHD DRAG coeff: -4e-10,\taverage cycle time: 1.9e+02s\tStarted at:  Jul 02 2017 23:55:13\n",
      "Time left: 0 h 0 m 0.0 s,\tparameter values: Interleaving sequence id:      5,\taverage cycle time:   28s\ts\t\n",
      "Elapsed time: 0 h 2 m 49.78 s\n",
      "Time left: 11 h 31 m 12.44 s,\tparameter values: Amplitude: 0.9275,\tHD DRAG coeff:      0,\taverage cycle time: 1.9e+02s\tStarted at:  Jul 02 2017 23:58:30\n",
      "Time left: 0 h 0 m 0.0 s,\tparameter values: Interleaving sequence id:      5,\taverage cycle time:   28s\ts\t\n",
      "Elapsed time: 0 h 2 m 49.89 s\n",
      "Time left: 11 h 28 m 40.48 s,\tparameter values: Amplitude: 0.9275,\tHD DRAG coeff:  4e-10,\taverage cycle time: 1.9e+02s\tStarted at:  Jul 03 2017 00:01:47\n",
      "Time left: 0 h 0 m 0.0 s,\tparameter values: Interleaving sequence id:      5,\taverage cycle time:   28s\ts\t\n",
      "Elapsed time: 0 h 2 m 48.71 s\n",
      "Time left: 11 h 25 m 57.72 s,\tparameter values: Amplitude: 0.9275,\tHD DRAG coeff:  8e-10,\taverage cycle time: 1.9e+02s\tStarted at:  Jul 03 2017 00:05:04\n",
      "Time left: 0 h 0 m 0.0 s,\tparameter values: Interleaving sequence id:      5,\taverage cycle time:   28s\ts\t\n",
      "Elapsed time: 0 h 2 m 48.92 s\n",
      "Time left: 11 h 23 m 23.75 s,\tparameter values: Amplitude: 0.9275,\tHD DRAG coeff: 1.2e-09,\taverage cycle time: 1.9e+02s\tStarted at:  Jul 03 2017 00:08:22\n",
      "Time left: 0 h 0 m 0.0 s,\tparameter values: Interleaving sequence id:      5,\taverage cycle time:   28s\ts\t\n",
      "Elapsed time: 0 h 2 m 48.93 s\n",
      "Time left: 11 h 20 m 52.0 s,\tparameter values: Amplitude: 0.9275,\tHD DRAG coeff: 1.6e-09,\taverage cycle time: 1.9e+02s\tStarted at:  Jul 03 2017 00:11:40\n",
      "Time left: 0 h 0 m 0.0 s,\tparameter values: Interleaving sequence id:      5,\taverage cycle time:   28s\ts\t\n",
      "Elapsed time: 0 h 2 m 49.65 s\n",
      "Time left: 11 h 18 m 28.48 s,\tparameter values: Amplitude: 0.9275,\tHD DRAG coeff:  2e-09,\taverage cycle time: 1.9e+02s\tStarted at:  Jul 03 2017 00:15:00\n",
      "Time left: 0 h 0 m 0.0 s,\tparameter values: Interleaving sequence id:      5,\taverage cycle time:   28s\ts\t\n",
      "Elapsed time: 0 h 2 m 48.64 s\n",
      "Time left: 11 h 15 m 58.69 s,\tparameter values: Amplitude:   0.93,\tHD DRAG coeff: -2e-09,\taverage cycle time: 1.9e+02s\tStarted at:  Jul 03 2017 00:18:20\n",
      "Time left: 0 h 0 m 0.0 s,\tparameter values: Interleaving sequence id:      5,\taverage cycle time:   28s\ts\t\n",
      "Elapsed time: 0 h 2 m 48.91 s\n",
      "Time left: 11 h 13 m 34.42 s,\tparameter values: Amplitude:   0.93,\tHD DRAG coeff: -1.6e-09,\taverage cycle time: 2e+02s\tStarted at:  Jul 03 2017 00:21:41\n",
      "Time left: 0 h 0 m 0.0 s,\tparameter values: Interleaving sequence id:      5,\taverage cycle time:   28s\ts\t\n",
      "Elapsed time: 0 h 2 m 50.58 s\n",
      "Time left: 11 h 11 m 25.17 s,\tparameter values: Amplitude:   0.93,\tHD DRAG coeff: -1.2e-09,\taverage cycle time: 2e+02s\tStarted at:  Jul 03 2017 00:25:04\n",
      "Time left: 0 h 0 m 0.0 s,\tparameter values: Interleaving sequence id:      5,\taverage cycle time:   28s\ts\t\n",
      "Elapsed time: 0 h 2 m 49.27 s\n",
      "Time left: 11 h 9 m 7.88 s,\tparameter values: Amplitude:   0.93,\tHD DRAG coeff: -8e-10,\taverage cycle time: 2e+02s\tStarted at:  Jul 03 2017 00:28:27\n",
      "Time left: 0 h 0 m 0.0 s,\tparameter values: Interleaving sequence id:      5,\taverage cycle time:   28s\ts\t\n",
      "Elapsed time: 0 h 2 m 49.32 s\n",
      "Time left: 11 h 6 m 49.17 s,\tparameter values: Amplitude:   0.93,\tHD DRAG coeff: -4e-10,\taverage cycle time: 2e+02s\tStarted at:  Jul 03 2017 00:31:50\n",
      "Time left: 0 h 0 m 0.0 s,\tparameter values: Interleaving sequence id:      5,\taverage cycle time:   28s\ts\t\n",
      "Elapsed time: 0 h 2 m 50.11 s\n",
      "Time left: 11 h 4 m 35.7 s,\tparameter values: Amplitude:   0.93,\tHD DRAG coeff:      0,\taverage cycle time: 2e+02s\tStarted at:  Jul 03 2017 00:35:15\n",
      "Time left: 0 h 0 m 0.0 s,\tparameter values: Interleaving sequence id:      5,\taverage cycle time:   28s\ts\t\n",
      "Elapsed time: 0 h 2 m 49.75 s\n",
      "Time left: 11 h 2 m 19.32 s,\tparameter values: Amplitude:   0.93,\tHD DRAG coeff:  4e-10,\taverage cycle time: 2e+02s\tStarted at:  Jul 03 2017 00:38:40\n",
      "Time left: 0 h 0 m 0.0 s,\tparameter values: Interleaving sequence id:      5,\taverage cycle time:   28s\t\t\t\n",
      "Elapsed time: 0 h 2 m 49.16 s\n",
      "Time left: 11 h 0 m 0.81 s,\tparameter values: Amplitude:   0.93,\tHD DRAG coeff:  8e-10,\taverage cycle time: 2e+02s\tStarted at:  Jul 03 2017 00:42:06\n",
      "Time left: 0 h 0 m 0.0 s,\tparameter values: Interleaving sequence id:      5,\taverage cycle time:   28s\t\t\t\n",
      "Elapsed time: 0 h 2 m 48.65 s\n",
      "Time left: 10 h 57 m 38.53 s,\tparameter values: Amplitude:   0.93,\tHD DRAG coeff: 1.2e-09,\taverage cycle time: 2e+02s\tStarted at:  Jul 03 2017 00:45:31\n",
      "Time left: 0 h 0 m 0.0 s,\tparameter values: Interleaving sequence id:      5,\taverage cycle time:   28s\ts\t\n",
      "Elapsed time: 0 h 2 m 49.28 s\n",
      "Time left: 10 h 55 m 21.9 s,\tparameter values: Amplitude:   0.93,\tHD DRAG coeff: 1.6e-09,\taverage cycle time: 2e+02s\tStarted at:  Jul 03 2017 00:48:58\n",
      "Time left: 0 h 0 m 0.0 s,\tparameter values: Interleaving sequence id:      5,\taverage cycle time:   28s\ts\t\n",
      "Elapsed time: 0 h 2 m 48.61 s\n",
      "Time left: 10 h 53 m 2.19 s,\tparameter values: Amplitude:   0.93,\tHD DRAG coeff:  2e-09,\taverage cycle time: 2e+02s\tStarted at:  Jul 03 2017 00:52:25\n",
      "Time left: 0 h 0 m 0.0 s,\tparameter values: Interleaving sequence id:      5,\taverage cycle time:   28s\ts\t\n",
      "Elapsed time: 0 h 2 m 49.01 s\n",
      "Time left: 10 h 50 m 42.84 s,\tparameter values: Amplitude: 0.9325,\tHD DRAG coeff: -2e-09,\taverage cycle time: 2e+02s\tStarted at:  Jul 03 2017 00:55:53\n",
      "Time left: 0 h 0 m 0.0 s,\tparameter values: Interleaving sequence id:      5,\taverage cycle time:   28s\ts\t\n",
      "Elapsed time: 0 h 2 m 49.02 s\n",
      "Time left: 10 h 48 m 24.99 s,\tparameter values: Amplitude: 0.9325,\tHD DRAG coeff: -1.6e-09,\taverage cycle time: 2e+02s\tStarted at:  Jul 03 2017 00:59:22\n",
      "Time left: 0 h 0 m 0.0 s,\tparameter values: Interleaving sequence id:      5,\taverage cycle time:   28s\ts\t\n",
      "Elapsed time: 0 h 2 m 49.11 s\n",
      "Time left: 10 h 46 m 8.19 s,\tparameter values: Amplitude: 0.9325,\tHD DRAG coeff: -1.2e-09,\taverage cycle time: 2e+02s\tStarted at:  Jul 03 2017 01:02:52\n",
      "Time left: 0 h 0 m 0.0 s,\tparameter values: Interleaving sequence id:      5,\taverage cycle time:   28s\ts\t\n",
      "Elapsed time: 0 h 2 m 50.15 s\n",
      "Time left: 10 h 43 m 56.79 s,\tparameter values: Amplitude: 0.9325,\tHD DRAG coeff: -8e-10,\taverage cycle time: 2e+02s\tStarted at:  Jul 03 2017 01:06:24\n",
      "Time left: 0 h 0 m 0.0 s,\tparameter values: Interleaving sequence id:      5,\taverage cycle time:   28s\ts\t\n",
      "Elapsed time: 0 h 2 m 49.33 s\n",
      "Time left: 10 h 41 m 38.51 s,\tparameter values: Amplitude: 0.9325,\tHD DRAG coeff: -4e-10,\taverage cycle time: 2e+02s\tStarted at:  Jul 03 2017 01:09:55\n",
      "Time left: 0 h 0 m 0.0 s,\tparameter values: Interleaving sequence id:      5,\taverage cycle time:   28s\ts\t\n",
      "Elapsed time: 0 h 2 m 49.33 s\n",
      "Time left: 10 h 39 m 21.27 s,\tparameter values: Amplitude: 0.9325,\tHD DRAG coeff:      0,\taverage cycle time: 2e+02s\tStarted at:  Jul 03 2017 01:13:27\n",
      "Time left: 0 h 0 m 0.0 s,\tparameter values: Interleaving sequence id:      5,\taverage cycle time:   28s\ts\t\n",
      "Elapsed time: 0 h 2 m 49.25 s\n",
      "Time left: 10 h 37 m 5.79 s,\tparameter values: Amplitude: 0.9325,\tHD DRAG coeff:  4e-10,\taverage cycle time: 2e+02s\tStarted at:  Jul 03 2017 01:17:00\n",
      "Time left: 0 h 0 m 0.0 s,\tparameter values: Interleaving sequence id:      5,\taverage cycle time:   28s\ts\t\n",
      "Elapsed time: 0 h 2 m 49.72 s\n",
      "Time left: 10 h 34 m 49.6 s,\tparameter values: Amplitude: 0.9325,\tHD DRAG coeff:  8e-10,\taverage cycle time: 2e+02s\tStarted at:  Jul 03 2017 01:20:34\n",
      "Time left: 0 h 0 m 0.0 s,\tparameter values: Interleaving sequence id:      5,\taverage cycle time:   28s\ts\t\n",
      "Elapsed time: 0 h 2 m 49.37 s\n",
      "Time left: 10 h 32 m 32.2 s,\tparameter values: Amplitude: 0.9325,\tHD DRAG coeff: 1.2e-09,\taverage cycle time: 2e+02s\tStarted at:  Jul 03 2017 01:24:09\n",
      "Time left: 0 h 0 m 0.0 s,\tparameter values: Interleaving sequence id:      5,\taverage cycle time:   28s\ts\t\n",
      "Elapsed time: 0 h 2 m 50.18 s\n",
      "Time left: 10 h 30 m 19.31 s,\tparameter values: Amplitude: 0.9325,\tHD DRAG coeff: 1.6e-09,\taverage cycle time: 2e+02s\tStarted at:  Jul 03 2017 01:27:45\n",
      "Time left: 0 h 0 m 0.0 s,\tparameter values: Interleaving sequence id:      5,\taverage cycle time:   28s\ts\t\n",
      "Elapsed time: 0 h 2 m 50.26 s\n",
      "Time left: 10 h 28 m 4.67 s,\tparameter values: Amplitude: 0.9325,\tHD DRAG coeff:  2e-09,\taverage cycle time: 2e+02s\tStarted at:  Jul 03 2017 01:31:22\n",
      "Time left: 0 h 0 m 0.0 s,\tparameter values: Interleaving sequence id:      5,\taverage cycle time:   29s\ts\t\n",
      "Elapsed time: 0 h 2 m 51.09 s\n",
      "Time left: 10 h 25 m 52.0 s,\tparameter values: Amplitude:  0.935,\tHD DRAG coeff: -2e-09,\taverage cycle time: 2e+02s\tStarted at:  Jul 03 2017 01:35:00\n",
      "Time left: 0 h 0 m 0.0 s,\tparameter values: Interleaving sequence id:      5,\taverage cycle time:   29s\ts\t\n",
      "Elapsed time: 0 h 2 m 51.02 s\n",
      "Time left: 10 h 23 m 38.63 s,\tparameter values: Amplitude:  0.935,\tHD DRAG coeff: -1.6e-09,\taverage cycle time: 2e+02s\tStarted at:  Jul 03 2017 01:38:39\n",
      "Time left: 0 h 0 m 0.0 s,\tparameter values: Interleaving sequence id:      5,\taverage cycle time:   28s\ts\t\n",
      "Elapsed time: 0 h 2 m 50.82 s\n",
      "Time left: 10 h 21 m 25.17 s,\tparameter values: Amplitude:  0.935,\tHD DRAG coeff: -1.2e-09,\taverage cycle time: 2e+02s\tStarted at:  Jul 03 2017 01:42:19\n",
      "Time left: 0 h 0 m 0.0 s,\tparameter values: Interleaving sequence id:      5,\taverage cycle time:   29s\ts\t\n",
      "Elapsed time: 0 h 2 m 51.03 s\n",
      "Time left: 10 h 19 m 10.71 s,\tparameter values: Amplitude:  0.935,\tHD DRAG coeff: -8e-10,\taverage cycle time: 2e+02s\tStarted at:  Jul 03 2017 01:45:59\n",
      "Time left: 0 h 0 m 0.0 s,\tparameter values: Interleaving sequence id:      5,\taverage cycle time:   29s\t\t\t\n",
      "Elapsed time: 0 h 2 m 51.01 s\n",
      "Time left: 10 h 16 m 55.6 s,\tparameter values: Amplitude:  0.935,\tHD DRAG coeff: -4e-10,\taverage cycle time: 2e+02s\tStarted at:  Jul 03 2017 01:49:41\n",
      "Time left: 0 h 0 m 0.0 s,\tparameter values: Interleaving sequence id:      5,\taverage cycle time:   28s\ts\t\n",
      "Elapsed time: 0 h 2 m 50.6 s\n",
      "Time left: 10 h 14 m 38.77 s,\tparameter values: Amplitude:  0.935,\tHD DRAG coeff:      0,\taverage cycle time: 2e+02s\tStarted at:  Jul 03 2017 01:53:23\n",
      "Time left: 0 h 0 m 0.0 s,\tparameter values: Interleaving sequence id:      5,\taverage cycle time:   28s\ts\t\n",
      "Elapsed time: 0 h 2 m 50.61 s\n",
      "Time left: 10 h 12 m 21.38 s,\tparameter values: Amplitude:  0.935,\tHD DRAG coeff:  4e-10,\taverage cycle time: 2e+02s\tStarted at:  Jul 03 2017 01:57:05\n",
      "Time left: 0 h 0 m 0.0 s,\tparameter values: Interleaving sequence id:      5,\taverage cycle time:   29s\ts\t\n",
      "Elapsed time: 0 h 2 m 51.07 s\n",
      "Time left: 10 h 10 m 3.56 s,\tparameter values: Amplitude:  0.935,\tHD DRAG coeff:  8e-10,\taverage cycle time: 2e+02s\tStarted at:  Jul 03 2017 02:00:48\n",
      "Time left: 0 h 0 m 0.0 s,\tparameter values: Interleaving sequence id:      5,\taverage cycle time:   29s\ts\t\n",
      "Elapsed time: 0 h 2 m 51.28 s\n",
      "Time left: 10 h 7 m 46.71 s,\tparameter values: Amplitude:  0.935,\tHD DRAG coeff: 1.2e-09,\taverage cycle time: 2e+02s\tStarted at:  Jul 03 2017 02:04:33\n",
      "Time left: 0 h 0 m 0.0 s,\tparameter values: Interleaving sequence id:      5,\taverage cycle time:   28s\t\t\t\n",
      "Elapsed time: 0 h 2 m 50.46 s\n",
      "Time left: 10 h 5 m 25.78 s,\tparameter values: Amplitude:  0.935,\tHD DRAG coeff: 1.6e-09,\taverage cycle time: 2.1e+02s\tStarted at:  Jul 03 2017 02:08:17\n",
      "Time left: 0 h 0 m 0.0 s,\tparameter values: Interleaving sequence id:      5,\taverage cycle time:   28s\ts\t\n",
      "Elapsed time: 0 h 2 m 50.71 s\n",
      "Time left: 10 h 3 m 6.53 s,\tparameter values: Amplitude:  0.935,\tHD DRAG coeff:  2e-09,\taverage cycle time: 2.1e+02s\tStarted at:  Jul 03 2017 02:12:03\n",
      "Time left: 0 h 0 m 0.0 s,\tparameter values: Interleaving sequence id:      5,\taverage cycle time:   28s\ts\t\n",
      "Elapsed time: 0 h 2 m 50.7 s\n",
      "Time left: 10 h 0 m 45.07 s,\tparameter values: Amplitude: 0.9375,\tHD DRAG coeff: -2e-09,\taverage cycle time: 2.1e+02s\tStarted at:  Jul 03 2017 02:15:49\n",
      "Time left: 0 h 0 m 0.0 s,\tparameter values: Interleaving sequence id:      5,\taverage cycle time:   29s\t\t\t\n",
      "Elapsed time: 0 h 2 m 51.06 s\n"
     ]
    },
    {
     "name": "stdout",
     "output_type": "stream",
     "text": [
      "Time left: 9 h 58 m 23.85 s,\tparameter values: Amplitude: 0.9375,\tHD DRAG coeff: -1.6e-09,\taverage cycle time: 2.1e+02s\tStarted at:  Jul 03 2017 02:19:37\n",
      "Time left: 0 h 0 m 0.0 s,\tparameter values: Interleaving sequence id:      5,\taverage cycle time:   28s\ts\t\n",
      "Elapsed time: 0 h 2 m 50.97 s\n",
      "Time left: 9 h 56 m 0.73 s,\tparameter values: Amplitude: 0.9375,\tHD DRAG coeff: -1.2e-09,\taverage cycle time: 2.1e+02s\tStarted at:  Jul 03 2017 02:23:24\n",
      "Time left: 0 h 0 m 0.0 s,\tparameter values: Interleaving sequence id:      5,\taverage cycle time:   28s\ts\t\n",
      "Elapsed time: 0 h 2 m 50.53 s\n",
      "Time left: 9 h 53 m 37.34 s,\tparameter values: Amplitude: 0.9375,\tHD DRAG coeff: -8e-10,\taverage cycle time: 2.1e+02s\tStarted at:  Jul 03 2017 02:27:13\n",
      "Time left: 0 h 0 m 0.0 s,\tparameter values: Interleaving sequence id:      5,\taverage cycle time:   28s\ts\t\n",
      "Elapsed time: 0 h 2 m 50.78 s\n",
      "Time left: 9 h 51 m 12.96 s,\tparameter values: Amplitude: 0.9375,\tHD DRAG coeff: -4e-10,\taverage cycle time: 2.1e+02s\tStarted at:  Jul 03 2017 02:31:02\n",
      "Time left: 0 h 0 m 0.0 s,\tparameter values: Interleaving sequence id:      5,\taverage cycle time:   28s\t\t\t\n",
      "Elapsed time: 0 h 2 m 50.36 s\n",
      "Time left: 9 h 48 m 46.63 s,\tparameter values: Amplitude: 0.9375,\tHD DRAG coeff:      0,\taverage cycle time: 2.1e+02s\tStarted at:  Jul 03 2017 02:34:51\n",
      "Time left: 0 h 0 m 0.0 s,\tparameter values: Interleaving sequence id:      5,\taverage cycle time:   28s\ts\t\n",
      "Elapsed time: 0 h 2 m 50.77 s\n",
      "Time left: 9 h 46 m 20.89 s,\tparameter values: Amplitude: 0.9375,\tHD DRAG coeff:  4e-10,\taverage cycle time: 2.1e+02s\tStarted at:  Jul 03 2017 02:38:42\n",
      "Time left: 0 h 0 m 0.0 s,\tparameter values: Interleaving sequence id:      5,\taverage cycle time:   28s\t\t\t\n",
      "Elapsed time: 0 h 2 m 50.8 s\n",
      "Time left: 9 h 43 m 55.5 s,\tparameter values: Amplitude: 0.9375,\tHD DRAG coeff:  8e-10,\taverage cycle time: 2.1e+02s\tStarted at:  Jul 03 2017 02:42:33\n",
      "Time left: 0 h 0 m 0.0 s,\tparameter values: Interleaving sequence id:      5,\taverage cycle time:   29s\ts\t\n",
      "Elapsed time: 0 h 2 m 51.42 s\n",
      "Time left: 9 h 41 m 29.83 s,\tparameter values: Amplitude: 0.9375,\tHD DRAG coeff: 1.2e-09,\taverage cycle time: 2.1e+02s\tStarted at:  Jul 03 2017 02:46:26\n",
      "Time left: 0 h 0 m 0.0 s,\tparameter values: Interleaving sequence id:      5,\taverage cycle time:   28s\ts\t\n",
      "Elapsed time: 0 h 2 m 50.82 s\n",
      "Time left: 9 h 39 m 2.02 s,\tparameter values: Amplitude: 0.9375,\tHD DRAG coeff: 1.6e-09,\taverage cycle time: 2.1e+02s\tStarted at:  Jul 03 2017 02:50:19\n",
      "Time left: 0 h 0 m 0.0 s,\tparameter values: Interleaving sequence id:      5,\taverage cycle time:   28s\ts\t\n",
      "Elapsed time: 0 h 2 m 50.71 s\n",
      "Time left: 9 h 36 m 32.9 s,\tparameter values: Amplitude: 0.9375,\tHD DRAG coeff:  2e-09,\taverage cycle time: 2.1e+02s\tStarted at:  Jul 03 2017 02:54:12\n",
      "Time left: 0 h 0 m 0.0 s,\tparameter values: Interleaving sequence id:      5,\taverage cycle time:   29s\ts\t\n",
      "Elapsed time: 0 h 2 m 51.53 s\n",
      "Time left: 9 h 34 m 5.17 s,\tparameter values: Amplitude:   0.94,\tHD DRAG coeff: -2e-09,\taverage cycle time: 2.1e+02s\tStarted at:  Jul 03 2017 02:58:07\n",
      "Time left: 0 h 0 m 0.0 s,\tparameter values: Interleaving sequence id:      5,\taverage cycle time:   29s\ts\t\n",
      "Elapsed time: 0 h 2 m 51.24 s\n",
      "Time left: 9 h 31 m 37.12 s,\tparameter values: Amplitude:   0.94,\tHD DRAG coeff: -1.6e-09,\taverage cycle time: 2.1e+02s\tStarted at:  Jul 03 2017 03:02:03\n",
      "Time left: 0 h 0 m 0.0 s,\tparameter values: Interleaving sequence id:      5,\taverage cycle time:   29s\ts\t\n",
      "Elapsed time: 0 h 2 m 51.67 s\n",
      "Time left: 9 h 29 m 7.93 s,\tparameter values: Amplitude:   0.94,\tHD DRAG coeff: -1.2e-09,\taverage cycle time: 2.1e+02s\tStarted at:  Jul 03 2017 03:06:00\n",
      "Time left: 0 h 0 m 0.0 s,\tparameter values: Interleaving sequence id:      5,\taverage cycle time:   28s\ts\t\n",
      "Elapsed time: 0 h 2 m 50.53 s\n",
      "Time left: 9 h 26 m 35.39 s,\tparameter values: Amplitude:   0.94,\tHD DRAG coeff: -8e-10,\taverage cycle time: 2.1e+02s\tStarted at:  Jul 03 2017 03:09:56\n",
      "Time left: 0 h 0 m 0.0 s,\tparameter values: Interleaving sequence id:      5,\taverage cycle time:   28s\ts\t\n",
      "Elapsed time: 0 h 2 m 50.41 s\n",
      "Time left: 9 h 24 m 2.46 s,\tparameter values: Amplitude:   0.94,\tHD DRAG coeff: -4e-10,\taverage cycle time: 2.1e+02s\tStarted at:  Jul 03 2017 03:13:53\n",
      "Time left: 0 h 0 m 0.0 s,\tparameter values: Interleaving sequence id:      5,\taverage cycle time:   29s\ts\t\n",
      "Elapsed time: 0 h 2 m 51.36 s\n",
      "Time left: 9 h 21 m 32.09 s,\tparameter values: Amplitude:   0.94,\tHD DRAG coeff:      0,\taverage cycle time: 2.1e+02s\tStarted at:  Jul 03 2017 03:17:52\n",
      "Time left: 0 h 0 m 0.0 s,\tparameter values: Interleaving sequence id:      5,\taverage cycle time:   29s\ts\t\n",
      "Elapsed time: 0 h 2 m 51.38 s\n",
      "Time left: 9 h 18 m 59.24 s,\tparameter values: Amplitude:   0.94,\tHD DRAG coeff:  4e-10,\taverage cycle time: 2.1e+02s\tStarted at:  Jul 03 2017 03:21:51\n",
      "Time left: 0 h 0 m 0.0 s,\tparameter values: Interleaving sequence id:      5,\taverage cycle time:   29s\ts\t\n",
      "Elapsed time: 0 h 2 m 51.49 s\n",
      "Time left: 9 h 16 m 26.47 s,\tparameter values: Amplitude:   0.94,\tHD DRAG coeff:  8e-10,\taverage cycle time: 2.1e+02s\tStarted at:  Jul 03 2017 03:25:51\n",
      "Time left: 0 h 0 m 0.0 s,\tparameter values: Interleaving sequence id:      5,\taverage cycle time:   29s\ts\t\n",
      "Elapsed time: 0 h 2 m 51.03 s\n",
      "Time left: 9 h 13 m 51.28 s,\tparameter values: Amplitude:   0.94,\tHD DRAG coeff: 1.2e-09,\taverage cycle time: 2.1e+02s\tStarted at:  Jul 03 2017 03:29:52\n",
      "Time left: 0 h 0 m 0.0 s,\tparameter values: Interleaving sequence id:      5,\taverage cycle time:   28s\ts\t\n",
      "Elapsed time: 0 h 2 m 50.89 s\n",
      "Time left: 9 h 11 m 15.38 s,\tparameter values: Amplitude:   0.94,\tHD DRAG coeff: 1.6e-09,\taverage cycle time: 2.1e+02s\tStarted at:  Jul 03 2017 03:33:53\n",
      "Time left: 0 h 0 m 0.0 s,\tparameter values: Interleaving sequence id:      5,\taverage cycle time:   29s\ts\t\n",
      "Elapsed time: 0 h 2 m 51.17 s\n",
      "Time left: 9 h 8 m 40.04 s,\tparameter values: Amplitude:   0.94,\tHD DRAG coeff:  2e-09,\taverage cycle time: 2.1e+02s\tStarted at:  Jul 03 2017 03:37:55\n",
      "Time left: 0 h 0 m 0.0 s,\tparameter values: Interleaving sequence id:      5,\taverage cycle time:   28s\t\t\t\n",
      "Elapsed time: 0 h 2 m 50.95 s\n",
      "Time left: 9 h 6 m 2.84 s,\tparameter values: Amplitude: 0.9425,\tHD DRAG coeff: -2e-09,\taverage cycle time: 2.1e+02s\tStarted at:  Jul 03 2017 03:41:58\n",
      "Time left: 0 h 0 m 0.0 s,\tparameter values: Interleaving sequence id:      5,\taverage cycle time:   29s\ts\t\n",
      "Elapsed time: 0 h 2 m 51.34 s\n",
      "Time left: 9 h 3 m 25.17 s,\tparameter values: Amplitude: 0.9425,\tHD DRAG coeff: -1.6e-09,\taverage cycle time: 2.1e+02s\tStarted at:  Jul 03 2017 03:46:01\n",
      "Time left: 0 h 0 m 0.0 s,\tparameter values: Interleaving sequence id:      5,\taverage cycle time:   29s\ts\t\n",
      "Elapsed time: 0 h 2 m 51.25 s\n",
      "Time left: 9 h 0 m 46.86 s,\tparameter values: Amplitude: 0.9425,\tHD DRAG coeff: -1.2e-09,\taverage cycle time: 2.1e+02s\tStarted at:  Jul 03 2017 03:50:05\n",
      "Time left: 0 h 0 m 0.0 s,\tparameter values: Interleaving sequence id:      5,\taverage cycle time:   29s\ts\t\n",
      "Elapsed time: 0 h 2 m 52.25 s\n",
      "Time left: 8 h 58 m 9.83 s,\tparameter values: Amplitude: 0.9425,\tHD DRAG coeff: -8e-10,\taverage cycle time: 2.2e+02s\tStarted at:  Jul 03 2017 03:54:12\n",
      "Time left: 0 h 0 m 0.0 s,\tparameter values: Interleaving sequence id:      5,\taverage cycle time:   29s\ts\t\n",
      "Elapsed time: 0 h 2 m 52.46 s\n",
      "Time left: 8 h 55 m 33.4 s,\tparameter values: Amplitude: 0.9425,\tHD DRAG coeff: -4e-10,\taverage cycle time: 2.2e+02s\tStarted at:  Jul 03 2017 03:58:19\n",
      "Time left: 0 h 0 m 0.0 s,\tparameter values: Interleaving sequence id:      5,\taverage cycle time:   29s\ts\t\n",
      "Elapsed time: 0 h 2 m 53.21 s\n",
      "Time left: 8 h 52 m 56.29 s,\tparameter values: Amplitude: 0.9425,\tHD DRAG coeff:      0,\taverage cycle time: 2.2e+02s\tStarted at:  Jul 03 2017 04:02:28\n",
      "Time left: 0 h 0 m 0.0 s,\tparameter values: Interleaving sequence id:      5,\taverage cycle time:   29s\ts\t\n",
      "Elapsed time: 0 h 2 m 51.35 s\n",
      "Time left: 8 h 50 m 15.04 s,\tparameter values: Amplitude: 0.9425,\tHD DRAG coeff:  4e-10,\taverage cycle time: 2.2e+02s\tStarted at:  Jul 03 2017 04:06:35\n",
      "Time left: 0 h 0 m 0.0 s,\tparameter values: Interleaving sequence id:      5,\taverage cycle time:   29s\ts\t\n",
      "Elapsed time: 0 h 2 m 51.84 s\n",
      "Time left: 8 h 47 m 34.1 s,\tparameter values: Amplitude: 0.9425,\tHD DRAG coeff:  8e-10,\taverage cycle time: 2.2e+02s\tStarted at:  Jul 03 2017 04:10:44\n",
      "Time left: 0 h 0 m 0.0 s,\tparameter values: Interleaving sequence id:      5,\taverage cycle time:   29s\ts\t\n",
      "Elapsed time: 0 h 2 m 51.66 s\n",
      "Time left: 8 h 44 m 51.85 s,\tparameter values: Amplitude: 0.9425,\tHD DRAG coeff: 1.2e-09,\taverage cycle time: 2.2e+02s\tStarted at:  Jul 03 2017 04:14:53\n",
      "Time left: 0 h 0 m 0.0 s,\tparameter values: Interleaving sequence id:      5,\taverage cycle time:   29s\ts\t\n",
      "Elapsed time: 0 h 2 m 53.16 s\n",
      "Time left: 8 h 42 m 12.45 s,\tparameter values: Amplitude: 0.9425,\tHD DRAG coeff: 1.6e-09,\taverage cycle time: 2.2e+02s\tStarted at:  Jul 03 2017 04:19:05\n",
      "Time left: 0 h 0 m 0.0 s,\tparameter values: Interleaving sequence id:      5,\taverage cycle time:   29s\ts\t\n",
      "Elapsed time: 0 h 2 m 52.95 s\n",
      "Time left: 8 h 39 m 30.66 s,\tparameter values: Amplitude: 0.9425,\tHD DRAG coeff:  2e-09,\taverage cycle time: 2.2e+02s\tStarted at:  Jul 03 2017 04:23:17\n",
      "Time left: 0 h 0 m 0.0 s,\tparameter values: Interleaving sequence id:      5,\taverage cycle time:   29s\ts\t\n",
      "Elapsed time: 0 h 2 m 52.82 s\n",
      "Time left: 8 h 36 m 47.34 s,\tparameter values: Amplitude:  0.945,\tHD DRAG coeff: -2e-09,\taverage cycle time: 2.2e+02s\tStarted at:  Jul 03 2017 04:27:29\n",
      "Time left: 0 h 0 m 0.0 s,\tparameter values: Interleaving sequence id:      5,\taverage cycle time:   29s\ts\t\n",
      "Elapsed time: 0 h 2 m 52.88 s\n",
      "Time left: 8 h 34 m 3.63 s,\tparameter values: Amplitude:  0.945,\tHD DRAG coeff: -1.6e-09,\taverage cycle time: 2.2e+02s\tStarted at:  Jul 03 2017 04:31:42\n",
      "Time left: 0 h 0 m 0.0 s,\tparameter values: Interleaving sequence id:      5,\taverage cycle time:   29s\ts\t\n",
      "Elapsed time: 0 h 2 m 52.97 s\n",
      "Time left: 8 h 31 m 19.24 s,\tparameter values: Amplitude:  0.945,\tHD DRAG coeff: -1.2e-09,\taverage cycle time: 2.2e+02s\tStarted at:  Jul 03 2017 04:35:57\n",
      "Time left: 0 h 0 m 0.0 s,\tparameter values: Interleaving sequence id:      5,\taverage cycle time:   29s\t\t\t\n",
      "Elapsed time: 0 h 2 m 52.62 s\n",
      "Time left: 8 h 28 m 34.84 s,\tparameter values: Amplitude:  0.945,\tHD DRAG coeff: -8e-10,\taverage cycle time: 2.2e+02s\tStarted at:  Jul 03 2017 04:40:12\n",
      "Time left: 0 h 0 m 0.0 s,\tparameter values: Interleaving sequence id:      5,\taverage cycle time:   29s\ts\t\n",
      "Elapsed time: 0 h 2 m 53.01 s\n",
      "Time left: 8 h 25 m 48.85 s,\tparameter values: Amplitude:  0.945,\tHD DRAG coeff: -4e-10,\taverage cycle time: 2.2e+02s\tStarted at:  Jul 03 2017 04:44:27\n",
      "Time left: 0 h 0 m 0.0 s,\tparameter values: Interleaving sequence id:      5,\taverage cycle time:   29s\ts\t\n",
      "Elapsed time: 0 h 2 m 54.51 s\n",
      "Time left: 8 h 23 m 4.77 s,\tparameter values: Amplitude:  0.945,\tHD DRAG coeff:      0,\taverage cycle time: 2.2e+02s\tStarted at:  Jul 03 2017 04:48:46\n",
      "Time left: 0 h 0 m 0.0 s,\tparameter values: Interleaving sequence id:      5,\taverage cycle time:   30s\ts\t\n",
      "Elapsed time: 0 h 2 m 57.51 s\n",
      "Time left: 8 h 20 m 23.26 s,\tparameter values: Amplitude:  0.945,\tHD DRAG coeff:  4e-10,\taverage cycle time: 2.2e+02s\tStarted at:  Jul 03 2017 04:53:07\n",
      "Time left: 0 h 0 m 0.0 s,\tparameter values: Interleaving sequence id:      5,\taverage cycle time:   29s\ts\t\n",
      "Elapsed time: 0 h 2 m 52.58 s\n",
      "Time left: 8 h 17 m 33.95 s,\tparameter values: Amplitude:  0.945,\tHD DRAG coeff:  8e-10,\taverage cycle time: 2.2e+02s\tStarted at:  Jul 03 2017 04:57:24\n",
      "Time left: 0 h 0 m 0.0 s,\tparameter values: Interleaving sequence id:      5,\taverage cycle time:   29s\ts\t\n",
      "Elapsed time: 0 h 2 m 52.42 s\n",
      "Time left: 8 h 14 m 44.74 s,\tparameter values: Amplitude:  0.945,\tHD DRAG coeff: 1.2e-09,\taverage cycle time: 2.2e+02s\tStarted at:  Jul 03 2017 05:01:43\n",
      "Time left: 0 h 0 m 0.0 s,\tparameter values: Interleaving sequence id:      5,\taverage cycle time:   29s\ts\t\n",
      "Elapsed time: 0 h 2 m 53.41 s\n",
      "Time left: 8 h 11 m 54.74 s,\tparameter values: Amplitude:  0.945,\tHD DRAG coeff: 1.6e-09,\taverage cycle time: 2.2e+02s\tStarted at:  Jul 03 2017 05:06:03\n",
      "Time left: 0 h 0 m 0.0 s,\tparameter values: Interleaving sequence id:      5,\taverage cycle time:   29s\ts\t\n",
      "Elapsed time: 0 h 2 m 53.85 s\n",
      "Time left: 8 h 9 m 4.96 s,\tparameter values: Amplitude:  0.945,\tHD DRAG coeff:  2e-09,\taverage cycle time: 2.2e+02s\tStarted at:  Jul 03 2017 05:10:24\n",
      "Time left: 0 h 0 m 0.0 s,\tparameter values: Interleaving sequence id:      5,\taverage cycle time:   29s\ts\t\n",
      "Elapsed time: 0 h 2 m 53.6 s\n",
      "Time left: 8 h 6 m 13.91 s,\tparameter values: Amplitude: 0.9475,\tHD DRAG coeff: -2e-09,\taverage cycle time: 2.2e+02s\tStarted at:  Jul 03 2017 05:14:45\n",
      "Time left: 0 h 0 m 0.0 s,\tparameter values: Interleaving sequence id:      5,\taverage cycle time:   29s\ts\t\n",
      "Elapsed time: 0 h 2 m 52.63 s\n",
      "Time left: 8 h 3 m 20.66 s,\tparameter values: Amplitude: 0.9475,\tHD DRAG coeff: -1.6e-09,\taverage cycle time: 2.2e+02s\tStarted at:  Jul 03 2017 05:19:06\n",
      "Time left: 0 h 0 m 0.0 s,\tparameter values: Interleaving sequence id:      5,\taverage cycle time:   29s\ts\t\n",
      "Elapsed time: 0 h 2 m 53.4 s\n",
      "Time left: 8 h 0 m 28.3 s,\tparameter values: Amplitude: 0.9475,\tHD DRAG coeff: -1.2e-09,\taverage cycle time: 2.2e+02s\tStarted at:  Jul 03 2017 05:23:29\n",
      "Time left: 0 h 0 m 0.0 s,\tparameter values: Interleaving sequence id:      5,\taverage cycle time:   29s\ts\t\n",
      "Elapsed time: 0 h 2 m 52.28 s\n",
      "Time left: 7 h 57 m 33.21 s,\tparameter values: Amplitude: 0.9475,\tHD DRAG coeff: -8e-10,\taverage cycle time: 2.2e+02s\tStarted at:  Jul 03 2017 05:27:52\n",
      "Time left: 0 h 0 m 0.0 s,\tparameter values: Interleaving sequence id:      5,\taverage cycle time:   29s\t\t\t\n",
      "Elapsed time: 0 h 2 m 53.48 s\n",
      "Time left: 7 h 54 m 38.78 s,\tparameter values: Amplitude: 0.9475,\tHD DRAG coeff: -4e-10,\taverage cycle time: 2.2e+02s\tStarted at:  Jul 03 2017 05:32:16\n",
      "Time left: 0 h 0 m 0.0 s,\tparameter values: Interleaving sequence id:      5,\taverage cycle time:   29s\ts\t\n",
      "Elapsed time: 0 h 2 m 53.93 s\n",
      "Time left: 7 h 51 m 43.92 s,\tparameter values: Amplitude: 0.9475,\tHD DRAG coeff:      0,\taverage cycle time: 2.2e+02s\tStarted at:  Jul 03 2017 05:36:42\n",
      "Time left: 0 h 0 m 0.0 s,\tparameter values: Interleaving sequence id:      5,\taverage cycle time:   29s\ts\t\n",
      "Elapsed time: 0 h 2 m 53.3 s\n",
      "Time left: 7 h 48 m 47.57 s,\tparameter values: Amplitude: 0.9475,\tHD DRAG coeff:  4e-10,\taverage cycle time: 2.3e+02s\tStarted at:  Jul 03 2017 05:41:07\n",
      "Time left: 0 h 0 m 0.0 s,\tparameter values: Interleaving sequence id:      5,\taverage cycle time:   29s\ts\t\n",
      "Elapsed time: 0 h 2 m 53.79 s\n",
      "Time left: 7 h 45 m 50.84 s,\tparameter values: Amplitude: 0.9475,\tHD DRAG coeff:  8e-10,\taverage cycle time: 2.3e+02s\tStarted at:  Jul 03 2017 05:45:34\n",
      "Time left: 0 h 0 m 0.0 s,\tparameter values: Interleaving sequence id:      5,\taverage cycle time:   29s\ts\t\n",
      "Elapsed time: 0 h 2 m 52.91 s\n",
      "Time left: 7 h 42 m 53.36 s,\tparameter values: Amplitude: 0.9475,\tHD DRAG coeff: 1.2e-09,\taverage cycle time: 2.3e+02s\tStarted at:  Jul 03 2017 05:50:01\n",
      "Time left: 0 h 0 m 0.0 s,\tparameter values: Interleaving sequence id:      5,\taverage cycle time:   29s\t\t\t\n",
      "Elapsed time: 0 h 2 m 53.34 s\n",
      "Time left: 7 h 39 m 54.64 s,\tparameter values: Amplitude: 0.9475,\tHD DRAG coeff: 1.6e-09,\taverage cycle time: 2.3e+02s\tStarted at:  Jul 03 2017 05:54:29\n",
      "Time left: 0 h 0 m 0.0 s,\tparameter values: Interleaving sequence id:      5,\taverage cycle time:   29s\ts\t\n",
      "Elapsed time: 0 h 2 m 53.32 s\n",
      "Time left: 7 h 36 m 55.04 s,\tparameter values: Amplitude: 0.9475,\tHD DRAG coeff:  2e-09,\taverage cycle time: 2.3e+02s\tStarted at:  Jul 03 2017 05:58:58\n",
      "Time left: 0 h 0 m 0.0 s,\tparameter values: Interleaving sequence id:      5,\taverage cycle time:   29s\ts\t\n",
      "Elapsed time: 0 h 2 m 53.21 s\n",
      "Time left: 7 h 33 m 54.4 s,\tparameter values: Amplitude:   0.95,\tHD DRAG coeff: -2e-09,\taverage cycle time: 2.3e+02s\tStarted at:  Jul 03 2017 06:03:27\n",
      "Time left: 0 h 0 m 0.0 s,\tparameter values: Interleaving sequence id:      5,\taverage cycle time:   29s\ts\t\n",
      "Elapsed time: 0 h 2 m 53.67 s\n",
      "Time left: 7 h 30 m 54.48 s,\tparameter values: Amplitude:   0.95,\tHD DRAG coeff: -1.6e-09,\taverage cycle time: 2.3e+02s\tStarted at:  Jul 03 2017 06:07:58\n",
      "Time left: 0 h 0 m 0.0 s,\tparameter values: Interleaving sequence id:      5,\taverage cycle time:   29s\ts\t\n",
      "Elapsed time: 0 h 2 m 53.69 s\n"
     ]
    },
    {
     "name": "stdout",
     "output_type": "stream",
     "text": [
      "Time left: 7 h 27 m 53.54 s,\tparameter values: Amplitude:   0.95,\tHD DRAG coeff: -1.2e-09,\taverage cycle time: 2.3e+02s\tStarted at:  Jul 03 2017 06:12:30\n",
      "Time left: 0 h 0 m 0.0 s,\tparameter values: Interleaving sequence id:      5,\taverage cycle time:   29s\ts\t\n",
      "Elapsed time: 0 h 2 m 54.21 s\n",
      "Time left: 7 h 24 m 51.4 s,\tparameter values: Amplitude:   0.95,\tHD DRAG coeff: -8e-10,\taverage cycle time: 2.3e+02s\tStarted at:  Jul 03 2017 06:17:02\n",
      "Time left: 0 h 0 m 0.0 s,\tparameter values: Interleaving sequence id:      5,\taverage cycle time:   29s\ts\t\n",
      "Elapsed time: 0 h 2 m 52.91 s\n",
      "Time left: 7 h 21 m 47.56 s,\tparameter values: Amplitude:   0.95,\tHD DRAG coeff: -4e-10,\taverage cycle time: 2.3e+02s\tStarted at:  Jul 03 2017 06:21:34\n",
      "Time left: 0 h 0 m 0.0 s,\tparameter values: Interleaving sequence id:      5,\taverage cycle time:   29s\ts\t\n",
      "Elapsed time: 0 h 2 m 53.5 s\n",
      "Time left: 7 h 18 m 43.52 s,\tparameter values: Amplitude:   0.95,\tHD DRAG coeff:      0,\taverage cycle time: 2.3e+02s\tStarted at:  Jul 03 2017 06:26:07\n",
      "Time left: 0 h 0 m 0.0 s,\tparameter values: Interleaving sequence id:      5,\taverage cycle time:   29s\ts\t\n",
      "Elapsed time: 0 h 2 m 53.58 s\n",
      "Time left: 7 h 15 m 38.54 s,\tparameter values: Amplitude:   0.95,\tHD DRAG coeff:  4e-10,\taverage cycle time: 2.3e+02s\tStarted at:  Jul 03 2017 06:30:41\n",
      "Time left: 0 h 0 m 0.0 s,\tparameter values: Interleaving sequence id:      5,\taverage cycle time:   29s\t\t\t\n",
      "Elapsed time: 0 h 2 m 53.93 s\n",
      "Time left: 7 h 12 m 42.18 s,\tparameter values: Amplitude:   0.95,\tHD DRAG coeff:  8e-10,\taverage cycle time: 2.3e+02s\tStarted at:  Jul 03 2017 06:35:26\n",
      "Time left: 0 h 0 m 0.0 s,\tparameter values: Interleaving sequence id:      5,\taverage cycle time:   29s\ts\t\n",
      "Elapsed time: 0 h 2 m 54.0 s\n",
      "Time left: 7 h 9 m 36.89 s,\tparameter values: Amplitude:   0.95,\tHD DRAG coeff: 1.2e-09,\taverage cycle time: 2.3e+02s\tStarted at:  Jul 03 2017 06:40:03\n",
      "Time left: 0 h 0 m 0.0 s,\tparameter values: Interleaving sequence id:      5,\taverage cycle time:   29s\ts\t\n",
      "Elapsed time: 0 h 2 m 54.99 s\n",
      "Time left: 7 h 6 m 30.92 s,\tparameter values: Amplitude:   0.95,\tHD DRAG coeff: 1.6e-09,\taverage cycle time: 2.3e+02s\tStarted at:  Jul 03 2017 06:44:41\n",
      "Time left: 0 h 0 m 0.0 s,\tparameter values: Interleaving sequence id:      5,\taverage cycle time:   29s\ts\t\n",
      "Elapsed time: 0 h 2 m 52.08 s\n",
      "Time left: 7 h 3 m 20.05 s,\tparameter values: Amplitude:   0.95,\tHD DRAG coeff:  2e-09,\taverage cycle time: 2.3e+02s\tStarted at:  Jul 03 2017 06:49:15\n",
      "Time left: 0 h 0 m 0.0 s,\tparameter values: Interleaving sequence id:      5,\taverage cycle time:   29s\ts\t\n",
      "Elapsed time: 0 h 2 m 51.64 s\n",
      "Time left: 7 h 0 m 8.22 s,\tparameter values: Amplitude: 0.9525,\tHD DRAG coeff: -2e-09,\taverage cycle time: 2.3e+02s\tStarted at:  Jul 03 2017 06:53:50\n",
      "Time left: 0 h 0 m 0.0 s,\tparameter values: Interleaving sequence id:      5,\taverage cycle time:   29s\ts\t\n",
      "Elapsed time: 0 h 2 m 51.93 s\n",
      "Time left: 6 h 56 m 55.91 s,\tparameter values: Amplitude: 0.9525,\tHD DRAG coeff: -1.6e-09,\taverage cycle time: 2.3e+02s\tStarted at:  Jul 03 2017 06:58:25\n",
      "Time left: 0 h 0 m 0.0 s,\tparameter values: Interleaving sequence id:      5,\taverage cycle time:   29s\ts\t\n",
      "Elapsed time: 0 h 2 m 51.1 s\n",
      "Time left: 6 h 53 m 43.23 s,\tparameter values: Amplitude: 0.9525,\tHD DRAG coeff: -1.2e-09,\taverage cycle time: 2.3e+02s\tStarted at:  Jul 03 2017 07:03:02\n",
      "Time left: 0 h 0 m 0.0 s,\tparameter values: Interleaving sequence id:      5,\taverage cycle time:   29s\ts\t\n",
      "Elapsed time: 0 h 2 m 51.7 s\n",
      "Time left: 6 h 50 m 29.22 s,\tparameter values: Amplitude: 0.9525,\tHD DRAG coeff: -8e-10,\taverage cycle time: 2.3e+02s\tStarted at:  Jul 03 2017 07:07:39\n",
      "Time left: 0 h 0 m 0.0 s,\tparameter values: Interleaving sequence id:      5,\taverage cycle time:   29s\ts\t\n",
      "Elapsed time: 0 h 2 m 52.02 s\n",
      "Time left: 6 h 47 m 14.9 s,\tparameter values: Amplitude: 0.9525,\tHD DRAG coeff: -4e-10,\taverage cycle time: 2.3e+02s\tStarted at:  Jul 03 2017 07:12:17\n",
      "Time left: 0 h 0 m 0.0 s,\tparameter values: Interleaving sequence id:      5,\taverage cycle time:   29s\ts\t\n",
      "Elapsed time: 0 h 2 m 51.92 s\n",
      "Time left: 6 h 43 m 59.75 s,\tparameter values: Amplitude: 0.9525,\tHD DRAG coeff:      0,\taverage cycle time: 2.3e+02s\tStarted at:  Jul 03 2017 07:16:55\n",
      "Time left: 0 h 0 m 0.0 s,\tparameter values: Interleaving sequence id:      5,\taverage cycle time:   29s\ts\t\n",
      "Elapsed time: 0 h 2 m 51.69 s\n",
      "Time left: 6 h 40 m 43.77 s,\tparameter values: Amplitude: 0.9525,\tHD DRAG coeff:  4e-10,\taverage cycle time: 2.3e+02s\tStarted at:  Jul 03 2017 07:21:35\n",
      "Time left: 0 h 0 m 0.0 s,\tparameter values: Interleaving sequence id:      5,\taverage cycle time:   29s\t\t\t\n",
      "Elapsed time: 0 h 2 m 52.3 s\n",
      "Time left: 6 h 37 m 27.82 s,\tparameter values: Amplitude: 0.9525,\tHD DRAG coeff:  8e-10,\taverage cycle time: 2.3e+02s\tStarted at:  Jul 03 2017 07:26:15\n",
      "Time left: 0 h 0 m 0.0 s,\tparameter values: Interleaving sequence id:      5,\taverage cycle time:   29s\ts\t\n",
      "Elapsed time: 0 h 2 m 51.92 s\n",
      "Time left: 6 h 34 m 11.12 s,\tparameter values: Amplitude: 0.9525,\tHD DRAG coeff: 1.2e-09,\taverage cycle time: 2.3e+02s\tStarted at:  Jul 03 2017 07:30:57\n",
      "Time left: 0 h 0 m 0.0 s,\tparameter values: Interleaving sequence id:      5,\taverage cycle time:   29s\ts\t\n",
      "Elapsed time: 0 h 2 m 51.69 s\n",
      "Time left: 6 h 30 m 52.9 s,\tparameter values: Amplitude: 0.9525,\tHD DRAG coeff: 1.6e-09,\taverage cycle time: 2.3e+02s\tStarted at:  Jul 03 2017 07:35:38\n",
      "Time left: 0 h 0 m 0.0 s,\tparameter values: Interleaving sequence id:      5,\taverage cycle time:   29s\ts\t\n",
      "Elapsed time: 0 h 2 m 51.15 s\n",
      "Time left: 6 h 27 m 33.52 s,\tparameter values: Amplitude: 0.9525,\tHD DRAG coeff:  2e-09,\taverage cycle time: 2.3e+02s\tStarted at:  Jul 03 2017 07:40:20\n",
      "Time left: 0 h 0 m 0.0 s,\tparameter values: Interleaving sequence id:      5,\taverage cycle time:   29s\ts\t\n",
      "Elapsed time: 0 h 2 m 51.1 s\n",
      "Time left: 6 h 24 m 13.31 s,\tparameter values: Amplitude:  0.955,\tHD DRAG coeff: -2e-09,\taverage cycle time: 2.4e+02s\tStarted at:  Jul 03 2017 07:45:02\n",
      "Time left: 0 h 0 m 0.0 s,\tparameter values: Interleaving sequence id:      5,\taverage cycle time:   31s\ts\t\n",
      "Elapsed time: 0 h 3 m 3.11 s\n",
      "Time left: 6 h 21 m 23.92 s,\tparameter values: Amplitude:  0.955,\tHD DRAG coeff: -1.6e-09,\taverage cycle time: 2.4e+02s\tStarted at:  Jul 03 2017 07:50:28\n",
      "Time left: 0 h 0 m 0.0 s,\tparameter values: Interleaving sequence id:      5,\taverage cycle time:   32s\ts\t\n",
      "Elapsed time: 0 h 3 m 13.74 s\n",
      "Time left: 6 h 18 m 41.41 s,\tparameter values: Amplitude:  0.955,\tHD DRAG coeff: -1.2e-09,\taverage cycle time: 2.4e+02s\tStarted at:  Jul 03 2017 07:56:07\n",
      "Time left: 0 h 0 m 0.0 s,\tparameter values: Interleaving sequence id:      5,\taverage cycle time:   32s\ts\t\n",
      "Elapsed time: 0 h 3 m 14.13 s\n",
      "Time left: 6 h 15 m 57.86 s,\tparameter values: Amplitude:  0.955,\tHD DRAG coeff: -8e-10,\taverage cycle time: 2.4e+02s\tStarted at:  Jul 03 2017 08:01:48\n",
      "Time left: 0 h 0 m 0.0 s,\tparameter values: Interleaving sequence id:      5,\taverage cycle time:   32s\ts\t\n",
      "Elapsed time: 0 h 3 m 13.52 s\n",
      "Time left: 6 h 13 m 10.4 s,\tparameter values: Amplitude:  0.955,\tHD DRAG coeff: -4e-10,\taverage cycle time: 2.4e+02s\tStarted at:  Jul 03 2017 08:07:28\n",
      "Time left: 0 h 0 m 0.0 s,\tparameter values: Interleaving sequence id:      5,\taverage cycle time:   32s\ts\t\n",
      "Elapsed time: 0 h 3 m 13.65 s\n",
      "Time left: 6 h 10 m 22.42 s,\tparameter values: Amplitude:  0.955,\tHD DRAG coeff:      0,\taverage cycle time: 2.4e+02s\tStarted at:  Jul 03 2017 08:13:10\n",
      "Time left: 0 h 0 m 0.0 s,\tparameter values: Interleaving sequence id:      5,\taverage cycle time:   32s\ts\t\n",
      "Elapsed time: 0 h 3 m 13.62 s\n",
      "Time left: 6 h 7 m 32.1 s,\tparameter values: Amplitude:  0.955,\tHD DRAG coeff:  4e-10,\taverage cycle time: 2.4e+02s\tStarted at:  Jul 03 2017 08:18:53\n",
      "Time left: 0 h 0 m 0.0 s,\tparameter values: Interleaving sequence id:      5,\taverage cycle time:   32s\ts\t\n",
      "Elapsed time: 0 h 3 m 14.02 s\n",
      "Time left: 6 h 4 m 39.59 s,\tparameter values: Amplitude:  0.955,\tHD DRAG coeff:  8e-10,\taverage cycle time: 2.4e+02s\tStarted at:  Jul 03 2017 08:24:36\n",
      "Time left: 0 h 0 m 0.0 s,\tparameter values: Interleaving sequence id:      5,\taverage cycle time:   32s\ts\t\n",
      "Elapsed time: 0 h 3 m 13.97 s\n",
      "Time left: 6 h 1 m 46.03 s,\tparameter values: Amplitude:  0.955,\tHD DRAG coeff: 1.2e-09,\taverage cycle time: 2.4e+02s\tStarted at:  Jul 03 2017 08:30:21\n",
      "Time left: 0 h 0 m 0.0 s,\tparameter values: Interleaving sequence id:      5,\taverage cycle time:   29s\ts\t\n",
      "Elapsed time: 0 h 2 m 53.42 s\n",
      "Time left: 5 h 58 m 17.54 s,\tparameter values: Amplitude:  0.955,\tHD DRAG coeff: 1.6e-09,\taverage cycle time: 2.4e+02s\tStarted at:  Jul 03 2017 08:35:14\n",
      "Time left: 0 h 0 m 0.0 s,\tparameter values: Interleaving sequence id:      5,\taverage cycle time:   29s\ts\t\n",
      "Elapsed time: 0 h 2 m 52.88 s\n",
      "Time left: 5 h 54 m 47.26 s,\tparameter values: Amplitude:  0.955,\tHD DRAG coeff:  2e-09,\taverage cycle time: 2.4e+02s\tStarted at:  Jul 03 2017 08:40:07\n",
      "Time left: 0 h 0 m 0.0 s,\tparameter values: Interleaving sequence id:      5,\taverage cycle time:   29s\ts\t\n",
      "Elapsed time: 0 h 2 m 53.5 s\n",
      "Time left: 5 h 51 m 16.5 s,\tparameter values: Amplitude: 0.9575,\tHD DRAG coeff: -2e-09,\taverage cycle time: 2.4e+02s\tStarted at:  Jul 03 2017 08:45:00\n",
      "Time left: 0 h 0 m 0.0 s,\tparameter values: Interleaving sequence id:      5,\taverage cycle time:   29s\ts\t\n",
      "Elapsed time: 0 h 2 m 51.25 s\n",
      "Time left: 5 h 47 m 43.08 s,\tparameter values: Amplitude: 0.9575,\tHD DRAG coeff: -1.6e-09,\taverage cycle time: 2.4e+02s\tStarted at:  Jul 03 2017 08:49:51\n",
      "Time left: 0 h 0 m 0.0 s,\tparameter values: Interleaving sequence id:      5,\taverage cycle time:   29s\ts\t\n",
      "Elapsed time: 0 h 2 m 51.72 s\n",
      "Time left: 5 h 44 m 9.22 s,\tparameter values: Amplitude: 0.9575,\tHD DRAG coeff: -1.2e-09,\taverage cycle time: 2.4e+02s\tStarted at:  Jul 03 2017 08:54:43\n",
      "Time left: 0 h 0 m 0.0 s,\tparameter values: Interleaving sequence id:      5,\taverage cycle time:   29s\ts\t\n",
      "Elapsed time: 0 h 2 m 52.14 s\n",
      "Time left: 5 h 40 m 34.95 s,\tparameter values: Amplitude: 0.9575,\tHD DRAG coeff: -8e-10,\taverage cycle time: 2.4e+02s\tStarted at:  Jul 03 2017 08:59:36\n",
      "Time left: 0 h 0 m 0.0 s,\tparameter values: Interleaving sequence id:      5,\taverage cycle time:   29s\ts\t\n",
      "Elapsed time: 0 h 2 m 51.93 s\n",
      "Time left: 5 h 37 m 0.25 s,\tparameter values: Amplitude: 0.9575,\tHD DRAG coeff: -4e-10,\taverage cycle time: 2.4e+02s\tStarted at:  Jul 03 2017 09:04:30\n",
      "Time left: 0 h 0 m 0.0 s,\tparameter values: Interleaving sequence id:      5,\taverage cycle time:   29s\ts\t\n",
      "Elapsed time: 0 h 2 m 51.89 s\n",
      "Time left: 5 h 33 m 24.55 s,\tparameter values: Amplitude: 0.9575,\tHD DRAG coeff:      0,\taverage cycle time: 2.4e+02s\tStarted at:  Jul 03 2017 09:09:25\n",
      "Time left: 0 h 0 m 0.0 s,\tparameter values: Interleaving sequence id:      5,\taverage cycle time:   29s\ts\t\n",
      "Elapsed time: 0 h 2 m 51.71 s\n",
      "Time left: 5 h 29 m 48.1 s,\tparameter values: Amplitude: 0.9575,\tHD DRAG coeff:  4e-10,\taverage cycle time: 2.4e+02s\tStarted at:  Jul 03 2017 09:14:20\n",
      "Time left: 0 h 0 m 0.0 s,\tparameter values: Interleaving sequence id:      5,\taverage cycle time:   29s\ts\t\n",
      "Elapsed time: 0 h 2 m 53.09 s\n",
      "Time left: 5 h 26 m 11.63 s,\tparameter values: Amplitude: 0.9575,\tHD DRAG coeff:  8e-10,\taverage cycle time: 2.4e+02s\tStarted at:  Jul 03 2017 09:19:16\n",
      "Time left: 0 h 0 m 0.0 s,\tparameter values: Interleaving sequence id:      5,\taverage cycle time:   29s\ts\t\n",
      "Elapsed time: 0 h 2 m 52.46 s\n",
      "Time left: 5 h 22 m 34.31 s,\tparameter values: Amplitude: 0.9575,\tHD DRAG coeff: 1.2e-09,\taverage cycle time: 2.4e+02s\tStarted at:  Jul 03 2017 09:24:14\n",
      "Time left: 0 h 0 m 0.0 s,\tparameter values: Interleaving sequence id:      5,\taverage cycle time:   29s\ts\t\n",
      "Elapsed time: 0 h 2 m 53.27 s\n",
      "Time left: 5 h 18 m 56.67 s,\tparameter values: Amplitude: 0.9575,\tHD DRAG coeff: 1.6e-09,\taverage cycle time: 2.5e+02s\tStarted at:  Jul 03 2017 09:29:12\n",
      "Time left: 0 h 0 m 0.0 s,\tparameter values: Interleaving sequence id:      5,\taverage cycle time:   29s\ts\t\n",
      "Elapsed time: 0 h 2 m 52.76 s\n",
      "Time left: 5 h 15 m 18.1 s,\tparameter values: Amplitude: 0.9575,\tHD DRAG coeff:  2e-09,\taverage cycle time: 2.5e+02s\tStarted at:  Jul 03 2017 09:34:11\n",
      "Time left: 0 h 0 m 0.0 s,\tparameter values: Interleaving sequence id:      5,\taverage cycle time:   29s\ts\t\n",
      "Elapsed time: 0 h 2 m 51.67 s\n",
      "Time left: 5 h 11 m 38.63 s,\tparameter values: Amplitude:   0.96,\tHD DRAG coeff: -2e-09,\taverage cycle time: 2.5e+02s\tStarted at:  Jul 03 2017 09:39:10\n",
      "Time left: 0 h 0 m 0.0 s,\tparameter values: Interleaving sequence id:      5,\taverage cycle time:   29s\ts\t\n",
      "Elapsed time: 0 h 2 m 52.02 s\n",
      "Time left: 5 h 7 m 58.18 s,\tparameter values: Amplitude:   0.96,\tHD DRAG coeff: -1.6e-09,\taverage cycle time: 2.5e+02s\tStarted at:  Jul 03 2017 09:44:10\n",
      "Time left: 0 h 0 m 0.0 s,\tparameter values: Interleaving sequence id:      5,\taverage cycle time:   29s\ts\t\n",
      "Elapsed time: 0 h 2 m 51.9 s\n",
      "Time left: 5 h 4 m 17.24 s,\tparameter values: Amplitude:   0.96,\tHD DRAG coeff: -1.2e-09,\taverage cycle time: 2.5e+02s\tStarted at:  Jul 03 2017 09:49:10\n",
      "Time left: 0 h 0 m 0.0 s,\tparameter values: Interleaving sequence id:      5,\taverage cycle time:   29s\ts\t\n",
      "Elapsed time: 0 h 2 m 51.45 s\n",
      "Time left: 5 h 0 m 35.3 s,\tparameter values: Amplitude:   0.96,\tHD DRAG coeff: -8e-10,\taverage cycle time: 2.5e+02s\tStarted at:  Jul 03 2017 09:54:10\n",
      "Time left: 0 h 0 m 0.0 s,\tparameter values: Interleaving sequence id:      5,\taverage cycle time:   29s\ts\t\n",
      "Elapsed time: 0 h 2 m 51.94 s\n",
      "Time left: 4 h 56 m 52.96 s,\tparameter values: Amplitude:   0.96,\tHD DRAG coeff: -4e-10,\taverage cycle time: 2.5e+02s\tStarted at:  Jul 03 2017 09:59:12\n",
      "Time left: 0 h 0 m 0.0 s,\tparameter values: Interleaving sequence id:      5,\taverage cycle time:   29s\ts\t\n",
      "Elapsed time: 0 h 2 m 51.86 s\n",
      "Time left: 4 h 53 m 10.08 s,\tparameter values: Amplitude:   0.96,\tHD DRAG coeff:      0,\taverage cycle time: 2.5e+02s\tStarted at:  Jul 03 2017 10:04:15\n",
      "Time left: 0 h 0 m 0.0 s,\tparameter values: Interleaving sequence id:      5,\taverage cycle time:   29s\ts\t\n",
      "Elapsed time: 0 h 2 m 52.02 s\n",
      "Time left: 4 h 49 m 26.97 s,\tparameter values: Amplitude:   0.96,\tHD DRAG coeff:  4e-10,\taverage cycle time: 2.5e+02s\tStarted at:  Jul 03 2017 10:09:19\n",
      "Time left: 0 h 0 m 0.0 s,\tparameter values: Interleaving sequence id:      5,\taverage cycle time:   29s\ts\t\n",
      "Elapsed time: 0 h 2 m 52.47 s\n",
      "Time left: 4 h 45 m 42.99 s,\tparameter values: Amplitude:   0.96,\tHD DRAG coeff:  8e-10,\taverage cycle time: 2.5e+02s\tStarted at:  Jul 03 2017 10:14:24\n",
      "Time left: 0 h 0 m 0.0 s,\tparameter values: Interleaving sequence id:      5,\taverage cycle time:   29s\ts\t\n",
      "Elapsed time: 0 h 2 m 51.95 s\n",
      "Time left: 4 h 41 m 57.96 s,\tparameter values: Amplitude:   0.96,\tHD DRAG coeff: 1.2e-09,\taverage cycle time: 2.5e+02s\tStarted at:  Jul 03 2017 10:19:28\n",
      "Time left: 0 h 0 m 0.0 s,\tparameter values: Interleaving sequence id:      5,\taverage cycle time:   29s\ts\t\n",
      "Elapsed time: 0 h 2 m 51.77 s\n",
      "Time left: 4 h 38 m 12.31 s,\tparameter values: Amplitude:   0.96,\tHD DRAG coeff: 1.6e-09,\taverage cycle time: 2.5e+02s\tStarted at:  Jul 03 2017 10:24:34\n",
      "Time left: 0 h 0 m 0.0 s,\tparameter values: Interleaving sequence id:      5,\taverage cycle time:   29s\ts\t\n",
      "Elapsed time: 0 h 2 m 51.91 s\n",
      "Time left: 4 h 34 m 26.0 s,\tparameter values: Amplitude:   0.96,\tHD DRAG coeff:  2e-09,\taverage cycle time: 2.5e+02s\tStarted at:  Jul 03 2017 10:29:40\n",
      "Time left: 0 h 0 m 0.0 s,\tparameter values: Interleaving sequence id:      5,\taverage cycle time:   29s\ts\t\n",
      "Elapsed time: 0 h 2 m 52.78 s\n",
      "Time left: 4 h 30 m 39.27 s,\tparameter values: Amplitude: 0.9625,\tHD DRAG coeff: -2e-09,\taverage cycle time: 2.5e+02s\tStarted at:  Jul 03 2017 10:34:48\n",
      "Time left: 0 h 0 m 0.0 s,\tparameter values: Interleaving sequence id:      5,\taverage cycle time:   29s\ts\t\n",
      "Elapsed time: 0 h 2 m 52.64 s\n",
      "Time left: 4 h 26 m 52.2 s,\tparameter values: Amplitude: 0.9625,\tHD DRAG coeff: -1.6e-09,\taverage cycle time: 2.5e+02s\tStarted at:  Jul 03 2017 10:39:57\n",
      "Time left: 0 h 0 m 0.0 s,\tparameter values: Interleaving sequence id:      5,\taverage cycle time:   29s\ts\t\n",
      "Elapsed time: 0 h 2 m 52.77 s\n",
      "Time left: 4 h 23 m 4.17 s,\tparameter values: Amplitude: 0.9625,\tHD DRAG coeff: -1.2e-09,\taverage cycle time: 2.5e+02s\tStarted at:  Jul 03 2017 10:45:06\n",
      "Time left: 0 h 0 m 0.0 s,\tparameter values: Interleaving sequence id:      5,\taverage cycle time:   29s\ts\t\n",
      "Elapsed time: 0 h 2 m 52.62 s\n"
     ]
    },
    {
     "name": "stdout",
     "output_type": "stream",
     "text": [
      "Time left: 4 h 19 m 15.38 s,\tparameter values: Amplitude: 0.9625,\tHD DRAG coeff: -8e-10,\taverage cycle time: 2.5e+02s\tStarted at:  Jul 03 2017 10:50:16\n",
      "Time left: 0 h 0 m 0.0 s,\tparameter values: Interleaving sequence id:      5,\taverage cycle time:   29s\ts\t\n",
      "Elapsed time: 0 h 2 m 51.98 s\n",
      "Time left: 4 h 15 m 25.7 s,\tparameter values: Amplitude: 0.9625,\tHD DRAG coeff: -4e-10,\taverage cycle time: 2.5e+02s\tStarted at:  Jul 03 2017 10:55:26\n",
      "Time left: 0 h 0 m 0.0 s,\tparameter values: Interleaving sequence id:      5,\taverage cycle time:   29s\ts\t\n",
      "Elapsed time: 0 h 2 m 52.46 s\n",
      "Time left: 4 h 11 m 35.46 s,\tparameter values: Amplitude: 0.9625,\tHD DRAG coeff:      0,\taverage cycle time: 2.5e+02s\tStarted at:  Jul 03 2017 11:00:37\n",
      "Time left: 0 h 0 m 0.0 s,\tparameter values: Interleaving sequence id:      5,\taverage cycle time:   29s\ts\t\n",
      "Elapsed time: 0 h 2 m 52.91 s\n",
      "Time left: 4 h 7 m 44.75 s,\tparameter values: Amplitude: 0.9625,\tHD DRAG coeff:  4e-10,\taverage cycle time: 2.5e+02s\tStarted at:  Jul 03 2017 11:05:50\n",
      "Time left: 0 h 0 m 0.0 s,\tparameter values: Interleaving sequence id:      5,\taverage cycle time:   29s\ts\t\n",
      "Elapsed time: 0 h 2 m 54.13 s\n",
      "Time left: 4 h 3 m 53.85 s,\tparameter values: Amplitude: 0.9625,\tHD DRAG coeff:  8e-10,\taverage cycle time: 2.5e+02s\tStarted at:  Jul 03 2017 11:11:04\n",
      "Time left: 0 h 0 m 0.0 s,\tparameter values: Interleaving sequence id:      5,\taverage cycle time:   29s\ts\t\n",
      "Elapsed time: 0 h 2 m 54.34 s\n",
      "Time left: 4 h 0 m 2.46 s,\tparameter values: Amplitude: 0.9625,\tHD DRAG coeff: 1.2e-09,\taverage cycle time: 2.5e+02s\tStarted at:  Jul 03 2017 11:16:20\n",
      "Time left: 0 h 0 m 0.0 s,\tparameter values: Interleaving sequence id:      5,\taverage cycle time:   29s\ts\t\n",
      "Elapsed time: 0 h 2 m 53.35 s\n",
      "Time left: 3 h 56 m 9.68 s,\tparameter values: Amplitude: 0.9625,\tHD DRAG coeff: 1.6e-09,\taverage cycle time: 2.5e+02s\tStarted at:  Jul 03 2017 11:21:35\n",
      "Time left: 0 h 0 m 0.0 s,\tparameter values: Interleaving sequence id:      5,\taverage cycle time:   29s\ts\t\n",
      "Elapsed time: 0 h 2 m 53.28 s\n",
      "Time left: 3 h 52 m 16.17 s,\tparameter values: Amplitude: 0.9625,\tHD DRAG coeff:  2e-09,\taverage cycle time: 2.5e+02s\tStarted at:  Jul 03 2017 11:26:51\n",
      "Time left: 0 h 0 m 0.0 s,\tparameter values: Interleaving sequence id:      5,\taverage cycle time:   29s\ts\t\n",
      "Elapsed time: 0 h 2 m 53.04 s\n",
      "Time left: 3 h 48 m 21.97 s,\tparameter values: Amplitude:  0.965,\tHD DRAG coeff: -2e-09,\taverage cycle time: 2.5e+02s\tStarted at:  Jul 03 2017 11:32:07\n",
      "Time left: 0 h 0 m 0.0 s,\tparameter values: Interleaving sequence id:      5,\taverage cycle time:   29s\ts\t\n",
      "Elapsed time: 0 h 2 m 52.39 s\n",
      "Time left: 3 h 44 m 26.87 s,\tparameter values: Amplitude:  0.965,\tHD DRAG coeff: -1.6e-09,\taverage cycle time: 2.5e+02s\tStarted at:  Jul 03 2017 11:37:23\n",
      "Time left: 0 h 0 m 0.0 s,\tparameter values: Interleaving sequence id:      5,\taverage cycle time:   29s\t\t\t\n",
      "Elapsed time: 0 h 2 m 53.56 s\n",
      "Time left: 3 h 40 m 31.35 s,\tparameter values: Amplitude:  0.965,\tHD DRAG coeff: -1.2e-09,\taverage cycle time: 2.5e+02s\tStarted at:  Jul 03 2017 11:42:41\n",
      "Time left: 0 h 0 m 0.0 s,\tparameter values: Interleaving sequence id:      5,\taverage cycle time:   29s\ts\t\n",
      "Elapsed time: 0 h 2 m 53.7 s\n",
      "Time left: 3 h 36 m 35.7 s,\tparameter values: Amplitude:  0.965,\tHD DRAG coeff: -8e-10,\taverage cycle time: 2.5e+02s\tStarted at:  Jul 03 2017 11:48:02\n",
      "Time left: 0 h 0 m 0.0 s,\tparameter values: Interleaving sequence id:      5,\taverage cycle time:   29s\ts\t\n",
      "Elapsed time: 0 h 2 m 53.0 s\n",
      "Time left: 3 h 32 m 38.64 s,\tparameter values: Amplitude:  0.965,\tHD DRAG coeff: -4e-10,\taverage cycle time: 2.6e+02s\tStarted at:  Jul 03 2017 11:53:21\n",
      "Time left: 0 h 0 m 0.0 s,\tparameter values: Interleaving sequence id:      5,\taverage cycle time:   29s\ts\t\n",
      "Elapsed time: 0 h 2 m 51.89 s\n",
      "Time left: 3 h 28 m 40.58 s,\tparameter values: Amplitude:  0.965,\tHD DRAG coeff:      0,\taverage cycle time: 2.6e+02s\tStarted at:  Jul 03 2017 11:58:40\n",
      "Time left: 0 h 0 m 0.0 s,\tparameter values: Interleaving sequence id:      5,\taverage cycle time:   29s\ts\t\n",
      "Elapsed time: 0 h 2 m 52.64 s\n",
      "Time left: 3 h 24 m 41.98 s,\tparameter values: Amplitude:  0.965,\tHD DRAG coeff:  4e-10,\taverage cycle time: 2.6e+02s\tStarted at:  Jul 03 2017 12:04:00\n",
      "Time left: 0 h 0 m 0.0 s,\tparameter values: Interleaving sequence id:      5,\taverage cycle time:   29s\ts\t\n",
      "Elapsed time: 0 h 2 m 51.98 s\n",
      "Time left: 3 h 20 m 42.69 s,\tparameter values: Amplitude:  0.965,\tHD DRAG coeff:  8e-10,\taverage cycle time: 2.6e+02s\tStarted at:  Jul 03 2017 12:09:21\n",
      "Time left: 0 h 0 m 0.0 s,\tparameter values: Interleaving sequence id:      5,\taverage cycle time:   29s\t\t\t\n",
      "Elapsed time: 0 h 2 m 52.7 s\n",
      "Time left: 3 h 16 m 42.79 s,\tparameter values: Amplitude:  0.965,\tHD DRAG coeff: 1.2e-09,\taverage cycle time: 2.6e+02s\tStarted at:  Jul 03 2017 12:14:43\n",
      "Time left: 0 h 0 m 0.0 s,\tparameter values: Interleaving sequence id:      5,\taverage cycle time:   29s\ts\t\n",
      "Elapsed time: 0 h 2 m 53.05 s\n",
      "Time left: 3 h 12 m 42.34 s,\tparameter values: Amplitude:  0.965,\tHD DRAG coeff: 1.6e-09,\taverage cycle time: 2.6e+02s\tStarted at:  Jul 03 2017 12:20:06\n",
      "Time left: 0 h 0 m 0.0 s,\tparameter values: Interleaving sequence id:      5,\taverage cycle time:   29s\ts\t\n",
      "Elapsed time: 0 h 2 m 56.2 s\n",
      "Time left: 3 h 8 m 42.68 s,\tparameter values: Amplitude:  0.965,\tHD DRAG coeff:  2e-09,\taverage cycle time: 2.6e+02s\tStarted at:  Jul 03 2017 12:25:36\n",
      "Time left: 0 h 0 m 0.0 s,\tparameter values: Interleaving sequence id:      5,\taverage cycle time:   29s\ts\t\n",
      "Elapsed time: 0 h 2 m 55.42 s\n",
      "Time left: 3 h 4 m 41.36 s,\tparameter values: Amplitude: 0.9675,\tHD DRAG coeff: -2e-09,\taverage cycle time: 2.6e+02s\tStarted at:  Jul 03 2017 12:31:04\n",
      "Time left: 0 h 0 m 0.0 s,\tparameter values: Interleaving sequence id:      5,\taverage cycle time:   29s\ts\t\n",
      "Elapsed time: 0 h 2 m 53.42 s\n",
      "Time left: 3 h 0 m 39.04 s,\tparameter values: Amplitude: 0.9675,\tHD DRAG coeff: -1.6e-09,\taverage cycle time: 2.6e+02s\tStarted at:  Jul 03 2017 12:36:31\n",
      "Time left: 0 h 0 m 0.0 s,\tparameter values: Interleaving sequence id:      5,\taverage cycle time:   29s\ts\t\n",
      "Elapsed time: 0 h 2 m 56.54 s\n",
      "Time left: 2 h 56 m 36.78 s,\tparameter values: Amplitude: 0.9675,\tHD DRAG coeff: -1.2e-09,\taverage cycle time: 2.6e+02s\tStarted at:  Jul 03 2017 12:42:02\n",
      "Time left: 0 h 0 m 0.0 s,\tparameter values: Interleaving sequence id:      5,\taverage cycle time:   29s\ts\t\n",
      "Elapsed time: 0 h 2 m 55.24 s\n",
      "Time left: 2 h 52 m 33.15 s,\tparameter values: Amplitude: 0.9675,\tHD DRAG coeff: -8e-10,\taverage cycle time: 2.6e+02s\tStarted at:  Jul 03 2017 12:47:31\n",
      "Time left: 0 h 0 m 0.0 s,\tparameter values: Interleaving sequence id:      5,\taverage cycle time:   29s\ts\t\n",
      "Elapsed time: 0 h 2 m 56.46 s\n",
      "Time left: 2 h 48 m 29.27 s,\tparameter values: Amplitude: 0.9675,\tHD DRAG coeff: -4e-10,\taverage cycle time: 2.6e+02s\tStarted at:  Jul 03 2017 12:53:04\n",
      "Time left: 0 h 0 m 0.0 s,\tparameter values: Interleaving sequence id:      5,\taverage cycle time:   29s\ts\t\n",
      "Elapsed time: 0 h 2 m 54.9 s\n",
      "Time left: 2 h 44 m 24.11 s,\tparameter values: Amplitude: 0.9675,\tHD DRAG coeff:      0,\taverage cycle time: 2.6e+02s\tStarted at:  Jul 03 2017 12:58:34\n",
      "Time left: 0 h 0 m 0.0 s,\tparameter values: Interleaving sequence id:      5,\taverage cycle time:   29s\ts\t\n",
      "Elapsed time: 0 h 2 m 52.72 s\n",
      "Time left: 2 h 40 m 17.85 s,\tparameter values: Amplitude: 0.9675,\tHD DRAG coeff:  4e-10,\taverage cycle time: 2.6e+02s\tStarted at:  Jul 03 2017 13:04:04\n",
      "Time left: 0 h 0 m 0.0 s,\tparameter values: Interleaving sequence id:      5,\taverage cycle time:   29s\ts\t\n",
      "Elapsed time: 0 h 2 m 53.59 s\n",
      "Time left: 2 h 36 m 10.8 s,\tparameter values: Amplitude: 0.9675,\tHD DRAG coeff:  8e-10,\taverage cycle time: 2.6e+02s\tStarted at:  Jul 03 2017 13:09:33\n",
      "Time left: 0 h 0 m 0.0 s,\tparameter values: Interleaving sequence id:      5,\taverage cycle time:   29s\ts\t\n",
      "Elapsed time: 0 h 2 m 52.71 s\n",
      "Time left: 2 h 32 m 2.83 s,\tparameter values: Amplitude: 0.9675,\tHD DRAG coeff: 1.2e-09,\taverage cycle time: 2.6e+02s\tStarted at:  Jul 03 2017 13:15:03\n",
      "Time left: 0 h 0 m 0.0 s,\tparameter values: Interleaving sequence id:      5,\taverage cycle time:   29s\ts\t\n",
      "Elapsed time: 0 h 2 m 53.67 s\n",
      "Time left: 2 h 27 m 54.34 s,\tparameter values: Amplitude: 0.9675,\tHD DRAG coeff: 1.6e-09,\taverage cycle time: 2.6e+02s\tStarted at:  Jul 03 2017 13:20:34\n",
      "Time left: 0 h 0 m 0.0 s,\tparameter values: Interleaving sequence id:      5,\taverage cycle time:   29s\ts\t\n",
      "Elapsed time: 0 h 2 m 53.77 s\n",
      "Time left: 2 h 23 m 45.18 s,\tparameter values: Amplitude: 0.9675,\tHD DRAG coeff:  2e-09,\taverage cycle time: 2.6e+02s\tStarted at:  Jul 03 2017 13:26:06\n",
      "Time left: 0 h 0 m 0.0 s,\tparameter values: Interleaving sequence id:      5,\taverage cycle time:   29s\ts\t\n",
      "Elapsed time: 0 h 2 m 53.47 s\n",
      "Time left: 2 h 19 m 35.24 s,\tparameter values: Amplitude:   0.97,\tHD DRAG coeff: -2e-09,\taverage cycle time: 2.6e+02s\tStarted at:  Jul 03 2017 13:31:39\n",
      "Time left: 0 h 0 m 0.0 s,\tparameter values: Interleaving sequence id:      5,\taverage cycle time:   29s\ts\t\n",
      "Elapsed time: 0 h 2 m 53.5 s\n",
      "Time left: 2 h 15 m 24.99 s,\tparameter values: Amplitude:   0.97,\tHD DRAG coeff: -1.6e-09,\taverage cycle time: 2.6e+02s\tStarted at:  Jul 03 2017 13:37:14\n",
      "Time left: 0 h 0 m 0.0 s,\tparameter values: Interleaving sequence id:      5,\taverage cycle time:   30s\ts\t\n",
      "Elapsed time: 0 h 2 m 57.29 s\n",
      "Time left: 2 h 11 m 15.87 s,\tparameter values: Amplitude:   0.97,\tHD DRAG coeff: -1.2e-09,\taverage cycle time: 2.6e+02s\tStarted at:  Jul 03 2017 13:43:03\n",
      "Time left: 0 h 0 m 0.0 s,\tparameter values: Interleaving sequence id:      5,\taverage cycle time:   29s\ts\t\n",
      "Elapsed time: 0 h 2 m 56.2 s\n",
      "Time left: 2 h 7 m 4.71 s,\tparameter values: Amplitude:   0.97,\tHD DRAG coeff: -8e-10,\taverage cycle time: 2.6e+02s\tStarted at:  Jul 03 2017 13:48:45\n",
      "Time left: 0 h 0 m 0.0 s,\tparameter values: Interleaving sequence id:      5,\taverage cycle time:   29s\ts\t\n",
      "Elapsed time: 0 h 2 m 56.15 s\n",
      "Time left: 2 h 2 m 52.41 s,\tparameter values: Amplitude:   0.97,\tHD DRAG coeff: -4e-10,\taverage cycle time: 2.6e+02s\tStarted at:  Jul 03 2017 13:54:25\n",
      "Time left: 0 h 0 m 0.0 s,\tparameter values: Interleaving sequence id:      5,\taverage cycle time:   29s\ts\t\n",
      "Elapsed time: 0 h 2 m 55.64 s\n",
      "Time left: 1 h 58 m 39.31 s,\tparameter values: Amplitude:   0.97,\tHD DRAG coeff:      0,\taverage cycle time: 2.6e+02s\tStarted at:  Jul 03 2017 14:00:05\n",
      "Time left: 0 h 0 m 0.0 s,\tparameter values: Interleaving sequence id:      5,\taverage cycle time:   29s\ts\t\n",
      "Elapsed time: 0 h 2 m 56.41 s\n",
      "Time left: 1 h 54 m 26.81 s,\tparameter values: Amplitude:   0.97,\tHD DRAG coeff:  4e-10,\taverage cycle time: 2.6e+02s\tStarted at:  Jul 03 2017 14:05:57\n",
      "Time left: 0 h 0 m 0.0 s,\tparameter values: Interleaving sequence id:      5,\taverage cycle time:   29s\ts\t\n",
      "Elapsed time: 0 h 2 m 55.8 s\n",
      "Time left: 1 h 50 m 12.87 s,\tparameter values: Amplitude:   0.97,\tHD DRAG coeff:  8e-10,\taverage cycle time: 2.6e+02s\tStarted at:  Jul 03 2017 14:11:45\n",
      "Time left: 0 h 0 m 0.0 s,\tparameter values: Interleaving sequence id:      5,\taverage cycle time:   30s\ts\t\n",
      "Elapsed time: 0 h 2 m 57.24 s\n",
      "Time left: 1 h 45 m 57.77 s,\tparameter values: Amplitude:   0.97,\tHD DRAG coeff: 1.2e-09,\taverage cycle time: 2.6e+02s\tStarted at:  Jul 03 2017 14:17:31\n",
      "Time left: 0 h 0 m 0.0 s,\tparameter values: Interleaving sequence id:      5,\taverage cycle time:   29s\ts\t\n",
      "Elapsed time: 0 h 2 m 55.45 s\n",
      "Time left: 1 h 41 m 41.53 s,\tparameter values: Amplitude:   0.97,\tHD DRAG coeff: 1.6e-09,\taverage cycle time: 2.7e+02s\tStarted at:  Jul 03 2017 14:23:14\n",
      "Time left: 0 h 0 m 0.0 s,\tparameter values: Interleaving sequence id:      5,\taverage cycle time:   29s\ts\t\n",
      "Elapsed time: 0 h 2 m 55.48 s\n",
      "Time left: 1 h 37 m 24.55 s,\tparameter values: Amplitude:   0.97,\tHD DRAG coeff:  2e-09,\taverage cycle time: 2.7e+02s\tStarted at:  Jul 03 2017 14:28:58\n",
      "Time left: 0 h 0 m 0.0 s,\tparameter values: Interleaving sequence id:      5,\taverage cycle time:   29s\ts\t\n",
      "Elapsed time: 0 h 2 m 56.05 s\n",
      "Time left: 1 h 33 m 6.85 s,\tparameter values: Amplitude: 0.9725,\tHD DRAG coeff: -2e-09,\taverage cycle time: 2.7e+02s\tStarted at:  Jul 03 2017 14:34:44\n",
      "Time left: 0 h 0 m 0.0 s,\tparameter values: Interleaving sequence id:      5,\taverage cycle time:   29s\t\t\t\n",
      "Elapsed time: 0 h 2 m 55.79 s\n",
      "Time left: 1 h 28 m 48.41 s,\tparameter values: Amplitude: 0.9725,\tHD DRAG coeff: -1.6e-09,\taverage cycle time: 2.7e+02s\tStarted at:  Jul 03 2017 14:40:30\n",
      "Time left: 0 h 0 m 0.0 s,\tparameter values: Interleaving sequence id:      5,\taverage cycle time:   29s\ts\t\n",
      "Elapsed time: 0 h 2 m 56.35 s\n",
      "Time left: 1 h 24 m 29.25 s,\tparameter values: Amplitude: 0.9725,\tHD DRAG coeff: -1.2e-09,\taverage cycle time: 2.7e+02s\tStarted at:  Jul 03 2017 14:46:17\n",
      "Time left: 0 h 0 m 0.0 s,\tparameter values: Interleaving sequence id:      5,\taverage cycle time:   29s\ts\t\n",
      "Elapsed time: 0 h 2 m 55.44 s\n",
      "Time left: 1 h 20 m 9.23 s,\tparameter values: Amplitude: 0.9725,\tHD DRAG coeff: -8e-10,\taverage cycle time: 2.7e+02s\tStarted at:  Jul 03 2017 14:52:04\n",
      "Time left: 0 h 0 m 0.0 s,\tparameter values: Interleaving sequence id:      5,\taverage cycle time:   29s\ts\t\n",
      "Elapsed time: 0 h 2 m 56.21 s\n",
      "Time left: 1 h 15 m 48.65 s,\tparameter values: Amplitude: 0.9725,\tHD DRAG coeff: -4e-10,\taverage cycle time: 2.7e+02s\tStarted at:  Jul 03 2017 14:57:55\n",
      "Time left: 0 h 0 m 0.0 s,\tparameter values: Interleaving sequence id:      5,\taverage cycle time:   29s\ts\t\n",
      "Elapsed time: 0 h 2 m 55.93 s\n",
      "Time left: 1 h 11 m 27.15 s,\tparameter values: Amplitude: 0.9725,\tHD DRAG coeff:      0,\taverage cycle time: 2.7e+02s\tStarted at:  Jul 03 2017 15:03:44\n",
      "Time left: 0 h 0 m 0.0 s,\tparameter values: Interleaving sequence id:      5,\taverage cycle time:   29s\ts\t\n",
      "Elapsed time: 0 h 2 m 56.27 s\n",
      "Time left: 1 h 7 m 4.91 s,\tparameter values: Amplitude: 0.9725,\tHD DRAG coeff:  4e-10,\taverage cycle time: 2.7e+02s\tStarted at:  Jul 03 2017 15:09:34\n",
      "Time left: 0 h 0 m 0.0 s,\tparameter values: Interleaving sequence id:      5,\taverage cycle time:   29s\ts\t\n",
      "Elapsed time: 0 h 2 m 56.37 s\n",
      "Time left: 1 h 2 m 41.93 s,\tparameter values: Amplitude: 0.9725,\tHD DRAG coeff:  8e-10,\taverage cycle time: 2.7e+02s\tStarted at:  Jul 03 2017 15:15:25\n",
      "Time left: 0 h 0 m 0.0 s,\tparameter values: Interleaving sequence id:      5,\taverage cycle time:   29s\ts\t\n",
      "Elapsed time: 0 h 2 m 55.7 s\n",
      "Time left: 0 h 58 m 18.16 s,\tparameter values: Amplitude: 0.9725,\tHD DRAG coeff: 1.2e-09,\taverage cycle time: 2.7e+02s\tStarted at:  Jul 03 2017 15:21:16\n",
      "Time left: 0 h 0 m 0.0 s,\tparameter values: Interleaving sequence id:      5,\taverage cycle time:   29s\ts\t\n",
      "Elapsed time: 0 h 2 m 56.53 s\n",
      "Time left: 0 h 53 m 53.68 s,\tparameter values: Amplitude: 0.9725,\tHD DRAG coeff: 1.6e-09,\taverage cycle time: 2.7e+02s\tStarted at:  Jul 03 2017 15:27:10\n",
      "Time left: 0 h 0 m 0.0 s,\tparameter values: Interleaving sequence id:      5,\taverage cycle time:   29s\ts\t\n",
      "Elapsed time: 0 h 2 m 55.45 s\n",
      "Time left: 0 h 49 m 28.35 s,\tparameter values: Amplitude: 0.9725,\tHD DRAG coeff:  2e-09,\taverage cycle time: 2.7e+02s\tStarted at:  Jul 03 2017 15:33:02\n",
      "Time left: 0 h 0 m 0.0 s,\tparameter values: Interleaving sequence id:      5,\taverage cycle time:   29s\ts\t\n",
      "Elapsed time: 0 h 2 m 56.45 s\n",
      "Time left: 0 h 45 m 2.39 s,\tparameter values: Amplitude:  0.975,\tHD DRAG coeff: -2e-09,\taverage cycle time: 2.7e+02s\tStarted at:  Jul 03 2017 15:38:58\n",
      "Time left: 0 h 0 m 0.0 s,\tparameter values: Interleaving sequence id:      5,\taverage cycle time:   29s\ts\t\n",
      "Elapsed time: 0 h 2 m 56.15 s\n",
      "Time left: 0 h 40 m 35.57 s,\tparameter values: Amplitude:  0.975,\tHD DRAG coeff: -1.6e-09,\taverage cycle time: 2.7e+02s\tStarted at:  Jul 03 2017 15:44:52\n",
      "Time left: 0 h 0 m 0.0 s,\tparameter values: Interleaving sequence id:      5,\taverage cycle time:   30s\ts\t\n",
      "Elapsed time: 0 h 2 m 57.19 s\n",
      "Time left: 0 h 36 m 8.02 s,\tparameter values: Amplitude:  0.975,\tHD DRAG coeff: -1.2e-09,\taverage cycle time: 2.7e+02s\tStarted at:  Jul 03 2017 15:50:49\n",
      "Time left: 0 h 0 m 0.0 s,\tparameter values: Interleaving sequence id:      5,\taverage cycle time:   29s\t\t\t\n",
      "Elapsed time: 0 h 2 m 56.4 s\n",
      "Time left: 0 h 31 m 39.69 s,\tparameter values: Amplitude:  0.975,\tHD DRAG coeff: -8e-10,\taverage cycle time: 2.7e+02s\tStarted at:  Jul 03 2017 15:56:45\n",
      "Time left: 0 h 0 m 0.0 s,\tparameter values: Interleaving sequence id:      5,\taverage cycle time:   29s\ts\t\n",
      "Elapsed time: 0 h 2 m 56.67 s\n"
     ]
    },
    {
     "name": "stdout",
     "output_type": "stream",
     "text": [
      "Time left: 0 h 27 m 10.61 s,\tparameter values: Amplitude:  0.975,\tHD DRAG coeff: -4e-10,\taverage cycle time: 2.7e+02s\tStarted at:  Jul 03 2017 16:02:43\n",
      "Time left: 0 h 0 m 0.0 s,\tparameter values: Interleaving sequence id:      5,\taverage cycle time:   29s\ts\t\n",
      "Elapsed time: 0 h 2 m 56.16 s\n",
      "Time left: 0 h 22 m 40.75 s,\tparameter values: Amplitude:  0.975,\tHD DRAG coeff:      0,\taverage cycle time: 2.7e+02s\tStarted at:  Jul 03 2017 16:08:41\n",
      "Time left: 0 h 0 m 0.0 s,\tparameter values: Interleaving sequence id:      5,\taverage cycle time:   29s\ts\t\n",
      "Elapsed time: 0 h 2 m 56.53 s\n",
      "Time left: 0 h 18 m 10.13 s,\tparameter values: Amplitude:  0.975,\tHD DRAG coeff:  4e-10,\taverage cycle time: 2.7e+02s\tStarted at:  Jul 03 2017 16:14:40\n",
      "Time left: 0 h 0 m 0.0 s,\tparameter values: Interleaving sequence id:      5,\taverage cycle time:   29s\ts\t\n",
      "Elapsed time: 0 h 2 m 56.2 s\n",
      "Time left: 0 h 13 m 38.76 s,\tparameter values: Amplitude:  0.975,\tHD DRAG coeff:  8e-10,\taverage cycle time: 2.7e+02s\tStarted at:  Jul 03 2017 16:20:41\n",
      "Time left: 0 h 0 m 0.0 s,\tparameter values: Interleaving sequence id:      5,\taverage cycle time:   29s\ts\t\n",
      "Elapsed time: 0 h 2 m 55.45 s\n",
      "Time left: 0 h 9 m 6.6 s,\tparameter values: Amplitude:  0.975,\tHD DRAG coeff: 1.2e-09,\taverage cycle time: 2.7e+02s\tStarted at:  Jul 03 2017 16:26:40\n",
      "Time left: 0 h 0 m 0.0 s,\tparameter values: Interleaving sequence id:      5,\taverage cycle time:   29s\ts\t\n",
      "Elapsed time: 0 h 2 m 54.57 s\n",
      "Time left: 0 h 4 m 33.67 s,\tparameter values: Amplitude:  0.975,\tHD DRAG coeff: 1.6e-09,\taverage cycle time: 2.7e+02s\tStarted at:  Jul 03 2017 16:32:40\n",
      "Time left: 0 h 0 m 0.0 s,\tparameter values: Interleaving sequence id:      5,\taverage cycle time:   29s\ts\t\n",
      "Elapsed time: 0 h 2 m 54.86 s\n",
      "Time left: 0 h 0 m 0.0 s,\tparameter values: Amplitude:  0.975,\tHD DRAG coeff:  2e-09,\taverage cycle time: 2.7e+02s\t\n",
      "Elapsed time: 17 h 35 m 4.83 s\n"
     ]
    },
    {
     "data": {
      "text/plain": [
       "{'-Xo': (('Amplitude', 'HD DRAG coeff', 'Interleaving sequence id'),\n",
       "  (array([ 0.925 ,  0.9275,  0.93  ,  0.9325,  0.935 ,  0.9375,  0.94  ,\n",
       "           0.9425,  0.945 ,  0.9475,  0.95  ,  0.9525,  0.955 ,  0.9575,\n",
       "           0.96  ,  0.9625,  0.965 ,  0.9675,  0.97  ,  0.9725,  0.975 ]),\n",
       "   array([ -2.00000000e-09,  -1.60000000e-09,  -1.20000000e-09,\n",
       "           -8.00000000e-10,  -4.00000000e-10,   0.00000000e+00,\n",
       "            4.00000000e-10,   8.00000000e-10,   1.20000000e-09,\n",
       "            1.60000000e-09,   2.00000000e-09]),\n",
       "   array([0, 1, 2, 3, 4, 5])),\n",
       "  array([[[-0.17195,  0.13085,  0.06385,  0.06715, -0.1106 ,  0.1475 ],\n",
       "          [-0.1839 ,  0.14225,  0.09035,  0.0517 , -0.11155,  0.13905],\n",
       "          [-0.204  ,  0.1579 ,  0.1222 ,  0.03645, -0.1186 ,  0.1256 ],\n",
       "          ..., \n",
       "          [-0.21325,  0.22255,  0.22795, -0.0618 , -0.1397 ,  0.101  ],\n",
       "          [-0.20535,  0.2328 ,  0.23615, -0.08635, -0.1438 ,  0.11495],\n",
       "          [-0.1952 ,  0.22595,  0.23275, -0.1063 , -0.1555 ,  0.1249 ]],\n",
       "  \n",
       "         [[-0.16675,  0.12275,  0.06905,  0.06105, -0.1068 ,  0.14165],\n",
       "          [-0.1864 ,  0.1448 ,  0.09435,  0.05145, -0.1138 ,  0.1337 ],\n",
       "          [-0.2009 ,  0.1511 ,  0.1283 ,  0.0378 , -0.12135,  0.12245],\n",
       "          ..., \n",
       "          [-0.21185,  0.23135,  0.2253 , -0.0656 , -0.1345 ,  0.1049 ],\n",
       "          [-0.19495,  0.227  ,  0.2293 , -0.0937 , -0.15105,  0.1081 ],\n",
       "          [-0.1909 ,  0.22185,  0.2435 , -0.12125, -0.15365,  0.1274 ]],\n",
       "  \n",
       "         [[-0.17025,  0.1282 ,  0.06315,  0.0636 , -0.10675,  0.1493 ],\n",
       "          [-0.19525,  0.1363 ,  0.0915 ,  0.05125, -0.1145 ,  0.13645],\n",
       "          [-0.2046 ,  0.153  ,  0.1291 ,  0.03905, -0.11695,  0.13005],\n",
       "          ..., \n",
       "          [-0.2074 ,  0.22785,  0.224  , -0.0736 , -0.14455,  0.10245],\n",
       "          [-0.19925,  0.2318 ,  0.2335 , -0.09635, -0.14485,  0.11315],\n",
       "          [-0.1931 ,  0.2281 ,  0.24215, -0.11415, -0.156  ,  0.12835]],\n",
       "  \n",
       "         ..., \n",
       "         [[-0.17645,  0.09035,  0.0993 ,  0.0437 , -0.10845,  0.1595 ],\n",
       "          [-0.198  ,  0.11025,  0.11135,  0.0295 , -0.1214 ,  0.14435],\n",
       "          [-0.20685,  0.13155,  0.1435 ,  0.00605, -0.12805,  0.13665],\n",
       "          ..., \n",
       "          [-0.1888 ,  0.2264 ,  0.2374 , -0.1241 , -0.14925,  0.10025],\n",
       "          [-0.1828 ,  0.22775,  0.24215, -0.1356 , -0.1483 ,  0.1073 ],\n",
       "          [-0.159  ,  0.22625,  0.2346 , -0.1644 , -0.14785,  0.12345]],\n",
       "  \n",
       "         [[-0.172  ,  0.08975,  0.0936 ,  0.04015, -0.1021 ,  0.15215],\n",
       "          [-0.19475,  0.10785,  0.11725,  0.01215, -0.1106 ,  0.1359 ],\n",
       "          [-0.2033 ,  0.11945,  0.13965,  0.0067 , -0.12045,  0.13885],\n",
       "          ..., \n",
       "          [-0.1858 ,  0.22095,  0.2337 , -0.12575, -0.14365,  0.10045],\n",
       "          [-0.18955,  0.2253 ,  0.23645, -0.1415 , -0.1542 ,  0.10935],\n",
       "          [-0.15675,  0.22765,  0.2459 , -0.1693 , -0.15795,  0.1161 ]],\n",
       "  \n",
       "         [[-0.1677 ,  0.09125,  0.1011 ,  0.0472 , -0.11175,  0.15365],\n",
       "          [-0.18875,  0.108  ,  0.11485,  0.02065, -0.11255,  0.14315],\n",
       "          [-0.2029 ,  0.1228 ,  0.14365,  0.00685, -0.12165,  0.1258 ],\n",
       "          ..., \n",
       "          [-0.189  ,  0.21785,  0.23195, -0.134  , -0.1535 ,  0.09215],\n",
       "          [-0.18115,  0.2232 ,  0.23265, -0.1504 , -0.15115,  0.11235],\n",
       "          [-0.1663 ,  0.2361 ,  0.23445, -0.17485, -0.15445,  0.11965]]]),\n",
       "  {}),\n",
       " '-Yo': (('Amplitude', 'HD DRAG coeff', 'Interleaving sequence id'),\n",
       "  (array([ 0.925 ,  0.9275,  0.93  ,  0.9325,  0.935 ,  0.9375,  0.94  ,\n",
       "           0.9425,  0.945 ,  0.9475,  0.95  ,  0.9525,  0.955 ,  0.9575,\n",
       "           0.96  ,  0.9625,  0.965 ,  0.9675,  0.97  ,  0.9725,  0.975 ]),\n",
       "   array([ -2.00000000e-09,  -1.60000000e-09,  -1.20000000e-09,\n",
       "           -8.00000000e-10,  -4.00000000e-10,   0.00000000e+00,\n",
       "            4.00000000e-10,   8.00000000e-10,   1.20000000e-09,\n",
       "            1.60000000e-09,   2.00000000e-09]),\n",
       "   array([0, 1, 2, 3, 4, 5])),\n",
       "  array([[[-0.2239 , -0.22205,  0.1576 ,  0.1891 , -0.25475, -0.03785],\n",
       "          [-0.20515, -0.20935,  0.1576 ,  0.2057 , -0.25555, -0.0499 ],\n",
       "          [-0.1905 , -0.1978 ,  0.15205,  0.21345, -0.2517 , -0.0641 ],\n",
       "          ..., \n",
       "          [-0.128  , -0.05295,  0.0693 ,  0.2267 , -0.24395, -0.1598 ],\n",
       "          [-0.1302 , -0.01445,  0.0478 ,  0.2228 , -0.2367 , -0.1692 ],\n",
       "          [-0.13475,  0.01665,  0.02645,  0.2128 , -0.22725, -0.17335]],\n",
       "  \n",
       "         [[-0.21615, -0.21875,  0.15905,  0.1932 , -0.25455, -0.0426 ],\n",
       "          [-0.2095 , -0.21355,  0.15705,  0.2052 , -0.24915, -0.046  ],\n",
       "          [-0.1894 , -0.2024 ,  0.1447 ,  0.20935, -0.25165, -0.06295],\n",
       "          ..., \n",
       "          [-0.12435, -0.059  ,  0.07395,  0.2282 , -0.24195, -0.16955],\n",
       "          [-0.1363 , -0.0215 ,  0.0456 ,  0.20895, -0.2367 , -0.1651 ],\n",
       "          [-0.14435,  0.00995,  0.02855,  0.20955, -0.23095, -0.17185]],\n",
       "  \n",
       "         [[-0.21675, -0.22325,  0.1505 ,  0.19625, -0.25625, -0.0346 ],\n",
       "          [-0.20785, -0.2113 ,  0.1512 ,  0.21305, -0.2539 , -0.04275],\n",
       "          [-0.1868 , -0.20615,  0.1484 ,  0.224  , -0.25   , -0.05935],\n",
       "          ..., \n",
       "          [-0.12395, -0.0577 ,  0.0685 ,  0.2226 , -0.2396 , -0.15875],\n",
       "          [-0.1296 , -0.0257 ,  0.04985,  0.21305, -0.2396 , -0.1687 ],\n",
       "          [-0.1425 ,  0.0098 ,  0.0299 ,  0.2028 , -0.23015, -0.17725]],\n",
       "  \n",
       "         ..., \n",
       "         [[-0.2035 , -0.2538 ,  0.1144 ,  0.2209 , -0.2414 , -0.0346 ],\n",
       "          [-0.1912 , -0.23545,  0.10415,  0.23575, -0.2328 , -0.0363 ],\n",
       "          [-0.17265, -0.23265,  0.10285,  0.2302 , -0.23375, -0.0425 ],\n",
       "          ..., \n",
       "          [-0.1102 , -0.0963 ,  0.0308 ,  0.1806 , -0.2404 , -0.15625],\n",
       "          [-0.12215, -0.04635,  0.0142 ,  0.1693 , -0.24345, -0.16635],\n",
       "          [-0.13965, -0.02535, -0.0087 ,  0.15625, -0.2289 , -0.17745]],\n",
       "  \n",
       "         [[-0.19305, -0.24485,  0.10235,  0.218  , -0.2241 , -0.0248 ],\n",
       "          [-0.1831 , -0.23415,  0.10115,  0.2269 , -0.23075, -0.03345],\n",
       "          [-0.1777 , -0.22935,  0.09395,  0.2305 , -0.2293 , -0.0483 ],\n",
       "          ..., \n",
       "          [-0.108  , -0.0896 ,  0.03425,  0.17585, -0.24355, -0.1599 ],\n",
       "          [-0.1305 , -0.05885,  0.00735,  0.16915, -0.2362 , -0.1749 ],\n",
       "          [-0.1396 , -0.02025, -0.0084 ,  0.1522 , -0.2373 , -0.18135]],\n",
       "  \n",
       "         [[-0.20785, -0.2444 ,  0.09955,  0.2224 , -0.2335 , -0.02475],\n",
       "          [-0.18185, -0.23835,  0.09585,  0.2327 , -0.22355, -0.0361 ],\n",
       "          [-0.1633 , -0.22935,  0.0975 ,  0.22865, -0.22535, -0.0444 ],\n",
       "          ..., \n",
       "          [-0.1232 , -0.10065,  0.0179 ,  0.17845, -0.23935, -0.16135],\n",
       "          [-0.13485, -0.06385,  0.00265,  0.1625 , -0.2421 , -0.17045],\n",
       "          [-0.14195, -0.01855, -0.0132 ,  0.14935, -0.24855, -0.1817 ]]]),\n",
       "  {}),\n",
       " 'Euclidean distance': (('Amplitude',\n",
       "   'HD DRAG coeff',\n",
       "   'Interleaving sequence id'),\n",
       "  (array([ 0.925 ,  0.9275,  0.93  ,  0.9325,  0.935 ,  0.9375,  0.94  ,\n",
       "           0.9425,  0.945 ,  0.9475,  0.95  ,  0.9525,  0.955 ,  0.9575,\n",
       "           0.96  ,  0.9625,  0.965 ,  0.9675,  0.97  ,  0.9725,  0.975 ]),\n",
       "   array([ -2.00000000e-09,  -1.60000000e-09,  -1.20000000e-09,\n",
       "           -8.00000000e-10,  -4.00000000e-10,   0.00000000e+00,\n",
       "            4.00000000e-10,   8.00000000e-10,   1.20000000e-09,\n",
       "            1.60000000e-09,   2.00000000e-09]),\n",
       "   array([0, 1, 2, 3, 4, 5])),\n",
       "  array([[[ 0.71727253,  0.33901498,  0.41113656,  0.62367483,  0.28955763,\n",
       "            0.58514932],\n",
       "          [ 0.69723964,  0.35781432,  0.43179538,  0.6136351 ,  0.2895283 ,\n",
       "            0.59560314],\n",
       "          [ 0.69563449,  0.37290453,  0.4479277 ,  0.60227341,  0.29220648,\n",
       "            0.60452768],\n",
       "          ..., \n",
       "          [ 0.64369397,  0.53187383,  0.56005048,  0.51583284,  0.29724897,\n",
       "            0.67997221],\n",
       "          [ 0.64749988,  0.56934821,  0.56964921,  0.49655185,  0.30438585,\n",
       "            0.69131668],\n",
       "          [ 0.65079272,  0.59911661,  0.57033416,  0.47594364,  0.3198285 ,\n",
       "            0.69460804]],\n",
       "  \n",
       "         [[ 0.720251  ,  0.33813418,  0.4149066 ,  0.61992418,  0.28921423,\n",
       "            0.58581193],\n",
       "          [ 0.70914455,  0.3525368 ,  0.42836717,  0.61014901,  0.29325538,\n",
       "            0.59210626],\n",
       "          [ 0.69841082,  0.36575021,  0.44740882,  0.60369351,  0.29232741,\n",
       "            0.60499293],\n",
       "          ..., \n",
       "          [ 0.64733382,  0.53284577,  0.55851587,  0.51321763,  0.30681831,\n",
       "            0.68729427],\n",
       "          [ 0.64565696,  0.56522472,  0.56630457,  0.4860228 ,  0.30222346,\n",
       "            0.68844603],\n",
       "          [ 0.66039369,  0.59099157,  0.57156928,  0.46998594,  0.32042873,\n",
       "            0.69389134]],\n",
       "  \n",
       "         [[ 0.71428271,  0.33729141,  0.41006932,  0.61967642,  0.28538434,\n",
       "            0.58261358],\n",
       "          [ 0.71148162,  0.3503526 ,  0.42907883,  0.61148583,  0.29127481,\n",
       "            0.59149185],\n",
       "          [ 0.69280945,  0.36713359,  0.45019803,  0.60410076,  0.29438322,\n",
       "            0.60886498],\n",
       "          ..., \n",
       "          [ 0.64074345,  0.52848338,  0.55699571,  0.51401951,  0.30163959,\n",
       "            0.6797608 ],\n",
       "          [ 0.64938921,  0.5628759 ,  0.56393344,  0.48451763,  0.30659362,\n",
       "            0.68868875],\n",
       "          [ 0.65617567,  0.59286775,  0.56416843,  0.46645554,  0.31791376,\n",
       "            0.6949218 ]],\n",
       "  \n",
       "         ..., \n",
       "         [[ 0.70683002,  0.29716899,  0.36582951,  0.60618598,  0.31260794,\n",
       "            0.58284997],\n",
       "          [ 0.69988317,  0.31937479,  0.38238629,  0.59886004,  0.32250326,\n",
       "            0.58623938],\n",
       "          [ 0.6874394 ,  0.3283482 ,  0.3975577 ,  0.57735384,  0.32865007,\n",
       "            0.59184506],\n",
       "          ..., \n",
       "          [ 0.6322715 ,  0.49482165,  0.5285285 ,  0.46239813,  0.30888163,\n",
       "            0.67828218],\n",
       "          [ 0.64575327,  0.53724302,  0.53497622,  0.43836763,  0.30178402,\n",
       "            0.69041627],\n",
       "          [ 0.65570361,  0.56177997,  0.53506734,  0.41141629,  0.312974  ,\n",
       "            0.69572186]],\n",
       "  \n",
       "         [[ 0.70195907,  0.29925564,  0.35867209,  0.60279983,  0.32397727,\n",
       "            0.57086758],\n",
       "          [ 0.69560167,  0.31527872,  0.3810448 ,  0.58742208,  0.32776394,\n",
       "            0.5820429 ],\n",
       "          [ 0.68247416,  0.32782013,  0.39294833,  0.57663727,  0.32530953,\n",
       "            0.59774003],\n",
       "          ..., \n",
       "          [ 0.6334033 ,  0.49590169,  0.51857187,  0.45697761,  0.30544229,\n",
       "            0.68445034],\n",
       "          [ 0.64942074,  0.53076348,  0.52768521,  0.43811439,  0.31054577,\n",
       "            0.69290969],\n",
       "          [ 0.65046492,  0.56428297,  0.53278988,  0.40594137,  0.3133665 ,\n",
       "            0.69906954]],\n",
       "  \n",
       "         [[ 0.71000961,  0.30163431,  0.36358471,  0.60596097,  0.32322696,\n",
       "            0.57423844],\n",
       "          [ 0.69076123,  0.30843702,  0.37337653,  0.59293142,  0.33055741,\n",
       "            0.58401215],\n",
       "          [ 0.67624466,  0.32995803,  0.3949054 ,  0.57860117,  0.33405165,\n",
       "            0.59077923],\n",
       "          ..., \n",
       "          [ 0.63792582,  0.48966721,  0.51885813,  0.45681486,  0.31071378,\n",
       "            0.68007979],\n",
       "          [ 0.6450948 ,  0.5234171 ,  0.5301536 ,  0.42997861,  0.30899653,\n",
       "            0.69681275],\n",
       "          [ 0.65710557,  0.56830459,  0.53817719,  0.40817966,  0.30683899,\n",
       "            0.70000746]]]),\n",
       "  {}),\n",
       " 'Mean Euclidean distance': (('Amplitude', 'HD DRAG coeff'),\n",
       "  (array([ 0.925 ,  0.9275,  0.93  ,  0.9325,  0.935 ,  0.9375,  0.94  ,\n",
       "           0.9425,  0.945 ,  0.9475,  0.95  ,  0.9525,  0.955 ,  0.9575,\n",
       "           0.96  ,  0.9625,  0.965 ,  0.9675,  0.97  ,  0.9725,  0.975 ]),\n",
       "   array([ -2.00000000e-09,  -1.60000000e-09,  -1.20000000e-09,\n",
       "           -8.00000000e-10,  -4.00000000e-10,   0.00000000e+00,\n",
       "            4.00000000e-10,   8.00000000e-10,   1.20000000e-09,\n",
       "            1.60000000e-09,   2.00000000e-09])),\n",
       "  array([[ 0.49430098,  0.49760265,  0.50257905,  0.50936416,  0.51448328,\n",
       "           0.52092844,  0.52720775,  0.53198615,  0.53811205,  0.54645862,\n",
       "           0.55177061],\n",
       "         [ 0.49470702,  0.49759319,  0.50209728,  0.50753984,  0.5140104 ,\n",
       "           0.5199294 ,  0.52424458,  0.53256792,  0.54100428,  0.54231309,\n",
       "           0.55121009],\n",
       "         [ 0.49155296,  0.49752759,  0.50291501,  0.50744302,  0.50956864,\n",
       "           0.51877262,  0.52392741,  0.52978424,  0.53694041,  0.54266643,\n",
       "           0.54875049],\n",
       "         [ 0.49170477,  0.49559353,  0.50072158,  0.50741628,  0.51207681,\n",
       "           0.51680189,  0.52204797,  0.5281289 ,  0.53521087,  0.54164817,\n",
       "           0.54809137],\n",
       "         [ 0.48982374,  0.4953372 ,  0.49822394,  0.50512892,  0.50925593,\n",
       "           0.51647307,  0.51952593,  0.52603237,  0.53363639,  0.54116856,\n",
       "           0.54553513],\n",
       "         [ 0.49024108,  0.49314409,  0.49586886,  0.50465433,  0.50882062,\n",
       "           0.51519073,  0.52043346,  0.52786159,  0.53191683,  0.53920526,\n",
       "           0.54088214],\n",
       "         [ 0.48908564,  0.49214521,  0.49516625,  0.50216655,  0.50860765,\n",
       "           0.51332225,  0.51785468,  0.52652123,  0.52997066,  0.53717181,\n",
       "           0.54138701],\n",
       "         [ 0.48789691,  0.49299748,  0.49644435,  0.50090351,  0.50497877,\n",
       "           0.50897817,  0.51671234,  0.52268675,  0.5280516 ,  0.53454962,\n",
       "           0.5402823 ],\n",
       "         [ 0.48458836,  0.48970136,  0.49346266,  0.50089162,  0.50171432,\n",
       "           0.50919304,  0.51643913,  0.52221832,  0.52616989,  0.53429687,\n",
       "           0.53811588],\n",
       "         [ 0.48400851,  0.48968694,  0.49355508,  0.49691055,  0.50297623,\n",
       "           0.50794788,  0.51603451,  0.52122027,  0.52803333,  0.5330241 ,\n",
       "           0.53791494],\n",
       "         [ 0.48462469,  0.48849015,  0.49288881,  0.49688466,  0.50235913,\n",
       "           0.5052957 ,  0.51287156,  0.5180463 ,  0.52510318,  0.5348248 ,\n",
       "           0.53789111],\n",
       "         [ 0.48395531,  0.48768408,  0.49015601,  0.49546924,  0.50078392,\n",
       "           0.50806251,  0.511268  ,  0.51921391,  0.52565061,  0.53187644,\n",
       "           0.53527584],\n",
       "         [ 0.48119239,  0.48784674,  0.49060513,  0.49387432,  0.49914242,\n",
       "           0.50471919,  0.50939031,  0.51740232,  0.52447734,  0.52855687,\n",
       "           0.53338315],\n",
       "         [ 0.48080893,  0.48704449,  0.49060342,  0.494812  ,  0.49844746,\n",
       "           0.50268369,  0.50930191,  0.51671465,  0.51937068,  0.5275635 ,\n",
       "           0.53390949],\n",
       "         [ 0.4799128 ,  0.48330206,  0.48815329,  0.49203681,  0.49571035,\n",
       "           0.50200368,  0.50819174,  0.51351851,  0.5209049 ,  0.52529908,\n",
       "           0.53339732],\n",
       "         [ 0.47965369,  0.48509636,  0.48384147,  0.49055   ,  0.49797705,\n",
       "           0.50088163,  0.50815049,  0.51381043,  0.51890385,  0.52195709,\n",
       "           0.52944283],\n",
       "         [ 0.47828299,  0.4830186 ,  0.48310537,  0.48970244,  0.49272376,\n",
       "           0.49893214,  0.50696732,  0.50997664,  0.5184878 ,  0.524947  ,\n",
       "           0.53133452],\n",
       "         [ 0.47545542,  0.48092082,  0.46642783,  0.49177452,  0.49631229,\n",
       "           0.50095601,  0.50778407,  0.51401175,  0.51869309,  0.52611148,\n",
       "           0.53026744],\n",
       "         [ 0.47857873,  0.48487449,  0.48519904,  0.48982489,  0.49472222,\n",
       "           0.49756998,  0.50602381,  0.51105054,  0.5175306 ,  0.52475674,\n",
       "           0.52877718],\n",
       "         [ 0.47625525,  0.48152569,  0.48382158,  0.48778074,  0.49434919,\n",
       "           0.49912992,  0.50639868,  0.50981325,  0.51579118,  0.52490655,\n",
       "           0.52765253],\n",
       "         [ 0.47977583,  0.48001263,  0.48409002,  0.48571145,  0.49314822,\n",
       "           0.49840216,  0.49832762,  0.51003687,  0.5156766 ,  0.5224089 ,\n",
       "           0.52976891]]),\n",
       "  {}),\n",
       " 'Pulse sequences': (('Amplitude',\n",
       "   'HD DRAG coeff',\n",
       "   'Interleaving sequence id',\n",
       "   'Pulse id'),\n",
       "  (array([ 0.925 ,  0.9275,  0.93  ,  0.9325,  0.935 ,  0.9375,  0.94  ,\n",
       "           0.9425,  0.945 ,  0.9475,  0.95  ,  0.9525,  0.955 ,  0.9575,\n",
       "           0.96  ,  0.9625,  0.965 ,  0.9675,  0.97  ,  0.9725,  0.975 ]),\n",
       "   array([ -2.00000000e-09,  -1.60000000e-09,  -1.20000000e-09,\n",
       "           -8.00000000e-10,  -4.00000000e-10,   0.00000000e+00,\n",
       "            4.00000000e-10,   8.00000000e-10,   1.20000000e-09,\n",
       "            1.60000000e-09,   2.00000000e-09]),\n",
       "   array([0, 1, 2, 3, 4, 5]),\n",
       "   array([ 0,  1,  2,  3,  4,  5,  6,  7,  8,  9, 10, 11, 12, 13, 14, 15, 16,\n",
       "          17, 18, 19])),\n",
       "  array([[[['-Y', 'X (benchmarking)', 'X', ..., 'X (benchmarking)', 'Y',\n",
       "            'X (benchmarking)'],\n",
       "           ['I', 'X (benchmarking)', '-X', ..., 'X (benchmarking)', 'Y',\n",
       "            'X (benchmarking)'],\n",
       "           ['-Y', 'X (benchmarking)', 'X', ..., 'X (benchmarking)', 'X',\n",
       "            'X (benchmarking)'],\n",
       "           ['I', 'X (benchmarking)', 'I', ..., 'X (benchmarking)', 'Y',\n",
       "            'X (benchmarking)'],\n",
       "           ['-Y', 'X (benchmarking)', 'I', ..., 'X (benchmarking)', 'Y',\n",
       "            'X (benchmarking)'],\n",
       "           ['Y', 'X (benchmarking)', '-X', ..., 'X (benchmarking)', '-X',\n",
       "            'X (benchmarking)']],\n",
       "  \n",
       "          [['-Y', 'X (benchmarking)', 'X', ..., 'X (benchmarking)', 'Y',\n",
       "            'X (benchmarking)'],\n",
       "           ['I', 'X (benchmarking)', '-X', ..., 'X (benchmarking)', 'Y',\n",
       "            'X (benchmarking)'],\n",
       "           ['-Y', 'X (benchmarking)', 'X', ..., 'X (benchmarking)', 'X',\n",
       "            'X (benchmarking)'],\n",
       "           ['I', 'X (benchmarking)', 'I', ..., 'X (benchmarking)', 'Y',\n",
       "            'X (benchmarking)'],\n",
       "           ['-Y', 'X (benchmarking)', 'I', ..., 'X (benchmarking)', 'Y',\n",
       "            'X (benchmarking)'],\n",
       "           ['Y', 'X (benchmarking)', '-X', ..., 'X (benchmarking)', '-X',\n",
       "            'X (benchmarking)']],\n",
       "  \n",
       "          [['-Y', 'X (benchmarking)', 'X', ..., 'X (benchmarking)', 'Y',\n",
       "            'X (benchmarking)'],\n",
       "           ['I', 'X (benchmarking)', '-X', ..., 'X (benchmarking)', 'Y',\n",
       "            'X (benchmarking)'],\n",
       "           ['-Y', 'X (benchmarking)', 'X', ..., 'X (benchmarking)', 'X',\n",
       "            'X (benchmarking)'],\n",
       "           ['I', 'X (benchmarking)', 'I', ..., 'X (benchmarking)', 'Y',\n",
       "            'X (benchmarking)'],\n",
       "           ['-Y', 'X (benchmarking)', 'I', ..., 'X (benchmarking)', 'Y',\n",
       "            'X (benchmarking)'],\n",
       "           ['Y', 'X (benchmarking)', '-X', ..., 'X (benchmarking)', '-X',\n",
       "            'X (benchmarking)']],\n",
       "  \n",
       "          ..., \n",
       "          [['-Y', 'X (benchmarking)', 'X', ..., 'X (benchmarking)', 'Y',\n",
       "            'X (benchmarking)'],\n",
       "           ['I', 'X (benchmarking)', '-X', ..., 'X (benchmarking)', 'Y',\n",
       "            'X (benchmarking)'],\n",
       "           ['-Y', 'X (benchmarking)', 'X', ..., 'X (benchmarking)', 'X',\n",
       "            'X (benchmarking)'],\n",
       "           ['I', 'X (benchmarking)', 'I', ..., 'X (benchmarking)', 'Y',\n",
       "            'X (benchmarking)'],\n",
       "           ['-Y', 'X (benchmarking)', 'I', ..., 'X (benchmarking)', 'Y',\n",
       "            'X (benchmarking)'],\n",
       "           ['Y', 'X (benchmarking)', '-X', ..., 'X (benchmarking)', '-X',\n",
       "            'X (benchmarking)']],\n",
       "  \n",
       "          [['-Y', 'X (benchmarking)', 'X', ..., 'X (benchmarking)', 'Y',\n",
       "            'X (benchmarking)'],\n",
       "           ['I', 'X (benchmarking)', '-X', ..., 'X (benchmarking)', 'Y',\n",
       "            'X (benchmarking)'],\n",
       "           ['-Y', 'X (benchmarking)', 'X', ..., 'X (benchmarking)', 'X',\n",
       "            'X (benchmarking)'],\n",
       "           ['I', 'X (benchmarking)', 'I', ..., 'X (benchmarking)', 'Y',\n",
       "            'X (benchmarking)'],\n",
       "           ['-Y', 'X (benchmarking)', 'I', ..., 'X (benchmarking)', 'Y',\n",
       "            'X (benchmarking)'],\n",
       "           ['Y', 'X (benchmarking)', '-X', ..., 'X (benchmarking)', '-X',\n",
       "            'X (benchmarking)']],\n",
       "  \n",
       "          [['-Y', 'X (benchmarking)', 'X', ..., 'X (benchmarking)', 'Y',\n",
       "            'X (benchmarking)'],\n",
       "           ['I', 'X (benchmarking)', '-X', ..., 'X (benchmarking)', 'Y',\n",
       "            'X (benchmarking)'],\n",
       "           ['-Y', 'X (benchmarking)', 'X', ..., 'X (benchmarking)', 'X',\n",
       "            'X (benchmarking)'],\n",
       "           ['I', 'X (benchmarking)', 'I', ..., 'X (benchmarking)', 'Y',\n",
       "            'X (benchmarking)'],\n",
       "           ['-Y', 'X (benchmarking)', 'I', ..., 'X (benchmarking)', 'Y',\n",
       "            'X (benchmarking)'],\n",
       "           ['Y', 'X (benchmarking)', '-X', ..., 'X (benchmarking)', '-X',\n",
       "            'X (benchmarking)']]],\n",
       "  \n",
       "  \n",
       "         [[['-Y', 'X (benchmarking)', 'X', ..., 'X (benchmarking)', 'Y',\n",
       "            'X (benchmarking)'],\n",
       "           ['I', 'X (benchmarking)', '-X', ..., 'X (benchmarking)', 'Y',\n",
       "            'X (benchmarking)'],\n",
       "           ['-Y', 'X (benchmarking)', 'X', ..., 'X (benchmarking)', 'X',\n",
       "            'X (benchmarking)'],\n",
       "           ['I', 'X (benchmarking)', 'I', ..., 'X (benchmarking)', 'Y',\n",
       "            'X (benchmarking)'],\n",
       "           ['-Y', 'X (benchmarking)', 'I', ..., 'X (benchmarking)', 'Y',\n",
       "            'X (benchmarking)'],\n",
       "           ['Y', 'X (benchmarking)', '-X', ..., 'X (benchmarking)', '-X',\n",
       "            'X (benchmarking)']],\n",
       "  \n",
       "          [['-Y', 'X (benchmarking)', 'X', ..., 'X (benchmarking)', 'Y',\n",
       "            'X (benchmarking)'],\n",
       "           ['I', 'X (benchmarking)', '-X', ..., 'X (benchmarking)', 'Y',\n",
       "            'X (benchmarking)'],\n",
       "           ['-Y', 'X (benchmarking)', 'X', ..., 'X (benchmarking)', 'X',\n",
       "            'X (benchmarking)'],\n",
       "           ['I', 'X (benchmarking)', 'I', ..., 'X (benchmarking)', 'Y',\n",
       "            'X (benchmarking)'],\n",
       "           ['-Y', 'X (benchmarking)', 'I', ..., 'X (benchmarking)', 'Y',\n",
       "            'X (benchmarking)'],\n",
       "           ['Y', 'X (benchmarking)', '-X', ..., 'X (benchmarking)', '-X',\n",
       "            'X (benchmarking)']],\n",
       "  \n",
       "          [['-Y', 'X (benchmarking)', 'X', ..., 'X (benchmarking)', 'Y',\n",
       "            'X (benchmarking)'],\n",
       "           ['I', 'X (benchmarking)', '-X', ..., 'X (benchmarking)', 'Y',\n",
       "            'X (benchmarking)'],\n",
       "           ['-Y', 'X (benchmarking)', 'X', ..., 'X (benchmarking)', 'X',\n",
       "            'X (benchmarking)'],\n",
       "           ['I', 'X (benchmarking)', 'I', ..., 'X (benchmarking)', 'Y',\n",
       "            'X (benchmarking)'],\n",
       "           ['-Y', 'X (benchmarking)', 'I', ..., 'X (benchmarking)', 'Y',\n",
       "            'X (benchmarking)'],\n",
       "           ['Y', 'X (benchmarking)', '-X', ..., 'X (benchmarking)', '-X',\n",
       "            'X (benchmarking)']],\n",
       "  \n",
       "          ..., \n",
       "          [['-Y', 'X (benchmarking)', 'X', ..., 'X (benchmarking)', 'Y',\n",
       "            'X (benchmarking)'],\n",
       "           ['I', 'X (benchmarking)', '-X', ..., 'X (benchmarking)', 'Y',\n",
       "            'X (benchmarking)'],\n",
       "           ['-Y', 'X (benchmarking)', 'X', ..., 'X (benchmarking)', 'X',\n",
       "            'X (benchmarking)'],\n",
       "           ['I', 'X (benchmarking)', 'I', ..., 'X (benchmarking)', 'Y',\n",
       "            'X (benchmarking)'],\n",
       "           ['-Y', 'X (benchmarking)', 'I', ..., 'X (benchmarking)', 'Y',\n",
       "            'X (benchmarking)'],\n",
       "           ['Y', 'X (benchmarking)', '-X', ..., 'X (benchmarking)', '-X',\n",
       "            'X (benchmarking)']],\n",
       "  \n",
       "          [['-Y', 'X (benchmarking)', 'X', ..., 'X (benchmarking)', 'Y',\n",
       "            'X (benchmarking)'],\n",
       "           ['I', 'X (benchmarking)', '-X', ..., 'X (benchmarking)', 'Y',\n",
       "            'X (benchmarking)'],\n",
       "           ['-Y', 'X (benchmarking)', 'X', ..., 'X (benchmarking)', 'X',\n",
       "            'X (benchmarking)'],\n",
       "           ['I', 'X (benchmarking)', 'I', ..., 'X (benchmarking)', 'Y',\n",
       "            'X (benchmarking)'],\n",
       "           ['-Y', 'X (benchmarking)', 'I', ..., 'X (benchmarking)', 'Y',\n",
       "            'X (benchmarking)'],\n",
       "           ['Y', 'X (benchmarking)', '-X', ..., 'X (benchmarking)', '-X',\n",
       "            'X (benchmarking)']],\n",
       "  \n",
       "          [['-Y', 'X (benchmarking)', 'X', ..., 'X (benchmarking)', 'Y',\n",
       "            'X (benchmarking)'],\n",
       "           ['I', 'X (benchmarking)', '-X', ..., 'X (benchmarking)', 'Y',\n",
       "            'X (benchmarking)'],\n",
       "           ['-Y', 'X (benchmarking)', 'X', ..., 'X (benchmarking)', 'X',\n",
       "            'X (benchmarking)'],\n",
       "           ['I', 'X (benchmarking)', 'I', ..., 'X (benchmarking)', 'Y',\n",
       "            'X (benchmarking)'],\n",
       "           ['-Y', 'X (benchmarking)', 'I', ..., 'X (benchmarking)', 'Y',\n",
       "            'X (benchmarking)'],\n",
       "           ['Y', 'X (benchmarking)', '-X', ..., 'X (benchmarking)', '-X',\n",
       "            'X (benchmarking)']]],\n",
       "  \n",
       "  \n",
       "         [[['-Y', 'X (benchmarking)', 'X', ..., 'X (benchmarking)', 'Y',\n",
       "            'X (benchmarking)'],\n",
       "           ['I', 'X (benchmarking)', '-X', ..., 'X (benchmarking)', 'Y',\n",
       "            'X (benchmarking)'],\n",
       "           ['-Y', 'X (benchmarking)', 'X', ..., 'X (benchmarking)', 'X',\n",
       "            'X (benchmarking)'],\n",
       "           ['I', 'X (benchmarking)', 'I', ..., 'X (benchmarking)', 'Y',\n",
       "            'X (benchmarking)'],\n",
       "           ['-Y', 'X (benchmarking)', 'I', ..., 'X (benchmarking)', 'Y',\n",
       "            'X (benchmarking)'],\n",
       "           ['Y', 'X (benchmarking)', '-X', ..., 'X (benchmarking)', '-X',\n",
       "            'X (benchmarking)']],\n",
       "  \n",
       "          [['-Y', 'X (benchmarking)', 'X', ..., 'X (benchmarking)', 'Y',\n",
       "            'X (benchmarking)'],\n",
       "           ['I', 'X (benchmarking)', '-X', ..., 'X (benchmarking)', 'Y',\n",
       "            'X (benchmarking)'],\n",
       "           ['-Y', 'X (benchmarking)', 'X', ..., 'X (benchmarking)', 'X',\n",
       "            'X (benchmarking)'],\n",
       "           ['I', 'X (benchmarking)', 'I', ..., 'X (benchmarking)', 'Y',\n",
       "            'X (benchmarking)'],\n",
       "           ['-Y', 'X (benchmarking)', 'I', ..., 'X (benchmarking)', 'Y',\n",
       "            'X (benchmarking)'],\n",
       "           ['Y', 'X (benchmarking)', '-X', ..., 'X (benchmarking)', '-X',\n",
       "            'X (benchmarking)']],\n",
       "  \n",
       "          [['-Y', 'X (benchmarking)', 'X', ..., 'X (benchmarking)', 'Y',\n",
       "            'X (benchmarking)'],\n",
       "           ['I', 'X (benchmarking)', '-X', ..., 'X (benchmarking)', 'Y',\n",
       "            'X (benchmarking)'],\n",
       "           ['-Y', 'X (benchmarking)', 'X', ..., 'X (benchmarking)', 'X',\n",
       "            'X (benchmarking)'],\n",
       "           ['I', 'X (benchmarking)', 'I', ..., 'X (benchmarking)', 'Y',\n",
       "            'X (benchmarking)'],\n",
       "           ['-Y', 'X (benchmarking)', 'I', ..., 'X (benchmarking)', 'Y',\n",
       "            'X (benchmarking)'],\n",
       "           ['Y', 'X (benchmarking)', '-X', ..., 'X (benchmarking)', '-X',\n",
       "            'X (benchmarking)']],\n",
       "  \n",
       "          ..., \n",
       "          [['-Y', 'X (benchmarking)', 'X', ..., 'X (benchmarking)', 'Y',\n",
       "            'X (benchmarking)'],\n",
       "           ['I', 'X (benchmarking)', '-X', ..., 'X (benchmarking)', 'Y',\n",
       "            'X (benchmarking)'],\n",
       "           ['-Y', 'X (benchmarking)', 'X', ..., 'X (benchmarking)', 'X',\n",
       "            'X (benchmarking)'],\n",
       "           ['I', 'X (benchmarking)', 'I', ..., 'X (benchmarking)', 'Y',\n",
       "            'X (benchmarking)'],\n",
       "           ['-Y', 'X (benchmarking)', 'I', ..., 'X (benchmarking)', 'Y',\n",
       "            'X (benchmarking)'],\n",
       "           ['Y', 'X (benchmarking)', '-X', ..., 'X (benchmarking)', '-X',\n",
       "            'X (benchmarking)']],\n",
       "  \n",
       "          [['-Y', 'X (benchmarking)', 'X', ..., 'X (benchmarking)', 'Y',\n",
       "            'X (benchmarking)'],\n",
       "           ['I', 'X (benchmarking)', '-X', ..., 'X (benchmarking)', 'Y',\n",
       "            'X (benchmarking)'],\n",
       "           ['-Y', 'X (benchmarking)', 'X', ..., 'X (benchmarking)', 'X',\n",
       "            'X (benchmarking)'],\n",
       "           ['I', 'X (benchmarking)', 'I', ..., 'X (benchmarking)', 'Y',\n",
       "            'X (benchmarking)'],\n",
       "           ['-Y', 'X (benchmarking)', 'I', ..., 'X (benchmarking)', 'Y',\n",
       "            'X (benchmarking)'],\n",
       "           ['Y', 'X (benchmarking)', '-X', ..., 'X (benchmarking)', '-X',\n",
       "            'X (benchmarking)']],\n",
       "  \n",
       "          [['-Y', 'X (benchmarking)', 'X', ..., 'X (benchmarking)', 'Y',\n",
       "            'X (benchmarking)'],\n",
       "           ['I', 'X (benchmarking)', '-X', ..., 'X (benchmarking)', 'Y',\n",
       "            'X (benchmarking)'],\n",
       "           ['-Y', 'X (benchmarking)', 'X', ..., 'X (benchmarking)', 'X',\n",
       "            'X (benchmarking)'],\n",
       "           ['I', 'X (benchmarking)', 'I', ..., 'X (benchmarking)', 'Y',\n",
       "            'X (benchmarking)'],\n",
       "           ['-Y', 'X (benchmarking)', 'I', ..., 'X (benchmarking)', 'Y',\n",
       "            'X (benchmarking)'],\n",
       "           ['Y', 'X (benchmarking)', '-X', ..., 'X (benchmarking)', '-X',\n",
       "            'X (benchmarking)']]],\n",
       "  \n",
       "  \n",
       "         ..., \n",
       "         [[['-Y', 'X (benchmarking)', 'X', ..., 'X (benchmarking)', 'Y',\n",
       "            'X (benchmarking)'],\n",
       "           ['I', 'X (benchmarking)', '-X', ..., 'X (benchmarking)', 'Y',\n",
       "            'X (benchmarking)'],\n",
       "           ['-Y', 'X (benchmarking)', 'X', ..., 'X (benchmarking)', 'X',\n",
       "            'X (benchmarking)'],\n",
       "           ['I', 'X (benchmarking)', 'I', ..., 'X (benchmarking)', 'Y',\n",
       "            'X (benchmarking)'],\n",
       "           ['-Y', 'X (benchmarking)', 'I', ..., 'X (benchmarking)', 'Y',\n",
       "            'X (benchmarking)'],\n",
       "           ['Y', 'X (benchmarking)', '-X', ..., 'X (benchmarking)', '-X',\n",
       "            'X (benchmarking)']],\n",
       "  \n",
       "          [['-Y', 'X (benchmarking)', 'X', ..., 'X (benchmarking)', 'Y',\n",
       "            'X (benchmarking)'],\n",
       "           ['I', 'X (benchmarking)', '-X', ..., 'X (benchmarking)', 'Y',\n",
       "            'X (benchmarking)'],\n",
       "           ['-Y', 'X (benchmarking)', 'X', ..., 'X (benchmarking)', 'X',\n",
       "            'X (benchmarking)'],\n",
       "           ['I', 'X (benchmarking)', 'I', ..., 'X (benchmarking)', 'Y',\n",
       "            'X (benchmarking)'],\n",
       "           ['-Y', 'X (benchmarking)', 'I', ..., 'X (benchmarking)', 'Y',\n",
       "            'X (benchmarking)'],\n",
       "           ['Y', 'X (benchmarking)', '-X', ..., 'X (benchmarking)', '-X',\n",
       "            'X (benchmarking)']],\n",
       "  \n",
       "          [['-Y', 'X (benchmarking)', 'X', ..., 'X (benchmarking)', 'Y',\n",
       "            'X (benchmarking)'],\n",
       "           ['I', 'X (benchmarking)', '-X', ..., 'X (benchmarking)', 'Y',\n",
       "            'X (benchmarking)'],\n",
       "           ['-Y', 'X (benchmarking)', 'X', ..., 'X (benchmarking)', 'X',\n",
       "            'X (benchmarking)'],\n",
       "           ['I', 'X (benchmarking)', 'I', ..., 'X (benchmarking)', 'Y',\n",
       "            'X (benchmarking)'],\n",
       "           ['-Y', 'X (benchmarking)', 'I', ..., 'X (benchmarking)', 'Y',\n",
       "            'X (benchmarking)'],\n",
       "           ['Y', 'X (benchmarking)', '-X', ..., 'X (benchmarking)', '-X',\n",
       "            'X (benchmarking)']],\n",
       "  \n",
       "          ..., \n",
       "          [['-Y', 'X (benchmarking)', 'X', ..., 'X (benchmarking)', 'Y',\n",
       "            'X (benchmarking)'],\n",
       "           ['I', 'X (benchmarking)', '-X', ..., 'X (benchmarking)', 'Y',\n",
       "            'X (benchmarking)'],\n",
       "           ['-Y', 'X (benchmarking)', 'X', ..., 'X (benchmarking)', 'X',\n",
       "            'X (benchmarking)'],\n",
       "           ['I', 'X (benchmarking)', 'I', ..., 'X (benchmarking)', 'Y',\n",
       "            'X (benchmarking)'],\n",
       "           ['-Y', 'X (benchmarking)', 'I', ..., 'X (benchmarking)', 'Y',\n",
       "            'X (benchmarking)'],\n",
       "           ['Y', 'X (benchmarking)', '-X', ..., 'X (benchmarking)', '-X',\n",
       "            'X (benchmarking)']],\n",
       "  \n",
       "          [['-Y', 'X (benchmarking)', 'X', ..., 'X (benchmarking)', 'Y',\n",
       "            'X (benchmarking)'],\n",
       "           ['I', 'X (benchmarking)', '-X', ..., 'X (benchmarking)', 'Y',\n",
       "            'X (benchmarking)'],\n",
       "           ['-Y', 'X (benchmarking)', 'X', ..., 'X (benchmarking)', 'X',\n",
       "            'X (benchmarking)'],\n",
       "           ['I', 'X (benchmarking)', 'I', ..., 'X (benchmarking)', 'Y',\n",
       "            'X (benchmarking)'],\n",
       "           ['-Y', 'X (benchmarking)', 'I', ..., 'X (benchmarking)', 'Y',\n",
       "            'X (benchmarking)'],\n",
       "           ['Y', 'X (benchmarking)', '-X', ..., 'X (benchmarking)', '-X',\n",
       "            'X (benchmarking)']],\n",
       "  \n",
       "          [['-Y', 'X (benchmarking)', 'X', ..., 'X (benchmarking)', 'Y',\n",
       "            'X (benchmarking)'],\n",
       "           ['I', 'X (benchmarking)', '-X', ..., 'X (benchmarking)', 'Y',\n",
       "            'X (benchmarking)'],\n",
       "           ['-Y', 'X (benchmarking)', 'X', ..., 'X (benchmarking)', 'X',\n",
       "            'X (benchmarking)'],\n",
       "           ['I', 'X (benchmarking)', 'I', ..., 'X (benchmarking)', 'Y',\n",
       "            'X (benchmarking)'],\n",
       "           ['-Y', 'X (benchmarking)', 'I', ..., 'X (benchmarking)', 'Y',\n",
       "            'X (benchmarking)'],\n",
       "           ['Y', 'X (benchmarking)', '-X', ..., 'X (benchmarking)', '-X',\n",
       "            'X (benchmarking)']]],\n",
       "  \n",
       "  \n",
       "         [[['-Y', 'X (benchmarking)', 'X', ..., 'X (benchmarking)', 'Y',\n",
       "            'X (benchmarking)'],\n",
       "           ['I', 'X (benchmarking)', '-X', ..., 'X (benchmarking)', 'Y',\n",
       "            'X (benchmarking)'],\n",
       "           ['-Y', 'X (benchmarking)', 'X', ..., 'X (benchmarking)', 'X',\n",
       "            'X (benchmarking)'],\n",
       "           ['I', 'X (benchmarking)', 'I', ..., 'X (benchmarking)', 'Y',\n",
       "            'X (benchmarking)'],\n",
       "           ['-Y', 'X (benchmarking)', 'I', ..., 'X (benchmarking)', 'Y',\n",
       "            'X (benchmarking)'],\n",
       "           ['Y', 'X (benchmarking)', '-X', ..., 'X (benchmarking)', '-X',\n",
       "            'X (benchmarking)']],\n",
       "  \n",
       "          [['-Y', 'X (benchmarking)', 'X', ..., 'X (benchmarking)', 'Y',\n",
       "            'X (benchmarking)'],\n",
       "           ['I', 'X (benchmarking)', '-X', ..., 'X (benchmarking)', 'Y',\n",
       "            'X (benchmarking)'],\n",
       "           ['-Y', 'X (benchmarking)', 'X', ..., 'X (benchmarking)', 'X',\n",
       "            'X (benchmarking)'],\n",
       "           ['I', 'X (benchmarking)', 'I', ..., 'X (benchmarking)', 'Y',\n",
       "            'X (benchmarking)'],\n",
       "           ['-Y', 'X (benchmarking)', 'I', ..., 'X (benchmarking)', 'Y',\n",
       "            'X (benchmarking)'],\n",
       "           ['Y', 'X (benchmarking)', '-X', ..., 'X (benchmarking)', '-X',\n",
       "            'X (benchmarking)']],\n",
       "  \n",
       "          [['-Y', 'X (benchmarking)', 'X', ..., 'X (benchmarking)', 'Y',\n",
       "            'X (benchmarking)'],\n",
       "           ['I', 'X (benchmarking)', '-X', ..., 'X (benchmarking)', 'Y',\n",
       "            'X (benchmarking)'],\n",
       "           ['-Y', 'X (benchmarking)', 'X', ..., 'X (benchmarking)', 'X',\n",
       "            'X (benchmarking)'],\n",
       "           ['I', 'X (benchmarking)', 'I', ..., 'X (benchmarking)', 'Y',\n",
       "            'X (benchmarking)'],\n",
       "           ['-Y', 'X (benchmarking)', 'I', ..., 'X (benchmarking)', 'Y',\n",
       "            'X (benchmarking)'],\n",
       "           ['Y', 'X (benchmarking)', '-X', ..., 'X (benchmarking)', '-X',\n",
       "            'X (benchmarking)']],\n",
       "  \n",
       "          ..., \n",
       "          [['-Y', 'X (benchmarking)', 'X', ..., 'X (benchmarking)', 'Y',\n",
       "            'X (benchmarking)'],\n",
       "           ['I', 'X (benchmarking)', '-X', ..., 'X (benchmarking)', 'Y',\n",
       "            'X (benchmarking)'],\n",
       "           ['-Y', 'X (benchmarking)', 'X', ..., 'X (benchmarking)', 'X',\n",
       "            'X (benchmarking)'],\n",
       "           ['I', 'X (benchmarking)', 'I', ..., 'X (benchmarking)', 'Y',\n",
       "            'X (benchmarking)'],\n",
       "           ['-Y', 'X (benchmarking)', 'I', ..., 'X (benchmarking)', 'Y',\n",
       "            'X (benchmarking)'],\n",
       "           ['Y', 'X (benchmarking)', '-X', ..., 'X (benchmarking)', '-X',\n",
       "            'X (benchmarking)']],\n",
       "  \n",
       "          [['-Y', 'X (benchmarking)', 'X', ..., 'X (benchmarking)', 'Y',\n",
       "            'X (benchmarking)'],\n",
       "           ['I', 'X (benchmarking)', '-X', ..., 'X (benchmarking)', 'Y',\n",
       "            'X (benchmarking)'],\n",
       "           ['-Y', 'X (benchmarking)', 'X', ..., 'X (benchmarking)', 'X',\n",
       "            'X (benchmarking)'],\n",
       "           ['I', 'X (benchmarking)', 'I', ..., 'X (benchmarking)', 'Y',\n",
       "            'X (benchmarking)'],\n",
       "           ['-Y', 'X (benchmarking)', 'I', ..., 'X (benchmarking)', 'Y',\n",
       "            'X (benchmarking)'],\n",
       "           ['Y', 'X (benchmarking)', '-X', ..., 'X (benchmarking)', '-X',\n",
       "            'X (benchmarking)']],\n",
       "  \n",
       "          [['-Y', 'X (benchmarking)', 'X', ..., 'X (benchmarking)', 'Y',\n",
       "            'X (benchmarking)'],\n",
       "           ['I', 'X (benchmarking)', '-X', ..., 'X (benchmarking)', 'Y',\n",
       "            'X (benchmarking)'],\n",
       "           ['-Y', 'X (benchmarking)', 'X', ..., 'X (benchmarking)', 'X',\n",
       "            'X (benchmarking)'],\n",
       "           ['I', 'X (benchmarking)', 'I', ..., 'X (benchmarking)', 'Y',\n",
       "            'X (benchmarking)'],\n",
       "           ['-Y', 'X (benchmarking)', 'I', ..., 'X (benchmarking)', 'Y',\n",
       "            'X (benchmarking)'],\n",
       "           ['Y', 'X (benchmarking)', '-X', ..., 'X (benchmarking)', '-X',\n",
       "            'X (benchmarking)']]],\n",
       "  \n",
       "  \n",
       "         [[['-Y', 'X (benchmarking)', 'X', ..., 'X (benchmarking)', 'Y',\n",
       "            'X (benchmarking)'],\n",
       "           ['I', 'X (benchmarking)', '-X', ..., 'X (benchmarking)', 'Y',\n",
       "            'X (benchmarking)'],\n",
       "           ['-Y', 'X (benchmarking)', 'X', ..., 'X (benchmarking)', 'X',\n",
       "            'X (benchmarking)'],\n",
       "           ['I', 'X (benchmarking)', 'I', ..., 'X (benchmarking)', 'Y',\n",
       "            'X (benchmarking)'],\n",
       "           ['-Y', 'X (benchmarking)', 'I', ..., 'X (benchmarking)', 'Y',\n",
       "            'X (benchmarking)'],\n",
       "           ['Y', 'X (benchmarking)', '-X', ..., 'X (benchmarking)', '-X',\n",
       "            'X (benchmarking)']],\n",
       "  \n",
       "          [['-Y', 'X (benchmarking)', 'X', ..., 'X (benchmarking)', 'Y',\n",
       "            'X (benchmarking)'],\n",
       "           ['I', 'X (benchmarking)', '-X', ..., 'X (benchmarking)', 'Y',\n",
       "            'X (benchmarking)'],\n",
       "           ['-Y', 'X (benchmarking)', 'X', ..., 'X (benchmarking)', 'X',\n",
       "            'X (benchmarking)'],\n",
       "           ['I', 'X (benchmarking)', 'I', ..., 'X (benchmarking)', 'Y',\n",
       "            'X (benchmarking)'],\n",
       "           ['-Y', 'X (benchmarking)', 'I', ..., 'X (benchmarking)', 'Y',\n",
       "            'X (benchmarking)'],\n",
       "           ['Y', 'X (benchmarking)', '-X', ..., 'X (benchmarking)', '-X',\n",
       "            'X (benchmarking)']],\n",
       "  \n",
       "          [['-Y', 'X (benchmarking)', 'X', ..., 'X (benchmarking)', 'Y',\n",
       "            'X (benchmarking)'],\n",
       "           ['I', 'X (benchmarking)', '-X', ..., 'X (benchmarking)', 'Y',\n",
       "            'X (benchmarking)'],\n",
       "           ['-Y', 'X (benchmarking)', 'X', ..., 'X (benchmarking)', 'X',\n",
       "            'X (benchmarking)'],\n",
       "           ['I', 'X (benchmarking)', 'I', ..., 'X (benchmarking)', 'Y',\n",
       "            'X (benchmarking)'],\n",
       "           ['-Y', 'X (benchmarking)', 'I', ..., 'X (benchmarking)', 'Y',\n",
       "            'X (benchmarking)'],\n",
       "           ['Y', 'X (benchmarking)', '-X', ..., 'X (benchmarking)', '-X',\n",
       "            'X (benchmarking)']],\n",
       "  \n",
       "          ..., \n",
       "          [['-Y', 'X (benchmarking)', 'X', ..., 'X (benchmarking)', 'Y',\n",
       "            'X (benchmarking)'],\n",
       "           ['I', 'X (benchmarking)', '-X', ..., 'X (benchmarking)', 'Y',\n",
       "            'X (benchmarking)'],\n",
       "           ['-Y', 'X (benchmarking)', 'X', ..., 'X (benchmarking)', 'X',\n",
       "            'X (benchmarking)'],\n",
       "           ['I', 'X (benchmarking)', 'I', ..., 'X (benchmarking)', 'Y',\n",
       "            'X (benchmarking)'],\n",
       "           ['-Y', 'X (benchmarking)', 'I', ..., 'X (benchmarking)', 'Y',\n",
       "            'X (benchmarking)'],\n",
       "           ['Y', 'X (benchmarking)', '-X', ..., 'X (benchmarking)', '-X',\n",
       "            'X (benchmarking)']],\n",
       "  \n",
       "          [['-Y', 'X (benchmarking)', 'X', ..., 'X (benchmarking)', 'Y',\n",
       "            'X (benchmarking)'],\n",
       "           ['I', 'X (benchmarking)', '-X', ..., 'X (benchmarking)', 'Y',\n",
       "            'X (benchmarking)'],\n",
       "           ['-Y', 'X (benchmarking)', 'X', ..., 'X (benchmarking)', 'X',\n",
       "            'X (benchmarking)'],\n",
       "           ['I', 'X (benchmarking)', 'I', ..., 'X (benchmarking)', 'Y',\n",
       "            'X (benchmarking)'],\n",
       "           ['-Y', 'X (benchmarking)', 'I', ..., 'X (benchmarking)', 'Y',\n",
       "            'X (benchmarking)'],\n",
       "           ['Y', 'X (benchmarking)', '-X', ..., 'X (benchmarking)', '-X',\n",
       "            'X (benchmarking)']],\n",
       "  \n",
       "          [['-Y', 'X (benchmarking)', 'X', ..., 'X (benchmarking)', 'Y',\n",
       "            'X (benchmarking)'],\n",
       "           ['I', 'X (benchmarking)', '-X', ..., 'X (benchmarking)', 'Y',\n",
       "            'X (benchmarking)'],\n",
       "           ['-Y', 'X (benchmarking)', 'X', ..., 'X (benchmarking)', 'X',\n",
       "            'X (benchmarking)'],\n",
       "           ['I', 'X (benchmarking)', 'I', ..., 'X (benchmarking)', 'Y',\n",
       "            'X (benchmarking)'],\n",
       "           ['-Y', 'X (benchmarking)', 'I', ..., 'X (benchmarking)', 'Y',\n",
       "            'X (benchmarking)'],\n",
       "           ['Y', 'X (benchmarking)', '-X', ..., 'X (benchmarking)', '-X',\n",
       "            'X (benchmarking)']]]], dtype=object),\n",
       "  {}),\n",
       " 'Xo': (('Amplitude', 'HD DRAG coeff', 'Interleaving sequence id'),\n",
       "  (array([ 0.925 ,  0.9275,  0.93  ,  0.9325,  0.935 ,  0.9375,  0.94  ,\n",
       "           0.9425,  0.945 ,  0.9475,  0.95  ,  0.9525,  0.955 ,  0.9575,\n",
       "           0.96  ,  0.9625,  0.965 ,  0.9675,  0.97  ,  0.9725,  0.975 ]),\n",
       "   array([ -2.00000000e-09,  -1.60000000e-09,  -1.20000000e-09,\n",
       "           -8.00000000e-10,  -4.00000000e-10,   0.00000000e+00,\n",
       "            4.00000000e-10,   8.00000000e-10,   1.20000000e-09,\n",
       "            1.60000000e-09,   2.00000000e-09]),\n",
       "   array([0, 1, 2, 3, 4, 5])),\n",
       "  array([[[ 0.1075 , -0.18025, -0.0957 , -0.0943 ,  0.05295, -0.19785],\n",
       "          [ 0.0582 , -0.1967 , -0.1279 , -0.0819 ,  0.05375, -0.18425],\n",
       "          [ 0.15755, -0.20595, -0.1477 , -0.07205,  0.0679 , -0.16885],\n",
       "          ..., \n",
       "          [ 0.16175, -0.26525, -0.2579 ,  0.0441 ,  0.0909 , -0.1535 ],\n",
       "          [ 0.1631 , -0.2692 , -0.27095,  0.05895,  0.09275, -0.1632 ],\n",
       "          [ 0.14405, -0.2585 , -0.2742 ,  0.0757 ,  0.10225, -0.17885]],\n",
       "  \n",
       "         [[ 0.11205, -0.18015, -0.09735, -0.08905,  0.0504 , -0.1893 ],\n",
       "          [ 0.13875, -0.1939 , -0.12035, -0.07665,  0.0557 , -0.18   ],\n",
       "          [ 0.1548 , -0.2048 , -0.1571 , -0.0735 ,  0.06065, -0.1771 ],\n",
       "          ..., \n",
       "          [ 0.1723 , -0.2688 , -0.2637 ,  0.0448 ,  0.09195, -0.1493 ],\n",
       "          [ 0.1583 , -0.27245, -0.27685,  0.0691 ,  0.05955, -0.1604 ],\n",
       "          [ 0.14575, -0.2615 , -0.27945,  0.07535,  0.10465, -0.18525]],\n",
       "  \n",
       "         [[ 0.11175, -0.1805 , -0.09585, -0.08975,  0.0457 , -0.19285],\n",
       "          [ 0.1398 , -0.19575, -0.12325, -0.07775,  0.0559 , -0.1827 ],\n",
       "          [ 0.1461 , -0.2045 , -0.1606 , -0.0674 ,  0.055  , -0.17185],\n",
       "          ..., \n",
       "          [ 0.1657 , -0.26395, -0.26265,  0.0312 ,  0.09345, -0.1538 ],\n",
       "          [ 0.1519 , -0.27105, -0.2707 ,  0.0715 ,  0.0936 , -0.1657 ],\n",
       "          [ 0.14405, -0.26735, -0.2814 ,  0.0863 ,  0.09825, -0.17955]],\n",
       "  \n",
       "         ..., \n",
       "         [[ 0.12965, -0.15175, -0.11865, -0.0655 ,  0.05785, -0.2061 ],\n",
       "          [ 0.1405 , -0.1845 , -0.1458 , -0.05325,  0.0662 , -0.1867 ],\n",
       "          [ 0.15315, -0.1821 , -0.172  , -0.03055,  0.06245, -0.18235],\n",
       "          ..., \n",
       "          [ 0.1493 , -0.2595 , -0.2636 ,  0.09115,  0.09475, -0.15425],\n",
       "          [ 0.1342 , -0.27125, -0.2826 ,  0.11525,  0.09755, -0.15565],\n",
       "          [ 0.1169 , -0.2674 , -0.2701 ,  0.14085,  0.09845, -0.1739 ]],\n",
       "  \n",
       "         [[ 0.1214 , -0.14065, -0.1179 , -0.06395,  0.0507 , -0.19475],\n",
       "          [ 0.1492 , -0.16235, -0.14735, -0.0502 ,  0.0652 , -0.19185],\n",
       "          [ 0.151  , -0.17515, -0.166  , -0.02955,  0.0711 , -0.17295],\n",
       "          ..., \n",
       "          [ 0.14545, -0.26845, -0.272  ,  0.0995 ,  0.0986 , -0.1535 ],\n",
       "          [ 0.12955, -0.2696 , -0.27295,  0.115  ,  0.0998 , -0.1564 ],\n",
       "          [ 0.11145, -0.27295, -0.27515,  0.142  ,  0.10775, -0.17675]],\n",
       "  \n",
       "         [[ 0.1239 , -0.14185, -0.12135, -0.0646 ,  0.0551 , -0.20565],\n",
       "          [ 0.1436 , -0.16285, -0.14765, -0.05085,  0.0615 , -0.1884 ],\n",
       "          [ 0.15425, -0.18015, -0.1692 , -0.03015,  0.06515, -0.1818 ],\n",
       "          ..., \n",
       "          [ 0.1424 , -0.27025, -0.2721 ,  0.09415,  0.1019 , -0.1491 ],\n",
       "          [ 0.12745, -0.2764 , -0.27135,  0.12035,  0.10625, -0.16125],\n",
       "          [ 0.1131 , -0.27175, -0.284  ,  0.1337 ,  0.1041 , -0.17035]]]),\n",
       "  {}),\n",
       " 'Yo': (('Amplitude', 'HD DRAG coeff', 'Interleaving sequence id'),\n",
       "  (array([ 0.925 ,  0.9275,  0.93  ,  0.9325,  0.935 ,  0.9375,  0.94  ,\n",
       "           0.9425,  0.945 ,  0.9475,  0.95  ,  0.9525,  0.955 ,  0.9575,\n",
       "           0.96  ,  0.9625,  0.965 ,  0.9675,  0.97  ,  0.9725,  0.975 ]),\n",
       "   array([ -2.00000000e-09,  -1.60000000e-09,  -1.20000000e-09,\n",
       "           -8.00000000e-10,  -4.00000000e-10,   0.00000000e+00,\n",
       "            4.00000000e-10,   8.00000000e-10,   1.20000000e-09,\n",
       "            1.60000000e-09,   2.00000000e-09]),\n",
       "   array([0, 1, 2, 3, 4, 5])),\n",
       "  array([[[ 0.1746 ,  0.1786 , -0.19705, -0.22865,  0.20875, -0.0013 ],\n",
       "          [ 0.1611 ,  0.16315, -0.20475, -0.24835,  0.20855,  0.00755],\n",
       "          [ 0.1462 ,  0.1567 , -0.19445, -0.25245,  0.2123 ,  0.01685],\n",
       "          ..., \n",
       "          [ 0.0844 ,  0.01825, -0.11215, -0.2702 ,  0.2081 ,  0.1198 ],\n",
       "          [ 0.0902 , -0.0179 , -0.0927 , -0.2604 ,  0.2048 ,  0.139  ],\n",
       "          [ 0.09785, -0.0572 , -0.05835, -0.24975,  0.1928 ,  0.14445]],\n",
       "  \n",
       "         [[ 0.1886 ,  0.1804 , -0.20035, -0.23985,  0.2088 , -0.0042 ],\n",
       "          [ 0.1634 ,  0.17145, -0.1977 , -0.24695,  0.20895,  0.0096 ],\n",
       "          [ 0.15475,  0.16285, -0.1908 , -0.2597 ,  0.21125,  0.0165 ],\n",
       "          ..., \n",
       "          [ 0.09045,  0.0151 , -0.10795, -0.2632 ,  0.188  ,  0.1229 ],\n",
       "          [ 0.0828 , -0.01665, -0.0893 , -0.2596 ,  0.19855,  0.13685],\n",
       "          [ 0.10675, -0.04595, -0.06385, -0.2498 ,  0.1909 ,  0.14245]],\n",
       "  \n",
       "         [[ 0.1733 ,  0.18095, -0.20025, -0.23395,  0.21595, -0.00625],\n",
       "          [ 0.16795,  0.17485, -0.1978 , -0.24905,  0.21615,  0.00615],\n",
       "          [ 0.1479 ,  0.1563 , -0.18995, -0.2587 ,  0.20415,  0.0213 ],\n",
       "          ..., \n",
       "          [ 0.0801 ,  0.0241 , -0.1119 , -0.25785,  0.2061 ,  0.1175 ],\n",
       "          [ 0.09335, -0.01325, -0.08155, -0.25855,  0.1978 ,  0.1332 ],\n",
       "          [ 0.0983 , -0.04735, -0.05965, -0.248  ,  0.1926 ,  0.14135]],\n",
       "  \n",
       "         ..., \n",
       "         [[ 0.1622 ,  0.2073 , -0.1504 , -0.2683 ,  0.20185, -0.01605],\n",
       "          [ 0.1522 ,  0.1998 , -0.14   , -0.27335,  0.19645, -0.00595],\n",
       "          [ 0.13945,  0.1918 , -0.14015, -0.2718 ,  0.18815,  0.00125],\n",
       "          ..., \n",
       "          [ 0.0709 ,  0.0561 , -0.0635 , -0.2264 ,  0.1958 ,  0.1176 ],\n",
       "          [ 0.089  ,  0.021  , -0.041  , -0.21075,  0.2056 ,  0.1404 ],\n",
       "          [ 0.10045, -0.0132 , -0.02525, -0.20255,  0.19595,  0.14   ]],\n",
       "  \n",
       "         [[ 0.1599 ,  0.20535, -0.14075, -0.26615,  0.1969 , -0.0167 ],\n",
       "          [ 0.15025,  0.1974 , -0.14185, -0.2722 ,  0.188  , -0.0078 ],\n",
       "          [ 0.12605,  0.1859 , -0.14025, -0.26545,  0.1916 ,  0.00995],\n",
       "          ..., \n",
       "          [ 0.07415,  0.0603 , -0.0636 , -0.22305,  0.19935,  0.1203 ],\n",
       "          [ 0.08605,  0.02045, -0.0469 , -0.21435,  0.19765,  0.13095],\n",
       "          [ 0.09175, -0.0086 , -0.0276 , -0.2011 ,  0.1956 ,  0.1421 ]],\n",
       "  \n",
       "         [[ 0.16505,  0.20075, -0.1412 , -0.2599 ,  0.19395, -0.0189 ],\n",
       "          [ 0.1423 ,  0.2081 , -0.1358 , -0.27045,  0.18505, -0.0105 ],\n",
       "          [ 0.12675,  0.18615, -0.1336 , -0.27185,  0.1817 ,  0.0004 ],\n",
       "          ..., \n",
       "          [ 0.0669 ,  0.0638 , -0.05675, -0.23175,  0.1987 ,  0.10795],\n",
       "          [ 0.07315,  0.03285, -0.03975, -0.2049 ,  0.19725,  0.13675],\n",
       "          [ 0.0965 , -0.0141 , -0.02425, -0.1973 ,  0.19505,  0.14635]]]),\n",
       "  {}),\n",
       " 'Zo': (('Amplitude', 'HD DRAG coeff', 'Interleaving sequence id'),\n",
       "  (array([ 0.925 ,  0.9275,  0.93  ,  0.9325,  0.935 ,  0.9375,  0.94  ,\n",
       "           0.9425,  0.945 ,  0.9475,  0.95  ,  0.9525,  0.955 ,  0.9575,\n",
       "           0.96  ,  0.9625,  0.965 ,  0.9675,  0.97  ,  0.9725,  0.975 ]),\n",
       "   array([ -2.00000000e-09,  -1.60000000e-09,  -1.20000000e-09,\n",
       "           -8.00000000e-10,  -4.00000000e-10,   0.00000000e+00,\n",
       "            4.00000000e-10,   8.00000000e-10,   1.20000000e-09,\n",
       "            1.60000000e-09,   2.00000000e-09]),\n",
       "   array([0, 1, 2, 3, 4, 5])),\n",
       "  array([[[ -7.75000000e-02,  -3.05000000e-02,   1.37750000e-01,\n",
       "             9.00000000e-02,   7.21000000e-02,  -2.09700000e-01],\n",
       "          [ -6.95000000e-02,  -2.95000000e-02,   1.23550000e-01,\n",
       "             6.12000000e-02,   7.21000000e-02,  -2.21500000e-01],\n",
       "          [ -6.73500000e-02,  -4.23500000e-02,   1.09600000e-01,\n",
       "             3.57000000e-02,   6.97500000e-02,  -2.27300000e-01],\n",
       "          ..., \n",
       "          [ -1.08200000e-01,  -8.79500000e-02,   3.60000000e-03,\n",
       "            -6.71000000e-02,  -7.50000000e-04,  -1.91900000e-01],\n",
       "          [ -1.13900000e-01,  -9.71000000e-02,  -5.25000000e-03,\n",
       "            -7.46000000e-02,  -2.61000000e-02,  -1.75300000e-01],\n",
       "          [ -1.22200000e-01,  -1.09450000e-01,  -9.15000000e-03,\n",
       "            -7.58500000e-02,  -3.99500000e-02,  -1.58950000e-01]],\n",
       "  \n",
       "         [[ -7.74500000e-02,  -3.38000000e-02,   1.35400000e-01,\n",
       "             8.21000000e-02,   7.39500000e-02,  -2.15000000e-01],\n",
       "          [ -7.24000000e-02,  -3.23500000e-02,   1.25150000e-01,\n",
       "             5.49500000e-02,   7.35000000e-02,  -2.17750000e-01],\n",
       "          [ -6.68000000e-02,  -3.71500000e-02,   1.10550000e-01,\n",
       "             2.64000000e-02,   7.11000000e-02,  -2.28650000e-01],\n",
       "          ..., \n",
       "          [ -1.14950000e-01,  -8.40500000e-02,   6.15000000e-03,\n",
       "            -7.19500000e-02,  -8.85000000e-03,  -1.96500000e-01],\n",
       "          [ -1.18850000e-01,  -9.76500000e-02,  -2.10000000e-03,\n",
       "            -7.81500000e-02,  -2.27000000e-02,  -1.79350000e-01],\n",
       "          [ -1.28350000e-01,  -1.10150000e-01,  -6.15000000e-03,\n",
       "            -8.23000000e-02,  -4.93000000e-02,  -1.58750000e-01]],\n",
       "  \n",
       "         [[ -8.52000000e-02,  -3.46000000e-02,   1.37950000e-01,\n",
       "             7.19500000e-02,   7.74000000e-02,  -2.14000000e-01],\n",
       "          [ -7.02500000e-02,  -3.13000000e-02,   1.23000000e-01,\n",
       "             4.32500000e-02,   8.58500000e-02,  -2.22150000e-01],\n",
       "          [ -6.23000000e-02,  -3.49000000e-02,   1.08750000e-01,\n",
       "             2.51000000e-02,   6.91500000e-02,  -2.36600000e-01],\n",
       "          ..., \n",
       "          [ -1.15400000e-01,  -8.97500000e-02,   7.15000000e-03,\n",
       "            -7.85000000e-02,   3.65000000e-03,  -1.96100000e-01],\n",
       "          [ -1.30300000e-01,  -9.90000000e-02,  -1.50000000e-04,\n",
       "            -7.77000000e-02,  -2.56000000e-02,  -1.76400000e-01],\n",
       "          [ -1.31350000e-01,  -1.03600000e-01,   2.25000000e-03,\n",
       "            -8.34000000e-02,  -4.00500000e-02,  -1.56650000e-01]],\n",
       "  \n",
       "         ..., \n",
       "         [[ -9.95000000e-02,  -3.24500000e-02,   1.76850000e-01,\n",
       "             7.15000000e-03,   1.15400000e-01,  -2.16650000e-01],\n",
       "          [ -1.00050000e-01,  -2.33500000e-02,   1.61200000e-01,\n",
       "            -2.74000000e-02,   1.17350000e-01,  -2.25550000e-01],\n",
       "          [ -9.88500000e-02,  -2.01000000e-02,   1.55900000e-01,\n",
       "            -4.12500000e-02,   1.24050000e-01,  -2.29100000e-01],\n",
       "          ..., \n",
       "          [ -1.49800000e-01,  -7.88500000e-02,   3.70000000e-02,\n",
       "            -1.35800000e-01,   3.25000000e-02,  -1.95450000e-01],\n",
       "          [ -1.58600000e-01,  -9.44500000e-02,   3.46000000e-02,\n",
       "            -1.25500000e-01,   8.75000000e-03,  -1.80250000e-01],\n",
       "          [ -1.62650000e-01,  -1.03500000e-01,   2.82500000e-02,\n",
       "            -1.28100000e-01,  -9.35000000e-03,  -1.67350000e-01]],\n",
       "  \n",
       "         [[ -1.16650000e-01,  -2.67000000e-02,   1.79550000e-01,\n",
       "            -2.85000000e-03,   1.23750000e-01,  -2.04300000e-01],\n",
       "          [ -9.91500000e-02,  -1.91000000e-02,   1.63950000e-01,\n",
       "            -2.53500000e-02,   1.23450000e-01,  -2.21200000e-01],\n",
       "          [ -9.72000000e-02,  -1.69000000e-02,   1.57450000e-01,\n",
       "            -5.06500000e-02,   1.13200000e-01,  -2.30250000e-01],\n",
       "          ..., \n",
       "          [ -1.56200000e-01,  -7.33000000e-02,   4.99000000e-02,\n",
       "            -1.37800000e-01,   3.21500000e-02,  -2.06450000e-01],\n",
       "          [ -1.62150000e-01,  -9.25000000e-02,   3.86500000e-02,\n",
       "            -1.30300000e-01,   1.33500000e-02,  -1.90150000e-01],\n",
       "          [ -1.61450000e-01,  -1.07500000e-01,   3.53500000e-02,\n",
       "            -1.22500000e-01,  -1.22000000e-02,  -1.71400000e-01]],\n",
       "  \n",
       "         [[ -1.07900000e-01,  -2.08500000e-02,   1.75450000e-01,\n",
       "            -3.25000000e-03,   1.24750000e-01,  -2.11050000e-01],\n",
       "          [ -1.05800000e-01,  -1.37500000e-02,   1.70200000e-01,\n",
       "            -3.53500000e-02,   1.19400000e-01,  -2.25000000e-01],\n",
       "          [ -9.67500000e-02,  -2.27500000e-02,   1.56300000e-01,\n",
       "            -5.75500000e-02,   1.22350000e-01,  -2.29050000e-01],\n",
       "          ..., \n",
       "          [ -1.59400000e-01,  -7.53500000e-02,   4.80000000e-02,\n",
       "            -1.32950000e-01,   3.59000000e-02,  -2.12550000e-01],\n",
       "          [ -1.65900000e-01,  -8.70500000e-02,   3.40500000e-02,\n",
       "            -1.34850000e-01,   1.82500000e-02,  -1.99100000e-01],\n",
       "          [ -1.69800000e-01,  -1.03500000e-01,   2.84000000e-02,\n",
       "            -1.30550000e-01,  -6.55000000e-03,  -1.67500000e-01]]]),\n",
       "  {}),\n",
       " 'x': (('Amplitude', 'HD DRAG coeff', 'Interleaving sequence id'),\n",
       "  (array([ 0.925 ,  0.9275,  0.93  ,  0.9325,  0.935 ,  0.9375,  0.94  ,\n",
       "           0.9425,  0.945 ,  0.9475,  0.95  ,  0.9525,  0.955 ,  0.9575,\n",
       "           0.96  ,  0.9625,  0.965 ,  0.9675,  0.97  ,  0.9725,  0.975 ]),\n",
       "   array([ -2.00000000e-09,  -1.60000000e-09,  -1.20000000e-09,\n",
       "           -8.00000000e-10,  -4.00000000e-10,   0.00000000e+00,\n",
       "            4.00000000e-10,   8.00000000e-10,   1.20000000e-09,\n",
       "            1.60000000e-09,   2.00000000e-09]),\n",
       "   array([0, 1, 2, 3, 4, 5])),\n",
       "  array([[[ 0.139725, -0.15555 , -0.079775, -0.080725,  0.081775, -0.172675],\n",
       "          [ 0.12105 , -0.169475, -0.109125, -0.0668  ,  0.08265 , -0.16165 ],\n",
       "          [ 0.180775, -0.181925, -0.13495 , -0.05425 ,  0.09325 , -0.147225],\n",
       "          ..., \n",
       "          [ 0.1875  , -0.2439  , -0.242925,  0.05295 ,  0.1153  , -0.12725 ],\n",
       "          [ 0.184225, -0.251   , -0.25355 ,  0.07265 ,  0.118275, -0.139075],\n",
       "          [ 0.169625, -0.242225, -0.253475,  0.091   ,  0.128875, -0.151875]],\n",
       "  \n",
       "         [[ 0.1394  , -0.15145 , -0.0832  , -0.07505 ,  0.0786  , -0.165475],\n",
       "          [ 0.162575, -0.16935 , -0.10735 , -0.06405 ,  0.08475 , -0.15685 ],\n",
       "          [ 0.17785 , -0.17795 , -0.1427  , -0.05565 ,  0.091   , -0.149775],\n",
       "          ..., \n",
       "          [ 0.192075, -0.250075, -0.2445  ,  0.0552  ,  0.113225, -0.1271  ],\n",
       "          [ 0.176625, -0.249725, -0.253075,  0.0814  ,  0.1053  , -0.13425 ],\n",
       "          [ 0.168325, -0.241675, -0.261475,  0.0983  ,  0.12915 , -0.156325]],\n",
       "  \n",
       "         [[ 0.141   , -0.15435 , -0.0795  , -0.076675,  0.076225, -0.171075],\n",
       "          [ 0.167525, -0.166025, -0.107375, -0.0645  ,  0.0852  , -0.159575],\n",
       "          [ 0.17535 , -0.17875 , -0.14485 , -0.053225,  0.085975, -0.15095 ],\n",
       "          ..., \n",
       "          [ 0.18655 , -0.2459  , -0.243325,  0.0524  ,  0.119   , -0.128125],\n",
       "          [ 0.175575, -0.251425, -0.2521  ,  0.083925,  0.119225, -0.139425],\n",
       "          [ 0.168575, -0.247725, -0.261775,  0.100225,  0.127125, -0.15395 ]],\n",
       "  \n",
       "         ..., \n",
       "         [[ 0.15305 , -0.12105 , -0.108975, -0.0546  ,  0.08315 , -0.1828  ],\n",
       "          [ 0.16925 , -0.147375, -0.128575, -0.041375,  0.0938  , -0.165525],\n",
       "          [ 0.18    , -0.156825, -0.15775 , -0.0183  ,  0.09525 , -0.1595  ],\n",
       "          ..., \n",
       "          [ 0.16905 , -0.24295 , -0.2505  ,  0.107625,  0.122   , -0.12725 ],\n",
       "          [ 0.1585  , -0.2495  , -0.262375,  0.125425,  0.122925, -0.131475],\n",
       "          [ 0.13795 , -0.246825, -0.25235 ,  0.152625,  0.12315 , -0.148675]],\n",
       "  \n",
       "         [[ 0.1467  , -0.1152  , -0.10575 , -0.05205 ,  0.0764  , -0.17345 ],\n",
       "          [ 0.171975, -0.1351  , -0.1323  , -0.031175,  0.0879  , -0.163875],\n",
       "          [ 0.17715 , -0.1473  , -0.152825, -0.018125,  0.095775, -0.1559  ],\n",
       "          ..., \n",
       "          [ 0.165625, -0.2447  , -0.25285 ,  0.112625,  0.121125, -0.126975],\n",
       "          [ 0.15955 , -0.24745 , -0.2547  ,  0.12825 ,  0.127   , -0.132875],\n",
       "          [ 0.1341  , -0.2503  , -0.260525,  0.15565 ,  0.13285 , -0.146425]],\n",
       "  \n",
       "         [[ 0.1458  , -0.11655 , -0.111225, -0.0559  ,  0.083425, -0.17965 ],\n",
       "          [ 0.166175, -0.135425, -0.13125 , -0.03575 ,  0.087025, -0.165775],\n",
       "          [ 0.178575, -0.151475, -0.156425, -0.0185  ,  0.0934  , -0.1538  ],\n",
       "          ..., \n",
       "          [ 0.1657  , -0.24405 , -0.252025,  0.114075,  0.1277  , -0.120625],\n",
       "          [ 0.1543  , -0.2498  , -0.252   ,  0.135375,  0.1287  , -0.1368  ],\n",
       "          [ 0.1397  , -0.253925, -0.259225,  0.154275,  0.129275, -0.145   ]]]),\n",
       "  {}),\n",
       " 'x fit': (('Amplitude', 'HD DRAG coeff', 'Interleaving sequence id'),\n",
       "  (array([ 0.925 ,  0.9275,  0.93  ,  0.9325,  0.935 ,  0.9375,  0.94  ,\n",
       "           0.9425,  0.945 ,  0.9475,  0.95  ,  0.9525,  0.955 ,  0.9575,\n",
       "           0.96  ,  0.9625,  0.965 ,  0.9675,  0.97  ,  0.9725,  0.975 ]),\n",
       "   array([ -2.00000000e-09,  -1.60000000e-09,  -1.20000000e-09,\n",
       "           -8.00000000e-10,  -4.00000000e-10,   0.00000000e+00,\n",
       "            4.00000000e-10,   8.00000000e-10,   1.20000000e-09,\n",
       "            1.60000000e-09,   2.00000000e-09]),\n",
       "   array([0, 1, 2, 3, 4, 5])),\n",
       "  array([[[ 0. ,  0. ,  0. ,  0.5,  0. ,  0. ],\n",
       "          [ 0. ,  0. ,  0. ,  0.5,  0. ,  0. ],\n",
       "          [ 0. ,  0. ,  0. ,  0.5,  0. ,  0. ],\n",
       "          ..., \n",
       "          [ 0. ,  0. ,  0. ,  0.5,  0. ,  0. ],\n",
       "          [ 0. ,  0. ,  0. ,  0.5,  0. ,  0. ],\n",
       "          [ 0. ,  0. ,  0. ,  0.5,  0. ,  0. ]],\n",
       "  \n",
       "         [[ 0. ,  0. ,  0. ,  0.5,  0. ,  0. ],\n",
       "          [ 0. ,  0. ,  0. ,  0.5,  0. ,  0. ],\n",
       "          [ 0. ,  0. ,  0. ,  0.5,  0. ,  0. ],\n",
       "          ..., \n",
       "          [ 0. ,  0. ,  0. ,  0.5,  0. ,  0. ],\n",
       "          [ 0. ,  0. ,  0. ,  0.5,  0. ,  0. ],\n",
       "          [ 0. ,  0. ,  0. ,  0.5,  0. ,  0. ]],\n",
       "  \n",
       "         [[ 0. ,  0. ,  0. ,  0.5,  0. ,  0. ],\n",
       "          [ 0. ,  0. ,  0. ,  0.5,  0. ,  0. ],\n",
       "          [ 0. ,  0. ,  0. ,  0.5,  0. ,  0. ],\n",
       "          ..., \n",
       "          [ 0. ,  0. ,  0. ,  0.5,  0. ,  0. ],\n",
       "          [ 0. ,  0. ,  0. ,  0.5,  0. ,  0. ],\n",
       "          [ 0. ,  0. ,  0. ,  0.5,  0. ,  0. ]],\n",
       "  \n",
       "         ..., \n",
       "         [[ 0. ,  0. ,  0. ,  0.5,  0. ,  0. ],\n",
       "          [ 0. ,  0. ,  0. ,  0.5,  0. ,  0. ],\n",
       "          [ 0. ,  0. ,  0. ,  0.5,  0. ,  0. ],\n",
       "          ..., \n",
       "          [ 0. ,  0. ,  0. ,  0.5,  0. ,  0. ],\n",
       "          [ 0. ,  0. ,  0. ,  0.5,  0. ,  0. ],\n",
       "          [ 0. ,  0. ,  0. ,  0.5,  0. ,  0. ]],\n",
       "  \n",
       "         [[ 0. ,  0. ,  0. ,  0.5,  0. ,  0. ],\n",
       "          [ 0. ,  0. ,  0. ,  0.5,  0. ,  0. ],\n",
       "          [ 0. ,  0. ,  0. ,  0.5,  0. ,  0. ],\n",
       "          ..., \n",
       "          [ 0. ,  0. ,  0. ,  0.5,  0. ,  0. ],\n",
       "          [ 0. ,  0. ,  0. ,  0.5,  0. ,  0. ],\n",
       "          [ 0. ,  0. ,  0. ,  0.5,  0. ,  0. ]],\n",
       "  \n",
       "         [[ 0. ,  0. ,  0. ,  0.5,  0. ,  0. ],\n",
       "          [ 0. ,  0. ,  0. ,  0.5,  0. ,  0. ],\n",
       "          [ 0. ,  0. ,  0. ,  0.5,  0. ,  0. ],\n",
       "          ..., \n",
       "          [ 0. ,  0. ,  0. ,  0.5,  0. ,  0. ],\n",
       "          [ 0. ,  0. ,  0. ,  0.5,  0. ,  0. ],\n",
       "          [ 0. ,  0. ,  0. ,  0.5,  0. ,  0. ]]]),\n",
       "  {}),\n",
       " 'y': (('Amplitude', 'HD DRAG coeff', 'Interleaving sequence id'),\n",
       "  (array([ 0.925 ,  0.9275,  0.93  ,  0.9325,  0.935 ,  0.9375,  0.94  ,\n",
       "           0.9425,  0.945 ,  0.9475,  0.95  ,  0.9525,  0.955 ,  0.9575,\n",
       "           0.96  ,  0.9625,  0.965 ,  0.9675,  0.97  ,  0.9725,  0.975 ]),\n",
       "   array([ -2.00000000e-09,  -1.60000000e-09,  -1.20000000e-09,\n",
       "           -8.00000000e-10,  -4.00000000e-10,   0.00000000e+00,\n",
       "            4.00000000e-10,   8.00000000e-10,   1.20000000e-09,\n",
       "            1.60000000e-09,   2.00000000e-09]),\n",
       "   array([0, 1, 2, 3, 4, 5])),\n",
       "  array([[[ 0.19925 ,  0.200325, -0.177325, -0.208875,  0.23175 ,  0.018275],\n",
       "          [ 0.183125,  0.18625 , -0.181175, -0.227025,  0.23205 ,  0.028725],\n",
       "          [ 0.16835 ,  0.17725 , -0.17325 , -0.23295 ,  0.232   ,  0.040475],\n",
       "          ..., \n",
       "          [ 0.1062  ,  0.0356  , -0.090725, -0.24845 ,  0.226025,  0.1398  ],\n",
       "          [ 0.1102  , -0.001725, -0.07025 , -0.2416  ,  0.22075 ,  0.1541  ],\n",
       "          [ 0.1163  , -0.036925, -0.0424  , -0.231275,  0.210025,  0.1589  ]],\n",
       "  \n",
       "         [[ 0.202375,  0.199575, -0.1797  , -0.216525,  0.231675,  0.0192  ],\n",
       "          [ 0.18645 ,  0.1925  , -0.177375, -0.226075,  0.22905 ,  0.0278  ],\n",
       "          [ 0.172075,  0.182625, -0.16775 , -0.234525,  0.23145 ,  0.039725],\n",
       "          ..., \n",
       "          [ 0.1074  ,  0.03705 , -0.09095 , -0.2457  ,  0.214975,  0.146225],\n",
       "          [ 0.10955 ,  0.002425, -0.06745 , -0.234275,  0.217625,  0.150975],\n",
       "          [ 0.12555 , -0.02795 , -0.0462  , -0.229675,  0.210925,  0.15715 ]],\n",
       "  \n",
       "         [[ 0.195025,  0.2021  , -0.175375, -0.2151  ,  0.2361  ,  0.014175],\n",
       "          [ 0.1879  ,  0.193075, -0.1745  , -0.23105 ,  0.235025,  0.02445 ],\n",
       "          [ 0.16735 ,  0.181225, -0.169175, -0.24135 ,  0.227075,  0.040325],\n",
       "          ..., \n",
       "          [ 0.102025,  0.0409  , -0.0902  , -0.240225,  0.22285 ,  0.138125],\n",
       "          [ 0.111475,  0.006225, -0.0657  , -0.2358  ,  0.2187  ,  0.15095 ],\n",
       "          [ 0.1204  , -0.028575, -0.044775, -0.2254  ,  0.211375,  0.1593  ]],\n",
       "  \n",
       "         ..., \n",
       "         [[ 0.18285 ,  0.23055 , -0.1324  , -0.2446  ,  0.221625,  0.009275],\n",
       "          [ 0.1717  ,  0.217625, -0.122075, -0.25455 ,  0.214625,  0.015175],\n",
       "          [ 0.15605 ,  0.212225, -0.1215  , -0.251   ,  0.21095 ,  0.021875],\n",
       "          ..., \n",
       "          [ 0.09055 ,  0.0762  , -0.04715 , -0.2035  ,  0.2181  ,  0.136925],\n",
       "          [ 0.105575,  0.033675, -0.0276  , -0.190025,  0.224525,  0.153375],\n",
       "          [ 0.12005 ,  0.006075, -0.008275, -0.1794  ,  0.212425,  0.158725]],\n",
       "  \n",
       "         [[ 0.176475,  0.2251  , -0.12155 , -0.242075,  0.2105  ,  0.00405 ],\n",
       "          [ 0.166675,  0.215775, -0.1215  , -0.24955 ,  0.209375,  0.012825],\n",
       "          [ 0.151875,  0.207625, -0.1171  , -0.247975,  0.21045 ,  0.029125],\n",
       "          ..., \n",
       "          [ 0.091075,  0.07495 , -0.048925, -0.19945 ,  0.22145 ,  0.1401  ],\n",
       "          [ 0.108275,  0.03965 , -0.027125, -0.19175 ,  0.216925,  0.152925],\n",
       "          [ 0.115675,  0.005825, -0.0096  , -0.17665 ,  0.21645 ,  0.161725]],\n",
       "  \n",
       "         [[ 0.18645 ,  0.222575, -0.120375, -0.24115 ,  0.213725,  0.002925],\n",
       "          [ 0.162075,  0.223225, -0.115825, -0.251575,  0.2043  ,  0.0128  ],\n",
       "          [ 0.145025,  0.20775 , -0.11555 , -0.25025 ,  0.203525,  0.0224  ],\n",
       "          ..., \n",
       "          [ 0.09505 ,  0.082225, -0.037325, -0.2051  ,  0.219025,  0.13465 ],\n",
       "          [ 0.104   ,  0.04835 , -0.0212  , -0.1837  ,  0.219675,  0.1536  ],\n",
       "          [ 0.119225,  0.002225, -0.005525, -0.173325,  0.2218  ,  0.164025]]]),\n",
       "  {}),\n",
       " 'y fit': (('Amplitude', 'HD DRAG coeff', 'Interleaving sequence id'),\n",
       "  (array([ 0.925 ,  0.9275,  0.93  ,  0.9325,  0.935 ,  0.9375,  0.94  ,\n",
       "           0.9425,  0.945 ,  0.9475,  0.95  ,  0.9525,  0.955 ,  0.9575,\n",
       "           0.96  ,  0.9625,  0.965 ,  0.9675,  0.97  ,  0.9725,  0.975 ]),\n",
       "   array([ -2.00000000e-09,  -1.60000000e-09,  -1.20000000e-09,\n",
       "           -8.00000000e-10,  -4.00000000e-10,   0.00000000e+00,\n",
       "            4.00000000e-10,   8.00000000e-10,   1.20000000e-09,\n",
       "            1.60000000e-09,   2.00000000e-09]),\n",
       "   array([0, 1, 2, 3, 4, 5])),\n",
       "  array([[[-0.5,  0.5,  0. ,  0. ,  0.5, -0.5],\n",
       "          [-0.5,  0.5,  0. ,  0. ,  0.5, -0.5],\n",
       "          [-0.5,  0.5,  0. ,  0. ,  0.5, -0.5],\n",
       "          ..., \n",
       "          [-0.5,  0.5,  0. ,  0. ,  0.5, -0.5],\n",
       "          [-0.5,  0.5,  0. ,  0. ,  0.5, -0.5],\n",
       "          [-0.5,  0.5,  0. ,  0. ,  0.5, -0.5]],\n",
       "  \n",
       "         [[-0.5,  0.5,  0. ,  0. ,  0.5, -0.5],\n",
       "          [-0.5,  0.5,  0. ,  0. ,  0.5, -0.5],\n",
       "          [-0.5,  0.5,  0. ,  0. ,  0.5, -0.5],\n",
       "          ..., \n",
       "          [-0.5,  0.5,  0. ,  0. ,  0.5, -0.5],\n",
       "          [-0.5,  0.5,  0. ,  0. ,  0.5, -0.5],\n",
       "          [-0.5,  0.5,  0. ,  0. ,  0.5, -0.5]],\n",
       "  \n",
       "         [[-0.5,  0.5,  0. ,  0. ,  0.5, -0.5],\n",
       "          [-0.5,  0.5,  0. ,  0. ,  0.5, -0.5],\n",
       "          [-0.5,  0.5,  0. ,  0. ,  0.5, -0.5],\n",
       "          ..., \n",
       "          [-0.5,  0.5,  0. ,  0. ,  0.5, -0.5],\n",
       "          [-0.5,  0.5,  0. ,  0. ,  0.5, -0.5],\n",
       "          [-0.5,  0.5,  0. ,  0. ,  0.5, -0.5]],\n",
       "  \n",
       "         ..., \n",
       "         [[-0.5,  0.5,  0. ,  0. ,  0.5, -0.5],\n",
       "          [-0.5,  0.5,  0. ,  0. ,  0.5, -0.5],\n",
       "          [-0.5,  0.5,  0. ,  0. ,  0.5, -0.5],\n",
       "          ..., \n",
       "          [-0.5,  0.5,  0. ,  0. ,  0.5, -0.5],\n",
       "          [-0.5,  0.5,  0. ,  0. ,  0.5, -0.5],\n",
       "          [-0.5,  0.5,  0. ,  0. ,  0.5, -0.5]],\n",
       "  \n",
       "         [[-0.5,  0.5,  0. ,  0. ,  0.5, -0.5],\n",
       "          [-0.5,  0.5,  0. ,  0. ,  0.5, -0.5],\n",
       "          [-0.5,  0.5,  0. ,  0. ,  0.5, -0.5],\n",
       "          ..., \n",
       "          [-0.5,  0.5,  0. ,  0. ,  0.5, -0.5],\n",
       "          [-0.5,  0.5,  0. ,  0. ,  0.5, -0.5],\n",
       "          [-0.5,  0.5,  0. ,  0. ,  0.5, -0.5]],\n",
       "  \n",
       "         [[-0.5,  0.5,  0. ,  0. ,  0.5, -0.5],\n",
       "          [-0.5,  0.5,  0. ,  0. ,  0.5, -0.5],\n",
       "          [-0.5,  0.5,  0. ,  0. ,  0.5, -0.5],\n",
       "          ..., \n",
       "          [-0.5,  0.5,  0. ,  0. ,  0.5, -0.5],\n",
       "          [-0.5,  0.5,  0. ,  0. ,  0.5, -0.5],\n",
       "          [-0.5,  0.5,  0. ,  0. ,  0.5, -0.5]]]),\n",
       "  {}),\n",
       " 'z': (('Amplitude', 'HD DRAG coeff', 'Interleaving sequence id'),\n",
       "  (array([ 0.925 ,  0.9275,  0.93  ,  0.9325,  0.935 ,  0.9375,  0.94  ,\n",
       "           0.9425,  0.945 ,  0.9475,  0.95  ,  0.9525,  0.955 ,  0.9575,\n",
       "           0.96  ,  0.9625,  0.965 ,  0.9675,  0.97  ,  0.9725,  0.975 ]),\n",
       "   array([ -2.00000000e-09,  -1.60000000e-09,  -1.20000000e-09,\n",
       "           -8.00000000e-10,  -4.00000000e-10,   0.00000000e+00,\n",
       "            4.00000000e-10,   8.00000000e-10,   1.20000000e-09,\n",
       "            1.60000000e-09,   2.00000000e-09]),\n",
       "   array([0, 1, 2, 3, 4, 5])),\n",
       "  array([[[ -7.75000000e-02,  -3.05000000e-02,   1.37750000e-01,\n",
       "             9.00000000e-02,   7.21000000e-02,  -2.09700000e-01],\n",
       "          [ -6.95000000e-02,  -2.95000000e-02,   1.23550000e-01,\n",
       "             6.12000000e-02,   7.21000000e-02,  -2.21500000e-01],\n",
       "          [ -6.73500000e-02,  -4.23500000e-02,   1.09600000e-01,\n",
       "             3.57000000e-02,   6.97500000e-02,  -2.27300000e-01],\n",
       "          ..., \n",
       "          [ -1.08200000e-01,  -8.79500000e-02,   3.60000000e-03,\n",
       "            -6.71000000e-02,  -7.50000000e-04,  -1.91900000e-01],\n",
       "          [ -1.13900000e-01,  -9.71000000e-02,  -5.25000000e-03,\n",
       "            -7.46000000e-02,  -2.61000000e-02,  -1.75300000e-01],\n",
       "          [ -1.22200000e-01,  -1.09450000e-01,  -9.15000000e-03,\n",
       "            -7.58500000e-02,  -3.99500000e-02,  -1.58950000e-01]],\n",
       "  \n",
       "         [[ -7.74500000e-02,  -3.38000000e-02,   1.35400000e-01,\n",
       "             8.21000000e-02,   7.39500000e-02,  -2.15000000e-01],\n",
       "          [ -7.24000000e-02,  -3.23500000e-02,   1.25150000e-01,\n",
       "             5.49500000e-02,   7.35000000e-02,  -2.17750000e-01],\n",
       "          [ -6.68000000e-02,  -3.71500000e-02,   1.10550000e-01,\n",
       "             2.64000000e-02,   7.11000000e-02,  -2.28650000e-01],\n",
       "          ..., \n",
       "          [ -1.14950000e-01,  -8.40500000e-02,   6.15000000e-03,\n",
       "            -7.19500000e-02,  -8.85000000e-03,  -1.96500000e-01],\n",
       "          [ -1.18850000e-01,  -9.76500000e-02,  -2.10000000e-03,\n",
       "            -7.81500000e-02,  -2.27000000e-02,  -1.79350000e-01],\n",
       "          [ -1.28350000e-01,  -1.10150000e-01,  -6.15000000e-03,\n",
       "            -8.23000000e-02,  -4.93000000e-02,  -1.58750000e-01]],\n",
       "  \n",
       "         [[ -8.52000000e-02,  -3.46000000e-02,   1.37950000e-01,\n",
       "             7.19500000e-02,   7.74000000e-02,  -2.14000000e-01],\n",
       "          [ -7.02500000e-02,  -3.13000000e-02,   1.23000000e-01,\n",
       "             4.32500000e-02,   8.58500000e-02,  -2.22150000e-01],\n",
       "          [ -6.23000000e-02,  -3.49000000e-02,   1.08750000e-01,\n",
       "             2.51000000e-02,   6.91500000e-02,  -2.36600000e-01],\n",
       "          ..., \n",
       "          [ -1.15400000e-01,  -8.97500000e-02,   7.15000000e-03,\n",
       "            -7.85000000e-02,   3.65000000e-03,  -1.96100000e-01],\n",
       "          [ -1.30300000e-01,  -9.90000000e-02,  -1.50000000e-04,\n",
       "            -7.77000000e-02,  -2.56000000e-02,  -1.76400000e-01],\n",
       "          [ -1.31350000e-01,  -1.03600000e-01,   2.25000000e-03,\n",
       "            -8.34000000e-02,  -4.00500000e-02,  -1.56650000e-01]],\n",
       "  \n",
       "         ..., \n",
       "         [[ -9.95000000e-02,  -3.24500000e-02,   1.76850000e-01,\n",
       "             7.15000000e-03,   1.15400000e-01,  -2.16650000e-01],\n",
       "          [ -1.00050000e-01,  -2.33500000e-02,   1.61200000e-01,\n",
       "            -2.74000000e-02,   1.17350000e-01,  -2.25550000e-01],\n",
       "          [ -9.88500000e-02,  -2.01000000e-02,   1.55900000e-01,\n",
       "            -4.12500000e-02,   1.24050000e-01,  -2.29100000e-01],\n",
       "          ..., \n",
       "          [ -1.49800000e-01,  -7.88500000e-02,   3.70000000e-02,\n",
       "            -1.35800000e-01,   3.25000000e-02,  -1.95450000e-01],\n",
       "          [ -1.58600000e-01,  -9.44500000e-02,   3.46000000e-02,\n",
       "            -1.25500000e-01,   8.75000000e-03,  -1.80250000e-01],\n",
       "          [ -1.62650000e-01,  -1.03500000e-01,   2.82500000e-02,\n",
       "            -1.28100000e-01,  -9.35000000e-03,  -1.67350000e-01]],\n",
       "  \n",
       "         [[ -1.16650000e-01,  -2.67000000e-02,   1.79550000e-01,\n",
       "            -2.85000000e-03,   1.23750000e-01,  -2.04300000e-01],\n",
       "          [ -9.91500000e-02,  -1.91000000e-02,   1.63950000e-01,\n",
       "            -2.53500000e-02,   1.23450000e-01,  -2.21200000e-01],\n",
       "          [ -9.72000000e-02,  -1.69000000e-02,   1.57450000e-01,\n",
       "            -5.06500000e-02,   1.13200000e-01,  -2.30250000e-01],\n",
       "          ..., \n",
       "          [ -1.56200000e-01,  -7.33000000e-02,   4.99000000e-02,\n",
       "            -1.37800000e-01,   3.21500000e-02,  -2.06450000e-01],\n",
       "          [ -1.62150000e-01,  -9.25000000e-02,   3.86500000e-02,\n",
       "            -1.30300000e-01,   1.33500000e-02,  -1.90150000e-01],\n",
       "          [ -1.61450000e-01,  -1.07500000e-01,   3.53500000e-02,\n",
       "            -1.22500000e-01,  -1.22000000e-02,  -1.71400000e-01]],\n",
       "  \n",
       "         [[ -1.07900000e-01,  -2.08500000e-02,   1.75450000e-01,\n",
       "            -3.25000000e-03,   1.24750000e-01,  -2.11050000e-01],\n",
       "          [ -1.05800000e-01,  -1.37500000e-02,   1.70200000e-01,\n",
       "            -3.53500000e-02,   1.19400000e-01,  -2.25000000e-01],\n",
       "          [ -9.67500000e-02,  -2.27500000e-02,   1.56300000e-01,\n",
       "            -5.75500000e-02,   1.22350000e-01,  -2.29050000e-01],\n",
       "          ..., \n",
       "          [ -1.59400000e-01,  -7.53500000e-02,   4.80000000e-02,\n",
       "            -1.32950000e-01,   3.59000000e-02,  -2.12550000e-01],\n",
       "          [ -1.65900000e-01,  -8.70500000e-02,   3.40500000e-02,\n",
       "            -1.34850000e-01,   1.82500000e-02,  -1.99100000e-01],\n",
       "          [ -1.69800000e-01,  -1.03500000e-01,   2.84000000e-02,\n",
       "            -1.30550000e-01,  -6.55000000e-03,  -1.67500000e-01]]]),\n",
       "  {}),\n",
       " 'z fit': (('Amplitude', 'HD DRAG coeff', 'Interleaving sequence id'),\n",
       "  (array([ 0.925 ,  0.9275,  0.93  ,  0.9325,  0.935 ,  0.9375,  0.94  ,\n",
       "           0.9425,  0.945 ,  0.9475,  0.95  ,  0.9525,  0.955 ,  0.9575,\n",
       "           0.96  ,  0.9625,  0.965 ,  0.9675,  0.97  ,  0.9725,  0.975 ]),\n",
       "   array([ -2.00000000e-09,  -1.60000000e-09,  -1.20000000e-09,\n",
       "           -8.00000000e-10,  -4.00000000e-10,   0.00000000e+00,\n",
       "            4.00000000e-10,   8.00000000e-10,   1.20000000e-09,\n",
       "            1.60000000e-09,   2.00000000e-09]),\n",
       "   array([0, 1, 2, 3, 4, 5])),\n",
       "  array([[[ 0. ,  0. ,  0.5,  0. ,  0. ,  0. ],\n",
       "          [ 0. ,  0. ,  0.5,  0. ,  0. ,  0. ],\n",
       "          [ 0. ,  0. ,  0.5,  0. ,  0. ,  0. ],\n",
       "          ..., \n",
       "          [ 0. ,  0. ,  0.5,  0. ,  0. ,  0. ],\n",
       "          [ 0. ,  0. ,  0.5,  0. ,  0. ,  0. ],\n",
       "          [ 0. ,  0. ,  0.5,  0. ,  0. ,  0. ]],\n",
       "  \n",
       "         [[ 0. ,  0. ,  0.5,  0. ,  0. ,  0. ],\n",
       "          [ 0. ,  0. ,  0.5,  0. ,  0. ,  0. ],\n",
       "          [ 0. ,  0. ,  0.5,  0. ,  0. ,  0. ],\n",
       "          ..., \n",
       "          [ 0. ,  0. ,  0.5,  0. ,  0. ,  0. ],\n",
       "          [ 0. ,  0. ,  0.5,  0. ,  0. ,  0. ],\n",
       "          [ 0. ,  0. ,  0.5,  0. ,  0. ,  0. ]],\n",
       "  \n",
       "         [[ 0. ,  0. ,  0.5,  0. ,  0. ,  0. ],\n",
       "          [ 0. ,  0. ,  0.5,  0. ,  0. ,  0. ],\n",
       "          [ 0. ,  0. ,  0.5,  0. ,  0. ,  0. ],\n",
       "          ..., \n",
       "          [ 0. ,  0. ,  0.5,  0. ,  0. ,  0. ],\n",
       "          [ 0. ,  0. ,  0.5,  0. ,  0. ,  0. ],\n",
       "          [ 0. ,  0. ,  0.5,  0. ,  0. ,  0. ]],\n",
       "  \n",
       "         ..., \n",
       "         [[ 0. ,  0. ,  0.5,  0. ,  0. ,  0. ],\n",
       "          [ 0. ,  0. ,  0.5,  0. ,  0. ,  0. ],\n",
       "          [ 0. ,  0. ,  0.5,  0. ,  0. ,  0. ],\n",
       "          ..., \n",
       "          [ 0. ,  0. ,  0.5,  0. ,  0. ,  0. ],\n",
       "          [ 0. ,  0. ,  0.5,  0. ,  0. ,  0. ],\n",
       "          [ 0. ,  0. ,  0.5,  0. ,  0. ,  0. ]],\n",
       "  \n",
       "         [[ 0. ,  0. ,  0.5,  0. ,  0. ,  0. ],\n",
       "          [ 0. ,  0. ,  0.5,  0. ,  0. ,  0. ],\n",
       "          [ 0. ,  0. ,  0.5,  0. ,  0. ,  0. ],\n",
       "          ..., \n",
       "          [ 0. ,  0. ,  0.5,  0. ,  0. ,  0. ],\n",
       "          [ 0. ,  0. ,  0.5,  0. ,  0. ,  0. ],\n",
       "          [ 0. ,  0. ,  0.5,  0. ,  0. ,  0. ]],\n",
       "  \n",
       "         [[ 0. ,  0. ,  0.5,  0. ,  0. ,  0. ],\n",
       "          [ 0. ,  0. ,  0.5,  0. ,  0. ,  0. ],\n",
       "          [ 0. ,  0. ,  0.5,  0. ,  0. ,  0. ],\n",
       "          ..., \n",
       "          [ 0. ,  0. ,  0.5,  0. ,  0. ,  0. ],\n",
       "          [ 0. ,  0. ,  0.5,  0. ,  0. ,  0. ],\n",
       "          [ 0. ,  0. ,  0.5,  0. ,  0. ,  0. ]]]),\n",
       "  {})}"
      ]
     },
     "execution_count": 23,
     "metadata": {},
     "output_type": "execute_result"
    }
   ],
   "source": [
    "amps = np.linspace(0.925, 0.975, 21)\n",
    "alphas = np.linspace(-2e-9, 2e-9, 11)\n",
    "sweep.sweep(bench, (amps, xg.set_real_amplitude, 'Amplitude'), (alphas, xg.set_alpha, 'HD DRAG coeff'), filename='Randomized interleaved benchmarging X-rotation')"
   ]
  },
  {
   "cell_type": "code",
   "execution_count": 40,
   "metadata": {},
   "outputs": [
    {
     "name": "stdout",
     "output_type": "stream",
     "text": [
      "D:\\qtlab\\ReiData\\data\\2017-07-02\\23-03-34/Euclidean distance Randomized interleaved benchmarging X-rotation.pkl\n"
     ]
    },
    {
     "data": {
      "text/plain": [
       "<matplotlib.colorbar.Colorbar at 0x2a148860>"
      ]
     },
     "execution_count": 40,
     "metadata": {},
     "output_type": "execute_result"
    }
   ],
   "source": [
    "data = save_pkl.load_pkl('Euclidean distance Randomized interleaved benchmarging X-rotation', 'D:\\\\qtlab\\\\ReiData\\\\data\\\\2017-07-02\\\\23-03-34')\n",
    "plt.figure()\n",
    "plt.pcolormesh(data[1]['Euclidean distance'][1][1], data[1]['Euclidean distance'][1][0], data[1]['Euclidean distance'][2][:,:,5])\n",
    "plt.colorbar()"
   ]
  },
  {
   "cell_type": "code",
   "execution_count": 33,
   "metadata": {},
   "outputs": [
    {
     "data": {
      "text/plain": [
       "{'-Xo': (('Amplitude', 'HD DRAG coeff', 'Interleaving sequence id'),\n",
       "  (array([ 0.925 ,  0.9275,  0.93  ,  0.9325,  0.935 ,  0.9375,  0.94  ,\n",
       "           0.9425,  0.945 ,  0.9475,  0.95  ,  0.9525,  0.955 ,  0.9575,\n",
       "           0.96  ,  0.9625,  0.965 ,  0.9675,  0.97  ,  0.9725,  0.975 ]),\n",
       "   array([ -2.00000000e-09,  -1.60000000e-09,  -1.20000000e-09,\n",
       "           -8.00000000e-10,  -4.00000000e-10,   0.00000000e+00,\n",
       "            4.00000000e-10,   8.00000000e-10,   1.20000000e-09,\n",
       "            1.60000000e-09,   2.00000000e-09]),\n",
       "   array([0, 1, 2, 3, 4, 5])),\n",
       "  array([[[ nan,  nan,  nan,  nan,  nan,  nan],\n",
       "          [ nan,  nan,  nan,  nan,  nan,  nan],\n",
       "          [ nan,  nan,  nan,  nan,  nan,  nan],\n",
       "          ..., \n",
       "          [ nan,  nan,  nan,  nan,  nan,  nan],\n",
       "          [ nan,  nan,  nan,  nan,  nan,  nan],\n",
       "          [ nan,  nan,  nan,  nan,  nan,  nan]],\n",
       "  \n",
       "         [[ nan,  nan,  nan,  nan,  nan,  nan],\n",
       "          [ nan,  nan,  nan,  nan,  nan,  nan],\n",
       "          [ nan,  nan,  nan,  nan,  nan,  nan],\n",
       "          ..., \n",
       "          [ nan,  nan,  nan,  nan,  nan,  nan],\n",
       "          [ nan,  nan,  nan,  nan,  nan,  nan],\n",
       "          [ nan,  nan,  nan,  nan,  nan,  nan]],\n",
       "  \n",
       "         [[ nan,  nan,  nan,  nan,  nan,  nan],\n",
       "          [ nan,  nan,  nan,  nan,  nan,  nan],\n",
       "          [ nan,  nan,  nan,  nan,  nan,  nan],\n",
       "          ..., \n",
       "          [ nan,  nan,  nan,  nan,  nan,  nan],\n",
       "          [ nan,  nan,  nan,  nan,  nan,  nan],\n",
       "          [ nan,  nan,  nan,  nan,  nan,  nan]],\n",
       "  \n",
       "         ..., \n",
       "         [[ nan,  nan,  nan,  nan,  nan,  nan],\n",
       "          [ nan,  nan,  nan,  nan,  nan,  nan],\n",
       "          [ nan,  nan,  nan,  nan,  nan,  nan],\n",
       "          ..., \n",
       "          [ nan,  nan,  nan,  nan,  nan,  nan],\n",
       "          [ nan,  nan,  nan,  nan,  nan,  nan],\n",
       "          [ nan,  nan,  nan,  nan,  nan,  nan]],\n",
       "  \n",
       "         [[ nan,  nan,  nan,  nan,  nan,  nan],\n",
       "          [ nan,  nan,  nan,  nan,  nan,  nan],\n",
       "          [ nan,  nan,  nan,  nan,  nan,  nan],\n",
       "          ..., \n",
       "          [ nan,  nan,  nan,  nan,  nan,  nan],\n",
       "          [ nan,  nan,  nan,  nan,  nan,  nan],\n",
       "          [ nan,  nan,  nan,  nan,  nan,  nan]],\n",
       "  \n",
       "         [[ nan,  nan,  nan,  nan,  nan,  nan],\n",
       "          [ nan,  nan,  nan,  nan,  nan,  nan],\n",
       "          [ nan,  nan,  nan,  nan,  nan,  nan],\n",
       "          ..., \n",
       "          [ nan,  nan,  nan,  nan,  nan,  nan],\n",
       "          [ nan,  nan,  nan,  nan,  nan,  nan],\n",
       "          [ nan,  nan,  nan,  nan,  nan,  nan]]]),\n",
       "  {}),\n",
       " '-Yo': (('Amplitude', 'HD DRAG coeff', 'Interleaving sequence id'),\n",
       "  (array([ 0.925 ,  0.9275,  0.93  ,  0.9325,  0.935 ,  0.9375,  0.94  ,\n",
       "           0.9425,  0.945 ,  0.9475,  0.95  ,  0.9525,  0.955 ,  0.9575,\n",
       "           0.96  ,  0.9625,  0.965 ,  0.9675,  0.97  ,  0.9725,  0.975 ]),\n",
       "   array([ -2.00000000e-09,  -1.60000000e-09,  -1.20000000e-09,\n",
       "           -8.00000000e-10,  -4.00000000e-10,   0.00000000e+00,\n",
       "            4.00000000e-10,   8.00000000e-10,   1.20000000e-09,\n",
       "            1.60000000e-09,   2.00000000e-09]),\n",
       "   array([0, 1, 2, 3, 4, 5])),\n",
       "  array([[[ nan,  nan,  nan,  nan,  nan,  nan],\n",
       "          [ nan,  nan,  nan,  nan,  nan,  nan],\n",
       "          [ nan,  nan,  nan,  nan,  nan,  nan],\n",
       "          ..., \n",
       "          [ nan,  nan,  nan,  nan,  nan,  nan],\n",
       "          [ nan,  nan,  nan,  nan,  nan,  nan],\n",
       "          [ nan,  nan,  nan,  nan,  nan,  nan]],\n",
       "  \n",
       "         [[ nan,  nan,  nan,  nan,  nan,  nan],\n",
       "          [ nan,  nan,  nan,  nan,  nan,  nan],\n",
       "          [ nan,  nan,  nan,  nan,  nan,  nan],\n",
       "          ..., \n",
       "          [ nan,  nan,  nan,  nan,  nan,  nan],\n",
       "          [ nan,  nan,  nan,  nan,  nan,  nan],\n",
       "          [ nan,  nan,  nan,  nan,  nan,  nan]],\n",
       "  \n",
       "         [[ nan,  nan,  nan,  nan,  nan,  nan],\n",
       "          [ nan,  nan,  nan,  nan,  nan,  nan],\n",
       "          [ nan,  nan,  nan,  nan,  nan,  nan],\n",
       "          ..., \n",
       "          [ nan,  nan,  nan,  nan,  nan,  nan],\n",
       "          [ nan,  nan,  nan,  nan,  nan,  nan],\n",
       "          [ nan,  nan,  nan,  nan,  nan,  nan]],\n",
       "  \n",
       "         ..., \n",
       "         [[ nan,  nan,  nan,  nan,  nan,  nan],\n",
       "          [ nan,  nan,  nan,  nan,  nan,  nan],\n",
       "          [ nan,  nan,  nan,  nan,  nan,  nan],\n",
       "          ..., \n",
       "          [ nan,  nan,  nan,  nan,  nan,  nan],\n",
       "          [ nan,  nan,  nan,  nan,  nan,  nan],\n",
       "          [ nan,  nan,  nan,  nan,  nan,  nan]],\n",
       "  \n",
       "         [[ nan,  nan,  nan,  nan,  nan,  nan],\n",
       "          [ nan,  nan,  nan,  nan,  nan,  nan],\n",
       "          [ nan,  nan,  nan,  nan,  nan,  nan],\n",
       "          ..., \n",
       "          [ nan,  nan,  nan,  nan,  nan,  nan],\n",
       "          [ nan,  nan,  nan,  nan,  nan,  nan],\n",
       "          [ nan,  nan,  nan,  nan,  nan,  nan]],\n",
       "  \n",
       "         [[ nan,  nan,  nan,  nan,  nan,  nan],\n",
       "          [ nan,  nan,  nan,  nan,  nan,  nan],\n",
       "          [ nan,  nan,  nan,  nan,  nan,  nan],\n",
       "          ..., \n",
       "          [ nan,  nan,  nan,  nan,  nan,  nan],\n",
       "          [ nan,  nan,  nan,  nan,  nan,  nan],\n",
       "          [ nan,  nan,  nan,  nan,  nan,  nan]]]),\n",
       "  {}),\n",
       " 'Euclidean distance': (('Amplitude',\n",
       "   'HD DRAG coeff',\n",
       "   'Interleaving sequence id'),\n",
       "  (array([ 0.925 ,  0.9275,  0.93  ,  0.9325,  0.935 ,  0.9375,  0.94  ,\n",
       "           0.9425,  0.945 ,  0.9475,  0.95  ,  0.9525,  0.955 ,  0.9575,\n",
       "           0.96  ,  0.9625,  0.965 ,  0.9675,  0.97  ,  0.9725,  0.975 ]),\n",
       "   array([ -2.00000000e-09,  -1.60000000e-09,  -1.20000000e-09,\n",
       "           -8.00000000e-10,  -4.00000000e-10,   0.00000000e+00,\n",
       "            4.00000000e-10,   8.00000000e-10,   1.20000000e-09,\n",
       "            1.60000000e-09,   2.00000000e-09]),\n",
       "   array([0, 1, 2, 3, 4, 5])),\n",
       "  array([[[ nan,  nan,  nan,  nan,  nan,  nan],\n",
       "          [ nan,  nan,  nan,  nan,  nan,  nan],\n",
       "          [ nan,  nan,  nan,  nan,  nan,  nan],\n",
       "          ..., \n",
       "          [ nan,  nan,  nan,  nan,  nan,  nan],\n",
       "          [ nan,  nan,  nan,  nan,  nan,  nan],\n",
       "          [ nan,  nan,  nan,  nan,  nan,  nan]],\n",
       "  \n",
       "         [[ nan,  nan,  nan,  nan,  nan,  nan],\n",
       "          [ nan,  nan,  nan,  nan,  nan,  nan],\n",
       "          [ nan,  nan,  nan,  nan,  nan,  nan],\n",
       "          ..., \n",
       "          [ nan,  nan,  nan,  nan,  nan,  nan],\n",
       "          [ nan,  nan,  nan,  nan,  nan,  nan],\n",
       "          [ nan,  nan,  nan,  nan,  nan,  nan]],\n",
       "  \n",
       "         [[ nan,  nan,  nan,  nan,  nan,  nan],\n",
       "          [ nan,  nan,  nan,  nan,  nan,  nan],\n",
       "          [ nan,  nan,  nan,  nan,  nan,  nan],\n",
       "          ..., \n",
       "          [ nan,  nan,  nan,  nan,  nan,  nan],\n",
       "          [ nan,  nan,  nan,  nan,  nan,  nan],\n",
       "          [ nan,  nan,  nan,  nan,  nan,  nan]],\n",
       "  \n",
       "         ..., \n",
       "         [[ nan,  nan,  nan,  nan,  nan,  nan],\n",
       "          [ nan,  nan,  nan,  nan,  nan,  nan],\n",
       "          [ nan,  nan,  nan,  nan,  nan,  nan],\n",
       "          ..., \n",
       "          [ nan,  nan,  nan,  nan,  nan,  nan],\n",
       "          [ nan,  nan,  nan,  nan,  nan,  nan],\n",
       "          [ nan,  nan,  nan,  nan,  nan,  nan]],\n",
       "  \n",
       "         [[ nan,  nan,  nan,  nan,  nan,  nan],\n",
       "          [ nan,  nan,  nan,  nan,  nan,  nan],\n",
       "          [ nan,  nan,  nan,  nan,  nan,  nan],\n",
       "          ..., \n",
       "          [ nan,  nan,  nan,  nan,  nan,  nan],\n",
       "          [ nan,  nan,  nan,  nan,  nan,  nan],\n",
       "          [ nan,  nan,  nan,  nan,  nan,  nan]],\n",
       "  \n",
       "         [[ nan,  nan,  nan,  nan,  nan,  nan],\n",
       "          [ nan,  nan,  nan,  nan,  nan,  nan],\n",
       "          [ nan,  nan,  nan,  nan,  nan,  nan],\n",
       "          ..., \n",
       "          [ nan,  nan,  nan,  nan,  nan,  nan],\n",
       "          [ nan,  nan,  nan,  nan,  nan,  nan],\n",
       "          [ nan,  nan,  nan,  nan,  nan,  nan]]]),\n",
       "  {}),\n",
       " 'Pulse sequences': (('Amplitude',\n",
       "   'HD DRAG coeff',\n",
       "   'Interleaving sequence id',\n",
       "   'Pulse id'),\n",
       "  (array([ 0.925 ,  0.9275,  0.93  ,  0.9325,  0.935 ,  0.9375,  0.94  ,\n",
       "           0.9425,  0.945 ,  0.9475,  0.95  ,  0.9525,  0.955 ,  0.9575,\n",
       "           0.96  ,  0.9625,  0.965 ,  0.9675,  0.97  ,  0.9725,  0.975 ]),\n",
       "   array([ -2.00000000e-09,  -1.60000000e-09,  -1.20000000e-09,\n",
       "           -8.00000000e-10,  -4.00000000e-10,   0.00000000e+00,\n",
       "            4.00000000e-10,   8.00000000e-10,   1.20000000e-09,\n",
       "            1.60000000e-09,   2.00000000e-09]),\n",
       "   array([0, 1, 2, 3, 4, 5]),\n",
       "   array([ 0,  1,  2,  3,  4,  5,  6,  7,  8,  9, 10, 11, 12, 13, 14, 15, 16,\n",
       "          17, 18, 19])),\n",
       "  array([[[[nan, nan, nan, ..., nan, nan, nan],\n",
       "           [nan, nan, nan, ..., nan, nan, nan],\n",
       "           [nan, nan, nan, ..., nan, nan, nan],\n",
       "           [nan, nan, nan, ..., nan, nan, nan],\n",
       "           [nan, nan, nan, ..., nan, nan, nan],\n",
       "           [nan, nan, nan, ..., nan, nan, nan]],\n",
       "  \n",
       "          [[nan, nan, nan, ..., nan, nan, nan],\n",
       "           [nan, nan, nan, ..., nan, nan, nan],\n",
       "           [nan, nan, nan, ..., nan, nan, nan],\n",
       "           [nan, nan, nan, ..., nan, nan, nan],\n",
       "           [nan, nan, nan, ..., nan, nan, nan],\n",
       "           [nan, nan, nan, ..., nan, nan, nan]],\n",
       "  \n",
       "          [[nan, nan, nan, ..., nan, nan, nan],\n",
       "           [nan, nan, nan, ..., nan, nan, nan],\n",
       "           [nan, nan, nan, ..., nan, nan, nan],\n",
       "           [nan, nan, nan, ..., nan, nan, nan],\n",
       "           [nan, nan, nan, ..., nan, nan, nan],\n",
       "           [nan, nan, nan, ..., nan, nan, nan]],\n",
       "  \n",
       "          ..., \n",
       "          [[nan, nan, nan, ..., nan, nan, nan],\n",
       "           [nan, nan, nan, ..., nan, nan, nan],\n",
       "           [nan, nan, nan, ..., nan, nan, nan],\n",
       "           [nan, nan, nan, ..., nan, nan, nan],\n",
       "           [nan, nan, nan, ..., nan, nan, nan],\n",
       "           [nan, nan, nan, ..., nan, nan, nan]],\n",
       "  \n",
       "          [[nan, nan, nan, ..., nan, nan, nan],\n",
       "           [nan, nan, nan, ..., nan, nan, nan],\n",
       "           [nan, nan, nan, ..., nan, nan, nan],\n",
       "           [nan, nan, nan, ..., nan, nan, nan],\n",
       "           [nan, nan, nan, ..., nan, nan, nan],\n",
       "           [nan, nan, nan, ..., nan, nan, nan]],\n",
       "  \n",
       "          [[nan, nan, nan, ..., nan, nan, nan],\n",
       "           [nan, nan, nan, ..., nan, nan, nan],\n",
       "           [nan, nan, nan, ..., nan, nan, nan],\n",
       "           [nan, nan, nan, ..., nan, nan, nan],\n",
       "           [nan, nan, nan, ..., nan, nan, nan],\n",
       "           [nan, nan, nan, ..., nan, nan, nan]]],\n",
       "  \n",
       "  \n",
       "         [[[nan, nan, nan, ..., nan, nan, nan],\n",
       "           [nan, nan, nan, ..., nan, nan, nan],\n",
       "           [nan, nan, nan, ..., nan, nan, nan],\n",
       "           [nan, nan, nan, ..., nan, nan, nan],\n",
       "           [nan, nan, nan, ..., nan, nan, nan],\n",
       "           [nan, nan, nan, ..., nan, nan, nan]],\n",
       "  \n",
       "          [[nan, nan, nan, ..., nan, nan, nan],\n",
       "           [nan, nan, nan, ..., nan, nan, nan],\n",
       "           [nan, nan, nan, ..., nan, nan, nan],\n",
       "           [nan, nan, nan, ..., nan, nan, nan],\n",
       "           [nan, nan, nan, ..., nan, nan, nan],\n",
       "           [nan, nan, nan, ..., nan, nan, nan]],\n",
       "  \n",
       "          [[nan, nan, nan, ..., nan, nan, nan],\n",
       "           [nan, nan, nan, ..., nan, nan, nan],\n",
       "           [nan, nan, nan, ..., nan, nan, nan],\n",
       "           [nan, nan, nan, ..., nan, nan, nan],\n",
       "           [nan, nan, nan, ..., nan, nan, nan],\n",
       "           [nan, nan, nan, ..., nan, nan, nan]],\n",
       "  \n",
       "          ..., \n",
       "          [[nan, nan, nan, ..., nan, nan, nan],\n",
       "           [nan, nan, nan, ..., nan, nan, nan],\n",
       "           [nan, nan, nan, ..., nan, nan, nan],\n",
       "           [nan, nan, nan, ..., nan, nan, nan],\n",
       "           [nan, nan, nan, ..., nan, nan, nan],\n",
       "           [nan, nan, nan, ..., nan, nan, nan]],\n",
       "  \n",
       "          [[nan, nan, nan, ..., nan, nan, nan],\n",
       "           [nan, nan, nan, ..., nan, nan, nan],\n",
       "           [nan, nan, nan, ..., nan, nan, nan],\n",
       "           [nan, nan, nan, ..., nan, nan, nan],\n",
       "           [nan, nan, nan, ..., nan, nan, nan],\n",
       "           [nan, nan, nan, ..., nan, nan, nan]],\n",
       "  \n",
       "          [[nan, nan, nan, ..., nan, nan, nan],\n",
       "           [nan, nan, nan, ..., nan, nan, nan],\n",
       "           [nan, nan, nan, ..., nan, nan, nan],\n",
       "           [nan, nan, nan, ..., nan, nan, nan],\n",
       "           [nan, nan, nan, ..., nan, nan, nan],\n",
       "           [nan, nan, nan, ..., nan, nan, nan]]],\n",
       "  \n",
       "  \n",
       "         [[[nan, nan, nan, ..., nan, nan, nan],\n",
       "           [nan, nan, nan, ..., nan, nan, nan],\n",
       "           [nan, nan, nan, ..., nan, nan, nan],\n",
       "           [nan, nan, nan, ..., nan, nan, nan],\n",
       "           [nan, nan, nan, ..., nan, nan, nan],\n",
       "           [nan, nan, nan, ..., nan, nan, nan]],\n",
       "  \n",
       "          [[nan, nan, nan, ..., nan, nan, nan],\n",
       "           [nan, nan, nan, ..., nan, nan, nan],\n",
       "           [nan, nan, nan, ..., nan, nan, nan],\n",
       "           [nan, nan, nan, ..., nan, nan, nan],\n",
       "           [nan, nan, nan, ..., nan, nan, nan],\n",
       "           [nan, nan, nan, ..., nan, nan, nan]],\n",
       "  \n",
       "          [[nan, nan, nan, ..., nan, nan, nan],\n",
       "           [nan, nan, nan, ..., nan, nan, nan],\n",
       "           [nan, nan, nan, ..., nan, nan, nan],\n",
       "           [nan, nan, nan, ..., nan, nan, nan],\n",
       "           [nan, nan, nan, ..., nan, nan, nan],\n",
       "           [nan, nan, nan, ..., nan, nan, nan]],\n",
       "  \n",
       "          ..., \n",
       "          [[nan, nan, nan, ..., nan, nan, nan],\n",
       "           [nan, nan, nan, ..., nan, nan, nan],\n",
       "           [nan, nan, nan, ..., nan, nan, nan],\n",
       "           [nan, nan, nan, ..., nan, nan, nan],\n",
       "           [nan, nan, nan, ..., nan, nan, nan],\n",
       "           [nan, nan, nan, ..., nan, nan, nan]],\n",
       "  \n",
       "          [[nan, nan, nan, ..., nan, nan, nan],\n",
       "           [nan, nan, nan, ..., nan, nan, nan],\n",
       "           [nan, nan, nan, ..., nan, nan, nan],\n",
       "           [nan, nan, nan, ..., nan, nan, nan],\n",
       "           [nan, nan, nan, ..., nan, nan, nan],\n",
       "           [nan, nan, nan, ..., nan, nan, nan]],\n",
       "  \n",
       "          [[nan, nan, nan, ..., nan, nan, nan],\n",
       "           [nan, nan, nan, ..., nan, nan, nan],\n",
       "           [nan, nan, nan, ..., nan, nan, nan],\n",
       "           [nan, nan, nan, ..., nan, nan, nan],\n",
       "           [nan, nan, nan, ..., nan, nan, nan],\n",
       "           [nan, nan, nan, ..., nan, nan, nan]]],\n",
       "  \n",
       "  \n",
       "         ..., \n",
       "         [[[nan, nan, nan, ..., nan, nan, nan],\n",
       "           [nan, nan, nan, ..., nan, nan, nan],\n",
       "           [nan, nan, nan, ..., nan, nan, nan],\n",
       "           [nan, nan, nan, ..., nan, nan, nan],\n",
       "           [nan, nan, nan, ..., nan, nan, nan],\n",
       "           [nan, nan, nan, ..., nan, nan, nan]],\n",
       "  \n",
       "          [[nan, nan, nan, ..., nan, nan, nan],\n",
       "           [nan, nan, nan, ..., nan, nan, nan],\n",
       "           [nan, nan, nan, ..., nan, nan, nan],\n",
       "           [nan, nan, nan, ..., nan, nan, nan],\n",
       "           [nan, nan, nan, ..., nan, nan, nan],\n",
       "           [nan, nan, nan, ..., nan, nan, nan]],\n",
       "  \n",
       "          [[nan, nan, nan, ..., nan, nan, nan],\n",
       "           [nan, nan, nan, ..., nan, nan, nan],\n",
       "           [nan, nan, nan, ..., nan, nan, nan],\n",
       "           [nan, nan, nan, ..., nan, nan, nan],\n",
       "           [nan, nan, nan, ..., nan, nan, nan],\n",
       "           [nan, nan, nan, ..., nan, nan, nan]],\n",
       "  \n",
       "          ..., \n",
       "          [[nan, nan, nan, ..., nan, nan, nan],\n",
       "           [nan, nan, nan, ..., nan, nan, nan],\n",
       "           [nan, nan, nan, ..., nan, nan, nan],\n",
       "           [nan, nan, nan, ..., nan, nan, nan],\n",
       "           [nan, nan, nan, ..., nan, nan, nan],\n",
       "           [nan, nan, nan, ..., nan, nan, nan]],\n",
       "  \n",
       "          [[nan, nan, nan, ..., nan, nan, nan],\n",
       "           [nan, nan, nan, ..., nan, nan, nan],\n",
       "           [nan, nan, nan, ..., nan, nan, nan],\n",
       "           [nan, nan, nan, ..., nan, nan, nan],\n",
       "           [nan, nan, nan, ..., nan, nan, nan],\n",
       "           [nan, nan, nan, ..., nan, nan, nan]],\n",
       "  \n",
       "          [[nan, nan, nan, ..., nan, nan, nan],\n",
       "           [nan, nan, nan, ..., nan, nan, nan],\n",
       "           [nan, nan, nan, ..., nan, nan, nan],\n",
       "           [nan, nan, nan, ..., nan, nan, nan],\n",
       "           [nan, nan, nan, ..., nan, nan, nan],\n",
       "           [nan, nan, nan, ..., nan, nan, nan]]],\n",
       "  \n",
       "  \n",
       "         [[[nan, nan, nan, ..., nan, nan, nan],\n",
       "           [nan, nan, nan, ..., nan, nan, nan],\n",
       "           [nan, nan, nan, ..., nan, nan, nan],\n",
       "           [nan, nan, nan, ..., nan, nan, nan],\n",
       "           [nan, nan, nan, ..., nan, nan, nan],\n",
       "           [nan, nan, nan, ..., nan, nan, nan]],\n",
       "  \n",
       "          [[nan, nan, nan, ..., nan, nan, nan],\n",
       "           [nan, nan, nan, ..., nan, nan, nan],\n",
       "           [nan, nan, nan, ..., nan, nan, nan],\n",
       "           [nan, nan, nan, ..., nan, nan, nan],\n",
       "           [nan, nan, nan, ..., nan, nan, nan],\n",
       "           [nan, nan, nan, ..., nan, nan, nan]],\n",
       "  \n",
       "          [[nan, nan, nan, ..., nan, nan, nan],\n",
       "           [nan, nan, nan, ..., nan, nan, nan],\n",
       "           [nan, nan, nan, ..., nan, nan, nan],\n",
       "           [nan, nan, nan, ..., nan, nan, nan],\n",
       "           [nan, nan, nan, ..., nan, nan, nan],\n",
       "           [nan, nan, nan, ..., nan, nan, nan]],\n",
       "  \n",
       "          ..., \n",
       "          [[nan, nan, nan, ..., nan, nan, nan],\n",
       "           [nan, nan, nan, ..., nan, nan, nan],\n",
       "           [nan, nan, nan, ..., nan, nan, nan],\n",
       "           [nan, nan, nan, ..., nan, nan, nan],\n",
       "           [nan, nan, nan, ..., nan, nan, nan],\n",
       "           [nan, nan, nan, ..., nan, nan, nan]],\n",
       "  \n",
       "          [[nan, nan, nan, ..., nan, nan, nan],\n",
       "           [nan, nan, nan, ..., nan, nan, nan],\n",
       "           [nan, nan, nan, ..., nan, nan, nan],\n",
       "           [nan, nan, nan, ..., nan, nan, nan],\n",
       "           [nan, nan, nan, ..., nan, nan, nan],\n",
       "           [nan, nan, nan, ..., nan, nan, nan]],\n",
       "  \n",
       "          [[nan, nan, nan, ..., nan, nan, nan],\n",
       "           [nan, nan, nan, ..., nan, nan, nan],\n",
       "           [nan, nan, nan, ..., nan, nan, nan],\n",
       "           [nan, nan, nan, ..., nan, nan, nan],\n",
       "           [nan, nan, nan, ..., nan, nan, nan],\n",
       "           [nan, nan, nan, ..., nan, nan, nan]]],\n",
       "  \n",
       "  \n",
       "         [[[nan, nan, nan, ..., nan, nan, nan],\n",
       "           [nan, nan, nan, ..., nan, nan, nan],\n",
       "           [nan, nan, nan, ..., nan, nan, nan],\n",
       "           [nan, nan, nan, ..., nan, nan, nan],\n",
       "           [nan, nan, nan, ..., nan, nan, nan],\n",
       "           [nan, nan, nan, ..., nan, nan, nan]],\n",
       "  \n",
       "          [[nan, nan, nan, ..., nan, nan, nan],\n",
       "           [nan, nan, nan, ..., nan, nan, nan],\n",
       "           [nan, nan, nan, ..., nan, nan, nan],\n",
       "           [nan, nan, nan, ..., nan, nan, nan],\n",
       "           [nan, nan, nan, ..., nan, nan, nan],\n",
       "           [nan, nan, nan, ..., nan, nan, nan]],\n",
       "  \n",
       "          [[nan, nan, nan, ..., nan, nan, nan],\n",
       "           [nan, nan, nan, ..., nan, nan, nan],\n",
       "           [nan, nan, nan, ..., nan, nan, nan],\n",
       "           [nan, nan, nan, ..., nan, nan, nan],\n",
       "           [nan, nan, nan, ..., nan, nan, nan],\n",
       "           [nan, nan, nan, ..., nan, nan, nan]],\n",
       "  \n",
       "          ..., \n",
       "          [[nan, nan, nan, ..., nan, nan, nan],\n",
       "           [nan, nan, nan, ..., nan, nan, nan],\n",
       "           [nan, nan, nan, ..., nan, nan, nan],\n",
       "           [nan, nan, nan, ..., nan, nan, nan],\n",
       "           [nan, nan, nan, ..., nan, nan, nan],\n",
       "           [nan, nan, nan, ..., nan, nan, nan]],\n",
       "  \n",
       "          [[nan, nan, nan, ..., nan, nan, nan],\n",
       "           [nan, nan, nan, ..., nan, nan, nan],\n",
       "           [nan, nan, nan, ..., nan, nan, nan],\n",
       "           [nan, nan, nan, ..., nan, nan, nan],\n",
       "           [nan, nan, nan, ..., nan, nan, nan],\n",
       "           [nan, nan, nan, ..., nan, nan, nan]],\n",
       "  \n",
       "          [[nan, nan, nan, ..., nan, nan, nan],\n",
       "           [nan, nan, nan, ..., nan, nan, nan],\n",
       "           [nan, nan, nan, ..., nan, nan, nan],\n",
       "           [nan, nan, nan, ..., nan, nan, nan],\n",
       "           [nan, nan, nan, ..., nan, nan, nan],\n",
       "           [nan, nan, nan, ..., nan, nan, nan]]]], dtype=object),\n",
       "  {}),\n",
       " 'Xo': (('Amplitude', 'HD DRAG coeff', 'Interleaving sequence id'),\n",
       "  (array([ 0.925 ,  0.9275,  0.93  ,  0.9325,  0.935 ,  0.9375,  0.94  ,\n",
       "           0.9425,  0.945 ,  0.9475,  0.95  ,  0.9525,  0.955 ,  0.9575,\n",
       "           0.96  ,  0.9625,  0.965 ,  0.9675,  0.97  ,  0.9725,  0.975 ]),\n",
       "   array([ -2.00000000e-09,  -1.60000000e-09,  -1.20000000e-09,\n",
       "           -8.00000000e-10,  -4.00000000e-10,   0.00000000e+00,\n",
       "            4.00000000e-10,   8.00000000e-10,   1.20000000e-09,\n",
       "            1.60000000e-09,   2.00000000e-09]),\n",
       "   array([0, 1, 2, 3, 4, 5])),\n",
       "  array([[[ nan,  nan,  nan,  nan,  nan,  nan],\n",
       "          [ nan,  nan,  nan,  nan,  nan,  nan],\n",
       "          [ nan,  nan,  nan,  nan,  nan,  nan],\n",
       "          ..., \n",
       "          [ nan,  nan,  nan,  nan,  nan,  nan],\n",
       "          [ nan,  nan,  nan,  nan,  nan,  nan],\n",
       "          [ nan,  nan,  nan,  nan,  nan,  nan]],\n",
       "  \n",
       "         [[ nan,  nan,  nan,  nan,  nan,  nan],\n",
       "          [ nan,  nan,  nan,  nan,  nan,  nan],\n",
       "          [ nan,  nan,  nan,  nan,  nan,  nan],\n",
       "          ..., \n",
       "          [ nan,  nan,  nan,  nan,  nan,  nan],\n",
       "          [ nan,  nan,  nan,  nan,  nan,  nan],\n",
       "          [ nan,  nan,  nan,  nan,  nan,  nan]],\n",
       "  \n",
       "         [[ nan,  nan,  nan,  nan,  nan,  nan],\n",
       "          [ nan,  nan,  nan,  nan,  nan,  nan],\n",
       "          [ nan,  nan,  nan,  nan,  nan,  nan],\n",
       "          ..., \n",
       "          [ nan,  nan,  nan,  nan,  nan,  nan],\n",
       "          [ nan,  nan,  nan,  nan,  nan,  nan],\n",
       "          [ nan,  nan,  nan,  nan,  nan,  nan]],\n",
       "  \n",
       "         ..., \n",
       "         [[ nan,  nan,  nan,  nan,  nan,  nan],\n",
       "          [ nan,  nan,  nan,  nan,  nan,  nan],\n",
       "          [ nan,  nan,  nan,  nan,  nan,  nan],\n",
       "          ..., \n",
       "          [ nan,  nan,  nan,  nan,  nan,  nan],\n",
       "          [ nan,  nan,  nan,  nan,  nan,  nan],\n",
       "          [ nan,  nan,  nan,  nan,  nan,  nan]],\n",
       "  \n",
       "         [[ nan,  nan,  nan,  nan,  nan,  nan],\n",
       "          [ nan,  nan,  nan,  nan,  nan,  nan],\n",
       "          [ nan,  nan,  nan,  nan,  nan,  nan],\n",
       "          ..., \n",
       "          [ nan,  nan,  nan,  nan,  nan,  nan],\n",
       "          [ nan,  nan,  nan,  nan,  nan,  nan],\n",
       "          [ nan,  nan,  nan,  nan,  nan,  nan]],\n",
       "  \n",
       "         [[ nan,  nan,  nan,  nan,  nan,  nan],\n",
       "          [ nan,  nan,  nan,  nan,  nan,  nan],\n",
       "          [ nan,  nan,  nan,  nan,  nan,  nan],\n",
       "          ..., \n",
       "          [ nan,  nan,  nan,  nan,  nan,  nan],\n",
       "          [ nan,  nan,  nan,  nan,  nan,  nan],\n",
       "          [ nan,  nan,  nan,  nan,  nan,  nan]]]),\n",
       "  {}),\n",
       " 'Yo': (('Amplitude', 'HD DRAG coeff', 'Interleaving sequence id'),\n",
       "  (array([ 0.925 ,  0.9275,  0.93  ,  0.9325,  0.935 ,  0.9375,  0.94  ,\n",
       "           0.9425,  0.945 ,  0.9475,  0.95  ,  0.9525,  0.955 ,  0.9575,\n",
       "           0.96  ,  0.9625,  0.965 ,  0.9675,  0.97  ,  0.9725,  0.975 ]),\n",
       "   array([ -2.00000000e-09,  -1.60000000e-09,  -1.20000000e-09,\n",
       "           -8.00000000e-10,  -4.00000000e-10,   0.00000000e+00,\n",
       "            4.00000000e-10,   8.00000000e-10,   1.20000000e-09,\n",
       "            1.60000000e-09,   2.00000000e-09]),\n",
       "   array([0, 1, 2, 3, 4, 5])),\n",
       "  array([[[ nan,  nan,  nan,  nan,  nan,  nan],\n",
       "          [ nan,  nan,  nan,  nan,  nan,  nan],\n",
       "          [ nan,  nan,  nan,  nan,  nan,  nan],\n",
       "          ..., \n",
       "          [ nan,  nan,  nan,  nan,  nan,  nan],\n",
       "          [ nan,  nan,  nan,  nan,  nan,  nan],\n",
       "          [ nan,  nan,  nan,  nan,  nan,  nan]],\n",
       "  \n",
       "         [[ nan,  nan,  nan,  nan,  nan,  nan],\n",
       "          [ nan,  nan,  nan,  nan,  nan,  nan],\n",
       "          [ nan,  nan,  nan,  nan,  nan,  nan],\n",
       "          ..., \n",
       "          [ nan,  nan,  nan,  nan,  nan,  nan],\n",
       "          [ nan,  nan,  nan,  nan,  nan,  nan],\n",
       "          [ nan,  nan,  nan,  nan,  nan,  nan]],\n",
       "  \n",
       "         [[ nan,  nan,  nan,  nan,  nan,  nan],\n",
       "          [ nan,  nan,  nan,  nan,  nan,  nan],\n",
       "          [ nan,  nan,  nan,  nan,  nan,  nan],\n",
       "          ..., \n",
       "          [ nan,  nan,  nan,  nan,  nan,  nan],\n",
       "          [ nan,  nan,  nan,  nan,  nan,  nan],\n",
       "          [ nan,  nan,  nan,  nan,  nan,  nan]],\n",
       "  \n",
       "         ..., \n",
       "         [[ nan,  nan,  nan,  nan,  nan,  nan],\n",
       "          [ nan,  nan,  nan,  nan,  nan,  nan],\n",
       "          [ nan,  nan,  nan,  nan,  nan,  nan],\n",
       "          ..., \n",
       "          [ nan,  nan,  nan,  nan,  nan,  nan],\n",
       "          [ nan,  nan,  nan,  nan,  nan,  nan],\n",
       "          [ nan,  nan,  nan,  nan,  nan,  nan]],\n",
       "  \n",
       "         [[ nan,  nan,  nan,  nan,  nan,  nan],\n",
       "          [ nan,  nan,  nan,  nan,  nan,  nan],\n",
       "          [ nan,  nan,  nan,  nan,  nan,  nan],\n",
       "          ..., \n",
       "          [ nan,  nan,  nan,  nan,  nan,  nan],\n",
       "          [ nan,  nan,  nan,  nan,  nan,  nan],\n",
       "          [ nan,  nan,  nan,  nan,  nan,  nan]],\n",
       "  \n",
       "         [[ nan,  nan,  nan,  nan,  nan,  nan],\n",
       "          [ nan,  nan,  nan,  nan,  nan,  nan],\n",
       "          [ nan,  nan,  nan,  nan,  nan,  nan],\n",
       "          ..., \n",
       "          [ nan,  nan,  nan,  nan,  nan,  nan],\n",
       "          [ nan,  nan,  nan,  nan,  nan,  nan],\n",
       "          [ nan,  nan,  nan,  nan,  nan,  nan]]]),\n",
       "  {}),\n",
       " 'Zo': (('Amplitude', 'HD DRAG coeff', 'Interleaving sequence id'),\n",
       "  (array([ 0.925 ,  0.9275,  0.93  ,  0.9325,  0.935 ,  0.9375,  0.94  ,\n",
       "           0.9425,  0.945 ,  0.9475,  0.95  ,  0.9525,  0.955 ,  0.9575,\n",
       "           0.96  ,  0.9625,  0.965 ,  0.9675,  0.97  ,  0.9725,  0.975 ]),\n",
       "   array([ -2.00000000e-09,  -1.60000000e-09,  -1.20000000e-09,\n",
       "           -8.00000000e-10,  -4.00000000e-10,   0.00000000e+00,\n",
       "            4.00000000e-10,   8.00000000e-10,   1.20000000e-09,\n",
       "            1.60000000e-09,   2.00000000e-09]),\n",
       "   array([0, 1, 2, 3, 4, 5])),\n",
       "  array([[[ nan,  nan,  nan,  nan,  nan,  nan],\n",
       "          [ nan,  nan,  nan,  nan,  nan,  nan],\n",
       "          [ nan,  nan,  nan,  nan,  nan,  nan],\n",
       "          ..., \n",
       "          [ nan,  nan,  nan,  nan,  nan,  nan],\n",
       "          [ nan,  nan,  nan,  nan,  nan,  nan],\n",
       "          [ nan,  nan,  nan,  nan,  nan,  nan]],\n",
       "  \n",
       "         [[ nan,  nan,  nan,  nan,  nan,  nan],\n",
       "          [ nan,  nan,  nan,  nan,  nan,  nan],\n",
       "          [ nan,  nan,  nan,  nan,  nan,  nan],\n",
       "          ..., \n",
       "          [ nan,  nan,  nan,  nan,  nan,  nan],\n",
       "          [ nan,  nan,  nan,  nan,  nan,  nan],\n",
       "          [ nan,  nan,  nan,  nan,  nan,  nan]],\n",
       "  \n",
       "         [[ nan,  nan,  nan,  nan,  nan,  nan],\n",
       "          [ nan,  nan,  nan,  nan,  nan,  nan],\n",
       "          [ nan,  nan,  nan,  nan,  nan,  nan],\n",
       "          ..., \n",
       "          [ nan,  nan,  nan,  nan,  nan,  nan],\n",
       "          [ nan,  nan,  nan,  nan,  nan,  nan],\n",
       "          [ nan,  nan,  nan,  nan,  nan,  nan]],\n",
       "  \n",
       "         ..., \n",
       "         [[ nan,  nan,  nan,  nan,  nan,  nan],\n",
       "          [ nan,  nan,  nan,  nan,  nan,  nan],\n",
       "          [ nan,  nan,  nan,  nan,  nan,  nan],\n",
       "          ..., \n",
       "          [ nan,  nan,  nan,  nan,  nan,  nan],\n",
       "          [ nan,  nan,  nan,  nan,  nan,  nan],\n",
       "          [ nan,  nan,  nan,  nan,  nan,  nan]],\n",
       "  \n",
       "         [[ nan,  nan,  nan,  nan,  nan,  nan],\n",
       "          [ nan,  nan,  nan,  nan,  nan,  nan],\n",
       "          [ nan,  nan,  nan,  nan,  nan,  nan],\n",
       "          ..., \n",
       "          [ nan,  nan,  nan,  nan,  nan,  nan],\n",
       "          [ nan,  nan,  nan,  nan,  nan,  nan],\n",
       "          [ nan,  nan,  nan,  nan,  nan,  nan]],\n",
       "  \n",
       "         [[ nan,  nan,  nan,  nan,  nan,  nan],\n",
       "          [ nan,  nan,  nan,  nan,  nan,  nan],\n",
       "          [ nan,  nan,  nan,  nan,  nan,  nan],\n",
       "          ..., \n",
       "          [ nan,  nan,  nan,  nan,  nan,  nan],\n",
       "          [ nan,  nan,  nan,  nan,  nan,  nan],\n",
       "          [ nan,  nan,  nan,  nan,  nan,  nan]]]),\n",
       "  {}),\n",
       " 'x': (('Amplitude', 'HD DRAG coeff', 'Interleaving sequence id'),\n",
       "  (array([ 0.925 ,  0.9275,  0.93  ,  0.9325,  0.935 ,  0.9375,  0.94  ,\n",
       "           0.9425,  0.945 ,  0.9475,  0.95  ,  0.9525,  0.955 ,  0.9575,\n",
       "           0.96  ,  0.9625,  0.965 ,  0.9675,  0.97  ,  0.9725,  0.975 ]),\n",
       "   array([ -2.00000000e-09,  -1.60000000e-09,  -1.20000000e-09,\n",
       "           -8.00000000e-10,  -4.00000000e-10,   0.00000000e+00,\n",
       "            4.00000000e-10,   8.00000000e-10,   1.20000000e-09,\n",
       "            1.60000000e-09,   2.00000000e-09]),\n",
       "   array([0, 1, 2, 3, 4, 5])),\n",
       "  array([[[ nan,  nan,  nan,  nan,  nan,  nan],\n",
       "          [ nan,  nan,  nan,  nan,  nan,  nan],\n",
       "          [ nan,  nan,  nan,  nan,  nan,  nan],\n",
       "          ..., \n",
       "          [ nan,  nan,  nan,  nan,  nan,  nan],\n",
       "          [ nan,  nan,  nan,  nan,  nan,  nan],\n",
       "          [ nan,  nan,  nan,  nan,  nan,  nan]],\n",
       "  \n",
       "         [[ nan,  nan,  nan,  nan,  nan,  nan],\n",
       "          [ nan,  nan,  nan,  nan,  nan,  nan],\n",
       "          [ nan,  nan,  nan,  nan,  nan,  nan],\n",
       "          ..., \n",
       "          [ nan,  nan,  nan,  nan,  nan,  nan],\n",
       "          [ nan,  nan,  nan,  nan,  nan,  nan],\n",
       "          [ nan,  nan,  nan,  nan,  nan,  nan]],\n",
       "  \n",
       "         [[ nan,  nan,  nan,  nan,  nan,  nan],\n",
       "          [ nan,  nan,  nan,  nan,  nan,  nan],\n",
       "          [ nan,  nan,  nan,  nan,  nan,  nan],\n",
       "          ..., \n",
       "          [ nan,  nan,  nan,  nan,  nan,  nan],\n",
       "          [ nan,  nan,  nan,  nan,  nan,  nan],\n",
       "          [ nan,  nan,  nan,  nan,  nan,  nan]],\n",
       "  \n",
       "         ..., \n",
       "         [[ nan,  nan,  nan,  nan,  nan,  nan],\n",
       "          [ nan,  nan,  nan,  nan,  nan,  nan],\n",
       "          [ nan,  nan,  nan,  nan,  nan,  nan],\n",
       "          ..., \n",
       "          [ nan,  nan,  nan,  nan,  nan,  nan],\n",
       "          [ nan,  nan,  nan,  nan,  nan,  nan],\n",
       "          [ nan,  nan,  nan,  nan,  nan,  nan]],\n",
       "  \n",
       "         [[ nan,  nan,  nan,  nan,  nan,  nan],\n",
       "          [ nan,  nan,  nan,  nan,  nan,  nan],\n",
       "          [ nan,  nan,  nan,  nan,  nan,  nan],\n",
       "          ..., \n",
       "          [ nan,  nan,  nan,  nan,  nan,  nan],\n",
       "          [ nan,  nan,  nan,  nan,  nan,  nan],\n",
       "          [ nan,  nan,  nan,  nan,  nan,  nan]],\n",
       "  \n",
       "         [[ nan,  nan,  nan,  nan,  nan,  nan],\n",
       "          [ nan,  nan,  nan,  nan,  nan,  nan],\n",
       "          [ nan,  nan,  nan,  nan,  nan,  nan],\n",
       "          ..., \n",
       "          [ nan,  nan,  nan,  nan,  nan,  nan],\n",
       "          [ nan,  nan,  nan,  nan,  nan,  nan],\n",
       "          [ nan,  nan,  nan,  nan,  nan,  nan]]]),\n",
       "  {}),\n",
       " 'x fit': (('Amplitude', 'HD DRAG coeff', 'Interleaving sequence id'),\n",
       "  (array([ 0.925 ,  0.9275,  0.93  ,  0.9325,  0.935 ,  0.9375,  0.94  ,\n",
       "           0.9425,  0.945 ,  0.9475,  0.95  ,  0.9525,  0.955 ,  0.9575,\n",
       "           0.96  ,  0.9625,  0.965 ,  0.9675,  0.97  ,  0.9725,  0.975 ]),\n",
       "   array([ -2.00000000e-09,  -1.60000000e-09,  -1.20000000e-09,\n",
       "           -8.00000000e-10,  -4.00000000e-10,   0.00000000e+00,\n",
       "            4.00000000e-10,   8.00000000e-10,   1.20000000e-09,\n",
       "            1.60000000e-09,   2.00000000e-09]),\n",
       "   array([0, 1, 2, 3, 4, 5])),\n",
       "  array([[[ nan,  nan,  nan,  nan,  nan,  nan],\n",
       "          [ nan,  nan,  nan,  nan,  nan,  nan],\n",
       "          [ nan,  nan,  nan,  nan,  nan,  nan],\n",
       "          ..., \n",
       "          [ nan,  nan,  nan,  nan,  nan,  nan],\n",
       "          [ nan,  nan,  nan,  nan,  nan,  nan],\n",
       "          [ nan,  nan,  nan,  nan,  nan,  nan]],\n",
       "  \n",
       "         [[ nan,  nan,  nan,  nan,  nan,  nan],\n",
       "          [ nan,  nan,  nan,  nan,  nan,  nan],\n",
       "          [ nan,  nan,  nan,  nan,  nan,  nan],\n",
       "          ..., \n",
       "          [ nan,  nan,  nan,  nan,  nan,  nan],\n",
       "          [ nan,  nan,  nan,  nan,  nan,  nan],\n",
       "          [ nan,  nan,  nan,  nan,  nan,  nan]],\n",
       "  \n",
       "         [[ nan,  nan,  nan,  nan,  nan,  nan],\n",
       "          [ nan,  nan,  nan,  nan,  nan,  nan],\n",
       "          [ nan,  nan,  nan,  nan,  nan,  nan],\n",
       "          ..., \n",
       "          [ nan,  nan,  nan,  nan,  nan,  nan],\n",
       "          [ nan,  nan,  nan,  nan,  nan,  nan],\n",
       "          [ nan,  nan,  nan,  nan,  nan,  nan]],\n",
       "  \n",
       "         ..., \n",
       "         [[ nan,  nan,  nan,  nan,  nan,  nan],\n",
       "          [ nan,  nan,  nan,  nan,  nan,  nan],\n",
       "          [ nan,  nan,  nan,  nan,  nan,  nan],\n",
       "          ..., \n",
       "          [ nan,  nan,  nan,  nan,  nan,  nan],\n",
       "          [ nan,  nan,  nan,  nan,  nan,  nan],\n",
       "          [ nan,  nan,  nan,  nan,  nan,  nan]],\n",
       "  \n",
       "         [[ nan,  nan,  nan,  nan,  nan,  nan],\n",
       "          [ nan,  nan,  nan,  nan,  nan,  nan],\n",
       "          [ nan,  nan,  nan,  nan,  nan,  nan],\n",
       "          ..., \n",
       "          [ nan,  nan,  nan,  nan,  nan,  nan],\n",
       "          [ nan,  nan,  nan,  nan,  nan,  nan],\n",
       "          [ nan,  nan,  nan,  nan,  nan,  nan]],\n",
       "  \n",
       "         [[ nan,  nan,  nan,  nan,  nan,  nan],\n",
       "          [ nan,  nan,  nan,  nan,  nan,  nan],\n",
       "          [ nan,  nan,  nan,  nan,  nan,  nan],\n",
       "          ..., \n",
       "          [ nan,  nan,  nan,  nan,  nan,  nan],\n",
       "          [ nan,  nan,  nan,  nan,  nan,  nan],\n",
       "          [ nan,  nan,  nan,  nan,  nan,  nan]]]),\n",
       "  {}),\n",
       " 'y': (('Amplitude', 'HD DRAG coeff', 'Interleaving sequence id'),\n",
       "  (array([ 0.925 ,  0.9275,  0.93  ,  0.9325,  0.935 ,  0.9375,  0.94  ,\n",
       "           0.9425,  0.945 ,  0.9475,  0.95  ,  0.9525,  0.955 ,  0.9575,\n",
       "           0.96  ,  0.9625,  0.965 ,  0.9675,  0.97  ,  0.9725,  0.975 ]),\n",
       "   array([ -2.00000000e-09,  -1.60000000e-09,  -1.20000000e-09,\n",
       "           -8.00000000e-10,  -4.00000000e-10,   0.00000000e+00,\n",
       "            4.00000000e-10,   8.00000000e-10,   1.20000000e-09,\n",
       "            1.60000000e-09,   2.00000000e-09]),\n",
       "   array([0, 1, 2, 3, 4, 5])),\n",
       "  array([[[ nan,  nan,  nan,  nan,  nan,  nan],\n",
       "          [ nan,  nan,  nan,  nan,  nan,  nan],\n",
       "          [ nan,  nan,  nan,  nan,  nan,  nan],\n",
       "          ..., \n",
       "          [ nan,  nan,  nan,  nan,  nan,  nan],\n",
       "          [ nan,  nan,  nan,  nan,  nan,  nan],\n",
       "          [ nan,  nan,  nan,  nan,  nan,  nan]],\n",
       "  \n",
       "         [[ nan,  nan,  nan,  nan,  nan,  nan],\n",
       "          [ nan,  nan,  nan,  nan,  nan,  nan],\n",
       "          [ nan,  nan,  nan,  nan,  nan,  nan],\n",
       "          ..., \n",
       "          [ nan,  nan,  nan,  nan,  nan,  nan],\n",
       "          [ nan,  nan,  nan,  nan,  nan,  nan],\n",
       "          [ nan,  nan,  nan,  nan,  nan,  nan]],\n",
       "  \n",
       "         [[ nan,  nan,  nan,  nan,  nan,  nan],\n",
       "          [ nan,  nan,  nan,  nan,  nan,  nan],\n",
       "          [ nan,  nan,  nan,  nan,  nan,  nan],\n",
       "          ..., \n",
       "          [ nan,  nan,  nan,  nan,  nan,  nan],\n",
       "          [ nan,  nan,  nan,  nan,  nan,  nan],\n",
       "          [ nan,  nan,  nan,  nan,  nan,  nan]],\n",
       "  \n",
       "         ..., \n",
       "         [[ nan,  nan,  nan,  nan,  nan,  nan],\n",
       "          [ nan,  nan,  nan,  nan,  nan,  nan],\n",
       "          [ nan,  nan,  nan,  nan,  nan,  nan],\n",
       "          ..., \n",
       "          [ nan,  nan,  nan,  nan,  nan,  nan],\n",
       "          [ nan,  nan,  nan,  nan,  nan,  nan],\n",
       "          [ nan,  nan,  nan,  nan,  nan,  nan]],\n",
       "  \n",
       "         [[ nan,  nan,  nan,  nan,  nan,  nan],\n",
       "          [ nan,  nan,  nan,  nan,  nan,  nan],\n",
       "          [ nan,  nan,  nan,  nan,  nan,  nan],\n",
       "          ..., \n",
       "          [ nan,  nan,  nan,  nan,  nan,  nan],\n",
       "          [ nan,  nan,  nan,  nan,  nan,  nan],\n",
       "          [ nan,  nan,  nan,  nan,  nan,  nan]],\n",
       "  \n",
       "         [[ nan,  nan,  nan,  nan,  nan,  nan],\n",
       "          [ nan,  nan,  nan,  nan,  nan,  nan],\n",
       "          [ nan,  nan,  nan,  nan,  nan,  nan],\n",
       "          ..., \n",
       "          [ nan,  nan,  nan,  nan,  nan,  nan],\n",
       "          [ nan,  nan,  nan,  nan,  nan,  nan],\n",
       "          [ nan,  nan,  nan,  nan,  nan,  nan]]]),\n",
       "  {}),\n",
       " 'y fit': (('Amplitude', 'HD DRAG coeff', 'Interleaving sequence id'),\n",
       "  (array([ 0.925 ,  0.9275,  0.93  ,  0.9325,  0.935 ,  0.9375,  0.94  ,\n",
       "           0.9425,  0.945 ,  0.9475,  0.95  ,  0.9525,  0.955 ,  0.9575,\n",
       "           0.96  ,  0.9625,  0.965 ,  0.9675,  0.97  ,  0.9725,  0.975 ]),\n",
       "   array([ -2.00000000e-09,  -1.60000000e-09,  -1.20000000e-09,\n",
       "           -8.00000000e-10,  -4.00000000e-10,   0.00000000e+00,\n",
       "            4.00000000e-10,   8.00000000e-10,   1.20000000e-09,\n",
       "            1.60000000e-09,   2.00000000e-09]),\n",
       "   array([0, 1, 2, 3, 4, 5])),\n",
       "  array([[[ nan,  nan,  nan,  nan,  nan,  nan],\n",
       "          [ nan,  nan,  nan,  nan,  nan,  nan],\n",
       "          [ nan,  nan,  nan,  nan,  nan,  nan],\n",
       "          ..., \n",
       "          [ nan,  nan,  nan,  nan,  nan,  nan],\n",
       "          [ nan,  nan,  nan,  nan,  nan,  nan],\n",
       "          [ nan,  nan,  nan,  nan,  nan,  nan]],\n",
       "  \n",
       "         [[ nan,  nan,  nan,  nan,  nan,  nan],\n",
       "          [ nan,  nan,  nan,  nan,  nan,  nan],\n",
       "          [ nan,  nan,  nan,  nan,  nan,  nan],\n",
       "          ..., \n",
       "          [ nan,  nan,  nan,  nan,  nan,  nan],\n",
       "          [ nan,  nan,  nan,  nan,  nan,  nan],\n",
       "          [ nan,  nan,  nan,  nan,  nan,  nan]],\n",
       "  \n",
       "         [[ nan,  nan,  nan,  nan,  nan,  nan],\n",
       "          [ nan,  nan,  nan,  nan,  nan,  nan],\n",
       "          [ nan,  nan,  nan,  nan,  nan,  nan],\n",
       "          ..., \n",
       "          [ nan,  nan,  nan,  nan,  nan,  nan],\n",
       "          [ nan,  nan,  nan,  nan,  nan,  nan],\n",
       "          [ nan,  nan,  nan,  nan,  nan,  nan]],\n",
       "  \n",
       "         ..., \n",
       "         [[ nan,  nan,  nan,  nan,  nan,  nan],\n",
       "          [ nan,  nan,  nan,  nan,  nan,  nan],\n",
       "          [ nan,  nan,  nan,  nan,  nan,  nan],\n",
       "          ..., \n",
       "          [ nan,  nan,  nan,  nan,  nan,  nan],\n",
       "          [ nan,  nan,  nan,  nan,  nan,  nan],\n",
       "          [ nan,  nan,  nan,  nan,  nan,  nan]],\n",
       "  \n",
       "         [[ nan,  nan,  nan,  nan,  nan,  nan],\n",
       "          [ nan,  nan,  nan,  nan,  nan,  nan],\n",
       "          [ nan,  nan,  nan,  nan,  nan,  nan],\n",
       "          ..., \n",
       "          [ nan,  nan,  nan,  nan,  nan,  nan],\n",
       "          [ nan,  nan,  nan,  nan,  nan,  nan],\n",
       "          [ nan,  nan,  nan,  nan,  nan,  nan]],\n",
       "  \n",
       "         [[ nan,  nan,  nan,  nan,  nan,  nan],\n",
       "          [ nan,  nan,  nan,  nan,  nan,  nan],\n",
       "          [ nan,  nan,  nan,  nan,  nan,  nan],\n",
       "          ..., \n",
       "          [ nan,  nan,  nan,  nan,  nan,  nan],\n",
       "          [ nan,  nan,  nan,  nan,  nan,  nan],\n",
       "          [ nan,  nan,  nan,  nan,  nan,  nan]]]),\n",
       "  {}),\n",
       " 'z': (('Amplitude', 'HD DRAG coeff', 'Interleaving sequence id'),\n",
       "  (array([ 0.925 ,  0.9275,  0.93  ,  0.9325,  0.935 ,  0.9375,  0.94  ,\n",
       "           0.9425,  0.945 ,  0.9475,  0.95  ,  0.9525,  0.955 ,  0.9575,\n",
       "           0.96  ,  0.9625,  0.965 ,  0.9675,  0.97  ,  0.9725,  0.975 ]),\n",
       "   array([ -2.00000000e-09,  -1.60000000e-09,  -1.20000000e-09,\n",
       "           -8.00000000e-10,  -4.00000000e-10,   0.00000000e+00,\n",
       "            4.00000000e-10,   8.00000000e-10,   1.20000000e-09,\n",
       "            1.60000000e-09,   2.00000000e-09]),\n",
       "   array([0, 1, 2, 3, 4, 5])),\n",
       "  array([[[ nan,  nan,  nan,  nan,  nan,  nan],\n",
       "          [ nan,  nan,  nan,  nan,  nan,  nan],\n",
       "          [ nan,  nan,  nan,  nan,  nan,  nan],\n",
       "          ..., \n",
       "          [ nan,  nan,  nan,  nan,  nan,  nan],\n",
       "          [ nan,  nan,  nan,  nan,  nan,  nan],\n",
       "          [ nan,  nan,  nan,  nan,  nan,  nan]],\n",
       "  \n",
       "         [[ nan,  nan,  nan,  nan,  nan,  nan],\n",
       "          [ nan,  nan,  nan,  nan,  nan,  nan],\n",
       "          [ nan,  nan,  nan,  nan,  nan,  nan],\n",
       "          ..., \n",
       "          [ nan,  nan,  nan,  nan,  nan,  nan],\n",
       "          [ nan,  nan,  nan,  nan,  nan,  nan],\n",
       "          [ nan,  nan,  nan,  nan,  nan,  nan]],\n",
       "  \n",
       "         [[ nan,  nan,  nan,  nan,  nan,  nan],\n",
       "          [ nan,  nan,  nan,  nan,  nan,  nan],\n",
       "          [ nan,  nan,  nan,  nan,  nan,  nan],\n",
       "          ..., \n",
       "          [ nan,  nan,  nan,  nan,  nan,  nan],\n",
       "          [ nan,  nan,  nan,  nan,  nan,  nan],\n",
       "          [ nan,  nan,  nan,  nan,  nan,  nan]],\n",
       "  \n",
       "         ..., \n",
       "         [[ nan,  nan,  nan,  nan,  nan,  nan],\n",
       "          [ nan,  nan,  nan,  nan,  nan,  nan],\n",
       "          [ nan,  nan,  nan,  nan,  nan,  nan],\n",
       "          ..., \n",
       "          [ nan,  nan,  nan,  nan,  nan,  nan],\n",
       "          [ nan,  nan,  nan,  nan,  nan,  nan],\n",
       "          [ nan,  nan,  nan,  nan,  nan,  nan]],\n",
       "  \n",
       "         [[ nan,  nan,  nan,  nan,  nan,  nan],\n",
       "          [ nan,  nan,  nan,  nan,  nan,  nan],\n",
       "          [ nan,  nan,  nan,  nan,  nan,  nan],\n",
       "          ..., \n",
       "          [ nan,  nan,  nan,  nan,  nan,  nan],\n",
       "          [ nan,  nan,  nan,  nan,  nan,  nan],\n",
       "          [ nan,  nan,  nan,  nan,  nan,  nan]],\n",
       "  \n",
       "         [[ nan,  nan,  nan,  nan,  nan,  nan],\n",
       "          [ nan,  nan,  nan,  nan,  nan,  nan],\n",
       "          [ nan,  nan,  nan,  nan,  nan,  nan],\n",
       "          ..., \n",
       "          [ nan,  nan,  nan,  nan,  nan,  nan],\n",
       "          [ nan,  nan,  nan,  nan,  nan,  nan],\n",
       "          [ nan,  nan,  nan,  nan,  nan,  nan]]]),\n",
       "  {}),\n",
       " 'z fit': (('Amplitude', 'HD DRAG coeff', 'Interleaving sequence id'),\n",
       "  (array([ 0.925 ,  0.9275,  0.93  ,  0.9325,  0.935 ,  0.9375,  0.94  ,\n",
       "           0.9425,  0.945 ,  0.9475,  0.95  ,  0.9525,  0.955 ,  0.9575,\n",
       "           0.96  ,  0.9625,  0.965 ,  0.9675,  0.97  ,  0.9725,  0.975 ]),\n",
       "   array([ -2.00000000e-09,  -1.60000000e-09,  -1.20000000e-09,\n",
       "           -8.00000000e-10,  -4.00000000e-10,   0.00000000e+00,\n",
       "            4.00000000e-10,   8.00000000e-10,   1.20000000e-09,\n",
       "            1.60000000e-09,   2.00000000e-09]),\n",
       "   array([0, 1, 2, 3, 4, 5])),\n",
       "  array([[[ nan,  nan,  nan,  nan,  nan,  nan],\n",
       "          [ nan,  nan,  nan,  nan,  nan,  nan],\n",
       "          [ nan,  nan,  nan,  nan,  nan,  nan],\n",
       "          ..., \n",
       "          [ nan,  nan,  nan,  nan,  nan,  nan],\n",
       "          [ nan,  nan,  nan,  nan,  nan,  nan],\n",
       "          [ nan,  nan,  nan,  nan,  nan,  nan]],\n",
       "  \n",
       "         [[ nan,  nan,  nan,  nan,  nan,  nan],\n",
       "          [ nan,  nan,  nan,  nan,  nan,  nan],\n",
       "          [ nan,  nan,  nan,  nan,  nan,  nan],\n",
       "          ..., \n",
       "          [ nan,  nan,  nan,  nan,  nan,  nan],\n",
       "          [ nan,  nan,  nan,  nan,  nan,  nan],\n",
       "          [ nan,  nan,  nan,  nan,  nan,  nan]],\n",
       "  \n",
       "         [[ nan,  nan,  nan,  nan,  nan,  nan],\n",
       "          [ nan,  nan,  nan,  nan,  nan,  nan],\n",
       "          [ nan,  nan,  nan,  nan,  nan,  nan],\n",
       "          ..., \n",
       "          [ nan,  nan,  nan,  nan,  nan,  nan],\n",
       "          [ nan,  nan,  nan,  nan,  nan,  nan],\n",
       "          [ nan,  nan,  nan,  nan,  nan,  nan]],\n",
       "  \n",
       "         ..., \n",
       "         [[ nan,  nan,  nan,  nan,  nan,  nan],\n",
       "          [ nan,  nan,  nan,  nan,  nan,  nan],\n",
       "          [ nan,  nan,  nan,  nan,  nan,  nan],\n",
       "          ..., \n",
       "          [ nan,  nan,  nan,  nan,  nan,  nan],\n",
       "          [ nan,  nan,  nan,  nan,  nan,  nan],\n",
       "          [ nan,  nan,  nan,  nan,  nan,  nan]],\n",
       "  \n",
       "         [[ nan,  nan,  nan,  nan,  nan,  nan],\n",
       "          [ nan,  nan,  nan,  nan,  nan,  nan],\n",
       "          [ nan,  nan,  nan,  nan,  nan,  nan],\n",
       "          ..., \n",
       "          [ nan,  nan,  nan,  nan,  nan,  nan],\n",
       "          [ nan,  nan,  nan,  nan,  nan,  nan],\n",
       "          [ nan,  nan,  nan,  nan,  nan,  nan]],\n",
       "  \n",
       "         [[ nan,  nan,  nan,  nan,  nan,  nan],\n",
       "          [ nan,  nan,  nan,  nan,  nan,  nan],\n",
       "          [ nan,  nan,  nan,  nan,  nan,  nan],\n",
       "          ..., \n",
       "          [ nan,  nan,  nan,  nan,  nan,  nan],\n",
       "          [ nan,  nan,  nan,  nan,  nan,  nan],\n",
       "          [ nan,  nan,  nan,  nan,  nan,  nan]]]),\n",
       "  {})}"
      ]
     },
     "execution_count": 33,
     "metadata": {},
     "output_type": "execute_result"
    }
   ],
   "source": [
    "data[1]"
   ]
  },
  {
   "cell_type": "code",
   "execution_count": null,
   "metadata": {
    "collapsed": true
   },
   "outputs": [],
   "source": [
    "data[1]['Euclidean distance']"
   ]
  },
  {
   "cell_type": "code",
   "execution_count": 37,
   "metadata": {},
   "outputs": [
    {
     "name": "stdout",
     "output_type": "stream",
     "text": [
      "Started at:  Jul 01 2017 20:47:51\n"
     ]
    },
    {
     "name": "stderr",
     "output_type": "stream",
     "text": [
      "c:\\python36\\lib\\site-packages\\matplotlib\\backend_bases.py:2445: MatplotlibDeprecationWarning: Using default event loop until function specific to this GUI is implemented\n",
      "  warnings.warn(str, mplDeprecation)\n"
     ]
    },
    {
     "name": "stdout",
     "output_type": "stream",
     "text": [
      "First sweep..."
     ]
    },
    {
     "name": "stderr",
     "output_type": "stream",
     "text": [
      "D:\\qtlab_replacement\\instruments\\Tektronix_AWG5014.py:637: ComplexWarning: Casting complex values to real discards the imaginary part\n",
      "  m1[:] = marker[:len(m1)]\n"
     ]
    },
    {
     "name": "stdout",
     "output_type": "stream",
     "text": [
      "Time left: 0 h 0 m 0.0 s,\tparameter values: Interleaving sequence id:      9,\taverage cycle time:   33s\ts\t\n",
      "Elapsed time: 0 h 5 m 25.97 s\n"
     ]
    }
   ],
   "source": [
    "meas = bench.measure()"
   ]
  },
  {
   "cell_type": "code",
   "execution_count": 58,
   "metadata": {},
   "outputs": [
    {
     "data": {
      "text/plain": [
       "(('Interleaving sequence id',),\n",
       " (array([0, 1, 2, 3, 4, 5, 6, 7, 8, 9]),),\n",
       " array([ 0.0223 ,  0.14825, -0.23595, -0.0472 , -0.02075,  0.1296 ,\n",
       "         0.12835,  0.21955,  0.1487 , -0.1806 ]),\n",
       " {})"
      ]
     },
     "execution_count": 58,
     "metadata": {},
     "output_type": "execute_result"
    }
   ],
   "source": [
    "meas['Xo']"
   ]
  },
  {
   "cell_type": "code",
   "execution_count": 73,
   "metadata": {},
   "outputs": [
    {
     "name": "stderr",
     "output_type": "stream",
     "text": [
      "c:\\python36\\lib\\site-packages\\matplotlib\\backend_bases.py:2445: MatplotlibDeprecationWarning: Using default event loop until function specific to this GUI is implemented\n",
      "  warnings.warn(str, mplDeprecation)\n"
     ]
    },
    {
     "data": {
      "text/plain": [
       "{'-Xo': {'axes': <matplotlib.axes._axes.Axes at 0xd613b38>,\n",
       "  'plots': {'-Xo': {'filter': <function plotting.plot_measurement.<locals>.<lambda>>,\n",
       "    'mname': '-Xo',\n",
       "    'plot': <matplotlib.lines.Line2D at 0x141cea58>}}},\n",
       " '-Yo': {'axes': <matplotlib.axes._axes.Axes at 0xd0e7e80>,\n",
       "  'plots': {'-Yo': {'filter': <function plotting.plot_measurement.<locals>.<lambda>>,\n",
       "    'mname': '-Yo',\n",
       "    'plot': <matplotlib.lines.Line2D at 0xcfdf908>}}},\n",
       " 'Euclidean distance': {'axes': <matplotlib.axes._axes.Axes at 0x15c17898>,\n",
       "  'plots': {'Euclidean distance': {'filter': <function plotting.plot_measurement.<locals>.<lambda>>,\n",
       "    'mname': 'Euclidean distance',\n",
       "    'plot': <matplotlib.lines.Line2D at 0xcec84a8>}}},\n",
       " 'Xo': {'axes': <matplotlib.axes._axes.Axes at 0xe518160>,\n",
       "  'plots': {'Xo': {'filter': <function plotting.plot_measurement.<locals>.<lambda>>,\n",
       "    'mname': 'Xo',\n",
       "    'plot': <matplotlib.lines.Line2D at 0x129076d8>}}},\n",
       " 'Yo': {'axes': <matplotlib.axes._axes.Axes at 0xe2f4898>,\n",
       "  'plots': {'Yo': {'filter': <function plotting.plot_measurement.<locals>.<lambda>>,\n",
       "    'mname': 'Yo',\n",
       "    'plot': <matplotlib.lines.Line2D at 0x15c174a8>}}},\n",
       " 'Zo': {'axes': <matplotlib.axes._axes.Axes at 0x11514f60>,\n",
       "  'plots': {'Zo': {'filter': <function plotting.plot_measurement.<locals>.<lambda>>,\n",
       "    'mname': 'Zo',\n",
       "    'plot': <matplotlib.lines.Line2D at 0xcede9e8>}}},\n",
       " 'x': {'axes': <matplotlib.axes._axes.Axes at 0x141a47b8>,\n",
       "  'plots': {'x': {'filter': <function plotting.plot_measurement.<locals>.<lambda>>,\n",
       "    'mname': 'x',\n",
       "    'plot': <matplotlib.lines.Line2D at 0x14299c88>},\n",
       "   'x fit': {'filter': <function plotting.plot_measurement.<locals>.<lambda>>,\n",
       "    'mname': 'x fit',\n",
       "    'plot': <matplotlib.lines.Line2D at 0x1151bb38>}}},\n",
       " 'y': {'axes': <matplotlib.axes._axes.Axes at 0x14229e80>,\n",
       "  'plots': {'y': {'filter': <function plotting.plot_measurement.<locals>.<lambda>>,\n",
       "    'mname': 'y',\n",
       "    'plot': <matplotlib.lines.Line2D at 0xd3c6588>},\n",
       "   'y fit': {'filter': <function plotting.plot_measurement.<locals>.<lambda>>,\n",
       "    'mname': 'y fit',\n",
       "    'plot': <matplotlib.lines.Line2D at 0x14182630>}}},\n",
       " 'z': {'axes': <matplotlib.axes._axes.Axes at 0x17013278>,\n",
       "  'plots': {'z': {'filter': <function plotting.plot_measurement.<locals>.<lambda>>,\n",
       "    'mname': 'z',\n",
       "    'plot': <matplotlib.lines.Line2D at 0x141b3470>},\n",
       "   'z fit': {'filter': <function plotting.plot_measurement.<locals>.<lambda>>,\n",
       "    'mname': 'z fit',\n",
       "    'plot': <matplotlib.lines.Line2D at 0x143407b8>}}}}"
      ]
     },
     "execution_count": 73,
     "metadata": {},
     "output_type": "execute_result"
    }
   ],
   "source": [
    "import plotting\n",
    "imp.reload(plotting)\n",
    "plotting.plot_measurement(bench.reference_benchmark_result)"
   ]
  },
  {
   "cell_type": "markdown",
   "metadata": {},
   "source": [
    "# Optimizing Drag"
   ]
  },
  {
   "cell_type": "code",
   "execution_count": 25,
   "metadata": {},
   "outputs": [
    {
     "name": "stdout",
     "output_type": "stream",
     "text": [
      "Started at:  Jun 29 2017 21:21:39\n"
     ]
    },
    {
     "name": "stderr",
     "output_type": "stream",
     "text": [
      "c:\\python36\\lib\\site-packages\\matplotlib\\backend_bases.py:2445: MatplotlibDeprecationWarning: Using default event loop until function specific to this GUI is implemented\n",
      "  warnings.warn(str, mplDeprecation)\n"
     ]
    },
    {
     "name": "stdout",
     "output_type": "stream",
     "text": [
      "First sweep..."
     ]
    },
    {
     "name": "stderr",
     "output_type": "stream",
     "text": [
      "D:\\qtlab_replacement\\instruments\\Tektronix_AWG5014.py:637: ComplexWarning: Casting complex values to real discards the imaginary part\n",
      "  m1[:] = marker[:len(m1)]\n"
     ]
    },
    {
     "name": "stdout",
     "output_type": "stream",
     "text": [
      "Time left: 0 h 0 m 0.0 s,\tparameter values: delta_freq:  1e-08,\taverage cycle time:   10s\t0s\t\t\t\n",
      "Elapsed time: 0 h 33 m 41.48 s\n"
     ]
    }
   ],
   "source": [
    "num_interleved_pulses = 2\n",
    "alphas = np.linspace(-1e-8, 1e-8, 201)\n",
    "def set_drag (alpha):\n",
    "    ramsey_half = [pg.p('iq_ex', length_hd, pg.gauss_hd, amp_x_hd, 0, sigma_hd, alpha), \n",
    "                 pg.p(None, pause_length_hd)]\n",
    "    interleaved_identity = [pg.p('iq_ex', length_hd, pg.gauss_hd, -amp_x_hd, 0, sigma_hd, alpha), \n",
    "                           pg.p(None, pause_length_hd),\n",
    "                           pg.p('iq_ex', length_hd, pg.gauss_hd, amp_x_hd, 0, sigma_hd, alpha), \n",
    "                           pg.p(None, pause_length_hd)]\n",
    "    tomo.set_prepare_seq(ramsey_half+interleaved_identity*num_interleved_pulses+ramsey_half)\n",
    "    \n",
    "measurement = sweep.sweep(tomo, (alphas, set_drag, 'delta_freq'), filename='DRAG', output=False)"
   ]
  },
  {
   "cell_type": "markdown",
   "metadata": {},
   "source": [
    "### Randomized Benchmarking"
   ]
  },
  {
   "cell_type": "code",
   "execution_count": 157,
   "metadata": {},
   "outputs": [
    {
     "name": "stdout",
     "output_type": "stream",
     "text": [
      "Started at:  Apr 28 2017 16:50:15\n"
     ]
    },
    {
     "name": "stderr",
     "output_type": "stream",
     "text": [
      "c:\\python36\\lib\\site-packages\\matplotlib\\backend_bases.py:2445: MatplotlibDeprecationWarning: Using default event loop until function specific to this GUI is implemented\n",
      "  warnings.warn(str, mplDeprecation)\n"
     ]
    },
    {
     "name": "stdout",
     "output_type": "stream",
     "text": [
      "First sweep..."
     ]
    },
    {
     "name": "stderr",
     "output_type": "stream",
     "text": [
      "c:\\python36\\lib\\site-packages\\ipykernel_launcher.py:44: ComplexWarning: Casting complex values to real discards the imaginary part\n"
     ]
    },
    {
     "name": "stdout",
     "output_type": "stream",
     "text": [
      "Time left: 0 h 0 m 0.0 s,\tparameter values: gate num:     20,\trandom seq id:     19,\taverage cycle time:   14s\t\t\t\t\n",
      "Elapsed time: 1 h 41 m 29.59 s\n"
     ]
    },
    {
     "name": "stderr",
     "output_type": "stream",
     "text": [
      "c:\\python36\\lib\\site-packages\\numpy\\core\\numeric.py:531: ComplexWarning: Casting complex values to real discards the imaginary part\n",
      "  return array(a, dtype, copy=False, order=order)\n"
     ]
    }
   ],
   "source": [
    "pause_pulse = tomography.pause(pause_length, awg_channels)\n",
    "pulses = {0:tomography.ex_gauss_hd(amp_x_hd, amp_y_hd, length_hd, sigma_hd, awg_channels, -200e6/np.pi),\n",
    "          1:tomography.ex_gauss_hd(amp_y_hd, -amp_x_hd, length_hd, sigma_hd, awg_channels, -200e6/np.pi),\n",
    "          2:tomography.ex_gauss_hd(-amp_x_hd, -amp_y_hd, length_hd, sigma_hd, awg_channels, -200e6/np.pi),\n",
    "          3:tomography.ex_gauss_hd(-amp_y_hd, amp_x_hd, length_hd, sigma_hd, awg_channels, -200e6/np.pi)}\n",
    "\n",
    "unitaries = {0:np.sqrt(0.5)*np.asarray([[1, -1j],  [-1j, 1]]),\\\n",
    "             1:np.sqrt(0.5)*np.asarray([[1, -1],    [1, 1]]),\\\n",
    "             2:np.sqrt(0.5)*np.asarray([[1, 1j],   [1j, 1]]),\\\n",
    "             3:np.sqrt(0.5)*np.asarray([[1, 1],   [-1, 1]])}\n",
    "\n",
    "observables = { 'X': 0.5*np.asarray([[0, 1],   [1, 0]]),\n",
    "                'Y': 0.5*np.asarray([[0, -1j],   [1j, 0]]),\n",
    "                '-X': 0.5*np.asarray([[0, -1],   [-1, 0]]),\n",
    "                '-Y': 0.5*np.asarray([[0, 1j],   [-1j, 0]]),\n",
    "                'Z': 0.5*np.asarray([[1, 0],   [0, -1]])}\n",
    "\n",
    "initial = np.asarray([0, 1]).T\n",
    "random_pulse_ids = np.arange(20)\n",
    "num_gates = np.linspace(0, 100, 11)\n",
    "\n",
    "sequences = []\n",
    "pulse_sequences = []\n",
    "theor_projs = {o:np.zeros((len(num_gates), len(random_pulse_ids))) for o in observables.keys()}\n",
    "rho_t = np.zeros((len(num_gates), len(random_pulse_ids),2,2), dtype=np.complex)\n",
    "psis = np.zeros((len(num_gates), len(random_pulse_ids),2), dtype=np.complex)\n",
    "n=0\n",
    "\n",
    "def set_num_gates(n_new):\n",
    "    global n\n",
    "    n = n_new\n",
    "\n",
    "def set_random_sequence(id):\n",
    "    sequence = np.random.randint (4, size = n).tolist()\n",
    "    sequence_pulses = [j for i in [[pulses[i], pause_pulse] for i in sequence] for j in i]\n",
    "    sequence_unitaries = [unitaries[i] for i in sequence]\n",
    "    psi = initial.copy()\n",
    "    \n",
    "    for U in sequence_unitaries:\n",
    "        psi = np.dot(U, psi)\n",
    "    \n",
    "    rho_t[n,id,:,:] = np.einsum('i,j->ij', np.conj(psi), psi)\n",
    "    psis[n,id,:] = psi\n",
    "    \n",
    "    sequences.append(sequence)\n",
    "    for o in observables.keys():\n",
    "        theor_projs[o][n,id] = np.dot(np.dot(np.conj(psi), observables[o]), psi)\n",
    "    \n",
    "    tomo_hd.set_prepare_seq(sequence_pulses)\n",
    "    pulse_sequences.append(sequence_pulses)\n",
    "    \n",
    "m = sweep.sweep(tomo_hd, (num_gates, set_num_gates, 'gate num'), (random_pulse_ids, set_random_sequence, 'random seq id'), filename='RB', output=False)\n",
    "X = (m['X'][2]-m['-X'][2])/2.\n",
    "Y = (m['Y'][2]-m['-Y'][2])/2.\n",
    "Z = m['Z'][2]\n",
    "rho_m = np.transpose([[0.5+Z, X+1j*Y], [X-1j*Y, 0.5-Z]], [2,3,0,1])\n",
    "fidelities = np.sqrt(np.einsum('nmi,nmji,nmj->nm', np.conj(psis), rho_m, psis))\n",
    "\n",
    "m['Fidelity'] = [d for d in m['X']]\n",
    "m['Fidelity'][2] = np.asarray(fidelities, dtype=np.float)\n",
    "for o,O in observables.items():\n",
    "    m[o+' fit'] = [d for d in m[o]]\n",
    "    m[o+' fit'][2] = np.asarray(theor_projs[o], dtype=np.float)\n",
    "#m['rho_t'] = m['X'].copy()\n",
    "save_pkl.save_pkl({'type':'Randomized benchmark Clifford'}, m)"
   ]
  },
  {
   "cell_type": "code",
   "execution_count": null,
   "metadata": {
    "collapsed": true
   },
   "outputs": [],
   "source": [
    "plt.plot(m['Fidelity'][1]m['Fidelity'])"
   ]
  },
  {
   "cell_type": "code",
   "execution_count": 154,
   "metadata": {},
   "outputs": [
    {
     "data": {
      "text/plain": [
       "array([[[[ -4.54105167e-03+0.j        ,  -6.70718763e-03-0.01268007j],\n",
       "         [ -6.70718763e-03+0.01268007j,   1.00454105e+00+0.j        ]],\n",
       "\n",
       "        [[  1.90080873e-02+0.j        ,  -7.31600466e-04-0.00128394j],\n",
       "         [ -7.31600466e-04+0.00128394j,   9.80991913e-01+0.j        ]]],\n",
       "\n",
       "\n",
       "       [[[  5.23648939e-01+0.j        ,   1.67812796e-02+0.45229873j],\n",
       "         [  1.67812796e-02-0.45229873j,   4.76351061e-01+0.j        ]],\n",
       "\n",
       "        [[  5.34648328e-01+0.j        ,   9.83864179e-03+0.46630912j],\n",
       "         [  9.83864179e-03-0.46630912j,   4.65351672e-01+0.j        ]]]])"
      ]
     },
     "execution_count": 154,
     "metadata": {},
     "output_type": "execute_result"
    }
   ],
   "source": [
    "rho_m"
   ]
  },
  {
   "cell_type": "code",
   "execution_count": 168,
   "metadata": {
    "collapsed": true
   },
   "outputs": [],
   "source": [
    "plt.plot(m['Fidelity'][1][0], np.mean(m['Fidelity'][2],axis=1))\n",
    "plt.xlabel('gate num')\n",
    "plt.ylabel('fidelity')\n",
    "plt.grid()"
   ]
  },
  {
   "cell_type": "code",
   "execution_count": 152,
   "metadata": {
    "scrolled": true
   },
   "outputs": [
    {
     "name": "stderr",
     "output_type": "stream",
     "text": [
      "c:\\python36\\lib\\site-packages\\numpy\\core\\numeric.py:531: ComplexWarning: Casting complex values to real discards the imaginary part\n",
      "  return array(a, dtype, copy=False, order=order)\n",
      "c:\\python36\\lib\\site-packages\\matplotlib\\backend_bases.py:2445: MatplotlibDeprecationWarning: Using default event loop until function specific to this GUI is implemented\n",
      "  warnings.warn(str, mplDeprecation)\n"
     ]
    }
   ],
   "source": [
    "rho_m = np.transpose([[0.5+Z, X+1j*Y], [X-1j*Y, 0.5-Z]], [2,3,0,1])\n",
    "fidelities = np.sqrt(np.einsum('mni,mnji,mnj->mn', np.conj(psis), rho_m, psis))\n",
    "\n",
    "m['Fidelity'] = [d for d in m['X']]\n",
    "m['Fidelity'][2] = np.asarray(fidelities, dtype=np.float)\n",
    "for o,O in observables.items():\n",
    "    m[o+' fit'] = [d for d in m[o]]\n",
    "    m[o+' fit'][2] = np.asarray(theor_projs[o], dtype=np.float)\n",
    "#m['rho_t'] = m['X'].copy()\n",
    "save_pkl.save_pkl({'type':'Randomized benchmark Clifford'}, m)"
   ]
  },
  {
   "cell_type": "code",
   "execution_count": 143,
   "metadata": {},
   "outputs": [
    {
     "data": {
      "text/plain": [
       "{'-X': (('random seq id', 'gate num'),\n",
       "  (array([0, 1]), array([0, 1])),\n",
       "  array([[ 0.02071368,  0.06280285],\n",
       "         [-0.47004341, -0.47692684]]),\n",
       "  {}),\n",
       " '-X fit': [('random seq id', 'gate num'),\n",
       "  (array([0, 1]), array([0, 1])),\n",
       "  array([[ 0. ,  0. ],\n",
       "         [ 0. , -0.5]]),\n",
       "  {}],\n",
       " '-Y': (('random seq id', 'gate num'),\n",
       "  (array([0, 1]), array([0, 1])),\n",
       "  array([[ 0.02339924,  0.07005866],\n",
       "         [ 0.01224385,  0.00593551]]),\n",
       "  {}),\n",
       " '-Y fit': [('random seq id', 'gate num'),\n",
       "  (array([0, 1]), array([0, 1])),\n",
       "  array([[ 0.,  0.],\n",
       "         [ 0.,  0.]]),\n",
       "  {}],\n",
       " 'Fidelity': [('random seq id', 'gate num'),\n",
       "  (array([0, 1]), array([0, 1])),\n",
       "  array([[ 0.99258696,  0.        ],\n",
       "         [ 0.        ,  0.99811094]]),\n",
       "  {}],\n",
       " 'X': (('random seq id', 'gate num'),\n",
       "  (array([0, 1]), array([0, 1])),\n",
       "  array([[ 0.03073913,  0.03102173],\n",
       "         [ 0.50264322,  0.51552406]]),\n",
       "  {}),\n",
       " 'X fit': [('random seq id', 'gate num'),\n",
       "  (array([0, 1]), array([0, 1])),\n",
       "  array([[ 0. ,  0. ],\n",
       "         [ 0. ,  0.5]]),\n",
       "  {}],\n",
       " 'Y': (('random seq id', 'gate num'),\n",
       "  (array([0, 1]), array([0, 1])),\n",
       "  array([[ 0.03455104,  0.04694415],\n",
       "         [ 0.13572587,  0.11978195]]),\n",
       "  {}),\n",
       " 'Y fit': [('random seq id', 'gate num'),\n",
       "  (array([0, 1]), array([0, 1])),\n",
       "  array([[ 0.,  0.],\n",
       "         [ 0.,  0.]]),\n",
       "  {}],\n",
       " 'Z': (('random seq id', 'gate num'),\n",
       "  (array([0, 1]), array([0, 1])),\n",
       "  array([[-0.48522886, -0.48424481],\n",
       "         [ 0.05221629,  0.05231239]]),\n",
       "  {}),\n",
       " 'Z fit': [('random seq id', 'gate num'),\n",
       "  (array([0, 1]), array([0, 1])),\n",
       "  array([[-0.5,  0. ],\n",
       "         [ 0. ,  0. ]]),\n",
       "  {}]}"
      ]
     },
     "execution_count": 143,
     "metadata": {},
     "output_type": "execute_result"
    }
   ],
   "source": [
    "m"
   ]
  },
  {
   "cell_type": "code",
   "execution_count": 121,
   "metadata": {
    "collapsed": true
   },
   "outputs": [],
   "source": []
  },
  {
   "cell_type": "code",
   "execution_count": 122,
   "metadata": {},
   "outputs": [
    {
     "data": {
      "text/plain": [
       "array([ 0.97991445+0.j,  0.93312074+0.j,  0.97351467+0.j,  0.88195572+0.j,\n",
       "        0.98395691+0.j])"
      ]
     },
     "execution_count": 122,
     "metadata": {},
     "output_type": "execute_result"
    }
   ],
   "source": [
    "fidelities"
   ]
  },
  {
   "cell_type": "code",
   "execution_count": 123,
   "metadata": {},
   "outputs": [
    {
     "data": {
      "text/plain": [
       "[array([-0.5+0.5j, -0.5-0.5j]),\n",
       " array([ 0.5-0.5j, -0.5-0.5j]),\n",
       " array([ 0.5+0.5j,  0.5+0.5j]),\n",
       " array([ 0.5-0.5j, -0.5+0.5j]),\n",
       " array([-0.5+0.5j, -0.5+0.5j])]"
      ]
     },
     "execution_count": 123,
     "metadata": {},
     "output_type": "execute_result"
    }
   ],
   "source": [
    "psis"
   ]
  },
  {
   "cell_type": "code",
   "execution_count": 124,
   "metadata": {},
   "outputs": [
    {
     "data": {
      "text/plain": [
       "array([[[ 0.59661779+0.j        ,  0.11373132+0.46023232j],\n",
       "        [ 0.11373132-0.46023232j,  0.40338221+0.j        ]],\n",
       "\n",
       "       [[ 0.54508677+0.j        ,  0.06986417-0.37071432j],\n",
       "        [ 0.06986417+0.37071432j,  0.45491323+0.j        ]],\n",
       "\n",
       "       [[ 0.68233096+0.j        ,  0.44773082+0.08804433j],\n",
       "        [ 0.44773082-0.08804433j,  0.31766904+0.j        ]],\n",
       "\n",
       "       [[ 0.45918886+0.j        , -0.27784590+0.18198637j],\n",
       "        [-0.27784590-0.18198637j,  0.54081114+0.j        ]],\n",
       "\n",
       "       [[ 0.56393048+0.j        ,  0.46817119+0.00919325j],\n",
       "        [ 0.46817119-0.00919325j,  0.43606952+0.j        ]]])"
      ]
     },
     "execution_count": 124,
     "metadata": {},
     "output_type": "execute_result"
    }
   ],
   "source": [
    "rho_m"
   ]
  },
  {
   "cell_type": "code",
   "execution_count": 125,
   "metadata": {},
   "outputs": [
    {
     "data": {
      "text/plain": [
       "array([[[ 0.5+0.j ,  0.0+0.5j],\n",
       "        [ 0.0-0.5j,  0.5+0.j ]],\n",
       "\n",
       "       [[ 0.5+0.j ,  0.0-0.5j],\n",
       "        [ 0.0+0.5j,  0.5+0.j ]],\n",
       "\n",
       "       [[ 0.5+0.j ,  0.5+0.j ],\n",
       "        [ 0.5+0.j ,  0.5+0.j ]],\n",
       "\n",
       "       [[ 0.5+0.j , -0.5+0.j ],\n",
       "        [-0.5+0.j ,  0.5+0.j ]],\n",
       "\n",
       "       [[ 0.5+0.j ,  0.5+0.j ],\n",
       "        [ 0.5+0.j ,  0.5+0.j ]]])"
      ]
     },
     "execution_count": 125,
     "metadata": {},
     "output_type": "execute_result"
    }
   ],
   "source": [
    "rho_t"
   ]
  },
  {
   "cell_type": "code",
   "execution_count": 198,
   "metadata": {},
   "outputs": [
    {
     "ename": "KeyError",
     "evalue": "'Sequences'",
     "output_type": "error",
     "traceback": [
      "\u001b[1;31m---------------------------------------------------------------------------\u001b[0m",
      "\u001b[1;31mKeyError\u001b[0m                                  Traceback (most recent call last)",
      "\u001b[1;32m<ipython-input-198-2b64625616b0>\u001b[0m in \u001b[0;36m<module>\u001b[1;34m()\u001b[0m\n\u001b[1;32m----> 1\u001b[1;33m \u001b[1;32mdel\u001b[0m \u001b[0mmeasurement\u001b[0m\u001b[1;33m[\u001b[0m\u001b[1;34m'Sequences'\u001b[0m\u001b[1;33m]\u001b[0m\u001b[1;33m\u001b[0m\u001b[0m\n\u001b[0m",
      "\u001b[1;31mKeyError\u001b[0m: 'Sequences'"
     ]
    }
   ],
   "source": [
    "measurement['theory'] = thoer_proj\n",
    "save_pkl.save_pkl({'type':'Randomized benchmark Clifford'}, measurement)"
   ]
  },
  {
   "cell_type": "code",
   "execution_count": 201,
   "metadata": {},
   "outputs": [
    {
     "name": "stdout",
     "output_type": "stream",
     "text": [
      "[{'X': 0j, 'Y': 0j, '-X': 0j, '-Y': 0j, 'Z': (0.50000000000000022+0j)}, {'X': 0j, 'Y': 0j, '-X': 0j, '-Y': 0j, 'Z': (0.50000000000000022+0j)}, {'X': (0.50000000000000022+0j), 'Y': 0j, '-X': (-0.50000000000000022+0j), '-Y': 0j, 'Z': 0j}, {'X': 0j, 'Y': (-0.50000000000000022+0j), '-X': 0j, '-Y': (0.50000000000000022+0j), 'Z': 0j}, {'X': 0j, 'Y': (-0.50000000000000022+0j), '-X': 0j, '-Y': (0.50000000000000022+0j), 'Z': 0j}, {'X': (-0.50000000000000022+0j), 'Y': 0j, '-X': (0.50000000000000022+0j), '-Y': 0j, 'Z': 0j}, {'X': 0j, 'Y': (-0.50000000000000022+0j), '-X': 0j, '-Y': (0.50000000000000022+0j), 'Z': 0j}, {'X': 0j, 'Y': 0j, '-X': 0j, '-Y': 0j, 'Z': (-0.50000000000000022+0j)}, {'X': (0.50000000000000022+0j), 'Y': 0j, '-X': (-0.50000000000000022+0j), '-Y': 0j, 'Z': 0j}, {'X': (0.50000000000000022+0j), 'Y': 0j, '-X': (-0.50000000000000022+0j), '-Y': 0j, 'Z': 0j}]\n",
      "{'X': (('random seq id',), (array([0, 1, 2, 3, 4, 5, 6, 7, 8, 9]),), array([ 0.13529069,  0.03693103,  0.46135948,  0.09578221,  0.06494058,\n",
      "       -0.3800936 ,  0.05168196,  0.0686397 ,  0.44631244,  0.46406459]), {}), 'Y': (('random seq id',), (array([0, 1, 2, 3, 4, 5, 6, 7, 8, 9]),), array([ 0.0543791 ,  0.06959335,  0.10462013, -0.41162986, -0.3860033 ,\n",
      "        0.07883776, -0.38241283,  0.04310123,  0.12604993,  0.10516335]), {}), '-X': (('random seq id',), (array([0, 1, 2, 3, 4, 5, 6, 7, 8, 9]),), array([ 0.04248112,  0.11807168, -0.38241842,  0.05494951,  0.09668546,\n",
      "        0.45939171,  0.0784814 ,  0.08939225, -0.36185325, -0.39967426]), {}), '-Y': (('random seq id',), (array([0, 1, 2, 3, 4, 5, 6, 7, 8, 9]),), array([ 0.11739779,  0.08138663,  0.0832891 ,  0.45102219,  0.44827026,\n",
      "        0.07224299,  0.43633741,  0.11972543,  0.02610187,  0.04441386]), {}), 'Z': (('random seq id',), (array([0, 1, 2, 3, 4, 5, 6, 7, 8, 9]),), array([ 0.48475005,  0.49354322,  0.16631692,  0.08096103,  0.12872296,\n",
      "        0.16191522,  0.05824795, -0.38539382,  0.12018235,  0.01525062]), {}), 'Sequences': [[2, 0, 2, 2], [3, 1, 0, 0], [3, 1, 3, 0], [1, 3, 2, 1], [2, 3, 3, 3], [1, 0, 2, 2], [2, 2, 0, 1], [2, 2, 3, 3], [2, 2, 1, 0], [3, 2, 2, 0]]}\n",
      "[array([ 0.+1.j,  0.+0.j]), array([ 0.-1.j,  0.+0.j]), array([ 0.5-0.5j,  0.5-0.5j]), array([-0.5+0.5j,  0.5+0.5j]), array([ 0.5-0.5j, -0.5-0.5j]), array([-0.5+0.5j,  0.5-0.5j]), array([-0.5+0.5j,  0.5+0.5j]), array([ 0.+0.j,  0.-1.j]), array([ 0.5+0.5j,  0.5+0.5j]), array([ 0.5+0.5j,  0.5+0.5j])]\n",
      "[[2, 0, 2, 2], [3, 1, 0, 0], [3, 1, 3, 0], [1, 3, 2, 1], [2, 3, 3, 3], [1, 0, 2, 2], [2, 2, 0, 1], [2, 2, 3, 3], [2, 2, 1, 0], [3, 2, 2, 0]]\n"
     ]
    }
   ],
   "source": [
    "print(theor_projs)\n",
    "print(measurement)\n",
    "print(psis)\n",
    "print (sequences)\n",
    "print (rho_t)\n",
    "print (rho_m)"
   ]
  },
  {
   "cell_type": "code",
   "execution_count": 194,
   "metadata": {},
   "outputs": [
    {
     "data": {
      "text/plain": [
       "(-0.50000000000000022+0j)"
      ]
     },
     "execution_count": 194,
     "metadata": {},
     "output_type": "execute_result"
    }
   ],
   "source": [
    "np.dot(np.conj(psis[1]), np.dot(observables['Y'],psis[1]))"
   ]
  },
  {
   "cell_type": "code",
   "execution_count": 71,
   "metadata": {},
   "outputs": [
    {
     "name": "stdout",
     "output_type": "stream",
     "text": [
      "Started at:  Apr 27 2017 16:48:18\n",
      "First sweep..."
     ]
    },
    {
     "name": "stderr",
     "output_type": "stream",
     "text": [
      "c:\\python36\\lib\\site-packages\\matplotlib\\backend_bases.py:2445: MatplotlibDeprecationWarning: Using default event loop until function specific to this GUI is implemented\n",
      "  warnings.warn(str, mplDeprecation)\n"
     ]
    },
    {
     "name": "stdout",
     "output_type": "stream",
     "text": [
      "Time left: 0 h 0 m 0.0 s,\tparameter values: SY pi2 pulse num:     40,\taverage cycle time:  3.5s\t\t\t\n",
      "Elapsed time: 0 h 2 m 24.22 s\n"
     ]
    }
   ],
   "source": [
    "num_pulses = np.round(np.arange(0, 41)).astype(np.int)\n",
    "\n",
    "def set_num_pulses(n):\n",
    "    tomoz.set_prepare_seq([tomography.ex_gauss(amp_x, length, sigma, awg_channels), \n",
    "                          tomography.pause(pause_length, awg_channels)]*n)\n",
    "\n",
    "measurement = sweep.sweep(tomoz, (num_pulses, set_num_pulses, 'SX pi2 pulse num'), filename='Rabi', output=False)"
   ]
  },
  {
   "cell_type": "code",
   "execution_count": 115,
   "metadata": {},
   "outputs": [
    {
     "name": "stdout",
     "output_type": "stream",
     "text": [
      "Started at:  Apr 27 2017 20:15:31\n"
     ]
    },
    {
     "name": "stderr",
     "output_type": "stream",
     "text": [
      "c:\\python36\\lib\\site-packages\\matplotlib\\backend_bases.py:2445: MatplotlibDeprecationWarning: Using default event loop until function specific to this GUI is implemented\n",
      "  warnings.warn(str, mplDeprecation)\n"
     ]
    },
    {
     "name": "stdout",
     "output_type": "stream",
     "text": [
      "Time left: 0 h 0 m 0.0 s,\tparameter values: SX pi2 pulse num:     20,\taverage cycle time:   18s\ts\t\n",
      "Elapsed time: 0 h 6 m 16.75 s\n"
     ]
    }
   ],
   "source": [
    "num_pulses = np.round(np.arange(0, 21)).astype(np.int)\n",
    "\n",
    "def set_num_pulses(n):\n",
    "    tomo.set_prepare_seq([tomography.ex_gauss_hd(amp_x_hd, amp_y_hd, length_hd, sigma_hd, awg_channels, -200e6/np.pi), \n",
    "                          tomography.pause(pause_length, awg_channels)]*n)\n",
    "\n",
    "measurement = sweep.sweep(tomo, (num_pulses, set_num_pulses, 'SX pi2 pulse num'), filename='Rabi', output=False)"
   ]
  },
  {
   "cell_type": "code",
   "execution_count": 110,
   "metadata": {},
   "outputs": [
    {
     "name": "stdout",
     "output_type": "stream",
     "text": [
      "Started at:  Apr 27 2017 19:39:12\n"
     ]
    },
    {
     "name": "stderr",
     "output_type": "stream",
     "text": [
      "c:\\python36\\lib\\site-packages\\matplotlib\\backend_bases.py:2445: MatplotlibDeprecationWarning: Using default event loop until function specific to this GUI is implemented\n",
      "  warnings.warn(str, mplDeprecation)\n"
     ]
    },
    {
     "name": "stdout",
     "output_type": "stream",
     "text": [
      "Time left: 0 h 0 m 0.0 s,\tparameter values: SX pi2 pulse num:     20,\taverage cycle time:   18s\ts\t\n",
      "Elapsed time: 0 h 6 m 14.09 s\n"
     ]
    }
   ],
   "source": [
    "num_pulses = np.round(np.arange(0, 21)).astype(np.int)\n",
    "\n",
    "def set_num_pulses(n):\n",
    "    tomo.set_prepare_seq([tomography.ex_gauss(amp_x_hd, length_hd, sigma_hd, awg_channels), \n",
    "                          tomography.pause(pause_length, awg_channels)]*n)\n",
    "\n",
    "measurement = sweep.sweep(tomo, (num_pulses, set_num_pulses, 'SX pi2 pulse num'), filename='Rabi', output=False)"
   ]
  },
  {
   "cell_type": "code",
   "execution_count": 79,
   "metadata": {},
   "outputs": [
    {
     "name": "stdout",
     "output_type": "stream",
     "text": [
      "Started at:  Apr 27 2017 17:39:03\n"
     ]
    },
    {
     "name": "stderr",
     "output_type": "stream",
     "text": [
      "c:\\python36\\lib\\site-packages\\matplotlib\\backend_bases.py:2445: MatplotlibDeprecationWarning: Using default event loop until function specific to this GUI is implemented\n",
      "  warnings.warn(str, mplDeprecation)\n"
     ]
    },
    {
     "name": "stdout",
     "output_type": "stream",
     "text": [
      "Time left: 0 h 0 m 0.0 s,\tparameter values: Rabi x-axis pulse length:  3e-07,\taverage cycle time:   18s\t18s\t\n",
      "Elapsed time: 0 h 15 m 21.47 s\n"
     ]
    }
   ],
   "source": [
    "ex_amplitude=0.25\n",
    "lengths = np.linspace(0e-9, 200e-9, 51)\n",
    "readout_begin = np.max(lengths)\n",
    "\n",
    "def set_ex_length(length):\n",
    "    tomo.set_prepare_seq([tomography.ex_rect(ex_amplitude, length, awg_channels), tomography.pause(pause_length, awg_channels)])\n",
    "\n",
    "measurement = sweep.sweep(tomo, (lengths, set_ex_length, 'Rabi x-axis pulse length'), filename='Rabi', output=False)"
   ]
  },
  {
   "cell_type": "code",
   "execution_count": 85,
   "metadata": {},
   "outputs": [
    {
     "data": {
      "text/plain": [
       "(-0.6, 0.6)"
      ]
     },
     "execution_count": 85,
     "metadata": {},
     "output_type": "execute_result"
    }
   ],
   "source": [
    "from mpl_toolkits.mplot3d import Axes3D\n",
    "fig = plt.figure()\n",
    "ax = fig.add_subplot(111, projection='3d')\n",
    "ax.plot(measurement ['X'][2], measurement ['Y'][2], measurement ['Z'][2], c='r', marker='o')\n",
    "ax.set_xlabel('X')\n",
    "ax.set_ylabel('Y')\n",
    "ax.set_zlabel('Z')\n",
    "ax.set_xlim([-0.6, 0.6])\n",
    "ax.set_ylim([-0.6, 0.6])\n",
    "ax.set_zlim([-0.6, 0.6])"
   ]
  },
  {
   "cell_type": "code",
   "execution_count": 57,
   "metadata": {},
   "outputs": [
    {
     "name": "stdout",
     "output_type": "stream",
     "text": [
      "Started at:  Apr 27 2017 00:17:26\n"
     ]
    },
    {
     "name": "stderr",
     "output_type": "stream",
     "text": [
      "c:\\python36\\lib\\site-packages\\matplotlib\\backend_bases.py:2445: MatplotlibDeprecationWarning: Using default event loop until function specific to this GUI is implemented\n",
      "  warnings.warn(str, mplDeprecation)\n"
     ]
    },
    {
     "name": "stdout",
     "output_type": "stream",
     "text": [
      "Time left: 0 h 0 m 0.0 s,\tparameter values: Rabi y-axis pulse length:  2e-06,\taverage cycle time:   10s\t 10s\t\t\n",
      "Elapsed time: 5 h 33 m 44.24 s\n"
     ]
    }
   ],
   "source": [
    "ex_amplitude = 0.25\n",
    "pause_length = 16e-9\n",
    "lengths = np.linspace(0e-9, 2000e-9, 2001)\n",
    "readout_begin = np.max(lengths)\n",
    "\n",
    "def set_ex_length(length):\n",
    "    tomo.set_prepare_seq([tomography.ex_rect(1j*ex_amplitude, length, awg_channels), tomography.pause(pause_length, awg_channels)])\n",
    "\n",
    "measurement = sweep.sweep(tomo, (lengths, set_ex_length, 'Rabi y-axis pulse length'), filename='Rabi', output=False)"
   ]
  },
  {
   "cell_type": "markdown",
   "metadata": {},
   "source": [
    "### Optimizing phase between x and y pulses"
   ]
  },
  {
   "cell_type": "code",
   "execution_count": 111,
   "metadata": {},
   "outputs": [
    {
     "name": "stdout",
     "output_type": "stream",
     "text": [
      "Started at:  Apr 27 2017 19:45:43\n"
     ]
    },
    {
     "name": "stderr",
     "output_type": "stream",
     "text": [
      "c:\\python36\\lib\\site-packages\\matplotlib\\backend_bases.py:2445: MatplotlibDeprecationWarning: Using default event loop until function specific to this GUI is implemented\n",
      "  warnings.warn(str, mplDeprecation)\n"
     ]
    },
    {
     "name": "stdout",
     "output_type": "stream",
     "text": [
      "Time left: 0 h 3 m 54.74 s,\tparameter values: y-pulse phase:  1.714,\ty pulse num:      1,\taverage cycle time:   18s\t\t"
     ]
    },
    {
     "ename": "KeyboardInterrupt",
     "evalue": "",
     "output_type": "error",
     "traceback": [
      "\u001b[1;31m---------------------------------------------------------------------------\u001b[0m",
      "\u001b[1;31mKeyboardInterrupt\u001b[0m                         Traceback (most recent call last)",
      "\u001b[1;32m<ipython-input-111-a17b68d5a4d1>\u001b[0m in \u001b[0;36m<module>\u001b[1;34m()\u001b[0m\n\u001b[0;32m     21\u001b[0m \u001b[0mphases\u001b[0m \u001b[1;33m=\u001b[0m \u001b[0mnp\u001b[0m\u001b[1;33m.\u001b[0m\u001b[0mlinspace\u001b[0m\u001b[1;33m(\u001b[0m\u001b[0mnp\u001b[0m\u001b[1;33m.\u001b[0m\u001b[0mpi\u001b[0m\u001b[1;33m/\u001b[0m\u001b[1;36m2.\u001b[0m\u001b[1;33m*\u001b[0m\u001b[1;36m0.8\u001b[0m\u001b[1;33m,\u001b[0m \u001b[0mnp\u001b[0m\u001b[1;33m.\u001b[0m\u001b[0mpi\u001b[0m\u001b[1;33m/\u001b[0m\u001b[1;36m2.\u001b[0m\u001b[1;33m*\u001b[0m\u001b[1;36m1.2\u001b[0m\u001b[1;33m,\u001b[0m \u001b[1;36m11\u001b[0m\u001b[1;33m,\u001b[0m \u001b[0mendpoint\u001b[0m\u001b[1;33m=\u001b[0m\u001b[1;32mFalse\u001b[0m\u001b[1;33m)\u001b[0m\u001b[1;33m\u001b[0m\u001b[0m\n\u001b[0;32m     22\u001b[0m \u001b[0mnum_pulses\u001b[0m \u001b[1;33m=\u001b[0m \u001b[0mnp\u001b[0m\u001b[1;33m.\u001b[0m\u001b[0marange\u001b[0m\u001b[1;33m(\u001b[0m\u001b[1;36m0\u001b[0m\u001b[1;33m,\u001b[0m\u001b[1;36m5\u001b[0m\u001b[1;33m)\u001b[0m\u001b[1;33m\u001b[0m\u001b[0m\n\u001b[1;32m---> 23\u001b[1;33m \u001b[0mmeasurement\u001b[0m \u001b[1;33m=\u001b[0m \u001b[0msweep\u001b[0m\u001b[1;33m.\u001b[0m\u001b[0msweep\u001b[0m\u001b[1;33m(\u001b[0m\u001b[0mtomo\u001b[0m\u001b[1;33m,\u001b[0m \u001b[1;33m(\u001b[0m\u001b[0mphases\u001b[0m\u001b[1;33m,\u001b[0m \u001b[0mset_y_phase\u001b[0m\u001b[1;33m,\u001b[0m \u001b[1;34m'y-pulse phase'\u001b[0m\u001b[1;33m)\u001b[0m\u001b[1;33m,\u001b[0m \u001b[1;33m(\u001b[0m\u001b[0mnum_pulses\u001b[0m\u001b[1;33m,\u001b[0m \u001b[0mset_n\u001b[0m\u001b[1;33m,\u001b[0m \u001b[1;34m'y pulse num'\u001b[0m\u001b[1;33m)\u001b[0m\u001b[1;33m,\u001b[0m \u001b[0mfilename\u001b[0m\u001b[1;33m=\u001b[0m\u001b[1;34m'y-phase'\u001b[0m\u001b[1;33m,\u001b[0m \u001b[0moutput\u001b[0m\u001b[1;33m=\u001b[0m\u001b[1;32mFalse\u001b[0m\u001b[1;33m)\u001b[0m\u001b[1;33m\u001b[0m\u001b[0m\n\u001b[0m",
      "\u001b[1;32mD:\\qtlab_replacement\\scripts\\sweep.py\u001b[0m in \u001b[0;36msweep\u001b[1;34m(measurer, filename, root_dir, plot, header, output, *params)\u001b[0m\n\u001b[0;32m    106\u001b[0m                                         \u001b[0msetter\u001b[0m\u001b[1;33m(\u001b[0m\u001b[0mval\u001b[0m\u001b[1;33m)\u001b[0m\u001b[1;33m\u001b[0m\u001b[0m\n\u001b[0;32m    107\u001b[0m                         \u001b[1;31m#measuring\u001b[0m\u001b[1;33m\u001b[0m\u001b[1;33m\u001b[0m\u001b[0m\n\u001b[1;32m--> 108\u001b[1;33m                         \u001b[0mmpoint\u001b[0m \u001b[1;33m=\u001b[0m \u001b[0mmeasurer\u001b[0m\u001b[1;33m.\u001b[0m\u001b[0mmeasure\u001b[0m\u001b[1;33m(\u001b[0m\u001b[1;33m)\u001b[0m\u001b[1;33m\u001b[0m\u001b[0m\n\u001b[0m\u001b[0;32m    109\u001b[0m                         \u001b[1;31m#saving data to containers\u001b[0m\u001b[1;33m\u001b[0m\u001b[1;33m\u001b[0m\u001b[0m\n\u001b[0;32m    110\u001b[0m                         \u001b[1;32mfor\u001b[0m \u001b[0mmname\u001b[0m \u001b[1;32min\u001b[0m \u001b[0mpoints\u001b[0m\u001b[1;33m.\u001b[0m\u001b[0mkeys\u001b[0m\u001b[1;33m(\u001b[0m\u001b[1;33m)\u001b[0m\u001b[1;33m:\u001b[0m\u001b[1;33m\u001b[0m\u001b[0m\n",
      "\u001b[1;32mD:\\qtlab_replacement\\scripts\\tomography.py\u001b[0m in \u001b[0;36mmeasure\u001b[1;34m(self)\u001b[0m\n\u001b[0;32m    162\u001b[0m         \u001b[1;32mdef\u001b[0m \u001b[0mget_points\u001b[0m\u001b[1;33m(\u001b[0m\u001b[0mself\u001b[0m\u001b[1;33m)\u001b[0m\u001b[1;33m:\u001b[0m\u001b[1;33m\u001b[0m\u001b[0m\n\u001b[0;32m    163\u001b[0m                 \u001b[1;32mreturn\u001b[0m \u001b[1;33m{\u001b[0m \u001b[0mp\u001b[0m\u001b[1;33m:\u001b[0m\u001b[1;33m{\u001b[0m\u001b[1;33m}\u001b[0m \u001b[1;32mfor\u001b[0m \u001b[0mp\u001b[0m \u001b[1;32min\u001b[0m \u001b[0mself\u001b[0m\u001b[1;33m.\u001b[0m\u001b[0mproj_seq\u001b[0m\u001b[1;33m.\u001b[0m\u001b[0mkeys\u001b[0m\u001b[1;33m(\u001b[0m\u001b[1;33m)\u001b[0m \u001b[1;33m}\u001b[0m\u001b[1;33m\u001b[0m\u001b[0m\n\u001b[1;32m--> 164\u001b[1;33m \u001b[1;33m\u001b[0m\u001b[0m\n\u001b[0m\u001b[0;32m    165\u001b[0m         \u001b[1;32mdef\u001b[0m \u001b[0mget_dtype\u001b[0m\u001b[1;33m(\u001b[0m\u001b[0mself\u001b[0m\u001b[1;33m)\u001b[0m\u001b[1;33m:\u001b[0m\u001b[1;33m\u001b[0m\u001b[0m\n\u001b[0;32m    166\u001b[0m                 \u001b[1;32mreturn\u001b[0m \u001b[1;33m{\u001b[0m \u001b[0mp\u001b[0m\u001b[1;33m:\u001b[0m\u001b[0mfloat\u001b[0m \u001b[1;32mfor\u001b[0m \u001b[0mp\u001b[0m \u001b[1;32min\u001b[0m \u001b[0mself\u001b[0m\u001b[1;33m.\u001b[0m\u001b[0mproj_seq\u001b[0m\u001b[1;33m.\u001b[0m\u001b[0mkeys\u001b[0m\u001b[1;33m(\u001b[0m\u001b[1;33m)\u001b[0m \u001b[1;33m}\u001b[0m\u001b[1;33m\u001b[0m\u001b[0m\n",
      "\u001b[1;32mD:\\qtlab_replacement\\scripts\\data_reduce.py\u001b[0m in \u001b[0;36mmeasure\u001b[1;34m(self)\u001b[0m\n\u001b[0;32m     18\u001b[0m         \u001b[1;32mdef\u001b[0m \u001b[0mmeasure\u001b[0m\u001b[1;33m(\u001b[0m\u001b[0mself\u001b[0m\u001b[1;33m)\u001b[0m\u001b[1;33m:\u001b[0m\u001b[1;33m\u001b[0m\u001b[0m\n\u001b[0;32m     19\u001b[0m                 \u001b[0mdata\u001b[0m \u001b[1;33m=\u001b[0m \u001b[0mself\u001b[0m\u001b[1;33m.\u001b[0m\u001b[0msource\u001b[0m\u001b[1;33m.\u001b[0m\u001b[0mmeasure\u001b[0m\u001b[1;33m(\u001b[0m\u001b[1;33m)\u001b[0m\u001b[1;33m\u001b[0m\u001b[0m\n\u001b[1;32m---> 20\u001b[1;33m                 \u001b[1;32mreturn\u001b[0m \u001b[1;33m{\u001b[0m \u001b[0mfilter_name\u001b[0m\u001b[1;33m:\u001b[0m\u001b[0mfilter\u001b[0m\u001b[1;33m[\u001b[0m\u001b[1;34m'filter'\u001b[0m\u001b[1;33m]\u001b[0m\u001b[1;33m(\u001b[0m\u001b[0mdata\u001b[0m\u001b[1;33m)\u001b[0m \u001b[1;32mfor\u001b[0m \u001b[0mfilter_name\u001b[0m\u001b[1;33m,\u001b[0m \u001b[0mfilter\u001b[0m \u001b[1;32min\u001b[0m \u001b[0mself\u001b[0m\u001b[1;33m.\u001b[0m\u001b[0mfilters\u001b[0m\u001b[1;33m.\u001b[0m\u001b[0mitems\u001b[0m\u001b[1;33m(\u001b[0m\u001b[1;33m)\u001b[0m\u001b[1;33m}\u001b[0m\u001b[1;33m\u001b[0m\u001b[0m\n\u001b[0m\u001b[0;32m     21\u001b[0m \u001b[1;33m\u001b[0m\u001b[0m\n\u001b[0;32m     22\u001b[0m         \u001b[1;32mdef\u001b[0m \u001b[0mget_opts\u001b[0m\u001b[1;33m(\u001b[0m\u001b[0mself\u001b[0m\u001b[1;33m)\u001b[0m\u001b[1;33m:\u001b[0m\u001b[1;33m\u001b[0m\u001b[0m\n",
      "\u001b[1;32mD:\\qtlab_replacement\\scripts\\data_reduce.py\u001b[0m in \u001b[0;36m<dictcomp>\u001b[1;34m(.0)\u001b[0m\n\u001b[0;32m     18\u001b[0m         \u001b[1;32mdef\u001b[0m \u001b[0mmeasure\u001b[0m\u001b[1;33m(\u001b[0m\u001b[0mself\u001b[0m\u001b[1;33m)\u001b[0m\u001b[1;33m:\u001b[0m\u001b[1;33m\u001b[0m\u001b[0m\n\u001b[0;32m     19\u001b[0m                 \u001b[0mdata\u001b[0m \u001b[1;33m=\u001b[0m \u001b[0mself\u001b[0m\u001b[1;33m.\u001b[0m\u001b[0msource\u001b[0m\u001b[1;33m.\u001b[0m\u001b[0mmeasure\u001b[0m\u001b[1;33m(\u001b[0m\u001b[1;33m)\u001b[0m\u001b[1;33m\u001b[0m\u001b[0m\n\u001b[1;32m---> 20\u001b[1;33m                 \u001b[1;32mreturn\u001b[0m \u001b[1;33m{\u001b[0m \u001b[0mfilter_name\u001b[0m\u001b[1;33m:\u001b[0m\u001b[0mfilter\u001b[0m\u001b[1;33m[\u001b[0m\u001b[1;34m'filter'\u001b[0m\u001b[1;33m]\u001b[0m\u001b[1;33m(\u001b[0m\u001b[0mdata\u001b[0m\u001b[1;33m)\u001b[0m \u001b[1;32mfor\u001b[0m \u001b[0mfilter_name\u001b[0m\u001b[1;33m,\u001b[0m \u001b[0mfilter\u001b[0m \u001b[1;32min\u001b[0m \u001b[0mself\u001b[0m\u001b[1;33m.\u001b[0m\u001b[0mfilters\u001b[0m\u001b[1;33m.\u001b[0m\u001b[0mitems\u001b[0m\u001b[1;33m(\u001b[0m\u001b[1;33m)\u001b[0m\u001b[1;33m}\u001b[0m\u001b[1;33m\u001b[0m\u001b[0m\n\u001b[0m\u001b[0;32m     21\u001b[0m \u001b[1;33m\u001b[0m\u001b[0m\n\u001b[0;32m     22\u001b[0m         \u001b[1;32mdef\u001b[0m \u001b[0mget_opts\u001b[0m\u001b[1;33m(\u001b[0m\u001b[0mself\u001b[0m\u001b[1;33m)\u001b[0m\u001b[1;33m:\u001b[0m\u001b[1;33m\u001b[0m\u001b[0m\n",
      "\u001b[1;32mD:\\qtlab_replacement\\scripts\\data_reduce.py\u001b[0m in \u001b[0;36m<lambda>\u001b[1;34m(x)\u001b[0m\n\u001b[0;32m     83\u001b[0m         \u001b[0mbg\u001b[0m  \u001b[1;33m=\u001b[0m \u001b[0mnp\u001b[0m\u001b[1;33m.\u001b[0m\u001b[0mreshape\u001b[0m\u001b[1;33m(\u001b[0m\u001b[0mbg\u001b[0m\u001b[1;33m,\u001b[0m \u001b[0mnew_feature_shape\u001b[0m\u001b[1;33m)\u001b[0m\u001b[1;33m\u001b[0m\u001b[0m\n\u001b[0;32m     84\u001b[0m         \u001b[0mfeature\u001b[0m \u001b[1;33m=\u001b[0m \u001b[0mnp\u001b[0m\u001b[1;33m.\u001b[0m\u001b[0mreshape\u001b[0m\u001b[1;33m(\u001b[0m\u001b[0mfeature\u001b[0m\u001b[1;33m,\u001b[0m \u001b[0mnew_feature_shape\u001b[0m\u001b[1;33m)\u001b[0m\u001b[1;33m\u001b[0m\u001b[0m\n\u001b[1;32m---> 85\u001b[1;33m \tfilter = {'filter': lambda x:np.sum((x[src_meas]-bg)*feature, axis=axis_mean),\n\u001b[0m\u001b[0;32m     86\u001b[0m                           \u001b[1;34m'get_points'\u001b[0m\u001b[1;33m:\u001b[0m \u001b[0mget_points\u001b[0m\u001b[1;33m,\u001b[0m\u001b[1;33m\u001b[0m\u001b[0m\n\u001b[0;32m     87\u001b[0m                           \u001b[1;34m'get_dtype'\u001b[0m\u001b[1;33m:\u001b[0m \u001b[1;33m(\u001b[0m\u001b[1;32mlambda\u001b[0m \u001b[1;33m:\u001b[0m \u001b[0msource\u001b[0m\u001b[1;33m.\u001b[0m\u001b[0mget_dtype\u001b[0m\u001b[1;33m(\u001b[0m\u001b[1;33m)\u001b[0m\u001b[1;33m[\u001b[0m\u001b[0msrc_meas\u001b[0m\u001b[1;33m]\u001b[0m\u001b[1;33m)\u001b[0m\u001b[1;33m,\u001b[0m\u001b[1;33m\u001b[0m\u001b[0m\n",
      "\u001b[1;31mKeyboardInterrupt\u001b[0m: "
     ]
    }
   ],
   "source": [
    "c_phase = 0\n",
    "c_n = 0\n",
    "\n",
    "adc.set_software_averages(1)\n",
    "adc.set_software_nums_multi(3)\n",
    "\n",
    "def set_n(n):\n",
    "    global c_n\n",
    "    global c_phase\n",
    "    c_n = n \n",
    "    y_pulse = [tomography.ex_gauss_hd(amp_x_hd*np.exp(1j*c_phase), amp_y_hd*np.exp(1j*c_phase), length_hd, sigma_hd, awg_channels, -200e6), tomography.pause(pause_length, awg_channels)]\n",
    "    tomo.set_prepare_seq(y_pulse*c_n)\n",
    "\n",
    "def set_y_phase(phase):\n",
    "    global c_n\n",
    "    global c_phase\n",
    "    c_phase = phase\n",
    "    y_pulse = [tomography.ex_gauss_hd(amp_x_hd*np.exp(1j*c_phase), amp_y_hd*np.exp(1j*c_phase), length_hd, sigma_hd, awg_channels, -200e6), tomography.pause(pause_length, awg_channels)]\n",
    "    tomo.set_prepare_seq(y_pulse*c_n)\n",
    "\n",
    "phases = np.linspace(np.pi/2.*0.8, np.pi/2.*1.2, 11, endpoint=False)\n",
    "num_pulses = np.arange(0,5)\n",
    "measurement = sweep.sweep(tomo, (phases, set_y_phase, 'y-pulse phase'), (num_pulses, set_n, 'y pulse num'), filename='y-phase', output=False)"
   ]
  },
  {
   "cell_type": "code",
   "execution_count": 73,
   "metadata": {},
   "outputs": [
    {
     "data": {
      "text/plain": [
       "1.6564761264382546"
      ]
     },
     "execution_count": 73,
     "metadata": {},
     "output_type": "execute_result"
    }
   ],
   "source": [
    "phases[7]"
   ]
  },
  {
   "cell_type": "code",
   "execution_count": 117,
   "metadata": {},
   "outputs": [
    {
     "name": "stderr",
     "output_type": "stream",
     "text": [
      "c:\\python36\\lib\\site-packages\\numpy\\core\\numeric.py:531: ComplexWarning: Casting complex values to real discards the imaginary part\n",
      "  return array(a, dtype, copy=False, order=order)\n"
     ]
    },
    {
     "data": {
      "text/plain": [
       "[<matplotlib.lines.Line2D at 0x22a80be0>,\n",
       " <matplotlib.lines.Line2D at 0x22a80da0>,\n",
       " <matplotlib.lines.Line2D at 0x22a80f98>]"
      ]
     },
     "execution_count": 117,
     "metadata": {},
     "output_type": "execute_result"
    }
   ],
   "source": [
    "plt.plot(np.asarray(results).T)"
   ]
  },
  {
   "cell_type": "code",
   "execution_count": 139,
   "metadata": {
    "collapsed": true
   },
   "outputs": [],
   "source": [
    "adc.stop()"
   ]
  },
  {
   "cell_type": "code",
   "execution_count": 88,
   "metadata": {
    "collapsed": true
   },
   "outputs": [],
   "source": [
    "plt.close()"
   ]
  },
  {
   "cell_type": "markdown",
   "metadata": {
    "collapsed": true
   },
   "source": [
    "# load calibration data"
   ]
  },
  {
   "cell_type": "code",
   "execution_count": 19,
   "metadata": {
    "collapsed": true
   },
   "outputs": [],
   "source": [
    "import pickle\n",
    "f0 = open('D:\\\\qtlab\\\\ReiData\\\\data\\\\2017-04-26\\\\13-11-46\\\\Voltage ro calibration.pkl', 'rb')\n",
    "f1 = open('D:\\\\qtlab\\\\ReiData\\\\data\\\\2017-04-26\\\\13-11-14\\\\Voltage ro calibration.pkl', 'rb')\n",
    "cal0 = pickle.load(f0)\n",
    "cal1 = pickle.load(f1)"
   ]
  },
  {
   "cell_type": "code",
   "execution_count": 20,
   "metadata": {
    "collapsed": true
   },
   "outputs": [],
   "source": [
    "import numpy as np\n",
    "import matplotlib.pyplot as plt\n",
    "%matplotlib qt4\n",
    "cal0_nomean = cal0[1]['Voltage'][2][0,:,:]-np.mean(cal0[1]['Voltage'][2][0,:,:])\n",
    "cal1_nomean = cal0[1]['Voltage'][2][1,:,:]-np.mean(cal0[1]['Voltage'][2][1,:,:])\n",
    "\n",
    "cal0_mean = np.mean(cal0_nomean, axis=0)\n",
    "cal1_mean = np.mean(cal1_nomean, axis=0)"
   ]
  },
  {
   "cell_type": "code",
   "execution_count": 21,
   "metadata": {},
   "outputs": [
    {
     "name": "stderr",
     "output_type": "stream",
     "text": [
      "c:\\python36\\lib\\site-packages\\numpy\\core\\numeric.py:531: ComplexWarning: Casting complex values to real discards the imaginary part\n",
      "  return array(a, dtype, copy=False, order=order)\n"
     ]
    },
    {
     "data": {
      "text/plain": [
       "<matplotlib.legend.Legend at 0x1c9e2ef0>"
      ]
     },
     "execution_count": 21,
     "metadata": {},
     "output_type": "execute_result"
    }
   ],
   "source": [
    "cal_mean = (cal0_mean+cal1_mean)/2.\n",
    "cal_diff = (cal1_mean-cal0_mean)\n",
    "\n",
    "plt.figure('Samples')\n",
    "plt.plot(np.mean(cal0_nomean, axis=0), label='|0>')\n",
    "plt.plot(np.mean(cal1_nomean, axis=0), label='|1>')\n",
    "plt.legend()\n",
    "\n",
    "plt.figure('Offset & feature')\n",
    "plt.plot(cal_mean, label='mean')\n",
    "plt.plot(cal_diff, label='diff')\n",
    "plt.legend()"
   ]
  },
  {
   "cell_type": "code",
   "execution_count": 22,
   "metadata": {
    "collapsed": true
   },
   "outputs": [],
   "source": [
    "plt.figure('Fourier domain')\n",
    "plt.plot(np.abs(np.fft.fft(cal0_mean)), label='|0>')\n",
    "plt.plot(np.abs(np.fft.fft(cal1_mean)), label='|1>') \n",
    "plt.plot(np.abs(np.fft.fft(cal_mean)), label='mean')\n",
    "plt.plot(np.abs(np.fft.fft(cal_diff)), label='diff')\n",
    "plt.legend()\n",
    "\n",
    "feature = np.conj(cal_diff/np.sum(np.abs(cal_diff**2)))"
   ]
  },
  {
   "cell_type": "code",
   "execution_count": 23,
   "metadata": {
    "collapsed": true
   },
   "outputs": [],
   "source": [
    "coeffs0 = np.dot(cal0_nomean-cal_mean, feature)\n",
    "coeffs1 = np.dot(cal1_nomean-cal_mean, feature)\n",
    "predictions = np.asarray([np.real(coeffs0), np.real(coeffs1)])"
   ]
  },
  {
   "cell_type": "code",
   "execution_count": 24,
   "metadata": {
    "collapsed": true
   },
   "outputs": [],
   "source": [
    "hist_all, bins = np.histogram(predictions, bins='auto')\n",
    "proba_points = (bins[1:]+bins[:-1])/2.\n",
    "hists = []\n",
    "for y in range(2):\n",
    "    hists.append(np.histogram(predictions[y,:], bins=bins)[0])\n",
    "\n",
    "hists = np.asarray(hists, dtype=float)\n",
    "probabilities = hists/hist_all\n",
    "naive_probabilities = np.asarray([proba_points<0, proba_points>0], dtype=float)\n",
    "probabilities[np.isnan(probabilities)] = naive_probabilities[np.isnan(probabilities)]\n",
    "predictor = lambda x: np.interp(x, proba_points, probabilities[1,:], left=0., right=1.)\n",
    "calib_proba_points = proba_points\n",
    "calib_proba = probabilities[1,:]\n",
    "calib_hists = hists"
   ]
  },
  {
   "cell_type": "code",
   "execution_count": 25,
   "metadata": {
    "collapsed": true
   },
   "outputs": [],
   "source": [
    "from sklearn.metrics import roc_curve, roc_auc_score\n",
    "roc = roc_curve([0]*coeffs0.size+[1]*coeffs0.size, predictor(predictions.ravel()))\n",
    "roc_auc = roc_auc_score([0]*coeffs0.size+[1]*coeffs0.size, predictor(predictions.ravel()))"
   ]
  },
  {
   "cell_type": "code",
   "execution_count": 44,
   "metadata": {},
   "outputs": [
    {
     "data": {
      "text/plain": [
       "0.74963895749999998"
      ]
     },
     "execution_count": 44,
     "metadata": {},
     "output_type": "execute_result"
    }
   ],
   "source": [
    "plt.figure('ROC')\n",
    "plt.plot(roc[0], roc[1])\n",
    "plt.xlabel('True Positive Rate')\n",
    "plt.ylabel('True Negative Rate')\n",
    "roc_auc"
   ]
  },
  {
   "cell_type": "code",
   "execution_count": 27,
   "metadata": {},
   "outputs": [
    {
     "data": {
      "text/plain": [
       "[<matplotlib.lines.Line2D at 0x1c4050b8>]"
      ]
     },
     "execution_count": 27,
     "metadata": {},
     "output_type": "execute_result"
    }
   ],
   "source": [
    "plt.figure('probability curve')\n",
    "plt.plot(calib_proba_points, calib_proba)"
   ]
  },
  {
   "cell_type": "code",
   "execution_count": 41,
   "metadata": {},
   "outputs": [
    {
     "data": {
      "text/plain": [
       "<matplotlib.legend.Legend at 0x2345dc18>"
      ]
     },
     "execution_count": 41,
     "metadata": {},
     "output_type": "execute_result"
    }
   ],
   "source": [
    "plt.figure('Readout hists')\n",
    "plt.bar(proba_points-0.25, hists[0], width=0.05, label='|0>')\n",
    "plt.bar(proba_points+0.25, hists[1], width=0.05, label='|1>')\n",
    "plt.legend()"
   ]
  },
  {
   "cell_type": "code",
   "execution_count": null,
   "metadata": {
    "collapsed": true
   },
   "outputs": [],
   "source": [
    "plt.close()"
   ]
  },
  {
   "cell_type": "code",
   "execution_count": 62,
   "metadata": {},
   "outputs": [
    {
     "data": {
      "text/plain": [
       "(20000, 1024)"
      ]
     },
     "execution_count": 62,
     "metadata": {},
     "output_type": "execute_result"
    }
   ],
   "source": [
    "cal0_nomean.shape"
   ]
  },
  {
   "cell_type": "code",
   "execution_count": 76,
   "metadata": {},
   "outputs": [
    {
     "data": {
      "text/plain": [
       "<matplotlib.image.AxesImage at 0x3cb96470>"
      ]
     },
     "execution_count": 76,
     "metadata": {},
     "output_type": "execute_result"
    }
   ],
   "source": [
    "plt.figure(figsize=(12,3))\n",
    "plt.imshow(np.sum(np.real(np.reshape(cal0_nomean, (200, 100, 1024))), axis=0), cmap='RdBu')\n",
    "plt.figure(figsize=(12,3))\n",
    "plt.imshow(np.sum(np.real(np.reshape(cal1_nomean, (200, 100, 1024))), axis=0), cmap='RdBu')"
   ]
  },
  {
   "cell_type": "code",
   "execution_count": 57,
   "metadata": {},
   "outputs": [
    {
     "name": "stderr",
     "output_type": "stream",
     "text": [
      "c:\\python36\\lib\\site-packages\\numpy\\core\\numeric.py:531: ComplexWarning: Casting complex values to real discards the imaginary part\n",
      "  return array(a, dtype, copy=False, order=order)\n"
     ]
    },
    {
     "data": {
      "text/plain": [
       "[<matplotlib.lines.Line2D at 0x377d0978>]"
      ]
     },
     "execution_count": 57,
     "metadata": {},
     "output_type": "execute_result"
    }
   ],
   "source": [
    "plt.plot(np.mean(cal0_nomean, axis=0))\n",
    "plt.plot(np.mean(cal1_nomean, axis=0))"
   ]
  },
  {
   "cell_type": "code",
   "execution_count": null,
   "metadata": {
    "collapsed": true
   },
   "outputs": [],
   "source": []
  }
 ],
 "metadata": {
  "kernelspec": {
   "display_name": "Python 3",
   "language": "python",
   "name": "python3"
  },
  "language_info": {
   "codemirror_mode": {
    "name": "ipython",
    "version": 3
   },
   "file_extension": ".py",
   "mimetype": "text/x-python",
   "name": "python",
   "nbconvert_exporter": "python",
   "pygments_lexer": "ipython3",
   "version": "3.6.1"
  }
 },
 "nbformat": 4,
 "nbformat_minor": 1
}
