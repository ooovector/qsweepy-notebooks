{
 "cells": [
  {
   "cell_type": "code",
   "execution_count": 1,
   "metadata": {},
   "outputs": [
    {
     "name": "stdout",
     "output_type": "stream",
     "text": [
      "Failed loading module AWG500:  No module named 'ftd2xx'\n",
      "Failed loading module Labbrick:  [WinError 126] The specified module could not be found\n",
      "\n",
      "Failed loading module Signal_Hound_SA:  name 'signal_hound_dll' is not defined\n"
     ]
    }
   ],
   "source": [
    "from qsweepy import *\n",
    "from qsweepy.instruments import *\n",
    "import matplotlib.pyplot as plt"
   ]
  },
  {
   "cell_type": "code",
   "execution_count": 2,
   "metadata": {},
   "outputs": [],
   "source": [
    "CHASSIS = 0\n",
    "SLOT_AWG1 = 4\n",
    "SLOT_AWG2 = 5\n",
    "adc = instruments.Spectrum_M4i22xx('adc')\n",
    "awg1 = Keysight_M3202A_S('awg1', CHASSIS, SLOT_AWG1)\n",
    "awg2 = Keysight_M3202A_S('awg2', CHASSIS, SLOT_AWG2)"
   ]
  },
  {
   "cell_type": "code",
   "execution_count": 3,
   "metadata": {},
   "outputs": [],
   "source": [
    "# channel 0 is master and triggers all others\n",
    "awg1.trigger_source_types = [6, 6,6,6] #Trigger source (soft,hard etc) 6  external per cycle, 0 -soft (from PC)\n",
    "awg1.trigger_source_channels = [4000, 4000,4000,4000] #External trigger source. 0 means PXI trigger, 4000+\n",
    "awg1.trigger_delays = [0, 0,0,0] # master channel should wait 400 ns for others to start\n",
    "awg1.trigger_behaviours = [4,4,4,4] #Rising/Falling edge etc 4 - Falling"
   ]
  },
  {
   "cell_type": "code",
   "execution_count": 4,
   "metadata": {},
   "outputs": [],
   "source": [
    "wf = np.sin(np.linspace(-np.pi,np.pi,awg1.get_nop(), endpoint=False)*100)*np.sin(np.linspace(-np.pi,np.pi,awg1.get_nop(), endpoint=False)*200)\n",
    "wf_d = np.asarray(wf).tolist()\n",
    "awg2.trigger_source_types = [0,6,6,6]\n",
    "awg2.trigger_source_channels = [0, 4000,4000,4000]\n",
    "awg2.trigger_delays = [40, 0,0,0]\n",
    "awg2.trigger_behaviours = [0,4,4,4]\n",
    "awg2.set_trigger_mode(2)\n",
    "for channel in range(0,4):\n",
    "    awg2.set_amplitude(0.2, channel=channel)\n",
    "    awg2.set_offset(0.0,channel=channel)\n",
    "    awg2.set_output(1, channel=channel)\n",
    "    awg2.set_waveform(waveform = wf_d, channel=channel)\n",
    "for channel in range(0,4):\n",
    "    awg1.set_amplitude(0.2, channel=channel)\n",
    "    awg1.set_offset(0.0,channel=channel)\n",
    "    awg1.set_output(1, channel=channel)\n",
    "    awg1.set_waveform(waveform = wf_d, channel=channel)\n",
    "awg2.set_marker(length=10, delay=0, channel=0)\n",
    "awg2.run()\n",
    "awg1.run()"
   ]
  },
  {
   "cell_type": "code",
   "execution_count": 20,
   "metadata": {},
   "outputs": [],
   "source": [
    "#Внутренний clock, без триггера\n",
    "adc.reset()"
   ]
  },
  {
   "cell_type": "code",
   "execution_count": 26,
   "metadata": {},
   "outputs": [],
   "source": [
    "#Установить sample rate и clock source\n",
    "adc.set_clock_mode('pxi')\n",
    "adc.set_clock(1.25e9)\n",
    "# Настроить каналы\n",
    "adc.select_channel01()\n",
    "adc.set_channel01_amps(200,200)\n",
    "#Установить триггер\n",
    "adc.set_ext_trigger()\n",
    "adc.set_ext_trigger_mode(1)\n",
    "adc.set_posttrigger(32)\n",
    "adc.set_trigger_delay(64*adc._get_param(SPC_SAMPLERATE))"
   ]
  },
  {
   "cell_type": "code",
   "execution_count": 27,
   "metadata": {},
   "outputs": [],
   "source": [
    "#Настроить режим измерения\n",
    "adc.set_multi_record_mode()\n",
    "adc.set_nop(4096)\n",
    "adc.set_nums(10)"
   ]
  },
  {
   "cell_type": "code",
   "execution_count": 28,
   "metadata": {},
   "outputs": [],
   "source": [
    "adc._buffer_setup()"
   ]
  },
  {
   "cell_type": "code",
   "execution_count": 29,
   "metadata": {},
   "outputs": [],
   "source": [
    "adc.start()"
   ]
  },
  {
   "cell_type": "code",
   "execution_count": 30,
   "metadata": {},
   "outputs": [],
   "source": [
    "data = adc.get_data()"
   ]
  },
  {
   "cell_type": "code",
   "execution_count": 31,
   "metadata": {},
   "outputs": [
    {
     "name": "stdout",
     "output_type": "stream",
     "text": [
      "Using matplotlib backend: Qt5Agg\n"
     ]
    },
    {
     "data": {
      "text/plain": [
       "[<matplotlib.lines.Line2D at 0x1995efd39b0>]"
      ]
     },
     "execution_count": 31,
     "metadata": {},
     "output_type": "execute_result"
    }
   ],
   "source": [
    "%matplotlib\n",
    "plt.plot(data[0][0])\n",
    "plt.plot(data[0][1])"
   ]
  },
  {
   "cell_type": "code",
   "execution_count": null,
   "metadata": {},
   "outputs": [],
   "source": []
  }
 ],
 "metadata": {
  "kernelspec": {
   "display_name": "Python 3",
   "language": "python",
   "name": "python3"
  },
  "language_info": {
   "codemirror_mode": {
    "name": "ipython",
    "version": 3
   },
   "file_extension": ".py",
   "mimetype": "text/x-python",
   "name": "python",
   "nbconvert_exporter": "python",
   "pygments_lexer": "ipython3",
   "version": "3.6.5"
  }
 },
 "nbformat": 4,
 "nbformat_minor": 2
}
