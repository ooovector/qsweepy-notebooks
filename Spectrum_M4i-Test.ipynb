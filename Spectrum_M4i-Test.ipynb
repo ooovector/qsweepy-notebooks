{
 "cells": [
  {
   "cell_type": "code",
   "execution_count": 2,
   "metadata": {},
   "outputs": [],
   "source": [
    "from qsweepy import *\n",
    "from qsweepy.instruments import *\n",
    "\n",
    "import matplotlib.pyplot as plt"
   ]
  },
  {
   "cell_type": "code",
   "execution_count": 2,
   "metadata": {},
   "outputs": [],
   "source": [
    "adc = instruments.Spectrum_M4i22xx('adc')"
   ]
  },
  {
   "cell_type": "code",
   "execution_count": 3,
   "metadata": {},
   "outputs": [],
   "source": [
    "CHASSIS = 0\n",
    "SLOT_AWG1 = 4\n",
    "SLOT_AWG2 = 5\n",
    "awg1 = Keysight_M3202A_S('awg1', CHASSIS, SLOT_AWG1)\n",
    "awg2 = Keysight_M3202A_S('awg2', CHASSIS, SLOT_AWG2)"
   ]
  },
  {
   "cell_type": "code",
   "execution_count": 4,
   "metadata": {},
   "outputs": [],
   "source": [
    "adc._spcm_win32.spcm_dwGetContBuf_i64?"
   ]
  },
  {
   "cell_type": "code",
   "execution_count": 5,
   "metadata": {},
   "outputs": [],
   "source": [
    "awg1.set_clock_output(True)\n",
    "awg2.set_clock_output(True)\n",
    "awg1.set_clock(625e6)\n",
    "awg2.set_clock(625e6)"
   ]
  },
  {
   "cell_type": "code",
   "execution_count": 6,
   "metadata": {},
   "outputs": [],
   "source": [
    "# channel 0 is master and triggers all others\n",
    "awg1.trigger_source_types = [6, 6,6,6] #Trigger source (soft,hard etc) 6  external per cycle, 0 -soft (from PC)\n",
    "awg1.trigger_source_channels = [4000, 4000,4000,4000] #External trigger source. 0 means PXI trigger, 4000+\n",
    "awg1.trigger_delays = [0, 0,0,0] # master channel should wait 400 ns for others to start\n",
    "awg1.trigger_behaviours = [4,4,4,4] #Rising/Falling edge etc 4 - Falling"
   ]
  },
  {
   "cell_type": "code",
   "execution_count": 13,
   "metadata": {},
   "outputs": [],
   "source": [
    "wf = np.sin(np.linspace(-np.pi,np.pi,awg1.get_nop(), endpoint=False)*100)*np.sin(np.linspace(-np.pi,np.pi,awg1.get_nop(), endpoint=False)*200)\n",
    "wf_d = np.asarray(wf).tolist()\n",
    "awg2.trigger_source_types = [6,6,6,6]\n",
    "awg2.trigger_source_channels = [4000, 4000,4000,4000]\n",
    "awg2.trigger_delays = [0, 0,0,0]\n",
    "awg2.trigger_behaviours = [4,4,4,4]\n",
    "awg1.trigger_source_types = [0,6,6,6]\n",
    "awg1.trigger_source_channels = [0, 4000,4000,4000]\n",
    "awg1.trigger_delays = [40, 0,0,0]\n",
    "awg1.trigger_behaviours = [0,4,4,4]\n",
    "\n",
    "for channel in range(0,4):\n",
    "    awg2.set_amplitude(0.2, channel=channel)\n",
    "    awg2.set_offset(0,channel=channel)\n",
    "    awg2.set_output(1, channel=channel)\n",
    "    awg2.set_waveform(waveform = wf_d, channel=channel)\n",
    "for channel in range(0,4):\n",
    "    awg1.set_amplitude(0.2, channel=channel)\n",
    "    awg1.set_offset(0,channel=channel)\n",
    "    awg1.set_output(1, channel=channel)\n",
    "    awg1.set_waveform(waveform = wf_d, channel=channel)\n",
    "awg2.set_marker(length=100, delay=0, channel=0)\n",
    "awg2.set_trigger_mode(2)\n",
    "awg2.run()\n",
    "awg1.run()"
   ]
  },
  {
   "cell_type": "code",
   "execution_count": 4,
   "metadata": {},
   "outputs": [
    {
     "data": {
      "text/plain": [
       "0.2"
      ]
     },
     "execution_count": 4,
     "metadata": {},
     "output_type": "execute_result"
    }
   ],
   "source": [
    "awg1.get_offset(1)"
   ]
  },
  {
   "cell_type": "code",
   "execution_count": 8,
   "metadata": {},
   "outputs": [
    {
     "name": "stdout",
     "output_type": "stream",
     "text": [
      "Using matplotlib backend: Qt5Agg\n"
     ]
    }
   ],
   "source": [
    "%matplotlib"
   ]
  },
  {
   "cell_type": "code",
   "execution_count": 24,
   "metadata": {},
   "outputs": [
    {
     "data": {
      "text/plain": [
       "[<matplotlib.lines.Line2D at 0x14a44364588>]"
      ]
     },
     "execution_count": 24,
     "metadata": {},
     "output_type": "execute_result"
    }
   ],
   "source": [
    "plt.plot(wf_d)"
   ]
  },
  {
   "cell_type": "code",
   "execution_count": 9,
   "metadata": {},
   "outputs": [
    {
     "data": {
      "text/plain": [
       "1000"
      ]
     },
     "execution_count": 9,
     "metadata": {},
     "output_type": "execute_result"
    }
   ],
   "source": [
    "adc.set_timeout(1000)\n",
    "adc.get_timeout()"
   ]
  },
  {
   "cell_type": "code",
   "execution_count": 10,
   "metadata": {},
   "outputs": [],
   "source": [
    "#Внутренний clock, без триггера\n",
    "adc.reset()\n",
    "#Установить sample rate\n",
    "adc.set_clock(625e6)\n",
    "adc.set_clock_mode('ext')\n",
    "adc.set_ext_clock(625e6)\n",
    "#Выбрать канал (оба)\n",
    "adc.select_channel01()\n",
    "\n",
    "adc.set_trigger_ext0_level0(0) # logical 0 value to 200 mV\n",
    "adc.set_trigger_ext0_level1(1300) # logical 1 value to 600 mV\n",
    "adc.trigger_mode_pos()\n",
    "adc.set_trigger_ext0_pulsewidth(0)\n",
    "\n",
    "adc.set_trigger_ext0()\n",
    "adc.set_trigger_termination(1)\n",
    "#Сегментированный режим\n",
    "#adc.set_multi_mode()\n",
    "#Настроить входнй диапазон в мв\n",
    "#adc.init_channel01_multiple_recording()\n",
    "#Настроить режим измерения\n",
    "adc.set_multi_record_mode()\n",
    "adc.set_nop(1024)\n",
    "adc.set_nums(20000)\n",
    "adc.set_posttrigger(1024-32)\n",
    "adc._buffer_setup()\n",
    "#Померить\n",
    "#adc.start()\n",
    "#Получить данные\n",
    "#daq_buf = adc.get_data()\n",
    "#adc.stop()"
   ]
  },
  {
   "cell_type": "code",
   "execution_count": 11,
   "metadata": {},
   "outputs": [
    {
     "name": "stderr",
     "output_type": "stream",
     "text": [
      "ERROR:root:Spectrum_M4i22xx : Error 268 while setting reg 100 to 147468\n",
      "ERROR:root:Spectrum_M4i22xx : Call: (SPC_M2CMD, M2CMD_CARD_START | M2CMD_CARD_ENABLETRIGGER | M2CMD_CARD_WAITREADY | M2CMD_DATA_WAITDMA) -> clock section not locked: perhaps no external clock signal connected or not stable\u0000\u0000\u0000\u0000\u0000\u0000\u0000\u0000\n"
     ]
    },
    {
     "ename": "ValueError",
     "evalue": "Error communicating with device",
     "output_type": "error",
     "traceback": [
      "\u001b[1;31m---------------------------------------------------------------------------\u001b[0m",
      "\u001b[1;31mValueError\u001b[0m                                Traceback (most recent call last)",
      "\u001b[1;32m<timed exec>\u001b[0m in \u001b[0;36m<module>\u001b[1;34m()\u001b[0m\n",
      "\u001b[1;32mC:\\qtlab_replacement\\qsweepy\\instrument_drivers\\Spectrum_M4i22xx.py\u001b[0m in \u001b[0;36mmeasure\u001b[1;34m(self)\u001b[0m\n\u001b[0;32m    552\u001b[0m                         \u001b[1;32mfor\u001b[0m \u001b[0mj\u001b[0m \u001b[1;32min\u001b[0m \u001b[0mrange\u001b[0m\u001b[1;33m(\u001b[0m\u001b[0mself\u001b[0m\u001b[1;33m.\u001b[0m\u001b[0msoftware_nums_multi\u001b[0m\u001b[1;33m)\u001b[0m\u001b[1;33m:\u001b[0m\u001b[1;33m\u001b[0m\u001b[0m\n\u001b[0;32m    553\u001b[0m                                 \u001b[1;31m#print ('Start hardware readout')\u001b[0m\u001b[1;33m\u001b[0m\u001b[1;33m\u001b[0m\u001b[0m\n\u001b[1;32m--> 554\u001b[1;33m                                 \u001b[0mself\u001b[0m\u001b[1;33m.\u001b[0m\u001b[0mstart\u001b[0m\u001b[1;33m(\u001b[0m\u001b[1;33m)\u001b[0m\u001b[1;33m\u001b[0m\u001b[0m\n\u001b[0m\u001b[0;32m    555\u001b[0m                                 \u001b[1;31m#print ('Get data bin')\u001b[0m\u001b[1;33m\u001b[0m\u001b[1;33m\u001b[0m\u001b[0m\n\u001b[0;32m    556\u001b[0m                                 \u001b[0mdata\u001b[0m\u001b[1;33m[\u001b[0m\u001b[1;33m:\u001b[0m\u001b[1;33m,\u001b[0m\u001b[0mj\u001b[0m\u001b[1;33m*\u001b[0m\u001b[0mlnumber_of_segments\u001b[0m\u001b[1;33m:\u001b[0m\u001b[1;33m(\u001b[0m\u001b[0mj\u001b[0m\u001b[1;33m+\u001b[0m\u001b[1;36m1\u001b[0m\u001b[1;33m)\u001b[0m\u001b[1;33m*\u001b[0m\u001b[0mlnumber_of_segments\u001b[0m\u001b[1;33m,\u001b[0m\u001b[1;33m:\u001b[0m\u001b[1;33m]\u001b[0m \u001b[1;33m=\u001b[0m \u001b[0mself\u001b[0m\u001b[1;33m.\u001b[0m\u001b[0mget_data_bin\u001b[0m\u001b[1;33m(\u001b[0m\u001b[1;33m)\u001b[0m\u001b[1;33m/\u001b[0m\u001b[0mfloat\u001b[0m\u001b[1;33m(\u001b[0m\u001b[0mself\u001b[0m\u001b[1;33m.\u001b[0m\u001b[0msoftware_averages\u001b[0m\u001b[1;33m)\u001b[0m\u001b[1;33m\u001b[0m\u001b[0m\n",
      "\u001b[1;32mC:\\qtlab_replacement\\qsweepy\\instrument_drivers\\Spectrum_M4i22xx.py\u001b[0m in \u001b[0;36mstart\u001b[1;34m(self)\u001b[0m\n\u001b[0;32m    350\u001b[0m                 \u001b[0mlogging\u001b[0m\u001b[1;33m.\u001b[0m\u001b[0mdebug\u001b[0m\u001b[1;33m(\u001b[0m\u001b[0m__name__\u001b[0m\u001b[1;33m+\u001b[0m \u001b[1;34m' :Start the board and waiting trigger'\u001b[0m\u001b[1;33m)\u001b[0m\u001b[1;33m\u001b[0m\u001b[0m\n\u001b[0;32m    351\u001b[0m                 \u001b[0mself\u001b[0m\u001b[1;33m.\u001b[0m\u001b[0m_buffer_setup\u001b[0m\u001b[1;33m(\u001b[0m\u001b[1;33m)\u001b[0m\u001b[1;33m\u001b[0m\u001b[0m\n\u001b[1;32m--> 352\u001b[1;33m                 \u001b[0mself\u001b[0m\u001b[1;33m.\u001b[0m\u001b[0m_set_param\u001b[0m\u001b[1;33m(\u001b[0m\u001b[0mSPC_M2CMD\u001b[0m\u001b[1;33m,\u001b[0m \u001b[0mM2CMD_CARD_START\u001b[0m \u001b[1;33m|\u001b[0m \u001b[0mM2CMD_CARD_ENABLETRIGGER\u001b[0m \u001b[1;33m|\u001b[0m \u001b[0mM2CMD_CARD_WAITREADY\u001b[0m \u001b[1;33m|\u001b[0m \u001b[0mM2CMD_DATA_WAITDMA\u001b[0m\u001b[1;33m)\u001b[0m\u001b[1;33m\u001b[0m\u001b[0m\n\u001b[0m\u001b[0;32m    353\u001b[0m \u001b[1;33m\u001b[0m\u001b[0m\n\u001b[0;32m    354\u001b[0m         \u001b[1;32mdef\u001b[0m \u001b[0mstop\u001b[0m\u001b[1;33m(\u001b[0m\u001b[0mself\u001b[0m\u001b[1;33m)\u001b[0m\u001b[1;33m:\u001b[0m\u001b[1;33m\u001b[0m\u001b[0m\n",
      "\u001b[1;32mC:\\qtlab_replacement\\qsweepy\\instrument_drivers\\Spectrum_M4i22xx.py\u001b[0m in \u001b[0;36m_set_param\u001b[1;34m(self, regnum, regval)\u001b[0m\n\u001b[0;32m    180\u001b[0m                         \u001b[0mlogging\u001b[0m\u001b[1;33m.\u001b[0m\u001b[0merror\u001b[0m\u001b[1;33m(\u001b[0m\u001b[0m__name__\u001b[0m \u001b[1;33m+\u001b[0m \u001b[1;34m' : Error %s while setting reg %s to %s'\u001b[0m \u001b[1;33m%\u001b[0m \u001b[1;33m(\u001b[0m\u001b[0merr\u001b[0m\u001b[1;33m,\u001b[0m \u001b[0mregnum\u001b[0m\u001b[1;33m,\u001b[0m \u001b[0mregval\u001b[0m\u001b[1;33m)\u001b[0m\u001b[1;33m)\u001b[0m\u001b[1;33m\u001b[0m\u001b[0m\n\u001b[0;32m    181\u001b[0m                         \u001b[0mself\u001b[0m\u001b[1;33m.\u001b[0m\u001b[0m_get_error\u001b[0m\u001b[1;33m(\u001b[0m\u001b[1;33m)\u001b[0m\u001b[1;33m\u001b[0m\u001b[0m\n\u001b[1;32m--> 182\u001b[1;33m                         \u001b[1;32mraise\u001b[0m \u001b[0mValueError\u001b[0m\u001b[1;33m(\u001b[0m\u001b[1;34m'Error communicating with device'\u001b[0m\u001b[1;33m)\u001b[0m\u001b[1;33m\u001b[0m\u001b[0m\n\u001b[0m\u001b[0;32m    183\u001b[0m \u001b[1;33m\u001b[0m\u001b[0m\n\u001b[0;32m    184\u001b[0m         \u001b[1;32mdef\u001b[0m \u001b[0m_get_param\u001b[0m\u001b[1;33m(\u001b[0m\u001b[0mself\u001b[0m\u001b[1;33m,\u001b[0m \u001b[0mregnum\u001b[0m\u001b[1;33m)\u001b[0m\u001b[1;33m:\u001b[0m\u001b[1;33m\u001b[0m\u001b[0m\n",
      "\u001b[1;31mValueError\u001b[0m: Error communicating with device"
     ]
    }
   ],
   "source": [
    "%time data = adc.measure()"
   ]
  },
  {
   "cell_type": "code",
   "execution_count": 35,
   "metadata": {},
   "outputs": [
    {
     "data": {
      "text/plain": [
       "{'Voltage': array([[ 0.+0.j, -2.-3.j,  3.+0.j, ...,  0.-1.j, -4.-2.j,  1.+3.j],\n",
       "        [-3.-1.j, -3.+0.j, -2.-3.j, ..., -1.+1.j,  2.+0.j, -3.-1.j],\n",
       "        [ 3.+1.j,  3.-4.j,  4.+1.j, ..., -3.+0.j, -3.+0.j, -2.+2.j],\n",
       "        ...,\n",
       "        [-2.-1.j,  0.-3.j,  1.-2.j, ...,  5.+4.j,  1.+3.j, -2.+1.j],\n",
       "        [ 1.+1.j,  1.-2.j,  1.-2.j, ...,  1.+3.j,  2.+0.j,  0.+4.j],\n",
       "        [-1.+0.j, -2.+1.j,  1.+0.j, ..., -1.+0.j,  0.+3.j,  3.+0.j]])}"
      ]
     },
     "execution_count": 35,
     "metadata": {},
     "output_type": "execute_result"
    }
   ],
   "source": [
    "#data['Voltage'].shape\n",
    "data"
   ]
  },
  {
   "cell_type": "code",
   "execution_count": 36,
   "metadata": {},
   "outputs": [
    {
     "name": "stderr",
     "output_type": "stream",
     "text": [
      "C:\\ProgramData\\Anaconda3\\lib\\site-packages\\numpy\\core\\numeric.py:492: ComplexWarning: Casting complex values to real discards the imaginary part\n",
      "  return array(a, dtype, copy=False, order=order)\n"
     ]
    },
    {
     "data": {
      "text/plain": [
       "[<matplotlib.lines.Line2D at 0x1d48002b6d8>]"
      ]
     },
     "execution_count": 36,
     "metadata": {},
     "output_type": "execute_result"
    },
    {
     "data": {
      "image/png": "[encoded data removed]",
      "text/plain": [
       "<Figure size 432x288 with 1 Axes>"
      ]
     },
     "metadata": {},
     "output_type": "display_data"
    }
   ],
   "source": [
    "plt.plot(np.mean(data['Voltage'], axis=0))"
   ]
  },
  {
   "cell_type": "code",
   "execution_count": 12,
   "metadata": {},
   "outputs": [
    {
     "name": "stderr",
     "output_type": "stream",
     "text": [
      "C:\\ProgramData\\Anaconda3\\lib\\site-packages\\numpy\\core\\numeric.py:492: ComplexWarning: Casting complex values to real discards the imaginary part\n",
      "  return array(a, dtype, copy=False, order=order)\n"
     ]
    }
   ],
   "source": [
    "%matplotlib qt5\n",
    "plt.plot(data['Voltage'][0])\n",
    "plt.plot(data1['Voltage'][0])\n",
    "plt.show()"
   ]
  },
  {
   "cell_type": "code",
   "execution_count": 13,
   "metadata": {},
   "outputs": [],
   "source": []
  },
  {
   "cell_type": "code",
   "execution_count": 16,
   "metadata": {},
   "outputs": [],
   "source": [
    "adc._buffer_setup()"
   ]
  },
  {
   "cell_type": "code",
   "execution_count": 14,
   "metadata": {},
   "outputs": [],
   "source": [
    "adc.start()"
   ]
  },
  {
   "cell_type": "code",
   "execution_count": 15,
   "metadata": {},
   "outputs": [],
   "source": [
    "data = adc.get_data()"
   ]
  },
  {
   "cell_type": "code",
   "execution_count": 17,
   "metadata": {},
   "outputs": [
    {
     "name": "stdout",
     "output_type": "stream",
     "text": [
      "Using matplotlib backend: Qt5Agg\n"
     ]
    },
    {
     "data": {
      "text/plain": [
       "[<matplotlib.lines.Line2D at 0x28ab000eba8>]"
      ]
     },
     "execution_count": 17,
     "metadata": {},
     "output_type": "execute_result"
    }
   ],
   "source": [
    "%matplotlib\n",
    "plt.plot(data[0][0])\n",
    "plt.plot(data[0][1])"
   ]
  },
  {
   "cell_type": "code",
   "execution_count": 14,
   "metadata": {},
   "outputs": [
    {
     "data": {
      "text/plain": [
       "0"
      ]
     },
     "execution_count": 14,
     "metadata": {},
     "output_type": "execute_result"
    }
   ],
   "source": [
    "adc._set_param(SPC_SEGMENTSIZE,4096)\n",
    "adc._set_param(SPC_POSTTRIGGER,4096-32)"
   ]
  },
  {
   "cell_type": "code",
   "execution_count": 15,
   "metadata": {},
   "outputs": [],
   "source": [
    "adc.start()"
   ]
  },
  {
   "cell_type": "code",
   "execution_count": 20,
   "metadata": {},
   "outputs": [
    {
     "data": {
      "text/plain": [
       "10"
      ]
     },
     "execution_count": 20,
     "metadata": {},
     "output_type": "execute_result"
    }
   ],
   "source": [
    "len(adc.measure()['Voltage'])"
   ]
  },
  {
   "cell_type": "code",
   "execution_count": 21,
   "metadata": {},
   "outputs": [
    {
     "ename": "AttributeError",
     "evalue": "'tuple' object has no attribute 'shape'",
     "output_type": "error",
     "traceback": [
      "\u001b[1;31m---------------------------------------------------------------------------\u001b[0m",
      "\u001b[1;31mAttributeError\u001b[0m                            Traceback (most recent call last)",
      "\u001b[1;32m<ipython-input-21-047ed65ff157>\u001b[0m in \u001b[0;36m<module>\u001b[1;34m()\u001b[0m\n\u001b[1;32m----> 1\u001b[1;33m \u001b[0mdata\u001b[0m\u001b[1;33m.\u001b[0m\u001b[0mshape\u001b[0m\u001b[1;33m\u001b[0m\u001b[0m\n\u001b[0m",
      "\u001b[1;31mAttributeError\u001b[0m: 'tuple' object has no attribute 'shape'"
     ]
    }
   ],
   "source": [
    "data.shape"
   ]
  },
  {
   "cell_type": "code",
   "execution_count": 22,
   "metadata": {},
   "outputs": [
    {
     "name": "stdout",
     "output_type": "stream",
     "text": [
      "Using matplotlib backend: Qt5Agg\n"
     ]
    },
    {
     "data": {
      "text/plain": [
       "[<matplotlib.lines.Line2D at 0x28ab05ea898>]"
      ]
     },
     "execution_count": 22,
     "metadata": {},
     "output_type": "execute_result"
    }
   ],
   "source": [
    "import numpy as np\n",
    "%matplotlib\n",
    "data = adc.measure()['Voltage']\n",
    "data_re = [np.real(i) for i in data[0]]\n",
    "data_im = [np.imag(i) for i in data[0]]\n",
    "plt.plot(data_re)\n",
    "plt.plot(data_im)"
   ]
  },
  {
   "cell_type": "code",
   "execution_count": null,
   "metadata": {},
   "outputs": [],
   "source": []
  }
 ],
 "metadata": {
  "kernelspec": {
   "display_name": "Python 3",
   "language": "python",
   "name": "python3"
  },
  "language_info": {
   "codemirror_mode": {
    "name": "ipython",
    "version": 3
   },
   "file_extension": ".py",
   "mimetype": "text/x-python",
   "name": "python",
   "nbconvert_exporter": "python",
   "pygments_lexer": "ipython3",
   "version": "3.6.5"
  },
  "toc": {
   "base_numbering": 1,
   "nav_menu": {},
   "number_sections": true,
   "sideBar": true,
   "skip_h1_title": false,
   "title_cell": "Table of Contents",
   "title_sidebar": "Contents",
   "toc_cell": false,
   "toc_position": {},
   "toc_section_display": true,
   "toc_window_display": false
  }
 },
 "nbformat": 4,
 "nbformat_minor": 2
}
